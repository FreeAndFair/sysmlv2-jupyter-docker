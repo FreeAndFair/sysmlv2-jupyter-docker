{
 "cells": [
  {
   "cell_type": "markdown",
   "id": "later-stable",
   "metadata": {},
   "source": [
    "# SysML v2 Test Suite\n",
    "\n",
    "This can notebook can be cleared using menu `Edit --> Clear All Outputs` and then all cells can be\n",
    "run using menu `Run --> Run All Cells`.\n",
    "\n",
    "**WARNING**: This file is generated, all modifications here will be ignored.\n"
   ]
  },
  {
   "cell_type": "markdown",
   "id": "monetary-shift",
   "metadata": {},
   "source": [
    "## File: ../../sysml/src/examples/Simple Tests/ConjugationTest.sysml"
   ]
  },
  {
   "cell_type": "code",
   "execution_count": 1,
   "id": "selected-bearing",
   "metadata": {
    "execution": {
     "iopub.execute_input": "2021-03-25T13:18:35.290932Z",
     "iopub.status.busy": "2021-03-25T13:18:35.290436Z",
     "iopub.status.idle": "2021-03-25T13:18:35.959587Z",
     "shell.execute_reply": "2021-03-25T13:18:35.958847Z"
    }
   },
   "outputs": [
    {
     "data": {
      "text/plain": [
       "Package ConjugationTest (27e505cb-87c3-47a4-9875-85aac5bfc20b)\n"
      ]
     },
     "execution_count": 1,
     "metadata": {},
     "output_type": "execute_result"
    }
   ],
   "source": [
    "package ConjugationTest {\n",
    "\tport def P;\n",
    "\t\n",
    "\tpart def B {\n",
    "\t\tport p1: P;\n",
    "\t\tport p2: ~P;\n",
    "\t}\n",
    "\t\n",
    "\tconnection def A {\n",
    "\t\tend port p1: P;\n",
    "\t\tend port p2: ~P;\n",
    "\t}\n",
    "\t\n",
    "\tinterface def I {\n",
    "\t\tend p1: P;\n",
    "\t\tend p2: ~P;\n",
    "\t}\n",
    "\t\n",
    "\tpart def B1 {\n",
    "\t\tpart p {\n",
    "\t\t\tport p1: P;\n",
    "\t\t\tport p2: ~P;\t\t\n",
    "\t\t}\n",
    "\t\n",
    "\t\tconnection a: A connect p::p1 to p::p2 {\n",
    "\t\t\tend port p3: P;\n",
    "\t\t\tend port p4: ~P;\n",
    "\t\t}\n",
    "\t\tinterface i: I connect p::p1 to p::p2 {\n",
    "\t\t\tend port p3: P;\n",
    "\t\t\tend port p4: ~P;\n",
    "\t\t}\n",
    "\t}\n",
    "\t\n",
    "}"
   ]
  },
  {
   "cell_type": "code",
   "execution_count": 2,
   "id": "infrared-focus",
   "metadata": {
    "execution": {
     "iopub.execute_input": "2021-03-25T13:18:36.011656Z",
     "iopub.status.busy": "2021-03-25T13:18:36.010976Z",
     "iopub.status.idle": "2021-03-25T13:18:37.963406Z",
     "shell.execute_reply": "2021-03-25T13:18:37.964014Z"
    }
   },
   "outputs": [
    {
     "data": {
      "image/svg+xml": [
       "<?xml version=\"1.0\" encoding=\"UTF-8\" standalone=\"no\"?><svg xmlns=\"http://www.w3.org/2000/svg\" xmlns:xlink=\"http://www.w3.org/1999/xlink\" contentScriptType=\"application/ecmascript\" contentStyleType=\"text/css\" height=\"305px\" preserveAspectRatio=\"none\" style=\"width:614px;height:305px;\" version=\"1.1\" viewBox=\"0 0 614 305\" width=\"614px\" zoomAndPan=\"magnify\"><defs/><g><!--MD5=[fbc87193dbaf4d95561dea2c320d4a47]\n",
       "cluster E1--><a href=\"psysml:db7199af-e574-4214-8b26-5aef0dbbdb0a\" target=\"_top\" title=\"psysml:db7199af-e574-4214-8b26-5aef0dbbdb0a\" xlink:actuate=\"onRequest\" xlink:href=\"psysml:db7199af-e574-4214-8b26-5aef0dbbdb0a\" xlink:show=\"new\" xlink:title=\"psysml:db7199af-e574-4214-8b26-5aef0dbbdb0a\" xlink:type=\"simple\"><polygon fill=\"#FFFFFF\" points=\"16,6,151,6,158,28.2969,592,28.2969,592,293,16,293,16,6\" style=\"stroke: #000000; stroke-width: 1.5;\"/><line style=\"stroke: #000000; stroke-width: 1.5;\" x1=\"16\" x2=\"158\" y1=\"28.2969\" y2=\"28.2969\"/><text fill=\"#000000\" font-family=\"sans-serif\" font-size=\"14\" font-weight=\"bold\" lengthAdjust=\"spacingAndGlyphs\" textLength=\"129\" x=\"20\" y=\"20.9951\">ConjugationTest</text></a><!--MD5=[b4997ac47864f28c2f74865a473b2911]\n",
       "class E2--><a href=\"psysml:eee324b7-6ef1-4f74-bb85-9d01b884a0c3\" target=\"_top\" title=\"psysml:eee324b7-6ef1-4f74-bb85-9d01b884a0c3\" xlink:actuate=\"onRequest\" xlink:href=\"psysml:eee324b7-6ef1-4f74-bb85-9d01b884a0c3\" xlink:show=\"new\" xlink:title=\"psysml:eee324b7-6ef1-4f74-bb85-9d01b884a0c3\" xlink:type=\"simple\"><rect fill=\"#FFFFFF\" height=\"45.9375\" id=\"E2\" style=\"stroke: #383838; stroke-width: 1.5;\" width=\"66\" x=\"510\" y=\"62\"/><text fill=\"#000000\" font-family=\"sans-serif\" font-size=\"12\" font-style=\"italic\" lengthAdjust=\"spacingAndGlyphs\" textLength=\"64\" x=\"511\" y=\"78.1387\">«port def»</text><text fill=\"#000000\" font-family=\"sans-serif\" font-size=\"12\" lengthAdjust=\"spacingAndGlyphs\" textLength=\"8\" x=\"539\" y=\"92.1074\">P</text><line style=\"stroke: #383838; stroke-width: 1.5;\" x1=\"511\" x2=\"575\" y1=\"99.9375\" y2=\"99.9375\"/></a><!--MD5=[09b614a08d8cba4a07c9adeb5e0fee81]\n",
       "class E3--><a href=\"psysml:987ad9e8-156c-405b-94a5-0234bd5ef961\" target=\"_top\" title=\"psysml:987ad9e8-156c-405b-94a5-0234bd5ef961\" xlink:actuate=\"onRequest\" xlink:href=\"psysml:987ad9e8-156c-405b-94a5-0234bd5ef961\" xlink:show=\"new\" xlink:title=\"psysml:987ad9e8-156c-405b-94a5-0234bd5ef961\" xlink:type=\"simple\"><rect fill=\"#FFFFFF\" height=\"88.3516\" id=\"E3\" style=\"stroke: #383838; stroke-width: 1.5;\" width=\"66\" x=\"409\" y=\"41\"/><text fill=\"#000000\" font-family=\"sans-serif\" font-size=\"12\" font-style=\"italic\" lengthAdjust=\"spacingAndGlyphs\" textLength=\"64\" x=\"410\" y=\"57.1387\">«part def»</text><text fill=\"#000000\" font-family=\"sans-serif\" font-size=\"12\" lengthAdjust=\"spacingAndGlyphs\" textLength=\"8\" x=\"438\" y=\"71.1074\">B</text><line style=\"stroke: #383838; stroke-width: 1.5;\" x1=\"410\" x2=\"474\" y1=\"78.9375\" y2=\"78.9375\"/><text fill=\"#000000\" font-family=\"sans-serif\" font-size=\"11\" lengthAdjust=\"spacingAndGlyphs\" textLength=\"29\" x=\"415\" y=\"109.9526\">p1: P</text><text fill=\"#000000\" font-family=\"sans-serif\" font-size=\"11\" lengthAdjust=\"spacingAndGlyphs\" textLength=\"38\" x=\"415\" y=\"122.7573\">p2: ~P</text><line style=\"stroke: #383838; stroke-width: 1.0;\" x1=\"410\" x2=\"427\" y1=\"93.3398\" y2=\"93.3398\"/><text fill=\"#000000\" font-family=\"sans-serif\" font-size=\"11\" lengthAdjust=\"spacingAndGlyphs\" textLength=\"30\" x=\"427\" y=\"96.6479\">ports</text><line style=\"stroke: #383838; stroke-width: 1.0;\" x1=\"457\" x2=\"474\" y1=\"93.3398\" y2=\"93.3398\"/></a><!--MD5=[ebbe1d658d1005bcc118a6aa81145e00]\n",
       "class E4--><a href=\"psysml:d4b825d6-e011-4f07-a399-999db6b99ea3\" target=\"_top\" title=\"psysml:d4b825d6-e011-4f07-a399-999db6b99ea3\" xlink:actuate=\"onRequest\" xlink:href=\"psysml:d4b825d6-e011-4f07-a399-999db6b99ea3\" xlink:show=\"new\" xlink:title=\"psysml:d4b825d6-e011-4f07-a399-999db6b99ea3\" xlink:type=\"simple\"><rect fill=\"#FFFFFF\" height=\"88.3516\" id=\"E4\" style=\"stroke: #383838; stroke-width: 1.5;\" width=\"110\" x=\"264\" y=\"41\"/><text fill=\"#000000\" font-family=\"sans-serif\" font-size=\"12\" font-style=\"italic\" lengthAdjust=\"spacingAndGlyphs\" textLength=\"108\" x=\"265\" y=\"57.1387\">«connection def»</text><text fill=\"#000000\" font-family=\"sans-serif\" font-size=\"12\" lengthAdjust=\"spacingAndGlyphs\" textLength=\"8\" x=\"315\" y=\"71.1074\">A</text><line style=\"stroke: #383838; stroke-width: 1.5;\" x1=\"265\" x2=\"373\" y1=\"78.9375\" y2=\"78.9375\"/><text fill=\"#000000\" font-family=\"sans-serif\" font-size=\"11\" lengthAdjust=\"spacingAndGlyphs\" textLength=\"29\" x=\"270\" y=\"109.9526\">p1: P</text><text fill=\"#000000\" font-family=\"sans-serif\" font-size=\"11\" lengthAdjust=\"spacingAndGlyphs\" textLength=\"38\" x=\"270\" y=\"122.7573\">p2: ~P</text><line style=\"stroke: #383838; stroke-width: 1.0;\" x1=\"265\" x2=\"304\" y1=\"93.3398\" y2=\"93.3398\"/><text fill=\"#000000\" font-family=\"sans-serif\" font-size=\"11\" lengthAdjust=\"spacingAndGlyphs\" textLength=\"30\" x=\"304\" y=\"96.6479\">ports</text><line style=\"stroke: #383838; stroke-width: 1.0;\" x1=\"334\" x2=\"373\" y1=\"93.3398\" y2=\"93.3398\"/></a><!--MD5=[270fce915f116d4de14055a7c1d9a0f3]\n",
       "class E5--><a href=\"psysml:0fcf03a3-0a94-497d-adc5-5270b49e59d7\" target=\"_top\" title=\"psysml:0fcf03a3-0a94-497d-adc5-5270b49e59d7\" xlink:actuate=\"onRequest\" xlink:href=\"psysml:0fcf03a3-0a94-497d-adc5-5270b49e59d7\" xlink:show=\"new\" xlink:title=\"psysml:0fcf03a3-0a94-497d-adc5-5270b49e59d7\" xlink:type=\"simple\"><rect fill=\"#FFFFFF\" height=\"88.3516\" id=\"E5\" style=\"stroke: #383838; stroke-width: 1.5;\" width=\"96\" x=\"133\" y=\"41\"/><text fill=\"#000000\" font-family=\"sans-serif\" font-size=\"12\" font-style=\"italic\" lengthAdjust=\"spacingAndGlyphs\" textLength=\"94\" x=\"134\" y=\"57.1387\">«interface def»</text><text fill=\"#000000\" font-family=\"sans-serif\" font-size=\"12\" lengthAdjust=\"spacingAndGlyphs\" textLength=\"3\" x=\"179.5\" y=\"71.1074\">I</text><line style=\"stroke: #383838; stroke-width: 1.5;\" x1=\"134\" x2=\"228\" y1=\"78.9375\" y2=\"78.9375\"/><text fill=\"#000000\" font-family=\"sans-serif\" font-size=\"11\" lengthAdjust=\"spacingAndGlyphs\" textLength=\"29\" x=\"139\" y=\"109.9526\">p1: P</text><text fill=\"#000000\" font-family=\"sans-serif\" font-size=\"11\" lengthAdjust=\"spacingAndGlyphs\" textLength=\"38\" x=\"139\" y=\"122.7573\">p2: ~P</text><line style=\"stroke: #383838; stroke-width: 1.0;\" x1=\"134\" x2=\"166\" y1=\"93.3398\" y2=\"93.3398\"/><text fill=\"#000000\" font-family=\"sans-serif\" font-size=\"11\" lengthAdjust=\"spacingAndGlyphs\" textLength=\"30\" x=\"166\" y=\"96.6479\">ports</text><line style=\"stroke: #383838; stroke-width: 1.0;\" x1=\"196\" x2=\"228\" y1=\"93.3398\" y2=\"93.3398\"/></a><!--MD5=[60a26617385b1d2d0262a64233df1f8d]\n",
       "class E6--><a href=\"psysml:fa47a610-a800-429f-b665-228f1e266500\" target=\"_top\" title=\"psysml:fa47a610-a800-429f-b665-228f1e266500\" xlink:actuate=\"onRequest\" xlink:href=\"psysml:fa47a610-a800-429f-b665-228f1e266500\" xlink:show=\"new\" xlink:title=\"psysml:fa47a610-a800-429f-b665-228f1e266500\" xlink:type=\"simple\"><rect fill=\"#FFFFFF\" height=\"45.9375\" id=\"E6\" style=\"stroke: #383838; stroke-width: 1.5;\" width=\"66\" x=\"32\" y=\"62\"/><text fill=\"#000000\" font-family=\"sans-serif\" font-size=\"12\" font-style=\"italic\" lengthAdjust=\"spacingAndGlyphs\" textLength=\"64\" x=\"33\" y=\"78.1387\">«part def»</text><text fill=\"#000000\" font-family=\"sans-serif\" font-size=\"12\" lengthAdjust=\"spacingAndGlyphs\" textLength=\"16\" x=\"57\" y=\"92.1074\">B1</text><line style=\"stroke: #383838; stroke-width: 1.5;\" x1=\"33\" x2=\"97\" y1=\"99.9375\" y2=\"99.9375\"/></a><!--MD5=[2156ba9850f5573cc1fc38a6a4b2f02b]\n",
       "class E7--><a href=\"psysml:593a6524-9b3f-4082-a23e-8ed96ff9a715\" target=\"_top\" title=\"psysml:593a6524-9b3f-4082-a23e-8ed96ff9a715\" xlink:actuate=\"onRequest\" xlink:href=\"psysml:593a6524-9b3f-4082-a23e-8ed96ff9a715\" xlink:show=\"new\" xlink:title=\"psysml:593a6524-9b3f-4082-a23e-8ed96ff9a715\" xlink:type=\"simple\"><rect fill=\"#FFFFFF\" height=\"88.3516\" id=\"E7\" rx=\"10\" ry=\"10\" style=\"stroke: #383838; stroke-width: 1.5;\" width=\"50\" x=\"40\" y=\"189\"/><text fill=\"#000000\" font-family=\"sans-serif\" font-size=\"12\" font-style=\"italic\" lengthAdjust=\"spacingAndGlyphs\" textLength=\"40\" x=\"45\" y=\"205.1387\">«part»</text><text fill=\"#000000\" font-family=\"sans-serif\" font-size=\"12\" lengthAdjust=\"spacingAndGlyphs\" textLength=\"8\" x=\"61\" y=\"219.1074\">p</text><line style=\"stroke: #383838; stroke-width: 1.5;\" x1=\"41\" x2=\"89\" y1=\"226.9375\" y2=\"226.9375\"/><text fill=\"#000000\" font-family=\"sans-serif\" font-size=\"11\" lengthAdjust=\"spacingAndGlyphs\" textLength=\"29\" x=\"46\" y=\"257.9526\">p1: P</text><text fill=\"#000000\" font-family=\"sans-serif\" font-size=\"11\" lengthAdjust=\"spacingAndGlyphs\" textLength=\"38\" x=\"46\" y=\"270.7573\">p2: ~P</text><line style=\"stroke: #383838; stroke-width: 1.0;\" x1=\"41\" x2=\"50\" y1=\"241.3398\" y2=\"241.3398\"/><text fill=\"#000000\" font-family=\"sans-serif\" font-size=\"11\" lengthAdjust=\"spacingAndGlyphs\" textLength=\"30\" x=\"50\" y=\"244.6479\">ports</text><line style=\"stroke: #383838; stroke-width: 1.0;\" x1=\"80\" x2=\"89\" y1=\"241.3398\" y2=\"241.3398\"/></a><!--MD5=[3f50a3473f1dfb74d3f76443e03635af]\n",
       "reverse link E6 to E7--><a href=\"psysml:593a6524-9b3f-4082-a23e-8ed96ff9a715\" target=\"_top\" title=\"psysml:593a6524-9b3f-4082-a23e-8ed96ff9a715\" xlink:actuate=\"onRequest\" xlink:href=\"psysml:593a6524-9b3f-4082-a23e-8ed96ff9a715\" xlink:show=\"new\" xlink:title=\"psysml:593a6524-9b3f-4082-a23e-8ed96ff9a715\" xlink:type=\"simple\"><path d=\"M65,121.25 C65,141.54 65,167.2 65,188.71 \" fill=\"none\" id=\"E6&lt;-E7\" style=\"stroke: #383838; stroke-width: 1.0;\"/><polygon fill=\"#383838\" points=\"65,108.17,61,114.17,65,120.17,69,114.17,65,108.17\" style=\"stroke: #383838; stroke-width: 1.0;\"/></a><!--MD5=[db57058c0e384bd1f31635721004d425]\n",
       "@startuml\r\n",
       " skinparam monochrome true\r\n",
       "skinparam classbackgroundcolor white\r\n",
       "skinparam shadowing false\r\n",
       "skinparam wrapWidth 300\r\n",
       "hide circle\r\n",
       "\r\n",
       "package \"ConjugationTest\" as E1  [[psysml:db7199af-e574-4214-8b26-5aef0dbbdb0a ]]  {\r\n",
       "comp def \"P\" as E2  <<(T,blue)port def>> [[psysml:eee324b7-6ef1-4f74-bb85-9d01b884a0c3 ]] {\r\n",
       "}\r\n",
       "comp def \"B\" as E3  <<(T,blue)part def>> [[psysml:987ad9e8-156c-405b-94a5-0234bd5ef961 ]] {\r\n",
       "- - ports - -\r\n",
       "p1: P\r\n",
       "p2: ~P\r\n",
       "}\r\n",
       "comp def \"A\" as E4  <<(T,blue)connection def>> [[psysml:d4b825d6-e011-4f07-a399-999db6b99ea3 ]] {\r\n",
       "- - ports - -\r\n",
       "p1: P\r\n",
       "p2: ~P\r\n",
       "}\r\n",
       "comp def \"I\" as E5  <<(T,blue)interface def>> [[psysml:0fcf03a3-0a94-497d-adc5-5270b49e59d7 ]] {\r\n",
       "- - ports - -\r\n",
       "p1: P\r\n",
       "p2: ~P\r\n",
       "}\r\n",
       "comp def \"B1\" as E6  <<(T,blue)part def>> [[psysml:fa47a610-a800-429f-b665-228f1e266500 ]] {\r\n",
       "}\r\n",
       "comp usage \"p\" as E7  <<(T,blue)part>> [[psysml:593a6524-9b3f-4082-a23e-8ed96ff9a715 ]] {\r\n",
       "- - ports - -\r\n",
       "p1: P\r\n",
       "p2: ~P\r\n",
       "}\r\n",
       "E6 *- - E7 [[psysml:593a6524-9b3f-4082-a23e-8ed96ff9a715 ]] \r\n",
       "}\r\n",
       "@enduml\r\n",
       "\n",
       "PlantUML version 1.2020.13(Sat Jun 13 12:26:38 UTC 2020)\n",
       "(EPL source distribution)\n",
       "Java Runtime: OpenJDK Runtime Environment\n",
       "JVM: OpenJDK 64-Bit Server VM\n",
       "Default Encoding: UTF-8\n",
       "Language: en\n",
       "Country: null\n",
       "--></g></svg>"
      ]
     },
     "execution_count": 2,
     "metadata": {},
     "output_type": "execute_result"
    }
   ],
   "source": [
    "%viz --style=\"COMPTREE\" --view=\"Default\" \"ConjugationTest\""
   ]
  },
  {
   "cell_type": "code",
   "execution_count": 3,
   "id": "virgin-highlight",
   "metadata": {
    "execution": {
     "iopub.execute_input": "2021-03-25T13:18:38.015253Z",
     "iopub.status.busy": "2021-03-25T13:18:38.014574Z",
     "iopub.status.idle": "2021-03-25T13:18:38.941198Z",
     "shell.execute_reply": "2021-03-25T13:18:38.941932Z"
    }
   },
   "outputs": [
    {
     "data": {
      "image/svg+xml": [
       "<?xml version=\"1.0\" encoding=\"UTF-8\" standalone=\"no\"?><svg xmlns=\"http://www.w3.org/2000/svg\" xmlns:xlink=\"http://www.w3.org/1999/xlink\" contentScriptType=\"application/ecmascript\" contentStyleType=\"text/css\" height=\"305px\" preserveAspectRatio=\"none\" style=\"width:614px;height:305px;\" version=\"1.1\" viewBox=\"0 0 614 305\" width=\"614px\" zoomAndPan=\"magnify\"><defs/><g><!--MD5=[fbc87193dbaf4d95561dea2c320d4a47]\n",
       "cluster E1--><a href=\"psysml:db7199af-e574-4214-8b26-5aef0dbbdb0a\" target=\"_top\" title=\"psysml:db7199af-e574-4214-8b26-5aef0dbbdb0a\" xlink:actuate=\"onRequest\" xlink:href=\"psysml:db7199af-e574-4214-8b26-5aef0dbbdb0a\" xlink:show=\"new\" xlink:title=\"psysml:db7199af-e574-4214-8b26-5aef0dbbdb0a\" xlink:type=\"simple\"><polygon fill=\"#FFFFFF\" points=\"16,6,151,6,158,28.2969,592,28.2969,592,293,16,293,16,6\" style=\"stroke: #000000; stroke-width: 1.5;\"/><line style=\"stroke: #000000; stroke-width: 1.5;\" x1=\"16\" x2=\"158\" y1=\"28.2969\" y2=\"28.2969\"/><text fill=\"#000000\" font-family=\"sans-serif\" font-size=\"14\" font-weight=\"bold\" lengthAdjust=\"spacingAndGlyphs\" textLength=\"129\" x=\"20\" y=\"20.9951\">ConjugationTest</text></a><!--MD5=[b4997ac47864f28c2f74865a473b2911]\n",
       "class E2--><a href=\"psysml:eee324b7-6ef1-4f74-bb85-9d01b884a0c3\" target=\"_top\" title=\"psysml:eee324b7-6ef1-4f74-bb85-9d01b884a0c3\" xlink:actuate=\"onRequest\" xlink:href=\"psysml:eee324b7-6ef1-4f74-bb85-9d01b884a0c3\" xlink:show=\"new\" xlink:title=\"psysml:eee324b7-6ef1-4f74-bb85-9d01b884a0c3\" xlink:type=\"simple\"><rect fill=\"#FFFFFF\" height=\"45.9375\" id=\"E2\" style=\"stroke: #383838; stroke-width: 1.5;\" width=\"66\" x=\"510\" y=\"62\"/><text fill=\"#000000\" font-family=\"sans-serif\" font-size=\"12\" font-style=\"italic\" lengthAdjust=\"spacingAndGlyphs\" textLength=\"64\" x=\"511\" y=\"78.1387\">«port def»</text><text fill=\"#000000\" font-family=\"sans-serif\" font-size=\"12\" lengthAdjust=\"spacingAndGlyphs\" textLength=\"8\" x=\"539\" y=\"92.1074\">P</text><line style=\"stroke: #383838; stroke-width: 1.5;\" x1=\"511\" x2=\"575\" y1=\"99.9375\" y2=\"99.9375\"/></a><!--MD5=[09b614a08d8cba4a07c9adeb5e0fee81]\n",
       "class E3--><a href=\"psysml:987ad9e8-156c-405b-94a5-0234bd5ef961\" target=\"_top\" title=\"psysml:987ad9e8-156c-405b-94a5-0234bd5ef961\" xlink:actuate=\"onRequest\" xlink:href=\"psysml:987ad9e8-156c-405b-94a5-0234bd5ef961\" xlink:show=\"new\" xlink:title=\"psysml:987ad9e8-156c-405b-94a5-0234bd5ef961\" xlink:type=\"simple\"><rect fill=\"#FFFFFF\" height=\"88.3516\" id=\"E3\" style=\"stroke: #383838; stroke-width: 1.5;\" width=\"66\" x=\"409\" y=\"41\"/><text fill=\"#000000\" font-family=\"sans-serif\" font-size=\"12\" font-style=\"italic\" lengthAdjust=\"spacingAndGlyphs\" textLength=\"64\" x=\"410\" y=\"57.1387\">«part def»</text><text fill=\"#000000\" font-family=\"sans-serif\" font-size=\"12\" lengthAdjust=\"spacingAndGlyphs\" textLength=\"8\" x=\"438\" y=\"71.1074\">B</text><line style=\"stroke: #383838; stroke-width: 1.5;\" x1=\"410\" x2=\"474\" y1=\"78.9375\" y2=\"78.9375\"/><text fill=\"#000000\" font-family=\"sans-serif\" font-size=\"11\" lengthAdjust=\"spacingAndGlyphs\" textLength=\"29\" x=\"415\" y=\"109.9526\">p1: P</text><text fill=\"#000000\" font-family=\"sans-serif\" font-size=\"11\" lengthAdjust=\"spacingAndGlyphs\" textLength=\"38\" x=\"415\" y=\"122.7573\">p2: ~P</text><line style=\"stroke: #383838; stroke-width: 1.0;\" x1=\"410\" x2=\"427\" y1=\"93.3398\" y2=\"93.3398\"/><text fill=\"#000000\" font-family=\"sans-serif\" font-size=\"11\" lengthAdjust=\"spacingAndGlyphs\" textLength=\"30\" x=\"427\" y=\"96.6479\">ports</text><line style=\"stroke: #383838; stroke-width: 1.0;\" x1=\"457\" x2=\"474\" y1=\"93.3398\" y2=\"93.3398\"/></a><!--MD5=[ebbe1d658d1005bcc118a6aa81145e00]\n",
       "class E4--><a href=\"psysml:d4b825d6-e011-4f07-a399-999db6b99ea3\" target=\"_top\" title=\"psysml:d4b825d6-e011-4f07-a399-999db6b99ea3\" xlink:actuate=\"onRequest\" xlink:href=\"psysml:d4b825d6-e011-4f07-a399-999db6b99ea3\" xlink:show=\"new\" xlink:title=\"psysml:d4b825d6-e011-4f07-a399-999db6b99ea3\" xlink:type=\"simple\"><rect fill=\"#FFFFFF\" height=\"88.3516\" id=\"E4\" style=\"stroke: #383838; stroke-width: 1.5;\" width=\"110\" x=\"264\" y=\"41\"/><text fill=\"#000000\" font-family=\"sans-serif\" font-size=\"12\" font-style=\"italic\" lengthAdjust=\"spacingAndGlyphs\" textLength=\"108\" x=\"265\" y=\"57.1387\">«connection def»</text><text fill=\"#000000\" font-family=\"sans-serif\" font-size=\"12\" lengthAdjust=\"spacingAndGlyphs\" textLength=\"8\" x=\"315\" y=\"71.1074\">A</text><line style=\"stroke: #383838; stroke-width: 1.5;\" x1=\"265\" x2=\"373\" y1=\"78.9375\" y2=\"78.9375\"/><text fill=\"#000000\" font-family=\"sans-serif\" font-size=\"11\" lengthAdjust=\"spacingAndGlyphs\" textLength=\"29\" x=\"270\" y=\"109.9526\">p1: P</text><text fill=\"#000000\" font-family=\"sans-serif\" font-size=\"11\" lengthAdjust=\"spacingAndGlyphs\" textLength=\"38\" x=\"270\" y=\"122.7573\">p2: ~P</text><line style=\"stroke: #383838; stroke-width: 1.0;\" x1=\"265\" x2=\"304\" y1=\"93.3398\" y2=\"93.3398\"/><text fill=\"#000000\" font-family=\"sans-serif\" font-size=\"11\" lengthAdjust=\"spacingAndGlyphs\" textLength=\"30\" x=\"304\" y=\"96.6479\">ports</text><line style=\"stroke: #383838; stroke-width: 1.0;\" x1=\"334\" x2=\"373\" y1=\"93.3398\" y2=\"93.3398\"/></a><!--MD5=[270fce915f116d4de14055a7c1d9a0f3]\n",
       "class E5--><a href=\"psysml:0fcf03a3-0a94-497d-adc5-5270b49e59d7\" target=\"_top\" title=\"psysml:0fcf03a3-0a94-497d-adc5-5270b49e59d7\" xlink:actuate=\"onRequest\" xlink:href=\"psysml:0fcf03a3-0a94-497d-adc5-5270b49e59d7\" xlink:show=\"new\" xlink:title=\"psysml:0fcf03a3-0a94-497d-adc5-5270b49e59d7\" xlink:type=\"simple\"><rect fill=\"#FFFFFF\" height=\"88.3516\" id=\"E5\" style=\"stroke: #383838; stroke-width: 1.5;\" width=\"96\" x=\"133\" y=\"41\"/><text fill=\"#000000\" font-family=\"sans-serif\" font-size=\"12\" font-style=\"italic\" lengthAdjust=\"spacingAndGlyphs\" textLength=\"94\" x=\"134\" y=\"57.1387\">«interface def»</text><text fill=\"#000000\" font-family=\"sans-serif\" font-size=\"12\" lengthAdjust=\"spacingAndGlyphs\" textLength=\"3\" x=\"179.5\" y=\"71.1074\">I</text><line style=\"stroke: #383838; stroke-width: 1.5;\" x1=\"134\" x2=\"228\" y1=\"78.9375\" y2=\"78.9375\"/><text fill=\"#000000\" font-family=\"sans-serif\" font-size=\"11\" lengthAdjust=\"spacingAndGlyphs\" textLength=\"29\" x=\"139\" y=\"109.9526\">p1: P</text><text fill=\"#000000\" font-family=\"sans-serif\" font-size=\"11\" lengthAdjust=\"spacingAndGlyphs\" textLength=\"38\" x=\"139\" y=\"122.7573\">p2: ~P</text><line style=\"stroke: #383838; stroke-width: 1.0;\" x1=\"134\" x2=\"166\" y1=\"93.3398\" y2=\"93.3398\"/><text fill=\"#000000\" font-family=\"sans-serif\" font-size=\"11\" lengthAdjust=\"spacingAndGlyphs\" textLength=\"30\" x=\"166\" y=\"96.6479\">ports</text><line style=\"stroke: #383838; stroke-width: 1.0;\" x1=\"196\" x2=\"228\" y1=\"93.3398\" y2=\"93.3398\"/></a><!--MD5=[60a26617385b1d2d0262a64233df1f8d]\n",
       "class E6--><a href=\"psysml:fa47a610-a800-429f-b665-228f1e266500\" target=\"_top\" title=\"psysml:fa47a610-a800-429f-b665-228f1e266500\" xlink:actuate=\"onRequest\" xlink:href=\"psysml:fa47a610-a800-429f-b665-228f1e266500\" xlink:show=\"new\" xlink:title=\"psysml:fa47a610-a800-429f-b665-228f1e266500\" xlink:type=\"simple\"><rect fill=\"#FFFFFF\" height=\"45.9375\" id=\"E6\" style=\"stroke: #383838; stroke-width: 1.5;\" width=\"66\" x=\"32\" y=\"62\"/><text fill=\"#000000\" font-family=\"sans-serif\" font-size=\"12\" font-style=\"italic\" lengthAdjust=\"spacingAndGlyphs\" textLength=\"64\" x=\"33\" y=\"78.1387\">«part def»</text><text fill=\"#000000\" font-family=\"sans-serif\" font-size=\"12\" lengthAdjust=\"spacingAndGlyphs\" textLength=\"16\" x=\"57\" y=\"92.1074\">B1</text><line style=\"stroke: #383838; stroke-width: 1.5;\" x1=\"33\" x2=\"97\" y1=\"99.9375\" y2=\"99.9375\"/></a><!--MD5=[2156ba9850f5573cc1fc38a6a4b2f02b]\n",
       "class E7--><a href=\"psysml:593a6524-9b3f-4082-a23e-8ed96ff9a715\" target=\"_top\" title=\"psysml:593a6524-9b3f-4082-a23e-8ed96ff9a715\" xlink:actuate=\"onRequest\" xlink:href=\"psysml:593a6524-9b3f-4082-a23e-8ed96ff9a715\" xlink:show=\"new\" xlink:title=\"psysml:593a6524-9b3f-4082-a23e-8ed96ff9a715\" xlink:type=\"simple\"><rect fill=\"#FFFFFF\" height=\"88.3516\" id=\"E7\" rx=\"10\" ry=\"10\" style=\"stroke: #383838; stroke-width: 1.5;\" width=\"50\" x=\"40\" y=\"189\"/><text fill=\"#000000\" font-family=\"sans-serif\" font-size=\"12\" font-style=\"italic\" lengthAdjust=\"spacingAndGlyphs\" textLength=\"40\" x=\"45\" y=\"205.1387\">«part»</text><text fill=\"#000000\" font-family=\"sans-serif\" font-size=\"12\" lengthAdjust=\"spacingAndGlyphs\" textLength=\"8\" x=\"61\" y=\"219.1074\">p</text><line style=\"stroke: #383838; stroke-width: 1.5;\" x1=\"41\" x2=\"89\" y1=\"226.9375\" y2=\"226.9375\"/><text fill=\"#000000\" font-family=\"sans-serif\" font-size=\"11\" lengthAdjust=\"spacingAndGlyphs\" textLength=\"29\" x=\"46\" y=\"257.9526\">p1: P</text><text fill=\"#000000\" font-family=\"sans-serif\" font-size=\"11\" lengthAdjust=\"spacingAndGlyphs\" textLength=\"38\" x=\"46\" y=\"270.7573\">p2: ~P</text><line style=\"stroke: #383838; stroke-width: 1.0;\" x1=\"41\" x2=\"50\" y1=\"241.3398\" y2=\"241.3398\"/><text fill=\"#000000\" font-family=\"sans-serif\" font-size=\"11\" lengthAdjust=\"spacingAndGlyphs\" textLength=\"30\" x=\"50\" y=\"244.6479\">ports</text><line style=\"stroke: #383838; stroke-width: 1.0;\" x1=\"80\" x2=\"89\" y1=\"241.3398\" y2=\"241.3398\"/></a><!--MD5=[3f50a3473f1dfb74d3f76443e03635af]\n",
       "reverse link E6 to E7--><a href=\"psysml:593a6524-9b3f-4082-a23e-8ed96ff9a715\" target=\"_top\" title=\"psysml:593a6524-9b3f-4082-a23e-8ed96ff9a715\" xlink:actuate=\"onRequest\" xlink:href=\"psysml:593a6524-9b3f-4082-a23e-8ed96ff9a715\" xlink:show=\"new\" xlink:title=\"psysml:593a6524-9b3f-4082-a23e-8ed96ff9a715\" xlink:type=\"simple\"><path d=\"M65,121.25 C65,141.54 65,167.2 65,188.71 \" fill=\"none\" id=\"E6&lt;-E7\" style=\"stroke: #383838; stroke-width: 1.0;\"/><polygon fill=\"#383838\" points=\"65,108.17,61,114.17,65,120.17,69,114.17,65,108.17\" style=\"stroke: #383838; stroke-width: 1.0;\"/></a><!--MD5=[db57058c0e384bd1f31635721004d425]\n",
       "@startuml\r\n",
       " skinparam monochrome true\r\n",
       "skinparam classbackgroundcolor white\r\n",
       "skinparam shadowing false\r\n",
       "skinparam wrapWidth 300\r\n",
       "hide circle\r\n",
       "\r\n",
       "package \"ConjugationTest\" as E1  [[psysml:db7199af-e574-4214-8b26-5aef0dbbdb0a ]]  {\r\n",
       "comp def \"P\" as E2  <<(T,blue)port def>> [[psysml:eee324b7-6ef1-4f74-bb85-9d01b884a0c3 ]] {\r\n",
       "}\r\n",
       "comp def \"B\" as E3  <<(T,blue)part def>> [[psysml:987ad9e8-156c-405b-94a5-0234bd5ef961 ]] {\r\n",
       "- - ports - -\r\n",
       "p1: P\r\n",
       "p2: ~P\r\n",
       "}\r\n",
       "comp def \"A\" as E4  <<(T,blue)connection def>> [[psysml:d4b825d6-e011-4f07-a399-999db6b99ea3 ]] {\r\n",
       "- - ports - -\r\n",
       "p1: P\r\n",
       "p2: ~P\r\n",
       "}\r\n",
       "comp def \"I\" as E5  <<(T,blue)interface def>> [[psysml:0fcf03a3-0a94-497d-adc5-5270b49e59d7 ]] {\r\n",
       "- - ports - -\r\n",
       "p1: P\r\n",
       "p2: ~P\r\n",
       "}\r\n",
       "comp def \"B1\" as E6  <<(T,blue)part def>> [[psysml:fa47a610-a800-429f-b665-228f1e266500 ]] {\r\n",
       "}\r\n",
       "comp usage \"p\" as E7  <<(T,blue)part>> [[psysml:593a6524-9b3f-4082-a23e-8ed96ff9a715 ]] {\r\n",
       "- - ports - -\r\n",
       "p1: P\r\n",
       "p2: ~P\r\n",
       "}\r\n",
       "E6 *- - E7 [[psysml:593a6524-9b3f-4082-a23e-8ed96ff9a715 ]] \r\n",
       "}\r\n",
       "@enduml\r\n",
       "\n",
       "PlantUML version 1.2020.13(Sat Jun 13 12:26:38 UTC 2020)\n",
       "(EPL source distribution)\n",
       "Java Runtime: OpenJDK Runtime Environment\n",
       "JVM: OpenJDK 64-Bit Server VM\n",
       "Default Encoding: UTF-8\n",
       "Language: en\n",
       "Country: null\n",
       "--></g></svg>"
      ]
     },
     "execution_count": 3,
     "metadata": {},
     "output_type": "execute_result"
    }
   ],
   "source": [
    "%viz --style=\"COMPTREE\" --view=\"Tree\" \"ConjugationTest\""
   ]
  },
  {
   "cell_type": "code",
   "execution_count": 4,
   "id": "exotic-canyon",
   "metadata": {
    "execution": {
     "iopub.execute_input": "2021-03-25T13:18:38.992809Z",
     "iopub.status.busy": "2021-03-25T13:18:38.991971Z",
     "iopub.status.idle": "2021-03-25T13:18:39.009958Z",
     "shell.execute_reply": "2021-03-25T13:18:39.010898Z"
    }
   },
   "outputs": [
    {
     "data": {
      "image/svg+xml": [
       "<?xml version=\"1.0\" encoding=\"UTF-8\" standalone=\"no\"?><svg xmlns=\"http://www.w3.org/2000/svg\" xmlns:xlink=\"http://www.w3.org/1999/xlink\" contentScriptType=\"application/ecmascript\" contentStyleType=\"text/css\" height=\"12px\" preserveAspectRatio=\"none\" style=\"width:12px;height:12px;\" version=\"1.1\" viewBox=\"0 0 12 12\" width=\"12px\" zoomAndPan=\"magnify\"><defs/><g><!--MD5=[f19188ef49e11757b5c46753f95d9edc]\n",
       "@startuml\r\n",
       " skinparam monochrome true\r\n",
       "skinparam classbackgroundcolor white\r\n",
       "skinparam shadowing false\r\n",
       "skinparam wrapWidth 300\r\n",
       "hide circle\r\n",
       "\r\n",
       "@enduml\r\n",
       "\n",
       "PlantUML version 1.2020.13(Sat Jun 13 12:26:38 UTC 2020)\n",
       "(EPL source distribution)\n",
       "Java Runtime: OpenJDK Runtime Environment\n",
       "JVM: OpenJDK 64-Bit Server VM\n",
       "Default Encoding: UTF-8\n",
       "Language: en\n",
       "Country: null\n",
       "--></g></svg>"
      ]
     },
     "execution_count": 4,
     "metadata": {},
     "output_type": "execute_result"
    }
   ],
   "source": [
    "%viz --style=\"COMPTREE\" --view=\"State\" \"ConjugationTest\""
   ]
  },
  {
   "cell_type": "code",
   "execution_count": 5,
   "id": "relative-builder",
   "metadata": {
    "execution": {
     "iopub.execute_input": "2021-03-25T13:18:39.061736Z",
     "iopub.status.busy": "2021-03-25T13:18:39.061001Z",
     "iopub.status.idle": "2021-03-25T13:18:39.346274Z",
     "shell.execute_reply": "2021-03-25T13:18:39.346828Z"
    }
   },
   "outputs": [
    {
     "data": {
      "image/svg+xml": [
       "<?xml version=\"1.0\" encoding=\"UTF-8\" standalone=\"no\"?><svg xmlns=\"http://www.w3.org/2000/svg\" xmlns:xlink=\"http://www.w3.org/1999/xlink\" contentScriptType=\"application/ecmascript\" contentStyleType=\"text/css\" height=\"246px\" preserveAspectRatio=\"none\" style=\"width:739px;height:246px;\" version=\"1.1\" viewBox=\"0 0 739 246\" width=\"739px\" zoomAndPan=\"magnify\"><defs/><g><!--MD5=[fbc87193dbaf4d95561dea2c320d4a47]\n",
       "cluster E1--><a href=\"psysml:db7199af-e574-4214-8b26-5aef0dbbdb0a\" target=\"_top\" title=\"psysml:db7199af-e574-4214-8b26-5aef0dbbdb0a\" xlink:actuate=\"onRequest\" xlink:href=\"psysml:db7199af-e574-4214-8b26-5aef0dbbdb0a\" xlink:show=\"new\" xlink:title=\"psysml:db7199af-e574-4214-8b26-5aef0dbbdb0a\" xlink:type=\"simple\"><polygon fill=\"#FFFFFF\" points=\"16,6,151,6,158,28.2969,717,28.2969,717,234.5,16,234.5,16,6\" style=\"stroke: #000000; stroke-width: 1.5;\"/><line style=\"stroke: #000000; stroke-width: 1.5;\" x1=\"16\" x2=\"158\" y1=\"28.2969\" y2=\"28.2969\"/><text fill=\"#000000\" font-family=\"sans-serif\" font-size=\"14\" font-weight=\"bold\" lengthAdjust=\"spacingAndGlyphs\" textLength=\"129\" x=\"20\" y=\"20.9951\">ConjugationTest</text></a><!--MD5=[d5e69f78d87373223dbae638b30a9c99]\n",
       "cluster E3--><a href=\"psysml:987ad9e8-156c-405b-94a5-0234bd5ef961\" target=\"_top\" title=\"psysml:987ad9e8-156c-405b-94a5-0234bd5ef961\" xlink:actuate=\"onRequest\" xlink:href=\"psysml:987ad9e8-156c-405b-94a5-0234bd5ef961\" xlink:show=\"new\" xlink:title=\"psysml:987ad9e8-156c-405b-94a5-0234bd5ef961\" xlink:type=\"simple\"><rect fill=\"#FFFFFF\" height=\"88.5\" id=\"E3\" style=\"stroke: #383838; stroke-width: 1.5;\" width=\"83\" x=\"577\" y=\"114\"/><rect fill=\"#F8F8F8\" height=\"37.9375\" style=\"stroke: #383838; stroke-width: 1.5;\" width=\"83\" x=\"577\" y=\"114\"/><text fill=\"#000000\" font-family=\"sans-serif\" font-size=\"12\" font-style=\"italic\" lengthAdjust=\"spacingAndGlyphs\" textLength=\"64\" x=\"586.5\" y=\"130.1387\">«part def»</text><text fill=\"#000000\" font-family=\"sans-serif\" font-size=\"12\" lengthAdjust=\"spacingAndGlyphs\" textLength=\"8\" x=\"614.5\" y=\"144.1074\">B</text></a><!--MD5=[14e3b0961a2654348d326746436168a1]\n",
       "cluster E6--><a href=\"psysml:d4b825d6-e011-4f07-a399-999db6b99ea3\" target=\"_top\" title=\"psysml:d4b825d6-e011-4f07-a399-999db6b99ea3\" xlink:actuate=\"onRequest\" xlink:href=\"psysml:d4b825d6-e011-4f07-a399-999db6b99ea3\" xlink:show=\"new\" xlink:title=\"psysml:d4b825d6-e011-4f07-a399-999db6b99ea3\" xlink:type=\"simple\"><rect fill=\"#FFFFFF\" height=\"88.5\" id=\"E6\" style=\"stroke: #383838; stroke-width: 1.5;\" width=\"150\" x=\"423\" y=\"114\"/><rect fill=\"#F8F8F8\" height=\"37.9375\" style=\"stroke: #383838; stroke-width: 1.5;\" width=\"150\" x=\"423\" y=\"114\"/><text fill=\"#000000\" font-family=\"sans-serif\" font-size=\"12\" font-style=\"italic\" lengthAdjust=\"spacingAndGlyphs\" textLength=\"108\" x=\"444\" y=\"130.1387\">«connection def»</text><text fill=\"#000000\" font-family=\"sans-serif\" font-size=\"12\" lengthAdjust=\"spacingAndGlyphs\" textLength=\"8\" x=\"494\" y=\"144.1074\">A</text></a><!--MD5=[7f149f147074ac12df2cb0a7728a5fb0]\n",
       "cluster E9--><a href=\"psysml:0fcf03a3-0a94-497d-adc5-5270b49e59d7\" target=\"_top\" title=\"psysml:0fcf03a3-0a94-497d-adc5-5270b49e59d7\" xlink:actuate=\"onRequest\" xlink:href=\"psysml:0fcf03a3-0a94-497d-adc5-5270b49e59d7\" xlink:show=\"new\" xlink:title=\"psysml:0fcf03a3-0a94-497d-adc5-5270b49e59d7\" xlink:type=\"simple\"><rect fill=\"#FFFFFF\" height=\"88.5\" id=\"E9\" style=\"stroke: #383838; stroke-width: 1.5;\" width=\"141\" x=\"254\" y=\"114\"/><rect fill=\"#F8F8F8\" height=\"37.9375\" style=\"stroke: #383838; stroke-width: 1.5;\" width=\"141\" x=\"254\" y=\"114\"/><text fill=\"#000000\" font-family=\"sans-serif\" font-size=\"12\" font-style=\"italic\" lengthAdjust=\"spacingAndGlyphs\" textLength=\"94\" x=\"277.5\" y=\"130.1387\">«interface def»</text><text fill=\"#000000\" font-family=\"sans-serif\" font-size=\"12\" lengthAdjust=\"spacingAndGlyphs\" textLength=\"3\" x=\"323\" y=\"144.1074\">I</text></a><!--MD5=[47bea60c1a0ac6c1143df232041969c0]\n",
       "cluster E12--><a href=\"psysml:fa47a610-a800-429f-b665-228f1e266500\" target=\"_top\" title=\"psysml:fa47a610-a800-429f-b665-228f1e266500\" xlink:actuate=\"onRequest\" xlink:href=\"psysml:fa47a610-a800-429f-b665-228f1e266500\" xlink:show=\"new\" xlink:title=\"psysml:fa47a610-a800-429f-b665-228f1e266500\" xlink:type=\"simple\"><rect fill=\"#FFFFFF\" height=\"161.5\" id=\"E12\" style=\"stroke: #383838; stroke-width: 1.5;\" width=\"107\" x=\"120\" y=\"49\"/><rect fill=\"#F8F8F8\" height=\"37.9375\" style=\"stroke: #383838; stroke-width: 1.5;\" width=\"107\" x=\"120\" y=\"49\"/><text fill=\"#000000\" font-family=\"sans-serif\" font-size=\"12\" font-style=\"italic\" lengthAdjust=\"spacingAndGlyphs\" textLength=\"64\" x=\"141.5\" y=\"65.1387\">«part def»</text><text fill=\"#000000\" font-family=\"sans-serif\" font-size=\"12\" lengthAdjust=\"spacingAndGlyphs\" textLength=\"16\" x=\"165.5\" y=\"79.1074\">B1</text></a><!--MD5=[03104f77b71e2d8d3500c651e6e31181]\n",
       "cluster E13--><a href=\"psysml:593a6524-9b3f-4082-a23e-8ed96ff9a715\" target=\"_top\" title=\"psysml:593a6524-9b3f-4082-a23e-8ed96ff9a715\" xlink:actuate=\"onRequest\" xlink:href=\"psysml:593a6524-9b3f-4082-a23e-8ed96ff9a715\" xlink:show=\"new\" xlink:title=\"psysml:593a6524-9b3f-4082-a23e-8ed96ff9a715\" xlink:type=\"simple\"><rect fill=\"#FFFFFF\" height=\"80.5\" id=\"E13\" rx=\"10\" ry=\"10\" style=\"stroke: #383838; stroke-width: 1.5;\" width=\"83\" x=\"132\" y=\"114\"/><rect fill=\"#F8F8F8\" height=\"23.9688\" rx=\"10\" ry=\"10\" style=\"stroke: #F8F8F8; stroke-width: 1.5;\" width=\"83\" x=\"132\" y=\"114\"/><rect fill=\"#F8F8F8\" height=\"10\" style=\"stroke: #F8F8F8; stroke-width: 1.5;\" width=\"83\" x=\"132\" y=\"127.9688\"/><rect fill=\"none\" height=\"80.5\" id=\"E13\" rx=\"10\" ry=\"10\" style=\"stroke: #383838; stroke-width: 1.5;\" width=\"83\" x=\"132\" y=\"114\"/><text fill=\"#000000\" font-family=\"sans-serif\" font-size=\"12\" lengthAdjust=\"spacingAndGlyphs\" textLength=\"8\" x=\"169.5\" y=\"130.1387\">p</text><line style=\"stroke: #383838; stroke-width: 1.0;\" x1=\"132\" x2=\"215\" y1=\"137.9688\" y2=\"137.9688\"/></a><g id=\"E1.E2\"><a href=\"psysml:eee324b7-6ef1-4f74-bb85-9d01b884a0c3\" target=\"_top\" title=\"psysml:eee324b7-6ef1-4f74-bb85-9d01b884a0c3\" xlink:actuate=\"onRequest\" xlink:href=\"psysml:eee324b7-6ef1-4f74-bb85-9d01b884a0c3\" xlink:show=\"new\" xlink:title=\"psysml:eee324b7-6ef1-4f74-bb85-9d01b884a0c3\" xlink:type=\"simple\"><rect fill=\"#FFFFFF\" height=\"42.9375\" id=\"E2\" style=\"stroke: #383838; stroke-width: 1.5;\" width=\"71\" x=\"32.5\" y=\"92.5\"/><rect fill=\"#F8F8F8\" height=\"37.9375\" style=\"stroke: #383838; stroke-width: 1.5;\" width=\"71\" x=\"32.5\" y=\"92.5\"/><text fill=\"#000000\" font-family=\"sans-serif\" font-size=\"12\" font-style=\"italic\" lengthAdjust=\"spacingAndGlyphs\" textLength=\"64\" x=\"36\" y=\"108.6387\">«port def»</text><text fill=\"#000000\" font-family=\"sans-serif\" font-size=\"12\" lengthAdjust=\"spacingAndGlyphs\" textLength=\"8\" x=\"64\" y=\"122.6074\">P</text></a></g><text fill=\"#000000\" font-family=\"sans-serif\" font-size=\"14\" lengthAdjust=\"spacingAndGlyphs\" textLength=\"36\" x=\"577\" y=\"92.6982\">p1: P</text><rect fill=\"#383838\" height=\"12\" style=\"stroke: #F8F8F8; stroke-width: 1.5;\" width=\"12\" x=\"589\" y=\"108\"/><text fill=\"#000000\" font-family=\"sans-serif\" font-size=\"14\" lengthAdjust=\"spacingAndGlyphs\" textLength=\"48\" x=\"618\" y=\"92.6982\">p2: ~P</text><rect fill=\"#383838\" height=\"12\" style=\"stroke: #F8F8F8; stroke-width: 1.5;\" width=\"12\" x=\"636\" y=\"108\"/><text fill=\"#000000\" font-family=\"sans-serif\" font-size=\"14\" lengthAdjust=\"spacingAndGlyphs\" textLength=\"36\" x=\"423\" y=\"92.6982\">p1: P</text><rect fill=\"#383838\" height=\"12\" style=\"stroke: #F8F8F8; stroke-width: 1.5;\" width=\"12\" x=\"435\" y=\"108\"/><text fill=\"#000000\" font-family=\"sans-serif\" font-size=\"14\" lengthAdjust=\"spacingAndGlyphs\" textLength=\"48\" x=\"464\" y=\"92.6982\">p2: ~P</text><rect fill=\"#383838\" height=\"12\" style=\"stroke: #F8F8F8; stroke-width: 1.5;\" width=\"12\" x=\"482\" y=\"108\"/><text fill=\"#000000\" font-family=\"sans-serif\" font-size=\"14\" lengthAdjust=\"spacingAndGlyphs\" textLength=\"36\" x=\"254\" y=\"92.6982\">p1: P</text><rect fill=\"#383838\" height=\"12\" style=\"stroke: #F8F8F8; stroke-width: 1.5;\" width=\"12\" x=\"266\" y=\"108\"/><text fill=\"#000000\" font-family=\"sans-serif\" font-size=\"14\" lengthAdjust=\"spacingAndGlyphs\" textLength=\"48\" x=\"295\" y=\"92.6982\">p2: ~P</text><rect fill=\"#383838\" height=\"12\" style=\"stroke: #F8F8F8; stroke-width: 1.5;\" width=\"12\" x=\"313\" y=\"108\"/><text fill=\"#000000\" font-family=\"sans-serif\" font-size=\"14\" lengthAdjust=\"spacingAndGlyphs\" textLength=\"36\" x=\"132\" y=\"92.6982\">p1: P</text><rect fill=\"#383838\" height=\"12\" style=\"stroke: #F8F8F8; stroke-width: 1.5;\" width=\"12\" x=\"144\" y=\"108\"/><text fill=\"#000000\" font-family=\"sans-serif\" font-size=\"14\" lengthAdjust=\"spacingAndGlyphs\" textLength=\"48\" x=\"173\" y=\"92.6982\">p2: ~P</text><rect fill=\"#383838\" height=\"12\" style=\"stroke: #F8F8F8; stroke-width: 1.5;\" width=\"12\" x=\"191\" y=\"108\"/><!--MD5=[4ce51ac6fa4cf5202df3859e2718f033]\n",
       "link E15 to E14--><a href=\"psysml:aa2d6f76-4132-425f-9826-f18a4b0e5493\" target=\"_top\" title=\"psysml:aa2d6f76-4132-425f-9826-f18a4b0e5493\" xlink:actuate=\"onRequest\" xlink:href=\"psysml:aa2d6f76-4132-425f-9826-f18a4b0e5493\" xlink:show=\"new\" xlink:title=\"psysml:aa2d6f76-4132-425f-9826-f18a4b0e5493\" xlink:type=\"simple\"><path d=\"M190.95,114 C179.38,114 167.81,114 156.24,114 \" fill=\"none\" id=\"E15-E14\" style=\"stroke: #383838; stroke-width: 3.0;\"/></a><!--MD5=[4ce51ac6fa4cf5202df3859e2718f033]\n",
       "link E15 to E14--><a href=\"psysml:7b87a1ef-cf2b-4c9e-a130-c1b402d1e385\" target=\"_top\" title=\"psysml:7b87a1ef-cf2b-4c9e-a130-c1b402d1e385\" xlink:actuate=\"onRequest\" xlink:href=\"psysml:7b87a1ef-cf2b-4c9e-a130-c1b402d1e385\" xlink:show=\"new\" xlink:title=\"psysml:7b87a1ef-cf2b-4c9e-a130-c1b402d1e385\" xlink:type=\"simple\"><path d=\"M190.95,111.98 C179.38,108.69 167.81,108.67 156.24,111.93 \" fill=\"none\" id=\"E15-E14-1\" style=\"stroke: #383838; stroke-width: 3.0;\"/></a><!--MD5=[6c644953bc3ae9b6d9d54731999b8e0a]\n",
       "@startuml\r\n",
       "skinparam ranksep 8\r\n",
       "skinparam rectangle {\r\n",
       " backgroundColor<<block>> LightGreen\r\n",
       "}\r\n",
       " skinparam monochrome true\r\n",
       "skinparam classbackgroundcolor white\r\n",
       "skinparam shadowing false\r\n",
       "skinparam wrapWidth 300\r\n",
       "hide circle\r\n",
       "\r\n",
       "package \"ConjugationTest\" as E1  [[psysml:db7199af-e574-4214-8b26-5aef0dbbdb0a ]]  {\r\n",
       "def \"P\" as E2  <<(T,blue)port def>> [[psysml:eee324b7-6ef1-4f74-bb85-9d01b884a0c3 ]] \r\n",
       "rec def \"B\" as E3  <<(T,blue)part def>> [[psysml:987ad9e8-156c-405b-94a5-0234bd5ef961 ]] {\r\n",
       "portin \"p1: P\" as E4  <<(T,blue)port>> [[psysml:c8a4d081-7853-4f87-8688-3b004d6601fe ]] \r\n",
       "portin \"p2: ~P\" as E5  <<(T,blue)port>> [[psysml:93d25d87-d8ba-4a14-9054-622c501a7419 ]] \r\n",
       "}\r\n",
       "rec def \"A\" as E6  <<(T,blue)connection def>> [[psysml:d4b825d6-e011-4f07-a399-999db6b99ea3 ]] {\r\n",
       "portin \"p1: P\" as E7  <<(T,blue)port>> [[psysml:cf23f925-3ac9-40f7-8eb9-75cb926494bb ]] \r\n",
       "portin \"p2: ~P\" as E8  <<(T,blue)port>> [[psysml:78e860a1-2afe-4044-9ab4-1ebbe08f7dad ]] \r\n",
       "}\r\n",
       "rec def \"I\" as E9  <<(T,blue)interface def>> [[psysml:0fcf03a3-0a94-497d-adc5-5270b49e59d7 ]] {\r\n",
       "portin \"p1: P\" as E10  <<(T,blue)port>> [[psysml:e29a1f34-1b36-49a6-a497-c0e94a31f076 ]] \r\n",
       "portin \"p2: ~P\" as E11  <<(T,blue)port>> [[psysml:b6345cdf-3536-4afa-a6d8-3c5d2219e138 ]] \r\n",
       "}\r\n",
       "rec def \"B1\" as E12  <<(T,blue)part def>> [[psysml:fa47a610-a800-429f-b665-228f1e266500 ]] {\r\n",
       "rec usage \"p\" as E13  [[psysml:593a6524-9b3f-4082-a23e-8ed96ff9a715 ]] {\r\n",
       "portin \"p1: P\" as E14  <<(T,blue)port>> [[psysml:a4f040c8-38a0-4d60-9c1e-4003131a919c ]] \r\n",
       "portin \"p2: ~P\" as E15  <<(T,blue)port>> [[psysml:661396c6-733f-4c07-bbb8-142725b64304 ]] \r\n",
       "}\r\n",
       "}\r\n",
       "E15 -[thickness=3]- E14 [[psysml:aa2d6f76-4132-425f-9826-f18a4b0e5493 ]] \r\n",
       "E15 -[thickness=3]- E14 [[psysml:7b87a1ef-cf2b-4c9e-a130-c1b402d1e385 ]] \r\n",
       "}\r\n",
       "@enduml\r\n",
       "\n",
       "PlantUML version 1.2020.13(Sat Jun 13 12:26:38 UTC 2020)\n",
       "(EPL source distribution)\n",
       "Java Runtime: OpenJDK Runtime Environment\n",
       "JVM: OpenJDK 64-Bit Server VM\n",
       "Default Encoding: UTF-8\n",
       "Language: en\n",
       "Country: null\n",
       "--></g></svg>"
      ]
     },
     "execution_count": 5,
     "metadata": {},
     "output_type": "execute_result"
    }
   ],
   "source": [
    "%viz --style=\"COMPTREE\" --view=\"Interconnection\" \"ConjugationTest\""
   ]
  },
  {
   "cell_type": "code",
   "execution_count": 6,
   "id": "static-blanket",
   "metadata": {
    "execution": {
     "iopub.execute_input": "2021-03-25T13:18:39.399170Z",
     "iopub.status.busy": "2021-03-25T13:18:39.398312Z",
     "iopub.status.idle": "2021-03-25T13:18:39.412854Z",
     "shell.execute_reply": "2021-03-25T13:18:39.413859Z"
    }
   },
   "outputs": [
    {
     "data": {
      "image/svg+xml": [
       "<?xml version=\"1.0\" encoding=\"UTF-8\" standalone=\"no\"?><svg xmlns=\"http://www.w3.org/2000/svg\" xmlns:xlink=\"http://www.w3.org/1999/xlink\" contentScriptType=\"application/ecmascript\" contentStyleType=\"text/css\" height=\"12px\" preserveAspectRatio=\"none\" style=\"width:12px;height:12px;\" version=\"1.1\" viewBox=\"0 0 12 12\" width=\"12px\" zoomAndPan=\"magnify\"><defs/><g><!--MD5=[655b888544ca4751ea36af1068543f84]\n",
       "@startuml\r\n",
       "skinparam ranksep 8\r\n",
       " skinparam monochrome true\r\n",
       "skinparam classbackgroundcolor white\r\n",
       "skinparam shadowing false\r\n",
       "skinparam wrapWidth 300\r\n",
       "hide circle\r\n",
       "\r\n",
       "@enduml\r\n",
       "\n",
       "PlantUML version 1.2020.13(Sat Jun 13 12:26:38 UTC 2020)\n",
       "(EPL source distribution)\n",
       "Java Runtime: OpenJDK Runtime Environment\n",
       "JVM: OpenJDK 64-Bit Server VM\n",
       "Default Encoding: UTF-8\n",
       "Language: en\n",
       "Country: null\n",
       "--></g></svg>"
      ]
     },
     "execution_count": 6,
     "metadata": {},
     "output_type": "execute_result"
    }
   ],
   "source": [
    "%viz --style=\"COMPTREE\" --view=\"Action\" \"ConjugationTest\""
   ]
  },
  {
   "cell_type": "code",
   "execution_count": 7,
   "id": "unknown-australian",
   "metadata": {
    "execution": {
     "iopub.execute_input": "2021-03-25T13:18:39.464769Z",
     "iopub.status.busy": "2021-03-25T13:18:39.463944Z",
     "iopub.status.idle": "2021-03-25T13:18:40.382801Z",
     "shell.execute_reply": "2021-03-25T13:18:40.383465Z"
    }
   },
   "outputs": [
    {
     "data": {
      "image/svg+xml": [
       "<?xml version=\"1.0\" encoding=\"UTF-8\" standalone=\"no\"?><svg xmlns=\"http://www.w3.org/2000/svg\" xmlns:xlink=\"http://www.w3.org/1999/xlink\" contentScriptType=\"application/ecmascript\" contentStyleType=\"text/css\" height=\"305px\" preserveAspectRatio=\"none\" style=\"width:614px;height:305px;\" version=\"1.1\" viewBox=\"0 0 614 305\" width=\"614px\" zoomAndPan=\"magnify\"><defs/><g><!--MD5=[fbc87193dbaf4d95561dea2c320d4a47]\n",
       "cluster E1--><a href=\"psysml:db7199af-e574-4214-8b26-5aef0dbbdb0a\" target=\"_top\" title=\"psysml:db7199af-e574-4214-8b26-5aef0dbbdb0a\" xlink:actuate=\"onRequest\" xlink:href=\"psysml:db7199af-e574-4214-8b26-5aef0dbbdb0a\" xlink:show=\"new\" xlink:title=\"psysml:db7199af-e574-4214-8b26-5aef0dbbdb0a\" xlink:type=\"simple\"><polygon fill=\"#FFFFFF\" points=\"16,6,151,6,158,28.2969,592,28.2969,592,293,16,293,16,6\" style=\"stroke: #000000; stroke-width: 1.5;\"/><line style=\"stroke: #000000; stroke-width: 1.5;\" x1=\"16\" x2=\"158\" y1=\"28.2969\" y2=\"28.2969\"/><text fill=\"#000000\" font-family=\"sans-serif\" font-size=\"14\" font-weight=\"bold\" lengthAdjust=\"spacingAndGlyphs\" textLength=\"129\" x=\"20\" y=\"20.9951\">ConjugationTest</text></a><!--MD5=[b4997ac47864f28c2f74865a473b2911]\n",
       "class E2--><a href=\"psysml:eee324b7-6ef1-4f74-bb85-9d01b884a0c3\" target=\"_top\" title=\"psysml:eee324b7-6ef1-4f74-bb85-9d01b884a0c3\" xlink:actuate=\"onRequest\" xlink:href=\"psysml:eee324b7-6ef1-4f74-bb85-9d01b884a0c3\" xlink:show=\"new\" xlink:title=\"psysml:eee324b7-6ef1-4f74-bb85-9d01b884a0c3\" xlink:type=\"simple\"><rect fill=\"#FFFFFF\" height=\"45.9375\" id=\"E2\" style=\"stroke: #383838; stroke-width: 1.5;\" width=\"66\" x=\"510\" y=\"62\"/><text fill=\"#000000\" font-family=\"sans-serif\" font-size=\"12\" font-style=\"italic\" lengthAdjust=\"spacingAndGlyphs\" textLength=\"64\" x=\"511\" y=\"78.1387\">«port def»</text><text fill=\"#000000\" font-family=\"sans-serif\" font-size=\"12\" lengthAdjust=\"spacingAndGlyphs\" textLength=\"8\" x=\"539\" y=\"92.1074\">P</text><line style=\"stroke: #383838; stroke-width: 1.5;\" x1=\"511\" x2=\"575\" y1=\"99.9375\" y2=\"99.9375\"/></a><!--MD5=[09b614a08d8cba4a07c9adeb5e0fee81]\n",
       "class E3--><a href=\"psysml:987ad9e8-156c-405b-94a5-0234bd5ef961\" target=\"_top\" title=\"psysml:987ad9e8-156c-405b-94a5-0234bd5ef961\" xlink:actuate=\"onRequest\" xlink:href=\"psysml:987ad9e8-156c-405b-94a5-0234bd5ef961\" xlink:show=\"new\" xlink:title=\"psysml:987ad9e8-156c-405b-94a5-0234bd5ef961\" xlink:type=\"simple\"><rect fill=\"#FFFFFF\" height=\"88.3516\" id=\"E3\" style=\"stroke: #383838; stroke-width: 1.5;\" width=\"66\" x=\"409\" y=\"41\"/><text fill=\"#000000\" font-family=\"sans-serif\" font-size=\"12\" font-style=\"italic\" lengthAdjust=\"spacingAndGlyphs\" textLength=\"64\" x=\"410\" y=\"57.1387\">«part def»</text><text fill=\"#000000\" font-family=\"sans-serif\" font-size=\"12\" lengthAdjust=\"spacingAndGlyphs\" textLength=\"8\" x=\"438\" y=\"71.1074\">B</text><line style=\"stroke: #383838; stroke-width: 1.5;\" x1=\"410\" x2=\"474\" y1=\"78.9375\" y2=\"78.9375\"/><text fill=\"#000000\" font-family=\"sans-serif\" font-size=\"11\" lengthAdjust=\"spacingAndGlyphs\" textLength=\"29\" x=\"415\" y=\"109.9526\">p1: P</text><text fill=\"#000000\" font-family=\"sans-serif\" font-size=\"11\" lengthAdjust=\"spacingAndGlyphs\" textLength=\"38\" x=\"415\" y=\"122.7573\">p2: ~P</text><line style=\"stroke: #383838; stroke-width: 1.0;\" x1=\"410\" x2=\"427\" y1=\"93.3398\" y2=\"93.3398\"/><text fill=\"#000000\" font-family=\"sans-serif\" font-size=\"11\" lengthAdjust=\"spacingAndGlyphs\" textLength=\"30\" x=\"427\" y=\"96.6479\">ports</text><line style=\"stroke: #383838; stroke-width: 1.0;\" x1=\"457\" x2=\"474\" y1=\"93.3398\" y2=\"93.3398\"/></a><!--MD5=[ebbe1d658d1005bcc118a6aa81145e00]\n",
       "class E4--><a href=\"psysml:d4b825d6-e011-4f07-a399-999db6b99ea3\" target=\"_top\" title=\"psysml:d4b825d6-e011-4f07-a399-999db6b99ea3\" xlink:actuate=\"onRequest\" xlink:href=\"psysml:d4b825d6-e011-4f07-a399-999db6b99ea3\" xlink:show=\"new\" xlink:title=\"psysml:d4b825d6-e011-4f07-a399-999db6b99ea3\" xlink:type=\"simple\"><rect fill=\"#FFFFFF\" height=\"88.3516\" id=\"E4\" style=\"stroke: #383838; stroke-width: 1.5;\" width=\"110\" x=\"264\" y=\"41\"/><text fill=\"#000000\" font-family=\"sans-serif\" font-size=\"12\" font-style=\"italic\" lengthAdjust=\"spacingAndGlyphs\" textLength=\"108\" x=\"265\" y=\"57.1387\">«connection def»</text><text fill=\"#000000\" font-family=\"sans-serif\" font-size=\"12\" lengthAdjust=\"spacingAndGlyphs\" textLength=\"8\" x=\"315\" y=\"71.1074\">A</text><line style=\"stroke: #383838; stroke-width: 1.5;\" x1=\"265\" x2=\"373\" y1=\"78.9375\" y2=\"78.9375\"/><text fill=\"#000000\" font-family=\"sans-serif\" font-size=\"11\" lengthAdjust=\"spacingAndGlyphs\" textLength=\"29\" x=\"270\" y=\"109.9526\">p1: P</text><text fill=\"#000000\" font-family=\"sans-serif\" font-size=\"11\" lengthAdjust=\"spacingAndGlyphs\" textLength=\"38\" x=\"270\" y=\"122.7573\">p2: ~P</text><line style=\"stroke: #383838; stroke-width: 1.0;\" x1=\"265\" x2=\"304\" y1=\"93.3398\" y2=\"93.3398\"/><text fill=\"#000000\" font-family=\"sans-serif\" font-size=\"11\" lengthAdjust=\"spacingAndGlyphs\" textLength=\"30\" x=\"304\" y=\"96.6479\">ports</text><line style=\"stroke: #383838; stroke-width: 1.0;\" x1=\"334\" x2=\"373\" y1=\"93.3398\" y2=\"93.3398\"/></a><!--MD5=[270fce915f116d4de14055a7c1d9a0f3]\n",
       "class E5--><a href=\"psysml:0fcf03a3-0a94-497d-adc5-5270b49e59d7\" target=\"_top\" title=\"psysml:0fcf03a3-0a94-497d-adc5-5270b49e59d7\" xlink:actuate=\"onRequest\" xlink:href=\"psysml:0fcf03a3-0a94-497d-adc5-5270b49e59d7\" xlink:show=\"new\" xlink:title=\"psysml:0fcf03a3-0a94-497d-adc5-5270b49e59d7\" xlink:type=\"simple\"><rect fill=\"#FFFFFF\" height=\"88.3516\" id=\"E5\" style=\"stroke: #383838; stroke-width: 1.5;\" width=\"96\" x=\"133\" y=\"41\"/><text fill=\"#000000\" font-family=\"sans-serif\" font-size=\"12\" font-style=\"italic\" lengthAdjust=\"spacingAndGlyphs\" textLength=\"94\" x=\"134\" y=\"57.1387\">«interface def»</text><text fill=\"#000000\" font-family=\"sans-serif\" font-size=\"12\" lengthAdjust=\"spacingAndGlyphs\" textLength=\"3\" x=\"179.5\" y=\"71.1074\">I</text><line style=\"stroke: #383838; stroke-width: 1.5;\" x1=\"134\" x2=\"228\" y1=\"78.9375\" y2=\"78.9375\"/><text fill=\"#000000\" font-family=\"sans-serif\" font-size=\"11\" lengthAdjust=\"spacingAndGlyphs\" textLength=\"29\" x=\"139\" y=\"109.9526\">p1: P</text><text fill=\"#000000\" font-family=\"sans-serif\" font-size=\"11\" lengthAdjust=\"spacingAndGlyphs\" textLength=\"38\" x=\"139\" y=\"122.7573\">p2: ~P</text><line style=\"stroke: #383838; stroke-width: 1.0;\" x1=\"134\" x2=\"166\" y1=\"93.3398\" y2=\"93.3398\"/><text fill=\"#000000\" font-family=\"sans-serif\" font-size=\"11\" lengthAdjust=\"spacingAndGlyphs\" textLength=\"30\" x=\"166\" y=\"96.6479\">ports</text><line style=\"stroke: #383838; stroke-width: 1.0;\" x1=\"196\" x2=\"228\" y1=\"93.3398\" y2=\"93.3398\"/></a><!--MD5=[60a26617385b1d2d0262a64233df1f8d]\n",
       "class E6--><a href=\"psysml:fa47a610-a800-429f-b665-228f1e266500\" target=\"_top\" title=\"psysml:fa47a610-a800-429f-b665-228f1e266500\" xlink:actuate=\"onRequest\" xlink:href=\"psysml:fa47a610-a800-429f-b665-228f1e266500\" xlink:show=\"new\" xlink:title=\"psysml:fa47a610-a800-429f-b665-228f1e266500\" xlink:type=\"simple\"><rect fill=\"#FFFFFF\" height=\"45.9375\" id=\"E6\" style=\"stroke: #383838; stroke-width: 1.5;\" width=\"66\" x=\"32\" y=\"62\"/><text fill=\"#000000\" font-family=\"sans-serif\" font-size=\"12\" font-style=\"italic\" lengthAdjust=\"spacingAndGlyphs\" textLength=\"64\" x=\"33\" y=\"78.1387\">«part def»</text><text fill=\"#000000\" font-family=\"sans-serif\" font-size=\"12\" lengthAdjust=\"spacingAndGlyphs\" textLength=\"16\" x=\"57\" y=\"92.1074\">B1</text><line style=\"stroke: #383838; stroke-width: 1.5;\" x1=\"33\" x2=\"97\" y1=\"99.9375\" y2=\"99.9375\"/></a><!--MD5=[2156ba9850f5573cc1fc38a6a4b2f02b]\n",
       "class E7--><a href=\"psysml:593a6524-9b3f-4082-a23e-8ed96ff9a715\" target=\"_top\" title=\"psysml:593a6524-9b3f-4082-a23e-8ed96ff9a715\" xlink:actuate=\"onRequest\" xlink:href=\"psysml:593a6524-9b3f-4082-a23e-8ed96ff9a715\" xlink:show=\"new\" xlink:title=\"psysml:593a6524-9b3f-4082-a23e-8ed96ff9a715\" xlink:type=\"simple\"><rect fill=\"#FFFFFF\" height=\"88.3516\" id=\"E7\" rx=\"10\" ry=\"10\" style=\"stroke: #383838; stroke-width: 1.5;\" width=\"50\" x=\"40\" y=\"189\"/><text fill=\"#000000\" font-family=\"sans-serif\" font-size=\"12\" font-style=\"italic\" lengthAdjust=\"spacingAndGlyphs\" textLength=\"40\" x=\"45\" y=\"205.1387\">«part»</text><text fill=\"#000000\" font-family=\"sans-serif\" font-size=\"12\" lengthAdjust=\"spacingAndGlyphs\" textLength=\"8\" x=\"61\" y=\"219.1074\">p</text><line style=\"stroke: #383838; stroke-width: 1.5;\" x1=\"41\" x2=\"89\" y1=\"226.9375\" y2=\"226.9375\"/><text fill=\"#000000\" font-family=\"sans-serif\" font-size=\"11\" lengthAdjust=\"spacingAndGlyphs\" textLength=\"29\" x=\"46\" y=\"257.9526\">p1: P</text><text fill=\"#000000\" font-family=\"sans-serif\" font-size=\"11\" lengthAdjust=\"spacingAndGlyphs\" textLength=\"38\" x=\"46\" y=\"270.7573\">p2: ~P</text><line style=\"stroke: #383838; stroke-width: 1.0;\" x1=\"41\" x2=\"50\" y1=\"241.3398\" y2=\"241.3398\"/><text fill=\"#000000\" font-family=\"sans-serif\" font-size=\"11\" lengthAdjust=\"spacingAndGlyphs\" textLength=\"30\" x=\"50\" y=\"244.6479\">ports</text><line style=\"stroke: #383838; stroke-width: 1.0;\" x1=\"80\" x2=\"89\" y1=\"241.3398\" y2=\"241.3398\"/></a><!--MD5=[3f50a3473f1dfb74d3f76443e03635af]\n",
       "reverse link E6 to E7--><a href=\"psysml:593a6524-9b3f-4082-a23e-8ed96ff9a715\" target=\"_top\" title=\"psysml:593a6524-9b3f-4082-a23e-8ed96ff9a715\" xlink:actuate=\"onRequest\" xlink:href=\"psysml:593a6524-9b3f-4082-a23e-8ed96ff9a715\" xlink:show=\"new\" xlink:title=\"psysml:593a6524-9b3f-4082-a23e-8ed96ff9a715\" xlink:type=\"simple\"><path d=\"M65,121.25 C65,141.54 65,167.2 65,188.71 \" fill=\"none\" id=\"E6&lt;-E7\" style=\"stroke: #383838; stroke-width: 1.0;\"/><polygon fill=\"#383838\" points=\"65,108.17,61,114.17,65,120.17,69,114.17,65,108.17\" style=\"stroke: #383838; stroke-width: 1.0;\"/></a><!--MD5=[db57058c0e384bd1f31635721004d425]\n",
       "@startuml\r\n",
       " skinparam monochrome true\r\n",
       "skinparam classbackgroundcolor white\r\n",
       "skinparam shadowing false\r\n",
       "skinparam wrapWidth 300\r\n",
       "hide circle\r\n",
       "\r\n",
       "package \"ConjugationTest\" as E1  [[psysml:db7199af-e574-4214-8b26-5aef0dbbdb0a ]]  {\r\n",
       "comp def \"P\" as E2  <<(T,blue)port def>> [[psysml:eee324b7-6ef1-4f74-bb85-9d01b884a0c3 ]] {\r\n",
       "}\r\n",
       "comp def \"B\" as E3  <<(T,blue)part def>> [[psysml:987ad9e8-156c-405b-94a5-0234bd5ef961 ]] {\r\n",
       "- - ports - -\r\n",
       "p1: P\r\n",
       "p2: ~P\r\n",
       "}\r\n",
       "comp def \"A\" as E4  <<(T,blue)connection def>> [[psysml:d4b825d6-e011-4f07-a399-999db6b99ea3 ]] {\r\n",
       "- - ports - -\r\n",
       "p1: P\r\n",
       "p2: ~P\r\n",
       "}\r\n",
       "comp def \"I\" as E5  <<(T,blue)interface def>> [[psysml:0fcf03a3-0a94-497d-adc5-5270b49e59d7 ]] {\r\n",
       "- - ports - -\r\n",
       "p1: P\r\n",
       "p2: ~P\r\n",
       "}\r\n",
       "comp def \"B1\" as E6  <<(T,blue)part def>> [[psysml:fa47a610-a800-429f-b665-228f1e266500 ]] {\r\n",
       "}\r\n",
       "comp usage \"p\" as E7  <<(T,blue)part>> [[psysml:593a6524-9b3f-4082-a23e-8ed96ff9a715 ]] {\r\n",
       "- - ports - -\r\n",
       "p1: P\r\n",
       "p2: ~P\r\n",
       "}\r\n",
       "E6 *- - E7 [[psysml:593a6524-9b3f-4082-a23e-8ed96ff9a715 ]] \r\n",
       "}\r\n",
       "@enduml\r\n",
       "\n",
       "PlantUML version 1.2020.13(Sat Jun 13 12:26:38 UTC 2020)\n",
       "(EPL source distribution)\n",
       "Java Runtime: OpenJDK Runtime Environment\n",
       "JVM: OpenJDK 64-Bit Server VM\n",
       "Default Encoding: UTF-8\n",
       "Language: en\n",
       "Country: null\n",
       "--></g></svg>"
      ]
     },
     "execution_count": 7,
     "metadata": {},
     "output_type": "execute_result"
    }
   ],
   "source": [
    "%viz --style=\"COMPTREE\" --view=\"Sequence\" \"ConjugationTest\""
   ]
  },
  {
   "cell_type": "code",
   "execution_count": 8,
   "id": "fundamental-toolbox",
   "metadata": {
    "execution": {
     "iopub.execute_input": "2021-03-25T13:18:40.434420Z",
     "iopub.status.busy": "2021-03-25T13:18:40.433458Z",
     "iopub.status.idle": "2021-03-25T13:18:41.316666Z",
     "shell.execute_reply": "2021-03-25T13:18:41.317343Z"
    }
   },
   "outputs": [
    {
     "data": {
      "image/svg+xml": [
       "<?xml version=\"1.0\" encoding=\"UTF-8\" standalone=\"no\"?><svg xmlns=\"http://www.w3.org/2000/svg\" xmlns:xlink=\"http://www.w3.org/1999/xlink\" contentScriptType=\"application/ecmascript\" contentStyleType=\"text/css\" height=\"305px\" preserveAspectRatio=\"none\" style=\"width:614px;height:305px;\" version=\"1.1\" viewBox=\"0 0 614 305\" width=\"614px\" zoomAndPan=\"magnify\"><defs/><g><!--MD5=[fbc87193dbaf4d95561dea2c320d4a47]\n",
       "cluster E1--><a href=\"psysml:db7199af-e574-4214-8b26-5aef0dbbdb0a\" target=\"_top\" title=\"psysml:db7199af-e574-4214-8b26-5aef0dbbdb0a\" xlink:actuate=\"onRequest\" xlink:href=\"psysml:db7199af-e574-4214-8b26-5aef0dbbdb0a\" xlink:show=\"new\" xlink:title=\"psysml:db7199af-e574-4214-8b26-5aef0dbbdb0a\" xlink:type=\"simple\"><polygon fill=\"#FFFFFF\" points=\"16,6,151,6,158,28.2969,592,28.2969,592,293,16,293,16,6\" style=\"stroke: #000000; stroke-width: 1.5;\"/><line style=\"stroke: #000000; stroke-width: 1.5;\" x1=\"16\" x2=\"158\" y1=\"28.2969\" y2=\"28.2969\"/><text fill=\"#000000\" font-family=\"sans-serif\" font-size=\"14\" font-weight=\"bold\" lengthAdjust=\"spacingAndGlyphs\" textLength=\"129\" x=\"20\" y=\"20.9951\">ConjugationTest</text></a><!--MD5=[b4997ac47864f28c2f74865a473b2911]\n",
       "class E2--><a href=\"psysml:eee324b7-6ef1-4f74-bb85-9d01b884a0c3\" target=\"_top\" title=\"psysml:eee324b7-6ef1-4f74-bb85-9d01b884a0c3\" xlink:actuate=\"onRequest\" xlink:href=\"psysml:eee324b7-6ef1-4f74-bb85-9d01b884a0c3\" xlink:show=\"new\" xlink:title=\"psysml:eee324b7-6ef1-4f74-bb85-9d01b884a0c3\" xlink:type=\"simple\"><rect fill=\"#FFFFFF\" height=\"45.9375\" id=\"E2\" style=\"stroke: #383838; stroke-width: 1.5;\" width=\"66\" x=\"510\" y=\"62\"/><text fill=\"#000000\" font-family=\"sans-serif\" font-size=\"12\" font-style=\"italic\" lengthAdjust=\"spacingAndGlyphs\" textLength=\"64\" x=\"511\" y=\"78.1387\">«port def»</text><text fill=\"#000000\" font-family=\"sans-serif\" font-size=\"12\" lengthAdjust=\"spacingAndGlyphs\" textLength=\"8\" x=\"539\" y=\"92.1074\">P</text><line style=\"stroke: #383838; stroke-width: 1.5;\" x1=\"511\" x2=\"575\" y1=\"99.9375\" y2=\"99.9375\"/></a><!--MD5=[09b614a08d8cba4a07c9adeb5e0fee81]\n",
       "class E3--><a href=\"psysml:987ad9e8-156c-405b-94a5-0234bd5ef961\" target=\"_top\" title=\"psysml:987ad9e8-156c-405b-94a5-0234bd5ef961\" xlink:actuate=\"onRequest\" xlink:href=\"psysml:987ad9e8-156c-405b-94a5-0234bd5ef961\" xlink:show=\"new\" xlink:title=\"psysml:987ad9e8-156c-405b-94a5-0234bd5ef961\" xlink:type=\"simple\"><rect fill=\"#FFFFFF\" height=\"88.3516\" id=\"E3\" style=\"stroke: #383838; stroke-width: 1.5;\" width=\"66\" x=\"409\" y=\"41\"/><text fill=\"#000000\" font-family=\"sans-serif\" font-size=\"12\" font-style=\"italic\" lengthAdjust=\"spacingAndGlyphs\" textLength=\"64\" x=\"410\" y=\"57.1387\">«part def»</text><text fill=\"#000000\" font-family=\"sans-serif\" font-size=\"12\" lengthAdjust=\"spacingAndGlyphs\" textLength=\"8\" x=\"438\" y=\"71.1074\">B</text><line style=\"stroke: #383838; stroke-width: 1.5;\" x1=\"410\" x2=\"474\" y1=\"78.9375\" y2=\"78.9375\"/><text fill=\"#000000\" font-family=\"sans-serif\" font-size=\"11\" lengthAdjust=\"spacingAndGlyphs\" textLength=\"29\" x=\"415\" y=\"109.9526\">p1: P</text><text fill=\"#000000\" font-family=\"sans-serif\" font-size=\"11\" lengthAdjust=\"spacingAndGlyphs\" textLength=\"38\" x=\"415\" y=\"122.7573\">p2: ~P</text><line style=\"stroke: #383838; stroke-width: 1.0;\" x1=\"410\" x2=\"427\" y1=\"93.3398\" y2=\"93.3398\"/><text fill=\"#000000\" font-family=\"sans-serif\" font-size=\"11\" lengthAdjust=\"spacingAndGlyphs\" textLength=\"30\" x=\"427\" y=\"96.6479\">ports</text><line style=\"stroke: #383838; stroke-width: 1.0;\" x1=\"457\" x2=\"474\" y1=\"93.3398\" y2=\"93.3398\"/></a><!--MD5=[ebbe1d658d1005bcc118a6aa81145e00]\n",
       "class E4--><a href=\"psysml:d4b825d6-e011-4f07-a399-999db6b99ea3\" target=\"_top\" title=\"psysml:d4b825d6-e011-4f07-a399-999db6b99ea3\" xlink:actuate=\"onRequest\" xlink:href=\"psysml:d4b825d6-e011-4f07-a399-999db6b99ea3\" xlink:show=\"new\" xlink:title=\"psysml:d4b825d6-e011-4f07-a399-999db6b99ea3\" xlink:type=\"simple\"><rect fill=\"#FFFFFF\" height=\"88.3516\" id=\"E4\" style=\"stroke: #383838; stroke-width: 1.5;\" width=\"110\" x=\"264\" y=\"41\"/><text fill=\"#000000\" font-family=\"sans-serif\" font-size=\"12\" font-style=\"italic\" lengthAdjust=\"spacingAndGlyphs\" textLength=\"108\" x=\"265\" y=\"57.1387\">«connection def»</text><text fill=\"#000000\" font-family=\"sans-serif\" font-size=\"12\" lengthAdjust=\"spacingAndGlyphs\" textLength=\"8\" x=\"315\" y=\"71.1074\">A</text><line style=\"stroke: #383838; stroke-width: 1.5;\" x1=\"265\" x2=\"373\" y1=\"78.9375\" y2=\"78.9375\"/><text fill=\"#000000\" font-family=\"sans-serif\" font-size=\"11\" lengthAdjust=\"spacingAndGlyphs\" textLength=\"29\" x=\"270\" y=\"109.9526\">p1: P</text><text fill=\"#000000\" font-family=\"sans-serif\" font-size=\"11\" lengthAdjust=\"spacingAndGlyphs\" textLength=\"38\" x=\"270\" y=\"122.7573\">p2: ~P</text><line style=\"stroke: #383838; stroke-width: 1.0;\" x1=\"265\" x2=\"304\" y1=\"93.3398\" y2=\"93.3398\"/><text fill=\"#000000\" font-family=\"sans-serif\" font-size=\"11\" lengthAdjust=\"spacingAndGlyphs\" textLength=\"30\" x=\"304\" y=\"96.6479\">ports</text><line style=\"stroke: #383838; stroke-width: 1.0;\" x1=\"334\" x2=\"373\" y1=\"93.3398\" y2=\"93.3398\"/></a><!--MD5=[270fce915f116d4de14055a7c1d9a0f3]\n",
       "class E5--><a href=\"psysml:0fcf03a3-0a94-497d-adc5-5270b49e59d7\" target=\"_top\" title=\"psysml:0fcf03a3-0a94-497d-adc5-5270b49e59d7\" xlink:actuate=\"onRequest\" xlink:href=\"psysml:0fcf03a3-0a94-497d-adc5-5270b49e59d7\" xlink:show=\"new\" xlink:title=\"psysml:0fcf03a3-0a94-497d-adc5-5270b49e59d7\" xlink:type=\"simple\"><rect fill=\"#FFFFFF\" height=\"88.3516\" id=\"E5\" style=\"stroke: #383838; stroke-width: 1.5;\" width=\"96\" x=\"133\" y=\"41\"/><text fill=\"#000000\" font-family=\"sans-serif\" font-size=\"12\" font-style=\"italic\" lengthAdjust=\"spacingAndGlyphs\" textLength=\"94\" x=\"134\" y=\"57.1387\">«interface def»</text><text fill=\"#000000\" font-family=\"sans-serif\" font-size=\"12\" lengthAdjust=\"spacingAndGlyphs\" textLength=\"3\" x=\"179.5\" y=\"71.1074\">I</text><line style=\"stroke: #383838; stroke-width: 1.5;\" x1=\"134\" x2=\"228\" y1=\"78.9375\" y2=\"78.9375\"/><text fill=\"#000000\" font-family=\"sans-serif\" font-size=\"11\" lengthAdjust=\"spacingAndGlyphs\" textLength=\"29\" x=\"139\" y=\"109.9526\">p1: P</text><text fill=\"#000000\" font-family=\"sans-serif\" font-size=\"11\" lengthAdjust=\"spacingAndGlyphs\" textLength=\"38\" x=\"139\" y=\"122.7573\">p2: ~P</text><line style=\"stroke: #383838; stroke-width: 1.0;\" x1=\"134\" x2=\"166\" y1=\"93.3398\" y2=\"93.3398\"/><text fill=\"#000000\" font-family=\"sans-serif\" font-size=\"11\" lengthAdjust=\"spacingAndGlyphs\" textLength=\"30\" x=\"166\" y=\"96.6479\">ports</text><line style=\"stroke: #383838; stroke-width: 1.0;\" x1=\"196\" x2=\"228\" y1=\"93.3398\" y2=\"93.3398\"/></a><!--MD5=[60a26617385b1d2d0262a64233df1f8d]\n",
       "class E6--><a href=\"psysml:fa47a610-a800-429f-b665-228f1e266500\" target=\"_top\" title=\"psysml:fa47a610-a800-429f-b665-228f1e266500\" xlink:actuate=\"onRequest\" xlink:href=\"psysml:fa47a610-a800-429f-b665-228f1e266500\" xlink:show=\"new\" xlink:title=\"psysml:fa47a610-a800-429f-b665-228f1e266500\" xlink:type=\"simple\"><rect fill=\"#FFFFFF\" height=\"45.9375\" id=\"E6\" style=\"stroke: #383838; stroke-width: 1.5;\" width=\"66\" x=\"32\" y=\"62\"/><text fill=\"#000000\" font-family=\"sans-serif\" font-size=\"12\" font-style=\"italic\" lengthAdjust=\"spacingAndGlyphs\" textLength=\"64\" x=\"33\" y=\"78.1387\">«part def»</text><text fill=\"#000000\" font-family=\"sans-serif\" font-size=\"12\" lengthAdjust=\"spacingAndGlyphs\" textLength=\"16\" x=\"57\" y=\"92.1074\">B1</text><line style=\"stroke: #383838; stroke-width: 1.5;\" x1=\"33\" x2=\"97\" y1=\"99.9375\" y2=\"99.9375\"/></a><!--MD5=[2156ba9850f5573cc1fc38a6a4b2f02b]\n",
       "class E7--><a href=\"psysml:593a6524-9b3f-4082-a23e-8ed96ff9a715\" target=\"_top\" title=\"psysml:593a6524-9b3f-4082-a23e-8ed96ff9a715\" xlink:actuate=\"onRequest\" xlink:href=\"psysml:593a6524-9b3f-4082-a23e-8ed96ff9a715\" xlink:show=\"new\" xlink:title=\"psysml:593a6524-9b3f-4082-a23e-8ed96ff9a715\" xlink:type=\"simple\"><rect fill=\"#FFFFFF\" height=\"88.3516\" id=\"E7\" rx=\"10\" ry=\"10\" style=\"stroke: #383838; stroke-width: 1.5;\" width=\"50\" x=\"40\" y=\"189\"/><text fill=\"#000000\" font-family=\"sans-serif\" font-size=\"12\" font-style=\"italic\" lengthAdjust=\"spacingAndGlyphs\" textLength=\"40\" x=\"45\" y=\"205.1387\">«part»</text><text fill=\"#000000\" font-family=\"sans-serif\" font-size=\"12\" lengthAdjust=\"spacingAndGlyphs\" textLength=\"8\" x=\"61\" y=\"219.1074\">p</text><line style=\"stroke: #383838; stroke-width: 1.5;\" x1=\"41\" x2=\"89\" y1=\"226.9375\" y2=\"226.9375\"/><text fill=\"#000000\" font-family=\"sans-serif\" font-size=\"11\" lengthAdjust=\"spacingAndGlyphs\" textLength=\"29\" x=\"46\" y=\"257.9526\">p1: P</text><text fill=\"#000000\" font-family=\"sans-serif\" font-size=\"11\" lengthAdjust=\"spacingAndGlyphs\" textLength=\"38\" x=\"46\" y=\"270.7573\">p2: ~P</text><line style=\"stroke: #383838; stroke-width: 1.0;\" x1=\"41\" x2=\"50\" y1=\"241.3398\" y2=\"241.3398\"/><text fill=\"#000000\" font-family=\"sans-serif\" font-size=\"11\" lengthAdjust=\"spacingAndGlyphs\" textLength=\"30\" x=\"50\" y=\"244.6479\">ports</text><line style=\"stroke: #383838; stroke-width: 1.0;\" x1=\"80\" x2=\"89\" y1=\"241.3398\" y2=\"241.3398\"/></a><!--MD5=[3f50a3473f1dfb74d3f76443e03635af]\n",
       "reverse link E6 to E7--><a href=\"psysml:593a6524-9b3f-4082-a23e-8ed96ff9a715\" target=\"_top\" title=\"psysml:593a6524-9b3f-4082-a23e-8ed96ff9a715\" xlink:actuate=\"onRequest\" xlink:href=\"psysml:593a6524-9b3f-4082-a23e-8ed96ff9a715\" xlink:show=\"new\" xlink:title=\"psysml:593a6524-9b3f-4082-a23e-8ed96ff9a715\" xlink:type=\"simple\"><path d=\"M65,121.25 C65,141.54 65,167.2 65,188.71 \" fill=\"none\" id=\"E6&lt;-E7\" style=\"stroke: #383838; stroke-width: 1.0;\"/><polygon fill=\"#383838\" points=\"65,108.17,61,114.17,65,120.17,69,114.17,65,108.17\" style=\"stroke: #383838; stroke-width: 1.0;\"/></a><!--MD5=[db57058c0e384bd1f31635721004d425]\n",
       "@startuml\r\n",
       " skinparam monochrome true\r\n",
       "skinparam classbackgroundcolor white\r\n",
       "skinparam shadowing false\r\n",
       "skinparam wrapWidth 300\r\n",
       "hide circle\r\n",
       "\r\n",
       "package \"ConjugationTest\" as E1  [[psysml:db7199af-e574-4214-8b26-5aef0dbbdb0a ]]  {\r\n",
       "comp def \"P\" as E2  <<(T,blue)port def>> [[psysml:eee324b7-6ef1-4f74-bb85-9d01b884a0c3 ]] {\r\n",
       "}\r\n",
       "comp def \"B\" as E3  <<(T,blue)part def>> [[psysml:987ad9e8-156c-405b-94a5-0234bd5ef961 ]] {\r\n",
       "- - ports - -\r\n",
       "p1: P\r\n",
       "p2: ~P\r\n",
       "}\r\n",
       "comp def \"A\" as E4  <<(T,blue)connection def>> [[psysml:d4b825d6-e011-4f07-a399-999db6b99ea3 ]] {\r\n",
       "- - ports - -\r\n",
       "p1: P\r\n",
       "p2: ~P\r\n",
       "}\r\n",
       "comp def \"I\" as E5  <<(T,blue)interface def>> [[psysml:0fcf03a3-0a94-497d-adc5-5270b49e59d7 ]] {\r\n",
       "- - ports - -\r\n",
       "p1: P\r\n",
       "p2: ~P\r\n",
       "}\r\n",
       "comp def \"B1\" as E6  <<(T,blue)part def>> [[psysml:fa47a610-a800-429f-b665-228f1e266500 ]] {\r\n",
       "}\r\n",
       "comp usage \"p\" as E7  <<(T,blue)part>> [[psysml:593a6524-9b3f-4082-a23e-8ed96ff9a715 ]] {\r\n",
       "- - ports - -\r\n",
       "p1: P\r\n",
       "p2: ~P\r\n",
       "}\r\n",
       "E6 *- - E7 [[psysml:593a6524-9b3f-4082-a23e-8ed96ff9a715 ]] \r\n",
       "}\r\n",
       "@enduml\r\n",
       "\n",
       "PlantUML version 1.2020.13(Sat Jun 13 12:26:38 UTC 2020)\n",
       "(EPL source distribution)\n",
       "Java Runtime: OpenJDK Runtime Environment\n",
       "JVM: OpenJDK 64-Bit Server VM\n",
       "Default Encoding: UTF-8\n",
       "Language: en\n",
       "Country: null\n",
       "--></g></svg>"
      ]
     },
     "execution_count": 8,
     "metadata": {},
     "output_type": "execute_result"
    }
   ],
   "source": [
    "%viz --style=\"COMPTREE\" --view=\"MIXED\" \"ConjugationTest\""
   ]
  },
  {
   "cell_type": "code",
   "execution_count": 9,
   "id": "realistic-salad",
   "metadata": {
    "execution": {
     "iopub.execute_input": "2021-03-25T13:18:41.368238Z",
     "iopub.status.busy": "2021-03-25T13:18:41.367493Z",
     "iopub.status.idle": "2021-03-25T13:18:42.186310Z",
     "shell.execute_reply": "2021-03-25T13:18:42.186800Z"
    }
   },
   "outputs": [
    {
     "data": {
      "image/svg+xml": [
       "<?xml version=\"1.0\" encoding=\"UTF-8\" standalone=\"no\"?><svg xmlns=\"http://www.w3.org/2000/svg\" xmlns:xlink=\"http://www.w3.org/1999/xlink\" contentScriptType=\"application/ecmascript\" contentStyleType=\"text/css\" height=\"305px\" preserveAspectRatio=\"none\" style=\"width:614px;height:305px;\" version=\"1.1\" viewBox=\"0 0 614 305\" width=\"614px\" zoomAndPan=\"magnify\"><defs/><g><!--MD5=[fbc87193dbaf4d95561dea2c320d4a47]\n",
       "cluster E1--><a href=\"psysml:db7199af-e574-4214-8b26-5aef0dbbdb0a\" target=\"_top\" title=\"psysml:db7199af-e574-4214-8b26-5aef0dbbdb0a\" xlink:actuate=\"onRequest\" xlink:href=\"psysml:db7199af-e574-4214-8b26-5aef0dbbdb0a\" xlink:show=\"new\" xlink:title=\"psysml:db7199af-e574-4214-8b26-5aef0dbbdb0a\" xlink:type=\"simple\"><polygon fill=\"#FFFFFF\" points=\"16,6,151,6,158,28.2969,592,28.2969,592,293,16,293,16,6\" style=\"stroke: #000000; stroke-width: 1.5;\"/><line style=\"stroke: #000000; stroke-width: 1.5;\" x1=\"16\" x2=\"158\" y1=\"28.2969\" y2=\"28.2969\"/><text fill=\"#000000\" font-family=\"sans-serif\" font-size=\"14\" font-weight=\"bold\" lengthAdjust=\"spacingAndGlyphs\" textLength=\"129\" x=\"20\" y=\"20.9951\">ConjugationTest</text></a><!--MD5=[b4997ac47864f28c2f74865a473b2911]\n",
       "class E2--><a href=\"psysml:eee324b7-6ef1-4f74-bb85-9d01b884a0c3\" target=\"_top\" title=\"psysml:eee324b7-6ef1-4f74-bb85-9d01b884a0c3\" xlink:actuate=\"onRequest\" xlink:href=\"psysml:eee324b7-6ef1-4f74-bb85-9d01b884a0c3\" xlink:show=\"new\" xlink:title=\"psysml:eee324b7-6ef1-4f74-bb85-9d01b884a0c3\" xlink:type=\"simple\"><rect fill=\"#FFFFFF\" height=\"45.9375\" id=\"E2\" style=\"stroke: #383838; stroke-width: 1.5;\" width=\"66\" x=\"510\" y=\"62\"/><text fill=\"#000000\" font-family=\"sans-serif\" font-size=\"12\" font-style=\"italic\" lengthAdjust=\"spacingAndGlyphs\" textLength=\"64\" x=\"511\" y=\"78.1387\">«port def»</text><text fill=\"#000000\" font-family=\"sans-serif\" font-size=\"12\" lengthAdjust=\"spacingAndGlyphs\" textLength=\"8\" x=\"539\" y=\"92.1074\">P</text><line style=\"stroke: #383838; stroke-width: 1.5;\" x1=\"511\" x2=\"575\" y1=\"99.9375\" y2=\"99.9375\"/></a><!--MD5=[09b614a08d8cba4a07c9adeb5e0fee81]\n",
       "class E3--><a href=\"psysml:987ad9e8-156c-405b-94a5-0234bd5ef961\" target=\"_top\" title=\"psysml:987ad9e8-156c-405b-94a5-0234bd5ef961\" xlink:actuate=\"onRequest\" xlink:href=\"psysml:987ad9e8-156c-405b-94a5-0234bd5ef961\" xlink:show=\"new\" xlink:title=\"psysml:987ad9e8-156c-405b-94a5-0234bd5ef961\" xlink:type=\"simple\"><rect fill=\"#FFFFFF\" height=\"88.3516\" id=\"E3\" style=\"stroke: #383838; stroke-width: 1.5;\" width=\"66\" x=\"409\" y=\"41\"/><text fill=\"#000000\" font-family=\"sans-serif\" font-size=\"12\" font-style=\"italic\" lengthAdjust=\"spacingAndGlyphs\" textLength=\"64\" x=\"410\" y=\"57.1387\">«part def»</text><text fill=\"#000000\" font-family=\"sans-serif\" font-size=\"12\" lengthAdjust=\"spacingAndGlyphs\" textLength=\"8\" x=\"438\" y=\"71.1074\">B</text><line style=\"stroke: #383838; stroke-width: 1.5;\" x1=\"410\" x2=\"474\" y1=\"78.9375\" y2=\"78.9375\"/><text fill=\"#000000\" font-family=\"sans-serif\" font-size=\"11\" lengthAdjust=\"spacingAndGlyphs\" textLength=\"29\" x=\"415\" y=\"109.9526\">p1: P</text><text fill=\"#000000\" font-family=\"sans-serif\" font-size=\"11\" lengthAdjust=\"spacingAndGlyphs\" textLength=\"38\" x=\"415\" y=\"122.7573\">p2: ~P</text><line style=\"stroke: #383838; stroke-width: 1.0;\" x1=\"410\" x2=\"427\" y1=\"93.3398\" y2=\"93.3398\"/><text fill=\"#000000\" font-family=\"sans-serif\" font-size=\"11\" lengthAdjust=\"spacingAndGlyphs\" textLength=\"30\" x=\"427\" y=\"96.6479\">ports</text><line style=\"stroke: #383838; stroke-width: 1.0;\" x1=\"457\" x2=\"474\" y1=\"93.3398\" y2=\"93.3398\"/></a><!--MD5=[60a26617385b1d2d0262a64233df1f8d]\n",
       "class E6--><a href=\"psysml:d4b825d6-e011-4f07-a399-999db6b99ea3\" target=\"_top\" title=\"psysml:d4b825d6-e011-4f07-a399-999db6b99ea3\" xlink:actuate=\"onRequest\" xlink:href=\"psysml:d4b825d6-e011-4f07-a399-999db6b99ea3\" xlink:show=\"new\" xlink:title=\"psysml:d4b825d6-e011-4f07-a399-999db6b99ea3\" xlink:type=\"simple\"><rect fill=\"#FFFFFF\" height=\"88.3516\" id=\"E6\" style=\"stroke: #383838; stroke-width: 1.5;\" width=\"110\" x=\"264\" y=\"41\"/><text fill=\"#000000\" font-family=\"sans-serif\" font-size=\"12\" font-style=\"italic\" lengthAdjust=\"spacingAndGlyphs\" textLength=\"108\" x=\"265\" y=\"57.1387\">«connection def»</text><text fill=\"#000000\" font-family=\"sans-serif\" font-size=\"12\" lengthAdjust=\"spacingAndGlyphs\" textLength=\"8\" x=\"315\" y=\"71.1074\">A</text><line style=\"stroke: #383838; stroke-width: 1.5;\" x1=\"265\" x2=\"373\" y1=\"78.9375\" y2=\"78.9375\"/><text fill=\"#000000\" font-family=\"sans-serif\" font-size=\"11\" lengthAdjust=\"spacingAndGlyphs\" textLength=\"29\" x=\"270\" y=\"109.9526\">p1: P</text><text fill=\"#000000\" font-family=\"sans-serif\" font-size=\"11\" lengthAdjust=\"spacingAndGlyphs\" textLength=\"38\" x=\"270\" y=\"122.7573\">p2: ~P</text><line style=\"stroke: #383838; stroke-width: 1.0;\" x1=\"265\" x2=\"304\" y1=\"93.3398\" y2=\"93.3398\"/><text fill=\"#000000\" font-family=\"sans-serif\" font-size=\"11\" lengthAdjust=\"spacingAndGlyphs\" textLength=\"30\" x=\"304\" y=\"96.6479\">ports</text><line style=\"stroke: #383838; stroke-width: 1.0;\" x1=\"334\" x2=\"373\" y1=\"93.3398\" y2=\"93.3398\"/></a><!--MD5=[fd4143e9d270a159db93a4ea2a975926]\n",
       "class E9--><a href=\"psysml:0fcf03a3-0a94-497d-adc5-5270b49e59d7\" target=\"_top\" title=\"psysml:0fcf03a3-0a94-497d-adc5-5270b49e59d7\" xlink:actuate=\"onRequest\" xlink:href=\"psysml:0fcf03a3-0a94-497d-adc5-5270b49e59d7\" xlink:show=\"new\" xlink:title=\"psysml:0fcf03a3-0a94-497d-adc5-5270b49e59d7\" xlink:type=\"simple\"><rect fill=\"#FFFFFF\" height=\"88.3516\" id=\"E9\" style=\"stroke: #383838; stroke-width: 1.5;\" width=\"96\" x=\"133\" y=\"41\"/><text fill=\"#000000\" font-family=\"sans-serif\" font-size=\"12\" font-style=\"italic\" lengthAdjust=\"spacingAndGlyphs\" textLength=\"94\" x=\"134\" y=\"57.1387\">«interface def»</text><text fill=\"#000000\" font-family=\"sans-serif\" font-size=\"12\" lengthAdjust=\"spacingAndGlyphs\" textLength=\"3\" x=\"179.5\" y=\"71.1074\">I</text><line style=\"stroke: #383838; stroke-width: 1.5;\" x1=\"134\" x2=\"228\" y1=\"78.9375\" y2=\"78.9375\"/><text fill=\"#000000\" font-family=\"sans-serif\" font-size=\"11\" lengthAdjust=\"spacingAndGlyphs\" textLength=\"29\" x=\"139\" y=\"109.9526\">p1: P</text><text fill=\"#000000\" font-family=\"sans-serif\" font-size=\"11\" lengthAdjust=\"spacingAndGlyphs\" textLength=\"38\" x=\"139\" y=\"122.7573\">p2: ~P</text><line style=\"stroke: #383838; stroke-width: 1.0;\" x1=\"134\" x2=\"166\" y1=\"93.3398\" y2=\"93.3398\"/><text fill=\"#000000\" font-family=\"sans-serif\" font-size=\"11\" lengthAdjust=\"spacingAndGlyphs\" textLength=\"30\" x=\"166\" y=\"96.6479\">ports</text><line style=\"stroke: #383838; stroke-width: 1.0;\" x1=\"196\" x2=\"228\" y1=\"93.3398\" y2=\"93.3398\"/></a><!--MD5=[49a0ec8f00dab7302a31f22d0f0fe584]\n",
       "class E12--><a href=\"psysml:fa47a610-a800-429f-b665-228f1e266500\" target=\"_top\" title=\"psysml:fa47a610-a800-429f-b665-228f1e266500\" xlink:actuate=\"onRequest\" xlink:href=\"psysml:fa47a610-a800-429f-b665-228f1e266500\" xlink:show=\"new\" xlink:title=\"psysml:fa47a610-a800-429f-b665-228f1e266500\" xlink:type=\"simple\"><rect fill=\"#FFFFFF\" height=\"45.9375\" id=\"E12\" style=\"stroke: #383838; stroke-width: 1.5;\" width=\"66\" x=\"32\" y=\"62\"/><text fill=\"#000000\" font-family=\"sans-serif\" font-size=\"12\" font-style=\"italic\" lengthAdjust=\"spacingAndGlyphs\" textLength=\"64\" x=\"33\" y=\"78.1387\">«part def»</text><text fill=\"#000000\" font-family=\"sans-serif\" font-size=\"12\" lengthAdjust=\"spacingAndGlyphs\" textLength=\"16\" x=\"57\" y=\"92.1074\">B1</text><line style=\"stroke: #383838; stroke-width: 1.5;\" x1=\"33\" x2=\"97\" y1=\"99.9375\" y2=\"99.9375\"/></a><!--MD5=[ee3c913d1a06f366521f9ef512b67efe]\n",
       "class E13--><a href=\"psysml:593a6524-9b3f-4082-a23e-8ed96ff9a715\" target=\"_top\" title=\"psysml:593a6524-9b3f-4082-a23e-8ed96ff9a715\" xlink:actuate=\"onRequest\" xlink:href=\"psysml:593a6524-9b3f-4082-a23e-8ed96ff9a715\" xlink:show=\"new\" xlink:title=\"psysml:593a6524-9b3f-4082-a23e-8ed96ff9a715\" xlink:type=\"simple\"><rect fill=\"#FFFFFF\" height=\"88.3516\" id=\"E13\" rx=\"10\" ry=\"10\" style=\"stroke: #383838; stroke-width: 1.5;\" width=\"50\" x=\"40\" y=\"189\"/><text fill=\"#000000\" font-family=\"sans-serif\" font-size=\"12\" font-style=\"italic\" lengthAdjust=\"spacingAndGlyphs\" textLength=\"40\" x=\"45\" y=\"205.1387\">«part»</text><text fill=\"#000000\" font-family=\"sans-serif\" font-size=\"12\" lengthAdjust=\"spacingAndGlyphs\" textLength=\"8\" x=\"61\" y=\"219.1074\">p</text><line style=\"stroke: #383838; stroke-width: 1.5;\" x1=\"41\" x2=\"89\" y1=\"226.9375\" y2=\"226.9375\"/><text fill=\"#000000\" font-family=\"sans-serif\" font-size=\"11\" lengthAdjust=\"spacingAndGlyphs\" textLength=\"29\" x=\"46\" y=\"257.9526\">p1: P</text><text fill=\"#000000\" font-family=\"sans-serif\" font-size=\"11\" lengthAdjust=\"spacingAndGlyphs\" textLength=\"38\" x=\"46\" y=\"270.7573\">p2: ~P</text><line style=\"stroke: #383838; stroke-width: 1.0;\" x1=\"41\" x2=\"50\" y1=\"241.3398\" y2=\"241.3398\"/><text fill=\"#000000\" font-family=\"sans-serif\" font-size=\"11\" lengthAdjust=\"spacingAndGlyphs\" textLength=\"30\" x=\"50\" y=\"244.6479\">ports</text><line style=\"stroke: #383838; stroke-width: 1.0;\" x1=\"80\" x2=\"89\" y1=\"241.3398\" y2=\"241.3398\"/></a><!--MD5=[062ed86c389d1a88f61c6380d0491e17]\n",
       "reverse link E12 to E13--><a href=\"psysml:593a6524-9b3f-4082-a23e-8ed96ff9a715\" target=\"_top\" title=\"psysml:593a6524-9b3f-4082-a23e-8ed96ff9a715\" xlink:actuate=\"onRequest\" xlink:href=\"psysml:593a6524-9b3f-4082-a23e-8ed96ff9a715\" xlink:show=\"new\" xlink:title=\"psysml:593a6524-9b3f-4082-a23e-8ed96ff9a715\" xlink:type=\"simple\"><path d=\"M65,121.25 C65,141.54 65,167.2 65,188.71 \" fill=\"none\" id=\"E12&lt;-E13\" style=\"stroke: #383838; stroke-width: 1.0;\"/><polygon fill=\"#383838\" points=\"65,108.17,61,114.17,65,120.17,69,114.17,65,108.17\" style=\"stroke: #383838; stroke-width: 1.0;\"/></a><!--MD5=[dffbc6fc4d7bdc71feb1f26f7207e4b6]\n",
       "@startuml\r\n",
       "skinparam linetype polyline\r\n",
       "skinparam monochrome true\r\n",
       "skinparam classbackgroundcolor white\r\n",
       "skinparam shadowing false\r\n",
       "skinparam wrapWidth 300\r\n",
       "hide circle\r\n",
       "\r\n",
       "package \"ConjugationTest\" as E1  [[psysml:db7199af-e574-4214-8b26-5aef0dbbdb0a ]]  {\r\n",
       "comp def \"P\" as E2  <<(T,blue)port def>> [[psysml:eee324b7-6ef1-4f74-bb85-9d01b884a0c3 ]] {\r\n",
       "}\r\n",
       "comp def \"B\" as E3  <<(T,blue)part def>> [[psysml:987ad9e8-156c-405b-94a5-0234bd5ef961 ]] {\r\n",
       "- - ports - -\r\n",
       "p1: P\r\n",
       "p2: ~P\r\n",
       "}\r\n",
       "comp def \"A\" as E6  <<(T,blue)connection def>> [[psysml:d4b825d6-e011-4f07-a399-999db6b99ea3 ]] {\r\n",
       "- - ports - -\r\n",
       "p1: P\r\n",
       "p2: ~P\r\n",
       "}\r\n",
       "comp def \"I\" as E9  <<(T,blue)interface def>> [[psysml:0fcf03a3-0a94-497d-adc5-5270b49e59d7 ]] {\r\n",
       "- - ports - -\r\n",
       "p1: P\r\n",
       "p2: ~P\r\n",
       "}\r\n",
       "comp def \"B1\" as E12  <<(T,blue)part def>> [[psysml:fa47a610-a800-429f-b665-228f1e266500 ]] {\r\n",
       "}\r\n",
       "comp usage \"p\" as E13  <<(T,blue)part>> [[psysml:593a6524-9b3f-4082-a23e-8ed96ff9a715 ]] {\r\n",
       "- - ports - -\r\n",
       "p1: P\r\n",
       "p2: ~P\r\n",
       "}\r\n",
       "E12 *- - E13 [[psysml:593a6524-9b3f-4082-a23e-8ed96ff9a715 ]] \r\n",
       "}\r\n",
       "@enduml\r\n",
       "\n",
       "PlantUML version 1.2020.13(Sat Jun 13 12:26:38 UTC 2020)\n",
       "(EPL source distribution)\n",
       "Java Runtime: OpenJDK Runtime Environment\n",
       "JVM: OpenJDK 64-Bit Server VM\n",
       "Default Encoding: UTF-8\n",
       "Language: en\n",
       "Country: null\n",
       "--></g></svg>"
      ]
     },
     "execution_count": 9,
     "metadata": {},
     "output_type": "execute_result"
    }
   ],
   "source": [
    "%viz --style=\"POLYLINE\" --view=\"Default\" \"ConjugationTest\""
   ]
  },
  {
   "cell_type": "code",
   "execution_count": 10,
   "id": "compliant-yahoo",
   "metadata": {
    "execution": {
     "iopub.execute_input": "2021-03-25T13:18:42.238086Z",
     "iopub.status.busy": "2021-03-25T13:18:42.237189Z",
     "iopub.status.idle": "2021-03-25T13:18:43.018463Z",
     "shell.execute_reply": "2021-03-25T13:18:43.018935Z"
    }
   },
   "outputs": [
    {
     "data": {
      "image/svg+xml": [
       "<?xml version=\"1.0\" encoding=\"UTF-8\" standalone=\"no\"?><svg xmlns=\"http://www.w3.org/2000/svg\" xmlns:xlink=\"http://www.w3.org/1999/xlink\" contentScriptType=\"application/ecmascript\" contentStyleType=\"text/css\" height=\"305px\" preserveAspectRatio=\"none\" style=\"width:614px;height:305px;\" version=\"1.1\" viewBox=\"0 0 614 305\" width=\"614px\" zoomAndPan=\"magnify\"><defs/><g><!--MD5=[fbc87193dbaf4d95561dea2c320d4a47]\n",
       "cluster E1--><a href=\"psysml:db7199af-e574-4214-8b26-5aef0dbbdb0a\" target=\"_top\" title=\"psysml:db7199af-e574-4214-8b26-5aef0dbbdb0a\" xlink:actuate=\"onRequest\" xlink:href=\"psysml:db7199af-e574-4214-8b26-5aef0dbbdb0a\" xlink:show=\"new\" xlink:title=\"psysml:db7199af-e574-4214-8b26-5aef0dbbdb0a\" xlink:type=\"simple\"><polygon fill=\"#FFFFFF\" points=\"16,6,151,6,158,28.2969,592,28.2969,592,293,16,293,16,6\" style=\"stroke: #000000; stroke-width: 1.5;\"/><line style=\"stroke: #000000; stroke-width: 1.5;\" x1=\"16\" x2=\"158\" y1=\"28.2969\" y2=\"28.2969\"/><text fill=\"#000000\" font-family=\"sans-serif\" font-size=\"14\" font-weight=\"bold\" lengthAdjust=\"spacingAndGlyphs\" textLength=\"129\" x=\"20\" y=\"20.9951\">ConjugationTest</text></a><!--MD5=[b4997ac47864f28c2f74865a473b2911]\n",
       "class E2--><a href=\"psysml:eee324b7-6ef1-4f74-bb85-9d01b884a0c3\" target=\"_top\" title=\"psysml:eee324b7-6ef1-4f74-bb85-9d01b884a0c3\" xlink:actuate=\"onRequest\" xlink:href=\"psysml:eee324b7-6ef1-4f74-bb85-9d01b884a0c3\" xlink:show=\"new\" xlink:title=\"psysml:eee324b7-6ef1-4f74-bb85-9d01b884a0c3\" xlink:type=\"simple\"><rect fill=\"#FFFFFF\" height=\"45.9375\" id=\"E2\" style=\"stroke: #383838; stroke-width: 1.5;\" width=\"66\" x=\"510\" y=\"62\"/><text fill=\"#000000\" font-family=\"sans-serif\" font-size=\"12\" font-style=\"italic\" lengthAdjust=\"spacingAndGlyphs\" textLength=\"64\" x=\"511\" y=\"78.1387\">«port def»</text><text fill=\"#000000\" font-family=\"sans-serif\" font-size=\"12\" lengthAdjust=\"spacingAndGlyphs\" textLength=\"8\" x=\"539\" y=\"92.1074\">P</text><line style=\"stroke: #383838; stroke-width: 1.5;\" x1=\"511\" x2=\"575\" y1=\"99.9375\" y2=\"99.9375\"/></a><!--MD5=[09b614a08d8cba4a07c9adeb5e0fee81]\n",
       "class E3--><a href=\"psysml:987ad9e8-156c-405b-94a5-0234bd5ef961\" target=\"_top\" title=\"psysml:987ad9e8-156c-405b-94a5-0234bd5ef961\" xlink:actuate=\"onRequest\" xlink:href=\"psysml:987ad9e8-156c-405b-94a5-0234bd5ef961\" xlink:show=\"new\" xlink:title=\"psysml:987ad9e8-156c-405b-94a5-0234bd5ef961\" xlink:type=\"simple\"><rect fill=\"#FFFFFF\" height=\"88.3516\" id=\"E3\" style=\"stroke: #383838; stroke-width: 1.5;\" width=\"66\" x=\"409\" y=\"41\"/><text fill=\"#000000\" font-family=\"sans-serif\" font-size=\"12\" font-style=\"italic\" lengthAdjust=\"spacingAndGlyphs\" textLength=\"64\" x=\"410\" y=\"57.1387\">«part def»</text><text fill=\"#000000\" font-family=\"sans-serif\" font-size=\"12\" lengthAdjust=\"spacingAndGlyphs\" textLength=\"8\" x=\"438\" y=\"71.1074\">B</text><line style=\"stroke: #383838; stroke-width: 1.5;\" x1=\"410\" x2=\"474\" y1=\"78.9375\" y2=\"78.9375\"/><text fill=\"#000000\" font-family=\"sans-serif\" font-size=\"11\" lengthAdjust=\"spacingAndGlyphs\" textLength=\"29\" x=\"415\" y=\"109.9526\">p1: P</text><text fill=\"#000000\" font-family=\"sans-serif\" font-size=\"11\" lengthAdjust=\"spacingAndGlyphs\" textLength=\"38\" x=\"415\" y=\"122.7573\">p2: ~P</text><line style=\"stroke: #383838; stroke-width: 1.0;\" x1=\"410\" x2=\"427\" y1=\"93.3398\" y2=\"93.3398\"/><text fill=\"#000000\" font-family=\"sans-serif\" font-size=\"11\" lengthAdjust=\"spacingAndGlyphs\" textLength=\"30\" x=\"427\" y=\"96.6479\">ports</text><line style=\"stroke: #383838; stroke-width: 1.0;\" x1=\"457\" x2=\"474\" y1=\"93.3398\" y2=\"93.3398\"/></a><!--MD5=[60a26617385b1d2d0262a64233df1f8d]\n",
       "class E6--><a href=\"psysml:d4b825d6-e011-4f07-a399-999db6b99ea3\" target=\"_top\" title=\"psysml:d4b825d6-e011-4f07-a399-999db6b99ea3\" xlink:actuate=\"onRequest\" xlink:href=\"psysml:d4b825d6-e011-4f07-a399-999db6b99ea3\" xlink:show=\"new\" xlink:title=\"psysml:d4b825d6-e011-4f07-a399-999db6b99ea3\" xlink:type=\"simple\"><rect fill=\"#FFFFFF\" height=\"88.3516\" id=\"E6\" style=\"stroke: #383838; stroke-width: 1.5;\" width=\"110\" x=\"264\" y=\"41\"/><text fill=\"#000000\" font-family=\"sans-serif\" font-size=\"12\" font-style=\"italic\" lengthAdjust=\"spacingAndGlyphs\" textLength=\"108\" x=\"265\" y=\"57.1387\">«connection def»</text><text fill=\"#000000\" font-family=\"sans-serif\" font-size=\"12\" lengthAdjust=\"spacingAndGlyphs\" textLength=\"8\" x=\"315\" y=\"71.1074\">A</text><line style=\"stroke: #383838; stroke-width: 1.5;\" x1=\"265\" x2=\"373\" y1=\"78.9375\" y2=\"78.9375\"/><text fill=\"#000000\" font-family=\"sans-serif\" font-size=\"11\" lengthAdjust=\"spacingAndGlyphs\" textLength=\"29\" x=\"270\" y=\"109.9526\">p1: P</text><text fill=\"#000000\" font-family=\"sans-serif\" font-size=\"11\" lengthAdjust=\"spacingAndGlyphs\" textLength=\"38\" x=\"270\" y=\"122.7573\">p2: ~P</text><line style=\"stroke: #383838; stroke-width: 1.0;\" x1=\"265\" x2=\"304\" y1=\"93.3398\" y2=\"93.3398\"/><text fill=\"#000000\" font-family=\"sans-serif\" font-size=\"11\" lengthAdjust=\"spacingAndGlyphs\" textLength=\"30\" x=\"304\" y=\"96.6479\">ports</text><line style=\"stroke: #383838; stroke-width: 1.0;\" x1=\"334\" x2=\"373\" y1=\"93.3398\" y2=\"93.3398\"/></a><!--MD5=[fd4143e9d270a159db93a4ea2a975926]\n",
       "class E9--><a href=\"psysml:0fcf03a3-0a94-497d-adc5-5270b49e59d7\" target=\"_top\" title=\"psysml:0fcf03a3-0a94-497d-adc5-5270b49e59d7\" xlink:actuate=\"onRequest\" xlink:href=\"psysml:0fcf03a3-0a94-497d-adc5-5270b49e59d7\" xlink:show=\"new\" xlink:title=\"psysml:0fcf03a3-0a94-497d-adc5-5270b49e59d7\" xlink:type=\"simple\"><rect fill=\"#FFFFFF\" height=\"88.3516\" id=\"E9\" style=\"stroke: #383838; stroke-width: 1.5;\" width=\"96\" x=\"133\" y=\"41\"/><text fill=\"#000000\" font-family=\"sans-serif\" font-size=\"12\" font-style=\"italic\" lengthAdjust=\"spacingAndGlyphs\" textLength=\"94\" x=\"134\" y=\"57.1387\">«interface def»</text><text fill=\"#000000\" font-family=\"sans-serif\" font-size=\"12\" lengthAdjust=\"spacingAndGlyphs\" textLength=\"3\" x=\"179.5\" y=\"71.1074\">I</text><line style=\"stroke: #383838; stroke-width: 1.5;\" x1=\"134\" x2=\"228\" y1=\"78.9375\" y2=\"78.9375\"/><text fill=\"#000000\" font-family=\"sans-serif\" font-size=\"11\" lengthAdjust=\"spacingAndGlyphs\" textLength=\"29\" x=\"139\" y=\"109.9526\">p1: P</text><text fill=\"#000000\" font-family=\"sans-serif\" font-size=\"11\" lengthAdjust=\"spacingAndGlyphs\" textLength=\"38\" x=\"139\" y=\"122.7573\">p2: ~P</text><line style=\"stroke: #383838; stroke-width: 1.0;\" x1=\"134\" x2=\"166\" y1=\"93.3398\" y2=\"93.3398\"/><text fill=\"#000000\" font-family=\"sans-serif\" font-size=\"11\" lengthAdjust=\"spacingAndGlyphs\" textLength=\"30\" x=\"166\" y=\"96.6479\">ports</text><line style=\"stroke: #383838; stroke-width: 1.0;\" x1=\"196\" x2=\"228\" y1=\"93.3398\" y2=\"93.3398\"/></a><!--MD5=[49a0ec8f00dab7302a31f22d0f0fe584]\n",
       "class E12--><a href=\"psysml:fa47a610-a800-429f-b665-228f1e266500\" target=\"_top\" title=\"psysml:fa47a610-a800-429f-b665-228f1e266500\" xlink:actuate=\"onRequest\" xlink:href=\"psysml:fa47a610-a800-429f-b665-228f1e266500\" xlink:show=\"new\" xlink:title=\"psysml:fa47a610-a800-429f-b665-228f1e266500\" xlink:type=\"simple\"><rect fill=\"#FFFFFF\" height=\"45.9375\" id=\"E12\" style=\"stroke: #383838; stroke-width: 1.5;\" width=\"66\" x=\"32\" y=\"62\"/><text fill=\"#000000\" font-family=\"sans-serif\" font-size=\"12\" font-style=\"italic\" lengthAdjust=\"spacingAndGlyphs\" textLength=\"64\" x=\"33\" y=\"78.1387\">«part def»</text><text fill=\"#000000\" font-family=\"sans-serif\" font-size=\"12\" lengthAdjust=\"spacingAndGlyphs\" textLength=\"16\" x=\"57\" y=\"92.1074\">B1</text><line style=\"stroke: #383838; stroke-width: 1.5;\" x1=\"33\" x2=\"97\" y1=\"99.9375\" y2=\"99.9375\"/></a><!--MD5=[ee3c913d1a06f366521f9ef512b67efe]\n",
       "class E13--><a href=\"psysml:593a6524-9b3f-4082-a23e-8ed96ff9a715\" target=\"_top\" title=\"psysml:593a6524-9b3f-4082-a23e-8ed96ff9a715\" xlink:actuate=\"onRequest\" xlink:href=\"psysml:593a6524-9b3f-4082-a23e-8ed96ff9a715\" xlink:show=\"new\" xlink:title=\"psysml:593a6524-9b3f-4082-a23e-8ed96ff9a715\" xlink:type=\"simple\"><rect fill=\"#FFFFFF\" height=\"88.3516\" id=\"E13\" rx=\"10\" ry=\"10\" style=\"stroke: #383838; stroke-width: 1.5;\" width=\"50\" x=\"40\" y=\"189\"/><text fill=\"#000000\" font-family=\"sans-serif\" font-size=\"12\" font-style=\"italic\" lengthAdjust=\"spacingAndGlyphs\" textLength=\"40\" x=\"45\" y=\"205.1387\">«part»</text><text fill=\"#000000\" font-family=\"sans-serif\" font-size=\"12\" lengthAdjust=\"spacingAndGlyphs\" textLength=\"8\" x=\"61\" y=\"219.1074\">p</text><line style=\"stroke: #383838; stroke-width: 1.5;\" x1=\"41\" x2=\"89\" y1=\"226.9375\" y2=\"226.9375\"/><text fill=\"#000000\" font-family=\"sans-serif\" font-size=\"11\" lengthAdjust=\"spacingAndGlyphs\" textLength=\"29\" x=\"46\" y=\"257.9526\">p1: P</text><text fill=\"#000000\" font-family=\"sans-serif\" font-size=\"11\" lengthAdjust=\"spacingAndGlyphs\" textLength=\"38\" x=\"46\" y=\"270.7573\">p2: ~P</text><line style=\"stroke: #383838; stroke-width: 1.0;\" x1=\"41\" x2=\"50\" y1=\"241.3398\" y2=\"241.3398\"/><text fill=\"#000000\" font-family=\"sans-serif\" font-size=\"11\" lengthAdjust=\"spacingAndGlyphs\" textLength=\"30\" x=\"50\" y=\"244.6479\">ports</text><line style=\"stroke: #383838; stroke-width: 1.0;\" x1=\"80\" x2=\"89\" y1=\"241.3398\" y2=\"241.3398\"/></a><!--MD5=[062ed86c389d1a88f61c6380d0491e17]\n",
       "reverse link E12 to E13--><a href=\"psysml:593a6524-9b3f-4082-a23e-8ed96ff9a715\" target=\"_top\" title=\"psysml:593a6524-9b3f-4082-a23e-8ed96ff9a715\" xlink:actuate=\"onRequest\" xlink:href=\"psysml:593a6524-9b3f-4082-a23e-8ed96ff9a715\" xlink:show=\"new\" xlink:title=\"psysml:593a6524-9b3f-4082-a23e-8ed96ff9a715\" xlink:type=\"simple\"><path d=\"M65,121.25 C65,141.54 65,167.2 65,188.71 \" fill=\"none\" id=\"E12&lt;-E13\" style=\"stroke: #383838; stroke-width: 1.0;\"/><polygon fill=\"#383838\" points=\"65,108.17,61,114.17,65,120.17,69,114.17,65,108.17\" style=\"stroke: #383838; stroke-width: 1.0;\"/></a><!--MD5=[dffbc6fc4d7bdc71feb1f26f7207e4b6]\n",
       "@startuml\r\n",
       "skinparam linetype polyline\r\n",
       "skinparam monochrome true\r\n",
       "skinparam classbackgroundcolor white\r\n",
       "skinparam shadowing false\r\n",
       "skinparam wrapWidth 300\r\n",
       "hide circle\r\n",
       "\r\n",
       "package \"ConjugationTest\" as E1  [[psysml:db7199af-e574-4214-8b26-5aef0dbbdb0a ]]  {\r\n",
       "comp def \"P\" as E2  <<(T,blue)port def>> [[psysml:eee324b7-6ef1-4f74-bb85-9d01b884a0c3 ]] {\r\n",
       "}\r\n",
       "comp def \"B\" as E3  <<(T,blue)part def>> [[psysml:987ad9e8-156c-405b-94a5-0234bd5ef961 ]] {\r\n",
       "- - ports - -\r\n",
       "p1: P\r\n",
       "p2: ~P\r\n",
       "}\r\n",
       "comp def \"A\" as E6  <<(T,blue)connection def>> [[psysml:d4b825d6-e011-4f07-a399-999db6b99ea3 ]] {\r\n",
       "- - ports - -\r\n",
       "p1: P\r\n",
       "p2: ~P\r\n",
       "}\r\n",
       "comp def \"I\" as E9  <<(T,blue)interface def>> [[psysml:0fcf03a3-0a94-497d-adc5-5270b49e59d7 ]] {\r\n",
       "- - ports - -\r\n",
       "p1: P\r\n",
       "p2: ~P\r\n",
       "}\r\n",
       "comp def \"B1\" as E12  <<(T,blue)part def>> [[psysml:fa47a610-a800-429f-b665-228f1e266500 ]] {\r\n",
       "}\r\n",
       "comp usage \"p\" as E13  <<(T,blue)part>> [[psysml:593a6524-9b3f-4082-a23e-8ed96ff9a715 ]] {\r\n",
       "- - ports - -\r\n",
       "p1: P\r\n",
       "p2: ~P\r\n",
       "}\r\n",
       "E12 *- - E13 [[psysml:593a6524-9b3f-4082-a23e-8ed96ff9a715 ]] \r\n",
       "}\r\n",
       "@enduml\r\n",
       "\n",
       "PlantUML version 1.2020.13(Sat Jun 13 12:26:38 UTC 2020)\n",
       "(EPL source distribution)\n",
       "Java Runtime: OpenJDK Runtime Environment\n",
       "JVM: OpenJDK 64-Bit Server VM\n",
       "Default Encoding: UTF-8\n",
       "Language: en\n",
       "Country: null\n",
       "--></g></svg>"
      ]
     },
     "execution_count": 10,
     "metadata": {},
     "output_type": "execute_result"
    }
   ],
   "source": [
    "%viz --style=\"POLYLINE\" --view=\"Tree\" \"ConjugationTest\""
   ]
  },
  {
   "cell_type": "code",
   "execution_count": 11,
   "id": "fitted-tourist",
   "metadata": {
    "execution": {
     "iopub.execute_input": "2021-03-25T13:18:43.069301Z",
     "iopub.status.busy": "2021-03-25T13:18:43.068884Z",
     "iopub.status.idle": "2021-03-25T13:18:43.078940Z",
     "shell.execute_reply": "2021-03-25T13:18:43.079401Z"
    }
   },
   "outputs": [
    {
     "data": {
      "image/svg+xml": [
       "<?xml version=\"1.0\" encoding=\"UTF-8\" standalone=\"no\"?><svg xmlns=\"http://www.w3.org/2000/svg\" xmlns:xlink=\"http://www.w3.org/1999/xlink\" contentScriptType=\"application/ecmascript\" contentStyleType=\"text/css\" height=\"12px\" preserveAspectRatio=\"none\" style=\"width:12px;height:12px;\" version=\"1.1\" viewBox=\"0 0 12 12\" width=\"12px\" zoomAndPan=\"magnify\"><defs/><g><!--MD5=[896ac0e7a515d8dd7765a661cb4ee08b]\n",
       "@startuml\r\n",
       "skinparam linetype polyline\r\n",
       "skinparam monochrome true\r\n",
       "skinparam classbackgroundcolor white\r\n",
       "skinparam shadowing false\r\n",
       "skinparam wrapWidth 300\r\n",
       "hide circle\r\n",
       "\r\n",
       "@enduml\r\n",
       "\n",
       "PlantUML version 1.2020.13(Sat Jun 13 12:26:38 UTC 2020)\n",
       "(EPL source distribution)\n",
       "Java Runtime: OpenJDK Runtime Environment\n",
       "JVM: OpenJDK 64-Bit Server VM\n",
       "Default Encoding: UTF-8\n",
       "Language: en\n",
       "Country: null\n",
       "--></g></svg>"
      ]
     },
     "execution_count": 11,
     "metadata": {},
     "output_type": "execute_result"
    }
   ],
   "source": [
    "%viz --style=\"POLYLINE\" --view=\"State\" \"ConjugationTest\""
   ]
  },
  {
   "cell_type": "code",
   "execution_count": 12,
   "id": "temporal-paste",
   "metadata": {
    "execution": {
     "iopub.execute_input": "2021-03-25T13:18:43.130669Z",
     "iopub.status.busy": "2021-03-25T13:18:43.130136Z",
     "iopub.status.idle": "2021-03-25T13:18:43.340025Z",
     "shell.execute_reply": "2021-03-25T13:18:43.340434Z"
    }
   },
   "outputs": [
    {
     "data": {
      "image/svg+xml": [
       "<?xml version=\"1.0\" encoding=\"UTF-8\" standalone=\"no\"?><svg xmlns=\"http://www.w3.org/2000/svg\" xmlns:xlink=\"http://www.w3.org/1999/xlink\" contentScriptType=\"application/ecmascript\" contentStyleType=\"text/css\" height=\"246px\" preserveAspectRatio=\"none\" style=\"width:739px;height:246px;\" version=\"1.1\" viewBox=\"0 0 739 246\" width=\"739px\" zoomAndPan=\"magnify\"><defs/><g><!--MD5=[fbc87193dbaf4d95561dea2c320d4a47]\n",
       "cluster E1--><a href=\"psysml:db7199af-e574-4214-8b26-5aef0dbbdb0a\" target=\"_top\" title=\"psysml:db7199af-e574-4214-8b26-5aef0dbbdb0a\" xlink:actuate=\"onRequest\" xlink:href=\"psysml:db7199af-e574-4214-8b26-5aef0dbbdb0a\" xlink:show=\"new\" xlink:title=\"psysml:db7199af-e574-4214-8b26-5aef0dbbdb0a\" xlink:type=\"simple\"><polygon fill=\"#FFFFFF\" points=\"16,6,151,6,158,28.2969,717,28.2969,717,234.5,16,234.5,16,6\" style=\"stroke: #000000; stroke-width: 1.5;\"/><line style=\"stroke: #000000; stroke-width: 1.5;\" x1=\"16\" x2=\"158\" y1=\"28.2969\" y2=\"28.2969\"/><text fill=\"#000000\" font-family=\"sans-serif\" font-size=\"14\" font-weight=\"bold\" lengthAdjust=\"spacingAndGlyphs\" textLength=\"129\" x=\"20\" y=\"20.9951\">ConjugationTest</text></a><!--MD5=[d5e69f78d87373223dbae638b30a9c99]\n",
       "cluster E3--><a href=\"psysml:987ad9e8-156c-405b-94a5-0234bd5ef961\" target=\"_top\" title=\"psysml:987ad9e8-156c-405b-94a5-0234bd5ef961\" xlink:actuate=\"onRequest\" xlink:href=\"psysml:987ad9e8-156c-405b-94a5-0234bd5ef961\" xlink:show=\"new\" xlink:title=\"psysml:987ad9e8-156c-405b-94a5-0234bd5ef961\" xlink:type=\"simple\"><rect fill=\"#FFFFFF\" height=\"88.5\" id=\"E3\" style=\"stroke: #383838; stroke-width: 1.5;\" width=\"83\" x=\"577\" y=\"114\"/><rect fill=\"#F8F8F8\" height=\"37.9375\" style=\"stroke: #383838; stroke-width: 1.5;\" width=\"83\" x=\"577\" y=\"114\"/><text fill=\"#000000\" font-family=\"sans-serif\" font-size=\"12\" font-style=\"italic\" lengthAdjust=\"spacingAndGlyphs\" textLength=\"64\" x=\"586.5\" y=\"130.1387\">«part def»</text><text fill=\"#000000\" font-family=\"sans-serif\" font-size=\"12\" lengthAdjust=\"spacingAndGlyphs\" textLength=\"8\" x=\"614.5\" y=\"144.1074\">B</text></a><!--MD5=[14e3b0961a2654348d326746436168a1]\n",
       "cluster E6--><a href=\"psysml:d4b825d6-e011-4f07-a399-999db6b99ea3\" target=\"_top\" title=\"psysml:d4b825d6-e011-4f07-a399-999db6b99ea3\" xlink:actuate=\"onRequest\" xlink:href=\"psysml:d4b825d6-e011-4f07-a399-999db6b99ea3\" xlink:show=\"new\" xlink:title=\"psysml:d4b825d6-e011-4f07-a399-999db6b99ea3\" xlink:type=\"simple\"><rect fill=\"#FFFFFF\" height=\"88.5\" id=\"E6\" style=\"stroke: #383838; stroke-width: 1.5;\" width=\"150\" x=\"423\" y=\"114\"/><rect fill=\"#F8F8F8\" height=\"37.9375\" style=\"stroke: #383838; stroke-width: 1.5;\" width=\"150\" x=\"423\" y=\"114\"/><text fill=\"#000000\" font-family=\"sans-serif\" font-size=\"12\" font-style=\"italic\" lengthAdjust=\"spacingAndGlyphs\" textLength=\"108\" x=\"444\" y=\"130.1387\">«connection def»</text><text fill=\"#000000\" font-family=\"sans-serif\" font-size=\"12\" lengthAdjust=\"spacingAndGlyphs\" textLength=\"8\" x=\"494\" y=\"144.1074\">A</text></a><!--MD5=[7f149f147074ac12df2cb0a7728a5fb0]\n",
       "cluster E9--><a href=\"psysml:0fcf03a3-0a94-497d-adc5-5270b49e59d7\" target=\"_top\" title=\"psysml:0fcf03a3-0a94-497d-adc5-5270b49e59d7\" xlink:actuate=\"onRequest\" xlink:href=\"psysml:0fcf03a3-0a94-497d-adc5-5270b49e59d7\" xlink:show=\"new\" xlink:title=\"psysml:0fcf03a3-0a94-497d-adc5-5270b49e59d7\" xlink:type=\"simple\"><rect fill=\"#FFFFFF\" height=\"88.5\" id=\"E9\" style=\"stroke: #383838; stroke-width: 1.5;\" width=\"141\" x=\"254\" y=\"114\"/><rect fill=\"#F8F8F8\" height=\"37.9375\" style=\"stroke: #383838; stroke-width: 1.5;\" width=\"141\" x=\"254\" y=\"114\"/><text fill=\"#000000\" font-family=\"sans-serif\" font-size=\"12\" font-style=\"italic\" lengthAdjust=\"spacingAndGlyphs\" textLength=\"94\" x=\"277.5\" y=\"130.1387\">«interface def»</text><text fill=\"#000000\" font-family=\"sans-serif\" font-size=\"12\" lengthAdjust=\"spacingAndGlyphs\" textLength=\"3\" x=\"323\" y=\"144.1074\">I</text></a><!--MD5=[47bea60c1a0ac6c1143df232041969c0]\n",
       "cluster E12--><a href=\"psysml:fa47a610-a800-429f-b665-228f1e266500\" target=\"_top\" title=\"psysml:fa47a610-a800-429f-b665-228f1e266500\" xlink:actuate=\"onRequest\" xlink:href=\"psysml:fa47a610-a800-429f-b665-228f1e266500\" xlink:show=\"new\" xlink:title=\"psysml:fa47a610-a800-429f-b665-228f1e266500\" xlink:type=\"simple\"><rect fill=\"#FFFFFF\" height=\"161.5\" id=\"E12\" style=\"stroke: #383838; stroke-width: 1.5;\" width=\"107\" x=\"120\" y=\"49\"/><rect fill=\"#F8F8F8\" height=\"37.9375\" style=\"stroke: #383838; stroke-width: 1.5;\" width=\"107\" x=\"120\" y=\"49\"/><text fill=\"#000000\" font-family=\"sans-serif\" font-size=\"12\" font-style=\"italic\" lengthAdjust=\"spacingAndGlyphs\" textLength=\"64\" x=\"141.5\" y=\"65.1387\">«part def»</text><text fill=\"#000000\" font-family=\"sans-serif\" font-size=\"12\" lengthAdjust=\"spacingAndGlyphs\" textLength=\"16\" x=\"165.5\" y=\"79.1074\">B1</text></a><!--MD5=[03104f77b71e2d8d3500c651e6e31181]\n",
       "cluster E13--><a href=\"psysml:593a6524-9b3f-4082-a23e-8ed96ff9a715\" target=\"_top\" title=\"psysml:593a6524-9b3f-4082-a23e-8ed96ff9a715\" xlink:actuate=\"onRequest\" xlink:href=\"psysml:593a6524-9b3f-4082-a23e-8ed96ff9a715\" xlink:show=\"new\" xlink:title=\"psysml:593a6524-9b3f-4082-a23e-8ed96ff9a715\" xlink:type=\"simple\"><rect fill=\"#FFFFFF\" height=\"80.5\" id=\"E13\" rx=\"10\" ry=\"10\" style=\"stroke: #383838; stroke-width: 1.5;\" width=\"83\" x=\"132\" y=\"114\"/><rect fill=\"#F8F8F8\" height=\"23.9688\" rx=\"10\" ry=\"10\" style=\"stroke: #F8F8F8; stroke-width: 1.5;\" width=\"83\" x=\"132\" y=\"114\"/><rect fill=\"#F8F8F8\" height=\"10\" style=\"stroke: #F8F8F8; stroke-width: 1.5;\" width=\"83\" x=\"132\" y=\"127.9688\"/><rect fill=\"none\" height=\"80.5\" id=\"E13\" rx=\"10\" ry=\"10\" style=\"stroke: #383838; stroke-width: 1.5;\" width=\"83\" x=\"132\" y=\"114\"/><text fill=\"#000000\" font-family=\"sans-serif\" font-size=\"12\" lengthAdjust=\"spacingAndGlyphs\" textLength=\"8\" x=\"169.5\" y=\"130.1387\">p</text><line style=\"stroke: #383838; stroke-width: 1.0;\" x1=\"132\" x2=\"215\" y1=\"137.9688\" y2=\"137.9688\"/></a><g id=\"E1.E2\"><a href=\"psysml:eee324b7-6ef1-4f74-bb85-9d01b884a0c3\" target=\"_top\" title=\"psysml:eee324b7-6ef1-4f74-bb85-9d01b884a0c3\" xlink:actuate=\"onRequest\" xlink:href=\"psysml:eee324b7-6ef1-4f74-bb85-9d01b884a0c3\" xlink:show=\"new\" xlink:title=\"psysml:eee324b7-6ef1-4f74-bb85-9d01b884a0c3\" xlink:type=\"simple\"><rect fill=\"#FFFFFF\" height=\"42.9375\" id=\"E2\" style=\"stroke: #383838; stroke-width: 1.5;\" width=\"71\" x=\"32.5\" y=\"92.5\"/><rect fill=\"#F8F8F8\" height=\"37.9375\" style=\"stroke: #383838; stroke-width: 1.5;\" width=\"71\" x=\"32.5\" y=\"92.5\"/><text fill=\"#000000\" font-family=\"sans-serif\" font-size=\"12\" font-style=\"italic\" lengthAdjust=\"spacingAndGlyphs\" textLength=\"64\" x=\"36\" y=\"108.6387\">«port def»</text><text fill=\"#000000\" font-family=\"sans-serif\" font-size=\"12\" lengthAdjust=\"spacingAndGlyphs\" textLength=\"8\" x=\"64\" y=\"122.6074\">P</text></a></g><text fill=\"#000000\" font-family=\"sans-serif\" font-size=\"14\" lengthAdjust=\"spacingAndGlyphs\" textLength=\"36\" x=\"577\" y=\"92.6982\">p1: P</text><rect fill=\"#383838\" height=\"12\" style=\"stroke: #F8F8F8; stroke-width: 1.5;\" width=\"12\" x=\"589\" y=\"108\"/><text fill=\"#000000\" font-family=\"sans-serif\" font-size=\"14\" lengthAdjust=\"spacingAndGlyphs\" textLength=\"48\" x=\"618\" y=\"92.6982\">p2: ~P</text><rect fill=\"#383838\" height=\"12\" style=\"stroke: #F8F8F8; stroke-width: 1.5;\" width=\"12\" x=\"636\" y=\"108\"/><text fill=\"#000000\" font-family=\"sans-serif\" font-size=\"14\" lengthAdjust=\"spacingAndGlyphs\" textLength=\"36\" x=\"423\" y=\"92.6982\">p1: P</text><rect fill=\"#383838\" height=\"12\" style=\"stroke: #F8F8F8; stroke-width: 1.5;\" width=\"12\" x=\"435\" y=\"108\"/><text fill=\"#000000\" font-family=\"sans-serif\" font-size=\"14\" lengthAdjust=\"spacingAndGlyphs\" textLength=\"48\" x=\"464\" y=\"92.6982\">p2: ~P</text><rect fill=\"#383838\" height=\"12\" style=\"stroke: #F8F8F8; stroke-width: 1.5;\" width=\"12\" x=\"482\" y=\"108\"/><text fill=\"#000000\" font-family=\"sans-serif\" font-size=\"14\" lengthAdjust=\"spacingAndGlyphs\" textLength=\"36\" x=\"254\" y=\"92.6982\">p1: P</text><rect fill=\"#383838\" height=\"12\" style=\"stroke: #F8F8F8; stroke-width: 1.5;\" width=\"12\" x=\"266\" y=\"108\"/><text fill=\"#000000\" font-family=\"sans-serif\" font-size=\"14\" lengthAdjust=\"spacingAndGlyphs\" textLength=\"48\" x=\"295\" y=\"92.6982\">p2: ~P</text><rect fill=\"#383838\" height=\"12\" style=\"stroke: #F8F8F8; stroke-width: 1.5;\" width=\"12\" x=\"313\" y=\"108\"/><text fill=\"#000000\" font-family=\"sans-serif\" font-size=\"14\" lengthAdjust=\"spacingAndGlyphs\" textLength=\"36\" x=\"132\" y=\"92.6982\">p1: P</text><rect fill=\"#383838\" height=\"12\" style=\"stroke: #F8F8F8; stroke-width: 1.5;\" width=\"12\" x=\"144\" y=\"108\"/><text fill=\"#000000\" font-family=\"sans-serif\" font-size=\"14\" lengthAdjust=\"spacingAndGlyphs\" textLength=\"48\" x=\"173\" y=\"92.6982\">p2: ~P</text><rect fill=\"#383838\" height=\"12\" style=\"stroke: #F8F8F8; stroke-width: 1.5;\" width=\"12\" x=\"191\" y=\"108\"/><!--MD5=[4ce51ac6fa4cf5202df3859e2718f033]\n",
       "link E15 to E14--><a href=\"psysml:aa2d6f76-4132-425f-9826-f18a4b0e5493\" target=\"_top\" title=\"psysml:aa2d6f76-4132-425f-9826-f18a4b0e5493\" xlink:actuate=\"onRequest\" xlink:href=\"psysml:aa2d6f76-4132-425f-9826-f18a4b0e5493\" xlink:show=\"new\" xlink:title=\"psysml:aa2d6f76-4132-425f-9826-f18a4b0e5493\" xlink:type=\"simple\"><path d=\"M190.99,114 C186.57,114 181.33,114 181.33,114 C181.33,114 165.67,114 165.67,114 C165.67,114 160.43,114 156.01,114 \" fill=\"none\" id=\"E15-E14\" style=\"stroke: #383838; stroke-width: 3.0;\"/></a><!--MD5=[4ce51ac6fa4cf5202df3859e2718f033]\n",
       "link E15 to E14--><a href=\"psysml:7b87a1ef-cf2b-4c9e-a130-c1b402d1e385\" target=\"_top\" title=\"psysml:7b87a1ef-cf2b-4c9e-a130-c1b402d1e385\" xlink:actuate=\"onRequest\" xlink:href=\"psysml:7b87a1ef-cf2b-4c9e-a130-c1b402d1e385\" xlink:show=\"new\" xlink:title=\"psysml:7b87a1ef-cf2b-4c9e-a130-c1b402d1e385\" xlink:type=\"simple\"><path d=\"M190.99,111.7 C186.57,110.01 181.33,108 181.33,108 C181.33,108 165.67,108 165.67,108 C165.67,108 160.43,110.01 156.01,111.7 \" fill=\"none\" id=\"E15-E14-1\" style=\"stroke: #383838; stroke-width: 3.0;\"/></a><!--MD5=[f33a3d7bc76d54f88ed214b890c0d0f0]\n",
       "@startuml\r\n",
       "skinparam ranksep 8\r\n",
       "skinparam rectangle {\r\n",
       " backgroundColor<<block>> LightGreen\r\n",
       "}\r\n",
       "skinparam linetype polyline\r\n",
       "skinparam monochrome true\r\n",
       "skinparam classbackgroundcolor white\r\n",
       "skinparam shadowing false\r\n",
       "skinparam wrapWidth 300\r\n",
       "hide circle\r\n",
       "\r\n",
       "package \"ConjugationTest\" as E1  [[psysml:db7199af-e574-4214-8b26-5aef0dbbdb0a ]]  {\r\n",
       "def \"P\" as E2  <<(T,blue)port def>> [[psysml:eee324b7-6ef1-4f74-bb85-9d01b884a0c3 ]] \r\n",
       "rec def \"B\" as E3  <<(T,blue)part def>> [[psysml:987ad9e8-156c-405b-94a5-0234bd5ef961 ]] {\r\n",
       "portin \"p1: P\" as E4  <<(T,blue)port>> [[psysml:c8a4d081-7853-4f87-8688-3b004d6601fe ]] \r\n",
       "portin \"p2: ~P\" as E5  <<(T,blue)port>> [[psysml:93d25d87-d8ba-4a14-9054-622c501a7419 ]] \r\n",
       "}\r\n",
       "rec def \"A\" as E6  <<(T,blue)connection def>> [[psysml:d4b825d6-e011-4f07-a399-999db6b99ea3 ]] {\r\n",
       "portin \"p1: P\" as E7  <<(T,blue)port>> [[psysml:cf23f925-3ac9-40f7-8eb9-75cb926494bb ]] \r\n",
       "portin \"p2: ~P\" as E8  <<(T,blue)port>> [[psysml:78e860a1-2afe-4044-9ab4-1ebbe08f7dad ]] \r\n",
       "}\r\n",
       "rec def \"I\" as E9  <<(T,blue)interface def>> [[psysml:0fcf03a3-0a94-497d-adc5-5270b49e59d7 ]] {\r\n",
       "portin \"p1: P\" as E10  <<(T,blue)port>> [[psysml:e29a1f34-1b36-49a6-a497-c0e94a31f076 ]] \r\n",
       "portin \"p2: ~P\" as E11  <<(T,blue)port>> [[psysml:b6345cdf-3536-4afa-a6d8-3c5d2219e138 ]] \r\n",
       "}\r\n",
       "rec def \"B1\" as E12  <<(T,blue)part def>> [[psysml:fa47a610-a800-429f-b665-228f1e266500 ]] {\r\n",
       "rec usage \"p\" as E13  [[psysml:593a6524-9b3f-4082-a23e-8ed96ff9a715 ]] {\r\n",
       "portin \"p1: P\" as E14  <<(T,blue)port>> [[psysml:a4f040c8-38a0-4d60-9c1e-4003131a919c ]] \r\n",
       "portin \"p2: ~P\" as E15  <<(T,blue)port>> [[psysml:661396c6-733f-4c07-bbb8-142725b64304 ]] \r\n",
       "}\r\n",
       "}\r\n",
       "E15 -[thickness=3]- E14 [[psysml:aa2d6f76-4132-425f-9826-f18a4b0e5493 ]] \r\n",
       "E15 -[thickness=3]- E14 [[psysml:7b87a1ef-cf2b-4c9e-a130-c1b402d1e385 ]] \r\n",
       "}\r\n",
       "@enduml\r\n",
       "\n",
       "PlantUML version 1.2020.13(Sat Jun 13 12:26:38 UTC 2020)\n",
       "(EPL source distribution)\n",
       "Java Runtime: OpenJDK Runtime Environment\n",
       "JVM: OpenJDK 64-Bit Server VM\n",
       "Default Encoding: UTF-8\n",
       "Language: en\n",
       "Country: null\n",
       "--></g></svg>"
      ]
     },
     "execution_count": 12,
     "metadata": {},
     "output_type": "execute_result"
    }
   ],
   "source": [
    "%viz --style=\"POLYLINE\" --view=\"Interconnection\" \"ConjugationTest\""
   ]
  },
  {
   "cell_type": "code",
   "execution_count": 13,
   "id": "brazilian-steps",
   "metadata": {
    "execution": {
     "iopub.execute_input": "2021-03-25T13:18:43.391502Z",
     "iopub.status.busy": "2021-03-25T13:18:43.390701Z",
     "iopub.status.idle": "2021-03-25T13:18:43.400730Z",
     "shell.execute_reply": "2021-03-25T13:18:43.401191Z"
    }
   },
   "outputs": [
    {
     "data": {
      "image/svg+xml": [
       "<?xml version=\"1.0\" encoding=\"UTF-8\" standalone=\"no\"?><svg xmlns=\"http://www.w3.org/2000/svg\" xmlns:xlink=\"http://www.w3.org/1999/xlink\" contentScriptType=\"application/ecmascript\" contentStyleType=\"text/css\" height=\"12px\" preserveAspectRatio=\"none\" style=\"width:12px;height:12px;\" version=\"1.1\" viewBox=\"0 0 12 12\" width=\"12px\" zoomAndPan=\"magnify\"><defs/><g><!--MD5=[97bbf32f66ccd50cbc40d92ea8f5a65e]\n",
       "@startuml\r\n",
       "skinparam ranksep 8\r\n",
       "skinparam linetype polyline\r\n",
       "skinparam monochrome true\r\n",
       "skinparam classbackgroundcolor white\r\n",
       "skinparam shadowing false\r\n",
       "skinparam wrapWidth 300\r\n",
       "hide circle\r\n",
       "\r\n",
       "@enduml\r\n",
       "\n",
       "PlantUML version 1.2020.13(Sat Jun 13 12:26:38 UTC 2020)\n",
       "(EPL source distribution)\n",
       "Java Runtime: OpenJDK Runtime Environment\n",
       "JVM: OpenJDK 64-Bit Server VM\n",
       "Default Encoding: UTF-8\n",
       "Language: en\n",
       "Country: null\n",
       "--></g></svg>"
      ]
     },
     "execution_count": 13,
     "metadata": {},
     "output_type": "execute_result"
    }
   ],
   "source": [
    "%viz --style=\"POLYLINE\" --view=\"Action\" \"ConjugationTest\""
   ]
  },
  {
   "cell_type": "code",
   "execution_count": 14,
   "id": "duplicate-reporter",
   "metadata": {
    "execution": {
     "iopub.execute_input": "2021-03-25T13:18:43.452656Z",
     "iopub.status.busy": "2021-03-25T13:18:43.451684Z",
     "iopub.status.idle": "2021-03-25T13:18:44.223666Z",
     "shell.execute_reply": "2021-03-25T13:18:44.224179Z"
    }
   },
   "outputs": [
    {
     "data": {
      "image/svg+xml": [
       "<?xml version=\"1.0\" encoding=\"UTF-8\" standalone=\"no\"?><svg xmlns=\"http://www.w3.org/2000/svg\" xmlns:xlink=\"http://www.w3.org/1999/xlink\" contentScriptType=\"application/ecmascript\" contentStyleType=\"text/css\" height=\"305px\" preserveAspectRatio=\"none\" style=\"width:614px;height:305px;\" version=\"1.1\" viewBox=\"0 0 614 305\" width=\"614px\" zoomAndPan=\"magnify\"><defs/><g><!--MD5=[fbc87193dbaf4d95561dea2c320d4a47]\n",
       "cluster E1--><a href=\"psysml:db7199af-e574-4214-8b26-5aef0dbbdb0a\" target=\"_top\" title=\"psysml:db7199af-e574-4214-8b26-5aef0dbbdb0a\" xlink:actuate=\"onRequest\" xlink:href=\"psysml:db7199af-e574-4214-8b26-5aef0dbbdb0a\" xlink:show=\"new\" xlink:title=\"psysml:db7199af-e574-4214-8b26-5aef0dbbdb0a\" xlink:type=\"simple\"><polygon fill=\"#FFFFFF\" points=\"16,6,151,6,158,28.2969,592,28.2969,592,293,16,293,16,6\" style=\"stroke: #000000; stroke-width: 1.5;\"/><line style=\"stroke: #000000; stroke-width: 1.5;\" x1=\"16\" x2=\"158\" y1=\"28.2969\" y2=\"28.2969\"/><text fill=\"#000000\" font-family=\"sans-serif\" font-size=\"14\" font-weight=\"bold\" lengthAdjust=\"spacingAndGlyphs\" textLength=\"129\" x=\"20\" y=\"20.9951\">ConjugationTest</text></a><!--MD5=[b4997ac47864f28c2f74865a473b2911]\n",
       "class E2--><a href=\"psysml:eee324b7-6ef1-4f74-bb85-9d01b884a0c3\" target=\"_top\" title=\"psysml:eee324b7-6ef1-4f74-bb85-9d01b884a0c3\" xlink:actuate=\"onRequest\" xlink:href=\"psysml:eee324b7-6ef1-4f74-bb85-9d01b884a0c3\" xlink:show=\"new\" xlink:title=\"psysml:eee324b7-6ef1-4f74-bb85-9d01b884a0c3\" xlink:type=\"simple\"><rect fill=\"#FFFFFF\" height=\"45.9375\" id=\"E2\" style=\"stroke: #383838; stroke-width: 1.5;\" width=\"66\" x=\"510\" y=\"62\"/><text fill=\"#000000\" font-family=\"sans-serif\" font-size=\"12\" font-style=\"italic\" lengthAdjust=\"spacingAndGlyphs\" textLength=\"64\" x=\"511\" y=\"78.1387\">«port def»</text><text fill=\"#000000\" font-family=\"sans-serif\" font-size=\"12\" lengthAdjust=\"spacingAndGlyphs\" textLength=\"8\" x=\"539\" y=\"92.1074\">P</text><line style=\"stroke: #383838; stroke-width: 1.5;\" x1=\"511\" x2=\"575\" y1=\"99.9375\" y2=\"99.9375\"/></a><!--MD5=[09b614a08d8cba4a07c9adeb5e0fee81]\n",
       "class E3--><a href=\"psysml:987ad9e8-156c-405b-94a5-0234bd5ef961\" target=\"_top\" title=\"psysml:987ad9e8-156c-405b-94a5-0234bd5ef961\" xlink:actuate=\"onRequest\" xlink:href=\"psysml:987ad9e8-156c-405b-94a5-0234bd5ef961\" xlink:show=\"new\" xlink:title=\"psysml:987ad9e8-156c-405b-94a5-0234bd5ef961\" xlink:type=\"simple\"><rect fill=\"#FFFFFF\" height=\"88.3516\" id=\"E3\" style=\"stroke: #383838; stroke-width: 1.5;\" width=\"66\" x=\"409\" y=\"41\"/><text fill=\"#000000\" font-family=\"sans-serif\" font-size=\"12\" font-style=\"italic\" lengthAdjust=\"spacingAndGlyphs\" textLength=\"64\" x=\"410\" y=\"57.1387\">«part def»</text><text fill=\"#000000\" font-family=\"sans-serif\" font-size=\"12\" lengthAdjust=\"spacingAndGlyphs\" textLength=\"8\" x=\"438\" y=\"71.1074\">B</text><line style=\"stroke: #383838; stroke-width: 1.5;\" x1=\"410\" x2=\"474\" y1=\"78.9375\" y2=\"78.9375\"/><text fill=\"#000000\" font-family=\"sans-serif\" font-size=\"11\" lengthAdjust=\"spacingAndGlyphs\" textLength=\"29\" x=\"415\" y=\"109.9526\">p1: P</text><text fill=\"#000000\" font-family=\"sans-serif\" font-size=\"11\" lengthAdjust=\"spacingAndGlyphs\" textLength=\"38\" x=\"415\" y=\"122.7573\">p2: ~P</text><line style=\"stroke: #383838; stroke-width: 1.0;\" x1=\"410\" x2=\"427\" y1=\"93.3398\" y2=\"93.3398\"/><text fill=\"#000000\" font-family=\"sans-serif\" font-size=\"11\" lengthAdjust=\"spacingAndGlyphs\" textLength=\"30\" x=\"427\" y=\"96.6479\">ports</text><line style=\"stroke: #383838; stroke-width: 1.0;\" x1=\"457\" x2=\"474\" y1=\"93.3398\" y2=\"93.3398\"/></a><!--MD5=[60a26617385b1d2d0262a64233df1f8d]\n",
       "class E6--><a href=\"psysml:d4b825d6-e011-4f07-a399-999db6b99ea3\" target=\"_top\" title=\"psysml:d4b825d6-e011-4f07-a399-999db6b99ea3\" xlink:actuate=\"onRequest\" xlink:href=\"psysml:d4b825d6-e011-4f07-a399-999db6b99ea3\" xlink:show=\"new\" xlink:title=\"psysml:d4b825d6-e011-4f07-a399-999db6b99ea3\" xlink:type=\"simple\"><rect fill=\"#FFFFFF\" height=\"88.3516\" id=\"E6\" style=\"stroke: #383838; stroke-width: 1.5;\" width=\"110\" x=\"264\" y=\"41\"/><text fill=\"#000000\" font-family=\"sans-serif\" font-size=\"12\" font-style=\"italic\" lengthAdjust=\"spacingAndGlyphs\" textLength=\"108\" x=\"265\" y=\"57.1387\">«connection def»</text><text fill=\"#000000\" font-family=\"sans-serif\" font-size=\"12\" lengthAdjust=\"spacingAndGlyphs\" textLength=\"8\" x=\"315\" y=\"71.1074\">A</text><line style=\"stroke: #383838; stroke-width: 1.5;\" x1=\"265\" x2=\"373\" y1=\"78.9375\" y2=\"78.9375\"/><text fill=\"#000000\" font-family=\"sans-serif\" font-size=\"11\" lengthAdjust=\"spacingAndGlyphs\" textLength=\"29\" x=\"270\" y=\"109.9526\">p1: P</text><text fill=\"#000000\" font-family=\"sans-serif\" font-size=\"11\" lengthAdjust=\"spacingAndGlyphs\" textLength=\"38\" x=\"270\" y=\"122.7573\">p2: ~P</text><line style=\"stroke: #383838; stroke-width: 1.0;\" x1=\"265\" x2=\"304\" y1=\"93.3398\" y2=\"93.3398\"/><text fill=\"#000000\" font-family=\"sans-serif\" font-size=\"11\" lengthAdjust=\"spacingAndGlyphs\" textLength=\"30\" x=\"304\" y=\"96.6479\">ports</text><line style=\"stroke: #383838; stroke-width: 1.0;\" x1=\"334\" x2=\"373\" y1=\"93.3398\" y2=\"93.3398\"/></a><!--MD5=[fd4143e9d270a159db93a4ea2a975926]\n",
       "class E9--><a href=\"psysml:0fcf03a3-0a94-497d-adc5-5270b49e59d7\" target=\"_top\" title=\"psysml:0fcf03a3-0a94-497d-adc5-5270b49e59d7\" xlink:actuate=\"onRequest\" xlink:href=\"psysml:0fcf03a3-0a94-497d-adc5-5270b49e59d7\" xlink:show=\"new\" xlink:title=\"psysml:0fcf03a3-0a94-497d-adc5-5270b49e59d7\" xlink:type=\"simple\"><rect fill=\"#FFFFFF\" height=\"88.3516\" id=\"E9\" style=\"stroke: #383838; stroke-width: 1.5;\" width=\"96\" x=\"133\" y=\"41\"/><text fill=\"#000000\" font-family=\"sans-serif\" font-size=\"12\" font-style=\"italic\" lengthAdjust=\"spacingAndGlyphs\" textLength=\"94\" x=\"134\" y=\"57.1387\">«interface def»</text><text fill=\"#000000\" font-family=\"sans-serif\" font-size=\"12\" lengthAdjust=\"spacingAndGlyphs\" textLength=\"3\" x=\"179.5\" y=\"71.1074\">I</text><line style=\"stroke: #383838; stroke-width: 1.5;\" x1=\"134\" x2=\"228\" y1=\"78.9375\" y2=\"78.9375\"/><text fill=\"#000000\" font-family=\"sans-serif\" font-size=\"11\" lengthAdjust=\"spacingAndGlyphs\" textLength=\"29\" x=\"139\" y=\"109.9526\">p1: P</text><text fill=\"#000000\" font-family=\"sans-serif\" font-size=\"11\" lengthAdjust=\"spacingAndGlyphs\" textLength=\"38\" x=\"139\" y=\"122.7573\">p2: ~P</text><line style=\"stroke: #383838; stroke-width: 1.0;\" x1=\"134\" x2=\"166\" y1=\"93.3398\" y2=\"93.3398\"/><text fill=\"#000000\" font-family=\"sans-serif\" font-size=\"11\" lengthAdjust=\"spacingAndGlyphs\" textLength=\"30\" x=\"166\" y=\"96.6479\">ports</text><line style=\"stroke: #383838; stroke-width: 1.0;\" x1=\"196\" x2=\"228\" y1=\"93.3398\" y2=\"93.3398\"/></a><!--MD5=[49a0ec8f00dab7302a31f22d0f0fe584]\n",
       "class E12--><a href=\"psysml:fa47a610-a800-429f-b665-228f1e266500\" target=\"_top\" title=\"psysml:fa47a610-a800-429f-b665-228f1e266500\" xlink:actuate=\"onRequest\" xlink:href=\"psysml:fa47a610-a800-429f-b665-228f1e266500\" xlink:show=\"new\" xlink:title=\"psysml:fa47a610-a800-429f-b665-228f1e266500\" xlink:type=\"simple\"><rect fill=\"#FFFFFF\" height=\"45.9375\" id=\"E12\" style=\"stroke: #383838; stroke-width: 1.5;\" width=\"66\" x=\"32\" y=\"62\"/><text fill=\"#000000\" font-family=\"sans-serif\" font-size=\"12\" font-style=\"italic\" lengthAdjust=\"spacingAndGlyphs\" textLength=\"64\" x=\"33\" y=\"78.1387\">«part def»</text><text fill=\"#000000\" font-family=\"sans-serif\" font-size=\"12\" lengthAdjust=\"spacingAndGlyphs\" textLength=\"16\" x=\"57\" y=\"92.1074\">B1</text><line style=\"stroke: #383838; stroke-width: 1.5;\" x1=\"33\" x2=\"97\" y1=\"99.9375\" y2=\"99.9375\"/></a><!--MD5=[ee3c913d1a06f366521f9ef512b67efe]\n",
       "class E13--><a href=\"psysml:593a6524-9b3f-4082-a23e-8ed96ff9a715\" target=\"_top\" title=\"psysml:593a6524-9b3f-4082-a23e-8ed96ff9a715\" xlink:actuate=\"onRequest\" xlink:href=\"psysml:593a6524-9b3f-4082-a23e-8ed96ff9a715\" xlink:show=\"new\" xlink:title=\"psysml:593a6524-9b3f-4082-a23e-8ed96ff9a715\" xlink:type=\"simple\"><rect fill=\"#FFFFFF\" height=\"88.3516\" id=\"E13\" rx=\"10\" ry=\"10\" style=\"stroke: #383838; stroke-width: 1.5;\" width=\"50\" x=\"40\" y=\"189\"/><text fill=\"#000000\" font-family=\"sans-serif\" font-size=\"12\" font-style=\"italic\" lengthAdjust=\"spacingAndGlyphs\" textLength=\"40\" x=\"45\" y=\"205.1387\">«part»</text><text fill=\"#000000\" font-family=\"sans-serif\" font-size=\"12\" lengthAdjust=\"spacingAndGlyphs\" textLength=\"8\" x=\"61\" y=\"219.1074\">p</text><line style=\"stroke: #383838; stroke-width: 1.5;\" x1=\"41\" x2=\"89\" y1=\"226.9375\" y2=\"226.9375\"/><text fill=\"#000000\" font-family=\"sans-serif\" font-size=\"11\" lengthAdjust=\"spacingAndGlyphs\" textLength=\"29\" x=\"46\" y=\"257.9526\">p1: P</text><text fill=\"#000000\" font-family=\"sans-serif\" font-size=\"11\" lengthAdjust=\"spacingAndGlyphs\" textLength=\"38\" x=\"46\" y=\"270.7573\">p2: ~P</text><line style=\"stroke: #383838; stroke-width: 1.0;\" x1=\"41\" x2=\"50\" y1=\"241.3398\" y2=\"241.3398\"/><text fill=\"#000000\" font-family=\"sans-serif\" font-size=\"11\" lengthAdjust=\"spacingAndGlyphs\" textLength=\"30\" x=\"50\" y=\"244.6479\">ports</text><line style=\"stroke: #383838; stroke-width: 1.0;\" x1=\"80\" x2=\"89\" y1=\"241.3398\" y2=\"241.3398\"/></a><!--MD5=[062ed86c389d1a88f61c6380d0491e17]\n",
       "reverse link E12 to E13--><a href=\"psysml:593a6524-9b3f-4082-a23e-8ed96ff9a715\" target=\"_top\" title=\"psysml:593a6524-9b3f-4082-a23e-8ed96ff9a715\" xlink:actuate=\"onRequest\" xlink:href=\"psysml:593a6524-9b3f-4082-a23e-8ed96ff9a715\" xlink:show=\"new\" xlink:title=\"psysml:593a6524-9b3f-4082-a23e-8ed96ff9a715\" xlink:type=\"simple\"><path d=\"M65,121.25 C65,141.54 65,167.2 65,188.71 \" fill=\"none\" id=\"E12&lt;-E13\" style=\"stroke: #383838; stroke-width: 1.0;\"/><polygon fill=\"#383838\" points=\"65,108.17,61,114.17,65,120.17,69,114.17,65,108.17\" style=\"stroke: #383838; stroke-width: 1.0;\"/></a><!--MD5=[dffbc6fc4d7bdc71feb1f26f7207e4b6]\n",
       "@startuml\r\n",
       "skinparam linetype polyline\r\n",
       "skinparam monochrome true\r\n",
       "skinparam classbackgroundcolor white\r\n",
       "skinparam shadowing false\r\n",
       "skinparam wrapWidth 300\r\n",
       "hide circle\r\n",
       "\r\n",
       "package \"ConjugationTest\" as E1  [[psysml:db7199af-e574-4214-8b26-5aef0dbbdb0a ]]  {\r\n",
       "comp def \"P\" as E2  <<(T,blue)port def>> [[psysml:eee324b7-6ef1-4f74-bb85-9d01b884a0c3 ]] {\r\n",
       "}\r\n",
       "comp def \"B\" as E3  <<(T,blue)part def>> [[psysml:987ad9e8-156c-405b-94a5-0234bd5ef961 ]] {\r\n",
       "- - ports - -\r\n",
       "p1: P\r\n",
       "p2: ~P\r\n",
       "}\r\n",
       "comp def \"A\" as E6  <<(T,blue)connection def>> [[psysml:d4b825d6-e011-4f07-a399-999db6b99ea3 ]] {\r\n",
       "- - ports - -\r\n",
       "p1: P\r\n",
       "p2: ~P\r\n",
       "}\r\n",
       "comp def \"I\" as E9  <<(T,blue)interface def>> [[psysml:0fcf03a3-0a94-497d-adc5-5270b49e59d7 ]] {\r\n",
       "- - ports - -\r\n",
       "p1: P\r\n",
       "p2: ~P\r\n",
       "}\r\n",
       "comp def \"B1\" as E12  <<(T,blue)part def>> [[psysml:fa47a610-a800-429f-b665-228f1e266500 ]] {\r\n",
       "}\r\n",
       "comp usage \"p\" as E13  <<(T,blue)part>> [[psysml:593a6524-9b3f-4082-a23e-8ed96ff9a715 ]] {\r\n",
       "- - ports - -\r\n",
       "p1: P\r\n",
       "p2: ~P\r\n",
       "}\r\n",
       "E12 *- - E13 [[psysml:593a6524-9b3f-4082-a23e-8ed96ff9a715 ]] \r\n",
       "}\r\n",
       "@enduml\r\n",
       "\n",
       "PlantUML version 1.2020.13(Sat Jun 13 12:26:38 UTC 2020)\n",
       "(EPL source distribution)\n",
       "Java Runtime: OpenJDK Runtime Environment\n",
       "JVM: OpenJDK 64-Bit Server VM\n",
       "Default Encoding: UTF-8\n",
       "Language: en\n",
       "Country: null\n",
       "--></g></svg>"
      ]
     },
     "execution_count": 14,
     "metadata": {},
     "output_type": "execute_result"
    }
   ],
   "source": [
    "%viz --style=\"POLYLINE\" --view=\"Sequence\" \"ConjugationTest\""
   ]
  },
  {
   "cell_type": "code",
   "execution_count": 15,
   "id": "loved-transport",
   "metadata": {
    "execution": {
     "iopub.execute_input": "2021-03-25T13:18:44.275089Z",
     "iopub.status.busy": "2021-03-25T13:18:44.274151Z",
     "iopub.status.idle": "2021-03-25T13:18:45.128751Z",
     "shell.execute_reply": "2021-03-25T13:18:45.126295Z"
    }
   },
   "outputs": [
    {
     "data": {
      "image/svg+xml": [
       "<?xml version=\"1.0\" encoding=\"UTF-8\" standalone=\"no\"?><svg xmlns=\"http://www.w3.org/2000/svg\" xmlns:xlink=\"http://www.w3.org/1999/xlink\" contentScriptType=\"application/ecmascript\" contentStyleType=\"text/css\" height=\"305px\" preserveAspectRatio=\"none\" style=\"width:614px;height:305px;\" version=\"1.1\" viewBox=\"0 0 614 305\" width=\"614px\" zoomAndPan=\"magnify\"><defs/><g><!--MD5=[fbc87193dbaf4d95561dea2c320d4a47]\n",
       "cluster E1--><a href=\"psysml:db7199af-e574-4214-8b26-5aef0dbbdb0a\" target=\"_top\" title=\"psysml:db7199af-e574-4214-8b26-5aef0dbbdb0a\" xlink:actuate=\"onRequest\" xlink:href=\"psysml:db7199af-e574-4214-8b26-5aef0dbbdb0a\" xlink:show=\"new\" xlink:title=\"psysml:db7199af-e574-4214-8b26-5aef0dbbdb0a\" xlink:type=\"simple\"><polygon fill=\"#FFFFFF\" points=\"16,6,151,6,158,28.2969,592,28.2969,592,293,16,293,16,6\" style=\"stroke: #000000; stroke-width: 1.5;\"/><line style=\"stroke: #000000; stroke-width: 1.5;\" x1=\"16\" x2=\"158\" y1=\"28.2969\" y2=\"28.2969\"/><text fill=\"#000000\" font-family=\"sans-serif\" font-size=\"14\" font-weight=\"bold\" lengthAdjust=\"spacingAndGlyphs\" textLength=\"129\" x=\"20\" y=\"20.9951\">ConjugationTest</text></a><!--MD5=[b4997ac47864f28c2f74865a473b2911]\n",
       "class E2--><a href=\"psysml:eee324b7-6ef1-4f74-bb85-9d01b884a0c3\" target=\"_top\" title=\"psysml:eee324b7-6ef1-4f74-bb85-9d01b884a0c3\" xlink:actuate=\"onRequest\" xlink:href=\"psysml:eee324b7-6ef1-4f74-bb85-9d01b884a0c3\" xlink:show=\"new\" xlink:title=\"psysml:eee324b7-6ef1-4f74-bb85-9d01b884a0c3\" xlink:type=\"simple\"><rect fill=\"#FFFFFF\" height=\"45.9375\" id=\"E2\" style=\"stroke: #383838; stroke-width: 1.5;\" width=\"66\" x=\"510\" y=\"62\"/><text fill=\"#000000\" font-family=\"sans-serif\" font-size=\"12\" font-style=\"italic\" lengthAdjust=\"spacingAndGlyphs\" textLength=\"64\" x=\"511\" y=\"78.1387\">«port def»</text><text fill=\"#000000\" font-family=\"sans-serif\" font-size=\"12\" lengthAdjust=\"spacingAndGlyphs\" textLength=\"8\" x=\"539\" y=\"92.1074\">P</text><line style=\"stroke: #383838; stroke-width: 1.5;\" x1=\"511\" x2=\"575\" y1=\"99.9375\" y2=\"99.9375\"/></a><!--MD5=[09b614a08d8cba4a07c9adeb5e0fee81]\n",
       "class E3--><a href=\"psysml:987ad9e8-156c-405b-94a5-0234bd5ef961\" target=\"_top\" title=\"psysml:987ad9e8-156c-405b-94a5-0234bd5ef961\" xlink:actuate=\"onRequest\" xlink:href=\"psysml:987ad9e8-156c-405b-94a5-0234bd5ef961\" xlink:show=\"new\" xlink:title=\"psysml:987ad9e8-156c-405b-94a5-0234bd5ef961\" xlink:type=\"simple\"><rect fill=\"#FFFFFF\" height=\"88.3516\" id=\"E3\" style=\"stroke: #383838; stroke-width: 1.5;\" width=\"66\" x=\"409\" y=\"41\"/><text fill=\"#000000\" font-family=\"sans-serif\" font-size=\"12\" font-style=\"italic\" lengthAdjust=\"spacingAndGlyphs\" textLength=\"64\" x=\"410\" y=\"57.1387\">«part def»</text><text fill=\"#000000\" font-family=\"sans-serif\" font-size=\"12\" lengthAdjust=\"spacingAndGlyphs\" textLength=\"8\" x=\"438\" y=\"71.1074\">B</text><line style=\"stroke: #383838; stroke-width: 1.5;\" x1=\"410\" x2=\"474\" y1=\"78.9375\" y2=\"78.9375\"/><text fill=\"#000000\" font-family=\"sans-serif\" font-size=\"11\" lengthAdjust=\"spacingAndGlyphs\" textLength=\"29\" x=\"415\" y=\"109.9526\">p1: P</text><text fill=\"#000000\" font-family=\"sans-serif\" font-size=\"11\" lengthAdjust=\"spacingAndGlyphs\" textLength=\"38\" x=\"415\" y=\"122.7573\">p2: ~P</text><line style=\"stroke: #383838; stroke-width: 1.0;\" x1=\"410\" x2=\"427\" y1=\"93.3398\" y2=\"93.3398\"/><text fill=\"#000000\" font-family=\"sans-serif\" font-size=\"11\" lengthAdjust=\"spacingAndGlyphs\" textLength=\"30\" x=\"427\" y=\"96.6479\">ports</text><line style=\"stroke: #383838; stroke-width: 1.0;\" x1=\"457\" x2=\"474\" y1=\"93.3398\" y2=\"93.3398\"/></a><!--MD5=[60a26617385b1d2d0262a64233df1f8d]\n",
       "class E6--><a href=\"psysml:d4b825d6-e011-4f07-a399-999db6b99ea3\" target=\"_top\" title=\"psysml:d4b825d6-e011-4f07-a399-999db6b99ea3\" xlink:actuate=\"onRequest\" xlink:href=\"psysml:d4b825d6-e011-4f07-a399-999db6b99ea3\" xlink:show=\"new\" xlink:title=\"psysml:d4b825d6-e011-4f07-a399-999db6b99ea3\" xlink:type=\"simple\"><rect fill=\"#FFFFFF\" height=\"88.3516\" id=\"E6\" style=\"stroke: #383838; stroke-width: 1.5;\" width=\"110\" x=\"264\" y=\"41\"/><text fill=\"#000000\" font-family=\"sans-serif\" font-size=\"12\" font-style=\"italic\" lengthAdjust=\"spacingAndGlyphs\" textLength=\"108\" x=\"265\" y=\"57.1387\">«connection def»</text><text fill=\"#000000\" font-family=\"sans-serif\" font-size=\"12\" lengthAdjust=\"spacingAndGlyphs\" textLength=\"8\" x=\"315\" y=\"71.1074\">A</text><line style=\"stroke: #383838; stroke-width: 1.5;\" x1=\"265\" x2=\"373\" y1=\"78.9375\" y2=\"78.9375\"/><text fill=\"#000000\" font-family=\"sans-serif\" font-size=\"11\" lengthAdjust=\"spacingAndGlyphs\" textLength=\"29\" x=\"270\" y=\"109.9526\">p1: P</text><text fill=\"#000000\" font-family=\"sans-serif\" font-size=\"11\" lengthAdjust=\"spacingAndGlyphs\" textLength=\"38\" x=\"270\" y=\"122.7573\">p2: ~P</text><line style=\"stroke: #383838; stroke-width: 1.0;\" x1=\"265\" x2=\"304\" y1=\"93.3398\" y2=\"93.3398\"/><text fill=\"#000000\" font-family=\"sans-serif\" font-size=\"11\" lengthAdjust=\"spacingAndGlyphs\" textLength=\"30\" x=\"304\" y=\"96.6479\">ports</text><line style=\"stroke: #383838; stroke-width: 1.0;\" x1=\"334\" x2=\"373\" y1=\"93.3398\" y2=\"93.3398\"/></a><!--MD5=[fd4143e9d270a159db93a4ea2a975926]\n",
       "class E9--><a href=\"psysml:0fcf03a3-0a94-497d-adc5-5270b49e59d7\" target=\"_top\" title=\"psysml:0fcf03a3-0a94-497d-adc5-5270b49e59d7\" xlink:actuate=\"onRequest\" xlink:href=\"psysml:0fcf03a3-0a94-497d-adc5-5270b49e59d7\" xlink:show=\"new\" xlink:title=\"psysml:0fcf03a3-0a94-497d-adc5-5270b49e59d7\" xlink:type=\"simple\"><rect fill=\"#FFFFFF\" height=\"88.3516\" id=\"E9\" style=\"stroke: #383838; stroke-width: 1.5;\" width=\"96\" x=\"133\" y=\"41\"/><text fill=\"#000000\" font-family=\"sans-serif\" font-size=\"12\" font-style=\"italic\" lengthAdjust=\"spacingAndGlyphs\" textLength=\"94\" x=\"134\" y=\"57.1387\">«interface def»</text><text fill=\"#000000\" font-family=\"sans-serif\" font-size=\"12\" lengthAdjust=\"spacingAndGlyphs\" textLength=\"3\" x=\"179.5\" y=\"71.1074\">I</text><line style=\"stroke: #383838; stroke-width: 1.5;\" x1=\"134\" x2=\"228\" y1=\"78.9375\" y2=\"78.9375\"/><text fill=\"#000000\" font-family=\"sans-serif\" font-size=\"11\" lengthAdjust=\"spacingAndGlyphs\" textLength=\"29\" x=\"139\" y=\"109.9526\">p1: P</text><text fill=\"#000000\" font-family=\"sans-serif\" font-size=\"11\" lengthAdjust=\"spacingAndGlyphs\" textLength=\"38\" x=\"139\" y=\"122.7573\">p2: ~P</text><line style=\"stroke: #383838; stroke-width: 1.0;\" x1=\"134\" x2=\"166\" y1=\"93.3398\" y2=\"93.3398\"/><text fill=\"#000000\" font-family=\"sans-serif\" font-size=\"11\" lengthAdjust=\"spacingAndGlyphs\" textLength=\"30\" x=\"166\" y=\"96.6479\">ports</text><line style=\"stroke: #383838; stroke-width: 1.0;\" x1=\"196\" x2=\"228\" y1=\"93.3398\" y2=\"93.3398\"/></a><!--MD5=[49a0ec8f00dab7302a31f22d0f0fe584]\n",
       "class E12--><a href=\"psysml:fa47a610-a800-429f-b665-228f1e266500\" target=\"_top\" title=\"psysml:fa47a610-a800-429f-b665-228f1e266500\" xlink:actuate=\"onRequest\" xlink:href=\"psysml:fa47a610-a800-429f-b665-228f1e266500\" xlink:show=\"new\" xlink:title=\"psysml:fa47a610-a800-429f-b665-228f1e266500\" xlink:type=\"simple\"><rect fill=\"#FFFFFF\" height=\"45.9375\" id=\"E12\" style=\"stroke: #383838; stroke-width: 1.5;\" width=\"66\" x=\"32\" y=\"62\"/><text fill=\"#000000\" font-family=\"sans-serif\" font-size=\"12\" font-style=\"italic\" lengthAdjust=\"spacingAndGlyphs\" textLength=\"64\" x=\"33\" y=\"78.1387\">«part def»</text><text fill=\"#000000\" font-family=\"sans-serif\" font-size=\"12\" lengthAdjust=\"spacingAndGlyphs\" textLength=\"16\" x=\"57\" y=\"92.1074\">B1</text><line style=\"stroke: #383838; stroke-width: 1.5;\" x1=\"33\" x2=\"97\" y1=\"99.9375\" y2=\"99.9375\"/></a><!--MD5=[ee3c913d1a06f366521f9ef512b67efe]\n",
       "class E13--><a href=\"psysml:593a6524-9b3f-4082-a23e-8ed96ff9a715\" target=\"_top\" title=\"psysml:593a6524-9b3f-4082-a23e-8ed96ff9a715\" xlink:actuate=\"onRequest\" xlink:href=\"psysml:593a6524-9b3f-4082-a23e-8ed96ff9a715\" xlink:show=\"new\" xlink:title=\"psysml:593a6524-9b3f-4082-a23e-8ed96ff9a715\" xlink:type=\"simple\"><rect fill=\"#FFFFFF\" height=\"88.3516\" id=\"E13\" rx=\"10\" ry=\"10\" style=\"stroke: #383838; stroke-width: 1.5;\" width=\"50\" x=\"40\" y=\"189\"/><text fill=\"#000000\" font-family=\"sans-serif\" font-size=\"12\" font-style=\"italic\" lengthAdjust=\"spacingAndGlyphs\" textLength=\"40\" x=\"45\" y=\"205.1387\">«part»</text><text fill=\"#000000\" font-family=\"sans-serif\" font-size=\"12\" lengthAdjust=\"spacingAndGlyphs\" textLength=\"8\" x=\"61\" y=\"219.1074\">p</text><line style=\"stroke: #383838; stroke-width: 1.5;\" x1=\"41\" x2=\"89\" y1=\"226.9375\" y2=\"226.9375\"/><text fill=\"#000000\" font-family=\"sans-serif\" font-size=\"11\" lengthAdjust=\"spacingAndGlyphs\" textLength=\"29\" x=\"46\" y=\"257.9526\">p1: P</text><text fill=\"#000000\" font-family=\"sans-serif\" font-size=\"11\" lengthAdjust=\"spacingAndGlyphs\" textLength=\"38\" x=\"46\" y=\"270.7573\">p2: ~P</text><line style=\"stroke: #383838; stroke-width: 1.0;\" x1=\"41\" x2=\"50\" y1=\"241.3398\" y2=\"241.3398\"/><text fill=\"#000000\" font-family=\"sans-serif\" font-size=\"11\" lengthAdjust=\"spacingAndGlyphs\" textLength=\"30\" x=\"50\" y=\"244.6479\">ports</text><line style=\"stroke: #383838; stroke-width: 1.0;\" x1=\"80\" x2=\"89\" y1=\"241.3398\" y2=\"241.3398\"/></a><!--MD5=[062ed86c389d1a88f61c6380d0491e17]\n",
       "reverse link E12 to E13--><a href=\"psysml:593a6524-9b3f-4082-a23e-8ed96ff9a715\" target=\"_top\" title=\"psysml:593a6524-9b3f-4082-a23e-8ed96ff9a715\" xlink:actuate=\"onRequest\" xlink:href=\"psysml:593a6524-9b3f-4082-a23e-8ed96ff9a715\" xlink:show=\"new\" xlink:title=\"psysml:593a6524-9b3f-4082-a23e-8ed96ff9a715\" xlink:type=\"simple\"><path d=\"M65,121.25 C65,141.54 65,167.2 65,188.71 \" fill=\"none\" id=\"E12&lt;-E13\" style=\"stroke: #383838; stroke-width: 1.0;\"/><polygon fill=\"#383838\" points=\"65,108.17,61,114.17,65,120.17,69,114.17,65,108.17\" style=\"stroke: #383838; stroke-width: 1.0;\"/></a><!--MD5=[dffbc6fc4d7bdc71feb1f26f7207e4b6]\n",
       "@startuml\r\n",
       "skinparam linetype polyline\r\n",
       "skinparam monochrome true\r\n",
       "skinparam classbackgroundcolor white\r\n",
       "skinparam shadowing false\r\n",
       "skinparam wrapWidth 300\r\n",
       "hide circle\r\n",
       "\r\n",
       "package \"ConjugationTest\" as E1  [[psysml:db7199af-e574-4214-8b26-5aef0dbbdb0a ]]  {\r\n",
       "comp def \"P\" as E2  <<(T,blue)port def>> [[psysml:eee324b7-6ef1-4f74-bb85-9d01b884a0c3 ]] {\r\n",
       "}\r\n",
       "comp def \"B\" as E3  <<(T,blue)part def>> [[psysml:987ad9e8-156c-405b-94a5-0234bd5ef961 ]] {\r\n",
       "- - ports - -\r\n",
       "p1: P\r\n",
       "p2: ~P\r\n",
       "}\r\n",
       "comp def \"A\" as E6  <<(T,blue)connection def>> [[psysml:d4b825d6-e011-4f07-a399-999db6b99ea3 ]] {\r\n",
       "- - ports - -\r\n",
       "p1: P\r\n",
       "p2: ~P\r\n",
       "}\r\n",
       "comp def \"I\" as E9  <<(T,blue)interface def>> [[psysml:0fcf03a3-0a94-497d-adc5-5270b49e59d7 ]] {\r\n",
       "- - ports - -\r\n",
       "p1: P\r\n",
       "p2: ~P\r\n",
       "}\r\n",
       "comp def \"B1\" as E12  <<(T,blue)part def>> [[psysml:fa47a610-a800-429f-b665-228f1e266500 ]] {\r\n",
       "}\r\n",
       "comp usage \"p\" as E13  <<(T,blue)part>> [[psysml:593a6524-9b3f-4082-a23e-8ed96ff9a715 ]] {\r\n",
       "- - ports - -\r\n",
       "p1: P\r\n",
       "p2: ~P\r\n",
       "}\r\n",
       "E12 *- - E13 [[psysml:593a6524-9b3f-4082-a23e-8ed96ff9a715 ]] \r\n",
       "}\r\n",
       "@enduml\r\n",
       "\n",
       "PlantUML version 1.2020.13(Sat Jun 13 12:26:38 UTC 2020)\n",
       "(EPL source distribution)\n",
       "Java Runtime: OpenJDK Runtime Environment\n",
       "JVM: OpenJDK 64-Bit Server VM\n",
       "Default Encoding: UTF-8\n",
       "Language: en\n",
       "Country: null\n",
       "--></g></svg>"
      ]
     },
     "execution_count": 15,
     "metadata": {},
     "output_type": "execute_result"
    }
   ],
   "source": [
    "%viz --style=\"POLYLINE\" --view=\"MIXED\" \"ConjugationTest\""
   ]
  },
  {
   "cell_type": "code",
   "execution_count": 16,
   "id": "seasonal-guard",
   "metadata": {
    "execution": {
     "iopub.execute_input": "2021-03-25T13:18:45.179342Z",
     "iopub.status.busy": "2021-03-25T13:18:45.178504Z",
     "iopub.status.idle": "2021-03-25T13:18:46.054614Z",
     "shell.execute_reply": "2021-03-25T13:18:46.055009Z"
    }
   },
   "outputs": [
    {
     "data": {
      "image/svg+xml": [
       "<?xml version=\"1.0\" encoding=\"UTF-8\" standalone=\"no\"?><svg xmlns=\"http://www.w3.org/2000/svg\" xmlns:xlink=\"http://www.w3.org/1999/xlink\" contentScriptType=\"application/ecmascript\" contentStyleType=\"text/css\" height=\"565px\" preserveAspectRatio=\"none\" style=\"width:290px;height:565px;\" version=\"1.1\" viewBox=\"0 0 290 565\" width=\"290px\" zoomAndPan=\"magnify\"><defs/><g><!--MD5=[fbc87193dbaf4d95561dea2c320d4a47]\n",
       "cluster E1--><a href=\"psysml:db7199af-e574-4214-8b26-5aef0dbbdb0a\" target=\"_top\" title=\"psysml:db7199af-e574-4214-8b26-5aef0dbbdb0a\" xlink:actuate=\"onRequest\" xlink:href=\"psysml:db7199af-e574-4214-8b26-5aef0dbbdb0a\" xlink:show=\"new\" xlink:title=\"psysml:db7199af-e574-4214-8b26-5aef0dbbdb0a\" xlink:type=\"simple\"><polygon fill=\"#FFFFFF\" points=\"16,6,151,6,158,28.2969,268,28.2969,268,553,16,553,16,6\" style=\"stroke: #000000; stroke-width: 1.5;\"/><line style=\"stroke: #000000; stroke-width: 1.5;\" x1=\"16\" x2=\"158\" y1=\"28.2969\" y2=\"28.2969\"/><text fill=\"#000000\" font-family=\"sans-serif\" font-size=\"14\" font-weight=\"bold\" lengthAdjust=\"spacingAndGlyphs\" textLength=\"129\" x=\"20\" y=\"20.9951\">ConjugationTest</text></a><!--MD5=[b4997ac47864f28c2f74865a473b2911]\n",
       "class E2--><a href=\"psysml:eee324b7-6ef1-4f74-bb85-9d01b884a0c3\" target=\"_top\" title=\"psysml:eee324b7-6ef1-4f74-bb85-9d01b884a0c3\" xlink:actuate=\"onRequest\" xlink:href=\"psysml:eee324b7-6ef1-4f74-bb85-9d01b884a0c3\" xlink:show=\"new\" xlink:title=\"psysml:eee324b7-6ef1-4f74-bb85-9d01b884a0c3\" xlink:type=\"simple\"><rect fill=\"#FFFFFF\" height=\"45.9375\" id=\"E2\" style=\"stroke: #383838; stroke-width: 1.5;\" width=\"66\" x=\"54\" y=\"41\"/><text fill=\"#000000\" font-family=\"sans-serif\" font-size=\"12\" font-style=\"italic\" lengthAdjust=\"spacingAndGlyphs\" textLength=\"64\" x=\"55\" y=\"57.1387\">«port def»</text><text fill=\"#000000\" font-family=\"sans-serif\" font-size=\"12\" lengthAdjust=\"spacingAndGlyphs\" textLength=\"8\" x=\"83\" y=\"71.1074\">P</text><line style=\"stroke: #383838; stroke-width: 1.5;\" x1=\"55\" x2=\"119\" y1=\"78.9375\" y2=\"78.9375\"/></a><!--MD5=[09b614a08d8cba4a07c9adeb5e0fee81]\n",
       "class E3--><a href=\"psysml:987ad9e8-156c-405b-94a5-0234bd5ef961\" target=\"_top\" title=\"psysml:987ad9e8-156c-405b-94a5-0234bd5ef961\" xlink:actuate=\"onRequest\" xlink:href=\"psysml:987ad9e8-156c-405b-94a5-0234bd5ef961\" xlink:show=\"new\" xlink:title=\"psysml:987ad9e8-156c-405b-94a5-0234bd5ef961\" xlink:type=\"simple\"><rect fill=\"#FFFFFF\" height=\"88.3516\" id=\"E3\" style=\"stroke: #383838; stroke-width: 1.5;\" width=\"66\" x=\"54\" y=\"122\"/><text fill=\"#000000\" font-family=\"sans-serif\" font-size=\"12\" font-style=\"italic\" lengthAdjust=\"spacingAndGlyphs\" textLength=\"64\" x=\"55\" y=\"138.1387\">«part def»</text><text fill=\"#000000\" font-family=\"sans-serif\" font-size=\"12\" lengthAdjust=\"spacingAndGlyphs\" textLength=\"8\" x=\"83\" y=\"152.1074\">B</text><line style=\"stroke: #383838; stroke-width: 1.5;\" x1=\"55\" x2=\"119\" y1=\"159.9375\" y2=\"159.9375\"/><text fill=\"#000000\" font-family=\"sans-serif\" font-size=\"11\" lengthAdjust=\"spacingAndGlyphs\" textLength=\"29\" x=\"60\" y=\"190.9526\">p1: P</text><text fill=\"#000000\" font-family=\"sans-serif\" font-size=\"11\" lengthAdjust=\"spacingAndGlyphs\" textLength=\"38\" x=\"60\" y=\"203.7573\">p2: ~P</text><line style=\"stroke: #383838; stroke-width: 1.0;\" x1=\"55\" x2=\"72\" y1=\"174.3398\" y2=\"174.3398\"/><text fill=\"#000000\" font-family=\"sans-serif\" font-size=\"11\" lengthAdjust=\"spacingAndGlyphs\" textLength=\"30\" x=\"72\" y=\"177.6479\">ports</text><line style=\"stroke: #383838; stroke-width: 1.0;\" x1=\"102\" x2=\"119\" y1=\"174.3398\" y2=\"174.3398\"/></a><!--MD5=[60a26617385b1d2d0262a64233df1f8d]\n",
       "class E6--><a href=\"psysml:d4b825d6-e011-4f07-a399-999db6b99ea3\" target=\"_top\" title=\"psysml:d4b825d6-e011-4f07-a399-999db6b99ea3\" xlink:actuate=\"onRequest\" xlink:href=\"psysml:d4b825d6-e011-4f07-a399-999db6b99ea3\" xlink:show=\"new\" xlink:title=\"psysml:d4b825d6-e011-4f07-a399-999db6b99ea3\" xlink:type=\"simple\"><rect fill=\"#FFFFFF\" height=\"88.3516\" id=\"E6\" style=\"stroke: #383838; stroke-width: 1.5;\" width=\"110\" x=\"32\" y=\"245\"/><text fill=\"#000000\" font-family=\"sans-serif\" font-size=\"12\" font-style=\"italic\" lengthAdjust=\"spacingAndGlyphs\" textLength=\"108\" x=\"33\" y=\"261.1387\">«connection def»</text><text fill=\"#000000\" font-family=\"sans-serif\" font-size=\"12\" lengthAdjust=\"spacingAndGlyphs\" textLength=\"8\" x=\"83\" y=\"275.1074\">A</text><line style=\"stroke: #383838; stroke-width: 1.5;\" x1=\"33\" x2=\"141\" y1=\"282.9375\" y2=\"282.9375\"/><text fill=\"#000000\" font-family=\"sans-serif\" font-size=\"11\" lengthAdjust=\"spacingAndGlyphs\" textLength=\"29\" x=\"38\" y=\"313.9526\">p1: P</text><text fill=\"#000000\" font-family=\"sans-serif\" font-size=\"11\" lengthAdjust=\"spacingAndGlyphs\" textLength=\"38\" x=\"38\" y=\"326.7573\">p2: ~P</text><line style=\"stroke: #383838; stroke-width: 1.0;\" x1=\"33\" x2=\"72\" y1=\"297.3398\" y2=\"297.3398\"/><text fill=\"#000000\" font-family=\"sans-serif\" font-size=\"11\" lengthAdjust=\"spacingAndGlyphs\" textLength=\"30\" x=\"72\" y=\"300.6479\">ports</text><line style=\"stroke: #383838; stroke-width: 1.0;\" x1=\"102\" x2=\"141\" y1=\"297.3398\" y2=\"297.3398\"/></a><!--MD5=[fd4143e9d270a159db93a4ea2a975926]\n",
       "class E9--><a href=\"psysml:0fcf03a3-0a94-497d-adc5-5270b49e59d7\" target=\"_top\" title=\"psysml:0fcf03a3-0a94-497d-adc5-5270b49e59d7\" xlink:actuate=\"onRequest\" xlink:href=\"psysml:0fcf03a3-0a94-497d-adc5-5270b49e59d7\" xlink:show=\"new\" xlink:title=\"psysml:0fcf03a3-0a94-497d-adc5-5270b49e59d7\" xlink:type=\"simple\"><rect fill=\"#FFFFFF\" height=\"88.3516\" id=\"E9\" style=\"stroke: #383838; stroke-width: 1.5;\" width=\"96\" x=\"39\" y=\"368\"/><text fill=\"#000000\" font-family=\"sans-serif\" font-size=\"12\" font-style=\"italic\" lengthAdjust=\"spacingAndGlyphs\" textLength=\"94\" x=\"40\" y=\"384.1387\">«interface def»</text><text fill=\"#000000\" font-family=\"sans-serif\" font-size=\"12\" lengthAdjust=\"spacingAndGlyphs\" textLength=\"3\" x=\"85.5\" y=\"398.1074\">I</text><line style=\"stroke: #383838; stroke-width: 1.5;\" x1=\"40\" x2=\"134\" y1=\"405.9375\" y2=\"405.9375\"/><text fill=\"#000000\" font-family=\"sans-serif\" font-size=\"11\" lengthAdjust=\"spacingAndGlyphs\" textLength=\"29\" x=\"45\" y=\"436.9526\">p1: P</text><text fill=\"#000000\" font-family=\"sans-serif\" font-size=\"11\" lengthAdjust=\"spacingAndGlyphs\" textLength=\"38\" x=\"45\" y=\"449.7573\">p2: ~P</text><line style=\"stroke: #383838; stroke-width: 1.0;\" x1=\"40\" x2=\"72\" y1=\"420.3398\" y2=\"420.3398\"/><text fill=\"#000000\" font-family=\"sans-serif\" font-size=\"11\" lengthAdjust=\"spacingAndGlyphs\" textLength=\"30\" x=\"72\" y=\"423.6479\">ports</text><line style=\"stroke: #383838; stroke-width: 1.0;\" x1=\"102\" x2=\"134\" y1=\"420.3398\" y2=\"420.3398\"/></a><!--MD5=[49a0ec8f00dab7302a31f22d0f0fe584]\n",
       "class E12--><a href=\"psysml:fa47a610-a800-429f-b665-228f1e266500\" target=\"_top\" title=\"psysml:fa47a610-a800-429f-b665-228f1e266500\" xlink:actuate=\"onRequest\" xlink:href=\"psysml:fa47a610-a800-429f-b665-228f1e266500\" xlink:show=\"new\" xlink:title=\"psysml:fa47a610-a800-429f-b665-228f1e266500\" xlink:type=\"simple\"><rect fill=\"#FFFFFF\" height=\"45.9375\" id=\"E12\" style=\"stroke: #383838; stroke-width: 1.5;\" width=\"66\" x=\"54\" y=\"491\"/><text fill=\"#000000\" font-family=\"sans-serif\" font-size=\"12\" font-style=\"italic\" lengthAdjust=\"spacingAndGlyphs\" textLength=\"64\" x=\"55\" y=\"507.1387\">«part def»</text><text fill=\"#000000\" font-family=\"sans-serif\" font-size=\"12\" lengthAdjust=\"spacingAndGlyphs\" textLength=\"16\" x=\"79\" y=\"521.1074\">B1</text><line style=\"stroke: #383838; stroke-width: 1.5;\" x1=\"55\" x2=\"119\" y1=\"528.9375\" y2=\"528.9375\"/></a><!--MD5=[ee3c913d1a06f366521f9ef512b67efe]\n",
       "class E13--><a href=\"psysml:593a6524-9b3f-4082-a23e-8ed96ff9a715\" target=\"_top\" title=\"psysml:593a6524-9b3f-4082-a23e-8ed96ff9a715\" xlink:actuate=\"onRequest\" xlink:href=\"psysml:593a6524-9b3f-4082-a23e-8ed96ff9a715\" xlink:show=\"new\" xlink:title=\"psysml:593a6524-9b3f-4082-a23e-8ed96ff9a715\" xlink:type=\"simple\"><rect fill=\"#FFFFFF\" height=\"88.3516\" id=\"E13\" rx=\"10\" ry=\"10\" style=\"stroke: #383838; stroke-width: 1.5;\" width=\"50\" x=\"202\" y=\"449\"/><text fill=\"#000000\" font-family=\"sans-serif\" font-size=\"12\" font-style=\"italic\" lengthAdjust=\"spacingAndGlyphs\" textLength=\"40\" x=\"207\" y=\"465.1387\">«part»</text><text fill=\"#000000\" font-family=\"sans-serif\" font-size=\"12\" lengthAdjust=\"spacingAndGlyphs\" textLength=\"8\" x=\"223\" y=\"479.1074\">p</text><line style=\"stroke: #383838; stroke-width: 1.5;\" x1=\"203\" x2=\"251\" y1=\"486.9375\" y2=\"486.9375\"/><text fill=\"#000000\" font-family=\"sans-serif\" font-size=\"11\" lengthAdjust=\"spacingAndGlyphs\" textLength=\"29\" x=\"208\" y=\"517.9526\">p1: P</text><text fill=\"#000000\" font-family=\"sans-serif\" font-size=\"11\" lengthAdjust=\"spacingAndGlyphs\" textLength=\"38\" x=\"208\" y=\"530.7573\">p2: ~P</text><line style=\"stroke: #383838; stroke-width: 1.0;\" x1=\"203\" x2=\"212\" y1=\"501.3398\" y2=\"501.3398\"/><text fill=\"#000000\" font-family=\"sans-serif\" font-size=\"11\" lengthAdjust=\"spacingAndGlyphs\" textLength=\"30\" x=\"212\" y=\"504.6479\">ports</text><line style=\"stroke: #383838; stroke-width: 1.0;\" x1=\"242\" x2=\"251\" y1=\"501.3398\" y2=\"501.3398\"/></a><!--MD5=[062ed86c389d1a88f61c6380d0491e17]\n",
       "reverse link E12 to E13--><a href=\"psysml:593a6524-9b3f-4082-a23e-8ed96ff9a715\" target=\"_top\" title=\"psysml:593a6524-9b3f-4082-a23e-8ed96ff9a715\" xlink:actuate=\"onRequest\" xlink:href=\"psysml:593a6524-9b3f-4082-a23e-8ed96ff9a715\" xlink:show=\"new\" xlink:title=\"psysml:593a6524-9b3f-4082-a23e-8ed96ff9a715\" xlink:type=\"simple\"><path d=\"M132.96,507.16 C155.92,503.66 182.94,499.55 201.92,496.66 \" fill=\"none\" id=\"E12&lt;-E13\" style=\"stroke: #383838; stroke-width: 1.0;\"/><polygon fill=\"#383838\" points=\"120.01,509.13,126.5441,512.1804,131.873,507.3222,125.3389,504.2717,120.01,509.13\" style=\"stroke: #383838; stroke-width: 1.0;\"/></a><!--MD5=[a4d4c79f7e71f4476977a51dfdbfc66a]\n",
       "@startuml\r\n",
       "left to right direction\r\n",
       "skinparam monochrome true\r\n",
       "skinparam classbackgroundcolor white\r\n",
       "skinparam shadowing false\r\n",
       "skinparam wrapWidth 300\r\n",
       "hide circle\r\n",
       "\r\n",
       "package \"ConjugationTest\" as E1  [[psysml:db7199af-e574-4214-8b26-5aef0dbbdb0a ]]  {\r\n",
       "comp def \"P\" as E2  <<(T,blue)port def>> [[psysml:eee324b7-6ef1-4f74-bb85-9d01b884a0c3 ]] {\r\n",
       "}\r\n",
       "comp def \"B\" as E3  <<(T,blue)part def>> [[psysml:987ad9e8-156c-405b-94a5-0234bd5ef961 ]] {\r\n",
       "- - ports - -\r\n",
       "p1: P\r\n",
       "p2: ~P\r\n",
       "}\r\n",
       "comp def \"A\" as E6  <<(T,blue)connection def>> [[psysml:d4b825d6-e011-4f07-a399-999db6b99ea3 ]] {\r\n",
       "- - ports - -\r\n",
       "p1: P\r\n",
       "p2: ~P\r\n",
       "}\r\n",
       "comp def \"I\" as E9  <<(T,blue)interface def>> [[psysml:0fcf03a3-0a94-497d-adc5-5270b49e59d7 ]] {\r\n",
       "- - ports - -\r\n",
       "p1: P\r\n",
       "p2: ~P\r\n",
       "}\r\n",
       "comp def \"B1\" as E12  <<(T,blue)part def>> [[psysml:fa47a610-a800-429f-b665-228f1e266500 ]] {\r\n",
       "}\r\n",
       "comp usage \"p\" as E13  <<(T,blue)part>> [[psysml:593a6524-9b3f-4082-a23e-8ed96ff9a715 ]] {\r\n",
       "- - ports - -\r\n",
       "p1: P\r\n",
       "p2: ~P\r\n",
       "}\r\n",
       "E12 *- - E13 [[psysml:593a6524-9b3f-4082-a23e-8ed96ff9a715 ]] \r\n",
       "}\r\n",
       "@enduml\r\n",
       "\n",
       "PlantUML version 1.2020.13(Sat Jun 13 12:26:38 UTC 2020)\n",
       "(EPL source distribution)\n",
       "Java Runtime: OpenJDK Runtime Environment\n",
       "JVM: OpenJDK 64-Bit Server VM\n",
       "Default Encoding: UTF-8\n",
       "Language: en\n",
       "Country: null\n",
       "--></g></svg>"
      ]
     },
     "execution_count": 16,
     "metadata": {},
     "output_type": "execute_result"
    }
   ],
   "source": [
    "%viz --style=\"LR\" --view=\"Default\" \"ConjugationTest\""
   ]
  },
  {
   "cell_type": "code",
   "execution_count": 17,
   "id": "happy-washington",
   "metadata": {
    "execution": {
     "iopub.execute_input": "2021-03-25T13:18:46.106696Z",
     "iopub.status.busy": "2021-03-25T13:18:46.105614Z",
     "iopub.status.idle": "2021-03-25T13:18:46.925180Z",
     "shell.execute_reply": "2021-03-25T13:18:46.925687Z"
    }
   },
   "outputs": [
    {
     "data": {
      "image/svg+xml": [
       "<?xml version=\"1.0\" encoding=\"UTF-8\" standalone=\"no\"?><svg xmlns=\"http://www.w3.org/2000/svg\" xmlns:xlink=\"http://www.w3.org/1999/xlink\" contentScriptType=\"application/ecmascript\" contentStyleType=\"text/css\" height=\"565px\" preserveAspectRatio=\"none\" style=\"width:290px;height:565px;\" version=\"1.1\" viewBox=\"0 0 290 565\" width=\"290px\" zoomAndPan=\"magnify\"><defs/><g><!--MD5=[fbc87193dbaf4d95561dea2c320d4a47]\n",
       "cluster E1--><a href=\"psysml:db7199af-e574-4214-8b26-5aef0dbbdb0a\" target=\"_top\" title=\"psysml:db7199af-e574-4214-8b26-5aef0dbbdb0a\" xlink:actuate=\"onRequest\" xlink:href=\"psysml:db7199af-e574-4214-8b26-5aef0dbbdb0a\" xlink:show=\"new\" xlink:title=\"psysml:db7199af-e574-4214-8b26-5aef0dbbdb0a\" xlink:type=\"simple\"><polygon fill=\"#FFFFFF\" points=\"16,6,151,6,158,28.2969,268,28.2969,268,553,16,553,16,6\" style=\"stroke: #000000; stroke-width: 1.5;\"/><line style=\"stroke: #000000; stroke-width: 1.5;\" x1=\"16\" x2=\"158\" y1=\"28.2969\" y2=\"28.2969\"/><text fill=\"#000000\" font-family=\"sans-serif\" font-size=\"14\" font-weight=\"bold\" lengthAdjust=\"spacingAndGlyphs\" textLength=\"129\" x=\"20\" y=\"20.9951\">ConjugationTest</text></a><!--MD5=[b4997ac47864f28c2f74865a473b2911]\n",
       "class E2--><a href=\"psysml:eee324b7-6ef1-4f74-bb85-9d01b884a0c3\" target=\"_top\" title=\"psysml:eee324b7-6ef1-4f74-bb85-9d01b884a0c3\" xlink:actuate=\"onRequest\" xlink:href=\"psysml:eee324b7-6ef1-4f74-bb85-9d01b884a0c3\" xlink:show=\"new\" xlink:title=\"psysml:eee324b7-6ef1-4f74-bb85-9d01b884a0c3\" xlink:type=\"simple\"><rect fill=\"#FFFFFF\" height=\"45.9375\" id=\"E2\" style=\"stroke: #383838; stroke-width: 1.5;\" width=\"66\" x=\"54\" y=\"41\"/><text fill=\"#000000\" font-family=\"sans-serif\" font-size=\"12\" font-style=\"italic\" lengthAdjust=\"spacingAndGlyphs\" textLength=\"64\" x=\"55\" y=\"57.1387\">«port def»</text><text fill=\"#000000\" font-family=\"sans-serif\" font-size=\"12\" lengthAdjust=\"spacingAndGlyphs\" textLength=\"8\" x=\"83\" y=\"71.1074\">P</text><line style=\"stroke: #383838; stroke-width: 1.5;\" x1=\"55\" x2=\"119\" y1=\"78.9375\" y2=\"78.9375\"/></a><!--MD5=[09b614a08d8cba4a07c9adeb5e0fee81]\n",
       "class E3--><a href=\"psysml:987ad9e8-156c-405b-94a5-0234bd5ef961\" target=\"_top\" title=\"psysml:987ad9e8-156c-405b-94a5-0234bd5ef961\" xlink:actuate=\"onRequest\" xlink:href=\"psysml:987ad9e8-156c-405b-94a5-0234bd5ef961\" xlink:show=\"new\" xlink:title=\"psysml:987ad9e8-156c-405b-94a5-0234bd5ef961\" xlink:type=\"simple\"><rect fill=\"#FFFFFF\" height=\"88.3516\" id=\"E3\" style=\"stroke: #383838; stroke-width: 1.5;\" width=\"66\" x=\"54\" y=\"122\"/><text fill=\"#000000\" font-family=\"sans-serif\" font-size=\"12\" font-style=\"italic\" lengthAdjust=\"spacingAndGlyphs\" textLength=\"64\" x=\"55\" y=\"138.1387\">«part def»</text><text fill=\"#000000\" font-family=\"sans-serif\" font-size=\"12\" lengthAdjust=\"spacingAndGlyphs\" textLength=\"8\" x=\"83\" y=\"152.1074\">B</text><line style=\"stroke: #383838; stroke-width: 1.5;\" x1=\"55\" x2=\"119\" y1=\"159.9375\" y2=\"159.9375\"/><text fill=\"#000000\" font-family=\"sans-serif\" font-size=\"11\" lengthAdjust=\"spacingAndGlyphs\" textLength=\"29\" x=\"60\" y=\"190.9526\">p1: P</text><text fill=\"#000000\" font-family=\"sans-serif\" font-size=\"11\" lengthAdjust=\"spacingAndGlyphs\" textLength=\"38\" x=\"60\" y=\"203.7573\">p2: ~P</text><line style=\"stroke: #383838; stroke-width: 1.0;\" x1=\"55\" x2=\"72\" y1=\"174.3398\" y2=\"174.3398\"/><text fill=\"#000000\" font-family=\"sans-serif\" font-size=\"11\" lengthAdjust=\"spacingAndGlyphs\" textLength=\"30\" x=\"72\" y=\"177.6479\">ports</text><line style=\"stroke: #383838; stroke-width: 1.0;\" x1=\"102\" x2=\"119\" y1=\"174.3398\" y2=\"174.3398\"/></a><!--MD5=[60a26617385b1d2d0262a64233df1f8d]\n",
       "class E6--><a href=\"psysml:d4b825d6-e011-4f07-a399-999db6b99ea3\" target=\"_top\" title=\"psysml:d4b825d6-e011-4f07-a399-999db6b99ea3\" xlink:actuate=\"onRequest\" xlink:href=\"psysml:d4b825d6-e011-4f07-a399-999db6b99ea3\" xlink:show=\"new\" xlink:title=\"psysml:d4b825d6-e011-4f07-a399-999db6b99ea3\" xlink:type=\"simple\"><rect fill=\"#FFFFFF\" height=\"88.3516\" id=\"E6\" style=\"stroke: #383838; stroke-width: 1.5;\" width=\"110\" x=\"32\" y=\"245\"/><text fill=\"#000000\" font-family=\"sans-serif\" font-size=\"12\" font-style=\"italic\" lengthAdjust=\"spacingAndGlyphs\" textLength=\"108\" x=\"33\" y=\"261.1387\">«connection def»</text><text fill=\"#000000\" font-family=\"sans-serif\" font-size=\"12\" lengthAdjust=\"spacingAndGlyphs\" textLength=\"8\" x=\"83\" y=\"275.1074\">A</text><line style=\"stroke: #383838; stroke-width: 1.5;\" x1=\"33\" x2=\"141\" y1=\"282.9375\" y2=\"282.9375\"/><text fill=\"#000000\" font-family=\"sans-serif\" font-size=\"11\" lengthAdjust=\"spacingAndGlyphs\" textLength=\"29\" x=\"38\" y=\"313.9526\">p1: P</text><text fill=\"#000000\" font-family=\"sans-serif\" font-size=\"11\" lengthAdjust=\"spacingAndGlyphs\" textLength=\"38\" x=\"38\" y=\"326.7573\">p2: ~P</text><line style=\"stroke: #383838; stroke-width: 1.0;\" x1=\"33\" x2=\"72\" y1=\"297.3398\" y2=\"297.3398\"/><text fill=\"#000000\" font-family=\"sans-serif\" font-size=\"11\" lengthAdjust=\"spacingAndGlyphs\" textLength=\"30\" x=\"72\" y=\"300.6479\">ports</text><line style=\"stroke: #383838; stroke-width: 1.0;\" x1=\"102\" x2=\"141\" y1=\"297.3398\" y2=\"297.3398\"/></a><!--MD5=[fd4143e9d270a159db93a4ea2a975926]\n",
       "class E9--><a href=\"psysml:0fcf03a3-0a94-497d-adc5-5270b49e59d7\" target=\"_top\" title=\"psysml:0fcf03a3-0a94-497d-adc5-5270b49e59d7\" xlink:actuate=\"onRequest\" xlink:href=\"psysml:0fcf03a3-0a94-497d-adc5-5270b49e59d7\" xlink:show=\"new\" xlink:title=\"psysml:0fcf03a3-0a94-497d-adc5-5270b49e59d7\" xlink:type=\"simple\"><rect fill=\"#FFFFFF\" height=\"88.3516\" id=\"E9\" style=\"stroke: #383838; stroke-width: 1.5;\" width=\"96\" x=\"39\" y=\"368\"/><text fill=\"#000000\" font-family=\"sans-serif\" font-size=\"12\" font-style=\"italic\" lengthAdjust=\"spacingAndGlyphs\" textLength=\"94\" x=\"40\" y=\"384.1387\">«interface def»</text><text fill=\"#000000\" font-family=\"sans-serif\" font-size=\"12\" lengthAdjust=\"spacingAndGlyphs\" textLength=\"3\" x=\"85.5\" y=\"398.1074\">I</text><line style=\"stroke: #383838; stroke-width: 1.5;\" x1=\"40\" x2=\"134\" y1=\"405.9375\" y2=\"405.9375\"/><text fill=\"#000000\" font-family=\"sans-serif\" font-size=\"11\" lengthAdjust=\"spacingAndGlyphs\" textLength=\"29\" x=\"45\" y=\"436.9526\">p1: P</text><text fill=\"#000000\" font-family=\"sans-serif\" font-size=\"11\" lengthAdjust=\"spacingAndGlyphs\" textLength=\"38\" x=\"45\" y=\"449.7573\">p2: ~P</text><line style=\"stroke: #383838; stroke-width: 1.0;\" x1=\"40\" x2=\"72\" y1=\"420.3398\" y2=\"420.3398\"/><text fill=\"#000000\" font-family=\"sans-serif\" font-size=\"11\" lengthAdjust=\"spacingAndGlyphs\" textLength=\"30\" x=\"72\" y=\"423.6479\">ports</text><line style=\"stroke: #383838; stroke-width: 1.0;\" x1=\"102\" x2=\"134\" y1=\"420.3398\" y2=\"420.3398\"/></a><!--MD5=[49a0ec8f00dab7302a31f22d0f0fe584]\n",
       "class E12--><a href=\"psysml:fa47a610-a800-429f-b665-228f1e266500\" target=\"_top\" title=\"psysml:fa47a610-a800-429f-b665-228f1e266500\" xlink:actuate=\"onRequest\" xlink:href=\"psysml:fa47a610-a800-429f-b665-228f1e266500\" xlink:show=\"new\" xlink:title=\"psysml:fa47a610-a800-429f-b665-228f1e266500\" xlink:type=\"simple\"><rect fill=\"#FFFFFF\" height=\"45.9375\" id=\"E12\" style=\"stroke: #383838; stroke-width: 1.5;\" width=\"66\" x=\"54\" y=\"491\"/><text fill=\"#000000\" font-family=\"sans-serif\" font-size=\"12\" font-style=\"italic\" lengthAdjust=\"spacingAndGlyphs\" textLength=\"64\" x=\"55\" y=\"507.1387\">«part def»</text><text fill=\"#000000\" font-family=\"sans-serif\" font-size=\"12\" lengthAdjust=\"spacingAndGlyphs\" textLength=\"16\" x=\"79\" y=\"521.1074\">B1</text><line style=\"stroke: #383838; stroke-width: 1.5;\" x1=\"55\" x2=\"119\" y1=\"528.9375\" y2=\"528.9375\"/></a><!--MD5=[ee3c913d1a06f366521f9ef512b67efe]\n",
       "class E13--><a href=\"psysml:593a6524-9b3f-4082-a23e-8ed96ff9a715\" target=\"_top\" title=\"psysml:593a6524-9b3f-4082-a23e-8ed96ff9a715\" xlink:actuate=\"onRequest\" xlink:href=\"psysml:593a6524-9b3f-4082-a23e-8ed96ff9a715\" xlink:show=\"new\" xlink:title=\"psysml:593a6524-9b3f-4082-a23e-8ed96ff9a715\" xlink:type=\"simple\"><rect fill=\"#FFFFFF\" height=\"88.3516\" id=\"E13\" rx=\"10\" ry=\"10\" style=\"stroke: #383838; stroke-width: 1.5;\" width=\"50\" x=\"202\" y=\"449\"/><text fill=\"#000000\" font-family=\"sans-serif\" font-size=\"12\" font-style=\"italic\" lengthAdjust=\"spacingAndGlyphs\" textLength=\"40\" x=\"207\" y=\"465.1387\">«part»</text><text fill=\"#000000\" font-family=\"sans-serif\" font-size=\"12\" lengthAdjust=\"spacingAndGlyphs\" textLength=\"8\" x=\"223\" y=\"479.1074\">p</text><line style=\"stroke: #383838; stroke-width: 1.5;\" x1=\"203\" x2=\"251\" y1=\"486.9375\" y2=\"486.9375\"/><text fill=\"#000000\" font-family=\"sans-serif\" font-size=\"11\" lengthAdjust=\"spacingAndGlyphs\" textLength=\"29\" x=\"208\" y=\"517.9526\">p1: P</text><text fill=\"#000000\" font-family=\"sans-serif\" font-size=\"11\" lengthAdjust=\"spacingAndGlyphs\" textLength=\"38\" x=\"208\" y=\"530.7573\">p2: ~P</text><line style=\"stroke: #383838; stroke-width: 1.0;\" x1=\"203\" x2=\"212\" y1=\"501.3398\" y2=\"501.3398\"/><text fill=\"#000000\" font-family=\"sans-serif\" font-size=\"11\" lengthAdjust=\"spacingAndGlyphs\" textLength=\"30\" x=\"212\" y=\"504.6479\">ports</text><line style=\"stroke: #383838; stroke-width: 1.0;\" x1=\"242\" x2=\"251\" y1=\"501.3398\" y2=\"501.3398\"/></a><!--MD5=[062ed86c389d1a88f61c6380d0491e17]\n",
       "reverse link E12 to E13--><a href=\"psysml:593a6524-9b3f-4082-a23e-8ed96ff9a715\" target=\"_top\" title=\"psysml:593a6524-9b3f-4082-a23e-8ed96ff9a715\" xlink:actuate=\"onRequest\" xlink:href=\"psysml:593a6524-9b3f-4082-a23e-8ed96ff9a715\" xlink:show=\"new\" xlink:title=\"psysml:593a6524-9b3f-4082-a23e-8ed96ff9a715\" xlink:type=\"simple\"><path d=\"M132.96,507.16 C155.92,503.66 182.94,499.55 201.92,496.66 \" fill=\"none\" id=\"E12&lt;-E13\" style=\"stroke: #383838; stroke-width: 1.0;\"/><polygon fill=\"#383838\" points=\"120.01,509.13,126.5441,512.1804,131.873,507.3222,125.3389,504.2717,120.01,509.13\" style=\"stroke: #383838; stroke-width: 1.0;\"/></a><!--MD5=[a4d4c79f7e71f4476977a51dfdbfc66a]\n",
       "@startuml\r\n",
       "left to right direction\r\n",
       "skinparam monochrome true\r\n",
       "skinparam classbackgroundcolor white\r\n",
       "skinparam shadowing false\r\n",
       "skinparam wrapWidth 300\r\n",
       "hide circle\r\n",
       "\r\n",
       "package \"ConjugationTest\" as E1  [[psysml:db7199af-e574-4214-8b26-5aef0dbbdb0a ]]  {\r\n",
       "comp def \"P\" as E2  <<(T,blue)port def>> [[psysml:eee324b7-6ef1-4f74-bb85-9d01b884a0c3 ]] {\r\n",
       "}\r\n",
       "comp def \"B\" as E3  <<(T,blue)part def>> [[psysml:987ad9e8-156c-405b-94a5-0234bd5ef961 ]] {\r\n",
       "- - ports - -\r\n",
       "p1: P\r\n",
       "p2: ~P\r\n",
       "}\r\n",
       "comp def \"A\" as E6  <<(T,blue)connection def>> [[psysml:d4b825d6-e011-4f07-a399-999db6b99ea3 ]] {\r\n",
       "- - ports - -\r\n",
       "p1: P\r\n",
       "p2: ~P\r\n",
       "}\r\n",
       "comp def \"I\" as E9  <<(T,blue)interface def>> [[psysml:0fcf03a3-0a94-497d-adc5-5270b49e59d7 ]] {\r\n",
       "- - ports - -\r\n",
       "p1: P\r\n",
       "p2: ~P\r\n",
       "}\r\n",
       "comp def \"B1\" as E12  <<(T,blue)part def>> [[psysml:fa47a610-a800-429f-b665-228f1e266500 ]] {\r\n",
       "}\r\n",
       "comp usage \"p\" as E13  <<(T,blue)part>> [[psysml:593a6524-9b3f-4082-a23e-8ed96ff9a715 ]] {\r\n",
       "- - ports - -\r\n",
       "p1: P\r\n",
       "p2: ~P\r\n",
       "}\r\n",
       "E12 *- - E13 [[psysml:593a6524-9b3f-4082-a23e-8ed96ff9a715 ]] \r\n",
       "}\r\n",
       "@enduml\r\n",
       "\n",
       "PlantUML version 1.2020.13(Sat Jun 13 12:26:38 UTC 2020)\n",
       "(EPL source distribution)\n",
       "Java Runtime: OpenJDK Runtime Environment\n",
       "JVM: OpenJDK 64-Bit Server VM\n",
       "Default Encoding: UTF-8\n",
       "Language: en\n",
       "Country: null\n",
       "--></g></svg>"
      ]
     },
     "execution_count": 17,
     "metadata": {},
     "output_type": "execute_result"
    }
   ],
   "source": [
    "%viz --style=\"LR\" --view=\"Tree\" \"ConjugationTest\""
   ]
  },
  {
   "cell_type": "code",
   "execution_count": 18,
   "id": "attempted-aspect",
   "metadata": {
    "execution": {
     "iopub.execute_input": "2021-03-25T13:18:46.976099Z",
     "iopub.status.busy": "2021-03-25T13:18:46.975265Z",
     "iopub.status.idle": "2021-03-25T13:18:46.984357Z",
     "shell.execute_reply": "2021-03-25T13:18:46.984761Z"
    }
   },
   "outputs": [
    {
     "data": {
      "image/svg+xml": [
       "<?xml version=\"1.0\" encoding=\"UTF-8\" standalone=\"no\"?><svg xmlns=\"http://www.w3.org/2000/svg\" xmlns:xlink=\"http://www.w3.org/1999/xlink\" contentScriptType=\"application/ecmascript\" contentStyleType=\"text/css\" height=\"12px\" preserveAspectRatio=\"none\" style=\"width:12px;height:12px;\" version=\"1.1\" viewBox=\"0 0 12 12\" width=\"12px\" zoomAndPan=\"magnify\"><defs/><g><!--MD5=[19d285c9d72a204eba4e2cd117d745e8]\n",
       "@startuml\r\n",
       "left to right direction\r\n",
       "skinparam monochrome true\r\n",
       "skinparam classbackgroundcolor white\r\n",
       "skinparam shadowing false\r\n",
       "skinparam wrapWidth 300\r\n",
       "hide circle\r\n",
       "\r\n",
       "@enduml\r\n",
       "\n",
       "PlantUML version 1.2020.13(Sat Jun 13 12:26:38 UTC 2020)\n",
       "(EPL source distribution)\n",
       "Java Runtime: OpenJDK Runtime Environment\n",
       "JVM: OpenJDK 64-Bit Server VM\n",
       "Default Encoding: UTF-8\n",
       "Language: en\n",
       "Country: null\n",
       "--></g></svg>"
      ]
     },
     "execution_count": 18,
     "metadata": {},
     "output_type": "execute_result"
    }
   ],
   "source": [
    "%viz --style=\"LR\" --view=\"State\" \"ConjugationTest\""
   ]
  },
  {
   "cell_type": "code",
   "execution_count": 19,
   "id": "funny-scale",
   "metadata": {
    "execution": {
     "iopub.execute_input": "2021-03-25T13:18:47.036486Z",
     "iopub.status.busy": "2021-03-25T13:18:47.035764Z",
     "iopub.status.idle": "2021-03-25T13:18:47.243451Z",
     "shell.execute_reply": "2021-03-25T13:18:47.241104Z"
    }
   },
   "outputs": [
    {
     "data": {
      "image/svg+xml": [
       "<?xml version=\"1.0\" encoding=\"UTF-8\" standalone=\"no\"?><svg xmlns=\"http://www.w3.org/2000/svg\" xmlns:xlink=\"http://www.w3.org/1999/xlink\" contentScriptType=\"application/ecmascript\" contentStyleType=\"text/css\" height=\"550px\" preserveAspectRatio=\"none\" style=\"width:313px;height:550px;\" version=\"1.1\" viewBox=\"0 0 313 550\" width=\"313px\" zoomAndPan=\"magnify\"><defs/><g><!--MD5=[fbc87193dbaf4d95561dea2c320d4a47]\n",
       "cluster E1--><a href=\"psysml:db7199af-e574-4214-8b26-5aef0dbbdb0a\" target=\"_top\" title=\"psysml:db7199af-e574-4214-8b26-5aef0dbbdb0a\" xlink:actuate=\"onRequest\" xlink:href=\"psysml:db7199af-e574-4214-8b26-5aef0dbbdb0a\" xlink:show=\"new\" xlink:title=\"psysml:db7199af-e574-4214-8b26-5aef0dbbdb0a\" xlink:type=\"simple\"><polygon fill=\"#FFFFFF\" points=\"16,6,151,6,158,28.2969,291.5,28.2969,291.5,538,16,538,16,6\" style=\"stroke: #000000; stroke-width: 1.5;\"/><line style=\"stroke: #000000; stroke-width: 1.5;\" x1=\"16\" x2=\"158\" y1=\"28.2969\" y2=\"28.2969\"/><text fill=\"#000000\" font-family=\"sans-serif\" font-size=\"14\" font-weight=\"bold\" lengthAdjust=\"spacingAndGlyphs\" textLength=\"129\" x=\"20\" y=\"20.9951\">ConjugationTest</text></a><!--MD5=[d5e69f78d87373223dbae638b30a9c99]\n",
       "cluster E3--><a href=\"psysml:987ad9e8-156c-405b-94a5-0234bd5ef961\" target=\"_top\" title=\"psysml:987ad9e8-156c-405b-94a5-0234bd5ef961\" xlink:actuate=\"onRequest\" xlink:href=\"psysml:987ad9e8-156c-405b-94a5-0234bd5ef961\" xlink:show=\"new\" xlink:title=\"psysml:987ad9e8-156c-405b-94a5-0234bd5ef961\" xlink:type=\"simple\"><rect fill=\"#FFFFFF\" height=\"47\" id=\"E3\" style=\"stroke: #383838; stroke-width: 1.5;\" width=\"198\" x=\"52\" y=\"55\"/><rect fill=\"#F8F8F8\" height=\"37.9375\" style=\"stroke: #383838; stroke-width: 1.5;\" width=\"198\" x=\"52\" y=\"55\"/><text fill=\"#000000\" font-family=\"sans-serif\" font-size=\"12\" font-style=\"italic\" lengthAdjust=\"spacingAndGlyphs\" textLength=\"64\" x=\"119\" y=\"71.1387\">«part def»</text><text fill=\"#000000\" font-family=\"sans-serif\" font-size=\"12\" lengthAdjust=\"spacingAndGlyphs\" textLength=\"8\" x=\"147\" y=\"85.1074\">B</text></a><!--MD5=[14e3b0961a2654348d326746436168a1]\n",
       "cluster E6--><a href=\"psysml:d4b825d6-e011-4f07-a399-999db6b99ea3\" target=\"_top\" title=\"psysml:d4b825d6-e011-4f07-a399-999db6b99ea3\" xlink:actuate=\"onRequest\" xlink:href=\"psysml:d4b825d6-e011-4f07-a399-999db6b99ea3\" xlink:show=\"new\" xlink:title=\"psysml:d4b825d6-e011-4f07-a399-999db6b99ea3\" xlink:type=\"simple\"><rect fill=\"#FFFFFF\" height=\"47\" id=\"E6\" style=\"stroke: #383838; stroke-width: 1.5;\" width=\"223.5\" x=\"52\" y=\"149\"/><rect fill=\"#F8F8F8\" height=\"37.9375\" style=\"stroke: #383838; stroke-width: 1.5;\" width=\"223.5\" x=\"52\" y=\"149\"/><text fill=\"#000000\" font-family=\"sans-serif\" font-size=\"12\" font-style=\"italic\" lengthAdjust=\"spacingAndGlyphs\" textLength=\"108\" x=\"109.75\" y=\"165.1387\">«connection def»</text><text fill=\"#000000\" font-family=\"sans-serif\" font-size=\"12\" lengthAdjust=\"spacingAndGlyphs\" textLength=\"8\" x=\"159.75\" y=\"179.1074\">A</text></a><!--MD5=[7f149f147074ac12df2cb0a7728a5fb0]\n",
       "cluster E9--><a href=\"psysml:0fcf03a3-0a94-497d-adc5-5270b49e59d7\" target=\"_top\" title=\"psysml:0fcf03a3-0a94-497d-adc5-5270b49e59d7\" xlink:actuate=\"onRequest\" xlink:href=\"psysml:0fcf03a3-0a94-497d-adc5-5270b49e59d7\" xlink:show=\"new\" xlink:title=\"psysml:0fcf03a3-0a94-497d-adc5-5270b49e59d7\" xlink:type=\"simple\"><rect fill=\"#FFFFFF\" height=\"47\" id=\"E9\" style=\"stroke: #383838; stroke-width: 1.5;\" width=\"214.5\" x=\"52\" y=\"243\"/><rect fill=\"#F8F8F8\" height=\"37.9375\" style=\"stroke: #383838; stroke-width: 1.5;\" width=\"214.5\" x=\"52\" y=\"243\"/><text fill=\"#000000\" font-family=\"sans-serif\" font-size=\"12\" font-style=\"italic\" lengthAdjust=\"spacingAndGlyphs\" textLength=\"94\" x=\"112.25\" y=\"259.1387\">«interface def»</text><text fill=\"#000000\" font-family=\"sans-serif\" font-size=\"12\" lengthAdjust=\"spacingAndGlyphs\" textLength=\"3\" x=\"157.75\" y=\"273.1074\">I</text></a><!--MD5=[47bea60c1a0ac6c1143df232041969c0]\n",
       "cluster E12--><a href=\"psysml:fa47a610-a800-429f-b665-228f1e266500\" target=\"_top\" title=\"psysml:fa47a610-a800-429f-b665-228f1e266500\" xlink:actuate=\"onRequest\" xlink:href=\"psysml:fa47a610-a800-429f-b665-228f1e266500\" xlink:show=\"new\" xlink:title=\"psysml:fa47a610-a800-429f-b665-228f1e266500\" xlink:type=\"simple\"><rect fill=\"#FFFFFF\" height=\"142\" id=\"E12\" style=\"stroke: #383838; stroke-width: 1.5;\" width=\"195.5\" x=\"40\" y=\"320\"/><rect fill=\"#F8F8F8\" height=\"37.9375\" style=\"stroke: #383838; stroke-width: 1.5;\" width=\"195.5\" x=\"40\" y=\"320\"/><text fill=\"#000000\" font-family=\"sans-serif\" font-size=\"12\" font-style=\"italic\" lengthAdjust=\"spacingAndGlyphs\" textLength=\"64\" x=\"105.75\" y=\"336.1387\">«part def»</text><text fill=\"#000000\" font-family=\"sans-serif\" font-size=\"12\" lengthAdjust=\"spacingAndGlyphs\" textLength=\"16\" x=\"129.75\" y=\"350.1074\">B1</text></a><!--MD5=[03104f77b71e2d8d3500c651e6e31181]\n",
       "cluster E13--><a href=\"psysml:593a6524-9b3f-4082-a23e-8ed96ff9a715\" target=\"_top\" title=\"psysml:593a6524-9b3f-4082-a23e-8ed96ff9a715\" xlink:actuate=\"onRequest\" xlink:href=\"psysml:593a6524-9b3f-4082-a23e-8ed96ff9a715\" xlink:show=\"new\" xlink:title=\"psysml:593a6524-9b3f-4082-a23e-8ed96ff9a715\" xlink:type=\"simple\"><rect fill=\"#FFFFFF\" height=\"47\" id=\"E13\" rx=\"10\" ry=\"10\" style=\"stroke: #383838; stroke-width: 1.5;\" width=\"167.5\" x=\"52\" y=\"385\"/><rect fill=\"#F8F8F8\" height=\"23.9688\" rx=\"10\" ry=\"10\" style=\"stroke: #F8F8F8; stroke-width: 1.5;\" width=\"167.5\" x=\"52\" y=\"385\"/><rect fill=\"#F8F8F8\" height=\"10\" style=\"stroke: #F8F8F8; stroke-width: 1.5;\" width=\"167.5\" x=\"52\" y=\"398.9688\"/><rect fill=\"none\" height=\"47\" id=\"E13\" rx=\"10\" ry=\"10\" style=\"stroke: #383838; stroke-width: 1.5;\" width=\"167.5\" x=\"52\" y=\"385\"/><text fill=\"#000000\" font-family=\"sans-serif\" font-size=\"12\" lengthAdjust=\"spacingAndGlyphs\" textLength=\"8\" x=\"131.75\" y=\"401.1387\">p</text><line style=\"stroke: #383838; stroke-width: 1.0;\" x1=\"52\" x2=\"219.5\" y1=\"408.9688\" y2=\"408.9688\"/></a><g id=\"E1.E2\"><a href=\"psysml:eee324b7-6ef1-4f74-bb85-9d01b884a0c3\" target=\"_top\" title=\"psysml:eee324b7-6ef1-4f74-bb85-9d01b884a0c3\" xlink:actuate=\"onRequest\" xlink:href=\"psysml:eee324b7-6ef1-4f74-bb85-9d01b884a0c3\" xlink:show=\"new\" xlink:title=\"psysml:eee324b7-6ef1-4f74-bb85-9d01b884a0c3\" xlink:type=\"simple\"><rect fill=\"#FFFFFF\" height=\"42.9375\" id=\"E2\" style=\"stroke: #383838; stroke-width: 1.5;\" width=\"71\" x=\"34.5\" y=\"478.5\"/><rect fill=\"#F8F8F8\" height=\"37.9375\" style=\"stroke: #383838; stroke-width: 1.5;\" width=\"71\" x=\"34.5\" y=\"478.5\"/><text fill=\"#000000\" font-family=\"sans-serif\" font-size=\"12\" font-style=\"italic\" lengthAdjust=\"spacingAndGlyphs\" textLength=\"64\" x=\"38\" y=\"494.6387\">«port def»</text><text fill=\"#000000\" font-family=\"sans-serif\" font-size=\"12\" lengthAdjust=\"spacingAndGlyphs\" textLength=\"8\" x=\"66\" y=\"508.6074\">P</text></a></g><text fill=\"#000000\" font-family=\"sans-serif\" font-size=\"14\" lengthAdjust=\"spacingAndGlyphs\" textLength=\"36\" x=\"52\" y=\"120.9951\">p1: P</text><rect fill=\"#383838\" height=\"12\" style=\"stroke: #F8F8F8; stroke-width: 1.5;\" width=\"12\" x=\"64\" y=\"96\"/><text fill=\"#000000\" font-family=\"sans-serif\" font-size=\"14\" lengthAdjust=\"spacingAndGlyphs\" textLength=\"48\" x=\"46\" y=\"33.6982\">p2: ~P</text><rect fill=\"#383838\" height=\"12\" style=\"stroke: #F8F8F8; stroke-width: 1.5;\" width=\"12\" x=\"64\" y=\"49\"/><text fill=\"#000000\" font-family=\"sans-serif\" font-size=\"14\" lengthAdjust=\"spacingAndGlyphs\" textLength=\"36\" x=\"52\" y=\"214.9951\">p1: P</text><rect fill=\"#383838\" height=\"12\" style=\"stroke: #F8F8F8; stroke-width: 1.5;\" width=\"12\" x=\"64\" y=\"190\"/><text fill=\"#000000\" font-family=\"sans-serif\" font-size=\"14\" lengthAdjust=\"spacingAndGlyphs\" textLength=\"48\" x=\"46\" y=\"127.6982\">p2: ~P</text><rect fill=\"#383838\" height=\"12\" style=\"stroke: #F8F8F8; stroke-width: 1.5;\" width=\"12\" x=\"64\" y=\"143\"/><text fill=\"#000000\" font-family=\"sans-serif\" font-size=\"14\" lengthAdjust=\"spacingAndGlyphs\" textLength=\"36\" x=\"52\" y=\"308.9951\">p1: P</text><rect fill=\"#383838\" height=\"12\" style=\"stroke: #F8F8F8; stroke-width: 1.5;\" width=\"12\" x=\"64\" y=\"284\"/><text fill=\"#000000\" font-family=\"sans-serif\" font-size=\"14\" lengthAdjust=\"spacingAndGlyphs\" textLength=\"48\" x=\"46\" y=\"221.6982\">p2: ~P</text><rect fill=\"#383838\" height=\"12\" style=\"stroke: #F8F8F8; stroke-width: 1.5;\" width=\"12\" x=\"64\" y=\"237\"/><text fill=\"#000000\" font-family=\"sans-serif\" font-size=\"14\" lengthAdjust=\"spacingAndGlyphs\" textLength=\"36\" x=\"52\" y=\"450.9951\">p1: P</text><rect fill=\"#383838\" height=\"12\" style=\"stroke: #F8F8F8; stroke-width: 1.5;\" width=\"12\" x=\"64\" y=\"426\"/><text fill=\"#000000\" font-family=\"sans-serif\" font-size=\"14\" lengthAdjust=\"spacingAndGlyphs\" textLength=\"48\" x=\"46\" y=\"363.6982\">p2: ~P</text><rect fill=\"#383838\" height=\"12\" style=\"stroke: #F8F8F8; stroke-width: 1.5;\" width=\"12\" x=\"64\" y=\"379\"/><!--MD5=[4ce51ac6fa4cf5202df3859e2718f033]\n",
       "link E15 to E14--><a href=\"psysml:aa2d6f76-4132-425f-9826-f18a4b0e5493\" target=\"_top\" title=\"psysml:aa2d6f76-4132-425f-9826-f18a4b0e5493\" xlink:actuate=\"onRequest\" xlink:href=\"psysml:aa2d6f76-4132-425f-9826-f18a4b0e5493\" xlink:show=\"new\" xlink:title=\"psysml:aa2d6f76-4132-425f-9826-f18a4b0e5493\" xlink:type=\"simple\"><path d=\"M70,391.05 C70,402.62 70,414.19 70,425.76 \" fill=\"none\" id=\"E15-E14\" style=\"stroke: #383838; stroke-width: 3.0;\"/></a><!--MD5=[4ce51ac6fa4cf5202df3859e2718f033]\n",
       "link E15 to E14--><a href=\"psysml:7b87a1ef-cf2b-4c9e-a130-c1b402d1e385\" target=\"_top\" title=\"psysml:7b87a1ef-cf2b-4c9e-a130-c1b402d1e385\" xlink:actuate=\"onRequest\" xlink:href=\"psysml:7b87a1ef-cf2b-4c9e-a130-c1b402d1e385\" xlink:show=\"new\" xlink:title=\"psysml:7b87a1ef-cf2b-4c9e-a130-c1b402d1e385\" xlink:type=\"simple\"><path d=\"M67.98,391.05 C64.69,402.62 64.67,414.19 67.93,425.76 \" fill=\"none\" id=\"E15-E14-1\" style=\"stroke: #383838; stroke-width: 3.0;\"/></a><!--MD5=[e59e8dc0242ecb30b840a98da31b38f8]\n",
       "@startuml\r\n",
       "skinparam ranksep 8\r\n",
       "skinparam rectangle {\r\n",
       " backgroundColor<<block>> LightGreen\r\n",
       "}\r\n",
       "left to right direction\r\n",
       "skinparam monochrome true\r\n",
       "skinparam classbackgroundcolor white\r\n",
       "skinparam shadowing false\r\n",
       "skinparam wrapWidth 300\r\n",
       "hide circle\r\n",
       "\r\n",
       "package \"ConjugationTest\" as E1  [[psysml:db7199af-e574-4214-8b26-5aef0dbbdb0a ]]  {\r\n",
       "def \"P\" as E2  <<(T,blue)port def>> [[psysml:eee324b7-6ef1-4f74-bb85-9d01b884a0c3 ]] \r\n",
       "rec def \"B\" as E3  <<(T,blue)part def>> [[psysml:987ad9e8-156c-405b-94a5-0234bd5ef961 ]] {\r\n",
       "portin \"p1: P\" as E4  <<(T,blue)port>> [[psysml:c8a4d081-7853-4f87-8688-3b004d6601fe ]] \r\n",
       "portin \"p2: ~P\" as E5  <<(T,blue)port>> [[psysml:93d25d87-d8ba-4a14-9054-622c501a7419 ]] \r\n",
       "}\r\n",
       "rec def \"A\" as E6  <<(T,blue)connection def>> [[psysml:d4b825d6-e011-4f07-a399-999db6b99ea3 ]] {\r\n",
       "portin \"p1: P\" as E7  <<(T,blue)port>> [[psysml:cf23f925-3ac9-40f7-8eb9-75cb926494bb ]] \r\n",
       "portin \"p2: ~P\" as E8  <<(T,blue)port>> [[psysml:78e860a1-2afe-4044-9ab4-1ebbe08f7dad ]] \r\n",
       "}\r\n",
       "rec def \"I\" as E9  <<(T,blue)interface def>> [[psysml:0fcf03a3-0a94-497d-adc5-5270b49e59d7 ]] {\r\n",
       "portin \"p1: P\" as E10  <<(T,blue)port>> [[psysml:e29a1f34-1b36-49a6-a497-c0e94a31f076 ]] \r\n",
       "portin \"p2: ~P\" as E11  <<(T,blue)port>> [[psysml:b6345cdf-3536-4afa-a6d8-3c5d2219e138 ]] \r\n",
       "}\r\n",
       "rec def \"B1\" as E12  <<(T,blue)part def>> [[psysml:fa47a610-a800-429f-b665-228f1e266500 ]] {\r\n",
       "rec usage \"p\" as E13  [[psysml:593a6524-9b3f-4082-a23e-8ed96ff9a715 ]] {\r\n",
       "portin \"p1: P\" as E14  <<(T,blue)port>> [[psysml:a4f040c8-38a0-4d60-9c1e-4003131a919c ]] \r\n",
       "portin \"p2: ~P\" as E15  <<(T,blue)port>> [[psysml:661396c6-733f-4c07-bbb8-142725b64304 ]] \r\n",
       "}\r\n",
       "}\r\n",
       "E15 -[thickness=3]- E14 [[psysml:aa2d6f76-4132-425f-9826-f18a4b0e5493 ]] \r\n",
       "E15 -[thickness=3]- E14 [[psysml:7b87a1ef-cf2b-4c9e-a130-c1b402d1e385 ]] \r\n",
       "}\r\n",
       "@enduml\r\n",
       "\n",
       "PlantUML version 1.2020.13(Sat Jun 13 12:26:38 UTC 2020)\n",
       "(EPL source distribution)\n",
       "Java Runtime: OpenJDK Runtime Environment\n",
       "JVM: OpenJDK 64-Bit Server VM\n",
       "Default Encoding: UTF-8\n",
       "Language: en\n",
       "Country: null\n",
       "--></g></svg>"
      ]
     },
     "execution_count": 19,
     "metadata": {},
     "output_type": "execute_result"
    }
   ],
   "source": [
    "%viz --style=\"LR\" --view=\"Interconnection\" \"ConjugationTest\""
   ]
  },
  {
   "cell_type": "code",
   "execution_count": 20,
   "id": "weighted-coordinator",
   "metadata": {
    "execution": {
     "iopub.execute_input": "2021-03-25T13:18:47.292929Z",
     "iopub.status.busy": "2021-03-25T13:18:47.292149Z",
     "iopub.status.idle": "2021-03-25T13:18:47.300697Z",
     "shell.execute_reply": "2021-03-25T13:18:47.301236Z"
    }
   },
   "outputs": [
    {
     "data": {
      "image/svg+xml": [
       "<?xml version=\"1.0\" encoding=\"UTF-8\" standalone=\"no\"?><svg xmlns=\"http://www.w3.org/2000/svg\" xmlns:xlink=\"http://www.w3.org/1999/xlink\" contentScriptType=\"application/ecmascript\" contentStyleType=\"text/css\" height=\"12px\" preserveAspectRatio=\"none\" style=\"width:12px;height:12px;\" version=\"1.1\" viewBox=\"0 0 12 12\" width=\"12px\" zoomAndPan=\"magnify\"><defs/><g><!--MD5=[7aeb398939421629f6affaa4a1a7b125]\n",
       "@startuml\r\n",
       "skinparam ranksep 8\r\n",
       "left to right direction\r\n",
       "skinparam monochrome true\r\n",
       "skinparam classbackgroundcolor white\r\n",
       "skinparam shadowing false\r\n",
       "skinparam wrapWidth 300\r\n",
       "hide circle\r\n",
       "\r\n",
       "@enduml\r\n",
       "\n",
       "PlantUML version 1.2020.13(Sat Jun 13 12:26:38 UTC 2020)\n",
       "(EPL source distribution)\n",
       "Java Runtime: OpenJDK Runtime Environment\n",
       "JVM: OpenJDK 64-Bit Server VM\n",
       "Default Encoding: UTF-8\n",
       "Language: en\n",
       "Country: null\n",
       "--></g></svg>"
      ]
     },
     "execution_count": 20,
     "metadata": {},
     "output_type": "execute_result"
    }
   ],
   "source": [
    "%viz --style=\"LR\" --view=\"Action\" \"ConjugationTest\""
   ]
  },
  {
   "cell_type": "code",
   "execution_count": 21,
   "id": "noticed-general",
   "metadata": {
    "execution": {
     "iopub.execute_input": "2021-03-25T13:18:47.352110Z",
     "iopub.status.busy": "2021-03-25T13:18:47.351698Z",
     "iopub.status.idle": "2021-03-25T13:18:48.096901Z",
     "shell.execute_reply": "2021-03-25T13:18:48.096490Z"
    }
   },
   "outputs": [
    {
     "data": {
      "image/svg+xml": [
       "<?xml version=\"1.0\" encoding=\"UTF-8\" standalone=\"no\"?><svg xmlns=\"http://www.w3.org/2000/svg\" xmlns:xlink=\"http://www.w3.org/1999/xlink\" contentScriptType=\"application/ecmascript\" contentStyleType=\"text/css\" height=\"565px\" preserveAspectRatio=\"none\" style=\"width:290px;height:565px;\" version=\"1.1\" viewBox=\"0 0 290 565\" width=\"290px\" zoomAndPan=\"magnify\"><defs/><g><!--MD5=[fbc87193dbaf4d95561dea2c320d4a47]\n",
       "cluster E1--><a href=\"psysml:db7199af-e574-4214-8b26-5aef0dbbdb0a\" target=\"_top\" title=\"psysml:db7199af-e574-4214-8b26-5aef0dbbdb0a\" xlink:actuate=\"onRequest\" xlink:href=\"psysml:db7199af-e574-4214-8b26-5aef0dbbdb0a\" xlink:show=\"new\" xlink:title=\"psysml:db7199af-e574-4214-8b26-5aef0dbbdb0a\" xlink:type=\"simple\"><polygon fill=\"#FFFFFF\" points=\"16,6,151,6,158,28.2969,268,28.2969,268,553,16,553,16,6\" style=\"stroke: #000000; stroke-width: 1.5;\"/><line style=\"stroke: #000000; stroke-width: 1.5;\" x1=\"16\" x2=\"158\" y1=\"28.2969\" y2=\"28.2969\"/><text fill=\"#000000\" font-family=\"sans-serif\" font-size=\"14\" font-weight=\"bold\" lengthAdjust=\"spacingAndGlyphs\" textLength=\"129\" x=\"20\" y=\"20.9951\">ConjugationTest</text></a><!--MD5=[b4997ac47864f28c2f74865a473b2911]\n",
       "class E2--><a href=\"psysml:eee324b7-6ef1-4f74-bb85-9d01b884a0c3\" target=\"_top\" title=\"psysml:eee324b7-6ef1-4f74-bb85-9d01b884a0c3\" xlink:actuate=\"onRequest\" xlink:href=\"psysml:eee324b7-6ef1-4f74-bb85-9d01b884a0c3\" xlink:show=\"new\" xlink:title=\"psysml:eee324b7-6ef1-4f74-bb85-9d01b884a0c3\" xlink:type=\"simple\"><rect fill=\"#FFFFFF\" height=\"45.9375\" id=\"E2\" style=\"stroke: #383838; stroke-width: 1.5;\" width=\"66\" x=\"54\" y=\"41\"/><text fill=\"#000000\" font-family=\"sans-serif\" font-size=\"12\" font-style=\"italic\" lengthAdjust=\"spacingAndGlyphs\" textLength=\"64\" x=\"55\" y=\"57.1387\">«port def»</text><text fill=\"#000000\" font-family=\"sans-serif\" font-size=\"12\" lengthAdjust=\"spacingAndGlyphs\" textLength=\"8\" x=\"83\" y=\"71.1074\">P</text><line style=\"stroke: #383838; stroke-width: 1.5;\" x1=\"55\" x2=\"119\" y1=\"78.9375\" y2=\"78.9375\"/></a><!--MD5=[09b614a08d8cba4a07c9adeb5e0fee81]\n",
       "class E3--><a href=\"psysml:987ad9e8-156c-405b-94a5-0234bd5ef961\" target=\"_top\" title=\"psysml:987ad9e8-156c-405b-94a5-0234bd5ef961\" xlink:actuate=\"onRequest\" xlink:href=\"psysml:987ad9e8-156c-405b-94a5-0234bd5ef961\" xlink:show=\"new\" xlink:title=\"psysml:987ad9e8-156c-405b-94a5-0234bd5ef961\" xlink:type=\"simple\"><rect fill=\"#FFFFFF\" height=\"88.3516\" id=\"E3\" style=\"stroke: #383838; stroke-width: 1.5;\" width=\"66\" x=\"54\" y=\"122\"/><text fill=\"#000000\" font-family=\"sans-serif\" font-size=\"12\" font-style=\"italic\" lengthAdjust=\"spacingAndGlyphs\" textLength=\"64\" x=\"55\" y=\"138.1387\">«part def»</text><text fill=\"#000000\" font-family=\"sans-serif\" font-size=\"12\" lengthAdjust=\"spacingAndGlyphs\" textLength=\"8\" x=\"83\" y=\"152.1074\">B</text><line style=\"stroke: #383838; stroke-width: 1.5;\" x1=\"55\" x2=\"119\" y1=\"159.9375\" y2=\"159.9375\"/><text fill=\"#000000\" font-family=\"sans-serif\" font-size=\"11\" lengthAdjust=\"spacingAndGlyphs\" textLength=\"29\" x=\"60\" y=\"190.9526\">p1: P</text><text fill=\"#000000\" font-family=\"sans-serif\" font-size=\"11\" lengthAdjust=\"spacingAndGlyphs\" textLength=\"38\" x=\"60\" y=\"203.7573\">p2: ~P</text><line style=\"stroke: #383838; stroke-width: 1.0;\" x1=\"55\" x2=\"72\" y1=\"174.3398\" y2=\"174.3398\"/><text fill=\"#000000\" font-family=\"sans-serif\" font-size=\"11\" lengthAdjust=\"spacingAndGlyphs\" textLength=\"30\" x=\"72\" y=\"177.6479\">ports</text><line style=\"stroke: #383838; stroke-width: 1.0;\" x1=\"102\" x2=\"119\" y1=\"174.3398\" y2=\"174.3398\"/></a><!--MD5=[60a26617385b1d2d0262a64233df1f8d]\n",
       "class E6--><a href=\"psysml:d4b825d6-e011-4f07-a399-999db6b99ea3\" target=\"_top\" title=\"psysml:d4b825d6-e011-4f07-a399-999db6b99ea3\" xlink:actuate=\"onRequest\" xlink:href=\"psysml:d4b825d6-e011-4f07-a399-999db6b99ea3\" xlink:show=\"new\" xlink:title=\"psysml:d4b825d6-e011-4f07-a399-999db6b99ea3\" xlink:type=\"simple\"><rect fill=\"#FFFFFF\" height=\"88.3516\" id=\"E6\" style=\"stroke: #383838; stroke-width: 1.5;\" width=\"110\" x=\"32\" y=\"245\"/><text fill=\"#000000\" font-family=\"sans-serif\" font-size=\"12\" font-style=\"italic\" lengthAdjust=\"spacingAndGlyphs\" textLength=\"108\" x=\"33\" y=\"261.1387\">«connection def»</text><text fill=\"#000000\" font-family=\"sans-serif\" font-size=\"12\" lengthAdjust=\"spacingAndGlyphs\" textLength=\"8\" x=\"83\" y=\"275.1074\">A</text><line style=\"stroke: #383838; stroke-width: 1.5;\" x1=\"33\" x2=\"141\" y1=\"282.9375\" y2=\"282.9375\"/><text fill=\"#000000\" font-family=\"sans-serif\" font-size=\"11\" lengthAdjust=\"spacingAndGlyphs\" textLength=\"29\" x=\"38\" y=\"313.9526\">p1: P</text><text fill=\"#000000\" font-family=\"sans-serif\" font-size=\"11\" lengthAdjust=\"spacingAndGlyphs\" textLength=\"38\" x=\"38\" y=\"326.7573\">p2: ~P</text><line style=\"stroke: #383838; stroke-width: 1.0;\" x1=\"33\" x2=\"72\" y1=\"297.3398\" y2=\"297.3398\"/><text fill=\"#000000\" font-family=\"sans-serif\" font-size=\"11\" lengthAdjust=\"spacingAndGlyphs\" textLength=\"30\" x=\"72\" y=\"300.6479\">ports</text><line style=\"stroke: #383838; stroke-width: 1.0;\" x1=\"102\" x2=\"141\" y1=\"297.3398\" y2=\"297.3398\"/></a><!--MD5=[fd4143e9d270a159db93a4ea2a975926]\n",
       "class E9--><a href=\"psysml:0fcf03a3-0a94-497d-adc5-5270b49e59d7\" target=\"_top\" title=\"psysml:0fcf03a3-0a94-497d-adc5-5270b49e59d7\" xlink:actuate=\"onRequest\" xlink:href=\"psysml:0fcf03a3-0a94-497d-adc5-5270b49e59d7\" xlink:show=\"new\" xlink:title=\"psysml:0fcf03a3-0a94-497d-adc5-5270b49e59d7\" xlink:type=\"simple\"><rect fill=\"#FFFFFF\" height=\"88.3516\" id=\"E9\" style=\"stroke: #383838; stroke-width: 1.5;\" width=\"96\" x=\"39\" y=\"368\"/><text fill=\"#000000\" font-family=\"sans-serif\" font-size=\"12\" font-style=\"italic\" lengthAdjust=\"spacingAndGlyphs\" textLength=\"94\" x=\"40\" y=\"384.1387\">«interface def»</text><text fill=\"#000000\" font-family=\"sans-serif\" font-size=\"12\" lengthAdjust=\"spacingAndGlyphs\" textLength=\"3\" x=\"85.5\" y=\"398.1074\">I</text><line style=\"stroke: #383838; stroke-width: 1.5;\" x1=\"40\" x2=\"134\" y1=\"405.9375\" y2=\"405.9375\"/><text fill=\"#000000\" font-family=\"sans-serif\" font-size=\"11\" lengthAdjust=\"spacingAndGlyphs\" textLength=\"29\" x=\"45\" y=\"436.9526\">p1: P</text><text fill=\"#000000\" font-family=\"sans-serif\" font-size=\"11\" lengthAdjust=\"spacingAndGlyphs\" textLength=\"38\" x=\"45\" y=\"449.7573\">p2: ~P</text><line style=\"stroke: #383838; stroke-width: 1.0;\" x1=\"40\" x2=\"72\" y1=\"420.3398\" y2=\"420.3398\"/><text fill=\"#000000\" font-family=\"sans-serif\" font-size=\"11\" lengthAdjust=\"spacingAndGlyphs\" textLength=\"30\" x=\"72\" y=\"423.6479\">ports</text><line style=\"stroke: #383838; stroke-width: 1.0;\" x1=\"102\" x2=\"134\" y1=\"420.3398\" y2=\"420.3398\"/></a><!--MD5=[49a0ec8f00dab7302a31f22d0f0fe584]\n",
       "class E12--><a href=\"psysml:fa47a610-a800-429f-b665-228f1e266500\" target=\"_top\" title=\"psysml:fa47a610-a800-429f-b665-228f1e266500\" xlink:actuate=\"onRequest\" xlink:href=\"psysml:fa47a610-a800-429f-b665-228f1e266500\" xlink:show=\"new\" xlink:title=\"psysml:fa47a610-a800-429f-b665-228f1e266500\" xlink:type=\"simple\"><rect fill=\"#FFFFFF\" height=\"45.9375\" id=\"E12\" style=\"stroke: #383838; stroke-width: 1.5;\" width=\"66\" x=\"54\" y=\"491\"/><text fill=\"#000000\" font-family=\"sans-serif\" font-size=\"12\" font-style=\"italic\" lengthAdjust=\"spacingAndGlyphs\" textLength=\"64\" x=\"55\" y=\"507.1387\">«part def»</text><text fill=\"#000000\" font-family=\"sans-serif\" font-size=\"12\" lengthAdjust=\"spacingAndGlyphs\" textLength=\"16\" x=\"79\" y=\"521.1074\">B1</text><line style=\"stroke: #383838; stroke-width: 1.5;\" x1=\"55\" x2=\"119\" y1=\"528.9375\" y2=\"528.9375\"/></a><!--MD5=[ee3c913d1a06f366521f9ef512b67efe]\n",
       "class E13--><a href=\"psysml:593a6524-9b3f-4082-a23e-8ed96ff9a715\" target=\"_top\" title=\"psysml:593a6524-9b3f-4082-a23e-8ed96ff9a715\" xlink:actuate=\"onRequest\" xlink:href=\"psysml:593a6524-9b3f-4082-a23e-8ed96ff9a715\" xlink:show=\"new\" xlink:title=\"psysml:593a6524-9b3f-4082-a23e-8ed96ff9a715\" xlink:type=\"simple\"><rect fill=\"#FFFFFF\" height=\"88.3516\" id=\"E13\" rx=\"10\" ry=\"10\" style=\"stroke: #383838; stroke-width: 1.5;\" width=\"50\" x=\"202\" y=\"449\"/><text fill=\"#000000\" font-family=\"sans-serif\" font-size=\"12\" font-style=\"italic\" lengthAdjust=\"spacingAndGlyphs\" textLength=\"40\" x=\"207\" y=\"465.1387\">«part»</text><text fill=\"#000000\" font-family=\"sans-serif\" font-size=\"12\" lengthAdjust=\"spacingAndGlyphs\" textLength=\"8\" x=\"223\" y=\"479.1074\">p</text><line style=\"stroke: #383838; stroke-width: 1.5;\" x1=\"203\" x2=\"251\" y1=\"486.9375\" y2=\"486.9375\"/><text fill=\"#000000\" font-family=\"sans-serif\" font-size=\"11\" lengthAdjust=\"spacingAndGlyphs\" textLength=\"29\" x=\"208\" y=\"517.9526\">p1: P</text><text fill=\"#000000\" font-family=\"sans-serif\" font-size=\"11\" lengthAdjust=\"spacingAndGlyphs\" textLength=\"38\" x=\"208\" y=\"530.7573\">p2: ~P</text><line style=\"stroke: #383838; stroke-width: 1.0;\" x1=\"203\" x2=\"212\" y1=\"501.3398\" y2=\"501.3398\"/><text fill=\"#000000\" font-family=\"sans-serif\" font-size=\"11\" lengthAdjust=\"spacingAndGlyphs\" textLength=\"30\" x=\"212\" y=\"504.6479\">ports</text><line style=\"stroke: #383838; stroke-width: 1.0;\" x1=\"242\" x2=\"251\" y1=\"501.3398\" y2=\"501.3398\"/></a><!--MD5=[062ed86c389d1a88f61c6380d0491e17]\n",
       "reverse link E12 to E13--><a href=\"psysml:593a6524-9b3f-4082-a23e-8ed96ff9a715\" target=\"_top\" title=\"psysml:593a6524-9b3f-4082-a23e-8ed96ff9a715\" xlink:actuate=\"onRequest\" xlink:href=\"psysml:593a6524-9b3f-4082-a23e-8ed96ff9a715\" xlink:show=\"new\" xlink:title=\"psysml:593a6524-9b3f-4082-a23e-8ed96ff9a715\" xlink:type=\"simple\"><path d=\"M132.96,507.16 C155.92,503.66 182.94,499.55 201.92,496.66 \" fill=\"none\" id=\"E12&lt;-E13\" style=\"stroke: #383838; stroke-width: 1.0;\"/><polygon fill=\"#383838\" points=\"120.01,509.13,126.5441,512.1804,131.873,507.3222,125.3389,504.2717,120.01,509.13\" style=\"stroke: #383838; stroke-width: 1.0;\"/></a><!--MD5=[a4d4c79f7e71f4476977a51dfdbfc66a]\n",
       "@startuml\r\n",
       "left to right direction\r\n",
       "skinparam monochrome true\r\n",
       "skinparam classbackgroundcolor white\r\n",
       "skinparam shadowing false\r\n",
       "skinparam wrapWidth 300\r\n",
       "hide circle\r\n",
       "\r\n",
       "package \"ConjugationTest\" as E1  [[psysml:db7199af-e574-4214-8b26-5aef0dbbdb0a ]]  {\r\n",
       "comp def \"P\" as E2  <<(T,blue)port def>> [[psysml:eee324b7-6ef1-4f74-bb85-9d01b884a0c3 ]] {\r\n",
       "}\r\n",
       "comp def \"B\" as E3  <<(T,blue)part def>> [[psysml:987ad9e8-156c-405b-94a5-0234bd5ef961 ]] {\r\n",
       "- - ports - -\r\n",
       "p1: P\r\n",
       "p2: ~P\r\n",
       "}\r\n",
       "comp def \"A\" as E6  <<(T,blue)connection def>> [[psysml:d4b825d6-e011-4f07-a399-999db6b99ea3 ]] {\r\n",
       "- - ports - -\r\n",
       "p1: P\r\n",
       "p2: ~P\r\n",
       "}\r\n",
       "comp def \"I\" as E9  <<(T,blue)interface def>> [[psysml:0fcf03a3-0a94-497d-adc5-5270b49e59d7 ]] {\r\n",
       "- - ports - -\r\n",
       "p1: P\r\n",
       "p2: ~P\r\n",
       "}\r\n",
       "comp def \"B1\" as E12  <<(T,blue)part def>> [[psysml:fa47a610-a800-429f-b665-228f1e266500 ]] {\r\n",
       "}\r\n",
       "comp usage \"p\" as E13  <<(T,blue)part>> [[psysml:593a6524-9b3f-4082-a23e-8ed96ff9a715 ]] {\r\n",
       "- - ports - -\r\n",
       "p1: P\r\n",
       "p2: ~P\r\n",
       "}\r\n",
       "E12 *- - E13 [[psysml:593a6524-9b3f-4082-a23e-8ed96ff9a715 ]] \r\n",
       "}\r\n",
       "@enduml\r\n",
       "\n",
       "PlantUML version 1.2020.13(Sat Jun 13 12:26:38 UTC 2020)\n",
       "(EPL source distribution)\n",
       "Java Runtime: OpenJDK Runtime Environment\n",
       "JVM: OpenJDK 64-Bit Server VM\n",
       "Default Encoding: UTF-8\n",
       "Language: en\n",
       "Country: null\n",
       "--></g></svg>"
      ]
     },
     "execution_count": 21,
     "metadata": {},
     "output_type": "execute_result"
    }
   ],
   "source": [
    "%viz --style=\"LR\" --view=\"Sequence\" \"ConjugationTest\""
   ]
  },
  {
   "cell_type": "code",
   "execution_count": 22,
   "id": "adverse-roller",
   "metadata": {
    "execution": {
     "iopub.execute_input": "2021-03-25T13:18:48.146961Z",
     "iopub.status.busy": "2021-03-25T13:18:48.146423Z",
     "iopub.status.idle": "2021-03-25T13:18:48.851633Z",
     "shell.execute_reply": "2021-03-25T13:18:48.852122Z"
    }
   },
   "outputs": [
    {
     "data": {
      "image/svg+xml": [
       "<?xml version=\"1.0\" encoding=\"UTF-8\" standalone=\"no\"?><svg xmlns=\"http://www.w3.org/2000/svg\" xmlns:xlink=\"http://www.w3.org/1999/xlink\" contentScriptType=\"application/ecmascript\" contentStyleType=\"text/css\" height=\"565px\" preserveAspectRatio=\"none\" style=\"width:290px;height:565px;\" version=\"1.1\" viewBox=\"0 0 290 565\" width=\"290px\" zoomAndPan=\"magnify\"><defs/><g><!--MD5=[fbc87193dbaf4d95561dea2c320d4a47]\n",
       "cluster E1--><a href=\"psysml:db7199af-e574-4214-8b26-5aef0dbbdb0a\" target=\"_top\" title=\"psysml:db7199af-e574-4214-8b26-5aef0dbbdb0a\" xlink:actuate=\"onRequest\" xlink:href=\"psysml:db7199af-e574-4214-8b26-5aef0dbbdb0a\" xlink:show=\"new\" xlink:title=\"psysml:db7199af-e574-4214-8b26-5aef0dbbdb0a\" xlink:type=\"simple\"><polygon fill=\"#FFFFFF\" points=\"16,6,151,6,158,28.2969,268,28.2969,268,553,16,553,16,6\" style=\"stroke: #000000; stroke-width: 1.5;\"/><line style=\"stroke: #000000; stroke-width: 1.5;\" x1=\"16\" x2=\"158\" y1=\"28.2969\" y2=\"28.2969\"/><text fill=\"#000000\" font-family=\"sans-serif\" font-size=\"14\" font-weight=\"bold\" lengthAdjust=\"spacingAndGlyphs\" textLength=\"129\" x=\"20\" y=\"20.9951\">ConjugationTest</text></a><!--MD5=[b4997ac47864f28c2f74865a473b2911]\n",
       "class E2--><a href=\"psysml:eee324b7-6ef1-4f74-bb85-9d01b884a0c3\" target=\"_top\" title=\"psysml:eee324b7-6ef1-4f74-bb85-9d01b884a0c3\" xlink:actuate=\"onRequest\" xlink:href=\"psysml:eee324b7-6ef1-4f74-bb85-9d01b884a0c3\" xlink:show=\"new\" xlink:title=\"psysml:eee324b7-6ef1-4f74-bb85-9d01b884a0c3\" xlink:type=\"simple\"><rect fill=\"#FFFFFF\" height=\"45.9375\" id=\"E2\" style=\"stroke: #383838; stroke-width: 1.5;\" width=\"66\" x=\"54\" y=\"41\"/><text fill=\"#000000\" font-family=\"sans-serif\" font-size=\"12\" font-style=\"italic\" lengthAdjust=\"spacingAndGlyphs\" textLength=\"64\" x=\"55\" y=\"57.1387\">«port def»</text><text fill=\"#000000\" font-family=\"sans-serif\" font-size=\"12\" lengthAdjust=\"spacingAndGlyphs\" textLength=\"8\" x=\"83\" y=\"71.1074\">P</text><line style=\"stroke: #383838; stroke-width: 1.5;\" x1=\"55\" x2=\"119\" y1=\"78.9375\" y2=\"78.9375\"/></a><!--MD5=[09b614a08d8cba4a07c9adeb5e0fee81]\n",
       "class E3--><a href=\"psysml:987ad9e8-156c-405b-94a5-0234bd5ef961\" target=\"_top\" title=\"psysml:987ad9e8-156c-405b-94a5-0234bd5ef961\" xlink:actuate=\"onRequest\" xlink:href=\"psysml:987ad9e8-156c-405b-94a5-0234bd5ef961\" xlink:show=\"new\" xlink:title=\"psysml:987ad9e8-156c-405b-94a5-0234bd5ef961\" xlink:type=\"simple\"><rect fill=\"#FFFFFF\" height=\"88.3516\" id=\"E3\" style=\"stroke: #383838; stroke-width: 1.5;\" width=\"66\" x=\"54\" y=\"122\"/><text fill=\"#000000\" font-family=\"sans-serif\" font-size=\"12\" font-style=\"italic\" lengthAdjust=\"spacingAndGlyphs\" textLength=\"64\" x=\"55\" y=\"138.1387\">«part def»</text><text fill=\"#000000\" font-family=\"sans-serif\" font-size=\"12\" lengthAdjust=\"spacingAndGlyphs\" textLength=\"8\" x=\"83\" y=\"152.1074\">B</text><line style=\"stroke: #383838; stroke-width: 1.5;\" x1=\"55\" x2=\"119\" y1=\"159.9375\" y2=\"159.9375\"/><text fill=\"#000000\" font-family=\"sans-serif\" font-size=\"11\" lengthAdjust=\"spacingAndGlyphs\" textLength=\"29\" x=\"60\" y=\"190.9526\">p1: P</text><text fill=\"#000000\" font-family=\"sans-serif\" font-size=\"11\" lengthAdjust=\"spacingAndGlyphs\" textLength=\"38\" x=\"60\" y=\"203.7573\">p2: ~P</text><line style=\"stroke: #383838; stroke-width: 1.0;\" x1=\"55\" x2=\"72\" y1=\"174.3398\" y2=\"174.3398\"/><text fill=\"#000000\" font-family=\"sans-serif\" font-size=\"11\" lengthAdjust=\"spacingAndGlyphs\" textLength=\"30\" x=\"72\" y=\"177.6479\">ports</text><line style=\"stroke: #383838; stroke-width: 1.0;\" x1=\"102\" x2=\"119\" y1=\"174.3398\" y2=\"174.3398\"/></a><!--MD5=[60a26617385b1d2d0262a64233df1f8d]\n",
       "class E6--><a href=\"psysml:d4b825d6-e011-4f07-a399-999db6b99ea3\" target=\"_top\" title=\"psysml:d4b825d6-e011-4f07-a399-999db6b99ea3\" xlink:actuate=\"onRequest\" xlink:href=\"psysml:d4b825d6-e011-4f07-a399-999db6b99ea3\" xlink:show=\"new\" xlink:title=\"psysml:d4b825d6-e011-4f07-a399-999db6b99ea3\" xlink:type=\"simple\"><rect fill=\"#FFFFFF\" height=\"88.3516\" id=\"E6\" style=\"stroke: #383838; stroke-width: 1.5;\" width=\"110\" x=\"32\" y=\"245\"/><text fill=\"#000000\" font-family=\"sans-serif\" font-size=\"12\" font-style=\"italic\" lengthAdjust=\"spacingAndGlyphs\" textLength=\"108\" x=\"33\" y=\"261.1387\">«connection def»</text><text fill=\"#000000\" font-family=\"sans-serif\" font-size=\"12\" lengthAdjust=\"spacingAndGlyphs\" textLength=\"8\" x=\"83\" y=\"275.1074\">A</text><line style=\"stroke: #383838; stroke-width: 1.5;\" x1=\"33\" x2=\"141\" y1=\"282.9375\" y2=\"282.9375\"/><text fill=\"#000000\" font-family=\"sans-serif\" font-size=\"11\" lengthAdjust=\"spacingAndGlyphs\" textLength=\"29\" x=\"38\" y=\"313.9526\">p1: P</text><text fill=\"#000000\" font-family=\"sans-serif\" font-size=\"11\" lengthAdjust=\"spacingAndGlyphs\" textLength=\"38\" x=\"38\" y=\"326.7573\">p2: ~P</text><line style=\"stroke: #383838; stroke-width: 1.0;\" x1=\"33\" x2=\"72\" y1=\"297.3398\" y2=\"297.3398\"/><text fill=\"#000000\" font-family=\"sans-serif\" font-size=\"11\" lengthAdjust=\"spacingAndGlyphs\" textLength=\"30\" x=\"72\" y=\"300.6479\">ports</text><line style=\"stroke: #383838; stroke-width: 1.0;\" x1=\"102\" x2=\"141\" y1=\"297.3398\" y2=\"297.3398\"/></a><!--MD5=[fd4143e9d270a159db93a4ea2a975926]\n",
       "class E9--><a href=\"psysml:0fcf03a3-0a94-497d-adc5-5270b49e59d7\" target=\"_top\" title=\"psysml:0fcf03a3-0a94-497d-adc5-5270b49e59d7\" xlink:actuate=\"onRequest\" xlink:href=\"psysml:0fcf03a3-0a94-497d-adc5-5270b49e59d7\" xlink:show=\"new\" xlink:title=\"psysml:0fcf03a3-0a94-497d-adc5-5270b49e59d7\" xlink:type=\"simple\"><rect fill=\"#FFFFFF\" height=\"88.3516\" id=\"E9\" style=\"stroke: #383838; stroke-width: 1.5;\" width=\"96\" x=\"39\" y=\"368\"/><text fill=\"#000000\" font-family=\"sans-serif\" font-size=\"12\" font-style=\"italic\" lengthAdjust=\"spacingAndGlyphs\" textLength=\"94\" x=\"40\" y=\"384.1387\">«interface def»</text><text fill=\"#000000\" font-family=\"sans-serif\" font-size=\"12\" lengthAdjust=\"spacingAndGlyphs\" textLength=\"3\" x=\"85.5\" y=\"398.1074\">I</text><line style=\"stroke: #383838; stroke-width: 1.5;\" x1=\"40\" x2=\"134\" y1=\"405.9375\" y2=\"405.9375\"/><text fill=\"#000000\" font-family=\"sans-serif\" font-size=\"11\" lengthAdjust=\"spacingAndGlyphs\" textLength=\"29\" x=\"45\" y=\"436.9526\">p1: P</text><text fill=\"#000000\" font-family=\"sans-serif\" font-size=\"11\" lengthAdjust=\"spacingAndGlyphs\" textLength=\"38\" x=\"45\" y=\"449.7573\">p2: ~P</text><line style=\"stroke: #383838; stroke-width: 1.0;\" x1=\"40\" x2=\"72\" y1=\"420.3398\" y2=\"420.3398\"/><text fill=\"#000000\" font-family=\"sans-serif\" font-size=\"11\" lengthAdjust=\"spacingAndGlyphs\" textLength=\"30\" x=\"72\" y=\"423.6479\">ports</text><line style=\"stroke: #383838; stroke-width: 1.0;\" x1=\"102\" x2=\"134\" y1=\"420.3398\" y2=\"420.3398\"/></a><!--MD5=[49a0ec8f00dab7302a31f22d0f0fe584]\n",
       "class E12--><a href=\"psysml:fa47a610-a800-429f-b665-228f1e266500\" target=\"_top\" title=\"psysml:fa47a610-a800-429f-b665-228f1e266500\" xlink:actuate=\"onRequest\" xlink:href=\"psysml:fa47a610-a800-429f-b665-228f1e266500\" xlink:show=\"new\" xlink:title=\"psysml:fa47a610-a800-429f-b665-228f1e266500\" xlink:type=\"simple\"><rect fill=\"#FFFFFF\" height=\"45.9375\" id=\"E12\" style=\"stroke: #383838; stroke-width: 1.5;\" width=\"66\" x=\"54\" y=\"491\"/><text fill=\"#000000\" font-family=\"sans-serif\" font-size=\"12\" font-style=\"italic\" lengthAdjust=\"spacingAndGlyphs\" textLength=\"64\" x=\"55\" y=\"507.1387\">«part def»</text><text fill=\"#000000\" font-family=\"sans-serif\" font-size=\"12\" lengthAdjust=\"spacingAndGlyphs\" textLength=\"16\" x=\"79\" y=\"521.1074\">B1</text><line style=\"stroke: #383838; stroke-width: 1.5;\" x1=\"55\" x2=\"119\" y1=\"528.9375\" y2=\"528.9375\"/></a><!--MD5=[ee3c913d1a06f366521f9ef512b67efe]\n",
       "class E13--><a href=\"psysml:593a6524-9b3f-4082-a23e-8ed96ff9a715\" target=\"_top\" title=\"psysml:593a6524-9b3f-4082-a23e-8ed96ff9a715\" xlink:actuate=\"onRequest\" xlink:href=\"psysml:593a6524-9b3f-4082-a23e-8ed96ff9a715\" xlink:show=\"new\" xlink:title=\"psysml:593a6524-9b3f-4082-a23e-8ed96ff9a715\" xlink:type=\"simple\"><rect fill=\"#FFFFFF\" height=\"88.3516\" id=\"E13\" rx=\"10\" ry=\"10\" style=\"stroke: #383838; stroke-width: 1.5;\" width=\"50\" x=\"202\" y=\"449\"/><text fill=\"#000000\" font-family=\"sans-serif\" font-size=\"12\" font-style=\"italic\" lengthAdjust=\"spacingAndGlyphs\" textLength=\"40\" x=\"207\" y=\"465.1387\">«part»</text><text fill=\"#000000\" font-family=\"sans-serif\" font-size=\"12\" lengthAdjust=\"spacingAndGlyphs\" textLength=\"8\" x=\"223\" y=\"479.1074\">p</text><line style=\"stroke: #383838; stroke-width: 1.5;\" x1=\"203\" x2=\"251\" y1=\"486.9375\" y2=\"486.9375\"/><text fill=\"#000000\" font-family=\"sans-serif\" font-size=\"11\" lengthAdjust=\"spacingAndGlyphs\" textLength=\"29\" x=\"208\" y=\"517.9526\">p1: P</text><text fill=\"#000000\" font-family=\"sans-serif\" font-size=\"11\" lengthAdjust=\"spacingAndGlyphs\" textLength=\"38\" x=\"208\" y=\"530.7573\">p2: ~P</text><line style=\"stroke: #383838; stroke-width: 1.0;\" x1=\"203\" x2=\"212\" y1=\"501.3398\" y2=\"501.3398\"/><text fill=\"#000000\" font-family=\"sans-serif\" font-size=\"11\" lengthAdjust=\"spacingAndGlyphs\" textLength=\"30\" x=\"212\" y=\"504.6479\">ports</text><line style=\"stroke: #383838; stroke-width: 1.0;\" x1=\"242\" x2=\"251\" y1=\"501.3398\" y2=\"501.3398\"/></a><!--MD5=[062ed86c389d1a88f61c6380d0491e17]\n",
       "reverse link E12 to E13--><a href=\"psysml:593a6524-9b3f-4082-a23e-8ed96ff9a715\" target=\"_top\" title=\"psysml:593a6524-9b3f-4082-a23e-8ed96ff9a715\" xlink:actuate=\"onRequest\" xlink:href=\"psysml:593a6524-9b3f-4082-a23e-8ed96ff9a715\" xlink:show=\"new\" xlink:title=\"psysml:593a6524-9b3f-4082-a23e-8ed96ff9a715\" xlink:type=\"simple\"><path d=\"M132.96,507.16 C155.92,503.66 182.94,499.55 201.92,496.66 \" fill=\"none\" id=\"E12&lt;-E13\" style=\"stroke: #383838; stroke-width: 1.0;\"/><polygon fill=\"#383838\" points=\"120.01,509.13,126.5441,512.1804,131.873,507.3222,125.3389,504.2717,120.01,509.13\" style=\"stroke: #383838; stroke-width: 1.0;\"/></a><!--MD5=[a4d4c79f7e71f4476977a51dfdbfc66a]\n",
       "@startuml\r\n",
       "left to right direction\r\n",
       "skinparam monochrome true\r\n",
       "skinparam classbackgroundcolor white\r\n",
       "skinparam shadowing false\r\n",
       "skinparam wrapWidth 300\r\n",
       "hide circle\r\n",
       "\r\n",
       "package \"ConjugationTest\" as E1  [[psysml:db7199af-e574-4214-8b26-5aef0dbbdb0a ]]  {\r\n",
       "comp def \"P\" as E2  <<(T,blue)port def>> [[psysml:eee324b7-6ef1-4f74-bb85-9d01b884a0c3 ]] {\r\n",
       "}\r\n",
       "comp def \"B\" as E3  <<(T,blue)part def>> [[psysml:987ad9e8-156c-405b-94a5-0234bd5ef961 ]] {\r\n",
       "- - ports - -\r\n",
       "p1: P\r\n",
       "p2: ~P\r\n",
       "}\r\n",
       "comp def \"A\" as E6  <<(T,blue)connection def>> [[psysml:d4b825d6-e011-4f07-a399-999db6b99ea3 ]] {\r\n",
       "- - ports - -\r\n",
       "p1: P\r\n",
       "p2: ~P\r\n",
       "}\r\n",
       "comp def \"I\" as E9  <<(T,blue)interface def>> [[psysml:0fcf03a3-0a94-497d-adc5-5270b49e59d7 ]] {\r\n",
       "- - ports - -\r\n",
       "p1: P\r\n",
       "p2: ~P\r\n",
       "}\r\n",
       "comp def \"B1\" as E12  <<(T,blue)part def>> [[psysml:fa47a610-a800-429f-b665-228f1e266500 ]] {\r\n",
       "}\r\n",
       "comp usage \"p\" as E13  <<(T,blue)part>> [[psysml:593a6524-9b3f-4082-a23e-8ed96ff9a715 ]] {\r\n",
       "- - ports - -\r\n",
       "p1: P\r\n",
       "p2: ~P\r\n",
       "}\r\n",
       "E12 *- - E13 [[psysml:593a6524-9b3f-4082-a23e-8ed96ff9a715 ]] \r\n",
       "}\r\n",
       "@enduml\r\n",
       "\n",
       "PlantUML version 1.2020.13(Sat Jun 13 12:26:38 UTC 2020)\n",
       "(EPL source distribution)\n",
       "Java Runtime: OpenJDK Runtime Environment\n",
       "JVM: OpenJDK 64-Bit Server VM\n",
       "Default Encoding: UTF-8\n",
       "Language: en\n",
       "Country: null\n",
       "--></g></svg>"
      ]
     },
     "execution_count": 22,
     "metadata": {},
     "output_type": "execute_result"
    }
   ],
   "source": [
    "%viz --style=\"LR\" --view=\"MIXED\" \"ConjugationTest\""
   ]
  },
  {
   "cell_type": "code",
   "execution_count": 23,
   "id": "illegal-silly",
   "metadata": {
    "execution": {
     "iopub.execute_input": "2021-03-25T13:18:48.903836Z",
     "iopub.status.busy": "2021-03-25T13:18:48.901993Z",
     "iopub.status.idle": "2021-03-25T13:18:49.615685Z",
     "shell.execute_reply": "2021-03-25T13:18:49.615317Z"
    }
   },
   "outputs": [
    {
     "data": {
      "image/svg+xml": [
       "<?xml version=\"1.0\" encoding=\"UTF-8\" standalone=\"no\"?><svg xmlns=\"http://www.w3.org/2000/svg\" xmlns:xlink=\"http://www.w3.org/1999/xlink\" contentScriptType=\"application/ecmascript\" contentStyleType=\"text/css\" height=\"305px\" preserveAspectRatio=\"none\" style=\"width:614px;height:305px;\" version=\"1.1\" viewBox=\"0 0 614 305\" width=\"614px\" zoomAndPan=\"magnify\"><defs><filter height=\"300%\" id=\"f1fciu5bci34sa\" width=\"300%\" x=\"-1\" y=\"-1\"><feGaussianBlur result=\"blurOut\" stdDeviation=\"2.0\"/><feColorMatrix in=\"blurOut\" result=\"blurOut2\" type=\"matrix\" values=\"0 0 0 0 0 0 0 0 0 0 0 0 0 0 0 0 0 0 .4 0\"/><feOffset dx=\"4.0\" dy=\"4.0\" in=\"blurOut2\" result=\"blurOut3\"/><feBlend in=\"SourceGraphic\" in2=\"blurOut3\" mode=\"normal\"/></filter></defs><g><!--MD5=[fbc87193dbaf4d95561dea2c320d4a47]\n",
       "cluster E1--><a href=\"psysml:db7199af-e574-4214-8b26-5aef0dbbdb0a\" target=\"_top\" title=\"psysml:db7199af-e574-4214-8b26-5aef0dbbdb0a\" xlink:actuate=\"onRequest\" xlink:href=\"psysml:db7199af-e574-4214-8b26-5aef0dbbdb0a\" xlink:show=\"new\" xlink:title=\"psysml:db7199af-e574-4214-8b26-5aef0dbbdb0a\" xlink:type=\"simple\"><polygon fill=\"#FFFFFF\" filter=\"url(#f1fciu5bci34sa)\" points=\"16,6,151,6,158,28.2969,592,28.2969,592,293,16,293,16,6\" style=\"stroke: #000000; stroke-width: 1.5;\"/><line style=\"stroke: #000000; stroke-width: 1.5;\" x1=\"16\" x2=\"158\" y1=\"28.2969\" y2=\"28.2969\"/><text fill=\"#000000\" font-family=\"sans-serif\" font-size=\"14\" font-weight=\"bold\" lengthAdjust=\"spacingAndGlyphs\" textLength=\"129\" x=\"20\" y=\"20.9951\">ConjugationTest</text></a><!--MD5=[b4997ac47864f28c2f74865a473b2911]\n",
       "class E2--><a href=\"psysml:eee324b7-6ef1-4f74-bb85-9d01b884a0c3\" target=\"_top\" title=\"psysml:eee324b7-6ef1-4f74-bb85-9d01b884a0c3\" xlink:actuate=\"onRequest\" xlink:href=\"psysml:eee324b7-6ef1-4f74-bb85-9d01b884a0c3\" xlink:show=\"new\" xlink:title=\"psysml:eee324b7-6ef1-4f74-bb85-9d01b884a0c3\" xlink:type=\"simple\"><rect fill=\"#FEFECE\" filter=\"url(#f1fciu5bci34sa)\" height=\"45.9375\" id=\"E2\" style=\"stroke: #A80036; stroke-width: 1.5;\" width=\"66\" x=\"510\" y=\"62\"/><text fill=\"#000000\" font-family=\"sans-serif\" font-size=\"12\" font-style=\"italic\" lengthAdjust=\"spacingAndGlyphs\" textLength=\"64\" x=\"511\" y=\"78.1387\">«port def»</text><text fill=\"#000000\" font-family=\"sans-serif\" font-size=\"12\" lengthAdjust=\"spacingAndGlyphs\" textLength=\"8\" x=\"539\" y=\"92.1074\">P</text><line style=\"stroke: #A80036; stroke-width: 1.5;\" x1=\"511\" x2=\"575\" y1=\"99.9375\" y2=\"99.9375\"/></a><!--MD5=[09b614a08d8cba4a07c9adeb5e0fee81]\n",
       "class E3--><a href=\"psysml:987ad9e8-156c-405b-94a5-0234bd5ef961\" target=\"_top\" title=\"psysml:987ad9e8-156c-405b-94a5-0234bd5ef961\" xlink:actuate=\"onRequest\" xlink:href=\"psysml:987ad9e8-156c-405b-94a5-0234bd5ef961\" xlink:show=\"new\" xlink:title=\"psysml:987ad9e8-156c-405b-94a5-0234bd5ef961\" xlink:type=\"simple\"><rect fill=\"#FEFECE\" filter=\"url(#f1fciu5bci34sa)\" height=\"88.3516\" id=\"E3\" style=\"stroke: #A80036; stroke-width: 1.5;\" width=\"66\" x=\"409\" y=\"41\"/><text fill=\"#000000\" font-family=\"sans-serif\" font-size=\"12\" font-style=\"italic\" lengthAdjust=\"spacingAndGlyphs\" textLength=\"64\" x=\"410\" y=\"57.1387\">«part def»</text><text fill=\"#000000\" font-family=\"sans-serif\" font-size=\"12\" lengthAdjust=\"spacingAndGlyphs\" textLength=\"8\" x=\"438\" y=\"71.1074\">B</text><line style=\"stroke: #A80036; stroke-width: 1.5;\" x1=\"410\" x2=\"474\" y1=\"78.9375\" y2=\"78.9375\"/><text fill=\"#000000\" font-family=\"sans-serif\" font-size=\"11\" lengthAdjust=\"spacingAndGlyphs\" textLength=\"29\" x=\"415\" y=\"109.9526\">p1: P</text><text fill=\"#000000\" font-family=\"sans-serif\" font-size=\"11\" lengthAdjust=\"spacingAndGlyphs\" textLength=\"38\" x=\"415\" y=\"122.7573\">p2: ~P</text><line style=\"stroke: #A80036; stroke-width: 1.0;\" x1=\"410\" x2=\"427\" y1=\"93.3398\" y2=\"93.3398\"/><text fill=\"#000000\" font-family=\"sans-serif\" font-size=\"11\" lengthAdjust=\"spacingAndGlyphs\" textLength=\"30\" x=\"427\" y=\"96.6479\">ports</text><line style=\"stroke: #A80036; stroke-width: 1.0;\" x1=\"457\" x2=\"474\" y1=\"93.3398\" y2=\"93.3398\"/></a><!--MD5=[60a26617385b1d2d0262a64233df1f8d]\n",
       "class E6--><a href=\"psysml:d4b825d6-e011-4f07-a399-999db6b99ea3\" target=\"_top\" title=\"psysml:d4b825d6-e011-4f07-a399-999db6b99ea3\" xlink:actuate=\"onRequest\" xlink:href=\"psysml:d4b825d6-e011-4f07-a399-999db6b99ea3\" xlink:show=\"new\" xlink:title=\"psysml:d4b825d6-e011-4f07-a399-999db6b99ea3\" xlink:type=\"simple\"><rect fill=\"#FEFECE\" filter=\"url(#f1fciu5bci34sa)\" height=\"88.3516\" id=\"E6\" style=\"stroke: #A80036; stroke-width: 1.5;\" width=\"110\" x=\"264\" y=\"41\"/><text fill=\"#000000\" font-family=\"sans-serif\" font-size=\"12\" font-style=\"italic\" lengthAdjust=\"spacingAndGlyphs\" textLength=\"108\" x=\"265\" y=\"57.1387\">«connection def»</text><text fill=\"#000000\" font-family=\"sans-serif\" font-size=\"12\" lengthAdjust=\"spacingAndGlyphs\" textLength=\"8\" x=\"315\" y=\"71.1074\">A</text><line style=\"stroke: #A80036; stroke-width: 1.5;\" x1=\"265\" x2=\"373\" y1=\"78.9375\" y2=\"78.9375\"/><text fill=\"#000000\" font-family=\"sans-serif\" font-size=\"11\" lengthAdjust=\"spacingAndGlyphs\" textLength=\"29\" x=\"270\" y=\"109.9526\">p1: P</text><text fill=\"#000000\" font-family=\"sans-serif\" font-size=\"11\" lengthAdjust=\"spacingAndGlyphs\" textLength=\"38\" x=\"270\" y=\"122.7573\">p2: ~P</text><line style=\"stroke: #A80036; stroke-width: 1.0;\" x1=\"265\" x2=\"304\" y1=\"93.3398\" y2=\"93.3398\"/><text fill=\"#000000\" font-family=\"sans-serif\" font-size=\"11\" lengthAdjust=\"spacingAndGlyphs\" textLength=\"30\" x=\"304\" y=\"96.6479\">ports</text><line style=\"stroke: #A80036; stroke-width: 1.0;\" x1=\"334\" x2=\"373\" y1=\"93.3398\" y2=\"93.3398\"/></a><!--MD5=[fd4143e9d270a159db93a4ea2a975926]\n",
       "class E9--><a href=\"psysml:0fcf03a3-0a94-497d-adc5-5270b49e59d7\" target=\"_top\" title=\"psysml:0fcf03a3-0a94-497d-adc5-5270b49e59d7\" xlink:actuate=\"onRequest\" xlink:href=\"psysml:0fcf03a3-0a94-497d-adc5-5270b49e59d7\" xlink:show=\"new\" xlink:title=\"psysml:0fcf03a3-0a94-497d-adc5-5270b49e59d7\" xlink:type=\"simple\"><rect fill=\"#FEFECE\" filter=\"url(#f1fciu5bci34sa)\" height=\"88.3516\" id=\"E9\" style=\"stroke: #A80036; stroke-width: 1.5;\" width=\"96\" x=\"133\" y=\"41\"/><text fill=\"#000000\" font-family=\"sans-serif\" font-size=\"12\" font-style=\"italic\" lengthAdjust=\"spacingAndGlyphs\" textLength=\"94\" x=\"134\" y=\"57.1387\">«interface def»</text><text fill=\"#000000\" font-family=\"sans-serif\" font-size=\"12\" lengthAdjust=\"spacingAndGlyphs\" textLength=\"3\" x=\"179.5\" y=\"71.1074\">I</text><line style=\"stroke: #A80036; stroke-width: 1.5;\" x1=\"134\" x2=\"228\" y1=\"78.9375\" y2=\"78.9375\"/><text fill=\"#000000\" font-family=\"sans-serif\" font-size=\"11\" lengthAdjust=\"spacingAndGlyphs\" textLength=\"29\" x=\"139\" y=\"109.9526\">p1: P</text><text fill=\"#000000\" font-family=\"sans-serif\" font-size=\"11\" lengthAdjust=\"spacingAndGlyphs\" textLength=\"38\" x=\"139\" y=\"122.7573\">p2: ~P</text><line style=\"stroke: #A80036; stroke-width: 1.0;\" x1=\"134\" x2=\"166\" y1=\"93.3398\" y2=\"93.3398\"/><text fill=\"#000000\" font-family=\"sans-serif\" font-size=\"11\" lengthAdjust=\"spacingAndGlyphs\" textLength=\"30\" x=\"166\" y=\"96.6479\">ports</text><line style=\"stroke: #A80036; stroke-width: 1.0;\" x1=\"196\" x2=\"228\" y1=\"93.3398\" y2=\"93.3398\"/></a><!--MD5=[49a0ec8f00dab7302a31f22d0f0fe584]\n",
       "class E12--><a href=\"psysml:fa47a610-a800-429f-b665-228f1e266500\" target=\"_top\" title=\"psysml:fa47a610-a800-429f-b665-228f1e266500\" xlink:actuate=\"onRequest\" xlink:href=\"psysml:fa47a610-a800-429f-b665-228f1e266500\" xlink:show=\"new\" xlink:title=\"psysml:fa47a610-a800-429f-b665-228f1e266500\" xlink:type=\"simple\"><rect fill=\"#FEFECE\" filter=\"url(#f1fciu5bci34sa)\" height=\"45.9375\" id=\"E12\" style=\"stroke: #A80036; stroke-width: 1.5;\" width=\"66\" x=\"32\" y=\"62\"/><text fill=\"#000000\" font-family=\"sans-serif\" font-size=\"12\" font-style=\"italic\" lengthAdjust=\"spacingAndGlyphs\" textLength=\"64\" x=\"33\" y=\"78.1387\">«part def»</text><text fill=\"#000000\" font-family=\"sans-serif\" font-size=\"12\" lengthAdjust=\"spacingAndGlyphs\" textLength=\"16\" x=\"57\" y=\"92.1074\">B1</text><line style=\"stroke: #A80036; stroke-width: 1.5;\" x1=\"33\" x2=\"97\" y1=\"99.9375\" y2=\"99.9375\"/></a><!--MD5=[ee3c913d1a06f366521f9ef512b67efe]\n",
       "class E13--><a href=\"psysml:593a6524-9b3f-4082-a23e-8ed96ff9a715\" target=\"_top\" title=\"psysml:593a6524-9b3f-4082-a23e-8ed96ff9a715\" xlink:actuate=\"onRequest\" xlink:href=\"psysml:593a6524-9b3f-4082-a23e-8ed96ff9a715\" xlink:show=\"new\" xlink:title=\"psysml:593a6524-9b3f-4082-a23e-8ed96ff9a715\" xlink:type=\"simple\"><rect fill=\"#FEFECE\" filter=\"url(#f1fciu5bci34sa)\" height=\"88.3516\" id=\"E13\" rx=\"10\" ry=\"10\" style=\"stroke: #A80036; stroke-width: 1.5;\" width=\"50\" x=\"40\" y=\"189\"/><text fill=\"#000000\" font-family=\"sans-serif\" font-size=\"12\" font-style=\"italic\" lengthAdjust=\"spacingAndGlyphs\" textLength=\"40\" x=\"45\" y=\"205.1387\">«part»</text><text fill=\"#000000\" font-family=\"sans-serif\" font-size=\"12\" lengthAdjust=\"spacingAndGlyphs\" textLength=\"8\" x=\"61\" y=\"219.1074\">p</text><line style=\"stroke: #A80036; stroke-width: 1.5;\" x1=\"41\" x2=\"89\" y1=\"226.9375\" y2=\"226.9375\"/><text fill=\"#000000\" font-family=\"sans-serif\" font-size=\"11\" lengthAdjust=\"spacingAndGlyphs\" textLength=\"29\" x=\"46\" y=\"257.9526\">p1: P</text><text fill=\"#000000\" font-family=\"sans-serif\" font-size=\"11\" lengthAdjust=\"spacingAndGlyphs\" textLength=\"38\" x=\"46\" y=\"270.7573\">p2: ~P</text><line style=\"stroke: #A80036; stroke-width: 1.0;\" x1=\"41\" x2=\"50\" y1=\"241.3398\" y2=\"241.3398\"/><text fill=\"#000000\" font-family=\"sans-serif\" font-size=\"11\" lengthAdjust=\"spacingAndGlyphs\" textLength=\"30\" x=\"50\" y=\"244.6479\">ports</text><line style=\"stroke: #A80036; stroke-width: 1.0;\" x1=\"80\" x2=\"89\" y1=\"241.3398\" y2=\"241.3398\"/></a><!--MD5=[062ed86c389d1a88f61c6380d0491e17]\n",
       "reverse link E12 to E13--><a href=\"psysml:593a6524-9b3f-4082-a23e-8ed96ff9a715\" target=\"_top\" title=\"psysml:593a6524-9b3f-4082-a23e-8ed96ff9a715\" xlink:actuate=\"onRequest\" xlink:href=\"psysml:593a6524-9b3f-4082-a23e-8ed96ff9a715\" xlink:show=\"new\" xlink:title=\"psysml:593a6524-9b3f-4082-a23e-8ed96ff9a715\" xlink:type=\"simple\"><path d=\"M65,121.25 C65,141.54 65,167.2 65,188.71 \" fill=\"none\" id=\"E12&lt;-E13\" style=\"stroke: #A80036; stroke-width: 1.0;\"/><polygon fill=\"#A80036\" points=\"65,108.17,61,114.17,65,120.17,69,114.17,65,108.17\" style=\"stroke: #A80036; stroke-width: 1.0;\"/></a><!--MD5=[390c023e9b4792443a1e55562d79b224]\n",
       "@startuml\r\n",
       "skinparam wrapWidth 300\r\n",
       "hide circle\r\n",
       "\r\n",
       "package \"ConjugationTest\" as E1  [[psysml:db7199af-e574-4214-8b26-5aef0dbbdb0a ]]  {\r\n",
       "comp def \"P\" as E2  <<(T,blue)port def>> [[psysml:eee324b7-6ef1-4f74-bb85-9d01b884a0c3 ]] {\r\n",
       "}\r\n",
       "comp def \"B\" as E3  <<(T,blue)part def>> [[psysml:987ad9e8-156c-405b-94a5-0234bd5ef961 ]] {\r\n",
       "- - ports - -\r\n",
       "p1: P\r\n",
       "p2: ~P\r\n",
       "}\r\n",
       "comp def \"A\" as E6  <<(T,blue)connection def>> [[psysml:d4b825d6-e011-4f07-a399-999db6b99ea3 ]] {\r\n",
       "- - ports - -\r\n",
       "p1: P\r\n",
       "p2: ~P\r\n",
       "}\r\n",
       "comp def \"I\" as E9  <<(T,blue)interface def>> [[psysml:0fcf03a3-0a94-497d-adc5-5270b49e59d7 ]] {\r\n",
       "- - ports - -\r\n",
       "p1: P\r\n",
       "p2: ~P\r\n",
       "}\r\n",
       "comp def \"B1\" as E12  <<(T,blue)part def>> [[psysml:fa47a610-a800-429f-b665-228f1e266500 ]] {\r\n",
       "}\r\n",
       "comp usage \"p\" as E13  <<(T,blue)part>> [[psysml:593a6524-9b3f-4082-a23e-8ed96ff9a715 ]] {\r\n",
       "- - ports - -\r\n",
       "p1: P\r\n",
       "p2: ~P\r\n",
       "}\r\n",
       "E12 *- - E13 [[psysml:593a6524-9b3f-4082-a23e-8ed96ff9a715 ]] \r\n",
       "}\r\n",
       "@enduml\r\n",
       "\n",
       "PlantUML version 1.2020.13(Sat Jun 13 12:26:38 UTC 2020)\n",
       "(EPL source distribution)\n",
       "Java Runtime: OpenJDK Runtime Environment\n",
       "JVM: OpenJDK 64-Bit Server VM\n",
       "Default Encoding: UTF-8\n",
       "Language: en\n",
       "Country: null\n",
       "--></g></svg>"
      ]
     },
     "execution_count": 23,
     "metadata": {},
     "output_type": "execute_result"
    }
   ],
   "source": [
    "%viz --style=\"STDCOLOR\" --view=\"Default\" \"ConjugationTest\""
   ]
  },
  {
   "cell_type": "code",
   "execution_count": 24,
   "id": "described-truck",
   "metadata": {
    "execution": {
     "iopub.execute_input": "2021-03-25T13:18:49.667192Z",
     "iopub.status.busy": "2021-03-25T13:18:49.666502Z",
     "iopub.status.idle": "2021-03-25T13:18:50.402951Z",
     "shell.execute_reply": "2021-03-25T13:18:50.402202Z"
    }
   },
   "outputs": [
    {
     "data": {
      "image/svg+xml": [
       "<?xml version=\"1.0\" encoding=\"UTF-8\" standalone=\"no\"?><svg xmlns=\"http://www.w3.org/2000/svg\" xmlns:xlink=\"http://www.w3.org/1999/xlink\" contentScriptType=\"application/ecmascript\" contentStyleType=\"text/css\" height=\"305px\" preserveAspectRatio=\"none\" style=\"width:614px;height:305px;\" version=\"1.1\" viewBox=\"0 0 614 305\" width=\"614px\" zoomAndPan=\"magnify\"><defs><filter height=\"300%\" id=\"f1fciu5bci34sa\" width=\"300%\" x=\"-1\" y=\"-1\"><feGaussianBlur result=\"blurOut\" stdDeviation=\"2.0\"/><feColorMatrix in=\"blurOut\" result=\"blurOut2\" type=\"matrix\" values=\"0 0 0 0 0 0 0 0 0 0 0 0 0 0 0 0 0 0 .4 0\"/><feOffset dx=\"4.0\" dy=\"4.0\" in=\"blurOut2\" result=\"blurOut3\"/><feBlend in=\"SourceGraphic\" in2=\"blurOut3\" mode=\"normal\"/></filter></defs><g><!--MD5=[fbc87193dbaf4d95561dea2c320d4a47]\n",
       "cluster E1--><a href=\"psysml:db7199af-e574-4214-8b26-5aef0dbbdb0a\" target=\"_top\" title=\"psysml:db7199af-e574-4214-8b26-5aef0dbbdb0a\" xlink:actuate=\"onRequest\" xlink:href=\"psysml:db7199af-e574-4214-8b26-5aef0dbbdb0a\" xlink:show=\"new\" xlink:title=\"psysml:db7199af-e574-4214-8b26-5aef0dbbdb0a\" xlink:type=\"simple\"><polygon fill=\"#FFFFFF\" filter=\"url(#f1fciu5bci34sa)\" points=\"16,6,151,6,158,28.2969,592,28.2969,592,293,16,293,16,6\" style=\"stroke: #000000; stroke-width: 1.5;\"/><line style=\"stroke: #000000; stroke-width: 1.5;\" x1=\"16\" x2=\"158\" y1=\"28.2969\" y2=\"28.2969\"/><text fill=\"#000000\" font-family=\"sans-serif\" font-size=\"14\" font-weight=\"bold\" lengthAdjust=\"spacingAndGlyphs\" textLength=\"129\" x=\"20\" y=\"20.9951\">ConjugationTest</text></a><!--MD5=[b4997ac47864f28c2f74865a473b2911]\n",
       "class E2--><a href=\"psysml:eee324b7-6ef1-4f74-bb85-9d01b884a0c3\" target=\"_top\" title=\"psysml:eee324b7-6ef1-4f74-bb85-9d01b884a0c3\" xlink:actuate=\"onRequest\" xlink:href=\"psysml:eee324b7-6ef1-4f74-bb85-9d01b884a0c3\" xlink:show=\"new\" xlink:title=\"psysml:eee324b7-6ef1-4f74-bb85-9d01b884a0c3\" xlink:type=\"simple\"><rect fill=\"#FEFECE\" filter=\"url(#f1fciu5bci34sa)\" height=\"45.9375\" id=\"E2\" style=\"stroke: #A80036; stroke-width: 1.5;\" width=\"66\" x=\"510\" y=\"62\"/><text fill=\"#000000\" font-family=\"sans-serif\" font-size=\"12\" font-style=\"italic\" lengthAdjust=\"spacingAndGlyphs\" textLength=\"64\" x=\"511\" y=\"78.1387\">«port def»</text><text fill=\"#000000\" font-family=\"sans-serif\" font-size=\"12\" lengthAdjust=\"spacingAndGlyphs\" textLength=\"8\" x=\"539\" y=\"92.1074\">P</text><line style=\"stroke: #A80036; stroke-width: 1.5;\" x1=\"511\" x2=\"575\" y1=\"99.9375\" y2=\"99.9375\"/></a><!--MD5=[09b614a08d8cba4a07c9adeb5e0fee81]\n",
       "class E3--><a href=\"psysml:987ad9e8-156c-405b-94a5-0234bd5ef961\" target=\"_top\" title=\"psysml:987ad9e8-156c-405b-94a5-0234bd5ef961\" xlink:actuate=\"onRequest\" xlink:href=\"psysml:987ad9e8-156c-405b-94a5-0234bd5ef961\" xlink:show=\"new\" xlink:title=\"psysml:987ad9e8-156c-405b-94a5-0234bd5ef961\" xlink:type=\"simple\"><rect fill=\"#FEFECE\" filter=\"url(#f1fciu5bci34sa)\" height=\"88.3516\" id=\"E3\" style=\"stroke: #A80036; stroke-width: 1.5;\" width=\"66\" x=\"409\" y=\"41\"/><text fill=\"#000000\" font-family=\"sans-serif\" font-size=\"12\" font-style=\"italic\" lengthAdjust=\"spacingAndGlyphs\" textLength=\"64\" x=\"410\" y=\"57.1387\">«part def»</text><text fill=\"#000000\" font-family=\"sans-serif\" font-size=\"12\" lengthAdjust=\"spacingAndGlyphs\" textLength=\"8\" x=\"438\" y=\"71.1074\">B</text><line style=\"stroke: #A80036; stroke-width: 1.5;\" x1=\"410\" x2=\"474\" y1=\"78.9375\" y2=\"78.9375\"/><text fill=\"#000000\" font-family=\"sans-serif\" font-size=\"11\" lengthAdjust=\"spacingAndGlyphs\" textLength=\"29\" x=\"415\" y=\"109.9526\">p1: P</text><text fill=\"#000000\" font-family=\"sans-serif\" font-size=\"11\" lengthAdjust=\"spacingAndGlyphs\" textLength=\"38\" x=\"415\" y=\"122.7573\">p2: ~P</text><line style=\"stroke: #A80036; stroke-width: 1.0;\" x1=\"410\" x2=\"427\" y1=\"93.3398\" y2=\"93.3398\"/><text fill=\"#000000\" font-family=\"sans-serif\" font-size=\"11\" lengthAdjust=\"spacingAndGlyphs\" textLength=\"30\" x=\"427\" y=\"96.6479\">ports</text><line style=\"stroke: #A80036; stroke-width: 1.0;\" x1=\"457\" x2=\"474\" y1=\"93.3398\" y2=\"93.3398\"/></a><!--MD5=[60a26617385b1d2d0262a64233df1f8d]\n",
       "class E6--><a href=\"psysml:d4b825d6-e011-4f07-a399-999db6b99ea3\" target=\"_top\" title=\"psysml:d4b825d6-e011-4f07-a399-999db6b99ea3\" xlink:actuate=\"onRequest\" xlink:href=\"psysml:d4b825d6-e011-4f07-a399-999db6b99ea3\" xlink:show=\"new\" xlink:title=\"psysml:d4b825d6-e011-4f07-a399-999db6b99ea3\" xlink:type=\"simple\"><rect fill=\"#FEFECE\" filter=\"url(#f1fciu5bci34sa)\" height=\"88.3516\" id=\"E6\" style=\"stroke: #A80036; stroke-width: 1.5;\" width=\"110\" x=\"264\" y=\"41\"/><text fill=\"#000000\" font-family=\"sans-serif\" font-size=\"12\" font-style=\"italic\" lengthAdjust=\"spacingAndGlyphs\" textLength=\"108\" x=\"265\" y=\"57.1387\">«connection def»</text><text fill=\"#000000\" font-family=\"sans-serif\" font-size=\"12\" lengthAdjust=\"spacingAndGlyphs\" textLength=\"8\" x=\"315\" y=\"71.1074\">A</text><line style=\"stroke: #A80036; stroke-width: 1.5;\" x1=\"265\" x2=\"373\" y1=\"78.9375\" y2=\"78.9375\"/><text fill=\"#000000\" font-family=\"sans-serif\" font-size=\"11\" lengthAdjust=\"spacingAndGlyphs\" textLength=\"29\" x=\"270\" y=\"109.9526\">p1: P</text><text fill=\"#000000\" font-family=\"sans-serif\" font-size=\"11\" lengthAdjust=\"spacingAndGlyphs\" textLength=\"38\" x=\"270\" y=\"122.7573\">p2: ~P</text><line style=\"stroke: #A80036; stroke-width: 1.0;\" x1=\"265\" x2=\"304\" y1=\"93.3398\" y2=\"93.3398\"/><text fill=\"#000000\" font-family=\"sans-serif\" font-size=\"11\" lengthAdjust=\"spacingAndGlyphs\" textLength=\"30\" x=\"304\" y=\"96.6479\">ports</text><line style=\"stroke: #A80036; stroke-width: 1.0;\" x1=\"334\" x2=\"373\" y1=\"93.3398\" y2=\"93.3398\"/></a><!--MD5=[fd4143e9d270a159db93a4ea2a975926]\n",
       "class E9--><a href=\"psysml:0fcf03a3-0a94-497d-adc5-5270b49e59d7\" target=\"_top\" title=\"psysml:0fcf03a3-0a94-497d-adc5-5270b49e59d7\" xlink:actuate=\"onRequest\" xlink:href=\"psysml:0fcf03a3-0a94-497d-adc5-5270b49e59d7\" xlink:show=\"new\" xlink:title=\"psysml:0fcf03a3-0a94-497d-adc5-5270b49e59d7\" xlink:type=\"simple\"><rect fill=\"#FEFECE\" filter=\"url(#f1fciu5bci34sa)\" height=\"88.3516\" id=\"E9\" style=\"stroke: #A80036; stroke-width: 1.5;\" width=\"96\" x=\"133\" y=\"41\"/><text fill=\"#000000\" font-family=\"sans-serif\" font-size=\"12\" font-style=\"italic\" lengthAdjust=\"spacingAndGlyphs\" textLength=\"94\" x=\"134\" y=\"57.1387\">«interface def»</text><text fill=\"#000000\" font-family=\"sans-serif\" font-size=\"12\" lengthAdjust=\"spacingAndGlyphs\" textLength=\"3\" x=\"179.5\" y=\"71.1074\">I</text><line style=\"stroke: #A80036; stroke-width: 1.5;\" x1=\"134\" x2=\"228\" y1=\"78.9375\" y2=\"78.9375\"/><text fill=\"#000000\" font-family=\"sans-serif\" font-size=\"11\" lengthAdjust=\"spacingAndGlyphs\" textLength=\"29\" x=\"139\" y=\"109.9526\">p1: P</text><text fill=\"#000000\" font-family=\"sans-serif\" font-size=\"11\" lengthAdjust=\"spacingAndGlyphs\" textLength=\"38\" x=\"139\" y=\"122.7573\">p2: ~P</text><line style=\"stroke: #A80036; stroke-width: 1.0;\" x1=\"134\" x2=\"166\" y1=\"93.3398\" y2=\"93.3398\"/><text fill=\"#000000\" font-family=\"sans-serif\" font-size=\"11\" lengthAdjust=\"spacingAndGlyphs\" textLength=\"30\" x=\"166\" y=\"96.6479\">ports</text><line style=\"stroke: #A80036; stroke-width: 1.0;\" x1=\"196\" x2=\"228\" y1=\"93.3398\" y2=\"93.3398\"/></a><!--MD5=[49a0ec8f00dab7302a31f22d0f0fe584]\n",
       "class E12--><a href=\"psysml:fa47a610-a800-429f-b665-228f1e266500\" target=\"_top\" title=\"psysml:fa47a610-a800-429f-b665-228f1e266500\" xlink:actuate=\"onRequest\" xlink:href=\"psysml:fa47a610-a800-429f-b665-228f1e266500\" xlink:show=\"new\" xlink:title=\"psysml:fa47a610-a800-429f-b665-228f1e266500\" xlink:type=\"simple\"><rect fill=\"#FEFECE\" filter=\"url(#f1fciu5bci34sa)\" height=\"45.9375\" id=\"E12\" style=\"stroke: #A80036; stroke-width: 1.5;\" width=\"66\" x=\"32\" y=\"62\"/><text fill=\"#000000\" font-family=\"sans-serif\" font-size=\"12\" font-style=\"italic\" lengthAdjust=\"spacingAndGlyphs\" textLength=\"64\" x=\"33\" y=\"78.1387\">«part def»</text><text fill=\"#000000\" font-family=\"sans-serif\" font-size=\"12\" lengthAdjust=\"spacingAndGlyphs\" textLength=\"16\" x=\"57\" y=\"92.1074\">B1</text><line style=\"stroke: #A80036; stroke-width: 1.5;\" x1=\"33\" x2=\"97\" y1=\"99.9375\" y2=\"99.9375\"/></a><!--MD5=[ee3c913d1a06f366521f9ef512b67efe]\n",
       "class E13--><a href=\"psysml:593a6524-9b3f-4082-a23e-8ed96ff9a715\" target=\"_top\" title=\"psysml:593a6524-9b3f-4082-a23e-8ed96ff9a715\" xlink:actuate=\"onRequest\" xlink:href=\"psysml:593a6524-9b3f-4082-a23e-8ed96ff9a715\" xlink:show=\"new\" xlink:title=\"psysml:593a6524-9b3f-4082-a23e-8ed96ff9a715\" xlink:type=\"simple\"><rect fill=\"#FEFECE\" filter=\"url(#f1fciu5bci34sa)\" height=\"88.3516\" id=\"E13\" rx=\"10\" ry=\"10\" style=\"stroke: #A80036; stroke-width: 1.5;\" width=\"50\" x=\"40\" y=\"189\"/><text fill=\"#000000\" font-family=\"sans-serif\" font-size=\"12\" font-style=\"italic\" lengthAdjust=\"spacingAndGlyphs\" textLength=\"40\" x=\"45\" y=\"205.1387\">«part»</text><text fill=\"#000000\" font-family=\"sans-serif\" font-size=\"12\" lengthAdjust=\"spacingAndGlyphs\" textLength=\"8\" x=\"61\" y=\"219.1074\">p</text><line style=\"stroke: #A80036; stroke-width: 1.5;\" x1=\"41\" x2=\"89\" y1=\"226.9375\" y2=\"226.9375\"/><text fill=\"#000000\" font-family=\"sans-serif\" font-size=\"11\" lengthAdjust=\"spacingAndGlyphs\" textLength=\"29\" x=\"46\" y=\"257.9526\">p1: P</text><text fill=\"#000000\" font-family=\"sans-serif\" font-size=\"11\" lengthAdjust=\"spacingAndGlyphs\" textLength=\"38\" x=\"46\" y=\"270.7573\">p2: ~P</text><line style=\"stroke: #A80036; stroke-width: 1.0;\" x1=\"41\" x2=\"50\" y1=\"241.3398\" y2=\"241.3398\"/><text fill=\"#000000\" font-family=\"sans-serif\" font-size=\"11\" lengthAdjust=\"spacingAndGlyphs\" textLength=\"30\" x=\"50\" y=\"244.6479\">ports</text><line style=\"stroke: #A80036; stroke-width: 1.0;\" x1=\"80\" x2=\"89\" y1=\"241.3398\" y2=\"241.3398\"/></a><!--MD5=[062ed86c389d1a88f61c6380d0491e17]\n",
       "reverse link E12 to E13--><a href=\"psysml:593a6524-9b3f-4082-a23e-8ed96ff9a715\" target=\"_top\" title=\"psysml:593a6524-9b3f-4082-a23e-8ed96ff9a715\" xlink:actuate=\"onRequest\" xlink:href=\"psysml:593a6524-9b3f-4082-a23e-8ed96ff9a715\" xlink:show=\"new\" xlink:title=\"psysml:593a6524-9b3f-4082-a23e-8ed96ff9a715\" xlink:type=\"simple\"><path d=\"M65,121.25 C65,141.54 65,167.2 65,188.71 \" fill=\"none\" id=\"E12&lt;-E13\" style=\"stroke: #A80036; stroke-width: 1.0;\"/><polygon fill=\"#A80036\" points=\"65,108.17,61,114.17,65,120.17,69,114.17,65,108.17\" style=\"stroke: #A80036; stroke-width: 1.0;\"/></a><!--MD5=[390c023e9b4792443a1e55562d79b224]\n",
       "@startuml\r\n",
       "skinparam wrapWidth 300\r\n",
       "hide circle\r\n",
       "\r\n",
       "package \"ConjugationTest\" as E1  [[psysml:db7199af-e574-4214-8b26-5aef0dbbdb0a ]]  {\r\n",
       "comp def \"P\" as E2  <<(T,blue)port def>> [[psysml:eee324b7-6ef1-4f74-bb85-9d01b884a0c3 ]] {\r\n",
       "}\r\n",
       "comp def \"B\" as E3  <<(T,blue)part def>> [[psysml:987ad9e8-156c-405b-94a5-0234bd5ef961 ]] {\r\n",
       "- - ports - -\r\n",
       "p1: P\r\n",
       "p2: ~P\r\n",
       "}\r\n",
       "comp def \"A\" as E6  <<(T,blue)connection def>> [[psysml:d4b825d6-e011-4f07-a399-999db6b99ea3 ]] {\r\n",
       "- - ports - -\r\n",
       "p1: P\r\n",
       "p2: ~P\r\n",
       "}\r\n",
       "comp def \"I\" as E9  <<(T,blue)interface def>> [[psysml:0fcf03a3-0a94-497d-adc5-5270b49e59d7 ]] {\r\n",
       "- - ports - -\r\n",
       "p1: P\r\n",
       "p2: ~P\r\n",
       "}\r\n",
       "comp def \"B1\" as E12  <<(T,blue)part def>> [[psysml:fa47a610-a800-429f-b665-228f1e266500 ]] {\r\n",
       "}\r\n",
       "comp usage \"p\" as E13  <<(T,blue)part>> [[psysml:593a6524-9b3f-4082-a23e-8ed96ff9a715 ]] {\r\n",
       "- - ports - -\r\n",
       "p1: P\r\n",
       "p2: ~P\r\n",
       "}\r\n",
       "E12 *- - E13 [[psysml:593a6524-9b3f-4082-a23e-8ed96ff9a715 ]] \r\n",
       "}\r\n",
       "@enduml\r\n",
       "\n",
       "PlantUML version 1.2020.13(Sat Jun 13 12:26:38 UTC 2020)\n",
       "(EPL source distribution)\n",
       "Java Runtime: OpenJDK Runtime Environment\n",
       "JVM: OpenJDK 64-Bit Server VM\n",
       "Default Encoding: UTF-8\n",
       "Language: en\n",
       "Country: null\n",
       "--></g></svg>"
      ]
     },
     "execution_count": 24,
     "metadata": {},
     "output_type": "execute_result"
    }
   ],
   "source": [
    "%viz --style=\"STDCOLOR\" --view=\"Tree\" \"ConjugationTest\""
   ]
  },
  {
   "cell_type": "code",
   "execution_count": 25,
   "id": "medical-prior",
   "metadata": {
    "execution": {
     "iopub.execute_input": "2021-03-25T13:18:50.453819Z",
     "iopub.status.busy": "2021-03-25T13:18:50.452266Z",
     "iopub.status.idle": "2021-03-25T13:18:50.459294Z",
     "shell.execute_reply": "2021-03-25T13:18:50.458952Z"
    }
   },
   "outputs": [
    {
     "data": {
      "image/svg+xml": [
       "<?xml version=\"1.0\" encoding=\"UTF-8\" standalone=\"no\"?><svg xmlns=\"http://www.w3.org/2000/svg\" xmlns:xlink=\"http://www.w3.org/1999/xlink\" contentScriptType=\"application/ecmascript\" contentStyleType=\"text/css\" height=\"12px\" preserveAspectRatio=\"none\" style=\"width:12px;height:12px;\" version=\"1.1\" viewBox=\"0 0 12 12\" width=\"12px\" zoomAndPan=\"magnify\"><defs/><g><!--MD5=[aeeef50f102b80d730deb6443d14f702]\n",
       "@startuml\r\n",
       "skinparam wrapWidth 300\r\n",
       "hide circle\r\n",
       "\r\n",
       "@enduml\r\n",
       "\n",
       "PlantUML version 1.2020.13(Sat Jun 13 12:26:38 UTC 2020)\n",
       "(EPL source distribution)\n",
       "Java Runtime: OpenJDK Runtime Environment\n",
       "JVM: OpenJDK 64-Bit Server VM\n",
       "Default Encoding: UTF-8\n",
       "Language: en\n",
       "Country: null\n",
       "--></g></svg>"
      ]
     },
     "execution_count": 25,
     "metadata": {},
     "output_type": "execute_result"
    }
   ],
   "source": [
    "%viz --style=\"STDCOLOR\" --view=\"State\" \"ConjugationTest\""
   ]
  },
  {
   "cell_type": "code",
   "execution_count": 26,
   "id": "expected-huntington",
   "metadata": {
    "execution": {
     "iopub.execute_input": "2021-03-25T13:18:50.509246Z",
     "iopub.status.busy": "2021-03-25T13:18:50.508813Z",
     "iopub.status.idle": "2021-03-25T13:18:50.712820Z",
     "shell.execute_reply": "2021-03-25T13:18:50.713254Z"
    }
   },
   "outputs": [
    {
     "data": {
      "image/svg+xml": [
       "<?xml version=\"1.0\" encoding=\"UTF-8\" standalone=\"no\"?><svg xmlns=\"http://www.w3.org/2000/svg\" xmlns:xlink=\"http://www.w3.org/1999/xlink\" contentScriptType=\"application/ecmascript\" contentStyleType=\"text/css\" height=\"246px\" preserveAspectRatio=\"none\" style=\"width:739px;height:246px;\" version=\"1.1\" viewBox=\"0 0 739 246\" width=\"739px\" zoomAndPan=\"magnify\"><defs><filter height=\"300%\" id=\"f1c63j18caycj8\" width=\"300%\" x=\"-1\" y=\"-1\"><feGaussianBlur result=\"blurOut\" stdDeviation=\"2.0\"/><feColorMatrix in=\"blurOut\" result=\"blurOut2\" type=\"matrix\" values=\"0 0 0 0 0 0 0 0 0 0 0 0 0 0 0 0 0 0 .4 0\"/><feOffset dx=\"4.0\" dy=\"4.0\" in=\"blurOut2\" result=\"blurOut3\"/><feBlend in=\"SourceGraphic\" in2=\"blurOut3\" mode=\"normal\"/></filter></defs><g><!--MD5=[fbc87193dbaf4d95561dea2c320d4a47]\n",
       "cluster E1--><a href=\"psysml:db7199af-e574-4214-8b26-5aef0dbbdb0a\" target=\"_top\" title=\"psysml:db7199af-e574-4214-8b26-5aef0dbbdb0a\" xlink:actuate=\"onRequest\" xlink:href=\"psysml:db7199af-e574-4214-8b26-5aef0dbbdb0a\" xlink:show=\"new\" xlink:title=\"psysml:db7199af-e574-4214-8b26-5aef0dbbdb0a\" xlink:type=\"simple\"><polygon fill=\"#FFFFFF\" filter=\"url(#f1c63j18caycj8)\" points=\"16,6,151,6,158,28.2969,717,28.2969,717,234.5,16,234.5,16,6\" style=\"stroke: #000000; stroke-width: 1.5;\"/><line style=\"stroke: #000000; stroke-width: 1.5;\" x1=\"16\" x2=\"158\" y1=\"28.2969\" y2=\"28.2969\"/><text fill=\"#000000\" font-family=\"sans-serif\" font-size=\"14\" font-weight=\"bold\" lengthAdjust=\"spacingAndGlyphs\" textLength=\"129\" x=\"20\" y=\"20.9951\">ConjugationTest</text></a><!--MD5=[d5e69f78d87373223dbae638b30a9c99]\n",
       "cluster E3--><a href=\"psysml:987ad9e8-156c-405b-94a5-0234bd5ef961\" target=\"_top\" title=\"psysml:987ad9e8-156c-405b-94a5-0234bd5ef961\" xlink:actuate=\"onRequest\" xlink:href=\"psysml:987ad9e8-156c-405b-94a5-0234bd5ef961\" xlink:show=\"new\" xlink:title=\"psysml:987ad9e8-156c-405b-94a5-0234bd5ef961\" xlink:type=\"simple\"><rect fill=\"#FFFFFF\" filter=\"url(#f1c63j18caycj8)\" height=\"88.5\" id=\"E3\" style=\"stroke: #A80036; stroke-width: 1.5;\" width=\"83\" x=\"577\" y=\"114\"/><rect fill=\"#FEFECE\" height=\"37.9375\" style=\"stroke: #A80036; stroke-width: 1.5;\" width=\"83\" x=\"577\" y=\"114\"/><text fill=\"#000000\" font-family=\"sans-serif\" font-size=\"12\" font-style=\"italic\" lengthAdjust=\"spacingAndGlyphs\" textLength=\"64\" x=\"586.5\" y=\"130.1387\">«part def»</text><text fill=\"#000000\" font-family=\"sans-serif\" font-size=\"12\" lengthAdjust=\"spacingAndGlyphs\" textLength=\"8\" x=\"614.5\" y=\"144.1074\">B</text></a><!--MD5=[14e3b0961a2654348d326746436168a1]\n",
       "cluster E6--><a href=\"psysml:d4b825d6-e011-4f07-a399-999db6b99ea3\" target=\"_top\" title=\"psysml:d4b825d6-e011-4f07-a399-999db6b99ea3\" xlink:actuate=\"onRequest\" xlink:href=\"psysml:d4b825d6-e011-4f07-a399-999db6b99ea3\" xlink:show=\"new\" xlink:title=\"psysml:d4b825d6-e011-4f07-a399-999db6b99ea3\" xlink:type=\"simple\"><rect fill=\"#FFFFFF\" filter=\"url(#f1c63j18caycj8)\" height=\"88.5\" id=\"E6\" style=\"stroke: #A80036; stroke-width: 1.5;\" width=\"150\" x=\"423\" y=\"114\"/><rect fill=\"#FEFECE\" height=\"37.9375\" style=\"stroke: #A80036; stroke-width: 1.5;\" width=\"150\" x=\"423\" y=\"114\"/><text fill=\"#000000\" font-family=\"sans-serif\" font-size=\"12\" font-style=\"italic\" lengthAdjust=\"spacingAndGlyphs\" textLength=\"108\" x=\"444\" y=\"130.1387\">«connection def»</text><text fill=\"#000000\" font-family=\"sans-serif\" font-size=\"12\" lengthAdjust=\"spacingAndGlyphs\" textLength=\"8\" x=\"494\" y=\"144.1074\">A</text></a><!--MD5=[7f149f147074ac12df2cb0a7728a5fb0]\n",
       "cluster E9--><a href=\"psysml:0fcf03a3-0a94-497d-adc5-5270b49e59d7\" target=\"_top\" title=\"psysml:0fcf03a3-0a94-497d-adc5-5270b49e59d7\" xlink:actuate=\"onRequest\" xlink:href=\"psysml:0fcf03a3-0a94-497d-adc5-5270b49e59d7\" xlink:show=\"new\" xlink:title=\"psysml:0fcf03a3-0a94-497d-adc5-5270b49e59d7\" xlink:type=\"simple\"><rect fill=\"#FFFFFF\" filter=\"url(#f1c63j18caycj8)\" height=\"88.5\" id=\"E9\" style=\"stroke: #A80036; stroke-width: 1.5;\" width=\"141\" x=\"254\" y=\"114\"/><rect fill=\"#FEFECE\" height=\"37.9375\" style=\"stroke: #A80036; stroke-width: 1.5;\" width=\"141\" x=\"254\" y=\"114\"/><text fill=\"#000000\" font-family=\"sans-serif\" font-size=\"12\" font-style=\"italic\" lengthAdjust=\"spacingAndGlyphs\" textLength=\"94\" x=\"277.5\" y=\"130.1387\">«interface def»</text><text fill=\"#000000\" font-family=\"sans-serif\" font-size=\"12\" lengthAdjust=\"spacingAndGlyphs\" textLength=\"3\" x=\"323\" y=\"144.1074\">I</text></a><!--MD5=[47bea60c1a0ac6c1143df232041969c0]\n",
       "cluster E12--><a href=\"psysml:fa47a610-a800-429f-b665-228f1e266500\" target=\"_top\" title=\"psysml:fa47a610-a800-429f-b665-228f1e266500\" xlink:actuate=\"onRequest\" xlink:href=\"psysml:fa47a610-a800-429f-b665-228f1e266500\" xlink:show=\"new\" xlink:title=\"psysml:fa47a610-a800-429f-b665-228f1e266500\" xlink:type=\"simple\"><rect fill=\"#FFFFFF\" filter=\"url(#f1c63j18caycj8)\" height=\"161.5\" id=\"E12\" style=\"stroke: #A80036; stroke-width: 1.5;\" width=\"107\" x=\"120\" y=\"49\"/><rect fill=\"#FEFECE\" height=\"37.9375\" style=\"stroke: #A80036; stroke-width: 1.5;\" width=\"107\" x=\"120\" y=\"49\"/><text fill=\"#000000\" font-family=\"sans-serif\" font-size=\"12\" font-style=\"italic\" lengthAdjust=\"spacingAndGlyphs\" textLength=\"64\" x=\"141.5\" y=\"65.1387\">«part def»</text><text fill=\"#000000\" font-family=\"sans-serif\" font-size=\"12\" lengthAdjust=\"spacingAndGlyphs\" textLength=\"16\" x=\"165.5\" y=\"79.1074\">B1</text></a><!--MD5=[03104f77b71e2d8d3500c651e6e31181]\n",
       "cluster E13--><a href=\"psysml:593a6524-9b3f-4082-a23e-8ed96ff9a715\" target=\"_top\" title=\"psysml:593a6524-9b3f-4082-a23e-8ed96ff9a715\" xlink:actuate=\"onRequest\" xlink:href=\"psysml:593a6524-9b3f-4082-a23e-8ed96ff9a715\" xlink:show=\"new\" xlink:title=\"psysml:593a6524-9b3f-4082-a23e-8ed96ff9a715\" xlink:type=\"simple\"><rect fill=\"#FFFFFF\" filter=\"url(#f1c63j18caycj8)\" height=\"80.5\" id=\"E13\" rx=\"10\" ry=\"10\" style=\"stroke: #A80036; stroke-width: 1.5;\" width=\"83\" x=\"132\" y=\"114\"/><rect fill=\"#FEFECE\" height=\"23.9688\" rx=\"10\" ry=\"10\" style=\"stroke: #FEFECE; stroke-width: 1.5;\" width=\"83\" x=\"132\" y=\"114\"/><rect fill=\"#FEFECE\" height=\"10\" style=\"stroke: #FEFECE; stroke-width: 1.5;\" width=\"83\" x=\"132\" y=\"127.9688\"/><rect fill=\"none\" height=\"80.5\" id=\"E13\" rx=\"10\" ry=\"10\" style=\"stroke: #A80036; stroke-width: 1.5;\" width=\"83\" x=\"132\" y=\"114\"/><text fill=\"#000000\" font-family=\"sans-serif\" font-size=\"12\" lengthAdjust=\"spacingAndGlyphs\" textLength=\"8\" x=\"169.5\" y=\"130.1387\">p</text><line style=\"stroke: #A80036; stroke-width: 1.0;\" x1=\"132\" x2=\"215\" y1=\"137.9688\" y2=\"137.9688\"/></a><g id=\"E1.E2\"><a href=\"psysml:eee324b7-6ef1-4f74-bb85-9d01b884a0c3\" target=\"_top\" title=\"psysml:eee324b7-6ef1-4f74-bb85-9d01b884a0c3\" xlink:actuate=\"onRequest\" xlink:href=\"psysml:eee324b7-6ef1-4f74-bb85-9d01b884a0c3\" xlink:show=\"new\" xlink:title=\"psysml:eee324b7-6ef1-4f74-bb85-9d01b884a0c3\" xlink:type=\"simple\"><rect fill=\"#FEFECE\" filter=\"url(#f1c63j18caycj8)\" height=\"42.9375\" id=\"E2\" style=\"stroke: #A80036; stroke-width: 1.5;\" width=\"71\" x=\"32.5\" y=\"92.5\"/><text fill=\"#000000\" font-family=\"sans-serif\" font-size=\"12\" font-style=\"italic\" lengthAdjust=\"spacingAndGlyphs\" textLength=\"64\" x=\"36\" y=\"108.6387\">«port def»</text><text fill=\"#000000\" font-family=\"sans-serif\" font-size=\"12\" lengthAdjust=\"spacingAndGlyphs\" textLength=\"8\" x=\"64\" y=\"122.6074\">P</text></a></g><text fill=\"#000000\" font-family=\"sans-serif\" font-size=\"14\" lengthAdjust=\"spacingAndGlyphs\" textLength=\"36\" x=\"577\" y=\"92.6982\">p1: P</text><rect fill=\"#A80036\" height=\"12\" style=\"stroke: #FEFECE; stroke-width: 1.5;\" width=\"12\" x=\"589\" y=\"108\"/><text fill=\"#000000\" font-family=\"sans-serif\" font-size=\"14\" lengthAdjust=\"spacingAndGlyphs\" textLength=\"48\" x=\"618\" y=\"92.6982\">p2: ~P</text><rect fill=\"#A80036\" height=\"12\" style=\"stroke: #FEFECE; stroke-width: 1.5;\" width=\"12\" x=\"636\" y=\"108\"/><text fill=\"#000000\" font-family=\"sans-serif\" font-size=\"14\" lengthAdjust=\"spacingAndGlyphs\" textLength=\"36\" x=\"423\" y=\"92.6982\">p1: P</text><rect fill=\"#A80036\" height=\"12\" style=\"stroke: #FEFECE; stroke-width: 1.5;\" width=\"12\" x=\"435\" y=\"108\"/><text fill=\"#000000\" font-family=\"sans-serif\" font-size=\"14\" lengthAdjust=\"spacingAndGlyphs\" textLength=\"48\" x=\"464\" y=\"92.6982\">p2: ~P</text><rect fill=\"#A80036\" height=\"12\" style=\"stroke: #FEFECE; stroke-width: 1.5;\" width=\"12\" x=\"482\" y=\"108\"/><text fill=\"#000000\" font-family=\"sans-serif\" font-size=\"14\" lengthAdjust=\"spacingAndGlyphs\" textLength=\"36\" x=\"254\" y=\"92.6982\">p1: P</text><rect fill=\"#A80036\" height=\"12\" style=\"stroke: #FEFECE; stroke-width: 1.5;\" width=\"12\" x=\"266\" y=\"108\"/><text fill=\"#000000\" font-family=\"sans-serif\" font-size=\"14\" lengthAdjust=\"spacingAndGlyphs\" textLength=\"48\" x=\"295\" y=\"92.6982\">p2: ~P</text><rect fill=\"#A80036\" height=\"12\" style=\"stroke: #FEFECE; stroke-width: 1.5;\" width=\"12\" x=\"313\" y=\"108\"/><text fill=\"#000000\" font-family=\"sans-serif\" font-size=\"14\" lengthAdjust=\"spacingAndGlyphs\" textLength=\"36\" x=\"132\" y=\"92.6982\">p1: P</text><rect fill=\"#A80036\" height=\"12\" style=\"stroke: #FEFECE; stroke-width: 1.5;\" width=\"12\" x=\"144\" y=\"108\"/><text fill=\"#000000\" font-family=\"sans-serif\" font-size=\"14\" lengthAdjust=\"spacingAndGlyphs\" textLength=\"48\" x=\"173\" y=\"92.6982\">p2: ~P</text><rect fill=\"#A80036\" height=\"12\" style=\"stroke: #FEFECE; stroke-width: 1.5;\" width=\"12\" x=\"191\" y=\"108\"/><!--MD5=[4ce51ac6fa4cf5202df3859e2718f033]\n",
       "link E15 to E14--><a href=\"psysml:aa2d6f76-4132-425f-9826-f18a4b0e5493\" target=\"_top\" title=\"psysml:aa2d6f76-4132-425f-9826-f18a4b0e5493\" xlink:actuate=\"onRequest\" xlink:href=\"psysml:aa2d6f76-4132-425f-9826-f18a4b0e5493\" xlink:show=\"new\" xlink:title=\"psysml:aa2d6f76-4132-425f-9826-f18a4b0e5493\" xlink:type=\"simple\"><path d=\"M190.95,114 C179.38,114 167.81,114 156.24,114 \" fill=\"none\" id=\"E15-E14\" style=\"stroke: #A80036; stroke-width: 3.0;\"/></a><!--MD5=[4ce51ac6fa4cf5202df3859e2718f033]\n",
       "link E15 to E14--><a href=\"psysml:7b87a1ef-cf2b-4c9e-a130-c1b402d1e385\" target=\"_top\" title=\"psysml:7b87a1ef-cf2b-4c9e-a130-c1b402d1e385\" xlink:actuate=\"onRequest\" xlink:href=\"psysml:7b87a1ef-cf2b-4c9e-a130-c1b402d1e385\" xlink:show=\"new\" xlink:title=\"psysml:7b87a1ef-cf2b-4c9e-a130-c1b402d1e385\" xlink:type=\"simple\"><path d=\"M190.95,111.98 C179.38,108.69 167.81,108.67 156.24,111.93 \" fill=\"none\" id=\"E15-E14-1\" style=\"stroke: #A80036; stroke-width: 3.0;\"/></a><!--MD5=[c9927a90dd71fd0d4e1ccf2c64fa3640]\n",
       "@startuml\r\n",
       "skinparam ranksep 8\r\n",
       "skinparam rectangle {\r\n",
       " backgroundColor<<block>> LightGreen\r\n",
       "}\r\n",
       "skinparam wrapWidth 300\r\n",
       "hide circle\r\n",
       "\r\n",
       "package \"ConjugationTest\" as E1  [[psysml:db7199af-e574-4214-8b26-5aef0dbbdb0a ]]  {\r\n",
       "def \"P\" as E2  <<(T,blue)port def>> [[psysml:eee324b7-6ef1-4f74-bb85-9d01b884a0c3 ]] \r\n",
       "rec def \"B\" as E3  <<(T,blue)part def>> [[psysml:987ad9e8-156c-405b-94a5-0234bd5ef961 ]] {\r\n",
       "portin \"p1: P\" as E4  <<(T,blue)port>> [[psysml:c8a4d081-7853-4f87-8688-3b004d6601fe ]] \r\n",
       "portin \"p2: ~P\" as E5  <<(T,blue)port>> [[psysml:93d25d87-d8ba-4a14-9054-622c501a7419 ]] \r\n",
       "}\r\n",
       "rec def \"A\" as E6  <<(T,blue)connection def>> [[psysml:d4b825d6-e011-4f07-a399-999db6b99ea3 ]] {\r\n",
       "portin \"p1: P\" as E7  <<(T,blue)port>> [[psysml:cf23f925-3ac9-40f7-8eb9-75cb926494bb ]] \r\n",
       "portin \"p2: ~P\" as E8  <<(T,blue)port>> [[psysml:78e860a1-2afe-4044-9ab4-1ebbe08f7dad ]] \r\n",
       "}\r\n",
       "rec def \"I\" as E9  <<(T,blue)interface def>> [[psysml:0fcf03a3-0a94-497d-adc5-5270b49e59d7 ]] {\r\n",
       "portin \"p1: P\" as E10  <<(T,blue)port>> [[psysml:e29a1f34-1b36-49a6-a497-c0e94a31f076 ]] \r\n",
       "portin \"p2: ~P\" as E11  <<(T,blue)port>> [[psysml:b6345cdf-3536-4afa-a6d8-3c5d2219e138 ]] \r\n",
       "}\r\n",
       "rec def \"B1\" as E12  <<(T,blue)part def>> [[psysml:fa47a610-a800-429f-b665-228f1e266500 ]] {\r\n",
       "rec usage \"p\" as E13  [[psysml:593a6524-9b3f-4082-a23e-8ed96ff9a715 ]] {\r\n",
       "portin \"p1: P\" as E14  <<(T,blue)port>> [[psysml:a4f040c8-38a0-4d60-9c1e-4003131a919c ]] \r\n",
       "portin \"p2: ~P\" as E15  <<(T,blue)port>> [[psysml:661396c6-733f-4c07-bbb8-142725b64304 ]] \r\n",
       "}\r\n",
       "}\r\n",
       "E15 -[thickness=3]- E14 [[psysml:aa2d6f76-4132-425f-9826-f18a4b0e5493 ]] \r\n",
       "E15 -[thickness=3]- E14 [[psysml:7b87a1ef-cf2b-4c9e-a130-c1b402d1e385 ]] \r\n",
       "}\r\n",
       "@enduml\r\n",
       "\n",
       "PlantUML version 1.2020.13(Sat Jun 13 12:26:38 UTC 2020)\n",
       "(EPL source distribution)\n",
       "Java Runtime: OpenJDK Runtime Environment\n",
       "JVM: OpenJDK 64-Bit Server VM\n",
       "Default Encoding: UTF-8\n",
       "Language: en\n",
       "Country: null\n",
       "--></g></svg>"
      ]
     },
     "execution_count": 26,
     "metadata": {},
     "output_type": "execute_result"
    }
   ],
   "source": [
    "%viz --style=\"STDCOLOR\" --view=\"Interconnection\" \"ConjugationTest\""
   ]
  },
  {
   "cell_type": "code",
   "execution_count": 27,
   "id": "anticipated-admission",
   "metadata": {
    "execution": {
     "iopub.execute_input": "2021-03-25T13:18:50.763474Z",
     "iopub.status.busy": "2021-03-25T13:18:50.762956Z",
     "iopub.status.idle": "2021-03-25T13:18:50.771230Z",
     "shell.execute_reply": "2021-03-25T13:18:50.771815Z"
    }
   },
   "outputs": [
    {
     "data": {
      "image/svg+xml": [
       "<?xml version=\"1.0\" encoding=\"UTF-8\" standalone=\"no\"?><svg xmlns=\"http://www.w3.org/2000/svg\" xmlns:xlink=\"http://www.w3.org/1999/xlink\" contentScriptType=\"application/ecmascript\" contentStyleType=\"text/css\" height=\"12px\" preserveAspectRatio=\"none\" style=\"width:12px;height:12px;\" version=\"1.1\" viewBox=\"0 0 12 12\" width=\"12px\" zoomAndPan=\"magnify\"><defs/><g><!--MD5=[9863325348a96a77dacc89509d8ee65e]\n",
       "@startuml\r\n",
       "skinparam ranksep 8\r\n",
       "skinparam wrapWidth 300\r\n",
       "hide circle\r\n",
       "\r\n",
       "@enduml\r\n",
       "\n",
       "PlantUML version 1.2020.13(Sat Jun 13 12:26:38 UTC 2020)\n",
       "(EPL source distribution)\n",
       "Java Runtime: OpenJDK Runtime Environment\n",
       "JVM: OpenJDK 64-Bit Server VM\n",
       "Default Encoding: UTF-8\n",
       "Language: en\n",
       "Country: null\n",
       "--></g></svg>"
      ]
     },
     "execution_count": 27,
     "metadata": {},
     "output_type": "execute_result"
    }
   ],
   "source": [
    "%viz --style=\"STDCOLOR\" --view=\"Action\" \"ConjugationTest\""
   ]
  },
  {
   "cell_type": "code",
   "execution_count": 28,
   "id": "hungry-transformation",
   "metadata": {
    "execution": {
     "iopub.execute_input": "2021-03-25T13:18:50.822138Z",
     "iopub.status.busy": "2021-03-25T13:18:50.821493Z",
     "iopub.status.idle": "2021-03-25T13:18:51.563046Z",
     "shell.execute_reply": "2021-03-25T13:18:51.561740Z"
    }
   },
   "outputs": [
    {
     "data": {
      "image/svg+xml": [
       "<?xml version=\"1.0\" encoding=\"UTF-8\" standalone=\"no\"?><svg xmlns=\"http://www.w3.org/2000/svg\" xmlns:xlink=\"http://www.w3.org/1999/xlink\" contentScriptType=\"application/ecmascript\" contentStyleType=\"text/css\" height=\"305px\" preserveAspectRatio=\"none\" style=\"width:614px;height:305px;\" version=\"1.1\" viewBox=\"0 0 614 305\" width=\"614px\" zoomAndPan=\"magnify\"><defs><filter height=\"300%\" id=\"f1fciu5bci34sa\" width=\"300%\" x=\"-1\" y=\"-1\"><feGaussianBlur result=\"blurOut\" stdDeviation=\"2.0\"/><feColorMatrix in=\"blurOut\" result=\"blurOut2\" type=\"matrix\" values=\"0 0 0 0 0 0 0 0 0 0 0 0 0 0 0 0 0 0 .4 0\"/><feOffset dx=\"4.0\" dy=\"4.0\" in=\"blurOut2\" result=\"blurOut3\"/><feBlend in=\"SourceGraphic\" in2=\"blurOut3\" mode=\"normal\"/></filter></defs><g><!--MD5=[fbc87193dbaf4d95561dea2c320d4a47]\n",
       "cluster E1--><a href=\"psysml:db7199af-e574-4214-8b26-5aef0dbbdb0a\" target=\"_top\" title=\"psysml:db7199af-e574-4214-8b26-5aef0dbbdb0a\" xlink:actuate=\"onRequest\" xlink:href=\"psysml:db7199af-e574-4214-8b26-5aef0dbbdb0a\" xlink:show=\"new\" xlink:title=\"psysml:db7199af-e574-4214-8b26-5aef0dbbdb0a\" xlink:type=\"simple\"><polygon fill=\"#FFFFFF\" filter=\"url(#f1fciu5bci34sa)\" points=\"16,6,151,6,158,28.2969,592,28.2969,592,293,16,293,16,6\" style=\"stroke: #000000; stroke-width: 1.5;\"/><line style=\"stroke: #000000; stroke-width: 1.5;\" x1=\"16\" x2=\"158\" y1=\"28.2969\" y2=\"28.2969\"/><text fill=\"#000000\" font-family=\"sans-serif\" font-size=\"14\" font-weight=\"bold\" lengthAdjust=\"spacingAndGlyphs\" textLength=\"129\" x=\"20\" y=\"20.9951\">ConjugationTest</text></a><!--MD5=[b4997ac47864f28c2f74865a473b2911]\n",
       "class E2--><a href=\"psysml:eee324b7-6ef1-4f74-bb85-9d01b884a0c3\" target=\"_top\" title=\"psysml:eee324b7-6ef1-4f74-bb85-9d01b884a0c3\" xlink:actuate=\"onRequest\" xlink:href=\"psysml:eee324b7-6ef1-4f74-bb85-9d01b884a0c3\" xlink:show=\"new\" xlink:title=\"psysml:eee324b7-6ef1-4f74-bb85-9d01b884a0c3\" xlink:type=\"simple\"><rect fill=\"#FEFECE\" filter=\"url(#f1fciu5bci34sa)\" height=\"45.9375\" id=\"E2\" style=\"stroke: #A80036; stroke-width: 1.5;\" width=\"66\" x=\"510\" y=\"62\"/><text fill=\"#000000\" font-family=\"sans-serif\" font-size=\"12\" font-style=\"italic\" lengthAdjust=\"spacingAndGlyphs\" textLength=\"64\" x=\"511\" y=\"78.1387\">«port def»</text><text fill=\"#000000\" font-family=\"sans-serif\" font-size=\"12\" lengthAdjust=\"spacingAndGlyphs\" textLength=\"8\" x=\"539\" y=\"92.1074\">P</text><line style=\"stroke: #A80036; stroke-width: 1.5;\" x1=\"511\" x2=\"575\" y1=\"99.9375\" y2=\"99.9375\"/></a><!--MD5=[09b614a08d8cba4a07c9adeb5e0fee81]\n",
       "class E3--><a href=\"psysml:987ad9e8-156c-405b-94a5-0234bd5ef961\" target=\"_top\" title=\"psysml:987ad9e8-156c-405b-94a5-0234bd5ef961\" xlink:actuate=\"onRequest\" xlink:href=\"psysml:987ad9e8-156c-405b-94a5-0234bd5ef961\" xlink:show=\"new\" xlink:title=\"psysml:987ad9e8-156c-405b-94a5-0234bd5ef961\" xlink:type=\"simple\"><rect fill=\"#FEFECE\" filter=\"url(#f1fciu5bci34sa)\" height=\"88.3516\" id=\"E3\" style=\"stroke: #A80036; stroke-width: 1.5;\" width=\"66\" x=\"409\" y=\"41\"/><text fill=\"#000000\" font-family=\"sans-serif\" font-size=\"12\" font-style=\"italic\" lengthAdjust=\"spacingAndGlyphs\" textLength=\"64\" x=\"410\" y=\"57.1387\">«part def»</text><text fill=\"#000000\" font-family=\"sans-serif\" font-size=\"12\" lengthAdjust=\"spacingAndGlyphs\" textLength=\"8\" x=\"438\" y=\"71.1074\">B</text><line style=\"stroke: #A80036; stroke-width: 1.5;\" x1=\"410\" x2=\"474\" y1=\"78.9375\" y2=\"78.9375\"/><text fill=\"#000000\" font-family=\"sans-serif\" font-size=\"11\" lengthAdjust=\"spacingAndGlyphs\" textLength=\"29\" x=\"415\" y=\"109.9526\">p1: P</text><text fill=\"#000000\" font-family=\"sans-serif\" font-size=\"11\" lengthAdjust=\"spacingAndGlyphs\" textLength=\"38\" x=\"415\" y=\"122.7573\">p2: ~P</text><line style=\"stroke: #A80036; stroke-width: 1.0;\" x1=\"410\" x2=\"427\" y1=\"93.3398\" y2=\"93.3398\"/><text fill=\"#000000\" font-family=\"sans-serif\" font-size=\"11\" lengthAdjust=\"spacingAndGlyphs\" textLength=\"30\" x=\"427\" y=\"96.6479\">ports</text><line style=\"stroke: #A80036; stroke-width: 1.0;\" x1=\"457\" x2=\"474\" y1=\"93.3398\" y2=\"93.3398\"/></a><!--MD5=[60a26617385b1d2d0262a64233df1f8d]\n",
       "class E6--><a href=\"psysml:d4b825d6-e011-4f07-a399-999db6b99ea3\" target=\"_top\" title=\"psysml:d4b825d6-e011-4f07-a399-999db6b99ea3\" xlink:actuate=\"onRequest\" xlink:href=\"psysml:d4b825d6-e011-4f07-a399-999db6b99ea3\" xlink:show=\"new\" xlink:title=\"psysml:d4b825d6-e011-4f07-a399-999db6b99ea3\" xlink:type=\"simple\"><rect fill=\"#FEFECE\" filter=\"url(#f1fciu5bci34sa)\" height=\"88.3516\" id=\"E6\" style=\"stroke: #A80036; stroke-width: 1.5;\" width=\"110\" x=\"264\" y=\"41\"/><text fill=\"#000000\" font-family=\"sans-serif\" font-size=\"12\" font-style=\"italic\" lengthAdjust=\"spacingAndGlyphs\" textLength=\"108\" x=\"265\" y=\"57.1387\">«connection def»</text><text fill=\"#000000\" font-family=\"sans-serif\" font-size=\"12\" lengthAdjust=\"spacingAndGlyphs\" textLength=\"8\" x=\"315\" y=\"71.1074\">A</text><line style=\"stroke: #A80036; stroke-width: 1.5;\" x1=\"265\" x2=\"373\" y1=\"78.9375\" y2=\"78.9375\"/><text fill=\"#000000\" font-family=\"sans-serif\" font-size=\"11\" lengthAdjust=\"spacingAndGlyphs\" textLength=\"29\" x=\"270\" y=\"109.9526\">p1: P</text><text fill=\"#000000\" font-family=\"sans-serif\" font-size=\"11\" lengthAdjust=\"spacingAndGlyphs\" textLength=\"38\" x=\"270\" y=\"122.7573\">p2: ~P</text><line style=\"stroke: #A80036; stroke-width: 1.0;\" x1=\"265\" x2=\"304\" y1=\"93.3398\" y2=\"93.3398\"/><text fill=\"#000000\" font-family=\"sans-serif\" font-size=\"11\" lengthAdjust=\"spacingAndGlyphs\" textLength=\"30\" x=\"304\" y=\"96.6479\">ports</text><line style=\"stroke: #A80036; stroke-width: 1.0;\" x1=\"334\" x2=\"373\" y1=\"93.3398\" y2=\"93.3398\"/></a><!--MD5=[fd4143e9d270a159db93a4ea2a975926]\n",
       "class E9--><a href=\"psysml:0fcf03a3-0a94-497d-adc5-5270b49e59d7\" target=\"_top\" title=\"psysml:0fcf03a3-0a94-497d-adc5-5270b49e59d7\" xlink:actuate=\"onRequest\" xlink:href=\"psysml:0fcf03a3-0a94-497d-adc5-5270b49e59d7\" xlink:show=\"new\" xlink:title=\"psysml:0fcf03a3-0a94-497d-adc5-5270b49e59d7\" xlink:type=\"simple\"><rect fill=\"#FEFECE\" filter=\"url(#f1fciu5bci34sa)\" height=\"88.3516\" id=\"E9\" style=\"stroke: #A80036; stroke-width: 1.5;\" width=\"96\" x=\"133\" y=\"41\"/><text fill=\"#000000\" font-family=\"sans-serif\" font-size=\"12\" font-style=\"italic\" lengthAdjust=\"spacingAndGlyphs\" textLength=\"94\" x=\"134\" y=\"57.1387\">«interface def»</text><text fill=\"#000000\" font-family=\"sans-serif\" font-size=\"12\" lengthAdjust=\"spacingAndGlyphs\" textLength=\"3\" x=\"179.5\" y=\"71.1074\">I</text><line style=\"stroke: #A80036; stroke-width: 1.5;\" x1=\"134\" x2=\"228\" y1=\"78.9375\" y2=\"78.9375\"/><text fill=\"#000000\" font-family=\"sans-serif\" font-size=\"11\" lengthAdjust=\"spacingAndGlyphs\" textLength=\"29\" x=\"139\" y=\"109.9526\">p1: P</text><text fill=\"#000000\" font-family=\"sans-serif\" font-size=\"11\" lengthAdjust=\"spacingAndGlyphs\" textLength=\"38\" x=\"139\" y=\"122.7573\">p2: ~P</text><line style=\"stroke: #A80036; stroke-width: 1.0;\" x1=\"134\" x2=\"166\" y1=\"93.3398\" y2=\"93.3398\"/><text fill=\"#000000\" font-family=\"sans-serif\" font-size=\"11\" lengthAdjust=\"spacingAndGlyphs\" textLength=\"30\" x=\"166\" y=\"96.6479\">ports</text><line style=\"stroke: #A80036; stroke-width: 1.0;\" x1=\"196\" x2=\"228\" y1=\"93.3398\" y2=\"93.3398\"/></a><!--MD5=[49a0ec8f00dab7302a31f22d0f0fe584]\n",
       "class E12--><a href=\"psysml:fa47a610-a800-429f-b665-228f1e266500\" target=\"_top\" title=\"psysml:fa47a610-a800-429f-b665-228f1e266500\" xlink:actuate=\"onRequest\" xlink:href=\"psysml:fa47a610-a800-429f-b665-228f1e266500\" xlink:show=\"new\" xlink:title=\"psysml:fa47a610-a800-429f-b665-228f1e266500\" xlink:type=\"simple\"><rect fill=\"#FEFECE\" filter=\"url(#f1fciu5bci34sa)\" height=\"45.9375\" id=\"E12\" style=\"stroke: #A80036; stroke-width: 1.5;\" width=\"66\" x=\"32\" y=\"62\"/><text fill=\"#000000\" font-family=\"sans-serif\" font-size=\"12\" font-style=\"italic\" lengthAdjust=\"spacingAndGlyphs\" textLength=\"64\" x=\"33\" y=\"78.1387\">«part def»</text><text fill=\"#000000\" font-family=\"sans-serif\" font-size=\"12\" lengthAdjust=\"spacingAndGlyphs\" textLength=\"16\" x=\"57\" y=\"92.1074\">B1</text><line style=\"stroke: #A80036; stroke-width: 1.5;\" x1=\"33\" x2=\"97\" y1=\"99.9375\" y2=\"99.9375\"/></a><!--MD5=[ee3c913d1a06f366521f9ef512b67efe]\n",
       "class E13--><a href=\"psysml:593a6524-9b3f-4082-a23e-8ed96ff9a715\" target=\"_top\" title=\"psysml:593a6524-9b3f-4082-a23e-8ed96ff9a715\" xlink:actuate=\"onRequest\" xlink:href=\"psysml:593a6524-9b3f-4082-a23e-8ed96ff9a715\" xlink:show=\"new\" xlink:title=\"psysml:593a6524-9b3f-4082-a23e-8ed96ff9a715\" xlink:type=\"simple\"><rect fill=\"#FEFECE\" filter=\"url(#f1fciu5bci34sa)\" height=\"88.3516\" id=\"E13\" rx=\"10\" ry=\"10\" style=\"stroke: #A80036; stroke-width: 1.5;\" width=\"50\" x=\"40\" y=\"189\"/><text fill=\"#000000\" font-family=\"sans-serif\" font-size=\"12\" font-style=\"italic\" lengthAdjust=\"spacingAndGlyphs\" textLength=\"40\" x=\"45\" y=\"205.1387\">«part»</text><text fill=\"#000000\" font-family=\"sans-serif\" font-size=\"12\" lengthAdjust=\"spacingAndGlyphs\" textLength=\"8\" x=\"61\" y=\"219.1074\">p</text><line style=\"stroke: #A80036; stroke-width: 1.5;\" x1=\"41\" x2=\"89\" y1=\"226.9375\" y2=\"226.9375\"/><text fill=\"#000000\" font-family=\"sans-serif\" font-size=\"11\" lengthAdjust=\"spacingAndGlyphs\" textLength=\"29\" x=\"46\" y=\"257.9526\">p1: P</text><text fill=\"#000000\" font-family=\"sans-serif\" font-size=\"11\" lengthAdjust=\"spacingAndGlyphs\" textLength=\"38\" x=\"46\" y=\"270.7573\">p2: ~P</text><line style=\"stroke: #A80036; stroke-width: 1.0;\" x1=\"41\" x2=\"50\" y1=\"241.3398\" y2=\"241.3398\"/><text fill=\"#000000\" font-family=\"sans-serif\" font-size=\"11\" lengthAdjust=\"spacingAndGlyphs\" textLength=\"30\" x=\"50\" y=\"244.6479\">ports</text><line style=\"stroke: #A80036; stroke-width: 1.0;\" x1=\"80\" x2=\"89\" y1=\"241.3398\" y2=\"241.3398\"/></a><!--MD5=[062ed86c389d1a88f61c6380d0491e17]\n",
       "reverse link E12 to E13--><a href=\"psysml:593a6524-9b3f-4082-a23e-8ed96ff9a715\" target=\"_top\" title=\"psysml:593a6524-9b3f-4082-a23e-8ed96ff9a715\" xlink:actuate=\"onRequest\" xlink:href=\"psysml:593a6524-9b3f-4082-a23e-8ed96ff9a715\" xlink:show=\"new\" xlink:title=\"psysml:593a6524-9b3f-4082-a23e-8ed96ff9a715\" xlink:type=\"simple\"><path d=\"M65,121.25 C65,141.54 65,167.2 65,188.71 \" fill=\"none\" id=\"E12&lt;-E13\" style=\"stroke: #A80036; stroke-width: 1.0;\"/><polygon fill=\"#A80036\" points=\"65,108.17,61,114.17,65,120.17,69,114.17,65,108.17\" style=\"stroke: #A80036; stroke-width: 1.0;\"/></a><!--MD5=[390c023e9b4792443a1e55562d79b224]\n",
       "@startuml\r\n",
       "skinparam wrapWidth 300\r\n",
       "hide circle\r\n",
       "\r\n",
       "package \"ConjugationTest\" as E1  [[psysml:db7199af-e574-4214-8b26-5aef0dbbdb0a ]]  {\r\n",
       "comp def \"P\" as E2  <<(T,blue)port def>> [[psysml:eee324b7-6ef1-4f74-bb85-9d01b884a0c3 ]] {\r\n",
       "}\r\n",
       "comp def \"B\" as E3  <<(T,blue)part def>> [[psysml:987ad9e8-156c-405b-94a5-0234bd5ef961 ]] {\r\n",
       "- - ports - -\r\n",
       "p1: P\r\n",
       "p2: ~P\r\n",
       "}\r\n",
       "comp def \"A\" as E6  <<(T,blue)connection def>> [[psysml:d4b825d6-e011-4f07-a399-999db6b99ea3 ]] {\r\n",
       "- - ports - -\r\n",
       "p1: P\r\n",
       "p2: ~P\r\n",
       "}\r\n",
       "comp def \"I\" as E9  <<(T,blue)interface def>> [[psysml:0fcf03a3-0a94-497d-adc5-5270b49e59d7 ]] {\r\n",
       "- - ports - -\r\n",
       "p1: P\r\n",
       "p2: ~P\r\n",
       "}\r\n",
       "comp def \"B1\" as E12  <<(T,blue)part def>> [[psysml:fa47a610-a800-429f-b665-228f1e266500 ]] {\r\n",
       "}\r\n",
       "comp usage \"p\" as E13  <<(T,blue)part>> [[psysml:593a6524-9b3f-4082-a23e-8ed96ff9a715 ]] {\r\n",
       "- - ports - -\r\n",
       "p1: P\r\n",
       "p2: ~P\r\n",
       "}\r\n",
       "E12 *- - E13 [[psysml:593a6524-9b3f-4082-a23e-8ed96ff9a715 ]] \r\n",
       "}\r\n",
       "@enduml\r\n",
       "\n",
       "PlantUML version 1.2020.13(Sat Jun 13 12:26:38 UTC 2020)\n",
       "(EPL source distribution)\n",
       "Java Runtime: OpenJDK Runtime Environment\n",
       "JVM: OpenJDK 64-Bit Server VM\n",
       "Default Encoding: UTF-8\n",
       "Language: en\n",
       "Country: null\n",
       "--></g></svg>"
      ]
     },
     "execution_count": 28,
     "metadata": {},
     "output_type": "execute_result"
    }
   ],
   "source": [
    "%viz --style=\"STDCOLOR\" --view=\"Sequence\" \"ConjugationTest\""
   ]
  },
  {
   "cell_type": "code",
   "execution_count": 29,
   "id": "alone-volleyball",
   "metadata": {
    "execution": {
     "iopub.execute_input": "2021-03-25T13:18:51.613680Z",
     "iopub.status.busy": "2021-03-25T13:18:51.612965Z",
     "iopub.status.idle": "2021-03-25T13:18:52.387003Z",
     "shell.execute_reply": "2021-03-25T13:18:52.384235Z"
    }
   },
   "outputs": [
    {
     "data": {
      "image/svg+xml": [
       "<?xml version=\"1.0\" encoding=\"UTF-8\" standalone=\"no\"?><svg xmlns=\"http://www.w3.org/2000/svg\" xmlns:xlink=\"http://www.w3.org/1999/xlink\" contentScriptType=\"application/ecmascript\" contentStyleType=\"text/css\" height=\"305px\" preserveAspectRatio=\"none\" style=\"width:614px;height:305px;\" version=\"1.1\" viewBox=\"0 0 614 305\" width=\"614px\" zoomAndPan=\"magnify\"><defs><filter height=\"300%\" id=\"f1fciu5bci34sa\" width=\"300%\" x=\"-1\" y=\"-1\"><feGaussianBlur result=\"blurOut\" stdDeviation=\"2.0\"/><feColorMatrix in=\"blurOut\" result=\"blurOut2\" type=\"matrix\" values=\"0 0 0 0 0 0 0 0 0 0 0 0 0 0 0 0 0 0 .4 0\"/><feOffset dx=\"4.0\" dy=\"4.0\" in=\"blurOut2\" result=\"blurOut3\"/><feBlend in=\"SourceGraphic\" in2=\"blurOut3\" mode=\"normal\"/></filter></defs><g><!--MD5=[fbc87193dbaf4d95561dea2c320d4a47]\n",
       "cluster E1--><a href=\"psysml:db7199af-e574-4214-8b26-5aef0dbbdb0a\" target=\"_top\" title=\"psysml:db7199af-e574-4214-8b26-5aef0dbbdb0a\" xlink:actuate=\"onRequest\" xlink:href=\"psysml:db7199af-e574-4214-8b26-5aef0dbbdb0a\" xlink:show=\"new\" xlink:title=\"psysml:db7199af-e574-4214-8b26-5aef0dbbdb0a\" xlink:type=\"simple\"><polygon fill=\"#FFFFFF\" filter=\"url(#f1fciu5bci34sa)\" points=\"16,6,151,6,158,28.2969,592,28.2969,592,293,16,293,16,6\" style=\"stroke: #000000; stroke-width: 1.5;\"/><line style=\"stroke: #000000; stroke-width: 1.5;\" x1=\"16\" x2=\"158\" y1=\"28.2969\" y2=\"28.2969\"/><text fill=\"#000000\" font-family=\"sans-serif\" font-size=\"14\" font-weight=\"bold\" lengthAdjust=\"spacingAndGlyphs\" textLength=\"129\" x=\"20\" y=\"20.9951\">ConjugationTest</text></a><!--MD5=[b4997ac47864f28c2f74865a473b2911]\n",
       "class E2--><a href=\"psysml:eee324b7-6ef1-4f74-bb85-9d01b884a0c3\" target=\"_top\" title=\"psysml:eee324b7-6ef1-4f74-bb85-9d01b884a0c3\" xlink:actuate=\"onRequest\" xlink:href=\"psysml:eee324b7-6ef1-4f74-bb85-9d01b884a0c3\" xlink:show=\"new\" xlink:title=\"psysml:eee324b7-6ef1-4f74-bb85-9d01b884a0c3\" xlink:type=\"simple\"><rect fill=\"#FEFECE\" filter=\"url(#f1fciu5bci34sa)\" height=\"45.9375\" id=\"E2\" style=\"stroke: #A80036; stroke-width: 1.5;\" width=\"66\" x=\"510\" y=\"62\"/><text fill=\"#000000\" font-family=\"sans-serif\" font-size=\"12\" font-style=\"italic\" lengthAdjust=\"spacingAndGlyphs\" textLength=\"64\" x=\"511\" y=\"78.1387\">«port def»</text><text fill=\"#000000\" font-family=\"sans-serif\" font-size=\"12\" lengthAdjust=\"spacingAndGlyphs\" textLength=\"8\" x=\"539\" y=\"92.1074\">P</text><line style=\"stroke: #A80036; stroke-width: 1.5;\" x1=\"511\" x2=\"575\" y1=\"99.9375\" y2=\"99.9375\"/></a><!--MD5=[09b614a08d8cba4a07c9adeb5e0fee81]\n",
       "class E3--><a href=\"psysml:987ad9e8-156c-405b-94a5-0234bd5ef961\" target=\"_top\" title=\"psysml:987ad9e8-156c-405b-94a5-0234bd5ef961\" xlink:actuate=\"onRequest\" xlink:href=\"psysml:987ad9e8-156c-405b-94a5-0234bd5ef961\" xlink:show=\"new\" xlink:title=\"psysml:987ad9e8-156c-405b-94a5-0234bd5ef961\" xlink:type=\"simple\"><rect fill=\"#FEFECE\" filter=\"url(#f1fciu5bci34sa)\" height=\"88.3516\" id=\"E3\" style=\"stroke: #A80036; stroke-width: 1.5;\" width=\"66\" x=\"409\" y=\"41\"/><text fill=\"#000000\" font-family=\"sans-serif\" font-size=\"12\" font-style=\"italic\" lengthAdjust=\"spacingAndGlyphs\" textLength=\"64\" x=\"410\" y=\"57.1387\">«part def»</text><text fill=\"#000000\" font-family=\"sans-serif\" font-size=\"12\" lengthAdjust=\"spacingAndGlyphs\" textLength=\"8\" x=\"438\" y=\"71.1074\">B</text><line style=\"stroke: #A80036; stroke-width: 1.5;\" x1=\"410\" x2=\"474\" y1=\"78.9375\" y2=\"78.9375\"/><text fill=\"#000000\" font-family=\"sans-serif\" font-size=\"11\" lengthAdjust=\"spacingAndGlyphs\" textLength=\"29\" x=\"415\" y=\"109.9526\">p1: P</text><text fill=\"#000000\" font-family=\"sans-serif\" font-size=\"11\" lengthAdjust=\"spacingAndGlyphs\" textLength=\"38\" x=\"415\" y=\"122.7573\">p2: ~P</text><line style=\"stroke: #A80036; stroke-width: 1.0;\" x1=\"410\" x2=\"427\" y1=\"93.3398\" y2=\"93.3398\"/><text fill=\"#000000\" font-family=\"sans-serif\" font-size=\"11\" lengthAdjust=\"spacingAndGlyphs\" textLength=\"30\" x=\"427\" y=\"96.6479\">ports</text><line style=\"stroke: #A80036; stroke-width: 1.0;\" x1=\"457\" x2=\"474\" y1=\"93.3398\" y2=\"93.3398\"/></a><!--MD5=[60a26617385b1d2d0262a64233df1f8d]\n",
       "class E6--><a href=\"psysml:d4b825d6-e011-4f07-a399-999db6b99ea3\" target=\"_top\" title=\"psysml:d4b825d6-e011-4f07-a399-999db6b99ea3\" xlink:actuate=\"onRequest\" xlink:href=\"psysml:d4b825d6-e011-4f07-a399-999db6b99ea3\" xlink:show=\"new\" xlink:title=\"psysml:d4b825d6-e011-4f07-a399-999db6b99ea3\" xlink:type=\"simple\"><rect fill=\"#FEFECE\" filter=\"url(#f1fciu5bci34sa)\" height=\"88.3516\" id=\"E6\" style=\"stroke: #A80036; stroke-width: 1.5;\" width=\"110\" x=\"264\" y=\"41\"/><text fill=\"#000000\" font-family=\"sans-serif\" font-size=\"12\" font-style=\"italic\" lengthAdjust=\"spacingAndGlyphs\" textLength=\"108\" x=\"265\" y=\"57.1387\">«connection def»</text><text fill=\"#000000\" font-family=\"sans-serif\" font-size=\"12\" lengthAdjust=\"spacingAndGlyphs\" textLength=\"8\" x=\"315\" y=\"71.1074\">A</text><line style=\"stroke: #A80036; stroke-width: 1.5;\" x1=\"265\" x2=\"373\" y1=\"78.9375\" y2=\"78.9375\"/><text fill=\"#000000\" font-family=\"sans-serif\" font-size=\"11\" lengthAdjust=\"spacingAndGlyphs\" textLength=\"29\" x=\"270\" y=\"109.9526\">p1: P</text><text fill=\"#000000\" font-family=\"sans-serif\" font-size=\"11\" lengthAdjust=\"spacingAndGlyphs\" textLength=\"38\" x=\"270\" y=\"122.7573\">p2: ~P</text><line style=\"stroke: #A80036; stroke-width: 1.0;\" x1=\"265\" x2=\"304\" y1=\"93.3398\" y2=\"93.3398\"/><text fill=\"#000000\" font-family=\"sans-serif\" font-size=\"11\" lengthAdjust=\"spacingAndGlyphs\" textLength=\"30\" x=\"304\" y=\"96.6479\">ports</text><line style=\"stroke: #A80036; stroke-width: 1.0;\" x1=\"334\" x2=\"373\" y1=\"93.3398\" y2=\"93.3398\"/></a><!--MD5=[fd4143e9d270a159db93a4ea2a975926]\n",
       "class E9--><a href=\"psysml:0fcf03a3-0a94-497d-adc5-5270b49e59d7\" target=\"_top\" title=\"psysml:0fcf03a3-0a94-497d-adc5-5270b49e59d7\" xlink:actuate=\"onRequest\" xlink:href=\"psysml:0fcf03a3-0a94-497d-adc5-5270b49e59d7\" xlink:show=\"new\" xlink:title=\"psysml:0fcf03a3-0a94-497d-adc5-5270b49e59d7\" xlink:type=\"simple\"><rect fill=\"#FEFECE\" filter=\"url(#f1fciu5bci34sa)\" height=\"88.3516\" id=\"E9\" style=\"stroke: #A80036; stroke-width: 1.5;\" width=\"96\" x=\"133\" y=\"41\"/><text fill=\"#000000\" font-family=\"sans-serif\" font-size=\"12\" font-style=\"italic\" lengthAdjust=\"spacingAndGlyphs\" textLength=\"94\" x=\"134\" y=\"57.1387\">«interface def»</text><text fill=\"#000000\" font-family=\"sans-serif\" font-size=\"12\" lengthAdjust=\"spacingAndGlyphs\" textLength=\"3\" x=\"179.5\" y=\"71.1074\">I</text><line style=\"stroke: #A80036; stroke-width: 1.5;\" x1=\"134\" x2=\"228\" y1=\"78.9375\" y2=\"78.9375\"/><text fill=\"#000000\" font-family=\"sans-serif\" font-size=\"11\" lengthAdjust=\"spacingAndGlyphs\" textLength=\"29\" x=\"139\" y=\"109.9526\">p1: P</text><text fill=\"#000000\" font-family=\"sans-serif\" font-size=\"11\" lengthAdjust=\"spacingAndGlyphs\" textLength=\"38\" x=\"139\" y=\"122.7573\">p2: ~P</text><line style=\"stroke: #A80036; stroke-width: 1.0;\" x1=\"134\" x2=\"166\" y1=\"93.3398\" y2=\"93.3398\"/><text fill=\"#000000\" font-family=\"sans-serif\" font-size=\"11\" lengthAdjust=\"spacingAndGlyphs\" textLength=\"30\" x=\"166\" y=\"96.6479\">ports</text><line style=\"stroke: #A80036; stroke-width: 1.0;\" x1=\"196\" x2=\"228\" y1=\"93.3398\" y2=\"93.3398\"/></a><!--MD5=[49a0ec8f00dab7302a31f22d0f0fe584]\n",
       "class E12--><a href=\"psysml:fa47a610-a800-429f-b665-228f1e266500\" target=\"_top\" title=\"psysml:fa47a610-a800-429f-b665-228f1e266500\" xlink:actuate=\"onRequest\" xlink:href=\"psysml:fa47a610-a800-429f-b665-228f1e266500\" xlink:show=\"new\" xlink:title=\"psysml:fa47a610-a800-429f-b665-228f1e266500\" xlink:type=\"simple\"><rect fill=\"#FEFECE\" filter=\"url(#f1fciu5bci34sa)\" height=\"45.9375\" id=\"E12\" style=\"stroke: #A80036; stroke-width: 1.5;\" width=\"66\" x=\"32\" y=\"62\"/><text fill=\"#000000\" font-family=\"sans-serif\" font-size=\"12\" font-style=\"italic\" lengthAdjust=\"spacingAndGlyphs\" textLength=\"64\" x=\"33\" y=\"78.1387\">«part def»</text><text fill=\"#000000\" font-family=\"sans-serif\" font-size=\"12\" lengthAdjust=\"spacingAndGlyphs\" textLength=\"16\" x=\"57\" y=\"92.1074\">B1</text><line style=\"stroke: #A80036; stroke-width: 1.5;\" x1=\"33\" x2=\"97\" y1=\"99.9375\" y2=\"99.9375\"/></a><!--MD5=[ee3c913d1a06f366521f9ef512b67efe]\n",
       "class E13--><a href=\"psysml:593a6524-9b3f-4082-a23e-8ed96ff9a715\" target=\"_top\" title=\"psysml:593a6524-9b3f-4082-a23e-8ed96ff9a715\" xlink:actuate=\"onRequest\" xlink:href=\"psysml:593a6524-9b3f-4082-a23e-8ed96ff9a715\" xlink:show=\"new\" xlink:title=\"psysml:593a6524-9b3f-4082-a23e-8ed96ff9a715\" xlink:type=\"simple\"><rect fill=\"#FEFECE\" filter=\"url(#f1fciu5bci34sa)\" height=\"88.3516\" id=\"E13\" rx=\"10\" ry=\"10\" style=\"stroke: #A80036; stroke-width: 1.5;\" width=\"50\" x=\"40\" y=\"189\"/><text fill=\"#000000\" font-family=\"sans-serif\" font-size=\"12\" font-style=\"italic\" lengthAdjust=\"spacingAndGlyphs\" textLength=\"40\" x=\"45\" y=\"205.1387\">«part»</text><text fill=\"#000000\" font-family=\"sans-serif\" font-size=\"12\" lengthAdjust=\"spacingAndGlyphs\" textLength=\"8\" x=\"61\" y=\"219.1074\">p</text><line style=\"stroke: #A80036; stroke-width: 1.5;\" x1=\"41\" x2=\"89\" y1=\"226.9375\" y2=\"226.9375\"/><text fill=\"#000000\" font-family=\"sans-serif\" font-size=\"11\" lengthAdjust=\"spacingAndGlyphs\" textLength=\"29\" x=\"46\" y=\"257.9526\">p1: P</text><text fill=\"#000000\" font-family=\"sans-serif\" font-size=\"11\" lengthAdjust=\"spacingAndGlyphs\" textLength=\"38\" x=\"46\" y=\"270.7573\">p2: ~P</text><line style=\"stroke: #A80036; stroke-width: 1.0;\" x1=\"41\" x2=\"50\" y1=\"241.3398\" y2=\"241.3398\"/><text fill=\"#000000\" font-family=\"sans-serif\" font-size=\"11\" lengthAdjust=\"spacingAndGlyphs\" textLength=\"30\" x=\"50\" y=\"244.6479\">ports</text><line style=\"stroke: #A80036; stroke-width: 1.0;\" x1=\"80\" x2=\"89\" y1=\"241.3398\" y2=\"241.3398\"/></a><!--MD5=[062ed86c389d1a88f61c6380d0491e17]\n",
       "reverse link E12 to E13--><a href=\"psysml:593a6524-9b3f-4082-a23e-8ed96ff9a715\" target=\"_top\" title=\"psysml:593a6524-9b3f-4082-a23e-8ed96ff9a715\" xlink:actuate=\"onRequest\" xlink:href=\"psysml:593a6524-9b3f-4082-a23e-8ed96ff9a715\" xlink:show=\"new\" xlink:title=\"psysml:593a6524-9b3f-4082-a23e-8ed96ff9a715\" xlink:type=\"simple\"><path d=\"M65,121.25 C65,141.54 65,167.2 65,188.71 \" fill=\"none\" id=\"E12&lt;-E13\" style=\"stroke: #A80036; stroke-width: 1.0;\"/><polygon fill=\"#A80036\" points=\"65,108.17,61,114.17,65,120.17,69,114.17,65,108.17\" style=\"stroke: #A80036; stroke-width: 1.0;\"/></a><!--MD5=[390c023e9b4792443a1e55562d79b224]\n",
       "@startuml\r\n",
       "skinparam wrapWidth 300\r\n",
       "hide circle\r\n",
       "\r\n",
       "package \"ConjugationTest\" as E1  [[psysml:db7199af-e574-4214-8b26-5aef0dbbdb0a ]]  {\r\n",
       "comp def \"P\" as E2  <<(T,blue)port def>> [[psysml:eee324b7-6ef1-4f74-bb85-9d01b884a0c3 ]] {\r\n",
       "}\r\n",
       "comp def \"B\" as E3  <<(T,blue)part def>> [[psysml:987ad9e8-156c-405b-94a5-0234bd5ef961 ]] {\r\n",
       "- - ports - -\r\n",
       "p1: P\r\n",
       "p2: ~P\r\n",
       "}\r\n",
       "comp def \"A\" as E6  <<(T,blue)connection def>> [[psysml:d4b825d6-e011-4f07-a399-999db6b99ea3 ]] {\r\n",
       "- - ports - -\r\n",
       "p1: P\r\n",
       "p2: ~P\r\n",
       "}\r\n",
       "comp def \"I\" as E9  <<(T,blue)interface def>> [[psysml:0fcf03a3-0a94-497d-adc5-5270b49e59d7 ]] {\r\n",
       "- - ports - -\r\n",
       "p1: P\r\n",
       "p2: ~P\r\n",
       "}\r\n",
       "comp def \"B1\" as E12  <<(T,blue)part def>> [[psysml:fa47a610-a800-429f-b665-228f1e266500 ]] {\r\n",
       "}\r\n",
       "comp usage \"p\" as E13  <<(T,blue)part>> [[psysml:593a6524-9b3f-4082-a23e-8ed96ff9a715 ]] {\r\n",
       "- - ports - -\r\n",
       "p1: P\r\n",
       "p2: ~P\r\n",
       "}\r\n",
       "E12 *- - E13 [[psysml:593a6524-9b3f-4082-a23e-8ed96ff9a715 ]] \r\n",
       "}\r\n",
       "@enduml\r\n",
       "\n",
       "PlantUML version 1.2020.13(Sat Jun 13 12:26:38 UTC 2020)\n",
       "(EPL source distribution)\n",
       "Java Runtime: OpenJDK Runtime Environment\n",
       "JVM: OpenJDK 64-Bit Server VM\n",
       "Default Encoding: UTF-8\n",
       "Language: en\n",
       "Country: null\n",
       "--></g></svg>"
      ]
     },
     "execution_count": 29,
     "metadata": {},
     "output_type": "execute_result"
    }
   ],
   "source": [
    "%viz --style=\"STDCOLOR\" --view=\"MIXED\" \"ConjugationTest\""
   ]
  },
  {
   "cell_type": "code",
   "execution_count": 30,
   "id": "linear-graphics",
   "metadata": {
    "execution": {
     "iopub.execute_input": "2021-03-25T13:18:52.440731Z",
     "iopub.status.busy": "2021-03-25T13:18:52.436044Z",
     "iopub.status.idle": "2021-03-25T13:18:53.202640Z",
     "shell.execute_reply": "2021-03-25T13:18:53.200808Z"
    }
   },
   "outputs": [
    {
     "data": {
      "image/svg+xml": [
       "<?xml version=\"1.0\" encoding=\"UTF-8\" standalone=\"no\"?><svg xmlns=\"http://www.w3.org/2000/svg\" xmlns:xlink=\"http://www.w3.org/1999/xlink\" contentScriptType=\"application/ecmascript\" contentStyleType=\"text/css\" height=\"299px\" preserveAspectRatio=\"none\" style=\"width:500px;height:299px;\" version=\"1.1\" viewBox=\"0 0 500 299\" width=\"500px\" zoomAndPan=\"magnify\"><defs><filter height=\"300%\" id=\"f1hnlmj5rck886\" width=\"300%\" x=\"-1\" y=\"-1\"><feGaussianBlur result=\"blurOut\" stdDeviation=\"2.0\"/><feColorMatrix in=\"blurOut\" result=\"blurOut2\" type=\"matrix\" values=\"0 0 0 0 0 0 0 0 0 0 0 0 0 0 0 0 0 0 .4 0\"/><feOffset dx=\"4.0\" dy=\"4.0\" in=\"blurOut2\" result=\"blurOut3\"/><feBlend in=\"SourceGraphic\" in2=\"blurOut3\" mode=\"normal\"/></filter></defs><g><!--MD5=[fbc87193dbaf4d95561dea2c320d4a47]\n",
       "cluster E1--><a href=\"psysml:db7199af-e574-4214-8b26-5aef0dbbdb0a\" target=\"_top\" title=\"psysml:db7199af-e574-4214-8b26-5aef0dbbdb0a\" xlink:actuate=\"onRequest\" xlink:href=\"psysml:db7199af-e574-4214-8b26-5aef0dbbdb0a\" xlink:show=\"new\" xlink:title=\"psysml:db7199af-e574-4214-8b26-5aef0dbbdb0a\" xlink:type=\"simple\"><polygon fill=\"#FFFFFF\" filter=\"url(#f1hnlmj5rck886)\" points=\"16,6,151,6,158,28.2969,478,28.2969,478,287,16,287,16,6\" style=\"stroke: #000000; stroke-width: 1.5;\"/><line style=\"stroke: #000000; stroke-width: 1.5;\" x1=\"16\" x2=\"158\" y1=\"28.2969\" y2=\"28.2969\"/><text fill=\"#000000\" font-family=\"sans-serif\" font-size=\"14\" font-weight=\"bold\" lengthAdjust=\"spacingAndGlyphs\" textLength=\"129\" x=\"20\" y=\"20.9951\">ConjugationTest</text></a><!--MD5=[b4997ac47864f28c2f74865a473b2911]\n",
       "class E2--><a href=\"psysml:eee324b7-6ef1-4f74-bb85-9d01b884a0c3\" target=\"_top\" title=\"psysml:eee324b7-6ef1-4f74-bb85-9d01b884a0c3\" xlink:actuate=\"onRequest\" xlink:href=\"psysml:eee324b7-6ef1-4f74-bb85-9d01b884a0c3\" xlink:show=\"new\" xlink:title=\"psysml:eee324b7-6ef1-4f74-bb85-9d01b884a0c3\" xlink:type=\"simple\"><rect fill=\"#FEFECE\" filter=\"url(#f1hnlmj5rck886)\" height=\"45.9375\" id=\"E2\" style=\"stroke: #A80036; stroke-width: 1.5;\" width=\"92\" x=\"370\" y=\"59\"/><ellipse cx=\"385\" cy=\"77.9688\" fill=\"#A52A2A\" rx=\"11\" ry=\"11\" style=\"stroke: #A80036; stroke-width: 1.0;\"/><path d=\"M384.5938,73.7813 L384.5938,81.7656 L385.25,81.7656 Q386.6875,81.7656 387.2969,80.8594 Q387.9219,79.9375 387.9219,77.7656 Q387.9219,75.5938 387.2969,74.6875 Q386.6875,73.7813 385.25,73.7813 L384.5938,73.7813 Z M382.1406,71.5781 L384.7656,71.5781 Q387.7969,71.5781 389.125,73.0313 Q390.4688,74.4688 390.4688,77.7656 Q390.4688,81.0625 389.125,82.5156 Q387.7969,83.9688 384.7656,83.9688 L382.1406,83.9688 L382.1406,71.5781 Z \"/><text fill=\"#000000\" font-family=\"sans-serif\" font-size=\"12\" font-style=\"italic\" lengthAdjust=\"spacingAndGlyphs\" textLength=\"64\" x=\"397\" y=\"75.1387\">«port def»</text><text fill=\"#000000\" font-family=\"sans-serif\" font-size=\"12\" lengthAdjust=\"spacingAndGlyphs\" textLength=\"8\" x=\"425\" y=\"89.1074\">P</text><line style=\"stroke: #A80036; stroke-width: 1.5;\" x1=\"371\" x2=\"461\" y1=\"96.9375\" y2=\"96.9375\"/></a><!--MD5=[09b614a08d8cba4a07c9adeb5e0fee81]\n",
       "class E3--><a href=\"psysml:987ad9e8-156c-405b-94a5-0234bd5ef961\" target=\"_top\" title=\"psysml:987ad9e8-156c-405b-94a5-0234bd5ef961\" xlink:actuate=\"onRequest\" xlink:href=\"psysml:987ad9e8-156c-405b-94a5-0234bd5ef961\" xlink:show=\"new\" xlink:title=\"psysml:987ad9e8-156c-405b-94a5-0234bd5ef961\" xlink:type=\"simple\"><rect fill=\"#FEFECE\" filter=\"url(#f1hnlmj5rck886)\" height=\"82.4141\" id=\"E3\" style=\"stroke: #A80036; stroke-width: 1.5;\" width=\"50\" x=\"285\" y=\"41\"/><ellipse cx=\"304.5\" cy=\"57\" fill=\"#008000\" rx=\"11\" ry=\"11\" style=\"stroke: #A80036; stroke-width: 1.0;\"/><path d=\"M303.4063,57.375 L303.4063,61.0469 L305.0313,61.0469 Q306.2031,61.0469 306.6719,60.6563 Q307.1406,60.25 307.1406,59.25 Q307.1406,58.25 306.6406,57.8125 Q306.1563,57.375 305.0313,57.375 L303.4063,57.375 Z M303.4063,52.5469 L303.4063,55.4219 L305.0313,55.4219 Q305.9531,55.4219 306.3438,55.0938 Q306.75,54.75 306.75,54 Q306.75,53.2344 306.3438,52.8906 Q305.9375,52.5469 305.0313,52.5469 L303.4063,52.5469 Z M301.0313,50.5938 L305.0313,50.5938 Q307.0938,50.5938 308.1406,51.375 Q309.1875,52.1563 309.1875,53.7188 Q309.1875,54.9219 308.5625,55.5938 Q307.9531,56.2656 306.7656,56.375 Q308.1875,56.5156 308.9063,57.3281 Q309.625,58.1406 309.625,59.5938 Q309.625,61.3906 308.5469,62.2031 Q307.4688,63 305.0313,63 L301.0313,63 L301.0313,50.5938 Z \"/><text fill=\"#000000\" font-family=\"sans-serif\" font-size=\"12\" lengthAdjust=\"spacingAndGlyphs\" textLength=\"8\" x=\"319.5\" y=\"61.1543\">B</text><line style=\"stroke: #A80036; stroke-width: 1.5;\" x1=\"286\" x2=\"334\" y1=\"73\" y2=\"73\"/><text fill=\"#000000\" font-family=\"sans-serif\" font-size=\"11\" lengthAdjust=\"spacingAndGlyphs\" textLength=\"29\" x=\"291\" y=\"104.0151\">p1: P</text><text fill=\"#000000\" font-family=\"sans-serif\" font-size=\"11\" lengthAdjust=\"spacingAndGlyphs\" textLength=\"38\" x=\"291\" y=\"116.8198\">p2: ~P</text><line style=\"stroke: #A80036; stroke-width: 1.0;\" x1=\"286\" x2=\"295\" y1=\"87.4023\" y2=\"87.4023\"/><text fill=\"#000000\" font-family=\"sans-serif\" font-size=\"11\" lengthAdjust=\"spacingAndGlyphs\" textLength=\"30\" x=\"295\" y=\"90.7104\">ports</text><line style=\"stroke: #A80036; stroke-width: 1.0;\" x1=\"325\" x2=\"334\" y1=\"87.4023\" y2=\"87.4023\"/></a><!--MD5=[60a26617385b1d2d0262a64233df1f8d]\n",
       "class E6--><a href=\"psysml:d4b825d6-e011-4f07-a399-999db6b99ea3\" target=\"_top\" title=\"psysml:d4b825d6-e011-4f07-a399-999db6b99ea3\" xlink:actuate=\"onRequest\" xlink:href=\"psysml:d4b825d6-e011-4f07-a399-999db6b99ea3\" xlink:show=\"new\" xlink:title=\"psysml:d4b825d6-e011-4f07-a399-999db6b99ea3\" xlink:type=\"simple\"><rect fill=\"#FEFECE\" filter=\"url(#f1hnlmj5rck886)\" height=\"82.4141\" id=\"E6\" style=\"stroke: #A80036; stroke-width: 1.5;\" width=\"50\" x=\"200\" y=\"41\"/><ellipse cx=\"219.5\" cy=\"57\" fill=\"#008000\" rx=\"11\" ry=\"11\" style=\"stroke: #A80036; stroke-width: 1.0;\"/><path d=\"M218.4063,57.375 L218.4063,61.0469 L220.0313,61.0469 Q221.2031,61.0469 221.6719,60.6563 Q222.1406,60.25 222.1406,59.25 Q222.1406,58.25 221.6406,57.8125 Q221.1563,57.375 220.0313,57.375 L218.4063,57.375 Z M218.4063,52.5469 L218.4063,55.4219 L220.0313,55.4219 Q220.9531,55.4219 221.3438,55.0938 Q221.75,54.75 221.75,54 Q221.75,53.2344 221.3438,52.8906 Q220.9375,52.5469 220.0313,52.5469 L218.4063,52.5469 Z M216.0313,50.5938 L220.0313,50.5938 Q222.0938,50.5938 223.1406,51.375 Q224.1875,52.1563 224.1875,53.7188 Q224.1875,54.9219 223.5625,55.5938 Q222.9531,56.2656 221.7656,56.375 Q223.1875,56.5156 223.9063,57.3281 Q224.625,58.1406 224.625,59.5938 Q224.625,61.3906 223.5469,62.2031 Q222.4688,63 220.0313,63 L216.0313,63 L216.0313,50.5938 Z \"/><text fill=\"#000000\" font-family=\"sans-serif\" font-size=\"12\" lengthAdjust=\"spacingAndGlyphs\" textLength=\"8\" x=\"234.5\" y=\"61.1543\">A</text><line style=\"stroke: #A80036; stroke-width: 1.5;\" x1=\"201\" x2=\"249\" y1=\"73\" y2=\"73\"/><text fill=\"#000000\" font-family=\"sans-serif\" font-size=\"11\" lengthAdjust=\"spacingAndGlyphs\" textLength=\"29\" x=\"206\" y=\"104.0151\">p1: P</text><text fill=\"#000000\" font-family=\"sans-serif\" font-size=\"11\" lengthAdjust=\"spacingAndGlyphs\" textLength=\"38\" x=\"206\" y=\"116.8198\">p2: ~P</text><line style=\"stroke: #A80036; stroke-width: 1.0;\" x1=\"201\" x2=\"210\" y1=\"87.4023\" y2=\"87.4023\"/><text fill=\"#000000\" font-family=\"sans-serif\" font-size=\"11\" lengthAdjust=\"spacingAndGlyphs\" textLength=\"30\" x=\"210\" y=\"90.7104\">ports</text><line style=\"stroke: #A80036; stroke-width: 1.0;\" x1=\"240\" x2=\"249\" y1=\"87.4023\" y2=\"87.4023\"/></a><!--MD5=[fd4143e9d270a159db93a4ea2a975926]\n",
       "class E9--><a href=\"psysml:0fcf03a3-0a94-497d-adc5-5270b49e59d7\" target=\"_top\" title=\"psysml:0fcf03a3-0a94-497d-adc5-5270b49e59d7\" xlink:actuate=\"onRequest\" xlink:href=\"psysml:0fcf03a3-0a94-497d-adc5-5270b49e59d7\" xlink:show=\"new\" xlink:title=\"psysml:0fcf03a3-0a94-497d-adc5-5270b49e59d7\" xlink:type=\"simple\"><rect fill=\"#FEFECE\" filter=\"url(#f1hnlmj5rck886)\" height=\"82.4141\" id=\"E9\" style=\"stroke: #A80036; stroke-width: 1.5;\" width=\"50\" x=\"115\" y=\"41\"/><ellipse cx=\"136.75\" cy=\"57\" fill=\"#008000\" rx=\"11\" ry=\"11\" style=\"stroke: #A80036; stroke-width: 1.0;\"/><path d=\"M135.6563,57.375 L135.6563,61.0469 L137.2813,61.0469 Q138.4531,61.0469 138.9219,60.6563 Q139.3906,60.25 139.3906,59.25 Q139.3906,58.25 138.8906,57.8125 Q138.4063,57.375 137.2813,57.375 L135.6563,57.375 Z M135.6563,52.5469 L135.6563,55.4219 L137.2813,55.4219 Q138.2031,55.4219 138.5938,55.0938 Q139,54.75 139,54 Q139,53.2344 138.5938,52.8906 Q138.1875,52.5469 137.2813,52.5469 L135.6563,52.5469 Z M133.2813,50.5938 L137.2813,50.5938 Q139.3438,50.5938 140.3906,51.375 Q141.4375,52.1563 141.4375,53.7188 Q141.4375,54.9219 140.8125,55.5938 Q140.2031,56.2656 139.0156,56.375 Q140.4375,56.5156 141.1563,57.3281 Q141.875,58.1406 141.875,59.5938 Q141.875,61.3906 140.7969,62.2031 Q139.7188,63 137.2813,63 L133.2813,63 L133.2813,50.5938 Z \"/><text fill=\"#000000\" font-family=\"sans-serif\" font-size=\"12\" lengthAdjust=\"spacingAndGlyphs\" textLength=\"3\" x=\"152.25\" y=\"61.1543\">I</text><line style=\"stroke: #A80036; stroke-width: 1.5;\" x1=\"116\" x2=\"164\" y1=\"73\" y2=\"73\"/><text fill=\"#000000\" font-family=\"sans-serif\" font-size=\"11\" lengthAdjust=\"spacingAndGlyphs\" textLength=\"29\" x=\"121\" y=\"104.0151\">p1: P</text><text fill=\"#000000\" font-family=\"sans-serif\" font-size=\"11\" lengthAdjust=\"spacingAndGlyphs\" textLength=\"38\" x=\"121\" y=\"116.8198\">p2: ~P</text><line style=\"stroke: #A80036; stroke-width: 1.0;\" x1=\"116\" x2=\"125\" y1=\"87.4023\" y2=\"87.4023\"/><text fill=\"#000000\" font-family=\"sans-serif\" font-size=\"11\" lengthAdjust=\"spacingAndGlyphs\" textLength=\"30\" x=\"125\" y=\"90.7104\">ports</text><line style=\"stroke: #A80036; stroke-width: 1.0;\" x1=\"155\" x2=\"164\" y1=\"87.4023\" y2=\"87.4023\"/></a><!--MD5=[49a0ec8f00dab7302a31f22d0f0fe584]\n",
       "class E12--><a href=\"psysml:fa47a610-a800-429f-b665-228f1e266500\" target=\"_top\" title=\"psysml:fa47a610-a800-429f-b665-228f1e266500\" xlink:actuate=\"onRequest\" xlink:href=\"psysml:fa47a610-a800-429f-b665-228f1e266500\" xlink:show=\"new\" xlink:title=\"psysml:fa47a610-a800-429f-b665-228f1e266500\" xlink:type=\"simple\"><rect fill=\"#FEFECE\" filter=\"url(#f1hnlmj5rck886)\" height=\"40\" id=\"E12\" style=\"stroke: #A80036; stroke-width: 1.5;\" width=\"48\" x=\"32\" y=\"62\"/><ellipse cx=\"47\" cy=\"78\" fill=\"#008000\" rx=\"11\" ry=\"11\" style=\"stroke: #A80036; stroke-width: 1.0;\"/><path d=\"M45.9063,78.375 L45.9063,82.0469 L47.5313,82.0469 Q48.7031,82.0469 49.1719,81.6563 Q49.6406,81.25 49.6406,80.25 Q49.6406,79.25 49.1406,78.8125 Q48.6563,78.375 47.5313,78.375 L45.9063,78.375 Z M45.9063,73.5469 L45.9063,76.4219 L47.5313,76.4219 Q48.4531,76.4219 48.8438,76.0938 Q49.25,75.75 49.25,75 Q49.25,74.2344 48.8438,73.8906 Q48.4375,73.5469 47.5313,73.5469 L45.9063,73.5469 Z M43.5313,71.5938 L47.5313,71.5938 Q49.5938,71.5938 50.6406,72.375 Q51.6875,73.1563 51.6875,74.7188 Q51.6875,75.9219 51.0625,76.5938 Q50.4531,77.2656 49.2656,77.375 Q50.6875,77.5156 51.4063,78.3281 Q52.125,79.1406 52.125,80.5938 Q52.125,82.3906 51.0469,83.2031 Q49.9688,84 47.5313,84 L43.5313,84 L43.5313,71.5938 Z \"/><text fill=\"#000000\" font-family=\"sans-serif\" font-size=\"12\" lengthAdjust=\"spacingAndGlyphs\" textLength=\"16\" x=\"61\" y=\"82.1543\">B1</text><line style=\"stroke: #A80036; stroke-width: 1.5;\" x1=\"33\" x2=\"79\" y1=\"94\" y2=\"94\"/></a><!--MD5=[ee3c913d1a06f366521f9ef512b67efe]\n",
       "class E13--><a href=\"psysml:593a6524-9b3f-4082-a23e-8ed96ff9a715\" target=\"_top\" title=\"psysml:593a6524-9b3f-4082-a23e-8ed96ff9a715\" xlink:actuate=\"onRequest\" xlink:href=\"psysml:593a6524-9b3f-4082-a23e-8ed96ff9a715\" xlink:show=\"new\" xlink:title=\"psysml:593a6524-9b3f-4082-a23e-8ed96ff9a715\" xlink:type=\"simple\"><rect fill=\"#FEFECE\" filter=\"url(#f1hnlmj5rck886)\" height=\"88.3516\" id=\"E13\" rx=\"10\" ry=\"10\" style=\"stroke: #A80036; stroke-width: 1.5;\" width=\"68\" x=\"32\" y=\"183\"/><ellipse cx=\"47\" cy=\"201.9688\" fill=\"#32CD32\" rx=\"11\" ry=\"11\" style=\"stroke: #A80036; stroke-width: 1.0;\"/><path d=\"M46.7969,197.6406 L46.7969,201.2656 L47.7969,201.2656 Q49,201.2656 49.4844,200.8594 Q49.9688,200.4531 49.9688,199.4531 Q49.9688,198.4531 49.4844,198.0469 Q49,197.6406 47.7969,197.6406 L46.7969,197.6406 Z M44.3438,195.5781 L47.7031,195.5781 Q50.2656,195.5781 51.3906,196.5 Q52.5156,197.4063 52.5156,199.4531 Q52.5156,201.5 51.3906,202.4219 Q50.2656,203.3281 47.7031,203.3281 L46.7969,203.3281 L46.7969,207.9688 L44.3438,207.9688 L44.3438,195.5781 Z \"/><text fill=\"#000000\" font-family=\"sans-serif\" font-size=\"12\" font-style=\"italic\" lengthAdjust=\"spacingAndGlyphs\" textLength=\"40\" x=\"59\" y=\"199.1387\">«part»</text><text fill=\"#000000\" font-family=\"sans-serif\" font-size=\"12\" lengthAdjust=\"spacingAndGlyphs\" textLength=\"8\" x=\"75\" y=\"213.1074\">p</text><line style=\"stroke: #A80036; stroke-width: 1.5;\" x1=\"33\" x2=\"99\" y1=\"220.9375\" y2=\"220.9375\"/><text fill=\"#000000\" font-family=\"sans-serif\" font-size=\"11\" lengthAdjust=\"spacingAndGlyphs\" textLength=\"29\" x=\"38\" y=\"251.9526\">p1: P</text><text fill=\"#000000\" font-family=\"sans-serif\" font-size=\"11\" lengthAdjust=\"spacingAndGlyphs\" textLength=\"38\" x=\"38\" y=\"264.7573\">p2: ~P</text><line style=\"stroke: #A80036; stroke-width: 1.0;\" x1=\"33\" x2=\"51\" y1=\"235.3398\" y2=\"235.3398\"/><text fill=\"#000000\" font-family=\"sans-serif\" font-size=\"11\" lengthAdjust=\"spacingAndGlyphs\" textLength=\"30\" x=\"51\" y=\"238.6479\">ports</text><line style=\"stroke: #A80036; stroke-width: 1.0;\" x1=\"81\" x2=\"99\" y1=\"235.3398\" y2=\"235.3398\"/></a><!--MD5=[062ed86c389d1a88f61c6380d0491e17]\n",
       "reverse link E12 to E13--><a href=\"psysml:593a6524-9b3f-4082-a23e-8ed96ff9a715\" target=\"_top\" title=\"psysml:593a6524-9b3f-4082-a23e-8ed96ff9a715\" xlink:actuate=\"onRequest\" xlink:href=\"psysml:593a6524-9b3f-4082-a23e-8ed96ff9a715\" xlink:show=\"new\" xlink:title=\"psysml:593a6524-9b3f-4082-a23e-8ed96ff9a715\" xlink:type=\"simple\"><path d=\"M58.26,115.31 C59.65,135.24 61.46,161.03 62.97,182.71 \" fill=\"none\" id=\"E12&lt;-E13\" style=\"stroke: #A80036; stroke-width: 1.0;\"/><polygon fill=\"#A80036\" points=\"57.35,102.29,53.7754,108.5527,58.1815,114.2612,61.7561,107.9984,57.35,102.29\" style=\"stroke: #A80036; stroke-width: 1.0;\"/></a><!--MD5=[d88218307e6b06b04b5c038bc11a7c86]\n",
       "@startuml\r\n",
       " \r\n",
       "package \"ConjugationTest\" as E1  [[psysml:db7199af-e574-4214-8b26-5aef0dbbdb0a ]]  {\r\n",
       "comp def \"P\" as E2  <<(D,brown)port def>> [[psysml:eee324b7-6ef1-4f74-bb85-9d01b884a0c3 ]] {\r\n",
       "}\r\n",
       "comp def \"B\" as E3  << (B,green) >> [[psysml:987ad9e8-156c-405b-94a5-0234bd5ef961 ]] {\r\n",
       "- - ports - -\r\n",
       "p1: P\r\n",
       "p2: ~P\r\n",
       "}\r\n",
       "comp def \"A\" as E6  << (B,green) >> [[psysml:d4b825d6-e011-4f07-a399-999db6b99ea3 ]] {\r\n",
       "- - ports - -\r\n",
       "p1: P\r\n",
       "p2: ~P\r\n",
       "}\r\n",
       "comp def \"I\" as E9  << (B,green) >> [[psysml:0fcf03a3-0a94-497d-adc5-5270b49e59d7 ]] {\r\n",
       "- - ports - -\r\n",
       "p1: P\r\n",
       "p2: ~P\r\n",
       "}\r\n",
       "comp def \"B1\" as E12  << (B,green) >> [[psysml:fa47a610-a800-429f-b665-228f1e266500 ]] {\r\n",
       "}\r\n",
       "comp usage \"p\" as E13  << (P,limegreen) part>> [[psysml:593a6524-9b3f-4082-a23e-8ed96ff9a715 ]] {\r\n",
       "- - ports - -\r\n",
       "p1: P\r\n",
       "p2: ~P\r\n",
       "}\r\n",
       "E12 *- - E13 [[psysml:593a6524-9b3f-4082-a23e-8ed96ff9a715 ]] \r\n",
       "}\r\n",
       "@enduml\r\n",
       "\n",
       "PlantUML version 1.2020.13(Sat Jun 13 12:26:38 UTC 2020)\n",
       "(EPL source distribution)\n",
       "Java Runtime: OpenJDK Runtime Environment\n",
       "JVM: OpenJDK 64-Bit Server VM\n",
       "Default Encoding: UTF-8\n",
       "Language: en\n",
       "Country: null\n",
       "--></g></svg>"
      ]
     },
     "execution_count": 30,
     "metadata": {},
     "output_type": "execute_result"
    }
   ],
   "source": [
    "%viz --style=\"PLANTUML\" --view=\"Default\" \"ConjugationTest\""
   ]
  },
  {
   "cell_type": "code",
   "execution_count": 31,
   "id": "sorted-clarity",
   "metadata": {
    "execution": {
     "iopub.execute_input": "2021-03-25T13:18:53.253645Z",
     "iopub.status.busy": "2021-03-25T13:18:53.252555Z",
     "iopub.status.idle": "2021-03-25T13:18:54.022913Z",
     "shell.execute_reply": "2021-03-25T13:18:54.020731Z"
    }
   },
   "outputs": [
    {
     "data": {
      "image/svg+xml": [
       "<?xml version=\"1.0\" encoding=\"UTF-8\" standalone=\"no\"?><svg xmlns=\"http://www.w3.org/2000/svg\" xmlns:xlink=\"http://www.w3.org/1999/xlink\" contentScriptType=\"application/ecmascript\" contentStyleType=\"text/css\" height=\"299px\" preserveAspectRatio=\"none\" style=\"width:500px;height:299px;\" version=\"1.1\" viewBox=\"0 0 500 299\" width=\"500px\" zoomAndPan=\"magnify\"><defs><filter height=\"300%\" id=\"f1hnlmj5rck886\" width=\"300%\" x=\"-1\" y=\"-1\"><feGaussianBlur result=\"blurOut\" stdDeviation=\"2.0\"/><feColorMatrix in=\"blurOut\" result=\"blurOut2\" type=\"matrix\" values=\"0 0 0 0 0 0 0 0 0 0 0 0 0 0 0 0 0 0 .4 0\"/><feOffset dx=\"4.0\" dy=\"4.0\" in=\"blurOut2\" result=\"blurOut3\"/><feBlend in=\"SourceGraphic\" in2=\"blurOut3\" mode=\"normal\"/></filter></defs><g><!--MD5=[fbc87193dbaf4d95561dea2c320d4a47]\n",
       "cluster E1--><a href=\"psysml:db7199af-e574-4214-8b26-5aef0dbbdb0a\" target=\"_top\" title=\"psysml:db7199af-e574-4214-8b26-5aef0dbbdb0a\" xlink:actuate=\"onRequest\" xlink:href=\"psysml:db7199af-e574-4214-8b26-5aef0dbbdb0a\" xlink:show=\"new\" xlink:title=\"psysml:db7199af-e574-4214-8b26-5aef0dbbdb0a\" xlink:type=\"simple\"><polygon fill=\"#FFFFFF\" filter=\"url(#f1hnlmj5rck886)\" points=\"16,6,151,6,158,28.2969,478,28.2969,478,287,16,287,16,6\" style=\"stroke: #000000; stroke-width: 1.5;\"/><line style=\"stroke: #000000; stroke-width: 1.5;\" x1=\"16\" x2=\"158\" y1=\"28.2969\" y2=\"28.2969\"/><text fill=\"#000000\" font-family=\"sans-serif\" font-size=\"14\" font-weight=\"bold\" lengthAdjust=\"spacingAndGlyphs\" textLength=\"129\" x=\"20\" y=\"20.9951\">ConjugationTest</text></a><!--MD5=[b4997ac47864f28c2f74865a473b2911]\n",
       "class E2--><a href=\"psysml:eee324b7-6ef1-4f74-bb85-9d01b884a0c3\" target=\"_top\" title=\"psysml:eee324b7-6ef1-4f74-bb85-9d01b884a0c3\" xlink:actuate=\"onRequest\" xlink:href=\"psysml:eee324b7-6ef1-4f74-bb85-9d01b884a0c3\" xlink:show=\"new\" xlink:title=\"psysml:eee324b7-6ef1-4f74-bb85-9d01b884a0c3\" xlink:type=\"simple\"><rect fill=\"#FEFECE\" filter=\"url(#f1hnlmj5rck886)\" height=\"45.9375\" id=\"E2\" style=\"stroke: #A80036; stroke-width: 1.5;\" width=\"92\" x=\"370\" y=\"59\"/><ellipse cx=\"385\" cy=\"77.9688\" fill=\"#A52A2A\" rx=\"11\" ry=\"11\" style=\"stroke: #A80036; stroke-width: 1.0;\"/><path d=\"M384.5938,73.7813 L384.5938,81.7656 L385.25,81.7656 Q386.6875,81.7656 387.2969,80.8594 Q387.9219,79.9375 387.9219,77.7656 Q387.9219,75.5938 387.2969,74.6875 Q386.6875,73.7813 385.25,73.7813 L384.5938,73.7813 Z M382.1406,71.5781 L384.7656,71.5781 Q387.7969,71.5781 389.125,73.0313 Q390.4688,74.4688 390.4688,77.7656 Q390.4688,81.0625 389.125,82.5156 Q387.7969,83.9688 384.7656,83.9688 L382.1406,83.9688 L382.1406,71.5781 Z \"/><text fill=\"#000000\" font-family=\"sans-serif\" font-size=\"12\" font-style=\"italic\" lengthAdjust=\"spacingAndGlyphs\" textLength=\"64\" x=\"397\" y=\"75.1387\">«port def»</text><text fill=\"#000000\" font-family=\"sans-serif\" font-size=\"12\" lengthAdjust=\"spacingAndGlyphs\" textLength=\"8\" x=\"425\" y=\"89.1074\">P</text><line style=\"stroke: #A80036; stroke-width: 1.5;\" x1=\"371\" x2=\"461\" y1=\"96.9375\" y2=\"96.9375\"/></a><!--MD5=[09b614a08d8cba4a07c9adeb5e0fee81]\n",
       "class E3--><a href=\"psysml:987ad9e8-156c-405b-94a5-0234bd5ef961\" target=\"_top\" title=\"psysml:987ad9e8-156c-405b-94a5-0234bd5ef961\" xlink:actuate=\"onRequest\" xlink:href=\"psysml:987ad9e8-156c-405b-94a5-0234bd5ef961\" xlink:show=\"new\" xlink:title=\"psysml:987ad9e8-156c-405b-94a5-0234bd5ef961\" xlink:type=\"simple\"><rect fill=\"#FEFECE\" filter=\"url(#f1hnlmj5rck886)\" height=\"82.4141\" id=\"E3\" style=\"stroke: #A80036; stroke-width: 1.5;\" width=\"50\" x=\"285\" y=\"41\"/><ellipse cx=\"304.5\" cy=\"57\" fill=\"#008000\" rx=\"11\" ry=\"11\" style=\"stroke: #A80036; stroke-width: 1.0;\"/><path d=\"M303.4063,57.375 L303.4063,61.0469 L305.0313,61.0469 Q306.2031,61.0469 306.6719,60.6563 Q307.1406,60.25 307.1406,59.25 Q307.1406,58.25 306.6406,57.8125 Q306.1563,57.375 305.0313,57.375 L303.4063,57.375 Z M303.4063,52.5469 L303.4063,55.4219 L305.0313,55.4219 Q305.9531,55.4219 306.3438,55.0938 Q306.75,54.75 306.75,54 Q306.75,53.2344 306.3438,52.8906 Q305.9375,52.5469 305.0313,52.5469 L303.4063,52.5469 Z M301.0313,50.5938 L305.0313,50.5938 Q307.0938,50.5938 308.1406,51.375 Q309.1875,52.1563 309.1875,53.7188 Q309.1875,54.9219 308.5625,55.5938 Q307.9531,56.2656 306.7656,56.375 Q308.1875,56.5156 308.9063,57.3281 Q309.625,58.1406 309.625,59.5938 Q309.625,61.3906 308.5469,62.2031 Q307.4688,63 305.0313,63 L301.0313,63 L301.0313,50.5938 Z \"/><text fill=\"#000000\" font-family=\"sans-serif\" font-size=\"12\" lengthAdjust=\"spacingAndGlyphs\" textLength=\"8\" x=\"319.5\" y=\"61.1543\">B</text><line style=\"stroke: #A80036; stroke-width: 1.5;\" x1=\"286\" x2=\"334\" y1=\"73\" y2=\"73\"/><text fill=\"#000000\" font-family=\"sans-serif\" font-size=\"11\" lengthAdjust=\"spacingAndGlyphs\" textLength=\"29\" x=\"291\" y=\"104.0151\">p1: P</text><text fill=\"#000000\" font-family=\"sans-serif\" font-size=\"11\" lengthAdjust=\"spacingAndGlyphs\" textLength=\"38\" x=\"291\" y=\"116.8198\">p2: ~P</text><line style=\"stroke: #A80036; stroke-width: 1.0;\" x1=\"286\" x2=\"295\" y1=\"87.4023\" y2=\"87.4023\"/><text fill=\"#000000\" font-family=\"sans-serif\" font-size=\"11\" lengthAdjust=\"spacingAndGlyphs\" textLength=\"30\" x=\"295\" y=\"90.7104\">ports</text><line style=\"stroke: #A80036; stroke-width: 1.0;\" x1=\"325\" x2=\"334\" y1=\"87.4023\" y2=\"87.4023\"/></a><!--MD5=[60a26617385b1d2d0262a64233df1f8d]\n",
       "class E6--><a href=\"psysml:d4b825d6-e011-4f07-a399-999db6b99ea3\" target=\"_top\" title=\"psysml:d4b825d6-e011-4f07-a399-999db6b99ea3\" xlink:actuate=\"onRequest\" xlink:href=\"psysml:d4b825d6-e011-4f07-a399-999db6b99ea3\" xlink:show=\"new\" xlink:title=\"psysml:d4b825d6-e011-4f07-a399-999db6b99ea3\" xlink:type=\"simple\"><rect fill=\"#FEFECE\" filter=\"url(#f1hnlmj5rck886)\" height=\"82.4141\" id=\"E6\" style=\"stroke: #A80036; stroke-width: 1.5;\" width=\"50\" x=\"200\" y=\"41\"/><ellipse cx=\"219.5\" cy=\"57\" fill=\"#008000\" rx=\"11\" ry=\"11\" style=\"stroke: #A80036; stroke-width: 1.0;\"/><path d=\"M218.4063,57.375 L218.4063,61.0469 L220.0313,61.0469 Q221.2031,61.0469 221.6719,60.6563 Q222.1406,60.25 222.1406,59.25 Q222.1406,58.25 221.6406,57.8125 Q221.1563,57.375 220.0313,57.375 L218.4063,57.375 Z M218.4063,52.5469 L218.4063,55.4219 L220.0313,55.4219 Q220.9531,55.4219 221.3438,55.0938 Q221.75,54.75 221.75,54 Q221.75,53.2344 221.3438,52.8906 Q220.9375,52.5469 220.0313,52.5469 L218.4063,52.5469 Z M216.0313,50.5938 L220.0313,50.5938 Q222.0938,50.5938 223.1406,51.375 Q224.1875,52.1563 224.1875,53.7188 Q224.1875,54.9219 223.5625,55.5938 Q222.9531,56.2656 221.7656,56.375 Q223.1875,56.5156 223.9063,57.3281 Q224.625,58.1406 224.625,59.5938 Q224.625,61.3906 223.5469,62.2031 Q222.4688,63 220.0313,63 L216.0313,63 L216.0313,50.5938 Z \"/><text fill=\"#000000\" font-family=\"sans-serif\" font-size=\"12\" lengthAdjust=\"spacingAndGlyphs\" textLength=\"8\" x=\"234.5\" y=\"61.1543\">A</text><line style=\"stroke: #A80036; stroke-width: 1.5;\" x1=\"201\" x2=\"249\" y1=\"73\" y2=\"73\"/><text fill=\"#000000\" font-family=\"sans-serif\" font-size=\"11\" lengthAdjust=\"spacingAndGlyphs\" textLength=\"29\" x=\"206\" y=\"104.0151\">p1: P</text><text fill=\"#000000\" font-family=\"sans-serif\" font-size=\"11\" lengthAdjust=\"spacingAndGlyphs\" textLength=\"38\" x=\"206\" y=\"116.8198\">p2: ~P</text><line style=\"stroke: #A80036; stroke-width: 1.0;\" x1=\"201\" x2=\"210\" y1=\"87.4023\" y2=\"87.4023\"/><text fill=\"#000000\" font-family=\"sans-serif\" font-size=\"11\" lengthAdjust=\"spacingAndGlyphs\" textLength=\"30\" x=\"210\" y=\"90.7104\">ports</text><line style=\"stroke: #A80036; stroke-width: 1.0;\" x1=\"240\" x2=\"249\" y1=\"87.4023\" y2=\"87.4023\"/></a><!--MD5=[fd4143e9d270a159db93a4ea2a975926]\n",
       "class E9--><a href=\"psysml:0fcf03a3-0a94-497d-adc5-5270b49e59d7\" target=\"_top\" title=\"psysml:0fcf03a3-0a94-497d-adc5-5270b49e59d7\" xlink:actuate=\"onRequest\" xlink:href=\"psysml:0fcf03a3-0a94-497d-adc5-5270b49e59d7\" xlink:show=\"new\" xlink:title=\"psysml:0fcf03a3-0a94-497d-adc5-5270b49e59d7\" xlink:type=\"simple\"><rect fill=\"#FEFECE\" filter=\"url(#f1hnlmj5rck886)\" height=\"82.4141\" id=\"E9\" style=\"stroke: #A80036; stroke-width: 1.5;\" width=\"50\" x=\"115\" y=\"41\"/><ellipse cx=\"136.75\" cy=\"57\" fill=\"#008000\" rx=\"11\" ry=\"11\" style=\"stroke: #A80036; stroke-width: 1.0;\"/><path d=\"M135.6563,57.375 L135.6563,61.0469 L137.2813,61.0469 Q138.4531,61.0469 138.9219,60.6563 Q139.3906,60.25 139.3906,59.25 Q139.3906,58.25 138.8906,57.8125 Q138.4063,57.375 137.2813,57.375 L135.6563,57.375 Z M135.6563,52.5469 L135.6563,55.4219 L137.2813,55.4219 Q138.2031,55.4219 138.5938,55.0938 Q139,54.75 139,54 Q139,53.2344 138.5938,52.8906 Q138.1875,52.5469 137.2813,52.5469 L135.6563,52.5469 Z M133.2813,50.5938 L137.2813,50.5938 Q139.3438,50.5938 140.3906,51.375 Q141.4375,52.1563 141.4375,53.7188 Q141.4375,54.9219 140.8125,55.5938 Q140.2031,56.2656 139.0156,56.375 Q140.4375,56.5156 141.1563,57.3281 Q141.875,58.1406 141.875,59.5938 Q141.875,61.3906 140.7969,62.2031 Q139.7188,63 137.2813,63 L133.2813,63 L133.2813,50.5938 Z \"/><text fill=\"#000000\" font-family=\"sans-serif\" font-size=\"12\" lengthAdjust=\"spacingAndGlyphs\" textLength=\"3\" x=\"152.25\" y=\"61.1543\">I</text><line style=\"stroke: #A80036; stroke-width: 1.5;\" x1=\"116\" x2=\"164\" y1=\"73\" y2=\"73\"/><text fill=\"#000000\" font-family=\"sans-serif\" font-size=\"11\" lengthAdjust=\"spacingAndGlyphs\" textLength=\"29\" x=\"121\" y=\"104.0151\">p1: P</text><text fill=\"#000000\" font-family=\"sans-serif\" font-size=\"11\" lengthAdjust=\"spacingAndGlyphs\" textLength=\"38\" x=\"121\" y=\"116.8198\">p2: ~P</text><line style=\"stroke: #A80036; stroke-width: 1.0;\" x1=\"116\" x2=\"125\" y1=\"87.4023\" y2=\"87.4023\"/><text fill=\"#000000\" font-family=\"sans-serif\" font-size=\"11\" lengthAdjust=\"spacingAndGlyphs\" textLength=\"30\" x=\"125\" y=\"90.7104\">ports</text><line style=\"stroke: #A80036; stroke-width: 1.0;\" x1=\"155\" x2=\"164\" y1=\"87.4023\" y2=\"87.4023\"/></a><!--MD5=[49a0ec8f00dab7302a31f22d0f0fe584]\n",
       "class E12--><a href=\"psysml:fa47a610-a800-429f-b665-228f1e266500\" target=\"_top\" title=\"psysml:fa47a610-a800-429f-b665-228f1e266500\" xlink:actuate=\"onRequest\" xlink:href=\"psysml:fa47a610-a800-429f-b665-228f1e266500\" xlink:show=\"new\" xlink:title=\"psysml:fa47a610-a800-429f-b665-228f1e266500\" xlink:type=\"simple\"><rect fill=\"#FEFECE\" filter=\"url(#f1hnlmj5rck886)\" height=\"40\" id=\"E12\" style=\"stroke: #A80036; stroke-width: 1.5;\" width=\"48\" x=\"32\" y=\"62\"/><ellipse cx=\"47\" cy=\"78\" fill=\"#008000\" rx=\"11\" ry=\"11\" style=\"stroke: #A80036; stroke-width: 1.0;\"/><path d=\"M45.9063,78.375 L45.9063,82.0469 L47.5313,82.0469 Q48.7031,82.0469 49.1719,81.6563 Q49.6406,81.25 49.6406,80.25 Q49.6406,79.25 49.1406,78.8125 Q48.6563,78.375 47.5313,78.375 L45.9063,78.375 Z M45.9063,73.5469 L45.9063,76.4219 L47.5313,76.4219 Q48.4531,76.4219 48.8438,76.0938 Q49.25,75.75 49.25,75 Q49.25,74.2344 48.8438,73.8906 Q48.4375,73.5469 47.5313,73.5469 L45.9063,73.5469 Z M43.5313,71.5938 L47.5313,71.5938 Q49.5938,71.5938 50.6406,72.375 Q51.6875,73.1563 51.6875,74.7188 Q51.6875,75.9219 51.0625,76.5938 Q50.4531,77.2656 49.2656,77.375 Q50.6875,77.5156 51.4063,78.3281 Q52.125,79.1406 52.125,80.5938 Q52.125,82.3906 51.0469,83.2031 Q49.9688,84 47.5313,84 L43.5313,84 L43.5313,71.5938 Z \"/><text fill=\"#000000\" font-family=\"sans-serif\" font-size=\"12\" lengthAdjust=\"spacingAndGlyphs\" textLength=\"16\" x=\"61\" y=\"82.1543\">B1</text><line style=\"stroke: #A80036; stroke-width: 1.5;\" x1=\"33\" x2=\"79\" y1=\"94\" y2=\"94\"/></a><!--MD5=[ee3c913d1a06f366521f9ef512b67efe]\n",
       "class E13--><a href=\"psysml:593a6524-9b3f-4082-a23e-8ed96ff9a715\" target=\"_top\" title=\"psysml:593a6524-9b3f-4082-a23e-8ed96ff9a715\" xlink:actuate=\"onRequest\" xlink:href=\"psysml:593a6524-9b3f-4082-a23e-8ed96ff9a715\" xlink:show=\"new\" xlink:title=\"psysml:593a6524-9b3f-4082-a23e-8ed96ff9a715\" xlink:type=\"simple\"><rect fill=\"#FEFECE\" filter=\"url(#f1hnlmj5rck886)\" height=\"88.3516\" id=\"E13\" rx=\"10\" ry=\"10\" style=\"stroke: #A80036; stroke-width: 1.5;\" width=\"68\" x=\"32\" y=\"183\"/><ellipse cx=\"47\" cy=\"201.9688\" fill=\"#32CD32\" rx=\"11\" ry=\"11\" style=\"stroke: #A80036; stroke-width: 1.0;\"/><path d=\"M46.7969,197.6406 L46.7969,201.2656 L47.7969,201.2656 Q49,201.2656 49.4844,200.8594 Q49.9688,200.4531 49.9688,199.4531 Q49.9688,198.4531 49.4844,198.0469 Q49,197.6406 47.7969,197.6406 L46.7969,197.6406 Z M44.3438,195.5781 L47.7031,195.5781 Q50.2656,195.5781 51.3906,196.5 Q52.5156,197.4063 52.5156,199.4531 Q52.5156,201.5 51.3906,202.4219 Q50.2656,203.3281 47.7031,203.3281 L46.7969,203.3281 L46.7969,207.9688 L44.3438,207.9688 L44.3438,195.5781 Z \"/><text fill=\"#000000\" font-family=\"sans-serif\" font-size=\"12\" font-style=\"italic\" lengthAdjust=\"spacingAndGlyphs\" textLength=\"40\" x=\"59\" y=\"199.1387\">«part»</text><text fill=\"#000000\" font-family=\"sans-serif\" font-size=\"12\" lengthAdjust=\"spacingAndGlyphs\" textLength=\"8\" x=\"75\" y=\"213.1074\">p</text><line style=\"stroke: #A80036; stroke-width: 1.5;\" x1=\"33\" x2=\"99\" y1=\"220.9375\" y2=\"220.9375\"/><text fill=\"#000000\" font-family=\"sans-serif\" font-size=\"11\" lengthAdjust=\"spacingAndGlyphs\" textLength=\"29\" x=\"38\" y=\"251.9526\">p1: P</text><text fill=\"#000000\" font-family=\"sans-serif\" font-size=\"11\" lengthAdjust=\"spacingAndGlyphs\" textLength=\"38\" x=\"38\" y=\"264.7573\">p2: ~P</text><line style=\"stroke: #A80036; stroke-width: 1.0;\" x1=\"33\" x2=\"51\" y1=\"235.3398\" y2=\"235.3398\"/><text fill=\"#000000\" font-family=\"sans-serif\" font-size=\"11\" lengthAdjust=\"spacingAndGlyphs\" textLength=\"30\" x=\"51\" y=\"238.6479\">ports</text><line style=\"stroke: #A80036; stroke-width: 1.0;\" x1=\"81\" x2=\"99\" y1=\"235.3398\" y2=\"235.3398\"/></a><!--MD5=[062ed86c389d1a88f61c6380d0491e17]\n",
       "reverse link E12 to E13--><a href=\"psysml:593a6524-9b3f-4082-a23e-8ed96ff9a715\" target=\"_top\" title=\"psysml:593a6524-9b3f-4082-a23e-8ed96ff9a715\" xlink:actuate=\"onRequest\" xlink:href=\"psysml:593a6524-9b3f-4082-a23e-8ed96ff9a715\" xlink:show=\"new\" xlink:title=\"psysml:593a6524-9b3f-4082-a23e-8ed96ff9a715\" xlink:type=\"simple\"><path d=\"M58.26,115.31 C59.65,135.24 61.46,161.03 62.97,182.71 \" fill=\"none\" id=\"E12&lt;-E13\" style=\"stroke: #A80036; stroke-width: 1.0;\"/><polygon fill=\"#A80036\" points=\"57.35,102.29,53.7754,108.5527,58.1815,114.2612,61.7561,107.9984,57.35,102.29\" style=\"stroke: #A80036; stroke-width: 1.0;\"/></a><!--MD5=[d88218307e6b06b04b5c038bc11a7c86]\n",
       "@startuml\r\n",
       " \r\n",
       "package \"ConjugationTest\" as E1  [[psysml:db7199af-e574-4214-8b26-5aef0dbbdb0a ]]  {\r\n",
       "comp def \"P\" as E2  <<(D,brown)port def>> [[psysml:eee324b7-6ef1-4f74-bb85-9d01b884a0c3 ]] {\r\n",
       "}\r\n",
       "comp def \"B\" as E3  << (B,green) >> [[psysml:987ad9e8-156c-405b-94a5-0234bd5ef961 ]] {\r\n",
       "- - ports - -\r\n",
       "p1: P\r\n",
       "p2: ~P\r\n",
       "}\r\n",
       "comp def \"A\" as E6  << (B,green) >> [[psysml:d4b825d6-e011-4f07-a399-999db6b99ea3 ]] {\r\n",
       "- - ports - -\r\n",
       "p1: P\r\n",
       "p2: ~P\r\n",
       "}\r\n",
       "comp def \"I\" as E9  << (B,green) >> [[psysml:0fcf03a3-0a94-497d-adc5-5270b49e59d7 ]] {\r\n",
       "- - ports - -\r\n",
       "p1: P\r\n",
       "p2: ~P\r\n",
       "}\r\n",
       "comp def \"B1\" as E12  << (B,green) >> [[psysml:fa47a610-a800-429f-b665-228f1e266500 ]] {\r\n",
       "}\r\n",
       "comp usage \"p\" as E13  << (P,limegreen) part>> [[psysml:593a6524-9b3f-4082-a23e-8ed96ff9a715 ]] {\r\n",
       "- - ports - -\r\n",
       "p1: P\r\n",
       "p2: ~P\r\n",
       "}\r\n",
       "E12 *- - E13 [[psysml:593a6524-9b3f-4082-a23e-8ed96ff9a715 ]] \r\n",
       "}\r\n",
       "@enduml\r\n",
       "\n",
       "PlantUML version 1.2020.13(Sat Jun 13 12:26:38 UTC 2020)\n",
       "(EPL source distribution)\n",
       "Java Runtime: OpenJDK Runtime Environment\n",
       "JVM: OpenJDK 64-Bit Server VM\n",
       "Default Encoding: UTF-8\n",
       "Language: en\n",
       "Country: null\n",
       "--></g></svg>"
      ]
     },
     "execution_count": 31,
     "metadata": {},
     "output_type": "execute_result"
    }
   ],
   "source": [
    "%viz --style=\"PLANTUML\" --view=\"Tree\" \"ConjugationTest\""
   ]
  },
  {
   "cell_type": "code",
   "execution_count": 32,
   "id": "alleged-clothing",
   "metadata": {
    "execution": {
     "iopub.execute_input": "2021-03-25T13:18:54.072710Z",
     "iopub.status.busy": "2021-03-25T13:18:54.072231Z",
     "iopub.status.idle": "2021-03-25T13:18:55.036117Z",
     "shell.execute_reply": "2021-03-25T13:18:55.034884Z"
    }
   },
   "outputs": [
    {
     "data": {
      "image/svg+xml": [
       "<?xml version=\"1.0\" encoding=\"UTF-8\" standalone=\"no\"?><svg xmlns=\"http://www.w3.org/2000/svg\" xmlns:xlink=\"http://www.w3.org/1999/xlink\" contentScriptType=\"application/ecmascript\" contentStyleType=\"text/css\" height=\"303px\" preserveAspectRatio=\"none\" style=\"width:603px;height:303px;background:#000000;\" version=\"1.1\" viewBox=\"0 0 603 303\" width=\"603px\" zoomAndPan=\"magnify\"><defs/><g><rect fill=\"#191D17\" height=\"1\" style=\"stroke: #191D17; stroke-width: 1.0;\" width=\"1\" x=\"0\" y=\"0\"/><rect fill=\"#FFFFFF\" height=\"205.5625\" style=\"stroke: #FFFFFF; stroke-width: 1.0;\" width=\"602\" x=\"0\" y=\"0\"/><text fill=\"#000000\" font-family=\"sans-serif\" font-size=\"12\" font-weight=\"bold\" lengthAdjust=\"spacingAndGlyphs\" textLength=\"159\" x=\"5\" y=\"16.1387\">Welcome to PlantUML!</text><text fill=\"#000000\" font-family=\"sans-serif\" font-size=\"12\" lengthAdjust=\"spacingAndGlyphs\" textLength=\"0\" x=\"9\" y=\"30.1074\"/><text fill=\"#000000\" font-family=\"sans-serif\" font-size=\"12\" lengthAdjust=\"spacingAndGlyphs\" textLength=\"293\" x=\"5\" y=\"44.0762\">If you use this software, you accept its license.</text><text fill=\"#000000\" font-family=\"sans-serif\" font-size=\"12\" lengthAdjust=\"spacingAndGlyphs\" textLength=\"107\" x=\"5\" y=\"58.0449\">(details by typing</text><text fill=\"#000000\" font-family=\"monospace\" font-size=\"12\" lengthAdjust=\"spacingAndGlyphs\" textLength=\"49\" x=\"116\" y=\"58.0449\">license</text><text fill=\"#000000\" font-family=\"sans-serif\" font-size=\"12\" lengthAdjust=\"spacingAndGlyphs\" textLength=\"56\" x=\"169\" y=\"58.0449\">keyword)</text><text fill=\"#000000\" font-family=\"sans-serif\" font-size=\"12\" lengthAdjust=\"spacingAndGlyphs\" textLength=\"0\" x=\"9\" y=\"72.0137\"/><text fill=\"#000000\" font-family=\"sans-serif\" font-size=\"12\" lengthAdjust=\"spacingAndGlyphs\" textLength=\"283\" x=\"5\" y=\"85.9824\">You can start with a simple UML Diagram like:</text><text fill=\"#000000\" font-family=\"sans-serif\" font-size=\"12\" lengthAdjust=\"spacingAndGlyphs\" textLength=\"0\" x=\"9\" y=\"99.9512\"/><text fill=\"#000000\" font-family=\"monospace\" font-size=\"12\" lengthAdjust=\"spacingAndGlyphs\" textLength=\"119\" x=\"5\" y=\"113.9199\">Bob-&gt;Alice: Hello</text><text fill=\"#000000\" font-family=\"sans-serif\" font-size=\"12\" lengthAdjust=\"spacingAndGlyphs\" textLength=\"0\" x=\"9\" y=\"127.8887\"/><text fill=\"#000000\" font-family=\"sans-serif\" font-size=\"12\" lengthAdjust=\"spacingAndGlyphs\" textLength=\"14\" x=\"5\" y=\"141.8574\">Or</text><text fill=\"#000000\" font-family=\"sans-serif\" font-size=\"12\" lengthAdjust=\"spacingAndGlyphs\" textLength=\"0\" x=\"9\" y=\"155.8262\"/><text fill=\"#000000\" font-family=\"monospace\" font-size=\"12\" lengthAdjust=\"spacingAndGlyphs\" textLength=\"91\" x=\"5\" y=\"169.7949\">class Example</text><text fill=\"#000000\" font-family=\"sans-serif\" font-size=\"12\" lengthAdjust=\"spacingAndGlyphs\" textLength=\"0\" x=\"9\" y=\"183.7637\"/><text fill=\"#000000\" font-family=\"sans-serif\" font-size=\"12\" lengthAdjust=\"spacingAndGlyphs\" textLength=\"349\" x=\"5\" y=\"197.7324\">You will find more information about PlantUML syntax on</text><text fill=\"#000000\" font-family=\"sans-serif\" font-size=\"12\" lengthAdjust=\"spacingAndGlyphs\" text-decoration=\"underline\" textLength=\"129\" x=\"358\" y=\"197.7324\">https://plantuml.com</text><image height=\"71\" width=\"80\" x=\"516\" xlink:href=\"data:image/png;base64,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\" y=\"6\"/><rect fill=\"#000000\" height=\"96.4844\" style=\"stroke: #000000; stroke-width: 1.0;\" width=\"602\" x=\"0\" y=\"205.5625\"/><rect fill=\"#33FF02\" height=\"21.2969\" style=\"stroke: #33FF02; stroke-width: 1.0;\" width=\"170\" x=\"5\" y=\"210.5625\"/><text fill=\"#000000\" font-family=\"sans-serif\" font-size=\"14\" font-weight=\"bold\" lengthAdjust=\"spacingAndGlyphs\" textLength=\"168\" x=\"6\" y=\"225.5625\">[From string (line 2) ]</text><text fill=\"#33FF02\" font-family=\"sans-serif\" font-size=\"14\" font-weight=\"bold\" lengthAdjust=\"spacingAndGlyphs\" textLength=\"0\" x=\"10\" y=\"245.8594\"/><text fill=\"#33FF02\" font-family=\"sans-serif\" font-size=\"14\" font-weight=\"bold\" lengthAdjust=\"spacingAndGlyphs\" textLength=\"79\" x=\"5\" y=\"262.1563\">@startuml</text><text fill=\"#33FF02\" font-family=\"sans-serif\" font-size=\"14\" font-weight=\"bold\" lengthAdjust=\"spacingAndGlyphs\" textLength=\"0\" x=\"10\" y=\"278.4531\"/><text fill=\"#FF0000\" font-family=\"sans-serif\" font-size=\"14\" font-weight=\"bold\" lengthAdjust=\"spacingAndGlyphs\" textLength=\"142\" x=\"10\" y=\"294.75\">Empty description</text><!--MD5=[f59edd8218d337f74d0c332fc6737304]\n",
       "@startuml\r\n",
       " \r\n",
       "@enduml\r\n",
       "\n",
       "PlantUML version 1.2020.13(Sat Jun 13 12:26:38 UTC 2020)\n",
       "(EPL source distribution)\n",
       "Java Runtime: OpenJDK Runtime Environment\n",
       "JVM: OpenJDK 64-Bit Server VM\n",
       "Default Encoding: UTF-8\n",
       "Language: en\n",
       "Country: null\n",
       "--></g></svg>"
      ]
     },
     "execution_count": 32,
     "metadata": {},
     "output_type": "execute_result"
    }
   ],
   "source": [
    "%viz --style=\"PLANTUML\" --view=\"State\" \"ConjugationTest\""
   ]
  },
  {
   "cell_type": "code",
   "execution_count": 33,
   "id": "incorporated-runner",
   "metadata": {
    "execution": {
     "iopub.execute_input": "2021-03-25T13:18:55.087308Z",
     "iopub.status.busy": "2021-03-25T13:18:55.086422Z",
     "iopub.status.idle": "2021-03-25T13:18:55.180391Z",
     "shell.execute_reply": "2021-03-25T13:18:55.180830Z"
    }
   },
   "outputs": [
    {
     "data": {
      "image/svg+xml": [
       "<?xml version=\"1.0\" encoding=\"UTF-8\" standalone=\"no\"?><svg xmlns=\"http://www.w3.org/2000/svg\" xmlns:xlink=\"http://www.w3.org/1999/xlink\" contentScriptType=\"application/ecmascript\" contentStyleType=\"text/css\" height=\"222px\" preserveAspectRatio=\"none\" style=\"width:568px;height:222px;\" version=\"1.1\" viewBox=\"0 0 568 222\" width=\"568px\" zoomAndPan=\"magnify\"><defs><filter height=\"300%\" id=\"f19u6d7my86sms\" width=\"300%\" x=\"-1\" y=\"-1\"><feGaussianBlur result=\"blurOut\" stdDeviation=\"2.0\"/><feColorMatrix in=\"blurOut\" result=\"blurOut2\" type=\"matrix\" values=\"0 0 0 0 0 0 0 0 0 0 0 0 0 0 0 0 0 0 .4 0\"/><feOffset dx=\"4.0\" dy=\"4.0\" in=\"blurOut2\" result=\"blurOut3\"/><feBlend in=\"SourceGraphic\" in2=\"blurOut3\" mode=\"normal\"/></filter></defs><g><!--MD5=[fbc87193dbaf4d95561dea2c320d4a47]\n",
       "cluster E1--><a href=\"psysml:db7199af-e574-4214-8b26-5aef0dbbdb0a\" target=\"_top\" title=\"psysml:db7199af-e574-4214-8b26-5aef0dbbdb0a\" xlink:actuate=\"onRequest\" xlink:href=\"psysml:db7199af-e574-4214-8b26-5aef0dbbdb0a\" xlink:show=\"new\" xlink:title=\"psysml:db7199af-e574-4214-8b26-5aef0dbbdb0a\" xlink:type=\"simple\"><polygon fill=\"#FFFFFF\" filter=\"url(#f19u6d7my86sms)\" points=\"16,6,151,6,158,28.2969,546,28.2969,546,210.5,16,210.5,16,6\" style=\"stroke: #000000; stroke-width: 1.5;\"/><line style=\"stroke: #000000; stroke-width: 1.5;\" x1=\"16\" x2=\"158\" y1=\"28.2969\" y2=\"28.2969\"/><text fill=\"#000000\" font-family=\"sans-serif\" font-size=\"14\" font-weight=\"bold\" lengthAdjust=\"spacingAndGlyphs\" textLength=\"129\" x=\"20\" y=\"20.9951\">ConjugationTest</text></a><!--MD5=[d5e69f78d87373223dbae638b30a9c99]\n",
       "cluster E3--><a href=\"psysml:987ad9e8-156c-405b-94a5-0234bd5ef961\" target=\"_top\" title=\"psysml:987ad9e8-156c-405b-94a5-0234bd5ef961\" xlink:actuate=\"onRequest\" xlink:href=\"psysml:987ad9e8-156c-405b-94a5-0234bd5ef961\" xlink:show=\"new\" xlink:title=\"psysml:987ad9e8-156c-405b-94a5-0234bd5ef961\" xlink:type=\"simple\"><rect fill=\"#FFFFFF\" filter=\"url(#f19u6d7my86sms)\" height=\"72.5\" id=\"E3\" style=\"stroke: #A80036; stroke-width: 1.5;\" width=\"83\" x=\"451\" y=\"98\"/><rect fill=\"#FEFECE\" height=\"23.9688\" style=\"stroke: #A80036; stroke-width: 1.5;\" width=\"83\" x=\"451\" y=\"98\"/><text fill=\"#000000\" font-family=\"sans-serif\" font-size=\"12\" lengthAdjust=\"spacingAndGlyphs\" textLength=\"8\" x=\"488.5\" y=\"114.1387\">B</text></a><!--MD5=[14e3b0961a2654348d326746436168a1]\n",
       "cluster E6--><a href=\"psysml:d4b825d6-e011-4f07-a399-999db6b99ea3\" target=\"_top\" title=\"psysml:d4b825d6-e011-4f07-a399-999db6b99ea3\" xlink:actuate=\"onRequest\" xlink:href=\"psysml:d4b825d6-e011-4f07-a399-999db6b99ea3\" xlink:show=\"new\" xlink:title=\"psysml:d4b825d6-e011-4f07-a399-999db6b99ea3\" xlink:type=\"simple\"><rect fill=\"#FFFFFF\" filter=\"url(#f19u6d7my86sms)\" height=\"72.5\" id=\"E6\" style=\"stroke: #A80036; stroke-width: 1.5;\" width=\"83\" x=\"357\" y=\"98\"/><rect fill=\"#FEFECE\" height=\"23.9688\" style=\"stroke: #A80036; stroke-width: 1.5;\" width=\"83\" x=\"357\" y=\"98\"/><text fill=\"#000000\" font-family=\"sans-serif\" font-size=\"12\" lengthAdjust=\"spacingAndGlyphs\" textLength=\"8\" x=\"394.5\" y=\"114.1387\">A</text></a><!--MD5=[7f149f147074ac12df2cb0a7728a5fb0]\n",
       "cluster E9--><a href=\"psysml:0fcf03a3-0a94-497d-adc5-5270b49e59d7\" target=\"_top\" title=\"psysml:0fcf03a3-0a94-497d-adc5-5270b49e59d7\" xlink:actuate=\"onRequest\" xlink:href=\"psysml:0fcf03a3-0a94-497d-adc5-5270b49e59d7\" xlink:show=\"new\" xlink:title=\"psysml:0fcf03a3-0a94-497d-adc5-5270b49e59d7\" xlink:type=\"simple\"><rect fill=\"#FFFFFF\" filter=\"url(#f19u6d7my86sms)\" height=\"72.5\" id=\"E9\" style=\"stroke: #A80036; stroke-width: 1.5;\" width=\"83\" x=\"263\" y=\"98\"/><rect fill=\"#FEFECE\" height=\"23.9688\" style=\"stroke: #A80036; stroke-width: 1.5;\" width=\"83\" x=\"263\" y=\"98\"/><text fill=\"#000000\" font-family=\"sans-serif\" font-size=\"12\" lengthAdjust=\"spacingAndGlyphs\" textLength=\"3\" x=\"303\" y=\"114.1387\">I</text></a><!--MD5=[47bea60c1a0ac6c1143df232041969c0]\n",
       "cluster E12--><a href=\"psysml:fa47a610-a800-429f-b665-228f1e266500\" target=\"_top\" title=\"psysml:fa47a610-a800-429f-b665-228f1e266500\" xlink:actuate=\"onRequest\" xlink:href=\"psysml:fa47a610-a800-429f-b665-228f1e266500\" xlink:show=\"new\" xlink:title=\"psysml:fa47a610-a800-429f-b665-228f1e266500\" xlink:type=\"simple\"><rect fill=\"#FFFFFF\" filter=\"url(#f19u6d7my86sms)\" height=\"137.5\" id=\"E12\" style=\"stroke: #A80036; stroke-width: 1.5;\" width=\"107\" x=\"144\" y=\"49\"/><rect fill=\"#FEFECE\" height=\"23.9688\" style=\"stroke: #A80036; stroke-width: 1.5;\" width=\"107\" x=\"144\" y=\"49\"/><text fill=\"#000000\" font-family=\"sans-serif\" font-size=\"12\" lengthAdjust=\"spacingAndGlyphs\" textLength=\"16\" x=\"189.5\" y=\"65.1387\">B1</text></a><!--MD5=[03104f77b71e2d8d3500c651e6e31181]\n",
       "cluster E13--><a href=\"psysml:593a6524-9b3f-4082-a23e-8ed96ff9a715\" target=\"_top\" title=\"psysml:593a6524-9b3f-4082-a23e-8ed96ff9a715\" xlink:actuate=\"onRequest\" xlink:href=\"psysml:593a6524-9b3f-4082-a23e-8ed96ff9a715\" xlink:show=\"new\" xlink:title=\"psysml:593a6524-9b3f-4082-a23e-8ed96ff9a715\" xlink:type=\"simple\"><rect fill=\"#FFFFFF\" filter=\"url(#f19u6d7my86sms)\" height=\"72.5\" id=\"E13\" rx=\"10\" ry=\"10\" style=\"stroke: #A80036; stroke-width: 1.5;\" width=\"83\" x=\"156\" y=\"98\"/><rect fill=\"#FEFECE\" height=\"23.9688\" rx=\"10\" ry=\"10\" style=\"stroke: #FEFECE; stroke-width: 1.5;\" width=\"83\" x=\"156\" y=\"98\"/><rect fill=\"#FEFECE\" height=\"10\" style=\"stroke: #FEFECE; stroke-width: 1.5;\" width=\"83\" x=\"156\" y=\"111.9688\"/><rect fill=\"none\" height=\"72.5\" id=\"E13\" rx=\"10\" ry=\"10\" style=\"stroke: #A80036; stroke-width: 1.5;\" width=\"83\" x=\"156\" y=\"98\"/><text fill=\"#000000\" font-family=\"sans-serif\" font-size=\"12\" lengthAdjust=\"spacingAndGlyphs\" textLength=\"8\" x=\"193.5\" y=\"114.1387\">p</text><line style=\"stroke: #A80036; stroke-width: 1.0;\" x1=\"156\" x2=\"239\" y1=\"121.9688\" y2=\"121.9688\"/></a><g id=\"E1.E2\"><a href=\"psysml:eee324b7-6ef1-4f74-bb85-9d01b884a0c3\" target=\"_top\" title=\"psysml:eee324b7-6ef1-4f74-bb85-9d01b884a0c3\" xlink:actuate=\"onRequest\" xlink:href=\"psysml:eee324b7-6ef1-4f74-bb85-9d01b884a0c3\" xlink:show=\"new\" xlink:title=\"psysml:eee324b7-6ef1-4f74-bb85-9d01b884a0c3\" xlink:type=\"simple\"><rect fill=\"#FEFECE\" filter=\"url(#f19u6d7my86sms)\" height=\"42.9375\" id=\"E2\" style=\"stroke: #A80036; stroke-width: 1.5;\" width=\"97\" x=\"31.5\" y=\"76.5\"/><ellipse cx=\"48.75\" cy=\"95.4688\" fill=\"#A52A2A\" rx=\"11\" ry=\"11\" style=\"stroke: #A80036; stroke-width: 1.0;\"/><path d=\"M48.3438,91.2813 L48.3438,99.2656 L49,99.2656 Q50.4375,99.2656 51.0469,98.3594 Q51.6719,97.4375 51.6719,95.2656 Q51.6719,93.0938 51.0469,92.1875 Q50.4375,91.2813 49,91.2813 L48.3438,91.2813 Z M45.8906,89.0781 L48.5156,89.0781 Q51.5469,89.0781 52.875,90.5313 Q54.2188,91.9688 54.2188,95.2656 Q54.2188,98.5625 52.875,100.0156 Q51.5469,101.4688 48.5156,101.4688 L45.8906,101.4688 L45.8906,89.0781 Z \"/><text fill=\"#000000\" font-family=\"sans-serif\" font-size=\"12\" font-style=\"italic\" lengthAdjust=\"spacingAndGlyphs\" textLength=\"64\" x=\"61.25\" y=\"92.6387\">«port def»</text><text fill=\"#000000\" font-family=\"sans-serif\" font-size=\"12\" lengthAdjust=\"spacingAndGlyphs\" textLength=\"8\" x=\"89.25\" y=\"106.6074\">P</text></a></g><text fill=\"#000000\" font-family=\"sans-serif\" font-size=\"14\" lengthAdjust=\"spacingAndGlyphs\" textLength=\"36\" x=\"451\" y=\"76.6982\">p1: P</text><rect fill=\"#A80036\" height=\"12\" style=\"stroke: #FEFECE; stroke-width: 1.5;\" width=\"12\" x=\"463\" y=\"92\"/><text fill=\"#000000\" font-family=\"sans-serif\" font-size=\"14\" lengthAdjust=\"spacingAndGlyphs\" textLength=\"48\" x=\"492\" y=\"76.6982\">p2: ~P</text><rect fill=\"#A80036\" height=\"12\" style=\"stroke: #FEFECE; stroke-width: 1.5;\" width=\"12\" x=\"510\" y=\"92\"/><text fill=\"#000000\" font-family=\"sans-serif\" font-size=\"14\" lengthAdjust=\"spacingAndGlyphs\" textLength=\"36\" x=\"357\" y=\"76.6982\">p1: P</text><rect fill=\"#A80036\" height=\"12\" style=\"stroke: #FEFECE; stroke-width: 1.5;\" width=\"12\" x=\"369\" y=\"92\"/><text fill=\"#000000\" font-family=\"sans-serif\" font-size=\"14\" lengthAdjust=\"spacingAndGlyphs\" textLength=\"48\" x=\"398\" y=\"76.6982\">p2: ~P</text><rect fill=\"#A80036\" height=\"12\" style=\"stroke: #FEFECE; stroke-width: 1.5;\" width=\"12\" x=\"416\" y=\"92\"/><text fill=\"#000000\" font-family=\"sans-serif\" font-size=\"14\" lengthAdjust=\"spacingAndGlyphs\" textLength=\"36\" x=\"263\" y=\"76.6982\">p1: P</text><rect fill=\"#A80036\" height=\"12\" style=\"stroke: #FEFECE; stroke-width: 1.5;\" width=\"12\" x=\"275\" y=\"92\"/><text fill=\"#000000\" font-family=\"sans-serif\" font-size=\"14\" lengthAdjust=\"spacingAndGlyphs\" textLength=\"48\" x=\"304\" y=\"76.6982\">p2: ~P</text><rect fill=\"#A80036\" height=\"12\" style=\"stroke: #FEFECE; stroke-width: 1.5;\" width=\"12\" x=\"322\" y=\"92\"/><text fill=\"#000000\" font-family=\"sans-serif\" font-size=\"14\" lengthAdjust=\"spacingAndGlyphs\" textLength=\"36\" x=\"156\" y=\"76.6982\">p1: P</text><rect fill=\"#A80036\" height=\"12\" style=\"stroke: #FEFECE; stroke-width: 1.5;\" width=\"12\" x=\"168\" y=\"92\"/><text fill=\"#000000\" font-family=\"sans-serif\" font-size=\"14\" lengthAdjust=\"spacingAndGlyphs\" textLength=\"48\" x=\"197\" y=\"76.6982\">p2: ~P</text><rect fill=\"#A80036\" height=\"12\" style=\"stroke: #FEFECE; stroke-width: 1.5;\" width=\"12\" x=\"215\" y=\"92\"/><!--MD5=[4ce51ac6fa4cf5202df3859e2718f033]\n",
       "link E15 to E14--><a href=\"psysml:aa2d6f76-4132-425f-9826-f18a4b0e5493\" target=\"_top\" title=\"psysml:aa2d6f76-4132-425f-9826-f18a4b0e5493\" xlink:actuate=\"onRequest\" xlink:href=\"psysml:aa2d6f76-4132-425f-9826-f18a4b0e5493\" xlink:show=\"new\" xlink:title=\"psysml:aa2d6f76-4132-425f-9826-f18a4b0e5493\" xlink:type=\"simple\"><path d=\"M214.95,98 C203.38,98 191.81,98 180.24,98 \" fill=\"none\" id=\"E15-E14\" style=\"stroke: #A80036; stroke-width: 3.0;\"/></a><!--MD5=[4ce51ac6fa4cf5202df3859e2718f033]\n",
       "link E15 to E14--><a href=\"psysml:7b87a1ef-cf2b-4c9e-a130-c1b402d1e385\" target=\"_top\" title=\"psysml:7b87a1ef-cf2b-4c9e-a130-c1b402d1e385\" xlink:actuate=\"onRequest\" xlink:href=\"psysml:7b87a1ef-cf2b-4c9e-a130-c1b402d1e385\" xlink:show=\"new\" xlink:title=\"psysml:7b87a1ef-cf2b-4c9e-a130-c1b402d1e385\" xlink:type=\"simple\"><path d=\"M214.95,95.98 C203.38,92.69 191.81,92.67 180.24,95.93 \" fill=\"none\" id=\"E15-E14-1\" style=\"stroke: #A80036; stroke-width: 3.0;\"/></a><!--MD5=[ea99ede591131a457f6b7c0822b9ce70]\n",
       "@startuml\r\n",
       "skinparam ranksep 8\r\n",
       "skinparam rectangle {\r\n",
       " backgroundColor<<block>> LightGreen\r\n",
       "}\r\n",
       " \r\n",
       "package \"ConjugationTest\" as E1  [[psysml:db7199af-e574-4214-8b26-5aef0dbbdb0a ]]  {\r\n",
       "def \"P\" as E2  <<(D,brown)port def>> [[psysml:eee324b7-6ef1-4f74-bb85-9d01b884a0c3 ]] \r\n",
       "rec def \"B\" as E3  << (B,green) >> [[psysml:987ad9e8-156c-405b-94a5-0234bd5ef961 ]] {\r\n",
       "portin \"p1: P\" as E4  << (P,blue) port>> [[psysml:c8a4d081-7853-4f87-8688-3b004d6601fe ]] \r\n",
       "portin \"p2: ~P\" as E5  << (P,blue) port>> [[psysml:93d25d87-d8ba-4a14-9054-622c501a7419 ]] \r\n",
       "}\r\n",
       "rec def \"A\" as E6  << (B,green) >> [[psysml:d4b825d6-e011-4f07-a399-999db6b99ea3 ]] {\r\n",
       "portin \"p1: P\" as E7  << (P,blue) port>> [[psysml:cf23f925-3ac9-40f7-8eb9-75cb926494bb ]] \r\n",
       "portin \"p2: ~P\" as E8  << (P,blue) port>> [[psysml:78e860a1-2afe-4044-9ab4-1ebbe08f7dad ]] \r\n",
       "}\r\n",
       "rec def \"I\" as E9  << (B,green) >> [[psysml:0fcf03a3-0a94-497d-adc5-5270b49e59d7 ]] {\r\n",
       "portin \"p1: P\" as E10  << (P,blue) port>> [[psysml:e29a1f34-1b36-49a6-a497-c0e94a31f076 ]] \r\n",
       "portin \"p2: ~P\" as E11  << (P,blue) port>> [[psysml:b6345cdf-3536-4afa-a6d8-3c5d2219e138 ]] \r\n",
       "}\r\n",
       "rec def \"B1\" as E12  << (B,green) >> [[psysml:fa47a610-a800-429f-b665-228f1e266500 ]] {\r\n",
       "rec usage \"p\" as E13  [[psysml:593a6524-9b3f-4082-a23e-8ed96ff9a715 ]] {\r\n",
       "portin \"p1: P\" as E14  << (P,blue) port>> [[psysml:a4f040c8-38a0-4d60-9c1e-4003131a919c ]] \r\n",
       "portin \"p2: ~P\" as E15  << (P,blue) port>> [[psysml:661396c6-733f-4c07-bbb8-142725b64304 ]] \r\n",
       "}\r\n",
       "}\r\n",
       "E15 -[thickness=3]- E14 [[psysml:aa2d6f76-4132-425f-9826-f18a4b0e5493 ]] \r\n",
       "E15 -[thickness=3]- E14 [[psysml:7b87a1ef-cf2b-4c9e-a130-c1b402d1e385 ]] \r\n",
       "}\r\n",
       "@enduml\r\n",
       "\n",
       "PlantUML version 1.2020.13(Sat Jun 13 12:26:38 UTC 2020)\n",
       "(EPL source distribution)\n",
       "Java Runtime: OpenJDK Runtime Environment\n",
       "JVM: OpenJDK 64-Bit Server VM\n",
       "Default Encoding: UTF-8\n",
       "Language: en\n",
       "Country: null\n",
       "--></g></svg>"
      ]
     },
     "execution_count": 33,
     "metadata": {},
     "output_type": "execute_result"
    }
   ],
   "source": [
    "%viz --style=\"PLANTUML\" --view=\"Interconnection\" \"ConjugationTest\""
   ]
  },
  {
   "cell_type": "code",
   "execution_count": 34,
   "id": "orange-winter",
   "metadata": {
    "execution": {
     "iopub.execute_input": "2021-03-25T13:18:55.231911Z",
     "iopub.status.busy": "2021-03-25T13:18:55.230736Z",
     "iopub.status.idle": "2021-03-25T13:18:55.236601Z",
     "shell.execute_reply": "2021-03-25T13:18:55.236994Z"
    }
   },
   "outputs": [
    {
     "data": {
      "image/svg+xml": [
       "<?xml version=\"1.0\" encoding=\"UTF-8\" standalone=\"no\"?><svg xmlns=\"http://www.w3.org/2000/svg\" xmlns:xlink=\"http://www.w3.org/1999/xlink\" contentScriptType=\"application/ecmascript\" contentStyleType=\"text/css\" height=\"12px\" preserveAspectRatio=\"none\" style=\"width:12px;height:12px;\" version=\"1.1\" viewBox=\"0 0 12 12\" width=\"12px\" zoomAndPan=\"magnify\"><defs/><g><!--MD5=[6a4cb978cab31700e1ce5529f947a75d]\n",
       "@startuml\r\n",
       "skinparam ranksep 8\r\n",
       " \r\n",
       "@enduml\r\n",
       "\n",
       "PlantUML version 1.2020.13(Sat Jun 13 12:26:38 UTC 2020)\n",
       "(EPL source distribution)\n",
       "Java Runtime: OpenJDK Runtime Environment\n",
       "JVM: OpenJDK 64-Bit Server VM\n",
       "Default Encoding: UTF-8\n",
       "Language: en\n",
       "Country: null\n",
       "--></g></svg>"
      ]
     },
     "execution_count": 34,
     "metadata": {},
     "output_type": "execute_result"
    }
   ],
   "source": [
    "%viz --style=\"PLANTUML\" --view=\"Action\" \"ConjugationTest\""
   ]
  },
  {
   "cell_type": "code",
   "execution_count": 35,
   "id": "duplicate-awareness",
   "metadata": {
    "execution": {
     "iopub.execute_input": "2021-03-25T13:18:55.288023Z",
     "iopub.status.busy": "2021-03-25T13:18:55.287444Z",
     "iopub.status.idle": "2021-03-25T13:18:55.975894Z",
     "shell.execute_reply": "2021-03-25T13:18:55.974308Z"
    }
   },
   "outputs": [
    {
     "data": {
      "image/svg+xml": [
       "<?xml version=\"1.0\" encoding=\"UTF-8\" standalone=\"no\"?><svg xmlns=\"http://www.w3.org/2000/svg\" xmlns:xlink=\"http://www.w3.org/1999/xlink\" contentScriptType=\"application/ecmascript\" contentStyleType=\"text/css\" height=\"299px\" preserveAspectRatio=\"none\" style=\"width:500px;height:299px;\" version=\"1.1\" viewBox=\"0 0 500 299\" width=\"500px\" zoomAndPan=\"magnify\"><defs><filter height=\"300%\" id=\"f1hnlmj5rck886\" width=\"300%\" x=\"-1\" y=\"-1\"><feGaussianBlur result=\"blurOut\" stdDeviation=\"2.0\"/><feColorMatrix in=\"blurOut\" result=\"blurOut2\" type=\"matrix\" values=\"0 0 0 0 0 0 0 0 0 0 0 0 0 0 0 0 0 0 .4 0\"/><feOffset dx=\"4.0\" dy=\"4.0\" in=\"blurOut2\" result=\"blurOut3\"/><feBlend in=\"SourceGraphic\" in2=\"blurOut3\" mode=\"normal\"/></filter></defs><g><!--MD5=[fbc87193dbaf4d95561dea2c320d4a47]\n",
       "cluster E1--><a href=\"psysml:db7199af-e574-4214-8b26-5aef0dbbdb0a\" target=\"_top\" title=\"psysml:db7199af-e574-4214-8b26-5aef0dbbdb0a\" xlink:actuate=\"onRequest\" xlink:href=\"psysml:db7199af-e574-4214-8b26-5aef0dbbdb0a\" xlink:show=\"new\" xlink:title=\"psysml:db7199af-e574-4214-8b26-5aef0dbbdb0a\" xlink:type=\"simple\"><polygon fill=\"#FFFFFF\" filter=\"url(#f1hnlmj5rck886)\" points=\"16,6,151,6,158,28.2969,478,28.2969,478,287,16,287,16,6\" style=\"stroke: #000000; stroke-width: 1.5;\"/><line style=\"stroke: #000000; stroke-width: 1.5;\" x1=\"16\" x2=\"158\" y1=\"28.2969\" y2=\"28.2969\"/><text fill=\"#000000\" font-family=\"sans-serif\" font-size=\"14\" font-weight=\"bold\" lengthAdjust=\"spacingAndGlyphs\" textLength=\"129\" x=\"20\" y=\"20.9951\">ConjugationTest</text></a><!--MD5=[b4997ac47864f28c2f74865a473b2911]\n",
       "class E2--><a href=\"psysml:eee324b7-6ef1-4f74-bb85-9d01b884a0c3\" target=\"_top\" title=\"psysml:eee324b7-6ef1-4f74-bb85-9d01b884a0c3\" xlink:actuate=\"onRequest\" xlink:href=\"psysml:eee324b7-6ef1-4f74-bb85-9d01b884a0c3\" xlink:show=\"new\" xlink:title=\"psysml:eee324b7-6ef1-4f74-bb85-9d01b884a0c3\" xlink:type=\"simple\"><rect fill=\"#FEFECE\" filter=\"url(#f1hnlmj5rck886)\" height=\"45.9375\" id=\"E2\" style=\"stroke: #A80036; stroke-width: 1.5;\" width=\"92\" x=\"370\" y=\"59\"/><ellipse cx=\"385\" cy=\"77.9688\" fill=\"#A52A2A\" rx=\"11\" ry=\"11\" style=\"stroke: #A80036; stroke-width: 1.0;\"/><path d=\"M384.5938,73.7813 L384.5938,81.7656 L385.25,81.7656 Q386.6875,81.7656 387.2969,80.8594 Q387.9219,79.9375 387.9219,77.7656 Q387.9219,75.5938 387.2969,74.6875 Q386.6875,73.7813 385.25,73.7813 L384.5938,73.7813 Z M382.1406,71.5781 L384.7656,71.5781 Q387.7969,71.5781 389.125,73.0313 Q390.4688,74.4688 390.4688,77.7656 Q390.4688,81.0625 389.125,82.5156 Q387.7969,83.9688 384.7656,83.9688 L382.1406,83.9688 L382.1406,71.5781 Z \"/><text fill=\"#000000\" font-family=\"sans-serif\" font-size=\"12\" font-style=\"italic\" lengthAdjust=\"spacingAndGlyphs\" textLength=\"64\" x=\"397\" y=\"75.1387\">«port def»</text><text fill=\"#000000\" font-family=\"sans-serif\" font-size=\"12\" lengthAdjust=\"spacingAndGlyphs\" textLength=\"8\" x=\"425\" y=\"89.1074\">P</text><line style=\"stroke: #A80036; stroke-width: 1.5;\" x1=\"371\" x2=\"461\" y1=\"96.9375\" y2=\"96.9375\"/></a><!--MD5=[09b614a08d8cba4a07c9adeb5e0fee81]\n",
       "class E3--><a href=\"psysml:987ad9e8-156c-405b-94a5-0234bd5ef961\" target=\"_top\" title=\"psysml:987ad9e8-156c-405b-94a5-0234bd5ef961\" xlink:actuate=\"onRequest\" xlink:href=\"psysml:987ad9e8-156c-405b-94a5-0234bd5ef961\" xlink:show=\"new\" xlink:title=\"psysml:987ad9e8-156c-405b-94a5-0234bd5ef961\" xlink:type=\"simple\"><rect fill=\"#FEFECE\" filter=\"url(#f1hnlmj5rck886)\" height=\"82.4141\" id=\"E3\" style=\"stroke: #A80036; stroke-width: 1.5;\" width=\"50\" x=\"285\" y=\"41\"/><ellipse cx=\"304.5\" cy=\"57\" fill=\"#008000\" rx=\"11\" ry=\"11\" style=\"stroke: #A80036; stroke-width: 1.0;\"/><path d=\"M303.4063,57.375 L303.4063,61.0469 L305.0313,61.0469 Q306.2031,61.0469 306.6719,60.6563 Q307.1406,60.25 307.1406,59.25 Q307.1406,58.25 306.6406,57.8125 Q306.1563,57.375 305.0313,57.375 L303.4063,57.375 Z M303.4063,52.5469 L303.4063,55.4219 L305.0313,55.4219 Q305.9531,55.4219 306.3438,55.0938 Q306.75,54.75 306.75,54 Q306.75,53.2344 306.3438,52.8906 Q305.9375,52.5469 305.0313,52.5469 L303.4063,52.5469 Z M301.0313,50.5938 L305.0313,50.5938 Q307.0938,50.5938 308.1406,51.375 Q309.1875,52.1563 309.1875,53.7188 Q309.1875,54.9219 308.5625,55.5938 Q307.9531,56.2656 306.7656,56.375 Q308.1875,56.5156 308.9063,57.3281 Q309.625,58.1406 309.625,59.5938 Q309.625,61.3906 308.5469,62.2031 Q307.4688,63 305.0313,63 L301.0313,63 L301.0313,50.5938 Z \"/><text fill=\"#000000\" font-family=\"sans-serif\" font-size=\"12\" lengthAdjust=\"spacingAndGlyphs\" textLength=\"8\" x=\"319.5\" y=\"61.1543\">B</text><line style=\"stroke: #A80036; stroke-width: 1.5;\" x1=\"286\" x2=\"334\" y1=\"73\" y2=\"73\"/><text fill=\"#000000\" font-family=\"sans-serif\" font-size=\"11\" lengthAdjust=\"spacingAndGlyphs\" textLength=\"29\" x=\"291\" y=\"104.0151\">p1: P</text><text fill=\"#000000\" font-family=\"sans-serif\" font-size=\"11\" lengthAdjust=\"spacingAndGlyphs\" textLength=\"38\" x=\"291\" y=\"116.8198\">p2: ~P</text><line style=\"stroke: #A80036; stroke-width: 1.0;\" x1=\"286\" x2=\"295\" y1=\"87.4023\" y2=\"87.4023\"/><text fill=\"#000000\" font-family=\"sans-serif\" font-size=\"11\" lengthAdjust=\"spacingAndGlyphs\" textLength=\"30\" x=\"295\" y=\"90.7104\">ports</text><line style=\"stroke: #A80036; stroke-width: 1.0;\" x1=\"325\" x2=\"334\" y1=\"87.4023\" y2=\"87.4023\"/></a><!--MD5=[60a26617385b1d2d0262a64233df1f8d]\n",
       "class E6--><a href=\"psysml:d4b825d6-e011-4f07-a399-999db6b99ea3\" target=\"_top\" title=\"psysml:d4b825d6-e011-4f07-a399-999db6b99ea3\" xlink:actuate=\"onRequest\" xlink:href=\"psysml:d4b825d6-e011-4f07-a399-999db6b99ea3\" xlink:show=\"new\" xlink:title=\"psysml:d4b825d6-e011-4f07-a399-999db6b99ea3\" xlink:type=\"simple\"><rect fill=\"#FEFECE\" filter=\"url(#f1hnlmj5rck886)\" height=\"82.4141\" id=\"E6\" style=\"stroke: #A80036; stroke-width: 1.5;\" width=\"50\" x=\"200\" y=\"41\"/><ellipse cx=\"219.5\" cy=\"57\" fill=\"#008000\" rx=\"11\" ry=\"11\" style=\"stroke: #A80036; stroke-width: 1.0;\"/><path d=\"M218.4063,57.375 L218.4063,61.0469 L220.0313,61.0469 Q221.2031,61.0469 221.6719,60.6563 Q222.1406,60.25 222.1406,59.25 Q222.1406,58.25 221.6406,57.8125 Q221.1563,57.375 220.0313,57.375 L218.4063,57.375 Z M218.4063,52.5469 L218.4063,55.4219 L220.0313,55.4219 Q220.9531,55.4219 221.3438,55.0938 Q221.75,54.75 221.75,54 Q221.75,53.2344 221.3438,52.8906 Q220.9375,52.5469 220.0313,52.5469 L218.4063,52.5469 Z M216.0313,50.5938 L220.0313,50.5938 Q222.0938,50.5938 223.1406,51.375 Q224.1875,52.1563 224.1875,53.7188 Q224.1875,54.9219 223.5625,55.5938 Q222.9531,56.2656 221.7656,56.375 Q223.1875,56.5156 223.9063,57.3281 Q224.625,58.1406 224.625,59.5938 Q224.625,61.3906 223.5469,62.2031 Q222.4688,63 220.0313,63 L216.0313,63 L216.0313,50.5938 Z \"/><text fill=\"#000000\" font-family=\"sans-serif\" font-size=\"12\" lengthAdjust=\"spacingAndGlyphs\" textLength=\"8\" x=\"234.5\" y=\"61.1543\">A</text><line style=\"stroke: #A80036; stroke-width: 1.5;\" x1=\"201\" x2=\"249\" y1=\"73\" y2=\"73\"/><text fill=\"#000000\" font-family=\"sans-serif\" font-size=\"11\" lengthAdjust=\"spacingAndGlyphs\" textLength=\"29\" x=\"206\" y=\"104.0151\">p1: P</text><text fill=\"#000000\" font-family=\"sans-serif\" font-size=\"11\" lengthAdjust=\"spacingAndGlyphs\" textLength=\"38\" x=\"206\" y=\"116.8198\">p2: ~P</text><line style=\"stroke: #A80036; stroke-width: 1.0;\" x1=\"201\" x2=\"210\" y1=\"87.4023\" y2=\"87.4023\"/><text fill=\"#000000\" font-family=\"sans-serif\" font-size=\"11\" lengthAdjust=\"spacingAndGlyphs\" textLength=\"30\" x=\"210\" y=\"90.7104\">ports</text><line style=\"stroke: #A80036; stroke-width: 1.0;\" x1=\"240\" x2=\"249\" y1=\"87.4023\" y2=\"87.4023\"/></a><!--MD5=[fd4143e9d270a159db93a4ea2a975926]\n",
       "class E9--><a href=\"psysml:0fcf03a3-0a94-497d-adc5-5270b49e59d7\" target=\"_top\" title=\"psysml:0fcf03a3-0a94-497d-adc5-5270b49e59d7\" xlink:actuate=\"onRequest\" xlink:href=\"psysml:0fcf03a3-0a94-497d-adc5-5270b49e59d7\" xlink:show=\"new\" xlink:title=\"psysml:0fcf03a3-0a94-497d-adc5-5270b49e59d7\" xlink:type=\"simple\"><rect fill=\"#FEFECE\" filter=\"url(#f1hnlmj5rck886)\" height=\"82.4141\" id=\"E9\" style=\"stroke: #A80036; stroke-width: 1.5;\" width=\"50\" x=\"115\" y=\"41\"/><ellipse cx=\"136.75\" cy=\"57\" fill=\"#008000\" rx=\"11\" ry=\"11\" style=\"stroke: #A80036; stroke-width: 1.0;\"/><path d=\"M135.6563,57.375 L135.6563,61.0469 L137.2813,61.0469 Q138.4531,61.0469 138.9219,60.6563 Q139.3906,60.25 139.3906,59.25 Q139.3906,58.25 138.8906,57.8125 Q138.4063,57.375 137.2813,57.375 L135.6563,57.375 Z M135.6563,52.5469 L135.6563,55.4219 L137.2813,55.4219 Q138.2031,55.4219 138.5938,55.0938 Q139,54.75 139,54 Q139,53.2344 138.5938,52.8906 Q138.1875,52.5469 137.2813,52.5469 L135.6563,52.5469 Z M133.2813,50.5938 L137.2813,50.5938 Q139.3438,50.5938 140.3906,51.375 Q141.4375,52.1563 141.4375,53.7188 Q141.4375,54.9219 140.8125,55.5938 Q140.2031,56.2656 139.0156,56.375 Q140.4375,56.5156 141.1563,57.3281 Q141.875,58.1406 141.875,59.5938 Q141.875,61.3906 140.7969,62.2031 Q139.7188,63 137.2813,63 L133.2813,63 L133.2813,50.5938 Z \"/><text fill=\"#000000\" font-family=\"sans-serif\" font-size=\"12\" lengthAdjust=\"spacingAndGlyphs\" textLength=\"3\" x=\"152.25\" y=\"61.1543\">I</text><line style=\"stroke: #A80036; stroke-width: 1.5;\" x1=\"116\" x2=\"164\" y1=\"73\" y2=\"73\"/><text fill=\"#000000\" font-family=\"sans-serif\" font-size=\"11\" lengthAdjust=\"spacingAndGlyphs\" textLength=\"29\" x=\"121\" y=\"104.0151\">p1: P</text><text fill=\"#000000\" font-family=\"sans-serif\" font-size=\"11\" lengthAdjust=\"spacingAndGlyphs\" textLength=\"38\" x=\"121\" y=\"116.8198\">p2: ~P</text><line style=\"stroke: #A80036; stroke-width: 1.0;\" x1=\"116\" x2=\"125\" y1=\"87.4023\" y2=\"87.4023\"/><text fill=\"#000000\" font-family=\"sans-serif\" font-size=\"11\" lengthAdjust=\"spacingAndGlyphs\" textLength=\"30\" x=\"125\" y=\"90.7104\">ports</text><line style=\"stroke: #A80036; stroke-width: 1.0;\" x1=\"155\" x2=\"164\" y1=\"87.4023\" y2=\"87.4023\"/></a><!--MD5=[49a0ec8f00dab7302a31f22d0f0fe584]\n",
       "class E12--><a href=\"psysml:fa47a610-a800-429f-b665-228f1e266500\" target=\"_top\" title=\"psysml:fa47a610-a800-429f-b665-228f1e266500\" xlink:actuate=\"onRequest\" xlink:href=\"psysml:fa47a610-a800-429f-b665-228f1e266500\" xlink:show=\"new\" xlink:title=\"psysml:fa47a610-a800-429f-b665-228f1e266500\" xlink:type=\"simple\"><rect fill=\"#FEFECE\" filter=\"url(#f1hnlmj5rck886)\" height=\"40\" id=\"E12\" style=\"stroke: #A80036; stroke-width: 1.5;\" width=\"48\" x=\"32\" y=\"62\"/><ellipse cx=\"47\" cy=\"78\" fill=\"#008000\" rx=\"11\" ry=\"11\" style=\"stroke: #A80036; stroke-width: 1.0;\"/><path d=\"M45.9063,78.375 L45.9063,82.0469 L47.5313,82.0469 Q48.7031,82.0469 49.1719,81.6563 Q49.6406,81.25 49.6406,80.25 Q49.6406,79.25 49.1406,78.8125 Q48.6563,78.375 47.5313,78.375 L45.9063,78.375 Z M45.9063,73.5469 L45.9063,76.4219 L47.5313,76.4219 Q48.4531,76.4219 48.8438,76.0938 Q49.25,75.75 49.25,75 Q49.25,74.2344 48.8438,73.8906 Q48.4375,73.5469 47.5313,73.5469 L45.9063,73.5469 Z M43.5313,71.5938 L47.5313,71.5938 Q49.5938,71.5938 50.6406,72.375 Q51.6875,73.1563 51.6875,74.7188 Q51.6875,75.9219 51.0625,76.5938 Q50.4531,77.2656 49.2656,77.375 Q50.6875,77.5156 51.4063,78.3281 Q52.125,79.1406 52.125,80.5938 Q52.125,82.3906 51.0469,83.2031 Q49.9688,84 47.5313,84 L43.5313,84 L43.5313,71.5938 Z \"/><text fill=\"#000000\" font-family=\"sans-serif\" font-size=\"12\" lengthAdjust=\"spacingAndGlyphs\" textLength=\"16\" x=\"61\" y=\"82.1543\">B1</text><line style=\"stroke: #A80036; stroke-width: 1.5;\" x1=\"33\" x2=\"79\" y1=\"94\" y2=\"94\"/></a><!--MD5=[ee3c913d1a06f366521f9ef512b67efe]\n",
       "class E13--><a href=\"psysml:593a6524-9b3f-4082-a23e-8ed96ff9a715\" target=\"_top\" title=\"psysml:593a6524-9b3f-4082-a23e-8ed96ff9a715\" xlink:actuate=\"onRequest\" xlink:href=\"psysml:593a6524-9b3f-4082-a23e-8ed96ff9a715\" xlink:show=\"new\" xlink:title=\"psysml:593a6524-9b3f-4082-a23e-8ed96ff9a715\" xlink:type=\"simple\"><rect fill=\"#FEFECE\" filter=\"url(#f1hnlmj5rck886)\" height=\"88.3516\" id=\"E13\" rx=\"10\" ry=\"10\" style=\"stroke: #A80036; stroke-width: 1.5;\" width=\"68\" x=\"32\" y=\"183\"/><ellipse cx=\"47\" cy=\"201.9688\" fill=\"#32CD32\" rx=\"11\" ry=\"11\" style=\"stroke: #A80036; stroke-width: 1.0;\"/><path d=\"M46.7969,197.6406 L46.7969,201.2656 L47.7969,201.2656 Q49,201.2656 49.4844,200.8594 Q49.9688,200.4531 49.9688,199.4531 Q49.9688,198.4531 49.4844,198.0469 Q49,197.6406 47.7969,197.6406 L46.7969,197.6406 Z M44.3438,195.5781 L47.7031,195.5781 Q50.2656,195.5781 51.3906,196.5 Q52.5156,197.4063 52.5156,199.4531 Q52.5156,201.5 51.3906,202.4219 Q50.2656,203.3281 47.7031,203.3281 L46.7969,203.3281 L46.7969,207.9688 L44.3438,207.9688 L44.3438,195.5781 Z \"/><text fill=\"#000000\" font-family=\"sans-serif\" font-size=\"12\" font-style=\"italic\" lengthAdjust=\"spacingAndGlyphs\" textLength=\"40\" x=\"59\" y=\"199.1387\">«part»</text><text fill=\"#000000\" font-family=\"sans-serif\" font-size=\"12\" lengthAdjust=\"spacingAndGlyphs\" textLength=\"8\" x=\"75\" y=\"213.1074\">p</text><line style=\"stroke: #A80036; stroke-width: 1.5;\" x1=\"33\" x2=\"99\" y1=\"220.9375\" y2=\"220.9375\"/><text fill=\"#000000\" font-family=\"sans-serif\" font-size=\"11\" lengthAdjust=\"spacingAndGlyphs\" textLength=\"29\" x=\"38\" y=\"251.9526\">p1: P</text><text fill=\"#000000\" font-family=\"sans-serif\" font-size=\"11\" lengthAdjust=\"spacingAndGlyphs\" textLength=\"38\" x=\"38\" y=\"264.7573\">p2: ~P</text><line style=\"stroke: #A80036; stroke-width: 1.0;\" x1=\"33\" x2=\"51\" y1=\"235.3398\" y2=\"235.3398\"/><text fill=\"#000000\" font-family=\"sans-serif\" font-size=\"11\" lengthAdjust=\"spacingAndGlyphs\" textLength=\"30\" x=\"51\" y=\"238.6479\">ports</text><line style=\"stroke: #A80036; stroke-width: 1.0;\" x1=\"81\" x2=\"99\" y1=\"235.3398\" y2=\"235.3398\"/></a><!--MD5=[062ed86c389d1a88f61c6380d0491e17]\n",
       "reverse link E12 to E13--><a href=\"psysml:593a6524-9b3f-4082-a23e-8ed96ff9a715\" target=\"_top\" title=\"psysml:593a6524-9b3f-4082-a23e-8ed96ff9a715\" xlink:actuate=\"onRequest\" xlink:href=\"psysml:593a6524-9b3f-4082-a23e-8ed96ff9a715\" xlink:show=\"new\" xlink:title=\"psysml:593a6524-9b3f-4082-a23e-8ed96ff9a715\" xlink:type=\"simple\"><path d=\"M58.26,115.31 C59.65,135.24 61.46,161.03 62.97,182.71 \" fill=\"none\" id=\"E12&lt;-E13\" style=\"stroke: #A80036; stroke-width: 1.0;\"/><polygon fill=\"#A80036\" points=\"57.35,102.29,53.7754,108.5527,58.1815,114.2612,61.7561,107.9984,57.35,102.29\" style=\"stroke: #A80036; stroke-width: 1.0;\"/></a><!--MD5=[d88218307e6b06b04b5c038bc11a7c86]\n",
       "@startuml\r\n",
       " \r\n",
       "package \"ConjugationTest\" as E1  [[psysml:db7199af-e574-4214-8b26-5aef0dbbdb0a ]]  {\r\n",
       "comp def \"P\" as E2  <<(D,brown)port def>> [[psysml:eee324b7-6ef1-4f74-bb85-9d01b884a0c3 ]] {\r\n",
       "}\r\n",
       "comp def \"B\" as E3  << (B,green) >> [[psysml:987ad9e8-156c-405b-94a5-0234bd5ef961 ]] {\r\n",
       "- - ports - -\r\n",
       "p1: P\r\n",
       "p2: ~P\r\n",
       "}\r\n",
       "comp def \"A\" as E6  << (B,green) >> [[psysml:d4b825d6-e011-4f07-a399-999db6b99ea3 ]] {\r\n",
       "- - ports - -\r\n",
       "p1: P\r\n",
       "p2: ~P\r\n",
       "}\r\n",
       "comp def \"I\" as E9  << (B,green) >> [[psysml:0fcf03a3-0a94-497d-adc5-5270b49e59d7 ]] {\r\n",
       "- - ports - -\r\n",
       "p1: P\r\n",
       "p2: ~P\r\n",
       "}\r\n",
       "comp def \"B1\" as E12  << (B,green) >> [[psysml:fa47a610-a800-429f-b665-228f1e266500 ]] {\r\n",
       "}\r\n",
       "comp usage \"p\" as E13  << (P,limegreen) part>> [[psysml:593a6524-9b3f-4082-a23e-8ed96ff9a715 ]] {\r\n",
       "- - ports - -\r\n",
       "p1: P\r\n",
       "p2: ~P\r\n",
       "}\r\n",
       "E12 *- - E13 [[psysml:593a6524-9b3f-4082-a23e-8ed96ff9a715 ]] \r\n",
       "}\r\n",
       "@enduml\r\n",
       "\n",
       "PlantUML version 1.2020.13(Sat Jun 13 12:26:38 UTC 2020)\n",
       "(EPL source distribution)\n",
       "Java Runtime: OpenJDK Runtime Environment\n",
       "JVM: OpenJDK 64-Bit Server VM\n",
       "Default Encoding: UTF-8\n",
       "Language: en\n",
       "Country: null\n",
       "--></g></svg>"
      ]
     },
     "execution_count": 35,
     "metadata": {},
     "output_type": "execute_result"
    }
   ],
   "source": [
    "%viz --style=\"PLANTUML\" --view=\"Sequence\" \"ConjugationTest\""
   ]
  },
  {
   "cell_type": "code",
   "execution_count": 36,
   "id": "extraordinary-fence",
   "metadata": {
    "execution": {
     "iopub.execute_input": "2021-03-25T13:18:56.026114Z",
     "iopub.status.busy": "2021-03-25T13:18:56.025592Z",
     "iopub.status.idle": "2021-03-25T13:18:56.714999Z",
     "shell.execute_reply": "2021-03-25T13:18:56.715570Z"
    }
   },
   "outputs": [
    {
     "data": {
      "image/svg+xml": [
       "<?xml version=\"1.0\" encoding=\"UTF-8\" standalone=\"no\"?><svg xmlns=\"http://www.w3.org/2000/svg\" xmlns:xlink=\"http://www.w3.org/1999/xlink\" contentScriptType=\"application/ecmascript\" contentStyleType=\"text/css\" height=\"299px\" preserveAspectRatio=\"none\" style=\"width:500px;height:299px;\" version=\"1.1\" viewBox=\"0 0 500 299\" width=\"500px\" zoomAndPan=\"magnify\"><defs><filter height=\"300%\" id=\"f1hnlmj5rck886\" width=\"300%\" x=\"-1\" y=\"-1\"><feGaussianBlur result=\"blurOut\" stdDeviation=\"2.0\"/><feColorMatrix in=\"blurOut\" result=\"blurOut2\" type=\"matrix\" values=\"0 0 0 0 0 0 0 0 0 0 0 0 0 0 0 0 0 0 .4 0\"/><feOffset dx=\"4.0\" dy=\"4.0\" in=\"blurOut2\" result=\"blurOut3\"/><feBlend in=\"SourceGraphic\" in2=\"blurOut3\" mode=\"normal\"/></filter></defs><g><!--MD5=[fbc87193dbaf4d95561dea2c320d4a47]\n",
       "cluster E1--><a href=\"psysml:db7199af-e574-4214-8b26-5aef0dbbdb0a\" target=\"_top\" title=\"psysml:db7199af-e574-4214-8b26-5aef0dbbdb0a\" xlink:actuate=\"onRequest\" xlink:href=\"psysml:db7199af-e574-4214-8b26-5aef0dbbdb0a\" xlink:show=\"new\" xlink:title=\"psysml:db7199af-e574-4214-8b26-5aef0dbbdb0a\" xlink:type=\"simple\"><polygon fill=\"#FFFFFF\" filter=\"url(#f1hnlmj5rck886)\" points=\"16,6,151,6,158,28.2969,478,28.2969,478,287,16,287,16,6\" style=\"stroke: #000000; stroke-width: 1.5;\"/><line style=\"stroke: #000000; stroke-width: 1.5;\" x1=\"16\" x2=\"158\" y1=\"28.2969\" y2=\"28.2969\"/><text fill=\"#000000\" font-family=\"sans-serif\" font-size=\"14\" font-weight=\"bold\" lengthAdjust=\"spacingAndGlyphs\" textLength=\"129\" x=\"20\" y=\"20.9951\">ConjugationTest</text></a><!--MD5=[b4997ac47864f28c2f74865a473b2911]\n",
       "class E2--><a href=\"psysml:eee324b7-6ef1-4f74-bb85-9d01b884a0c3\" target=\"_top\" title=\"psysml:eee324b7-6ef1-4f74-bb85-9d01b884a0c3\" xlink:actuate=\"onRequest\" xlink:href=\"psysml:eee324b7-6ef1-4f74-bb85-9d01b884a0c3\" xlink:show=\"new\" xlink:title=\"psysml:eee324b7-6ef1-4f74-bb85-9d01b884a0c3\" xlink:type=\"simple\"><rect fill=\"#FEFECE\" filter=\"url(#f1hnlmj5rck886)\" height=\"45.9375\" id=\"E2\" style=\"stroke: #A80036; stroke-width: 1.5;\" width=\"92\" x=\"370\" y=\"59\"/><ellipse cx=\"385\" cy=\"77.9688\" fill=\"#A52A2A\" rx=\"11\" ry=\"11\" style=\"stroke: #A80036; stroke-width: 1.0;\"/><path d=\"M384.5938,73.7813 L384.5938,81.7656 L385.25,81.7656 Q386.6875,81.7656 387.2969,80.8594 Q387.9219,79.9375 387.9219,77.7656 Q387.9219,75.5938 387.2969,74.6875 Q386.6875,73.7813 385.25,73.7813 L384.5938,73.7813 Z M382.1406,71.5781 L384.7656,71.5781 Q387.7969,71.5781 389.125,73.0313 Q390.4688,74.4688 390.4688,77.7656 Q390.4688,81.0625 389.125,82.5156 Q387.7969,83.9688 384.7656,83.9688 L382.1406,83.9688 L382.1406,71.5781 Z \"/><text fill=\"#000000\" font-family=\"sans-serif\" font-size=\"12\" font-style=\"italic\" lengthAdjust=\"spacingAndGlyphs\" textLength=\"64\" x=\"397\" y=\"75.1387\">«port def»</text><text fill=\"#000000\" font-family=\"sans-serif\" font-size=\"12\" lengthAdjust=\"spacingAndGlyphs\" textLength=\"8\" x=\"425\" y=\"89.1074\">P</text><line style=\"stroke: #A80036; stroke-width: 1.5;\" x1=\"371\" x2=\"461\" y1=\"96.9375\" y2=\"96.9375\"/></a><!--MD5=[09b614a08d8cba4a07c9adeb5e0fee81]\n",
       "class E3--><a href=\"psysml:987ad9e8-156c-405b-94a5-0234bd5ef961\" target=\"_top\" title=\"psysml:987ad9e8-156c-405b-94a5-0234bd5ef961\" xlink:actuate=\"onRequest\" xlink:href=\"psysml:987ad9e8-156c-405b-94a5-0234bd5ef961\" xlink:show=\"new\" xlink:title=\"psysml:987ad9e8-156c-405b-94a5-0234bd5ef961\" xlink:type=\"simple\"><rect fill=\"#FEFECE\" filter=\"url(#f1hnlmj5rck886)\" height=\"82.4141\" id=\"E3\" style=\"stroke: #A80036; stroke-width: 1.5;\" width=\"50\" x=\"285\" y=\"41\"/><ellipse cx=\"304.5\" cy=\"57\" fill=\"#008000\" rx=\"11\" ry=\"11\" style=\"stroke: #A80036; stroke-width: 1.0;\"/><path d=\"M303.4063,57.375 L303.4063,61.0469 L305.0313,61.0469 Q306.2031,61.0469 306.6719,60.6563 Q307.1406,60.25 307.1406,59.25 Q307.1406,58.25 306.6406,57.8125 Q306.1563,57.375 305.0313,57.375 L303.4063,57.375 Z M303.4063,52.5469 L303.4063,55.4219 L305.0313,55.4219 Q305.9531,55.4219 306.3438,55.0938 Q306.75,54.75 306.75,54 Q306.75,53.2344 306.3438,52.8906 Q305.9375,52.5469 305.0313,52.5469 L303.4063,52.5469 Z M301.0313,50.5938 L305.0313,50.5938 Q307.0938,50.5938 308.1406,51.375 Q309.1875,52.1563 309.1875,53.7188 Q309.1875,54.9219 308.5625,55.5938 Q307.9531,56.2656 306.7656,56.375 Q308.1875,56.5156 308.9063,57.3281 Q309.625,58.1406 309.625,59.5938 Q309.625,61.3906 308.5469,62.2031 Q307.4688,63 305.0313,63 L301.0313,63 L301.0313,50.5938 Z \"/><text fill=\"#000000\" font-family=\"sans-serif\" font-size=\"12\" lengthAdjust=\"spacingAndGlyphs\" textLength=\"8\" x=\"319.5\" y=\"61.1543\">B</text><line style=\"stroke: #A80036; stroke-width: 1.5;\" x1=\"286\" x2=\"334\" y1=\"73\" y2=\"73\"/><text fill=\"#000000\" font-family=\"sans-serif\" font-size=\"11\" lengthAdjust=\"spacingAndGlyphs\" textLength=\"29\" x=\"291\" y=\"104.0151\">p1: P</text><text fill=\"#000000\" font-family=\"sans-serif\" font-size=\"11\" lengthAdjust=\"spacingAndGlyphs\" textLength=\"38\" x=\"291\" y=\"116.8198\">p2: ~P</text><line style=\"stroke: #A80036; stroke-width: 1.0;\" x1=\"286\" x2=\"295\" y1=\"87.4023\" y2=\"87.4023\"/><text fill=\"#000000\" font-family=\"sans-serif\" font-size=\"11\" lengthAdjust=\"spacingAndGlyphs\" textLength=\"30\" x=\"295\" y=\"90.7104\">ports</text><line style=\"stroke: #A80036; stroke-width: 1.0;\" x1=\"325\" x2=\"334\" y1=\"87.4023\" y2=\"87.4023\"/></a><!--MD5=[60a26617385b1d2d0262a64233df1f8d]\n",
       "class E6--><a href=\"psysml:d4b825d6-e011-4f07-a399-999db6b99ea3\" target=\"_top\" title=\"psysml:d4b825d6-e011-4f07-a399-999db6b99ea3\" xlink:actuate=\"onRequest\" xlink:href=\"psysml:d4b825d6-e011-4f07-a399-999db6b99ea3\" xlink:show=\"new\" xlink:title=\"psysml:d4b825d6-e011-4f07-a399-999db6b99ea3\" xlink:type=\"simple\"><rect fill=\"#FEFECE\" filter=\"url(#f1hnlmj5rck886)\" height=\"82.4141\" id=\"E6\" style=\"stroke: #A80036; stroke-width: 1.5;\" width=\"50\" x=\"200\" y=\"41\"/><ellipse cx=\"219.5\" cy=\"57\" fill=\"#008000\" rx=\"11\" ry=\"11\" style=\"stroke: #A80036; stroke-width: 1.0;\"/><path d=\"M218.4063,57.375 L218.4063,61.0469 L220.0313,61.0469 Q221.2031,61.0469 221.6719,60.6563 Q222.1406,60.25 222.1406,59.25 Q222.1406,58.25 221.6406,57.8125 Q221.1563,57.375 220.0313,57.375 L218.4063,57.375 Z M218.4063,52.5469 L218.4063,55.4219 L220.0313,55.4219 Q220.9531,55.4219 221.3438,55.0938 Q221.75,54.75 221.75,54 Q221.75,53.2344 221.3438,52.8906 Q220.9375,52.5469 220.0313,52.5469 L218.4063,52.5469 Z M216.0313,50.5938 L220.0313,50.5938 Q222.0938,50.5938 223.1406,51.375 Q224.1875,52.1563 224.1875,53.7188 Q224.1875,54.9219 223.5625,55.5938 Q222.9531,56.2656 221.7656,56.375 Q223.1875,56.5156 223.9063,57.3281 Q224.625,58.1406 224.625,59.5938 Q224.625,61.3906 223.5469,62.2031 Q222.4688,63 220.0313,63 L216.0313,63 L216.0313,50.5938 Z \"/><text fill=\"#000000\" font-family=\"sans-serif\" font-size=\"12\" lengthAdjust=\"spacingAndGlyphs\" textLength=\"8\" x=\"234.5\" y=\"61.1543\">A</text><line style=\"stroke: #A80036; stroke-width: 1.5;\" x1=\"201\" x2=\"249\" y1=\"73\" y2=\"73\"/><text fill=\"#000000\" font-family=\"sans-serif\" font-size=\"11\" lengthAdjust=\"spacingAndGlyphs\" textLength=\"29\" x=\"206\" y=\"104.0151\">p1: P</text><text fill=\"#000000\" font-family=\"sans-serif\" font-size=\"11\" lengthAdjust=\"spacingAndGlyphs\" textLength=\"38\" x=\"206\" y=\"116.8198\">p2: ~P</text><line style=\"stroke: #A80036; stroke-width: 1.0;\" x1=\"201\" x2=\"210\" y1=\"87.4023\" y2=\"87.4023\"/><text fill=\"#000000\" font-family=\"sans-serif\" font-size=\"11\" lengthAdjust=\"spacingAndGlyphs\" textLength=\"30\" x=\"210\" y=\"90.7104\">ports</text><line style=\"stroke: #A80036; stroke-width: 1.0;\" x1=\"240\" x2=\"249\" y1=\"87.4023\" y2=\"87.4023\"/></a><!--MD5=[fd4143e9d270a159db93a4ea2a975926]\n",
       "class E9--><a href=\"psysml:0fcf03a3-0a94-497d-adc5-5270b49e59d7\" target=\"_top\" title=\"psysml:0fcf03a3-0a94-497d-adc5-5270b49e59d7\" xlink:actuate=\"onRequest\" xlink:href=\"psysml:0fcf03a3-0a94-497d-adc5-5270b49e59d7\" xlink:show=\"new\" xlink:title=\"psysml:0fcf03a3-0a94-497d-adc5-5270b49e59d7\" xlink:type=\"simple\"><rect fill=\"#FEFECE\" filter=\"url(#f1hnlmj5rck886)\" height=\"82.4141\" id=\"E9\" style=\"stroke: #A80036; stroke-width: 1.5;\" width=\"50\" x=\"115\" y=\"41\"/><ellipse cx=\"136.75\" cy=\"57\" fill=\"#008000\" rx=\"11\" ry=\"11\" style=\"stroke: #A80036; stroke-width: 1.0;\"/><path d=\"M135.6563,57.375 L135.6563,61.0469 L137.2813,61.0469 Q138.4531,61.0469 138.9219,60.6563 Q139.3906,60.25 139.3906,59.25 Q139.3906,58.25 138.8906,57.8125 Q138.4063,57.375 137.2813,57.375 L135.6563,57.375 Z M135.6563,52.5469 L135.6563,55.4219 L137.2813,55.4219 Q138.2031,55.4219 138.5938,55.0938 Q139,54.75 139,54 Q139,53.2344 138.5938,52.8906 Q138.1875,52.5469 137.2813,52.5469 L135.6563,52.5469 Z M133.2813,50.5938 L137.2813,50.5938 Q139.3438,50.5938 140.3906,51.375 Q141.4375,52.1563 141.4375,53.7188 Q141.4375,54.9219 140.8125,55.5938 Q140.2031,56.2656 139.0156,56.375 Q140.4375,56.5156 141.1563,57.3281 Q141.875,58.1406 141.875,59.5938 Q141.875,61.3906 140.7969,62.2031 Q139.7188,63 137.2813,63 L133.2813,63 L133.2813,50.5938 Z \"/><text fill=\"#000000\" font-family=\"sans-serif\" font-size=\"12\" lengthAdjust=\"spacingAndGlyphs\" textLength=\"3\" x=\"152.25\" y=\"61.1543\">I</text><line style=\"stroke: #A80036; stroke-width: 1.5;\" x1=\"116\" x2=\"164\" y1=\"73\" y2=\"73\"/><text fill=\"#000000\" font-family=\"sans-serif\" font-size=\"11\" lengthAdjust=\"spacingAndGlyphs\" textLength=\"29\" x=\"121\" y=\"104.0151\">p1: P</text><text fill=\"#000000\" font-family=\"sans-serif\" font-size=\"11\" lengthAdjust=\"spacingAndGlyphs\" textLength=\"38\" x=\"121\" y=\"116.8198\">p2: ~P</text><line style=\"stroke: #A80036; stroke-width: 1.0;\" x1=\"116\" x2=\"125\" y1=\"87.4023\" y2=\"87.4023\"/><text fill=\"#000000\" font-family=\"sans-serif\" font-size=\"11\" lengthAdjust=\"spacingAndGlyphs\" textLength=\"30\" x=\"125\" y=\"90.7104\">ports</text><line style=\"stroke: #A80036; stroke-width: 1.0;\" x1=\"155\" x2=\"164\" y1=\"87.4023\" y2=\"87.4023\"/></a><!--MD5=[49a0ec8f00dab7302a31f22d0f0fe584]\n",
       "class E12--><a href=\"psysml:fa47a610-a800-429f-b665-228f1e266500\" target=\"_top\" title=\"psysml:fa47a610-a800-429f-b665-228f1e266500\" xlink:actuate=\"onRequest\" xlink:href=\"psysml:fa47a610-a800-429f-b665-228f1e266500\" xlink:show=\"new\" xlink:title=\"psysml:fa47a610-a800-429f-b665-228f1e266500\" xlink:type=\"simple\"><rect fill=\"#FEFECE\" filter=\"url(#f1hnlmj5rck886)\" height=\"40\" id=\"E12\" style=\"stroke: #A80036; stroke-width: 1.5;\" width=\"48\" x=\"32\" y=\"62\"/><ellipse cx=\"47\" cy=\"78\" fill=\"#008000\" rx=\"11\" ry=\"11\" style=\"stroke: #A80036; stroke-width: 1.0;\"/><path d=\"M45.9063,78.375 L45.9063,82.0469 L47.5313,82.0469 Q48.7031,82.0469 49.1719,81.6563 Q49.6406,81.25 49.6406,80.25 Q49.6406,79.25 49.1406,78.8125 Q48.6563,78.375 47.5313,78.375 L45.9063,78.375 Z M45.9063,73.5469 L45.9063,76.4219 L47.5313,76.4219 Q48.4531,76.4219 48.8438,76.0938 Q49.25,75.75 49.25,75 Q49.25,74.2344 48.8438,73.8906 Q48.4375,73.5469 47.5313,73.5469 L45.9063,73.5469 Z M43.5313,71.5938 L47.5313,71.5938 Q49.5938,71.5938 50.6406,72.375 Q51.6875,73.1563 51.6875,74.7188 Q51.6875,75.9219 51.0625,76.5938 Q50.4531,77.2656 49.2656,77.375 Q50.6875,77.5156 51.4063,78.3281 Q52.125,79.1406 52.125,80.5938 Q52.125,82.3906 51.0469,83.2031 Q49.9688,84 47.5313,84 L43.5313,84 L43.5313,71.5938 Z \"/><text fill=\"#000000\" font-family=\"sans-serif\" font-size=\"12\" lengthAdjust=\"spacingAndGlyphs\" textLength=\"16\" x=\"61\" y=\"82.1543\">B1</text><line style=\"stroke: #A80036; stroke-width: 1.5;\" x1=\"33\" x2=\"79\" y1=\"94\" y2=\"94\"/></a><!--MD5=[ee3c913d1a06f366521f9ef512b67efe]\n",
       "class E13--><a href=\"psysml:593a6524-9b3f-4082-a23e-8ed96ff9a715\" target=\"_top\" title=\"psysml:593a6524-9b3f-4082-a23e-8ed96ff9a715\" xlink:actuate=\"onRequest\" xlink:href=\"psysml:593a6524-9b3f-4082-a23e-8ed96ff9a715\" xlink:show=\"new\" xlink:title=\"psysml:593a6524-9b3f-4082-a23e-8ed96ff9a715\" xlink:type=\"simple\"><rect fill=\"#FEFECE\" filter=\"url(#f1hnlmj5rck886)\" height=\"88.3516\" id=\"E13\" rx=\"10\" ry=\"10\" style=\"stroke: #A80036; stroke-width: 1.5;\" width=\"68\" x=\"32\" y=\"183\"/><ellipse cx=\"47\" cy=\"201.9688\" fill=\"#32CD32\" rx=\"11\" ry=\"11\" style=\"stroke: #A80036; stroke-width: 1.0;\"/><path d=\"M46.7969,197.6406 L46.7969,201.2656 L47.7969,201.2656 Q49,201.2656 49.4844,200.8594 Q49.9688,200.4531 49.9688,199.4531 Q49.9688,198.4531 49.4844,198.0469 Q49,197.6406 47.7969,197.6406 L46.7969,197.6406 Z M44.3438,195.5781 L47.7031,195.5781 Q50.2656,195.5781 51.3906,196.5 Q52.5156,197.4063 52.5156,199.4531 Q52.5156,201.5 51.3906,202.4219 Q50.2656,203.3281 47.7031,203.3281 L46.7969,203.3281 L46.7969,207.9688 L44.3438,207.9688 L44.3438,195.5781 Z \"/><text fill=\"#000000\" font-family=\"sans-serif\" font-size=\"12\" font-style=\"italic\" lengthAdjust=\"spacingAndGlyphs\" textLength=\"40\" x=\"59\" y=\"199.1387\">«part»</text><text fill=\"#000000\" font-family=\"sans-serif\" font-size=\"12\" lengthAdjust=\"spacingAndGlyphs\" textLength=\"8\" x=\"75\" y=\"213.1074\">p</text><line style=\"stroke: #A80036; stroke-width: 1.5;\" x1=\"33\" x2=\"99\" y1=\"220.9375\" y2=\"220.9375\"/><text fill=\"#000000\" font-family=\"sans-serif\" font-size=\"11\" lengthAdjust=\"spacingAndGlyphs\" textLength=\"29\" x=\"38\" y=\"251.9526\">p1: P</text><text fill=\"#000000\" font-family=\"sans-serif\" font-size=\"11\" lengthAdjust=\"spacingAndGlyphs\" textLength=\"38\" x=\"38\" y=\"264.7573\">p2: ~P</text><line style=\"stroke: #A80036; stroke-width: 1.0;\" x1=\"33\" x2=\"51\" y1=\"235.3398\" y2=\"235.3398\"/><text fill=\"#000000\" font-family=\"sans-serif\" font-size=\"11\" lengthAdjust=\"spacingAndGlyphs\" textLength=\"30\" x=\"51\" y=\"238.6479\">ports</text><line style=\"stroke: #A80036; stroke-width: 1.0;\" x1=\"81\" x2=\"99\" y1=\"235.3398\" y2=\"235.3398\"/></a><!--MD5=[062ed86c389d1a88f61c6380d0491e17]\n",
       "reverse link E12 to E13--><a href=\"psysml:593a6524-9b3f-4082-a23e-8ed96ff9a715\" target=\"_top\" title=\"psysml:593a6524-9b3f-4082-a23e-8ed96ff9a715\" xlink:actuate=\"onRequest\" xlink:href=\"psysml:593a6524-9b3f-4082-a23e-8ed96ff9a715\" xlink:show=\"new\" xlink:title=\"psysml:593a6524-9b3f-4082-a23e-8ed96ff9a715\" xlink:type=\"simple\"><path d=\"M58.26,115.31 C59.65,135.24 61.46,161.03 62.97,182.71 \" fill=\"none\" id=\"E12&lt;-E13\" style=\"stroke: #A80036; stroke-width: 1.0;\"/><polygon fill=\"#A80036\" points=\"57.35,102.29,53.7754,108.5527,58.1815,114.2612,61.7561,107.9984,57.35,102.29\" style=\"stroke: #A80036; stroke-width: 1.0;\"/></a><!--MD5=[d88218307e6b06b04b5c038bc11a7c86]\n",
       "@startuml\r\n",
       " \r\n",
       "package \"ConjugationTest\" as E1  [[psysml:db7199af-e574-4214-8b26-5aef0dbbdb0a ]]  {\r\n",
       "comp def \"P\" as E2  <<(D,brown)port def>> [[psysml:eee324b7-6ef1-4f74-bb85-9d01b884a0c3 ]] {\r\n",
       "}\r\n",
       "comp def \"B\" as E3  << (B,green) >> [[psysml:987ad9e8-156c-405b-94a5-0234bd5ef961 ]] {\r\n",
       "- - ports - -\r\n",
       "p1: P\r\n",
       "p2: ~P\r\n",
       "}\r\n",
       "comp def \"A\" as E6  << (B,green) >> [[psysml:d4b825d6-e011-4f07-a399-999db6b99ea3 ]] {\r\n",
       "- - ports - -\r\n",
       "p1: P\r\n",
       "p2: ~P\r\n",
       "}\r\n",
       "comp def \"I\" as E9  << (B,green) >> [[psysml:0fcf03a3-0a94-497d-adc5-5270b49e59d7 ]] {\r\n",
       "- - ports - -\r\n",
       "p1: P\r\n",
       "p2: ~P\r\n",
       "}\r\n",
       "comp def \"B1\" as E12  << (B,green) >> [[psysml:fa47a610-a800-429f-b665-228f1e266500 ]] {\r\n",
       "}\r\n",
       "comp usage \"p\" as E13  << (P,limegreen) part>> [[psysml:593a6524-9b3f-4082-a23e-8ed96ff9a715 ]] {\r\n",
       "- - ports - -\r\n",
       "p1: P\r\n",
       "p2: ~P\r\n",
       "}\r\n",
       "E12 *- - E13 [[psysml:593a6524-9b3f-4082-a23e-8ed96ff9a715 ]] \r\n",
       "}\r\n",
       "@enduml\r\n",
       "\n",
       "PlantUML version 1.2020.13(Sat Jun 13 12:26:38 UTC 2020)\n",
       "(EPL source distribution)\n",
       "Java Runtime: OpenJDK Runtime Environment\n",
       "JVM: OpenJDK 64-Bit Server VM\n",
       "Default Encoding: UTF-8\n",
       "Language: en\n",
       "Country: null\n",
       "--></g></svg>"
      ]
     },
     "execution_count": 36,
     "metadata": {},
     "output_type": "execute_result"
    }
   ],
   "source": [
    "%viz --style=\"PLANTUML\" --view=\"MIXED\" \"ConjugationTest\""
   ]
  },
  {
   "cell_type": "code",
   "execution_count": 37,
   "id": "abroad-eight",
   "metadata": {
    "execution": {
     "iopub.execute_input": "2021-03-25T13:18:56.765272Z",
     "iopub.status.busy": "2021-03-25T13:18:56.764814Z",
     "iopub.status.idle": "2021-03-25T13:18:57.437469Z",
     "shell.execute_reply": "2021-03-25T13:18:57.435902Z"
    }
   },
   "outputs": [
    {
     "data": {
      "image/svg+xml": [
       "<?xml version=\"1.0\" encoding=\"UTF-8\" standalone=\"no\"?><svg xmlns=\"http://www.w3.org/2000/svg\" xmlns:xlink=\"http://www.w3.org/1999/xlink\" contentScriptType=\"application/ecmascript\" contentStyleType=\"text/css\" height=\"305px\" preserveAspectRatio=\"none\" style=\"width:614px;height:305px;\" version=\"1.1\" viewBox=\"0 0 614 305\" width=\"614px\" zoomAndPan=\"magnify\"><defs/><g><!--MD5=[fbc87193dbaf4d95561dea2c320d4a47]\n",
       "cluster E1--><a href=\"psysml:db7199af-e574-4214-8b26-5aef0dbbdb0a\" target=\"_top\" title=\"psysml:db7199af-e574-4214-8b26-5aef0dbbdb0a\" xlink:actuate=\"onRequest\" xlink:href=\"psysml:db7199af-e574-4214-8b26-5aef0dbbdb0a\" xlink:show=\"new\" xlink:title=\"psysml:db7199af-e574-4214-8b26-5aef0dbbdb0a\" xlink:type=\"simple\"><polygon fill=\"#FFFFFF\" points=\"16,6,151,6,158,28.2969,592,28.2969,592,293,16,293,16,6\" style=\"stroke: #000000; stroke-width: 1.5;\"/><line style=\"stroke: #000000; stroke-width: 1.5;\" x1=\"16\" x2=\"158\" y1=\"28.2969\" y2=\"28.2969\"/><text fill=\"#000000\" font-family=\"sans-serif\" font-size=\"14\" font-weight=\"bold\" lengthAdjust=\"spacingAndGlyphs\" textLength=\"129\" x=\"20\" y=\"20.9951\">ConjugationTest</text></a><!--MD5=[b4997ac47864f28c2f74865a473b2911]\n",
       "class E2--><a href=\"psysml:eee324b7-6ef1-4f74-bb85-9d01b884a0c3\" target=\"_top\" title=\"psysml:eee324b7-6ef1-4f74-bb85-9d01b884a0c3\" xlink:actuate=\"onRequest\" xlink:href=\"psysml:eee324b7-6ef1-4f74-bb85-9d01b884a0c3\" xlink:show=\"new\" xlink:title=\"psysml:eee324b7-6ef1-4f74-bb85-9d01b884a0c3\" xlink:type=\"simple\"><rect fill=\"#FFFFFF\" height=\"45.9375\" id=\"E2\" style=\"stroke: #383838; stroke-width: 1.5;\" width=\"66\" x=\"510\" y=\"62\"/><text fill=\"#000000\" font-family=\"sans-serif\" font-size=\"12\" font-style=\"italic\" lengthAdjust=\"spacingAndGlyphs\" textLength=\"64\" x=\"511\" y=\"78.1387\">«port def»</text><text fill=\"#000000\" font-family=\"sans-serif\" font-size=\"12\" lengthAdjust=\"spacingAndGlyphs\" textLength=\"8\" x=\"539\" y=\"92.1074\">P</text><line style=\"stroke: #383838; stroke-width: 1.5;\" x1=\"511\" x2=\"575\" y1=\"99.9375\" y2=\"99.9375\"/></a><!--MD5=[09b614a08d8cba4a07c9adeb5e0fee81]\n",
       "class E3--><a href=\"psysml:987ad9e8-156c-405b-94a5-0234bd5ef961\" target=\"_top\" title=\"psysml:987ad9e8-156c-405b-94a5-0234bd5ef961\" xlink:actuate=\"onRequest\" xlink:href=\"psysml:987ad9e8-156c-405b-94a5-0234bd5ef961\" xlink:show=\"new\" xlink:title=\"psysml:987ad9e8-156c-405b-94a5-0234bd5ef961\" xlink:type=\"simple\"><rect fill=\"#FFFFFF\" height=\"88.3516\" id=\"E3\" style=\"stroke: #383838; stroke-width: 1.5;\" width=\"66\" x=\"409\" y=\"41\"/><text fill=\"#000000\" font-family=\"sans-serif\" font-size=\"12\" font-style=\"italic\" lengthAdjust=\"spacingAndGlyphs\" textLength=\"64\" x=\"410\" y=\"57.1387\">«part def»</text><text fill=\"#000000\" font-family=\"sans-serif\" font-size=\"12\" lengthAdjust=\"spacingAndGlyphs\" textLength=\"8\" x=\"438\" y=\"71.1074\">B</text><line style=\"stroke: #383838; stroke-width: 1.5;\" x1=\"410\" x2=\"474\" y1=\"78.9375\" y2=\"78.9375\"/><text fill=\"#000000\" font-family=\"sans-serif\" font-size=\"11\" lengthAdjust=\"spacingAndGlyphs\" textLength=\"29\" x=\"415\" y=\"109.9526\">p1: P</text><text fill=\"#000000\" font-family=\"sans-serif\" font-size=\"11\" lengthAdjust=\"spacingAndGlyphs\" textLength=\"38\" x=\"415\" y=\"122.7573\">p2: ~P</text><line style=\"stroke: #383838; stroke-width: 1.0;\" x1=\"410\" x2=\"427\" y1=\"93.3398\" y2=\"93.3398\"/><text fill=\"#000000\" font-family=\"sans-serif\" font-size=\"11\" lengthAdjust=\"spacingAndGlyphs\" textLength=\"30\" x=\"427\" y=\"96.6479\">ports</text><line style=\"stroke: #383838; stroke-width: 1.0;\" x1=\"457\" x2=\"474\" y1=\"93.3398\" y2=\"93.3398\"/></a><!--MD5=[60a26617385b1d2d0262a64233df1f8d]\n",
       "class E6--><a href=\"psysml:d4b825d6-e011-4f07-a399-999db6b99ea3\" target=\"_top\" title=\"psysml:d4b825d6-e011-4f07-a399-999db6b99ea3\" xlink:actuate=\"onRequest\" xlink:href=\"psysml:d4b825d6-e011-4f07-a399-999db6b99ea3\" xlink:show=\"new\" xlink:title=\"psysml:d4b825d6-e011-4f07-a399-999db6b99ea3\" xlink:type=\"simple\"><rect fill=\"#FFFFFF\" height=\"88.3516\" id=\"E6\" style=\"stroke: #383838; stroke-width: 1.5;\" width=\"110\" x=\"264\" y=\"41\"/><text fill=\"#000000\" font-family=\"sans-serif\" font-size=\"12\" font-style=\"italic\" lengthAdjust=\"spacingAndGlyphs\" textLength=\"108\" x=\"265\" y=\"57.1387\">«connection def»</text><text fill=\"#000000\" font-family=\"sans-serif\" font-size=\"12\" lengthAdjust=\"spacingAndGlyphs\" textLength=\"8\" x=\"315\" y=\"71.1074\">A</text><line style=\"stroke: #383838; stroke-width: 1.5;\" x1=\"265\" x2=\"373\" y1=\"78.9375\" y2=\"78.9375\"/><text fill=\"#000000\" font-family=\"sans-serif\" font-size=\"11\" lengthAdjust=\"spacingAndGlyphs\" textLength=\"29\" x=\"270\" y=\"109.9526\">p1: P</text><text fill=\"#000000\" font-family=\"sans-serif\" font-size=\"11\" lengthAdjust=\"spacingAndGlyphs\" textLength=\"38\" x=\"270\" y=\"122.7573\">p2: ~P</text><line style=\"stroke: #383838; stroke-width: 1.0;\" x1=\"265\" x2=\"304\" y1=\"93.3398\" y2=\"93.3398\"/><text fill=\"#000000\" font-family=\"sans-serif\" font-size=\"11\" lengthAdjust=\"spacingAndGlyphs\" textLength=\"30\" x=\"304\" y=\"96.6479\">ports</text><line style=\"stroke: #383838; stroke-width: 1.0;\" x1=\"334\" x2=\"373\" y1=\"93.3398\" y2=\"93.3398\"/></a><!--MD5=[fd4143e9d270a159db93a4ea2a975926]\n",
       "class E9--><a href=\"psysml:0fcf03a3-0a94-497d-adc5-5270b49e59d7\" target=\"_top\" title=\"psysml:0fcf03a3-0a94-497d-adc5-5270b49e59d7\" xlink:actuate=\"onRequest\" xlink:href=\"psysml:0fcf03a3-0a94-497d-adc5-5270b49e59d7\" xlink:show=\"new\" xlink:title=\"psysml:0fcf03a3-0a94-497d-adc5-5270b49e59d7\" xlink:type=\"simple\"><rect fill=\"#FFFFFF\" height=\"88.3516\" id=\"E9\" style=\"stroke: #383838; stroke-width: 1.5;\" width=\"96\" x=\"133\" y=\"41\"/><text fill=\"#000000\" font-family=\"sans-serif\" font-size=\"12\" font-style=\"italic\" lengthAdjust=\"spacingAndGlyphs\" textLength=\"94\" x=\"134\" y=\"57.1387\">«interface def»</text><text fill=\"#000000\" font-family=\"sans-serif\" font-size=\"12\" lengthAdjust=\"spacingAndGlyphs\" textLength=\"3\" x=\"179.5\" y=\"71.1074\">I</text><line style=\"stroke: #383838; stroke-width: 1.5;\" x1=\"134\" x2=\"228\" y1=\"78.9375\" y2=\"78.9375\"/><text fill=\"#000000\" font-family=\"sans-serif\" font-size=\"11\" lengthAdjust=\"spacingAndGlyphs\" textLength=\"29\" x=\"139\" y=\"109.9526\">p1: P</text><text fill=\"#000000\" font-family=\"sans-serif\" font-size=\"11\" lengthAdjust=\"spacingAndGlyphs\" textLength=\"38\" x=\"139\" y=\"122.7573\">p2: ~P</text><line style=\"stroke: #383838; stroke-width: 1.0;\" x1=\"134\" x2=\"166\" y1=\"93.3398\" y2=\"93.3398\"/><text fill=\"#000000\" font-family=\"sans-serif\" font-size=\"11\" lengthAdjust=\"spacingAndGlyphs\" textLength=\"30\" x=\"166\" y=\"96.6479\">ports</text><line style=\"stroke: #383838; stroke-width: 1.0;\" x1=\"196\" x2=\"228\" y1=\"93.3398\" y2=\"93.3398\"/></a><!--MD5=[49a0ec8f00dab7302a31f22d0f0fe584]\n",
       "class E12--><a href=\"psysml:fa47a610-a800-429f-b665-228f1e266500\" target=\"_top\" title=\"psysml:fa47a610-a800-429f-b665-228f1e266500\" xlink:actuate=\"onRequest\" xlink:href=\"psysml:fa47a610-a800-429f-b665-228f1e266500\" xlink:show=\"new\" xlink:title=\"psysml:fa47a610-a800-429f-b665-228f1e266500\" xlink:type=\"simple\"><rect fill=\"#FFFFFF\" height=\"45.9375\" id=\"E12\" style=\"stroke: #383838; stroke-width: 1.5;\" width=\"66\" x=\"32\" y=\"62\"/><text fill=\"#000000\" font-family=\"sans-serif\" font-size=\"12\" font-style=\"italic\" lengthAdjust=\"spacingAndGlyphs\" textLength=\"64\" x=\"33\" y=\"78.1387\">«part def»</text><text fill=\"#000000\" font-family=\"sans-serif\" font-size=\"12\" lengthAdjust=\"spacingAndGlyphs\" textLength=\"16\" x=\"57\" y=\"92.1074\">B1</text><line style=\"stroke: #383838; stroke-width: 1.5;\" x1=\"33\" x2=\"97\" y1=\"99.9375\" y2=\"99.9375\"/></a><!--MD5=[ee3c913d1a06f366521f9ef512b67efe]\n",
       "class E13--><a href=\"psysml:593a6524-9b3f-4082-a23e-8ed96ff9a715\" target=\"_top\" title=\"psysml:593a6524-9b3f-4082-a23e-8ed96ff9a715\" xlink:actuate=\"onRequest\" xlink:href=\"psysml:593a6524-9b3f-4082-a23e-8ed96ff9a715\" xlink:show=\"new\" xlink:title=\"psysml:593a6524-9b3f-4082-a23e-8ed96ff9a715\" xlink:type=\"simple\"><rect fill=\"#FFFFFF\" height=\"88.3516\" id=\"E13\" rx=\"10\" ry=\"10\" style=\"stroke: #383838; stroke-width: 1.5;\" width=\"50\" x=\"40\" y=\"189\"/><text fill=\"#000000\" font-family=\"sans-serif\" font-size=\"12\" font-style=\"italic\" lengthAdjust=\"spacingAndGlyphs\" textLength=\"40\" x=\"45\" y=\"205.1387\">«part»</text><text fill=\"#000000\" font-family=\"sans-serif\" font-size=\"12\" lengthAdjust=\"spacingAndGlyphs\" textLength=\"8\" x=\"61\" y=\"219.1074\">p</text><line style=\"stroke: #383838; stroke-width: 1.5;\" x1=\"41\" x2=\"89\" y1=\"226.9375\" y2=\"226.9375\"/><text fill=\"#000000\" font-family=\"sans-serif\" font-size=\"11\" lengthAdjust=\"spacingAndGlyphs\" textLength=\"29\" x=\"46\" y=\"257.9526\">p1: P</text><text fill=\"#000000\" font-family=\"sans-serif\" font-size=\"11\" lengthAdjust=\"spacingAndGlyphs\" textLength=\"38\" x=\"46\" y=\"270.7573\">p2: ~P</text><line style=\"stroke: #383838; stroke-width: 1.0;\" x1=\"41\" x2=\"50\" y1=\"241.3398\" y2=\"241.3398\"/><text fill=\"#000000\" font-family=\"sans-serif\" font-size=\"11\" lengthAdjust=\"spacingAndGlyphs\" textLength=\"30\" x=\"50\" y=\"244.6479\">ports</text><line style=\"stroke: #383838; stroke-width: 1.0;\" x1=\"80\" x2=\"89\" y1=\"241.3398\" y2=\"241.3398\"/></a><!--MD5=[062ed86c389d1a88f61c6380d0491e17]\n",
       "reverse link E12 to E13--><a href=\"psysml:593a6524-9b3f-4082-a23e-8ed96ff9a715\" target=\"_top\" title=\"psysml:593a6524-9b3f-4082-a23e-8ed96ff9a715\" xlink:actuate=\"onRequest\" xlink:href=\"psysml:593a6524-9b3f-4082-a23e-8ed96ff9a715\" xlink:show=\"new\" xlink:title=\"psysml:593a6524-9b3f-4082-a23e-8ed96ff9a715\" xlink:type=\"simple\"><path d=\"M65,121.25 C65,141.54 65,167.2 65,188.71 \" fill=\"none\" id=\"E12&lt;-E13\" style=\"stroke: #383838; stroke-width: 1.0;\"/><polygon fill=\"#383838\" points=\"65,108.17,61,114.17,65,120.17,69,114.17,65,108.17\" style=\"stroke: #383838; stroke-width: 1.0;\"/></a><!--MD5=[3c0eac82f5b5828b92875623dd9903cc]\n",
       "@startuml\r\n",
       "skinparam monochrome true\r\n",
       "skinparam classbackgroundcolor white\r\n",
       "skinparam shadowing false\r\n",
       "skinparam wrapWidth 300\r\n",
       "hide circle\r\n",
       "\r\n",
       "package \"ConjugationTest\" as E1  [[psysml:db7199af-e574-4214-8b26-5aef0dbbdb0a ]]  {\r\n",
       "comp def \"P\" as E2  <<(T,blue)port def>> [[psysml:eee324b7-6ef1-4f74-bb85-9d01b884a0c3 ]] {\r\n",
       "}\r\n",
       "comp def \"B\" as E3  <<(T,blue)part def>> [[psysml:987ad9e8-156c-405b-94a5-0234bd5ef961 ]] {\r\n",
       "- - ports - -\r\n",
       "p1: P\r\n",
       "p2: ~P\r\n",
       "}\r\n",
       "comp def \"A\" as E6  <<(T,blue)connection def>> [[psysml:d4b825d6-e011-4f07-a399-999db6b99ea3 ]] {\r\n",
       "- - ports - -\r\n",
       "p1: P\r\n",
       "p2: ~P\r\n",
       "}\r\n",
       "comp def \"I\" as E9  <<(T,blue)interface def>> [[psysml:0fcf03a3-0a94-497d-adc5-5270b49e59d7 ]] {\r\n",
       "- - ports - -\r\n",
       "p1: P\r\n",
       "p2: ~P\r\n",
       "}\r\n",
       "comp def \"B1\" as E12  <<(T,blue)part def>> [[psysml:fa47a610-a800-429f-b665-228f1e266500 ]] {\r\n",
       "}\r\n",
       "comp usage \"p\" as E13  <<(T,blue)part>> [[psysml:593a6524-9b3f-4082-a23e-8ed96ff9a715 ]] {\r\n",
       "- - ports - -\r\n",
       "p1: P\r\n",
       "p2: ~P\r\n",
       "}\r\n",
       "E12 *- - E13 [[psysml:593a6524-9b3f-4082-a23e-8ed96ff9a715 ]] \r\n",
       "}\r\n",
       "@enduml\r\n",
       "\n",
       "PlantUML version 1.2020.13(Sat Jun 13 12:26:38 UTC 2020)\n",
       "(EPL source distribution)\n",
       "Java Runtime: OpenJDK Runtime Environment\n",
       "JVM: OpenJDK 64-Bit Server VM\n",
       "Default Encoding: UTF-8\n",
       "Language: en\n",
       "Country: null\n",
       "--></g></svg>"
      ]
     },
     "execution_count": 37,
     "metadata": {},
     "output_type": "execute_result"
    }
   ],
   "source": [
    "%viz --style=\"DEFAULT\" --view=\"Default\" \"ConjugationTest\""
   ]
  },
  {
   "cell_type": "code",
   "execution_count": 38,
   "id": "considered-british",
   "metadata": {
    "execution": {
     "iopub.execute_input": "2021-03-25T13:18:57.487960Z",
     "iopub.status.busy": "2021-03-25T13:18:57.487266Z",
     "iopub.status.idle": "2021-03-25T13:18:58.155815Z",
     "shell.execute_reply": "2021-03-25T13:18:58.154141Z"
    }
   },
   "outputs": [
    {
     "data": {
      "image/svg+xml": [
       "<?xml version=\"1.0\" encoding=\"UTF-8\" standalone=\"no\"?><svg xmlns=\"http://www.w3.org/2000/svg\" xmlns:xlink=\"http://www.w3.org/1999/xlink\" contentScriptType=\"application/ecmascript\" contentStyleType=\"text/css\" height=\"305px\" preserveAspectRatio=\"none\" style=\"width:614px;height:305px;\" version=\"1.1\" viewBox=\"0 0 614 305\" width=\"614px\" zoomAndPan=\"magnify\"><defs/><g><!--MD5=[fbc87193dbaf4d95561dea2c320d4a47]\n",
       "cluster E1--><a href=\"psysml:db7199af-e574-4214-8b26-5aef0dbbdb0a\" target=\"_top\" title=\"psysml:db7199af-e574-4214-8b26-5aef0dbbdb0a\" xlink:actuate=\"onRequest\" xlink:href=\"psysml:db7199af-e574-4214-8b26-5aef0dbbdb0a\" xlink:show=\"new\" xlink:title=\"psysml:db7199af-e574-4214-8b26-5aef0dbbdb0a\" xlink:type=\"simple\"><polygon fill=\"#FFFFFF\" points=\"16,6,151,6,158,28.2969,592,28.2969,592,293,16,293,16,6\" style=\"stroke: #000000; stroke-width: 1.5;\"/><line style=\"stroke: #000000; stroke-width: 1.5;\" x1=\"16\" x2=\"158\" y1=\"28.2969\" y2=\"28.2969\"/><text fill=\"#000000\" font-family=\"sans-serif\" font-size=\"14\" font-weight=\"bold\" lengthAdjust=\"spacingAndGlyphs\" textLength=\"129\" x=\"20\" y=\"20.9951\">ConjugationTest</text></a><!--MD5=[b4997ac47864f28c2f74865a473b2911]\n",
       "class E2--><a href=\"psysml:eee324b7-6ef1-4f74-bb85-9d01b884a0c3\" target=\"_top\" title=\"psysml:eee324b7-6ef1-4f74-bb85-9d01b884a0c3\" xlink:actuate=\"onRequest\" xlink:href=\"psysml:eee324b7-6ef1-4f74-bb85-9d01b884a0c3\" xlink:show=\"new\" xlink:title=\"psysml:eee324b7-6ef1-4f74-bb85-9d01b884a0c3\" xlink:type=\"simple\"><rect fill=\"#FFFFFF\" height=\"45.9375\" id=\"E2\" style=\"stroke: #383838; stroke-width: 1.5;\" width=\"66\" x=\"510\" y=\"62\"/><text fill=\"#000000\" font-family=\"sans-serif\" font-size=\"12\" font-style=\"italic\" lengthAdjust=\"spacingAndGlyphs\" textLength=\"64\" x=\"511\" y=\"78.1387\">«port def»</text><text fill=\"#000000\" font-family=\"sans-serif\" font-size=\"12\" lengthAdjust=\"spacingAndGlyphs\" textLength=\"8\" x=\"539\" y=\"92.1074\">P</text><line style=\"stroke: #383838; stroke-width: 1.5;\" x1=\"511\" x2=\"575\" y1=\"99.9375\" y2=\"99.9375\"/></a><!--MD5=[09b614a08d8cba4a07c9adeb5e0fee81]\n",
       "class E3--><a href=\"psysml:987ad9e8-156c-405b-94a5-0234bd5ef961\" target=\"_top\" title=\"psysml:987ad9e8-156c-405b-94a5-0234bd5ef961\" xlink:actuate=\"onRequest\" xlink:href=\"psysml:987ad9e8-156c-405b-94a5-0234bd5ef961\" xlink:show=\"new\" xlink:title=\"psysml:987ad9e8-156c-405b-94a5-0234bd5ef961\" xlink:type=\"simple\"><rect fill=\"#FFFFFF\" height=\"88.3516\" id=\"E3\" style=\"stroke: #383838; stroke-width: 1.5;\" width=\"66\" x=\"409\" y=\"41\"/><text fill=\"#000000\" font-family=\"sans-serif\" font-size=\"12\" font-style=\"italic\" lengthAdjust=\"spacingAndGlyphs\" textLength=\"64\" x=\"410\" y=\"57.1387\">«part def»</text><text fill=\"#000000\" font-family=\"sans-serif\" font-size=\"12\" lengthAdjust=\"spacingAndGlyphs\" textLength=\"8\" x=\"438\" y=\"71.1074\">B</text><line style=\"stroke: #383838; stroke-width: 1.5;\" x1=\"410\" x2=\"474\" y1=\"78.9375\" y2=\"78.9375\"/><text fill=\"#000000\" font-family=\"sans-serif\" font-size=\"11\" lengthAdjust=\"spacingAndGlyphs\" textLength=\"29\" x=\"415\" y=\"109.9526\">p1: P</text><text fill=\"#000000\" font-family=\"sans-serif\" font-size=\"11\" lengthAdjust=\"spacingAndGlyphs\" textLength=\"38\" x=\"415\" y=\"122.7573\">p2: ~P</text><line style=\"stroke: #383838; stroke-width: 1.0;\" x1=\"410\" x2=\"427\" y1=\"93.3398\" y2=\"93.3398\"/><text fill=\"#000000\" font-family=\"sans-serif\" font-size=\"11\" lengthAdjust=\"spacingAndGlyphs\" textLength=\"30\" x=\"427\" y=\"96.6479\">ports</text><line style=\"stroke: #383838; stroke-width: 1.0;\" x1=\"457\" x2=\"474\" y1=\"93.3398\" y2=\"93.3398\"/></a><!--MD5=[60a26617385b1d2d0262a64233df1f8d]\n",
       "class E6--><a href=\"psysml:d4b825d6-e011-4f07-a399-999db6b99ea3\" target=\"_top\" title=\"psysml:d4b825d6-e011-4f07-a399-999db6b99ea3\" xlink:actuate=\"onRequest\" xlink:href=\"psysml:d4b825d6-e011-4f07-a399-999db6b99ea3\" xlink:show=\"new\" xlink:title=\"psysml:d4b825d6-e011-4f07-a399-999db6b99ea3\" xlink:type=\"simple\"><rect fill=\"#FFFFFF\" height=\"88.3516\" id=\"E6\" style=\"stroke: #383838; stroke-width: 1.5;\" width=\"110\" x=\"264\" y=\"41\"/><text fill=\"#000000\" font-family=\"sans-serif\" font-size=\"12\" font-style=\"italic\" lengthAdjust=\"spacingAndGlyphs\" textLength=\"108\" x=\"265\" y=\"57.1387\">«connection def»</text><text fill=\"#000000\" font-family=\"sans-serif\" font-size=\"12\" lengthAdjust=\"spacingAndGlyphs\" textLength=\"8\" x=\"315\" y=\"71.1074\">A</text><line style=\"stroke: #383838; stroke-width: 1.5;\" x1=\"265\" x2=\"373\" y1=\"78.9375\" y2=\"78.9375\"/><text fill=\"#000000\" font-family=\"sans-serif\" font-size=\"11\" lengthAdjust=\"spacingAndGlyphs\" textLength=\"29\" x=\"270\" y=\"109.9526\">p1: P</text><text fill=\"#000000\" font-family=\"sans-serif\" font-size=\"11\" lengthAdjust=\"spacingAndGlyphs\" textLength=\"38\" x=\"270\" y=\"122.7573\">p2: ~P</text><line style=\"stroke: #383838; stroke-width: 1.0;\" x1=\"265\" x2=\"304\" y1=\"93.3398\" y2=\"93.3398\"/><text fill=\"#000000\" font-family=\"sans-serif\" font-size=\"11\" lengthAdjust=\"spacingAndGlyphs\" textLength=\"30\" x=\"304\" y=\"96.6479\">ports</text><line style=\"stroke: #383838; stroke-width: 1.0;\" x1=\"334\" x2=\"373\" y1=\"93.3398\" y2=\"93.3398\"/></a><!--MD5=[fd4143e9d270a159db93a4ea2a975926]\n",
       "class E9--><a href=\"psysml:0fcf03a3-0a94-497d-adc5-5270b49e59d7\" target=\"_top\" title=\"psysml:0fcf03a3-0a94-497d-adc5-5270b49e59d7\" xlink:actuate=\"onRequest\" xlink:href=\"psysml:0fcf03a3-0a94-497d-adc5-5270b49e59d7\" xlink:show=\"new\" xlink:title=\"psysml:0fcf03a3-0a94-497d-adc5-5270b49e59d7\" xlink:type=\"simple\"><rect fill=\"#FFFFFF\" height=\"88.3516\" id=\"E9\" style=\"stroke: #383838; stroke-width: 1.5;\" width=\"96\" x=\"133\" y=\"41\"/><text fill=\"#000000\" font-family=\"sans-serif\" font-size=\"12\" font-style=\"italic\" lengthAdjust=\"spacingAndGlyphs\" textLength=\"94\" x=\"134\" y=\"57.1387\">«interface def»</text><text fill=\"#000000\" font-family=\"sans-serif\" font-size=\"12\" lengthAdjust=\"spacingAndGlyphs\" textLength=\"3\" x=\"179.5\" y=\"71.1074\">I</text><line style=\"stroke: #383838; stroke-width: 1.5;\" x1=\"134\" x2=\"228\" y1=\"78.9375\" y2=\"78.9375\"/><text fill=\"#000000\" font-family=\"sans-serif\" font-size=\"11\" lengthAdjust=\"spacingAndGlyphs\" textLength=\"29\" x=\"139\" y=\"109.9526\">p1: P</text><text fill=\"#000000\" font-family=\"sans-serif\" font-size=\"11\" lengthAdjust=\"spacingAndGlyphs\" textLength=\"38\" x=\"139\" y=\"122.7573\">p2: ~P</text><line style=\"stroke: #383838; stroke-width: 1.0;\" x1=\"134\" x2=\"166\" y1=\"93.3398\" y2=\"93.3398\"/><text fill=\"#000000\" font-family=\"sans-serif\" font-size=\"11\" lengthAdjust=\"spacingAndGlyphs\" textLength=\"30\" x=\"166\" y=\"96.6479\">ports</text><line style=\"stroke: #383838; stroke-width: 1.0;\" x1=\"196\" x2=\"228\" y1=\"93.3398\" y2=\"93.3398\"/></a><!--MD5=[49a0ec8f00dab7302a31f22d0f0fe584]\n",
       "class E12--><a href=\"psysml:fa47a610-a800-429f-b665-228f1e266500\" target=\"_top\" title=\"psysml:fa47a610-a800-429f-b665-228f1e266500\" xlink:actuate=\"onRequest\" xlink:href=\"psysml:fa47a610-a800-429f-b665-228f1e266500\" xlink:show=\"new\" xlink:title=\"psysml:fa47a610-a800-429f-b665-228f1e266500\" xlink:type=\"simple\"><rect fill=\"#FFFFFF\" height=\"45.9375\" id=\"E12\" style=\"stroke: #383838; stroke-width: 1.5;\" width=\"66\" x=\"32\" y=\"62\"/><text fill=\"#000000\" font-family=\"sans-serif\" font-size=\"12\" font-style=\"italic\" lengthAdjust=\"spacingAndGlyphs\" textLength=\"64\" x=\"33\" y=\"78.1387\">«part def»</text><text fill=\"#000000\" font-family=\"sans-serif\" font-size=\"12\" lengthAdjust=\"spacingAndGlyphs\" textLength=\"16\" x=\"57\" y=\"92.1074\">B1</text><line style=\"stroke: #383838; stroke-width: 1.5;\" x1=\"33\" x2=\"97\" y1=\"99.9375\" y2=\"99.9375\"/></a><!--MD5=[ee3c913d1a06f366521f9ef512b67efe]\n",
       "class E13--><a href=\"psysml:593a6524-9b3f-4082-a23e-8ed96ff9a715\" target=\"_top\" title=\"psysml:593a6524-9b3f-4082-a23e-8ed96ff9a715\" xlink:actuate=\"onRequest\" xlink:href=\"psysml:593a6524-9b3f-4082-a23e-8ed96ff9a715\" xlink:show=\"new\" xlink:title=\"psysml:593a6524-9b3f-4082-a23e-8ed96ff9a715\" xlink:type=\"simple\"><rect fill=\"#FFFFFF\" height=\"88.3516\" id=\"E13\" rx=\"10\" ry=\"10\" style=\"stroke: #383838; stroke-width: 1.5;\" width=\"50\" x=\"40\" y=\"189\"/><text fill=\"#000000\" font-family=\"sans-serif\" font-size=\"12\" font-style=\"italic\" lengthAdjust=\"spacingAndGlyphs\" textLength=\"40\" x=\"45\" y=\"205.1387\">«part»</text><text fill=\"#000000\" font-family=\"sans-serif\" font-size=\"12\" lengthAdjust=\"spacingAndGlyphs\" textLength=\"8\" x=\"61\" y=\"219.1074\">p</text><line style=\"stroke: #383838; stroke-width: 1.5;\" x1=\"41\" x2=\"89\" y1=\"226.9375\" y2=\"226.9375\"/><text fill=\"#000000\" font-family=\"sans-serif\" font-size=\"11\" lengthAdjust=\"spacingAndGlyphs\" textLength=\"29\" x=\"46\" y=\"257.9526\">p1: P</text><text fill=\"#000000\" font-family=\"sans-serif\" font-size=\"11\" lengthAdjust=\"spacingAndGlyphs\" textLength=\"38\" x=\"46\" y=\"270.7573\">p2: ~P</text><line style=\"stroke: #383838; stroke-width: 1.0;\" x1=\"41\" x2=\"50\" y1=\"241.3398\" y2=\"241.3398\"/><text fill=\"#000000\" font-family=\"sans-serif\" font-size=\"11\" lengthAdjust=\"spacingAndGlyphs\" textLength=\"30\" x=\"50\" y=\"244.6479\">ports</text><line style=\"stroke: #383838; stroke-width: 1.0;\" x1=\"80\" x2=\"89\" y1=\"241.3398\" y2=\"241.3398\"/></a><!--MD5=[062ed86c389d1a88f61c6380d0491e17]\n",
       "reverse link E12 to E13--><a href=\"psysml:593a6524-9b3f-4082-a23e-8ed96ff9a715\" target=\"_top\" title=\"psysml:593a6524-9b3f-4082-a23e-8ed96ff9a715\" xlink:actuate=\"onRequest\" xlink:href=\"psysml:593a6524-9b3f-4082-a23e-8ed96ff9a715\" xlink:show=\"new\" xlink:title=\"psysml:593a6524-9b3f-4082-a23e-8ed96ff9a715\" xlink:type=\"simple\"><path d=\"M65,121.25 C65,141.54 65,167.2 65,188.71 \" fill=\"none\" id=\"E12&lt;-E13\" style=\"stroke: #383838; stroke-width: 1.0;\"/><polygon fill=\"#383838\" points=\"65,108.17,61,114.17,65,120.17,69,114.17,65,108.17\" style=\"stroke: #383838; stroke-width: 1.0;\"/></a><!--MD5=[3c0eac82f5b5828b92875623dd9903cc]\n",
       "@startuml\r\n",
       "skinparam monochrome true\r\n",
       "skinparam classbackgroundcolor white\r\n",
       "skinparam shadowing false\r\n",
       "skinparam wrapWidth 300\r\n",
       "hide circle\r\n",
       "\r\n",
       "package \"ConjugationTest\" as E1  [[psysml:db7199af-e574-4214-8b26-5aef0dbbdb0a ]]  {\r\n",
       "comp def \"P\" as E2  <<(T,blue)port def>> [[psysml:eee324b7-6ef1-4f74-bb85-9d01b884a0c3 ]] {\r\n",
       "}\r\n",
       "comp def \"B\" as E3  <<(T,blue)part def>> [[psysml:987ad9e8-156c-405b-94a5-0234bd5ef961 ]] {\r\n",
       "- - ports - -\r\n",
       "p1: P\r\n",
       "p2: ~P\r\n",
       "}\r\n",
       "comp def \"A\" as E6  <<(T,blue)connection def>> [[psysml:d4b825d6-e011-4f07-a399-999db6b99ea3 ]] {\r\n",
       "- - ports - -\r\n",
       "p1: P\r\n",
       "p2: ~P\r\n",
       "}\r\n",
       "comp def \"I\" as E9  <<(T,blue)interface def>> [[psysml:0fcf03a3-0a94-497d-adc5-5270b49e59d7 ]] {\r\n",
       "- - ports - -\r\n",
       "p1: P\r\n",
       "p2: ~P\r\n",
       "}\r\n",
       "comp def \"B1\" as E12  <<(T,blue)part def>> [[psysml:fa47a610-a800-429f-b665-228f1e266500 ]] {\r\n",
       "}\r\n",
       "comp usage \"p\" as E13  <<(T,blue)part>> [[psysml:593a6524-9b3f-4082-a23e-8ed96ff9a715 ]] {\r\n",
       "- - ports - -\r\n",
       "p1: P\r\n",
       "p2: ~P\r\n",
       "}\r\n",
       "E12 *- - E13 [[psysml:593a6524-9b3f-4082-a23e-8ed96ff9a715 ]] \r\n",
       "}\r\n",
       "@enduml\r\n",
       "\n",
       "PlantUML version 1.2020.13(Sat Jun 13 12:26:38 UTC 2020)\n",
       "(EPL source distribution)\n",
       "Java Runtime: OpenJDK Runtime Environment\n",
       "JVM: OpenJDK 64-Bit Server VM\n",
       "Default Encoding: UTF-8\n",
       "Language: en\n",
       "Country: null\n",
       "--></g></svg>"
      ]
     },
     "execution_count": 38,
     "metadata": {},
     "output_type": "execute_result"
    }
   ],
   "source": [
    "%viz --style=\"DEFAULT\" --view=\"Tree\" \"ConjugationTest\""
   ]
  },
  {
   "cell_type": "code",
   "execution_count": 39,
   "id": "vietnamese-worthy",
   "metadata": {
    "execution": {
     "iopub.execute_input": "2021-03-25T13:18:58.205357Z",
     "iopub.status.busy": "2021-03-25T13:18:58.204956Z",
     "iopub.status.idle": "2021-03-25T13:18:58.218608Z",
     "shell.execute_reply": "2021-03-25T13:18:58.218189Z"
    }
   },
   "outputs": [
    {
     "data": {
      "image/svg+xml": [
       "<?xml version=\"1.0\" encoding=\"UTF-8\" standalone=\"no\"?><svg xmlns=\"http://www.w3.org/2000/svg\" xmlns:xlink=\"http://www.w3.org/1999/xlink\" contentScriptType=\"application/ecmascript\" contentStyleType=\"text/css\" height=\"12px\" preserveAspectRatio=\"none\" style=\"width:12px;height:12px;\" version=\"1.1\" viewBox=\"0 0 12 12\" width=\"12px\" zoomAndPan=\"magnify\"><defs/><g><!--MD5=[c5f280e076d0d61ccf4b0f27871bda1d]\n",
       "@startuml\r\n",
       "skinparam monochrome true\r\n",
       "skinparam classbackgroundcolor white\r\n",
       "skinparam shadowing false\r\n",
       "skinparam wrapWidth 300\r\n",
       "hide circle\r\n",
       "\r\n",
       "@enduml\r\n",
       "\n",
       "PlantUML version 1.2020.13(Sat Jun 13 12:26:38 UTC 2020)\n",
       "(EPL source distribution)\n",
       "Java Runtime: OpenJDK Runtime Environment\n",
       "JVM: OpenJDK 64-Bit Server VM\n",
       "Default Encoding: UTF-8\n",
       "Language: en\n",
       "Country: null\n",
       "--></g></svg>"
      ]
     },
     "execution_count": 39,
     "metadata": {},
     "output_type": "execute_result"
    }
   ],
   "source": [
    "%viz --style=\"DEFAULT\" --view=\"State\" \"ConjugationTest\""
   ]
  },
  {
   "cell_type": "code",
   "execution_count": 40,
   "id": "moderate-smooth",
   "metadata": {
    "execution": {
     "iopub.execute_input": "2021-03-25T13:18:58.270036Z",
     "iopub.status.busy": "2021-03-25T13:18:58.269620Z",
     "iopub.status.idle": "2021-03-25T13:18:58.448146Z",
     "shell.execute_reply": "2021-03-25T13:18:58.446623Z"
    }
   },
   "outputs": [
    {
     "data": {
      "image/svg+xml": [
       "<?xml version=\"1.0\" encoding=\"UTF-8\" standalone=\"no\"?><svg xmlns=\"http://www.w3.org/2000/svg\" xmlns:xlink=\"http://www.w3.org/1999/xlink\" contentScriptType=\"application/ecmascript\" contentStyleType=\"text/css\" height=\"246px\" preserveAspectRatio=\"none\" style=\"width:739px;height:246px;\" version=\"1.1\" viewBox=\"0 0 739 246\" width=\"739px\" zoomAndPan=\"magnify\"><defs/><g><!--MD5=[fbc87193dbaf4d95561dea2c320d4a47]\n",
       "cluster E1--><a href=\"psysml:db7199af-e574-4214-8b26-5aef0dbbdb0a\" target=\"_top\" title=\"psysml:db7199af-e574-4214-8b26-5aef0dbbdb0a\" xlink:actuate=\"onRequest\" xlink:href=\"psysml:db7199af-e574-4214-8b26-5aef0dbbdb0a\" xlink:show=\"new\" xlink:title=\"psysml:db7199af-e574-4214-8b26-5aef0dbbdb0a\" xlink:type=\"simple\"><polygon fill=\"#FFFFFF\" points=\"16,6,151,6,158,28.2969,717,28.2969,717,234.5,16,234.5,16,6\" style=\"stroke: #000000; stroke-width: 1.5;\"/><line style=\"stroke: #000000; stroke-width: 1.5;\" x1=\"16\" x2=\"158\" y1=\"28.2969\" y2=\"28.2969\"/><text fill=\"#000000\" font-family=\"sans-serif\" font-size=\"14\" font-weight=\"bold\" lengthAdjust=\"spacingAndGlyphs\" textLength=\"129\" x=\"20\" y=\"20.9951\">ConjugationTest</text></a><!--MD5=[d5e69f78d87373223dbae638b30a9c99]\n",
       "cluster E3--><a href=\"psysml:987ad9e8-156c-405b-94a5-0234bd5ef961\" target=\"_top\" title=\"psysml:987ad9e8-156c-405b-94a5-0234bd5ef961\" xlink:actuate=\"onRequest\" xlink:href=\"psysml:987ad9e8-156c-405b-94a5-0234bd5ef961\" xlink:show=\"new\" xlink:title=\"psysml:987ad9e8-156c-405b-94a5-0234bd5ef961\" xlink:type=\"simple\"><rect fill=\"#FFFFFF\" height=\"88.5\" id=\"E3\" style=\"stroke: #383838; stroke-width: 1.5;\" width=\"83\" x=\"577\" y=\"114\"/><rect fill=\"#F8F8F8\" height=\"37.9375\" style=\"stroke: #383838; stroke-width: 1.5;\" width=\"83\" x=\"577\" y=\"114\"/><text fill=\"#000000\" font-family=\"sans-serif\" font-size=\"12\" font-style=\"italic\" lengthAdjust=\"spacingAndGlyphs\" textLength=\"64\" x=\"586.5\" y=\"130.1387\">«part def»</text><text fill=\"#000000\" font-family=\"sans-serif\" font-size=\"12\" lengthAdjust=\"spacingAndGlyphs\" textLength=\"8\" x=\"614.5\" y=\"144.1074\">B</text></a><!--MD5=[14e3b0961a2654348d326746436168a1]\n",
       "cluster E6--><a href=\"psysml:d4b825d6-e011-4f07-a399-999db6b99ea3\" target=\"_top\" title=\"psysml:d4b825d6-e011-4f07-a399-999db6b99ea3\" xlink:actuate=\"onRequest\" xlink:href=\"psysml:d4b825d6-e011-4f07-a399-999db6b99ea3\" xlink:show=\"new\" xlink:title=\"psysml:d4b825d6-e011-4f07-a399-999db6b99ea3\" xlink:type=\"simple\"><rect fill=\"#FFFFFF\" height=\"88.5\" id=\"E6\" style=\"stroke: #383838; stroke-width: 1.5;\" width=\"150\" x=\"423\" y=\"114\"/><rect fill=\"#F8F8F8\" height=\"37.9375\" style=\"stroke: #383838; stroke-width: 1.5;\" width=\"150\" x=\"423\" y=\"114\"/><text fill=\"#000000\" font-family=\"sans-serif\" font-size=\"12\" font-style=\"italic\" lengthAdjust=\"spacingAndGlyphs\" textLength=\"108\" x=\"444\" y=\"130.1387\">«connection def»</text><text fill=\"#000000\" font-family=\"sans-serif\" font-size=\"12\" lengthAdjust=\"spacingAndGlyphs\" textLength=\"8\" x=\"494\" y=\"144.1074\">A</text></a><!--MD5=[7f149f147074ac12df2cb0a7728a5fb0]\n",
       "cluster E9--><a href=\"psysml:0fcf03a3-0a94-497d-adc5-5270b49e59d7\" target=\"_top\" title=\"psysml:0fcf03a3-0a94-497d-adc5-5270b49e59d7\" xlink:actuate=\"onRequest\" xlink:href=\"psysml:0fcf03a3-0a94-497d-adc5-5270b49e59d7\" xlink:show=\"new\" xlink:title=\"psysml:0fcf03a3-0a94-497d-adc5-5270b49e59d7\" xlink:type=\"simple\"><rect fill=\"#FFFFFF\" height=\"88.5\" id=\"E9\" style=\"stroke: #383838; stroke-width: 1.5;\" width=\"141\" x=\"254\" y=\"114\"/><rect fill=\"#F8F8F8\" height=\"37.9375\" style=\"stroke: #383838; stroke-width: 1.5;\" width=\"141\" x=\"254\" y=\"114\"/><text fill=\"#000000\" font-family=\"sans-serif\" font-size=\"12\" font-style=\"italic\" lengthAdjust=\"spacingAndGlyphs\" textLength=\"94\" x=\"277.5\" y=\"130.1387\">«interface def»</text><text fill=\"#000000\" font-family=\"sans-serif\" font-size=\"12\" lengthAdjust=\"spacingAndGlyphs\" textLength=\"3\" x=\"323\" y=\"144.1074\">I</text></a><!--MD5=[47bea60c1a0ac6c1143df232041969c0]\n",
       "cluster E12--><a href=\"psysml:fa47a610-a800-429f-b665-228f1e266500\" target=\"_top\" title=\"psysml:fa47a610-a800-429f-b665-228f1e266500\" xlink:actuate=\"onRequest\" xlink:href=\"psysml:fa47a610-a800-429f-b665-228f1e266500\" xlink:show=\"new\" xlink:title=\"psysml:fa47a610-a800-429f-b665-228f1e266500\" xlink:type=\"simple\"><rect fill=\"#FFFFFF\" height=\"161.5\" id=\"E12\" style=\"stroke: #383838; stroke-width: 1.5;\" width=\"107\" x=\"120\" y=\"49\"/><rect fill=\"#F8F8F8\" height=\"37.9375\" style=\"stroke: #383838; stroke-width: 1.5;\" width=\"107\" x=\"120\" y=\"49\"/><text fill=\"#000000\" font-family=\"sans-serif\" font-size=\"12\" font-style=\"italic\" lengthAdjust=\"spacingAndGlyphs\" textLength=\"64\" x=\"141.5\" y=\"65.1387\">«part def»</text><text fill=\"#000000\" font-family=\"sans-serif\" font-size=\"12\" lengthAdjust=\"spacingAndGlyphs\" textLength=\"16\" x=\"165.5\" y=\"79.1074\">B1</text></a><!--MD5=[03104f77b71e2d8d3500c651e6e31181]\n",
       "cluster E13--><a href=\"psysml:593a6524-9b3f-4082-a23e-8ed96ff9a715\" target=\"_top\" title=\"psysml:593a6524-9b3f-4082-a23e-8ed96ff9a715\" xlink:actuate=\"onRequest\" xlink:href=\"psysml:593a6524-9b3f-4082-a23e-8ed96ff9a715\" xlink:show=\"new\" xlink:title=\"psysml:593a6524-9b3f-4082-a23e-8ed96ff9a715\" xlink:type=\"simple\"><rect fill=\"#FFFFFF\" height=\"80.5\" id=\"E13\" rx=\"10\" ry=\"10\" style=\"stroke: #383838; stroke-width: 1.5;\" width=\"83\" x=\"132\" y=\"114\"/><rect fill=\"#F8F8F8\" height=\"23.9688\" rx=\"10\" ry=\"10\" style=\"stroke: #F8F8F8; stroke-width: 1.5;\" width=\"83\" x=\"132\" y=\"114\"/><rect fill=\"#F8F8F8\" height=\"10\" style=\"stroke: #F8F8F8; stroke-width: 1.5;\" width=\"83\" x=\"132\" y=\"127.9688\"/><rect fill=\"none\" height=\"80.5\" id=\"E13\" rx=\"10\" ry=\"10\" style=\"stroke: #383838; stroke-width: 1.5;\" width=\"83\" x=\"132\" y=\"114\"/><text fill=\"#000000\" font-family=\"sans-serif\" font-size=\"12\" lengthAdjust=\"spacingAndGlyphs\" textLength=\"8\" x=\"169.5\" y=\"130.1387\">p</text><line style=\"stroke: #383838; stroke-width: 1.0;\" x1=\"132\" x2=\"215\" y1=\"137.9688\" y2=\"137.9688\"/></a><g id=\"E1.E2\"><a href=\"psysml:eee324b7-6ef1-4f74-bb85-9d01b884a0c3\" target=\"_top\" title=\"psysml:eee324b7-6ef1-4f74-bb85-9d01b884a0c3\" xlink:actuate=\"onRequest\" xlink:href=\"psysml:eee324b7-6ef1-4f74-bb85-9d01b884a0c3\" xlink:show=\"new\" xlink:title=\"psysml:eee324b7-6ef1-4f74-bb85-9d01b884a0c3\" xlink:type=\"simple\"><rect fill=\"#FFFFFF\" height=\"42.9375\" id=\"E2\" style=\"stroke: #383838; stroke-width: 1.5;\" width=\"71\" x=\"32.5\" y=\"92.5\"/><rect fill=\"#F8F8F8\" height=\"37.9375\" style=\"stroke: #383838; stroke-width: 1.5;\" width=\"71\" x=\"32.5\" y=\"92.5\"/><text fill=\"#000000\" font-family=\"sans-serif\" font-size=\"12\" font-style=\"italic\" lengthAdjust=\"spacingAndGlyphs\" textLength=\"64\" x=\"36\" y=\"108.6387\">«port def»</text><text fill=\"#000000\" font-family=\"sans-serif\" font-size=\"12\" lengthAdjust=\"spacingAndGlyphs\" textLength=\"8\" x=\"64\" y=\"122.6074\">P</text></a></g><text fill=\"#000000\" font-family=\"sans-serif\" font-size=\"14\" lengthAdjust=\"spacingAndGlyphs\" textLength=\"36\" x=\"577\" y=\"92.6982\">p1: P</text><rect fill=\"#383838\" height=\"12\" style=\"stroke: #F8F8F8; stroke-width: 1.5;\" width=\"12\" x=\"589\" y=\"108\"/><text fill=\"#000000\" font-family=\"sans-serif\" font-size=\"14\" lengthAdjust=\"spacingAndGlyphs\" textLength=\"48\" x=\"618\" y=\"92.6982\">p2: ~P</text><rect fill=\"#383838\" height=\"12\" style=\"stroke: #F8F8F8; stroke-width: 1.5;\" width=\"12\" x=\"636\" y=\"108\"/><text fill=\"#000000\" font-family=\"sans-serif\" font-size=\"14\" lengthAdjust=\"spacingAndGlyphs\" textLength=\"36\" x=\"423\" y=\"92.6982\">p1: P</text><rect fill=\"#383838\" height=\"12\" style=\"stroke: #F8F8F8; stroke-width: 1.5;\" width=\"12\" x=\"435\" y=\"108\"/><text fill=\"#000000\" font-family=\"sans-serif\" font-size=\"14\" lengthAdjust=\"spacingAndGlyphs\" textLength=\"48\" x=\"464\" y=\"92.6982\">p2: ~P</text><rect fill=\"#383838\" height=\"12\" style=\"stroke: #F8F8F8; stroke-width: 1.5;\" width=\"12\" x=\"482\" y=\"108\"/><text fill=\"#000000\" font-family=\"sans-serif\" font-size=\"14\" lengthAdjust=\"spacingAndGlyphs\" textLength=\"36\" x=\"254\" y=\"92.6982\">p1: P</text><rect fill=\"#383838\" height=\"12\" style=\"stroke: #F8F8F8; stroke-width: 1.5;\" width=\"12\" x=\"266\" y=\"108\"/><text fill=\"#000000\" font-family=\"sans-serif\" font-size=\"14\" lengthAdjust=\"spacingAndGlyphs\" textLength=\"48\" x=\"295\" y=\"92.6982\">p2: ~P</text><rect fill=\"#383838\" height=\"12\" style=\"stroke: #F8F8F8; stroke-width: 1.5;\" width=\"12\" x=\"313\" y=\"108\"/><text fill=\"#000000\" font-family=\"sans-serif\" font-size=\"14\" lengthAdjust=\"spacingAndGlyphs\" textLength=\"36\" x=\"132\" y=\"92.6982\">p1: P</text><rect fill=\"#383838\" height=\"12\" style=\"stroke: #F8F8F8; stroke-width: 1.5;\" width=\"12\" x=\"144\" y=\"108\"/><text fill=\"#000000\" font-family=\"sans-serif\" font-size=\"14\" lengthAdjust=\"spacingAndGlyphs\" textLength=\"48\" x=\"173\" y=\"92.6982\">p2: ~P</text><rect fill=\"#383838\" height=\"12\" style=\"stroke: #F8F8F8; stroke-width: 1.5;\" width=\"12\" x=\"191\" y=\"108\"/><!--MD5=[4ce51ac6fa4cf5202df3859e2718f033]\n",
       "link E15 to E14--><a href=\"psysml:aa2d6f76-4132-425f-9826-f18a4b0e5493\" target=\"_top\" title=\"psysml:aa2d6f76-4132-425f-9826-f18a4b0e5493\" xlink:actuate=\"onRequest\" xlink:href=\"psysml:aa2d6f76-4132-425f-9826-f18a4b0e5493\" xlink:show=\"new\" xlink:title=\"psysml:aa2d6f76-4132-425f-9826-f18a4b0e5493\" xlink:type=\"simple\"><path d=\"M190.95,114 C179.38,114 167.81,114 156.24,114 \" fill=\"none\" id=\"E15-E14\" style=\"stroke: #383838; stroke-width: 3.0;\"/></a><!--MD5=[4ce51ac6fa4cf5202df3859e2718f033]\n",
       "link E15 to E14--><a href=\"psysml:7b87a1ef-cf2b-4c9e-a130-c1b402d1e385\" target=\"_top\" title=\"psysml:7b87a1ef-cf2b-4c9e-a130-c1b402d1e385\" xlink:actuate=\"onRequest\" xlink:href=\"psysml:7b87a1ef-cf2b-4c9e-a130-c1b402d1e385\" xlink:show=\"new\" xlink:title=\"psysml:7b87a1ef-cf2b-4c9e-a130-c1b402d1e385\" xlink:type=\"simple\"><path d=\"M190.95,111.98 C179.38,108.69 167.81,108.67 156.24,111.93 \" fill=\"none\" id=\"E15-E14-1\" style=\"stroke: #383838; stroke-width: 3.0;\"/></a><!--MD5=[ac8c0370205121ea756afff560c1698b]\n",
       "@startuml\r\n",
       "skinparam ranksep 8\r\n",
       "skinparam rectangle {\r\n",
       " backgroundColor<<block>> LightGreen\r\n",
       "}\r\n",
       "skinparam monochrome true\r\n",
       "skinparam classbackgroundcolor white\r\n",
       "skinparam shadowing false\r\n",
       "skinparam wrapWidth 300\r\n",
       "hide circle\r\n",
       "\r\n",
       "package \"ConjugationTest\" as E1  [[psysml:db7199af-e574-4214-8b26-5aef0dbbdb0a ]]  {\r\n",
       "def \"P\" as E2  <<(T,blue)port def>> [[psysml:eee324b7-6ef1-4f74-bb85-9d01b884a0c3 ]] \r\n",
       "rec def \"B\" as E3  <<(T,blue)part def>> [[psysml:987ad9e8-156c-405b-94a5-0234bd5ef961 ]] {\r\n",
       "portin \"p1: P\" as E4  <<(T,blue)port>> [[psysml:c8a4d081-7853-4f87-8688-3b004d6601fe ]] \r\n",
       "portin \"p2: ~P\" as E5  <<(T,blue)port>> [[psysml:93d25d87-d8ba-4a14-9054-622c501a7419 ]] \r\n",
       "}\r\n",
       "rec def \"A\" as E6  <<(T,blue)connection def>> [[psysml:d4b825d6-e011-4f07-a399-999db6b99ea3 ]] {\r\n",
       "portin \"p1: P\" as E7  <<(T,blue)port>> [[psysml:cf23f925-3ac9-40f7-8eb9-75cb926494bb ]] \r\n",
       "portin \"p2: ~P\" as E8  <<(T,blue)port>> [[psysml:78e860a1-2afe-4044-9ab4-1ebbe08f7dad ]] \r\n",
       "}\r\n",
       "rec def \"I\" as E9  <<(T,blue)interface def>> [[psysml:0fcf03a3-0a94-497d-adc5-5270b49e59d7 ]] {\r\n",
       "portin \"p1: P\" as E10  <<(T,blue)port>> [[psysml:e29a1f34-1b36-49a6-a497-c0e94a31f076 ]] \r\n",
       "portin \"p2: ~P\" as E11  <<(T,blue)port>> [[psysml:b6345cdf-3536-4afa-a6d8-3c5d2219e138 ]] \r\n",
       "}\r\n",
       "rec def \"B1\" as E12  <<(T,blue)part def>> [[psysml:fa47a610-a800-429f-b665-228f1e266500 ]] {\r\n",
       "rec usage \"p\" as E13  [[psysml:593a6524-9b3f-4082-a23e-8ed96ff9a715 ]] {\r\n",
       "portin \"p1: P\" as E14  <<(T,blue)port>> [[psysml:a4f040c8-38a0-4d60-9c1e-4003131a919c ]] \r\n",
       "portin \"p2: ~P\" as E15  <<(T,blue)port>> [[psysml:661396c6-733f-4c07-bbb8-142725b64304 ]] \r\n",
       "}\r\n",
       "}\r\n",
       "E15 -[thickness=3]- E14 [[psysml:aa2d6f76-4132-425f-9826-f18a4b0e5493 ]] \r\n",
       "E15 -[thickness=3]- E14 [[psysml:7b87a1ef-cf2b-4c9e-a130-c1b402d1e385 ]] \r\n",
       "}\r\n",
       "@enduml\r\n",
       "\n",
       "PlantUML version 1.2020.13(Sat Jun 13 12:26:38 UTC 2020)\n",
       "(EPL source distribution)\n",
       "Java Runtime: OpenJDK Runtime Environment\n",
       "JVM: OpenJDK 64-Bit Server VM\n",
       "Default Encoding: UTF-8\n",
       "Language: en\n",
       "Country: null\n",
       "--></g></svg>"
      ]
     },
     "execution_count": 40,
     "metadata": {},
     "output_type": "execute_result"
    }
   ],
   "source": [
    "%viz --style=\"DEFAULT\" --view=\"Interconnection\" \"ConjugationTest\""
   ]
  },
  {
   "cell_type": "code",
   "execution_count": 41,
   "id": "charming-webster",
   "metadata": {
    "execution": {
     "iopub.execute_input": "2021-03-25T13:18:58.498312Z",
     "iopub.status.busy": "2021-03-25T13:18:58.497765Z",
     "iopub.status.idle": "2021-03-25T13:18:58.505078Z",
     "shell.execute_reply": "2021-03-25T13:18:58.505561Z"
    }
   },
   "outputs": [
    {
     "data": {
      "image/svg+xml": [
       "<?xml version=\"1.0\" encoding=\"UTF-8\" standalone=\"no\"?><svg xmlns=\"http://www.w3.org/2000/svg\" xmlns:xlink=\"http://www.w3.org/1999/xlink\" contentScriptType=\"application/ecmascript\" contentStyleType=\"text/css\" height=\"12px\" preserveAspectRatio=\"none\" style=\"width:12px;height:12px;\" version=\"1.1\" viewBox=\"0 0 12 12\" width=\"12px\" zoomAndPan=\"magnify\"><defs/><g><!--MD5=[388f21188e31bfdd97050473b19af356]\n",
       "@startuml\r\n",
       "skinparam ranksep 8\r\n",
       "skinparam monochrome true\r\n",
       "skinparam classbackgroundcolor white\r\n",
       "skinparam shadowing false\r\n",
       "skinparam wrapWidth 300\r\n",
       "hide circle\r\n",
       "\r\n",
       "@enduml\r\n",
       "\n",
       "PlantUML version 1.2020.13(Sat Jun 13 12:26:38 UTC 2020)\n",
       "(EPL source distribution)\n",
       "Java Runtime: OpenJDK Runtime Environment\n",
       "JVM: OpenJDK 64-Bit Server VM\n",
       "Default Encoding: UTF-8\n",
       "Language: en\n",
       "Country: null\n",
       "--></g></svg>"
      ]
     },
     "execution_count": 41,
     "metadata": {},
     "output_type": "execute_result"
    }
   ],
   "source": [
    "%viz --style=\"DEFAULT\" --view=\"Action\" \"ConjugationTest\""
   ]
  },
  {
   "cell_type": "code",
   "execution_count": 42,
   "id": "twelve-gardening",
   "metadata": {
    "execution": {
     "iopub.execute_input": "2021-03-25T13:18:58.557143Z",
     "iopub.status.busy": "2021-03-25T13:18:58.556381Z",
     "iopub.status.idle": "2021-03-25T13:18:59.215636Z",
     "shell.execute_reply": "2021-03-25T13:18:59.214350Z"
    }
   },
   "outputs": [
    {
     "data": {
      "image/svg+xml": [
       "<?xml version=\"1.0\" encoding=\"UTF-8\" standalone=\"no\"?><svg xmlns=\"http://www.w3.org/2000/svg\" xmlns:xlink=\"http://www.w3.org/1999/xlink\" contentScriptType=\"application/ecmascript\" contentStyleType=\"text/css\" height=\"305px\" preserveAspectRatio=\"none\" style=\"width:614px;height:305px;\" version=\"1.1\" viewBox=\"0 0 614 305\" width=\"614px\" zoomAndPan=\"magnify\"><defs/><g><!--MD5=[fbc87193dbaf4d95561dea2c320d4a47]\n",
       "cluster E1--><a href=\"psysml:db7199af-e574-4214-8b26-5aef0dbbdb0a\" target=\"_top\" title=\"psysml:db7199af-e574-4214-8b26-5aef0dbbdb0a\" xlink:actuate=\"onRequest\" xlink:href=\"psysml:db7199af-e574-4214-8b26-5aef0dbbdb0a\" xlink:show=\"new\" xlink:title=\"psysml:db7199af-e574-4214-8b26-5aef0dbbdb0a\" xlink:type=\"simple\"><polygon fill=\"#FFFFFF\" points=\"16,6,151,6,158,28.2969,592,28.2969,592,293,16,293,16,6\" style=\"stroke: #000000; stroke-width: 1.5;\"/><line style=\"stroke: #000000; stroke-width: 1.5;\" x1=\"16\" x2=\"158\" y1=\"28.2969\" y2=\"28.2969\"/><text fill=\"#000000\" font-family=\"sans-serif\" font-size=\"14\" font-weight=\"bold\" lengthAdjust=\"spacingAndGlyphs\" textLength=\"129\" x=\"20\" y=\"20.9951\">ConjugationTest</text></a><!--MD5=[b4997ac47864f28c2f74865a473b2911]\n",
       "class E2--><a href=\"psysml:eee324b7-6ef1-4f74-bb85-9d01b884a0c3\" target=\"_top\" title=\"psysml:eee324b7-6ef1-4f74-bb85-9d01b884a0c3\" xlink:actuate=\"onRequest\" xlink:href=\"psysml:eee324b7-6ef1-4f74-bb85-9d01b884a0c3\" xlink:show=\"new\" xlink:title=\"psysml:eee324b7-6ef1-4f74-bb85-9d01b884a0c3\" xlink:type=\"simple\"><rect fill=\"#FFFFFF\" height=\"45.9375\" id=\"E2\" style=\"stroke: #383838; stroke-width: 1.5;\" width=\"66\" x=\"510\" y=\"62\"/><text fill=\"#000000\" font-family=\"sans-serif\" font-size=\"12\" font-style=\"italic\" lengthAdjust=\"spacingAndGlyphs\" textLength=\"64\" x=\"511\" y=\"78.1387\">«port def»</text><text fill=\"#000000\" font-family=\"sans-serif\" font-size=\"12\" lengthAdjust=\"spacingAndGlyphs\" textLength=\"8\" x=\"539\" y=\"92.1074\">P</text><line style=\"stroke: #383838; stroke-width: 1.5;\" x1=\"511\" x2=\"575\" y1=\"99.9375\" y2=\"99.9375\"/></a><!--MD5=[09b614a08d8cba4a07c9adeb5e0fee81]\n",
       "class E3--><a href=\"psysml:987ad9e8-156c-405b-94a5-0234bd5ef961\" target=\"_top\" title=\"psysml:987ad9e8-156c-405b-94a5-0234bd5ef961\" xlink:actuate=\"onRequest\" xlink:href=\"psysml:987ad9e8-156c-405b-94a5-0234bd5ef961\" xlink:show=\"new\" xlink:title=\"psysml:987ad9e8-156c-405b-94a5-0234bd5ef961\" xlink:type=\"simple\"><rect fill=\"#FFFFFF\" height=\"88.3516\" id=\"E3\" style=\"stroke: #383838; stroke-width: 1.5;\" width=\"66\" x=\"409\" y=\"41\"/><text fill=\"#000000\" font-family=\"sans-serif\" font-size=\"12\" font-style=\"italic\" lengthAdjust=\"spacingAndGlyphs\" textLength=\"64\" x=\"410\" y=\"57.1387\">«part def»</text><text fill=\"#000000\" font-family=\"sans-serif\" font-size=\"12\" lengthAdjust=\"spacingAndGlyphs\" textLength=\"8\" x=\"438\" y=\"71.1074\">B</text><line style=\"stroke: #383838; stroke-width: 1.5;\" x1=\"410\" x2=\"474\" y1=\"78.9375\" y2=\"78.9375\"/><text fill=\"#000000\" font-family=\"sans-serif\" font-size=\"11\" lengthAdjust=\"spacingAndGlyphs\" textLength=\"29\" x=\"415\" y=\"109.9526\">p1: P</text><text fill=\"#000000\" font-family=\"sans-serif\" font-size=\"11\" lengthAdjust=\"spacingAndGlyphs\" textLength=\"38\" x=\"415\" y=\"122.7573\">p2: ~P</text><line style=\"stroke: #383838; stroke-width: 1.0;\" x1=\"410\" x2=\"427\" y1=\"93.3398\" y2=\"93.3398\"/><text fill=\"#000000\" font-family=\"sans-serif\" font-size=\"11\" lengthAdjust=\"spacingAndGlyphs\" textLength=\"30\" x=\"427\" y=\"96.6479\">ports</text><line style=\"stroke: #383838; stroke-width: 1.0;\" x1=\"457\" x2=\"474\" y1=\"93.3398\" y2=\"93.3398\"/></a><!--MD5=[60a26617385b1d2d0262a64233df1f8d]\n",
       "class E6--><a href=\"psysml:d4b825d6-e011-4f07-a399-999db6b99ea3\" target=\"_top\" title=\"psysml:d4b825d6-e011-4f07-a399-999db6b99ea3\" xlink:actuate=\"onRequest\" xlink:href=\"psysml:d4b825d6-e011-4f07-a399-999db6b99ea3\" xlink:show=\"new\" xlink:title=\"psysml:d4b825d6-e011-4f07-a399-999db6b99ea3\" xlink:type=\"simple\"><rect fill=\"#FFFFFF\" height=\"88.3516\" id=\"E6\" style=\"stroke: #383838; stroke-width: 1.5;\" width=\"110\" x=\"264\" y=\"41\"/><text fill=\"#000000\" font-family=\"sans-serif\" font-size=\"12\" font-style=\"italic\" lengthAdjust=\"spacingAndGlyphs\" textLength=\"108\" x=\"265\" y=\"57.1387\">«connection def»</text><text fill=\"#000000\" font-family=\"sans-serif\" font-size=\"12\" lengthAdjust=\"spacingAndGlyphs\" textLength=\"8\" x=\"315\" y=\"71.1074\">A</text><line style=\"stroke: #383838; stroke-width: 1.5;\" x1=\"265\" x2=\"373\" y1=\"78.9375\" y2=\"78.9375\"/><text fill=\"#000000\" font-family=\"sans-serif\" font-size=\"11\" lengthAdjust=\"spacingAndGlyphs\" textLength=\"29\" x=\"270\" y=\"109.9526\">p1: P</text><text fill=\"#000000\" font-family=\"sans-serif\" font-size=\"11\" lengthAdjust=\"spacingAndGlyphs\" textLength=\"38\" x=\"270\" y=\"122.7573\">p2: ~P</text><line style=\"stroke: #383838; stroke-width: 1.0;\" x1=\"265\" x2=\"304\" y1=\"93.3398\" y2=\"93.3398\"/><text fill=\"#000000\" font-family=\"sans-serif\" font-size=\"11\" lengthAdjust=\"spacingAndGlyphs\" textLength=\"30\" x=\"304\" y=\"96.6479\">ports</text><line style=\"stroke: #383838; stroke-width: 1.0;\" x1=\"334\" x2=\"373\" y1=\"93.3398\" y2=\"93.3398\"/></a><!--MD5=[fd4143e9d270a159db93a4ea2a975926]\n",
       "class E9--><a href=\"psysml:0fcf03a3-0a94-497d-adc5-5270b49e59d7\" target=\"_top\" title=\"psysml:0fcf03a3-0a94-497d-adc5-5270b49e59d7\" xlink:actuate=\"onRequest\" xlink:href=\"psysml:0fcf03a3-0a94-497d-adc5-5270b49e59d7\" xlink:show=\"new\" xlink:title=\"psysml:0fcf03a3-0a94-497d-adc5-5270b49e59d7\" xlink:type=\"simple\"><rect fill=\"#FFFFFF\" height=\"88.3516\" id=\"E9\" style=\"stroke: #383838; stroke-width: 1.5;\" width=\"96\" x=\"133\" y=\"41\"/><text fill=\"#000000\" font-family=\"sans-serif\" font-size=\"12\" font-style=\"italic\" lengthAdjust=\"spacingAndGlyphs\" textLength=\"94\" x=\"134\" y=\"57.1387\">«interface def»</text><text fill=\"#000000\" font-family=\"sans-serif\" font-size=\"12\" lengthAdjust=\"spacingAndGlyphs\" textLength=\"3\" x=\"179.5\" y=\"71.1074\">I</text><line style=\"stroke: #383838; stroke-width: 1.5;\" x1=\"134\" x2=\"228\" y1=\"78.9375\" y2=\"78.9375\"/><text fill=\"#000000\" font-family=\"sans-serif\" font-size=\"11\" lengthAdjust=\"spacingAndGlyphs\" textLength=\"29\" x=\"139\" y=\"109.9526\">p1: P</text><text fill=\"#000000\" font-family=\"sans-serif\" font-size=\"11\" lengthAdjust=\"spacingAndGlyphs\" textLength=\"38\" x=\"139\" y=\"122.7573\">p2: ~P</text><line style=\"stroke: #383838; stroke-width: 1.0;\" x1=\"134\" x2=\"166\" y1=\"93.3398\" y2=\"93.3398\"/><text fill=\"#000000\" font-family=\"sans-serif\" font-size=\"11\" lengthAdjust=\"spacingAndGlyphs\" textLength=\"30\" x=\"166\" y=\"96.6479\">ports</text><line style=\"stroke: #383838; stroke-width: 1.0;\" x1=\"196\" x2=\"228\" y1=\"93.3398\" y2=\"93.3398\"/></a><!--MD5=[49a0ec8f00dab7302a31f22d0f0fe584]\n",
       "class E12--><a href=\"psysml:fa47a610-a800-429f-b665-228f1e266500\" target=\"_top\" title=\"psysml:fa47a610-a800-429f-b665-228f1e266500\" xlink:actuate=\"onRequest\" xlink:href=\"psysml:fa47a610-a800-429f-b665-228f1e266500\" xlink:show=\"new\" xlink:title=\"psysml:fa47a610-a800-429f-b665-228f1e266500\" xlink:type=\"simple\"><rect fill=\"#FFFFFF\" height=\"45.9375\" id=\"E12\" style=\"stroke: #383838; stroke-width: 1.5;\" width=\"66\" x=\"32\" y=\"62\"/><text fill=\"#000000\" font-family=\"sans-serif\" font-size=\"12\" font-style=\"italic\" lengthAdjust=\"spacingAndGlyphs\" textLength=\"64\" x=\"33\" y=\"78.1387\">«part def»</text><text fill=\"#000000\" font-family=\"sans-serif\" font-size=\"12\" lengthAdjust=\"spacingAndGlyphs\" textLength=\"16\" x=\"57\" y=\"92.1074\">B1</text><line style=\"stroke: #383838; stroke-width: 1.5;\" x1=\"33\" x2=\"97\" y1=\"99.9375\" y2=\"99.9375\"/></a><!--MD5=[ee3c913d1a06f366521f9ef512b67efe]\n",
       "class E13--><a href=\"psysml:593a6524-9b3f-4082-a23e-8ed96ff9a715\" target=\"_top\" title=\"psysml:593a6524-9b3f-4082-a23e-8ed96ff9a715\" xlink:actuate=\"onRequest\" xlink:href=\"psysml:593a6524-9b3f-4082-a23e-8ed96ff9a715\" xlink:show=\"new\" xlink:title=\"psysml:593a6524-9b3f-4082-a23e-8ed96ff9a715\" xlink:type=\"simple\"><rect fill=\"#FFFFFF\" height=\"88.3516\" id=\"E13\" rx=\"10\" ry=\"10\" style=\"stroke: #383838; stroke-width: 1.5;\" width=\"50\" x=\"40\" y=\"189\"/><text fill=\"#000000\" font-family=\"sans-serif\" font-size=\"12\" font-style=\"italic\" lengthAdjust=\"spacingAndGlyphs\" textLength=\"40\" x=\"45\" y=\"205.1387\">«part»</text><text fill=\"#000000\" font-family=\"sans-serif\" font-size=\"12\" lengthAdjust=\"spacingAndGlyphs\" textLength=\"8\" x=\"61\" y=\"219.1074\">p</text><line style=\"stroke: #383838; stroke-width: 1.5;\" x1=\"41\" x2=\"89\" y1=\"226.9375\" y2=\"226.9375\"/><text fill=\"#000000\" font-family=\"sans-serif\" font-size=\"11\" lengthAdjust=\"spacingAndGlyphs\" textLength=\"29\" x=\"46\" y=\"257.9526\">p1: P</text><text fill=\"#000000\" font-family=\"sans-serif\" font-size=\"11\" lengthAdjust=\"spacingAndGlyphs\" textLength=\"38\" x=\"46\" y=\"270.7573\">p2: ~P</text><line style=\"stroke: #383838; stroke-width: 1.0;\" x1=\"41\" x2=\"50\" y1=\"241.3398\" y2=\"241.3398\"/><text fill=\"#000000\" font-family=\"sans-serif\" font-size=\"11\" lengthAdjust=\"spacingAndGlyphs\" textLength=\"30\" x=\"50\" y=\"244.6479\">ports</text><line style=\"stroke: #383838; stroke-width: 1.0;\" x1=\"80\" x2=\"89\" y1=\"241.3398\" y2=\"241.3398\"/></a><!--MD5=[062ed86c389d1a88f61c6380d0491e17]\n",
       "reverse link E12 to E13--><a href=\"psysml:593a6524-9b3f-4082-a23e-8ed96ff9a715\" target=\"_top\" title=\"psysml:593a6524-9b3f-4082-a23e-8ed96ff9a715\" xlink:actuate=\"onRequest\" xlink:href=\"psysml:593a6524-9b3f-4082-a23e-8ed96ff9a715\" xlink:show=\"new\" xlink:title=\"psysml:593a6524-9b3f-4082-a23e-8ed96ff9a715\" xlink:type=\"simple\"><path d=\"M65,121.25 C65,141.54 65,167.2 65,188.71 \" fill=\"none\" id=\"E12&lt;-E13\" style=\"stroke: #383838; stroke-width: 1.0;\"/><polygon fill=\"#383838\" points=\"65,108.17,61,114.17,65,120.17,69,114.17,65,108.17\" style=\"stroke: #383838; stroke-width: 1.0;\"/></a><!--MD5=[3c0eac82f5b5828b92875623dd9903cc]\n",
       "@startuml\r\n",
       "skinparam monochrome true\r\n",
       "skinparam classbackgroundcolor white\r\n",
       "skinparam shadowing false\r\n",
       "skinparam wrapWidth 300\r\n",
       "hide circle\r\n",
       "\r\n",
       "package \"ConjugationTest\" as E1  [[psysml:db7199af-e574-4214-8b26-5aef0dbbdb0a ]]  {\r\n",
       "comp def \"P\" as E2  <<(T,blue)port def>> [[psysml:eee324b7-6ef1-4f74-bb85-9d01b884a0c3 ]] {\r\n",
       "}\r\n",
       "comp def \"B\" as E3  <<(T,blue)part def>> [[psysml:987ad9e8-156c-405b-94a5-0234bd5ef961 ]] {\r\n",
       "- - ports - -\r\n",
       "p1: P\r\n",
       "p2: ~P\r\n",
       "}\r\n",
       "comp def \"A\" as E6  <<(T,blue)connection def>> [[psysml:d4b825d6-e011-4f07-a399-999db6b99ea3 ]] {\r\n",
       "- - ports - -\r\n",
       "p1: P\r\n",
       "p2: ~P\r\n",
       "}\r\n",
       "comp def \"I\" as E9  <<(T,blue)interface def>> [[psysml:0fcf03a3-0a94-497d-adc5-5270b49e59d7 ]] {\r\n",
       "- - ports - -\r\n",
       "p1: P\r\n",
       "p2: ~P\r\n",
       "}\r\n",
       "comp def \"B1\" as E12  <<(T,blue)part def>> [[psysml:fa47a610-a800-429f-b665-228f1e266500 ]] {\r\n",
       "}\r\n",
       "comp usage \"p\" as E13  <<(T,blue)part>> [[psysml:593a6524-9b3f-4082-a23e-8ed96ff9a715 ]] {\r\n",
       "- - ports - -\r\n",
       "p1: P\r\n",
       "p2: ~P\r\n",
       "}\r\n",
       "E12 *- - E13 [[psysml:593a6524-9b3f-4082-a23e-8ed96ff9a715 ]] \r\n",
       "}\r\n",
       "@enduml\r\n",
       "\n",
       "PlantUML version 1.2020.13(Sat Jun 13 12:26:38 UTC 2020)\n",
       "(EPL source distribution)\n",
       "Java Runtime: OpenJDK Runtime Environment\n",
       "JVM: OpenJDK 64-Bit Server VM\n",
       "Default Encoding: UTF-8\n",
       "Language: en\n",
       "Country: null\n",
       "--></g></svg>"
      ]
     },
     "execution_count": 42,
     "metadata": {},
     "output_type": "execute_result"
    }
   ],
   "source": [
    "%viz --style=\"DEFAULT\" --view=\"Sequence\" \"ConjugationTest\""
   ]
  },
  {
   "cell_type": "code",
   "execution_count": 43,
   "id": "forbidden-angola",
   "metadata": {
    "execution": {
     "iopub.execute_input": "2021-03-25T13:18:59.266157Z",
     "iopub.status.busy": "2021-03-25T13:18:59.265779Z",
     "iopub.status.idle": "2021-03-25T13:19:00.004679Z",
     "shell.execute_reply": "2021-03-25T13:19:00.002682Z"
    }
   },
   "outputs": [
    {
     "data": {
      "image/svg+xml": [
       "<?xml version=\"1.0\" encoding=\"UTF-8\" standalone=\"no\"?><svg xmlns=\"http://www.w3.org/2000/svg\" xmlns:xlink=\"http://www.w3.org/1999/xlink\" contentScriptType=\"application/ecmascript\" contentStyleType=\"text/css\" height=\"305px\" preserveAspectRatio=\"none\" style=\"width:614px;height:305px;\" version=\"1.1\" viewBox=\"0 0 614 305\" width=\"614px\" zoomAndPan=\"magnify\"><defs/><g><!--MD5=[fbc87193dbaf4d95561dea2c320d4a47]\n",
       "cluster E1--><a href=\"psysml:db7199af-e574-4214-8b26-5aef0dbbdb0a\" target=\"_top\" title=\"psysml:db7199af-e574-4214-8b26-5aef0dbbdb0a\" xlink:actuate=\"onRequest\" xlink:href=\"psysml:db7199af-e574-4214-8b26-5aef0dbbdb0a\" xlink:show=\"new\" xlink:title=\"psysml:db7199af-e574-4214-8b26-5aef0dbbdb0a\" xlink:type=\"simple\"><polygon fill=\"#FFFFFF\" points=\"16,6,151,6,158,28.2969,592,28.2969,592,293,16,293,16,6\" style=\"stroke: #000000; stroke-width: 1.5;\"/><line style=\"stroke: #000000; stroke-width: 1.5;\" x1=\"16\" x2=\"158\" y1=\"28.2969\" y2=\"28.2969\"/><text fill=\"#000000\" font-family=\"sans-serif\" font-size=\"14\" font-weight=\"bold\" lengthAdjust=\"spacingAndGlyphs\" textLength=\"129\" x=\"20\" y=\"20.9951\">ConjugationTest</text></a><!--MD5=[b4997ac47864f28c2f74865a473b2911]\n",
       "class E2--><a href=\"psysml:eee324b7-6ef1-4f74-bb85-9d01b884a0c3\" target=\"_top\" title=\"psysml:eee324b7-6ef1-4f74-bb85-9d01b884a0c3\" xlink:actuate=\"onRequest\" xlink:href=\"psysml:eee324b7-6ef1-4f74-bb85-9d01b884a0c3\" xlink:show=\"new\" xlink:title=\"psysml:eee324b7-6ef1-4f74-bb85-9d01b884a0c3\" xlink:type=\"simple\"><rect fill=\"#FFFFFF\" height=\"45.9375\" id=\"E2\" style=\"stroke: #383838; stroke-width: 1.5;\" width=\"66\" x=\"510\" y=\"62\"/><text fill=\"#000000\" font-family=\"sans-serif\" font-size=\"12\" font-style=\"italic\" lengthAdjust=\"spacingAndGlyphs\" textLength=\"64\" x=\"511\" y=\"78.1387\">«port def»</text><text fill=\"#000000\" font-family=\"sans-serif\" font-size=\"12\" lengthAdjust=\"spacingAndGlyphs\" textLength=\"8\" x=\"539\" y=\"92.1074\">P</text><line style=\"stroke: #383838; stroke-width: 1.5;\" x1=\"511\" x2=\"575\" y1=\"99.9375\" y2=\"99.9375\"/></a><!--MD5=[09b614a08d8cba4a07c9adeb5e0fee81]\n",
       "class E3--><a href=\"psysml:987ad9e8-156c-405b-94a5-0234bd5ef961\" target=\"_top\" title=\"psysml:987ad9e8-156c-405b-94a5-0234bd5ef961\" xlink:actuate=\"onRequest\" xlink:href=\"psysml:987ad9e8-156c-405b-94a5-0234bd5ef961\" xlink:show=\"new\" xlink:title=\"psysml:987ad9e8-156c-405b-94a5-0234bd5ef961\" xlink:type=\"simple\"><rect fill=\"#FFFFFF\" height=\"88.3516\" id=\"E3\" style=\"stroke: #383838; stroke-width: 1.5;\" width=\"66\" x=\"409\" y=\"41\"/><text fill=\"#000000\" font-family=\"sans-serif\" font-size=\"12\" font-style=\"italic\" lengthAdjust=\"spacingAndGlyphs\" textLength=\"64\" x=\"410\" y=\"57.1387\">«part def»</text><text fill=\"#000000\" font-family=\"sans-serif\" font-size=\"12\" lengthAdjust=\"spacingAndGlyphs\" textLength=\"8\" x=\"438\" y=\"71.1074\">B</text><line style=\"stroke: #383838; stroke-width: 1.5;\" x1=\"410\" x2=\"474\" y1=\"78.9375\" y2=\"78.9375\"/><text fill=\"#000000\" font-family=\"sans-serif\" font-size=\"11\" lengthAdjust=\"spacingAndGlyphs\" textLength=\"29\" x=\"415\" y=\"109.9526\">p1: P</text><text fill=\"#000000\" font-family=\"sans-serif\" font-size=\"11\" lengthAdjust=\"spacingAndGlyphs\" textLength=\"38\" x=\"415\" y=\"122.7573\">p2: ~P</text><line style=\"stroke: #383838; stroke-width: 1.0;\" x1=\"410\" x2=\"427\" y1=\"93.3398\" y2=\"93.3398\"/><text fill=\"#000000\" font-family=\"sans-serif\" font-size=\"11\" lengthAdjust=\"spacingAndGlyphs\" textLength=\"30\" x=\"427\" y=\"96.6479\">ports</text><line style=\"stroke: #383838; stroke-width: 1.0;\" x1=\"457\" x2=\"474\" y1=\"93.3398\" y2=\"93.3398\"/></a><!--MD5=[60a26617385b1d2d0262a64233df1f8d]\n",
       "class E6--><a href=\"psysml:d4b825d6-e011-4f07-a399-999db6b99ea3\" target=\"_top\" title=\"psysml:d4b825d6-e011-4f07-a399-999db6b99ea3\" xlink:actuate=\"onRequest\" xlink:href=\"psysml:d4b825d6-e011-4f07-a399-999db6b99ea3\" xlink:show=\"new\" xlink:title=\"psysml:d4b825d6-e011-4f07-a399-999db6b99ea3\" xlink:type=\"simple\"><rect fill=\"#FFFFFF\" height=\"88.3516\" id=\"E6\" style=\"stroke: #383838; stroke-width: 1.5;\" width=\"110\" x=\"264\" y=\"41\"/><text fill=\"#000000\" font-family=\"sans-serif\" font-size=\"12\" font-style=\"italic\" lengthAdjust=\"spacingAndGlyphs\" textLength=\"108\" x=\"265\" y=\"57.1387\">«connection def»</text><text fill=\"#000000\" font-family=\"sans-serif\" font-size=\"12\" lengthAdjust=\"spacingAndGlyphs\" textLength=\"8\" x=\"315\" y=\"71.1074\">A</text><line style=\"stroke: #383838; stroke-width: 1.5;\" x1=\"265\" x2=\"373\" y1=\"78.9375\" y2=\"78.9375\"/><text fill=\"#000000\" font-family=\"sans-serif\" font-size=\"11\" lengthAdjust=\"spacingAndGlyphs\" textLength=\"29\" x=\"270\" y=\"109.9526\">p1: P</text><text fill=\"#000000\" font-family=\"sans-serif\" font-size=\"11\" lengthAdjust=\"spacingAndGlyphs\" textLength=\"38\" x=\"270\" y=\"122.7573\">p2: ~P</text><line style=\"stroke: #383838; stroke-width: 1.0;\" x1=\"265\" x2=\"304\" y1=\"93.3398\" y2=\"93.3398\"/><text fill=\"#000000\" font-family=\"sans-serif\" font-size=\"11\" lengthAdjust=\"spacingAndGlyphs\" textLength=\"30\" x=\"304\" y=\"96.6479\">ports</text><line style=\"stroke: #383838; stroke-width: 1.0;\" x1=\"334\" x2=\"373\" y1=\"93.3398\" y2=\"93.3398\"/></a><!--MD5=[fd4143e9d270a159db93a4ea2a975926]\n",
       "class E9--><a href=\"psysml:0fcf03a3-0a94-497d-adc5-5270b49e59d7\" target=\"_top\" title=\"psysml:0fcf03a3-0a94-497d-adc5-5270b49e59d7\" xlink:actuate=\"onRequest\" xlink:href=\"psysml:0fcf03a3-0a94-497d-adc5-5270b49e59d7\" xlink:show=\"new\" xlink:title=\"psysml:0fcf03a3-0a94-497d-adc5-5270b49e59d7\" xlink:type=\"simple\"><rect fill=\"#FFFFFF\" height=\"88.3516\" id=\"E9\" style=\"stroke: #383838; stroke-width: 1.5;\" width=\"96\" x=\"133\" y=\"41\"/><text fill=\"#000000\" font-family=\"sans-serif\" font-size=\"12\" font-style=\"italic\" lengthAdjust=\"spacingAndGlyphs\" textLength=\"94\" x=\"134\" y=\"57.1387\">«interface def»</text><text fill=\"#000000\" font-family=\"sans-serif\" font-size=\"12\" lengthAdjust=\"spacingAndGlyphs\" textLength=\"3\" x=\"179.5\" y=\"71.1074\">I</text><line style=\"stroke: #383838; stroke-width: 1.5;\" x1=\"134\" x2=\"228\" y1=\"78.9375\" y2=\"78.9375\"/><text fill=\"#000000\" font-family=\"sans-serif\" font-size=\"11\" lengthAdjust=\"spacingAndGlyphs\" textLength=\"29\" x=\"139\" y=\"109.9526\">p1: P</text><text fill=\"#000000\" font-family=\"sans-serif\" font-size=\"11\" lengthAdjust=\"spacingAndGlyphs\" textLength=\"38\" x=\"139\" y=\"122.7573\">p2: ~P</text><line style=\"stroke: #383838; stroke-width: 1.0;\" x1=\"134\" x2=\"166\" y1=\"93.3398\" y2=\"93.3398\"/><text fill=\"#000000\" font-family=\"sans-serif\" font-size=\"11\" lengthAdjust=\"spacingAndGlyphs\" textLength=\"30\" x=\"166\" y=\"96.6479\">ports</text><line style=\"stroke: #383838; stroke-width: 1.0;\" x1=\"196\" x2=\"228\" y1=\"93.3398\" y2=\"93.3398\"/></a><!--MD5=[49a0ec8f00dab7302a31f22d0f0fe584]\n",
       "class E12--><a href=\"psysml:fa47a610-a800-429f-b665-228f1e266500\" target=\"_top\" title=\"psysml:fa47a610-a800-429f-b665-228f1e266500\" xlink:actuate=\"onRequest\" xlink:href=\"psysml:fa47a610-a800-429f-b665-228f1e266500\" xlink:show=\"new\" xlink:title=\"psysml:fa47a610-a800-429f-b665-228f1e266500\" xlink:type=\"simple\"><rect fill=\"#FFFFFF\" height=\"45.9375\" id=\"E12\" style=\"stroke: #383838; stroke-width: 1.5;\" width=\"66\" x=\"32\" y=\"62\"/><text fill=\"#000000\" font-family=\"sans-serif\" font-size=\"12\" font-style=\"italic\" lengthAdjust=\"spacingAndGlyphs\" textLength=\"64\" x=\"33\" y=\"78.1387\">«part def»</text><text fill=\"#000000\" font-family=\"sans-serif\" font-size=\"12\" lengthAdjust=\"spacingAndGlyphs\" textLength=\"16\" x=\"57\" y=\"92.1074\">B1</text><line style=\"stroke: #383838; stroke-width: 1.5;\" x1=\"33\" x2=\"97\" y1=\"99.9375\" y2=\"99.9375\"/></a><!--MD5=[ee3c913d1a06f366521f9ef512b67efe]\n",
       "class E13--><a href=\"psysml:593a6524-9b3f-4082-a23e-8ed96ff9a715\" target=\"_top\" title=\"psysml:593a6524-9b3f-4082-a23e-8ed96ff9a715\" xlink:actuate=\"onRequest\" xlink:href=\"psysml:593a6524-9b3f-4082-a23e-8ed96ff9a715\" xlink:show=\"new\" xlink:title=\"psysml:593a6524-9b3f-4082-a23e-8ed96ff9a715\" xlink:type=\"simple\"><rect fill=\"#FFFFFF\" height=\"88.3516\" id=\"E13\" rx=\"10\" ry=\"10\" style=\"stroke: #383838; stroke-width: 1.5;\" width=\"50\" x=\"40\" y=\"189\"/><text fill=\"#000000\" font-family=\"sans-serif\" font-size=\"12\" font-style=\"italic\" lengthAdjust=\"spacingAndGlyphs\" textLength=\"40\" x=\"45\" y=\"205.1387\">«part»</text><text fill=\"#000000\" font-family=\"sans-serif\" font-size=\"12\" lengthAdjust=\"spacingAndGlyphs\" textLength=\"8\" x=\"61\" y=\"219.1074\">p</text><line style=\"stroke: #383838; stroke-width: 1.5;\" x1=\"41\" x2=\"89\" y1=\"226.9375\" y2=\"226.9375\"/><text fill=\"#000000\" font-family=\"sans-serif\" font-size=\"11\" lengthAdjust=\"spacingAndGlyphs\" textLength=\"29\" x=\"46\" y=\"257.9526\">p1: P</text><text fill=\"#000000\" font-family=\"sans-serif\" font-size=\"11\" lengthAdjust=\"spacingAndGlyphs\" textLength=\"38\" x=\"46\" y=\"270.7573\">p2: ~P</text><line style=\"stroke: #383838; stroke-width: 1.0;\" x1=\"41\" x2=\"50\" y1=\"241.3398\" y2=\"241.3398\"/><text fill=\"#000000\" font-family=\"sans-serif\" font-size=\"11\" lengthAdjust=\"spacingAndGlyphs\" textLength=\"30\" x=\"50\" y=\"244.6479\">ports</text><line style=\"stroke: #383838; stroke-width: 1.0;\" x1=\"80\" x2=\"89\" y1=\"241.3398\" y2=\"241.3398\"/></a><!--MD5=[062ed86c389d1a88f61c6380d0491e17]\n",
       "reverse link E12 to E13--><a href=\"psysml:593a6524-9b3f-4082-a23e-8ed96ff9a715\" target=\"_top\" title=\"psysml:593a6524-9b3f-4082-a23e-8ed96ff9a715\" xlink:actuate=\"onRequest\" xlink:href=\"psysml:593a6524-9b3f-4082-a23e-8ed96ff9a715\" xlink:show=\"new\" xlink:title=\"psysml:593a6524-9b3f-4082-a23e-8ed96ff9a715\" xlink:type=\"simple\"><path d=\"M65,121.25 C65,141.54 65,167.2 65,188.71 \" fill=\"none\" id=\"E12&lt;-E13\" style=\"stroke: #383838; stroke-width: 1.0;\"/><polygon fill=\"#383838\" points=\"65,108.17,61,114.17,65,120.17,69,114.17,65,108.17\" style=\"stroke: #383838; stroke-width: 1.0;\"/></a><!--MD5=[3c0eac82f5b5828b92875623dd9903cc]\n",
       "@startuml\r\n",
       "skinparam monochrome true\r\n",
       "skinparam classbackgroundcolor white\r\n",
       "skinparam shadowing false\r\n",
       "skinparam wrapWidth 300\r\n",
       "hide circle\r\n",
       "\r\n",
       "package \"ConjugationTest\" as E1  [[psysml:db7199af-e574-4214-8b26-5aef0dbbdb0a ]]  {\r\n",
       "comp def \"P\" as E2  <<(T,blue)port def>> [[psysml:eee324b7-6ef1-4f74-bb85-9d01b884a0c3 ]] {\r\n",
       "}\r\n",
       "comp def \"B\" as E3  <<(T,blue)part def>> [[psysml:987ad9e8-156c-405b-94a5-0234bd5ef961 ]] {\r\n",
       "- - ports - -\r\n",
       "p1: P\r\n",
       "p2: ~P\r\n",
       "}\r\n",
       "comp def \"A\" as E6  <<(T,blue)connection def>> [[psysml:d4b825d6-e011-4f07-a399-999db6b99ea3 ]] {\r\n",
       "- - ports - -\r\n",
       "p1: P\r\n",
       "p2: ~P\r\n",
       "}\r\n",
       "comp def \"I\" as E9  <<(T,blue)interface def>> [[psysml:0fcf03a3-0a94-497d-adc5-5270b49e59d7 ]] {\r\n",
       "- - ports - -\r\n",
       "p1: P\r\n",
       "p2: ~P\r\n",
       "}\r\n",
       "comp def \"B1\" as E12  <<(T,blue)part def>> [[psysml:fa47a610-a800-429f-b665-228f1e266500 ]] {\r\n",
       "}\r\n",
       "comp usage \"p\" as E13  <<(T,blue)part>> [[psysml:593a6524-9b3f-4082-a23e-8ed96ff9a715 ]] {\r\n",
       "- - ports - -\r\n",
       "p1: P\r\n",
       "p2: ~P\r\n",
       "}\r\n",
       "E12 *- - E13 [[psysml:593a6524-9b3f-4082-a23e-8ed96ff9a715 ]] \r\n",
       "}\r\n",
       "@enduml\r\n",
       "\n",
       "PlantUML version 1.2020.13(Sat Jun 13 12:26:38 UTC 2020)\n",
       "(EPL source distribution)\n",
       "Java Runtime: OpenJDK Runtime Environment\n",
       "JVM: OpenJDK 64-Bit Server VM\n",
       "Default Encoding: UTF-8\n",
       "Language: en\n",
       "Country: null\n",
       "--></g></svg>"
      ]
     },
     "execution_count": 43,
     "metadata": {},
     "output_type": "execute_result"
    }
   ],
   "source": [
    "%viz --style=\"DEFAULT\" --view=\"MIXED\" \"ConjugationTest\""
   ]
  },
  {
   "cell_type": "code",
   "execution_count": 44,
   "id": "found-edgar",
   "metadata": {
    "execution": {
     "iopub.execute_input": "2021-03-25T13:19:00.054814Z",
     "iopub.status.busy": "2021-03-25T13:19:00.053970Z",
     "iopub.status.idle": "2021-03-25T13:19:00.820004Z",
     "shell.execute_reply": "2021-03-25T13:19:00.818386Z"
    }
   },
   "outputs": [
    {
     "data": {
      "image/svg+xml": [
       "<?xml version=\"1.0\" encoding=\"UTF-8\" standalone=\"no\"?><svg xmlns=\"http://www.w3.org/2000/svg\" xmlns:xlink=\"http://www.w3.org/1999/xlink\" contentScriptType=\"application/ecmascript\" contentStyleType=\"text/css\" height=\"305px\" preserveAspectRatio=\"none\" style=\"width:614px;height:305px;\" version=\"1.1\" viewBox=\"0 0 614 305\" width=\"614px\" zoomAndPan=\"magnify\"><defs/><g><!--MD5=[fbc87193dbaf4d95561dea2c320d4a47]\n",
       "cluster E1--><a href=\"psysml:db7199af-e574-4214-8b26-5aef0dbbdb0a\" target=\"_top\" title=\"psysml:db7199af-e574-4214-8b26-5aef0dbbdb0a\" xlink:actuate=\"onRequest\" xlink:href=\"psysml:db7199af-e574-4214-8b26-5aef0dbbdb0a\" xlink:show=\"new\" xlink:title=\"psysml:db7199af-e574-4214-8b26-5aef0dbbdb0a\" xlink:type=\"simple\"><polygon fill=\"#FFFFFF\" points=\"16,6,151,6,158,28.2969,592,28.2969,592,293,16,293,16,6\" style=\"stroke: #000000; stroke-width: 1.5;\"/><line style=\"stroke: #000000; stroke-width: 1.5;\" x1=\"16\" x2=\"158\" y1=\"28.2969\" y2=\"28.2969\"/><text fill=\"#000000\" font-family=\"sans-serif\" font-size=\"14\" font-weight=\"bold\" lengthAdjust=\"spacingAndGlyphs\" textLength=\"129\" x=\"20\" y=\"20.9951\">ConjugationTest</text></a><!--MD5=[b4997ac47864f28c2f74865a473b2911]\n",
       "class E2--><a href=\"psysml:eee324b7-6ef1-4f74-bb85-9d01b884a0c3\" target=\"_top\" title=\"psysml:eee324b7-6ef1-4f74-bb85-9d01b884a0c3\" xlink:actuate=\"onRequest\" xlink:href=\"psysml:eee324b7-6ef1-4f74-bb85-9d01b884a0c3\" xlink:show=\"new\" xlink:title=\"psysml:eee324b7-6ef1-4f74-bb85-9d01b884a0c3\" xlink:type=\"simple\"><rect fill=\"#FFFFFF\" height=\"45.9375\" id=\"E2\" style=\"stroke: #383838; stroke-width: 1.5;\" width=\"66\" x=\"510\" y=\"62\"/><text fill=\"#000000\" font-family=\"sans-serif\" font-size=\"12\" font-style=\"italic\" lengthAdjust=\"spacingAndGlyphs\" textLength=\"64\" x=\"511\" y=\"78.1387\">«port def»</text><text fill=\"#000000\" font-family=\"sans-serif\" font-size=\"12\" lengthAdjust=\"spacingAndGlyphs\" textLength=\"8\" x=\"539\" y=\"92.1074\">P</text><line style=\"stroke: #383838; stroke-width: 1.5;\" x1=\"511\" x2=\"575\" y1=\"99.9375\" y2=\"99.9375\"/></a><!--MD5=[09b614a08d8cba4a07c9adeb5e0fee81]\n",
       "class E3--><a href=\"psysml:987ad9e8-156c-405b-94a5-0234bd5ef961\" target=\"_top\" title=\"psysml:987ad9e8-156c-405b-94a5-0234bd5ef961\" xlink:actuate=\"onRequest\" xlink:href=\"psysml:987ad9e8-156c-405b-94a5-0234bd5ef961\" xlink:show=\"new\" xlink:title=\"psysml:987ad9e8-156c-405b-94a5-0234bd5ef961\" xlink:type=\"simple\"><rect fill=\"#FFFFFF\" height=\"88.3516\" id=\"E3\" style=\"stroke: #383838; stroke-width: 1.5;\" width=\"66\" x=\"409\" y=\"41\"/><text fill=\"#000000\" font-family=\"sans-serif\" font-size=\"12\" font-style=\"italic\" lengthAdjust=\"spacingAndGlyphs\" textLength=\"64\" x=\"410\" y=\"57.1387\">«part def»</text><text fill=\"#000000\" font-family=\"sans-serif\" font-size=\"12\" lengthAdjust=\"spacingAndGlyphs\" textLength=\"8\" x=\"438\" y=\"71.1074\">B</text><line style=\"stroke: #383838; stroke-width: 1.5;\" x1=\"410\" x2=\"474\" y1=\"78.9375\" y2=\"78.9375\"/><text fill=\"#000000\" font-family=\"sans-serif\" font-size=\"11\" lengthAdjust=\"spacingAndGlyphs\" textLength=\"29\" x=\"415\" y=\"109.9526\">p1: P</text><text fill=\"#000000\" font-family=\"sans-serif\" font-size=\"11\" lengthAdjust=\"spacingAndGlyphs\" textLength=\"38\" x=\"415\" y=\"122.7573\">p2: ~P</text><line style=\"stroke: #383838; stroke-width: 1.0;\" x1=\"410\" x2=\"427\" y1=\"93.3398\" y2=\"93.3398\"/><text fill=\"#000000\" font-family=\"sans-serif\" font-size=\"11\" lengthAdjust=\"spacingAndGlyphs\" textLength=\"30\" x=\"427\" y=\"96.6479\">ports</text><line style=\"stroke: #383838; stroke-width: 1.0;\" x1=\"457\" x2=\"474\" y1=\"93.3398\" y2=\"93.3398\"/></a><!--MD5=[60a26617385b1d2d0262a64233df1f8d]\n",
       "class E6--><a href=\"psysml:d4b825d6-e011-4f07-a399-999db6b99ea3\" target=\"_top\" title=\"psysml:d4b825d6-e011-4f07-a399-999db6b99ea3\" xlink:actuate=\"onRequest\" xlink:href=\"psysml:d4b825d6-e011-4f07-a399-999db6b99ea3\" xlink:show=\"new\" xlink:title=\"psysml:d4b825d6-e011-4f07-a399-999db6b99ea3\" xlink:type=\"simple\"><rect fill=\"#FFFFFF\" height=\"88.3516\" id=\"E6\" style=\"stroke: #383838; stroke-width: 1.5;\" width=\"110\" x=\"264\" y=\"41\"/><text fill=\"#000000\" font-family=\"sans-serif\" font-size=\"12\" font-style=\"italic\" lengthAdjust=\"spacingAndGlyphs\" textLength=\"108\" x=\"265\" y=\"57.1387\">«connection def»</text><text fill=\"#000000\" font-family=\"sans-serif\" font-size=\"12\" lengthAdjust=\"spacingAndGlyphs\" textLength=\"8\" x=\"315\" y=\"71.1074\">A</text><line style=\"stroke: #383838; stroke-width: 1.5;\" x1=\"265\" x2=\"373\" y1=\"78.9375\" y2=\"78.9375\"/><text fill=\"#000000\" font-family=\"sans-serif\" font-size=\"11\" lengthAdjust=\"spacingAndGlyphs\" textLength=\"29\" x=\"270\" y=\"109.9526\">p1: P</text><text fill=\"#000000\" font-family=\"sans-serif\" font-size=\"11\" lengthAdjust=\"spacingAndGlyphs\" textLength=\"38\" x=\"270\" y=\"122.7573\">p2: ~P</text><line style=\"stroke: #383838; stroke-width: 1.0;\" x1=\"265\" x2=\"304\" y1=\"93.3398\" y2=\"93.3398\"/><text fill=\"#000000\" font-family=\"sans-serif\" font-size=\"11\" lengthAdjust=\"spacingAndGlyphs\" textLength=\"30\" x=\"304\" y=\"96.6479\">ports</text><line style=\"stroke: #383838; stroke-width: 1.0;\" x1=\"334\" x2=\"373\" y1=\"93.3398\" y2=\"93.3398\"/></a><!--MD5=[fd4143e9d270a159db93a4ea2a975926]\n",
       "class E9--><a href=\"psysml:0fcf03a3-0a94-497d-adc5-5270b49e59d7\" target=\"_top\" title=\"psysml:0fcf03a3-0a94-497d-adc5-5270b49e59d7\" xlink:actuate=\"onRequest\" xlink:href=\"psysml:0fcf03a3-0a94-497d-adc5-5270b49e59d7\" xlink:show=\"new\" xlink:title=\"psysml:0fcf03a3-0a94-497d-adc5-5270b49e59d7\" xlink:type=\"simple\"><rect fill=\"#FFFFFF\" height=\"88.3516\" id=\"E9\" style=\"stroke: #383838; stroke-width: 1.5;\" width=\"96\" x=\"133\" y=\"41\"/><text fill=\"#000000\" font-family=\"sans-serif\" font-size=\"12\" font-style=\"italic\" lengthAdjust=\"spacingAndGlyphs\" textLength=\"94\" x=\"134\" y=\"57.1387\">«interface def»</text><text fill=\"#000000\" font-family=\"sans-serif\" font-size=\"12\" lengthAdjust=\"spacingAndGlyphs\" textLength=\"3\" x=\"179.5\" y=\"71.1074\">I</text><line style=\"stroke: #383838; stroke-width: 1.5;\" x1=\"134\" x2=\"228\" y1=\"78.9375\" y2=\"78.9375\"/><text fill=\"#000000\" font-family=\"sans-serif\" font-size=\"11\" lengthAdjust=\"spacingAndGlyphs\" textLength=\"29\" x=\"139\" y=\"109.9526\">p1: P</text><text fill=\"#000000\" font-family=\"sans-serif\" font-size=\"11\" lengthAdjust=\"spacingAndGlyphs\" textLength=\"38\" x=\"139\" y=\"122.7573\">p2: ~P</text><line style=\"stroke: #383838; stroke-width: 1.0;\" x1=\"134\" x2=\"166\" y1=\"93.3398\" y2=\"93.3398\"/><text fill=\"#000000\" font-family=\"sans-serif\" font-size=\"11\" lengthAdjust=\"spacingAndGlyphs\" textLength=\"30\" x=\"166\" y=\"96.6479\">ports</text><line style=\"stroke: #383838; stroke-width: 1.0;\" x1=\"196\" x2=\"228\" y1=\"93.3398\" y2=\"93.3398\"/></a><!--MD5=[49a0ec8f00dab7302a31f22d0f0fe584]\n",
       "class E12--><a href=\"psysml:fa47a610-a800-429f-b665-228f1e266500\" target=\"_top\" title=\"psysml:fa47a610-a800-429f-b665-228f1e266500\" xlink:actuate=\"onRequest\" xlink:href=\"psysml:fa47a610-a800-429f-b665-228f1e266500\" xlink:show=\"new\" xlink:title=\"psysml:fa47a610-a800-429f-b665-228f1e266500\" xlink:type=\"simple\"><rect fill=\"#FFFFFF\" height=\"45.9375\" id=\"E12\" style=\"stroke: #383838; stroke-width: 1.5;\" width=\"66\" x=\"32\" y=\"62\"/><text fill=\"#000000\" font-family=\"sans-serif\" font-size=\"12\" font-style=\"italic\" lengthAdjust=\"spacingAndGlyphs\" textLength=\"64\" x=\"33\" y=\"78.1387\">«part def»</text><text fill=\"#000000\" font-family=\"sans-serif\" font-size=\"12\" lengthAdjust=\"spacingAndGlyphs\" textLength=\"16\" x=\"57\" y=\"92.1074\">B1</text><line style=\"stroke: #383838; stroke-width: 1.5;\" x1=\"33\" x2=\"97\" y1=\"99.9375\" y2=\"99.9375\"/></a><!--MD5=[ee3c913d1a06f366521f9ef512b67efe]\n",
       "class E13--><a href=\"psysml:593a6524-9b3f-4082-a23e-8ed96ff9a715\" target=\"_top\" title=\"psysml:593a6524-9b3f-4082-a23e-8ed96ff9a715\" xlink:actuate=\"onRequest\" xlink:href=\"psysml:593a6524-9b3f-4082-a23e-8ed96ff9a715\" xlink:show=\"new\" xlink:title=\"psysml:593a6524-9b3f-4082-a23e-8ed96ff9a715\" xlink:type=\"simple\"><rect fill=\"#FFFFFF\" height=\"88.3516\" id=\"E13\" rx=\"10\" ry=\"10\" style=\"stroke: #383838; stroke-width: 1.5;\" width=\"50\" x=\"40\" y=\"189\"/><text fill=\"#000000\" font-family=\"sans-serif\" font-size=\"12\" font-style=\"italic\" lengthAdjust=\"spacingAndGlyphs\" textLength=\"40\" x=\"45\" y=\"205.1387\">«part»</text><text fill=\"#000000\" font-family=\"sans-serif\" font-size=\"12\" lengthAdjust=\"spacingAndGlyphs\" textLength=\"8\" x=\"61\" y=\"219.1074\">p</text><line style=\"stroke: #383838; stroke-width: 1.5;\" x1=\"41\" x2=\"89\" y1=\"226.9375\" y2=\"226.9375\"/><text fill=\"#000000\" font-family=\"sans-serif\" font-size=\"11\" lengthAdjust=\"spacingAndGlyphs\" textLength=\"29\" x=\"46\" y=\"257.9526\">p1: P</text><text fill=\"#000000\" font-family=\"sans-serif\" font-size=\"11\" lengthAdjust=\"spacingAndGlyphs\" textLength=\"38\" x=\"46\" y=\"270.7573\">p2: ~P</text><line style=\"stroke: #383838; stroke-width: 1.0;\" x1=\"41\" x2=\"50\" y1=\"241.3398\" y2=\"241.3398\"/><text fill=\"#000000\" font-family=\"sans-serif\" font-size=\"11\" lengthAdjust=\"spacingAndGlyphs\" textLength=\"30\" x=\"50\" y=\"244.6479\">ports</text><line style=\"stroke: #383838; stroke-width: 1.0;\" x1=\"80\" x2=\"89\" y1=\"241.3398\" y2=\"241.3398\"/></a><!--MD5=[062ed86c389d1a88f61c6380d0491e17]\n",
       "reverse link E12 to E13--><a href=\"psysml:593a6524-9b3f-4082-a23e-8ed96ff9a715\" target=\"_top\" title=\"psysml:593a6524-9b3f-4082-a23e-8ed96ff9a715\" xlink:actuate=\"onRequest\" xlink:href=\"psysml:593a6524-9b3f-4082-a23e-8ed96ff9a715\" xlink:show=\"new\" xlink:title=\"psysml:593a6524-9b3f-4082-a23e-8ed96ff9a715\" xlink:type=\"simple\"><path d=\"M65,121.25 C65,141.54 65,167.2 65,188.71 \" fill=\"none\" id=\"E12&lt;-E13\" style=\"stroke: #383838; stroke-width: 1.0;\"/><polygon fill=\"#383838\" points=\"65,108.17,61,114.17,65,120.17,69,114.17,65,108.17\" style=\"stroke: #383838; stroke-width: 1.0;\"/></a><!--MD5=[087e9f265fcbf9e6cf479a5b49353eca]\n",
       "@startuml\r\n",
       "top to bottom direction\r\n",
       "skinparam monochrome true\r\n",
       "skinparam classbackgroundcolor white\r\n",
       "skinparam shadowing false\r\n",
       "skinparam wrapWidth 300\r\n",
       "hide circle\r\n",
       "\r\n",
       "package \"ConjugationTest\" as E1  [[psysml:db7199af-e574-4214-8b26-5aef0dbbdb0a ]]  {\r\n",
       "comp def \"P\" as E2  <<(T,blue)port def>> [[psysml:eee324b7-6ef1-4f74-bb85-9d01b884a0c3 ]] {\r\n",
       "}\r\n",
       "comp def \"B\" as E3  <<(T,blue)part def>> [[psysml:987ad9e8-156c-405b-94a5-0234bd5ef961 ]] {\r\n",
       "- - ports - -\r\n",
       "p1: P\r\n",
       "p2: ~P\r\n",
       "}\r\n",
       "comp def \"A\" as E6  <<(T,blue)connection def>> [[psysml:d4b825d6-e011-4f07-a399-999db6b99ea3 ]] {\r\n",
       "- - ports - -\r\n",
       "p1: P\r\n",
       "p2: ~P\r\n",
       "}\r\n",
       "comp def \"I\" as E9  <<(T,blue)interface def>> [[psysml:0fcf03a3-0a94-497d-adc5-5270b49e59d7 ]] {\r\n",
       "- - ports - -\r\n",
       "p1: P\r\n",
       "p2: ~P\r\n",
       "}\r\n",
       "comp def \"B1\" as E12  <<(T,blue)part def>> [[psysml:fa47a610-a800-429f-b665-228f1e266500 ]] {\r\n",
       "}\r\n",
       "comp usage \"p\" as E13  <<(T,blue)part>> [[psysml:593a6524-9b3f-4082-a23e-8ed96ff9a715 ]] {\r\n",
       "- - ports - -\r\n",
       "p1: P\r\n",
       "p2: ~P\r\n",
       "}\r\n",
       "E12 *- - E13 [[psysml:593a6524-9b3f-4082-a23e-8ed96ff9a715 ]] \r\n",
       "}\r\n",
       "@enduml\r\n",
       "\n",
       "PlantUML version 1.2020.13(Sat Jun 13 12:26:38 UTC 2020)\n",
       "(EPL source distribution)\n",
       "Java Runtime: OpenJDK Runtime Environment\n",
       "JVM: OpenJDK 64-Bit Server VM\n",
       "Default Encoding: UTF-8\n",
       "Language: en\n",
       "Country: null\n",
       "--></g></svg>"
      ]
     },
     "execution_count": 44,
     "metadata": {},
     "output_type": "execute_result"
    }
   ],
   "source": [
    "%viz --style=\"TB\" --view=\"Default\" \"ConjugationTest\""
   ]
  },
  {
   "cell_type": "code",
   "execution_count": 45,
   "id": "handed-cartoon",
   "metadata": {
    "execution": {
     "iopub.execute_input": "2021-03-25T13:19:00.872226Z",
     "iopub.status.busy": "2021-03-25T13:19:00.871715Z",
     "iopub.status.idle": "2021-03-25T13:19:01.546461Z",
     "shell.execute_reply": "2021-03-25T13:19:01.544342Z"
    }
   },
   "outputs": [
    {
     "data": {
      "image/svg+xml": [
       "<?xml version=\"1.0\" encoding=\"UTF-8\" standalone=\"no\"?><svg xmlns=\"http://www.w3.org/2000/svg\" xmlns:xlink=\"http://www.w3.org/1999/xlink\" contentScriptType=\"application/ecmascript\" contentStyleType=\"text/css\" height=\"305px\" preserveAspectRatio=\"none\" style=\"width:614px;height:305px;\" version=\"1.1\" viewBox=\"0 0 614 305\" width=\"614px\" zoomAndPan=\"magnify\"><defs/><g><!--MD5=[fbc87193dbaf4d95561dea2c320d4a47]\n",
       "cluster E1--><a href=\"psysml:db7199af-e574-4214-8b26-5aef0dbbdb0a\" target=\"_top\" title=\"psysml:db7199af-e574-4214-8b26-5aef0dbbdb0a\" xlink:actuate=\"onRequest\" xlink:href=\"psysml:db7199af-e574-4214-8b26-5aef0dbbdb0a\" xlink:show=\"new\" xlink:title=\"psysml:db7199af-e574-4214-8b26-5aef0dbbdb0a\" xlink:type=\"simple\"><polygon fill=\"#FFFFFF\" points=\"16,6,151,6,158,28.2969,592,28.2969,592,293,16,293,16,6\" style=\"stroke: #000000; stroke-width: 1.5;\"/><line style=\"stroke: #000000; stroke-width: 1.5;\" x1=\"16\" x2=\"158\" y1=\"28.2969\" y2=\"28.2969\"/><text fill=\"#000000\" font-family=\"sans-serif\" font-size=\"14\" font-weight=\"bold\" lengthAdjust=\"spacingAndGlyphs\" textLength=\"129\" x=\"20\" y=\"20.9951\">ConjugationTest</text></a><!--MD5=[b4997ac47864f28c2f74865a473b2911]\n",
       "class E2--><a href=\"psysml:eee324b7-6ef1-4f74-bb85-9d01b884a0c3\" target=\"_top\" title=\"psysml:eee324b7-6ef1-4f74-bb85-9d01b884a0c3\" xlink:actuate=\"onRequest\" xlink:href=\"psysml:eee324b7-6ef1-4f74-bb85-9d01b884a0c3\" xlink:show=\"new\" xlink:title=\"psysml:eee324b7-6ef1-4f74-bb85-9d01b884a0c3\" xlink:type=\"simple\"><rect fill=\"#FFFFFF\" height=\"45.9375\" id=\"E2\" style=\"stroke: #383838; stroke-width: 1.5;\" width=\"66\" x=\"510\" y=\"62\"/><text fill=\"#000000\" font-family=\"sans-serif\" font-size=\"12\" font-style=\"italic\" lengthAdjust=\"spacingAndGlyphs\" textLength=\"64\" x=\"511\" y=\"78.1387\">«port def»</text><text fill=\"#000000\" font-family=\"sans-serif\" font-size=\"12\" lengthAdjust=\"spacingAndGlyphs\" textLength=\"8\" x=\"539\" y=\"92.1074\">P</text><line style=\"stroke: #383838; stroke-width: 1.5;\" x1=\"511\" x2=\"575\" y1=\"99.9375\" y2=\"99.9375\"/></a><!--MD5=[09b614a08d8cba4a07c9adeb5e0fee81]\n",
       "class E3--><a href=\"psysml:987ad9e8-156c-405b-94a5-0234bd5ef961\" target=\"_top\" title=\"psysml:987ad9e8-156c-405b-94a5-0234bd5ef961\" xlink:actuate=\"onRequest\" xlink:href=\"psysml:987ad9e8-156c-405b-94a5-0234bd5ef961\" xlink:show=\"new\" xlink:title=\"psysml:987ad9e8-156c-405b-94a5-0234bd5ef961\" xlink:type=\"simple\"><rect fill=\"#FFFFFF\" height=\"88.3516\" id=\"E3\" style=\"stroke: #383838; stroke-width: 1.5;\" width=\"66\" x=\"409\" y=\"41\"/><text fill=\"#000000\" font-family=\"sans-serif\" font-size=\"12\" font-style=\"italic\" lengthAdjust=\"spacingAndGlyphs\" textLength=\"64\" x=\"410\" y=\"57.1387\">«part def»</text><text fill=\"#000000\" font-family=\"sans-serif\" font-size=\"12\" lengthAdjust=\"spacingAndGlyphs\" textLength=\"8\" x=\"438\" y=\"71.1074\">B</text><line style=\"stroke: #383838; stroke-width: 1.5;\" x1=\"410\" x2=\"474\" y1=\"78.9375\" y2=\"78.9375\"/><text fill=\"#000000\" font-family=\"sans-serif\" font-size=\"11\" lengthAdjust=\"spacingAndGlyphs\" textLength=\"29\" x=\"415\" y=\"109.9526\">p1: P</text><text fill=\"#000000\" font-family=\"sans-serif\" font-size=\"11\" lengthAdjust=\"spacingAndGlyphs\" textLength=\"38\" x=\"415\" y=\"122.7573\">p2: ~P</text><line style=\"stroke: #383838; stroke-width: 1.0;\" x1=\"410\" x2=\"427\" y1=\"93.3398\" y2=\"93.3398\"/><text fill=\"#000000\" font-family=\"sans-serif\" font-size=\"11\" lengthAdjust=\"spacingAndGlyphs\" textLength=\"30\" x=\"427\" y=\"96.6479\">ports</text><line style=\"stroke: #383838; stroke-width: 1.0;\" x1=\"457\" x2=\"474\" y1=\"93.3398\" y2=\"93.3398\"/></a><!--MD5=[60a26617385b1d2d0262a64233df1f8d]\n",
       "class E6--><a href=\"psysml:d4b825d6-e011-4f07-a399-999db6b99ea3\" target=\"_top\" title=\"psysml:d4b825d6-e011-4f07-a399-999db6b99ea3\" xlink:actuate=\"onRequest\" xlink:href=\"psysml:d4b825d6-e011-4f07-a399-999db6b99ea3\" xlink:show=\"new\" xlink:title=\"psysml:d4b825d6-e011-4f07-a399-999db6b99ea3\" xlink:type=\"simple\"><rect fill=\"#FFFFFF\" height=\"88.3516\" id=\"E6\" style=\"stroke: #383838; stroke-width: 1.5;\" width=\"110\" x=\"264\" y=\"41\"/><text fill=\"#000000\" font-family=\"sans-serif\" font-size=\"12\" font-style=\"italic\" lengthAdjust=\"spacingAndGlyphs\" textLength=\"108\" x=\"265\" y=\"57.1387\">«connection def»</text><text fill=\"#000000\" font-family=\"sans-serif\" font-size=\"12\" lengthAdjust=\"spacingAndGlyphs\" textLength=\"8\" x=\"315\" y=\"71.1074\">A</text><line style=\"stroke: #383838; stroke-width: 1.5;\" x1=\"265\" x2=\"373\" y1=\"78.9375\" y2=\"78.9375\"/><text fill=\"#000000\" font-family=\"sans-serif\" font-size=\"11\" lengthAdjust=\"spacingAndGlyphs\" textLength=\"29\" x=\"270\" y=\"109.9526\">p1: P</text><text fill=\"#000000\" font-family=\"sans-serif\" font-size=\"11\" lengthAdjust=\"spacingAndGlyphs\" textLength=\"38\" x=\"270\" y=\"122.7573\">p2: ~P</text><line style=\"stroke: #383838; stroke-width: 1.0;\" x1=\"265\" x2=\"304\" y1=\"93.3398\" y2=\"93.3398\"/><text fill=\"#000000\" font-family=\"sans-serif\" font-size=\"11\" lengthAdjust=\"spacingAndGlyphs\" textLength=\"30\" x=\"304\" y=\"96.6479\">ports</text><line style=\"stroke: #383838; stroke-width: 1.0;\" x1=\"334\" x2=\"373\" y1=\"93.3398\" y2=\"93.3398\"/></a><!--MD5=[fd4143e9d270a159db93a4ea2a975926]\n",
       "class E9--><a href=\"psysml:0fcf03a3-0a94-497d-adc5-5270b49e59d7\" target=\"_top\" title=\"psysml:0fcf03a3-0a94-497d-adc5-5270b49e59d7\" xlink:actuate=\"onRequest\" xlink:href=\"psysml:0fcf03a3-0a94-497d-adc5-5270b49e59d7\" xlink:show=\"new\" xlink:title=\"psysml:0fcf03a3-0a94-497d-adc5-5270b49e59d7\" xlink:type=\"simple\"><rect fill=\"#FFFFFF\" height=\"88.3516\" id=\"E9\" style=\"stroke: #383838; stroke-width: 1.5;\" width=\"96\" x=\"133\" y=\"41\"/><text fill=\"#000000\" font-family=\"sans-serif\" font-size=\"12\" font-style=\"italic\" lengthAdjust=\"spacingAndGlyphs\" textLength=\"94\" x=\"134\" y=\"57.1387\">«interface def»</text><text fill=\"#000000\" font-family=\"sans-serif\" font-size=\"12\" lengthAdjust=\"spacingAndGlyphs\" textLength=\"3\" x=\"179.5\" y=\"71.1074\">I</text><line style=\"stroke: #383838; stroke-width: 1.5;\" x1=\"134\" x2=\"228\" y1=\"78.9375\" y2=\"78.9375\"/><text fill=\"#000000\" font-family=\"sans-serif\" font-size=\"11\" lengthAdjust=\"spacingAndGlyphs\" textLength=\"29\" x=\"139\" y=\"109.9526\">p1: P</text><text fill=\"#000000\" font-family=\"sans-serif\" font-size=\"11\" lengthAdjust=\"spacingAndGlyphs\" textLength=\"38\" x=\"139\" y=\"122.7573\">p2: ~P</text><line style=\"stroke: #383838; stroke-width: 1.0;\" x1=\"134\" x2=\"166\" y1=\"93.3398\" y2=\"93.3398\"/><text fill=\"#000000\" font-family=\"sans-serif\" font-size=\"11\" lengthAdjust=\"spacingAndGlyphs\" textLength=\"30\" x=\"166\" y=\"96.6479\">ports</text><line style=\"stroke: #383838; stroke-width: 1.0;\" x1=\"196\" x2=\"228\" y1=\"93.3398\" y2=\"93.3398\"/></a><!--MD5=[49a0ec8f00dab7302a31f22d0f0fe584]\n",
       "class E12--><a href=\"psysml:fa47a610-a800-429f-b665-228f1e266500\" target=\"_top\" title=\"psysml:fa47a610-a800-429f-b665-228f1e266500\" xlink:actuate=\"onRequest\" xlink:href=\"psysml:fa47a610-a800-429f-b665-228f1e266500\" xlink:show=\"new\" xlink:title=\"psysml:fa47a610-a800-429f-b665-228f1e266500\" xlink:type=\"simple\"><rect fill=\"#FFFFFF\" height=\"45.9375\" id=\"E12\" style=\"stroke: #383838; stroke-width: 1.5;\" width=\"66\" x=\"32\" y=\"62\"/><text fill=\"#000000\" font-family=\"sans-serif\" font-size=\"12\" font-style=\"italic\" lengthAdjust=\"spacingAndGlyphs\" textLength=\"64\" x=\"33\" y=\"78.1387\">«part def»</text><text fill=\"#000000\" font-family=\"sans-serif\" font-size=\"12\" lengthAdjust=\"spacingAndGlyphs\" textLength=\"16\" x=\"57\" y=\"92.1074\">B1</text><line style=\"stroke: #383838; stroke-width: 1.5;\" x1=\"33\" x2=\"97\" y1=\"99.9375\" y2=\"99.9375\"/></a><!--MD5=[ee3c913d1a06f366521f9ef512b67efe]\n",
       "class E13--><a href=\"psysml:593a6524-9b3f-4082-a23e-8ed96ff9a715\" target=\"_top\" title=\"psysml:593a6524-9b3f-4082-a23e-8ed96ff9a715\" xlink:actuate=\"onRequest\" xlink:href=\"psysml:593a6524-9b3f-4082-a23e-8ed96ff9a715\" xlink:show=\"new\" xlink:title=\"psysml:593a6524-9b3f-4082-a23e-8ed96ff9a715\" xlink:type=\"simple\"><rect fill=\"#FFFFFF\" height=\"88.3516\" id=\"E13\" rx=\"10\" ry=\"10\" style=\"stroke: #383838; stroke-width: 1.5;\" width=\"50\" x=\"40\" y=\"189\"/><text fill=\"#000000\" font-family=\"sans-serif\" font-size=\"12\" font-style=\"italic\" lengthAdjust=\"spacingAndGlyphs\" textLength=\"40\" x=\"45\" y=\"205.1387\">«part»</text><text fill=\"#000000\" font-family=\"sans-serif\" font-size=\"12\" lengthAdjust=\"spacingAndGlyphs\" textLength=\"8\" x=\"61\" y=\"219.1074\">p</text><line style=\"stroke: #383838; stroke-width: 1.5;\" x1=\"41\" x2=\"89\" y1=\"226.9375\" y2=\"226.9375\"/><text fill=\"#000000\" font-family=\"sans-serif\" font-size=\"11\" lengthAdjust=\"spacingAndGlyphs\" textLength=\"29\" x=\"46\" y=\"257.9526\">p1: P</text><text fill=\"#000000\" font-family=\"sans-serif\" font-size=\"11\" lengthAdjust=\"spacingAndGlyphs\" textLength=\"38\" x=\"46\" y=\"270.7573\">p2: ~P</text><line style=\"stroke: #383838; stroke-width: 1.0;\" x1=\"41\" x2=\"50\" y1=\"241.3398\" y2=\"241.3398\"/><text fill=\"#000000\" font-family=\"sans-serif\" font-size=\"11\" lengthAdjust=\"spacingAndGlyphs\" textLength=\"30\" x=\"50\" y=\"244.6479\">ports</text><line style=\"stroke: #383838; stroke-width: 1.0;\" x1=\"80\" x2=\"89\" y1=\"241.3398\" y2=\"241.3398\"/></a><!--MD5=[062ed86c389d1a88f61c6380d0491e17]\n",
       "reverse link E12 to E13--><a href=\"psysml:593a6524-9b3f-4082-a23e-8ed96ff9a715\" target=\"_top\" title=\"psysml:593a6524-9b3f-4082-a23e-8ed96ff9a715\" xlink:actuate=\"onRequest\" xlink:href=\"psysml:593a6524-9b3f-4082-a23e-8ed96ff9a715\" xlink:show=\"new\" xlink:title=\"psysml:593a6524-9b3f-4082-a23e-8ed96ff9a715\" xlink:type=\"simple\"><path d=\"M65,121.25 C65,141.54 65,167.2 65,188.71 \" fill=\"none\" id=\"E12&lt;-E13\" style=\"stroke: #383838; stroke-width: 1.0;\"/><polygon fill=\"#383838\" points=\"65,108.17,61,114.17,65,120.17,69,114.17,65,108.17\" style=\"stroke: #383838; stroke-width: 1.0;\"/></a><!--MD5=[087e9f265fcbf9e6cf479a5b49353eca]\n",
       "@startuml\r\n",
       "top to bottom direction\r\n",
       "skinparam monochrome true\r\n",
       "skinparam classbackgroundcolor white\r\n",
       "skinparam shadowing false\r\n",
       "skinparam wrapWidth 300\r\n",
       "hide circle\r\n",
       "\r\n",
       "package \"ConjugationTest\" as E1  [[psysml:db7199af-e574-4214-8b26-5aef0dbbdb0a ]]  {\r\n",
       "comp def \"P\" as E2  <<(T,blue)port def>> [[psysml:eee324b7-6ef1-4f74-bb85-9d01b884a0c3 ]] {\r\n",
       "}\r\n",
       "comp def \"B\" as E3  <<(T,blue)part def>> [[psysml:987ad9e8-156c-405b-94a5-0234bd5ef961 ]] {\r\n",
       "- - ports - -\r\n",
       "p1: P\r\n",
       "p2: ~P\r\n",
       "}\r\n",
       "comp def \"A\" as E6  <<(T,blue)connection def>> [[psysml:d4b825d6-e011-4f07-a399-999db6b99ea3 ]] {\r\n",
       "- - ports - -\r\n",
       "p1: P\r\n",
       "p2: ~P\r\n",
       "}\r\n",
       "comp def \"I\" as E9  <<(T,blue)interface def>> [[psysml:0fcf03a3-0a94-497d-adc5-5270b49e59d7 ]] {\r\n",
       "- - ports - -\r\n",
       "p1: P\r\n",
       "p2: ~P\r\n",
       "}\r\n",
       "comp def \"B1\" as E12  <<(T,blue)part def>> [[psysml:fa47a610-a800-429f-b665-228f1e266500 ]] {\r\n",
       "}\r\n",
       "comp usage \"p\" as E13  <<(T,blue)part>> [[psysml:593a6524-9b3f-4082-a23e-8ed96ff9a715 ]] {\r\n",
       "- - ports - -\r\n",
       "p1: P\r\n",
       "p2: ~P\r\n",
       "}\r\n",
       "E12 *- - E13 [[psysml:593a6524-9b3f-4082-a23e-8ed96ff9a715 ]] \r\n",
       "}\r\n",
       "@enduml\r\n",
       "\n",
       "PlantUML version 1.2020.13(Sat Jun 13 12:26:38 UTC 2020)\n",
       "(EPL source distribution)\n",
       "Java Runtime: OpenJDK Runtime Environment\n",
       "JVM: OpenJDK 64-Bit Server VM\n",
       "Default Encoding: UTF-8\n",
       "Language: en\n",
       "Country: null\n",
       "--></g></svg>"
      ]
     },
     "execution_count": 45,
     "metadata": {},
     "output_type": "execute_result"
    }
   ],
   "source": [
    "%viz --style=\"TB\" --view=\"Tree\" \"ConjugationTest\""
   ]
  },
  {
   "cell_type": "code",
   "execution_count": 46,
   "id": "appointed-permission",
   "metadata": {
    "execution": {
     "iopub.execute_input": "2021-03-25T13:19:01.597072Z",
     "iopub.status.busy": "2021-03-25T13:19:01.596056Z",
     "iopub.status.idle": "2021-03-25T13:19:01.603313Z",
     "shell.execute_reply": "2021-03-25T13:19:01.602630Z"
    }
   },
   "outputs": [
    {
     "data": {
      "image/svg+xml": [
       "<?xml version=\"1.0\" encoding=\"UTF-8\" standalone=\"no\"?><svg xmlns=\"http://www.w3.org/2000/svg\" xmlns:xlink=\"http://www.w3.org/1999/xlink\" contentScriptType=\"application/ecmascript\" contentStyleType=\"text/css\" height=\"12px\" preserveAspectRatio=\"none\" style=\"width:12px;height:12px;\" version=\"1.1\" viewBox=\"0 0 12 12\" width=\"12px\" zoomAndPan=\"magnify\"><defs/><g><!--MD5=[f4ee21bc66e489b5061b7c3e9601fdef]\n",
       "@startuml\r\n",
       "top to bottom direction\r\n",
       "skinparam monochrome true\r\n",
       "skinparam classbackgroundcolor white\r\n",
       "skinparam shadowing false\r\n",
       "skinparam wrapWidth 300\r\n",
       "hide circle\r\n",
       "\r\n",
       "@enduml\r\n",
       "\n",
       "PlantUML version 1.2020.13(Sat Jun 13 12:26:38 UTC 2020)\n",
       "(EPL source distribution)\n",
       "Java Runtime: OpenJDK Runtime Environment\n",
       "JVM: OpenJDK 64-Bit Server VM\n",
       "Default Encoding: UTF-8\n",
       "Language: en\n",
       "Country: null\n",
       "--></g></svg>"
      ]
     },
     "execution_count": 46,
     "metadata": {},
     "output_type": "execute_result"
    }
   ],
   "source": [
    "%viz --style=\"TB\" --view=\"State\" \"ConjugationTest\""
   ]
  },
  {
   "cell_type": "code",
   "execution_count": 47,
   "id": "political-treat",
   "metadata": {
    "execution": {
     "iopub.execute_input": "2021-03-25T13:19:01.654462Z",
     "iopub.status.busy": "2021-03-25T13:19:01.653954Z",
     "iopub.status.idle": "2021-03-25T13:19:01.840782Z",
     "shell.execute_reply": "2021-03-25T13:19:01.839058Z"
    }
   },
   "outputs": [
    {
     "data": {
      "image/svg+xml": [
       "<?xml version=\"1.0\" encoding=\"UTF-8\" standalone=\"no\"?><svg xmlns=\"http://www.w3.org/2000/svg\" xmlns:xlink=\"http://www.w3.org/1999/xlink\" contentScriptType=\"application/ecmascript\" contentStyleType=\"text/css\" height=\"246px\" preserveAspectRatio=\"none\" style=\"width:739px;height:246px;\" version=\"1.1\" viewBox=\"0 0 739 246\" width=\"739px\" zoomAndPan=\"magnify\"><defs/><g><!--MD5=[fbc87193dbaf4d95561dea2c320d4a47]\n",
       "cluster E1--><a href=\"psysml:db7199af-e574-4214-8b26-5aef0dbbdb0a\" target=\"_top\" title=\"psysml:db7199af-e574-4214-8b26-5aef0dbbdb0a\" xlink:actuate=\"onRequest\" xlink:href=\"psysml:db7199af-e574-4214-8b26-5aef0dbbdb0a\" xlink:show=\"new\" xlink:title=\"psysml:db7199af-e574-4214-8b26-5aef0dbbdb0a\" xlink:type=\"simple\"><polygon fill=\"#FFFFFF\" points=\"16,6,151,6,158,28.2969,717,28.2969,717,234.5,16,234.5,16,6\" style=\"stroke: #000000; stroke-width: 1.5;\"/><line style=\"stroke: #000000; stroke-width: 1.5;\" x1=\"16\" x2=\"158\" y1=\"28.2969\" y2=\"28.2969\"/><text fill=\"#000000\" font-family=\"sans-serif\" font-size=\"14\" font-weight=\"bold\" lengthAdjust=\"spacingAndGlyphs\" textLength=\"129\" x=\"20\" y=\"20.9951\">ConjugationTest</text></a><!--MD5=[d5e69f78d87373223dbae638b30a9c99]\n",
       "cluster E3--><a href=\"psysml:987ad9e8-156c-405b-94a5-0234bd5ef961\" target=\"_top\" title=\"psysml:987ad9e8-156c-405b-94a5-0234bd5ef961\" xlink:actuate=\"onRequest\" xlink:href=\"psysml:987ad9e8-156c-405b-94a5-0234bd5ef961\" xlink:show=\"new\" xlink:title=\"psysml:987ad9e8-156c-405b-94a5-0234bd5ef961\" xlink:type=\"simple\"><rect fill=\"#FFFFFF\" height=\"88.5\" id=\"E3\" style=\"stroke: #383838; stroke-width: 1.5;\" width=\"83\" x=\"577\" y=\"114\"/><rect fill=\"#F8F8F8\" height=\"37.9375\" style=\"stroke: #383838; stroke-width: 1.5;\" width=\"83\" x=\"577\" y=\"114\"/><text fill=\"#000000\" font-family=\"sans-serif\" font-size=\"12\" font-style=\"italic\" lengthAdjust=\"spacingAndGlyphs\" textLength=\"64\" x=\"586.5\" y=\"130.1387\">«part def»</text><text fill=\"#000000\" font-family=\"sans-serif\" font-size=\"12\" lengthAdjust=\"spacingAndGlyphs\" textLength=\"8\" x=\"614.5\" y=\"144.1074\">B</text></a><!--MD5=[14e3b0961a2654348d326746436168a1]\n",
       "cluster E6--><a href=\"psysml:d4b825d6-e011-4f07-a399-999db6b99ea3\" target=\"_top\" title=\"psysml:d4b825d6-e011-4f07-a399-999db6b99ea3\" xlink:actuate=\"onRequest\" xlink:href=\"psysml:d4b825d6-e011-4f07-a399-999db6b99ea3\" xlink:show=\"new\" xlink:title=\"psysml:d4b825d6-e011-4f07-a399-999db6b99ea3\" xlink:type=\"simple\"><rect fill=\"#FFFFFF\" height=\"88.5\" id=\"E6\" style=\"stroke: #383838; stroke-width: 1.5;\" width=\"150\" x=\"423\" y=\"114\"/><rect fill=\"#F8F8F8\" height=\"37.9375\" style=\"stroke: #383838; stroke-width: 1.5;\" width=\"150\" x=\"423\" y=\"114\"/><text fill=\"#000000\" font-family=\"sans-serif\" font-size=\"12\" font-style=\"italic\" lengthAdjust=\"spacingAndGlyphs\" textLength=\"108\" x=\"444\" y=\"130.1387\">«connection def»</text><text fill=\"#000000\" font-family=\"sans-serif\" font-size=\"12\" lengthAdjust=\"spacingAndGlyphs\" textLength=\"8\" x=\"494\" y=\"144.1074\">A</text></a><!--MD5=[7f149f147074ac12df2cb0a7728a5fb0]\n",
       "cluster E9--><a href=\"psysml:0fcf03a3-0a94-497d-adc5-5270b49e59d7\" target=\"_top\" title=\"psysml:0fcf03a3-0a94-497d-adc5-5270b49e59d7\" xlink:actuate=\"onRequest\" xlink:href=\"psysml:0fcf03a3-0a94-497d-adc5-5270b49e59d7\" xlink:show=\"new\" xlink:title=\"psysml:0fcf03a3-0a94-497d-adc5-5270b49e59d7\" xlink:type=\"simple\"><rect fill=\"#FFFFFF\" height=\"88.5\" id=\"E9\" style=\"stroke: #383838; stroke-width: 1.5;\" width=\"141\" x=\"254\" y=\"114\"/><rect fill=\"#F8F8F8\" height=\"37.9375\" style=\"stroke: #383838; stroke-width: 1.5;\" width=\"141\" x=\"254\" y=\"114\"/><text fill=\"#000000\" font-family=\"sans-serif\" font-size=\"12\" font-style=\"italic\" lengthAdjust=\"spacingAndGlyphs\" textLength=\"94\" x=\"277.5\" y=\"130.1387\">«interface def»</text><text fill=\"#000000\" font-family=\"sans-serif\" font-size=\"12\" lengthAdjust=\"spacingAndGlyphs\" textLength=\"3\" x=\"323\" y=\"144.1074\">I</text></a><!--MD5=[47bea60c1a0ac6c1143df232041969c0]\n",
       "cluster E12--><a href=\"psysml:fa47a610-a800-429f-b665-228f1e266500\" target=\"_top\" title=\"psysml:fa47a610-a800-429f-b665-228f1e266500\" xlink:actuate=\"onRequest\" xlink:href=\"psysml:fa47a610-a800-429f-b665-228f1e266500\" xlink:show=\"new\" xlink:title=\"psysml:fa47a610-a800-429f-b665-228f1e266500\" xlink:type=\"simple\"><rect fill=\"#FFFFFF\" height=\"161.5\" id=\"E12\" style=\"stroke: #383838; stroke-width: 1.5;\" width=\"107\" x=\"120\" y=\"49\"/><rect fill=\"#F8F8F8\" height=\"37.9375\" style=\"stroke: #383838; stroke-width: 1.5;\" width=\"107\" x=\"120\" y=\"49\"/><text fill=\"#000000\" font-family=\"sans-serif\" font-size=\"12\" font-style=\"italic\" lengthAdjust=\"spacingAndGlyphs\" textLength=\"64\" x=\"141.5\" y=\"65.1387\">«part def»</text><text fill=\"#000000\" font-family=\"sans-serif\" font-size=\"12\" lengthAdjust=\"spacingAndGlyphs\" textLength=\"16\" x=\"165.5\" y=\"79.1074\">B1</text></a><!--MD5=[03104f77b71e2d8d3500c651e6e31181]\n",
       "cluster E13--><a href=\"psysml:593a6524-9b3f-4082-a23e-8ed96ff9a715\" target=\"_top\" title=\"psysml:593a6524-9b3f-4082-a23e-8ed96ff9a715\" xlink:actuate=\"onRequest\" xlink:href=\"psysml:593a6524-9b3f-4082-a23e-8ed96ff9a715\" xlink:show=\"new\" xlink:title=\"psysml:593a6524-9b3f-4082-a23e-8ed96ff9a715\" xlink:type=\"simple\"><rect fill=\"#FFFFFF\" height=\"80.5\" id=\"E13\" rx=\"10\" ry=\"10\" style=\"stroke: #383838; stroke-width: 1.5;\" width=\"83\" x=\"132\" y=\"114\"/><rect fill=\"#F8F8F8\" height=\"23.9688\" rx=\"10\" ry=\"10\" style=\"stroke: #F8F8F8; stroke-width: 1.5;\" width=\"83\" x=\"132\" y=\"114\"/><rect fill=\"#F8F8F8\" height=\"10\" style=\"stroke: #F8F8F8; stroke-width: 1.5;\" width=\"83\" x=\"132\" y=\"127.9688\"/><rect fill=\"none\" height=\"80.5\" id=\"E13\" rx=\"10\" ry=\"10\" style=\"stroke: #383838; stroke-width: 1.5;\" width=\"83\" x=\"132\" y=\"114\"/><text fill=\"#000000\" font-family=\"sans-serif\" font-size=\"12\" lengthAdjust=\"spacingAndGlyphs\" textLength=\"8\" x=\"169.5\" y=\"130.1387\">p</text><line style=\"stroke: #383838; stroke-width: 1.0;\" x1=\"132\" x2=\"215\" y1=\"137.9688\" y2=\"137.9688\"/></a><g id=\"E1.E2\"><a href=\"psysml:eee324b7-6ef1-4f74-bb85-9d01b884a0c3\" target=\"_top\" title=\"psysml:eee324b7-6ef1-4f74-bb85-9d01b884a0c3\" xlink:actuate=\"onRequest\" xlink:href=\"psysml:eee324b7-6ef1-4f74-bb85-9d01b884a0c3\" xlink:show=\"new\" xlink:title=\"psysml:eee324b7-6ef1-4f74-bb85-9d01b884a0c3\" xlink:type=\"simple\"><rect fill=\"#FFFFFF\" height=\"42.9375\" id=\"E2\" style=\"stroke: #383838; stroke-width: 1.5;\" width=\"71\" x=\"32.5\" y=\"92.5\"/><rect fill=\"#F8F8F8\" height=\"37.9375\" style=\"stroke: #383838; stroke-width: 1.5;\" width=\"71\" x=\"32.5\" y=\"92.5\"/><text fill=\"#000000\" font-family=\"sans-serif\" font-size=\"12\" font-style=\"italic\" lengthAdjust=\"spacingAndGlyphs\" textLength=\"64\" x=\"36\" y=\"108.6387\">«port def»</text><text fill=\"#000000\" font-family=\"sans-serif\" font-size=\"12\" lengthAdjust=\"spacingAndGlyphs\" textLength=\"8\" x=\"64\" y=\"122.6074\">P</text></a></g><text fill=\"#000000\" font-family=\"sans-serif\" font-size=\"14\" lengthAdjust=\"spacingAndGlyphs\" textLength=\"36\" x=\"577\" y=\"92.6982\">p1: P</text><rect fill=\"#383838\" height=\"12\" style=\"stroke: #F8F8F8; stroke-width: 1.5;\" width=\"12\" x=\"589\" y=\"108\"/><text fill=\"#000000\" font-family=\"sans-serif\" font-size=\"14\" lengthAdjust=\"spacingAndGlyphs\" textLength=\"48\" x=\"618\" y=\"92.6982\">p2: ~P</text><rect fill=\"#383838\" height=\"12\" style=\"stroke: #F8F8F8; stroke-width: 1.5;\" width=\"12\" x=\"636\" y=\"108\"/><text fill=\"#000000\" font-family=\"sans-serif\" font-size=\"14\" lengthAdjust=\"spacingAndGlyphs\" textLength=\"36\" x=\"423\" y=\"92.6982\">p1: P</text><rect fill=\"#383838\" height=\"12\" style=\"stroke: #F8F8F8; stroke-width: 1.5;\" width=\"12\" x=\"435\" y=\"108\"/><text fill=\"#000000\" font-family=\"sans-serif\" font-size=\"14\" lengthAdjust=\"spacingAndGlyphs\" textLength=\"48\" x=\"464\" y=\"92.6982\">p2: ~P</text><rect fill=\"#383838\" height=\"12\" style=\"stroke: #F8F8F8; stroke-width: 1.5;\" width=\"12\" x=\"482\" y=\"108\"/><text fill=\"#000000\" font-family=\"sans-serif\" font-size=\"14\" lengthAdjust=\"spacingAndGlyphs\" textLength=\"36\" x=\"254\" y=\"92.6982\">p1: P</text><rect fill=\"#383838\" height=\"12\" style=\"stroke: #F8F8F8; stroke-width: 1.5;\" width=\"12\" x=\"266\" y=\"108\"/><text fill=\"#000000\" font-family=\"sans-serif\" font-size=\"14\" lengthAdjust=\"spacingAndGlyphs\" textLength=\"48\" x=\"295\" y=\"92.6982\">p2: ~P</text><rect fill=\"#383838\" height=\"12\" style=\"stroke: #F8F8F8; stroke-width: 1.5;\" width=\"12\" x=\"313\" y=\"108\"/><text fill=\"#000000\" font-family=\"sans-serif\" font-size=\"14\" lengthAdjust=\"spacingAndGlyphs\" textLength=\"36\" x=\"132\" y=\"92.6982\">p1: P</text><rect fill=\"#383838\" height=\"12\" style=\"stroke: #F8F8F8; stroke-width: 1.5;\" width=\"12\" x=\"144\" y=\"108\"/><text fill=\"#000000\" font-family=\"sans-serif\" font-size=\"14\" lengthAdjust=\"spacingAndGlyphs\" textLength=\"48\" x=\"173\" y=\"92.6982\">p2: ~P</text><rect fill=\"#383838\" height=\"12\" style=\"stroke: #F8F8F8; stroke-width: 1.5;\" width=\"12\" x=\"191\" y=\"108\"/><!--MD5=[4ce51ac6fa4cf5202df3859e2718f033]\n",
       "link E15 to E14--><a href=\"psysml:aa2d6f76-4132-425f-9826-f18a4b0e5493\" target=\"_top\" title=\"psysml:aa2d6f76-4132-425f-9826-f18a4b0e5493\" xlink:actuate=\"onRequest\" xlink:href=\"psysml:aa2d6f76-4132-425f-9826-f18a4b0e5493\" xlink:show=\"new\" xlink:title=\"psysml:aa2d6f76-4132-425f-9826-f18a4b0e5493\" xlink:type=\"simple\"><path d=\"M190.95,114 C179.38,114 167.81,114 156.24,114 \" fill=\"none\" id=\"E15-E14\" style=\"stroke: #383838; stroke-width: 3.0;\"/></a><!--MD5=[4ce51ac6fa4cf5202df3859e2718f033]\n",
       "link E15 to E14--><a href=\"psysml:7b87a1ef-cf2b-4c9e-a130-c1b402d1e385\" target=\"_top\" title=\"psysml:7b87a1ef-cf2b-4c9e-a130-c1b402d1e385\" xlink:actuate=\"onRequest\" xlink:href=\"psysml:7b87a1ef-cf2b-4c9e-a130-c1b402d1e385\" xlink:show=\"new\" xlink:title=\"psysml:7b87a1ef-cf2b-4c9e-a130-c1b402d1e385\" xlink:type=\"simple\"><path d=\"M190.95,111.98 C179.38,108.69 167.81,108.67 156.24,111.93 \" fill=\"none\" id=\"E15-E14-1\" style=\"stroke: #383838; stroke-width: 3.0;\"/></a><!--MD5=[7f60bbc6f855e024fa5334a9ffcbb8c2]\n",
       "@startuml\r\n",
       "skinparam ranksep 8\r\n",
       "skinparam rectangle {\r\n",
       " backgroundColor<<block>> LightGreen\r\n",
       "}\r\n",
       "top to bottom direction\r\n",
       "skinparam monochrome true\r\n",
       "skinparam classbackgroundcolor white\r\n",
       "skinparam shadowing false\r\n",
       "skinparam wrapWidth 300\r\n",
       "hide circle\r\n",
       "\r\n",
       "package \"ConjugationTest\" as E1  [[psysml:db7199af-e574-4214-8b26-5aef0dbbdb0a ]]  {\r\n",
       "def \"P\" as E2  <<(T,blue)port def>> [[psysml:eee324b7-6ef1-4f74-bb85-9d01b884a0c3 ]] \r\n",
       "rec def \"B\" as E3  <<(T,blue)part def>> [[psysml:987ad9e8-156c-405b-94a5-0234bd5ef961 ]] {\r\n",
       "portin \"p1: P\" as E4  <<(T,blue)port>> [[psysml:c8a4d081-7853-4f87-8688-3b004d6601fe ]] \r\n",
       "portin \"p2: ~P\" as E5  <<(T,blue)port>> [[psysml:93d25d87-d8ba-4a14-9054-622c501a7419 ]] \r\n",
       "}\r\n",
       "rec def \"A\" as E6  <<(T,blue)connection def>> [[psysml:d4b825d6-e011-4f07-a399-999db6b99ea3 ]] {\r\n",
       "portin \"p1: P\" as E7  <<(T,blue)port>> [[psysml:cf23f925-3ac9-40f7-8eb9-75cb926494bb ]] \r\n",
       "portin \"p2: ~P\" as E8  <<(T,blue)port>> [[psysml:78e860a1-2afe-4044-9ab4-1ebbe08f7dad ]] \r\n",
       "}\r\n",
       "rec def \"I\" as E9  <<(T,blue)interface def>> [[psysml:0fcf03a3-0a94-497d-adc5-5270b49e59d7 ]] {\r\n",
       "portin \"p1: P\" as E10  <<(T,blue)port>> [[psysml:e29a1f34-1b36-49a6-a497-c0e94a31f076 ]] \r\n",
       "portin \"p2: ~P\" as E11  <<(T,blue)port>> [[psysml:b6345cdf-3536-4afa-a6d8-3c5d2219e138 ]] \r\n",
       "}\r\n",
       "rec def \"B1\" as E12  <<(T,blue)part def>> [[psysml:fa47a610-a800-429f-b665-228f1e266500 ]] {\r\n",
       "rec usage \"p\" as E13  [[psysml:593a6524-9b3f-4082-a23e-8ed96ff9a715 ]] {\r\n",
       "portin \"p1: P\" as E14  <<(T,blue)port>> [[psysml:a4f040c8-38a0-4d60-9c1e-4003131a919c ]] \r\n",
       "portin \"p2: ~P\" as E15  <<(T,blue)port>> [[psysml:661396c6-733f-4c07-bbb8-142725b64304 ]] \r\n",
       "}\r\n",
       "}\r\n",
       "E15 -[thickness=3]- E14 [[psysml:aa2d6f76-4132-425f-9826-f18a4b0e5493 ]] \r\n",
       "E15 -[thickness=3]- E14 [[psysml:7b87a1ef-cf2b-4c9e-a130-c1b402d1e385 ]] \r\n",
       "}\r\n",
       "@enduml\r\n",
       "\n",
       "PlantUML version 1.2020.13(Sat Jun 13 12:26:38 UTC 2020)\n",
       "(EPL source distribution)\n",
       "Java Runtime: OpenJDK Runtime Environment\n",
       "JVM: OpenJDK 64-Bit Server VM\n",
       "Default Encoding: UTF-8\n",
       "Language: en\n",
       "Country: null\n",
       "--></g></svg>"
      ]
     },
     "execution_count": 47,
     "metadata": {},
     "output_type": "execute_result"
    }
   ],
   "source": [
    "%viz --style=\"TB\" --view=\"Interconnection\" \"ConjugationTest\""
   ]
  },
  {
   "cell_type": "code",
   "execution_count": 48,
   "id": "later-characteristic",
   "metadata": {
    "execution": {
     "iopub.execute_input": "2021-03-25T13:19:01.892442Z",
     "iopub.status.busy": "2021-03-25T13:19:01.891952Z",
     "iopub.status.idle": "2021-03-25T13:19:01.899898Z",
     "shell.execute_reply": "2021-03-25T13:19:01.899510Z"
    }
   },
   "outputs": [
    {
     "data": {
      "image/svg+xml": [
       "<?xml version=\"1.0\" encoding=\"UTF-8\" standalone=\"no\"?><svg xmlns=\"http://www.w3.org/2000/svg\" xmlns:xlink=\"http://www.w3.org/1999/xlink\" contentScriptType=\"application/ecmascript\" contentStyleType=\"text/css\" height=\"12px\" preserveAspectRatio=\"none\" style=\"width:12px;height:12px;\" version=\"1.1\" viewBox=\"0 0 12 12\" width=\"12px\" zoomAndPan=\"magnify\"><defs/><g><!--MD5=[06afc254b03ac5e9d9fb7773b07d0800]\n",
       "@startuml\r\n",
       "skinparam ranksep 8\r\n",
       "top to bottom direction\r\n",
       "skinparam monochrome true\r\n",
       "skinparam classbackgroundcolor white\r\n",
       "skinparam shadowing false\r\n",
       "skinparam wrapWidth 300\r\n",
       "hide circle\r\n",
       "\r\n",
       "@enduml\r\n",
       "\n",
       "PlantUML version 1.2020.13(Sat Jun 13 12:26:38 UTC 2020)\n",
       "(EPL source distribution)\n",
       "Java Runtime: OpenJDK Runtime Environment\n",
       "JVM: OpenJDK 64-Bit Server VM\n",
       "Default Encoding: UTF-8\n",
       "Language: en\n",
       "Country: null\n",
       "--></g></svg>"
      ]
     },
     "execution_count": 48,
     "metadata": {},
     "output_type": "execute_result"
    }
   ],
   "source": [
    "%viz --style=\"TB\" --view=\"Action\" \"ConjugationTest\""
   ]
  },
  {
   "cell_type": "code",
   "execution_count": 49,
   "id": "front-transportation",
   "metadata": {
    "execution": {
     "iopub.execute_input": "2021-03-25T13:19:01.950895Z",
     "iopub.status.busy": "2021-03-25T13:19:01.950203Z",
     "iopub.status.idle": "2021-03-25T13:19:02.652163Z",
     "shell.execute_reply": "2021-03-25T13:19:02.650876Z"
    }
   },
   "outputs": [
    {
     "data": {
      "image/svg+xml": [
       "<?xml version=\"1.0\" encoding=\"UTF-8\" standalone=\"no\"?><svg xmlns=\"http://www.w3.org/2000/svg\" xmlns:xlink=\"http://www.w3.org/1999/xlink\" contentScriptType=\"application/ecmascript\" contentStyleType=\"text/css\" height=\"305px\" preserveAspectRatio=\"none\" style=\"width:614px;height:305px;\" version=\"1.1\" viewBox=\"0 0 614 305\" width=\"614px\" zoomAndPan=\"magnify\"><defs/><g><!--MD5=[fbc87193dbaf4d95561dea2c320d4a47]\n",
       "cluster E1--><a href=\"psysml:db7199af-e574-4214-8b26-5aef0dbbdb0a\" target=\"_top\" title=\"psysml:db7199af-e574-4214-8b26-5aef0dbbdb0a\" xlink:actuate=\"onRequest\" xlink:href=\"psysml:db7199af-e574-4214-8b26-5aef0dbbdb0a\" xlink:show=\"new\" xlink:title=\"psysml:db7199af-e574-4214-8b26-5aef0dbbdb0a\" xlink:type=\"simple\"><polygon fill=\"#FFFFFF\" points=\"16,6,151,6,158,28.2969,592,28.2969,592,293,16,293,16,6\" style=\"stroke: #000000; stroke-width: 1.5;\"/><line style=\"stroke: #000000; stroke-width: 1.5;\" x1=\"16\" x2=\"158\" y1=\"28.2969\" y2=\"28.2969\"/><text fill=\"#000000\" font-family=\"sans-serif\" font-size=\"14\" font-weight=\"bold\" lengthAdjust=\"spacingAndGlyphs\" textLength=\"129\" x=\"20\" y=\"20.9951\">ConjugationTest</text></a><!--MD5=[b4997ac47864f28c2f74865a473b2911]\n",
       "class E2--><a href=\"psysml:eee324b7-6ef1-4f74-bb85-9d01b884a0c3\" target=\"_top\" title=\"psysml:eee324b7-6ef1-4f74-bb85-9d01b884a0c3\" xlink:actuate=\"onRequest\" xlink:href=\"psysml:eee324b7-6ef1-4f74-bb85-9d01b884a0c3\" xlink:show=\"new\" xlink:title=\"psysml:eee324b7-6ef1-4f74-bb85-9d01b884a0c3\" xlink:type=\"simple\"><rect fill=\"#FFFFFF\" height=\"45.9375\" id=\"E2\" style=\"stroke: #383838; stroke-width: 1.5;\" width=\"66\" x=\"510\" y=\"62\"/><text fill=\"#000000\" font-family=\"sans-serif\" font-size=\"12\" font-style=\"italic\" lengthAdjust=\"spacingAndGlyphs\" textLength=\"64\" x=\"511\" y=\"78.1387\">«port def»</text><text fill=\"#000000\" font-family=\"sans-serif\" font-size=\"12\" lengthAdjust=\"spacingAndGlyphs\" textLength=\"8\" x=\"539\" y=\"92.1074\">P</text><line style=\"stroke: #383838; stroke-width: 1.5;\" x1=\"511\" x2=\"575\" y1=\"99.9375\" y2=\"99.9375\"/></a><!--MD5=[09b614a08d8cba4a07c9adeb5e0fee81]\n",
       "class E3--><a href=\"psysml:987ad9e8-156c-405b-94a5-0234bd5ef961\" target=\"_top\" title=\"psysml:987ad9e8-156c-405b-94a5-0234bd5ef961\" xlink:actuate=\"onRequest\" xlink:href=\"psysml:987ad9e8-156c-405b-94a5-0234bd5ef961\" xlink:show=\"new\" xlink:title=\"psysml:987ad9e8-156c-405b-94a5-0234bd5ef961\" xlink:type=\"simple\"><rect fill=\"#FFFFFF\" height=\"88.3516\" id=\"E3\" style=\"stroke: #383838; stroke-width: 1.5;\" width=\"66\" x=\"409\" y=\"41\"/><text fill=\"#000000\" font-family=\"sans-serif\" font-size=\"12\" font-style=\"italic\" lengthAdjust=\"spacingAndGlyphs\" textLength=\"64\" x=\"410\" y=\"57.1387\">«part def»</text><text fill=\"#000000\" font-family=\"sans-serif\" font-size=\"12\" lengthAdjust=\"spacingAndGlyphs\" textLength=\"8\" x=\"438\" y=\"71.1074\">B</text><line style=\"stroke: #383838; stroke-width: 1.5;\" x1=\"410\" x2=\"474\" y1=\"78.9375\" y2=\"78.9375\"/><text fill=\"#000000\" font-family=\"sans-serif\" font-size=\"11\" lengthAdjust=\"spacingAndGlyphs\" textLength=\"29\" x=\"415\" y=\"109.9526\">p1: P</text><text fill=\"#000000\" font-family=\"sans-serif\" font-size=\"11\" lengthAdjust=\"spacingAndGlyphs\" textLength=\"38\" x=\"415\" y=\"122.7573\">p2: ~P</text><line style=\"stroke: #383838; stroke-width: 1.0;\" x1=\"410\" x2=\"427\" y1=\"93.3398\" y2=\"93.3398\"/><text fill=\"#000000\" font-family=\"sans-serif\" font-size=\"11\" lengthAdjust=\"spacingAndGlyphs\" textLength=\"30\" x=\"427\" y=\"96.6479\">ports</text><line style=\"stroke: #383838; stroke-width: 1.0;\" x1=\"457\" x2=\"474\" y1=\"93.3398\" y2=\"93.3398\"/></a><!--MD5=[60a26617385b1d2d0262a64233df1f8d]\n",
       "class E6--><a href=\"psysml:d4b825d6-e011-4f07-a399-999db6b99ea3\" target=\"_top\" title=\"psysml:d4b825d6-e011-4f07-a399-999db6b99ea3\" xlink:actuate=\"onRequest\" xlink:href=\"psysml:d4b825d6-e011-4f07-a399-999db6b99ea3\" xlink:show=\"new\" xlink:title=\"psysml:d4b825d6-e011-4f07-a399-999db6b99ea3\" xlink:type=\"simple\"><rect fill=\"#FFFFFF\" height=\"88.3516\" id=\"E6\" style=\"stroke: #383838; stroke-width: 1.5;\" width=\"110\" x=\"264\" y=\"41\"/><text fill=\"#000000\" font-family=\"sans-serif\" font-size=\"12\" font-style=\"italic\" lengthAdjust=\"spacingAndGlyphs\" textLength=\"108\" x=\"265\" y=\"57.1387\">«connection def»</text><text fill=\"#000000\" font-family=\"sans-serif\" font-size=\"12\" lengthAdjust=\"spacingAndGlyphs\" textLength=\"8\" x=\"315\" y=\"71.1074\">A</text><line style=\"stroke: #383838; stroke-width: 1.5;\" x1=\"265\" x2=\"373\" y1=\"78.9375\" y2=\"78.9375\"/><text fill=\"#000000\" font-family=\"sans-serif\" font-size=\"11\" lengthAdjust=\"spacingAndGlyphs\" textLength=\"29\" x=\"270\" y=\"109.9526\">p1: P</text><text fill=\"#000000\" font-family=\"sans-serif\" font-size=\"11\" lengthAdjust=\"spacingAndGlyphs\" textLength=\"38\" x=\"270\" y=\"122.7573\">p2: ~P</text><line style=\"stroke: #383838; stroke-width: 1.0;\" x1=\"265\" x2=\"304\" y1=\"93.3398\" y2=\"93.3398\"/><text fill=\"#000000\" font-family=\"sans-serif\" font-size=\"11\" lengthAdjust=\"spacingAndGlyphs\" textLength=\"30\" x=\"304\" y=\"96.6479\">ports</text><line style=\"stroke: #383838; stroke-width: 1.0;\" x1=\"334\" x2=\"373\" y1=\"93.3398\" y2=\"93.3398\"/></a><!--MD5=[fd4143e9d270a159db93a4ea2a975926]\n",
       "class E9--><a href=\"psysml:0fcf03a3-0a94-497d-adc5-5270b49e59d7\" target=\"_top\" title=\"psysml:0fcf03a3-0a94-497d-adc5-5270b49e59d7\" xlink:actuate=\"onRequest\" xlink:href=\"psysml:0fcf03a3-0a94-497d-adc5-5270b49e59d7\" xlink:show=\"new\" xlink:title=\"psysml:0fcf03a3-0a94-497d-adc5-5270b49e59d7\" xlink:type=\"simple\"><rect fill=\"#FFFFFF\" height=\"88.3516\" id=\"E9\" style=\"stroke: #383838; stroke-width: 1.5;\" width=\"96\" x=\"133\" y=\"41\"/><text fill=\"#000000\" font-family=\"sans-serif\" font-size=\"12\" font-style=\"italic\" lengthAdjust=\"spacingAndGlyphs\" textLength=\"94\" x=\"134\" y=\"57.1387\">«interface def»</text><text fill=\"#000000\" font-family=\"sans-serif\" font-size=\"12\" lengthAdjust=\"spacingAndGlyphs\" textLength=\"3\" x=\"179.5\" y=\"71.1074\">I</text><line style=\"stroke: #383838; stroke-width: 1.5;\" x1=\"134\" x2=\"228\" y1=\"78.9375\" y2=\"78.9375\"/><text fill=\"#000000\" font-family=\"sans-serif\" font-size=\"11\" lengthAdjust=\"spacingAndGlyphs\" textLength=\"29\" x=\"139\" y=\"109.9526\">p1: P</text><text fill=\"#000000\" font-family=\"sans-serif\" font-size=\"11\" lengthAdjust=\"spacingAndGlyphs\" textLength=\"38\" x=\"139\" y=\"122.7573\">p2: ~P</text><line style=\"stroke: #383838; stroke-width: 1.0;\" x1=\"134\" x2=\"166\" y1=\"93.3398\" y2=\"93.3398\"/><text fill=\"#000000\" font-family=\"sans-serif\" font-size=\"11\" lengthAdjust=\"spacingAndGlyphs\" textLength=\"30\" x=\"166\" y=\"96.6479\">ports</text><line style=\"stroke: #383838; stroke-width: 1.0;\" x1=\"196\" x2=\"228\" y1=\"93.3398\" y2=\"93.3398\"/></a><!--MD5=[49a0ec8f00dab7302a31f22d0f0fe584]\n",
       "class E12--><a href=\"psysml:fa47a610-a800-429f-b665-228f1e266500\" target=\"_top\" title=\"psysml:fa47a610-a800-429f-b665-228f1e266500\" xlink:actuate=\"onRequest\" xlink:href=\"psysml:fa47a610-a800-429f-b665-228f1e266500\" xlink:show=\"new\" xlink:title=\"psysml:fa47a610-a800-429f-b665-228f1e266500\" xlink:type=\"simple\"><rect fill=\"#FFFFFF\" height=\"45.9375\" id=\"E12\" style=\"stroke: #383838; stroke-width: 1.5;\" width=\"66\" x=\"32\" y=\"62\"/><text fill=\"#000000\" font-family=\"sans-serif\" font-size=\"12\" font-style=\"italic\" lengthAdjust=\"spacingAndGlyphs\" textLength=\"64\" x=\"33\" y=\"78.1387\">«part def»</text><text fill=\"#000000\" font-family=\"sans-serif\" font-size=\"12\" lengthAdjust=\"spacingAndGlyphs\" textLength=\"16\" x=\"57\" y=\"92.1074\">B1</text><line style=\"stroke: #383838; stroke-width: 1.5;\" x1=\"33\" x2=\"97\" y1=\"99.9375\" y2=\"99.9375\"/></a><!--MD5=[ee3c913d1a06f366521f9ef512b67efe]\n",
       "class E13--><a href=\"psysml:593a6524-9b3f-4082-a23e-8ed96ff9a715\" target=\"_top\" title=\"psysml:593a6524-9b3f-4082-a23e-8ed96ff9a715\" xlink:actuate=\"onRequest\" xlink:href=\"psysml:593a6524-9b3f-4082-a23e-8ed96ff9a715\" xlink:show=\"new\" xlink:title=\"psysml:593a6524-9b3f-4082-a23e-8ed96ff9a715\" xlink:type=\"simple\"><rect fill=\"#FFFFFF\" height=\"88.3516\" id=\"E13\" rx=\"10\" ry=\"10\" style=\"stroke: #383838; stroke-width: 1.5;\" width=\"50\" x=\"40\" y=\"189\"/><text fill=\"#000000\" font-family=\"sans-serif\" font-size=\"12\" font-style=\"italic\" lengthAdjust=\"spacingAndGlyphs\" textLength=\"40\" x=\"45\" y=\"205.1387\">«part»</text><text fill=\"#000000\" font-family=\"sans-serif\" font-size=\"12\" lengthAdjust=\"spacingAndGlyphs\" textLength=\"8\" x=\"61\" y=\"219.1074\">p</text><line style=\"stroke: #383838; stroke-width: 1.5;\" x1=\"41\" x2=\"89\" y1=\"226.9375\" y2=\"226.9375\"/><text fill=\"#000000\" font-family=\"sans-serif\" font-size=\"11\" lengthAdjust=\"spacingAndGlyphs\" textLength=\"29\" x=\"46\" y=\"257.9526\">p1: P</text><text fill=\"#000000\" font-family=\"sans-serif\" font-size=\"11\" lengthAdjust=\"spacingAndGlyphs\" textLength=\"38\" x=\"46\" y=\"270.7573\">p2: ~P</text><line style=\"stroke: #383838; stroke-width: 1.0;\" x1=\"41\" x2=\"50\" y1=\"241.3398\" y2=\"241.3398\"/><text fill=\"#000000\" font-family=\"sans-serif\" font-size=\"11\" lengthAdjust=\"spacingAndGlyphs\" textLength=\"30\" x=\"50\" y=\"244.6479\">ports</text><line style=\"stroke: #383838; stroke-width: 1.0;\" x1=\"80\" x2=\"89\" y1=\"241.3398\" y2=\"241.3398\"/></a><!--MD5=[062ed86c389d1a88f61c6380d0491e17]\n",
       "reverse link E12 to E13--><a href=\"psysml:593a6524-9b3f-4082-a23e-8ed96ff9a715\" target=\"_top\" title=\"psysml:593a6524-9b3f-4082-a23e-8ed96ff9a715\" xlink:actuate=\"onRequest\" xlink:href=\"psysml:593a6524-9b3f-4082-a23e-8ed96ff9a715\" xlink:show=\"new\" xlink:title=\"psysml:593a6524-9b3f-4082-a23e-8ed96ff9a715\" xlink:type=\"simple\"><path d=\"M65,121.25 C65,141.54 65,167.2 65,188.71 \" fill=\"none\" id=\"E12&lt;-E13\" style=\"stroke: #383838; stroke-width: 1.0;\"/><polygon fill=\"#383838\" points=\"65,108.17,61,114.17,65,120.17,69,114.17,65,108.17\" style=\"stroke: #383838; stroke-width: 1.0;\"/></a><!--MD5=[087e9f265fcbf9e6cf479a5b49353eca]\n",
       "@startuml\r\n",
       "top to bottom direction\r\n",
       "skinparam monochrome true\r\n",
       "skinparam classbackgroundcolor white\r\n",
       "skinparam shadowing false\r\n",
       "skinparam wrapWidth 300\r\n",
       "hide circle\r\n",
       "\r\n",
       "package \"ConjugationTest\" as E1  [[psysml:db7199af-e574-4214-8b26-5aef0dbbdb0a ]]  {\r\n",
       "comp def \"P\" as E2  <<(T,blue)port def>> [[psysml:eee324b7-6ef1-4f74-bb85-9d01b884a0c3 ]] {\r\n",
       "}\r\n",
       "comp def \"B\" as E3  <<(T,blue)part def>> [[psysml:987ad9e8-156c-405b-94a5-0234bd5ef961 ]] {\r\n",
       "- - ports - -\r\n",
       "p1: P\r\n",
       "p2: ~P\r\n",
       "}\r\n",
       "comp def \"A\" as E6  <<(T,blue)connection def>> [[psysml:d4b825d6-e011-4f07-a399-999db6b99ea3 ]] {\r\n",
       "- - ports - -\r\n",
       "p1: P\r\n",
       "p2: ~P\r\n",
       "}\r\n",
       "comp def \"I\" as E9  <<(T,blue)interface def>> [[psysml:0fcf03a3-0a94-497d-adc5-5270b49e59d7 ]] {\r\n",
       "- - ports - -\r\n",
       "p1: P\r\n",
       "p2: ~P\r\n",
       "}\r\n",
       "comp def \"B1\" as E12  <<(T,blue)part def>> [[psysml:fa47a610-a800-429f-b665-228f1e266500 ]] {\r\n",
       "}\r\n",
       "comp usage \"p\" as E13  <<(T,blue)part>> [[psysml:593a6524-9b3f-4082-a23e-8ed96ff9a715 ]] {\r\n",
       "- - ports - -\r\n",
       "p1: P\r\n",
       "p2: ~P\r\n",
       "}\r\n",
       "E12 *- - E13 [[psysml:593a6524-9b3f-4082-a23e-8ed96ff9a715 ]] \r\n",
       "}\r\n",
       "@enduml\r\n",
       "\n",
       "PlantUML version 1.2020.13(Sat Jun 13 12:26:38 UTC 2020)\n",
       "(EPL source distribution)\n",
       "Java Runtime: OpenJDK Runtime Environment\n",
       "JVM: OpenJDK 64-Bit Server VM\n",
       "Default Encoding: UTF-8\n",
       "Language: en\n",
       "Country: null\n",
       "--></g></svg>"
      ]
     },
     "execution_count": 49,
     "metadata": {},
     "output_type": "execute_result"
    }
   ],
   "source": [
    "%viz --style=\"TB\" --view=\"Sequence\" \"ConjugationTest\""
   ]
  },
  {
   "cell_type": "code",
   "execution_count": 50,
   "id": "protective-catch",
   "metadata": {
    "execution": {
     "iopub.execute_input": "2021-03-25T13:19:02.701886Z",
     "iopub.status.busy": "2021-03-25T13:19:02.701487Z",
     "iopub.status.idle": "2021-03-25T13:19:03.362412Z",
     "shell.execute_reply": "2021-03-25T13:19:03.362057Z"
    }
   },
   "outputs": [
    {
     "data": {
      "image/svg+xml": [
       "<?xml version=\"1.0\" encoding=\"UTF-8\" standalone=\"no\"?><svg xmlns=\"http://www.w3.org/2000/svg\" xmlns:xlink=\"http://www.w3.org/1999/xlink\" contentScriptType=\"application/ecmascript\" contentStyleType=\"text/css\" height=\"305px\" preserveAspectRatio=\"none\" style=\"width:614px;height:305px;\" version=\"1.1\" viewBox=\"0 0 614 305\" width=\"614px\" zoomAndPan=\"magnify\"><defs/><g><!--MD5=[fbc87193dbaf4d95561dea2c320d4a47]\n",
       "cluster E1--><a href=\"psysml:db7199af-e574-4214-8b26-5aef0dbbdb0a\" target=\"_top\" title=\"psysml:db7199af-e574-4214-8b26-5aef0dbbdb0a\" xlink:actuate=\"onRequest\" xlink:href=\"psysml:db7199af-e574-4214-8b26-5aef0dbbdb0a\" xlink:show=\"new\" xlink:title=\"psysml:db7199af-e574-4214-8b26-5aef0dbbdb0a\" xlink:type=\"simple\"><polygon fill=\"#FFFFFF\" points=\"16,6,151,6,158,28.2969,592,28.2969,592,293,16,293,16,6\" style=\"stroke: #000000; stroke-width: 1.5;\"/><line style=\"stroke: #000000; stroke-width: 1.5;\" x1=\"16\" x2=\"158\" y1=\"28.2969\" y2=\"28.2969\"/><text fill=\"#000000\" font-family=\"sans-serif\" font-size=\"14\" font-weight=\"bold\" lengthAdjust=\"spacingAndGlyphs\" textLength=\"129\" x=\"20\" y=\"20.9951\">ConjugationTest</text></a><!--MD5=[b4997ac47864f28c2f74865a473b2911]\n",
       "class E2--><a href=\"psysml:eee324b7-6ef1-4f74-bb85-9d01b884a0c3\" target=\"_top\" title=\"psysml:eee324b7-6ef1-4f74-bb85-9d01b884a0c3\" xlink:actuate=\"onRequest\" xlink:href=\"psysml:eee324b7-6ef1-4f74-bb85-9d01b884a0c3\" xlink:show=\"new\" xlink:title=\"psysml:eee324b7-6ef1-4f74-bb85-9d01b884a0c3\" xlink:type=\"simple\"><rect fill=\"#FFFFFF\" height=\"45.9375\" id=\"E2\" style=\"stroke: #383838; stroke-width: 1.5;\" width=\"66\" x=\"510\" y=\"62\"/><text fill=\"#000000\" font-family=\"sans-serif\" font-size=\"12\" font-style=\"italic\" lengthAdjust=\"spacingAndGlyphs\" textLength=\"64\" x=\"511\" y=\"78.1387\">«port def»</text><text fill=\"#000000\" font-family=\"sans-serif\" font-size=\"12\" lengthAdjust=\"spacingAndGlyphs\" textLength=\"8\" x=\"539\" y=\"92.1074\">P</text><line style=\"stroke: #383838; stroke-width: 1.5;\" x1=\"511\" x2=\"575\" y1=\"99.9375\" y2=\"99.9375\"/></a><!--MD5=[09b614a08d8cba4a07c9adeb5e0fee81]\n",
       "class E3--><a href=\"psysml:987ad9e8-156c-405b-94a5-0234bd5ef961\" target=\"_top\" title=\"psysml:987ad9e8-156c-405b-94a5-0234bd5ef961\" xlink:actuate=\"onRequest\" xlink:href=\"psysml:987ad9e8-156c-405b-94a5-0234bd5ef961\" xlink:show=\"new\" xlink:title=\"psysml:987ad9e8-156c-405b-94a5-0234bd5ef961\" xlink:type=\"simple\"><rect fill=\"#FFFFFF\" height=\"88.3516\" id=\"E3\" style=\"stroke: #383838; stroke-width: 1.5;\" width=\"66\" x=\"409\" y=\"41\"/><text fill=\"#000000\" font-family=\"sans-serif\" font-size=\"12\" font-style=\"italic\" lengthAdjust=\"spacingAndGlyphs\" textLength=\"64\" x=\"410\" y=\"57.1387\">«part def»</text><text fill=\"#000000\" font-family=\"sans-serif\" font-size=\"12\" lengthAdjust=\"spacingAndGlyphs\" textLength=\"8\" x=\"438\" y=\"71.1074\">B</text><line style=\"stroke: #383838; stroke-width: 1.5;\" x1=\"410\" x2=\"474\" y1=\"78.9375\" y2=\"78.9375\"/><text fill=\"#000000\" font-family=\"sans-serif\" font-size=\"11\" lengthAdjust=\"spacingAndGlyphs\" textLength=\"29\" x=\"415\" y=\"109.9526\">p1: P</text><text fill=\"#000000\" font-family=\"sans-serif\" font-size=\"11\" lengthAdjust=\"spacingAndGlyphs\" textLength=\"38\" x=\"415\" y=\"122.7573\">p2: ~P</text><line style=\"stroke: #383838; stroke-width: 1.0;\" x1=\"410\" x2=\"427\" y1=\"93.3398\" y2=\"93.3398\"/><text fill=\"#000000\" font-family=\"sans-serif\" font-size=\"11\" lengthAdjust=\"spacingAndGlyphs\" textLength=\"30\" x=\"427\" y=\"96.6479\">ports</text><line style=\"stroke: #383838; stroke-width: 1.0;\" x1=\"457\" x2=\"474\" y1=\"93.3398\" y2=\"93.3398\"/></a><!--MD5=[60a26617385b1d2d0262a64233df1f8d]\n",
       "class E6--><a href=\"psysml:d4b825d6-e011-4f07-a399-999db6b99ea3\" target=\"_top\" title=\"psysml:d4b825d6-e011-4f07-a399-999db6b99ea3\" xlink:actuate=\"onRequest\" xlink:href=\"psysml:d4b825d6-e011-4f07-a399-999db6b99ea3\" xlink:show=\"new\" xlink:title=\"psysml:d4b825d6-e011-4f07-a399-999db6b99ea3\" xlink:type=\"simple\"><rect fill=\"#FFFFFF\" height=\"88.3516\" id=\"E6\" style=\"stroke: #383838; stroke-width: 1.5;\" width=\"110\" x=\"264\" y=\"41\"/><text fill=\"#000000\" font-family=\"sans-serif\" font-size=\"12\" font-style=\"italic\" lengthAdjust=\"spacingAndGlyphs\" textLength=\"108\" x=\"265\" y=\"57.1387\">«connection def»</text><text fill=\"#000000\" font-family=\"sans-serif\" font-size=\"12\" lengthAdjust=\"spacingAndGlyphs\" textLength=\"8\" x=\"315\" y=\"71.1074\">A</text><line style=\"stroke: #383838; stroke-width: 1.5;\" x1=\"265\" x2=\"373\" y1=\"78.9375\" y2=\"78.9375\"/><text fill=\"#000000\" font-family=\"sans-serif\" font-size=\"11\" lengthAdjust=\"spacingAndGlyphs\" textLength=\"29\" x=\"270\" y=\"109.9526\">p1: P</text><text fill=\"#000000\" font-family=\"sans-serif\" font-size=\"11\" lengthAdjust=\"spacingAndGlyphs\" textLength=\"38\" x=\"270\" y=\"122.7573\">p2: ~P</text><line style=\"stroke: #383838; stroke-width: 1.0;\" x1=\"265\" x2=\"304\" y1=\"93.3398\" y2=\"93.3398\"/><text fill=\"#000000\" font-family=\"sans-serif\" font-size=\"11\" lengthAdjust=\"spacingAndGlyphs\" textLength=\"30\" x=\"304\" y=\"96.6479\">ports</text><line style=\"stroke: #383838; stroke-width: 1.0;\" x1=\"334\" x2=\"373\" y1=\"93.3398\" y2=\"93.3398\"/></a><!--MD5=[fd4143e9d270a159db93a4ea2a975926]\n",
       "class E9--><a href=\"psysml:0fcf03a3-0a94-497d-adc5-5270b49e59d7\" target=\"_top\" title=\"psysml:0fcf03a3-0a94-497d-adc5-5270b49e59d7\" xlink:actuate=\"onRequest\" xlink:href=\"psysml:0fcf03a3-0a94-497d-adc5-5270b49e59d7\" xlink:show=\"new\" xlink:title=\"psysml:0fcf03a3-0a94-497d-adc5-5270b49e59d7\" xlink:type=\"simple\"><rect fill=\"#FFFFFF\" height=\"88.3516\" id=\"E9\" style=\"stroke: #383838; stroke-width: 1.5;\" width=\"96\" x=\"133\" y=\"41\"/><text fill=\"#000000\" font-family=\"sans-serif\" font-size=\"12\" font-style=\"italic\" lengthAdjust=\"spacingAndGlyphs\" textLength=\"94\" x=\"134\" y=\"57.1387\">«interface def»</text><text fill=\"#000000\" font-family=\"sans-serif\" font-size=\"12\" lengthAdjust=\"spacingAndGlyphs\" textLength=\"3\" x=\"179.5\" y=\"71.1074\">I</text><line style=\"stroke: #383838; stroke-width: 1.5;\" x1=\"134\" x2=\"228\" y1=\"78.9375\" y2=\"78.9375\"/><text fill=\"#000000\" font-family=\"sans-serif\" font-size=\"11\" lengthAdjust=\"spacingAndGlyphs\" textLength=\"29\" x=\"139\" y=\"109.9526\">p1: P</text><text fill=\"#000000\" font-family=\"sans-serif\" font-size=\"11\" lengthAdjust=\"spacingAndGlyphs\" textLength=\"38\" x=\"139\" y=\"122.7573\">p2: ~P</text><line style=\"stroke: #383838; stroke-width: 1.0;\" x1=\"134\" x2=\"166\" y1=\"93.3398\" y2=\"93.3398\"/><text fill=\"#000000\" font-family=\"sans-serif\" font-size=\"11\" lengthAdjust=\"spacingAndGlyphs\" textLength=\"30\" x=\"166\" y=\"96.6479\">ports</text><line style=\"stroke: #383838; stroke-width: 1.0;\" x1=\"196\" x2=\"228\" y1=\"93.3398\" y2=\"93.3398\"/></a><!--MD5=[49a0ec8f00dab7302a31f22d0f0fe584]\n",
       "class E12--><a href=\"psysml:fa47a610-a800-429f-b665-228f1e266500\" target=\"_top\" title=\"psysml:fa47a610-a800-429f-b665-228f1e266500\" xlink:actuate=\"onRequest\" xlink:href=\"psysml:fa47a610-a800-429f-b665-228f1e266500\" xlink:show=\"new\" xlink:title=\"psysml:fa47a610-a800-429f-b665-228f1e266500\" xlink:type=\"simple\"><rect fill=\"#FFFFFF\" height=\"45.9375\" id=\"E12\" style=\"stroke: #383838; stroke-width: 1.5;\" width=\"66\" x=\"32\" y=\"62\"/><text fill=\"#000000\" font-family=\"sans-serif\" font-size=\"12\" font-style=\"italic\" lengthAdjust=\"spacingAndGlyphs\" textLength=\"64\" x=\"33\" y=\"78.1387\">«part def»</text><text fill=\"#000000\" font-family=\"sans-serif\" font-size=\"12\" lengthAdjust=\"spacingAndGlyphs\" textLength=\"16\" x=\"57\" y=\"92.1074\">B1</text><line style=\"stroke: #383838; stroke-width: 1.5;\" x1=\"33\" x2=\"97\" y1=\"99.9375\" y2=\"99.9375\"/></a><!--MD5=[ee3c913d1a06f366521f9ef512b67efe]\n",
       "class E13--><a href=\"psysml:593a6524-9b3f-4082-a23e-8ed96ff9a715\" target=\"_top\" title=\"psysml:593a6524-9b3f-4082-a23e-8ed96ff9a715\" xlink:actuate=\"onRequest\" xlink:href=\"psysml:593a6524-9b3f-4082-a23e-8ed96ff9a715\" xlink:show=\"new\" xlink:title=\"psysml:593a6524-9b3f-4082-a23e-8ed96ff9a715\" xlink:type=\"simple\"><rect fill=\"#FFFFFF\" height=\"88.3516\" id=\"E13\" rx=\"10\" ry=\"10\" style=\"stroke: #383838; stroke-width: 1.5;\" width=\"50\" x=\"40\" y=\"189\"/><text fill=\"#000000\" font-family=\"sans-serif\" font-size=\"12\" font-style=\"italic\" lengthAdjust=\"spacingAndGlyphs\" textLength=\"40\" x=\"45\" y=\"205.1387\">«part»</text><text fill=\"#000000\" font-family=\"sans-serif\" font-size=\"12\" lengthAdjust=\"spacingAndGlyphs\" textLength=\"8\" x=\"61\" y=\"219.1074\">p</text><line style=\"stroke: #383838; stroke-width: 1.5;\" x1=\"41\" x2=\"89\" y1=\"226.9375\" y2=\"226.9375\"/><text fill=\"#000000\" font-family=\"sans-serif\" font-size=\"11\" lengthAdjust=\"spacingAndGlyphs\" textLength=\"29\" x=\"46\" y=\"257.9526\">p1: P</text><text fill=\"#000000\" font-family=\"sans-serif\" font-size=\"11\" lengthAdjust=\"spacingAndGlyphs\" textLength=\"38\" x=\"46\" y=\"270.7573\">p2: ~P</text><line style=\"stroke: #383838; stroke-width: 1.0;\" x1=\"41\" x2=\"50\" y1=\"241.3398\" y2=\"241.3398\"/><text fill=\"#000000\" font-family=\"sans-serif\" font-size=\"11\" lengthAdjust=\"spacingAndGlyphs\" textLength=\"30\" x=\"50\" y=\"244.6479\">ports</text><line style=\"stroke: #383838; stroke-width: 1.0;\" x1=\"80\" x2=\"89\" y1=\"241.3398\" y2=\"241.3398\"/></a><!--MD5=[062ed86c389d1a88f61c6380d0491e17]\n",
       "reverse link E12 to E13--><a href=\"psysml:593a6524-9b3f-4082-a23e-8ed96ff9a715\" target=\"_top\" title=\"psysml:593a6524-9b3f-4082-a23e-8ed96ff9a715\" xlink:actuate=\"onRequest\" xlink:href=\"psysml:593a6524-9b3f-4082-a23e-8ed96ff9a715\" xlink:show=\"new\" xlink:title=\"psysml:593a6524-9b3f-4082-a23e-8ed96ff9a715\" xlink:type=\"simple\"><path d=\"M65,121.25 C65,141.54 65,167.2 65,188.71 \" fill=\"none\" id=\"E12&lt;-E13\" style=\"stroke: #383838; stroke-width: 1.0;\"/><polygon fill=\"#383838\" points=\"65,108.17,61,114.17,65,120.17,69,114.17,65,108.17\" style=\"stroke: #383838; stroke-width: 1.0;\"/></a><!--MD5=[087e9f265fcbf9e6cf479a5b49353eca]\n",
       "@startuml\r\n",
       "top to bottom direction\r\n",
       "skinparam monochrome true\r\n",
       "skinparam classbackgroundcolor white\r\n",
       "skinparam shadowing false\r\n",
       "skinparam wrapWidth 300\r\n",
       "hide circle\r\n",
       "\r\n",
       "package \"ConjugationTest\" as E1  [[psysml:db7199af-e574-4214-8b26-5aef0dbbdb0a ]]  {\r\n",
       "comp def \"P\" as E2  <<(T,blue)port def>> [[psysml:eee324b7-6ef1-4f74-bb85-9d01b884a0c3 ]] {\r\n",
       "}\r\n",
       "comp def \"B\" as E3  <<(T,blue)part def>> [[psysml:987ad9e8-156c-405b-94a5-0234bd5ef961 ]] {\r\n",
       "- - ports - -\r\n",
       "p1: P\r\n",
       "p2: ~P\r\n",
       "}\r\n",
       "comp def \"A\" as E6  <<(T,blue)connection def>> [[psysml:d4b825d6-e011-4f07-a399-999db6b99ea3 ]] {\r\n",
       "- - ports - -\r\n",
       "p1: P\r\n",
       "p2: ~P\r\n",
       "}\r\n",
       "comp def \"I\" as E9  <<(T,blue)interface def>> [[psysml:0fcf03a3-0a94-497d-adc5-5270b49e59d7 ]] {\r\n",
       "- - ports - -\r\n",
       "p1: P\r\n",
       "p2: ~P\r\n",
       "}\r\n",
       "comp def \"B1\" as E12  <<(T,blue)part def>> [[psysml:fa47a610-a800-429f-b665-228f1e266500 ]] {\r\n",
       "}\r\n",
       "comp usage \"p\" as E13  <<(T,blue)part>> [[psysml:593a6524-9b3f-4082-a23e-8ed96ff9a715 ]] {\r\n",
       "- - ports - -\r\n",
       "p1: P\r\n",
       "p2: ~P\r\n",
       "}\r\n",
       "E12 *- - E13 [[psysml:593a6524-9b3f-4082-a23e-8ed96ff9a715 ]] \r\n",
       "}\r\n",
       "@enduml\r\n",
       "\n",
       "PlantUML version 1.2020.13(Sat Jun 13 12:26:38 UTC 2020)\n",
       "(EPL source distribution)\n",
       "Java Runtime: OpenJDK Runtime Environment\n",
       "JVM: OpenJDK 64-Bit Server VM\n",
       "Default Encoding: UTF-8\n",
       "Language: en\n",
       "Country: null\n",
       "--></g></svg>"
      ]
     },
     "execution_count": 50,
     "metadata": {},
     "output_type": "execute_result"
    }
   ],
   "source": [
    "%viz --style=\"TB\" --view=\"MIXED\" \"ConjugationTest\""
   ]
  },
  {
   "cell_type": "code",
   "execution_count": 51,
   "id": "adequate-landing",
   "metadata": {
    "execution": {
     "iopub.execute_input": "2021-03-25T13:19:03.412771Z",
     "iopub.status.busy": "2021-03-25T13:19:03.412177Z",
     "iopub.status.idle": "2021-03-25T13:19:04.056567Z",
     "shell.execute_reply": "2021-03-25T13:19:04.054566Z"
    }
   },
   "outputs": [
    {
     "data": {
      "image/svg+xml": [
       "<?xml version=\"1.0\" encoding=\"UTF-8\" standalone=\"no\"?><svg xmlns=\"http://www.w3.org/2000/svg\" xmlns:xlink=\"http://www.w3.org/1999/xlink\" contentScriptType=\"application/ecmascript\" contentStyleType=\"text/css\" height=\"305px\" preserveAspectRatio=\"none\" style=\"width:614px;height:305px;\" version=\"1.1\" viewBox=\"0 0 614 305\" width=\"614px\" zoomAndPan=\"magnify\"><defs/><g><!--MD5=[fbc87193dbaf4d95561dea2c320d4a47]\n",
       "cluster E1--><a href=\"psysml:db7199af-e574-4214-8b26-5aef0dbbdb0a\" target=\"_top\" title=\"psysml:db7199af-e574-4214-8b26-5aef0dbbdb0a\" xlink:actuate=\"onRequest\" xlink:href=\"psysml:db7199af-e574-4214-8b26-5aef0dbbdb0a\" xlink:show=\"new\" xlink:title=\"psysml:db7199af-e574-4214-8b26-5aef0dbbdb0a\" xlink:type=\"simple\"><polygon fill=\"#FFFFFF\" points=\"16,6,151,6,158,28.2969,592,28.2969,592,293,16,293,16,6\" style=\"stroke: #000000; stroke-width: 1.5;\"/><line style=\"stroke: #000000; stroke-width: 1.5;\" x1=\"16\" x2=\"158\" y1=\"28.2969\" y2=\"28.2969\"/><text fill=\"#000000\" font-family=\"sans-serif\" font-size=\"14\" font-weight=\"bold\" lengthAdjust=\"spacingAndGlyphs\" textLength=\"129\" x=\"20\" y=\"20.9951\">ConjugationTest</text></a><!--MD5=[b4997ac47864f28c2f74865a473b2911]\n",
       "class E2--><a href=\"psysml:eee324b7-6ef1-4f74-bb85-9d01b884a0c3\" target=\"_top\" title=\"psysml:eee324b7-6ef1-4f74-bb85-9d01b884a0c3\" xlink:actuate=\"onRequest\" xlink:href=\"psysml:eee324b7-6ef1-4f74-bb85-9d01b884a0c3\" xlink:show=\"new\" xlink:title=\"psysml:eee324b7-6ef1-4f74-bb85-9d01b884a0c3\" xlink:type=\"simple\"><rect fill=\"#FFFFFF\" height=\"45.9375\" id=\"E2\" style=\"stroke: #383838; stroke-width: 1.5;\" width=\"66\" x=\"510\" y=\"62\"/><text fill=\"#000000\" font-family=\"sans-serif\" font-size=\"12\" font-style=\"italic\" lengthAdjust=\"spacingAndGlyphs\" textLength=\"64\" x=\"511\" y=\"78.1387\">«port def»</text><text fill=\"#000000\" font-family=\"sans-serif\" font-size=\"12\" lengthAdjust=\"spacingAndGlyphs\" textLength=\"8\" x=\"539\" y=\"92.1074\">P</text><line style=\"stroke: #383838; stroke-width: 1.5;\" x1=\"511\" x2=\"575\" y1=\"99.9375\" y2=\"99.9375\"/></a><!--MD5=[09b614a08d8cba4a07c9adeb5e0fee81]\n",
       "class E3--><a href=\"psysml:987ad9e8-156c-405b-94a5-0234bd5ef961\" target=\"_top\" title=\"psysml:987ad9e8-156c-405b-94a5-0234bd5ef961\" xlink:actuate=\"onRequest\" xlink:href=\"psysml:987ad9e8-156c-405b-94a5-0234bd5ef961\" xlink:show=\"new\" xlink:title=\"psysml:987ad9e8-156c-405b-94a5-0234bd5ef961\" xlink:type=\"simple\"><rect fill=\"#FFFFFF\" height=\"88.3516\" id=\"E3\" style=\"stroke: #383838; stroke-width: 1.5;\" width=\"66\" x=\"409\" y=\"41\"/><text fill=\"#000000\" font-family=\"sans-serif\" font-size=\"12\" font-style=\"italic\" lengthAdjust=\"spacingAndGlyphs\" textLength=\"64\" x=\"410\" y=\"57.1387\">«part def»</text><text fill=\"#000000\" font-family=\"sans-serif\" font-size=\"12\" lengthAdjust=\"spacingAndGlyphs\" textLength=\"8\" x=\"438\" y=\"71.1074\">B</text><line style=\"stroke: #383838; stroke-width: 1.5;\" x1=\"410\" x2=\"474\" y1=\"78.9375\" y2=\"78.9375\"/><text fill=\"#000000\" font-family=\"sans-serif\" font-size=\"11\" lengthAdjust=\"spacingAndGlyphs\" textLength=\"29\" x=\"415\" y=\"109.9526\">p1: P</text><text fill=\"#000000\" font-family=\"sans-serif\" font-size=\"11\" lengthAdjust=\"spacingAndGlyphs\" textLength=\"38\" x=\"415\" y=\"122.7573\">p2: ~P</text><line style=\"stroke: #383838; stroke-width: 1.0;\" x1=\"410\" x2=\"427\" y1=\"93.3398\" y2=\"93.3398\"/><text fill=\"#000000\" font-family=\"sans-serif\" font-size=\"11\" lengthAdjust=\"spacingAndGlyphs\" textLength=\"30\" x=\"427\" y=\"96.6479\">ports</text><line style=\"stroke: #383838; stroke-width: 1.0;\" x1=\"457\" x2=\"474\" y1=\"93.3398\" y2=\"93.3398\"/></a><!--MD5=[60a26617385b1d2d0262a64233df1f8d]\n",
       "class E6--><a href=\"psysml:d4b825d6-e011-4f07-a399-999db6b99ea3\" target=\"_top\" title=\"psysml:d4b825d6-e011-4f07-a399-999db6b99ea3\" xlink:actuate=\"onRequest\" xlink:href=\"psysml:d4b825d6-e011-4f07-a399-999db6b99ea3\" xlink:show=\"new\" xlink:title=\"psysml:d4b825d6-e011-4f07-a399-999db6b99ea3\" xlink:type=\"simple\"><rect fill=\"#FFFFFF\" height=\"88.3516\" id=\"E6\" style=\"stroke: #383838; stroke-width: 1.5;\" width=\"110\" x=\"264\" y=\"41\"/><text fill=\"#000000\" font-family=\"sans-serif\" font-size=\"12\" font-style=\"italic\" lengthAdjust=\"spacingAndGlyphs\" textLength=\"108\" x=\"265\" y=\"57.1387\">«connection def»</text><text fill=\"#000000\" font-family=\"sans-serif\" font-size=\"12\" lengthAdjust=\"spacingAndGlyphs\" textLength=\"8\" x=\"315\" y=\"71.1074\">A</text><line style=\"stroke: #383838; stroke-width: 1.5;\" x1=\"265\" x2=\"373\" y1=\"78.9375\" y2=\"78.9375\"/><text fill=\"#000000\" font-family=\"sans-serif\" font-size=\"11\" lengthAdjust=\"spacingAndGlyphs\" textLength=\"29\" x=\"270\" y=\"109.9526\">p1: P</text><text fill=\"#000000\" font-family=\"sans-serif\" font-size=\"11\" lengthAdjust=\"spacingAndGlyphs\" textLength=\"38\" x=\"270\" y=\"122.7573\">p2: ~P</text><line style=\"stroke: #383838; stroke-width: 1.0;\" x1=\"265\" x2=\"304\" y1=\"93.3398\" y2=\"93.3398\"/><text fill=\"#000000\" font-family=\"sans-serif\" font-size=\"11\" lengthAdjust=\"spacingAndGlyphs\" textLength=\"30\" x=\"304\" y=\"96.6479\">ports</text><line style=\"stroke: #383838; stroke-width: 1.0;\" x1=\"334\" x2=\"373\" y1=\"93.3398\" y2=\"93.3398\"/></a><!--MD5=[fd4143e9d270a159db93a4ea2a975926]\n",
       "class E9--><a href=\"psysml:0fcf03a3-0a94-497d-adc5-5270b49e59d7\" target=\"_top\" title=\"psysml:0fcf03a3-0a94-497d-adc5-5270b49e59d7\" xlink:actuate=\"onRequest\" xlink:href=\"psysml:0fcf03a3-0a94-497d-adc5-5270b49e59d7\" xlink:show=\"new\" xlink:title=\"psysml:0fcf03a3-0a94-497d-adc5-5270b49e59d7\" xlink:type=\"simple\"><rect fill=\"#FFFFFF\" height=\"88.3516\" id=\"E9\" style=\"stroke: #383838; stroke-width: 1.5;\" width=\"96\" x=\"133\" y=\"41\"/><text fill=\"#000000\" font-family=\"sans-serif\" font-size=\"12\" font-style=\"italic\" lengthAdjust=\"spacingAndGlyphs\" textLength=\"94\" x=\"134\" y=\"57.1387\">«interface def»</text><text fill=\"#000000\" font-family=\"sans-serif\" font-size=\"12\" lengthAdjust=\"spacingAndGlyphs\" textLength=\"3\" x=\"179.5\" y=\"71.1074\">I</text><line style=\"stroke: #383838; stroke-width: 1.5;\" x1=\"134\" x2=\"228\" y1=\"78.9375\" y2=\"78.9375\"/><text fill=\"#000000\" font-family=\"sans-serif\" font-size=\"11\" lengthAdjust=\"spacingAndGlyphs\" textLength=\"29\" x=\"139\" y=\"109.9526\">p1: P</text><text fill=\"#000000\" font-family=\"sans-serif\" font-size=\"11\" lengthAdjust=\"spacingAndGlyphs\" textLength=\"38\" x=\"139\" y=\"122.7573\">p2: ~P</text><line style=\"stroke: #383838; stroke-width: 1.0;\" x1=\"134\" x2=\"166\" y1=\"93.3398\" y2=\"93.3398\"/><text fill=\"#000000\" font-family=\"sans-serif\" font-size=\"11\" lengthAdjust=\"spacingAndGlyphs\" textLength=\"30\" x=\"166\" y=\"96.6479\">ports</text><line style=\"stroke: #383838; stroke-width: 1.0;\" x1=\"196\" x2=\"228\" y1=\"93.3398\" y2=\"93.3398\"/></a><!--MD5=[49a0ec8f00dab7302a31f22d0f0fe584]\n",
       "class E12--><a href=\"psysml:fa47a610-a800-429f-b665-228f1e266500\" target=\"_top\" title=\"psysml:fa47a610-a800-429f-b665-228f1e266500\" xlink:actuate=\"onRequest\" xlink:href=\"psysml:fa47a610-a800-429f-b665-228f1e266500\" xlink:show=\"new\" xlink:title=\"psysml:fa47a610-a800-429f-b665-228f1e266500\" xlink:type=\"simple\"><rect fill=\"#FFFFFF\" height=\"45.9375\" id=\"E12\" style=\"stroke: #383838; stroke-width: 1.5;\" width=\"66\" x=\"32\" y=\"62\"/><text fill=\"#000000\" font-family=\"sans-serif\" font-size=\"12\" font-style=\"italic\" lengthAdjust=\"spacingAndGlyphs\" textLength=\"64\" x=\"33\" y=\"78.1387\">«part def»</text><text fill=\"#000000\" font-family=\"sans-serif\" font-size=\"12\" lengthAdjust=\"spacingAndGlyphs\" textLength=\"16\" x=\"57\" y=\"92.1074\">B1</text><line style=\"stroke: #383838; stroke-width: 1.5;\" x1=\"33\" x2=\"97\" y1=\"99.9375\" y2=\"99.9375\"/></a><!--MD5=[ee3c913d1a06f366521f9ef512b67efe]\n",
       "class E13--><a href=\"psysml:593a6524-9b3f-4082-a23e-8ed96ff9a715\" target=\"_top\" title=\"psysml:593a6524-9b3f-4082-a23e-8ed96ff9a715\" xlink:actuate=\"onRequest\" xlink:href=\"psysml:593a6524-9b3f-4082-a23e-8ed96ff9a715\" xlink:show=\"new\" xlink:title=\"psysml:593a6524-9b3f-4082-a23e-8ed96ff9a715\" xlink:type=\"simple\"><rect fill=\"#FFFFFF\" height=\"88.3516\" id=\"E13\" rx=\"10\" ry=\"10\" style=\"stroke: #383838; stroke-width: 1.5;\" width=\"50\" x=\"40\" y=\"189\"/><text fill=\"#000000\" font-family=\"sans-serif\" font-size=\"12\" font-style=\"italic\" lengthAdjust=\"spacingAndGlyphs\" textLength=\"40\" x=\"45\" y=\"205.1387\">«part»</text><text fill=\"#000000\" font-family=\"sans-serif\" font-size=\"12\" lengthAdjust=\"spacingAndGlyphs\" textLength=\"8\" x=\"61\" y=\"219.1074\">p</text><line style=\"stroke: #383838; stroke-width: 1.5;\" x1=\"41\" x2=\"89\" y1=\"226.9375\" y2=\"226.9375\"/><text fill=\"#000000\" font-family=\"sans-serif\" font-size=\"11\" lengthAdjust=\"spacingAndGlyphs\" textLength=\"29\" x=\"46\" y=\"257.9526\">p1: P</text><text fill=\"#000000\" font-family=\"sans-serif\" font-size=\"11\" lengthAdjust=\"spacingAndGlyphs\" textLength=\"38\" x=\"46\" y=\"270.7573\">p2: ~P</text><line style=\"stroke: #383838; stroke-width: 1.0;\" x1=\"41\" x2=\"50\" y1=\"241.3398\" y2=\"241.3398\"/><text fill=\"#000000\" font-family=\"sans-serif\" font-size=\"11\" lengthAdjust=\"spacingAndGlyphs\" textLength=\"30\" x=\"50\" y=\"244.6479\">ports</text><line style=\"stroke: #383838; stroke-width: 1.0;\" x1=\"80\" x2=\"89\" y1=\"241.3398\" y2=\"241.3398\"/></a><!--MD5=[062ed86c389d1a88f61c6380d0491e17]\n",
       "reverse link E12 to E13--><a href=\"psysml:593a6524-9b3f-4082-a23e-8ed96ff9a715\" target=\"_top\" title=\"psysml:593a6524-9b3f-4082-a23e-8ed96ff9a715\" xlink:actuate=\"onRequest\" xlink:href=\"psysml:593a6524-9b3f-4082-a23e-8ed96ff9a715\" xlink:show=\"new\" xlink:title=\"psysml:593a6524-9b3f-4082-a23e-8ed96ff9a715\" xlink:type=\"simple\"><path d=\"M65,121.12 C65,121.12 65,188.9 65,188.9 \" fill=\"none\" id=\"E12&lt;-E13\" style=\"stroke: #383838; stroke-width: 1.0;\"/><polygon fill=\"#383838\" points=\"65,108.12,61.0066,114.1244,65.0132,120.12,69.0066,114.1156,65,108.12\" style=\"stroke: #383838; stroke-width: 1.0;\"/></a><!--MD5=[99945dfb91e662656d453981158e7902]\n",
       "@startuml\r\n",
       "skinparam linetype ortho\r\n",
       "skinparam monochrome true\r\n",
       "skinparam classbackgroundcolor white\r\n",
       "skinparam shadowing false\r\n",
       "skinparam wrapWidth 300\r\n",
       "hide circle\r\n",
       "\r\n",
       "package \"ConjugationTest\" as E1  [[psysml:db7199af-e574-4214-8b26-5aef0dbbdb0a ]]  {\r\n",
       "comp def \"P\" as E2  <<(T,blue)port def>> [[psysml:eee324b7-6ef1-4f74-bb85-9d01b884a0c3 ]] {\r\n",
       "}\r\n",
       "comp def \"B\" as E3  <<(T,blue)part def>> [[psysml:987ad9e8-156c-405b-94a5-0234bd5ef961 ]] {\r\n",
       "- - ports - -\r\n",
       "p1: P\r\n",
       "p2: ~P\r\n",
       "}\r\n",
       "comp def \"A\" as E6  <<(T,blue)connection def>> [[psysml:d4b825d6-e011-4f07-a399-999db6b99ea3 ]] {\r\n",
       "- - ports - -\r\n",
       "p1: P\r\n",
       "p2: ~P\r\n",
       "}\r\n",
       "comp def \"I\" as E9  <<(T,blue)interface def>> [[psysml:0fcf03a3-0a94-497d-adc5-5270b49e59d7 ]] {\r\n",
       "- - ports - -\r\n",
       "p1: P\r\n",
       "p2: ~P\r\n",
       "}\r\n",
       "comp def \"B1\" as E12  <<(T,blue)part def>> [[psysml:fa47a610-a800-429f-b665-228f1e266500 ]] {\r\n",
       "}\r\n",
       "comp usage \"p\" as E13  <<(T,blue)part>> [[psysml:593a6524-9b3f-4082-a23e-8ed96ff9a715 ]] {\r\n",
       "- - ports - -\r\n",
       "p1: P\r\n",
       "p2: ~P\r\n",
       "}\r\n",
       "E12 *- - E13 [[psysml:593a6524-9b3f-4082-a23e-8ed96ff9a715 ]] \r\n",
       "}\r\n",
       "@enduml\r\n",
       "\n",
       "PlantUML version 1.2020.13(Sat Jun 13 12:26:38 UTC 2020)\n",
       "(EPL source distribution)\n",
       "Java Runtime: OpenJDK Runtime Environment\n",
       "JVM: OpenJDK 64-Bit Server VM\n",
       "Default Encoding: UTF-8\n",
       "Language: en\n",
       "Country: null\n",
       "--></g></svg>"
      ]
     },
     "execution_count": 51,
     "metadata": {},
     "output_type": "execute_result"
    }
   ],
   "source": [
    "%viz --style=\"ORTHOLINE\" --view=\"Default\" \"ConjugationTest\""
   ]
  },
  {
   "cell_type": "code",
   "execution_count": 52,
   "id": "regional-stockholm",
   "metadata": {
    "execution": {
     "iopub.execute_input": "2021-03-25T13:19:04.106714Z",
     "iopub.status.busy": "2021-03-25T13:19:04.106024Z",
     "iopub.status.idle": "2021-03-25T13:19:04.859874Z",
     "shell.execute_reply": "2021-03-25T13:19:04.858309Z"
    }
   },
   "outputs": [
    {
     "data": {
      "image/svg+xml": [
       "<?xml version=\"1.0\" encoding=\"UTF-8\" standalone=\"no\"?><svg xmlns=\"http://www.w3.org/2000/svg\" xmlns:xlink=\"http://www.w3.org/1999/xlink\" contentScriptType=\"application/ecmascript\" contentStyleType=\"text/css\" height=\"305px\" preserveAspectRatio=\"none\" style=\"width:614px;height:305px;\" version=\"1.1\" viewBox=\"0 0 614 305\" width=\"614px\" zoomAndPan=\"magnify\"><defs/><g><!--MD5=[fbc87193dbaf4d95561dea2c320d4a47]\n",
       "cluster E1--><a href=\"psysml:db7199af-e574-4214-8b26-5aef0dbbdb0a\" target=\"_top\" title=\"psysml:db7199af-e574-4214-8b26-5aef0dbbdb0a\" xlink:actuate=\"onRequest\" xlink:href=\"psysml:db7199af-e574-4214-8b26-5aef0dbbdb0a\" xlink:show=\"new\" xlink:title=\"psysml:db7199af-e574-4214-8b26-5aef0dbbdb0a\" xlink:type=\"simple\"><polygon fill=\"#FFFFFF\" points=\"16,6,151,6,158,28.2969,592,28.2969,592,293,16,293,16,6\" style=\"stroke: #000000; stroke-width: 1.5;\"/><line style=\"stroke: #000000; stroke-width: 1.5;\" x1=\"16\" x2=\"158\" y1=\"28.2969\" y2=\"28.2969\"/><text fill=\"#000000\" font-family=\"sans-serif\" font-size=\"14\" font-weight=\"bold\" lengthAdjust=\"spacingAndGlyphs\" textLength=\"129\" x=\"20\" y=\"20.9951\">ConjugationTest</text></a><!--MD5=[b4997ac47864f28c2f74865a473b2911]\n",
       "class E2--><a href=\"psysml:eee324b7-6ef1-4f74-bb85-9d01b884a0c3\" target=\"_top\" title=\"psysml:eee324b7-6ef1-4f74-bb85-9d01b884a0c3\" xlink:actuate=\"onRequest\" xlink:href=\"psysml:eee324b7-6ef1-4f74-bb85-9d01b884a0c3\" xlink:show=\"new\" xlink:title=\"psysml:eee324b7-6ef1-4f74-bb85-9d01b884a0c3\" xlink:type=\"simple\"><rect fill=\"#FFFFFF\" height=\"45.9375\" id=\"E2\" style=\"stroke: #383838; stroke-width: 1.5;\" width=\"66\" x=\"510\" y=\"62\"/><text fill=\"#000000\" font-family=\"sans-serif\" font-size=\"12\" font-style=\"italic\" lengthAdjust=\"spacingAndGlyphs\" textLength=\"64\" x=\"511\" y=\"78.1387\">«port def»</text><text fill=\"#000000\" font-family=\"sans-serif\" font-size=\"12\" lengthAdjust=\"spacingAndGlyphs\" textLength=\"8\" x=\"539\" y=\"92.1074\">P</text><line style=\"stroke: #383838; stroke-width: 1.5;\" x1=\"511\" x2=\"575\" y1=\"99.9375\" y2=\"99.9375\"/></a><!--MD5=[09b614a08d8cba4a07c9adeb5e0fee81]\n",
       "class E3--><a href=\"psysml:987ad9e8-156c-405b-94a5-0234bd5ef961\" target=\"_top\" title=\"psysml:987ad9e8-156c-405b-94a5-0234bd5ef961\" xlink:actuate=\"onRequest\" xlink:href=\"psysml:987ad9e8-156c-405b-94a5-0234bd5ef961\" xlink:show=\"new\" xlink:title=\"psysml:987ad9e8-156c-405b-94a5-0234bd5ef961\" xlink:type=\"simple\"><rect fill=\"#FFFFFF\" height=\"88.3516\" id=\"E3\" style=\"stroke: #383838; stroke-width: 1.5;\" width=\"66\" x=\"409\" y=\"41\"/><text fill=\"#000000\" font-family=\"sans-serif\" font-size=\"12\" font-style=\"italic\" lengthAdjust=\"spacingAndGlyphs\" textLength=\"64\" x=\"410\" y=\"57.1387\">«part def»</text><text fill=\"#000000\" font-family=\"sans-serif\" font-size=\"12\" lengthAdjust=\"spacingAndGlyphs\" textLength=\"8\" x=\"438\" y=\"71.1074\">B</text><line style=\"stroke: #383838; stroke-width: 1.5;\" x1=\"410\" x2=\"474\" y1=\"78.9375\" y2=\"78.9375\"/><text fill=\"#000000\" font-family=\"sans-serif\" font-size=\"11\" lengthAdjust=\"spacingAndGlyphs\" textLength=\"29\" x=\"415\" y=\"109.9526\">p1: P</text><text fill=\"#000000\" font-family=\"sans-serif\" font-size=\"11\" lengthAdjust=\"spacingAndGlyphs\" textLength=\"38\" x=\"415\" y=\"122.7573\">p2: ~P</text><line style=\"stroke: #383838; stroke-width: 1.0;\" x1=\"410\" x2=\"427\" y1=\"93.3398\" y2=\"93.3398\"/><text fill=\"#000000\" font-family=\"sans-serif\" font-size=\"11\" lengthAdjust=\"spacingAndGlyphs\" textLength=\"30\" x=\"427\" y=\"96.6479\">ports</text><line style=\"stroke: #383838; stroke-width: 1.0;\" x1=\"457\" x2=\"474\" y1=\"93.3398\" y2=\"93.3398\"/></a><!--MD5=[60a26617385b1d2d0262a64233df1f8d]\n",
       "class E6--><a href=\"psysml:d4b825d6-e011-4f07-a399-999db6b99ea3\" target=\"_top\" title=\"psysml:d4b825d6-e011-4f07-a399-999db6b99ea3\" xlink:actuate=\"onRequest\" xlink:href=\"psysml:d4b825d6-e011-4f07-a399-999db6b99ea3\" xlink:show=\"new\" xlink:title=\"psysml:d4b825d6-e011-4f07-a399-999db6b99ea3\" xlink:type=\"simple\"><rect fill=\"#FFFFFF\" height=\"88.3516\" id=\"E6\" style=\"stroke: #383838; stroke-width: 1.5;\" width=\"110\" x=\"264\" y=\"41\"/><text fill=\"#000000\" font-family=\"sans-serif\" font-size=\"12\" font-style=\"italic\" lengthAdjust=\"spacingAndGlyphs\" textLength=\"108\" x=\"265\" y=\"57.1387\">«connection def»</text><text fill=\"#000000\" font-family=\"sans-serif\" font-size=\"12\" lengthAdjust=\"spacingAndGlyphs\" textLength=\"8\" x=\"315\" y=\"71.1074\">A</text><line style=\"stroke: #383838; stroke-width: 1.5;\" x1=\"265\" x2=\"373\" y1=\"78.9375\" y2=\"78.9375\"/><text fill=\"#000000\" font-family=\"sans-serif\" font-size=\"11\" lengthAdjust=\"spacingAndGlyphs\" textLength=\"29\" x=\"270\" y=\"109.9526\">p1: P</text><text fill=\"#000000\" font-family=\"sans-serif\" font-size=\"11\" lengthAdjust=\"spacingAndGlyphs\" textLength=\"38\" x=\"270\" y=\"122.7573\">p2: ~P</text><line style=\"stroke: #383838; stroke-width: 1.0;\" x1=\"265\" x2=\"304\" y1=\"93.3398\" y2=\"93.3398\"/><text fill=\"#000000\" font-family=\"sans-serif\" font-size=\"11\" lengthAdjust=\"spacingAndGlyphs\" textLength=\"30\" x=\"304\" y=\"96.6479\">ports</text><line style=\"stroke: #383838; stroke-width: 1.0;\" x1=\"334\" x2=\"373\" y1=\"93.3398\" y2=\"93.3398\"/></a><!--MD5=[fd4143e9d270a159db93a4ea2a975926]\n",
       "class E9--><a href=\"psysml:0fcf03a3-0a94-497d-adc5-5270b49e59d7\" target=\"_top\" title=\"psysml:0fcf03a3-0a94-497d-adc5-5270b49e59d7\" xlink:actuate=\"onRequest\" xlink:href=\"psysml:0fcf03a3-0a94-497d-adc5-5270b49e59d7\" xlink:show=\"new\" xlink:title=\"psysml:0fcf03a3-0a94-497d-adc5-5270b49e59d7\" xlink:type=\"simple\"><rect fill=\"#FFFFFF\" height=\"88.3516\" id=\"E9\" style=\"stroke: #383838; stroke-width: 1.5;\" width=\"96\" x=\"133\" y=\"41\"/><text fill=\"#000000\" font-family=\"sans-serif\" font-size=\"12\" font-style=\"italic\" lengthAdjust=\"spacingAndGlyphs\" textLength=\"94\" x=\"134\" y=\"57.1387\">«interface def»</text><text fill=\"#000000\" font-family=\"sans-serif\" font-size=\"12\" lengthAdjust=\"spacingAndGlyphs\" textLength=\"3\" x=\"179.5\" y=\"71.1074\">I</text><line style=\"stroke: #383838; stroke-width: 1.5;\" x1=\"134\" x2=\"228\" y1=\"78.9375\" y2=\"78.9375\"/><text fill=\"#000000\" font-family=\"sans-serif\" font-size=\"11\" lengthAdjust=\"spacingAndGlyphs\" textLength=\"29\" x=\"139\" y=\"109.9526\">p1: P</text><text fill=\"#000000\" font-family=\"sans-serif\" font-size=\"11\" lengthAdjust=\"spacingAndGlyphs\" textLength=\"38\" x=\"139\" y=\"122.7573\">p2: ~P</text><line style=\"stroke: #383838; stroke-width: 1.0;\" x1=\"134\" x2=\"166\" y1=\"93.3398\" y2=\"93.3398\"/><text fill=\"#000000\" font-family=\"sans-serif\" font-size=\"11\" lengthAdjust=\"spacingAndGlyphs\" textLength=\"30\" x=\"166\" y=\"96.6479\">ports</text><line style=\"stroke: #383838; stroke-width: 1.0;\" x1=\"196\" x2=\"228\" y1=\"93.3398\" y2=\"93.3398\"/></a><!--MD5=[49a0ec8f00dab7302a31f22d0f0fe584]\n",
       "class E12--><a href=\"psysml:fa47a610-a800-429f-b665-228f1e266500\" target=\"_top\" title=\"psysml:fa47a610-a800-429f-b665-228f1e266500\" xlink:actuate=\"onRequest\" xlink:href=\"psysml:fa47a610-a800-429f-b665-228f1e266500\" xlink:show=\"new\" xlink:title=\"psysml:fa47a610-a800-429f-b665-228f1e266500\" xlink:type=\"simple\"><rect fill=\"#FFFFFF\" height=\"45.9375\" id=\"E12\" style=\"stroke: #383838; stroke-width: 1.5;\" width=\"66\" x=\"32\" y=\"62\"/><text fill=\"#000000\" font-family=\"sans-serif\" font-size=\"12\" font-style=\"italic\" lengthAdjust=\"spacingAndGlyphs\" textLength=\"64\" x=\"33\" y=\"78.1387\">«part def»</text><text fill=\"#000000\" font-family=\"sans-serif\" font-size=\"12\" lengthAdjust=\"spacingAndGlyphs\" textLength=\"16\" x=\"57\" y=\"92.1074\">B1</text><line style=\"stroke: #383838; stroke-width: 1.5;\" x1=\"33\" x2=\"97\" y1=\"99.9375\" y2=\"99.9375\"/></a><!--MD5=[ee3c913d1a06f366521f9ef512b67efe]\n",
       "class E13--><a href=\"psysml:593a6524-9b3f-4082-a23e-8ed96ff9a715\" target=\"_top\" title=\"psysml:593a6524-9b3f-4082-a23e-8ed96ff9a715\" xlink:actuate=\"onRequest\" xlink:href=\"psysml:593a6524-9b3f-4082-a23e-8ed96ff9a715\" xlink:show=\"new\" xlink:title=\"psysml:593a6524-9b3f-4082-a23e-8ed96ff9a715\" xlink:type=\"simple\"><rect fill=\"#FFFFFF\" height=\"88.3516\" id=\"E13\" rx=\"10\" ry=\"10\" style=\"stroke: #383838; stroke-width: 1.5;\" width=\"50\" x=\"40\" y=\"189\"/><text fill=\"#000000\" font-family=\"sans-serif\" font-size=\"12\" font-style=\"italic\" lengthAdjust=\"spacingAndGlyphs\" textLength=\"40\" x=\"45\" y=\"205.1387\">«part»</text><text fill=\"#000000\" font-family=\"sans-serif\" font-size=\"12\" lengthAdjust=\"spacingAndGlyphs\" textLength=\"8\" x=\"61\" y=\"219.1074\">p</text><line style=\"stroke: #383838; stroke-width: 1.5;\" x1=\"41\" x2=\"89\" y1=\"226.9375\" y2=\"226.9375\"/><text fill=\"#000000\" font-family=\"sans-serif\" font-size=\"11\" lengthAdjust=\"spacingAndGlyphs\" textLength=\"29\" x=\"46\" y=\"257.9526\">p1: P</text><text fill=\"#000000\" font-family=\"sans-serif\" font-size=\"11\" lengthAdjust=\"spacingAndGlyphs\" textLength=\"38\" x=\"46\" y=\"270.7573\">p2: ~P</text><line style=\"stroke: #383838; stroke-width: 1.0;\" x1=\"41\" x2=\"50\" y1=\"241.3398\" y2=\"241.3398\"/><text fill=\"#000000\" font-family=\"sans-serif\" font-size=\"11\" lengthAdjust=\"spacingAndGlyphs\" textLength=\"30\" x=\"50\" y=\"244.6479\">ports</text><line style=\"stroke: #383838; stroke-width: 1.0;\" x1=\"80\" x2=\"89\" y1=\"241.3398\" y2=\"241.3398\"/></a><!--MD5=[062ed86c389d1a88f61c6380d0491e17]\n",
       "reverse link E12 to E13--><a href=\"psysml:593a6524-9b3f-4082-a23e-8ed96ff9a715\" target=\"_top\" title=\"psysml:593a6524-9b3f-4082-a23e-8ed96ff9a715\" xlink:actuate=\"onRequest\" xlink:href=\"psysml:593a6524-9b3f-4082-a23e-8ed96ff9a715\" xlink:show=\"new\" xlink:title=\"psysml:593a6524-9b3f-4082-a23e-8ed96ff9a715\" xlink:type=\"simple\"><path d=\"M65,121.12 C65,121.12 65,188.9 65,188.9 \" fill=\"none\" id=\"E12&lt;-E13\" style=\"stroke: #383838; stroke-width: 1.0;\"/><polygon fill=\"#383838\" points=\"65,108.12,61.0066,114.1244,65.0132,120.12,69.0066,114.1156,65,108.12\" style=\"stroke: #383838; stroke-width: 1.0;\"/></a><!--MD5=[99945dfb91e662656d453981158e7902]\n",
       "@startuml\r\n",
       "skinparam linetype ortho\r\n",
       "skinparam monochrome true\r\n",
       "skinparam classbackgroundcolor white\r\n",
       "skinparam shadowing false\r\n",
       "skinparam wrapWidth 300\r\n",
       "hide circle\r\n",
       "\r\n",
       "package \"ConjugationTest\" as E1  [[psysml:db7199af-e574-4214-8b26-5aef0dbbdb0a ]]  {\r\n",
       "comp def \"P\" as E2  <<(T,blue)port def>> [[psysml:eee324b7-6ef1-4f74-bb85-9d01b884a0c3 ]] {\r\n",
       "}\r\n",
       "comp def \"B\" as E3  <<(T,blue)part def>> [[psysml:987ad9e8-156c-405b-94a5-0234bd5ef961 ]] {\r\n",
       "- - ports - -\r\n",
       "p1: P\r\n",
       "p2: ~P\r\n",
       "}\r\n",
       "comp def \"A\" as E6  <<(T,blue)connection def>> [[psysml:d4b825d6-e011-4f07-a399-999db6b99ea3 ]] {\r\n",
       "- - ports - -\r\n",
       "p1: P\r\n",
       "p2: ~P\r\n",
       "}\r\n",
       "comp def \"I\" as E9  <<(T,blue)interface def>> [[psysml:0fcf03a3-0a94-497d-adc5-5270b49e59d7 ]] {\r\n",
       "- - ports - -\r\n",
       "p1: P\r\n",
       "p2: ~P\r\n",
       "}\r\n",
       "comp def \"B1\" as E12  <<(T,blue)part def>> [[psysml:fa47a610-a800-429f-b665-228f1e266500 ]] {\r\n",
       "}\r\n",
       "comp usage \"p\" as E13  <<(T,blue)part>> [[psysml:593a6524-9b3f-4082-a23e-8ed96ff9a715 ]] {\r\n",
       "- - ports - -\r\n",
       "p1: P\r\n",
       "p2: ~P\r\n",
       "}\r\n",
       "E12 *- - E13 [[psysml:593a6524-9b3f-4082-a23e-8ed96ff9a715 ]] \r\n",
       "}\r\n",
       "@enduml\r\n",
       "\n",
       "PlantUML version 1.2020.13(Sat Jun 13 12:26:38 UTC 2020)\n",
       "(EPL source distribution)\n",
       "Java Runtime: OpenJDK Runtime Environment\n",
       "JVM: OpenJDK 64-Bit Server VM\n",
       "Default Encoding: UTF-8\n",
       "Language: en\n",
       "Country: null\n",
       "--></g></svg>"
      ]
     },
     "execution_count": 52,
     "metadata": {},
     "output_type": "execute_result"
    }
   ],
   "source": [
    "%viz --style=\"ORTHOLINE\" --view=\"Tree\" \"ConjugationTest\""
   ]
  },
  {
   "cell_type": "code",
   "execution_count": 53,
   "id": "sufficient-filter",
   "metadata": {
    "execution": {
     "iopub.execute_input": "2021-03-25T13:19:04.906224Z",
     "iopub.status.busy": "2021-03-25T13:19:04.905833Z",
     "iopub.status.idle": "2021-03-25T13:19:04.912245Z",
     "shell.execute_reply": "2021-03-25T13:19:04.912732Z"
    }
   },
   "outputs": [
    {
     "data": {
      "image/svg+xml": [
       "<?xml version=\"1.0\" encoding=\"UTF-8\" standalone=\"no\"?><svg xmlns=\"http://www.w3.org/2000/svg\" xmlns:xlink=\"http://www.w3.org/1999/xlink\" contentScriptType=\"application/ecmascript\" contentStyleType=\"text/css\" height=\"12px\" preserveAspectRatio=\"none\" style=\"width:12px;height:12px;\" version=\"1.1\" viewBox=\"0 0 12 12\" width=\"12px\" zoomAndPan=\"magnify\"><defs/><g><!--MD5=[97d6f38768b311333d388e66b2b27985]\n",
       "@startuml\r\n",
       "skinparam linetype ortho\r\n",
       "skinparam monochrome true\r\n",
       "skinparam classbackgroundcolor white\r\n",
       "skinparam shadowing false\r\n",
       "skinparam wrapWidth 300\r\n",
       "hide circle\r\n",
       "\r\n",
       "@enduml\r\n",
       "\n",
       "PlantUML version 1.2020.13(Sat Jun 13 12:26:38 UTC 2020)\n",
       "(EPL source distribution)\n",
       "Java Runtime: OpenJDK Runtime Environment\n",
       "JVM: OpenJDK 64-Bit Server VM\n",
       "Default Encoding: UTF-8\n",
       "Language: en\n",
       "Country: null\n",
       "--></g></svg>"
      ]
     },
     "execution_count": 53,
     "metadata": {},
     "output_type": "execute_result"
    }
   ],
   "source": [
    "%viz --style=\"ORTHOLINE\" --view=\"State\" \"ConjugationTest\""
   ]
  },
  {
   "cell_type": "code",
   "execution_count": 54,
   "id": "introductory-portland",
   "metadata": {
    "execution": {
     "iopub.execute_input": "2021-03-25T13:19:04.963530Z",
     "iopub.status.busy": "2021-03-25T13:19:04.962977Z",
     "iopub.status.idle": "2021-03-25T13:19:05.155811Z",
     "shell.execute_reply": "2021-03-25T13:19:05.154372Z"
    }
   },
   "outputs": [
    {
     "data": {
      "image/svg+xml": [
       "<?xml version=\"1.0\" encoding=\"UTF-8\" standalone=\"no\"?><svg xmlns=\"http://www.w3.org/2000/svg\" xmlns:xlink=\"http://www.w3.org/1999/xlink\" contentScriptType=\"application/ecmascript\" contentStyleType=\"text/css\" height=\"246px\" preserveAspectRatio=\"none\" style=\"width:739px;height:246px;\" version=\"1.1\" viewBox=\"0 0 739 246\" width=\"739px\" zoomAndPan=\"magnify\"><defs/><g><!--MD5=[fbc87193dbaf4d95561dea2c320d4a47]\n",
       "cluster E1--><a href=\"psysml:db7199af-e574-4214-8b26-5aef0dbbdb0a\" target=\"_top\" title=\"psysml:db7199af-e574-4214-8b26-5aef0dbbdb0a\" xlink:actuate=\"onRequest\" xlink:href=\"psysml:db7199af-e574-4214-8b26-5aef0dbbdb0a\" xlink:show=\"new\" xlink:title=\"psysml:db7199af-e574-4214-8b26-5aef0dbbdb0a\" xlink:type=\"simple\"><polygon fill=\"#FFFFFF\" points=\"16,6,151,6,158,28.2969,717,28.2969,717,234.5,16,234.5,16,6\" style=\"stroke: #000000; stroke-width: 1.5;\"/><line style=\"stroke: #000000; stroke-width: 1.5;\" x1=\"16\" x2=\"158\" y1=\"28.2969\" y2=\"28.2969\"/><text fill=\"#000000\" font-family=\"sans-serif\" font-size=\"14\" font-weight=\"bold\" lengthAdjust=\"spacingAndGlyphs\" textLength=\"129\" x=\"20\" y=\"20.9951\">ConjugationTest</text></a><!--MD5=[d5e69f78d87373223dbae638b30a9c99]\n",
       "cluster E3--><a href=\"psysml:987ad9e8-156c-405b-94a5-0234bd5ef961\" target=\"_top\" title=\"psysml:987ad9e8-156c-405b-94a5-0234bd5ef961\" xlink:actuate=\"onRequest\" xlink:href=\"psysml:987ad9e8-156c-405b-94a5-0234bd5ef961\" xlink:show=\"new\" xlink:title=\"psysml:987ad9e8-156c-405b-94a5-0234bd5ef961\" xlink:type=\"simple\"><rect fill=\"#FFFFFF\" height=\"88.5\" id=\"E3\" style=\"stroke: #383838; stroke-width: 1.5;\" width=\"83\" x=\"577\" y=\"114\"/><rect fill=\"#F8F8F8\" height=\"37.9375\" style=\"stroke: #383838; stroke-width: 1.5;\" width=\"83\" x=\"577\" y=\"114\"/><text fill=\"#000000\" font-family=\"sans-serif\" font-size=\"12\" font-style=\"italic\" lengthAdjust=\"spacingAndGlyphs\" textLength=\"64\" x=\"586.5\" y=\"130.1387\">«part def»</text><text fill=\"#000000\" font-family=\"sans-serif\" font-size=\"12\" lengthAdjust=\"spacingAndGlyphs\" textLength=\"8\" x=\"614.5\" y=\"144.1074\">B</text></a><!--MD5=[14e3b0961a2654348d326746436168a1]\n",
       "cluster E6--><a href=\"psysml:d4b825d6-e011-4f07-a399-999db6b99ea3\" target=\"_top\" title=\"psysml:d4b825d6-e011-4f07-a399-999db6b99ea3\" xlink:actuate=\"onRequest\" xlink:href=\"psysml:d4b825d6-e011-4f07-a399-999db6b99ea3\" xlink:show=\"new\" xlink:title=\"psysml:d4b825d6-e011-4f07-a399-999db6b99ea3\" xlink:type=\"simple\"><rect fill=\"#FFFFFF\" height=\"88.5\" id=\"E6\" style=\"stroke: #383838; stroke-width: 1.5;\" width=\"150\" x=\"423\" y=\"114\"/><rect fill=\"#F8F8F8\" height=\"37.9375\" style=\"stroke: #383838; stroke-width: 1.5;\" width=\"150\" x=\"423\" y=\"114\"/><text fill=\"#000000\" font-family=\"sans-serif\" font-size=\"12\" font-style=\"italic\" lengthAdjust=\"spacingAndGlyphs\" textLength=\"108\" x=\"444\" y=\"130.1387\">«connection def»</text><text fill=\"#000000\" font-family=\"sans-serif\" font-size=\"12\" lengthAdjust=\"spacingAndGlyphs\" textLength=\"8\" x=\"494\" y=\"144.1074\">A</text></a><!--MD5=[7f149f147074ac12df2cb0a7728a5fb0]\n",
       "cluster E9--><a href=\"psysml:0fcf03a3-0a94-497d-adc5-5270b49e59d7\" target=\"_top\" title=\"psysml:0fcf03a3-0a94-497d-adc5-5270b49e59d7\" xlink:actuate=\"onRequest\" xlink:href=\"psysml:0fcf03a3-0a94-497d-adc5-5270b49e59d7\" xlink:show=\"new\" xlink:title=\"psysml:0fcf03a3-0a94-497d-adc5-5270b49e59d7\" xlink:type=\"simple\"><rect fill=\"#FFFFFF\" height=\"88.5\" id=\"E9\" style=\"stroke: #383838; stroke-width: 1.5;\" width=\"141\" x=\"254\" y=\"114\"/><rect fill=\"#F8F8F8\" height=\"37.9375\" style=\"stroke: #383838; stroke-width: 1.5;\" width=\"141\" x=\"254\" y=\"114\"/><text fill=\"#000000\" font-family=\"sans-serif\" font-size=\"12\" font-style=\"italic\" lengthAdjust=\"spacingAndGlyphs\" textLength=\"94\" x=\"277.5\" y=\"130.1387\">«interface def»</text><text fill=\"#000000\" font-family=\"sans-serif\" font-size=\"12\" lengthAdjust=\"spacingAndGlyphs\" textLength=\"3\" x=\"323\" y=\"144.1074\">I</text></a><!--MD5=[47bea60c1a0ac6c1143df232041969c0]\n",
       "cluster E12--><a href=\"psysml:fa47a610-a800-429f-b665-228f1e266500\" target=\"_top\" title=\"psysml:fa47a610-a800-429f-b665-228f1e266500\" xlink:actuate=\"onRequest\" xlink:href=\"psysml:fa47a610-a800-429f-b665-228f1e266500\" xlink:show=\"new\" xlink:title=\"psysml:fa47a610-a800-429f-b665-228f1e266500\" xlink:type=\"simple\"><rect fill=\"#FFFFFF\" height=\"161.5\" id=\"E12\" style=\"stroke: #383838; stroke-width: 1.5;\" width=\"107\" x=\"120\" y=\"49\"/><rect fill=\"#F8F8F8\" height=\"37.9375\" style=\"stroke: #383838; stroke-width: 1.5;\" width=\"107\" x=\"120\" y=\"49\"/><text fill=\"#000000\" font-family=\"sans-serif\" font-size=\"12\" font-style=\"italic\" lengthAdjust=\"spacingAndGlyphs\" textLength=\"64\" x=\"141.5\" y=\"65.1387\">«part def»</text><text fill=\"#000000\" font-family=\"sans-serif\" font-size=\"12\" lengthAdjust=\"spacingAndGlyphs\" textLength=\"16\" x=\"165.5\" y=\"79.1074\">B1</text></a><!--MD5=[03104f77b71e2d8d3500c651e6e31181]\n",
       "cluster E13--><a href=\"psysml:593a6524-9b3f-4082-a23e-8ed96ff9a715\" target=\"_top\" title=\"psysml:593a6524-9b3f-4082-a23e-8ed96ff9a715\" xlink:actuate=\"onRequest\" xlink:href=\"psysml:593a6524-9b3f-4082-a23e-8ed96ff9a715\" xlink:show=\"new\" xlink:title=\"psysml:593a6524-9b3f-4082-a23e-8ed96ff9a715\" xlink:type=\"simple\"><rect fill=\"#FFFFFF\" height=\"80.5\" id=\"E13\" rx=\"10\" ry=\"10\" style=\"stroke: #383838; stroke-width: 1.5;\" width=\"83\" x=\"132\" y=\"114\"/><rect fill=\"#F8F8F8\" height=\"23.9688\" rx=\"10\" ry=\"10\" style=\"stroke: #F8F8F8; stroke-width: 1.5;\" width=\"83\" x=\"132\" y=\"114\"/><rect fill=\"#F8F8F8\" height=\"10\" style=\"stroke: #F8F8F8; stroke-width: 1.5;\" width=\"83\" x=\"132\" y=\"127.9688\"/><rect fill=\"none\" height=\"80.5\" id=\"E13\" rx=\"10\" ry=\"10\" style=\"stroke: #383838; stroke-width: 1.5;\" width=\"83\" x=\"132\" y=\"114\"/><text fill=\"#000000\" font-family=\"sans-serif\" font-size=\"12\" lengthAdjust=\"spacingAndGlyphs\" textLength=\"8\" x=\"169.5\" y=\"130.1387\">p</text><line style=\"stroke: #383838; stroke-width: 1.0;\" x1=\"132\" x2=\"215\" y1=\"137.9688\" y2=\"137.9688\"/></a><g id=\"E1.E2\"><a href=\"psysml:eee324b7-6ef1-4f74-bb85-9d01b884a0c3\" target=\"_top\" title=\"psysml:eee324b7-6ef1-4f74-bb85-9d01b884a0c3\" xlink:actuate=\"onRequest\" xlink:href=\"psysml:eee324b7-6ef1-4f74-bb85-9d01b884a0c3\" xlink:show=\"new\" xlink:title=\"psysml:eee324b7-6ef1-4f74-bb85-9d01b884a0c3\" xlink:type=\"simple\"><rect fill=\"#FFFFFF\" height=\"42.9375\" id=\"E2\" style=\"stroke: #383838; stroke-width: 1.5;\" width=\"71\" x=\"32.5\" y=\"92.5\"/><rect fill=\"#F8F8F8\" height=\"37.9375\" style=\"stroke: #383838; stroke-width: 1.5;\" width=\"71\" x=\"32.5\" y=\"92.5\"/><text fill=\"#000000\" font-family=\"sans-serif\" font-size=\"12\" font-style=\"italic\" lengthAdjust=\"spacingAndGlyphs\" textLength=\"64\" x=\"36\" y=\"108.6387\">«port def»</text><text fill=\"#000000\" font-family=\"sans-serif\" font-size=\"12\" lengthAdjust=\"spacingAndGlyphs\" textLength=\"8\" x=\"64\" y=\"122.6074\">P</text></a></g><text fill=\"#000000\" font-family=\"sans-serif\" font-size=\"14\" lengthAdjust=\"spacingAndGlyphs\" textLength=\"36\" x=\"577\" y=\"92.6982\">p1: P</text><rect fill=\"#383838\" height=\"12\" style=\"stroke: #F8F8F8; stroke-width: 1.5;\" width=\"12\" x=\"589\" y=\"108\"/><text fill=\"#000000\" font-family=\"sans-serif\" font-size=\"14\" lengthAdjust=\"spacingAndGlyphs\" textLength=\"48\" x=\"618\" y=\"92.6982\">p2: ~P</text><rect fill=\"#383838\" height=\"12\" style=\"stroke: #F8F8F8; stroke-width: 1.5;\" width=\"12\" x=\"636\" y=\"108\"/><text fill=\"#000000\" font-family=\"sans-serif\" font-size=\"14\" lengthAdjust=\"spacingAndGlyphs\" textLength=\"36\" x=\"423\" y=\"92.6982\">p1: P</text><rect fill=\"#383838\" height=\"12\" style=\"stroke: #F8F8F8; stroke-width: 1.5;\" width=\"12\" x=\"435\" y=\"108\"/><text fill=\"#000000\" font-family=\"sans-serif\" font-size=\"14\" lengthAdjust=\"spacingAndGlyphs\" textLength=\"48\" x=\"464\" y=\"92.6982\">p2: ~P</text><rect fill=\"#383838\" height=\"12\" style=\"stroke: #F8F8F8; stroke-width: 1.5;\" width=\"12\" x=\"482\" y=\"108\"/><text fill=\"#000000\" font-family=\"sans-serif\" font-size=\"14\" lengthAdjust=\"spacingAndGlyphs\" textLength=\"36\" x=\"254\" y=\"92.6982\">p1: P</text><rect fill=\"#383838\" height=\"12\" style=\"stroke: #F8F8F8; stroke-width: 1.5;\" width=\"12\" x=\"266\" y=\"108\"/><text fill=\"#000000\" font-family=\"sans-serif\" font-size=\"14\" lengthAdjust=\"spacingAndGlyphs\" textLength=\"48\" x=\"295\" y=\"92.6982\">p2: ~P</text><rect fill=\"#383838\" height=\"12\" style=\"stroke: #F8F8F8; stroke-width: 1.5;\" width=\"12\" x=\"313\" y=\"108\"/><text fill=\"#000000\" font-family=\"sans-serif\" font-size=\"14\" lengthAdjust=\"spacingAndGlyphs\" textLength=\"36\" x=\"132\" y=\"92.6982\">p1: P</text><rect fill=\"#383838\" height=\"12\" style=\"stroke: #F8F8F8; stroke-width: 1.5;\" width=\"12\" x=\"144\" y=\"108\"/><text fill=\"#000000\" font-family=\"sans-serif\" font-size=\"14\" lengthAdjust=\"spacingAndGlyphs\" textLength=\"48\" x=\"173\" y=\"92.6982\">p2: ~P</text><rect fill=\"#383838\" height=\"12\" style=\"stroke: #F8F8F8; stroke-width: 1.5;\" width=\"12\" x=\"191\" y=\"108\"/><!--MD5=[4ce51ac6fa4cf5202df3859e2718f033]\n",
       "link E15 to E14--><a href=\"psysml:aa2d6f76-4132-425f-9826-f18a4b0e5493\" target=\"_top\" title=\"psysml:aa2d6f76-4132-425f-9826-f18a4b0e5493\" xlink:actuate=\"onRequest\" xlink:href=\"psysml:aa2d6f76-4132-425f-9826-f18a4b0e5493\" xlink:show=\"new\" xlink:title=\"psysml:aa2d6f76-4132-425f-9826-f18a4b0e5493\" xlink:type=\"simple\"><path d=\"M190.86,114.5 C181.9,114.5 165.34,114.5 156.3,114.5 \" fill=\"none\" id=\"E15-E14\" style=\"stroke: #383838; stroke-width: 3.0;\"/></a><!--MD5=[4ce51ac6fa4cf5202df3859e2718f033]\n",
       "link E15 to E14--><a href=\"psysml:7b87a1ef-cf2b-4c9e-a130-c1b402d1e385\" target=\"_top\" title=\"psysml:7b87a1ef-cf2b-4c9e-a130-c1b402d1e385\" xlink:actuate=\"onRequest\" xlink:href=\"psysml:7b87a1ef-cf2b-4c9e-a130-c1b402d1e385\" xlink:show=\"new\" xlink:title=\"psysml:7b87a1ef-cf2b-4c9e-a130-c1b402d1e385\" xlink:type=\"simple\"><path d=\"M190.86,117.5 C181.9,117.5 165.34,117.5 156.3,117.5 \" fill=\"none\" id=\"E15-E14-1\" style=\"stroke: #383838; stroke-width: 3.0;\"/></a><!--MD5=[c4a00a788d521dbf0d0940eb6894a6aa]\n",
       "@startuml\r\n",
       "skinparam ranksep 8\r\n",
       "skinparam rectangle {\r\n",
       " backgroundColor<<block>> LightGreen\r\n",
       "}\r\n",
       "skinparam linetype ortho\r\n",
       "skinparam monochrome true\r\n",
       "skinparam classbackgroundcolor white\r\n",
       "skinparam shadowing false\r\n",
       "skinparam wrapWidth 300\r\n",
       "hide circle\r\n",
       "\r\n",
       "package \"ConjugationTest\" as E1  [[psysml:db7199af-e574-4214-8b26-5aef0dbbdb0a ]]  {\r\n",
       "def \"P\" as E2  <<(T,blue)port def>> [[psysml:eee324b7-6ef1-4f74-bb85-9d01b884a0c3 ]] \r\n",
       "rec def \"B\" as E3  <<(T,blue)part def>> [[psysml:987ad9e8-156c-405b-94a5-0234bd5ef961 ]] {\r\n",
       "portin \"p1: P\" as E4  <<(T,blue)port>> [[psysml:c8a4d081-7853-4f87-8688-3b004d6601fe ]] \r\n",
       "portin \"p2: ~P\" as E5  <<(T,blue)port>> [[psysml:93d25d87-d8ba-4a14-9054-622c501a7419 ]] \r\n",
       "}\r\n",
       "rec def \"A\" as E6  <<(T,blue)connection def>> [[psysml:d4b825d6-e011-4f07-a399-999db6b99ea3 ]] {\r\n",
       "portin \"p1: P\" as E7  <<(T,blue)port>> [[psysml:cf23f925-3ac9-40f7-8eb9-75cb926494bb ]] \r\n",
       "portin \"p2: ~P\" as E8  <<(T,blue)port>> [[psysml:78e860a1-2afe-4044-9ab4-1ebbe08f7dad ]] \r\n",
       "}\r\n",
       "rec def \"I\" as E9  <<(T,blue)interface def>> [[psysml:0fcf03a3-0a94-497d-adc5-5270b49e59d7 ]] {\r\n",
       "portin \"p1: P\" as E10  <<(T,blue)port>> [[psysml:e29a1f34-1b36-49a6-a497-c0e94a31f076 ]] \r\n",
       "portin \"p2: ~P\" as E11  <<(T,blue)port>> [[psysml:b6345cdf-3536-4afa-a6d8-3c5d2219e138 ]] \r\n",
       "}\r\n",
       "rec def \"B1\" as E12  <<(T,blue)part def>> [[psysml:fa47a610-a800-429f-b665-228f1e266500 ]] {\r\n",
       "rec usage \"p\" as E13  [[psysml:593a6524-9b3f-4082-a23e-8ed96ff9a715 ]] {\r\n",
       "portin \"p1: P\" as E14  <<(T,blue)port>> [[psysml:a4f040c8-38a0-4d60-9c1e-4003131a919c ]] \r\n",
       "portin \"p2: ~P\" as E15  <<(T,blue)port>> [[psysml:661396c6-733f-4c07-bbb8-142725b64304 ]] \r\n",
       "}\r\n",
       "}\r\n",
       "E15 -[thickness=3]- E14 [[psysml:aa2d6f76-4132-425f-9826-f18a4b0e5493 ]] \r\n",
       "E15 -[thickness=3]- E14 [[psysml:7b87a1ef-cf2b-4c9e-a130-c1b402d1e385 ]] \r\n",
       "}\r\n",
       "@enduml\r\n",
       "\n",
       "PlantUML version 1.2020.13(Sat Jun 13 12:26:38 UTC 2020)\n",
       "(EPL source distribution)\n",
       "Java Runtime: OpenJDK Runtime Environment\n",
       "JVM: OpenJDK 64-Bit Server VM\n",
       "Default Encoding: UTF-8\n",
       "Language: en\n",
       "Country: null\n",
       "--></g></svg>"
      ]
     },
     "execution_count": 54,
     "metadata": {},
     "output_type": "execute_result"
    }
   ],
   "source": [
    "%viz --style=\"ORTHOLINE\" --view=\"Interconnection\" \"ConjugationTest\""
   ]
  },
  {
   "cell_type": "code",
   "execution_count": 55,
   "id": "through-explanation",
   "metadata": {
    "execution": {
     "iopub.execute_input": "2021-03-25T13:19:05.207124Z",
     "iopub.status.busy": "2021-03-25T13:19:05.205617Z",
     "iopub.status.idle": "2021-03-25T13:19:05.220877Z",
     "shell.execute_reply": "2021-03-25T13:19:05.220491Z"
    }
   },
   "outputs": [
    {
     "data": {
      "image/svg+xml": [
       "<?xml version=\"1.0\" encoding=\"UTF-8\" standalone=\"no\"?><svg xmlns=\"http://www.w3.org/2000/svg\" xmlns:xlink=\"http://www.w3.org/1999/xlink\" contentScriptType=\"application/ecmascript\" contentStyleType=\"text/css\" height=\"12px\" preserveAspectRatio=\"none\" style=\"width:12px;height:12px;\" version=\"1.1\" viewBox=\"0 0 12 12\" width=\"12px\" zoomAndPan=\"magnify\"><defs/><g><!--MD5=[72934c63077099a26744516a776b4749]\n",
       "@startuml\r\n",
       "skinparam ranksep 8\r\n",
       "skinparam linetype ortho\r\n",
       "skinparam monochrome true\r\n",
       "skinparam classbackgroundcolor white\r\n",
       "skinparam shadowing false\r\n",
       "skinparam wrapWidth 300\r\n",
       "hide circle\r\n",
       "\r\n",
       "@enduml\r\n",
       "\n",
       "PlantUML version 1.2020.13(Sat Jun 13 12:26:38 UTC 2020)\n",
       "(EPL source distribution)\n",
       "Java Runtime: OpenJDK Runtime Environment\n",
       "JVM: OpenJDK 64-Bit Server VM\n",
       "Default Encoding: UTF-8\n",
       "Language: en\n",
       "Country: null\n",
       "--></g></svg>"
      ]
     },
     "execution_count": 55,
     "metadata": {},
     "output_type": "execute_result"
    }
   ],
   "source": [
    "%viz --style=\"ORTHOLINE\" --view=\"Action\" \"ConjugationTest\""
   ]
  },
  {
   "cell_type": "code",
   "execution_count": 56,
   "id": "neutral-syndrome",
   "metadata": {
    "execution": {
     "iopub.execute_input": "2021-03-25T13:19:05.264641Z",
     "iopub.status.busy": "2021-03-25T13:19:05.263768Z",
     "iopub.status.idle": "2021-03-25T13:19:05.957324Z",
     "shell.execute_reply": "2021-03-25T13:19:05.954807Z"
    }
   },
   "outputs": [
    {
     "data": {
      "image/svg+xml": [
       "<?xml version=\"1.0\" encoding=\"UTF-8\" standalone=\"no\"?><svg xmlns=\"http://www.w3.org/2000/svg\" xmlns:xlink=\"http://www.w3.org/1999/xlink\" contentScriptType=\"application/ecmascript\" contentStyleType=\"text/css\" height=\"305px\" preserveAspectRatio=\"none\" style=\"width:614px;height:305px;\" version=\"1.1\" viewBox=\"0 0 614 305\" width=\"614px\" zoomAndPan=\"magnify\"><defs/><g><!--MD5=[fbc87193dbaf4d95561dea2c320d4a47]\n",
       "cluster E1--><a href=\"psysml:db7199af-e574-4214-8b26-5aef0dbbdb0a\" target=\"_top\" title=\"psysml:db7199af-e574-4214-8b26-5aef0dbbdb0a\" xlink:actuate=\"onRequest\" xlink:href=\"psysml:db7199af-e574-4214-8b26-5aef0dbbdb0a\" xlink:show=\"new\" xlink:title=\"psysml:db7199af-e574-4214-8b26-5aef0dbbdb0a\" xlink:type=\"simple\"><polygon fill=\"#FFFFFF\" points=\"16,6,151,6,158,28.2969,592,28.2969,592,293,16,293,16,6\" style=\"stroke: #000000; stroke-width: 1.5;\"/><line style=\"stroke: #000000; stroke-width: 1.5;\" x1=\"16\" x2=\"158\" y1=\"28.2969\" y2=\"28.2969\"/><text fill=\"#000000\" font-family=\"sans-serif\" font-size=\"14\" font-weight=\"bold\" lengthAdjust=\"spacingAndGlyphs\" textLength=\"129\" x=\"20\" y=\"20.9951\">ConjugationTest</text></a><!--MD5=[b4997ac47864f28c2f74865a473b2911]\n",
       "class E2--><a href=\"psysml:eee324b7-6ef1-4f74-bb85-9d01b884a0c3\" target=\"_top\" title=\"psysml:eee324b7-6ef1-4f74-bb85-9d01b884a0c3\" xlink:actuate=\"onRequest\" xlink:href=\"psysml:eee324b7-6ef1-4f74-bb85-9d01b884a0c3\" xlink:show=\"new\" xlink:title=\"psysml:eee324b7-6ef1-4f74-bb85-9d01b884a0c3\" xlink:type=\"simple\"><rect fill=\"#FFFFFF\" height=\"45.9375\" id=\"E2\" style=\"stroke: #383838; stroke-width: 1.5;\" width=\"66\" x=\"510\" y=\"62\"/><text fill=\"#000000\" font-family=\"sans-serif\" font-size=\"12\" font-style=\"italic\" lengthAdjust=\"spacingAndGlyphs\" textLength=\"64\" x=\"511\" y=\"78.1387\">«port def»</text><text fill=\"#000000\" font-family=\"sans-serif\" font-size=\"12\" lengthAdjust=\"spacingAndGlyphs\" textLength=\"8\" x=\"539\" y=\"92.1074\">P</text><line style=\"stroke: #383838; stroke-width: 1.5;\" x1=\"511\" x2=\"575\" y1=\"99.9375\" y2=\"99.9375\"/></a><!--MD5=[09b614a08d8cba4a07c9adeb5e0fee81]\n",
       "class E3--><a href=\"psysml:987ad9e8-156c-405b-94a5-0234bd5ef961\" target=\"_top\" title=\"psysml:987ad9e8-156c-405b-94a5-0234bd5ef961\" xlink:actuate=\"onRequest\" xlink:href=\"psysml:987ad9e8-156c-405b-94a5-0234bd5ef961\" xlink:show=\"new\" xlink:title=\"psysml:987ad9e8-156c-405b-94a5-0234bd5ef961\" xlink:type=\"simple\"><rect fill=\"#FFFFFF\" height=\"88.3516\" id=\"E3\" style=\"stroke: #383838; stroke-width: 1.5;\" width=\"66\" x=\"409\" y=\"41\"/><text fill=\"#000000\" font-family=\"sans-serif\" font-size=\"12\" font-style=\"italic\" lengthAdjust=\"spacingAndGlyphs\" textLength=\"64\" x=\"410\" y=\"57.1387\">«part def»</text><text fill=\"#000000\" font-family=\"sans-serif\" font-size=\"12\" lengthAdjust=\"spacingAndGlyphs\" textLength=\"8\" x=\"438\" y=\"71.1074\">B</text><line style=\"stroke: #383838; stroke-width: 1.5;\" x1=\"410\" x2=\"474\" y1=\"78.9375\" y2=\"78.9375\"/><text fill=\"#000000\" font-family=\"sans-serif\" font-size=\"11\" lengthAdjust=\"spacingAndGlyphs\" textLength=\"29\" x=\"415\" y=\"109.9526\">p1: P</text><text fill=\"#000000\" font-family=\"sans-serif\" font-size=\"11\" lengthAdjust=\"spacingAndGlyphs\" textLength=\"38\" x=\"415\" y=\"122.7573\">p2: ~P</text><line style=\"stroke: #383838; stroke-width: 1.0;\" x1=\"410\" x2=\"427\" y1=\"93.3398\" y2=\"93.3398\"/><text fill=\"#000000\" font-family=\"sans-serif\" font-size=\"11\" lengthAdjust=\"spacingAndGlyphs\" textLength=\"30\" x=\"427\" y=\"96.6479\">ports</text><line style=\"stroke: #383838; stroke-width: 1.0;\" x1=\"457\" x2=\"474\" y1=\"93.3398\" y2=\"93.3398\"/></a><!--MD5=[60a26617385b1d2d0262a64233df1f8d]\n",
       "class E6--><a href=\"psysml:d4b825d6-e011-4f07-a399-999db6b99ea3\" target=\"_top\" title=\"psysml:d4b825d6-e011-4f07-a399-999db6b99ea3\" xlink:actuate=\"onRequest\" xlink:href=\"psysml:d4b825d6-e011-4f07-a399-999db6b99ea3\" xlink:show=\"new\" xlink:title=\"psysml:d4b825d6-e011-4f07-a399-999db6b99ea3\" xlink:type=\"simple\"><rect fill=\"#FFFFFF\" height=\"88.3516\" id=\"E6\" style=\"stroke: #383838; stroke-width: 1.5;\" width=\"110\" x=\"264\" y=\"41\"/><text fill=\"#000000\" font-family=\"sans-serif\" font-size=\"12\" font-style=\"italic\" lengthAdjust=\"spacingAndGlyphs\" textLength=\"108\" x=\"265\" y=\"57.1387\">«connection def»</text><text fill=\"#000000\" font-family=\"sans-serif\" font-size=\"12\" lengthAdjust=\"spacingAndGlyphs\" textLength=\"8\" x=\"315\" y=\"71.1074\">A</text><line style=\"stroke: #383838; stroke-width: 1.5;\" x1=\"265\" x2=\"373\" y1=\"78.9375\" y2=\"78.9375\"/><text fill=\"#000000\" font-family=\"sans-serif\" font-size=\"11\" lengthAdjust=\"spacingAndGlyphs\" textLength=\"29\" x=\"270\" y=\"109.9526\">p1: P</text><text fill=\"#000000\" font-family=\"sans-serif\" font-size=\"11\" lengthAdjust=\"spacingAndGlyphs\" textLength=\"38\" x=\"270\" y=\"122.7573\">p2: ~P</text><line style=\"stroke: #383838; stroke-width: 1.0;\" x1=\"265\" x2=\"304\" y1=\"93.3398\" y2=\"93.3398\"/><text fill=\"#000000\" font-family=\"sans-serif\" font-size=\"11\" lengthAdjust=\"spacingAndGlyphs\" textLength=\"30\" x=\"304\" y=\"96.6479\">ports</text><line style=\"stroke: #383838; stroke-width: 1.0;\" x1=\"334\" x2=\"373\" y1=\"93.3398\" y2=\"93.3398\"/></a><!--MD5=[fd4143e9d270a159db93a4ea2a975926]\n",
       "class E9--><a href=\"psysml:0fcf03a3-0a94-497d-adc5-5270b49e59d7\" target=\"_top\" title=\"psysml:0fcf03a3-0a94-497d-adc5-5270b49e59d7\" xlink:actuate=\"onRequest\" xlink:href=\"psysml:0fcf03a3-0a94-497d-adc5-5270b49e59d7\" xlink:show=\"new\" xlink:title=\"psysml:0fcf03a3-0a94-497d-adc5-5270b49e59d7\" xlink:type=\"simple\"><rect fill=\"#FFFFFF\" height=\"88.3516\" id=\"E9\" style=\"stroke: #383838; stroke-width: 1.5;\" width=\"96\" x=\"133\" y=\"41\"/><text fill=\"#000000\" font-family=\"sans-serif\" font-size=\"12\" font-style=\"italic\" lengthAdjust=\"spacingAndGlyphs\" textLength=\"94\" x=\"134\" y=\"57.1387\">«interface def»</text><text fill=\"#000000\" font-family=\"sans-serif\" font-size=\"12\" lengthAdjust=\"spacingAndGlyphs\" textLength=\"3\" x=\"179.5\" y=\"71.1074\">I</text><line style=\"stroke: #383838; stroke-width: 1.5;\" x1=\"134\" x2=\"228\" y1=\"78.9375\" y2=\"78.9375\"/><text fill=\"#000000\" font-family=\"sans-serif\" font-size=\"11\" lengthAdjust=\"spacingAndGlyphs\" textLength=\"29\" x=\"139\" y=\"109.9526\">p1: P</text><text fill=\"#000000\" font-family=\"sans-serif\" font-size=\"11\" lengthAdjust=\"spacingAndGlyphs\" textLength=\"38\" x=\"139\" y=\"122.7573\">p2: ~P</text><line style=\"stroke: #383838; stroke-width: 1.0;\" x1=\"134\" x2=\"166\" y1=\"93.3398\" y2=\"93.3398\"/><text fill=\"#000000\" font-family=\"sans-serif\" font-size=\"11\" lengthAdjust=\"spacingAndGlyphs\" textLength=\"30\" x=\"166\" y=\"96.6479\">ports</text><line style=\"stroke: #383838; stroke-width: 1.0;\" x1=\"196\" x2=\"228\" y1=\"93.3398\" y2=\"93.3398\"/></a><!--MD5=[49a0ec8f00dab7302a31f22d0f0fe584]\n",
       "class E12--><a href=\"psysml:fa47a610-a800-429f-b665-228f1e266500\" target=\"_top\" title=\"psysml:fa47a610-a800-429f-b665-228f1e266500\" xlink:actuate=\"onRequest\" xlink:href=\"psysml:fa47a610-a800-429f-b665-228f1e266500\" xlink:show=\"new\" xlink:title=\"psysml:fa47a610-a800-429f-b665-228f1e266500\" xlink:type=\"simple\"><rect fill=\"#FFFFFF\" height=\"45.9375\" id=\"E12\" style=\"stroke: #383838; stroke-width: 1.5;\" width=\"66\" x=\"32\" y=\"62\"/><text fill=\"#000000\" font-family=\"sans-serif\" font-size=\"12\" font-style=\"italic\" lengthAdjust=\"spacingAndGlyphs\" textLength=\"64\" x=\"33\" y=\"78.1387\">«part def»</text><text fill=\"#000000\" font-family=\"sans-serif\" font-size=\"12\" lengthAdjust=\"spacingAndGlyphs\" textLength=\"16\" x=\"57\" y=\"92.1074\">B1</text><line style=\"stroke: #383838; stroke-width: 1.5;\" x1=\"33\" x2=\"97\" y1=\"99.9375\" y2=\"99.9375\"/></a><!--MD5=[ee3c913d1a06f366521f9ef512b67efe]\n",
       "class E13--><a href=\"psysml:593a6524-9b3f-4082-a23e-8ed96ff9a715\" target=\"_top\" title=\"psysml:593a6524-9b3f-4082-a23e-8ed96ff9a715\" xlink:actuate=\"onRequest\" xlink:href=\"psysml:593a6524-9b3f-4082-a23e-8ed96ff9a715\" xlink:show=\"new\" xlink:title=\"psysml:593a6524-9b3f-4082-a23e-8ed96ff9a715\" xlink:type=\"simple\"><rect fill=\"#FFFFFF\" height=\"88.3516\" id=\"E13\" rx=\"10\" ry=\"10\" style=\"stroke: #383838; stroke-width: 1.5;\" width=\"50\" x=\"40\" y=\"189\"/><text fill=\"#000000\" font-family=\"sans-serif\" font-size=\"12\" font-style=\"italic\" lengthAdjust=\"spacingAndGlyphs\" textLength=\"40\" x=\"45\" y=\"205.1387\">«part»</text><text fill=\"#000000\" font-family=\"sans-serif\" font-size=\"12\" lengthAdjust=\"spacingAndGlyphs\" textLength=\"8\" x=\"61\" y=\"219.1074\">p</text><line style=\"stroke: #383838; stroke-width: 1.5;\" x1=\"41\" x2=\"89\" y1=\"226.9375\" y2=\"226.9375\"/><text fill=\"#000000\" font-family=\"sans-serif\" font-size=\"11\" lengthAdjust=\"spacingAndGlyphs\" textLength=\"29\" x=\"46\" y=\"257.9526\">p1: P</text><text fill=\"#000000\" font-family=\"sans-serif\" font-size=\"11\" lengthAdjust=\"spacingAndGlyphs\" textLength=\"38\" x=\"46\" y=\"270.7573\">p2: ~P</text><line style=\"stroke: #383838; stroke-width: 1.0;\" x1=\"41\" x2=\"50\" y1=\"241.3398\" y2=\"241.3398\"/><text fill=\"#000000\" font-family=\"sans-serif\" font-size=\"11\" lengthAdjust=\"spacingAndGlyphs\" textLength=\"30\" x=\"50\" y=\"244.6479\">ports</text><line style=\"stroke: #383838; stroke-width: 1.0;\" x1=\"80\" x2=\"89\" y1=\"241.3398\" y2=\"241.3398\"/></a><!--MD5=[062ed86c389d1a88f61c6380d0491e17]\n",
       "reverse link E12 to E13--><a href=\"psysml:593a6524-9b3f-4082-a23e-8ed96ff9a715\" target=\"_top\" title=\"psysml:593a6524-9b3f-4082-a23e-8ed96ff9a715\" xlink:actuate=\"onRequest\" xlink:href=\"psysml:593a6524-9b3f-4082-a23e-8ed96ff9a715\" xlink:show=\"new\" xlink:title=\"psysml:593a6524-9b3f-4082-a23e-8ed96ff9a715\" xlink:type=\"simple\"><path d=\"M65,121.12 C65,121.12 65,188.9 65,188.9 \" fill=\"none\" id=\"E12&lt;-E13\" style=\"stroke: #383838; stroke-width: 1.0;\"/><polygon fill=\"#383838\" points=\"65,108.12,61.0066,114.1244,65.0132,120.12,69.0066,114.1156,65,108.12\" style=\"stroke: #383838; stroke-width: 1.0;\"/></a><!--MD5=[99945dfb91e662656d453981158e7902]\n",
       "@startuml\r\n",
       "skinparam linetype ortho\r\n",
       "skinparam monochrome true\r\n",
       "skinparam classbackgroundcolor white\r\n",
       "skinparam shadowing false\r\n",
       "skinparam wrapWidth 300\r\n",
       "hide circle\r\n",
       "\r\n",
       "package \"ConjugationTest\" as E1  [[psysml:db7199af-e574-4214-8b26-5aef0dbbdb0a ]]  {\r\n",
       "comp def \"P\" as E2  <<(T,blue)port def>> [[psysml:eee324b7-6ef1-4f74-bb85-9d01b884a0c3 ]] {\r\n",
       "}\r\n",
       "comp def \"B\" as E3  <<(T,blue)part def>> [[psysml:987ad9e8-156c-405b-94a5-0234bd5ef961 ]] {\r\n",
       "- - ports - -\r\n",
       "p1: P\r\n",
       "p2: ~P\r\n",
       "}\r\n",
       "comp def \"A\" as E6  <<(T,blue)connection def>> [[psysml:d4b825d6-e011-4f07-a399-999db6b99ea3 ]] {\r\n",
       "- - ports - -\r\n",
       "p1: P\r\n",
       "p2: ~P\r\n",
       "}\r\n",
       "comp def \"I\" as E9  <<(T,blue)interface def>> [[psysml:0fcf03a3-0a94-497d-adc5-5270b49e59d7 ]] {\r\n",
       "- - ports - -\r\n",
       "p1: P\r\n",
       "p2: ~P\r\n",
       "}\r\n",
       "comp def \"B1\" as E12  <<(T,blue)part def>> [[psysml:fa47a610-a800-429f-b665-228f1e266500 ]] {\r\n",
       "}\r\n",
       "comp usage \"p\" as E13  <<(T,blue)part>> [[psysml:593a6524-9b3f-4082-a23e-8ed96ff9a715 ]] {\r\n",
       "- - ports - -\r\n",
       "p1: P\r\n",
       "p2: ~P\r\n",
       "}\r\n",
       "E12 *- - E13 [[psysml:593a6524-9b3f-4082-a23e-8ed96ff9a715 ]] \r\n",
       "}\r\n",
       "@enduml\r\n",
       "\n",
       "PlantUML version 1.2020.13(Sat Jun 13 12:26:38 UTC 2020)\n",
       "(EPL source distribution)\n",
       "Java Runtime: OpenJDK Runtime Environment\n",
       "JVM: OpenJDK 64-Bit Server VM\n",
       "Default Encoding: UTF-8\n",
       "Language: en\n",
       "Country: null\n",
       "--></g></svg>"
      ]
     },
     "execution_count": 56,
     "metadata": {},
     "output_type": "execute_result"
    }
   ],
   "source": [
    "%viz --style=\"ORTHOLINE\" --view=\"Sequence\" \"ConjugationTest\""
   ]
  },
  {
   "cell_type": "code",
   "execution_count": 57,
   "id": "novel-emphasis",
   "metadata": {
    "execution": {
     "iopub.execute_input": "2021-03-25T13:19:06.010729Z",
     "iopub.status.busy": "2021-03-25T13:19:06.010095Z",
     "iopub.status.idle": "2021-03-25T13:19:06.709087Z",
     "shell.execute_reply": "2021-03-25T13:19:06.707510Z"
    }
   },
   "outputs": [
    {
     "data": {
      "image/svg+xml": [
       "<?xml version=\"1.0\" encoding=\"UTF-8\" standalone=\"no\"?><svg xmlns=\"http://www.w3.org/2000/svg\" xmlns:xlink=\"http://www.w3.org/1999/xlink\" contentScriptType=\"application/ecmascript\" contentStyleType=\"text/css\" height=\"305px\" preserveAspectRatio=\"none\" style=\"width:614px;height:305px;\" version=\"1.1\" viewBox=\"0 0 614 305\" width=\"614px\" zoomAndPan=\"magnify\"><defs/><g><!--MD5=[fbc87193dbaf4d95561dea2c320d4a47]\n",
       "cluster E1--><a href=\"psysml:db7199af-e574-4214-8b26-5aef0dbbdb0a\" target=\"_top\" title=\"psysml:db7199af-e574-4214-8b26-5aef0dbbdb0a\" xlink:actuate=\"onRequest\" xlink:href=\"psysml:db7199af-e574-4214-8b26-5aef0dbbdb0a\" xlink:show=\"new\" xlink:title=\"psysml:db7199af-e574-4214-8b26-5aef0dbbdb0a\" xlink:type=\"simple\"><polygon fill=\"#FFFFFF\" points=\"16,6,151,6,158,28.2969,592,28.2969,592,293,16,293,16,6\" style=\"stroke: #000000; stroke-width: 1.5;\"/><line style=\"stroke: #000000; stroke-width: 1.5;\" x1=\"16\" x2=\"158\" y1=\"28.2969\" y2=\"28.2969\"/><text fill=\"#000000\" font-family=\"sans-serif\" font-size=\"14\" font-weight=\"bold\" lengthAdjust=\"spacingAndGlyphs\" textLength=\"129\" x=\"20\" y=\"20.9951\">ConjugationTest</text></a><!--MD5=[b4997ac47864f28c2f74865a473b2911]\n",
       "class E2--><a href=\"psysml:eee324b7-6ef1-4f74-bb85-9d01b884a0c3\" target=\"_top\" title=\"psysml:eee324b7-6ef1-4f74-bb85-9d01b884a0c3\" xlink:actuate=\"onRequest\" xlink:href=\"psysml:eee324b7-6ef1-4f74-bb85-9d01b884a0c3\" xlink:show=\"new\" xlink:title=\"psysml:eee324b7-6ef1-4f74-bb85-9d01b884a0c3\" xlink:type=\"simple\"><rect fill=\"#FFFFFF\" height=\"45.9375\" id=\"E2\" style=\"stroke: #383838; stroke-width: 1.5;\" width=\"66\" x=\"510\" y=\"62\"/><text fill=\"#000000\" font-family=\"sans-serif\" font-size=\"12\" font-style=\"italic\" lengthAdjust=\"spacingAndGlyphs\" textLength=\"64\" x=\"511\" y=\"78.1387\">«port def»</text><text fill=\"#000000\" font-family=\"sans-serif\" font-size=\"12\" lengthAdjust=\"spacingAndGlyphs\" textLength=\"8\" x=\"539\" y=\"92.1074\">P</text><line style=\"stroke: #383838; stroke-width: 1.5;\" x1=\"511\" x2=\"575\" y1=\"99.9375\" y2=\"99.9375\"/></a><!--MD5=[09b614a08d8cba4a07c9adeb5e0fee81]\n",
       "class E3--><a href=\"psysml:987ad9e8-156c-405b-94a5-0234bd5ef961\" target=\"_top\" title=\"psysml:987ad9e8-156c-405b-94a5-0234bd5ef961\" xlink:actuate=\"onRequest\" xlink:href=\"psysml:987ad9e8-156c-405b-94a5-0234bd5ef961\" xlink:show=\"new\" xlink:title=\"psysml:987ad9e8-156c-405b-94a5-0234bd5ef961\" xlink:type=\"simple\"><rect fill=\"#FFFFFF\" height=\"88.3516\" id=\"E3\" style=\"stroke: #383838; stroke-width: 1.5;\" width=\"66\" x=\"409\" y=\"41\"/><text fill=\"#000000\" font-family=\"sans-serif\" font-size=\"12\" font-style=\"italic\" lengthAdjust=\"spacingAndGlyphs\" textLength=\"64\" x=\"410\" y=\"57.1387\">«part def»</text><text fill=\"#000000\" font-family=\"sans-serif\" font-size=\"12\" lengthAdjust=\"spacingAndGlyphs\" textLength=\"8\" x=\"438\" y=\"71.1074\">B</text><line style=\"stroke: #383838; stroke-width: 1.5;\" x1=\"410\" x2=\"474\" y1=\"78.9375\" y2=\"78.9375\"/><text fill=\"#000000\" font-family=\"sans-serif\" font-size=\"11\" lengthAdjust=\"spacingAndGlyphs\" textLength=\"29\" x=\"415\" y=\"109.9526\">p1: P</text><text fill=\"#000000\" font-family=\"sans-serif\" font-size=\"11\" lengthAdjust=\"spacingAndGlyphs\" textLength=\"38\" x=\"415\" y=\"122.7573\">p2: ~P</text><line style=\"stroke: #383838; stroke-width: 1.0;\" x1=\"410\" x2=\"427\" y1=\"93.3398\" y2=\"93.3398\"/><text fill=\"#000000\" font-family=\"sans-serif\" font-size=\"11\" lengthAdjust=\"spacingAndGlyphs\" textLength=\"30\" x=\"427\" y=\"96.6479\">ports</text><line style=\"stroke: #383838; stroke-width: 1.0;\" x1=\"457\" x2=\"474\" y1=\"93.3398\" y2=\"93.3398\"/></a><!--MD5=[60a26617385b1d2d0262a64233df1f8d]\n",
       "class E6--><a href=\"psysml:d4b825d6-e011-4f07-a399-999db6b99ea3\" target=\"_top\" title=\"psysml:d4b825d6-e011-4f07-a399-999db6b99ea3\" xlink:actuate=\"onRequest\" xlink:href=\"psysml:d4b825d6-e011-4f07-a399-999db6b99ea3\" xlink:show=\"new\" xlink:title=\"psysml:d4b825d6-e011-4f07-a399-999db6b99ea3\" xlink:type=\"simple\"><rect fill=\"#FFFFFF\" height=\"88.3516\" id=\"E6\" style=\"stroke: #383838; stroke-width: 1.5;\" width=\"110\" x=\"264\" y=\"41\"/><text fill=\"#000000\" font-family=\"sans-serif\" font-size=\"12\" font-style=\"italic\" lengthAdjust=\"spacingAndGlyphs\" textLength=\"108\" x=\"265\" y=\"57.1387\">«connection def»</text><text fill=\"#000000\" font-family=\"sans-serif\" font-size=\"12\" lengthAdjust=\"spacingAndGlyphs\" textLength=\"8\" x=\"315\" y=\"71.1074\">A</text><line style=\"stroke: #383838; stroke-width: 1.5;\" x1=\"265\" x2=\"373\" y1=\"78.9375\" y2=\"78.9375\"/><text fill=\"#000000\" font-family=\"sans-serif\" font-size=\"11\" lengthAdjust=\"spacingAndGlyphs\" textLength=\"29\" x=\"270\" y=\"109.9526\">p1: P</text><text fill=\"#000000\" font-family=\"sans-serif\" font-size=\"11\" lengthAdjust=\"spacingAndGlyphs\" textLength=\"38\" x=\"270\" y=\"122.7573\">p2: ~P</text><line style=\"stroke: #383838; stroke-width: 1.0;\" x1=\"265\" x2=\"304\" y1=\"93.3398\" y2=\"93.3398\"/><text fill=\"#000000\" font-family=\"sans-serif\" font-size=\"11\" lengthAdjust=\"spacingAndGlyphs\" textLength=\"30\" x=\"304\" y=\"96.6479\">ports</text><line style=\"stroke: #383838; stroke-width: 1.0;\" x1=\"334\" x2=\"373\" y1=\"93.3398\" y2=\"93.3398\"/></a><!--MD5=[fd4143e9d270a159db93a4ea2a975926]\n",
       "class E9--><a href=\"psysml:0fcf03a3-0a94-497d-adc5-5270b49e59d7\" target=\"_top\" title=\"psysml:0fcf03a3-0a94-497d-adc5-5270b49e59d7\" xlink:actuate=\"onRequest\" xlink:href=\"psysml:0fcf03a3-0a94-497d-adc5-5270b49e59d7\" xlink:show=\"new\" xlink:title=\"psysml:0fcf03a3-0a94-497d-adc5-5270b49e59d7\" xlink:type=\"simple\"><rect fill=\"#FFFFFF\" height=\"88.3516\" id=\"E9\" style=\"stroke: #383838; stroke-width: 1.5;\" width=\"96\" x=\"133\" y=\"41\"/><text fill=\"#000000\" font-family=\"sans-serif\" font-size=\"12\" font-style=\"italic\" lengthAdjust=\"spacingAndGlyphs\" textLength=\"94\" x=\"134\" y=\"57.1387\">«interface def»</text><text fill=\"#000000\" font-family=\"sans-serif\" font-size=\"12\" lengthAdjust=\"spacingAndGlyphs\" textLength=\"3\" x=\"179.5\" y=\"71.1074\">I</text><line style=\"stroke: #383838; stroke-width: 1.5;\" x1=\"134\" x2=\"228\" y1=\"78.9375\" y2=\"78.9375\"/><text fill=\"#000000\" font-family=\"sans-serif\" font-size=\"11\" lengthAdjust=\"spacingAndGlyphs\" textLength=\"29\" x=\"139\" y=\"109.9526\">p1: P</text><text fill=\"#000000\" font-family=\"sans-serif\" font-size=\"11\" lengthAdjust=\"spacingAndGlyphs\" textLength=\"38\" x=\"139\" y=\"122.7573\">p2: ~P</text><line style=\"stroke: #383838; stroke-width: 1.0;\" x1=\"134\" x2=\"166\" y1=\"93.3398\" y2=\"93.3398\"/><text fill=\"#000000\" font-family=\"sans-serif\" font-size=\"11\" lengthAdjust=\"spacingAndGlyphs\" textLength=\"30\" x=\"166\" y=\"96.6479\">ports</text><line style=\"stroke: #383838; stroke-width: 1.0;\" x1=\"196\" x2=\"228\" y1=\"93.3398\" y2=\"93.3398\"/></a><!--MD5=[49a0ec8f00dab7302a31f22d0f0fe584]\n",
       "class E12--><a href=\"psysml:fa47a610-a800-429f-b665-228f1e266500\" target=\"_top\" title=\"psysml:fa47a610-a800-429f-b665-228f1e266500\" xlink:actuate=\"onRequest\" xlink:href=\"psysml:fa47a610-a800-429f-b665-228f1e266500\" xlink:show=\"new\" xlink:title=\"psysml:fa47a610-a800-429f-b665-228f1e266500\" xlink:type=\"simple\"><rect fill=\"#FFFFFF\" height=\"45.9375\" id=\"E12\" style=\"stroke: #383838; stroke-width: 1.5;\" width=\"66\" x=\"32\" y=\"62\"/><text fill=\"#000000\" font-family=\"sans-serif\" font-size=\"12\" font-style=\"italic\" lengthAdjust=\"spacingAndGlyphs\" textLength=\"64\" x=\"33\" y=\"78.1387\">«part def»</text><text fill=\"#000000\" font-family=\"sans-serif\" font-size=\"12\" lengthAdjust=\"spacingAndGlyphs\" textLength=\"16\" x=\"57\" y=\"92.1074\">B1</text><line style=\"stroke: #383838; stroke-width: 1.5;\" x1=\"33\" x2=\"97\" y1=\"99.9375\" y2=\"99.9375\"/></a><!--MD5=[ee3c913d1a06f366521f9ef512b67efe]\n",
       "class E13--><a href=\"psysml:593a6524-9b3f-4082-a23e-8ed96ff9a715\" target=\"_top\" title=\"psysml:593a6524-9b3f-4082-a23e-8ed96ff9a715\" xlink:actuate=\"onRequest\" xlink:href=\"psysml:593a6524-9b3f-4082-a23e-8ed96ff9a715\" xlink:show=\"new\" xlink:title=\"psysml:593a6524-9b3f-4082-a23e-8ed96ff9a715\" xlink:type=\"simple\"><rect fill=\"#FFFFFF\" height=\"88.3516\" id=\"E13\" rx=\"10\" ry=\"10\" style=\"stroke: #383838; stroke-width: 1.5;\" width=\"50\" x=\"40\" y=\"189\"/><text fill=\"#000000\" font-family=\"sans-serif\" font-size=\"12\" font-style=\"italic\" lengthAdjust=\"spacingAndGlyphs\" textLength=\"40\" x=\"45\" y=\"205.1387\">«part»</text><text fill=\"#000000\" font-family=\"sans-serif\" font-size=\"12\" lengthAdjust=\"spacingAndGlyphs\" textLength=\"8\" x=\"61\" y=\"219.1074\">p</text><line style=\"stroke: #383838; stroke-width: 1.5;\" x1=\"41\" x2=\"89\" y1=\"226.9375\" y2=\"226.9375\"/><text fill=\"#000000\" font-family=\"sans-serif\" font-size=\"11\" lengthAdjust=\"spacingAndGlyphs\" textLength=\"29\" x=\"46\" y=\"257.9526\">p1: P</text><text fill=\"#000000\" font-family=\"sans-serif\" font-size=\"11\" lengthAdjust=\"spacingAndGlyphs\" textLength=\"38\" x=\"46\" y=\"270.7573\">p2: ~P</text><line style=\"stroke: #383838; stroke-width: 1.0;\" x1=\"41\" x2=\"50\" y1=\"241.3398\" y2=\"241.3398\"/><text fill=\"#000000\" font-family=\"sans-serif\" font-size=\"11\" lengthAdjust=\"spacingAndGlyphs\" textLength=\"30\" x=\"50\" y=\"244.6479\">ports</text><line style=\"stroke: #383838; stroke-width: 1.0;\" x1=\"80\" x2=\"89\" y1=\"241.3398\" y2=\"241.3398\"/></a><!--MD5=[062ed86c389d1a88f61c6380d0491e17]\n",
       "reverse link E12 to E13--><a href=\"psysml:593a6524-9b3f-4082-a23e-8ed96ff9a715\" target=\"_top\" title=\"psysml:593a6524-9b3f-4082-a23e-8ed96ff9a715\" xlink:actuate=\"onRequest\" xlink:href=\"psysml:593a6524-9b3f-4082-a23e-8ed96ff9a715\" xlink:show=\"new\" xlink:title=\"psysml:593a6524-9b3f-4082-a23e-8ed96ff9a715\" xlink:type=\"simple\"><path d=\"M65,121.12 C65,121.12 65,188.9 65,188.9 \" fill=\"none\" id=\"E12&lt;-E13\" style=\"stroke: #383838; stroke-width: 1.0;\"/><polygon fill=\"#383838\" points=\"65,108.12,61.0066,114.1244,65.0132,120.12,69.0066,114.1156,65,108.12\" style=\"stroke: #383838; stroke-width: 1.0;\"/></a><!--MD5=[99945dfb91e662656d453981158e7902]\n",
       "@startuml\r\n",
       "skinparam linetype ortho\r\n",
       "skinparam monochrome true\r\n",
       "skinparam classbackgroundcolor white\r\n",
       "skinparam shadowing false\r\n",
       "skinparam wrapWidth 300\r\n",
       "hide circle\r\n",
       "\r\n",
       "package \"ConjugationTest\" as E1  [[psysml:db7199af-e574-4214-8b26-5aef0dbbdb0a ]]  {\r\n",
       "comp def \"P\" as E2  <<(T,blue)port def>> [[psysml:eee324b7-6ef1-4f74-bb85-9d01b884a0c3 ]] {\r\n",
       "}\r\n",
       "comp def \"B\" as E3  <<(T,blue)part def>> [[psysml:987ad9e8-156c-405b-94a5-0234bd5ef961 ]] {\r\n",
       "- - ports - -\r\n",
       "p1: P\r\n",
       "p2: ~P\r\n",
       "}\r\n",
       "comp def \"A\" as E6  <<(T,blue)connection def>> [[psysml:d4b825d6-e011-4f07-a399-999db6b99ea3 ]] {\r\n",
       "- - ports - -\r\n",
       "p1: P\r\n",
       "p2: ~P\r\n",
       "}\r\n",
       "comp def \"I\" as E9  <<(T,blue)interface def>> [[psysml:0fcf03a3-0a94-497d-adc5-5270b49e59d7 ]] {\r\n",
       "- - ports - -\r\n",
       "p1: P\r\n",
       "p2: ~P\r\n",
       "}\r\n",
       "comp def \"B1\" as E12  <<(T,blue)part def>> [[psysml:fa47a610-a800-429f-b665-228f1e266500 ]] {\r\n",
       "}\r\n",
       "comp usage \"p\" as E13  <<(T,blue)part>> [[psysml:593a6524-9b3f-4082-a23e-8ed96ff9a715 ]] {\r\n",
       "- - ports - -\r\n",
       "p1: P\r\n",
       "p2: ~P\r\n",
       "}\r\n",
       "E12 *- - E13 [[psysml:593a6524-9b3f-4082-a23e-8ed96ff9a715 ]] \r\n",
       "}\r\n",
       "@enduml\r\n",
       "\n",
       "PlantUML version 1.2020.13(Sat Jun 13 12:26:38 UTC 2020)\n",
       "(EPL source distribution)\n",
       "Java Runtime: OpenJDK Runtime Environment\n",
       "JVM: OpenJDK 64-Bit Server VM\n",
       "Default Encoding: UTF-8\n",
       "Language: en\n",
       "Country: null\n",
       "--></g></svg>"
      ]
     },
     "execution_count": 57,
     "metadata": {},
     "output_type": "execute_result"
    }
   ],
   "source": [
    "%viz --style=\"ORTHOLINE\" --view=\"MIXED\" \"ConjugationTest\""
   ]
  }
 ],
 "metadata": {
  "kernelspec": {
   "display_name": "SysML",
   "language": "sysml",
   "name": "sysml"
  },
  "language_info": {
   "codemirror_mode": "sysml",
   "file_extension": ".sysml",
   "mimetype": "text/x-sysml",
   "name": "SysML",
   "pygments_lexer": "java",
   "version": "1.0.0"
  }
 },
 "nbformat": 4,
 "nbformat_minor": 5
}
