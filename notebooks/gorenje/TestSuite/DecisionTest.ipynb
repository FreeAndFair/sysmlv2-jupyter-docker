{
 "cells": [
  {
   "cell_type": "markdown",
   "id": "collectible-wagner",
   "metadata": {},
   "source": [
    "# SysML v2 Test Suite\n",
    "\n",
    "This can notebook can be cleared using menu `Edit --> Clear All Outputs` and then all cells can be\n",
    "run using menu `Run --> Run All Cells`.\n",
    "\n",
    "**WARNING**: This file is generated, all modifications here will be ignored.\n"
   ]
  },
  {
   "cell_type": "markdown",
   "id": "shared-fireplace",
   "metadata": {},
   "source": [
    "## File: ../../sysml/src/examples/Simple Tests/DecisionTest.sysml"
   ]
  },
  {
   "cell_type": "code",
   "execution_count": 1,
   "id": "failing-perth",
   "metadata": {
    "execution": {
     "iopub.execute_input": "2021-03-26T13:02:54.867028Z",
     "iopub.status.busy": "2021-03-26T13:02:54.858855Z",
     "iopub.status.idle": "2021-03-26T13:02:55.300395Z",
     "shell.execute_reply": "2021-03-26T13:02:55.299876Z"
    }
   },
   "outputs": [
    {
     "data": {
      "text/plain": [
       "ActionDefinition DecisionTest (1c8208eb-b30d-4a93-8014-0ada04d3dead)\n"
      ]
     },
     "execution_count": 1,
     "metadata": {},
     "output_type": "execute_result"
    }
   ],
   "source": [
    "action def DecisionTest {\n",
    "\tattribute x = 1;\n",
    "\t\n",
    "\tdecide 'test x';\n",
    "\tif x == 1 then A1; \n",
    "\tif x > 1 then A2;\n",
    "\telse A3; \n",
    "\t\n",
    "\tthen decide; \n",
    "\tif true then A1;\n",
    "\tif false then A2;\n",
    "\t\n",
    "\taction A1;\n",
    "\taction A2;\n",
    "\taction A3;\n",
    "\t\n",
    "\tsuccession S first A1 \n",
    "\t\tif x == 0 then A2;\n",
    "\t\t\n",
    "\tfirst A3;\n",
    "\t\tif x > 0 then 'test x';\n",
    "}"
   ]
  },
  {
   "cell_type": "code",
   "execution_count": 2,
   "id": "detected-placement",
   "metadata": {
    "execution": {
     "iopub.execute_input": "2021-03-26T13:02:55.352676Z",
     "iopub.status.busy": "2021-03-26T13:02:55.351887Z",
     "iopub.status.idle": "2021-03-26T13:02:55.839032Z",
     "shell.execute_reply": "2021-03-26T13:02:55.837533Z"
    }
   },
   "outputs": [
    {
     "data": {
      "image/svg+xml": [
       "<?xml version=\"1.0\" encoding=\"UTF-8\" standalone=\"no\"?><svg xmlns=\"http://www.w3.org/2000/svg\" xmlns:xlink=\"http://www.w3.org/1999/xlink\" contentScriptType=\"application/ecmascript\" contentStyleType=\"text/css\" height=\"271px\" preserveAspectRatio=\"none\" style=\"width:871px;height:271px;background:#000000;\" version=\"1.1\" viewBox=\"0 0 871 271\" width=\"871px\" zoomAndPan=\"magnify\"><defs/><g><rect fill=\"#141704\" height=\"1\" style=\"stroke: #141704; stroke-width: 1.0;\" width=\"1\" x=\"0\" y=\"0\"/><rect fill=\"#33FF02\" height=\"21.2969\" style=\"stroke: #33FF02; stroke-width: 1.0;\" width=\"864\" x=\"5\" y=\"5\"/><text fill=\"#000000\" font-family=\"sans-serif\" font-size=\"14\" font-weight=\"bold\" lengthAdjust=\"spacingAndGlyphs\" textLength=\"178\" x=\"6\" y=\"20\">[From string (line 13) ]</text><text fill=\"#33FF02\" font-family=\"sans-serif\" font-size=\"14\" font-weight=\"bold\" lengthAdjust=\"spacingAndGlyphs\" textLength=\"0\" x=\"10\" y=\"40.2969\"/><text fill=\"#33FF02\" font-family=\"sans-serif\" font-size=\"14\" font-weight=\"bold\" lengthAdjust=\"spacingAndGlyphs\" textLength=\"79\" x=\"5\" y=\"56.5938\">@startuml</text><text fill=\"#33FF02\" font-family=\"sans-serif\" font-size=\"14\" font-weight=\"bold\" lengthAdjust=\"spacingAndGlyphs\" textLength=\"228\" x=\"10\" y=\"72.8906\">skinparam monochrome true</text><text fill=\"#33FF02\" font-family=\"sans-serif\" font-size=\"14\" font-weight=\"bold\" lengthAdjust=\"spacingAndGlyphs\" textLength=\"309\" x=\"5\" y=\"89.1875\">skinparam classbackgroundcolor white</text><text fill=\"#33FF02\" font-family=\"sans-serif\" font-size=\"14\" font-weight=\"bold\" lengthAdjust=\"spacingAndGlyphs\" textLength=\"215\" x=\"5\" y=\"105.4844\">skinparam shadowing false</text><text fill=\"#33FF02\" font-family=\"sans-serif\" font-size=\"14\" font-weight=\"bold\" lengthAdjust=\"spacingAndGlyphs\" textLength=\"206\" x=\"5\" y=\"121.7813\">skinparam wrapWidth 300</text><text fill=\"#33FF02\" font-family=\"sans-serif\" font-size=\"14\" font-weight=\"bold\" lengthAdjust=\"spacingAndGlyphs\" textLength=\"82\" x=\"5\" y=\"138.0781\">hide circle</text><text fill=\"#33FF02\" font-family=\"sans-serif\" font-size=\"14\" font-weight=\"bold\" lengthAdjust=\"spacingAndGlyphs\" textLength=\"0\" x=\"10\" y=\"154.375\"/><text fill=\"#33FF02\" font-family=\"sans-serif\" font-size=\"14\" font-weight=\"bold\" lengthAdjust=\"spacingAndGlyphs\" textLength=\"864\" x=\"5\" y=\"170.6719\">rec def \"DecisionTest\" as E1  &lt;&lt;(T,blue)action def&gt;&gt; [[psysml:a1000395-17a0-47e2-a13d-a24f0cfe83d5 ]] {</text><text fill=\"#33FF02\" font-family=\"sans-serif\" font-size=\"14\" font-weight=\"bold\" lengthAdjust=\"spacingAndGlyphs\" textLength=\"616\" x=\"5\" y=\"186.9688\">portout \"$result\" as E2  [[psysml:7254dab9-2ab0-4b4a-abf0-a8118207784b ]]</text><text fill=\"#33FF02\" font-family=\"sans-serif\" font-size=\"14\" font-weight=\"bold\" lengthAdjust=\"spacingAndGlyphs\" textLength=\"862\" x=\"5\" y=\"203.2656\">rec usage \"test x\" as E3  &lt;&lt;(T,blue)decisionNode&gt;&gt; [[psysml:7423d99a-f58c-40be-9ad8-b7209845a744 ]] {</text><text fill=\"#33FF02\" font-family=\"sans-serif\" font-size=\"14\" font-weight=\"bold\" lengthAdjust=\"spacingAndGlyphs\" textLength=\"10\" x=\"5\" y=\"219.5625\">}</text><text fill=\"#33FF02\" font-family=\"sans-serif\" font-size=\"14\" font-weight=\"bold\" lengthAdjust=\"spacingAndGlyphs\" textLength=\"0\" x=\"10\" y=\"235.8594\"/><text fill=\"#33FF02\" font-family=\"sans-serif\" font-size=\"14\" font-weight=\"bold\" lengthAdjust=\"spacingAndGlyphs\" textLength=\"10\" x=\"5\" y=\"252.1563\">{</text><text fill=\"#FF0000\" font-family=\"sans-serif\" font-size=\"14\" font-weight=\"bold\" lengthAdjust=\"spacingAndGlyphs\" textLength=\"106\" x=\"10\" y=\"268.4531\">Syntax Error?</text><!--MD5=[87009c73f970fe477556f3f4ce7aace4]\n",
       "@startuml\r\n",
       " skinparam monochrome true\r\n",
       "skinparam classbackgroundcolor white\r\n",
       "skinparam shadowing false\r\n",
       "skinparam wrapWidth 300\r\n",
       "hide circle\r\n",
       "\r\n",
       "rec def \"DecisionTest\" as E1  <<(T,blue)action def>> [[psysml:a1000395-17a0-47e2-a13d-a24f0cfe83d5 ]] {\r\n",
       "portout \"$result\" as E2  [[psysml:7254dab9-2ab0-4b4a-abf0-a8118207784b ]] \r\n",
       "rec usage \"test x\" as E3  <<(T,blue)decisionNode>> [[psysml:7423d99a-f58c-40be-9ad8-b7209845a744 ]] {\r\n",
       "}\r\n",
       "\r\n",
       "{\r\n",
       "portout \"$result\" as E4  [[psysml:bceec577-4538-432a-b269-09d95bc9a7ff ]] \r\n",
       "portin \"$x\" as E5  [[psysml:8234b737-8b11-4286-80d5-041d60fcfb58 ]] \r\n",
       "portin \"$y\" as E6  [[psysml:7c1f2e2e-5ea9-440e-a0d7-bde68b741d93 ]] \r\n",
       "portout \"$result\" as E7  [[psysml:a1e656b7-cadc-4b3b-a176-c8c2724f8a9f ]] \r\n",
       "}\r\n",
       "\r\n",
       "{\r\n",
       "portout \"$result\" as E8  [[psysml:5e578666-287e-4471-a202-0fa6d9af79c3 ]] \r\n",
       "portin \"$x\" as E9  [[psysml:2e73bbcc-e1fb-462b-9f93-4a649e4b75e6 ]] \r\n",
       "portin \"$y\" as E10  [[psysml:167c4655-6099-4dd6-a555-0c294c9d5979 ]] \r\n",
       "portout \"$result\" as E11  [[psysml:c40f3f95-b4a1-4b20-9a7d-2c01b041f687 ]] \r\n",
       "}\r\n",
       "\r\n",
       "{\r\n",
       "}\r\n",
       "\r\n",
       "{\r\n",
       "}\r\n",
       "\r\n",
       "{\r\n",
       "portout \"$result\" as E12  [[psysml:9e913d35-b492-435f-9373-c501110f1eb9 ]] \r\n",
       "}\r\n",
       "\r\n",
       "{\r\n",
       "portout \"$result\" as E13  [[psysml:158e60b3-268a-4c98-b93c-7961067d80aa ]] \r\n",
       "}\r\n",
       "\r\n",
       "rec usage \"A1\" as E14  <<(T,blue)action>> [[psysml:eb7d07f9-3793-4a0f-a0fd-eb934e5bd3c4 ]] {\r\n",
       "}\r\n",
       "\r\n",
       "rec usage \"A2\" as E15  <<(T,blue)action>> [[psysml:dabafcbf-a70a-41b1-a12f-b84f33147f9e ]] {\r\n",
       "}\r\n",
       "\r\n",
       "rec usage \"A3\" as E16  <<(T,blue)action>> [[psysml:b33bccfd-da91-4304-87b6-52ca1fd70cda ]] {\r\n",
       "}\r\n",
       "\r\n",
       "rec usage \"S\" as E17  <<(T,blue)transition>> [[psysml:b992d367-0404-4f63-871a-2665bf27ec50 ]] {\r\n",
       "rec usage \"A1\" as E18  <<(T,blue)action>> [[psysml:eb7d07f9-3793-4a0f-a0fd-eb934e5bd3c4 ]] {\r\n",
       "}\r\n",
       "\r\n",
       "portout \"$result\" as E19  [[psysml:6c1c6685-5e76-423a-8864-05a29151138c ]] \r\n",
       "portin \"$x\" as E20  [[psysml:c04f5b6e-c0c0-4f8c-b615-27e7186d2d69 ]] \r\n",
       "portin \"$y\" as E21  [[psysml:9909dfe5-9552-4cba-a2bc-4098d95f63c2 ]] \r\n",
       "portout \"$result\" as E22  [[psysml:bcbff8ec-917c-48b5-9f11-9f30a636696f ]] \r\n",
       "}\r\n",
       "\r\n",
       "rec usage \"A3\" as E23  <<(T,blue)action>> [[psysml:b33bccfd-da91-4304-87b6-52ca1fd70cda ]] {\r\n",
       "}\r\n",
       "\r\n",
       "{\r\n",
       "portout \"$result\" as E24  [[psysml:361e6a6e-e017-4926-975f-092030fcbf35 ]] \r\n",
       "portin \"$x\" as E25  [[psysml:01ce4d67-3e05-4f8c-92a8-b88c5ffa81ca ]] \r\n",
       "portin \"$y\" as E26  [[psysml:9a2f800a-bedb-42f6-8036-b5924649c324 ]] \r\n",
       "portout \"$result\" as E27  [[psysml:320da7bf-4cff-49a0-90e2-2e9a2a898b7b ]] \r\n",
       "}\r\n",
       "\r\n",
       "}\r\n",
       "\r\n",
       "@enduml\r\n",
       "\n",
       "PlantUML version 1.2020.13(Sat Jun 13 12:26:38 UTC 2020)\n",
       "(EPL source distribution)\n",
       "Java Runtime: OpenJDK Runtime Environment\n",
       "JVM: OpenJDK 64-Bit Server VM\n",
       "Default Encoding: UTF-8\n",
       "Language: en\n",
       "Country: null\n",
       "--></g></svg>"
      ]
     },
     "execution_count": 2,
     "metadata": {},
     "output_type": "execute_result"
    }
   ],
   "source": [
    "%viz --style=\"COMPTREE\" --view=\"Default\" \"DecisionTest\""
   ]
  },
  {
   "cell_type": "code",
   "execution_count": 3,
   "id": "parallel-overhead",
   "metadata": {
    "execution": {
     "iopub.execute_input": "2021-03-26T13:02:55.888813Z",
     "iopub.status.busy": "2021-03-26T13:02:55.888205Z",
     "iopub.status.idle": "2021-03-26T13:02:56.119224Z",
     "shell.execute_reply": "2021-03-26T13:02:56.118333Z"
    }
   },
   "outputs": [
    {
     "data": {
      "image/svg+xml": [
       "<?xml version=\"1.0\" encoding=\"UTF-8\" standalone=\"no\"?><svg xmlns=\"http://www.w3.org/2000/svg\" xmlns:xlink=\"http://www.w3.org/1999/xlink\" contentScriptType=\"application/ecmascript\" contentStyleType=\"text/css\" height=\"207px\" preserveAspectRatio=\"none\" style=\"width:109px;height:207px;\" version=\"1.1\" viewBox=\"0 0 109 207\" width=\"109px\" zoomAndPan=\"magnify\"><defs/><g><!--MD5=[43c9051892ef23e1a46a86907403d788]\n",
       "class E1--><a href=\"psysml:a1000395-17a0-47e2-a13d-a24f0cfe83d5\" target=\"_top\" title=\"psysml:a1000395-17a0-47e2-a13d-a24f0cfe83d5\" xlink:actuate=\"onRequest\" xlink:href=\"psysml:a1000395-17a0-47e2-a13d-a24f0cfe83d5\" xlink:show=\"new\" xlink:title=\"psysml:a1000395-17a0-47e2-a13d-a24f0cfe83d5\" xlink:type=\"simple\"><rect fill=\"#FFFFFF\" height=\"189.9844\" id=\"E1\" style=\"stroke: #383838; stroke-width: 1.5;\" width=\"91\" x=\"7\" y=\"7\"/><text fill=\"#000000\" font-family=\"sans-serif\" font-size=\"12\" font-style=\"italic\" lengthAdjust=\"spacingAndGlyphs\" textLength=\"77\" x=\"14\" y=\"23.1387\">«action def»</text><text fill=\"#000000\" font-family=\"sans-serif\" font-size=\"12\" lengthAdjust=\"spacingAndGlyphs\" textLength=\"80\" x=\"12.5\" y=\"37.1074\">DecisionTest</text><line style=\"stroke: #383838; stroke-width: 1.5;\" x1=\"8\" x2=\"97\" y1=\"44.9375\" y2=\"44.9375\"/><text fill=\"#000000\" font-family=\"sans-serif\" font-size=\"11\" lengthAdjust=\"spacingAndGlyphs\" textLength=\"6\" x=\"13\" y=\"75.9526\">x</text><line style=\"stroke: #383838; stroke-width: 1.0;\" x1=\"8\" x2=\"25\" y1=\"59.3398\" y2=\"59.3398\"/><text fill=\"#000000\" font-family=\"sans-serif\" font-size=\"11\" lengthAdjust=\"spacingAndGlyphs\" textLength=\"55\" x=\"25\" y=\"62.6479\">attributes</text><line style=\"stroke: #383838; stroke-width: 1.0;\" x1=\"80\" x2=\"97\" y1=\"59.3398\" y2=\"59.3398\"/><text fill=\"#000000\" font-family=\"sans-serif\" font-size=\"11\" lengthAdjust=\"spacingAndGlyphs\" textLength=\"14\" x=\"13\" y=\"105.562\">A1</text><text fill=\"#000000\" font-family=\"sans-serif\" font-size=\"11\" lengthAdjust=\"spacingAndGlyphs\" textLength=\"14\" x=\"13\" y=\"118.3667\">A2</text><text fill=\"#000000\" font-family=\"sans-serif\" font-size=\"11\" lengthAdjust=\"spacingAndGlyphs\" textLength=\"14\" x=\"13\" y=\"131.1714\">A3</text><line style=\"stroke: #383838; stroke-width: 1.0;\" x1=\"8\" x2=\"32\" y1=\"88.9492\" y2=\"88.9492\"/><text fill=\"#000000\" font-family=\"sans-serif\" font-size=\"11\" lengthAdjust=\"spacingAndGlyphs\" textLength=\"41\" x=\"32\" y=\"92.2573\">actions</text><line style=\"stroke: #383838; stroke-width: 1.0;\" x1=\"73\" x2=\"97\" y1=\"88.9492\" y2=\"88.9492\"/><text fill=\"#000000\" font-family=\"sans-serif\" font-size=\"11\" lengthAdjust=\"spacingAndGlyphs\" textLength=\"32\" x=\"13\" y=\"160.7808\">test x</text><line style=\"stroke: #383838; stroke-width: 1.0;\" x1=\"8\" x2=\"11\" y1=\"144.168\" y2=\"144.168\"/><text fill=\"#000000\" font-family=\"sans-serif\" font-size=\"11\" lengthAdjust=\"spacingAndGlyphs\" textLength=\"83\" x=\"11\" y=\"147.4761\">decisionNodes</text><line style=\"stroke: #383838; stroke-width: 1.0;\" x1=\"94\" x2=\"97\" y1=\"144.168\" y2=\"144.168\"/><text fill=\"#000000\" font-family=\"sans-serif\" font-size=\"11\" lengthAdjust=\"spacingAndGlyphs\" textLength=\"8\" x=\"13\" y=\"190.3901\">S</text><line style=\"stroke: #383838; stroke-width: 1.0;\" x1=\"8\" x2=\"22\" y1=\"173.7773\" y2=\"173.7773\"/><text fill=\"#000000\" font-family=\"sans-serif\" font-size=\"11\" lengthAdjust=\"spacingAndGlyphs\" textLength=\"61\" x=\"22\" y=\"177.0854\">transitions</text><line style=\"stroke: #383838; stroke-width: 1.0;\" x1=\"83\" x2=\"97\" y1=\"173.7773\" y2=\"173.7773\"/></a><!--MD5=[a471ceba8e57f1788c77ff630e7d5117]\n",
       "@startuml\r\n",
       " skinparam monochrome true\r\n",
       "skinparam classbackgroundcolor white\r\n",
       "skinparam shadowing false\r\n",
       "skinparam wrapWidth 300\r\n",
       "hide circle\r\n",
       "\r\n",
       "comp def \"DecisionTest\" as E1  <<(T,blue)action def>> [[psysml:a1000395-17a0-47e2-a13d-a24f0cfe83d5 ]] {\r\n",
       "- - attributes - -\r\n",
       "x\r\n",
       "- - actions - -\r\n",
       "A1\r\n",
       "A2\r\n",
       "A3\r\n",
       "- - decisionNodes - -\r\n",
       "test x\r\n",
       "- - transitions - -\r\n",
       "S\r\n",
       "}\r\n",
       "@enduml\r\n",
       "\n",
       "PlantUML version 1.2020.13(Sat Jun 13 12:26:38 UTC 2020)\n",
       "(EPL source distribution)\n",
       "Java Runtime: OpenJDK Runtime Environment\n",
       "JVM: OpenJDK 64-Bit Server VM\n",
       "Default Encoding: UTF-8\n",
       "Language: en\n",
       "Country: null\n",
       "--></g></svg>"
      ]
     },
     "execution_count": 3,
     "metadata": {},
     "output_type": "execute_result"
    }
   ],
   "source": [
    "%viz --style=\"COMPTREE\" --view=\"Tree\" \"DecisionTest\""
   ]
  },
  {
   "cell_type": "code",
   "execution_count": 4,
   "id": "brief-compression",
   "metadata": {
    "execution": {
     "iopub.execute_input": "2021-03-26T13:02:56.171327Z",
     "iopub.status.busy": "2021-03-26T13:02:56.170349Z",
     "iopub.status.idle": "2021-03-26T13:02:56.184549Z",
     "shell.execute_reply": "2021-03-26T13:02:56.183384Z"
    }
   },
   "outputs": [
    {
     "data": {
      "image/svg+xml": [
       "<?xml version=\"1.0\" encoding=\"UTF-8\" standalone=\"no\"?><svg xmlns=\"http://www.w3.org/2000/svg\" xmlns:xlink=\"http://www.w3.org/1999/xlink\" contentScriptType=\"application/ecmascript\" contentStyleType=\"text/css\" height=\"12px\" preserveAspectRatio=\"none\" style=\"width:12px;height:12px;\" version=\"1.1\" viewBox=\"0 0 12 12\" width=\"12px\" zoomAndPan=\"magnify\"><defs/><g><!--MD5=[f19188ef49e11757b5c46753f95d9edc]\n",
       "@startuml\r\n",
       " skinparam monochrome true\r\n",
       "skinparam classbackgroundcolor white\r\n",
       "skinparam shadowing false\r\n",
       "skinparam wrapWidth 300\r\n",
       "hide circle\r\n",
       "\r\n",
       "@enduml\r\n",
       "\n",
       "PlantUML version 1.2020.13(Sat Jun 13 12:26:38 UTC 2020)\n",
       "(EPL source distribution)\n",
       "Java Runtime: OpenJDK Runtime Environment\n",
       "JVM: OpenJDK 64-Bit Server VM\n",
       "Default Encoding: UTF-8\n",
       "Language: en\n",
       "Country: null\n",
       "--></g></svg>"
      ]
     },
     "execution_count": 4,
     "metadata": {},
     "output_type": "execute_result"
    }
   ],
   "source": [
    "%viz --style=\"COMPTREE\" --view=\"State\" \"DecisionTest\""
   ]
  },
  {
   "cell_type": "code",
   "execution_count": 5,
   "id": "meaningful-region",
   "metadata": {
    "execution": {
     "iopub.execute_input": "2021-03-26T13:02:56.239838Z",
     "iopub.status.busy": "2021-03-26T13:02:56.237639Z",
     "iopub.status.idle": "2021-03-26T13:02:56.270868Z",
     "shell.execute_reply": "2021-03-26T13:02:56.269560Z"
    }
   },
   "outputs": [
    {
     "data": {
      "image/svg+xml": [
       "<?xml version=\"1.0\" encoding=\"UTF-8\" standalone=\"no\"?><svg xmlns=\"http://www.w3.org/2000/svg\" xmlns:xlink=\"http://www.w3.org/1999/xlink\" contentScriptType=\"application/ecmascript\" contentStyleType=\"text/css\" height=\"60px\" preserveAspectRatio=\"none\" style=\"width:109px;height:60px;\" version=\"1.1\" viewBox=\"0 0 109 60\" width=\"109px\" zoomAndPan=\"magnify\"><defs/><g><g id=\"E1\"><a href=\"psysml:a1000395-17a0-47e2-a13d-a24f0cfe83d5\" target=\"_top\" title=\"psysml:a1000395-17a0-47e2-a13d-a24f0cfe83d5\" xlink:actuate=\"onRequest\" xlink:href=\"psysml:a1000395-17a0-47e2-a13d-a24f0cfe83d5\" xlink:show=\"new\" xlink:title=\"psysml:a1000395-17a0-47e2-a13d-a24f0cfe83d5\" xlink:type=\"simple\"><rect fill=\"#FFFFFF\" height=\"42.9375\" id=\"E1\" style=\"stroke: #383838; stroke-width: 1.5;\" width=\"91\" x=\"7\" y=\"7\"/><rect fill=\"#F8F8F8\" height=\"37.9375\" style=\"stroke: #383838; stroke-width: 1.5;\" width=\"91\" x=\"7\" y=\"7\"/><text fill=\"#000000\" font-family=\"sans-serif\" font-size=\"12\" font-style=\"italic\" lengthAdjust=\"spacingAndGlyphs\" textLength=\"77\" x=\"14\" y=\"23.1387\">«action def»</text><text fill=\"#000000\" font-family=\"sans-serif\" font-size=\"12\" lengthAdjust=\"spacingAndGlyphs\" textLength=\"80\" x=\"12.5\" y=\"37.1074\">DecisionTest</text></a></g><!--MD5=[a659c9a46f9eff19b95cda38e394f80f]\n",
       "@startuml\r\n",
       "skinparam ranksep 8\r\n",
       "skinparam rectangle {\r\n",
       " backgroundColor<<block>> LightGreen\r\n",
       "}\r\n",
       " skinparam monochrome true\r\n",
       "skinparam classbackgroundcolor white\r\n",
       "skinparam shadowing false\r\n",
       "skinparam wrapWidth 300\r\n",
       "hide circle\r\n",
       "\r\n",
       "def \"DecisionTest\" as E1  <<(T,blue)action def>> [[psysml:a1000395-17a0-47e2-a13d-a24f0cfe83d5 ]] \r\n",
       "@enduml\r\n",
       "\n",
       "PlantUML version 1.2020.13(Sat Jun 13 12:26:38 UTC 2020)\n",
       "(EPL source distribution)\n",
       "Java Runtime: OpenJDK Runtime Environment\n",
       "JVM: OpenJDK 64-Bit Server VM\n",
       "Default Encoding: UTF-8\n",
       "Language: en\n",
       "Country: null\n",
       "--></g></svg>"
      ]
     },
     "execution_count": 5,
     "metadata": {},
     "output_type": "execute_result"
    }
   ],
   "source": [
    "%viz --style=\"COMPTREE\" --view=\"Interconnection\" \"DecisionTest\""
   ]
  },
  {
   "cell_type": "code",
   "execution_count": 6,
   "id": "contained-partner",
   "metadata": {
    "execution": {
     "iopub.execute_input": "2021-03-26T13:02:56.325763Z",
     "iopub.status.busy": "2021-03-26T13:02:56.322813Z",
     "iopub.status.idle": "2021-03-26T13:02:56.380353Z",
     "shell.execute_reply": "2021-03-26T13:02:56.378936Z"
    }
   },
   "outputs": [
    {
     "data": {
      "image/svg+xml": [
       "<?xml version=\"1.0\" encoding=\"UTF-8\" standalone=\"no\"?><svg xmlns=\"http://www.w3.org/2000/svg\" xmlns:xlink=\"http://www.w3.org/1999/xlink\" contentScriptType=\"application/ecmascript\" contentStyleType=\"text/css\" height=\"288px\" preserveAspectRatio=\"none\" style=\"width:871px;height:288px;background:#000000;\" version=\"1.1\" viewBox=\"0 0 871 288\" width=\"871px\" zoomAndPan=\"magnify\"><defs/><g><rect fill=\"#001C1A\" height=\"1\" style=\"stroke: #001C1A; stroke-width: 1.0;\" width=\"1\" x=\"0\" y=\"0\"/><rect fill=\"#33FF02\" height=\"21.2969\" style=\"stroke: #33FF02; stroke-width: 1.0;\" width=\"864\" x=\"5\" y=\"5\"/><text fill=\"#000000\" font-family=\"sans-serif\" font-size=\"14\" font-weight=\"bold\" lengthAdjust=\"spacingAndGlyphs\" textLength=\"178\" x=\"6\" y=\"20\">[From string (line 14) ]</text><text fill=\"#33FF02\" font-family=\"sans-serif\" font-size=\"14\" font-weight=\"bold\" lengthAdjust=\"spacingAndGlyphs\" textLength=\"0\" x=\"10\" y=\"40.2969\"/><text fill=\"#33FF02\" font-family=\"sans-serif\" font-size=\"14\" font-weight=\"bold\" lengthAdjust=\"spacingAndGlyphs\" textLength=\"79\" x=\"5\" y=\"56.5938\">@startuml</text><text fill=\"#33FF02\" font-family=\"sans-serif\" font-size=\"14\" font-weight=\"bold\" lengthAdjust=\"spacingAndGlyphs\" textLength=\"165\" x=\"5\" y=\"72.8906\">skinparam ranksep 8</text><text fill=\"#33FF02\" font-family=\"sans-serif\" font-size=\"14\" font-weight=\"bold\" lengthAdjust=\"spacingAndGlyphs\" textLength=\"228\" x=\"10\" y=\"89.1875\">skinparam monochrome true</text><text fill=\"#33FF02\" font-family=\"sans-serif\" font-size=\"14\" font-weight=\"bold\" lengthAdjust=\"spacingAndGlyphs\" textLength=\"309\" x=\"5\" y=\"105.4844\">skinparam classbackgroundcolor white</text><text fill=\"#33FF02\" font-family=\"sans-serif\" font-size=\"14\" font-weight=\"bold\" lengthAdjust=\"spacingAndGlyphs\" textLength=\"215\" x=\"5\" y=\"121.7813\">skinparam shadowing false</text><text fill=\"#33FF02\" font-family=\"sans-serif\" font-size=\"14\" font-weight=\"bold\" lengthAdjust=\"spacingAndGlyphs\" textLength=\"206\" x=\"5\" y=\"138.0781\">skinparam wrapWidth 300</text><text fill=\"#33FF02\" font-family=\"sans-serif\" font-size=\"14\" font-weight=\"bold\" lengthAdjust=\"spacingAndGlyphs\" textLength=\"82\" x=\"5\" y=\"154.375\">hide circle</text><text fill=\"#33FF02\" font-family=\"sans-serif\" font-size=\"14\" font-weight=\"bold\" lengthAdjust=\"spacingAndGlyphs\" textLength=\"0\" x=\"10\" y=\"170.6719\"/><text fill=\"#33FF02\" font-family=\"sans-serif\" font-size=\"14\" font-weight=\"bold\" lengthAdjust=\"spacingAndGlyphs\" textLength=\"864\" x=\"5\" y=\"186.9688\">rec def \"DecisionTest\" as E1  &lt;&lt;(T,blue)action def&gt;&gt; [[psysml:a1000395-17a0-47e2-a13d-a24f0cfe83d5 ]] {</text><text fill=\"#33FF02\" font-family=\"sans-serif\" font-size=\"14\" font-weight=\"bold\" lengthAdjust=\"spacingAndGlyphs\" textLength=\"616\" x=\"5\" y=\"203.2656\">portout \"$result\" as E2  [[psysml:7254dab9-2ab0-4b4a-abf0-a8118207784b ]]</text><text fill=\"#33FF02\" font-family=\"sans-serif\" font-size=\"14\" font-weight=\"bold\" lengthAdjust=\"spacingAndGlyphs\" textLength=\"862\" x=\"5\" y=\"219.5625\">rec usage \"test x\" as E3  &lt;&lt;(T,blue)decisionNode&gt;&gt; [[psysml:7423d99a-f58c-40be-9ad8-b7209845a744 ]] {</text><text fill=\"#33FF02\" font-family=\"sans-serif\" font-size=\"14\" font-weight=\"bold\" lengthAdjust=\"spacingAndGlyphs\" textLength=\"10\" x=\"5\" y=\"235.8594\">}</text><text fill=\"#33FF02\" font-family=\"sans-serif\" font-size=\"14\" font-weight=\"bold\" lengthAdjust=\"spacingAndGlyphs\" textLength=\"0\" x=\"10\" y=\"252.1563\"/><text fill=\"#33FF02\" font-family=\"sans-serif\" font-size=\"14\" font-weight=\"bold\" lengthAdjust=\"spacingAndGlyphs\" textLength=\"10\" x=\"5\" y=\"268.4531\">{</text><text fill=\"#FF0000\" font-family=\"sans-serif\" font-size=\"14\" font-weight=\"bold\" lengthAdjust=\"spacingAndGlyphs\" textLength=\"106\" x=\"10\" y=\"284.75\">Syntax Error?</text><!--MD5=[7516c77d9d768ef5155fcaa2c62c149d]\n",
       "@startuml\r\n",
       "skinparam ranksep 8\r\n",
       " skinparam monochrome true\r\n",
       "skinparam classbackgroundcolor white\r\n",
       "skinparam shadowing false\r\n",
       "skinparam wrapWidth 300\r\n",
       "hide circle\r\n",
       "\r\n",
       "rec def \"DecisionTest\" as E1  <<(T,blue)action def>> [[psysml:a1000395-17a0-47e2-a13d-a24f0cfe83d5 ]] {\r\n",
       "portout \"$result\" as E2  [[psysml:7254dab9-2ab0-4b4a-abf0-a8118207784b ]] \r\n",
       "rec usage \"test x\" as E3  <<(T,blue)decisionNode>> [[psysml:7423d99a-f58c-40be-9ad8-b7209845a744 ]] {\r\n",
       "}\r\n",
       "\r\n",
       "{\r\n",
       "portout \"$result\" as E4  [[psysml:bceec577-4538-432a-b269-09d95bc9a7ff ]] \r\n",
       "portin \"$x\" as E5  [[psysml:8234b737-8b11-4286-80d5-041d60fcfb58 ]] \r\n",
       "portin \"$y\" as E6  [[psysml:7c1f2e2e-5ea9-440e-a0d7-bde68b741d93 ]] \r\n",
       "portout \"$result\" as E7  [[psysml:a1e656b7-cadc-4b3b-a176-c8c2724f8a9f ]] \r\n",
       "}\r\n",
       "\r\n",
       "{\r\n",
       "portout \"$result\" as E8  [[psysml:5e578666-287e-4471-a202-0fa6d9af79c3 ]] \r\n",
       "portin \"$x\" as E9  [[psysml:2e73bbcc-e1fb-462b-9f93-4a649e4b75e6 ]] \r\n",
       "portin \"$y\" as E10  [[psysml:167c4655-6099-4dd6-a555-0c294c9d5979 ]] \r\n",
       "portout \"$result\" as E11  [[psysml:c40f3f95-b4a1-4b20-9a7d-2c01b041f687 ]] \r\n",
       "}\r\n",
       "\r\n",
       "{\r\n",
       "}\r\n",
       "\r\n",
       "{\r\n",
       "}\r\n",
       "\r\n",
       "{\r\n",
       "portout \"$result\" as E12  [[psysml:9e913d35-b492-435f-9373-c501110f1eb9 ]] \r\n",
       "}\r\n",
       "\r\n",
       "{\r\n",
       "portout \"$result\" as E13  [[psysml:158e60b3-268a-4c98-b93c-7961067d80aa ]] \r\n",
       "}\r\n",
       "\r\n",
       "rec usage \"A1\" as E14  <<(T,blue)action>> [[psysml:eb7d07f9-3793-4a0f-a0fd-eb934e5bd3c4 ]] {\r\n",
       "}\r\n",
       "\r\n",
       "rec usage \"A2\" as E15  <<(T,blue)action>> [[psysml:dabafcbf-a70a-41b1-a12f-b84f33147f9e ]] {\r\n",
       "}\r\n",
       "\r\n",
       "rec usage \"A3\" as E16  <<(T,blue)action>> [[psysml:b33bccfd-da91-4304-87b6-52ca1fd70cda ]] {\r\n",
       "}\r\n",
       "\r\n",
       "rec usage \"S\" as E17  <<(T,blue)transition>> [[psysml:b992d367-0404-4f63-871a-2665bf27ec50 ]] {\r\n",
       "rec usage \"A1\" as E18  <<(T,blue)action>> [[psysml:eb7d07f9-3793-4a0f-a0fd-eb934e5bd3c4 ]] {\r\n",
       "}\r\n",
       "\r\n",
       "portout \"$result\" as E19  [[psysml:6c1c6685-5e76-423a-8864-05a29151138c ]] \r\n",
       "portin \"$x\" as E20  [[psysml:c04f5b6e-c0c0-4f8c-b615-27e7186d2d69 ]] \r\n",
       "portin \"$y\" as E21  [[psysml:9909dfe5-9552-4cba-a2bc-4098d95f63c2 ]] \r\n",
       "portout \"$result\" as E22  [[psysml:bcbff8ec-917c-48b5-9f11-9f30a636696f ]] \r\n",
       "}\r\n",
       "\r\n",
       "rec usage \"A3\" as E23  <<(T,blue)action>> [[psysml:b33bccfd-da91-4304-87b6-52ca1fd70cda ]] {\r\n",
       "}\r\n",
       "\r\n",
       "{\r\n",
       "portout \"$result\" as E24  [[psysml:361e6a6e-e017-4926-975f-092030fcbf35 ]] \r\n",
       "portin \"$x\" as E25  [[psysml:01ce4d67-3e05-4f8c-92a8-b88c5ffa81ca ]] \r\n",
       "portin \"$y\" as E26  [[psysml:9a2f800a-bedb-42f6-8036-b5924649c324 ]] \r\n",
       "portout \"$result\" as E27  [[psysml:320da7bf-4cff-49a0-90e2-2e9a2a898b7b ]] \r\n",
       "}\r\n",
       "\r\n",
       "}\r\n",
       "\r\n",
       "@enduml\r\n",
       "\n",
       "PlantUML version 1.2020.13(Sat Jun 13 12:26:38 UTC 2020)\n",
       "(EPL source distribution)\n",
       "Java Runtime: OpenJDK Runtime Environment\n",
       "JVM: OpenJDK 64-Bit Server VM\n",
       "Default Encoding: UTF-8\n",
       "Language: en\n",
       "Country: null\n",
       "--></g></svg>"
      ]
     },
     "execution_count": 6,
     "metadata": {},
     "output_type": "execute_result"
    }
   ],
   "source": [
    "%viz --style=\"COMPTREE\" --view=\"Action\" \"DecisionTest\""
   ]
  },
  {
   "cell_type": "code",
   "execution_count": 7,
   "id": "first-crown",
   "metadata": {
    "execution": {
     "iopub.execute_input": "2021-03-26T13:02:56.434489Z",
     "iopub.status.busy": "2021-03-26T13:02:56.432991Z",
     "iopub.status.idle": "2021-03-26T13:02:56.562594Z",
     "shell.execute_reply": "2021-03-26T13:02:56.561610Z"
    }
   },
   "outputs": [
    {
     "data": {
      "image/svg+xml": [
       "<?xml version=\"1.0\" encoding=\"UTF-8\" standalone=\"no\"?><svg xmlns=\"http://www.w3.org/2000/svg\" xmlns:xlink=\"http://www.w3.org/1999/xlink\" contentScriptType=\"application/ecmascript\" contentStyleType=\"text/css\" height=\"207px\" preserveAspectRatio=\"none\" style=\"width:109px;height:207px;\" version=\"1.1\" viewBox=\"0 0 109 207\" width=\"109px\" zoomAndPan=\"magnify\"><defs/><g><!--MD5=[43c9051892ef23e1a46a86907403d788]\n",
       "class E1--><a href=\"psysml:a1000395-17a0-47e2-a13d-a24f0cfe83d5\" target=\"_top\" title=\"psysml:a1000395-17a0-47e2-a13d-a24f0cfe83d5\" xlink:actuate=\"onRequest\" xlink:href=\"psysml:a1000395-17a0-47e2-a13d-a24f0cfe83d5\" xlink:show=\"new\" xlink:title=\"psysml:a1000395-17a0-47e2-a13d-a24f0cfe83d5\" xlink:type=\"simple\"><rect fill=\"#FFFFFF\" height=\"189.9844\" id=\"E1\" style=\"stroke: #383838; stroke-width: 1.5;\" width=\"91\" x=\"7\" y=\"7\"/><text fill=\"#000000\" font-family=\"sans-serif\" font-size=\"12\" font-style=\"italic\" lengthAdjust=\"spacingAndGlyphs\" textLength=\"77\" x=\"14\" y=\"23.1387\">«action def»</text><text fill=\"#000000\" font-family=\"sans-serif\" font-size=\"12\" lengthAdjust=\"spacingAndGlyphs\" textLength=\"80\" x=\"12.5\" y=\"37.1074\">DecisionTest</text><line style=\"stroke: #383838; stroke-width: 1.5;\" x1=\"8\" x2=\"97\" y1=\"44.9375\" y2=\"44.9375\"/><text fill=\"#000000\" font-family=\"sans-serif\" font-size=\"11\" lengthAdjust=\"spacingAndGlyphs\" textLength=\"6\" x=\"13\" y=\"75.9526\">x</text><line style=\"stroke: #383838; stroke-width: 1.0;\" x1=\"8\" x2=\"25\" y1=\"59.3398\" y2=\"59.3398\"/><text fill=\"#000000\" font-family=\"sans-serif\" font-size=\"11\" lengthAdjust=\"spacingAndGlyphs\" textLength=\"55\" x=\"25\" y=\"62.6479\">attributes</text><line style=\"stroke: #383838; stroke-width: 1.0;\" x1=\"80\" x2=\"97\" y1=\"59.3398\" y2=\"59.3398\"/><text fill=\"#000000\" font-family=\"sans-serif\" font-size=\"11\" lengthAdjust=\"spacingAndGlyphs\" textLength=\"14\" x=\"13\" y=\"105.562\">A1</text><text fill=\"#000000\" font-family=\"sans-serif\" font-size=\"11\" lengthAdjust=\"spacingAndGlyphs\" textLength=\"14\" x=\"13\" y=\"118.3667\">A2</text><text fill=\"#000000\" font-family=\"sans-serif\" font-size=\"11\" lengthAdjust=\"spacingAndGlyphs\" textLength=\"14\" x=\"13\" y=\"131.1714\">A3</text><line style=\"stroke: #383838; stroke-width: 1.0;\" x1=\"8\" x2=\"32\" y1=\"88.9492\" y2=\"88.9492\"/><text fill=\"#000000\" font-family=\"sans-serif\" font-size=\"11\" lengthAdjust=\"spacingAndGlyphs\" textLength=\"41\" x=\"32\" y=\"92.2573\">actions</text><line style=\"stroke: #383838; stroke-width: 1.0;\" x1=\"73\" x2=\"97\" y1=\"88.9492\" y2=\"88.9492\"/><text fill=\"#000000\" font-family=\"sans-serif\" font-size=\"11\" lengthAdjust=\"spacingAndGlyphs\" textLength=\"32\" x=\"13\" y=\"160.7808\">test x</text><line style=\"stroke: #383838; stroke-width: 1.0;\" x1=\"8\" x2=\"11\" y1=\"144.168\" y2=\"144.168\"/><text fill=\"#000000\" font-family=\"sans-serif\" font-size=\"11\" lengthAdjust=\"spacingAndGlyphs\" textLength=\"83\" x=\"11\" y=\"147.4761\">decisionNodes</text><line style=\"stroke: #383838; stroke-width: 1.0;\" x1=\"94\" x2=\"97\" y1=\"144.168\" y2=\"144.168\"/><text fill=\"#000000\" font-family=\"sans-serif\" font-size=\"11\" lengthAdjust=\"spacingAndGlyphs\" textLength=\"8\" x=\"13\" y=\"190.3901\">S</text><line style=\"stroke: #383838; stroke-width: 1.0;\" x1=\"8\" x2=\"22\" y1=\"173.7773\" y2=\"173.7773\"/><text fill=\"#000000\" font-family=\"sans-serif\" font-size=\"11\" lengthAdjust=\"spacingAndGlyphs\" textLength=\"61\" x=\"22\" y=\"177.0854\">transitions</text><line style=\"stroke: #383838; stroke-width: 1.0;\" x1=\"83\" x2=\"97\" y1=\"173.7773\" y2=\"173.7773\"/></a><!--MD5=[a471ceba8e57f1788c77ff630e7d5117]\n",
       "@startuml\r\n",
       " skinparam monochrome true\r\n",
       "skinparam classbackgroundcolor white\r\n",
       "skinparam shadowing false\r\n",
       "skinparam wrapWidth 300\r\n",
       "hide circle\r\n",
       "\r\n",
       "comp def \"DecisionTest\" as E1  <<(T,blue)action def>> [[psysml:a1000395-17a0-47e2-a13d-a24f0cfe83d5 ]] {\r\n",
       "- - attributes - -\r\n",
       "x\r\n",
       "- - actions - -\r\n",
       "A1\r\n",
       "A2\r\n",
       "A3\r\n",
       "- - decisionNodes - -\r\n",
       "test x\r\n",
       "- - transitions - -\r\n",
       "S\r\n",
       "}\r\n",
       "@enduml\r\n",
       "\n",
       "PlantUML version 1.2020.13(Sat Jun 13 12:26:38 UTC 2020)\n",
       "(EPL source distribution)\n",
       "Java Runtime: OpenJDK Runtime Environment\n",
       "JVM: OpenJDK 64-Bit Server VM\n",
       "Default Encoding: UTF-8\n",
       "Language: en\n",
       "Country: null\n",
       "--></g></svg>"
      ]
     },
     "execution_count": 7,
     "metadata": {},
     "output_type": "execute_result"
    }
   ],
   "source": [
    "%viz --style=\"COMPTREE\" --view=\"Sequence\" \"DecisionTest\""
   ]
  },
  {
   "cell_type": "code",
   "execution_count": 8,
   "id": "massive-repository",
   "metadata": {
    "execution": {
     "iopub.execute_input": "2021-03-26T13:02:56.614757Z",
     "iopub.status.busy": "2021-03-26T13:02:56.613735Z",
     "iopub.status.idle": "2021-03-26T13:02:56.637287Z",
     "shell.execute_reply": "2021-03-26T13:02:56.636556Z"
    }
   },
   "outputs": [
    {
     "data": {
      "image/svg+xml": [
       "<?xml version=\"1.0\" encoding=\"UTF-8\" standalone=\"no\"?><svg xmlns=\"http://www.w3.org/2000/svg\" xmlns:xlink=\"http://www.w3.org/1999/xlink\" contentScriptType=\"application/ecmascript\" contentStyleType=\"text/css\" height=\"271px\" preserveAspectRatio=\"none\" style=\"width:871px;height:271px;background:#000000;\" version=\"1.1\" viewBox=\"0 0 871 271\" width=\"871px\" zoomAndPan=\"magnify\"><defs/><g><rect fill=\"#160A04\" height=\"1\" style=\"stroke: #160A04; stroke-width: 1.0;\" width=\"1\" x=\"0\" y=\"0\"/><rect fill=\"#33FF02\" height=\"21.2969\" style=\"stroke: #33FF02; stroke-width: 1.0;\" width=\"864\" x=\"5\" y=\"5\"/><text fill=\"#000000\" font-family=\"sans-serif\" font-size=\"14\" font-weight=\"bold\" lengthAdjust=\"spacingAndGlyphs\" textLength=\"178\" x=\"6\" y=\"20\">[From string (line 13) ]</text><text fill=\"#33FF02\" font-family=\"sans-serif\" font-size=\"14\" font-weight=\"bold\" lengthAdjust=\"spacingAndGlyphs\" textLength=\"0\" x=\"10\" y=\"40.2969\"/><text fill=\"#33FF02\" font-family=\"sans-serif\" font-size=\"14\" font-weight=\"bold\" lengthAdjust=\"spacingAndGlyphs\" textLength=\"79\" x=\"5\" y=\"56.5938\">@startuml</text><text fill=\"#33FF02\" font-family=\"sans-serif\" font-size=\"14\" font-weight=\"bold\" lengthAdjust=\"spacingAndGlyphs\" textLength=\"228\" x=\"10\" y=\"72.8906\">skinparam monochrome true</text><text fill=\"#33FF02\" font-family=\"sans-serif\" font-size=\"14\" font-weight=\"bold\" lengthAdjust=\"spacingAndGlyphs\" textLength=\"309\" x=\"5\" y=\"89.1875\">skinparam classbackgroundcolor white</text><text fill=\"#33FF02\" font-family=\"sans-serif\" font-size=\"14\" font-weight=\"bold\" lengthAdjust=\"spacingAndGlyphs\" textLength=\"215\" x=\"5\" y=\"105.4844\">skinparam shadowing false</text><text fill=\"#33FF02\" font-family=\"sans-serif\" font-size=\"14\" font-weight=\"bold\" lengthAdjust=\"spacingAndGlyphs\" textLength=\"206\" x=\"5\" y=\"121.7813\">skinparam wrapWidth 300</text><text fill=\"#33FF02\" font-family=\"sans-serif\" font-size=\"14\" font-weight=\"bold\" lengthAdjust=\"spacingAndGlyphs\" textLength=\"82\" x=\"5\" y=\"138.0781\">hide circle</text><text fill=\"#33FF02\" font-family=\"sans-serif\" font-size=\"14\" font-weight=\"bold\" lengthAdjust=\"spacingAndGlyphs\" textLength=\"0\" x=\"10\" y=\"154.375\"/><text fill=\"#33FF02\" font-family=\"sans-serif\" font-size=\"14\" font-weight=\"bold\" lengthAdjust=\"spacingAndGlyphs\" textLength=\"864\" x=\"5\" y=\"170.6719\">rec def \"DecisionTest\" as E1  &lt;&lt;(T,blue)action def&gt;&gt; [[psysml:a1000395-17a0-47e2-a13d-a24f0cfe83d5 ]] {</text><text fill=\"#33FF02\" font-family=\"sans-serif\" font-size=\"14\" font-weight=\"bold\" lengthAdjust=\"spacingAndGlyphs\" textLength=\"616\" x=\"5\" y=\"186.9688\">portout \"$result\" as E2  [[psysml:7254dab9-2ab0-4b4a-abf0-a8118207784b ]]</text><text fill=\"#33FF02\" font-family=\"sans-serif\" font-size=\"14\" font-weight=\"bold\" lengthAdjust=\"spacingAndGlyphs\" textLength=\"862\" x=\"5\" y=\"203.2656\">rec usage \"test x\" as E3  &lt;&lt;(T,blue)decisionNode&gt;&gt; [[psysml:7423d99a-f58c-40be-9ad8-b7209845a744 ]] {</text><text fill=\"#33FF02\" font-family=\"sans-serif\" font-size=\"14\" font-weight=\"bold\" lengthAdjust=\"spacingAndGlyphs\" textLength=\"10\" x=\"5\" y=\"219.5625\">}</text><text fill=\"#33FF02\" font-family=\"sans-serif\" font-size=\"14\" font-weight=\"bold\" lengthAdjust=\"spacingAndGlyphs\" textLength=\"0\" x=\"10\" y=\"235.8594\"/><text fill=\"#33FF02\" font-family=\"sans-serif\" font-size=\"14\" font-weight=\"bold\" lengthAdjust=\"spacingAndGlyphs\" textLength=\"10\" x=\"5\" y=\"252.1563\">{</text><text fill=\"#FF0000\" font-family=\"sans-serif\" font-size=\"14\" font-weight=\"bold\" lengthAdjust=\"spacingAndGlyphs\" textLength=\"106\" x=\"10\" y=\"268.4531\">Syntax Error?</text><!--MD5=[87009c73f970fe477556f3f4ce7aace4]\n",
       "@startuml\r\n",
       " skinparam monochrome true\r\n",
       "skinparam classbackgroundcolor white\r\n",
       "skinparam shadowing false\r\n",
       "skinparam wrapWidth 300\r\n",
       "hide circle\r\n",
       "\r\n",
       "rec def \"DecisionTest\" as E1  <<(T,blue)action def>> [[psysml:a1000395-17a0-47e2-a13d-a24f0cfe83d5 ]] {\r\n",
       "portout \"$result\" as E2  [[psysml:7254dab9-2ab0-4b4a-abf0-a8118207784b ]] \r\n",
       "rec usage \"test x\" as E3  <<(T,blue)decisionNode>> [[psysml:7423d99a-f58c-40be-9ad8-b7209845a744 ]] {\r\n",
       "}\r\n",
       "\r\n",
       "{\r\n",
       "portout \"$result\" as E4  [[psysml:bceec577-4538-432a-b269-09d95bc9a7ff ]] \r\n",
       "portin \"$x\" as E5  [[psysml:8234b737-8b11-4286-80d5-041d60fcfb58 ]] \r\n",
       "portin \"$y\" as E6  [[psysml:7c1f2e2e-5ea9-440e-a0d7-bde68b741d93 ]] \r\n",
       "portout \"$result\" as E7  [[psysml:a1e656b7-cadc-4b3b-a176-c8c2724f8a9f ]] \r\n",
       "}\r\n",
       "\r\n",
       "{\r\n",
       "portout \"$result\" as E8  [[psysml:5e578666-287e-4471-a202-0fa6d9af79c3 ]] \r\n",
       "portin \"$x\" as E9  [[psysml:2e73bbcc-e1fb-462b-9f93-4a649e4b75e6 ]] \r\n",
       "portin \"$y\" as E10  [[psysml:167c4655-6099-4dd6-a555-0c294c9d5979 ]] \r\n",
       "portout \"$result\" as E11  [[psysml:c40f3f95-b4a1-4b20-9a7d-2c01b041f687 ]] \r\n",
       "}\r\n",
       "\r\n",
       "{\r\n",
       "}\r\n",
       "\r\n",
       "{\r\n",
       "}\r\n",
       "\r\n",
       "{\r\n",
       "portout \"$result\" as E12  [[psysml:9e913d35-b492-435f-9373-c501110f1eb9 ]] \r\n",
       "}\r\n",
       "\r\n",
       "{\r\n",
       "portout \"$result\" as E13  [[psysml:158e60b3-268a-4c98-b93c-7961067d80aa ]] \r\n",
       "}\r\n",
       "\r\n",
       "rec usage \"A1\" as E14  <<(T,blue)action>> [[psysml:eb7d07f9-3793-4a0f-a0fd-eb934e5bd3c4 ]] {\r\n",
       "}\r\n",
       "\r\n",
       "rec usage \"A2\" as E15  <<(T,blue)action>> [[psysml:dabafcbf-a70a-41b1-a12f-b84f33147f9e ]] {\r\n",
       "}\r\n",
       "\r\n",
       "rec usage \"A3\" as E16  <<(T,blue)action>> [[psysml:b33bccfd-da91-4304-87b6-52ca1fd70cda ]] {\r\n",
       "}\r\n",
       "\r\n",
       "rec usage \"S\" as E17  <<(T,blue)transition>> [[psysml:b992d367-0404-4f63-871a-2665bf27ec50 ]] {\r\n",
       "rec usage \"A1\" as E18  <<(T,blue)action>> [[psysml:eb7d07f9-3793-4a0f-a0fd-eb934e5bd3c4 ]] {\r\n",
       "}\r\n",
       "\r\n",
       "portout \"$result\" as E19  [[psysml:6c1c6685-5e76-423a-8864-05a29151138c ]] \r\n",
       "portin \"$x\" as E20  [[psysml:c04f5b6e-c0c0-4f8c-b615-27e7186d2d69 ]] \r\n",
       "portin \"$y\" as E21  [[psysml:9909dfe5-9552-4cba-a2bc-4098d95f63c2 ]] \r\n",
       "portout \"$result\" as E22  [[psysml:bcbff8ec-917c-48b5-9f11-9f30a636696f ]] \r\n",
       "}\r\n",
       "\r\n",
       "rec usage \"A3\" as E23  <<(T,blue)action>> [[psysml:b33bccfd-da91-4304-87b6-52ca1fd70cda ]] {\r\n",
       "}\r\n",
       "\r\n",
       "{\r\n",
       "portout \"$result\" as E24  [[psysml:361e6a6e-e017-4926-975f-092030fcbf35 ]] \r\n",
       "portin \"$x\" as E25  [[psysml:01ce4d67-3e05-4f8c-92a8-b88c5ffa81ca ]] \r\n",
       "portin \"$y\" as E26  [[psysml:9a2f800a-bedb-42f6-8036-b5924649c324 ]] \r\n",
       "portout \"$result\" as E27  [[psysml:320da7bf-4cff-49a0-90e2-2e9a2a898b7b ]] \r\n",
       "}\r\n",
       "\r\n",
       "}\r\n",
       "\r\n",
       "@enduml\r\n",
       "\n",
       "PlantUML version 1.2020.13(Sat Jun 13 12:26:38 UTC 2020)\n",
       "(EPL source distribution)\n",
       "Java Runtime: OpenJDK Runtime Environment\n",
       "JVM: OpenJDK 64-Bit Server VM\n",
       "Default Encoding: UTF-8\n",
       "Language: en\n",
       "Country: null\n",
       "--></g></svg>"
      ]
     },
     "execution_count": 8,
     "metadata": {},
     "output_type": "execute_result"
    }
   ],
   "source": [
    "%viz --style=\"COMPTREE\" --view=\"MIXED\" \"DecisionTest\""
   ]
  },
  {
   "cell_type": "code",
   "execution_count": 9,
   "id": "graphic-visit",
   "metadata": {
    "execution": {
     "iopub.execute_input": "2021-03-26T13:02:56.689066Z",
     "iopub.status.busy": "2021-03-26T13:02:56.688302Z",
     "iopub.status.idle": "2021-03-26T13:02:56.711164Z",
     "shell.execute_reply": "2021-03-26T13:02:56.709495Z"
    }
   },
   "outputs": [
    {
     "data": {
      "image/svg+xml": [
       "<?xml version=\"1.0\" encoding=\"UTF-8\" standalone=\"no\"?><svg xmlns=\"http://www.w3.org/2000/svg\" xmlns:xlink=\"http://www.w3.org/1999/xlink\" contentScriptType=\"application/ecmascript\" contentStyleType=\"text/css\" height=\"288px\" preserveAspectRatio=\"none\" style=\"width:871px;height:288px;background:#000000;\" version=\"1.1\" viewBox=\"0 0 871 288\" width=\"871px\" zoomAndPan=\"magnify\"><defs/><g><rect fill=\"#0E1B17\" height=\"1\" style=\"stroke: #0E1B17; stroke-width: 1.0;\" width=\"1\" x=\"0\" y=\"0\"/><rect fill=\"#33FF02\" height=\"21.2969\" style=\"stroke: #33FF02; stroke-width: 1.0;\" width=\"864\" x=\"5\" y=\"5\"/><text fill=\"#000000\" font-family=\"sans-serif\" font-size=\"14\" font-weight=\"bold\" lengthAdjust=\"spacingAndGlyphs\" textLength=\"178\" x=\"6\" y=\"20\">[From string (line 14) ]</text><text fill=\"#33FF02\" font-family=\"sans-serif\" font-size=\"14\" font-weight=\"bold\" lengthAdjust=\"spacingAndGlyphs\" textLength=\"0\" x=\"10\" y=\"40.2969\"/><text fill=\"#33FF02\" font-family=\"sans-serif\" font-size=\"14\" font-weight=\"bold\" lengthAdjust=\"spacingAndGlyphs\" textLength=\"79\" x=\"5\" y=\"56.5938\">@startuml</text><text fill=\"#33FF02\" font-family=\"sans-serif\" font-size=\"14\" font-weight=\"bold\" lengthAdjust=\"spacingAndGlyphs\" textLength=\"215\" x=\"5\" y=\"72.8906\">skinparam linetype polyline</text><text fill=\"#33FF02\" font-family=\"sans-serif\" font-size=\"14\" font-weight=\"bold\" lengthAdjust=\"spacingAndGlyphs\" textLength=\"228\" x=\"5\" y=\"89.1875\">skinparam monochrome true</text><text fill=\"#33FF02\" font-family=\"sans-serif\" font-size=\"14\" font-weight=\"bold\" lengthAdjust=\"spacingAndGlyphs\" textLength=\"309\" x=\"5\" y=\"105.4844\">skinparam classbackgroundcolor white</text><text fill=\"#33FF02\" font-family=\"sans-serif\" font-size=\"14\" font-weight=\"bold\" lengthAdjust=\"spacingAndGlyphs\" textLength=\"215\" x=\"5\" y=\"121.7813\">skinparam shadowing false</text><text fill=\"#33FF02\" font-family=\"sans-serif\" font-size=\"14\" font-weight=\"bold\" lengthAdjust=\"spacingAndGlyphs\" textLength=\"206\" x=\"5\" y=\"138.0781\">skinparam wrapWidth 300</text><text fill=\"#33FF02\" font-family=\"sans-serif\" font-size=\"14\" font-weight=\"bold\" lengthAdjust=\"spacingAndGlyphs\" textLength=\"82\" x=\"5\" y=\"154.375\">hide circle</text><text fill=\"#33FF02\" font-family=\"sans-serif\" font-size=\"14\" font-weight=\"bold\" lengthAdjust=\"spacingAndGlyphs\" textLength=\"0\" x=\"10\" y=\"170.6719\"/><text fill=\"#33FF02\" font-family=\"sans-serif\" font-size=\"14\" font-weight=\"bold\" lengthAdjust=\"spacingAndGlyphs\" textLength=\"864\" x=\"5\" y=\"186.9688\">rec def \"DecisionTest\" as E1  &lt;&lt;(T,blue)action def&gt;&gt; [[psysml:a1000395-17a0-47e2-a13d-a24f0cfe83d5 ]] {</text><text fill=\"#33FF02\" font-family=\"sans-serif\" font-size=\"14\" font-weight=\"bold\" lengthAdjust=\"spacingAndGlyphs\" textLength=\"616\" x=\"5\" y=\"203.2656\">portout \"$result\" as E2  [[psysml:7254dab9-2ab0-4b4a-abf0-a8118207784b ]]</text><text fill=\"#33FF02\" font-family=\"sans-serif\" font-size=\"14\" font-weight=\"bold\" lengthAdjust=\"spacingAndGlyphs\" textLength=\"862\" x=\"5\" y=\"219.5625\">rec usage \"test x\" as E3  &lt;&lt;(T,blue)decisionNode&gt;&gt; [[psysml:7423d99a-f58c-40be-9ad8-b7209845a744 ]] {</text><text fill=\"#33FF02\" font-family=\"sans-serif\" font-size=\"14\" font-weight=\"bold\" lengthAdjust=\"spacingAndGlyphs\" textLength=\"10\" x=\"5\" y=\"235.8594\">}</text><text fill=\"#33FF02\" font-family=\"sans-serif\" font-size=\"14\" font-weight=\"bold\" lengthAdjust=\"spacingAndGlyphs\" textLength=\"0\" x=\"10\" y=\"252.1563\"/><text fill=\"#33FF02\" font-family=\"sans-serif\" font-size=\"14\" font-weight=\"bold\" lengthAdjust=\"spacingAndGlyphs\" textLength=\"10\" x=\"5\" y=\"268.4531\">{</text><text fill=\"#FF0000\" font-family=\"sans-serif\" font-size=\"14\" font-weight=\"bold\" lengthAdjust=\"spacingAndGlyphs\" textLength=\"106\" x=\"10\" y=\"284.75\">Syntax Error?</text><!--MD5=[560365d5e03f62ce19270acfb9a75e6d]\n",
       "@startuml\r\n",
       "skinparam linetype polyline\r\n",
       "skinparam monochrome true\r\n",
       "skinparam classbackgroundcolor white\r\n",
       "skinparam shadowing false\r\n",
       "skinparam wrapWidth 300\r\n",
       "hide circle\r\n",
       "\r\n",
       "rec def \"DecisionTest\" as E1  <<(T,blue)action def>> [[psysml:a1000395-17a0-47e2-a13d-a24f0cfe83d5 ]] {\r\n",
       "portout \"$result\" as E2  [[psysml:7254dab9-2ab0-4b4a-abf0-a8118207784b ]] \r\n",
       "rec usage \"test x\" as E3  <<(T,blue)decisionNode>> [[psysml:7423d99a-f58c-40be-9ad8-b7209845a744 ]] {\r\n",
       "}\r\n",
       "\r\n",
       "{\r\n",
       "portout \"$result\" as E4  [[psysml:bceec577-4538-432a-b269-09d95bc9a7ff ]] \r\n",
       "portin \"$x\" as E5  [[psysml:8234b737-8b11-4286-80d5-041d60fcfb58 ]] \r\n",
       "portin \"$y\" as E6  [[psysml:7c1f2e2e-5ea9-440e-a0d7-bde68b741d93 ]] \r\n",
       "portout \"$result\" as E7  [[psysml:a1e656b7-cadc-4b3b-a176-c8c2724f8a9f ]] \r\n",
       "}\r\n",
       "\r\n",
       "{\r\n",
       "portout \"$result\" as E8  [[psysml:5e578666-287e-4471-a202-0fa6d9af79c3 ]] \r\n",
       "portin \"$x\" as E9  [[psysml:2e73bbcc-e1fb-462b-9f93-4a649e4b75e6 ]] \r\n",
       "portin \"$y\" as E10  [[psysml:167c4655-6099-4dd6-a555-0c294c9d5979 ]] \r\n",
       "portout \"$result\" as E11  [[psysml:c40f3f95-b4a1-4b20-9a7d-2c01b041f687 ]] \r\n",
       "}\r\n",
       "\r\n",
       "{\r\n",
       "}\r\n",
       "\r\n",
       "{\r\n",
       "}\r\n",
       "\r\n",
       "{\r\n",
       "portout \"$result\" as E12  [[psysml:9e913d35-b492-435f-9373-c501110f1eb9 ]] \r\n",
       "}\r\n",
       "\r\n",
       "{\r\n",
       "portout \"$result\" as E13  [[psysml:158e60b3-268a-4c98-b93c-7961067d80aa ]] \r\n",
       "}\r\n",
       "\r\n",
       "rec usage \"A1\" as E14  <<(T,blue)action>> [[psysml:eb7d07f9-3793-4a0f-a0fd-eb934e5bd3c4 ]] {\r\n",
       "}\r\n",
       "\r\n",
       "rec usage \"A2\" as E15  <<(T,blue)action>> [[psysml:dabafcbf-a70a-41b1-a12f-b84f33147f9e ]] {\r\n",
       "}\r\n",
       "\r\n",
       "rec usage \"A3\" as E16  <<(T,blue)action>> [[psysml:b33bccfd-da91-4304-87b6-52ca1fd70cda ]] {\r\n",
       "}\r\n",
       "\r\n",
       "rec usage \"S\" as E17  <<(T,blue)transition>> [[psysml:b992d367-0404-4f63-871a-2665bf27ec50 ]] {\r\n",
       "rec usage \"A1\" as E18  <<(T,blue)action>> [[psysml:eb7d07f9-3793-4a0f-a0fd-eb934e5bd3c4 ]] {\r\n",
       "}\r\n",
       "\r\n",
       "portout \"$result\" as E19  [[psysml:6c1c6685-5e76-423a-8864-05a29151138c ]] \r\n",
       "portin \"$x\" as E20  [[psysml:c04f5b6e-c0c0-4f8c-b615-27e7186d2d69 ]] \r\n",
       "portin \"$y\" as E21  [[psysml:9909dfe5-9552-4cba-a2bc-4098d95f63c2 ]] \r\n",
       "portout \"$result\" as E22  [[psysml:bcbff8ec-917c-48b5-9f11-9f30a636696f ]] \r\n",
       "}\r\n",
       "\r\n",
       "rec usage \"A3\" as E23  <<(T,blue)action>> [[psysml:b33bccfd-da91-4304-87b6-52ca1fd70cda ]] {\r\n",
       "}\r\n",
       "\r\n",
       "{\r\n",
       "portout \"$result\" as E24  [[psysml:361e6a6e-e017-4926-975f-092030fcbf35 ]] \r\n",
       "portin \"$x\" as E25  [[psysml:01ce4d67-3e05-4f8c-92a8-b88c5ffa81ca ]] \r\n",
       "portin \"$y\" as E26  [[psysml:9a2f800a-bedb-42f6-8036-b5924649c324 ]] \r\n",
       "portout \"$result\" as E27  [[psysml:320da7bf-4cff-49a0-90e2-2e9a2a898b7b ]] \r\n",
       "}\r\n",
       "\r\n",
       "}\r\n",
       "\r\n",
       "@enduml\r\n",
       "\n",
       "PlantUML version 1.2020.13(Sat Jun 13 12:26:38 UTC 2020)\n",
       "(EPL source distribution)\n",
       "Java Runtime: OpenJDK Runtime Environment\n",
       "JVM: OpenJDK 64-Bit Server VM\n",
       "Default Encoding: UTF-8\n",
       "Language: en\n",
       "Country: null\n",
       "--></g></svg>"
      ]
     },
     "execution_count": 9,
     "metadata": {},
     "output_type": "execute_result"
    }
   ],
   "source": [
    "%viz --style=\"POLYLINE\" --view=\"Default\" \"DecisionTest\""
   ]
  },
  {
   "cell_type": "code",
   "execution_count": 10,
   "id": "tamil-theater",
   "metadata": {
    "execution": {
     "iopub.execute_input": "2021-03-26T13:02:56.763992Z",
     "iopub.status.busy": "2021-03-26T13:02:56.763040Z",
     "iopub.status.idle": "2021-03-26T13:02:56.857521Z",
     "shell.execute_reply": "2021-03-26T13:02:56.857034Z"
    }
   },
   "outputs": [
    {
     "data": {
      "image/svg+xml": [
       "<?xml version=\"1.0\" encoding=\"UTF-8\" standalone=\"no\"?><svg xmlns=\"http://www.w3.org/2000/svg\" xmlns:xlink=\"http://www.w3.org/1999/xlink\" contentScriptType=\"application/ecmascript\" contentStyleType=\"text/css\" height=\"207px\" preserveAspectRatio=\"none\" style=\"width:109px;height:207px;\" version=\"1.1\" viewBox=\"0 0 109 207\" width=\"109px\" zoomAndPan=\"magnify\"><defs/><g><!--MD5=[43c9051892ef23e1a46a86907403d788]\n",
       "class E1--><a href=\"psysml:a1000395-17a0-47e2-a13d-a24f0cfe83d5\" target=\"_top\" title=\"psysml:a1000395-17a0-47e2-a13d-a24f0cfe83d5\" xlink:actuate=\"onRequest\" xlink:href=\"psysml:a1000395-17a0-47e2-a13d-a24f0cfe83d5\" xlink:show=\"new\" xlink:title=\"psysml:a1000395-17a0-47e2-a13d-a24f0cfe83d5\" xlink:type=\"simple\"><rect fill=\"#FFFFFF\" height=\"189.9844\" id=\"E1\" style=\"stroke: #383838; stroke-width: 1.5;\" width=\"91\" x=\"7\" y=\"7\"/><text fill=\"#000000\" font-family=\"sans-serif\" font-size=\"12\" font-style=\"italic\" lengthAdjust=\"spacingAndGlyphs\" textLength=\"77\" x=\"14\" y=\"23.1387\">«action def»</text><text fill=\"#000000\" font-family=\"sans-serif\" font-size=\"12\" lengthAdjust=\"spacingAndGlyphs\" textLength=\"80\" x=\"12.5\" y=\"37.1074\">DecisionTest</text><line style=\"stroke: #383838; stroke-width: 1.5;\" x1=\"8\" x2=\"97\" y1=\"44.9375\" y2=\"44.9375\"/><text fill=\"#000000\" font-family=\"sans-serif\" font-size=\"11\" lengthAdjust=\"spacingAndGlyphs\" textLength=\"6\" x=\"13\" y=\"75.9526\">x</text><line style=\"stroke: #383838; stroke-width: 1.0;\" x1=\"8\" x2=\"25\" y1=\"59.3398\" y2=\"59.3398\"/><text fill=\"#000000\" font-family=\"sans-serif\" font-size=\"11\" lengthAdjust=\"spacingAndGlyphs\" textLength=\"55\" x=\"25\" y=\"62.6479\">attributes</text><line style=\"stroke: #383838; stroke-width: 1.0;\" x1=\"80\" x2=\"97\" y1=\"59.3398\" y2=\"59.3398\"/><text fill=\"#000000\" font-family=\"sans-serif\" font-size=\"11\" lengthAdjust=\"spacingAndGlyphs\" textLength=\"14\" x=\"13\" y=\"105.562\">A1</text><text fill=\"#000000\" font-family=\"sans-serif\" font-size=\"11\" lengthAdjust=\"spacingAndGlyphs\" textLength=\"14\" x=\"13\" y=\"118.3667\">A2</text><text fill=\"#000000\" font-family=\"sans-serif\" font-size=\"11\" lengthAdjust=\"spacingAndGlyphs\" textLength=\"14\" x=\"13\" y=\"131.1714\">A3</text><line style=\"stroke: #383838; stroke-width: 1.0;\" x1=\"8\" x2=\"32\" y1=\"88.9492\" y2=\"88.9492\"/><text fill=\"#000000\" font-family=\"sans-serif\" font-size=\"11\" lengthAdjust=\"spacingAndGlyphs\" textLength=\"41\" x=\"32\" y=\"92.2573\">actions</text><line style=\"stroke: #383838; stroke-width: 1.0;\" x1=\"73\" x2=\"97\" y1=\"88.9492\" y2=\"88.9492\"/><text fill=\"#000000\" font-family=\"sans-serif\" font-size=\"11\" lengthAdjust=\"spacingAndGlyphs\" textLength=\"32\" x=\"13\" y=\"160.7808\">test x</text><line style=\"stroke: #383838; stroke-width: 1.0;\" x1=\"8\" x2=\"11\" y1=\"144.168\" y2=\"144.168\"/><text fill=\"#000000\" font-family=\"sans-serif\" font-size=\"11\" lengthAdjust=\"spacingAndGlyphs\" textLength=\"83\" x=\"11\" y=\"147.4761\">decisionNodes</text><line style=\"stroke: #383838; stroke-width: 1.0;\" x1=\"94\" x2=\"97\" y1=\"144.168\" y2=\"144.168\"/><text fill=\"#000000\" font-family=\"sans-serif\" font-size=\"11\" lengthAdjust=\"spacingAndGlyphs\" textLength=\"8\" x=\"13\" y=\"190.3901\">S</text><line style=\"stroke: #383838; stroke-width: 1.0;\" x1=\"8\" x2=\"22\" y1=\"173.7773\" y2=\"173.7773\"/><text fill=\"#000000\" font-family=\"sans-serif\" font-size=\"11\" lengthAdjust=\"spacingAndGlyphs\" textLength=\"61\" x=\"22\" y=\"177.0854\">transitions</text><line style=\"stroke: #383838; stroke-width: 1.0;\" x1=\"83\" x2=\"97\" y1=\"173.7773\" y2=\"173.7773\"/></a><!--MD5=[1aa286a92d903930a1dc7a9f52e20b97]\n",
       "@startuml\r\n",
       "skinparam linetype polyline\r\n",
       "skinparam monochrome true\r\n",
       "skinparam classbackgroundcolor white\r\n",
       "skinparam shadowing false\r\n",
       "skinparam wrapWidth 300\r\n",
       "hide circle\r\n",
       "\r\n",
       "comp def \"DecisionTest\" as E1  <<(T,blue)action def>> [[psysml:a1000395-17a0-47e2-a13d-a24f0cfe83d5 ]] {\r\n",
       "- - attributes - -\r\n",
       "x\r\n",
       "- - actions - -\r\n",
       "A1\r\n",
       "A2\r\n",
       "A3\r\n",
       "- - decisionNodes - -\r\n",
       "test x\r\n",
       "- - transitions - -\r\n",
       "S\r\n",
       "}\r\n",
       "@enduml\r\n",
       "\n",
       "PlantUML version 1.2020.13(Sat Jun 13 12:26:38 UTC 2020)\n",
       "(EPL source distribution)\n",
       "Java Runtime: OpenJDK Runtime Environment\n",
       "JVM: OpenJDK 64-Bit Server VM\n",
       "Default Encoding: UTF-8\n",
       "Language: en\n",
       "Country: null\n",
       "--></g></svg>"
      ]
     },
     "execution_count": 10,
     "metadata": {},
     "output_type": "execute_result"
    }
   ],
   "source": [
    "%viz --style=\"POLYLINE\" --view=\"Tree\" \"DecisionTest\""
   ]
  },
  {
   "cell_type": "code",
   "execution_count": 11,
   "id": "extensive-interference",
   "metadata": {
    "execution": {
     "iopub.execute_input": "2021-03-26T13:02:56.910588Z",
     "iopub.status.busy": "2021-03-26T13:02:56.909871Z",
     "iopub.status.idle": "2021-03-26T13:02:56.917702Z",
     "shell.execute_reply": "2021-03-26T13:02:56.917334Z"
    }
   },
   "outputs": [
    {
     "data": {
      "image/svg+xml": [
       "<?xml version=\"1.0\" encoding=\"UTF-8\" standalone=\"no\"?><svg xmlns=\"http://www.w3.org/2000/svg\" xmlns:xlink=\"http://www.w3.org/1999/xlink\" contentScriptType=\"application/ecmascript\" contentStyleType=\"text/css\" height=\"12px\" preserveAspectRatio=\"none\" style=\"width:12px;height:12px;\" version=\"1.1\" viewBox=\"0 0 12 12\" width=\"12px\" zoomAndPan=\"magnify\"><defs/><g><!--MD5=[896ac0e7a515d8dd7765a661cb4ee08b]\n",
       "@startuml\r\n",
       "skinparam linetype polyline\r\n",
       "skinparam monochrome true\r\n",
       "skinparam classbackgroundcolor white\r\n",
       "skinparam shadowing false\r\n",
       "skinparam wrapWidth 300\r\n",
       "hide circle\r\n",
       "\r\n",
       "@enduml\r\n",
       "\n",
       "PlantUML version 1.2020.13(Sat Jun 13 12:26:38 UTC 2020)\n",
       "(EPL source distribution)\n",
       "Java Runtime: OpenJDK Runtime Environment\n",
       "JVM: OpenJDK 64-Bit Server VM\n",
       "Default Encoding: UTF-8\n",
       "Language: en\n",
       "Country: null\n",
       "--></g></svg>"
      ]
     },
     "execution_count": 11,
     "metadata": {},
     "output_type": "execute_result"
    }
   ],
   "source": [
    "%viz --style=\"POLYLINE\" --view=\"State\" \"DecisionTest\""
   ]
  },
  {
   "cell_type": "code",
   "execution_count": 12,
   "id": "young-isolation",
   "metadata": {
    "execution": {
     "iopub.execute_input": "2021-03-26T13:02:56.972456Z",
     "iopub.status.busy": "2021-03-26T13:02:56.971491Z",
     "iopub.status.idle": "2021-03-26T13:02:56.986954Z",
     "shell.execute_reply": "2021-03-26T13:02:56.986518Z"
    }
   },
   "outputs": [
    {
     "data": {
      "image/svg+xml": [
       "<?xml version=\"1.0\" encoding=\"UTF-8\" standalone=\"no\"?><svg xmlns=\"http://www.w3.org/2000/svg\" xmlns:xlink=\"http://www.w3.org/1999/xlink\" contentScriptType=\"application/ecmascript\" contentStyleType=\"text/css\" height=\"60px\" preserveAspectRatio=\"none\" style=\"width:109px;height:60px;\" version=\"1.1\" viewBox=\"0 0 109 60\" width=\"109px\" zoomAndPan=\"magnify\"><defs/><g><g id=\"E1\"><a href=\"psysml:a1000395-17a0-47e2-a13d-a24f0cfe83d5\" target=\"_top\" title=\"psysml:a1000395-17a0-47e2-a13d-a24f0cfe83d5\" xlink:actuate=\"onRequest\" xlink:href=\"psysml:a1000395-17a0-47e2-a13d-a24f0cfe83d5\" xlink:show=\"new\" xlink:title=\"psysml:a1000395-17a0-47e2-a13d-a24f0cfe83d5\" xlink:type=\"simple\"><rect fill=\"#FFFFFF\" height=\"42.9375\" id=\"E1\" style=\"stroke: #383838; stroke-width: 1.5;\" width=\"91\" x=\"7\" y=\"7\"/><rect fill=\"#F8F8F8\" height=\"37.9375\" style=\"stroke: #383838; stroke-width: 1.5;\" width=\"91\" x=\"7\" y=\"7\"/><text fill=\"#000000\" font-family=\"sans-serif\" font-size=\"12\" font-style=\"italic\" lengthAdjust=\"spacingAndGlyphs\" textLength=\"77\" x=\"14\" y=\"23.1387\">«action def»</text><text fill=\"#000000\" font-family=\"sans-serif\" font-size=\"12\" lengthAdjust=\"spacingAndGlyphs\" textLength=\"80\" x=\"12.5\" y=\"37.1074\">DecisionTest</text></a></g><!--MD5=[409254955ced3f07342b89b615ff6e00]\n",
       "@startuml\r\n",
       "skinparam ranksep 8\r\n",
       "skinparam rectangle {\r\n",
       " backgroundColor<<block>> LightGreen\r\n",
       "}\r\n",
       "skinparam linetype polyline\r\n",
       "skinparam monochrome true\r\n",
       "skinparam classbackgroundcolor white\r\n",
       "skinparam shadowing false\r\n",
       "skinparam wrapWidth 300\r\n",
       "hide circle\r\n",
       "\r\n",
       "def \"DecisionTest\" as E1  <<(T,blue)action def>> [[psysml:a1000395-17a0-47e2-a13d-a24f0cfe83d5 ]] \r\n",
       "@enduml\r\n",
       "\n",
       "PlantUML version 1.2020.13(Sat Jun 13 12:26:38 UTC 2020)\n",
       "(EPL source distribution)\n",
       "Java Runtime: OpenJDK Runtime Environment\n",
       "JVM: OpenJDK 64-Bit Server VM\n",
       "Default Encoding: UTF-8\n",
       "Language: en\n",
       "Country: null\n",
       "--></g></svg>"
      ]
     },
     "execution_count": 12,
     "metadata": {},
     "output_type": "execute_result"
    }
   ],
   "source": [
    "%viz --style=\"POLYLINE\" --view=\"Interconnection\" \"DecisionTest\""
   ]
  },
  {
   "cell_type": "code",
   "execution_count": 13,
   "id": "dramatic-drive",
   "metadata": {
    "execution": {
     "iopub.execute_input": "2021-03-26T13:02:57.041348Z",
     "iopub.status.busy": "2021-03-26T13:02:57.040089Z",
     "iopub.status.idle": "2021-03-26T13:02:57.062635Z",
     "shell.execute_reply": "2021-03-26T13:02:57.062264Z"
    }
   },
   "outputs": [
    {
     "data": {
      "image/svg+xml": [
       "<?xml version=\"1.0\" encoding=\"UTF-8\" standalone=\"no\"?><svg xmlns=\"http://www.w3.org/2000/svg\" xmlns:xlink=\"http://www.w3.org/1999/xlink\" contentScriptType=\"application/ecmascript\" contentStyleType=\"text/css\" height=\"304px\" preserveAspectRatio=\"none\" style=\"width:871px;height:304px;background:#000000;\" version=\"1.1\" viewBox=\"0 0 871 304\" width=\"871px\" zoomAndPan=\"magnify\"><defs/><g><rect fill=\"#220325\" height=\"1\" style=\"stroke: #220325; stroke-width: 1.0;\" width=\"1\" x=\"0\" y=\"0\"/><rect fill=\"#33FF02\" height=\"21.2969\" style=\"stroke: #33FF02; stroke-width: 1.0;\" width=\"864\" x=\"5\" y=\"5\"/><text fill=\"#000000\" font-family=\"sans-serif\" font-size=\"14\" font-weight=\"bold\" lengthAdjust=\"spacingAndGlyphs\" textLength=\"178\" x=\"6\" y=\"20\">[From string (line 15) ]</text><text fill=\"#33FF02\" font-family=\"sans-serif\" font-size=\"14\" font-weight=\"bold\" lengthAdjust=\"spacingAndGlyphs\" textLength=\"0\" x=\"10\" y=\"40.2969\"/><text fill=\"#33FF02\" font-family=\"sans-serif\" font-size=\"14\" font-weight=\"bold\" lengthAdjust=\"spacingAndGlyphs\" textLength=\"79\" x=\"5\" y=\"56.5938\">@startuml</text><text fill=\"#33FF02\" font-family=\"sans-serif\" font-size=\"14\" font-weight=\"bold\" lengthAdjust=\"spacingAndGlyphs\" textLength=\"165\" x=\"5\" y=\"72.8906\">skinparam ranksep 8</text><text fill=\"#33FF02\" font-family=\"sans-serif\" font-size=\"14\" font-weight=\"bold\" lengthAdjust=\"spacingAndGlyphs\" textLength=\"215\" x=\"5\" y=\"89.1875\">skinparam linetype polyline</text><text fill=\"#33FF02\" font-family=\"sans-serif\" font-size=\"14\" font-weight=\"bold\" lengthAdjust=\"spacingAndGlyphs\" textLength=\"228\" x=\"5\" y=\"105.4844\">skinparam monochrome true</text><text fill=\"#33FF02\" font-family=\"sans-serif\" font-size=\"14\" font-weight=\"bold\" lengthAdjust=\"spacingAndGlyphs\" textLength=\"309\" x=\"5\" y=\"121.7813\">skinparam classbackgroundcolor white</text><text fill=\"#33FF02\" font-family=\"sans-serif\" font-size=\"14\" font-weight=\"bold\" lengthAdjust=\"spacingAndGlyphs\" textLength=\"215\" x=\"5\" y=\"138.0781\">skinparam shadowing false</text><text fill=\"#33FF02\" font-family=\"sans-serif\" font-size=\"14\" font-weight=\"bold\" lengthAdjust=\"spacingAndGlyphs\" textLength=\"206\" x=\"5\" y=\"154.375\">skinparam wrapWidth 300</text><text fill=\"#33FF02\" font-family=\"sans-serif\" font-size=\"14\" font-weight=\"bold\" lengthAdjust=\"spacingAndGlyphs\" textLength=\"82\" x=\"5\" y=\"170.6719\">hide circle</text><text fill=\"#33FF02\" font-family=\"sans-serif\" font-size=\"14\" font-weight=\"bold\" lengthAdjust=\"spacingAndGlyphs\" textLength=\"0\" x=\"10\" y=\"186.9688\"/><text fill=\"#33FF02\" font-family=\"sans-serif\" font-size=\"14\" font-weight=\"bold\" lengthAdjust=\"spacingAndGlyphs\" textLength=\"864\" x=\"5\" y=\"203.2656\">rec def \"DecisionTest\" as E1  &lt;&lt;(T,blue)action def&gt;&gt; [[psysml:a1000395-17a0-47e2-a13d-a24f0cfe83d5 ]] {</text><text fill=\"#33FF02\" font-family=\"sans-serif\" font-size=\"14\" font-weight=\"bold\" lengthAdjust=\"spacingAndGlyphs\" textLength=\"616\" x=\"5\" y=\"219.5625\">portout \"$result\" as E2  [[psysml:7254dab9-2ab0-4b4a-abf0-a8118207784b ]]</text><text fill=\"#33FF02\" font-family=\"sans-serif\" font-size=\"14\" font-weight=\"bold\" lengthAdjust=\"spacingAndGlyphs\" textLength=\"862\" x=\"5\" y=\"235.8594\">rec usage \"test x\" as E3  &lt;&lt;(T,blue)decisionNode&gt;&gt; [[psysml:7423d99a-f58c-40be-9ad8-b7209845a744 ]] {</text><text fill=\"#33FF02\" font-family=\"sans-serif\" font-size=\"14\" font-weight=\"bold\" lengthAdjust=\"spacingAndGlyphs\" textLength=\"10\" x=\"5\" y=\"252.1563\">}</text><text fill=\"#33FF02\" font-family=\"sans-serif\" font-size=\"14\" font-weight=\"bold\" lengthAdjust=\"spacingAndGlyphs\" textLength=\"0\" x=\"10\" y=\"268.4531\"/><text fill=\"#33FF02\" font-family=\"sans-serif\" font-size=\"14\" font-weight=\"bold\" lengthAdjust=\"spacingAndGlyphs\" textLength=\"10\" x=\"5\" y=\"284.75\">{</text><text fill=\"#FF0000\" font-family=\"sans-serif\" font-size=\"14\" font-weight=\"bold\" lengthAdjust=\"spacingAndGlyphs\" textLength=\"106\" x=\"10\" y=\"301.0469\">Syntax Error?</text><!--MD5=[d5df9d440397fa116266bc6865a91885]\n",
       "@startuml\r\n",
       "skinparam ranksep 8\r\n",
       "skinparam linetype polyline\r\n",
       "skinparam monochrome true\r\n",
       "skinparam classbackgroundcolor white\r\n",
       "skinparam shadowing false\r\n",
       "skinparam wrapWidth 300\r\n",
       "hide circle\r\n",
       "\r\n",
       "rec def \"DecisionTest\" as E1  <<(T,blue)action def>> [[psysml:a1000395-17a0-47e2-a13d-a24f0cfe83d5 ]] {\r\n",
       "portout \"$result\" as E2  [[psysml:7254dab9-2ab0-4b4a-abf0-a8118207784b ]] \r\n",
       "rec usage \"test x\" as E3  <<(T,blue)decisionNode>> [[psysml:7423d99a-f58c-40be-9ad8-b7209845a744 ]] {\r\n",
       "}\r\n",
       "\r\n",
       "{\r\n",
       "portout \"$result\" as E4  [[psysml:bceec577-4538-432a-b269-09d95bc9a7ff ]] \r\n",
       "portin \"$x\" as E5  [[psysml:8234b737-8b11-4286-80d5-041d60fcfb58 ]] \r\n",
       "portin \"$y\" as E6  [[psysml:7c1f2e2e-5ea9-440e-a0d7-bde68b741d93 ]] \r\n",
       "portout \"$result\" as E7  [[psysml:a1e656b7-cadc-4b3b-a176-c8c2724f8a9f ]] \r\n",
       "}\r\n",
       "\r\n",
       "{\r\n",
       "portout \"$result\" as E8  [[psysml:5e578666-287e-4471-a202-0fa6d9af79c3 ]] \r\n",
       "portin \"$x\" as E9  [[psysml:2e73bbcc-e1fb-462b-9f93-4a649e4b75e6 ]] \r\n",
       "portin \"$y\" as E10  [[psysml:167c4655-6099-4dd6-a555-0c294c9d5979 ]] \r\n",
       "portout \"$result\" as E11  [[psysml:c40f3f95-b4a1-4b20-9a7d-2c01b041f687 ]] \r\n",
       "}\r\n",
       "\r\n",
       "{\r\n",
       "}\r\n",
       "\r\n",
       "{\r\n",
       "}\r\n",
       "\r\n",
       "{\r\n",
       "portout \"$result\" as E12  [[psysml:9e913d35-b492-435f-9373-c501110f1eb9 ]] \r\n",
       "}\r\n",
       "\r\n",
       "{\r\n",
       "portout \"$result\" as E13  [[psysml:158e60b3-268a-4c98-b93c-7961067d80aa ]] \r\n",
       "}\r\n",
       "\r\n",
       "rec usage \"A1\" as E14  <<(T,blue)action>> [[psysml:eb7d07f9-3793-4a0f-a0fd-eb934e5bd3c4 ]] {\r\n",
       "}\r\n",
       "\r\n",
       "rec usage \"A2\" as E15  <<(T,blue)action>> [[psysml:dabafcbf-a70a-41b1-a12f-b84f33147f9e ]] {\r\n",
       "}\r\n",
       "\r\n",
       "rec usage \"A3\" as E16  <<(T,blue)action>> [[psysml:b33bccfd-da91-4304-87b6-52ca1fd70cda ]] {\r\n",
       "}\r\n",
       "\r\n",
       "rec usage \"S\" as E17  <<(T,blue)transition>> [[psysml:b992d367-0404-4f63-871a-2665bf27ec50 ]] {\r\n",
       "rec usage \"A1\" as E18  <<(T,blue)action>> [[psysml:eb7d07f9-3793-4a0f-a0fd-eb934e5bd3c4 ]] {\r\n",
       "}\r\n",
       "\r\n",
       "portout \"$result\" as E19  [[psysml:6c1c6685-5e76-423a-8864-05a29151138c ]] \r\n",
       "portin \"$x\" as E20  [[psysml:c04f5b6e-c0c0-4f8c-b615-27e7186d2d69 ]] \r\n",
       "portin \"$y\" as E21  [[psysml:9909dfe5-9552-4cba-a2bc-4098d95f63c2 ]] \r\n",
       "portout \"$result\" as E22  [[psysml:bcbff8ec-917c-48b5-9f11-9f30a636696f ]] \r\n",
       "}\r\n",
       "\r\n",
       "rec usage \"A3\" as E23  <<(T,blue)action>> [[psysml:b33bccfd-da91-4304-87b6-52ca1fd70cda ]] {\r\n",
       "}\r\n",
       "\r\n",
       "{\r\n",
       "portout \"$result\" as E24  [[psysml:361e6a6e-e017-4926-975f-092030fcbf35 ]] \r\n",
       "portin \"$x\" as E25  [[psysml:01ce4d67-3e05-4f8c-92a8-b88c5ffa81ca ]] \r\n",
       "portin \"$y\" as E26  [[psysml:9a2f800a-bedb-42f6-8036-b5924649c324 ]] \r\n",
       "portout \"$result\" as E27  [[psysml:320da7bf-4cff-49a0-90e2-2e9a2a898b7b ]] \r\n",
       "}\r\n",
       "\r\n",
       "}\r\n",
       "\r\n",
       "@enduml\r\n",
       "\n",
       "PlantUML version 1.2020.13(Sat Jun 13 12:26:38 UTC 2020)\n",
       "(EPL source distribution)\n",
       "Java Runtime: OpenJDK Runtime Environment\n",
       "JVM: OpenJDK 64-Bit Server VM\n",
       "Default Encoding: UTF-8\n",
       "Language: en\n",
       "Country: null\n",
       "--></g></svg>"
      ]
     },
     "execution_count": 13,
     "metadata": {},
     "output_type": "execute_result"
    }
   ],
   "source": [
    "%viz --style=\"POLYLINE\" --view=\"Action\" \"DecisionTest\""
   ]
  },
  {
   "cell_type": "code",
   "execution_count": 14,
   "id": "arctic-identifier",
   "metadata": {
    "execution": {
     "iopub.execute_input": "2021-03-26T13:02:57.115575Z",
     "iopub.status.busy": "2021-03-26T13:02:57.114632Z",
     "iopub.status.idle": "2021-03-26T13:02:57.187893Z",
     "shell.execute_reply": "2021-03-26T13:02:57.188219Z"
    }
   },
   "outputs": [
    {
     "data": {
      "image/svg+xml": [
       "<?xml version=\"1.0\" encoding=\"UTF-8\" standalone=\"no\"?><svg xmlns=\"http://www.w3.org/2000/svg\" xmlns:xlink=\"http://www.w3.org/1999/xlink\" contentScriptType=\"application/ecmascript\" contentStyleType=\"text/css\" height=\"207px\" preserveAspectRatio=\"none\" style=\"width:109px;height:207px;\" version=\"1.1\" viewBox=\"0 0 109 207\" width=\"109px\" zoomAndPan=\"magnify\"><defs/><g><!--MD5=[43c9051892ef23e1a46a86907403d788]\n",
       "class E1--><a href=\"psysml:a1000395-17a0-47e2-a13d-a24f0cfe83d5\" target=\"_top\" title=\"psysml:a1000395-17a0-47e2-a13d-a24f0cfe83d5\" xlink:actuate=\"onRequest\" xlink:href=\"psysml:a1000395-17a0-47e2-a13d-a24f0cfe83d5\" xlink:show=\"new\" xlink:title=\"psysml:a1000395-17a0-47e2-a13d-a24f0cfe83d5\" xlink:type=\"simple\"><rect fill=\"#FFFFFF\" height=\"189.9844\" id=\"E1\" style=\"stroke: #383838; stroke-width: 1.5;\" width=\"91\" x=\"7\" y=\"7\"/><text fill=\"#000000\" font-family=\"sans-serif\" font-size=\"12\" font-style=\"italic\" lengthAdjust=\"spacingAndGlyphs\" textLength=\"77\" x=\"14\" y=\"23.1387\">«action def»</text><text fill=\"#000000\" font-family=\"sans-serif\" font-size=\"12\" lengthAdjust=\"spacingAndGlyphs\" textLength=\"80\" x=\"12.5\" y=\"37.1074\">DecisionTest</text><line style=\"stroke: #383838; stroke-width: 1.5;\" x1=\"8\" x2=\"97\" y1=\"44.9375\" y2=\"44.9375\"/><text fill=\"#000000\" font-family=\"sans-serif\" font-size=\"11\" lengthAdjust=\"spacingAndGlyphs\" textLength=\"6\" x=\"13\" y=\"75.9526\">x</text><line style=\"stroke: #383838; stroke-width: 1.0;\" x1=\"8\" x2=\"25\" y1=\"59.3398\" y2=\"59.3398\"/><text fill=\"#000000\" font-family=\"sans-serif\" font-size=\"11\" lengthAdjust=\"spacingAndGlyphs\" textLength=\"55\" x=\"25\" y=\"62.6479\">attributes</text><line style=\"stroke: #383838; stroke-width: 1.0;\" x1=\"80\" x2=\"97\" y1=\"59.3398\" y2=\"59.3398\"/><text fill=\"#000000\" font-family=\"sans-serif\" font-size=\"11\" lengthAdjust=\"spacingAndGlyphs\" textLength=\"14\" x=\"13\" y=\"105.562\">A1</text><text fill=\"#000000\" font-family=\"sans-serif\" font-size=\"11\" lengthAdjust=\"spacingAndGlyphs\" textLength=\"14\" x=\"13\" y=\"118.3667\">A2</text><text fill=\"#000000\" font-family=\"sans-serif\" font-size=\"11\" lengthAdjust=\"spacingAndGlyphs\" textLength=\"14\" x=\"13\" y=\"131.1714\">A3</text><line style=\"stroke: #383838; stroke-width: 1.0;\" x1=\"8\" x2=\"32\" y1=\"88.9492\" y2=\"88.9492\"/><text fill=\"#000000\" font-family=\"sans-serif\" font-size=\"11\" lengthAdjust=\"spacingAndGlyphs\" textLength=\"41\" x=\"32\" y=\"92.2573\">actions</text><line style=\"stroke: #383838; stroke-width: 1.0;\" x1=\"73\" x2=\"97\" y1=\"88.9492\" y2=\"88.9492\"/><text fill=\"#000000\" font-family=\"sans-serif\" font-size=\"11\" lengthAdjust=\"spacingAndGlyphs\" textLength=\"32\" x=\"13\" y=\"160.7808\">test x</text><line style=\"stroke: #383838; stroke-width: 1.0;\" x1=\"8\" x2=\"11\" y1=\"144.168\" y2=\"144.168\"/><text fill=\"#000000\" font-family=\"sans-serif\" font-size=\"11\" lengthAdjust=\"spacingAndGlyphs\" textLength=\"83\" x=\"11\" y=\"147.4761\">decisionNodes</text><line style=\"stroke: #383838; stroke-width: 1.0;\" x1=\"94\" x2=\"97\" y1=\"144.168\" y2=\"144.168\"/><text fill=\"#000000\" font-family=\"sans-serif\" font-size=\"11\" lengthAdjust=\"spacingAndGlyphs\" textLength=\"8\" x=\"13\" y=\"190.3901\">S</text><line style=\"stroke: #383838; stroke-width: 1.0;\" x1=\"8\" x2=\"22\" y1=\"173.7773\" y2=\"173.7773\"/><text fill=\"#000000\" font-family=\"sans-serif\" font-size=\"11\" lengthAdjust=\"spacingAndGlyphs\" textLength=\"61\" x=\"22\" y=\"177.0854\">transitions</text><line style=\"stroke: #383838; stroke-width: 1.0;\" x1=\"83\" x2=\"97\" y1=\"173.7773\" y2=\"173.7773\"/></a><!--MD5=[1aa286a92d903930a1dc7a9f52e20b97]\n",
       "@startuml\r\n",
       "skinparam linetype polyline\r\n",
       "skinparam monochrome true\r\n",
       "skinparam classbackgroundcolor white\r\n",
       "skinparam shadowing false\r\n",
       "skinparam wrapWidth 300\r\n",
       "hide circle\r\n",
       "\r\n",
       "comp def \"DecisionTest\" as E1  <<(T,blue)action def>> [[psysml:a1000395-17a0-47e2-a13d-a24f0cfe83d5 ]] {\r\n",
       "- - attributes - -\r\n",
       "x\r\n",
       "- - actions - -\r\n",
       "A1\r\n",
       "A2\r\n",
       "A3\r\n",
       "- - decisionNodes - -\r\n",
       "test x\r\n",
       "- - transitions - -\r\n",
       "S\r\n",
       "}\r\n",
       "@enduml\r\n",
       "\n",
       "PlantUML version 1.2020.13(Sat Jun 13 12:26:38 UTC 2020)\n",
       "(EPL source distribution)\n",
       "Java Runtime: OpenJDK Runtime Environment\n",
       "JVM: OpenJDK 64-Bit Server VM\n",
       "Default Encoding: UTF-8\n",
       "Language: en\n",
       "Country: null\n",
       "--></g></svg>"
      ]
     },
     "execution_count": 14,
     "metadata": {},
     "output_type": "execute_result"
    }
   ],
   "source": [
    "%viz --style=\"POLYLINE\" --view=\"Sequence\" \"DecisionTest\""
   ]
  },
  {
   "cell_type": "code",
   "execution_count": 15,
   "id": "large-intellectual",
   "metadata": {
    "execution": {
     "iopub.execute_input": "2021-03-26T13:02:57.243010Z",
     "iopub.status.busy": "2021-03-26T13:02:57.242237Z",
     "iopub.status.idle": "2021-03-26T13:02:57.258630Z",
     "shell.execute_reply": "2021-03-26T13:02:57.258062Z"
    }
   },
   "outputs": [
    {
     "data": {
      "image/svg+xml": [
       "<?xml version=\"1.0\" encoding=\"UTF-8\" standalone=\"no\"?><svg xmlns=\"http://www.w3.org/2000/svg\" xmlns:xlink=\"http://www.w3.org/1999/xlink\" contentScriptType=\"application/ecmascript\" contentStyleType=\"text/css\" height=\"288px\" preserveAspectRatio=\"none\" style=\"width:871px;height:288px;background:#000000;\" version=\"1.1\" viewBox=\"0 0 871 288\" width=\"871px\" zoomAndPan=\"magnify\"><defs/><g><rect fill=\"#260E10\" height=\"1\" style=\"stroke: #260E10; stroke-width: 1.0;\" width=\"1\" x=\"0\" y=\"0\"/><rect fill=\"#33FF02\" height=\"21.2969\" style=\"stroke: #33FF02; stroke-width: 1.0;\" width=\"864\" x=\"5\" y=\"5\"/><text fill=\"#000000\" font-family=\"sans-serif\" font-size=\"14\" font-weight=\"bold\" lengthAdjust=\"spacingAndGlyphs\" textLength=\"178\" x=\"6\" y=\"20\">[From string (line 14) ]</text><text fill=\"#33FF02\" font-family=\"sans-serif\" font-size=\"14\" font-weight=\"bold\" lengthAdjust=\"spacingAndGlyphs\" textLength=\"0\" x=\"10\" y=\"40.2969\"/><text fill=\"#33FF02\" font-family=\"sans-serif\" font-size=\"14\" font-weight=\"bold\" lengthAdjust=\"spacingAndGlyphs\" textLength=\"79\" x=\"5\" y=\"56.5938\">@startuml</text><text fill=\"#33FF02\" font-family=\"sans-serif\" font-size=\"14\" font-weight=\"bold\" lengthAdjust=\"spacingAndGlyphs\" textLength=\"215\" x=\"5\" y=\"72.8906\">skinparam linetype polyline</text><text fill=\"#33FF02\" font-family=\"sans-serif\" font-size=\"14\" font-weight=\"bold\" lengthAdjust=\"spacingAndGlyphs\" textLength=\"228\" x=\"5\" y=\"89.1875\">skinparam monochrome true</text><text fill=\"#33FF02\" font-family=\"sans-serif\" font-size=\"14\" font-weight=\"bold\" lengthAdjust=\"spacingAndGlyphs\" textLength=\"309\" x=\"5\" y=\"105.4844\">skinparam classbackgroundcolor white</text><text fill=\"#33FF02\" font-family=\"sans-serif\" font-size=\"14\" font-weight=\"bold\" lengthAdjust=\"spacingAndGlyphs\" textLength=\"215\" x=\"5\" y=\"121.7813\">skinparam shadowing false</text><text fill=\"#33FF02\" font-family=\"sans-serif\" font-size=\"14\" font-weight=\"bold\" lengthAdjust=\"spacingAndGlyphs\" textLength=\"206\" x=\"5\" y=\"138.0781\">skinparam wrapWidth 300</text><text fill=\"#33FF02\" font-family=\"sans-serif\" font-size=\"14\" font-weight=\"bold\" lengthAdjust=\"spacingAndGlyphs\" textLength=\"82\" x=\"5\" y=\"154.375\">hide circle</text><text fill=\"#33FF02\" font-family=\"sans-serif\" font-size=\"14\" font-weight=\"bold\" lengthAdjust=\"spacingAndGlyphs\" textLength=\"0\" x=\"10\" y=\"170.6719\"/><text fill=\"#33FF02\" font-family=\"sans-serif\" font-size=\"14\" font-weight=\"bold\" lengthAdjust=\"spacingAndGlyphs\" textLength=\"864\" x=\"5\" y=\"186.9688\">rec def \"DecisionTest\" as E1  &lt;&lt;(T,blue)action def&gt;&gt; [[psysml:a1000395-17a0-47e2-a13d-a24f0cfe83d5 ]] {</text><text fill=\"#33FF02\" font-family=\"sans-serif\" font-size=\"14\" font-weight=\"bold\" lengthAdjust=\"spacingAndGlyphs\" textLength=\"616\" x=\"5\" y=\"203.2656\">portout \"$result\" as E2  [[psysml:7254dab9-2ab0-4b4a-abf0-a8118207784b ]]</text><text fill=\"#33FF02\" font-family=\"sans-serif\" font-size=\"14\" font-weight=\"bold\" lengthAdjust=\"spacingAndGlyphs\" textLength=\"862\" x=\"5\" y=\"219.5625\">rec usage \"test x\" as E3  &lt;&lt;(T,blue)decisionNode&gt;&gt; [[psysml:7423d99a-f58c-40be-9ad8-b7209845a744 ]] {</text><text fill=\"#33FF02\" font-family=\"sans-serif\" font-size=\"14\" font-weight=\"bold\" lengthAdjust=\"spacingAndGlyphs\" textLength=\"10\" x=\"5\" y=\"235.8594\">}</text><text fill=\"#33FF02\" font-family=\"sans-serif\" font-size=\"14\" font-weight=\"bold\" lengthAdjust=\"spacingAndGlyphs\" textLength=\"0\" x=\"10\" y=\"252.1563\"/><text fill=\"#33FF02\" font-family=\"sans-serif\" font-size=\"14\" font-weight=\"bold\" lengthAdjust=\"spacingAndGlyphs\" textLength=\"10\" x=\"5\" y=\"268.4531\">{</text><text fill=\"#FF0000\" font-family=\"sans-serif\" font-size=\"14\" font-weight=\"bold\" lengthAdjust=\"spacingAndGlyphs\" textLength=\"106\" x=\"10\" y=\"284.75\">Syntax Error?</text><!--MD5=[560365d5e03f62ce19270acfb9a75e6d]\n",
       "@startuml\r\n",
       "skinparam linetype polyline\r\n",
       "skinparam monochrome true\r\n",
       "skinparam classbackgroundcolor white\r\n",
       "skinparam shadowing false\r\n",
       "skinparam wrapWidth 300\r\n",
       "hide circle\r\n",
       "\r\n",
       "rec def \"DecisionTest\" as E1  <<(T,blue)action def>> [[psysml:a1000395-17a0-47e2-a13d-a24f0cfe83d5 ]] {\r\n",
       "portout \"$result\" as E2  [[psysml:7254dab9-2ab0-4b4a-abf0-a8118207784b ]] \r\n",
       "rec usage \"test x\" as E3  <<(T,blue)decisionNode>> [[psysml:7423d99a-f58c-40be-9ad8-b7209845a744 ]] {\r\n",
       "}\r\n",
       "\r\n",
       "{\r\n",
       "portout \"$result\" as E4  [[psysml:bceec577-4538-432a-b269-09d95bc9a7ff ]] \r\n",
       "portin \"$x\" as E5  [[psysml:8234b737-8b11-4286-80d5-041d60fcfb58 ]] \r\n",
       "portin \"$y\" as E6  [[psysml:7c1f2e2e-5ea9-440e-a0d7-bde68b741d93 ]] \r\n",
       "portout \"$result\" as E7  [[psysml:a1e656b7-cadc-4b3b-a176-c8c2724f8a9f ]] \r\n",
       "}\r\n",
       "\r\n",
       "{\r\n",
       "portout \"$result\" as E8  [[psysml:5e578666-287e-4471-a202-0fa6d9af79c3 ]] \r\n",
       "portin \"$x\" as E9  [[psysml:2e73bbcc-e1fb-462b-9f93-4a649e4b75e6 ]] \r\n",
       "portin \"$y\" as E10  [[psysml:167c4655-6099-4dd6-a555-0c294c9d5979 ]] \r\n",
       "portout \"$result\" as E11  [[psysml:c40f3f95-b4a1-4b20-9a7d-2c01b041f687 ]] \r\n",
       "}\r\n",
       "\r\n",
       "{\r\n",
       "}\r\n",
       "\r\n",
       "{\r\n",
       "}\r\n",
       "\r\n",
       "{\r\n",
       "portout \"$result\" as E12  [[psysml:9e913d35-b492-435f-9373-c501110f1eb9 ]] \r\n",
       "}\r\n",
       "\r\n",
       "{\r\n",
       "portout \"$result\" as E13  [[psysml:158e60b3-268a-4c98-b93c-7961067d80aa ]] \r\n",
       "}\r\n",
       "\r\n",
       "rec usage \"A1\" as E14  <<(T,blue)action>> [[psysml:eb7d07f9-3793-4a0f-a0fd-eb934e5bd3c4 ]] {\r\n",
       "}\r\n",
       "\r\n",
       "rec usage \"A2\" as E15  <<(T,blue)action>> [[psysml:dabafcbf-a70a-41b1-a12f-b84f33147f9e ]] {\r\n",
       "}\r\n",
       "\r\n",
       "rec usage \"A3\" as E16  <<(T,blue)action>> [[psysml:b33bccfd-da91-4304-87b6-52ca1fd70cda ]] {\r\n",
       "}\r\n",
       "\r\n",
       "rec usage \"S\" as E17  <<(T,blue)transition>> [[psysml:b992d367-0404-4f63-871a-2665bf27ec50 ]] {\r\n",
       "rec usage \"A1\" as E18  <<(T,blue)action>> [[psysml:eb7d07f9-3793-4a0f-a0fd-eb934e5bd3c4 ]] {\r\n",
       "}\r\n",
       "\r\n",
       "portout \"$result\" as E19  [[psysml:6c1c6685-5e76-423a-8864-05a29151138c ]] \r\n",
       "portin \"$x\" as E20  [[psysml:c04f5b6e-c0c0-4f8c-b615-27e7186d2d69 ]] \r\n",
       "portin \"$y\" as E21  [[psysml:9909dfe5-9552-4cba-a2bc-4098d95f63c2 ]] \r\n",
       "portout \"$result\" as E22  [[psysml:bcbff8ec-917c-48b5-9f11-9f30a636696f ]] \r\n",
       "}\r\n",
       "\r\n",
       "rec usage \"A3\" as E23  <<(T,blue)action>> [[psysml:b33bccfd-da91-4304-87b6-52ca1fd70cda ]] {\r\n",
       "}\r\n",
       "\r\n",
       "{\r\n",
       "portout \"$result\" as E24  [[psysml:361e6a6e-e017-4926-975f-092030fcbf35 ]] \r\n",
       "portin \"$x\" as E25  [[psysml:01ce4d67-3e05-4f8c-92a8-b88c5ffa81ca ]] \r\n",
       "portin \"$y\" as E26  [[psysml:9a2f800a-bedb-42f6-8036-b5924649c324 ]] \r\n",
       "portout \"$result\" as E27  [[psysml:320da7bf-4cff-49a0-90e2-2e9a2a898b7b ]] \r\n",
       "}\r\n",
       "\r\n",
       "}\r\n",
       "\r\n",
       "@enduml\r\n",
       "\n",
       "PlantUML version 1.2020.13(Sat Jun 13 12:26:38 UTC 2020)\n",
       "(EPL source distribution)\n",
       "Java Runtime: OpenJDK Runtime Environment\n",
       "JVM: OpenJDK 64-Bit Server VM\n",
       "Default Encoding: UTF-8\n",
       "Language: en\n",
       "Country: null\n",
       "--></g></svg>"
      ]
     },
     "execution_count": 15,
     "metadata": {},
     "output_type": "execute_result"
    }
   ],
   "source": [
    "%viz --style=\"POLYLINE\" --view=\"MIXED\" \"DecisionTest\""
   ]
  },
  {
   "cell_type": "code",
   "execution_count": 16,
   "id": "professional-quick",
   "metadata": {
    "execution": {
     "iopub.execute_input": "2021-03-26T13:02:57.311989Z",
     "iopub.status.busy": "2021-03-26T13:02:57.311259Z",
     "iopub.status.idle": "2021-03-26T13:02:57.327184Z",
     "shell.execute_reply": "2021-03-26T13:02:57.326785Z"
    }
   },
   "outputs": [
    {
     "data": {
      "image/svg+xml": [
       "<?xml version=\"1.0\" encoding=\"UTF-8\" standalone=\"no\"?><svg xmlns=\"http://www.w3.org/2000/svg\" xmlns:xlink=\"http://www.w3.org/1999/xlink\" contentScriptType=\"application/ecmascript\" contentStyleType=\"text/css\" height=\"288px\" preserveAspectRatio=\"none\" style=\"width:871px;height:288px;background:#000000;\" version=\"1.1\" viewBox=\"0 0 871 288\" width=\"871px\" zoomAndPan=\"magnify\"><defs/><g><rect fill=\"#221D00\" height=\"1\" style=\"stroke: #221D00; stroke-width: 1.0;\" width=\"1\" x=\"0\" y=\"0\"/><rect fill=\"#33FF02\" height=\"21.2969\" style=\"stroke: #33FF02; stroke-width: 1.0;\" width=\"864\" x=\"5\" y=\"5\"/><text fill=\"#000000\" font-family=\"sans-serif\" font-size=\"14\" font-weight=\"bold\" lengthAdjust=\"spacingAndGlyphs\" textLength=\"178\" x=\"6\" y=\"20\">[From string (line 14) ]</text><text fill=\"#33FF02\" font-family=\"sans-serif\" font-size=\"14\" font-weight=\"bold\" lengthAdjust=\"spacingAndGlyphs\" textLength=\"0\" x=\"10\" y=\"40.2969\"/><text fill=\"#33FF02\" font-family=\"sans-serif\" font-size=\"14\" font-weight=\"bold\" lengthAdjust=\"spacingAndGlyphs\" textLength=\"79\" x=\"5\" y=\"56.5938\">@startuml</text><text fill=\"#33FF02\" font-family=\"sans-serif\" font-size=\"14\" font-weight=\"bold\" lengthAdjust=\"spacingAndGlyphs\" textLength=\"164\" x=\"5\" y=\"72.8906\">left to right direction</text><text fill=\"#33FF02\" font-family=\"sans-serif\" font-size=\"14\" font-weight=\"bold\" lengthAdjust=\"spacingAndGlyphs\" textLength=\"228\" x=\"5\" y=\"89.1875\">skinparam monochrome true</text><text fill=\"#33FF02\" font-family=\"sans-serif\" font-size=\"14\" font-weight=\"bold\" lengthAdjust=\"spacingAndGlyphs\" textLength=\"309\" x=\"5\" y=\"105.4844\">skinparam classbackgroundcolor white</text><text fill=\"#33FF02\" font-family=\"sans-serif\" font-size=\"14\" font-weight=\"bold\" lengthAdjust=\"spacingAndGlyphs\" textLength=\"215\" x=\"5\" y=\"121.7813\">skinparam shadowing false</text><text fill=\"#33FF02\" font-family=\"sans-serif\" font-size=\"14\" font-weight=\"bold\" lengthAdjust=\"spacingAndGlyphs\" textLength=\"206\" x=\"5\" y=\"138.0781\">skinparam wrapWidth 300</text><text fill=\"#33FF02\" font-family=\"sans-serif\" font-size=\"14\" font-weight=\"bold\" lengthAdjust=\"spacingAndGlyphs\" textLength=\"82\" x=\"5\" y=\"154.375\">hide circle</text><text fill=\"#33FF02\" font-family=\"sans-serif\" font-size=\"14\" font-weight=\"bold\" lengthAdjust=\"spacingAndGlyphs\" textLength=\"0\" x=\"10\" y=\"170.6719\"/><text fill=\"#33FF02\" font-family=\"sans-serif\" font-size=\"14\" font-weight=\"bold\" lengthAdjust=\"spacingAndGlyphs\" textLength=\"864\" x=\"5\" y=\"186.9688\">rec def \"DecisionTest\" as E1  &lt;&lt;(T,blue)action def&gt;&gt; [[psysml:a1000395-17a0-47e2-a13d-a24f0cfe83d5 ]] {</text><text fill=\"#33FF02\" font-family=\"sans-serif\" font-size=\"14\" font-weight=\"bold\" lengthAdjust=\"spacingAndGlyphs\" textLength=\"616\" x=\"5\" y=\"203.2656\">portout \"$result\" as E2  [[psysml:7254dab9-2ab0-4b4a-abf0-a8118207784b ]]</text><text fill=\"#33FF02\" font-family=\"sans-serif\" font-size=\"14\" font-weight=\"bold\" lengthAdjust=\"spacingAndGlyphs\" textLength=\"862\" x=\"5\" y=\"219.5625\">rec usage \"test x\" as E3  &lt;&lt;(T,blue)decisionNode&gt;&gt; [[psysml:7423d99a-f58c-40be-9ad8-b7209845a744 ]] {</text><text fill=\"#33FF02\" font-family=\"sans-serif\" font-size=\"14\" font-weight=\"bold\" lengthAdjust=\"spacingAndGlyphs\" textLength=\"10\" x=\"5\" y=\"235.8594\">}</text><text fill=\"#33FF02\" font-family=\"sans-serif\" font-size=\"14\" font-weight=\"bold\" lengthAdjust=\"spacingAndGlyphs\" textLength=\"0\" x=\"10\" y=\"252.1563\"/><text fill=\"#33FF02\" font-family=\"sans-serif\" font-size=\"14\" font-weight=\"bold\" lengthAdjust=\"spacingAndGlyphs\" textLength=\"10\" x=\"5\" y=\"268.4531\">{</text><text fill=\"#FF0000\" font-family=\"sans-serif\" font-size=\"14\" font-weight=\"bold\" lengthAdjust=\"spacingAndGlyphs\" textLength=\"106\" x=\"10\" y=\"284.75\">Syntax Error?</text><!--MD5=[c26c5589f3dd52e3bc14591289793493]\n",
       "@startuml\r\n",
       "left to right direction\r\n",
       "skinparam monochrome true\r\n",
       "skinparam classbackgroundcolor white\r\n",
       "skinparam shadowing false\r\n",
       "skinparam wrapWidth 300\r\n",
       "hide circle\r\n",
       "\r\n",
       "rec def \"DecisionTest\" as E1  <<(T,blue)action def>> [[psysml:a1000395-17a0-47e2-a13d-a24f0cfe83d5 ]] {\r\n",
       "portout \"$result\" as E2  [[psysml:7254dab9-2ab0-4b4a-abf0-a8118207784b ]] \r\n",
       "rec usage \"test x\" as E3  <<(T,blue)decisionNode>> [[psysml:7423d99a-f58c-40be-9ad8-b7209845a744 ]] {\r\n",
       "}\r\n",
       "\r\n",
       "{\r\n",
       "portout \"$result\" as E4  [[psysml:bceec577-4538-432a-b269-09d95bc9a7ff ]] \r\n",
       "portin \"$x\" as E5  [[psysml:8234b737-8b11-4286-80d5-041d60fcfb58 ]] \r\n",
       "portin \"$y\" as E6  [[psysml:7c1f2e2e-5ea9-440e-a0d7-bde68b741d93 ]] \r\n",
       "portout \"$result\" as E7  [[psysml:a1e656b7-cadc-4b3b-a176-c8c2724f8a9f ]] \r\n",
       "}\r\n",
       "\r\n",
       "{\r\n",
       "portout \"$result\" as E8  [[psysml:5e578666-287e-4471-a202-0fa6d9af79c3 ]] \r\n",
       "portin \"$x\" as E9  [[psysml:2e73bbcc-e1fb-462b-9f93-4a649e4b75e6 ]] \r\n",
       "portin \"$y\" as E10  [[psysml:167c4655-6099-4dd6-a555-0c294c9d5979 ]] \r\n",
       "portout \"$result\" as E11  [[psysml:c40f3f95-b4a1-4b20-9a7d-2c01b041f687 ]] \r\n",
       "}\r\n",
       "\r\n",
       "{\r\n",
       "}\r\n",
       "\r\n",
       "{\r\n",
       "}\r\n",
       "\r\n",
       "{\r\n",
       "portout \"$result\" as E12  [[psysml:9e913d35-b492-435f-9373-c501110f1eb9 ]] \r\n",
       "}\r\n",
       "\r\n",
       "{\r\n",
       "portout \"$result\" as E13  [[psysml:158e60b3-268a-4c98-b93c-7961067d80aa ]] \r\n",
       "}\r\n",
       "\r\n",
       "rec usage \"A1\" as E14  <<(T,blue)action>> [[psysml:eb7d07f9-3793-4a0f-a0fd-eb934e5bd3c4 ]] {\r\n",
       "}\r\n",
       "\r\n",
       "rec usage \"A2\" as E15  <<(T,blue)action>> [[psysml:dabafcbf-a70a-41b1-a12f-b84f33147f9e ]] {\r\n",
       "}\r\n",
       "\r\n",
       "rec usage \"A3\" as E16  <<(T,blue)action>> [[psysml:b33bccfd-da91-4304-87b6-52ca1fd70cda ]] {\r\n",
       "}\r\n",
       "\r\n",
       "rec usage \"S\" as E17  <<(T,blue)transition>> [[psysml:b992d367-0404-4f63-871a-2665bf27ec50 ]] {\r\n",
       "rec usage \"A1\" as E18  <<(T,blue)action>> [[psysml:eb7d07f9-3793-4a0f-a0fd-eb934e5bd3c4 ]] {\r\n",
       "}\r\n",
       "\r\n",
       "portout \"$result\" as E19  [[psysml:6c1c6685-5e76-423a-8864-05a29151138c ]] \r\n",
       "portin \"$x\" as E20  [[psysml:c04f5b6e-c0c0-4f8c-b615-27e7186d2d69 ]] \r\n",
       "portin \"$y\" as E21  [[psysml:9909dfe5-9552-4cba-a2bc-4098d95f63c2 ]] \r\n",
       "portout \"$result\" as E22  [[psysml:bcbff8ec-917c-48b5-9f11-9f30a636696f ]] \r\n",
       "}\r\n",
       "\r\n",
       "rec usage \"A3\" as E23  <<(T,blue)action>> [[psysml:b33bccfd-da91-4304-87b6-52ca1fd70cda ]] {\r\n",
       "}\r\n",
       "\r\n",
       "{\r\n",
       "portout \"$result\" as E24  [[psysml:361e6a6e-e017-4926-975f-092030fcbf35 ]] \r\n",
       "portin \"$x\" as E25  [[psysml:01ce4d67-3e05-4f8c-92a8-b88c5ffa81ca ]] \r\n",
       "portin \"$y\" as E26  [[psysml:9a2f800a-bedb-42f6-8036-b5924649c324 ]] \r\n",
       "portout \"$result\" as E27  [[psysml:320da7bf-4cff-49a0-90e2-2e9a2a898b7b ]] \r\n",
       "}\r\n",
       "\r\n",
       "}\r\n",
       "\r\n",
       "@enduml\r\n",
       "\n",
       "PlantUML version 1.2020.13(Sat Jun 13 12:26:38 UTC 2020)\n",
       "(EPL source distribution)\n",
       "Java Runtime: OpenJDK Runtime Environment\n",
       "JVM: OpenJDK 64-Bit Server VM\n",
       "Default Encoding: UTF-8\n",
       "Language: en\n",
       "Country: null\n",
       "--></g></svg>"
      ]
     },
     "execution_count": 16,
     "metadata": {},
     "output_type": "execute_result"
    }
   ],
   "source": [
    "%viz --style=\"LR\" --view=\"Default\" \"DecisionTest\""
   ]
  },
  {
   "cell_type": "code",
   "execution_count": 17,
   "id": "verified-publication",
   "metadata": {
    "execution": {
     "iopub.execute_input": "2021-03-26T13:02:57.381707Z",
     "iopub.status.busy": "2021-03-26T13:02:57.380952Z",
     "iopub.status.idle": "2021-03-26T13:02:57.455191Z",
     "shell.execute_reply": "2021-03-26T13:02:57.455631Z"
    }
   },
   "outputs": [
    {
     "data": {
      "image/svg+xml": [
       "<?xml version=\"1.0\" encoding=\"UTF-8\" standalone=\"no\"?><svg xmlns=\"http://www.w3.org/2000/svg\" xmlns:xlink=\"http://www.w3.org/1999/xlink\" contentScriptType=\"application/ecmascript\" contentStyleType=\"text/css\" height=\"207px\" preserveAspectRatio=\"none\" style=\"width:109px;height:207px;\" version=\"1.1\" viewBox=\"0 0 109 207\" width=\"109px\" zoomAndPan=\"magnify\"><defs/><g><!--MD5=[43c9051892ef23e1a46a86907403d788]\n",
       "class E1--><a href=\"psysml:a1000395-17a0-47e2-a13d-a24f0cfe83d5\" target=\"_top\" title=\"psysml:a1000395-17a0-47e2-a13d-a24f0cfe83d5\" xlink:actuate=\"onRequest\" xlink:href=\"psysml:a1000395-17a0-47e2-a13d-a24f0cfe83d5\" xlink:show=\"new\" xlink:title=\"psysml:a1000395-17a0-47e2-a13d-a24f0cfe83d5\" xlink:type=\"simple\"><rect fill=\"#FFFFFF\" height=\"189.9844\" id=\"E1\" style=\"stroke: #383838; stroke-width: 1.5;\" width=\"91\" x=\"7\" y=\"7\"/><text fill=\"#000000\" font-family=\"sans-serif\" font-size=\"12\" font-style=\"italic\" lengthAdjust=\"spacingAndGlyphs\" textLength=\"77\" x=\"14\" y=\"23.1387\">«action def»</text><text fill=\"#000000\" font-family=\"sans-serif\" font-size=\"12\" lengthAdjust=\"spacingAndGlyphs\" textLength=\"80\" x=\"12.5\" y=\"37.1074\">DecisionTest</text><line style=\"stroke: #383838; stroke-width: 1.5;\" x1=\"8\" x2=\"97\" y1=\"44.9375\" y2=\"44.9375\"/><text fill=\"#000000\" font-family=\"sans-serif\" font-size=\"11\" lengthAdjust=\"spacingAndGlyphs\" textLength=\"6\" x=\"13\" y=\"75.9526\">x</text><line style=\"stroke: #383838; stroke-width: 1.0;\" x1=\"8\" x2=\"25\" y1=\"59.3398\" y2=\"59.3398\"/><text fill=\"#000000\" font-family=\"sans-serif\" font-size=\"11\" lengthAdjust=\"spacingAndGlyphs\" textLength=\"55\" x=\"25\" y=\"62.6479\">attributes</text><line style=\"stroke: #383838; stroke-width: 1.0;\" x1=\"80\" x2=\"97\" y1=\"59.3398\" y2=\"59.3398\"/><text fill=\"#000000\" font-family=\"sans-serif\" font-size=\"11\" lengthAdjust=\"spacingAndGlyphs\" textLength=\"14\" x=\"13\" y=\"105.562\">A1</text><text fill=\"#000000\" font-family=\"sans-serif\" font-size=\"11\" lengthAdjust=\"spacingAndGlyphs\" textLength=\"14\" x=\"13\" y=\"118.3667\">A2</text><text fill=\"#000000\" font-family=\"sans-serif\" font-size=\"11\" lengthAdjust=\"spacingAndGlyphs\" textLength=\"14\" x=\"13\" y=\"131.1714\">A3</text><line style=\"stroke: #383838; stroke-width: 1.0;\" x1=\"8\" x2=\"32\" y1=\"88.9492\" y2=\"88.9492\"/><text fill=\"#000000\" font-family=\"sans-serif\" font-size=\"11\" lengthAdjust=\"spacingAndGlyphs\" textLength=\"41\" x=\"32\" y=\"92.2573\">actions</text><line style=\"stroke: #383838; stroke-width: 1.0;\" x1=\"73\" x2=\"97\" y1=\"88.9492\" y2=\"88.9492\"/><text fill=\"#000000\" font-family=\"sans-serif\" font-size=\"11\" lengthAdjust=\"spacingAndGlyphs\" textLength=\"32\" x=\"13\" y=\"160.7808\">test x</text><line style=\"stroke: #383838; stroke-width: 1.0;\" x1=\"8\" x2=\"11\" y1=\"144.168\" y2=\"144.168\"/><text fill=\"#000000\" font-family=\"sans-serif\" font-size=\"11\" lengthAdjust=\"spacingAndGlyphs\" textLength=\"83\" x=\"11\" y=\"147.4761\">decisionNodes</text><line style=\"stroke: #383838; stroke-width: 1.0;\" x1=\"94\" x2=\"97\" y1=\"144.168\" y2=\"144.168\"/><text fill=\"#000000\" font-family=\"sans-serif\" font-size=\"11\" lengthAdjust=\"spacingAndGlyphs\" textLength=\"8\" x=\"13\" y=\"190.3901\">S</text><line style=\"stroke: #383838; stroke-width: 1.0;\" x1=\"8\" x2=\"22\" y1=\"173.7773\" y2=\"173.7773\"/><text fill=\"#000000\" font-family=\"sans-serif\" font-size=\"11\" lengthAdjust=\"spacingAndGlyphs\" textLength=\"61\" x=\"22\" y=\"177.0854\">transitions</text><line style=\"stroke: #383838; stroke-width: 1.0;\" x1=\"83\" x2=\"97\" y1=\"173.7773\" y2=\"173.7773\"/></a><!--MD5=[941cb24fa8b157a6e9b59028068706d1]\n",
       "@startuml\r\n",
       "left to right direction\r\n",
       "skinparam monochrome true\r\n",
       "skinparam classbackgroundcolor white\r\n",
       "skinparam shadowing false\r\n",
       "skinparam wrapWidth 300\r\n",
       "hide circle\r\n",
       "\r\n",
       "comp def \"DecisionTest\" as E1  <<(T,blue)action def>> [[psysml:a1000395-17a0-47e2-a13d-a24f0cfe83d5 ]] {\r\n",
       "- - attributes - -\r\n",
       "x\r\n",
       "- - actions - -\r\n",
       "A1\r\n",
       "A2\r\n",
       "A3\r\n",
       "- - decisionNodes - -\r\n",
       "test x\r\n",
       "- - transitions - -\r\n",
       "S\r\n",
       "}\r\n",
       "@enduml\r\n",
       "\n",
       "PlantUML version 1.2020.13(Sat Jun 13 12:26:38 UTC 2020)\n",
       "(EPL source distribution)\n",
       "Java Runtime: OpenJDK Runtime Environment\n",
       "JVM: OpenJDK 64-Bit Server VM\n",
       "Default Encoding: UTF-8\n",
       "Language: en\n",
       "Country: null\n",
       "--></g></svg>"
      ]
     },
     "execution_count": 17,
     "metadata": {},
     "output_type": "execute_result"
    }
   ],
   "source": [
    "%viz --style=\"LR\" --view=\"Tree\" \"DecisionTest\""
   ]
  },
  {
   "cell_type": "code",
   "execution_count": 18,
   "id": "inclusive-hanging",
   "metadata": {
    "execution": {
     "iopub.execute_input": "2021-03-26T13:02:57.510071Z",
     "iopub.status.busy": "2021-03-26T13:02:57.509249Z",
     "iopub.status.idle": "2021-03-26T13:02:57.516358Z",
     "shell.execute_reply": "2021-03-26T13:02:57.515953Z"
    }
   },
   "outputs": [
    {
     "data": {
      "image/svg+xml": [
       "<?xml version=\"1.0\" encoding=\"UTF-8\" standalone=\"no\"?><svg xmlns=\"http://www.w3.org/2000/svg\" xmlns:xlink=\"http://www.w3.org/1999/xlink\" contentScriptType=\"application/ecmascript\" contentStyleType=\"text/css\" height=\"12px\" preserveAspectRatio=\"none\" style=\"width:12px;height:12px;\" version=\"1.1\" viewBox=\"0 0 12 12\" width=\"12px\" zoomAndPan=\"magnify\"><defs/><g><!--MD5=[19d285c9d72a204eba4e2cd117d745e8]\n",
       "@startuml\r\n",
       "left to right direction\r\n",
       "skinparam monochrome true\r\n",
       "skinparam classbackgroundcolor white\r\n",
       "skinparam shadowing false\r\n",
       "skinparam wrapWidth 300\r\n",
       "hide circle\r\n",
       "\r\n",
       "@enduml\r\n",
       "\n",
       "PlantUML version 1.2020.13(Sat Jun 13 12:26:38 UTC 2020)\n",
       "(EPL source distribution)\n",
       "Java Runtime: OpenJDK Runtime Environment\n",
       "JVM: OpenJDK 64-Bit Server VM\n",
       "Default Encoding: UTF-8\n",
       "Language: en\n",
       "Country: null\n",
       "--></g></svg>"
      ]
     },
     "execution_count": 18,
     "metadata": {},
     "output_type": "execute_result"
    }
   ],
   "source": [
    "%viz --style=\"LR\" --view=\"State\" \"DecisionTest\""
   ]
  },
  {
   "cell_type": "code",
   "execution_count": 19,
   "id": "herbal-mexican",
   "metadata": {
    "execution": {
     "iopub.execute_input": "2021-03-26T13:02:57.575895Z",
     "iopub.status.busy": "2021-03-26T13:02:57.575474Z",
     "iopub.status.idle": "2021-03-26T13:02:57.581635Z",
     "shell.execute_reply": "2021-03-26T13:02:57.581966Z"
    }
   },
   "outputs": [
    {
     "data": {
      "image/svg+xml": [
       "<?xml version=\"1.0\" encoding=\"UTF-8\" standalone=\"no\"?><svg xmlns=\"http://www.w3.org/2000/svg\" xmlns:xlink=\"http://www.w3.org/1999/xlink\" contentScriptType=\"application/ecmascript\" contentStyleType=\"text/css\" height=\"60px\" preserveAspectRatio=\"none\" style=\"width:109px;height:60px;\" version=\"1.1\" viewBox=\"0 0 109 60\" width=\"109px\" zoomAndPan=\"magnify\"><defs/><g><g id=\"E1\"><a href=\"psysml:a1000395-17a0-47e2-a13d-a24f0cfe83d5\" target=\"_top\" title=\"psysml:a1000395-17a0-47e2-a13d-a24f0cfe83d5\" xlink:actuate=\"onRequest\" xlink:href=\"psysml:a1000395-17a0-47e2-a13d-a24f0cfe83d5\" xlink:show=\"new\" xlink:title=\"psysml:a1000395-17a0-47e2-a13d-a24f0cfe83d5\" xlink:type=\"simple\"><rect fill=\"#FFFFFF\" height=\"42.9375\" id=\"E1\" style=\"stroke: #383838; stroke-width: 1.5;\" width=\"91\" x=\"7\" y=\"7\"/><rect fill=\"#F8F8F8\" height=\"37.9375\" style=\"stroke: #383838; stroke-width: 1.5;\" width=\"91\" x=\"7\" y=\"7\"/><text fill=\"#000000\" font-family=\"sans-serif\" font-size=\"12\" font-style=\"italic\" lengthAdjust=\"spacingAndGlyphs\" textLength=\"77\" x=\"14\" y=\"23.1387\">«action def»</text><text fill=\"#000000\" font-family=\"sans-serif\" font-size=\"12\" lengthAdjust=\"spacingAndGlyphs\" textLength=\"80\" x=\"12.5\" y=\"37.1074\">DecisionTest</text></a></g><!--MD5=[7a323c6253dd40c8378765f05476ce90]\n",
       "@startuml\r\n",
       "skinparam ranksep 8\r\n",
       "skinparam rectangle {\r\n",
       " backgroundColor<<block>> LightGreen\r\n",
       "}\r\n",
       "left to right direction\r\n",
       "skinparam monochrome true\r\n",
       "skinparam classbackgroundcolor white\r\n",
       "skinparam shadowing false\r\n",
       "skinparam wrapWidth 300\r\n",
       "hide circle\r\n",
       "\r\n",
       "def \"DecisionTest\" as E1  <<(T,blue)action def>> [[psysml:a1000395-17a0-47e2-a13d-a24f0cfe83d5 ]] \r\n",
       "@enduml\r\n",
       "\n",
       "PlantUML version 1.2020.13(Sat Jun 13 12:26:38 UTC 2020)\n",
       "(EPL source distribution)\n",
       "Java Runtime: OpenJDK Runtime Environment\n",
       "JVM: OpenJDK 64-Bit Server VM\n",
       "Default Encoding: UTF-8\n",
       "Language: en\n",
       "Country: null\n",
       "--></g></svg>"
      ]
     },
     "execution_count": 19,
     "metadata": {},
     "output_type": "execute_result"
    }
   ],
   "source": [
    "%viz --style=\"LR\" --view=\"Interconnection\" \"DecisionTest\""
   ]
  },
  {
   "cell_type": "code",
   "execution_count": 20,
   "id": "macro-tunisia",
   "metadata": {
    "execution": {
     "iopub.execute_input": "2021-03-26T13:02:57.631608Z",
     "iopub.status.busy": "2021-03-26T13:02:57.631045Z",
     "iopub.status.idle": "2021-03-26T13:02:57.646262Z",
     "shell.execute_reply": "2021-03-26T13:02:57.644716Z"
    }
   },
   "outputs": [
    {
     "data": {
      "image/svg+xml": [
       "<?xml version=\"1.0\" encoding=\"UTF-8\" standalone=\"no\"?><svg xmlns=\"http://www.w3.org/2000/svg\" xmlns:xlink=\"http://www.w3.org/1999/xlink\" contentScriptType=\"application/ecmascript\" contentStyleType=\"text/css\" height=\"304px\" preserveAspectRatio=\"none\" style=\"width:871px;height:304px;background:#000000;\" version=\"1.1\" viewBox=\"0 0 871 304\" width=\"871px\" zoomAndPan=\"magnify\"><defs/><g><rect fill=\"#1A1013\" height=\"1\" style=\"stroke: #1A1013; stroke-width: 1.0;\" width=\"1\" x=\"0\" y=\"0\"/><rect fill=\"#33FF02\" height=\"21.2969\" style=\"stroke: #33FF02; stroke-width: 1.0;\" width=\"864\" x=\"5\" y=\"5\"/><text fill=\"#000000\" font-family=\"sans-serif\" font-size=\"14\" font-weight=\"bold\" lengthAdjust=\"spacingAndGlyphs\" textLength=\"178\" x=\"6\" y=\"20\">[From string (line 15) ]</text><text fill=\"#33FF02\" font-family=\"sans-serif\" font-size=\"14\" font-weight=\"bold\" lengthAdjust=\"spacingAndGlyphs\" textLength=\"0\" x=\"10\" y=\"40.2969\"/><text fill=\"#33FF02\" font-family=\"sans-serif\" font-size=\"14\" font-weight=\"bold\" lengthAdjust=\"spacingAndGlyphs\" textLength=\"79\" x=\"5\" y=\"56.5938\">@startuml</text><text fill=\"#33FF02\" font-family=\"sans-serif\" font-size=\"14\" font-weight=\"bold\" lengthAdjust=\"spacingAndGlyphs\" textLength=\"165\" x=\"5\" y=\"72.8906\">skinparam ranksep 8</text><text fill=\"#33FF02\" font-family=\"sans-serif\" font-size=\"14\" font-weight=\"bold\" lengthAdjust=\"spacingAndGlyphs\" textLength=\"164\" x=\"5\" y=\"89.1875\">left to right direction</text><text fill=\"#33FF02\" font-family=\"sans-serif\" font-size=\"14\" font-weight=\"bold\" lengthAdjust=\"spacingAndGlyphs\" textLength=\"228\" x=\"5\" y=\"105.4844\">skinparam monochrome true</text><text fill=\"#33FF02\" font-family=\"sans-serif\" font-size=\"14\" font-weight=\"bold\" lengthAdjust=\"spacingAndGlyphs\" textLength=\"309\" x=\"5\" y=\"121.7813\">skinparam classbackgroundcolor white</text><text fill=\"#33FF02\" font-family=\"sans-serif\" font-size=\"14\" font-weight=\"bold\" lengthAdjust=\"spacingAndGlyphs\" textLength=\"215\" x=\"5\" y=\"138.0781\">skinparam shadowing false</text><text fill=\"#33FF02\" font-family=\"sans-serif\" font-size=\"14\" font-weight=\"bold\" lengthAdjust=\"spacingAndGlyphs\" textLength=\"206\" x=\"5\" y=\"154.375\">skinparam wrapWidth 300</text><text fill=\"#33FF02\" font-family=\"sans-serif\" font-size=\"14\" font-weight=\"bold\" lengthAdjust=\"spacingAndGlyphs\" textLength=\"82\" x=\"5\" y=\"170.6719\">hide circle</text><text fill=\"#33FF02\" font-family=\"sans-serif\" font-size=\"14\" font-weight=\"bold\" lengthAdjust=\"spacingAndGlyphs\" textLength=\"0\" x=\"10\" y=\"186.9688\"/><text fill=\"#33FF02\" font-family=\"sans-serif\" font-size=\"14\" font-weight=\"bold\" lengthAdjust=\"spacingAndGlyphs\" textLength=\"864\" x=\"5\" y=\"203.2656\">rec def \"DecisionTest\" as E1  &lt;&lt;(T,blue)action def&gt;&gt; [[psysml:a1000395-17a0-47e2-a13d-a24f0cfe83d5 ]] {</text><text fill=\"#33FF02\" font-family=\"sans-serif\" font-size=\"14\" font-weight=\"bold\" lengthAdjust=\"spacingAndGlyphs\" textLength=\"616\" x=\"5\" y=\"219.5625\">portout \"$result\" as E2  [[psysml:7254dab9-2ab0-4b4a-abf0-a8118207784b ]]</text><text fill=\"#33FF02\" font-family=\"sans-serif\" font-size=\"14\" font-weight=\"bold\" lengthAdjust=\"spacingAndGlyphs\" textLength=\"862\" x=\"5\" y=\"235.8594\">rec usage \"test x\" as E3  &lt;&lt;(T,blue)decisionNode&gt;&gt; [[psysml:7423d99a-f58c-40be-9ad8-b7209845a744 ]] {</text><text fill=\"#33FF02\" font-family=\"sans-serif\" font-size=\"14\" font-weight=\"bold\" lengthAdjust=\"spacingAndGlyphs\" textLength=\"10\" x=\"5\" y=\"252.1563\">}</text><text fill=\"#33FF02\" font-family=\"sans-serif\" font-size=\"14\" font-weight=\"bold\" lengthAdjust=\"spacingAndGlyphs\" textLength=\"0\" x=\"10\" y=\"268.4531\"/><text fill=\"#33FF02\" font-family=\"sans-serif\" font-size=\"14\" font-weight=\"bold\" lengthAdjust=\"spacingAndGlyphs\" textLength=\"10\" x=\"5\" y=\"284.75\">{</text><text fill=\"#FF0000\" font-family=\"sans-serif\" font-size=\"14\" font-weight=\"bold\" lengthAdjust=\"spacingAndGlyphs\" textLength=\"106\" x=\"10\" y=\"301.0469\">Syntax Error?</text><!--MD5=[bb260e66180cde1a3529126fb539cfb3]\n",
       "@startuml\r\n",
       "skinparam ranksep 8\r\n",
       "left to right direction\r\n",
       "skinparam monochrome true\r\n",
       "skinparam classbackgroundcolor white\r\n",
       "skinparam shadowing false\r\n",
       "skinparam wrapWidth 300\r\n",
       "hide circle\r\n",
       "\r\n",
       "rec def \"DecisionTest\" as E1  <<(T,blue)action def>> [[psysml:a1000395-17a0-47e2-a13d-a24f0cfe83d5 ]] {\r\n",
       "portout \"$result\" as E2  [[psysml:7254dab9-2ab0-4b4a-abf0-a8118207784b ]] \r\n",
       "rec usage \"test x\" as E3  <<(T,blue)decisionNode>> [[psysml:7423d99a-f58c-40be-9ad8-b7209845a744 ]] {\r\n",
       "}\r\n",
       "\r\n",
       "{\r\n",
       "portout \"$result\" as E4  [[psysml:bceec577-4538-432a-b269-09d95bc9a7ff ]] \r\n",
       "portin \"$x\" as E5  [[psysml:8234b737-8b11-4286-80d5-041d60fcfb58 ]] \r\n",
       "portin \"$y\" as E6  [[psysml:7c1f2e2e-5ea9-440e-a0d7-bde68b741d93 ]] \r\n",
       "portout \"$result\" as E7  [[psysml:a1e656b7-cadc-4b3b-a176-c8c2724f8a9f ]] \r\n",
       "}\r\n",
       "\r\n",
       "{\r\n",
       "portout \"$result\" as E8  [[psysml:5e578666-287e-4471-a202-0fa6d9af79c3 ]] \r\n",
       "portin \"$x\" as E9  [[psysml:2e73bbcc-e1fb-462b-9f93-4a649e4b75e6 ]] \r\n",
       "portin \"$y\" as E10  [[psysml:167c4655-6099-4dd6-a555-0c294c9d5979 ]] \r\n",
       "portout \"$result\" as E11  [[psysml:c40f3f95-b4a1-4b20-9a7d-2c01b041f687 ]] \r\n",
       "}\r\n",
       "\r\n",
       "{\r\n",
       "}\r\n",
       "\r\n",
       "{\r\n",
       "}\r\n",
       "\r\n",
       "{\r\n",
       "portout \"$result\" as E12  [[psysml:9e913d35-b492-435f-9373-c501110f1eb9 ]] \r\n",
       "}\r\n",
       "\r\n",
       "{\r\n",
       "portout \"$result\" as E13  [[psysml:158e60b3-268a-4c98-b93c-7961067d80aa ]] \r\n",
       "}\r\n",
       "\r\n",
       "rec usage \"A1\" as E14  <<(T,blue)action>> [[psysml:eb7d07f9-3793-4a0f-a0fd-eb934e5bd3c4 ]] {\r\n",
       "}\r\n",
       "\r\n",
       "rec usage \"A2\" as E15  <<(T,blue)action>> [[psysml:dabafcbf-a70a-41b1-a12f-b84f33147f9e ]] {\r\n",
       "}\r\n",
       "\r\n",
       "rec usage \"A3\" as E16  <<(T,blue)action>> [[psysml:b33bccfd-da91-4304-87b6-52ca1fd70cda ]] {\r\n",
       "}\r\n",
       "\r\n",
       "rec usage \"S\" as E17  <<(T,blue)transition>> [[psysml:b992d367-0404-4f63-871a-2665bf27ec50 ]] {\r\n",
       "rec usage \"A1\" as E18  <<(T,blue)action>> [[psysml:eb7d07f9-3793-4a0f-a0fd-eb934e5bd3c4 ]] {\r\n",
       "}\r\n",
       "\r\n",
       "portout \"$result\" as E19  [[psysml:6c1c6685-5e76-423a-8864-05a29151138c ]] \r\n",
       "portin \"$x\" as E20  [[psysml:c04f5b6e-c0c0-4f8c-b615-27e7186d2d69 ]] \r\n",
       "portin \"$y\" as E21  [[psysml:9909dfe5-9552-4cba-a2bc-4098d95f63c2 ]] \r\n",
       "portout \"$result\" as E22  [[psysml:bcbff8ec-917c-48b5-9f11-9f30a636696f ]] \r\n",
       "}\r\n",
       "\r\n",
       "rec usage \"A3\" as E23  <<(T,blue)action>> [[psysml:b33bccfd-da91-4304-87b6-52ca1fd70cda ]] {\r\n",
       "}\r\n",
       "\r\n",
       "{\r\n",
       "portout \"$result\" as E24  [[psysml:361e6a6e-e017-4926-975f-092030fcbf35 ]] \r\n",
       "portin \"$x\" as E25  [[psysml:01ce4d67-3e05-4f8c-92a8-b88c5ffa81ca ]] \r\n",
       "portin \"$y\" as E26  [[psysml:9a2f800a-bedb-42f6-8036-b5924649c324 ]] \r\n",
       "portout \"$result\" as E27  [[psysml:320da7bf-4cff-49a0-90e2-2e9a2a898b7b ]] \r\n",
       "}\r\n",
       "\r\n",
       "}\r\n",
       "\r\n",
       "@enduml\r\n",
       "\n",
       "PlantUML version 1.2020.13(Sat Jun 13 12:26:38 UTC 2020)\n",
       "(EPL source distribution)\n",
       "Java Runtime: OpenJDK Runtime Environment\n",
       "JVM: OpenJDK 64-Bit Server VM\n",
       "Default Encoding: UTF-8\n",
       "Language: en\n",
       "Country: null\n",
       "--></g></svg>"
      ]
     },
     "execution_count": 20,
     "metadata": {},
     "output_type": "execute_result"
    }
   ],
   "source": [
    "%viz --style=\"LR\" --view=\"Action\" \"DecisionTest\""
   ]
  },
  {
   "cell_type": "code",
   "execution_count": 21,
   "id": "strange-jefferson",
   "metadata": {
    "execution": {
     "iopub.execute_input": "2021-03-26T13:02:57.700024Z",
     "iopub.status.busy": "2021-03-26T13:02:57.699150Z",
     "iopub.status.idle": "2021-03-26T13:02:57.769454Z",
     "shell.execute_reply": "2021-03-26T13:02:57.768991Z"
    }
   },
   "outputs": [
    {
     "data": {
      "image/svg+xml": [
       "<?xml version=\"1.0\" encoding=\"UTF-8\" standalone=\"no\"?><svg xmlns=\"http://www.w3.org/2000/svg\" xmlns:xlink=\"http://www.w3.org/1999/xlink\" contentScriptType=\"application/ecmascript\" contentStyleType=\"text/css\" height=\"207px\" preserveAspectRatio=\"none\" style=\"width:109px;height:207px;\" version=\"1.1\" viewBox=\"0 0 109 207\" width=\"109px\" zoomAndPan=\"magnify\"><defs/><g><!--MD5=[43c9051892ef23e1a46a86907403d788]\n",
       "class E1--><a href=\"psysml:a1000395-17a0-47e2-a13d-a24f0cfe83d5\" target=\"_top\" title=\"psysml:a1000395-17a0-47e2-a13d-a24f0cfe83d5\" xlink:actuate=\"onRequest\" xlink:href=\"psysml:a1000395-17a0-47e2-a13d-a24f0cfe83d5\" xlink:show=\"new\" xlink:title=\"psysml:a1000395-17a0-47e2-a13d-a24f0cfe83d5\" xlink:type=\"simple\"><rect fill=\"#FFFFFF\" height=\"189.9844\" id=\"E1\" style=\"stroke: #383838; stroke-width: 1.5;\" width=\"91\" x=\"7\" y=\"7\"/><text fill=\"#000000\" font-family=\"sans-serif\" font-size=\"12\" font-style=\"italic\" lengthAdjust=\"spacingAndGlyphs\" textLength=\"77\" x=\"14\" y=\"23.1387\">«action def»</text><text fill=\"#000000\" font-family=\"sans-serif\" font-size=\"12\" lengthAdjust=\"spacingAndGlyphs\" textLength=\"80\" x=\"12.5\" y=\"37.1074\">DecisionTest</text><line style=\"stroke: #383838; stroke-width: 1.5;\" x1=\"8\" x2=\"97\" y1=\"44.9375\" y2=\"44.9375\"/><text fill=\"#000000\" font-family=\"sans-serif\" font-size=\"11\" lengthAdjust=\"spacingAndGlyphs\" textLength=\"6\" x=\"13\" y=\"75.9526\">x</text><line style=\"stroke: #383838; stroke-width: 1.0;\" x1=\"8\" x2=\"25\" y1=\"59.3398\" y2=\"59.3398\"/><text fill=\"#000000\" font-family=\"sans-serif\" font-size=\"11\" lengthAdjust=\"spacingAndGlyphs\" textLength=\"55\" x=\"25\" y=\"62.6479\">attributes</text><line style=\"stroke: #383838; stroke-width: 1.0;\" x1=\"80\" x2=\"97\" y1=\"59.3398\" y2=\"59.3398\"/><text fill=\"#000000\" font-family=\"sans-serif\" font-size=\"11\" lengthAdjust=\"spacingAndGlyphs\" textLength=\"14\" x=\"13\" y=\"105.562\">A1</text><text fill=\"#000000\" font-family=\"sans-serif\" font-size=\"11\" lengthAdjust=\"spacingAndGlyphs\" textLength=\"14\" x=\"13\" y=\"118.3667\">A2</text><text fill=\"#000000\" font-family=\"sans-serif\" font-size=\"11\" lengthAdjust=\"spacingAndGlyphs\" textLength=\"14\" x=\"13\" y=\"131.1714\">A3</text><line style=\"stroke: #383838; stroke-width: 1.0;\" x1=\"8\" x2=\"32\" y1=\"88.9492\" y2=\"88.9492\"/><text fill=\"#000000\" font-family=\"sans-serif\" font-size=\"11\" lengthAdjust=\"spacingAndGlyphs\" textLength=\"41\" x=\"32\" y=\"92.2573\">actions</text><line style=\"stroke: #383838; stroke-width: 1.0;\" x1=\"73\" x2=\"97\" y1=\"88.9492\" y2=\"88.9492\"/><text fill=\"#000000\" font-family=\"sans-serif\" font-size=\"11\" lengthAdjust=\"spacingAndGlyphs\" textLength=\"32\" x=\"13\" y=\"160.7808\">test x</text><line style=\"stroke: #383838; stroke-width: 1.0;\" x1=\"8\" x2=\"11\" y1=\"144.168\" y2=\"144.168\"/><text fill=\"#000000\" font-family=\"sans-serif\" font-size=\"11\" lengthAdjust=\"spacingAndGlyphs\" textLength=\"83\" x=\"11\" y=\"147.4761\">decisionNodes</text><line style=\"stroke: #383838; stroke-width: 1.0;\" x1=\"94\" x2=\"97\" y1=\"144.168\" y2=\"144.168\"/><text fill=\"#000000\" font-family=\"sans-serif\" font-size=\"11\" lengthAdjust=\"spacingAndGlyphs\" textLength=\"8\" x=\"13\" y=\"190.3901\">S</text><line style=\"stroke: #383838; stroke-width: 1.0;\" x1=\"8\" x2=\"22\" y1=\"173.7773\" y2=\"173.7773\"/><text fill=\"#000000\" font-family=\"sans-serif\" font-size=\"11\" lengthAdjust=\"spacingAndGlyphs\" textLength=\"61\" x=\"22\" y=\"177.0854\">transitions</text><line style=\"stroke: #383838; stroke-width: 1.0;\" x1=\"83\" x2=\"97\" y1=\"173.7773\" y2=\"173.7773\"/></a><!--MD5=[941cb24fa8b157a6e9b59028068706d1]\n",
       "@startuml\r\n",
       "left to right direction\r\n",
       "skinparam monochrome true\r\n",
       "skinparam classbackgroundcolor white\r\n",
       "skinparam shadowing false\r\n",
       "skinparam wrapWidth 300\r\n",
       "hide circle\r\n",
       "\r\n",
       "comp def \"DecisionTest\" as E1  <<(T,blue)action def>> [[psysml:a1000395-17a0-47e2-a13d-a24f0cfe83d5 ]] {\r\n",
       "- - attributes - -\r\n",
       "x\r\n",
       "- - actions - -\r\n",
       "A1\r\n",
       "A2\r\n",
       "A3\r\n",
       "- - decisionNodes - -\r\n",
       "test x\r\n",
       "- - transitions - -\r\n",
       "S\r\n",
       "}\r\n",
       "@enduml\r\n",
       "\n",
       "PlantUML version 1.2020.13(Sat Jun 13 12:26:38 UTC 2020)\n",
       "(EPL source distribution)\n",
       "Java Runtime: OpenJDK Runtime Environment\n",
       "JVM: OpenJDK 64-Bit Server VM\n",
       "Default Encoding: UTF-8\n",
       "Language: en\n",
       "Country: null\n",
       "--></g></svg>"
      ]
     },
     "execution_count": 21,
     "metadata": {},
     "output_type": "execute_result"
    }
   ],
   "source": [
    "%viz --style=\"LR\" --view=\"Sequence\" \"DecisionTest\""
   ]
  },
  {
   "cell_type": "code",
   "execution_count": 22,
   "id": "gross-discrimination",
   "metadata": {
    "execution": {
     "iopub.execute_input": "2021-03-26T13:02:57.821838Z",
     "iopub.status.busy": "2021-03-26T13:02:57.820921Z",
     "iopub.status.idle": "2021-03-26T13:02:57.836716Z",
     "shell.execute_reply": "2021-03-26T13:02:57.834812Z"
    }
   },
   "outputs": [
    {
     "data": {
      "image/svg+xml": [
       "<?xml version=\"1.0\" encoding=\"UTF-8\" standalone=\"no\"?><svg xmlns=\"http://www.w3.org/2000/svg\" xmlns:xlink=\"http://www.w3.org/1999/xlink\" contentScriptType=\"application/ecmascript\" contentStyleType=\"text/css\" height=\"288px\" preserveAspectRatio=\"none\" style=\"width:871px;height:288px;background:#000000;\" version=\"1.1\" viewBox=\"0 0 871 288\" width=\"871px\" zoomAndPan=\"magnify\"><defs/><g><rect fill=\"#11081F\" height=\"1\" style=\"stroke: #11081F; stroke-width: 1.0;\" width=\"1\" x=\"0\" y=\"0\"/><rect fill=\"#33FF02\" height=\"21.2969\" style=\"stroke: #33FF02; stroke-width: 1.0;\" width=\"864\" x=\"5\" y=\"5\"/><text fill=\"#000000\" font-family=\"sans-serif\" font-size=\"14\" font-weight=\"bold\" lengthAdjust=\"spacingAndGlyphs\" textLength=\"178\" x=\"6\" y=\"20\">[From string (line 14) ]</text><text fill=\"#33FF02\" font-family=\"sans-serif\" font-size=\"14\" font-weight=\"bold\" lengthAdjust=\"spacingAndGlyphs\" textLength=\"0\" x=\"10\" y=\"40.2969\"/><text fill=\"#33FF02\" font-family=\"sans-serif\" font-size=\"14\" font-weight=\"bold\" lengthAdjust=\"spacingAndGlyphs\" textLength=\"79\" x=\"5\" y=\"56.5938\">@startuml</text><text fill=\"#33FF02\" font-family=\"sans-serif\" font-size=\"14\" font-weight=\"bold\" lengthAdjust=\"spacingAndGlyphs\" textLength=\"164\" x=\"5\" y=\"72.8906\">left to right direction</text><text fill=\"#33FF02\" font-family=\"sans-serif\" font-size=\"14\" font-weight=\"bold\" lengthAdjust=\"spacingAndGlyphs\" textLength=\"228\" x=\"5\" y=\"89.1875\">skinparam monochrome true</text><text fill=\"#33FF02\" font-family=\"sans-serif\" font-size=\"14\" font-weight=\"bold\" lengthAdjust=\"spacingAndGlyphs\" textLength=\"309\" x=\"5\" y=\"105.4844\">skinparam classbackgroundcolor white</text><text fill=\"#33FF02\" font-family=\"sans-serif\" font-size=\"14\" font-weight=\"bold\" lengthAdjust=\"spacingAndGlyphs\" textLength=\"215\" x=\"5\" y=\"121.7813\">skinparam shadowing false</text><text fill=\"#33FF02\" font-family=\"sans-serif\" font-size=\"14\" font-weight=\"bold\" lengthAdjust=\"spacingAndGlyphs\" textLength=\"206\" x=\"5\" y=\"138.0781\">skinparam wrapWidth 300</text><text fill=\"#33FF02\" font-family=\"sans-serif\" font-size=\"14\" font-weight=\"bold\" lengthAdjust=\"spacingAndGlyphs\" textLength=\"82\" x=\"5\" y=\"154.375\">hide circle</text><text fill=\"#33FF02\" font-family=\"sans-serif\" font-size=\"14\" font-weight=\"bold\" lengthAdjust=\"spacingAndGlyphs\" textLength=\"0\" x=\"10\" y=\"170.6719\"/><text fill=\"#33FF02\" font-family=\"sans-serif\" font-size=\"14\" font-weight=\"bold\" lengthAdjust=\"spacingAndGlyphs\" textLength=\"864\" x=\"5\" y=\"186.9688\">rec def \"DecisionTest\" as E1  &lt;&lt;(T,blue)action def&gt;&gt; [[psysml:a1000395-17a0-47e2-a13d-a24f0cfe83d5 ]] {</text><text fill=\"#33FF02\" font-family=\"sans-serif\" font-size=\"14\" font-weight=\"bold\" lengthAdjust=\"spacingAndGlyphs\" textLength=\"616\" x=\"5\" y=\"203.2656\">portout \"$result\" as E2  [[psysml:7254dab9-2ab0-4b4a-abf0-a8118207784b ]]</text><text fill=\"#33FF02\" font-family=\"sans-serif\" font-size=\"14\" font-weight=\"bold\" lengthAdjust=\"spacingAndGlyphs\" textLength=\"862\" x=\"5\" y=\"219.5625\">rec usage \"test x\" as E3  &lt;&lt;(T,blue)decisionNode&gt;&gt; [[psysml:7423d99a-f58c-40be-9ad8-b7209845a744 ]] {</text><text fill=\"#33FF02\" font-family=\"sans-serif\" font-size=\"14\" font-weight=\"bold\" lengthAdjust=\"spacingAndGlyphs\" textLength=\"10\" x=\"5\" y=\"235.8594\">}</text><text fill=\"#33FF02\" font-family=\"sans-serif\" font-size=\"14\" font-weight=\"bold\" lengthAdjust=\"spacingAndGlyphs\" textLength=\"0\" x=\"10\" y=\"252.1563\"/><text fill=\"#33FF02\" font-family=\"sans-serif\" font-size=\"14\" font-weight=\"bold\" lengthAdjust=\"spacingAndGlyphs\" textLength=\"10\" x=\"5\" y=\"268.4531\">{</text><text fill=\"#FF0000\" font-family=\"sans-serif\" font-size=\"14\" font-weight=\"bold\" lengthAdjust=\"spacingAndGlyphs\" textLength=\"106\" x=\"10\" y=\"284.75\">Syntax Error?</text><!--MD5=[c26c5589f3dd52e3bc14591289793493]\n",
       "@startuml\r\n",
       "left to right direction\r\n",
       "skinparam monochrome true\r\n",
       "skinparam classbackgroundcolor white\r\n",
       "skinparam shadowing false\r\n",
       "skinparam wrapWidth 300\r\n",
       "hide circle\r\n",
       "\r\n",
       "rec def \"DecisionTest\" as E1  <<(T,blue)action def>> [[psysml:a1000395-17a0-47e2-a13d-a24f0cfe83d5 ]] {\r\n",
       "portout \"$result\" as E2  [[psysml:7254dab9-2ab0-4b4a-abf0-a8118207784b ]] \r\n",
       "rec usage \"test x\" as E3  <<(T,blue)decisionNode>> [[psysml:7423d99a-f58c-40be-9ad8-b7209845a744 ]] {\r\n",
       "}\r\n",
       "\r\n",
       "{\r\n",
       "portout \"$result\" as E4  [[psysml:bceec577-4538-432a-b269-09d95bc9a7ff ]] \r\n",
       "portin \"$x\" as E5  [[psysml:8234b737-8b11-4286-80d5-041d60fcfb58 ]] \r\n",
       "portin \"$y\" as E6  [[psysml:7c1f2e2e-5ea9-440e-a0d7-bde68b741d93 ]] \r\n",
       "portout \"$result\" as E7  [[psysml:a1e656b7-cadc-4b3b-a176-c8c2724f8a9f ]] \r\n",
       "}\r\n",
       "\r\n",
       "{\r\n",
       "portout \"$result\" as E8  [[psysml:5e578666-287e-4471-a202-0fa6d9af79c3 ]] \r\n",
       "portin \"$x\" as E9  [[psysml:2e73bbcc-e1fb-462b-9f93-4a649e4b75e6 ]] \r\n",
       "portin \"$y\" as E10  [[psysml:167c4655-6099-4dd6-a555-0c294c9d5979 ]] \r\n",
       "portout \"$result\" as E11  [[psysml:c40f3f95-b4a1-4b20-9a7d-2c01b041f687 ]] \r\n",
       "}\r\n",
       "\r\n",
       "{\r\n",
       "}\r\n",
       "\r\n",
       "{\r\n",
       "}\r\n",
       "\r\n",
       "{\r\n",
       "portout \"$result\" as E12  [[psysml:9e913d35-b492-435f-9373-c501110f1eb9 ]] \r\n",
       "}\r\n",
       "\r\n",
       "{\r\n",
       "portout \"$result\" as E13  [[psysml:158e60b3-268a-4c98-b93c-7961067d80aa ]] \r\n",
       "}\r\n",
       "\r\n",
       "rec usage \"A1\" as E14  <<(T,blue)action>> [[psysml:eb7d07f9-3793-4a0f-a0fd-eb934e5bd3c4 ]] {\r\n",
       "}\r\n",
       "\r\n",
       "rec usage \"A2\" as E15  <<(T,blue)action>> [[psysml:dabafcbf-a70a-41b1-a12f-b84f33147f9e ]] {\r\n",
       "}\r\n",
       "\r\n",
       "rec usage \"A3\" as E16  <<(T,blue)action>> [[psysml:b33bccfd-da91-4304-87b6-52ca1fd70cda ]] {\r\n",
       "}\r\n",
       "\r\n",
       "rec usage \"S\" as E17  <<(T,blue)transition>> [[psysml:b992d367-0404-4f63-871a-2665bf27ec50 ]] {\r\n",
       "rec usage \"A1\" as E18  <<(T,blue)action>> [[psysml:eb7d07f9-3793-4a0f-a0fd-eb934e5bd3c4 ]] {\r\n",
       "}\r\n",
       "\r\n",
       "portout \"$result\" as E19  [[psysml:6c1c6685-5e76-423a-8864-05a29151138c ]] \r\n",
       "portin \"$x\" as E20  [[psysml:c04f5b6e-c0c0-4f8c-b615-27e7186d2d69 ]] \r\n",
       "portin \"$y\" as E21  [[psysml:9909dfe5-9552-4cba-a2bc-4098d95f63c2 ]] \r\n",
       "portout \"$result\" as E22  [[psysml:bcbff8ec-917c-48b5-9f11-9f30a636696f ]] \r\n",
       "}\r\n",
       "\r\n",
       "rec usage \"A3\" as E23  <<(T,blue)action>> [[psysml:b33bccfd-da91-4304-87b6-52ca1fd70cda ]] {\r\n",
       "}\r\n",
       "\r\n",
       "{\r\n",
       "portout \"$result\" as E24  [[psysml:361e6a6e-e017-4926-975f-092030fcbf35 ]] \r\n",
       "portin \"$x\" as E25  [[psysml:01ce4d67-3e05-4f8c-92a8-b88c5ffa81ca ]] \r\n",
       "portin \"$y\" as E26  [[psysml:9a2f800a-bedb-42f6-8036-b5924649c324 ]] \r\n",
       "portout \"$result\" as E27  [[psysml:320da7bf-4cff-49a0-90e2-2e9a2a898b7b ]] \r\n",
       "}\r\n",
       "\r\n",
       "}\r\n",
       "\r\n",
       "@enduml\r\n",
       "\n",
       "PlantUML version 1.2020.13(Sat Jun 13 12:26:38 UTC 2020)\n",
       "(EPL source distribution)\n",
       "Java Runtime: OpenJDK Runtime Environment\n",
       "JVM: OpenJDK 64-Bit Server VM\n",
       "Default Encoding: UTF-8\n",
       "Language: en\n",
       "Country: null\n",
       "--></g></svg>"
      ]
     },
     "execution_count": 22,
     "metadata": {},
     "output_type": "execute_result"
    }
   ],
   "source": [
    "%viz --style=\"LR\" --view=\"MIXED\" \"DecisionTest\""
   ]
  },
  {
   "cell_type": "code",
   "execution_count": 23,
   "id": "respiratory-words",
   "metadata": {
    "execution": {
     "iopub.execute_input": "2021-03-26T13:02:57.888258Z",
     "iopub.status.busy": "2021-03-26T13:02:57.887532Z",
     "iopub.status.idle": "2021-03-26T13:02:57.959292Z",
     "shell.execute_reply": "2021-03-26T13:02:57.958999Z"
    }
   },
   "outputs": [
    {
     "data": {
      "image/svg+xml": [
       "<?xml version=\"1.0\" encoding=\"UTF-8\" standalone=\"no\"?><svg xmlns=\"http://www.w3.org/2000/svg\" xmlns:xlink=\"http://www.w3.org/1999/xlink\" contentScriptType=\"application/ecmascript\" contentStyleType=\"text/css\" height=\"223px\" preserveAspectRatio=\"none\" style=\"width:871px;height:223px;background:#000000;\" version=\"1.1\" viewBox=\"0 0 871 223\" width=\"871px\" zoomAndPan=\"magnify\"><defs/><g><rect fill=\"#27220A\" height=\"1\" style=\"stroke: #27220A; stroke-width: 1.0;\" width=\"1\" x=\"0\" y=\"0\"/><rect fill=\"#33FF02\" height=\"21.2969\" style=\"stroke: #33FF02; stroke-width: 1.0;\" width=\"864\" x=\"5\" y=\"5\"/><text fill=\"#000000\" font-family=\"sans-serif\" font-size=\"14\" font-weight=\"bold\" lengthAdjust=\"spacingAndGlyphs\" textLength=\"178\" x=\"6\" y=\"20\">[From string (line 10) ]</text><text fill=\"#33FF02\" font-family=\"sans-serif\" font-size=\"14\" font-weight=\"bold\" lengthAdjust=\"spacingAndGlyphs\" textLength=\"0\" x=\"10\" y=\"40.2969\"/><text fill=\"#33FF02\" font-family=\"sans-serif\" font-size=\"14\" font-weight=\"bold\" lengthAdjust=\"spacingAndGlyphs\" textLength=\"79\" x=\"5\" y=\"56.5938\">@startuml</text><text fill=\"#33FF02\" font-family=\"sans-serif\" font-size=\"14\" font-weight=\"bold\" lengthAdjust=\"spacingAndGlyphs\" textLength=\"206\" x=\"5\" y=\"72.8906\">skinparam wrapWidth 300</text><text fill=\"#33FF02\" font-family=\"sans-serif\" font-size=\"14\" font-weight=\"bold\" lengthAdjust=\"spacingAndGlyphs\" textLength=\"82\" x=\"5\" y=\"89.1875\">hide circle</text><text fill=\"#33FF02\" font-family=\"sans-serif\" font-size=\"14\" font-weight=\"bold\" lengthAdjust=\"spacingAndGlyphs\" textLength=\"0\" x=\"10\" y=\"105.4844\"/><text fill=\"#33FF02\" font-family=\"sans-serif\" font-size=\"14\" font-weight=\"bold\" lengthAdjust=\"spacingAndGlyphs\" textLength=\"864\" x=\"5\" y=\"121.7813\">rec def \"DecisionTest\" as E1  &lt;&lt;(T,blue)action def&gt;&gt; [[psysml:a1000395-17a0-47e2-a13d-a24f0cfe83d5 ]] {</text><text fill=\"#33FF02\" font-family=\"sans-serif\" font-size=\"14\" font-weight=\"bold\" lengthAdjust=\"spacingAndGlyphs\" textLength=\"616\" x=\"5\" y=\"138.0781\">portout \"$result\" as E2  [[psysml:7254dab9-2ab0-4b4a-abf0-a8118207784b ]]</text><text fill=\"#33FF02\" font-family=\"sans-serif\" font-size=\"14\" font-weight=\"bold\" lengthAdjust=\"spacingAndGlyphs\" textLength=\"862\" x=\"5\" y=\"154.375\">rec usage \"test x\" as E3  &lt;&lt;(T,blue)decisionNode&gt;&gt; [[psysml:7423d99a-f58c-40be-9ad8-b7209845a744 ]] {</text><text fill=\"#33FF02\" font-family=\"sans-serif\" font-size=\"14\" font-weight=\"bold\" lengthAdjust=\"spacingAndGlyphs\" textLength=\"10\" x=\"5\" y=\"170.6719\">}</text><text fill=\"#33FF02\" font-family=\"sans-serif\" font-size=\"14\" font-weight=\"bold\" lengthAdjust=\"spacingAndGlyphs\" textLength=\"0\" x=\"10\" y=\"186.9688\"/><text fill=\"#33FF02\" font-family=\"sans-serif\" font-size=\"14\" font-weight=\"bold\" lengthAdjust=\"spacingAndGlyphs\" textLength=\"10\" x=\"5\" y=\"203.2656\">{</text><text fill=\"#FF0000\" font-family=\"sans-serif\" font-size=\"14\" font-weight=\"bold\" lengthAdjust=\"spacingAndGlyphs\" textLength=\"106\" x=\"10\" y=\"219.5625\">Syntax Error?</text><!--MD5=[de27b31acd6e022729072d734a18d78c]\n",
       "@startuml\r\n",
       "skinparam wrapWidth 300\r\n",
       "hide circle\r\n",
       "\r\n",
       "rec def \"DecisionTest\" as E1  <<(T,blue)action def>> [[psysml:a1000395-17a0-47e2-a13d-a24f0cfe83d5 ]] {\r\n",
       "portout \"$result\" as E2  [[psysml:7254dab9-2ab0-4b4a-abf0-a8118207784b ]] \r\n",
       "rec usage \"test x\" as E3  <<(T,blue)decisionNode>> [[psysml:7423d99a-f58c-40be-9ad8-b7209845a744 ]] {\r\n",
       "}\r\n",
       "\r\n",
       "{\r\n",
       "portout \"$result\" as E4  [[psysml:bceec577-4538-432a-b269-09d95bc9a7ff ]] \r\n",
       "portin \"$x\" as E5  [[psysml:8234b737-8b11-4286-80d5-041d60fcfb58 ]] \r\n",
       "portin \"$y\" as E6  [[psysml:7c1f2e2e-5ea9-440e-a0d7-bde68b741d93 ]] \r\n",
       "portout \"$result\" as E7  [[psysml:a1e656b7-cadc-4b3b-a176-c8c2724f8a9f ]] \r\n",
       "}\r\n",
       "\r\n",
       "{\r\n",
       "portout \"$result\" as E8  [[psysml:5e578666-287e-4471-a202-0fa6d9af79c3 ]] \r\n",
       "portin \"$x\" as E9  [[psysml:2e73bbcc-e1fb-462b-9f93-4a649e4b75e6 ]] \r\n",
       "portin \"$y\" as E10  [[psysml:167c4655-6099-4dd6-a555-0c294c9d5979 ]] \r\n",
       "portout \"$result\" as E11  [[psysml:c40f3f95-b4a1-4b20-9a7d-2c01b041f687 ]] \r\n",
       "}\r\n",
       "\r\n",
       "{\r\n",
       "}\r\n",
       "\r\n",
       "{\r\n",
       "}\r\n",
       "\r\n",
       "{\r\n",
       "portout \"$result\" as E12  [[psysml:9e913d35-b492-435f-9373-c501110f1eb9 ]] \r\n",
       "}\r\n",
       "\r\n",
       "{\r\n",
       "portout \"$result\" as E13  [[psysml:158e60b3-268a-4c98-b93c-7961067d80aa ]] \r\n",
       "}\r\n",
       "\r\n",
       "rec usage \"A1\" as E14  <<(T,blue)action>> [[psysml:eb7d07f9-3793-4a0f-a0fd-eb934e5bd3c4 ]] {\r\n",
       "}\r\n",
       "\r\n",
       "rec usage \"A2\" as E15  <<(T,blue)action>> [[psysml:dabafcbf-a70a-41b1-a12f-b84f33147f9e ]] {\r\n",
       "}\r\n",
       "\r\n",
       "rec usage \"A3\" as E16  <<(T,blue)action>> [[psysml:b33bccfd-da91-4304-87b6-52ca1fd70cda ]] {\r\n",
       "}\r\n",
       "\r\n",
       "rec usage \"S\" as E17  <<(T,blue)transition>> [[psysml:b992d367-0404-4f63-871a-2665bf27ec50 ]] {\r\n",
       "rec usage \"A1\" as E18  <<(T,blue)action>> [[psysml:eb7d07f9-3793-4a0f-a0fd-eb934e5bd3c4 ]] {\r\n",
       "}\r\n",
       "\r\n",
       "portout \"$result\" as E19  [[psysml:6c1c6685-5e76-423a-8864-05a29151138c ]] \r\n",
       "portin \"$x\" as E20  [[psysml:c04f5b6e-c0c0-4f8c-b615-27e7186d2d69 ]] \r\n",
       "portin \"$y\" as E21  [[psysml:9909dfe5-9552-4cba-a2bc-4098d95f63c2 ]] \r\n",
       "portout \"$result\" as E22  [[psysml:bcbff8ec-917c-48b5-9f11-9f30a636696f ]] \r\n",
       "}\r\n",
       "\r\n",
       "rec usage \"A3\" as E23  <<(T,blue)action>> [[psysml:b33bccfd-da91-4304-87b6-52ca1fd70cda ]] {\r\n",
       "}\r\n",
       "\r\n",
       "{\r\n",
       "portout \"$result\" as E24  [[psysml:361e6a6e-e017-4926-975f-092030fcbf35 ]] \r\n",
       "portin \"$x\" as E25  [[psysml:01ce4d67-3e05-4f8c-92a8-b88c5ffa81ca ]] \r\n",
       "portin \"$y\" as E26  [[psysml:9a2f800a-bedb-42f6-8036-b5924649c324 ]] \r\n",
       "portout \"$result\" as E27  [[psysml:320da7bf-4cff-49a0-90e2-2e9a2a898b7b ]] \r\n",
       "}\r\n",
       "\r\n",
       "}\r\n",
       "\r\n",
       "@enduml\r\n",
       "\n",
       "PlantUML version 1.2020.13(Sat Jun 13 12:26:38 UTC 2020)\n",
       "(EPL source distribution)\n",
       "Java Runtime: OpenJDK Runtime Environment\n",
       "JVM: OpenJDK 64-Bit Server VM\n",
       "Default Encoding: UTF-8\n",
       "Language: en\n",
       "Country: null\n",
       "--></g></svg>"
      ]
     },
     "execution_count": 23,
     "metadata": {},
     "output_type": "execute_result"
    }
   ],
   "source": [
    "%viz --style=\"STDCOLOR\" --view=\"Default\" \"DecisionTest\""
   ]
  },
  {
   "cell_type": "code",
   "execution_count": 24,
   "id": "ranking-digit",
   "metadata": {
    "execution": {
     "iopub.execute_input": "2021-03-26T13:02:58.012209Z",
     "iopub.status.busy": "2021-03-26T13:02:58.011363Z",
     "iopub.status.idle": "2021-03-26T13:02:58.081213Z",
     "shell.execute_reply": "2021-03-26T13:02:58.081600Z"
    }
   },
   "outputs": [
    {
     "data": {
      "image/svg+xml": [
       "<?xml version=\"1.0\" encoding=\"UTF-8\" standalone=\"no\"?><svg xmlns=\"http://www.w3.org/2000/svg\" xmlns:xlink=\"http://www.w3.org/1999/xlink\" contentScriptType=\"application/ecmascript\" contentStyleType=\"text/css\" height=\"199px\" preserveAspectRatio=\"none\" style=\"width:117px;height:199px;\" version=\"1.1\" viewBox=\"0 0 117 199\" width=\"117px\" zoomAndPan=\"magnify\"><defs><filter height=\"300%\" id=\"f5w577im5r6sj\" width=\"300%\" x=\"-1\" y=\"-1\"><feGaussianBlur result=\"blurOut\" stdDeviation=\"2.0\"/><feColorMatrix in=\"blurOut\" result=\"blurOut2\" type=\"matrix\" values=\"0 0 0 0 0 0 0 0 0 0 0 0 0 0 0 0 0 0 .4 0\"/><feOffset dx=\"4.0\" dy=\"4.0\" in=\"blurOut2\" result=\"blurOut3\"/><feBlend in=\"SourceGraphic\" in2=\"blurOut3\" mode=\"normal\"/></filter></defs><g><!--MD5=[43c9051892ef23e1a46a86907403d788]\n",
       "class E1--><a href=\"psysml:a1000395-17a0-47e2-a13d-a24f0cfe83d5\" target=\"_top\" title=\"psysml:a1000395-17a0-47e2-a13d-a24f0cfe83d5\" xlink:actuate=\"onRequest\" xlink:href=\"psysml:a1000395-17a0-47e2-a13d-a24f0cfe83d5\" xlink:show=\"new\" xlink:title=\"psysml:a1000395-17a0-47e2-a13d-a24f0cfe83d5\" xlink:type=\"simple\"><rect fill=\"#FEFECE\" filter=\"url(#f5w577im5r6sj)\" height=\"173.1797\" id=\"E1\" style=\"stroke: #A80036; stroke-width: 1.5;\" width=\"91\" x=\"7\" y=\"7\"/><text fill=\"#000000\" font-family=\"sans-serif\" font-size=\"12\" font-style=\"italic\" lengthAdjust=\"spacingAndGlyphs\" textLength=\"77\" x=\"14\" y=\"23.1387\">«action def»</text><text fill=\"#000000\" font-family=\"sans-serif\" font-size=\"12\" lengthAdjust=\"spacingAndGlyphs\" textLength=\"80\" x=\"12.5\" y=\"37.1074\">DecisionTest</text><line style=\"stroke: #A80036; stroke-width: 1.5;\" x1=\"8\" x2=\"97\" y1=\"44.9375\" y2=\"44.9375\"/><text fill=\"#000000\" font-family=\"sans-serif\" font-size=\"11\" lengthAdjust=\"spacingAndGlyphs\" textLength=\"6\" x=\"13\" y=\"59.1479\">x</text><text fill=\"#000000\" font-family=\"sans-serif\" font-size=\"11\" lengthAdjust=\"spacingAndGlyphs\" textLength=\"14\" x=\"13\" y=\"88.7573\">A1</text><text fill=\"#000000\" font-family=\"sans-serif\" font-size=\"11\" lengthAdjust=\"spacingAndGlyphs\" textLength=\"14\" x=\"13\" y=\"101.562\">A2</text><text fill=\"#000000\" font-family=\"sans-serif\" font-size=\"11\" lengthAdjust=\"spacingAndGlyphs\" textLength=\"14\" x=\"13\" y=\"114.3667\">A3</text><line style=\"stroke: #A80036; stroke-width: 1.0;\" x1=\"8\" x2=\"32\" y1=\"72.1445\" y2=\"72.1445\"/><text fill=\"#000000\" font-family=\"sans-serif\" font-size=\"11\" lengthAdjust=\"spacingAndGlyphs\" textLength=\"41\" x=\"32\" y=\"75.4526\">actions</text><line style=\"stroke: #A80036; stroke-width: 1.0;\" x1=\"73\" x2=\"97\" y1=\"72.1445\" y2=\"72.1445\"/><text fill=\"#000000\" font-family=\"sans-serif\" font-size=\"11\" lengthAdjust=\"spacingAndGlyphs\" textLength=\"32\" x=\"13\" y=\"143.9761\">test x</text><line style=\"stroke: #A80036; stroke-width: 1.0;\" x1=\"8\" x2=\"11\" y1=\"127.3633\" y2=\"127.3633\"/><text fill=\"#000000\" font-family=\"sans-serif\" font-size=\"11\" lengthAdjust=\"spacingAndGlyphs\" textLength=\"83\" x=\"11\" y=\"130.6714\">decisionNodes</text><line style=\"stroke: #A80036; stroke-width: 1.0;\" x1=\"94\" x2=\"97\" y1=\"127.3633\" y2=\"127.3633\"/><text fill=\"#000000\" font-family=\"sans-serif\" font-size=\"11\" lengthAdjust=\"spacingAndGlyphs\" textLength=\"8\" x=\"13\" y=\"173.5854\">S</text><line style=\"stroke: #A80036; stroke-width: 1.0;\" x1=\"8\" x2=\"22\" y1=\"156.9727\" y2=\"156.9727\"/><text fill=\"#000000\" font-family=\"sans-serif\" font-size=\"11\" lengthAdjust=\"spacingAndGlyphs\" textLength=\"61\" x=\"22\" y=\"160.2808\">transitions</text><line style=\"stroke: #A80036; stroke-width: 1.0;\" x1=\"83\" x2=\"97\" y1=\"156.9727\" y2=\"156.9727\"/></a><!--MD5=[19ca39187b0426e25c4afffc25d8d7f8]\n",
       "@startuml\r\n",
       "skinparam wrapWidth 300\r\n",
       "hide circle\r\n",
       "\r\n",
       "comp def \"DecisionTest\" as E1  <<(T,blue)action def>> [[psysml:a1000395-17a0-47e2-a13d-a24f0cfe83d5 ]] {\r\n",
       "x\r\n",
       "- - actions - -\r\n",
       "A1\r\n",
       "A2\r\n",
       "A3\r\n",
       "- - decisionNodes - -\r\n",
       "test x\r\n",
       "- - transitions - -\r\n",
       "S\r\n",
       "}\r\n",
       "@enduml\r\n",
       "\n",
       "PlantUML version 1.2020.13(Sat Jun 13 12:26:38 UTC 2020)\n",
       "(EPL source distribution)\n",
       "Java Runtime: OpenJDK Runtime Environment\n",
       "JVM: OpenJDK 64-Bit Server VM\n",
       "Default Encoding: UTF-8\n",
       "Language: en\n",
       "Country: null\n",
       "--></g></svg>"
      ]
     },
     "execution_count": 24,
     "metadata": {},
     "output_type": "execute_result"
    }
   ],
   "source": [
    "%viz --style=\"STDCOLOR\" --view=\"Tree\" \"DecisionTest\""
   ]
  },
  {
   "cell_type": "code",
   "execution_count": 25,
   "id": "environmental-fairy",
   "metadata": {
    "execution": {
     "iopub.execute_input": "2021-03-26T13:02:58.133434Z",
     "iopub.status.busy": "2021-03-26T13:02:58.132964Z",
     "iopub.status.idle": "2021-03-26T13:02:58.139743Z",
     "shell.execute_reply": "2021-03-26T13:02:58.139305Z"
    }
   },
   "outputs": [
    {
     "data": {
      "image/svg+xml": [
       "<?xml version=\"1.0\" encoding=\"UTF-8\" standalone=\"no\"?><svg xmlns=\"http://www.w3.org/2000/svg\" xmlns:xlink=\"http://www.w3.org/1999/xlink\" contentScriptType=\"application/ecmascript\" contentStyleType=\"text/css\" height=\"12px\" preserveAspectRatio=\"none\" style=\"width:12px;height:12px;\" version=\"1.1\" viewBox=\"0 0 12 12\" width=\"12px\" zoomAndPan=\"magnify\"><defs/><g><!--MD5=[aeeef50f102b80d730deb6443d14f702]\n",
       "@startuml\r\n",
       "skinparam wrapWidth 300\r\n",
       "hide circle\r\n",
       "\r\n",
       "@enduml\r\n",
       "\n",
       "PlantUML version 1.2020.13(Sat Jun 13 12:26:38 UTC 2020)\n",
       "(EPL source distribution)\n",
       "Java Runtime: OpenJDK Runtime Environment\n",
       "JVM: OpenJDK 64-Bit Server VM\n",
       "Default Encoding: UTF-8\n",
       "Language: en\n",
       "Country: null\n",
       "--></g></svg>"
      ]
     },
     "execution_count": 25,
     "metadata": {},
     "output_type": "execute_result"
    }
   ],
   "source": [
    "%viz --style=\"STDCOLOR\" --view=\"State\" \"DecisionTest\""
   ]
  },
  {
   "cell_type": "code",
   "execution_count": 26,
   "id": "liked-likelihood",
   "metadata": {
    "execution": {
     "iopub.execute_input": "2021-03-26T13:02:58.191805Z",
     "iopub.status.busy": "2021-03-26T13:02:58.191054Z",
     "iopub.status.idle": "2021-03-26T13:02:58.200690Z",
     "shell.execute_reply": "2021-03-26T13:02:58.200270Z"
    }
   },
   "outputs": [
    {
     "data": {
      "image/svg+xml": [
       "<?xml version=\"1.0\" encoding=\"UTF-8\" standalone=\"no\"?><svg xmlns=\"http://www.w3.org/2000/svg\" xmlns:xlink=\"http://www.w3.org/1999/xlink\" contentScriptType=\"application/ecmascript\" contentStyleType=\"text/css\" height=\"68px\" preserveAspectRatio=\"none\" style=\"width:117px;height:68px;\" version=\"1.1\" viewBox=\"0 0 117 68\" width=\"117px\" zoomAndPan=\"magnify\"><defs><filter height=\"300%\" id=\"f1khns4dg18jx2\" width=\"300%\" x=\"-1\" y=\"-1\"><feGaussianBlur result=\"blurOut\" stdDeviation=\"2.0\"/><feColorMatrix in=\"blurOut\" result=\"blurOut2\" type=\"matrix\" values=\"0 0 0 0 0 0 0 0 0 0 0 0 0 0 0 0 0 0 .4 0\"/><feOffset dx=\"4.0\" dy=\"4.0\" in=\"blurOut2\" result=\"blurOut3\"/><feBlend in=\"SourceGraphic\" in2=\"blurOut3\" mode=\"normal\"/></filter></defs><g><g id=\"E1\"><a href=\"psysml:a1000395-17a0-47e2-a13d-a24f0cfe83d5\" target=\"_top\" title=\"psysml:a1000395-17a0-47e2-a13d-a24f0cfe83d5\" xlink:actuate=\"onRequest\" xlink:href=\"psysml:a1000395-17a0-47e2-a13d-a24f0cfe83d5\" xlink:show=\"new\" xlink:title=\"psysml:a1000395-17a0-47e2-a13d-a24f0cfe83d5\" xlink:type=\"simple\"><rect fill=\"#FEFECE\" filter=\"url(#f1khns4dg18jx2)\" height=\"42.9375\" id=\"E1\" style=\"stroke: #A80036; stroke-width: 1.5;\" width=\"91\" x=\"7\" y=\"7\"/><text fill=\"#000000\" font-family=\"sans-serif\" font-size=\"12\" font-style=\"italic\" lengthAdjust=\"spacingAndGlyphs\" textLength=\"77\" x=\"14\" y=\"23.1387\">«action def»</text><text fill=\"#000000\" font-family=\"sans-serif\" font-size=\"12\" lengthAdjust=\"spacingAndGlyphs\" textLength=\"80\" x=\"12.5\" y=\"37.1074\">DecisionTest</text></a></g><!--MD5=[4425d7ff295b2023cb95f30dae170d16]\n",
       "@startuml\r\n",
       "skinparam ranksep 8\r\n",
       "skinparam rectangle {\r\n",
       " backgroundColor<<block>> LightGreen\r\n",
       "}\r\n",
       "skinparam wrapWidth 300\r\n",
       "hide circle\r\n",
       "\r\n",
       "def \"DecisionTest\" as E1  <<(T,blue)action def>> [[psysml:a1000395-17a0-47e2-a13d-a24f0cfe83d5 ]] \r\n",
       "@enduml\r\n",
       "\n",
       "PlantUML version 1.2020.13(Sat Jun 13 12:26:38 UTC 2020)\n",
       "(EPL source distribution)\n",
       "Java Runtime: OpenJDK Runtime Environment\n",
       "JVM: OpenJDK 64-Bit Server VM\n",
       "Default Encoding: UTF-8\n",
       "Language: en\n",
       "Country: null\n",
       "--></g></svg>"
      ]
     },
     "execution_count": 26,
     "metadata": {},
     "output_type": "execute_result"
    }
   ],
   "source": [
    "%viz --style=\"STDCOLOR\" --view=\"Interconnection\" \"DecisionTest\""
   ]
  },
  {
   "cell_type": "code",
   "execution_count": 27,
   "id": "neither-rolling",
   "metadata": {
    "execution": {
     "iopub.execute_input": "2021-03-26T13:02:58.252891Z",
     "iopub.status.busy": "2021-03-26T13:02:58.252083Z",
     "iopub.status.idle": "2021-03-26T13:02:58.265773Z",
     "shell.execute_reply": "2021-03-26T13:02:58.265355Z"
    }
   },
   "outputs": [
    {
     "data": {
      "image/svg+xml": [
       "<?xml version=\"1.0\" encoding=\"UTF-8\" standalone=\"no\"?><svg xmlns=\"http://www.w3.org/2000/svg\" xmlns:xlink=\"http://www.w3.org/1999/xlink\" contentScriptType=\"application/ecmascript\" contentStyleType=\"text/css\" height=\"239px\" preserveAspectRatio=\"none\" style=\"width:871px;height:239px;background:#000000;\" version=\"1.1\" viewBox=\"0 0 871 239\" width=\"871px\" zoomAndPan=\"magnify\"><defs/><g><rect fill=\"#090605\" height=\"1\" style=\"stroke: #090605; stroke-width: 1.0;\" width=\"1\" x=\"0\" y=\"0\"/><rect fill=\"#33FF02\" height=\"21.2969\" style=\"stroke: #33FF02; stroke-width: 1.0;\" width=\"864\" x=\"5\" y=\"5\"/><text fill=\"#000000\" font-family=\"sans-serif\" font-size=\"14\" font-weight=\"bold\" lengthAdjust=\"spacingAndGlyphs\" textLength=\"178\" x=\"6\" y=\"20\">[From string (line 11) ]</text><text fill=\"#33FF02\" font-family=\"sans-serif\" font-size=\"14\" font-weight=\"bold\" lengthAdjust=\"spacingAndGlyphs\" textLength=\"0\" x=\"10\" y=\"40.2969\"/><text fill=\"#33FF02\" font-family=\"sans-serif\" font-size=\"14\" font-weight=\"bold\" lengthAdjust=\"spacingAndGlyphs\" textLength=\"79\" x=\"5\" y=\"56.5938\">@startuml</text><text fill=\"#33FF02\" font-family=\"sans-serif\" font-size=\"14\" font-weight=\"bold\" lengthAdjust=\"spacingAndGlyphs\" textLength=\"165\" x=\"5\" y=\"72.8906\">skinparam ranksep 8</text><text fill=\"#33FF02\" font-family=\"sans-serif\" font-size=\"14\" font-weight=\"bold\" lengthAdjust=\"spacingAndGlyphs\" textLength=\"206\" x=\"5\" y=\"89.1875\">skinparam wrapWidth 300</text><text fill=\"#33FF02\" font-family=\"sans-serif\" font-size=\"14\" font-weight=\"bold\" lengthAdjust=\"spacingAndGlyphs\" textLength=\"82\" x=\"5\" y=\"105.4844\">hide circle</text><text fill=\"#33FF02\" font-family=\"sans-serif\" font-size=\"14\" font-weight=\"bold\" lengthAdjust=\"spacingAndGlyphs\" textLength=\"0\" x=\"10\" y=\"121.7813\"/><text fill=\"#33FF02\" font-family=\"sans-serif\" font-size=\"14\" font-weight=\"bold\" lengthAdjust=\"spacingAndGlyphs\" textLength=\"864\" x=\"5\" y=\"138.0781\">rec def \"DecisionTest\" as E1  &lt;&lt;(T,blue)action def&gt;&gt; [[psysml:a1000395-17a0-47e2-a13d-a24f0cfe83d5 ]] {</text><text fill=\"#33FF02\" font-family=\"sans-serif\" font-size=\"14\" font-weight=\"bold\" lengthAdjust=\"spacingAndGlyphs\" textLength=\"616\" x=\"5\" y=\"154.375\">portout \"$result\" as E2  [[psysml:7254dab9-2ab0-4b4a-abf0-a8118207784b ]]</text><text fill=\"#33FF02\" font-family=\"sans-serif\" font-size=\"14\" font-weight=\"bold\" lengthAdjust=\"spacingAndGlyphs\" textLength=\"862\" x=\"5\" y=\"170.6719\">rec usage \"test x\" as E3  &lt;&lt;(T,blue)decisionNode&gt;&gt; [[psysml:7423d99a-f58c-40be-9ad8-b7209845a744 ]] {</text><text fill=\"#33FF02\" font-family=\"sans-serif\" font-size=\"14\" font-weight=\"bold\" lengthAdjust=\"spacingAndGlyphs\" textLength=\"10\" x=\"5\" y=\"186.9688\">}</text><text fill=\"#33FF02\" font-family=\"sans-serif\" font-size=\"14\" font-weight=\"bold\" lengthAdjust=\"spacingAndGlyphs\" textLength=\"0\" x=\"10\" y=\"203.2656\"/><text fill=\"#33FF02\" font-family=\"sans-serif\" font-size=\"14\" font-weight=\"bold\" lengthAdjust=\"spacingAndGlyphs\" textLength=\"10\" x=\"5\" y=\"219.5625\">{</text><text fill=\"#FF0000\" font-family=\"sans-serif\" font-size=\"14\" font-weight=\"bold\" lengthAdjust=\"spacingAndGlyphs\" textLength=\"106\" x=\"10\" y=\"235.8594\">Syntax Error?</text><!--MD5=[f8f98c030ebf6996b5b5ae74a104506d]\n",
       "@startuml\r\n",
       "skinparam ranksep 8\r\n",
       "skinparam wrapWidth 300\r\n",
       "hide circle\r\n",
       "\r\n",
       "rec def \"DecisionTest\" as E1  <<(T,blue)action def>> [[psysml:a1000395-17a0-47e2-a13d-a24f0cfe83d5 ]] {\r\n",
       "portout \"$result\" as E2  [[psysml:7254dab9-2ab0-4b4a-abf0-a8118207784b ]] \r\n",
       "rec usage \"test x\" as E3  <<(T,blue)decisionNode>> [[psysml:7423d99a-f58c-40be-9ad8-b7209845a744 ]] {\r\n",
       "}\r\n",
       "\r\n",
       "{\r\n",
       "portout \"$result\" as E4  [[psysml:bceec577-4538-432a-b269-09d95bc9a7ff ]] \r\n",
       "portin \"$x\" as E5  [[psysml:8234b737-8b11-4286-80d5-041d60fcfb58 ]] \r\n",
       "portin \"$y\" as E6  [[psysml:7c1f2e2e-5ea9-440e-a0d7-bde68b741d93 ]] \r\n",
       "portout \"$result\" as E7  [[psysml:a1e656b7-cadc-4b3b-a176-c8c2724f8a9f ]] \r\n",
       "}\r\n",
       "\r\n",
       "{\r\n",
       "portout \"$result\" as E8  [[psysml:5e578666-287e-4471-a202-0fa6d9af79c3 ]] \r\n",
       "portin \"$x\" as E9  [[psysml:2e73bbcc-e1fb-462b-9f93-4a649e4b75e6 ]] \r\n",
       "portin \"$y\" as E10  [[psysml:167c4655-6099-4dd6-a555-0c294c9d5979 ]] \r\n",
       "portout \"$result\" as E11  [[psysml:c40f3f95-b4a1-4b20-9a7d-2c01b041f687 ]] \r\n",
       "}\r\n",
       "\r\n",
       "{\r\n",
       "}\r\n",
       "\r\n",
       "{\r\n",
       "}\r\n",
       "\r\n",
       "{\r\n",
       "portout \"$result\" as E12  [[psysml:9e913d35-b492-435f-9373-c501110f1eb9 ]] \r\n",
       "}\r\n",
       "\r\n",
       "{\r\n",
       "portout \"$result\" as E13  [[psysml:158e60b3-268a-4c98-b93c-7961067d80aa ]] \r\n",
       "}\r\n",
       "\r\n",
       "rec usage \"A1\" as E14  <<(T,blue)action>> [[psysml:eb7d07f9-3793-4a0f-a0fd-eb934e5bd3c4 ]] {\r\n",
       "}\r\n",
       "\r\n",
       "rec usage \"A2\" as E15  <<(T,blue)action>> [[psysml:dabafcbf-a70a-41b1-a12f-b84f33147f9e ]] {\r\n",
       "}\r\n",
       "\r\n",
       "rec usage \"A3\" as E16  <<(T,blue)action>> [[psysml:b33bccfd-da91-4304-87b6-52ca1fd70cda ]] {\r\n",
       "}\r\n",
       "\r\n",
       "rec usage \"S\" as E17  <<(T,blue)transition>> [[psysml:b992d367-0404-4f63-871a-2665bf27ec50 ]] {\r\n",
       "rec usage \"A1\" as E18  <<(T,blue)action>> [[psysml:eb7d07f9-3793-4a0f-a0fd-eb934e5bd3c4 ]] {\r\n",
       "}\r\n",
       "\r\n",
       "portout \"$result\" as E19  [[psysml:6c1c6685-5e76-423a-8864-05a29151138c ]] \r\n",
       "portin \"$x\" as E20  [[psysml:c04f5b6e-c0c0-4f8c-b615-27e7186d2d69 ]] \r\n",
       "portin \"$y\" as E21  [[psysml:9909dfe5-9552-4cba-a2bc-4098d95f63c2 ]] \r\n",
       "portout \"$result\" as E22  [[psysml:bcbff8ec-917c-48b5-9f11-9f30a636696f ]] \r\n",
       "}\r\n",
       "\r\n",
       "rec usage \"A3\" as E23  <<(T,blue)action>> [[psysml:b33bccfd-da91-4304-87b6-52ca1fd70cda ]] {\r\n",
       "}\r\n",
       "\r\n",
       "{\r\n",
       "portout \"$result\" as E24  [[psysml:361e6a6e-e017-4926-975f-092030fcbf35 ]] \r\n",
       "portin \"$x\" as E25  [[psysml:01ce4d67-3e05-4f8c-92a8-b88c5ffa81ca ]] \r\n",
       "portin \"$y\" as E26  [[psysml:9a2f800a-bedb-42f6-8036-b5924649c324 ]] \r\n",
       "portout \"$result\" as E27  [[psysml:320da7bf-4cff-49a0-90e2-2e9a2a898b7b ]] \r\n",
       "}\r\n",
       "\r\n",
       "}\r\n",
       "\r\n",
       "@enduml\r\n",
       "\n",
       "PlantUML version 1.2020.13(Sat Jun 13 12:26:38 UTC 2020)\n",
       "(EPL source distribution)\n",
       "Java Runtime: OpenJDK Runtime Environment\n",
       "JVM: OpenJDK 64-Bit Server VM\n",
       "Default Encoding: UTF-8\n",
       "Language: en\n",
       "Country: null\n",
       "--></g></svg>"
      ]
     },
     "execution_count": 27,
     "metadata": {},
     "output_type": "execute_result"
    }
   ],
   "source": [
    "%viz --style=\"STDCOLOR\" --view=\"Action\" \"DecisionTest\""
   ]
  },
  {
   "cell_type": "code",
   "execution_count": 28,
   "id": "therapeutic-hunger",
   "metadata": {
    "execution": {
     "iopub.execute_input": "2021-03-26T13:02:58.318689Z",
     "iopub.status.busy": "2021-03-26T13:02:58.317916Z",
     "iopub.status.idle": "2021-03-26T13:02:58.381699Z",
     "shell.execute_reply": "2021-03-26T13:02:58.381397Z"
    }
   },
   "outputs": [
    {
     "data": {
      "image/svg+xml": [
       "<?xml version=\"1.0\" encoding=\"UTF-8\" standalone=\"no\"?><svg xmlns=\"http://www.w3.org/2000/svg\" xmlns:xlink=\"http://www.w3.org/1999/xlink\" contentScriptType=\"application/ecmascript\" contentStyleType=\"text/css\" height=\"199px\" preserveAspectRatio=\"none\" style=\"width:117px;height:199px;\" version=\"1.1\" viewBox=\"0 0 117 199\" width=\"117px\" zoomAndPan=\"magnify\"><defs><filter height=\"300%\" id=\"f5w577im5r6sj\" width=\"300%\" x=\"-1\" y=\"-1\"><feGaussianBlur result=\"blurOut\" stdDeviation=\"2.0\"/><feColorMatrix in=\"blurOut\" result=\"blurOut2\" type=\"matrix\" values=\"0 0 0 0 0 0 0 0 0 0 0 0 0 0 0 0 0 0 .4 0\"/><feOffset dx=\"4.0\" dy=\"4.0\" in=\"blurOut2\" result=\"blurOut3\"/><feBlend in=\"SourceGraphic\" in2=\"blurOut3\" mode=\"normal\"/></filter></defs><g><!--MD5=[43c9051892ef23e1a46a86907403d788]\n",
       "class E1--><a href=\"psysml:a1000395-17a0-47e2-a13d-a24f0cfe83d5\" target=\"_top\" title=\"psysml:a1000395-17a0-47e2-a13d-a24f0cfe83d5\" xlink:actuate=\"onRequest\" xlink:href=\"psysml:a1000395-17a0-47e2-a13d-a24f0cfe83d5\" xlink:show=\"new\" xlink:title=\"psysml:a1000395-17a0-47e2-a13d-a24f0cfe83d5\" xlink:type=\"simple\"><rect fill=\"#FEFECE\" filter=\"url(#f5w577im5r6sj)\" height=\"173.1797\" id=\"E1\" style=\"stroke: #A80036; stroke-width: 1.5;\" width=\"91\" x=\"7\" y=\"7\"/><text fill=\"#000000\" font-family=\"sans-serif\" font-size=\"12\" font-style=\"italic\" lengthAdjust=\"spacingAndGlyphs\" textLength=\"77\" x=\"14\" y=\"23.1387\">«action def»</text><text fill=\"#000000\" font-family=\"sans-serif\" font-size=\"12\" lengthAdjust=\"spacingAndGlyphs\" textLength=\"80\" x=\"12.5\" y=\"37.1074\">DecisionTest</text><line style=\"stroke: #A80036; stroke-width: 1.5;\" x1=\"8\" x2=\"97\" y1=\"44.9375\" y2=\"44.9375\"/><text fill=\"#000000\" font-family=\"sans-serif\" font-size=\"11\" lengthAdjust=\"spacingAndGlyphs\" textLength=\"6\" x=\"13\" y=\"59.1479\">x</text><text fill=\"#000000\" font-family=\"sans-serif\" font-size=\"11\" lengthAdjust=\"spacingAndGlyphs\" textLength=\"14\" x=\"13\" y=\"88.7573\">A1</text><text fill=\"#000000\" font-family=\"sans-serif\" font-size=\"11\" lengthAdjust=\"spacingAndGlyphs\" textLength=\"14\" x=\"13\" y=\"101.562\">A2</text><text fill=\"#000000\" font-family=\"sans-serif\" font-size=\"11\" lengthAdjust=\"spacingAndGlyphs\" textLength=\"14\" x=\"13\" y=\"114.3667\">A3</text><line style=\"stroke: #A80036; stroke-width: 1.0;\" x1=\"8\" x2=\"32\" y1=\"72.1445\" y2=\"72.1445\"/><text fill=\"#000000\" font-family=\"sans-serif\" font-size=\"11\" lengthAdjust=\"spacingAndGlyphs\" textLength=\"41\" x=\"32\" y=\"75.4526\">actions</text><line style=\"stroke: #A80036; stroke-width: 1.0;\" x1=\"73\" x2=\"97\" y1=\"72.1445\" y2=\"72.1445\"/><text fill=\"#000000\" font-family=\"sans-serif\" font-size=\"11\" lengthAdjust=\"spacingAndGlyphs\" textLength=\"32\" x=\"13\" y=\"143.9761\">test x</text><line style=\"stroke: #A80036; stroke-width: 1.0;\" x1=\"8\" x2=\"11\" y1=\"127.3633\" y2=\"127.3633\"/><text fill=\"#000000\" font-family=\"sans-serif\" font-size=\"11\" lengthAdjust=\"spacingAndGlyphs\" textLength=\"83\" x=\"11\" y=\"130.6714\">decisionNodes</text><line style=\"stroke: #A80036; stroke-width: 1.0;\" x1=\"94\" x2=\"97\" y1=\"127.3633\" y2=\"127.3633\"/><text fill=\"#000000\" font-family=\"sans-serif\" font-size=\"11\" lengthAdjust=\"spacingAndGlyphs\" textLength=\"8\" x=\"13\" y=\"173.5854\">S</text><line style=\"stroke: #A80036; stroke-width: 1.0;\" x1=\"8\" x2=\"22\" y1=\"156.9727\" y2=\"156.9727\"/><text fill=\"#000000\" font-family=\"sans-serif\" font-size=\"11\" lengthAdjust=\"spacingAndGlyphs\" textLength=\"61\" x=\"22\" y=\"160.2808\">transitions</text><line style=\"stroke: #A80036; stroke-width: 1.0;\" x1=\"83\" x2=\"97\" y1=\"156.9727\" y2=\"156.9727\"/></a><!--MD5=[19ca39187b0426e25c4afffc25d8d7f8]\n",
       "@startuml\r\n",
       "skinparam wrapWidth 300\r\n",
       "hide circle\r\n",
       "\r\n",
       "comp def \"DecisionTest\" as E1  <<(T,blue)action def>> [[psysml:a1000395-17a0-47e2-a13d-a24f0cfe83d5 ]] {\r\n",
       "x\r\n",
       "- - actions - -\r\n",
       "A1\r\n",
       "A2\r\n",
       "A3\r\n",
       "- - decisionNodes - -\r\n",
       "test x\r\n",
       "- - transitions - -\r\n",
       "S\r\n",
       "}\r\n",
       "@enduml\r\n",
       "\n",
       "PlantUML version 1.2020.13(Sat Jun 13 12:26:38 UTC 2020)\n",
       "(EPL source distribution)\n",
       "Java Runtime: OpenJDK Runtime Environment\n",
       "JVM: OpenJDK 64-Bit Server VM\n",
       "Default Encoding: UTF-8\n",
       "Language: en\n",
       "Country: null\n",
       "--></g></svg>"
      ]
     },
     "execution_count": 28,
     "metadata": {},
     "output_type": "execute_result"
    }
   ],
   "source": [
    "%viz --style=\"STDCOLOR\" --view=\"Sequence\" \"DecisionTest\""
   ]
  },
  {
   "cell_type": "code",
   "execution_count": 29,
   "id": "hollywood-skill",
   "metadata": {
    "execution": {
     "iopub.execute_input": "2021-03-26T13:02:58.434166Z",
     "iopub.status.busy": "2021-03-26T13:02:58.433449Z",
     "iopub.status.idle": "2021-03-26T13:02:58.447076Z",
     "shell.execute_reply": "2021-03-26T13:02:58.446781Z"
    }
   },
   "outputs": [
    {
     "data": {
      "image/svg+xml": [
       "<?xml version=\"1.0\" encoding=\"UTF-8\" standalone=\"no\"?><svg xmlns=\"http://www.w3.org/2000/svg\" xmlns:xlink=\"http://www.w3.org/1999/xlink\" contentScriptType=\"application/ecmascript\" contentStyleType=\"text/css\" height=\"223px\" preserveAspectRatio=\"none\" style=\"width:871px;height:223px;background:#000000;\" version=\"1.1\" viewBox=\"0 0 871 223\" width=\"871px\" zoomAndPan=\"magnify\"><defs/><g><rect fill=\"#1D1B10\" height=\"1\" style=\"stroke: #1D1B10; stroke-width: 1.0;\" width=\"1\" x=\"0\" y=\"0\"/><rect fill=\"#33FF02\" height=\"21.2969\" style=\"stroke: #33FF02; stroke-width: 1.0;\" width=\"864\" x=\"5\" y=\"5\"/><text fill=\"#000000\" font-family=\"sans-serif\" font-size=\"14\" font-weight=\"bold\" lengthAdjust=\"spacingAndGlyphs\" textLength=\"178\" x=\"6\" y=\"20\">[From string (line 10) ]</text><text fill=\"#33FF02\" font-family=\"sans-serif\" font-size=\"14\" font-weight=\"bold\" lengthAdjust=\"spacingAndGlyphs\" textLength=\"0\" x=\"10\" y=\"40.2969\"/><text fill=\"#33FF02\" font-family=\"sans-serif\" font-size=\"14\" font-weight=\"bold\" lengthAdjust=\"spacingAndGlyphs\" textLength=\"79\" x=\"5\" y=\"56.5938\">@startuml</text><text fill=\"#33FF02\" font-family=\"sans-serif\" font-size=\"14\" font-weight=\"bold\" lengthAdjust=\"spacingAndGlyphs\" textLength=\"206\" x=\"5\" y=\"72.8906\">skinparam wrapWidth 300</text><text fill=\"#33FF02\" font-family=\"sans-serif\" font-size=\"14\" font-weight=\"bold\" lengthAdjust=\"spacingAndGlyphs\" textLength=\"82\" x=\"5\" y=\"89.1875\">hide circle</text><text fill=\"#33FF02\" font-family=\"sans-serif\" font-size=\"14\" font-weight=\"bold\" lengthAdjust=\"spacingAndGlyphs\" textLength=\"0\" x=\"10\" y=\"105.4844\"/><text fill=\"#33FF02\" font-family=\"sans-serif\" font-size=\"14\" font-weight=\"bold\" lengthAdjust=\"spacingAndGlyphs\" textLength=\"864\" x=\"5\" y=\"121.7813\">rec def \"DecisionTest\" as E1  &lt;&lt;(T,blue)action def&gt;&gt; [[psysml:a1000395-17a0-47e2-a13d-a24f0cfe83d5 ]] {</text><text fill=\"#33FF02\" font-family=\"sans-serif\" font-size=\"14\" font-weight=\"bold\" lengthAdjust=\"spacingAndGlyphs\" textLength=\"616\" x=\"5\" y=\"138.0781\">portout \"$result\" as E2  [[psysml:7254dab9-2ab0-4b4a-abf0-a8118207784b ]]</text><text fill=\"#33FF02\" font-family=\"sans-serif\" font-size=\"14\" font-weight=\"bold\" lengthAdjust=\"spacingAndGlyphs\" textLength=\"862\" x=\"5\" y=\"154.375\">rec usage \"test x\" as E3  &lt;&lt;(T,blue)decisionNode&gt;&gt; [[psysml:7423d99a-f58c-40be-9ad8-b7209845a744 ]] {</text><text fill=\"#33FF02\" font-family=\"sans-serif\" font-size=\"14\" font-weight=\"bold\" lengthAdjust=\"spacingAndGlyphs\" textLength=\"10\" x=\"5\" y=\"170.6719\">}</text><text fill=\"#33FF02\" font-family=\"sans-serif\" font-size=\"14\" font-weight=\"bold\" lengthAdjust=\"spacingAndGlyphs\" textLength=\"0\" x=\"10\" y=\"186.9688\"/><text fill=\"#33FF02\" font-family=\"sans-serif\" font-size=\"14\" font-weight=\"bold\" lengthAdjust=\"spacingAndGlyphs\" textLength=\"10\" x=\"5\" y=\"203.2656\">{</text><text fill=\"#FF0000\" font-family=\"sans-serif\" font-size=\"14\" font-weight=\"bold\" lengthAdjust=\"spacingAndGlyphs\" textLength=\"106\" x=\"10\" y=\"219.5625\">Syntax Error?</text><!--MD5=[de27b31acd6e022729072d734a18d78c]\n",
       "@startuml\r\n",
       "skinparam wrapWidth 300\r\n",
       "hide circle\r\n",
       "\r\n",
       "rec def \"DecisionTest\" as E1  <<(T,blue)action def>> [[psysml:a1000395-17a0-47e2-a13d-a24f0cfe83d5 ]] {\r\n",
       "portout \"$result\" as E2  [[psysml:7254dab9-2ab0-4b4a-abf0-a8118207784b ]] \r\n",
       "rec usage \"test x\" as E3  <<(T,blue)decisionNode>> [[psysml:7423d99a-f58c-40be-9ad8-b7209845a744 ]] {\r\n",
       "}\r\n",
       "\r\n",
       "{\r\n",
       "portout \"$result\" as E4  [[psysml:bceec577-4538-432a-b269-09d95bc9a7ff ]] \r\n",
       "portin \"$x\" as E5  [[psysml:8234b737-8b11-4286-80d5-041d60fcfb58 ]] \r\n",
       "portin \"$y\" as E6  [[psysml:7c1f2e2e-5ea9-440e-a0d7-bde68b741d93 ]] \r\n",
       "portout \"$result\" as E7  [[psysml:a1e656b7-cadc-4b3b-a176-c8c2724f8a9f ]] \r\n",
       "}\r\n",
       "\r\n",
       "{\r\n",
       "portout \"$result\" as E8  [[psysml:5e578666-287e-4471-a202-0fa6d9af79c3 ]] \r\n",
       "portin \"$x\" as E9  [[psysml:2e73bbcc-e1fb-462b-9f93-4a649e4b75e6 ]] \r\n",
       "portin \"$y\" as E10  [[psysml:167c4655-6099-4dd6-a555-0c294c9d5979 ]] \r\n",
       "portout \"$result\" as E11  [[psysml:c40f3f95-b4a1-4b20-9a7d-2c01b041f687 ]] \r\n",
       "}\r\n",
       "\r\n",
       "{\r\n",
       "}\r\n",
       "\r\n",
       "{\r\n",
       "}\r\n",
       "\r\n",
       "{\r\n",
       "portout \"$result\" as E12  [[psysml:9e913d35-b492-435f-9373-c501110f1eb9 ]] \r\n",
       "}\r\n",
       "\r\n",
       "{\r\n",
       "portout \"$result\" as E13  [[psysml:158e60b3-268a-4c98-b93c-7961067d80aa ]] \r\n",
       "}\r\n",
       "\r\n",
       "rec usage \"A1\" as E14  <<(T,blue)action>> [[psysml:eb7d07f9-3793-4a0f-a0fd-eb934e5bd3c4 ]] {\r\n",
       "}\r\n",
       "\r\n",
       "rec usage \"A2\" as E15  <<(T,blue)action>> [[psysml:dabafcbf-a70a-41b1-a12f-b84f33147f9e ]] {\r\n",
       "}\r\n",
       "\r\n",
       "rec usage \"A3\" as E16  <<(T,blue)action>> [[psysml:b33bccfd-da91-4304-87b6-52ca1fd70cda ]] {\r\n",
       "}\r\n",
       "\r\n",
       "rec usage \"S\" as E17  <<(T,blue)transition>> [[psysml:b992d367-0404-4f63-871a-2665bf27ec50 ]] {\r\n",
       "rec usage \"A1\" as E18  <<(T,blue)action>> [[psysml:eb7d07f9-3793-4a0f-a0fd-eb934e5bd3c4 ]] {\r\n",
       "}\r\n",
       "\r\n",
       "portout \"$result\" as E19  [[psysml:6c1c6685-5e76-423a-8864-05a29151138c ]] \r\n",
       "portin \"$x\" as E20  [[psysml:c04f5b6e-c0c0-4f8c-b615-27e7186d2d69 ]] \r\n",
       "portin \"$y\" as E21  [[psysml:9909dfe5-9552-4cba-a2bc-4098d95f63c2 ]] \r\n",
       "portout \"$result\" as E22  [[psysml:bcbff8ec-917c-48b5-9f11-9f30a636696f ]] \r\n",
       "}\r\n",
       "\r\n",
       "rec usage \"A3\" as E23  <<(T,blue)action>> [[psysml:b33bccfd-da91-4304-87b6-52ca1fd70cda ]] {\r\n",
       "}\r\n",
       "\r\n",
       "{\r\n",
       "portout \"$result\" as E24  [[psysml:361e6a6e-e017-4926-975f-092030fcbf35 ]] \r\n",
       "portin \"$x\" as E25  [[psysml:01ce4d67-3e05-4f8c-92a8-b88c5ffa81ca ]] \r\n",
       "portin \"$y\" as E26  [[psysml:9a2f800a-bedb-42f6-8036-b5924649c324 ]] \r\n",
       "portout \"$result\" as E27  [[psysml:320da7bf-4cff-49a0-90e2-2e9a2a898b7b ]] \r\n",
       "}\r\n",
       "\r\n",
       "}\r\n",
       "\r\n",
       "@enduml\r\n",
       "\n",
       "PlantUML version 1.2020.13(Sat Jun 13 12:26:38 UTC 2020)\n",
       "(EPL source distribution)\n",
       "Java Runtime: OpenJDK Runtime Environment\n",
       "JVM: OpenJDK 64-Bit Server VM\n",
       "Default Encoding: UTF-8\n",
       "Language: en\n",
       "Country: null\n",
       "--></g></svg>"
      ]
     },
     "execution_count": 29,
     "metadata": {},
     "output_type": "execute_result"
    }
   ],
   "source": [
    "%viz --style=\"STDCOLOR\" --view=\"MIXED\" \"DecisionTest\""
   ]
  },
  {
   "cell_type": "code",
   "execution_count": 30,
   "id": "republican-tractor",
   "metadata": {
    "execution": {
     "iopub.execute_input": "2021-03-26T13:02:58.499508Z",
     "iopub.status.busy": "2021-03-26T13:02:58.498802Z",
     "iopub.status.idle": "2021-03-26T13:02:58.550374Z",
     "shell.execute_reply": "2021-03-26T13:02:58.550079Z"
    }
   },
   "outputs": [
    {
     "data": {
      "image/svg+xml": [
       "<?xml version=\"1.0\" encoding=\"UTF-8\" standalone=\"no\"?><svg xmlns=\"http://www.w3.org/2000/svg\" xmlns:xlink=\"http://www.w3.org/1999/xlink\" contentScriptType=\"application/ecmascript\" contentStyleType=\"text/css\" height=\"190px\" preserveAspectRatio=\"none\" style=\"width:892px;height:190px;background:#000000;\" version=\"1.1\" viewBox=\"0 0 892 190\" width=\"892px\" zoomAndPan=\"magnify\"><defs/><g><rect fill=\"#08071A\" height=\"1\" style=\"stroke: #08071A; stroke-width: 1.0;\" width=\"1\" x=\"0\" y=\"0\"/><rect fill=\"#33FF02\" height=\"21.2969\" style=\"stroke: #33FF02; stroke-width: 1.0;\" width=\"885\" x=\"5\" y=\"5\"/><text fill=\"#000000\" font-family=\"sans-serif\" font-size=\"14\" font-weight=\"bold\" lengthAdjust=\"spacingAndGlyphs\" textLength=\"168\" x=\"6\" y=\"20\">[From string (line 8) ]</text><text fill=\"#33FF02\" font-family=\"sans-serif\" font-size=\"14\" font-weight=\"bold\" lengthAdjust=\"spacingAndGlyphs\" textLength=\"0\" x=\"10\" y=\"40.2969\"/><text fill=\"#33FF02\" font-family=\"sans-serif\" font-size=\"14\" font-weight=\"bold\" lengthAdjust=\"spacingAndGlyphs\" textLength=\"79\" x=\"5\" y=\"56.5938\">@startuml</text><text fill=\"#33FF02\" font-family=\"sans-serif\" font-size=\"14\" font-weight=\"bold\" lengthAdjust=\"spacingAndGlyphs\" textLength=\"0\" x=\"10\" y=\"72.8906\"/><text fill=\"#33FF02\" font-family=\"sans-serif\" font-size=\"14\" font-weight=\"bold\" lengthAdjust=\"spacingAndGlyphs\" textLength=\"882\" x=\"5\" y=\"89.1875\">rec def \"DecisionTest\" as E1  &lt;&lt;(D,brown)action def&gt;&gt; [[psysml:a1000395-17a0-47e2-a13d-a24f0cfe83d5 ]] {</text><text fill=\"#33FF02\" font-family=\"sans-serif\" font-size=\"14\" font-weight=\"bold\" lengthAdjust=\"spacingAndGlyphs\" textLength=\"616\" x=\"5\" y=\"105.4844\">portout \"$result\" as E2  [[psysml:7254dab9-2ab0-4b4a-abf0-a8118207784b ]]</text><text fill=\"#33FF02\" font-family=\"sans-serif\" font-size=\"14\" font-weight=\"bold\" lengthAdjust=\"spacingAndGlyphs\" textLength=\"885\" x=\"5\" y=\"121.7813\">rec usage \"test x\" as E3  &lt;&lt;(U,orange)decisionNode&gt;&gt; [[psysml:7423d99a-f58c-40be-9ad8-b7209845a744 ]] {</text><text fill=\"#33FF02\" font-family=\"sans-serif\" font-size=\"14\" font-weight=\"bold\" lengthAdjust=\"spacingAndGlyphs\" textLength=\"10\" x=\"5\" y=\"138.0781\">}</text><text fill=\"#33FF02\" font-family=\"sans-serif\" font-size=\"14\" font-weight=\"bold\" lengthAdjust=\"spacingAndGlyphs\" textLength=\"0\" x=\"10\" y=\"154.375\"/><text fill=\"#33FF02\" font-family=\"sans-serif\" font-size=\"14\" font-weight=\"bold\" lengthAdjust=\"spacingAndGlyphs\" textLength=\"10\" x=\"5\" y=\"170.6719\">{</text><text fill=\"#FF0000\" font-family=\"sans-serif\" font-size=\"14\" font-weight=\"bold\" lengthAdjust=\"spacingAndGlyphs\" textLength=\"106\" x=\"10\" y=\"186.9688\">Syntax Error?</text><!--MD5=[0fa1e7e82a6d7091f81015909718a0f2]\n",
       "@startuml\r\n",
       " \r\n",
       "rec def \"DecisionTest\" as E1  <<(D,brown)action def>> [[psysml:a1000395-17a0-47e2-a13d-a24f0cfe83d5 ]] {\r\n",
       "portout \"$result\" as E2  [[psysml:7254dab9-2ab0-4b4a-abf0-a8118207784b ]] \r\n",
       "rec usage \"test x\" as E3  <<(U,orange)decisionNode>> [[psysml:7423d99a-f58c-40be-9ad8-b7209845a744 ]] {\r\n",
       "}\r\n",
       "\r\n",
       "{\r\n",
       "portout \"$result\" as E4  [[psysml:bceec577-4538-432a-b269-09d95bc9a7ff ]] \r\n",
       "portin \"$x\" as E5  [[psysml:8234b737-8b11-4286-80d5-041d60fcfb58 ]] \r\n",
       "portin \"$y\" as E6  [[psysml:7c1f2e2e-5ea9-440e-a0d7-bde68b741d93 ]] \r\n",
       "portout \"$result\" as E7  [[psysml:a1e656b7-cadc-4b3b-a176-c8c2724f8a9f ]] \r\n",
       "}\r\n",
       "\r\n",
       "{\r\n",
       "portout \"$result\" as E8  [[psysml:5e578666-287e-4471-a202-0fa6d9af79c3 ]] \r\n",
       "portin \"$x\" as E9  [[psysml:2e73bbcc-e1fb-462b-9f93-4a649e4b75e6 ]] \r\n",
       "portin \"$y\" as E10  [[psysml:167c4655-6099-4dd6-a555-0c294c9d5979 ]] \r\n",
       "portout \"$result\" as E11  [[psysml:c40f3f95-b4a1-4b20-9a7d-2c01b041f687 ]] \r\n",
       "}\r\n",
       "\r\n",
       "{\r\n",
       "}\r\n",
       "\r\n",
       "{\r\n",
       "}\r\n",
       "\r\n",
       "{\r\n",
       "portout \"$result\" as E12  [[psysml:9e913d35-b492-435f-9373-c501110f1eb9 ]] \r\n",
       "}\r\n",
       "\r\n",
       "{\r\n",
       "portout \"$result\" as E13  [[psysml:158e60b3-268a-4c98-b93c-7961067d80aa ]] \r\n",
       "}\r\n",
       "\r\n",
       "rec usage \"A1\" as E14  <<(U,orange)action>> [[psysml:eb7d07f9-3793-4a0f-a0fd-eb934e5bd3c4 ]] {\r\n",
       "}\r\n",
       "\r\n",
       "rec usage \"A2\" as E15  <<(U,orange)action>> [[psysml:dabafcbf-a70a-41b1-a12f-b84f33147f9e ]] {\r\n",
       "}\r\n",
       "\r\n",
       "rec usage \"A3\" as E16  <<(U,orange)action>> [[psysml:b33bccfd-da91-4304-87b6-52ca1fd70cda ]] {\r\n",
       "}\r\n",
       "\r\n",
       "rec usage \"S\" as E17  <<(U,orange)transition>> [[psysml:b992d367-0404-4f63-871a-2665bf27ec50 ]] {\r\n",
       "rec usage \"A1\" as E18  <<(U,orange)action>> [[psysml:eb7d07f9-3793-4a0f-a0fd-eb934e5bd3c4 ]] {\r\n",
       "}\r\n",
       "\r\n",
       "portout \"$result\" as E19  [[psysml:6c1c6685-5e76-423a-8864-05a29151138c ]] \r\n",
       "portin \"$x\" as E20  [[psysml:c04f5b6e-c0c0-4f8c-b615-27e7186d2d69 ]] \r\n",
       "portin \"$y\" as E21  [[psysml:9909dfe5-9552-4cba-a2bc-4098d95f63c2 ]] \r\n",
       "portout \"$result\" as E22  [[psysml:bcbff8ec-917c-48b5-9f11-9f30a636696f ]] \r\n",
       "}\r\n",
       "\r\n",
       "rec usage \"A3\" as E23  <<(U,orange)action>> [[psysml:b33bccfd-da91-4304-87b6-52ca1fd70cda ]] {\r\n",
       "}\r\n",
       "\r\n",
       "{\r\n",
       "portout \"$result\" as E24  [[psysml:361e6a6e-e017-4926-975f-092030fcbf35 ]] \r\n",
       "portin \"$x\" as E25  [[psysml:01ce4d67-3e05-4f8c-92a8-b88c5ffa81ca ]] \r\n",
       "portin \"$y\" as E26  [[psysml:9a2f800a-bedb-42f6-8036-b5924649c324 ]] \r\n",
       "portout \"$result\" as E27  [[psysml:320da7bf-4cff-49a0-90e2-2e9a2a898b7b ]] \r\n",
       "}\r\n",
       "\r\n",
       "}\r\n",
       "\r\n",
       "@enduml\r\n",
       "\n",
       "PlantUML version 1.2020.13(Sat Jun 13 12:26:38 UTC 2020)\n",
       "(EPL source distribution)\n",
       "Java Runtime: OpenJDK Runtime Environment\n",
       "JVM: OpenJDK 64-Bit Server VM\n",
       "Default Encoding: UTF-8\n",
       "Language: en\n",
       "Country: null\n",
       "--></g></svg>"
      ]
     },
     "execution_count": 30,
     "metadata": {},
     "output_type": "execute_result"
    }
   ],
   "source": [
    "%viz --style=\"PLANTUML\" --view=\"Default\" \"DecisionTest\""
   ]
  },
  {
   "cell_type": "code",
   "execution_count": 31,
   "id": "bored-bottom",
   "metadata": {
    "execution": {
     "iopub.execute_input": "2021-03-26T13:02:58.600974Z",
     "iopub.status.busy": "2021-03-26T13:02:58.600602Z",
     "iopub.status.idle": "2021-03-26T13:02:58.678658Z",
     "shell.execute_reply": "2021-03-26T13:02:58.678321Z"
    }
   },
   "outputs": [
    {
     "data": {
      "image/svg+xml": [
       "<?xml version=\"1.0\" encoding=\"UTF-8\" standalone=\"no\"?><svg xmlns=\"http://www.w3.org/2000/svg\" xmlns:xlink=\"http://www.w3.org/1999/xlink\" contentScriptType=\"application/ecmascript\" contentStyleType=\"text/css\" height=\"199px\" preserveAspectRatio=\"none\" style=\"width:138px;height:199px;\" version=\"1.1\" viewBox=\"0 0 138 199\" width=\"138px\" zoomAndPan=\"magnify\"><defs><filter height=\"300%\" id=\"fqalulkp1chlc\" width=\"300%\" x=\"-1\" y=\"-1\"><feGaussianBlur result=\"blurOut\" stdDeviation=\"2.0\"/><feColorMatrix in=\"blurOut\" result=\"blurOut2\" type=\"matrix\" values=\"0 0 0 0 0 0 0 0 0 0 0 0 0 0 0 0 0 0 .4 0\"/><feOffset dx=\"4.0\" dy=\"4.0\" in=\"blurOut2\" result=\"blurOut3\"/><feBlend in=\"SourceGraphic\" in2=\"blurOut3\" mode=\"normal\"/></filter></defs><g><!--MD5=[43c9051892ef23e1a46a86907403d788]\n",
       "class E1--><a href=\"psysml:a1000395-17a0-47e2-a13d-a24f0cfe83d5\" target=\"_top\" title=\"psysml:a1000395-17a0-47e2-a13d-a24f0cfe83d5\" xlink:actuate=\"onRequest\" xlink:href=\"psysml:a1000395-17a0-47e2-a13d-a24f0cfe83d5\" xlink:show=\"new\" xlink:title=\"psysml:a1000395-17a0-47e2-a13d-a24f0cfe83d5\" xlink:type=\"simple\"><rect fill=\"#FEFECE\" filter=\"url(#fqalulkp1chlc)\" height=\"173.1797\" id=\"E1\" style=\"stroke: #A80036; stroke-width: 1.5;\" width=\"112\" x=\"7\" y=\"7\"/><ellipse cx=\"22\" cy=\"25.9688\" fill=\"#A52A2A\" rx=\"11\" ry=\"11\" style=\"stroke: #A80036; stroke-width: 1.0;\"/><path d=\"M21.5938,21.7813 L21.5938,29.7656 L22.25,29.7656 Q23.6875,29.7656 24.2969,28.8594 Q24.9219,27.9375 24.9219,25.7656 Q24.9219,23.5938 24.2969,22.6875 Q23.6875,21.7813 22.25,21.7813 L21.5938,21.7813 Z M19.1406,19.5781 L21.7656,19.5781 Q24.7969,19.5781 26.125,21.0313 Q27.4688,22.4688 27.4688,25.7656 Q27.4688,29.0625 26.125,30.5156 Q24.7969,31.9688 21.7656,31.9688 L19.1406,31.9688 L19.1406,19.5781 Z \"/><text fill=\"#000000\" font-family=\"sans-serif\" font-size=\"12\" font-style=\"italic\" lengthAdjust=\"spacingAndGlyphs\" textLength=\"77\" x=\"37.5\" y=\"23.1387\">«action def»</text><text fill=\"#000000\" font-family=\"sans-serif\" font-size=\"12\" lengthAdjust=\"spacingAndGlyphs\" textLength=\"80\" x=\"36\" y=\"37.1074\">DecisionTest</text><line style=\"stroke: #A80036; stroke-width: 1.5;\" x1=\"8\" x2=\"118\" y1=\"44.9375\" y2=\"44.9375\"/><text fill=\"#000000\" font-family=\"sans-serif\" font-size=\"11\" lengthAdjust=\"spacingAndGlyphs\" textLength=\"6\" x=\"13\" y=\"59.1479\">x</text><text fill=\"#000000\" font-family=\"sans-serif\" font-size=\"11\" lengthAdjust=\"spacingAndGlyphs\" textLength=\"14\" x=\"13\" y=\"88.7573\">A1</text><text fill=\"#000000\" font-family=\"sans-serif\" font-size=\"11\" lengthAdjust=\"spacingAndGlyphs\" textLength=\"14\" x=\"13\" y=\"101.562\">A2</text><text fill=\"#000000\" font-family=\"sans-serif\" font-size=\"11\" lengthAdjust=\"spacingAndGlyphs\" textLength=\"14\" x=\"13\" y=\"114.3667\">A3</text><line style=\"stroke: #A80036; stroke-width: 1.0;\" x1=\"8\" x2=\"42.5\" y1=\"72.1445\" y2=\"72.1445\"/><text fill=\"#000000\" font-family=\"sans-serif\" font-size=\"11\" lengthAdjust=\"spacingAndGlyphs\" textLength=\"41\" x=\"42.5\" y=\"75.4526\">actions</text><line style=\"stroke: #A80036; stroke-width: 1.0;\" x1=\"83.5\" x2=\"118\" y1=\"72.1445\" y2=\"72.1445\"/><text fill=\"#000000\" font-family=\"sans-serif\" font-size=\"11\" lengthAdjust=\"spacingAndGlyphs\" textLength=\"32\" x=\"13\" y=\"143.9761\">test x</text><line style=\"stroke: #A80036; stroke-width: 1.0;\" x1=\"8\" x2=\"21.5\" y1=\"127.3633\" y2=\"127.3633\"/><text fill=\"#000000\" font-family=\"sans-serif\" font-size=\"11\" lengthAdjust=\"spacingAndGlyphs\" textLength=\"83\" x=\"21.5\" y=\"130.6714\">decisionNodes</text><line style=\"stroke: #A80036; stroke-width: 1.0;\" x1=\"104.5\" x2=\"118\" y1=\"127.3633\" y2=\"127.3633\"/><text fill=\"#000000\" font-family=\"sans-serif\" font-size=\"11\" lengthAdjust=\"spacingAndGlyphs\" textLength=\"8\" x=\"13\" y=\"173.5854\">S</text><line style=\"stroke: #A80036; stroke-width: 1.0;\" x1=\"8\" x2=\"32.5\" y1=\"156.9727\" y2=\"156.9727\"/><text fill=\"#000000\" font-family=\"sans-serif\" font-size=\"11\" lengthAdjust=\"spacingAndGlyphs\" textLength=\"61\" x=\"32.5\" y=\"160.2808\">transitions</text><line style=\"stroke: #A80036; stroke-width: 1.0;\" x1=\"93.5\" x2=\"118\" y1=\"156.9727\" y2=\"156.9727\"/></a><!--MD5=[4e0fa4b0690387b183beda5b2fd9ac0a]\n",
       "@startuml\r\n",
       " \r\n",
       "comp def \"DecisionTest\" as E1  <<(D,brown)action def>> [[psysml:a1000395-17a0-47e2-a13d-a24f0cfe83d5 ]] {\r\n",
       "x\r\n",
       "- - actions - -\r\n",
       "A1\r\n",
       "A2\r\n",
       "A3\r\n",
       "- - decisionNodes - -\r\n",
       "test x\r\n",
       "- - transitions - -\r\n",
       "S\r\n",
       "}\r\n",
       "@enduml\r\n",
       "\n",
       "PlantUML version 1.2020.13(Sat Jun 13 12:26:38 UTC 2020)\n",
       "(EPL source distribution)\n",
       "Java Runtime: OpenJDK Runtime Environment\n",
       "JVM: OpenJDK 64-Bit Server VM\n",
       "Default Encoding: UTF-8\n",
       "Language: en\n",
       "Country: null\n",
       "--></g></svg>"
      ]
     },
     "execution_count": 31,
     "metadata": {},
     "output_type": "execute_result"
    }
   ],
   "source": [
    "%viz --style=\"PLANTUML\" --view=\"Tree\" \"DecisionTest\""
   ]
  },
  {
   "cell_type": "code",
   "execution_count": 32,
   "id": "japanese-scratch",
   "metadata": {
    "execution": {
     "iopub.execute_input": "2021-03-26T13:02:58.732672Z",
     "iopub.status.busy": "2021-03-26T13:02:58.731823Z",
     "iopub.status.idle": "2021-03-26T13:02:58.805083Z",
     "shell.execute_reply": "2021-03-26T13:02:58.804681Z"
    }
   },
   "outputs": [
    {
     "data": {
      "image/svg+xml": [
       "<?xml version=\"1.0\" encoding=\"UTF-8\" standalone=\"no\"?><svg xmlns=\"http://www.w3.org/2000/svg\" xmlns:xlink=\"http://www.w3.org/1999/xlink\" contentScriptType=\"application/ecmascript\" contentStyleType=\"text/css\" height=\"303px\" preserveAspectRatio=\"none\" style=\"width:603px;height:303px;background:#000000;\" version=\"1.1\" viewBox=\"0 0 603 303\" width=\"603px\" zoomAndPan=\"magnify\"><defs/><g><rect fill=\"#191D16\" height=\"1\" style=\"stroke: #191D16; stroke-width: 1.0;\" width=\"1\" x=\"0\" y=\"0\"/><rect fill=\"#FFFFFF\" height=\"205.5625\" style=\"stroke: #FFFFFF; stroke-width: 1.0;\" width=\"602\" x=\"0\" y=\"0\"/><text fill=\"#000000\" font-family=\"sans-serif\" font-size=\"12\" font-weight=\"bold\" lengthAdjust=\"spacingAndGlyphs\" textLength=\"159\" x=\"5\" y=\"16.1387\">Welcome to PlantUML!</text><text fill=\"#000000\" font-family=\"sans-serif\" font-size=\"12\" lengthAdjust=\"spacingAndGlyphs\" textLength=\"0\" x=\"9\" y=\"30.1074\"/><text fill=\"#000000\" font-family=\"sans-serif\" font-size=\"12\" lengthAdjust=\"spacingAndGlyphs\" textLength=\"293\" x=\"5\" y=\"44.0762\">If you use this software, you accept its license.</text><text fill=\"#000000\" font-family=\"sans-serif\" font-size=\"12\" lengthAdjust=\"spacingAndGlyphs\" textLength=\"107\" x=\"5\" y=\"58.0449\">(details by typing</text><text fill=\"#000000\" font-family=\"monospace\" font-size=\"12\" lengthAdjust=\"spacingAndGlyphs\" textLength=\"49\" x=\"116\" y=\"58.0449\">license</text><text fill=\"#000000\" font-family=\"sans-serif\" font-size=\"12\" lengthAdjust=\"spacingAndGlyphs\" textLength=\"56\" x=\"169\" y=\"58.0449\">keyword)</text><text fill=\"#000000\" font-family=\"sans-serif\" font-size=\"12\" lengthAdjust=\"spacingAndGlyphs\" textLength=\"0\" x=\"9\" y=\"72.0137\"/><text fill=\"#000000\" font-family=\"sans-serif\" font-size=\"12\" lengthAdjust=\"spacingAndGlyphs\" textLength=\"283\" x=\"5\" y=\"85.9824\">You can start with a simple UML Diagram like:</text><text fill=\"#000000\" font-family=\"sans-serif\" font-size=\"12\" lengthAdjust=\"spacingAndGlyphs\" textLength=\"0\" x=\"9\" y=\"99.9512\"/><text fill=\"#000000\" font-family=\"monospace\" font-size=\"12\" lengthAdjust=\"spacingAndGlyphs\" textLength=\"119\" x=\"5\" y=\"113.9199\">Bob-&gt;Alice: Hello</text><text fill=\"#000000\" font-family=\"sans-serif\" font-size=\"12\" lengthAdjust=\"spacingAndGlyphs\" textLength=\"0\" x=\"9\" y=\"127.8887\"/><text fill=\"#000000\" font-family=\"sans-serif\" font-size=\"12\" lengthAdjust=\"spacingAndGlyphs\" textLength=\"14\" x=\"5\" y=\"141.8574\">Or</text><text fill=\"#000000\" font-family=\"sans-serif\" font-size=\"12\" lengthAdjust=\"spacingAndGlyphs\" textLength=\"0\" x=\"9\" y=\"155.8262\"/><text fill=\"#000000\" font-family=\"monospace\" font-size=\"12\" lengthAdjust=\"spacingAndGlyphs\" textLength=\"91\" x=\"5\" y=\"169.7949\">class Example</text><text fill=\"#000000\" font-family=\"sans-serif\" font-size=\"12\" lengthAdjust=\"spacingAndGlyphs\" textLength=\"0\" x=\"9\" y=\"183.7637\"/><text fill=\"#000000\" font-family=\"sans-serif\" font-size=\"12\" lengthAdjust=\"spacingAndGlyphs\" textLength=\"349\" x=\"5\" y=\"197.7324\">You will find more information about PlantUML syntax on</text><text fill=\"#000000\" font-family=\"sans-serif\" font-size=\"12\" lengthAdjust=\"spacingAndGlyphs\" text-decoration=\"underline\" textLength=\"129\" x=\"358\" y=\"197.7324\">https://plantuml.com</text><image height=\"71\" width=\"80\" x=\"516\" xlink:href=\"data:image/png;base64,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\" y=\"6\"/><rect fill=\"#000000\" height=\"96.4844\" style=\"stroke: #000000; stroke-width: 1.0;\" width=\"602\" x=\"0\" y=\"205.5625\"/><rect fill=\"#33FF02\" height=\"21.2969\" style=\"stroke: #33FF02; stroke-width: 1.0;\" width=\"170\" x=\"5\" y=\"210.5625\"/><text fill=\"#000000\" font-family=\"sans-serif\" font-size=\"14\" font-weight=\"bold\" lengthAdjust=\"spacingAndGlyphs\" textLength=\"168\" x=\"6\" y=\"225.5625\">[From string (line 2) ]</text><text fill=\"#33FF02\" font-family=\"sans-serif\" font-size=\"14\" font-weight=\"bold\" lengthAdjust=\"spacingAndGlyphs\" textLength=\"0\" x=\"10\" y=\"245.8594\"/><text fill=\"#33FF02\" font-family=\"sans-serif\" font-size=\"14\" font-weight=\"bold\" lengthAdjust=\"spacingAndGlyphs\" textLength=\"79\" x=\"5\" y=\"262.1563\">@startuml</text><text fill=\"#33FF02\" font-family=\"sans-serif\" font-size=\"14\" font-weight=\"bold\" lengthAdjust=\"spacingAndGlyphs\" textLength=\"0\" x=\"10\" y=\"278.4531\"/><text fill=\"#FF0000\" font-family=\"sans-serif\" font-size=\"14\" font-weight=\"bold\" lengthAdjust=\"spacingAndGlyphs\" textLength=\"142\" x=\"10\" y=\"294.75\">Empty description</text><!--MD5=[f59edd8218d337f74d0c332fc6737304]\n",
       "@startuml\r\n",
       " \r\n",
       "@enduml\r\n",
       "\n",
       "PlantUML version 1.2020.13(Sat Jun 13 12:26:38 UTC 2020)\n",
       "(EPL source distribution)\n",
       "Java Runtime: OpenJDK Runtime Environment\n",
       "JVM: OpenJDK 64-Bit Server VM\n",
       "Default Encoding: UTF-8\n",
       "Language: en\n",
       "Country: null\n",
       "--></g></svg>"
      ]
     },
     "execution_count": 32,
     "metadata": {},
     "output_type": "execute_result"
    }
   ],
   "source": [
    "%viz --style=\"PLANTUML\" --view=\"State\" \"DecisionTest\""
   ]
  },
  {
   "cell_type": "code",
   "execution_count": 33,
   "id": "painful-profile",
   "metadata": {
    "execution": {
     "iopub.execute_input": "2021-03-26T13:02:58.856816Z",
     "iopub.status.busy": "2021-03-26T13:02:58.856089Z",
     "iopub.status.idle": "2021-03-26T13:02:58.874340Z",
     "shell.execute_reply": "2021-03-26T13:02:58.874027Z"
    }
   },
   "outputs": [
    {
     "data": {
      "image/svg+xml": [
       "<?xml version=\"1.0\" encoding=\"UTF-8\" standalone=\"no\"?><svg xmlns=\"http://www.w3.org/2000/svg\" xmlns:xlink=\"http://www.w3.org/1999/xlink\" contentScriptType=\"application/ecmascript\" contentStyleType=\"text/css\" height=\"68px\" preserveAspectRatio=\"none\" style=\"width:143px;height:68px;\" version=\"1.1\" viewBox=\"0 0 143 68\" width=\"143px\" zoomAndPan=\"magnify\"><defs><filter height=\"300%\" id=\"fs1wt52zbf8yv\" width=\"300%\" x=\"-1\" y=\"-1\"><feGaussianBlur result=\"blurOut\" stdDeviation=\"2.0\"/><feColorMatrix in=\"blurOut\" result=\"blurOut2\" type=\"matrix\" values=\"0 0 0 0 0 0 0 0 0 0 0 0 0 0 0 0 0 0 .4 0\"/><feOffset dx=\"4.0\" dy=\"4.0\" in=\"blurOut2\" result=\"blurOut3\"/><feBlend in=\"SourceGraphic\" in2=\"blurOut3\" mode=\"normal\"/></filter></defs><g><g id=\"E1\"><a href=\"psysml:a1000395-17a0-47e2-a13d-a24f0cfe83d5\" target=\"_top\" title=\"psysml:a1000395-17a0-47e2-a13d-a24f0cfe83d5\" xlink:actuate=\"onRequest\" xlink:href=\"psysml:a1000395-17a0-47e2-a13d-a24f0cfe83d5\" xlink:show=\"new\" xlink:title=\"psysml:a1000395-17a0-47e2-a13d-a24f0cfe83d5\" xlink:type=\"simple\"><rect fill=\"#FEFECE\" filter=\"url(#fs1wt52zbf8yv)\" height=\"42.9375\" id=\"E1\" style=\"stroke: #A80036; stroke-width: 1.5;\" width=\"117\" x=\"7\" y=\"7\"/><ellipse cx=\"24.25\" cy=\"25.9688\" fill=\"#A52A2A\" rx=\"11\" ry=\"11\" style=\"stroke: #A80036; stroke-width: 1.0;\"/><path d=\"M23.8438,21.7813 L23.8438,29.7656 L24.5,29.7656 Q25.9375,29.7656 26.5469,28.8594 Q27.1719,27.9375 27.1719,25.7656 Q27.1719,23.5938 26.5469,22.6875 Q25.9375,21.7813 24.5,21.7813 L23.8438,21.7813 Z M21.3906,19.5781 L24.0156,19.5781 Q27.0469,19.5781 28.375,21.0313 Q29.7188,22.4688 29.7188,25.7656 Q29.7188,29.0625 28.375,30.5156 Q27.0469,31.9688 24.0156,31.9688 L21.3906,31.9688 L21.3906,19.5781 Z \"/><text fill=\"#000000\" font-family=\"sans-serif\" font-size=\"12\" font-style=\"italic\" lengthAdjust=\"spacingAndGlyphs\" textLength=\"77\" x=\"40.25\" y=\"23.1387\">«action def»</text><text fill=\"#000000\" font-family=\"sans-serif\" font-size=\"12\" lengthAdjust=\"spacingAndGlyphs\" textLength=\"80\" x=\"38.75\" y=\"37.1074\">DecisionTest</text></a></g><!--MD5=[60cd0ad062f67bba4aba6abd9716a72a]\n",
       "@startuml\r\n",
       "skinparam ranksep 8\r\n",
       "skinparam rectangle {\r\n",
       " backgroundColor<<block>> LightGreen\r\n",
       "}\r\n",
       " \r\n",
       "def \"DecisionTest\" as E1  <<(D,brown)action def>> [[psysml:a1000395-17a0-47e2-a13d-a24f0cfe83d5 ]] \r\n",
       "@enduml\r\n",
       "\n",
       "PlantUML version 1.2020.13(Sat Jun 13 12:26:38 UTC 2020)\n",
       "(EPL source distribution)\n",
       "Java Runtime: OpenJDK Runtime Environment\n",
       "JVM: OpenJDK 64-Bit Server VM\n",
       "Default Encoding: UTF-8\n",
       "Language: en\n",
       "Country: null\n",
       "--></g></svg>"
      ]
     },
     "execution_count": 33,
     "metadata": {},
     "output_type": "execute_result"
    }
   ],
   "source": [
    "%viz --style=\"PLANTUML\" --view=\"Interconnection\" \"DecisionTest\""
   ]
  },
  {
   "cell_type": "code",
   "execution_count": 34,
   "id": "synthetic-phone",
   "metadata": {
    "execution": {
     "iopub.execute_input": "2021-03-26T13:02:58.928512Z",
     "iopub.status.busy": "2021-03-26T13:02:58.927597Z",
     "iopub.status.idle": "2021-03-26T13:02:58.940763Z",
     "shell.execute_reply": "2021-03-26T13:02:58.940367Z"
    }
   },
   "outputs": [
    {
     "data": {
      "image/svg+xml": [
       "<?xml version=\"1.0\" encoding=\"UTF-8\" standalone=\"no\"?><svg xmlns=\"http://www.w3.org/2000/svg\" xmlns:xlink=\"http://www.w3.org/1999/xlink\" contentScriptType=\"application/ecmascript\" contentStyleType=\"text/css\" height=\"206px\" preserveAspectRatio=\"none\" style=\"width:892px;height:206px;background:#000000;\" version=\"1.1\" viewBox=\"0 0 892 206\" width=\"892px\" zoomAndPan=\"magnify\"><defs/><g><rect fill=\"#10200F\" height=\"1\" style=\"stroke: #10200F; stroke-width: 1.0;\" width=\"1\" x=\"0\" y=\"0\"/><rect fill=\"#33FF02\" height=\"21.2969\" style=\"stroke: #33FF02; stroke-width: 1.0;\" width=\"885\" x=\"5\" y=\"5\"/><text fill=\"#000000\" font-family=\"sans-serif\" font-size=\"14\" font-weight=\"bold\" lengthAdjust=\"spacingAndGlyphs\" textLength=\"168\" x=\"6\" y=\"20\">[From string (line 9) ]</text><text fill=\"#33FF02\" font-family=\"sans-serif\" font-size=\"14\" font-weight=\"bold\" lengthAdjust=\"spacingAndGlyphs\" textLength=\"0\" x=\"10\" y=\"40.2969\"/><text fill=\"#33FF02\" font-family=\"sans-serif\" font-size=\"14\" font-weight=\"bold\" lengthAdjust=\"spacingAndGlyphs\" textLength=\"79\" x=\"5\" y=\"56.5938\">@startuml</text><text fill=\"#33FF02\" font-family=\"sans-serif\" font-size=\"14\" font-weight=\"bold\" lengthAdjust=\"spacingAndGlyphs\" textLength=\"165\" x=\"5\" y=\"72.8906\">skinparam ranksep 8</text><text fill=\"#33FF02\" font-family=\"sans-serif\" font-size=\"14\" font-weight=\"bold\" lengthAdjust=\"spacingAndGlyphs\" textLength=\"0\" x=\"10\" y=\"89.1875\"/><text fill=\"#33FF02\" font-family=\"sans-serif\" font-size=\"14\" font-weight=\"bold\" lengthAdjust=\"spacingAndGlyphs\" textLength=\"882\" x=\"5\" y=\"105.4844\">rec def \"DecisionTest\" as E1  &lt;&lt;(D,brown)action def&gt;&gt; [[psysml:a1000395-17a0-47e2-a13d-a24f0cfe83d5 ]] {</text><text fill=\"#33FF02\" font-family=\"sans-serif\" font-size=\"14\" font-weight=\"bold\" lengthAdjust=\"spacingAndGlyphs\" textLength=\"616\" x=\"5\" y=\"121.7813\">portout \"$result\" as E2  [[psysml:7254dab9-2ab0-4b4a-abf0-a8118207784b ]]</text><text fill=\"#33FF02\" font-family=\"sans-serif\" font-size=\"14\" font-weight=\"bold\" lengthAdjust=\"spacingAndGlyphs\" textLength=\"885\" x=\"5\" y=\"138.0781\">rec usage \"test x\" as E3  &lt;&lt;(U,orange)decisionNode&gt;&gt; [[psysml:7423d99a-f58c-40be-9ad8-b7209845a744 ]] {</text><text fill=\"#33FF02\" font-family=\"sans-serif\" font-size=\"14\" font-weight=\"bold\" lengthAdjust=\"spacingAndGlyphs\" textLength=\"10\" x=\"5\" y=\"154.375\">}</text><text fill=\"#33FF02\" font-family=\"sans-serif\" font-size=\"14\" font-weight=\"bold\" lengthAdjust=\"spacingAndGlyphs\" textLength=\"0\" x=\"10\" y=\"170.6719\"/><text fill=\"#33FF02\" font-family=\"sans-serif\" font-size=\"14\" font-weight=\"bold\" lengthAdjust=\"spacingAndGlyphs\" textLength=\"10\" x=\"5\" y=\"186.9688\">{</text><text fill=\"#FF0000\" font-family=\"sans-serif\" font-size=\"14\" font-weight=\"bold\" lengthAdjust=\"spacingAndGlyphs\" textLength=\"106\" x=\"10\" y=\"203.2656\">Syntax Error?</text><!--MD5=[d17e96009b15f6b0f685771f923f9657]\n",
       "@startuml\r\n",
       "skinparam ranksep 8\r\n",
       " \r\n",
       "rec def \"DecisionTest\" as E1  <<(D,brown)action def>> [[psysml:a1000395-17a0-47e2-a13d-a24f0cfe83d5 ]] {\r\n",
       "portout \"$result\" as E2  [[psysml:7254dab9-2ab0-4b4a-abf0-a8118207784b ]] \r\n",
       "rec usage \"test x\" as E3  <<(U,orange)decisionNode>> [[psysml:7423d99a-f58c-40be-9ad8-b7209845a744 ]] {\r\n",
       "}\r\n",
       "\r\n",
       "{\r\n",
       "portout \"$result\" as E4  [[psysml:bceec577-4538-432a-b269-09d95bc9a7ff ]] \r\n",
       "portin \"$x\" as E5  [[psysml:8234b737-8b11-4286-80d5-041d60fcfb58 ]] \r\n",
       "portin \"$y\" as E6  [[psysml:7c1f2e2e-5ea9-440e-a0d7-bde68b741d93 ]] \r\n",
       "portout \"$result\" as E7  [[psysml:a1e656b7-cadc-4b3b-a176-c8c2724f8a9f ]] \r\n",
       "}\r\n",
       "\r\n",
       "{\r\n",
       "portout \"$result\" as E8  [[psysml:5e578666-287e-4471-a202-0fa6d9af79c3 ]] \r\n",
       "portin \"$x\" as E9  [[psysml:2e73bbcc-e1fb-462b-9f93-4a649e4b75e6 ]] \r\n",
       "portin \"$y\" as E10  [[psysml:167c4655-6099-4dd6-a555-0c294c9d5979 ]] \r\n",
       "portout \"$result\" as E11  [[psysml:c40f3f95-b4a1-4b20-9a7d-2c01b041f687 ]] \r\n",
       "}\r\n",
       "\r\n",
       "{\r\n",
       "}\r\n",
       "\r\n",
       "{\r\n",
       "}\r\n",
       "\r\n",
       "{\r\n",
       "portout \"$result\" as E12  [[psysml:9e913d35-b492-435f-9373-c501110f1eb9 ]] \r\n",
       "}\r\n",
       "\r\n",
       "{\r\n",
       "portout \"$result\" as E13  [[psysml:158e60b3-268a-4c98-b93c-7961067d80aa ]] \r\n",
       "}\r\n",
       "\r\n",
       "rec usage \"A1\" as E14  <<(U,orange)action>> [[psysml:eb7d07f9-3793-4a0f-a0fd-eb934e5bd3c4 ]] {\r\n",
       "}\r\n",
       "\r\n",
       "rec usage \"A2\" as E15  <<(U,orange)action>> [[psysml:dabafcbf-a70a-41b1-a12f-b84f33147f9e ]] {\r\n",
       "}\r\n",
       "\r\n",
       "rec usage \"A3\" as E16  <<(U,orange)action>> [[psysml:b33bccfd-da91-4304-87b6-52ca1fd70cda ]] {\r\n",
       "}\r\n",
       "\r\n",
       "rec usage \"S\" as E17  <<(U,orange)transition>> [[psysml:b992d367-0404-4f63-871a-2665bf27ec50 ]] {\r\n",
       "rec usage \"A1\" as E18  <<(U,orange)action>> [[psysml:eb7d07f9-3793-4a0f-a0fd-eb934e5bd3c4 ]] {\r\n",
       "}\r\n",
       "\r\n",
       "portout \"$result\" as E19  [[psysml:6c1c6685-5e76-423a-8864-05a29151138c ]] \r\n",
       "portin \"$x\" as E20  [[psysml:c04f5b6e-c0c0-4f8c-b615-27e7186d2d69 ]] \r\n",
       "portin \"$y\" as E21  [[psysml:9909dfe5-9552-4cba-a2bc-4098d95f63c2 ]] \r\n",
       "portout \"$result\" as E22  [[psysml:bcbff8ec-917c-48b5-9f11-9f30a636696f ]] \r\n",
       "}\r\n",
       "\r\n",
       "rec usage \"A3\" as E23  <<(U,orange)action>> [[psysml:b33bccfd-da91-4304-87b6-52ca1fd70cda ]] {\r\n",
       "}\r\n",
       "\r\n",
       "{\r\n",
       "portout \"$result\" as E24  [[psysml:361e6a6e-e017-4926-975f-092030fcbf35 ]] \r\n",
       "portin \"$x\" as E25  [[psysml:01ce4d67-3e05-4f8c-92a8-b88c5ffa81ca ]] \r\n",
       "portin \"$y\" as E26  [[psysml:9a2f800a-bedb-42f6-8036-b5924649c324 ]] \r\n",
       "portout \"$result\" as E27  [[psysml:320da7bf-4cff-49a0-90e2-2e9a2a898b7b ]] \r\n",
       "}\r\n",
       "\r\n",
       "}\r\n",
       "\r\n",
       "@enduml\r\n",
       "\n",
       "PlantUML version 1.2020.13(Sat Jun 13 12:26:38 UTC 2020)\n",
       "(EPL source distribution)\n",
       "Java Runtime: OpenJDK Runtime Environment\n",
       "JVM: OpenJDK 64-Bit Server VM\n",
       "Default Encoding: UTF-8\n",
       "Language: en\n",
       "Country: null\n",
       "--></g></svg>"
      ]
     },
     "execution_count": 34,
     "metadata": {},
     "output_type": "execute_result"
    }
   ],
   "source": [
    "%viz --style=\"PLANTUML\" --view=\"Action\" \"DecisionTest\""
   ]
  },
  {
   "cell_type": "code",
   "execution_count": 35,
   "id": "exact-venue",
   "metadata": {
    "execution": {
     "iopub.execute_input": "2021-03-26T13:02:58.992616Z",
     "iopub.status.busy": "2021-03-26T13:02:58.991797Z",
     "iopub.status.idle": "2021-03-26T13:02:59.054383Z",
     "shell.execute_reply": "2021-03-26T13:02:59.053783Z"
    }
   },
   "outputs": [
    {
     "data": {
      "image/svg+xml": [
       "<?xml version=\"1.0\" encoding=\"UTF-8\" standalone=\"no\"?><svg xmlns=\"http://www.w3.org/2000/svg\" xmlns:xlink=\"http://www.w3.org/1999/xlink\" contentScriptType=\"application/ecmascript\" contentStyleType=\"text/css\" height=\"199px\" preserveAspectRatio=\"none\" style=\"width:138px;height:199px;\" version=\"1.1\" viewBox=\"0 0 138 199\" width=\"138px\" zoomAndPan=\"magnify\"><defs><filter height=\"300%\" id=\"fqalulkp1chlc\" width=\"300%\" x=\"-1\" y=\"-1\"><feGaussianBlur result=\"blurOut\" stdDeviation=\"2.0\"/><feColorMatrix in=\"blurOut\" result=\"blurOut2\" type=\"matrix\" values=\"0 0 0 0 0 0 0 0 0 0 0 0 0 0 0 0 0 0 .4 0\"/><feOffset dx=\"4.0\" dy=\"4.0\" in=\"blurOut2\" result=\"blurOut3\"/><feBlend in=\"SourceGraphic\" in2=\"blurOut3\" mode=\"normal\"/></filter></defs><g><!--MD5=[43c9051892ef23e1a46a86907403d788]\n",
       "class E1--><a href=\"psysml:a1000395-17a0-47e2-a13d-a24f0cfe83d5\" target=\"_top\" title=\"psysml:a1000395-17a0-47e2-a13d-a24f0cfe83d5\" xlink:actuate=\"onRequest\" xlink:href=\"psysml:a1000395-17a0-47e2-a13d-a24f0cfe83d5\" xlink:show=\"new\" xlink:title=\"psysml:a1000395-17a0-47e2-a13d-a24f0cfe83d5\" xlink:type=\"simple\"><rect fill=\"#FEFECE\" filter=\"url(#fqalulkp1chlc)\" height=\"173.1797\" id=\"E1\" style=\"stroke: #A80036; stroke-width: 1.5;\" width=\"112\" x=\"7\" y=\"7\"/><ellipse cx=\"22\" cy=\"25.9688\" fill=\"#A52A2A\" rx=\"11\" ry=\"11\" style=\"stroke: #A80036; stroke-width: 1.0;\"/><path d=\"M21.5938,21.7813 L21.5938,29.7656 L22.25,29.7656 Q23.6875,29.7656 24.2969,28.8594 Q24.9219,27.9375 24.9219,25.7656 Q24.9219,23.5938 24.2969,22.6875 Q23.6875,21.7813 22.25,21.7813 L21.5938,21.7813 Z M19.1406,19.5781 L21.7656,19.5781 Q24.7969,19.5781 26.125,21.0313 Q27.4688,22.4688 27.4688,25.7656 Q27.4688,29.0625 26.125,30.5156 Q24.7969,31.9688 21.7656,31.9688 L19.1406,31.9688 L19.1406,19.5781 Z \"/><text fill=\"#000000\" font-family=\"sans-serif\" font-size=\"12\" font-style=\"italic\" lengthAdjust=\"spacingAndGlyphs\" textLength=\"77\" x=\"37.5\" y=\"23.1387\">«action def»</text><text fill=\"#000000\" font-family=\"sans-serif\" font-size=\"12\" lengthAdjust=\"spacingAndGlyphs\" textLength=\"80\" x=\"36\" y=\"37.1074\">DecisionTest</text><line style=\"stroke: #A80036; stroke-width: 1.5;\" x1=\"8\" x2=\"118\" y1=\"44.9375\" y2=\"44.9375\"/><text fill=\"#000000\" font-family=\"sans-serif\" font-size=\"11\" lengthAdjust=\"spacingAndGlyphs\" textLength=\"6\" x=\"13\" y=\"59.1479\">x</text><text fill=\"#000000\" font-family=\"sans-serif\" font-size=\"11\" lengthAdjust=\"spacingAndGlyphs\" textLength=\"14\" x=\"13\" y=\"88.7573\">A1</text><text fill=\"#000000\" font-family=\"sans-serif\" font-size=\"11\" lengthAdjust=\"spacingAndGlyphs\" textLength=\"14\" x=\"13\" y=\"101.562\">A2</text><text fill=\"#000000\" font-family=\"sans-serif\" font-size=\"11\" lengthAdjust=\"spacingAndGlyphs\" textLength=\"14\" x=\"13\" y=\"114.3667\">A3</text><line style=\"stroke: #A80036; stroke-width: 1.0;\" x1=\"8\" x2=\"42.5\" y1=\"72.1445\" y2=\"72.1445\"/><text fill=\"#000000\" font-family=\"sans-serif\" font-size=\"11\" lengthAdjust=\"spacingAndGlyphs\" textLength=\"41\" x=\"42.5\" y=\"75.4526\">actions</text><line style=\"stroke: #A80036; stroke-width: 1.0;\" x1=\"83.5\" x2=\"118\" y1=\"72.1445\" y2=\"72.1445\"/><text fill=\"#000000\" font-family=\"sans-serif\" font-size=\"11\" lengthAdjust=\"spacingAndGlyphs\" textLength=\"32\" x=\"13\" y=\"143.9761\">test x</text><line style=\"stroke: #A80036; stroke-width: 1.0;\" x1=\"8\" x2=\"21.5\" y1=\"127.3633\" y2=\"127.3633\"/><text fill=\"#000000\" font-family=\"sans-serif\" font-size=\"11\" lengthAdjust=\"spacingAndGlyphs\" textLength=\"83\" x=\"21.5\" y=\"130.6714\">decisionNodes</text><line style=\"stroke: #A80036; stroke-width: 1.0;\" x1=\"104.5\" x2=\"118\" y1=\"127.3633\" y2=\"127.3633\"/><text fill=\"#000000\" font-family=\"sans-serif\" font-size=\"11\" lengthAdjust=\"spacingAndGlyphs\" textLength=\"8\" x=\"13\" y=\"173.5854\">S</text><line style=\"stroke: #A80036; stroke-width: 1.0;\" x1=\"8\" x2=\"32.5\" y1=\"156.9727\" y2=\"156.9727\"/><text fill=\"#000000\" font-family=\"sans-serif\" font-size=\"11\" lengthAdjust=\"spacingAndGlyphs\" textLength=\"61\" x=\"32.5\" y=\"160.2808\">transitions</text><line style=\"stroke: #A80036; stroke-width: 1.0;\" x1=\"93.5\" x2=\"118\" y1=\"156.9727\" y2=\"156.9727\"/></a><!--MD5=[4e0fa4b0690387b183beda5b2fd9ac0a]\n",
       "@startuml\r\n",
       " \r\n",
       "comp def \"DecisionTest\" as E1  <<(D,brown)action def>> [[psysml:a1000395-17a0-47e2-a13d-a24f0cfe83d5 ]] {\r\n",
       "x\r\n",
       "- - actions - -\r\n",
       "A1\r\n",
       "A2\r\n",
       "A3\r\n",
       "- - decisionNodes - -\r\n",
       "test x\r\n",
       "- - transitions - -\r\n",
       "S\r\n",
       "}\r\n",
       "@enduml\r\n",
       "\n",
       "PlantUML version 1.2020.13(Sat Jun 13 12:26:38 UTC 2020)\n",
       "(EPL source distribution)\n",
       "Java Runtime: OpenJDK Runtime Environment\n",
       "JVM: OpenJDK 64-Bit Server VM\n",
       "Default Encoding: UTF-8\n",
       "Language: en\n",
       "Country: null\n",
       "--></g></svg>"
      ]
     },
     "execution_count": 35,
     "metadata": {},
     "output_type": "execute_result"
    }
   ],
   "source": [
    "%viz --style=\"PLANTUML\" --view=\"Sequence\" \"DecisionTest\""
   ]
  },
  {
   "cell_type": "code",
   "execution_count": 36,
   "id": "impaired-cement",
   "metadata": {
    "execution": {
     "iopub.execute_input": "2021-03-26T13:02:59.104903Z",
     "iopub.status.busy": "2021-03-26T13:02:59.104409Z",
     "iopub.status.idle": "2021-03-26T13:02:59.121147Z",
     "shell.execute_reply": "2021-03-26T13:02:59.120597Z"
    }
   },
   "outputs": [
    {
     "data": {
      "image/svg+xml": [
       "<?xml version=\"1.0\" encoding=\"UTF-8\" standalone=\"no\"?><svg xmlns=\"http://www.w3.org/2000/svg\" xmlns:xlink=\"http://www.w3.org/1999/xlink\" contentScriptType=\"application/ecmascript\" contentStyleType=\"text/css\" height=\"190px\" preserveAspectRatio=\"none\" style=\"width:892px;height:190px;background:#000000;\" version=\"1.1\" viewBox=\"0 0 892 190\" width=\"892px\" zoomAndPan=\"magnify\"><defs/><g><rect fill=\"#071C1F\" height=\"1\" style=\"stroke: #071C1F; stroke-width: 1.0;\" width=\"1\" x=\"0\" y=\"0\"/><rect fill=\"#33FF02\" height=\"21.2969\" style=\"stroke: #33FF02; stroke-width: 1.0;\" width=\"885\" x=\"5\" y=\"5\"/><text fill=\"#000000\" font-family=\"sans-serif\" font-size=\"14\" font-weight=\"bold\" lengthAdjust=\"spacingAndGlyphs\" textLength=\"168\" x=\"6\" y=\"20\">[From string (line 8) ]</text><text fill=\"#33FF02\" font-family=\"sans-serif\" font-size=\"14\" font-weight=\"bold\" lengthAdjust=\"spacingAndGlyphs\" textLength=\"0\" x=\"10\" y=\"40.2969\"/><text fill=\"#33FF02\" font-family=\"sans-serif\" font-size=\"14\" font-weight=\"bold\" lengthAdjust=\"spacingAndGlyphs\" textLength=\"79\" x=\"5\" y=\"56.5938\">@startuml</text><text fill=\"#33FF02\" font-family=\"sans-serif\" font-size=\"14\" font-weight=\"bold\" lengthAdjust=\"spacingAndGlyphs\" textLength=\"0\" x=\"10\" y=\"72.8906\"/><text fill=\"#33FF02\" font-family=\"sans-serif\" font-size=\"14\" font-weight=\"bold\" lengthAdjust=\"spacingAndGlyphs\" textLength=\"882\" x=\"5\" y=\"89.1875\">rec def \"DecisionTest\" as E1  &lt;&lt;(D,brown)action def&gt;&gt; [[psysml:a1000395-17a0-47e2-a13d-a24f0cfe83d5 ]] {</text><text fill=\"#33FF02\" font-family=\"sans-serif\" font-size=\"14\" font-weight=\"bold\" lengthAdjust=\"spacingAndGlyphs\" textLength=\"616\" x=\"5\" y=\"105.4844\">portout \"$result\" as E2  [[psysml:7254dab9-2ab0-4b4a-abf0-a8118207784b ]]</text><text fill=\"#33FF02\" font-family=\"sans-serif\" font-size=\"14\" font-weight=\"bold\" lengthAdjust=\"spacingAndGlyphs\" textLength=\"885\" x=\"5\" y=\"121.7813\">rec usage \"test x\" as E3  &lt;&lt;(U,orange)decisionNode&gt;&gt; [[psysml:7423d99a-f58c-40be-9ad8-b7209845a744 ]] {</text><text fill=\"#33FF02\" font-family=\"sans-serif\" font-size=\"14\" font-weight=\"bold\" lengthAdjust=\"spacingAndGlyphs\" textLength=\"10\" x=\"5\" y=\"138.0781\">}</text><text fill=\"#33FF02\" font-family=\"sans-serif\" font-size=\"14\" font-weight=\"bold\" lengthAdjust=\"spacingAndGlyphs\" textLength=\"0\" x=\"10\" y=\"154.375\"/><text fill=\"#33FF02\" font-family=\"sans-serif\" font-size=\"14\" font-weight=\"bold\" lengthAdjust=\"spacingAndGlyphs\" textLength=\"10\" x=\"5\" y=\"170.6719\">{</text><text fill=\"#FF0000\" font-family=\"sans-serif\" font-size=\"14\" font-weight=\"bold\" lengthAdjust=\"spacingAndGlyphs\" textLength=\"106\" x=\"10\" y=\"186.9688\">Syntax Error?</text><!--MD5=[0fa1e7e82a6d7091f81015909718a0f2]\n",
       "@startuml\r\n",
       " \r\n",
       "rec def \"DecisionTest\" as E1  <<(D,brown)action def>> [[psysml:a1000395-17a0-47e2-a13d-a24f0cfe83d5 ]] {\r\n",
       "portout \"$result\" as E2  [[psysml:7254dab9-2ab0-4b4a-abf0-a8118207784b ]] \r\n",
       "rec usage \"test x\" as E3  <<(U,orange)decisionNode>> [[psysml:7423d99a-f58c-40be-9ad8-b7209845a744 ]] {\r\n",
       "}\r\n",
       "\r\n",
       "{\r\n",
       "portout \"$result\" as E4  [[psysml:bceec577-4538-432a-b269-09d95bc9a7ff ]] \r\n",
       "portin \"$x\" as E5  [[psysml:8234b737-8b11-4286-80d5-041d60fcfb58 ]] \r\n",
       "portin \"$y\" as E6  [[psysml:7c1f2e2e-5ea9-440e-a0d7-bde68b741d93 ]] \r\n",
       "portout \"$result\" as E7  [[psysml:a1e656b7-cadc-4b3b-a176-c8c2724f8a9f ]] \r\n",
       "}\r\n",
       "\r\n",
       "{\r\n",
       "portout \"$result\" as E8  [[psysml:5e578666-287e-4471-a202-0fa6d9af79c3 ]] \r\n",
       "portin \"$x\" as E9  [[psysml:2e73bbcc-e1fb-462b-9f93-4a649e4b75e6 ]] \r\n",
       "portin \"$y\" as E10  [[psysml:167c4655-6099-4dd6-a555-0c294c9d5979 ]] \r\n",
       "portout \"$result\" as E11  [[psysml:c40f3f95-b4a1-4b20-9a7d-2c01b041f687 ]] \r\n",
       "}\r\n",
       "\r\n",
       "{\r\n",
       "}\r\n",
       "\r\n",
       "{\r\n",
       "}\r\n",
       "\r\n",
       "{\r\n",
       "portout \"$result\" as E12  [[psysml:9e913d35-b492-435f-9373-c501110f1eb9 ]] \r\n",
       "}\r\n",
       "\r\n",
       "{\r\n",
       "portout \"$result\" as E13  [[psysml:158e60b3-268a-4c98-b93c-7961067d80aa ]] \r\n",
       "}\r\n",
       "\r\n",
       "rec usage \"A1\" as E14  <<(U,orange)action>> [[psysml:eb7d07f9-3793-4a0f-a0fd-eb934e5bd3c4 ]] {\r\n",
       "}\r\n",
       "\r\n",
       "rec usage \"A2\" as E15  <<(U,orange)action>> [[psysml:dabafcbf-a70a-41b1-a12f-b84f33147f9e ]] {\r\n",
       "}\r\n",
       "\r\n",
       "rec usage \"A3\" as E16  <<(U,orange)action>> [[psysml:b33bccfd-da91-4304-87b6-52ca1fd70cda ]] {\r\n",
       "}\r\n",
       "\r\n",
       "rec usage \"S\" as E17  <<(U,orange)transition>> [[psysml:b992d367-0404-4f63-871a-2665bf27ec50 ]] {\r\n",
       "rec usage \"A1\" as E18  <<(U,orange)action>> [[psysml:eb7d07f9-3793-4a0f-a0fd-eb934e5bd3c4 ]] {\r\n",
       "}\r\n",
       "\r\n",
       "portout \"$result\" as E19  [[psysml:6c1c6685-5e76-423a-8864-05a29151138c ]] \r\n",
       "portin \"$x\" as E20  [[psysml:c04f5b6e-c0c0-4f8c-b615-27e7186d2d69 ]] \r\n",
       "portin \"$y\" as E21  [[psysml:9909dfe5-9552-4cba-a2bc-4098d95f63c2 ]] \r\n",
       "portout \"$result\" as E22  [[psysml:bcbff8ec-917c-48b5-9f11-9f30a636696f ]] \r\n",
       "}\r\n",
       "\r\n",
       "rec usage \"A3\" as E23  <<(U,orange)action>> [[psysml:b33bccfd-da91-4304-87b6-52ca1fd70cda ]] {\r\n",
       "}\r\n",
       "\r\n",
       "{\r\n",
       "portout \"$result\" as E24  [[psysml:361e6a6e-e017-4926-975f-092030fcbf35 ]] \r\n",
       "portin \"$x\" as E25  [[psysml:01ce4d67-3e05-4f8c-92a8-b88c5ffa81ca ]] \r\n",
       "portin \"$y\" as E26  [[psysml:9a2f800a-bedb-42f6-8036-b5924649c324 ]] \r\n",
       "portout \"$result\" as E27  [[psysml:320da7bf-4cff-49a0-90e2-2e9a2a898b7b ]] \r\n",
       "}\r\n",
       "\r\n",
       "}\r\n",
       "\r\n",
       "@enduml\r\n",
       "\n",
       "PlantUML version 1.2020.13(Sat Jun 13 12:26:38 UTC 2020)\n",
       "(EPL source distribution)\n",
       "Java Runtime: OpenJDK Runtime Environment\n",
       "JVM: OpenJDK 64-Bit Server VM\n",
       "Default Encoding: UTF-8\n",
       "Language: en\n",
       "Country: null\n",
       "--></g></svg>"
      ]
     },
     "execution_count": 36,
     "metadata": {},
     "output_type": "execute_result"
    }
   ],
   "source": [
    "%viz --style=\"PLANTUML\" --view=\"MIXED\" \"DecisionTest\""
   ]
  },
  {
   "cell_type": "code",
   "execution_count": 37,
   "id": "hindu-american",
   "metadata": {
    "execution": {
     "iopub.execute_input": "2021-03-26T13:02:59.171104Z",
     "iopub.status.busy": "2021-03-26T13:02:59.170774Z",
     "iopub.status.idle": "2021-03-26T13:02:59.185572Z",
     "shell.execute_reply": "2021-03-26T13:02:59.184494Z"
    }
   },
   "outputs": [
    {
     "data": {
      "image/svg+xml": [
       "<?xml version=\"1.0\" encoding=\"UTF-8\" standalone=\"no\"?><svg xmlns=\"http://www.w3.org/2000/svg\" xmlns:xlink=\"http://www.w3.org/1999/xlink\" contentScriptType=\"application/ecmascript\" contentStyleType=\"text/css\" height=\"271px\" preserveAspectRatio=\"none\" style=\"width:871px;height:271px;background:#000000;\" version=\"1.1\" viewBox=\"0 0 871 271\" width=\"871px\" zoomAndPan=\"magnify\"><defs/><g><rect fill=\"#23230A\" height=\"1\" style=\"stroke: #23230A; stroke-width: 1.0;\" width=\"1\" x=\"0\" y=\"0\"/><rect fill=\"#33FF02\" height=\"21.2969\" style=\"stroke: #33FF02; stroke-width: 1.0;\" width=\"864\" x=\"5\" y=\"5\"/><text fill=\"#000000\" font-family=\"sans-serif\" font-size=\"14\" font-weight=\"bold\" lengthAdjust=\"spacingAndGlyphs\" textLength=\"178\" x=\"6\" y=\"20\">[From string (line 13) ]</text><text fill=\"#33FF02\" font-family=\"sans-serif\" font-size=\"14\" font-weight=\"bold\" lengthAdjust=\"spacingAndGlyphs\" textLength=\"0\" x=\"10\" y=\"40.2969\"/><text fill=\"#33FF02\" font-family=\"sans-serif\" font-size=\"14\" font-weight=\"bold\" lengthAdjust=\"spacingAndGlyphs\" textLength=\"79\" x=\"5\" y=\"56.5938\">@startuml</text><text fill=\"#33FF02\" font-family=\"sans-serif\" font-size=\"14\" font-weight=\"bold\" lengthAdjust=\"spacingAndGlyphs\" textLength=\"228\" x=\"5\" y=\"72.8906\">skinparam monochrome true</text><text fill=\"#33FF02\" font-family=\"sans-serif\" font-size=\"14\" font-weight=\"bold\" lengthAdjust=\"spacingAndGlyphs\" textLength=\"309\" x=\"5\" y=\"89.1875\">skinparam classbackgroundcolor white</text><text fill=\"#33FF02\" font-family=\"sans-serif\" font-size=\"14\" font-weight=\"bold\" lengthAdjust=\"spacingAndGlyphs\" textLength=\"215\" x=\"5\" y=\"105.4844\">skinparam shadowing false</text><text fill=\"#33FF02\" font-family=\"sans-serif\" font-size=\"14\" font-weight=\"bold\" lengthAdjust=\"spacingAndGlyphs\" textLength=\"206\" x=\"5\" y=\"121.7813\">skinparam wrapWidth 300</text><text fill=\"#33FF02\" font-family=\"sans-serif\" font-size=\"14\" font-weight=\"bold\" lengthAdjust=\"spacingAndGlyphs\" textLength=\"82\" x=\"5\" y=\"138.0781\">hide circle</text><text fill=\"#33FF02\" font-family=\"sans-serif\" font-size=\"14\" font-weight=\"bold\" lengthAdjust=\"spacingAndGlyphs\" textLength=\"0\" x=\"10\" y=\"154.375\"/><text fill=\"#33FF02\" font-family=\"sans-serif\" font-size=\"14\" font-weight=\"bold\" lengthAdjust=\"spacingAndGlyphs\" textLength=\"864\" x=\"5\" y=\"170.6719\">rec def \"DecisionTest\" as E1  &lt;&lt;(T,blue)action def&gt;&gt; [[psysml:a1000395-17a0-47e2-a13d-a24f0cfe83d5 ]] {</text><text fill=\"#33FF02\" font-family=\"sans-serif\" font-size=\"14\" font-weight=\"bold\" lengthAdjust=\"spacingAndGlyphs\" textLength=\"616\" x=\"5\" y=\"186.9688\">portout \"$result\" as E2  [[psysml:7254dab9-2ab0-4b4a-abf0-a8118207784b ]]</text><text fill=\"#33FF02\" font-family=\"sans-serif\" font-size=\"14\" font-weight=\"bold\" lengthAdjust=\"spacingAndGlyphs\" textLength=\"862\" x=\"5\" y=\"203.2656\">rec usage \"test x\" as E3  &lt;&lt;(T,blue)decisionNode&gt;&gt; [[psysml:7423d99a-f58c-40be-9ad8-b7209845a744 ]] {</text><text fill=\"#33FF02\" font-family=\"sans-serif\" font-size=\"14\" font-weight=\"bold\" lengthAdjust=\"spacingAndGlyphs\" textLength=\"10\" x=\"5\" y=\"219.5625\">}</text><text fill=\"#33FF02\" font-family=\"sans-serif\" font-size=\"14\" font-weight=\"bold\" lengthAdjust=\"spacingAndGlyphs\" textLength=\"0\" x=\"10\" y=\"235.8594\"/><text fill=\"#33FF02\" font-family=\"sans-serif\" font-size=\"14\" font-weight=\"bold\" lengthAdjust=\"spacingAndGlyphs\" textLength=\"10\" x=\"5\" y=\"252.1563\">{</text><text fill=\"#FF0000\" font-family=\"sans-serif\" font-size=\"14\" font-weight=\"bold\" lengthAdjust=\"spacingAndGlyphs\" textLength=\"106\" x=\"10\" y=\"268.4531\">Syntax Error?</text><!--MD5=[745d91d4434b90b6b5ea9d63291d1fa1]\n",
       "@startuml\r\n",
       "skinparam monochrome true\r\n",
       "skinparam classbackgroundcolor white\r\n",
       "skinparam shadowing false\r\n",
       "skinparam wrapWidth 300\r\n",
       "hide circle\r\n",
       "\r\n",
       "rec def \"DecisionTest\" as E1  <<(T,blue)action def>> [[psysml:a1000395-17a0-47e2-a13d-a24f0cfe83d5 ]] {\r\n",
       "portout \"$result\" as E2  [[psysml:7254dab9-2ab0-4b4a-abf0-a8118207784b ]] \r\n",
       "rec usage \"test x\" as E3  <<(T,blue)decisionNode>> [[psysml:7423d99a-f58c-40be-9ad8-b7209845a744 ]] {\r\n",
       "}\r\n",
       "\r\n",
       "{\r\n",
       "portout \"$result\" as E4  [[psysml:bceec577-4538-432a-b269-09d95bc9a7ff ]] \r\n",
       "portin \"$x\" as E5  [[psysml:8234b737-8b11-4286-80d5-041d60fcfb58 ]] \r\n",
       "portin \"$y\" as E6  [[psysml:7c1f2e2e-5ea9-440e-a0d7-bde68b741d93 ]] \r\n",
       "portout \"$result\" as E7  [[psysml:a1e656b7-cadc-4b3b-a176-c8c2724f8a9f ]] \r\n",
       "}\r\n",
       "\r\n",
       "{\r\n",
       "portout \"$result\" as E8  [[psysml:5e578666-287e-4471-a202-0fa6d9af79c3 ]] \r\n",
       "portin \"$x\" as E9  [[psysml:2e73bbcc-e1fb-462b-9f93-4a649e4b75e6 ]] \r\n",
       "portin \"$y\" as E10  [[psysml:167c4655-6099-4dd6-a555-0c294c9d5979 ]] \r\n",
       "portout \"$result\" as E11  [[psysml:c40f3f95-b4a1-4b20-9a7d-2c01b041f687 ]] \r\n",
       "}\r\n",
       "\r\n",
       "{\r\n",
       "}\r\n",
       "\r\n",
       "{\r\n",
       "}\r\n",
       "\r\n",
       "{\r\n",
       "portout \"$result\" as E12  [[psysml:9e913d35-b492-435f-9373-c501110f1eb9 ]] \r\n",
       "}\r\n",
       "\r\n",
       "{\r\n",
       "portout \"$result\" as E13  [[psysml:158e60b3-268a-4c98-b93c-7961067d80aa ]] \r\n",
       "}\r\n",
       "\r\n",
       "rec usage \"A1\" as E14  <<(T,blue)action>> [[psysml:eb7d07f9-3793-4a0f-a0fd-eb934e5bd3c4 ]] {\r\n",
       "}\r\n",
       "\r\n",
       "rec usage \"A2\" as E15  <<(T,blue)action>> [[psysml:dabafcbf-a70a-41b1-a12f-b84f33147f9e ]] {\r\n",
       "}\r\n",
       "\r\n",
       "rec usage \"A3\" as E16  <<(T,blue)action>> [[psysml:b33bccfd-da91-4304-87b6-52ca1fd70cda ]] {\r\n",
       "}\r\n",
       "\r\n",
       "rec usage \"S\" as E17  <<(T,blue)transition>> [[psysml:b992d367-0404-4f63-871a-2665bf27ec50 ]] {\r\n",
       "rec usage \"A1\" as E18  <<(T,blue)action>> [[psysml:eb7d07f9-3793-4a0f-a0fd-eb934e5bd3c4 ]] {\r\n",
       "}\r\n",
       "\r\n",
       "portout \"$result\" as E19  [[psysml:6c1c6685-5e76-423a-8864-05a29151138c ]] \r\n",
       "portin \"$x\" as E20  [[psysml:c04f5b6e-c0c0-4f8c-b615-27e7186d2d69 ]] \r\n",
       "portin \"$y\" as E21  [[psysml:9909dfe5-9552-4cba-a2bc-4098d95f63c2 ]] \r\n",
       "portout \"$result\" as E22  [[psysml:bcbff8ec-917c-48b5-9f11-9f30a636696f ]] \r\n",
       "}\r\n",
       "\r\n",
       "rec usage \"A3\" as E23  <<(T,blue)action>> [[psysml:b33bccfd-da91-4304-87b6-52ca1fd70cda ]] {\r\n",
       "}\r\n",
       "\r\n",
       "{\r\n",
       "portout \"$result\" as E24  [[psysml:361e6a6e-e017-4926-975f-092030fcbf35 ]] \r\n",
       "portin \"$x\" as E25  [[psysml:01ce4d67-3e05-4f8c-92a8-b88c5ffa81ca ]] \r\n",
       "portin \"$y\" as E26  [[psysml:9a2f800a-bedb-42f6-8036-b5924649c324 ]] \r\n",
       "portout \"$result\" as E27  [[psysml:320da7bf-4cff-49a0-90e2-2e9a2a898b7b ]] \r\n",
       "}\r\n",
       "\r\n",
       "}\r\n",
       "\r\n",
       "@enduml\r\n",
       "\n",
       "PlantUML version 1.2020.13(Sat Jun 13 12:26:38 UTC 2020)\n",
       "(EPL source distribution)\n",
       "Java Runtime: OpenJDK Runtime Environment\n",
       "JVM: OpenJDK 64-Bit Server VM\n",
       "Default Encoding: UTF-8\n",
       "Language: en\n",
       "Country: null\n",
       "--></g></svg>"
      ]
     },
     "execution_count": 37,
     "metadata": {},
     "output_type": "execute_result"
    }
   ],
   "source": [
    "%viz --style=\"DEFAULT\" --view=\"Default\" \"DecisionTest\""
   ]
  },
  {
   "cell_type": "code",
   "execution_count": 38,
   "id": "affecting-threat",
   "metadata": {
    "execution": {
     "iopub.execute_input": "2021-03-26T13:02:59.240355Z",
     "iopub.status.busy": "2021-03-26T13:02:59.238991Z",
     "iopub.status.idle": "2021-03-26T13:02:59.326494Z",
     "shell.execute_reply": "2021-03-26T13:02:59.326124Z"
    }
   },
   "outputs": [
    {
     "data": {
      "image/svg+xml": [
       "<?xml version=\"1.0\" encoding=\"UTF-8\" standalone=\"no\"?><svg xmlns=\"http://www.w3.org/2000/svg\" xmlns:xlink=\"http://www.w3.org/1999/xlink\" contentScriptType=\"application/ecmascript\" contentStyleType=\"text/css\" height=\"207px\" preserveAspectRatio=\"none\" style=\"width:109px;height:207px;\" version=\"1.1\" viewBox=\"0 0 109 207\" width=\"109px\" zoomAndPan=\"magnify\"><defs/><g><!--MD5=[43c9051892ef23e1a46a86907403d788]\n",
       "class E1--><a href=\"psysml:a1000395-17a0-47e2-a13d-a24f0cfe83d5\" target=\"_top\" title=\"psysml:a1000395-17a0-47e2-a13d-a24f0cfe83d5\" xlink:actuate=\"onRequest\" xlink:href=\"psysml:a1000395-17a0-47e2-a13d-a24f0cfe83d5\" xlink:show=\"new\" xlink:title=\"psysml:a1000395-17a0-47e2-a13d-a24f0cfe83d5\" xlink:type=\"simple\"><rect fill=\"#FFFFFF\" height=\"189.9844\" id=\"E1\" style=\"stroke: #383838; stroke-width: 1.5;\" width=\"91\" x=\"7\" y=\"7\"/><text fill=\"#000000\" font-family=\"sans-serif\" font-size=\"12\" font-style=\"italic\" lengthAdjust=\"spacingAndGlyphs\" textLength=\"77\" x=\"14\" y=\"23.1387\">«action def»</text><text fill=\"#000000\" font-family=\"sans-serif\" font-size=\"12\" lengthAdjust=\"spacingAndGlyphs\" textLength=\"80\" x=\"12.5\" y=\"37.1074\">DecisionTest</text><line style=\"stroke: #383838; stroke-width: 1.5;\" x1=\"8\" x2=\"97\" y1=\"44.9375\" y2=\"44.9375\"/><text fill=\"#000000\" font-family=\"sans-serif\" font-size=\"11\" lengthAdjust=\"spacingAndGlyphs\" textLength=\"6\" x=\"13\" y=\"75.9526\">x</text><line style=\"stroke: #383838; stroke-width: 1.0;\" x1=\"8\" x2=\"25\" y1=\"59.3398\" y2=\"59.3398\"/><text fill=\"#000000\" font-family=\"sans-serif\" font-size=\"11\" lengthAdjust=\"spacingAndGlyphs\" textLength=\"55\" x=\"25\" y=\"62.6479\">attributes</text><line style=\"stroke: #383838; stroke-width: 1.0;\" x1=\"80\" x2=\"97\" y1=\"59.3398\" y2=\"59.3398\"/><text fill=\"#000000\" font-family=\"sans-serif\" font-size=\"11\" lengthAdjust=\"spacingAndGlyphs\" textLength=\"14\" x=\"13\" y=\"105.562\">A1</text><text fill=\"#000000\" font-family=\"sans-serif\" font-size=\"11\" lengthAdjust=\"spacingAndGlyphs\" textLength=\"14\" x=\"13\" y=\"118.3667\">A2</text><text fill=\"#000000\" font-family=\"sans-serif\" font-size=\"11\" lengthAdjust=\"spacingAndGlyphs\" textLength=\"14\" x=\"13\" y=\"131.1714\">A3</text><line style=\"stroke: #383838; stroke-width: 1.0;\" x1=\"8\" x2=\"32\" y1=\"88.9492\" y2=\"88.9492\"/><text fill=\"#000000\" font-family=\"sans-serif\" font-size=\"11\" lengthAdjust=\"spacingAndGlyphs\" textLength=\"41\" x=\"32\" y=\"92.2573\">actions</text><line style=\"stroke: #383838; stroke-width: 1.0;\" x1=\"73\" x2=\"97\" y1=\"88.9492\" y2=\"88.9492\"/><text fill=\"#000000\" font-family=\"sans-serif\" font-size=\"11\" lengthAdjust=\"spacingAndGlyphs\" textLength=\"32\" x=\"13\" y=\"160.7808\">test x</text><line style=\"stroke: #383838; stroke-width: 1.0;\" x1=\"8\" x2=\"11\" y1=\"144.168\" y2=\"144.168\"/><text fill=\"#000000\" font-family=\"sans-serif\" font-size=\"11\" lengthAdjust=\"spacingAndGlyphs\" textLength=\"83\" x=\"11\" y=\"147.4761\">decisionNodes</text><line style=\"stroke: #383838; stroke-width: 1.0;\" x1=\"94\" x2=\"97\" y1=\"144.168\" y2=\"144.168\"/><text fill=\"#000000\" font-family=\"sans-serif\" font-size=\"11\" lengthAdjust=\"spacingAndGlyphs\" textLength=\"8\" x=\"13\" y=\"190.3901\">S</text><line style=\"stroke: #383838; stroke-width: 1.0;\" x1=\"8\" x2=\"22\" y1=\"173.7773\" y2=\"173.7773\"/><text fill=\"#000000\" font-family=\"sans-serif\" font-size=\"11\" lengthAdjust=\"spacingAndGlyphs\" textLength=\"61\" x=\"22\" y=\"177.0854\">transitions</text><line style=\"stroke: #383838; stroke-width: 1.0;\" x1=\"83\" x2=\"97\" y1=\"173.7773\" y2=\"173.7773\"/></a><!--MD5=[f5e9af992acc6cf93628a46b7d2971b7]\n",
       "@startuml\r\n",
       "skinparam monochrome true\r\n",
       "skinparam classbackgroundcolor white\r\n",
       "skinparam shadowing false\r\n",
       "skinparam wrapWidth 300\r\n",
       "hide circle\r\n",
       "\r\n",
       "comp def \"DecisionTest\" as E1  <<(T,blue)action def>> [[psysml:a1000395-17a0-47e2-a13d-a24f0cfe83d5 ]] {\r\n",
       "- - attributes - -\r\n",
       "x\r\n",
       "- - actions - -\r\n",
       "A1\r\n",
       "A2\r\n",
       "A3\r\n",
       "- - decisionNodes - -\r\n",
       "test x\r\n",
       "- - transitions - -\r\n",
       "S\r\n",
       "}\r\n",
       "@enduml\r\n",
       "\n",
       "PlantUML version 1.2020.13(Sat Jun 13 12:26:38 UTC 2020)\n",
       "(EPL source distribution)\n",
       "Java Runtime: OpenJDK Runtime Environment\n",
       "JVM: OpenJDK 64-Bit Server VM\n",
       "Default Encoding: UTF-8\n",
       "Language: en\n",
       "Country: null\n",
       "--></g></svg>"
      ]
     },
     "execution_count": 38,
     "metadata": {},
     "output_type": "execute_result"
    }
   ],
   "source": [
    "%viz --style=\"DEFAULT\" --view=\"Tree\" \"DecisionTest\""
   ]
  },
  {
   "cell_type": "code",
   "execution_count": 39,
   "id": "vulnerable-aluminum",
   "metadata": {
    "execution": {
     "iopub.execute_input": "2021-03-26T13:02:59.378935Z",
     "iopub.status.busy": "2021-03-26T13:02:59.378134Z",
     "iopub.status.idle": "2021-03-26T13:02:59.384704Z",
     "shell.execute_reply": "2021-03-26T13:02:59.384308Z"
    }
   },
   "outputs": [
    {
     "data": {
      "image/svg+xml": [
       "<?xml version=\"1.0\" encoding=\"UTF-8\" standalone=\"no\"?><svg xmlns=\"http://www.w3.org/2000/svg\" xmlns:xlink=\"http://www.w3.org/1999/xlink\" contentScriptType=\"application/ecmascript\" contentStyleType=\"text/css\" height=\"12px\" preserveAspectRatio=\"none\" style=\"width:12px;height:12px;\" version=\"1.1\" viewBox=\"0 0 12 12\" width=\"12px\" zoomAndPan=\"magnify\"><defs/><g><!--MD5=[c5f280e076d0d61ccf4b0f27871bda1d]\n",
       "@startuml\r\n",
       "skinparam monochrome true\r\n",
       "skinparam classbackgroundcolor white\r\n",
       "skinparam shadowing false\r\n",
       "skinparam wrapWidth 300\r\n",
       "hide circle\r\n",
       "\r\n",
       "@enduml\r\n",
       "\n",
       "PlantUML version 1.2020.13(Sat Jun 13 12:26:38 UTC 2020)\n",
       "(EPL source distribution)\n",
       "Java Runtime: OpenJDK Runtime Environment\n",
       "JVM: OpenJDK 64-Bit Server VM\n",
       "Default Encoding: UTF-8\n",
       "Language: en\n",
       "Country: null\n",
       "--></g></svg>"
      ]
     },
     "execution_count": 39,
     "metadata": {},
     "output_type": "execute_result"
    }
   ],
   "source": [
    "%viz --style=\"DEFAULT\" --view=\"State\" \"DecisionTest\""
   ]
  },
  {
   "cell_type": "code",
   "execution_count": 40,
   "id": "buried-circulation",
   "metadata": {
    "execution": {
     "iopub.execute_input": "2021-03-26T13:02:59.436879Z",
     "iopub.status.busy": "2021-03-26T13:02:59.435887Z",
     "iopub.status.idle": "2021-03-26T13:02:59.445720Z",
     "shell.execute_reply": "2021-03-26T13:02:59.445345Z"
    }
   },
   "outputs": [
    {
     "data": {
      "image/svg+xml": [
       "<?xml version=\"1.0\" encoding=\"UTF-8\" standalone=\"no\"?><svg xmlns=\"http://www.w3.org/2000/svg\" xmlns:xlink=\"http://www.w3.org/1999/xlink\" contentScriptType=\"application/ecmascript\" contentStyleType=\"text/css\" height=\"60px\" preserveAspectRatio=\"none\" style=\"width:109px;height:60px;\" version=\"1.1\" viewBox=\"0 0 109 60\" width=\"109px\" zoomAndPan=\"magnify\"><defs/><g><g id=\"E1\"><a href=\"psysml:a1000395-17a0-47e2-a13d-a24f0cfe83d5\" target=\"_top\" title=\"psysml:a1000395-17a0-47e2-a13d-a24f0cfe83d5\" xlink:actuate=\"onRequest\" xlink:href=\"psysml:a1000395-17a0-47e2-a13d-a24f0cfe83d5\" xlink:show=\"new\" xlink:title=\"psysml:a1000395-17a0-47e2-a13d-a24f0cfe83d5\" xlink:type=\"simple\"><rect fill=\"#FFFFFF\" height=\"42.9375\" id=\"E1\" style=\"stroke: #383838; stroke-width: 1.5;\" width=\"91\" x=\"7\" y=\"7\"/><rect fill=\"#F8F8F8\" height=\"37.9375\" style=\"stroke: #383838; stroke-width: 1.5;\" width=\"91\" x=\"7\" y=\"7\"/><text fill=\"#000000\" font-family=\"sans-serif\" font-size=\"12\" font-style=\"italic\" lengthAdjust=\"spacingAndGlyphs\" textLength=\"77\" x=\"14\" y=\"23.1387\">«action def»</text><text fill=\"#000000\" font-family=\"sans-serif\" font-size=\"12\" lengthAdjust=\"spacingAndGlyphs\" textLength=\"80\" x=\"12.5\" y=\"37.1074\">DecisionTest</text></a></g><!--MD5=[7d7dfa8f210ea424d320197518781988]\n",
       "@startuml\r\n",
       "skinparam ranksep 8\r\n",
       "skinparam rectangle {\r\n",
       " backgroundColor<<block>> LightGreen\r\n",
       "}\r\n",
       "skinparam monochrome true\r\n",
       "skinparam classbackgroundcolor white\r\n",
       "skinparam shadowing false\r\n",
       "skinparam wrapWidth 300\r\n",
       "hide circle\r\n",
       "\r\n",
       "def \"DecisionTest\" as E1  <<(T,blue)action def>> [[psysml:a1000395-17a0-47e2-a13d-a24f0cfe83d5 ]] \r\n",
       "@enduml\r\n",
       "\n",
       "PlantUML version 1.2020.13(Sat Jun 13 12:26:38 UTC 2020)\n",
       "(EPL source distribution)\n",
       "Java Runtime: OpenJDK Runtime Environment\n",
       "JVM: OpenJDK 64-Bit Server VM\n",
       "Default Encoding: UTF-8\n",
       "Language: en\n",
       "Country: null\n",
       "--></g></svg>"
      ]
     },
     "execution_count": 40,
     "metadata": {},
     "output_type": "execute_result"
    }
   ],
   "source": [
    "%viz --style=\"DEFAULT\" --view=\"Interconnection\" \"DecisionTest\""
   ]
  },
  {
   "cell_type": "code",
   "execution_count": 41,
   "id": "considered-maximum",
   "metadata": {
    "execution": {
     "iopub.execute_input": "2021-03-26T13:02:59.500933Z",
     "iopub.status.busy": "2021-03-26T13:02:59.500218Z",
     "iopub.status.idle": "2021-03-26T13:02:59.515547Z",
     "shell.execute_reply": "2021-03-26T13:02:59.514461Z"
    }
   },
   "outputs": [
    {
     "data": {
      "image/svg+xml": [
       "<?xml version=\"1.0\" encoding=\"UTF-8\" standalone=\"no\"?><svg xmlns=\"http://www.w3.org/2000/svg\" xmlns:xlink=\"http://www.w3.org/1999/xlink\" contentScriptType=\"application/ecmascript\" contentStyleType=\"text/css\" height=\"288px\" preserveAspectRatio=\"none\" style=\"width:871px;height:288px;background:#000000;\" version=\"1.1\" viewBox=\"0 0 871 288\" width=\"871px\" zoomAndPan=\"magnify\"><defs/><g><rect fill=\"#110409\" height=\"1\" style=\"stroke: #110409; stroke-width: 1.0;\" width=\"1\" x=\"0\" y=\"0\"/><rect fill=\"#33FF02\" height=\"21.2969\" style=\"stroke: #33FF02; stroke-width: 1.0;\" width=\"864\" x=\"5\" y=\"5\"/><text fill=\"#000000\" font-family=\"sans-serif\" font-size=\"14\" font-weight=\"bold\" lengthAdjust=\"spacingAndGlyphs\" textLength=\"178\" x=\"6\" y=\"20\">[From string (line 14) ]</text><text fill=\"#33FF02\" font-family=\"sans-serif\" font-size=\"14\" font-weight=\"bold\" lengthAdjust=\"spacingAndGlyphs\" textLength=\"0\" x=\"10\" y=\"40.2969\"/><text fill=\"#33FF02\" font-family=\"sans-serif\" font-size=\"14\" font-weight=\"bold\" lengthAdjust=\"spacingAndGlyphs\" textLength=\"79\" x=\"5\" y=\"56.5938\">@startuml</text><text fill=\"#33FF02\" font-family=\"sans-serif\" font-size=\"14\" font-weight=\"bold\" lengthAdjust=\"spacingAndGlyphs\" textLength=\"165\" x=\"5\" y=\"72.8906\">skinparam ranksep 8</text><text fill=\"#33FF02\" font-family=\"sans-serif\" font-size=\"14\" font-weight=\"bold\" lengthAdjust=\"spacingAndGlyphs\" textLength=\"228\" x=\"5\" y=\"89.1875\">skinparam monochrome true</text><text fill=\"#33FF02\" font-family=\"sans-serif\" font-size=\"14\" font-weight=\"bold\" lengthAdjust=\"spacingAndGlyphs\" textLength=\"309\" x=\"5\" y=\"105.4844\">skinparam classbackgroundcolor white</text><text fill=\"#33FF02\" font-family=\"sans-serif\" font-size=\"14\" font-weight=\"bold\" lengthAdjust=\"spacingAndGlyphs\" textLength=\"215\" x=\"5\" y=\"121.7813\">skinparam shadowing false</text><text fill=\"#33FF02\" font-family=\"sans-serif\" font-size=\"14\" font-weight=\"bold\" lengthAdjust=\"spacingAndGlyphs\" textLength=\"206\" x=\"5\" y=\"138.0781\">skinparam wrapWidth 300</text><text fill=\"#33FF02\" font-family=\"sans-serif\" font-size=\"14\" font-weight=\"bold\" lengthAdjust=\"spacingAndGlyphs\" textLength=\"82\" x=\"5\" y=\"154.375\">hide circle</text><text fill=\"#33FF02\" font-family=\"sans-serif\" font-size=\"14\" font-weight=\"bold\" lengthAdjust=\"spacingAndGlyphs\" textLength=\"0\" x=\"10\" y=\"170.6719\"/><text fill=\"#33FF02\" font-family=\"sans-serif\" font-size=\"14\" font-weight=\"bold\" lengthAdjust=\"spacingAndGlyphs\" textLength=\"864\" x=\"5\" y=\"186.9688\">rec def \"DecisionTest\" as E1  &lt;&lt;(T,blue)action def&gt;&gt; [[psysml:a1000395-17a0-47e2-a13d-a24f0cfe83d5 ]] {</text><text fill=\"#33FF02\" font-family=\"sans-serif\" font-size=\"14\" font-weight=\"bold\" lengthAdjust=\"spacingAndGlyphs\" textLength=\"616\" x=\"5\" y=\"203.2656\">portout \"$result\" as E2  [[psysml:7254dab9-2ab0-4b4a-abf0-a8118207784b ]]</text><text fill=\"#33FF02\" font-family=\"sans-serif\" font-size=\"14\" font-weight=\"bold\" lengthAdjust=\"spacingAndGlyphs\" textLength=\"862\" x=\"5\" y=\"219.5625\">rec usage \"test x\" as E3  &lt;&lt;(T,blue)decisionNode&gt;&gt; [[psysml:7423d99a-f58c-40be-9ad8-b7209845a744 ]] {</text><text fill=\"#33FF02\" font-family=\"sans-serif\" font-size=\"14\" font-weight=\"bold\" lengthAdjust=\"spacingAndGlyphs\" textLength=\"10\" x=\"5\" y=\"235.8594\">}</text><text fill=\"#33FF02\" font-family=\"sans-serif\" font-size=\"14\" font-weight=\"bold\" lengthAdjust=\"spacingAndGlyphs\" textLength=\"0\" x=\"10\" y=\"252.1563\"/><text fill=\"#33FF02\" font-family=\"sans-serif\" font-size=\"14\" font-weight=\"bold\" lengthAdjust=\"spacingAndGlyphs\" textLength=\"10\" x=\"5\" y=\"268.4531\">{</text><text fill=\"#FF0000\" font-family=\"sans-serif\" font-size=\"14\" font-weight=\"bold\" lengthAdjust=\"spacingAndGlyphs\" textLength=\"106\" x=\"10\" y=\"284.75\">Syntax Error?</text><!--MD5=[761c62755f90d5862f3306df71a79434]\n",
       "@startuml\r\n",
       "skinparam ranksep 8\r\n",
       "skinparam monochrome true\r\n",
       "skinparam classbackgroundcolor white\r\n",
       "skinparam shadowing false\r\n",
       "skinparam wrapWidth 300\r\n",
       "hide circle\r\n",
       "\r\n",
       "rec def \"DecisionTest\" as E1  <<(T,blue)action def>> [[psysml:a1000395-17a0-47e2-a13d-a24f0cfe83d5 ]] {\r\n",
       "portout \"$result\" as E2  [[psysml:7254dab9-2ab0-4b4a-abf0-a8118207784b ]] \r\n",
       "rec usage \"test x\" as E3  <<(T,blue)decisionNode>> [[psysml:7423d99a-f58c-40be-9ad8-b7209845a744 ]] {\r\n",
       "}\r\n",
       "\r\n",
       "{\r\n",
       "portout \"$result\" as E4  [[psysml:bceec577-4538-432a-b269-09d95bc9a7ff ]] \r\n",
       "portin \"$x\" as E5  [[psysml:8234b737-8b11-4286-80d5-041d60fcfb58 ]] \r\n",
       "portin \"$y\" as E6  [[psysml:7c1f2e2e-5ea9-440e-a0d7-bde68b741d93 ]] \r\n",
       "portout \"$result\" as E7  [[psysml:a1e656b7-cadc-4b3b-a176-c8c2724f8a9f ]] \r\n",
       "}\r\n",
       "\r\n",
       "{\r\n",
       "portout \"$result\" as E8  [[psysml:5e578666-287e-4471-a202-0fa6d9af79c3 ]] \r\n",
       "portin \"$x\" as E9  [[psysml:2e73bbcc-e1fb-462b-9f93-4a649e4b75e6 ]] \r\n",
       "portin \"$y\" as E10  [[psysml:167c4655-6099-4dd6-a555-0c294c9d5979 ]] \r\n",
       "portout \"$result\" as E11  [[psysml:c40f3f95-b4a1-4b20-9a7d-2c01b041f687 ]] \r\n",
       "}\r\n",
       "\r\n",
       "{\r\n",
       "}\r\n",
       "\r\n",
       "{\r\n",
       "}\r\n",
       "\r\n",
       "{\r\n",
       "portout \"$result\" as E12  [[psysml:9e913d35-b492-435f-9373-c501110f1eb9 ]] \r\n",
       "}\r\n",
       "\r\n",
       "{\r\n",
       "portout \"$result\" as E13  [[psysml:158e60b3-268a-4c98-b93c-7961067d80aa ]] \r\n",
       "}\r\n",
       "\r\n",
       "rec usage \"A1\" as E14  <<(T,blue)action>> [[psysml:eb7d07f9-3793-4a0f-a0fd-eb934e5bd3c4 ]] {\r\n",
       "}\r\n",
       "\r\n",
       "rec usage \"A2\" as E15  <<(T,blue)action>> [[psysml:dabafcbf-a70a-41b1-a12f-b84f33147f9e ]] {\r\n",
       "}\r\n",
       "\r\n",
       "rec usage \"A3\" as E16  <<(T,blue)action>> [[psysml:b33bccfd-da91-4304-87b6-52ca1fd70cda ]] {\r\n",
       "}\r\n",
       "\r\n",
       "rec usage \"S\" as E17  <<(T,blue)transition>> [[psysml:b992d367-0404-4f63-871a-2665bf27ec50 ]] {\r\n",
       "rec usage \"A1\" as E18  <<(T,blue)action>> [[psysml:eb7d07f9-3793-4a0f-a0fd-eb934e5bd3c4 ]] {\r\n",
       "}\r\n",
       "\r\n",
       "portout \"$result\" as E19  [[psysml:6c1c6685-5e76-423a-8864-05a29151138c ]] \r\n",
       "portin \"$x\" as E20  [[psysml:c04f5b6e-c0c0-4f8c-b615-27e7186d2d69 ]] \r\n",
       "portin \"$y\" as E21  [[psysml:9909dfe5-9552-4cba-a2bc-4098d95f63c2 ]] \r\n",
       "portout \"$result\" as E22  [[psysml:bcbff8ec-917c-48b5-9f11-9f30a636696f ]] \r\n",
       "}\r\n",
       "\r\n",
       "rec usage \"A3\" as E23  <<(T,blue)action>> [[psysml:b33bccfd-da91-4304-87b6-52ca1fd70cda ]] {\r\n",
       "}\r\n",
       "\r\n",
       "{\r\n",
       "portout \"$result\" as E24  [[psysml:361e6a6e-e017-4926-975f-092030fcbf35 ]] \r\n",
       "portin \"$x\" as E25  [[psysml:01ce4d67-3e05-4f8c-92a8-b88c5ffa81ca ]] \r\n",
       "portin \"$y\" as E26  [[psysml:9a2f800a-bedb-42f6-8036-b5924649c324 ]] \r\n",
       "portout \"$result\" as E27  [[psysml:320da7bf-4cff-49a0-90e2-2e9a2a898b7b ]] \r\n",
       "}\r\n",
       "\r\n",
       "}\r\n",
       "\r\n",
       "@enduml\r\n",
       "\n",
       "PlantUML version 1.2020.13(Sat Jun 13 12:26:38 UTC 2020)\n",
       "(EPL source distribution)\n",
       "Java Runtime: OpenJDK Runtime Environment\n",
       "JVM: OpenJDK 64-Bit Server VM\n",
       "Default Encoding: UTF-8\n",
       "Language: en\n",
       "Country: null\n",
       "--></g></svg>"
      ]
     },
     "execution_count": 41,
     "metadata": {},
     "output_type": "execute_result"
    }
   ],
   "source": [
    "%viz --style=\"DEFAULT\" --view=\"Action\" \"DecisionTest\""
   ]
  },
  {
   "cell_type": "code",
   "execution_count": 42,
   "id": "robust-diary",
   "metadata": {
    "execution": {
     "iopub.execute_input": "2021-03-26T13:02:59.569670Z",
     "iopub.status.busy": "2021-03-26T13:02:59.569031Z",
     "iopub.status.idle": "2021-03-26T13:02:59.638628Z",
     "shell.execute_reply": "2021-03-26T13:02:59.638294Z"
    }
   },
   "outputs": [
    {
     "data": {
      "image/svg+xml": [
       "<?xml version=\"1.0\" encoding=\"UTF-8\" standalone=\"no\"?><svg xmlns=\"http://www.w3.org/2000/svg\" xmlns:xlink=\"http://www.w3.org/1999/xlink\" contentScriptType=\"application/ecmascript\" contentStyleType=\"text/css\" height=\"207px\" preserveAspectRatio=\"none\" style=\"width:109px;height:207px;\" version=\"1.1\" viewBox=\"0 0 109 207\" width=\"109px\" zoomAndPan=\"magnify\"><defs/><g><!--MD5=[43c9051892ef23e1a46a86907403d788]\n",
       "class E1--><a href=\"psysml:a1000395-17a0-47e2-a13d-a24f0cfe83d5\" target=\"_top\" title=\"psysml:a1000395-17a0-47e2-a13d-a24f0cfe83d5\" xlink:actuate=\"onRequest\" xlink:href=\"psysml:a1000395-17a0-47e2-a13d-a24f0cfe83d5\" xlink:show=\"new\" xlink:title=\"psysml:a1000395-17a0-47e2-a13d-a24f0cfe83d5\" xlink:type=\"simple\"><rect fill=\"#FFFFFF\" height=\"189.9844\" id=\"E1\" style=\"stroke: #383838; stroke-width: 1.5;\" width=\"91\" x=\"7\" y=\"7\"/><text fill=\"#000000\" font-family=\"sans-serif\" font-size=\"12\" font-style=\"italic\" lengthAdjust=\"spacingAndGlyphs\" textLength=\"77\" x=\"14\" y=\"23.1387\">«action def»</text><text fill=\"#000000\" font-family=\"sans-serif\" font-size=\"12\" lengthAdjust=\"spacingAndGlyphs\" textLength=\"80\" x=\"12.5\" y=\"37.1074\">DecisionTest</text><line style=\"stroke: #383838; stroke-width: 1.5;\" x1=\"8\" x2=\"97\" y1=\"44.9375\" y2=\"44.9375\"/><text fill=\"#000000\" font-family=\"sans-serif\" font-size=\"11\" lengthAdjust=\"spacingAndGlyphs\" textLength=\"6\" x=\"13\" y=\"75.9526\">x</text><line style=\"stroke: #383838; stroke-width: 1.0;\" x1=\"8\" x2=\"25\" y1=\"59.3398\" y2=\"59.3398\"/><text fill=\"#000000\" font-family=\"sans-serif\" font-size=\"11\" lengthAdjust=\"spacingAndGlyphs\" textLength=\"55\" x=\"25\" y=\"62.6479\">attributes</text><line style=\"stroke: #383838; stroke-width: 1.0;\" x1=\"80\" x2=\"97\" y1=\"59.3398\" y2=\"59.3398\"/><text fill=\"#000000\" font-family=\"sans-serif\" font-size=\"11\" lengthAdjust=\"spacingAndGlyphs\" textLength=\"14\" x=\"13\" y=\"105.562\">A1</text><text fill=\"#000000\" font-family=\"sans-serif\" font-size=\"11\" lengthAdjust=\"spacingAndGlyphs\" textLength=\"14\" x=\"13\" y=\"118.3667\">A2</text><text fill=\"#000000\" font-family=\"sans-serif\" font-size=\"11\" lengthAdjust=\"spacingAndGlyphs\" textLength=\"14\" x=\"13\" y=\"131.1714\">A3</text><line style=\"stroke: #383838; stroke-width: 1.0;\" x1=\"8\" x2=\"32\" y1=\"88.9492\" y2=\"88.9492\"/><text fill=\"#000000\" font-family=\"sans-serif\" font-size=\"11\" lengthAdjust=\"spacingAndGlyphs\" textLength=\"41\" x=\"32\" y=\"92.2573\">actions</text><line style=\"stroke: #383838; stroke-width: 1.0;\" x1=\"73\" x2=\"97\" y1=\"88.9492\" y2=\"88.9492\"/><text fill=\"#000000\" font-family=\"sans-serif\" font-size=\"11\" lengthAdjust=\"spacingAndGlyphs\" textLength=\"32\" x=\"13\" y=\"160.7808\">test x</text><line style=\"stroke: #383838; stroke-width: 1.0;\" x1=\"8\" x2=\"11\" y1=\"144.168\" y2=\"144.168\"/><text fill=\"#000000\" font-family=\"sans-serif\" font-size=\"11\" lengthAdjust=\"spacingAndGlyphs\" textLength=\"83\" x=\"11\" y=\"147.4761\">decisionNodes</text><line style=\"stroke: #383838; stroke-width: 1.0;\" x1=\"94\" x2=\"97\" y1=\"144.168\" y2=\"144.168\"/><text fill=\"#000000\" font-family=\"sans-serif\" font-size=\"11\" lengthAdjust=\"spacingAndGlyphs\" textLength=\"8\" x=\"13\" y=\"190.3901\">S</text><line style=\"stroke: #383838; stroke-width: 1.0;\" x1=\"8\" x2=\"22\" y1=\"173.7773\" y2=\"173.7773\"/><text fill=\"#000000\" font-family=\"sans-serif\" font-size=\"11\" lengthAdjust=\"spacingAndGlyphs\" textLength=\"61\" x=\"22\" y=\"177.0854\">transitions</text><line style=\"stroke: #383838; stroke-width: 1.0;\" x1=\"83\" x2=\"97\" y1=\"173.7773\" y2=\"173.7773\"/></a><!--MD5=[f5e9af992acc6cf93628a46b7d2971b7]\n",
       "@startuml\r\n",
       "skinparam monochrome true\r\n",
       "skinparam classbackgroundcolor white\r\n",
       "skinparam shadowing false\r\n",
       "skinparam wrapWidth 300\r\n",
       "hide circle\r\n",
       "\r\n",
       "comp def \"DecisionTest\" as E1  <<(T,blue)action def>> [[psysml:a1000395-17a0-47e2-a13d-a24f0cfe83d5 ]] {\r\n",
       "- - attributes - -\r\n",
       "x\r\n",
       "- - actions - -\r\n",
       "A1\r\n",
       "A2\r\n",
       "A3\r\n",
       "- - decisionNodes - -\r\n",
       "test x\r\n",
       "- - transitions - -\r\n",
       "S\r\n",
       "}\r\n",
       "@enduml\r\n",
       "\n",
       "PlantUML version 1.2020.13(Sat Jun 13 12:26:38 UTC 2020)\n",
       "(EPL source distribution)\n",
       "Java Runtime: OpenJDK Runtime Environment\n",
       "JVM: OpenJDK 64-Bit Server VM\n",
       "Default Encoding: UTF-8\n",
       "Language: en\n",
       "Country: null\n",
       "--></g></svg>"
      ]
     },
     "execution_count": 42,
     "metadata": {},
     "output_type": "execute_result"
    }
   ],
   "source": [
    "%viz --style=\"DEFAULT\" --view=\"Sequence\" \"DecisionTest\""
   ]
  },
  {
   "cell_type": "code",
   "execution_count": 43,
   "id": "minute-medication",
   "metadata": {
    "execution": {
     "iopub.execute_input": "2021-03-26T13:02:59.690078Z",
     "iopub.status.busy": "2021-03-26T13:02:59.689074Z",
     "iopub.status.idle": "2021-03-26T13:02:59.702633Z",
     "shell.execute_reply": "2021-03-26T13:02:59.701551Z"
    }
   },
   "outputs": [
    {
     "data": {
      "image/svg+xml": [
       "<?xml version=\"1.0\" encoding=\"UTF-8\" standalone=\"no\"?><svg xmlns=\"http://www.w3.org/2000/svg\" xmlns:xlink=\"http://www.w3.org/1999/xlink\" contentScriptType=\"application/ecmascript\" contentStyleType=\"text/css\" height=\"271px\" preserveAspectRatio=\"none\" style=\"width:871px;height:271px;background:#000000;\" version=\"1.1\" viewBox=\"0 0 871 271\" width=\"871px\" zoomAndPan=\"magnify\"><defs/><g><rect fill=\"#160519\" height=\"1\" style=\"stroke: #160519; stroke-width: 1.0;\" width=\"1\" x=\"0\" y=\"0\"/><rect fill=\"#33FF02\" height=\"21.2969\" style=\"stroke: #33FF02; stroke-width: 1.0;\" width=\"864\" x=\"5\" y=\"5\"/><text fill=\"#000000\" font-family=\"sans-serif\" font-size=\"14\" font-weight=\"bold\" lengthAdjust=\"spacingAndGlyphs\" textLength=\"178\" x=\"6\" y=\"20\">[From string (line 13) ]</text><text fill=\"#33FF02\" font-family=\"sans-serif\" font-size=\"14\" font-weight=\"bold\" lengthAdjust=\"spacingAndGlyphs\" textLength=\"0\" x=\"10\" y=\"40.2969\"/><text fill=\"#33FF02\" font-family=\"sans-serif\" font-size=\"14\" font-weight=\"bold\" lengthAdjust=\"spacingAndGlyphs\" textLength=\"79\" x=\"5\" y=\"56.5938\">@startuml</text><text fill=\"#33FF02\" font-family=\"sans-serif\" font-size=\"14\" font-weight=\"bold\" lengthAdjust=\"spacingAndGlyphs\" textLength=\"228\" x=\"5\" y=\"72.8906\">skinparam monochrome true</text><text fill=\"#33FF02\" font-family=\"sans-serif\" font-size=\"14\" font-weight=\"bold\" lengthAdjust=\"spacingAndGlyphs\" textLength=\"309\" x=\"5\" y=\"89.1875\">skinparam classbackgroundcolor white</text><text fill=\"#33FF02\" font-family=\"sans-serif\" font-size=\"14\" font-weight=\"bold\" lengthAdjust=\"spacingAndGlyphs\" textLength=\"215\" x=\"5\" y=\"105.4844\">skinparam shadowing false</text><text fill=\"#33FF02\" font-family=\"sans-serif\" font-size=\"14\" font-weight=\"bold\" lengthAdjust=\"spacingAndGlyphs\" textLength=\"206\" x=\"5\" y=\"121.7813\">skinparam wrapWidth 300</text><text fill=\"#33FF02\" font-family=\"sans-serif\" font-size=\"14\" font-weight=\"bold\" lengthAdjust=\"spacingAndGlyphs\" textLength=\"82\" x=\"5\" y=\"138.0781\">hide circle</text><text fill=\"#33FF02\" font-family=\"sans-serif\" font-size=\"14\" font-weight=\"bold\" lengthAdjust=\"spacingAndGlyphs\" textLength=\"0\" x=\"10\" y=\"154.375\"/><text fill=\"#33FF02\" font-family=\"sans-serif\" font-size=\"14\" font-weight=\"bold\" lengthAdjust=\"spacingAndGlyphs\" textLength=\"864\" x=\"5\" y=\"170.6719\">rec def \"DecisionTest\" as E1  &lt;&lt;(T,blue)action def&gt;&gt; [[psysml:a1000395-17a0-47e2-a13d-a24f0cfe83d5 ]] {</text><text fill=\"#33FF02\" font-family=\"sans-serif\" font-size=\"14\" font-weight=\"bold\" lengthAdjust=\"spacingAndGlyphs\" textLength=\"616\" x=\"5\" y=\"186.9688\">portout \"$result\" as E2  [[psysml:7254dab9-2ab0-4b4a-abf0-a8118207784b ]]</text><text fill=\"#33FF02\" font-family=\"sans-serif\" font-size=\"14\" font-weight=\"bold\" lengthAdjust=\"spacingAndGlyphs\" textLength=\"862\" x=\"5\" y=\"203.2656\">rec usage \"test x\" as E3  &lt;&lt;(T,blue)decisionNode&gt;&gt; [[psysml:7423d99a-f58c-40be-9ad8-b7209845a744 ]] {</text><text fill=\"#33FF02\" font-family=\"sans-serif\" font-size=\"14\" font-weight=\"bold\" lengthAdjust=\"spacingAndGlyphs\" textLength=\"10\" x=\"5\" y=\"219.5625\">}</text><text fill=\"#33FF02\" font-family=\"sans-serif\" font-size=\"14\" font-weight=\"bold\" lengthAdjust=\"spacingAndGlyphs\" textLength=\"0\" x=\"10\" y=\"235.8594\"/><text fill=\"#33FF02\" font-family=\"sans-serif\" font-size=\"14\" font-weight=\"bold\" lengthAdjust=\"spacingAndGlyphs\" textLength=\"10\" x=\"5\" y=\"252.1563\">{</text><text fill=\"#FF0000\" font-family=\"sans-serif\" font-size=\"14\" font-weight=\"bold\" lengthAdjust=\"spacingAndGlyphs\" textLength=\"106\" x=\"10\" y=\"268.4531\">Syntax Error?</text><!--MD5=[745d91d4434b90b6b5ea9d63291d1fa1]\n",
       "@startuml\r\n",
       "skinparam monochrome true\r\n",
       "skinparam classbackgroundcolor white\r\n",
       "skinparam shadowing false\r\n",
       "skinparam wrapWidth 300\r\n",
       "hide circle\r\n",
       "\r\n",
       "rec def \"DecisionTest\" as E1  <<(T,blue)action def>> [[psysml:a1000395-17a0-47e2-a13d-a24f0cfe83d5 ]] {\r\n",
       "portout \"$result\" as E2  [[psysml:7254dab9-2ab0-4b4a-abf0-a8118207784b ]] \r\n",
       "rec usage \"test x\" as E3  <<(T,blue)decisionNode>> [[psysml:7423d99a-f58c-40be-9ad8-b7209845a744 ]] {\r\n",
       "}\r\n",
       "\r\n",
       "{\r\n",
       "portout \"$result\" as E4  [[psysml:bceec577-4538-432a-b269-09d95bc9a7ff ]] \r\n",
       "portin \"$x\" as E5  [[psysml:8234b737-8b11-4286-80d5-041d60fcfb58 ]] \r\n",
       "portin \"$y\" as E6  [[psysml:7c1f2e2e-5ea9-440e-a0d7-bde68b741d93 ]] \r\n",
       "portout \"$result\" as E7  [[psysml:a1e656b7-cadc-4b3b-a176-c8c2724f8a9f ]] \r\n",
       "}\r\n",
       "\r\n",
       "{\r\n",
       "portout \"$result\" as E8  [[psysml:5e578666-287e-4471-a202-0fa6d9af79c3 ]] \r\n",
       "portin \"$x\" as E9  [[psysml:2e73bbcc-e1fb-462b-9f93-4a649e4b75e6 ]] \r\n",
       "portin \"$y\" as E10  [[psysml:167c4655-6099-4dd6-a555-0c294c9d5979 ]] \r\n",
       "portout \"$result\" as E11  [[psysml:c40f3f95-b4a1-4b20-9a7d-2c01b041f687 ]] \r\n",
       "}\r\n",
       "\r\n",
       "{\r\n",
       "}\r\n",
       "\r\n",
       "{\r\n",
       "}\r\n",
       "\r\n",
       "{\r\n",
       "portout \"$result\" as E12  [[psysml:9e913d35-b492-435f-9373-c501110f1eb9 ]] \r\n",
       "}\r\n",
       "\r\n",
       "{\r\n",
       "portout \"$result\" as E13  [[psysml:158e60b3-268a-4c98-b93c-7961067d80aa ]] \r\n",
       "}\r\n",
       "\r\n",
       "rec usage \"A1\" as E14  <<(T,blue)action>> [[psysml:eb7d07f9-3793-4a0f-a0fd-eb934e5bd3c4 ]] {\r\n",
       "}\r\n",
       "\r\n",
       "rec usage \"A2\" as E15  <<(T,blue)action>> [[psysml:dabafcbf-a70a-41b1-a12f-b84f33147f9e ]] {\r\n",
       "}\r\n",
       "\r\n",
       "rec usage \"A3\" as E16  <<(T,blue)action>> [[psysml:b33bccfd-da91-4304-87b6-52ca1fd70cda ]] {\r\n",
       "}\r\n",
       "\r\n",
       "rec usage \"S\" as E17  <<(T,blue)transition>> [[psysml:b992d367-0404-4f63-871a-2665bf27ec50 ]] {\r\n",
       "rec usage \"A1\" as E18  <<(T,blue)action>> [[psysml:eb7d07f9-3793-4a0f-a0fd-eb934e5bd3c4 ]] {\r\n",
       "}\r\n",
       "\r\n",
       "portout \"$result\" as E19  [[psysml:6c1c6685-5e76-423a-8864-05a29151138c ]] \r\n",
       "portin \"$x\" as E20  [[psysml:c04f5b6e-c0c0-4f8c-b615-27e7186d2d69 ]] \r\n",
       "portin \"$y\" as E21  [[psysml:9909dfe5-9552-4cba-a2bc-4098d95f63c2 ]] \r\n",
       "portout \"$result\" as E22  [[psysml:bcbff8ec-917c-48b5-9f11-9f30a636696f ]] \r\n",
       "}\r\n",
       "\r\n",
       "rec usage \"A3\" as E23  <<(T,blue)action>> [[psysml:b33bccfd-da91-4304-87b6-52ca1fd70cda ]] {\r\n",
       "}\r\n",
       "\r\n",
       "{\r\n",
       "portout \"$result\" as E24  [[psysml:361e6a6e-e017-4926-975f-092030fcbf35 ]] \r\n",
       "portin \"$x\" as E25  [[psysml:01ce4d67-3e05-4f8c-92a8-b88c5ffa81ca ]] \r\n",
       "portin \"$y\" as E26  [[psysml:9a2f800a-bedb-42f6-8036-b5924649c324 ]] \r\n",
       "portout \"$result\" as E27  [[psysml:320da7bf-4cff-49a0-90e2-2e9a2a898b7b ]] \r\n",
       "}\r\n",
       "\r\n",
       "}\r\n",
       "\r\n",
       "@enduml\r\n",
       "\n",
       "PlantUML version 1.2020.13(Sat Jun 13 12:26:38 UTC 2020)\n",
       "(EPL source distribution)\n",
       "Java Runtime: OpenJDK Runtime Environment\n",
       "JVM: OpenJDK 64-Bit Server VM\n",
       "Default Encoding: UTF-8\n",
       "Language: en\n",
       "Country: null\n",
       "--></g></svg>"
      ]
     },
     "execution_count": 43,
     "metadata": {},
     "output_type": "execute_result"
    }
   ],
   "source": [
    "%viz --style=\"DEFAULT\" --view=\"MIXED\" \"DecisionTest\""
   ]
  },
  {
   "cell_type": "code",
   "execution_count": 44,
   "id": "abroad-finding",
   "metadata": {
    "execution": {
     "iopub.execute_input": "2021-03-26T13:02:59.754985Z",
     "iopub.status.busy": "2021-03-26T13:02:59.754150Z",
     "iopub.status.idle": "2021-03-26T13:02:59.767790Z",
     "shell.execute_reply": "2021-03-26T13:02:59.766514Z"
    }
   },
   "outputs": [
    {
     "data": {
      "image/svg+xml": [
       "<?xml version=\"1.0\" encoding=\"UTF-8\" standalone=\"no\"?><svg xmlns=\"http://www.w3.org/2000/svg\" xmlns:xlink=\"http://www.w3.org/1999/xlink\" contentScriptType=\"application/ecmascript\" contentStyleType=\"text/css\" height=\"288px\" preserveAspectRatio=\"none\" style=\"width:871px;height:288px;background:#000000;\" version=\"1.1\" viewBox=\"0 0 871 288\" width=\"871px\" zoomAndPan=\"magnify\"><defs/><g><rect fill=\"#221F05\" height=\"1\" style=\"stroke: #221F05; stroke-width: 1.0;\" width=\"1\" x=\"0\" y=\"0\"/><rect fill=\"#33FF02\" height=\"21.2969\" style=\"stroke: #33FF02; stroke-width: 1.0;\" width=\"864\" x=\"5\" y=\"5\"/><text fill=\"#000000\" font-family=\"sans-serif\" font-size=\"14\" font-weight=\"bold\" lengthAdjust=\"spacingAndGlyphs\" textLength=\"178\" x=\"6\" y=\"20\">[From string (line 14) ]</text><text fill=\"#33FF02\" font-family=\"sans-serif\" font-size=\"14\" font-weight=\"bold\" lengthAdjust=\"spacingAndGlyphs\" textLength=\"0\" x=\"10\" y=\"40.2969\"/><text fill=\"#33FF02\" font-family=\"sans-serif\" font-size=\"14\" font-weight=\"bold\" lengthAdjust=\"spacingAndGlyphs\" textLength=\"79\" x=\"5\" y=\"56.5938\">@startuml</text><text fill=\"#33FF02\" font-family=\"sans-serif\" font-size=\"14\" font-weight=\"bold\" lengthAdjust=\"spacingAndGlyphs\" textLength=\"183\" x=\"5\" y=\"72.8906\">top to bottom direction</text><text fill=\"#33FF02\" font-family=\"sans-serif\" font-size=\"14\" font-weight=\"bold\" lengthAdjust=\"spacingAndGlyphs\" textLength=\"228\" x=\"5\" y=\"89.1875\">skinparam monochrome true</text><text fill=\"#33FF02\" font-family=\"sans-serif\" font-size=\"14\" font-weight=\"bold\" lengthAdjust=\"spacingAndGlyphs\" textLength=\"309\" x=\"5\" y=\"105.4844\">skinparam classbackgroundcolor white</text><text fill=\"#33FF02\" font-family=\"sans-serif\" font-size=\"14\" font-weight=\"bold\" lengthAdjust=\"spacingAndGlyphs\" textLength=\"215\" x=\"5\" y=\"121.7813\">skinparam shadowing false</text><text fill=\"#33FF02\" font-family=\"sans-serif\" font-size=\"14\" font-weight=\"bold\" lengthAdjust=\"spacingAndGlyphs\" textLength=\"206\" x=\"5\" y=\"138.0781\">skinparam wrapWidth 300</text><text fill=\"#33FF02\" font-family=\"sans-serif\" font-size=\"14\" font-weight=\"bold\" lengthAdjust=\"spacingAndGlyphs\" textLength=\"82\" x=\"5\" y=\"154.375\">hide circle</text><text fill=\"#33FF02\" font-family=\"sans-serif\" font-size=\"14\" font-weight=\"bold\" lengthAdjust=\"spacingAndGlyphs\" textLength=\"0\" x=\"10\" y=\"170.6719\"/><text fill=\"#33FF02\" font-family=\"sans-serif\" font-size=\"14\" font-weight=\"bold\" lengthAdjust=\"spacingAndGlyphs\" textLength=\"864\" x=\"5\" y=\"186.9688\">rec def \"DecisionTest\" as E1  &lt;&lt;(T,blue)action def&gt;&gt; [[psysml:a1000395-17a0-47e2-a13d-a24f0cfe83d5 ]] {</text><text fill=\"#33FF02\" font-family=\"sans-serif\" font-size=\"14\" font-weight=\"bold\" lengthAdjust=\"spacingAndGlyphs\" textLength=\"616\" x=\"5\" y=\"203.2656\">portout \"$result\" as E2  [[psysml:7254dab9-2ab0-4b4a-abf0-a8118207784b ]]</text><text fill=\"#33FF02\" font-family=\"sans-serif\" font-size=\"14\" font-weight=\"bold\" lengthAdjust=\"spacingAndGlyphs\" textLength=\"862\" x=\"5\" y=\"219.5625\">rec usage \"test x\" as E3  &lt;&lt;(T,blue)decisionNode&gt;&gt; [[psysml:7423d99a-f58c-40be-9ad8-b7209845a744 ]] {</text><text fill=\"#33FF02\" font-family=\"sans-serif\" font-size=\"14\" font-weight=\"bold\" lengthAdjust=\"spacingAndGlyphs\" textLength=\"10\" x=\"5\" y=\"235.8594\">}</text><text fill=\"#33FF02\" font-family=\"sans-serif\" font-size=\"14\" font-weight=\"bold\" lengthAdjust=\"spacingAndGlyphs\" textLength=\"0\" x=\"10\" y=\"252.1563\"/><text fill=\"#33FF02\" font-family=\"sans-serif\" font-size=\"14\" font-weight=\"bold\" lengthAdjust=\"spacingAndGlyphs\" textLength=\"10\" x=\"5\" y=\"268.4531\">{</text><text fill=\"#FF0000\" font-family=\"sans-serif\" font-size=\"14\" font-weight=\"bold\" lengthAdjust=\"spacingAndGlyphs\" textLength=\"106\" x=\"10\" y=\"284.75\">Syntax Error?</text><!--MD5=[056dd53cbee6a3a921d80ef1b4441ddb]\n",
       "@startuml\r\n",
       "top to bottom direction\r\n",
       "skinparam monochrome true\r\n",
       "skinparam classbackgroundcolor white\r\n",
       "skinparam shadowing false\r\n",
       "skinparam wrapWidth 300\r\n",
       "hide circle\r\n",
       "\r\n",
       "rec def \"DecisionTest\" as E1  <<(T,blue)action def>> [[psysml:a1000395-17a0-47e2-a13d-a24f0cfe83d5 ]] {\r\n",
       "portout \"$result\" as E2  [[psysml:7254dab9-2ab0-4b4a-abf0-a8118207784b ]] \r\n",
       "rec usage \"test x\" as E3  <<(T,blue)decisionNode>> [[psysml:7423d99a-f58c-40be-9ad8-b7209845a744 ]] {\r\n",
       "}\r\n",
       "\r\n",
       "{\r\n",
       "portout \"$result\" as E4  [[psysml:bceec577-4538-432a-b269-09d95bc9a7ff ]] \r\n",
       "portin \"$x\" as E5  [[psysml:8234b737-8b11-4286-80d5-041d60fcfb58 ]] \r\n",
       "portin \"$y\" as E6  [[psysml:7c1f2e2e-5ea9-440e-a0d7-bde68b741d93 ]] \r\n",
       "portout \"$result\" as E7  [[psysml:a1e656b7-cadc-4b3b-a176-c8c2724f8a9f ]] \r\n",
       "}\r\n",
       "\r\n",
       "{\r\n",
       "portout \"$result\" as E8  [[psysml:5e578666-287e-4471-a202-0fa6d9af79c3 ]] \r\n",
       "portin \"$x\" as E9  [[psysml:2e73bbcc-e1fb-462b-9f93-4a649e4b75e6 ]] \r\n",
       "portin \"$y\" as E10  [[psysml:167c4655-6099-4dd6-a555-0c294c9d5979 ]] \r\n",
       "portout \"$result\" as E11  [[psysml:c40f3f95-b4a1-4b20-9a7d-2c01b041f687 ]] \r\n",
       "}\r\n",
       "\r\n",
       "{\r\n",
       "}\r\n",
       "\r\n",
       "{\r\n",
       "}\r\n",
       "\r\n",
       "{\r\n",
       "portout \"$result\" as E12  [[psysml:9e913d35-b492-435f-9373-c501110f1eb9 ]] \r\n",
       "}\r\n",
       "\r\n",
       "{\r\n",
       "portout \"$result\" as E13  [[psysml:158e60b3-268a-4c98-b93c-7961067d80aa ]] \r\n",
       "}\r\n",
       "\r\n",
       "rec usage \"A1\" as E14  <<(T,blue)action>> [[psysml:eb7d07f9-3793-4a0f-a0fd-eb934e5bd3c4 ]] {\r\n",
       "}\r\n",
       "\r\n",
       "rec usage \"A2\" as E15  <<(T,blue)action>> [[psysml:dabafcbf-a70a-41b1-a12f-b84f33147f9e ]] {\r\n",
       "}\r\n",
       "\r\n",
       "rec usage \"A3\" as E16  <<(T,blue)action>> [[psysml:b33bccfd-da91-4304-87b6-52ca1fd70cda ]] {\r\n",
       "}\r\n",
       "\r\n",
       "rec usage \"S\" as E17  <<(T,blue)transition>> [[psysml:b992d367-0404-4f63-871a-2665bf27ec50 ]] {\r\n",
       "rec usage \"A1\" as E18  <<(T,blue)action>> [[psysml:eb7d07f9-3793-4a0f-a0fd-eb934e5bd3c4 ]] {\r\n",
       "}\r\n",
       "\r\n",
       "portout \"$result\" as E19  [[psysml:6c1c6685-5e76-423a-8864-05a29151138c ]] \r\n",
       "portin \"$x\" as E20  [[psysml:c04f5b6e-c0c0-4f8c-b615-27e7186d2d69 ]] \r\n",
       "portin \"$y\" as E21  [[psysml:9909dfe5-9552-4cba-a2bc-4098d95f63c2 ]] \r\n",
       "portout \"$result\" as E22  [[psysml:bcbff8ec-917c-48b5-9f11-9f30a636696f ]] \r\n",
       "}\r\n",
       "\r\n",
       "rec usage \"A3\" as E23  <<(T,blue)action>> [[psysml:b33bccfd-da91-4304-87b6-52ca1fd70cda ]] {\r\n",
       "}\r\n",
       "\r\n",
       "{\r\n",
       "portout \"$result\" as E24  [[psysml:361e6a6e-e017-4926-975f-092030fcbf35 ]] \r\n",
       "portin \"$x\" as E25  [[psysml:01ce4d67-3e05-4f8c-92a8-b88c5ffa81ca ]] \r\n",
       "portin \"$y\" as E26  [[psysml:9a2f800a-bedb-42f6-8036-b5924649c324 ]] \r\n",
       "portout \"$result\" as E27  [[psysml:320da7bf-4cff-49a0-90e2-2e9a2a898b7b ]] \r\n",
       "}\r\n",
       "\r\n",
       "}\r\n",
       "\r\n",
       "@enduml\r\n",
       "\n",
       "PlantUML version 1.2020.13(Sat Jun 13 12:26:38 UTC 2020)\n",
       "(EPL source distribution)\n",
       "Java Runtime: OpenJDK Runtime Environment\n",
       "JVM: OpenJDK 64-Bit Server VM\n",
       "Default Encoding: UTF-8\n",
       "Language: en\n",
       "Country: null\n",
       "--></g></svg>"
      ]
     },
     "execution_count": 44,
     "metadata": {},
     "output_type": "execute_result"
    }
   ],
   "source": [
    "%viz --style=\"TB\" --view=\"Default\" \"DecisionTest\""
   ]
  },
  {
   "cell_type": "code",
   "execution_count": 45,
   "id": "sharing-exhibit",
   "metadata": {
    "execution": {
     "iopub.execute_input": "2021-03-26T13:02:59.820203Z",
     "iopub.status.busy": "2021-03-26T13:02:59.819474Z",
     "iopub.status.idle": "2021-03-26T13:02:59.886371Z",
     "shell.execute_reply": "2021-03-26T13:02:59.885996Z"
    }
   },
   "outputs": [
    {
     "data": {
      "image/svg+xml": [
       "<?xml version=\"1.0\" encoding=\"UTF-8\" standalone=\"no\"?><svg xmlns=\"http://www.w3.org/2000/svg\" xmlns:xlink=\"http://www.w3.org/1999/xlink\" contentScriptType=\"application/ecmascript\" contentStyleType=\"text/css\" height=\"207px\" preserveAspectRatio=\"none\" style=\"width:109px;height:207px;\" version=\"1.1\" viewBox=\"0 0 109 207\" width=\"109px\" zoomAndPan=\"magnify\"><defs/><g><!--MD5=[43c9051892ef23e1a46a86907403d788]\n",
       "class E1--><a href=\"psysml:a1000395-17a0-47e2-a13d-a24f0cfe83d5\" target=\"_top\" title=\"psysml:a1000395-17a0-47e2-a13d-a24f0cfe83d5\" xlink:actuate=\"onRequest\" xlink:href=\"psysml:a1000395-17a0-47e2-a13d-a24f0cfe83d5\" xlink:show=\"new\" xlink:title=\"psysml:a1000395-17a0-47e2-a13d-a24f0cfe83d5\" xlink:type=\"simple\"><rect fill=\"#FFFFFF\" height=\"189.9844\" id=\"E1\" style=\"stroke: #383838; stroke-width: 1.5;\" width=\"91\" x=\"7\" y=\"7\"/><text fill=\"#000000\" font-family=\"sans-serif\" font-size=\"12\" font-style=\"italic\" lengthAdjust=\"spacingAndGlyphs\" textLength=\"77\" x=\"14\" y=\"23.1387\">«action def»</text><text fill=\"#000000\" font-family=\"sans-serif\" font-size=\"12\" lengthAdjust=\"spacingAndGlyphs\" textLength=\"80\" x=\"12.5\" y=\"37.1074\">DecisionTest</text><line style=\"stroke: #383838; stroke-width: 1.5;\" x1=\"8\" x2=\"97\" y1=\"44.9375\" y2=\"44.9375\"/><text fill=\"#000000\" font-family=\"sans-serif\" font-size=\"11\" lengthAdjust=\"spacingAndGlyphs\" textLength=\"6\" x=\"13\" y=\"75.9526\">x</text><line style=\"stroke: #383838; stroke-width: 1.0;\" x1=\"8\" x2=\"25\" y1=\"59.3398\" y2=\"59.3398\"/><text fill=\"#000000\" font-family=\"sans-serif\" font-size=\"11\" lengthAdjust=\"spacingAndGlyphs\" textLength=\"55\" x=\"25\" y=\"62.6479\">attributes</text><line style=\"stroke: #383838; stroke-width: 1.0;\" x1=\"80\" x2=\"97\" y1=\"59.3398\" y2=\"59.3398\"/><text fill=\"#000000\" font-family=\"sans-serif\" font-size=\"11\" lengthAdjust=\"spacingAndGlyphs\" textLength=\"14\" x=\"13\" y=\"105.562\">A1</text><text fill=\"#000000\" font-family=\"sans-serif\" font-size=\"11\" lengthAdjust=\"spacingAndGlyphs\" textLength=\"14\" x=\"13\" y=\"118.3667\">A2</text><text fill=\"#000000\" font-family=\"sans-serif\" font-size=\"11\" lengthAdjust=\"spacingAndGlyphs\" textLength=\"14\" x=\"13\" y=\"131.1714\">A3</text><line style=\"stroke: #383838; stroke-width: 1.0;\" x1=\"8\" x2=\"32\" y1=\"88.9492\" y2=\"88.9492\"/><text fill=\"#000000\" font-family=\"sans-serif\" font-size=\"11\" lengthAdjust=\"spacingAndGlyphs\" textLength=\"41\" x=\"32\" y=\"92.2573\">actions</text><line style=\"stroke: #383838; stroke-width: 1.0;\" x1=\"73\" x2=\"97\" y1=\"88.9492\" y2=\"88.9492\"/><text fill=\"#000000\" font-family=\"sans-serif\" font-size=\"11\" lengthAdjust=\"spacingAndGlyphs\" textLength=\"32\" x=\"13\" y=\"160.7808\">test x</text><line style=\"stroke: #383838; stroke-width: 1.0;\" x1=\"8\" x2=\"11\" y1=\"144.168\" y2=\"144.168\"/><text fill=\"#000000\" font-family=\"sans-serif\" font-size=\"11\" lengthAdjust=\"spacingAndGlyphs\" textLength=\"83\" x=\"11\" y=\"147.4761\">decisionNodes</text><line style=\"stroke: #383838; stroke-width: 1.0;\" x1=\"94\" x2=\"97\" y1=\"144.168\" y2=\"144.168\"/><text fill=\"#000000\" font-family=\"sans-serif\" font-size=\"11\" lengthAdjust=\"spacingAndGlyphs\" textLength=\"8\" x=\"13\" y=\"190.3901\">S</text><line style=\"stroke: #383838; stroke-width: 1.0;\" x1=\"8\" x2=\"22\" y1=\"173.7773\" y2=\"173.7773\"/><text fill=\"#000000\" font-family=\"sans-serif\" font-size=\"11\" lengthAdjust=\"spacingAndGlyphs\" textLength=\"61\" x=\"22\" y=\"177.0854\">transitions</text><line style=\"stroke: #383838; stroke-width: 1.0;\" x1=\"83\" x2=\"97\" y1=\"173.7773\" y2=\"173.7773\"/></a><!--MD5=[50f705f979d1d1ea7528a50e03ef9870]\n",
       "@startuml\r\n",
       "top to bottom direction\r\n",
       "skinparam monochrome true\r\n",
       "skinparam classbackgroundcolor white\r\n",
       "skinparam shadowing false\r\n",
       "skinparam wrapWidth 300\r\n",
       "hide circle\r\n",
       "\r\n",
       "comp def \"DecisionTest\" as E1  <<(T,blue)action def>> [[psysml:a1000395-17a0-47e2-a13d-a24f0cfe83d5 ]] {\r\n",
       "- - attributes - -\r\n",
       "x\r\n",
       "- - actions - -\r\n",
       "A1\r\n",
       "A2\r\n",
       "A3\r\n",
       "- - decisionNodes - -\r\n",
       "test x\r\n",
       "- - transitions - -\r\n",
       "S\r\n",
       "}\r\n",
       "@enduml\r\n",
       "\n",
       "PlantUML version 1.2020.13(Sat Jun 13 12:26:38 UTC 2020)\n",
       "(EPL source distribution)\n",
       "Java Runtime: OpenJDK Runtime Environment\n",
       "JVM: OpenJDK 64-Bit Server VM\n",
       "Default Encoding: UTF-8\n",
       "Language: en\n",
       "Country: null\n",
       "--></g></svg>"
      ]
     },
     "execution_count": 45,
     "metadata": {},
     "output_type": "execute_result"
    }
   ],
   "source": [
    "%viz --style=\"TB\" --view=\"Tree\" \"DecisionTest\""
   ]
  },
  {
   "cell_type": "code",
   "execution_count": 46,
   "id": "mineral-child",
   "metadata": {
    "execution": {
     "iopub.execute_input": "2021-03-26T13:02:59.941839Z",
     "iopub.status.busy": "2021-03-26T13:02:59.941321Z",
     "iopub.status.idle": "2021-03-26T13:02:59.948229Z",
     "shell.execute_reply": "2021-03-26T13:02:59.947901Z"
    }
   },
   "outputs": [
    {
     "data": {
      "image/svg+xml": [
       "<?xml version=\"1.0\" encoding=\"UTF-8\" standalone=\"no\"?><svg xmlns=\"http://www.w3.org/2000/svg\" xmlns:xlink=\"http://www.w3.org/1999/xlink\" contentScriptType=\"application/ecmascript\" contentStyleType=\"text/css\" height=\"12px\" preserveAspectRatio=\"none\" style=\"width:12px;height:12px;\" version=\"1.1\" viewBox=\"0 0 12 12\" width=\"12px\" zoomAndPan=\"magnify\"><defs/><g><!--MD5=[f4ee21bc66e489b5061b7c3e9601fdef]\n",
       "@startuml\r\n",
       "top to bottom direction\r\n",
       "skinparam monochrome true\r\n",
       "skinparam classbackgroundcolor white\r\n",
       "skinparam shadowing false\r\n",
       "skinparam wrapWidth 300\r\n",
       "hide circle\r\n",
       "\r\n",
       "@enduml\r\n",
       "\n",
       "PlantUML version 1.2020.13(Sat Jun 13 12:26:38 UTC 2020)\n",
       "(EPL source distribution)\n",
       "Java Runtime: OpenJDK Runtime Environment\n",
       "JVM: OpenJDK 64-Bit Server VM\n",
       "Default Encoding: UTF-8\n",
       "Language: en\n",
       "Country: null\n",
       "--></g></svg>"
      ]
     },
     "execution_count": 46,
     "metadata": {},
     "output_type": "execute_result"
    }
   ],
   "source": [
    "%viz --style=\"TB\" --view=\"State\" \"DecisionTest\""
   ]
  },
  {
   "cell_type": "code",
   "execution_count": 47,
   "id": "closed-brief",
   "metadata": {
    "execution": {
     "iopub.execute_input": "2021-03-26T13:03:00.000487Z",
     "iopub.status.busy": "2021-03-26T13:03:00.000011Z",
     "iopub.status.idle": "2021-03-26T13:03:00.010488Z",
     "shell.execute_reply": "2021-03-26T13:03:00.010074Z"
    }
   },
   "outputs": [
    {
     "data": {
      "image/svg+xml": [
       "<?xml version=\"1.0\" encoding=\"UTF-8\" standalone=\"no\"?><svg xmlns=\"http://www.w3.org/2000/svg\" xmlns:xlink=\"http://www.w3.org/1999/xlink\" contentScriptType=\"application/ecmascript\" contentStyleType=\"text/css\" height=\"60px\" preserveAspectRatio=\"none\" style=\"width:109px;height:60px;\" version=\"1.1\" viewBox=\"0 0 109 60\" width=\"109px\" zoomAndPan=\"magnify\"><defs/><g><g id=\"E1\"><a href=\"psysml:a1000395-17a0-47e2-a13d-a24f0cfe83d5\" target=\"_top\" title=\"psysml:a1000395-17a0-47e2-a13d-a24f0cfe83d5\" xlink:actuate=\"onRequest\" xlink:href=\"psysml:a1000395-17a0-47e2-a13d-a24f0cfe83d5\" xlink:show=\"new\" xlink:title=\"psysml:a1000395-17a0-47e2-a13d-a24f0cfe83d5\" xlink:type=\"simple\"><rect fill=\"#FFFFFF\" height=\"42.9375\" id=\"E1\" style=\"stroke: #383838; stroke-width: 1.5;\" width=\"91\" x=\"7\" y=\"7\"/><rect fill=\"#F8F8F8\" height=\"37.9375\" style=\"stroke: #383838; stroke-width: 1.5;\" width=\"91\" x=\"7\" y=\"7\"/><text fill=\"#000000\" font-family=\"sans-serif\" font-size=\"12\" font-style=\"italic\" lengthAdjust=\"spacingAndGlyphs\" textLength=\"77\" x=\"14\" y=\"23.1387\">«action def»</text><text fill=\"#000000\" font-family=\"sans-serif\" font-size=\"12\" lengthAdjust=\"spacingAndGlyphs\" textLength=\"80\" x=\"12.5\" y=\"37.1074\">DecisionTest</text></a></g><!--MD5=[eb425afe5413bd12ceb90753de0f516f]\n",
       "@startuml\r\n",
       "skinparam ranksep 8\r\n",
       "skinparam rectangle {\r\n",
       " backgroundColor<<block>> LightGreen\r\n",
       "}\r\n",
       "top to bottom direction\r\n",
       "skinparam monochrome true\r\n",
       "skinparam classbackgroundcolor white\r\n",
       "skinparam shadowing false\r\n",
       "skinparam wrapWidth 300\r\n",
       "hide circle\r\n",
       "\r\n",
       "def \"DecisionTest\" as E1  <<(T,blue)action def>> [[psysml:a1000395-17a0-47e2-a13d-a24f0cfe83d5 ]] \r\n",
       "@enduml\r\n",
       "\n",
       "PlantUML version 1.2020.13(Sat Jun 13 12:26:38 UTC 2020)\n",
       "(EPL source distribution)\n",
       "Java Runtime: OpenJDK Runtime Environment\n",
       "JVM: OpenJDK 64-Bit Server VM\n",
       "Default Encoding: UTF-8\n",
       "Language: en\n",
       "Country: null\n",
       "--></g></svg>"
      ]
     },
     "execution_count": 47,
     "metadata": {},
     "output_type": "execute_result"
    }
   ],
   "source": [
    "%viz --style=\"TB\" --view=\"Interconnection\" \"DecisionTest\""
   ]
  },
  {
   "cell_type": "code",
   "execution_count": 48,
   "id": "opening-function",
   "metadata": {
    "execution": {
     "iopub.execute_input": "2021-03-26T13:03:00.063711Z",
     "iopub.status.busy": "2021-03-26T13:03:00.062973Z",
     "iopub.status.idle": "2021-03-26T13:03:00.076921Z",
     "shell.execute_reply": "2021-03-26T13:03:00.075635Z"
    }
   },
   "outputs": [
    {
     "data": {
      "image/svg+xml": [
       "<?xml version=\"1.0\" encoding=\"UTF-8\" standalone=\"no\"?><svg xmlns=\"http://www.w3.org/2000/svg\" xmlns:xlink=\"http://www.w3.org/1999/xlink\" contentScriptType=\"application/ecmascript\" contentStyleType=\"text/css\" height=\"304px\" preserveAspectRatio=\"none\" style=\"width:871px;height:304px;background:#000000;\" version=\"1.1\" viewBox=\"0 0 871 304\" width=\"871px\" zoomAndPan=\"magnify\"><defs/><g><rect fill=\"#090B09\" height=\"1\" style=\"stroke: #090B09; stroke-width: 1.0;\" width=\"1\" x=\"0\" y=\"0\"/><rect fill=\"#33FF02\" height=\"21.2969\" style=\"stroke: #33FF02; stroke-width: 1.0;\" width=\"864\" x=\"5\" y=\"5\"/><text fill=\"#000000\" font-family=\"sans-serif\" font-size=\"14\" font-weight=\"bold\" lengthAdjust=\"spacingAndGlyphs\" textLength=\"178\" x=\"6\" y=\"20\">[From string (line 15) ]</text><text fill=\"#33FF02\" font-family=\"sans-serif\" font-size=\"14\" font-weight=\"bold\" lengthAdjust=\"spacingAndGlyphs\" textLength=\"0\" x=\"10\" y=\"40.2969\"/><text fill=\"#33FF02\" font-family=\"sans-serif\" font-size=\"14\" font-weight=\"bold\" lengthAdjust=\"spacingAndGlyphs\" textLength=\"79\" x=\"5\" y=\"56.5938\">@startuml</text><text fill=\"#33FF02\" font-family=\"sans-serif\" font-size=\"14\" font-weight=\"bold\" lengthAdjust=\"spacingAndGlyphs\" textLength=\"165\" x=\"5\" y=\"72.8906\">skinparam ranksep 8</text><text fill=\"#33FF02\" font-family=\"sans-serif\" font-size=\"14\" font-weight=\"bold\" lengthAdjust=\"spacingAndGlyphs\" textLength=\"183\" x=\"5\" y=\"89.1875\">top to bottom direction</text><text fill=\"#33FF02\" font-family=\"sans-serif\" font-size=\"14\" font-weight=\"bold\" lengthAdjust=\"spacingAndGlyphs\" textLength=\"228\" x=\"5\" y=\"105.4844\">skinparam monochrome true</text><text fill=\"#33FF02\" font-family=\"sans-serif\" font-size=\"14\" font-weight=\"bold\" lengthAdjust=\"spacingAndGlyphs\" textLength=\"309\" x=\"5\" y=\"121.7813\">skinparam classbackgroundcolor white</text><text fill=\"#33FF02\" font-family=\"sans-serif\" font-size=\"14\" font-weight=\"bold\" lengthAdjust=\"spacingAndGlyphs\" textLength=\"215\" x=\"5\" y=\"138.0781\">skinparam shadowing false</text><text fill=\"#33FF02\" font-family=\"sans-serif\" font-size=\"14\" font-weight=\"bold\" lengthAdjust=\"spacingAndGlyphs\" textLength=\"206\" x=\"5\" y=\"154.375\">skinparam wrapWidth 300</text><text fill=\"#33FF02\" font-family=\"sans-serif\" font-size=\"14\" font-weight=\"bold\" lengthAdjust=\"spacingAndGlyphs\" textLength=\"82\" x=\"5\" y=\"170.6719\">hide circle</text><text fill=\"#33FF02\" font-family=\"sans-serif\" font-size=\"14\" font-weight=\"bold\" lengthAdjust=\"spacingAndGlyphs\" textLength=\"0\" x=\"10\" y=\"186.9688\"/><text fill=\"#33FF02\" font-family=\"sans-serif\" font-size=\"14\" font-weight=\"bold\" lengthAdjust=\"spacingAndGlyphs\" textLength=\"864\" x=\"5\" y=\"203.2656\">rec def \"DecisionTest\" as E1  &lt;&lt;(T,blue)action def&gt;&gt; [[psysml:a1000395-17a0-47e2-a13d-a24f0cfe83d5 ]] {</text><text fill=\"#33FF02\" font-family=\"sans-serif\" font-size=\"14\" font-weight=\"bold\" lengthAdjust=\"spacingAndGlyphs\" textLength=\"616\" x=\"5\" y=\"219.5625\">portout \"$result\" as E2  [[psysml:7254dab9-2ab0-4b4a-abf0-a8118207784b ]]</text><text fill=\"#33FF02\" font-family=\"sans-serif\" font-size=\"14\" font-weight=\"bold\" lengthAdjust=\"spacingAndGlyphs\" textLength=\"862\" x=\"5\" y=\"235.8594\">rec usage \"test x\" as E3  &lt;&lt;(T,blue)decisionNode&gt;&gt; [[psysml:7423d99a-f58c-40be-9ad8-b7209845a744 ]] {</text><text fill=\"#33FF02\" font-family=\"sans-serif\" font-size=\"14\" font-weight=\"bold\" lengthAdjust=\"spacingAndGlyphs\" textLength=\"10\" x=\"5\" y=\"252.1563\">}</text><text fill=\"#33FF02\" font-family=\"sans-serif\" font-size=\"14\" font-weight=\"bold\" lengthAdjust=\"spacingAndGlyphs\" textLength=\"0\" x=\"10\" y=\"268.4531\"/><text fill=\"#33FF02\" font-family=\"sans-serif\" font-size=\"14\" font-weight=\"bold\" lengthAdjust=\"spacingAndGlyphs\" textLength=\"10\" x=\"5\" y=\"284.75\">{</text><text fill=\"#FF0000\" font-family=\"sans-serif\" font-size=\"14\" font-weight=\"bold\" lengthAdjust=\"spacingAndGlyphs\" textLength=\"106\" x=\"10\" y=\"301.0469\">Syntax Error?</text><!--MD5=[2bc803200408138a9c0945072d3d1ab4]\n",
       "@startuml\r\n",
       "skinparam ranksep 8\r\n",
       "top to bottom direction\r\n",
       "skinparam monochrome true\r\n",
       "skinparam classbackgroundcolor white\r\n",
       "skinparam shadowing false\r\n",
       "skinparam wrapWidth 300\r\n",
       "hide circle\r\n",
       "\r\n",
       "rec def \"DecisionTest\" as E1  <<(T,blue)action def>> [[psysml:a1000395-17a0-47e2-a13d-a24f0cfe83d5 ]] {\r\n",
       "portout \"$result\" as E2  [[psysml:7254dab9-2ab0-4b4a-abf0-a8118207784b ]] \r\n",
       "rec usage \"test x\" as E3  <<(T,blue)decisionNode>> [[psysml:7423d99a-f58c-40be-9ad8-b7209845a744 ]] {\r\n",
       "}\r\n",
       "\r\n",
       "{\r\n",
       "portout \"$result\" as E4  [[psysml:bceec577-4538-432a-b269-09d95bc9a7ff ]] \r\n",
       "portin \"$x\" as E5  [[psysml:8234b737-8b11-4286-80d5-041d60fcfb58 ]] \r\n",
       "portin \"$y\" as E6  [[psysml:7c1f2e2e-5ea9-440e-a0d7-bde68b741d93 ]] \r\n",
       "portout \"$result\" as E7  [[psysml:a1e656b7-cadc-4b3b-a176-c8c2724f8a9f ]] \r\n",
       "}\r\n",
       "\r\n",
       "{\r\n",
       "portout \"$result\" as E8  [[psysml:5e578666-287e-4471-a202-0fa6d9af79c3 ]] \r\n",
       "portin \"$x\" as E9  [[psysml:2e73bbcc-e1fb-462b-9f93-4a649e4b75e6 ]] \r\n",
       "portin \"$y\" as E10  [[psysml:167c4655-6099-4dd6-a555-0c294c9d5979 ]] \r\n",
       "portout \"$result\" as E11  [[psysml:c40f3f95-b4a1-4b20-9a7d-2c01b041f687 ]] \r\n",
       "}\r\n",
       "\r\n",
       "{\r\n",
       "}\r\n",
       "\r\n",
       "{\r\n",
       "}\r\n",
       "\r\n",
       "{\r\n",
       "portout \"$result\" as E12  [[psysml:9e913d35-b492-435f-9373-c501110f1eb9 ]] \r\n",
       "}\r\n",
       "\r\n",
       "{\r\n",
       "portout \"$result\" as E13  [[psysml:158e60b3-268a-4c98-b93c-7961067d80aa ]] \r\n",
       "}\r\n",
       "\r\n",
       "rec usage \"A1\" as E14  <<(T,blue)action>> [[psysml:eb7d07f9-3793-4a0f-a0fd-eb934e5bd3c4 ]] {\r\n",
       "}\r\n",
       "\r\n",
       "rec usage \"A2\" as E15  <<(T,blue)action>> [[psysml:dabafcbf-a70a-41b1-a12f-b84f33147f9e ]] {\r\n",
       "}\r\n",
       "\r\n",
       "rec usage \"A3\" as E16  <<(T,blue)action>> [[psysml:b33bccfd-da91-4304-87b6-52ca1fd70cda ]] {\r\n",
       "}\r\n",
       "\r\n",
       "rec usage \"S\" as E17  <<(T,blue)transition>> [[psysml:b992d367-0404-4f63-871a-2665bf27ec50 ]] {\r\n",
       "rec usage \"A1\" as E18  <<(T,blue)action>> [[psysml:eb7d07f9-3793-4a0f-a0fd-eb934e5bd3c4 ]] {\r\n",
       "}\r\n",
       "\r\n",
       "portout \"$result\" as E19  [[psysml:6c1c6685-5e76-423a-8864-05a29151138c ]] \r\n",
       "portin \"$x\" as E20  [[psysml:c04f5b6e-c0c0-4f8c-b615-27e7186d2d69 ]] \r\n",
       "portin \"$y\" as E21  [[psysml:9909dfe5-9552-4cba-a2bc-4098d95f63c2 ]] \r\n",
       "portout \"$result\" as E22  [[psysml:bcbff8ec-917c-48b5-9f11-9f30a636696f ]] \r\n",
       "}\r\n",
       "\r\n",
       "rec usage \"A3\" as E23  <<(T,blue)action>> [[psysml:b33bccfd-da91-4304-87b6-52ca1fd70cda ]] {\r\n",
       "}\r\n",
       "\r\n",
       "{\r\n",
       "portout \"$result\" as E24  [[psysml:361e6a6e-e017-4926-975f-092030fcbf35 ]] \r\n",
       "portin \"$x\" as E25  [[psysml:01ce4d67-3e05-4f8c-92a8-b88c5ffa81ca ]] \r\n",
       "portin \"$y\" as E26  [[psysml:9a2f800a-bedb-42f6-8036-b5924649c324 ]] \r\n",
       "portout \"$result\" as E27  [[psysml:320da7bf-4cff-49a0-90e2-2e9a2a898b7b ]] \r\n",
       "}\r\n",
       "\r\n",
       "}\r\n",
       "\r\n",
       "@enduml\r\n",
       "\n",
       "PlantUML version 1.2020.13(Sat Jun 13 12:26:38 UTC 2020)\n",
       "(EPL source distribution)\n",
       "Java Runtime: OpenJDK Runtime Environment\n",
       "JVM: OpenJDK 64-Bit Server VM\n",
       "Default Encoding: UTF-8\n",
       "Language: en\n",
       "Country: null\n",
       "--></g></svg>"
      ]
     },
     "execution_count": 48,
     "metadata": {},
     "output_type": "execute_result"
    }
   ],
   "source": [
    "%viz --style=\"TB\" --view=\"Action\" \"DecisionTest\""
   ]
  },
  {
   "cell_type": "code",
   "execution_count": 49,
   "id": "minus-rapid",
   "metadata": {
    "execution": {
     "iopub.execute_input": "2021-03-26T13:03:00.129101Z",
     "iopub.status.busy": "2021-03-26T13:03:00.128376Z",
     "iopub.status.idle": "2021-03-26T13:03:00.208781Z",
     "shell.execute_reply": "2021-03-26T13:03:00.208131Z"
    }
   },
   "outputs": [
    {
     "data": {
      "image/svg+xml": [
       "<?xml version=\"1.0\" encoding=\"UTF-8\" standalone=\"no\"?><svg xmlns=\"http://www.w3.org/2000/svg\" xmlns:xlink=\"http://www.w3.org/1999/xlink\" contentScriptType=\"application/ecmascript\" contentStyleType=\"text/css\" height=\"207px\" preserveAspectRatio=\"none\" style=\"width:109px;height:207px;\" version=\"1.1\" viewBox=\"0 0 109 207\" width=\"109px\" zoomAndPan=\"magnify\"><defs/><g><!--MD5=[43c9051892ef23e1a46a86907403d788]\n",
       "class E1--><a href=\"psysml:a1000395-17a0-47e2-a13d-a24f0cfe83d5\" target=\"_top\" title=\"psysml:a1000395-17a0-47e2-a13d-a24f0cfe83d5\" xlink:actuate=\"onRequest\" xlink:href=\"psysml:a1000395-17a0-47e2-a13d-a24f0cfe83d5\" xlink:show=\"new\" xlink:title=\"psysml:a1000395-17a0-47e2-a13d-a24f0cfe83d5\" xlink:type=\"simple\"><rect fill=\"#FFFFFF\" height=\"189.9844\" id=\"E1\" style=\"stroke: #383838; stroke-width: 1.5;\" width=\"91\" x=\"7\" y=\"7\"/><text fill=\"#000000\" font-family=\"sans-serif\" font-size=\"12\" font-style=\"italic\" lengthAdjust=\"spacingAndGlyphs\" textLength=\"77\" x=\"14\" y=\"23.1387\">«action def»</text><text fill=\"#000000\" font-family=\"sans-serif\" font-size=\"12\" lengthAdjust=\"spacingAndGlyphs\" textLength=\"80\" x=\"12.5\" y=\"37.1074\">DecisionTest</text><line style=\"stroke: #383838; stroke-width: 1.5;\" x1=\"8\" x2=\"97\" y1=\"44.9375\" y2=\"44.9375\"/><text fill=\"#000000\" font-family=\"sans-serif\" font-size=\"11\" lengthAdjust=\"spacingAndGlyphs\" textLength=\"6\" x=\"13\" y=\"75.9526\">x</text><line style=\"stroke: #383838; stroke-width: 1.0;\" x1=\"8\" x2=\"25\" y1=\"59.3398\" y2=\"59.3398\"/><text fill=\"#000000\" font-family=\"sans-serif\" font-size=\"11\" lengthAdjust=\"spacingAndGlyphs\" textLength=\"55\" x=\"25\" y=\"62.6479\">attributes</text><line style=\"stroke: #383838; stroke-width: 1.0;\" x1=\"80\" x2=\"97\" y1=\"59.3398\" y2=\"59.3398\"/><text fill=\"#000000\" font-family=\"sans-serif\" font-size=\"11\" lengthAdjust=\"spacingAndGlyphs\" textLength=\"14\" x=\"13\" y=\"105.562\">A1</text><text fill=\"#000000\" font-family=\"sans-serif\" font-size=\"11\" lengthAdjust=\"spacingAndGlyphs\" textLength=\"14\" x=\"13\" y=\"118.3667\">A2</text><text fill=\"#000000\" font-family=\"sans-serif\" font-size=\"11\" lengthAdjust=\"spacingAndGlyphs\" textLength=\"14\" x=\"13\" y=\"131.1714\">A3</text><line style=\"stroke: #383838; stroke-width: 1.0;\" x1=\"8\" x2=\"32\" y1=\"88.9492\" y2=\"88.9492\"/><text fill=\"#000000\" font-family=\"sans-serif\" font-size=\"11\" lengthAdjust=\"spacingAndGlyphs\" textLength=\"41\" x=\"32\" y=\"92.2573\">actions</text><line style=\"stroke: #383838; stroke-width: 1.0;\" x1=\"73\" x2=\"97\" y1=\"88.9492\" y2=\"88.9492\"/><text fill=\"#000000\" font-family=\"sans-serif\" font-size=\"11\" lengthAdjust=\"spacingAndGlyphs\" textLength=\"32\" x=\"13\" y=\"160.7808\">test x</text><line style=\"stroke: #383838; stroke-width: 1.0;\" x1=\"8\" x2=\"11\" y1=\"144.168\" y2=\"144.168\"/><text fill=\"#000000\" font-family=\"sans-serif\" font-size=\"11\" lengthAdjust=\"spacingAndGlyphs\" textLength=\"83\" x=\"11\" y=\"147.4761\">decisionNodes</text><line style=\"stroke: #383838; stroke-width: 1.0;\" x1=\"94\" x2=\"97\" y1=\"144.168\" y2=\"144.168\"/><text fill=\"#000000\" font-family=\"sans-serif\" font-size=\"11\" lengthAdjust=\"spacingAndGlyphs\" textLength=\"8\" x=\"13\" y=\"190.3901\">S</text><line style=\"stroke: #383838; stroke-width: 1.0;\" x1=\"8\" x2=\"22\" y1=\"173.7773\" y2=\"173.7773\"/><text fill=\"#000000\" font-family=\"sans-serif\" font-size=\"11\" lengthAdjust=\"spacingAndGlyphs\" textLength=\"61\" x=\"22\" y=\"177.0854\">transitions</text><line style=\"stroke: #383838; stroke-width: 1.0;\" x1=\"83\" x2=\"97\" y1=\"173.7773\" y2=\"173.7773\"/></a><!--MD5=[50f705f979d1d1ea7528a50e03ef9870]\n",
       "@startuml\r\n",
       "top to bottom direction\r\n",
       "skinparam monochrome true\r\n",
       "skinparam classbackgroundcolor white\r\n",
       "skinparam shadowing false\r\n",
       "skinparam wrapWidth 300\r\n",
       "hide circle\r\n",
       "\r\n",
       "comp def \"DecisionTest\" as E1  <<(T,blue)action def>> [[psysml:a1000395-17a0-47e2-a13d-a24f0cfe83d5 ]] {\r\n",
       "- - attributes - -\r\n",
       "x\r\n",
       "- - actions - -\r\n",
       "A1\r\n",
       "A2\r\n",
       "A3\r\n",
       "- - decisionNodes - -\r\n",
       "test x\r\n",
       "- - transitions - -\r\n",
       "S\r\n",
       "}\r\n",
       "@enduml\r\n",
       "\n",
       "PlantUML version 1.2020.13(Sat Jun 13 12:26:38 UTC 2020)\n",
       "(EPL source distribution)\n",
       "Java Runtime: OpenJDK Runtime Environment\n",
       "JVM: OpenJDK 64-Bit Server VM\n",
       "Default Encoding: UTF-8\n",
       "Language: en\n",
       "Country: null\n",
       "--></g></svg>"
      ]
     },
     "execution_count": 49,
     "metadata": {},
     "output_type": "execute_result"
    }
   ],
   "source": [
    "%viz --style=\"TB\" --view=\"Sequence\" \"DecisionTest\""
   ]
  },
  {
   "cell_type": "code",
   "execution_count": 50,
   "id": "civil-publicity",
   "metadata": {
    "execution": {
     "iopub.execute_input": "2021-03-26T13:03:00.269374Z",
     "iopub.status.busy": "2021-03-26T13:03:00.268975Z",
     "iopub.status.idle": "2021-03-26T13:03:00.271980Z",
     "shell.execute_reply": "2021-03-26T13:03:00.270866Z"
    }
   },
   "outputs": [
    {
     "data": {
      "image/svg+xml": [
       "<?xml version=\"1.0\" encoding=\"UTF-8\" standalone=\"no\"?><svg xmlns=\"http://www.w3.org/2000/svg\" xmlns:xlink=\"http://www.w3.org/1999/xlink\" contentScriptType=\"application/ecmascript\" contentStyleType=\"text/css\" height=\"288px\" preserveAspectRatio=\"none\" style=\"width:871px;height:288px;background:#000000;\" version=\"1.1\" viewBox=\"0 0 871 288\" width=\"871px\" zoomAndPan=\"magnify\"><defs/><g><rect fill=\"#111326\" height=\"1\" style=\"stroke: #111326; stroke-width: 1.0;\" width=\"1\" x=\"0\" y=\"0\"/><rect fill=\"#33FF02\" height=\"21.2969\" style=\"stroke: #33FF02; stroke-width: 1.0;\" width=\"864\" x=\"5\" y=\"5\"/><text fill=\"#000000\" font-family=\"sans-serif\" font-size=\"14\" font-weight=\"bold\" lengthAdjust=\"spacingAndGlyphs\" textLength=\"178\" x=\"6\" y=\"20\">[From string (line 14) ]</text><text fill=\"#33FF02\" font-family=\"sans-serif\" font-size=\"14\" font-weight=\"bold\" lengthAdjust=\"spacingAndGlyphs\" textLength=\"0\" x=\"10\" y=\"40.2969\"/><text fill=\"#33FF02\" font-family=\"sans-serif\" font-size=\"14\" font-weight=\"bold\" lengthAdjust=\"spacingAndGlyphs\" textLength=\"79\" x=\"5\" y=\"56.5938\">@startuml</text><text fill=\"#33FF02\" font-family=\"sans-serif\" font-size=\"14\" font-weight=\"bold\" lengthAdjust=\"spacingAndGlyphs\" textLength=\"183\" x=\"5\" y=\"72.8906\">top to bottom direction</text><text fill=\"#33FF02\" font-family=\"sans-serif\" font-size=\"14\" font-weight=\"bold\" lengthAdjust=\"spacingAndGlyphs\" textLength=\"228\" x=\"5\" y=\"89.1875\">skinparam monochrome true</text><text fill=\"#33FF02\" font-family=\"sans-serif\" font-size=\"14\" font-weight=\"bold\" lengthAdjust=\"spacingAndGlyphs\" textLength=\"309\" x=\"5\" y=\"105.4844\">skinparam classbackgroundcolor white</text><text fill=\"#33FF02\" font-family=\"sans-serif\" font-size=\"14\" font-weight=\"bold\" lengthAdjust=\"spacingAndGlyphs\" textLength=\"215\" x=\"5\" y=\"121.7813\">skinparam shadowing false</text><text fill=\"#33FF02\" font-family=\"sans-serif\" font-size=\"14\" font-weight=\"bold\" lengthAdjust=\"spacingAndGlyphs\" textLength=\"206\" x=\"5\" y=\"138.0781\">skinparam wrapWidth 300</text><text fill=\"#33FF02\" font-family=\"sans-serif\" font-size=\"14\" font-weight=\"bold\" lengthAdjust=\"spacingAndGlyphs\" textLength=\"82\" x=\"5\" y=\"154.375\">hide circle</text><text fill=\"#33FF02\" font-family=\"sans-serif\" font-size=\"14\" font-weight=\"bold\" lengthAdjust=\"spacingAndGlyphs\" textLength=\"0\" x=\"10\" y=\"170.6719\"/><text fill=\"#33FF02\" font-family=\"sans-serif\" font-size=\"14\" font-weight=\"bold\" lengthAdjust=\"spacingAndGlyphs\" textLength=\"864\" x=\"5\" y=\"186.9688\">rec def \"DecisionTest\" as E1  &lt;&lt;(T,blue)action def&gt;&gt; [[psysml:a1000395-17a0-47e2-a13d-a24f0cfe83d5 ]] {</text><text fill=\"#33FF02\" font-family=\"sans-serif\" font-size=\"14\" font-weight=\"bold\" lengthAdjust=\"spacingAndGlyphs\" textLength=\"616\" x=\"5\" y=\"203.2656\">portout \"$result\" as E2  [[psysml:7254dab9-2ab0-4b4a-abf0-a8118207784b ]]</text><text fill=\"#33FF02\" font-family=\"sans-serif\" font-size=\"14\" font-weight=\"bold\" lengthAdjust=\"spacingAndGlyphs\" textLength=\"862\" x=\"5\" y=\"219.5625\">rec usage \"test x\" as E3  &lt;&lt;(T,blue)decisionNode&gt;&gt; [[psysml:7423d99a-f58c-40be-9ad8-b7209845a744 ]] {</text><text fill=\"#33FF02\" font-family=\"sans-serif\" font-size=\"14\" font-weight=\"bold\" lengthAdjust=\"spacingAndGlyphs\" textLength=\"10\" x=\"5\" y=\"235.8594\">}</text><text fill=\"#33FF02\" font-family=\"sans-serif\" font-size=\"14\" font-weight=\"bold\" lengthAdjust=\"spacingAndGlyphs\" textLength=\"0\" x=\"10\" y=\"252.1563\"/><text fill=\"#33FF02\" font-family=\"sans-serif\" font-size=\"14\" font-weight=\"bold\" lengthAdjust=\"spacingAndGlyphs\" textLength=\"10\" x=\"5\" y=\"268.4531\">{</text><text fill=\"#FF0000\" font-family=\"sans-serif\" font-size=\"14\" font-weight=\"bold\" lengthAdjust=\"spacingAndGlyphs\" textLength=\"106\" x=\"10\" y=\"284.75\">Syntax Error?</text><!--MD5=[056dd53cbee6a3a921d80ef1b4441ddb]\n",
       "@startuml\r\n",
       "top to bottom direction\r\n",
       "skinparam monochrome true\r\n",
       "skinparam classbackgroundcolor white\r\n",
       "skinparam shadowing false\r\n",
       "skinparam wrapWidth 300\r\n",
       "hide circle\r\n",
       "\r\n",
       "rec def \"DecisionTest\" as E1  <<(T,blue)action def>> [[psysml:a1000395-17a0-47e2-a13d-a24f0cfe83d5 ]] {\r\n",
       "portout \"$result\" as E2  [[psysml:7254dab9-2ab0-4b4a-abf0-a8118207784b ]] \r\n",
       "rec usage \"test x\" as E3  <<(T,blue)decisionNode>> [[psysml:7423d99a-f58c-40be-9ad8-b7209845a744 ]] {\r\n",
       "}\r\n",
       "\r\n",
       "{\r\n",
       "portout \"$result\" as E4  [[psysml:bceec577-4538-432a-b269-09d95bc9a7ff ]] \r\n",
       "portin \"$x\" as E5  [[psysml:8234b737-8b11-4286-80d5-041d60fcfb58 ]] \r\n",
       "portin \"$y\" as E6  [[psysml:7c1f2e2e-5ea9-440e-a0d7-bde68b741d93 ]] \r\n",
       "portout \"$result\" as E7  [[psysml:a1e656b7-cadc-4b3b-a176-c8c2724f8a9f ]] \r\n",
       "}\r\n",
       "\r\n",
       "{\r\n",
       "portout \"$result\" as E8  [[psysml:5e578666-287e-4471-a202-0fa6d9af79c3 ]] \r\n",
       "portin \"$x\" as E9  [[psysml:2e73bbcc-e1fb-462b-9f93-4a649e4b75e6 ]] \r\n",
       "portin \"$y\" as E10  [[psysml:167c4655-6099-4dd6-a555-0c294c9d5979 ]] \r\n",
       "portout \"$result\" as E11  [[psysml:c40f3f95-b4a1-4b20-9a7d-2c01b041f687 ]] \r\n",
       "}\r\n",
       "\r\n",
       "{\r\n",
       "}\r\n",
       "\r\n",
       "{\r\n",
       "}\r\n",
       "\r\n",
       "{\r\n",
       "portout \"$result\" as E12  [[psysml:9e913d35-b492-435f-9373-c501110f1eb9 ]] \r\n",
       "}\r\n",
       "\r\n",
       "{\r\n",
       "portout \"$result\" as E13  [[psysml:158e60b3-268a-4c98-b93c-7961067d80aa ]] \r\n",
       "}\r\n",
       "\r\n",
       "rec usage \"A1\" as E14  <<(T,blue)action>> [[psysml:eb7d07f9-3793-4a0f-a0fd-eb934e5bd3c4 ]] {\r\n",
       "}\r\n",
       "\r\n",
       "rec usage \"A2\" as E15  <<(T,blue)action>> [[psysml:dabafcbf-a70a-41b1-a12f-b84f33147f9e ]] {\r\n",
       "}\r\n",
       "\r\n",
       "rec usage \"A3\" as E16  <<(T,blue)action>> [[psysml:b33bccfd-da91-4304-87b6-52ca1fd70cda ]] {\r\n",
       "}\r\n",
       "\r\n",
       "rec usage \"S\" as E17  <<(T,blue)transition>> [[psysml:b992d367-0404-4f63-871a-2665bf27ec50 ]] {\r\n",
       "rec usage \"A1\" as E18  <<(T,blue)action>> [[psysml:eb7d07f9-3793-4a0f-a0fd-eb934e5bd3c4 ]] {\r\n",
       "}\r\n",
       "\r\n",
       "portout \"$result\" as E19  [[psysml:6c1c6685-5e76-423a-8864-05a29151138c ]] \r\n",
       "portin \"$x\" as E20  [[psysml:c04f5b6e-c0c0-4f8c-b615-27e7186d2d69 ]] \r\n",
       "portin \"$y\" as E21  [[psysml:9909dfe5-9552-4cba-a2bc-4098d95f63c2 ]] \r\n",
       "portout \"$result\" as E22  [[psysml:bcbff8ec-917c-48b5-9f11-9f30a636696f ]] \r\n",
       "}\r\n",
       "\r\n",
       "rec usage \"A3\" as E23  <<(T,blue)action>> [[psysml:b33bccfd-da91-4304-87b6-52ca1fd70cda ]] {\r\n",
       "}\r\n",
       "\r\n",
       "{\r\n",
       "portout \"$result\" as E24  [[psysml:361e6a6e-e017-4926-975f-092030fcbf35 ]] \r\n",
       "portin \"$x\" as E25  [[psysml:01ce4d67-3e05-4f8c-92a8-b88c5ffa81ca ]] \r\n",
       "portin \"$y\" as E26  [[psysml:9a2f800a-bedb-42f6-8036-b5924649c324 ]] \r\n",
       "portout \"$result\" as E27  [[psysml:320da7bf-4cff-49a0-90e2-2e9a2a898b7b ]] \r\n",
       "}\r\n",
       "\r\n",
       "}\r\n",
       "\r\n",
       "@enduml\r\n",
       "\n",
       "PlantUML version 1.2020.13(Sat Jun 13 12:26:38 UTC 2020)\n",
       "(EPL source distribution)\n",
       "Java Runtime: OpenJDK Runtime Environment\n",
       "JVM: OpenJDK 64-Bit Server VM\n",
       "Default Encoding: UTF-8\n",
       "Language: en\n",
       "Country: null\n",
       "--></g></svg>"
      ]
     },
     "execution_count": 50,
     "metadata": {},
     "output_type": "execute_result"
    }
   ],
   "source": [
    "%viz --style=\"TB\" --view=\"MIXED\" \"DecisionTest\""
   ]
  },
  {
   "cell_type": "code",
   "execution_count": 51,
   "id": "alert-advantage",
   "metadata": {
    "execution": {
     "iopub.execute_input": "2021-03-26T13:03:00.322312Z",
     "iopub.status.busy": "2021-03-26T13:03:00.321866Z",
     "iopub.status.idle": "2021-03-26T13:03:00.334738Z",
     "shell.execute_reply": "2021-03-26T13:03:00.332819Z"
    }
   },
   "outputs": [
    {
     "data": {
      "image/svg+xml": [
       "<?xml version=\"1.0\" encoding=\"UTF-8\" standalone=\"no\"?><svg xmlns=\"http://www.w3.org/2000/svg\" xmlns:xlink=\"http://www.w3.org/1999/xlink\" contentScriptType=\"application/ecmascript\" contentStyleType=\"text/css\" height=\"288px\" preserveAspectRatio=\"none\" style=\"width:871px;height:288px;background:#000000;\" version=\"1.1\" viewBox=\"0 0 871 288\" width=\"871px\" zoomAndPan=\"magnify\"><defs/><g><rect fill=\"#112518\" height=\"1\" style=\"stroke: #112518; stroke-width: 1.0;\" width=\"1\" x=\"0\" y=\"0\"/><rect fill=\"#33FF02\" height=\"21.2969\" style=\"stroke: #33FF02; stroke-width: 1.0;\" width=\"864\" x=\"5\" y=\"5\"/><text fill=\"#000000\" font-family=\"sans-serif\" font-size=\"14\" font-weight=\"bold\" lengthAdjust=\"spacingAndGlyphs\" textLength=\"178\" x=\"6\" y=\"20\">[From string (line 14) ]</text><text fill=\"#33FF02\" font-family=\"sans-serif\" font-size=\"14\" font-weight=\"bold\" lengthAdjust=\"spacingAndGlyphs\" textLength=\"0\" x=\"10\" y=\"40.2969\"/><text fill=\"#33FF02\" font-family=\"sans-serif\" font-size=\"14\" font-weight=\"bold\" lengthAdjust=\"spacingAndGlyphs\" textLength=\"79\" x=\"5\" y=\"56.5938\">@startuml</text><text fill=\"#33FF02\" font-family=\"sans-serif\" font-size=\"14\" font-weight=\"bold\" lengthAdjust=\"spacingAndGlyphs\" textLength=\"197\" x=\"5\" y=\"72.8906\">skinparam linetype ortho</text><text fill=\"#33FF02\" font-family=\"sans-serif\" font-size=\"14\" font-weight=\"bold\" lengthAdjust=\"spacingAndGlyphs\" textLength=\"228\" x=\"5\" y=\"89.1875\">skinparam monochrome true</text><text fill=\"#33FF02\" font-family=\"sans-serif\" font-size=\"14\" font-weight=\"bold\" lengthAdjust=\"spacingAndGlyphs\" textLength=\"309\" x=\"5\" y=\"105.4844\">skinparam classbackgroundcolor white</text><text fill=\"#33FF02\" font-family=\"sans-serif\" font-size=\"14\" font-weight=\"bold\" lengthAdjust=\"spacingAndGlyphs\" textLength=\"215\" x=\"5\" y=\"121.7813\">skinparam shadowing false</text><text fill=\"#33FF02\" font-family=\"sans-serif\" font-size=\"14\" font-weight=\"bold\" lengthAdjust=\"spacingAndGlyphs\" textLength=\"206\" x=\"5\" y=\"138.0781\">skinparam wrapWidth 300</text><text fill=\"#33FF02\" font-family=\"sans-serif\" font-size=\"14\" font-weight=\"bold\" lengthAdjust=\"spacingAndGlyphs\" textLength=\"82\" x=\"5\" y=\"154.375\">hide circle</text><text fill=\"#33FF02\" font-family=\"sans-serif\" font-size=\"14\" font-weight=\"bold\" lengthAdjust=\"spacingAndGlyphs\" textLength=\"0\" x=\"10\" y=\"170.6719\"/><text fill=\"#33FF02\" font-family=\"sans-serif\" font-size=\"14\" font-weight=\"bold\" lengthAdjust=\"spacingAndGlyphs\" textLength=\"864\" x=\"5\" y=\"186.9688\">rec def \"DecisionTest\" as E1  &lt;&lt;(T,blue)action def&gt;&gt; [[psysml:a1000395-17a0-47e2-a13d-a24f0cfe83d5 ]] {</text><text fill=\"#33FF02\" font-family=\"sans-serif\" font-size=\"14\" font-weight=\"bold\" lengthAdjust=\"spacingAndGlyphs\" textLength=\"616\" x=\"5\" y=\"203.2656\">portout \"$result\" as E2  [[psysml:7254dab9-2ab0-4b4a-abf0-a8118207784b ]]</text><text fill=\"#33FF02\" font-family=\"sans-serif\" font-size=\"14\" font-weight=\"bold\" lengthAdjust=\"spacingAndGlyphs\" textLength=\"862\" x=\"5\" y=\"219.5625\">rec usage \"test x\" as E3  &lt;&lt;(T,blue)decisionNode&gt;&gt; [[psysml:7423d99a-f58c-40be-9ad8-b7209845a744 ]] {</text><text fill=\"#33FF02\" font-family=\"sans-serif\" font-size=\"14\" font-weight=\"bold\" lengthAdjust=\"spacingAndGlyphs\" textLength=\"10\" x=\"5\" y=\"235.8594\">}</text><text fill=\"#33FF02\" font-family=\"sans-serif\" font-size=\"14\" font-weight=\"bold\" lengthAdjust=\"spacingAndGlyphs\" textLength=\"0\" x=\"10\" y=\"252.1563\"/><text fill=\"#33FF02\" font-family=\"sans-serif\" font-size=\"14\" font-weight=\"bold\" lengthAdjust=\"spacingAndGlyphs\" textLength=\"10\" x=\"5\" y=\"268.4531\">{</text><text fill=\"#FF0000\" font-family=\"sans-serif\" font-size=\"14\" font-weight=\"bold\" lengthAdjust=\"spacingAndGlyphs\" textLength=\"106\" x=\"10\" y=\"284.75\">Syntax Error?</text><!--MD5=[2734cc37b59b18829665d5a8fae6b397]\n",
       "@startuml\r\n",
       "skinparam linetype ortho\r\n",
       "skinparam monochrome true\r\n",
       "skinparam classbackgroundcolor white\r\n",
       "skinparam shadowing false\r\n",
       "skinparam wrapWidth 300\r\n",
       "hide circle\r\n",
       "\r\n",
       "rec def \"DecisionTest\" as E1  <<(T,blue)action def>> [[psysml:a1000395-17a0-47e2-a13d-a24f0cfe83d5 ]] {\r\n",
       "portout \"$result\" as E2  [[psysml:7254dab9-2ab0-4b4a-abf0-a8118207784b ]] \r\n",
       "rec usage \"test x\" as E3  <<(T,blue)decisionNode>> [[psysml:7423d99a-f58c-40be-9ad8-b7209845a744 ]] {\r\n",
       "}\r\n",
       "\r\n",
       "{\r\n",
       "portout \"$result\" as E4  [[psysml:bceec577-4538-432a-b269-09d95bc9a7ff ]] \r\n",
       "portin \"$x\" as E5  [[psysml:8234b737-8b11-4286-80d5-041d60fcfb58 ]] \r\n",
       "portin \"$y\" as E6  [[psysml:7c1f2e2e-5ea9-440e-a0d7-bde68b741d93 ]] \r\n",
       "portout \"$result\" as E7  [[psysml:a1e656b7-cadc-4b3b-a176-c8c2724f8a9f ]] \r\n",
       "}\r\n",
       "\r\n",
       "{\r\n",
       "portout \"$result\" as E8  [[psysml:5e578666-287e-4471-a202-0fa6d9af79c3 ]] \r\n",
       "portin \"$x\" as E9  [[psysml:2e73bbcc-e1fb-462b-9f93-4a649e4b75e6 ]] \r\n",
       "portin \"$y\" as E10  [[psysml:167c4655-6099-4dd6-a555-0c294c9d5979 ]] \r\n",
       "portout \"$result\" as E11  [[psysml:c40f3f95-b4a1-4b20-9a7d-2c01b041f687 ]] \r\n",
       "}\r\n",
       "\r\n",
       "{\r\n",
       "}\r\n",
       "\r\n",
       "{\r\n",
       "}\r\n",
       "\r\n",
       "{\r\n",
       "portout \"$result\" as E12  [[psysml:9e913d35-b492-435f-9373-c501110f1eb9 ]] \r\n",
       "}\r\n",
       "\r\n",
       "{\r\n",
       "portout \"$result\" as E13  [[psysml:158e60b3-268a-4c98-b93c-7961067d80aa ]] \r\n",
       "}\r\n",
       "\r\n",
       "rec usage \"A1\" as E14  <<(T,blue)action>> [[psysml:eb7d07f9-3793-4a0f-a0fd-eb934e5bd3c4 ]] {\r\n",
       "}\r\n",
       "\r\n",
       "rec usage \"A2\" as E15  <<(T,blue)action>> [[psysml:dabafcbf-a70a-41b1-a12f-b84f33147f9e ]] {\r\n",
       "}\r\n",
       "\r\n",
       "rec usage \"A3\" as E16  <<(T,blue)action>> [[psysml:b33bccfd-da91-4304-87b6-52ca1fd70cda ]] {\r\n",
       "}\r\n",
       "\r\n",
       "rec usage \"S\" as E17  <<(T,blue)transition>> [[psysml:b992d367-0404-4f63-871a-2665bf27ec50 ]] {\r\n",
       "rec usage \"A1\" as E18  <<(T,blue)action>> [[psysml:eb7d07f9-3793-4a0f-a0fd-eb934e5bd3c4 ]] {\r\n",
       "}\r\n",
       "\r\n",
       "portout \"$result\" as E19  [[psysml:6c1c6685-5e76-423a-8864-05a29151138c ]] \r\n",
       "portin \"$x\" as E20  [[psysml:c04f5b6e-c0c0-4f8c-b615-27e7186d2d69 ]] \r\n",
       "portin \"$y\" as E21  [[psysml:9909dfe5-9552-4cba-a2bc-4098d95f63c2 ]] \r\n",
       "portout \"$result\" as E22  [[psysml:bcbff8ec-917c-48b5-9f11-9f30a636696f ]] \r\n",
       "}\r\n",
       "\r\n",
       "rec usage \"A3\" as E23  <<(T,blue)action>> [[psysml:b33bccfd-da91-4304-87b6-52ca1fd70cda ]] {\r\n",
       "}\r\n",
       "\r\n",
       "{\r\n",
       "portout \"$result\" as E24  [[psysml:361e6a6e-e017-4926-975f-092030fcbf35 ]] \r\n",
       "portin \"$x\" as E25  [[psysml:01ce4d67-3e05-4f8c-92a8-b88c5ffa81ca ]] \r\n",
       "portin \"$y\" as E26  [[psysml:9a2f800a-bedb-42f6-8036-b5924649c324 ]] \r\n",
       "portout \"$result\" as E27  [[psysml:320da7bf-4cff-49a0-90e2-2e9a2a898b7b ]] \r\n",
       "}\r\n",
       "\r\n",
       "}\r\n",
       "\r\n",
       "@enduml\r\n",
       "\n",
       "PlantUML version 1.2020.13(Sat Jun 13 12:26:38 UTC 2020)\n",
       "(EPL source distribution)\n",
       "Java Runtime: OpenJDK Runtime Environment\n",
       "JVM: OpenJDK 64-Bit Server VM\n",
       "Default Encoding: UTF-8\n",
       "Language: en\n",
       "Country: null\n",
       "--></g></svg>"
      ]
     },
     "execution_count": 51,
     "metadata": {},
     "output_type": "execute_result"
    }
   ],
   "source": [
    "%viz --style=\"ORTHOLINE\" --view=\"Default\" \"DecisionTest\""
   ]
  },
  {
   "cell_type": "code",
   "execution_count": 52,
   "id": "orange-generation",
   "metadata": {
    "execution": {
     "iopub.execute_input": "2021-03-26T13:03:00.386187Z",
     "iopub.status.busy": "2021-03-26T13:03:00.385850Z",
     "iopub.status.idle": "2021-03-26T13:03:00.450725Z",
     "shell.execute_reply": "2021-03-26T13:03:00.451096Z"
    }
   },
   "outputs": [
    {
     "data": {
      "image/svg+xml": [
       "<?xml version=\"1.0\" encoding=\"UTF-8\" standalone=\"no\"?><svg xmlns=\"http://www.w3.org/2000/svg\" xmlns:xlink=\"http://www.w3.org/1999/xlink\" contentScriptType=\"application/ecmascript\" contentStyleType=\"text/css\" height=\"207px\" preserveAspectRatio=\"none\" style=\"width:109px;height:207px;\" version=\"1.1\" viewBox=\"0 0 109 207\" width=\"109px\" zoomAndPan=\"magnify\"><defs/><g><!--MD5=[43c9051892ef23e1a46a86907403d788]\n",
       "class E1--><a href=\"psysml:a1000395-17a0-47e2-a13d-a24f0cfe83d5\" target=\"_top\" title=\"psysml:a1000395-17a0-47e2-a13d-a24f0cfe83d5\" xlink:actuate=\"onRequest\" xlink:href=\"psysml:a1000395-17a0-47e2-a13d-a24f0cfe83d5\" xlink:show=\"new\" xlink:title=\"psysml:a1000395-17a0-47e2-a13d-a24f0cfe83d5\" xlink:type=\"simple\"><rect fill=\"#FFFFFF\" height=\"189.9844\" id=\"E1\" style=\"stroke: #383838; stroke-width: 1.5;\" width=\"91\" x=\"7\" y=\"7\"/><text fill=\"#000000\" font-family=\"sans-serif\" font-size=\"12\" font-style=\"italic\" lengthAdjust=\"spacingAndGlyphs\" textLength=\"77\" x=\"14\" y=\"23.1387\">«action def»</text><text fill=\"#000000\" font-family=\"sans-serif\" font-size=\"12\" lengthAdjust=\"spacingAndGlyphs\" textLength=\"80\" x=\"12.5\" y=\"37.1074\">DecisionTest</text><line style=\"stroke: #383838; stroke-width: 1.5;\" x1=\"8\" x2=\"97\" y1=\"44.9375\" y2=\"44.9375\"/><text fill=\"#000000\" font-family=\"sans-serif\" font-size=\"11\" lengthAdjust=\"spacingAndGlyphs\" textLength=\"6\" x=\"13\" y=\"75.9526\">x</text><line style=\"stroke: #383838; stroke-width: 1.0;\" x1=\"8\" x2=\"25\" y1=\"59.3398\" y2=\"59.3398\"/><text fill=\"#000000\" font-family=\"sans-serif\" font-size=\"11\" lengthAdjust=\"spacingAndGlyphs\" textLength=\"55\" x=\"25\" y=\"62.6479\">attributes</text><line style=\"stroke: #383838; stroke-width: 1.0;\" x1=\"80\" x2=\"97\" y1=\"59.3398\" y2=\"59.3398\"/><text fill=\"#000000\" font-family=\"sans-serif\" font-size=\"11\" lengthAdjust=\"spacingAndGlyphs\" textLength=\"14\" x=\"13\" y=\"105.562\">A1</text><text fill=\"#000000\" font-family=\"sans-serif\" font-size=\"11\" lengthAdjust=\"spacingAndGlyphs\" textLength=\"14\" x=\"13\" y=\"118.3667\">A2</text><text fill=\"#000000\" font-family=\"sans-serif\" font-size=\"11\" lengthAdjust=\"spacingAndGlyphs\" textLength=\"14\" x=\"13\" y=\"131.1714\">A3</text><line style=\"stroke: #383838; stroke-width: 1.0;\" x1=\"8\" x2=\"32\" y1=\"88.9492\" y2=\"88.9492\"/><text fill=\"#000000\" font-family=\"sans-serif\" font-size=\"11\" lengthAdjust=\"spacingAndGlyphs\" textLength=\"41\" x=\"32\" y=\"92.2573\">actions</text><line style=\"stroke: #383838; stroke-width: 1.0;\" x1=\"73\" x2=\"97\" y1=\"88.9492\" y2=\"88.9492\"/><text fill=\"#000000\" font-family=\"sans-serif\" font-size=\"11\" lengthAdjust=\"spacingAndGlyphs\" textLength=\"32\" x=\"13\" y=\"160.7808\">test x</text><line style=\"stroke: #383838; stroke-width: 1.0;\" x1=\"8\" x2=\"11\" y1=\"144.168\" y2=\"144.168\"/><text fill=\"#000000\" font-family=\"sans-serif\" font-size=\"11\" lengthAdjust=\"spacingAndGlyphs\" textLength=\"83\" x=\"11\" y=\"147.4761\">decisionNodes</text><line style=\"stroke: #383838; stroke-width: 1.0;\" x1=\"94\" x2=\"97\" y1=\"144.168\" y2=\"144.168\"/><text fill=\"#000000\" font-family=\"sans-serif\" font-size=\"11\" lengthAdjust=\"spacingAndGlyphs\" textLength=\"8\" x=\"13\" y=\"190.3901\">S</text><line style=\"stroke: #383838; stroke-width: 1.0;\" x1=\"8\" x2=\"22\" y1=\"173.7773\" y2=\"173.7773\"/><text fill=\"#000000\" font-family=\"sans-serif\" font-size=\"11\" lengthAdjust=\"spacingAndGlyphs\" textLength=\"61\" x=\"22\" y=\"177.0854\">transitions</text><line style=\"stroke: #383838; stroke-width: 1.0;\" x1=\"83\" x2=\"97\" y1=\"173.7773\" y2=\"173.7773\"/></a><!--MD5=[6308c8bec8c009e32ba2e98e3efa593a]\n",
       "@startuml\r\n",
       "skinparam linetype ortho\r\n",
       "skinparam monochrome true\r\n",
       "skinparam classbackgroundcolor white\r\n",
       "skinparam shadowing false\r\n",
       "skinparam wrapWidth 300\r\n",
       "hide circle\r\n",
       "\r\n",
       "comp def \"DecisionTest\" as E1  <<(T,blue)action def>> [[psysml:a1000395-17a0-47e2-a13d-a24f0cfe83d5 ]] {\r\n",
       "- - attributes - -\r\n",
       "x\r\n",
       "- - actions - -\r\n",
       "A1\r\n",
       "A2\r\n",
       "A3\r\n",
       "- - decisionNodes - -\r\n",
       "test x\r\n",
       "- - transitions - -\r\n",
       "S\r\n",
       "}\r\n",
       "@enduml\r\n",
       "\n",
       "PlantUML version 1.2020.13(Sat Jun 13 12:26:38 UTC 2020)\n",
       "(EPL source distribution)\n",
       "Java Runtime: OpenJDK Runtime Environment\n",
       "JVM: OpenJDK 64-Bit Server VM\n",
       "Default Encoding: UTF-8\n",
       "Language: en\n",
       "Country: null\n",
       "--></g></svg>"
      ]
     },
     "execution_count": 52,
     "metadata": {},
     "output_type": "execute_result"
    }
   ],
   "source": [
    "%viz --style=\"ORTHOLINE\" --view=\"Tree\" \"DecisionTest\""
   ]
  },
  {
   "cell_type": "code",
   "execution_count": 53,
   "id": "confused-desperate",
   "metadata": {
    "execution": {
     "iopub.execute_input": "2021-03-26T13:03:00.504406Z",
     "iopub.status.busy": "2021-03-26T13:03:00.503893Z",
     "iopub.status.idle": "2021-03-26T13:03:00.510959Z",
     "shell.execute_reply": "2021-03-26T13:03:00.510630Z"
    }
   },
   "outputs": [
    {
     "data": {
      "image/svg+xml": [
       "<?xml version=\"1.0\" encoding=\"UTF-8\" standalone=\"no\"?><svg xmlns=\"http://www.w3.org/2000/svg\" xmlns:xlink=\"http://www.w3.org/1999/xlink\" contentScriptType=\"application/ecmascript\" contentStyleType=\"text/css\" height=\"12px\" preserveAspectRatio=\"none\" style=\"width:12px;height:12px;\" version=\"1.1\" viewBox=\"0 0 12 12\" width=\"12px\" zoomAndPan=\"magnify\"><defs/><g><!--MD5=[97d6f38768b311333d388e66b2b27985]\n",
       "@startuml\r\n",
       "skinparam linetype ortho\r\n",
       "skinparam monochrome true\r\n",
       "skinparam classbackgroundcolor white\r\n",
       "skinparam shadowing false\r\n",
       "skinparam wrapWidth 300\r\n",
       "hide circle\r\n",
       "\r\n",
       "@enduml\r\n",
       "\n",
       "PlantUML version 1.2020.13(Sat Jun 13 12:26:38 UTC 2020)\n",
       "(EPL source distribution)\n",
       "Java Runtime: OpenJDK Runtime Environment\n",
       "JVM: OpenJDK 64-Bit Server VM\n",
       "Default Encoding: UTF-8\n",
       "Language: en\n",
       "Country: null\n",
       "--></g></svg>"
      ]
     },
     "execution_count": 53,
     "metadata": {},
     "output_type": "execute_result"
    }
   ],
   "source": [
    "%viz --style=\"ORTHOLINE\" --view=\"State\" \"DecisionTest\""
   ]
  },
  {
   "cell_type": "code",
   "execution_count": 54,
   "id": "demanding-magnet",
   "metadata": {
    "execution": {
     "iopub.execute_input": "2021-03-26T13:03:00.561398Z",
     "iopub.status.busy": "2021-03-26T13:03:00.561010Z",
     "iopub.status.idle": "2021-03-26T13:03:00.569999Z",
     "shell.execute_reply": "2021-03-26T13:03:00.569423Z"
    }
   },
   "outputs": [
    {
     "data": {
      "image/svg+xml": [
       "<?xml version=\"1.0\" encoding=\"UTF-8\" standalone=\"no\"?><svg xmlns=\"http://www.w3.org/2000/svg\" xmlns:xlink=\"http://www.w3.org/1999/xlink\" contentScriptType=\"application/ecmascript\" contentStyleType=\"text/css\" height=\"60px\" preserveAspectRatio=\"none\" style=\"width:109px;height:60px;\" version=\"1.1\" viewBox=\"0 0 109 60\" width=\"109px\" zoomAndPan=\"magnify\"><defs/><g><g id=\"E1\"><a href=\"psysml:a1000395-17a0-47e2-a13d-a24f0cfe83d5\" target=\"_top\" title=\"psysml:a1000395-17a0-47e2-a13d-a24f0cfe83d5\" xlink:actuate=\"onRequest\" xlink:href=\"psysml:a1000395-17a0-47e2-a13d-a24f0cfe83d5\" xlink:show=\"new\" xlink:title=\"psysml:a1000395-17a0-47e2-a13d-a24f0cfe83d5\" xlink:type=\"simple\"><rect fill=\"#FFFFFF\" height=\"42.9375\" id=\"E1\" style=\"stroke: #383838; stroke-width: 1.5;\" width=\"91\" x=\"7\" y=\"7\"/><rect fill=\"#F8F8F8\" height=\"37.9375\" style=\"stroke: #383838; stroke-width: 1.5;\" width=\"91\" x=\"7\" y=\"7\"/><text fill=\"#000000\" font-family=\"sans-serif\" font-size=\"12\" font-style=\"italic\" lengthAdjust=\"spacingAndGlyphs\" textLength=\"77\" x=\"14\" y=\"23.1387\">«action def»</text><text fill=\"#000000\" font-family=\"sans-serif\" font-size=\"12\" lengthAdjust=\"spacingAndGlyphs\" textLength=\"80\" x=\"12.5\" y=\"37.1074\">DecisionTest</text></a></g><!--MD5=[2d88f2bd26cbbc43ebad98c6f1c1df3c]\n",
       "@startuml\r\n",
       "skinparam ranksep 8\r\n",
       "skinparam rectangle {\r\n",
       " backgroundColor<<block>> LightGreen\r\n",
       "}\r\n",
       "skinparam linetype ortho\r\n",
       "skinparam monochrome true\r\n",
       "skinparam classbackgroundcolor white\r\n",
       "skinparam shadowing false\r\n",
       "skinparam wrapWidth 300\r\n",
       "hide circle\r\n",
       "\r\n",
       "def \"DecisionTest\" as E1  <<(T,blue)action def>> [[psysml:a1000395-17a0-47e2-a13d-a24f0cfe83d5 ]] \r\n",
       "@enduml\r\n",
       "\n",
       "PlantUML version 1.2020.13(Sat Jun 13 12:26:38 UTC 2020)\n",
       "(EPL source distribution)\n",
       "Java Runtime: OpenJDK Runtime Environment\n",
       "JVM: OpenJDK 64-Bit Server VM\n",
       "Default Encoding: UTF-8\n",
       "Language: en\n",
       "Country: null\n",
       "--></g></svg>"
      ]
     },
     "execution_count": 54,
     "metadata": {},
     "output_type": "execute_result"
    }
   ],
   "source": [
    "%viz --style=\"ORTHOLINE\" --view=\"Interconnection\" \"DecisionTest\""
   ]
  },
  {
   "cell_type": "code",
   "execution_count": 55,
   "id": "outdoor-providence",
   "metadata": {
    "execution": {
     "iopub.execute_input": "2021-03-26T13:03:00.621300Z",
     "iopub.status.busy": "2021-03-26T13:03:00.620955Z",
     "iopub.status.idle": "2021-03-26T13:03:00.632137Z",
     "shell.execute_reply": "2021-03-26T13:03:00.631024Z"
    }
   },
   "outputs": [
    {
     "data": {
      "image/svg+xml": [
       "<?xml version=\"1.0\" encoding=\"UTF-8\" standalone=\"no\"?><svg xmlns=\"http://www.w3.org/2000/svg\" xmlns:xlink=\"http://www.w3.org/1999/xlink\" contentScriptType=\"application/ecmascript\" contentStyleType=\"text/css\" height=\"304px\" preserveAspectRatio=\"none\" style=\"width:871px;height:304px;background:#000000;\" version=\"1.1\" viewBox=\"0 0 871 304\" width=\"871px\" zoomAndPan=\"magnify\"><defs/><g><rect fill=\"#0B0D03\" height=\"1\" style=\"stroke: #0B0D03; stroke-width: 1.0;\" width=\"1\" x=\"0\" y=\"0\"/><rect fill=\"#33FF02\" height=\"21.2969\" style=\"stroke: #33FF02; stroke-width: 1.0;\" width=\"864\" x=\"5\" y=\"5\"/><text fill=\"#000000\" font-family=\"sans-serif\" font-size=\"14\" font-weight=\"bold\" lengthAdjust=\"spacingAndGlyphs\" textLength=\"178\" x=\"6\" y=\"20\">[From string (line 15) ]</text><text fill=\"#33FF02\" font-family=\"sans-serif\" font-size=\"14\" font-weight=\"bold\" lengthAdjust=\"spacingAndGlyphs\" textLength=\"0\" x=\"10\" y=\"40.2969\"/><text fill=\"#33FF02\" font-family=\"sans-serif\" font-size=\"14\" font-weight=\"bold\" lengthAdjust=\"spacingAndGlyphs\" textLength=\"79\" x=\"5\" y=\"56.5938\">@startuml</text><text fill=\"#33FF02\" font-family=\"sans-serif\" font-size=\"14\" font-weight=\"bold\" lengthAdjust=\"spacingAndGlyphs\" textLength=\"165\" x=\"5\" y=\"72.8906\">skinparam ranksep 8</text><text fill=\"#33FF02\" font-family=\"sans-serif\" font-size=\"14\" font-weight=\"bold\" lengthAdjust=\"spacingAndGlyphs\" textLength=\"197\" x=\"5\" y=\"89.1875\">skinparam linetype ortho</text><text fill=\"#33FF02\" font-family=\"sans-serif\" font-size=\"14\" font-weight=\"bold\" lengthAdjust=\"spacingAndGlyphs\" textLength=\"228\" x=\"5\" y=\"105.4844\">skinparam monochrome true</text><text fill=\"#33FF02\" font-family=\"sans-serif\" font-size=\"14\" font-weight=\"bold\" lengthAdjust=\"spacingAndGlyphs\" textLength=\"309\" x=\"5\" y=\"121.7813\">skinparam classbackgroundcolor white</text><text fill=\"#33FF02\" font-family=\"sans-serif\" font-size=\"14\" font-weight=\"bold\" lengthAdjust=\"spacingAndGlyphs\" textLength=\"215\" x=\"5\" y=\"138.0781\">skinparam shadowing false</text><text fill=\"#33FF02\" font-family=\"sans-serif\" font-size=\"14\" font-weight=\"bold\" lengthAdjust=\"spacingAndGlyphs\" textLength=\"206\" x=\"5\" y=\"154.375\">skinparam wrapWidth 300</text><text fill=\"#33FF02\" font-family=\"sans-serif\" font-size=\"14\" font-weight=\"bold\" lengthAdjust=\"spacingAndGlyphs\" textLength=\"82\" x=\"5\" y=\"170.6719\">hide circle</text><text fill=\"#33FF02\" font-family=\"sans-serif\" font-size=\"14\" font-weight=\"bold\" lengthAdjust=\"spacingAndGlyphs\" textLength=\"0\" x=\"10\" y=\"186.9688\"/><text fill=\"#33FF02\" font-family=\"sans-serif\" font-size=\"14\" font-weight=\"bold\" lengthAdjust=\"spacingAndGlyphs\" textLength=\"864\" x=\"5\" y=\"203.2656\">rec def \"DecisionTest\" as E1  &lt;&lt;(T,blue)action def&gt;&gt; [[psysml:a1000395-17a0-47e2-a13d-a24f0cfe83d5 ]] {</text><text fill=\"#33FF02\" font-family=\"sans-serif\" font-size=\"14\" font-weight=\"bold\" lengthAdjust=\"spacingAndGlyphs\" textLength=\"616\" x=\"5\" y=\"219.5625\">portout \"$result\" as E2  [[psysml:7254dab9-2ab0-4b4a-abf0-a8118207784b ]]</text><text fill=\"#33FF02\" font-family=\"sans-serif\" font-size=\"14\" font-weight=\"bold\" lengthAdjust=\"spacingAndGlyphs\" textLength=\"862\" x=\"5\" y=\"235.8594\">rec usage \"test x\" as E3  &lt;&lt;(T,blue)decisionNode&gt;&gt; [[psysml:7423d99a-f58c-40be-9ad8-b7209845a744 ]] {</text><text fill=\"#33FF02\" font-family=\"sans-serif\" font-size=\"14\" font-weight=\"bold\" lengthAdjust=\"spacingAndGlyphs\" textLength=\"10\" x=\"5\" y=\"252.1563\">}</text><text fill=\"#33FF02\" font-family=\"sans-serif\" font-size=\"14\" font-weight=\"bold\" lengthAdjust=\"spacingAndGlyphs\" textLength=\"0\" x=\"10\" y=\"268.4531\"/><text fill=\"#33FF02\" font-family=\"sans-serif\" font-size=\"14\" font-weight=\"bold\" lengthAdjust=\"spacingAndGlyphs\" textLength=\"10\" x=\"5\" y=\"284.75\">{</text><text fill=\"#FF0000\" font-family=\"sans-serif\" font-size=\"14\" font-weight=\"bold\" lengthAdjust=\"spacingAndGlyphs\" textLength=\"106\" x=\"10\" y=\"301.0469\">Syntax Error?</text><!--MD5=[6970488b1d189f8144cc5811a7764796]\n",
       "@startuml\r\n",
       "skinparam ranksep 8\r\n",
       "skinparam linetype ortho\r\n",
       "skinparam monochrome true\r\n",
       "skinparam classbackgroundcolor white\r\n",
       "skinparam shadowing false\r\n",
       "skinparam wrapWidth 300\r\n",
       "hide circle\r\n",
       "\r\n",
       "rec def \"DecisionTest\" as E1  <<(T,blue)action def>> [[psysml:a1000395-17a0-47e2-a13d-a24f0cfe83d5 ]] {\r\n",
       "portout \"$result\" as E2  [[psysml:7254dab9-2ab0-4b4a-abf0-a8118207784b ]] \r\n",
       "rec usage \"test x\" as E3  <<(T,blue)decisionNode>> [[psysml:7423d99a-f58c-40be-9ad8-b7209845a744 ]] {\r\n",
       "}\r\n",
       "\r\n",
       "{\r\n",
       "portout \"$result\" as E4  [[psysml:bceec577-4538-432a-b269-09d95bc9a7ff ]] \r\n",
       "portin \"$x\" as E5  [[psysml:8234b737-8b11-4286-80d5-041d60fcfb58 ]] \r\n",
       "portin \"$y\" as E6  [[psysml:7c1f2e2e-5ea9-440e-a0d7-bde68b741d93 ]] \r\n",
       "portout \"$result\" as E7  [[psysml:a1e656b7-cadc-4b3b-a176-c8c2724f8a9f ]] \r\n",
       "}\r\n",
       "\r\n",
       "{\r\n",
       "portout \"$result\" as E8  [[psysml:5e578666-287e-4471-a202-0fa6d9af79c3 ]] \r\n",
       "portin \"$x\" as E9  [[psysml:2e73bbcc-e1fb-462b-9f93-4a649e4b75e6 ]] \r\n",
       "portin \"$y\" as E10  [[psysml:167c4655-6099-4dd6-a555-0c294c9d5979 ]] \r\n",
       "portout \"$result\" as E11  [[psysml:c40f3f95-b4a1-4b20-9a7d-2c01b041f687 ]] \r\n",
       "}\r\n",
       "\r\n",
       "{\r\n",
       "}\r\n",
       "\r\n",
       "{\r\n",
       "}\r\n",
       "\r\n",
       "{\r\n",
       "portout \"$result\" as E12  [[psysml:9e913d35-b492-435f-9373-c501110f1eb9 ]] \r\n",
       "}\r\n",
       "\r\n",
       "{\r\n",
       "portout \"$result\" as E13  [[psysml:158e60b3-268a-4c98-b93c-7961067d80aa ]] \r\n",
       "}\r\n",
       "\r\n",
       "rec usage \"A1\" as E14  <<(T,blue)action>> [[psysml:eb7d07f9-3793-4a0f-a0fd-eb934e5bd3c4 ]] {\r\n",
       "}\r\n",
       "\r\n",
       "rec usage \"A2\" as E15  <<(T,blue)action>> [[psysml:dabafcbf-a70a-41b1-a12f-b84f33147f9e ]] {\r\n",
       "}\r\n",
       "\r\n",
       "rec usage \"A3\" as E16  <<(T,blue)action>> [[psysml:b33bccfd-da91-4304-87b6-52ca1fd70cda ]] {\r\n",
       "}\r\n",
       "\r\n",
       "rec usage \"S\" as E17  <<(T,blue)transition>> [[psysml:b992d367-0404-4f63-871a-2665bf27ec50 ]] {\r\n",
       "rec usage \"A1\" as E18  <<(T,blue)action>> [[psysml:eb7d07f9-3793-4a0f-a0fd-eb934e5bd3c4 ]] {\r\n",
       "}\r\n",
       "\r\n",
       "portout \"$result\" as E19  [[psysml:6c1c6685-5e76-423a-8864-05a29151138c ]] \r\n",
       "portin \"$x\" as E20  [[psysml:c04f5b6e-c0c0-4f8c-b615-27e7186d2d69 ]] \r\n",
       "portin \"$y\" as E21  [[psysml:9909dfe5-9552-4cba-a2bc-4098d95f63c2 ]] \r\n",
       "portout \"$result\" as E22  [[psysml:bcbff8ec-917c-48b5-9f11-9f30a636696f ]] \r\n",
       "}\r\n",
       "\r\n",
       "rec usage \"A3\" as E23  <<(T,blue)action>> [[psysml:b33bccfd-da91-4304-87b6-52ca1fd70cda ]] {\r\n",
       "}\r\n",
       "\r\n",
       "{\r\n",
       "portout \"$result\" as E24  [[psysml:361e6a6e-e017-4926-975f-092030fcbf35 ]] \r\n",
       "portin \"$x\" as E25  [[psysml:01ce4d67-3e05-4f8c-92a8-b88c5ffa81ca ]] \r\n",
       "portin \"$y\" as E26  [[psysml:9a2f800a-bedb-42f6-8036-b5924649c324 ]] \r\n",
       "portout \"$result\" as E27  [[psysml:320da7bf-4cff-49a0-90e2-2e9a2a898b7b ]] \r\n",
       "}\r\n",
       "\r\n",
       "}\r\n",
       "\r\n",
       "@enduml\r\n",
       "\n",
       "PlantUML version 1.2020.13(Sat Jun 13 12:26:38 UTC 2020)\n",
       "(EPL source distribution)\n",
       "Java Runtime: OpenJDK Runtime Environment\n",
       "JVM: OpenJDK 64-Bit Server VM\n",
       "Default Encoding: UTF-8\n",
       "Language: en\n",
       "Country: null\n",
       "--></g></svg>"
      ]
     },
     "execution_count": 55,
     "metadata": {},
     "output_type": "execute_result"
    }
   ],
   "source": [
    "%viz --style=\"ORTHOLINE\" --view=\"Action\" \"DecisionTest\""
   ]
  },
  {
   "cell_type": "code",
   "execution_count": 56,
   "id": "hungry-acquisition",
   "metadata": {
    "execution": {
     "iopub.execute_input": "2021-03-26T13:03:00.684455Z",
     "iopub.status.busy": "2021-03-26T13:03:00.683829Z",
     "iopub.status.idle": "2021-03-26T13:03:00.748638Z",
     "shell.execute_reply": "2021-03-26T13:03:00.748945Z"
    }
   },
   "outputs": [
    {
     "data": {
      "image/svg+xml": [
       "<?xml version=\"1.0\" encoding=\"UTF-8\" standalone=\"no\"?><svg xmlns=\"http://www.w3.org/2000/svg\" xmlns:xlink=\"http://www.w3.org/1999/xlink\" contentScriptType=\"application/ecmascript\" contentStyleType=\"text/css\" height=\"207px\" preserveAspectRatio=\"none\" style=\"width:109px;height:207px;\" version=\"1.1\" viewBox=\"0 0 109 207\" width=\"109px\" zoomAndPan=\"magnify\"><defs/><g><!--MD5=[43c9051892ef23e1a46a86907403d788]\n",
       "class E1--><a href=\"psysml:a1000395-17a0-47e2-a13d-a24f0cfe83d5\" target=\"_top\" title=\"psysml:a1000395-17a0-47e2-a13d-a24f0cfe83d5\" xlink:actuate=\"onRequest\" xlink:href=\"psysml:a1000395-17a0-47e2-a13d-a24f0cfe83d5\" xlink:show=\"new\" xlink:title=\"psysml:a1000395-17a0-47e2-a13d-a24f0cfe83d5\" xlink:type=\"simple\"><rect fill=\"#FFFFFF\" height=\"189.9844\" id=\"E1\" style=\"stroke: #383838; stroke-width: 1.5;\" width=\"91\" x=\"7\" y=\"7\"/><text fill=\"#000000\" font-family=\"sans-serif\" font-size=\"12\" font-style=\"italic\" lengthAdjust=\"spacingAndGlyphs\" textLength=\"77\" x=\"14\" y=\"23.1387\">«action def»</text><text fill=\"#000000\" font-family=\"sans-serif\" font-size=\"12\" lengthAdjust=\"spacingAndGlyphs\" textLength=\"80\" x=\"12.5\" y=\"37.1074\">DecisionTest</text><line style=\"stroke: #383838; stroke-width: 1.5;\" x1=\"8\" x2=\"97\" y1=\"44.9375\" y2=\"44.9375\"/><text fill=\"#000000\" font-family=\"sans-serif\" font-size=\"11\" lengthAdjust=\"spacingAndGlyphs\" textLength=\"6\" x=\"13\" y=\"75.9526\">x</text><line style=\"stroke: #383838; stroke-width: 1.0;\" x1=\"8\" x2=\"25\" y1=\"59.3398\" y2=\"59.3398\"/><text fill=\"#000000\" font-family=\"sans-serif\" font-size=\"11\" lengthAdjust=\"spacingAndGlyphs\" textLength=\"55\" x=\"25\" y=\"62.6479\">attributes</text><line style=\"stroke: #383838; stroke-width: 1.0;\" x1=\"80\" x2=\"97\" y1=\"59.3398\" y2=\"59.3398\"/><text fill=\"#000000\" font-family=\"sans-serif\" font-size=\"11\" lengthAdjust=\"spacingAndGlyphs\" textLength=\"14\" x=\"13\" y=\"105.562\">A1</text><text fill=\"#000000\" font-family=\"sans-serif\" font-size=\"11\" lengthAdjust=\"spacingAndGlyphs\" textLength=\"14\" x=\"13\" y=\"118.3667\">A2</text><text fill=\"#000000\" font-family=\"sans-serif\" font-size=\"11\" lengthAdjust=\"spacingAndGlyphs\" textLength=\"14\" x=\"13\" y=\"131.1714\">A3</text><line style=\"stroke: #383838; stroke-width: 1.0;\" x1=\"8\" x2=\"32\" y1=\"88.9492\" y2=\"88.9492\"/><text fill=\"#000000\" font-family=\"sans-serif\" font-size=\"11\" lengthAdjust=\"spacingAndGlyphs\" textLength=\"41\" x=\"32\" y=\"92.2573\">actions</text><line style=\"stroke: #383838; stroke-width: 1.0;\" x1=\"73\" x2=\"97\" y1=\"88.9492\" y2=\"88.9492\"/><text fill=\"#000000\" font-family=\"sans-serif\" font-size=\"11\" lengthAdjust=\"spacingAndGlyphs\" textLength=\"32\" x=\"13\" y=\"160.7808\">test x</text><line style=\"stroke: #383838; stroke-width: 1.0;\" x1=\"8\" x2=\"11\" y1=\"144.168\" y2=\"144.168\"/><text fill=\"#000000\" font-family=\"sans-serif\" font-size=\"11\" lengthAdjust=\"spacingAndGlyphs\" textLength=\"83\" x=\"11\" y=\"147.4761\">decisionNodes</text><line style=\"stroke: #383838; stroke-width: 1.0;\" x1=\"94\" x2=\"97\" y1=\"144.168\" y2=\"144.168\"/><text fill=\"#000000\" font-family=\"sans-serif\" font-size=\"11\" lengthAdjust=\"spacingAndGlyphs\" textLength=\"8\" x=\"13\" y=\"190.3901\">S</text><line style=\"stroke: #383838; stroke-width: 1.0;\" x1=\"8\" x2=\"22\" y1=\"173.7773\" y2=\"173.7773\"/><text fill=\"#000000\" font-family=\"sans-serif\" font-size=\"11\" lengthAdjust=\"spacingAndGlyphs\" textLength=\"61\" x=\"22\" y=\"177.0854\">transitions</text><line style=\"stroke: #383838; stroke-width: 1.0;\" x1=\"83\" x2=\"97\" y1=\"173.7773\" y2=\"173.7773\"/></a><!--MD5=[6308c8bec8c009e32ba2e98e3efa593a]\n",
       "@startuml\r\n",
       "skinparam linetype ortho\r\n",
       "skinparam monochrome true\r\n",
       "skinparam classbackgroundcolor white\r\n",
       "skinparam shadowing false\r\n",
       "skinparam wrapWidth 300\r\n",
       "hide circle\r\n",
       "\r\n",
       "comp def \"DecisionTest\" as E1  <<(T,blue)action def>> [[psysml:a1000395-17a0-47e2-a13d-a24f0cfe83d5 ]] {\r\n",
       "- - attributes - -\r\n",
       "x\r\n",
       "- - actions - -\r\n",
       "A1\r\n",
       "A2\r\n",
       "A3\r\n",
       "- - decisionNodes - -\r\n",
       "test x\r\n",
       "- - transitions - -\r\n",
       "S\r\n",
       "}\r\n",
       "@enduml\r\n",
       "\n",
       "PlantUML version 1.2020.13(Sat Jun 13 12:26:38 UTC 2020)\n",
       "(EPL source distribution)\n",
       "Java Runtime: OpenJDK Runtime Environment\n",
       "JVM: OpenJDK 64-Bit Server VM\n",
       "Default Encoding: UTF-8\n",
       "Language: en\n",
       "Country: null\n",
       "--></g></svg>"
      ]
     },
     "execution_count": 56,
     "metadata": {},
     "output_type": "execute_result"
    }
   ],
   "source": [
    "%viz --style=\"ORTHOLINE\" --view=\"Sequence\" \"DecisionTest\""
   ]
  },
  {
   "cell_type": "code",
   "execution_count": 57,
   "id": "eight-seller",
   "metadata": {
    "execution": {
     "iopub.execute_input": "2021-03-26T13:03:00.802036Z",
     "iopub.status.busy": "2021-03-26T13:03:00.801306Z",
     "iopub.status.idle": "2021-03-26T13:03:00.814165Z",
     "shell.execute_reply": "2021-03-26T13:03:00.812993Z"
    }
   },
   "outputs": [
    {
     "data": {
      "image/svg+xml": [
       "<?xml version=\"1.0\" encoding=\"UTF-8\" standalone=\"no\"?><svg xmlns=\"http://www.w3.org/2000/svg\" xmlns:xlink=\"http://www.w3.org/1999/xlink\" contentScriptType=\"application/ecmascript\" contentStyleType=\"text/css\" height=\"288px\" preserveAspectRatio=\"none\" style=\"width:871px;height:288px;background:#000000;\" version=\"1.1\" viewBox=\"0 0 871 288\" width=\"871px\" zoomAndPan=\"magnify\"><defs/><g><rect fill=\"#141D0C\" height=\"1\" style=\"stroke: #141D0C; stroke-width: 1.0;\" width=\"1\" x=\"0\" y=\"0\"/><rect fill=\"#33FF02\" height=\"21.2969\" style=\"stroke: #33FF02; stroke-width: 1.0;\" width=\"864\" x=\"5\" y=\"5\"/><text fill=\"#000000\" font-family=\"sans-serif\" font-size=\"14\" font-weight=\"bold\" lengthAdjust=\"spacingAndGlyphs\" textLength=\"178\" x=\"6\" y=\"20\">[From string (line 14) ]</text><text fill=\"#33FF02\" font-family=\"sans-serif\" font-size=\"14\" font-weight=\"bold\" lengthAdjust=\"spacingAndGlyphs\" textLength=\"0\" x=\"10\" y=\"40.2969\"/><text fill=\"#33FF02\" font-family=\"sans-serif\" font-size=\"14\" font-weight=\"bold\" lengthAdjust=\"spacingAndGlyphs\" textLength=\"79\" x=\"5\" y=\"56.5938\">@startuml</text><text fill=\"#33FF02\" font-family=\"sans-serif\" font-size=\"14\" font-weight=\"bold\" lengthAdjust=\"spacingAndGlyphs\" textLength=\"197\" x=\"5\" y=\"72.8906\">skinparam linetype ortho</text><text fill=\"#33FF02\" font-family=\"sans-serif\" font-size=\"14\" font-weight=\"bold\" lengthAdjust=\"spacingAndGlyphs\" textLength=\"228\" x=\"5\" y=\"89.1875\">skinparam monochrome true</text><text fill=\"#33FF02\" font-family=\"sans-serif\" font-size=\"14\" font-weight=\"bold\" lengthAdjust=\"spacingAndGlyphs\" textLength=\"309\" x=\"5\" y=\"105.4844\">skinparam classbackgroundcolor white</text><text fill=\"#33FF02\" font-family=\"sans-serif\" font-size=\"14\" font-weight=\"bold\" lengthAdjust=\"spacingAndGlyphs\" textLength=\"215\" x=\"5\" y=\"121.7813\">skinparam shadowing false</text><text fill=\"#33FF02\" font-family=\"sans-serif\" font-size=\"14\" font-weight=\"bold\" lengthAdjust=\"spacingAndGlyphs\" textLength=\"206\" x=\"5\" y=\"138.0781\">skinparam wrapWidth 300</text><text fill=\"#33FF02\" font-family=\"sans-serif\" font-size=\"14\" font-weight=\"bold\" lengthAdjust=\"spacingAndGlyphs\" textLength=\"82\" x=\"5\" y=\"154.375\">hide circle</text><text fill=\"#33FF02\" font-family=\"sans-serif\" font-size=\"14\" font-weight=\"bold\" lengthAdjust=\"spacingAndGlyphs\" textLength=\"0\" x=\"10\" y=\"170.6719\"/><text fill=\"#33FF02\" font-family=\"sans-serif\" font-size=\"14\" font-weight=\"bold\" lengthAdjust=\"spacingAndGlyphs\" textLength=\"864\" x=\"5\" y=\"186.9688\">rec def \"DecisionTest\" as E1  &lt;&lt;(T,blue)action def&gt;&gt; [[psysml:a1000395-17a0-47e2-a13d-a24f0cfe83d5 ]] {</text><text fill=\"#33FF02\" font-family=\"sans-serif\" font-size=\"14\" font-weight=\"bold\" lengthAdjust=\"spacingAndGlyphs\" textLength=\"616\" x=\"5\" y=\"203.2656\">portout \"$result\" as E2  [[psysml:7254dab9-2ab0-4b4a-abf0-a8118207784b ]]</text><text fill=\"#33FF02\" font-family=\"sans-serif\" font-size=\"14\" font-weight=\"bold\" lengthAdjust=\"spacingAndGlyphs\" textLength=\"862\" x=\"5\" y=\"219.5625\">rec usage \"test x\" as E3  &lt;&lt;(T,blue)decisionNode&gt;&gt; [[psysml:7423d99a-f58c-40be-9ad8-b7209845a744 ]] {</text><text fill=\"#33FF02\" font-family=\"sans-serif\" font-size=\"14\" font-weight=\"bold\" lengthAdjust=\"spacingAndGlyphs\" textLength=\"10\" x=\"5\" y=\"235.8594\">}</text><text fill=\"#33FF02\" font-family=\"sans-serif\" font-size=\"14\" font-weight=\"bold\" lengthAdjust=\"spacingAndGlyphs\" textLength=\"0\" x=\"10\" y=\"252.1563\"/><text fill=\"#33FF02\" font-family=\"sans-serif\" font-size=\"14\" font-weight=\"bold\" lengthAdjust=\"spacingAndGlyphs\" textLength=\"10\" x=\"5\" y=\"268.4531\">{</text><text fill=\"#FF0000\" font-family=\"sans-serif\" font-size=\"14\" font-weight=\"bold\" lengthAdjust=\"spacingAndGlyphs\" textLength=\"106\" x=\"10\" y=\"284.75\">Syntax Error?</text><!--MD5=[2734cc37b59b18829665d5a8fae6b397]\n",
       "@startuml\r\n",
       "skinparam linetype ortho\r\n",
       "skinparam monochrome true\r\n",
       "skinparam classbackgroundcolor white\r\n",
       "skinparam shadowing false\r\n",
       "skinparam wrapWidth 300\r\n",
       "hide circle\r\n",
       "\r\n",
       "rec def \"DecisionTest\" as E1  <<(T,blue)action def>> [[psysml:a1000395-17a0-47e2-a13d-a24f0cfe83d5 ]] {\r\n",
       "portout \"$result\" as E2  [[psysml:7254dab9-2ab0-4b4a-abf0-a8118207784b ]] \r\n",
       "rec usage \"test x\" as E3  <<(T,blue)decisionNode>> [[psysml:7423d99a-f58c-40be-9ad8-b7209845a744 ]] {\r\n",
       "}\r\n",
       "\r\n",
       "{\r\n",
       "portout \"$result\" as E4  [[psysml:bceec577-4538-432a-b269-09d95bc9a7ff ]] \r\n",
       "portin \"$x\" as E5  [[psysml:8234b737-8b11-4286-80d5-041d60fcfb58 ]] \r\n",
       "portin \"$y\" as E6  [[psysml:7c1f2e2e-5ea9-440e-a0d7-bde68b741d93 ]] \r\n",
       "portout \"$result\" as E7  [[psysml:a1e656b7-cadc-4b3b-a176-c8c2724f8a9f ]] \r\n",
       "}\r\n",
       "\r\n",
       "{\r\n",
       "portout \"$result\" as E8  [[psysml:5e578666-287e-4471-a202-0fa6d9af79c3 ]] \r\n",
       "portin \"$x\" as E9  [[psysml:2e73bbcc-e1fb-462b-9f93-4a649e4b75e6 ]] \r\n",
       "portin \"$y\" as E10  [[psysml:167c4655-6099-4dd6-a555-0c294c9d5979 ]] \r\n",
       "portout \"$result\" as E11  [[psysml:c40f3f95-b4a1-4b20-9a7d-2c01b041f687 ]] \r\n",
       "}\r\n",
       "\r\n",
       "{\r\n",
       "}\r\n",
       "\r\n",
       "{\r\n",
       "}\r\n",
       "\r\n",
       "{\r\n",
       "portout \"$result\" as E12  [[psysml:9e913d35-b492-435f-9373-c501110f1eb9 ]] \r\n",
       "}\r\n",
       "\r\n",
       "{\r\n",
       "portout \"$result\" as E13  [[psysml:158e60b3-268a-4c98-b93c-7961067d80aa ]] \r\n",
       "}\r\n",
       "\r\n",
       "rec usage \"A1\" as E14  <<(T,blue)action>> [[psysml:eb7d07f9-3793-4a0f-a0fd-eb934e5bd3c4 ]] {\r\n",
       "}\r\n",
       "\r\n",
       "rec usage \"A2\" as E15  <<(T,blue)action>> [[psysml:dabafcbf-a70a-41b1-a12f-b84f33147f9e ]] {\r\n",
       "}\r\n",
       "\r\n",
       "rec usage \"A3\" as E16  <<(T,blue)action>> [[psysml:b33bccfd-da91-4304-87b6-52ca1fd70cda ]] {\r\n",
       "}\r\n",
       "\r\n",
       "rec usage \"S\" as E17  <<(T,blue)transition>> [[psysml:b992d367-0404-4f63-871a-2665bf27ec50 ]] {\r\n",
       "rec usage \"A1\" as E18  <<(T,blue)action>> [[psysml:eb7d07f9-3793-4a0f-a0fd-eb934e5bd3c4 ]] {\r\n",
       "}\r\n",
       "\r\n",
       "portout \"$result\" as E19  [[psysml:6c1c6685-5e76-423a-8864-05a29151138c ]] \r\n",
       "portin \"$x\" as E20  [[psysml:c04f5b6e-c0c0-4f8c-b615-27e7186d2d69 ]] \r\n",
       "portin \"$y\" as E21  [[psysml:9909dfe5-9552-4cba-a2bc-4098d95f63c2 ]] \r\n",
       "portout \"$result\" as E22  [[psysml:bcbff8ec-917c-48b5-9f11-9f30a636696f ]] \r\n",
       "}\r\n",
       "\r\n",
       "rec usage \"A3\" as E23  <<(T,blue)action>> [[psysml:b33bccfd-da91-4304-87b6-52ca1fd70cda ]] {\r\n",
       "}\r\n",
       "\r\n",
       "{\r\n",
       "portout \"$result\" as E24  [[psysml:361e6a6e-e017-4926-975f-092030fcbf35 ]] \r\n",
       "portin \"$x\" as E25  [[psysml:01ce4d67-3e05-4f8c-92a8-b88c5ffa81ca ]] \r\n",
       "portin \"$y\" as E26  [[psysml:9a2f800a-bedb-42f6-8036-b5924649c324 ]] \r\n",
       "portout \"$result\" as E27  [[psysml:320da7bf-4cff-49a0-90e2-2e9a2a898b7b ]] \r\n",
       "}\r\n",
       "\r\n",
       "}\r\n",
       "\r\n",
       "@enduml\r\n",
       "\n",
       "PlantUML version 1.2020.13(Sat Jun 13 12:26:38 UTC 2020)\n",
       "(EPL source distribution)\n",
       "Java Runtime: OpenJDK Runtime Environment\n",
       "JVM: OpenJDK 64-Bit Server VM\n",
       "Default Encoding: UTF-8\n",
       "Language: en\n",
       "Country: null\n",
       "--></g></svg>"
      ]
     },
     "execution_count": 57,
     "metadata": {},
     "output_type": "execute_result"
    }
   ],
   "source": [
    "%viz --style=\"ORTHOLINE\" --view=\"MIXED\" \"DecisionTest\""
   ]
  }
 ],
 "metadata": {
  "kernelspec": {
   "display_name": "SysML",
   "language": "sysml",
   "name": "sysml"
  },
  "language_info": {
   "codemirror_mode": "sysml",
   "file_extension": ".sysml",
   "mimetype": "text/x-sysml",
   "name": "SysML",
   "pygments_lexer": "java",
   "version": "1.0.0"
  }
 },
 "nbformat": 4,
 "nbformat_minor": 5
}
