{
 "cells": [
  {
   "cell_type": "markdown",
   "id": "b645c082",
   "metadata": {},
   "source": [
    "# SysML v2 Test Suite\n",
    "\n",
    "This can notebook can be cleared using menu `Edit --> Clear All Outputs` and then all cells can be\n",
    "run using menu `Run --> Run All Cells`.\n",
    "\n",
    "**WARNING**: This file is generated, all modifications here will be ignored.\n"
   ]
  },
  {
   "cell_type": "markdown",
   "id": "ad6e00ac",
   "metadata": {},
   "source": [
    "## File: ../../sysml/src/examples/Simple Tests/DecisionTest.sysml"
   ]
  },
  {
   "cell_type": "code",
   "execution_count": 1,
   "id": "deabc38d",
   "metadata": {
    "execution": {
     "iopub.execute_input": "2024-12-16T03:27:59.264167Z",
     "iopub.status.busy": "2024-12-16T03:27:59.263917Z",
     "iopub.status.idle": "2024-12-16T03:27:59.729897Z",
     "shell.execute_reply": "2024-12-16T03:27:59.729291Z"
    }
   },
   "outputs": [
    {
     "data": {
      "text/plain": [
       "ActionDefinition DecisionTest (24509d73-250a-487a-bcd7-b59ee0863fbf)\n"
      ]
     },
     "execution_count": 1,
     "metadata": {},
     "output_type": "execute_result"
    }
   ],
   "source": [
    "action def DecisionTest {\n",
    "\tattribute x = 1;\n",
    "\t\n",
    "\tdecide 'test x';\n",
    "\tif x == 1 then A1; \n",
    "\tif x > 1 then A2;\n",
    "\telse A3; \n",
    "\t\n",
    "\tthen decide; \n",
    "\tif true then A1;\n",
    "\tif false then A2;\n",
    "\t\n",
    "\taction A1;\n",
    "\taction A2;\n",
    "\taction A3;\n",
    "\t\n",
    "\tsuccession S first A1 \n",
    "\t\tif x == 0 then A2;\n",
    "\t\t\n",
    "\tfirst A3;\n",
    "\t\tif x > 0 then 'test x';\n",
    "}"
   ]
  },
  {
   "cell_type": "code",
   "execution_count": 2,
   "id": "bfc9cd45",
   "metadata": {
    "execution": {
     "iopub.execute_input": "2024-12-16T03:27:59.786578Z",
     "iopub.status.busy": "2024-12-16T03:27:59.786254Z",
     "iopub.status.idle": "2024-12-16T03:28:00.193871Z",
     "shell.execute_reply": "2024-12-16T03:28:00.192624Z"
    }
   },
   "outputs": [
    {
     "data": {
      "image/svg+xml": [
       "<?xml version=\"1.0\" encoding=\"UTF-8\" standalone=\"no\"?><svg xmlns=\"http://www.w3.org/2000/svg\" xmlns:xlink=\"http://www.w3.org/1999/xlink\" contentStyleType=\"text/css\" height=\"470px\" preserveAspectRatio=\"none\" style=\"width:329px;height:470px;background:#FFFFFF;\" version=\"1.1\" viewBox=\"0 0 329 470\" width=\"329px\" zoomAndPan=\"magnify\"><defs/><g><!--MD5=[fbc87193dbaf4d95561dea2c320d4a47]\n",
       "cluster E1--><g id=\"cluster_E1\"><a href=\"psysml:24509d73-250a-487a-bcd7-b59ee0863fbf\" target=\"_top\" title=\"psysml:24509d73-250a-487a-bcd7-b59ee0863fbf\" xlink:actuate=\"onRequest\" xlink:href=\"psysml:24509d73-250a-487a-bcd7-b59ee0863fbf\" xlink:show=\"new\" xlink:title=\"psysml:24509d73-250a-487a-bcd7-b59ee0863fbf\" xlink:type=\"simple\"><rect fill=\"#FFFFFF\" height=\"457\" id=\"E1\" style=\"stroke:#383838;stroke-width:1.5;\" width=\"315\" x=\"7\" y=\"7\"/><text fill=\"#000000\" font-family=\"sans-serif\" font-size=\"12\" font-style=\"italic\" lengthAdjust=\"spacing\" textLength=\"81\" x=\"124\" y=\"23.1387\">«action  def»</text><text fill=\"#000000\" font-family=\"sans-serif\" font-size=\"14\" lengthAdjust=\"spacing\" textLength=\"91\" x=\"119\" y=\"38.9639\">DecisionTest</text><line style=\"stroke:#383838;stroke-width:1.0;\" x1=\"7\" x2=\"322\" y1=\"47.2656\" y2=\"47.2656\"/></a></g><g id=\"elem_E2\"><polygon fill=\"#FFFFFF\" points=\"210,58,222,70,210,82,198,70,210,58\" style=\"stroke:#181818;stroke-width:0.5;\"/></g><g id=\"elem_E3\"><polygon fill=\"#FFFFFF\" points=\"35,169.5,47,181.5,35,193.5,23,181.5,35,169.5\" style=\"stroke:#181818;stroke-width:0.5;\"/></g><g><a href=\"psysml:f539a78a-befd-4456-a49f-f3788a07e7bd\" target=\"_top\" title=\"psysml:f539a78a-befd-4456-a49f-f3788a07e7bd\" xlink:actuate=\"onRequest\" xlink:href=\"psysml:f539a78a-befd-4456-a49f-f3788a07e7bd\" xlink:show=\"new\" xlink:title=\"psysml:f539a78a-befd-4456-a49f-f3788a07e7bd\" xlink:type=\"simple\"><rect fill=\"#FFFFFF\" height=\"45.2656\" id=\"E4\" rx=\"10\" ry=\"10\" style=\"stroke:#383838;stroke-width:1.5;\" width=\"60\" x=\"135\" y=\"281\"/><text fill=\"#000000\" font-family=\"sans-serif\" font-size=\"12\" font-style=\"italic\" lengthAdjust=\"spacing\" textLength=\"53\" x=\"138.5\" y=\"297.1387\">«action»</text><text fill=\"#000000\" font-family=\"sans-serif\" font-size=\"14\" lengthAdjust=\"spacing\" textLength=\"18\" x=\"156\" y=\"312.9639\">A1</text></a></g><g><a href=\"psysml:451b6b51-1ae2-4b81-be73-8fe0566d61d5\" target=\"_top\" title=\"psysml:451b6b51-1ae2-4b81-be73-8fe0566d61d5\" xlink:actuate=\"onRequest\" xlink:href=\"psysml:451b6b51-1ae2-4b81-be73-8fe0566d61d5\" xlink:show=\"new\" xlink:title=\"psysml:451b6b51-1ae2-4b81-be73-8fe0566d61d5\" xlink:type=\"simple\"><rect fill=\"#FFFFFF\" height=\"45.2656\" id=\"E5\" rx=\"10\" ry=\"10\" style=\"stroke:#383838;stroke-width:1.5;\" width=\"60\" x=\"135\" y=\"403\"/><text fill=\"#000000\" font-family=\"sans-serif\" font-size=\"12\" font-style=\"italic\" lengthAdjust=\"spacing\" textLength=\"53\" x=\"138.5\" y=\"419.1387\">«action»</text><text fill=\"#000000\" font-family=\"sans-serif\" font-size=\"14\" lengthAdjust=\"spacing\" textLength=\"18\" x=\"156\" y=\"434.9639\">A2</text></a></g><g><a href=\"psysml:04e53eda-a597-4a9c-96a9-348d67cb9847\" target=\"_top\" title=\"psysml:04e53eda-a597-4a9c-96a9-348d67cb9847\" xlink:actuate=\"onRequest\" xlink:href=\"psysml:04e53eda-a597-4a9c-96a9-348d67cb9847\" xlink:show=\"new\" xlink:title=\"psysml:04e53eda-a597-4a9c-96a9-348d67cb9847\" xlink:type=\"simple\"><rect fill=\"#FFFFFF\" height=\"45.2656\" id=\"E6\" rx=\"10\" ry=\"10\" style=\"stroke:#383838;stroke-width:1.5;\" width=\"60\" x=\"246\" y=\"159\"/><text fill=\"#000000\" font-family=\"sans-serif\" font-size=\"12\" font-style=\"italic\" lengthAdjust=\"spacing\" textLength=\"53\" x=\"249.5\" y=\"175.1387\">«action»</text><text fill=\"#000000\" font-family=\"sans-serif\" font-size=\"14\" lengthAdjust=\"spacing\" textLength=\"18\" x=\"267\" y=\"190.9639\">A3</text></a></g><!--MD5=[4d03bb2d0377dc85ccfab60ff574652b]\n",
       "link E2 to E4--><g id=\"link_E2_E4\"><a href=\"psysml:0e1095c8-d4f6-4449-8c10-0793e56d6528\" target=\"_top\" title=\"psysml:0e1095c8-d4f6-4449-8c10-0793e56d6528\" xlink:actuate=\"onRequest\" xlink:href=\"psysml:0e1095c8-d4f6-4449-8c10-0793e56d6528\" xlink:show=\"new\" xlink:title=\"psysml:0e1095c8-d4f6-4449-8c10-0793e56d6528\" xlink:type=\"simple\"><path d=\"M204.06,76.21 C190.24,88.77 156.2,122.4 144,159 C130.9,198.29 143.31,246.33 153.85,275.66 \" fill=\"none\" id=\"E2-to-E4\" style=\"stroke:#181818;stroke-width:1.0;\"/><polygon fill=\"#181818\" points=\"155.65,280.56,156.2879,270.7318,153.9195,275.869,148.7823,273.5006,155.65,280.56\" style=\"stroke:#181818;stroke-width:1.0;\"/><text fill=\"#000000\" font-family=\"sans-serif\" font-size=\"13\" lengthAdjust=\"spacing\" textLength=\"55\" x=\"145\" y=\"186.0669\">[x == 1]</text></a></g><!--MD5=[dcad52bbbca2fe8adc741ce38b45dc12]\n",
       "link E2 to E5--><g id=\"link_E2_E5\"><a href=\"psysml:0bc69c08-a059-419e-b618-d454e4819a50\" target=\"_top\" title=\"psysml:0bc69c08-a059-419e-b618-d454e4819a50\" xlink:actuate=\"onRequest\" xlink:href=\"psysml:0bc69c08-a059-419e-b618-d454e4819a50\" xlink:show=\"new\" xlink:title=\"psysml:0bc69c08-a059-419e-b618-d454e4819a50\" xlink:type=\"simple\"><path d=\"M210.81,81.23 C214.84,132.49 232.28,359.49 226,373 C220.28,385.32 210,395.75 199.49,403.94 \" fill=\"none\" id=\"E2-to-E5\" style=\"stroke:#181818;stroke-width:1.0;\"/><polygon fill=\"#181818\" points=\"195.3,407.08,204.9,404.88,199.3,404.08,200.1,398.48,195.3,407.08\" style=\"stroke:#181818;stroke-width:1.0;\"/><text fill=\"#000000\" font-family=\"sans-serif\" font-size=\"13\" lengthAdjust=\"spacing\" textLength=\"44\" x=\"223\" y=\"247.0669\">[x &gt; 1]</text></a></g><!--MD5=[e3e28c1befcf002155aa15e1416b4315]\n",
       "link E2 to E6--><g id=\"link_E2_E6\"><a href=\"psysml:7bfaba1c-8598-44bd-a9fd-5f850f0b7fd7\" target=\"_top\" title=\"psysml:7bfaba1c-8598-44bd-a9fd-5f850f0b7fd7\" xlink:actuate=\"onRequest\" xlink:href=\"psysml:7bfaba1c-8598-44bd-a9fd-5f850f0b7fd7\" xlink:show=\"new\" xlink:title=\"psysml:7bfaba1c-8598-44bd-a9fd-5f850f0b7fd7\" xlink:type=\"simple\"><path d=\"M210.55,81.49 C211.58,93.62 214.53,113.87 223,129 C228.38,138.62 236.13,147.59 244.04,155.25 \" fill=\"none\" id=\"E2-to-E6\" style=\"stroke:#181818;stroke-width:1.0;\"/><polygon fill=\"#181818\" points=\"247.92,158.91,244.1077,149.8289,244.279,155.4832,238.6247,155.6545,247.92,158.91\" style=\"stroke:#181818;stroke-width:1.0;\"/></a></g><!--MD5=[2351f337d6de0f557b50152ba70847b5]\n",
       "link E6 to E2--><g id=\"link_E6_E2\"><a href=\"psysml:31538477-4a34-40a9-aec8-5df805757767\" target=\"_top\" title=\"psysml:31538477-4a34-40a9-aec8-5df805757767\" xlink:actuate=\"onRequest\" xlink:href=\"psysml:31538477-4a34-40a9-aec8-5df805757767\" xlink:show=\"new\" xlink:title=\"psysml:31538477-4a34-40a9-aec8-5df805757767\" xlink:type=\"simple\"><path d=\"M262.83,158.65 C249.09,135.85 228.04,100.94 217.13,82.82 \" fill=\"none\" id=\"E6-to-E2\" style=\"stroke:#181818;stroke-width:1.0;\"/><polygon fill=\"#181818\" points=\"214.33,78.18,215.5544,87.9525,216.913,82.4612,222.4043,83.8197,214.33,78.18\" style=\"stroke:#181818;stroke-width:1.0;\"/><text fill=\"#000000\" font-family=\"sans-serif\" font-size=\"13\" lengthAdjust=\"spacing\" textLength=\"44\" x=\"244\" y=\"125.0669\">[x &gt; 0]</text></a></g><!--MD5=[2720a5a1f2c3fca2055b230370638851]\n",
       "link E2 to E3--><g id=\"link_E2_E3\"><a href=\"psysml:df8d299f-9da3-41cd-a9dd-6e3a0d30decc\" target=\"_top\" title=\"psysml:df8d299f-9da3-41cd-a9dd-6e3a0d30decc\" xlink:actuate=\"onRequest\" xlink:href=\"psysml:df8d299f-9da3-41cd-a9dd-6e3a0d30decc\" xlink:show=\"new\" xlink:title=\"psysml:df8d299f-9da3-41cd-a9dd-6e3a0d30decc\" xlink:type=\"simple\"><path d=\"M201.29,73.31 C183.01,78.4 139.7,91.78 108,112 C81.71,128.77 56.41,155.69 43.63,170.28 \" fill=\"none\" id=\"E2-to-E3\" style=\"stroke:#181818;stroke-width:1.0;\"/><polygon fill=\"#181818\" points=\"40.08,174.4,48.9911,170.2057,43.3492,170.6168,42.9381,164.975,40.08,174.4\" style=\"stroke:#181818;stroke-width:1.0;\"/></a></g><!--MD5=[af87c684e3b0d8be13c1a698a818ef1e]\n",
       "link E3 to E4--><g id=\"link_E3_E4\"><a href=\"psysml:131b15c1-7866-4964-88c1-b03f264417a9\" target=\"_top\" title=\"psysml:131b15c1-7866-4964-88c1-b03f264417a9\" xlink:actuate=\"onRequest\" xlink:href=\"psysml:131b15c1-7866-4964-88c1-b03f264417a9\" xlink:show=\"new\" xlink:title=\"psysml:131b15c1-7866-4964-88c1-b03f264417a9\" xlink:type=\"simple\"><path d=\"M39.07,190 C46.61,203.42 63.83,231.9 84,251 C97.71,263.98 115.14,275.56 130.33,284.43 \" fill=\"none\" id=\"E3-to-E4\" style=\"stroke:#181818;stroke-width:1.0;\"/><polygon fill=\"#181818\" points=\"134.96,287.1,129.1557,279.1433,130.6267,284.6055,125.1645,286.0765,134.96,287.1\" style=\"stroke:#181818;stroke-width:1.0;\"/><text fill=\"#000000\" font-family=\"sans-serif\" font-size=\"13\" lengthAdjust=\"spacing\" textLength=\"36\" x=\"85\" y=\"247.0669\">[true]</text></a></g><!--MD5=[0188b64bb0ae78505a997a81836e11e9]\n",
       "link E3 to E5--><g id=\"link_E3_E5\"><a href=\"psysml:825f54b9-3c70-45c0-b332-e5b9a5c4b905\" target=\"_top\" title=\"psysml:825f54b9-3c70-45c0-b332-e5b9a5c4b905\" xlink:actuate=\"onRequest\" xlink:href=\"psysml:825f54b9-3c70-45c0-b332-e5b9a5c4b905\" xlink:show=\"new\" xlink:title=\"psysml:825f54b9-3c70-45c0-b332-e5b9a5c4b905\" xlink:type=\"simple\"><path d=\"M36.26,192.49 C39.65,216.72 50.48,280.01 76,326 C91.62,354.15 116.69,380.91 136.25,399.41 \" fill=\"none\" id=\"E3-to-E5\" style=\"stroke:#181818;stroke-width:1.0;\"/><polygon fill=\"#181818\" points=\"140.08,403,136.231,393.9344,136.4252,399.5879,130.7717,399.7821,140.08,403\" style=\"stroke:#181818;stroke-width:1.0;\"/><text fill=\"#000000\" font-family=\"sans-serif\" font-size=\"13\" lengthAdjust=\"spacing\" textLength=\"40\" x=\"77\" y=\"308.0669\">[false]</text></a></g><!--MD5=[1b7591eae5389033d8d09a9d6721a717]\n",
       "link E4 to E5--><g id=\"link_E4_E5\"><a href=\"psysml:b3779ea1-0b8c-4465-ae00-48dbba13ac92\" target=\"_top\" title=\"psysml:b3779ea1-0b8c-4465-ae00-48dbba13ac92\" xlink:actuate=\"onRequest\" xlink:href=\"psysml:b3779ea1-0b8c-4465-ae00-48dbba13ac92\" xlink:show=\"new\" xlink:title=\"psysml:b3779ea1-0b8c-4465-ae00-48dbba13ac92\" xlink:type=\"simple\"><path d=\"M165,326.23 C165,346.37 165,376.37 165,397.92 \" fill=\"none\" id=\"E4-to-E5\" style=\"stroke:#181818;stroke-width:1.0;\"/><polygon fill=\"#181818\" points=\"165,402.93,169,393.93,165,397.93,161,393.93,165,402.93\" style=\"stroke:#181818;stroke-width:1.0;\"/><text fill=\"#000000\" font-family=\"sans-serif\" font-size=\"13\" lengthAdjust=\"spacing\" textLength=\"55\" x=\"166\" y=\"369.0669\">[x == 0]</text></a></g><!--MD5=[9caee4c7c830fb2a54b6be15b438403a]\n",
       "@startuml\r\n",
       "skin sysmlbw\r\n",
       "skinparam monochrome true\r\n",
       "skinparam wrapWidth 300\r\n",
       "hide circle\r\n",
       " \r\n",
       "rec def \"DecisionTest\" as E1  <<(T,blue) action  def>> [[psysml:24509d73-250a-487a-bcd7-b59ee0863fbf ]] {\r\n",
       "choice \"test x\" as E2  [[psysml:7d99bd45-3b62-4bbf-b126-0db5f71d3136 ]] \r\n",
       "choice \"<s>noname</s>\" as E3  [[psysml:6dee609b-d6ae-4161-97b9-077c5f3bd0c2 ]] \r\n",
       "rec usage \"A1\" as E4  <<(T,blue) action>> [[psysml:f539a78a-befd-4456-a49f-f3788a07e7bd ]] {\r\n",
       "}\r\n",
       "\r\n",
       "rec usage \"A2\" as E5  <<(T,blue) action>> [[psysml:451b6b51-1ae2-4b81-be73-8fe0566d61d5 ]] {\r\n",
       "}\r\n",
       "\r\n",
       "rec usage \"A3\" as E6  <<(T,blue) action>> [[psysml:04e53eda-a597-4a9c-96a9-348d67cb9847 ]] {\r\n",
       "}\r\n",
       "\r\n",
       "}\r\n",
       "\r\n",
       "E2  - -> E4 [[psysml:0e1095c8-d4f6-4449-8c10-0793e56d6528 ]] : [x == 1]\r\n",
       "E2  - -> E5 [[psysml:0bc69c08-a059-419e-b618-d454e4819a50 ]] : [x > 1]\r\n",
       "E2  - -> E6 [[psysml:7bfaba1c-8598-44bd-a9fd-5f850f0b7fd7 ]] \r\n",
       "E2 - -> E3 [[psysml:df8d299f-9da3-41cd-a9dd-6e3a0d30decc ]] \r\n",
       "E3  - -> E4 [[psysml:131b15c1-7866-4964-88c1-b03f264417a9 ]] : [true]\r\n",
       "E3  - -> E5 [[psysml:825f54b9-3c70-45c0-b332-e5b9a5c4b905 ]] : [false]\r\n",
       "E4  - -> E5 [[psysml:b3779ea1-0b8c-4465-ae00-48dbba13ac92 ]] : [x == 0]\r\n",
       "E6  - -> E2 [[psysml:31538477-4a34-40a9-aec8-5df805757767 ]] : [x > 0]\r\n",
       "@enduml\r\n",
       "\n",
       "PlantUML version 1.2022.7(Mon Aug 22 17:01:30 UTC 2022)\n",
       "(EPL source distribution)\n",
       "Java Runtime: OpenJDK Runtime Environment\n",
       "JVM: OpenJDK 64-Bit Server VM\n",
       "Default Encoding: UTF-8\n",
       "Language: en\n",
       "Country: null\n",
       "--></g></svg>"
      ]
     },
     "execution_count": 2,
     "metadata": {},
     "output_type": "execute_result"
    }
   ],
   "source": [
    "%viz --style=\"COMPTREE\" --view=\"Default\" \"DecisionTest\""
   ]
  },
  {
   "cell_type": "code",
   "execution_count": 3,
   "id": "174af40a",
   "metadata": {
    "execution": {
     "iopub.execute_input": "2024-12-16T03:28:00.246458Z",
     "iopub.status.busy": "2024-12-16T03:28:00.246206Z",
     "iopub.status.idle": "2024-12-16T03:28:00.347555Z",
     "shell.execute_reply": "2024-12-16T03:28:00.346703Z"
    }
   },
   "outputs": [
    {
     "data": {
      "image/svg+xml": [
       "<?xml version=\"1.0\" encoding=\"UTF-8\" standalone=\"no\"?><svg xmlns=\"http://www.w3.org/2000/svg\" xmlns:xlink=\"http://www.w3.org/1999/xlink\" contentStyleType=\"text/css\" height=\"507px\" preserveAspectRatio=\"none\" style=\"width:459px;height:507px;background:#FFFFFF;\" version=\"1.1\" viewBox=\"0 0 459 507\" width=\"459px\" zoomAndPan=\"magnify\"><defs/><g><!--MD5=[43c9051892ef23e1a46a86907403d788]\n",
       "class E1--><a href=\"psysml:24509d73-250a-487a-bcd7-b59ee0863fbf\" target=\"_top\" title=\"psysml:24509d73-250a-487a-bcd7-b59ee0863fbf\" xlink:actuate=\"onRequest\" xlink:href=\"psysml:24509d73-250a-487a-bcd7-b59ee0863fbf\" xlink:show=\"new\" xlink:title=\"psysml:24509d73-250a-487a-bcd7-b59ee0863fbf\" xlink:type=\"simple\"><g id=\"elem_E1\"><rect fill=\"#FFFFFF\" height=\"277.3094\" id=\"E1\" style=\"stroke:#181818;stroke-width:0.5;\" width=\"204\" x=\"143\" y=\"7\"/><text fill=\"#000000\" font-family=\"sans-serif\" font-size=\"12\" font-style=\"italic\" lengthAdjust=\"spacing\" textLength=\"81\" x=\"204.5\" y=\"23.1387\">«action  def»</text><text fill=\"#000000\" font-family=\"sans-serif\" font-size=\"14\" lengthAdjust=\"spacing\" textLength=\"91\" x=\"199.5\" y=\"38.9639\">DecisionTest</text><line style=\"stroke:#181818;stroke-width:0.5;\" x1=\"144\" x2=\"346\" y1=\"47.2656\" y2=\"47.2656\"/><text fill=\"#000000\" font-family=\"sans-serif\" font-size=\"14\" lengthAdjust=\"spacing\" textLength=\"36\" x=\"149\" y=\"74.7795\">x = 1</text><text fill=\"#000000\" font-family=\"sans-serif\" font-size=\"14\" font-style=\"italic\" lengthAdjust=\"spacing\" textLength=\"66\" x=\"212\" y=\"59.6123\">attributes</text><line style=\"stroke:#181818;stroke-width:1.0;\" x1=\"144\" x2=\"346\" y1=\"82.0813\" y2=\"82.0813\"/><text fill=\"#000000\" font-family=\"sans-serif\" font-size=\"14\" lengthAdjust=\"spacing\" textLength=\"18\" x=\"149\" y=\"109.5951\">A3</text><text fill=\"#000000\" font-family=\"sans-serif\" font-size=\"14\" font-style=\"italic\" lengthAdjust=\"spacing\" textLength=\"50\" x=\"220\" y=\"94.4279\">actions</text><line style=\"stroke:#181818;stroke-width:1.0;\" x1=\"144\" x2=\"346\" y1=\"116.8969\" y2=\"116.8969\"/><text fill=\"#000000\" font-family=\"sans-serif\" font-size=\"14\" lengthAdjust=\"spacing\" textLength=\"192\" x=\"149\" y=\"144.4107\">noname first test x then null</text><text fill=\"#000000\" font-family=\"sans-serif\" font-size=\"14\" font-style=\"italic\" lengthAdjust=\"spacing\" textLength=\"87\" x=\"201.5\" y=\"129.2436\">successions</text><line style=\"stroke:#181818;stroke-width:1.0;\" x1=\"144\" x2=\"346\" y1=\"151.7125\" y2=\"151.7125\"/><text fill=\"#000000\" font-family=\"sans-serif\" font-size=\"14\" lengthAdjust=\"spacing\" textLength=\"4\" x=\"149\" y=\"179.2264\"> </text><text fill=\"#000000\" font-family=\"sans-serif\" font-size=\"14\" lengthAdjust=\"spacing\" textLength=\"4\" x=\"149\" y=\"195.5232\"> </text><text fill=\"#000000\" font-family=\"sans-serif\" font-size=\"14\" lengthAdjust=\"spacing\" textLength=\"4\" x=\"149\" y=\"211.8201\"> </text><text fill=\"#000000\" font-family=\"sans-serif\" font-size=\"14\" lengthAdjust=\"spacing\" textLength=\"4\" x=\"149\" y=\"228.117\"> </text><text fill=\"#000000\" font-family=\"sans-serif\" font-size=\"14\" lengthAdjust=\"spacing\" textLength=\"4\" x=\"149\" y=\"244.4139\"> </text><text fill=\"#000000\" font-family=\"sans-serif\" font-size=\"14\" lengthAdjust=\"spacing\" textLength=\"4\" x=\"149\" y=\"260.7107\"> </text><text fill=\"#000000\" font-family=\"sans-serif\" font-size=\"14\" lengthAdjust=\"spacing\" textLength=\"9\" x=\"149\" y=\"277.0076\">S</text><text fill=\"#000000\" font-family=\"sans-serif\" font-size=\"14\" font-style=\"italic\" lengthAdjust=\"spacing\" textLength=\"72\" x=\"209\" y=\"164.0592\">transitions</text></g></a><!--MD5=[b4997ac47864f28c2f74865a473b2911]\n",
       "class E2--><a href=\"psysml:7d99bd45-3b62-4bbf-b126-0db5f71d3136\" target=\"_top\" title=\"psysml:7d99bd45-3b62-4bbf-b126-0db5f71d3136\" xlink:actuate=\"onRequest\" xlink:href=\"psysml:7d99bd45-3b62-4bbf-b126-0db5f71d3136\" xlink:show=\"new\" xlink:title=\"psysml:7d99bd45-3b62-4bbf-b126-0db5f71d3136\" xlink:type=\"simple\"><g id=\"elem_E2\"><rect fill=\"#FFFFFF\" height=\"48.2656\" id=\"E2\" rx=\"10\" ry=\"10\" style=\"stroke:#181818;stroke-width:0.5;\" width=\"104\" x=\"7\" y=\"344\"/><text fill=\"#000000\" font-family=\"sans-serif\" font-size=\"12\" font-style=\"italic\" lengthAdjust=\"spacing\" textLength=\"102\" x=\"8\" y=\"360.1387\">«decision node»</text><text fill=\"#000000\" font-family=\"sans-serif\" font-size=\"14\" lengthAdjust=\"spacing\" textLength=\"38\" x=\"36\" y=\"375.9639\">test x</text><line style=\"stroke:#181818;stroke-width:0.5;\" x1=\"8\" x2=\"110\" y1=\"384.2656\" y2=\"384.2656\"/></g></a><!--MD5=[09b614a08d8cba4a07c9adeb5e0fee81]\n",
       "class E3--><a href=\"psysml:6dee609b-d6ae-4161-97b9-077c5f3bd0c2\" target=\"_top\" title=\"psysml:6dee609b-d6ae-4161-97b9-077c5f3bd0c2\" xlink:actuate=\"onRequest\" xlink:href=\"psysml:6dee609b-d6ae-4161-97b9-077c5f3bd0c2\" xlink:show=\"new\" xlink:title=\"psysml:6dee609b-d6ae-4161-97b9-077c5f3bd0c2\" xlink:type=\"simple\"><g id=\"elem_E3\"><rect fill=\"#FFFFFF\" height=\"48.2656\" id=\"E3\" rx=\"10\" ry=\"10\" style=\"stroke:#181818;stroke-width:0.5;\" width=\"104\" x=\"59\" y=\"452\"/><text fill=\"#000000\" font-family=\"sans-serif\" font-size=\"12\" font-style=\"italic\" lengthAdjust=\"spacing\" textLength=\"102\" x=\"60\" y=\"468.1387\">«decision node»</text><text fill=\"#000000\" font-family=\"sans-serif\" font-size=\"14\" lengthAdjust=\"spacing\" text-decoration=\"line-through\" textLength=\"57\" x=\"78.5\" y=\"483.9639\">noname</text><text fill=\"#000000\" font-family=\"sans-serif\" font-size=\"14\" lengthAdjust=\"spacing\" textLength=\"8\" x=\"135.5\" y=\"483.9639\">  </text><line style=\"stroke:#181818;stroke-width:0.5;\" x1=\"60\" x2=\"162\" y1=\"492.2656\" y2=\"492.2656\"/></g></a><!--MD5=[ebbe1d658d1005bcc118a6aa81145e00]\n",
       "class E4--><a href=\"psysml:f539a78a-befd-4456-a49f-f3788a07e7bd\" target=\"_top\" title=\"psysml:f539a78a-befd-4456-a49f-f3788a07e7bd\" xlink:actuate=\"onRequest\" xlink:href=\"psysml:f539a78a-befd-4456-a49f-f3788a07e7bd\" xlink:show=\"new\" xlink:title=\"psysml:f539a78a-befd-4456-a49f-f3788a07e7bd\" xlink:type=\"simple\"><g id=\"elem_E4\"><rect fill=\"#FFFFFF\" height=\"48.2656\" id=\"E4\" rx=\"10\" ry=\"10\" style=\"stroke:#181818;stroke-width:0.5;\" width=\"55\" x=\"217.5\" y=\"344\"/><text fill=\"#000000\" font-family=\"sans-serif\" font-size=\"12\" font-style=\"italic\" lengthAdjust=\"spacing\" textLength=\"53\" x=\"218.5\" y=\"360.1387\">«action»</text><text fill=\"#000000\" font-family=\"sans-serif\" font-size=\"14\" lengthAdjust=\"spacing\" textLength=\"18\" x=\"232\" y=\"375.9639\">A1</text><line style=\"stroke:#181818;stroke-width:0.5;\" x1=\"218.5\" x2=\"271.5\" y1=\"384.2656\" y2=\"384.2656\"/></g></a><!--MD5=[270fce915f116d4de14055a7c1d9a0f3]\n",
       "class E5--><a href=\"psysml:451b6b51-1ae2-4b81-be73-8fe0566d61d5\" target=\"_top\" title=\"psysml:451b6b51-1ae2-4b81-be73-8fe0566d61d5\" xlink:actuate=\"onRequest\" xlink:href=\"psysml:451b6b51-1ae2-4b81-be73-8fe0566d61d5\" xlink:show=\"new\" xlink:title=\"psysml:451b6b51-1ae2-4b81-be73-8fe0566d61d5\" xlink:type=\"simple\"><g id=\"elem_E5\"><rect fill=\"#FFFFFF\" height=\"48.2656\" id=\"E5\" rx=\"10\" ry=\"10\" style=\"stroke:#181818;stroke-width:0.5;\" width=\"55\" x=\"307.5\" y=\"344\"/><text fill=\"#000000\" font-family=\"sans-serif\" font-size=\"12\" font-style=\"italic\" lengthAdjust=\"spacing\" textLength=\"53\" x=\"308.5\" y=\"360.1387\">«action»</text><text fill=\"#000000\" font-family=\"sans-serif\" font-size=\"14\" lengthAdjust=\"spacing\" textLength=\"18\" x=\"322\" y=\"375.9639\">A2</text><line style=\"stroke:#181818;stroke-width:0.5;\" x1=\"308.5\" x2=\"361.5\" y1=\"384.2656\" y2=\"384.2656\"/></g></a><!--MD5=[60a26617385b1d2d0262a64233df1f8d]\n",
       "class E6--><a href=\"psysml:04e53eda-a597-4a9c-96a9-348d67cb9847\" target=\"_top\" title=\"psysml:04e53eda-a597-4a9c-96a9-348d67cb9847\" xlink:actuate=\"onRequest\" xlink:href=\"psysml:04e53eda-a597-4a9c-96a9-348d67cb9847\" xlink:show=\"new\" xlink:title=\"psysml:04e53eda-a597-4a9c-96a9-348d67cb9847\" xlink:type=\"simple\"><g id=\"elem_E6\"><rect fill=\"#FFFFFF\" height=\"48.2656\" id=\"E6\" rx=\"10\" ry=\"10\" style=\"stroke:#181818;stroke-width:0.5;\" width=\"55\" x=\"397.5\" y=\"344\"/><text fill=\"#000000\" font-family=\"sans-serif\" font-size=\"12\" font-style=\"italic\" lengthAdjust=\"spacing\" textLength=\"53\" x=\"398.5\" y=\"360.1387\">«action»</text><text fill=\"#000000\" font-family=\"sans-serif\" font-size=\"14\" lengthAdjust=\"spacing\" textLength=\"18\" x=\"412\" y=\"375.9639\">A3</text><line style=\"stroke:#181818;stroke-width:0.5;\" x1=\"398.5\" x2=\"451.5\" y1=\"384.2656\" y2=\"384.2656\"/></g></a><!--MD5=[a523cb2a0b79ecf9065ad8783f96c320]\n",
       "reverse link E1 to E2--><g id=\"link_E1_E2\"><a href=\"psysml:0a57c05e-4dd3-44ad-ba12-51402458bbf0\" target=\"_top\" title=\"psysml:0a57c05e-4dd3-44ad-ba12-51402458bbf0\" xlink:actuate=\"onRequest\" xlink:href=\"psysml:0a57c05e-4dd3-44ad-ba12-51402458bbf0\" xlink:show=\"new\" xlink:title=\"psysml:0a57c05e-4dd3-44ad-ba12-51402458bbf0\" xlink:type=\"simple\"><path d=\"M134.13,277.93 C112.64,303.41 92.47,327.33 78.45,343.95 \" fill=\"none\" id=\"E1-backto-E2\" style=\"stroke:#181818;stroke-width:1.0;\"/><polygon fill=\"#181818\" points=\"142.75,267.72,135.824,269.7277,135.0135,276.8931,141.9394,274.8854,142.75,267.72\" style=\"stroke:#181818;stroke-width:1.0;\"/></a></g><!--MD5=[2720a5a1f2c3fca2055b230370638851]\n",
       "link E2 to E3--><g id=\"link_E2_E3\"><a href=\"psysml:df8d299f-9da3-41cd-a9dd-6e3a0d30decc\" target=\"_top\" title=\"psysml:df8d299f-9da3-41cd-a9dd-6e3a0d30decc\" xlink:actuate=\"onRequest\" xlink:href=\"psysml:df8d299f-9da3-41cd-a9dd-6e3a0d30decc\" xlink:show=\"new\" xlink:title=\"psysml:df8d299f-9da3-41cd-a9dd-6e3a0d30decc\" xlink:type=\"simple\"><path d=\"M70.28,392 C78.2,408.14 88.83,429.82 97.25,446.97 \" fill=\"none\" id=\"E2-to-E3\" style=\"stroke:#181818;stroke-width:1.0;\"/><polygon fill=\"#181818\" points=\"99.56,451.68,99.1883,441.8382,97.3583,447.1908,92.0056,445.3609,99.56,451.68\" style=\"stroke:#181818;stroke-width:1.0;\"/></a></g><!--MD5=[5d7b3810b1dd9b5164bea1151b29b665]\n",
       "reverse link E1 to E3--><g id=\"link_E1_E3\"><a href=\"psysml:5efd2738-c984-493d-a46e-1379d8b8bf4b\" target=\"_top\" title=\"psysml:5efd2738-c984-493d-a46e-1379d8b8bf4b\" xlink:actuate=\"onRequest\" xlink:href=\"psysml:5efd2738-c984-493d-a46e-1379d8b8bf4b\" xlink:show=\"new\" xlink:title=\"psysml:5efd2738-c984-493d-a46e-1379d8b8bf4b\" xlink:type=\"simple\"><path d=\"M183.72,296.73 C159.26,356.7 133.77,419.17 120.43,451.87 \" fill=\"none\" id=\"E1-backto-E3\" style=\"stroke:#181818;stroke-width:1.0;\"/><polygon fill=\"#181818\" points=\"188.75,284.39,182.7796,288.434,184.2162,295.5005,190.1866,291.4566,188.75,284.39\" style=\"stroke:#181818;stroke-width:1.0;\"/></a></g><!--MD5=[f2c5c03aa1e8c0ba21c10a05e6444b8e]\n",
       "reverse link E1 to E4--><g id=\"link_E1_E4\"><a href=\"psysml:867ae522-9684-4034-9c56-5f70d3a76b09\" target=\"_top\" title=\"psysml:867ae522-9684-4034-9c56-5f70d3a76b09\" xlink:actuate=\"onRequest\" xlink:href=\"psysml:867ae522-9684-4034-9c56-5f70d3a76b09\" xlink:show=\"new\" xlink:title=\"psysml:867ae522-9684-4034-9c56-5f70d3a76b09\" xlink:type=\"simple\"><path d=\"M245,297.51 C245,315.33 245,331.5 245,343.75 \" fill=\"none\" id=\"E1-backto-E4\" style=\"stroke:#181818;stroke-width:1.0;\"/><polygon fill=\"#181818\" points=\"245,284.27,241,290.27,245,296.27,249,290.27,245,284.27\" style=\"stroke:#181818;stroke-width:1.0;\"/></a></g><!--MD5=[33238bef88d6431a141d8bc8fb12bca0]\n",
       "reverse link E1 to E5--><g id=\"link_E1_E5\"><a href=\"psysml:e0e8ad72-4177-4702-a62e-bf2c3ff4a78a\" target=\"_top\" title=\"psysml:e0e8ad72-4177-4702-a62e-bf2c3ff4a78a\" xlink:actuate=\"onRequest\" xlink:href=\"psysml:e0e8ad72-4177-4702-a62e-bf2c3ff4a78a\" xlink:show=\"new\" xlink:title=\"psysml:e0e8ad72-4177-4702-a62e-bf2c3ff4a78a\" xlink:type=\"simple\"><path d=\"M306.21,296.47 C313.65,314.7 320.41,331.26 325.51,343.75 \" fill=\"none\" id=\"E1-backto-E5\" style=\"stroke:#181818;stroke-width:1.0;\"/><polygon fill=\"#181818\" points=\"301.23,284.27,299.7934,291.3366,305.7638,295.3805,307.2004,288.314,301.23,284.27\" style=\"stroke:#181818;stroke-width:1.0;\"/></a></g><!--MD5=[aca2ef284c2b1b90e17e73bf3f292c07]\n",
       "reverse link E1 to E6--><g id=\"link_E1_E6\"><a href=\"psysml:3e72a653-2f0b-4c94-896a-b70e2d6f389f\" target=\"_top\" title=\"psysml:3e72a653-2f0b-4c94-896a-b70e2d6f389f\" xlink:actuate=\"onRequest\" xlink:href=\"psysml:3e72a653-2f0b-4c94-896a-b70e2d6f389f\" xlink:show=\"new\" xlink:title=\"psysml:3e72a653-2f0b-4c94-896a-b70e2d6f389f\" xlink:type=\"simple\"><path d=\"M355.55,281.92 C375.09,305.86 393.27,328.14 406.13,343.88 \" fill=\"none\" id=\"E1-backto-E6\" style=\"stroke:#181818;stroke-width:1.0;\"/><polygon fill=\"#181818\" points=\"347.1,271.57,347.7986,278.7472,354.6924,280.8628,353.9938,273.6856,347.1,271.57\" style=\"stroke:#181818;stroke-width:1.0;\"/></a></g><!--MD5=[6251a2238720b8f985d00f158d7d9b16]\n",
       "@startuml\r\n",
       "skin sysmlbw\r\n",
       "skinparam monochrome true\r\n",
       "skinparam wrapWidth 300\r\n",
       "hide circle\r\n",
       " \r\n",
       "comp def \"DecisionTest\" as E1  <<(T,blue) action  def>> [[psysml:24509d73-250a-487a-bcd7-b59ee0863fbf ]] {\r\n",
       "##//attributes//##\r\n",
       "x <U+003D> 1\r\n",
       "- -\r\n",
       "##//actions//##\r\n",
       "A3\r\n",
       "- -\r\n",
       "##//successions//##\r\n",
       "noname first test x then null\r\n",
       "- -\r\n",
       "##//transitions//##\r\n",
       "\r\n",
       "\r\n",
       "\r\n",
       "\r\n",
       "\r\n",
       "\r\n",
       "S\r\n",
       "}\r\n",
       "comp usage \"test x  \" as E2  <<(T,blue) decision node>> [[psysml:7d99bd45-3b62-4bbf-b126-0db5f71d3136 ]] {\r\n",
       "}\r\n",
       "comp usage \"<s>noname</s>  \" as E3  <<(T,blue) decision node>> [[psysml:6dee609b-d6ae-4161-97b9-077c5f3bd0c2 ]] {\r\n",
       "}\r\n",
       "comp usage \"A1  \" as E4  <<(T,blue) action>> [[psysml:f539a78a-befd-4456-a49f-f3788a07e7bd ]] {\r\n",
       "}\r\n",
       "comp usage \"A2  \" as E5  <<(T,blue) action>> [[psysml:451b6b51-1ae2-4b81-be73-8fe0566d61d5 ]] {\r\n",
       "}\r\n",
       "comp usage \"A3  \" as E6  <<(T,blue) action>> [[psysml:04e53eda-a597-4a9c-96a9-348d67cb9847 ]] {\r\n",
       "}\r\n",
       "E1 *- - E2 [[psysml:0a57c05e-4dd3-44ad-ba12-51402458bbf0 ]] \r\n",
       "E2 - -> E3 [[psysml:df8d299f-9da3-41cd-a9dd-6e3a0d30decc ]] \r\n",
       "E1 *- - E3 [[psysml:5efd2738-c984-493d-a46e-1379d8b8bf4b ]] \r\n",
       "E1 *- - E4 [[psysml:867ae522-9684-4034-9c56-5f70d3a76b09 ]] \r\n",
       "E1 *- - E5 [[psysml:e0e8ad72-4177-4702-a62e-bf2c3ff4a78a ]] \r\n",
       "E1 *- - E6 [[psysml:3e72a653-2f0b-4c94-896a-b70e2d6f389f ]] \r\n",
       "@enduml\r\n",
       "\n",
       "PlantUML version 1.2022.7(Mon Aug 22 17:01:30 UTC 2022)\n",
       "(EPL source distribution)\n",
       "Java Runtime: OpenJDK Runtime Environment\n",
       "JVM: OpenJDK 64-Bit Server VM\n",
       "Default Encoding: UTF-8\n",
       "Language: en\n",
       "Country: null\n",
       "--></g></svg>"
      ]
     },
     "execution_count": 3,
     "metadata": {},
     "output_type": "execute_result"
    }
   ],
   "source": [
    "%viz --style=\"COMPTREE\" --view=\"Tree\" \"DecisionTest\""
   ]
  },
  {
   "cell_type": "code",
   "execution_count": 4,
   "id": "792de696",
   "metadata": {
    "execution": {
     "iopub.execute_input": "2024-12-16T03:28:00.403383Z",
     "iopub.status.busy": "2024-12-16T03:28:00.403142Z",
     "iopub.status.idle": "2024-12-16T03:28:00.425087Z",
     "shell.execute_reply": "2024-12-16T03:28:00.425223Z"
    }
   },
   "outputs": [
    {
     "data": {
      "image/svg+xml": [
       "<?xml version=\"1.0\" encoding=\"UTF-8\" standalone=\"no\"?><svg xmlns=\"http://www.w3.org/2000/svg\" xmlns:xlink=\"http://www.w3.org/1999/xlink\" contentStyleType=\"text/css\" height=\"10px\" preserveAspectRatio=\"none\" style=\"width:10px;height:10px;background:#FFFFFF;\" version=\"1.1\" viewBox=\"0 0 10 10\" width=\"10px\" zoomAndPan=\"magnify\"><defs/><g><!--MD5=[ee07d3037018df61283447c7fdb4a44f]\n",
       "@startuml\r\n",
       "skin sysmlbw\r\n",
       "skinparam monochrome true\r\n",
       "skinparam wrapWidth 300\r\n",
       "hide circle\r\n",
       " \r\n",
       "@enduml\r\n",
       "\n",
       "PlantUML version 1.2022.7(Mon Aug 22 17:01:30 UTC 2022)\n",
       "(EPL source distribution)\n",
       "Java Runtime: OpenJDK Runtime Environment\n",
       "JVM: OpenJDK 64-Bit Server VM\n",
       "Default Encoding: UTF-8\n",
       "Language: en\n",
       "Country: null\n",
       "--></g></svg>"
      ]
     },
     "execution_count": 4,
     "metadata": {},
     "output_type": "execute_result"
    }
   ],
   "source": [
    "%viz --style=\"COMPTREE\" --view=\"State\" \"DecisionTest\""
   ]
  },
  {
   "cell_type": "code",
   "execution_count": 5,
   "id": "11d57092",
   "metadata": {
    "execution": {
     "iopub.execute_input": "2024-12-16T03:28:00.479589Z",
     "iopub.status.busy": "2024-12-16T03:28:00.479354Z",
     "iopub.status.idle": "2024-12-16T03:28:00.516054Z",
     "shell.execute_reply": "2024-12-16T03:28:00.515858Z"
    }
   },
   "outputs": [
    {
     "data": {
      "image/svg+xml": [
       "<?xml version=\"1.0\" encoding=\"UTF-8\" standalone=\"no\"?><svg xmlns=\"http://www.w3.org/2000/svg\" xmlns:xlink=\"http://www.w3.org/1999/xlink\" contentStyleType=\"text/css\" height=\"338px\" preserveAspectRatio=\"none\" style=\"width:329px;height:338px;background:#FFFFFF;\" version=\"1.1\" viewBox=\"0 0 329 338\" width=\"329px\" zoomAndPan=\"magnify\"><defs/><g><!--MD5=[fbc87193dbaf4d95561dea2c320d4a47]\n",
       "cluster E1--><g id=\"cluster_E1\"><a href=\"psysml:24509d73-250a-487a-bcd7-b59ee0863fbf\" target=\"_top\" title=\"psysml:24509d73-250a-487a-bcd7-b59ee0863fbf\" xlink:actuate=\"onRequest\" xlink:href=\"psysml:24509d73-250a-487a-bcd7-b59ee0863fbf\" xlink:show=\"new\" xlink:title=\"psysml:24509d73-250a-487a-bcd7-b59ee0863fbf\" xlink:type=\"simple\"><rect fill=\"#FFFFFF\" height=\"325\" id=\"E1\" style=\"stroke:#383838;stroke-width:1.5;\" width=\"315\" x=\"7\" y=\"7\"/><text fill=\"#000000\" font-family=\"sans-serif\" font-size=\"12\" font-style=\"italic\" lengthAdjust=\"spacing\" textLength=\"81\" x=\"124\" y=\"23.1387\">«action  def»</text><text fill=\"#000000\" font-family=\"sans-serif\" font-size=\"14\" lengthAdjust=\"spacing\" textLength=\"91\" x=\"119\" y=\"38.9639\">DecisionTest</text><line style=\"stroke:#383838;stroke-width:1.0;\" x1=\"7\" x2=\"322\" y1=\"47.2656\" y2=\"47.2656\"/></a></g><g id=\"elem_E2\"><polygon fill=\"#FFFFFF\" points=\"210,58,222,70,210,82,198,70,210,58\" style=\"stroke:#181818;stroke-width:0.5;\"/></g><g id=\"elem_E3\"><polygon fill=\"#FFFFFF\" points=\"35,125.5,47,137.5,35,149.5,23,137.5,35,125.5\" style=\"stroke:#181818;stroke-width:0.5;\"/></g><g><a href=\"psysml:f539a78a-befd-4456-a49f-f3788a07e7bd\" target=\"_top\" title=\"psysml:f539a78a-befd-4456-a49f-f3788a07e7bd\" xlink:actuate=\"onRequest\" xlink:href=\"psysml:f539a78a-befd-4456-a49f-f3788a07e7bd\" xlink:show=\"new\" xlink:title=\"psysml:f539a78a-befd-4456-a49f-f3788a07e7bd\" xlink:type=\"simple\"><rect fill=\"#FFFFFF\" height=\"45.2656\" id=\"E4\" rx=\"10\" ry=\"10\" style=\"stroke:#383838;stroke-width:1.5;\" width=\"60\" x=\"135\" y=\"193\"/><text fill=\"#000000\" font-family=\"sans-serif\" font-size=\"12\" font-style=\"italic\" lengthAdjust=\"spacing\" textLength=\"53\" x=\"138.5\" y=\"209.1387\">«action»</text><text fill=\"#000000\" font-family=\"sans-serif\" font-size=\"14\" lengthAdjust=\"spacing\" textLength=\"18\" x=\"156\" y=\"224.9639\">A1</text></a></g><g><a href=\"psysml:451b6b51-1ae2-4b81-be73-8fe0566d61d5\" target=\"_top\" title=\"psysml:451b6b51-1ae2-4b81-be73-8fe0566d61d5\" xlink:actuate=\"onRequest\" xlink:href=\"psysml:451b6b51-1ae2-4b81-be73-8fe0566d61d5\" xlink:show=\"new\" xlink:title=\"psysml:451b6b51-1ae2-4b81-be73-8fe0566d61d5\" xlink:type=\"simple\"><rect fill=\"#FFFFFF\" height=\"45.2656\" id=\"E5\" rx=\"10\" ry=\"10\" style=\"stroke:#383838;stroke-width:1.5;\" width=\"60\" x=\"135\" y=\"271\"/><text fill=\"#000000\" font-family=\"sans-serif\" font-size=\"12\" font-style=\"italic\" lengthAdjust=\"spacing\" textLength=\"53\" x=\"138.5\" y=\"287.1387\">«action»</text><text fill=\"#000000\" font-family=\"sans-serif\" font-size=\"14\" lengthAdjust=\"spacing\" textLength=\"18\" x=\"156\" y=\"302.9639\">A2</text></a></g><g><a href=\"psysml:04e53eda-a597-4a9c-96a9-348d67cb9847\" target=\"_top\" title=\"psysml:04e53eda-a597-4a9c-96a9-348d67cb9847\" xlink:actuate=\"onRequest\" xlink:href=\"psysml:04e53eda-a597-4a9c-96a9-348d67cb9847\" xlink:show=\"new\" xlink:title=\"psysml:04e53eda-a597-4a9c-96a9-348d67cb9847\" xlink:type=\"simple\"><rect fill=\"#FFFFFF\" height=\"45.2656\" id=\"E6\" rx=\"10\" ry=\"10\" style=\"stroke:#383838;stroke-width:1.5;\" width=\"60\" x=\"246\" y=\"115\"/><text fill=\"#000000\" font-family=\"sans-serif\" font-size=\"12\" font-style=\"italic\" lengthAdjust=\"spacing\" textLength=\"53\" x=\"249.5\" y=\"131.1387\">«action»</text><text fill=\"#000000\" font-family=\"sans-serif\" font-size=\"14\" lengthAdjust=\"spacing\" textLength=\"18\" x=\"267\" y=\"146.9639\">A3</text></a></g><!--MD5=[4d03bb2d0377dc85ccfab60ff574652b]\n",
       "link E2 to E4--><g id=\"link_E2_E4\"><a href=\"psysml:0e1095c8-d4f6-4449-8c10-0793e56d6528\" target=\"_top\" title=\"psysml:0e1095c8-d4f6-4449-8c10-0793e56d6528\" xlink:actuate=\"onRequest\" xlink:href=\"psysml:0e1095c8-d4f6-4449-8c10-0793e56d6528\" xlink:show=\"new\" xlink:title=\"psysml:0e1095c8-d4f6-4449-8c10-0793e56d6528\" xlink:type=\"simple\"><path d=\"M201.56,73.67 C186.72,78.87 156.35,91.93 144,115 C131.76,137.86 140.48,167.25 150.14,188.14 \" fill=\"none\" id=\"E2-to-E4\" style=\"stroke:#181818;stroke-width:1.0;\"/><polygon fill=\"#181818\" points=\"152.34,192.73,152.0687,182.8849,150.1842,188.2186,144.8505,186.3341,152.34,192.73\" style=\"stroke:#181818;stroke-width:1.0;\"/><text fill=\"#000000\" font-family=\"sans-serif\" font-size=\"13\" lengthAdjust=\"spacing\" textLength=\"55\" x=\"145\" y=\"142.0669\">[x == 1]</text></a></g><!--MD5=[dcad52bbbca2fe8adc741ce38b45dc12]\n",
       "link E2 to E5--><g id=\"link_E2_E5\"><a href=\"psysml:0bc69c08-a059-419e-b618-d454e4819a50\" target=\"_top\" title=\"psysml:0bc69c08-a059-419e-b618-d454e4819a50\" xlink:actuate=\"onRequest\" xlink:href=\"psysml:0bc69c08-a059-419e-b618-d454e4819a50\" xlink:show=\"new\" xlink:title=\"psysml:0bc69c08-a059-419e-b618-d454e4819a50\" xlink:type=\"simple\"><path d=\"M211.15,80.86 C215.56,119.01 230.89,255.21 226,263 C220.04,272.51 210.05,279.02 199.86,283.46 \" fill=\"none\" id=\"E2-to-E5\" style=\"stroke:#181818;stroke-width:1.0;\"/><polygon fill=\"#181818\" points=\"195.18,285.36,205.0232,285.6948,199.8154,283.4858,202.0244,278.2781,195.18,285.36\" style=\"stroke:#181818;stroke-width:1.0;\"/><text fill=\"#000000\" font-family=\"sans-serif\" font-size=\"13\" lengthAdjust=\"spacing\" textLength=\"44\" x=\"223\" y=\"181.0669\">[x &gt; 1]</text></a></g><!--MD5=[e3e28c1befcf002155aa15e1416b4315]\n",
       "link E2 to E6--><g id=\"link_E2_E6\"><a href=\"psysml:7bfaba1c-8598-44bd-a9fd-5f850f0b7fd7\" target=\"_top\" title=\"psysml:7bfaba1c-8598-44bd-a9fd-5f850f0b7fd7\" xlink:actuate=\"onRequest\" xlink:href=\"psysml:7bfaba1c-8598-44bd-a9fd-5f850f0b7fd7\" xlink:show=\"new\" xlink:title=\"psysml:7bfaba1c-8598-44bd-a9fd-5f850f0b7fd7\" xlink:type=\"simple\"><path d=\"M211.52,80.5 C213.19,88.35 216.54,99.41 223,107 C227.99,112.87 234.45,117.79 241.14,121.83 \" fill=\"none\" id=\"E2-to-E6\" style=\"stroke:#181818;stroke-width:1.0;\"/><polygon fill=\"#181818\" points=\"245.79,124.48,239.966,116.5377,241.4505,121.9962,235.992,123.4808,245.79,124.48\" style=\"stroke:#181818;stroke-width:1.0;\"/></a></g><!--MD5=[2351f337d6de0f557b50152ba70847b5]\n",
       "link E6 to E2--><g id=\"link_E6_E2\"><a href=\"psysml:31538477-4a34-40a9-aec8-5df805757767\" target=\"_top\" title=\"psysml:31538477-4a34-40a9-aec8-5df805757767\" xlink:actuate=\"onRequest\" xlink:href=\"psysml:31538477-4a34-40a9-aec8-5df805757767\" xlink:show=\"new\" xlink:title=\"psysml:31538477-4a34-40a9-aec8-5df805757767\" xlink:type=\"simple\"><path d=\"M254.23,114.89 C242.53,103.28 228.69,89.55 219.65,80.58 \" fill=\"none\" id=\"E6-to-E2\" style=\"stroke:#181818;stroke-width:1.0;\"/><polygon fill=\"#181818\" points=\"215.63,76.58,219.2026,85.7581,219.1798,80.1012,224.8366,80.0784,215.63,76.58\" style=\"stroke:#181818;stroke-width:1.0;\"/><text fill=\"#000000\" font-family=\"sans-serif\" font-size=\"13\" lengthAdjust=\"spacing\" textLength=\"44\" x=\"245\" y=\"103.0669\">[x &gt; 0]</text></a></g><!--MD5=[2720a5a1f2c3fca2055b230370638851]\n",
       "link E2 to E3--><g id=\"link_E2_E3\"><a href=\"psysml:df8d299f-9da3-41cd-a9dd-6e3a0d30decc\" target=\"_top\" title=\"psysml:df8d299f-9da3-41cd-a9dd-6e3a0d30decc\" xlink:actuate=\"onRequest\" xlink:href=\"psysml:df8d299f-9da3-41cd-a9dd-6e3a0d30decc\" xlink:show=\"new\" xlink:title=\"psysml:df8d299f-9da3-41cd-a9dd-6e3a0d30decc\" xlink:type=\"simple\"><path d=\"M199.51,71.63 C180.6,73.06 139.84,77.44 108,90 C83.89,99.51 59.12,117.32 45.54,127.92 \" fill=\"none\" id=\"E2-to-E3\" style=\"stroke:#181818;stroke-width:1.0;\"/><polygon fill=\"#181818\" points=\"41.37,131.22,50.9131,128.785,45.2951,128.1227,45.9574,122.5048,41.37,131.22\" style=\"stroke:#181818;stroke-width:1.0;\"/></a></g><!--MD5=[af87c684e3b0d8be13c1a698a818ef1e]\n",
       "link E3 to E4--><g id=\"link_E3_E4\"><a href=\"psysml:131b15c1-7866-4964-88c1-b03f264417a9\" target=\"_top\" title=\"psysml:131b15c1-7866-4964-88c1-b03f264417a9\" xlink:actuate=\"onRequest\" xlink:href=\"psysml:131b15c1-7866-4964-88c1-b03f264417a9\" xlink:show=\"new\" xlink:title=\"psysml:131b15c1-7866-4964-88c1-b03f264417a9\" xlink:type=\"simple\"><path d=\"M40.06,144.83 C48.28,154.73 65.5,173.9 84,185 C93.64,190.79 97.4,189.24 108,193 C115.13,195.53 122.72,198.32 129.96,201.04 \" fill=\"none\" id=\"E3-to-E4\" style=\"stroke:#181818;stroke-width:1.0;\"/><polygon fill=\"#181818\" points=\"134.91,202.9,127.8875,195.9946,130.2284,201.1444,125.0785,203.4852,134.91,202.9\" style=\"stroke:#181818;stroke-width:1.0;\"/><text fill=\"#000000\" font-family=\"sans-serif\" font-size=\"13\" lengthAdjust=\"spacing\" textLength=\"36\" x=\"85\" y=\"181.0669\">[true]</text></a></g><!--MD5=[0188b64bb0ae78505a997a81836e11e9]\n",
       "link E3 to E5--><g id=\"link_E3_E5\"><a href=\"psysml:825f54b9-3c70-45c0-b332-e5b9a5c4b905\" target=\"_top\" title=\"psysml:825f54b9-3c70-45c0-b332-e5b9a5c4b905\" xlink:actuate=\"onRequest\" xlink:href=\"psysml:825f54b9-3c70-45c0-b332-e5b9a5c4b905\" xlink:show=\"new\" xlink:title=\"psysml:825f54b9-3c70-45c0-b332-e5b9a5c4b905\" xlink:type=\"simple\"><path d=\"M36.78,147.75 C40.81,166.63 52.2,210.17 76,238 C90.65,255.14 112.09,268.49 130.26,277.69 \" fill=\"none\" id=\"E3-to-E5\" style=\"stroke:#181818;stroke-width:1.0;\"/><polygon fill=\"#181818\" points=\"134.8,279.94,128.5293,272.3454,130.325,277.7097,124.9607,279.5054,134.8,279.94\" style=\"stroke:#181818;stroke-width:1.0;\"/><text fill=\"#000000\" font-family=\"sans-serif\" font-size=\"13\" lengthAdjust=\"spacing\" textLength=\"40\" x=\"77\" y=\"220.0669\">[false]</text></a></g><!--MD5=[1b7591eae5389033d8d09a9d6721a717]\n",
       "link E4 to E5--><g id=\"link_E4_E5\"><a href=\"psysml:b3779ea1-0b8c-4465-ae00-48dbba13ac92\" target=\"_top\" title=\"psysml:b3779ea1-0b8c-4465-ae00-48dbba13ac92\" xlink:actuate=\"onRequest\" xlink:href=\"psysml:b3779ea1-0b8c-4465-ae00-48dbba13ac92\" xlink:show=\"new\" xlink:title=\"psysml:b3779ea1-0b8c-4465-ae00-48dbba13ac92\" xlink:type=\"simple\"><path d=\"M165,238.08 C165,246.66 165,256.63 165,265.67 \" fill=\"none\" id=\"E4-to-E5\" style=\"stroke:#181818;stroke-width:1.0;\"/><polygon fill=\"#181818\" points=\"165,270.87,169,261.87,165,265.87,161,261.87,165,270.87\" style=\"stroke:#181818;stroke-width:1.0;\"/><text fill=\"#000000\" font-family=\"sans-serif\" font-size=\"13\" lengthAdjust=\"spacing\" textLength=\"55\" x=\"166\" y=\"259.0669\">[x == 0]</text></a></g><!--MD5=[f4163866bf8099bd2c585a0626157751]\n",
       "@startuml\r\n",
       "skin sysmlbw\r\n",
       "skinparam monochrome true\r\n",
       "skinparam wrapWidth 300\r\n",
       "hide circle\r\n",
       " skinparam ranksep 10\r\n",
       "skinparam rectangle {\r\n",
       " backgroundColor<<block>> LightGreen\r\n",
       "}\r\n",
       "\r\n",
       "rec def \"DecisionTest\" as E1  <<(T,blue) action  def>> [[psysml:24509d73-250a-487a-bcd7-b59ee0863fbf ]] {\r\n",
       "choice \"test x\" as E2  [[psysml:7d99bd45-3b62-4bbf-b126-0db5f71d3136 ]] \r\n",
       "choice \"<s>noname</s>\" as E3  [[psysml:6dee609b-d6ae-4161-97b9-077c5f3bd0c2 ]] \r\n",
       "rec usage \"A1\" as E4  <<(T,blue) action>> [[psysml:f539a78a-befd-4456-a49f-f3788a07e7bd ]] {\r\n",
       "}\r\n",
       "\r\n",
       "rec usage \"A2\" as E5  <<(T,blue) action>> [[psysml:451b6b51-1ae2-4b81-be73-8fe0566d61d5 ]] {\r\n",
       "}\r\n",
       "\r\n",
       "rec usage \"A3\" as E6  <<(T,blue) action>> [[psysml:04e53eda-a597-4a9c-96a9-348d67cb9847 ]] {\r\n",
       "}\r\n",
       "\r\n",
       "}\r\n",
       "\r\n",
       "E2  - -> E4 [[psysml:0e1095c8-d4f6-4449-8c10-0793e56d6528 ]] : [x == 1]\r\n",
       "E2  - -> E5 [[psysml:0bc69c08-a059-419e-b618-d454e4819a50 ]] : [x > 1]\r\n",
       "E2  - -> E6 [[psysml:7bfaba1c-8598-44bd-a9fd-5f850f0b7fd7 ]] \r\n",
       "E2 - -> E3 [[psysml:df8d299f-9da3-41cd-a9dd-6e3a0d30decc ]] \r\n",
       "E3  - -> E4 [[psysml:131b15c1-7866-4964-88c1-b03f264417a9 ]] : [true]\r\n",
       "E3  - -> E5 [[psysml:825f54b9-3c70-45c0-b332-e5b9a5c4b905 ]] : [false]\r\n",
       "E4  - -> E5 [[psysml:b3779ea1-0b8c-4465-ae00-48dbba13ac92 ]] : [x == 0]\r\n",
       "E6  - -> E2 [[psysml:31538477-4a34-40a9-aec8-5df805757767 ]] : [x > 0]\r\n",
       "@enduml\r\n",
       "\n",
       "PlantUML version 1.2022.7(Mon Aug 22 17:01:30 UTC 2022)\n",
       "(EPL source distribution)\n",
       "Java Runtime: OpenJDK Runtime Environment\n",
       "JVM: OpenJDK 64-Bit Server VM\n",
       "Default Encoding: UTF-8\n",
       "Language: en\n",
       "Country: null\n",
       "--></g></svg>"
      ]
     },
     "execution_count": 5,
     "metadata": {},
     "output_type": "execute_result"
    }
   ],
   "source": [
    "%viz --style=\"COMPTREE\" --view=\"Interconnection\" \"DecisionTest\""
   ]
  },
  {
   "cell_type": "code",
   "execution_count": 6,
   "id": "b55cd039",
   "metadata": {
    "execution": {
     "iopub.execute_input": "2024-12-16T03:28:00.573417Z",
     "iopub.status.busy": "2024-12-16T03:28:00.573190Z",
     "iopub.status.idle": "2024-12-16T03:28:00.606661Z",
     "shell.execute_reply": "2024-12-16T03:28:00.605895Z"
    }
   },
   "outputs": [
    {
     "data": {
      "image/svg+xml": [
       "<?xml version=\"1.0\" encoding=\"UTF-8\" standalone=\"no\"?><svg xmlns=\"http://www.w3.org/2000/svg\" xmlns:xlink=\"http://www.w3.org/1999/xlink\" contentStyleType=\"text/css\" height=\"338px\" preserveAspectRatio=\"none\" style=\"width:329px;height:338px;background:#FFFFFF;\" version=\"1.1\" viewBox=\"0 0 329 338\" width=\"329px\" zoomAndPan=\"magnify\"><defs/><g><!--MD5=[fbc87193dbaf4d95561dea2c320d4a47]\n",
       "cluster E1--><g id=\"cluster_E1\"><a href=\"psysml:24509d73-250a-487a-bcd7-b59ee0863fbf\" target=\"_top\" title=\"psysml:24509d73-250a-487a-bcd7-b59ee0863fbf\" xlink:actuate=\"onRequest\" xlink:href=\"psysml:24509d73-250a-487a-bcd7-b59ee0863fbf\" xlink:show=\"new\" xlink:title=\"psysml:24509d73-250a-487a-bcd7-b59ee0863fbf\" xlink:type=\"simple\"><rect fill=\"#FFFFFF\" height=\"325\" id=\"E1\" style=\"stroke:#383838;stroke-width:1.5;\" width=\"315\" x=\"7\" y=\"7\"/><text fill=\"#000000\" font-family=\"sans-serif\" font-size=\"12\" font-style=\"italic\" lengthAdjust=\"spacing\" textLength=\"81\" x=\"124\" y=\"23.1387\">«action  def»</text><text fill=\"#000000\" font-family=\"sans-serif\" font-size=\"14\" lengthAdjust=\"spacing\" textLength=\"91\" x=\"119\" y=\"38.9639\">DecisionTest</text><line style=\"stroke:#383838;stroke-width:1.0;\" x1=\"7\" x2=\"322\" y1=\"47.2656\" y2=\"47.2656\"/></a></g><g id=\"elem_E2\"><polygon fill=\"#FFFFFF\" points=\"210,58,222,70,210,82,198,70,210,58\" style=\"stroke:#181818;stroke-width:0.5;\"/></g><g id=\"elem_E3\"><polygon fill=\"#FFFFFF\" points=\"35,125.5,47,137.5,35,149.5,23,137.5,35,125.5\" style=\"stroke:#181818;stroke-width:0.5;\"/></g><g><a href=\"psysml:f539a78a-befd-4456-a49f-f3788a07e7bd\" target=\"_top\" title=\"psysml:f539a78a-befd-4456-a49f-f3788a07e7bd\" xlink:actuate=\"onRequest\" xlink:href=\"psysml:f539a78a-befd-4456-a49f-f3788a07e7bd\" xlink:show=\"new\" xlink:title=\"psysml:f539a78a-befd-4456-a49f-f3788a07e7bd\" xlink:type=\"simple\"><rect fill=\"#FFFFFF\" height=\"45.2656\" id=\"E4\" rx=\"10\" ry=\"10\" style=\"stroke:#383838;stroke-width:1.5;\" width=\"60\" x=\"135\" y=\"193\"/><text fill=\"#000000\" font-family=\"sans-serif\" font-size=\"12\" font-style=\"italic\" lengthAdjust=\"spacing\" textLength=\"53\" x=\"138.5\" y=\"209.1387\">«action»</text><text fill=\"#000000\" font-family=\"sans-serif\" font-size=\"14\" lengthAdjust=\"spacing\" textLength=\"18\" x=\"156\" y=\"224.9639\">A1</text></a></g><g><a href=\"psysml:451b6b51-1ae2-4b81-be73-8fe0566d61d5\" target=\"_top\" title=\"psysml:451b6b51-1ae2-4b81-be73-8fe0566d61d5\" xlink:actuate=\"onRequest\" xlink:href=\"psysml:451b6b51-1ae2-4b81-be73-8fe0566d61d5\" xlink:show=\"new\" xlink:title=\"psysml:451b6b51-1ae2-4b81-be73-8fe0566d61d5\" xlink:type=\"simple\"><rect fill=\"#FFFFFF\" height=\"45.2656\" id=\"E5\" rx=\"10\" ry=\"10\" style=\"stroke:#383838;stroke-width:1.5;\" width=\"60\" x=\"135\" y=\"271\"/><text fill=\"#000000\" font-family=\"sans-serif\" font-size=\"12\" font-style=\"italic\" lengthAdjust=\"spacing\" textLength=\"53\" x=\"138.5\" y=\"287.1387\">«action»</text><text fill=\"#000000\" font-family=\"sans-serif\" font-size=\"14\" lengthAdjust=\"spacing\" textLength=\"18\" x=\"156\" y=\"302.9639\">A2</text></a></g><g><a href=\"psysml:04e53eda-a597-4a9c-96a9-348d67cb9847\" target=\"_top\" title=\"psysml:04e53eda-a597-4a9c-96a9-348d67cb9847\" xlink:actuate=\"onRequest\" xlink:href=\"psysml:04e53eda-a597-4a9c-96a9-348d67cb9847\" xlink:show=\"new\" xlink:title=\"psysml:04e53eda-a597-4a9c-96a9-348d67cb9847\" xlink:type=\"simple\"><rect fill=\"#FFFFFF\" height=\"45.2656\" id=\"E6\" rx=\"10\" ry=\"10\" style=\"stroke:#383838;stroke-width:1.5;\" width=\"60\" x=\"246\" y=\"115\"/><text fill=\"#000000\" font-family=\"sans-serif\" font-size=\"12\" font-style=\"italic\" lengthAdjust=\"spacing\" textLength=\"53\" x=\"249.5\" y=\"131.1387\">«action»</text><text fill=\"#000000\" font-family=\"sans-serif\" font-size=\"14\" lengthAdjust=\"spacing\" textLength=\"18\" x=\"267\" y=\"146.9639\">A3</text></a></g><!--MD5=[4d03bb2d0377dc85ccfab60ff574652b]\n",
       "link E2 to E4--><g id=\"link_E2_E4\"><a href=\"psysml:0e1095c8-d4f6-4449-8c10-0793e56d6528\" target=\"_top\" title=\"psysml:0e1095c8-d4f6-4449-8c10-0793e56d6528\" xlink:actuate=\"onRequest\" xlink:href=\"psysml:0e1095c8-d4f6-4449-8c10-0793e56d6528\" xlink:show=\"new\" xlink:title=\"psysml:0e1095c8-d4f6-4449-8c10-0793e56d6528\" xlink:type=\"simple\"><path d=\"M201.56,73.67 C186.72,78.87 156.35,91.93 144,115 C131.76,137.86 140.48,167.25 150.14,188.14 \" fill=\"none\" id=\"E2-to-E4\" style=\"stroke:#181818;stroke-width:1.0;stroke-dasharray:7.0,7.0;\"/><polygon fill=\"#181818\" points=\"152.34,192.73,152.0687,182.8849,150.1842,188.2186,144.8505,186.3341,152.34,192.73\" style=\"stroke:#181818;stroke-width:1.0;\"/><text fill=\"#000000\" font-family=\"sans-serif\" font-size=\"13\" lengthAdjust=\"spacing\" textLength=\"55\" x=\"145\" y=\"142.0669\">[x == 1]</text></a></g><!--MD5=[dcad52bbbca2fe8adc741ce38b45dc12]\n",
       "link E2 to E5--><g id=\"link_E2_E5\"><a href=\"psysml:0bc69c08-a059-419e-b618-d454e4819a50\" target=\"_top\" title=\"psysml:0bc69c08-a059-419e-b618-d454e4819a50\" xlink:actuate=\"onRequest\" xlink:href=\"psysml:0bc69c08-a059-419e-b618-d454e4819a50\" xlink:show=\"new\" xlink:title=\"psysml:0bc69c08-a059-419e-b618-d454e4819a50\" xlink:type=\"simple\"><path d=\"M211.15,80.86 C215.56,119.01 230.89,255.21 226,263 C220.04,272.51 210.05,279.02 199.86,283.46 \" fill=\"none\" id=\"E2-to-E5\" style=\"stroke:#181818;stroke-width:1.0;stroke-dasharray:7.0,7.0;\"/><polygon fill=\"#181818\" points=\"195.18,285.36,205.0232,285.6948,199.8154,283.4858,202.0244,278.2781,195.18,285.36\" style=\"stroke:#181818;stroke-width:1.0;\"/><text fill=\"#000000\" font-family=\"sans-serif\" font-size=\"13\" lengthAdjust=\"spacing\" textLength=\"44\" x=\"223\" y=\"181.0669\">[x &gt; 1]</text></a></g><!--MD5=[e3e28c1befcf002155aa15e1416b4315]\n",
       "link E2 to E6--><g id=\"link_E2_E6\"><a href=\"psysml:7bfaba1c-8598-44bd-a9fd-5f850f0b7fd7\" target=\"_top\" title=\"psysml:7bfaba1c-8598-44bd-a9fd-5f850f0b7fd7\" xlink:actuate=\"onRequest\" xlink:href=\"psysml:7bfaba1c-8598-44bd-a9fd-5f850f0b7fd7\" xlink:show=\"new\" xlink:title=\"psysml:7bfaba1c-8598-44bd-a9fd-5f850f0b7fd7\" xlink:type=\"simple\"><path d=\"M211.52,80.5 C213.19,88.35 216.54,99.41 223,107 C227.99,112.87 234.45,117.79 241.14,121.83 \" fill=\"none\" id=\"E2-to-E6\" style=\"stroke:#181818;stroke-width:1.0;stroke-dasharray:7.0,7.0;\"/><polygon fill=\"#181818\" points=\"245.79,124.48,239.966,116.5377,241.4505,121.9962,235.992,123.4808,245.79,124.48\" style=\"stroke:#181818;stroke-width:1.0;\"/></a></g><!--MD5=[2351f337d6de0f557b50152ba70847b5]\n",
       "link E6 to E2--><g id=\"link_E6_E2\"><a href=\"psysml:31538477-4a34-40a9-aec8-5df805757767\" target=\"_top\" title=\"psysml:31538477-4a34-40a9-aec8-5df805757767\" xlink:actuate=\"onRequest\" xlink:href=\"psysml:31538477-4a34-40a9-aec8-5df805757767\" xlink:show=\"new\" xlink:title=\"psysml:31538477-4a34-40a9-aec8-5df805757767\" xlink:type=\"simple\"><path d=\"M254.23,114.89 C242.53,103.28 228.69,89.55 219.65,80.58 \" fill=\"none\" id=\"E6-to-E2\" style=\"stroke:#181818;stroke-width:1.0;stroke-dasharray:7.0,7.0;\"/><polygon fill=\"#181818\" points=\"215.63,76.58,219.2026,85.7581,219.1798,80.1012,224.8366,80.0784,215.63,76.58\" style=\"stroke:#181818;stroke-width:1.0;\"/><text fill=\"#000000\" font-family=\"sans-serif\" font-size=\"13\" lengthAdjust=\"spacing\" textLength=\"44\" x=\"245\" y=\"103.0669\">[x &gt; 0]</text></a></g><!--MD5=[2720a5a1f2c3fca2055b230370638851]\n",
       "link E2 to E3--><g id=\"link_E2_E3\"><a href=\"psysml:df8d299f-9da3-41cd-a9dd-6e3a0d30decc\" target=\"_top\" title=\"psysml:df8d299f-9da3-41cd-a9dd-6e3a0d30decc\" xlink:actuate=\"onRequest\" xlink:href=\"psysml:df8d299f-9da3-41cd-a9dd-6e3a0d30decc\" xlink:show=\"new\" xlink:title=\"psysml:df8d299f-9da3-41cd-a9dd-6e3a0d30decc\" xlink:type=\"simple\"><path d=\"M199.51,71.63 C180.6,73.06 139.84,77.44 108,90 C83.89,99.51 59.12,117.32 45.54,127.92 \" fill=\"none\" id=\"E2-to-E3\" style=\"stroke:#181818;stroke-width:1.0;stroke-dasharray:7.0,7.0;\"/><polygon fill=\"#181818\" points=\"41.37,131.22,50.9131,128.785,45.2951,128.1227,45.9574,122.5048,41.37,131.22\" style=\"stroke:#181818;stroke-width:1.0;\"/></a></g><!--MD5=[af87c684e3b0d8be13c1a698a818ef1e]\n",
       "link E3 to E4--><g id=\"link_E3_E4\"><a href=\"psysml:131b15c1-7866-4964-88c1-b03f264417a9\" target=\"_top\" title=\"psysml:131b15c1-7866-4964-88c1-b03f264417a9\" xlink:actuate=\"onRequest\" xlink:href=\"psysml:131b15c1-7866-4964-88c1-b03f264417a9\" xlink:show=\"new\" xlink:title=\"psysml:131b15c1-7866-4964-88c1-b03f264417a9\" xlink:type=\"simple\"><path d=\"M40.06,144.83 C48.28,154.73 65.5,173.9 84,185 C93.64,190.79 97.4,189.24 108,193 C115.13,195.53 122.72,198.32 129.96,201.04 \" fill=\"none\" id=\"E3-to-E4\" style=\"stroke:#181818;stroke-width:1.0;stroke-dasharray:7.0,7.0;\"/><polygon fill=\"#181818\" points=\"134.91,202.9,127.8875,195.9946,130.2284,201.1444,125.0785,203.4852,134.91,202.9\" style=\"stroke:#181818;stroke-width:1.0;\"/><text fill=\"#000000\" font-family=\"sans-serif\" font-size=\"13\" lengthAdjust=\"spacing\" textLength=\"36\" x=\"85\" y=\"181.0669\">[true]</text></a></g><!--MD5=[0188b64bb0ae78505a997a81836e11e9]\n",
       "link E3 to E5--><g id=\"link_E3_E5\"><a href=\"psysml:825f54b9-3c70-45c0-b332-e5b9a5c4b905\" target=\"_top\" title=\"psysml:825f54b9-3c70-45c0-b332-e5b9a5c4b905\" xlink:actuate=\"onRequest\" xlink:href=\"psysml:825f54b9-3c70-45c0-b332-e5b9a5c4b905\" xlink:show=\"new\" xlink:title=\"psysml:825f54b9-3c70-45c0-b332-e5b9a5c4b905\" xlink:type=\"simple\"><path d=\"M36.78,147.75 C40.81,166.63 52.2,210.17 76,238 C90.65,255.14 112.09,268.49 130.26,277.69 \" fill=\"none\" id=\"E3-to-E5\" style=\"stroke:#181818;stroke-width:1.0;stroke-dasharray:7.0,7.0;\"/><polygon fill=\"#181818\" points=\"134.8,279.94,128.5293,272.3454,130.325,277.7097,124.9607,279.5054,134.8,279.94\" style=\"stroke:#181818;stroke-width:1.0;\"/><text fill=\"#000000\" font-family=\"sans-serif\" font-size=\"13\" lengthAdjust=\"spacing\" textLength=\"40\" x=\"77\" y=\"220.0669\">[false]</text></a></g><!--MD5=[1b7591eae5389033d8d09a9d6721a717]\n",
       "link E4 to E5--><g id=\"link_E4_E5\"><a href=\"psysml:b3779ea1-0b8c-4465-ae00-48dbba13ac92\" target=\"_top\" title=\"psysml:b3779ea1-0b8c-4465-ae00-48dbba13ac92\" xlink:actuate=\"onRequest\" xlink:href=\"psysml:b3779ea1-0b8c-4465-ae00-48dbba13ac92\" xlink:show=\"new\" xlink:title=\"psysml:b3779ea1-0b8c-4465-ae00-48dbba13ac92\" xlink:type=\"simple\"><path d=\"M165,238.08 C165,246.66 165,256.63 165,265.67 \" fill=\"none\" id=\"E4-to-E5\" style=\"stroke:#181818;stroke-width:1.0;stroke-dasharray:7.0,7.0;\"/><polygon fill=\"#181818\" points=\"165,270.87,169,261.87,165,265.87,161,261.87,165,270.87\" style=\"stroke:#181818;stroke-width:1.0;\"/><text fill=\"#000000\" font-family=\"sans-serif\" font-size=\"13\" lengthAdjust=\"spacing\" textLength=\"55\" x=\"166\" y=\"259.0669\">[x == 0]</text></a></g><!--MD5=[22f6e8c227e80274ac6ce1d59d9605f7]\n",
       "@startuml\r\n",
       "skin sysmlbw\r\n",
       "skinparam monochrome true\r\n",
       "skinparam wrapWidth 300\r\n",
       "hide circle\r\n",
       " skinparam ranksep 8\r\n",
       "\r\n",
       "rec def \"DecisionTest\" as E1  <<(T,blue) action  def>> [[psysml:24509d73-250a-487a-bcd7-b59ee0863fbf ]] {\r\n",
       "choice \"test x\" as E2  [[psysml:7d99bd45-3b62-4bbf-b126-0db5f71d3136 ]] \r\n",
       "choice \"<s>noname</s>\" as E3  [[psysml:6dee609b-d6ae-4161-97b9-077c5f3bd0c2 ]] \r\n",
       "rec usage \"A1\" as E4  <<(T,blue) action>> [[psysml:f539a78a-befd-4456-a49f-f3788a07e7bd ]] {\r\n",
       "}\r\n",
       "\r\n",
       "rec usage \"A2\" as E5  <<(T,blue) action>> [[psysml:451b6b51-1ae2-4b81-be73-8fe0566d61d5 ]] {\r\n",
       "}\r\n",
       "\r\n",
       "rec usage \"A3\" as E6  <<(T,blue) action>> [[psysml:04e53eda-a597-4a9c-96a9-348d67cb9847 ]] {\r\n",
       "}\r\n",
       "\r\n",
       "}\r\n",
       "\r\n",
       "E2 ..> E4 [[psysml:0e1095c8-d4f6-4449-8c10-0793e56d6528 ]] : [x == 1]\r\n",
       "E2 ..> E5 [[psysml:0bc69c08-a059-419e-b618-d454e4819a50 ]] : [x > 1]\r\n",
       "E2 ..> E6 [[psysml:7bfaba1c-8598-44bd-a9fd-5f850f0b7fd7 ]] \r\n",
       "E2 ..> E3 [[psysml:df8d299f-9da3-41cd-a9dd-6e3a0d30decc ]] \r\n",
       "E3 ..> E4 [[psysml:131b15c1-7866-4964-88c1-b03f264417a9 ]] : [true]\r\n",
       "E3 ..> E5 [[psysml:825f54b9-3c70-45c0-b332-e5b9a5c4b905 ]] : [false]\r\n",
       "E4 ..> E5 [[psysml:b3779ea1-0b8c-4465-ae00-48dbba13ac92 ]] : [x == 0]\r\n",
       "E6 ..> E2 [[psysml:31538477-4a34-40a9-aec8-5df805757767 ]] : [x > 0]\r\n",
       "@enduml\r\n",
       "\n",
       "PlantUML version 1.2022.7(Mon Aug 22 17:01:30 UTC 2022)\n",
       "(EPL source distribution)\n",
       "Java Runtime: OpenJDK Runtime Environment\n",
       "JVM: OpenJDK 64-Bit Server VM\n",
       "Default Encoding: UTF-8\n",
       "Language: en\n",
       "Country: null\n",
       "--></g></svg>"
      ]
     },
     "execution_count": 6,
     "metadata": {},
     "output_type": "execute_result"
    }
   ],
   "source": [
    "%viz --style=\"COMPTREE\" --view=\"Action\" \"DecisionTest\""
   ]
  },
  {
   "cell_type": "code",
   "execution_count": 7,
   "id": "9a70078a",
   "metadata": {
    "execution": {
     "iopub.execute_input": "2024-12-16T03:28:00.663084Z",
     "iopub.status.busy": "2024-12-16T03:28:00.662865Z",
     "iopub.status.idle": "2024-12-16T03:28:00.688915Z",
     "shell.execute_reply": "2024-12-16T03:28:00.688739Z"
    }
   },
   "outputs": [
    {
     "data": {
      "image/svg+xml": [
       "<?xml version=\"1.0\" encoding=\"UTF-8\" standalone=\"no\"?><svg xmlns=\"http://www.w3.org/2000/svg\" xmlns:xlink=\"http://www.w3.org/1999/xlink\" contentStyleType=\"text/css\" height=\"10px\" preserveAspectRatio=\"none\" style=\"width:10px;height:10px;background:#FFFFFF;\" version=\"1.1\" viewBox=\"0 0 10 10\" width=\"10px\" zoomAndPan=\"magnify\"><defs/><g><!--MD5=[f5e9abf0a6c8dccaf40d0172f495ca0b]\n",
       "@startuml\r\n",
       "skin sysmlbw\r\n",
       "skinparam monochrome true\r\n",
       "skinparam wrapWidth 300\r\n",
       "hide circle\r\n",
       " skinparam roundcorner 20\r\n",
       "skinparam BoxPadding 20\r\n",
       "skinparam SequenceBoxBackgroundColor #white\r\n",
       "skinparam style strictuml\r\n",
       "skinparam maxMessageSize 100\r\n",
       "\r\n",
       "@enduml\r\n",
       "\n",
       "PlantUML version 1.2022.7(Mon Aug 22 17:01:30 UTC 2022)\n",
       "(EPL source distribution)\n",
       "Java Runtime: OpenJDK Runtime Environment\n",
       "JVM: OpenJDK 64-Bit Server VM\n",
       "Default Encoding: UTF-8\n",
       "Language: en\n",
       "Country: null\n",
       "--></g></svg>"
      ]
     },
     "execution_count": 7,
     "metadata": {},
     "output_type": "execute_result"
    }
   ],
   "source": [
    "%viz --style=\"COMPTREE\" --view=\"Sequence\" \"DecisionTest\""
   ]
  },
  {
   "cell_type": "code",
   "execution_count": 8,
   "id": "ba7c6d76",
   "metadata": {
    "execution": {
     "iopub.execute_input": "2024-12-16T03:28:00.745631Z",
     "iopub.status.busy": "2024-12-16T03:28:00.745368Z",
     "iopub.status.idle": "2024-12-16T03:28:00.773346Z",
     "shell.execute_reply": "2024-12-16T03:28:00.772485Z"
    }
   },
   "outputs": [
    {
     "data": {
      "image/svg+xml": [
       "<?xml version=\"1.0\" encoding=\"UTF-8\" standalone=\"no\"?><svg xmlns=\"http://www.w3.org/2000/svg\" xmlns:xlink=\"http://www.w3.org/1999/xlink\" contentStyleType=\"text/css\" height=\"470px\" preserveAspectRatio=\"none\" style=\"width:329px;height:470px;background:#FFFFFF;\" version=\"1.1\" viewBox=\"0 0 329 470\" width=\"329px\" zoomAndPan=\"magnify\"><defs/><g><!--MD5=[fbc87193dbaf4d95561dea2c320d4a47]\n",
       "cluster E1--><g id=\"cluster_E1\"><a href=\"psysml:24509d73-250a-487a-bcd7-b59ee0863fbf\" target=\"_top\" title=\"psysml:24509d73-250a-487a-bcd7-b59ee0863fbf\" xlink:actuate=\"onRequest\" xlink:href=\"psysml:24509d73-250a-487a-bcd7-b59ee0863fbf\" xlink:show=\"new\" xlink:title=\"psysml:24509d73-250a-487a-bcd7-b59ee0863fbf\" xlink:type=\"simple\"><rect fill=\"#FFFFFF\" height=\"457\" id=\"E1\" style=\"stroke:#383838;stroke-width:1.5;\" width=\"315\" x=\"7\" y=\"7\"/><text fill=\"#000000\" font-family=\"sans-serif\" font-size=\"12\" font-style=\"italic\" lengthAdjust=\"spacing\" textLength=\"81\" x=\"124\" y=\"23.1387\">«action  def»</text><text fill=\"#000000\" font-family=\"sans-serif\" font-size=\"14\" lengthAdjust=\"spacing\" textLength=\"91\" x=\"119\" y=\"38.9639\">DecisionTest</text><line style=\"stroke:#383838;stroke-width:1.0;\" x1=\"7\" x2=\"322\" y1=\"47.2656\" y2=\"47.2656\"/></a></g><g id=\"elem_E2\"><polygon fill=\"#FFFFFF\" points=\"210,58,222,70,210,82,198,70,210,58\" style=\"stroke:#181818;stroke-width:0.5;\"/></g><g id=\"elem_E3\"><polygon fill=\"#FFFFFF\" points=\"35,169.5,47,181.5,35,193.5,23,181.5,35,169.5\" style=\"stroke:#181818;stroke-width:0.5;\"/></g><g><a href=\"psysml:f539a78a-befd-4456-a49f-f3788a07e7bd\" target=\"_top\" title=\"psysml:f539a78a-befd-4456-a49f-f3788a07e7bd\" xlink:actuate=\"onRequest\" xlink:href=\"psysml:f539a78a-befd-4456-a49f-f3788a07e7bd\" xlink:show=\"new\" xlink:title=\"psysml:f539a78a-befd-4456-a49f-f3788a07e7bd\" xlink:type=\"simple\"><rect fill=\"#FFFFFF\" height=\"45.2656\" id=\"E4\" rx=\"10\" ry=\"10\" style=\"stroke:#383838;stroke-width:1.5;\" width=\"60\" x=\"135\" y=\"281\"/><text fill=\"#000000\" font-family=\"sans-serif\" font-size=\"12\" font-style=\"italic\" lengthAdjust=\"spacing\" textLength=\"53\" x=\"138.5\" y=\"297.1387\">«action»</text><text fill=\"#000000\" font-family=\"sans-serif\" font-size=\"14\" lengthAdjust=\"spacing\" textLength=\"18\" x=\"156\" y=\"312.9639\">A1</text></a></g><g><a href=\"psysml:451b6b51-1ae2-4b81-be73-8fe0566d61d5\" target=\"_top\" title=\"psysml:451b6b51-1ae2-4b81-be73-8fe0566d61d5\" xlink:actuate=\"onRequest\" xlink:href=\"psysml:451b6b51-1ae2-4b81-be73-8fe0566d61d5\" xlink:show=\"new\" xlink:title=\"psysml:451b6b51-1ae2-4b81-be73-8fe0566d61d5\" xlink:type=\"simple\"><rect fill=\"#FFFFFF\" height=\"45.2656\" id=\"E5\" rx=\"10\" ry=\"10\" style=\"stroke:#383838;stroke-width:1.5;\" width=\"60\" x=\"135\" y=\"403\"/><text fill=\"#000000\" font-family=\"sans-serif\" font-size=\"12\" font-style=\"italic\" lengthAdjust=\"spacing\" textLength=\"53\" x=\"138.5\" y=\"419.1387\">«action»</text><text fill=\"#000000\" font-family=\"sans-serif\" font-size=\"14\" lengthAdjust=\"spacing\" textLength=\"18\" x=\"156\" y=\"434.9639\">A2</text></a></g><g><a href=\"psysml:04e53eda-a597-4a9c-96a9-348d67cb9847\" target=\"_top\" title=\"psysml:04e53eda-a597-4a9c-96a9-348d67cb9847\" xlink:actuate=\"onRequest\" xlink:href=\"psysml:04e53eda-a597-4a9c-96a9-348d67cb9847\" xlink:show=\"new\" xlink:title=\"psysml:04e53eda-a597-4a9c-96a9-348d67cb9847\" xlink:type=\"simple\"><rect fill=\"#FFFFFF\" height=\"45.2656\" id=\"E6\" rx=\"10\" ry=\"10\" style=\"stroke:#383838;stroke-width:1.5;\" width=\"60\" x=\"246\" y=\"159\"/><text fill=\"#000000\" font-family=\"sans-serif\" font-size=\"12\" font-style=\"italic\" lengthAdjust=\"spacing\" textLength=\"53\" x=\"249.5\" y=\"175.1387\">«action»</text><text fill=\"#000000\" font-family=\"sans-serif\" font-size=\"14\" lengthAdjust=\"spacing\" textLength=\"18\" x=\"267\" y=\"190.9639\">A3</text></a></g><!--MD5=[4d03bb2d0377dc85ccfab60ff574652b]\n",
       "link E2 to E4--><g id=\"link_E2_E4\"><a href=\"psysml:0e1095c8-d4f6-4449-8c10-0793e56d6528\" target=\"_top\" title=\"psysml:0e1095c8-d4f6-4449-8c10-0793e56d6528\" xlink:actuate=\"onRequest\" xlink:href=\"psysml:0e1095c8-d4f6-4449-8c10-0793e56d6528\" xlink:show=\"new\" xlink:title=\"psysml:0e1095c8-d4f6-4449-8c10-0793e56d6528\" xlink:type=\"simple\"><path d=\"M204.06,76.21 C190.24,88.77 156.2,122.4 144,159 C130.9,198.29 143.31,246.33 153.85,275.66 \" fill=\"none\" id=\"E2-to-E4\" style=\"stroke:#181818;stroke-width:1.0;\"/><polygon fill=\"#181818\" points=\"155.65,280.56,156.2879,270.7318,153.9195,275.869,148.7823,273.5006,155.65,280.56\" style=\"stroke:#181818;stroke-width:1.0;\"/><text fill=\"#000000\" font-family=\"sans-serif\" font-size=\"13\" lengthAdjust=\"spacing\" textLength=\"55\" x=\"145\" y=\"186.0669\">[x == 1]</text></a></g><!--MD5=[dcad52bbbca2fe8adc741ce38b45dc12]\n",
       "link E2 to E5--><g id=\"link_E2_E5\"><a href=\"psysml:0bc69c08-a059-419e-b618-d454e4819a50\" target=\"_top\" title=\"psysml:0bc69c08-a059-419e-b618-d454e4819a50\" xlink:actuate=\"onRequest\" xlink:href=\"psysml:0bc69c08-a059-419e-b618-d454e4819a50\" xlink:show=\"new\" xlink:title=\"psysml:0bc69c08-a059-419e-b618-d454e4819a50\" xlink:type=\"simple\"><path d=\"M210.81,81.23 C214.84,132.49 232.28,359.49 226,373 C220.28,385.32 210,395.75 199.49,403.94 \" fill=\"none\" id=\"E2-to-E5\" style=\"stroke:#181818;stroke-width:1.0;\"/><polygon fill=\"#181818\" points=\"195.3,407.08,204.9,404.88,199.3,404.08,200.1,398.48,195.3,407.08\" style=\"stroke:#181818;stroke-width:1.0;\"/><text fill=\"#000000\" font-family=\"sans-serif\" font-size=\"13\" lengthAdjust=\"spacing\" textLength=\"44\" x=\"223\" y=\"247.0669\">[x &gt; 1]</text></a></g><!--MD5=[e3e28c1befcf002155aa15e1416b4315]\n",
       "link E2 to E6--><g id=\"link_E2_E6\"><a href=\"psysml:7bfaba1c-8598-44bd-a9fd-5f850f0b7fd7\" target=\"_top\" title=\"psysml:7bfaba1c-8598-44bd-a9fd-5f850f0b7fd7\" xlink:actuate=\"onRequest\" xlink:href=\"psysml:7bfaba1c-8598-44bd-a9fd-5f850f0b7fd7\" xlink:show=\"new\" xlink:title=\"psysml:7bfaba1c-8598-44bd-a9fd-5f850f0b7fd7\" xlink:type=\"simple\"><path d=\"M210.55,81.49 C211.58,93.62 214.53,113.87 223,129 C228.38,138.62 236.13,147.59 244.04,155.25 \" fill=\"none\" id=\"E2-to-E6\" style=\"stroke:#181818;stroke-width:1.0;\"/><polygon fill=\"#181818\" points=\"247.92,158.91,244.1077,149.8289,244.279,155.4832,238.6247,155.6545,247.92,158.91\" style=\"stroke:#181818;stroke-width:1.0;\"/></a></g><!--MD5=[2351f337d6de0f557b50152ba70847b5]\n",
       "link E6 to E2--><g id=\"link_E6_E2\"><a href=\"psysml:31538477-4a34-40a9-aec8-5df805757767\" target=\"_top\" title=\"psysml:31538477-4a34-40a9-aec8-5df805757767\" xlink:actuate=\"onRequest\" xlink:href=\"psysml:31538477-4a34-40a9-aec8-5df805757767\" xlink:show=\"new\" xlink:title=\"psysml:31538477-4a34-40a9-aec8-5df805757767\" xlink:type=\"simple\"><path d=\"M262.83,158.65 C249.09,135.85 228.04,100.94 217.13,82.82 \" fill=\"none\" id=\"E6-to-E2\" style=\"stroke:#181818;stroke-width:1.0;\"/><polygon fill=\"#181818\" points=\"214.33,78.18,215.5544,87.9525,216.913,82.4612,222.4043,83.8197,214.33,78.18\" style=\"stroke:#181818;stroke-width:1.0;\"/><text fill=\"#000000\" font-family=\"sans-serif\" font-size=\"13\" lengthAdjust=\"spacing\" textLength=\"44\" x=\"244\" y=\"125.0669\">[x &gt; 0]</text></a></g><!--MD5=[2720a5a1f2c3fca2055b230370638851]\n",
       "link E2 to E3--><g id=\"link_E2_E3\"><a href=\"psysml:df8d299f-9da3-41cd-a9dd-6e3a0d30decc\" target=\"_top\" title=\"psysml:df8d299f-9da3-41cd-a9dd-6e3a0d30decc\" xlink:actuate=\"onRequest\" xlink:href=\"psysml:df8d299f-9da3-41cd-a9dd-6e3a0d30decc\" xlink:show=\"new\" xlink:title=\"psysml:df8d299f-9da3-41cd-a9dd-6e3a0d30decc\" xlink:type=\"simple\"><path d=\"M201.29,73.31 C183.01,78.4 139.7,91.78 108,112 C81.71,128.77 56.41,155.69 43.63,170.28 \" fill=\"none\" id=\"E2-to-E3\" style=\"stroke:#181818;stroke-width:1.0;\"/><polygon fill=\"#181818\" points=\"40.08,174.4,48.9911,170.2057,43.3492,170.6168,42.9381,164.975,40.08,174.4\" style=\"stroke:#181818;stroke-width:1.0;\"/></a></g><!--MD5=[af87c684e3b0d8be13c1a698a818ef1e]\n",
       "link E3 to E4--><g id=\"link_E3_E4\"><a href=\"psysml:131b15c1-7866-4964-88c1-b03f264417a9\" target=\"_top\" title=\"psysml:131b15c1-7866-4964-88c1-b03f264417a9\" xlink:actuate=\"onRequest\" xlink:href=\"psysml:131b15c1-7866-4964-88c1-b03f264417a9\" xlink:show=\"new\" xlink:title=\"psysml:131b15c1-7866-4964-88c1-b03f264417a9\" xlink:type=\"simple\"><path d=\"M39.07,190 C46.61,203.42 63.83,231.9 84,251 C97.71,263.98 115.14,275.56 130.33,284.43 \" fill=\"none\" id=\"E3-to-E4\" style=\"stroke:#181818;stroke-width:1.0;\"/><polygon fill=\"#181818\" points=\"134.96,287.1,129.1557,279.1433,130.6267,284.6055,125.1645,286.0765,134.96,287.1\" style=\"stroke:#181818;stroke-width:1.0;\"/><text fill=\"#000000\" font-family=\"sans-serif\" font-size=\"13\" lengthAdjust=\"spacing\" textLength=\"36\" x=\"85\" y=\"247.0669\">[true]</text></a></g><!--MD5=[0188b64bb0ae78505a997a81836e11e9]\n",
       "link E3 to E5--><g id=\"link_E3_E5\"><a href=\"psysml:825f54b9-3c70-45c0-b332-e5b9a5c4b905\" target=\"_top\" title=\"psysml:825f54b9-3c70-45c0-b332-e5b9a5c4b905\" xlink:actuate=\"onRequest\" xlink:href=\"psysml:825f54b9-3c70-45c0-b332-e5b9a5c4b905\" xlink:show=\"new\" xlink:title=\"psysml:825f54b9-3c70-45c0-b332-e5b9a5c4b905\" xlink:type=\"simple\"><path d=\"M36.26,192.49 C39.65,216.72 50.48,280.01 76,326 C91.62,354.15 116.69,380.91 136.25,399.41 \" fill=\"none\" id=\"E3-to-E5\" style=\"stroke:#181818;stroke-width:1.0;\"/><polygon fill=\"#181818\" points=\"140.08,403,136.231,393.9344,136.4252,399.5879,130.7717,399.7821,140.08,403\" style=\"stroke:#181818;stroke-width:1.0;\"/><text fill=\"#000000\" font-family=\"sans-serif\" font-size=\"13\" lengthAdjust=\"spacing\" textLength=\"40\" x=\"77\" y=\"308.0669\">[false]</text></a></g><!--MD5=[1b7591eae5389033d8d09a9d6721a717]\n",
       "link E4 to E5--><g id=\"link_E4_E5\"><a href=\"psysml:b3779ea1-0b8c-4465-ae00-48dbba13ac92\" target=\"_top\" title=\"psysml:b3779ea1-0b8c-4465-ae00-48dbba13ac92\" xlink:actuate=\"onRequest\" xlink:href=\"psysml:b3779ea1-0b8c-4465-ae00-48dbba13ac92\" xlink:show=\"new\" xlink:title=\"psysml:b3779ea1-0b8c-4465-ae00-48dbba13ac92\" xlink:type=\"simple\"><path d=\"M165,326.23 C165,346.37 165,376.37 165,397.92 \" fill=\"none\" id=\"E4-to-E5\" style=\"stroke:#181818;stroke-width:1.0;\"/><polygon fill=\"#181818\" points=\"165,402.93,169,393.93,165,397.93,161,393.93,165,402.93\" style=\"stroke:#181818;stroke-width:1.0;\"/><text fill=\"#000000\" font-family=\"sans-serif\" font-size=\"13\" lengthAdjust=\"spacing\" textLength=\"55\" x=\"166\" y=\"369.0669\">[x == 0]</text></a></g><!--MD5=[9caee4c7c830fb2a54b6be15b438403a]\n",
       "@startuml\r\n",
       "skin sysmlbw\r\n",
       "skinparam monochrome true\r\n",
       "skinparam wrapWidth 300\r\n",
       "hide circle\r\n",
       " \r\n",
       "rec def \"DecisionTest\" as E1  <<(T,blue) action  def>> [[psysml:24509d73-250a-487a-bcd7-b59ee0863fbf ]] {\r\n",
       "choice \"test x\" as E2  [[psysml:7d99bd45-3b62-4bbf-b126-0db5f71d3136 ]] \r\n",
       "choice \"<s>noname</s>\" as E3  [[psysml:6dee609b-d6ae-4161-97b9-077c5f3bd0c2 ]] \r\n",
       "rec usage \"A1\" as E4  <<(T,blue) action>> [[psysml:f539a78a-befd-4456-a49f-f3788a07e7bd ]] {\r\n",
       "}\r\n",
       "\r\n",
       "rec usage \"A2\" as E5  <<(T,blue) action>> [[psysml:451b6b51-1ae2-4b81-be73-8fe0566d61d5 ]] {\r\n",
       "}\r\n",
       "\r\n",
       "rec usage \"A3\" as E6  <<(T,blue) action>> [[psysml:04e53eda-a597-4a9c-96a9-348d67cb9847 ]] {\r\n",
       "}\r\n",
       "\r\n",
       "}\r\n",
       "\r\n",
       "E2  - -> E4 [[psysml:0e1095c8-d4f6-4449-8c10-0793e56d6528 ]] : [x == 1]\r\n",
       "E2  - -> E5 [[psysml:0bc69c08-a059-419e-b618-d454e4819a50 ]] : [x > 1]\r\n",
       "E2  - -> E6 [[psysml:7bfaba1c-8598-44bd-a9fd-5f850f0b7fd7 ]] \r\n",
       "E2 - -> E3 [[psysml:df8d299f-9da3-41cd-a9dd-6e3a0d30decc ]] \r\n",
       "E3  - -> E4 [[psysml:131b15c1-7866-4964-88c1-b03f264417a9 ]] : [true]\r\n",
       "E3  - -> E5 [[psysml:825f54b9-3c70-45c0-b332-e5b9a5c4b905 ]] : [false]\r\n",
       "E4  - -> E5 [[psysml:b3779ea1-0b8c-4465-ae00-48dbba13ac92 ]] : [x == 0]\r\n",
       "E6  - -> E2 [[psysml:31538477-4a34-40a9-aec8-5df805757767 ]] : [x > 0]\r\n",
       "@enduml\r\n",
       "\n",
       "PlantUML version 1.2022.7(Mon Aug 22 17:01:30 UTC 2022)\n",
       "(EPL source distribution)\n",
       "Java Runtime: OpenJDK Runtime Environment\n",
       "JVM: OpenJDK 64-Bit Server VM\n",
       "Default Encoding: UTF-8\n",
       "Language: en\n",
       "Country: null\n",
       "--></g></svg>"
      ]
     },
     "execution_count": 8,
     "metadata": {},
     "output_type": "execute_result"
    }
   ],
   "source": [
    "%viz --style=\"COMPTREE\" --view=\"MIXED\" \"DecisionTest\""
   ]
  },
  {
   "cell_type": "code",
   "execution_count": 9,
   "id": "4534ecc9",
   "metadata": {
    "execution": {
     "iopub.execute_input": "2024-12-16T03:28:00.829446Z",
     "iopub.status.busy": "2024-12-16T03:28:00.829174Z",
     "iopub.status.idle": "2024-12-16T03:28:00.863010Z",
     "shell.execute_reply": "2024-12-16T03:28:00.862547Z"
    }
   },
   "outputs": [
    {
     "data": {
      "image/svg+xml": [
       "<?xml version=\"1.0\" encoding=\"UTF-8\" standalone=\"no\"?><svg xmlns=\"http://www.w3.org/2000/svg\" xmlns:xlink=\"http://www.w3.org/1999/xlink\" contentStyleType=\"text/css\" height=\"470px\" preserveAspectRatio=\"none\" style=\"width:329px;height:470px;background:#FFFFFF;\" version=\"1.1\" viewBox=\"0 0 329 470\" width=\"329px\" zoomAndPan=\"magnify\"><defs/><g><!--MD5=[fbc87193dbaf4d95561dea2c320d4a47]\n",
       "cluster E1--><g id=\"cluster_E1\"><a href=\"psysml:24509d73-250a-487a-bcd7-b59ee0863fbf\" target=\"_top\" title=\"psysml:24509d73-250a-487a-bcd7-b59ee0863fbf\" xlink:actuate=\"onRequest\" xlink:href=\"psysml:24509d73-250a-487a-bcd7-b59ee0863fbf\" xlink:show=\"new\" xlink:title=\"psysml:24509d73-250a-487a-bcd7-b59ee0863fbf\" xlink:type=\"simple\"><rect fill=\"#FFFFFF\" height=\"457\" id=\"E1\" style=\"stroke:#383838;stroke-width:1.5;\" width=\"315\" x=\"7\" y=\"7\"/><text fill=\"#000000\" font-family=\"sans-serif\" font-size=\"12\" font-style=\"italic\" lengthAdjust=\"spacing\" textLength=\"81\" x=\"124\" y=\"23.1387\">«action  def»</text><text fill=\"#000000\" font-family=\"sans-serif\" font-size=\"14\" lengthAdjust=\"spacing\" textLength=\"91\" x=\"119\" y=\"38.9639\">DecisionTest</text><line style=\"stroke:#383838;stroke-width:1.0;\" x1=\"7\" x2=\"322\" y1=\"47.2656\" y2=\"47.2656\"/></a></g><g id=\"elem_E2\"><polygon fill=\"#FFFFFF\" points=\"210,58,222,70,210,82,198,70,210,58\" style=\"stroke:#181818;stroke-width:0.5;\"/></g><g id=\"elem_E3\"><polygon fill=\"#FFFFFF\" points=\"35,169.5,47,181.5,35,193.5,23,181.5,35,169.5\" style=\"stroke:#181818;stroke-width:0.5;\"/></g><g><a href=\"psysml:f539a78a-befd-4456-a49f-f3788a07e7bd\" target=\"_top\" title=\"psysml:f539a78a-befd-4456-a49f-f3788a07e7bd\" xlink:actuate=\"onRequest\" xlink:href=\"psysml:f539a78a-befd-4456-a49f-f3788a07e7bd\" xlink:show=\"new\" xlink:title=\"psysml:f539a78a-befd-4456-a49f-f3788a07e7bd\" xlink:type=\"simple\"><rect fill=\"#FFFFFF\" height=\"45.2656\" id=\"E4\" rx=\"10\" ry=\"10\" style=\"stroke:#383838;stroke-width:1.5;\" width=\"60\" x=\"135\" y=\"281\"/><text fill=\"#000000\" font-family=\"sans-serif\" font-size=\"12\" font-style=\"italic\" lengthAdjust=\"spacing\" textLength=\"53\" x=\"138.5\" y=\"297.1387\">«action»</text><text fill=\"#000000\" font-family=\"sans-serif\" font-size=\"14\" lengthAdjust=\"spacing\" textLength=\"18\" x=\"156\" y=\"312.9639\">A1</text></a></g><g><a href=\"psysml:451b6b51-1ae2-4b81-be73-8fe0566d61d5\" target=\"_top\" title=\"psysml:451b6b51-1ae2-4b81-be73-8fe0566d61d5\" xlink:actuate=\"onRequest\" xlink:href=\"psysml:451b6b51-1ae2-4b81-be73-8fe0566d61d5\" xlink:show=\"new\" xlink:title=\"psysml:451b6b51-1ae2-4b81-be73-8fe0566d61d5\" xlink:type=\"simple\"><rect fill=\"#FFFFFF\" height=\"45.2656\" id=\"E5\" rx=\"10\" ry=\"10\" style=\"stroke:#383838;stroke-width:1.5;\" width=\"60\" x=\"135\" y=\"403\"/><text fill=\"#000000\" font-family=\"sans-serif\" font-size=\"12\" font-style=\"italic\" lengthAdjust=\"spacing\" textLength=\"53\" x=\"138.5\" y=\"419.1387\">«action»</text><text fill=\"#000000\" font-family=\"sans-serif\" font-size=\"14\" lengthAdjust=\"spacing\" textLength=\"18\" x=\"156\" y=\"434.9639\">A2</text></a></g><g><a href=\"psysml:04e53eda-a597-4a9c-96a9-348d67cb9847\" target=\"_top\" title=\"psysml:04e53eda-a597-4a9c-96a9-348d67cb9847\" xlink:actuate=\"onRequest\" xlink:href=\"psysml:04e53eda-a597-4a9c-96a9-348d67cb9847\" xlink:show=\"new\" xlink:title=\"psysml:04e53eda-a597-4a9c-96a9-348d67cb9847\" xlink:type=\"simple\"><rect fill=\"#FFFFFF\" height=\"45.2656\" id=\"E6\" rx=\"10\" ry=\"10\" style=\"stroke:#383838;stroke-width:1.5;\" width=\"60\" x=\"246\" y=\"159\"/><text fill=\"#000000\" font-family=\"sans-serif\" font-size=\"12\" font-style=\"italic\" lengthAdjust=\"spacing\" textLength=\"53\" x=\"249.5\" y=\"175.1387\">«action»</text><text fill=\"#000000\" font-family=\"sans-serif\" font-size=\"14\" lengthAdjust=\"spacing\" textLength=\"18\" x=\"267\" y=\"190.9639\">A3</text></a></g><!--MD5=[4d03bb2d0377dc85ccfab60ff574652b]\n",
       "link E2 to E4--><g id=\"link_E2_E4\"><a href=\"psysml:0e1095c8-d4f6-4449-8c10-0793e56d6528\" target=\"_top\" title=\"psysml:0e1095c8-d4f6-4449-8c10-0793e56d6528\" xlink:actuate=\"onRequest\" xlink:href=\"psysml:0e1095c8-d4f6-4449-8c10-0793e56d6528\" xlink:show=\"new\" xlink:title=\"psysml:0e1095c8-d4f6-4449-8c10-0793e56d6528\" xlink:type=\"simple\"><path d=\"M205.25,77.33 C190.12,97.51 144,159 144,159 C144,159 144,204 144,204 C144,204 153.07,246.55 159.29,275.72 \" fill=\"none\" id=\"E2-to-E4\" style=\"stroke:#181818;stroke-width:1.0;\"/><polygon fill=\"#181818\" points=\"160.34,280.64,162.3731,271.0033,159.2963,275.7502,154.5494,272.6733,160.34,280.64\" style=\"stroke:#181818;stroke-width:1.0;\"/><text fill=\"#000000\" font-family=\"sans-serif\" font-size=\"13\" lengthAdjust=\"spacing\" textLength=\"55\" x=\"145\" y=\"186.0669\">[x == 1]</text></a></g><!--MD5=[dcad52bbbca2fe8adc741ce38b45dc12]\n",
       "link E2 to E5--><g id=\"link_E2_E5\"><a href=\"psysml:0bc69c08-a059-419e-b618-d454e4819a50\" target=\"_top\" title=\"psysml:0bc69c08-a059-419e-b618-d454e4819a50\" xlink:actuate=\"onRequest\" xlink:href=\"psysml:0bc69c08-a059-419e-b618-d454e4819a50\" xlink:show=\"new\" xlink:title=\"psysml:0bc69c08-a059-419e-b618-d454e4819a50\" xlink:type=\"simple\"><path d=\"M210.59,81.48 C213.48,132.9 226,356 226,356 C226,356 226,373 226,373 C226,373 210.05,386.47 194.46,399.63 \" fill=\"none\" id=\"E2-to-E5\" style=\"stroke:#181818;stroke-width:1.0;\"/><polygon fill=\"#181818\" points=\"190.52,402.96,199.9738,400.1985,194.3364,399.7296,194.8052,394.0923,190.52,402.96\" style=\"stroke:#181818;stroke-width:1.0;\"/><text fill=\"#000000\" font-family=\"sans-serif\" font-size=\"13\" lengthAdjust=\"spacing\" textLength=\"44\" x=\"221\" y=\"247.0669\">[x &gt; 1]</text></a></g><!--MD5=[e3e28c1befcf002155aa15e1416b4315]\n",
       "link E2 to E6--><g id=\"link_E2_E6\"><a href=\"psysml:7bfaba1c-8598-44bd-a9fd-5f850f0b7fd7\" target=\"_top\" title=\"psysml:7bfaba1c-8598-44bd-a9fd-5f850f0b7fd7\" xlink:actuate=\"onRequest\" xlink:href=\"psysml:7bfaba1c-8598-44bd-a9fd-5f850f0b7fd7\" xlink:show=\"new\" xlink:title=\"psysml:7bfaba1c-8598-44bd-a9fd-5f850f0b7fd7\" xlink:type=\"simple\"><path d=\"M212.03,80.06 C215.69,96.38 223,129 223,129 C223,129 236.62,142.24 250.06,155.29 \" fill=\"none\" id=\"E2-to-E6\" style=\"stroke:#181818;stroke-width:1.0;\"/><polygon fill=\"#181818\" points=\"253.83,158.96,250.1648,149.8185,250.2448,155.4748,244.5885,155.5548,253.83,158.96\" style=\"stroke:#181818;stroke-width:1.0;\"/></a></g><!--MD5=[2351f337d6de0f557b50152ba70847b5]\n",
       "link E6 to E2--><g id=\"link_E6_E2\"><a href=\"psysml:31538477-4a34-40a9-aec8-5df805757767\" target=\"_top\" title=\"psysml:31538477-4a34-40a9-aec8-5df805757767\" xlink:actuate=\"onRequest\" xlink:href=\"psysml:31538477-4a34-40a9-aec8-5df805757767\" xlink:show=\"new\" xlink:title=\"psysml:31538477-4a34-40a9-aec8-5df805757767\" xlink:type=\"simple\"><path d=\"M262.83,158.65 C249.09,135.85 228.04,100.94 217.13,82.82 \" fill=\"none\" id=\"E6-to-E2\" style=\"stroke:#181818;stroke-width:1.0;\"/><polygon fill=\"#181818\" points=\"214.33,78.18,215.5544,87.9525,216.913,82.4612,222.4043,83.8197,214.33,78.18\" style=\"stroke:#181818;stroke-width:1.0;\"/><text fill=\"#000000\" font-family=\"sans-serif\" font-size=\"13\" lengthAdjust=\"spacing\" textLength=\"44\" x=\"244\" y=\"125.0669\">[x &gt; 0]</text></a></g><!--MD5=[2720a5a1f2c3fca2055b230370638851]\n",
       "link E2 to E3--><g id=\"link_E2_E3\"><a href=\"psysml:df8d299f-9da3-41cd-a9dd-6e3a0d30decc\" target=\"_top\" title=\"psysml:df8d299f-9da3-41cd-a9dd-6e3a0d30decc\" xlink:actuate=\"onRequest\" xlink:href=\"psysml:df8d299f-9da3-41cd-a9dd-6e3a0d30decc\" xlink:show=\"new\" xlink:title=\"psysml:df8d299f-9da3-41cd-a9dd-6e3a0d30decc\" xlink:type=\"simple\"><path d=\"M202,74.22 C177.95,83.88 108,112 108,112 C108,112 64.37,152.94 44.57,171.52 \" fill=\"none\" id=\"E2-to-E3\" style=\"stroke:#181818;stroke-width:1.0;\"/><polygon fill=\"#181818\" points=\"40.73,175.12,50.032,171.8839,44.3781,171.7008,44.5613,166.0469,40.73,175.12\" style=\"stroke:#181818;stroke-width:1.0;\"/></a></g><!--MD5=[af87c684e3b0d8be13c1a698a818ef1e]\n",
       "link E3 to E4--><g id=\"link_E3_E4\"><a href=\"psysml:131b15c1-7866-4964-88c1-b03f264417a9\" target=\"_top\" title=\"psysml:131b15c1-7866-4964-88c1-b03f264417a9\" xlink:actuate=\"onRequest\" xlink:href=\"psysml:131b15c1-7866-4964-88c1-b03f264417a9\" xlink:show=\"new\" xlink:title=\"psysml:131b15c1-7866-4964-88c1-b03f264417a9\" xlink:type=\"simple\"><path d=\"M39.7,189.07 C51.96,206.21 84,251 84,251 C84,251 108.44,266.54 130.47,280.55 \" fill=\"none\" id=\"E3-to-E4\" style=\"stroke:#181818;stroke-width:1.0;\"/><polygon fill=\"#181818\" points=\"134.84,283.32,129.3874,275.1182,130.6193,280.6393,125.0983,281.8713,134.84,283.32\" style=\"stroke:#181818;stroke-width:1.0;\"/><text fill=\"#000000\" font-family=\"sans-serif\" font-size=\"13\" lengthAdjust=\"spacing\" textLength=\"36\" x=\"85\" y=\"247.0669\">[true]</text></a></g><!--MD5=[0188b64bb0ae78505a997a81836e11e9]\n",
       "link E3 to E5--><g id=\"link_E3_E5\"><a href=\"psysml:825f54b9-3c70-45c0-b332-e5b9a5c4b905\" target=\"_top\" title=\"psysml:825f54b9-3c70-45c0-b332-e5b9a5c4b905\" xlink:actuate=\"onRequest\" xlink:href=\"psysml:825f54b9-3c70-45c0-b332-e5b9a5c4b905\" xlink:show=\"new\" xlink:title=\"psysml:825f54b9-3c70-45c0-b332-e5b9a5c4b905\" xlink:type=\"simple\"><path d=\"M37.56,191.48 C46.54,222.89 76,326 76,326 C76,326 115.41,369.62 141.78,398.8 \" fill=\"none\" id=\"E3-to-E5\" style=\"stroke:#181818;stroke-width:1.0;\"/><polygon fill=\"#181818\" points=\"145.25,402.64,142.1846,393.2804,141.8981,398.9299,136.2485,398.6435,145.25,402.64\" style=\"stroke:#181818;stroke-width:1.0;\"/><text fill=\"#000000\" font-family=\"sans-serif\" font-size=\"13\" lengthAdjust=\"spacing\" textLength=\"40\" x=\"77\" y=\"308.0669\">[false]</text></a></g><!--MD5=[1b7591eae5389033d8d09a9d6721a717]\n",
       "link E4 to E5--><g id=\"link_E4_E5\"><a href=\"psysml:b3779ea1-0b8c-4465-ae00-48dbba13ac92\" target=\"_top\" title=\"psysml:b3779ea1-0b8c-4465-ae00-48dbba13ac92\" xlink:actuate=\"onRequest\" xlink:href=\"psysml:b3779ea1-0b8c-4465-ae00-48dbba13ac92\" xlink:show=\"new\" xlink:title=\"psysml:b3779ea1-0b8c-4465-ae00-48dbba13ac92\" xlink:type=\"simple\"><path d=\"M165,326.23 C165,346.37 165,376.37 165,397.92 \" fill=\"none\" id=\"E4-to-E5\" style=\"stroke:#181818;stroke-width:1.0;\"/><polygon fill=\"#181818\" points=\"165,402.93,169,393.93,165,397.93,161,393.93,165,402.93\" style=\"stroke:#181818;stroke-width:1.0;\"/><text fill=\"#000000\" font-family=\"sans-serif\" font-size=\"13\" lengthAdjust=\"spacing\" textLength=\"55\" x=\"166\" y=\"369.0669\">[x == 0]</text></a></g><!--MD5=[91ba76ecd4e9a212b209317d6d47f6df]\n",
       "@startuml\r\n",
       "skin sysmlbw\r\n",
       "skinparam monochrome true\r\n",
       "skinparam wrapWidth 300\r\n",
       "hide circle\r\n",
       "skinparam linetype polyline\r\n",
       "\r\n",
       "rec def \"DecisionTest\" as E1  <<(T,blue) action  def>> [[psysml:24509d73-250a-487a-bcd7-b59ee0863fbf ]] {\r\n",
       "choice \"test x\" as E2  [[psysml:7d99bd45-3b62-4bbf-b126-0db5f71d3136 ]] \r\n",
       "choice \"<s>noname</s>\" as E3  [[psysml:6dee609b-d6ae-4161-97b9-077c5f3bd0c2 ]] \r\n",
       "rec usage \"A1\" as E4  <<(T,blue) action>> [[psysml:f539a78a-befd-4456-a49f-f3788a07e7bd ]] {\r\n",
       "}\r\n",
       "\r\n",
       "rec usage \"A2\" as E5  <<(T,blue) action>> [[psysml:451b6b51-1ae2-4b81-be73-8fe0566d61d5 ]] {\r\n",
       "}\r\n",
       "\r\n",
       "rec usage \"A3\" as E6  <<(T,blue) action>> [[psysml:04e53eda-a597-4a9c-96a9-348d67cb9847 ]] {\r\n",
       "}\r\n",
       "\r\n",
       "}\r\n",
       "\r\n",
       "E2  - -> E4 [[psysml:0e1095c8-d4f6-4449-8c10-0793e56d6528 ]] : [x == 1]\r\n",
       "E2  - -> E5 [[psysml:0bc69c08-a059-419e-b618-d454e4819a50 ]] : [x > 1]\r\n",
       "E2  - -> E6 [[psysml:7bfaba1c-8598-44bd-a9fd-5f850f0b7fd7 ]] \r\n",
       "E2 - -> E3 [[psysml:df8d299f-9da3-41cd-a9dd-6e3a0d30decc ]] \r\n",
       "E3  - -> E4 [[psysml:131b15c1-7866-4964-88c1-b03f264417a9 ]] : [true]\r\n",
       "E3  - -> E5 [[psysml:825f54b9-3c70-45c0-b332-e5b9a5c4b905 ]] : [false]\r\n",
       "E4  - -> E5 [[psysml:b3779ea1-0b8c-4465-ae00-48dbba13ac92 ]] : [x == 0]\r\n",
       "E6  - -> E2 [[psysml:31538477-4a34-40a9-aec8-5df805757767 ]] : [x > 0]\r\n",
       "@enduml\r\n",
       "\n",
       "PlantUML version 1.2022.7(Mon Aug 22 17:01:30 UTC 2022)\n",
       "(EPL source distribution)\n",
       "Java Runtime: OpenJDK Runtime Environment\n",
       "JVM: OpenJDK 64-Bit Server VM\n",
       "Default Encoding: UTF-8\n",
       "Language: en\n",
       "Country: null\n",
       "--></g></svg>"
      ]
     },
     "execution_count": 9,
     "metadata": {},
     "output_type": "execute_result"
    }
   ],
   "source": [
    "%viz --style=\"POLYLINE\" --view=\"Default\" \"DecisionTest\""
   ]
  },
  {
   "cell_type": "code",
   "execution_count": 10,
   "id": "f8d06118",
   "metadata": {
    "execution": {
     "iopub.execute_input": "2024-12-16T03:28:00.913363Z",
     "iopub.status.busy": "2024-12-16T03:28:00.913090Z",
     "iopub.status.idle": "2024-12-16T03:28:00.959023Z",
     "shell.execute_reply": "2024-12-16T03:28:00.959164Z"
    }
   },
   "outputs": [
    {
     "data": {
      "image/svg+xml": [
       "<?xml version=\"1.0\" encoding=\"UTF-8\" standalone=\"no\"?><svg xmlns=\"http://www.w3.org/2000/svg\" xmlns:xlink=\"http://www.w3.org/1999/xlink\" contentStyleType=\"text/css\" height=\"507px\" preserveAspectRatio=\"none\" style=\"width:459px;height:507px;background:#FFFFFF;\" version=\"1.1\" viewBox=\"0 0 459 507\" width=\"459px\" zoomAndPan=\"magnify\"><defs/><g><!--MD5=[43c9051892ef23e1a46a86907403d788]\n",
       "class E1--><a href=\"psysml:24509d73-250a-487a-bcd7-b59ee0863fbf\" target=\"_top\" title=\"psysml:24509d73-250a-487a-bcd7-b59ee0863fbf\" xlink:actuate=\"onRequest\" xlink:href=\"psysml:24509d73-250a-487a-bcd7-b59ee0863fbf\" xlink:show=\"new\" xlink:title=\"psysml:24509d73-250a-487a-bcd7-b59ee0863fbf\" xlink:type=\"simple\"><g id=\"elem_E1\"><rect fill=\"#FFFFFF\" height=\"277.3094\" id=\"E1\" style=\"stroke:#181818;stroke-width:0.5;\" width=\"204\" x=\"143\" y=\"7\"/><text fill=\"#000000\" font-family=\"sans-serif\" font-size=\"12\" font-style=\"italic\" lengthAdjust=\"spacing\" textLength=\"81\" x=\"204.5\" y=\"23.1387\">«action  def»</text><text fill=\"#000000\" font-family=\"sans-serif\" font-size=\"14\" lengthAdjust=\"spacing\" textLength=\"91\" x=\"199.5\" y=\"38.9639\">DecisionTest</text><line style=\"stroke:#181818;stroke-width:0.5;\" x1=\"144\" x2=\"346\" y1=\"47.2656\" y2=\"47.2656\"/><text fill=\"#000000\" font-family=\"sans-serif\" font-size=\"14\" lengthAdjust=\"spacing\" textLength=\"36\" x=\"149\" y=\"74.7795\">x = 1</text><text fill=\"#000000\" font-family=\"sans-serif\" font-size=\"14\" font-style=\"italic\" lengthAdjust=\"spacing\" textLength=\"66\" x=\"212\" y=\"59.6123\">attributes</text><line style=\"stroke:#181818;stroke-width:1.0;\" x1=\"144\" x2=\"346\" y1=\"82.0813\" y2=\"82.0813\"/><text fill=\"#000000\" font-family=\"sans-serif\" font-size=\"14\" lengthAdjust=\"spacing\" textLength=\"18\" x=\"149\" y=\"109.5951\">A3</text><text fill=\"#000000\" font-family=\"sans-serif\" font-size=\"14\" font-style=\"italic\" lengthAdjust=\"spacing\" textLength=\"50\" x=\"220\" y=\"94.4279\">actions</text><line style=\"stroke:#181818;stroke-width:1.0;\" x1=\"144\" x2=\"346\" y1=\"116.8969\" y2=\"116.8969\"/><text fill=\"#000000\" font-family=\"sans-serif\" font-size=\"14\" lengthAdjust=\"spacing\" textLength=\"192\" x=\"149\" y=\"144.4107\">noname first test x then null</text><text fill=\"#000000\" font-family=\"sans-serif\" font-size=\"14\" font-style=\"italic\" lengthAdjust=\"spacing\" textLength=\"87\" x=\"201.5\" y=\"129.2436\">successions</text><line style=\"stroke:#181818;stroke-width:1.0;\" x1=\"144\" x2=\"346\" y1=\"151.7125\" y2=\"151.7125\"/><text fill=\"#000000\" font-family=\"sans-serif\" font-size=\"14\" lengthAdjust=\"spacing\" textLength=\"4\" x=\"149\" y=\"179.2264\"> </text><text fill=\"#000000\" font-family=\"sans-serif\" font-size=\"14\" lengthAdjust=\"spacing\" textLength=\"4\" x=\"149\" y=\"195.5232\"> </text><text fill=\"#000000\" font-family=\"sans-serif\" font-size=\"14\" lengthAdjust=\"spacing\" textLength=\"4\" x=\"149\" y=\"211.8201\"> </text><text fill=\"#000000\" font-family=\"sans-serif\" font-size=\"14\" lengthAdjust=\"spacing\" textLength=\"4\" x=\"149\" y=\"228.117\"> </text><text fill=\"#000000\" font-family=\"sans-serif\" font-size=\"14\" lengthAdjust=\"spacing\" textLength=\"4\" x=\"149\" y=\"244.4139\"> </text><text fill=\"#000000\" font-family=\"sans-serif\" font-size=\"14\" lengthAdjust=\"spacing\" textLength=\"4\" x=\"149\" y=\"260.7107\"> </text><text fill=\"#000000\" font-family=\"sans-serif\" font-size=\"14\" lengthAdjust=\"spacing\" textLength=\"9\" x=\"149\" y=\"277.0076\">S</text><text fill=\"#000000\" font-family=\"sans-serif\" font-size=\"14\" font-style=\"italic\" lengthAdjust=\"spacing\" textLength=\"72\" x=\"209\" y=\"164.0592\">transitions</text></g></a><!--MD5=[b4997ac47864f28c2f74865a473b2911]\n",
       "class E2--><a href=\"psysml:7d99bd45-3b62-4bbf-b126-0db5f71d3136\" target=\"_top\" title=\"psysml:7d99bd45-3b62-4bbf-b126-0db5f71d3136\" xlink:actuate=\"onRequest\" xlink:href=\"psysml:7d99bd45-3b62-4bbf-b126-0db5f71d3136\" xlink:show=\"new\" xlink:title=\"psysml:7d99bd45-3b62-4bbf-b126-0db5f71d3136\" xlink:type=\"simple\"><g id=\"elem_E2\"><rect fill=\"#FFFFFF\" height=\"48.2656\" id=\"E2\" rx=\"10\" ry=\"10\" style=\"stroke:#181818;stroke-width:0.5;\" width=\"104\" x=\"7\" y=\"344\"/><text fill=\"#000000\" font-family=\"sans-serif\" font-size=\"12\" font-style=\"italic\" lengthAdjust=\"spacing\" textLength=\"102\" x=\"8\" y=\"360.1387\">«decision node»</text><text fill=\"#000000\" font-family=\"sans-serif\" font-size=\"14\" lengthAdjust=\"spacing\" textLength=\"38\" x=\"36\" y=\"375.9639\">test x</text><line style=\"stroke:#181818;stroke-width:0.5;\" x1=\"8\" x2=\"110\" y1=\"384.2656\" y2=\"384.2656\"/></g></a><!--MD5=[09b614a08d8cba4a07c9adeb5e0fee81]\n",
       "class E3--><a href=\"psysml:6dee609b-d6ae-4161-97b9-077c5f3bd0c2\" target=\"_top\" title=\"psysml:6dee609b-d6ae-4161-97b9-077c5f3bd0c2\" xlink:actuate=\"onRequest\" xlink:href=\"psysml:6dee609b-d6ae-4161-97b9-077c5f3bd0c2\" xlink:show=\"new\" xlink:title=\"psysml:6dee609b-d6ae-4161-97b9-077c5f3bd0c2\" xlink:type=\"simple\"><g id=\"elem_E3\"><rect fill=\"#FFFFFF\" height=\"48.2656\" id=\"E3\" rx=\"10\" ry=\"10\" style=\"stroke:#181818;stroke-width:0.5;\" width=\"104\" x=\"59\" y=\"452\"/><text fill=\"#000000\" font-family=\"sans-serif\" font-size=\"12\" font-style=\"italic\" lengthAdjust=\"spacing\" textLength=\"102\" x=\"60\" y=\"468.1387\">«decision node»</text><text fill=\"#000000\" font-family=\"sans-serif\" font-size=\"14\" lengthAdjust=\"spacing\" text-decoration=\"line-through\" textLength=\"57\" x=\"78.5\" y=\"483.9639\">noname</text><text fill=\"#000000\" font-family=\"sans-serif\" font-size=\"14\" lengthAdjust=\"spacing\" textLength=\"8\" x=\"135.5\" y=\"483.9639\">  </text><line style=\"stroke:#181818;stroke-width:0.5;\" x1=\"60\" x2=\"162\" y1=\"492.2656\" y2=\"492.2656\"/></g></a><!--MD5=[ebbe1d658d1005bcc118a6aa81145e00]\n",
       "class E4--><a href=\"psysml:f539a78a-befd-4456-a49f-f3788a07e7bd\" target=\"_top\" title=\"psysml:f539a78a-befd-4456-a49f-f3788a07e7bd\" xlink:actuate=\"onRequest\" xlink:href=\"psysml:f539a78a-befd-4456-a49f-f3788a07e7bd\" xlink:show=\"new\" xlink:title=\"psysml:f539a78a-befd-4456-a49f-f3788a07e7bd\" xlink:type=\"simple\"><g id=\"elem_E4\"><rect fill=\"#FFFFFF\" height=\"48.2656\" id=\"E4\" rx=\"10\" ry=\"10\" style=\"stroke:#181818;stroke-width:0.5;\" width=\"55\" x=\"217.5\" y=\"344\"/><text fill=\"#000000\" font-family=\"sans-serif\" font-size=\"12\" font-style=\"italic\" lengthAdjust=\"spacing\" textLength=\"53\" x=\"218.5\" y=\"360.1387\">«action»</text><text fill=\"#000000\" font-family=\"sans-serif\" font-size=\"14\" lengthAdjust=\"spacing\" textLength=\"18\" x=\"232\" y=\"375.9639\">A1</text><line style=\"stroke:#181818;stroke-width:0.5;\" x1=\"218.5\" x2=\"271.5\" y1=\"384.2656\" y2=\"384.2656\"/></g></a><!--MD5=[270fce915f116d4de14055a7c1d9a0f3]\n",
       "class E5--><a href=\"psysml:451b6b51-1ae2-4b81-be73-8fe0566d61d5\" target=\"_top\" title=\"psysml:451b6b51-1ae2-4b81-be73-8fe0566d61d5\" xlink:actuate=\"onRequest\" xlink:href=\"psysml:451b6b51-1ae2-4b81-be73-8fe0566d61d5\" xlink:show=\"new\" xlink:title=\"psysml:451b6b51-1ae2-4b81-be73-8fe0566d61d5\" xlink:type=\"simple\"><g id=\"elem_E5\"><rect fill=\"#FFFFFF\" height=\"48.2656\" id=\"E5\" rx=\"10\" ry=\"10\" style=\"stroke:#181818;stroke-width:0.5;\" width=\"55\" x=\"307.5\" y=\"344\"/><text fill=\"#000000\" font-family=\"sans-serif\" font-size=\"12\" font-style=\"italic\" lengthAdjust=\"spacing\" textLength=\"53\" x=\"308.5\" y=\"360.1387\">«action»</text><text fill=\"#000000\" font-family=\"sans-serif\" font-size=\"14\" lengthAdjust=\"spacing\" textLength=\"18\" x=\"322\" y=\"375.9639\">A2</text><line style=\"stroke:#181818;stroke-width:0.5;\" x1=\"308.5\" x2=\"361.5\" y1=\"384.2656\" y2=\"384.2656\"/></g></a><!--MD5=[60a26617385b1d2d0262a64233df1f8d]\n",
       "class E6--><a href=\"psysml:04e53eda-a597-4a9c-96a9-348d67cb9847\" target=\"_top\" title=\"psysml:04e53eda-a597-4a9c-96a9-348d67cb9847\" xlink:actuate=\"onRequest\" xlink:href=\"psysml:04e53eda-a597-4a9c-96a9-348d67cb9847\" xlink:show=\"new\" xlink:title=\"psysml:04e53eda-a597-4a9c-96a9-348d67cb9847\" xlink:type=\"simple\"><g id=\"elem_E6\"><rect fill=\"#FFFFFF\" height=\"48.2656\" id=\"E6\" rx=\"10\" ry=\"10\" style=\"stroke:#181818;stroke-width:0.5;\" width=\"55\" x=\"397.5\" y=\"344\"/><text fill=\"#000000\" font-family=\"sans-serif\" font-size=\"12\" font-style=\"italic\" lengthAdjust=\"spacing\" textLength=\"53\" x=\"398.5\" y=\"360.1387\">«action»</text><text fill=\"#000000\" font-family=\"sans-serif\" font-size=\"14\" lengthAdjust=\"spacing\" textLength=\"18\" x=\"412\" y=\"375.9639\">A3</text><line style=\"stroke:#181818;stroke-width:0.5;\" x1=\"398.5\" x2=\"451.5\" y1=\"384.2656\" y2=\"384.2656\"/></g></a><!--MD5=[a523cb2a0b79ecf9065ad8783f96c320]\n",
       "reverse link E1 to E2--><g id=\"link_E1_E2\"><a href=\"psysml:0a57c05e-4dd3-44ad-ba12-51402458bbf0\" target=\"_top\" title=\"psysml:0a57c05e-4dd3-44ad-ba12-51402458bbf0\" xlink:actuate=\"onRequest\" xlink:href=\"psysml:0a57c05e-4dd3-44ad-ba12-51402458bbf0\" xlink:show=\"new\" xlink:title=\"psysml:0a57c05e-4dd3-44ad-ba12-51402458bbf0\" xlink:type=\"simple\"><path d=\"M134.13,277.93 C112.64,303.41 92.47,327.33 78.45,343.95 \" fill=\"none\" id=\"E1-backto-E2\" style=\"stroke:#181818;stroke-width:1.0;\"/><polygon fill=\"#181818\" points=\"142.75,267.72,135.824,269.7277,135.0135,276.8931,141.9394,274.8854,142.75,267.72\" style=\"stroke:#181818;stroke-width:1.0;\"/></a></g><!--MD5=[2720a5a1f2c3fca2055b230370638851]\n",
       "link E2 to E3--><g id=\"link_E2_E3\"><a href=\"psysml:df8d299f-9da3-41cd-a9dd-6e3a0d30decc\" target=\"_top\" title=\"psysml:df8d299f-9da3-41cd-a9dd-6e3a0d30decc\" xlink:actuate=\"onRequest\" xlink:href=\"psysml:df8d299f-9da3-41cd-a9dd-6e3a0d30decc\" xlink:show=\"new\" xlink:title=\"psysml:df8d299f-9da3-41cd-a9dd-6e3a0d30decc\" xlink:type=\"simple\"><path d=\"M70.28,392 C78.2,408.14 88.83,429.82 97.25,446.97 \" fill=\"none\" id=\"E2-to-E3\" style=\"stroke:#181818;stroke-width:1.0;\"/><polygon fill=\"#181818\" points=\"99.56,451.68,99.1883,441.8382,97.3583,447.1908,92.0056,445.3609,99.56,451.68\" style=\"stroke:#181818;stroke-width:1.0;\"/></a></g><!--MD5=[5d7b3810b1dd9b5164bea1151b29b665]\n",
       "reverse link E1 to E3--><g id=\"link_E1_E3\"><a href=\"psysml:5efd2738-c984-493d-a46e-1379d8b8bf4b\" target=\"_top\" title=\"psysml:5efd2738-c984-493d-a46e-1379d8b8bf4b\" xlink:actuate=\"onRequest\" xlink:href=\"psysml:5efd2738-c984-493d-a46e-1379d8b8bf4b\" xlink:show=\"new\" xlink:title=\"psysml:5efd2738-c984-493d-a46e-1379d8b8bf4b\" xlink:type=\"simple\"><path d=\"M183.72,296.73 C159.26,356.7 133.77,419.17 120.43,451.87 \" fill=\"none\" id=\"E1-backto-E3\" style=\"stroke:#181818;stroke-width:1.0;\"/><polygon fill=\"#181818\" points=\"188.75,284.39,182.7796,288.434,184.2162,295.5005,190.1866,291.4566,188.75,284.39\" style=\"stroke:#181818;stroke-width:1.0;\"/></a></g><!--MD5=[f2c5c03aa1e8c0ba21c10a05e6444b8e]\n",
       "reverse link E1 to E4--><g id=\"link_E1_E4\"><a href=\"psysml:867ae522-9684-4034-9c56-5f70d3a76b09\" target=\"_top\" title=\"psysml:867ae522-9684-4034-9c56-5f70d3a76b09\" xlink:actuate=\"onRequest\" xlink:href=\"psysml:867ae522-9684-4034-9c56-5f70d3a76b09\" xlink:show=\"new\" xlink:title=\"psysml:867ae522-9684-4034-9c56-5f70d3a76b09\" xlink:type=\"simple\"><path d=\"M245,297.51 C245,315.33 245,331.5 245,343.75 \" fill=\"none\" id=\"E1-backto-E4\" style=\"stroke:#181818;stroke-width:1.0;\"/><polygon fill=\"#181818\" points=\"245,284.27,241,290.27,245,296.27,249,290.27,245,284.27\" style=\"stroke:#181818;stroke-width:1.0;\"/></a></g><!--MD5=[33238bef88d6431a141d8bc8fb12bca0]\n",
       "reverse link E1 to E5--><g id=\"link_E1_E5\"><a href=\"psysml:e0e8ad72-4177-4702-a62e-bf2c3ff4a78a\" target=\"_top\" title=\"psysml:e0e8ad72-4177-4702-a62e-bf2c3ff4a78a\" xlink:actuate=\"onRequest\" xlink:href=\"psysml:e0e8ad72-4177-4702-a62e-bf2c3ff4a78a\" xlink:show=\"new\" xlink:title=\"psysml:e0e8ad72-4177-4702-a62e-bf2c3ff4a78a\" xlink:type=\"simple\"><path d=\"M306.21,296.47 C313.65,314.7 320.41,331.26 325.51,343.75 \" fill=\"none\" id=\"E1-backto-E5\" style=\"stroke:#181818;stroke-width:1.0;\"/><polygon fill=\"#181818\" points=\"301.23,284.27,299.7934,291.3366,305.7638,295.3805,307.2004,288.314,301.23,284.27\" style=\"stroke:#181818;stroke-width:1.0;\"/></a></g><!--MD5=[aca2ef284c2b1b90e17e73bf3f292c07]\n",
       "reverse link E1 to E6--><g id=\"link_E1_E6\"><a href=\"psysml:3e72a653-2f0b-4c94-896a-b70e2d6f389f\" target=\"_top\" title=\"psysml:3e72a653-2f0b-4c94-896a-b70e2d6f389f\" xlink:actuate=\"onRequest\" xlink:href=\"psysml:3e72a653-2f0b-4c94-896a-b70e2d6f389f\" xlink:show=\"new\" xlink:title=\"psysml:3e72a653-2f0b-4c94-896a-b70e2d6f389f\" xlink:type=\"simple\"><path d=\"M355.55,281.92 C375.09,305.86 393.27,328.14 406.13,343.88 \" fill=\"none\" id=\"E1-backto-E6\" style=\"stroke:#181818;stroke-width:1.0;\"/><polygon fill=\"#181818\" points=\"347.1,271.57,347.7986,278.7472,354.6924,280.8628,353.9938,273.6856,347.1,271.57\" style=\"stroke:#181818;stroke-width:1.0;\"/></a></g><!--MD5=[f48d346001b8e38459994c3c2d75c5a4]\n",
       "@startuml\r\n",
       "skin sysmlbw\r\n",
       "skinparam monochrome true\r\n",
       "skinparam wrapWidth 300\r\n",
       "hide circle\r\n",
       "skinparam linetype polyline\r\n",
       "\r\n",
       "comp def \"DecisionTest\" as E1  <<(T,blue) action  def>> [[psysml:24509d73-250a-487a-bcd7-b59ee0863fbf ]] {\r\n",
       "##//attributes//##\r\n",
       "x <U+003D> 1\r\n",
       "- -\r\n",
       "##//actions//##\r\n",
       "A3\r\n",
       "- -\r\n",
       "##//successions//##\r\n",
       "noname first test x then null\r\n",
       "- -\r\n",
       "##//transitions//##\r\n",
       "\r\n",
       "\r\n",
       "\r\n",
       "\r\n",
       "\r\n",
       "\r\n",
       "S\r\n",
       "}\r\n",
       "comp usage \"test x  \" as E2  <<(T,blue) decision node>> [[psysml:7d99bd45-3b62-4bbf-b126-0db5f71d3136 ]] {\r\n",
       "}\r\n",
       "comp usage \"<s>noname</s>  \" as E3  <<(T,blue) decision node>> [[psysml:6dee609b-d6ae-4161-97b9-077c5f3bd0c2 ]] {\r\n",
       "}\r\n",
       "comp usage \"A1  \" as E4  <<(T,blue) action>> [[psysml:f539a78a-befd-4456-a49f-f3788a07e7bd ]] {\r\n",
       "}\r\n",
       "comp usage \"A2  \" as E5  <<(T,blue) action>> [[psysml:451b6b51-1ae2-4b81-be73-8fe0566d61d5 ]] {\r\n",
       "}\r\n",
       "comp usage \"A3  \" as E6  <<(T,blue) action>> [[psysml:04e53eda-a597-4a9c-96a9-348d67cb9847 ]] {\r\n",
       "}\r\n",
       "E1 *- - E2 [[psysml:0a57c05e-4dd3-44ad-ba12-51402458bbf0 ]] \r\n",
       "E2 - -> E3 [[psysml:df8d299f-9da3-41cd-a9dd-6e3a0d30decc ]] \r\n",
       "E1 *- - E3 [[psysml:5efd2738-c984-493d-a46e-1379d8b8bf4b ]] \r\n",
       "E1 *- - E4 [[psysml:867ae522-9684-4034-9c56-5f70d3a76b09 ]] \r\n",
       "E1 *- - E5 [[psysml:e0e8ad72-4177-4702-a62e-bf2c3ff4a78a ]] \r\n",
       "E1 *- - E6 [[psysml:3e72a653-2f0b-4c94-896a-b70e2d6f389f ]] \r\n",
       "@enduml\r\n",
       "\n",
       "PlantUML version 1.2022.7(Mon Aug 22 17:01:30 UTC 2022)\n",
       "(EPL source distribution)\n",
       "Java Runtime: OpenJDK Runtime Environment\n",
       "JVM: OpenJDK 64-Bit Server VM\n",
       "Default Encoding: UTF-8\n",
       "Language: en\n",
       "Country: null\n",
       "--></g></svg>"
      ]
     },
     "execution_count": 10,
     "metadata": {},
     "output_type": "execute_result"
    }
   ],
   "source": [
    "%viz --style=\"POLYLINE\" --view=\"Tree\" \"DecisionTest\""
   ]
  },
  {
   "cell_type": "code",
   "execution_count": 11,
   "id": "fecf0022",
   "metadata": {
    "execution": {
     "iopub.execute_input": "2024-12-16T03:28:01.011989Z",
     "iopub.status.busy": "2024-12-16T03:28:01.011767Z",
     "iopub.status.idle": "2024-12-16T03:28:01.028153Z",
     "shell.execute_reply": "2024-12-16T03:28:01.027977Z"
    }
   },
   "outputs": [
    {
     "data": {
      "image/svg+xml": [
       "<?xml version=\"1.0\" encoding=\"UTF-8\" standalone=\"no\"?><svg xmlns=\"http://www.w3.org/2000/svg\" xmlns:xlink=\"http://www.w3.org/1999/xlink\" contentStyleType=\"text/css\" height=\"10px\" preserveAspectRatio=\"none\" style=\"width:10px;height:10px;background:#FFFFFF;\" version=\"1.1\" viewBox=\"0 0 10 10\" width=\"10px\" zoomAndPan=\"magnify\"><defs/><g><!--MD5=[20bed88d98f2aabbefdc8661420d403d]\n",
       "@startuml\r\n",
       "skin sysmlbw\r\n",
       "skinparam monochrome true\r\n",
       "skinparam wrapWidth 300\r\n",
       "hide circle\r\n",
       "skinparam linetype polyline\r\n",
       "\r\n",
       "@enduml\r\n",
       "\n",
       "PlantUML version 1.2022.7(Mon Aug 22 17:01:30 UTC 2022)\n",
       "(EPL source distribution)\n",
       "Java Runtime: OpenJDK Runtime Environment\n",
       "JVM: OpenJDK 64-Bit Server VM\n",
       "Default Encoding: UTF-8\n",
       "Language: en\n",
       "Country: null\n",
       "--></g></svg>"
      ]
     },
     "execution_count": 11,
     "metadata": {},
     "output_type": "execute_result"
    }
   ],
   "source": [
    "%viz --style=\"POLYLINE\" --view=\"State\" \"DecisionTest\""
   ]
  },
  {
   "cell_type": "code",
   "execution_count": 12,
   "id": "ba009047",
   "metadata": {
    "execution": {
     "iopub.execute_input": "2024-12-16T03:28:01.083808Z",
     "iopub.status.busy": "2024-12-16T03:28:01.083558Z",
     "iopub.status.idle": "2024-12-16T03:28:01.107547Z",
     "shell.execute_reply": "2024-12-16T03:28:01.106237Z"
    }
   },
   "outputs": [
    {
     "data": {
      "image/svg+xml": [
       "<?xml version=\"1.0\" encoding=\"UTF-8\" standalone=\"no\"?><svg xmlns=\"http://www.w3.org/2000/svg\" xmlns:xlink=\"http://www.w3.org/1999/xlink\" contentStyleType=\"text/css\" height=\"338px\" preserveAspectRatio=\"none\" style=\"width:329px;height:338px;background:#FFFFFF;\" version=\"1.1\" viewBox=\"0 0 329 338\" width=\"329px\" zoomAndPan=\"magnify\"><defs/><g><!--MD5=[fbc87193dbaf4d95561dea2c320d4a47]\n",
       "cluster E1--><g id=\"cluster_E1\"><a href=\"psysml:24509d73-250a-487a-bcd7-b59ee0863fbf\" target=\"_top\" title=\"psysml:24509d73-250a-487a-bcd7-b59ee0863fbf\" xlink:actuate=\"onRequest\" xlink:href=\"psysml:24509d73-250a-487a-bcd7-b59ee0863fbf\" xlink:show=\"new\" xlink:title=\"psysml:24509d73-250a-487a-bcd7-b59ee0863fbf\" xlink:type=\"simple\"><rect fill=\"#FFFFFF\" height=\"325\" id=\"E1\" style=\"stroke:#383838;stroke-width:1.5;\" width=\"315\" x=\"7\" y=\"7\"/><text fill=\"#000000\" font-family=\"sans-serif\" font-size=\"12\" font-style=\"italic\" lengthAdjust=\"spacing\" textLength=\"81\" x=\"124\" y=\"23.1387\">«action  def»</text><text fill=\"#000000\" font-family=\"sans-serif\" font-size=\"14\" lengthAdjust=\"spacing\" textLength=\"91\" x=\"119\" y=\"38.9639\">DecisionTest</text><line style=\"stroke:#383838;stroke-width:1.0;\" x1=\"7\" x2=\"322\" y1=\"47.2656\" y2=\"47.2656\"/></a></g><g id=\"elem_E2\"><polygon fill=\"#FFFFFF\" points=\"210,58,222,70,210,82,198,70,210,58\" style=\"stroke:#181818;stroke-width:0.5;\"/></g><g id=\"elem_E3\"><polygon fill=\"#FFFFFF\" points=\"35,125.5,47,137.5,35,149.5,23,137.5,35,125.5\" style=\"stroke:#181818;stroke-width:0.5;\"/></g><g><a href=\"psysml:f539a78a-befd-4456-a49f-f3788a07e7bd\" target=\"_top\" title=\"psysml:f539a78a-befd-4456-a49f-f3788a07e7bd\" xlink:actuate=\"onRequest\" xlink:href=\"psysml:f539a78a-befd-4456-a49f-f3788a07e7bd\" xlink:show=\"new\" xlink:title=\"psysml:f539a78a-befd-4456-a49f-f3788a07e7bd\" xlink:type=\"simple\"><rect fill=\"#FFFFFF\" height=\"45.2656\" id=\"E4\" rx=\"10\" ry=\"10\" style=\"stroke:#383838;stroke-width:1.5;\" width=\"60\" x=\"135\" y=\"193\"/><text fill=\"#000000\" font-family=\"sans-serif\" font-size=\"12\" font-style=\"italic\" lengthAdjust=\"spacing\" textLength=\"53\" x=\"138.5\" y=\"209.1387\">«action»</text><text fill=\"#000000\" font-family=\"sans-serif\" font-size=\"14\" lengthAdjust=\"spacing\" textLength=\"18\" x=\"156\" y=\"224.9639\">A1</text></a></g><g><a href=\"psysml:451b6b51-1ae2-4b81-be73-8fe0566d61d5\" target=\"_top\" title=\"psysml:451b6b51-1ae2-4b81-be73-8fe0566d61d5\" xlink:actuate=\"onRequest\" xlink:href=\"psysml:451b6b51-1ae2-4b81-be73-8fe0566d61d5\" xlink:show=\"new\" xlink:title=\"psysml:451b6b51-1ae2-4b81-be73-8fe0566d61d5\" xlink:type=\"simple\"><rect fill=\"#FFFFFF\" height=\"45.2656\" id=\"E5\" rx=\"10\" ry=\"10\" style=\"stroke:#383838;stroke-width:1.5;\" width=\"60\" x=\"135\" y=\"271\"/><text fill=\"#000000\" font-family=\"sans-serif\" font-size=\"12\" font-style=\"italic\" lengthAdjust=\"spacing\" textLength=\"53\" x=\"138.5\" y=\"287.1387\">«action»</text><text fill=\"#000000\" font-family=\"sans-serif\" font-size=\"14\" lengthAdjust=\"spacing\" textLength=\"18\" x=\"156\" y=\"302.9639\">A2</text></a></g><g><a href=\"psysml:04e53eda-a597-4a9c-96a9-348d67cb9847\" target=\"_top\" title=\"psysml:04e53eda-a597-4a9c-96a9-348d67cb9847\" xlink:actuate=\"onRequest\" xlink:href=\"psysml:04e53eda-a597-4a9c-96a9-348d67cb9847\" xlink:show=\"new\" xlink:title=\"psysml:04e53eda-a597-4a9c-96a9-348d67cb9847\" xlink:type=\"simple\"><rect fill=\"#FFFFFF\" height=\"45.2656\" id=\"E6\" rx=\"10\" ry=\"10\" style=\"stroke:#383838;stroke-width:1.5;\" width=\"60\" x=\"246\" y=\"115\"/><text fill=\"#000000\" font-family=\"sans-serif\" font-size=\"12\" font-style=\"italic\" lengthAdjust=\"spacing\" textLength=\"53\" x=\"249.5\" y=\"131.1387\">«action»</text><text fill=\"#000000\" font-family=\"sans-serif\" font-size=\"14\" lengthAdjust=\"spacing\" textLength=\"18\" x=\"267\" y=\"146.9639\">A3</text></a></g><!--MD5=[4d03bb2d0377dc85ccfab60ff574652b]\n",
       "link E2 to E4--><g id=\"link_E2_E4\"><a href=\"psysml:0e1095c8-d4f6-4449-8c10-0793e56d6528\" target=\"_top\" title=\"psysml:0e1095c8-d4f6-4449-8c10-0793e56d6528\" xlink:actuate=\"onRequest\" xlink:href=\"psysml:0e1095c8-d4f6-4449-8c10-0793e56d6528\" xlink:show=\"new\" xlink:title=\"psysml:0e1095c8-d4f6-4449-8c10-0793e56d6528\" xlink:type=\"simple\"><path d=\"M202.94,75.71 C185.91,87.06 144,115 144,115 C144,115 144,160 144,160 C144,160 149.51,174.31 154.89,188.26 \" fill=\"none\" id=\"E2-to-E4\" style=\"stroke:#181818;stroke-width:1.0;\"/><polygon fill=\"#181818\" points=\"156.7,192.96,157.2227,183.125,154.9147,188.2896,149.7501,185.9815,156.7,192.96\" style=\"stroke:#181818;stroke-width:1.0;\"/><text fill=\"#000000\" font-family=\"sans-serif\" font-size=\"13\" lengthAdjust=\"spacing\" textLength=\"55\" x=\"145\" y=\"142.0669\">[x == 1]</text></a></g><!--MD5=[dcad52bbbca2fe8adc741ce38b45dc12]\n",
       "link E2 to E5--><g id=\"link_E2_E5\"><a href=\"psysml:0bc69c08-a059-419e-b618-d454e4819a50\" target=\"_top\" title=\"psysml:0bc69c08-a059-419e-b618-d454e4819a50\" xlink:actuate=\"onRequest\" xlink:href=\"psysml:0bc69c08-a059-419e-b618-d454e4819a50\" xlink:show=\"new\" xlink:title=\"psysml:0bc69c08-a059-419e-b618-d454e4819a50\" xlink:type=\"simple\"><path d=\"M210.93,81.17 C214.34,118.51 226,246 226,246 C226,246 226,263 226,263 C226,263 213.5,269.05 199.81,275.66 \" fill=\"none\" id=\"E2-to-E5\" style=\"stroke:#181818;stroke-width:1.0;\"/><polygon fill=\"#181818\" points=\"195.14,277.92,204.9832,277.5859,199.6375,275.7355,201.488,270.3898,195.14,277.92\" style=\"stroke:#181818;stroke-width:1.0;\"/><text fill=\"#000000\" font-family=\"sans-serif\" font-size=\"13\" lengthAdjust=\"spacing\" textLength=\"44\" x=\"221\" y=\"181.0669\">[x &gt; 1]</text></a></g><!--MD5=[e3e28c1befcf002155aa15e1416b4315]\n",
       "link E2 to E6--><g id=\"link_E2_E6\"><a href=\"psysml:7bfaba1c-8598-44bd-a9fd-5f850f0b7fd7\" target=\"_top\" title=\"psysml:7bfaba1c-8598-44bd-a9fd-5f850f0b7fd7\" xlink:actuate=\"onRequest\" xlink:href=\"psysml:7bfaba1c-8598-44bd-a9fd-5f850f0b7fd7\" xlink:show=\"new\" xlink:title=\"psysml:7bfaba1c-8598-44bd-a9fd-5f850f0b7fd7\" xlink:type=\"simple\"><path d=\"M213.02,79.35 C216.86,89.98 223,107 223,107 C223,107 231.33,111.64 241.39,117.23 \" fill=\"none\" id=\"E2-to-E6\" style=\"stroke:#181818;stroke-width:1.0;\"/><polygon fill=\"#181818\" points=\"245.78,119.68,239.8748,111.7978,241.4153,117.2409,235.9722,118.7814,245.78,119.68\" style=\"stroke:#181818;stroke-width:1.0;\"/></a></g><!--MD5=[2351f337d6de0f557b50152ba70847b5]\n",
       "link E6 to E2--><g id=\"link_E6_E2\"><a href=\"psysml:31538477-4a34-40a9-aec8-5df805757767\" target=\"_top\" title=\"psysml:31538477-4a34-40a9-aec8-5df805757767\" xlink:actuate=\"onRequest\" xlink:href=\"psysml:31538477-4a34-40a9-aec8-5df805757767\" xlink:show=\"new\" xlink:title=\"psysml:31538477-4a34-40a9-aec8-5df805757767\" xlink:type=\"simple\"><path d=\"M254.23,114.89 C242.53,103.28 228.69,89.55 219.65,80.58 \" fill=\"none\" id=\"E6-to-E2\" style=\"stroke:#181818;stroke-width:1.0;\"/><polygon fill=\"#181818\" points=\"215.63,76.58,219.2026,85.7581,219.1798,80.1012,224.8366,80.0784,215.63,76.58\" style=\"stroke:#181818;stroke-width:1.0;\"/><text fill=\"#000000\" font-family=\"sans-serif\" font-size=\"13\" lengthAdjust=\"spacing\" textLength=\"44\" x=\"245\" y=\"103.0669\">[x &gt; 0]</text></a></g><!--MD5=[2720a5a1f2c3fca2055b230370638851]\n",
       "link E2 to E3--><g id=\"link_E2_E3\"><a href=\"psysml:df8d299f-9da3-41cd-a9dd-6e3a0d30decc\" target=\"_top\" title=\"psysml:df8d299f-9da3-41cd-a9dd-6e3a0d30decc\" xlink:actuate=\"onRequest\" xlink:href=\"psysml:df8d299f-9da3-41cd-a9dd-6e3a0d30decc\" xlink:show=\"new\" xlink:title=\"psysml:df8d299f-9da3-41cd-a9dd-6e3a0d30decc\" xlink:type=\"simple\"><path d=\"M200.59,72.75 C175.34,77.46 108,90 108,90 C108,90 66.35,116.53 45.97,129.51 \" fill=\"none\" id=\"E2-to-E3\" style=\"stroke:#181818;stroke-width:1.0;\"/><polygon fill=\"#181818\" points=\"41.74,132.21,51.4795,130.7464,45.9565,129.5228,47.1801,123.9999,41.74,132.21\" style=\"stroke:#181818;stroke-width:1.0;\"/></a></g><!--MD5=[af87c684e3b0d8be13c1a698a818ef1e]\n",
       "link E3 to E4--><g id=\"link_E3_E4\"><a href=\"psysml:131b15c1-7866-4964-88c1-b03f264417a9\" target=\"_top\" title=\"psysml:131b15c1-7866-4964-88c1-b03f264417a9\" xlink:actuate=\"onRequest\" xlink:href=\"psysml:131b15c1-7866-4964-88c1-b03f264417a9\" xlink:show=\"new\" xlink:title=\"psysml:131b15c1-7866-4964-88c1-b03f264417a9\" xlink:type=\"simple\"><path d=\"M41.01,144.2 C54.09,156.62 84,185 84,185 C84,185 108,193 108,193 C108,193 118.26,196.87 130.07,201.32 \" fill=\"none\" id=\"E3-to-E4\" style=\"stroke:#181818;stroke-width:1.0;\"/><polygon fill=\"#181818\" points=\"134.83,203.12,127.8145,196.2075,130.1501,201.3597,124.998,203.6953,134.83,203.12\" style=\"stroke:#181818;stroke-width:1.0;\"/><text fill=\"#000000\" font-family=\"sans-serif\" font-size=\"13\" lengthAdjust=\"spacing\" textLength=\"36\" x=\"85\" y=\"181.0669\">[true]</text></a></g><!--MD5=[0188b64bb0ae78505a997a81836e11e9]\n",
       "link E3 to E5--><g id=\"link_E3_E5\"><a href=\"psysml:825f54b9-3c70-45c0-b332-e5b9a5c4b905\" target=\"_top\" title=\"psysml:825f54b9-3c70-45c0-b332-e5b9a5c4b905\" xlink:actuate=\"onRequest\" xlink:href=\"psysml:825f54b9-3c70-45c0-b332-e5b9a5c4b905\" xlink:show=\"new\" xlink:title=\"psysml:825f54b9-3c70-45c0-b332-e5b9a5c4b905\" xlink:type=\"simple\"><path d=\"M38.22,146.31 C47.88,169.76 76,238 76,238 C76,238 105.53,256.08 130.57,271.42 \" fill=\"none\" id=\"E3-to-E5\" style=\"stroke:#181818;stroke-width:1.0;\"/><polygon fill=\"#181818\" points=\"134.87,274.05,129.2939,265.9317,130.6093,271.4335,125.1075,272.7489,134.87,274.05\" style=\"stroke:#181818;stroke-width:1.0;\"/><text fill=\"#000000\" font-family=\"sans-serif\" font-size=\"13\" lengthAdjust=\"spacing\" textLength=\"40\" x=\"77\" y=\"220.0669\">[false]</text></a></g><!--MD5=[1b7591eae5389033d8d09a9d6721a717]\n",
       "link E4 to E5--><g id=\"link_E4_E5\"><a href=\"psysml:b3779ea1-0b8c-4465-ae00-48dbba13ac92\" target=\"_top\" title=\"psysml:b3779ea1-0b8c-4465-ae00-48dbba13ac92\" xlink:actuate=\"onRequest\" xlink:href=\"psysml:b3779ea1-0b8c-4465-ae00-48dbba13ac92\" xlink:show=\"new\" xlink:title=\"psysml:b3779ea1-0b8c-4465-ae00-48dbba13ac92\" xlink:type=\"simple\"><path d=\"M165,238.08 C165,246.66 165,256.63 165,265.67 \" fill=\"none\" id=\"E4-to-E5\" style=\"stroke:#181818;stroke-width:1.0;\"/><polygon fill=\"#181818\" points=\"165,270.87,169,261.87,165,265.87,161,261.87,165,270.87\" style=\"stroke:#181818;stroke-width:1.0;\"/><text fill=\"#000000\" font-family=\"sans-serif\" font-size=\"13\" lengthAdjust=\"spacing\" textLength=\"55\" x=\"166\" y=\"259.0669\">[x == 0]</text></a></g><!--MD5=[acdd60db794c24547aa229e45101711e]\n",
       "@startuml\r\n",
       "skin sysmlbw\r\n",
       "skinparam monochrome true\r\n",
       "skinparam wrapWidth 300\r\n",
       "hide circle\r\n",
       "skinparam linetype polyline\r\n",
       "skinparam ranksep 10\r\n",
       "skinparam rectangle {\r\n",
       " backgroundColor<<block>> LightGreen\r\n",
       "}\r\n",
       "\r\n",
       "rec def \"DecisionTest\" as E1  <<(T,blue) action  def>> [[psysml:24509d73-250a-487a-bcd7-b59ee0863fbf ]] {\r\n",
       "choice \"test x\" as E2  [[psysml:7d99bd45-3b62-4bbf-b126-0db5f71d3136 ]] \r\n",
       "choice \"<s>noname</s>\" as E3  [[psysml:6dee609b-d6ae-4161-97b9-077c5f3bd0c2 ]] \r\n",
       "rec usage \"A1\" as E4  <<(T,blue) action>> [[psysml:f539a78a-befd-4456-a49f-f3788a07e7bd ]] {\r\n",
       "}\r\n",
       "\r\n",
       "rec usage \"A2\" as E5  <<(T,blue) action>> [[psysml:451b6b51-1ae2-4b81-be73-8fe0566d61d5 ]] {\r\n",
       "}\r\n",
       "\r\n",
       "rec usage \"A3\" as E6  <<(T,blue) action>> [[psysml:04e53eda-a597-4a9c-96a9-348d67cb9847 ]] {\r\n",
       "}\r\n",
       "\r\n",
       "}\r\n",
       "\r\n",
       "E2  - -> E4 [[psysml:0e1095c8-d4f6-4449-8c10-0793e56d6528 ]] : [x == 1]\r\n",
       "E2  - -> E5 [[psysml:0bc69c08-a059-419e-b618-d454e4819a50 ]] : [x > 1]\r\n",
       "E2  - -> E6 [[psysml:7bfaba1c-8598-44bd-a9fd-5f850f0b7fd7 ]] \r\n",
       "E2 - -> E3 [[psysml:df8d299f-9da3-41cd-a9dd-6e3a0d30decc ]] \r\n",
       "E3  - -> E4 [[psysml:131b15c1-7866-4964-88c1-b03f264417a9 ]] : [true]\r\n",
       "E3  - -> E5 [[psysml:825f54b9-3c70-45c0-b332-e5b9a5c4b905 ]] : [false]\r\n",
       "E4  - -> E5 [[psysml:b3779ea1-0b8c-4465-ae00-48dbba13ac92 ]] : [x == 0]\r\n",
       "E6  - -> E2 [[psysml:31538477-4a34-40a9-aec8-5df805757767 ]] : [x > 0]\r\n",
       "@enduml\r\n",
       "\n",
       "PlantUML version 1.2022.7(Mon Aug 22 17:01:30 UTC 2022)\n",
       "(EPL source distribution)\n",
       "Java Runtime: OpenJDK Runtime Environment\n",
       "JVM: OpenJDK 64-Bit Server VM\n",
       "Default Encoding: UTF-8\n",
       "Language: en\n",
       "Country: null\n",
       "--></g></svg>"
      ]
     },
     "execution_count": 12,
     "metadata": {},
     "output_type": "execute_result"
    }
   ],
   "source": [
    "%viz --style=\"POLYLINE\" --view=\"Interconnection\" \"DecisionTest\""
   ]
  },
  {
   "cell_type": "code",
   "execution_count": 13,
   "id": "c551bf63",
   "metadata": {
    "execution": {
     "iopub.execute_input": "2024-12-16T03:28:01.162799Z",
     "iopub.status.busy": "2024-12-16T03:28:01.162568Z",
     "iopub.status.idle": "2024-12-16T03:28:01.189050Z",
     "shell.execute_reply": "2024-12-16T03:28:01.188238Z"
    }
   },
   "outputs": [
    {
     "data": {
      "image/svg+xml": [
       "<?xml version=\"1.0\" encoding=\"UTF-8\" standalone=\"no\"?><svg xmlns=\"http://www.w3.org/2000/svg\" xmlns:xlink=\"http://www.w3.org/1999/xlink\" contentStyleType=\"text/css\" height=\"338px\" preserveAspectRatio=\"none\" style=\"width:329px;height:338px;background:#FFFFFF;\" version=\"1.1\" viewBox=\"0 0 329 338\" width=\"329px\" zoomAndPan=\"magnify\"><defs/><g><!--MD5=[fbc87193dbaf4d95561dea2c320d4a47]\n",
       "cluster E1--><g id=\"cluster_E1\"><a href=\"psysml:24509d73-250a-487a-bcd7-b59ee0863fbf\" target=\"_top\" title=\"psysml:24509d73-250a-487a-bcd7-b59ee0863fbf\" xlink:actuate=\"onRequest\" xlink:href=\"psysml:24509d73-250a-487a-bcd7-b59ee0863fbf\" xlink:show=\"new\" xlink:title=\"psysml:24509d73-250a-487a-bcd7-b59ee0863fbf\" xlink:type=\"simple\"><rect fill=\"#FFFFFF\" height=\"325\" id=\"E1\" style=\"stroke:#383838;stroke-width:1.5;\" width=\"315\" x=\"7\" y=\"7\"/><text fill=\"#000000\" font-family=\"sans-serif\" font-size=\"12\" font-style=\"italic\" lengthAdjust=\"spacing\" textLength=\"81\" x=\"124\" y=\"23.1387\">«action  def»</text><text fill=\"#000000\" font-family=\"sans-serif\" font-size=\"14\" lengthAdjust=\"spacing\" textLength=\"91\" x=\"119\" y=\"38.9639\">DecisionTest</text><line style=\"stroke:#383838;stroke-width:1.0;\" x1=\"7\" x2=\"322\" y1=\"47.2656\" y2=\"47.2656\"/></a></g><g id=\"elem_E2\"><polygon fill=\"#FFFFFF\" points=\"210,58,222,70,210,82,198,70,210,58\" style=\"stroke:#181818;stroke-width:0.5;\"/></g><g id=\"elem_E3\"><polygon fill=\"#FFFFFF\" points=\"35,125.5,47,137.5,35,149.5,23,137.5,35,125.5\" style=\"stroke:#181818;stroke-width:0.5;\"/></g><g><a href=\"psysml:f539a78a-befd-4456-a49f-f3788a07e7bd\" target=\"_top\" title=\"psysml:f539a78a-befd-4456-a49f-f3788a07e7bd\" xlink:actuate=\"onRequest\" xlink:href=\"psysml:f539a78a-befd-4456-a49f-f3788a07e7bd\" xlink:show=\"new\" xlink:title=\"psysml:f539a78a-befd-4456-a49f-f3788a07e7bd\" xlink:type=\"simple\"><rect fill=\"#FFFFFF\" height=\"45.2656\" id=\"E4\" rx=\"10\" ry=\"10\" style=\"stroke:#383838;stroke-width:1.5;\" width=\"60\" x=\"135\" y=\"193\"/><text fill=\"#000000\" font-family=\"sans-serif\" font-size=\"12\" font-style=\"italic\" lengthAdjust=\"spacing\" textLength=\"53\" x=\"138.5\" y=\"209.1387\">«action»</text><text fill=\"#000000\" font-family=\"sans-serif\" font-size=\"14\" lengthAdjust=\"spacing\" textLength=\"18\" x=\"156\" y=\"224.9639\">A1</text></a></g><g><a href=\"psysml:451b6b51-1ae2-4b81-be73-8fe0566d61d5\" target=\"_top\" title=\"psysml:451b6b51-1ae2-4b81-be73-8fe0566d61d5\" xlink:actuate=\"onRequest\" xlink:href=\"psysml:451b6b51-1ae2-4b81-be73-8fe0566d61d5\" xlink:show=\"new\" xlink:title=\"psysml:451b6b51-1ae2-4b81-be73-8fe0566d61d5\" xlink:type=\"simple\"><rect fill=\"#FFFFFF\" height=\"45.2656\" id=\"E5\" rx=\"10\" ry=\"10\" style=\"stroke:#383838;stroke-width:1.5;\" width=\"60\" x=\"135\" y=\"271\"/><text fill=\"#000000\" font-family=\"sans-serif\" font-size=\"12\" font-style=\"italic\" lengthAdjust=\"spacing\" textLength=\"53\" x=\"138.5\" y=\"287.1387\">«action»</text><text fill=\"#000000\" font-family=\"sans-serif\" font-size=\"14\" lengthAdjust=\"spacing\" textLength=\"18\" x=\"156\" y=\"302.9639\">A2</text></a></g><g><a href=\"psysml:04e53eda-a597-4a9c-96a9-348d67cb9847\" target=\"_top\" title=\"psysml:04e53eda-a597-4a9c-96a9-348d67cb9847\" xlink:actuate=\"onRequest\" xlink:href=\"psysml:04e53eda-a597-4a9c-96a9-348d67cb9847\" xlink:show=\"new\" xlink:title=\"psysml:04e53eda-a597-4a9c-96a9-348d67cb9847\" xlink:type=\"simple\"><rect fill=\"#FFFFFF\" height=\"45.2656\" id=\"E6\" rx=\"10\" ry=\"10\" style=\"stroke:#383838;stroke-width:1.5;\" width=\"60\" x=\"246\" y=\"115\"/><text fill=\"#000000\" font-family=\"sans-serif\" font-size=\"12\" font-style=\"italic\" lengthAdjust=\"spacing\" textLength=\"53\" x=\"249.5\" y=\"131.1387\">«action»</text><text fill=\"#000000\" font-family=\"sans-serif\" font-size=\"14\" lengthAdjust=\"spacing\" textLength=\"18\" x=\"267\" y=\"146.9639\">A3</text></a></g><!--MD5=[4d03bb2d0377dc85ccfab60ff574652b]\n",
       "link E2 to E4--><g id=\"link_E2_E4\"><a href=\"psysml:0e1095c8-d4f6-4449-8c10-0793e56d6528\" target=\"_top\" title=\"psysml:0e1095c8-d4f6-4449-8c10-0793e56d6528\" xlink:actuate=\"onRequest\" xlink:href=\"psysml:0e1095c8-d4f6-4449-8c10-0793e56d6528\" xlink:show=\"new\" xlink:title=\"psysml:0e1095c8-d4f6-4449-8c10-0793e56d6528\" xlink:type=\"simple\"><path d=\"M202.94,75.71 C185.91,87.06 144,115 144,115 C144,115 144,160 144,160 C144,160 149.51,174.31 154.89,188.26 \" fill=\"none\" id=\"E2-to-E4\" style=\"stroke:#181818;stroke-width:1.0;stroke-dasharray:7.0,7.0;\"/><polygon fill=\"#181818\" points=\"156.7,192.96,157.2227,183.125,154.9147,188.2896,149.7501,185.9815,156.7,192.96\" style=\"stroke:#181818;stroke-width:1.0;\"/><text fill=\"#000000\" font-family=\"sans-serif\" font-size=\"13\" lengthAdjust=\"spacing\" textLength=\"55\" x=\"145\" y=\"142.0669\">[x == 1]</text></a></g><!--MD5=[dcad52bbbca2fe8adc741ce38b45dc12]\n",
       "link E2 to E5--><g id=\"link_E2_E5\"><a href=\"psysml:0bc69c08-a059-419e-b618-d454e4819a50\" target=\"_top\" title=\"psysml:0bc69c08-a059-419e-b618-d454e4819a50\" xlink:actuate=\"onRequest\" xlink:href=\"psysml:0bc69c08-a059-419e-b618-d454e4819a50\" xlink:show=\"new\" xlink:title=\"psysml:0bc69c08-a059-419e-b618-d454e4819a50\" xlink:type=\"simple\"><path d=\"M210.93,81.17 C214.34,118.51 226,246 226,246 C226,246 226,263 226,263 C226,263 213.5,269.05 199.81,275.66 \" fill=\"none\" id=\"E2-to-E5\" style=\"stroke:#181818;stroke-width:1.0;stroke-dasharray:7.0,7.0;\"/><polygon fill=\"#181818\" points=\"195.14,277.92,204.9832,277.5859,199.6375,275.7355,201.488,270.3898,195.14,277.92\" style=\"stroke:#181818;stroke-width:1.0;\"/><text fill=\"#000000\" font-family=\"sans-serif\" font-size=\"13\" lengthAdjust=\"spacing\" textLength=\"44\" x=\"221\" y=\"181.0669\">[x &gt; 1]</text></a></g><!--MD5=[e3e28c1befcf002155aa15e1416b4315]\n",
       "link E2 to E6--><g id=\"link_E2_E6\"><a href=\"psysml:7bfaba1c-8598-44bd-a9fd-5f850f0b7fd7\" target=\"_top\" title=\"psysml:7bfaba1c-8598-44bd-a9fd-5f850f0b7fd7\" xlink:actuate=\"onRequest\" xlink:href=\"psysml:7bfaba1c-8598-44bd-a9fd-5f850f0b7fd7\" xlink:show=\"new\" xlink:title=\"psysml:7bfaba1c-8598-44bd-a9fd-5f850f0b7fd7\" xlink:type=\"simple\"><path d=\"M213.02,79.35 C216.86,89.98 223,107 223,107 C223,107 231.33,111.64 241.39,117.23 \" fill=\"none\" id=\"E2-to-E6\" style=\"stroke:#181818;stroke-width:1.0;stroke-dasharray:7.0,7.0;\"/><polygon fill=\"#181818\" points=\"245.78,119.68,239.8748,111.7978,241.4153,117.2409,235.9722,118.7814,245.78,119.68\" style=\"stroke:#181818;stroke-width:1.0;\"/></a></g><!--MD5=[2351f337d6de0f557b50152ba70847b5]\n",
       "link E6 to E2--><g id=\"link_E6_E2\"><a href=\"psysml:31538477-4a34-40a9-aec8-5df805757767\" target=\"_top\" title=\"psysml:31538477-4a34-40a9-aec8-5df805757767\" xlink:actuate=\"onRequest\" xlink:href=\"psysml:31538477-4a34-40a9-aec8-5df805757767\" xlink:show=\"new\" xlink:title=\"psysml:31538477-4a34-40a9-aec8-5df805757767\" xlink:type=\"simple\"><path d=\"M254.23,114.89 C242.53,103.28 228.69,89.55 219.65,80.58 \" fill=\"none\" id=\"E6-to-E2\" style=\"stroke:#181818;stroke-width:1.0;stroke-dasharray:7.0,7.0;\"/><polygon fill=\"#181818\" points=\"215.63,76.58,219.2026,85.7581,219.1798,80.1012,224.8366,80.0784,215.63,76.58\" style=\"stroke:#181818;stroke-width:1.0;\"/><text fill=\"#000000\" font-family=\"sans-serif\" font-size=\"13\" lengthAdjust=\"spacing\" textLength=\"44\" x=\"245\" y=\"103.0669\">[x &gt; 0]</text></a></g><!--MD5=[2720a5a1f2c3fca2055b230370638851]\n",
       "link E2 to E3--><g id=\"link_E2_E3\"><a href=\"psysml:df8d299f-9da3-41cd-a9dd-6e3a0d30decc\" target=\"_top\" title=\"psysml:df8d299f-9da3-41cd-a9dd-6e3a0d30decc\" xlink:actuate=\"onRequest\" xlink:href=\"psysml:df8d299f-9da3-41cd-a9dd-6e3a0d30decc\" xlink:show=\"new\" xlink:title=\"psysml:df8d299f-9da3-41cd-a9dd-6e3a0d30decc\" xlink:type=\"simple\"><path d=\"M200.59,72.75 C175.34,77.46 108,90 108,90 C108,90 66.35,116.53 45.97,129.51 \" fill=\"none\" id=\"E2-to-E3\" style=\"stroke:#181818;stroke-width:1.0;stroke-dasharray:7.0,7.0;\"/><polygon fill=\"#181818\" points=\"41.74,132.21,51.4795,130.7464,45.9565,129.5228,47.1801,123.9999,41.74,132.21\" style=\"stroke:#181818;stroke-width:1.0;\"/></a></g><!--MD5=[af87c684e3b0d8be13c1a698a818ef1e]\n",
       "link E3 to E4--><g id=\"link_E3_E4\"><a href=\"psysml:131b15c1-7866-4964-88c1-b03f264417a9\" target=\"_top\" title=\"psysml:131b15c1-7866-4964-88c1-b03f264417a9\" xlink:actuate=\"onRequest\" xlink:href=\"psysml:131b15c1-7866-4964-88c1-b03f264417a9\" xlink:show=\"new\" xlink:title=\"psysml:131b15c1-7866-4964-88c1-b03f264417a9\" xlink:type=\"simple\"><path d=\"M41.01,144.2 C54.09,156.62 84,185 84,185 C84,185 108,193 108,193 C108,193 118.26,196.87 130.07,201.32 \" fill=\"none\" id=\"E3-to-E4\" style=\"stroke:#181818;stroke-width:1.0;stroke-dasharray:7.0,7.0;\"/><polygon fill=\"#181818\" points=\"134.83,203.12,127.8145,196.2075,130.1501,201.3597,124.998,203.6953,134.83,203.12\" style=\"stroke:#181818;stroke-width:1.0;\"/><text fill=\"#000000\" font-family=\"sans-serif\" font-size=\"13\" lengthAdjust=\"spacing\" textLength=\"36\" x=\"85\" y=\"181.0669\">[true]</text></a></g><!--MD5=[0188b64bb0ae78505a997a81836e11e9]\n",
       "link E3 to E5--><g id=\"link_E3_E5\"><a href=\"psysml:825f54b9-3c70-45c0-b332-e5b9a5c4b905\" target=\"_top\" title=\"psysml:825f54b9-3c70-45c0-b332-e5b9a5c4b905\" xlink:actuate=\"onRequest\" xlink:href=\"psysml:825f54b9-3c70-45c0-b332-e5b9a5c4b905\" xlink:show=\"new\" xlink:title=\"psysml:825f54b9-3c70-45c0-b332-e5b9a5c4b905\" xlink:type=\"simple\"><path d=\"M38.22,146.31 C47.88,169.76 76,238 76,238 C76,238 105.53,256.08 130.57,271.42 \" fill=\"none\" id=\"E3-to-E5\" style=\"stroke:#181818;stroke-width:1.0;stroke-dasharray:7.0,7.0;\"/><polygon fill=\"#181818\" points=\"134.87,274.05,129.2939,265.9317,130.6093,271.4335,125.1075,272.7489,134.87,274.05\" style=\"stroke:#181818;stroke-width:1.0;\"/><text fill=\"#000000\" font-family=\"sans-serif\" font-size=\"13\" lengthAdjust=\"spacing\" textLength=\"40\" x=\"77\" y=\"220.0669\">[false]</text></a></g><!--MD5=[1b7591eae5389033d8d09a9d6721a717]\n",
       "link E4 to E5--><g id=\"link_E4_E5\"><a href=\"psysml:b3779ea1-0b8c-4465-ae00-48dbba13ac92\" target=\"_top\" title=\"psysml:b3779ea1-0b8c-4465-ae00-48dbba13ac92\" xlink:actuate=\"onRequest\" xlink:href=\"psysml:b3779ea1-0b8c-4465-ae00-48dbba13ac92\" xlink:show=\"new\" xlink:title=\"psysml:b3779ea1-0b8c-4465-ae00-48dbba13ac92\" xlink:type=\"simple\"><path d=\"M165,238.08 C165,246.66 165,256.63 165,265.67 \" fill=\"none\" id=\"E4-to-E5\" style=\"stroke:#181818;stroke-width:1.0;stroke-dasharray:7.0,7.0;\"/><polygon fill=\"#181818\" points=\"165,270.87,169,261.87,165,265.87,161,261.87,165,270.87\" style=\"stroke:#181818;stroke-width:1.0;\"/><text fill=\"#000000\" font-family=\"sans-serif\" font-size=\"13\" lengthAdjust=\"spacing\" textLength=\"55\" x=\"166\" y=\"259.0669\">[x == 0]</text></a></g><!--MD5=[73dd185db623e3ac8609e817164cfdb9]\n",
       "@startuml\r\n",
       "skin sysmlbw\r\n",
       "skinparam monochrome true\r\n",
       "skinparam wrapWidth 300\r\n",
       "hide circle\r\n",
       "skinparam linetype polyline\r\n",
       "skinparam ranksep 8\r\n",
       "\r\n",
       "rec def \"DecisionTest\" as E1  <<(T,blue) action  def>> [[psysml:24509d73-250a-487a-bcd7-b59ee0863fbf ]] {\r\n",
       "choice \"test x\" as E2  [[psysml:7d99bd45-3b62-4bbf-b126-0db5f71d3136 ]] \r\n",
       "choice \"<s>noname</s>\" as E3  [[psysml:6dee609b-d6ae-4161-97b9-077c5f3bd0c2 ]] \r\n",
       "rec usage \"A1\" as E4  <<(T,blue) action>> [[psysml:f539a78a-befd-4456-a49f-f3788a07e7bd ]] {\r\n",
       "}\r\n",
       "\r\n",
       "rec usage \"A2\" as E5  <<(T,blue) action>> [[psysml:451b6b51-1ae2-4b81-be73-8fe0566d61d5 ]] {\r\n",
       "}\r\n",
       "\r\n",
       "rec usage \"A3\" as E6  <<(T,blue) action>> [[psysml:04e53eda-a597-4a9c-96a9-348d67cb9847 ]] {\r\n",
       "}\r\n",
       "\r\n",
       "}\r\n",
       "\r\n",
       "E2 ..> E4 [[psysml:0e1095c8-d4f6-4449-8c10-0793e56d6528 ]] : [x == 1]\r\n",
       "E2 ..> E5 [[psysml:0bc69c08-a059-419e-b618-d454e4819a50 ]] : [x > 1]\r\n",
       "E2 ..> E6 [[psysml:7bfaba1c-8598-44bd-a9fd-5f850f0b7fd7 ]] \r\n",
       "E2 ..> E3 [[psysml:df8d299f-9da3-41cd-a9dd-6e3a0d30decc ]] \r\n",
       "E3 ..> E4 [[psysml:131b15c1-7866-4964-88c1-b03f264417a9 ]] : [true]\r\n",
       "E3 ..> E5 [[psysml:825f54b9-3c70-45c0-b332-e5b9a5c4b905 ]] : [false]\r\n",
       "E4 ..> E5 [[psysml:b3779ea1-0b8c-4465-ae00-48dbba13ac92 ]] : [x == 0]\r\n",
       "E6 ..> E2 [[psysml:31538477-4a34-40a9-aec8-5df805757767 ]] : [x > 0]\r\n",
       "@enduml\r\n",
       "\n",
       "PlantUML version 1.2022.7(Mon Aug 22 17:01:30 UTC 2022)\n",
       "(EPL source distribution)\n",
       "Java Runtime: OpenJDK Runtime Environment\n",
       "JVM: OpenJDK 64-Bit Server VM\n",
       "Default Encoding: UTF-8\n",
       "Language: en\n",
       "Country: null\n",
       "--></g></svg>"
      ]
     },
     "execution_count": 13,
     "metadata": {},
     "output_type": "execute_result"
    }
   ],
   "source": [
    "%viz --style=\"POLYLINE\" --view=\"Action\" \"DecisionTest\""
   ]
  },
  {
   "cell_type": "code",
   "execution_count": 14,
   "id": "eb886801",
   "metadata": {
    "execution": {
     "iopub.execute_input": "2024-12-16T03:28:01.242281Z",
     "iopub.status.busy": "2024-12-16T03:28:01.241978Z",
     "iopub.status.idle": "2024-12-16T03:28:01.258037Z",
     "shell.execute_reply": "2024-12-16T03:28:01.257833Z"
    }
   },
   "outputs": [
    {
     "data": {
      "image/svg+xml": [
       "<?xml version=\"1.0\" encoding=\"UTF-8\" standalone=\"no\"?><svg xmlns=\"http://www.w3.org/2000/svg\" xmlns:xlink=\"http://www.w3.org/1999/xlink\" contentStyleType=\"text/css\" height=\"10px\" preserveAspectRatio=\"none\" style=\"width:10px;height:10px;background:#FFFFFF;\" version=\"1.1\" viewBox=\"0 0 10 10\" width=\"10px\" zoomAndPan=\"magnify\"><defs/><g><!--MD5=[efefafbf36b45173e0355713d9054f90]\n",
       "@startuml\r\n",
       "skin sysmlbw\r\n",
       "skinparam monochrome true\r\n",
       "skinparam wrapWidth 300\r\n",
       "hide circle\r\n",
       "skinparam linetype polyline\r\n",
       "skinparam roundcorner 20\r\n",
       "skinparam BoxPadding 20\r\n",
       "skinparam SequenceBoxBackgroundColor #white\r\n",
       "skinparam style strictuml\r\n",
       "skinparam maxMessageSize 100\r\n",
       "\r\n",
       "@enduml\r\n",
       "\n",
       "PlantUML version 1.2022.7(Mon Aug 22 17:01:30 UTC 2022)\n",
       "(EPL source distribution)\n",
       "Java Runtime: OpenJDK Runtime Environment\n",
       "JVM: OpenJDK 64-Bit Server VM\n",
       "Default Encoding: UTF-8\n",
       "Language: en\n",
       "Country: null\n",
       "--></g></svg>"
      ]
     },
     "execution_count": 14,
     "metadata": {},
     "output_type": "execute_result"
    }
   ],
   "source": [
    "%viz --style=\"POLYLINE\" --view=\"Sequence\" \"DecisionTest\""
   ]
  },
  {
   "cell_type": "code",
   "execution_count": 15,
   "id": "a22d02a2",
   "metadata": {
    "execution": {
     "iopub.execute_input": "2024-12-16T03:28:01.310541Z",
     "iopub.status.busy": "2024-12-16T03:28:01.310298Z",
     "iopub.status.idle": "2024-12-16T03:28:01.334195Z",
     "shell.execute_reply": "2024-12-16T03:28:01.334364Z"
    }
   },
   "outputs": [
    {
     "data": {
      "image/svg+xml": [
       "<?xml version=\"1.0\" encoding=\"UTF-8\" standalone=\"no\"?><svg xmlns=\"http://www.w3.org/2000/svg\" xmlns:xlink=\"http://www.w3.org/1999/xlink\" contentStyleType=\"text/css\" height=\"470px\" preserveAspectRatio=\"none\" style=\"width:329px;height:470px;background:#FFFFFF;\" version=\"1.1\" viewBox=\"0 0 329 470\" width=\"329px\" zoomAndPan=\"magnify\"><defs/><g><!--MD5=[fbc87193dbaf4d95561dea2c320d4a47]\n",
       "cluster E1--><g id=\"cluster_E1\"><a href=\"psysml:24509d73-250a-487a-bcd7-b59ee0863fbf\" target=\"_top\" title=\"psysml:24509d73-250a-487a-bcd7-b59ee0863fbf\" xlink:actuate=\"onRequest\" xlink:href=\"psysml:24509d73-250a-487a-bcd7-b59ee0863fbf\" xlink:show=\"new\" xlink:title=\"psysml:24509d73-250a-487a-bcd7-b59ee0863fbf\" xlink:type=\"simple\"><rect fill=\"#FFFFFF\" height=\"457\" id=\"E1\" style=\"stroke:#383838;stroke-width:1.5;\" width=\"315\" x=\"7\" y=\"7\"/><text fill=\"#000000\" font-family=\"sans-serif\" font-size=\"12\" font-style=\"italic\" lengthAdjust=\"spacing\" textLength=\"81\" x=\"124\" y=\"23.1387\">«action  def»</text><text fill=\"#000000\" font-family=\"sans-serif\" font-size=\"14\" lengthAdjust=\"spacing\" textLength=\"91\" x=\"119\" y=\"38.9639\">DecisionTest</text><line style=\"stroke:#383838;stroke-width:1.0;\" x1=\"7\" x2=\"322\" y1=\"47.2656\" y2=\"47.2656\"/></a></g><g id=\"elem_E2\"><polygon fill=\"#FFFFFF\" points=\"210,58,222,70,210,82,198,70,210,58\" style=\"stroke:#181818;stroke-width:0.5;\"/></g><g id=\"elem_E3\"><polygon fill=\"#FFFFFF\" points=\"35,169.5,47,181.5,35,193.5,23,181.5,35,169.5\" style=\"stroke:#181818;stroke-width:0.5;\"/></g><g><a href=\"psysml:f539a78a-befd-4456-a49f-f3788a07e7bd\" target=\"_top\" title=\"psysml:f539a78a-befd-4456-a49f-f3788a07e7bd\" xlink:actuate=\"onRequest\" xlink:href=\"psysml:f539a78a-befd-4456-a49f-f3788a07e7bd\" xlink:show=\"new\" xlink:title=\"psysml:f539a78a-befd-4456-a49f-f3788a07e7bd\" xlink:type=\"simple\"><rect fill=\"#FFFFFF\" height=\"45.2656\" id=\"E4\" rx=\"10\" ry=\"10\" style=\"stroke:#383838;stroke-width:1.5;\" width=\"60\" x=\"135\" y=\"281\"/><text fill=\"#000000\" font-family=\"sans-serif\" font-size=\"12\" font-style=\"italic\" lengthAdjust=\"spacing\" textLength=\"53\" x=\"138.5\" y=\"297.1387\">«action»</text><text fill=\"#000000\" font-family=\"sans-serif\" font-size=\"14\" lengthAdjust=\"spacing\" textLength=\"18\" x=\"156\" y=\"312.9639\">A1</text></a></g><g><a href=\"psysml:451b6b51-1ae2-4b81-be73-8fe0566d61d5\" target=\"_top\" title=\"psysml:451b6b51-1ae2-4b81-be73-8fe0566d61d5\" xlink:actuate=\"onRequest\" xlink:href=\"psysml:451b6b51-1ae2-4b81-be73-8fe0566d61d5\" xlink:show=\"new\" xlink:title=\"psysml:451b6b51-1ae2-4b81-be73-8fe0566d61d5\" xlink:type=\"simple\"><rect fill=\"#FFFFFF\" height=\"45.2656\" id=\"E5\" rx=\"10\" ry=\"10\" style=\"stroke:#383838;stroke-width:1.5;\" width=\"60\" x=\"135\" y=\"403\"/><text fill=\"#000000\" font-family=\"sans-serif\" font-size=\"12\" font-style=\"italic\" lengthAdjust=\"spacing\" textLength=\"53\" x=\"138.5\" y=\"419.1387\">«action»</text><text fill=\"#000000\" font-family=\"sans-serif\" font-size=\"14\" lengthAdjust=\"spacing\" textLength=\"18\" x=\"156\" y=\"434.9639\">A2</text></a></g><g><a href=\"psysml:04e53eda-a597-4a9c-96a9-348d67cb9847\" target=\"_top\" title=\"psysml:04e53eda-a597-4a9c-96a9-348d67cb9847\" xlink:actuate=\"onRequest\" xlink:href=\"psysml:04e53eda-a597-4a9c-96a9-348d67cb9847\" xlink:show=\"new\" xlink:title=\"psysml:04e53eda-a597-4a9c-96a9-348d67cb9847\" xlink:type=\"simple\"><rect fill=\"#FFFFFF\" height=\"45.2656\" id=\"E6\" rx=\"10\" ry=\"10\" style=\"stroke:#383838;stroke-width:1.5;\" width=\"60\" x=\"246\" y=\"159\"/><text fill=\"#000000\" font-family=\"sans-serif\" font-size=\"12\" font-style=\"italic\" lengthAdjust=\"spacing\" textLength=\"53\" x=\"249.5\" y=\"175.1387\">«action»</text><text fill=\"#000000\" font-family=\"sans-serif\" font-size=\"14\" lengthAdjust=\"spacing\" textLength=\"18\" x=\"267\" y=\"190.9639\">A3</text></a></g><!--MD5=[4d03bb2d0377dc85ccfab60ff574652b]\n",
       "link E2 to E4--><g id=\"link_E2_E4\"><a href=\"psysml:0e1095c8-d4f6-4449-8c10-0793e56d6528\" target=\"_top\" title=\"psysml:0e1095c8-d4f6-4449-8c10-0793e56d6528\" xlink:actuate=\"onRequest\" xlink:href=\"psysml:0e1095c8-d4f6-4449-8c10-0793e56d6528\" xlink:show=\"new\" xlink:title=\"psysml:0e1095c8-d4f6-4449-8c10-0793e56d6528\" xlink:type=\"simple\"><path d=\"M205.25,77.33 C190.12,97.51 144,159 144,159 C144,159 144,204 144,204 C144,204 153.07,246.55 159.29,275.72 \" fill=\"none\" id=\"E2-to-E4\" style=\"stroke:#181818;stroke-width:1.0;\"/><polygon fill=\"#181818\" points=\"160.34,280.64,162.3731,271.0033,159.2963,275.7502,154.5494,272.6733,160.34,280.64\" style=\"stroke:#181818;stroke-width:1.0;\"/><text fill=\"#000000\" font-family=\"sans-serif\" font-size=\"13\" lengthAdjust=\"spacing\" textLength=\"55\" x=\"145\" y=\"186.0669\">[x == 1]</text></a></g><!--MD5=[dcad52bbbca2fe8adc741ce38b45dc12]\n",
       "link E2 to E5--><g id=\"link_E2_E5\"><a href=\"psysml:0bc69c08-a059-419e-b618-d454e4819a50\" target=\"_top\" title=\"psysml:0bc69c08-a059-419e-b618-d454e4819a50\" xlink:actuate=\"onRequest\" xlink:href=\"psysml:0bc69c08-a059-419e-b618-d454e4819a50\" xlink:show=\"new\" xlink:title=\"psysml:0bc69c08-a059-419e-b618-d454e4819a50\" xlink:type=\"simple\"><path d=\"M210.59,81.48 C213.48,132.9 226,356 226,356 C226,356 226,373 226,373 C226,373 210.05,386.47 194.46,399.63 \" fill=\"none\" id=\"E2-to-E5\" style=\"stroke:#181818;stroke-width:1.0;\"/><polygon fill=\"#181818\" points=\"190.52,402.96,199.9738,400.1985,194.3364,399.7296,194.8052,394.0923,190.52,402.96\" style=\"stroke:#181818;stroke-width:1.0;\"/><text fill=\"#000000\" font-family=\"sans-serif\" font-size=\"13\" lengthAdjust=\"spacing\" textLength=\"44\" x=\"221\" y=\"247.0669\">[x &gt; 1]</text></a></g><!--MD5=[e3e28c1befcf002155aa15e1416b4315]\n",
       "link E2 to E6--><g id=\"link_E2_E6\"><a href=\"psysml:7bfaba1c-8598-44bd-a9fd-5f850f0b7fd7\" target=\"_top\" title=\"psysml:7bfaba1c-8598-44bd-a9fd-5f850f0b7fd7\" xlink:actuate=\"onRequest\" xlink:href=\"psysml:7bfaba1c-8598-44bd-a9fd-5f850f0b7fd7\" xlink:show=\"new\" xlink:title=\"psysml:7bfaba1c-8598-44bd-a9fd-5f850f0b7fd7\" xlink:type=\"simple\"><path d=\"M212.03,80.06 C215.69,96.38 223,129 223,129 C223,129 236.62,142.24 250.06,155.29 \" fill=\"none\" id=\"E2-to-E6\" style=\"stroke:#181818;stroke-width:1.0;\"/><polygon fill=\"#181818\" points=\"253.83,158.96,250.1648,149.8185,250.2448,155.4748,244.5885,155.5548,253.83,158.96\" style=\"stroke:#181818;stroke-width:1.0;\"/></a></g><!--MD5=[2351f337d6de0f557b50152ba70847b5]\n",
       "link E6 to E2--><g id=\"link_E6_E2\"><a href=\"psysml:31538477-4a34-40a9-aec8-5df805757767\" target=\"_top\" title=\"psysml:31538477-4a34-40a9-aec8-5df805757767\" xlink:actuate=\"onRequest\" xlink:href=\"psysml:31538477-4a34-40a9-aec8-5df805757767\" xlink:show=\"new\" xlink:title=\"psysml:31538477-4a34-40a9-aec8-5df805757767\" xlink:type=\"simple\"><path d=\"M262.83,158.65 C249.09,135.85 228.04,100.94 217.13,82.82 \" fill=\"none\" id=\"E6-to-E2\" style=\"stroke:#181818;stroke-width:1.0;\"/><polygon fill=\"#181818\" points=\"214.33,78.18,215.5544,87.9525,216.913,82.4612,222.4043,83.8197,214.33,78.18\" style=\"stroke:#181818;stroke-width:1.0;\"/><text fill=\"#000000\" font-family=\"sans-serif\" font-size=\"13\" lengthAdjust=\"spacing\" textLength=\"44\" x=\"244\" y=\"125.0669\">[x &gt; 0]</text></a></g><!--MD5=[2720a5a1f2c3fca2055b230370638851]\n",
       "link E2 to E3--><g id=\"link_E2_E3\"><a href=\"psysml:df8d299f-9da3-41cd-a9dd-6e3a0d30decc\" target=\"_top\" title=\"psysml:df8d299f-9da3-41cd-a9dd-6e3a0d30decc\" xlink:actuate=\"onRequest\" xlink:href=\"psysml:df8d299f-9da3-41cd-a9dd-6e3a0d30decc\" xlink:show=\"new\" xlink:title=\"psysml:df8d299f-9da3-41cd-a9dd-6e3a0d30decc\" xlink:type=\"simple\"><path d=\"M202,74.22 C177.95,83.88 108,112 108,112 C108,112 64.37,152.94 44.57,171.52 \" fill=\"none\" id=\"E2-to-E3\" style=\"stroke:#181818;stroke-width:1.0;\"/><polygon fill=\"#181818\" points=\"40.73,175.12,50.032,171.8839,44.3781,171.7008,44.5613,166.0469,40.73,175.12\" style=\"stroke:#181818;stroke-width:1.0;\"/></a></g><!--MD5=[af87c684e3b0d8be13c1a698a818ef1e]\n",
       "link E3 to E4--><g id=\"link_E3_E4\"><a href=\"psysml:131b15c1-7866-4964-88c1-b03f264417a9\" target=\"_top\" title=\"psysml:131b15c1-7866-4964-88c1-b03f264417a9\" xlink:actuate=\"onRequest\" xlink:href=\"psysml:131b15c1-7866-4964-88c1-b03f264417a9\" xlink:show=\"new\" xlink:title=\"psysml:131b15c1-7866-4964-88c1-b03f264417a9\" xlink:type=\"simple\"><path d=\"M39.7,189.07 C51.96,206.21 84,251 84,251 C84,251 108.44,266.54 130.47,280.55 \" fill=\"none\" id=\"E3-to-E4\" style=\"stroke:#181818;stroke-width:1.0;\"/><polygon fill=\"#181818\" points=\"134.84,283.32,129.3874,275.1182,130.6193,280.6393,125.0983,281.8713,134.84,283.32\" style=\"stroke:#181818;stroke-width:1.0;\"/><text fill=\"#000000\" font-family=\"sans-serif\" font-size=\"13\" lengthAdjust=\"spacing\" textLength=\"36\" x=\"85\" y=\"247.0669\">[true]</text></a></g><!--MD5=[0188b64bb0ae78505a997a81836e11e9]\n",
       "link E3 to E5--><g id=\"link_E3_E5\"><a href=\"psysml:825f54b9-3c70-45c0-b332-e5b9a5c4b905\" target=\"_top\" title=\"psysml:825f54b9-3c70-45c0-b332-e5b9a5c4b905\" xlink:actuate=\"onRequest\" xlink:href=\"psysml:825f54b9-3c70-45c0-b332-e5b9a5c4b905\" xlink:show=\"new\" xlink:title=\"psysml:825f54b9-3c70-45c0-b332-e5b9a5c4b905\" xlink:type=\"simple\"><path d=\"M37.56,191.48 C46.54,222.89 76,326 76,326 C76,326 115.41,369.62 141.78,398.8 \" fill=\"none\" id=\"E3-to-E5\" style=\"stroke:#181818;stroke-width:1.0;\"/><polygon fill=\"#181818\" points=\"145.25,402.64,142.1846,393.2804,141.8981,398.9299,136.2485,398.6435,145.25,402.64\" style=\"stroke:#181818;stroke-width:1.0;\"/><text fill=\"#000000\" font-family=\"sans-serif\" font-size=\"13\" lengthAdjust=\"spacing\" textLength=\"40\" x=\"77\" y=\"308.0669\">[false]</text></a></g><!--MD5=[1b7591eae5389033d8d09a9d6721a717]\n",
       "link E4 to E5--><g id=\"link_E4_E5\"><a href=\"psysml:b3779ea1-0b8c-4465-ae00-48dbba13ac92\" target=\"_top\" title=\"psysml:b3779ea1-0b8c-4465-ae00-48dbba13ac92\" xlink:actuate=\"onRequest\" xlink:href=\"psysml:b3779ea1-0b8c-4465-ae00-48dbba13ac92\" xlink:show=\"new\" xlink:title=\"psysml:b3779ea1-0b8c-4465-ae00-48dbba13ac92\" xlink:type=\"simple\"><path d=\"M165,326.23 C165,346.37 165,376.37 165,397.92 \" fill=\"none\" id=\"E4-to-E5\" style=\"stroke:#181818;stroke-width:1.0;\"/><polygon fill=\"#181818\" points=\"165,402.93,169,393.93,165,397.93,161,393.93,165,402.93\" style=\"stroke:#181818;stroke-width:1.0;\"/><text fill=\"#000000\" font-family=\"sans-serif\" font-size=\"13\" lengthAdjust=\"spacing\" textLength=\"55\" x=\"166\" y=\"369.0669\">[x == 0]</text></a></g><!--MD5=[91ba76ecd4e9a212b209317d6d47f6df]\n",
       "@startuml\r\n",
       "skin sysmlbw\r\n",
       "skinparam monochrome true\r\n",
       "skinparam wrapWidth 300\r\n",
       "hide circle\r\n",
       "skinparam linetype polyline\r\n",
       "\r\n",
       "rec def \"DecisionTest\" as E1  <<(T,blue) action  def>> [[psysml:24509d73-250a-487a-bcd7-b59ee0863fbf ]] {\r\n",
       "choice \"test x\" as E2  [[psysml:7d99bd45-3b62-4bbf-b126-0db5f71d3136 ]] \r\n",
       "choice \"<s>noname</s>\" as E3  [[psysml:6dee609b-d6ae-4161-97b9-077c5f3bd0c2 ]] \r\n",
       "rec usage \"A1\" as E4  <<(T,blue) action>> [[psysml:f539a78a-befd-4456-a49f-f3788a07e7bd ]] {\r\n",
       "}\r\n",
       "\r\n",
       "rec usage \"A2\" as E5  <<(T,blue) action>> [[psysml:451b6b51-1ae2-4b81-be73-8fe0566d61d5 ]] {\r\n",
       "}\r\n",
       "\r\n",
       "rec usage \"A3\" as E6  <<(T,blue) action>> [[psysml:04e53eda-a597-4a9c-96a9-348d67cb9847 ]] {\r\n",
       "}\r\n",
       "\r\n",
       "}\r\n",
       "\r\n",
       "E2  - -> E4 [[psysml:0e1095c8-d4f6-4449-8c10-0793e56d6528 ]] : [x == 1]\r\n",
       "E2  - -> E5 [[psysml:0bc69c08-a059-419e-b618-d454e4819a50 ]] : [x > 1]\r\n",
       "E2  - -> E6 [[psysml:7bfaba1c-8598-44bd-a9fd-5f850f0b7fd7 ]] \r\n",
       "E2 - -> E3 [[psysml:df8d299f-9da3-41cd-a9dd-6e3a0d30decc ]] \r\n",
       "E3  - -> E4 [[psysml:131b15c1-7866-4964-88c1-b03f264417a9 ]] : [true]\r\n",
       "E3  - -> E5 [[psysml:825f54b9-3c70-45c0-b332-e5b9a5c4b905 ]] : [false]\r\n",
       "E4  - -> E5 [[psysml:b3779ea1-0b8c-4465-ae00-48dbba13ac92 ]] : [x == 0]\r\n",
       "E6  - -> E2 [[psysml:31538477-4a34-40a9-aec8-5df805757767 ]] : [x > 0]\r\n",
       "@enduml\r\n",
       "\n",
       "PlantUML version 1.2022.7(Mon Aug 22 17:01:30 UTC 2022)\n",
       "(EPL source distribution)\n",
       "Java Runtime: OpenJDK Runtime Environment\n",
       "JVM: OpenJDK 64-Bit Server VM\n",
       "Default Encoding: UTF-8\n",
       "Language: en\n",
       "Country: null\n",
       "--></g></svg>"
      ]
     },
     "execution_count": 15,
     "metadata": {},
     "output_type": "execute_result"
    }
   ],
   "source": [
    "%viz --style=\"POLYLINE\" --view=\"MIXED\" \"DecisionTest\""
   ]
  },
  {
   "cell_type": "code",
   "execution_count": 16,
   "id": "c72f6efb",
   "metadata": {
    "execution": {
     "iopub.execute_input": "2024-12-16T03:28:01.390088Z",
     "iopub.status.busy": "2024-12-16T03:28:01.389860Z",
     "iopub.status.idle": "2024-12-16T03:28:01.420699Z",
     "shell.execute_reply": "2024-12-16T03:28:01.419874Z"
    }
   },
   "outputs": [
    {
     "data": {
      "image/svg+xml": [
       "<?xml version=\"1.0\" encoding=\"UTF-8\" standalone=\"no\"?><svg xmlns=\"http://www.w3.org/2000/svg\" xmlns:xlink=\"http://www.w3.org/1999/xlink\" contentStyleType=\"text/css\" height=\"309px\" preserveAspectRatio=\"none\" style=\"width:579px;height:309px;background:#FFFFFF;\" version=\"1.1\" viewBox=\"0 0 579 309\" width=\"579px\" zoomAndPan=\"magnify\"><defs/><g><!--MD5=[fbc87193dbaf4d95561dea2c320d4a47]\n",
       "cluster E1--><g id=\"cluster_E1\"><a href=\"psysml:24509d73-250a-487a-bcd7-b59ee0863fbf\" target=\"_top\" title=\"psysml:24509d73-250a-487a-bcd7-b59ee0863fbf\" xlink:actuate=\"onRequest\" xlink:href=\"psysml:24509d73-250a-487a-bcd7-b59ee0863fbf\" xlink:show=\"new\" xlink:title=\"psysml:24509d73-250a-487a-bcd7-b59ee0863fbf\" xlink:type=\"simple\"><rect fill=\"#FFFFFF\" height=\"296\" id=\"E1\" style=\"stroke:#383838;stroke-width:1.5;\" width=\"565\" x=\"7\" y=\"7\"/><text fill=\"#000000\" font-family=\"sans-serif\" font-size=\"12\" font-style=\"italic\" lengthAdjust=\"spacing\" textLength=\"81\" x=\"249\" y=\"23.1387\">«action  def»</text><text fill=\"#000000\" font-family=\"sans-serif\" font-size=\"14\" lengthAdjust=\"spacing\" textLength=\"91\" x=\"244\" y=\"38.9639\">DecisionTest</text><line style=\"stroke:#383838;stroke-width:1.0;\" x1=\"7\" x2=\"572\" y1=\"47.2656\" y2=\"47.2656\"/></a></g><g id=\"elem_E2\"><polygon fill=\"#FFFFFF\" points=\"35,128,47,140,35,152,23,140,35,128\" style=\"stroke:#181818;stroke-width:0.5;\"/></g><g id=\"elem_E3\"><polygon fill=\"#FFFFFF\" points=\"183,263,195,275,183,287,171,275,183,263\" style=\"stroke:#181818;stroke-width:0.5;\"/></g><g><a href=\"psysml:f539a78a-befd-4456-a49f-f3788a07e7bd\" target=\"_top\" title=\"psysml:f539a78a-befd-4456-a49f-f3788a07e7bd\" xlink:actuate=\"onRequest\" xlink:href=\"psysml:f539a78a-befd-4456-a49f-f3788a07e7bd\" xlink:show=\"new\" xlink:title=\"psysml:f539a78a-befd-4456-a49f-f3788a07e7bd\" xlink:type=\"simple\"><rect fill=\"#FFFFFF\" height=\"45.2656\" id=\"E4\" rx=\"10\" ry=\"10\" style=\"stroke:#383838;stroke-width:1.5;\" width=\"60\" x=\"319\" y=\"154.5\"/><text fill=\"#000000\" font-family=\"sans-serif\" font-size=\"12\" font-style=\"italic\" lengthAdjust=\"spacing\" textLength=\"53\" x=\"322.5\" y=\"170.6387\">«action»</text><text fill=\"#000000\" font-family=\"sans-serif\" font-size=\"14\" lengthAdjust=\"spacing\" textLength=\"18\" x=\"340\" y=\"186.4639\">A1</text></a></g><g><a href=\"psysml:451b6b51-1ae2-4b81-be73-8fe0566d61d5\" target=\"_top\" title=\"psysml:451b6b51-1ae2-4b81-be73-8fe0566d61d5\" xlink:actuate=\"onRequest\" xlink:href=\"psysml:451b6b51-1ae2-4b81-be73-8fe0566d61d5\" xlink:show=\"new\" xlink:title=\"psysml:451b6b51-1ae2-4b81-be73-8fe0566d61d5\" xlink:type=\"simple\"><rect fill=\"#FFFFFF\" height=\"45.2656\" id=\"E5\" rx=\"10\" ry=\"10\" style=\"stroke:#383838;stroke-width:1.5;\" width=\"60\" x=\"496\" y=\"154.5\"/><text fill=\"#000000\" font-family=\"sans-serif\" font-size=\"12\" font-style=\"italic\" lengthAdjust=\"spacing\" textLength=\"53\" x=\"499.5\" y=\"170.6387\">«action»</text><text fill=\"#000000\" font-family=\"sans-serif\" font-size=\"14\" lengthAdjust=\"spacing\" textLength=\"18\" x=\"517\" y=\"186.4639\">A2</text></a></g><g><a href=\"psysml:04e53eda-a597-4a9c-96a9-348d67cb9847\" target=\"_top\" title=\"psysml:04e53eda-a597-4a9c-96a9-348d67cb9847\" xlink:actuate=\"onRequest\" xlink:href=\"psysml:04e53eda-a597-4a9c-96a9-348d67cb9847\" xlink:show=\"new\" xlink:title=\"psysml:04e53eda-a597-4a9c-96a9-348d67cb9847\" xlink:type=\"simple\"><rect fill=\"#FFFFFF\" height=\"45.2656\" id=\"E6\" rx=\"10\" ry=\"10\" style=\"stroke:#383838;stroke-width:1.5;\" width=\"60\" x=\"153\" y=\"58.5\"/><text fill=\"#000000\" font-family=\"sans-serif\" font-size=\"12\" font-style=\"italic\" lengthAdjust=\"spacing\" textLength=\"53\" x=\"156.5\" y=\"74.6387\">«action»</text><text fill=\"#000000\" font-family=\"sans-serif\" font-size=\"14\" lengthAdjust=\"spacing\" textLength=\"18\" x=\"174\" y=\"90.4639\">A3</text></a></g><!--MD5=[4d03bb2d0377dc85ccfab60ff574652b]\n",
       "link E2 to E4--><g id=\"link_E2_E4\"><a href=\"psysml:0e1095c8-d4f6-4449-8c10-0793e56d6528\" target=\"_top\" title=\"psysml:0e1095c8-d4f6-4449-8c10-0793e56d6528\" xlink:actuate=\"onRequest\" xlink:href=\"psysml:0e1095c8-d4f6-4449-8c10-0793e56d6528\" xlink:show=\"new\" xlink:title=\"psysml:0e1095c8-d4f6-4449-8c10-0793e56d6528\" xlink:type=\"simple\"><path d=\"M44.72,142.42 C64.05,147.67 112.01,160.11 153,166 C192.68,171.7 202.98,169.71 243,172 C266.52,173.34 293.01,174.6 313.5,175.52 \" fill=\"none\" id=\"E2-to-E4\" style=\"stroke:#181818;stroke-width:1.0;\"/><polygon fill=\"#181818\" points=\"318.57,175.75,309.7626,171.342,313.5752,175.521,309.3963,179.3336,318.57,175.75\" style=\"stroke:#181818;stroke-width:1.0;\"/><text fill=\"#000000\" font-family=\"sans-serif\" font-size=\"13\" lengthAdjust=\"spacing\" textLength=\"55\" x=\"155.5\" y=\"162.0669\">[x == 1]</text></a></g><!--MD5=[dcad52bbbca2fe8adc741ce38b45dc12]\n",
       "link E2 to E5--><g id=\"link_E2_E5\"><a href=\"psysml:0bc69c08-a059-419e-b618-d454e4819a50\" target=\"_top\" title=\"psysml:0bc69c08-a059-419e-b618-d454e4819a50\" xlink:actuate=\"onRequest\" xlink:href=\"psysml:0bc69c08-a059-419e-b618-d454e4819a50\" xlink:show=\"new\" xlink:title=\"psysml:0bc69c08-a059-419e-b618-d454e4819a50\" xlink:type=\"simple\"><path d=\"M46.93,139.63 C97.87,137.93 312.25,131.29 379,137 C418.09,140.35 428.35,140.94 466,152 C474.22,154.42 482.83,157.64 490.86,160.97 \" fill=\"none\" id=\"E2-to-E5\" style=\"stroke:#181818;stroke-width:1.0;\"/><polygon fill=\"#181818\" points=\"495.77,163.05,489.0355,155.8635,491.164,161.1046,485.9228,163.2331,495.77,163.05\" style=\"stroke:#181818;stroke-width:1.0;\"/><text fill=\"#000000\" font-family=\"sans-serif\" font-size=\"13\" lengthAdjust=\"spacing\" textLength=\"44\" x=\"244\" y=\"131.0669\">[x &gt; 1]</text></a></g><!--MD5=[e3e28c1befcf002155aa15e1416b4315]\n",
       "link E2 to E6--><g id=\"link_E2_E6\"><a href=\"psysml:7bfaba1c-8598-44bd-a9fd-5f850f0b7fd7\" target=\"_top\" title=\"psysml:7bfaba1c-8598-44bd-a9fd-5f850f0b7fd7\" xlink:actuate=\"onRequest\" xlink:href=\"psysml:7bfaba1c-8598-44bd-a9fd-5f850f0b7fd7\" xlink:show=\"new\" xlink:title=\"psysml:7bfaba1c-8598-44bd-a9fd-5f850f0b7fd7\" xlink:type=\"simple\"><path d=\"M45.65,138.35 C66.81,134.7 115.93,126.04 123,123 C132.73,118.82 142.44,112.84 151.1,106.71 \" fill=\"none\" id=\"E2-to-E6\" style=\"stroke:#181818;stroke-width:1.0;\"/><polygon fill=\"#181818\" points=\"155.26,103.69,145.6296,105.7526,151.2176,106.6326,150.3376,112.2206,155.26,103.69\" style=\"stroke:#181818;stroke-width:1.0;\"/></a></g><!--MD5=[2351f337d6de0f557b50152ba70847b5]\n",
       "link E6 to E2--><g id=\"link_E6_E2\"><a href=\"psysml:31538477-4a34-40a9-aec8-5df805757767\" target=\"_top\" title=\"psysml:31538477-4a34-40a9-aec8-5df805757767\" xlink:actuate=\"onRequest\" xlink:href=\"psysml:31538477-4a34-40a9-aec8-5df805757767\" xlink:show=\"new\" xlink:title=\"psysml:31538477-4a34-40a9-aec8-5df805757767\" xlink:type=\"simple\"><path d=\"M152.99,92.49 C131.89,100.88 102.64,112.56 77,123 C67.43,126.9 56.63,131.38 48.52,134.76 \" fill=\"none\" id=\"E6-to-E2\" style=\"stroke:#181818;stroke-width:1.0;\"/><polygon fill=\"#181818\" points=\"43.85,136.71,53.6964,136.93,48.4633,134.7819,50.6114,129.5487,43.85,136.71\" style=\"stroke:#181818;stroke-width:1.0;\"/><text fill=\"#000000\" font-family=\"sans-serif\" font-size=\"13\" lengthAdjust=\"spacing\" textLength=\"44\" x=\"78\" y=\"102.0669\">[x &gt; 0]</text></a></g><!--MD5=[2720a5a1f2c3fca2055b230370638851]\n",
       "link E2 to E3--><g id=\"link_E2_E3\"><a href=\"psysml:df8d299f-9da3-41cd-a9dd-6e3a0d30decc\" target=\"_top\" title=\"psysml:df8d299f-9da3-41cd-a9dd-6e3a0d30decc\" xlink:actuate=\"onRequest\" xlink:href=\"psysml:df8d299f-9da3-41cd-a9dd-6e3a0d30decc\" xlink:show=\"new\" xlink:title=\"psysml:df8d299f-9da3-41cd-a9dd-6e3a0d30decc\" xlink:type=\"simple\"><path d=\"M39.76,147.52 C46.18,159.88 60.23,184.83 77,202 C106.3,231.99 149.52,257.46 170.17,268.76 \" fill=\"none\" id=\"E2-to-E3\" style=\"stroke:#181818;stroke-width:1.0;\"/><polygon fill=\"#181818\" points=\"174.68,271.2,168.6552,263.4089,170.2786,268.8278,164.8596,270.4512,174.68,271.2\" style=\"stroke:#181818;stroke-width:1.0;\"/></a></g><!--MD5=[af87c684e3b0d8be13c1a698a818ef1e]\n",
       "link E3 to E4--><g id=\"link_E3_E4\"><a href=\"psysml:131b15c1-7866-4964-88c1-b03f264417a9\" target=\"_top\" title=\"psysml:131b15c1-7866-4964-88c1-b03f264417a9\" xlink:actuate=\"onRequest\" xlink:href=\"psysml:131b15c1-7866-4964-88c1-b03f264417a9\" xlink:show=\"new\" xlink:title=\"psysml:131b15c1-7866-4964-88c1-b03f264417a9\" xlink:type=\"simple\"><path d=\"M191.52,271.15 C208.94,262.16 253.32,238.89 289,217 C297.37,211.87 306.21,206.08 314.44,200.53 \" fill=\"none\" id=\"E3-to-E4\" style=\"stroke:#181818;stroke-width:1.0;\"/><polygon fill=\"#181818\" points=\"318.93,197.47,309.2376,199.2185,314.794,200.2796,313.733,205.836,318.93,197.47\" style=\"stroke:#181818;stroke-width:1.0;\"/><text fill=\"#000000\" font-family=\"sans-serif\" font-size=\"13\" lengthAdjust=\"spacing\" textLength=\"36\" x=\"248\" y=\"213.0669\">[true]</text></a></g><!--MD5=[0188b64bb0ae78505a997a81836e11e9]\n",
       "link E3 to E5--><g id=\"link_E3_E5\"><a href=\"psysml:825f54b9-3c70-45c0-b332-e5b9a5c4b905\" target=\"_top\" title=\"psysml:825f54b9-3c70-45c0-b332-e5b9a5c4b905\" xlink:actuate=\"onRequest\" xlink:href=\"psysml:825f54b9-3c70-45c0-b332-e5b9a5c4b905\" xlink:show=\"new\" xlink:title=\"psysml:825f54b9-3c70-45c0-b332-e5b9a5c4b905\" xlink:type=\"simple\"><path d=\"M193.88,273.51 C222.76,269.05 309.38,254.75 379,234 C418.19,222.32 461.69,204.7 490.93,192.15 \" fill=\"none\" id=\"E3-to-E5\" style=\"stroke:#181818;stroke-width:1.0;\"/><polygon fill=\"#181818\" points=\"495.86,190.03,486.0116,189.9357,491.2717,192.0168,489.1905,197.2769,495.86,190.03\" style=\"stroke:#181818;stroke-width:1.0;\"/><text fill=\"#000000\" font-family=\"sans-serif\" font-size=\"13\" lengthAdjust=\"spacing\" textLength=\"40\" x=\"329\" y=\"230.0669\">[false]</text></a></g><!--MD5=[1b7591eae5389033d8d09a9d6721a717]\n",
       "link E4 to E5--><g id=\"link_E4_E5\"><a href=\"psysml:b3779ea1-0b8c-4465-ae00-48dbba13ac92\" target=\"_top\" title=\"psysml:b3779ea1-0b8c-4465-ae00-48dbba13ac92\" xlink:actuate=\"onRequest\" xlink:href=\"psysml:b3779ea1-0b8c-4465-ae00-48dbba13ac92\" xlink:show=\"new\" xlink:title=\"psysml:b3779ea1-0b8c-4465-ae00-48dbba13ac92\" xlink:type=\"simple\"><path d=\"M379.29,177 C410.05,177 458.36,177 490.83,177 \" fill=\"none\" id=\"E4-to-E5\" style=\"stroke:#181818;stroke-width:1.0;\"/><polygon fill=\"#181818\" points=\"495.91,177,486.91,173,490.91,177,486.91,181,495.91,177\" style=\"stroke:#181818;stroke-width:1.0;\"/><text fill=\"#000000\" font-family=\"sans-serif\" font-size=\"13\" lengthAdjust=\"spacing\" textLength=\"55\" x=\"410\" y=\"173.0669\">[x == 0]</text></a></g><!--MD5=[f1349af5822e91fb072d9b3607c8c7ba]\n",
       "@startuml\r\n",
       "skin sysmlbw\r\n",
       "skinparam monochrome true\r\n",
       "skinparam wrapWidth 300\r\n",
       "hide circle\r\n",
       "left to right direction\r\n",
       "\r\n",
       "rec def \"DecisionTest\" as E1  <<(T,blue) action  def>> [[psysml:24509d73-250a-487a-bcd7-b59ee0863fbf ]] {\r\n",
       "choice \"test x\" as E2  [[psysml:7d99bd45-3b62-4bbf-b126-0db5f71d3136 ]] \r\n",
       "choice \"<s>noname</s>\" as E3  [[psysml:6dee609b-d6ae-4161-97b9-077c5f3bd0c2 ]] \r\n",
       "rec usage \"A1\" as E4  <<(T,blue) action>> [[psysml:f539a78a-befd-4456-a49f-f3788a07e7bd ]] {\r\n",
       "}\r\n",
       "\r\n",
       "rec usage \"A2\" as E5  <<(T,blue) action>> [[psysml:451b6b51-1ae2-4b81-be73-8fe0566d61d5 ]] {\r\n",
       "}\r\n",
       "\r\n",
       "rec usage \"A3\" as E6  <<(T,blue) action>> [[psysml:04e53eda-a597-4a9c-96a9-348d67cb9847 ]] {\r\n",
       "}\r\n",
       "\r\n",
       "}\r\n",
       "\r\n",
       "E2  - -> E4 [[psysml:0e1095c8-d4f6-4449-8c10-0793e56d6528 ]] : [x == 1]\r\n",
       "E2  - -> E5 [[psysml:0bc69c08-a059-419e-b618-d454e4819a50 ]] : [x > 1]\r\n",
       "E2  - -> E6 [[psysml:7bfaba1c-8598-44bd-a9fd-5f850f0b7fd7 ]] \r\n",
       "E2 - -> E3 [[psysml:df8d299f-9da3-41cd-a9dd-6e3a0d30decc ]] \r\n",
       "E3  - -> E4 [[psysml:131b15c1-7866-4964-88c1-b03f264417a9 ]] : [true]\r\n",
       "E3  - -> E5 [[psysml:825f54b9-3c70-45c0-b332-e5b9a5c4b905 ]] : [false]\r\n",
       "E4  - -> E5 [[psysml:b3779ea1-0b8c-4465-ae00-48dbba13ac92 ]] : [x == 0]\r\n",
       "E6  - -> E2 [[psysml:31538477-4a34-40a9-aec8-5df805757767 ]] : [x > 0]\r\n",
       "@enduml\r\n",
       "\n",
       "PlantUML version 1.2022.7(Mon Aug 22 17:01:30 UTC 2022)\n",
       "(EPL source distribution)\n",
       "Java Runtime: OpenJDK Runtime Environment\n",
       "JVM: OpenJDK 64-Bit Server VM\n",
       "Default Encoding: UTF-8\n",
       "Language: en\n",
       "Country: null\n",
       "--></g></svg>"
      ]
     },
     "execution_count": 16,
     "metadata": {},
     "output_type": "execute_result"
    }
   ],
   "source": [
    "%viz --style=\"LR\" --view=\"Default\" \"DecisionTest\""
   ]
  },
  {
   "cell_type": "code",
   "execution_count": 17,
   "id": "c7b99306",
   "metadata": {
    "execution": {
     "iopub.execute_input": "2024-12-16T03:28:01.477070Z",
     "iopub.status.busy": "2024-12-16T03:28:01.476846Z",
     "iopub.status.idle": "2024-12-16T03:28:01.512637Z",
     "shell.execute_reply": "2024-12-16T03:28:01.512768Z"
    }
   },
   "outputs": [
    {
     "data": {
      "image/svg+xml": [
       "<?xml version=\"1.0\" encoding=\"UTF-8\" standalone=\"no\"?><svg xmlns=\"http://www.w3.org/2000/svg\" xmlns:xlink=\"http://www.w3.org/1999/xlink\" contentStyleType=\"text/css\" height=\"382px\" preserveAspectRatio=\"none\" style=\"width:546px;height:382px;background:#FFFFFF;\" version=\"1.1\" viewBox=\"0 0 546 382\" width=\"546px\" zoomAndPan=\"magnify\"><defs/><g><!--MD5=[43c9051892ef23e1a46a86907403d788]\n",
       "class E1--><a href=\"psysml:24509d73-250a-487a-bcd7-b59ee0863fbf\" target=\"_top\" title=\"psysml:24509d73-250a-487a-bcd7-b59ee0863fbf\" xlink:actuate=\"onRequest\" xlink:href=\"psysml:24509d73-250a-487a-bcd7-b59ee0863fbf\" xlink:show=\"new\" xlink:title=\"psysml:24509d73-250a-487a-bcd7-b59ee0863fbf\" xlink:type=\"simple\"><g id=\"elem_E1\"><rect fill=\"#FFFFFF\" height=\"277.3094\" id=\"E1\" style=\"stroke:#181818;stroke-width:0.5;\" width=\"204\" x=\"7\" y=\"46.5\"/><text fill=\"#000000\" font-family=\"sans-serif\" font-size=\"12\" font-style=\"italic\" lengthAdjust=\"spacing\" textLength=\"81\" x=\"68.5\" y=\"62.6387\">«action  def»</text><text fill=\"#000000\" font-family=\"sans-serif\" font-size=\"14\" lengthAdjust=\"spacing\" textLength=\"91\" x=\"63.5\" y=\"78.4639\">DecisionTest</text><line style=\"stroke:#181818;stroke-width:0.5;\" x1=\"8\" x2=\"210\" y1=\"86.7656\" y2=\"86.7656\"/><text fill=\"#000000\" font-family=\"sans-serif\" font-size=\"14\" lengthAdjust=\"spacing\" textLength=\"36\" x=\"13\" y=\"114.2795\">x = 1</text><text fill=\"#000000\" font-family=\"sans-serif\" font-size=\"14\" font-style=\"italic\" lengthAdjust=\"spacing\" textLength=\"66\" x=\"76\" y=\"99.1123\">attributes</text><line style=\"stroke:#181818;stroke-width:1.0;\" x1=\"8\" x2=\"210\" y1=\"121.5813\" y2=\"121.5813\"/><text fill=\"#000000\" font-family=\"sans-serif\" font-size=\"14\" lengthAdjust=\"spacing\" textLength=\"18\" x=\"13\" y=\"149.0951\">A3</text><text fill=\"#000000\" font-family=\"sans-serif\" font-size=\"14\" font-style=\"italic\" lengthAdjust=\"spacing\" textLength=\"50\" x=\"84\" y=\"133.9279\">actions</text><line style=\"stroke:#181818;stroke-width:1.0;\" x1=\"8\" x2=\"210\" y1=\"156.3969\" y2=\"156.3969\"/><text fill=\"#000000\" font-family=\"sans-serif\" font-size=\"14\" lengthAdjust=\"spacing\" textLength=\"192\" x=\"13\" y=\"183.9107\">noname first test x then null</text><text fill=\"#000000\" font-family=\"sans-serif\" font-size=\"14\" font-style=\"italic\" lengthAdjust=\"spacing\" textLength=\"87\" x=\"65.5\" y=\"168.7436\">successions</text><line style=\"stroke:#181818;stroke-width:1.0;\" x1=\"8\" x2=\"210\" y1=\"191.2125\" y2=\"191.2125\"/><text fill=\"#000000\" font-family=\"sans-serif\" font-size=\"14\" lengthAdjust=\"spacing\" textLength=\"4\" x=\"13\" y=\"218.7264\"> </text><text fill=\"#000000\" font-family=\"sans-serif\" font-size=\"14\" lengthAdjust=\"spacing\" textLength=\"4\" x=\"13\" y=\"235.0232\"> </text><text fill=\"#000000\" font-family=\"sans-serif\" font-size=\"14\" lengthAdjust=\"spacing\" textLength=\"4\" x=\"13\" y=\"251.3201\"> </text><text fill=\"#000000\" font-family=\"sans-serif\" font-size=\"14\" lengthAdjust=\"spacing\" textLength=\"4\" x=\"13\" y=\"267.617\"> </text><text fill=\"#000000\" font-family=\"sans-serif\" font-size=\"14\" lengthAdjust=\"spacing\" textLength=\"4\" x=\"13\" y=\"283.9139\"> </text><text fill=\"#000000\" font-family=\"sans-serif\" font-size=\"14\" lengthAdjust=\"spacing\" textLength=\"4\" x=\"13\" y=\"300.2107\"> </text><text fill=\"#000000\" font-family=\"sans-serif\" font-size=\"14\" lengthAdjust=\"spacing\" textLength=\"9\" x=\"13\" y=\"316.5076\">S</text><text fill=\"#000000\" font-family=\"sans-serif\" font-size=\"14\" font-style=\"italic\" lengthAdjust=\"spacing\" textLength=\"72\" x=\"73\" y=\"203.5592\">transitions</text></g></a><!--MD5=[b4997ac47864f28c2f74865a473b2911]\n",
       "class E2--><a href=\"psysml:7d99bd45-3b62-4bbf-b126-0db5f71d3136\" target=\"_top\" title=\"psysml:7d99bd45-3b62-4bbf-b126-0db5f71d3136\" xlink:actuate=\"onRequest\" xlink:href=\"psysml:7d99bd45-3b62-4bbf-b126-0db5f71d3136\" xlink:show=\"new\" xlink:title=\"psysml:7d99bd45-3b62-4bbf-b126-0db5f71d3136\" xlink:type=\"simple\"><g id=\"elem_E2\"><rect fill=\"#FFFFFF\" height=\"48.2656\" id=\"E2\" rx=\"10\" ry=\"10\" style=\"stroke:#181818;stroke-width:0.5;\" width=\"104\" x=\"271\" y=\"7\"/><text fill=\"#000000\" font-family=\"sans-serif\" font-size=\"12\" font-style=\"italic\" lengthAdjust=\"spacing\" textLength=\"102\" x=\"272\" y=\"23.1387\">«decision node»</text><text fill=\"#000000\" font-family=\"sans-serif\" font-size=\"14\" lengthAdjust=\"spacing\" textLength=\"38\" x=\"300\" y=\"38.9639\">test x</text><line style=\"stroke:#181818;stroke-width:0.5;\" x1=\"272\" x2=\"374\" y1=\"47.2656\" y2=\"47.2656\"/></g></a><!--MD5=[09b614a08d8cba4a07c9adeb5e0fee81]\n",
       "class E3--><a href=\"psysml:6dee609b-d6ae-4161-97b9-077c5f3bd0c2\" target=\"_top\" title=\"psysml:6dee609b-d6ae-4161-97b9-077c5f3bd0c2\" xlink:actuate=\"onRequest\" xlink:href=\"psysml:6dee609b-d6ae-4161-97b9-077c5f3bd0c2\" xlink:show=\"new\" xlink:title=\"psysml:6dee609b-d6ae-4161-97b9-077c5f3bd0c2\" xlink:type=\"simple\"><g id=\"elem_E3\"><rect fill=\"#FFFFFF\" height=\"48.2656\" id=\"E3\" rx=\"10\" ry=\"10\" style=\"stroke:#181818;stroke-width:0.5;\" width=\"104\" x=\"435\" y=\"46\"/><text fill=\"#000000\" font-family=\"sans-serif\" font-size=\"12\" font-style=\"italic\" lengthAdjust=\"spacing\" textLength=\"102\" x=\"436\" y=\"62.1387\">«decision node»</text><text fill=\"#000000\" font-family=\"sans-serif\" font-size=\"14\" lengthAdjust=\"spacing\" text-decoration=\"line-through\" textLength=\"57\" x=\"454.5\" y=\"77.9639\">noname</text><text fill=\"#000000\" font-family=\"sans-serif\" font-size=\"14\" lengthAdjust=\"spacing\" textLength=\"8\" x=\"511.5\" y=\"77.9639\">  </text><line style=\"stroke:#181818;stroke-width:0.5;\" x1=\"436\" x2=\"538\" y1=\"86.2656\" y2=\"86.2656\"/></g></a><!--MD5=[ebbe1d658d1005bcc118a6aa81145e00]\n",
       "class E4--><a href=\"psysml:f539a78a-befd-4456-a49f-f3788a07e7bd\" target=\"_top\" title=\"psysml:f539a78a-befd-4456-a49f-f3788a07e7bd\" xlink:actuate=\"onRequest\" xlink:href=\"psysml:f539a78a-befd-4456-a49f-f3788a07e7bd\" xlink:show=\"new\" xlink:title=\"psysml:f539a78a-befd-4456-a49f-f3788a07e7bd\" xlink:type=\"simple\"><g id=\"elem_E4\"><rect fill=\"#FFFFFF\" height=\"48.2656\" id=\"E4\" rx=\"10\" ry=\"10\" style=\"stroke:#181818;stroke-width:0.5;\" width=\"55\" x=\"295.5\" y=\"161\"/><text fill=\"#000000\" font-family=\"sans-serif\" font-size=\"12\" font-style=\"italic\" lengthAdjust=\"spacing\" textLength=\"53\" x=\"296.5\" y=\"177.1387\">«action»</text><text fill=\"#000000\" font-family=\"sans-serif\" font-size=\"14\" lengthAdjust=\"spacing\" textLength=\"18\" x=\"310\" y=\"192.9639\">A1</text><line style=\"stroke:#181818;stroke-width:0.5;\" x1=\"296.5\" x2=\"349.5\" y1=\"201.2656\" y2=\"201.2656\"/></g></a><!--MD5=[270fce915f116d4de14055a7c1d9a0f3]\n",
       "class E5--><a href=\"psysml:451b6b51-1ae2-4b81-be73-8fe0566d61d5\" target=\"_top\" title=\"psysml:451b6b51-1ae2-4b81-be73-8fe0566d61d5\" xlink:actuate=\"onRequest\" xlink:href=\"psysml:451b6b51-1ae2-4b81-be73-8fe0566d61d5\" xlink:show=\"new\" xlink:title=\"psysml:451b6b51-1ae2-4b81-be73-8fe0566d61d5\" xlink:type=\"simple\"><g id=\"elem_E5\"><rect fill=\"#FFFFFF\" height=\"48.2656\" id=\"E5\" rx=\"10\" ry=\"10\" style=\"stroke:#181818;stroke-width:0.5;\" width=\"55\" x=\"295.5\" y=\"244\"/><text fill=\"#000000\" font-family=\"sans-serif\" font-size=\"12\" font-style=\"italic\" lengthAdjust=\"spacing\" textLength=\"53\" x=\"296.5\" y=\"260.1387\">«action»</text><text fill=\"#000000\" font-family=\"sans-serif\" font-size=\"14\" lengthAdjust=\"spacing\" textLength=\"18\" x=\"310\" y=\"275.9639\">A2</text><line style=\"stroke:#181818;stroke-width:0.5;\" x1=\"296.5\" x2=\"349.5\" y1=\"284.2656\" y2=\"284.2656\"/></g></a><!--MD5=[60a26617385b1d2d0262a64233df1f8d]\n",
       "class E6--><a href=\"psysml:04e53eda-a597-4a9c-96a9-348d67cb9847\" target=\"_top\" title=\"psysml:04e53eda-a597-4a9c-96a9-348d67cb9847\" xlink:actuate=\"onRequest\" xlink:href=\"psysml:04e53eda-a597-4a9c-96a9-348d67cb9847\" xlink:show=\"new\" xlink:title=\"psysml:04e53eda-a597-4a9c-96a9-348d67cb9847\" xlink:type=\"simple\"><g id=\"elem_E6\"><rect fill=\"#FFFFFF\" height=\"48.2656\" id=\"E6\" rx=\"10\" ry=\"10\" style=\"stroke:#181818;stroke-width:0.5;\" width=\"55\" x=\"295.5\" y=\"327\"/><text fill=\"#000000\" font-family=\"sans-serif\" font-size=\"12\" font-style=\"italic\" lengthAdjust=\"spacing\" textLength=\"53\" x=\"296.5\" y=\"343.1387\">«action»</text><text fill=\"#000000\" font-family=\"sans-serif\" font-size=\"14\" lengthAdjust=\"spacing\" textLength=\"18\" x=\"310\" y=\"358.9639\">A3</text><line style=\"stroke:#181818;stroke-width:0.5;\" x1=\"296.5\" x2=\"349.5\" y1=\"367.2656\" y2=\"367.2656\"/></g></a><!--MD5=[a523cb2a0b79ecf9065ad8783f96c320]\n",
       "reverse link E1 to E2--><g id=\"link_E1_E2\"><a href=\"psysml:0a57c05e-4dd3-44ad-ba12-51402458bbf0\" target=\"_top\" title=\"psysml:0a57c05e-4dd3-44ad-ba12-51402458bbf0\" xlink:actuate=\"onRequest\" xlink:href=\"psysml:0a57c05e-4dd3-44ad-ba12-51402458bbf0\" xlink:show=\"new\" xlink:title=\"psysml:0a57c05e-4dd3-44ad-ba12-51402458bbf0\" xlink:type=\"simple\"><path d=\"M221.6,103.93 C246.23,86.04 270.45,68.45 288.93,55.02 \" fill=\"none\" id=\"E1-backto-E2\" style=\"stroke:#181818;stroke-width:1.0;\"/><polygon fill=\"#181818\" points=\"211.03,111.61,218.2354,111.3241,220.7428,104.5629,213.5374,104.8489,211.03,111.61\" style=\"stroke:#181818;stroke-width:1.0;\"/></a></g><!--MD5=[2720a5a1f2c3fca2055b230370638851]\n",
       "link E2 to E3--><g id=\"link_E2_E3\"><a href=\"psysml:df8d299f-9da3-41cd-a9dd-6e3a0d30decc\" target=\"_top\" title=\"psysml:df8d299f-9da3-41cd-a9dd-6e3a0d30decc\" xlink:actuate=\"onRequest\" xlink:href=\"psysml:df8d299f-9da3-41cd-a9dd-6e3a0d30decc\" xlink:show=\"new\" xlink:title=\"psysml:df8d299f-9da3-41cd-a9dd-6e3a0d30decc\" xlink:type=\"simple\"><path d=\"M375.26,43.34 C392.63,47.52 412.12,52.21 429.85,56.48 \" fill=\"none\" id=\"E2-to-E3\" style=\"stroke:#181818;stroke-width:1.0;\"/><polygon fill=\"#181818\" points=\"434.8,57.67,426.9887,51.6714,429.9394,56.4977,425.113,59.4484,434.8,57.67\" style=\"stroke:#181818;stroke-width:1.0;\"/></a></g><!--MD5=[5d7b3810b1dd9b5164bea1151b29b665]\n",
       "reverse link E1 to E3--><g id=\"link_E1_E3\"><a href=\"psysml:5efd2738-c984-493d-a46e-1379d8b8bf4b\" target=\"_top\" title=\"psysml:5efd2738-c984-493d-a46e-1379d8b8bf4b\" xlink:actuate=\"onRequest\" xlink:href=\"psysml:5efd2738-c984-493d-a46e-1379d8b8bf4b\" xlink:show=\"new\" xlink:title=\"psysml:5efd2738-c984-493d-a46e-1379d8b8bf4b\" xlink:type=\"simple\"><path d=\"M223.73,150.22 C294.01,128.72 380.79,102.18 434.78,85.67 \" fill=\"none\" id=\"E1-backto-E3\" style=\"stroke:#181818;stroke-width:1.0;\"/><polygon fill=\"#181818\" points=\"211.26,154.03,218.1673,156.1009,222.7356,150.5214,215.8283,148.4505,211.26,154.03\" style=\"stroke:#181818;stroke-width:1.0;\"/></a></g><!--MD5=[f2c5c03aa1e8c0ba21c10a05e6444b8e]\n",
       "reverse link E1 to E4--><g id=\"link_E1_E4\"><a href=\"psysml:867ae522-9684-4034-9c56-5f70d3a76b09\" target=\"_top\" title=\"psysml:867ae522-9684-4034-9c56-5f70d3a76b09\" xlink:actuate=\"onRequest\" xlink:href=\"psysml:867ae522-9684-4034-9c56-5f70d3a76b09\" xlink:show=\"new\" xlink:title=\"psysml:867ae522-9684-4034-9c56-5f70d3a76b09\" xlink:type=\"simple\"><path d=\"M224.17,185 C250.89,185 276.91,185 295.39,185 \" fill=\"none\" id=\"E1-backto-E4\" style=\"stroke:#181818;stroke-width:1.0;\"/><polygon fill=\"#181818\" points=\"211.03,185,217.03,189,223.03,185,217.03,181,211.03,185\" style=\"stroke:#181818;stroke-width:1.0;\"/></a></g><!--MD5=[33238bef88d6431a141d8bc8fb12bca0]\n",
       "reverse link E1 to E5--><g id=\"link_E1_E5\"><a href=\"psysml:e0e8ad72-4177-4702-a62e-bf2c3ff4a78a\" target=\"_top\" title=\"psysml:e0e8ad72-4177-4702-a62e-bf2c3ff4a78a\" xlink:actuate=\"onRequest\" xlink:href=\"psysml:e0e8ad72-4177-4702-a62e-bf2c3ff4a78a\" xlink:show=\"new\" xlink:title=\"psysml:e0e8ad72-4177-4702-a62e-bf2c3ff4a78a\" xlink:type=\"simple\"><path d=\"M223.45,229.42 C250.42,239.97 276.74,250.28 295.39,257.58 \" fill=\"none\" id=\"E1-backto-E5\" style=\"stroke:#181818;stroke-width:1.0;\"/><polygon fill=\"#181818\" points=\"211.03,224.56,215.1564,230.4738,222.2024,228.9393,218.0759,223.0255,211.03,224.56\" style=\"stroke:#181818;stroke-width:1.0;\"/></a></g><!--MD5=[aca2ef284c2b1b90e17e73bf3f292c07]\n",
       "reverse link E1 to E6--><g id=\"link_E1_E6\"><a href=\"psysml:3e72a653-2f0b-4c94-896a-b70e2d6f389f\" target=\"_top\" title=\"psysml:3e72a653-2f0b-4c94-896a-b70e2d6f389f\" xlink:actuate=\"onRequest\" xlink:href=\"psysml:3e72a653-2f0b-4c94-896a-b70e2d6f389f\" xlink:show=\"new\" xlink:title=\"psysml:3e72a653-2f0b-4c94-896a-b70e2d6f389f\" xlink:type=\"simple\"><path d=\"M221.62,272.4 C249.23,294.02 276.32,315.23 295.39,330.17 \" fill=\"none\" id=\"E1-backto-E6\" style=\"stroke:#181818;stroke-width:1.0;\"/><polygon fill=\"#181818\" points=\"211.03,264.11,213.2906,270.9576,220.4809,271.5046,218.2203,264.657,211.03,264.11\" style=\"stroke:#181818;stroke-width:1.0;\"/></a></g><!--MD5=[a29211deec5120638b51c5eb4c2b943c]\n",
       "@startuml\r\n",
       "skin sysmlbw\r\n",
       "skinparam monochrome true\r\n",
       "skinparam wrapWidth 300\r\n",
       "hide circle\r\n",
       "left to right direction\r\n",
       "\r\n",
       "comp def \"DecisionTest\" as E1  <<(T,blue) action  def>> [[psysml:24509d73-250a-487a-bcd7-b59ee0863fbf ]] {\r\n",
       "##//attributes//##\r\n",
       "x <U+003D> 1\r\n",
       "- -\r\n",
       "##//actions//##\r\n",
       "A3\r\n",
       "- -\r\n",
       "##//successions//##\r\n",
       "noname first test x then null\r\n",
       "- -\r\n",
       "##//transitions//##\r\n",
       "\r\n",
       "\r\n",
       "\r\n",
       "\r\n",
       "\r\n",
       "\r\n",
       "S\r\n",
       "}\r\n",
       "comp usage \"test x  \" as E2  <<(T,blue) decision node>> [[psysml:7d99bd45-3b62-4bbf-b126-0db5f71d3136 ]] {\r\n",
       "}\r\n",
       "comp usage \"<s>noname</s>  \" as E3  <<(T,blue) decision node>> [[psysml:6dee609b-d6ae-4161-97b9-077c5f3bd0c2 ]] {\r\n",
       "}\r\n",
       "comp usage \"A1  \" as E4  <<(T,blue) action>> [[psysml:f539a78a-befd-4456-a49f-f3788a07e7bd ]] {\r\n",
       "}\r\n",
       "comp usage \"A2  \" as E5  <<(T,blue) action>> [[psysml:451b6b51-1ae2-4b81-be73-8fe0566d61d5 ]] {\r\n",
       "}\r\n",
       "comp usage \"A3  \" as E6  <<(T,blue) action>> [[psysml:04e53eda-a597-4a9c-96a9-348d67cb9847 ]] {\r\n",
       "}\r\n",
       "E1 *- - E2 [[psysml:0a57c05e-4dd3-44ad-ba12-51402458bbf0 ]] \r\n",
       "E2 - -> E3 [[psysml:df8d299f-9da3-41cd-a9dd-6e3a0d30decc ]] \r\n",
       "E1 *- - E3 [[psysml:5efd2738-c984-493d-a46e-1379d8b8bf4b ]] \r\n",
       "E1 *- - E4 [[psysml:867ae522-9684-4034-9c56-5f70d3a76b09 ]] \r\n",
       "E1 *- - E5 [[psysml:e0e8ad72-4177-4702-a62e-bf2c3ff4a78a ]] \r\n",
       "E1 *- - E6 [[psysml:3e72a653-2f0b-4c94-896a-b70e2d6f389f ]] \r\n",
       "@enduml\r\n",
       "\n",
       "PlantUML version 1.2022.7(Mon Aug 22 17:01:30 UTC 2022)\n",
       "(EPL source distribution)\n",
       "Java Runtime: OpenJDK Runtime Environment\n",
       "JVM: OpenJDK 64-Bit Server VM\n",
       "Default Encoding: UTF-8\n",
       "Language: en\n",
       "Country: null\n",
       "--></g></svg>"
      ]
     },
     "execution_count": 17,
     "metadata": {},
     "output_type": "execute_result"
    }
   ],
   "source": [
    "%viz --style=\"LR\" --view=\"Tree\" \"DecisionTest\""
   ]
  },
  {
   "cell_type": "code",
   "execution_count": 18,
   "id": "fb623323",
   "metadata": {
    "execution": {
     "iopub.execute_input": "2024-12-16T03:28:01.564171Z",
     "iopub.status.busy": "2024-12-16T03:28:01.563926Z",
     "iopub.status.idle": "2024-12-16T03:28:01.578504Z",
     "shell.execute_reply": "2024-12-16T03:28:01.578291Z"
    }
   },
   "outputs": [
    {
     "data": {
      "image/svg+xml": [
       "<?xml version=\"1.0\" encoding=\"UTF-8\" standalone=\"no\"?><svg xmlns=\"http://www.w3.org/2000/svg\" xmlns:xlink=\"http://www.w3.org/1999/xlink\" contentStyleType=\"text/css\" height=\"10px\" preserveAspectRatio=\"none\" style=\"width:10px;height:10px;background:#FFFFFF;\" version=\"1.1\" viewBox=\"0 0 10 10\" width=\"10px\" zoomAndPan=\"magnify\"><defs/><g><!--MD5=[fb420fbd7a91d32138f4344b927a323c]\n",
       "@startuml\r\n",
       "skin sysmlbw\r\n",
       "skinparam monochrome true\r\n",
       "skinparam wrapWidth 300\r\n",
       "hide circle\r\n",
       "left to right direction\r\n",
       "\r\n",
       "@enduml\r\n",
       "\n",
       "PlantUML version 1.2022.7(Mon Aug 22 17:01:30 UTC 2022)\n",
       "(EPL source distribution)\n",
       "Java Runtime: OpenJDK Runtime Environment\n",
       "JVM: OpenJDK 64-Bit Server VM\n",
       "Default Encoding: UTF-8\n",
       "Language: en\n",
       "Country: null\n",
       "--></g></svg>"
      ]
     },
     "execution_count": 18,
     "metadata": {},
     "output_type": "execute_result"
    }
   ],
   "source": [
    "%viz --style=\"LR\" --view=\"State\" \"DecisionTest\""
   ]
  },
  {
   "cell_type": "code",
   "execution_count": 19,
   "id": "a829a461",
   "metadata": {
    "execution": {
     "iopub.execute_input": "2024-12-16T03:28:01.635172Z",
     "iopub.status.busy": "2024-12-16T03:28:01.634938Z",
     "iopub.status.idle": "2024-12-16T03:28:01.657818Z",
     "shell.execute_reply": "2024-12-16T03:28:01.657626Z"
    }
   },
   "outputs": [
    {
     "data": {
      "image/svg+xml": [
       "<?xml version=\"1.0\" encoding=\"UTF-8\" standalone=\"no\"?><svg xmlns=\"http://www.w3.org/2000/svg\" xmlns:xlink=\"http://www.w3.org/1999/xlink\" contentStyleType=\"text/css\" height=\"309px\" preserveAspectRatio=\"none\" style=\"width:447px;height:309px;background:#FFFFFF;\" version=\"1.1\" viewBox=\"0 0 447 309\" width=\"447px\" zoomAndPan=\"magnify\"><defs/><g><!--MD5=[fbc87193dbaf4d95561dea2c320d4a47]\n",
       "cluster E1--><g id=\"cluster_E1\"><a href=\"psysml:24509d73-250a-487a-bcd7-b59ee0863fbf\" target=\"_top\" title=\"psysml:24509d73-250a-487a-bcd7-b59ee0863fbf\" xlink:actuate=\"onRequest\" xlink:href=\"psysml:24509d73-250a-487a-bcd7-b59ee0863fbf\" xlink:show=\"new\" xlink:title=\"psysml:24509d73-250a-487a-bcd7-b59ee0863fbf\" xlink:type=\"simple\"><rect fill=\"#FFFFFF\" height=\"296\" id=\"E1\" style=\"stroke:#383838;stroke-width:1.5;\" width=\"433\" x=\"7\" y=\"7\"/><text fill=\"#000000\" font-family=\"sans-serif\" font-size=\"12\" font-style=\"italic\" lengthAdjust=\"spacing\" textLength=\"81\" x=\"183\" y=\"23.1387\">«action  def»</text><text fill=\"#000000\" font-family=\"sans-serif\" font-size=\"14\" lengthAdjust=\"spacing\" textLength=\"91\" x=\"178\" y=\"38.9639\">DecisionTest</text><line style=\"stroke:#383838;stroke-width:1.0;\" x1=\"7\" x2=\"440\" y1=\"47.2656\" y2=\"47.2656\"/></a></g><g id=\"elem_E2\"><polygon fill=\"#FFFFFF\" points=\"35,128,47,140,35,152,23,140,35,128\" style=\"stroke:#181818;stroke-width:0.5;\"/></g><g id=\"elem_E3\"><polygon fill=\"#FFFFFF\" points=\"139,263,151,275,139,287,127,275,139,263\" style=\"stroke:#181818;stroke-width:0.5;\"/></g><g><a href=\"psysml:f539a78a-befd-4456-a49f-f3788a07e7bd\" target=\"_top\" title=\"psysml:f539a78a-befd-4456-a49f-f3788a07e7bd\" xlink:actuate=\"onRequest\" xlink:href=\"psysml:f539a78a-befd-4456-a49f-f3788a07e7bd\" xlink:show=\"new\" xlink:title=\"psysml:f539a78a-befd-4456-a49f-f3788a07e7bd\" xlink:type=\"simple\"><rect fill=\"#FFFFFF\" height=\"45.2656\" id=\"E4\" rx=\"10\" ry=\"10\" style=\"stroke:#383838;stroke-width:1.5;\" width=\"60\" x=\"231\" y=\"154.5\"/><text fill=\"#000000\" font-family=\"sans-serif\" font-size=\"12\" font-style=\"italic\" lengthAdjust=\"spacing\" textLength=\"53\" x=\"234.5\" y=\"170.6387\">«action»</text><text fill=\"#000000\" font-family=\"sans-serif\" font-size=\"14\" lengthAdjust=\"spacing\" textLength=\"18\" x=\"252\" y=\"186.4639\">A1</text></a></g><g><a href=\"psysml:451b6b51-1ae2-4b81-be73-8fe0566d61d5\" target=\"_top\" title=\"psysml:451b6b51-1ae2-4b81-be73-8fe0566d61d5\" xlink:actuate=\"onRequest\" xlink:href=\"psysml:451b6b51-1ae2-4b81-be73-8fe0566d61d5\" xlink:show=\"new\" xlink:title=\"psysml:451b6b51-1ae2-4b81-be73-8fe0566d61d5\" xlink:type=\"simple\"><rect fill=\"#FFFFFF\" height=\"45.2656\" id=\"E5\" rx=\"10\" ry=\"10\" style=\"stroke:#383838;stroke-width:1.5;\" width=\"60\" x=\"364\" y=\"154.5\"/><text fill=\"#000000\" font-family=\"sans-serif\" font-size=\"12\" font-style=\"italic\" lengthAdjust=\"spacing\" textLength=\"53\" x=\"367.5\" y=\"170.6387\">«action»</text><text fill=\"#000000\" font-family=\"sans-serif\" font-size=\"14\" lengthAdjust=\"spacing\" textLength=\"18\" x=\"385\" y=\"186.4639\">A2</text></a></g><g><a href=\"psysml:04e53eda-a597-4a9c-96a9-348d67cb9847\" target=\"_top\" title=\"psysml:04e53eda-a597-4a9c-96a9-348d67cb9847\" xlink:actuate=\"onRequest\" xlink:href=\"psysml:04e53eda-a597-4a9c-96a9-348d67cb9847\" xlink:show=\"new\" xlink:title=\"psysml:04e53eda-a597-4a9c-96a9-348d67cb9847\" xlink:type=\"simple\"><rect fill=\"#FFFFFF\" height=\"45.2656\" id=\"E6\" rx=\"10\" ry=\"10\" style=\"stroke:#383838;stroke-width:1.5;\" width=\"60\" x=\"109\" y=\"58.5\"/><text fill=\"#000000\" font-family=\"sans-serif\" font-size=\"12\" font-style=\"italic\" lengthAdjust=\"spacing\" textLength=\"53\" x=\"112.5\" y=\"74.6387\">«action»</text><text fill=\"#000000\" font-family=\"sans-serif\" font-size=\"14\" lengthAdjust=\"spacing\" textLength=\"18\" x=\"130\" y=\"90.4639\">A3</text></a></g><!--MD5=[4d03bb2d0377dc85ccfab60ff574652b]\n",
       "link E2 to E4--><g id=\"link_E2_E4\"><a href=\"psysml:0e1095c8-d4f6-4449-8c10-0793e56d6528\" target=\"_top\" title=\"psysml:0e1095c8-d4f6-4449-8c10-0793e56d6528\" xlink:actuate=\"onRequest\" xlink:href=\"psysml:0e1095c8-d4f6-4449-8c10-0793e56d6528\" xlink:show=\"new\" xlink:title=\"psysml:0e1095c8-d4f6-4449-8c10-0793e56d6528\" xlink:type=\"simple\"><path d=\"M43.3,143.74 C46.79,145.46 51.06,147.45 55,149 C78.42,158.19 84.32,161.09 109,166 C148.48,173.86 194.76,176.25 225.58,176.91 \" fill=\"none\" id=\"E2-to-E4\" style=\"stroke:#181818;stroke-width:1.0;\"/><polygon fill=\"#181818\" points=\"230.77,177,221.8518,172.8208,225.771,176.9,221.6918,180.8192,230.77,177\" style=\"stroke:#181818;stroke-width:1.0;\"/><text fill=\"#000000\" font-family=\"sans-serif\" font-size=\"13\" lengthAdjust=\"spacing\" textLength=\"55\" x=\"111.5\" y=\"162.0669\">[x == 1]</text></a></g><!--MD5=[dcad52bbbca2fe8adc741ce38b45dc12]\n",
       "link E2 to E5--><g id=\"link_E2_E5\"><a href=\"psysml:0bc69c08-a059-419e-b618-d454e4819a50\" target=\"_top\" title=\"psysml:0bc69c08-a059-419e-b618-d454e4819a50\" xlink:actuate=\"onRequest\" xlink:href=\"psysml:0bc69c08-a059-419e-b618-d454e4819a50\" xlink:show=\"new\" xlink:title=\"psysml:0bc69c08-a059-419e-b618-d454e4819a50\" xlink:type=\"simple\"><path d=\"M46.55,139.52 C88.37,137.69 242.5,131.48 291,137 C320.46,140.35 328.82,140.17 356,152 C356.96,152.42 357.92,152.86 358.88,153.33 \" fill=\"none\" id=\"E2-to-E5\" style=\"stroke:#181818;stroke-width:1.0;\"/><polygon fill=\"#181818\" points=\"363.66,155.81,357.5064,148.1202,359.2197,153.5113,353.8286,155.2246,363.66,155.81\" style=\"stroke:#181818;stroke-width:1.0;\"/><text fill=\"#000000\" font-family=\"sans-serif\" font-size=\"13\" lengthAdjust=\"spacing\" textLength=\"44\" x=\"178\" y=\"131.0669\">[x &gt; 1]</text></a></g><!--MD5=[e3e28c1befcf002155aa15e1416b4315]\n",
       "link E2 to E6--><g id=\"link_E2_E6\"><a href=\"psysml:7bfaba1c-8598-44bd-a9fd-5f850f0b7fd7\" target=\"_top\" title=\"psysml:7bfaba1c-8598-44bd-a9fd-5f850f0b7fd7\" xlink:actuate=\"onRequest\" xlink:href=\"psysml:7bfaba1c-8598-44bd-a9fd-5f850f0b7fd7\" xlink:show=\"new\" xlink:title=\"psysml:7bfaba1c-8598-44bd-a9fd-5f850f0b7fd7\" xlink:type=\"simple\"><path d=\"M44.05,136.75 C47.4,135.47 51.35,134.06 55,133 C75.09,127.15 82.96,133.6 101,123 C107.67,119.08 113.77,113.53 119.01,107.76 \" fill=\"none\" id=\"E2-to-E6\" style=\"stroke:#181818;stroke-width:1.0;\"/><polygon fill=\"#181818\" points=\"122.5,103.73,113.5811,107.9076,119.2237,107.507,119.6243,113.1497,122.5,103.73\" style=\"stroke:#181818;stroke-width:1.0;\"/></a></g><!--MD5=[2351f337d6de0f557b50152ba70847b5]\n",
       "link E6 to E2--><g id=\"link_E6_E2\"><a href=\"psysml:31538477-4a34-40a9-aec8-5df805757767\" target=\"_top\" title=\"psysml:31538477-4a34-40a9-aec8-5df805757767\" xlink:actuate=\"onRequest\" xlink:href=\"psysml:31538477-4a34-40a9-aec8-5df805757767\" xlink:show=\"new\" xlink:title=\"psysml:31538477-4a34-40a9-aec8-5df805757767\" xlink:type=\"simple\"><path d=\"M108.92,93.43 C92.5,101.01 71.94,111.43 55,123 C51.68,125.27 48.33,128.06 45.38,130.73 \" fill=\"none\" id=\"E6-to-E2\" style=\"stroke:#181818;stroke-width:1.0;\"/><polygon fill=\"#181818\" points=\"41.66,134.22,50.962,130.9839,45.3081,130.8008,45.4913,125.1469,41.66,134.22\" style=\"stroke:#181818;stroke-width:1.0;\"/><text fill=\"#000000\" font-family=\"sans-serif\" font-size=\"13\" lengthAdjust=\"spacing\" textLength=\"44\" x=\"56\" y=\"95.0669\">[x &gt; 0]</text></a></g><!--MD5=[2720a5a1f2c3fca2055b230370638851]\n",
       "link E2 to E3--><g id=\"link_E2_E3\"><a href=\"psysml:df8d299f-9da3-41cd-a9dd-6e3a0d30decc\" target=\"_top\" title=\"psysml:df8d299f-9da3-41cd-a9dd-6e3a0d30decc\" xlink:actuate=\"onRequest\" xlink:href=\"psysml:df8d299f-9da3-41cd-a9dd-6e3a0d30decc\" xlink:show=\"new\" xlink:title=\"psysml:df8d299f-9da3-41cd-a9dd-6e3a0d30decc\" xlink:type=\"simple\"><path d=\"M37.33,149.94 C39.41,162.82 44.37,185.54 55,202 C74.03,231.47 108.21,256.08 126.19,267.74 \" fill=\"none\" id=\"E2-to-E3\" style=\"stroke:#181818;stroke-width:1.0;\"/><polygon fill=\"#181818\" points=\"130.81,270.68,125.3699,262.4699,126.5935,267.9928,121.0705,269.2164,130.81,270.68\" style=\"stroke:#181818;stroke-width:1.0;\"/></a></g><!--MD5=[af87c684e3b0d8be13c1a698a818ef1e]\n",
       "link E3 to E4--><g id=\"link_E3_E4\"><a href=\"psysml:131b15c1-7866-4964-88c1-b03f264417a9\" target=\"_top\" title=\"psysml:131b15c1-7866-4964-88c1-b03f264417a9\" xlink:actuate=\"onRequest\" xlink:href=\"psysml:131b15c1-7866-4964-88c1-b03f264417a9\" xlink:show=\"new\" xlink:title=\"psysml:131b15c1-7866-4964-88c1-b03f264417a9\" xlink:type=\"simple\"><path d=\"M147.26,270.67 C162.17,261.61 197.03,239.64 223,217 C227.68,212.92 232.39,208.3 236.81,203.69 \" fill=\"none\" id=\"E3-to-E4\" style=\"stroke:#181818;stroke-width:1.0;\"/><polygon fill=\"#181818\" points=\"240.45,199.83,231.3689,203.6423,237.0232,203.471,237.1945,209.1253,240.45,199.83\" style=\"stroke:#181818;stroke-width:1.0;\"/><text fill=\"#000000\" font-family=\"sans-serif\" font-size=\"13\" lengthAdjust=\"spacing\" textLength=\"36\" x=\"182\" y=\"213.0669\">[true]</text></a></g><!--MD5=[0188b64bb0ae78505a997a81836e11e9]\n",
       "link E3 to E5--><g id=\"link_E3_E5\"><a href=\"psysml:825f54b9-3c70-45c0-b332-e5b9a5c4b905\" target=\"_top\" title=\"psysml:825f54b9-3c70-45c0-b332-e5b9a5c4b905\" xlink:actuate=\"onRequest\" xlink:href=\"psysml:825f54b9-3c70-45c0-b332-e5b9a5c4b905\" xlink:show=\"new\" xlink:title=\"psysml:825f54b9-3c70-45c0-b332-e5b9a5c4b905\" xlink:type=\"simple\"><path d=\"M149.45,273.27 C173.63,268.67 239.44,255.04 291,234 C314.75,224.31 339.92,210.29 359.32,198.58 \" fill=\"none\" id=\"E3-to-E5\" style=\"stroke:#181818;stroke-width:1.0;\"/><polygon fill=\"#181818\" points=\"363.61,195.96,353.8424,197.2227,359.339,198.5597,358.002,204.0563,363.61,195.96\" style=\"stroke:#181818;stroke-width:1.0;\"/><text fill=\"#000000\" font-family=\"sans-serif\" font-size=\"13\" lengthAdjust=\"spacing\" textLength=\"40\" x=\"241\" y=\"230.0669\">[false]</text></a></g><!--MD5=[1b7591eae5389033d8d09a9d6721a717]\n",
       "link E4 to E5--><g id=\"link_E4_E5\"><a href=\"psysml:b3779ea1-0b8c-4465-ae00-48dbba13ac92\" target=\"_top\" title=\"psysml:b3779ea1-0b8c-4465-ae00-48dbba13ac92\" xlink:actuate=\"onRequest\" xlink:href=\"psysml:b3779ea1-0b8c-4465-ae00-48dbba13ac92\" xlink:show=\"new\" xlink:title=\"psysml:b3779ea1-0b8c-4465-ae00-48dbba13ac92\" xlink:type=\"simple\"><path d=\"M291.07,177 C310.95,177 337.38,177 358.35,177 \" fill=\"none\" id=\"E4-to-E5\" style=\"stroke:#181818;stroke-width:1.0;\"/><polygon fill=\"#181818\" points=\"363.56,177,354.56,173,358.56,177,354.56,181,363.56,177\" style=\"stroke:#181818;stroke-width:1.0;\"/><text fill=\"#000000\" font-family=\"sans-serif\" font-size=\"13\" lengthAdjust=\"spacing\" textLength=\"55\" x=\"300\" y=\"173.0669\">[x == 0]</text></a></g><!--MD5=[91606666e2c1bb06a6c565456f416012]\n",
       "@startuml\r\n",
       "skin sysmlbw\r\n",
       "skinparam monochrome true\r\n",
       "skinparam wrapWidth 300\r\n",
       "hide circle\r\n",
       "left to right direction\r\n",
       "skinparam ranksep 10\r\n",
       "skinparam rectangle {\r\n",
       " backgroundColor<<block>> LightGreen\r\n",
       "}\r\n",
       "\r\n",
       "rec def \"DecisionTest\" as E1  <<(T,blue) action  def>> [[psysml:24509d73-250a-487a-bcd7-b59ee0863fbf ]] {\r\n",
       "choice \"test x\" as E2  [[psysml:7d99bd45-3b62-4bbf-b126-0db5f71d3136 ]] \r\n",
       "choice \"<s>noname</s>\" as E3  [[psysml:6dee609b-d6ae-4161-97b9-077c5f3bd0c2 ]] \r\n",
       "rec usage \"A1\" as E4  <<(T,blue) action>> [[psysml:f539a78a-befd-4456-a49f-f3788a07e7bd ]] {\r\n",
       "}\r\n",
       "\r\n",
       "rec usage \"A2\" as E5  <<(T,blue) action>> [[psysml:451b6b51-1ae2-4b81-be73-8fe0566d61d5 ]] {\r\n",
       "}\r\n",
       "\r\n",
       "rec usage \"A3\" as E6  <<(T,blue) action>> [[psysml:04e53eda-a597-4a9c-96a9-348d67cb9847 ]] {\r\n",
       "}\r\n",
       "\r\n",
       "}\r\n",
       "\r\n",
       "E2  - -> E4 [[psysml:0e1095c8-d4f6-4449-8c10-0793e56d6528 ]] : [x == 1]\r\n",
       "E2  - -> E5 [[psysml:0bc69c08-a059-419e-b618-d454e4819a50 ]] : [x > 1]\r\n",
       "E2  - -> E6 [[psysml:7bfaba1c-8598-44bd-a9fd-5f850f0b7fd7 ]] \r\n",
       "E2 - -> E3 [[psysml:df8d299f-9da3-41cd-a9dd-6e3a0d30decc ]] \r\n",
       "E3  - -> E4 [[psysml:131b15c1-7866-4964-88c1-b03f264417a9 ]] : [true]\r\n",
       "E3  - -> E5 [[psysml:825f54b9-3c70-45c0-b332-e5b9a5c4b905 ]] : [false]\r\n",
       "E4  - -> E5 [[psysml:b3779ea1-0b8c-4465-ae00-48dbba13ac92 ]] : [x == 0]\r\n",
       "E6  - -> E2 [[psysml:31538477-4a34-40a9-aec8-5df805757767 ]] : [x > 0]\r\n",
       "@enduml\r\n",
       "\n",
       "PlantUML version 1.2022.7(Mon Aug 22 17:01:30 UTC 2022)\n",
       "(EPL source distribution)\n",
       "Java Runtime: OpenJDK Runtime Environment\n",
       "JVM: OpenJDK 64-Bit Server VM\n",
       "Default Encoding: UTF-8\n",
       "Language: en\n",
       "Country: null\n",
       "--></g></svg>"
      ]
     },
     "execution_count": 19,
     "metadata": {},
     "output_type": "execute_result"
    }
   ],
   "source": [
    "%viz --style=\"LR\" --view=\"Interconnection\" \"DecisionTest\""
   ]
  },
  {
   "cell_type": "code",
   "execution_count": 20,
   "id": "2f3ba6f6",
   "metadata": {
    "execution": {
     "iopub.execute_input": "2024-12-16T03:28:01.710624Z",
     "iopub.status.busy": "2024-12-16T03:28:01.710284Z",
     "iopub.status.idle": "2024-12-16T03:28:01.730754Z",
     "shell.execute_reply": "2024-12-16T03:28:01.730554Z"
    }
   },
   "outputs": [
    {
     "data": {
      "image/svg+xml": [
       "<?xml version=\"1.0\" encoding=\"UTF-8\" standalone=\"no\"?><svg xmlns=\"http://www.w3.org/2000/svg\" xmlns:xlink=\"http://www.w3.org/1999/xlink\" contentStyleType=\"text/css\" height=\"309px\" preserveAspectRatio=\"none\" style=\"width:447px;height:309px;background:#FFFFFF;\" version=\"1.1\" viewBox=\"0 0 447 309\" width=\"447px\" zoomAndPan=\"magnify\"><defs/><g><!--MD5=[fbc87193dbaf4d95561dea2c320d4a47]\n",
       "cluster E1--><g id=\"cluster_E1\"><a href=\"psysml:24509d73-250a-487a-bcd7-b59ee0863fbf\" target=\"_top\" title=\"psysml:24509d73-250a-487a-bcd7-b59ee0863fbf\" xlink:actuate=\"onRequest\" xlink:href=\"psysml:24509d73-250a-487a-bcd7-b59ee0863fbf\" xlink:show=\"new\" xlink:title=\"psysml:24509d73-250a-487a-bcd7-b59ee0863fbf\" xlink:type=\"simple\"><rect fill=\"#FFFFFF\" height=\"296\" id=\"E1\" style=\"stroke:#383838;stroke-width:1.5;\" width=\"433\" x=\"7\" y=\"7\"/><text fill=\"#000000\" font-family=\"sans-serif\" font-size=\"12\" font-style=\"italic\" lengthAdjust=\"spacing\" textLength=\"81\" x=\"183\" y=\"23.1387\">«action  def»</text><text fill=\"#000000\" font-family=\"sans-serif\" font-size=\"14\" lengthAdjust=\"spacing\" textLength=\"91\" x=\"178\" y=\"38.9639\">DecisionTest</text><line style=\"stroke:#383838;stroke-width:1.0;\" x1=\"7\" x2=\"440\" y1=\"47.2656\" y2=\"47.2656\"/></a></g><g id=\"elem_E2\"><polygon fill=\"#FFFFFF\" points=\"35,128,47,140,35,152,23,140,35,128\" style=\"stroke:#181818;stroke-width:0.5;\"/></g><g id=\"elem_E3\"><polygon fill=\"#FFFFFF\" points=\"139,263,151,275,139,287,127,275,139,263\" style=\"stroke:#181818;stroke-width:0.5;\"/></g><g><a href=\"psysml:f539a78a-befd-4456-a49f-f3788a07e7bd\" target=\"_top\" title=\"psysml:f539a78a-befd-4456-a49f-f3788a07e7bd\" xlink:actuate=\"onRequest\" xlink:href=\"psysml:f539a78a-befd-4456-a49f-f3788a07e7bd\" xlink:show=\"new\" xlink:title=\"psysml:f539a78a-befd-4456-a49f-f3788a07e7bd\" xlink:type=\"simple\"><rect fill=\"#FFFFFF\" height=\"45.2656\" id=\"E4\" rx=\"10\" ry=\"10\" style=\"stroke:#383838;stroke-width:1.5;\" width=\"60\" x=\"231\" y=\"154.5\"/><text fill=\"#000000\" font-family=\"sans-serif\" font-size=\"12\" font-style=\"italic\" lengthAdjust=\"spacing\" textLength=\"53\" x=\"234.5\" y=\"170.6387\">«action»</text><text fill=\"#000000\" font-family=\"sans-serif\" font-size=\"14\" lengthAdjust=\"spacing\" textLength=\"18\" x=\"252\" y=\"186.4639\">A1</text></a></g><g><a href=\"psysml:451b6b51-1ae2-4b81-be73-8fe0566d61d5\" target=\"_top\" title=\"psysml:451b6b51-1ae2-4b81-be73-8fe0566d61d5\" xlink:actuate=\"onRequest\" xlink:href=\"psysml:451b6b51-1ae2-4b81-be73-8fe0566d61d5\" xlink:show=\"new\" xlink:title=\"psysml:451b6b51-1ae2-4b81-be73-8fe0566d61d5\" xlink:type=\"simple\"><rect fill=\"#FFFFFF\" height=\"45.2656\" id=\"E5\" rx=\"10\" ry=\"10\" style=\"stroke:#383838;stroke-width:1.5;\" width=\"60\" x=\"364\" y=\"154.5\"/><text fill=\"#000000\" font-family=\"sans-serif\" font-size=\"12\" font-style=\"italic\" lengthAdjust=\"spacing\" textLength=\"53\" x=\"367.5\" y=\"170.6387\">«action»</text><text fill=\"#000000\" font-family=\"sans-serif\" font-size=\"14\" lengthAdjust=\"spacing\" textLength=\"18\" x=\"385\" y=\"186.4639\">A2</text></a></g><g><a href=\"psysml:04e53eda-a597-4a9c-96a9-348d67cb9847\" target=\"_top\" title=\"psysml:04e53eda-a597-4a9c-96a9-348d67cb9847\" xlink:actuate=\"onRequest\" xlink:href=\"psysml:04e53eda-a597-4a9c-96a9-348d67cb9847\" xlink:show=\"new\" xlink:title=\"psysml:04e53eda-a597-4a9c-96a9-348d67cb9847\" xlink:type=\"simple\"><rect fill=\"#FFFFFF\" height=\"45.2656\" id=\"E6\" rx=\"10\" ry=\"10\" style=\"stroke:#383838;stroke-width:1.5;\" width=\"60\" x=\"109\" y=\"58.5\"/><text fill=\"#000000\" font-family=\"sans-serif\" font-size=\"12\" font-style=\"italic\" lengthAdjust=\"spacing\" textLength=\"53\" x=\"112.5\" y=\"74.6387\">«action»</text><text fill=\"#000000\" font-family=\"sans-serif\" font-size=\"14\" lengthAdjust=\"spacing\" textLength=\"18\" x=\"130\" y=\"90.4639\">A3</text></a></g><!--MD5=[4d03bb2d0377dc85ccfab60ff574652b]\n",
       "link E2 to E4--><g id=\"link_E2_E4\"><a href=\"psysml:0e1095c8-d4f6-4449-8c10-0793e56d6528\" target=\"_top\" title=\"psysml:0e1095c8-d4f6-4449-8c10-0793e56d6528\" xlink:actuate=\"onRequest\" xlink:href=\"psysml:0e1095c8-d4f6-4449-8c10-0793e56d6528\" xlink:show=\"new\" xlink:title=\"psysml:0e1095c8-d4f6-4449-8c10-0793e56d6528\" xlink:type=\"simple\"><path d=\"M43.3,143.74 C46.79,145.46 51.06,147.45 55,149 C78.42,158.19 84.32,161.09 109,166 C148.48,173.86 194.76,176.25 225.58,176.91 \" fill=\"none\" id=\"E2-to-E4\" style=\"stroke:#181818;stroke-width:1.0;stroke-dasharray:7.0,7.0;\"/><polygon fill=\"#181818\" points=\"230.77,177,221.8518,172.8208,225.771,176.9,221.6918,180.8192,230.77,177\" style=\"stroke:#181818;stroke-width:1.0;\"/><text fill=\"#000000\" font-family=\"sans-serif\" font-size=\"13\" lengthAdjust=\"spacing\" textLength=\"55\" x=\"111.5\" y=\"162.0669\">[x == 1]</text></a></g><!--MD5=[dcad52bbbca2fe8adc741ce38b45dc12]\n",
       "link E2 to E5--><g id=\"link_E2_E5\"><a href=\"psysml:0bc69c08-a059-419e-b618-d454e4819a50\" target=\"_top\" title=\"psysml:0bc69c08-a059-419e-b618-d454e4819a50\" xlink:actuate=\"onRequest\" xlink:href=\"psysml:0bc69c08-a059-419e-b618-d454e4819a50\" xlink:show=\"new\" xlink:title=\"psysml:0bc69c08-a059-419e-b618-d454e4819a50\" xlink:type=\"simple\"><path d=\"M46.55,139.52 C88.37,137.69 242.5,131.48 291,137 C320.46,140.35 328.82,140.17 356,152 C356.96,152.42 357.92,152.86 358.88,153.33 \" fill=\"none\" id=\"E2-to-E5\" style=\"stroke:#181818;stroke-width:1.0;stroke-dasharray:7.0,7.0;\"/><polygon fill=\"#181818\" points=\"363.66,155.81,357.5064,148.1202,359.2197,153.5113,353.8286,155.2246,363.66,155.81\" style=\"stroke:#181818;stroke-width:1.0;\"/><text fill=\"#000000\" font-family=\"sans-serif\" font-size=\"13\" lengthAdjust=\"spacing\" textLength=\"44\" x=\"178\" y=\"131.0669\">[x &gt; 1]</text></a></g><!--MD5=[e3e28c1befcf002155aa15e1416b4315]\n",
       "link E2 to E6--><g id=\"link_E2_E6\"><a href=\"psysml:7bfaba1c-8598-44bd-a9fd-5f850f0b7fd7\" target=\"_top\" title=\"psysml:7bfaba1c-8598-44bd-a9fd-5f850f0b7fd7\" xlink:actuate=\"onRequest\" xlink:href=\"psysml:7bfaba1c-8598-44bd-a9fd-5f850f0b7fd7\" xlink:show=\"new\" xlink:title=\"psysml:7bfaba1c-8598-44bd-a9fd-5f850f0b7fd7\" xlink:type=\"simple\"><path d=\"M44.05,136.75 C47.4,135.47 51.35,134.06 55,133 C75.09,127.15 82.96,133.6 101,123 C107.67,119.08 113.77,113.53 119.01,107.76 \" fill=\"none\" id=\"E2-to-E6\" style=\"stroke:#181818;stroke-width:1.0;stroke-dasharray:7.0,7.0;\"/><polygon fill=\"#181818\" points=\"122.5,103.73,113.5811,107.9076,119.2237,107.507,119.6243,113.1497,122.5,103.73\" style=\"stroke:#181818;stroke-width:1.0;\"/></a></g><!--MD5=[2351f337d6de0f557b50152ba70847b5]\n",
       "link E6 to E2--><g id=\"link_E6_E2\"><a href=\"psysml:31538477-4a34-40a9-aec8-5df805757767\" target=\"_top\" title=\"psysml:31538477-4a34-40a9-aec8-5df805757767\" xlink:actuate=\"onRequest\" xlink:href=\"psysml:31538477-4a34-40a9-aec8-5df805757767\" xlink:show=\"new\" xlink:title=\"psysml:31538477-4a34-40a9-aec8-5df805757767\" xlink:type=\"simple\"><path d=\"M108.92,93.43 C92.5,101.01 71.94,111.43 55,123 C51.68,125.27 48.33,128.06 45.38,130.73 \" fill=\"none\" id=\"E6-to-E2\" style=\"stroke:#181818;stroke-width:1.0;stroke-dasharray:7.0,7.0;\"/><polygon fill=\"#181818\" points=\"41.66,134.22,50.962,130.9839,45.3081,130.8008,45.4913,125.1469,41.66,134.22\" style=\"stroke:#181818;stroke-width:1.0;\"/><text fill=\"#000000\" font-family=\"sans-serif\" font-size=\"13\" lengthAdjust=\"spacing\" textLength=\"44\" x=\"56\" y=\"95.0669\">[x &gt; 0]</text></a></g><!--MD5=[2720a5a1f2c3fca2055b230370638851]\n",
       "link E2 to E3--><g id=\"link_E2_E3\"><a href=\"psysml:df8d299f-9da3-41cd-a9dd-6e3a0d30decc\" target=\"_top\" title=\"psysml:df8d299f-9da3-41cd-a9dd-6e3a0d30decc\" xlink:actuate=\"onRequest\" xlink:href=\"psysml:df8d299f-9da3-41cd-a9dd-6e3a0d30decc\" xlink:show=\"new\" xlink:title=\"psysml:df8d299f-9da3-41cd-a9dd-6e3a0d30decc\" xlink:type=\"simple\"><path d=\"M37.33,149.94 C39.41,162.82 44.37,185.54 55,202 C74.03,231.47 108.21,256.08 126.19,267.74 \" fill=\"none\" id=\"E2-to-E3\" style=\"stroke:#181818;stroke-width:1.0;stroke-dasharray:7.0,7.0;\"/><polygon fill=\"#181818\" points=\"130.81,270.68,125.3699,262.4699,126.5935,267.9928,121.0705,269.2164,130.81,270.68\" style=\"stroke:#181818;stroke-width:1.0;\"/></a></g><!--MD5=[af87c684e3b0d8be13c1a698a818ef1e]\n",
       "link E3 to E4--><g id=\"link_E3_E4\"><a href=\"psysml:131b15c1-7866-4964-88c1-b03f264417a9\" target=\"_top\" title=\"psysml:131b15c1-7866-4964-88c1-b03f264417a9\" xlink:actuate=\"onRequest\" xlink:href=\"psysml:131b15c1-7866-4964-88c1-b03f264417a9\" xlink:show=\"new\" xlink:title=\"psysml:131b15c1-7866-4964-88c1-b03f264417a9\" xlink:type=\"simple\"><path d=\"M147.26,270.67 C162.17,261.61 197.03,239.64 223,217 C227.68,212.92 232.39,208.3 236.81,203.69 \" fill=\"none\" id=\"E3-to-E4\" style=\"stroke:#181818;stroke-width:1.0;stroke-dasharray:7.0,7.0;\"/><polygon fill=\"#181818\" points=\"240.45,199.83,231.3689,203.6423,237.0232,203.471,237.1945,209.1253,240.45,199.83\" style=\"stroke:#181818;stroke-width:1.0;\"/><text fill=\"#000000\" font-family=\"sans-serif\" font-size=\"13\" lengthAdjust=\"spacing\" textLength=\"36\" x=\"182\" y=\"213.0669\">[true]</text></a></g><!--MD5=[0188b64bb0ae78505a997a81836e11e9]\n",
       "link E3 to E5--><g id=\"link_E3_E5\"><a href=\"psysml:825f54b9-3c70-45c0-b332-e5b9a5c4b905\" target=\"_top\" title=\"psysml:825f54b9-3c70-45c0-b332-e5b9a5c4b905\" xlink:actuate=\"onRequest\" xlink:href=\"psysml:825f54b9-3c70-45c0-b332-e5b9a5c4b905\" xlink:show=\"new\" xlink:title=\"psysml:825f54b9-3c70-45c0-b332-e5b9a5c4b905\" xlink:type=\"simple\"><path d=\"M149.45,273.27 C173.63,268.67 239.44,255.04 291,234 C314.75,224.31 339.92,210.29 359.32,198.58 \" fill=\"none\" id=\"E3-to-E5\" style=\"stroke:#181818;stroke-width:1.0;stroke-dasharray:7.0,7.0;\"/><polygon fill=\"#181818\" points=\"363.61,195.96,353.8424,197.2227,359.339,198.5597,358.002,204.0563,363.61,195.96\" style=\"stroke:#181818;stroke-width:1.0;\"/><text fill=\"#000000\" font-family=\"sans-serif\" font-size=\"13\" lengthAdjust=\"spacing\" textLength=\"40\" x=\"241\" y=\"230.0669\">[false]</text></a></g><!--MD5=[1b7591eae5389033d8d09a9d6721a717]\n",
       "link E4 to E5--><g id=\"link_E4_E5\"><a href=\"psysml:b3779ea1-0b8c-4465-ae00-48dbba13ac92\" target=\"_top\" title=\"psysml:b3779ea1-0b8c-4465-ae00-48dbba13ac92\" xlink:actuate=\"onRequest\" xlink:href=\"psysml:b3779ea1-0b8c-4465-ae00-48dbba13ac92\" xlink:show=\"new\" xlink:title=\"psysml:b3779ea1-0b8c-4465-ae00-48dbba13ac92\" xlink:type=\"simple\"><path d=\"M291.07,177 C310.95,177 337.38,177 358.35,177 \" fill=\"none\" id=\"E4-to-E5\" style=\"stroke:#181818;stroke-width:1.0;stroke-dasharray:7.0,7.0;\"/><polygon fill=\"#181818\" points=\"363.56,177,354.56,173,358.56,177,354.56,181,363.56,177\" style=\"stroke:#181818;stroke-width:1.0;\"/><text fill=\"#000000\" font-family=\"sans-serif\" font-size=\"13\" lengthAdjust=\"spacing\" textLength=\"55\" x=\"300\" y=\"173.0669\">[x == 0]</text></a></g><!--MD5=[340dcd95c5fde2c64db7e82e40e000db]\n",
       "@startuml\r\n",
       "skin sysmlbw\r\n",
       "skinparam monochrome true\r\n",
       "skinparam wrapWidth 300\r\n",
       "hide circle\r\n",
       "left to right direction\r\n",
       "skinparam ranksep 8\r\n",
       "\r\n",
       "rec def \"DecisionTest\" as E1  <<(T,blue) action  def>> [[psysml:24509d73-250a-487a-bcd7-b59ee0863fbf ]] {\r\n",
       "choice \"test x\" as E2  [[psysml:7d99bd45-3b62-4bbf-b126-0db5f71d3136 ]] \r\n",
       "choice \"<s>noname</s>\" as E3  [[psysml:6dee609b-d6ae-4161-97b9-077c5f3bd0c2 ]] \r\n",
       "rec usage \"A1\" as E4  <<(T,blue) action>> [[psysml:f539a78a-befd-4456-a49f-f3788a07e7bd ]] {\r\n",
       "}\r\n",
       "\r\n",
       "rec usage \"A2\" as E5  <<(T,blue) action>> [[psysml:451b6b51-1ae2-4b81-be73-8fe0566d61d5 ]] {\r\n",
       "}\r\n",
       "\r\n",
       "rec usage \"A3\" as E6  <<(T,blue) action>> [[psysml:04e53eda-a597-4a9c-96a9-348d67cb9847 ]] {\r\n",
       "}\r\n",
       "\r\n",
       "}\r\n",
       "\r\n",
       "E2 ..> E4 [[psysml:0e1095c8-d4f6-4449-8c10-0793e56d6528 ]] : [x == 1]\r\n",
       "E2 ..> E5 [[psysml:0bc69c08-a059-419e-b618-d454e4819a50 ]] : [x > 1]\r\n",
       "E2 ..> E6 [[psysml:7bfaba1c-8598-44bd-a9fd-5f850f0b7fd7 ]] \r\n",
       "E2 ..> E3 [[psysml:df8d299f-9da3-41cd-a9dd-6e3a0d30decc ]] \r\n",
       "E3 ..> E4 [[psysml:131b15c1-7866-4964-88c1-b03f264417a9 ]] : [true]\r\n",
       "E3 ..> E5 [[psysml:825f54b9-3c70-45c0-b332-e5b9a5c4b905 ]] : [false]\r\n",
       "E4 ..> E5 [[psysml:b3779ea1-0b8c-4465-ae00-48dbba13ac92 ]] : [x == 0]\r\n",
       "E6 ..> E2 [[psysml:31538477-4a34-40a9-aec8-5df805757767 ]] : [x > 0]\r\n",
       "@enduml\r\n",
       "\n",
       "PlantUML version 1.2022.7(Mon Aug 22 17:01:30 UTC 2022)\n",
       "(EPL source distribution)\n",
       "Java Runtime: OpenJDK Runtime Environment\n",
       "JVM: OpenJDK 64-Bit Server VM\n",
       "Default Encoding: UTF-8\n",
       "Language: en\n",
       "Country: null\n",
       "--></g></svg>"
      ]
     },
     "execution_count": 20,
     "metadata": {},
     "output_type": "execute_result"
    }
   ],
   "source": [
    "%viz --style=\"LR\" --view=\"Action\" \"DecisionTest\""
   ]
  },
  {
   "cell_type": "code",
   "execution_count": 21,
   "id": "34b6d323",
   "metadata": {
    "execution": {
     "iopub.execute_input": "2024-12-16T03:28:01.782040Z",
     "iopub.status.busy": "2024-12-16T03:28:01.781806Z",
     "iopub.status.idle": "2024-12-16T03:28:01.796102Z",
     "shell.execute_reply": "2024-12-16T03:28:01.795919Z"
    }
   },
   "outputs": [
    {
     "data": {
      "image/svg+xml": [
       "<?xml version=\"1.0\" encoding=\"UTF-8\" standalone=\"no\"?><svg xmlns=\"http://www.w3.org/2000/svg\" xmlns:xlink=\"http://www.w3.org/1999/xlink\" contentStyleType=\"text/css\" height=\"10px\" preserveAspectRatio=\"none\" style=\"width:10px;height:10px;background:#FFFFFF;\" version=\"1.1\" viewBox=\"0 0 10 10\" width=\"10px\" zoomAndPan=\"magnify\"><defs/><g><!--MD5=[3d7abb46b795db4c9d99c7acf425de78]\n",
       "@startuml\r\n",
       "skin sysmlbw\r\n",
       "skinparam monochrome true\r\n",
       "skinparam wrapWidth 300\r\n",
       "hide circle\r\n",
       "left to right direction\r\n",
       "skinparam roundcorner 20\r\n",
       "skinparam BoxPadding 20\r\n",
       "skinparam SequenceBoxBackgroundColor #white\r\n",
       "skinparam style strictuml\r\n",
       "skinparam maxMessageSize 100\r\n",
       "\r\n",
       "@enduml\r\n",
       "\n",
       "PlantUML version 1.2022.7(Mon Aug 22 17:01:30 UTC 2022)\n",
       "(EPL source distribution)\n",
       "Java Runtime: OpenJDK Runtime Environment\n",
       "JVM: OpenJDK 64-Bit Server VM\n",
       "Default Encoding: UTF-8\n",
       "Language: en\n",
       "Country: null\n",
       "--></g></svg>"
      ]
     },
     "execution_count": 21,
     "metadata": {},
     "output_type": "execute_result"
    }
   ],
   "source": [
    "%viz --style=\"LR\" --view=\"Sequence\" \"DecisionTest\""
   ]
  },
  {
   "cell_type": "code",
   "execution_count": 22,
   "id": "ea963961",
   "metadata": {
    "execution": {
     "iopub.execute_input": "2024-12-16T03:28:01.847216Z",
     "iopub.status.busy": "2024-12-16T03:28:01.846996Z",
     "iopub.status.idle": "2024-12-16T03:28:01.866153Z",
     "shell.execute_reply": "2024-12-16T03:28:01.865105Z"
    }
   },
   "outputs": [
    {
     "data": {
      "image/svg+xml": [
       "<?xml version=\"1.0\" encoding=\"UTF-8\" standalone=\"no\"?><svg xmlns=\"http://www.w3.org/2000/svg\" xmlns:xlink=\"http://www.w3.org/1999/xlink\" contentStyleType=\"text/css\" height=\"309px\" preserveAspectRatio=\"none\" style=\"width:579px;height:309px;background:#FFFFFF;\" version=\"1.1\" viewBox=\"0 0 579 309\" width=\"579px\" zoomAndPan=\"magnify\"><defs/><g><!--MD5=[fbc87193dbaf4d95561dea2c320d4a47]\n",
       "cluster E1--><g id=\"cluster_E1\"><a href=\"psysml:24509d73-250a-487a-bcd7-b59ee0863fbf\" target=\"_top\" title=\"psysml:24509d73-250a-487a-bcd7-b59ee0863fbf\" xlink:actuate=\"onRequest\" xlink:href=\"psysml:24509d73-250a-487a-bcd7-b59ee0863fbf\" xlink:show=\"new\" xlink:title=\"psysml:24509d73-250a-487a-bcd7-b59ee0863fbf\" xlink:type=\"simple\"><rect fill=\"#FFFFFF\" height=\"296\" id=\"E1\" style=\"stroke:#383838;stroke-width:1.5;\" width=\"565\" x=\"7\" y=\"7\"/><text fill=\"#000000\" font-family=\"sans-serif\" font-size=\"12\" font-style=\"italic\" lengthAdjust=\"spacing\" textLength=\"81\" x=\"249\" y=\"23.1387\">«action  def»</text><text fill=\"#000000\" font-family=\"sans-serif\" font-size=\"14\" lengthAdjust=\"spacing\" textLength=\"91\" x=\"244\" y=\"38.9639\">DecisionTest</text><line style=\"stroke:#383838;stroke-width:1.0;\" x1=\"7\" x2=\"572\" y1=\"47.2656\" y2=\"47.2656\"/></a></g><g id=\"elem_E2\"><polygon fill=\"#FFFFFF\" points=\"35,128,47,140,35,152,23,140,35,128\" style=\"stroke:#181818;stroke-width:0.5;\"/></g><g id=\"elem_E3\"><polygon fill=\"#FFFFFF\" points=\"183,263,195,275,183,287,171,275,183,263\" style=\"stroke:#181818;stroke-width:0.5;\"/></g><g><a href=\"psysml:f539a78a-befd-4456-a49f-f3788a07e7bd\" target=\"_top\" title=\"psysml:f539a78a-befd-4456-a49f-f3788a07e7bd\" xlink:actuate=\"onRequest\" xlink:href=\"psysml:f539a78a-befd-4456-a49f-f3788a07e7bd\" xlink:show=\"new\" xlink:title=\"psysml:f539a78a-befd-4456-a49f-f3788a07e7bd\" xlink:type=\"simple\"><rect fill=\"#FFFFFF\" height=\"45.2656\" id=\"E4\" rx=\"10\" ry=\"10\" style=\"stroke:#383838;stroke-width:1.5;\" width=\"60\" x=\"319\" y=\"154.5\"/><text fill=\"#000000\" font-family=\"sans-serif\" font-size=\"12\" font-style=\"italic\" lengthAdjust=\"spacing\" textLength=\"53\" x=\"322.5\" y=\"170.6387\">«action»</text><text fill=\"#000000\" font-family=\"sans-serif\" font-size=\"14\" lengthAdjust=\"spacing\" textLength=\"18\" x=\"340\" y=\"186.4639\">A1</text></a></g><g><a href=\"psysml:451b6b51-1ae2-4b81-be73-8fe0566d61d5\" target=\"_top\" title=\"psysml:451b6b51-1ae2-4b81-be73-8fe0566d61d5\" xlink:actuate=\"onRequest\" xlink:href=\"psysml:451b6b51-1ae2-4b81-be73-8fe0566d61d5\" xlink:show=\"new\" xlink:title=\"psysml:451b6b51-1ae2-4b81-be73-8fe0566d61d5\" xlink:type=\"simple\"><rect fill=\"#FFFFFF\" height=\"45.2656\" id=\"E5\" rx=\"10\" ry=\"10\" style=\"stroke:#383838;stroke-width:1.5;\" width=\"60\" x=\"496\" y=\"154.5\"/><text fill=\"#000000\" font-family=\"sans-serif\" font-size=\"12\" font-style=\"italic\" lengthAdjust=\"spacing\" textLength=\"53\" x=\"499.5\" y=\"170.6387\">«action»</text><text fill=\"#000000\" font-family=\"sans-serif\" font-size=\"14\" lengthAdjust=\"spacing\" textLength=\"18\" x=\"517\" y=\"186.4639\">A2</text></a></g><g><a href=\"psysml:04e53eda-a597-4a9c-96a9-348d67cb9847\" target=\"_top\" title=\"psysml:04e53eda-a597-4a9c-96a9-348d67cb9847\" xlink:actuate=\"onRequest\" xlink:href=\"psysml:04e53eda-a597-4a9c-96a9-348d67cb9847\" xlink:show=\"new\" xlink:title=\"psysml:04e53eda-a597-4a9c-96a9-348d67cb9847\" xlink:type=\"simple\"><rect fill=\"#FFFFFF\" height=\"45.2656\" id=\"E6\" rx=\"10\" ry=\"10\" style=\"stroke:#383838;stroke-width:1.5;\" width=\"60\" x=\"153\" y=\"58.5\"/><text fill=\"#000000\" font-family=\"sans-serif\" font-size=\"12\" font-style=\"italic\" lengthAdjust=\"spacing\" textLength=\"53\" x=\"156.5\" y=\"74.6387\">«action»</text><text fill=\"#000000\" font-family=\"sans-serif\" font-size=\"14\" lengthAdjust=\"spacing\" textLength=\"18\" x=\"174\" y=\"90.4639\">A3</text></a></g><!--MD5=[4d03bb2d0377dc85ccfab60ff574652b]\n",
       "link E2 to E4--><g id=\"link_E2_E4\"><a href=\"psysml:0e1095c8-d4f6-4449-8c10-0793e56d6528\" target=\"_top\" title=\"psysml:0e1095c8-d4f6-4449-8c10-0793e56d6528\" xlink:actuate=\"onRequest\" xlink:href=\"psysml:0e1095c8-d4f6-4449-8c10-0793e56d6528\" xlink:show=\"new\" xlink:title=\"psysml:0e1095c8-d4f6-4449-8c10-0793e56d6528\" xlink:type=\"simple\"><path d=\"M44.72,142.42 C64.05,147.67 112.01,160.11 153,166 C192.68,171.7 202.98,169.71 243,172 C266.52,173.34 293.01,174.6 313.5,175.52 \" fill=\"none\" id=\"E2-to-E4\" style=\"stroke:#181818;stroke-width:1.0;\"/><polygon fill=\"#181818\" points=\"318.57,175.75,309.7626,171.342,313.5752,175.521,309.3963,179.3336,318.57,175.75\" style=\"stroke:#181818;stroke-width:1.0;\"/><text fill=\"#000000\" font-family=\"sans-serif\" font-size=\"13\" lengthAdjust=\"spacing\" textLength=\"55\" x=\"155.5\" y=\"162.0669\">[x == 1]</text></a></g><!--MD5=[dcad52bbbca2fe8adc741ce38b45dc12]\n",
       "link E2 to E5--><g id=\"link_E2_E5\"><a href=\"psysml:0bc69c08-a059-419e-b618-d454e4819a50\" target=\"_top\" title=\"psysml:0bc69c08-a059-419e-b618-d454e4819a50\" xlink:actuate=\"onRequest\" xlink:href=\"psysml:0bc69c08-a059-419e-b618-d454e4819a50\" xlink:show=\"new\" xlink:title=\"psysml:0bc69c08-a059-419e-b618-d454e4819a50\" xlink:type=\"simple\"><path d=\"M46.93,139.63 C97.87,137.93 312.25,131.29 379,137 C418.09,140.35 428.35,140.94 466,152 C474.22,154.42 482.83,157.64 490.86,160.97 \" fill=\"none\" id=\"E2-to-E5\" style=\"stroke:#181818;stroke-width:1.0;\"/><polygon fill=\"#181818\" points=\"495.77,163.05,489.0355,155.8635,491.164,161.1046,485.9228,163.2331,495.77,163.05\" style=\"stroke:#181818;stroke-width:1.0;\"/><text fill=\"#000000\" font-family=\"sans-serif\" font-size=\"13\" lengthAdjust=\"spacing\" textLength=\"44\" x=\"244\" y=\"131.0669\">[x &gt; 1]</text></a></g><!--MD5=[e3e28c1befcf002155aa15e1416b4315]\n",
       "link E2 to E6--><g id=\"link_E2_E6\"><a href=\"psysml:7bfaba1c-8598-44bd-a9fd-5f850f0b7fd7\" target=\"_top\" title=\"psysml:7bfaba1c-8598-44bd-a9fd-5f850f0b7fd7\" xlink:actuate=\"onRequest\" xlink:href=\"psysml:7bfaba1c-8598-44bd-a9fd-5f850f0b7fd7\" xlink:show=\"new\" xlink:title=\"psysml:7bfaba1c-8598-44bd-a9fd-5f850f0b7fd7\" xlink:type=\"simple\"><path d=\"M45.65,138.35 C66.81,134.7 115.93,126.04 123,123 C132.73,118.82 142.44,112.84 151.1,106.71 \" fill=\"none\" id=\"E2-to-E6\" style=\"stroke:#181818;stroke-width:1.0;\"/><polygon fill=\"#181818\" points=\"155.26,103.69,145.6296,105.7526,151.2176,106.6326,150.3376,112.2206,155.26,103.69\" style=\"stroke:#181818;stroke-width:1.0;\"/></a></g><!--MD5=[2351f337d6de0f557b50152ba70847b5]\n",
       "link E6 to E2--><g id=\"link_E6_E2\"><a href=\"psysml:31538477-4a34-40a9-aec8-5df805757767\" target=\"_top\" title=\"psysml:31538477-4a34-40a9-aec8-5df805757767\" xlink:actuate=\"onRequest\" xlink:href=\"psysml:31538477-4a34-40a9-aec8-5df805757767\" xlink:show=\"new\" xlink:title=\"psysml:31538477-4a34-40a9-aec8-5df805757767\" xlink:type=\"simple\"><path d=\"M152.99,92.49 C131.89,100.88 102.64,112.56 77,123 C67.43,126.9 56.63,131.38 48.52,134.76 \" fill=\"none\" id=\"E6-to-E2\" style=\"stroke:#181818;stroke-width:1.0;\"/><polygon fill=\"#181818\" points=\"43.85,136.71,53.6964,136.93,48.4633,134.7819,50.6114,129.5487,43.85,136.71\" style=\"stroke:#181818;stroke-width:1.0;\"/><text fill=\"#000000\" font-family=\"sans-serif\" font-size=\"13\" lengthAdjust=\"spacing\" textLength=\"44\" x=\"78\" y=\"102.0669\">[x &gt; 0]</text></a></g><!--MD5=[2720a5a1f2c3fca2055b230370638851]\n",
       "link E2 to E3--><g id=\"link_E2_E3\"><a href=\"psysml:df8d299f-9da3-41cd-a9dd-6e3a0d30decc\" target=\"_top\" title=\"psysml:df8d299f-9da3-41cd-a9dd-6e3a0d30decc\" xlink:actuate=\"onRequest\" xlink:href=\"psysml:df8d299f-9da3-41cd-a9dd-6e3a0d30decc\" xlink:show=\"new\" xlink:title=\"psysml:df8d299f-9da3-41cd-a9dd-6e3a0d30decc\" xlink:type=\"simple\"><path d=\"M39.76,147.52 C46.18,159.88 60.23,184.83 77,202 C106.3,231.99 149.52,257.46 170.17,268.76 \" fill=\"none\" id=\"E2-to-E3\" style=\"stroke:#181818;stroke-width:1.0;\"/><polygon fill=\"#181818\" points=\"174.68,271.2,168.6552,263.4089,170.2786,268.8278,164.8596,270.4512,174.68,271.2\" style=\"stroke:#181818;stroke-width:1.0;\"/></a></g><!--MD5=[af87c684e3b0d8be13c1a698a818ef1e]\n",
       "link E3 to E4--><g id=\"link_E3_E4\"><a href=\"psysml:131b15c1-7866-4964-88c1-b03f264417a9\" target=\"_top\" title=\"psysml:131b15c1-7866-4964-88c1-b03f264417a9\" xlink:actuate=\"onRequest\" xlink:href=\"psysml:131b15c1-7866-4964-88c1-b03f264417a9\" xlink:show=\"new\" xlink:title=\"psysml:131b15c1-7866-4964-88c1-b03f264417a9\" xlink:type=\"simple\"><path d=\"M191.52,271.15 C208.94,262.16 253.32,238.89 289,217 C297.37,211.87 306.21,206.08 314.44,200.53 \" fill=\"none\" id=\"E3-to-E4\" style=\"stroke:#181818;stroke-width:1.0;\"/><polygon fill=\"#181818\" points=\"318.93,197.47,309.2376,199.2185,314.794,200.2796,313.733,205.836,318.93,197.47\" style=\"stroke:#181818;stroke-width:1.0;\"/><text fill=\"#000000\" font-family=\"sans-serif\" font-size=\"13\" lengthAdjust=\"spacing\" textLength=\"36\" x=\"248\" y=\"213.0669\">[true]</text></a></g><!--MD5=[0188b64bb0ae78505a997a81836e11e9]\n",
       "link E3 to E5--><g id=\"link_E3_E5\"><a href=\"psysml:825f54b9-3c70-45c0-b332-e5b9a5c4b905\" target=\"_top\" title=\"psysml:825f54b9-3c70-45c0-b332-e5b9a5c4b905\" xlink:actuate=\"onRequest\" xlink:href=\"psysml:825f54b9-3c70-45c0-b332-e5b9a5c4b905\" xlink:show=\"new\" xlink:title=\"psysml:825f54b9-3c70-45c0-b332-e5b9a5c4b905\" xlink:type=\"simple\"><path d=\"M193.88,273.51 C222.76,269.05 309.38,254.75 379,234 C418.19,222.32 461.69,204.7 490.93,192.15 \" fill=\"none\" id=\"E3-to-E5\" style=\"stroke:#181818;stroke-width:1.0;\"/><polygon fill=\"#181818\" points=\"495.86,190.03,486.0116,189.9357,491.2717,192.0168,489.1905,197.2769,495.86,190.03\" style=\"stroke:#181818;stroke-width:1.0;\"/><text fill=\"#000000\" font-family=\"sans-serif\" font-size=\"13\" lengthAdjust=\"spacing\" textLength=\"40\" x=\"329\" y=\"230.0669\">[false]</text></a></g><!--MD5=[1b7591eae5389033d8d09a9d6721a717]\n",
       "link E4 to E5--><g id=\"link_E4_E5\"><a href=\"psysml:b3779ea1-0b8c-4465-ae00-48dbba13ac92\" target=\"_top\" title=\"psysml:b3779ea1-0b8c-4465-ae00-48dbba13ac92\" xlink:actuate=\"onRequest\" xlink:href=\"psysml:b3779ea1-0b8c-4465-ae00-48dbba13ac92\" xlink:show=\"new\" xlink:title=\"psysml:b3779ea1-0b8c-4465-ae00-48dbba13ac92\" xlink:type=\"simple\"><path d=\"M379.29,177 C410.05,177 458.36,177 490.83,177 \" fill=\"none\" id=\"E4-to-E5\" style=\"stroke:#181818;stroke-width:1.0;\"/><polygon fill=\"#181818\" points=\"495.91,177,486.91,173,490.91,177,486.91,181,495.91,177\" style=\"stroke:#181818;stroke-width:1.0;\"/><text fill=\"#000000\" font-family=\"sans-serif\" font-size=\"13\" lengthAdjust=\"spacing\" textLength=\"55\" x=\"410\" y=\"173.0669\">[x == 0]</text></a></g><!--MD5=[f1349af5822e91fb072d9b3607c8c7ba]\n",
       "@startuml\r\n",
       "skin sysmlbw\r\n",
       "skinparam monochrome true\r\n",
       "skinparam wrapWidth 300\r\n",
       "hide circle\r\n",
       "left to right direction\r\n",
       "\r\n",
       "rec def \"DecisionTest\" as E1  <<(T,blue) action  def>> [[psysml:24509d73-250a-487a-bcd7-b59ee0863fbf ]] {\r\n",
       "choice \"test x\" as E2  [[psysml:7d99bd45-3b62-4bbf-b126-0db5f71d3136 ]] \r\n",
       "choice \"<s>noname</s>\" as E3  [[psysml:6dee609b-d6ae-4161-97b9-077c5f3bd0c2 ]] \r\n",
       "rec usage \"A1\" as E4  <<(T,blue) action>> [[psysml:f539a78a-befd-4456-a49f-f3788a07e7bd ]] {\r\n",
       "}\r\n",
       "\r\n",
       "rec usage \"A2\" as E5  <<(T,blue) action>> [[psysml:451b6b51-1ae2-4b81-be73-8fe0566d61d5 ]] {\r\n",
       "}\r\n",
       "\r\n",
       "rec usage \"A3\" as E6  <<(T,blue) action>> [[psysml:04e53eda-a597-4a9c-96a9-348d67cb9847 ]] {\r\n",
       "}\r\n",
       "\r\n",
       "}\r\n",
       "\r\n",
       "E2  - -> E4 [[psysml:0e1095c8-d4f6-4449-8c10-0793e56d6528 ]] : [x == 1]\r\n",
       "E2  - -> E5 [[psysml:0bc69c08-a059-419e-b618-d454e4819a50 ]] : [x > 1]\r\n",
       "E2  - -> E6 [[psysml:7bfaba1c-8598-44bd-a9fd-5f850f0b7fd7 ]] \r\n",
       "E2 - -> E3 [[psysml:df8d299f-9da3-41cd-a9dd-6e3a0d30decc ]] \r\n",
       "E3  - -> E4 [[psysml:131b15c1-7866-4964-88c1-b03f264417a9 ]] : [true]\r\n",
       "E3  - -> E5 [[psysml:825f54b9-3c70-45c0-b332-e5b9a5c4b905 ]] : [false]\r\n",
       "E4  - -> E5 [[psysml:b3779ea1-0b8c-4465-ae00-48dbba13ac92 ]] : [x == 0]\r\n",
       "E6  - -> E2 [[psysml:31538477-4a34-40a9-aec8-5df805757767 ]] : [x > 0]\r\n",
       "@enduml\r\n",
       "\n",
       "PlantUML version 1.2022.7(Mon Aug 22 17:01:30 UTC 2022)\n",
       "(EPL source distribution)\n",
       "Java Runtime: OpenJDK Runtime Environment\n",
       "JVM: OpenJDK 64-Bit Server VM\n",
       "Default Encoding: UTF-8\n",
       "Language: en\n",
       "Country: null\n",
       "--></g></svg>"
      ]
     },
     "execution_count": 22,
     "metadata": {},
     "output_type": "execute_result"
    }
   ],
   "source": [
    "%viz --style=\"LR\" --view=\"MIXED\" \"DecisionTest\""
   ]
  },
  {
   "cell_type": "code",
   "execution_count": 23,
   "id": "4b9d2526",
   "metadata": {
    "execution": {
     "iopub.execute_input": "2024-12-16T03:28:01.919097Z",
     "iopub.status.busy": "2024-12-16T03:28:01.918868Z",
     "iopub.status.idle": "2024-12-16T03:28:01.943055Z",
     "shell.execute_reply": "2024-12-16T03:28:01.942857Z"
    }
   },
   "outputs": [
    {
     "data": {
      "image/svg+xml": [
       "<?xml version=\"1.0\" encoding=\"UTF-8\" standalone=\"no\"?><svg xmlns=\"http://www.w3.org/2000/svg\" xmlns:xlink=\"http://www.w3.org/1999/xlink\" contentStyleType=\"text/css\" height=\"476px\" preserveAspectRatio=\"none\" style=\"width:334px;height:476px;background:#FFFFFF;\" version=\"1.1\" viewBox=\"0 0 334 476\" width=\"334px\" zoomAndPan=\"magnify\"><defs><filter height=\"300%\" id=\"f3z5ybyf02lei\" width=\"300%\" x=\"-1\" y=\"-1\"><feGaussianBlur result=\"blurOut\" stdDeviation=\"2.0\"/><feColorMatrix in=\"blurOut\" result=\"blurOut2\" type=\"matrix\" values=\"0 0 0 0 0 0 0 0 0 0 0 0 0 0 0 0 0 0 .4 0\"/><feOffset dx=\"4.0\" dy=\"4.0\" in=\"blurOut2\" result=\"blurOut3\"/><feBlend in=\"SourceGraphic\" in2=\"blurOut3\" mode=\"normal\"/></filter></defs><g><!--MD5=[fbc87193dbaf4d95561dea2c320d4a47]\n",
       "cluster E1--><g id=\"cluster_E1\"><a href=\"psysml:24509d73-250a-487a-bcd7-b59ee0863fbf\" target=\"_top\" title=\"psysml:24509d73-250a-487a-bcd7-b59ee0863fbf\" xlink:actuate=\"onRequest\" xlink:href=\"psysml:24509d73-250a-487a-bcd7-b59ee0863fbf\" xlink:show=\"new\" xlink:title=\"psysml:24509d73-250a-487a-bcd7-b59ee0863fbf\" xlink:type=\"simple\"><rect fill=\"#FFFFFF\" filter=\"url(#f3z5ybyf02lei)\" height=\"457\" id=\"E1\" style=\"stroke:#A80036;stroke-width:1.5;\" width=\"315\" x=\"7\" y=\"7\"/><rect fill=\"#FFFACD\" height=\"40.2656\" style=\"stroke:#A80036;stroke-width:1.5;\" width=\"315\" x=\"7\" y=\"7\"/><text fill=\"#000000\" font-family=\"sans-serif\" font-size=\"12\" font-style=\"italic\" lengthAdjust=\"spacing\" textLength=\"81\" x=\"124\" y=\"23.1387\">«action  def»</text><text fill=\"#000000\" font-family=\"sans-serif\" font-size=\"14\" lengthAdjust=\"spacing\" textLength=\"91\" x=\"119\" y=\"38.9639\">DecisionTest</text></a></g><g id=\"elem_E2\"><polygon fill=\"#FFFACD\" filter=\"url(#f3z5ybyf02lei)\" points=\"210,58,222,70,210,82,198,70,210,58\" style=\"stroke:#181818;stroke-width:0.5;\"/></g><g id=\"elem_E3\"><polygon fill=\"#FFFACD\" filter=\"url(#f3z5ybyf02lei)\" points=\"35,169.5,47,181.5,35,193.5,23,181.5,35,169.5\" style=\"stroke:#181818;stroke-width:0.5;\"/></g><g><a href=\"psysml:f539a78a-befd-4456-a49f-f3788a07e7bd\" target=\"_top\" title=\"psysml:f539a78a-befd-4456-a49f-f3788a07e7bd\" xlink:actuate=\"onRequest\" xlink:href=\"psysml:f539a78a-befd-4456-a49f-f3788a07e7bd\" xlink:show=\"new\" xlink:title=\"psysml:f539a78a-befd-4456-a49f-f3788a07e7bd\" xlink:type=\"simple\"><rect fill=\"#FFFACD\" filter=\"url(#f3z5ybyf02lei)\" height=\"45.2656\" id=\"E4\" rx=\"10\" ry=\"10\" style=\"stroke:#A80036;stroke-width:1.5;\" width=\"60\" x=\"135\" y=\"281\"/><text fill=\"#000000\" font-family=\"sans-serif\" font-size=\"12\" font-style=\"italic\" lengthAdjust=\"spacing\" textLength=\"53\" x=\"138.5\" y=\"297.1387\">«action»</text><text fill=\"#000000\" font-family=\"sans-serif\" font-size=\"14\" lengthAdjust=\"spacing\" textLength=\"18\" x=\"156\" y=\"312.9639\">A1</text></a></g><g><a href=\"psysml:451b6b51-1ae2-4b81-be73-8fe0566d61d5\" target=\"_top\" title=\"psysml:451b6b51-1ae2-4b81-be73-8fe0566d61d5\" xlink:actuate=\"onRequest\" xlink:href=\"psysml:451b6b51-1ae2-4b81-be73-8fe0566d61d5\" xlink:show=\"new\" xlink:title=\"psysml:451b6b51-1ae2-4b81-be73-8fe0566d61d5\" xlink:type=\"simple\"><rect fill=\"#FFFACD\" filter=\"url(#f3z5ybyf02lei)\" height=\"45.2656\" id=\"E5\" rx=\"10\" ry=\"10\" style=\"stroke:#A80036;stroke-width:1.5;\" width=\"60\" x=\"135\" y=\"403\"/><text fill=\"#000000\" font-family=\"sans-serif\" font-size=\"12\" font-style=\"italic\" lengthAdjust=\"spacing\" textLength=\"53\" x=\"138.5\" y=\"419.1387\">«action»</text><text fill=\"#000000\" font-family=\"sans-serif\" font-size=\"14\" lengthAdjust=\"spacing\" textLength=\"18\" x=\"156\" y=\"434.9639\">A2</text></a></g><g><a href=\"psysml:04e53eda-a597-4a9c-96a9-348d67cb9847\" target=\"_top\" title=\"psysml:04e53eda-a597-4a9c-96a9-348d67cb9847\" xlink:actuate=\"onRequest\" xlink:href=\"psysml:04e53eda-a597-4a9c-96a9-348d67cb9847\" xlink:show=\"new\" xlink:title=\"psysml:04e53eda-a597-4a9c-96a9-348d67cb9847\" xlink:type=\"simple\"><rect fill=\"#FFFACD\" filter=\"url(#f3z5ybyf02lei)\" height=\"45.2656\" id=\"E6\" rx=\"10\" ry=\"10\" style=\"stroke:#A80036;stroke-width:1.5;\" width=\"60\" x=\"246\" y=\"159\"/><text fill=\"#000000\" font-family=\"sans-serif\" font-size=\"12\" font-style=\"italic\" lengthAdjust=\"spacing\" textLength=\"53\" x=\"249.5\" y=\"175.1387\">«action»</text><text fill=\"#000000\" font-family=\"sans-serif\" font-size=\"14\" lengthAdjust=\"spacing\" textLength=\"18\" x=\"267\" y=\"190.9639\">A3</text></a></g><!--MD5=[4d03bb2d0377dc85ccfab60ff574652b]\n",
       "link E2 to E4--><g id=\"link_E2_E4\"><a href=\"psysml:0e1095c8-d4f6-4449-8c10-0793e56d6528\" target=\"_top\" title=\"psysml:0e1095c8-d4f6-4449-8c10-0793e56d6528\" xlink:actuate=\"onRequest\" xlink:href=\"psysml:0e1095c8-d4f6-4449-8c10-0793e56d6528\" xlink:show=\"new\" xlink:title=\"psysml:0e1095c8-d4f6-4449-8c10-0793e56d6528\" xlink:type=\"simple\"><path d=\"M204.06,76.21 C190.24,88.77 156.2,122.4 144,159 C130.9,198.29 143.31,246.33 153.85,275.66 \" fill=\"none\" id=\"E2-to-E4\" style=\"stroke:#181818;stroke-width:1.0;\"/><polygon fill=\"#181818\" points=\"155.65,280.56,156.2879,270.7318,153.9195,275.869,148.7823,273.5006,155.65,280.56\" style=\"stroke:#181818;stroke-width:1.0;\"/><text fill=\"#000000\" font-family=\"sans-serif\" font-size=\"13\" lengthAdjust=\"spacing\" textLength=\"55\" x=\"145\" y=\"186.0669\">[x == 1]</text></a></g><!--MD5=[dcad52bbbca2fe8adc741ce38b45dc12]\n",
       "link E2 to E5--><g id=\"link_E2_E5\"><a href=\"psysml:0bc69c08-a059-419e-b618-d454e4819a50\" target=\"_top\" title=\"psysml:0bc69c08-a059-419e-b618-d454e4819a50\" xlink:actuate=\"onRequest\" xlink:href=\"psysml:0bc69c08-a059-419e-b618-d454e4819a50\" xlink:show=\"new\" xlink:title=\"psysml:0bc69c08-a059-419e-b618-d454e4819a50\" xlink:type=\"simple\"><path d=\"M210.81,81.23 C214.84,132.49 232.28,359.49 226,373 C220.28,385.32 210,395.75 199.49,403.94 \" fill=\"none\" id=\"E2-to-E5\" style=\"stroke:#181818;stroke-width:1.0;\"/><polygon fill=\"#181818\" points=\"195.3,407.08,204.9,404.88,199.3,404.08,200.1,398.48,195.3,407.08\" style=\"stroke:#181818;stroke-width:1.0;\"/><text fill=\"#000000\" font-family=\"sans-serif\" font-size=\"13\" lengthAdjust=\"spacing\" textLength=\"44\" x=\"223\" y=\"247.0669\">[x &gt; 1]</text></a></g><!--MD5=[e3e28c1befcf002155aa15e1416b4315]\n",
       "link E2 to E6--><g id=\"link_E2_E6\"><a href=\"psysml:7bfaba1c-8598-44bd-a9fd-5f850f0b7fd7\" target=\"_top\" title=\"psysml:7bfaba1c-8598-44bd-a9fd-5f850f0b7fd7\" xlink:actuate=\"onRequest\" xlink:href=\"psysml:7bfaba1c-8598-44bd-a9fd-5f850f0b7fd7\" xlink:show=\"new\" xlink:title=\"psysml:7bfaba1c-8598-44bd-a9fd-5f850f0b7fd7\" xlink:type=\"simple\"><path d=\"M210.55,81.49 C211.58,93.62 214.53,113.87 223,129 C228.38,138.62 236.13,147.59 244.04,155.25 \" fill=\"none\" id=\"E2-to-E6\" style=\"stroke:#181818;stroke-width:1.0;\"/><polygon fill=\"#181818\" points=\"247.92,158.91,244.1077,149.8289,244.279,155.4832,238.6247,155.6545,247.92,158.91\" style=\"stroke:#181818;stroke-width:1.0;\"/></a></g><!--MD5=[2351f337d6de0f557b50152ba70847b5]\n",
       "link E6 to E2--><g id=\"link_E6_E2\"><a href=\"psysml:31538477-4a34-40a9-aec8-5df805757767\" target=\"_top\" title=\"psysml:31538477-4a34-40a9-aec8-5df805757767\" xlink:actuate=\"onRequest\" xlink:href=\"psysml:31538477-4a34-40a9-aec8-5df805757767\" xlink:show=\"new\" xlink:title=\"psysml:31538477-4a34-40a9-aec8-5df805757767\" xlink:type=\"simple\"><path d=\"M262.83,158.65 C249.09,135.85 228.04,100.94 217.13,82.82 \" fill=\"none\" id=\"E6-to-E2\" style=\"stroke:#181818;stroke-width:1.0;\"/><polygon fill=\"#181818\" points=\"214.33,78.18,215.5544,87.9525,216.913,82.4612,222.4043,83.8197,214.33,78.18\" style=\"stroke:#181818;stroke-width:1.0;\"/><text fill=\"#000000\" font-family=\"sans-serif\" font-size=\"13\" lengthAdjust=\"spacing\" textLength=\"44\" x=\"244\" y=\"125.0669\">[x &gt; 0]</text></a></g><!--MD5=[2720a5a1f2c3fca2055b230370638851]\n",
       "link E2 to E3--><g id=\"link_E2_E3\"><a href=\"psysml:df8d299f-9da3-41cd-a9dd-6e3a0d30decc\" target=\"_top\" title=\"psysml:df8d299f-9da3-41cd-a9dd-6e3a0d30decc\" xlink:actuate=\"onRequest\" xlink:href=\"psysml:df8d299f-9da3-41cd-a9dd-6e3a0d30decc\" xlink:show=\"new\" xlink:title=\"psysml:df8d299f-9da3-41cd-a9dd-6e3a0d30decc\" xlink:type=\"simple\"><path d=\"M201.29,73.31 C183.01,78.4 139.7,91.78 108,112 C81.71,128.77 56.41,155.69 43.63,170.28 \" fill=\"none\" id=\"E2-to-E3\" style=\"stroke:#181818;stroke-width:1.0;\"/><polygon fill=\"#181818\" points=\"40.08,174.4,48.9911,170.2057,43.3492,170.6168,42.9381,164.975,40.08,174.4\" style=\"stroke:#181818;stroke-width:1.0;\"/></a></g><!--MD5=[af87c684e3b0d8be13c1a698a818ef1e]\n",
       "link E3 to E4--><g id=\"link_E3_E4\"><a href=\"psysml:131b15c1-7866-4964-88c1-b03f264417a9\" target=\"_top\" title=\"psysml:131b15c1-7866-4964-88c1-b03f264417a9\" xlink:actuate=\"onRequest\" xlink:href=\"psysml:131b15c1-7866-4964-88c1-b03f264417a9\" xlink:show=\"new\" xlink:title=\"psysml:131b15c1-7866-4964-88c1-b03f264417a9\" xlink:type=\"simple\"><path d=\"M39.07,190 C46.61,203.42 63.83,231.9 84,251 C97.71,263.98 115.14,275.56 130.33,284.43 \" fill=\"none\" id=\"E3-to-E4\" style=\"stroke:#181818;stroke-width:1.0;\"/><polygon fill=\"#181818\" points=\"134.96,287.1,129.1557,279.1433,130.6267,284.6055,125.1645,286.0765,134.96,287.1\" style=\"stroke:#181818;stroke-width:1.0;\"/><text fill=\"#000000\" font-family=\"sans-serif\" font-size=\"13\" lengthAdjust=\"spacing\" textLength=\"36\" x=\"85\" y=\"247.0669\">[true]</text></a></g><!--MD5=[0188b64bb0ae78505a997a81836e11e9]\n",
       "link E3 to E5--><g id=\"link_E3_E5\"><a href=\"psysml:825f54b9-3c70-45c0-b332-e5b9a5c4b905\" target=\"_top\" title=\"psysml:825f54b9-3c70-45c0-b332-e5b9a5c4b905\" xlink:actuate=\"onRequest\" xlink:href=\"psysml:825f54b9-3c70-45c0-b332-e5b9a5c4b905\" xlink:show=\"new\" xlink:title=\"psysml:825f54b9-3c70-45c0-b332-e5b9a5c4b905\" xlink:type=\"simple\"><path d=\"M36.26,192.49 C39.65,216.72 50.48,280.01 76,326 C91.62,354.15 116.69,380.91 136.25,399.41 \" fill=\"none\" id=\"E3-to-E5\" style=\"stroke:#181818;stroke-width:1.0;\"/><polygon fill=\"#181818\" points=\"140.08,403,136.231,393.9344,136.4252,399.5879,130.7717,399.7821,140.08,403\" style=\"stroke:#181818;stroke-width:1.0;\"/><text fill=\"#000000\" font-family=\"sans-serif\" font-size=\"13\" lengthAdjust=\"spacing\" textLength=\"40\" x=\"77\" y=\"308.0669\">[false]</text></a></g><!--MD5=[1b7591eae5389033d8d09a9d6721a717]\n",
       "link E4 to E5--><g id=\"link_E4_E5\"><a href=\"psysml:b3779ea1-0b8c-4465-ae00-48dbba13ac92\" target=\"_top\" title=\"psysml:b3779ea1-0b8c-4465-ae00-48dbba13ac92\" xlink:actuate=\"onRequest\" xlink:href=\"psysml:b3779ea1-0b8c-4465-ae00-48dbba13ac92\" xlink:show=\"new\" xlink:title=\"psysml:b3779ea1-0b8c-4465-ae00-48dbba13ac92\" xlink:type=\"simple\"><path d=\"M165,326.23 C165,346.37 165,376.37 165,397.92 \" fill=\"none\" id=\"E4-to-E5\" style=\"stroke:#181818;stroke-width:1.0;\"/><polygon fill=\"#181818\" points=\"165,402.93,169,393.93,165,397.93,161,393.93,165,402.93\" style=\"stroke:#181818;stroke-width:1.0;\"/><text fill=\"#000000\" font-family=\"sans-serif\" font-size=\"13\" lengthAdjust=\"spacing\" textLength=\"55\" x=\"166\" y=\"369.0669\">[x == 0]</text></a></g><!--MD5=[3c6df53f3ba123edfbc2f7a2fd1dbb1f]\n",
       "@startuml\r\n",
       "skin sysmlc\r\n",
       "skinparam wrapWidth 300\r\n",
       "hide circle\r\n",
       "\r\n",
       "rec def \"DecisionTest\" as E1  <<(T,blue) action  def>> [[psysml:24509d73-250a-487a-bcd7-b59ee0863fbf ]] {\r\n",
       "choice \"test x\" as E2  [[psysml:7d99bd45-3b62-4bbf-b126-0db5f71d3136 ]] \r\n",
       "choice \"<s>noname</s>\" as E3  [[psysml:6dee609b-d6ae-4161-97b9-077c5f3bd0c2 ]] \r\n",
       "rec usage \"A1\" as E4  <<(T,blue) action>> [[psysml:f539a78a-befd-4456-a49f-f3788a07e7bd ]] {\r\n",
       "}\r\n",
       "\r\n",
       "rec usage \"A2\" as E5  <<(T,blue) action>> [[psysml:451b6b51-1ae2-4b81-be73-8fe0566d61d5 ]] {\r\n",
       "}\r\n",
       "\r\n",
       "rec usage \"A3\" as E6  <<(T,blue) action>> [[psysml:04e53eda-a597-4a9c-96a9-348d67cb9847 ]] {\r\n",
       "}\r\n",
       "\r\n",
       "}\r\n",
       "\r\n",
       "E2  - -> E4 [[psysml:0e1095c8-d4f6-4449-8c10-0793e56d6528 ]] : [x == 1]\r\n",
       "E2  - -> E5 [[psysml:0bc69c08-a059-419e-b618-d454e4819a50 ]] : [x > 1]\r\n",
       "E2  - -> E6 [[psysml:7bfaba1c-8598-44bd-a9fd-5f850f0b7fd7 ]] \r\n",
       "E2 - -> E3 [[psysml:df8d299f-9da3-41cd-a9dd-6e3a0d30decc ]] \r\n",
       "E3  - -> E4 [[psysml:131b15c1-7866-4964-88c1-b03f264417a9 ]] : [true]\r\n",
       "E3  - -> E5 [[psysml:825f54b9-3c70-45c0-b332-e5b9a5c4b905 ]] : [false]\r\n",
       "E4  - -> E5 [[psysml:b3779ea1-0b8c-4465-ae00-48dbba13ac92 ]] : [x == 0]\r\n",
       "E6  - -> E2 [[psysml:31538477-4a34-40a9-aec8-5df805757767 ]] : [x > 0]\r\n",
       "@enduml\r\n",
       "\n",
       "PlantUML version 1.2022.7(Mon Aug 22 17:01:30 UTC 2022)\n",
       "(EPL source distribution)\n",
       "Java Runtime: OpenJDK Runtime Environment\n",
       "JVM: OpenJDK 64-Bit Server VM\n",
       "Default Encoding: UTF-8\n",
       "Language: en\n",
       "Country: null\n",
       "--></g></svg>"
      ]
     },
     "execution_count": 23,
     "metadata": {},
     "output_type": "execute_result"
    }
   ],
   "source": [
    "%viz --style=\"STDCOLOR\" --view=\"Default\" \"DecisionTest\""
   ]
  },
  {
   "cell_type": "code",
   "execution_count": 24,
   "id": "a04e9e9e",
   "metadata": {
    "execution": {
     "iopub.execute_input": "2024-12-16T03:28:01.996381Z",
     "iopub.status.busy": "2024-12-16T03:28:01.996120Z",
     "iopub.status.idle": "2024-12-16T03:28:02.033255Z",
     "shell.execute_reply": "2024-12-16T03:28:02.032474Z"
    }
   },
   "outputs": [
    {
     "data": {
      "image/svg+xml": [
       "<?xml version=\"1.0\" encoding=\"UTF-8\" standalone=\"no\"?><svg xmlns=\"http://www.w3.org/2000/svg\" xmlns:xlink=\"http://www.w3.org/1999/xlink\" contentStyleType=\"text/css\" height=\"512px\" preserveAspectRatio=\"none\" style=\"width:464px;height:512px;background:#FFFFFF;\" version=\"1.1\" viewBox=\"0 0 464 512\" width=\"464px\" zoomAndPan=\"magnify\"><defs><filter height=\"300%\" id=\"f186woecb44yao\" width=\"300%\" x=\"-1\" y=\"-1\"><feGaussianBlur result=\"blurOut\" stdDeviation=\"2.0\"/><feColorMatrix in=\"blurOut\" result=\"blurOut2\" type=\"matrix\" values=\"0 0 0 0 0 0 0 0 0 0 0 0 0 0 0 0 0 0 .4 0\"/><feOffset dx=\"4.0\" dy=\"4.0\" in=\"blurOut2\" result=\"blurOut3\"/><feBlend in=\"SourceGraphic\" in2=\"blurOut3\" mode=\"normal\"/></filter></defs><g><!--MD5=[43c9051892ef23e1a46a86907403d788]\n",
       "class E1--><a href=\"psysml:24509d73-250a-487a-bcd7-b59ee0863fbf\" target=\"_top\" title=\"psysml:24509d73-250a-487a-bcd7-b59ee0863fbf\" xlink:actuate=\"onRequest\" xlink:href=\"psysml:24509d73-250a-487a-bcd7-b59ee0863fbf\" xlink:show=\"new\" xlink:title=\"psysml:24509d73-250a-487a-bcd7-b59ee0863fbf\" xlink:type=\"simple\"><g id=\"elem_E1\"><rect fill=\"#FFFACD\" filter=\"url(#f186woecb44yao)\" height=\"277.3094\" id=\"E1\" style=\"stroke:#181818;stroke-width:0.5;\" width=\"204\" x=\"143\" y=\"7\"/><text fill=\"#000000\" font-family=\"sans-serif\" font-size=\"12\" font-style=\"italic\" lengthAdjust=\"spacing\" textLength=\"81\" x=\"204.5\" y=\"23.1387\">«action  def»</text><text fill=\"#000000\" font-family=\"sans-serif\" font-size=\"14\" lengthAdjust=\"spacing\" textLength=\"91\" x=\"199.5\" y=\"38.9639\">DecisionTest</text><line style=\"stroke:#181818;stroke-width:0.5;\" x1=\"144\" x2=\"346\" y1=\"47.2656\" y2=\"47.2656\"/><text fill=\"#000000\" font-family=\"sans-serif\" font-size=\"14\" lengthAdjust=\"spacing\" textLength=\"36\" x=\"149\" y=\"74.7795\">x = 1</text><text fill=\"#000000\" font-family=\"sans-serif\" font-size=\"14\" font-style=\"italic\" lengthAdjust=\"spacing\" textLength=\"66\" x=\"212\" y=\"59.6123\">attributes</text><line style=\"stroke:#181818;stroke-width:1.0;\" x1=\"144\" x2=\"346\" y1=\"82.0813\" y2=\"82.0813\"/><text fill=\"#000000\" font-family=\"sans-serif\" font-size=\"14\" lengthAdjust=\"spacing\" textLength=\"18\" x=\"149\" y=\"109.5951\">A3</text><text fill=\"#000000\" font-family=\"sans-serif\" font-size=\"14\" font-style=\"italic\" lengthAdjust=\"spacing\" textLength=\"50\" x=\"220\" y=\"94.4279\">actions</text><line style=\"stroke:#181818;stroke-width:1.0;\" x1=\"144\" x2=\"346\" y1=\"116.8969\" y2=\"116.8969\"/><text fill=\"#000000\" font-family=\"sans-serif\" font-size=\"14\" lengthAdjust=\"spacing\" textLength=\"192\" x=\"149\" y=\"144.4107\">noname first test x then null</text><text fill=\"#000000\" font-family=\"sans-serif\" font-size=\"14\" font-style=\"italic\" lengthAdjust=\"spacing\" textLength=\"87\" x=\"201.5\" y=\"129.2436\">successions</text><line style=\"stroke:#181818;stroke-width:1.0;\" x1=\"144\" x2=\"346\" y1=\"151.7125\" y2=\"151.7125\"/><text fill=\"#000000\" font-family=\"sans-serif\" font-size=\"14\" lengthAdjust=\"spacing\" textLength=\"4\" x=\"149\" y=\"179.2264\"> </text><text fill=\"#000000\" font-family=\"sans-serif\" font-size=\"14\" lengthAdjust=\"spacing\" textLength=\"4\" x=\"149\" y=\"195.5232\"> </text><text fill=\"#000000\" font-family=\"sans-serif\" font-size=\"14\" lengthAdjust=\"spacing\" textLength=\"4\" x=\"149\" y=\"211.8201\"> </text><text fill=\"#000000\" font-family=\"sans-serif\" font-size=\"14\" lengthAdjust=\"spacing\" textLength=\"4\" x=\"149\" y=\"228.117\"> </text><text fill=\"#000000\" font-family=\"sans-serif\" font-size=\"14\" lengthAdjust=\"spacing\" textLength=\"4\" x=\"149\" y=\"244.4139\"> </text><text fill=\"#000000\" font-family=\"sans-serif\" font-size=\"14\" lengthAdjust=\"spacing\" textLength=\"4\" x=\"149\" y=\"260.7107\"> </text><text fill=\"#000000\" font-family=\"sans-serif\" font-size=\"14\" lengthAdjust=\"spacing\" textLength=\"9\" x=\"149\" y=\"277.0076\">S</text><text fill=\"#000000\" font-family=\"sans-serif\" font-size=\"14\" font-style=\"italic\" lengthAdjust=\"spacing\" textLength=\"72\" x=\"209\" y=\"164.0592\">transitions</text></g></a><!--MD5=[b4997ac47864f28c2f74865a473b2911]\n",
       "class E2--><a href=\"psysml:7d99bd45-3b62-4bbf-b126-0db5f71d3136\" target=\"_top\" title=\"psysml:7d99bd45-3b62-4bbf-b126-0db5f71d3136\" xlink:actuate=\"onRequest\" xlink:href=\"psysml:7d99bd45-3b62-4bbf-b126-0db5f71d3136\" xlink:show=\"new\" xlink:title=\"psysml:7d99bd45-3b62-4bbf-b126-0db5f71d3136\" xlink:type=\"simple\"><g id=\"elem_E2\"><rect fill=\"#FFFACD\" filter=\"url(#f186woecb44yao)\" height=\"48.2656\" id=\"E2\" rx=\"10\" ry=\"10\" style=\"stroke:#181818;stroke-width:0.5;\" width=\"104\" x=\"7\" y=\"344\"/><text fill=\"#000000\" font-family=\"sans-serif\" font-size=\"12\" font-style=\"italic\" lengthAdjust=\"spacing\" textLength=\"102\" x=\"8\" y=\"360.1387\">«decision node»</text><text fill=\"#000000\" font-family=\"sans-serif\" font-size=\"14\" lengthAdjust=\"spacing\" textLength=\"38\" x=\"36\" y=\"375.9639\">test x</text><line style=\"stroke:#181818;stroke-width:0.5;\" x1=\"8\" x2=\"110\" y1=\"384.2656\" y2=\"384.2656\"/></g></a><!--MD5=[09b614a08d8cba4a07c9adeb5e0fee81]\n",
       "class E3--><a href=\"psysml:6dee609b-d6ae-4161-97b9-077c5f3bd0c2\" target=\"_top\" title=\"psysml:6dee609b-d6ae-4161-97b9-077c5f3bd0c2\" xlink:actuate=\"onRequest\" xlink:href=\"psysml:6dee609b-d6ae-4161-97b9-077c5f3bd0c2\" xlink:show=\"new\" xlink:title=\"psysml:6dee609b-d6ae-4161-97b9-077c5f3bd0c2\" xlink:type=\"simple\"><g id=\"elem_E3\"><rect fill=\"#FFFACD\" filter=\"url(#f186woecb44yao)\" height=\"48.2656\" id=\"E3\" rx=\"10\" ry=\"10\" style=\"stroke:#181818;stroke-width:0.5;\" width=\"104\" x=\"59\" y=\"452\"/><text fill=\"#000000\" font-family=\"sans-serif\" font-size=\"12\" font-style=\"italic\" lengthAdjust=\"spacing\" textLength=\"102\" x=\"60\" y=\"468.1387\">«decision node»</text><text fill=\"#000000\" font-family=\"sans-serif\" font-size=\"14\" lengthAdjust=\"spacing\" text-decoration=\"line-through\" textLength=\"57\" x=\"78.5\" y=\"483.9639\">noname</text><text fill=\"#000000\" font-family=\"sans-serif\" font-size=\"14\" lengthAdjust=\"spacing\" textLength=\"8\" x=\"135.5\" y=\"483.9639\">  </text><line style=\"stroke:#181818;stroke-width:0.5;\" x1=\"60\" x2=\"162\" y1=\"492.2656\" y2=\"492.2656\"/></g></a><!--MD5=[ebbe1d658d1005bcc118a6aa81145e00]\n",
       "class E4--><a href=\"psysml:f539a78a-befd-4456-a49f-f3788a07e7bd\" target=\"_top\" title=\"psysml:f539a78a-befd-4456-a49f-f3788a07e7bd\" xlink:actuate=\"onRequest\" xlink:href=\"psysml:f539a78a-befd-4456-a49f-f3788a07e7bd\" xlink:show=\"new\" xlink:title=\"psysml:f539a78a-befd-4456-a49f-f3788a07e7bd\" xlink:type=\"simple\"><g id=\"elem_E4\"><rect fill=\"#FFFACD\" filter=\"url(#f186woecb44yao)\" height=\"48.2656\" id=\"E4\" rx=\"10\" ry=\"10\" style=\"stroke:#181818;stroke-width:0.5;\" width=\"55\" x=\"217.5\" y=\"344\"/><text fill=\"#000000\" font-family=\"sans-serif\" font-size=\"12\" font-style=\"italic\" lengthAdjust=\"spacing\" textLength=\"53\" x=\"218.5\" y=\"360.1387\">«action»</text><text fill=\"#000000\" font-family=\"sans-serif\" font-size=\"14\" lengthAdjust=\"spacing\" textLength=\"18\" x=\"232\" y=\"375.9639\">A1</text><line style=\"stroke:#181818;stroke-width:0.5;\" x1=\"218.5\" x2=\"271.5\" y1=\"384.2656\" y2=\"384.2656\"/></g></a><!--MD5=[270fce915f116d4de14055a7c1d9a0f3]\n",
       "class E5--><a href=\"psysml:451b6b51-1ae2-4b81-be73-8fe0566d61d5\" target=\"_top\" title=\"psysml:451b6b51-1ae2-4b81-be73-8fe0566d61d5\" xlink:actuate=\"onRequest\" xlink:href=\"psysml:451b6b51-1ae2-4b81-be73-8fe0566d61d5\" xlink:show=\"new\" xlink:title=\"psysml:451b6b51-1ae2-4b81-be73-8fe0566d61d5\" xlink:type=\"simple\"><g id=\"elem_E5\"><rect fill=\"#FFFACD\" filter=\"url(#f186woecb44yao)\" height=\"48.2656\" id=\"E5\" rx=\"10\" ry=\"10\" style=\"stroke:#181818;stroke-width:0.5;\" width=\"55\" x=\"307.5\" y=\"344\"/><text fill=\"#000000\" font-family=\"sans-serif\" font-size=\"12\" font-style=\"italic\" lengthAdjust=\"spacing\" textLength=\"53\" x=\"308.5\" y=\"360.1387\">«action»</text><text fill=\"#000000\" font-family=\"sans-serif\" font-size=\"14\" lengthAdjust=\"spacing\" textLength=\"18\" x=\"322\" y=\"375.9639\">A2</text><line style=\"stroke:#181818;stroke-width:0.5;\" x1=\"308.5\" x2=\"361.5\" y1=\"384.2656\" y2=\"384.2656\"/></g></a><!--MD5=[60a26617385b1d2d0262a64233df1f8d]\n",
       "class E6--><a href=\"psysml:04e53eda-a597-4a9c-96a9-348d67cb9847\" target=\"_top\" title=\"psysml:04e53eda-a597-4a9c-96a9-348d67cb9847\" xlink:actuate=\"onRequest\" xlink:href=\"psysml:04e53eda-a597-4a9c-96a9-348d67cb9847\" xlink:show=\"new\" xlink:title=\"psysml:04e53eda-a597-4a9c-96a9-348d67cb9847\" xlink:type=\"simple\"><g id=\"elem_E6\"><rect fill=\"#FFFACD\" filter=\"url(#f186woecb44yao)\" height=\"48.2656\" id=\"E6\" rx=\"10\" ry=\"10\" style=\"stroke:#181818;stroke-width:0.5;\" width=\"55\" x=\"397.5\" y=\"344\"/><text fill=\"#000000\" font-family=\"sans-serif\" font-size=\"12\" font-style=\"italic\" lengthAdjust=\"spacing\" textLength=\"53\" x=\"398.5\" y=\"360.1387\">«action»</text><text fill=\"#000000\" font-family=\"sans-serif\" font-size=\"14\" lengthAdjust=\"spacing\" textLength=\"18\" x=\"412\" y=\"375.9639\">A3</text><line style=\"stroke:#181818;stroke-width:0.5;\" x1=\"398.5\" x2=\"451.5\" y1=\"384.2656\" y2=\"384.2656\"/></g></a><!--MD5=[a523cb2a0b79ecf9065ad8783f96c320]\n",
       "reverse link E1 to E2--><g id=\"link_E1_E2\"><a href=\"psysml:0a57c05e-4dd3-44ad-ba12-51402458bbf0\" target=\"_top\" title=\"psysml:0a57c05e-4dd3-44ad-ba12-51402458bbf0\" xlink:actuate=\"onRequest\" xlink:href=\"psysml:0a57c05e-4dd3-44ad-ba12-51402458bbf0\" xlink:show=\"new\" xlink:title=\"psysml:0a57c05e-4dd3-44ad-ba12-51402458bbf0\" xlink:type=\"simple\"><path d=\"M134.13,277.93 C112.64,303.41 92.47,327.33 78.45,343.95 \" fill=\"none\" id=\"E1-backto-E2\" style=\"stroke:#181818;stroke-width:1.0;\"/><polygon fill=\"#181818\" points=\"142.75,267.72,135.824,269.7277,135.0135,276.8931,141.9394,274.8854,142.75,267.72\" style=\"stroke:#181818;stroke-width:1.0;\"/></a></g><!--MD5=[2720a5a1f2c3fca2055b230370638851]\n",
       "link E2 to E3--><g id=\"link_E2_E3\"><a href=\"psysml:df8d299f-9da3-41cd-a9dd-6e3a0d30decc\" target=\"_top\" title=\"psysml:df8d299f-9da3-41cd-a9dd-6e3a0d30decc\" xlink:actuate=\"onRequest\" xlink:href=\"psysml:df8d299f-9da3-41cd-a9dd-6e3a0d30decc\" xlink:show=\"new\" xlink:title=\"psysml:df8d299f-9da3-41cd-a9dd-6e3a0d30decc\" xlink:type=\"simple\"><path d=\"M70.28,392 C78.2,408.14 88.83,429.82 97.25,446.97 \" fill=\"none\" id=\"E2-to-E3\" style=\"stroke:#181818;stroke-width:1.0;\"/><polygon fill=\"#181818\" points=\"99.56,451.68,99.1883,441.8382,97.3583,447.1908,92.0056,445.3609,99.56,451.68\" style=\"stroke:#181818;stroke-width:1.0;\"/></a></g><!--MD5=[5d7b3810b1dd9b5164bea1151b29b665]\n",
       "reverse link E1 to E3--><g id=\"link_E1_E3\"><a href=\"psysml:5efd2738-c984-493d-a46e-1379d8b8bf4b\" target=\"_top\" title=\"psysml:5efd2738-c984-493d-a46e-1379d8b8bf4b\" xlink:actuate=\"onRequest\" xlink:href=\"psysml:5efd2738-c984-493d-a46e-1379d8b8bf4b\" xlink:show=\"new\" xlink:title=\"psysml:5efd2738-c984-493d-a46e-1379d8b8bf4b\" xlink:type=\"simple\"><path d=\"M183.72,296.73 C159.26,356.7 133.77,419.17 120.43,451.87 \" fill=\"none\" id=\"E1-backto-E3\" style=\"stroke:#181818;stroke-width:1.0;\"/><polygon fill=\"#181818\" points=\"188.75,284.39,182.7796,288.434,184.2162,295.5005,190.1866,291.4566,188.75,284.39\" style=\"stroke:#181818;stroke-width:1.0;\"/></a></g><!--MD5=[f2c5c03aa1e8c0ba21c10a05e6444b8e]\n",
       "reverse link E1 to E4--><g id=\"link_E1_E4\"><a href=\"psysml:867ae522-9684-4034-9c56-5f70d3a76b09\" target=\"_top\" title=\"psysml:867ae522-9684-4034-9c56-5f70d3a76b09\" xlink:actuate=\"onRequest\" xlink:href=\"psysml:867ae522-9684-4034-9c56-5f70d3a76b09\" xlink:show=\"new\" xlink:title=\"psysml:867ae522-9684-4034-9c56-5f70d3a76b09\" xlink:type=\"simple\"><path d=\"M245,297.51 C245,315.33 245,331.5 245,343.75 \" fill=\"none\" id=\"E1-backto-E4\" style=\"stroke:#181818;stroke-width:1.0;\"/><polygon fill=\"#181818\" points=\"245,284.27,241,290.27,245,296.27,249,290.27,245,284.27\" style=\"stroke:#181818;stroke-width:1.0;\"/></a></g><!--MD5=[33238bef88d6431a141d8bc8fb12bca0]\n",
       "reverse link E1 to E5--><g id=\"link_E1_E5\"><a href=\"psysml:e0e8ad72-4177-4702-a62e-bf2c3ff4a78a\" target=\"_top\" title=\"psysml:e0e8ad72-4177-4702-a62e-bf2c3ff4a78a\" xlink:actuate=\"onRequest\" xlink:href=\"psysml:e0e8ad72-4177-4702-a62e-bf2c3ff4a78a\" xlink:show=\"new\" xlink:title=\"psysml:e0e8ad72-4177-4702-a62e-bf2c3ff4a78a\" xlink:type=\"simple\"><path d=\"M306.21,296.47 C313.65,314.7 320.41,331.26 325.51,343.75 \" fill=\"none\" id=\"E1-backto-E5\" style=\"stroke:#181818;stroke-width:1.0;\"/><polygon fill=\"#181818\" points=\"301.23,284.27,299.7934,291.3366,305.7638,295.3805,307.2004,288.314,301.23,284.27\" style=\"stroke:#181818;stroke-width:1.0;\"/></a></g><!--MD5=[aca2ef284c2b1b90e17e73bf3f292c07]\n",
       "reverse link E1 to E6--><g id=\"link_E1_E6\"><a href=\"psysml:3e72a653-2f0b-4c94-896a-b70e2d6f389f\" target=\"_top\" title=\"psysml:3e72a653-2f0b-4c94-896a-b70e2d6f389f\" xlink:actuate=\"onRequest\" xlink:href=\"psysml:3e72a653-2f0b-4c94-896a-b70e2d6f389f\" xlink:show=\"new\" xlink:title=\"psysml:3e72a653-2f0b-4c94-896a-b70e2d6f389f\" xlink:type=\"simple\"><path d=\"M355.55,281.92 C375.09,305.86 393.27,328.14 406.13,343.88 \" fill=\"none\" id=\"E1-backto-E6\" style=\"stroke:#181818;stroke-width:1.0;\"/><polygon fill=\"#181818\" points=\"347.1,271.57,347.7986,278.7472,354.6924,280.8628,353.9938,273.6856,347.1,271.57\" style=\"stroke:#181818;stroke-width:1.0;\"/></a></g><!--MD5=[bd5f2a25051e4e0017f475f4cce90442]\n",
       "@startuml\r\n",
       "skin sysmlc\r\n",
       "skinparam wrapWidth 300\r\n",
       "hide circle\r\n",
       "\r\n",
       "comp def \"DecisionTest\" as E1  <<(T,blue) action  def>> [[psysml:24509d73-250a-487a-bcd7-b59ee0863fbf ]] {\r\n",
       "##//attributes//##\r\n",
       "x <U+003D> 1\r\n",
       "- -\r\n",
       "##//actions//##\r\n",
       "A3\r\n",
       "- -\r\n",
       "##//successions//##\r\n",
       "noname first test x then null\r\n",
       "- -\r\n",
       "##//transitions//##\r\n",
       "\r\n",
       "\r\n",
       "\r\n",
       "\r\n",
       "\r\n",
       "\r\n",
       "S\r\n",
       "}\r\n",
       "comp usage \"test x  \" as E2  <<(T,blue) decision node>> [[psysml:7d99bd45-3b62-4bbf-b126-0db5f71d3136 ]] {\r\n",
       "}\r\n",
       "comp usage \"<s>noname</s>  \" as E3  <<(T,blue) decision node>> [[psysml:6dee609b-d6ae-4161-97b9-077c5f3bd0c2 ]] {\r\n",
       "}\r\n",
       "comp usage \"A1  \" as E4  <<(T,blue) action>> [[psysml:f539a78a-befd-4456-a49f-f3788a07e7bd ]] {\r\n",
       "}\r\n",
       "comp usage \"A2  \" as E5  <<(T,blue) action>> [[psysml:451b6b51-1ae2-4b81-be73-8fe0566d61d5 ]] {\r\n",
       "}\r\n",
       "comp usage \"A3  \" as E6  <<(T,blue) action>> [[psysml:04e53eda-a597-4a9c-96a9-348d67cb9847 ]] {\r\n",
       "}\r\n",
       "E1 *- - E2 [[psysml:0a57c05e-4dd3-44ad-ba12-51402458bbf0 ]] \r\n",
       "E2 - -> E3 [[psysml:df8d299f-9da3-41cd-a9dd-6e3a0d30decc ]] \r\n",
       "E1 *- - E3 [[psysml:5efd2738-c984-493d-a46e-1379d8b8bf4b ]] \r\n",
       "E1 *- - E4 [[psysml:867ae522-9684-4034-9c56-5f70d3a76b09 ]] \r\n",
       "E1 *- - E5 [[psysml:e0e8ad72-4177-4702-a62e-bf2c3ff4a78a ]] \r\n",
       "E1 *- - E6 [[psysml:3e72a653-2f0b-4c94-896a-b70e2d6f389f ]] \r\n",
       "@enduml\r\n",
       "\n",
       "PlantUML version 1.2022.7(Mon Aug 22 17:01:30 UTC 2022)\n",
       "(EPL source distribution)\n",
       "Java Runtime: OpenJDK Runtime Environment\n",
       "JVM: OpenJDK 64-Bit Server VM\n",
       "Default Encoding: UTF-8\n",
       "Language: en\n",
       "Country: null\n",
       "--></g></svg>"
      ]
     },
     "execution_count": 24,
     "metadata": {},
     "output_type": "execute_result"
    }
   ],
   "source": [
    "%viz --style=\"STDCOLOR\" --view=\"Tree\" \"DecisionTest\""
   ]
  },
  {
   "cell_type": "code",
   "execution_count": 25,
   "id": "5c5bba7a",
   "metadata": {
    "execution": {
     "iopub.execute_input": "2024-12-16T03:28:02.085736Z",
     "iopub.status.busy": "2024-12-16T03:28:02.085492Z",
     "iopub.status.idle": "2024-12-16T03:28:02.103117Z",
     "shell.execute_reply": "2024-12-16T03:28:02.102931Z"
    }
   },
   "outputs": [
    {
     "data": {
      "image/svg+xml": [
       "<?xml version=\"1.0\" encoding=\"UTF-8\" standalone=\"no\"?><svg xmlns=\"http://www.w3.org/2000/svg\" xmlns:xlink=\"http://www.w3.org/1999/xlink\" contentStyleType=\"text/css\" height=\"10px\" preserveAspectRatio=\"none\" style=\"width:10px;height:10px;background:#FFFFFF;\" version=\"1.1\" viewBox=\"0 0 10 10\" width=\"10px\" zoomAndPan=\"magnify\"><defs/><g><!--MD5=[a1048f16c75022af837d4b7065e6f600]\n",
       "@startuml\r\n",
       "skin sysmlc\r\n",
       "skinparam wrapWidth 300\r\n",
       "hide circle\r\n",
       "\r\n",
       "@enduml\r\n",
       "\n",
       "PlantUML version 1.2022.7(Mon Aug 22 17:01:30 UTC 2022)\n",
       "(EPL source distribution)\n",
       "Java Runtime: OpenJDK Runtime Environment\n",
       "JVM: OpenJDK 64-Bit Server VM\n",
       "Default Encoding: UTF-8\n",
       "Language: en\n",
       "Country: null\n",
       "--></g></svg>"
      ]
     },
     "execution_count": 25,
     "metadata": {},
     "output_type": "execute_result"
    }
   ],
   "source": [
    "%viz --style=\"STDCOLOR\" --view=\"State\" \"DecisionTest\""
   ]
  },
  {
   "cell_type": "code",
   "execution_count": 26,
   "id": "1091eb24",
   "metadata": {
    "execution": {
     "iopub.execute_input": "2024-12-16T03:28:02.158702Z",
     "iopub.status.busy": "2024-12-16T03:28:02.158504Z",
     "iopub.status.idle": "2024-12-16T03:28:02.178497Z",
     "shell.execute_reply": "2024-12-16T03:28:02.177740Z"
    }
   },
   "outputs": [
    {
     "data": {
      "image/svg+xml": [
       "<?xml version=\"1.0\" encoding=\"UTF-8\" standalone=\"no\"?><svg xmlns=\"http://www.w3.org/2000/svg\" xmlns:xlink=\"http://www.w3.org/1999/xlink\" contentStyleType=\"text/css\" height=\"344px\" preserveAspectRatio=\"none\" style=\"width:334px;height:344px;background:#FFFFFF;\" version=\"1.1\" viewBox=\"0 0 334 344\" width=\"334px\" zoomAndPan=\"magnify\"><defs><filter height=\"300%\" id=\"f1njge4w2kgct7\" width=\"300%\" x=\"-1\" y=\"-1\"><feGaussianBlur result=\"blurOut\" stdDeviation=\"2.0\"/><feColorMatrix in=\"blurOut\" result=\"blurOut2\" type=\"matrix\" values=\"0 0 0 0 0 0 0 0 0 0 0 0 0 0 0 0 0 0 .4 0\"/><feOffset dx=\"4.0\" dy=\"4.0\" in=\"blurOut2\" result=\"blurOut3\"/><feBlend in=\"SourceGraphic\" in2=\"blurOut3\" mode=\"normal\"/></filter></defs><g><!--MD5=[fbc87193dbaf4d95561dea2c320d4a47]\n",
       "cluster E1--><g id=\"cluster_E1\"><a href=\"psysml:24509d73-250a-487a-bcd7-b59ee0863fbf\" target=\"_top\" title=\"psysml:24509d73-250a-487a-bcd7-b59ee0863fbf\" xlink:actuate=\"onRequest\" xlink:href=\"psysml:24509d73-250a-487a-bcd7-b59ee0863fbf\" xlink:show=\"new\" xlink:title=\"psysml:24509d73-250a-487a-bcd7-b59ee0863fbf\" xlink:type=\"simple\"><rect fill=\"#FFFFFF\" filter=\"url(#f1njge4w2kgct7)\" height=\"325\" id=\"E1\" style=\"stroke:#A80036;stroke-width:1.5;\" width=\"315\" x=\"7\" y=\"7\"/><rect fill=\"#FFFACD\" height=\"40.2656\" style=\"stroke:#A80036;stroke-width:1.5;\" width=\"315\" x=\"7\" y=\"7\"/><text fill=\"#000000\" font-family=\"sans-serif\" font-size=\"12\" font-style=\"italic\" lengthAdjust=\"spacing\" textLength=\"81\" x=\"124\" y=\"23.1387\">«action  def»</text><text fill=\"#000000\" font-family=\"sans-serif\" font-size=\"14\" lengthAdjust=\"spacing\" textLength=\"91\" x=\"119\" y=\"38.9639\">DecisionTest</text></a></g><g id=\"elem_E2\"><polygon fill=\"#FFFACD\" filter=\"url(#f1njge4w2kgct7)\" points=\"210,58,222,70,210,82,198,70,210,58\" style=\"stroke:#181818;stroke-width:0.5;\"/></g><g id=\"elem_E3\"><polygon fill=\"#FFFACD\" filter=\"url(#f1njge4w2kgct7)\" points=\"35,125.5,47,137.5,35,149.5,23,137.5,35,125.5\" style=\"stroke:#181818;stroke-width:0.5;\"/></g><g><a href=\"psysml:f539a78a-befd-4456-a49f-f3788a07e7bd\" target=\"_top\" title=\"psysml:f539a78a-befd-4456-a49f-f3788a07e7bd\" xlink:actuate=\"onRequest\" xlink:href=\"psysml:f539a78a-befd-4456-a49f-f3788a07e7bd\" xlink:show=\"new\" xlink:title=\"psysml:f539a78a-befd-4456-a49f-f3788a07e7bd\" xlink:type=\"simple\"><rect fill=\"#FFFACD\" filter=\"url(#f1njge4w2kgct7)\" height=\"45.2656\" id=\"E4\" rx=\"10\" ry=\"10\" style=\"stroke:#A80036;stroke-width:1.5;\" width=\"60\" x=\"135\" y=\"193\"/><text fill=\"#000000\" font-family=\"sans-serif\" font-size=\"12\" font-style=\"italic\" lengthAdjust=\"spacing\" textLength=\"53\" x=\"138.5\" y=\"209.1387\">«action»</text><text fill=\"#000000\" font-family=\"sans-serif\" font-size=\"14\" lengthAdjust=\"spacing\" textLength=\"18\" x=\"156\" y=\"224.9639\">A1</text></a></g><g><a href=\"psysml:451b6b51-1ae2-4b81-be73-8fe0566d61d5\" target=\"_top\" title=\"psysml:451b6b51-1ae2-4b81-be73-8fe0566d61d5\" xlink:actuate=\"onRequest\" xlink:href=\"psysml:451b6b51-1ae2-4b81-be73-8fe0566d61d5\" xlink:show=\"new\" xlink:title=\"psysml:451b6b51-1ae2-4b81-be73-8fe0566d61d5\" xlink:type=\"simple\"><rect fill=\"#FFFACD\" filter=\"url(#f1njge4w2kgct7)\" height=\"45.2656\" id=\"E5\" rx=\"10\" ry=\"10\" style=\"stroke:#A80036;stroke-width:1.5;\" width=\"60\" x=\"135\" y=\"271\"/><text fill=\"#000000\" font-family=\"sans-serif\" font-size=\"12\" font-style=\"italic\" lengthAdjust=\"spacing\" textLength=\"53\" x=\"138.5\" y=\"287.1387\">«action»</text><text fill=\"#000000\" font-family=\"sans-serif\" font-size=\"14\" lengthAdjust=\"spacing\" textLength=\"18\" x=\"156\" y=\"302.9639\">A2</text></a></g><g><a href=\"psysml:04e53eda-a597-4a9c-96a9-348d67cb9847\" target=\"_top\" title=\"psysml:04e53eda-a597-4a9c-96a9-348d67cb9847\" xlink:actuate=\"onRequest\" xlink:href=\"psysml:04e53eda-a597-4a9c-96a9-348d67cb9847\" xlink:show=\"new\" xlink:title=\"psysml:04e53eda-a597-4a9c-96a9-348d67cb9847\" xlink:type=\"simple\"><rect fill=\"#FFFACD\" filter=\"url(#f1njge4w2kgct7)\" height=\"45.2656\" id=\"E6\" rx=\"10\" ry=\"10\" style=\"stroke:#A80036;stroke-width:1.5;\" width=\"60\" x=\"246\" y=\"115\"/><text fill=\"#000000\" font-family=\"sans-serif\" font-size=\"12\" font-style=\"italic\" lengthAdjust=\"spacing\" textLength=\"53\" x=\"249.5\" y=\"131.1387\">«action»</text><text fill=\"#000000\" font-family=\"sans-serif\" font-size=\"14\" lengthAdjust=\"spacing\" textLength=\"18\" x=\"267\" y=\"146.9639\">A3</text></a></g><!--MD5=[4d03bb2d0377dc85ccfab60ff574652b]\n",
       "link E2 to E4--><g id=\"link_E2_E4\"><a href=\"psysml:0e1095c8-d4f6-4449-8c10-0793e56d6528\" target=\"_top\" title=\"psysml:0e1095c8-d4f6-4449-8c10-0793e56d6528\" xlink:actuate=\"onRequest\" xlink:href=\"psysml:0e1095c8-d4f6-4449-8c10-0793e56d6528\" xlink:show=\"new\" xlink:title=\"psysml:0e1095c8-d4f6-4449-8c10-0793e56d6528\" xlink:type=\"simple\"><path d=\"M201.56,73.67 C186.72,78.87 156.35,91.93 144,115 C131.76,137.86 140.48,167.25 150.14,188.14 \" fill=\"none\" id=\"E2-to-E4\" style=\"stroke:#181818;stroke-width:1.0;\"/><polygon fill=\"#181818\" points=\"152.34,192.73,152.0687,182.8849,150.1842,188.2186,144.8505,186.3341,152.34,192.73\" style=\"stroke:#181818;stroke-width:1.0;\"/><text fill=\"#000000\" font-family=\"sans-serif\" font-size=\"13\" lengthAdjust=\"spacing\" textLength=\"55\" x=\"145\" y=\"142.0669\">[x == 1]</text></a></g><!--MD5=[dcad52bbbca2fe8adc741ce38b45dc12]\n",
       "link E2 to E5--><g id=\"link_E2_E5\"><a href=\"psysml:0bc69c08-a059-419e-b618-d454e4819a50\" target=\"_top\" title=\"psysml:0bc69c08-a059-419e-b618-d454e4819a50\" xlink:actuate=\"onRequest\" xlink:href=\"psysml:0bc69c08-a059-419e-b618-d454e4819a50\" xlink:show=\"new\" xlink:title=\"psysml:0bc69c08-a059-419e-b618-d454e4819a50\" xlink:type=\"simple\"><path d=\"M211.15,80.86 C215.56,119.01 230.89,255.21 226,263 C220.04,272.51 210.05,279.02 199.86,283.46 \" fill=\"none\" id=\"E2-to-E5\" style=\"stroke:#181818;stroke-width:1.0;\"/><polygon fill=\"#181818\" points=\"195.18,285.36,205.0232,285.6948,199.8154,283.4858,202.0244,278.2781,195.18,285.36\" style=\"stroke:#181818;stroke-width:1.0;\"/><text fill=\"#000000\" font-family=\"sans-serif\" font-size=\"13\" lengthAdjust=\"spacing\" textLength=\"44\" x=\"223\" y=\"181.0669\">[x &gt; 1]</text></a></g><!--MD5=[e3e28c1befcf002155aa15e1416b4315]\n",
       "link E2 to E6--><g id=\"link_E2_E6\"><a href=\"psysml:7bfaba1c-8598-44bd-a9fd-5f850f0b7fd7\" target=\"_top\" title=\"psysml:7bfaba1c-8598-44bd-a9fd-5f850f0b7fd7\" xlink:actuate=\"onRequest\" xlink:href=\"psysml:7bfaba1c-8598-44bd-a9fd-5f850f0b7fd7\" xlink:show=\"new\" xlink:title=\"psysml:7bfaba1c-8598-44bd-a9fd-5f850f0b7fd7\" xlink:type=\"simple\"><path d=\"M211.52,80.5 C213.19,88.35 216.54,99.41 223,107 C227.99,112.87 234.45,117.79 241.14,121.83 \" fill=\"none\" id=\"E2-to-E6\" style=\"stroke:#181818;stroke-width:1.0;\"/><polygon fill=\"#181818\" points=\"245.79,124.48,239.966,116.5377,241.4505,121.9962,235.992,123.4808,245.79,124.48\" style=\"stroke:#181818;stroke-width:1.0;\"/></a></g><!--MD5=[2351f337d6de0f557b50152ba70847b5]\n",
       "link E6 to E2--><g id=\"link_E6_E2\"><a href=\"psysml:31538477-4a34-40a9-aec8-5df805757767\" target=\"_top\" title=\"psysml:31538477-4a34-40a9-aec8-5df805757767\" xlink:actuate=\"onRequest\" xlink:href=\"psysml:31538477-4a34-40a9-aec8-5df805757767\" xlink:show=\"new\" xlink:title=\"psysml:31538477-4a34-40a9-aec8-5df805757767\" xlink:type=\"simple\"><path d=\"M254.23,114.89 C242.53,103.28 228.69,89.55 219.65,80.58 \" fill=\"none\" id=\"E6-to-E2\" style=\"stroke:#181818;stroke-width:1.0;\"/><polygon fill=\"#181818\" points=\"215.63,76.58,219.2026,85.7581,219.1798,80.1012,224.8366,80.0784,215.63,76.58\" style=\"stroke:#181818;stroke-width:1.0;\"/><text fill=\"#000000\" font-family=\"sans-serif\" font-size=\"13\" lengthAdjust=\"spacing\" textLength=\"44\" x=\"245\" y=\"103.0669\">[x &gt; 0]</text></a></g><!--MD5=[2720a5a1f2c3fca2055b230370638851]\n",
       "link E2 to E3--><g id=\"link_E2_E3\"><a href=\"psysml:df8d299f-9da3-41cd-a9dd-6e3a0d30decc\" target=\"_top\" title=\"psysml:df8d299f-9da3-41cd-a9dd-6e3a0d30decc\" xlink:actuate=\"onRequest\" xlink:href=\"psysml:df8d299f-9da3-41cd-a9dd-6e3a0d30decc\" xlink:show=\"new\" xlink:title=\"psysml:df8d299f-9da3-41cd-a9dd-6e3a0d30decc\" xlink:type=\"simple\"><path d=\"M199.51,71.63 C180.6,73.06 139.84,77.44 108,90 C83.89,99.51 59.12,117.32 45.54,127.92 \" fill=\"none\" id=\"E2-to-E3\" style=\"stroke:#181818;stroke-width:1.0;\"/><polygon fill=\"#181818\" points=\"41.37,131.22,50.9131,128.785,45.2951,128.1227,45.9574,122.5048,41.37,131.22\" style=\"stroke:#181818;stroke-width:1.0;\"/></a></g><!--MD5=[af87c684e3b0d8be13c1a698a818ef1e]\n",
       "link E3 to E4--><g id=\"link_E3_E4\"><a href=\"psysml:131b15c1-7866-4964-88c1-b03f264417a9\" target=\"_top\" title=\"psysml:131b15c1-7866-4964-88c1-b03f264417a9\" xlink:actuate=\"onRequest\" xlink:href=\"psysml:131b15c1-7866-4964-88c1-b03f264417a9\" xlink:show=\"new\" xlink:title=\"psysml:131b15c1-7866-4964-88c1-b03f264417a9\" xlink:type=\"simple\"><path d=\"M40.06,144.83 C48.28,154.73 65.5,173.9 84,185 C93.64,190.79 97.4,189.24 108,193 C115.13,195.53 122.72,198.32 129.96,201.04 \" fill=\"none\" id=\"E3-to-E4\" style=\"stroke:#181818;stroke-width:1.0;\"/><polygon fill=\"#181818\" points=\"134.91,202.9,127.8875,195.9946,130.2284,201.1444,125.0785,203.4852,134.91,202.9\" style=\"stroke:#181818;stroke-width:1.0;\"/><text fill=\"#000000\" font-family=\"sans-serif\" font-size=\"13\" lengthAdjust=\"spacing\" textLength=\"36\" x=\"85\" y=\"181.0669\">[true]</text></a></g><!--MD5=[0188b64bb0ae78505a997a81836e11e9]\n",
       "link E3 to E5--><g id=\"link_E3_E5\"><a href=\"psysml:825f54b9-3c70-45c0-b332-e5b9a5c4b905\" target=\"_top\" title=\"psysml:825f54b9-3c70-45c0-b332-e5b9a5c4b905\" xlink:actuate=\"onRequest\" xlink:href=\"psysml:825f54b9-3c70-45c0-b332-e5b9a5c4b905\" xlink:show=\"new\" xlink:title=\"psysml:825f54b9-3c70-45c0-b332-e5b9a5c4b905\" xlink:type=\"simple\"><path d=\"M36.78,147.75 C40.81,166.63 52.2,210.17 76,238 C90.65,255.14 112.09,268.49 130.26,277.69 \" fill=\"none\" id=\"E3-to-E5\" style=\"stroke:#181818;stroke-width:1.0;\"/><polygon fill=\"#181818\" points=\"134.8,279.94,128.5293,272.3454,130.325,277.7097,124.9607,279.5054,134.8,279.94\" style=\"stroke:#181818;stroke-width:1.0;\"/><text fill=\"#000000\" font-family=\"sans-serif\" font-size=\"13\" lengthAdjust=\"spacing\" textLength=\"40\" x=\"77\" y=\"220.0669\">[false]</text></a></g><!--MD5=[1b7591eae5389033d8d09a9d6721a717]\n",
       "link E4 to E5--><g id=\"link_E4_E5\"><a href=\"psysml:b3779ea1-0b8c-4465-ae00-48dbba13ac92\" target=\"_top\" title=\"psysml:b3779ea1-0b8c-4465-ae00-48dbba13ac92\" xlink:actuate=\"onRequest\" xlink:href=\"psysml:b3779ea1-0b8c-4465-ae00-48dbba13ac92\" xlink:show=\"new\" xlink:title=\"psysml:b3779ea1-0b8c-4465-ae00-48dbba13ac92\" xlink:type=\"simple\"><path d=\"M165,238.08 C165,246.66 165,256.63 165,265.67 \" fill=\"none\" id=\"E4-to-E5\" style=\"stroke:#181818;stroke-width:1.0;\"/><polygon fill=\"#181818\" points=\"165,270.87,169,261.87,165,265.87,161,261.87,165,270.87\" style=\"stroke:#181818;stroke-width:1.0;\"/><text fill=\"#000000\" font-family=\"sans-serif\" font-size=\"13\" lengthAdjust=\"spacing\" textLength=\"55\" x=\"166\" y=\"259.0669\">[x == 0]</text></a></g><!--MD5=[e68171e31db78267729d2e064f3b30b8]\n",
       "@startuml\r\n",
       "skin sysmlc\r\n",
       "skinparam wrapWidth 300\r\n",
       "hide circle\r\n",
       "skinparam ranksep 10\r\n",
       "skinparam rectangle {\r\n",
       " backgroundColor<<block>> LightGreen\r\n",
       "}\r\n",
       "\r\n",
       "rec def \"DecisionTest\" as E1  <<(T,blue) action  def>> [[psysml:24509d73-250a-487a-bcd7-b59ee0863fbf ]] {\r\n",
       "choice \"test x\" as E2  [[psysml:7d99bd45-3b62-4bbf-b126-0db5f71d3136 ]] \r\n",
       "choice \"<s>noname</s>\" as E3  [[psysml:6dee609b-d6ae-4161-97b9-077c5f3bd0c2 ]] \r\n",
       "rec usage \"A1\" as E4  <<(T,blue) action>> [[psysml:f539a78a-befd-4456-a49f-f3788a07e7bd ]] {\r\n",
       "}\r\n",
       "\r\n",
       "rec usage \"A2\" as E5  <<(T,blue) action>> [[psysml:451b6b51-1ae2-4b81-be73-8fe0566d61d5 ]] {\r\n",
       "}\r\n",
       "\r\n",
       "rec usage \"A3\" as E6  <<(T,blue) action>> [[psysml:04e53eda-a597-4a9c-96a9-348d67cb9847 ]] {\r\n",
       "}\r\n",
       "\r\n",
       "}\r\n",
       "\r\n",
       "E2  - -> E4 [[psysml:0e1095c8-d4f6-4449-8c10-0793e56d6528 ]] : [x == 1]\r\n",
       "E2  - -> E5 [[psysml:0bc69c08-a059-419e-b618-d454e4819a50 ]] : [x > 1]\r\n",
       "E2  - -> E6 [[psysml:7bfaba1c-8598-44bd-a9fd-5f850f0b7fd7 ]] \r\n",
       "E2 - -> E3 [[psysml:df8d299f-9da3-41cd-a9dd-6e3a0d30decc ]] \r\n",
       "E3  - -> E4 [[psysml:131b15c1-7866-4964-88c1-b03f264417a9 ]] : [true]\r\n",
       "E3  - -> E5 [[psysml:825f54b9-3c70-45c0-b332-e5b9a5c4b905 ]] : [false]\r\n",
       "E4  - -> E5 [[psysml:b3779ea1-0b8c-4465-ae00-48dbba13ac92 ]] : [x == 0]\r\n",
       "E6  - -> E2 [[psysml:31538477-4a34-40a9-aec8-5df805757767 ]] : [x > 0]\r\n",
       "@enduml\r\n",
       "\n",
       "PlantUML version 1.2022.7(Mon Aug 22 17:01:30 UTC 2022)\n",
       "(EPL source distribution)\n",
       "Java Runtime: OpenJDK Runtime Environment\n",
       "JVM: OpenJDK 64-Bit Server VM\n",
       "Default Encoding: UTF-8\n",
       "Language: en\n",
       "Country: null\n",
       "--></g></svg>"
      ]
     },
     "execution_count": 26,
     "metadata": {},
     "output_type": "execute_result"
    }
   ],
   "source": [
    "%viz --style=\"STDCOLOR\" --view=\"Interconnection\" \"DecisionTest\""
   ]
  },
  {
   "cell_type": "code",
   "execution_count": 27,
   "id": "8a769225",
   "metadata": {
    "execution": {
     "iopub.execute_input": "2024-12-16T03:28:02.235420Z",
     "iopub.status.busy": "2024-12-16T03:28:02.235136Z",
     "iopub.status.idle": "2024-12-16T03:28:02.255735Z",
     "shell.execute_reply": "2024-12-16T03:28:02.254841Z"
    }
   },
   "outputs": [
    {
     "data": {
      "image/svg+xml": [
       "<?xml version=\"1.0\" encoding=\"UTF-8\" standalone=\"no\"?><svg xmlns=\"http://www.w3.org/2000/svg\" xmlns:xlink=\"http://www.w3.org/1999/xlink\" contentStyleType=\"text/css\" height=\"344px\" preserveAspectRatio=\"none\" style=\"width:334px;height:344px;background:#FFFFFF;\" version=\"1.1\" viewBox=\"0 0 334 344\" width=\"334px\" zoomAndPan=\"magnify\"><defs><filter height=\"300%\" id=\"f1qcdl2evx7tdb\" width=\"300%\" x=\"-1\" y=\"-1\"><feGaussianBlur result=\"blurOut\" stdDeviation=\"2.0\"/><feColorMatrix in=\"blurOut\" result=\"blurOut2\" type=\"matrix\" values=\"0 0 0 0 0 0 0 0 0 0 0 0 0 0 0 0 0 0 .4 0\"/><feOffset dx=\"4.0\" dy=\"4.0\" in=\"blurOut2\" result=\"blurOut3\"/><feBlend in=\"SourceGraphic\" in2=\"blurOut3\" mode=\"normal\"/></filter></defs><g><!--MD5=[fbc87193dbaf4d95561dea2c320d4a47]\n",
       "cluster E1--><g id=\"cluster_E1\"><a href=\"psysml:24509d73-250a-487a-bcd7-b59ee0863fbf\" target=\"_top\" title=\"psysml:24509d73-250a-487a-bcd7-b59ee0863fbf\" xlink:actuate=\"onRequest\" xlink:href=\"psysml:24509d73-250a-487a-bcd7-b59ee0863fbf\" xlink:show=\"new\" xlink:title=\"psysml:24509d73-250a-487a-bcd7-b59ee0863fbf\" xlink:type=\"simple\"><rect fill=\"#FFFFFF\" filter=\"url(#f1qcdl2evx7tdb)\" height=\"325\" id=\"E1\" style=\"stroke:#A80036;stroke-width:1.5;\" width=\"315\" x=\"7\" y=\"7\"/><rect fill=\"#FFFACD\" height=\"40.2656\" style=\"stroke:#A80036;stroke-width:1.5;\" width=\"315\" x=\"7\" y=\"7\"/><text fill=\"#000000\" font-family=\"sans-serif\" font-size=\"12\" font-style=\"italic\" lengthAdjust=\"spacing\" textLength=\"81\" x=\"124\" y=\"23.1387\">«action  def»</text><text fill=\"#000000\" font-family=\"sans-serif\" font-size=\"14\" lengthAdjust=\"spacing\" textLength=\"91\" x=\"119\" y=\"38.9639\">DecisionTest</text></a></g><g id=\"elem_E2\"><polygon fill=\"#FFFACD\" filter=\"url(#f1qcdl2evx7tdb)\" points=\"210,58,222,70,210,82,198,70,210,58\" style=\"stroke:#181818;stroke-width:0.5;\"/></g><g id=\"elem_E3\"><polygon fill=\"#FFFACD\" filter=\"url(#f1qcdl2evx7tdb)\" points=\"35,125.5,47,137.5,35,149.5,23,137.5,35,125.5\" style=\"stroke:#181818;stroke-width:0.5;\"/></g><g><a href=\"psysml:f539a78a-befd-4456-a49f-f3788a07e7bd\" target=\"_top\" title=\"psysml:f539a78a-befd-4456-a49f-f3788a07e7bd\" xlink:actuate=\"onRequest\" xlink:href=\"psysml:f539a78a-befd-4456-a49f-f3788a07e7bd\" xlink:show=\"new\" xlink:title=\"psysml:f539a78a-befd-4456-a49f-f3788a07e7bd\" xlink:type=\"simple\"><rect fill=\"#FFFACD\" filter=\"url(#f1qcdl2evx7tdb)\" height=\"45.2656\" id=\"E4\" rx=\"10\" ry=\"10\" style=\"stroke:#A80036;stroke-width:1.5;\" width=\"60\" x=\"135\" y=\"193\"/><text fill=\"#000000\" font-family=\"sans-serif\" font-size=\"12\" font-style=\"italic\" lengthAdjust=\"spacing\" textLength=\"53\" x=\"138.5\" y=\"209.1387\">«action»</text><text fill=\"#000000\" font-family=\"sans-serif\" font-size=\"14\" lengthAdjust=\"spacing\" textLength=\"18\" x=\"156\" y=\"224.9639\">A1</text></a></g><g><a href=\"psysml:451b6b51-1ae2-4b81-be73-8fe0566d61d5\" target=\"_top\" title=\"psysml:451b6b51-1ae2-4b81-be73-8fe0566d61d5\" xlink:actuate=\"onRequest\" xlink:href=\"psysml:451b6b51-1ae2-4b81-be73-8fe0566d61d5\" xlink:show=\"new\" xlink:title=\"psysml:451b6b51-1ae2-4b81-be73-8fe0566d61d5\" xlink:type=\"simple\"><rect fill=\"#FFFACD\" filter=\"url(#f1qcdl2evx7tdb)\" height=\"45.2656\" id=\"E5\" rx=\"10\" ry=\"10\" style=\"stroke:#A80036;stroke-width:1.5;\" width=\"60\" x=\"135\" y=\"271\"/><text fill=\"#000000\" font-family=\"sans-serif\" font-size=\"12\" font-style=\"italic\" lengthAdjust=\"spacing\" textLength=\"53\" x=\"138.5\" y=\"287.1387\">«action»</text><text fill=\"#000000\" font-family=\"sans-serif\" font-size=\"14\" lengthAdjust=\"spacing\" textLength=\"18\" x=\"156\" y=\"302.9639\">A2</text></a></g><g><a href=\"psysml:04e53eda-a597-4a9c-96a9-348d67cb9847\" target=\"_top\" title=\"psysml:04e53eda-a597-4a9c-96a9-348d67cb9847\" xlink:actuate=\"onRequest\" xlink:href=\"psysml:04e53eda-a597-4a9c-96a9-348d67cb9847\" xlink:show=\"new\" xlink:title=\"psysml:04e53eda-a597-4a9c-96a9-348d67cb9847\" xlink:type=\"simple\"><rect fill=\"#FFFACD\" filter=\"url(#f1qcdl2evx7tdb)\" height=\"45.2656\" id=\"E6\" rx=\"10\" ry=\"10\" style=\"stroke:#A80036;stroke-width:1.5;\" width=\"60\" x=\"246\" y=\"115\"/><text fill=\"#000000\" font-family=\"sans-serif\" font-size=\"12\" font-style=\"italic\" lengthAdjust=\"spacing\" textLength=\"53\" x=\"249.5\" y=\"131.1387\">«action»</text><text fill=\"#000000\" font-family=\"sans-serif\" font-size=\"14\" lengthAdjust=\"spacing\" textLength=\"18\" x=\"267\" y=\"146.9639\">A3</text></a></g><!--MD5=[4d03bb2d0377dc85ccfab60ff574652b]\n",
       "link E2 to E4--><g id=\"link_E2_E4\"><a href=\"psysml:0e1095c8-d4f6-4449-8c10-0793e56d6528\" target=\"_top\" title=\"psysml:0e1095c8-d4f6-4449-8c10-0793e56d6528\" xlink:actuate=\"onRequest\" xlink:href=\"psysml:0e1095c8-d4f6-4449-8c10-0793e56d6528\" xlink:show=\"new\" xlink:title=\"psysml:0e1095c8-d4f6-4449-8c10-0793e56d6528\" xlink:type=\"simple\"><path d=\"M201.56,73.67 C186.72,78.87 156.35,91.93 144,115 C131.76,137.86 140.48,167.25 150.14,188.14 \" fill=\"none\" id=\"E2-to-E4\" style=\"stroke:#181818;stroke-width:1.0;stroke-dasharray:7.0,7.0;\"/><polygon fill=\"#181818\" points=\"152.34,192.73,152.0687,182.8849,150.1842,188.2186,144.8505,186.3341,152.34,192.73\" style=\"stroke:#181818;stroke-width:1.0;\"/><text fill=\"#000000\" font-family=\"sans-serif\" font-size=\"13\" lengthAdjust=\"spacing\" textLength=\"55\" x=\"145\" y=\"142.0669\">[x == 1]</text></a></g><!--MD5=[dcad52bbbca2fe8adc741ce38b45dc12]\n",
       "link E2 to E5--><g id=\"link_E2_E5\"><a href=\"psysml:0bc69c08-a059-419e-b618-d454e4819a50\" target=\"_top\" title=\"psysml:0bc69c08-a059-419e-b618-d454e4819a50\" xlink:actuate=\"onRequest\" xlink:href=\"psysml:0bc69c08-a059-419e-b618-d454e4819a50\" xlink:show=\"new\" xlink:title=\"psysml:0bc69c08-a059-419e-b618-d454e4819a50\" xlink:type=\"simple\"><path d=\"M211.15,80.86 C215.56,119.01 230.89,255.21 226,263 C220.04,272.51 210.05,279.02 199.86,283.46 \" fill=\"none\" id=\"E2-to-E5\" style=\"stroke:#181818;stroke-width:1.0;stroke-dasharray:7.0,7.0;\"/><polygon fill=\"#181818\" points=\"195.18,285.36,205.0232,285.6948,199.8154,283.4858,202.0244,278.2781,195.18,285.36\" style=\"stroke:#181818;stroke-width:1.0;\"/><text fill=\"#000000\" font-family=\"sans-serif\" font-size=\"13\" lengthAdjust=\"spacing\" textLength=\"44\" x=\"223\" y=\"181.0669\">[x &gt; 1]</text></a></g><!--MD5=[e3e28c1befcf002155aa15e1416b4315]\n",
       "link E2 to E6--><g id=\"link_E2_E6\"><a href=\"psysml:7bfaba1c-8598-44bd-a9fd-5f850f0b7fd7\" target=\"_top\" title=\"psysml:7bfaba1c-8598-44bd-a9fd-5f850f0b7fd7\" xlink:actuate=\"onRequest\" xlink:href=\"psysml:7bfaba1c-8598-44bd-a9fd-5f850f0b7fd7\" xlink:show=\"new\" xlink:title=\"psysml:7bfaba1c-8598-44bd-a9fd-5f850f0b7fd7\" xlink:type=\"simple\"><path d=\"M211.52,80.5 C213.19,88.35 216.54,99.41 223,107 C227.99,112.87 234.45,117.79 241.14,121.83 \" fill=\"none\" id=\"E2-to-E6\" style=\"stroke:#181818;stroke-width:1.0;stroke-dasharray:7.0,7.0;\"/><polygon fill=\"#181818\" points=\"245.79,124.48,239.966,116.5377,241.4505,121.9962,235.992,123.4808,245.79,124.48\" style=\"stroke:#181818;stroke-width:1.0;\"/></a></g><!--MD5=[2351f337d6de0f557b50152ba70847b5]\n",
       "link E6 to E2--><g id=\"link_E6_E2\"><a href=\"psysml:31538477-4a34-40a9-aec8-5df805757767\" target=\"_top\" title=\"psysml:31538477-4a34-40a9-aec8-5df805757767\" xlink:actuate=\"onRequest\" xlink:href=\"psysml:31538477-4a34-40a9-aec8-5df805757767\" xlink:show=\"new\" xlink:title=\"psysml:31538477-4a34-40a9-aec8-5df805757767\" xlink:type=\"simple\"><path d=\"M254.23,114.89 C242.53,103.28 228.69,89.55 219.65,80.58 \" fill=\"none\" id=\"E6-to-E2\" style=\"stroke:#181818;stroke-width:1.0;stroke-dasharray:7.0,7.0;\"/><polygon fill=\"#181818\" points=\"215.63,76.58,219.2026,85.7581,219.1798,80.1012,224.8366,80.0784,215.63,76.58\" style=\"stroke:#181818;stroke-width:1.0;\"/><text fill=\"#000000\" font-family=\"sans-serif\" font-size=\"13\" lengthAdjust=\"spacing\" textLength=\"44\" x=\"245\" y=\"103.0669\">[x &gt; 0]</text></a></g><!--MD5=[2720a5a1f2c3fca2055b230370638851]\n",
       "link E2 to E3--><g id=\"link_E2_E3\"><a href=\"psysml:df8d299f-9da3-41cd-a9dd-6e3a0d30decc\" target=\"_top\" title=\"psysml:df8d299f-9da3-41cd-a9dd-6e3a0d30decc\" xlink:actuate=\"onRequest\" xlink:href=\"psysml:df8d299f-9da3-41cd-a9dd-6e3a0d30decc\" xlink:show=\"new\" xlink:title=\"psysml:df8d299f-9da3-41cd-a9dd-6e3a0d30decc\" xlink:type=\"simple\"><path d=\"M199.51,71.63 C180.6,73.06 139.84,77.44 108,90 C83.89,99.51 59.12,117.32 45.54,127.92 \" fill=\"none\" id=\"E2-to-E3\" style=\"stroke:#181818;stroke-width:1.0;stroke-dasharray:7.0,7.0;\"/><polygon fill=\"#181818\" points=\"41.37,131.22,50.9131,128.785,45.2951,128.1227,45.9574,122.5048,41.37,131.22\" style=\"stroke:#181818;stroke-width:1.0;\"/></a></g><!--MD5=[af87c684e3b0d8be13c1a698a818ef1e]\n",
       "link E3 to E4--><g id=\"link_E3_E4\"><a href=\"psysml:131b15c1-7866-4964-88c1-b03f264417a9\" target=\"_top\" title=\"psysml:131b15c1-7866-4964-88c1-b03f264417a9\" xlink:actuate=\"onRequest\" xlink:href=\"psysml:131b15c1-7866-4964-88c1-b03f264417a9\" xlink:show=\"new\" xlink:title=\"psysml:131b15c1-7866-4964-88c1-b03f264417a9\" xlink:type=\"simple\"><path d=\"M40.06,144.83 C48.28,154.73 65.5,173.9 84,185 C93.64,190.79 97.4,189.24 108,193 C115.13,195.53 122.72,198.32 129.96,201.04 \" fill=\"none\" id=\"E3-to-E4\" style=\"stroke:#181818;stroke-width:1.0;stroke-dasharray:7.0,7.0;\"/><polygon fill=\"#181818\" points=\"134.91,202.9,127.8875,195.9946,130.2284,201.1444,125.0785,203.4852,134.91,202.9\" style=\"stroke:#181818;stroke-width:1.0;\"/><text fill=\"#000000\" font-family=\"sans-serif\" font-size=\"13\" lengthAdjust=\"spacing\" textLength=\"36\" x=\"85\" y=\"181.0669\">[true]</text></a></g><!--MD5=[0188b64bb0ae78505a997a81836e11e9]\n",
       "link E3 to E5--><g id=\"link_E3_E5\"><a href=\"psysml:825f54b9-3c70-45c0-b332-e5b9a5c4b905\" target=\"_top\" title=\"psysml:825f54b9-3c70-45c0-b332-e5b9a5c4b905\" xlink:actuate=\"onRequest\" xlink:href=\"psysml:825f54b9-3c70-45c0-b332-e5b9a5c4b905\" xlink:show=\"new\" xlink:title=\"psysml:825f54b9-3c70-45c0-b332-e5b9a5c4b905\" xlink:type=\"simple\"><path d=\"M36.78,147.75 C40.81,166.63 52.2,210.17 76,238 C90.65,255.14 112.09,268.49 130.26,277.69 \" fill=\"none\" id=\"E3-to-E5\" style=\"stroke:#181818;stroke-width:1.0;stroke-dasharray:7.0,7.0;\"/><polygon fill=\"#181818\" points=\"134.8,279.94,128.5293,272.3454,130.325,277.7097,124.9607,279.5054,134.8,279.94\" style=\"stroke:#181818;stroke-width:1.0;\"/><text fill=\"#000000\" font-family=\"sans-serif\" font-size=\"13\" lengthAdjust=\"spacing\" textLength=\"40\" x=\"77\" y=\"220.0669\">[false]</text></a></g><!--MD5=[1b7591eae5389033d8d09a9d6721a717]\n",
       "link E4 to E5--><g id=\"link_E4_E5\"><a href=\"psysml:b3779ea1-0b8c-4465-ae00-48dbba13ac92\" target=\"_top\" title=\"psysml:b3779ea1-0b8c-4465-ae00-48dbba13ac92\" xlink:actuate=\"onRequest\" xlink:href=\"psysml:b3779ea1-0b8c-4465-ae00-48dbba13ac92\" xlink:show=\"new\" xlink:title=\"psysml:b3779ea1-0b8c-4465-ae00-48dbba13ac92\" xlink:type=\"simple\"><path d=\"M165,238.08 C165,246.66 165,256.63 165,265.67 \" fill=\"none\" id=\"E4-to-E5\" style=\"stroke:#181818;stroke-width:1.0;stroke-dasharray:7.0,7.0;\"/><polygon fill=\"#181818\" points=\"165,270.87,169,261.87,165,265.87,161,261.87,165,270.87\" style=\"stroke:#181818;stroke-width:1.0;\"/><text fill=\"#000000\" font-family=\"sans-serif\" font-size=\"13\" lengthAdjust=\"spacing\" textLength=\"55\" x=\"166\" y=\"259.0669\">[x == 0]</text></a></g><!--MD5=[8f97ee785ab3dda7a08ed698e01bc92b]\n",
       "@startuml\r\n",
       "skin sysmlc\r\n",
       "skinparam wrapWidth 300\r\n",
       "hide circle\r\n",
       "skinparam ranksep 8\r\n",
       "\r\n",
       "rec def \"DecisionTest\" as E1  <<(T,blue) action  def>> [[psysml:24509d73-250a-487a-bcd7-b59ee0863fbf ]] {\r\n",
       "choice \"test x\" as E2  [[psysml:7d99bd45-3b62-4bbf-b126-0db5f71d3136 ]] \r\n",
       "choice \"<s>noname</s>\" as E3  [[psysml:6dee609b-d6ae-4161-97b9-077c5f3bd0c2 ]] \r\n",
       "rec usage \"A1\" as E4  <<(T,blue) action>> [[psysml:f539a78a-befd-4456-a49f-f3788a07e7bd ]] {\r\n",
       "}\r\n",
       "\r\n",
       "rec usage \"A2\" as E5  <<(T,blue) action>> [[psysml:451b6b51-1ae2-4b81-be73-8fe0566d61d5 ]] {\r\n",
       "}\r\n",
       "\r\n",
       "rec usage \"A3\" as E6  <<(T,blue) action>> [[psysml:04e53eda-a597-4a9c-96a9-348d67cb9847 ]] {\r\n",
       "}\r\n",
       "\r\n",
       "}\r\n",
       "\r\n",
       "E2 ..> E4 [[psysml:0e1095c8-d4f6-4449-8c10-0793e56d6528 ]] : [x == 1]\r\n",
       "E2 ..> E5 [[psysml:0bc69c08-a059-419e-b618-d454e4819a50 ]] : [x > 1]\r\n",
       "E2 ..> E6 [[psysml:7bfaba1c-8598-44bd-a9fd-5f850f0b7fd7 ]] \r\n",
       "E2 ..> E3 [[psysml:df8d299f-9da3-41cd-a9dd-6e3a0d30decc ]] \r\n",
       "E3 ..> E4 [[psysml:131b15c1-7866-4964-88c1-b03f264417a9 ]] : [true]\r\n",
       "E3 ..> E5 [[psysml:825f54b9-3c70-45c0-b332-e5b9a5c4b905 ]] : [false]\r\n",
       "E4 ..> E5 [[psysml:b3779ea1-0b8c-4465-ae00-48dbba13ac92 ]] : [x == 0]\r\n",
       "E6 ..> E2 [[psysml:31538477-4a34-40a9-aec8-5df805757767 ]] : [x > 0]\r\n",
       "@enduml\r\n",
       "\n",
       "PlantUML version 1.2022.7(Mon Aug 22 17:01:30 UTC 2022)\n",
       "(EPL source distribution)\n",
       "Java Runtime: OpenJDK Runtime Environment\n",
       "JVM: OpenJDK 64-Bit Server VM\n",
       "Default Encoding: UTF-8\n",
       "Language: en\n",
       "Country: null\n",
       "--></g></svg>"
      ]
     },
     "execution_count": 27,
     "metadata": {},
     "output_type": "execute_result"
    }
   ],
   "source": [
    "%viz --style=\"STDCOLOR\" --view=\"Action\" \"DecisionTest\""
   ]
  },
  {
   "cell_type": "code",
   "execution_count": 28,
   "id": "22884746",
   "metadata": {
    "execution": {
     "iopub.execute_input": "2024-12-16T03:28:02.310845Z",
     "iopub.status.busy": "2024-12-16T03:28:02.310587Z",
     "iopub.status.idle": "2024-12-16T03:28:02.326354Z",
     "shell.execute_reply": "2024-12-16T03:28:02.326150Z"
    }
   },
   "outputs": [
    {
     "data": {
      "image/svg+xml": [
       "<?xml version=\"1.0\" encoding=\"UTF-8\" standalone=\"no\"?><svg xmlns=\"http://www.w3.org/2000/svg\" xmlns:xlink=\"http://www.w3.org/1999/xlink\" contentStyleType=\"text/css\" height=\"10px\" preserveAspectRatio=\"none\" style=\"width:10px;height:10px;background:#FFFFFF;\" version=\"1.1\" viewBox=\"0 0 10 10\" width=\"10px\" zoomAndPan=\"magnify\"><defs/><g><!--MD5=[e54413e611bf323face5c486cd3a32bb]\n",
       "@startuml\r\n",
       "skin sysmlc\r\n",
       "skinparam wrapWidth 300\r\n",
       "hide circle\r\n",
       "skinparam roundcorner 20\r\n",
       "skinparam BoxPadding 20\r\n",
       "skinparam SequenceBoxBackgroundColor #white\r\n",
       "skinparam style strictuml\r\n",
       "skinparam maxMessageSize 100\r\n",
       "\r\n",
       "@enduml\r\n",
       "\n",
       "PlantUML version 1.2022.7(Mon Aug 22 17:01:30 UTC 2022)\n",
       "(EPL source distribution)\n",
       "Java Runtime: OpenJDK Runtime Environment\n",
       "JVM: OpenJDK 64-Bit Server VM\n",
       "Default Encoding: UTF-8\n",
       "Language: en\n",
       "Country: null\n",
       "--></g></svg>"
      ]
     },
     "execution_count": 28,
     "metadata": {},
     "output_type": "execute_result"
    }
   ],
   "source": [
    "%viz --style=\"STDCOLOR\" --view=\"Sequence\" \"DecisionTest\""
   ]
  },
  {
   "cell_type": "code",
   "execution_count": 29,
   "id": "8467f968",
   "metadata": {
    "execution": {
     "iopub.execute_input": "2024-12-16T03:28:02.379253Z",
     "iopub.status.busy": "2024-12-16T03:28:02.379035Z",
     "iopub.status.idle": "2024-12-16T03:28:02.400415Z",
     "shell.execute_reply": "2024-12-16T03:28:02.399587Z"
    }
   },
   "outputs": [
    {
     "data": {
      "image/svg+xml": [
       "<?xml version=\"1.0\" encoding=\"UTF-8\" standalone=\"no\"?><svg xmlns=\"http://www.w3.org/2000/svg\" xmlns:xlink=\"http://www.w3.org/1999/xlink\" contentStyleType=\"text/css\" height=\"476px\" preserveAspectRatio=\"none\" style=\"width:334px;height:476px;background:#FFFFFF;\" version=\"1.1\" viewBox=\"0 0 334 476\" width=\"334px\" zoomAndPan=\"magnify\"><defs><filter height=\"300%\" id=\"f3z5ybyf02lei\" width=\"300%\" x=\"-1\" y=\"-1\"><feGaussianBlur result=\"blurOut\" stdDeviation=\"2.0\"/><feColorMatrix in=\"blurOut\" result=\"blurOut2\" type=\"matrix\" values=\"0 0 0 0 0 0 0 0 0 0 0 0 0 0 0 0 0 0 .4 0\"/><feOffset dx=\"4.0\" dy=\"4.0\" in=\"blurOut2\" result=\"blurOut3\"/><feBlend in=\"SourceGraphic\" in2=\"blurOut3\" mode=\"normal\"/></filter></defs><g><!--MD5=[fbc87193dbaf4d95561dea2c320d4a47]\n",
       "cluster E1--><g id=\"cluster_E1\"><a href=\"psysml:24509d73-250a-487a-bcd7-b59ee0863fbf\" target=\"_top\" title=\"psysml:24509d73-250a-487a-bcd7-b59ee0863fbf\" xlink:actuate=\"onRequest\" xlink:href=\"psysml:24509d73-250a-487a-bcd7-b59ee0863fbf\" xlink:show=\"new\" xlink:title=\"psysml:24509d73-250a-487a-bcd7-b59ee0863fbf\" xlink:type=\"simple\"><rect fill=\"#FFFFFF\" filter=\"url(#f3z5ybyf02lei)\" height=\"457\" id=\"E1\" style=\"stroke:#A80036;stroke-width:1.5;\" width=\"315\" x=\"7\" y=\"7\"/><rect fill=\"#FFFACD\" height=\"40.2656\" style=\"stroke:#A80036;stroke-width:1.5;\" width=\"315\" x=\"7\" y=\"7\"/><text fill=\"#000000\" font-family=\"sans-serif\" font-size=\"12\" font-style=\"italic\" lengthAdjust=\"spacing\" textLength=\"81\" x=\"124\" y=\"23.1387\">«action  def»</text><text fill=\"#000000\" font-family=\"sans-serif\" font-size=\"14\" lengthAdjust=\"spacing\" textLength=\"91\" x=\"119\" y=\"38.9639\">DecisionTest</text></a></g><g id=\"elem_E2\"><polygon fill=\"#FFFACD\" filter=\"url(#f3z5ybyf02lei)\" points=\"210,58,222,70,210,82,198,70,210,58\" style=\"stroke:#181818;stroke-width:0.5;\"/></g><g id=\"elem_E3\"><polygon fill=\"#FFFACD\" filter=\"url(#f3z5ybyf02lei)\" points=\"35,169.5,47,181.5,35,193.5,23,181.5,35,169.5\" style=\"stroke:#181818;stroke-width:0.5;\"/></g><g><a href=\"psysml:f539a78a-befd-4456-a49f-f3788a07e7bd\" target=\"_top\" title=\"psysml:f539a78a-befd-4456-a49f-f3788a07e7bd\" xlink:actuate=\"onRequest\" xlink:href=\"psysml:f539a78a-befd-4456-a49f-f3788a07e7bd\" xlink:show=\"new\" xlink:title=\"psysml:f539a78a-befd-4456-a49f-f3788a07e7bd\" xlink:type=\"simple\"><rect fill=\"#FFFACD\" filter=\"url(#f3z5ybyf02lei)\" height=\"45.2656\" id=\"E4\" rx=\"10\" ry=\"10\" style=\"stroke:#A80036;stroke-width:1.5;\" width=\"60\" x=\"135\" y=\"281\"/><text fill=\"#000000\" font-family=\"sans-serif\" font-size=\"12\" font-style=\"italic\" lengthAdjust=\"spacing\" textLength=\"53\" x=\"138.5\" y=\"297.1387\">«action»</text><text fill=\"#000000\" font-family=\"sans-serif\" font-size=\"14\" lengthAdjust=\"spacing\" textLength=\"18\" x=\"156\" y=\"312.9639\">A1</text></a></g><g><a href=\"psysml:451b6b51-1ae2-4b81-be73-8fe0566d61d5\" target=\"_top\" title=\"psysml:451b6b51-1ae2-4b81-be73-8fe0566d61d5\" xlink:actuate=\"onRequest\" xlink:href=\"psysml:451b6b51-1ae2-4b81-be73-8fe0566d61d5\" xlink:show=\"new\" xlink:title=\"psysml:451b6b51-1ae2-4b81-be73-8fe0566d61d5\" xlink:type=\"simple\"><rect fill=\"#FFFACD\" filter=\"url(#f3z5ybyf02lei)\" height=\"45.2656\" id=\"E5\" rx=\"10\" ry=\"10\" style=\"stroke:#A80036;stroke-width:1.5;\" width=\"60\" x=\"135\" y=\"403\"/><text fill=\"#000000\" font-family=\"sans-serif\" font-size=\"12\" font-style=\"italic\" lengthAdjust=\"spacing\" textLength=\"53\" x=\"138.5\" y=\"419.1387\">«action»</text><text fill=\"#000000\" font-family=\"sans-serif\" font-size=\"14\" lengthAdjust=\"spacing\" textLength=\"18\" x=\"156\" y=\"434.9639\">A2</text></a></g><g><a href=\"psysml:04e53eda-a597-4a9c-96a9-348d67cb9847\" target=\"_top\" title=\"psysml:04e53eda-a597-4a9c-96a9-348d67cb9847\" xlink:actuate=\"onRequest\" xlink:href=\"psysml:04e53eda-a597-4a9c-96a9-348d67cb9847\" xlink:show=\"new\" xlink:title=\"psysml:04e53eda-a597-4a9c-96a9-348d67cb9847\" xlink:type=\"simple\"><rect fill=\"#FFFACD\" filter=\"url(#f3z5ybyf02lei)\" height=\"45.2656\" id=\"E6\" rx=\"10\" ry=\"10\" style=\"stroke:#A80036;stroke-width:1.5;\" width=\"60\" x=\"246\" y=\"159\"/><text fill=\"#000000\" font-family=\"sans-serif\" font-size=\"12\" font-style=\"italic\" lengthAdjust=\"spacing\" textLength=\"53\" x=\"249.5\" y=\"175.1387\">«action»</text><text fill=\"#000000\" font-family=\"sans-serif\" font-size=\"14\" lengthAdjust=\"spacing\" textLength=\"18\" x=\"267\" y=\"190.9639\">A3</text></a></g><!--MD5=[4d03bb2d0377dc85ccfab60ff574652b]\n",
       "link E2 to E4--><g id=\"link_E2_E4\"><a href=\"psysml:0e1095c8-d4f6-4449-8c10-0793e56d6528\" target=\"_top\" title=\"psysml:0e1095c8-d4f6-4449-8c10-0793e56d6528\" xlink:actuate=\"onRequest\" xlink:href=\"psysml:0e1095c8-d4f6-4449-8c10-0793e56d6528\" xlink:show=\"new\" xlink:title=\"psysml:0e1095c8-d4f6-4449-8c10-0793e56d6528\" xlink:type=\"simple\"><path d=\"M204.06,76.21 C190.24,88.77 156.2,122.4 144,159 C130.9,198.29 143.31,246.33 153.85,275.66 \" fill=\"none\" id=\"E2-to-E4\" style=\"stroke:#181818;stroke-width:1.0;\"/><polygon fill=\"#181818\" points=\"155.65,280.56,156.2879,270.7318,153.9195,275.869,148.7823,273.5006,155.65,280.56\" style=\"stroke:#181818;stroke-width:1.0;\"/><text fill=\"#000000\" font-family=\"sans-serif\" font-size=\"13\" lengthAdjust=\"spacing\" textLength=\"55\" x=\"145\" y=\"186.0669\">[x == 1]</text></a></g><!--MD5=[dcad52bbbca2fe8adc741ce38b45dc12]\n",
       "link E2 to E5--><g id=\"link_E2_E5\"><a href=\"psysml:0bc69c08-a059-419e-b618-d454e4819a50\" target=\"_top\" title=\"psysml:0bc69c08-a059-419e-b618-d454e4819a50\" xlink:actuate=\"onRequest\" xlink:href=\"psysml:0bc69c08-a059-419e-b618-d454e4819a50\" xlink:show=\"new\" xlink:title=\"psysml:0bc69c08-a059-419e-b618-d454e4819a50\" xlink:type=\"simple\"><path d=\"M210.81,81.23 C214.84,132.49 232.28,359.49 226,373 C220.28,385.32 210,395.75 199.49,403.94 \" fill=\"none\" id=\"E2-to-E5\" style=\"stroke:#181818;stroke-width:1.0;\"/><polygon fill=\"#181818\" points=\"195.3,407.08,204.9,404.88,199.3,404.08,200.1,398.48,195.3,407.08\" style=\"stroke:#181818;stroke-width:1.0;\"/><text fill=\"#000000\" font-family=\"sans-serif\" font-size=\"13\" lengthAdjust=\"spacing\" textLength=\"44\" x=\"223\" y=\"247.0669\">[x &gt; 1]</text></a></g><!--MD5=[e3e28c1befcf002155aa15e1416b4315]\n",
       "link E2 to E6--><g id=\"link_E2_E6\"><a href=\"psysml:7bfaba1c-8598-44bd-a9fd-5f850f0b7fd7\" target=\"_top\" title=\"psysml:7bfaba1c-8598-44bd-a9fd-5f850f0b7fd7\" xlink:actuate=\"onRequest\" xlink:href=\"psysml:7bfaba1c-8598-44bd-a9fd-5f850f0b7fd7\" xlink:show=\"new\" xlink:title=\"psysml:7bfaba1c-8598-44bd-a9fd-5f850f0b7fd7\" xlink:type=\"simple\"><path d=\"M210.55,81.49 C211.58,93.62 214.53,113.87 223,129 C228.38,138.62 236.13,147.59 244.04,155.25 \" fill=\"none\" id=\"E2-to-E6\" style=\"stroke:#181818;stroke-width:1.0;\"/><polygon fill=\"#181818\" points=\"247.92,158.91,244.1077,149.8289,244.279,155.4832,238.6247,155.6545,247.92,158.91\" style=\"stroke:#181818;stroke-width:1.0;\"/></a></g><!--MD5=[2351f337d6de0f557b50152ba70847b5]\n",
       "link E6 to E2--><g id=\"link_E6_E2\"><a href=\"psysml:31538477-4a34-40a9-aec8-5df805757767\" target=\"_top\" title=\"psysml:31538477-4a34-40a9-aec8-5df805757767\" xlink:actuate=\"onRequest\" xlink:href=\"psysml:31538477-4a34-40a9-aec8-5df805757767\" xlink:show=\"new\" xlink:title=\"psysml:31538477-4a34-40a9-aec8-5df805757767\" xlink:type=\"simple\"><path d=\"M262.83,158.65 C249.09,135.85 228.04,100.94 217.13,82.82 \" fill=\"none\" id=\"E6-to-E2\" style=\"stroke:#181818;stroke-width:1.0;\"/><polygon fill=\"#181818\" points=\"214.33,78.18,215.5544,87.9525,216.913,82.4612,222.4043,83.8197,214.33,78.18\" style=\"stroke:#181818;stroke-width:1.0;\"/><text fill=\"#000000\" font-family=\"sans-serif\" font-size=\"13\" lengthAdjust=\"spacing\" textLength=\"44\" x=\"244\" y=\"125.0669\">[x &gt; 0]</text></a></g><!--MD5=[2720a5a1f2c3fca2055b230370638851]\n",
       "link E2 to E3--><g id=\"link_E2_E3\"><a href=\"psysml:df8d299f-9da3-41cd-a9dd-6e3a0d30decc\" target=\"_top\" title=\"psysml:df8d299f-9da3-41cd-a9dd-6e3a0d30decc\" xlink:actuate=\"onRequest\" xlink:href=\"psysml:df8d299f-9da3-41cd-a9dd-6e3a0d30decc\" xlink:show=\"new\" xlink:title=\"psysml:df8d299f-9da3-41cd-a9dd-6e3a0d30decc\" xlink:type=\"simple\"><path d=\"M201.29,73.31 C183.01,78.4 139.7,91.78 108,112 C81.71,128.77 56.41,155.69 43.63,170.28 \" fill=\"none\" id=\"E2-to-E3\" style=\"stroke:#181818;stroke-width:1.0;\"/><polygon fill=\"#181818\" points=\"40.08,174.4,48.9911,170.2057,43.3492,170.6168,42.9381,164.975,40.08,174.4\" style=\"stroke:#181818;stroke-width:1.0;\"/></a></g><!--MD5=[af87c684e3b0d8be13c1a698a818ef1e]\n",
       "link E3 to E4--><g id=\"link_E3_E4\"><a href=\"psysml:131b15c1-7866-4964-88c1-b03f264417a9\" target=\"_top\" title=\"psysml:131b15c1-7866-4964-88c1-b03f264417a9\" xlink:actuate=\"onRequest\" xlink:href=\"psysml:131b15c1-7866-4964-88c1-b03f264417a9\" xlink:show=\"new\" xlink:title=\"psysml:131b15c1-7866-4964-88c1-b03f264417a9\" xlink:type=\"simple\"><path d=\"M39.07,190 C46.61,203.42 63.83,231.9 84,251 C97.71,263.98 115.14,275.56 130.33,284.43 \" fill=\"none\" id=\"E3-to-E4\" style=\"stroke:#181818;stroke-width:1.0;\"/><polygon fill=\"#181818\" points=\"134.96,287.1,129.1557,279.1433,130.6267,284.6055,125.1645,286.0765,134.96,287.1\" style=\"stroke:#181818;stroke-width:1.0;\"/><text fill=\"#000000\" font-family=\"sans-serif\" font-size=\"13\" lengthAdjust=\"spacing\" textLength=\"36\" x=\"85\" y=\"247.0669\">[true]</text></a></g><!--MD5=[0188b64bb0ae78505a997a81836e11e9]\n",
       "link E3 to E5--><g id=\"link_E3_E5\"><a href=\"psysml:825f54b9-3c70-45c0-b332-e5b9a5c4b905\" target=\"_top\" title=\"psysml:825f54b9-3c70-45c0-b332-e5b9a5c4b905\" xlink:actuate=\"onRequest\" xlink:href=\"psysml:825f54b9-3c70-45c0-b332-e5b9a5c4b905\" xlink:show=\"new\" xlink:title=\"psysml:825f54b9-3c70-45c0-b332-e5b9a5c4b905\" xlink:type=\"simple\"><path d=\"M36.26,192.49 C39.65,216.72 50.48,280.01 76,326 C91.62,354.15 116.69,380.91 136.25,399.41 \" fill=\"none\" id=\"E3-to-E5\" style=\"stroke:#181818;stroke-width:1.0;\"/><polygon fill=\"#181818\" points=\"140.08,403,136.231,393.9344,136.4252,399.5879,130.7717,399.7821,140.08,403\" style=\"stroke:#181818;stroke-width:1.0;\"/><text fill=\"#000000\" font-family=\"sans-serif\" font-size=\"13\" lengthAdjust=\"spacing\" textLength=\"40\" x=\"77\" y=\"308.0669\">[false]</text></a></g><!--MD5=[1b7591eae5389033d8d09a9d6721a717]\n",
       "link E4 to E5--><g id=\"link_E4_E5\"><a href=\"psysml:b3779ea1-0b8c-4465-ae00-48dbba13ac92\" target=\"_top\" title=\"psysml:b3779ea1-0b8c-4465-ae00-48dbba13ac92\" xlink:actuate=\"onRequest\" xlink:href=\"psysml:b3779ea1-0b8c-4465-ae00-48dbba13ac92\" xlink:show=\"new\" xlink:title=\"psysml:b3779ea1-0b8c-4465-ae00-48dbba13ac92\" xlink:type=\"simple\"><path d=\"M165,326.23 C165,346.37 165,376.37 165,397.92 \" fill=\"none\" id=\"E4-to-E5\" style=\"stroke:#181818;stroke-width:1.0;\"/><polygon fill=\"#181818\" points=\"165,402.93,169,393.93,165,397.93,161,393.93,165,402.93\" style=\"stroke:#181818;stroke-width:1.0;\"/><text fill=\"#000000\" font-family=\"sans-serif\" font-size=\"13\" lengthAdjust=\"spacing\" textLength=\"55\" x=\"166\" y=\"369.0669\">[x == 0]</text></a></g><!--MD5=[3c6df53f3ba123edfbc2f7a2fd1dbb1f]\n",
       "@startuml\r\n",
       "skin sysmlc\r\n",
       "skinparam wrapWidth 300\r\n",
       "hide circle\r\n",
       "\r\n",
       "rec def \"DecisionTest\" as E1  <<(T,blue) action  def>> [[psysml:24509d73-250a-487a-bcd7-b59ee0863fbf ]] {\r\n",
       "choice \"test x\" as E2  [[psysml:7d99bd45-3b62-4bbf-b126-0db5f71d3136 ]] \r\n",
       "choice \"<s>noname</s>\" as E3  [[psysml:6dee609b-d6ae-4161-97b9-077c5f3bd0c2 ]] \r\n",
       "rec usage \"A1\" as E4  <<(T,blue) action>> [[psysml:f539a78a-befd-4456-a49f-f3788a07e7bd ]] {\r\n",
       "}\r\n",
       "\r\n",
       "rec usage \"A2\" as E5  <<(T,blue) action>> [[psysml:451b6b51-1ae2-4b81-be73-8fe0566d61d5 ]] {\r\n",
       "}\r\n",
       "\r\n",
       "rec usage \"A3\" as E6  <<(T,blue) action>> [[psysml:04e53eda-a597-4a9c-96a9-348d67cb9847 ]] {\r\n",
       "}\r\n",
       "\r\n",
       "}\r\n",
       "\r\n",
       "E2  - -> E4 [[psysml:0e1095c8-d4f6-4449-8c10-0793e56d6528 ]] : [x == 1]\r\n",
       "E2  - -> E5 [[psysml:0bc69c08-a059-419e-b618-d454e4819a50 ]] : [x > 1]\r\n",
       "E2  - -> E6 [[psysml:7bfaba1c-8598-44bd-a9fd-5f850f0b7fd7 ]] \r\n",
       "E2 - -> E3 [[psysml:df8d299f-9da3-41cd-a9dd-6e3a0d30decc ]] \r\n",
       "E3  - -> E4 [[psysml:131b15c1-7866-4964-88c1-b03f264417a9 ]] : [true]\r\n",
       "E3  - -> E5 [[psysml:825f54b9-3c70-45c0-b332-e5b9a5c4b905 ]] : [false]\r\n",
       "E4  - -> E5 [[psysml:b3779ea1-0b8c-4465-ae00-48dbba13ac92 ]] : [x == 0]\r\n",
       "E6  - -> E2 [[psysml:31538477-4a34-40a9-aec8-5df805757767 ]] : [x > 0]\r\n",
       "@enduml\r\n",
       "\n",
       "PlantUML version 1.2022.7(Mon Aug 22 17:01:30 UTC 2022)\n",
       "(EPL source distribution)\n",
       "Java Runtime: OpenJDK Runtime Environment\n",
       "JVM: OpenJDK 64-Bit Server VM\n",
       "Default Encoding: UTF-8\n",
       "Language: en\n",
       "Country: null\n",
       "--></g></svg>"
      ]
     },
     "execution_count": 29,
     "metadata": {},
     "output_type": "execute_result"
    }
   ],
   "source": [
    "%viz --style=\"STDCOLOR\" --view=\"MIXED\" \"DecisionTest\""
   ]
  },
  {
   "cell_type": "code",
   "execution_count": 30,
   "id": "f5f41f72",
   "metadata": {
    "execution": {
     "iopub.execute_input": "2024-12-16T03:28:02.455860Z",
     "iopub.status.busy": "2024-12-16T03:28:02.455577Z",
     "iopub.status.idle": "2024-12-16T03:28:02.594842Z",
     "shell.execute_reply": "2024-12-16T03:28:02.594969Z"
    }
   },
   "outputs": [
    {
     "data": {
      "image/svg+xml": [
       "<?xml version=\"1.0\" encoding=\"UTF-8\" standalone=\"no\"?><svg xmlns=\"http://www.w3.org/2000/svg\" xmlns:xlink=\"http://www.w3.org/1999/xlink\" contentStyleType=\"text/css\" height=\"470px\" preserveAspectRatio=\"none\" style=\"width:354px;height:470px;background:#FFFFFF;\" version=\"1.1\" viewBox=\"0 0 354 470\" width=\"354px\" zoomAndPan=\"magnify\"><defs/><g><!--MD5=[fbc87193dbaf4d95561dea2c320d4a47]\n",
       "cluster E1--><g id=\"cluster_E1\"><a href=\"psysml:24509d73-250a-487a-bcd7-b59ee0863fbf\" target=\"_top\" title=\"psysml:24509d73-250a-487a-bcd7-b59ee0863fbf\" xlink:actuate=\"onRequest\" xlink:href=\"psysml:24509d73-250a-487a-bcd7-b59ee0863fbf\" xlink:show=\"new\" xlink:title=\"psysml:24509d73-250a-487a-bcd7-b59ee0863fbf\" xlink:type=\"simple\"><rect fill=\"#FFFFFF\" height=\"457\" id=\"E1\" style=\"stroke:#A80036;stroke-width:1.5;\" width=\"341\" x=\"7\" y=\"7\"/><rect fill=\"#F1F1F1\" height=\"40.2656\" style=\"stroke:#A80036;stroke-width:1.5;\" width=\"341\" x=\"7\" y=\"7\"/><text fill=\"#000000\" font-family=\"sans-serif\" font-size=\"12\" font-style=\"italic\" lengthAdjust=\"spacing\" textLength=\"81\" x=\"137\" y=\"23.1387\">«action  def»</text><text fill=\"#000000\" font-family=\"sans-serif\" font-size=\"14\" lengthAdjust=\"spacing\" textLength=\"91\" x=\"132\" y=\"38.9639\">DecisionTest</text></a></g><g id=\"elem_E2\"><polygon fill=\"#F1F1F1\" points=\"210,58,222,70,210,82,198,70,210,58\" style=\"stroke:#181818;stroke-width:0.5;\"/></g><g id=\"elem_E3\"><polygon fill=\"#F1F1F1\" points=\"35,169.5,47,181.5,35,193.5,23,181.5,35,169.5\" style=\"stroke:#181818;stroke-width:0.5;\"/></g><g><a href=\"psysml:f539a78a-befd-4456-a49f-f3788a07e7bd\" target=\"_top\" title=\"psysml:f539a78a-befd-4456-a49f-f3788a07e7bd\" xlink:actuate=\"onRequest\" xlink:href=\"psysml:f539a78a-befd-4456-a49f-f3788a07e7bd\" xlink:show=\"new\" xlink:title=\"psysml:f539a78a-befd-4456-a49f-f3788a07e7bd\" xlink:type=\"simple\"><rect fill=\"#F1F1F1\" height=\"45.2656\" id=\"E4\" rx=\"10\" ry=\"10\" style=\"stroke:#A80036;stroke-width:1.5;\" width=\"86\" x=\"135\" y=\"281\"/><ellipse cx=\"152.25\" cy=\"301.1328\" fill=\"#FFA500\" rx=\"11\" ry=\"11\" style=\"stroke:#181818;stroke-width:1.0;\"/><path d=\"M152.3125,308.3047 Q150.2031,308.3047 149.1094,307.1797 Q148.0156,306.0547 148.0156,304.0078 L148.0156,295.9922 L150.4844,295.9922 L150.4844,303.5703 Q150.4844,305.0078 150.9375,305.6016 Q151.3906,306.1797 152.3438,306.1797 Q153.3594,306.1797 153.7813,305.5703 Q154.2188,304.9609 154.2188,303.5547 L154.2188,295.9922 L156.6875,295.9922 L156.6875,303.9922 Q156.6875,305.9766 155.5938,307.1484 Q154.5156,308.3047 152.3125,308.3047 Z \" fill=\"#000000\"/><text fill=\"#000000\" font-family=\"sans-serif\" font-size=\"12\" font-style=\"italic\" lengthAdjust=\"spacing\" textLength=\"53\" x=\"164.75\" y=\"297.1387\">«action»</text><text fill=\"#000000\" font-family=\"sans-serif\" font-size=\"14\" lengthAdjust=\"spacing\" textLength=\"18\" x=\"182.25\" y=\"312.9639\">A1</text></a></g><g><a href=\"psysml:451b6b51-1ae2-4b81-be73-8fe0566d61d5\" target=\"_top\" title=\"psysml:451b6b51-1ae2-4b81-be73-8fe0566d61d5\" xlink:actuate=\"onRequest\" xlink:href=\"psysml:451b6b51-1ae2-4b81-be73-8fe0566d61d5\" xlink:show=\"new\" xlink:title=\"psysml:451b6b51-1ae2-4b81-be73-8fe0566d61d5\" xlink:type=\"simple\"><rect fill=\"#F1F1F1\" height=\"45.2656\" id=\"E5\" rx=\"10\" ry=\"10\" style=\"stroke:#A80036;stroke-width:1.5;\" width=\"86\" x=\"135\" y=\"403\"/><ellipse cx=\"152.25\" cy=\"423.1328\" fill=\"#FFA500\" rx=\"11\" ry=\"11\" style=\"stroke:#181818;stroke-width:1.0;\"/><path d=\"M152.3125,430.3047 Q150.2031,430.3047 149.1094,429.1797 Q148.0156,428.0547 148.0156,426.0078 L148.0156,417.9922 L150.4844,417.9922 L150.4844,425.5703 Q150.4844,427.0078 150.9375,427.6016 Q151.3906,428.1797 152.3438,428.1797 Q153.3594,428.1797 153.7813,427.5703 Q154.2188,426.9609 154.2188,425.5547 L154.2188,417.9922 L156.6875,417.9922 L156.6875,425.9922 Q156.6875,427.9766 155.5938,429.1484 Q154.5156,430.3047 152.3125,430.3047 Z \" fill=\"#000000\"/><text fill=\"#000000\" font-family=\"sans-serif\" font-size=\"12\" font-style=\"italic\" lengthAdjust=\"spacing\" textLength=\"53\" x=\"164.75\" y=\"419.1387\">«action»</text><text fill=\"#000000\" font-family=\"sans-serif\" font-size=\"14\" lengthAdjust=\"spacing\" textLength=\"18\" x=\"182.25\" y=\"434.9639\">A2</text></a></g><g><a href=\"psysml:04e53eda-a597-4a9c-96a9-348d67cb9847\" target=\"_top\" title=\"psysml:04e53eda-a597-4a9c-96a9-348d67cb9847\" xlink:actuate=\"onRequest\" xlink:href=\"psysml:04e53eda-a597-4a9c-96a9-348d67cb9847\" xlink:show=\"new\" xlink:title=\"psysml:04e53eda-a597-4a9c-96a9-348d67cb9847\" xlink:type=\"simple\"><rect fill=\"#F1F1F1\" height=\"45.2656\" id=\"E6\" rx=\"10\" ry=\"10\" style=\"stroke:#A80036;stroke-width:1.5;\" width=\"86\" x=\"246\" y=\"159\"/><ellipse cx=\"263.25\" cy=\"179.1328\" fill=\"#FFA500\" rx=\"11\" ry=\"11\" style=\"stroke:#181818;stroke-width:1.0;\"/><path d=\"M263.3125,186.3047 Q261.2031,186.3047 260.1094,185.1797 Q259.0156,184.0547 259.0156,182.0078 L259.0156,173.9922 L261.4844,173.9922 L261.4844,181.5703 Q261.4844,183.0078 261.9375,183.6016 Q262.3906,184.1797 263.3438,184.1797 Q264.3594,184.1797 264.7813,183.5703 Q265.2188,182.9609 265.2188,181.5547 L265.2188,173.9922 L267.6875,173.9922 L267.6875,181.9922 Q267.6875,183.9766 266.5938,185.1484 Q265.5156,186.3047 263.3125,186.3047 Z \" fill=\"#000000\"/><text fill=\"#000000\" font-family=\"sans-serif\" font-size=\"12\" font-style=\"italic\" lengthAdjust=\"spacing\" textLength=\"53\" x=\"275.75\" y=\"175.1387\">«action»</text><text fill=\"#000000\" font-family=\"sans-serif\" font-size=\"14\" lengthAdjust=\"spacing\" textLength=\"18\" x=\"293.25\" y=\"190.9639\">A3</text></a></g><!--MD5=[4d03bb2d0377dc85ccfab60ff574652b]\n",
       "link E2 to E4--><g id=\"link_E2_E4\"><a href=\"psysml:0e1095c8-d4f6-4449-8c10-0793e56d6528\" target=\"_top\" title=\"psysml:0e1095c8-d4f6-4449-8c10-0793e56d6528\" xlink:actuate=\"onRequest\" xlink:href=\"psysml:0e1095c8-d4f6-4449-8c10-0793e56d6528\" xlink:show=\"new\" xlink:title=\"psysml:0e1095c8-d4f6-4449-8c10-0793e56d6528\" xlink:type=\"simple\"><path d=\"M204.06,76.21 C190.24,88.77 156.2,122.4 144,159 C130.63,199.12 148.66,247.2 163.14,276.27 \" fill=\"none\" id=\"E2-to-E4\" style=\"stroke:#181818;stroke-width:1.0;\"/><polygon fill=\"#181818\" points=\"165.43,280.77,164.9074,270.935,163.1597,276.3151,157.7796,274.5674,165.43,280.77\" style=\"stroke:#181818;stroke-width:1.0;\"/><text fill=\"#000000\" font-family=\"sans-serif\" font-size=\"13\" lengthAdjust=\"spacing\" textLength=\"55\" x=\"145\" y=\"186.0669\">[x == 1]</text></a></g><!--MD5=[dcad52bbbca2fe8adc741ce38b45dc12]\n",
       "link E2 to E5--><g id=\"link_E2_E5\"><a href=\"psysml:0bc69c08-a059-419e-b618-d454e4819a50\" target=\"_top\" title=\"psysml:0bc69c08-a059-419e-b618-d454e4819a50\" xlink:actuate=\"onRequest\" xlink:href=\"psysml:0bc69c08-a059-419e-b618-d454e4819a50\" xlink:show=\"new\" xlink:title=\"psysml:0bc69c08-a059-419e-b618-d454e4819a50\" xlink:type=\"simple\"><path d=\"M211.36,80.85 C212.95,92.39 215.66,112.08 218,129 C222.66,162.78 235.76,247.06 239,281 C242.89,321.74 260.82,336.15 243,373 C238.04,383.25 229.95,392.08 221.13,399.39 \" fill=\"none\" id=\"E2-to-E5\" style=\"stroke:#181818;stroke-width:1.0;\"/><polygon fill=\"#181818\" points=\"216.75,402.85,226.2833,400.3767,220.6627,399.737,221.3024,394.1164,216.75,402.85\" style=\"stroke:#181818;stroke-width:1.0;\"/><text fill=\"#000000\" font-family=\"sans-serif\" font-size=\"13\" lengthAdjust=\"spacing\" textLength=\"44\" x=\"236\" y=\"247.0669\">[x &gt; 1]</text></a></g><!--MD5=[e3e28c1befcf002155aa15e1416b4315]\n",
       "link E2 to E6--><g id=\"link_E2_E6\"><a href=\"psysml:7bfaba1c-8598-44bd-a9fd-5f850f0b7fd7\" target=\"_top\" title=\"psysml:7bfaba1c-8598-44bd-a9fd-5f850f0b7fd7\" xlink:actuate=\"onRequest\" xlink:href=\"psysml:7bfaba1c-8598-44bd-a9fd-5f850f0b7fd7\" xlink:show=\"new\" xlink:title=\"psysml:7bfaba1c-8598-44bd-a9fd-5f850f0b7fd7\" xlink:type=\"simple\"><path d=\"M212.63,79.39 C216.57,91.15 224.74,112.91 236,129 C242.51,138.3 250.86,147.33 258.99,155.16 \" fill=\"none\" id=\"E2-to-E6\" style=\"stroke:#181818;stroke-width:1.0;\"/><polygon fill=\"#181818\" points=\"262.95,158.9,259.1555,149.8115,259.3157,155.466,253.6611,155.6263,262.95,158.9\" style=\"stroke:#181818;stroke-width:1.0;\"/></a></g><!--MD5=[2351f337d6de0f557b50152ba70847b5]\n",
       "link E6 to E2--><g id=\"link_E6_E2\"><a href=\"psysml:31538477-4a34-40a9-aec8-5df805757767\" target=\"_top\" title=\"psysml:31538477-4a34-40a9-aec8-5df805757767\" xlink:actuate=\"onRequest\" xlink:href=\"psysml:31538477-4a34-40a9-aec8-5df805757767\" xlink:show=\"new\" xlink:title=\"psysml:31538477-4a34-40a9-aec8-5df805757767\" xlink:type=\"simple\"><path d=\"M273.61,158.86 C263.99,145.36 251.31,127.64 240,112 C232.5,101.63 223.86,89.84 217.79,81.57 \" fill=\"none\" id=\"E6-to-E2\" style=\"stroke:#181818;stroke-width:1.0;\"/><polygon fill=\"#181818\" points=\"214.7,77.38,216.8011,87.0021,217.6587,81.4107,223.2501,82.2682,214.7,77.38\" style=\"stroke:#181818;stroke-width:1.0;\"/><text fill=\"#000000\" font-family=\"sans-serif\" font-size=\"13\" lengthAdjust=\"spacing\" textLength=\"44\" x=\"253\" y=\"125.0669\">[x &gt; 0]</text></a></g><!--MD5=[2720a5a1f2c3fca2055b230370638851]\n",
       "link E2 to E3--><g id=\"link_E2_E3\"><a href=\"psysml:df8d299f-9da3-41cd-a9dd-6e3a0d30decc\" target=\"_top\" title=\"psysml:df8d299f-9da3-41cd-a9dd-6e3a0d30decc\" xlink:actuate=\"onRequest\" xlink:href=\"psysml:df8d299f-9da3-41cd-a9dd-6e3a0d30decc\" xlink:show=\"new\" xlink:title=\"psysml:df8d299f-9da3-41cd-a9dd-6e3a0d30decc\" xlink:type=\"simple\"><path d=\"M201.29,73.31 C183.01,78.4 139.7,91.78 108,112 C81.71,128.77 56.41,155.69 43.63,170.28 \" fill=\"none\" id=\"E2-to-E3\" style=\"stroke:#181818;stroke-width:1.0;\"/><polygon fill=\"#181818\" points=\"40.08,174.4,48.9911,170.2057,43.3492,170.6168,42.9381,164.975,40.08,174.4\" style=\"stroke:#181818;stroke-width:1.0;\"/></a></g><!--MD5=[af87c684e3b0d8be13c1a698a818ef1e]\n",
       "link E3 to E4--><g id=\"link_E3_E4\"><a href=\"psysml:131b15c1-7866-4964-88c1-b03f264417a9\" target=\"_top\" title=\"psysml:131b15c1-7866-4964-88c1-b03f264417a9\" xlink:actuate=\"onRequest\" xlink:href=\"psysml:131b15c1-7866-4964-88c1-b03f264417a9\" xlink:show=\"new\" xlink:title=\"psysml:131b15c1-7866-4964-88c1-b03f264417a9\" xlink:type=\"simple\"><path d=\"M38.95,190.14 C46.29,203.76 63.22,232.57 84,251 C97.5,262.97 114.26,273.26 129.87,281.43 \" fill=\"none\" id=\"E3-to-E4\" style=\"stroke:#181818;stroke-width:1.0;\"/><polygon fill=\"#181818\" points=\"134.68,283.9,128.5069,276.2258,130.2339,281.6126,124.8471,283.3396,134.68,283.9\" style=\"stroke:#181818;stroke-width:1.0;\"/><text fill=\"#000000\" font-family=\"sans-serif\" font-size=\"13\" lengthAdjust=\"spacing\" textLength=\"36\" x=\"85\" y=\"247.0669\">[true]</text></a></g><!--MD5=[0188b64bb0ae78505a997a81836e11e9]\n",
       "link E3 to E5--><g id=\"link_E3_E5\"><a href=\"psysml:825f54b9-3c70-45c0-b332-e5b9a5c4b905\" target=\"_top\" title=\"psysml:825f54b9-3c70-45c0-b332-e5b9a5c4b905\" xlink:actuate=\"onRequest\" xlink:href=\"psysml:825f54b9-3c70-45c0-b332-e5b9a5c4b905\" xlink:show=\"new\" xlink:title=\"psysml:825f54b9-3c70-45c0-b332-e5b9a5c4b905\" xlink:type=\"simple\"><path d=\"M36.06,192.61 C39.01,217.09 48.93,280.9 76,326 C93.41,355.01 121.53,381.26 143.84,399.36 \" fill=\"none\" id=\"E3-to-E5\" style=\"stroke:#181818;stroke-width:1.0;\"/><polygon fill=\"#181818\" points=\"147.93,402.64,143.4127,393.8882,144.0298,399.5113,138.4068,400.1285,147.93,402.64\" style=\"stroke:#181818;stroke-width:1.0;\"/><text fill=\"#000000\" font-family=\"sans-serif\" font-size=\"13\" lengthAdjust=\"spacing\" textLength=\"40\" x=\"77\" y=\"308.0669\">[false]</text></a></g><!--MD5=[1b7591eae5389033d8d09a9d6721a717]\n",
       "link E4 to E5--><g id=\"link_E4_E5\"><a href=\"psysml:b3779ea1-0b8c-4465-ae00-48dbba13ac92\" target=\"_top\" title=\"psysml:b3779ea1-0b8c-4465-ae00-48dbba13ac92\" xlink:actuate=\"onRequest\" xlink:href=\"psysml:b3779ea1-0b8c-4465-ae00-48dbba13ac92\" xlink:show=\"new\" xlink:title=\"psysml:b3779ea1-0b8c-4465-ae00-48dbba13ac92\" xlink:type=\"simple\"><path d=\"M178,326.23 C178,346.37 178,376.37 178,397.92 \" fill=\"none\" id=\"E4-to-E5\" style=\"stroke:#181818;stroke-width:1.0;\"/><polygon fill=\"#181818\" points=\"178,402.93,182,393.93,178,397.93,174,393.93,178,402.93\" style=\"stroke:#181818;stroke-width:1.0;\"/><text fill=\"#000000\" font-family=\"sans-serif\" font-size=\"13\" lengthAdjust=\"spacing\" textLength=\"55\" x=\"179\" y=\"369.0669\">[x == 0]</text></a></g><!--MD5=[a000fa19e22c3adf8c8090757c5ebd77]\n",
       "@startuml\r\n",
       " \r\n",
       "rec def \"DecisionTest\" as E1  << <<(B,lemonchiffon) action  def>> [[psysml:24509d73-250a-487a-bcd7-b59ee0863fbf ]] {\r\n",
       "choice \"test x\" as E2  [[psysml:7d99bd45-3b62-4bbf-b126-0db5f71d3136 ]] \r\n",
       "choice \"<s>noname</s>\" as E3  [[psysml:6dee609b-d6ae-4161-97b9-077c5f3bd0c2 ]] \r\n",
       "rec usage \"A1\" as E4  << <<(U,orange) action>> [[psysml:f539a78a-befd-4456-a49f-f3788a07e7bd ]] {\r\n",
       "}\r\n",
       "\r\n",
       "rec usage \"A2\" as E5  << <<(U,orange) action>> [[psysml:451b6b51-1ae2-4b81-be73-8fe0566d61d5 ]] {\r\n",
       "}\r\n",
       "\r\n",
       "rec usage \"A3\" as E6  << <<(U,orange) action>> [[psysml:04e53eda-a597-4a9c-96a9-348d67cb9847 ]] {\r\n",
       "}\r\n",
       "\r\n",
       "}\r\n",
       "\r\n",
       "E2  - -> E4 [[psysml:0e1095c8-d4f6-4449-8c10-0793e56d6528 ]] : [x == 1]\r\n",
       "E2  - -> E5 [[psysml:0bc69c08-a059-419e-b618-d454e4819a50 ]] : [x > 1]\r\n",
       "E2  - -> E6 [[psysml:7bfaba1c-8598-44bd-a9fd-5f850f0b7fd7 ]] \r\n",
       "E2 - -> E3 [[psysml:df8d299f-9da3-41cd-a9dd-6e3a0d30decc ]] \r\n",
       "E3  - -> E4 [[psysml:131b15c1-7866-4964-88c1-b03f264417a9 ]] : [true]\r\n",
       "E3  - -> E5 [[psysml:825f54b9-3c70-45c0-b332-e5b9a5c4b905 ]] : [false]\r\n",
       "E4  - -> E5 [[psysml:b3779ea1-0b8c-4465-ae00-48dbba13ac92 ]] : [x == 0]\r\n",
       "E6  - -> E2 [[psysml:31538477-4a34-40a9-aec8-5df805757767 ]] : [x > 0]\r\n",
       "@enduml\r\n",
       "\n",
       "PlantUML version 1.2022.7(Mon Aug 22 17:01:30 UTC 2022)\n",
       "(EPL source distribution)\n",
       "Java Runtime: OpenJDK Runtime Environment\n",
       "JVM: OpenJDK 64-Bit Server VM\n",
       "Default Encoding: UTF-8\n",
       "Language: en\n",
       "Country: null\n",
       "--></g></svg>"
      ]
     },
     "execution_count": 30,
     "metadata": {},
     "output_type": "execute_result"
    }
   ],
   "source": [
    "%viz --style=\"PLANTUML\" --view=\"Default\" \"DecisionTest\""
   ]
  },
  {
   "cell_type": "code",
   "execution_count": 31,
   "id": "d90119a5",
   "metadata": {
    "execution": {
     "iopub.execute_input": "2024-12-16T03:28:02.648568Z",
     "iopub.status.busy": "2024-12-16T03:28:02.648290Z",
     "iopub.status.idle": "2024-12-16T03:28:02.691296Z",
     "shell.execute_reply": "2024-12-16T03:28:02.690481Z"
    }
   },
   "outputs": [
    {
     "data": {
      "image/svg+xml": [
       "<?xml version=\"1.0\" encoding=\"UTF-8\" standalone=\"no\"?><svg xmlns=\"http://www.w3.org/2000/svg\" xmlns:xlink=\"http://www.w3.org/1999/xlink\" contentStyleType=\"text/css\" height=\"507px\" preserveAspectRatio=\"none\" style=\"width:563px;height:507px;background:#FFFFFF;\" version=\"1.1\" viewBox=\"0 0 563 507\" width=\"563px\" zoomAndPan=\"magnify\"><defs/><g><!--MD5=[43c9051892ef23e1a46a86907403d788]\n",
       "class E1--><a href=\"psysml:24509d73-250a-487a-bcd7-b59ee0863fbf\" target=\"_top\" title=\"psysml:24509d73-250a-487a-bcd7-b59ee0863fbf\" xlink:actuate=\"onRequest\" xlink:href=\"psysml:24509d73-250a-487a-bcd7-b59ee0863fbf\" xlink:show=\"new\" xlink:title=\"psysml:24509d73-250a-487a-bcd7-b59ee0863fbf\" xlink:type=\"simple\"><g id=\"elem_E1\"><rect fill=\"#F1F1F1\" height=\"277.3094\" id=\"E1\" rx=\"2.5\" ry=\"2.5\" style=\"stroke:#181818;stroke-width:0.5;\" width=\"204\" x=\"182\" y=\"7\"/><ellipse cx=\"234.25\" cy=\"27.1328\" fill=\"#FFFACD\" rx=\"11\" ry=\"11\" style=\"stroke:#181818;stroke-width:1.0;\"/><path d=\"M231.1094,33.6328 L231.1094,21.4922 L234.9063,21.4922 Q236.9063,21.4922 237.9531,22.1953 Q239.0156,22.8984 239.0156,24.4766 Q239.0156,25.5703 238.5156,26.2891 Q238.0313,27.0078 237.2031,27.1953 L237.2031,27.2734 Q238.125,27.4922 238.6875,28.1641 Q239.2656,28.8203 239.2656,30.0859 Q239.2656,31.7422 238.2188,32.6953 Q237.1719,33.6328 235.3125,33.6328 L231.1094,33.6328 Z M234.8906,26.2734 Q235.7813,26.2734 236.1406,25.9453 Q236.5156,25.6016 236.5156,24.8984 Q236.5156,24.1641 236.125,23.8516 Q235.7344,23.5234 234.7969,23.5234 L233.4063,23.5234 L233.4063,26.2734 L234.8906,26.2734 Z M235.0781,31.6172 Q235.9844,31.6172 236.3438,31.1797 Q236.7031,30.7266 236.7031,29.9453 Q236.7031,29.1641 236.3281,28.7734 Q235.9688,28.3672 234.9844,28.3672 L233.4063,28.3672 L233.4063,31.6172 L235.0781,31.6172 Z \" fill=\"#000000\"/><text fill=\"#000000\" font-family=\"sans-serif\" font-size=\"12\" font-style=\"italic\" lengthAdjust=\"spacing\" textLength=\"81\" x=\"259.75\" y=\"23.1387\">«action  def»</text><text fill=\"#000000\" font-family=\"sans-serif\" font-size=\"14\" lengthAdjust=\"spacing\" textLength=\"91\" x=\"254.75\" y=\"38.9639\">DecisionTest</text><line style=\"stroke:#181818;stroke-width:0.5;\" x1=\"183\" x2=\"385\" y1=\"47.2656\" y2=\"47.2656\"/><text fill=\"#000000\" font-family=\"sans-serif\" font-size=\"14\" lengthAdjust=\"spacing\" textLength=\"36\" x=\"188\" y=\"74.7795\">x = 1</text><text fill=\"#000000\" font-family=\"sans-serif\" font-size=\"14\" font-style=\"italic\" lengthAdjust=\"spacing\" textLength=\"66\" x=\"251\" y=\"59.6123\">attributes</text><line style=\"stroke:#181818;stroke-width:1.0;\" x1=\"183\" x2=\"385\" y1=\"82.0813\" y2=\"82.0813\"/><text fill=\"#000000\" font-family=\"sans-serif\" font-size=\"14\" lengthAdjust=\"spacing\" textLength=\"18\" x=\"188\" y=\"109.5951\">A3</text><text fill=\"#000000\" font-family=\"sans-serif\" font-size=\"14\" font-style=\"italic\" lengthAdjust=\"spacing\" textLength=\"50\" x=\"259\" y=\"94.4279\">actions</text><line style=\"stroke:#181818;stroke-width:1.0;\" x1=\"183\" x2=\"385\" y1=\"116.8969\" y2=\"116.8969\"/><text fill=\"#000000\" font-family=\"sans-serif\" font-size=\"14\" lengthAdjust=\"spacing\" textLength=\"192\" x=\"188\" y=\"144.4107\">noname first test x then null</text><text fill=\"#000000\" font-family=\"sans-serif\" font-size=\"14\" font-style=\"italic\" lengthAdjust=\"spacing\" textLength=\"87\" x=\"240.5\" y=\"129.2436\">successions</text><line style=\"stroke:#181818;stroke-width:1.0;\" x1=\"183\" x2=\"385\" y1=\"151.7125\" y2=\"151.7125\"/><text fill=\"#000000\" font-family=\"sans-serif\" font-size=\"14\" lengthAdjust=\"spacing\" textLength=\"4\" x=\"188\" y=\"179.2264\"> </text><text fill=\"#000000\" font-family=\"sans-serif\" font-size=\"14\" lengthAdjust=\"spacing\" textLength=\"4\" x=\"188\" y=\"195.5232\"> </text><text fill=\"#000000\" font-family=\"sans-serif\" font-size=\"14\" lengthAdjust=\"spacing\" textLength=\"4\" x=\"188\" y=\"211.8201\"> </text><text fill=\"#000000\" font-family=\"sans-serif\" font-size=\"14\" lengthAdjust=\"spacing\" textLength=\"4\" x=\"188\" y=\"228.117\"> </text><text fill=\"#000000\" font-family=\"sans-serif\" font-size=\"14\" lengthAdjust=\"spacing\" textLength=\"4\" x=\"188\" y=\"244.4139\"> </text><text fill=\"#000000\" font-family=\"sans-serif\" font-size=\"14\" lengthAdjust=\"spacing\" textLength=\"4\" x=\"188\" y=\"260.7107\"> </text><text fill=\"#000000\" font-family=\"sans-serif\" font-size=\"14\" lengthAdjust=\"spacing\" textLength=\"9\" x=\"188\" y=\"277.0076\">S</text><text fill=\"#000000\" font-family=\"sans-serif\" font-size=\"14\" font-style=\"italic\" lengthAdjust=\"spacing\" textLength=\"72\" x=\"248\" y=\"164.0592\">transitions</text></g></a><!--MD5=[b4997ac47864f28c2f74865a473b2911]\n",
       "class E2--><a href=\"psysml:7d99bd45-3b62-4bbf-b126-0db5f71d3136\" target=\"_top\" title=\"psysml:7d99bd45-3b62-4bbf-b126-0db5f71d3136\" xlink:actuate=\"onRequest\" xlink:href=\"psysml:7d99bd45-3b62-4bbf-b126-0db5f71d3136\" xlink:show=\"new\" xlink:title=\"psysml:7d99bd45-3b62-4bbf-b126-0db5f71d3136\" xlink:type=\"simple\"><g id=\"elem_E2\"><rect fill=\"#F1F1F1\" height=\"48.2656\" id=\"E2\" rx=\"10\" ry=\"10\" style=\"stroke:#181818;stroke-width:0.5;\" width=\"130\" x=\"7\" y=\"344\"/><ellipse cx=\"22\" cy=\"364.1328\" fill=\"#FFA500\" rx=\"11\" ry=\"11\" style=\"stroke:#181818;stroke-width:1.0;\"/><path d=\"M22.0625,371.3047 Q19.9531,371.3047 18.8594,370.1797 Q17.7656,369.0547 17.7656,367.0078 L17.7656,358.9922 L20.2344,358.9922 L20.2344,366.5703 Q20.2344,368.0078 20.6875,368.6016 Q21.1406,369.1797 22.0938,369.1797 Q23.1094,369.1797 23.5313,368.5703 Q23.9688,367.9609 23.9688,366.5547 L23.9688,358.9922 L26.4375,358.9922 L26.4375,366.9922 Q26.4375,368.9766 25.3438,370.1484 Q24.2656,371.3047 22.0625,371.3047 Z \" fill=\"#000000\"/><text fill=\"#000000\" font-family=\"sans-serif\" font-size=\"12\" font-style=\"italic\" lengthAdjust=\"spacing\" textLength=\"102\" x=\"34\" y=\"360.1387\">«decision node»</text><text fill=\"#000000\" font-family=\"sans-serif\" font-size=\"14\" lengthAdjust=\"spacing\" textLength=\"38\" x=\"62\" y=\"375.9639\">test x</text><line style=\"stroke:#181818;stroke-width:0.5;\" x1=\"8\" x2=\"136\" y1=\"384.2656\" y2=\"384.2656\"/></g></a><!--MD5=[09b614a08d8cba4a07c9adeb5e0fee81]\n",
       "class E3--><a href=\"psysml:6dee609b-d6ae-4161-97b9-077c5f3bd0c2\" target=\"_top\" title=\"psysml:6dee609b-d6ae-4161-97b9-077c5f3bd0c2\" xlink:actuate=\"onRequest\" xlink:href=\"psysml:6dee609b-d6ae-4161-97b9-077c5f3bd0c2\" xlink:show=\"new\" xlink:title=\"psysml:6dee609b-d6ae-4161-97b9-077c5f3bd0c2\" xlink:type=\"simple\"><g id=\"elem_E3\"><rect fill=\"#F1F1F1\" height=\"48.2656\" id=\"E3\" rx=\"10\" ry=\"10\" style=\"stroke:#181818;stroke-width:0.5;\" width=\"130\" x=\"66\" y=\"452\"/><ellipse cx=\"81\" cy=\"472.1328\" fill=\"#FFA500\" rx=\"11\" ry=\"11\" style=\"stroke:#181818;stroke-width:1.0;\"/><path d=\"M81.0625,479.3047 Q78.9531,479.3047 77.8594,478.1797 Q76.7656,477.0547 76.7656,475.0078 L76.7656,466.9922 L79.2344,466.9922 L79.2344,474.5703 Q79.2344,476.0078 79.6875,476.6016 Q80.1406,477.1797 81.0938,477.1797 Q82.1094,477.1797 82.5313,476.5703 Q82.9688,475.9609 82.9688,474.5547 L82.9688,466.9922 L85.4375,466.9922 L85.4375,474.9922 Q85.4375,476.9766 84.3438,478.1484 Q83.2656,479.3047 81.0625,479.3047 Z \" fill=\"#000000\"/><text fill=\"#000000\" font-family=\"sans-serif\" font-size=\"12\" font-style=\"italic\" lengthAdjust=\"spacing\" textLength=\"102\" x=\"93\" y=\"468.1387\">«decision node»</text><text fill=\"#000000\" font-family=\"sans-serif\" font-size=\"14\" lengthAdjust=\"spacing\" text-decoration=\"line-through\" textLength=\"57\" x=\"111.5\" y=\"483.9639\">noname</text><text fill=\"#000000\" font-family=\"sans-serif\" font-size=\"14\" lengthAdjust=\"spacing\" textLength=\"8\" x=\"168.5\" y=\"483.9639\">  </text><line style=\"stroke:#181818;stroke-width:0.5;\" x1=\"67\" x2=\"195\" y1=\"492.2656\" y2=\"492.2656\"/></g></a><!--MD5=[ebbe1d658d1005bcc118a6aa81145e00]\n",
       "class E4--><a href=\"psysml:f539a78a-befd-4456-a49f-f3788a07e7bd\" target=\"_top\" title=\"psysml:f539a78a-befd-4456-a49f-f3788a07e7bd\" xlink:actuate=\"onRequest\" xlink:href=\"psysml:f539a78a-befd-4456-a49f-f3788a07e7bd\" xlink:show=\"new\" xlink:title=\"psysml:f539a78a-befd-4456-a49f-f3788a07e7bd\" xlink:type=\"simple\"><g id=\"elem_E4\"><rect fill=\"#F1F1F1\" height=\"48.2656\" id=\"E4\" rx=\"10\" ry=\"10\" style=\"stroke:#181818;stroke-width:0.5;\" width=\"81\" x=\"243.5\" y=\"344\"/><ellipse cx=\"258.5\" cy=\"364.1328\" fill=\"#FFA500\" rx=\"11\" ry=\"11\" style=\"stroke:#181818;stroke-width:1.0;\"/><path d=\"M258.5625,371.3047 Q256.4531,371.3047 255.3594,370.1797 Q254.2656,369.0547 254.2656,367.0078 L254.2656,358.9922 L256.7344,358.9922 L256.7344,366.5703 Q256.7344,368.0078 257.1875,368.6016 Q257.6406,369.1797 258.5938,369.1797 Q259.6094,369.1797 260.0313,368.5703 Q260.4688,367.9609 260.4688,366.5547 L260.4688,358.9922 L262.9375,358.9922 L262.9375,366.9922 Q262.9375,368.9766 261.8438,370.1484 Q260.7656,371.3047 258.5625,371.3047 Z \" fill=\"#000000\"/><text fill=\"#000000\" font-family=\"sans-serif\" font-size=\"12\" font-style=\"italic\" lengthAdjust=\"spacing\" textLength=\"53\" x=\"270.5\" y=\"360.1387\">«action»</text><text fill=\"#000000\" font-family=\"sans-serif\" font-size=\"14\" lengthAdjust=\"spacing\" textLength=\"18\" x=\"284\" y=\"375.9639\">A1</text><line style=\"stroke:#181818;stroke-width:0.5;\" x1=\"244.5\" x2=\"323.5\" y1=\"384.2656\" y2=\"384.2656\"/></g></a><!--MD5=[270fce915f116d4de14055a7c1d9a0f3]\n",
       "class E5--><a href=\"psysml:451b6b51-1ae2-4b81-be73-8fe0566d61d5\" target=\"_top\" title=\"psysml:451b6b51-1ae2-4b81-be73-8fe0566d61d5\" xlink:actuate=\"onRequest\" xlink:href=\"psysml:451b6b51-1ae2-4b81-be73-8fe0566d61d5\" xlink:show=\"new\" xlink:title=\"psysml:451b6b51-1ae2-4b81-be73-8fe0566d61d5\" xlink:type=\"simple\"><g id=\"elem_E5\"><rect fill=\"#F1F1F1\" height=\"48.2656\" id=\"E5\" rx=\"10\" ry=\"10\" style=\"stroke:#181818;stroke-width:0.5;\" width=\"81\" x=\"359.5\" y=\"344\"/><ellipse cx=\"374.5\" cy=\"364.1328\" fill=\"#FFA500\" rx=\"11\" ry=\"11\" style=\"stroke:#181818;stroke-width:1.0;\"/><path d=\"M374.5625,371.3047 Q372.4531,371.3047 371.3594,370.1797 Q370.2656,369.0547 370.2656,367.0078 L370.2656,358.9922 L372.7344,358.9922 L372.7344,366.5703 Q372.7344,368.0078 373.1875,368.6016 Q373.6406,369.1797 374.5938,369.1797 Q375.6094,369.1797 376.0313,368.5703 Q376.4688,367.9609 376.4688,366.5547 L376.4688,358.9922 L378.9375,358.9922 L378.9375,366.9922 Q378.9375,368.9766 377.8438,370.1484 Q376.7656,371.3047 374.5625,371.3047 Z \" fill=\"#000000\"/><text fill=\"#000000\" font-family=\"sans-serif\" font-size=\"12\" font-style=\"italic\" lengthAdjust=\"spacing\" textLength=\"53\" x=\"386.5\" y=\"360.1387\">«action»</text><text fill=\"#000000\" font-family=\"sans-serif\" font-size=\"14\" lengthAdjust=\"spacing\" textLength=\"18\" x=\"400\" y=\"375.9639\">A2</text><line style=\"stroke:#181818;stroke-width:0.5;\" x1=\"360.5\" x2=\"439.5\" y1=\"384.2656\" y2=\"384.2656\"/></g></a><!--MD5=[60a26617385b1d2d0262a64233df1f8d]\n",
       "class E6--><a href=\"psysml:04e53eda-a597-4a9c-96a9-348d67cb9847\" target=\"_top\" title=\"psysml:04e53eda-a597-4a9c-96a9-348d67cb9847\" xlink:actuate=\"onRequest\" xlink:href=\"psysml:04e53eda-a597-4a9c-96a9-348d67cb9847\" xlink:show=\"new\" xlink:title=\"psysml:04e53eda-a597-4a9c-96a9-348d67cb9847\" xlink:type=\"simple\"><g id=\"elem_E6\"><rect fill=\"#F1F1F1\" height=\"48.2656\" id=\"E6\" rx=\"10\" ry=\"10\" style=\"stroke:#181818;stroke-width:0.5;\" width=\"81\" x=\"475.5\" y=\"344\"/><ellipse cx=\"490.5\" cy=\"364.1328\" fill=\"#FFA500\" rx=\"11\" ry=\"11\" style=\"stroke:#181818;stroke-width:1.0;\"/><path d=\"M490.5625,371.3047 Q488.4531,371.3047 487.3594,370.1797 Q486.2656,369.0547 486.2656,367.0078 L486.2656,358.9922 L488.7344,358.9922 L488.7344,366.5703 Q488.7344,368.0078 489.1875,368.6016 Q489.6406,369.1797 490.5938,369.1797 Q491.6094,369.1797 492.0313,368.5703 Q492.4688,367.9609 492.4688,366.5547 L492.4688,358.9922 L494.9375,358.9922 L494.9375,366.9922 Q494.9375,368.9766 493.8438,370.1484 Q492.7656,371.3047 490.5625,371.3047 Z \" fill=\"#000000\"/><text fill=\"#000000\" font-family=\"sans-serif\" font-size=\"12\" font-style=\"italic\" lengthAdjust=\"spacing\" textLength=\"53\" x=\"502.5\" y=\"360.1387\">«action»</text><text fill=\"#000000\" font-family=\"sans-serif\" font-size=\"14\" lengthAdjust=\"spacing\" textLength=\"18\" x=\"516\" y=\"375.9639\">A3</text><line style=\"stroke:#181818;stroke-width:0.5;\" x1=\"476.5\" x2=\"555.5\" y1=\"384.2656\" y2=\"384.2656\"/></g></a><!--MD5=[a523cb2a0b79ecf9065ad8783f96c320]\n",
       "reverse link E1 to E2--><g id=\"link_E1_E2\"><a href=\"psysml:0a57c05e-4dd3-44ad-ba12-51402458bbf0\" target=\"_top\" title=\"psysml:0a57c05e-4dd3-44ad-ba12-51402458bbf0\" xlink:actuate=\"onRequest\" xlink:href=\"psysml:0a57c05e-4dd3-44ad-ba12-51402458bbf0\" xlink:show=\"new\" xlink:title=\"psysml:0a57c05e-4dd3-44ad-ba12-51402458bbf0\" xlink:type=\"simple\"><path d=\"M172.49,262.48 C142.76,293.4 113.62,323.71 94.43,343.67 \" fill=\"none\" id=\"E1-backto-E2\" style=\"stroke:#181818;stroke-width:1.0;\"/><polygon fill=\"#181818\" points=\"181.73,252.87,174.6877,254.4213,173.4111,261.5185,180.4534,259.9672,181.73,252.87\" style=\"stroke:#181818;stroke-width:1.0;\"/></a></g><!--MD5=[2720a5a1f2c3fca2055b230370638851]\n",
       "link E2 to E3--><g id=\"link_E2_E3\"><a href=\"psysml:df8d299f-9da3-41cd-a9dd-6e3a0d30decc\" target=\"_top\" title=\"psysml:df8d299f-9da3-41cd-a9dd-6e3a0d30decc\" xlink:actuate=\"onRequest\" xlink:href=\"psysml:df8d299f-9da3-41cd-a9dd-6e3a0d30decc\" xlink:show=\"new\" xlink:title=\"psysml:df8d299f-9da3-41cd-a9dd-6e3a0d30decc\" xlink:type=\"simple\"><path d=\"M84.8,392 C93.79,408.14 105.85,429.82 115.4,446.97 \" fill=\"none\" id=\"E2-to-E3\" style=\"stroke:#181818;stroke-width:1.0;\"/><polygon fill=\"#181818\" points=\"118.02,451.68,117.1458,441.87,115.5918,447.3092,110.1526,445.7552,118.02,451.68\" style=\"stroke:#181818;stroke-width:1.0;\"/></a></g><!--MD5=[5d7b3810b1dd9b5164bea1151b29b665]\n",
       "reverse link E1 to E3--><g id=\"link_E1_E3\"><a href=\"psysml:5efd2738-c984-493d-a46e-1379d8b8bf4b\" target=\"_top\" title=\"psysml:5efd2738-c984-493d-a46e-1379d8b8bf4b\" xlink:actuate=\"onRequest\" xlink:href=\"psysml:5efd2738-c984-493d-a46e-1379d8b8bf4b\" xlink:show=\"new\" xlink:title=\"psysml:5efd2738-c984-493d-a46e-1379d8b8bf4b\" xlink:type=\"simple\"><path d=\"M214.2,296.36 C186.22,356.43 157.04,419.1 141.77,451.87 \" fill=\"none\" id=\"E1-backto-E3\" style=\"stroke:#181818;stroke-width:1.0;\"/><polygon fill=\"#181818\" points=\"219.78,284.39,213.6217,288.1417,214.7162,295.2692,220.8745,291.5176,219.78,284.39\" style=\"stroke:#181818;stroke-width:1.0;\"/></a></g><!--MD5=[f2c5c03aa1e8c0ba21c10a05e6444b8e]\n",
       "reverse link E1 to E4--><g id=\"link_E1_E4\"><a href=\"psysml:867ae522-9684-4034-9c56-5f70d3a76b09\" target=\"_top\" title=\"psysml:867ae522-9684-4034-9c56-5f70d3a76b09\" xlink:actuate=\"onRequest\" xlink:href=\"psysml:867ae522-9684-4034-9c56-5f70d3a76b09\" xlink:show=\"new\" xlink:title=\"psysml:867ae522-9684-4034-9c56-5f70d3a76b09\" xlink:type=\"simple\"><path d=\"M284,297.51 C284,315.33 284,331.5 284,343.75 \" fill=\"none\" id=\"E1-backto-E4\" style=\"stroke:#181818;stroke-width:1.0;\"/><polygon fill=\"#181818\" points=\"284,284.27,280,290.27,284,296.27,288,290.27,284,284.27\" style=\"stroke:#181818;stroke-width:1.0;\"/></a></g><!--MD5=[33238bef88d6431a141d8bc8fb12bca0]\n",
       "reverse link E1 to E5--><g id=\"link_E1_E5\"><a href=\"psysml:e0e8ad72-4177-4702-a62e-bf2c3ff4a78a\" target=\"_top\" title=\"psysml:e0e8ad72-4177-4702-a62e-bf2c3ff4a78a\" xlink:actuate=\"onRequest\" xlink:href=\"psysml:e0e8ad72-4177-4702-a62e-bf2c3ff4a78a\" xlink:show=\"new\" xlink:title=\"psysml:e0e8ad72-4177-4702-a62e-bf2c3ff4a78a\" xlink:type=\"simple\"><path d=\"M362.62,295.94 C372.32,314.38 381.14,331.14 387.77,343.75 \" fill=\"none\" id=\"E1-backto-E5\" style=\"stroke:#181818;stroke-width:1.0;\"/><polygon fill=\"#181818\" points=\"356.48,284.27,355.7333,291.4423,362.0668,294.8902,362.8134,287.7178,356.48,284.27\" style=\"stroke:#181818;stroke-width:1.0;\"/></a></g><!--MD5=[aca2ef284c2b1b90e17e73bf3f292c07]\n",
       "reverse link E1 to E6--><g id=\"link_E1_E6\"><a href=\"psysml:3e72a653-2f0b-4c94-896a-b70e2d6f389f\" target=\"_top\" title=\"psysml:3e72a653-2f0b-4c94-896a-b70e2d6f389f\" xlink:actuate=\"onRequest\" xlink:href=\"psysml:3e72a653-2f0b-4c94-896a-b70e2d6f389f\" xlink:show=\"new\" xlink:title=\"psysml:3e72a653-2f0b-4c94-896a-b70e2d6f389f\" xlink:type=\"simple\"><path d=\"M395.76,252.72 C431.91,287.08 468.6,321.95 491.78,343.98 \" fill=\"none\" id=\"E1-backto-E6\" style=\"stroke:#181818;stroke-width:1.0;\"/><polygon fill=\"#181818\" points=\"386.1,243.54,387.695,250.5725,394.8,251.805,393.205,244.7725,386.1,243.54\" style=\"stroke:#181818;stroke-width:1.0;\"/></a></g><!--MD5=[c19e715956aca966c037675d221b35b2]\n",
       "@startuml\r\n",
       " \r\n",
       "comp def \"DecisionTest\" as E1  << <<(B,lemonchiffon) action  def>> [[psysml:24509d73-250a-487a-bcd7-b59ee0863fbf ]] {\r\n",
       "##//attributes//##\r\n",
       "x <U+003D> 1\r\n",
       "- -\r\n",
       "##//actions//##\r\n",
       "A3\r\n",
       "- -\r\n",
       "##//successions//##\r\n",
       "noname first test x then null\r\n",
       "- -\r\n",
       "##//transitions//##\r\n",
       "\r\n",
       "\r\n",
       "\r\n",
       "\r\n",
       "\r\n",
       "\r\n",
       "S\r\n",
       "}\r\n",
       "comp usage \"test x  \" as E2  << <<(U,orange) decision node>> [[psysml:7d99bd45-3b62-4bbf-b126-0db5f71d3136 ]] {\r\n",
       "}\r\n",
       "comp usage \"<s>noname</s>  \" as E3  << <<(U,orange) decision node>> [[psysml:6dee609b-d6ae-4161-97b9-077c5f3bd0c2 ]] {\r\n",
       "}\r\n",
       "comp usage \"A1  \" as E4  << <<(U,orange) action>> [[psysml:f539a78a-befd-4456-a49f-f3788a07e7bd ]] {\r\n",
       "}\r\n",
       "comp usage \"A2  \" as E5  << <<(U,orange) action>> [[psysml:451b6b51-1ae2-4b81-be73-8fe0566d61d5 ]] {\r\n",
       "}\r\n",
       "comp usage \"A3  \" as E6  << <<(U,orange) action>> [[psysml:04e53eda-a597-4a9c-96a9-348d67cb9847 ]] {\r\n",
       "}\r\n",
       "E1 *- - E2 [[psysml:0a57c05e-4dd3-44ad-ba12-51402458bbf0 ]] \r\n",
       "E2 - -> E3 [[psysml:df8d299f-9da3-41cd-a9dd-6e3a0d30decc ]] \r\n",
       "E1 *- - E3 [[psysml:5efd2738-c984-493d-a46e-1379d8b8bf4b ]] \r\n",
       "E1 *- - E4 [[psysml:867ae522-9684-4034-9c56-5f70d3a76b09 ]] \r\n",
       "E1 *- - E5 [[psysml:e0e8ad72-4177-4702-a62e-bf2c3ff4a78a ]] \r\n",
       "E1 *- - E6 [[psysml:3e72a653-2f0b-4c94-896a-b70e2d6f389f ]] \r\n",
       "@enduml\r\n",
       "\n",
       "PlantUML version 1.2022.7(Mon Aug 22 17:01:30 UTC 2022)\n",
       "(EPL source distribution)\n",
       "Java Runtime: OpenJDK Runtime Environment\n",
       "JVM: OpenJDK 64-Bit Server VM\n",
       "Default Encoding: UTF-8\n",
       "Language: en\n",
       "Country: null\n",
       "--></g></svg>"
      ]
     },
     "execution_count": 31,
     "metadata": {},
     "output_type": "execute_result"
    }
   ],
   "source": [
    "%viz --style=\"PLANTUML\" --view=\"Tree\" \"DecisionTest\""
   ]
  },
  {
   "cell_type": "code",
   "execution_count": 32,
   "id": "fa889548",
   "metadata": {
    "execution": {
     "iopub.execute_input": "2024-12-16T03:28:02.743680Z",
     "iopub.status.busy": "2024-12-16T03:28:02.743471Z",
     "iopub.status.idle": "2024-12-16T03:28:02.790737Z",
     "shell.execute_reply": "2024-12-16T03:28:02.789992Z"
    }
   },
   "outputs": [
    {
     "data": {
      "image/svg+xml": [
       "<?xml version=\"1.0\" encoding=\"UTF-8\" standalone=\"no\"?><svg xmlns=\"http://www.w3.org/2000/svg\" xmlns:xlink=\"http://www.w3.org/1999/xlink\" contentStyleType=\"text/css\" height=\"389px\" preserveAspectRatio=\"none\" style=\"width:603px;height:389px;background:#000000;\" version=\"1.1\" viewBox=\"0 0 603 389\" width=\"603px\" zoomAndPan=\"magnify\"><defs/><g><rect fill=\"#200510\" height=\"1\" style=\"stroke:#200510;stroke-width:1.0;\" width=\"1\" x=\"0\" y=\"0\"/><rect fill=\"#FFFFFF\" height=\"226.6573\" style=\"stroke:#FFFFFF;stroke-width:1.0;\" width=\"602\" x=\"0\" y=\"0\"/><text fill=\"#000000\" font-family=\"sans-serif\" font-size=\"12\" font-weight=\"bold\" lengthAdjust=\"spacing\" textLength=\"145.75\" x=\"5\" y=\"16.1387\">Welcome to PlantUML!</text><text fill=\"#000000\" font-family=\"sans-serif\" font-size=\"12\" lengthAdjust=\"spacing\" textLength=\"4\" x=\"5\" y=\"30.1074\"> </text><text fill=\"#000000\" font-family=\"sans-serif\" font-size=\"12\" lengthAdjust=\"spacing\" textLength=\"283\" x=\"5\" y=\"44.0762\">You can start with a simple UML Diagram like:</text><text fill=\"#000000\" font-family=\"sans-serif\" font-size=\"12\" lengthAdjust=\"spacing\" textLength=\"4\" x=\"5\" y=\"58.0449\"> </text><text fill=\"#000000\" font-family=\"monospace\" font-size=\"12\" lengthAdjust=\"spacing\" textLength=\"119\" x=\"5\" y=\"73.7031\">Bob-&gt;Alice: Hello</text><text fill=\"#000000\" font-family=\"sans-serif\" font-size=\"12\" lengthAdjust=\"spacing\" textLength=\"4\" x=\"5\" y=\"88.3578\"> </text><text fill=\"#000000\" font-family=\"sans-serif\" font-size=\"12\" lengthAdjust=\"spacing\" textLength=\"14\" x=\"5\" y=\"102.3265\">Or</text><text fill=\"#000000\" font-family=\"sans-serif\" font-size=\"12\" lengthAdjust=\"spacing\" textLength=\"4\" x=\"5\" y=\"116.2953\"> </text><text fill=\"#000000\" font-family=\"monospace\" font-size=\"12\" lengthAdjust=\"spacing\" textLength=\"91\" x=\"5\" y=\"131.9535\">class Example</text><text fill=\"#000000\" font-family=\"sans-serif\" font-size=\"12\" lengthAdjust=\"spacing\" textLength=\"4\" x=\"5\" y=\"146.6082\"> </text><text fill=\"#000000\" font-family=\"sans-serif\" font-size=\"12\" lengthAdjust=\"spacing\" textLength=\"349\" x=\"5\" y=\"160.5769\">You will find more information about PlantUML syntax on</text><text fill=\"#000000\" font-family=\"sans-serif\" font-size=\"12\" lengthAdjust=\"spacing\" text-decoration=\"underline\" textLength=\"129\" x=\"358\" y=\"160.5769\">https://plantuml.com</text><text fill=\"#000000\" font-family=\"sans-serif\" font-size=\"12\" lengthAdjust=\"spacing\" textLength=\"4\" x=\"5\" y=\"174.5457\"> </text><text fill=\"#000000\" font-family=\"sans-serif\" font-size=\"12\" lengthAdjust=\"spacing\" textLength=\"299\" x=\"5\" y=\"188.5144\">(If you use this software, you accept its license)</text><text fill=\"#000000\" font-family=\"sans-serif\" font-size=\"12\" lengthAdjust=\"spacing\" textLength=\"108\" x=\"5\" y=\"204.8585\">(Details by typing</text><text fill=\"#000000\" font-family=\"monospace\" font-size=\"12\" lengthAdjust=\"spacing\" textLength=\"49\" x=\"117\" y=\"204.1726\">license</text><text fill=\"#000000\" font-family=\"sans-serif\" font-size=\"12\" lengthAdjust=\"spacing\" textLength=\"56\" x=\"170\" y=\"204.8585\">keyword)</text><text fill=\"#000000\" font-family=\"sans-serif\" font-size=\"12\" lengthAdjust=\"spacing\" textLength=\"4\" x=\"5\" y=\"218.8273\"> </text><image height=\"71\" width=\"80\" x=\"516\" xlink:href=\"data:image/png;base64,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\" y=\"6\"/><rect fill=\"#000000\" height=\"160.3594\" style=\"stroke:#000000;stroke-width:1.0;\" width=\"602\" x=\"0\" y=\"226.6573\"/><text fill=\"#33FF02\" font-family=\"sans-serif\" font-size=\"12\" font-style=\"italic\" font-weight=\"bold\" lengthAdjust=\"spacing\" textLength=\"123\" x=\"5\" y=\"243.6573\">PlantUML 1.2022.7</text><text fill=\"#33FF02\" font-family=\"sans-serif\" font-size=\"12\" font-style=\"italic\" font-weight=\"bold\" lengthAdjust=\"spacing\" textLength=\"4\" x=\"5\" y=\"257.6261\"> </text><text fill=\"#33FF02\" font-family=\"sans-serif\" font-size=\"12\" font-style=\"italic\" font-weight=\"bold\" lengthAdjust=\"spacing\" textLength=\"390\" x=\"5\" y=\"271.5948\">&lt;b&gt;This version of PlantUML is 846 days old, so you should</text><text fill=\"#33FF02\" font-family=\"sans-serif\" font-size=\"12\" font-style=\"italic\" font-weight=\"bold\" lengthAdjust=\"spacing\" textLength=\"398.875\" x=\"5\" y=\"285.5636\">&lt;b&gt;consider upgrading from https://plantuml.com/download</text><rect fill=\"#33FF02\" height=\"21.2969\" style=\"stroke:#33FF02;stroke-width:1.0;\" width=\"153.3125\" x=\"5\" y=\"295.5323\"/><text fill=\"#000000\" font-family=\"sans-serif\" font-size=\"14\" font-weight=\"bold\" lengthAdjust=\"spacing\" textLength=\"151.3125\" x=\"6\" y=\"310.5323\">[From string (line 2) ]</text><text fill=\"#33FF02\" font-family=\"sans-serif\" font-size=\"14\" font-weight=\"bold\" lengthAdjust=\"spacing\" textLength=\"4\" x=\"5\" y=\"330.8292\"> </text><text fill=\"#33FF02\" font-family=\"sans-serif\" font-size=\"14\" font-weight=\"bold\" lengthAdjust=\"spacing\" textLength=\"73.9375\" x=\"5\" y=\"347.1261\">@startuml</text><text fill=\"#33FF02\" font-family=\"sans-serif\" font-size=\"14\" font-weight=\"bold\" lengthAdjust=\"spacing\" text-decoration=\"wavy underline\" textLength=\"4\" x=\"5\" y=\"363.423\"> </text><text fill=\"#FF0000\" font-family=\"sans-serif\" font-size=\"14\" font-weight=\"bold\" lengthAdjust=\"spacing\" textLength=\"131\" x=\"9\" y=\"379.7198\">Empty description</text><!--MD5=[5b6570bdd48fecdb4121f0162c378f28]\n",
       "@startuml\r\n",
       " \r\n",
       "@enduml\r\n",
       "\n",
       "PlantUML version 1.2022.7(Mon Aug 22 17:01:30 UTC 2022)\n",
       "(EPL source distribution)\n",
       "Java Runtime: OpenJDK Runtime Environment\n",
       "JVM: OpenJDK 64-Bit Server VM\n",
       "Default Encoding: UTF-8\n",
       "Language: en\n",
       "Country: null\n",
       "--></g></svg>"
      ]
     },
     "execution_count": 32,
     "metadata": {},
     "output_type": "execute_result"
    }
   ],
   "source": [
    "%viz --style=\"PLANTUML\" --view=\"State\" \"DecisionTest\""
   ]
  },
  {
   "cell_type": "code",
   "execution_count": 33,
   "id": "71d812a1",
   "metadata": {
    "execution": {
     "iopub.execute_input": "2024-12-16T03:28:02.843191Z",
     "iopub.status.busy": "2024-12-16T03:28:02.842816Z",
     "iopub.status.idle": "2024-12-16T03:28:02.865034Z",
     "shell.execute_reply": "2024-12-16T03:28:02.864078Z"
    }
   },
   "outputs": [
    {
     "data": {
      "image/svg+xml": [
       "<?xml version=\"1.0\" encoding=\"UTF-8\" standalone=\"no\"?><svg xmlns=\"http://www.w3.org/2000/svg\" xmlns:xlink=\"http://www.w3.org/1999/xlink\" contentStyleType=\"text/css\" height=\"338px\" preserveAspectRatio=\"none\" style=\"width:354px;height:338px;background:#FFFFFF;\" version=\"1.1\" viewBox=\"0 0 354 338\" width=\"354px\" zoomAndPan=\"magnify\"><defs/><g><!--MD5=[fbc87193dbaf4d95561dea2c320d4a47]\n",
       "cluster E1--><g id=\"cluster_E1\"><a href=\"psysml:24509d73-250a-487a-bcd7-b59ee0863fbf\" target=\"_top\" title=\"psysml:24509d73-250a-487a-bcd7-b59ee0863fbf\" xlink:actuate=\"onRequest\" xlink:href=\"psysml:24509d73-250a-487a-bcd7-b59ee0863fbf\" xlink:show=\"new\" xlink:title=\"psysml:24509d73-250a-487a-bcd7-b59ee0863fbf\" xlink:type=\"simple\"><rect fill=\"#FFFFFF\" height=\"325\" id=\"E1\" style=\"stroke:#A80036;stroke-width:1.5;\" width=\"341\" x=\"7\" y=\"7\"/><rect fill=\"#F1F1F1\" height=\"40.2656\" style=\"stroke:#A80036;stroke-width:1.5;\" width=\"341\" x=\"7\" y=\"7\"/><text fill=\"#000000\" font-family=\"sans-serif\" font-size=\"12\" font-style=\"italic\" lengthAdjust=\"spacing\" textLength=\"81\" x=\"137\" y=\"23.1387\">«action  def»</text><text fill=\"#000000\" font-family=\"sans-serif\" font-size=\"14\" lengthAdjust=\"spacing\" textLength=\"91\" x=\"132\" y=\"38.9639\">DecisionTest</text></a></g><g id=\"elem_E2\"><polygon fill=\"#F1F1F1\" points=\"210,58,222,70,210,82,198,70,210,58\" style=\"stroke:#181818;stroke-width:0.5;\"/></g><g id=\"elem_E3\"><polygon fill=\"#F1F1F1\" points=\"35,125.5,47,137.5,35,149.5,23,137.5,35,125.5\" style=\"stroke:#181818;stroke-width:0.5;\"/></g><g><a href=\"psysml:f539a78a-befd-4456-a49f-f3788a07e7bd\" target=\"_top\" title=\"psysml:f539a78a-befd-4456-a49f-f3788a07e7bd\" xlink:actuate=\"onRequest\" xlink:href=\"psysml:f539a78a-befd-4456-a49f-f3788a07e7bd\" xlink:show=\"new\" xlink:title=\"psysml:f539a78a-befd-4456-a49f-f3788a07e7bd\" xlink:type=\"simple\"><rect fill=\"#F1F1F1\" height=\"45.2656\" id=\"E4\" rx=\"10\" ry=\"10\" style=\"stroke:#A80036;stroke-width:1.5;\" width=\"86\" x=\"135\" y=\"193\"/><ellipse cx=\"152.25\" cy=\"213.1328\" fill=\"#FFA500\" rx=\"11\" ry=\"11\" style=\"stroke:#181818;stroke-width:1.0;\"/><path d=\"M152.3125,220.3047 Q150.2031,220.3047 149.1094,219.1797 Q148.0156,218.0547 148.0156,216.0078 L148.0156,207.9922 L150.4844,207.9922 L150.4844,215.5703 Q150.4844,217.0078 150.9375,217.6016 Q151.3906,218.1797 152.3438,218.1797 Q153.3594,218.1797 153.7813,217.5703 Q154.2188,216.9609 154.2188,215.5547 L154.2188,207.9922 L156.6875,207.9922 L156.6875,215.9922 Q156.6875,217.9766 155.5938,219.1484 Q154.5156,220.3047 152.3125,220.3047 Z \" fill=\"#000000\"/><text fill=\"#000000\" font-family=\"sans-serif\" font-size=\"12\" font-style=\"italic\" lengthAdjust=\"spacing\" textLength=\"53\" x=\"164.75\" y=\"209.1387\">«action»</text><text fill=\"#000000\" font-family=\"sans-serif\" font-size=\"14\" lengthAdjust=\"spacing\" textLength=\"18\" x=\"182.25\" y=\"224.9639\">A1</text></a></g><g><a href=\"psysml:451b6b51-1ae2-4b81-be73-8fe0566d61d5\" target=\"_top\" title=\"psysml:451b6b51-1ae2-4b81-be73-8fe0566d61d5\" xlink:actuate=\"onRequest\" xlink:href=\"psysml:451b6b51-1ae2-4b81-be73-8fe0566d61d5\" xlink:show=\"new\" xlink:title=\"psysml:451b6b51-1ae2-4b81-be73-8fe0566d61d5\" xlink:type=\"simple\"><rect fill=\"#F1F1F1\" height=\"45.2656\" id=\"E5\" rx=\"10\" ry=\"10\" style=\"stroke:#A80036;stroke-width:1.5;\" width=\"86\" x=\"135\" y=\"271\"/><ellipse cx=\"152.25\" cy=\"291.1328\" fill=\"#FFA500\" rx=\"11\" ry=\"11\" style=\"stroke:#181818;stroke-width:1.0;\"/><path d=\"M152.3125,298.3047 Q150.2031,298.3047 149.1094,297.1797 Q148.0156,296.0547 148.0156,294.0078 L148.0156,285.9922 L150.4844,285.9922 L150.4844,293.5703 Q150.4844,295.0078 150.9375,295.6016 Q151.3906,296.1797 152.3438,296.1797 Q153.3594,296.1797 153.7813,295.5703 Q154.2188,294.9609 154.2188,293.5547 L154.2188,285.9922 L156.6875,285.9922 L156.6875,293.9922 Q156.6875,295.9766 155.5938,297.1484 Q154.5156,298.3047 152.3125,298.3047 Z \" fill=\"#000000\"/><text fill=\"#000000\" font-family=\"sans-serif\" font-size=\"12\" font-style=\"italic\" lengthAdjust=\"spacing\" textLength=\"53\" x=\"164.75\" y=\"287.1387\">«action»</text><text fill=\"#000000\" font-family=\"sans-serif\" font-size=\"14\" lengthAdjust=\"spacing\" textLength=\"18\" x=\"182.25\" y=\"302.9639\">A2</text></a></g><g><a href=\"psysml:04e53eda-a597-4a9c-96a9-348d67cb9847\" target=\"_top\" title=\"psysml:04e53eda-a597-4a9c-96a9-348d67cb9847\" xlink:actuate=\"onRequest\" xlink:href=\"psysml:04e53eda-a597-4a9c-96a9-348d67cb9847\" xlink:show=\"new\" xlink:title=\"psysml:04e53eda-a597-4a9c-96a9-348d67cb9847\" xlink:type=\"simple\"><rect fill=\"#F1F1F1\" height=\"45.2656\" id=\"E6\" rx=\"10\" ry=\"10\" style=\"stroke:#A80036;stroke-width:1.5;\" width=\"86\" x=\"246\" y=\"115\"/><ellipse cx=\"263.25\" cy=\"135.1328\" fill=\"#FFA500\" rx=\"11\" ry=\"11\" style=\"stroke:#181818;stroke-width:1.0;\"/><path d=\"M263.3125,142.3047 Q261.2031,142.3047 260.1094,141.1797 Q259.0156,140.0547 259.0156,138.0078 L259.0156,129.9922 L261.4844,129.9922 L261.4844,137.5703 Q261.4844,139.0078 261.9375,139.6016 Q262.3906,140.1797 263.3438,140.1797 Q264.3594,140.1797 264.7813,139.5703 Q265.2188,138.9609 265.2188,137.5547 L265.2188,129.9922 L267.6875,129.9922 L267.6875,137.9922 Q267.6875,139.9766 266.5938,141.1484 Q265.5156,142.3047 263.3125,142.3047 Z \" fill=\"#000000\"/><text fill=\"#000000\" font-family=\"sans-serif\" font-size=\"12\" font-style=\"italic\" lengthAdjust=\"spacing\" textLength=\"53\" x=\"275.75\" y=\"131.1387\">«action»</text><text fill=\"#000000\" font-family=\"sans-serif\" font-size=\"14\" lengthAdjust=\"spacing\" textLength=\"18\" x=\"293.25\" y=\"146.9639\">A3</text></a></g><!--MD5=[4d03bb2d0377dc85ccfab60ff574652b]\n",
       "link E2 to E4--><g id=\"link_E2_E4\"><a href=\"psysml:0e1095c8-d4f6-4449-8c10-0793e56d6528\" target=\"_top\" title=\"psysml:0e1095c8-d4f6-4449-8c10-0793e56d6528\" xlink:actuate=\"onRequest\" xlink:href=\"psysml:0e1095c8-d4f6-4449-8c10-0793e56d6528\" xlink:show=\"new\" xlink:title=\"psysml:0e1095c8-d4f6-4449-8c10-0793e56d6528\" xlink:type=\"simple\"><path d=\"M201.56,73.67 C186.72,78.87 156.35,91.93 144,115 C131.37,138.59 144.35,167.79 157.75,188.43 \" fill=\"none\" id=\"E2-to-E4\" style=\"stroke:#181818;stroke-width:1.0;\"/><polygon fill=\"#181818\" points=\"160.61,192.71,158.9459,183.0027,157.8365,188.5497,152.2895,187.4403,160.61,192.71\" style=\"stroke:#181818;stroke-width:1.0;\"/><text fill=\"#000000\" font-family=\"sans-serif\" font-size=\"13\" lengthAdjust=\"spacing\" textLength=\"55\" x=\"145\" y=\"142.0669\">[x == 1]</text></a></g><!--MD5=[dcad52bbbca2fe8adc741ce38b45dc12]\n",
       "link E2 to E5--><g id=\"link_E2_E5\"><a href=\"psysml:0bc69c08-a059-419e-b618-d454e4819a50\" target=\"_top\" title=\"psysml:0bc69c08-a059-419e-b618-d454e4819a50\" xlink:actuate=\"onRequest\" xlink:href=\"psysml:0bc69c08-a059-419e-b618-d454e4819a50\" xlink:show=\"new\" xlink:title=\"psysml:0bc69c08-a059-419e-b618-d454e4819a50\" xlink:type=\"simple\"><path d=\"M211.08,81.14 C211.93,88.38 213.26,98.34 215,107 C219.8,130.89 222.36,136.56 229,160 C233.18,174.74 236.18,177.94 239,193 C243.34,216.22 242.11,222.39 243,246 C243.28,253.55 247.09,256.65 243,263 C238.8,269.52 232.77,274.61 226.06,278.59 \" fill=\"none\" id=\"E2-to-E5\" style=\"stroke:#181818;stroke-width:1.0;\"/><polygon fill=\"#181818\" points=\"221.32,281.17,231.1384,280.3965,225.7155,278.7867,227.3252,273.3638,221.32,281.17\" style=\"stroke:#181818;stroke-width:1.0;\"/><text fill=\"#000000\" font-family=\"sans-serif\" font-size=\"13\" lengthAdjust=\"spacing\" textLength=\"44\" x=\"238\" y=\"181.0669\">[x &gt; 1]</text></a></g><!--MD5=[e3e28c1befcf002155aa15e1416b4315]\n",
       "link E2 to E6--><g id=\"link_E2_E6\"><a href=\"psysml:7bfaba1c-8598-44bd-a9fd-5f850f0b7fd7\" target=\"_top\" title=\"psysml:7bfaba1c-8598-44bd-a9fd-5f850f0b7fd7\" xlink:actuate=\"onRequest\" xlink:href=\"psysml:7bfaba1c-8598-44bd-a9fd-5f850f0b7fd7\" xlink:show=\"new\" xlink:title=\"psysml:7bfaba1c-8598-44bd-a9fd-5f850f0b7fd7\" xlink:type=\"simple\"><path d=\"M214,78.35 C218.54,86.19 226.55,98.6 236,107 C237.87,108.66 239.85,110.27 241.9,111.82 \" fill=\"none\" id=\"E2-to-E6\" style=\"stroke:#181818;stroke-width:1.0;\"/><polygon fill=\"#181818\" points=\"246.2,114.91,241.2239,106.4107,242.1391,111.993,236.5567,112.9081,246.2,114.91\" style=\"stroke:#181818;stroke-width:1.0;\"/></a></g><!--MD5=[2351f337d6de0f557b50152ba70847b5]\n",
       "link E6 to E2--><g id=\"link_E6_E2\"><a href=\"psysml:31538477-4a34-40a9-aec8-5df805757767\" target=\"_top\" title=\"psysml:31538477-4a34-40a9-aec8-5df805757767\" xlink:actuate=\"onRequest\" xlink:href=\"psysml:31538477-4a34-40a9-aec8-5df805757767\" xlink:show=\"new\" xlink:title=\"psysml:31538477-4a34-40a9-aec8-5df805757767\" xlink:type=\"simple\"><path d=\"M265.95,114.84 C257.09,106.8 246.77,97.76 237,90 C231.91,85.96 226.04,81.77 221.07,78.36 \" fill=\"none\" id=\"E6-to-E2\" style=\"stroke:#181818;stroke-width:1.0;\"/><polygon fill=\"#181818\" points=\"216.82,75.47,222.017,83.836,220.956,78.2796,226.5124,77.2185,216.82,75.47\" style=\"stroke:#181818;stroke-width:1.0;\"/><text fill=\"#000000\" font-family=\"sans-serif\" font-size=\"13\" lengthAdjust=\"spacing\" textLength=\"44\" x=\"257\" y=\"103.0669\">[x &gt; 0]</text></a></g><!--MD5=[2720a5a1f2c3fca2055b230370638851]\n",
       "link E2 to E3--><g id=\"link_E2_E3\"><a href=\"psysml:df8d299f-9da3-41cd-a9dd-6e3a0d30decc\" target=\"_top\" title=\"psysml:df8d299f-9da3-41cd-a9dd-6e3a0d30decc\" xlink:actuate=\"onRequest\" xlink:href=\"psysml:df8d299f-9da3-41cd-a9dd-6e3a0d30decc\" xlink:show=\"new\" xlink:title=\"psysml:df8d299f-9da3-41cd-a9dd-6e3a0d30decc\" xlink:type=\"simple\"><path d=\"M199.51,71.63 C180.6,73.06 139.84,77.44 108,90 C83.89,99.51 59.12,117.32 45.54,127.92 \" fill=\"none\" id=\"E2-to-E3\" style=\"stroke:#181818;stroke-width:1.0;\"/><polygon fill=\"#181818\" points=\"41.37,131.22,50.9131,128.785,45.2951,128.1227,45.9574,122.5048,41.37,131.22\" style=\"stroke:#181818;stroke-width:1.0;\"/></a></g><!--MD5=[af87c684e3b0d8be13c1a698a818ef1e]\n",
       "link E3 to E4--><g id=\"link_E3_E4\"><a href=\"psysml:131b15c1-7866-4964-88c1-b03f264417a9\" target=\"_top\" title=\"psysml:131b15c1-7866-4964-88c1-b03f264417a9\" xlink:actuate=\"onRequest\" xlink:href=\"psysml:131b15c1-7866-4964-88c1-b03f264417a9\" xlink:show=\"new\" xlink:title=\"psysml:131b15c1-7866-4964-88c1-b03f264417a9\" xlink:type=\"simple\"><path d=\"M40.03,144.87 C48.22,154.82 65.4,174.06 84,185 C85.15,185.68 107.46,192.69 130.05,199.7 \" fill=\"none\" id=\"E3-to-E4\" style=\"stroke:#181818;stroke-width:1.0;\"/><polygon fill=\"#181818\" points=\"134.87,201.2,127.4606,194.7115,130.0948,199.7176,125.0887,202.3517,134.87,201.2\" style=\"stroke:#181818;stroke-width:1.0;\"/><text fill=\"#000000\" font-family=\"sans-serif\" font-size=\"13\" lengthAdjust=\"spacing\" textLength=\"36\" x=\"85\" y=\"181.0669\">[true]</text></a></g><!--MD5=[0188b64bb0ae78505a997a81836e11e9]\n",
       "link E3 to E5--><g id=\"link_E3_E5\"><a href=\"psysml:825f54b9-3c70-45c0-b332-e5b9a5c4b905\" target=\"_top\" title=\"psysml:825f54b9-3c70-45c0-b332-e5b9a5c4b905\" xlink:actuate=\"onRequest\" xlink:href=\"psysml:825f54b9-3c70-45c0-b332-e5b9a5c4b905\" xlink:show=\"new\" xlink:title=\"psysml:825f54b9-3c70-45c0-b332-e5b9a5c4b905\" xlink:type=\"simple\"><path d=\"M36.65,147.87 C40.43,166.96 51.4,210.88 76,238 C90.67,254.18 111.3,266.45 130.16,275.21 \" fill=\"none\" id=\"E3-to-E5\" style=\"stroke:#181818;stroke-width:1.0;\"/><polygon fill=\"#181818\" points=\"134.91,277.36,128.3528,270.0113,130.3528,275.3028,125.0613,277.3029,134.91,277.36\" style=\"stroke:#181818;stroke-width:1.0;\"/><text fill=\"#000000\" font-family=\"sans-serif\" font-size=\"13\" lengthAdjust=\"spacing\" textLength=\"40\" x=\"77\" y=\"220.0669\">[false]</text></a></g><!--MD5=[1b7591eae5389033d8d09a9d6721a717]\n",
       "link E4 to E5--><g id=\"link_E4_E5\"><a href=\"psysml:b3779ea1-0b8c-4465-ae00-48dbba13ac92\" target=\"_top\" title=\"psysml:b3779ea1-0b8c-4465-ae00-48dbba13ac92\" xlink:actuate=\"onRequest\" xlink:href=\"psysml:b3779ea1-0b8c-4465-ae00-48dbba13ac92\" xlink:show=\"new\" xlink:title=\"psysml:b3779ea1-0b8c-4465-ae00-48dbba13ac92\" xlink:type=\"simple\"><path d=\"M178,238.08 C178,246.66 178,256.63 178,265.67 \" fill=\"none\" id=\"E4-to-E5\" style=\"stroke:#181818;stroke-width:1.0;\"/><polygon fill=\"#181818\" points=\"178,270.87,182,261.87,178,265.87,174,261.87,178,270.87\" style=\"stroke:#181818;stroke-width:1.0;\"/><text fill=\"#000000\" font-family=\"sans-serif\" font-size=\"13\" lengthAdjust=\"spacing\" textLength=\"55\" x=\"179\" y=\"259.0669\">[x == 0]</text></a></g><!--MD5=[3385fc2b757b17cfa4d3a156b67b4cd8]\n",
       "@startuml\r\n",
       " skinparam ranksep 10\r\n",
       "skinparam rectangle {\r\n",
       " backgroundColor<<block>> LightGreen\r\n",
       "}\r\n",
       "\r\n",
       "rec def \"DecisionTest\" as E1  << <<(B,lemonchiffon) action  def>> [[psysml:24509d73-250a-487a-bcd7-b59ee0863fbf ]] {\r\n",
       "choice \"test x\" as E2  [[psysml:7d99bd45-3b62-4bbf-b126-0db5f71d3136 ]] \r\n",
       "choice \"<s>noname</s>\" as E3  [[psysml:6dee609b-d6ae-4161-97b9-077c5f3bd0c2 ]] \r\n",
       "rec usage \"A1\" as E4  << <<(U,orange) action>> [[psysml:f539a78a-befd-4456-a49f-f3788a07e7bd ]] {\r\n",
       "}\r\n",
       "\r\n",
       "rec usage \"A2\" as E5  << <<(U,orange) action>> [[psysml:451b6b51-1ae2-4b81-be73-8fe0566d61d5 ]] {\r\n",
       "}\r\n",
       "\r\n",
       "rec usage \"A3\" as E6  << <<(U,orange) action>> [[psysml:04e53eda-a597-4a9c-96a9-348d67cb9847 ]] {\r\n",
       "}\r\n",
       "\r\n",
       "}\r\n",
       "\r\n",
       "E2  - -> E4 [[psysml:0e1095c8-d4f6-4449-8c10-0793e56d6528 ]] : [x == 1]\r\n",
       "E2  - -> E5 [[psysml:0bc69c08-a059-419e-b618-d454e4819a50 ]] : [x > 1]\r\n",
       "E2  - -> E6 [[psysml:7bfaba1c-8598-44bd-a9fd-5f850f0b7fd7 ]] \r\n",
       "E2 - -> E3 [[psysml:df8d299f-9da3-41cd-a9dd-6e3a0d30decc ]] \r\n",
       "E3  - -> E4 [[psysml:131b15c1-7866-4964-88c1-b03f264417a9 ]] : [true]\r\n",
       "E3  - -> E5 [[psysml:825f54b9-3c70-45c0-b332-e5b9a5c4b905 ]] : [false]\r\n",
       "E4  - -> E5 [[psysml:b3779ea1-0b8c-4465-ae00-48dbba13ac92 ]] : [x == 0]\r\n",
       "E6  - -> E2 [[psysml:31538477-4a34-40a9-aec8-5df805757767 ]] : [x > 0]\r\n",
       "@enduml\r\n",
       "\n",
       "PlantUML version 1.2022.7(Mon Aug 22 17:01:30 UTC 2022)\n",
       "(EPL source distribution)\n",
       "Java Runtime: OpenJDK Runtime Environment\n",
       "JVM: OpenJDK 64-Bit Server VM\n",
       "Default Encoding: UTF-8\n",
       "Language: en\n",
       "Country: null\n",
       "--></g></svg>"
      ]
     },
     "execution_count": 33,
     "metadata": {},
     "output_type": "execute_result"
    }
   ],
   "source": [
    "%viz --style=\"PLANTUML\" --view=\"Interconnection\" \"DecisionTest\""
   ]
  },
  {
   "cell_type": "code",
   "execution_count": 34,
   "id": "b2b59f18",
   "metadata": {
    "execution": {
     "iopub.execute_input": "2024-12-16T03:28:02.920956Z",
     "iopub.status.busy": "2024-12-16T03:28:02.920739Z",
     "iopub.status.idle": "2024-12-16T03:28:02.941315Z",
     "shell.execute_reply": "2024-12-16T03:28:02.940533Z"
    }
   },
   "outputs": [
    {
     "data": {
      "image/svg+xml": [
       "<?xml version=\"1.0\" encoding=\"UTF-8\" standalone=\"no\"?><svg xmlns=\"http://www.w3.org/2000/svg\" xmlns:xlink=\"http://www.w3.org/1999/xlink\" contentStyleType=\"text/css\" height=\"338px\" preserveAspectRatio=\"none\" style=\"width:354px;height:338px;background:#FFFFFF;\" version=\"1.1\" viewBox=\"0 0 354 338\" width=\"354px\" zoomAndPan=\"magnify\"><defs/><g><!--MD5=[fbc87193dbaf4d95561dea2c320d4a47]\n",
       "cluster E1--><g id=\"cluster_E1\"><a href=\"psysml:24509d73-250a-487a-bcd7-b59ee0863fbf\" target=\"_top\" title=\"psysml:24509d73-250a-487a-bcd7-b59ee0863fbf\" xlink:actuate=\"onRequest\" xlink:href=\"psysml:24509d73-250a-487a-bcd7-b59ee0863fbf\" xlink:show=\"new\" xlink:title=\"psysml:24509d73-250a-487a-bcd7-b59ee0863fbf\" xlink:type=\"simple\"><rect fill=\"#FFFFFF\" height=\"325\" id=\"E1\" style=\"stroke:#A80036;stroke-width:1.5;\" width=\"341\" x=\"7\" y=\"7\"/><rect fill=\"#F1F1F1\" height=\"40.2656\" style=\"stroke:#A80036;stroke-width:1.5;\" width=\"341\" x=\"7\" y=\"7\"/><text fill=\"#000000\" font-family=\"sans-serif\" font-size=\"12\" font-style=\"italic\" lengthAdjust=\"spacing\" textLength=\"81\" x=\"137\" y=\"23.1387\">«action  def»</text><text fill=\"#000000\" font-family=\"sans-serif\" font-size=\"14\" lengthAdjust=\"spacing\" textLength=\"91\" x=\"132\" y=\"38.9639\">DecisionTest</text></a></g><g id=\"elem_E2\"><polygon fill=\"#F1F1F1\" points=\"210,58,222,70,210,82,198,70,210,58\" style=\"stroke:#181818;stroke-width:0.5;\"/></g><g id=\"elem_E3\"><polygon fill=\"#F1F1F1\" points=\"35,125.5,47,137.5,35,149.5,23,137.5,35,125.5\" style=\"stroke:#181818;stroke-width:0.5;\"/></g><g><a href=\"psysml:f539a78a-befd-4456-a49f-f3788a07e7bd\" target=\"_top\" title=\"psysml:f539a78a-befd-4456-a49f-f3788a07e7bd\" xlink:actuate=\"onRequest\" xlink:href=\"psysml:f539a78a-befd-4456-a49f-f3788a07e7bd\" xlink:show=\"new\" xlink:title=\"psysml:f539a78a-befd-4456-a49f-f3788a07e7bd\" xlink:type=\"simple\"><rect fill=\"#F1F1F1\" height=\"45.2656\" id=\"E4\" rx=\"10\" ry=\"10\" style=\"stroke:#A80036;stroke-width:1.5;\" width=\"86\" x=\"135\" y=\"193\"/><ellipse cx=\"152.25\" cy=\"213.1328\" fill=\"#FFA500\" rx=\"11\" ry=\"11\" style=\"stroke:#181818;stroke-width:1.0;\"/><path d=\"M152.3125,220.3047 Q150.2031,220.3047 149.1094,219.1797 Q148.0156,218.0547 148.0156,216.0078 L148.0156,207.9922 L150.4844,207.9922 L150.4844,215.5703 Q150.4844,217.0078 150.9375,217.6016 Q151.3906,218.1797 152.3438,218.1797 Q153.3594,218.1797 153.7813,217.5703 Q154.2188,216.9609 154.2188,215.5547 L154.2188,207.9922 L156.6875,207.9922 L156.6875,215.9922 Q156.6875,217.9766 155.5938,219.1484 Q154.5156,220.3047 152.3125,220.3047 Z \" fill=\"#000000\"/><text fill=\"#000000\" font-family=\"sans-serif\" font-size=\"12\" font-style=\"italic\" lengthAdjust=\"spacing\" textLength=\"53\" x=\"164.75\" y=\"209.1387\">«action»</text><text fill=\"#000000\" font-family=\"sans-serif\" font-size=\"14\" lengthAdjust=\"spacing\" textLength=\"18\" x=\"182.25\" y=\"224.9639\">A1</text></a></g><g><a href=\"psysml:451b6b51-1ae2-4b81-be73-8fe0566d61d5\" target=\"_top\" title=\"psysml:451b6b51-1ae2-4b81-be73-8fe0566d61d5\" xlink:actuate=\"onRequest\" xlink:href=\"psysml:451b6b51-1ae2-4b81-be73-8fe0566d61d5\" xlink:show=\"new\" xlink:title=\"psysml:451b6b51-1ae2-4b81-be73-8fe0566d61d5\" xlink:type=\"simple\"><rect fill=\"#F1F1F1\" height=\"45.2656\" id=\"E5\" rx=\"10\" ry=\"10\" style=\"stroke:#A80036;stroke-width:1.5;\" width=\"86\" x=\"135\" y=\"271\"/><ellipse cx=\"152.25\" cy=\"291.1328\" fill=\"#FFA500\" rx=\"11\" ry=\"11\" style=\"stroke:#181818;stroke-width:1.0;\"/><path d=\"M152.3125,298.3047 Q150.2031,298.3047 149.1094,297.1797 Q148.0156,296.0547 148.0156,294.0078 L148.0156,285.9922 L150.4844,285.9922 L150.4844,293.5703 Q150.4844,295.0078 150.9375,295.6016 Q151.3906,296.1797 152.3438,296.1797 Q153.3594,296.1797 153.7813,295.5703 Q154.2188,294.9609 154.2188,293.5547 L154.2188,285.9922 L156.6875,285.9922 L156.6875,293.9922 Q156.6875,295.9766 155.5938,297.1484 Q154.5156,298.3047 152.3125,298.3047 Z \" fill=\"#000000\"/><text fill=\"#000000\" font-family=\"sans-serif\" font-size=\"12\" font-style=\"italic\" lengthAdjust=\"spacing\" textLength=\"53\" x=\"164.75\" y=\"287.1387\">«action»</text><text fill=\"#000000\" font-family=\"sans-serif\" font-size=\"14\" lengthAdjust=\"spacing\" textLength=\"18\" x=\"182.25\" y=\"302.9639\">A2</text></a></g><g><a href=\"psysml:04e53eda-a597-4a9c-96a9-348d67cb9847\" target=\"_top\" title=\"psysml:04e53eda-a597-4a9c-96a9-348d67cb9847\" xlink:actuate=\"onRequest\" xlink:href=\"psysml:04e53eda-a597-4a9c-96a9-348d67cb9847\" xlink:show=\"new\" xlink:title=\"psysml:04e53eda-a597-4a9c-96a9-348d67cb9847\" xlink:type=\"simple\"><rect fill=\"#F1F1F1\" height=\"45.2656\" id=\"E6\" rx=\"10\" ry=\"10\" style=\"stroke:#A80036;stroke-width:1.5;\" width=\"86\" x=\"246\" y=\"115\"/><ellipse cx=\"263.25\" cy=\"135.1328\" fill=\"#FFA500\" rx=\"11\" ry=\"11\" style=\"stroke:#181818;stroke-width:1.0;\"/><path d=\"M263.3125,142.3047 Q261.2031,142.3047 260.1094,141.1797 Q259.0156,140.0547 259.0156,138.0078 L259.0156,129.9922 L261.4844,129.9922 L261.4844,137.5703 Q261.4844,139.0078 261.9375,139.6016 Q262.3906,140.1797 263.3438,140.1797 Q264.3594,140.1797 264.7813,139.5703 Q265.2188,138.9609 265.2188,137.5547 L265.2188,129.9922 L267.6875,129.9922 L267.6875,137.9922 Q267.6875,139.9766 266.5938,141.1484 Q265.5156,142.3047 263.3125,142.3047 Z \" fill=\"#000000\"/><text fill=\"#000000\" font-family=\"sans-serif\" font-size=\"12\" font-style=\"italic\" lengthAdjust=\"spacing\" textLength=\"53\" x=\"275.75\" y=\"131.1387\">«action»</text><text fill=\"#000000\" font-family=\"sans-serif\" font-size=\"14\" lengthAdjust=\"spacing\" textLength=\"18\" x=\"293.25\" y=\"146.9639\">A3</text></a></g><!--MD5=[4d03bb2d0377dc85ccfab60ff574652b]\n",
       "link E2 to E4--><g id=\"link_E2_E4\"><a href=\"psysml:0e1095c8-d4f6-4449-8c10-0793e56d6528\" target=\"_top\" title=\"psysml:0e1095c8-d4f6-4449-8c10-0793e56d6528\" xlink:actuate=\"onRequest\" xlink:href=\"psysml:0e1095c8-d4f6-4449-8c10-0793e56d6528\" xlink:show=\"new\" xlink:title=\"psysml:0e1095c8-d4f6-4449-8c10-0793e56d6528\" xlink:type=\"simple\"><path d=\"M201.56,73.67 C186.72,78.87 156.35,91.93 144,115 C131.37,138.59 144.35,167.79 157.75,188.43 \" fill=\"none\" id=\"E2-to-E4\" style=\"stroke:#181818;stroke-width:1.0;stroke-dasharray:7.0,7.0;\"/><polygon fill=\"#181818\" points=\"160.61,192.71,158.9459,183.0027,157.8365,188.5497,152.2895,187.4403,160.61,192.71\" style=\"stroke:#181818;stroke-width:1.0;\"/><text fill=\"#000000\" font-family=\"sans-serif\" font-size=\"13\" lengthAdjust=\"spacing\" textLength=\"55\" x=\"145\" y=\"142.0669\">[x == 1]</text></a></g><!--MD5=[dcad52bbbca2fe8adc741ce38b45dc12]\n",
       "link E2 to E5--><g id=\"link_E2_E5\"><a href=\"psysml:0bc69c08-a059-419e-b618-d454e4819a50\" target=\"_top\" title=\"psysml:0bc69c08-a059-419e-b618-d454e4819a50\" xlink:actuate=\"onRequest\" xlink:href=\"psysml:0bc69c08-a059-419e-b618-d454e4819a50\" xlink:show=\"new\" xlink:title=\"psysml:0bc69c08-a059-419e-b618-d454e4819a50\" xlink:type=\"simple\"><path d=\"M211.08,81.14 C211.93,88.38 213.26,98.34 215,107 C219.8,130.89 222.36,136.56 229,160 C233.18,174.74 236.18,177.94 239,193 C243.34,216.22 242.11,222.39 243,246 C243.28,253.55 247.09,256.65 243,263 C238.8,269.52 232.77,274.61 226.06,278.59 \" fill=\"none\" id=\"E2-to-E5\" style=\"stroke:#181818;stroke-width:1.0;stroke-dasharray:7.0,7.0;\"/><polygon fill=\"#181818\" points=\"221.32,281.17,231.1384,280.3965,225.7155,278.7867,227.3252,273.3638,221.32,281.17\" style=\"stroke:#181818;stroke-width:1.0;\"/><text fill=\"#000000\" font-family=\"sans-serif\" font-size=\"13\" lengthAdjust=\"spacing\" textLength=\"44\" x=\"238\" y=\"181.0669\">[x &gt; 1]</text></a></g><!--MD5=[e3e28c1befcf002155aa15e1416b4315]\n",
       "link E2 to E6--><g id=\"link_E2_E6\"><a href=\"psysml:7bfaba1c-8598-44bd-a9fd-5f850f0b7fd7\" target=\"_top\" title=\"psysml:7bfaba1c-8598-44bd-a9fd-5f850f0b7fd7\" xlink:actuate=\"onRequest\" xlink:href=\"psysml:7bfaba1c-8598-44bd-a9fd-5f850f0b7fd7\" xlink:show=\"new\" xlink:title=\"psysml:7bfaba1c-8598-44bd-a9fd-5f850f0b7fd7\" xlink:type=\"simple\"><path d=\"M214,78.35 C218.54,86.19 226.55,98.6 236,107 C237.87,108.66 239.85,110.27 241.9,111.82 \" fill=\"none\" id=\"E2-to-E6\" style=\"stroke:#181818;stroke-width:1.0;stroke-dasharray:7.0,7.0;\"/><polygon fill=\"#181818\" points=\"246.2,114.91,241.2239,106.4107,242.1391,111.993,236.5567,112.9081,246.2,114.91\" style=\"stroke:#181818;stroke-width:1.0;\"/></a></g><!--MD5=[2351f337d6de0f557b50152ba70847b5]\n",
       "link E6 to E2--><g id=\"link_E6_E2\"><a href=\"psysml:31538477-4a34-40a9-aec8-5df805757767\" target=\"_top\" title=\"psysml:31538477-4a34-40a9-aec8-5df805757767\" xlink:actuate=\"onRequest\" xlink:href=\"psysml:31538477-4a34-40a9-aec8-5df805757767\" xlink:show=\"new\" xlink:title=\"psysml:31538477-4a34-40a9-aec8-5df805757767\" xlink:type=\"simple\"><path d=\"M265.95,114.84 C257.09,106.8 246.77,97.76 237,90 C231.91,85.96 226.04,81.77 221.07,78.36 \" fill=\"none\" id=\"E6-to-E2\" style=\"stroke:#181818;stroke-width:1.0;stroke-dasharray:7.0,7.0;\"/><polygon fill=\"#181818\" points=\"216.82,75.47,222.017,83.836,220.956,78.2796,226.5124,77.2185,216.82,75.47\" style=\"stroke:#181818;stroke-width:1.0;\"/><text fill=\"#000000\" font-family=\"sans-serif\" font-size=\"13\" lengthAdjust=\"spacing\" textLength=\"44\" x=\"257\" y=\"103.0669\">[x &gt; 0]</text></a></g><!--MD5=[2720a5a1f2c3fca2055b230370638851]\n",
       "link E2 to E3--><g id=\"link_E2_E3\"><a href=\"psysml:df8d299f-9da3-41cd-a9dd-6e3a0d30decc\" target=\"_top\" title=\"psysml:df8d299f-9da3-41cd-a9dd-6e3a0d30decc\" xlink:actuate=\"onRequest\" xlink:href=\"psysml:df8d299f-9da3-41cd-a9dd-6e3a0d30decc\" xlink:show=\"new\" xlink:title=\"psysml:df8d299f-9da3-41cd-a9dd-6e3a0d30decc\" xlink:type=\"simple\"><path d=\"M199.51,71.63 C180.6,73.06 139.84,77.44 108,90 C83.89,99.51 59.12,117.32 45.54,127.92 \" fill=\"none\" id=\"E2-to-E3\" style=\"stroke:#181818;stroke-width:1.0;stroke-dasharray:7.0,7.0;\"/><polygon fill=\"#181818\" points=\"41.37,131.22,50.9131,128.785,45.2951,128.1227,45.9574,122.5048,41.37,131.22\" style=\"stroke:#181818;stroke-width:1.0;\"/></a></g><!--MD5=[af87c684e3b0d8be13c1a698a818ef1e]\n",
       "link E3 to E4--><g id=\"link_E3_E4\"><a href=\"psysml:131b15c1-7866-4964-88c1-b03f264417a9\" target=\"_top\" title=\"psysml:131b15c1-7866-4964-88c1-b03f264417a9\" xlink:actuate=\"onRequest\" xlink:href=\"psysml:131b15c1-7866-4964-88c1-b03f264417a9\" xlink:show=\"new\" xlink:title=\"psysml:131b15c1-7866-4964-88c1-b03f264417a9\" xlink:type=\"simple\"><path d=\"M40.03,144.87 C48.22,154.82 65.4,174.06 84,185 C85.15,185.68 107.46,192.69 130.05,199.7 \" fill=\"none\" id=\"E3-to-E4\" style=\"stroke:#181818;stroke-width:1.0;stroke-dasharray:7.0,7.0;\"/><polygon fill=\"#181818\" points=\"134.87,201.2,127.4606,194.7115,130.0948,199.7176,125.0887,202.3517,134.87,201.2\" style=\"stroke:#181818;stroke-width:1.0;\"/><text fill=\"#000000\" font-family=\"sans-serif\" font-size=\"13\" lengthAdjust=\"spacing\" textLength=\"36\" x=\"85\" y=\"181.0669\">[true]</text></a></g><!--MD5=[0188b64bb0ae78505a997a81836e11e9]\n",
       "link E3 to E5--><g id=\"link_E3_E5\"><a href=\"psysml:825f54b9-3c70-45c0-b332-e5b9a5c4b905\" target=\"_top\" title=\"psysml:825f54b9-3c70-45c0-b332-e5b9a5c4b905\" xlink:actuate=\"onRequest\" xlink:href=\"psysml:825f54b9-3c70-45c0-b332-e5b9a5c4b905\" xlink:show=\"new\" xlink:title=\"psysml:825f54b9-3c70-45c0-b332-e5b9a5c4b905\" xlink:type=\"simple\"><path d=\"M36.65,147.87 C40.43,166.96 51.4,210.88 76,238 C90.67,254.18 111.3,266.45 130.16,275.21 \" fill=\"none\" id=\"E3-to-E5\" style=\"stroke:#181818;stroke-width:1.0;stroke-dasharray:7.0,7.0;\"/><polygon fill=\"#181818\" points=\"134.91,277.36,128.3528,270.0113,130.3528,275.3028,125.0613,277.3029,134.91,277.36\" style=\"stroke:#181818;stroke-width:1.0;\"/><text fill=\"#000000\" font-family=\"sans-serif\" font-size=\"13\" lengthAdjust=\"spacing\" textLength=\"40\" x=\"77\" y=\"220.0669\">[false]</text></a></g><!--MD5=[1b7591eae5389033d8d09a9d6721a717]\n",
       "link E4 to E5--><g id=\"link_E4_E5\"><a href=\"psysml:b3779ea1-0b8c-4465-ae00-48dbba13ac92\" target=\"_top\" title=\"psysml:b3779ea1-0b8c-4465-ae00-48dbba13ac92\" xlink:actuate=\"onRequest\" xlink:href=\"psysml:b3779ea1-0b8c-4465-ae00-48dbba13ac92\" xlink:show=\"new\" xlink:title=\"psysml:b3779ea1-0b8c-4465-ae00-48dbba13ac92\" xlink:type=\"simple\"><path d=\"M178,238.08 C178,246.66 178,256.63 178,265.67 \" fill=\"none\" id=\"E4-to-E5\" style=\"stroke:#181818;stroke-width:1.0;stroke-dasharray:7.0,7.0;\"/><polygon fill=\"#181818\" points=\"178,270.87,182,261.87,178,265.87,174,261.87,178,270.87\" style=\"stroke:#181818;stroke-width:1.0;\"/><text fill=\"#000000\" font-family=\"sans-serif\" font-size=\"13\" lengthAdjust=\"spacing\" textLength=\"55\" x=\"179\" y=\"259.0669\">[x == 0]</text></a></g><!--MD5=[820e85fb419b300fac3f9915f5c9a114]\n",
       "@startuml\r\n",
       " skinparam ranksep 8\r\n",
       "\r\n",
       "rec def \"DecisionTest\" as E1  << <<(B,lemonchiffon) action  def>> [[psysml:24509d73-250a-487a-bcd7-b59ee0863fbf ]] {\r\n",
       "choice \"test x\" as E2  [[psysml:7d99bd45-3b62-4bbf-b126-0db5f71d3136 ]] \r\n",
       "choice \"<s>noname</s>\" as E3  [[psysml:6dee609b-d6ae-4161-97b9-077c5f3bd0c2 ]] \r\n",
       "rec usage \"A1\" as E4  << <<(U,orange) action>> [[psysml:f539a78a-befd-4456-a49f-f3788a07e7bd ]] {\r\n",
       "}\r\n",
       "\r\n",
       "rec usage \"A2\" as E5  << <<(U,orange) action>> [[psysml:451b6b51-1ae2-4b81-be73-8fe0566d61d5 ]] {\r\n",
       "}\r\n",
       "\r\n",
       "rec usage \"A3\" as E6  << <<(U,orange) action>> [[psysml:04e53eda-a597-4a9c-96a9-348d67cb9847 ]] {\r\n",
       "}\r\n",
       "\r\n",
       "}\r\n",
       "\r\n",
       "E2 ..> E4 [[psysml:0e1095c8-d4f6-4449-8c10-0793e56d6528 ]] : [x == 1]\r\n",
       "E2 ..> E5 [[psysml:0bc69c08-a059-419e-b618-d454e4819a50 ]] : [x > 1]\r\n",
       "E2 ..> E6 [[psysml:7bfaba1c-8598-44bd-a9fd-5f850f0b7fd7 ]] \r\n",
       "E2 ..> E3 [[psysml:df8d299f-9da3-41cd-a9dd-6e3a0d30decc ]] \r\n",
       "E3 ..> E4 [[psysml:131b15c1-7866-4964-88c1-b03f264417a9 ]] : [true]\r\n",
       "E3 ..> E5 [[psysml:825f54b9-3c70-45c0-b332-e5b9a5c4b905 ]] : [false]\r\n",
       "E4 ..> E5 [[psysml:b3779ea1-0b8c-4465-ae00-48dbba13ac92 ]] : [x == 0]\r\n",
       "E6 ..> E2 [[psysml:31538477-4a34-40a9-aec8-5df805757767 ]] : [x > 0]\r\n",
       "@enduml\r\n",
       "\n",
       "PlantUML version 1.2022.7(Mon Aug 22 17:01:30 UTC 2022)\n",
       "(EPL source distribution)\n",
       "Java Runtime: OpenJDK Runtime Environment\n",
       "JVM: OpenJDK 64-Bit Server VM\n",
       "Default Encoding: UTF-8\n",
       "Language: en\n",
       "Country: null\n",
       "--></g></svg>"
      ]
     },
     "execution_count": 34,
     "metadata": {},
     "output_type": "execute_result"
    }
   ],
   "source": [
    "%viz --style=\"PLANTUML\" --view=\"Action\" \"DecisionTest\""
   ]
  },
  {
   "cell_type": "code",
   "execution_count": 35,
   "id": "4b055ba1",
   "metadata": {
    "execution": {
     "iopub.execute_input": "2024-12-16T03:28:02.992962Z",
     "iopub.status.busy": "2024-12-16T03:28:02.992714Z",
     "iopub.status.idle": "2024-12-16T03:28:03.008576Z",
     "shell.execute_reply": "2024-12-16T03:28:03.008376Z"
    }
   },
   "outputs": [
    {
     "data": {
      "image/svg+xml": [
       "<?xml version=\"1.0\" encoding=\"UTF-8\" standalone=\"no\"?><svg xmlns=\"http://www.w3.org/2000/svg\" xmlns:xlink=\"http://www.w3.org/1999/xlink\" contentStyleType=\"text/css\" height=\"10px\" preserveAspectRatio=\"none\" style=\"width:10px;height:10px;background:#FFFFFF;\" version=\"1.1\" viewBox=\"0 0 10 10\" width=\"10px\" zoomAndPan=\"magnify\"><defs/><g><!--MD5=[395e82ba475bd2e80052467b56fa0251]\n",
       "@startuml\r\n",
       " skinparam roundcorner 20\r\n",
       "skinparam BoxPadding 20\r\n",
       "skinparam SequenceBoxBackgroundColor #white\r\n",
       "skinparam style strictuml\r\n",
       "skinparam maxMessageSize 100\r\n",
       "\r\n",
       "@enduml\r\n",
       "\n",
       "PlantUML version 1.2022.7(Mon Aug 22 17:01:30 UTC 2022)\n",
       "(EPL source distribution)\n",
       "Java Runtime: OpenJDK Runtime Environment\n",
       "JVM: OpenJDK 64-Bit Server VM\n",
       "Default Encoding: UTF-8\n",
       "Language: en\n",
       "Country: null\n",
       "--></g></svg>"
      ]
     },
     "execution_count": 35,
     "metadata": {},
     "output_type": "execute_result"
    }
   ],
   "source": [
    "%viz --style=\"PLANTUML\" --view=\"Sequence\" \"DecisionTest\""
   ]
  },
  {
   "cell_type": "code",
   "execution_count": 36,
   "id": "de14fb33",
   "metadata": {
    "execution": {
     "iopub.execute_input": "2024-12-16T03:28:03.063494Z",
     "iopub.status.busy": "2024-12-16T03:28:03.063202Z",
     "iopub.status.idle": "2024-12-16T03:28:03.085489Z",
     "shell.execute_reply": "2024-12-16T03:28:03.085263Z"
    }
   },
   "outputs": [
    {
     "data": {
      "image/svg+xml": [
       "<?xml version=\"1.0\" encoding=\"UTF-8\" standalone=\"no\"?><svg xmlns=\"http://www.w3.org/2000/svg\" xmlns:xlink=\"http://www.w3.org/1999/xlink\" contentStyleType=\"text/css\" height=\"470px\" preserveAspectRatio=\"none\" style=\"width:354px;height:470px;background:#FFFFFF;\" version=\"1.1\" viewBox=\"0 0 354 470\" width=\"354px\" zoomAndPan=\"magnify\"><defs/><g><!--MD5=[fbc87193dbaf4d95561dea2c320d4a47]\n",
       "cluster E1--><g id=\"cluster_E1\"><a href=\"psysml:24509d73-250a-487a-bcd7-b59ee0863fbf\" target=\"_top\" title=\"psysml:24509d73-250a-487a-bcd7-b59ee0863fbf\" xlink:actuate=\"onRequest\" xlink:href=\"psysml:24509d73-250a-487a-bcd7-b59ee0863fbf\" xlink:show=\"new\" xlink:title=\"psysml:24509d73-250a-487a-bcd7-b59ee0863fbf\" xlink:type=\"simple\"><rect fill=\"#FFFFFF\" height=\"457\" id=\"E1\" style=\"stroke:#A80036;stroke-width:1.5;\" width=\"341\" x=\"7\" y=\"7\"/><rect fill=\"#F1F1F1\" height=\"40.2656\" style=\"stroke:#A80036;stroke-width:1.5;\" width=\"341\" x=\"7\" y=\"7\"/><text fill=\"#000000\" font-family=\"sans-serif\" font-size=\"12\" font-style=\"italic\" lengthAdjust=\"spacing\" textLength=\"81\" x=\"137\" y=\"23.1387\">«action  def»</text><text fill=\"#000000\" font-family=\"sans-serif\" font-size=\"14\" lengthAdjust=\"spacing\" textLength=\"91\" x=\"132\" y=\"38.9639\">DecisionTest</text></a></g><g id=\"elem_E2\"><polygon fill=\"#F1F1F1\" points=\"210,58,222,70,210,82,198,70,210,58\" style=\"stroke:#181818;stroke-width:0.5;\"/></g><g id=\"elem_E3\"><polygon fill=\"#F1F1F1\" points=\"35,169.5,47,181.5,35,193.5,23,181.5,35,169.5\" style=\"stroke:#181818;stroke-width:0.5;\"/></g><g><a href=\"psysml:f539a78a-befd-4456-a49f-f3788a07e7bd\" target=\"_top\" title=\"psysml:f539a78a-befd-4456-a49f-f3788a07e7bd\" xlink:actuate=\"onRequest\" xlink:href=\"psysml:f539a78a-befd-4456-a49f-f3788a07e7bd\" xlink:show=\"new\" xlink:title=\"psysml:f539a78a-befd-4456-a49f-f3788a07e7bd\" xlink:type=\"simple\"><rect fill=\"#F1F1F1\" height=\"45.2656\" id=\"E4\" rx=\"10\" ry=\"10\" style=\"stroke:#A80036;stroke-width:1.5;\" width=\"86\" x=\"135\" y=\"281\"/><ellipse cx=\"152.25\" cy=\"301.1328\" fill=\"#FFA500\" rx=\"11\" ry=\"11\" style=\"stroke:#181818;stroke-width:1.0;\"/><path d=\"M152.3125,308.3047 Q150.2031,308.3047 149.1094,307.1797 Q148.0156,306.0547 148.0156,304.0078 L148.0156,295.9922 L150.4844,295.9922 L150.4844,303.5703 Q150.4844,305.0078 150.9375,305.6016 Q151.3906,306.1797 152.3438,306.1797 Q153.3594,306.1797 153.7813,305.5703 Q154.2188,304.9609 154.2188,303.5547 L154.2188,295.9922 L156.6875,295.9922 L156.6875,303.9922 Q156.6875,305.9766 155.5938,307.1484 Q154.5156,308.3047 152.3125,308.3047 Z \" fill=\"#000000\"/><text fill=\"#000000\" font-family=\"sans-serif\" font-size=\"12\" font-style=\"italic\" lengthAdjust=\"spacing\" textLength=\"53\" x=\"164.75\" y=\"297.1387\">«action»</text><text fill=\"#000000\" font-family=\"sans-serif\" font-size=\"14\" lengthAdjust=\"spacing\" textLength=\"18\" x=\"182.25\" y=\"312.9639\">A1</text></a></g><g><a href=\"psysml:451b6b51-1ae2-4b81-be73-8fe0566d61d5\" target=\"_top\" title=\"psysml:451b6b51-1ae2-4b81-be73-8fe0566d61d5\" xlink:actuate=\"onRequest\" xlink:href=\"psysml:451b6b51-1ae2-4b81-be73-8fe0566d61d5\" xlink:show=\"new\" xlink:title=\"psysml:451b6b51-1ae2-4b81-be73-8fe0566d61d5\" xlink:type=\"simple\"><rect fill=\"#F1F1F1\" height=\"45.2656\" id=\"E5\" rx=\"10\" ry=\"10\" style=\"stroke:#A80036;stroke-width:1.5;\" width=\"86\" x=\"135\" y=\"403\"/><ellipse cx=\"152.25\" cy=\"423.1328\" fill=\"#FFA500\" rx=\"11\" ry=\"11\" style=\"stroke:#181818;stroke-width:1.0;\"/><path d=\"M152.3125,430.3047 Q150.2031,430.3047 149.1094,429.1797 Q148.0156,428.0547 148.0156,426.0078 L148.0156,417.9922 L150.4844,417.9922 L150.4844,425.5703 Q150.4844,427.0078 150.9375,427.6016 Q151.3906,428.1797 152.3438,428.1797 Q153.3594,428.1797 153.7813,427.5703 Q154.2188,426.9609 154.2188,425.5547 L154.2188,417.9922 L156.6875,417.9922 L156.6875,425.9922 Q156.6875,427.9766 155.5938,429.1484 Q154.5156,430.3047 152.3125,430.3047 Z \" fill=\"#000000\"/><text fill=\"#000000\" font-family=\"sans-serif\" font-size=\"12\" font-style=\"italic\" lengthAdjust=\"spacing\" textLength=\"53\" x=\"164.75\" y=\"419.1387\">«action»</text><text fill=\"#000000\" font-family=\"sans-serif\" font-size=\"14\" lengthAdjust=\"spacing\" textLength=\"18\" x=\"182.25\" y=\"434.9639\">A2</text></a></g><g><a href=\"psysml:04e53eda-a597-4a9c-96a9-348d67cb9847\" target=\"_top\" title=\"psysml:04e53eda-a597-4a9c-96a9-348d67cb9847\" xlink:actuate=\"onRequest\" xlink:href=\"psysml:04e53eda-a597-4a9c-96a9-348d67cb9847\" xlink:show=\"new\" xlink:title=\"psysml:04e53eda-a597-4a9c-96a9-348d67cb9847\" xlink:type=\"simple\"><rect fill=\"#F1F1F1\" height=\"45.2656\" id=\"E6\" rx=\"10\" ry=\"10\" style=\"stroke:#A80036;stroke-width:1.5;\" width=\"86\" x=\"246\" y=\"159\"/><ellipse cx=\"263.25\" cy=\"179.1328\" fill=\"#FFA500\" rx=\"11\" ry=\"11\" style=\"stroke:#181818;stroke-width:1.0;\"/><path d=\"M263.3125,186.3047 Q261.2031,186.3047 260.1094,185.1797 Q259.0156,184.0547 259.0156,182.0078 L259.0156,173.9922 L261.4844,173.9922 L261.4844,181.5703 Q261.4844,183.0078 261.9375,183.6016 Q262.3906,184.1797 263.3438,184.1797 Q264.3594,184.1797 264.7813,183.5703 Q265.2188,182.9609 265.2188,181.5547 L265.2188,173.9922 L267.6875,173.9922 L267.6875,181.9922 Q267.6875,183.9766 266.5938,185.1484 Q265.5156,186.3047 263.3125,186.3047 Z \" fill=\"#000000\"/><text fill=\"#000000\" font-family=\"sans-serif\" font-size=\"12\" font-style=\"italic\" lengthAdjust=\"spacing\" textLength=\"53\" x=\"275.75\" y=\"175.1387\">«action»</text><text fill=\"#000000\" font-family=\"sans-serif\" font-size=\"14\" lengthAdjust=\"spacing\" textLength=\"18\" x=\"293.25\" y=\"190.9639\">A3</text></a></g><!--MD5=[4d03bb2d0377dc85ccfab60ff574652b]\n",
       "link E2 to E4--><g id=\"link_E2_E4\"><a href=\"psysml:0e1095c8-d4f6-4449-8c10-0793e56d6528\" target=\"_top\" title=\"psysml:0e1095c8-d4f6-4449-8c10-0793e56d6528\" xlink:actuate=\"onRequest\" xlink:href=\"psysml:0e1095c8-d4f6-4449-8c10-0793e56d6528\" xlink:show=\"new\" xlink:title=\"psysml:0e1095c8-d4f6-4449-8c10-0793e56d6528\" xlink:type=\"simple\"><path d=\"M204.06,76.21 C190.24,88.77 156.2,122.4 144,159 C130.63,199.12 148.66,247.2 163.14,276.27 \" fill=\"none\" id=\"E2-to-E4\" style=\"stroke:#181818;stroke-width:1.0;\"/><polygon fill=\"#181818\" points=\"165.43,280.77,164.9074,270.935,163.1597,276.3151,157.7796,274.5674,165.43,280.77\" style=\"stroke:#181818;stroke-width:1.0;\"/><text fill=\"#000000\" font-family=\"sans-serif\" font-size=\"13\" lengthAdjust=\"spacing\" textLength=\"55\" x=\"145\" y=\"186.0669\">[x == 1]</text></a></g><!--MD5=[dcad52bbbca2fe8adc741ce38b45dc12]\n",
       "link E2 to E5--><g id=\"link_E2_E5\"><a href=\"psysml:0bc69c08-a059-419e-b618-d454e4819a50\" target=\"_top\" title=\"psysml:0bc69c08-a059-419e-b618-d454e4819a50\" xlink:actuate=\"onRequest\" xlink:href=\"psysml:0bc69c08-a059-419e-b618-d454e4819a50\" xlink:show=\"new\" xlink:title=\"psysml:0bc69c08-a059-419e-b618-d454e4819a50\" xlink:type=\"simple\"><path d=\"M211.36,80.85 C212.95,92.39 215.66,112.08 218,129 C222.66,162.78 235.76,247.06 239,281 C242.89,321.74 260.82,336.15 243,373 C238.04,383.25 229.95,392.08 221.13,399.39 \" fill=\"none\" id=\"E2-to-E5\" style=\"stroke:#181818;stroke-width:1.0;\"/><polygon fill=\"#181818\" points=\"216.75,402.85,226.2833,400.3767,220.6627,399.737,221.3024,394.1164,216.75,402.85\" style=\"stroke:#181818;stroke-width:1.0;\"/><text fill=\"#000000\" font-family=\"sans-serif\" font-size=\"13\" lengthAdjust=\"spacing\" textLength=\"44\" x=\"236\" y=\"247.0669\">[x &gt; 1]</text></a></g><!--MD5=[e3e28c1befcf002155aa15e1416b4315]\n",
       "link E2 to E6--><g id=\"link_E2_E6\"><a href=\"psysml:7bfaba1c-8598-44bd-a9fd-5f850f0b7fd7\" target=\"_top\" title=\"psysml:7bfaba1c-8598-44bd-a9fd-5f850f0b7fd7\" xlink:actuate=\"onRequest\" xlink:href=\"psysml:7bfaba1c-8598-44bd-a9fd-5f850f0b7fd7\" xlink:show=\"new\" xlink:title=\"psysml:7bfaba1c-8598-44bd-a9fd-5f850f0b7fd7\" xlink:type=\"simple\"><path d=\"M212.63,79.39 C216.57,91.15 224.74,112.91 236,129 C242.51,138.3 250.86,147.33 258.99,155.16 \" fill=\"none\" id=\"E2-to-E6\" style=\"stroke:#181818;stroke-width:1.0;\"/><polygon fill=\"#181818\" points=\"262.95,158.9,259.1555,149.8115,259.3157,155.466,253.6611,155.6263,262.95,158.9\" style=\"stroke:#181818;stroke-width:1.0;\"/></a></g><!--MD5=[2351f337d6de0f557b50152ba70847b5]\n",
       "link E6 to E2--><g id=\"link_E6_E2\"><a href=\"psysml:31538477-4a34-40a9-aec8-5df805757767\" target=\"_top\" title=\"psysml:31538477-4a34-40a9-aec8-5df805757767\" xlink:actuate=\"onRequest\" xlink:href=\"psysml:31538477-4a34-40a9-aec8-5df805757767\" xlink:show=\"new\" xlink:title=\"psysml:31538477-4a34-40a9-aec8-5df805757767\" xlink:type=\"simple\"><path d=\"M273.61,158.86 C263.99,145.36 251.31,127.64 240,112 C232.5,101.63 223.86,89.84 217.79,81.57 \" fill=\"none\" id=\"E6-to-E2\" style=\"stroke:#181818;stroke-width:1.0;\"/><polygon fill=\"#181818\" points=\"214.7,77.38,216.8011,87.0021,217.6587,81.4107,223.2501,82.2682,214.7,77.38\" style=\"stroke:#181818;stroke-width:1.0;\"/><text fill=\"#000000\" font-family=\"sans-serif\" font-size=\"13\" lengthAdjust=\"spacing\" textLength=\"44\" x=\"253\" y=\"125.0669\">[x &gt; 0]</text></a></g><!--MD5=[2720a5a1f2c3fca2055b230370638851]\n",
       "link E2 to E3--><g id=\"link_E2_E3\"><a href=\"psysml:df8d299f-9da3-41cd-a9dd-6e3a0d30decc\" target=\"_top\" title=\"psysml:df8d299f-9da3-41cd-a9dd-6e3a0d30decc\" xlink:actuate=\"onRequest\" xlink:href=\"psysml:df8d299f-9da3-41cd-a9dd-6e3a0d30decc\" xlink:show=\"new\" xlink:title=\"psysml:df8d299f-9da3-41cd-a9dd-6e3a0d30decc\" xlink:type=\"simple\"><path d=\"M201.29,73.31 C183.01,78.4 139.7,91.78 108,112 C81.71,128.77 56.41,155.69 43.63,170.28 \" fill=\"none\" id=\"E2-to-E3\" style=\"stroke:#181818;stroke-width:1.0;\"/><polygon fill=\"#181818\" points=\"40.08,174.4,48.9911,170.2057,43.3492,170.6168,42.9381,164.975,40.08,174.4\" style=\"stroke:#181818;stroke-width:1.0;\"/></a></g><!--MD5=[af87c684e3b0d8be13c1a698a818ef1e]\n",
       "link E3 to E4--><g id=\"link_E3_E4\"><a href=\"psysml:131b15c1-7866-4964-88c1-b03f264417a9\" target=\"_top\" title=\"psysml:131b15c1-7866-4964-88c1-b03f264417a9\" xlink:actuate=\"onRequest\" xlink:href=\"psysml:131b15c1-7866-4964-88c1-b03f264417a9\" xlink:show=\"new\" xlink:title=\"psysml:131b15c1-7866-4964-88c1-b03f264417a9\" xlink:type=\"simple\"><path d=\"M38.95,190.14 C46.29,203.76 63.22,232.57 84,251 C97.5,262.97 114.26,273.26 129.87,281.43 \" fill=\"none\" id=\"E3-to-E4\" style=\"stroke:#181818;stroke-width:1.0;\"/><polygon fill=\"#181818\" points=\"134.68,283.9,128.5069,276.2258,130.2339,281.6126,124.8471,283.3396,134.68,283.9\" style=\"stroke:#181818;stroke-width:1.0;\"/><text fill=\"#000000\" font-family=\"sans-serif\" font-size=\"13\" lengthAdjust=\"spacing\" textLength=\"36\" x=\"85\" y=\"247.0669\">[true]</text></a></g><!--MD5=[0188b64bb0ae78505a997a81836e11e9]\n",
       "link E3 to E5--><g id=\"link_E3_E5\"><a href=\"psysml:825f54b9-3c70-45c0-b332-e5b9a5c4b905\" target=\"_top\" title=\"psysml:825f54b9-3c70-45c0-b332-e5b9a5c4b905\" xlink:actuate=\"onRequest\" xlink:href=\"psysml:825f54b9-3c70-45c0-b332-e5b9a5c4b905\" xlink:show=\"new\" xlink:title=\"psysml:825f54b9-3c70-45c0-b332-e5b9a5c4b905\" xlink:type=\"simple\"><path d=\"M36.06,192.61 C39.01,217.09 48.93,280.9 76,326 C93.41,355.01 121.53,381.26 143.84,399.36 \" fill=\"none\" id=\"E3-to-E5\" style=\"stroke:#181818;stroke-width:1.0;\"/><polygon fill=\"#181818\" points=\"147.93,402.64,143.4127,393.8882,144.0298,399.5113,138.4068,400.1285,147.93,402.64\" style=\"stroke:#181818;stroke-width:1.0;\"/><text fill=\"#000000\" font-family=\"sans-serif\" font-size=\"13\" lengthAdjust=\"spacing\" textLength=\"40\" x=\"77\" y=\"308.0669\">[false]</text></a></g><!--MD5=[1b7591eae5389033d8d09a9d6721a717]\n",
       "link E4 to E5--><g id=\"link_E4_E5\"><a href=\"psysml:b3779ea1-0b8c-4465-ae00-48dbba13ac92\" target=\"_top\" title=\"psysml:b3779ea1-0b8c-4465-ae00-48dbba13ac92\" xlink:actuate=\"onRequest\" xlink:href=\"psysml:b3779ea1-0b8c-4465-ae00-48dbba13ac92\" xlink:show=\"new\" xlink:title=\"psysml:b3779ea1-0b8c-4465-ae00-48dbba13ac92\" xlink:type=\"simple\"><path d=\"M178,326.23 C178,346.37 178,376.37 178,397.92 \" fill=\"none\" id=\"E4-to-E5\" style=\"stroke:#181818;stroke-width:1.0;\"/><polygon fill=\"#181818\" points=\"178,402.93,182,393.93,178,397.93,174,393.93,178,402.93\" style=\"stroke:#181818;stroke-width:1.0;\"/><text fill=\"#000000\" font-family=\"sans-serif\" font-size=\"13\" lengthAdjust=\"spacing\" textLength=\"55\" x=\"179\" y=\"369.0669\">[x == 0]</text></a></g><!--MD5=[a000fa19e22c3adf8c8090757c5ebd77]\n",
       "@startuml\r\n",
       " \r\n",
       "rec def \"DecisionTest\" as E1  << <<(B,lemonchiffon) action  def>> [[psysml:24509d73-250a-487a-bcd7-b59ee0863fbf ]] {\r\n",
       "choice \"test x\" as E2  [[psysml:7d99bd45-3b62-4bbf-b126-0db5f71d3136 ]] \r\n",
       "choice \"<s>noname</s>\" as E3  [[psysml:6dee609b-d6ae-4161-97b9-077c5f3bd0c2 ]] \r\n",
       "rec usage \"A1\" as E4  << <<(U,orange) action>> [[psysml:f539a78a-befd-4456-a49f-f3788a07e7bd ]] {\r\n",
       "}\r\n",
       "\r\n",
       "rec usage \"A2\" as E5  << <<(U,orange) action>> [[psysml:451b6b51-1ae2-4b81-be73-8fe0566d61d5 ]] {\r\n",
       "}\r\n",
       "\r\n",
       "rec usage \"A3\" as E6  << <<(U,orange) action>> [[psysml:04e53eda-a597-4a9c-96a9-348d67cb9847 ]] {\r\n",
       "}\r\n",
       "\r\n",
       "}\r\n",
       "\r\n",
       "E2  - -> E4 [[psysml:0e1095c8-d4f6-4449-8c10-0793e56d6528 ]] : [x == 1]\r\n",
       "E2  - -> E5 [[psysml:0bc69c08-a059-419e-b618-d454e4819a50 ]] : [x > 1]\r\n",
       "E2  - -> E6 [[psysml:7bfaba1c-8598-44bd-a9fd-5f850f0b7fd7 ]] \r\n",
       "E2 - -> E3 [[psysml:df8d299f-9da3-41cd-a9dd-6e3a0d30decc ]] \r\n",
       "E3  - -> E4 [[psysml:131b15c1-7866-4964-88c1-b03f264417a9 ]] : [true]\r\n",
       "E3  - -> E5 [[psysml:825f54b9-3c70-45c0-b332-e5b9a5c4b905 ]] : [false]\r\n",
       "E4  - -> E5 [[psysml:b3779ea1-0b8c-4465-ae00-48dbba13ac92 ]] : [x == 0]\r\n",
       "E6  - -> E2 [[psysml:31538477-4a34-40a9-aec8-5df805757767 ]] : [x > 0]\r\n",
       "@enduml\r\n",
       "\n",
       "PlantUML version 1.2022.7(Mon Aug 22 17:01:30 UTC 2022)\n",
       "(EPL source distribution)\n",
       "Java Runtime: OpenJDK Runtime Environment\n",
       "JVM: OpenJDK 64-Bit Server VM\n",
       "Default Encoding: UTF-8\n",
       "Language: en\n",
       "Country: null\n",
       "--></g></svg>"
      ]
     },
     "execution_count": 36,
     "metadata": {},
     "output_type": "execute_result"
    }
   ],
   "source": [
    "%viz --style=\"PLANTUML\" --view=\"MIXED\" \"DecisionTest\""
   ]
  },
  {
   "cell_type": "code",
   "execution_count": 37,
   "id": "5b8a3283",
   "metadata": {
    "execution": {
     "iopub.execute_input": "2024-12-16T03:28:03.138582Z",
     "iopub.status.busy": "2024-12-16T03:28:03.138249Z",
     "iopub.status.idle": "2024-12-16T03:28:03.156428Z",
     "shell.execute_reply": "2024-12-16T03:28:03.155629Z"
    }
   },
   "outputs": [
    {
     "data": {
      "image/svg+xml": [
       "<?xml version=\"1.0\" encoding=\"UTF-8\" standalone=\"no\"?><svg xmlns=\"http://www.w3.org/2000/svg\" xmlns:xlink=\"http://www.w3.org/1999/xlink\" contentStyleType=\"text/css\" height=\"470px\" preserveAspectRatio=\"none\" style=\"width:329px;height:470px;background:#FFFFFF;\" version=\"1.1\" viewBox=\"0 0 329 470\" width=\"329px\" zoomAndPan=\"magnify\"><defs/><g><!--MD5=[fbc87193dbaf4d95561dea2c320d4a47]\n",
       "cluster E1--><g id=\"cluster_E1\"><a href=\"psysml:24509d73-250a-487a-bcd7-b59ee0863fbf\" target=\"_top\" title=\"psysml:24509d73-250a-487a-bcd7-b59ee0863fbf\" xlink:actuate=\"onRequest\" xlink:href=\"psysml:24509d73-250a-487a-bcd7-b59ee0863fbf\" xlink:show=\"new\" xlink:title=\"psysml:24509d73-250a-487a-bcd7-b59ee0863fbf\" xlink:type=\"simple\"><rect fill=\"#FFFFFF\" height=\"457\" id=\"E1\" style=\"stroke:#383838;stroke-width:1.5;\" width=\"315\" x=\"7\" y=\"7\"/><text fill=\"#000000\" font-family=\"sans-serif\" font-size=\"12\" font-style=\"italic\" lengthAdjust=\"spacing\" textLength=\"81\" x=\"124\" y=\"23.1387\">«action  def»</text><text fill=\"#000000\" font-family=\"sans-serif\" font-size=\"14\" lengthAdjust=\"spacing\" textLength=\"91\" x=\"119\" y=\"38.9639\">DecisionTest</text><line style=\"stroke:#383838;stroke-width:1.0;\" x1=\"7\" x2=\"322\" y1=\"47.2656\" y2=\"47.2656\"/></a></g><g id=\"elem_E2\"><polygon fill=\"#FFFFFF\" points=\"210,58,222,70,210,82,198,70,210,58\" style=\"stroke:#181818;stroke-width:0.5;\"/></g><g id=\"elem_E3\"><polygon fill=\"#FFFFFF\" points=\"35,169.5,47,181.5,35,193.5,23,181.5,35,169.5\" style=\"stroke:#181818;stroke-width:0.5;\"/></g><g><a href=\"psysml:f539a78a-befd-4456-a49f-f3788a07e7bd\" target=\"_top\" title=\"psysml:f539a78a-befd-4456-a49f-f3788a07e7bd\" xlink:actuate=\"onRequest\" xlink:href=\"psysml:f539a78a-befd-4456-a49f-f3788a07e7bd\" xlink:show=\"new\" xlink:title=\"psysml:f539a78a-befd-4456-a49f-f3788a07e7bd\" xlink:type=\"simple\"><rect fill=\"#FFFFFF\" height=\"45.2656\" id=\"E4\" rx=\"10\" ry=\"10\" style=\"stroke:#383838;stroke-width:1.5;\" width=\"60\" x=\"135\" y=\"281\"/><text fill=\"#000000\" font-family=\"sans-serif\" font-size=\"12\" font-style=\"italic\" lengthAdjust=\"spacing\" textLength=\"53\" x=\"138.5\" y=\"297.1387\">«action»</text><text fill=\"#000000\" font-family=\"sans-serif\" font-size=\"14\" lengthAdjust=\"spacing\" textLength=\"18\" x=\"156\" y=\"312.9639\">A1</text></a></g><g><a href=\"psysml:451b6b51-1ae2-4b81-be73-8fe0566d61d5\" target=\"_top\" title=\"psysml:451b6b51-1ae2-4b81-be73-8fe0566d61d5\" xlink:actuate=\"onRequest\" xlink:href=\"psysml:451b6b51-1ae2-4b81-be73-8fe0566d61d5\" xlink:show=\"new\" xlink:title=\"psysml:451b6b51-1ae2-4b81-be73-8fe0566d61d5\" xlink:type=\"simple\"><rect fill=\"#FFFFFF\" height=\"45.2656\" id=\"E5\" rx=\"10\" ry=\"10\" style=\"stroke:#383838;stroke-width:1.5;\" width=\"60\" x=\"135\" y=\"403\"/><text fill=\"#000000\" font-family=\"sans-serif\" font-size=\"12\" font-style=\"italic\" lengthAdjust=\"spacing\" textLength=\"53\" x=\"138.5\" y=\"419.1387\">«action»</text><text fill=\"#000000\" font-family=\"sans-serif\" font-size=\"14\" lengthAdjust=\"spacing\" textLength=\"18\" x=\"156\" y=\"434.9639\">A2</text></a></g><g><a href=\"psysml:04e53eda-a597-4a9c-96a9-348d67cb9847\" target=\"_top\" title=\"psysml:04e53eda-a597-4a9c-96a9-348d67cb9847\" xlink:actuate=\"onRequest\" xlink:href=\"psysml:04e53eda-a597-4a9c-96a9-348d67cb9847\" xlink:show=\"new\" xlink:title=\"psysml:04e53eda-a597-4a9c-96a9-348d67cb9847\" xlink:type=\"simple\"><rect fill=\"#FFFFFF\" height=\"45.2656\" id=\"E6\" rx=\"10\" ry=\"10\" style=\"stroke:#383838;stroke-width:1.5;\" width=\"60\" x=\"246\" y=\"159\"/><text fill=\"#000000\" font-family=\"sans-serif\" font-size=\"12\" font-style=\"italic\" lengthAdjust=\"spacing\" textLength=\"53\" x=\"249.5\" y=\"175.1387\">«action»</text><text fill=\"#000000\" font-family=\"sans-serif\" font-size=\"14\" lengthAdjust=\"spacing\" textLength=\"18\" x=\"267\" y=\"190.9639\">A3</text></a></g><!--MD5=[4d03bb2d0377dc85ccfab60ff574652b]\n",
       "link E2 to E4--><g id=\"link_E2_E4\"><a href=\"psysml:0e1095c8-d4f6-4449-8c10-0793e56d6528\" target=\"_top\" title=\"psysml:0e1095c8-d4f6-4449-8c10-0793e56d6528\" xlink:actuate=\"onRequest\" xlink:href=\"psysml:0e1095c8-d4f6-4449-8c10-0793e56d6528\" xlink:show=\"new\" xlink:title=\"psysml:0e1095c8-d4f6-4449-8c10-0793e56d6528\" xlink:type=\"simple\"><path d=\"M204.06,76.21 C190.24,88.77 156.2,122.4 144,159 C130.9,198.29 143.31,246.33 153.85,275.66 \" fill=\"none\" id=\"E2-to-E4\" style=\"stroke:#181818;stroke-width:1.0;\"/><polygon fill=\"#181818\" points=\"155.65,280.56,156.2879,270.7318,153.9195,275.869,148.7823,273.5006,155.65,280.56\" style=\"stroke:#181818;stroke-width:1.0;\"/><text fill=\"#000000\" font-family=\"sans-serif\" font-size=\"13\" lengthAdjust=\"spacing\" textLength=\"55\" x=\"145\" y=\"186.0669\">[x == 1]</text></a></g><!--MD5=[dcad52bbbca2fe8adc741ce38b45dc12]\n",
       "link E2 to E5--><g id=\"link_E2_E5\"><a href=\"psysml:0bc69c08-a059-419e-b618-d454e4819a50\" target=\"_top\" title=\"psysml:0bc69c08-a059-419e-b618-d454e4819a50\" xlink:actuate=\"onRequest\" xlink:href=\"psysml:0bc69c08-a059-419e-b618-d454e4819a50\" xlink:show=\"new\" xlink:title=\"psysml:0bc69c08-a059-419e-b618-d454e4819a50\" xlink:type=\"simple\"><path d=\"M210.81,81.23 C214.84,132.49 232.28,359.49 226,373 C220.28,385.32 210,395.75 199.49,403.94 \" fill=\"none\" id=\"E2-to-E5\" style=\"stroke:#181818;stroke-width:1.0;\"/><polygon fill=\"#181818\" points=\"195.3,407.08,204.9,404.88,199.3,404.08,200.1,398.48,195.3,407.08\" style=\"stroke:#181818;stroke-width:1.0;\"/><text fill=\"#000000\" font-family=\"sans-serif\" font-size=\"13\" lengthAdjust=\"spacing\" textLength=\"44\" x=\"223\" y=\"247.0669\">[x &gt; 1]</text></a></g><!--MD5=[e3e28c1befcf002155aa15e1416b4315]\n",
       "link E2 to E6--><g id=\"link_E2_E6\"><a href=\"psysml:7bfaba1c-8598-44bd-a9fd-5f850f0b7fd7\" target=\"_top\" title=\"psysml:7bfaba1c-8598-44bd-a9fd-5f850f0b7fd7\" xlink:actuate=\"onRequest\" xlink:href=\"psysml:7bfaba1c-8598-44bd-a9fd-5f850f0b7fd7\" xlink:show=\"new\" xlink:title=\"psysml:7bfaba1c-8598-44bd-a9fd-5f850f0b7fd7\" xlink:type=\"simple\"><path d=\"M210.55,81.49 C211.58,93.62 214.53,113.87 223,129 C228.38,138.62 236.13,147.59 244.04,155.25 \" fill=\"none\" id=\"E2-to-E6\" style=\"stroke:#181818;stroke-width:1.0;\"/><polygon fill=\"#181818\" points=\"247.92,158.91,244.1077,149.8289,244.279,155.4832,238.6247,155.6545,247.92,158.91\" style=\"stroke:#181818;stroke-width:1.0;\"/></a></g><!--MD5=[2351f337d6de0f557b50152ba70847b5]\n",
       "link E6 to E2--><g id=\"link_E6_E2\"><a href=\"psysml:31538477-4a34-40a9-aec8-5df805757767\" target=\"_top\" title=\"psysml:31538477-4a34-40a9-aec8-5df805757767\" xlink:actuate=\"onRequest\" xlink:href=\"psysml:31538477-4a34-40a9-aec8-5df805757767\" xlink:show=\"new\" xlink:title=\"psysml:31538477-4a34-40a9-aec8-5df805757767\" xlink:type=\"simple\"><path d=\"M262.83,158.65 C249.09,135.85 228.04,100.94 217.13,82.82 \" fill=\"none\" id=\"E6-to-E2\" style=\"stroke:#181818;stroke-width:1.0;\"/><polygon fill=\"#181818\" points=\"214.33,78.18,215.5544,87.9525,216.913,82.4612,222.4043,83.8197,214.33,78.18\" style=\"stroke:#181818;stroke-width:1.0;\"/><text fill=\"#000000\" font-family=\"sans-serif\" font-size=\"13\" lengthAdjust=\"spacing\" textLength=\"44\" x=\"244\" y=\"125.0669\">[x &gt; 0]</text></a></g><!--MD5=[2720a5a1f2c3fca2055b230370638851]\n",
       "link E2 to E3--><g id=\"link_E2_E3\"><a href=\"psysml:df8d299f-9da3-41cd-a9dd-6e3a0d30decc\" target=\"_top\" title=\"psysml:df8d299f-9da3-41cd-a9dd-6e3a0d30decc\" xlink:actuate=\"onRequest\" xlink:href=\"psysml:df8d299f-9da3-41cd-a9dd-6e3a0d30decc\" xlink:show=\"new\" xlink:title=\"psysml:df8d299f-9da3-41cd-a9dd-6e3a0d30decc\" xlink:type=\"simple\"><path d=\"M201.29,73.31 C183.01,78.4 139.7,91.78 108,112 C81.71,128.77 56.41,155.69 43.63,170.28 \" fill=\"none\" id=\"E2-to-E3\" style=\"stroke:#181818;stroke-width:1.0;\"/><polygon fill=\"#181818\" points=\"40.08,174.4,48.9911,170.2057,43.3492,170.6168,42.9381,164.975,40.08,174.4\" style=\"stroke:#181818;stroke-width:1.0;\"/></a></g><!--MD5=[af87c684e3b0d8be13c1a698a818ef1e]\n",
       "link E3 to E4--><g id=\"link_E3_E4\"><a href=\"psysml:131b15c1-7866-4964-88c1-b03f264417a9\" target=\"_top\" title=\"psysml:131b15c1-7866-4964-88c1-b03f264417a9\" xlink:actuate=\"onRequest\" xlink:href=\"psysml:131b15c1-7866-4964-88c1-b03f264417a9\" xlink:show=\"new\" xlink:title=\"psysml:131b15c1-7866-4964-88c1-b03f264417a9\" xlink:type=\"simple\"><path d=\"M39.07,190 C46.61,203.42 63.83,231.9 84,251 C97.71,263.98 115.14,275.56 130.33,284.43 \" fill=\"none\" id=\"E3-to-E4\" style=\"stroke:#181818;stroke-width:1.0;\"/><polygon fill=\"#181818\" points=\"134.96,287.1,129.1557,279.1433,130.6267,284.6055,125.1645,286.0765,134.96,287.1\" style=\"stroke:#181818;stroke-width:1.0;\"/><text fill=\"#000000\" font-family=\"sans-serif\" font-size=\"13\" lengthAdjust=\"spacing\" textLength=\"36\" x=\"85\" y=\"247.0669\">[true]</text></a></g><!--MD5=[0188b64bb0ae78505a997a81836e11e9]\n",
       "link E3 to E5--><g id=\"link_E3_E5\"><a href=\"psysml:825f54b9-3c70-45c0-b332-e5b9a5c4b905\" target=\"_top\" title=\"psysml:825f54b9-3c70-45c0-b332-e5b9a5c4b905\" xlink:actuate=\"onRequest\" xlink:href=\"psysml:825f54b9-3c70-45c0-b332-e5b9a5c4b905\" xlink:show=\"new\" xlink:title=\"psysml:825f54b9-3c70-45c0-b332-e5b9a5c4b905\" xlink:type=\"simple\"><path d=\"M36.26,192.49 C39.65,216.72 50.48,280.01 76,326 C91.62,354.15 116.69,380.91 136.25,399.41 \" fill=\"none\" id=\"E3-to-E5\" style=\"stroke:#181818;stroke-width:1.0;\"/><polygon fill=\"#181818\" points=\"140.08,403,136.231,393.9344,136.4252,399.5879,130.7717,399.7821,140.08,403\" style=\"stroke:#181818;stroke-width:1.0;\"/><text fill=\"#000000\" font-family=\"sans-serif\" font-size=\"13\" lengthAdjust=\"spacing\" textLength=\"40\" x=\"77\" y=\"308.0669\">[false]</text></a></g><!--MD5=[1b7591eae5389033d8d09a9d6721a717]\n",
       "link E4 to E5--><g id=\"link_E4_E5\"><a href=\"psysml:b3779ea1-0b8c-4465-ae00-48dbba13ac92\" target=\"_top\" title=\"psysml:b3779ea1-0b8c-4465-ae00-48dbba13ac92\" xlink:actuate=\"onRequest\" xlink:href=\"psysml:b3779ea1-0b8c-4465-ae00-48dbba13ac92\" xlink:show=\"new\" xlink:title=\"psysml:b3779ea1-0b8c-4465-ae00-48dbba13ac92\" xlink:type=\"simple\"><path d=\"M165,326.23 C165,346.37 165,376.37 165,397.92 \" fill=\"none\" id=\"E4-to-E5\" style=\"stroke:#181818;stroke-width:1.0;\"/><polygon fill=\"#181818\" points=\"165,402.93,169,393.93,165,397.93,161,393.93,165,402.93\" style=\"stroke:#181818;stroke-width:1.0;\"/><text fill=\"#000000\" font-family=\"sans-serif\" font-size=\"13\" lengthAdjust=\"spacing\" textLength=\"55\" x=\"166\" y=\"369.0669\">[x == 0]</text></a></g><!--MD5=[5d9c6d673b0c49e0fef725df8a27c490]\n",
       "@startuml\r\n",
       "skin sysmlbw\r\n",
       "skinparam monochrome true\r\n",
       "skinparam wrapWidth 300\r\n",
       "hide circle\r\n",
       "\r\n",
       "rec def \"DecisionTest\" as E1  <<(T,blue) action  def>> [[psysml:24509d73-250a-487a-bcd7-b59ee0863fbf ]] {\r\n",
       "choice \"test x\" as E2  [[psysml:7d99bd45-3b62-4bbf-b126-0db5f71d3136 ]] \r\n",
       "choice \"<s>noname</s>\" as E3  [[psysml:6dee609b-d6ae-4161-97b9-077c5f3bd0c2 ]] \r\n",
       "rec usage \"A1\" as E4  <<(T,blue) action>> [[psysml:f539a78a-befd-4456-a49f-f3788a07e7bd ]] {\r\n",
       "}\r\n",
       "\r\n",
       "rec usage \"A2\" as E5  <<(T,blue) action>> [[psysml:451b6b51-1ae2-4b81-be73-8fe0566d61d5 ]] {\r\n",
       "}\r\n",
       "\r\n",
       "rec usage \"A3\" as E6  <<(T,blue) action>> [[psysml:04e53eda-a597-4a9c-96a9-348d67cb9847 ]] {\r\n",
       "}\r\n",
       "\r\n",
       "}\r\n",
       "\r\n",
       "E2  - -> E4 [[psysml:0e1095c8-d4f6-4449-8c10-0793e56d6528 ]] : [x == 1]\r\n",
       "E2  - -> E5 [[psysml:0bc69c08-a059-419e-b618-d454e4819a50 ]] : [x > 1]\r\n",
       "E2  - -> E6 [[psysml:7bfaba1c-8598-44bd-a9fd-5f850f0b7fd7 ]] \r\n",
       "E2 - -> E3 [[psysml:df8d299f-9da3-41cd-a9dd-6e3a0d30decc ]] \r\n",
       "E3  - -> E4 [[psysml:131b15c1-7866-4964-88c1-b03f264417a9 ]] : [true]\r\n",
       "E3  - -> E5 [[psysml:825f54b9-3c70-45c0-b332-e5b9a5c4b905 ]] : [false]\r\n",
       "E4  - -> E5 [[psysml:b3779ea1-0b8c-4465-ae00-48dbba13ac92 ]] : [x == 0]\r\n",
       "E6  - -> E2 [[psysml:31538477-4a34-40a9-aec8-5df805757767 ]] : [x > 0]\r\n",
       "@enduml\r\n",
       "\n",
       "PlantUML version 1.2022.7(Mon Aug 22 17:01:30 UTC 2022)\n",
       "(EPL source distribution)\n",
       "Java Runtime: OpenJDK Runtime Environment\n",
       "JVM: OpenJDK 64-Bit Server VM\n",
       "Default Encoding: UTF-8\n",
       "Language: en\n",
       "Country: null\n",
       "--></g></svg>"
      ]
     },
     "execution_count": 37,
     "metadata": {},
     "output_type": "execute_result"
    }
   ],
   "source": [
    "%viz --style=\"DEFAULT\" --view=\"Default\" \"DecisionTest\""
   ]
  },
  {
   "cell_type": "code",
   "execution_count": 38,
   "id": "724c3646",
   "metadata": {
    "execution": {
     "iopub.execute_input": "2024-12-16T03:28:03.212020Z",
     "iopub.status.busy": "2024-12-16T03:28:03.211770Z",
     "iopub.status.idle": "2024-12-16T03:28:03.239509Z",
     "shell.execute_reply": "2024-12-16T03:28:03.238701Z"
    }
   },
   "outputs": [
    {
     "data": {
      "image/svg+xml": [
       "<?xml version=\"1.0\" encoding=\"UTF-8\" standalone=\"no\"?><svg xmlns=\"http://www.w3.org/2000/svg\" xmlns:xlink=\"http://www.w3.org/1999/xlink\" contentStyleType=\"text/css\" height=\"507px\" preserveAspectRatio=\"none\" style=\"width:459px;height:507px;background:#FFFFFF;\" version=\"1.1\" viewBox=\"0 0 459 507\" width=\"459px\" zoomAndPan=\"magnify\"><defs/><g><!--MD5=[43c9051892ef23e1a46a86907403d788]\n",
       "class E1--><a href=\"psysml:24509d73-250a-487a-bcd7-b59ee0863fbf\" target=\"_top\" title=\"psysml:24509d73-250a-487a-bcd7-b59ee0863fbf\" xlink:actuate=\"onRequest\" xlink:href=\"psysml:24509d73-250a-487a-bcd7-b59ee0863fbf\" xlink:show=\"new\" xlink:title=\"psysml:24509d73-250a-487a-bcd7-b59ee0863fbf\" xlink:type=\"simple\"><g id=\"elem_E1\"><rect fill=\"#FFFFFF\" height=\"277.3094\" id=\"E1\" style=\"stroke:#181818;stroke-width:0.5;\" width=\"204\" x=\"143\" y=\"7\"/><text fill=\"#000000\" font-family=\"sans-serif\" font-size=\"12\" font-style=\"italic\" lengthAdjust=\"spacing\" textLength=\"81\" x=\"204.5\" y=\"23.1387\">«action  def»</text><text fill=\"#000000\" font-family=\"sans-serif\" font-size=\"14\" lengthAdjust=\"spacing\" textLength=\"91\" x=\"199.5\" y=\"38.9639\">DecisionTest</text><line style=\"stroke:#181818;stroke-width:0.5;\" x1=\"144\" x2=\"346\" y1=\"47.2656\" y2=\"47.2656\"/><text fill=\"#000000\" font-family=\"sans-serif\" font-size=\"14\" lengthAdjust=\"spacing\" textLength=\"36\" x=\"149\" y=\"74.7795\">x = 1</text><text fill=\"#000000\" font-family=\"sans-serif\" font-size=\"14\" font-style=\"italic\" lengthAdjust=\"spacing\" textLength=\"66\" x=\"212\" y=\"59.6123\">attributes</text><line style=\"stroke:#181818;stroke-width:1.0;\" x1=\"144\" x2=\"346\" y1=\"82.0813\" y2=\"82.0813\"/><text fill=\"#000000\" font-family=\"sans-serif\" font-size=\"14\" lengthAdjust=\"spacing\" textLength=\"18\" x=\"149\" y=\"109.5951\">A3</text><text fill=\"#000000\" font-family=\"sans-serif\" font-size=\"14\" font-style=\"italic\" lengthAdjust=\"spacing\" textLength=\"50\" x=\"220\" y=\"94.4279\">actions</text><line style=\"stroke:#181818;stroke-width:1.0;\" x1=\"144\" x2=\"346\" y1=\"116.8969\" y2=\"116.8969\"/><text fill=\"#000000\" font-family=\"sans-serif\" font-size=\"14\" lengthAdjust=\"spacing\" textLength=\"192\" x=\"149\" y=\"144.4107\">noname first test x then null</text><text fill=\"#000000\" font-family=\"sans-serif\" font-size=\"14\" font-style=\"italic\" lengthAdjust=\"spacing\" textLength=\"87\" x=\"201.5\" y=\"129.2436\">successions</text><line style=\"stroke:#181818;stroke-width:1.0;\" x1=\"144\" x2=\"346\" y1=\"151.7125\" y2=\"151.7125\"/><text fill=\"#000000\" font-family=\"sans-serif\" font-size=\"14\" lengthAdjust=\"spacing\" textLength=\"4\" x=\"149\" y=\"179.2264\"> </text><text fill=\"#000000\" font-family=\"sans-serif\" font-size=\"14\" lengthAdjust=\"spacing\" textLength=\"4\" x=\"149\" y=\"195.5232\"> </text><text fill=\"#000000\" font-family=\"sans-serif\" font-size=\"14\" lengthAdjust=\"spacing\" textLength=\"4\" x=\"149\" y=\"211.8201\"> </text><text fill=\"#000000\" font-family=\"sans-serif\" font-size=\"14\" lengthAdjust=\"spacing\" textLength=\"4\" x=\"149\" y=\"228.117\"> </text><text fill=\"#000000\" font-family=\"sans-serif\" font-size=\"14\" lengthAdjust=\"spacing\" textLength=\"4\" x=\"149\" y=\"244.4139\"> </text><text fill=\"#000000\" font-family=\"sans-serif\" font-size=\"14\" lengthAdjust=\"spacing\" textLength=\"4\" x=\"149\" y=\"260.7107\"> </text><text fill=\"#000000\" font-family=\"sans-serif\" font-size=\"14\" lengthAdjust=\"spacing\" textLength=\"9\" x=\"149\" y=\"277.0076\">S</text><text fill=\"#000000\" font-family=\"sans-serif\" font-size=\"14\" font-style=\"italic\" lengthAdjust=\"spacing\" textLength=\"72\" x=\"209\" y=\"164.0592\">transitions</text></g></a><!--MD5=[b4997ac47864f28c2f74865a473b2911]\n",
       "class E2--><a href=\"psysml:7d99bd45-3b62-4bbf-b126-0db5f71d3136\" target=\"_top\" title=\"psysml:7d99bd45-3b62-4bbf-b126-0db5f71d3136\" xlink:actuate=\"onRequest\" xlink:href=\"psysml:7d99bd45-3b62-4bbf-b126-0db5f71d3136\" xlink:show=\"new\" xlink:title=\"psysml:7d99bd45-3b62-4bbf-b126-0db5f71d3136\" xlink:type=\"simple\"><g id=\"elem_E2\"><rect fill=\"#FFFFFF\" height=\"48.2656\" id=\"E2\" rx=\"10\" ry=\"10\" style=\"stroke:#181818;stroke-width:0.5;\" width=\"104\" x=\"7\" y=\"344\"/><text fill=\"#000000\" font-family=\"sans-serif\" font-size=\"12\" font-style=\"italic\" lengthAdjust=\"spacing\" textLength=\"102\" x=\"8\" y=\"360.1387\">«decision node»</text><text fill=\"#000000\" font-family=\"sans-serif\" font-size=\"14\" lengthAdjust=\"spacing\" textLength=\"38\" x=\"36\" y=\"375.9639\">test x</text><line style=\"stroke:#181818;stroke-width:0.5;\" x1=\"8\" x2=\"110\" y1=\"384.2656\" y2=\"384.2656\"/></g></a><!--MD5=[09b614a08d8cba4a07c9adeb5e0fee81]\n",
       "class E3--><a href=\"psysml:6dee609b-d6ae-4161-97b9-077c5f3bd0c2\" target=\"_top\" title=\"psysml:6dee609b-d6ae-4161-97b9-077c5f3bd0c2\" xlink:actuate=\"onRequest\" xlink:href=\"psysml:6dee609b-d6ae-4161-97b9-077c5f3bd0c2\" xlink:show=\"new\" xlink:title=\"psysml:6dee609b-d6ae-4161-97b9-077c5f3bd0c2\" xlink:type=\"simple\"><g id=\"elem_E3\"><rect fill=\"#FFFFFF\" height=\"48.2656\" id=\"E3\" rx=\"10\" ry=\"10\" style=\"stroke:#181818;stroke-width:0.5;\" width=\"104\" x=\"59\" y=\"452\"/><text fill=\"#000000\" font-family=\"sans-serif\" font-size=\"12\" font-style=\"italic\" lengthAdjust=\"spacing\" textLength=\"102\" x=\"60\" y=\"468.1387\">«decision node»</text><text fill=\"#000000\" font-family=\"sans-serif\" font-size=\"14\" lengthAdjust=\"spacing\" text-decoration=\"line-through\" textLength=\"57\" x=\"78.5\" y=\"483.9639\">noname</text><text fill=\"#000000\" font-family=\"sans-serif\" font-size=\"14\" lengthAdjust=\"spacing\" textLength=\"8\" x=\"135.5\" y=\"483.9639\">  </text><line style=\"stroke:#181818;stroke-width:0.5;\" x1=\"60\" x2=\"162\" y1=\"492.2656\" y2=\"492.2656\"/></g></a><!--MD5=[ebbe1d658d1005bcc118a6aa81145e00]\n",
       "class E4--><a href=\"psysml:f539a78a-befd-4456-a49f-f3788a07e7bd\" target=\"_top\" title=\"psysml:f539a78a-befd-4456-a49f-f3788a07e7bd\" xlink:actuate=\"onRequest\" xlink:href=\"psysml:f539a78a-befd-4456-a49f-f3788a07e7bd\" xlink:show=\"new\" xlink:title=\"psysml:f539a78a-befd-4456-a49f-f3788a07e7bd\" xlink:type=\"simple\"><g id=\"elem_E4\"><rect fill=\"#FFFFFF\" height=\"48.2656\" id=\"E4\" rx=\"10\" ry=\"10\" style=\"stroke:#181818;stroke-width:0.5;\" width=\"55\" x=\"217.5\" y=\"344\"/><text fill=\"#000000\" font-family=\"sans-serif\" font-size=\"12\" font-style=\"italic\" lengthAdjust=\"spacing\" textLength=\"53\" x=\"218.5\" y=\"360.1387\">«action»</text><text fill=\"#000000\" font-family=\"sans-serif\" font-size=\"14\" lengthAdjust=\"spacing\" textLength=\"18\" x=\"232\" y=\"375.9639\">A1</text><line style=\"stroke:#181818;stroke-width:0.5;\" x1=\"218.5\" x2=\"271.5\" y1=\"384.2656\" y2=\"384.2656\"/></g></a><!--MD5=[270fce915f116d4de14055a7c1d9a0f3]\n",
       "class E5--><a href=\"psysml:451b6b51-1ae2-4b81-be73-8fe0566d61d5\" target=\"_top\" title=\"psysml:451b6b51-1ae2-4b81-be73-8fe0566d61d5\" xlink:actuate=\"onRequest\" xlink:href=\"psysml:451b6b51-1ae2-4b81-be73-8fe0566d61d5\" xlink:show=\"new\" xlink:title=\"psysml:451b6b51-1ae2-4b81-be73-8fe0566d61d5\" xlink:type=\"simple\"><g id=\"elem_E5\"><rect fill=\"#FFFFFF\" height=\"48.2656\" id=\"E5\" rx=\"10\" ry=\"10\" style=\"stroke:#181818;stroke-width:0.5;\" width=\"55\" x=\"307.5\" y=\"344\"/><text fill=\"#000000\" font-family=\"sans-serif\" font-size=\"12\" font-style=\"italic\" lengthAdjust=\"spacing\" textLength=\"53\" x=\"308.5\" y=\"360.1387\">«action»</text><text fill=\"#000000\" font-family=\"sans-serif\" font-size=\"14\" lengthAdjust=\"spacing\" textLength=\"18\" x=\"322\" y=\"375.9639\">A2</text><line style=\"stroke:#181818;stroke-width:0.5;\" x1=\"308.5\" x2=\"361.5\" y1=\"384.2656\" y2=\"384.2656\"/></g></a><!--MD5=[60a26617385b1d2d0262a64233df1f8d]\n",
       "class E6--><a href=\"psysml:04e53eda-a597-4a9c-96a9-348d67cb9847\" target=\"_top\" title=\"psysml:04e53eda-a597-4a9c-96a9-348d67cb9847\" xlink:actuate=\"onRequest\" xlink:href=\"psysml:04e53eda-a597-4a9c-96a9-348d67cb9847\" xlink:show=\"new\" xlink:title=\"psysml:04e53eda-a597-4a9c-96a9-348d67cb9847\" xlink:type=\"simple\"><g id=\"elem_E6\"><rect fill=\"#FFFFFF\" height=\"48.2656\" id=\"E6\" rx=\"10\" ry=\"10\" style=\"stroke:#181818;stroke-width:0.5;\" width=\"55\" x=\"397.5\" y=\"344\"/><text fill=\"#000000\" font-family=\"sans-serif\" font-size=\"12\" font-style=\"italic\" lengthAdjust=\"spacing\" textLength=\"53\" x=\"398.5\" y=\"360.1387\">«action»</text><text fill=\"#000000\" font-family=\"sans-serif\" font-size=\"14\" lengthAdjust=\"spacing\" textLength=\"18\" x=\"412\" y=\"375.9639\">A3</text><line style=\"stroke:#181818;stroke-width:0.5;\" x1=\"398.5\" x2=\"451.5\" y1=\"384.2656\" y2=\"384.2656\"/></g></a><!--MD5=[a523cb2a0b79ecf9065ad8783f96c320]\n",
       "reverse link E1 to E2--><g id=\"link_E1_E2\"><a href=\"psysml:0a57c05e-4dd3-44ad-ba12-51402458bbf0\" target=\"_top\" title=\"psysml:0a57c05e-4dd3-44ad-ba12-51402458bbf0\" xlink:actuate=\"onRequest\" xlink:href=\"psysml:0a57c05e-4dd3-44ad-ba12-51402458bbf0\" xlink:show=\"new\" xlink:title=\"psysml:0a57c05e-4dd3-44ad-ba12-51402458bbf0\" xlink:type=\"simple\"><path d=\"M134.13,277.93 C112.64,303.41 92.47,327.33 78.45,343.95 \" fill=\"none\" id=\"E1-backto-E2\" style=\"stroke:#181818;stroke-width:1.0;\"/><polygon fill=\"#181818\" points=\"142.75,267.72,135.824,269.7277,135.0135,276.8931,141.9394,274.8854,142.75,267.72\" style=\"stroke:#181818;stroke-width:1.0;\"/></a></g><!--MD5=[2720a5a1f2c3fca2055b230370638851]\n",
       "link E2 to E3--><g id=\"link_E2_E3\"><a href=\"psysml:df8d299f-9da3-41cd-a9dd-6e3a0d30decc\" target=\"_top\" title=\"psysml:df8d299f-9da3-41cd-a9dd-6e3a0d30decc\" xlink:actuate=\"onRequest\" xlink:href=\"psysml:df8d299f-9da3-41cd-a9dd-6e3a0d30decc\" xlink:show=\"new\" xlink:title=\"psysml:df8d299f-9da3-41cd-a9dd-6e3a0d30decc\" xlink:type=\"simple\"><path d=\"M70.28,392 C78.2,408.14 88.83,429.82 97.25,446.97 \" fill=\"none\" id=\"E2-to-E3\" style=\"stroke:#181818;stroke-width:1.0;\"/><polygon fill=\"#181818\" points=\"99.56,451.68,99.1883,441.8382,97.3583,447.1908,92.0056,445.3609,99.56,451.68\" style=\"stroke:#181818;stroke-width:1.0;\"/></a></g><!--MD5=[5d7b3810b1dd9b5164bea1151b29b665]\n",
       "reverse link E1 to E3--><g id=\"link_E1_E3\"><a href=\"psysml:5efd2738-c984-493d-a46e-1379d8b8bf4b\" target=\"_top\" title=\"psysml:5efd2738-c984-493d-a46e-1379d8b8bf4b\" xlink:actuate=\"onRequest\" xlink:href=\"psysml:5efd2738-c984-493d-a46e-1379d8b8bf4b\" xlink:show=\"new\" xlink:title=\"psysml:5efd2738-c984-493d-a46e-1379d8b8bf4b\" xlink:type=\"simple\"><path d=\"M183.72,296.73 C159.26,356.7 133.77,419.17 120.43,451.87 \" fill=\"none\" id=\"E1-backto-E3\" style=\"stroke:#181818;stroke-width:1.0;\"/><polygon fill=\"#181818\" points=\"188.75,284.39,182.7796,288.434,184.2162,295.5005,190.1866,291.4566,188.75,284.39\" style=\"stroke:#181818;stroke-width:1.0;\"/></a></g><!--MD5=[f2c5c03aa1e8c0ba21c10a05e6444b8e]\n",
       "reverse link E1 to E4--><g id=\"link_E1_E4\"><a href=\"psysml:867ae522-9684-4034-9c56-5f70d3a76b09\" target=\"_top\" title=\"psysml:867ae522-9684-4034-9c56-5f70d3a76b09\" xlink:actuate=\"onRequest\" xlink:href=\"psysml:867ae522-9684-4034-9c56-5f70d3a76b09\" xlink:show=\"new\" xlink:title=\"psysml:867ae522-9684-4034-9c56-5f70d3a76b09\" xlink:type=\"simple\"><path d=\"M245,297.51 C245,315.33 245,331.5 245,343.75 \" fill=\"none\" id=\"E1-backto-E4\" style=\"stroke:#181818;stroke-width:1.0;\"/><polygon fill=\"#181818\" points=\"245,284.27,241,290.27,245,296.27,249,290.27,245,284.27\" style=\"stroke:#181818;stroke-width:1.0;\"/></a></g><!--MD5=[33238bef88d6431a141d8bc8fb12bca0]\n",
       "reverse link E1 to E5--><g id=\"link_E1_E5\"><a href=\"psysml:e0e8ad72-4177-4702-a62e-bf2c3ff4a78a\" target=\"_top\" title=\"psysml:e0e8ad72-4177-4702-a62e-bf2c3ff4a78a\" xlink:actuate=\"onRequest\" xlink:href=\"psysml:e0e8ad72-4177-4702-a62e-bf2c3ff4a78a\" xlink:show=\"new\" xlink:title=\"psysml:e0e8ad72-4177-4702-a62e-bf2c3ff4a78a\" xlink:type=\"simple\"><path d=\"M306.21,296.47 C313.65,314.7 320.41,331.26 325.51,343.75 \" fill=\"none\" id=\"E1-backto-E5\" style=\"stroke:#181818;stroke-width:1.0;\"/><polygon fill=\"#181818\" points=\"301.23,284.27,299.7934,291.3366,305.7638,295.3805,307.2004,288.314,301.23,284.27\" style=\"stroke:#181818;stroke-width:1.0;\"/></a></g><!--MD5=[aca2ef284c2b1b90e17e73bf3f292c07]\n",
       "reverse link E1 to E6--><g id=\"link_E1_E6\"><a href=\"psysml:3e72a653-2f0b-4c94-896a-b70e2d6f389f\" target=\"_top\" title=\"psysml:3e72a653-2f0b-4c94-896a-b70e2d6f389f\" xlink:actuate=\"onRequest\" xlink:href=\"psysml:3e72a653-2f0b-4c94-896a-b70e2d6f389f\" xlink:show=\"new\" xlink:title=\"psysml:3e72a653-2f0b-4c94-896a-b70e2d6f389f\" xlink:type=\"simple\"><path d=\"M355.55,281.92 C375.09,305.86 393.27,328.14 406.13,343.88 \" fill=\"none\" id=\"E1-backto-E6\" style=\"stroke:#181818;stroke-width:1.0;\"/><polygon fill=\"#181818\" points=\"347.1,271.57,347.7986,278.7472,354.6924,280.8628,353.9938,273.6856,347.1,271.57\" style=\"stroke:#181818;stroke-width:1.0;\"/></a></g><!--MD5=[aa50b370935b14064974d8b2ffd95b7f]\n",
       "@startuml\r\n",
       "skin sysmlbw\r\n",
       "skinparam monochrome true\r\n",
       "skinparam wrapWidth 300\r\n",
       "hide circle\r\n",
       "\r\n",
       "comp def \"DecisionTest\" as E1  <<(T,blue) action  def>> [[psysml:24509d73-250a-487a-bcd7-b59ee0863fbf ]] {\r\n",
       "##//attributes//##\r\n",
       "x <U+003D> 1\r\n",
       "- -\r\n",
       "##//actions//##\r\n",
       "A3\r\n",
       "- -\r\n",
       "##//successions//##\r\n",
       "noname first test x then null\r\n",
       "- -\r\n",
       "##//transitions//##\r\n",
       "\r\n",
       "\r\n",
       "\r\n",
       "\r\n",
       "\r\n",
       "\r\n",
       "S\r\n",
       "}\r\n",
       "comp usage \"test x  \" as E2  <<(T,blue) decision node>> [[psysml:7d99bd45-3b62-4bbf-b126-0db5f71d3136 ]] {\r\n",
       "}\r\n",
       "comp usage \"<s>noname</s>  \" as E3  <<(T,blue) decision node>> [[psysml:6dee609b-d6ae-4161-97b9-077c5f3bd0c2 ]] {\r\n",
       "}\r\n",
       "comp usage \"A1  \" as E4  <<(T,blue) action>> [[psysml:f539a78a-befd-4456-a49f-f3788a07e7bd ]] {\r\n",
       "}\r\n",
       "comp usage \"A2  \" as E5  <<(T,blue) action>> [[psysml:451b6b51-1ae2-4b81-be73-8fe0566d61d5 ]] {\r\n",
       "}\r\n",
       "comp usage \"A3  \" as E6  <<(T,blue) action>> [[psysml:04e53eda-a597-4a9c-96a9-348d67cb9847 ]] {\r\n",
       "}\r\n",
       "E1 *- - E2 [[psysml:0a57c05e-4dd3-44ad-ba12-51402458bbf0 ]] \r\n",
       "E2 - -> E3 [[psysml:df8d299f-9da3-41cd-a9dd-6e3a0d30decc ]] \r\n",
       "E1 *- - E3 [[psysml:5efd2738-c984-493d-a46e-1379d8b8bf4b ]] \r\n",
       "E1 *- - E4 [[psysml:867ae522-9684-4034-9c56-5f70d3a76b09 ]] \r\n",
       "E1 *- - E5 [[psysml:e0e8ad72-4177-4702-a62e-bf2c3ff4a78a ]] \r\n",
       "E1 *- - E6 [[psysml:3e72a653-2f0b-4c94-896a-b70e2d6f389f ]] \r\n",
       "@enduml\r\n",
       "\n",
       "PlantUML version 1.2022.7(Mon Aug 22 17:01:30 UTC 2022)\n",
       "(EPL source distribution)\n",
       "Java Runtime: OpenJDK Runtime Environment\n",
       "JVM: OpenJDK 64-Bit Server VM\n",
       "Default Encoding: UTF-8\n",
       "Language: en\n",
       "Country: null\n",
       "--></g></svg>"
      ]
     },
     "execution_count": 38,
     "metadata": {},
     "output_type": "execute_result"
    }
   ],
   "source": [
    "%viz --style=\"DEFAULT\" --view=\"Tree\" \"DecisionTest\""
   ]
  },
  {
   "cell_type": "code",
   "execution_count": 39,
   "id": "5e278133",
   "metadata": {
    "execution": {
     "iopub.execute_input": "2024-12-16T03:28:03.294728Z",
     "iopub.status.busy": "2024-12-16T03:28:03.294368Z",
     "iopub.status.idle": "2024-12-16T03:28:03.310425Z",
     "shell.execute_reply": "2024-12-16T03:28:03.310229Z"
    }
   },
   "outputs": [
    {
     "data": {
      "image/svg+xml": [
       "<?xml version=\"1.0\" encoding=\"UTF-8\" standalone=\"no\"?><svg xmlns=\"http://www.w3.org/2000/svg\" xmlns:xlink=\"http://www.w3.org/1999/xlink\" contentStyleType=\"text/css\" height=\"10px\" preserveAspectRatio=\"none\" style=\"width:10px;height:10px;background:#FFFFFF;\" version=\"1.1\" viewBox=\"0 0 10 10\" width=\"10px\" zoomAndPan=\"magnify\"><defs/><g><!--MD5=[ac12e6954f3af68464267ee74ddf8a9f]\n",
       "@startuml\r\n",
       "skin sysmlbw\r\n",
       "skinparam monochrome true\r\n",
       "skinparam wrapWidth 300\r\n",
       "hide circle\r\n",
       "\r\n",
       "@enduml\r\n",
       "\n",
       "PlantUML version 1.2022.7(Mon Aug 22 17:01:30 UTC 2022)\n",
       "(EPL source distribution)\n",
       "Java Runtime: OpenJDK Runtime Environment\n",
       "JVM: OpenJDK 64-Bit Server VM\n",
       "Default Encoding: UTF-8\n",
       "Language: en\n",
       "Country: null\n",
       "--></g></svg>"
      ]
     },
     "execution_count": 39,
     "metadata": {},
     "output_type": "execute_result"
    }
   ],
   "source": [
    "%viz --style=\"DEFAULT\" --view=\"State\" \"DecisionTest\""
   ]
  },
  {
   "cell_type": "code",
   "execution_count": 40,
   "id": "2b7d0c3f",
   "metadata": {
    "execution": {
     "iopub.execute_input": "2024-12-16T03:28:03.365988Z",
     "iopub.status.busy": "2024-12-16T03:28:03.365752Z",
     "iopub.status.idle": "2024-12-16T03:28:03.383495Z",
     "shell.execute_reply": "2024-12-16T03:28:03.382664Z"
    }
   },
   "outputs": [
    {
     "data": {
      "image/svg+xml": [
       "<?xml version=\"1.0\" encoding=\"UTF-8\" standalone=\"no\"?><svg xmlns=\"http://www.w3.org/2000/svg\" xmlns:xlink=\"http://www.w3.org/1999/xlink\" contentStyleType=\"text/css\" height=\"338px\" preserveAspectRatio=\"none\" style=\"width:329px;height:338px;background:#FFFFFF;\" version=\"1.1\" viewBox=\"0 0 329 338\" width=\"329px\" zoomAndPan=\"magnify\"><defs/><g><!--MD5=[fbc87193dbaf4d95561dea2c320d4a47]\n",
       "cluster E1--><g id=\"cluster_E1\"><a href=\"psysml:24509d73-250a-487a-bcd7-b59ee0863fbf\" target=\"_top\" title=\"psysml:24509d73-250a-487a-bcd7-b59ee0863fbf\" xlink:actuate=\"onRequest\" xlink:href=\"psysml:24509d73-250a-487a-bcd7-b59ee0863fbf\" xlink:show=\"new\" xlink:title=\"psysml:24509d73-250a-487a-bcd7-b59ee0863fbf\" xlink:type=\"simple\"><rect fill=\"#FFFFFF\" height=\"325\" id=\"E1\" style=\"stroke:#383838;stroke-width:1.5;\" width=\"315\" x=\"7\" y=\"7\"/><text fill=\"#000000\" font-family=\"sans-serif\" font-size=\"12\" font-style=\"italic\" lengthAdjust=\"spacing\" textLength=\"81\" x=\"124\" y=\"23.1387\">«action  def»</text><text fill=\"#000000\" font-family=\"sans-serif\" font-size=\"14\" lengthAdjust=\"spacing\" textLength=\"91\" x=\"119\" y=\"38.9639\">DecisionTest</text><line style=\"stroke:#383838;stroke-width:1.0;\" x1=\"7\" x2=\"322\" y1=\"47.2656\" y2=\"47.2656\"/></a></g><g id=\"elem_E2\"><polygon fill=\"#FFFFFF\" points=\"210,58,222,70,210,82,198,70,210,58\" style=\"stroke:#181818;stroke-width:0.5;\"/></g><g id=\"elem_E3\"><polygon fill=\"#FFFFFF\" points=\"35,125.5,47,137.5,35,149.5,23,137.5,35,125.5\" style=\"stroke:#181818;stroke-width:0.5;\"/></g><g><a href=\"psysml:f539a78a-befd-4456-a49f-f3788a07e7bd\" target=\"_top\" title=\"psysml:f539a78a-befd-4456-a49f-f3788a07e7bd\" xlink:actuate=\"onRequest\" xlink:href=\"psysml:f539a78a-befd-4456-a49f-f3788a07e7bd\" xlink:show=\"new\" xlink:title=\"psysml:f539a78a-befd-4456-a49f-f3788a07e7bd\" xlink:type=\"simple\"><rect fill=\"#FFFFFF\" height=\"45.2656\" id=\"E4\" rx=\"10\" ry=\"10\" style=\"stroke:#383838;stroke-width:1.5;\" width=\"60\" x=\"135\" y=\"193\"/><text fill=\"#000000\" font-family=\"sans-serif\" font-size=\"12\" font-style=\"italic\" lengthAdjust=\"spacing\" textLength=\"53\" x=\"138.5\" y=\"209.1387\">«action»</text><text fill=\"#000000\" font-family=\"sans-serif\" font-size=\"14\" lengthAdjust=\"spacing\" textLength=\"18\" x=\"156\" y=\"224.9639\">A1</text></a></g><g><a href=\"psysml:451b6b51-1ae2-4b81-be73-8fe0566d61d5\" target=\"_top\" title=\"psysml:451b6b51-1ae2-4b81-be73-8fe0566d61d5\" xlink:actuate=\"onRequest\" xlink:href=\"psysml:451b6b51-1ae2-4b81-be73-8fe0566d61d5\" xlink:show=\"new\" xlink:title=\"psysml:451b6b51-1ae2-4b81-be73-8fe0566d61d5\" xlink:type=\"simple\"><rect fill=\"#FFFFFF\" height=\"45.2656\" id=\"E5\" rx=\"10\" ry=\"10\" style=\"stroke:#383838;stroke-width:1.5;\" width=\"60\" x=\"135\" y=\"271\"/><text fill=\"#000000\" font-family=\"sans-serif\" font-size=\"12\" font-style=\"italic\" lengthAdjust=\"spacing\" textLength=\"53\" x=\"138.5\" y=\"287.1387\">«action»</text><text fill=\"#000000\" font-family=\"sans-serif\" font-size=\"14\" lengthAdjust=\"spacing\" textLength=\"18\" x=\"156\" y=\"302.9639\">A2</text></a></g><g><a href=\"psysml:04e53eda-a597-4a9c-96a9-348d67cb9847\" target=\"_top\" title=\"psysml:04e53eda-a597-4a9c-96a9-348d67cb9847\" xlink:actuate=\"onRequest\" xlink:href=\"psysml:04e53eda-a597-4a9c-96a9-348d67cb9847\" xlink:show=\"new\" xlink:title=\"psysml:04e53eda-a597-4a9c-96a9-348d67cb9847\" xlink:type=\"simple\"><rect fill=\"#FFFFFF\" height=\"45.2656\" id=\"E6\" rx=\"10\" ry=\"10\" style=\"stroke:#383838;stroke-width:1.5;\" width=\"60\" x=\"246\" y=\"115\"/><text fill=\"#000000\" font-family=\"sans-serif\" font-size=\"12\" font-style=\"italic\" lengthAdjust=\"spacing\" textLength=\"53\" x=\"249.5\" y=\"131.1387\">«action»</text><text fill=\"#000000\" font-family=\"sans-serif\" font-size=\"14\" lengthAdjust=\"spacing\" textLength=\"18\" x=\"267\" y=\"146.9639\">A3</text></a></g><!--MD5=[4d03bb2d0377dc85ccfab60ff574652b]\n",
       "link E2 to E4--><g id=\"link_E2_E4\"><a href=\"psysml:0e1095c8-d4f6-4449-8c10-0793e56d6528\" target=\"_top\" title=\"psysml:0e1095c8-d4f6-4449-8c10-0793e56d6528\" xlink:actuate=\"onRequest\" xlink:href=\"psysml:0e1095c8-d4f6-4449-8c10-0793e56d6528\" xlink:show=\"new\" xlink:title=\"psysml:0e1095c8-d4f6-4449-8c10-0793e56d6528\" xlink:type=\"simple\"><path d=\"M201.56,73.67 C186.72,78.87 156.35,91.93 144,115 C131.76,137.86 140.48,167.25 150.14,188.14 \" fill=\"none\" id=\"E2-to-E4\" style=\"stroke:#181818;stroke-width:1.0;\"/><polygon fill=\"#181818\" points=\"152.34,192.73,152.0687,182.8849,150.1842,188.2186,144.8505,186.3341,152.34,192.73\" style=\"stroke:#181818;stroke-width:1.0;\"/><text fill=\"#000000\" font-family=\"sans-serif\" font-size=\"13\" lengthAdjust=\"spacing\" textLength=\"55\" x=\"145\" y=\"142.0669\">[x == 1]</text></a></g><!--MD5=[dcad52bbbca2fe8adc741ce38b45dc12]\n",
       "link E2 to E5--><g id=\"link_E2_E5\"><a href=\"psysml:0bc69c08-a059-419e-b618-d454e4819a50\" target=\"_top\" title=\"psysml:0bc69c08-a059-419e-b618-d454e4819a50\" xlink:actuate=\"onRequest\" xlink:href=\"psysml:0bc69c08-a059-419e-b618-d454e4819a50\" xlink:show=\"new\" xlink:title=\"psysml:0bc69c08-a059-419e-b618-d454e4819a50\" xlink:type=\"simple\"><path d=\"M211.15,80.86 C215.56,119.01 230.89,255.21 226,263 C220.04,272.51 210.05,279.02 199.86,283.46 \" fill=\"none\" id=\"E2-to-E5\" style=\"stroke:#181818;stroke-width:1.0;\"/><polygon fill=\"#181818\" points=\"195.18,285.36,205.0232,285.6948,199.8154,283.4858,202.0244,278.2781,195.18,285.36\" style=\"stroke:#181818;stroke-width:1.0;\"/><text fill=\"#000000\" font-family=\"sans-serif\" font-size=\"13\" lengthAdjust=\"spacing\" textLength=\"44\" x=\"223\" y=\"181.0669\">[x &gt; 1]</text></a></g><!--MD5=[e3e28c1befcf002155aa15e1416b4315]\n",
       "link E2 to E6--><g id=\"link_E2_E6\"><a href=\"psysml:7bfaba1c-8598-44bd-a9fd-5f850f0b7fd7\" target=\"_top\" title=\"psysml:7bfaba1c-8598-44bd-a9fd-5f850f0b7fd7\" xlink:actuate=\"onRequest\" xlink:href=\"psysml:7bfaba1c-8598-44bd-a9fd-5f850f0b7fd7\" xlink:show=\"new\" xlink:title=\"psysml:7bfaba1c-8598-44bd-a9fd-5f850f0b7fd7\" xlink:type=\"simple\"><path d=\"M211.52,80.5 C213.19,88.35 216.54,99.41 223,107 C227.99,112.87 234.45,117.79 241.14,121.83 \" fill=\"none\" id=\"E2-to-E6\" style=\"stroke:#181818;stroke-width:1.0;\"/><polygon fill=\"#181818\" points=\"245.79,124.48,239.966,116.5377,241.4505,121.9962,235.992,123.4808,245.79,124.48\" style=\"stroke:#181818;stroke-width:1.0;\"/></a></g><!--MD5=[2351f337d6de0f557b50152ba70847b5]\n",
       "link E6 to E2--><g id=\"link_E6_E2\"><a href=\"psysml:31538477-4a34-40a9-aec8-5df805757767\" target=\"_top\" title=\"psysml:31538477-4a34-40a9-aec8-5df805757767\" xlink:actuate=\"onRequest\" xlink:href=\"psysml:31538477-4a34-40a9-aec8-5df805757767\" xlink:show=\"new\" xlink:title=\"psysml:31538477-4a34-40a9-aec8-5df805757767\" xlink:type=\"simple\"><path d=\"M254.23,114.89 C242.53,103.28 228.69,89.55 219.65,80.58 \" fill=\"none\" id=\"E6-to-E2\" style=\"stroke:#181818;stroke-width:1.0;\"/><polygon fill=\"#181818\" points=\"215.63,76.58,219.2026,85.7581,219.1798,80.1012,224.8366,80.0784,215.63,76.58\" style=\"stroke:#181818;stroke-width:1.0;\"/><text fill=\"#000000\" font-family=\"sans-serif\" font-size=\"13\" lengthAdjust=\"spacing\" textLength=\"44\" x=\"245\" y=\"103.0669\">[x &gt; 0]</text></a></g><!--MD5=[2720a5a1f2c3fca2055b230370638851]\n",
       "link E2 to E3--><g id=\"link_E2_E3\"><a href=\"psysml:df8d299f-9da3-41cd-a9dd-6e3a0d30decc\" target=\"_top\" title=\"psysml:df8d299f-9da3-41cd-a9dd-6e3a0d30decc\" xlink:actuate=\"onRequest\" xlink:href=\"psysml:df8d299f-9da3-41cd-a9dd-6e3a0d30decc\" xlink:show=\"new\" xlink:title=\"psysml:df8d299f-9da3-41cd-a9dd-6e3a0d30decc\" xlink:type=\"simple\"><path d=\"M199.51,71.63 C180.6,73.06 139.84,77.44 108,90 C83.89,99.51 59.12,117.32 45.54,127.92 \" fill=\"none\" id=\"E2-to-E3\" style=\"stroke:#181818;stroke-width:1.0;\"/><polygon fill=\"#181818\" points=\"41.37,131.22,50.9131,128.785,45.2951,128.1227,45.9574,122.5048,41.37,131.22\" style=\"stroke:#181818;stroke-width:1.0;\"/></a></g><!--MD5=[af87c684e3b0d8be13c1a698a818ef1e]\n",
       "link E3 to E4--><g id=\"link_E3_E4\"><a href=\"psysml:131b15c1-7866-4964-88c1-b03f264417a9\" target=\"_top\" title=\"psysml:131b15c1-7866-4964-88c1-b03f264417a9\" xlink:actuate=\"onRequest\" xlink:href=\"psysml:131b15c1-7866-4964-88c1-b03f264417a9\" xlink:show=\"new\" xlink:title=\"psysml:131b15c1-7866-4964-88c1-b03f264417a9\" xlink:type=\"simple\"><path d=\"M40.06,144.83 C48.28,154.73 65.5,173.9 84,185 C93.64,190.79 97.4,189.24 108,193 C115.13,195.53 122.72,198.32 129.96,201.04 \" fill=\"none\" id=\"E3-to-E4\" style=\"stroke:#181818;stroke-width:1.0;\"/><polygon fill=\"#181818\" points=\"134.91,202.9,127.8875,195.9946,130.2284,201.1444,125.0785,203.4852,134.91,202.9\" style=\"stroke:#181818;stroke-width:1.0;\"/><text fill=\"#000000\" font-family=\"sans-serif\" font-size=\"13\" lengthAdjust=\"spacing\" textLength=\"36\" x=\"85\" y=\"181.0669\">[true]</text></a></g><!--MD5=[0188b64bb0ae78505a997a81836e11e9]\n",
       "link E3 to E5--><g id=\"link_E3_E5\"><a href=\"psysml:825f54b9-3c70-45c0-b332-e5b9a5c4b905\" target=\"_top\" title=\"psysml:825f54b9-3c70-45c0-b332-e5b9a5c4b905\" xlink:actuate=\"onRequest\" xlink:href=\"psysml:825f54b9-3c70-45c0-b332-e5b9a5c4b905\" xlink:show=\"new\" xlink:title=\"psysml:825f54b9-3c70-45c0-b332-e5b9a5c4b905\" xlink:type=\"simple\"><path d=\"M36.78,147.75 C40.81,166.63 52.2,210.17 76,238 C90.65,255.14 112.09,268.49 130.26,277.69 \" fill=\"none\" id=\"E3-to-E5\" style=\"stroke:#181818;stroke-width:1.0;\"/><polygon fill=\"#181818\" points=\"134.8,279.94,128.5293,272.3454,130.325,277.7097,124.9607,279.5054,134.8,279.94\" style=\"stroke:#181818;stroke-width:1.0;\"/><text fill=\"#000000\" font-family=\"sans-serif\" font-size=\"13\" lengthAdjust=\"spacing\" textLength=\"40\" x=\"77\" y=\"220.0669\">[false]</text></a></g><!--MD5=[1b7591eae5389033d8d09a9d6721a717]\n",
       "link E4 to E5--><g id=\"link_E4_E5\"><a href=\"psysml:b3779ea1-0b8c-4465-ae00-48dbba13ac92\" target=\"_top\" title=\"psysml:b3779ea1-0b8c-4465-ae00-48dbba13ac92\" xlink:actuate=\"onRequest\" xlink:href=\"psysml:b3779ea1-0b8c-4465-ae00-48dbba13ac92\" xlink:show=\"new\" xlink:title=\"psysml:b3779ea1-0b8c-4465-ae00-48dbba13ac92\" xlink:type=\"simple\"><path d=\"M165,238.08 C165,246.66 165,256.63 165,265.67 \" fill=\"none\" id=\"E4-to-E5\" style=\"stroke:#181818;stroke-width:1.0;\"/><polygon fill=\"#181818\" points=\"165,270.87,169,261.87,165,265.87,161,261.87,165,270.87\" style=\"stroke:#181818;stroke-width:1.0;\"/><text fill=\"#000000\" font-family=\"sans-serif\" font-size=\"13\" lengthAdjust=\"spacing\" textLength=\"55\" x=\"166\" y=\"259.0669\">[x == 0]</text></a></g><!--MD5=[dd0c760b2f232c42773d4a6a8d2b8364]\n",
       "@startuml\r\n",
       "skin sysmlbw\r\n",
       "skinparam monochrome true\r\n",
       "skinparam wrapWidth 300\r\n",
       "hide circle\r\n",
       "skinparam ranksep 10\r\n",
       "skinparam rectangle {\r\n",
       " backgroundColor<<block>> LightGreen\r\n",
       "}\r\n",
       "\r\n",
       "rec def \"DecisionTest\" as E1  <<(T,blue) action  def>> [[psysml:24509d73-250a-487a-bcd7-b59ee0863fbf ]] {\r\n",
       "choice \"test x\" as E2  [[psysml:7d99bd45-3b62-4bbf-b126-0db5f71d3136 ]] \r\n",
       "choice \"<s>noname</s>\" as E3  [[psysml:6dee609b-d6ae-4161-97b9-077c5f3bd0c2 ]] \r\n",
       "rec usage \"A1\" as E4  <<(T,blue) action>> [[psysml:f539a78a-befd-4456-a49f-f3788a07e7bd ]] {\r\n",
       "}\r\n",
       "\r\n",
       "rec usage \"A2\" as E5  <<(T,blue) action>> [[psysml:451b6b51-1ae2-4b81-be73-8fe0566d61d5 ]] {\r\n",
       "}\r\n",
       "\r\n",
       "rec usage \"A3\" as E6  <<(T,blue) action>> [[psysml:04e53eda-a597-4a9c-96a9-348d67cb9847 ]] {\r\n",
       "}\r\n",
       "\r\n",
       "}\r\n",
       "\r\n",
       "E2  - -> E4 [[psysml:0e1095c8-d4f6-4449-8c10-0793e56d6528 ]] : [x == 1]\r\n",
       "E2  - -> E5 [[psysml:0bc69c08-a059-419e-b618-d454e4819a50 ]] : [x > 1]\r\n",
       "E2  - -> E6 [[psysml:7bfaba1c-8598-44bd-a9fd-5f850f0b7fd7 ]] \r\n",
       "E2 - -> E3 [[psysml:df8d299f-9da3-41cd-a9dd-6e3a0d30decc ]] \r\n",
       "E3  - -> E4 [[psysml:131b15c1-7866-4964-88c1-b03f264417a9 ]] : [true]\r\n",
       "E3  - -> E5 [[psysml:825f54b9-3c70-45c0-b332-e5b9a5c4b905 ]] : [false]\r\n",
       "E4  - -> E5 [[psysml:b3779ea1-0b8c-4465-ae00-48dbba13ac92 ]] : [x == 0]\r\n",
       "E6  - -> E2 [[psysml:31538477-4a34-40a9-aec8-5df805757767 ]] : [x > 0]\r\n",
       "@enduml\r\n",
       "\n",
       "PlantUML version 1.2022.7(Mon Aug 22 17:01:30 UTC 2022)\n",
       "(EPL source distribution)\n",
       "Java Runtime: OpenJDK Runtime Environment\n",
       "JVM: OpenJDK 64-Bit Server VM\n",
       "Default Encoding: UTF-8\n",
       "Language: en\n",
       "Country: null\n",
       "--></g></svg>"
      ]
     },
     "execution_count": 40,
     "metadata": {},
     "output_type": "execute_result"
    }
   ],
   "source": [
    "%viz --style=\"DEFAULT\" --view=\"Interconnection\" \"DecisionTest\""
   ]
  },
  {
   "cell_type": "code",
   "execution_count": 41,
   "id": "bd62acfe",
   "metadata": {
    "execution": {
     "iopub.execute_input": "2024-12-16T03:28:03.438768Z",
     "iopub.status.busy": "2024-12-16T03:28:03.438543Z",
     "iopub.status.idle": "2024-12-16T03:28:03.454942Z",
     "shell.execute_reply": "2024-12-16T03:28:03.454231Z"
    }
   },
   "outputs": [
    {
     "data": {
      "image/svg+xml": [
       "<?xml version=\"1.0\" encoding=\"UTF-8\" standalone=\"no\"?><svg xmlns=\"http://www.w3.org/2000/svg\" xmlns:xlink=\"http://www.w3.org/1999/xlink\" contentStyleType=\"text/css\" height=\"338px\" preserveAspectRatio=\"none\" style=\"width:329px;height:338px;background:#FFFFFF;\" version=\"1.1\" viewBox=\"0 0 329 338\" width=\"329px\" zoomAndPan=\"magnify\"><defs/><g><!--MD5=[fbc87193dbaf4d95561dea2c320d4a47]\n",
       "cluster E1--><g id=\"cluster_E1\"><a href=\"psysml:24509d73-250a-487a-bcd7-b59ee0863fbf\" target=\"_top\" title=\"psysml:24509d73-250a-487a-bcd7-b59ee0863fbf\" xlink:actuate=\"onRequest\" xlink:href=\"psysml:24509d73-250a-487a-bcd7-b59ee0863fbf\" xlink:show=\"new\" xlink:title=\"psysml:24509d73-250a-487a-bcd7-b59ee0863fbf\" xlink:type=\"simple\"><rect fill=\"#FFFFFF\" height=\"325\" id=\"E1\" style=\"stroke:#383838;stroke-width:1.5;\" width=\"315\" x=\"7\" y=\"7\"/><text fill=\"#000000\" font-family=\"sans-serif\" font-size=\"12\" font-style=\"italic\" lengthAdjust=\"spacing\" textLength=\"81\" x=\"124\" y=\"23.1387\">«action  def»</text><text fill=\"#000000\" font-family=\"sans-serif\" font-size=\"14\" lengthAdjust=\"spacing\" textLength=\"91\" x=\"119\" y=\"38.9639\">DecisionTest</text><line style=\"stroke:#383838;stroke-width:1.0;\" x1=\"7\" x2=\"322\" y1=\"47.2656\" y2=\"47.2656\"/></a></g><g id=\"elem_E2\"><polygon fill=\"#FFFFFF\" points=\"210,58,222,70,210,82,198,70,210,58\" style=\"stroke:#181818;stroke-width:0.5;\"/></g><g id=\"elem_E3\"><polygon fill=\"#FFFFFF\" points=\"35,125.5,47,137.5,35,149.5,23,137.5,35,125.5\" style=\"stroke:#181818;stroke-width:0.5;\"/></g><g><a href=\"psysml:f539a78a-befd-4456-a49f-f3788a07e7bd\" target=\"_top\" title=\"psysml:f539a78a-befd-4456-a49f-f3788a07e7bd\" xlink:actuate=\"onRequest\" xlink:href=\"psysml:f539a78a-befd-4456-a49f-f3788a07e7bd\" xlink:show=\"new\" xlink:title=\"psysml:f539a78a-befd-4456-a49f-f3788a07e7bd\" xlink:type=\"simple\"><rect fill=\"#FFFFFF\" height=\"45.2656\" id=\"E4\" rx=\"10\" ry=\"10\" style=\"stroke:#383838;stroke-width:1.5;\" width=\"60\" x=\"135\" y=\"193\"/><text fill=\"#000000\" font-family=\"sans-serif\" font-size=\"12\" font-style=\"italic\" lengthAdjust=\"spacing\" textLength=\"53\" x=\"138.5\" y=\"209.1387\">«action»</text><text fill=\"#000000\" font-family=\"sans-serif\" font-size=\"14\" lengthAdjust=\"spacing\" textLength=\"18\" x=\"156\" y=\"224.9639\">A1</text></a></g><g><a href=\"psysml:451b6b51-1ae2-4b81-be73-8fe0566d61d5\" target=\"_top\" title=\"psysml:451b6b51-1ae2-4b81-be73-8fe0566d61d5\" xlink:actuate=\"onRequest\" xlink:href=\"psysml:451b6b51-1ae2-4b81-be73-8fe0566d61d5\" xlink:show=\"new\" xlink:title=\"psysml:451b6b51-1ae2-4b81-be73-8fe0566d61d5\" xlink:type=\"simple\"><rect fill=\"#FFFFFF\" height=\"45.2656\" id=\"E5\" rx=\"10\" ry=\"10\" style=\"stroke:#383838;stroke-width:1.5;\" width=\"60\" x=\"135\" y=\"271\"/><text fill=\"#000000\" font-family=\"sans-serif\" font-size=\"12\" font-style=\"italic\" lengthAdjust=\"spacing\" textLength=\"53\" x=\"138.5\" y=\"287.1387\">«action»</text><text fill=\"#000000\" font-family=\"sans-serif\" font-size=\"14\" lengthAdjust=\"spacing\" textLength=\"18\" x=\"156\" y=\"302.9639\">A2</text></a></g><g><a href=\"psysml:04e53eda-a597-4a9c-96a9-348d67cb9847\" target=\"_top\" title=\"psysml:04e53eda-a597-4a9c-96a9-348d67cb9847\" xlink:actuate=\"onRequest\" xlink:href=\"psysml:04e53eda-a597-4a9c-96a9-348d67cb9847\" xlink:show=\"new\" xlink:title=\"psysml:04e53eda-a597-4a9c-96a9-348d67cb9847\" xlink:type=\"simple\"><rect fill=\"#FFFFFF\" height=\"45.2656\" id=\"E6\" rx=\"10\" ry=\"10\" style=\"stroke:#383838;stroke-width:1.5;\" width=\"60\" x=\"246\" y=\"115\"/><text fill=\"#000000\" font-family=\"sans-serif\" font-size=\"12\" font-style=\"italic\" lengthAdjust=\"spacing\" textLength=\"53\" x=\"249.5\" y=\"131.1387\">«action»</text><text fill=\"#000000\" font-family=\"sans-serif\" font-size=\"14\" lengthAdjust=\"spacing\" textLength=\"18\" x=\"267\" y=\"146.9639\">A3</text></a></g><!--MD5=[4d03bb2d0377dc85ccfab60ff574652b]\n",
       "link E2 to E4--><g id=\"link_E2_E4\"><a href=\"psysml:0e1095c8-d4f6-4449-8c10-0793e56d6528\" target=\"_top\" title=\"psysml:0e1095c8-d4f6-4449-8c10-0793e56d6528\" xlink:actuate=\"onRequest\" xlink:href=\"psysml:0e1095c8-d4f6-4449-8c10-0793e56d6528\" xlink:show=\"new\" xlink:title=\"psysml:0e1095c8-d4f6-4449-8c10-0793e56d6528\" xlink:type=\"simple\"><path d=\"M201.56,73.67 C186.72,78.87 156.35,91.93 144,115 C131.76,137.86 140.48,167.25 150.14,188.14 \" fill=\"none\" id=\"E2-to-E4\" style=\"stroke:#181818;stroke-width:1.0;stroke-dasharray:7.0,7.0;\"/><polygon fill=\"#181818\" points=\"152.34,192.73,152.0687,182.8849,150.1842,188.2186,144.8505,186.3341,152.34,192.73\" style=\"stroke:#181818;stroke-width:1.0;\"/><text fill=\"#000000\" font-family=\"sans-serif\" font-size=\"13\" lengthAdjust=\"spacing\" textLength=\"55\" x=\"145\" y=\"142.0669\">[x == 1]</text></a></g><!--MD5=[dcad52bbbca2fe8adc741ce38b45dc12]\n",
       "link E2 to E5--><g id=\"link_E2_E5\"><a href=\"psysml:0bc69c08-a059-419e-b618-d454e4819a50\" target=\"_top\" title=\"psysml:0bc69c08-a059-419e-b618-d454e4819a50\" xlink:actuate=\"onRequest\" xlink:href=\"psysml:0bc69c08-a059-419e-b618-d454e4819a50\" xlink:show=\"new\" xlink:title=\"psysml:0bc69c08-a059-419e-b618-d454e4819a50\" xlink:type=\"simple\"><path d=\"M211.15,80.86 C215.56,119.01 230.89,255.21 226,263 C220.04,272.51 210.05,279.02 199.86,283.46 \" fill=\"none\" id=\"E2-to-E5\" style=\"stroke:#181818;stroke-width:1.0;stroke-dasharray:7.0,7.0;\"/><polygon fill=\"#181818\" points=\"195.18,285.36,205.0232,285.6948,199.8154,283.4858,202.0244,278.2781,195.18,285.36\" style=\"stroke:#181818;stroke-width:1.0;\"/><text fill=\"#000000\" font-family=\"sans-serif\" font-size=\"13\" lengthAdjust=\"spacing\" textLength=\"44\" x=\"223\" y=\"181.0669\">[x &gt; 1]</text></a></g><!--MD5=[e3e28c1befcf002155aa15e1416b4315]\n",
       "link E2 to E6--><g id=\"link_E2_E6\"><a href=\"psysml:7bfaba1c-8598-44bd-a9fd-5f850f0b7fd7\" target=\"_top\" title=\"psysml:7bfaba1c-8598-44bd-a9fd-5f850f0b7fd7\" xlink:actuate=\"onRequest\" xlink:href=\"psysml:7bfaba1c-8598-44bd-a9fd-5f850f0b7fd7\" xlink:show=\"new\" xlink:title=\"psysml:7bfaba1c-8598-44bd-a9fd-5f850f0b7fd7\" xlink:type=\"simple\"><path d=\"M211.52,80.5 C213.19,88.35 216.54,99.41 223,107 C227.99,112.87 234.45,117.79 241.14,121.83 \" fill=\"none\" id=\"E2-to-E6\" style=\"stroke:#181818;stroke-width:1.0;stroke-dasharray:7.0,7.0;\"/><polygon fill=\"#181818\" points=\"245.79,124.48,239.966,116.5377,241.4505,121.9962,235.992,123.4808,245.79,124.48\" style=\"stroke:#181818;stroke-width:1.0;\"/></a></g><!--MD5=[2351f337d6de0f557b50152ba70847b5]\n",
       "link E6 to E2--><g id=\"link_E6_E2\"><a href=\"psysml:31538477-4a34-40a9-aec8-5df805757767\" target=\"_top\" title=\"psysml:31538477-4a34-40a9-aec8-5df805757767\" xlink:actuate=\"onRequest\" xlink:href=\"psysml:31538477-4a34-40a9-aec8-5df805757767\" xlink:show=\"new\" xlink:title=\"psysml:31538477-4a34-40a9-aec8-5df805757767\" xlink:type=\"simple\"><path d=\"M254.23,114.89 C242.53,103.28 228.69,89.55 219.65,80.58 \" fill=\"none\" id=\"E6-to-E2\" style=\"stroke:#181818;stroke-width:1.0;stroke-dasharray:7.0,7.0;\"/><polygon fill=\"#181818\" points=\"215.63,76.58,219.2026,85.7581,219.1798,80.1012,224.8366,80.0784,215.63,76.58\" style=\"stroke:#181818;stroke-width:1.0;\"/><text fill=\"#000000\" font-family=\"sans-serif\" font-size=\"13\" lengthAdjust=\"spacing\" textLength=\"44\" x=\"245\" y=\"103.0669\">[x &gt; 0]</text></a></g><!--MD5=[2720a5a1f2c3fca2055b230370638851]\n",
       "link E2 to E3--><g id=\"link_E2_E3\"><a href=\"psysml:df8d299f-9da3-41cd-a9dd-6e3a0d30decc\" target=\"_top\" title=\"psysml:df8d299f-9da3-41cd-a9dd-6e3a0d30decc\" xlink:actuate=\"onRequest\" xlink:href=\"psysml:df8d299f-9da3-41cd-a9dd-6e3a0d30decc\" xlink:show=\"new\" xlink:title=\"psysml:df8d299f-9da3-41cd-a9dd-6e3a0d30decc\" xlink:type=\"simple\"><path d=\"M199.51,71.63 C180.6,73.06 139.84,77.44 108,90 C83.89,99.51 59.12,117.32 45.54,127.92 \" fill=\"none\" id=\"E2-to-E3\" style=\"stroke:#181818;stroke-width:1.0;stroke-dasharray:7.0,7.0;\"/><polygon fill=\"#181818\" points=\"41.37,131.22,50.9131,128.785,45.2951,128.1227,45.9574,122.5048,41.37,131.22\" style=\"stroke:#181818;stroke-width:1.0;\"/></a></g><!--MD5=[af87c684e3b0d8be13c1a698a818ef1e]\n",
       "link E3 to E4--><g id=\"link_E3_E4\"><a href=\"psysml:131b15c1-7866-4964-88c1-b03f264417a9\" target=\"_top\" title=\"psysml:131b15c1-7866-4964-88c1-b03f264417a9\" xlink:actuate=\"onRequest\" xlink:href=\"psysml:131b15c1-7866-4964-88c1-b03f264417a9\" xlink:show=\"new\" xlink:title=\"psysml:131b15c1-7866-4964-88c1-b03f264417a9\" xlink:type=\"simple\"><path d=\"M40.06,144.83 C48.28,154.73 65.5,173.9 84,185 C93.64,190.79 97.4,189.24 108,193 C115.13,195.53 122.72,198.32 129.96,201.04 \" fill=\"none\" id=\"E3-to-E4\" style=\"stroke:#181818;stroke-width:1.0;stroke-dasharray:7.0,7.0;\"/><polygon fill=\"#181818\" points=\"134.91,202.9,127.8875,195.9946,130.2284,201.1444,125.0785,203.4852,134.91,202.9\" style=\"stroke:#181818;stroke-width:1.0;\"/><text fill=\"#000000\" font-family=\"sans-serif\" font-size=\"13\" lengthAdjust=\"spacing\" textLength=\"36\" x=\"85\" y=\"181.0669\">[true]</text></a></g><!--MD5=[0188b64bb0ae78505a997a81836e11e9]\n",
       "link E3 to E5--><g id=\"link_E3_E5\"><a href=\"psysml:825f54b9-3c70-45c0-b332-e5b9a5c4b905\" target=\"_top\" title=\"psysml:825f54b9-3c70-45c0-b332-e5b9a5c4b905\" xlink:actuate=\"onRequest\" xlink:href=\"psysml:825f54b9-3c70-45c0-b332-e5b9a5c4b905\" xlink:show=\"new\" xlink:title=\"psysml:825f54b9-3c70-45c0-b332-e5b9a5c4b905\" xlink:type=\"simple\"><path d=\"M36.78,147.75 C40.81,166.63 52.2,210.17 76,238 C90.65,255.14 112.09,268.49 130.26,277.69 \" fill=\"none\" id=\"E3-to-E5\" style=\"stroke:#181818;stroke-width:1.0;stroke-dasharray:7.0,7.0;\"/><polygon fill=\"#181818\" points=\"134.8,279.94,128.5293,272.3454,130.325,277.7097,124.9607,279.5054,134.8,279.94\" style=\"stroke:#181818;stroke-width:1.0;\"/><text fill=\"#000000\" font-family=\"sans-serif\" font-size=\"13\" lengthAdjust=\"spacing\" textLength=\"40\" x=\"77\" y=\"220.0669\">[false]</text></a></g><!--MD5=[1b7591eae5389033d8d09a9d6721a717]\n",
       "link E4 to E5--><g id=\"link_E4_E5\"><a href=\"psysml:b3779ea1-0b8c-4465-ae00-48dbba13ac92\" target=\"_top\" title=\"psysml:b3779ea1-0b8c-4465-ae00-48dbba13ac92\" xlink:actuate=\"onRequest\" xlink:href=\"psysml:b3779ea1-0b8c-4465-ae00-48dbba13ac92\" xlink:show=\"new\" xlink:title=\"psysml:b3779ea1-0b8c-4465-ae00-48dbba13ac92\" xlink:type=\"simple\"><path d=\"M165,238.08 C165,246.66 165,256.63 165,265.67 \" fill=\"none\" id=\"E4-to-E5\" style=\"stroke:#181818;stroke-width:1.0;stroke-dasharray:7.0,7.0;\"/><polygon fill=\"#181818\" points=\"165,270.87,169,261.87,165,265.87,161,261.87,165,270.87\" style=\"stroke:#181818;stroke-width:1.0;\"/><text fill=\"#000000\" font-family=\"sans-serif\" font-size=\"13\" lengthAdjust=\"spacing\" textLength=\"55\" x=\"166\" y=\"259.0669\">[x == 0]</text></a></g><!--MD5=[e2693bc93c819dc5323425b61fcc20bf]\n",
       "@startuml\r\n",
       "skin sysmlbw\r\n",
       "skinparam monochrome true\r\n",
       "skinparam wrapWidth 300\r\n",
       "hide circle\r\n",
       "skinparam ranksep 8\r\n",
       "\r\n",
       "rec def \"DecisionTest\" as E1  <<(T,blue) action  def>> [[psysml:24509d73-250a-487a-bcd7-b59ee0863fbf ]] {\r\n",
       "choice \"test x\" as E2  [[psysml:7d99bd45-3b62-4bbf-b126-0db5f71d3136 ]] \r\n",
       "choice \"<s>noname</s>\" as E3  [[psysml:6dee609b-d6ae-4161-97b9-077c5f3bd0c2 ]] \r\n",
       "rec usage \"A1\" as E4  <<(T,blue) action>> [[psysml:f539a78a-befd-4456-a49f-f3788a07e7bd ]] {\r\n",
       "}\r\n",
       "\r\n",
       "rec usage \"A2\" as E5  <<(T,blue) action>> [[psysml:451b6b51-1ae2-4b81-be73-8fe0566d61d5 ]] {\r\n",
       "}\r\n",
       "\r\n",
       "rec usage \"A3\" as E6  <<(T,blue) action>> [[psysml:04e53eda-a597-4a9c-96a9-348d67cb9847 ]] {\r\n",
       "}\r\n",
       "\r\n",
       "}\r\n",
       "\r\n",
       "E2 ..> E4 [[psysml:0e1095c8-d4f6-4449-8c10-0793e56d6528 ]] : [x == 1]\r\n",
       "E2 ..> E5 [[psysml:0bc69c08-a059-419e-b618-d454e4819a50 ]] : [x > 1]\r\n",
       "E2 ..> E6 [[psysml:7bfaba1c-8598-44bd-a9fd-5f850f0b7fd7 ]] \r\n",
       "E2 ..> E3 [[psysml:df8d299f-9da3-41cd-a9dd-6e3a0d30decc ]] \r\n",
       "E3 ..> E4 [[psysml:131b15c1-7866-4964-88c1-b03f264417a9 ]] : [true]\r\n",
       "E3 ..> E5 [[psysml:825f54b9-3c70-45c0-b332-e5b9a5c4b905 ]] : [false]\r\n",
       "E4 ..> E5 [[psysml:b3779ea1-0b8c-4465-ae00-48dbba13ac92 ]] : [x == 0]\r\n",
       "E6 ..> E2 [[psysml:31538477-4a34-40a9-aec8-5df805757767 ]] : [x > 0]\r\n",
       "@enduml\r\n",
       "\n",
       "PlantUML version 1.2022.7(Mon Aug 22 17:01:30 UTC 2022)\n",
       "(EPL source distribution)\n",
       "Java Runtime: OpenJDK Runtime Environment\n",
       "JVM: OpenJDK 64-Bit Server VM\n",
       "Default Encoding: UTF-8\n",
       "Language: en\n",
       "Country: null\n",
       "--></g></svg>"
      ]
     },
     "execution_count": 41,
     "metadata": {},
     "output_type": "execute_result"
    }
   ],
   "source": [
    "%viz --style=\"DEFAULT\" --view=\"Action\" \"DecisionTest\""
   ]
  },
  {
   "cell_type": "code",
   "execution_count": 42,
   "id": "6a164039",
   "metadata": {
    "execution": {
     "iopub.execute_input": "2024-12-16T03:28:03.510710Z",
     "iopub.status.busy": "2024-12-16T03:28:03.510482Z",
     "iopub.status.idle": "2024-12-16T03:28:03.523633Z",
     "shell.execute_reply": "2024-12-16T03:28:03.523448Z"
    }
   },
   "outputs": [
    {
     "data": {
      "image/svg+xml": [
       "<?xml version=\"1.0\" encoding=\"UTF-8\" standalone=\"no\"?><svg xmlns=\"http://www.w3.org/2000/svg\" xmlns:xlink=\"http://www.w3.org/1999/xlink\" contentStyleType=\"text/css\" height=\"10px\" preserveAspectRatio=\"none\" style=\"width:10px;height:10px;background:#FFFFFF;\" version=\"1.1\" viewBox=\"0 0 10 10\" width=\"10px\" zoomAndPan=\"magnify\"><defs/><g><!--MD5=[075159388321915a295a256e9638f934]\n",
       "@startuml\r\n",
       "skin sysmlbw\r\n",
       "skinparam monochrome true\r\n",
       "skinparam wrapWidth 300\r\n",
       "hide circle\r\n",
       "skinparam roundcorner 20\r\n",
       "skinparam BoxPadding 20\r\n",
       "skinparam SequenceBoxBackgroundColor #white\r\n",
       "skinparam style strictuml\r\n",
       "skinparam maxMessageSize 100\r\n",
       "\r\n",
       "@enduml\r\n",
       "\n",
       "PlantUML version 1.2022.7(Mon Aug 22 17:01:30 UTC 2022)\n",
       "(EPL source distribution)\n",
       "Java Runtime: OpenJDK Runtime Environment\n",
       "JVM: OpenJDK 64-Bit Server VM\n",
       "Default Encoding: UTF-8\n",
       "Language: en\n",
       "Country: null\n",
       "--></g></svg>"
      ]
     },
     "execution_count": 42,
     "metadata": {},
     "output_type": "execute_result"
    }
   ],
   "source": [
    "%viz --style=\"DEFAULT\" --view=\"Sequence\" \"DecisionTest\""
   ]
  },
  {
   "cell_type": "code",
   "execution_count": 43,
   "id": "e91238dd",
   "metadata": {
    "execution": {
     "iopub.execute_input": "2024-12-16T03:28:03.580046Z",
     "iopub.status.busy": "2024-12-16T03:28:03.579834Z",
     "iopub.status.idle": "2024-12-16T03:28:03.597841Z",
     "shell.execute_reply": "2024-12-16T03:28:03.596985Z"
    }
   },
   "outputs": [
    {
     "data": {
      "image/svg+xml": [
       "<?xml version=\"1.0\" encoding=\"UTF-8\" standalone=\"no\"?><svg xmlns=\"http://www.w3.org/2000/svg\" xmlns:xlink=\"http://www.w3.org/1999/xlink\" contentStyleType=\"text/css\" height=\"470px\" preserveAspectRatio=\"none\" style=\"width:329px;height:470px;background:#FFFFFF;\" version=\"1.1\" viewBox=\"0 0 329 470\" width=\"329px\" zoomAndPan=\"magnify\"><defs/><g><!--MD5=[fbc87193dbaf4d95561dea2c320d4a47]\n",
       "cluster E1--><g id=\"cluster_E1\"><a href=\"psysml:24509d73-250a-487a-bcd7-b59ee0863fbf\" target=\"_top\" title=\"psysml:24509d73-250a-487a-bcd7-b59ee0863fbf\" xlink:actuate=\"onRequest\" xlink:href=\"psysml:24509d73-250a-487a-bcd7-b59ee0863fbf\" xlink:show=\"new\" xlink:title=\"psysml:24509d73-250a-487a-bcd7-b59ee0863fbf\" xlink:type=\"simple\"><rect fill=\"#FFFFFF\" height=\"457\" id=\"E1\" style=\"stroke:#383838;stroke-width:1.5;\" width=\"315\" x=\"7\" y=\"7\"/><text fill=\"#000000\" font-family=\"sans-serif\" font-size=\"12\" font-style=\"italic\" lengthAdjust=\"spacing\" textLength=\"81\" x=\"124\" y=\"23.1387\">«action  def»</text><text fill=\"#000000\" font-family=\"sans-serif\" font-size=\"14\" lengthAdjust=\"spacing\" textLength=\"91\" x=\"119\" y=\"38.9639\">DecisionTest</text><line style=\"stroke:#383838;stroke-width:1.0;\" x1=\"7\" x2=\"322\" y1=\"47.2656\" y2=\"47.2656\"/></a></g><g id=\"elem_E2\"><polygon fill=\"#FFFFFF\" points=\"210,58,222,70,210,82,198,70,210,58\" style=\"stroke:#181818;stroke-width:0.5;\"/></g><g id=\"elem_E3\"><polygon fill=\"#FFFFFF\" points=\"35,169.5,47,181.5,35,193.5,23,181.5,35,169.5\" style=\"stroke:#181818;stroke-width:0.5;\"/></g><g><a href=\"psysml:f539a78a-befd-4456-a49f-f3788a07e7bd\" target=\"_top\" title=\"psysml:f539a78a-befd-4456-a49f-f3788a07e7bd\" xlink:actuate=\"onRequest\" xlink:href=\"psysml:f539a78a-befd-4456-a49f-f3788a07e7bd\" xlink:show=\"new\" xlink:title=\"psysml:f539a78a-befd-4456-a49f-f3788a07e7bd\" xlink:type=\"simple\"><rect fill=\"#FFFFFF\" height=\"45.2656\" id=\"E4\" rx=\"10\" ry=\"10\" style=\"stroke:#383838;stroke-width:1.5;\" width=\"60\" x=\"135\" y=\"281\"/><text fill=\"#000000\" font-family=\"sans-serif\" font-size=\"12\" font-style=\"italic\" lengthAdjust=\"spacing\" textLength=\"53\" x=\"138.5\" y=\"297.1387\">«action»</text><text fill=\"#000000\" font-family=\"sans-serif\" font-size=\"14\" lengthAdjust=\"spacing\" textLength=\"18\" x=\"156\" y=\"312.9639\">A1</text></a></g><g><a href=\"psysml:451b6b51-1ae2-4b81-be73-8fe0566d61d5\" target=\"_top\" title=\"psysml:451b6b51-1ae2-4b81-be73-8fe0566d61d5\" xlink:actuate=\"onRequest\" xlink:href=\"psysml:451b6b51-1ae2-4b81-be73-8fe0566d61d5\" xlink:show=\"new\" xlink:title=\"psysml:451b6b51-1ae2-4b81-be73-8fe0566d61d5\" xlink:type=\"simple\"><rect fill=\"#FFFFFF\" height=\"45.2656\" id=\"E5\" rx=\"10\" ry=\"10\" style=\"stroke:#383838;stroke-width:1.5;\" width=\"60\" x=\"135\" y=\"403\"/><text fill=\"#000000\" font-family=\"sans-serif\" font-size=\"12\" font-style=\"italic\" lengthAdjust=\"spacing\" textLength=\"53\" x=\"138.5\" y=\"419.1387\">«action»</text><text fill=\"#000000\" font-family=\"sans-serif\" font-size=\"14\" lengthAdjust=\"spacing\" textLength=\"18\" x=\"156\" y=\"434.9639\">A2</text></a></g><g><a href=\"psysml:04e53eda-a597-4a9c-96a9-348d67cb9847\" target=\"_top\" title=\"psysml:04e53eda-a597-4a9c-96a9-348d67cb9847\" xlink:actuate=\"onRequest\" xlink:href=\"psysml:04e53eda-a597-4a9c-96a9-348d67cb9847\" xlink:show=\"new\" xlink:title=\"psysml:04e53eda-a597-4a9c-96a9-348d67cb9847\" xlink:type=\"simple\"><rect fill=\"#FFFFFF\" height=\"45.2656\" id=\"E6\" rx=\"10\" ry=\"10\" style=\"stroke:#383838;stroke-width:1.5;\" width=\"60\" x=\"246\" y=\"159\"/><text fill=\"#000000\" font-family=\"sans-serif\" font-size=\"12\" font-style=\"italic\" lengthAdjust=\"spacing\" textLength=\"53\" x=\"249.5\" y=\"175.1387\">«action»</text><text fill=\"#000000\" font-family=\"sans-serif\" font-size=\"14\" lengthAdjust=\"spacing\" textLength=\"18\" x=\"267\" y=\"190.9639\">A3</text></a></g><!--MD5=[4d03bb2d0377dc85ccfab60ff574652b]\n",
       "link E2 to E4--><g id=\"link_E2_E4\"><a href=\"psysml:0e1095c8-d4f6-4449-8c10-0793e56d6528\" target=\"_top\" title=\"psysml:0e1095c8-d4f6-4449-8c10-0793e56d6528\" xlink:actuate=\"onRequest\" xlink:href=\"psysml:0e1095c8-d4f6-4449-8c10-0793e56d6528\" xlink:show=\"new\" xlink:title=\"psysml:0e1095c8-d4f6-4449-8c10-0793e56d6528\" xlink:type=\"simple\"><path d=\"M204.06,76.21 C190.24,88.77 156.2,122.4 144,159 C130.9,198.29 143.31,246.33 153.85,275.66 \" fill=\"none\" id=\"E2-to-E4\" style=\"stroke:#181818;stroke-width:1.0;\"/><polygon fill=\"#181818\" points=\"155.65,280.56,156.2879,270.7318,153.9195,275.869,148.7823,273.5006,155.65,280.56\" style=\"stroke:#181818;stroke-width:1.0;\"/><text fill=\"#000000\" font-family=\"sans-serif\" font-size=\"13\" lengthAdjust=\"spacing\" textLength=\"55\" x=\"145\" y=\"186.0669\">[x == 1]</text></a></g><!--MD5=[dcad52bbbca2fe8adc741ce38b45dc12]\n",
       "link E2 to E5--><g id=\"link_E2_E5\"><a href=\"psysml:0bc69c08-a059-419e-b618-d454e4819a50\" target=\"_top\" title=\"psysml:0bc69c08-a059-419e-b618-d454e4819a50\" xlink:actuate=\"onRequest\" xlink:href=\"psysml:0bc69c08-a059-419e-b618-d454e4819a50\" xlink:show=\"new\" xlink:title=\"psysml:0bc69c08-a059-419e-b618-d454e4819a50\" xlink:type=\"simple\"><path d=\"M210.81,81.23 C214.84,132.49 232.28,359.49 226,373 C220.28,385.32 210,395.75 199.49,403.94 \" fill=\"none\" id=\"E2-to-E5\" style=\"stroke:#181818;stroke-width:1.0;\"/><polygon fill=\"#181818\" points=\"195.3,407.08,204.9,404.88,199.3,404.08,200.1,398.48,195.3,407.08\" style=\"stroke:#181818;stroke-width:1.0;\"/><text fill=\"#000000\" font-family=\"sans-serif\" font-size=\"13\" lengthAdjust=\"spacing\" textLength=\"44\" x=\"223\" y=\"247.0669\">[x &gt; 1]</text></a></g><!--MD5=[e3e28c1befcf002155aa15e1416b4315]\n",
       "link E2 to E6--><g id=\"link_E2_E6\"><a href=\"psysml:7bfaba1c-8598-44bd-a9fd-5f850f0b7fd7\" target=\"_top\" title=\"psysml:7bfaba1c-8598-44bd-a9fd-5f850f0b7fd7\" xlink:actuate=\"onRequest\" xlink:href=\"psysml:7bfaba1c-8598-44bd-a9fd-5f850f0b7fd7\" xlink:show=\"new\" xlink:title=\"psysml:7bfaba1c-8598-44bd-a9fd-5f850f0b7fd7\" xlink:type=\"simple\"><path d=\"M210.55,81.49 C211.58,93.62 214.53,113.87 223,129 C228.38,138.62 236.13,147.59 244.04,155.25 \" fill=\"none\" id=\"E2-to-E6\" style=\"stroke:#181818;stroke-width:1.0;\"/><polygon fill=\"#181818\" points=\"247.92,158.91,244.1077,149.8289,244.279,155.4832,238.6247,155.6545,247.92,158.91\" style=\"stroke:#181818;stroke-width:1.0;\"/></a></g><!--MD5=[2351f337d6de0f557b50152ba70847b5]\n",
       "link E6 to E2--><g id=\"link_E6_E2\"><a href=\"psysml:31538477-4a34-40a9-aec8-5df805757767\" target=\"_top\" title=\"psysml:31538477-4a34-40a9-aec8-5df805757767\" xlink:actuate=\"onRequest\" xlink:href=\"psysml:31538477-4a34-40a9-aec8-5df805757767\" xlink:show=\"new\" xlink:title=\"psysml:31538477-4a34-40a9-aec8-5df805757767\" xlink:type=\"simple\"><path d=\"M262.83,158.65 C249.09,135.85 228.04,100.94 217.13,82.82 \" fill=\"none\" id=\"E6-to-E2\" style=\"stroke:#181818;stroke-width:1.0;\"/><polygon fill=\"#181818\" points=\"214.33,78.18,215.5544,87.9525,216.913,82.4612,222.4043,83.8197,214.33,78.18\" style=\"stroke:#181818;stroke-width:1.0;\"/><text fill=\"#000000\" font-family=\"sans-serif\" font-size=\"13\" lengthAdjust=\"spacing\" textLength=\"44\" x=\"244\" y=\"125.0669\">[x &gt; 0]</text></a></g><!--MD5=[2720a5a1f2c3fca2055b230370638851]\n",
       "link E2 to E3--><g id=\"link_E2_E3\"><a href=\"psysml:df8d299f-9da3-41cd-a9dd-6e3a0d30decc\" target=\"_top\" title=\"psysml:df8d299f-9da3-41cd-a9dd-6e3a0d30decc\" xlink:actuate=\"onRequest\" xlink:href=\"psysml:df8d299f-9da3-41cd-a9dd-6e3a0d30decc\" xlink:show=\"new\" xlink:title=\"psysml:df8d299f-9da3-41cd-a9dd-6e3a0d30decc\" xlink:type=\"simple\"><path d=\"M201.29,73.31 C183.01,78.4 139.7,91.78 108,112 C81.71,128.77 56.41,155.69 43.63,170.28 \" fill=\"none\" id=\"E2-to-E3\" style=\"stroke:#181818;stroke-width:1.0;\"/><polygon fill=\"#181818\" points=\"40.08,174.4,48.9911,170.2057,43.3492,170.6168,42.9381,164.975,40.08,174.4\" style=\"stroke:#181818;stroke-width:1.0;\"/></a></g><!--MD5=[af87c684e3b0d8be13c1a698a818ef1e]\n",
       "link E3 to E4--><g id=\"link_E3_E4\"><a href=\"psysml:131b15c1-7866-4964-88c1-b03f264417a9\" target=\"_top\" title=\"psysml:131b15c1-7866-4964-88c1-b03f264417a9\" xlink:actuate=\"onRequest\" xlink:href=\"psysml:131b15c1-7866-4964-88c1-b03f264417a9\" xlink:show=\"new\" xlink:title=\"psysml:131b15c1-7866-4964-88c1-b03f264417a9\" xlink:type=\"simple\"><path d=\"M39.07,190 C46.61,203.42 63.83,231.9 84,251 C97.71,263.98 115.14,275.56 130.33,284.43 \" fill=\"none\" id=\"E3-to-E4\" style=\"stroke:#181818;stroke-width:1.0;\"/><polygon fill=\"#181818\" points=\"134.96,287.1,129.1557,279.1433,130.6267,284.6055,125.1645,286.0765,134.96,287.1\" style=\"stroke:#181818;stroke-width:1.0;\"/><text fill=\"#000000\" font-family=\"sans-serif\" font-size=\"13\" lengthAdjust=\"spacing\" textLength=\"36\" x=\"85\" y=\"247.0669\">[true]</text></a></g><!--MD5=[0188b64bb0ae78505a997a81836e11e9]\n",
       "link E3 to E5--><g id=\"link_E3_E5\"><a href=\"psysml:825f54b9-3c70-45c0-b332-e5b9a5c4b905\" target=\"_top\" title=\"psysml:825f54b9-3c70-45c0-b332-e5b9a5c4b905\" xlink:actuate=\"onRequest\" xlink:href=\"psysml:825f54b9-3c70-45c0-b332-e5b9a5c4b905\" xlink:show=\"new\" xlink:title=\"psysml:825f54b9-3c70-45c0-b332-e5b9a5c4b905\" xlink:type=\"simple\"><path d=\"M36.26,192.49 C39.65,216.72 50.48,280.01 76,326 C91.62,354.15 116.69,380.91 136.25,399.41 \" fill=\"none\" id=\"E3-to-E5\" style=\"stroke:#181818;stroke-width:1.0;\"/><polygon fill=\"#181818\" points=\"140.08,403,136.231,393.9344,136.4252,399.5879,130.7717,399.7821,140.08,403\" style=\"stroke:#181818;stroke-width:1.0;\"/><text fill=\"#000000\" font-family=\"sans-serif\" font-size=\"13\" lengthAdjust=\"spacing\" textLength=\"40\" x=\"77\" y=\"308.0669\">[false]</text></a></g><!--MD5=[1b7591eae5389033d8d09a9d6721a717]\n",
       "link E4 to E5--><g id=\"link_E4_E5\"><a href=\"psysml:b3779ea1-0b8c-4465-ae00-48dbba13ac92\" target=\"_top\" title=\"psysml:b3779ea1-0b8c-4465-ae00-48dbba13ac92\" xlink:actuate=\"onRequest\" xlink:href=\"psysml:b3779ea1-0b8c-4465-ae00-48dbba13ac92\" xlink:show=\"new\" xlink:title=\"psysml:b3779ea1-0b8c-4465-ae00-48dbba13ac92\" xlink:type=\"simple\"><path d=\"M165,326.23 C165,346.37 165,376.37 165,397.92 \" fill=\"none\" id=\"E4-to-E5\" style=\"stroke:#181818;stroke-width:1.0;\"/><polygon fill=\"#181818\" points=\"165,402.93,169,393.93,165,397.93,161,393.93,165,402.93\" style=\"stroke:#181818;stroke-width:1.0;\"/><text fill=\"#000000\" font-family=\"sans-serif\" font-size=\"13\" lengthAdjust=\"spacing\" textLength=\"55\" x=\"166\" y=\"369.0669\">[x == 0]</text></a></g><!--MD5=[5d9c6d673b0c49e0fef725df8a27c490]\n",
       "@startuml\r\n",
       "skin sysmlbw\r\n",
       "skinparam monochrome true\r\n",
       "skinparam wrapWidth 300\r\n",
       "hide circle\r\n",
       "\r\n",
       "rec def \"DecisionTest\" as E1  <<(T,blue) action  def>> [[psysml:24509d73-250a-487a-bcd7-b59ee0863fbf ]] {\r\n",
       "choice \"test x\" as E2  [[psysml:7d99bd45-3b62-4bbf-b126-0db5f71d3136 ]] \r\n",
       "choice \"<s>noname</s>\" as E3  [[psysml:6dee609b-d6ae-4161-97b9-077c5f3bd0c2 ]] \r\n",
       "rec usage \"A1\" as E4  <<(T,blue) action>> [[psysml:f539a78a-befd-4456-a49f-f3788a07e7bd ]] {\r\n",
       "}\r\n",
       "\r\n",
       "rec usage \"A2\" as E5  <<(T,blue) action>> [[psysml:451b6b51-1ae2-4b81-be73-8fe0566d61d5 ]] {\r\n",
       "}\r\n",
       "\r\n",
       "rec usage \"A3\" as E6  <<(T,blue) action>> [[psysml:04e53eda-a597-4a9c-96a9-348d67cb9847 ]] {\r\n",
       "}\r\n",
       "\r\n",
       "}\r\n",
       "\r\n",
       "E2  - -> E4 [[psysml:0e1095c8-d4f6-4449-8c10-0793e56d6528 ]] : [x == 1]\r\n",
       "E2  - -> E5 [[psysml:0bc69c08-a059-419e-b618-d454e4819a50 ]] : [x > 1]\r\n",
       "E2  - -> E6 [[psysml:7bfaba1c-8598-44bd-a9fd-5f850f0b7fd7 ]] \r\n",
       "E2 - -> E3 [[psysml:df8d299f-9da3-41cd-a9dd-6e3a0d30decc ]] \r\n",
       "E3  - -> E4 [[psysml:131b15c1-7866-4964-88c1-b03f264417a9 ]] : [true]\r\n",
       "E3  - -> E5 [[psysml:825f54b9-3c70-45c0-b332-e5b9a5c4b905 ]] : [false]\r\n",
       "E4  - -> E5 [[psysml:b3779ea1-0b8c-4465-ae00-48dbba13ac92 ]] : [x == 0]\r\n",
       "E6  - -> E2 [[psysml:31538477-4a34-40a9-aec8-5df805757767 ]] : [x > 0]\r\n",
       "@enduml\r\n",
       "\n",
       "PlantUML version 1.2022.7(Mon Aug 22 17:01:30 UTC 2022)\n",
       "(EPL source distribution)\n",
       "Java Runtime: OpenJDK Runtime Environment\n",
       "JVM: OpenJDK 64-Bit Server VM\n",
       "Default Encoding: UTF-8\n",
       "Language: en\n",
       "Country: null\n",
       "--></g></svg>"
      ]
     },
     "execution_count": 43,
     "metadata": {},
     "output_type": "execute_result"
    }
   ],
   "source": [
    "%viz --style=\"DEFAULT\" --view=\"MIXED\" \"DecisionTest\""
   ]
  },
  {
   "cell_type": "code",
   "execution_count": 44,
   "id": "fd45a5b2",
   "metadata": {
    "execution": {
     "iopub.execute_input": "2024-12-16T03:28:03.653737Z",
     "iopub.status.busy": "2024-12-16T03:28:03.653533Z",
     "iopub.status.idle": "2024-12-16T03:28:03.670712Z",
     "shell.execute_reply": "2024-12-16T03:28:03.669822Z"
    }
   },
   "outputs": [
    {
     "data": {
      "image/svg+xml": [
       "<?xml version=\"1.0\" encoding=\"UTF-8\" standalone=\"no\"?><svg xmlns=\"http://www.w3.org/2000/svg\" xmlns:xlink=\"http://www.w3.org/1999/xlink\" contentStyleType=\"text/css\" height=\"470px\" preserveAspectRatio=\"none\" style=\"width:329px;height:470px;background:#FFFFFF;\" version=\"1.1\" viewBox=\"0 0 329 470\" width=\"329px\" zoomAndPan=\"magnify\"><defs/><g><!--MD5=[fbc87193dbaf4d95561dea2c320d4a47]\n",
       "cluster E1--><g id=\"cluster_E1\"><a href=\"psysml:24509d73-250a-487a-bcd7-b59ee0863fbf\" target=\"_top\" title=\"psysml:24509d73-250a-487a-bcd7-b59ee0863fbf\" xlink:actuate=\"onRequest\" xlink:href=\"psysml:24509d73-250a-487a-bcd7-b59ee0863fbf\" xlink:show=\"new\" xlink:title=\"psysml:24509d73-250a-487a-bcd7-b59ee0863fbf\" xlink:type=\"simple\"><rect fill=\"#FFFFFF\" height=\"457\" id=\"E1\" style=\"stroke:#383838;stroke-width:1.5;\" width=\"315\" x=\"7\" y=\"7\"/><text fill=\"#000000\" font-family=\"sans-serif\" font-size=\"12\" font-style=\"italic\" lengthAdjust=\"spacing\" textLength=\"81\" x=\"124\" y=\"23.1387\">«action  def»</text><text fill=\"#000000\" font-family=\"sans-serif\" font-size=\"14\" lengthAdjust=\"spacing\" textLength=\"91\" x=\"119\" y=\"38.9639\">DecisionTest</text><line style=\"stroke:#383838;stroke-width:1.0;\" x1=\"7\" x2=\"322\" y1=\"47.2656\" y2=\"47.2656\"/></a></g><g id=\"elem_E2\"><polygon fill=\"#FFFFFF\" points=\"210,58,222,70,210,82,198,70,210,58\" style=\"stroke:#181818;stroke-width:0.5;\"/></g><g id=\"elem_E3\"><polygon fill=\"#FFFFFF\" points=\"35,169.5,47,181.5,35,193.5,23,181.5,35,169.5\" style=\"stroke:#181818;stroke-width:0.5;\"/></g><g><a href=\"psysml:f539a78a-befd-4456-a49f-f3788a07e7bd\" target=\"_top\" title=\"psysml:f539a78a-befd-4456-a49f-f3788a07e7bd\" xlink:actuate=\"onRequest\" xlink:href=\"psysml:f539a78a-befd-4456-a49f-f3788a07e7bd\" xlink:show=\"new\" xlink:title=\"psysml:f539a78a-befd-4456-a49f-f3788a07e7bd\" xlink:type=\"simple\"><rect fill=\"#FFFFFF\" height=\"45.2656\" id=\"E4\" rx=\"10\" ry=\"10\" style=\"stroke:#383838;stroke-width:1.5;\" width=\"60\" x=\"135\" y=\"281\"/><text fill=\"#000000\" font-family=\"sans-serif\" font-size=\"12\" font-style=\"italic\" lengthAdjust=\"spacing\" textLength=\"53\" x=\"138.5\" y=\"297.1387\">«action»</text><text fill=\"#000000\" font-family=\"sans-serif\" font-size=\"14\" lengthAdjust=\"spacing\" textLength=\"18\" x=\"156\" y=\"312.9639\">A1</text></a></g><g><a href=\"psysml:451b6b51-1ae2-4b81-be73-8fe0566d61d5\" target=\"_top\" title=\"psysml:451b6b51-1ae2-4b81-be73-8fe0566d61d5\" xlink:actuate=\"onRequest\" xlink:href=\"psysml:451b6b51-1ae2-4b81-be73-8fe0566d61d5\" xlink:show=\"new\" xlink:title=\"psysml:451b6b51-1ae2-4b81-be73-8fe0566d61d5\" xlink:type=\"simple\"><rect fill=\"#FFFFFF\" height=\"45.2656\" id=\"E5\" rx=\"10\" ry=\"10\" style=\"stroke:#383838;stroke-width:1.5;\" width=\"60\" x=\"135\" y=\"403\"/><text fill=\"#000000\" font-family=\"sans-serif\" font-size=\"12\" font-style=\"italic\" lengthAdjust=\"spacing\" textLength=\"53\" x=\"138.5\" y=\"419.1387\">«action»</text><text fill=\"#000000\" font-family=\"sans-serif\" font-size=\"14\" lengthAdjust=\"spacing\" textLength=\"18\" x=\"156\" y=\"434.9639\">A2</text></a></g><g><a href=\"psysml:04e53eda-a597-4a9c-96a9-348d67cb9847\" target=\"_top\" title=\"psysml:04e53eda-a597-4a9c-96a9-348d67cb9847\" xlink:actuate=\"onRequest\" xlink:href=\"psysml:04e53eda-a597-4a9c-96a9-348d67cb9847\" xlink:show=\"new\" xlink:title=\"psysml:04e53eda-a597-4a9c-96a9-348d67cb9847\" xlink:type=\"simple\"><rect fill=\"#FFFFFF\" height=\"45.2656\" id=\"E6\" rx=\"10\" ry=\"10\" style=\"stroke:#383838;stroke-width:1.5;\" width=\"60\" x=\"246\" y=\"159\"/><text fill=\"#000000\" font-family=\"sans-serif\" font-size=\"12\" font-style=\"italic\" lengthAdjust=\"spacing\" textLength=\"53\" x=\"249.5\" y=\"175.1387\">«action»</text><text fill=\"#000000\" font-family=\"sans-serif\" font-size=\"14\" lengthAdjust=\"spacing\" textLength=\"18\" x=\"267\" y=\"190.9639\">A3</text></a></g><!--MD5=[4d03bb2d0377dc85ccfab60ff574652b]\n",
       "link E2 to E4--><g id=\"link_E2_E4\"><a href=\"psysml:0e1095c8-d4f6-4449-8c10-0793e56d6528\" target=\"_top\" title=\"psysml:0e1095c8-d4f6-4449-8c10-0793e56d6528\" xlink:actuate=\"onRequest\" xlink:href=\"psysml:0e1095c8-d4f6-4449-8c10-0793e56d6528\" xlink:show=\"new\" xlink:title=\"psysml:0e1095c8-d4f6-4449-8c10-0793e56d6528\" xlink:type=\"simple\"><path d=\"M204.06,76.21 C190.24,88.77 156.2,122.4 144,159 C130.9,198.29 143.31,246.33 153.85,275.66 \" fill=\"none\" id=\"E2-to-E4\" style=\"stroke:#181818;stroke-width:1.0;\"/><polygon fill=\"#181818\" points=\"155.65,280.56,156.2879,270.7318,153.9195,275.869,148.7823,273.5006,155.65,280.56\" style=\"stroke:#181818;stroke-width:1.0;\"/><text fill=\"#000000\" font-family=\"sans-serif\" font-size=\"13\" lengthAdjust=\"spacing\" textLength=\"55\" x=\"145\" y=\"186.0669\">[x == 1]</text></a></g><!--MD5=[dcad52bbbca2fe8adc741ce38b45dc12]\n",
       "link E2 to E5--><g id=\"link_E2_E5\"><a href=\"psysml:0bc69c08-a059-419e-b618-d454e4819a50\" target=\"_top\" title=\"psysml:0bc69c08-a059-419e-b618-d454e4819a50\" xlink:actuate=\"onRequest\" xlink:href=\"psysml:0bc69c08-a059-419e-b618-d454e4819a50\" xlink:show=\"new\" xlink:title=\"psysml:0bc69c08-a059-419e-b618-d454e4819a50\" xlink:type=\"simple\"><path d=\"M210.81,81.23 C214.84,132.49 232.28,359.49 226,373 C220.28,385.32 210,395.75 199.49,403.94 \" fill=\"none\" id=\"E2-to-E5\" style=\"stroke:#181818;stroke-width:1.0;\"/><polygon fill=\"#181818\" points=\"195.3,407.08,204.9,404.88,199.3,404.08,200.1,398.48,195.3,407.08\" style=\"stroke:#181818;stroke-width:1.0;\"/><text fill=\"#000000\" font-family=\"sans-serif\" font-size=\"13\" lengthAdjust=\"spacing\" textLength=\"44\" x=\"223\" y=\"247.0669\">[x &gt; 1]</text></a></g><!--MD5=[e3e28c1befcf002155aa15e1416b4315]\n",
       "link E2 to E6--><g id=\"link_E2_E6\"><a href=\"psysml:7bfaba1c-8598-44bd-a9fd-5f850f0b7fd7\" target=\"_top\" title=\"psysml:7bfaba1c-8598-44bd-a9fd-5f850f0b7fd7\" xlink:actuate=\"onRequest\" xlink:href=\"psysml:7bfaba1c-8598-44bd-a9fd-5f850f0b7fd7\" xlink:show=\"new\" xlink:title=\"psysml:7bfaba1c-8598-44bd-a9fd-5f850f0b7fd7\" xlink:type=\"simple\"><path d=\"M210.55,81.49 C211.58,93.62 214.53,113.87 223,129 C228.38,138.62 236.13,147.59 244.04,155.25 \" fill=\"none\" id=\"E2-to-E6\" style=\"stroke:#181818;stroke-width:1.0;\"/><polygon fill=\"#181818\" points=\"247.92,158.91,244.1077,149.8289,244.279,155.4832,238.6247,155.6545,247.92,158.91\" style=\"stroke:#181818;stroke-width:1.0;\"/></a></g><!--MD5=[2351f337d6de0f557b50152ba70847b5]\n",
       "link E6 to E2--><g id=\"link_E6_E2\"><a href=\"psysml:31538477-4a34-40a9-aec8-5df805757767\" target=\"_top\" title=\"psysml:31538477-4a34-40a9-aec8-5df805757767\" xlink:actuate=\"onRequest\" xlink:href=\"psysml:31538477-4a34-40a9-aec8-5df805757767\" xlink:show=\"new\" xlink:title=\"psysml:31538477-4a34-40a9-aec8-5df805757767\" xlink:type=\"simple\"><path d=\"M262.83,158.65 C249.09,135.85 228.04,100.94 217.13,82.82 \" fill=\"none\" id=\"E6-to-E2\" style=\"stroke:#181818;stroke-width:1.0;\"/><polygon fill=\"#181818\" points=\"214.33,78.18,215.5544,87.9525,216.913,82.4612,222.4043,83.8197,214.33,78.18\" style=\"stroke:#181818;stroke-width:1.0;\"/><text fill=\"#000000\" font-family=\"sans-serif\" font-size=\"13\" lengthAdjust=\"spacing\" textLength=\"44\" x=\"244\" y=\"125.0669\">[x &gt; 0]</text></a></g><!--MD5=[2720a5a1f2c3fca2055b230370638851]\n",
       "link E2 to E3--><g id=\"link_E2_E3\"><a href=\"psysml:df8d299f-9da3-41cd-a9dd-6e3a0d30decc\" target=\"_top\" title=\"psysml:df8d299f-9da3-41cd-a9dd-6e3a0d30decc\" xlink:actuate=\"onRequest\" xlink:href=\"psysml:df8d299f-9da3-41cd-a9dd-6e3a0d30decc\" xlink:show=\"new\" xlink:title=\"psysml:df8d299f-9da3-41cd-a9dd-6e3a0d30decc\" xlink:type=\"simple\"><path d=\"M201.29,73.31 C183.01,78.4 139.7,91.78 108,112 C81.71,128.77 56.41,155.69 43.63,170.28 \" fill=\"none\" id=\"E2-to-E3\" style=\"stroke:#181818;stroke-width:1.0;\"/><polygon fill=\"#181818\" points=\"40.08,174.4,48.9911,170.2057,43.3492,170.6168,42.9381,164.975,40.08,174.4\" style=\"stroke:#181818;stroke-width:1.0;\"/></a></g><!--MD5=[af87c684e3b0d8be13c1a698a818ef1e]\n",
       "link E3 to E4--><g id=\"link_E3_E4\"><a href=\"psysml:131b15c1-7866-4964-88c1-b03f264417a9\" target=\"_top\" title=\"psysml:131b15c1-7866-4964-88c1-b03f264417a9\" xlink:actuate=\"onRequest\" xlink:href=\"psysml:131b15c1-7866-4964-88c1-b03f264417a9\" xlink:show=\"new\" xlink:title=\"psysml:131b15c1-7866-4964-88c1-b03f264417a9\" xlink:type=\"simple\"><path d=\"M39.07,190 C46.61,203.42 63.83,231.9 84,251 C97.71,263.98 115.14,275.56 130.33,284.43 \" fill=\"none\" id=\"E3-to-E4\" style=\"stroke:#181818;stroke-width:1.0;\"/><polygon fill=\"#181818\" points=\"134.96,287.1,129.1557,279.1433,130.6267,284.6055,125.1645,286.0765,134.96,287.1\" style=\"stroke:#181818;stroke-width:1.0;\"/><text fill=\"#000000\" font-family=\"sans-serif\" font-size=\"13\" lengthAdjust=\"spacing\" textLength=\"36\" x=\"85\" y=\"247.0669\">[true]</text></a></g><!--MD5=[0188b64bb0ae78505a997a81836e11e9]\n",
       "link E3 to E5--><g id=\"link_E3_E5\"><a href=\"psysml:825f54b9-3c70-45c0-b332-e5b9a5c4b905\" target=\"_top\" title=\"psysml:825f54b9-3c70-45c0-b332-e5b9a5c4b905\" xlink:actuate=\"onRequest\" xlink:href=\"psysml:825f54b9-3c70-45c0-b332-e5b9a5c4b905\" xlink:show=\"new\" xlink:title=\"psysml:825f54b9-3c70-45c0-b332-e5b9a5c4b905\" xlink:type=\"simple\"><path d=\"M36.26,192.49 C39.65,216.72 50.48,280.01 76,326 C91.62,354.15 116.69,380.91 136.25,399.41 \" fill=\"none\" id=\"E3-to-E5\" style=\"stroke:#181818;stroke-width:1.0;\"/><polygon fill=\"#181818\" points=\"140.08,403,136.231,393.9344,136.4252,399.5879,130.7717,399.7821,140.08,403\" style=\"stroke:#181818;stroke-width:1.0;\"/><text fill=\"#000000\" font-family=\"sans-serif\" font-size=\"13\" lengthAdjust=\"spacing\" textLength=\"40\" x=\"77\" y=\"308.0669\">[false]</text></a></g><!--MD5=[1b7591eae5389033d8d09a9d6721a717]\n",
       "link E4 to E5--><g id=\"link_E4_E5\"><a href=\"psysml:b3779ea1-0b8c-4465-ae00-48dbba13ac92\" target=\"_top\" title=\"psysml:b3779ea1-0b8c-4465-ae00-48dbba13ac92\" xlink:actuate=\"onRequest\" xlink:href=\"psysml:b3779ea1-0b8c-4465-ae00-48dbba13ac92\" xlink:show=\"new\" xlink:title=\"psysml:b3779ea1-0b8c-4465-ae00-48dbba13ac92\" xlink:type=\"simple\"><path d=\"M165,326.23 C165,346.37 165,376.37 165,397.92 \" fill=\"none\" id=\"E4-to-E5\" style=\"stroke:#181818;stroke-width:1.0;\"/><polygon fill=\"#181818\" points=\"165,402.93,169,393.93,165,397.93,161,393.93,165,402.93\" style=\"stroke:#181818;stroke-width:1.0;\"/><text fill=\"#000000\" font-family=\"sans-serif\" font-size=\"13\" lengthAdjust=\"spacing\" textLength=\"55\" x=\"166\" y=\"369.0669\">[x == 0]</text></a></g><!--MD5=[0931d5129ac5e5176016f6dff33b3369]\n",
       "@startuml\r\n",
       "skin sysmlbw\r\n",
       "skinparam monochrome true\r\n",
       "skinparam wrapWidth 300\r\n",
       "hide circle\r\n",
       "top to bottom direction\r\n",
       "\r\n",
       "rec def \"DecisionTest\" as E1  <<(T,blue) action  def>> [[psysml:24509d73-250a-487a-bcd7-b59ee0863fbf ]] {\r\n",
       "choice \"test x\" as E2  [[psysml:7d99bd45-3b62-4bbf-b126-0db5f71d3136 ]] \r\n",
       "choice \"<s>noname</s>\" as E3  [[psysml:6dee609b-d6ae-4161-97b9-077c5f3bd0c2 ]] \r\n",
       "rec usage \"A1\" as E4  <<(T,blue) action>> [[psysml:f539a78a-befd-4456-a49f-f3788a07e7bd ]] {\r\n",
       "}\r\n",
       "\r\n",
       "rec usage \"A2\" as E5  <<(T,blue) action>> [[psysml:451b6b51-1ae2-4b81-be73-8fe0566d61d5 ]] {\r\n",
       "}\r\n",
       "\r\n",
       "rec usage \"A3\" as E6  <<(T,blue) action>> [[psysml:04e53eda-a597-4a9c-96a9-348d67cb9847 ]] {\r\n",
       "}\r\n",
       "\r\n",
       "}\r\n",
       "\r\n",
       "E2  - -> E4 [[psysml:0e1095c8-d4f6-4449-8c10-0793e56d6528 ]] : [x == 1]\r\n",
       "E2  - -> E5 [[psysml:0bc69c08-a059-419e-b618-d454e4819a50 ]] : [x > 1]\r\n",
       "E2  - -> E6 [[psysml:7bfaba1c-8598-44bd-a9fd-5f850f0b7fd7 ]] \r\n",
       "E2 - -> E3 [[psysml:df8d299f-9da3-41cd-a9dd-6e3a0d30decc ]] \r\n",
       "E3  - -> E4 [[psysml:131b15c1-7866-4964-88c1-b03f264417a9 ]] : [true]\r\n",
       "E3  - -> E5 [[psysml:825f54b9-3c70-45c0-b332-e5b9a5c4b905 ]] : [false]\r\n",
       "E4  - -> E5 [[psysml:b3779ea1-0b8c-4465-ae00-48dbba13ac92 ]] : [x == 0]\r\n",
       "E6  - -> E2 [[psysml:31538477-4a34-40a9-aec8-5df805757767 ]] : [x > 0]\r\n",
       "@enduml\r\n",
       "\n",
       "PlantUML version 1.2022.7(Mon Aug 22 17:01:30 UTC 2022)\n",
       "(EPL source distribution)\n",
       "Java Runtime: OpenJDK Runtime Environment\n",
       "JVM: OpenJDK 64-Bit Server VM\n",
       "Default Encoding: UTF-8\n",
       "Language: en\n",
       "Country: null\n",
       "--></g></svg>"
      ]
     },
     "execution_count": 44,
     "metadata": {},
     "output_type": "execute_result"
    }
   ],
   "source": [
    "%viz --style=\"TB\" --view=\"Default\" \"DecisionTest\""
   ]
  },
  {
   "cell_type": "code",
   "execution_count": 45,
   "id": "ffc53948",
   "metadata": {
    "execution": {
     "iopub.execute_input": "2024-12-16T03:28:03.726088Z",
     "iopub.status.busy": "2024-12-16T03:28:03.725855Z",
     "iopub.status.idle": "2024-12-16T03:28:03.754759Z",
     "shell.execute_reply": "2024-12-16T03:28:03.753963Z"
    }
   },
   "outputs": [
    {
     "data": {
      "image/svg+xml": [
       "<?xml version=\"1.0\" encoding=\"UTF-8\" standalone=\"no\"?><svg xmlns=\"http://www.w3.org/2000/svg\" xmlns:xlink=\"http://www.w3.org/1999/xlink\" contentStyleType=\"text/css\" height=\"507px\" preserveAspectRatio=\"none\" style=\"width:459px;height:507px;background:#FFFFFF;\" version=\"1.1\" viewBox=\"0 0 459 507\" width=\"459px\" zoomAndPan=\"magnify\"><defs/><g><!--MD5=[43c9051892ef23e1a46a86907403d788]\n",
       "class E1--><a href=\"psysml:24509d73-250a-487a-bcd7-b59ee0863fbf\" target=\"_top\" title=\"psysml:24509d73-250a-487a-bcd7-b59ee0863fbf\" xlink:actuate=\"onRequest\" xlink:href=\"psysml:24509d73-250a-487a-bcd7-b59ee0863fbf\" xlink:show=\"new\" xlink:title=\"psysml:24509d73-250a-487a-bcd7-b59ee0863fbf\" xlink:type=\"simple\"><g id=\"elem_E1\"><rect fill=\"#FFFFFF\" height=\"277.3094\" id=\"E1\" style=\"stroke:#181818;stroke-width:0.5;\" width=\"204\" x=\"143\" y=\"7\"/><text fill=\"#000000\" font-family=\"sans-serif\" font-size=\"12\" font-style=\"italic\" lengthAdjust=\"spacing\" textLength=\"81\" x=\"204.5\" y=\"23.1387\">«action  def»</text><text fill=\"#000000\" font-family=\"sans-serif\" font-size=\"14\" lengthAdjust=\"spacing\" textLength=\"91\" x=\"199.5\" y=\"38.9639\">DecisionTest</text><line style=\"stroke:#181818;stroke-width:0.5;\" x1=\"144\" x2=\"346\" y1=\"47.2656\" y2=\"47.2656\"/><text fill=\"#000000\" font-family=\"sans-serif\" font-size=\"14\" lengthAdjust=\"spacing\" textLength=\"36\" x=\"149\" y=\"74.7795\">x = 1</text><text fill=\"#000000\" font-family=\"sans-serif\" font-size=\"14\" font-style=\"italic\" lengthAdjust=\"spacing\" textLength=\"66\" x=\"212\" y=\"59.6123\">attributes</text><line style=\"stroke:#181818;stroke-width:1.0;\" x1=\"144\" x2=\"346\" y1=\"82.0813\" y2=\"82.0813\"/><text fill=\"#000000\" font-family=\"sans-serif\" font-size=\"14\" lengthAdjust=\"spacing\" textLength=\"18\" x=\"149\" y=\"109.5951\">A3</text><text fill=\"#000000\" font-family=\"sans-serif\" font-size=\"14\" font-style=\"italic\" lengthAdjust=\"spacing\" textLength=\"50\" x=\"220\" y=\"94.4279\">actions</text><line style=\"stroke:#181818;stroke-width:1.0;\" x1=\"144\" x2=\"346\" y1=\"116.8969\" y2=\"116.8969\"/><text fill=\"#000000\" font-family=\"sans-serif\" font-size=\"14\" lengthAdjust=\"spacing\" textLength=\"192\" x=\"149\" y=\"144.4107\">noname first test x then null</text><text fill=\"#000000\" font-family=\"sans-serif\" font-size=\"14\" font-style=\"italic\" lengthAdjust=\"spacing\" textLength=\"87\" x=\"201.5\" y=\"129.2436\">successions</text><line style=\"stroke:#181818;stroke-width:1.0;\" x1=\"144\" x2=\"346\" y1=\"151.7125\" y2=\"151.7125\"/><text fill=\"#000000\" font-family=\"sans-serif\" font-size=\"14\" lengthAdjust=\"spacing\" textLength=\"4\" x=\"149\" y=\"179.2264\"> </text><text fill=\"#000000\" font-family=\"sans-serif\" font-size=\"14\" lengthAdjust=\"spacing\" textLength=\"4\" x=\"149\" y=\"195.5232\"> </text><text fill=\"#000000\" font-family=\"sans-serif\" font-size=\"14\" lengthAdjust=\"spacing\" textLength=\"4\" x=\"149\" y=\"211.8201\"> </text><text fill=\"#000000\" font-family=\"sans-serif\" font-size=\"14\" lengthAdjust=\"spacing\" textLength=\"4\" x=\"149\" y=\"228.117\"> </text><text fill=\"#000000\" font-family=\"sans-serif\" font-size=\"14\" lengthAdjust=\"spacing\" textLength=\"4\" x=\"149\" y=\"244.4139\"> </text><text fill=\"#000000\" font-family=\"sans-serif\" font-size=\"14\" lengthAdjust=\"spacing\" textLength=\"4\" x=\"149\" y=\"260.7107\"> </text><text fill=\"#000000\" font-family=\"sans-serif\" font-size=\"14\" lengthAdjust=\"spacing\" textLength=\"9\" x=\"149\" y=\"277.0076\">S</text><text fill=\"#000000\" font-family=\"sans-serif\" font-size=\"14\" font-style=\"italic\" lengthAdjust=\"spacing\" textLength=\"72\" x=\"209\" y=\"164.0592\">transitions</text></g></a><!--MD5=[b4997ac47864f28c2f74865a473b2911]\n",
       "class E2--><a href=\"psysml:7d99bd45-3b62-4bbf-b126-0db5f71d3136\" target=\"_top\" title=\"psysml:7d99bd45-3b62-4bbf-b126-0db5f71d3136\" xlink:actuate=\"onRequest\" xlink:href=\"psysml:7d99bd45-3b62-4bbf-b126-0db5f71d3136\" xlink:show=\"new\" xlink:title=\"psysml:7d99bd45-3b62-4bbf-b126-0db5f71d3136\" xlink:type=\"simple\"><g id=\"elem_E2\"><rect fill=\"#FFFFFF\" height=\"48.2656\" id=\"E2\" rx=\"10\" ry=\"10\" style=\"stroke:#181818;stroke-width:0.5;\" width=\"104\" x=\"7\" y=\"344\"/><text fill=\"#000000\" font-family=\"sans-serif\" font-size=\"12\" font-style=\"italic\" lengthAdjust=\"spacing\" textLength=\"102\" x=\"8\" y=\"360.1387\">«decision node»</text><text fill=\"#000000\" font-family=\"sans-serif\" font-size=\"14\" lengthAdjust=\"spacing\" textLength=\"38\" x=\"36\" y=\"375.9639\">test x</text><line style=\"stroke:#181818;stroke-width:0.5;\" x1=\"8\" x2=\"110\" y1=\"384.2656\" y2=\"384.2656\"/></g></a><!--MD5=[09b614a08d8cba4a07c9adeb5e0fee81]\n",
       "class E3--><a href=\"psysml:6dee609b-d6ae-4161-97b9-077c5f3bd0c2\" target=\"_top\" title=\"psysml:6dee609b-d6ae-4161-97b9-077c5f3bd0c2\" xlink:actuate=\"onRequest\" xlink:href=\"psysml:6dee609b-d6ae-4161-97b9-077c5f3bd0c2\" xlink:show=\"new\" xlink:title=\"psysml:6dee609b-d6ae-4161-97b9-077c5f3bd0c2\" xlink:type=\"simple\"><g id=\"elem_E3\"><rect fill=\"#FFFFFF\" height=\"48.2656\" id=\"E3\" rx=\"10\" ry=\"10\" style=\"stroke:#181818;stroke-width:0.5;\" width=\"104\" x=\"59\" y=\"452\"/><text fill=\"#000000\" font-family=\"sans-serif\" font-size=\"12\" font-style=\"italic\" lengthAdjust=\"spacing\" textLength=\"102\" x=\"60\" y=\"468.1387\">«decision node»</text><text fill=\"#000000\" font-family=\"sans-serif\" font-size=\"14\" lengthAdjust=\"spacing\" text-decoration=\"line-through\" textLength=\"57\" x=\"78.5\" y=\"483.9639\">noname</text><text fill=\"#000000\" font-family=\"sans-serif\" font-size=\"14\" lengthAdjust=\"spacing\" textLength=\"8\" x=\"135.5\" y=\"483.9639\">  </text><line style=\"stroke:#181818;stroke-width:0.5;\" x1=\"60\" x2=\"162\" y1=\"492.2656\" y2=\"492.2656\"/></g></a><!--MD5=[ebbe1d658d1005bcc118a6aa81145e00]\n",
       "class E4--><a href=\"psysml:f539a78a-befd-4456-a49f-f3788a07e7bd\" target=\"_top\" title=\"psysml:f539a78a-befd-4456-a49f-f3788a07e7bd\" xlink:actuate=\"onRequest\" xlink:href=\"psysml:f539a78a-befd-4456-a49f-f3788a07e7bd\" xlink:show=\"new\" xlink:title=\"psysml:f539a78a-befd-4456-a49f-f3788a07e7bd\" xlink:type=\"simple\"><g id=\"elem_E4\"><rect fill=\"#FFFFFF\" height=\"48.2656\" id=\"E4\" rx=\"10\" ry=\"10\" style=\"stroke:#181818;stroke-width:0.5;\" width=\"55\" x=\"217.5\" y=\"344\"/><text fill=\"#000000\" font-family=\"sans-serif\" font-size=\"12\" font-style=\"italic\" lengthAdjust=\"spacing\" textLength=\"53\" x=\"218.5\" y=\"360.1387\">«action»</text><text fill=\"#000000\" font-family=\"sans-serif\" font-size=\"14\" lengthAdjust=\"spacing\" textLength=\"18\" x=\"232\" y=\"375.9639\">A1</text><line style=\"stroke:#181818;stroke-width:0.5;\" x1=\"218.5\" x2=\"271.5\" y1=\"384.2656\" y2=\"384.2656\"/></g></a><!--MD5=[270fce915f116d4de14055a7c1d9a0f3]\n",
       "class E5--><a href=\"psysml:451b6b51-1ae2-4b81-be73-8fe0566d61d5\" target=\"_top\" title=\"psysml:451b6b51-1ae2-4b81-be73-8fe0566d61d5\" xlink:actuate=\"onRequest\" xlink:href=\"psysml:451b6b51-1ae2-4b81-be73-8fe0566d61d5\" xlink:show=\"new\" xlink:title=\"psysml:451b6b51-1ae2-4b81-be73-8fe0566d61d5\" xlink:type=\"simple\"><g id=\"elem_E5\"><rect fill=\"#FFFFFF\" height=\"48.2656\" id=\"E5\" rx=\"10\" ry=\"10\" style=\"stroke:#181818;stroke-width:0.5;\" width=\"55\" x=\"307.5\" y=\"344\"/><text fill=\"#000000\" font-family=\"sans-serif\" font-size=\"12\" font-style=\"italic\" lengthAdjust=\"spacing\" textLength=\"53\" x=\"308.5\" y=\"360.1387\">«action»</text><text fill=\"#000000\" font-family=\"sans-serif\" font-size=\"14\" lengthAdjust=\"spacing\" textLength=\"18\" x=\"322\" y=\"375.9639\">A2</text><line style=\"stroke:#181818;stroke-width:0.5;\" x1=\"308.5\" x2=\"361.5\" y1=\"384.2656\" y2=\"384.2656\"/></g></a><!--MD5=[60a26617385b1d2d0262a64233df1f8d]\n",
       "class E6--><a href=\"psysml:04e53eda-a597-4a9c-96a9-348d67cb9847\" target=\"_top\" title=\"psysml:04e53eda-a597-4a9c-96a9-348d67cb9847\" xlink:actuate=\"onRequest\" xlink:href=\"psysml:04e53eda-a597-4a9c-96a9-348d67cb9847\" xlink:show=\"new\" xlink:title=\"psysml:04e53eda-a597-4a9c-96a9-348d67cb9847\" xlink:type=\"simple\"><g id=\"elem_E6\"><rect fill=\"#FFFFFF\" height=\"48.2656\" id=\"E6\" rx=\"10\" ry=\"10\" style=\"stroke:#181818;stroke-width:0.5;\" width=\"55\" x=\"397.5\" y=\"344\"/><text fill=\"#000000\" font-family=\"sans-serif\" font-size=\"12\" font-style=\"italic\" lengthAdjust=\"spacing\" textLength=\"53\" x=\"398.5\" y=\"360.1387\">«action»</text><text fill=\"#000000\" font-family=\"sans-serif\" font-size=\"14\" lengthAdjust=\"spacing\" textLength=\"18\" x=\"412\" y=\"375.9639\">A3</text><line style=\"stroke:#181818;stroke-width:0.5;\" x1=\"398.5\" x2=\"451.5\" y1=\"384.2656\" y2=\"384.2656\"/></g></a><!--MD5=[a523cb2a0b79ecf9065ad8783f96c320]\n",
       "reverse link E1 to E2--><g id=\"link_E1_E2\"><a href=\"psysml:0a57c05e-4dd3-44ad-ba12-51402458bbf0\" target=\"_top\" title=\"psysml:0a57c05e-4dd3-44ad-ba12-51402458bbf0\" xlink:actuate=\"onRequest\" xlink:href=\"psysml:0a57c05e-4dd3-44ad-ba12-51402458bbf0\" xlink:show=\"new\" xlink:title=\"psysml:0a57c05e-4dd3-44ad-ba12-51402458bbf0\" xlink:type=\"simple\"><path d=\"M134.13,277.93 C112.64,303.41 92.47,327.33 78.45,343.95 \" fill=\"none\" id=\"E1-backto-E2\" style=\"stroke:#181818;stroke-width:1.0;\"/><polygon fill=\"#181818\" points=\"142.75,267.72,135.824,269.7277,135.0135,276.8931,141.9394,274.8854,142.75,267.72\" style=\"stroke:#181818;stroke-width:1.0;\"/></a></g><!--MD5=[2720a5a1f2c3fca2055b230370638851]\n",
       "link E2 to E3--><g id=\"link_E2_E3\"><a href=\"psysml:df8d299f-9da3-41cd-a9dd-6e3a0d30decc\" target=\"_top\" title=\"psysml:df8d299f-9da3-41cd-a9dd-6e3a0d30decc\" xlink:actuate=\"onRequest\" xlink:href=\"psysml:df8d299f-9da3-41cd-a9dd-6e3a0d30decc\" xlink:show=\"new\" xlink:title=\"psysml:df8d299f-9da3-41cd-a9dd-6e3a0d30decc\" xlink:type=\"simple\"><path d=\"M70.28,392 C78.2,408.14 88.83,429.82 97.25,446.97 \" fill=\"none\" id=\"E2-to-E3\" style=\"stroke:#181818;stroke-width:1.0;\"/><polygon fill=\"#181818\" points=\"99.56,451.68,99.1883,441.8382,97.3583,447.1908,92.0056,445.3609,99.56,451.68\" style=\"stroke:#181818;stroke-width:1.0;\"/></a></g><!--MD5=[5d7b3810b1dd9b5164bea1151b29b665]\n",
       "reverse link E1 to E3--><g id=\"link_E1_E3\"><a href=\"psysml:5efd2738-c984-493d-a46e-1379d8b8bf4b\" target=\"_top\" title=\"psysml:5efd2738-c984-493d-a46e-1379d8b8bf4b\" xlink:actuate=\"onRequest\" xlink:href=\"psysml:5efd2738-c984-493d-a46e-1379d8b8bf4b\" xlink:show=\"new\" xlink:title=\"psysml:5efd2738-c984-493d-a46e-1379d8b8bf4b\" xlink:type=\"simple\"><path d=\"M183.72,296.73 C159.26,356.7 133.77,419.17 120.43,451.87 \" fill=\"none\" id=\"E1-backto-E3\" style=\"stroke:#181818;stroke-width:1.0;\"/><polygon fill=\"#181818\" points=\"188.75,284.39,182.7796,288.434,184.2162,295.5005,190.1866,291.4566,188.75,284.39\" style=\"stroke:#181818;stroke-width:1.0;\"/></a></g><!--MD5=[f2c5c03aa1e8c0ba21c10a05e6444b8e]\n",
       "reverse link E1 to E4--><g id=\"link_E1_E4\"><a href=\"psysml:867ae522-9684-4034-9c56-5f70d3a76b09\" target=\"_top\" title=\"psysml:867ae522-9684-4034-9c56-5f70d3a76b09\" xlink:actuate=\"onRequest\" xlink:href=\"psysml:867ae522-9684-4034-9c56-5f70d3a76b09\" xlink:show=\"new\" xlink:title=\"psysml:867ae522-9684-4034-9c56-5f70d3a76b09\" xlink:type=\"simple\"><path d=\"M245,297.51 C245,315.33 245,331.5 245,343.75 \" fill=\"none\" id=\"E1-backto-E4\" style=\"stroke:#181818;stroke-width:1.0;\"/><polygon fill=\"#181818\" points=\"245,284.27,241,290.27,245,296.27,249,290.27,245,284.27\" style=\"stroke:#181818;stroke-width:1.0;\"/></a></g><!--MD5=[33238bef88d6431a141d8bc8fb12bca0]\n",
       "reverse link E1 to E5--><g id=\"link_E1_E5\"><a href=\"psysml:e0e8ad72-4177-4702-a62e-bf2c3ff4a78a\" target=\"_top\" title=\"psysml:e0e8ad72-4177-4702-a62e-bf2c3ff4a78a\" xlink:actuate=\"onRequest\" xlink:href=\"psysml:e0e8ad72-4177-4702-a62e-bf2c3ff4a78a\" xlink:show=\"new\" xlink:title=\"psysml:e0e8ad72-4177-4702-a62e-bf2c3ff4a78a\" xlink:type=\"simple\"><path d=\"M306.21,296.47 C313.65,314.7 320.41,331.26 325.51,343.75 \" fill=\"none\" id=\"E1-backto-E5\" style=\"stroke:#181818;stroke-width:1.0;\"/><polygon fill=\"#181818\" points=\"301.23,284.27,299.7934,291.3366,305.7638,295.3805,307.2004,288.314,301.23,284.27\" style=\"stroke:#181818;stroke-width:1.0;\"/></a></g><!--MD5=[aca2ef284c2b1b90e17e73bf3f292c07]\n",
       "reverse link E1 to E6--><g id=\"link_E1_E6\"><a href=\"psysml:3e72a653-2f0b-4c94-896a-b70e2d6f389f\" target=\"_top\" title=\"psysml:3e72a653-2f0b-4c94-896a-b70e2d6f389f\" xlink:actuate=\"onRequest\" xlink:href=\"psysml:3e72a653-2f0b-4c94-896a-b70e2d6f389f\" xlink:show=\"new\" xlink:title=\"psysml:3e72a653-2f0b-4c94-896a-b70e2d6f389f\" xlink:type=\"simple\"><path d=\"M355.55,281.92 C375.09,305.86 393.27,328.14 406.13,343.88 \" fill=\"none\" id=\"E1-backto-E6\" style=\"stroke:#181818;stroke-width:1.0;\"/><polygon fill=\"#181818\" points=\"347.1,271.57,347.7986,278.7472,354.6924,280.8628,353.9938,273.6856,347.1,271.57\" style=\"stroke:#181818;stroke-width:1.0;\"/></a></g><!--MD5=[a7ff78cee9751ed4eb8450d22fbff820]\n",
       "@startuml\r\n",
       "skin sysmlbw\r\n",
       "skinparam monochrome true\r\n",
       "skinparam wrapWidth 300\r\n",
       "hide circle\r\n",
       "top to bottom direction\r\n",
       "\r\n",
       "comp def \"DecisionTest\" as E1  <<(T,blue) action  def>> [[psysml:24509d73-250a-487a-bcd7-b59ee0863fbf ]] {\r\n",
       "##//attributes//##\r\n",
       "x <U+003D> 1\r\n",
       "- -\r\n",
       "##//actions//##\r\n",
       "A3\r\n",
       "- -\r\n",
       "##//successions//##\r\n",
       "noname first test x then null\r\n",
       "- -\r\n",
       "##//transitions//##\r\n",
       "\r\n",
       "\r\n",
       "\r\n",
       "\r\n",
       "\r\n",
       "\r\n",
       "S\r\n",
       "}\r\n",
       "comp usage \"test x  \" as E2  <<(T,blue) decision node>> [[psysml:7d99bd45-3b62-4bbf-b126-0db5f71d3136 ]] {\r\n",
       "}\r\n",
       "comp usage \"<s>noname</s>  \" as E3  <<(T,blue) decision node>> [[psysml:6dee609b-d6ae-4161-97b9-077c5f3bd0c2 ]] {\r\n",
       "}\r\n",
       "comp usage \"A1  \" as E4  <<(T,blue) action>> [[psysml:f539a78a-befd-4456-a49f-f3788a07e7bd ]] {\r\n",
       "}\r\n",
       "comp usage \"A2  \" as E5  <<(T,blue) action>> [[psysml:451b6b51-1ae2-4b81-be73-8fe0566d61d5 ]] {\r\n",
       "}\r\n",
       "comp usage \"A3  \" as E6  <<(T,blue) action>> [[psysml:04e53eda-a597-4a9c-96a9-348d67cb9847 ]] {\r\n",
       "}\r\n",
       "E1 *- - E2 [[psysml:0a57c05e-4dd3-44ad-ba12-51402458bbf0 ]] \r\n",
       "E2 - -> E3 [[psysml:df8d299f-9da3-41cd-a9dd-6e3a0d30decc ]] \r\n",
       "E1 *- - E3 [[psysml:5efd2738-c984-493d-a46e-1379d8b8bf4b ]] \r\n",
       "E1 *- - E4 [[psysml:867ae522-9684-4034-9c56-5f70d3a76b09 ]] \r\n",
       "E1 *- - E5 [[psysml:e0e8ad72-4177-4702-a62e-bf2c3ff4a78a ]] \r\n",
       "E1 *- - E6 [[psysml:3e72a653-2f0b-4c94-896a-b70e2d6f389f ]] \r\n",
       "@enduml\r\n",
       "\n",
       "PlantUML version 1.2022.7(Mon Aug 22 17:01:30 UTC 2022)\n",
       "(EPL source distribution)\n",
       "Java Runtime: OpenJDK Runtime Environment\n",
       "JVM: OpenJDK 64-Bit Server VM\n",
       "Default Encoding: UTF-8\n",
       "Language: en\n",
       "Country: null\n",
       "--></g></svg>"
      ]
     },
     "execution_count": 45,
     "metadata": {},
     "output_type": "execute_result"
    }
   ],
   "source": [
    "%viz --style=\"TB\" --view=\"Tree\" \"DecisionTest\""
   ]
  },
  {
   "cell_type": "code",
   "execution_count": 46,
   "id": "4adad459",
   "metadata": {
    "execution": {
     "iopub.execute_input": "2024-12-16T03:28:03.810887Z",
     "iopub.status.busy": "2024-12-16T03:28:03.810661Z",
     "iopub.status.idle": "2024-12-16T03:28:03.823090Z",
     "shell.execute_reply": "2024-12-16T03:28:03.822903Z"
    }
   },
   "outputs": [
    {
     "data": {
      "image/svg+xml": [
       "<?xml version=\"1.0\" encoding=\"UTF-8\" standalone=\"no\"?><svg xmlns=\"http://www.w3.org/2000/svg\" xmlns:xlink=\"http://www.w3.org/1999/xlink\" contentStyleType=\"text/css\" height=\"10px\" preserveAspectRatio=\"none\" style=\"width:10px;height:10px;background:#FFFFFF;\" version=\"1.1\" viewBox=\"0 0 10 10\" width=\"10px\" zoomAndPan=\"magnify\"><defs/><g><!--MD5=[457d54036ad86991b1ebb71db2c9a3b1]\n",
       "@startuml\r\n",
       "skin sysmlbw\r\n",
       "skinparam monochrome true\r\n",
       "skinparam wrapWidth 300\r\n",
       "hide circle\r\n",
       "top to bottom direction\r\n",
       "\r\n",
       "@enduml\r\n",
       "\n",
       "PlantUML version 1.2022.7(Mon Aug 22 17:01:30 UTC 2022)\n",
       "(EPL source distribution)\n",
       "Java Runtime: OpenJDK Runtime Environment\n",
       "JVM: OpenJDK 64-Bit Server VM\n",
       "Default Encoding: UTF-8\n",
       "Language: en\n",
       "Country: null\n",
       "--></g></svg>"
      ]
     },
     "execution_count": 46,
     "metadata": {},
     "output_type": "execute_result"
    }
   ],
   "source": [
    "%viz --style=\"TB\" --view=\"State\" \"DecisionTest\""
   ]
  },
  {
   "cell_type": "code",
   "execution_count": 47,
   "id": "1526b7c3",
   "metadata": {
    "execution": {
     "iopub.execute_input": "2024-12-16T03:28:03.875456Z",
     "iopub.status.busy": "2024-12-16T03:28:03.875202Z",
     "iopub.status.idle": "2024-12-16T03:28:03.890998Z",
     "shell.execute_reply": "2024-12-16T03:28:03.890213Z"
    }
   },
   "outputs": [
    {
     "data": {
      "image/svg+xml": [
       "<?xml version=\"1.0\" encoding=\"UTF-8\" standalone=\"no\"?><svg xmlns=\"http://www.w3.org/2000/svg\" xmlns:xlink=\"http://www.w3.org/1999/xlink\" contentStyleType=\"text/css\" height=\"338px\" preserveAspectRatio=\"none\" style=\"width:329px;height:338px;background:#FFFFFF;\" version=\"1.1\" viewBox=\"0 0 329 338\" width=\"329px\" zoomAndPan=\"magnify\"><defs/><g><!--MD5=[fbc87193dbaf4d95561dea2c320d4a47]\n",
       "cluster E1--><g id=\"cluster_E1\"><a href=\"psysml:24509d73-250a-487a-bcd7-b59ee0863fbf\" target=\"_top\" title=\"psysml:24509d73-250a-487a-bcd7-b59ee0863fbf\" xlink:actuate=\"onRequest\" xlink:href=\"psysml:24509d73-250a-487a-bcd7-b59ee0863fbf\" xlink:show=\"new\" xlink:title=\"psysml:24509d73-250a-487a-bcd7-b59ee0863fbf\" xlink:type=\"simple\"><rect fill=\"#FFFFFF\" height=\"325\" id=\"E1\" style=\"stroke:#383838;stroke-width:1.5;\" width=\"315\" x=\"7\" y=\"7\"/><text fill=\"#000000\" font-family=\"sans-serif\" font-size=\"12\" font-style=\"italic\" lengthAdjust=\"spacing\" textLength=\"81\" x=\"124\" y=\"23.1387\">«action  def»</text><text fill=\"#000000\" font-family=\"sans-serif\" font-size=\"14\" lengthAdjust=\"spacing\" textLength=\"91\" x=\"119\" y=\"38.9639\">DecisionTest</text><line style=\"stroke:#383838;stroke-width:1.0;\" x1=\"7\" x2=\"322\" y1=\"47.2656\" y2=\"47.2656\"/></a></g><g id=\"elem_E2\"><polygon fill=\"#FFFFFF\" points=\"210,58,222,70,210,82,198,70,210,58\" style=\"stroke:#181818;stroke-width:0.5;\"/></g><g id=\"elem_E3\"><polygon fill=\"#FFFFFF\" points=\"35,125.5,47,137.5,35,149.5,23,137.5,35,125.5\" style=\"stroke:#181818;stroke-width:0.5;\"/></g><g><a href=\"psysml:f539a78a-befd-4456-a49f-f3788a07e7bd\" target=\"_top\" title=\"psysml:f539a78a-befd-4456-a49f-f3788a07e7bd\" xlink:actuate=\"onRequest\" xlink:href=\"psysml:f539a78a-befd-4456-a49f-f3788a07e7bd\" xlink:show=\"new\" xlink:title=\"psysml:f539a78a-befd-4456-a49f-f3788a07e7bd\" xlink:type=\"simple\"><rect fill=\"#FFFFFF\" height=\"45.2656\" id=\"E4\" rx=\"10\" ry=\"10\" style=\"stroke:#383838;stroke-width:1.5;\" width=\"60\" x=\"135\" y=\"193\"/><text fill=\"#000000\" font-family=\"sans-serif\" font-size=\"12\" font-style=\"italic\" lengthAdjust=\"spacing\" textLength=\"53\" x=\"138.5\" y=\"209.1387\">«action»</text><text fill=\"#000000\" font-family=\"sans-serif\" font-size=\"14\" lengthAdjust=\"spacing\" textLength=\"18\" x=\"156\" y=\"224.9639\">A1</text></a></g><g><a href=\"psysml:451b6b51-1ae2-4b81-be73-8fe0566d61d5\" target=\"_top\" title=\"psysml:451b6b51-1ae2-4b81-be73-8fe0566d61d5\" xlink:actuate=\"onRequest\" xlink:href=\"psysml:451b6b51-1ae2-4b81-be73-8fe0566d61d5\" xlink:show=\"new\" xlink:title=\"psysml:451b6b51-1ae2-4b81-be73-8fe0566d61d5\" xlink:type=\"simple\"><rect fill=\"#FFFFFF\" height=\"45.2656\" id=\"E5\" rx=\"10\" ry=\"10\" style=\"stroke:#383838;stroke-width:1.5;\" width=\"60\" x=\"135\" y=\"271\"/><text fill=\"#000000\" font-family=\"sans-serif\" font-size=\"12\" font-style=\"italic\" lengthAdjust=\"spacing\" textLength=\"53\" x=\"138.5\" y=\"287.1387\">«action»</text><text fill=\"#000000\" font-family=\"sans-serif\" font-size=\"14\" lengthAdjust=\"spacing\" textLength=\"18\" x=\"156\" y=\"302.9639\">A2</text></a></g><g><a href=\"psysml:04e53eda-a597-4a9c-96a9-348d67cb9847\" target=\"_top\" title=\"psysml:04e53eda-a597-4a9c-96a9-348d67cb9847\" xlink:actuate=\"onRequest\" xlink:href=\"psysml:04e53eda-a597-4a9c-96a9-348d67cb9847\" xlink:show=\"new\" xlink:title=\"psysml:04e53eda-a597-4a9c-96a9-348d67cb9847\" xlink:type=\"simple\"><rect fill=\"#FFFFFF\" height=\"45.2656\" id=\"E6\" rx=\"10\" ry=\"10\" style=\"stroke:#383838;stroke-width:1.5;\" width=\"60\" x=\"246\" y=\"115\"/><text fill=\"#000000\" font-family=\"sans-serif\" font-size=\"12\" font-style=\"italic\" lengthAdjust=\"spacing\" textLength=\"53\" x=\"249.5\" y=\"131.1387\">«action»</text><text fill=\"#000000\" font-family=\"sans-serif\" font-size=\"14\" lengthAdjust=\"spacing\" textLength=\"18\" x=\"267\" y=\"146.9639\">A3</text></a></g><!--MD5=[4d03bb2d0377dc85ccfab60ff574652b]\n",
       "link E2 to E4--><g id=\"link_E2_E4\"><a href=\"psysml:0e1095c8-d4f6-4449-8c10-0793e56d6528\" target=\"_top\" title=\"psysml:0e1095c8-d4f6-4449-8c10-0793e56d6528\" xlink:actuate=\"onRequest\" xlink:href=\"psysml:0e1095c8-d4f6-4449-8c10-0793e56d6528\" xlink:show=\"new\" xlink:title=\"psysml:0e1095c8-d4f6-4449-8c10-0793e56d6528\" xlink:type=\"simple\"><path d=\"M201.56,73.67 C186.72,78.87 156.35,91.93 144,115 C131.76,137.86 140.48,167.25 150.14,188.14 \" fill=\"none\" id=\"E2-to-E4\" style=\"stroke:#181818;stroke-width:1.0;\"/><polygon fill=\"#181818\" points=\"152.34,192.73,152.0687,182.8849,150.1842,188.2186,144.8505,186.3341,152.34,192.73\" style=\"stroke:#181818;stroke-width:1.0;\"/><text fill=\"#000000\" font-family=\"sans-serif\" font-size=\"13\" lengthAdjust=\"spacing\" textLength=\"55\" x=\"145\" y=\"142.0669\">[x == 1]</text></a></g><!--MD5=[dcad52bbbca2fe8adc741ce38b45dc12]\n",
       "link E2 to E5--><g id=\"link_E2_E5\"><a href=\"psysml:0bc69c08-a059-419e-b618-d454e4819a50\" target=\"_top\" title=\"psysml:0bc69c08-a059-419e-b618-d454e4819a50\" xlink:actuate=\"onRequest\" xlink:href=\"psysml:0bc69c08-a059-419e-b618-d454e4819a50\" xlink:show=\"new\" xlink:title=\"psysml:0bc69c08-a059-419e-b618-d454e4819a50\" xlink:type=\"simple\"><path d=\"M211.15,80.86 C215.56,119.01 230.89,255.21 226,263 C220.04,272.51 210.05,279.02 199.86,283.46 \" fill=\"none\" id=\"E2-to-E5\" style=\"stroke:#181818;stroke-width:1.0;\"/><polygon fill=\"#181818\" points=\"195.18,285.36,205.0232,285.6948,199.8154,283.4858,202.0244,278.2781,195.18,285.36\" style=\"stroke:#181818;stroke-width:1.0;\"/><text fill=\"#000000\" font-family=\"sans-serif\" font-size=\"13\" lengthAdjust=\"spacing\" textLength=\"44\" x=\"223\" y=\"181.0669\">[x &gt; 1]</text></a></g><!--MD5=[e3e28c1befcf002155aa15e1416b4315]\n",
       "link E2 to E6--><g id=\"link_E2_E6\"><a href=\"psysml:7bfaba1c-8598-44bd-a9fd-5f850f0b7fd7\" target=\"_top\" title=\"psysml:7bfaba1c-8598-44bd-a9fd-5f850f0b7fd7\" xlink:actuate=\"onRequest\" xlink:href=\"psysml:7bfaba1c-8598-44bd-a9fd-5f850f0b7fd7\" xlink:show=\"new\" xlink:title=\"psysml:7bfaba1c-8598-44bd-a9fd-5f850f0b7fd7\" xlink:type=\"simple\"><path d=\"M211.52,80.5 C213.19,88.35 216.54,99.41 223,107 C227.99,112.87 234.45,117.79 241.14,121.83 \" fill=\"none\" id=\"E2-to-E6\" style=\"stroke:#181818;stroke-width:1.0;\"/><polygon fill=\"#181818\" points=\"245.79,124.48,239.966,116.5377,241.4505,121.9962,235.992,123.4808,245.79,124.48\" style=\"stroke:#181818;stroke-width:1.0;\"/></a></g><!--MD5=[2351f337d6de0f557b50152ba70847b5]\n",
       "link E6 to E2--><g id=\"link_E6_E2\"><a href=\"psysml:31538477-4a34-40a9-aec8-5df805757767\" target=\"_top\" title=\"psysml:31538477-4a34-40a9-aec8-5df805757767\" xlink:actuate=\"onRequest\" xlink:href=\"psysml:31538477-4a34-40a9-aec8-5df805757767\" xlink:show=\"new\" xlink:title=\"psysml:31538477-4a34-40a9-aec8-5df805757767\" xlink:type=\"simple\"><path d=\"M254.23,114.89 C242.53,103.28 228.69,89.55 219.65,80.58 \" fill=\"none\" id=\"E6-to-E2\" style=\"stroke:#181818;stroke-width:1.0;\"/><polygon fill=\"#181818\" points=\"215.63,76.58,219.2026,85.7581,219.1798,80.1012,224.8366,80.0784,215.63,76.58\" style=\"stroke:#181818;stroke-width:1.0;\"/><text fill=\"#000000\" font-family=\"sans-serif\" font-size=\"13\" lengthAdjust=\"spacing\" textLength=\"44\" x=\"245\" y=\"103.0669\">[x &gt; 0]</text></a></g><!--MD5=[2720a5a1f2c3fca2055b230370638851]\n",
       "link E2 to E3--><g id=\"link_E2_E3\"><a href=\"psysml:df8d299f-9da3-41cd-a9dd-6e3a0d30decc\" target=\"_top\" title=\"psysml:df8d299f-9da3-41cd-a9dd-6e3a0d30decc\" xlink:actuate=\"onRequest\" xlink:href=\"psysml:df8d299f-9da3-41cd-a9dd-6e3a0d30decc\" xlink:show=\"new\" xlink:title=\"psysml:df8d299f-9da3-41cd-a9dd-6e3a0d30decc\" xlink:type=\"simple\"><path d=\"M199.51,71.63 C180.6,73.06 139.84,77.44 108,90 C83.89,99.51 59.12,117.32 45.54,127.92 \" fill=\"none\" id=\"E2-to-E3\" style=\"stroke:#181818;stroke-width:1.0;\"/><polygon fill=\"#181818\" points=\"41.37,131.22,50.9131,128.785,45.2951,128.1227,45.9574,122.5048,41.37,131.22\" style=\"stroke:#181818;stroke-width:1.0;\"/></a></g><!--MD5=[af87c684e3b0d8be13c1a698a818ef1e]\n",
       "link E3 to E4--><g id=\"link_E3_E4\"><a href=\"psysml:131b15c1-7866-4964-88c1-b03f264417a9\" target=\"_top\" title=\"psysml:131b15c1-7866-4964-88c1-b03f264417a9\" xlink:actuate=\"onRequest\" xlink:href=\"psysml:131b15c1-7866-4964-88c1-b03f264417a9\" xlink:show=\"new\" xlink:title=\"psysml:131b15c1-7866-4964-88c1-b03f264417a9\" xlink:type=\"simple\"><path d=\"M40.06,144.83 C48.28,154.73 65.5,173.9 84,185 C93.64,190.79 97.4,189.24 108,193 C115.13,195.53 122.72,198.32 129.96,201.04 \" fill=\"none\" id=\"E3-to-E4\" style=\"stroke:#181818;stroke-width:1.0;\"/><polygon fill=\"#181818\" points=\"134.91,202.9,127.8875,195.9946,130.2284,201.1444,125.0785,203.4852,134.91,202.9\" style=\"stroke:#181818;stroke-width:1.0;\"/><text fill=\"#000000\" font-family=\"sans-serif\" font-size=\"13\" lengthAdjust=\"spacing\" textLength=\"36\" x=\"85\" y=\"181.0669\">[true]</text></a></g><!--MD5=[0188b64bb0ae78505a997a81836e11e9]\n",
       "link E3 to E5--><g id=\"link_E3_E5\"><a href=\"psysml:825f54b9-3c70-45c0-b332-e5b9a5c4b905\" target=\"_top\" title=\"psysml:825f54b9-3c70-45c0-b332-e5b9a5c4b905\" xlink:actuate=\"onRequest\" xlink:href=\"psysml:825f54b9-3c70-45c0-b332-e5b9a5c4b905\" xlink:show=\"new\" xlink:title=\"psysml:825f54b9-3c70-45c0-b332-e5b9a5c4b905\" xlink:type=\"simple\"><path d=\"M36.78,147.75 C40.81,166.63 52.2,210.17 76,238 C90.65,255.14 112.09,268.49 130.26,277.69 \" fill=\"none\" id=\"E3-to-E5\" style=\"stroke:#181818;stroke-width:1.0;\"/><polygon fill=\"#181818\" points=\"134.8,279.94,128.5293,272.3454,130.325,277.7097,124.9607,279.5054,134.8,279.94\" style=\"stroke:#181818;stroke-width:1.0;\"/><text fill=\"#000000\" font-family=\"sans-serif\" font-size=\"13\" lengthAdjust=\"spacing\" textLength=\"40\" x=\"77\" y=\"220.0669\">[false]</text></a></g><!--MD5=[1b7591eae5389033d8d09a9d6721a717]\n",
       "link E4 to E5--><g id=\"link_E4_E5\"><a href=\"psysml:b3779ea1-0b8c-4465-ae00-48dbba13ac92\" target=\"_top\" title=\"psysml:b3779ea1-0b8c-4465-ae00-48dbba13ac92\" xlink:actuate=\"onRequest\" xlink:href=\"psysml:b3779ea1-0b8c-4465-ae00-48dbba13ac92\" xlink:show=\"new\" xlink:title=\"psysml:b3779ea1-0b8c-4465-ae00-48dbba13ac92\" xlink:type=\"simple\"><path d=\"M165,238.08 C165,246.66 165,256.63 165,265.67 \" fill=\"none\" id=\"E4-to-E5\" style=\"stroke:#181818;stroke-width:1.0;\"/><polygon fill=\"#181818\" points=\"165,270.87,169,261.87,165,265.87,161,261.87,165,270.87\" style=\"stroke:#181818;stroke-width:1.0;\"/><text fill=\"#000000\" font-family=\"sans-serif\" font-size=\"13\" lengthAdjust=\"spacing\" textLength=\"55\" x=\"166\" y=\"259.0669\">[x == 0]</text></a></g><!--MD5=[146085bccc71b2e963363ff56e905c7b]\n",
       "@startuml\r\n",
       "skin sysmlbw\r\n",
       "skinparam monochrome true\r\n",
       "skinparam wrapWidth 300\r\n",
       "hide circle\r\n",
       "top to bottom direction\r\n",
       "skinparam ranksep 10\r\n",
       "skinparam rectangle {\r\n",
       " backgroundColor<<block>> LightGreen\r\n",
       "}\r\n",
       "\r\n",
       "rec def \"DecisionTest\" as E1  <<(T,blue) action  def>> [[psysml:24509d73-250a-487a-bcd7-b59ee0863fbf ]] {\r\n",
       "choice \"test x\" as E2  [[psysml:7d99bd45-3b62-4bbf-b126-0db5f71d3136 ]] \r\n",
       "choice \"<s>noname</s>\" as E3  [[psysml:6dee609b-d6ae-4161-97b9-077c5f3bd0c2 ]] \r\n",
       "rec usage \"A1\" as E4  <<(T,blue) action>> [[psysml:f539a78a-befd-4456-a49f-f3788a07e7bd ]] {\r\n",
       "}\r\n",
       "\r\n",
       "rec usage \"A2\" as E5  <<(T,blue) action>> [[psysml:451b6b51-1ae2-4b81-be73-8fe0566d61d5 ]] {\r\n",
       "}\r\n",
       "\r\n",
       "rec usage \"A3\" as E6  <<(T,blue) action>> [[psysml:04e53eda-a597-4a9c-96a9-348d67cb9847 ]] {\r\n",
       "}\r\n",
       "\r\n",
       "}\r\n",
       "\r\n",
       "E2  - -> E4 [[psysml:0e1095c8-d4f6-4449-8c10-0793e56d6528 ]] : [x == 1]\r\n",
       "E2  - -> E5 [[psysml:0bc69c08-a059-419e-b618-d454e4819a50 ]] : [x > 1]\r\n",
       "E2  - -> E6 [[psysml:7bfaba1c-8598-44bd-a9fd-5f850f0b7fd7 ]] \r\n",
       "E2 - -> E3 [[psysml:df8d299f-9da3-41cd-a9dd-6e3a0d30decc ]] \r\n",
       "E3  - -> E4 [[psysml:131b15c1-7866-4964-88c1-b03f264417a9 ]] : [true]\r\n",
       "E3  - -> E5 [[psysml:825f54b9-3c70-45c0-b332-e5b9a5c4b905 ]] : [false]\r\n",
       "E4  - -> E5 [[psysml:b3779ea1-0b8c-4465-ae00-48dbba13ac92 ]] : [x == 0]\r\n",
       "E6  - -> E2 [[psysml:31538477-4a34-40a9-aec8-5df805757767 ]] : [x > 0]\r\n",
       "@enduml\r\n",
       "\n",
       "PlantUML version 1.2022.7(Mon Aug 22 17:01:30 UTC 2022)\n",
       "(EPL source distribution)\n",
       "Java Runtime: OpenJDK Runtime Environment\n",
       "JVM: OpenJDK 64-Bit Server VM\n",
       "Default Encoding: UTF-8\n",
       "Language: en\n",
       "Country: null\n",
       "--></g></svg>"
      ]
     },
     "execution_count": 47,
     "metadata": {},
     "output_type": "execute_result"
    }
   ],
   "source": [
    "%viz --style=\"TB\" --view=\"Interconnection\" \"DecisionTest\""
   ]
  },
  {
   "cell_type": "code",
   "execution_count": 48,
   "id": "de93c612",
   "metadata": {
    "execution": {
     "iopub.execute_input": "2024-12-16T03:28:03.947010Z",
     "iopub.status.busy": "2024-12-16T03:28:03.946769Z",
     "iopub.status.idle": "2024-12-16T03:28:03.968588Z",
     "shell.execute_reply": "2024-12-16T03:28:03.968411Z"
    }
   },
   "outputs": [
    {
     "data": {
      "image/svg+xml": [
       "<?xml version=\"1.0\" encoding=\"UTF-8\" standalone=\"no\"?><svg xmlns=\"http://www.w3.org/2000/svg\" xmlns:xlink=\"http://www.w3.org/1999/xlink\" contentStyleType=\"text/css\" height=\"338px\" preserveAspectRatio=\"none\" style=\"width:329px;height:338px;background:#FFFFFF;\" version=\"1.1\" viewBox=\"0 0 329 338\" width=\"329px\" zoomAndPan=\"magnify\"><defs/><g><!--MD5=[fbc87193dbaf4d95561dea2c320d4a47]\n",
       "cluster E1--><g id=\"cluster_E1\"><a href=\"psysml:24509d73-250a-487a-bcd7-b59ee0863fbf\" target=\"_top\" title=\"psysml:24509d73-250a-487a-bcd7-b59ee0863fbf\" xlink:actuate=\"onRequest\" xlink:href=\"psysml:24509d73-250a-487a-bcd7-b59ee0863fbf\" xlink:show=\"new\" xlink:title=\"psysml:24509d73-250a-487a-bcd7-b59ee0863fbf\" xlink:type=\"simple\"><rect fill=\"#FFFFFF\" height=\"325\" id=\"E1\" style=\"stroke:#383838;stroke-width:1.5;\" width=\"315\" x=\"7\" y=\"7\"/><text fill=\"#000000\" font-family=\"sans-serif\" font-size=\"12\" font-style=\"italic\" lengthAdjust=\"spacing\" textLength=\"81\" x=\"124\" y=\"23.1387\">«action  def»</text><text fill=\"#000000\" font-family=\"sans-serif\" font-size=\"14\" lengthAdjust=\"spacing\" textLength=\"91\" x=\"119\" y=\"38.9639\">DecisionTest</text><line style=\"stroke:#383838;stroke-width:1.0;\" x1=\"7\" x2=\"322\" y1=\"47.2656\" y2=\"47.2656\"/></a></g><g id=\"elem_E2\"><polygon fill=\"#FFFFFF\" points=\"210,58,222,70,210,82,198,70,210,58\" style=\"stroke:#181818;stroke-width:0.5;\"/></g><g id=\"elem_E3\"><polygon fill=\"#FFFFFF\" points=\"35,125.5,47,137.5,35,149.5,23,137.5,35,125.5\" style=\"stroke:#181818;stroke-width:0.5;\"/></g><g><a href=\"psysml:f539a78a-befd-4456-a49f-f3788a07e7bd\" target=\"_top\" title=\"psysml:f539a78a-befd-4456-a49f-f3788a07e7bd\" xlink:actuate=\"onRequest\" xlink:href=\"psysml:f539a78a-befd-4456-a49f-f3788a07e7bd\" xlink:show=\"new\" xlink:title=\"psysml:f539a78a-befd-4456-a49f-f3788a07e7bd\" xlink:type=\"simple\"><rect fill=\"#FFFFFF\" height=\"45.2656\" id=\"E4\" rx=\"10\" ry=\"10\" style=\"stroke:#383838;stroke-width:1.5;\" width=\"60\" x=\"135\" y=\"193\"/><text fill=\"#000000\" font-family=\"sans-serif\" font-size=\"12\" font-style=\"italic\" lengthAdjust=\"spacing\" textLength=\"53\" x=\"138.5\" y=\"209.1387\">«action»</text><text fill=\"#000000\" font-family=\"sans-serif\" font-size=\"14\" lengthAdjust=\"spacing\" textLength=\"18\" x=\"156\" y=\"224.9639\">A1</text></a></g><g><a href=\"psysml:451b6b51-1ae2-4b81-be73-8fe0566d61d5\" target=\"_top\" title=\"psysml:451b6b51-1ae2-4b81-be73-8fe0566d61d5\" xlink:actuate=\"onRequest\" xlink:href=\"psysml:451b6b51-1ae2-4b81-be73-8fe0566d61d5\" xlink:show=\"new\" xlink:title=\"psysml:451b6b51-1ae2-4b81-be73-8fe0566d61d5\" xlink:type=\"simple\"><rect fill=\"#FFFFFF\" height=\"45.2656\" id=\"E5\" rx=\"10\" ry=\"10\" style=\"stroke:#383838;stroke-width:1.5;\" width=\"60\" x=\"135\" y=\"271\"/><text fill=\"#000000\" font-family=\"sans-serif\" font-size=\"12\" font-style=\"italic\" lengthAdjust=\"spacing\" textLength=\"53\" x=\"138.5\" y=\"287.1387\">«action»</text><text fill=\"#000000\" font-family=\"sans-serif\" font-size=\"14\" lengthAdjust=\"spacing\" textLength=\"18\" x=\"156\" y=\"302.9639\">A2</text></a></g><g><a href=\"psysml:04e53eda-a597-4a9c-96a9-348d67cb9847\" target=\"_top\" title=\"psysml:04e53eda-a597-4a9c-96a9-348d67cb9847\" xlink:actuate=\"onRequest\" xlink:href=\"psysml:04e53eda-a597-4a9c-96a9-348d67cb9847\" xlink:show=\"new\" xlink:title=\"psysml:04e53eda-a597-4a9c-96a9-348d67cb9847\" xlink:type=\"simple\"><rect fill=\"#FFFFFF\" height=\"45.2656\" id=\"E6\" rx=\"10\" ry=\"10\" style=\"stroke:#383838;stroke-width:1.5;\" width=\"60\" x=\"246\" y=\"115\"/><text fill=\"#000000\" font-family=\"sans-serif\" font-size=\"12\" font-style=\"italic\" lengthAdjust=\"spacing\" textLength=\"53\" x=\"249.5\" y=\"131.1387\">«action»</text><text fill=\"#000000\" font-family=\"sans-serif\" font-size=\"14\" lengthAdjust=\"spacing\" textLength=\"18\" x=\"267\" y=\"146.9639\">A3</text></a></g><!--MD5=[4d03bb2d0377dc85ccfab60ff574652b]\n",
       "link E2 to E4--><g id=\"link_E2_E4\"><a href=\"psysml:0e1095c8-d4f6-4449-8c10-0793e56d6528\" target=\"_top\" title=\"psysml:0e1095c8-d4f6-4449-8c10-0793e56d6528\" xlink:actuate=\"onRequest\" xlink:href=\"psysml:0e1095c8-d4f6-4449-8c10-0793e56d6528\" xlink:show=\"new\" xlink:title=\"psysml:0e1095c8-d4f6-4449-8c10-0793e56d6528\" xlink:type=\"simple\"><path d=\"M201.56,73.67 C186.72,78.87 156.35,91.93 144,115 C131.76,137.86 140.48,167.25 150.14,188.14 \" fill=\"none\" id=\"E2-to-E4\" style=\"stroke:#181818;stroke-width:1.0;stroke-dasharray:7.0,7.0;\"/><polygon fill=\"#181818\" points=\"152.34,192.73,152.0687,182.8849,150.1842,188.2186,144.8505,186.3341,152.34,192.73\" style=\"stroke:#181818;stroke-width:1.0;\"/><text fill=\"#000000\" font-family=\"sans-serif\" font-size=\"13\" lengthAdjust=\"spacing\" textLength=\"55\" x=\"145\" y=\"142.0669\">[x == 1]</text></a></g><!--MD5=[dcad52bbbca2fe8adc741ce38b45dc12]\n",
       "link E2 to E5--><g id=\"link_E2_E5\"><a href=\"psysml:0bc69c08-a059-419e-b618-d454e4819a50\" target=\"_top\" title=\"psysml:0bc69c08-a059-419e-b618-d454e4819a50\" xlink:actuate=\"onRequest\" xlink:href=\"psysml:0bc69c08-a059-419e-b618-d454e4819a50\" xlink:show=\"new\" xlink:title=\"psysml:0bc69c08-a059-419e-b618-d454e4819a50\" xlink:type=\"simple\"><path d=\"M211.15,80.86 C215.56,119.01 230.89,255.21 226,263 C220.04,272.51 210.05,279.02 199.86,283.46 \" fill=\"none\" id=\"E2-to-E5\" style=\"stroke:#181818;stroke-width:1.0;stroke-dasharray:7.0,7.0;\"/><polygon fill=\"#181818\" points=\"195.18,285.36,205.0232,285.6948,199.8154,283.4858,202.0244,278.2781,195.18,285.36\" style=\"stroke:#181818;stroke-width:1.0;\"/><text fill=\"#000000\" font-family=\"sans-serif\" font-size=\"13\" lengthAdjust=\"spacing\" textLength=\"44\" x=\"223\" y=\"181.0669\">[x &gt; 1]</text></a></g><!--MD5=[e3e28c1befcf002155aa15e1416b4315]\n",
       "link E2 to E6--><g id=\"link_E2_E6\"><a href=\"psysml:7bfaba1c-8598-44bd-a9fd-5f850f0b7fd7\" target=\"_top\" title=\"psysml:7bfaba1c-8598-44bd-a9fd-5f850f0b7fd7\" xlink:actuate=\"onRequest\" xlink:href=\"psysml:7bfaba1c-8598-44bd-a9fd-5f850f0b7fd7\" xlink:show=\"new\" xlink:title=\"psysml:7bfaba1c-8598-44bd-a9fd-5f850f0b7fd7\" xlink:type=\"simple\"><path d=\"M211.52,80.5 C213.19,88.35 216.54,99.41 223,107 C227.99,112.87 234.45,117.79 241.14,121.83 \" fill=\"none\" id=\"E2-to-E6\" style=\"stroke:#181818;stroke-width:1.0;stroke-dasharray:7.0,7.0;\"/><polygon fill=\"#181818\" points=\"245.79,124.48,239.966,116.5377,241.4505,121.9962,235.992,123.4808,245.79,124.48\" style=\"stroke:#181818;stroke-width:1.0;\"/></a></g><!--MD5=[2351f337d6de0f557b50152ba70847b5]\n",
       "link E6 to E2--><g id=\"link_E6_E2\"><a href=\"psysml:31538477-4a34-40a9-aec8-5df805757767\" target=\"_top\" title=\"psysml:31538477-4a34-40a9-aec8-5df805757767\" xlink:actuate=\"onRequest\" xlink:href=\"psysml:31538477-4a34-40a9-aec8-5df805757767\" xlink:show=\"new\" xlink:title=\"psysml:31538477-4a34-40a9-aec8-5df805757767\" xlink:type=\"simple\"><path d=\"M254.23,114.89 C242.53,103.28 228.69,89.55 219.65,80.58 \" fill=\"none\" id=\"E6-to-E2\" style=\"stroke:#181818;stroke-width:1.0;stroke-dasharray:7.0,7.0;\"/><polygon fill=\"#181818\" points=\"215.63,76.58,219.2026,85.7581,219.1798,80.1012,224.8366,80.0784,215.63,76.58\" style=\"stroke:#181818;stroke-width:1.0;\"/><text fill=\"#000000\" font-family=\"sans-serif\" font-size=\"13\" lengthAdjust=\"spacing\" textLength=\"44\" x=\"245\" y=\"103.0669\">[x &gt; 0]</text></a></g><!--MD5=[2720a5a1f2c3fca2055b230370638851]\n",
       "link E2 to E3--><g id=\"link_E2_E3\"><a href=\"psysml:df8d299f-9da3-41cd-a9dd-6e3a0d30decc\" target=\"_top\" title=\"psysml:df8d299f-9da3-41cd-a9dd-6e3a0d30decc\" xlink:actuate=\"onRequest\" xlink:href=\"psysml:df8d299f-9da3-41cd-a9dd-6e3a0d30decc\" xlink:show=\"new\" xlink:title=\"psysml:df8d299f-9da3-41cd-a9dd-6e3a0d30decc\" xlink:type=\"simple\"><path d=\"M199.51,71.63 C180.6,73.06 139.84,77.44 108,90 C83.89,99.51 59.12,117.32 45.54,127.92 \" fill=\"none\" id=\"E2-to-E3\" style=\"stroke:#181818;stroke-width:1.0;stroke-dasharray:7.0,7.0;\"/><polygon fill=\"#181818\" points=\"41.37,131.22,50.9131,128.785,45.2951,128.1227,45.9574,122.5048,41.37,131.22\" style=\"stroke:#181818;stroke-width:1.0;\"/></a></g><!--MD5=[af87c684e3b0d8be13c1a698a818ef1e]\n",
       "link E3 to E4--><g id=\"link_E3_E4\"><a href=\"psysml:131b15c1-7866-4964-88c1-b03f264417a9\" target=\"_top\" title=\"psysml:131b15c1-7866-4964-88c1-b03f264417a9\" xlink:actuate=\"onRequest\" xlink:href=\"psysml:131b15c1-7866-4964-88c1-b03f264417a9\" xlink:show=\"new\" xlink:title=\"psysml:131b15c1-7866-4964-88c1-b03f264417a9\" xlink:type=\"simple\"><path d=\"M40.06,144.83 C48.28,154.73 65.5,173.9 84,185 C93.64,190.79 97.4,189.24 108,193 C115.13,195.53 122.72,198.32 129.96,201.04 \" fill=\"none\" id=\"E3-to-E4\" style=\"stroke:#181818;stroke-width:1.0;stroke-dasharray:7.0,7.0;\"/><polygon fill=\"#181818\" points=\"134.91,202.9,127.8875,195.9946,130.2284,201.1444,125.0785,203.4852,134.91,202.9\" style=\"stroke:#181818;stroke-width:1.0;\"/><text fill=\"#000000\" font-family=\"sans-serif\" font-size=\"13\" lengthAdjust=\"spacing\" textLength=\"36\" x=\"85\" y=\"181.0669\">[true]</text></a></g><!--MD5=[0188b64bb0ae78505a997a81836e11e9]\n",
       "link E3 to E5--><g id=\"link_E3_E5\"><a href=\"psysml:825f54b9-3c70-45c0-b332-e5b9a5c4b905\" target=\"_top\" title=\"psysml:825f54b9-3c70-45c0-b332-e5b9a5c4b905\" xlink:actuate=\"onRequest\" xlink:href=\"psysml:825f54b9-3c70-45c0-b332-e5b9a5c4b905\" xlink:show=\"new\" xlink:title=\"psysml:825f54b9-3c70-45c0-b332-e5b9a5c4b905\" xlink:type=\"simple\"><path d=\"M36.78,147.75 C40.81,166.63 52.2,210.17 76,238 C90.65,255.14 112.09,268.49 130.26,277.69 \" fill=\"none\" id=\"E3-to-E5\" style=\"stroke:#181818;stroke-width:1.0;stroke-dasharray:7.0,7.0;\"/><polygon fill=\"#181818\" points=\"134.8,279.94,128.5293,272.3454,130.325,277.7097,124.9607,279.5054,134.8,279.94\" style=\"stroke:#181818;stroke-width:1.0;\"/><text fill=\"#000000\" font-family=\"sans-serif\" font-size=\"13\" lengthAdjust=\"spacing\" textLength=\"40\" x=\"77\" y=\"220.0669\">[false]</text></a></g><!--MD5=[1b7591eae5389033d8d09a9d6721a717]\n",
       "link E4 to E5--><g id=\"link_E4_E5\"><a href=\"psysml:b3779ea1-0b8c-4465-ae00-48dbba13ac92\" target=\"_top\" title=\"psysml:b3779ea1-0b8c-4465-ae00-48dbba13ac92\" xlink:actuate=\"onRequest\" xlink:href=\"psysml:b3779ea1-0b8c-4465-ae00-48dbba13ac92\" xlink:show=\"new\" xlink:title=\"psysml:b3779ea1-0b8c-4465-ae00-48dbba13ac92\" xlink:type=\"simple\"><path d=\"M165,238.08 C165,246.66 165,256.63 165,265.67 \" fill=\"none\" id=\"E4-to-E5\" style=\"stroke:#181818;stroke-width:1.0;stroke-dasharray:7.0,7.0;\"/><polygon fill=\"#181818\" points=\"165,270.87,169,261.87,165,265.87,161,261.87,165,270.87\" style=\"stroke:#181818;stroke-width:1.0;\"/><text fill=\"#000000\" font-family=\"sans-serif\" font-size=\"13\" lengthAdjust=\"spacing\" textLength=\"55\" x=\"166\" y=\"259.0669\">[x == 0]</text></a></g><!--MD5=[b2b977e862626c3b44992ede33ef204b]\n",
       "@startuml\r\n",
       "skin sysmlbw\r\n",
       "skinparam monochrome true\r\n",
       "skinparam wrapWidth 300\r\n",
       "hide circle\r\n",
       "top to bottom direction\r\n",
       "skinparam ranksep 8\r\n",
       "\r\n",
       "rec def \"DecisionTest\" as E1  <<(T,blue) action  def>> [[psysml:24509d73-250a-487a-bcd7-b59ee0863fbf ]] {\r\n",
       "choice \"test x\" as E2  [[psysml:7d99bd45-3b62-4bbf-b126-0db5f71d3136 ]] \r\n",
       "choice \"<s>noname</s>\" as E3  [[psysml:6dee609b-d6ae-4161-97b9-077c5f3bd0c2 ]] \r\n",
       "rec usage \"A1\" as E4  <<(T,blue) action>> [[psysml:f539a78a-befd-4456-a49f-f3788a07e7bd ]] {\r\n",
       "}\r\n",
       "\r\n",
       "rec usage \"A2\" as E5  <<(T,blue) action>> [[psysml:451b6b51-1ae2-4b81-be73-8fe0566d61d5 ]] {\r\n",
       "}\r\n",
       "\r\n",
       "rec usage \"A3\" as E6  <<(T,blue) action>> [[psysml:04e53eda-a597-4a9c-96a9-348d67cb9847 ]] {\r\n",
       "}\r\n",
       "\r\n",
       "}\r\n",
       "\r\n",
       "E2 ..> E4 [[psysml:0e1095c8-d4f6-4449-8c10-0793e56d6528 ]] : [x == 1]\r\n",
       "E2 ..> E5 [[psysml:0bc69c08-a059-419e-b618-d454e4819a50 ]] : [x > 1]\r\n",
       "E2 ..> E6 [[psysml:7bfaba1c-8598-44bd-a9fd-5f850f0b7fd7 ]] \r\n",
       "E2 ..> E3 [[psysml:df8d299f-9da3-41cd-a9dd-6e3a0d30decc ]] \r\n",
       "E3 ..> E4 [[psysml:131b15c1-7866-4964-88c1-b03f264417a9 ]] : [true]\r\n",
       "E3 ..> E5 [[psysml:825f54b9-3c70-45c0-b332-e5b9a5c4b905 ]] : [false]\r\n",
       "E4 ..> E5 [[psysml:b3779ea1-0b8c-4465-ae00-48dbba13ac92 ]] : [x == 0]\r\n",
       "E6 ..> E2 [[psysml:31538477-4a34-40a9-aec8-5df805757767 ]] : [x > 0]\r\n",
       "@enduml\r\n",
       "\n",
       "PlantUML version 1.2022.7(Mon Aug 22 17:01:30 UTC 2022)\n",
       "(EPL source distribution)\n",
       "Java Runtime: OpenJDK Runtime Environment\n",
       "JVM: OpenJDK 64-Bit Server VM\n",
       "Default Encoding: UTF-8\n",
       "Language: en\n",
       "Country: null\n",
       "--></g></svg>"
      ]
     },
     "execution_count": 48,
     "metadata": {},
     "output_type": "execute_result"
    }
   ],
   "source": [
    "%viz --style=\"TB\" --view=\"Action\" \"DecisionTest\""
   ]
  },
  {
   "cell_type": "code",
   "execution_count": 49,
   "id": "5351b3c8",
   "metadata": {
    "execution": {
     "iopub.execute_input": "2024-12-16T03:28:04.021093Z",
     "iopub.status.busy": "2024-12-16T03:28:04.020859Z",
     "iopub.status.idle": "2024-12-16T03:28:04.038612Z",
     "shell.execute_reply": "2024-12-16T03:28:04.038423Z"
    }
   },
   "outputs": [
    {
     "data": {
      "image/svg+xml": [
       "<?xml version=\"1.0\" encoding=\"UTF-8\" standalone=\"no\"?><svg xmlns=\"http://www.w3.org/2000/svg\" xmlns:xlink=\"http://www.w3.org/1999/xlink\" contentStyleType=\"text/css\" height=\"10px\" preserveAspectRatio=\"none\" style=\"width:10px;height:10px;background:#FFFFFF;\" version=\"1.1\" viewBox=\"0 0 10 10\" width=\"10px\" zoomAndPan=\"magnify\"><defs/><g><!--MD5=[228a58293b408a2cee091b1559da5a28]\n",
       "@startuml\r\n",
       "skin sysmlbw\r\n",
       "skinparam monochrome true\r\n",
       "skinparam wrapWidth 300\r\n",
       "hide circle\r\n",
       "top to bottom direction\r\n",
       "skinparam roundcorner 20\r\n",
       "skinparam BoxPadding 20\r\n",
       "skinparam SequenceBoxBackgroundColor #white\r\n",
       "skinparam style strictuml\r\n",
       "skinparam maxMessageSize 100\r\n",
       "\r\n",
       "@enduml\r\n",
       "\n",
       "PlantUML version 1.2022.7(Mon Aug 22 17:01:30 UTC 2022)\n",
       "(EPL source distribution)\n",
       "Java Runtime: OpenJDK Runtime Environment\n",
       "JVM: OpenJDK 64-Bit Server VM\n",
       "Default Encoding: UTF-8\n",
       "Language: en\n",
       "Country: null\n",
       "--></g></svg>"
      ]
     },
     "execution_count": 49,
     "metadata": {},
     "output_type": "execute_result"
    }
   ],
   "source": [
    "%viz --style=\"TB\" --view=\"Sequence\" \"DecisionTest\""
   ]
  },
  {
   "cell_type": "code",
   "execution_count": 50,
   "id": "19dc903b",
   "metadata": {
    "execution": {
     "iopub.execute_input": "2024-12-16T03:28:04.092872Z",
     "iopub.status.busy": "2024-12-16T03:28:04.092633Z",
     "iopub.status.idle": "2024-12-16T03:28:04.111573Z",
     "shell.execute_reply": "2024-12-16T03:28:04.110789Z"
    }
   },
   "outputs": [
    {
     "data": {
      "image/svg+xml": [
       "<?xml version=\"1.0\" encoding=\"UTF-8\" standalone=\"no\"?><svg xmlns=\"http://www.w3.org/2000/svg\" xmlns:xlink=\"http://www.w3.org/1999/xlink\" contentStyleType=\"text/css\" height=\"470px\" preserveAspectRatio=\"none\" style=\"width:329px;height:470px;background:#FFFFFF;\" version=\"1.1\" viewBox=\"0 0 329 470\" width=\"329px\" zoomAndPan=\"magnify\"><defs/><g><!--MD5=[fbc87193dbaf4d95561dea2c320d4a47]\n",
       "cluster E1--><g id=\"cluster_E1\"><a href=\"psysml:24509d73-250a-487a-bcd7-b59ee0863fbf\" target=\"_top\" title=\"psysml:24509d73-250a-487a-bcd7-b59ee0863fbf\" xlink:actuate=\"onRequest\" xlink:href=\"psysml:24509d73-250a-487a-bcd7-b59ee0863fbf\" xlink:show=\"new\" xlink:title=\"psysml:24509d73-250a-487a-bcd7-b59ee0863fbf\" xlink:type=\"simple\"><rect fill=\"#FFFFFF\" height=\"457\" id=\"E1\" style=\"stroke:#383838;stroke-width:1.5;\" width=\"315\" x=\"7\" y=\"7\"/><text fill=\"#000000\" font-family=\"sans-serif\" font-size=\"12\" font-style=\"italic\" lengthAdjust=\"spacing\" textLength=\"81\" x=\"124\" y=\"23.1387\">«action  def»</text><text fill=\"#000000\" font-family=\"sans-serif\" font-size=\"14\" lengthAdjust=\"spacing\" textLength=\"91\" x=\"119\" y=\"38.9639\">DecisionTest</text><line style=\"stroke:#383838;stroke-width:1.0;\" x1=\"7\" x2=\"322\" y1=\"47.2656\" y2=\"47.2656\"/></a></g><g id=\"elem_E2\"><polygon fill=\"#FFFFFF\" points=\"210,58,222,70,210,82,198,70,210,58\" style=\"stroke:#181818;stroke-width:0.5;\"/></g><g id=\"elem_E3\"><polygon fill=\"#FFFFFF\" points=\"35,169.5,47,181.5,35,193.5,23,181.5,35,169.5\" style=\"stroke:#181818;stroke-width:0.5;\"/></g><g><a href=\"psysml:f539a78a-befd-4456-a49f-f3788a07e7bd\" target=\"_top\" title=\"psysml:f539a78a-befd-4456-a49f-f3788a07e7bd\" xlink:actuate=\"onRequest\" xlink:href=\"psysml:f539a78a-befd-4456-a49f-f3788a07e7bd\" xlink:show=\"new\" xlink:title=\"psysml:f539a78a-befd-4456-a49f-f3788a07e7bd\" xlink:type=\"simple\"><rect fill=\"#FFFFFF\" height=\"45.2656\" id=\"E4\" rx=\"10\" ry=\"10\" style=\"stroke:#383838;stroke-width:1.5;\" width=\"60\" x=\"135\" y=\"281\"/><text fill=\"#000000\" font-family=\"sans-serif\" font-size=\"12\" font-style=\"italic\" lengthAdjust=\"spacing\" textLength=\"53\" x=\"138.5\" y=\"297.1387\">«action»</text><text fill=\"#000000\" font-family=\"sans-serif\" font-size=\"14\" lengthAdjust=\"spacing\" textLength=\"18\" x=\"156\" y=\"312.9639\">A1</text></a></g><g><a href=\"psysml:451b6b51-1ae2-4b81-be73-8fe0566d61d5\" target=\"_top\" title=\"psysml:451b6b51-1ae2-4b81-be73-8fe0566d61d5\" xlink:actuate=\"onRequest\" xlink:href=\"psysml:451b6b51-1ae2-4b81-be73-8fe0566d61d5\" xlink:show=\"new\" xlink:title=\"psysml:451b6b51-1ae2-4b81-be73-8fe0566d61d5\" xlink:type=\"simple\"><rect fill=\"#FFFFFF\" height=\"45.2656\" id=\"E5\" rx=\"10\" ry=\"10\" style=\"stroke:#383838;stroke-width:1.5;\" width=\"60\" x=\"135\" y=\"403\"/><text fill=\"#000000\" font-family=\"sans-serif\" font-size=\"12\" font-style=\"italic\" lengthAdjust=\"spacing\" textLength=\"53\" x=\"138.5\" y=\"419.1387\">«action»</text><text fill=\"#000000\" font-family=\"sans-serif\" font-size=\"14\" lengthAdjust=\"spacing\" textLength=\"18\" x=\"156\" y=\"434.9639\">A2</text></a></g><g><a href=\"psysml:04e53eda-a597-4a9c-96a9-348d67cb9847\" target=\"_top\" title=\"psysml:04e53eda-a597-4a9c-96a9-348d67cb9847\" xlink:actuate=\"onRequest\" xlink:href=\"psysml:04e53eda-a597-4a9c-96a9-348d67cb9847\" xlink:show=\"new\" xlink:title=\"psysml:04e53eda-a597-4a9c-96a9-348d67cb9847\" xlink:type=\"simple\"><rect fill=\"#FFFFFF\" height=\"45.2656\" id=\"E6\" rx=\"10\" ry=\"10\" style=\"stroke:#383838;stroke-width:1.5;\" width=\"60\" x=\"246\" y=\"159\"/><text fill=\"#000000\" font-family=\"sans-serif\" font-size=\"12\" font-style=\"italic\" lengthAdjust=\"spacing\" textLength=\"53\" x=\"249.5\" y=\"175.1387\">«action»</text><text fill=\"#000000\" font-family=\"sans-serif\" font-size=\"14\" lengthAdjust=\"spacing\" textLength=\"18\" x=\"267\" y=\"190.9639\">A3</text></a></g><!--MD5=[4d03bb2d0377dc85ccfab60ff574652b]\n",
       "link E2 to E4--><g id=\"link_E2_E4\"><a href=\"psysml:0e1095c8-d4f6-4449-8c10-0793e56d6528\" target=\"_top\" title=\"psysml:0e1095c8-d4f6-4449-8c10-0793e56d6528\" xlink:actuate=\"onRequest\" xlink:href=\"psysml:0e1095c8-d4f6-4449-8c10-0793e56d6528\" xlink:show=\"new\" xlink:title=\"psysml:0e1095c8-d4f6-4449-8c10-0793e56d6528\" xlink:type=\"simple\"><path d=\"M204.06,76.21 C190.24,88.77 156.2,122.4 144,159 C130.9,198.29 143.31,246.33 153.85,275.66 \" fill=\"none\" id=\"E2-to-E4\" style=\"stroke:#181818;stroke-width:1.0;\"/><polygon fill=\"#181818\" points=\"155.65,280.56,156.2879,270.7318,153.9195,275.869,148.7823,273.5006,155.65,280.56\" style=\"stroke:#181818;stroke-width:1.0;\"/><text fill=\"#000000\" font-family=\"sans-serif\" font-size=\"13\" lengthAdjust=\"spacing\" textLength=\"55\" x=\"145\" y=\"186.0669\">[x == 1]</text></a></g><!--MD5=[dcad52bbbca2fe8adc741ce38b45dc12]\n",
       "link E2 to E5--><g id=\"link_E2_E5\"><a href=\"psysml:0bc69c08-a059-419e-b618-d454e4819a50\" target=\"_top\" title=\"psysml:0bc69c08-a059-419e-b618-d454e4819a50\" xlink:actuate=\"onRequest\" xlink:href=\"psysml:0bc69c08-a059-419e-b618-d454e4819a50\" xlink:show=\"new\" xlink:title=\"psysml:0bc69c08-a059-419e-b618-d454e4819a50\" xlink:type=\"simple\"><path d=\"M210.81,81.23 C214.84,132.49 232.28,359.49 226,373 C220.28,385.32 210,395.75 199.49,403.94 \" fill=\"none\" id=\"E2-to-E5\" style=\"stroke:#181818;stroke-width:1.0;\"/><polygon fill=\"#181818\" points=\"195.3,407.08,204.9,404.88,199.3,404.08,200.1,398.48,195.3,407.08\" style=\"stroke:#181818;stroke-width:1.0;\"/><text fill=\"#000000\" font-family=\"sans-serif\" font-size=\"13\" lengthAdjust=\"spacing\" textLength=\"44\" x=\"223\" y=\"247.0669\">[x &gt; 1]</text></a></g><!--MD5=[e3e28c1befcf002155aa15e1416b4315]\n",
       "link E2 to E6--><g id=\"link_E2_E6\"><a href=\"psysml:7bfaba1c-8598-44bd-a9fd-5f850f0b7fd7\" target=\"_top\" title=\"psysml:7bfaba1c-8598-44bd-a9fd-5f850f0b7fd7\" xlink:actuate=\"onRequest\" xlink:href=\"psysml:7bfaba1c-8598-44bd-a9fd-5f850f0b7fd7\" xlink:show=\"new\" xlink:title=\"psysml:7bfaba1c-8598-44bd-a9fd-5f850f0b7fd7\" xlink:type=\"simple\"><path d=\"M210.55,81.49 C211.58,93.62 214.53,113.87 223,129 C228.38,138.62 236.13,147.59 244.04,155.25 \" fill=\"none\" id=\"E2-to-E6\" style=\"stroke:#181818;stroke-width:1.0;\"/><polygon fill=\"#181818\" points=\"247.92,158.91,244.1077,149.8289,244.279,155.4832,238.6247,155.6545,247.92,158.91\" style=\"stroke:#181818;stroke-width:1.0;\"/></a></g><!--MD5=[2351f337d6de0f557b50152ba70847b5]\n",
       "link E6 to E2--><g id=\"link_E6_E2\"><a href=\"psysml:31538477-4a34-40a9-aec8-5df805757767\" target=\"_top\" title=\"psysml:31538477-4a34-40a9-aec8-5df805757767\" xlink:actuate=\"onRequest\" xlink:href=\"psysml:31538477-4a34-40a9-aec8-5df805757767\" xlink:show=\"new\" xlink:title=\"psysml:31538477-4a34-40a9-aec8-5df805757767\" xlink:type=\"simple\"><path d=\"M262.83,158.65 C249.09,135.85 228.04,100.94 217.13,82.82 \" fill=\"none\" id=\"E6-to-E2\" style=\"stroke:#181818;stroke-width:1.0;\"/><polygon fill=\"#181818\" points=\"214.33,78.18,215.5544,87.9525,216.913,82.4612,222.4043,83.8197,214.33,78.18\" style=\"stroke:#181818;stroke-width:1.0;\"/><text fill=\"#000000\" font-family=\"sans-serif\" font-size=\"13\" lengthAdjust=\"spacing\" textLength=\"44\" x=\"244\" y=\"125.0669\">[x &gt; 0]</text></a></g><!--MD5=[2720a5a1f2c3fca2055b230370638851]\n",
       "link E2 to E3--><g id=\"link_E2_E3\"><a href=\"psysml:df8d299f-9da3-41cd-a9dd-6e3a0d30decc\" target=\"_top\" title=\"psysml:df8d299f-9da3-41cd-a9dd-6e3a0d30decc\" xlink:actuate=\"onRequest\" xlink:href=\"psysml:df8d299f-9da3-41cd-a9dd-6e3a0d30decc\" xlink:show=\"new\" xlink:title=\"psysml:df8d299f-9da3-41cd-a9dd-6e3a0d30decc\" xlink:type=\"simple\"><path d=\"M201.29,73.31 C183.01,78.4 139.7,91.78 108,112 C81.71,128.77 56.41,155.69 43.63,170.28 \" fill=\"none\" id=\"E2-to-E3\" style=\"stroke:#181818;stroke-width:1.0;\"/><polygon fill=\"#181818\" points=\"40.08,174.4,48.9911,170.2057,43.3492,170.6168,42.9381,164.975,40.08,174.4\" style=\"stroke:#181818;stroke-width:1.0;\"/></a></g><!--MD5=[af87c684e3b0d8be13c1a698a818ef1e]\n",
       "link E3 to E4--><g id=\"link_E3_E4\"><a href=\"psysml:131b15c1-7866-4964-88c1-b03f264417a9\" target=\"_top\" title=\"psysml:131b15c1-7866-4964-88c1-b03f264417a9\" xlink:actuate=\"onRequest\" xlink:href=\"psysml:131b15c1-7866-4964-88c1-b03f264417a9\" xlink:show=\"new\" xlink:title=\"psysml:131b15c1-7866-4964-88c1-b03f264417a9\" xlink:type=\"simple\"><path d=\"M39.07,190 C46.61,203.42 63.83,231.9 84,251 C97.71,263.98 115.14,275.56 130.33,284.43 \" fill=\"none\" id=\"E3-to-E4\" style=\"stroke:#181818;stroke-width:1.0;\"/><polygon fill=\"#181818\" points=\"134.96,287.1,129.1557,279.1433,130.6267,284.6055,125.1645,286.0765,134.96,287.1\" style=\"stroke:#181818;stroke-width:1.0;\"/><text fill=\"#000000\" font-family=\"sans-serif\" font-size=\"13\" lengthAdjust=\"spacing\" textLength=\"36\" x=\"85\" y=\"247.0669\">[true]</text></a></g><!--MD5=[0188b64bb0ae78505a997a81836e11e9]\n",
       "link E3 to E5--><g id=\"link_E3_E5\"><a href=\"psysml:825f54b9-3c70-45c0-b332-e5b9a5c4b905\" target=\"_top\" title=\"psysml:825f54b9-3c70-45c0-b332-e5b9a5c4b905\" xlink:actuate=\"onRequest\" xlink:href=\"psysml:825f54b9-3c70-45c0-b332-e5b9a5c4b905\" xlink:show=\"new\" xlink:title=\"psysml:825f54b9-3c70-45c0-b332-e5b9a5c4b905\" xlink:type=\"simple\"><path d=\"M36.26,192.49 C39.65,216.72 50.48,280.01 76,326 C91.62,354.15 116.69,380.91 136.25,399.41 \" fill=\"none\" id=\"E3-to-E5\" style=\"stroke:#181818;stroke-width:1.0;\"/><polygon fill=\"#181818\" points=\"140.08,403,136.231,393.9344,136.4252,399.5879,130.7717,399.7821,140.08,403\" style=\"stroke:#181818;stroke-width:1.0;\"/><text fill=\"#000000\" font-family=\"sans-serif\" font-size=\"13\" lengthAdjust=\"spacing\" textLength=\"40\" x=\"77\" y=\"308.0669\">[false]</text></a></g><!--MD5=[1b7591eae5389033d8d09a9d6721a717]\n",
       "link E4 to E5--><g id=\"link_E4_E5\"><a href=\"psysml:b3779ea1-0b8c-4465-ae00-48dbba13ac92\" target=\"_top\" title=\"psysml:b3779ea1-0b8c-4465-ae00-48dbba13ac92\" xlink:actuate=\"onRequest\" xlink:href=\"psysml:b3779ea1-0b8c-4465-ae00-48dbba13ac92\" xlink:show=\"new\" xlink:title=\"psysml:b3779ea1-0b8c-4465-ae00-48dbba13ac92\" xlink:type=\"simple\"><path d=\"M165,326.23 C165,346.37 165,376.37 165,397.92 \" fill=\"none\" id=\"E4-to-E5\" style=\"stroke:#181818;stroke-width:1.0;\"/><polygon fill=\"#181818\" points=\"165,402.93,169,393.93,165,397.93,161,393.93,165,402.93\" style=\"stroke:#181818;stroke-width:1.0;\"/><text fill=\"#000000\" font-family=\"sans-serif\" font-size=\"13\" lengthAdjust=\"spacing\" textLength=\"55\" x=\"166\" y=\"369.0669\">[x == 0]</text></a></g><!--MD5=[0931d5129ac5e5176016f6dff33b3369]\n",
       "@startuml\r\n",
       "skin sysmlbw\r\n",
       "skinparam monochrome true\r\n",
       "skinparam wrapWidth 300\r\n",
       "hide circle\r\n",
       "top to bottom direction\r\n",
       "\r\n",
       "rec def \"DecisionTest\" as E1  <<(T,blue) action  def>> [[psysml:24509d73-250a-487a-bcd7-b59ee0863fbf ]] {\r\n",
       "choice \"test x\" as E2  [[psysml:7d99bd45-3b62-4bbf-b126-0db5f71d3136 ]] \r\n",
       "choice \"<s>noname</s>\" as E3  [[psysml:6dee609b-d6ae-4161-97b9-077c5f3bd0c2 ]] \r\n",
       "rec usage \"A1\" as E4  <<(T,blue) action>> [[psysml:f539a78a-befd-4456-a49f-f3788a07e7bd ]] {\r\n",
       "}\r\n",
       "\r\n",
       "rec usage \"A2\" as E5  <<(T,blue) action>> [[psysml:451b6b51-1ae2-4b81-be73-8fe0566d61d5 ]] {\r\n",
       "}\r\n",
       "\r\n",
       "rec usage \"A3\" as E6  <<(T,blue) action>> [[psysml:04e53eda-a597-4a9c-96a9-348d67cb9847 ]] {\r\n",
       "}\r\n",
       "\r\n",
       "}\r\n",
       "\r\n",
       "E2  - -> E4 [[psysml:0e1095c8-d4f6-4449-8c10-0793e56d6528 ]] : [x == 1]\r\n",
       "E2  - -> E5 [[psysml:0bc69c08-a059-419e-b618-d454e4819a50 ]] : [x > 1]\r\n",
       "E2  - -> E6 [[psysml:7bfaba1c-8598-44bd-a9fd-5f850f0b7fd7 ]] \r\n",
       "E2 - -> E3 [[psysml:df8d299f-9da3-41cd-a9dd-6e3a0d30decc ]] \r\n",
       "E3  - -> E4 [[psysml:131b15c1-7866-4964-88c1-b03f264417a9 ]] : [true]\r\n",
       "E3  - -> E5 [[psysml:825f54b9-3c70-45c0-b332-e5b9a5c4b905 ]] : [false]\r\n",
       "E4  - -> E5 [[psysml:b3779ea1-0b8c-4465-ae00-48dbba13ac92 ]] : [x == 0]\r\n",
       "E6  - -> E2 [[psysml:31538477-4a34-40a9-aec8-5df805757767 ]] : [x > 0]\r\n",
       "@enduml\r\n",
       "\n",
       "PlantUML version 1.2022.7(Mon Aug 22 17:01:30 UTC 2022)\n",
       "(EPL source distribution)\n",
       "Java Runtime: OpenJDK Runtime Environment\n",
       "JVM: OpenJDK 64-Bit Server VM\n",
       "Default Encoding: UTF-8\n",
       "Language: en\n",
       "Country: null\n",
       "--></g></svg>"
      ]
     },
     "execution_count": 50,
     "metadata": {},
     "output_type": "execute_result"
    }
   ],
   "source": [
    "%viz --style=\"TB\" --view=\"MIXED\" \"DecisionTest\""
   ]
  },
  {
   "cell_type": "code",
   "execution_count": 51,
   "id": "d0cb875c",
   "metadata": {
    "execution": {
     "iopub.execute_input": "2024-12-16T03:28:04.166536Z",
     "iopub.status.busy": "2024-12-16T03:28:04.166247Z",
     "iopub.status.idle": "2024-12-16T03:28:04.184724Z",
     "shell.execute_reply": "2024-12-16T03:28:04.184516Z"
    }
   },
   "outputs": [
    {
     "data": {
      "image/svg+xml": [
       "<?xml version=\"1.0\" encoding=\"UTF-8\" standalone=\"no\"?><svg xmlns=\"http://www.w3.org/2000/svg\" xmlns:xlink=\"http://www.w3.org/1999/xlink\" contentStyleType=\"text/css\" height=\"419px\" preserveAspectRatio=\"none\" style=\"width:256px;height:419px;background:#FFFFFF;\" version=\"1.1\" viewBox=\"0 0 256 419\" width=\"256px\" zoomAndPan=\"magnify\"><defs/><g><!--MD5=[fbc87193dbaf4d95561dea2c320d4a47]\n",
       "cluster E1--><g id=\"cluster_E1\"><a href=\"psysml:24509d73-250a-487a-bcd7-b59ee0863fbf\" target=\"_top\" title=\"psysml:24509d73-250a-487a-bcd7-b59ee0863fbf\" xlink:actuate=\"onRequest\" xlink:href=\"psysml:24509d73-250a-487a-bcd7-b59ee0863fbf\" xlink:show=\"new\" xlink:title=\"psysml:24509d73-250a-487a-bcd7-b59ee0863fbf\" xlink:type=\"simple\"><rect fill=\"#FFFFFF\" height=\"406\" id=\"E1\" style=\"stroke:#383838;stroke-width:1.5;\" width=\"225\" x=\"24\" y=\"7\"/><text fill=\"#000000\" font-family=\"sans-serif\" font-size=\"12\" font-style=\"italic\" lengthAdjust=\"spacing\" textLength=\"81\" x=\"96\" y=\"23.1387\">«action  def»</text><text fill=\"#000000\" font-family=\"sans-serif\" font-size=\"14\" lengthAdjust=\"spacing\" textLength=\"91\" x=\"91\" y=\"38.9639\">DecisionTest</text><line style=\"stroke:#383838;stroke-width:1.0;\" x1=\"24\" x2=\"249\" y1=\"47.2656\" y2=\"47.2656\"/></a></g><g id=\"elem_E2\"><polygon fill=\"#FFFFFF\" points=\"137,58,149,70,137,82,125,70,137,58\" style=\"stroke:#181818;stroke-width:0.5;\"/></g><g id=\"elem_E3\"><polygon fill=\"#FFFFFF\" points=\"52,152.5,64,164.5,52,176.5,40,164.5,52,152.5\" style=\"stroke:#181818;stroke-width:0.5;\"/></g><g><a href=\"psysml:f539a78a-befd-4456-a49f-f3788a07e7bd\" target=\"_top\" title=\"psysml:f539a78a-befd-4456-a49f-f3788a07e7bd\" xlink:actuate=\"onRequest\" xlink:href=\"psysml:f539a78a-befd-4456-a49f-f3788a07e7bd\" xlink:show=\"new\" xlink:title=\"psysml:f539a78a-befd-4456-a49f-f3788a07e7bd\" xlink:type=\"simple\"><rect fill=\"#FFFFFF\" height=\"45.2656\" id=\"E4\" rx=\"10\" ry=\"10\" style=\"stroke:#383838;stroke-width:1.5;\" width=\"60\" x=\"77\" y=\"247\"/><text fill=\"#000000\" font-family=\"sans-serif\" font-size=\"12\" font-style=\"italic\" lengthAdjust=\"spacing\" textLength=\"53\" x=\"80.5\" y=\"263.1387\">«action»</text><text fill=\"#000000\" font-family=\"sans-serif\" font-size=\"14\" lengthAdjust=\"spacing\" textLength=\"18\" x=\"98\" y=\"278.9639\">A1</text></a></g><g><a href=\"psysml:451b6b51-1ae2-4b81-be73-8fe0566d61d5\" target=\"_top\" title=\"psysml:451b6b51-1ae2-4b81-be73-8fe0566d61d5\" xlink:actuate=\"onRequest\" xlink:href=\"psysml:451b6b51-1ae2-4b81-be73-8fe0566d61d5\" xlink:show=\"new\" xlink:title=\"psysml:451b6b51-1ae2-4b81-be73-8fe0566d61d5\" xlink:type=\"simple\"><rect fill=\"#FFFFFF\" height=\"45.2656\" id=\"E5\" rx=\"10\" ry=\"10\" style=\"stroke:#383838;stroke-width:1.5;\" width=\"60\" x=\"77\" y=\"352\"/><text fill=\"#000000\" font-family=\"sans-serif\" font-size=\"12\" font-style=\"italic\" lengthAdjust=\"spacing\" textLength=\"53\" x=\"80.5\" y=\"368.1387\">«action»</text><text fill=\"#000000\" font-family=\"sans-serif\" font-size=\"14\" lengthAdjust=\"spacing\" textLength=\"18\" x=\"98\" y=\"383.9639\">A2</text></a></g><g><a href=\"psysml:04e53eda-a597-4a9c-96a9-348d67cb9847\" target=\"_top\" title=\"psysml:04e53eda-a597-4a9c-96a9-348d67cb9847\" xlink:actuate=\"onRequest\" xlink:href=\"psysml:04e53eda-a597-4a9c-96a9-348d67cb9847\" xlink:show=\"new\" xlink:title=\"psysml:04e53eda-a597-4a9c-96a9-348d67cb9847\" xlink:type=\"simple\"><rect fill=\"#FFFFFF\" height=\"45.2656\" id=\"E6\" rx=\"10\" ry=\"10\" style=\"stroke:#383838;stroke-width:1.5;\" width=\"60\" x=\"173\" y=\"142\"/><text fill=\"#000000\" font-family=\"sans-serif\" font-size=\"12\" font-style=\"italic\" lengthAdjust=\"spacing\" textLength=\"53\" x=\"176.5\" y=\"158.1387\">«action»</text><text fill=\"#000000\" font-family=\"sans-serif\" font-size=\"14\" lengthAdjust=\"spacing\" textLength=\"18\" x=\"194\" y=\"173.9639\">A3</text></a></g><!--MD5=[4d03bb2d0377dc85ccfab60ff574652b]\n",
       "link E2 to E4--><g id=\"link_E2_E4\"><a href=\"psysml:0e1095c8-d4f6-4449-8c10-0793e56d6528\" target=\"_top\" title=\"psysml:0e1095c8-d4f6-4449-8c10-0793e56d6528\" xlink:actuate=\"onRequest\" xlink:href=\"psysml:0e1095c8-d4f6-4449-8c10-0793e56d6528\" xlink:show=\"new\" xlink:title=\"psysml:0e1095c8-d4f6-4449-8c10-0793e56d6528\" xlink:type=\"simple\"><path d=\"M133,78.07 C133,78.07 133,241.91 133,241.91 \" fill=\"none\" id=\"E2-to-E4\" style=\"stroke:#181818;stroke-width:1.0;\"/><polygon fill=\"#181818\" points=\"133,246.91,137.0257,237.9215,133.0143,241.91,129.0257,237.8986,133,246.91\" style=\"stroke:#181818;stroke-width:1.0;\"/><text fill=\"#000000\" font-family=\"sans-serif\" font-size=\"13\" lengthAdjust=\"spacing\" textLength=\"55\" x=\"77\" y=\"156.0569\">[x == 1]</text></a></g><!--MD5=[dcad52bbbca2fe8adc741ce38b45dc12]\n",
       "link E2 to E5--><g id=\"link_E2_E5\"><a href=\"psysml:0bc69c08-a059-419e-b618-d454e4819a50\" target=\"_top\" title=\"psysml:0bc69c08-a059-419e-b618-d454e4819a50\" xlink:actuate=\"onRequest\" xlink:href=\"psysml:0bc69c08-a059-419e-b618-d454e4819a50\" xlink:show=\"new\" xlink:title=\"psysml:0bc69c08-a059-419e-b618-d454e4819a50\" xlink:type=\"simple\"><path d=\"M140,79.13 C140,129.88 140,375 140,375 C140,375 139.74,375 139.74,375 \" fill=\"none\" id=\"E2-to-E5\" style=\"stroke:#181818;stroke-width:1.0;\"/><polygon fill=\"#181818\" points=\"137.41,375,146.41,379,142.41,375,146.41,371,137.41,375\" style=\"stroke:#181818;stroke-width:1.0;\"/><text fill=\"#000000\" font-family=\"sans-serif\" font-size=\"13\" lengthAdjust=\"spacing\" textLength=\"44\" x=\"95\" y=\"223.2569\">[x &gt; 1]</text></a></g><!--MD5=[e3e28c1befcf002155aa15e1416b4315]\n",
       "link E2 to E6--><g id=\"link_E2_E6\"><a href=\"psysml:7bfaba1c-8598-44bd-a9fd-5f850f0b7fd7\" target=\"_top\" title=\"psysml:7bfaba1c-8598-44bd-a9fd-5f850f0b7fd7\" xlink:actuate=\"onRequest\" xlink:href=\"psysml:7bfaba1c-8598-44bd-a9fd-5f850f0b7fd7\" xlink:show=\"new\" xlink:title=\"psysml:7bfaba1c-8598-44bd-a9fd-5f850f0b7fd7\" xlink:type=\"simple\"><path d=\"M146,73.27 C146,87.81 146,146 146,146 C146,146 167.83,146 167.83,146 \" fill=\"none\" id=\"E2-to-E6\" style=\"stroke:#181818;stroke-width:1.0;\"/><polygon fill=\"#181818\" points=\"172.83,146,163.83,142,167.83,146,163.83,150,172.83,146\" style=\"stroke:#181818;stroke-width:1.0;\"/></a></g><!--MD5=[2351f337d6de0f557b50152ba70847b5]\n",
       "link E6 to E2--><g id=\"link_E6_E2\"><a href=\"psysml:31538477-4a34-40a9-aec8-5df805757767\" target=\"_top\" title=\"psysml:31538477-4a34-40a9-aec8-5df805757767\" xlink:actuate=\"onRequest\" xlink:href=\"psysml:31538477-4a34-40a9-aec8-5df805757767\" xlink:show=\"new\" xlink:title=\"psysml:31538477-4a34-40a9-aec8-5df805757767\" xlink:type=\"simple\"><path d=\"M173,149 C158,149 143,149 143,149 C143,149 143,81.2 143,81.2 \" fill=\"none\" id=\"E6-to-E2\" style=\"stroke:#181818;stroke-width:1.0;\"/><polygon fill=\"#181818\" points=\"143,76.2,139,85.2,143,81.2,147,85.2,143,76.2\" style=\"stroke:#181818;stroke-width:1.0;\"/><text fill=\"#000000\" font-family=\"sans-serif\" font-size=\"13\" lengthAdjust=\"spacing\" textLength=\"44\" x=\"98\" y=\"126.1669\">[x &gt; 0]</text></a></g><!--MD5=[2720a5a1f2c3fca2055b230370638851]\n",
       "link E2 to E3--><g id=\"link_E2_E3\"><a href=\"psysml:df8d299f-9da3-41cd-a9dd-6e3a0d30decc\" target=\"_top\" title=\"psysml:df8d299f-9da3-41cd-a9dd-6e3a0d30decc\" xlink:actuate=\"onRequest\" xlink:href=\"psysml:df8d299f-9da3-41cd-a9dd-6e3a0d30decc\" xlink:show=\"new\" xlink:title=\"psysml:df8d299f-9da3-41cd-a9dd-6e3a0d30decc\" xlink:type=\"simple\"><path d=\"M129,74.08 C129,92.27 129,165 129,165 C129,165 68.69,165 68.69,165 \" fill=\"none\" id=\"E2-to-E3\" style=\"stroke:#181818;stroke-width:1.0;\"/><polygon fill=\"#181818\" points=\"63.69,165,72.69,169,68.69,165,72.69,161,63.69,165\" style=\"stroke:#181818;stroke-width:1.0;\"/></a></g><!--MD5=[af87c684e3b0d8be13c1a698a818ef1e]\n",
       "link E3 to E4--><g id=\"link_E3_E4\"><a href=\"psysml:131b15c1-7866-4964-88c1-b03f264417a9\" target=\"_top\" title=\"psysml:131b15c1-7866-4964-88c1-b03f264417a9\" xlink:actuate=\"onRequest\" xlink:href=\"psysml:131b15c1-7866-4964-88c1-b03f264417a9\" xlink:show=\"new\" xlink:title=\"psysml:131b15c1-7866-4964-88c1-b03f264417a9\" xlink:type=\"simple\"><path d=\"M56,172.78 C56,197.65 56,270 56,270 C56,270 71.74,270 71.74,270 \" fill=\"none\" id=\"E3-to-E4\" style=\"stroke:#181818;stroke-width:1.0;\"/><polygon fill=\"#181818\" points=\"76.74,270,67.74,266,71.74,270,67.74,274,76.74,270\" style=\"stroke:#181818;stroke-width:1.0;\"/><text fill=\"#000000\" font-family=\"sans-serif\" font-size=\"13\" lengthAdjust=\"spacing\" textLength=\"36\" x=\"19\" y=\"225.3269\">[true]</text></a></g><!--MD5=[0188b64bb0ae78505a997a81836e11e9]\n",
       "link E3 to E5--><g id=\"link_E3_E5\"><a href=\"psysml:825f54b9-3c70-45c0-b332-e5b9a5c4b905\" target=\"_top\" title=\"psysml:825f54b9-3c70-45c0-b332-e5b9a5c4b905\" xlink:actuate=\"onRequest\" xlink:href=\"psysml:825f54b9-3c70-45c0-b332-e5b9a5c4b905\" xlink:show=\"new\" xlink:title=\"psysml:825f54b9-3c70-45c0-b332-e5b9a5c4b905\" xlink:type=\"simple\"><path d=\"M48,172.75 C48,211.67 48,375 48,375 C48,375 71.81,375 71.81,375 \" fill=\"none\" id=\"E3-to-E5\" style=\"stroke:#181818;stroke-width:1.0;\"/><polygon fill=\"#181818\" points=\"76.81,375,67.81,371,71.81,375,67.81,379,76.81,375\" style=\"stroke:#181818;stroke-width:1.0;\"/><text fill=\"#000000\" font-family=\"sans-serif\" font-size=\"13\" lengthAdjust=\"spacing\" textLength=\"40\" x=\"7\" y=\"281.8469\">[false]</text></a></g><!--MD5=[1b7591eae5389033d8d09a9d6721a717]\n",
       "link E4 to E5--><g id=\"link_E4_E5\"><a href=\"psysml:b3779ea1-0b8c-4465-ae00-48dbba13ac92\" target=\"_top\" title=\"psysml:b3779ea1-0b8c-4465-ae00-48dbba13ac92\" xlink:actuate=\"onRequest\" xlink:href=\"psysml:b3779ea1-0b8c-4465-ae00-48dbba13ac92\" xlink:show=\"new\" xlink:title=\"psysml:b3779ea1-0b8c-4465-ae00-48dbba13ac92\" xlink:type=\"simple\"><path d=\"M107,292.03 C107,292.03 107,346.65 107,346.65 \" fill=\"none\" id=\"E4-to-E5\" style=\"stroke:#181818;stroke-width:1.0;\"/><polygon fill=\"#181818\" points=\"107,351.65,111,342.65,107,346.65,103,342.65,107,351.65\" style=\"stroke:#181818;stroke-width:1.0;\"/><text fill=\"#000000\" font-family=\"sans-serif\" font-size=\"13\" lengthAdjust=\"spacing\" textLength=\"55\" x=\"51\" y=\"315.4069\">[x == 0]</text></a></g><!--MD5=[543d89a518d99f7e64cfea7eca344ecf]\n",
       "@startuml\r\n",
       "skin sysmlbw\r\n",
       "skinparam monochrome true\r\n",
       "skinparam wrapWidth 300\r\n",
       "hide circle\r\n",
       "skinparam linetype ortho\r\n",
       "\r\n",
       "rec def \"DecisionTest\" as E1  <<(T,blue) action  def>> [[psysml:24509d73-250a-487a-bcd7-b59ee0863fbf ]] {\r\n",
       "choice \"test x\" as E2  [[psysml:7d99bd45-3b62-4bbf-b126-0db5f71d3136 ]] \r\n",
       "choice \"<s>noname</s>\" as E3  [[psysml:6dee609b-d6ae-4161-97b9-077c5f3bd0c2 ]] \r\n",
       "rec usage \"A1\" as E4  <<(T,blue) action>> [[psysml:f539a78a-befd-4456-a49f-f3788a07e7bd ]] {\r\n",
       "}\r\n",
       "\r\n",
       "rec usage \"A2\" as E5  <<(T,blue) action>> [[psysml:451b6b51-1ae2-4b81-be73-8fe0566d61d5 ]] {\r\n",
       "}\r\n",
       "\r\n",
       "rec usage \"A3\" as E6  <<(T,blue) action>> [[psysml:04e53eda-a597-4a9c-96a9-348d67cb9847 ]] {\r\n",
       "}\r\n",
       "\r\n",
       "}\r\n",
       "\r\n",
       "E2  - -> E4 [[psysml:0e1095c8-d4f6-4449-8c10-0793e56d6528 ]] : [x == 1]\r\n",
       "E2  - -> E5 [[psysml:0bc69c08-a059-419e-b618-d454e4819a50 ]] : [x > 1]\r\n",
       "E2  - -> E6 [[psysml:7bfaba1c-8598-44bd-a9fd-5f850f0b7fd7 ]] \r\n",
       "E2 - -> E3 [[psysml:df8d299f-9da3-41cd-a9dd-6e3a0d30decc ]] \r\n",
       "E3  - -> E4 [[psysml:131b15c1-7866-4964-88c1-b03f264417a9 ]] : [true]\r\n",
       "E3  - -> E5 [[psysml:825f54b9-3c70-45c0-b332-e5b9a5c4b905 ]] : [false]\r\n",
       "E4  - -> E5 [[psysml:b3779ea1-0b8c-4465-ae00-48dbba13ac92 ]] : [x == 0]\r\n",
       "E6  - -> E2 [[psysml:31538477-4a34-40a9-aec8-5df805757767 ]] : [x > 0]\r\n",
       "@enduml\r\n",
       "\n",
       "PlantUML version 1.2022.7(Mon Aug 22 17:01:30 UTC 2022)\n",
       "(EPL source distribution)\n",
       "Java Runtime: OpenJDK Runtime Environment\n",
       "JVM: OpenJDK 64-Bit Server VM\n",
       "Default Encoding: UTF-8\n",
       "Language: en\n",
       "Country: null\n",
       "--></g></svg>"
      ]
     },
     "execution_count": 51,
     "metadata": {},
     "output_type": "execute_result"
    }
   ],
   "source": [
    "%viz --style=\"ORTHOLINE\" --view=\"Default\" \"DecisionTest\""
   ]
  },
  {
   "cell_type": "code",
   "execution_count": 52,
   "id": "0f092f68",
   "metadata": {
    "execution": {
     "iopub.execute_input": "2024-12-16T03:28:04.238764Z",
     "iopub.status.busy": "2024-12-16T03:28:04.238543Z",
     "iopub.status.idle": "2024-12-16T03:28:04.268107Z",
     "shell.execute_reply": "2024-12-16T03:28:04.267169Z"
    }
   },
   "outputs": [
    {
     "data": {
      "image/svg+xml": [
       "<?xml version=\"1.0\" encoding=\"UTF-8\" standalone=\"no\"?><svg xmlns=\"http://www.w3.org/2000/svg\" xmlns:xlink=\"http://www.w3.org/1999/xlink\" contentStyleType=\"text/css\" height=\"507px\" preserveAspectRatio=\"none\" style=\"width:459px;height:507px;background:#FFFFFF;\" version=\"1.1\" viewBox=\"0 0 459 507\" width=\"459px\" zoomAndPan=\"magnify\"><defs/><g><!--MD5=[43c9051892ef23e1a46a86907403d788]\n",
       "class E1--><a href=\"psysml:24509d73-250a-487a-bcd7-b59ee0863fbf\" target=\"_top\" title=\"psysml:24509d73-250a-487a-bcd7-b59ee0863fbf\" xlink:actuate=\"onRequest\" xlink:href=\"psysml:24509d73-250a-487a-bcd7-b59ee0863fbf\" xlink:show=\"new\" xlink:title=\"psysml:24509d73-250a-487a-bcd7-b59ee0863fbf\" xlink:type=\"simple\"><g id=\"elem_E1\"><rect fill=\"#FFFFFF\" height=\"277.3094\" id=\"E1\" style=\"stroke:#181818;stroke-width:0.5;\" width=\"204\" x=\"143\" y=\"7\"/><text fill=\"#000000\" font-family=\"sans-serif\" font-size=\"12\" font-style=\"italic\" lengthAdjust=\"spacing\" textLength=\"81\" x=\"204.5\" y=\"23.1387\">«action  def»</text><text fill=\"#000000\" font-family=\"sans-serif\" font-size=\"14\" lengthAdjust=\"spacing\" textLength=\"91\" x=\"199.5\" y=\"38.9639\">DecisionTest</text><line style=\"stroke:#181818;stroke-width:0.5;\" x1=\"144\" x2=\"346\" y1=\"47.2656\" y2=\"47.2656\"/><text fill=\"#000000\" font-family=\"sans-serif\" font-size=\"14\" lengthAdjust=\"spacing\" textLength=\"36\" x=\"149\" y=\"74.7795\">x = 1</text><text fill=\"#000000\" font-family=\"sans-serif\" font-size=\"14\" font-style=\"italic\" lengthAdjust=\"spacing\" textLength=\"66\" x=\"212\" y=\"59.6123\">attributes</text><line style=\"stroke:#181818;stroke-width:1.0;\" x1=\"144\" x2=\"346\" y1=\"82.0813\" y2=\"82.0813\"/><text fill=\"#000000\" font-family=\"sans-serif\" font-size=\"14\" lengthAdjust=\"spacing\" textLength=\"18\" x=\"149\" y=\"109.5951\">A3</text><text fill=\"#000000\" font-family=\"sans-serif\" font-size=\"14\" font-style=\"italic\" lengthAdjust=\"spacing\" textLength=\"50\" x=\"220\" y=\"94.4279\">actions</text><line style=\"stroke:#181818;stroke-width:1.0;\" x1=\"144\" x2=\"346\" y1=\"116.8969\" y2=\"116.8969\"/><text fill=\"#000000\" font-family=\"sans-serif\" font-size=\"14\" lengthAdjust=\"spacing\" textLength=\"192\" x=\"149\" y=\"144.4107\">noname first test x then null</text><text fill=\"#000000\" font-family=\"sans-serif\" font-size=\"14\" font-style=\"italic\" lengthAdjust=\"spacing\" textLength=\"87\" x=\"201.5\" y=\"129.2436\">successions</text><line style=\"stroke:#181818;stroke-width:1.0;\" x1=\"144\" x2=\"346\" y1=\"151.7125\" y2=\"151.7125\"/><text fill=\"#000000\" font-family=\"sans-serif\" font-size=\"14\" lengthAdjust=\"spacing\" textLength=\"4\" x=\"149\" y=\"179.2264\"> </text><text fill=\"#000000\" font-family=\"sans-serif\" font-size=\"14\" lengthAdjust=\"spacing\" textLength=\"4\" x=\"149\" y=\"195.5232\"> </text><text fill=\"#000000\" font-family=\"sans-serif\" font-size=\"14\" lengthAdjust=\"spacing\" textLength=\"4\" x=\"149\" y=\"211.8201\"> </text><text fill=\"#000000\" font-family=\"sans-serif\" font-size=\"14\" lengthAdjust=\"spacing\" textLength=\"4\" x=\"149\" y=\"228.117\"> </text><text fill=\"#000000\" font-family=\"sans-serif\" font-size=\"14\" lengthAdjust=\"spacing\" textLength=\"4\" x=\"149\" y=\"244.4139\"> </text><text fill=\"#000000\" font-family=\"sans-serif\" font-size=\"14\" lengthAdjust=\"spacing\" textLength=\"4\" x=\"149\" y=\"260.7107\"> </text><text fill=\"#000000\" font-family=\"sans-serif\" font-size=\"14\" lengthAdjust=\"spacing\" textLength=\"9\" x=\"149\" y=\"277.0076\">S</text><text fill=\"#000000\" font-family=\"sans-serif\" font-size=\"14\" font-style=\"italic\" lengthAdjust=\"spacing\" textLength=\"72\" x=\"209\" y=\"164.0592\">transitions</text></g></a><!--MD5=[b4997ac47864f28c2f74865a473b2911]\n",
       "class E2--><a href=\"psysml:7d99bd45-3b62-4bbf-b126-0db5f71d3136\" target=\"_top\" title=\"psysml:7d99bd45-3b62-4bbf-b126-0db5f71d3136\" xlink:actuate=\"onRequest\" xlink:href=\"psysml:7d99bd45-3b62-4bbf-b126-0db5f71d3136\" xlink:show=\"new\" xlink:title=\"psysml:7d99bd45-3b62-4bbf-b126-0db5f71d3136\" xlink:type=\"simple\"><g id=\"elem_E2\"><rect fill=\"#FFFFFF\" height=\"48.2656\" id=\"E2\" rx=\"10\" ry=\"10\" style=\"stroke:#181818;stroke-width:0.5;\" width=\"104\" x=\"7\" y=\"344\"/><text fill=\"#000000\" font-family=\"sans-serif\" font-size=\"12\" font-style=\"italic\" lengthAdjust=\"spacing\" textLength=\"102\" x=\"8\" y=\"360.1387\">«decision node»</text><text fill=\"#000000\" font-family=\"sans-serif\" font-size=\"14\" lengthAdjust=\"spacing\" textLength=\"38\" x=\"36\" y=\"375.9639\">test x</text><line style=\"stroke:#181818;stroke-width:0.5;\" x1=\"8\" x2=\"110\" y1=\"384.2656\" y2=\"384.2656\"/></g></a><!--MD5=[09b614a08d8cba4a07c9adeb5e0fee81]\n",
       "class E3--><a href=\"psysml:6dee609b-d6ae-4161-97b9-077c5f3bd0c2\" target=\"_top\" title=\"psysml:6dee609b-d6ae-4161-97b9-077c5f3bd0c2\" xlink:actuate=\"onRequest\" xlink:href=\"psysml:6dee609b-d6ae-4161-97b9-077c5f3bd0c2\" xlink:show=\"new\" xlink:title=\"psysml:6dee609b-d6ae-4161-97b9-077c5f3bd0c2\" xlink:type=\"simple\"><g id=\"elem_E3\"><rect fill=\"#FFFFFF\" height=\"48.2656\" id=\"E3\" rx=\"10\" ry=\"10\" style=\"stroke:#181818;stroke-width:0.5;\" width=\"104\" x=\"59\" y=\"452\"/><text fill=\"#000000\" font-family=\"sans-serif\" font-size=\"12\" font-style=\"italic\" lengthAdjust=\"spacing\" textLength=\"102\" x=\"60\" y=\"468.1387\">«decision node»</text><text fill=\"#000000\" font-family=\"sans-serif\" font-size=\"14\" lengthAdjust=\"spacing\" text-decoration=\"line-through\" textLength=\"57\" x=\"78.5\" y=\"483.9639\">noname</text><text fill=\"#000000\" font-family=\"sans-serif\" font-size=\"14\" lengthAdjust=\"spacing\" textLength=\"8\" x=\"135.5\" y=\"483.9639\">  </text><line style=\"stroke:#181818;stroke-width:0.5;\" x1=\"60\" x2=\"162\" y1=\"492.2656\" y2=\"492.2656\"/></g></a><!--MD5=[ebbe1d658d1005bcc118a6aa81145e00]\n",
       "class E4--><a href=\"psysml:f539a78a-befd-4456-a49f-f3788a07e7bd\" target=\"_top\" title=\"psysml:f539a78a-befd-4456-a49f-f3788a07e7bd\" xlink:actuate=\"onRequest\" xlink:href=\"psysml:f539a78a-befd-4456-a49f-f3788a07e7bd\" xlink:show=\"new\" xlink:title=\"psysml:f539a78a-befd-4456-a49f-f3788a07e7bd\" xlink:type=\"simple\"><g id=\"elem_E4\"><rect fill=\"#FFFFFF\" height=\"48.2656\" id=\"E4\" rx=\"10\" ry=\"10\" style=\"stroke:#181818;stroke-width:0.5;\" width=\"55\" x=\"217.5\" y=\"344\"/><text fill=\"#000000\" font-family=\"sans-serif\" font-size=\"12\" font-style=\"italic\" lengthAdjust=\"spacing\" textLength=\"53\" x=\"218.5\" y=\"360.1387\">«action»</text><text fill=\"#000000\" font-family=\"sans-serif\" font-size=\"14\" lengthAdjust=\"spacing\" textLength=\"18\" x=\"232\" y=\"375.9639\">A1</text><line style=\"stroke:#181818;stroke-width:0.5;\" x1=\"218.5\" x2=\"271.5\" y1=\"384.2656\" y2=\"384.2656\"/></g></a><!--MD5=[270fce915f116d4de14055a7c1d9a0f3]\n",
       "class E5--><a href=\"psysml:451b6b51-1ae2-4b81-be73-8fe0566d61d5\" target=\"_top\" title=\"psysml:451b6b51-1ae2-4b81-be73-8fe0566d61d5\" xlink:actuate=\"onRequest\" xlink:href=\"psysml:451b6b51-1ae2-4b81-be73-8fe0566d61d5\" xlink:show=\"new\" xlink:title=\"psysml:451b6b51-1ae2-4b81-be73-8fe0566d61d5\" xlink:type=\"simple\"><g id=\"elem_E5\"><rect fill=\"#FFFFFF\" height=\"48.2656\" id=\"E5\" rx=\"10\" ry=\"10\" style=\"stroke:#181818;stroke-width:0.5;\" width=\"55\" x=\"307.5\" y=\"344\"/><text fill=\"#000000\" font-family=\"sans-serif\" font-size=\"12\" font-style=\"italic\" lengthAdjust=\"spacing\" textLength=\"53\" x=\"308.5\" y=\"360.1387\">«action»</text><text fill=\"#000000\" font-family=\"sans-serif\" font-size=\"14\" lengthAdjust=\"spacing\" textLength=\"18\" x=\"322\" y=\"375.9639\">A2</text><line style=\"stroke:#181818;stroke-width:0.5;\" x1=\"308.5\" x2=\"361.5\" y1=\"384.2656\" y2=\"384.2656\"/></g></a><!--MD5=[60a26617385b1d2d0262a64233df1f8d]\n",
       "class E6--><a href=\"psysml:04e53eda-a597-4a9c-96a9-348d67cb9847\" target=\"_top\" title=\"psysml:04e53eda-a597-4a9c-96a9-348d67cb9847\" xlink:actuate=\"onRequest\" xlink:href=\"psysml:04e53eda-a597-4a9c-96a9-348d67cb9847\" xlink:show=\"new\" xlink:title=\"psysml:04e53eda-a597-4a9c-96a9-348d67cb9847\" xlink:type=\"simple\"><g id=\"elem_E6\"><rect fill=\"#FFFFFF\" height=\"48.2656\" id=\"E6\" rx=\"10\" ry=\"10\" style=\"stroke:#181818;stroke-width:0.5;\" width=\"55\" x=\"397.5\" y=\"344\"/><text fill=\"#000000\" font-family=\"sans-serif\" font-size=\"12\" font-style=\"italic\" lengthAdjust=\"spacing\" textLength=\"53\" x=\"398.5\" y=\"360.1387\">«action»</text><text fill=\"#000000\" font-family=\"sans-serif\" font-size=\"14\" lengthAdjust=\"spacing\" textLength=\"18\" x=\"412\" y=\"375.9639\">A3</text><line style=\"stroke:#181818;stroke-width:0.5;\" x1=\"398.5\" x2=\"451.5\" y1=\"384.2656\" y2=\"384.2656\"/></g></a><!--MD5=[a523cb2a0b79ecf9065ad8783f96c320]\n",
       "reverse link E1 to E2--><g id=\"link_E1_E2\"><a href=\"psysml:0a57c05e-4dd3-44ad-ba12-51402458bbf0\" target=\"_top\" title=\"psysml:0a57c05e-4dd3-44ad-ba12-51402458bbf0\" xlink:actuate=\"onRequest\" xlink:href=\"psysml:0a57c05e-4dd3-44ad-ba12-51402458bbf0\" xlink:show=\"new\" xlink:title=\"psysml:0a57c05e-4dd3-44ad-ba12-51402458bbf0\" xlink:type=\"simple\"><path d=\"M149.67,297.2 C149.67,297.2 149.67,368 149.67,368 C149.67,368 131.37,368 111.22,368 \" fill=\"none\" id=\"E1-backto-E2\" style=\"stroke:#181818;stroke-width:1.0;\"/><polygon fill=\"#181818\" points=\"149.67,284.2,145.67,290.2,149.67,296.2,153.67,290.2,149.67,284.2\" style=\"stroke:#181818;stroke-width:1.0;\"/></a></g><!--MD5=[2720a5a1f2c3fca2055b230370638851]\n",
       "link E2 to E3--><g id=\"link_E2_E3\"><a href=\"psysml:df8d299f-9da3-41cd-a9dd-6e3a0d30decc\" target=\"_top\" title=\"psysml:df8d299f-9da3-41cd-a9dd-6e3a0d30decc\" xlink:actuate=\"onRequest\" xlink:href=\"psysml:df8d299f-9da3-41cd-a9dd-6e3a0d30decc\" xlink:show=\"new\" xlink:title=\"psysml:df8d299f-9da3-41cd-a9dd-6e3a0d30decc\" xlink:type=\"simple\"><path d=\"M85,392.24 C85,392.24 85,446.84 85,446.84 \" fill=\"none\" id=\"E2-to-E3\" style=\"stroke:#181818;stroke-width:1.0;\"/><polygon fill=\"#181818\" points=\"85,451.84,89,442.84,85,446.84,81,442.84,85,451.84\" style=\"stroke:#181818;stroke-width:1.0;\"/></a></g><!--MD5=[5d7b3810b1dd9b5164bea1151b29b665]\n",
       "reverse link E1 to E3--><g id=\"link_E1_E3\"><a href=\"psysml:5efd2738-c984-493d-a46e-1379d8b8bf4b\" target=\"_top\" title=\"psysml:5efd2738-c984-493d-a46e-1379d8b8bf4b\" xlink:actuate=\"onRequest\" xlink:href=\"psysml:5efd2738-c984-493d-a46e-1379d8b8bf4b\" xlink:show=\"new\" xlink:title=\"psysml:5efd2738-c984-493d-a46e-1379d8b8bf4b\" xlink:type=\"simple\"><path d=\"M156.33,297.23 C156.33,297.23 156.33,451.85 156.33,451.85 \" fill=\"none\" id=\"E1-backto-E3\" style=\"stroke:#181818;stroke-width:1.0;\"/><polygon fill=\"#181818\" points=\"156.33,284.23,152.33,290.23,156.33,296.23,160.33,290.23,156.33,284.23\" style=\"stroke:#181818;stroke-width:1.0;\"/></a></g><!--MD5=[f2c5c03aa1e8c0ba21c10a05e6444b8e]\n",
       "reverse link E1 to E4--><g id=\"link_E1_E4\"><a href=\"psysml:867ae522-9684-4034-9c56-5f70d3a76b09\" target=\"_top\" title=\"psysml:867ae522-9684-4034-9c56-5f70d3a76b09\" xlink:actuate=\"onRequest\" xlink:href=\"psysml:867ae522-9684-4034-9c56-5f70d3a76b09\" xlink:show=\"new\" xlink:title=\"psysml:867ae522-9684-4034-9c56-5f70d3a76b09\" xlink:type=\"simple\"><path d=\"M245,297.2 C245,297.2 245,343.73 245,343.73 \" fill=\"none\" id=\"E1-backto-E4\" style=\"stroke:#181818;stroke-width:1.0;\"/><polygon fill=\"#181818\" points=\"245,284.2,241,290.2,245,296.2,249,290.2,245,284.2\" style=\"stroke:#181818;stroke-width:1.0;\"/></a></g><!--MD5=[33238bef88d6431a141d8bc8fb12bca0]\n",
       "reverse link E1 to E5--><g id=\"link_E1_E5\"><a href=\"psysml:e0e8ad72-4177-4702-a62e-bf2c3ff4a78a\" target=\"_top\" title=\"psysml:e0e8ad72-4177-4702-a62e-bf2c3ff4a78a\" xlink:actuate=\"onRequest\" xlink:href=\"psysml:e0e8ad72-4177-4702-a62e-bf2c3ff4a78a\" xlink:show=\"new\" xlink:title=\"psysml:e0e8ad72-4177-4702-a62e-bf2c3ff4a78a\" xlink:type=\"simple\"><path d=\"M327.25,297.2 C327.25,297.2 327.25,343.73 327.25,343.73 \" fill=\"none\" id=\"E1-backto-E5\" style=\"stroke:#181818;stroke-width:1.0;\"/><polygon fill=\"#181818\" points=\"327.25,284.2,323.25,290.2,327.25,296.2,331.25,290.2,327.25,284.2\" style=\"stroke:#181818;stroke-width:1.0;\"/></a></g><!--MD5=[aca2ef284c2b1b90e17e73bf3f292c07]\n",
       "reverse link E1 to E6--><g id=\"link_E1_E6\"><a href=\"psysml:3e72a653-2f0b-4c94-896a-b70e2d6f389f\" target=\"_top\" title=\"psysml:3e72a653-2f0b-4c94-896a-b70e2d6f389f\" xlink:actuate=\"onRequest\" xlink:href=\"psysml:3e72a653-2f0b-4c94-896a-b70e2d6f389f\" xlink:show=\"new\" xlink:title=\"psysml:3e72a653-2f0b-4c94-896a-b70e2d6f389f\" xlink:type=\"simple\"><path d=\"M360.1,146 C360.1,146 425,146 425,146 C425,146 425,286.28 425,343.82 \" fill=\"none\" id=\"E1-backto-E6\" style=\"stroke:#181818;stroke-width:1.0;\"/><polygon fill=\"#181818\" points=\"347.1,146,353.1,150,359.1,146,353.1,142,347.1,146\" style=\"stroke:#181818;stroke-width:1.0;\"/></a></g><!--MD5=[6de4723d7b939b640ac87af9f4371d0e]\n",
       "@startuml\r\n",
       "skin sysmlbw\r\n",
       "skinparam monochrome true\r\n",
       "skinparam wrapWidth 300\r\n",
       "hide circle\r\n",
       "skinparam linetype ortho\r\n",
       "\r\n",
       "comp def \"DecisionTest\" as E1  <<(T,blue) action  def>> [[psysml:24509d73-250a-487a-bcd7-b59ee0863fbf ]] {\r\n",
       "##//attributes//##\r\n",
       "x <U+003D> 1\r\n",
       "- -\r\n",
       "##//actions//##\r\n",
       "A3\r\n",
       "- -\r\n",
       "##//successions//##\r\n",
       "noname first test x then null\r\n",
       "- -\r\n",
       "##//transitions//##\r\n",
       "\r\n",
       "\r\n",
       "\r\n",
       "\r\n",
       "\r\n",
       "\r\n",
       "S\r\n",
       "}\r\n",
       "comp usage \"test x  \" as E2  <<(T,blue) decision node>> [[psysml:7d99bd45-3b62-4bbf-b126-0db5f71d3136 ]] {\r\n",
       "}\r\n",
       "comp usage \"<s>noname</s>  \" as E3  <<(T,blue) decision node>> [[psysml:6dee609b-d6ae-4161-97b9-077c5f3bd0c2 ]] {\r\n",
       "}\r\n",
       "comp usage \"A1  \" as E4  <<(T,blue) action>> [[psysml:f539a78a-befd-4456-a49f-f3788a07e7bd ]] {\r\n",
       "}\r\n",
       "comp usage \"A2  \" as E5  <<(T,blue) action>> [[psysml:451b6b51-1ae2-4b81-be73-8fe0566d61d5 ]] {\r\n",
       "}\r\n",
       "comp usage \"A3  \" as E6  <<(T,blue) action>> [[psysml:04e53eda-a597-4a9c-96a9-348d67cb9847 ]] {\r\n",
       "}\r\n",
       "E1 *- - E2 [[psysml:0a57c05e-4dd3-44ad-ba12-51402458bbf0 ]] \r\n",
       "E2 - -> E3 [[psysml:df8d299f-9da3-41cd-a9dd-6e3a0d30decc ]] \r\n",
       "E1 *- - E3 [[psysml:5efd2738-c984-493d-a46e-1379d8b8bf4b ]] \r\n",
       "E1 *- - E4 [[psysml:867ae522-9684-4034-9c56-5f70d3a76b09 ]] \r\n",
       "E1 *- - E5 [[psysml:e0e8ad72-4177-4702-a62e-bf2c3ff4a78a ]] \r\n",
       "E1 *- - E6 [[psysml:3e72a653-2f0b-4c94-896a-b70e2d6f389f ]] \r\n",
       "@enduml\r\n",
       "\n",
       "PlantUML version 1.2022.7(Mon Aug 22 17:01:30 UTC 2022)\n",
       "(EPL source distribution)\n",
       "Java Runtime: OpenJDK Runtime Environment\n",
       "JVM: OpenJDK 64-Bit Server VM\n",
       "Default Encoding: UTF-8\n",
       "Language: en\n",
       "Country: null\n",
       "--></g></svg>"
      ]
     },
     "execution_count": 52,
     "metadata": {},
     "output_type": "execute_result"
    }
   ],
   "source": [
    "%viz --style=\"ORTHOLINE\" --view=\"Tree\" \"DecisionTest\""
   ]
  },
  {
   "cell_type": "code",
   "execution_count": 53,
   "id": "9658a09b",
   "metadata": {
    "execution": {
     "iopub.execute_input": "2024-12-16T03:28:04.320599Z",
     "iopub.status.busy": "2024-12-16T03:28:04.320352Z",
     "iopub.status.idle": "2024-12-16T03:28:04.333113Z",
     "shell.execute_reply": "2024-12-16T03:28:04.332918Z"
    }
   },
   "outputs": [
    {
     "data": {
      "image/svg+xml": [
       "<?xml version=\"1.0\" encoding=\"UTF-8\" standalone=\"no\"?><svg xmlns=\"http://www.w3.org/2000/svg\" xmlns:xlink=\"http://www.w3.org/1999/xlink\" contentStyleType=\"text/css\" height=\"10px\" preserveAspectRatio=\"none\" style=\"width:10px;height:10px;background:#FFFFFF;\" version=\"1.1\" viewBox=\"0 0 10 10\" width=\"10px\" zoomAndPan=\"magnify\"><defs/><g><!--MD5=[db5337d1ba6fd3a35e07e04988169323]\n",
       "@startuml\r\n",
       "skin sysmlbw\r\n",
       "skinparam monochrome true\r\n",
       "skinparam wrapWidth 300\r\n",
       "hide circle\r\n",
       "skinparam linetype ortho\r\n",
       "\r\n",
       "@enduml\r\n",
       "\n",
       "PlantUML version 1.2022.7(Mon Aug 22 17:01:30 UTC 2022)\n",
       "(EPL source distribution)\n",
       "Java Runtime: OpenJDK Runtime Environment\n",
       "JVM: OpenJDK 64-Bit Server VM\n",
       "Default Encoding: UTF-8\n",
       "Language: en\n",
       "Country: null\n",
       "--></g></svg>"
      ]
     },
     "execution_count": 53,
     "metadata": {},
     "output_type": "execute_result"
    }
   ],
   "source": [
    "%viz --style=\"ORTHOLINE\" --view=\"State\" \"DecisionTest\""
   ]
  },
  {
   "cell_type": "code",
   "execution_count": 54,
   "id": "92c324d3",
   "metadata": {
    "execution": {
     "iopub.execute_input": "2024-12-16T03:28:04.389312Z",
     "iopub.status.busy": "2024-12-16T03:28:04.389069Z",
     "iopub.status.idle": "2024-12-16T03:28:04.409037Z",
     "shell.execute_reply": "2024-12-16T03:28:04.408129Z"
    }
   },
   "outputs": [
    {
     "data": {
      "image/svg+xml": [
       "<?xml version=\"1.0\" encoding=\"UTF-8\" standalone=\"no\"?><svg xmlns=\"http://www.w3.org/2000/svg\" xmlns:xlink=\"http://www.w3.org/1999/xlink\" contentStyleType=\"text/css\" height=\"269px\" preserveAspectRatio=\"none\" style=\"width:256px;height:269px;background:#FFFFFF;\" version=\"1.1\" viewBox=\"0 0 256 269\" width=\"256px\" zoomAndPan=\"magnify\"><defs/><g><!--MD5=[fbc87193dbaf4d95561dea2c320d4a47]\n",
       "cluster E1--><g id=\"cluster_E1\"><a href=\"psysml:24509d73-250a-487a-bcd7-b59ee0863fbf\" target=\"_top\" title=\"psysml:24509d73-250a-487a-bcd7-b59ee0863fbf\" xlink:actuate=\"onRequest\" xlink:href=\"psysml:24509d73-250a-487a-bcd7-b59ee0863fbf\" xlink:show=\"new\" xlink:title=\"psysml:24509d73-250a-487a-bcd7-b59ee0863fbf\" xlink:type=\"simple\"><rect fill=\"#FFFFFF\" height=\"256\" id=\"E1\" style=\"stroke:#383838;stroke-width:1.5;\" width=\"225\" x=\"24\" y=\"7\"/><text fill=\"#000000\" font-family=\"sans-serif\" font-size=\"12\" font-style=\"italic\" lengthAdjust=\"spacing\" textLength=\"81\" x=\"96\" y=\"23.1387\">«action  def»</text><text fill=\"#000000\" font-family=\"sans-serif\" font-size=\"14\" lengthAdjust=\"spacing\" textLength=\"91\" x=\"91\" y=\"38.9639\">DecisionTest</text><line style=\"stroke:#383838;stroke-width:1.0;\" x1=\"24\" x2=\"249\" y1=\"47.2656\" y2=\"47.2656\"/></a></g><g id=\"elem_E2\"><polygon fill=\"#FFFFFF\" points=\"137,58,149,70,137,82,125,70,137,58\" style=\"stroke:#181818;stroke-width:0.5;\"/></g><g id=\"elem_E3\"><polygon fill=\"#FFFFFF\" points=\"52,102.5,64,114.5,52,126.5,40,114.5,52,102.5\" style=\"stroke:#181818;stroke-width:0.5;\"/></g><g><a href=\"psysml:f539a78a-befd-4456-a49f-f3788a07e7bd\" target=\"_top\" title=\"psysml:f539a78a-befd-4456-a49f-f3788a07e7bd\" xlink:actuate=\"onRequest\" xlink:href=\"psysml:f539a78a-befd-4456-a49f-f3788a07e7bd\" xlink:show=\"new\" xlink:title=\"psysml:f539a78a-befd-4456-a49f-f3788a07e7bd\" xlink:type=\"simple\"><rect fill=\"#FFFFFF\" height=\"45.2656\" id=\"E4\" rx=\"10\" ry=\"10\" style=\"stroke:#383838;stroke-width:1.5;\" width=\"60\" x=\"77\" y=\"147\"/><text fill=\"#000000\" font-family=\"sans-serif\" font-size=\"12\" font-style=\"italic\" lengthAdjust=\"spacing\" textLength=\"53\" x=\"80.5\" y=\"163.1387\">«action»</text><text fill=\"#000000\" font-family=\"sans-serif\" font-size=\"14\" lengthAdjust=\"spacing\" textLength=\"18\" x=\"98\" y=\"178.9639\">A1</text></a></g><g><a href=\"psysml:451b6b51-1ae2-4b81-be73-8fe0566d61d5\" target=\"_top\" title=\"psysml:451b6b51-1ae2-4b81-be73-8fe0566d61d5\" xlink:actuate=\"onRequest\" xlink:href=\"psysml:451b6b51-1ae2-4b81-be73-8fe0566d61d5\" xlink:show=\"new\" xlink:title=\"psysml:451b6b51-1ae2-4b81-be73-8fe0566d61d5\" xlink:type=\"simple\"><rect fill=\"#FFFFFF\" height=\"45.2656\" id=\"E5\" rx=\"10\" ry=\"10\" style=\"stroke:#383838;stroke-width:1.5;\" width=\"60\" x=\"77\" y=\"202\"/><text fill=\"#000000\" font-family=\"sans-serif\" font-size=\"12\" font-style=\"italic\" lengthAdjust=\"spacing\" textLength=\"53\" x=\"80.5\" y=\"218.1387\">«action»</text><text fill=\"#000000\" font-family=\"sans-serif\" font-size=\"14\" lengthAdjust=\"spacing\" textLength=\"18\" x=\"98\" y=\"233.9639\">A2</text></a></g><g><a href=\"psysml:04e53eda-a597-4a9c-96a9-348d67cb9847\" target=\"_top\" title=\"psysml:04e53eda-a597-4a9c-96a9-348d67cb9847\" xlink:actuate=\"onRequest\" xlink:href=\"psysml:04e53eda-a597-4a9c-96a9-348d67cb9847\" xlink:show=\"new\" xlink:title=\"psysml:04e53eda-a597-4a9c-96a9-348d67cb9847\" xlink:type=\"simple\"><rect fill=\"#FFFFFF\" height=\"45.2656\" id=\"E6\" rx=\"10\" ry=\"10\" style=\"stroke:#383838;stroke-width:1.5;\" width=\"60\" x=\"173\" y=\"92\"/><text fill=\"#000000\" font-family=\"sans-serif\" font-size=\"12\" font-style=\"italic\" lengthAdjust=\"spacing\" textLength=\"53\" x=\"176.5\" y=\"108.1387\">«action»</text><text fill=\"#000000\" font-family=\"sans-serif\" font-size=\"14\" lengthAdjust=\"spacing\" textLength=\"18\" x=\"194\" y=\"123.9639\">A3</text></a></g><!--MD5=[4d03bb2d0377dc85ccfab60ff574652b]\n",
       "link E2 to E4--><g id=\"link_E2_E4\"><a href=\"psysml:0e1095c8-d4f6-4449-8c10-0793e56d6528\" target=\"_top\" title=\"psysml:0e1095c8-d4f6-4449-8c10-0793e56d6528\" xlink:actuate=\"onRequest\" xlink:href=\"psysml:0e1095c8-d4f6-4449-8c10-0793e56d6528\" xlink:show=\"new\" xlink:title=\"psysml:0e1095c8-d4f6-4449-8c10-0793e56d6528\" xlink:type=\"simple\"><path d=\"M133,78.14 C133,78.14 133,141.86 133,141.86 \" fill=\"none\" id=\"E2-to-E4\" style=\"stroke:#181818;stroke-width:1.0;\"/><polygon fill=\"#181818\" points=\"133,146.86,137,137.86,133,141.86,129,137.86,133,146.86\" style=\"stroke:#181818;stroke-width:1.0;\"/><text fill=\"#000000\" font-family=\"sans-serif\" font-size=\"13\" lengthAdjust=\"spacing\" textLength=\"55\" x=\"77\" y=\"106.0669\">[x == 1]</text></a></g><!--MD5=[dcad52bbbca2fe8adc741ce38b45dc12]\n",
       "link E2 to E5--><g id=\"link_E2_E5\"><a href=\"psysml:0bc69c08-a059-419e-b618-d454e4819a50\" target=\"_top\" title=\"psysml:0bc69c08-a059-419e-b618-d454e4819a50\" xlink:actuate=\"onRequest\" xlink:href=\"psysml:0bc69c08-a059-419e-b618-d454e4819a50\" xlink:show=\"new\" xlink:title=\"psysml:0bc69c08-a059-419e-b618-d454e4819a50\" xlink:type=\"simple\"><path d=\"M140,79.23 C140,112.6 140,225 140,225 C140,225 139.74,225 139.74,225 \" fill=\"none\" id=\"E2-to-E5\" style=\"stroke:#181818;stroke-width:1.0;\"/><polygon fill=\"#181818\" points=\"137.41,225,146.41,229,142.41,225,146.41,221,137.41,225\" style=\"stroke:#181818;stroke-width:1.0;\"/><text fill=\"#000000\" font-family=\"sans-serif\" font-size=\"13\" lengthAdjust=\"spacing\" textLength=\"44\" x=\"141\" y=\"165.3169\">[x &gt; 1]</text></a></g><!--MD5=[e3e28c1befcf002155aa15e1416b4315]\n",
       "link E2 to E6--><g id=\"link_E2_E6\"><a href=\"psysml:7bfaba1c-8598-44bd-a9fd-5f850f0b7fd7\" target=\"_top\" title=\"psysml:7bfaba1c-8598-44bd-a9fd-5f850f0b7fd7\" xlink:actuate=\"onRequest\" xlink:href=\"psysml:7bfaba1c-8598-44bd-a9fd-5f850f0b7fd7\" xlink:show=\"new\" xlink:title=\"psysml:7bfaba1c-8598-44bd-a9fd-5f850f0b7fd7\" xlink:type=\"simple\"><path d=\"M146,73.19 C146,80.13 146,96 146,96 C146,96 167.83,96 167.83,96 \" fill=\"none\" id=\"E2-to-E6\" style=\"stroke:#181818;stroke-width:1.0;\"/><polygon fill=\"#181818\" points=\"172.83,96,163.83,92,167.83,96,163.83,100,172.83,96\" style=\"stroke:#181818;stroke-width:1.0;\"/></a></g><!--MD5=[2351f337d6de0f557b50152ba70847b5]\n",
       "link E6 to E2--><g id=\"link_E6_E2\"><a href=\"psysml:31538477-4a34-40a9-aec8-5df805757767\" target=\"_top\" title=\"psysml:31538477-4a34-40a9-aec8-5df805757767\" xlink:actuate=\"onRequest\" xlink:href=\"psysml:31538477-4a34-40a9-aec8-5df805757767\" xlink:show=\"new\" xlink:title=\"psysml:31538477-4a34-40a9-aec8-5df805757767\" xlink:type=\"simple\"><path d=\"M173,99 C158,99 143,99 143,99 C143,99 143,81.15 143,81.15 \" fill=\"none\" id=\"E6-to-E2\" style=\"stroke:#181818;stroke-width:1.0;\"/><polygon fill=\"#181818\" points=\"143,76.15,139,85.15,143,81.15,147,85.15,143,76.15\" style=\"stroke:#181818;stroke-width:1.0;\"/><text fill=\"#000000\" font-family=\"sans-serif\" font-size=\"13\" lengthAdjust=\"spacing\" textLength=\"44\" x=\"127.08\" y=\"112.0669\">[x &gt; 0]</text></a></g><!--MD5=[2720a5a1f2c3fca2055b230370638851]\n",
       "link E2 to E3--><g id=\"link_E2_E3\"><a href=\"psysml:df8d299f-9da3-41cd-a9dd-6e3a0d30decc\" target=\"_top\" title=\"psysml:df8d299f-9da3-41cd-a9dd-6e3a0d30decc\" xlink:actuate=\"onRequest\" xlink:href=\"psysml:df8d299f-9da3-41cd-a9dd-6e3a0d30decc\" xlink:show=\"new\" xlink:title=\"psysml:df8d299f-9da3-41cd-a9dd-6e3a0d30decc\" xlink:type=\"simple\"><path d=\"M129,74.15 C129,85.29 129,115 129,115 C129,115 68.69,115 68.69,115 \" fill=\"none\" id=\"E2-to-E3\" style=\"stroke:#181818;stroke-width:1.0;\"/><polygon fill=\"#181818\" points=\"63.69,115,72.69,119,68.69,115,72.69,111,63.69,115\" style=\"stroke:#181818;stroke-width:1.0;\"/></a></g><!--MD5=[af87c684e3b0d8be13c1a698a818ef1e]\n",
       "link E3 to E4--><g id=\"link_E3_E4\"><a href=\"psysml:131b15c1-7866-4964-88c1-b03f264417a9\" target=\"_top\" title=\"psysml:131b15c1-7866-4964-88c1-b03f264417a9\" xlink:actuate=\"onRequest\" xlink:href=\"psysml:131b15c1-7866-4964-88c1-b03f264417a9\" xlink:show=\"new\" xlink:title=\"psysml:131b15c1-7866-4964-88c1-b03f264417a9\" xlink:type=\"simple\"><path d=\"M56,122.69 C56,138.13 56,170 56,170 C56,170 71.74,170 71.74,170 \" fill=\"none\" id=\"E3-to-E4\" style=\"stroke:#181818;stroke-width:1.0;\"/><polygon fill=\"#181818\" points=\"76.74,170,67.74,166,71.74,170,67.74,174,76.74,170\" style=\"stroke:#181818;stroke-width:1.0;\"/><text fill=\"#000000\" font-family=\"sans-serif\" font-size=\"13\" lengthAdjust=\"spacing\" textLength=\"36\" x=\"19\" y=\"150.2869\">[true]</text></a></g><!--MD5=[0188b64bb0ae78505a997a81836e11e9]\n",
       "link E3 to E5--><g id=\"link_E3_E5\"><a href=\"psysml:825f54b9-3c70-45c0-b332-e5b9a5c4b905\" target=\"_top\" title=\"psysml:825f54b9-3c70-45c0-b332-e5b9a5c4b905\" xlink:actuate=\"onRequest\" xlink:href=\"psysml:825f54b9-3c70-45c0-b332-e5b9a5c4b905\" xlink:show=\"new\" xlink:title=\"psysml:825f54b9-3c70-45c0-b332-e5b9a5c4b905\" xlink:type=\"simple\"><path d=\"M48,122.81 C48,148.5 48,225 48,225 C48,225 71.81,225 71.81,225 \" fill=\"none\" id=\"E3-to-E5\" style=\"stroke:#181818;stroke-width:1.0;\"/><polygon fill=\"#181818\" points=\"76.81,225,67.81,221,71.81,225,67.81,229,76.81,225\" style=\"stroke:#181818;stroke-width:1.0;\"/><text fill=\"#000000\" font-family=\"sans-serif\" font-size=\"13\" lengthAdjust=\"spacing\" textLength=\"40\" x=\"7\" y=\"181.8769\">[false]</text></a></g><!--MD5=[1b7591eae5389033d8d09a9d6721a717]\n",
       "link E4 to E5--><g id=\"link_E4_E5\"><a href=\"psysml:b3779ea1-0b8c-4465-ae00-48dbba13ac92\" target=\"_top\" title=\"psysml:b3779ea1-0b8c-4465-ae00-48dbba13ac92\" xlink:actuate=\"onRequest\" xlink:href=\"psysml:b3779ea1-0b8c-4465-ae00-48dbba13ac92\" xlink:show=\"new\" xlink:title=\"psysml:b3779ea1-0b8c-4465-ae00-48dbba13ac92\" xlink:type=\"simple\"><path d=\"M107,192.19 C107,192.19 107,196.86 107,196.86 \" fill=\"none\" id=\"E4-to-E5\" style=\"stroke:#181818;stroke-width:1.0;\"/><polygon fill=\"#181818\" points=\"107,201.86,111,192.86,107,196.86,103,192.86,107,201.86\" style=\"stroke:#181818;stroke-width:1.0;\"/><text fill=\"#000000\" font-family=\"sans-serif\" font-size=\"13\" lengthAdjust=\"spacing\" textLength=\"55\" x=\"51\" y=\"207.5969\">[x == 0]</text></a></g><!--MD5=[73853afc14dac38c88307be8952838ab]\n",
       "@startuml\r\n",
       "skin sysmlbw\r\n",
       "skinparam monochrome true\r\n",
       "skinparam wrapWidth 300\r\n",
       "hide circle\r\n",
       "skinparam linetype ortho\r\n",
       "skinparam ranksep 10\r\n",
       "skinparam rectangle {\r\n",
       " backgroundColor<<block>> LightGreen\r\n",
       "}\r\n",
       "\r\n",
       "rec def \"DecisionTest\" as E1  <<(T,blue) action  def>> [[psysml:24509d73-250a-487a-bcd7-b59ee0863fbf ]] {\r\n",
       "choice \"test x\" as E2  [[psysml:7d99bd45-3b62-4bbf-b126-0db5f71d3136 ]] \r\n",
       "choice \"<s>noname</s>\" as E3  [[psysml:6dee609b-d6ae-4161-97b9-077c5f3bd0c2 ]] \r\n",
       "rec usage \"A1\" as E4  <<(T,blue) action>> [[psysml:f539a78a-befd-4456-a49f-f3788a07e7bd ]] {\r\n",
       "}\r\n",
       "\r\n",
       "rec usage \"A2\" as E5  <<(T,blue) action>> [[psysml:451b6b51-1ae2-4b81-be73-8fe0566d61d5 ]] {\r\n",
       "}\r\n",
       "\r\n",
       "rec usage \"A3\" as E6  <<(T,blue) action>> [[psysml:04e53eda-a597-4a9c-96a9-348d67cb9847 ]] {\r\n",
       "}\r\n",
       "\r\n",
       "}\r\n",
       "\r\n",
       "E2  - -> E4 [[psysml:0e1095c8-d4f6-4449-8c10-0793e56d6528 ]] : [x == 1]\r\n",
       "E2  - -> E5 [[psysml:0bc69c08-a059-419e-b618-d454e4819a50 ]] : [x > 1]\r\n",
       "E2  - -> E6 [[psysml:7bfaba1c-8598-44bd-a9fd-5f850f0b7fd7 ]] \r\n",
       "E2 - -> E3 [[psysml:df8d299f-9da3-41cd-a9dd-6e3a0d30decc ]] \r\n",
       "E3  - -> E4 [[psysml:131b15c1-7866-4964-88c1-b03f264417a9 ]] : [true]\r\n",
       "E3  - -> E5 [[psysml:825f54b9-3c70-45c0-b332-e5b9a5c4b905 ]] : [false]\r\n",
       "E4  - -> E5 [[psysml:b3779ea1-0b8c-4465-ae00-48dbba13ac92 ]] : [x == 0]\r\n",
       "E6  - -> E2 [[psysml:31538477-4a34-40a9-aec8-5df805757767 ]] : [x > 0]\r\n",
       "@enduml\r\n",
       "\n",
       "PlantUML version 1.2022.7(Mon Aug 22 17:01:30 UTC 2022)\n",
       "(EPL source distribution)\n",
       "Java Runtime: OpenJDK Runtime Environment\n",
       "JVM: OpenJDK 64-Bit Server VM\n",
       "Default Encoding: UTF-8\n",
       "Language: en\n",
       "Country: null\n",
       "--></g></svg>"
      ]
     },
     "execution_count": 54,
     "metadata": {},
     "output_type": "execute_result"
    }
   ],
   "source": [
    "%viz --style=\"ORTHOLINE\" --view=\"Interconnection\" \"DecisionTest\""
   ]
  },
  {
   "cell_type": "code",
   "execution_count": 55,
   "id": "70a938db",
   "metadata": {
    "execution": {
     "iopub.execute_input": "2024-12-16T03:28:04.463762Z",
     "iopub.status.busy": "2024-12-16T03:28:04.463538Z",
     "iopub.status.idle": "2024-12-16T03:28:04.479130Z",
     "shell.execute_reply": "2024-12-16T03:28:04.478193Z"
    }
   },
   "outputs": [
    {
     "data": {
      "image/svg+xml": [
       "<?xml version=\"1.0\" encoding=\"UTF-8\" standalone=\"no\"?><svg xmlns=\"http://www.w3.org/2000/svg\" xmlns:xlink=\"http://www.w3.org/1999/xlink\" contentStyleType=\"text/css\" height=\"263px\" preserveAspectRatio=\"none\" style=\"width:256px;height:263px;background:#FFFFFF;\" version=\"1.1\" viewBox=\"0 0 256 263\" width=\"256px\" zoomAndPan=\"magnify\"><defs/><g><!--MD5=[fbc87193dbaf4d95561dea2c320d4a47]\n",
       "cluster E1--><g id=\"cluster_E1\"><a href=\"psysml:24509d73-250a-487a-bcd7-b59ee0863fbf\" target=\"_top\" title=\"psysml:24509d73-250a-487a-bcd7-b59ee0863fbf\" xlink:actuate=\"onRequest\" xlink:href=\"psysml:24509d73-250a-487a-bcd7-b59ee0863fbf\" xlink:show=\"new\" xlink:title=\"psysml:24509d73-250a-487a-bcd7-b59ee0863fbf\" xlink:type=\"simple\"><rect fill=\"#FFFFFF\" height=\"250\" id=\"E1\" style=\"stroke:#383838;stroke-width:1.5;\" width=\"225\" x=\"24\" y=\"7\"/><text fill=\"#000000\" font-family=\"sans-serif\" font-size=\"12\" font-style=\"italic\" lengthAdjust=\"spacing\" textLength=\"81\" x=\"96\" y=\"23.1387\">«action  def»</text><text fill=\"#000000\" font-family=\"sans-serif\" font-size=\"14\" lengthAdjust=\"spacing\" textLength=\"91\" x=\"91\" y=\"38.9639\">DecisionTest</text><line style=\"stroke:#383838;stroke-width:1.0;\" x1=\"24\" x2=\"249\" y1=\"47.2656\" y2=\"47.2656\"/></a></g><g id=\"elem_E2\"><polygon fill=\"#FFFFFF\" points=\"137,58,149,70,137,82,125,70,137,58\" style=\"stroke:#181818;stroke-width:0.5;\"/></g><g id=\"elem_E3\"><polygon fill=\"#FFFFFF\" points=\"52,100.5,64,112.5,52,124.5,40,112.5,52,100.5\" style=\"stroke:#181818;stroke-width:0.5;\"/></g><g><a href=\"psysml:f539a78a-befd-4456-a49f-f3788a07e7bd\" target=\"_top\" title=\"psysml:f539a78a-befd-4456-a49f-f3788a07e7bd\" xlink:actuate=\"onRequest\" xlink:href=\"psysml:f539a78a-befd-4456-a49f-f3788a07e7bd\" xlink:show=\"new\" xlink:title=\"psysml:f539a78a-befd-4456-a49f-f3788a07e7bd\" xlink:type=\"simple\"><rect fill=\"#FFFFFF\" height=\"45.2656\" id=\"E4\" rx=\"10\" ry=\"10\" style=\"stroke:#383838;stroke-width:1.5;\" width=\"60\" x=\"77\" y=\"143\"/><text fill=\"#000000\" font-family=\"sans-serif\" font-size=\"12\" font-style=\"italic\" lengthAdjust=\"spacing\" textLength=\"53\" x=\"80.5\" y=\"159.1387\">«action»</text><text fill=\"#000000\" font-family=\"sans-serif\" font-size=\"14\" lengthAdjust=\"spacing\" textLength=\"18\" x=\"98\" y=\"174.9639\">A1</text></a></g><g><a href=\"psysml:451b6b51-1ae2-4b81-be73-8fe0566d61d5\" target=\"_top\" title=\"psysml:451b6b51-1ae2-4b81-be73-8fe0566d61d5\" xlink:actuate=\"onRequest\" xlink:href=\"psysml:451b6b51-1ae2-4b81-be73-8fe0566d61d5\" xlink:show=\"new\" xlink:title=\"psysml:451b6b51-1ae2-4b81-be73-8fe0566d61d5\" xlink:type=\"simple\"><rect fill=\"#FFFFFF\" height=\"45.2656\" id=\"E5\" rx=\"10\" ry=\"10\" style=\"stroke:#383838;stroke-width:1.5;\" width=\"60\" x=\"77\" y=\"196\"/><text fill=\"#000000\" font-family=\"sans-serif\" font-size=\"12\" font-style=\"italic\" lengthAdjust=\"spacing\" textLength=\"53\" x=\"80.5\" y=\"212.1387\">«action»</text><text fill=\"#000000\" font-family=\"sans-serif\" font-size=\"14\" lengthAdjust=\"spacing\" textLength=\"18\" x=\"98\" y=\"227.9639\">A2</text></a></g><g><a href=\"psysml:04e53eda-a597-4a9c-96a9-348d67cb9847\" target=\"_top\" title=\"psysml:04e53eda-a597-4a9c-96a9-348d67cb9847\" xlink:actuate=\"onRequest\" xlink:href=\"psysml:04e53eda-a597-4a9c-96a9-348d67cb9847\" xlink:show=\"new\" xlink:title=\"psysml:04e53eda-a597-4a9c-96a9-348d67cb9847\" xlink:type=\"simple\"><rect fill=\"#FFFFFF\" height=\"45.2656\" id=\"E6\" rx=\"10\" ry=\"10\" style=\"stroke:#383838;stroke-width:1.5;\" width=\"60\" x=\"173\" y=\"90\"/><text fill=\"#000000\" font-family=\"sans-serif\" font-size=\"12\" font-style=\"italic\" lengthAdjust=\"spacing\" textLength=\"53\" x=\"176.5\" y=\"106.1387\">«action»</text><text fill=\"#000000\" font-family=\"sans-serif\" font-size=\"14\" lengthAdjust=\"spacing\" textLength=\"18\" x=\"194\" y=\"121.9639\">A3</text></a></g><!--MD5=[4d03bb2d0377dc85ccfab60ff574652b]\n",
       "link E2 to E4--><g id=\"link_E2_E4\"><a href=\"psysml:0e1095c8-d4f6-4449-8c10-0793e56d6528\" target=\"_top\" title=\"psysml:0e1095c8-d4f6-4449-8c10-0793e56d6528\" xlink:actuate=\"onRequest\" xlink:href=\"psysml:0e1095c8-d4f6-4449-8c10-0793e56d6528\" xlink:show=\"new\" xlink:title=\"psysml:0e1095c8-d4f6-4449-8c10-0793e56d6528\" xlink:type=\"simple\"><path d=\"M133,78.14 C133,78.14 133,137.77 133,137.77 \" fill=\"none\" id=\"E2-to-E4\" style=\"stroke:#181818;stroke-width:1.0;stroke-dasharray:7.0,7.0;\"/><polygon fill=\"#181818\" points=\"133,142.77,137,133.77,133,137.77,129,133.77,133,142.77\" style=\"stroke:#181818;stroke-width:1.0;\"/><text fill=\"#000000\" font-family=\"sans-serif\" font-size=\"13\" lengthAdjust=\"spacing\" textLength=\"55\" x=\"77\" y=\"104.0169\">[x == 1]</text></a></g><!--MD5=[dcad52bbbca2fe8adc741ce38b45dc12]\n",
       "link E2 to E5--><g id=\"link_E2_E5\"><a href=\"psysml:0bc69c08-a059-419e-b618-d454e4819a50\" target=\"_top\" title=\"psysml:0bc69c08-a059-419e-b618-d454e4819a50\" xlink:actuate=\"onRequest\" xlink:href=\"psysml:0bc69c08-a059-419e-b618-d454e4819a50\" xlink:show=\"new\" xlink:title=\"psysml:0bc69c08-a059-419e-b618-d454e4819a50\" xlink:type=\"simple\"><path d=\"M140,79.32 C140,111.94 140,219 140,219 C140,219 139.74,219 139.74,219 \" fill=\"none\" id=\"E2-to-E5\" style=\"stroke:#181818;stroke-width:1.0;stroke-dasharray:7.0,7.0;\"/><polygon fill=\"#181818\" points=\"137.41,219,146.41,223,142.41,219,146.41,215,137.41,219\" style=\"stroke:#181818;stroke-width:1.0;\"/><text fill=\"#000000\" font-family=\"sans-serif\" font-size=\"13\" lengthAdjust=\"spacing\" textLength=\"44\" x=\"141\" y=\"162.3569\">[x &gt; 1]</text></a></g><!--MD5=[e3e28c1befcf002155aa15e1416b4315]\n",
       "link E2 to E6--><g id=\"link_E2_E6\"><a href=\"psysml:7bfaba1c-8598-44bd-a9fd-5f850f0b7fd7\" target=\"_top\" title=\"psysml:7bfaba1c-8598-44bd-a9fd-5f850f0b7fd7\" xlink:actuate=\"onRequest\" xlink:href=\"psysml:7bfaba1c-8598-44bd-a9fd-5f850f0b7fd7\" xlink:show=\"new\" xlink:title=\"psysml:7bfaba1c-8598-44bd-a9fd-5f850f0b7fd7\" xlink:type=\"simple\"><path d=\"M146,73.34 C146,79.93 146,94 146,94 C146,94 167.83,94 167.83,94 \" fill=\"none\" id=\"E2-to-E6\" style=\"stroke:#181818;stroke-width:1.0;stroke-dasharray:7.0,7.0;\"/><polygon fill=\"#181818\" points=\"172.83,94,163.83,90,167.83,94,163.83,98,172.83,94\" style=\"stroke:#181818;stroke-width:1.0;\"/></a></g><!--MD5=[2351f337d6de0f557b50152ba70847b5]\n",
       "link E6 to E2--><g id=\"link_E6_E2\"><a href=\"psysml:31538477-4a34-40a9-aec8-5df805757767\" target=\"_top\" title=\"psysml:31538477-4a34-40a9-aec8-5df805757767\" xlink:actuate=\"onRequest\" xlink:href=\"psysml:31538477-4a34-40a9-aec8-5df805757767\" xlink:show=\"new\" xlink:title=\"psysml:31538477-4a34-40a9-aec8-5df805757767\" xlink:type=\"simple\"><path d=\"M173,97 C158,97 143,97 143,97 C143,97 143,81.26 143,81.26 \" fill=\"none\" id=\"E6-to-E2\" style=\"stroke:#181818;stroke-width:1.0;stroke-dasharray:7.0,7.0;\"/><polygon fill=\"#181818\" points=\"143,76.26,139,85.26,143,81.26,147,85.26,143,76.26\" style=\"stroke:#181818;stroke-width:1.0;\"/><text fill=\"#000000\" font-family=\"sans-serif\" font-size=\"13\" lengthAdjust=\"spacing\" textLength=\"44\" x=\"128.13\" y=\"110.0669\">[x &gt; 0]</text></a></g><!--MD5=[2720a5a1f2c3fca2055b230370638851]\n",
       "link E2 to E3--><g id=\"link_E2_E3\"><a href=\"psysml:df8d299f-9da3-41cd-a9dd-6e3a0d30decc\" target=\"_top\" title=\"psysml:df8d299f-9da3-41cd-a9dd-6e3a0d30decc\" xlink:actuate=\"onRequest\" xlink:href=\"psysml:df8d299f-9da3-41cd-a9dd-6e3a0d30decc\" xlink:show=\"new\" xlink:title=\"psysml:df8d299f-9da3-41cd-a9dd-6e3a0d30decc\" xlink:type=\"simple\"><path d=\"M129,74.28 C129,85.16 129,113 129,113 C129,113 68.69,113 68.69,113 \" fill=\"none\" id=\"E2-to-E3\" style=\"stroke:#181818;stroke-width:1.0;stroke-dasharray:7.0,7.0;\"/><polygon fill=\"#181818\" points=\"63.69,113,72.69,117,68.69,113,72.69,109,63.69,113\" style=\"stroke:#181818;stroke-width:1.0;\"/></a></g><!--MD5=[af87c684e3b0d8be13c1a698a818ef1e]\n",
       "link E3 to E4--><g id=\"link_E3_E4\"><a href=\"psysml:131b15c1-7866-4964-88c1-b03f264417a9\" target=\"_top\" title=\"psysml:131b15c1-7866-4964-88c1-b03f264417a9\" xlink:actuate=\"onRequest\" xlink:href=\"psysml:131b15c1-7866-4964-88c1-b03f264417a9\" xlink:show=\"new\" xlink:title=\"psysml:131b15c1-7866-4964-88c1-b03f264417a9\" xlink:type=\"simple\"><path d=\"M56,120.86 C56,135.91 56,166 56,166 C56,166 71.74,166 71.74,166 \" fill=\"none\" id=\"E3-to-E4\" style=\"stroke:#181818;stroke-width:1.0;stroke-dasharray:7.0,7.0;\"/><polygon fill=\"#181818\" points=\"76.74,166,67.74,162,71.74,166,67.74,170,76.74,166\" style=\"stroke:#181818;stroke-width:1.0;\"/><text fill=\"#000000\" font-family=\"sans-serif\" font-size=\"13\" lengthAdjust=\"spacing\" textLength=\"36\" x=\"19\" y=\"147.3669\">[true]</text></a></g><!--MD5=[0188b64bb0ae78505a997a81836e11e9]\n",
       "link E3 to E5--><g id=\"link_E3_E5\"><a href=\"psysml:825f54b9-3c70-45c0-b332-e5b9a5c4b905\" target=\"_top\" title=\"psysml:825f54b9-3c70-45c0-b332-e5b9a5c4b905\" xlink:actuate=\"onRequest\" xlink:href=\"psysml:825f54b9-3c70-45c0-b332-e5b9a5c4b905\" xlink:show=\"new\" xlink:title=\"psysml:825f54b9-3c70-45c0-b332-e5b9a5c4b905\" xlink:type=\"simple\"><path d=\"M48,120.5 C48,145.27 48,219 48,219 C48,219 71.81,219 71.81,219 \" fill=\"none\" id=\"E3-to-E5\" style=\"stroke:#181818;stroke-width:1.0;stroke-dasharray:7.0,7.0;\"/><polygon fill=\"#181818\" points=\"76.81,219,67.81,215,71.81,219,67.81,223,76.81,219\" style=\"stroke:#181818;stroke-width:1.0;\"/><text fill=\"#000000\" font-family=\"sans-serif\" font-size=\"13\" lengthAdjust=\"spacing\" textLength=\"40\" x=\"7\" y=\"177.7269\">[false]</text></a></g><!--MD5=[1b7591eae5389033d8d09a9d6721a717]\n",
       "link E4 to E5--><g id=\"link_E4_E5\"><a href=\"psysml:b3779ea1-0b8c-4465-ae00-48dbba13ac92\" target=\"_top\" title=\"psysml:b3779ea1-0b8c-4465-ae00-48dbba13ac92\" xlink:actuate=\"onRequest\" xlink:href=\"psysml:b3779ea1-0b8c-4465-ae00-48dbba13ac92\" xlink:show=\"new\" xlink:title=\"psysml:b3779ea1-0b8c-4465-ae00-48dbba13ac92\" xlink:type=\"simple\"><path d=\"M107,188.28 C107,188.28 107,190.73 107,190.73 \" fill=\"none\" id=\"E4-to-E5\" style=\"stroke:#181818;stroke-width:1.0;stroke-dasharray:7.0,7.0;\"/><polygon fill=\"#181818\" points=\"107,195.73,111,186.73,107,190.73,103,186.73,107,195.73\" style=\"stroke:#181818;stroke-width:1.0;\"/><text fill=\"#000000\" font-family=\"sans-serif\" font-size=\"13\" lengthAdjust=\"spacing\" textLength=\"55\" x=\"51\" y=\"202.5769\">[x == 0]</text></a></g><!--MD5=[4dac91345cd0becfb238a1e57d2a96c4]\n",
       "@startuml\r\n",
       "skin sysmlbw\r\n",
       "skinparam monochrome true\r\n",
       "skinparam wrapWidth 300\r\n",
       "hide circle\r\n",
       "skinparam linetype ortho\r\n",
       "skinparam ranksep 8\r\n",
       "\r\n",
       "rec def \"DecisionTest\" as E1  <<(T,blue) action  def>> [[psysml:24509d73-250a-487a-bcd7-b59ee0863fbf ]] {\r\n",
       "choice \"test x\" as E2  [[psysml:7d99bd45-3b62-4bbf-b126-0db5f71d3136 ]] \r\n",
       "choice \"<s>noname</s>\" as E3  [[psysml:6dee609b-d6ae-4161-97b9-077c5f3bd0c2 ]] \r\n",
       "rec usage \"A1\" as E4  <<(T,blue) action>> [[psysml:f539a78a-befd-4456-a49f-f3788a07e7bd ]] {\r\n",
       "}\r\n",
       "\r\n",
       "rec usage \"A2\" as E5  <<(T,blue) action>> [[psysml:451b6b51-1ae2-4b81-be73-8fe0566d61d5 ]] {\r\n",
       "}\r\n",
       "\r\n",
       "rec usage \"A3\" as E6  <<(T,blue) action>> [[psysml:04e53eda-a597-4a9c-96a9-348d67cb9847 ]] {\r\n",
       "}\r\n",
       "\r\n",
       "}\r\n",
       "\r\n",
       "E2 ..> E4 [[psysml:0e1095c8-d4f6-4449-8c10-0793e56d6528 ]] : [x == 1]\r\n",
       "E2 ..> E5 [[psysml:0bc69c08-a059-419e-b618-d454e4819a50 ]] : [x > 1]\r\n",
       "E2 ..> E6 [[psysml:7bfaba1c-8598-44bd-a9fd-5f850f0b7fd7 ]] \r\n",
       "E2 ..> E3 [[psysml:df8d299f-9da3-41cd-a9dd-6e3a0d30decc ]] \r\n",
       "E3 ..> E4 [[psysml:131b15c1-7866-4964-88c1-b03f264417a9 ]] : [true]\r\n",
       "E3 ..> E5 [[psysml:825f54b9-3c70-45c0-b332-e5b9a5c4b905 ]] : [false]\r\n",
       "E4 ..> E5 [[psysml:b3779ea1-0b8c-4465-ae00-48dbba13ac92 ]] : [x == 0]\r\n",
       "E6 ..> E2 [[psysml:31538477-4a34-40a9-aec8-5df805757767 ]] : [x > 0]\r\n",
       "@enduml\r\n",
       "\n",
       "PlantUML version 1.2022.7(Mon Aug 22 17:01:30 UTC 2022)\n",
       "(EPL source distribution)\n",
       "Java Runtime: OpenJDK Runtime Environment\n",
       "JVM: OpenJDK 64-Bit Server VM\n",
       "Default Encoding: UTF-8\n",
       "Language: en\n",
       "Country: null\n",
       "--></g></svg>"
      ]
     },
     "execution_count": 55,
     "metadata": {},
     "output_type": "execute_result"
    }
   ],
   "source": [
    "%viz --style=\"ORTHOLINE\" --view=\"Action\" \"DecisionTest\""
   ]
  },
  {
   "cell_type": "code",
   "execution_count": 56,
   "id": "1245778b",
   "metadata": {
    "execution": {
     "iopub.execute_input": "2024-12-16T03:28:04.532526Z",
     "iopub.status.busy": "2024-12-16T03:28:04.532248Z",
     "iopub.status.idle": "2024-12-16T03:28:04.545053Z",
     "shell.execute_reply": "2024-12-16T03:28:04.544863Z"
    }
   },
   "outputs": [
    {
     "data": {
      "image/svg+xml": [
       "<?xml version=\"1.0\" encoding=\"UTF-8\" standalone=\"no\"?><svg xmlns=\"http://www.w3.org/2000/svg\" xmlns:xlink=\"http://www.w3.org/1999/xlink\" contentStyleType=\"text/css\" height=\"10px\" preserveAspectRatio=\"none\" style=\"width:10px;height:10px;background:#FFFFFF;\" version=\"1.1\" viewBox=\"0 0 10 10\" width=\"10px\" zoomAndPan=\"magnify\"><defs/><g><!--MD5=[5b6eb85285460e34b0e63326afe72cc5]\n",
       "@startuml\r\n",
       "skin sysmlbw\r\n",
       "skinparam monochrome true\r\n",
       "skinparam wrapWidth 300\r\n",
       "hide circle\r\n",
       "skinparam linetype ortho\r\n",
       "skinparam roundcorner 20\r\n",
       "skinparam BoxPadding 20\r\n",
       "skinparam SequenceBoxBackgroundColor #white\r\n",
       "skinparam style strictuml\r\n",
       "skinparam maxMessageSize 100\r\n",
       "\r\n",
       "@enduml\r\n",
       "\n",
       "PlantUML version 1.2022.7(Mon Aug 22 17:01:30 UTC 2022)\n",
       "(EPL source distribution)\n",
       "Java Runtime: OpenJDK Runtime Environment\n",
       "JVM: OpenJDK 64-Bit Server VM\n",
       "Default Encoding: UTF-8\n",
       "Language: en\n",
       "Country: null\n",
       "--></g></svg>"
      ]
     },
     "execution_count": 56,
     "metadata": {},
     "output_type": "execute_result"
    }
   ],
   "source": [
    "%viz --style=\"ORTHOLINE\" --view=\"Sequence\" \"DecisionTest\""
   ]
  },
  {
   "cell_type": "code",
   "execution_count": 57,
   "id": "e5bd0ca4",
   "metadata": {
    "execution": {
     "iopub.execute_input": "2024-12-16T03:28:04.597907Z",
     "iopub.status.busy": "2024-12-16T03:28:04.597661Z",
     "iopub.status.idle": "2024-12-16T03:28:04.616603Z",
     "shell.execute_reply": "2024-12-16T03:28:04.615717Z"
    }
   },
   "outputs": [
    {
     "data": {
      "image/svg+xml": [
       "<?xml version=\"1.0\" encoding=\"UTF-8\" standalone=\"no\"?><svg xmlns=\"http://www.w3.org/2000/svg\" xmlns:xlink=\"http://www.w3.org/1999/xlink\" contentStyleType=\"text/css\" height=\"419px\" preserveAspectRatio=\"none\" style=\"width:256px;height:419px;background:#FFFFFF;\" version=\"1.1\" viewBox=\"0 0 256 419\" width=\"256px\" zoomAndPan=\"magnify\"><defs/><g><!--MD5=[fbc87193dbaf4d95561dea2c320d4a47]\n",
       "cluster E1--><g id=\"cluster_E1\"><a href=\"psysml:24509d73-250a-487a-bcd7-b59ee0863fbf\" target=\"_top\" title=\"psysml:24509d73-250a-487a-bcd7-b59ee0863fbf\" xlink:actuate=\"onRequest\" xlink:href=\"psysml:24509d73-250a-487a-bcd7-b59ee0863fbf\" xlink:show=\"new\" xlink:title=\"psysml:24509d73-250a-487a-bcd7-b59ee0863fbf\" xlink:type=\"simple\"><rect fill=\"#FFFFFF\" height=\"406\" id=\"E1\" style=\"stroke:#383838;stroke-width:1.5;\" width=\"225\" x=\"24\" y=\"7\"/><text fill=\"#000000\" font-family=\"sans-serif\" font-size=\"12\" font-style=\"italic\" lengthAdjust=\"spacing\" textLength=\"81\" x=\"96\" y=\"23.1387\">«action  def»</text><text fill=\"#000000\" font-family=\"sans-serif\" font-size=\"14\" lengthAdjust=\"spacing\" textLength=\"91\" x=\"91\" y=\"38.9639\">DecisionTest</text><line style=\"stroke:#383838;stroke-width:1.0;\" x1=\"24\" x2=\"249\" y1=\"47.2656\" y2=\"47.2656\"/></a></g><g id=\"elem_E2\"><polygon fill=\"#FFFFFF\" points=\"137,58,149,70,137,82,125,70,137,58\" style=\"stroke:#181818;stroke-width:0.5;\"/></g><g id=\"elem_E3\"><polygon fill=\"#FFFFFF\" points=\"52,152.5,64,164.5,52,176.5,40,164.5,52,152.5\" style=\"stroke:#181818;stroke-width:0.5;\"/></g><g><a href=\"psysml:f539a78a-befd-4456-a49f-f3788a07e7bd\" target=\"_top\" title=\"psysml:f539a78a-befd-4456-a49f-f3788a07e7bd\" xlink:actuate=\"onRequest\" xlink:href=\"psysml:f539a78a-befd-4456-a49f-f3788a07e7bd\" xlink:show=\"new\" xlink:title=\"psysml:f539a78a-befd-4456-a49f-f3788a07e7bd\" xlink:type=\"simple\"><rect fill=\"#FFFFFF\" height=\"45.2656\" id=\"E4\" rx=\"10\" ry=\"10\" style=\"stroke:#383838;stroke-width:1.5;\" width=\"60\" x=\"77\" y=\"247\"/><text fill=\"#000000\" font-family=\"sans-serif\" font-size=\"12\" font-style=\"italic\" lengthAdjust=\"spacing\" textLength=\"53\" x=\"80.5\" y=\"263.1387\">«action»</text><text fill=\"#000000\" font-family=\"sans-serif\" font-size=\"14\" lengthAdjust=\"spacing\" textLength=\"18\" x=\"98\" y=\"278.9639\">A1</text></a></g><g><a href=\"psysml:451b6b51-1ae2-4b81-be73-8fe0566d61d5\" target=\"_top\" title=\"psysml:451b6b51-1ae2-4b81-be73-8fe0566d61d5\" xlink:actuate=\"onRequest\" xlink:href=\"psysml:451b6b51-1ae2-4b81-be73-8fe0566d61d5\" xlink:show=\"new\" xlink:title=\"psysml:451b6b51-1ae2-4b81-be73-8fe0566d61d5\" xlink:type=\"simple\"><rect fill=\"#FFFFFF\" height=\"45.2656\" id=\"E5\" rx=\"10\" ry=\"10\" style=\"stroke:#383838;stroke-width:1.5;\" width=\"60\" x=\"77\" y=\"352\"/><text fill=\"#000000\" font-family=\"sans-serif\" font-size=\"12\" font-style=\"italic\" lengthAdjust=\"spacing\" textLength=\"53\" x=\"80.5\" y=\"368.1387\">«action»</text><text fill=\"#000000\" font-family=\"sans-serif\" font-size=\"14\" lengthAdjust=\"spacing\" textLength=\"18\" x=\"98\" y=\"383.9639\">A2</text></a></g><g><a href=\"psysml:04e53eda-a597-4a9c-96a9-348d67cb9847\" target=\"_top\" title=\"psysml:04e53eda-a597-4a9c-96a9-348d67cb9847\" xlink:actuate=\"onRequest\" xlink:href=\"psysml:04e53eda-a597-4a9c-96a9-348d67cb9847\" xlink:show=\"new\" xlink:title=\"psysml:04e53eda-a597-4a9c-96a9-348d67cb9847\" xlink:type=\"simple\"><rect fill=\"#FFFFFF\" height=\"45.2656\" id=\"E6\" rx=\"10\" ry=\"10\" style=\"stroke:#383838;stroke-width:1.5;\" width=\"60\" x=\"173\" y=\"142\"/><text fill=\"#000000\" font-family=\"sans-serif\" font-size=\"12\" font-style=\"italic\" lengthAdjust=\"spacing\" textLength=\"53\" x=\"176.5\" y=\"158.1387\">«action»</text><text fill=\"#000000\" font-family=\"sans-serif\" font-size=\"14\" lengthAdjust=\"spacing\" textLength=\"18\" x=\"194\" y=\"173.9639\">A3</text></a></g><!--MD5=[4d03bb2d0377dc85ccfab60ff574652b]\n",
       "link E2 to E4--><g id=\"link_E2_E4\"><a href=\"psysml:0e1095c8-d4f6-4449-8c10-0793e56d6528\" target=\"_top\" title=\"psysml:0e1095c8-d4f6-4449-8c10-0793e56d6528\" xlink:actuate=\"onRequest\" xlink:href=\"psysml:0e1095c8-d4f6-4449-8c10-0793e56d6528\" xlink:show=\"new\" xlink:title=\"psysml:0e1095c8-d4f6-4449-8c10-0793e56d6528\" xlink:type=\"simple\"><path d=\"M133,78.07 C133,78.07 133,241.91 133,241.91 \" fill=\"none\" id=\"E2-to-E4\" style=\"stroke:#181818;stroke-width:1.0;\"/><polygon fill=\"#181818\" points=\"133,246.91,137.0257,237.9215,133.0143,241.91,129.0257,237.8986,133,246.91\" style=\"stroke:#181818;stroke-width:1.0;\"/><text fill=\"#000000\" font-family=\"sans-serif\" font-size=\"13\" lengthAdjust=\"spacing\" textLength=\"55\" x=\"77\" y=\"156.0569\">[x == 1]</text></a></g><!--MD5=[dcad52bbbca2fe8adc741ce38b45dc12]\n",
       "link E2 to E5--><g id=\"link_E2_E5\"><a href=\"psysml:0bc69c08-a059-419e-b618-d454e4819a50\" target=\"_top\" title=\"psysml:0bc69c08-a059-419e-b618-d454e4819a50\" xlink:actuate=\"onRequest\" xlink:href=\"psysml:0bc69c08-a059-419e-b618-d454e4819a50\" xlink:show=\"new\" xlink:title=\"psysml:0bc69c08-a059-419e-b618-d454e4819a50\" xlink:type=\"simple\"><path d=\"M140,79.13 C140,129.88 140,375 140,375 C140,375 139.74,375 139.74,375 \" fill=\"none\" id=\"E2-to-E5\" style=\"stroke:#181818;stroke-width:1.0;\"/><polygon fill=\"#181818\" points=\"137.41,375,146.41,379,142.41,375,146.41,371,137.41,375\" style=\"stroke:#181818;stroke-width:1.0;\"/><text fill=\"#000000\" font-family=\"sans-serif\" font-size=\"13\" lengthAdjust=\"spacing\" textLength=\"44\" x=\"95\" y=\"223.2569\">[x &gt; 1]</text></a></g><!--MD5=[e3e28c1befcf002155aa15e1416b4315]\n",
       "link E2 to E6--><g id=\"link_E2_E6\"><a href=\"psysml:7bfaba1c-8598-44bd-a9fd-5f850f0b7fd7\" target=\"_top\" title=\"psysml:7bfaba1c-8598-44bd-a9fd-5f850f0b7fd7\" xlink:actuate=\"onRequest\" xlink:href=\"psysml:7bfaba1c-8598-44bd-a9fd-5f850f0b7fd7\" xlink:show=\"new\" xlink:title=\"psysml:7bfaba1c-8598-44bd-a9fd-5f850f0b7fd7\" xlink:type=\"simple\"><path d=\"M146,73.27 C146,87.81 146,146 146,146 C146,146 167.83,146 167.83,146 \" fill=\"none\" id=\"E2-to-E6\" style=\"stroke:#181818;stroke-width:1.0;\"/><polygon fill=\"#181818\" points=\"172.83,146,163.83,142,167.83,146,163.83,150,172.83,146\" style=\"stroke:#181818;stroke-width:1.0;\"/></a></g><!--MD5=[2351f337d6de0f557b50152ba70847b5]\n",
       "link E6 to E2--><g id=\"link_E6_E2\"><a href=\"psysml:31538477-4a34-40a9-aec8-5df805757767\" target=\"_top\" title=\"psysml:31538477-4a34-40a9-aec8-5df805757767\" xlink:actuate=\"onRequest\" xlink:href=\"psysml:31538477-4a34-40a9-aec8-5df805757767\" xlink:show=\"new\" xlink:title=\"psysml:31538477-4a34-40a9-aec8-5df805757767\" xlink:type=\"simple\"><path d=\"M173,149 C158,149 143,149 143,149 C143,149 143,81.2 143,81.2 \" fill=\"none\" id=\"E6-to-E2\" style=\"stroke:#181818;stroke-width:1.0;\"/><polygon fill=\"#181818\" points=\"143,76.2,139,85.2,143,81.2,147,85.2,143,76.2\" style=\"stroke:#181818;stroke-width:1.0;\"/><text fill=\"#000000\" font-family=\"sans-serif\" font-size=\"13\" lengthAdjust=\"spacing\" textLength=\"44\" x=\"98\" y=\"126.1669\">[x &gt; 0]</text></a></g><!--MD5=[2720a5a1f2c3fca2055b230370638851]\n",
       "link E2 to E3--><g id=\"link_E2_E3\"><a href=\"psysml:df8d299f-9da3-41cd-a9dd-6e3a0d30decc\" target=\"_top\" title=\"psysml:df8d299f-9da3-41cd-a9dd-6e3a0d30decc\" xlink:actuate=\"onRequest\" xlink:href=\"psysml:df8d299f-9da3-41cd-a9dd-6e3a0d30decc\" xlink:show=\"new\" xlink:title=\"psysml:df8d299f-9da3-41cd-a9dd-6e3a0d30decc\" xlink:type=\"simple\"><path d=\"M129,74.08 C129,92.27 129,165 129,165 C129,165 68.69,165 68.69,165 \" fill=\"none\" id=\"E2-to-E3\" style=\"stroke:#181818;stroke-width:1.0;\"/><polygon fill=\"#181818\" points=\"63.69,165,72.69,169,68.69,165,72.69,161,63.69,165\" style=\"stroke:#181818;stroke-width:1.0;\"/></a></g><!--MD5=[af87c684e3b0d8be13c1a698a818ef1e]\n",
       "link E3 to E4--><g id=\"link_E3_E4\"><a href=\"psysml:131b15c1-7866-4964-88c1-b03f264417a9\" target=\"_top\" title=\"psysml:131b15c1-7866-4964-88c1-b03f264417a9\" xlink:actuate=\"onRequest\" xlink:href=\"psysml:131b15c1-7866-4964-88c1-b03f264417a9\" xlink:show=\"new\" xlink:title=\"psysml:131b15c1-7866-4964-88c1-b03f264417a9\" xlink:type=\"simple\"><path d=\"M56,172.78 C56,197.65 56,270 56,270 C56,270 71.74,270 71.74,270 \" fill=\"none\" id=\"E3-to-E4\" style=\"stroke:#181818;stroke-width:1.0;\"/><polygon fill=\"#181818\" points=\"76.74,270,67.74,266,71.74,270,67.74,274,76.74,270\" style=\"stroke:#181818;stroke-width:1.0;\"/><text fill=\"#000000\" font-family=\"sans-serif\" font-size=\"13\" lengthAdjust=\"spacing\" textLength=\"36\" x=\"19\" y=\"225.3269\">[true]</text></a></g><!--MD5=[0188b64bb0ae78505a997a81836e11e9]\n",
       "link E3 to E5--><g id=\"link_E3_E5\"><a href=\"psysml:825f54b9-3c70-45c0-b332-e5b9a5c4b905\" target=\"_top\" title=\"psysml:825f54b9-3c70-45c0-b332-e5b9a5c4b905\" xlink:actuate=\"onRequest\" xlink:href=\"psysml:825f54b9-3c70-45c0-b332-e5b9a5c4b905\" xlink:show=\"new\" xlink:title=\"psysml:825f54b9-3c70-45c0-b332-e5b9a5c4b905\" xlink:type=\"simple\"><path d=\"M48,172.75 C48,211.67 48,375 48,375 C48,375 71.81,375 71.81,375 \" fill=\"none\" id=\"E3-to-E5\" style=\"stroke:#181818;stroke-width:1.0;\"/><polygon fill=\"#181818\" points=\"76.81,375,67.81,371,71.81,375,67.81,379,76.81,375\" style=\"stroke:#181818;stroke-width:1.0;\"/><text fill=\"#000000\" font-family=\"sans-serif\" font-size=\"13\" lengthAdjust=\"spacing\" textLength=\"40\" x=\"7\" y=\"281.8469\">[false]</text></a></g><!--MD5=[1b7591eae5389033d8d09a9d6721a717]\n",
       "link E4 to E5--><g id=\"link_E4_E5\"><a href=\"psysml:b3779ea1-0b8c-4465-ae00-48dbba13ac92\" target=\"_top\" title=\"psysml:b3779ea1-0b8c-4465-ae00-48dbba13ac92\" xlink:actuate=\"onRequest\" xlink:href=\"psysml:b3779ea1-0b8c-4465-ae00-48dbba13ac92\" xlink:show=\"new\" xlink:title=\"psysml:b3779ea1-0b8c-4465-ae00-48dbba13ac92\" xlink:type=\"simple\"><path d=\"M107,292.03 C107,292.03 107,346.65 107,346.65 \" fill=\"none\" id=\"E4-to-E5\" style=\"stroke:#181818;stroke-width:1.0;\"/><polygon fill=\"#181818\" points=\"107,351.65,111,342.65,107,346.65,103,342.65,107,351.65\" style=\"stroke:#181818;stroke-width:1.0;\"/><text fill=\"#000000\" font-family=\"sans-serif\" font-size=\"13\" lengthAdjust=\"spacing\" textLength=\"55\" x=\"51\" y=\"315.4069\">[x == 0]</text></a></g><!--MD5=[543d89a518d99f7e64cfea7eca344ecf]\n",
       "@startuml\r\n",
       "skin sysmlbw\r\n",
       "skinparam monochrome true\r\n",
       "skinparam wrapWidth 300\r\n",
       "hide circle\r\n",
       "skinparam linetype ortho\r\n",
       "\r\n",
       "rec def \"DecisionTest\" as E1  <<(T,blue) action  def>> [[psysml:24509d73-250a-487a-bcd7-b59ee0863fbf ]] {\r\n",
       "choice \"test x\" as E2  [[psysml:7d99bd45-3b62-4bbf-b126-0db5f71d3136 ]] \r\n",
       "choice \"<s>noname</s>\" as E3  [[psysml:6dee609b-d6ae-4161-97b9-077c5f3bd0c2 ]] \r\n",
       "rec usage \"A1\" as E4  <<(T,blue) action>> [[psysml:f539a78a-befd-4456-a49f-f3788a07e7bd ]] {\r\n",
       "}\r\n",
       "\r\n",
       "rec usage \"A2\" as E5  <<(T,blue) action>> [[psysml:451b6b51-1ae2-4b81-be73-8fe0566d61d5 ]] {\r\n",
       "}\r\n",
       "\r\n",
       "rec usage \"A3\" as E6  <<(T,blue) action>> [[psysml:04e53eda-a597-4a9c-96a9-348d67cb9847 ]] {\r\n",
       "}\r\n",
       "\r\n",
       "}\r\n",
       "\r\n",
       "E2  - -> E4 [[psysml:0e1095c8-d4f6-4449-8c10-0793e56d6528 ]] : [x == 1]\r\n",
       "E2  - -> E5 [[psysml:0bc69c08-a059-419e-b618-d454e4819a50 ]] : [x > 1]\r\n",
       "E2  - -> E6 [[psysml:7bfaba1c-8598-44bd-a9fd-5f850f0b7fd7 ]] \r\n",
       "E2 - -> E3 [[psysml:df8d299f-9da3-41cd-a9dd-6e3a0d30decc ]] \r\n",
       "E3  - -> E4 [[psysml:131b15c1-7866-4964-88c1-b03f264417a9 ]] : [true]\r\n",
       "E3  - -> E5 [[psysml:825f54b9-3c70-45c0-b332-e5b9a5c4b905 ]] : [false]\r\n",
       "E4  - -> E5 [[psysml:b3779ea1-0b8c-4465-ae00-48dbba13ac92 ]] : [x == 0]\r\n",
       "E6  - -> E2 [[psysml:31538477-4a34-40a9-aec8-5df805757767 ]] : [x > 0]\r\n",
       "@enduml\r\n",
       "\n",
       "PlantUML version 1.2022.7(Mon Aug 22 17:01:30 UTC 2022)\n",
       "(EPL source distribution)\n",
       "Java Runtime: OpenJDK Runtime Environment\n",
       "JVM: OpenJDK 64-Bit Server VM\n",
       "Default Encoding: UTF-8\n",
       "Language: en\n",
       "Country: null\n",
       "--></g></svg>"
      ]
     },
     "execution_count": 57,
     "metadata": {},
     "output_type": "execute_result"
    }
   ],
   "source": [
    "%viz --style=\"ORTHOLINE\" --view=\"MIXED\" \"DecisionTest\""
   ]
  }
 ],
 "metadata": {
  "kernelspec": {
   "display_name": "SysML",
   "language": "sysml",
   "name": "sysml"
  },
  "language_info": {
   "codemirror_mode": "sysml",
   "file_extension": ".sysml",
   "mimetype": "text/x-sysml",
   "name": "SysML",
   "pygments_lexer": "java",
   "version": "1.0.0"
  }
 },
 "nbformat": 4,
 "nbformat_minor": 5
}
