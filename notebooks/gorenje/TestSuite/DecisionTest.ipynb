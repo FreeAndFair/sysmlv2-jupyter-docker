{
 "cells": [
  {
   "cell_type": "markdown",
   "id": "alternate-auction",
   "metadata": {},
   "source": [
    "# SysML v2 Test Suite\n",
    "\n",
    "This can notebook can be cleared using menu `Edit --> Clear All Outputs` and then all cells can be\n",
    "run using menu `Run --> Run All Cells`.\n",
    "\n",
    "**WARNING**: This file is generated, all modifications here will be ignored.\n"
   ]
  },
  {
   "cell_type": "markdown",
   "id": "pleasant-testament",
   "metadata": {},
   "source": [
    "## File: ../../sysml/src/examples/Simple Tests/DecisionTest.sysml"
   ]
  },
  {
   "cell_type": "code",
   "execution_count": 1,
   "id": "civil-bunch",
   "metadata": {
    "execution": {
     "iopub.execute_input": "2021-03-26T09:14:02.049898Z",
     "iopub.status.busy": "2021-03-26T09:14:02.048700Z",
     "iopub.status.idle": "2021-03-26T09:14:02.550201Z",
     "shell.execute_reply": "2021-03-26T09:14:02.549759Z"
    }
   },
   "outputs": [
    {
     "data": {
      "text/plain": [
       "ActionDefinition DecisionTest (9f09d441-02ed-4e7c-b70a-7e74c7cc3637)\n"
      ]
     },
     "execution_count": 1,
     "metadata": {},
     "output_type": "execute_result"
    }
   ],
   "source": [
    "action def DecisionTest {\n",
    "\tattribute x = 1;\n",
    "\t\n",
    "\tdecide 'test x';\n",
    "\tif x == 1 then A1; \n",
    "\tif x > 1 then A2;\n",
    "\telse A3; \n",
    "\t\n",
    "\tthen decide; \n",
    "\tif true then A1;\n",
    "\tif false then A2;\n",
    "\t\n",
    "\taction A1;\n",
    "\taction A2;\n",
    "\taction A3;\n",
    "\t\n",
    "\tsuccession S first A1 \n",
    "\t\tif x == 0 then A2;\n",
    "\t\t\n",
    "\tfirst A3;\n",
    "\t\tif x > 0 then 'test x';\n",
    "}"
   ]
  },
  {
   "cell_type": "code",
   "execution_count": 2,
   "id": "equivalent-terry",
   "metadata": {
    "execution": {
     "iopub.execute_input": "2021-03-26T09:14:02.601981Z",
     "iopub.status.busy": "2021-03-26T09:14:02.601620Z",
     "iopub.status.idle": "2021-03-26T09:14:03.677793Z",
     "shell.execute_reply": "2021-03-26T09:14:03.678145Z"
    }
   },
   "outputs": [
    {
     "data": {
      "image/svg+xml": [
       "<?xml version=\"1.0\" encoding=\"UTF-8\" standalone=\"no\"?><svg xmlns=\"http://www.w3.org/2000/svg\" xmlns:xlink=\"http://www.w3.org/1999/xlink\" contentScriptType=\"application/ecmascript\" contentStyleType=\"text/css\" height=\"190px\" preserveAspectRatio=\"none\" style=\"width:873px;height:190px;background:#000000;\" version=\"1.1\" viewBox=\"0 0 873 190\" width=\"873px\" zoomAndPan=\"magnify\"><defs/><g><rect fill=\"#220C1F\" height=\"1\" style=\"stroke: #220C1F; stroke-width: 1.0;\" width=\"1\" x=\"0\" y=\"0\"/><rect fill=\"#33FF02\" height=\"21.2969\" style=\"stroke: #33FF02; stroke-width: 1.0;\" width=\"866\" x=\"5\" y=\"5\"/><text fill=\"#000000\" font-family=\"sans-serif\" font-size=\"14\" font-weight=\"bold\" lengthAdjust=\"spacingAndGlyphs\" textLength=\"168\" x=\"6\" y=\"20\">[From string (line 8) ]</text><text fill=\"#33FF02\" font-family=\"sans-serif\" font-size=\"14\" font-weight=\"bold\" lengthAdjust=\"spacingAndGlyphs\" textLength=\"0\" x=\"10\" y=\"40.2969\"/><text fill=\"#33FF02\" font-family=\"sans-serif\" font-size=\"14\" font-weight=\"bold\" lengthAdjust=\"spacingAndGlyphs\" textLength=\"79\" x=\"5\" y=\"56.5938\">@startuml</text><text fill=\"#33FF02\" font-family=\"sans-serif\" font-size=\"14\" font-weight=\"bold\" lengthAdjust=\"spacingAndGlyphs\" textLength=\"0\" x=\"10\" y=\"72.8906\"/><text fill=\"#33FF02\" font-family=\"sans-serif\" font-size=\"14\" font-weight=\"bold\" lengthAdjust=\"spacingAndGlyphs\" textLength=\"866\" x=\"5\" y=\"89.1875\">rec def \"DecisionTest\" as E1  &lt;&lt;(T,blue)action def&gt;&gt; [[psysml:a611506a-05f4-4898-8d67-b23f8626d6c2 ]] {</text><text fill=\"#33FF02\" font-family=\"sans-serif\" font-size=\"14\" font-weight=\"bold\" lengthAdjust=\"spacingAndGlyphs\" textLength=\"615\" x=\"5\" y=\"105.4844\">portout \"$result\" as E2  [[psysml:825b4193-3fd8-46d1-bb26-d00bcd83fe4c ]]</text><text fill=\"#33FF02\" font-family=\"sans-serif\" font-size=\"14\" font-weight=\"bold\" lengthAdjust=\"spacingAndGlyphs\" textLength=\"855\" x=\"5\" y=\"121.7813\">rec usage \"test x\" as E3  &lt;&lt;(T,blue)decisionNode&gt;&gt; [[psysml:6589aa4e-efab-4688-8327-f7f10099d134 ]] {</text><text fill=\"#33FF02\" font-family=\"sans-serif\" font-size=\"14\" font-weight=\"bold\" lengthAdjust=\"spacingAndGlyphs\" textLength=\"10\" x=\"5\" y=\"138.0781\">}</text><text fill=\"#33FF02\" font-family=\"sans-serif\" font-size=\"14\" font-weight=\"bold\" lengthAdjust=\"spacingAndGlyphs\" textLength=\"0\" x=\"10\" y=\"154.375\"/><text fill=\"#33FF02\" font-family=\"sans-serif\" font-size=\"14\" font-weight=\"bold\" lengthAdjust=\"spacingAndGlyphs\" textLength=\"10\" x=\"5\" y=\"170.6719\">{</text><text fill=\"#FF0000\" font-family=\"sans-serif\" font-size=\"14\" font-weight=\"bold\" lengthAdjust=\"spacingAndGlyphs\" textLength=\"106\" x=\"10\" y=\"186.9688\">Syntax Error?</text><!--MD5=[9797abe92c784d8ca88401f3259930fc]\n",
       "@startuml\r\n",
       " \r\n",
       "rec def \"DecisionTest\" as E1  <<(T,blue)action def>> [[psysml:a611506a-05f4-4898-8d67-b23f8626d6c2 ]] {\r\n",
       "portout \"$result\" as E2  [[psysml:825b4193-3fd8-46d1-bb26-d00bcd83fe4c ]] \r\n",
       "rec usage \"test x\" as E3  <<(T,blue)decisionNode>> [[psysml:6589aa4e-efab-4688-8327-f7f10099d134 ]] {\r\n",
       "}\r\n",
       "\r\n",
       "{\r\n",
       "portout \"$result\" as E4  [[psysml:03222c0c-45fb-446a-ae55-be21a490ff21 ]] \r\n",
       "portin \"$x\" as E5  [[psysml:1f067476-7b6a-4ee1-8091-903eee6b057e ]] \r\n",
       "portin \"$y\" as E6  [[psysml:736be314-0092-4efe-9283-a3128e572984 ]] \r\n",
       "portout \"$result\" as E7  [[psysml:78a09776-ac9f-434e-8d68-d86bf1b46cb7 ]] \r\n",
       "}\r\n",
       "\r\n",
       "{\r\n",
       "portout \"$result\" as E8  [[psysml:1aa891c2-82c1-43c8-8c92-2c9f46284f3f ]] \r\n",
       "portin \"$x\" as E9  [[psysml:41e20081-729f-43ab-b2b2-e475cbaa33cc ]] \r\n",
       "portin \"$y\" as E10  [[psysml:dd685822-7c1a-40d9-ad47-98988f0eab95 ]] \r\n",
       "portout \"$result\" as E11  [[psysml:ff30ef21-37bb-4366-a828-82b307802d91 ]] \r\n",
       "}\r\n",
       "\r\n",
       "{\r\n",
       "}\r\n",
       "\r\n",
       "{\r\n",
       "}\r\n",
       "\r\n",
       "{\r\n",
       "portout \"$result\" as E12  [[psysml:8acd1d71-26f3-4979-a604-5454cd234d07 ]] \r\n",
       "}\r\n",
       "\r\n",
       "{\r\n",
       "portout \"$result\" as E13  [[psysml:63187c6a-fa39-44bf-bd7b-baf836477136 ]] \r\n",
       "}\r\n",
       "\r\n",
       "rec usage \"A1\" as E14  <<(T,blue)action>> [[psysml:edf3151a-ea9a-49ab-905b-cac4748fa5cc ]] {\r\n",
       "}\r\n",
       "\r\n",
       "rec usage \"A2\" as E15  <<(T,blue)action>> [[psysml:3bd22752-b66f-42f0-9d88-956d01e987e1 ]] {\r\n",
       "}\r\n",
       "\r\n",
       "rec usage \"A3\" as E16  <<(T,blue)action>> [[psysml:809db6ec-9b23-4a20-a88e-0d707c026938 ]] {\r\n",
       "}\r\n",
       "\r\n",
       "rec usage \"S\" as E17  <<(T,blue)transition>> [[psysml:a1b52494-6c64-4433-870a-8c0c85f99588 ]] {\r\n",
       "rec usage \"A1\" as E18  <<(T,blue)action>> [[psysml:edf3151a-ea9a-49ab-905b-cac4748fa5cc ]] {\r\n",
       "}\r\n",
       "\r\n",
       "portout \"$result\" as E19  [[psysml:83f97503-27b8-4c10-a73e-d48c1a1b0911 ]] \r\n",
       "portin \"$x\" as E20  [[psysml:e039d1a4-e758-4cd1-b4b1-86e00270305d ]] \r\n",
       "portin \"$y\" as E21  [[psysml:0ebe1437-9ca5-4e09-9c89-2871c656e01e ]] \r\n",
       "portout \"$result\" as E22  [[psysml:95821532-07e2-4186-9bf5-2609b2b64808 ]] \r\n",
       "}\r\n",
       "\r\n",
       "rec usage \"A3\" as E23  <<(T,blue)action>> [[psysml:809db6ec-9b23-4a20-a88e-0d707c026938 ]] {\r\n",
       "}\r\n",
       "\r\n",
       "{\r\n",
       "portout \"$result\" as E24  [[psysml:29148d4a-85a5-459a-9935-db0d3e40f70f ]] \r\n",
       "portin \"$x\" as E25  [[psysml:c7cbf43b-156f-4fe1-932e-97acf8076a48 ]] \r\n",
       "portin \"$y\" as E26  [[psysml:d0e5218c-e833-4bf8-9c85-b0218eb0cb1f ]] \r\n",
       "portout \"$result\" as E27  [[psysml:f639559e-0e7a-4e62-b0cf-c675de4db47c ]] \r\n",
       "}\r\n",
       "\r\n",
       "}\r\n",
       "\r\n",
       "E6 -[thickness=5]- E4 [[psysml:5d6d5b38-9fc5-4e3a-9cb6-5e1ffd055c15 ]] \r\n",
       "E10 -[thickness=5]- E8 [[psysml:187378d7-d664-45d6-a81d-c8b3dbc9d7af ]] \r\n",
       "E21 -[thickness=5]- E19 [[psysml:b7ca4d72-a9f0-45a9-981c-6f89250d77d4 ]] \r\n",
       "E26 -[thickness=5]- E24 [[psysml:73bf4527-0e11-4058-a3d3-ef7c36e23adf ]] \r\n",
       "@enduml\r\n",
       "\n",
       "PlantUML version 1.2020.13(Sat Jun 13 12:26:38 UTC 2020)\n",
       "(EPL source distribution)\n",
       "Java Runtime: OpenJDK Runtime Environment\n",
       "JVM: OpenJDK 64-Bit Server VM\n",
       "Default Encoding: UTF-8\n",
       "Language: en\n",
       "Country: null\n",
       "--></g></svg>"
      ]
     },
     "execution_count": 2,
     "metadata": {},
     "output_type": "execute_result"
    }
   ],
   "source": [
    "%viz --style=\"COMPTREE\" --view=\"Default\" \"DecisionTest\""
   ]
  },
  {
   "cell_type": "code",
   "execution_count": 3,
   "id": "democratic-triumph",
   "metadata": {
    "execution": {
     "iopub.execute_input": "2021-03-26T09:14:03.729311Z",
     "iopub.status.busy": "2021-03-26T09:14:03.728922Z",
     "iopub.status.idle": "2021-03-26T09:14:03.930362Z",
     "shell.execute_reply": "2021-03-26T09:14:03.930022Z"
    }
   },
   "outputs": [
    {
     "data": {
      "image/svg+xml": [
       "<?xml version=\"1.0\" encoding=\"UTF-8\" standalone=\"no\"?><svg xmlns=\"http://www.w3.org/2000/svg\" xmlns:xlink=\"http://www.w3.org/1999/xlink\" contentScriptType=\"application/ecmascript\" contentStyleType=\"text/css\" height=\"199px\" preserveAspectRatio=\"none\" style=\"width:138px;height:199px;\" version=\"1.1\" viewBox=\"0 0 138 199\" width=\"138px\" zoomAndPan=\"magnify\"><defs><filter height=\"300%\" id=\"f1leuk6rf02u80\" width=\"300%\" x=\"-1\" y=\"-1\"><feGaussianBlur result=\"blurOut\" stdDeviation=\"2.0\"/><feColorMatrix in=\"blurOut\" result=\"blurOut2\" type=\"matrix\" values=\"0 0 0 0 0 0 0 0 0 0 0 0 0 0 0 0 0 0 .4 0\"/><feOffset dx=\"4.0\" dy=\"4.0\" in=\"blurOut2\" result=\"blurOut3\"/><feBlend in=\"SourceGraphic\" in2=\"blurOut3\" mode=\"normal\"/></filter></defs><g><!--MD5=[43c9051892ef23e1a46a86907403d788]\n",
       "class E1--><a href=\"psysml:a611506a-05f4-4898-8d67-b23f8626d6c2\" target=\"_top\" title=\"psysml:a611506a-05f4-4898-8d67-b23f8626d6c2\" xlink:actuate=\"onRequest\" xlink:href=\"psysml:a611506a-05f4-4898-8d67-b23f8626d6c2\" xlink:show=\"new\" xlink:title=\"psysml:a611506a-05f4-4898-8d67-b23f8626d6c2\" xlink:type=\"simple\"><rect fill=\"#FEFECE\" filter=\"url(#f1leuk6rf02u80)\" height=\"173.1797\" id=\"E1\" style=\"stroke: #A80036; stroke-width: 1.5;\" width=\"112\" x=\"7\" y=\"7\"/><ellipse cx=\"22\" cy=\"25.9688\" fill=\"#0000FF\" rx=\"11\" ry=\"11\" style=\"stroke: #A80036; stroke-width: 1.0;\"/><path d=\"M22.8438,32.7188 L20.3906,32.7188 L20.3906,22.4688 L17.25,22.4688 L17.25,20.3281 L25.9844,20.3281 L25.9844,22.4688 L22.8438,22.4688 L22.8438,32.7188 Z \"/><text fill=\"#000000\" font-family=\"sans-serif\" font-size=\"12\" font-style=\"italic\" lengthAdjust=\"spacingAndGlyphs\" textLength=\"77\" x=\"37.5\" y=\"23.1387\">«action def»</text><text fill=\"#000000\" font-family=\"sans-serif\" font-size=\"12\" lengthAdjust=\"spacingAndGlyphs\" textLength=\"80\" x=\"36\" y=\"37.1074\">DecisionTest</text><line style=\"stroke: #A80036; stroke-width: 1.5;\" x1=\"8\" x2=\"118\" y1=\"44.9375\" y2=\"44.9375\"/><text fill=\"#000000\" font-family=\"sans-serif\" font-size=\"11\" lengthAdjust=\"spacingAndGlyphs\" textLength=\"6\" x=\"13\" y=\"59.1479\">x</text><text fill=\"#000000\" font-family=\"sans-serif\" font-size=\"11\" lengthAdjust=\"spacingAndGlyphs\" textLength=\"14\" x=\"13\" y=\"88.7573\">A1</text><text fill=\"#000000\" font-family=\"sans-serif\" font-size=\"11\" lengthAdjust=\"spacingAndGlyphs\" textLength=\"14\" x=\"13\" y=\"101.562\">A2</text><text fill=\"#000000\" font-family=\"sans-serif\" font-size=\"11\" lengthAdjust=\"spacingAndGlyphs\" textLength=\"14\" x=\"13\" y=\"114.3667\">A3</text><line style=\"stroke: #A80036; stroke-width: 1.0;\" x1=\"8\" x2=\"42.5\" y1=\"72.1445\" y2=\"72.1445\"/><text fill=\"#000000\" font-family=\"sans-serif\" font-size=\"11\" lengthAdjust=\"spacingAndGlyphs\" textLength=\"41\" x=\"42.5\" y=\"75.4526\">actions</text><line style=\"stroke: #A80036; stroke-width: 1.0;\" x1=\"83.5\" x2=\"118\" y1=\"72.1445\" y2=\"72.1445\"/><text fill=\"#000000\" font-family=\"sans-serif\" font-size=\"11\" lengthAdjust=\"spacingAndGlyphs\" textLength=\"32\" x=\"13\" y=\"143.9761\">test x</text><line style=\"stroke: #A80036; stroke-width: 1.0;\" x1=\"8\" x2=\"21.5\" y1=\"127.3633\" y2=\"127.3633\"/><text fill=\"#000000\" font-family=\"sans-serif\" font-size=\"11\" lengthAdjust=\"spacingAndGlyphs\" textLength=\"83\" x=\"21.5\" y=\"130.6714\">decisionNodes</text><line style=\"stroke: #A80036; stroke-width: 1.0;\" x1=\"104.5\" x2=\"118\" y1=\"127.3633\" y2=\"127.3633\"/><text fill=\"#000000\" font-family=\"sans-serif\" font-size=\"11\" lengthAdjust=\"spacingAndGlyphs\" textLength=\"8\" x=\"13\" y=\"173.5854\">S</text><line style=\"stroke: #A80036; stroke-width: 1.0;\" x1=\"8\" x2=\"32.5\" y1=\"156.9727\" y2=\"156.9727\"/><text fill=\"#000000\" font-family=\"sans-serif\" font-size=\"11\" lengthAdjust=\"spacingAndGlyphs\" textLength=\"61\" x=\"32.5\" y=\"160.2808\">transitions</text><line style=\"stroke: #A80036; stroke-width: 1.0;\" x1=\"93.5\" x2=\"118\" y1=\"156.9727\" y2=\"156.9727\"/></a><!--MD5=[8b0a4f24cb175194098225989eb1d2ff]\n",
       "@startuml\r\n",
       " \r\n",
       "comp def \"DecisionTest\" as E1  <<(T,blue)action def>> [[psysml:a611506a-05f4-4898-8d67-b23f8626d6c2 ]] {\r\n",
       "x\r\n",
       "- - actions - -\r\n",
       "A1\r\n",
       "A2\r\n",
       "A3\r\n",
       "- - decisionNodes - -\r\n",
       "test x\r\n",
       "- - transitions - -\r\n",
       "S\r\n",
       "}\r\n",
       "@enduml\r\n",
       "\n",
       "PlantUML version 1.2020.13(Sat Jun 13 12:26:38 UTC 2020)\n",
       "(EPL source distribution)\n",
       "Java Runtime: OpenJDK Runtime Environment\n",
       "JVM: OpenJDK 64-Bit Server VM\n",
       "Default Encoding: UTF-8\n",
       "Language: en\n",
       "Country: null\n",
       "--></g></svg>"
      ]
     },
     "execution_count": 3,
     "metadata": {},
     "output_type": "execute_result"
    }
   ],
   "source": [
    "%viz --style=\"COMPTREE\" --view=\"Tree\" \"DecisionTest\""
   ]
  },
  {
   "cell_type": "code",
   "execution_count": 4,
   "id": "amino-coordination",
   "metadata": {
    "execution": {
     "iopub.execute_input": "2021-03-26T09:14:03.985109Z",
     "iopub.status.busy": "2021-03-26T09:14:03.984403Z",
     "iopub.status.idle": "2021-03-26T09:14:04.120866Z",
     "shell.execute_reply": "2021-03-26T09:14:04.119707Z"
    }
   },
   "outputs": [
    {
     "data": {
      "image/svg+xml": [
       "<?xml version=\"1.0\" encoding=\"UTF-8\" standalone=\"no\"?><svg xmlns=\"http://www.w3.org/2000/svg\" xmlns:xlink=\"http://www.w3.org/1999/xlink\" contentScriptType=\"application/ecmascript\" contentStyleType=\"text/css\" height=\"303px\" preserveAspectRatio=\"none\" style=\"width:603px;height:303px;background:#000000;\" version=\"1.1\" viewBox=\"0 0 603 303\" width=\"603px\" zoomAndPan=\"magnify\"><defs/><g><rect fill=\"#0E1D15\" height=\"1\" style=\"stroke: #0E1D15; stroke-width: 1.0;\" width=\"1\" x=\"0\" y=\"0\"/><rect fill=\"#FFFFFF\" height=\"205.5625\" style=\"stroke: #FFFFFF; stroke-width: 1.0;\" width=\"602\" x=\"0\" y=\"0\"/><text fill=\"#000000\" font-family=\"sans-serif\" font-size=\"12\" font-weight=\"bold\" lengthAdjust=\"spacingAndGlyphs\" textLength=\"159\" x=\"5\" y=\"16.1387\">Welcome to PlantUML!</text><text fill=\"#000000\" font-family=\"sans-serif\" font-size=\"12\" lengthAdjust=\"spacingAndGlyphs\" textLength=\"0\" x=\"9\" y=\"30.1074\"/><text fill=\"#000000\" font-family=\"sans-serif\" font-size=\"12\" lengthAdjust=\"spacingAndGlyphs\" textLength=\"293\" x=\"5\" y=\"44.0762\">If you use this software, you accept its license.</text><text fill=\"#000000\" font-family=\"sans-serif\" font-size=\"12\" lengthAdjust=\"spacingAndGlyphs\" textLength=\"107\" x=\"5\" y=\"58.0449\">(details by typing</text><text fill=\"#000000\" font-family=\"monospace\" font-size=\"12\" lengthAdjust=\"spacingAndGlyphs\" textLength=\"49\" x=\"116\" y=\"58.0449\">license</text><text fill=\"#000000\" font-family=\"sans-serif\" font-size=\"12\" lengthAdjust=\"spacingAndGlyphs\" textLength=\"56\" x=\"169\" y=\"58.0449\">keyword)</text><text fill=\"#000000\" font-family=\"sans-serif\" font-size=\"12\" lengthAdjust=\"spacingAndGlyphs\" textLength=\"0\" x=\"9\" y=\"72.0137\"/><text fill=\"#000000\" font-family=\"sans-serif\" font-size=\"12\" lengthAdjust=\"spacingAndGlyphs\" textLength=\"283\" x=\"5\" y=\"85.9824\">You can start with a simple UML Diagram like:</text><text fill=\"#000000\" font-family=\"sans-serif\" font-size=\"12\" lengthAdjust=\"spacingAndGlyphs\" textLength=\"0\" x=\"9\" y=\"99.9512\"/><text fill=\"#000000\" font-family=\"monospace\" font-size=\"12\" lengthAdjust=\"spacingAndGlyphs\" textLength=\"119\" x=\"5\" y=\"113.9199\">Bob-&gt;Alice: Hello</text><text fill=\"#000000\" font-family=\"sans-serif\" font-size=\"12\" lengthAdjust=\"spacingAndGlyphs\" textLength=\"0\" x=\"9\" y=\"127.8887\"/><text fill=\"#000000\" font-family=\"sans-serif\" font-size=\"12\" lengthAdjust=\"spacingAndGlyphs\" textLength=\"14\" x=\"5\" y=\"141.8574\">Or</text><text fill=\"#000000\" font-family=\"sans-serif\" font-size=\"12\" lengthAdjust=\"spacingAndGlyphs\" textLength=\"0\" x=\"9\" y=\"155.8262\"/><text fill=\"#000000\" font-family=\"monospace\" font-size=\"12\" lengthAdjust=\"spacingAndGlyphs\" textLength=\"91\" x=\"5\" y=\"169.7949\">class Example</text><text fill=\"#000000\" font-family=\"sans-serif\" font-size=\"12\" lengthAdjust=\"spacingAndGlyphs\" textLength=\"0\" x=\"9\" y=\"183.7637\"/><text fill=\"#000000\" font-family=\"sans-serif\" font-size=\"12\" lengthAdjust=\"spacingAndGlyphs\" textLength=\"349\" x=\"5\" y=\"197.7324\">You will find more information about PlantUML syntax on</text><text fill=\"#000000\" font-family=\"sans-serif\" font-size=\"12\" lengthAdjust=\"spacingAndGlyphs\" text-decoration=\"underline\" textLength=\"129\" x=\"358\" y=\"197.7324\">https://plantuml.com</text><image height=\"71\" width=\"80\" x=\"516\" xlink:href=\"data:image/png;base64,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\" y=\"6\"/><rect fill=\"#000000\" height=\"96.4844\" style=\"stroke: #000000; stroke-width: 1.0;\" width=\"602\" x=\"0\" y=\"205.5625\"/><rect fill=\"#33FF02\" height=\"21.2969\" style=\"stroke: #33FF02; stroke-width: 1.0;\" width=\"170\" x=\"5\" y=\"210.5625\"/><text fill=\"#000000\" font-family=\"sans-serif\" font-size=\"14\" font-weight=\"bold\" lengthAdjust=\"spacingAndGlyphs\" textLength=\"168\" x=\"6\" y=\"225.5625\">[From string (line 2) ]</text><text fill=\"#33FF02\" font-family=\"sans-serif\" font-size=\"14\" font-weight=\"bold\" lengthAdjust=\"spacingAndGlyphs\" textLength=\"0\" x=\"10\" y=\"245.8594\"/><text fill=\"#33FF02\" font-family=\"sans-serif\" font-size=\"14\" font-weight=\"bold\" lengthAdjust=\"spacingAndGlyphs\" textLength=\"79\" x=\"5\" y=\"262.1563\">@startuml</text><text fill=\"#33FF02\" font-family=\"sans-serif\" font-size=\"14\" font-weight=\"bold\" lengthAdjust=\"spacingAndGlyphs\" textLength=\"0\" x=\"10\" y=\"278.4531\"/><text fill=\"#FF0000\" font-family=\"sans-serif\" font-size=\"14\" font-weight=\"bold\" lengthAdjust=\"spacingAndGlyphs\" textLength=\"142\" x=\"10\" y=\"294.75\">Empty description</text><!--MD5=[f59edd8218d337f74d0c332fc6737304]\n",
       "@startuml\r\n",
       " \r\n",
       "@enduml\r\n",
       "\n",
       "PlantUML version 1.2020.13(Sat Jun 13 12:26:38 UTC 2020)\n",
       "(EPL source distribution)\n",
       "Java Runtime: OpenJDK Runtime Environment\n",
       "JVM: OpenJDK 64-Bit Server VM\n",
       "Default Encoding: UTF-8\n",
       "Language: en\n",
       "Country: null\n",
       "--></g></svg>"
      ]
     },
     "execution_count": 4,
     "metadata": {},
     "output_type": "execute_result"
    }
   ],
   "source": [
    "%viz --style=\"COMPTREE\" --view=\"State\" \"DecisionTest\""
   ]
  },
  {
   "cell_type": "code",
   "execution_count": 5,
   "id": "fatal-morrison",
   "metadata": {
    "execution": {
     "iopub.execute_input": "2021-03-26T09:14:04.171289Z",
     "iopub.status.busy": "2021-03-26T09:14:04.169656Z",
     "iopub.status.idle": "2021-03-26T09:14:04.200324Z",
     "shell.execute_reply": "2021-03-26T09:14:04.199845Z"
    }
   },
   "outputs": [
    {
     "data": {
      "image/svg+xml": [
       "<?xml version=\"1.0\" encoding=\"UTF-8\" standalone=\"no\"?><svg xmlns=\"http://www.w3.org/2000/svg\" xmlns:xlink=\"http://www.w3.org/1999/xlink\" contentScriptType=\"application/ecmascript\" contentStyleType=\"text/css\" height=\"79px\" preserveAspectRatio=\"none\" style=\"width:179px;height:79px;\" version=\"1.1\" viewBox=\"0 0 179 79\" width=\"179px\" zoomAndPan=\"magnify\"><defs><filter height=\"300%\" id=\"f1oxmekyvz2lev\" width=\"300%\" x=\"-1\" y=\"-1\"><feGaussianBlur result=\"blurOut\" stdDeviation=\"2.0\"/><feColorMatrix in=\"blurOut\" result=\"blurOut2\" type=\"matrix\" values=\"0 0 0 0 0 0 0 0 0 0 0 0 0 0 0 0 0 0 .4 0\"/><feOffset dx=\"4.0\" dy=\"4.0\" in=\"blurOut2\" result=\"blurOut3\"/><feBlend in=\"SourceGraphic\" in2=\"blurOut3\" mode=\"normal\"/></filter></defs><g><!--MD5=[43c9051892ef23e1a46a86907403d788]\n",
       "class E1--><a href=\"psysml:a611506a-05f4-4898-8d67-b23f8626d6c2\" target=\"_top\" title=\"psysml:a611506a-05f4-4898-8d67-b23f8626d6c2\" xlink:actuate=\"onRequest\" xlink:href=\"psysml:a611506a-05f4-4898-8d67-b23f8626d6c2\" xlink:show=\"new\" xlink:title=\"psysml:a611506a-05f4-4898-8d67-b23f8626d6c2\" xlink:type=\"simple\"><rect fill=\"#FEFECE\" filter=\"url(#f1oxmekyvz2lev)\" height=\"53.9375\" id=\"E1\" style=\"stroke: #A80036; stroke-width: 1.5;\" width=\"153\" x=\"7\" y=\"7\"/><ellipse cx=\"22\" cy=\"25.9688\" fill=\"#ADD1B2\" rx=\"11\" ry=\"11\" style=\"stroke: #A80036; stroke-width: 1.0;\"/><path d=\"M24.9688,31.6094 Q24.3906,31.9063 23.75,32.0469 Q23.1094,32.2031 22.4063,32.2031 Q19.9063,32.2031 18.5781,30.5625 Q17.2656,28.9063 17.2656,25.7813 Q17.2656,22.6563 18.5781,21 Q19.9063,19.3438 22.4063,19.3438 Q23.1094,19.3438 23.75,19.5 Q24.4063,19.6563 24.9688,19.9531 L24.9688,22.6719 Q24.3438,22.0938 23.75,21.8281 Q23.1563,21.5469 22.5313,21.5469 Q21.1875,21.5469 20.5,22.625 Q19.8125,23.6875 19.8125,25.7813 Q19.8125,27.875 20.5,28.9531 Q21.1875,30.0156 22.5313,30.0156 Q23.1563,30.0156 23.75,29.75 Q24.3438,29.4688 24.9688,28.8906 L24.9688,31.6094 Z \"/><text fill=\"#000000\" font-family=\"sans-serif\" font-size=\"12\" font-style=\"italic\" lengthAdjust=\"spacingAndGlyphs\" textLength=\"125\" x=\"34\" y=\"23.1387\">«(T,blue)action def»</text><text fill=\"#000000\" font-family=\"sans-serif\" font-size=\"12\" lengthAdjust=\"spacingAndGlyphs\" textLength=\"80\" x=\"56.5\" y=\"37.1074\">DecisionTest</text><line style=\"stroke: #A80036; stroke-width: 1.5;\" x1=\"8\" x2=\"159\" y1=\"44.9375\" y2=\"44.9375\"/><line style=\"stroke: #A80036; stroke-width: 1.5;\" x1=\"8\" x2=\"159\" y1=\"52.9375\" y2=\"52.9375\"/></a><!--MD5=[24c4c7f6580e2b50ccfe942bf7e40435]\n",
       "@startuml\r\n",
       "skinparam ranksep 8\r\n",
       "skinparam rectangle {\r\n",
       " backgroundColor<<block>> LightGreen\r\n",
       "}\r\n",
       " \r\n",
       "def \"DecisionTest\" as E1  <<(T,blue)action def>> [[psysml:a611506a-05f4-4898-8d67-b23f8626d6c2 ]] \r\n",
       "@enduml\r\n",
       "\n",
       "PlantUML version 1.2020.13(Sat Jun 13 12:26:38 UTC 2020)\n",
       "(EPL source distribution)\n",
       "Java Runtime: OpenJDK Runtime Environment\n",
       "JVM: OpenJDK 64-Bit Server VM\n",
       "Default Encoding: UTF-8\n",
       "Language: en\n",
       "Country: null\n",
       "--></g></svg>"
      ]
     },
     "execution_count": 5,
     "metadata": {},
     "output_type": "execute_result"
    }
   ],
   "source": [
    "%viz --style=\"COMPTREE\" --view=\"Interconnection\" \"DecisionTest\""
   ]
  },
  {
   "cell_type": "code",
   "execution_count": 6,
   "id": "homeless-involvement",
   "metadata": {
    "execution": {
     "iopub.execute_input": "2021-03-26T09:14:04.258379Z",
     "iopub.status.busy": "2021-03-26T09:14:04.251152Z",
     "iopub.status.idle": "2021-03-26T09:14:04.281805Z",
     "shell.execute_reply": "2021-03-26T09:14:04.281493Z"
    }
   },
   "outputs": [
    {
     "data": {
      "image/svg+xml": [
       "<?xml version=\"1.0\" encoding=\"UTF-8\" standalone=\"no\"?><svg xmlns=\"http://www.w3.org/2000/svg\" xmlns:xlink=\"http://www.w3.org/1999/xlink\" contentScriptType=\"application/ecmascript\" contentStyleType=\"text/css\" height=\"206px\" preserveAspectRatio=\"none\" style=\"width:873px;height:206px;background:#000000;\" version=\"1.1\" viewBox=\"0 0 873 206\" width=\"873px\" zoomAndPan=\"magnify\"><defs/><g><rect fill=\"#150C0E\" height=\"1\" style=\"stroke: #150C0E; stroke-width: 1.0;\" width=\"1\" x=\"0\" y=\"0\"/><rect fill=\"#33FF02\" height=\"21.2969\" style=\"stroke: #33FF02; stroke-width: 1.0;\" width=\"866\" x=\"5\" y=\"5\"/><text fill=\"#000000\" font-family=\"sans-serif\" font-size=\"14\" font-weight=\"bold\" lengthAdjust=\"spacingAndGlyphs\" textLength=\"168\" x=\"6\" y=\"20\">[From string (line 9) ]</text><text fill=\"#33FF02\" font-family=\"sans-serif\" font-size=\"14\" font-weight=\"bold\" lengthAdjust=\"spacingAndGlyphs\" textLength=\"0\" x=\"10\" y=\"40.2969\"/><text fill=\"#33FF02\" font-family=\"sans-serif\" font-size=\"14\" font-weight=\"bold\" lengthAdjust=\"spacingAndGlyphs\" textLength=\"79\" x=\"5\" y=\"56.5938\">@startuml</text><text fill=\"#33FF02\" font-family=\"sans-serif\" font-size=\"14\" font-weight=\"bold\" lengthAdjust=\"spacingAndGlyphs\" textLength=\"165\" x=\"5\" y=\"72.8906\">skinparam ranksep 8</text><text fill=\"#33FF02\" font-family=\"sans-serif\" font-size=\"14\" font-weight=\"bold\" lengthAdjust=\"spacingAndGlyphs\" textLength=\"0\" x=\"10\" y=\"89.1875\"/><text fill=\"#33FF02\" font-family=\"sans-serif\" font-size=\"14\" font-weight=\"bold\" lengthAdjust=\"spacingAndGlyphs\" textLength=\"866\" x=\"5\" y=\"105.4844\">rec def \"DecisionTest\" as E1  &lt;&lt;(T,blue)action def&gt;&gt; [[psysml:a611506a-05f4-4898-8d67-b23f8626d6c2 ]] {</text><text fill=\"#33FF02\" font-family=\"sans-serif\" font-size=\"14\" font-weight=\"bold\" lengthAdjust=\"spacingAndGlyphs\" textLength=\"615\" x=\"5\" y=\"121.7813\">portout \"$result\" as E2  [[psysml:825b4193-3fd8-46d1-bb26-d00bcd83fe4c ]]</text><text fill=\"#33FF02\" font-family=\"sans-serif\" font-size=\"14\" font-weight=\"bold\" lengthAdjust=\"spacingAndGlyphs\" textLength=\"855\" x=\"5\" y=\"138.0781\">rec usage \"test x\" as E3  &lt;&lt;(T,blue)decisionNode&gt;&gt; [[psysml:6589aa4e-efab-4688-8327-f7f10099d134 ]] {</text><text fill=\"#33FF02\" font-family=\"sans-serif\" font-size=\"14\" font-weight=\"bold\" lengthAdjust=\"spacingAndGlyphs\" textLength=\"10\" x=\"5\" y=\"154.375\">}</text><text fill=\"#33FF02\" font-family=\"sans-serif\" font-size=\"14\" font-weight=\"bold\" lengthAdjust=\"spacingAndGlyphs\" textLength=\"0\" x=\"10\" y=\"170.6719\"/><text fill=\"#33FF02\" font-family=\"sans-serif\" font-size=\"14\" font-weight=\"bold\" lengthAdjust=\"spacingAndGlyphs\" textLength=\"10\" x=\"5\" y=\"186.9688\">{</text><text fill=\"#FF0000\" font-family=\"sans-serif\" font-size=\"14\" font-weight=\"bold\" lengthAdjust=\"spacingAndGlyphs\" textLength=\"106\" x=\"10\" y=\"203.2656\">Syntax Error?</text><!--MD5=[9a9b671a3881991ca1ef50821f6cba80]\n",
       "@startuml\r\n",
       "skinparam ranksep 8\r\n",
       " \r\n",
       "rec def \"DecisionTest\" as E1  <<(T,blue)action def>> [[psysml:a611506a-05f4-4898-8d67-b23f8626d6c2 ]] {\r\n",
       "portout \"$result\" as E2  [[psysml:825b4193-3fd8-46d1-bb26-d00bcd83fe4c ]] \r\n",
       "rec usage \"test x\" as E3  <<(T,blue)decisionNode>> [[psysml:6589aa4e-efab-4688-8327-f7f10099d134 ]] {\r\n",
       "}\r\n",
       "\r\n",
       "{\r\n",
       "portout \"$result\" as E4  [[psysml:03222c0c-45fb-446a-ae55-be21a490ff21 ]] \r\n",
       "portin \"$x\" as E5  [[psysml:1f067476-7b6a-4ee1-8091-903eee6b057e ]] \r\n",
       "portin \"$y\" as E6  [[psysml:736be314-0092-4efe-9283-a3128e572984 ]] \r\n",
       "portout \"$result\" as E7  [[psysml:78a09776-ac9f-434e-8d68-d86bf1b46cb7 ]] \r\n",
       "}\r\n",
       "\r\n",
       "{\r\n",
       "portout \"$result\" as E8  [[psysml:1aa891c2-82c1-43c8-8c92-2c9f46284f3f ]] \r\n",
       "portin \"$x\" as E9  [[psysml:41e20081-729f-43ab-b2b2-e475cbaa33cc ]] \r\n",
       "portin \"$y\" as E10  [[psysml:dd685822-7c1a-40d9-ad47-98988f0eab95 ]] \r\n",
       "portout \"$result\" as E11  [[psysml:ff30ef21-37bb-4366-a828-82b307802d91 ]] \r\n",
       "}\r\n",
       "\r\n",
       "{\r\n",
       "}\r\n",
       "\r\n",
       "{\r\n",
       "}\r\n",
       "\r\n",
       "{\r\n",
       "portout \"$result\" as E12  [[psysml:8acd1d71-26f3-4979-a604-5454cd234d07 ]] \r\n",
       "}\r\n",
       "\r\n",
       "{\r\n",
       "portout \"$result\" as E13  [[psysml:63187c6a-fa39-44bf-bd7b-baf836477136 ]] \r\n",
       "}\r\n",
       "\r\n",
       "rec usage \"A1\" as E14  <<(T,blue)action>> [[psysml:edf3151a-ea9a-49ab-905b-cac4748fa5cc ]] {\r\n",
       "}\r\n",
       "\r\n",
       "rec usage \"A2\" as E15  <<(T,blue)action>> [[psysml:3bd22752-b66f-42f0-9d88-956d01e987e1 ]] {\r\n",
       "}\r\n",
       "\r\n",
       "rec usage \"A3\" as E16  <<(T,blue)action>> [[psysml:809db6ec-9b23-4a20-a88e-0d707c026938 ]] {\r\n",
       "}\r\n",
       "\r\n",
       "rec usage \"S\" as E17  <<(T,blue)transition>> [[psysml:a1b52494-6c64-4433-870a-8c0c85f99588 ]] {\r\n",
       "rec usage \"A1\" as E18  <<(T,blue)action>> [[psysml:edf3151a-ea9a-49ab-905b-cac4748fa5cc ]] {\r\n",
       "}\r\n",
       "\r\n",
       "portout \"$result\" as E19  [[psysml:83f97503-27b8-4c10-a73e-d48c1a1b0911 ]] \r\n",
       "portin \"$x\" as E20  [[psysml:e039d1a4-e758-4cd1-b4b1-86e00270305d ]] \r\n",
       "portin \"$y\" as E21  [[psysml:0ebe1437-9ca5-4e09-9c89-2871c656e01e ]] \r\n",
       "portout \"$result\" as E22  [[psysml:95821532-07e2-4186-9bf5-2609b2b64808 ]] \r\n",
       "}\r\n",
       "\r\n",
       "rec usage \"A3\" as E23  <<(T,blue)action>> [[psysml:809db6ec-9b23-4a20-a88e-0d707c026938 ]] {\r\n",
       "}\r\n",
       "\r\n",
       "{\r\n",
       "portout \"$result\" as E24  [[psysml:29148d4a-85a5-459a-9935-db0d3e40f70f ]] \r\n",
       "portin \"$x\" as E25  [[psysml:c7cbf43b-156f-4fe1-932e-97acf8076a48 ]] \r\n",
       "portin \"$y\" as E26  [[psysml:d0e5218c-e833-4bf8-9c85-b0218eb0cb1f ]] \r\n",
       "portout \"$result\" as E27  [[psysml:f639559e-0e7a-4e62-b0cf-c675de4db47c ]] \r\n",
       "}\r\n",
       "\r\n",
       "}\r\n",
       "\r\n",
       "E6 -[thickness=5]- E4 [[psysml:5d6d5b38-9fc5-4e3a-9cb6-5e1ffd055c15 ]] \r\n",
       "E10 -[thickness=5]- E8 [[psysml:187378d7-d664-45d6-a81d-c8b3dbc9d7af ]] \r\n",
       "E21 -[thickness=5]- E19 [[psysml:b7ca4d72-a9f0-45a9-981c-6f89250d77d4 ]] \r\n",
       "E26 -[thickness=5]- E24 [[psysml:73bf4527-0e11-4058-a3d3-ef7c36e23adf ]] \r\n",
       "@enduml\r\n",
       "\n",
       "PlantUML version 1.2020.13(Sat Jun 13 12:26:38 UTC 2020)\n",
       "(EPL source distribution)\n",
       "Java Runtime: OpenJDK Runtime Environment\n",
       "JVM: OpenJDK 64-Bit Server VM\n",
       "Default Encoding: UTF-8\n",
       "Language: en\n",
       "Country: null\n",
       "--></g></svg>"
      ]
     },
     "execution_count": 6,
     "metadata": {},
     "output_type": "execute_result"
    }
   ],
   "source": [
    "%viz --style=\"COMPTREE\" --view=\"Action\" \"DecisionTest\""
   ]
  },
  {
   "cell_type": "code",
   "execution_count": 7,
   "id": "patient-cabin",
   "metadata": {
    "execution": {
     "iopub.execute_input": "2021-03-26T09:14:04.333634Z",
     "iopub.status.busy": "2021-03-26T09:14:04.332799Z",
     "iopub.status.idle": "2021-03-26T09:14:04.410294Z",
     "shell.execute_reply": "2021-03-26T09:14:04.410641Z"
    }
   },
   "outputs": [
    {
     "data": {
      "image/svg+xml": [
       "<?xml version=\"1.0\" encoding=\"UTF-8\" standalone=\"no\"?><svg xmlns=\"http://www.w3.org/2000/svg\" xmlns:xlink=\"http://www.w3.org/1999/xlink\" contentScriptType=\"application/ecmascript\" contentStyleType=\"text/css\" height=\"199px\" preserveAspectRatio=\"none\" style=\"width:138px;height:199px;\" version=\"1.1\" viewBox=\"0 0 138 199\" width=\"138px\" zoomAndPan=\"magnify\"><defs><filter height=\"300%\" id=\"f1leuk6rf02u80\" width=\"300%\" x=\"-1\" y=\"-1\"><feGaussianBlur result=\"blurOut\" stdDeviation=\"2.0\"/><feColorMatrix in=\"blurOut\" result=\"blurOut2\" type=\"matrix\" values=\"0 0 0 0 0 0 0 0 0 0 0 0 0 0 0 0 0 0 .4 0\"/><feOffset dx=\"4.0\" dy=\"4.0\" in=\"blurOut2\" result=\"blurOut3\"/><feBlend in=\"SourceGraphic\" in2=\"blurOut3\" mode=\"normal\"/></filter></defs><g><!--MD5=[43c9051892ef23e1a46a86907403d788]\n",
       "class E1--><a href=\"psysml:a611506a-05f4-4898-8d67-b23f8626d6c2\" target=\"_top\" title=\"psysml:a611506a-05f4-4898-8d67-b23f8626d6c2\" xlink:actuate=\"onRequest\" xlink:href=\"psysml:a611506a-05f4-4898-8d67-b23f8626d6c2\" xlink:show=\"new\" xlink:title=\"psysml:a611506a-05f4-4898-8d67-b23f8626d6c2\" xlink:type=\"simple\"><rect fill=\"#FEFECE\" filter=\"url(#f1leuk6rf02u80)\" height=\"173.1797\" id=\"E1\" style=\"stroke: #A80036; stroke-width: 1.5;\" width=\"112\" x=\"7\" y=\"7\"/><ellipse cx=\"22\" cy=\"25.9688\" fill=\"#0000FF\" rx=\"11\" ry=\"11\" style=\"stroke: #A80036; stroke-width: 1.0;\"/><path d=\"M22.8438,32.7188 L20.3906,32.7188 L20.3906,22.4688 L17.25,22.4688 L17.25,20.3281 L25.9844,20.3281 L25.9844,22.4688 L22.8438,22.4688 L22.8438,32.7188 Z \"/><text fill=\"#000000\" font-family=\"sans-serif\" font-size=\"12\" font-style=\"italic\" lengthAdjust=\"spacingAndGlyphs\" textLength=\"77\" x=\"37.5\" y=\"23.1387\">«action def»</text><text fill=\"#000000\" font-family=\"sans-serif\" font-size=\"12\" lengthAdjust=\"spacingAndGlyphs\" textLength=\"80\" x=\"36\" y=\"37.1074\">DecisionTest</text><line style=\"stroke: #A80036; stroke-width: 1.5;\" x1=\"8\" x2=\"118\" y1=\"44.9375\" y2=\"44.9375\"/><text fill=\"#000000\" font-family=\"sans-serif\" font-size=\"11\" lengthAdjust=\"spacingAndGlyphs\" textLength=\"6\" x=\"13\" y=\"59.1479\">x</text><text fill=\"#000000\" font-family=\"sans-serif\" font-size=\"11\" lengthAdjust=\"spacingAndGlyphs\" textLength=\"14\" x=\"13\" y=\"88.7573\">A1</text><text fill=\"#000000\" font-family=\"sans-serif\" font-size=\"11\" lengthAdjust=\"spacingAndGlyphs\" textLength=\"14\" x=\"13\" y=\"101.562\">A2</text><text fill=\"#000000\" font-family=\"sans-serif\" font-size=\"11\" lengthAdjust=\"spacingAndGlyphs\" textLength=\"14\" x=\"13\" y=\"114.3667\">A3</text><line style=\"stroke: #A80036; stroke-width: 1.0;\" x1=\"8\" x2=\"42.5\" y1=\"72.1445\" y2=\"72.1445\"/><text fill=\"#000000\" font-family=\"sans-serif\" font-size=\"11\" lengthAdjust=\"spacingAndGlyphs\" textLength=\"41\" x=\"42.5\" y=\"75.4526\">actions</text><line style=\"stroke: #A80036; stroke-width: 1.0;\" x1=\"83.5\" x2=\"118\" y1=\"72.1445\" y2=\"72.1445\"/><text fill=\"#000000\" font-family=\"sans-serif\" font-size=\"11\" lengthAdjust=\"spacingAndGlyphs\" textLength=\"32\" x=\"13\" y=\"143.9761\">test x</text><line style=\"stroke: #A80036; stroke-width: 1.0;\" x1=\"8\" x2=\"21.5\" y1=\"127.3633\" y2=\"127.3633\"/><text fill=\"#000000\" font-family=\"sans-serif\" font-size=\"11\" lengthAdjust=\"spacingAndGlyphs\" textLength=\"83\" x=\"21.5\" y=\"130.6714\">decisionNodes</text><line style=\"stroke: #A80036; stroke-width: 1.0;\" x1=\"104.5\" x2=\"118\" y1=\"127.3633\" y2=\"127.3633\"/><text fill=\"#000000\" font-family=\"sans-serif\" font-size=\"11\" lengthAdjust=\"spacingAndGlyphs\" textLength=\"8\" x=\"13\" y=\"173.5854\">S</text><line style=\"stroke: #A80036; stroke-width: 1.0;\" x1=\"8\" x2=\"32.5\" y1=\"156.9727\" y2=\"156.9727\"/><text fill=\"#000000\" font-family=\"sans-serif\" font-size=\"11\" lengthAdjust=\"spacingAndGlyphs\" textLength=\"61\" x=\"32.5\" y=\"160.2808\">transitions</text><line style=\"stroke: #A80036; stroke-width: 1.0;\" x1=\"93.5\" x2=\"118\" y1=\"156.9727\" y2=\"156.9727\"/></a><!--MD5=[8b0a4f24cb175194098225989eb1d2ff]\n",
       "@startuml\r\n",
       " \r\n",
       "comp def \"DecisionTest\" as E1  <<(T,blue)action def>> [[psysml:a611506a-05f4-4898-8d67-b23f8626d6c2 ]] {\r\n",
       "x\r\n",
       "- - actions - -\r\n",
       "A1\r\n",
       "A2\r\n",
       "A3\r\n",
       "- - decisionNodes - -\r\n",
       "test x\r\n",
       "- - transitions - -\r\n",
       "S\r\n",
       "}\r\n",
       "@enduml\r\n",
       "\n",
       "PlantUML version 1.2020.13(Sat Jun 13 12:26:38 UTC 2020)\n",
       "(EPL source distribution)\n",
       "Java Runtime: OpenJDK Runtime Environment\n",
       "JVM: OpenJDK 64-Bit Server VM\n",
       "Default Encoding: UTF-8\n",
       "Language: en\n",
       "Country: null\n",
       "--></g></svg>"
      ]
     },
     "execution_count": 7,
     "metadata": {},
     "output_type": "execute_result"
    }
   ],
   "source": [
    "%viz --style=\"COMPTREE\" --view=\"Sequence\" \"DecisionTest\""
   ]
  },
  {
   "cell_type": "code",
   "execution_count": 8,
   "id": "collectible-effort",
   "metadata": {
    "execution": {
     "iopub.execute_input": "2021-03-26T09:14:04.461770Z",
     "iopub.status.busy": "2021-03-26T09:14:04.461292Z",
     "iopub.status.idle": "2021-03-26T09:14:04.477518Z",
     "shell.execute_reply": "2021-03-26T09:14:04.477823Z"
    }
   },
   "outputs": [
    {
     "data": {
      "image/svg+xml": [
       "<?xml version=\"1.0\" encoding=\"UTF-8\" standalone=\"no\"?><svg xmlns=\"http://www.w3.org/2000/svg\" xmlns:xlink=\"http://www.w3.org/1999/xlink\" contentScriptType=\"application/ecmascript\" contentStyleType=\"text/css\" height=\"190px\" preserveAspectRatio=\"none\" style=\"width:873px;height:190px;background:#000000;\" version=\"1.1\" viewBox=\"0 0 873 190\" width=\"873px\" zoomAndPan=\"magnify\"><defs/><g><rect fill=\"#200D00\" height=\"1\" style=\"stroke: #200D00; stroke-width: 1.0;\" width=\"1\" x=\"0\" y=\"0\"/><rect fill=\"#33FF02\" height=\"21.2969\" style=\"stroke: #33FF02; stroke-width: 1.0;\" width=\"866\" x=\"5\" y=\"5\"/><text fill=\"#000000\" font-family=\"sans-serif\" font-size=\"14\" font-weight=\"bold\" lengthAdjust=\"spacingAndGlyphs\" textLength=\"168\" x=\"6\" y=\"20\">[From string (line 8) ]</text><text fill=\"#33FF02\" font-family=\"sans-serif\" font-size=\"14\" font-weight=\"bold\" lengthAdjust=\"spacingAndGlyphs\" textLength=\"0\" x=\"10\" y=\"40.2969\"/><text fill=\"#33FF02\" font-family=\"sans-serif\" font-size=\"14\" font-weight=\"bold\" lengthAdjust=\"spacingAndGlyphs\" textLength=\"79\" x=\"5\" y=\"56.5938\">@startuml</text><text fill=\"#33FF02\" font-family=\"sans-serif\" font-size=\"14\" font-weight=\"bold\" lengthAdjust=\"spacingAndGlyphs\" textLength=\"0\" x=\"10\" y=\"72.8906\"/><text fill=\"#33FF02\" font-family=\"sans-serif\" font-size=\"14\" font-weight=\"bold\" lengthAdjust=\"spacingAndGlyphs\" textLength=\"866\" x=\"5\" y=\"89.1875\">rec def \"DecisionTest\" as E1  &lt;&lt;(T,blue)action def&gt;&gt; [[psysml:a611506a-05f4-4898-8d67-b23f8626d6c2 ]] {</text><text fill=\"#33FF02\" font-family=\"sans-serif\" font-size=\"14\" font-weight=\"bold\" lengthAdjust=\"spacingAndGlyphs\" textLength=\"615\" x=\"5\" y=\"105.4844\">portout \"$result\" as E2  [[psysml:825b4193-3fd8-46d1-bb26-d00bcd83fe4c ]]</text><text fill=\"#33FF02\" font-family=\"sans-serif\" font-size=\"14\" font-weight=\"bold\" lengthAdjust=\"spacingAndGlyphs\" textLength=\"855\" x=\"5\" y=\"121.7813\">rec usage \"test x\" as E3  &lt;&lt;(T,blue)decisionNode&gt;&gt; [[psysml:6589aa4e-efab-4688-8327-f7f10099d134 ]] {</text><text fill=\"#33FF02\" font-family=\"sans-serif\" font-size=\"14\" font-weight=\"bold\" lengthAdjust=\"spacingAndGlyphs\" textLength=\"10\" x=\"5\" y=\"138.0781\">}</text><text fill=\"#33FF02\" font-family=\"sans-serif\" font-size=\"14\" font-weight=\"bold\" lengthAdjust=\"spacingAndGlyphs\" textLength=\"0\" x=\"10\" y=\"154.375\"/><text fill=\"#33FF02\" font-family=\"sans-serif\" font-size=\"14\" font-weight=\"bold\" lengthAdjust=\"spacingAndGlyphs\" textLength=\"10\" x=\"5\" y=\"170.6719\">{</text><text fill=\"#FF0000\" font-family=\"sans-serif\" font-size=\"14\" font-weight=\"bold\" lengthAdjust=\"spacingAndGlyphs\" textLength=\"106\" x=\"10\" y=\"186.9688\">Syntax Error?</text><!--MD5=[9797abe92c784d8ca88401f3259930fc]\n",
       "@startuml\r\n",
       " \r\n",
       "rec def \"DecisionTest\" as E1  <<(T,blue)action def>> [[psysml:a611506a-05f4-4898-8d67-b23f8626d6c2 ]] {\r\n",
       "portout \"$result\" as E2  [[psysml:825b4193-3fd8-46d1-bb26-d00bcd83fe4c ]] \r\n",
       "rec usage \"test x\" as E3  <<(T,blue)decisionNode>> [[psysml:6589aa4e-efab-4688-8327-f7f10099d134 ]] {\r\n",
       "}\r\n",
       "\r\n",
       "{\r\n",
       "portout \"$result\" as E4  [[psysml:03222c0c-45fb-446a-ae55-be21a490ff21 ]] \r\n",
       "portin \"$x\" as E5  [[psysml:1f067476-7b6a-4ee1-8091-903eee6b057e ]] \r\n",
       "portin \"$y\" as E6  [[psysml:736be314-0092-4efe-9283-a3128e572984 ]] \r\n",
       "portout \"$result\" as E7  [[psysml:78a09776-ac9f-434e-8d68-d86bf1b46cb7 ]] \r\n",
       "}\r\n",
       "\r\n",
       "{\r\n",
       "portout \"$result\" as E8  [[psysml:1aa891c2-82c1-43c8-8c92-2c9f46284f3f ]] \r\n",
       "portin \"$x\" as E9  [[psysml:41e20081-729f-43ab-b2b2-e475cbaa33cc ]] \r\n",
       "portin \"$y\" as E10  [[psysml:dd685822-7c1a-40d9-ad47-98988f0eab95 ]] \r\n",
       "portout \"$result\" as E11  [[psysml:ff30ef21-37bb-4366-a828-82b307802d91 ]] \r\n",
       "}\r\n",
       "\r\n",
       "{\r\n",
       "}\r\n",
       "\r\n",
       "{\r\n",
       "}\r\n",
       "\r\n",
       "{\r\n",
       "portout \"$result\" as E12  [[psysml:8acd1d71-26f3-4979-a604-5454cd234d07 ]] \r\n",
       "}\r\n",
       "\r\n",
       "{\r\n",
       "portout \"$result\" as E13  [[psysml:63187c6a-fa39-44bf-bd7b-baf836477136 ]] \r\n",
       "}\r\n",
       "\r\n",
       "rec usage \"A1\" as E14  <<(T,blue)action>> [[psysml:edf3151a-ea9a-49ab-905b-cac4748fa5cc ]] {\r\n",
       "}\r\n",
       "\r\n",
       "rec usage \"A2\" as E15  <<(T,blue)action>> [[psysml:3bd22752-b66f-42f0-9d88-956d01e987e1 ]] {\r\n",
       "}\r\n",
       "\r\n",
       "rec usage \"A3\" as E16  <<(T,blue)action>> [[psysml:809db6ec-9b23-4a20-a88e-0d707c026938 ]] {\r\n",
       "}\r\n",
       "\r\n",
       "rec usage \"S\" as E17  <<(T,blue)transition>> [[psysml:a1b52494-6c64-4433-870a-8c0c85f99588 ]] {\r\n",
       "rec usage \"A1\" as E18  <<(T,blue)action>> [[psysml:edf3151a-ea9a-49ab-905b-cac4748fa5cc ]] {\r\n",
       "}\r\n",
       "\r\n",
       "portout \"$result\" as E19  [[psysml:83f97503-27b8-4c10-a73e-d48c1a1b0911 ]] \r\n",
       "portin \"$x\" as E20  [[psysml:e039d1a4-e758-4cd1-b4b1-86e00270305d ]] \r\n",
       "portin \"$y\" as E21  [[psysml:0ebe1437-9ca5-4e09-9c89-2871c656e01e ]] \r\n",
       "portout \"$result\" as E22  [[psysml:95821532-07e2-4186-9bf5-2609b2b64808 ]] \r\n",
       "}\r\n",
       "\r\n",
       "rec usage \"A3\" as E23  <<(T,blue)action>> [[psysml:809db6ec-9b23-4a20-a88e-0d707c026938 ]] {\r\n",
       "}\r\n",
       "\r\n",
       "{\r\n",
       "portout \"$result\" as E24  [[psysml:29148d4a-85a5-459a-9935-db0d3e40f70f ]] \r\n",
       "portin \"$x\" as E25  [[psysml:c7cbf43b-156f-4fe1-932e-97acf8076a48 ]] \r\n",
       "portin \"$y\" as E26  [[psysml:d0e5218c-e833-4bf8-9c85-b0218eb0cb1f ]] \r\n",
       "portout \"$result\" as E27  [[psysml:f639559e-0e7a-4e62-b0cf-c675de4db47c ]] \r\n",
       "}\r\n",
       "\r\n",
       "}\r\n",
       "\r\n",
       "E6 -[thickness=5]- E4 [[psysml:5d6d5b38-9fc5-4e3a-9cb6-5e1ffd055c15 ]] \r\n",
       "E10 -[thickness=5]- E8 [[psysml:187378d7-d664-45d6-a81d-c8b3dbc9d7af ]] \r\n",
       "E21 -[thickness=5]- E19 [[psysml:b7ca4d72-a9f0-45a9-981c-6f89250d77d4 ]] \r\n",
       "E26 -[thickness=5]- E24 [[psysml:73bf4527-0e11-4058-a3d3-ef7c36e23adf ]] \r\n",
       "@enduml\r\n",
       "\n",
       "PlantUML version 1.2020.13(Sat Jun 13 12:26:38 UTC 2020)\n",
       "(EPL source distribution)\n",
       "Java Runtime: OpenJDK Runtime Environment\n",
       "JVM: OpenJDK 64-Bit Server VM\n",
       "Default Encoding: UTF-8\n",
       "Language: en\n",
       "Country: null\n",
       "--></g></svg>"
      ]
     },
     "execution_count": 8,
     "metadata": {},
     "output_type": "execute_result"
    }
   ],
   "source": [
    "%viz --style=\"COMPTREE\" --view=\"MIXED\" \"DecisionTest\""
   ]
  },
  {
   "cell_type": "code",
   "execution_count": 9,
   "id": "prompt-replication",
   "metadata": {
    "execution": {
     "iopub.execute_input": "2021-03-26T09:14:04.529031Z",
     "iopub.status.busy": "2021-03-26T09:14:04.528535Z",
     "iopub.status.idle": "2021-03-26T09:14:04.553023Z",
     "shell.execute_reply": "2021-03-26T09:14:04.553657Z"
    }
   },
   "outputs": [
    {
     "data": {
      "image/svg+xml": [
       "<?xml version=\"1.0\" encoding=\"UTF-8\" standalone=\"no\"?><svg xmlns=\"http://www.w3.org/2000/svg\" xmlns:xlink=\"http://www.w3.org/1999/xlink\" contentScriptType=\"application/ecmascript\" contentStyleType=\"text/css\" height=\"288px\" preserveAspectRatio=\"none\" style=\"width:873px;height:288px;background:#000000;\" version=\"1.1\" viewBox=\"0 0 873 288\" width=\"873px\" zoomAndPan=\"magnify\"><defs/><g><rect fill=\"#232701\" height=\"1\" style=\"stroke: #232701; stroke-width: 1.0;\" width=\"1\" x=\"0\" y=\"0\"/><rect fill=\"#33FF02\" height=\"21.2969\" style=\"stroke: #33FF02; stroke-width: 1.0;\" width=\"866\" x=\"5\" y=\"5\"/><text fill=\"#000000\" font-family=\"sans-serif\" font-size=\"14\" font-weight=\"bold\" lengthAdjust=\"spacingAndGlyphs\" textLength=\"178\" x=\"6\" y=\"20\">[From string (line 14) ]</text><text fill=\"#33FF02\" font-family=\"sans-serif\" font-size=\"14\" font-weight=\"bold\" lengthAdjust=\"spacingAndGlyphs\" textLength=\"0\" x=\"10\" y=\"40.2969\"/><text fill=\"#33FF02\" font-family=\"sans-serif\" font-size=\"14\" font-weight=\"bold\" lengthAdjust=\"spacingAndGlyphs\" textLength=\"79\" x=\"5\" y=\"56.5938\">@startuml</text><text fill=\"#33FF02\" font-family=\"sans-serif\" font-size=\"14\" font-weight=\"bold\" lengthAdjust=\"spacingAndGlyphs\" textLength=\"215\" x=\"5\" y=\"72.8906\">skinparam linetype polyline</text><text fill=\"#33FF02\" font-family=\"sans-serif\" font-size=\"14\" font-weight=\"bold\" lengthAdjust=\"spacingAndGlyphs\" textLength=\"228\" x=\"5\" y=\"89.1875\">skinparam monochrome true</text><text fill=\"#33FF02\" font-family=\"sans-serif\" font-size=\"14\" font-weight=\"bold\" lengthAdjust=\"spacingAndGlyphs\" textLength=\"309\" x=\"5\" y=\"105.4844\">skinparam classbackgroundcolor white</text><text fill=\"#33FF02\" font-family=\"sans-serif\" font-size=\"14\" font-weight=\"bold\" lengthAdjust=\"spacingAndGlyphs\" textLength=\"215\" x=\"5\" y=\"121.7813\">skinparam shadowing false</text><text fill=\"#33FF02\" font-family=\"sans-serif\" font-size=\"14\" font-weight=\"bold\" lengthAdjust=\"spacingAndGlyphs\" textLength=\"206\" x=\"5\" y=\"138.0781\">skinparam wrapWidth 300</text><text fill=\"#33FF02\" font-family=\"sans-serif\" font-size=\"14\" font-weight=\"bold\" lengthAdjust=\"spacingAndGlyphs\" textLength=\"82\" x=\"5\" y=\"154.375\">hide circle</text><text fill=\"#33FF02\" font-family=\"sans-serif\" font-size=\"14\" font-weight=\"bold\" lengthAdjust=\"spacingAndGlyphs\" textLength=\"0\" x=\"10\" y=\"170.6719\"/><text fill=\"#33FF02\" font-family=\"sans-serif\" font-size=\"14\" font-weight=\"bold\" lengthAdjust=\"spacingAndGlyphs\" textLength=\"866\" x=\"5\" y=\"186.9688\">rec def \"DecisionTest\" as E1  &lt;&lt;(T,blue)action def&gt;&gt; [[psysml:a611506a-05f4-4898-8d67-b23f8626d6c2 ]] {</text><text fill=\"#33FF02\" font-family=\"sans-serif\" font-size=\"14\" font-weight=\"bold\" lengthAdjust=\"spacingAndGlyphs\" textLength=\"615\" x=\"5\" y=\"203.2656\">portout \"$result\" as E2  [[psysml:825b4193-3fd8-46d1-bb26-d00bcd83fe4c ]]</text><text fill=\"#33FF02\" font-family=\"sans-serif\" font-size=\"14\" font-weight=\"bold\" lengthAdjust=\"spacingAndGlyphs\" textLength=\"855\" x=\"5\" y=\"219.5625\">rec usage \"test x\" as E3  &lt;&lt;(T,blue)decisionNode&gt;&gt; [[psysml:6589aa4e-efab-4688-8327-f7f10099d134 ]] {</text><text fill=\"#33FF02\" font-family=\"sans-serif\" font-size=\"14\" font-weight=\"bold\" lengthAdjust=\"spacingAndGlyphs\" textLength=\"10\" x=\"5\" y=\"235.8594\">}</text><text fill=\"#33FF02\" font-family=\"sans-serif\" font-size=\"14\" font-weight=\"bold\" lengthAdjust=\"spacingAndGlyphs\" textLength=\"0\" x=\"10\" y=\"252.1563\"/><text fill=\"#33FF02\" font-family=\"sans-serif\" font-size=\"14\" font-weight=\"bold\" lengthAdjust=\"spacingAndGlyphs\" textLength=\"10\" x=\"5\" y=\"268.4531\">{</text><text fill=\"#FF0000\" font-family=\"sans-serif\" font-size=\"14\" font-weight=\"bold\" lengthAdjust=\"spacingAndGlyphs\" textLength=\"106\" x=\"10\" y=\"284.75\">Syntax Error?</text><!--MD5=[8dfa8d25d7a74bf75e95308bb3fffbbc]\n",
       "@startuml\r\n",
       "skinparam linetype polyline\r\n",
       "skinparam monochrome true\r\n",
       "skinparam classbackgroundcolor white\r\n",
       "skinparam shadowing false\r\n",
       "skinparam wrapWidth 300\r\n",
       "hide circle\r\n",
       "\r\n",
       "rec def \"DecisionTest\" as E1  <<(T,blue)action def>> [[psysml:a611506a-05f4-4898-8d67-b23f8626d6c2 ]] {\r\n",
       "portout \"$result\" as E2  [[psysml:825b4193-3fd8-46d1-bb26-d00bcd83fe4c ]] \r\n",
       "rec usage \"test x\" as E3  <<(T,blue)decisionNode>> [[psysml:6589aa4e-efab-4688-8327-f7f10099d134 ]] {\r\n",
       "}\r\n",
       "\r\n",
       "{\r\n",
       "portout \"$result\" as E4  [[psysml:03222c0c-45fb-446a-ae55-be21a490ff21 ]] \r\n",
       "portin \"$x\" as E5  [[psysml:1f067476-7b6a-4ee1-8091-903eee6b057e ]] \r\n",
       "portin \"$y\" as E6  [[psysml:736be314-0092-4efe-9283-a3128e572984 ]] \r\n",
       "portout \"$result\" as E7  [[psysml:78a09776-ac9f-434e-8d68-d86bf1b46cb7 ]] \r\n",
       "}\r\n",
       "\r\n",
       "{\r\n",
       "portout \"$result\" as E8  [[psysml:1aa891c2-82c1-43c8-8c92-2c9f46284f3f ]] \r\n",
       "portin \"$x\" as E9  [[psysml:41e20081-729f-43ab-b2b2-e475cbaa33cc ]] \r\n",
       "portin \"$y\" as E10  [[psysml:dd685822-7c1a-40d9-ad47-98988f0eab95 ]] \r\n",
       "portout \"$result\" as E11  [[psysml:ff30ef21-37bb-4366-a828-82b307802d91 ]] \r\n",
       "}\r\n",
       "\r\n",
       "{\r\n",
       "}\r\n",
       "\r\n",
       "{\r\n",
       "}\r\n",
       "\r\n",
       "{\r\n",
       "portout \"$result\" as E12  [[psysml:8acd1d71-26f3-4979-a604-5454cd234d07 ]] \r\n",
       "}\r\n",
       "\r\n",
       "{\r\n",
       "portout \"$result\" as E13  [[psysml:63187c6a-fa39-44bf-bd7b-baf836477136 ]] \r\n",
       "}\r\n",
       "\r\n",
       "rec usage \"A1\" as E14  <<(T,blue)action>> [[psysml:edf3151a-ea9a-49ab-905b-cac4748fa5cc ]] {\r\n",
       "}\r\n",
       "\r\n",
       "rec usage \"A2\" as E15  <<(T,blue)action>> [[psysml:3bd22752-b66f-42f0-9d88-956d01e987e1 ]] {\r\n",
       "}\r\n",
       "\r\n",
       "rec usage \"A3\" as E16  <<(T,blue)action>> [[psysml:809db6ec-9b23-4a20-a88e-0d707c026938 ]] {\r\n",
       "}\r\n",
       "\r\n",
       "rec usage \"S\" as E17  <<(T,blue)transition>> [[psysml:a1b52494-6c64-4433-870a-8c0c85f99588 ]] {\r\n",
       "rec usage \"A1\" as E18  <<(T,blue)action>> [[psysml:edf3151a-ea9a-49ab-905b-cac4748fa5cc ]] {\r\n",
       "}\r\n",
       "\r\n",
       "portout \"$result\" as E19  [[psysml:83f97503-27b8-4c10-a73e-d48c1a1b0911 ]] \r\n",
       "portin \"$x\" as E20  [[psysml:e039d1a4-e758-4cd1-b4b1-86e00270305d ]] \r\n",
       "portin \"$y\" as E21  [[psysml:0ebe1437-9ca5-4e09-9c89-2871c656e01e ]] \r\n",
       "portout \"$result\" as E22  [[psysml:95821532-07e2-4186-9bf5-2609b2b64808 ]] \r\n",
       "}\r\n",
       "\r\n",
       "rec usage \"A3\" as E23  <<(T,blue)action>> [[psysml:809db6ec-9b23-4a20-a88e-0d707c026938 ]] {\r\n",
       "}\r\n",
       "\r\n",
       "{\r\n",
       "portout \"$result\" as E24  [[psysml:29148d4a-85a5-459a-9935-db0d3e40f70f ]] \r\n",
       "portin \"$x\" as E25  [[psysml:c7cbf43b-156f-4fe1-932e-97acf8076a48 ]] \r\n",
       "portin \"$y\" as E26  [[psysml:d0e5218c-e833-4bf8-9c85-b0218eb0cb1f ]] \r\n",
       "portout \"$result\" as E27  [[psysml:f639559e-0e7a-4e62-b0cf-c675de4db47c ]] \r\n",
       "}\r\n",
       "\r\n",
       "}\r\n",
       "\r\n",
       "E6 -[thickness=5]- E4 [[psysml:5d6d5b38-9fc5-4e3a-9cb6-5e1ffd055c15 ]] \r\n",
       "E10 -[thickness=5]- E8 [[psysml:187378d7-d664-45d6-a81d-c8b3dbc9d7af ]] \r\n",
       "E21 -[thickness=5]- E19 [[psysml:b7ca4d72-a9f0-45a9-981c-6f89250d77d4 ]] \r\n",
       "E26 -[thickness=5]- E24 [[psysml:73bf4527-0e11-4058-a3d3-ef7c36e23adf ]] \r\n",
       "@enduml\r\n",
       "\n",
       "PlantUML version 1.2020.13(Sat Jun 13 12:26:38 UTC 2020)\n",
       "(EPL source distribution)\n",
       "Java Runtime: OpenJDK Runtime Environment\n",
       "JVM: OpenJDK 64-Bit Server VM\n",
       "Default Encoding: UTF-8\n",
       "Language: en\n",
       "Country: null\n",
       "--></g></svg>"
      ]
     },
     "execution_count": 9,
     "metadata": {},
     "output_type": "execute_result"
    }
   ],
   "source": [
    "%viz --style=\"POLYLINE\" --view=\"Default\" \"DecisionTest\""
   ]
  },
  {
   "cell_type": "code",
   "execution_count": 10,
   "id": "accepted-entertainment",
   "metadata": {
    "execution": {
     "iopub.execute_input": "2021-03-26T09:14:04.605027Z",
     "iopub.status.busy": "2021-03-26T09:14:04.604540Z",
     "iopub.status.idle": "2021-03-26T09:14:04.684901Z",
     "shell.execute_reply": "2021-03-26T09:14:04.685293Z"
    }
   },
   "outputs": [
    {
     "data": {
      "image/svg+xml": [
       "<?xml version=\"1.0\" encoding=\"UTF-8\" standalone=\"no\"?><svg xmlns=\"http://www.w3.org/2000/svg\" xmlns:xlink=\"http://www.w3.org/1999/xlink\" contentScriptType=\"application/ecmascript\" contentStyleType=\"text/css\" height=\"207px\" preserveAspectRatio=\"none\" style=\"width:109px;height:207px;\" version=\"1.1\" viewBox=\"0 0 109 207\" width=\"109px\" zoomAndPan=\"magnify\"><defs/><g><!--MD5=[43c9051892ef23e1a46a86907403d788]\n",
       "class E1--><a href=\"psysml:a611506a-05f4-4898-8d67-b23f8626d6c2\" target=\"_top\" title=\"psysml:a611506a-05f4-4898-8d67-b23f8626d6c2\" xlink:actuate=\"onRequest\" xlink:href=\"psysml:a611506a-05f4-4898-8d67-b23f8626d6c2\" xlink:show=\"new\" xlink:title=\"psysml:a611506a-05f4-4898-8d67-b23f8626d6c2\" xlink:type=\"simple\"><rect fill=\"#FFFFFF\" height=\"189.9844\" id=\"E1\" style=\"stroke: #383838; stroke-width: 1.5;\" width=\"91\" x=\"7\" y=\"7\"/><text fill=\"#000000\" font-family=\"sans-serif\" font-size=\"12\" font-style=\"italic\" lengthAdjust=\"spacingAndGlyphs\" textLength=\"77\" x=\"14\" y=\"23.1387\">«action def»</text><text fill=\"#000000\" font-family=\"sans-serif\" font-size=\"12\" lengthAdjust=\"spacingAndGlyphs\" textLength=\"80\" x=\"12.5\" y=\"37.1074\">DecisionTest</text><line style=\"stroke: #383838; stroke-width: 1.5;\" x1=\"8\" x2=\"97\" y1=\"44.9375\" y2=\"44.9375\"/><text fill=\"#000000\" font-family=\"sans-serif\" font-size=\"11\" lengthAdjust=\"spacingAndGlyphs\" textLength=\"6\" x=\"13\" y=\"75.9526\">x</text><line style=\"stroke: #383838; stroke-width: 1.0;\" x1=\"8\" x2=\"25\" y1=\"59.3398\" y2=\"59.3398\"/><text fill=\"#000000\" font-family=\"sans-serif\" font-size=\"11\" lengthAdjust=\"spacingAndGlyphs\" textLength=\"55\" x=\"25\" y=\"62.6479\">attributes</text><line style=\"stroke: #383838; stroke-width: 1.0;\" x1=\"80\" x2=\"97\" y1=\"59.3398\" y2=\"59.3398\"/><text fill=\"#000000\" font-family=\"sans-serif\" font-size=\"11\" lengthAdjust=\"spacingAndGlyphs\" textLength=\"14\" x=\"13\" y=\"105.562\">A1</text><text fill=\"#000000\" font-family=\"sans-serif\" font-size=\"11\" lengthAdjust=\"spacingAndGlyphs\" textLength=\"14\" x=\"13\" y=\"118.3667\">A2</text><text fill=\"#000000\" font-family=\"sans-serif\" font-size=\"11\" lengthAdjust=\"spacingAndGlyphs\" textLength=\"14\" x=\"13\" y=\"131.1714\">A3</text><line style=\"stroke: #383838; stroke-width: 1.0;\" x1=\"8\" x2=\"32\" y1=\"88.9492\" y2=\"88.9492\"/><text fill=\"#000000\" font-family=\"sans-serif\" font-size=\"11\" lengthAdjust=\"spacingAndGlyphs\" textLength=\"41\" x=\"32\" y=\"92.2573\">actions</text><line style=\"stroke: #383838; stroke-width: 1.0;\" x1=\"73\" x2=\"97\" y1=\"88.9492\" y2=\"88.9492\"/><text fill=\"#000000\" font-family=\"sans-serif\" font-size=\"11\" lengthAdjust=\"spacingAndGlyphs\" textLength=\"32\" x=\"13\" y=\"160.7808\">test x</text><line style=\"stroke: #383838; stroke-width: 1.0;\" x1=\"8\" x2=\"11\" y1=\"144.168\" y2=\"144.168\"/><text fill=\"#000000\" font-family=\"sans-serif\" font-size=\"11\" lengthAdjust=\"spacingAndGlyphs\" textLength=\"83\" x=\"11\" y=\"147.4761\">decisionNodes</text><line style=\"stroke: #383838; stroke-width: 1.0;\" x1=\"94\" x2=\"97\" y1=\"144.168\" y2=\"144.168\"/><text fill=\"#000000\" font-family=\"sans-serif\" font-size=\"11\" lengthAdjust=\"spacingAndGlyphs\" textLength=\"8\" x=\"13\" y=\"190.3901\">S</text><line style=\"stroke: #383838; stroke-width: 1.0;\" x1=\"8\" x2=\"22\" y1=\"173.7773\" y2=\"173.7773\"/><text fill=\"#000000\" font-family=\"sans-serif\" font-size=\"11\" lengthAdjust=\"spacingAndGlyphs\" textLength=\"61\" x=\"22\" y=\"177.0854\">transitions</text><line style=\"stroke: #383838; stroke-width: 1.0;\" x1=\"83\" x2=\"97\" y1=\"173.7773\" y2=\"173.7773\"/></a><!--MD5=[67c486b9fea53d51724f1da1ffa4184a]\n",
       "@startuml\r\n",
       "skinparam linetype polyline\r\n",
       "skinparam monochrome true\r\n",
       "skinparam classbackgroundcolor white\r\n",
       "skinparam shadowing false\r\n",
       "skinparam wrapWidth 300\r\n",
       "hide circle\r\n",
       "\r\n",
       "comp def \"DecisionTest\" as E1  <<(T,blue)action def>> [[psysml:a611506a-05f4-4898-8d67-b23f8626d6c2 ]] {\r\n",
       "- - attributes - -\r\n",
       "x\r\n",
       "- - actions - -\r\n",
       "A1\r\n",
       "A2\r\n",
       "A3\r\n",
       "- - decisionNodes - -\r\n",
       "test x\r\n",
       "- - transitions - -\r\n",
       "S\r\n",
       "}\r\n",
       "@enduml\r\n",
       "\n",
       "PlantUML version 1.2020.13(Sat Jun 13 12:26:38 UTC 2020)\n",
       "(EPL source distribution)\n",
       "Java Runtime: OpenJDK Runtime Environment\n",
       "JVM: OpenJDK 64-Bit Server VM\n",
       "Default Encoding: UTF-8\n",
       "Language: en\n",
       "Country: null\n",
       "--></g></svg>"
      ]
     },
     "execution_count": 10,
     "metadata": {},
     "output_type": "execute_result"
    }
   ],
   "source": [
    "%viz --style=\"POLYLINE\" --view=\"Tree\" \"DecisionTest\""
   ]
  },
  {
   "cell_type": "code",
   "execution_count": 11,
   "id": "commercial-place",
   "metadata": {
    "execution": {
     "iopub.execute_input": "2021-03-26T09:14:04.736176Z",
     "iopub.status.busy": "2021-03-26T09:14:04.735785Z",
     "iopub.status.idle": "2021-03-26T09:14:04.742616Z",
     "shell.execute_reply": "2021-03-26T09:14:04.743004Z"
    }
   },
   "outputs": [
    {
     "data": {
      "image/svg+xml": [
       "<?xml version=\"1.0\" encoding=\"UTF-8\" standalone=\"no\"?><svg xmlns=\"http://www.w3.org/2000/svg\" xmlns:xlink=\"http://www.w3.org/1999/xlink\" contentScriptType=\"application/ecmascript\" contentStyleType=\"text/css\" height=\"12px\" preserveAspectRatio=\"none\" style=\"width:12px;height:12px;\" version=\"1.1\" viewBox=\"0 0 12 12\" width=\"12px\" zoomAndPan=\"magnify\"><defs/><g><!--MD5=[896ac0e7a515d8dd7765a661cb4ee08b]\n",
       "@startuml\r\n",
       "skinparam linetype polyline\r\n",
       "skinparam monochrome true\r\n",
       "skinparam classbackgroundcolor white\r\n",
       "skinparam shadowing false\r\n",
       "skinparam wrapWidth 300\r\n",
       "hide circle\r\n",
       "\r\n",
       "@enduml\r\n",
       "\n",
       "PlantUML version 1.2020.13(Sat Jun 13 12:26:38 UTC 2020)\n",
       "(EPL source distribution)\n",
       "Java Runtime: OpenJDK Runtime Environment\n",
       "JVM: OpenJDK 64-Bit Server VM\n",
       "Default Encoding: UTF-8\n",
       "Language: en\n",
       "Country: null\n",
       "--></g></svg>"
      ]
     },
     "execution_count": 11,
     "metadata": {},
     "output_type": "execute_result"
    }
   ],
   "source": [
    "%viz --style=\"POLYLINE\" --view=\"State\" \"DecisionTest\""
   ]
  },
  {
   "cell_type": "code",
   "execution_count": 12,
   "id": "private-symphony",
   "metadata": {
    "execution": {
     "iopub.execute_input": "2021-03-26T09:14:04.795404Z",
     "iopub.status.busy": "2021-03-26T09:14:04.794928Z",
     "iopub.status.idle": "2021-03-26T09:14:04.806943Z",
     "shell.execute_reply": "2021-03-26T09:14:04.807293Z"
    }
   },
   "outputs": [
    {
     "data": {
      "image/svg+xml": [
       "<?xml version=\"1.0\" encoding=\"UTF-8\" standalone=\"no\"?><svg xmlns=\"http://www.w3.org/2000/svg\" xmlns:xlink=\"http://www.w3.org/1999/xlink\" contentScriptType=\"application/ecmascript\" contentStyleType=\"text/css\" height=\"71px\" preserveAspectRatio=\"none\" style=\"width:145px;height:71px;\" version=\"1.1\" viewBox=\"0 0 145 71\" width=\"145px\" zoomAndPan=\"magnify\"><defs/><g><!--MD5=[43c9051892ef23e1a46a86907403d788]\n",
       "class E1--><a href=\"psysml:a611506a-05f4-4898-8d67-b23f8626d6c2\" target=\"_top\" title=\"psysml:a611506a-05f4-4898-8d67-b23f8626d6c2\" xlink:actuate=\"onRequest\" xlink:href=\"psysml:a611506a-05f4-4898-8d67-b23f8626d6c2\" xlink:show=\"new\" xlink:title=\"psysml:a611506a-05f4-4898-8d67-b23f8626d6c2\" xlink:type=\"simple\"><rect fill=\"#FFFFFF\" height=\"53.9375\" id=\"E1\" style=\"stroke: #383838; stroke-width: 1.5;\" width=\"127\" x=\"7\" y=\"7\"/><text fill=\"#000000\" font-family=\"sans-serif\" font-size=\"12\" font-style=\"italic\" lengthAdjust=\"spacingAndGlyphs\" textLength=\"125\" x=\"8\" y=\"23.1387\">«(T,blue)action def»</text><text fill=\"#000000\" font-family=\"sans-serif\" font-size=\"12\" lengthAdjust=\"spacingAndGlyphs\" textLength=\"80\" x=\"30.5\" y=\"37.1074\">DecisionTest</text><line style=\"stroke: #383838; stroke-width: 1.5;\" x1=\"8\" x2=\"133\" y1=\"44.9375\" y2=\"44.9375\"/><line style=\"stroke: #383838; stroke-width: 1.5;\" x1=\"8\" x2=\"133\" y1=\"52.9375\" y2=\"52.9375\"/></a><!--MD5=[37679e93858572d69d4c7c799c69c29d]\n",
       "@startuml\r\n",
       "skinparam ranksep 8\r\n",
       "skinparam rectangle {\r\n",
       " backgroundColor<<block>> LightGreen\r\n",
       "}\r\n",
       "skinparam linetype polyline\r\n",
       "skinparam monochrome true\r\n",
       "skinparam classbackgroundcolor white\r\n",
       "skinparam shadowing false\r\n",
       "skinparam wrapWidth 300\r\n",
       "hide circle\r\n",
       "\r\n",
       "def \"DecisionTest\" as E1  <<(T,blue)action def>> [[psysml:a611506a-05f4-4898-8d67-b23f8626d6c2 ]] \r\n",
       "@enduml\r\n",
       "\n",
       "PlantUML version 1.2020.13(Sat Jun 13 12:26:38 UTC 2020)\n",
       "(EPL source distribution)\n",
       "Java Runtime: OpenJDK Runtime Environment\n",
       "JVM: OpenJDK 64-Bit Server VM\n",
       "Default Encoding: UTF-8\n",
       "Language: en\n",
       "Country: null\n",
       "--></g></svg>"
      ]
     },
     "execution_count": 12,
     "metadata": {},
     "output_type": "execute_result"
    }
   ],
   "source": [
    "%viz --style=\"POLYLINE\" --view=\"Interconnection\" \"DecisionTest\""
   ]
  },
  {
   "cell_type": "code",
   "execution_count": 13,
   "id": "transparent-adaptation",
   "metadata": {
    "execution": {
     "iopub.execute_input": "2021-03-26T09:14:04.859673Z",
     "iopub.status.busy": "2021-03-26T09:14:04.859157Z",
     "iopub.status.idle": "2021-03-26T09:14:04.876119Z",
     "shell.execute_reply": "2021-03-26T09:14:04.876436Z"
    }
   },
   "outputs": [
    {
     "data": {
      "image/svg+xml": [
       "<?xml version=\"1.0\" encoding=\"UTF-8\" standalone=\"no\"?><svg xmlns=\"http://www.w3.org/2000/svg\" xmlns:xlink=\"http://www.w3.org/1999/xlink\" contentScriptType=\"application/ecmascript\" contentStyleType=\"text/css\" height=\"304px\" preserveAspectRatio=\"none\" style=\"width:873px;height:304px;background:#000000;\" version=\"1.1\" viewBox=\"0 0 873 304\" width=\"873px\" zoomAndPan=\"magnify\"><defs/><g><rect fill=\"#0B111C\" height=\"1\" style=\"stroke: #0B111C; stroke-width: 1.0;\" width=\"1\" x=\"0\" y=\"0\"/><rect fill=\"#33FF02\" height=\"21.2969\" style=\"stroke: #33FF02; stroke-width: 1.0;\" width=\"866\" x=\"5\" y=\"5\"/><text fill=\"#000000\" font-family=\"sans-serif\" font-size=\"14\" font-weight=\"bold\" lengthAdjust=\"spacingAndGlyphs\" textLength=\"178\" x=\"6\" y=\"20\">[From string (line 15) ]</text><text fill=\"#33FF02\" font-family=\"sans-serif\" font-size=\"14\" font-weight=\"bold\" lengthAdjust=\"spacingAndGlyphs\" textLength=\"0\" x=\"10\" y=\"40.2969\"/><text fill=\"#33FF02\" font-family=\"sans-serif\" font-size=\"14\" font-weight=\"bold\" lengthAdjust=\"spacingAndGlyphs\" textLength=\"79\" x=\"5\" y=\"56.5938\">@startuml</text><text fill=\"#33FF02\" font-family=\"sans-serif\" font-size=\"14\" font-weight=\"bold\" lengthAdjust=\"spacingAndGlyphs\" textLength=\"165\" x=\"5\" y=\"72.8906\">skinparam ranksep 8</text><text fill=\"#33FF02\" font-family=\"sans-serif\" font-size=\"14\" font-weight=\"bold\" lengthAdjust=\"spacingAndGlyphs\" textLength=\"215\" x=\"5\" y=\"89.1875\">skinparam linetype polyline</text><text fill=\"#33FF02\" font-family=\"sans-serif\" font-size=\"14\" font-weight=\"bold\" lengthAdjust=\"spacingAndGlyphs\" textLength=\"228\" x=\"5\" y=\"105.4844\">skinparam monochrome true</text><text fill=\"#33FF02\" font-family=\"sans-serif\" font-size=\"14\" font-weight=\"bold\" lengthAdjust=\"spacingAndGlyphs\" textLength=\"309\" x=\"5\" y=\"121.7813\">skinparam classbackgroundcolor white</text><text fill=\"#33FF02\" font-family=\"sans-serif\" font-size=\"14\" font-weight=\"bold\" lengthAdjust=\"spacingAndGlyphs\" textLength=\"215\" x=\"5\" y=\"138.0781\">skinparam shadowing false</text><text fill=\"#33FF02\" font-family=\"sans-serif\" font-size=\"14\" font-weight=\"bold\" lengthAdjust=\"spacingAndGlyphs\" textLength=\"206\" x=\"5\" y=\"154.375\">skinparam wrapWidth 300</text><text fill=\"#33FF02\" font-family=\"sans-serif\" font-size=\"14\" font-weight=\"bold\" lengthAdjust=\"spacingAndGlyphs\" textLength=\"82\" x=\"5\" y=\"170.6719\">hide circle</text><text fill=\"#33FF02\" font-family=\"sans-serif\" font-size=\"14\" font-weight=\"bold\" lengthAdjust=\"spacingAndGlyphs\" textLength=\"0\" x=\"10\" y=\"186.9688\"/><text fill=\"#33FF02\" font-family=\"sans-serif\" font-size=\"14\" font-weight=\"bold\" lengthAdjust=\"spacingAndGlyphs\" textLength=\"866\" x=\"5\" y=\"203.2656\">rec def \"DecisionTest\" as E1  &lt;&lt;(T,blue)action def&gt;&gt; [[psysml:a611506a-05f4-4898-8d67-b23f8626d6c2 ]] {</text><text fill=\"#33FF02\" font-family=\"sans-serif\" font-size=\"14\" font-weight=\"bold\" lengthAdjust=\"spacingAndGlyphs\" textLength=\"615\" x=\"5\" y=\"219.5625\">portout \"$result\" as E2  [[psysml:825b4193-3fd8-46d1-bb26-d00bcd83fe4c ]]</text><text fill=\"#33FF02\" font-family=\"sans-serif\" font-size=\"14\" font-weight=\"bold\" lengthAdjust=\"spacingAndGlyphs\" textLength=\"855\" x=\"5\" y=\"235.8594\">rec usage \"test x\" as E3  &lt;&lt;(T,blue)decisionNode&gt;&gt; [[psysml:6589aa4e-efab-4688-8327-f7f10099d134 ]] {</text><text fill=\"#33FF02\" font-family=\"sans-serif\" font-size=\"14\" font-weight=\"bold\" lengthAdjust=\"spacingAndGlyphs\" textLength=\"10\" x=\"5\" y=\"252.1563\">}</text><text fill=\"#33FF02\" font-family=\"sans-serif\" font-size=\"14\" font-weight=\"bold\" lengthAdjust=\"spacingAndGlyphs\" textLength=\"0\" x=\"10\" y=\"268.4531\"/><text fill=\"#33FF02\" font-family=\"sans-serif\" font-size=\"14\" font-weight=\"bold\" lengthAdjust=\"spacingAndGlyphs\" textLength=\"10\" x=\"5\" y=\"284.75\">{</text><text fill=\"#FF0000\" font-family=\"sans-serif\" font-size=\"14\" font-weight=\"bold\" lengthAdjust=\"spacingAndGlyphs\" textLength=\"106\" x=\"10\" y=\"301.0469\">Syntax Error?</text><!--MD5=[b1ed4054b00ab5ec697bc21fb1fa948f]\n",
       "@startuml\r\n",
       "skinparam ranksep 8\r\n",
       "skinparam linetype polyline\r\n",
       "skinparam monochrome true\r\n",
       "skinparam classbackgroundcolor white\r\n",
       "skinparam shadowing false\r\n",
       "skinparam wrapWidth 300\r\n",
       "hide circle\r\n",
       "\r\n",
       "rec def \"DecisionTest\" as E1  <<(T,blue)action def>> [[psysml:a611506a-05f4-4898-8d67-b23f8626d6c2 ]] {\r\n",
       "portout \"$result\" as E2  [[psysml:825b4193-3fd8-46d1-bb26-d00bcd83fe4c ]] \r\n",
       "rec usage \"test x\" as E3  <<(T,blue)decisionNode>> [[psysml:6589aa4e-efab-4688-8327-f7f10099d134 ]] {\r\n",
       "}\r\n",
       "\r\n",
       "{\r\n",
       "portout \"$result\" as E4  [[psysml:03222c0c-45fb-446a-ae55-be21a490ff21 ]] \r\n",
       "portin \"$x\" as E5  [[psysml:1f067476-7b6a-4ee1-8091-903eee6b057e ]] \r\n",
       "portin \"$y\" as E6  [[psysml:736be314-0092-4efe-9283-a3128e572984 ]] \r\n",
       "portout \"$result\" as E7  [[psysml:78a09776-ac9f-434e-8d68-d86bf1b46cb7 ]] \r\n",
       "}\r\n",
       "\r\n",
       "{\r\n",
       "portout \"$result\" as E8  [[psysml:1aa891c2-82c1-43c8-8c92-2c9f46284f3f ]] \r\n",
       "portin \"$x\" as E9  [[psysml:41e20081-729f-43ab-b2b2-e475cbaa33cc ]] \r\n",
       "portin \"$y\" as E10  [[psysml:dd685822-7c1a-40d9-ad47-98988f0eab95 ]] \r\n",
       "portout \"$result\" as E11  [[psysml:ff30ef21-37bb-4366-a828-82b307802d91 ]] \r\n",
       "}\r\n",
       "\r\n",
       "{\r\n",
       "}\r\n",
       "\r\n",
       "{\r\n",
       "}\r\n",
       "\r\n",
       "{\r\n",
       "portout \"$result\" as E12  [[psysml:8acd1d71-26f3-4979-a604-5454cd234d07 ]] \r\n",
       "}\r\n",
       "\r\n",
       "{\r\n",
       "portout \"$result\" as E13  [[psysml:63187c6a-fa39-44bf-bd7b-baf836477136 ]] \r\n",
       "}\r\n",
       "\r\n",
       "rec usage \"A1\" as E14  <<(T,blue)action>> [[psysml:edf3151a-ea9a-49ab-905b-cac4748fa5cc ]] {\r\n",
       "}\r\n",
       "\r\n",
       "rec usage \"A2\" as E15  <<(T,blue)action>> [[psysml:3bd22752-b66f-42f0-9d88-956d01e987e1 ]] {\r\n",
       "}\r\n",
       "\r\n",
       "rec usage \"A3\" as E16  <<(T,blue)action>> [[psysml:809db6ec-9b23-4a20-a88e-0d707c026938 ]] {\r\n",
       "}\r\n",
       "\r\n",
       "rec usage \"S\" as E17  <<(T,blue)transition>> [[psysml:a1b52494-6c64-4433-870a-8c0c85f99588 ]] {\r\n",
       "rec usage \"A1\" as E18  <<(T,blue)action>> [[psysml:edf3151a-ea9a-49ab-905b-cac4748fa5cc ]] {\r\n",
       "}\r\n",
       "\r\n",
       "portout \"$result\" as E19  [[psysml:83f97503-27b8-4c10-a73e-d48c1a1b0911 ]] \r\n",
       "portin \"$x\" as E20  [[psysml:e039d1a4-e758-4cd1-b4b1-86e00270305d ]] \r\n",
       "portin \"$y\" as E21  [[psysml:0ebe1437-9ca5-4e09-9c89-2871c656e01e ]] \r\n",
       "portout \"$result\" as E22  [[psysml:95821532-07e2-4186-9bf5-2609b2b64808 ]] \r\n",
       "}\r\n",
       "\r\n",
       "rec usage \"A3\" as E23  <<(T,blue)action>> [[psysml:809db6ec-9b23-4a20-a88e-0d707c026938 ]] {\r\n",
       "}\r\n",
       "\r\n",
       "{\r\n",
       "portout \"$result\" as E24  [[psysml:29148d4a-85a5-459a-9935-db0d3e40f70f ]] \r\n",
       "portin \"$x\" as E25  [[psysml:c7cbf43b-156f-4fe1-932e-97acf8076a48 ]] \r\n",
       "portin \"$y\" as E26  [[psysml:d0e5218c-e833-4bf8-9c85-b0218eb0cb1f ]] \r\n",
       "portout \"$result\" as E27  [[psysml:f639559e-0e7a-4e62-b0cf-c675de4db47c ]] \r\n",
       "}\r\n",
       "\r\n",
       "}\r\n",
       "\r\n",
       "E6 -[thickness=5]- E4 [[psysml:5d6d5b38-9fc5-4e3a-9cb6-5e1ffd055c15 ]] \r\n",
       "E10 -[thickness=5]- E8 [[psysml:187378d7-d664-45d6-a81d-c8b3dbc9d7af ]] \r\n",
       "E21 -[thickness=5]- E19 [[psysml:b7ca4d72-a9f0-45a9-981c-6f89250d77d4 ]] \r\n",
       "E26 -[thickness=5]- E24 [[psysml:73bf4527-0e11-4058-a3d3-ef7c36e23adf ]] \r\n",
       "@enduml\r\n",
       "\n",
       "PlantUML version 1.2020.13(Sat Jun 13 12:26:38 UTC 2020)\n",
       "(EPL source distribution)\n",
       "Java Runtime: OpenJDK Runtime Environment\n",
       "JVM: OpenJDK 64-Bit Server VM\n",
       "Default Encoding: UTF-8\n",
       "Language: en\n",
       "Country: null\n",
       "--></g></svg>"
      ]
     },
     "execution_count": 13,
     "metadata": {},
     "output_type": "execute_result"
    }
   ],
   "source": [
    "%viz --style=\"POLYLINE\" --view=\"Action\" \"DecisionTest\""
   ]
  },
  {
   "cell_type": "code",
   "execution_count": 14,
   "id": "quarterly-hormone",
   "metadata": {
    "execution": {
     "iopub.execute_input": "2021-03-26T09:14:04.927898Z",
     "iopub.status.busy": "2021-03-26T09:14:04.927483Z",
     "iopub.status.idle": "2021-03-26T09:14:04.997038Z",
     "shell.execute_reply": "2021-03-26T09:14:04.997426Z"
    }
   },
   "outputs": [
    {
     "data": {
      "image/svg+xml": [
       "<?xml version=\"1.0\" encoding=\"UTF-8\" standalone=\"no\"?><svg xmlns=\"http://www.w3.org/2000/svg\" xmlns:xlink=\"http://www.w3.org/1999/xlink\" contentScriptType=\"application/ecmascript\" contentStyleType=\"text/css\" height=\"207px\" preserveAspectRatio=\"none\" style=\"width:109px;height:207px;\" version=\"1.1\" viewBox=\"0 0 109 207\" width=\"109px\" zoomAndPan=\"magnify\"><defs/><g><!--MD5=[43c9051892ef23e1a46a86907403d788]\n",
       "class E1--><a href=\"psysml:a611506a-05f4-4898-8d67-b23f8626d6c2\" target=\"_top\" title=\"psysml:a611506a-05f4-4898-8d67-b23f8626d6c2\" xlink:actuate=\"onRequest\" xlink:href=\"psysml:a611506a-05f4-4898-8d67-b23f8626d6c2\" xlink:show=\"new\" xlink:title=\"psysml:a611506a-05f4-4898-8d67-b23f8626d6c2\" xlink:type=\"simple\"><rect fill=\"#FFFFFF\" height=\"189.9844\" id=\"E1\" style=\"stroke: #383838; stroke-width: 1.5;\" width=\"91\" x=\"7\" y=\"7\"/><text fill=\"#000000\" font-family=\"sans-serif\" font-size=\"12\" font-style=\"italic\" lengthAdjust=\"spacingAndGlyphs\" textLength=\"77\" x=\"14\" y=\"23.1387\">«action def»</text><text fill=\"#000000\" font-family=\"sans-serif\" font-size=\"12\" lengthAdjust=\"spacingAndGlyphs\" textLength=\"80\" x=\"12.5\" y=\"37.1074\">DecisionTest</text><line style=\"stroke: #383838; stroke-width: 1.5;\" x1=\"8\" x2=\"97\" y1=\"44.9375\" y2=\"44.9375\"/><text fill=\"#000000\" font-family=\"sans-serif\" font-size=\"11\" lengthAdjust=\"spacingAndGlyphs\" textLength=\"6\" x=\"13\" y=\"75.9526\">x</text><line style=\"stroke: #383838; stroke-width: 1.0;\" x1=\"8\" x2=\"25\" y1=\"59.3398\" y2=\"59.3398\"/><text fill=\"#000000\" font-family=\"sans-serif\" font-size=\"11\" lengthAdjust=\"spacingAndGlyphs\" textLength=\"55\" x=\"25\" y=\"62.6479\">attributes</text><line style=\"stroke: #383838; stroke-width: 1.0;\" x1=\"80\" x2=\"97\" y1=\"59.3398\" y2=\"59.3398\"/><text fill=\"#000000\" font-family=\"sans-serif\" font-size=\"11\" lengthAdjust=\"spacingAndGlyphs\" textLength=\"14\" x=\"13\" y=\"105.562\">A1</text><text fill=\"#000000\" font-family=\"sans-serif\" font-size=\"11\" lengthAdjust=\"spacingAndGlyphs\" textLength=\"14\" x=\"13\" y=\"118.3667\">A2</text><text fill=\"#000000\" font-family=\"sans-serif\" font-size=\"11\" lengthAdjust=\"spacingAndGlyphs\" textLength=\"14\" x=\"13\" y=\"131.1714\">A3</text><line style=\"stroke: #383838; stroke-width: 1.0;\" x1=\"8\" x2=\"32\" y1=\"88.9492\" y2=\"88.9492\"/><text fill=\"#000000\" font-family=\"sans-serif\" font-size=\"11\" lengthAdjust=\"spacingAndGlyphs\" textLength=\"41\" x=\"32\" y=\"92.2573\">actions</text><line style=\"stroke: #383838; stroke-width: 1.0;\" x1=\"73\" x2=\"97\" y1=\"88.9492\" y2=\"88.9492\"/><text fill=\"#000000\" font-family=\"sans-serif\" font-size=\"11\" lengthAdjust=\"spacingAndGlyphs\" textLength=\"32\" x=\"13\" y=\"160.7808\">test x</text><line style=\"stroke: #383838; stroke-width: 1.0;\" x1=\"8\" x2=\"11\" y1=\"144.168\" y2=\"144.168\"/><text fill=\"#000000\" font-family=\"sans-serif\" font-size=\"11\" lengthAdjust=\"spacingAndGlyphs\" textLength=\"83\" x=\"11\" y=\"147.4761\">decisionNodes</text><line style=\"stroke: #383838; stroke-width: 1.0;\" x1=\"94\" x2=\"97\" y1=\"144.168\" y2=\"144.168\"/><text fill=\"#000000\" font-family=\"sans-serif\" font-size=\"11\" lengthAdjust=\"spacingAndGlyphs\" textLength=\"8\" x=\"13\" y=\"190.3901\">S</text><line style=\"stroke: #383838; stroke-width: 1.0;\" x1=\"8\" x2=\"22\" y1=\"173.7773\" y2=\"173.7773\"/><text fill=\"#000000\" font-family=\"sans-serif\" font-size=\"11\" lengthAdjust=\"spacingAndGlyphs\" textLength=\"61\" x=\"22\" y=\"177.0854\">transitions</text><line style=\"stroke: #383838; stroke-width: 1.0;\" x1=\"83\" x2=\"97\" y1=\"173.7773\" y2=\"173.7773\"/></a><!--MD5=[67c486b9fea53d51724f1da1ffa4184a]\n",
       "@startuml\r\n",
       "skinparam linetype polyline\r\n",
       "skinparam monochrome true\r\n",
       "skinparam classbackgroundcolor white\r\n",
       "skinparam shadowing false\r\n",
       "skinparam wrapWidth 300\r\n",
       "hide circle\r\n",
       "\r\n",
       "comp def \"DecisionTest\" as E1  <<(T,blue)action def>> [[psysml:a611506a-05f4-4898-8d67-b23f8626d6c2 ]] {\r\n",
       "- - attributes - -\r\n",
       "x\r\n",
       "- - actions - -\r\n",
       "A1\r\n",
       "A2\r\n",
       "A3\r\n",
       "- - decisionNodes - -\r\n",
       "test x\r\n",
       "- - transitions - -\r\n",
       "S\r\n",
       "}\r\n",
       "@enduml\r\n",
       "\n",
       "PlantUML version 1.2020.13(Sat Jun 13 12:26:38 UTC 2020)\n",
       "(EPL source distribution)\n",
       "Java Runtime: OpenJDK Runtime Environment\n",
       "JVM: OpenJDK 64-Bit Server VM\n",
       "Default Encoding: UTF-8\n",
       "Language: en\n",
       "Country: null\n",
       "--></g></svg>"
      ]
     },
     "execution_count": 14,
     "metadata": {},
     "output_type": "execute_result"
    }
   ],
   "source": [
    "%viz --style=\"POLYLINE\" --view=\"Sequence\" \"DecisionTest\""
   ]
  },
  {
   "cell_type": "code",
   "execution_count": 15,
   "id": "surgical-amplifier",
   "metadata": {
    "execution": {
     "iopub.execute_input": "2021-03-26T09:14:05.048371Z",
     "iopub.status.busy": "2021-03-26T09:14:05.047925Z",
     "iopub.status.idle": "2021-03-26T09:14:05.063819Z",
     "shell.execute_reply": "2021-03-26T09:14:05.064165Z"
    }
   },
   "outputs": [
    {
     "data": {
      "image/svg+xml": [
       "<?xml version=\"1.0\" encoding=\"UTF-8\" standalone=\"no\"?><svg xmlns=\"http://www.w3.org/2000/svg\" xmlns:xlink=\"http://www.w3.org/1999/xlink\" contentScriptType=\"application/ecmascript\" contentStyleType=\"text/css\" height=\"288px\" preserveAspectRatio=\"none\" style=\"width:873px;height:288px;background:#000000;\" version=\"1.1\" viewBox=\"0 0 873 288\" width=\"873px\" zoomAndPan=\"magnify\"><defs/><g><rect fill=\"#120E22\" height=\"1\" style=\"stroke: #120E22; stroke-width: 1.0;\" width=\"1\" x=\"0\" y=\"0\"/><rect fill=\"#33FF02\" height=\"21.2969\" style=\"stroke: #33FF02; stroke-width: 1.0;\" width=\"866\" x=\"5\" y=\"5\"/><text fill=\"#000000\" font-family=\"sans-serif\" font-size=\"14\" font-weight=\"bold\" lengthAdjust=\"spacingAndGlyphs\" textLength=\"178\" x=\"6\" y=\"20\">[From string (line 14) ]</text><text fill=\"#33FF02\" font-family=\"sans-serif\" font-size=\"14\" font-weight=\"bold\" lengthAdjust=\"spacingAndGlyphs\" textLength=\"0\" x=\"10\" y=\"40.2969\"/><text fill=\"#33FF02\" font-family=\"sans-serif\" font-size=\"14\" font-weight=\"bold\" lengthAdjust=\"spacingAndGlyphs\" textLength=\"79\" x=\"5\" y=\"56.5938\">@startuml</text><text fill=\"#33FF02\" font-family=\"sans-serif\" font-size=\"14\" font-weight=\"bold\" lengthAdjust=\"spacingAndGlyphs\" textLength=\"215\" x=\"5\" y=\"72.8906\">skinparam linetype polyline</text><text fill=\"#33FF02\" font-family=\"sans-serif\" font-size=\"14\" font-weight=\"bold\" lengthAdjust=\"spacingAndGlyphs\" textLength=\"228\" x=\"5\" y=\"89.1875\">skinparam monochrome true</text><text fill=\"#33FF02\" font-family=\"sans-serif\" font-size=\"14\" font-weight=\"bold\" lengthAdjust=\"spacingAndGlyphs\" textLength=\"309\" x=\"5\" y=\"105.4844\">skinparam classbackgroundcolor white</text><text fill=\"#33FF02\" font-family=\"sans-serif\" font-size=\"14\" font-weight=\"bold\" lengthAdjust=\"spacingAndGlyphs\" textLength=\"215\" x=\"5\" y=\"121.7813\">skinparam shadowing false</text><text fill=\"#33FF02\" font-family=\"sans-serif\" font-size=\"14\" font-weight=\"bold\" lengthAdjust=\"spacingAndGlyphs\" textLength=\"206\" x=\"5\" y=\"138.0781\">skinparam wrapWidth 300</text><text fill=\"#33FF02\" font-family=\"sans-serif\" font-size=\"14\" font-weight=\"bold\" lengthAdjust=\"spacingAndGlyphs\" textLength=\"82\" x=\"5\" y=\"154.375\">hide circle</text><text fill=\"#33FF02\" font-family=\"sans-serif\" font-size=\"14\" font-weight=\"bold\" lengthAdjust=\"spacingAndGlyphs\" textLength=\"0\" x=\"10\" y=\"170.6719\"/><text fill=\"#33FF02\" font-family=\"sans-serif\" font-size=\"14\" font-weight=\"bold\" lengthAdjust=\"spacingAndGlyphs\" textLength=\"866\" x=\"5\" y=\"186.9688\">rec def \"DecisionTest\" as E1  &lt;&lt;(T,blue)action def&gt;&gt; [[psysml:a611506a-05f4-4898-8d67-b23f8626d6c2 ]] {</text><text fill=\"#33FF02\" font-family=\"sans-serif\" font-size=\"14\" font-weight=\"bold\" lengthAdjust=\"spacingAndGlyphs\" textLength=\"615\" x=\"5\" y=\"203.2656\">portout \"$result\" as E2  [[psysml:825b4193-3fd8-46d1-bb26-d00bcd83fe4c ]]</text><text fill=\"#33FF02\" font-family=\"sans-serif\" font-size=\"14\" font-weight=\"bold\" lengthAdjust=\"spacingAndGlyphs\" textLength=\"855\" x=\"5\" y=\"219.5625\">rec usage \"test x\" as E3  &lt;&lt;(T,blue)decisionNode&gt;&gt; [[psysml:6589aa4e-efab-4688-8327-f7f10099d134 ]] {</text><text fill=\"#33FF02\" font-family=\"sans-serif\" font-size=\"14\" font-weight=\"bold\" lengthAdjust=\"spacingAndGlyphs\" textLength=\"10\" x=\"5\" y=\"235.8594\">}</text><text fill=\"#33FF02\" font-family=\"sans-serif\" font-size=\"14\" font-weight=\"bold\" lengthAdjust=\"spacingAndGlyphs\" textLength=\"0\" x=\"10\" y=\"252.1563\"/><text fill=\"#33FF02\" font-family=\"sans-serif\" font-size=\"14\" font-weight=\"bold\" lengthAdjust=\"spacingAndGlyphs\" textLength=\"10\" x=\"5\" y=\"268.4531\">{</text><text fill=\"#FF0000\" font-family=\"sans-serif\" font-size=\"14\" font-weight=\"bold\" lengthAdjust=\"spacingAndGlyphs\" textLength=\"106\" x=\"10\" y=\"284.75\">Syntax Error?</text><!--MD5=[8dfa8d25d7a74bf75e95308bb3fffbbc]\n",
       "@startuml\r\n",
       "skinparam linetype polyline\r\n",
       "skinparam monochrome true\r\n",
       "skinparam classbackgroundcolor white\r\n",
       "skinparam shadowing false\r\n",
       "skinparam wrapWidth 300\r\n",
       "hide circle\r\n",
       "\r\n",
       "rec def \"DecisionTest\" as E1  <<(T,blue)action def>> [[psysml:a611506a-05f4-4898-8d67-b23f8626d6c2 ]] {\r\n",
       "portout \"$result\" as E2  [[psysml:825b4193-3fd8-46d1-bb26-d00bcd83fe4c ]] \r\n",
       "rec usage \"test x\" as E3  <<(T,blue)decisionNode>> [[psysml:6589aa4e-efab-4688-8327-f7f10099d134 ]] {\r\n",
       "}\r\n",
       "\r\n",
       "{\r\n",
       "portout \"$result\" as E4  [[psysml:03222c0c-45fb-446a-ae55-be21a490ff21 ]] \r\n",
       "portin \"$x\" as E5  [[psysml:1f067476-7b6a-4ee1-8091-903eee6b057e ]] \r\n",
       "portin \"$y\" as E6  [[psysml:736be314-0092-4efe-9283-a3128e572984 ]] \r\n",
       "portout \"$result\" as E7  [[psysml:78a09776-ac9f-434e-8d68-d86bf1b46cb7 ]] \r\n",
       "}\r\n",
       "\r\n",
       "{\r\n",
       "portout \"$result\" as E8  [[psysml:1aa891c2-82c1-43c8-8c92-2c9f46284f3f ]] \r\n",
       "portin \"$x\" as E9  [[psysml:41e20081-729f-43ab-b2b2-e475cbaa33cc ]] \r\n",
       "portin \"$y\" as E10  [[psysml:dd685822-7c1a-40d9-ad47-98988f0eab95 ]] \r\n",
       "portout \"$result\" as E11  [[psysml:ff30ef21-37bb-4366-a828-82b307802d91 ]] \r\n",
       "}\r\n",
       "\r\n",
       "{\r\n",
       "}\r\n",
       "\r\n",
       "{\r\n",
       "}\r\n",
       "\r\n",
       "{\r\n",
       "portout \"$result\" as E12  [[psysml:8acd1d71-26f3-4979-a604-5454cd234d07 ]] \r\n",
       "}\r\n",
       "\r\n",
       "{\r\n",
       "portout \"$result\" as E13  [[psysml:63187c6a-fa39-44bf-bd7b-baf836477136 ]] \r\n",
       "}\r\n",
       "\r\n",
       "rec usage \"A1\" as E14  <<(T,blue)action>> [[psysml:edf3151a-ea9a-49ab-905b-cac4748fa5cc ]] {\r\n",
       "}\r\n",
       "\r\n",
       "rec usage \"A2\" as E15  <<(T,blue)action>> [[psysml:3bd22752-b66f-42f0-9d88-956d01e987e1 ]] {\r\n",
       "}\r\n",
       "\r\n",
       "rec usage \"A3\" as E16  <<(T,blue)action>> [[psysml:809db6ec-9b23-4a20-a88e-0d707c026938 ]] {\r\n",
       "}\r\n",
       "\r\n",
       "rec usage \"S\" as E17  <<(T,blue)transition>> [[psysml:a1b52494-6c64-4433-870a-8c0c85f99588 ]] {\r\n",
       "rec usage \"A1\" as E18  <<(T,blue)action>> [[psysml:edf3151a-ea9a-49ab-905b-cac4748fa5cc ]] {\r\n",
       "}\r\n",
       "\r\n",
       "portout \"$result\" as E19  [[psysml:83f97503-27b8-4c10-a73e-d48c1a1b0911 ]] \r\n",
       "portin \"$x\" as E20  [[psysml:e039d1a4-e758-4cd1-b4b1-86e00270305d ]] \r\n",
       "portin \"$y\" as E21  [[psysml:0ebe1437-9ca5-4e09-9c89-2871c656e01e ]] \r\n",
       "portout \"$result\" as E22  [[psysml:95821532-07e2-4186-9bf5-2609b2b64808 ]] \r\n",
       "}\r\n",
       "\r\n",
       "rec usage \"A3\" as E23  <<(T,blue)action>> [[psysml:809db6ec-9b23-4a20-a88e-0d707c026938 ]] {\r\n",
       "}\r\n",
       "\r\n",
       "{\r\n",
       "portout \"$result\" as E24  [[psysml:29148d4a-85a5-459a-9935-db0d3e40f70f ]] \r\n",
       "portin \"$x\" as E25  [[psysml:c7cbf43b-156f-4fe1-932e-97acf8076a48 ]] \r\n",
       "portin \"$y\" as E26  [[psysml:d0e5218c-e833-4bf8-9c85-b0218eb0cb1f ]] \r\n",
       "portout \"$result\" as E27  [[psysml:f639559e-0e7a-4e62-b0cf-c675de4db47c ]] \r\n",
       "}\r\n",
       "\r\n",
       "}\r\n",
       "\r\n",
       "E6 -[thickness=5]- E4 [[psysml:5d6d5b38-9fc5-4e3a-9cb6-5e1ffd055c15 ]] \r\n",
       "E10 -[thickness=5]- E8 [[psysml:187378d7-d664-45d6-a81d-c8b3dbc9d7af ]] \r\n",
       "E21 -[thickness=5]- E19 [[psysml:b7ca4d72-a9f0-45a9-981c-6f89250d77d4 ]] \r\n",
       "E26 -[thickness=5]- E24 [[psysml:73bf4527-0e11-4058-a3d3-ef7c36e23adf ]] \r\n",
       "@enduml\r\n",
       "\n",
       "PlantUML version 1.2020.13(Sat Jun 13 12:26:38 UTC 2020)\n",
       "(EPL source distribution)\n",
       "Java Runtime: OpenJDK Runtime Environment\n",
       "JVM: OpenJDK 64-Bit Server VM\n",
       "Default Encoding: UTF-8\n",
       "Language: en\n",
       "Country: null\n",
       "--></g></svg>"
      ]
     },
     "execution_count": 15,
     "metadata": {},
     "output_type": "execute_result"
    }
   ],
   "source": [
    "%viz --style=\"POLYLINE\" --view=\"MIXED\" \"DecisionTest\""
   ]
  },
  {
   "cell_type": "code",
   "execution_count": 16,
   "id": "starting-colombia",
   "metadata": {
    "execution": {
     "iopub.execute_input": "2021-03-26T09:14:05.115875Z",
     "iopub.status.busy": "2021-03-26T09:14:05.115431Z",
     "iopub.status.idle": "2021-03-26T09:14:05.132680Z",
     "shell.execute_reply": "2021-03-26T09:14:05.131567Z"
    }
   },
   "outputs": [
    {
     "data": {
      "image/svg+xml": [
       "<?xml version=\"1.0\" encoding=\"UTF-8\" standalone=\"no\"?><svg xmlns=\"http://www.w3.org/2000/svg\" xmlns:xlink=\"http://www.w3.org/1999/xlink\" contentScriptType=\"application/ecmascript\" contentStyleType=\"text/css\" height=\"288px\" preserveAspectRatio=\"none\" style=\"width:873px;height:288px;background:#000000;\" version=\"1.1\" viewBox=\"0 0 873 288\" width=\"873px\" zoomAndPan=\"magnify\"><defs/><g><rect fill=\"#091716\" height=\"1\" style=\"stroke: #091716; stroke-width: 1.0;\" width=\"1\" x=\"0\" y=\"0\"/><rect fill=\"#33FF02\" height=\"21.2969\" style=\"stroke: #33FF02; stroke-width: 1.0;\" width=\"866\" x=\"5\" y=\"5\"/><text fill=\"#000000\" font-family=\"sans-serif\" font-size=\"14\" font-weight=\"bold\" lengthAdjust=\"spacingAndGlyphs\" textLength=\"178\" x=\"6\" y=\"20\">[From string (line 14) ]</text><text fill=\"#33FF02\" font-family=\"sans-serif\" font-size=\"14\" font-weight=\"bold\" lengthAdjust=\"spacingAndGlyphs\" textLength=\"0\" x=\"10\" y=\"40.2969\"/><text fill=\"#33FF02\" font-family=\"sans-serif\" font-size=\"14\" font-weight=\"bold\" lengthAdjust=\"spacingAndGlyphs\" textLength=\"79\" x=\"5\" y=\"56.5938\">@startuml</text><text fill=\"#33FF02\" font-family=\"sans-serif\" font-size=\"14\" font-weight=\"bold\" lengthAdjust=\"spacingAndGlyphs\" textLength=\"164\" x=\"5\" y=\"72.8906\">left to right direction</text><text fill=\"#33FF02\" font-family=\"sans-serif\" font-size=\"14\" font-weight=\"bold\" lengthAdjust=\"spacingAndGlyphs\" textLength=\"228\" x=\"5\" y=\"89.1875\">skinparam monochrome true</text><text fill=\"#33FF02\" font-family=\"sans-serif\" font-size=\"14\" font-weight=\"bold\" lengthAdjust=\"spacingAndGlyphs\" textLength=\"309\" x=\"5\" y=\"105.4844\">skinparam classbackgroundcolor white</text><text fill=\"#33FF02\" font-family=\"sans-serif\" font-size=\"14\" font-weight=\"bold\" lengthAdjust=\"spacingAndGlyphs\" textLength=\"215\" x=\"5\" y=\"121.7813\">skinparam shadowing false</text><text fill=\"#33FF02\" font-family=\"sans-serif\" font-size=\"14\" font-weight=\"bold\" lengthAdjust=\"spacingAndGlyphs\" textLength=\"206\" x=\"5\" y=\"138.0781\">skinparam wrapWidth 300</text><text fill=\"#33FF02\" font-family=\"sans-serif\" font-size=\"14\" font-weight=\"bold\" lengthAdjust=\"spacingAndGlyphs\" textLength=\"82\" x=\"5\" y=\"154.375\">hide circle</text><text fill=\"#33FF02\" font-family=\"sans-serif\" font-size=\"14\" font-weight=\"bold\" lengthAdjust=\"spacingAndGlyphs\" textLength=\"0\" x=\"10\" y=\"170.6719\"/><text fill=\"#33FF02\" font-family=\"sans-serif\" font-size=\"14\" font-weight=\"bold\" lengthAdjust=\"spacingAndGlyphs\" textLength=\"866\" x=\"5\" y=\"186.9688\">rec def \"DecisionTest\" as E1  &lt;&lt;(T,blue)action def&gt;&gt; [[psysml:a611506a-05f4-4898-8d67-b23f8626d6c2 ]] {</text><text fill=\"#33FF02\" font-family=\"sans-serif\" font-size=\"14\" font-weight=\"bold\" lengthAdjust=\"spacingAndGlyphs\" textLength=\"615\" x=\"5\" y=\"203.2656\">portout \"$result\" as E2  [[psysml:825b4193-3fd8-46d1-bb26-d00bcd83fe4c ]]</text><text fill=\"#33FF02\" font-family=\"sans-serif\" font-size=\"14\" font-weight=\"bold\" lengthAdjust=\"spacingAndGlyphs\" textLength=\"855\" x=\"5\" y=\"219.5625\">rec usage \"test x\" as E3  &lt;&lt;(T,blue)decisionNode&gt;&gt; [[psysml:6589aa4e-efab-4688-8327-f7f10099d134 ]] {</text><text fill=\"#33FF02\" font-family=\"sans-serif\" font-size=\"14\" font-weight=\"bold\" lengthAdjust=\"spacingAndGlyphs\" textLength=\"10\" x=\"5\" y=\"235.8594\">}</text><text fill=\"#33FF02\" font-family=\"sans-serif\" font-size=\"14\" font-weight=\"bold\" lengthAdjust=\"spacingAndGlyphs\" textLength=\"0\" x=\"10\" y=\"252.1563\"/><text fill=\"#33FF02\" font-family=\"sans-serif\" font-size=\"14\" font-weight=\"bold\" lengthAdjust=\"spacingAndGlyphs\" textLength=\"10\" x=\"5\" y=\"268.4531\">{</text><text fill=\"#FF0000\" font-family=\"sans-serif\" font-size=\"14\" font-weight=\"bold\" lengthAdjust=\"spacingAndGlyphs\" textLength=\"106\" x=\"10\" y=\"284.75\">Syntax Error?</text><!--MD5=[8e53ef208cc63b0bf981a9e4b0aa3e34]\n",
       "@startuml\r\n",
       "left to right direction\r\n",
       "skinparam monochrome true\r\n",
       "skinparam classbackgroundcolor white\r\n",
       "skinparam shadowing false\r\n",
       "skinparam wrapWidth 300\r\n",
       "hide circle\r\n",
       "\r\n",
       "rec def \"DecisionTest\" as E1  <<(T,blue)action def>> [[psysml:a611506a-05f4-4898-8d67-b23f8626d6c2 ]] {\r\n",
       "portout \"$result\" as E2  [[psysml:825b4193-3fd8-46d1-bb26-d00bcd83fe4c ]] \r\n",
       "rec usage \"test x\" as E3  <<(T,blue)decisionNode>> [[psysml:6589aa4e-efab-4688-8327-f7f10099d134 ]] {\r\n",
       "}\r\n",
       "\r\n",
       "{\r\n",
       "portout \"$result\" as E4  [[psysml:03222c0c-45fb-446a-ae55-be21a490ff21 ]] \r\n",
       "portin \"$x\" as E5  [[psysml:1f067476-7b6a-4ee1-8091-903eee6b057e ]] \r\n",
       "portin \"$y\" as E6  [[psysml:736be314-0092-4efe-9283-a3128e572984 ]] \r\n",
       "portout \"$result\" as E7  [[psysml:78a09776-ac9f-434e-8d68-d86bf1b46cb7 ]] \r\n",
       "}\r\n",
       "\r\n",
       "{\r\n",
       "portout \"$result\" as E8  [[psysml:1aa891c2-82c1-43c8-8c92-2c9f46284f3f ]] \r\n",
       "portin \"$x\" as E9  [[psysml:41e20081-729f-43ab-b2b2-e475cbaa33cc ]] \r\n",
       "portin \"$y\" as E10  [[psysml:dd685822-7c1a-40d9-ad47-98988f0eab95 ]] \r\n",
       "portout \"$result\" as E11  [[psysml:ff30ef21-37bb-4366-a828-82b307802d91 ]] \r\n",
       "}\r\n",
       "\r\n",
       "{\r\n",
       "}\r\n",
       "\r\n",
       "{\r\n",
       "}\r\n",
       "\r\n",
       "{\r\n",
       "portout \"$result\" as E12  [[psysml:8acd1d71-26f3-4979-a604-5454cd234d07 ]] \r\n",
       "}\r\n",
       "\r\n",
       "{\r\n",
       "portout \"$result\" as E13  [[psysml:63187c6a-fa39-44bf-bd7b-baf836477136 ]] \r\n",
       "}\r\n",
       "\r\n",
       "rec usage \"A1\" as E14  <<(T,blue)action>> [[psysml:edf3151a-ea9a-49ab-905b-cac4748fa5cc ]] {\r\n",
       "}\r\n",
       "\r\n",
       "rec usage \"A2\" as E15  <<(T,blue)action>> [[psysml:3bd22752-b66f-42f0-9d88-956d01e987e1 ]] {\r\n",
       "}\r\n",
       "\r\n",
       "rec usage \"A3\" as E16  <<(T,blue)action>> [[psysml:809db6ec-9b23-4a20-a88e-0d707c026938 ]] {\r\n",
       "}\r\n",
       "\r\n",
       "rec usage \"S\" as E17  <<(T,blue)transition>> [[psysml:a1b52494-6c64-4433-870a-8c0c85f99588 ]] {\r\n",
       "rec usage \"A1\" as E18  <<(T,blue)action>> [[psysml:edf3151a-ea9a-49ab-905b-cac4748fa5cc ]] {\r\n",
       "}\r\n",
       "\r\n",
       "portout \"$result\" as E19  [[psysml:83f97503-27b8-4c10-a73e-d48c1a1b0911 ]] \r\n",
       "portin \"$x\" as E20  [[psysml:e039d1a4-e758-4cd1-b4b1-86e00270305d ]] \r\n",
       "portin \"$y\" as E21  [[psysml:0ebe1437-9ca5-4e09-9c89-2871c656e01e ]] \r\n",
       "portout \"$result\" as E22  [[psysml:95821532-07e2-4186-9bf5-2609b2b64808 ]] \r\n",
       "}\r\n",
       "\r\n",
       "rec usage \"A3\" as E23  <<(T,blue)action>> [[psysml:809db6ec-9b23-4a20-a88e-0d707c026938 ]] {\r\n",
       "}\r\n",
       "\r\n",
       "{\r\n",
       "portout \"$result\" as E24  [[psysml:29148d4a-85a5-459a-9935-db0d3e40f70f ]] \r\n",
       "portin \"$x\" as E25  [[psysml:c7cbf43b-156f-4fe1-932e-97acf8076a48 ]] \r\n",
       "portin \"$y\" as E26  [[psysml:d0e5218c-e833-4bf8-9c85-b0218eb0cb1f ]] \r\n",
       "portout \"$result\" as E27  [[psysml:f639559e-0e7a-4e62-b0cf-c675de4db47c ]] \r\n",
       "}\r\n",
       "\r\n",
       "}\r\n",
       "\r\n",
       "E6 -[thickness=5]- E4 [[psysml:5d6d5b38-9fc5-4e3a-9cb6-5e1ffd055c15 ]] \r\n",
       "E10 -[thickness=5]- E8 [[psysml:187378d7-d664-45d6-a81d-c8b3dbc9d7af ]] \r\n",
       "E21 -[thickness=5]- E19 [[psysml:b7ca4d72-a9f0-45a9-981c-6f89250d77d4 ]] \r\n",
       "E26 -[thickness=5]- E24 [[psysml:73bf4527-0e11-4058-a3d3-ef7c36e23adf ]] \r\n",
       "@enduml\r\n",
       "\n",
       "PlantUML version 1.2020.13(Sat Jun 13 12:26:38 UTC 2020)\n",
       "(EPL source distribution)\n",
       "Java Runtime: OpenJDK Runtime Environment\n",
       "JVM: OpenJDK 64-Bit Server VM\n",
       "Default Encoding: UTF-8\n",
       "Language: en\n",
       "Country: null\n",
       "--></g></svg>"
      ]
     },
     "execution_count": 16,
     "metadata": {},
     "output_type": "execute_result"
    }
   ],
   "source": [
    "%viz --style=\"LR\" --view=\"Default\" \"DecisionTest\""
   ]
  },
  {
   "cell_type": "code",
   "execution_count": 17,
   "id": "given-selling",
   "metadata": {
    "execution": {
     "iopub.execute_input": "2021-03-26T09:14:05.185469Z",
     "iopub.status.busy": "2021-03-26T09:14:05.184587Z",
     "iopub.status.idle": "2021-03-26T09:14:05.253249Z",
     "shell.execute_reply": "2021-03-26T09:14:05.253568Z"
    }
   },
   "outputs": [
    {
     "data": {
      "image/svg+xml": [
       "<?xml version=\"1.0\" encoding=\"UTF-8\" standalone=\"no\"?><svg xmlns=\"http://www.w3.org/2000/svg\" xmlns:xlink=\"http://www.w3.org/1999/xlink\" contentScriptType=\"application/ecmascript\" contentStyleType=\"text/css\" height=\"207px\" preserveAspectRatio=\"none\" style=\"width:109px;height:207px;\" version=\"1.1\" viewBox=\"0 0 109 207\" width=\"109px\" zoomAndPan=\"magnify\"><defs/><g><!--MD5=[43c9051892ef23e1a46a86907403d788]\n",
       "class E1--><a href=\"psysml:a611506a-05f4-4898-8d67-b23f8626d6c2\" target=\"_top\" title=\"psysml:a611506a-05f4-4898-8d67-b23f8626d6c2\" xlink:actuate=\"onRequest\" xlink:href=\"psysml:a611506a-05f4-4898-8d67-b23f8626d6c2\" xlink:show=\"new\" xlink:title=\"psysml:a611506a-05f4-4898-8d67-b23f8626d6c2\" xlink:type=\"simple\"><rect fill=\"#FFFFFF\" height=\"189.9844\" id=\"E1\" style=\"stroke: #383838; stroke-width: 1.5;\" width=\"91\" x=\"7\" y=\"7\"/><text fill=\"#000000\" font-family=\"sans-serif\" font-size=\"12\" font-style=\"italic\" lengthAdjust=\"spacingAndGlyphs\" textLength=\"77\" x=\"14\" y=\"23.1387\">«action def»</text><text fill=\"#000000\" font-family=\"sans-serif\" font-size=\"12\" lengthAdjust=\"spacingAndGlyphs\" textLength=\"80\" x=\"12.5\" y=\"37.1074\">DecisionTest</text><line style=\"stroke: #383838; stroke-width: 1.5;\" x1=\"8\" x2=\"97\" y1=\"44.9375\" y2=\"44.9375\"/><text fill=\"#000000\" font-family=\"sans-serif\" font-size=\"11\" lengthAdjust=\"spacingAndGlyphs\" textLength=\"6\" x=\"13\" y=\"75.9526\">x</text><line style=\"stroke: #383838; stroke-width: 1.0;\" x1=\"8\" x2=\"25\" y1=\"59.3398\" y2=\"59.3398\"/><text fill=\"#000000\" font-family=\"sans-serif\" font-size=\"11\" lengthAdjust=\"spacingAndGlyphs\" textLength=\"55\" x=\"25\" y=\"62.6479\">attributes</text><line style=\"stroke: #383838; stroke-width: 1.0;\" x1=\"80\" x2=\"97\" y1=\"59.3398\" y2=\"59.3398\"/><text fill=\"#000000\" font-family=\"sans-serif\" font-size=\"11\" lengthAdjust=\"spacingAndGlyphs\" textLength=\"14\" x=\"13\" y=\"105.562\">A1</text><text fill=\"#000000\" font-family=\"sans-serif\" font-size=\"11\" lengthAdjust=\"spacingAndGlyphs\" textLength=\"14\" x=\"13\" y=\"118.3667\">A2</text><text fill=\"#000000\" font-family=\"sans-serif\" font-size=\"11\" lengthAdjust=\"spacingAndGlyphs\" textLength=\"14\" x=\"13\" y=\"131.1714\">A3</text><line style=\"stroke: #383838; stroke-width: 1.0;\" x1=\"8\" x2=\"32\" y1=\"88.9492\" y2=\"88.9492\"/><text fill=\"#000000\" font-family=\"sans-serif\" font-size=\"11\" lengthAdjust=\"spacingAndGlyphs\" textLength=\"41\" x=\"32\" y=\"92.2573\">actions</text><line style=\"stroke: #383838; stroke-width: 1.0;\" x1=\"73\" x2=\"97\" y1=\"88.9492\" y2=\"88.9492\"/><text fill=\"#000000\" font-family=\"sans-serif\" font-size=\"11\" lengthAdjust=\"spacingAndGlyphs\" textLength=\"32\" x=\"13\" y=\"160.7808\">test x</text><line style=\"stroke: #383838; stroke-width: 1.0;\" x1=\"8\" x2=\"11\" y1=\"144.168\" y2=\"144.168\"/><text fill=\"#000000\" font-family=\"sans-serif\" font-size=\"11\" lengthAdjust=\"spacingAndGlyphs\" textLength=\"83\" x=\"11\" y=\"147.4761\">decisionNodes</text><line style=\"stroke: #383838; stroke-width: 1.0;\" x1=\"94\" x2=\"97\" y1=\"144.168\" y2=\"144.168\"/><text fill=\"#000000\" font-family=\"sans-serif\" font-size=\"11\" lengthAdjust=\"spacingAndGlyphs\" textLength=\"8\" x=\"13\" y=\"190.3901\">S</text><line style=\"stroke: #383838; stroke-width: 1.0;\" x1=\"8\" x2=\"22\" y1=\"173.7773\" y2=\"173.7773\"/><text fill=\"#000000\" font-family=\"sans-serif\" font-size=\"11\" lengthAdjust=\"spacingAndGlyphs\" textLength=\"61\" x=\"22\" y=\"177.0854\">transitions</text><line style=\"stroke: #383838; stroke-width: 1.0;\" x1=\"83\" x2=\"97\" y1=\"173.7773\" y2=\"173.7773\"/></a><!--MD5=[3b683803260ca9b63a4024512285cd08]\n",
       "@startuml\r\n",
       "left to right direction\r\n",
       "skinparam monochrome true\r\n",
       "skinparam classbackgroundcolor white\r\n",
       "skinparam shadowing false\r\n",
       "skinparam wrapWidth 300\r\n",
       "hide circle\r\n",
       "\r\n",
       "comp def \"DecisionTest\" as E1  <<(T,blue)action def>> [[psysml:a611506a-05f4-4898-8d67-b23f8626d6c2 ]] {\r\n",
       "- - attributes - -\r\n",
       "x\r\n",
       "- - actions - -\r\n",
       "A1\r\n",
       "A2\r\n",
       "A3\r\n",
       "- - decisionNodes - -\r\n",
       "test x\r\n",
       "- - transitions - -\r\n",
       "S\r\n",
       "}\r\n",
       "@enduml\r\n",
       "\n",
       "PlantUML version 1.2020.13(Sat Jun 13 12:26:38 UTC 2020)\n",
       "(EPL source distribution)\n",
       "Java Runtime: OpenJDK Runtime Environment\n",
       "JVM: OpenJDK 64-Bit Server VM\n",
       "Default Encoding: UTF-8\n",
       "Language: en\n",
       "Country: null\n",
       "--></g></svg>"
      ]
     },
     "execution_count": 17,
     "metadata": {},
     "output_type": "execute_result"
    }
   ],
   "source": [
    "%viz --style=\"LR\" --view=\"Tree\" \"DecisionTest\""
   ]
  },
  {
   "cell_type": "code",
   "execution_count": 18,
   "id": "local-eagle",
   "metadata": {
    "execution": {
     "iopub.execute_input": "2021-03-26T09:14:05.306002Z",
     "iopub.status.busy": "2021-03-26T09:14:05.305349Z",
     "iopub.status.idle": "2021-03-26T09:14:05.311563Z",
     "shell.execute_reply": "2021-03-26T09:14:05.312025Z"
    }
   },
   "outputs": [
    {
     "data": {
      "image/svg+xml": [
       "<?xml version=\"1.0\" encoding=\"UTF-8\" standalone=\"no\"?><svg xmlns=\"http://www.w3.org/2000/svg\" xmlns:xlink=\"http://www.w3.org/1999/xlink\" contentScriptType=\"application/ecmascript\" contentStyleType=\"text/css\" height=\"12px\" preserveAspectRatio=\"none\" style=\"width:12px;height:12px;\" version=\"1.1\" viewBox=\"0 0 12 12\" width=\"12px\" zoomAndPan=\"magnify\"><defs/><g><!--MD5=[19d285c9d72a204eba4e2cd117d745e8]\n",
       "@startuml\r\n",
       "left to right direction\r\n",
       "skinparam monochrome true\r\n",
       "skinparam classbackgroundcolor white\r\n",
       "skinparam shadowing false\r\n",
       "skinparam wrapWidth 300\r\n",
       "hide circle\r\n",
       "\r\n",
       "@enduml\r\n",
       "\n",
       "PlantUML version 1.2020.13(Sat Jun 13 12:26:38 UTC 2020)\n",
       "(EPL source distribution)\n",
       "Java Runtime: OpenJDK Runtime Environment\n",
       "JVM: OpenJDK 64-Bit Server VM\n",
       "Default Encoding: UTF-8\n",
       "Language: en\n",
       "Country: null\n",
       "--></g></svg>"
      ]
     },
     "execution_count": 18,
     "metadata": {},
     "output_type": "execute_result"
    }
   ],
   "source": [
    "%viz --style=\"LR\" --view=\"State\" \"DecisionTest\""
   ]
  },
  {
   "cell_type": "code",
   "execution_count": 19,
   "id": "collected-asbestos",
   "metadata": {
    "execution": {
     "iopub.execute_input": "2021-03-26T09:14:05.363680Z",
     "iopub.status.busy": "2021-03-26T09:14:05.363146Z",
     "iopub.status.idle": "2021-03-26T09:14:05.372940Z",
     "shell.execute_reply": "2021-03-26T09:14:05.372628Z"
    }
   },
   "outputs": [
    {
     "data": {
      "image/svg+xml": [
       "<?xml version=\"1.0\" encoding=\"UTF-8\" standalone=\"no\"?><svg xmlns=\"http://www.w3.org/2000/svg\" xmlns:xlink=\"http://www.w3.org/1999/xlink\" contentScriptType=\"application/ecmascript\" contentStyleType=\"text/css\" height=\"71px\" preserveAspectRatio=\"none\" style=\"width:145px;height:71px;\" version=\"1.1\" viewBox=\"0 0 145 71\" width=\"145px\" zoomAndPan=\"magnify\"><defs/><g><!--MD5=[43c9051892ef23e1a46a86907403d788]\n",
       "class E1--><a href=\"psysml:a611506a-05f4-4898-8d67-b23f8626d6c2\" target=\"_top\" title=\"psysml:a611506a-05f4-4898-8d67-b23f8626d6c2\" xlink:actuate=\"onRequest\" xlink:href=\"psysml:a611506a-05f4-4898-8d67-b23f8626d6c2\" xlink:show=\"new\" xlink:title=\"psysml:a611506a-05f4-4898-8d67-b23f8626d6c2\" xlink:type=\"simple\"><rect fill=\"#FFFFFF\" height=\"53.9375\" id=\"E1\" style=\"stroke: #383838; stroke-width: 1.5;\" width=\"127\" x=\"7\" y=\"7\"/><text fill=\"#000000\" font-family=\"sans-serif\" font-size=\"12\" font-style=\"italic\" lengthAdjust=\"spacingAndGlyphs\" textLength=\"125\" x=\"8\" y=\"23.1387\">«(T,blue)action def»</text><text fill=\"#000000\" font-family=\"sans-serif\" font-size=\"12\" lengthAdjust=\"spacingAndGlyphs\" textLength=\"80\" x=\"30.5\" y=\"37.1074\">DecisionTest</text><line style=\"stroke: #383838; stroke-width: 1.5;\" x1=\"8\" x2=\"133\" y1=\"44.9375\" y2=\"44.9375\"/><line style=\"stroke: #383838; stroke-width: 1.5;\" x1=\"8\" x2=\"133\" y1=\"52.9375\" y2=\"52.9375\"/></a><!--MD5=[a786d12cc8e68372539f7142f53776b5]\n",
       "@startuml\r\n",
       "skinparam ranksep 8\r\n",
       "skinparam rectangle {\r\n",
       " backgroundColor<<block>> LightGreen\r\n",
       "}\r\n",
       "left to right direction\r\n",
       "skinparam monochrome true\r\n",
       "skinparam classbackgroundcolor white\r\n",
       "skinparam shadowing false\r\n",
       "skinparam wrapWidth 300\r\n",
       "hide circle\r\n",
       "\r\n",
       "def \"DecisionTest\" as E1  <<(T,blue)action def>> [[psysml:a611506a-05f4-4898-8d67-b23f8626d6c2 ]] \r\n",
       "@enduml\r\n",
       "\n",
       "PlantUML version 1.2020.13(Sat Jun 13 12:26:38 UTC 2020)\n",
       "(EPL source distribution)\n",
       "Java Runtime: OpenJDK Runtime Environment\n",
       "JVM: OpenJDK 64-Bit Server VM\n",
       "Default Encoding: UTF-8\n",
       "Language: en\n",
       "Country: null\n",
       "--></g></svg>"
      ]
     },
     "execution_count": 19,
     "metadata": {},
     "output_type": "execute_result"
    }
   ],
   "source": [
    "%viz --style=\"LR\" --view=\"Interconnection\" \"DecisionTest\""
   ]
  },
  {
   "cell_type": "code",
   "execution_count": 20,
   "id": "finnish-plate",
   "metadata": {
    "execution": {
     "iopub.execute_input": "2021-03-26T09:14:05.425713Z",
     "iopub.status.busy": "2021-03-26T09:14:05.425047Z",
     "iopub.status.idle": "2021-03-26T09:14:05.441077Z",
     "shell.execute_reply": "2021-03-26T09:14:05.441514Z"
    }
   },
   "outputs": [
    {
     "data": {
      "image/svg+xml": [
       "<?xml version=\"1.0\" encoding=\"UTF-8\" standalone=\"no\"?><svg xmlns=\"http://www.w3.org/2000/svg\" xmlns:xlink=\"http://www.w3.org/1999/xlink\" contentScriptType=\"application/ecmascript\" contentStyleType=\"text/css\" height=\"304px\" preserveAspectRatio=\"none\" style=\"width:873px;height:304px;background:#000000;\" version=\"1.1\" viewBox=\"0 0 873 304\" width=\"873px\" zoomAndPan=\"magnify\"><defs/><g><rect fill=\"#221A18\" height=\"1\" style=\"stroke: #221A18; stroke-width: 1.0;\" width=\"1\" x=\"0\" y=\"0\"/><rect fill=\"#33FF02\" height=\"21.2969\" style=\"stroke: #33FF02; stroke-width: 1.0;\" width=\"866\" x=\"5\" y=\"5\"/><text fill=\"#000000\" font-family=\"sans-serif\" font-size=\"14\" font-weight=\"bold\" lengthAdjust=\"spacingAndGlyphs\" textLength=\"178\" x=\"6\" y=\"20\">[From string (line 15) ]</text><text fill=\"#33FF02\" font-family=\"sans-serif\" font-size=\"14\" font-weight=\"bold\" lengthAdjust=\"spacingAndGlyphs\" textLength=\"0\" x=\"10\" y=\"40.2969\"/><text fill=\"#33FF02\" font-family=\"sans-serif\" font-size=\"14\" font-weight=\"bold\" lengthAdjust=\"spacingAndGlyphs\" textLength=\"79\" x=\"5\" y=\"56.5938\">@startuml</text><text fill=\"#33FF02\" font-family=\"sans-serif\" font-size=\"14\" font-weight=\"bold\" lengthAdjust=\"spacingAndGlyphs\" textLength=\"165\" x=\"5\" y=\"72.8906\">skinparam ranksep 8</text><text fill=\"#33FF02\" font-family=\"sans-serif\" font-size=\"14\" font-weight=\"bold\" lengthAdjust=\"spacingAndGlyphs\" textLength=\"164\" x=\"5\" y=\"89.1875\">left to right direction</text><text fill=\"#33FF02\" font-family=\"sans-serif\" font-size=\"14\" font-weight=\"bold\" lengthAdjust=\"spacingAndGlyphs\" textLength=\"228\" x=\"5\" y=\"105.4844\">skinparam monochrome true</text><text fill=\"#33FF02\" font-family=\"sans-serif\" font-size=\"14\" font-weight=\"bold\" lengthAdjust=\"spacingAndGlyphs\" textLength=\"309\" x=\"5\" y=\"121.7813\">skinparam classbackgroundcolor white</text><text fill=\"#33FF02\" font-family=\"sans-serif\" font-size=\"14\" font-weight=\"bold\" lengthAdjust=\"spacingAndGlyphs\" textLength=\"215\" x=\"5\" y=\"138.0781\">skinparam shadowing false</text><text fill=\"#33FF02\" font-family=\"sans-serif\" font-size=\"14\" font-weight=\"bold\" lengthAdjust=\"spacingAndGlyphs\" textLength=\"206\" x=\"5\" y=\"154.375\">skinparam wrapWidth 300</text><text fill=\"#33FF02\" font-family=\"sans-serif\" font-size=\"14\" font-weight=\"bold\" lengthAdjust=\"spacingAndGlyphs\" textLength=\"82\" x=\"5\" y=\"170.6719\">hide circle</text><text fill=\"#33FF02\" font-family=\"sans-serif\" font-size=\"14\" font-weight=\"bold\" lengthAdjust=\"spacingAndGlyphs\" textLength=\"0\" x=\"10\" y=\"186.9688\"/><text fill=\"#33FF02\" font-family=\"sans-serif\" font-size=\"14\" font-weight=\"bold\" lengthAdjust=\"spacingAndGlyphs\" textLength=\"866\" x=\"5\" y=\"203.2656\">rec def \"DecisionTest\" as E1  &lt;&lt;(T,blue)action def&gt;&gt; [[psysml:a611506a-05f4-4898-8d67-b23f8626d6c2 ]] {</text><text fill=\"#33FF02\" font-family=\"sans-serif\" font-size=\"14\" font-weight=\"bold\" lengthAdjust=\"spacingAndGlyphs\" textLength=\"615\" x=\"5\" y=\"219.5625\">portout \"$result\" as E2  [[psysml:825b4193-3fd8-46d1-bb26-d00bcd83fe4c ]]</text><text fill=\"#33FF02\" font-family=\"sans-serif\" font-size=\"14\" font-weight=\"bold\" lengthAdjust=\"spacingAndGlyphs\" textLength=\"855\" x=\"5\" y=\"235.8594\">rec usage \"test x\" as E3  &lt;&lt;(T,blue)decisionNode&gt;&gt; [[psysml:6589aa4e-efab-4688-8327-f7f10099d134 ]] {</text><text fill=\"#33FF02\" font-family=\"sans-serif\" font-size=\"14\" font-weight=\"bold\" lengthAdjust=\"spacingAndGlyphs\" textLength=\"10\" x=\"5\" y=\"252.1563\">}</text><text fill=\"#33FF02\" font-family=\"sans-serif\" font-size=\"14\" font-weight=\"bold\" lengthAdjust=\"spacingAndGlyphs\" textLength=\"0\" x=\"10\" y=\"268.4531\"/><text fill=\"#33FF02\" font-family=\"sans-serif\" font-size=\"14\" font-weight=\"bold\" lengthAdjust=\"spacingAndGlyphs\" textLength=\"10\" x=\"5\" y=\"284.75\">{</text><text fill=\"#FF0000\" font-family=\"sans-serif\" font-size=\"14\" font-weight=\"bold\" lengthAdjust=\"spacingAndGlyphs\" textLength=\"106\" x=\"10\" y=\"301.0469\">Syntax Error?</text><!--MD5=[73b49f834a3648dcd6b3f291a43b169b]\n",
       "@startuml\r\n",
       "skinparam ranksep 8\r\n",
       "left to right direction\r\n",
       "skinparam monochrome true\r\n",
       "skinparam classbackgroundcolor white\r\n",
       "skinparam shadowing false\r\n",
       "skinparam wrapWidth 300\r\n",
       "hide circle\r\n",
       "\r\n",
       "rec def \"DecisionTest\" as E1  <<(T,blue)action def>> [[psysml:a611506a-05f4-4898-8d67-b23f8626d6c2 ]] {\r\n",
       "portout \"$result\" as E2  [[psysml:825b4193-3fd8-46d1-bb26-d00bcd83fe4c ]] \r\n",
       "rec usage \"test x\" as E3  <<(T,blue)decisionNode>> [[psysml:6589aa4e-efab-4688-8327-f7f10099d134 ]] {\r\n",
       "}\r\n",
       "\r\n",
       "{\r\n",
       "portout \"$result\" as E4  [[psysml:03222c0c-45fb-446a-ae55-be21a490ff21 ]] \r\n",
       "portin \"$x\" as E5  [[psysml:1f067476-7b6a-4ee1-8091-903eee6b057e ]] \r\n",
       "portin \"$y\" as E6  [[psysml:736be314-0092-4efe-9283-a3128e572984 ]] \r\n",
       "portout \"$result\" as E7  [[psysml:78a09776-ac9f-434e-8d68-d86bf1b46cb7 ]] \r\n",
       "}\r\n",
       "\r\n",
       "{\r\n",
       "portout \"$result\" as E8  [[psysml:1aa891c2-82c1-43c8-8c92-2c9f46284f3f ]] \r\n",
       "portin \"$x\" as E9  [[psysml:41e20081-729f-43ab-b2b2-e475cbaa33cc ]] \r\n",
       "portin \"$y\" as E10  [[psysml:dd685822-7c1a-40d9-ad47-98988f0eab95 ]] \r\n",
       "portout \"$result\" as E11  [[psysml:ff30ef21-37bb-4366-a828-82b307802d91 ]] \r\n",
       "}\r\n",
       "\r\n",
       "{\r\n",
       "}\r\n",
       "\r\n",
       "{\r\n",
       "}\r\n",
       "\r\n",
       "{\r\n",
       "portout \"$result\" as E12  [[psysml:8acd1d71-26f3-4979-a604-5454cd234d07 ]] \r\n",
       "}\r\n",
       "\r\n",
       "{\r\n",
       "portout \"$result\" as E13  [[psysml:63187c6a-fa39-44bf-bd7b-baf836477136 ]] \r\n",
       "}\r\n",
       "\r\n",
       "rec usage \"A1\" as E14  <<(T,blue)action>> [[psysml:edf3151a-ea9a-49ab-905b-cac4748fa5cc ]] {\r\n",
       "}\r\n",
       "\r\n",
       "rec usage \"A2\" as E15  <<(T,blue)action>> [[psysml:3bd22752-b66f-42f0-9d88-956d01e987e1 ]] {\r\n",
       "}\r\n",
       "\r\n",
       "rec usage \"A3\" as E16  <<(T,blue)action>> [[psysml:809db6ec-9b23-4a20-a88e-0d707c026938 ]] {\r\n",
       "}\r\n",
       "\r\n",
       "rec usage \"S\" as E17  <<(T,blue)transition>> [[psysml:a1b52494-6c64-4433-870a-8c0c85f99588 ]] {\r\n",
       "rec usage \"A1\" as E18  <<(T,blue)action>> [[psysml:edf3151a-ea9a-49ab-905b-cac4748fa5cc ]] {\r\n",
       "}\r\n",
       "\r\n",
       "portout \"$result\" as E19  [[psysml:83f97503-27b8-4c10-a73e-d48c1a1b0911 ]] \r\n",
       "portin \"$x\" as E20  [[psysml:e039d1a4-e758-4cd1-b4b1-86e00270305d ]] \r\n",
       "portin \"$y\" as E21  [[psysml:0ebe1437-9ca5-4e09-9c89-2871c656e01e ]] \r\n",
       "portout \"$result\" as E22  [[psysml:95821532-07e2-4186-9bf5-2609b2b64808 ]] \r\n",
       "}\r\n",
       "\r\n",
       "rec usage \"A3\" as E23  <<(T,blue)action>> [[psysml:809db6ec-9b23-4a20-a88e-0d707c026938 ]] {\r\n",
       "}\r\n",
       "\r\n",
       "{\r\n",
       "portout \"$result\" as E24  [[psysml:29148d4a-85a5-459a-9935-db0d3e40f70f ]] \r\n",
       "portin \"$x\" as E25  [[psysml:c7cbf43b-156f-4fe1-932e-97acf8076a48 ]] \r\n",
       "portin \"$y\" as E26  [[psysml:d0e5218c-e833-4bf8-9c85-b0218eb0cb1f ]] \r\n",
       "portout \"$result\" as E27  [[psysml:f639559e-0e7a-4e62-b0cf-c675de4db47c ]] \r\n",
       "}\r\n",
       "\r\n",
       "}\r\n",
       "\r\n",
       "E6 -[thickness=5]- E4 [[psysml:5d6d5b38-9fc5-4e3a-9cb6-5e1ffd055c15 ]] \r\n",
       "E10 -[thickness=5]- E8 [[psysml:187378d7-d664-45d6-a81d-c8b3dbc9d7af ]] \r\n",
       "E21 -[thickness=5]- E19 [[psysml:b7ca4d72-a9f0-45a9-981c-6f89250d77d4 ]] \r\n",
       "E26 -[thickness=5]- E24 [[psysml:73bf4527-0e11-4058-a3d3-ef7c36e23adf ]] \r\n",
       "@enduml\r\n",
       "\n",
       "PlantUML version 1.2020.13(Sat Jun 13 12:26:38 UTC 2020)\n",
       "(EPL source distribution)\n",
       "Java Runtime: OpenJDK Runtime Environment\n",
       "JVM: OpenJDK 64-Bit Server VM\n",
       "Default Encoding: UTF-8\n",
       "Language: en\n",
       "Country: null\n",
       "--></g></svg>"
      ]
     },
     "execution_count": 20,
     "metadata": {},
     "output_type": "execute_result"
    }
   ],
   "source": [
    "%viz --style=\"LR\" --view=\"Action\" \"DecisionTest\""
   ]
  },
  {
   "cell_type": "code",
   "execution_count": 21,
   "id": "judicial-coating",
   "metadata": {
    "execution": {
     "iopub.execute_input": "2021-03-26T09:14:05.493525Z",
     "iopub.status.busy": "2021-03-26T09:14:05.492791Z",
     "iopub.status.idle": "2021-03-26T09:14:05.561004Z",
     "shell.execute_reply": "2021-03-26T09:14:05.561752Z"
    }
   },
   "outputs": [
    {
     "data": {
      "image/svg+xml": [
       "<?xml version=\"1.0\" encoding=\"UTF-8\" standalone=\"no\"?><svg xmlns=\"http://www.w3.org/2000/svg\" xmlns:xlink=\"http://www.w3.org/1999/xlink\" contentScriptType=\"application/ecmascript\" contentStyleType=\"text/css\" height=\"207px\" preserveAspectRatio=\"none\" style=\"width:109px;height:207px;\" version=\"1.1\" viewBox=\"0 0 109 207\" width=\"109px\" zoomAndPan=\"magnify\"><defs/><g><!--MD5=[43c9051892ef23e1a46a86907403d788]\n",
       "class E1--><a href=\"psysml:a611506a-05f4-4898-8d67-b23f8626d6c2\" target=\"_top\" title=\"psysml:a611506a-05f4-4898-8d67-b23f8626d6c2\" xlink:actuate=\"onRequest\" xlink:href=\"psysml:a611506a-05f4-4898-8d67-b23f8626d6c2\" xlink:show=\"new\" xlink:title=\"psysml:a611506a-05f4-4898-8d67-b23f8626d6c2\" xlink:type=\"simple\"><rect fill=\"#FFFFFF\" height=\"189.9844\" id=\"E1\" style=\"stroke: #383838; stroke-width: 1.5;\" width=\"91\" x=\"7\" y=\"7\"/><text fill=\"#000000\" font-family=\"sans-serif\" font-size=\"12\" font-style=\"italic\" lengthAdjust=\"spacingAndGlyphs\" textLength=\"77\" x=\"14\" y=\"23.1387\">«action def»</text><text fill=\"#000000\" font-family=\"sans-serif\" font-size=\"12\" lengthAdjust=\"spacingAndGlyphs\" textLength=\"80\" x=\"12.5\" y=\"37.1074\">DecisionTest</text><line style=\"stroke: #383838; stroke-width: 1.5;\" x1=\"8\" x2=\"97\" y1=\"44.9375\" y2=\"44.9375\"/><text fill=\"#000000\" font-family=\"sans-serif\" font-size=\"11\" lengthAdjust=\"spacingAndGlyphs\" textLength=\"6\" x=\"13\" y=\"75.9526\">x</text><line style=\"stroke: #383838; stroke-width: 1.0;\" x1=\"8\" x2=\"25\" y1=\"59.3398\" y2=\"59.3398\"/><text fill=\"#000000\" font-family=\"sans-serif\" font-size=\"11\" lengthAdjust=\"spacingAndGlyphs\" textLength=\"55\" x=\"25\" y=\"62.6479\">attributes</text><line style=\"stroke: #383838; stroke-width: 1.0;\" x1=\"80\" x2=\"97\" y1=\"59.3398\" y2=\"59.3398\"/><text fill=\"#000000\" font-family=\"sans-serif\" font-size=\"11\" lengthAdjust=\"spacingAndGlyphs\" textLength=\"14\" x=\"13\" y=\"105.562\">A1</text><text fill=\"#000000\" font-family=\"sans-serif\" font-size=\"11\" lengthAdjust=\"spacingAndGlyphs\" textLength=\"14\" x=\"13\" y=\"118.3667\">A2</text><text fill=\"#000000\" font-family=\"sans-serif\" font-size=\"11\" lengthAdjust=\"spacingAndGlyphs\" textLength=\"14\" x=\"13\" y=\"131.1714\">A3</text><line style=\"stroke: #383838; stroke-width: 1.0;\" x1=\"8\" x2=\"32\" y1=\"88.9492\" y2=\"88.9492\"/><text fill=\"#000000\" font-family=\"sans-serif\" font-size=\"11\" lengthAdjust=\"spacingAndGlyphs\" textLength=\"41\" x=\"32\" y=\"92.2573\">actions</text><line style=\"stroke: #383838; stroke-width: 1.0;\" x1=\"73\" x2=\"97\" y1=\"88.9492\" y2=\"88.9492\"/><text fill=\"#000000\" font-family=\"sans-serif\" font-size=\"11\" lengthAdjust=\"spacingAndGlyphs\" textLength=\"32\" x=\"13\" y=\"160.7808\">test x</text><line style=\"stroke: #383838; stroke-width: 1.0;\" x1=\"8\" x2=\"11\" y1=\"144.168\" y2=\"144.168\"/><text fill=\"#000000\" font-family=\"sans-serif\" font-size=\"11\" lengthAdjust=\"spacingAndGlyphs\" textLength=\"83\" x=\"11\" y=\"147.4761\">decisionNodes</text><line style=\"stroke: #383838; stroke-width: 1.0;\" x1=\"94\" x2=\"97\" y1=\"144.168\" y2=\"144.168\"/><text fill=\"#000000\" font-family=\"sans-serif\" font-size=\"11\" lengthAdjust=\"spacingAndGlyphs\" textLength=\"8\" x=\"13\" y=\"190.3901\">S</text><line style=\"stroke: #383838; stroke-width: 1.0;\" x1=\"8\" x2=\"22\" y1=\"173.7773\" y2=\"173.7773\"/><text fill=\"#000000\" font-family=\"sans-serif\" font-size=\"11\" lengthAdjust=\"spacingAndGlyphs\" textLength=\"61\" x=\"22\" y=\"177.0854\">transitions</text><line style=\"stroke: #383838; stroke-width: 1.0;\" x1=\"83\" x2=\"97\" y1=\"173.7773\" y2=\"173.7773\"/></a><!--MD5=[3b683803260ca9b63a4024512285cd08]\n",
       "@startuml\r\n",
       "left to right direction\r\n",
       "skinparam monochrome true\r\n",
       "skinparam classbackgroundcolor white\r\n",
       "skinparam shadowing false\r\n",
       "skinparam wrapWidth 300\r\n",
       "hide circle\r\n",
       "\r\n",
       "comp def \"DecisionTest\" as E1  <<(T,blue)action def>> [[psysml:a611506a-05f4-4898-8d67-b23f8626d6c2 ]] {\r\n",
       "- - attributes - -\r\n",
       "x\r\n",
       "- - actions - -\r\n",
       "A1\r\n",
       "A2\r\n",
       "A3\r\n",
       "- - decisionNodes - -\r\n",
       "test x\r\n",
       "- - transitions - -\r\n",
       "S\r\n",
       "}\r\n",
       "@enduml\r\n",
       "\n",
       "PlantUML version 1.2020.13(Sat Jun 13 12:26:38 UTC 2020)\n",
       "(EPL source distribution)\n",
       "Java Runtime: OpenJDK Runtime Environment\n",
       "JVM: OpenJDK 64-Bit Server VM\n",
       "Default Encoding: UTF-8\n",
       "Language: en\n",
       "Country: null\n",
       "--></g></svg>"
      ]
     },
     "execution_count": 21,
     "metadata": {},
     "output_type": "execute_result"
    }
   ],
   "source": [
    "%viz --style=\"LR\" --view=\"Sequence\" \"DecisionTest\""
   ]
  },
  {
   "cell_type": "code",
   "execution_count": 22,
   "id": "facial-injury",
   "metadata": {
    "execution": {
     "iopub.execute_input": "2021-03-26T09:14:05.615338Z",
     "iopub.status.busy": "2021-03-26T09:14:05.614385Z",
     "iopub.status.idle": "2021-03-26T09:14:05.629599Z",
     "shell.execute_reply": "2021-03-26T09:14:05.629904Z"
    }
   },
   "outputs": [
    {
     "data": {
      "image/svg+xml": [
       "<?xml version=\"1.0\" encoding=\"UTF-8\" standalone=\"no\"?><svg xmlns=\"http://www.w3.org/2000/svg\" xmlns:xlink=\"http://www.w3.org/1999/xlink\" contentScriptType=\"application/ecmascript\" contentStyleType=\"text/css\" height=\"288px\" preserveAspectRatio=\"none\" style=\"width:873px;height:288px;background:#000000;\" version=\"1.1\" viewBox=\"0 0 873 288\" width=\"873px\" zoomAndPan=\"magnify\"><defs/><g><rect fill=\"#252615\" height=\"1\" style=\"stroke: #252615; stroke-width: 1.0;\" width=\"1\" x=\"0\" y=\"0\"/><rect fill=\"#33FF02\" height=\"21.2969\" style=\"stroke: #33FF02; stroke-width: 1.0;\" width=\"866\" x=\"5\" y=\"5\"/><text fill=\"#000000\" font-family=\"sans-serif\" font-size=\"14\" font-weight=\"bold\" lengthAdjust=\"spacingAndGlyphs\" textLength=\"178\" x=\"6\" y=\"20\">[From string (line 14) ]</text><text fill=\"#33FF02\" font-family=\"sans-serif\" font-size=\"14\" font-weight=\"bold\" lengthAdjust=\"spacingAndGlyphs\" textLength=\"0\" x=\"10\" y=\"40.2969\"/><text fill=\"#33FF02\" font-family=\"sans-serif\" font-size=\"14\" font-weight=\"bold\" lengthAdjust=\"spacingAndGlyphs\" textLength=\"79\" x=\"5\" y=\"56.5938\">@startuml</text><text fill=\"#33FF02\" font-family=\"sans-serif\" font-size=\"14\" font-weight=\"bold\" lengthAdjust=\"spacingAndGlyphs\" textLength=\"164\" x=\"5\" y=\"72.8906\">left to right direction</text><text fill=\"#33FF02\" font-family=\"sans-serif\" font-size=\"14\" font-weight=\"bold\" lengthAdjust=\"spacingAndGlyphs\" textLength=\"228\" x=\"5\" y=\"89.1875\">skinparam monochrome true</text><text fill=\"#33FF02\" font-family=\"sans-serif\" font-size=\"14\" font-weight=\"bold\" lengthAdjust=\"spacingAndGlyphs\" textLength=\"309\" x=\"5\" y=\"105.4844\">skinparam classbackgroundcolor white</text><text fill=\"#33FF02\" font-family=\"sans-serif\" font-size=\"14\" font-weight=\"bold\" lengthAdjust=\"spacingAndGlyphs\" textLength=\"215\" x=\"5\" y=\"121.7813\">skinparam shadowing false</text><text fill=\"#33FF02\" font-family=\"sans-serif\" font-size=\"14\" font-weight=\"bold\" lengthAdjust=\"spacingAndGlyphs\" textLength=\"206\" x=\"5\" y=\"138.0781\">skinparam wrapWidth 300</text><text fill=\"#33FF02\" font-family=\"sans-serif\" font-size=\"14\" font-weight=\"bold\" lengthAdjust=\"spacingAndGlyphs\" textLength=\"82\" x=\"5\" y=\"154.375\">hide circle</text><text fill=\"#33FF02\" font-family=\"sans-serif\" font-size=\"14\" font-weight=\"bold\" lengthAdjust=\"spacingAndGlyphs\" textLength=\"0\" x=\"10\" y=\"170.6719\"/><text fill=\"#33FF02\" font-family=\"sans-serif\" font-size=\"14\" font-weight=\"bold\" lengthAdjust=\"spacingAndGlyphs\" textLength=\"866\" x=\"5\" y=\"186.9688\">rec def \"DecisionTest\" as E1  &lt;&lt;(T,blue)action def&gt;&gt; [[psysml:a611506a-05f4-4898-8d67-b23f8626d6c2 ]] {</text><text fill=\"#33FF02\" font-family=\"sans-serif\" font-size=\"14\" font-weight=\"bold\" lengthAdjust=\"spacingAndGlyphs\" textLength=\"615\" x=\"5\" y=\"203.2656\">portout \"$result\" as E2  [[psysml:825b4193-3fd8-46d1-bb26-d00bcd83fe4c ]]</text><text fill=\"#33FF02\" font-family=\"sans-serif\" font-size=\"14\" font-weight=\"bold\" lengthAdjust=\"spacingAndGlyphs\" textLength=\"855\" x=\"5\" y=\"219.5625\">rec usage \"test x\" as E3  &lt;&lt;(T,blue)decisionNode&gt;&gt; [[psysml:6589aa4e-efab-4688-8327-f7f10099d134 ]] {</text><text fill=\"#33FF02\" font-family=\"sans-serif\" font-size=\"14\" font-weight=\"bold\" lengthAdjust=\"spacingAndGlyphs\" textLength=\"10\" x=\"5\" y=\"235.8594\">}</text><text fill=\"#33FF02\" font-family=\"sans-serif\" font-size=\"14\" font-weight=\"bold\" lengthAdjust=\"spacingAndGlyphs\" textLength=\"0\" x=\"10\" y=\"252.1563\"/><text fill=\"#33FF02\" font-family=\"sans-serif\" font-size=\"14\" font-weight=\"bold\" lengthAdjust=\"spacingAndGlyphs\" textLength=\"10\" x=\"5\" y=\"268.4531\">{</text><text fill=\"#FF0000\" font-family=\"sans-serif\" font-size=\"14\" font-weight=\"bold\" lengthAdjust=\"spacingAndGlyphs\" textLength=\"106\" x=\"10\" y=\"284.75\">Syntax Error?</text><!--MD5=[8e53ef208cc63b0bf981a9e4b0aa3e34]\n",
       "@startuml\r\n",
       "left to right direction\r\n",
       "skinparam monochrome true\r\n",
       "skinparam classbackgroundcolor white\r\n",
       "skinparam shadowing false\r\n",
       "skinparam wrapWidth 300\r\n",
       "hide circle\r\n",
       "\r\n",
       "rec def \"DecisionTest\" as E1  <<(T,blue)action def>> [[psysml:a611506a-05f4-4898-8d67-b23f8626d6c2 ]] {\r\n",
       "portout \"$result\" as E2  [[psysml:825b4193-3fd8-46d1-bb26-d00bcd83fe4c ]] \r\n",
       "rec usage \"test x\" as E3  <<(T,blue)decisionNode>> [[psysml:6589aa4e-efab-4688-8327-f7f10099d134 ]] {\r\n",
       "}\r\n",
       "\r\n",
       "{\r\n",
       "portout \"$result\" as E4  [[psysml:03222c0c-45fb-446a-ae55-be21a490ff21 ]] \r\n",
       "portin \"$x\" as E5  [[psysml:1f067476-7b6a-4ee1-8091-903eee6b057e ]] \r\n",
       "portin \"$y\" as E6  [[psysml:736be314-0092-4efe-9283-a3128e572984 ]] \r\n",
       "portout \"$result\" as E7  [[psysml:78a09776-ac9f-434e-8d68-d86bf1b46cb7 ]] \r\n",
       "}\r\n",
       "\r\n",
       "{\r\n",
       "portout \"$result\" as E8  [[psysml:1aa891c2-82c1-43c8-8c92-2c9f46284f3f ]] \r\n",
       "portin \"$x\" as E9  [[psysml:41e20081-729f-43ab-b2b2-e475cbaa33cc ]] \r\n",
       "portin \"$y\" as E10  [[psysml:dd685822-7c1a-40d9-ad47-98988f0eab95 ]] \r\n",
       "portout \"$result\" as E11  [[psysml:ff30ef21-37bb-4366-a828-82b307802d91 ]] \r\n",
       "}\r\n",
       "\r\n",
       "{\r\n",
       "}\r\n",
       "\r\n",
       "{\r\n",
       "}\r\n",
       "\r\n",
       "{\r\n",
       "portout \"$result\" as E12  [[psysml:8acd1d71-26f3-4979-a604-5454cd234d07 ]] \r\n",
       "}\r\n",
       "\r\n",
       "{\r\n",
       "portout \"$result\" as E13  [[psysml:63187c6a-fa39-44bf-bd7b-baf836477136 ]] \r\n",
       "}\r\n",
       "\r\n",
       "rec usage \"A1\" as E14  <<(T,blue)action>> [[psysml:edf3151a-ea9a-49ab-905b-cac4748fa5cc ]] {\r\n",
       "}\r\n",
       "\r\n",
       "rec usage \"A2\" as E15  <<(T,blue)action>> [[psysml:3bd22752-b66f-42f0-9d88-956d01e987e1 ]] {\r\n",
       "}\r\n",
       "\r\n",
       "rec usage \"A3\" as E16  <<(T,blue)action>> [[psysml:809db6ec-9b23-4a20-a88e-0d707c026938 ]] {\r\n",
       "}\r\n",
       "\r\n",
       "rec usage \"S\" as E17  <<(T,blue)transition>> [[psysml:a1b52494-6c64-4433-870a-8c0c85f99588 ]] {\r\n",
       "rec usage \"A1\" as E18  <<(T,blue)action>> [[psysml:edf3151a-ea9a-49ab-905b-cac4748fa5cc ]] {\r\n",
       "}\r\n",
       "\r\n",
       "portout \"$result\" as E19  [[psysml:83f97503-27b8-4c10-a73e-d48c1a1b0911 ]] \r\n",
       "portin \"$x\" as E20  [[psysml:e039d1a4-e758-4cd1-b4b1-86e00270305d ]] \r\n",
       "portin \"$y\" as E21  [[psysml:0ebe1437-9ca5-4e09-9c89-2871c656e01e ]] \r\n",
       "portout \"$result\" as E22  [[psysml:95821532-07e2-4186-9bf5-2609b2b64808 ]] \r\n",
       "}\r\n",
       "\r\n",
       "rec usage \"A3\" as E23  <<(T,blue)action>> [[psysml:809db6ec-9b23-4a20-a88e-0d707c026938 ]] {\r\n",
       "}\r\n",
       "\r\n",
       "{\r\n",
       "portout \"$result\" as E24  [[psysml:29148d4a-85a5-459a-9935-db0d3e40f70f ]] \r\n",
       "portin \"$x\" as E25  [[psysml:c7cbf43b-156f-4fe1-932e-97acf8076a48 ]] \r\n",
       "portin \"$y\" as E26  [[psysml:d0e5218c-e833-4bf8-9c85-b0218eb0cb1f ]] \r\n",
       "portout \"$result\" as E27  [[psysml:f639559e-0e7a-4e62-b0cf-c675de4db47c ]] \r\n",
       "}\r\n",
       "\r\n",
       "}\r\n",
       "\r\n",
       "E6 -[thickness=5]- E4 [[psysml:5d6d5b38-9fc5-4e3a-9cb6-5e1ffd055c15 ]] \r\n",
       "E10 -[thickness=5]- E8 [[psysml:187378d7-d664-45d6-a81d-c8b3dbc9d7af ]] \r\n",
       "E21 -[thickness=5]- E19 [[psysml:b7ca4d72-a9f0-45a9-981c-6f89250d77d4 ]] \r\n",
       "E26 -[thickness=5]- E24 [[psysml:73bf4527-0e11-4058-a3d3-ef7c36e23adf ]] \r\n",
       "@enduml\r\n",
       "\n",
       "PlantUML version 1.2020.13(Sat Jun 13 12:26:38 UTC 2020)\n",
       "(EPL source distribution)\n",
       "Java Runtime: OpenJDK Runtime Environment\n",
       "JVM: OpenJDK 64-Bit Server VM\n",
       "Default Encoding: UTF-8\n",
       "Language: en\n",
       "Country: null\n",
       "--></g></svg>"
      ]
     },
     "execution_count": 22,
     "metadata": {},
     "output_type": "execute_result"
    }
   ],
   "source": [
    "%viz --style=\"LR\" --view=\"MIXED\" \"DecisionTest\""
   ]
  },
  {
   "cell_type": "code",
   "execution_count": 23,
   "id": "awful-juice",
   "metadata": {
    "execution": {
     "iopub.execute_input": "2021-03-26T09:14:05.682297Z",
     "iopub.status.busy": "2021-03-26T09:14:05.681685Z",
     "iopub.status.idle": "2021-03-26T09:14:05.696665Z",
     "shell.execute_reply": "2021-03-26T09:14:05.696349Z"
    }
   },
   "outputs": [
    {
     "data": {
      "image/svg+xml": [
       "<?xml version=\"1.0\" encoding=\"UTF-8\" standalone=\"no\"?><svg xmlns=\"http://www.w3.org/2000/svg\" xmlns:xlink=\"http://www.w3.org/1999/xlink\" contentScriptType=\"application/ecmascript\" contentStyleType=\"text/css\" height=\"223px\" preserveAspectRatio=\"none\" style=\"width:873px;height:223px;background:#000000;\" version=\"1.1\" viewBox=\"0 0 873 223\" width=\"873px\" zoomAndPan=\"magnify\"><defs/><g><rect fill=\"#212718\" height=\"1\" style=\"stroke: #212718; stroke-width: 1.0;\" width=\"1\" x=\"0\" y=\"0\"/><rect fill=\"#33FF02\" height=\"21.2969\" style=\"stroke: #33FF02; stroke-width: 1.0;\" width=\"866\" x=\"5\" y=\"5\"/><text fill=\"#000000\" font-family=\"sans-serif\" font-size=\"14\" font-weight=\"bold\" lengthAdjust=\"spacingAndGlyphs\" textLength=\"178\" x=\"6\" y=\"20\">[From string (line 10) ]</text><text fill=\"#33FF02\" font-family=\"sans-serif\" font-size=\"14\" font-weight=\"bold\" lengthAdjust=\"spacingAndGlyphs\" textLength=\"0\" x=\"10\" y=\"40.2969\"/><text fill=\"#33FF02\" font-family=\"sans-serif\" font-size=\"14\" font-weight=\"bold\" lengthAdjust=\"spacingAndGlyphs\" textLength=\"79\" x=\"5\" y=\"56.5938\">@startuml</text><text fill=\"#33FF02\" font-family=\"sans-serif\" font-size=\"14\" font-weight=\"bold\" lengthAdjust=\"spacingAndGlyphs\" textLength=\"206\" x=\"5\" y=\"72.8906\">skinparam wrapWidth 300</text><text fill=\"#33FF02\" font-family=\"sans-serif\" font-size=\"14\" font-weight=\"bold\" lengthAdjust=\"spacingAndGlyphs\" textLength=\"82\" x=\"5\" y=\"89.1875\">hide circle</text><text fill=\"#33FF02\" font-family=\"sans-serif\" font-size=\"14\" font-weight=\"bold\" lengthAdjust=\"spacingAndGlyphs\" textLength=\"0\" x=\"10\" y=\"105.4844\"/><text fill=\"#33FF02\" font-family=\"sans-serif\" font-size=\"14\" font-weight=\"bold\" lengthAdjust=\"spacingAndGlyphs\" textLength=\"866\" x=\"5\" y=\"121.7813\">rec def \"DecisionTest\" as E1  &lt;&lt;(T,blue)action def&gt;&gt; [[psysml:a611506a-05f4-4898-8d67-b23f8626d6c2 ]] {</text><text fill=\"#33FF02\" font-family=\"sans-serif\" font-size=\"14\" font-weight=\"bold\" lengthAdjust=\"spacingAndGlyphs\" textLength=\"615\" x=\"5\" y=\"138.0781\">portout \"$result\" as E2  [[psysml:825b4193-3fd8-46d1-bb26-d00bcd83fe4c ]]</text><text fill=\"#33FF02\" font-family=\"sans-serif\" font-size=\"14\" font-weight=\"bold\" lengthAdjust=\"spacingAndGlyphs\" textLength=\"855\" x=\"5\" y=\"154.375\">rec usage \"test x\" as E3  &lt;&lt;(T,blue)decisionNode&gt;&gt; [[psysml:6589aa4e-efab-4688-8327-f7f10099d134 ]] {</text><text fill=\"#33FF02\" font-family=\"sans-serif\" font-size=\"14\" font-weight=\"bold\" lengthAdjust=\"spacingAndGlyphs\" textLength=\"10\" x=\"5\" y=\"170.6719\">}</text><text fill=\"#33FF02\" font-family=\"sans-serif\" font-size=\"14\" font-weight=\"bold\" lengthAdjust=\"spacingAndGlyphs\" textLength=\"0\" x=\"10\" y=\"186.9688\"/><text fill=\"#33FF02\" font-family=\"sans-serif\" font-size=\"14\" font-weight=\"bold\" lengthAdjust=\"spacingAndGlyphs\" textLength=\"10\" x=\"5\" y=\"203.2656\">{</text><text fill=\"#FF0000\" font-family=\"sans-serif\" font-size=\"14\" font-weight=\"bold\" lengthAdjust=\"spacingAndGlyphs\" textLength=\"106\" x=\"10\" y=\"219.5625\">Syntax Error?</text><!--MD5=[d71f324f99ca579611aab95208eb7525]\n",
       "@startuml\r\n",
       "skinparam wrapWidth 300\r\n",
       "hide circle\r\n",
       "\r\n",
       "rec def \"DecisionTest\" as E1  <<(T,blue)action def>> [[psysml:a611506a-05f4-4898-8d67-b23f8626d6c2 ]] {\r\n",
       "portout \"$result\" as E2  [[psysml:825b4193-3fd8-46d1-bb26-d00bcd83fe4c ]] \r\n",
       "rec usage \"test x\" as E3  <<(T,blue)decisionNode>> [[psysml:6589aa4e-efab-4688-8327-f7f10099d134 ]] {\r\n",
       "}\r\n",
       "\r\n",
       "{\r\n",
       "portout \"$result\" as E4  [[psysml:03222c0c-45fb-446a-ae55-be21a490ff21 ]] \r\n",
       "portin \"$x\" as E5  [[psysml:1f067476-7b6a-4ee1-8091-903eee6b057e ]] \r\n",
       "portin \"$y\" as E6  [[psysml:736be314-0092-4efe-9283-a3128e572984 ]] \r\n",
       "portout \"$result\" as E7  [[psysml:78a09776-ac9f-434e-8d68-d86bf1b46cb7 ]] \r\n",
       "}\r\n",
       "\r\n",
       "{\r\n",
       "portout \"$result\" as E8  [[psysml:1aa891c2-82c1-43c8-8c92-2c9f46284f3f ]] \r\n",
       "portin \"$x\" as E9  [[psysml:41e20081-729f-43ab-b2b2-e475cbaa33cc ]] \r\n",
       "portin \"$y\" as E10  [[psysml:dd685822-7c1a-40d9-ad47-98988f0eab95 ]] \r\n",
       "portout \"$result\" as E11  [[psysml:ff30ef21-37bb-4366-a828-82b307802d91 ]] \r\n",
       "}\r\n",
       "\r\n",
       "{\r\n",
       "}\r\n",
       "\r\n",
       "{\r\n",
       "}\r\n",
       "\r\n",
       "{\r\n",
       "portout \"$result\" as E12  [[psysml:8acd1d71-26f3-4979-a604-5454cd234d07 ]] \r\n",
       "}\r\n",
       "\r\n",
       "{\r\n",
       "portout \"$result\" as E13  [[psysml:63187c6a-fa39-44bf-bd7b-baf836477136 ]] \r\n",
       "}\r\n",
       "\r\n",
       "rec usage \"A1\" as E14  <<(T,blue)action>> [[psysml:edf3151a-ea9a-49ab-905b-cac4748fa5cc ]] {\r\n",
       "}\r\n",
       "\r\n",
       "rec usage \"A2\" as E15  <<(T,blue)action>> [[psysml:3bd22752-b66f-42f0-9d88-956d01e987e1 ]] {\r\n",
       "}\r\n",
       "\r\n",
       "rec usage \"A3\" as E16  <<(T,blue)action>> [[psysml:809db6ec-9b23-4a20-a88e-0d707c026938 ]] {\r\n",
       "}\r\n",
       "\r\n",
       "rec usage \"S\" as E17  <<(T,blue)transition>> [[psysml:a1b52494-6c64-4433-870a-8c0c85f99588 ]] {\r\n",
       "rec usage \"A1\" as E18  <<(T,blue)action>> [[psysml:edf3151a-ea9a-49ab-905b-cac4748fa5cc ]] {\r\n",
       "}\r\n",
       "\r\n",
       "portout \"$result\" as E19  [[psysml:83f97503-27b8-4c10-a73e-d48c1a1b0911 ]] \r\n",
       "portin \"$x\" as E20  [[psysml:e039d1a4-e758-4cd1-b4b1-86e00270305d ]] \r\n",
       "portin \"$y\" as E21  [[psysml:0ebe1437-9ca5-4e09-9c89-2871c656e01e ]] \r\n",
       "portout \"$result\" as E22  [[psysml:95821532-07e2-4186-9bf5-2609b2b64808 ]] \r\n",
       "}\r\n",
       "\r\n",
       "rec usage \"A3\" as E23  <<(T,blue)action>> [[psysml:809db6ec-9b23-4a20-a88e-0d707c026938 ]] {\r\n",
       "}\r\n",
       "\r\n",
       "{\r\n",
       "portout \"$result\" as E24  [[psysml:29148d4a-85a5-459a-9935-db0d3e40f70f ]] \r\n",
       "portin \"$x\" as E25  [[psysml:c7cbf43b-156f-4fe1-932e-97acf8076a48 ]] \r\n",
       "portin \"$y\" as E26  [[psysml:d0e5218c-e833-4bf8-9c85-b0218eb0cb1f ]] \r\n",
       "portout \"$result\" as E27  [[psysml:f639559e-0e7a-4e62-b0cf-c675de4db47c ]] \r\n",
       "}\r\n",
       "\r\n",
       "}\r\n",
       "\r\n",
       "E6 -[thickness=5,#red]- E4 [[psysml:5d6d5b38-9fc5-4e3a-9cb6-5e1ffd055c15 ]] \r\n",
       "E10 -[thickness=5,#red]- E8 [[psysml:187378d7-d664-45d6-a81d-c8b3dbc9d7af ]] \r\n",
       "E21 -[thickness=5,#red]- E19 [[psysml:b7ca4d72-a9f0-45a9-981c-6f89250d77d4 ]] \r\n",
       "E26 -[thickness=5,#red]- E24 [[psysml:73bf4527-0e11-4058-a3d3-ef7c36e23adf ]] \r\n",
       "@enduml\r\n",
       "\n",
       "PlantUML version 1.2020.13(Sat Jun 13 12:26:38 UTC 2020)\n",
       "(EPL source distribution)\n",
       "Java Runtime: OpenJDK Runtime Environment\n",
       "JVM: OpenJDK 64-Bit Server VM\n",
       "Default Encoding: UTF-8\n",
       "Language: en\n",
       "Country: null\n",
       "--></g></svg>"
      ]
     },
     "execution_count": 23,
     "metadata": {},
     "output_type": "execute_result"
    }
   ],
   "source": [
    "%viz --style=\"STDCOLOR\" --view=\"Default\" \"DecisionTest\""
   ]
  },
  {
   "cell_type": "code",
   "execution_count": 24,
   "id": "driven-agent",
   "metadata": {
    "execution": {
     "iopub.execute_input": "2021-03-26T09:14:05.747836Z",
     "iopub.status.busy": "2021-03-26T09:14:05.747255Z",
     "iopub.status.idle": "2021-03-26T09:14:05.804362Z",
     "shell.execute_reply": "2021-03-26T09:14:05.804682Z"
    }
   },
   "outputs": [
    {
     "data": {
      "image/svg+xml": [
       "<?xml version=\"1.0\" encoding=\"UTF-8\" standalone=\"no\"?><svg xmlns=\"http://www.w3.org/2000/svg\" xmlns:xlink=\"http://www.w3.org/1999/xlink\" contentScriptType=\"application/ecmascript\" contentStyleType=\"text/css\" height=\"199px\" preserveAspectRatio=\"none\" style=\"width:117px;height:199px;\" version=\"1.1\" viewBox=\"0 0 117 199\" width=\"117px\" zoomAndPan=\"magnify\"><defs><filter height=\"300%\" id=\"f1qo735y7cf6nx\" width=\"300%\" x=\"-1\" y=\"-1\"><feGaussianBlur result=\"blurOut\" stdDeviation=\"2.0\"/><feColorMatrix in=\"blurOut\" result=\"blurOut2\" type=\"matrix\" values=\"0 0 0 0 0 0 0 0 0 0 0 0 0 0 0 0 0 0 .4 0\"/><feOffset dx=\"4.0\" dy=\"4.0\" in=\"blurOut2\" result=\"blurOut3\"/><feBlend in=\"SourceGraphic\" in2=\"blurOut3\" mode=\"normal\"/></filter></defs><g><!--MD5=[43c9051892ef23e1a46a86907403d788]\n",
       "class E1--><a href=\"psysml:a611506a-05f4-4898-8d67-b23f8626d6c2\" target=\"_top\" title=\"psysml:a611506a-05f4-4898-8d67-b23f8626d6c2\" xlink:actuate=\"onRequest\" xlink:href=\"psysml:a611506a-05f4-4898-8d67-b23f8626d6c2\" xlink:show=\"new\" xlink:title=\"psysml:a611506a-05f4-4898-8d67-b23f8626d6c2\" xlink:type=\"simple\"><rect fill=\"#FEFECE\" filter=\"url(#f1qo735y7cf6nx)\" height=\"173.1797\" id=\"E1\" style=\"stroke: #A80036; stroke-width: 1.5;\" width=\"91\" x=\"7\" y=\"7\"/><text fill=\"#000000\" font-family=\"sans-serif\" font-size=\"12\" font-style=\"italic\" lengthAdjust=\"spacingAndGlyphs\" textLength=\"77\" x=\"14\" y=\"23.1387\">«action def»</text><text fill=\"#000000\" font-family=\"sans-serif\" font-size=\"12\" lengthAdjust=\"spacingAndGlyphs\" textLength=\"80\" x=\"12.5\" y=\"37.1074\">DecisionTest</text><line style=\"stroke: #A80036; stroke-width: 1.5;\" x1=\"8\" x2=\"97\" y1=\"44.9375\" y2=\"44.9375\"/><text fill=\"#000000\" font-family=\"sans-serif\" font-size=\"11\" lengthAdjust=\"spacingAndGlyphs\" textLength=\"6\" x=\"13\" y=\"59.1479\">x</text><text fill=\"#000000\" font-family=\"sans-serif\" font-size=\"11\" lengthAdjust=\"spacingAndGlyphs\" textLength=\"14\" x=\"13\" y=\"88.7573\">A1</text><text fill=\"#000000\" font-family=\"sans-serif\" font-size=\"11\" lengthAdjust=\"spacingAndGlyphs\" textLength=\"14\" x=\"13\" y=\"101.562\">A2</text><text fill=\"#000000\" font-family=\"sans-serif\" font-size=\"11\" lengthAdjust=\"spacingAndGlyphs\" textLength=\"14\" x=\"13\" y=\"114.3667\">A3</text><line style=\"stroke: #A80036; stroke-width: 1.0;\" x1=\"8\" x2=\"32\" y1=\"72.1445\" y2=\"72.1445\"/><text fill=\"#000000\" font-family=\"sans-serif\" font-size=\"11\" lengthAdjust=\"spacingAndGlyphs\" textLength=\"41\" x=\"32\" y=\"75.4526\">actions</text><line style=\"stroke: #A80036; stroke-width: 1.0;\" x1=\"73\" x2=\"97\" y1=\"72.1445\" y2=\"72.1445\"/><text fill=\"#000000\" font-family=\"sans-serif\" font-size=\"11\" lengthAdjust=\"spacingAndGlyphs\" textLength=\"32\" x=\"13\" y=\"143.9761\">test x</text><line style=\"stroke: #A80036; stroke-width: 1.0;\" x1=\"8\" x2=\"11\" y1=\"127.3633\" y2=\"127.3633\"/><text fill=\"#000000\" font-family=\"sans-serif\" font-size=\"11\" lengthAdjust=\"spacingAndGlyphs\" textLength=\"83\" x=\"11\" y=\"130.6714\">decisionNodes</text><line style=\"stroke: #A80036; stroke-width: 1.0;\" x1=\"94\" x2=\"97\" y1=\"127.3633\" y2=\"127.3633\"/><text fill=\"#000000\" font-family=\"sans-serif\" font-size=\"11\" lengthAdjust=\"spacingAndGlyphs\" textLength=\"8\" x=\"13\" y=\"173.5854\">S</text><line style=\"stroke: #A80036; stroke-width: 1.0;\" x1=\"8\" x2=\"22\" y1=\"156.9727\" y2=\"156.9727\"/><text fill=\"#000000\" font-family=\"sans-serif\" font-size=\"11\" lengthAdjust=\"spacingAndGlyphs\" textLength=\"61\" x=\"22\" y=\"160.2808\">transitions</text><line style=\"stroke: #A80036; stroke-width: 1.0;\" x1=\"83\" x2=\"97\" y1=\"156.9727\" y2=\"156.9727\"/></a><!--MD5=[61b531f9140b9688c172b8dd20779540]\n",
       "@startuml\r\n",
       "skinparam wrapWidth 300\r\n",
       "hide circle\r\n",
       "\r\n",
       "comp def \"DecisionTest\" as E1  <<(T,blue)action def>> [[psysml:a611506a-05f4-4898-8d67-b23f8626d6c2 ]] {\r\n",
       "x\r\n",
       "- - actions - -\r\n",
       "A1\r\n",
       "A2\r\n",
       "A3\r\n",
       "- - decisionNodes - -\r\n",
       "test x\r\n",
       "- - transitions - -\r\n",
       "S\r\n",
       "}\r\n",
       "@enduml\r\n",
       "\n",
       "PlantUML version 1.2020.13(Sat Jun 13 12:26:38 UTC 2020)\n",
       "(EPL source distribution)\n",
       "Java Runtime: OpenJDK Runtime Environment\n",
       "JVM: OpenJDK 64-Bit Server VM\n",
       "Default Encoding: UTF-8\n",
       "Language: en\n",
       "Country: null\n",
       "--></g></svg>"
      ]
     },
     "execution_count": 24,
     "metadata": {},
     "output_type": "execute_result"
    }
   ],
   "source": [
    "%viz --style=\"STDCOLOR\" --view=\"Tree\" \"DecisionTest\""
   ]
  },
  {
   "cell_type": "code",
   "execution_count": 25,
   "id": "solved-layout",
   "metadata": {
    "execution": {
     "iopub.execute_input": "2021-03-26T09:14:05.858128Z",
     "iopub.status.busy": "2021-03-26T09:14:05.857198Z",
     "iopub.status.idle": "2021-03-26T09:14:05.863537Z",
     "shell.execute_reply": "2021-03-26T09:14:05.863919Z"
    }
   },
   "outputs": [
    {
     "data": {
      "image/svg+xml": [
       "<?xml version=\"1.0\" encoding=\"UTF-8\" standalone=\"no\"?><svg xmlns=\"http://www.w3.org/2000/svg\" xmlns:xlink=\"http://www.w3.org/1999/xlink\" contentScriptType=\"application/ecmascript\" contentStyleType=\"text/css\" height=\"12px\" preserveAspectRatio=\"none\" style=\"width:12px;height:12px;\" version=\"1.1\" viewBox=\"0 0 12 12\" width=\"12px\" zoomAndPan=\"magnify\"><defs/><g><!--MD5=[aeeef50f102b80d730deb6443d14f702]\n",
       "@startuml\r\n",
       "skinparam wrapWidth 300\r\n",
       "hide circle\r\n",
       "\r\n",
       "@enduml\r\n",
       "\n",
       "PlantUML version 1.2020.13(Sat Jun 13 12:26:38 UTC 2020)\n",
       "(EPL source distribution)\n",
       "Java Runtime: OpenJDK Runtime Environment\n",
       "JVM: OpenJDK 64-Bit Server VM\n",
       "Default Encoding: UTF-8\n",
       "Language: en\n",
       "Country: null\n",
       "--></g></svg>"
      ]
     },
     "execution_count": 25,
     "metadata": {},
     "output_type": "execute_result"
    }
   ],
   "source": [
    "%viz --style=\"STDCOLOR\" --view=\"State\" \"DecisionTest\""
   ]
  },
  {
   "cell_type": "code",
   "execution_count": 26,
   "id": "dense-mexican",
   "metadata": {
    "execution": {
     "iopub.execute_input": "2021-03-26T09:14:05.915679Z",
     "iopub.status.busy": "2021-03-26T09:14:05.914890Z",
     "iopub.status.idle": "2021-03-26T09:14:05.924585Z",
     "shell.execute_reply": "2021-03-26T09:14:05.925084Z"
    }
   },
   "outputs": [
    {
     "data": {
      "image/svg+xml": [
       "<?xml version=\"1.0\" encoding=\"UTF-8\" standalone=\"no\"?><svg xmlns=\"http://www.w3.org/2000/svg\" xmlns:xlink=\"http://www.w3.org/1999/xlink\" contentScriptType=\"application/ecmascript\" contentStyleType=\"text/css\" height=\"79px\" preserveAspectRatio=\"none\" style=\"width:153px;height:79px;\" version=\"1.1\" viewBox=\"0 0 153 79\" width=\"153px\" zoomAndPan=\"magnify\"><defs><filter height=\"300%\" id=\"f1p9028ofgujt0\" width=\"300%\" x=\"-1\" y=\"-1\"><feGaussianBlur result=\"blurOut\" stdDeviation=\"2.0\"/><feColorMatrix in=\"blurOut\" result=\"blurOut2\" type=\"matrix\" values=\"0 0 0 0 0 0 0 0 0 0 0 0 0 0 0 0 0 0 .4 0\"/><feOffset dx=\"4.0\" dy=\"4.0\" in=\"blurOut2\" result=\"blurOut3\"/><feBlend in=\"SourceGraphic\" in2=\"blurOut3\" mode=\"normal\"/></filter></defs><g><!--MD5=[43c9051892ef23e1a46a86907403d788]\n",
       "class E1--><a href=\"psysml:a611506a-05f4-4898-8d67-b23f8626d6c2\" target=\"_top\" title=\"psysml:a611506a-05f4-4898-8d67-b23f8626d6c2\" xlink:actuate=\"onRequest\" xlink:href=\"psysml:a611506a-05f4-4898-8d67-b23f8626d6c2\" xlink:show=\"new\" xlink:title=\"psysml:a611506a-05f4-4898-8d67-b23f8626d6c2\" xlink:type=\"simple\"><rect fill=\"#FEFECE\" filter=\"url(#f1p9028ofgujt0)\" height=\"53.9375\" id=\"E1\" style=\"stroke: #A80036; stroke-width: 1.5;\" width=\"127\" x=\"7\" y=\"7\"/><text fill=\"#000000\" font-family=\"sans-serif\" font-size=\"12\" font-style=\"italic\" lengthAdjust=\"spacingAndGlyphs\" textLength=\"125\" x=\"8\" y=\"23.1387\">«(T,blue)action def»</text><text fill=\"#000000\" font-family=\"sans-serif\" font-size=\"12\" lengthAdjust=\"spacingAndGlyphs\" textLength=\"80\" x=\"30.5\" y=\"37.1074\">DecisionTest</text><line style=\"stroke: #A80036; stroke-width: 1.5;\" x1=\"8\" x2=\"133\" y1=\"44.9375\" y2=\"44.9375\"/><line style=\"stroke: #A80036; stroke-width: 1.5;\" x1=\"8\" x2=\"133\" y1=\"52.9375\" y2=\"52.9375\"/></a><!--MD5=[f2e4951a1883c377b12933a7ad99a5d8]\n",
       "@startuml\r\n",
       "skinparam ranksep 8\r\n",
       "skinparam rectangle {\r\n",
       " backgroundColor<<block>> LightGreen\r\n",
       "}\r\n",
       "skinparam wrapWidth 300\r\n",
       "hide circle\r\n",
       "\r\n",
       "def \"DecisionTest\" as E1  <<(T,blue)action def>> [[psysml:a611506a-05f4-4898-8d67-b23f8626d6c2 ]] \r\n",
       "@enduml\r\n",
       "\n",
       "PlantUML version 1.2020.13(Sat Jun 13 12:26:38 UTC 2020)\n",
       "(EPL source distribution)\n",
       "Java Runtime: OpenJDK Runtime Environment\n",
       "JVM: OpenJDK 64-Bit Server VM\n",
       "Default Encoding: UTF-8\n",
       "Language: en\n",
       "Country: null\n",
       "--></g></svg>"
      ]
     },
     "execution_count": 26,
     "metadata": {},
     "output_type": "execute_result"
    }
   ],
   "source": [
    "%viz --style=\"STDCOLOR\" --view=\"Interconnection\" \"DecisionTest\""
   ]
  },
  {
   "cell_type": "code",
   "execution_count": 27,
   "id": "spectacular-wings",
   "metadata": {
    "execution": {
     "iopub.execute_input": "2021-03-26T09:14:05.976359Z",
     "iopub.status.busy": "2021-03-26T09:14:05.975852Z",
     "iopub.status.idle": "2021-03-26T09:14:05.987802Z",
     "shell.execute_reply": "2021-03-26T09:14:05.987512Z"
    }
   },
   "outputs": [
    {
     "data": {
      "image/svg+xml": [
       "<?xml version=\"1.0\" encoding=\"UTF-8\" standalone=\"no\"?><svg xmlns=\"http://www.w3.org/2000/svg\" xmlns:xlink=\"http://www.w3.org/1999/xlink\" contentScriptType=\"application/ecmascript\" contentStyleType=\"text/css\" height=\"239px\" preserveAspectRatio=\"none\" style=\"width:873px;height:239px;background:#000000;\" version=\"1.1\" viewBox=\"0 0 873 239\" width=\"873px\" zoomAndPan=\"magnify\"><defs/><g><rect fill=\"#05080E\" height=\"1\" style=\"stroke: #05080E; stroke-width: 1.0;\" width=\"1\" x=\"0\" y=\"0\"/><rect fill=\"#33FF02\" height=\"21.2969\" style=\"stroke: #33FF02; stroke-width: 1.0;\" width=\"866\" x=\"5\" y=\"5\"/><text fill=\"#000000\" font-family=\"sans-serif\" font-size=\"14\" font-weight=\"bold\" lengthAdjust=\"spacingAndGlyphs\" textLength=\"178\" x=\"6\" y=\"20\">[From string (line 11) ]</text><text fill=\"#33FF02\" font-family=\"sans-serif\" font-size=\"14\" font-weight=\"bold\" lengthAdjust=\"spacingAndGlyphs\" textLength=\"0\" x=\"10\" y=\"40.2969\"/><text fill=\"#33FF02\" font-family=\"sans-serif\" font-size=\"14\" font-weight=\"bold\" lengthAdjust=\"spacingAndGlyphs\" textLength=\"79\" x=\"5\" y=\"56.5938\">@startuml</text><text fill=\"#33FF02\" font-family=\"sans-serif\" font-size=\"14\" font-weight=\"bold\" lengthAdjust=\"spacingAndGlyphs\" textLength=\"165\" x=\"5\" y=\"72.8906\">skinparam ranksep 8</text><text fill=\"#33FF02\" font-family=\"sans-serif\" font-size=\"14\" font-weight=\"bold\" lengthAdjust=\"spacingAndGlyphs\" textLength=\"206\" x=\"5\" y=\"89.1875\">skinparam wrapWidth 300</text><text fill=\"#33FF02\" font-family=\"sans-serif\" font-size=\"14\" font-weight=\"bold\" lengthAdjust=\"spacingAndGlyphs\" textLength=\"82\" x=\"5\" y=\"105.4844\">hide circle</text><text fill=\"#33FF02\" font-family=\"sans-serif\" font-size=\"14\" font-weight=\"bold\" lengthAdjust=\"spacingAndGlyphs\" textLength=\"0\" x=\"10\" y=\"121.7813\"/><text fill=\"#33FF02\" font-family=\"sans-serif\" font-size=\"14\" font-weight=\"bold\" lengthAdjust=\"spacingAndGlyphs\" textLength=\"866\" x=\"5\" y=\"138.0781\">rec def \"DecisionTest\" as E1  &lt;&lt;(T,blue)action def&gt;&gt; [[psysml:a611506a-05f4-4898-8d67-b23f8626d6c2 ]] {</text><text fill=\"#33FF02\" font-family=\"sans-serif\" font-size=\"14\" font-weight=\"bold\" lengthAdjust=\"spacingAndGlyphs\" textLength=\"615\" x=\"5\" y=\"154.375\">portout \"$result\" as E2  [[psysml:825b4193-3fd8-46d1-bb26-d00bcd83fe4c ]]</text><text fill=\"#33FF02\" font-family=\"sans-serif\" font-size=\"14\" font-weight=\"bold\" lengthAdjust=\"spacingAndGlyphs\" textLength=\"855\" x=\"5\" y=\"170.6719\">rec usage \"test x\" as E3  &lt;&lt;(T,blue)decisionNode&gt;&gt; [[psysml:6589aa4e-efab-4688-8327-f7f10099d134 ]] {</text><text fill=\"#33FF02\" font-family=\"sans-serif\" font-size=\"14\" font-weight=\"bold\" lengthAdjust=\"spacingAndGlyphs\" textLength=\"10\" x=\"5\" y=\"186.9688\">}</text><text fill=\"#33FF02\" font-family=\"sans-serif\" font-size=\"14\" font-weight=\"bold\" lengthAdjust=\"spacingAndGlyphs\" textLength=\"0\" x=\"10\" y=\"203.2656\"/><text fill=\"#33FF02\" font-family=\"sans-serif\" font-size=\"14\" font-weight=\"bold\" lengthAdjust=\"spacingAndGlyphs\" textLength=\"10\" x=\"5\" y=\"219.5625\">{</text><text fill=\"#FF0000\" font-family=\"sans-serif\" font-size=\"14\" font-weight=\"bold\" lengthAdjust=\"spacingAndGlyphs\" textLength=\"106\" x=\"10\" y=\"235.8594\">Syntax Error?</text><!--MD5=[8871dfbd9d8b60e438b32a7bf419d028]\n",
       "@startuml\r\n",
       "skinparam ranksep 8\r\n",
       "skinparam wrapWidth 300\r\n",
       "hide circle\r\n",
       "\r\n",
       "rec def \"DecisionTest\" as E1  <<(T,blue)action def>> [[psysml:a611506a-05f4-4898-8d67-b23f8626d6c2 ]] {\r\n",
       "portout \"$result\" as E2  [[psysml:825b4193-3fd8-46d1-bb26-d00bcd83fe4c ]] \r\n",
       "rec usage \"test x\" as E3  <<(T,blue)decisionNode>> [[psysml:6589aa4e-efab-4688-8327-f7f10099d134 ]] {\r\n",
       "}\r\n",
       "\r\n",
       "{\r\n",
       "portout \"$result\" as E4  [[psysml:03222c0c-45fb-446a-ae55-be21a490ff21 ]] \r\n",
       "portin \"$x\" as E5  [[psysml:1f067476-7b6a-4ee1-8091-903eee6b057e ]] \r\n",
       "portin \"$y\" as E6  [[psysml:736be314-0092-4efe-9283-a3128e572984 ]] \r\n",
       "portout \"$result\" as E7  [[psysml:78a09776-ac9f-434e-8d68-d86bf1b46cb7 ]] \r\n",
       "}\r\n",
       "\r\n",
       "{\r\n",
       "portout \"$result\" as E8  [[psysml:1aa891c2-82c1-43c8-8c92-2c9f46284f3f ]] \r\n",
       "portin \"$x\" as E9  [[psysml:41e20081-729f-43ab-b2b2-e475cbaa33cc ]] \r\n",
       "portin \"$y\" as E10  [[psysml:dd685822-7c1a-40d9-ad47-98988f0eab95 ]] \r\n",
       "portout \"$result\" as E11  [[psysml:ff30ef21-37bb-4366-a828-82b307802d91 ]] \r\n",
       "}\r\n",
       "\r\n",
       "{\r\n",
       "}\r\n",
       "\r\n",
       "{\r\n",
       "}\r\n",
       "\r\n",
       "{\r\n",
       "portout \"$result\" as E12  [[psysml:8acd1d71-26f3-4979-a604-5454cd234d07 ]] \r\n",
       "}\r\n",
       "\r\n",
       "{\r\n",
       "portout \"$result\" as E13  [[psysml:63187c6a-fa39-44bf-bd7b-baf836477136 ]] \r\n",
       "}\r\n",
       "\r\n",
       "rec usage \"A1\" as E14  <<(T,blue)action>> [[psysml:edf3151a-ea9a-49ab-905b-cac4748fa5cc ]] {\r\n",
       "}\r\n",
       "\r\n",
       "rec usage \"A2\" as E15  <<(T,blue)action>> [[psysml:3bd22752-b66f-42f0-9d88-956d01e987e1 ]] {\r\n",
       "}\r\n",
       "\r\n",
       "rec usage \"A3\" as E16  <<(T,blue)action>> [[psysml:809db6ec-9b23-4a20-a88e-0d707c026938 ]] {\r\n",
       "}\r\n",
       "\r\n",
       "rec usage \"S\" as E17  <<(T,blue)transition>> [[psysml:a1b52494-6c64-4433-870a-8c0c85f99588 ]] {\r\n",
       "rec usage \"A1\" as E18  <<(T,blue)action>> [[psysml:edf3151a-ea9a-49ab-905b-cac4748fa5cc ]] {\r\n",
       "}\r\n",
       "\r\n",
       "portout \"$result\" as E19  [[psysml:83f97503-27b8-4c10-a73e-d48c1a1b0911 ]] \r\n",
       "portin \"$x\" as E20  [[psysml:e039d1a4-e758-4cd1-b4b1-86e00270305d ]] \r\n",
       "portin \"$y\" as E21  [[psysml:0ebe1437-9ca5-4e09-9c89-2871c656e01e ]] \r\n",
       "portout \"$result\" as E22  [[psysml:95821532-07e2-4186-9bf5-2609b2b64808 ]] \r\n",
       "}\r\n",
       "\r\n",
       "rec usage \"A3\" as E23  <<(T,blue)action>> [[psysml:809db6ec-9b23-4a20-a88e-0d707c026938 ]] {\r\n",
       "}\r\n",
       "\r\n",
       "{\r\n",
       "portout \"$result\" as E24  [[psysml:29148d4a-85a5-459a-9935-db0d3e40f70f ]] \r\n",
       "portin \"$x\" as E25  [[psysml:c7cbf43b-156f-4fe1-932e-97acf8076a48 ]] \r\n",
       "portin \"$y\" as E26  [[psysml:d0e5218c-e833-4bf8-9c85-b0218eb0cb1f ]] \r\n",
       "portout \"$result\" as E27  [[psysml:f639559e-0e7a-4e62-b0cf-c675de4db47c ]] \r\n",
       "}\r\n",
       "\r\n",
       "}\r\n",
       "\r\n",
       "E6 -[thickness=5,#red]- E4 [[psysml:5d6d5b38-9fc5-4e3a-9cb6-5e1ffd055c15 ]] \r\n",
       "E10 -[thickness=5,#red]- E8 [[psysml:187378d7-d664-45d6-a81d-c8b3dbc9d7af ]] \r\n",
       "E21 -[thickness=5,#red]- E19 [[psysml:b7ca4d72-a9f0-45a9-981c-6f89250d77d4 ]] \r\n",
       "E26 -[thickness=5,#red]- E24 [[psysml:73bf4527-0e11-4058-a3d3-ef7c36e23adf ]] \r\n",
       "@enduml\r\n",
       "\n",
       "PlantUML version 1.2020.13(Sat Jun 13 12:26:38 UTC 2020)\n",
       "(EPL source distribution)\n",
       "Java Runtime: OpenJDK Runtime Environment\n",
       "JVM: OpenJDK 64-Bit Server VM\n",
       "Default Encoding: UTF-8\n",
       "Language: en\n",
       "Country: null\n",
       "--></g></svg>"
      ]
     },
     "execution_count": 27,
     "metadata": {},
     "output_type": "execute_result"
    }
   ],
   "source": [
    "%viz --style=\"STDCOLOR\" --view=\"Action\" \"DecisionTest\""
   ]
  },
  {
   "cell_type": "code",
   "execution_count": 28,
   "id": "corrected-stocks",
   "metadata": {
    "execution": {
     "iopub.execute_input": "2021-03-26T09:14:06.041523Z",
     "iopub.status.busy": "2021-03-26T09:14:06.040948Z",
     "iopub.status.idle": "2021-03-26T09:14:06.095456Z",
     "shell.execute_reply": "2021-03-26T09:14:06.095774Z"
    }
   },
   "outputs": [
    {
     "data": {
      "image/svg+xml": [
       "<?xml version=\"1.0\" encoding=\"UTF-8\" standalone=\"no\"?><svg xmlns=\"http://www.w3.org/2000/svg\" xmlns:xlink=\"http://www.w3.org/1999/xlink\" contentScriptType=\"application/ecmascript\" contentStyleType=\"text/css\" height=\"199px\" preserveAspectRatio=\"none\" style=\"width:117px;height:199px;\" version=\"1.1\" viewBox=\"0 0 117 199\" width=\"117px\" zoomAndPan=\"magnify\"><defs><filter height=\"300%\" id=\"f1qo735y7cf6nx\" width=\"300%\" x=\"-1\" y=\"-1\"><feGaussianBlur result=\"blurOut\" stdDeviation=\"2.0\"/><feColorMatrix in=\"blurOut\" result=\"blurOut2\" type=\"matrix\" values=\"0 0 0 0 0 0 0 0 0 0 0 0 0 0 0 0 0 0 .4 0\"/><feOffset dx=\"4.0\" dy=\"4.0\" in=\"blurOut2\" result=\"blurOut3\"/><feBlend in=\"SourceGraphic\" in2=\"blurOut3\" mode=\"normal\"/></filter></defs><g><!--MD5=[43c9051892ef23e1a46a86907403d788]\n",
       "class E1--><a href=\"psysml:a611506a-05f4-4898-8d67-b23f8626d6c2\" target=\"_top\" title=\"psysml:a611506a-05f4-4898-8d67-b23f8626d6c2\" xlink:actuate=\"onRequest\" xlink:href=\"psysml:a611506a-05f4-4898-8d67-b23f8626d6c2\" xlink:show=\"new\" xlink:title=\"psysml:a611506a-05f4-4898-8d67-b23f8626d6c2\" xlink:type=\"simple\"><rect fill=\"#FEFECE\" filter=\"url(#f1qo735y7cf6nx)\" height=\"173.1797\" id=\"E1\" style=\"stroke: #A80036; stroke-width: 1.5;\" width=\"91\" x=\"7\" y=\"7\"/><text fill=\"#000000\" font-family=\"sans-serif\" font-size=\"12\" font-style=\"italic\" lengthAdjust=\"spacingAndGlyphs\" textLength=\"77\" x=\"14\" y=\"23.1387\">«action def»</text><text fill=\"#000000\" font-family=\"sans-serif\" font-size=\"12\" lengthAdjust=\"spacingAndGlyphs\" textLength=\"80\" x=\"12.5\" y=\"37.1074\">DecisionTest</text><line style=\"stroke: #A80036; stroke-width: 1.5;\" x1=\"8\" x2=\"97\" y1=\"44.9375\" y2=\"44.9375\"/><text fill=\"#000000\" font-family=\"sans-serif\" font-size=\"11\" lengthAdjust=\"spacingAndGlyphs\" textLength=\"6\" x=\"13\" y=\"59.1479\">x</text><text fill=\"#000000\" font-family=\"sans-serif\" font-size=\"11\" lengthAdjust=\"spacingAndGlyphs\" textLength=\"14\" x=\"13\" y=\"88.7573\">A1</text><text fill=\"#000000\" font-family=\"sans-serif\" font-size=\"11\" lengthAdjust=\"spacingAndGlyphs\" textLength=\"14\" x=\"13\" y=\"101.562\">A2</text><text fill=\"#000000\" font-family=\"sans-serif\" font-size=\"11\" lengthAdjust=\"spacingAndGlyphs\" textLength=\"14\" x=\"13\" y=\"114.3667\">A3</text><line style=\"stroke: #A80036; stroke-width: 1.0;\" x1=\"8\" x2=\"32\" y1=\"72.1445\" y2=\"72.1445\"/><text fill=\"#000000\" font-family=\"sans-serif\" font-size=\"11\" lengthAdjust=\"spacingAndGlyphs\" textLength=\"41\" x=\"32\" y=\"75.4526\">actions</text><line style=\"stroke: #A80036; stroke-width: 1.0;\" x1=\"73\" x2=\"97\" y1=\"72.1445\" y2=\"72.1445\"/><text fill=\"#000000\" font-family=\"sans-serif\" font-size=\"11\" lengthAdjust=\"spacingAndGlyphs\" textLength=\"32\" x=\"13\" y=\"143.9761\">test x</text><line style=\"stroke: #A80036; stroke-width: 1.0;\" x1=\"8\" x2=\"11\" y1=\"127.3633\" y2=\"127.3633\"/><text fill=\"#000000\" font-family=\"sans-serif\" font-size=\"11\" lengthAdjust=\"spacingAndGlyphs\" textLength=\"83\" x=\"11\" y=\"130.6714\">decisionNodes</text><line style=\"stroke: #A80036; stroke-width: 1.0;\" x1=\"94\" x2=\"97\" y1=\"127.3633\" y2=\"127.3633\"/><text fill=\"#000000\" font-family=\"sans-serif\" font-size=\"11\" lengthAdjust=\"spacingAndGlyphs\" textLength=\"8\" x=\"13\" y=\"173.5854\">S</text><line style=\"stroke: #A80036; stroke-width: 1.0;\" x1=\"8\" x2=\"22\" y1=\"156.9727\" y2=\"156.9727\"/><text fill=\"#000000\" font-family=\"sans-serif\" font-size=\"11\" lengthAdjust=\"spacingAndGlyphs\" textLength=\"61\" x=\"22\" y=\"160.2808\">transitions</text><line style=\"stroke: #A80036; stroke-width: 1.0;\" x1=\"83\" x2=\"97\" y1=\"156.9727\" y2=\"156.9727\"/></a><!--MD5=[61b531f9140b9688c172b8dd20779540]\n",
       "@startuml\r\n",
       "skinparam wrapWidth 300\r\n",
       "hide circle\r\n",
       "\r\n",
       "comp def \"DecisionTest\" as E1  <<(T,blue)action def>> [[psysml:a611506a-05f4-4898-8d67-b23f8626d6c2 ]] {\r\n",
       "x\r\n",
       "- - actions - -\r\n",
       "A1\r\n",
       "A2\r\n",
       "A3\r\n",
       "- - decisionNodes - -\r\n",
       "test x\r\n",
       "- - transitions - -\r\n",
       "S\r\n",
       "}\r\n",
       "@enduml\r\n",
       "\n",
       "PlantUML version 1.2020.13(Sat Jun 13 12:26:38 UTC 2020)\n",
       "(EPL source distribution)\n",
       "Java Runtime: OpenJDK Runtime Environment\n",
       "JVM: OpenJDK 64-Bit Server VM\n",
       "Default Encoding: UTF-8\n",
       "Language: en\n",
       "Country: null\n",
       "--></g></svg>"
      ]
     },
     "execution_count": 28,
     "metadata": {},
     "output_type": "execute_result"
    }
   ],
   "source": [
    "%viz --style=\"STDCOLOR\" --view=\"Sequence\" \"DecisionTest\""
   ]
  },
  {
   "cell_type": "code",
   "execution_count": 29,
   "id": "entire-bunny",
   "metadata": {
    "execution": {
     "iopub.execute_input": "2021-03-26T09:14:06.147819Z",
     "iopub.status.busy": "2021-03-26T09:14:06.147333Z",
     "iopub.status.idle": "2021-03-26T09:14:06.160612Z",
     "shell.execute_reply": "2021-03-26T09:14:06.160960Z"
    }
   },
   "outputs": [
    {
     "data": {
      "image/svg+xml": [
       "<?xml version=\"1.0\" encoding=\"UTF-8\" standalone=\"no\"?><svg xmlns=\"http://www.w3.org/2000/svg\" xmlns:xlink=\"http://www.w3.org/1999/xlink\" contentScriptType=\"application/ecmascript\" contentStyleType=\"text/css\" height=\"223px\" preserveAspectRatio=\"none\" style=\"width:873px;height:223px;background:#000000;\" version=\"1.1\" viewBox=\"0 0 873 223\" width=\"873px\" zoomAndPan=\"magnify\"><defs/><g><rect fill=\"#020C19\" height=\"1\" style=\"stroke: #020C19; stroke-width: 1.0;\" width=\"1\" x=\"0\" y=\"0\"/><rect fill=\"#33FF02\" height=\"21.2969\" style=\"stroke: #33FF02; stroke-width: 1.0;\" width=\"866\" x=\"5\" y=\"5\"/><text fill=\"#000000\" font-family=\"sans-serif\" font-size=\"14\" font-weight=\"bold\" lengthAdjust=\"spacingAndGlyphs\" textLength=\"178\" x=\"6\" y=\"20\">[From string (line 10) ]</text><text fill=\"#33FF02\" font-family=\"sans-serif\" font-size=\"14\" font-weight=\"bold\" lengthAdjust=\"spacingAndGlyphs\" textLength=\"0\" x=\"10\" y=\"40.2969\"/><text fill=\"#33FF02\" font-family=\"sans-serif\" font-size=\"14\" font-weight=\"bold\" lengthAdjust=\"spacingAndGlyphs\" textLength=\"79\" x=\"5\" y=\"56.5938\">@startuml</text><text fill=\"#33FF02\" font-family=\"sans-serif\" font-size=\"14\" font-weight=\"bold\" lengthAdjust=\"spacingAndGlyphs\" textLength=\"206\" x=\"5\" y=\"72.8906\">skinparam wrapWidth 300</text><text fill=\"#33FF02\" font-family=\"sans-serif\" font-size=\"14\" font-weight=\"bold\" lengthAdjust=\"spacingAndGlyphs\" textLength=\"82\" x=\"5\" y=\"89.1875\">hide circle</text><text fill=\"#33FF02\" font-family=\"sans-serif\" font-size=\"14\" font-weight=\"bold\" lengthAdjust=\"spacingAndGlyphs\" textLength=\"0\" x=\"10\" y=\"105.4844\"/><text fill=\"#33FF02\" font-family=\"sans-serif\" font-size=\"14\" font-weight=\"bold\" lengthAdjust=\"spacingAndGlyphs\" textLength=\"866\" x=\"5\" y=\"121.7813\">rec def \"DecisionTest\" as E1  &lt;&lt;(T,blue)action def&gt;&gt; [[psysml:a611506a-05f4-4898-8d67-b23f8626d6c2 ]] {</text><text fill=\"#33FF02\" font-family=\"sans-serif\" font-size=\"14\" font-weight=\"bold\" lengthAdjust=\"spacingAndGlyphs\" textLength=\"615\" x=\"5\" y=\"138.0781\">portout \"$result\" as E2  [[psysml:825b4193-3fd8-46d1-bb26-d00bcd83fe4c ]]</text><text fill=\"#33FF02\" font-family=\"sans-serif\" font-size=\"14\" font-weight=\"bold\" lengthAdjust=\"spacingAndGlyphs\" textLength=\"855\" x=\"5\" y=\"154.375\">rec usage \"test x\" as E3  &lt;&lt;(T,blue)decisionNode&gt;&gt; [[psysml:6589aa4e-efab-4688-8327-f7f10099d134 ]] {</text><text fill=\"#33FF02\" font-family=\"sans-serif\" font-size=\"14\" font-weight=\"bold\" lengthAdjust=\"spacingAndGlyphs\" textLength=\"10\" x=\"5\" y=\"170.6719\">}</text><text fill=\"#33FF02\" font-family=\"sans-serif\" font-size=\"14\" font-weight=\"bold\" lengthAdjust=\"spacingAndGlyphs\" textLength=\"0\" x=\"10\" y=\"186.9688\"/><text fill=\"#33FF02\" font-family=\"sans-serif\" font-size=\"14\" font-weight=\"bold\" lengthAdjust=\"spacingAndGlyphs\" textLength=\"10\" x=\"5\" y=\"203.2656\">{</text><text fill=\"#FF0000\" font-family=\"sans-serif\" font-size=\"14\" font-weight=\"bold\" lengthAdjust=\"spacingAndGlyphs\" textLength=\"106\" x=\"10\" y=\"219.5625\">Syntax Error?</text><!--MD5=[d71f324f99ca579611aab95208eb7525]\n",
       "@startuml\r\n",
       "skinparam wrapWidth 300\r\n",
       "hide circle\r\n",
       "\r\n",
       "rec def \"DecisionTest\" as E1  <<(T,blue)action def>> [[psysml:a611506a-05f4-4898-8d67-b23f8626d6c2 ]] {\r\n",
       "portout \"$result\" as E2  [[psysml:825b4193-3fd8-46d1-bb26-d00bcd83fe4c ]] \r\n",
       "rec usage \"test x\" as E3  <<(T,blue)decisionNode>> [[psysml:6589aa4e-efab-4688-8327-f7f10099d134 ]] {\r\n",
       "}\r\n",
       "\r\n",
       "{\r\n",
       "portout \"$result\" as E4  [[psysml:03222c0c-45fb-446a-ae55-be21a490ff21 ]] \r\n",
       "portin \"$x\" as E5  [[psysml:1f067476-7b6a-4ee1-8091-903eee6b057e ]] \r\n",
       "portin \"$y\" as E6  [[psysml:736be314-0092-4efe-9283-a3128e572984 ]] \r\n",
       "portout \"$result\" as E7  [[psysml:78a09776-ac9f-434e-8d68-d86bf1b46cb7 ]] \r\n",
       "}\r\n",
       "\r\n",
       "{\r\n",
       "portout \"$result\" as E8  [[psysml:1aa891c2-82c1-43c8-8c92-2c9f46284f3f ]] \r\n",
       "portin \"$x\" as E9  [[psysml:41e20081-729f-43ab-b2b2-e475cbaa33cc ]] \r\n",
       "portin \"$y\" as E10  [[psysml:dd685822-7c1a-40d9-ad47-98988f0eab95 ]] \r\n",
       "portout \"$result\" as E11  [[psysml:ff30ef21-37bb-4366-a828-82b307802d91 ]] \r\n",
       "}\r\n",
       "\r\n",
       "{\r\n",
       "}\r\n",
       "\r\n",
       "{\r\n",
       "}\r\n",
       "\r\n",
       "{\r\n",
       "portout \"$result\" as E12  [[psysml:8acd1d71-26f3-4979-a604-5454cd234d07 ]] \r\n",
       "}\r\n",
       "\r\n",
       "{\r\n",
       "portout \"$result\" as E13  [[psysml:63187c6a-fa39-44bf-bd7b-baf836477136 ]] \r\n",
       "}\r\n",
       "\r\n",
       "rec usage \"A1\" as E14  <<(T,blue)action>> [[psysml:edf3151a-ea9a-49ab-905b-cac4748fa5cc ]] {\r\n",
       "}\r\n",
       "\r\n",
       "rec usage \"A2\" as E15  <<(T,blue)action>> [[psysml:3bd22752-b66f-42f0-9d88-956d01e987e1 ]] {\r\n",
       "}\r\n",
       "\r\n",
       "rec usage \"A3\" as E16  <<(T,blue)action>> [[psysml:809db6ec-9b23-4a20-a88e-0d707c026938 ]] {\r\n",
       "}\r\n",
       "\r\n",
       "rec usage \"S\" as E17  <<(T,blue)transition>> [[psysml:a1b52494-6c64-4433-870a-8c0c85f99588 ]] {\r\n",
       "rec usage \"A1\" as E18  <<(T,blue)action>> [[psysml:edf3151a-ea9a-49ab-905b-cac4748fa5cc ]] {\r\n",
       "}\r\n",
       "\r\n",
       "portout \"$result\" as E19  [[psysml:83f97503-27b8-4c10-a73e-d48c1a1b0911 ]] \r\n",
       "portin \"$x\" as E20  [[psysml:e039d1a4-e758-4cd1-b4b1-86e00270305d ]] \r\n",
       "portin \"$y\" as E21  [[psysml:0ebe1437-9ca5-4e09-9c89-2871c656e01e ]] \r\n",
       "portout \"$result\" as E22  [[psysml:95821532-07e2-4186-9bf5-2609b2b64808 ]] \r\n",
       "}\r\n",
       "\r\n",
       "rec usage \"A3\" as E23  <<(T,blue)action>> [[psysml:809db6ec-9b23-4a20-a88e-0d707c026938 ]] {\r\n",
       "}\r\n",
       "\r\n",
       "{\r\n",
       "portout \"$result\" as E24  [[psysml:29148d4a-85a5-459a-9935-db0d3e40f70f ]] \r\n",
       "portin \"$x\" as E25  [[psysml:c7cbf43b-156f-4fe1-932e-97acf8076a48 ]] \r\n",
       "portin \"$y\" as E26  [[psysml:d0e5218c-e833-4bf8-9c85-b0218eb0cb1f ]] \r\n",
       "portout \"$result\" as E27  [[psysml:f639559e-0e7a-4e62-b0cf-c675de4db47c ]] \r\n",
       "}\r\n",
       "\r\n",
       "}\r\n",
       "\r\n",
       "E6 -[thickness=5,#red]- E4 [[psysml:5d6d5b38-9fc5-4e3a-9cb6-5e1ffd055c15 ]] \r\n",
       "E10 -[thickness=5,#red]- E8 [[psysml:187378d7-d664-45d6-a81d-c8b3dbc9d7af ]] \r\n",
       "E21 -[thickness=5,#red]- E19 [[psysml:b7ca4d72-a9f0-45a9-981c-6f89250d77d4 ]] \r\n",
       "E26 -[thickness=5,#red]- E24 [[psysml:73bf4527-0e11-4058-a3d3-ef7c36e23adf ]] \r\n",
       "@enduml\r\n",
       "\n",
       "PlantUML version 1.2020.13(Sat Jun 13 12:26:38 UTC 2020)\n",
       "(EPL source distribution)\n",
       "Java Runtime: OpenJDK Runtime Environment\n",
       "JVM: OpenJDK 64-Bit Server VM\n",
       "Default Encoding: UTF-8\n",
       "Language: en\n",
       "Country: null\n",
       "--></g></svg>"
      ]
     },
     "execution_count": 29,
     "metadata": {},
     "output_type": "execute_result"
    }
   ],
   "source": [
    "%viz --style=\"STDCOLOR\" --view=\"MIXED\" \"DecisionTest\""
   ]
  },
  {
   "cell_type": "code",
   "execution_count": 30,
   "id": "possible-queen",
   "metadata": {
    "execution": {
     "iopub.execute_input": "2021-03-26T09:14:06.213648Z",
     "iopub.status.busy": "2021-03-26T09:14:06.213137Z",
     "iopub.status.idle": "2021-03-26T09:14:06.226860Z",
     "shell.execute_reply": "2021-03-26T09:14:06.227222Z"
    }
   },
   "outputs": [
    {
     "data": {
      "image/svg+xml": [
       "<?xml version=\"1.0\" encoding=\"UTF-8\" standalone=\"no\"?><svg xmlns=\"http://www.w3.org/2000/svg\" xmlns:xlink=\"http://www.w3.org/1999/xlink\" contentScriptType=\"application/ecmascript\" contentStyleType=\"text/css\" height=\"190px\" preserveAspectRatio=\"none\" style=\"width:891px;height:190px;background:#000000;\" version=\"1.1\" viewBox=\"0 0 891 190\" width=\"891px\" zoomAndPan=\"magnify\"><defs/><g><rect fill=\"#190A0C\" height=\"1\" style=\"stroke: #190A0C; stroke-width: 1.0;\" width=\"1\" x=\"0\" y=\"0\"/><rect fill=\"#33FF02\" height=\"21.2969\" style=\"stroke: #33FF02; stroke-width: 1.0;\" width=\"884\" x=\"5\" y=\"5\"/><text fill=\"#000000\" font-family=\"sans-serif\" font-size=\"14\" font-weight=\"bold\" lengthAdjust=\"spacingAndGlyphs\" textLength=\"168\" x=\"6\" y=\"20\">[From string (line 8) ]</text><text fill=\"#33FF02\" font-family=\"sans-serif\" font-size=\"14\" font-weight=\"bold\" lengthAdjust=\"spacingAndGlyphs\" textLength=\"0\" x=\"10\" y=\"40.2969\"/><text fill=\"#33FF02\" font-family=\"sans-serif\" font-size=\"14\" font-weight=\"bold\" lengthAdjust=\"spacingAndGlyphs\" textLength=\"79\" x=\"5\" y=\"56.5938\">@startuml</text><text fill=\"#33FF02\" font-family=\"sans-serif\" font-size=\"14\" font-weight=\"bold\" lengthAdjust=\"spacingAndGlyphs\" textLength=\"0\" x=\"10\" y=\"72.8906\"/><text fill=\"#33FF02\" font-family=\"sans-serif\" font-size=\"14\" font-weight=\"bold\" lengthAdjust=\"spacingAndGlyphs\" textLength=\"884\" x=\"5\" y=\"89.1875\">rec def \"DecisionTest\" as E1  &lt;&lt;(D,brown)action def&gt;&gt; [[psysml:a611506a-05f4-4898-8d67-b23f8626d6c2 ]] {</text><text fill=\"#33FF02\" font-family=\"sans-serif\" font-size=\"14\" font-weight=\"bold\" lengthAdjust=\"spacingAndGlyphs\" textLength=\"615\" x=\"5\" y=\"105.4844\">portout \"$result\" as E2  [[psysml:825b4193-3fd8-46d1-bb26-d00bcd83fe4c ]]</text><text fill=\"#33FF02\" font-family=\"sans-serif\" font-size=\"14\" font-weight=\"bold\" lengthAdjust=\"spacingAndGlyphs\" textLength=\"878\" x=\"5\" y=\"121.7813\">rec usage \"test x\" as E3  &lt;&lt;(U,orange)decisionNode&gt;&gt; [[psysml:6589aa4e-efab-4688-8327-f7f10099d134 ]] {</text><text fill=\"#33FF02\" font-family=\"sans-serif\" font-size=\"14\" font-weight=\"bold\" lengthAdjust=\"spacingAndGlyphs\" textLength=\"10\" x=\"5\" y=\"138.0781\">}</text><text fill=\"#33FF02\" font-family=\"sans-serif\" font-size=\"14\" font-weight=\"bold\" lengthAdjust=\"spacingAndGlyphs\" textLength=\"0\" x=\"10\" y=\"154.375\"/><text fill=\"#33FF02\" font-family=\"sans-serif\" font-size=\"14\" font-weight=\"bold\" lengthAdjust=\"spacingAndGlyphs\" textLength=\"10\" x=\"5\" y=\"170.6719\">{</text><text fill=\"#FF0000\" font-family=\"sans-serif\" font-size=\"14\" font-weight=\"bold\" lengthAdjust=\"spacingAndGlyphs\" textLength=\"106\" x=\"10\" y=\"186.9688\">Syntax Error?</text><!--MD5=[dd17982645a08ac2ee0607c4f9940cd1]\n",
       "@startuml\r\n",
       " \r\n",
       "rec def \"DecisionTest\" as E1  <<(D,brown)action def>> [[psysml:a611506a-05f4-4898-8d67-b23f8626d6c2 ]] {\r\n",
       "portout \"$result\" as E2  [[psysml:825b4193-3fd8-46d1-bb26-d00bcd83fe4c ]] \r\n",
       "rec usage \"test x\" as E3  <<(U,orange)decisionNode>> [[psysml:6589aa4e-efab-4688-8327-f7f10099d134 ]] {\r\n",
       "}\r\n",
       "\r\n",
       "{\r\n",
       "portout \"$result\" as E4  [[psysml:03222c0c-45fb-446a-ae55-be21a490ff21 ]] \r\n",
       "portin \"$x\" as E5  [[psysml:1f067476-7b6a-4ee1-8091-903eee6b057e ]] \r\n",
       "portin \"$y\" as E6  [[psysml:736be314-0092-4efe-9283-a3128e572984 ]] \r\n",
       "portout \"$result\" as E7  [[psysml:78a09776-ac9f-434e-8d68-d86bf1b46cb7 ]] \r\n",
       "}\r\n",
       "\r\n",
       "{\r\n",
       "portout \"$result\" as E8  [[psysml:1aa891c2-82c1-43c8-8c92-2c9f46284f3f ]] \r\n",
       "portin \"$x\" as E9  [[psysml:41e20081-729f-43ab-b2b2-e475cbaa33cc ]] \r\n",
       "portin \"$y\" as E10  [[psysml:dd685822-7c1a-40d9-ad47-98988f0eab95 ]] \r\n",
       "portout \"$result\" as E11  [[psysml:ff30ef21-37bb-4366-a828-82b307802d91 ]] \r\n",
       "}\r\n",
       "\r\n",
       "{\r\n",
       "}\r\n",
       "\r\n",
       "{\r\n",
       "}\r\n",
       "\r\n",
       "{\r\n",
       "portout \"$result\" as E12  [[psysml:8acd1d71-26f3-4979-a604-5454cd234d07 ]] \r\n",
       "}\r\n",
       "\r\n",
       "{\r\n",
       "portout \"$result\" as E13  [[psysml:63187c6a-fa39-44bf-bd7b-baf836477136 ]] \r\n",
       "}\r\n",
       "\r\n",
       "rec usage \"A1\" as E14  <<(U,orange)action>> [[psysml:edf3151a-ea9a-49ab-905b-cac4748fa5cc ]] {\r\n",
       "}\r\n",
       "\r\n",
       "rec usage \"A2\" as E15  <<(U,orange)action>> [[psysml:3bd22752-b66f-42f0-9d88-956d01e987e1 ]] {\r\n",
       "}\r\n",
       "\r\n",
       "rec usage \"A3\" as E16  <<(U,orange)action>> [[psysml:809db6ec-9b23-4a20-a88e-0d707c026938 ]] {\r\n",
       "}\r\n",
       "\r\n",
       "rec usage \"S\" as E17  <<(U,orange)transition>> [[psysml:a1b52494-6c64-4433-870a-8c0c85f99588 ]] {\r\n",
       "rec usage \"A1\" as E18  <<(U,orange)action>> [[psysml:edf3151a-ea9a-49ab-905b-cac4748fa5cc ]] {\r\n",
       "}\r\n",
       "\r\n",
       "portout \"$result\" as E19  [[psysml:83f97503-27b8-4c10-a73e-d48c1a1b0911 ]] \r\n",
       "portin \"$x\" as E20  [[psysml:e039d1a4-e758-4cd1-b4b1-86e00270305d ]] \r\n",
       "portin \"$y\" as E21  [[psysml:0ebe1437-9ca5-4e09-9c89-2871c656e01e ]] \r\n",
       "portout \"$result\" as E22  [[psysml:95821532-07e2-4186-9bf5-2609b2b64808 ]] \r\n",
       "}\r\n",
       "\r\n",
       "rec usage \"A3\" as E23  <<(U,orange)action>> [[psysml:809db6ec-9b23-4a20-a88e-0d707c026938 ]] {\r\n",
       "}\r\n",
       "\r\n",
       "{\r\n",
       "portout \"$result\" as E24  [[psysml:29148d4a-85a5-459a-9935-db0d3e40f70f ]] \r\n",
       "portin \"$x\" as E25  [[psysml:c7cbf43b-156f-4fe1-932e-97acf8076a48 ]] \r\n",
       "portin \"$y\" as E26  [[psysml:d0e5218c-e833-4bf8-9c85-b0218eb0cb1f ]] \r\n",
       "portout \"$result\" as E27  [[psysml:f639559e-0e7a-4e62-b0cf-c675de4db47c ]] \r\n",
       "}\r\n",
       "\r\n",
       "}\r\n",
       "\r\n",
       "E6 -[thickness=5,#red]- E4 [[psysml:5d6d5b38-9fc5-4e3a-9cb6-5e1ffd055c15 ]] \r\n",
       "E10 -[thickness=5,#red]- E8 [[psysml:187378d7-d664-45d6-a81d-c8b3dbc9d7af ]] \r\n",
       "E21 -[thickness=5,#red]- E19 [[psysml:b7ca4d72-a9f0-45a9-981c-6f89250d77d4 ]] \r\n",
       "E26 -[thickness=5,#red]- E24 [[psysml:73bf4527-0e11-4058-a3d3-ef7c36e23adf ]] \r\n",
       "@enduml\r\n",
       "\n",
       "PlantUML version 1.2020.13(Sat Jun 13 12:26:38 UTC 2020)\n",
       "(EPL source distribution)\n",
       "Java Runtime: OpenJDK Runtime Environment\n",
       "JVM: OpenJDK 64-Bit Server VM\n",
       "Default Encoding: UTF-8\n",
       "Language: en\n",
       "Country: null\n",
       "--></g></svg>"
      ]
     },
     "execution_count": 30,
     "metadata": {},
     "output_type": "execute_result"
    }
   ],
   "source": [
    "%viz --style=\"PLANTUML\" --view=\"Default\" \"DecisionTest\""
   ]
  },
  {
   "cell_type": "code",
   "execution_count": 31,
   "id": "analyzed-motor",
   "metadata": {
    "execution": {
     "iopub.execute_input": "2021-03-26T09:14:06.278497Z",
     "iopub.status.busy": "2021-03-26T09:14:06.277928Z",
     "iopub.status.idle": "2021-03-26T09:14:06.337120Z",
     "shell.execute_reply": "2021-03-26T09:14:06.336791Z"
    }
   },
   "outputs": [
    {
     "data": {
      "image/svg+xml": [
       "<?xml version=\"1.0\" encoding=\"UTF-8\" standalone=\"no\"?><svg xmlns=\"http://www.w3.org/2000/svg\" xmlns:xlink=\"http://www.w3.org/1999/xlink\" contentScriptType=\"application/ecmascript\" contentStyleType=\"text/css\" height=\"199px\" preserveAspectRatio=\"none\" style=\"width:138px;height:199px;\" version=\"1.1\" viewBox=\"0 0 138 199\" width=\"138px\" zoomAndPan=\"magnify\"><defs><filter height=\"300%\" id=\"fuhg1cuw5bia2\" width=\"300%\" x=\"-1\" y=\"-1\"><feGaussianBlur result=\"blurOut\" stdDeviation=\"2.0\"/><feColorMatrix in=\"blurOut\" result=\"blurOut2\" type=\"matrix\" values=\"0 0 0 0 0 0 0 0 0 0 0 0 0 0 0 0 0 0 .4 0\"/><feOffset dx=\"4.0\" dy=\"4.0\" in=\"blurOut2\" result=\"blurOut3\"/><feBlend in=\"SourceGraphic\" in2=\"blurOut3\" mode=\"normal\"/></filter></defs><g><!--MD5=[43c9051892ef23e1a46a86907403d788]\n",
       "class E1--><a href=\"psysml:a611506a-05f4-4898-8d67-b23f8626d6c2\" target=\"_top\" title=\"psysml:a611506a-05f4-4898-8d67-b23f8626d6c2\" xlink:actuate=\"onRequest\" xlink:href=\"psysml:a611506a-05f4-4898-8d67-b23f8626d6c2\" xlink:show=\"new\" xlink:title=\"psysml:a611506a-05f4-4898-8d67-b23f8626d6c2\" xlink:type=\"simple\"><rect fill=\"#FEFECE\" filter=\"url(#fuhg1cuw5bia2)\" height=\"173.1797\" id=\"E1\" style=\"stroke: #A80036; stroke-width: 1.5;\" width=\"112\" x=\"7\" y=\"7\"/><ellipse cx=\"22\" cy=\"25.9688\" fill=\"#A52A2A\" rx=\"11\" ry=\"11\" style=\"stroke: #A80036; stroke-width: 1.0;\"/><path d=\"M21.5938,21.7813 L21.5938,29.7656 L22.25,29.7656 Q23.6875,29.7656 24.2969,28.8594 Q24.9219,27.9375 24.9219,25.7656 Q24.9219,23.5938 24.2969,22.6875 Q23.6875,21.7813 22.25,21.7813 L21.5938,21.7813 Z M19.1406,19.5781 L21.7656,19.5781 Q24.7969,19.5781 26.125,21.0313 Q27.4688,22.4688 27.4688,25.7656 Q27.4688,29.0625 26.125,30.5156 Q24.7969,31.9688 21.7656,31.9688 L19.1406,31.9688 L19.1406,19.5781 Z \"/><text fill=\"#000000\" font-family=\"sans-serif\" font-size=\"12\" font-style=\"italic\" lengthAdjust=\"spacingAndGlyphs\" textLength=\"77\" x=\"37.5\" y=\"23.1387\">«action def»</text><text fill=\"#000000\" font-family=\"sans-serif\" font-size=\"12\" lengthAdjust=\"spacingAndGlyphs\" textLength=\"80\" x=\"36\" y=\"37.1074\">DecisionTest</text><line style=\"stroke: #A80036; stroke-width: 1.5;\" x1=\"8\" x2=\"118\" y1=\"44.9375\" y2=\"44.9375\"/><text fill=\"#000000\" font-family=\"sans-serif\" font-size=\"11\" lengthAdjust=\"spacingAndGlyphs\" textLength=\"6\" x=\"13\" y=\"59.1479\">x</text><text fill=\"#000000\" font-family=\"sans-serif\" font-size=\"11\" lengthAdjust=\"spacingAndGlyphs\" textLength=\"14\" x=\"13\" y=\"88.7573\">A1</text><text fill=\"#000000\" font-family=\"sans-serif\" font-size=\"11\" lengthAdjust=\"spacingAndGlyphs\" textLength=\"14\" x=\"13\" y=\"101.562\">A2</text><text fill=\"#000000\" font-family=\"sans-serif\" font-size=\"11\" lengthAdjust=\"spacingAndGlyphs\" textLength=\"14\" x=\"13\" y=\"114.3667\">A3</text><line style=\"stroke: #A80036; stroke-width: 1.0;\" x1=\"8\" x2=\"42.5\" y1=\"72.1445\" y2=\"72.1445\"/><text fill=\"#000000\" font-family=\"sans-serif\" font-size=\"11\" lengthAdjust=\"spacingAndGlyphs\" textLength=\"41\" x=\"42.5\" y=\"75.4526\">actions</text><line style=\"stroke: #A80036; stroke-width: 1.0;\" x1=\"83.5\" x2=\"118\" y1=\"72.1445\" y2=\"72.1445\"/><text fill=\"#000000\" font-family=\"sans-serif\" font-size=\"11\" lengthAdjust=\"spacingAndGlyphs\" textLength=\"32\" x=\"13\" y=\"143.9761\">test x</text><line style=\"stroke: #A80036; stroke-width: 1.0;\" x1=\"8\" x2=\"21.5\" y1=\"127.3633\" y2=\"127.3633\"/><text fill=\"#000000\" font-family=\"sans-serif\" font-size=\"11\" lengthAdjust=\"spacingAndGlyphs\" textLength=\"83\" x=\"21.5\" y=\"130.6714\">decisionNodes</text><line style=\"stroke: #A80036; stroke-width: 1.0;\" x1=\"104.5\" x2=\"118\" y1=\"127.3633\" y2=\"127.3633\"/><text fill=\"#000000\" font-family=\"sans-serif\" font-size=\"11\" lengthAdjust=\"spacingAndGlyphs\" textLength=\"8\" x=\"13\" y=\"173.5854\">S</text><line style=\"stroke: #A80036; stroke-width: 1.0;\" x1=\"8\" x2=\"32.5\" y1=\"156.9727\" y2=\"156.9727\"/><text fill=\"#000000\" font-family=\"sans-serif\" font-size=\"11\" lengthAdjust=\"spacingAndGlyphs\" textLength=\"61\" x=\"32.5\" y=\"160.2808\">transitions</text><line style=\"stroke: #A80036; stroke-width: 1.0;\" x1=\"93.5\" x2=\"118\" y1=\"156.9727\" y2=\"156.9727\"/></a><!--MD5=[e437cba5a4abda48c06446875e3d176b]\n",
       "@startuml\r\n",
       " \r\n",
       "comp def \"DecisionTest\" as E1  <<(D,brown)action def>> [[psysml:a611506a-05f4-4898-8d67-b23f8626d6c2 ]] {\r\n",
       "x\r\n",
       "- - actions - -\r\n",
       "A1\r\n",
       "A2\r\n",
       "A3\r\n",
       "- - decisionNodes - -\r\n",
       "test x\r\n",
       "- - transitions - -\r\n",
       "S\r\n",
       "}\r\n",
       "@enduml\r\n",
       "\n",
       "PlantUML version 1.2020.13(Sat Jun 13 12:26:38 UTC 2020)\n",
       "(EPL source distribution)\n",
       "Java Runtime: OpenJDK Runtime Environment\n",
       "JVM: OpenJDK 64-Bit Server VM\n",
       "Default Encoding: UTF-8\n",
       "Language: en\n",
       "Country: null\n",
       "--></g></svg>"
      ]
     },
     "execution_count": 31,
     "metadata": {},
     "output_type": "execute_result"
    }
   ],
   "source": [
    "%viz --style=\"PLANTUML\" --view=\"Tree\" \"DecisionTest\""
   ]
  },
  {
   "cell_type": "code",
   "execution_count": 32,
   "id": "closed-filename",
   "metadata": {
    "execution": {
     "iopub.execute_input": "2021-03-26T09:14:06.389287Z",
     "iopub.status.busy": "2021-03-26T09:14:06.388482Z",
     "iopub.status.idle": "2021-03-26T09:14:06.432655Z",
     "shell.execute_reply": "2021-03-26T09:14:06.431438Z"
    }
   },
   "outputs": [
    {
     "data": {
      "image/svg+xml": [
       "<?xml version=\"1.0\" encoding=\"UTF-8\" standalone=\"no\"?><svg xmlns=\"http://www.w3.org/2000/svg\" xmlns:xlink=\"http://www.w3.org/1999/xlink\" contentScriptType=\"application/ecmascript\" contentStyleType=\"text/css\" height=\"303px\" preserveAspectRatio=\"none\" style=\"width:603px;height:303px;background:#000000;\" version=\"1.1\" viewBox=\"0 0 603 303\" width=\"603px\" zoomAndPan=\"magnify\"><defs/><g><rect fill=\"#271A0B\" height=\"1\" style=\"stroke: #271A0B; stroke-width: 1.0;\" width=\"1\" x=\"0\" y=\"0\"/><rect fill=\"#FFFFFF\" height=\"205.5625\" style=\"stroke: #FFFFFF; stroke-width: 1.0;\" width=\"602\" x=\"0\" y=\"0\"/><text fill=\"#000000\" font-family=\"sans-serif\" font-size=\"12\" font-weight=\"bold\" lengthAdjust=\"spacingAndGlyphs\" textLength=\"159\" x=\"5\" y=\"16.1387\">Welcome to PlantUML!</text><text fill=\"#000000\" font-family=\"sans-serif\" font-size=\"12\" lengthAdjust=\"spacingAndGlyphs\" textLength=\"0\" x=\"9\" y=\"30.1074\"/><text fill=\"#000000\" font-family=\"sans-serif\" font-size=\"12\" lengthAdjust=\"spacingAndGlyphs\" textLength=\"293\" x=\"5\" y=\"44.0762\">If you use this software, you accept its license.</text><text fill=\"#000000\" font-family=\"sans-serif\" font-size=\"12\" lengthAdjust=\"spacingAndGlyphs\" textLength=\"107\" x=\"5\" y=\"58.0449\">(details by typing</text><text fill=\"#000000\" font-family=\"monospace\" font-size=\"12\" lengthAdjust=\"spacingAndGlyphs\" textLength=\"49\" x=\"116\" y=\"58.0449\">license</text><text fill=\"#000000\" font-family=\"sans-serif\" font-size=\"12\" lengthAdjust=\"spacingAndGlyphs\" textLength=\"56\" x=\"169\" y=\"58.0449\">keyword)</text><text fill=\"#000000\" font-family=\"sans-serif\" font-size=\"12\" lengthAdjust=\"spacingAndGlyphs\" textLength=\"0\" x=\"9\" y=\"72.0137\"/><text fill=\"#000000\" font-family=\"sans-serif\" font-size=\"12\" lengthAdjust=\"spacingAndGlyphs\" textLength=\"283\" x=\"5\" y=\"85.9824\">You can start with a simple UML Diagram like:</text><text fill=\"#000000\" font-family=\"sans-serif\" font-size=\"12\" lengthAdjust=\"spacingAndGlyphs\" textLength=\"0\" x=\"9\" y=\"99.9512\"/><text fill=\"#000000\" font-family=\"monospace\" font-size=\"12\" lengthAdjust=\"spacingAndGlyphs\" textLength=\"119\" x=\"5\" y=\"113.9199\">Bob-&gt;Alice: Hello</text><text fill=\"#000000\" font-family=\"sans-serif\" font-size=\"12\" lengthAdjust=\"spacingAndGlyphs\" textLength=\"0\" x=\"9\" y=\"127.8887\"/><text fill=\"#000000\" font-family=\"sans-serif\" font-size=\"12\" lengthAdjust=\"spacingAndGlyphs\" textLength=\"14\" x=\"5\" y=\"141.8574\">Or</text><text fill=\"#000000\" font-family=\"sans-serif\" font-size=\"12\" lengthAdjust=\"spacingAndGlyphs\" textLength=\"0\" x=\"9\" y=\"155.8262\"/><text fill=\"#000000\" font-family=\"monospace\" font-size=\"12\" lengthAdjust=\"spacingAndGlyphs\" textLength=\"91\" x=\"5\" y=\"169.7949\">class Example</text><text fill=\"#000000\" font-family=\"sans-serif\" font-size=\"12\" lengthAdjust=\"spacingAndGlyphs\" textLength=\"0\" x=\"9\" y=\"183.7637\"/><text fill=\"#000000\" font-family=\"sans-serif\" font-size=\"12\" lengthAdjust=\"spacingAndGlyphs\" textLength=\"349\" x=\"5\" y=\"197.7324\">You will find more information about PlantUML syntax on</text><text fill=\"#000000\" font-family=\"sans-serif\" font-size=\"12\" lengthAdjust=\"spacingAndGlyphs\" text-decoration=\"underline\" textLength=\"129\" x=\"358\" y=\"197.7324\">https://plantuml.com</text><image height=\"71\" width=\"80\" x=\"516\" xlink:href=\"data:image/png;base64,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\" y=\"6\"/><rect fill=\"#000000\" height=\"96.4844\" style=\"stroke: #000000; stroke-width: 1.0;\" width=\"602\" x=\"0\" y=\"205.5625\"/><rect fill=\"#33FF02\" height=\"21.2969\" style=\"stroke: #33FF02; stroke-width: 1.0;\" width=\"170\" x=\"5\" y=\"210.5625\"/><text fill=\"#000000\" font-family=\"sans-serif\" font-size=\"14\" font-weight=\"bold\" lengthAdjust=\"spacingAndGlyphs\" textLength=\"168\" x=\"6\" y=\"225.5625\">[From string (line 2) ]</text><text fill=\"#33FF02\" font-family=\"sans-serif\" font-size=\"14\" font-weight=\"bold\" lengthAdjust=\"spacingAndGlyphs\" textLength=\"0\" x=\"10\" y=\"245.8594\"/><text fill=\"#33FF02\" font-family=\"sans-serif\" font-size=\"14\" font-weight=\"bold\" lengthAdjust=\"spacingAndGlyphs\" textLength=\"79\" x=\"5\" y=\"262.1563\">@startuml</text><text fill=\"#33FF02\" font-family=\"sans-serif\" font-size=\"14\" font-weight=\"bold\" lengthAdjust=\"spacingAndGlyphs\" textLength=\"0\" x=\"10\" y=\"278.4531\"/><text fill=\"#FF0000\" font-family=\"sans-serif\" font-size=\"14\" font-weight=\"bold\" lengthAdjust=\"spacingAndGlyphs\" textLength=\"142\" x=\"10\" y=\"294.75\">Empty description</text><!--MD5=[f59edd8218d337f74d0c332fc6737304]\n",
       "@startuml\r\n",
       " \r\n",
       "@enduml\r\n",
       "\n",
       "PlantUML version 1.2020.13(Sat Jun 13 12:26:38 UTC 2020)\n",
       "(EPL source distribution)\n",
       "Java Runtime: OpenJDK Runtime Environment\n",
       "JVM: OpenJDK 64-Bit Server VM\n",
       "Default Encoding: UTF-8\n",
       "Language: en\n",
       "Country: null\n",
       "--></g></svg>"
      ]
     },
     "execution_count": 32,
     "metadata": {},
     "output_type": "execute_result"
    }
   ],
   "source": [
    "%viz --style=\"PLANTUML\" --view=\"State\" \"DecisionTest\""
   ]
  },
  {
   "cell_type": "code",
   "execution_count": 33,
   "id": "preliminary-globe",
   "metadata": {
    "execution": {
     "iopub.execute_input": "2021-03-26T09:14:06.484611Z",
     "iopub.status.busy": "2021-03-26T09:14:06.483879Z",
     "iopub.status.idle": "2021-03-26T09:14:06.493833Z",
     "shell.execute_reply": "2021-03-26T09:14:06.494181Z"
    }
   },
   "outputs": [
    {
     "data": {
      "image/svg+xml": [
       "<?xml version=\"1.0\" encoding=\"UTF-8\" standalone=\"no\"?><svg xmlns=\"http://www.w3.org/2000/svg\" xmlns:xlink=\"http://www.w3.org/1999/xlink\" contentScriptType=\"application/ecmascript\" contentStyleType=\"text/css\" height=\"79px\" preserveAspectRatio=\"none\" style=\"width:192px;height:79px;\" version=\"1.1\" viewBox=\"0 0 192 79\" width=\"192px\" zoomAndPan=\"magnify\"><defs><filter height=\"300%\" id=\"f5n6mh2oopvwh\" width=\"300%\" x=\"-1\" y=\"-1\"><feGaussianBlur result=\"blurOut\" stdDeviation=\"2.0\"/><feColorMatrix in=\"blurOut\" result=\"blurOut2\" type=\"matrix\" values=\"0 0 0 0 0 0 0 0 0 0 0 0 0 0 0 0 0 0 .4 0\"/><feOffset dx=\"4.0\" dy=\"4.0\" in=\"blurOut2\" result=\"blurOut3\"/><feBlend in=\"SourceGraphic\" in2=\"blurOut3\" mode=\"normal\"/></filter></defs><g><!--MD5=[43c9051892ef23e1a46a86907403d788]\n",
       "class E1--><a href=\"psysml:a611506a-05f4-4898-8d67-b23f8626d6c2\" target=\"_top\" title=\"psysml:a611506a-05f4-4898-8d67-b23f8626d6c2\" xlink:actuate=\"onRequest\" xlink:href=\"psysml:a611506a-05f4-4898-8d67-b23f8626d6c2\" xlink:show=\"new\" xlink:title=\"psysml:a611506a-05f4-4898-8d67-b23f8626d6c2\" xlink:type=\"simple\"><rect fill=\"#FEFECE\" filter=\"url(#f5n6mh2oopvwh)\" height=\"53.9375\" id=\"E1\" style=\"stroke: #A80036; stroke-width: 1.5;\" width=\"166\" x=\"7\" y=\"7\"/><ellipse cx=\"22\" cy=\"25.9688\" fill=\"#ADD1B2\" rx=\"11\" ry=\"11\" style=\"stroke: #A80036; stroke-width: 1.0;\"/><path d=\"M24.9688,31.6094 Q24.3906,31.9063 23.75,32.0469 Q23.1094,32.2031 22.4063,32.2031 Q19.9063,32.2031 18.5781,30.5625 Q17.2656,28.9063 17.2656,25.7813 Q17.2656,22.6563 18.5781,21 Q19.9063,19.3438 22.4063,19.3438 Q23.1094,19.3438 23.75,19.5 Q24.4063,19.6563 24.9688,19.9531 L24.9688,22.6719 Q24.3438,22.0938 23.75,21.8281 Q23.1563,21.5469 22.5313,21.5469 Q21.1875,21.5469 20.5,22.625 Q19.8125,23.6875 19.8125,25.7813 Q19.8125,27.875 20.5,28.9531 Q21.1875,30.0156 22.5313,30.0156 Q23.1563,30.0156 23.75,29.75 Q24.3438,29.4688 24.9688,28.8906 L24.9688,31.6094 Z \"/><text fill=\"#000000\" font-family=\"sans-serif\" font-size=\"12\" font-style=\"italic\" lengthAdjust=\"spacingAndGlyphs\" textLength=\"138\" x=\"34\" y=\"23.1387\">«(D,brown)action def»</text><text fill=\"#000000\" font-family=\"sans-serif\" font-size=\"12\" lengthAdjust=\"spacingAndGlyphs\" textLength=\"80\" x=\"63\" y=\"37.1074\">DecisionTest</text><line style=\"stroke: #A80036; stroke-width: 1.5;\" x1=\"8\" x2=\"172\" y1=\"44.9375\" y2=\"44.9375\"/><line style=\"stroke: #A80036; stroke-width: 1.5;\" x1=\"8\" x2=\"172\" y1=\"52.9375\" y2=\"52.9375\"/></a><!--MD5=[6ef33df90447dba50ecb847e6814e8b8]\n",
       "@startuml\r\n",
       "skinparam ranksep 8\r\n",
       "skinparam rectangle {\r\n",
       " backgroundColor<<block>> LightGreen\r\n",
       "}\r\n",
       " \r\n",
       "def \"DecisionTest\" as E1  <<(D,brown)action def>> [[psysml:a611506a-05f4-4898-8d67-b23f8626d6c2 ]] \r\n",
       "@enduml\r\n",
       "\n",
       "PlantUML version 1.2020.13(Sat Jun 13 12:26:38 UTC 2020)\n",
       "(EPL source distribution)\n",
       "Java Runtime: OpenJDK Runtime Environment\n",
       "JVM: OpenJDK 64-Bit Server VM\n",
       "Default Encoding: UTF-8\n",
       "Language: en\n",
       "Country: null\n",
       "--></g></svg>"
      ]
     },
     "execution_count": 33,
     "metadata": {},
     "output_type": "execute_result"
    }
   ],
   "source": [
    "%viz --style=\"PLANTUML\" --view=\"Interconnection\" \"DecisionTest\""
   ]
  },
  {
   "cell_type": "code",
   "execution_count": 34,
   "id": "visible-living",
   "metadata": {
    "execution": {
     "iopub.execute_input": "2021-03-26T09:14:06.545810Z",
     "iopub.status.busy": "2021-03-26T09:14:06.545310Z",
     "iopub.status.idle": "2021-03-26T09:14:06.558374Z",
     "shell.execute_reply": "2021-03-26T09:14:06.557983Z"
    }
   },
   "outputs": [
    {
     "data": {
      "image/svg+xml": [
       "<?xml version=\"1.0\" encoding=\"UTF-8\" standalone=\"no\"?><svg xmlns=\"http://www.w3.org/2000/svg\" xmlns:xlink=\"http://www.w3.org/1999/xlink\" contentScriptType=\"application/ecmascript\" contentStyleType=\"text/css\" height=\"206px\" preserveAspectRatio=\"none\" style=\"width:891px;height:206px;background:#000000;\" version=\"1.1\" viewBox=\"0 0 891 206\" width=\"891px\" zoomAndPan=\"magnify\"><defs/><g><rect fill=\"#130511\" height=\"1\" style=\"stroke: #130511; stroke-width: 1.0;\" width=\"1\" x=\"0\" y=\"0\"/><rect fill=\"#33FF02\" height=\"21.2969\" style=\"stroke: #33FF02; stroke-width: 1.0;\" width=\"884\" x=\"5\" y=\"5\"/><text fill=\"#000000\" font-family=\"sans-serif\" font-size=\"14\" font-weight=\"bold\" lengthAdjust=\"spacingAndGlyphs\" textLength=\"168\" x=\"6\" y=\"20\">[From string (line 9) ]</text><text fill=\"#33FF02\" font-family=\"sans-serif\" font-size=\"14\" font-weight=\"bold\" lengthAdjust=\"spacingAndGlyphs\" textLength=\"0\" x=\"10\" y=\"40.2969\"/><text fill=\"#33FF02\" font-family=\"sans-serif\" font-size=\"14\" font-weight=\"bold\" lengthAdjust=\"spacingAndGlyphs\" textLength=\"79\" x=\"5\" y=\"56.5938\">@startuml</text><text fill=\"#33FF02\" font-family=\"sans-serif\" font-size=\"14\" font-weight=\"bold\" lengthAdjust=\"spacingAndGlyphs\" textLength=\"165\" x=\"5\" y=\"72.8906\">skinparam ranksep 8</text><text fill=\"#33FF02\" font-family=\"sans-serif\" font-size=\"14\" font-weight=\"bold\" lengthAdjust=\"spacingAndGlyphs\" textLength=\"0\" x=\"10\" y=\"89.1875\"/><text fill=\"#33FF02\" font-family=\"sans-serif\" font-size=\"14\" font-weight=\"bold\" lengthAdjust=\"spacingAndGlyphs\" textLength=\"884\" x=\"5\" y=\"105.4844\">rec def \"DecisionTest\" as E1  &lt;&lt;(D,brown)action def&gt;&gt; [[psysml:a611506a-05f4-4898-8d67-b23f8626d6c2 ]] {</text><text fill=\"#33FF02\" font-family=\"sans-serif\" font-size=\"14\" font-weight=\"bold\" lengthAdjust=\"spacingAndGlyphs\" textLength=\"615\" x=\"5\" y=\"121.7813\">portout \"$result\" as E2  [[psysml:825b4193-3fd8-46d1-bb26-d00bcd83fe4c ]]</text><text fill=\"#33FF02\" font-family=\"sans-serif\" font-size=\"14\" font-weight=\"bold\" lengthAdjust=\"spacingAndGlyphs\" textLength=\"878\" x=\"5\" y=\"138.0781\">rec usage \"test x\" as E3  &lt;&lt;(U,orange)decisionNode&gt;&gt; [[psysml:6589aa4e-efab-4688-8327-f7f10099d134 ]] {</text><text fill=\"#33FF02\" font-family=\"sans-serif\" font-size=\"14\" font-weight=\"bold\" lengthAdjust=\"spacingAndGlyphs\" textLength=\"10\" x=\"5\" y=\"154.375\">}</text><text fill=\"#33FF02\" font-family=\"sans-serif\" font-size=\"14\" font-weight=\"bold\" lengthAdjust=\"spacingAndGlyphs\" textLength=\"0\" x=\"10\" y=\"170.6719\"/><text fill=\"#33FF02\" font-family=\"sans-serif\" font-size=\"14\" font-weight=\"bold\" lengthAdjust=\"spacingAndGlyphs\" textLength=\"10\" x=\"5\" y=\"186.9688\">{</text><text fill=\"#FF0000\" font-family=\"sans-serif\" font-size=\"14\" font-weight=\"bold\" lengthAdjust=\"spacingAndGlyphs\" textLength=\"106\" x=\"10\" y=\"203.2656\">Syntax Error?</text><!--MD5=[3a039197e0d4a28e294ccfb55de1bd01]\n",
       "@startuml\r\n",
       "skinparam ranksep 8\r\n",
       " \r\n",
       "rec def \"DecisionTest\" as E1  <<(D,brown)action def>> [[psysml:a611506a-05f4-4898-8d67-b23f8626d6c2 ]] {\r\n",
       "portout \"$result\" as E2  [[psysml:825b4193-3fd8-46d1-bb26-d00bcd83fe4c ]] \r\n",
       "rec usage \"test x\" as E3  <<(U,orange)decisionNode>> [[psysml:6589aa4e-efab-4688-8327-f7f10099d134 ]] {\r\n",
       "}\r\n",
       "\r\n",
       "{\r\n",
       "portout \"$result\" as E4  [[psysml:03222c0c-45fb-446a-ae55-be21a490ff21 ]] \r\n",
       "portin \"$x\" as E5  [[psysml:1f067476-7b6a-4ee1-8091-903eee6b057e ]] \r\n",
       "portin \"$y\" as E6  [[psysml:736be314-0092-4efe-9283-a3128e572984 ]] \r\n",
       "portout \"$result\" as E7  [[psysml:78a09776-ac9f-434e-8d68-d86bf1b46cb7 ]] \r\n",
       "}\r\n",
       "\r\n",
       "{\r\n",
       "portout \"$result\" as E8  [[psysml:1aa891c2-82c1-43c8-8c92-2c9f46284f3f ]] \r\n",
       "portin \"$x\" as E9  [[psysml:41e20081-729f-43ab-b2b2-e475cbaa33cc ]] \r\n",
       "portin \"$y\" as E10  [[psysml:dd685822-7c1a-40d9-ad47-98988f0eab95 ]] \r\n",
       "portout \"$result\" as E11  [[psysml:ff30ef21-37bb-4366-a828-82b307802d91 ]] \r\n",
       "}\r\n",
       "\r\n",
       "{\r\n",
       "}\r\n",
       "\r\n",
       "{\r\n",
       "}\r\n",
       "\r\n",
       "{\r\n",
       "portout \"$result\" as E12  [[psysml:8acd1d71-26f3-4979-a604-5454cd234d07 ]] \r\n",
       "}\r\n",
       "\r\n",
       "{\r\n",
       "portout \"$result\" as E13  [[psysml:63187c6a-fa39-44bf-bd7b-baf836477136 ]] \r\n",
       "}\r\n",
       "\r\n",
       "rec usage \"A1\" as E14  <<(U,orange)action>> [[psysml:edf3151a-ea9a-49ab-905b-cac4748fa5cc ]] {\r\n",
       "}\r\n",
       "\r\n",
       "rec usage \"A2\" as E15  <<(U,orange)action>> [[psysml:3bd22752-b66f-42f0-9d88-956d01e987e1 ]] {\r\n",
       "}\r\n",
       "\r\n",
       "rec usage \"A3\" as E16  <<(U,orange)action>> [[psysml:809db6ec-9b23-4a20-a88e-0d707c026938 ]] {\r\n",
       "}\r\n",
       "\r\n",
       "rec usage \"S\" as E17  <<(U,orange)transition>> [[psysml:a1b52494-6c64-4433-870a-8c0c85f99588 ]] {\r\n",
       "rec usage \"A1\" as E18  <<(U,orange)action>> [[psysml:edf3151a-ea9a-49ab-905b-cac4748fa5cc ]] {\r\n",
       "}\r\n",
       "\r\n",
       "portout \"$result\" as E19  [[psysml:83f97503-27b8-4c10-a73e-d48c1a1b0911 ]] \r\n",
       "portin \"$x\" as E20  [[psysml:e039d1a4-e758-4cd1-b4b1-86e00270305d ]] \r\n",
       "portin \"$y\" as E21  [[psysml:0ebe1437-9ca5-4e09-9c89-2871c656e01e ]] \r\n",
       "portout \"$result\" as E22  [[psysml:95821532-07e2-4186-9bf5-2609b2b64808 ]] \r\n",
       "}\r\n",
       "\r\n",
       "rec usage \"A3\" as E23  <<(U,orange)action>> [[psysml:809db6ec-9b23-4a20-a88e-0d707c026938 ]] {\r\n",
       "}\r\n",
       "\r\n",
       "{\r\n",
       "portout \"$result\" as E24  [[psysml:29148d4a-85a5-459a-9935-db0d3e40f70f ]] \r\n",
       "portin \"$x\" as E25  [[psysml:c7cbf43b-156f-4fe1-932e-97acf8076a48 ]] \r\n",
       "portin \"$y\" as E26  [[psysml:d0e5218c-e833-4bf8-9c85-b0218eb0cb1f ]] \r\n",
       "portout \"$result\" as E27  [[psysml:f639559e-0e7a-4e62-b0cf-c675de4db47c ]] \r\n",
       "}\r\n",
       "\r\n",
       "}\r\n",
       "\r\n",
       "E6 -[thickness=5,#red]- E4 [[psysml:5d6d5b38-9fc5-4e3a-9cb6-5e1ffd055c15 ]] \r\n",
       "E10 -[thickness=5,#red]- E8 [[psysml:187378d7-d664-45d6-a81d-c8b3dbc9d7af ]] \r\n",
       "E21 -[thickness=5,#red]- E19 [[psysml:b7ca4d72-a9f0-45a9-981c-6f89250d77d4 ]] \r\n",
       "E26 -[thickness=5,#red]- E24 [[psysml:73bf4527-0e11-4058-a3d3-ef7c36e23adf ]] \r\n",
       "@enduml\r\n",
       "\n",
       "PlantUML version 1.2020.13(Sat Jun 13 12:26:38 UTC 2020)\n",
       "(EPL source distribution)\n",
       "Java Runtime: OpenJDK Runtime Environment\n",
       "JVM: OpenJDK 64-Bit Server VM\n",
       "Default Encoding: UTF-8\n",
       "Language: en\n",
       "Country: null\n",
       "--></g></svg>"
      ]
     },
     "execution_count": 34,
     "metadata": {},
     "output_type": "execute_result"
    }
   ],
   "source": [
    "%viz --style=\"PLANTUML\" --view=\"Action\" \"DecisionTest\""
   ]
  },
  {
   "cell_type": "code",
   "execution_count": 35,
   "id": "built-reality",
   "metadata": {
    "execution": {
     "iopub.execute_input": "2021-03-26T09:14:06.609955Z",
     "iopub.status.busy": "2021-03-26T09:14:06.609444Z",
     "iopub.status.idle": "2021-03-26T09:14:06.663148Z",
     "shell.execute_reply": "2021-03-26T09:14:06.662816Z"
    }
   },
   "outputs": [
    {
     "data": {
      "image/svg+xml": [
       "<?xml version=\"1.0\" encoding=\"UTF-8\" standalone=\"no\"?><svg xmlns=\"http://www.w3.org/2000/svg\" xmlns:xlink=\"http://www.w3.org/1999/xlink\" contentScriptType=\"application/ecmascript\" contentStyleType=\"text/css\" height=\"199px\" preserveAspectRatio=\"none\" style=\"width:138px;height:199px;\" version=\"1.1\" viewBox=\"0 0 138 199\" width=\"138px\" zoomAndPan=\"magnify\"><defs><filter height=\"300%\" id=\"fuhg1cuw5bia2\" width=\"300%\" x=\"-1\" y=\"-1\"><feGaussianBlur result=\"blurOut\" stdDeviation=\"2.0\"/><feColorMatrix in=\"blurOut\" result=\"blurOut2\" type=\"matrix\" values=\"0 0 0 0 0 0 0 0 0 0 0 0 0 0 0 0 0 0 .4 0\"/><feOffset dx=\"4.0\" dy=\"4.0\" in=\"blurOut2\" result=\"blurOut3\"/><feBlend in=\"SourceGraphic\" in2=\"blurOut3\" mode=\"normal\"/></filter></defs><g><!--MD5=[43c9051892ef23e1a46a86907403d788]\n",
       "class E1--><a href=\"psysml:a611506a-05f4-4898-8d67-b23f8626d6c2\" target=\"_top\" title=\"psysml:a611506a-05f4-4898-8d67-b23f8626d6c2\" xlink:actuate=\"onRequest\" xlink:href=\"psysml:a611506a-05f4-4898-8d67-b23f8626d6c2\" xlink:show=\"new\" xlink:title=\"psysml:a611506a-05f4-4898-8d67-b23f8626d6c2\" xlink:type=\"simple\"><rect fill=\"#FEFECE\" filter=\"url(#fuhg1cuw5bia2)\" height=\"173.1797\" id=\"E1\" style=\"stroke: #A80036; stroke-width: 1.5;\" width=\"112\" x=\"7\" y=\"7\"/><ellipse cx=\"22\" cy=\"25.9688\" fill=\"#A52A2A\" rx=\"11\" ry=\"11\" style=\"stroke: #A80036; stroke-width: 1.0;\"/><path d=\"M21.5938,21.7813 L21.5938,29.7656 L22.25,29.7656 Q23.6875,29.7656 24.2969,28.8594 Q24.9219,27.9375 24.9219,25.7656 Q24.9219,23.5938 24.2969,22.6875 Q23.6875,21.7813 22.25,21.7813 L21.5938,21.7813 Z M19.1406,19.5781 L21.7656,19.5781 Q24.7969,19.5781 26.125,21.0313 Q27.4688,22.4688 27.4688,25.7656 Q27.4688,29.0625 26.125,30.5156 Q24.7969,31.9688 21.7656,31.9688 L19.1406,31.9688 L19.1406,19.5781 Z \"/><text fill=\"#000000\" font-family=\"sans-serif\" font-size=\"12\" font-style=\"italic\" lengthAdjust=\"spacingAndGlyphs\" textLength=\"77\" x=\"37.5\" y=\"23.1387\">«action def»</text><text fill=\"#000000\" font-family=\"sans-serif\" font-size=\"12\" lengthAdjust=\"spacingAndGlyphs\" textLength=\"80\" x=\"36\" y=\"37.1074\">DecisionTest</text><line style=\"stroke: #A80036; stroke-width: 1.5;\" x1=\"8\" x2=\"118\" y1=\"44.9375\" y2=\"44.9375\"/><text fill=\"#000000\" font-family=\"sans-serif\" font-size=\"11\" lengthAdjust=\"spacingAndGlyphs\" textLength=\"6\" x=\"13\" y=\"59.1479\">x</text><text fill=\"#000000\" font-family=\"sans-serif\" font-size=\"11\" lengthAdjust=\"spacingAndGlyphs\" textLength=\"14\" x=\"13\" y=\"88.7573\">A1</text><text fill=\"#000000\" font-family=\"sans-serif\" font-size=\"11\" lengthAdjust=\"spacingAndGlyphs\" textLength=\"14\" x=\"13\" y=\"101.562\">A2</text><text fill=\"#000000\" font-family=\"sans-serif\" font-size=\"11\" lengthAdjust=\"spacingAndGlyphs\" textLength=\"14\" x=\"13\" y=\"114.3667\">A3</text><line style=\"stroke: #A80036; stroke-width: 1.0;\" x1=\"8\" x2=\"42.5\" y1=\"72.1445\" y2=\"72.1445\"/><text fill=\"#000000\" font-family=\"sans-serif\" font-size=\"11\" lengthAdjust=\"spacingAndGlyphs\" textLength=\"41\" x=\"42.5\" y=\"75.4526\">actions</text><line style=\"stroke: #A80036; stroke-width: 1.0;\" x1=\"83.5\" x2=\"118\" y1=\"72.1445\" y2=\"72.1445\"/><text fill=\"#000000\" font-family=\"sans-serif\" font-size=\"11\" lengthAdjust=\"spacingAndGlyphs\" textLength=\"32\" x=\"13\" y=\"143.9761\">test x</text><line style=\"stroke: #A80036; stroke-width: 1.0;\" x1=\"8\" x2=\"21.5\" y1=\"127.3633\" y2=\"127.3633\"/><text fill=\"#000000\" font-family=\"sans-serif\" font-size=\"11\" lengthAdjust=\"spacingAndGlyphs\" textLength=\"83\" x=\"21.5\" y=\"130.6714\">decisionNodes</text><line style=\"stroke: #A80036; stroke-width: 1.0;\" x1=\"104.5\" x2=\"118\" y1=\"127.3633\" y2=\"127.3633\"/><text fill=\"#000000\" font-family=\"sans-serif\" font-size=\"11\" lengthAdjust=\"spacingAndGlyphs\" textLength=\"8\" x=\"13\" y=\"173.5854\">S</text><line style=\"stroke: #A80036; stroke-width: 1.0;\" x1=\"8\" x2=\"32.5\" y1=\"156.9727\" y2=\"156.9727\"/><text fill=\"#000000\" font-family=\"sans-serif\" font-size=\"11\" lengthAdjust=\"spacingAndGlyphs\" textLength=\"61\" x=\"32.5\" y=\"160.2808\">transitions</text><line style=\"stroke: #A80036; stroke-width: 1.0;\" x1=\"93.5\" x2=\"118\" y1=\"156.9727\" y2=\"156.9727\"/></a><!--MD5=[e437cba5a4abda48c06446875e3d176b]\n",
       "@startuml\r\n",
       " \r\n",
       "comp def \"DecisionTest\" as E1  <<(D,brown)action def>> [[psysml:a611506a-05f4-4898-8d67-b23f8626d6c2 ]] {\r\n",
       "x\r\n",
       "- - actions - -\r\n",
       "A1\r\n",
       "A2\r\n",
       "A3\r\n",
       "- - decisionNodes - -\r\n",
       "test x\r\n",
       "- - transitions - -\r\n",
       "S\r\n",
       "}\r\n",
       "@enduml\r\n",
       "\n",
       "PlantUML version 1.2020.13(Sat Jun 13 12:26:38 UTC 2020)\n",
       "(EPL source distribution)\n",
       "Java Runtime: OpenJDK Runtime Environment\n",
       "JVM: OpenJDK 64-Bit Server VM\n",
       "Default Encoding: UTF-8\n",
       "Language: en\n",
       "Country: null\n",
       "--></g></svg>"
      ]
     },
     "execution_count": 35,
     "metadata": {},
     "output_type": "execute_result"
    }
   ],
   "source": [
    "%viz --style=\"PLANTUML\" --view=\"Sequence\" \"DecisionTest\""
   ]
  },
  {
   "cell_type": "code",
   "execution_count": 36,
   "id": "blind-anthropology",
   "metadata": {
    "execution": {
     "iopub.execute_input": "2021-03-26T09:14:06.715148Z",
     "iopub.status.busy": "2021-03-26T09:14:06.714637Z",
     "iopub.status.idle": "2021-03-26T09:14:06.728523Z",
     "shell.execute_reply": "2021-03-26T09:14:06.728222Z"
    }
   },
   "outputs": [
    {
     "data": {
      "image/svg+xml": [
       "<?xml version=\"1.0\" encoding=\"UTF-8\" standalone=\"no\"?><svg xmlns=\"http://www.w3.org/2000/svg\" xmlns:xlink=\"http://www.w3.org/1999/xlink\" contentScriptType=\"application/ecmascript\" contentStyleType=\"text/css\" height=\"190px\" preserveAspectRatio=\"none\" style=\"width:891px;height:190px;background:#000000;\" version=\"1.1\" viewBox=\"0 0 891 190\" width=\"891px\" zoomAndPan=\"magnify\"><defs/><g><rect fill=\"#151316\" height=\"1\" style=\"stroke: #151316; stroke-width: 1.0;\" width=\"1\" x=\"0\" y=\"0\"/><rect fill=\"#33FF02\" height=\"21.2969\" style=\"stroke: #33FF02; stroke-width: 1.0;\" width=\"884\" x=\"5\" y=\"5\"/><text fill=\"#000000\" font-family=\"sans-serif\" font-size=\"14\" font-weight=\"bold\" lengthAdjust=\"spacingAndGlyphs\" textLength=\"168\" x=\"6\" y=\"20\">[From string (line 8) ]</text><text fill=\"#33FF02\" font-family=\"sans-serif\" font-size=\"14\" font-weight=\"bold\" lengthAdjust=\"spacingAndGlyphs\" textLength=\"0\" x=\"10\" y=\"40.2969\"/><text fill=\"#33FF02\" font-family=\"sans-serif\" font-size=\"14\" font-weight=\"bold\" lengthAdjust=\"spacingAndGlyphs\" textLength=\"79\" x=\"5\" y=\"56.5938\">@startuml</text><text fill=\"#33FF02\" font-family=\"sans-serif\" font-size=\"14\" font-weight=\"bold\" lengthAdjust=\"spacingAndGlyphs\" textLength=\"0\" x=\"10\" y=\"72.8906\"/><text fill=\"#33FF02\" font-family=\"sans-serif\" font-size=\"14\" font-weight=\"bold\" lengthAdjust=\"spacingAndGlyphs\" textLength=\"884\" x=\"5\" y=\"89.1875\">rec def \"DecisionTest\" as E1  &lt;&lt;(D,brown)action def&gt;&gt; [[psysml:a611506a-05f4-4898-8d67-b23f8626d6c2 ]] {</text><text fill=\"#33FF02\" font-family=\"sans-serif\" font-size=\"14\" font-weight=\"bold\" lengthAdjust=\"spacingAndGlyphs\" textLength=\"615\" x=\"5\" y=\"105.4844\">portout \"$result\" as E2  [[psysml:825b4193-3fd8-46d1-bb26-d00bcd83fe4c ]]</text><text fill=\"#33FF02\" font-family=\"sans-serif\" font-size=\"14\" font-weight=\"bold\" lengthAdjust=\"spacingAndGlyphs\" textLength=\"878\" x=\"5\" y=\"121.7813\">rec usage \"test x\" as E3  &lt;&lt;(U,orange)decisionNode&gt;&gt; [[psysml:6589aa4e-efab-4688-8327-f7f10099d134 ]] {</text><text fill=\"#33FF02\" font-family=\"sans-serif\" font-size=\"14\" font-weight=\"bold\" lengthAdjust=\"spacingAndGlyphs\" textLength=\"10\" x=\"5\" y=\"138.0781\">}</text><text fill=\"#33FF02\" font-family=\"sans-serif\" font-size=\"14\" font-weight=\"bold\" lengthAdjust=\"spacingAndGlyphs\" textLength=\"0\" x=\"10\" y=\"154.375\"/><text fill=\"#33FF02\" font-family=\"sans-serif\" font-size=\"14\" font-weight=\"bold\" lengthAdjust=\"spacingAndGlyphs\" textLength=\"10\" x=\"5\" y=\"170.6719\">{</text><text fill=\"#FF0000\" font-family=\"sans-serif\" font-size=\"14\" font-weight=\"bold\" lengthAdjust=\"spacingAndGlyphs\" textLength=\"106\" x=\"10\" y=\"186.9688\">Syntax Error?</text><!--MD5=[dd17982645a08ac2ee0607c4f9940cd1]\n",
       "@startuml\r\n",
       " \r\n",
       "rec def \"DecisionTest\" as E1  <<(D,brown)action def>> [[psysml:a611506a-05f4-4898-8d67-b23f8626d6c2 ]] {\r\n",
       "portout \"$result\" as E2  [[psysml:825b4193-3fd8-46d1-bb26-d00bcd83fe4c ]] \r\n",
       "rec usage \"test x\" as E3  <<(U,orange)decisionNode>> [[psysml:6589aa4e-efab-4688-8327-f7f10099d134 ]] {\r\n",
       "}\r\n",
       "\r\n",
       "{\r\n",
       "portout \"$result\" as E4  [[psysml:03222c0c-45fb-446a-ae55-be21a490ff21 ]] \r\n",
       "portin \"$x\" as E5  [[psysml:1f067476-7b6a-4ee1-8091-903eee6b057e ]] \r\n",
       "portin \"$y\" as E6  [[psysml:736be314-0092-4efe-9283-a3128e572984 ]] \r\n",
       "portout \"$result\" as E7  [[psysml:78a09776-ac9f-434e-8d68-d86bf1b46cb7 ]] \r\n",
       "}\r\n",
       "\r\n",
       "{\r\n",
       "portout \"$result\" as E8  [[psysml:1aa891c2-82c1-43c8-8c92-2c9f46284f3f ]] \r\n",
       "portin \"$x\" as E9  [[psysml:41e20081-729f-43ab-b2b2-e475cbaa33cc ]] \r\n",
       "portin \"$y\" as E10  [[psysml:dd685822-7c1a-40d9-ad47-98988f0eab95 ]] \r\n",
       "portout \"$result\" as E11  [[psysml:ff30ef21-37bb-4366-a828-82b307802d91 ]] \r\n",
       "}\r\n",
       "\r\n",
       "{\r\n",
       "}\r\n",
       "\r\n",
       "{\r\n",
       "}\r\n",
       "\r\n",
       "{\r\n",
       "portout \"$result\" as E12  [[psysml:8acd1d71-26f3-4979-a604-5454cd234d07 ]] \r\n",
       "}\r\n",
       "\r\n",
       "{\r\n",
       "portout \"$result\" as E13  [[psysml:63187c6a-fa39-44bf-bd7b-baf836477136 ]] \r\n",
       "}\r\n",
       "\r\n",
       "rec usage \"A1\" as E14  <<(U,orange)action>> [[psysml:edf3151a-ea9a-49ab-905b-cac4748fa5cc ]] {\r\n",
       "}\r\n",
       "\r\n",
       "rec usage \"A2\" as E15  <<(U,orange)action>> [[psysml:3bd22752-b66f-42f0-9d88-956d01e987e1 ]] {\r\n",
       "}\r\n",
       "\r\n",
       "rec usage \"A3\" as E16  <<(U,orange)action>> [[psysml:809db6ec-9b23-4a20-a88e-0d707c026938 ]] {\r\n",
       "}\r\n",
       "\r\n",
       "rec usage \"S\" as E17  <<(U,orange)transition>> [[psysml:a1b52494-6c64-4433-870a-8c0c85f99588 ]] {\r\n",
       "rec usage \"A1\" as E18  <<(U,orange)action>> [[psysml:edf3151a-ea9a-49ab-905b-cac4748fa5cc ]] {\r\n",
       "}\r\n",
       "\r\n",
       "portout \"$result\" as E19  [[psysml:83f97503-27b8-4c10-a73e-d48c1a1b0911 ]] \r\n",
       "portin \"$x\" as E20  [[psysml:e039d1a4-e758-4cd1-b4b1-86e00270305d ]] \r\n",
       "portin \"$y\" as E21  [[psysml:0ebe1437-9ca5-4e09-9c89-2871c656e01e ]] \r\n",
       "portout \"$result\" as E22  [[psysml:95821532-07e2-4186-9bf5-2609b2b64808 ]] \r\n",
       "}\r\n",
       "\r\n",
       "rec usage \"A3\" as E23  <<(U,orange)action>> [[psysml:809db6ec-9b23-4a20-a88e-0d707c026938 ]] {\r\n",
       "}\r\n",
       "\r\n",
       "{\r\n",
       "portout \"$result\" as E24  [[psysml:29148d4a-85a5-459a-9935-db0d3e40f70f ]] \r\n",
       "portin \"$x\" as E25  [[psysml:c7cbf43b-156f-4fe1-932e-97acf8076a48 ]] \r\n",
       "portin \"$y\" as E26  [[psysml:d0e5218c-e833-4bf8-9c85-b0218eb0cb1f ]] \r\n",
       "portout \"$result\" as E27  [[psysml:f639559e-0e7a-4e62-b0cf-c675de4db47c ]] \r\n",
       "}\r\n",
       "\r\n",
       "}\r\n",
       "\r\n",
       "E6 -[thickness=5,#red]- E4 [[psysml:5d6d5b38-9fc5-4e3a-9cb6-5e1ffd055c15 ]] \r\n",
       "E10 -[thickness=5,#red]- E8 [[psysml:187378d7-d664-45d6-a81d-c8b3dbc9d7af ]] \r\n",
       "E21 -[thickness=5,#red]- E19 [[psysml:b7ca4d72-a9f0-45a9-981c-6f89250d77d4 ]] \r\n",
       "E26 -[thickness=5,#red]- E24 [[psysml:73bf4527-0e11-4058-a3d3-ef7c36e23adf ]] \r\n",
       "@enduml\r\n",
       "\n",
       "PlantUML version 1.2020.13(Sat Jun 13 12:26:38 UTC 2020)\n",
       "(EPL source distribution)\n",
       "Java Runtime: OpenJDK Runtime Environment\n",
       "JVM: OpenJDK 64-Bit Server VM\n",
       "Default Encoding: UTF-8\n",
       "Language: en\n",
       "Country: null\n",
       "--></g></svg>"
      ]
     },
     "execution_count": 36,
     "metadata": {},
     "output_type": "execute_result"
    }
   ],
   "source": [
    "%viz --style=\"PLANTUML\" --view=\"MIXED\" \"DecisionTest\""
   ]
  },
  {
   "cell_type": "code",
   "execution_count": 37,
   "id": "injured-enhancement",
   "metadata": {
    "execution": {
     "iopub.execute_input": "2021-03-26T09:14:06.780615Z",
     "iopub.status.busy": "2021-03-26T09:14:06.780112Z",
     "iopub.status.idle": "2021-03-26T09:14:06.793971Z",
     "shell.execute_reply": "2021-03-26T09:14:06.792942Z"
    }
   },
   "outputs": [
    {
     "data": {
      "image/svg+xml": [
       "<?xml version=\"1.0\" encoding=\"UTF-8\" standalone=\"no\"?><svg xmlns=\"http://www.w3.org/2000/svg\" xmlns:xlink=\"http://www.w3.org/1999/xlink\" contentScriptType=\"application/ecmascript\" contentStyleType=\"text/css\" height=\"271px\" preserveAspectRatio=\"none\" style=\"width:873px;height:271px;background:#000000;\" version=\"1.1\" viewBox=\"0 0 873 271\" width=\"873px\" zoomAndPan=\"magnify\"><defs/><g><rect fill=\"#17110B\" height=\"1\" style=\"stroke: #17110B; stroke-width: 1.0;\" width=\"1\" x=\"0\" y=\"0\"/><rect fill=\"#33FF02\" height=\"21.2969\" style=\"stroke: #33FF02; stroke-width: 1.0;\" width=\"866\" x=\"5\" y=\"5\"/><text fill=\"#000000\" font-family=\"sans-serif\" font-size=\"14\" font-weight=\"bold\" lengthAdjust=\"spacingAndGlyphs\" textLength=\"178\" x=\"6\" y=\"20\">[From string (line 13) ]</text><text fill=\"#33FF02\" font-family=\"sans-serif\" font-size=\"14\" font-weight=\"bold\" lengthAdjust=\"spacingAndGlyphs\" textLength=\"0\" x=\"10\" y=\"40.2969\"/><text fill=\"#33FF02\" font-family=\"sans-serif\" font-size=\"14\" font-weight=\"bold\" lengthAdjust=\"spacingAndGlyphs\" textLength=\"79\" x=\"5\" y=\"56.5938\">@startuml</text><text fill=\"#33FF02\" font-family=\"sans-serif\" font-size=\"14\" font-weight=\"bold\" lengthAdjust=\"spacingAndGlyphs\" textLength=\"228\" x=\"5\" y=\"72.8906\">skinparam monochrome true</text><text fill=\"#33FF02\" font-family=\"sans-serif\" font-size=\"14\" font-weight=\"bold\" lengthAdjust=\"spacingAndGlyphs\" textLength=\"309\" x=\"5\" y=\"89.1875\">skinparam classbackgroundcolor white</text><text fill=\"#33FF02\" font-family=\"sans-serif\" font-size=\"14\" font-weight=\"bold\" lengthAdjust=\"spacingAndGlyphs\" textLength=\"215\" x=\"5\" y=\"105.4844\">skinparam shadowing false</text><text fill=\"#33FF02\" font-family=\"sans-serif\" font-size=\"14\" font-weight=\"bold\" lengthAdjust=\"spacingAndGlyphs\" textLength=\"206\" x=\"5\" y=\"121.7813\">skinparam wrapWidth 300</text><text fill=\"#33FF02\" font-family=\"sans-serif\" font-size=\"14\" font-weight=\"bold\" lengthAdjust=\"spacingAndGlyphs\" textLength=\"82\" x=\"5\" y=\"138.0781\">hide circle</text><text fill=\"#33FF02\" font-family=\"sans-serif\" font-size=\"14\" font-weight=\"bold\" lengthAdjust=\"spacingAndGlyphs\" textLength=\"0\" x=\"10\" y=\"154.375\"/><text fill=\"#33FF02\" font-family=\"sans-serif\" font-size=\"14\" font-weight=\"bold\" lengthAdjust=\"spacingAndGlyphs\" textLength=\"866\" x=\"5\" y=\"170.6719\">rec def \"DecisionTest\" as E1  &lt;&lt;(T,blue)action def&gt;&gt; [[psysml:a611506a-05f4-4898-8d67-b23f8626d6c2 ]] {</text><text fill=\"#33FF02\" font-family=\"sans-serif\" font-size=\"14\" font-weight=\"bold\" lengthAdjust=\"spacingAndGlyphs\" textLength=\"615\" x=\"5\" y=\"186.9688\">portout \"$result\" as E2  [[psysml:825b4193-3fd8-46d1-bb26-d00bcd83fe4c ]]</text><text fill=\"#33FF02\" font-family=\"sans-serif\" font-size=\"14\" font-weight=\"bold\" lengthAdjust=\"spacingAndGlyphs\" textLength=\"855\" x=\"5\" y=\"203.2656\">rec usage \"test x\" as E3  &lt;&lt;(T,blue)decisionNode&gt;&gt; [[psysml:6589aa4e-efab-4688-8327-f7f10099d134 ]] {</text><text fill=\"#33FF02\" font-family=\"sans-serif\" font-size=\"14\" font-weight=\"bold\" lengthAdjust=\"spacingAndGlyphs\" textLength=\"10\" x=\"5\" y=\"219.5625\">}</text><text fill=\"#33FF02\" font-family=\"sans-serif\" font-size=\"14\" font-weight=\"bold\" lengthAdjust=\"spacingAndGlyphs\" textLength=\"0\" x=\"10\" y=\"235.8594\"/><text fill=\"#33FF02\" font-family=\"sans-serif\" font-size=\"14\" font-weight=\"bold\" lengthAdjust=\"spacingAndGlyphs\" textLength=\"10\" x=\"5\" y=\"252.1563\">{</text><text fill=\"#FF0000\" font-family=\"sans-serif\" font-size=\"14\" font-weight=\"bold\" lengthAdjust=\"spacingAndGlyphs\" textLength=\"106\" x=\"10\" y=\"268.4531\">Syntax Error?</text><!--MD5=[0c61189db620a5428654dc3c07dd38a9]\n",
       "@startuml\r\n",
       "skinparam monochrome true\r\n",
       "skinparam classbackgroundcolor white\r\n",
       "skinparam shadowing false\r\n",
       "skinparam wrapWidth 300\r\n",
       "hide circle\r\n",
       "\r\n",
       "rec def \"DecisionTest\" as E1  <<(T,blue)action def>> [[psysml:a611506a-05f4-4898-8d67-b23f8626d6c2 ]] {\r\n",
       "portout \"$result\" as E2  [[psysml:825b4193-3fd8-46d1-bb26-d00bcd83fe4c ]] \r\n",
       "rec usage \"test x\" as E3  <<(T,blue)decisionNode>> [[psysml:6589aa4e-efab-4688-8327-f7f10099d134 ]] {\r\n",
       "}\r\n",
       "\r\n",
       "{\r\n",
       "portout \"$result\" as E4  [[psysml:03222c0c-45fb-446a-ae55-be21a490ff21 ]] \r\n",
       "portin \"$x\" as E5  [[psysml:1f067476-7b6a-4ee1-8091-903eee6b057e ]] \r\n",
       "portin \"$y\" as E6  [[psysml:736be314-0092-4efe-9283-a3128e572984 ]] \r\n",
       "portout \"$result\" as E7  [[psysml:78a09776-ac9f-434e-8d68-d86bf1b46cb7 ]] \r\n",
       "}\r\n",
       "\r\n",
       "{\r\n",
       "portout \"$result\" as E8  [[psysml:1aa891c2-82c1-43c8-8c92-2c9f46284f3f ]] \r\n",
       "portin \"$x\" as E9  [[psysml:41e20081-729f-43ab-b2b2-e475cbaa33cc ]] \r\n",
       "portin \"$y\" as E10  [[psysml:dd685822-7c1a-40d9-ad47-98988f0eab95 ]] \r\n",
       "portout \"$result\" as E11  [[psysml:ff30ef21-37bb-4366-a828-82b307802d91 ]] \r\n",
       "}\r\n",
       "\r\n",
       "{\r\n",
       "}\r\n",
       "\r\n",
       "{\r\n",
       "}\r\n",
       "\r\n",
       "{\r\n",
       "portout \"$result\" as E12  [[psysml:8acd1d71-26f3-4979-a604-5454cd234d07 ]] \r\n",
       "}\r\n",
       "\r\n",
       "{\r\n",
       "portout \"$result\" as E13  [[psysml:63187c6a-fa39-44bf-bd7b-baf836477136 ]] \r\n",
       "}\r\n",
       "\r\n",
       "rec usage \"A1\" as E14  <<(T,blue)action>> [[psysml:edf3151a-ea9a-49ab-905b-cac4748fa5cc ]] {\r\n",
       "}\r\n",
       "\r\n",
       "rec usage \"A2\" as E15  <<(T,blue)action>> [[psysml:3bd22752-b66f-42f0-9d88-956d01e987e1 ]] {\r\n",
       "}\r\n",
       "\r\n",
       "rec usage \"A3\" as E16  <<(T,blue)action>> [[psysml:809db6ec-9b23-4a20-a88e-0d707c026938 ]] {\r\n",
       "}\r\n",
       "\r\n",
       "rec usage \"S\" as E17  <<(T,blue)transition>> [[psysml:a1b52494-6c64-4433-870a-8c0c85f99588 ]] {\r\n",
       "rec usage \"A1\" as E18  <<(T,blue)action>> [[psysml:edf3151a-ea9a-49ab-905b-cac4748fa5cc ]] {\r\n",
       "}\r\n",
       "\r\n",
       "portout \"$result\" as E19  [[psysml:83f97503-27b8-4c10-a73e-d48c1a1b0911 ]] \r\n",
       "portin \"$x\" as E20  [[psysml:e039d1a4-e758-4cd1-b4b1-86e00270305d ]] \r\n",
       "portin \"$y\" as E21  [[psysml:0ebe1437-9ca5-4e09-9c89-2871c656e01e ]] \r\n",
       "portout \"$result\" as E22  [[psysml:95821532-07e2-4186-9bf5-2609b2b64808 ]] \r\n",
       "}\r\n",
       "\r\n",
       "rec usage \"A3\" as E23  <<(T,blue)action>> [[psysml:809db6ec-9b23-4a20-a88e-0d707c026938 ]] {\r\n",
       "}\r\n",
       "\r\n",
       "{\r\n",
       "portout \"$result\" as E24  [[psysml:29148d4a-85a5-459a-9935-db0d3e40f70f ]] \r\n",
       "portin \"$x\" as E25  [[psysml:c7cbf43b-156f-4fe1-932e-97acf8076a48 ]] \r\n",
       "portin \"$y\" as E26  [[psysml:d0e5218c-e833-4bf8-9c85-b0218eb0cb1f ]] \r\n",
       "portout \"$result\" as E27  [[psysml:f639559e-0e7a-4e62-b0cf-c675de4db47c ]] \r\n",
       "}\r\n",
       "\r\n",
       "}\r\n",
       "\r\n",
       "E6 -[thickness=5]- E4 [[psysml:5d6d5b38-9fc5-4e3a-9cb6-5e1ffd055c15 ]] \r\n",
       "E10 -[thickness=5]- E8 [[psysml:187378d7-d664-45d6-a81d-c8b3dbc9d7af ]] \r\n",
       "E21 -[thickness=5]- E19 [[psysml:b7ca4d72-a9f0-45a9-981c-6f89250d77d4 ]] \r\n",
       "E26 -[thickness=5]- E24 [[psysml:73bf4527-0e11-4058-a3d3-ef7c36e23adf ]] \r\n",
       "@enduml\r\n",
       "\n",
       "PlantUML version 1.2020.13(Sat Jun 13 12:26:38 UTC 2020)\n",
       "(EPL source distribution)\n",
       "Java Runtime: OpenJDK Runtime Environment\n",
       "JVM: OpenJDK 64-Bit Server VM\n",
       "Default Encoding: UTF-8\n",
       "Language: en\n",
       "Country: null\n",
       "--></g></svg>"
      ]
     },
     "execution_count": 37,
     "metadata": {},
     "output_type": "execute_result"
    }
   ],
   "source": [
    "%viz --style=\"DEFAULT\" --view=\"Default\" \"DecisionTest\""
   ]
  },
  {
   "cell_type": "code",
   "execution_count": 38,
   "id": "mature-kingston",
   "metadata": {
    "execution": {
     "iopub.execute_input": "2021-03-26T09:14:06.845485Z",
     "iopub.status.busy": "2021-03-26T09:14:06.844647Z",
     "iopub.status.idle": "2021-03-26T09:14:06.911163Z",
     "shell.execute_reply": "2021-03-26T09:14:06.910747Z"
    }
   },
   "outputs": [
    {
     "data": {
      "image/svg+xml": [
       "<?xml version=\"1.0\" encoding=\"UTF-8\" standalone=\"no\"?><svg xmlns=\"http://www.w3.org/2000/svg\" xmlns:xlink=\"http://www.w3.org/1999/xlink\" contentScriptType=\"application/ecmascript\" contentStyleType=\"text/css\" height=\"207px\" preserveAspectRatio=\"none\" style=\"width:109px;height:207px;\" version=\"1.1\" viewBox=\"0 0 109 207\" width=\"109px\" zoomAndPan=\"magnify\"><defs/><g><!--MD5=[43c9051892ef23e1a46a86907403d788]\n",
       "class E1--><a href=\"psysml:a611506a-05f4-4898-8d67-b23f8626d6c2\" target=\"_top\" title=\"psysml:a611506a-05f4-4898-8d67-b23f8626d6c2\" xlink:actuate=\"onRequest\" xlink:href=\"psysml:a611506a-05f4-4898-8d67-b23f8626d6c2\" xlink:show=\"new\" xlink:title=\"psysml:a611506a-05f4-4898-8d67-b23f8626d6c2\" xlink:type=\"simple\"><rect fill=\"#FFFFFF\" height=\"189.9844\" id=\"E1\" style=\"stroke: #383838; stroke-width: 1.5;\" width=\"91\" x=\"7\" y=\"7\"/><text fill=\"#000000\" font-family=\"sans-serif\" font-size=\"12\" font-style=\"italic\" lengthAdjust=\"spacingAndGlyphs\" textLength=\"77\" x=\"14\" y=\"23.1387\">«action def»</text><text fill=\"#000000\" font-family=\"sans-serif\" font-size=\"12\" lengthAdjust=\"spacingAndGlyphs\" textLength=\"80\" x=\"12.5\" y=\"37.1074\">DecisionTest</text><line style=\"stroke: #383838; stroke-width: 1.5;\" x1=\"8\" x2=\"97\" y1=\"44.9375\" y2=\"44.9375\"/><text fill=\"#000000\" font-family=\"sans-serif\" font-size=\"11\" lengthAdjust=\"spacingAndGlyphs\" textLength=\"6\" x=\"13\" y=\"75.9526\">x</text><line style=\"stroke: #383838; stroke-width: 1.0;\" x1=\"8\" x2=\"25\" y1=\"59.3398\" y2=\"59.3398\"/><text fill=\"#000000\" font-family=\"sans-serif\" font-size=\"11\" lengthAdjust=\"spacingAndGlyphs\" textLength=\"55\" x=\"25\" y=\"62.6479\">attributes</text><line style=\"stroke: #383838; stroke-width: 1.0;\" x1=\"80\" x2=\"97\" y1=\"59.3398\" y2=\"59.3398\"/><text fill=\"#000000\" font-family=\"sans-serif\" font-size=\"11\" lengthAdjust=\"spacingAndGlyphs\" textLength=\"14\" x=\"13\" y=\"105.562\">A1</text><text fill=\"#000000\" font-family=\"sans-serif\" font-size=\"11\" lengthAdjust=\"spacingAndGlyphs\" textLength=\"14\" x=\"13\" y=\"118.3667\">A2</text><text fill=\"#000000\" font-family=\"sans-serif\" font-size=\"11\" lengthAdjust=\"spacingAndGlyphs\" textLength=\"14\" x=\"13\" y=\"131.1714\">A3</text><line style=\"stroke: #383838; stroke-width: 1.0;\" x1=\"8\" x2=\"32\" y1=\"88.9492\" y2=\"88.9492\"/><text fill=\"#000000\" font-family=\"sans-serif\" font-size=\"11\" lengthAdjust=\"spacingAndGlyphs\" textLength=\"41\" x=\"32\" y=\"92.2573\">actions</text><line style=\"stroke: #383838; stroke-width: 1.0;\" x1=\"73\" x2=\"97\" y1=\"88.9492\" y2=\"88.9492\"/><text fill=\"#000000\" font-family=\"sans-serif\" font-size=\"11\" lengthAdjust=\"spacingAndGlyphs\" textLength=\"32\" x=\"13\" y=\"160.7808\">test x</text><line style=\"stroke: #383838; stroke-width: 1.0;\" x1=\"8\" x2=\"11\" y1=\"144.168\" y2=\"144.168\"/><text fill=\"#000000\" font-family=\"sans-serif\" font-size=\"11\" lengthAdjust=\"spacingAndGlyphs\" textLength=\"83\" x=\"11\" y=\"147.4761\">decisionNodes</text><line style=\"stroke: #383838; stroke-width: 1.0;\" x1=\"94\" x2=\"97\" y1=\"144.168\" y2=\"144.168\"/><text fill=\"#000000\" font-family=\"sans-serif\" font-size=\"11\" lengthAdjust=\"spacingAndGlyphs\" textLength=\"8\" x=\"13\" y=\"190.3901\">S</text><line style=\"stroke: #383838; stroke-width: 1.0;\" x1=\"8\" x2=\"22\" y1=\"173.7773\" y2=\"173.7773\"/><text fill=\"#000000\" font-family=\"sans-serif\" font-size=\"11\" lengthAdjust=\"spacingAndGlyphs\" textLength=\"61\" x=\"22\" y=\"177.0854\">transitions</text><line style=\"stroke: #383838; stroke-width: 1.0;\" x1=\"83\" x2=\"97\" y1=\"173.7773\" y2=\"173.7773\"/></a><!--MD5=[ed1ffc927c91ad7bc50b368616950221]\n",
       "@startuml\r\n",
       "skinparam monochrome true\r\n",
       "skinparam classbackgroundcolor white\r\n",
       "skinparam shadowing false\r\n",
       "skinparam wrapWidth 300\r\n",
       "hide circle\r\n",
       "\r\n",
       "comp def \"DecisionTest\" as E1  <<(T,blue)action def>> [[psysml:a611506a-05f4-4898-8d67-b23f8626d6c2 ]] {\r\n",
       "- - attributes - -\r\n",
       "x\r\n",
       "- - actions - -\r\n",
       "A1\r\n",
       "A2\r\n",
       "A3\r\n",
       "- - decisionNodes - -\r\n",
       "test x\r\n",
       "- - transitions - -\r\n",
       "S\r\n",
       "}\r\n",
       "@enduml\r\n",
       "\n",
       "PlantUML version 1.2020.13(Sat Jun 13 12:26:38 UTC 2020)\n",
       "(EPL source distribution)\n",
       "Java Runtime: OpenJDK Runtime Environment\n",
       "JVM: OpenJDK 64-Bit Server VM\n",
       "Default Encoding: UTF-8\n",
       "Language: en\n",
       "Country: null\n",
       "--></g></svg>"
      ]
     },
     "execution_count": 38,
     "metadata": {},
     "output_type": "execute_result"
    }
   ],
   "source": [
    "%viz --style=\"DEFAULT\" --view=\"Tree\" \"DecisionTest\""
   ]
  },
  {
   "cell_type": "code",
   "execution_count": 39,
   "id": "miniature-appointment",
   "metadata": {
    "execution": {
     "iopub.execute_input": "2021-03-26T09:14:06.961453Z",
     "iopub.status.busy": "2021-03-26T09:14:06.960878Z",
     "iopub.status.idle": "2021-03-26T09:14:06.967420Z",
     "shell.execute_reply": "2021-03-26T09:14:06.967122Z"
    }
   },
   "outputs": [
    {
     "data": {
      "image/svg+xml": [
       "<?xml version=\"1.0\" encoding=\"UTF-8\" standalone=\"no\"?><svg xmlns=\"http://www.w3.org/2000/svg\" xmlns:xlink=\"http://www.w3.org/1999/xlink\" contentScriptType=\"application/ecmascript\" contentStyleType=\"text/css\" height=\"12px\" preserveAspectRatio=\"none\" style=\"width:12px;height:12px;\" version=\"1.1\" viewBox=\"0 0 12 12\" width=\"12px\" zoomAndPan=\"magnify\"><defs/><g><!--MD5=[c5f280e076d0d61ccf4b0f27871bda1d]\n",
       "@startuml\r\n",
       "skinparam monochrome true\r\n",
       "skinparam classbackgroundcolor white\r\n",
       "skinparam shadowing false\r\n",
       "skinparam wrapWidth 300\r\n",
       "hide circle\r\n",
       "\r\n",
       "@enduml\r\n",
       "\n",
       "PlantUML version 1.2020.13(Sat Jun 13 12:26:38 UTC 2020)\n",
       "(EPL source distribution)\n",
       "Java Runtime: OpenJDK Runtime Environment\n",
       "JVM: OpenJDK 64-Bit Server VM\n",
       "Default Encoding: UTF-8\n",
       "Language: en\n",
       "Country: null\n",
       "--></g></svg>"
      ]
     },
     "execution_count": 39,
     "metadata": {},
     "output_type": "execute_result"
    }
   ],
   "source": [
    "%viz --style=\"DEFAULT\" --view=\"State\" \"DecisionTest\""
   ]
  },
  {
   "cell_type": "code",
   "execution_count": 40,
   "id": "martial-community",
   "metadata": {
    "execution": {
     "iopub.execute_input": "2021-03-26T09:14:07.020861Z",
     "iopub.status.busy": "2021-03-26T09:14:07.019785Z",
     "iopub.status.idle": "2021-03-26T09:14:07.029673Z",
     "shell.execute_reply": "2021-03-26T09:14:07.029327Z"
    }
   },
   "outputs": [
    {
     "data": {
      "image/svg+xml": [
       "<?xml version=\"1.0\" encoding=\"UTF-8\" standalone=\"no\"?><svg xmlns=\"http://www.w3.org/2000/svg\" xmlns:xlink=\"http://www.w3.org/1999/xlink\" contentScriptType=\"application/ecmascript\" contentStyleType=\"text/css\" height=\"71px\" preserveAspectRatio=\"none\" style=\"width:145px;height:71px;\" version=\"1.1\" viewBox=\"0 0 145 71\" width=\"145px\" zoomAndPan=\"magnify\"><defs/><g><!--MD5=[43c9051892ef23e1a46a86907403d788]\n",
       "class E1--><a href=\"psysml:a611506a-05f4-4898-8d67-b23f8626d6c2\" target=\"_top\" title=\"psysml:a611506a-05f4-4898-8d67-b23f8626d6c2\" xlink:actuate=\"onRequest\" xlink:href=\"psysml:a611506a-05f4-4898-8d67-b23f8626d6c2\" xlink:show=\"new\" xlink:title=\"psysml:a611506a-05f4-4898-8d67-b23f8626d6c2\" xlink:type=\"simple\"><rect fill=\"#FFFFFF\" height=\"53.9375\" id=\"E1\" style=\"stroke: #383838; stroke-width: 1.5;\" width=\"127\" x=\"7\" y=\"7\"/><text fill=\"#000000\" font-family=\"sans-serif\" font-size=\"12\" font-style=\"italic\" lengthAdjust=\"spacingAndGlyphs\" textLength=\"125\" x=\"8\" y=\"23.1387\">«(T,blue)action def»</text><text fill=\"#000000\" font-family=\"sans-serif\" font-size=\"12\" lengthAdjust=\"spacingAndGlyphs\" textLength=\"80\" x=\"30.5\" y=\"37.1074\">DecisionTest</text><line style=\"stroke: #383838; stroke-width: 1.5;\" x1=\"8\" x2=\"133\" y1=\"44.9375\" y2=\"44.9375\"/><line style=\"stroke: #383838; stroke-width: 1.5;\" x1=\"8\" x2=\"133\" y1=\"52.9375\" y2=\"52.9375\"/></a><!--MD5=[f17f7d99ad3a1614fa07c0b44f6a36ad]\n",
       "@startuml\r\n",
       "skinparam ranksep 8\r\n",
       "skinparam rectangle {\r\n",
       " backgroundColor<<block>> LightGreen\r\n",
       "}\r\n",
       "skinparam monochrome true\r\n",
       "skinparam classbackgroundcolor white\r\n",
       "skinparam shadowing false\r\n",
       "skinparam wrapWidth 300\r\n",
       "hide circle\r\n",
       "\r\n",
       "def \"DecisionTest\" as E1  <<(T,blue)action def>> [[psysml:a611506a-05f4-4898-8d67-b23f8626d6c2 ]] \r\n",
       "@enduml\r\n",
       "\n",
       "PlantUML version 1.2020.13(Sat Jun 13 12:26:38 UTC 2020)\n",
       "(EPL source distribution)\n",
       "Java Runtime: OpenJDK Runtime Environment\n",
       "JVM: OpenJDK 64-Bit Server VM\n",
       "Default Encoding: UTF-8\n",
       "Language: en\n",
       "Country: null\n",
       "--></g></svg>"
      ]
     },
     "execution_count": 40,
     "metadata": {},
     "output_type": "execute_result"
    }
   ],
   "source": [
    "%viz --style=\"DEFAULT\" --view=\"Interconnection\" \"DecisionTest\""
   ]
  },
  {
   "cell_type": "code",
   "execution_count": 41,
   "id": "rubber-photographer",
   "metadata": {
    "execution": {
     "iopub.execute_input": "2021-03-26T09:14:07.082468Z",
     "iopub.status.busy": "2021-03-26T09:14:07.081998Z",
     "iopub.status.idle": "2021-03-26T09:14:07.095252Z",
     "shell.execute_reply": "2021-03-26T09:14:07.094169Z"
    }
   },
   "outputs": [
    {
     "data": {
      "image/svg+xml": [
       "<?xml version=\"1.0\" encoding=\"UTF-8\" standalone=\"no\"?><svg xmlns=\"http://www.w3.org/2000/svg\" xmlns:xlink=\"http://www.w3.org/1999/xlink\" contentScriptType=\"application/ecmascript\" contentStyleType=\"text/css\" height=\"288px\" preserveAspectRatio=\"none\" style=\"width:873px;height:288px;background:#000000;\" version=\"1.1\" viewBox=\"0 0 873 288\" width=\"873px\" zoomAndPan=\"magnify\"><defs/><g><rect fill=\"#051D0E\" height=\"1\" style=\"stroke: #051D0E; stroke-width: 1.0;\" width=\"1\" x=\"0\" y=\"0\"/><rect fill=\"#33FF02\" height=\"21.2969\" style=\"stroke: #33FF02; stroke-width: 1.0;\" width=\"866\" x=\"5\" y=\"5\"/><text fill=\"#000000\" font-family=\"sans-serif\" font-size=\"14\" font-weight=\"bold\" lengthAdjust=\"spacingAndGlyphs\" textLength=\"178\" x=\"6\" y=\"20\">[From string (line 14) ]</text><text fill=\"#33FF02\" font-family=\"sans-serif\" font-size=\"14\" font-weight=\"bold\" lengthAdjust=\"spacingAndGlyphs\" textLength=\"0\" x=\"10\" y=\"40.2969\"/><text fill=\"#33FF02\" font-family=\"sans-serif\" font-size=\"14\" font-weight=\"bold\" lengthAdjust=\"spacingAndGlyphs\" textLength=\"79\" x=\"5\" y=\"56.5938\">@startuml</text><text fill=\"#33FF02\" font-family=\"sans-serif\" font-size=\"14\" font-weight=\"bold\" lengthAdjust=\"spacingAndGlyphs\" textLength=\"165\" x=\"5\" y=\"72.8906\">skinparam ranksep 8</text><text fill=\"#33FF02\" font-family=\"sans-serif\" font-size=\"14\" font-weight=\"bold\" lengthAdjust=\"spacingAndGlyphs\" textLength=\"228\" x=\"5\" y=\"89.1875\">skinparam monochrome true</text><text fill=\"#33FF02\" font-family=\"sans-serif\" font-size=\"14\" font-weight=\"bold\" lengthAdjust=\"spacingAndGlyphs\" textLength=\"309\" x=\"5\" y=\"105.4844\">skinparam classbackgroundcolor white</text><text fill=\"#33FF02\" font-family=\"sans-serif\" font-size=\"14\" font-weight=\"bold\" lengthAdjust=\"spacingAndGlyphs\" textLength=\"215\" x=\"5\" y=\"121.7813\">skinparam shadowing false</text><text fill=\"#33FF02\" font-family=\"sans-serif\" font-size=\"14\" font-weight=\"bold\" lengthAdjust=\"spacingAndGlyphs\" textLength=\"206\" x=\"5\" y=\"138.0781\">skinparam wrapWidth 300</text><text fill=\"#33FF02\" font-family=\"sans-serif\" font-size=\"14\" font-weight=\"bold\" lengthAdjust=\"spacingAndGlyphs\" textLength=\"82\" x=\"5\" y=\"154.375\">hide circle</text><text fill=\"#33FF02\" font-family=\"sans-serif\" font-size=\"14\" font-weight=\"bold\" lengthAdjust=\"spacingAndGlyphs\" textLength=\"0\" x=\"10\" y=\"170.6719\"/><text fill=\"#33FF02\" font-family=\"sans-serif\" font-size=\"14\" font-weight=\"bold\" lengthAdjust=\"spacingAndGlyphs\" textLength=\"866\" x=\"5\" y=\"186.9688\">rec def \"DecisionTest\" as E1  &lt;&lt;(T,blue)action def&gt;&gt; [[psysml:a611506a-05f4-4898-8d67-b23f8626d6c2 ]] {</text><text fill=\"#33FF02\" font-family=\"sans-serif\" font-size=\"14\" font-weight=\"bold\" lengthAdjust=\"spacingAndGlyphs\" textLength=\"615\" x=\"5\" y=\"203.2656\">portout \"$result\" as E2  [[psysml:825b4193-3fd8-46d1-bb26-d00bcd83fe4c ]]</text><text fill=\"#33FF02\" font-family=\"sans-serif\" font-size=\"14\" font-weight=\"bold\" lengthAdjust=\"spacingAndGlyphs\" textLength=\"855\" x=\"5\" y=\"219.5625\">rec usage \"test x\" as E3  &lt;&lt;(T,blue)decisionNode&gt;&gt; [[psysml:6589aa4e-efab-4688-8327-f7f10099d134 ]] {</text><text fill=\"#33FF02\" font-family=\"sans-serif\" font-size=\"14\" font-weight=\"bold\" lengthAdjust=\"spacingAndGlyphs\" textLength=\"10\" x=\"5\" y=\"235.8594\">}</text><text fill=\"#33FF02\" font-family=\"sans-serif\" font-size=\"14\" font-weight=\"bold\" lengthAdjust=\"spacingAndGlyphs\" textLength=\"0\" x=\"10\" y=\"252.1563\"/><text fill=\"#33FF02\" font-family=\"sans-serif\" font-size=\"14\" font-weight=\"bold\" lengthAdjust=\"spacingAndGlyphs\" textLength=\"10\" x=\"5\" y=\"268.4531\">{</text><text fill=\"#FF0000\" font-family=\"sans-serif\" font-size=\"14\" font-weight=\"bold\" lengthAdjust=\"spacingAndGlyphs\" textLength=\"106\" x=\"10\" y=\"284.75\">Syntax Error?</text><!--MD5=[f25f0b8651fc91bba7b731f6b0437979]\n",
       "@startuml\r\n",
       "skinparam ranksep 8\r\n",
       "skinparam monochrome true\r\n",
       "skinparam classbackgroundcolor white\r\n",
       "skinparam shadowing false\r\n",
       "skinparam wrapWidth 300\r\n",
       "hide circle\r\n",
       "\r\n",
       "rec def \"DecisionTest\" as E1  <<(T,blue)action def>> [[psysml:a611506a-05f4-4898-8d67-b23f8626d6c2 ]] {\r\n",
       "portout \"$result\" as E2  [[psysml:825b4193-3fd8-46d1-bb26-d00bcd83fe4c ]] \r\n",
       "rec usage \"test x\" as E3  <<(T,blue)decisionNode>> [[psysml:6589aa4e-efab-4688-8327-f7f10099d134 ]] {\r\n",
       "}\r\n",
       "\r\n",
       "{\r\n",
       "portout \"$result\" as E4  [[psysml:03222c0c-45fb-446a-ae55-be21a490ff21 ]] \r\n",
       "portin \"$x\" as E5  [[psysml:1f067476-7b6a-4ee1-8091-903eee6b057e ]] \r\n",
       "portin \"$y\" as E6  [[psysml:736be314-0092-4efe-9283-a3128e572984 ]] \r\n",
       "portout \"$result\" as E7  [[psysml:78a09776-ac9f-434e-8d68-d86bf1b46cb7 ]] \r\n",
       "}\r\n",
       "\r\n",
       "{\r\n",
       "portout \"$result\" as E8  [[psysml:1aa891c2-82c1-43c8-8c92-2c9f46284f3f ]] \r\n",
       "portin \"$x\" as E9  [[psysml:41e20081-729f-43ab-b2b2-e475cbaa33cc ]] \r\n",
       "portin \"$y\" as E10  [[psysml:dd685822-7c1a-40d9-ad47-98988f0eab95 ]] \r\n",
       "portout \"$result\" as E11  [[psysml:ff30ef21-37bb-4366-a828-82b307802d91 ]] \r\n",
       "}\r\n",
       "\r\n",
       "{\r\n",
       "}\r\n",
       "\r\n",
       "{\r\n",
       "}\r\n",
       "\r\n",
       "{\r\n",
       "portout \"$result\" as E12  [[psysml:8acd1d71-26f3-4979-a604-5454cd234d07 ]] \r\n",
       "}\r\n",
       "\r\n",
       "{\r\n",
       "portout \"$result\" as E13  [[psysml:63187c6a-fa39-44bf-bd7b-baf836477136 ]] \r\n",
       "}\r\n",
       "\r\n",
       "rec usage \"A1\" as E14  <<(T,blue)action>> [[psysml:edf3151a-ea9a-49ab-905b-cac4748fa5cc ]] {\r\n",
       "}\r\n",
       "\r\n",
       "rec usage \"A2\" as E15  <<(T,blue)action>> [[psysml:3bd22752-b66f-42f0-9d88-956d01e987e1 ]] {\r\n",
       "}\r\n",
       "\r\n",
       "rec usage \"A3\" as E16  <<(T,blue)action>> [[psysml:809db6ec-9b23-4a20-a88e-0d707c026938 ]] {\r\n",
       "}\r\n",
       "\r\n",
       "rec usage \"S\" as E17  <<(T,blue)transition>> [[psysml:a1b52494-6c64-4433-870a-8c0c85f99588 ]] {\r\n",
       "rec usage \"A1\" as E18  <<(T,blue)action>> [[psysml:edf3151a-ea9a-49ab-905b-cac4748fa5cc ]] {\r\n",
       "}\r\n",
       "\r\n",
       "portout \"$result\" as E19  [[psysml:83f97503-27b8-4c10-a73e-d48c1a1b0911 ]] \r\n",
       "portin \"$x\" as E20  [[psysml:e039d1a4-e758-4cd1-b4b1-86e00270305d ]] \r\n",
       "portin \"$y\" as E21  [[psysml:0ebe1437-9ca5-4e09-9c89-2871c656e01e ]] \r\n",
       "portout \"$result\" as E22  [[psysml:95821532-07e2-4186-9bf5-2609b2b64808 ]] \r\n",
       "}\r\n",
       "\r\n",
       "rec usage \"A3\" as E23  <<(T,blue)action>> [[psysml:809db6ec-9b23-4a20-a88e-0d707c026938 ]] {\r\n",
       "}\r\n",
       "\r\n",
       "{\r\n",
       "portout \"$result\" as E24  [[psysml:29148d4a-85a5-459a-9935-db0d3e40f70f ]] \r\n",
       "portin \"$x\" as E25  [[psysml:c7cbf43b-156f-4fe1-932e-97acf8076a48 ]] \r\n",
       "portin \"$y\" as E26  [[psysml:d0e5218c-e833-4bf8-9c85-b0218eb0cb1f ]] \r\n",
       "portout \"$result\" as E27  [[psysml:f639559e-0e7a-4e62-b0cf-c675de4db47c ]] \r\n",
       "}\r\n",
       "\r\n",
       "}\r\n",
       "\r\n",
       "E6 -[thickness=5]- E4 [[psysml:5d6d5b38-9fc5-4e3a-9cb6-5e1ffd055c15 ]] \r\n",
       "E10 -[thickness=5]- E8 [[psysml:187378d7-d664-45d6-a81d-c8b3dbc9d7af ]] \r\n",
       "E21 -[thickness=5]- E19 [[psysml:b7ca4d72-a9f0-45a9-981c-6f89250d77d4 ]] \r\n",
       "E26 -[thickness=5]- E24 [[psysml:73bf4527-0e11-4058-a3d3-ef7c36e23adf ]] \r\n",
       "@enduml\r\n",
       "\n",
       "PlantUML version 1.2020.13(Sat Jun 13 12:26:38 UTC 2020)\n",
       "(EPL source distribution)\n",
       "Java Runtime: OpenJDK Runtime Environment\n",
       "JVM: OpenJDK 64-Bit Server VM\n",
       "Default Encoding: UTF-8\n",
       "Language: en\n",
       "Country: null\n",
       "--></g></svg>"
      ]
     },
     "execution_count": 41,
     "metadata": {},
     "output_type": "execute_result"
    }
   ],
   "source": [
    "%viz --style=\"DEFAULT\" --view=\"Action\" \"DecisionTest\""
   ]
  },
  {
   "cell_type": "code",
   "execution_count": 42,
   "id": "intended-spoke",
   "metadata": {
    "execution": {
     "iopub.execute_input": "2021-03-26T09:14:07.147517Z",
     "iopub.status.busy": "2021-03-26T09:14:07.146951Z",
     "iopub.status.idle": "2021-03-26T09:14:07.212526Z",
     "shell.execute_reply": "2021-03-26T09:14:07.212235Z"
    }
   },
   "outputs": [
    {
     "data": {
      "image/svg+xml": [
       "<?xml version=\"1.0\" encoding=\"UTF-8\" standalone=\"no\"?><svg xmlns=\"http://www.w3.org/2000/svg\" xmlns:xlink=\"http://www.w3.org/1999/xlink\" contentScriptType=\"application/ecmascript\" contentStyleType=\"text/css\" height=\"207px\" preserveAspectRatio=\"none\" style=\"width:109px;height:207px;\" version=\"1.1\" viewBox=\"0 0 109 207\" width=\"109px\" zoomAndPan=\"magnify\"><defs/><g><!--MD5=[43c9051892ef23e1a46a86907403d788]\n",
       "class E1--><a href=\"psysml:a611506a-05f4-4898-8d67-b23f8626d6c2\" target=\"_top\" title=\"psysml:a611506a-05f4-4898-8d67-b23f8626d6c2\" xlink:actuate=\"onRequest\" xlink:href=\"psysml:a611506a-05f4-4898-8d67-b23f8626d6c2\" xlink:show=\"new\" xlink:title=\"psysml:a611506a-05f4-4898-8d67-b23f8626d6c2\" xlink:type=\"simple\"><rect fill=\"#FFFFFF\" height=\"189.9844\" id=\"E1\" style=\"stroke: #383838; stroke-width: 1.5;\" width=\"91\" x=\"7\" y=\"7\"/><text fill=\"#000000\" font-family=\"sans-serif\" font-size=\"12\" font-style=\"italic\" lengthAdjust=\"spacingAndGlyphs\" textLength=\"77\" x=\"14\" y=\"23.1387\">«action def»</text><text fill=\"#000000\" font-family=\"sans-serif\" font-size=\"12\" lengthAdjust=\"spacingAndGlyphs\" textLength=\"80\" x=\"12.5\" y=\"37.1074\">DecisionTest</text><line style=\"stroke: #383838; stroke-width: 1.5;\" x1=\"8\" x2=\"97\" y1=\"44.9375\" y2=\"44.9375\"/><text fill=\"#000000\" font-family=\"sans-serif\" font-size=\"11\" lengthAdjust=\"spacingAndGlyphs\" textLength=\"6\" x=\"13\" y=\"75.9526\">x</text><line style=\"stroke: #383838; stroke-width: 1.0;\" x1=\"8\" x2=\"25\" y1=\"59.3398\" y2=\"59.3398\"/><text fill=\"#000000\" font-family=\"sans-serif\" font-size=\"11\" lengthAdjust=\"spacingAndGlyphs\" textLength=\"55\" x=\"25\" y=\"62.6479\">attributes</text><line style=\"stroke: #383838; stroke-width: 1.0;\" x1=\"80\" x2=\"97\" y1=\"59.3398\" y2=\"59.3398\"/><text fill=\"#000000\" font-family=\"sans-serif\" font-size=\"11\" lengthAdjust=\"spacingAndGlyphs\" textLength=\"14\" x=\"13\" y=\"105.562\">A1</text><text fill=\"#000000\" font-family=\"sans-serif\" font-size=\"11\" lengthAdjust=\"spacingAndGlyphs\" textLength=\"14\" x=\"13\" y=\"118.3667\">A2</text><text fill=\"#000000\" font-family=\"sans-serif\" font-size=\"11\" lengthAdjust=\"spacingAndGlyphs\" textLength=\"14\" x=\"13\" y=\"131.1714\">A3</text><line style=\"stroke: #383838; stroke-width: 1.0;\" x1=\"8\" x2=\"32\" y1=\"88.9492\" y2=\"88.9492\"/><text fill=\"#000000\" font-family=\"sans-serif\" font-size=\"11\" lengthAdjust=\"spacingAndGlyphs\" textLength=\"41\" x=\"32\" y=\"92.2573\">actions</text><line style=\"stroke: #383838; stroke-width: 1.0;\" x1=\"73\" x2=\"97\" y1=\"88.9492\" y2=\"88.9492\"/><text fill=\"#000000\" font-family=\"sans-serif\" font-size=\"11\" lengthAdjust=\"spacingAndGlyphs\" textLength=\"32\" x=\"13\" y=\"160.7808\">test x</text><line style=\"stroke: #383838; stroke-width: 1.0;\" x1=\"8\" x2=\"11\" y1=\"144.168\" y2=\"144.168\"/><text fill=\"#000000\" font-family=\"sans-serif\" font-size=\"11\" lengthAdjust=\"spacingAndGlyphs\" textLength=\"83\" x=\"11\" y=\"147.4761\">decisionNodes</text><line style=\"stroke: #383838; stroke-width: 1.0;\" x1=\"94\" x2=\"97\" y1=\"144.168\" y2=\"144.168\"/><text fill=\"#000000\" font-family=\"sans-serif\" font-size=\"11\" lengthAdjust=\"spacingAndGlyphs\" textLength=\"8\" x=\"13\" y=\"190.3901\">S</text><line style=\"stroke: #383838; stroke-width: 1.0;\" x1=\"8\" x2=\"22\" y1=\"173.7773\" y2=\"173.7773\"/><text fill=\"#000000\" font-family=\"sans-serif\" font-size=\"11\" lengthAdjust=\"spacingAndGlyphs\" textLength=\"61\" x=\"22\" y=\"177.0854\">transitions</text><line style=\"stroke: #383838; stroke-width: 1.0;\" x1=\"83\" x2=\"97\" y1=\"173.7773\" y2=\"173.7773\"/></a><!--MD5=[ed1ffc927c91ad7bc50b368616950221]\n",
       "@startuml\r\n",
       "skinparam monochrome true\r\n",
       "skinparam classbackgroundcolor white\r\n",
       "skinparam shadowing false\r\n",
       "skinparam wrapWidth 300\r\n",
       "hide circle\r\n",
       "\r\n",
       "comp def \"DecisionTest\" as E1  <<(T,blue)action def>> [[psysml:a611506a-05f4-4898-8d67-b23f8626d6c2 ]] {\r\n",
       "- - attributes - -\r\n",
       "x\r\n",
       "- - actions - -\r\n",
       "A1\r\n",
       "A2\r\n",
       "A3\r\n",
       "- - decisionNodes - -\r\n",
       "test x\r\n",
       "- - transitions - -\r\n",
       "S\r\n",
       "}\r\n",
       "@enduml\r\n",
       "\n",
       "PlantUML version 1.2020.13(Sat Jun 13 12:26:38 UTC 2020)\n",
       "(EPL source distribution)\n",
       "Java Runtime: OpenJDK Runtime Environment\n",
       "JVM: OpenJDK 64-Bit Server VM\n",
       "Default Encoding: UTF-8\n",
       "Language: en\n",
       "Country: null\n",
       "--></g></svg>"
      ]
     },
     "execution_count": 42,
     "metadata": {},
     "output_type": "execute_result"
    }
   ],
   "source": [
    "%viz --style=\"DEFAULT\" --view=\"Sequence\" \"DecisionTest\""
   ]
  },
  {
   "cell_type": "code",
   "execution_count": 43,
   "id": "worse-synthetic",
   "metadata": {
    "execution": {
     "iopub.execute_input": "2021-03-26T09:14:07.262405Z",
     "iopub.status.busy": "2021-03-26T09:14:07.261681Z",
     "iopub.status.idle": "2021-03-26T09:14:07.275459Z",
     "shell.execute_reply": "2021-03-26T09:14:07.274144Z"
    }
   },
   "outputs": [
    {
     "data": {
      "image/svg+xml": [
       "<?xml version=\"1.0\" encoding=\"UTF-8\" standalone=\"no\"?><svg xmlns=\"http://www.w3.org/2000/svg\" xmlns:xlink=\"http://www.w3.org/1999/xlink\" contentScriptType=\"application/ecmascript\" contentStyleType=\"text/css\" height=\"271px\" preserveAspectRatio=\"none\" style=\"width:873px;height:271px;background:#000000;\" version=\"1.1\" viewBox=\"0 0 873 271\" width=\"873px\" zoomAndPan=\"magnify\"><defs/><g><rect fill=\"#1A0304\" height=\"1\" style=\"stroke: #1A0304; stroke-width: 1.0;\" width=\"1\" x=\"0\" y=\"0\"/><rect fill=\"#33FF02\" height=\"21.2969\" style=\"stroke: #33FF02; stroke-width: 1.0;\" width=\"866\" x=\"5\" y=\"5\"/><text fill=\"#000000\" font-family=\"sans-serif\" font-size=\"14\" font-weight=\"bold\" lengthAdjust=\"spacingAndGlyphs\" textLength=\"178\" x=\"6\" y=\"20\">[From string (line 13) ]</text><text fill=\"#33FF02\" font-family=\"sans-serif\" font-size=\"14\" font-weight=\"bold\" lengthAdjust=\"spacingAndGlyphs\" textLength=\"0\" x=\"10\" y=\"40.2969\"/><text fill=\"#33FF02\" font-family=\"sans-serif\" font-size=\"14\" font-weight=\"bold\" lengthAdjust=\"spacingAndGlyphs\" textLength=\"79\" x=\"5\" y=\"56.5938\">@startuml</text><text fill=\"#33FF02\" font-family=\"sans-serif\" font-size=\"14\" font-weight=\"bold\" lengthAdjust=\"spacingAndGlyphs\" textLength=\"228\" x=\"5\" y=\"72.8906\">skinparam monochrome true</text><text fill=\"#33FF02\" font-family=\"sans-serif\" font-size=\"14\" font-weight=\"bold\" lengthAdjust=\"spacingAndGlyphs\" textLength=\"309\" x=\"5\" y=\"89.1875\">skinparam classbackgroundcolor white</text><text fill=\"#33FF02\" font-family=\"sans-serif\" font-size=\"14\" font-weight=\"bold\" lengthAdjust=\"spacingAndGlyphs\" textLength=\"215\" x=\"5\" y=\"105.4844\">skinparam shadowing false</text><text fill=\"#33FF02\" font-family=\"sans-serif\" font-size=\"14\" font-weight=\"bold\" lengthAdjust=\"spacingAndGlyphs\" textLength=\"206\" x=\"5\" y=\"121.7813\">skinparam wrapWidth 300</text><text fill=\"#33FF02\" font-family=\"sans-serif\" font-size=\"14\" font-weight=\"bold\" lengthAdjust=\"spacingAndGlyphs\" textLength=\"82\" x=\"5\" y=\"138.0781\">hide circle</text><text fill=\"#33FF02\" font-family=\"sans-serif\" font-size=\"14\" font-weight=\"bold\" lengthAdjust=\"spacingAndGlyphs\" textLength=\"0\" x=\"10\" y=\"154.375\"/><text fill=\"#33FF02\" font-family=\"sans-serif\" font-size=\"14\" font-weight=\"bold\" lengthAdjust=\"spacingAndGlyphs\" textLength=\"866\" x=\"5\" y=\"170.6719\">rec def \"DecisionTest\" as E1  &lt;&lt;(T,blue)action def&gt;&gt; [[psysml:a611506a-05f4-4898-8d67-b23f8626d6c2 ]] {</text><text fill=\"#33FF02\" font-family=\"sans-serif\" font-size=\"14\" font-weight=\"bold\" lengthAdjust=\"spacingAndGlyphs\" textLength=\"615\" x=\"5\" y=\"186.9688\">portout \"$result\" as E2  [[psysml:825b4193-3fd8-46d1-bb26-d00bcd83fe4c ]]</text><text fill=\"#33FF02\" font-family=\"sans-serif\" font-size=\"14\" font-weight=\"bold\" lengthAdjust=\"spacingAndGlyphs\" textLength=\"855\" x=\"5\" y=\"203.2656\">rec usage \"test x\" as E3  &lt;&lt;(T,blue)decisionNode&gt;&gt; [[psysml:6589aa4e-efab-4688-8327-f7f10099d134 ]] {</text><text fill=\"#33FF02\" font-family=\"sans-serif\" font-size=\"14\" font-weight=\"bold\" lengthAdjust=\"spacingAndGlyphs\" textLength=\"10\" x=\"5\" y=\"219.5625\">}</text><text fill=\"#33FF02\" font-family=\"sans-serif\" font-size=\"14\" font-weight=\"bold\" lengthAdjust=\"spacingAndGlyphs\" textLength=\"0\" x=\"10\" y=\"235.8594\"/><text fill=\"#33FF02\" font-family=\"sans-serif\" font-size=\"14\" font-weight=\"bold\" lengthAdjust=\"spacingAndGlyphs\" textLength=\"10\" x=\"5\" y=\"252.1563\">{</text><text fill=\"#FF0000\" font-family=\"sans-serif\" font-size=\"14\" font-weight=\"bold\" lengthAdjust=\"spacingAndGlyphs\" textLength=\"106\" x=\"10\" y=\"268.4531\">Syntax Error?</text><!--MD5=[0c61189db620a5428654dc3c07dd38a9]\n",
       "@startuml\r\n",
       "skinparam monochrome true\r\n",
       "skinparam classbackgroundcolor white\r\n",
       "skinparam shadowing false\r\n",
       "skinparam wrapWidth 300\r\n",
       "hide circle\r\n",
       "\r\n",
       "rec def \"DecisionTest\" as E1  <<(T,blue)action def>> [[psysml:a611506a-05f4-4898-8d67-b23f8626d6c2 ]] {\r\n",
       "portout \"$result\" as E2  [[psysml:825b4193-3fd8-46d1-bb26-d00bcd83fe4c ]] \r\n",
       "rec usage \"test x\" as E3  <<(T,blue)decisionNode>> [[psysml:6589aa4e-efab-4688-8327-f7f10099d134 ]] {\r\n",
       "}\r\n",
       "\r\n",
       "{\r\n",
       "portout \"$result\" as E4  [[psysml:03222c0c-45fb-446a-ae55-be21a490ff21 ]] \r\n",
       "portin \"$x\" as E5  [[psysml:1f067476-7b6a-4ee1-8091-903eee6b057e ]] \r\n",
       "portin \"$y\" as E6  [[psysml:736be314-0092-4efe-9283-a3128e572984 ]] \r\n",
       "portout \"$result\" as E7  [[psysml:78a09776-ac9f-434e-8d68-d86bf1b46cb7 ]] \r\n",
       "}\r\n",
       "\r\n",
       "{\r\n",
       "portout \"$result\" as E8  [[psysml:1aa891c2-82c1-43c8-8c92-2c9f46284f3f ]] \r\n",
       "portin \"$x\" as E9  [[psysml:41e20081-729f-43ab-b2b2-e475cbaa33cc ]] \r\n",
       "portin \"$y\" as E10  [[psysml:dd685822-7c1a-40d9-ad47-98988f0eab95 ]] \r\n",
       "portout \"$result\" as E11  [[psysml:ff30ef21-37bb-4366-a828-82b307802d91 ]] \r\n",
       "}\r\n",
       "\r\n",
       "{\r\n",
       "}\r\n",
       "\r\n",
       "{\r\n",
       "}\r\n",
       "\r\n",
       "{\r\n",
       "portout \"$result\" as E12  [[psysml:8acd1d71-26f3-4979-a604-5454cd234d07 ]] \r\n",
       "}\r\n",
       "\r\n",
       "{\r\n",
       "portout \"$result\" as E13  [[psysml:63187c6a-fa39-44bf-bd7b-baf836477136 ]] \r\n",
       "}\r\n",
       "\r\n",
       "rec usage \"A1\" as E14  <<(T,blue)action>> [[psysml:edf3151a-ea9a-49ab-905b-cac4748fa5cc ]] {\r\n",
       "}\r\n",
       "\r\n",
       "rec usage \"A2\" as E15  <<(T,blue)action>> [[psysml:3bd22752-b66f-42f0-9d88-956d01e987e1 ]] {\r\n",
       "}\r\n",
       "\r\n",
       "rec usage \"A3\" as E16  <<(T,blue)action>> [[psysml:809db6ec-9b23-4a20-a88e-0d707c026938 ]] {\r\n",
       "}\r\n",
       "\r\n",
       "rec usage \"S\" as E17  <<(T,blue)transition>> [[psysml:a1b52494-6c64-4433-870a-8c0c85f99588 ]] {\r\n",
       "rec usage \"A1\" as E18  <<(T,blue)action>> [[psysml:edf3151a-ea9a-49ab-905b-cac4748fa5cc ]] {\r\n",
       "}\r\n",
       "\r\n",
       "portout \"$result\" as E19  [[psysml:83f97503-27b8-4c10-a73e-d48c1a1b0911 ]] \r\n",
       "portin \"$x\" as E20  [[psysml:e039d1a4-e758-4cd1-b4b1-86e00270305d ]] \r\n",
       "portin \"$y\" as E21  [[psysml:0ebe1437-9ca5-4e09-9c89-2871c656e01e ]] \r\n",
       "portout \"$result\" as E22  [[psysml:95821532-07e2-4186-9bf5-2609b2b64808 ]] \r\n",
       "}\r\n",
       "\r\n",
       "rec usage \"A3\" as E23  <<(T,blue)action>> [[psysml:809db6ec-9b23-4a20-a88e-0d707c026938 ]] {\r\n",
       "}\r\n",
       "\r\n",
       "{\r\n",
       "portout \"$result\" as E24  [[psysml:29148d4a-85a5-459a-9935-db0d3e40f70f ]] \r\n",
       "portin \"$x\" as E25  [[psysml:c7cbf43b-156f-4fe1-932e-97acf8076a48 ]] \r\n",
       "portin \"$y\" as E26  [[psysml:d0e5218c-e833-4bf8-9c85-b0218eb0cb1f ]] \r\n",
       "portout \"$result\" as E27  [[psysml:f639559e-0e7a-4e62-b0cf-c675de4db47c ]] \r\n",
       "}\r\n",
       "\r\n",
       "}\r\n",
       "\r\n",
       "E6 -[thickness=5]- E4 [[psysml:5d6d5b38-9fc5-4e3a-9cb6-5e1ffd055c15 ]] \r\n",
       "E10 -[thickness=5]- E8 [[psysml:187378d7-d664-45d6-a81d-c8b3dbc9d7af ]] \r\n",
       "E21 -[thickness=5]- E19 [[psysml:b7ca4d72-a9f0-45a9-981c-6f89250d77d4 ]] \r\n",
       "E26 -[thickness=5]- E24 [[psysml:73bf4527-0e11-4058-a3d3-ef7c36e23adf ]] \r\n",
       "@enduml\r\n",
       "\n",
       "PlantUML version 1.2020.13(Sat Jun 13 12:26:38 UTC 2020)\n",
       "(EPL source distribution)\n",
       "Java Runtime: OpenJDK Runtime Environment\n",
       "JVM: OpenJDK 64-Bit Server VM\n",
       "Default Encoding: UTF-8\n",
       "Language: en\n",
       "Country: null\n",
       "--></g></svg>"
      ]
     },
     "execution_count": 43,
     "metadata": {},
     "output_type": "execute_result"
    }
   ],
   "source": [
    "%viz --style=\"DEFAULT\" --view=\"MIXED\" \"DecisionTest\""
   ]
  },
  {
   "cell_type": "code",
   "execution_count": 44,
   "id": "dying-double",
   "metadata": {
    "execution": {
     "iopub.execute_input": "2021-03-26T09:14:07.325911Z",
     "iopub.status.busy": "2021-03-26T09:14:07.325550Z",
     "iopub.status.idle": "2021-03-26T09:14:07.339189Z",
     "shell.execute_reply": "2021-03-26T09:14:07.337535Z"
    }
   },
   "outputs": [
    {
     "data": {
      "image/svg+xml": [
       "<?xml version=\"1.0\" encoding=\"UTF-8\" standalone=\"no\"?><svg xmlns=\"http://www.w3.org/2000/svg\" xmlns:xlink=\"http://www.w3.org/1999/xlink\" contentScriptType=\"application/ecmascript\" contentStyleType=\"text/css\" height=\"288px\" preserveAspectRatio=\"none\" style=\"width:873px;height:288px;background:#000000;\" version=\"1.1\" viewBox=\"0 0 873 288\" width=\"873px\" zoomAndPan=\"magnify\"><defs/><g><rect fill=\"#22221B\" height=\"1\" style=\"stroke: #22221B; stroke-width: 1.0;\" width=\"1\" x=\"0\" y=\"0\"/><rect fill=\"#33FF02\" height=\"21.2969\" style=\"stroke: #33FF02; stroke-width: 1.0;\" width=\"866\" x=\"5\" y=\"5\"/><text fill=\"#000000\" font-family=\"sans-serif\" font-size=\"14\" font-weight=\"bold\" lengthAdjust=\"spacingAndGlyphs\" textLength=\"178\" x=\"6\" y=\"20\">[From string (line 14) ]</text><text fill=\"#33FF02\" font-family=\"sans-serif\" font-size=\"14\" font-weight=\"bold\" lengthAdjust=\"spacingAndGlyphs\" textLength=\"0\" x=\"10\" y=\"40.2969\"/><text fill=\"#33FF02\" font-family=\"sans-serif\" font-size=\"14\" font-weight=\"bold\" lengthAdjust=\"spacingAndGlyphs\" textLength=\"79\" x=\"5\" y=\"56.5938\">@startuml</text><text fill=\"#33FF02\" font-family=\"sans-serif\" font-size=\"14\" font-weight=\"bold\" lengthAdjust=\"spacingAndGlyphs\" textLength=\"183\" x=\"5\" y=\"72.8906\">top to bottom direction</text><text fill=\"#33FF02\" font-family=\"sans-serif\" font-size=\"14\" font-weight=\"bold\" lengthAdjust=\"spacingAndGlyphs\" textLength=\"228\" x=\"5\" y=\"89.1875\">skinparam monochrome true</text><text fill=\"#33FF02\" font-family=\"sans-serif\" font-size=\"14\" font-weight=\"bold\" lengthAdjust=\"spacingAndGlyphs\" textLength=\"309\" x=\"5\" y=\"105.4844\">skinparam classbackgroundcolor white</text><text fill=\"#33FF02\" font-family=\"sans-serif\" font-size=\"14\" font-weight=\"bold\" lengthAdjust=\"spacingAndGlyphs\" textLength=\"215\" x=\"5\" y=\"121.7813\">skinparam shadowing false</text><text fill=\"#33FF02\" font-family=\"sans-serif\" font-size=\"14\" font-weight=\"bold\" lengthAdjust=\"spacingAndGlyphs\" textLength=\"206\" x=\"5\" y=\"138.0781\">skinparam wrapWidth 300</text><text fill=\"#33FF02\" font-family=\"sans-serif\" font-size=\"14\" font-weight=\"bold\" lengthAdjust=\"spacingAndGlyphs\" textLength=\"82\" x=\"5\" y=\"154.375\">hide circle</text><text fill=\"#33FF02\" font-family=\"sans-serif\" font-size=\"14\" font-weight=\"bold\" lengthAdjust=\"spacingAndGlyphs\" textLength=\"0\" x=\"10\" y=\"170.6719\"/><text fill=\"#33FF02\" font-family=\"sans-serif\" font-size=\"14\" font-weight=\"bold\" lengthAdjust=\"spacingAndGlyphs\" textLength=\"866\" x=\"5\" y=\"186.9688\">rec def \"DecisionTest\" as E1  &lt;&lt;(T,blue)action def&gt;&gt; [[psysml:a611506a-05f4-4898-8d67-b23f8626d6c2 ]] {</text><text fill=\"#33FF02\" font-family=\"sans-serif\" font-size=\"14\" font-weight=\"bold\" lengthAdjust=\"spacingAndGlyphs\" textLength=\"615\" x=\"5\" y=\"203.2656\">portout \"$result\" as E2  [[psysml:825b4193-3fd8-46d1-bb26-d00bcd83fe4c ]]</text><text fill=\"#33FF02\" font-family=\"sans-serif\" font-size=\"14\" font-weight=\"bold\" lengthAdjust=\"spacingAndGlyphs\" textLength=\"855\" x=\"5\" y=\"219.5625\">rec usage \"test x\" as E3  &lt;&lt;(T,blue)decisionNode&gt;&gt; [[psysml:6589aa4e-efab-4688-8327-f7f10099d134 ]] {</text><text fill=\"#33FF02\" font-family=\"sans-serif\" font-size=\"14\" font-weight=\"bold\" lengthAdjust=\"spacingAndGlyphs\" textLength=\"10\" x=\"5\" y=\"235.8594\">}</text><text fill=\"#33FF02\" font-family=\"sans-serif\" font-size=\"14\" font-weight=\"bold\" lengthAdjust=\"spacingAndGlyphs\" textLength=\"0\" x=\"10\" y=\"252.1563\"/><text fill=\"#33FF02\" font-family=\"sans-serif\" font-size=\"14\" font-weight=\"bold\" lengthAdjust=\"spacingAndGlyphs\" textLength=\"10\" x=\"5\" y=\"268.4531\">{</text><text fill=\"#FF0000\" font-family=\"sans-serif\" font-size=\"14\" font-weight=\"bold\" lengthAdjust=\"spacingAndGlyphs\" textLength=\"106\" x=\"10\" y=\"284.75\">Syntax Error?</text><!--MD5=[87be5b7020d0c5167f5f0c65662958d6]\n",
       "@startuml\r\n",
       "top to bottom direction\r\n",
       "skinparam monochrome true\r\n",
       "skinparam classbackgroundcolor white\r\n",
       "skinparam shadowing false\r\n",
       "skinparam wrapWidth 300\r\n",
       "hide circle\r\n",
       "\r\n",
       "rec def \"DecisionTest\" as E1  <<(T,blue)action def>> [[psysml:a611506a-05f4-4898-8d67-b23f8626d6c2 ]] {\r\n",
       "portout \"$result\" as E2  [[psysml:825b4193-3fd8-46d1-bb26-d00bcd83fe4c ]] \r\n",
       "rec usage \"test x\" as E3  <<(T,blue)decisionNode>> [[psysml:6589aa4e-efab-4688-8327-f7f10099d134 ]] {\r\n",
       "}\r\n",
       "\r\n",
       "{\r\n",
       "portout \"$result\" as E4  [[psysml:03222c0c-45fb-446a-ae55-be21a490ff21 ]] \r\n",
       "portin \"$x\" as E5  [[psysml:1f067476-7b6a-4ee1-8091-903eee6b057e ]] \r\n",
       "portin \"$y\" as E6  [[psysml:736be314-0092-4efe-9283-a3128e572984 ]] \r\n",
       "portout \"$result\" as E7  [[psysml:78a09776-ac9f-434e-8d68-d86bf1b46cb7 ]] \r\n",
       "}\r\n",
       "\r\n",
       "{\r\n",
       "portout \"$result\" as E8  [[psysml:1aa891c2-82c1-43c8-8c92-2c9f46284f3f ]] \r\n",
       "portin \"$x\" as E9  [[psysml:41e20081-729f-43ab-b2b2-e475cbaa33cc ]] \r\n",
       "portin \"$y\" as E10  [[psysml:dd685822-7c1a-40d9-ad47-98988f0eab95 ]] \r\n",
       "portout \"$result\" as E11  [[psysml:ff30ef21-37bb-4366-a828-82b307802d91 ]] \r\n",
       "}\r\n",
       "\r\n",
       "{\r\n",
       "}\r\n",
       "\r\n",
       "{\r\n",
       "}\r\n",
       "\r\n",
       "{\r\n",
       "portout \"$result\" as E12  [[psysml:8acd1d71-26f3-4979-a604-5454cd234d07 ]] \r\n",
       "}\r\n",
       "\r\n",
       "{\r\n",
       "portout \"$result\" as E13  [[psysml:63187c6a-fa39-44bf-bd7b-baf836477136 ]] \r\n",
       "}\r\n",
       "\r\n",
       "rec usage \"A1\" as E14  <<(T,blue)action>> [[psysml:edf3151a-ea9a-49ab-905b-cac4748fa5cc ]] {\r\n",
       "}\r\n",
       "\r\n",
       "rec usage \"A2\" as E15  <<(T,blue)action>> [[psysml:3bd22752-b66f-42f0-9d88-956d01e987e1 ]] {\r\n",
       "}\r\n",
       "\r\n",
       "rec usage \"A3\" as E16  <<(T,blue)action>> [[psysml:809db6ec-9b23-4a20-a88e-0d707c026938 ]] {\r\n",
       "}\r\n",
       "\r\n",
       "rec usage \"S\" as E17  <<(T,blue)transition>> [[psysml:a1b52494-6c64-4433-870a-8c0c85f99588 ]] {\r\n",
       "rec usage \"A1\" as E18  <<(T,blue)action>> [[psysml:edf3151a-ea9a-49ab-905b-cac4748fa5cc ]] {\r\n",
       "}\r\n",
       "\r\n",
       "portout \"$result\" as E19  [[psysml:83f97503-27b8-4c10-a73e-d48c1a1b0911 ]] \r\n",
       "portin \"$x\" as E20  [[psysml:e039d1a4-e758-4cd1-b4b1-86e00270305d ]] \r\n",
       "portin \"$y\" as E21  [[psysml:0ebe1437-9ca5-4e09-9c89-2871c656e01e ]] \r\n",
       "portout \"$result\" as E22  [[psysml:95821532-07e2-4186-9bf5-2609b2b64808 ]] \r\n",
       "}\r\n",
       "\r\n",
       "rec usage \"A3\" as E23  <<(T,blue)action>> [[psysml:809db6ec-9b23-4a20-a88e-0d707c026938 ]] {\r\n",
       "}\r\n",
       "\r\n",
       "{\r\n",
       "portout \"$result\" as E24  [[psysml:29148d4a-85a5-459a-9935-db0d3e40f70f ]] \r\n",
       "portin \"$x\" as E25  [[psysml:c7cbf43b-156f-4fe1-932e-97acf8076a48 ]] \r\n",
       "portin \"$y\" as E26  [[psysml:d0e5218c-e833-4bf8-9c85-b0218eb0cb1f ]] \r\n",
       "portout \"$result\" as E27  [[psysml:f639559e-0e7a-4e62-b0cf-c675de4db47c ]] \r\n",
       "}\r\n",
       "\r\n",
       "}\r\n",
       "\r\n",
       "E6 -[thickness=5]- E4 [[psysml:5d6d5b38-9fc5-4e3a-9cb6-5e1ffd055c15 ]] \r\n",
       "E10 -[thickness=5]- E8 [[psysml:187378d7-d664-45d6-a81d-c8b3dbc9d7af ]] \r\n",
       "E21 -[thickness=5]- E19 [[psysml:b7ca4d72-a9f0-45a9-981c-6f89250d77d4 ]] \r\n",
       "E26 -[thickness=5]- E24 [[psysml:73bf4527-0e11-4058-a3d3-ef7c36e23adf ]] \r\n",
       "@enduml\r\n",
       "\n",
       "PlantUML version 1.2020.13(Sat Jun 13 12:26:38 UTC 2020)\n",
       "(EPL source distribution)\n",
       "Java Runtime: OpenJDK Runtime Environment\n",
       "JVM: OpenJDK 64-Bit Server VM\n",
       "Default Encoding: UTF-8\n",
       "Language: en\n",
       "Country: null\n",
       "--></g></svg>"
      ]
     },
     "execution_count": 44,
     "metadata": {},
     "output_type": "execute_result"
    }
   ],
   "source": [
    "%viz --style=\"TB\" --view=\"Default\" \"DecisionTest\""
   ]
  },
  {
   "cell_type": "code",
   "execution_count": 45,
   "id": "accepting-import",
   "metadata": {
    "execution": {
     "iopub.execute_input": "2021-03-26T09:14:07.393574Z",
     "iopub.status.busy": "2021-03-26T09:14:07.392416Z",
     "iopub.status.idle": "2021-03-26T09:14:07.460067Z",
     "shell.execute_reply": "2021-03-26T09:14:07.460405Z"
    }
   },
   "outputs": [
    {
     "data": {
      "image/svg+xml": [
       "<?xml version=\"1.0\" encoding=\"UTF-8\" standalone=\"no\"?><svg xmlns=\"http://www.w3.org/2000/svg\" xmlns:xlink=\"http://www.w3.org/1999/xlink\" contentScriptType=\"application/ecmascript\" contentStyleType=\"text/css\" height=\"207px\" preserveAspectRatio=\"none\" style=\"width:109px;height:207px;\" version=\"1.1\" viewBox=\"0 0 109 207\" width=\"109px\" zoomAndPan=\"magnify\"><defs/><g><!--MD5=[43c9051892ef23e1a46a86907403d788]\n",
       "class E1--><a href=\"psysml:a611506a-05f4-4898-8d67-b23f8626d6c2\" target=\"_top\" title=\"psysml:a611506a-05f4-4898-8d67-b23f8626d6c2\" xlink:actuate=\"onRequest\" xlink:href=\"psysml:a611506a-05f4-4898-8d67-b23f8626d6c2\" xlink:show=\"new\" xlink:title=\"psysml:a611506a-05f4-4898-8d67-b23f8626d6c2\" xlink:type=\"simple\"><rect fill=\"#FFFFFF\" height=\"189.9844\" id=\"E1\" style=\"stroke: #383838; stroke-width: 1.5;\" width=\"91\" x=\"7\" y=\"7\"/><text fill=\"#000000\" font-family=\"sans-serif\" font-size=\"12\" font-style=\"italic\" lengthAdjust=\"spacingAndGlyphs\" textLength=\"77\" x=\"14\" y=\"23.1387\">«action def»</text><text fill=\"#000000\" font-family=\"sans-serif\" font-size=\"12\" lengthAdjust=\"spacingAndGlyphs\" textLength=\"80\" x=\"12.5\" y=\"37.1074\">DecisionTest</text><line style=\"stroke: #383838; stroke-width: 1.5;\" x1=\"8\" x2=\"97\" y1=\"44.9375\" y2=\"44.9375\"/><text fill=\"#000000\" font-family=\"sans-serif\" font-size=\"11\" lengthAdjust=\"spacingAndGlyphs\" textLength=\"6\" x=\"13\" y=\"75.9526\">x</text><line style=\"stroke: #383838; stroke-width: 1.0;\" x1=\"8\" x2=\"25\" y1=\"59.3398\" y2=\"59.3398\"/><text fill=\"#000000\" font-family=\"sans-serif\" font-size=\"11\" lengthAdjust=\"spacingAndGlyphs\" textLength=\"55\" x=\"25\" y=\"62.6479\">attributes</text><line style=\"stroke: #383838; stroke-width: 1.0;\" x1=\"80\" x2=\"97\" y1=\"59.3398\" y2=\"59.3398\"/><text fill=\"#000000\" font-family=\"sans-serif\" font-size=\"11\" lengthAdjust=\"spacingAndGlyphs\" textLength=\"14\" x=\"13\" y=\"105.562\">A1</text><text fill=\"#000000\" font-family=\"sans-serif\" font-size=\"11\" lengthAdjust=\"spacingAndGlyphs\" textLength=\"14\" x=\"13\" y=\"118.3667\">A2</text><text fill=\"#000000\" font-family=\"sans-serif\" font-size=\"11\" lengthAdjust=\"spacingAndGlyphs\" textLength=\"14\" x=\"13\" y=\"131.1714\">A3</text><line style=\"stroke: #383838; stroke-width: 1.0;\" x1=\"8\" x2=\"32\" y1=\"88.9492\" y2=\"88.9492\"/><text fill=\"#000000\" font-family=\"sans-serif\" font-size=\"11\" lengthAdjust=\"spacingAndGlyphs\" textLength=\"41\" x=\"32\" y=\"92.2573\">actions</text><line style=\"stroke: #383838; stroke-width: 1.0;\" x1=\"73\" x2=\"97\" y1=\"88.9492\" y2=\"88.9492\"/><text fill=\"#000000\" font-family=\"sans-serif\" font-size=\"11\" lengthAdjust=\"spacingAndGlyphs\" textLength=\"32\" x=\"13\" y=\"160.7808\">test x</text><line style=\"stroke: #383838; stroke-width: 1.0;\" x1=\"8\" x2=\"11\" y1=\"144.168\" y2=\"144.168\"/><text fill=\"#000000\" font-family=\"sans-serif\" font-size=\"11\" lengthAdjust=\"spacingAndGlyphs\" textLength=\"83\" x=\"11\" y=\"147.4761\">decisionNodes</text><line style=\"stroke: #383838; stroke-width: 1.0;\" x1=\"94\" x2=\"97\" y1=\"144.168\" y2=\"144.168\"/><text fill=\"#000000\" font-family=\"sans-serif\" font-size=\"11\" lengthAdjust=\"spacingAndGlyphs\" textLength=\"8\" x=\"13\" y=\"190.3901\">S</text><line style=\"stroke: #383838; stroke-width: 1.0;\" x1=\"8\" x2=\"22\" y1=\"173.7773\" y2=\"173.7773\"/><text fill=\"#000000\" font-family=\"sans-serif\" font-size=\"11\" lengthAdjust=\"spacingAndGlyphs\" textLength=\"61\" x=\"22\" y=\"177.0854\">transitions</text><line style=\"stroke: #383838; stroke-width: 1.0;\" x1=\"83\" x2=\"97\" y1=\"173.7773\" y2=\"173.7773\"/></a><!--MD5=[41d3c31646b8ef36080b31bc97aa49fb]\n",
       "@startuml\r\n",
       "top to bottom direction\r\n",
       "skinparam monochrome true\r\n",
       "skinparam classbackgroundcolor white\r\n",
       "skinparam shadowing false\r\n",
       "skinparam wrapWidth 300\r\n",
       "hide circle\r\n",
       "\r\n",
       "comp def \"DecisionTest\" as E1  <<(T,blue)action def>> [[psysml:a611506a-05f4-4898-8d67-b23f8626d6c2 ]] {\r\n",
       "- - attributes - -\r\n",
       "x\r\n",
       "- - actions - -\r\n",
       "A1\r\n",
       "A2\r\n",
       "A3\r\n",
       "- - decisionNodes - -\r\n",
       "test x\r\n",
       "- - transitions - -\r\n",
       "S\r\n",
       "}\r\n",
       "@enduml\r\n",
       "\n",
       "PlantUML version 1.2020.13(Sat Jun 13 12:26:38 UTC 2020)\n",
       "(EPL source distribution)\n",
       "Java Runtime: OpenJDK Runtime Environment\n",
       "JVM: OpenJDK 64-Bit Server VM\n",
       "Default Encoding: UTF-8\n",
       "Language: en\n",
       "Country: null\n",
       "--></g></svg>"
      ]
     },
     "execution_count": 45,
     "metadata": {},
     "output_type": "execute_result"
    }
   ],
   "source": [
    "%viz --style=\"TB\" --view=\"Tree\" \"DecisionTest\""
   ]
  },
  {
   "cell_type": "code",
   "execution_count": 46,
   "id": "moral-state",
   "metadata": {
    "execution": {
     "iopub.execute_input": "2021-03-26T09:14:07.510882Z",
     "iopub.status.busy": "2021-03-26T09:14:07.510451Z",
     "iopub.status.idle": "2021-03-26T09:14:07.514853Z",
     "shell.execute_reply": "2021-03-26T09:14:07.514557Z"
    }
   },
   "outputs": [
    {
     "data": {
      "image/svg+xml": [
       "<?xml version=\"1.0\" encoding=\"UTF-8\" standalone=\"no\"?><svg xmlns=\"http://www.w3.org/2000/svg\" xmlns:xlink=\"http://www.w3.org/1999/xlink\" contentScriptType=\"application/ecmascript\" contentStyleType=\"text/css\" height=\"12px\" preserveAspectRatio=\"none\" style=\"width:12px;height:12px;\" version=\"1.1\" viewBox=\"0 0 12 12\" width=\"12px\" zoomAndPan=\"magnify\"><defs/><g><!--MD5=[f4ee21bc66e489b5061b7c3e9601fdef]\n",
       "@startuml\r\n",
       "top to bottom direction\r\n",
       "skinparam monochrome true\r\n",
       "skinparam classbackgroundcolor white\r\n",
       "skinparam shadowing false\r\n",
       "skinparam wrapWidth 300\r\n",
       "hide circle\r\n",
       "\r\n",
       "@enduml\r\n",
       "\n",
       "PlantUML version 1.2020.13(Sat Jun 13 12:26:38 UTC 2020)\n",
       "(EPL source distribution)\n",
       "Java Runtime: OpenJDK Runtime Environment\n",
       "JVM: OpenJDK 64-Bit Server VM\n",
       "Default Encoding: UTF-8\n",
       "Language: en\n",
       "Country: null\n",
       "--></g></svg>"
      ]
     },
     "execution_count": 46,
     "metadata": {},
     "output_type": "execute_result"
    }
   ],
   "source": [
    "%viz --style=\"TB\" --view=\"State\" \"DecisionTest\""
   ]
  },
  {
   "cell_type": "code",
   "execution_count": 47,
   "id": "working-stake",
   "metadata": {
    "execution": {
     "iopub.execute_input": "2021-03-26T09:14:07.565852Z",
     "iopub.status.busy": "2021-03-26T09:14:07.565437Z",
     "iopub.status.idle": "2021-03-26T09:14:07.573537Z",
     "shell.execute_reply": "2021-03-26T09:14:07.573231Z"
    }
   },
   "outputs": [
    {
     "data": {
      "image/svg+xml": [
       "<?xml version=\"1.0\" encoding=\"UTF-8\" standalone=\"no\"?><svg xmlns=\"http://www.w3.org/2000/svg\" xmlns:xlink=\"http://www.w3.org/1999/xlink\" contentScriptType=\"application/ecmascript\" contentStyleType=\"text/css\" height=\"71px\" preserveAspectRatio=\"none\" style=\"width:145px;height:71px;\" version=\"1.1\" viewBox=\"0 0 145 71\" width=\"145px\" zoomAndPan=\"magnify\"><defs/><g><!--MD5=[43c9051892ef23e1a46a86907403d788]\n",
       "class E1--><a href=\"psysml:a611506a-05f4-4898-8d67-b23f8626d6c2\" target=\"_top\" title=\"psysml:a611506a-05f4-4898-8d67-b23f8626d6c2\" xlink:actuate=\"onRequest\" xlink:href=\"psysml:a611506a-05f4-4898-8d67-b23f8626d6c2\" xlink:show=\"new\" xlink:title=\"psysml:a611506a-05f4-4898-8d67-b23f8626d6c2\" xlink:type=\"simple\"><rect fill=\"#FFFFFF\" height=\"53.9375\" id=\"E1\" style=\"stroke: #383838; stroke-width: 1.5;\" width=\"127\" x=\"7\" y=\"7\"/><text fill=\"#000000\" font-family=\"sans-serif\" font-size=\"12\" font-style=\"italic\" lengthAdjust=\"spacingAndGlyphs\" textLength=\"125\" x=\"8\" y=\"23.1387\">«(T,blue)action def»</text><text fill=\"#000000\" font-family=\"sans-serif\" font-size=\"12\" lengthAdjust=\"spacingAndGlyphs\" textLength=\"80\" x=\"30.5\" y=\"37.1074\">DecisionTest</text><line style=\"stroke: #383838; stroke-width: 1.5;\" x1=\"8\" x2=\"133\" y1=\"44.9375\" y2=\"44.9375\"/><line style=\"stroke: #383838; stroke-width: 1.5;\" x1=\"8\" x2=\"133\" y1=\"52.9375\" y2=\"52.9375\"/></a><!--MD5=[76a893b313edf9801a6e595f937e61a8]\n",
       "@startuml\r\n",
       "skinparam ranksep 8\r\n",
       "skinparam rectangle {\r\n",
       " backgroundColor<<block>> LightGreen\r\n",
       "}\r\n",
       "top to bottom direction\r\n",
       "skinparam monochrome true\r\n",
       "skinparam classbackgroundcolor white\r\n",
       "skinparam shadowing false\r\n",
       "skinparam wrapWidth 300\r\n",
       "hide circle\r\n",
       "\r\n",
       "def \"DecisionTest\" as E1  <<(T,blue)action def>> [[psysml:a611506a-05f4-4898-8d67-b23f8626d6c2 ]] \r\n",
       "@enduml\r\n",
       "\n",
       "PlantUML version 1.2020.13(Sat Jun 13 12:26:38 UTC 2020)\n",
       "(EPL source distribution)\n",
       "Java Runtime: OpenJDK Runtime Environment\n",
       "JVM: OpenJDK 64-Bit Server VM\n",
       "Default Encoding: UTF-8\n",
       "Language: en\n",
       "Country: null\n",
       "--></g></svg>"
      ]
     },
     "execution_count": 47,
     "metadata": {},
     "output_type": "execute_result"
    }
   ],
   "source": [
    "%viz --style=\"TB\" --view=\"Interconnection\" \"DecisionTest\""
   ]
  },
  {
   "cell_type": "code",
   "execution_count": 48,
   "id": "trained-filling",
   "metadata": {
    "execution": {
     "iopub.execute_input": "2021-03-26T09:14:07.623807Z",
     "iopub.status.busy": "2021-03-26T09:14:07.623465Z",
     "iopub.status.idle": "2021-03-26T09:14:07.636635Z",
     "shell.execute_reply": "2021-03-26T09:14:07.635502Z"
    }
   },
   "outputs": [
    {
     "data": {
      "image/svg+xml": [
       "<?xml version=\"1.0\" encoding=\"UTF-8\" standalone=\"no\"?><svg xmlns=\"http://www.w3.org/2000/svg\" xmlns:xlink=\"http://www.w3.org/1999/xlink\" contentScriptType=\"application/ecmascript\" contentStyleType=\"text/css\" height=\"304px\" preserveAspectRatio=\"none\" style=\"width:873px;height:304px;background:#000000;\" version=\"1.1\" viewBox=\"0 0 873 304\" width=\"873px\" zoomAndPan=\"magnify\"><defs/><g><rect fill=\"#0F2320\" height=\"1\" style=\"stroke: #0F2320; stroke-width: 1.0;\" width=\"1\" x=\"0\" y=\"0\"/><rect fill=\"#33FF02\" height=\"21.2969\" style=\"stroke: #33FF02; stroke-width: 1.0;\" width=\"866\" x=\"5\" y=\"5\"/><text fill=\"#000000\" font-family=\"sans-serif\" font-size=\"14\" font-weight=\"bold\" lengthAdjust=\"spacingAndGlyphs\" textLength=\"178\" x=\"6\" y=\"20\">[From string (line 15) ]</text><text fill=\"#33FF02\" font-family=\"sans-serif\" font-size=\"14\" font-weight=\"bold\" lengthAdjust=\"spacingAndGlyphs\" textLength=\"0\" x=\"10\" y=\"40.2969\"/><text fill=\"#33FF02\" font-family=\"sans-serif\" font-size=\"14\" font-weight=\"bold\" lengthAdjust=\"spacingAndGlyphs\" textLength=\"79\" x=\"5\" y=\"56.5938\">@startuml</text><text fill=\"#33FF02\" font-family=\"sans-serif\" font-size=\"14\" font-weight=\"bold\" lengthAdjust=\"spacingAndGlyphs\" textLength=\"165\" x=\"5\" y=\"72.8906\">skinparam ranksep 8</text><text fill=\"#33FF02\" font-family=\"sans-serif\" font-size=\"14\" font-weight=\"bold\" lengthAdjust=\"spacingAndGlyphs\" textLength=\"183\" x=\"5\" y=\"89.1875\">top to bottom direction</text><text fill=\"#33FF02\" font-family=\"sans-serif\" font-size=\"14\" font-weight=\"bold\" lengthAdjust=\"spacingAndGlyphs\" textLength=\"228\" x=\"5\" y=\"105.4844\">skinparam monochrome true</text><text fill=\"#33FF02\" font-family=\"sans-serif\" font-size=\"14\" font-weight=\"bold\" lengthAdjust=\"spacingAndGlyphs\" textLength=\"309\" x=\"5\" y=\"121.7813\">skinparam classbackgroundcolor white</text><text fill=\"#33FF02\" font-family=\"sans-serif\" font-size=\"14\" font-weight=\"bold\" lengthAdjust=\"spacingAndGlyphs\" textLength=\"215\" x=\"5\" y=\"138.0781\">skinparam shadowing false</text><text fill=\"#33FF02\" font-family=\"sans-serif\" font-size=\"14\" font-weight=\"bold\" lengthAdjust=\"spacingAndGlyphs\" textLength=\"206\" x=\"5\" y=\"154.375\">skinparam wrapWidth 300</text><text fill=\"#33FF02\" font-family=\"sans-serif\" font-size=\"14\" font-weight=\"bold\" lengthAdjust=\"spacingAndGlyphs\" textLength=\"82\" x=\"5\" y=\"170.6719\">hide circle</text><text fill=\"#33FF02\" font-family=\"sans-serif\" font-size=\"14\" font-weight=\"bold\" lengthAdjust=\"spacingAndGlyphs\" textLength=\"0\" x=\"10\" y=\"186.9688\"/><text fill=\"#33FF02\" font-family=\"sans-serif\" font-size=\"14\" font-weight=\"bold\" lengthAdjust=\"spacingAndGlyphs\" textLength=\"866\" x=\"5\" y=\"203.2656\">rec def \"DecisionTest\" as E1  &lt;&lt;(T,blue)action def&gt;&gt; [[psysml:a611506a-05f4-4898-8d67-b23f8626d6c2 ]] {</text><text fill=\"#33FF02\" font-family=\"sans-serif\" font-size=\"14\" font-weight=\"bold\" lengthAdjust=\"spacingAndGlyphs\" textLength=\"615\" x=\"5\" y=\"219.5625\">portout \"$result\" as E2  [[psysml:825b4193-3fd8-46d1-bb26-d00bcd83fe4c ]]</text><text fill=\"#33FF02\" font-family=\"sans-serif\" font-size=\"14\" font-weight=\"bold\" lengthAdjust=\"spacingAndGlyphs\" textLength=\"855\" x=\"5\" y=\"235.8594\">rec usage \"test x\" as E3  &lt;&lt;(T,blue)decisionNode&gt;&gt; [[psysml:6589aa4e-efab-4688-8327-f7f10099d134 ]] {</text><text fill=\"#33FF02\" font-family=\"sans-serif\" font-size=\"14\" font-weight=\"bold\" lengthAdjust=\"spacingAndGlyphs\" textLength=\"10\" x=\"5\" y=\"252.1563\">}</text><text fill=\"#33FF02\" font-family=\"sans-serif\" font-size=\"14\" font-weight=\"bold\" lengthAdjust=\"spacingAndGlyphs\" textLength=\"0\" x=\"10\" y=\"268.4531\"/><text fill=\"#33FF02\" font-family=\"sans-serif\" font-size=\"14\" font-weight=\"bold\" lengthAdjust=\"spacingAndGlyphs\" textLength=\"10\" x=\"5\" y=\"284.75\">{</text><text fill=\"#FF0000\" font-family=\"sans-serif\" font-size=\"14\" font-weight=\"bold\" lengthAdjust=\"spacingAndGlyphs\" textLength=\"106\" x=\"10\" y=\"301.0469\">Syntax Error?</text><!--MD5=[a7d153f5cd7235cc0849a5f0e036e0cd]\n",
       "@startuml\r\n",
       "skinparam ranksep 8\r\n",
       "top to bottom direction\r\n",
       "skinparam monochrome true\r\n",
       "skinparam classbackgroundcolor white\r\n",
       "skinparam shadowing false\r\n",
       "skinparam wrapWidth 300\r\n",
       "hide circle\r\n",
       "\r\n",
       "rec def \"DecisionTest\" as E1  <<(T,blue)action def>> [[psysml:a611506a-05f4-4898-8d67-b23f8626d6c2 ]] {\r\n",
       "portout \"$result\" as E2  [[psysml:825b4193-3fd8-46d1-bb26-d00bcd83fe4c ]] \r\n",
       "rec usage \"test x\" as E3  <<(T,blue)decisionNode>> [[psysml:6589aa4e-efab-4688-8327-f7f10099d134 ]] {\r\n",
       "}\r\n",
       "\r\n",
       "{\r\n",
       "portout \"$result\" as E4  [[psysml:03222c0c-45fb-446a-ae55-be21a490ff21 ]] \r\n",
       "portin \"$x\" as E5  [[psysml:1f067476-7b6a-4ee1-8091-903eee6b057e ]] \r\n",
       "portin \"$y\" as E6  [[psysml:736be314-0092-4efe-9283-a3128e572984 ]] \r\n",
       "portout \"$result\" as E7  [[psysml:78a09776-ac9f-434e-8d68-d86bf1b46cb7 ]] \r\n",
       "}\r\n",
       "\r\n",
       "{\r\n",
       "portout \"$result\" as E8  [[psysml:1aa891c2-82c1-43c8-8c92-2c9f46284f3f ]] \r\n",
       "portin \"$x\" as E9  [[psysml:41e20081-729f-43ab-b2b2-e475cbaa33cc ]] \r\n",
       "portin \"$y\" as E10  [[psysml:dd685822-7c1a-40d9-ad47-98988f0eab95 ]] \r\n",
       "portout \"$result\" as E11  [[psysml:ff30ef21-37bb-4366-a828-82b307802d91 ]] \r\n",
       "}\r\n",
       "\r\n",
       "{\r\n",
       "}\r\n",
       "\r\n",
       "{\r\n",
       "}\r\n",
       "\r\n",
       "{\r\n",
       "portout \"$result\" as E12  [[psysml:8acd1d71-26f3-4979-a604-5454cd234d07 ]] \r\n",
       "}\r\n",
       "\r\n",
       "{\r\n",
       "portout \"$result\" as E13  [[psysml:63187c6a-fa39-44bf-bd7b-baf836477136 ]] \r\n",
       "}\r\n",
       "\r\n",
       "rec usage \"A1\" as E14  <<(T,blue)action>> [[psysml:edf3151a-ea9a-49ab-905b-cac4748fa5cc ]] {\r\n",
       "}\r\n",
       "\r\n",
       "rec usage \"A2\" as E15  <<(T,blue)action>> [[psysml:3bd22752-b66f-42f0-9d88-956d01e987e1 ]] {\r\n",
       "}\r\n",
       "\r\n",
       "rec usage \"A3\" as E16  <<(T,blue)action>> [[psysml:809db6ec-9b23-4a20-a88e-0d707c026938 ]] {\r\n",
       "}\r\n",
       "\r\n",
       "rec usage \"S\" as E17  <<(T,blue)transition>> [[psysml:a1b52494-6c64-4433-870a-8c0c85f99588 ]] {\r\n",
       "rec usage \"A1\" as E18  <<(T,blue)action>> [[psysml:edf3151a-ea9a-49ab-905b-cac4748fa5cc ]] {\r\n",
       "}\r\n",
       "\r\n",
       "portout \"$result\" as E19  [[psysml:83f97503-27b8-4c10-a73e-d48c1a1b0911 ]] \r\n",
       "portin \"$x\" as E20  [[psysml:e039d1a4-e758-4cd1-b4b1-86e00270305d ]] \r\n",
       "portin \"$y\" as E21  [[psysml:0ebe1437-9ca5-4e09-9c89-2871c656e01e ]] \r\n",
       "portout \"$result\" as E22  [[psysml:95821532-07e2-4186-9bf5-2609b2b64808 ]] \r\n",
       "}\r\n",
       "\r\n",
       "rec usage \"A3\" as E23  <<(T,blue)action>> [[psysml:809db6ec-9b23-4a20-a88e-0d707c026938 ]] {\r\n",
       "}\r\n",
       "\r\n",
       "{\r\n",
       "portout \"$result\" as E24  [[psysml:29148d4a-85a5-459a-9935-db0d3e40f70f ]] \r\n",
       "portin \"$x\" as E25  [[psysml:c7cbf43b-156f-4fe1-932e-97acf8076a48 ]] \r\n",
       "portin \"$y\" as E26  [[psysml:d0e5218c-e833-4bf8-9c85-b0218eb0cb1f ]] \r\n",
       "portout \"$result\" as E27  [[psysml:f639559e-0e7a-4e62-b0cf-c675de4db47c ]] \r\n",
       "}\r\n",
       "\r\n",
       "}\r\n",
       "\r\n",
       "E6 -[thickness=5]- E4 [[psysml:5d6d5b38-9fc5-4e3a-9cb6-5e1ffd055c15 ]] \r\n",
       "E10 -[thickness=5]- E8 [[psysml:187378d7-d664-45d6-a81d-c8b3dbc9d7af ]] \r\n",
       "E21 -[thickness=5]- E19 [[psysml:b7ca4d72-a9f0-45a9-981c-6f89250d77d4 ]] \r\n",
       "E26 -[thickness=5]- E24 [[psysml:73bf4527-0e11-4058-a3d3-ef7c36e23adf ]] \r\n",
       "@enduml\r\n",
       "\n",
       "PlantUML version 1.2020.13(Sat Jun 13 12:26:38 UTC 2020)\n",
       "(EPL source distribution)\n",
       "Java Runtime: OpenJDK Runtime Environment\n",
       "JVM: OpenJDK 64-Bit Server VM\n",
       "Default Encoding: UTF-8\n",
       "Language: en\n",
       "Country: null\n",
       "--></g></svg>"
      ]
     },
     "execution_count": 48,
     "metadata": {},
     "output_type": "execute_result"
    }
   ],
   "source": [
    "%viz --style=\"TB\" --view=\"Action\" \"DecisionTest\""
   ]
  },
  {
   "cell_type": "code",
   "execution_count": 49,
   "id": "explicit-street",
   "metadata": {
    "execution": {
     "iopub.execute_input": "2021-03-26T09:14:07.687371Z",
     "iopub.status.busy": "2021-03-26T09:14:07.686925Z",
     "iopub.status.idle": "2021-03-26T09:14:07.755465Z",
     "shell.execute_reply": "2021-03-26T09:14:07.755846Z"
    }
   },
   "outputs": [
    {
     "data": {
      "image/svg+xml": [
       "<?xml version=\"1.0\" encoding=\"UTF-8\" standalone=\"no\"?><svg xmlns=\"http://www.w3.org/2000/svg\" xmlns:xlink=\"http://www.w3.org/1999/xlink\" contentScriptType=\"application/ecmascript\" contentStyleType=\"text/css\" height=\"207px\" preserveAspectRatio=\"none\" style=\"width:109px;height:207px;\" version=\"1.1\" viewBox=\"0 0 109 207\" width=\"109px\" zoomAndPan=\"magnify\"><defs/><g><!--MD5=[43c9051892ef23e1a46a86907403d788]\n",
       "class E1--><a href=\"psysml:a611506a-05f4-4898-8d67-b23f8626d6c2\" target=\"_top\" title=\"psysml:a611506a-05f4-4898-8d67-b23f8626d6c2\" xlink:actuate=\"onRequest\" xlink:href=\"psysml:a611506a-05f4-4898-8d67-b23f8626d6c2\" xlink:show=\"new\" xlink:title=\"psysml:a611506a-05f4-4898-8d67-b23f8626d6c2\" xlink:type=\"simple\"><rect fill=\"#FFFFFF\" height=\"189.9844\" id=\"E1\" style=\"stroke: #383838; stroke-width: 1.5;\" width=\"91\" x=\"7\" y=\"7\"/><text fill=\"#000000\" font-family=\"sans-serif\" font-size=\"12\" font-style=\"italic\" lengthAdjust=\"spacingAndGlyphs\" textLength=\"77\" x=\"14\" y=\"23.1387\">«action def»</text><text fill=\"#000000\" font-family=\"sans-serif\" font-size=\"12\" lengthAdjust=\"spacingAndGlyphs\" textLength=\"80\" x=\"12.5\" y=\"37.1074\">DecisionTest</text><line style=\"stroke: #383838; stroke-width: 1.5;\" x1=\"8\" x2=\"97\" y1=\"44.9375\" y2=\"44.9375\"/><text fill=\"#000000\" font-family=\"sans-serif\" font-size=\"11\" lengthAdjust=\"spacingAndGlyphs\" textLength=\"6\" x=\"13\" y=\"75.9526\">x</text><line style=\"stroke: #383838; stroke-width: 1.0;\" x1=\"8\" x2=\"25\" y1=\"59.3398\" y2=\"59.3398\"/><text fill=\"#000000\" font-family=\"sans-serif\" font-size=\"11\" lengthAdjust=\"spacingAndGlyphs\" textLength=\"55\" x=\"25\" y=\"62.6479\">attributes</text><line style=\"stroke: #383838; stroke-width: 1.0;\" x1=\"80\" x2=\"97\" y1=\"59.3398\" y2=\"59.3398\"/><text fill=\"#000000\" font-family=\"sans-serif\" font-size=\"11\" lengthAdjust=\"spacingAndGlyphs\" textLength=\"14\" x=\"13\" y=\"105.562\">A1</text><text fill=\"#000000\" font-family=\"sans-serif\" font-size=\"11\" lengthAdjust=\"spacingAndGlyphs\" textLength=\"14\" x=\"13\" y=\"118.3667\">A2</text><text fill=\"#000000\" font-family=\"sans-serif\" font-size=\"11\" lengthAdjust=\"spacingAndGlyphs\" textLength=\"14\" x=\"13\" y=\"131.1714\">A3</text><line style=\"stroke: #383838; stroke-width: 1.0;\" x1=\"8\" x2=\"32\" y1=\"88.9492\" y2=\"88.9492\"/><text fill=\"#000000\" font-family=\"sans-serif\" font-size=\"11\" lengthAdjust=\"spacingAndGlyphs\" textLength=\"41\" x=\"32\" y=\"92.2573\">actions</text><line style=\"stroke: #383838; stroke-width: 1.0;\" x1=\"73\" x2=\"97\" y1=\"88.9492\" y2=\"88.9492\"/><text fill=\"#000000\" font-family=\"sans-serif\" font-size=\"11\" lengthAdjust=\"spacingAndGlyphs\" textLength=\"32\" x=\"13\" y=\"160.7808\">test x</text><line style=\"stroke: #383838; stroke-width: 1.0;\" x1=\"8\" x2=\"11\" y1=\"144.168\" y2=\"144.168\"/><text fill=\"#000000\" font-family=\"sans-serif\" font-size=\"11\" lengthAdjust=\"spacingAndGlyphs\" textLength=\"83\" x=\"11\" y=\"147.4761\">decisionNodes</text><line style=\"stroke: #383838; stroke-width: 1.0;\" x1=\"94\" x2=\"97\" y1=\"144.168\" y2=\"144.168\"/><text fill=\"#000000\" font-family=\"sans-serif\" font-size=\"11\" lengthAdjust=\"spacingAndGlyphs\" textLength=\"8\" x=\"13\" y=\"190.3901\">S</text><line style=\"stroke: #383838; stroke-width: 1.0;\" x1=\"8\" x2=\"22\" y1=\"173.7773\" y2=\"173.7773\"/><text fill=\"#000000\" font-family=\"sans-serif\" font-size=\"11\" lengthAdjust=\"spacingAndGlyphs\" textLength=\"61\" x=\"22\" y=\"177.0854\">transitions</text><line style=\"stroke: #383838; stroke-width: 1.0;\" x1=\"83\" x2=\"97\" y1=\"173.7773\" y2=\"173.7773\"/></a><!--MD5=[41d3c31646b8ef36080b31bc97aa49fb]\n",
       "@startuml\r\n",
       "top to bottom direction\r\n",
       "skinparam monochrome true\r\n",
       "skinparam classbackgroundcolor white\r\n",
       "skinparam shadowing false\r\n",
       "skinparam wrapWidth 300\r\n",
       "hide circle\r\n",
       "\r\n",
       "comp def \"DecisionTest\" as E1  <<(T,blue)action def>> [[psysml:a611506a-05f4-4898-8d67-b23f8626d6c2 ]] {\r\n",
       "- - attributes - -\r\n",
       "x\r\n",
       "- - actions - -\r\n",
       "A1\r\n",
       "A2\r\n",
       "A3\r\n",
       "- - decisionNodes - -\r\n",
       "test x\r\n",
       "- - transitions - -\r\n",
       "S\r\n",
       "}\r\n",
       "@enduml\r\n",
       "\n",
       "PlantUML version 1.2020.13(Sat Jun 13 12:26:38 UTC 2020)\n",
       "(EPL source distribution)\n",
       "Java Runtime: OpenJDK Runtime Environment\n",
       "JVM: OpenJDK 64-Bit Server VM\n",
       "Default Encoding: UTF-8\n",
       "Language: en\n",
       "Country: null\n",
       "--></g></svg>"
      ]
     },
     "execution_count": 49,
     "metadata": {},
     "output_type": "execute_result"
    }
   ],
   "source": [
    "%viz --style=\"TB\" --view=\"Sequence\" \"DecisionTest\""
   ]
  },
  {
   "cell_type": "code",
   "execution_count": 50,
   "id": "utility-corpus",
   "metadata": {
    "execution": {
     "iopub.execute_input": "2021-03-26T09:14:07.805253Z",
     "iopub.status.busy": "2021-03-26T09:14:07.804857Z",
     "iopub.status.idle": "2021-03-26T09:14:07.829690Z",
     "shell.execute_reply": "2021-03-26T09:14:07.828549Z"
    }
   },
   "outputs": [
    {
     "data": {
      "image/svg+xml": [
       "<?xml version=\"1.0\" encoding=\"UTF-8\" standalone=\"no\"?><svg xmlns=\"http://www.w3.org/2000/svg\" xmlns:xlink=\"http://www.w3.org/1999/xlink\" contentScriptType=\"application/ecmascript\" contentStyleType=\"text/css\" height=\"288px\" preserveAspectRatio=\"none\" style=\"width:873px;height:288px;background:#000000;\" version=\"1.1\" viewBox=\"0 0 873 288\" width=\"873px\" zoomAndPan=\"magnify\"><defs/><g><rect fill=\"#0E1D00\" height=\"1\" style=\"stroke: #0E1D00; stroke-width: 1.0;\" width=\"1\" x=\"0\" y=\"0\"/><rect fill=\"#33FF02\" height=\"21.2969\" style=\"stroke: #33FF02; stroke-width: 1.0;\" width=\"866\" x=\"5\" y=\"5\"/><text fill=\"#000000\" font-family=\"sans-serif\" font-size=\"14\" font-weight=\"bold\" lengthAdjust=\"spacingAndGlyphs\" textLength=\"178\" x=\"6\" y=\"20\">[From string (line 14) ]</text><text fill=\"#33FF02\" font-family=\"sans-serif\" font-size=\"14\" font-weight=\"bold\" lengthAdjust=\"spacingAndGlyphs\" textLength=\"0\" x=\"10\" y=\"40.2969\"/><text fill=\"#33FF02\" font-family=\"sans-serif\" font-size=\"14\" font-weight=\"bold\" lengthAdjust=\"spacingAndGlyphs\" textLength=\"79\" x=\"5\" y=\"56.5938\">@startuml</text><text fill=\"#33FF02\" font-family=\"sans-serif\" font-size=\"14\" font-weight=\"bold\" lengthAdjust=\"spacingAndGlyphs\" textLength=\"183\" x=\"5\" y=\"72.8906\">top to bottom direction</text><text fill=\"#33FF02\" font-family=\"sans-serif\" font-size=\"14\" font-weight=\"bold\" lengthAdjust=\"spacingAndGlyphs\" textLength=\"228\" x=\"5\" y=\"89.1875\">skinparam monochrome true</text><text fill=\"#33FF02\" font-family=\"sans-serif\" font-size=\"14\" font-weight=\"bold\" lengthAdjust=\"spacingAndGlyphs\" textLength=\"309\" x=\"5\" y=\"105.4844\">skinparam classbackgroundcolor white</text><text fill=\"#33FF02\" font-family=\"sans-serif\" font-size=\"14\" font-weight=\"bold\" lengthAdjust=\"spacingAndGlyphs\" textLength=\"215\" x=\"5\" y=\"121.7813\">skinparam shadowing false</text><text fill=\"#33FF02\" font-family=\"sans-serif\" font-size=\"14\" font-weight=\"bold\" lengthAdjust=\"spacingAndGlyphs\" textLength=\"206\" x=\"5\" y=\"138.0781\">skinparam wrapWidth 300</text><text fill=\"#33FF02\" font-family=\"sans-serif\" font-size=\"14\" font-weight=\"bold\" lengthAdjust=\"spacingAndGlyphs\" textLength=\"82\" x=\"5\" y=\"154.375\">hide circle</text><text fill=\"#33FF02\" font-family=\"sans-serif\" font-size=\"14\" font-weight=\"bold\" lengthAdjust=\"spacingAndGlyphs\" textLength=\"0\" x=\"10\" y=\"170.6719\"/><text fill=\"#33FF02\" font-family=\"sans-serif\" font-size=\"14\" font-weight=\"bold\" lengthAdjust=\"spacingAndGlyphs\" textLength=\"866\" x=\"5\" y=\"186.9688\">rec def \"DecisionTest\" as E1  &lt;&lt;(T,blue)action def&gt;&gt; [[psysml:a611506a-05f4-4898-8d67-b23f8626d6c2 ]] {</text><text fill=\"#33FF02\" font-family=\"sans-serif\" font-size=\"14\" font-weight=\"bold\" lengthAdjust=\"spacingAndGlyphs\" textLength=\"615\" x=\"5\" y=\"203.2656\">portout \"$result\" as E2  [[psysml:825b4193-3fd8-46d1-bb26-d00bcd83fe4c ]]</text><text fill=\"#33FF02\" font-family=\"sans-serif\" font-size=\"14\" font-weight=\"bold\" lengthAdjust=\"spacingAndGlyphs\" textLength=\"855\" x=\"5\" y=\"219.5625\">rec usage \"test x\" as E3  &lt;&lt;(T,blue)decisionNode&gt;&gt; [[psysml:6589aa4e-efab-4688-8327-f7f10099d134 ]] {</text><text fill=\"#33FF02\" font-family=\"sans-serif\" font-size=\"14\" font-weight=\"bold\" lengthAdjust=\"spacingAndGlyphs\" textLength=\"10\" x=\"5\" y=\"235.8594\">}</text><text fill=\"#33FF02\" font-family=\"sans-serif\" font-size=\"14\" font-weight=\"bold\" lengthAdjust=\"spacingAndGlyphs\" textLength=\"0\" x=\"10\" y=\"252.1563\"/><text fill=\"#33FF02\" font-family=\"sans-serif\" font-size=\"14\" font-weight=\"bold\" lengthAdjust=\"spacingAndGlyphs\" textLength=\"10\" x=\"5\" y=\"268.4531\">{</text><text fill=\"#FF0000\" font-family=\"sans-serif\" font-size=\"14\" font-weight=\"bold\" lengthAdjust=\"spacingAndGlyphs\" textLength=\"106\" x=\"10\" y=\"284.75\">Syntax Error?</text><!--MD5=[87be5b7020d0c5167f5f0c65662958d6]\n",
       "@startuml\r\n",
       "top to bottom direction\r\n",
       "skinparam monochrome true\r\n",
       "skinparam classbackgroundcolor white\r\n",
       "skinparam shadowing false\r\n",
       "skinparam wrapWidth 300\r\n",
       "hide circle\r\n",
       "\r\n",
       "rec def \"DecisionTest\" as E1  <<(T,blue)action def>> [[psysml:a611506a-05f4-4898-8d67-b23f8626d6c2 ]] {\r\n",
       "portout \"$result\" as E2  [[psysml:825b4193-3fd8-46d1-bb26-d00bcd83fe4c ]] \r\n",
       "rec usage \"test x\" as E3  <<(T,blue)decisionNode>> [[psysml:6589aa4e-efab-4688-8327-f7f10099d134 ]] {\r\n",
       "}\r\n",
       "\r\n",
       "{\r\n",
       "portout \"$result\" as E4  [[psysml:03222c0c-45fb-446a-ae55-be21a490ff21 ]] \r\n",
       "portin \"$x\" as E5  [[psysml:1f067476-7b6a-4ee1-8091-903eee6b057e ]] \r\n",
       "portin \"$y\" as E6  [[psysml:736be314-0092-4efe-9283-a3128e572984 ]] \r\n",
       "portout \"$result\" as E7  [[psysml:78a09776-ac9f-434e-8d68-d86bf1b46cb7 ]] \r\n",
       "}\r\n",
       "\r\n",
       "{\r\n",
       "portout \"$result\" as E8  [[psysml:1aa891c2-82c1-43c8-8c92-2c9f46284f3f ]] \r\n",
       "portin \"$x\" as E9  [[psysml:41e20081-729f-43ab-b2b2-e475cbaa33cc ]] \r\n",
       "portin \"$y\" as E10  [[psysml:dd685822-7c1a-40d9-ad47-98988f0eab95 ]] \r\n",
       "portout \"$result\" as E11  [[psysml:ff30ef21-37bb-4366-a828-82b307802d91 ]] \r\n",
       "}\r\n",
       "\r\n",
       "{\r\n",
       "}\r\n",
       "\r\n",
       "{\r\n",
       "}\r\n",
       "\r\n",
       "{\r\n",
       "portout \"$result\" as E12  [[psysml:8acd1d71-26f3-4979-a604-5454cd234d07 ]] \r\n",
       "}\r\n",
       "\r\n",
       "{\r\n",
       "portout \"$result\" as E13  [[psysml:63187c6a-fa39-44bf-bd7b-baf836477136 ]] \r\n",
       "}\r\n",
       "\r\n",
       "rec usage \"A1\" as E14  <<(T,blue)action>> [[psysml:edf3151a-ea9a-49ab-905b-cac4748fa5cc ]] {\r\n",
       "}\r\n",
       "\r\n",
       "rec usage \"A2\" as E15  <<(T,blue)action>> [[psysml:3bd22752-b66f-42f0-9d88-956d01e987e1 ]] {\r\n",
       "}\r\n",
       "\r\n",
       "rec usage \"A3\" as E16  <<(T,blue)action>> [[psysml:809db6ec-9b23-4a20-a88e-0d707c026938 ]] {\r\n",
       "}\r\n",
       "\r\n",
       "rec usage \"S\" as E17  <<(T,blue)transition>> [[psysml:a1b52494-6c64-4433-870a-8c0c85f99588 ]] {\r\n",
       "rec usage \"A1\" as E18  <<(T,blue)action>> [[psysml:edf3151a-ea9a-49ab-905b-cac4748fa5cc ]] {\r\n",
       "}\r\n",
       "\r\n",
       "portout \"$result\" as E19  [[psysml:83f97503-27b8-4c10-a73e-d48c1a1b0911 ]] \r\n",
       "portin \"$x\" as E20  [[psysml:e039d1a4-e758-4cd1-b4b1-86e00270305d ]] \r\n",
       "portin \"$y\" as E21  [[psysml:0ebe1437-9ca5-4e09-9c89-2871c656e01e ]] \r\n",
       "portout \"$result\" as E22  [[psysml:95821532-07e2-4186-9bf5-2609b2b64808 ]] \r\n",
       "}\r\n",
       "\r\n",
       "rec usage \"A3\" as E23  <<(T,blue)action>> [[psysml:809db6ec-9b23-4a20-a88e-0d707c026938 ]] {\r\n",
       "}\r\n",
       "\r\n",
       "{\r\n",
       "portout \"$result\" as E24  [[psysml:29148d4a-85a5-459a-9935-db0d3e40f70f ]] \r\n",
       "portin \"$x\" as E25  [[psysml:c7cbf43b-156f-4fe1-932e-97acf8076a48 ]] \r\n",
       "portin \"$y\" as E26  [[psysml:d0e5218c-e833-4bf8-9c85-b0218eb0cb1f ]] \r\n",
       "portout \"$result\" as E27  [[psysml:f639559e-0e7a-4e62-b0cf-c675de4db47c ]] \r\n",
       "}\r\n",
       "\r\n",
       "}\r\n",
       "\r\n",
       "E6 -[thickness=5]- E4 [[psysml:5d6d5b38-9fc5-4e3a-9cb6-5e1ffd055c15 ]] \r\n",
       "E10 -[thickness=5]- E8 [[psysml:187378d7-d664-45d6-a81d-c8b3dbc9d7af ]] \r\n",
       "E21 -[thickness=5]- E19 [[psysml:b7ca4d72-a9f0-45a9-981c-6f89250d77d4 ]] \r\n",
       "E26 -[thickness=5]- E24 [[psysml:73bf4527-0e11-4058-a3d3-ef7c36e23adf ]] \r\n",
       "@enduml\r\n",
       "\n",
       "PlantUML version 1.2020.13(Sat Jun 13 12:26:38 UTC 2020)\n",
       "(EPL source distribution)\n",
       "Java Runtime: OpenJDK Runtime Environment\n",
       "JVM: OpenJDK 64-Bit Server VM\n",
       "Default Encoding: UTF-8\n",
       "Language: en\n",
       "Country: null\n",
       "--></g></svg>"
      ]
     },
     "execution_count": 50,
     "metadata": {},
     "output_type": "execute_result"
    }
   ],
   "source": [
    "%viz --style=\"TB\" --view=\"MIXED\" \"DecisionTest\""
   ]
  },
  {
   "cell_type": "code",
   "execution_count": 51,
   "id": "personalized-telling",
   "metadata": {
    "execution": {
     "iopub.execute_input": "2021-03-26T09:14:07.878727Z",
     "iopub.status.busy": "2021-03-26T09:14:07.878355Z",
     "iopub.status.idle": "2021-03-26T09:14:07.890748Z",
     "shell.execute_reply": "2021-03-26T09:14:07.889294Z"
    }
   },
   "outputs": [
    {
     "data": {
      "image/svg+xml": [
       "<?xml version=\"1.0\" encoding=\"UTF-8\" standalone=\"no\"?><svg xmlns=\"http://www.w3.org/2000/svg\" xmlns:xlink=\"http://www.w3.org/1999/xlink\" contentScriptType=\"application/ecmascript\" contentStyleType=\"text/css\" height=\"288px\" preserveAspectRatio=\"none\" style=\"width:873px;height:288px;background:#000000;\" version=\"1.1\" viewBox=\"0 0 873 288\" width=\"873px\" zoomAndPan=\"magnify\"><defs/><g><rect fill=\"#1A2500\" height=\"1\" style=\"stroke: #1A2500; stroke-width: 1.0;\" width=\"1\" x=\"0\" y=\"0\"/><rect fill=\"#33FF02\" height=\"21.2969\" style=\"stroke: #33FF02; stroke-width: 1.0;\" width=\"866\" x=\"5\" y=\"5\"/><text fill=\"#000000\" font-family=\"sans-serif\" font-size=\"14\" font-weight=\"bold\" lengthAdjust=\"spacingAndGlyphs\" textLength=\"178\" x=\"6\" y=\"20\">[From string (line 14) ]</text><text fill=\"#33FF02\" font-family=\"sans-serif\" font-size=\"14\" font-weight=\"bold\" lengthAdjust=\"spacingAndGlyphs\" textLength=\"0\" x=\"10\" y=\"40.2969\"/><text fill=\"#33FF02\" font-family=\"sans-serif\" font-size=\"14\" font-weight=\"bold\" lengthAdjust=\"spacingAndGlyphs\" textLength=\"79\" x=\"5\" y=\"56.5938\">@startuml</text><text fill=\"#33FF02\" font-family=\"sans-serif\" font-size=\"14\" font-weight=\"bold\" lengthAdjust=\"spacingAndGlyphs\" textLength=\"197\" x=\"5\" y=\"72.8906\">skinparam linetype ortho</text><text fill=\"#33FF02\" font-family=\"sans-serif\" font-size=\"14\" font-weight=\"bold\" lengthAdjust=\"spacingAndGlyphs\" textLength=\"228\" x=\"5\" y=\"89.1875\">skinparam monochrome true</text><text fill=\"#33FF02\" font-family=\"sans-serif\" font-size=\"14\" font-weight=\"bold\" lengthAdjust=\"spacingAndGlyphs\" textLength=\"309\" x=\"5\" y=\"105.4844\">skinparam classbackgroundcolor white</text><text fill=\"#33FF02\" font-family=\"sans-serif\" font-size=\"14\" font-weight=\"bold\" lengthAdjust=\"spacingAndGlyphs\" textLength=\"215\" x=\"5\" y=\"121.7813\">skinparam shadowing false</text><text fill=\"#33FF02\" font-family=\"sans-serif\" font-size=\"14\" font-weight=\"bold\" lengthAdjust=\"spacingAndGlyphs\" textLength=\"206\" x=\"5\" y=\"138.0781\">skinparam wrapWidth 300</text><text fill=\"#33FF02\" font-family=\"sans-serif\" font-size=\"14\" font-weight=\"bold\" lengthAdjust=\"spacingAndGlyphs\" textLength=\"82\" x=\"5\" y=\"154.375\">hide circle</text><text fill=\"#33FF02\" font-family=\"sans-serif\" font-size=\"14\" font-weight=\"bold\" lengthAdjust=\"spacingAndGlyphs\" textLength=\"0\" x=\"10\" y=\"170.6719\"/><text fill=\"#33FF02\" font-family=\"sans-serif\" font-size=\"14\" font-weight=\"bold\" lengthAdjust=\"spacingAndGlyphs\" textLength=\"866\" x=\"5\" y=\"186.9688\">rec def \"DecisionTest\" as E1  &lt;&lt;(T,blue)action def&gt;&gt; [[psysml:a611506a-05f4-4898-8d67-b23f8626d6c2 ]] {</text><text fill=\"#33FF02\" font-family=\"sans-serif\" font-size=\"14\" font-weight=\"bold\" lengthAdjust=\"spacingAndGlyphs\" textLength=\"615\" x=\"5\" y=\"203.2656\">portout \"$result\" as E2  [[psysml:825b4193-3fd8-46d1-bb26-d00bcd83fe4c ]]</text><text fill=\"#33FF02\" font-family=\"sans-serif\" font-size=\"14\" font-weight=\"bold\" lengthAdjust=\"spacingAndGlyphs\" textLength=\"855\" x=\"5\" y=\"219.5625\">rec usage \"test x\" as E3  &lt;&lt;(T,blue)decisionNode&gt;&gt; [[psysml:6589aa4e-efab-4688-8327-f7f10099d134 ]] {</text><text fill=\"#33FF02\" font-family=\"sans-serif\" font-size=\"14\" font-weight=\"bold\" lengthAdjust=\"spacingAndGlyphs\" textLength=\"10\" x=\"5\" y=\"235.8594\">}</text><text fill=\"#33FF02\" font-family=\"sans-serif\" font-size=\"14\" font-weight=\"bold\" lengthAdjust=\"spacingAndGlyphs\" textLength=\"0\" x=\"10\" y=\"252.1563\"/><text fill=\"#33FF02\" font-family=\"sans-serif\" font-size=\"14\" font-weight=\"bold\" lengthAdjust=\"spacingAndGlyphs\" textLength=\"10\" x=\"5\" y=\"268.4531\">{</text><text fill=\"#FF0000\" font-family=\"sans-serif\" font-size=\"14\" font-weight=\"bold\" lengthAdjust=\"spacingAndGlyphs\" textLength=\"106\" x=\"10\" y=\"284.75\">Syntax Error?</text><!--MD5=[a12b39daa83cbfcb5e0c0094318c8b73]\n",
       "@startuml\r\n",
       "skinparam linetype ortho\r\n",
       "skinparam monochrome true\r\n",
       "skinparam classbackgroundcolor white\r\n",
       "skinparam shadowing false\r\n",
       "skinparam wrapWidth 300\r\n",
       "hide circle\r\n",
       "\r\n",
       "rec def \"DecisionTest\" as E1  <<(T,blue)action def>> [[psysml:a611506a-05f4-4898-8d67-b23f8626d6c2 ]] {\r\n",
       "portout \"$result\" as E2  [[psysml:825b4193-3fd8-46d1-bb26-d00bcd83fe4c ]] \r\n",
       "rec usage \"test x\" as E3  <<(T,blue)decisionNode>> [[psysml:6589aa4e-efab-4688-8327-f7f10099d134 ]] {\r\n",
       "}\r\n",
       "\r\n",
       "{\r\n",
       "portout \"$result\" as E4  [[psysml:03222c0c-45fb-446a-ae55-be21a490ff21 ]] \r\n",
       "portin \"$x\" as E5  [[psysml:1f067476-7b6a-4ee1-8091-903eee6b057e ]] \r\n",
       "portin \"$y\" as E6  [[psysml:736be314-0092-4efe-9283-a3128e572984 ]] \r\n",
       "portout \"$result\" as E7  [[psysml:78a09776-ac9f-434e-8d68-d86bf1b46cb7 ]] \r\n",
       "}\r\n",
       "\r\n",
       "{\r\n",
       "portout \"$result\" as E8  [[psysml:1aa891c2-82c1-43c8-8c92-2c9f46284f3f ]] \r\n",
       "portin \"$x\" as E9  [[psysml:41e20081-729f-43ab-b2b2-e475cbaa33cc ]] \r\n",
       "portin \"$y\" as E10  [[psysml:dd685822-7c1a-40d9-ad47-98988f0eab95 ]] \r\n",
       "portout \"$result\" as E11  [[psysml:ff30ef21-37bb-4366-a828-82b307802d91 ]] \r\n",
       "}\r\n",
       "\r\n",
       "{\r\n",
       "}\r\n",
       "\r\n",
       "{\r\n",
       "}\r\n",
       "\r\n",
       "{\r\n",
       "portout \"$result\" as E12  [[psysml:8acd1d71-26f3-4979-a604-5454cd234d07 ]] \r\n",
       "}\r\n",
       "\r\n",
       "{\r\n",
       "portout \"$result\" as E13  [[psysml:63187c6a-fa39-44bf-bd7b-baf836477136 ]] \r\n",
       "}\r\n",
       "\r\n",
       "rec usage \"A1\" as E14  <<(T,blue)action>> [[psysml:edf3151a-ea9a-49ab-905b-cac4748fa5cc ]] {\r\n",
       "}\r\n",
       "\r\n",
       "rec usage \"A2\" as E15  <<(T,blue)action>> [[psysml:3bd22752-b66f-42f0-9d88-956d01e987e1 ]] {\r\n",
       "}\r\n",
       "\r\n",
       "rec usage \"A3\" as E16  <<(T,blue)action>> [[psysml:809db6ec-9b23-4a20-a88e-0d707c026938 ]] {\r\n",
       "}\r\n",
       "\r\n",
       "rec usage \"S\" as E17  <<(T,blue)transition>> [[psysml:a1b52494-6c64-4433-870a-8c0c85f99588 ]] {\r\n",
       "rec usage \"A1\" as E18  <<(T,blue)action>> [[psysml:edf3151a-ea9a-49ab-905b-cac4748fa5cc ]] {\r\n",
       "}\r\n",
       "\r\n",
       "portout \"$result\" as E19  [[psysml:83f97503-27b8-4c10-a73e-d48c1a1b0911 ]] \r\n",
       "portin \"$x\" as E20  [[psysml:e039d1a4-e758-4cd1-b4b1-86e00270305d ]] \r\n",
       "portin \"$y\" as E21  [[psysml:0ebe1437-9ca5-4e09-9c89-2871c656e01e ]] \r\n",
       "portout \"$result\" as E22  [[psysml:95821532-07e2-4186-9bf5-2609b2b64808 ]] \r\n",
       "}\r\n",
       "\r\n",
       "rec usage \"A3\" as E23  <<(T,blue)action>> [[psysml:809db6ec-9b23-4a20-a88e-0d707c026938 ]] {\r\n",
       "}\r\n",
       "\r\n",
       "{\r\n",
       "portout \"$result\" as E24  [[psysml:29148d4a-85a5-459a-9935-db0d3e40f70f ]] \r\n",
       "portin \"$x\" as E25  [[psysml:c7cbf43b-156f-4fe1-932e-97acf8076a48 ]] \r\n",
       "portin \"$y\" as E26  [[psysml:d0e5218c-e833-4bf8-9c85-b0218eb0cb1f ]] \r\n",
       "portout \"$result\" as E27  [[psysml:f639559e-0e7a-4e62-b0cf-c675de4db47c ]] \r\n",
       "}\r\n",
       "\r\n",
       "}\r\n",
       "\r\n",
       "E6 -[thickness=5]- E4 [[psysml:5d6d5b38-9fc5-4e3a-9cb6-5e1ffd055c15 ]] \r\n",
       "E10 -[thickness=5]- E8 [[psysml:187378d7-d664-45d6-a81d-c8b3dbc9d7af ]] \r\n",
       "E21 -[thickness=5]- E19 [[psysml:b7ca4d72-a9f0-45a9-981c-6f89250d77d4 ]] \r\n",
       "E26 -[thickness=5]- E24 [[psysml:73bf4527-0e11-4058-a3d3-ef7c36e23adf ]] \r\n",
       "@enduml\r\n",
       "\n",
       "PlantUML version 1.2020.13(Sat Jun 13 12:26:38 UTC 2020)\n",
       "(EPL source distribution)\n",
       "Java Runtime: OpenJDK Runtime Environment\n",
       "JVM: OpenJDK 64-Bit Server VM\n",
       "Default Encoding: UTF-8\n",
       "Language: en\n",
       "Country: null\n",
       "--></g></svg>"
      ]
     },
     "execution_count": 51,
     "metadata": {},
     "output_type": "execute_result"
    }
   ],
   "source": [
    "%viz --style=\"ORTHOLINE\" --view=\"Default\" \"DecisionTest\""
   ]
  },
  {
   "cell_type": "code",
   "execution_count": 52,
   "id": "attempted-coalition",
   "metadata": {
    "execution": {
     "iopub.execute_input": "2021-03-26T09:14:07.947649Z",
     "iopub.status.busy": "2021-03-26T09:14:07.947183Z",
     "iopub.status.idle": "2021-03-26T09:14:08.008445Z",
     "shell.execute_reply": "2021-03-26T09:14:08.008065Z"
    }
   },
   "outputs": [
    {
     "data": {
      "image/svg+xml": [
       "<?xml version=\"1.0\" encoding=\"UTF-8\" standalone=\"no\"?><svg xmlns=\"http://www.w3.org/2000/svg\" xmlns:xlink=\"http://www.w3.org/1999/xlink\" contentScriptType=\"application/ecmascript\" contentStyleType=\"text/css\" height=\"207px\" preserveAspectRatio=\"none\" style=\"width:109px;height:207px;\" version=\"1.1\" viewBox=\"0 0 109 207\" width=\"109px\" zoomAndPan=\"magnify\"><defs/><g><!--MD5=[43c9051892ef23e1a46a86907403d788]\n",
       "class E1--><a href=\"psysml:a611506a-05f4-4898-8d67-b23f8626d6c2\" target=\"_top\" title=\"psysml:a611506a-05f4-4898-8d67-b23f8626d6c2\" xlink:actuate=\"onRequest\" xlink:href=\"psysml:a611506a-05f4-4898-8d67-b23f8626d6c2\" xlink:show=\"new\" xlink:title=\"psysml:a611506a-05f4-4898-8d67-b23f8626d6c2\" xlink:type=\"simple\"><rect fill=\"#FFFFFF\" height=\"189.9844\" id=\"E1\" style=\"stroke: #383838; stroke-width: 1.5;\" width=\"91\" x=\"7\" y=\"7\"/><text fill=\"#000000\" font-family=\"sans-serif\" font-size=\"12\" font-style=\"italic\" lengthAdjust=\"spacingAndGlyphs\" textLength=\"77\" x=\"14\" y=\"23.1387\">«action def»</text><text fill=\"#000000\" font-family=\"sans-serif\" font-size=\"12\" lengthAdjust=\"spacingAndGlyphs\" textLength=\"80\" x=\"12.5\" y=\"37.1074\">DecisionTest</text><line style=\"stroke: #383838; stroke-width: 1.5;\" x1=\"8\" x2=\"97\" y1=\"44.9375\" y2=\"44.9375\"/><text fill=\"#000000\" font-family=\"sans-serif\" font-size=\"11\" lengthAdjust=\"spacingAndGlyphs\" textLength=\"6\" x=\"13\" y=\"75.9526\">x</text><line style=\"stroke: #383838; stroke-width: 1.0;\" x1=\"8\" x2=\"25\" y1=\"59.3398\" y2=\"59.3398\"/><text fill=\"#000000\" font-family=\"sans-serif\" font-size=\"11\" lengthAdjust=\"spacingAndGlyphs\" textLength=\"55\" x=\"25\" y=\"62.6479\">attributes</text><line style=\"stroke: #383838; stroke-width: 1.0;\" x1=\"80\" x2=\"97\" y1=\"59.3398\" y2=\"59.3398\"/><text fill=\"#000000\" font-family=\"sans-serif\" font-size=\"11\" lengthAdjust=\"spacingAndGlyphs\" textLength=\"14\" x=\"13\" y=\"105.562\">A1</text><text fill=\"#000000\" font-family=\"sans-serif\" font-size=\"11\" lengthAdjust=\"spacingAndGlyphs\" textLength=\"14\" x=\"13\" y=\"118.3667\">A2</text><text fill=\"#000000\" font-family=\"sans-serif\" font-size=\"11\" lengthAdjust=\"spacingAndGlyphs\" textLength=\"14\" x=\"13\" y=\"131.1714\">A3</text><line style=\"stroke: #383838; stroke-width: 1.0;\" x1=\"8\" x2=\"32\" y1=\"88.9492\" y2=\"88.9492\"/><text fill=\"#000000\" font-family=\"sans-serif\" font-size=\"11\" lengthAdjust=\"spacingAndGlyphs\" textLength=\"41\" x=\"32\" y=\"92.2573\">actions</text><line style=\"stroke: #383838; stroke-width: 1.0;\" x1=\"73\" x2=\"97\" y1=\"88.9492\" y2=\"88.9492\"/><text fill=\"#000000\" font-family=\"sans-serif\" font-size=\"11\" lengthAdjust=\"spacingAndGlyphs\" textLength=\"32\" x=\"13\" y=\"160.7808\">test x</text><line style=\"stroke: #383838; stroke-width: 1.0;\" x1=\"8\" x2=\"11\" y1=\"144.168\" y2=\"144.168\"/><text fill=\"#000000\" font-family=\"sans-serif\" font-size=\"11\" lengthAdjust=\"spacingAndGlyphs\" textLength=\"83\" x=\"11\" y=\"147.4761\">decisionNodes</text><line style=\"stroke: #383838; stroke-width: 1.0;\" x1=\"94\" x2=\"97\" y1=\"144.168\" y2=\"144.168\"/><text fill=\"#000000\" font-family=\"sans-serif\" font-size=\"11\" lengthAdjust=\"spacingAndGlyphs\" textLength=\"8\" x=\"13\" y=\"190.3901\">S</text><line style=\"stroke: #383838; stroke-width: 1.0;\" x1=\"8\" x2=\"22\" y1=\"173.7773\" y2=\"173.7773\"/><text fill=\"#000000\" font-family=\"sans-serif\" font-size=\"11\" lengthAdjust=\"spacingAndGlyphs\" textLength=\"61\" x=\"22\" y=\"177.0854\">transitions</text><line style=\"stroke: #383838; stroke-width: 1.0;\" x1=\"83\" x2=\"97\" y1=\"173.7773\" y2=\"173.7773\"/></a><!--MD5=[783d85aac43ab4bc09b701c85b80a191]\n",
       "@startuml\r\n",
       "skinparam linetype ortho\r\n",
       "skinparam monochrome true\r\n",
       "skinparam classbackgroundcolor white\r\n",
       "skinparam shadowing false\r\n",
       "skinparam wrapWidth 300\r\n",
       "hide circle\r\n",
       "\r\n",
       "comp def \"DecisionTest\" as E1  <<(T,blue)action def>> [[psysml:a611506a-05f4-4898-8d67-b23f8626d6c2 ]] {\r\n",
       "- - attributes - -\r\n",
       "x\r\n",
       "- - actions - -\r\n",
       "A1\r\n",
       "A2\r\n",
       "A3\r\n",
       "- - decisionNodes - -\r\n",
       "test x\r\n",
       "- - transitions - -\r\n",
       "S\r\n",
       "}\r\n",
       "@enduml\r\n",
       "\n",
       "PlantUML version 1.2020.13(Sat Jun 13 12:26:38 UTC 2020)\n",
       "(EPL source distribution)\n",
       "Java Runtime: OpenJDK Runtime Environment\n",
       "JVM: OpenJDK 64-Bit Server VM\n",
       "Default Encoding: UTF-8\n",
       "Language: en\n",
       "Country: null\n",
       "--></g></svg>"
      ]
     },
     "execution_count": 52,
     "metadata": {},
     "output_type": "execute_result"
    }
   ],
   "source": [
    "%viz --style=\"ORTHOLINE\" --view=\"Tree\" \"DecisionTest\""
   ]
  },
  {
   "cell_type": "code",
   "execution_count": 53,
   "id": "constitutional-subscriber",
   "metadata": {
    "execution": {
     "iopub.execute_input": "2021-03-26T09:14:08.060669Z",
     "iopub.status.busy": "2021-03-26T09:14:08.059935Z",
     "iopub.status.idle": "2021-03-26T09:14:08.082150Z",
     "shell.execute_reply": "2021-03-26T09:14:08.082480Z"
    }
   },
   "outputs": [
    {
     "data": {
      "image/svg+xml": [
       "<?xml version=\"1.0\" encoding=\"UTF-8\" standalone=\"no\"?><svg xmlns=\"http://www.w3.org/2000/svg\" xmlns:xlink=\"http://www.w3.org/1999/xlink\" contentScriptType=\"application/ecmascript\" contentStyleType=\"text/css\" height=\"12px\" preserveAspectRatio=\"none\" style=\"width:12px;height:12px;\" version=\"1.1\" viewBox=\"0 0 12 12\" width=\"12px\" zoomAndPan=\"magnify\"><defs/><g><!--MD5=[97d6f38768b311333d388e66b2b27985]\n",
       "@startuml\r\n",
       "skinparam linetype ortho\r\n",
       "skinparam monochrome true\r\n",
       "skinparam classbackgroundcolor white\r\n",
       "skinparam shadowing false\r\n",
       "skinparam wrapWidth 300\r\n",
       "hide circle\r\n",
       "\r\n",
       "@enduml\r\n",
       "\n",
       "PlantUML version 1.2020.13(Sat Jun 13 12:26:38 UTC 2020)\n",
       "(EPL source distribution)\n",
       "Java Runtime: OpenJDK Runtime Environment\n",
       "JVM: OpenJDK 64-Bit Server VM\n",
       "Default Encoding: UTF-8\n",
       "Language: en\n",
       "Country: null\n",
       "--></g></svg>"
      ]
     },
     "execution_count": 53,
     "metadata": {},
     "output_type": "execute_result"
    }
   ],
   "source": [
    "%viz --style=\"ORTHOLINE\" --view=\"State\" \"DecisionTest\""
   ]
  },
  {
   "cell_type": "code",
   "execution_count": 54,
   "id": "external-narrative",
   "metadata": {
    "execution": {
     "iopub.execute_input": "2021-03-26T09:14:08.134823Z",
     "iopub.status.busy": "2021-03-26T09:14:08.134303Z",
     "iopub.status.idle": "2021-03-26T09:14:08.142875Z",
     "shell.execute_reply": "2021-03-26T09:14:08.143300Z"
    }
   },
   "outputs": [
    {
     "data": {
      "image/svg+xml": [
       "<?xml version=\"1.0\" encoding=\"UTF-8\" standalone=\"no\"?><svg xmlns=\"http://www.w3.org/2000/svg\" xmlns:xlink=\"http://www.w3.org/1999/xlink\" contentScriptType=\"application/ecmascript\" contentStyleType=\"text/css\" height=\"71px\" preserveAspectRatio=\"none\" style=\"width:145px;height:71px;\" version=\"1.1\" viewBox=\"0 0 145 71\" width=\"145px\" zoomAndPan=\"magnify\"><defs/><g><!--MD5=[43c9051892ef23e1a46a86907403d788]\n",
       "class E1--><a href=\"psysml:a611506a-05f4-4898-8d67-b23f8626d6c2\" target=\"_top\" title=\"psysml:a611506a-05f4-4898-8d67-b23f8626d6c2\" xlink:actuate=\"onRequest\" xlink:href=\"psysml:a611506a-05f4-4898-8d67-b23f8626d6c2\" xlink:show=\"new\" xlink:title=\"psysml:a611506a-05f4-4898-8d67-b23f8626d6c2\" xlink:type=\"simple\"><rect fill=\"#FFFFFF\" height=\"53.9375\" id=\"E1\" style=\"stroke: #383838; stroke-width: 1.5;\" width=\"127\" x=\"7\" y=\"7\"/><text fill=\"#000000\" font-family=\"sans-serif\" font-size=\"12\" font-style=\"italic\" lengthAdjust=\"spacingAndGlyphs\" textLength=\"125\" x=\"8\" y=\"23.1387\">«(T,blue)action def»</text><text fill=\"#000000\" font-family=\"sans-serif\" font-size=\"12\" lengthAdjust=\"spacingAndGlyphs\" textLength=\"80\" x=\"30.5\" y=\"37.1074\">DecisionTest</text><line style=\"stroke: #383838; stroke-width: 1.5;\" x1=\"8\" x2=\"133\" y1=\"44.9375\" y2=\"44.9375\"/><line style=\"stroke: #383838; stroke-width: 1.5;\" x1=\"8\" x2=\"133\" y1=\"52.9375\" y2=\"52.9375\"/></a><!--MD5=[432447427a2d012e1a22ea0dd840eab0]\n",
       "@startuml\r\n",
       "skinparam ranksep 8\r\n",
       "skinparam rectangle {\r\n",
       " backgroundColor<<block>> LightGreen\r\n",
       "}\r\n",
       "skinparam linetype ortho\r\n",
       "skinparam monochrome true\r\n",
       "skinparam classbackgroundcolor white\r\n",
       "skinparam shadowing false\r\n",
       "skinparam wrapWidth 300\r\n",
       "hide circle\r\n",
       "\r\n",
       "def \"DecisionTest\" as E1  <<(T,blue)action def>> [[psysml:a611506a-05f4-4898-8d67-b23f8626d6c2 ]] \r\n",
       "@enduml\r\n",
       "\n",
       "PlantUML version 1.2020.13(Sat Jun 13 12:26:38 UTC 2020)\n",
       "(EPL source distribution)\n",
       "Java Runtime: OpenJDK Runtime Environment\n",
       "JVM: OpenJDK 64-Bit Server VM\n",
       "Default Encoding: UTF-8\n",
       "Language: en\n",
       "Country: null\n",
       "--></g></svg>"
      ]
     },
     "execution_count": 54,
     "metadata": {},
     "output_type": "execute_result"
    }
   ],
   "source": [
    "%viz --style=\"ORTHOLINE\" --view=\"Interconnection\" \"DecisionTest\""
   ]
  },
  {
   "cell_type": "code",
   "execution_count": 55,
   "id": "challenging-stability",
   "metadata": {
    "execution": {
     "iopub.execute_input": "2021-03-26T09:14:08.195329Z",
     "iopub.status.busy": "2021-03-26T09:14:08.194643Z",
     "iopub.status.idle": "2021-03-26T09:14:08.205909Z",
     "shell.execute_reply": "2021-03-26T09:14:08.206262Z"
    }
   },
   "outputs": [
    {
     "data": {
      "image/svg+xml": [
       "<?xml version=\"1.0\" encoding=\"UTF-8\" standalone=\"no\"?><svg xmlns=\"http://www.w3.org/2000/svg\" xmlns:xlink=\"http://www.w3.org/1999/xlink\" contentScriptType=\"application/ecmascript\" contentStyleType=\"text/css\" height=\"304px\" preserveAspectRatio=\"none\" style=\"width:873px;height:304px;background:#000000;\" version=\"1.1\" viewBox=\"0 0 873 304\" width=\"873px\" zoomAndPan=\"magnify\"><defs/><g><rect fill=\"#222624\" height=\"1\" style=\"stroke: #222624; stroke-width: 1.0;\" width=\"1\" x=\"0\" y=\"0\"/><rect fill=\"#33FF02\" height=\"21.2969\" style=\"stroke: #33FF02; stroke-width: 1.0;\" width=\"866\" x=\"5\" y=\"5\"/><text fill=\"#000000\" font-family=\"sans-serif\" font-size=\"14\" font-weight=\"bold\" lengthAdjust=\"spacingAndGlyphs\" textLength=\"178\" x=\"6\" y=\"20\">[From string (line 15) ]</text><text fill=\"#33FF02\" font-family=\"sans-serif\" font-size=\"14\" font-weight=\"bold\" lengthAdjust=\"spacingAndGlyphs\" textLength=\"0\" x=\"10\" y=\"40.2969\"/><text fill=\"#33FF02\" font-family=\"sans-serif\" font-size=\"14\" font-weight=\"bold\" lengthAdjust=\"spacingAndGlyphs\" textLength=\"79\" x=\"5\" y=\"56.5938\">@startuml</text><text fill=\"#33FF02\" font-family=\"sans-serif\" font-size=\"14\" font-weight=\"bold\" lengthAdjust=\"spacingAndGlyphs\" textLength=\"165\" x=\"5\" y=\"72.8906\">skinparam ranksep 8</text><text fill=\"#33FF02\" font-family=\"sans-serif\" font-size=\"14\" font-weight=\"bold\" lengthAdjust=\"spacingAndGlyphs\" textLength=\"197\" x=\"5\" y=\"89.1875\">skinparam linetype ortho</text><text fill=\"#33FF02\" font-family=\"sans-serif\" font-size=\"14\" font-weight=\"bold\" lengthAdjust=\"spacingAndGlyphs\" textLength=\"228\" x=\"5\" y=\"105.4844\">skinparam monochrome true</text><text fill=\"#33FF02\" font-family=\"sans-serif\" font-size=\"14\" font-weight=\"bold\" lengthAdjust=\"spacingAndGlyphs\" textLength=\"309\" x=\"5\" y=\"121.7813\">skinparam classbackgroundcolor white</text><text fill=\"#33FF02\" font-family=\"sans-serif\" font-size=\"14\" font-weight=\"bold\" lengthAdjust=\"spacingAndGlyphs\" textLength=\"215\" x=\"5\" y=\"138.0781\">skinparam shadowing false</text><text fill=\"#33FF02\" font-family=\"sans-serif\" font-size=\"14\" font-weight=\"bold\" lengthAdjust=\"spacingAndGlyphs\" textLength=\"206\" x=\"5\" y=\"154.375\">skinparam wrapWidth 300</text><text fill=\"#33FF02\" font-family=\"sans-serif\" font-size=\"14\" font-weight=\"bold\" lengthAdjust=\"spacingAndGlyphs\" textLength=\"82\" x=\"5\" y=\"170.6719\">hide circle</text><text fill=\"#33FF02\" font-family=\"sans-serif\" font-size=\"14\" font-weight=\"bold\" lengthAdjust=\"spacingAndGlyphs\" textLength=\"0\" x=\"10\" y=\"186.9688\"/><text fill=\"#33FF02\" font-family=\"sans-serif\" font-size=\"14\" font-weight=\"bold\" lengthAdjust=\"spacingAndGlyphs\" textLength=\"866\" x=\"5\" y=\"203.2656\">rec def \"DecisionTest\" as E1  &lt;&lt;(T,blue)action def&gt;&gt; [[psysml:a611506a-05f4-4898-8d67-b23f8626d6c2 ]] {</text><text fill=\"#33FF02\" font-family=\"sans-serif\" font-size=\"14\" font-weight=\"bold\" lengthAdjust=\"spacingAndGlyphs\" textLength=\"615\" x=\"5\" y=\"219.5625\">portout \"$result\" as E2  [[psysml:825b4193-3fd8-46d1-bb26-d00bcd83fe4c ]]</text><text fill=\"#33FF02\" font-family=\"sans-serif\" font-size=\"14\" font-weight=\"bold\" lengthAdjust=\"spacingAndGlyphs\" textLength=\"855\" x=\"5\" y=\"235.8594\">rec usage \"test x\" as E3  &lt;&lt;(T,blue)decisionNode&gt;&gt; [[psysml:6589aa4e-efab-4688-8327-f7f10099d134 ]] {</text><text fill=\"#33FF02\" font-family=\"sans-serif\" font-size=\"14\" font-weight=\"bold\" lengthAdjust=\"spacingAndGlyphs\" textLength=\"10\" x=\"5\" y=\"252.1563\">}</text><text fill=\"#33FF02\" font-family=\"sans-serif\" font-size=\"14\" font-weight=\"bold\" lengthAdjust=\"spacingAndGlyphs\" textLength=\"0\" x=\"10\" y=\"268.4531\"/><text fill=\"#33FF02\" font-family=\"sans-serif\" font-size=\"14\" font-weight=\"bold\" lengthAdjust=\"spacingAndGlyphs\" textLength=\"10\" x=\"5\" y=\"284.75\">{</text><text fill=\"#FF0000\" font-family=\"sans-serif\" font-size=\"14\" font-weight=\"bold\" lengthAdjust=\"spacingAndGlyphs\" textLength=\"106\" x=\"10\" y=\"301.0469\">Syntax Error?</text><!--MD5=[35d2542af01870f1d5c816ce02791d21]\n",
       "@startuml\r\n",
       "skinparam ranksep 8\r\n",
       "skinparam linetype ortho\r\n",
       "skinparam monochrome true\r\n",
       "skinparam classbackgroundcolor white\r\n",
       "skinparam shadowing false\r\n",
       "skinparam wrapWidth 300\r\n",
       "hide circle\r\n",
       "\r\n",
       "rec def \"DecisionTest\" as E1  <<(T,blue)action def>> [[psysml:a611506a-05f4-4898-8d67-b23f8626d6c2 ]] {\r\n",
       "portout \"$result\" as E2  [[psysml:825b4193-3fd8-46d1-bb26-d00bcd83fe4c ]] \r\n",
       "rec usage \"test x\" as E3  <<(T,blue)decisionNode>> [[psysml:6589aa4e-efab-4688-8327-f7f10099d134 ]] {\r\n",
       "}\r\n",
       "\r\n",
       "{\r\n",
       "portout \"$result\" as E4  [[psysml:03222c0c-45fb-446a-ae55-be21a490ff21 ]] \r\n",
       "portin \"$x\" as E5  [[psysml:1f067476-7b6a-4ee1-8091-903eee6b057e ]] \r\n",
       "portin \"$y\" as E6  [[psysml:736be314-0092-4efe-9283-a3128e572984 ]] \r\n",
       "portout \"$result\" as E7  [[psysml:78a09776-ac9f-434e-8d68-d86bf1b46cb7 ]] \r\n",
       "}\r\n",
       "\r\n",
       "{\r\n",
       "portout \"$result\" as E8  [[psysml:1aa891c2-82c1-43c8-8c92-2c9f46284f3f ]] \r\n",
       "portin \"$x\" as E9  [[psysml:41e20081-729f-43ab-b2b2-e475cbaa33cc ]] \r\n",
       "portin \"$y\" as E10  [[psysml:dd685822-7c1a-40d9-ad47-98988f0eab95 ]] \r\n",
       "portout \"$result\" as E11  [[psysml:ff30ef21-37bb-4366-a828-82b307802d91 ]] \r\n",
       "}\r\n",
       "\r\n",
       "{\r\n",
       "}\r\n",
       "\r\n",
       "{\r\n",
       "}\r\n",
       "\r\n",
       "{\r\n",
       "portout \"$result\" as E12  [[psysml:8acd1d71-26f3-4979-a604-5454cd234d07 ]] \r\n",
       "}\r\n",
       "\r\n",
       "{\r\n",
       "portout \"$result\" as E13  [[psysml:63187c6a-fa39-44bf-bd7b-baf836477136 ]] \r\n",
       "}\r\n",
       "\r\n",
       "rec usage \"A1\" as E14  <<(T,blue)action>> [[psysml:edf3151a-ea9a-49ab-905b-cac4748fa5cc ]] {\r\n",
       "}\r\n",
       "\r\n",
       "rec usage \"A2\" as E15  <<(T,blue)action>> [[psysml:3bd22752-b66f-42f0-9d88-956d01e987e1 ]] {\r\n",
       "}\r\n",
       "\r\n",
       "rec usage \"A3\" as E16  <<(T,blue)action>> [[psysml:809db6ec-9b23-4a20-a88e-0d707c026938 ]] {\r\n",
       "}\r\n",
       "\r\n",
       "rec usage \"S\" as E17  <<(T,blue)transition>> [[psysml:a1b52494-6c64-4433-870a-8c0c85f99588 ]] {\r\n",
       "rec usage \"A1\" as E18  <<(T,blue)action>> [[psysml:edf3151a-ea9a-49ab-905b-cac4748fa5cc ]] {\r\n",
       "}\r\n",
       "\r\n",
       "portout \"$result\" as E19  [[psysml:83f97503-27b8-4c10-a73e-d48c1a1b0911 ]] \r\n",
       "portin \"$x\" as E20  [[psysml:e039d1a4-e758-4cd1-b4b1-86e00270305d ]] \r\n",
       "portin \"$y\" as E21  [[psysml:0ebe1437-9ca5-4e09-9c89-2871c656e01e ]] \r\n",
       "portout \"$result\" as E22  [[psysml:95821532-07e2-4186-9bf5-2609b2b64808 ]] \r\n",
       "}\r\n",
       "\r\n",
       "rec usage \"A3\" as E23  <<(T,blue)action>> [[psysml:809db6ec-9b23-4a20-a88e-0d707c026938 ]] {\r\n",
       "}\r\n",
       "\r\n",
       "{\r\n",
       "portout \"$result\" as E24  [[psysml:29148d4a-85a5-459a-9935-db0d3e40f70f ]] \r\n",
       "portin \"$x\" as E25  [[psysml:c7cbf43b-156f-4fe1-932e-97acf8076a48 ]] \r\n",
       "portin \"$y\" as E26  [[psysml:d0e5218c-e833-4bf8-9c85-b0218eb0cb1f ]] \r\n",
       "portout \"$result\" as E27  [[psysml:f639559e-0e7a-4e62-b0cf-c675de4db47c ]] \r\n",
       "}\r\n",
       "\r\n",
       "}\r\n",
       "\r\n",
       "E6 -[thickness=5]- E4 [[psysml:5d6d5b38-9fc5-4e3a-9cb6-5e1ffd055c15 ]] \r\n",
       "E10 -[thickness=5]- E8 [[psysml:187378d7-d664-45d6-a81d-c8b3dbc9d7af ]] \r\n",
       "E21 -[thickness=5]- E19 [[psysml:b7ca4d72-a9f0-45a9-981c-6f89250d77d4 ]] \r\n",
       "E26 -[thickness=5]- E24 [[psysml:73bf4527-0e11-4058-a3d3-ef7c36e23adf ]] \r\n",
       "@enduml\r\n",
       "\n",
       "PlantUML version 1.2020.13(Sat Jun 13 12:26:38 UTC 2020)\n",
       "(EPL source distribution)\n",
       "Java Runtime: OpenJDK Runtime Environment\n",
       "JVM: OpenJDK 64-Bit Server VM\n",
       "Default Encoding: UTF-8\n",
       "Language: en\n",
       "Country: null\n",
       "--></g></svg>"
      ]
     },
     "execution_count": 55,
     "metadata": {},
     "output_type": "execute_result"
    }
   ],
   "source": [
    "%viz --style=\"ORTHOLINE\" --view=\"Action\" \"DecisionTest\""
   ]
  },
  {
   "cell_type": "code",
   "execution_count": 56,
   "id": "medical-jacksonville",
   "metadata": {
    "execution": {
     "iopub.execute_input": "2021-03-26T09:14:08.257829Z",
     "iopub.status.busy": "2021-03-26T09:14:08.257281Z",
     "iopub.status.idle": "2021-03-26T09:14:08.320964Z",
     "shell.execute_reply": "2021-03-26T09:14:08.320629Z"
    }
   },
   "outputs": [
    {
     "data": {
      "image/svg+xml": [
       "<?xml version=\"1.0\" encoding=\"UTF-8\" standalone=\"no\"?><svg xmlns=\"http://www.w3.org/2000/svg\" xmlns:xlink=\"http://www.w3.org/1999/xlink\" contentScriptType=\"application/ecmascript\" contentStyleType=\"text/css\" height=\"207px\" preserveAspectRatio=\"none\" style=\"width:109px;height:207px;\" version=\"1.1\" viewBox=\"0 0 109 207\" width=\"109px\" zoomAndPan=\"magnify\"><defs/><g><!--MD5=[43c9051892ef23e1a46a86907403d788]\n",
       "class E1--><a href=\"psysml:a611506a-05f4-4898-8d67-b23f8626d6c2\" target=\"_top\" title=\"psysml:a611506a-05f4-4898-8d67-b23f8626d6c2\" xlink:actuate=\"onRequest\" xlink:href=\"psysml:a611506a-05f4-4898-8d67-b23f8626d6c2\" xlink:show=\"new\" xlink:title=\"psysml:a611506a-05f4-4898-8d67-b23f8626d6c2\" xlink:type=\"simple\"><rect fill=\"#FFFFFF\" height=\"189.9844\" id=\"E1\" style=\"stroke: #383838; stroke-width: 1.5;\" width=\"91\" x=\"7\" y=\"7\"/><text fill=\"#000000\" font-family=\"sans-serif\" font-size=\"12\" font-style=\"italic\" lengthAdjust=\"spacingAndGlyphs\" textLength=\"77\" x=\"14\" y=\"23.1387\">«action def»</text><text fill=\"#000000\" font-family=\"sans-serif\" font-size=\"12\" lengthAdjust=\"spacingAndGlyphs\" textLength=\"80\" x=\"12.5\" y=\"37.1074\">DecisionTest</text><line style=\"stroke: #383838; stroke-width: 1.5;\" x1=\"8\" x2=\"97\" y1=\"44.9375\" y2=\"44.9375\"/><text fill=\"#000000\" font-family=\"sans-serif\" font-size=\"11\" lengthAdjust=\"spacingAndGlyphs\" textLength=\"6\" x=\"13\" y=\"75.9526\">x</text><line style=\"stroke: #383838; stroke-width: 1.0;\" x1=\"8\" x2=\"25\" y1=\"59.3398\" y2=\"59.3398\"/><text fill=\"#000000\" font-family=\"sans-serif\" font-size=\"11\" lengthAdjust=\"spacingAndGlyphs\" textLength=\"55\" x=\"25\" y=\"62.6479\">attributes</text><line style=\"stroke: #383838; stroke-width: 1.0;\" x1=\"80\" x2=\"97\" y1=\"59.3398\" y2=\"59.3398\"/><text fill=\"#000000\" font-family=\"sans-serif\" font-size=\"11\" lengthAdjust=\"spacingAndGlyphs\" textLength=\"14\" x=\"13\" y=\"105.562\">A1</text><text fill=\"#000000\" font-family=\"sans-serif\" font-size=\"11\" lengthAdjust=\"spacingAndGlyphs\" textLength=\"14\" x=\"13\" y=\"118.3667\">A2</text><text fill=\"#000000\" font-family=\"sans-serif\" font-size=\"11\" lengthAdjust=\"spacingAndGlyphs\" textLength=\"14\" x=\"13\" y=\"131.1714\">A3</text><line style=\"stroke: #383838; stroke-width: 1.0;\" x1=\"8\" x2=\"32\" y1=\"88.9492\" y2=\"88.9492\"/><text fill=\"#000000\" font-family=\"sans-serif\" font-size=\"11\" lengthAdjust=\"spacingAndGlyphs\" textLength=\"41\" x=\"32\" y=\"92.2573\">actions</text><line style=\"stroke: #383838; stroke-width: 1.0;\" x1=\"73\" x2=\"97\" y1=\"88.9492\" y2=\"88.9492\"/><text fill=\"#000000\" font-family=\"sans-serif\" font-size=\"11\" lengthAdjust=\"spacingAndGlyphs\" textLength=\"32\" x=\"13\" y=\"160.7808\">test x</text><line style=\"stroke: #383838; stroke-width: 1.0;\" x1=\"8\" x2=\"11\" y1=\"144.168\" y2=\"144.168\"/><text fill=\"#000000\" font-family=\"sans-serif\" font-size=\"11\" lengthAdjust=\"spacingAndGlyphs\" textLength=\"83\" x=\"11\" y=\"147.4761\">decisionNodes</text><line style=\"stroke: #383838; stroke-width: 1.0;\" x1=\"94\" x2=\"97\" y1=\"144.168\" y2=\"144.168\"/><text fill=\"#000000\" font-family=\"sans-serif\" font-size=\"11\" lengthAdjust=\"spacingAndGlyphs\" textLength=\"8\" x=\"13\" y=\"190.3901\">S</text><line style=\"stroke: #383838; stroke-width: 1.0;\" x1=\"8\" x2=\"22\" y1=\"173.7773\" y2=\"173.7773\"/><text fill=\"#000000\" font-family=\"sans-serif\" font-size=\"11\" lengthAdjust=\"spacingAndGlyphs\" textLength=\"61\" x=\"22\" y=\"177.0854\">transitions</text><line style=\"stroke: #383838; stroke-width: 1.0;\" x1=\"83\" x2=\"97\" y1=\"173.7773\" y2=\"173.7773\"/></a><!--MD5=[783d85aac43ab4bc09b701c85b80a191]\n",
       "@startuml\r\n",
       "skinparam linetype ortho\r\n",
       "skinparam monochrome true\r\n",
       "skinparam classbackgroundcolor white\r\n",
       "skinparam shadowing false\r\n",
       "skinparam wrapWidth 300\r\n",
       "hide circle\r\n",
       "\r\n",
       "comp def \"DecisionTest\" as E1  <<(T,blue)action def>> [[psysml:a611506a-05f4-4898-8d67-b23f8626d6c2 ]] {\r\n",
       "- - attributes - -\r\n",
       "x\r\n",
       "- - actions - -\r\n",
       "A1\r\n",
       "A2\r\n",
       "A3\r\n",
       "- - decisionNodes - -\r\n",
       "test x\r\n",
       "- - transitions - -\r\n",
       "S\r\n",
       "}\r\n",
       "@enduml\r\n",
       "\n",
       "PlantUML version 1.2020.13(Sat Jun 13 12:26:38 UTC 2020)\n",
       "(EPL source distribution)\n",
       "Java Runtime: OpenJDK Runtime Environment\n",
       "JVM: OpenJDK 64-Bit Server VM\n",
       "Default Encoding: UTF-8\n",
       "Language: en\n",
       "Country: null\n",
       "--></g></svg>"
      ]
     },
     "execution_count": 56,
     "metadata": {},
     "output_type": "execute_result"
    }
   ],
   "source": [
    "%viz --style=\"ORTHOLINE\" --view=\"Sequence\" \"DecisionTest\""
   ]
  },
  {
   "cell_type": "code",
   "execution_count": 57,
   "id": "corrected-crossing",
   "metadata": {
    "execution": {
     "iopub.execute_input": "2021-03-26T09:14:08.370868Z",
     "iopub.status.busy": "2021-03-26T09:14:08.370506Z",
     "iopub.status.idle": "2021-03-26T09:14:08.382914Z",
     "shell.execute_reply": "2021-03-26T09:14:08.381645Z"
    }
   },
   "outputs": [
    {
     "data": {
      "image/svg+xml": [
       "<?xml version=\"1.0\" encoding=\"UTF-8\" standalone=\"no\"?><svg xmlns=\"http://www.w3.org/2000/svg\" xmlns:xlink=\"http://www.w3.org/1999/xlink\" contentScriptType=\"application/ecmascript\" contentStyleType=\"text/css\" height=\"288px\" preserveAspectRatio=\"none\" style=\"width:873px;height:288px;background:#000000;\" version=\"1.1\" viewBox=\"0 0 873 288\" width=\"873px\" zoomAndPan=\"magnify\"><defs/><g><rect fill=\"#150C24\" height=\"1\" style=\"stroke: #150C24; stroke-width: 1.0;\" width=\"1\" x=\"0\" y=\"0\"/><rect fill=\"#33FF02\" height=\"21.2969\" style=\"stroke: #33FF02; stroke-width: 1.0;\" width=\"866\" x=\"5\" y=\"5\"/><text fill=\"#000000\" font-family=\"sans-serif\" font-size=\"14\" font-weight=\"bold\" lengthAdjust=\"spacingAndGlyphs\" textLength=\"178\" x=\"6\" y=\"20\">[From string (line 14) ]</text><text fill=\"#33FF02\" font-family=\"sans-serif\" font-size=\"14\" font-weight=\"bold\" lengthAdjust=\"spacingAndGlyphs\" textLength=\"0\" x=\"10\" y=\"40.2969\"/><text fill=\"#33FF02\" font-family=\"sans-serif\" font-size=\"14\" font-weight=\"bold\" lengthAdjust=\"spacingAndGlyphs\" textLength=\"79\" x=\"5\" y=\"56.5938\">@startuml</text><text fill=\"#33FF02\" font-family=\"sans-serif\" font-size=\"14\" font-weight=\"bold\" lengthAdjust=\"spacingAndGlyphs\" textLength=\"197\" x=\"5\" y=\"72.8906\">skinparam linetype ortho</text><text fill=\"#33FF02\" font-family=\"sans-serif\" font-size=\"14\" font-weight=\"bold\" lengthAdjust=\"spacingAndGlyphs\" textLength=\"228\" x=\"5\" y=\"89.1875\">skinparam monochrome true</text><text fill=\"#33FF02\" font-family=\"sans-serif\" font-size=\"14\" font-weight=\"bold\" lengthAdjust=\"spacingAndGlyphs\" textLength=\"309\" x=\"5\" y=\"105.4844\">skinparam classbackgroundcolor white</text><text fill=\"#33FF02\" font-family=\"sans-serif\" font-size=\"14\" font-weight=\"bold\" lengthAdjust=\"spacingAndGlyphs\" textLength=\"215\" x=\"5\" y=\"121.7813\">skinparam shadowing false</text><text fill=\"#33FF02\" font-family=\"sans-serif\" font-size=\"14\" font-weight=\"bold\" lengthAdjust=\"spacingAndGlyphs\" textLength=\"206\" x=\"5\" y=\"138.0781\">skinparam wrapWidth 300</text><text fill=\"#33FF02\" font-family=\"sans-serif\" font-size=\"14\" font-weight=\"bold\" lengthAdjust=\"spacingAndGlyphs\" textLength=\"82\" x=\"5\" y=\"154.375\">hide circle</text><text fill=\"#33FF02\" font-family=\"sans-serif\" font-size=\"14\" font-weight=\"bold\" lengthAdjust=\"spacingAndGlyphs\" textLength=\"0\" x=\"10\" y=\"170.6719\"/><text fill=\"#33FF02\" font-family=\"sans-serif\" font-size=\"14\" font-weight=\"bold\" lengthAdjust=\"spacingAndGlyphs\" textLength=\"866\" x=\"5\" y=\"186.9688\">rec def \"DecisionTest\" as E1  &lt;&lt;(T,blue)action def&gt;&gt; [[psysml:a611506a-05f4-4898-8d67-b23f8626d6c2 ]] {</text><text fill=\"#33FF02\" font-family=\"sans-serif\" font-size=\"14\" font-weight=\"bold\" lengthAdjust=\"spacingAndGlyphs\" textLength=\"615\" x=\"5\" y=\"203.2656\">portout \"$result\" as E2  [[psysml:825b4193-3fd8-46d1-bb26-d00bcd83fe4c ]]</text><text fill=\"#33FF02\" font-family=\"sans-serif\" font-size=\"14\" font-weight=\"bold\" lengthAdjust=\"spacingAndGlyphs\" textLength=\"855\" x=\"5\" y=\"219.5625\">rec usage \"test x\" as E3  &lt;&lt;(T,blue)decisionNode&gt;&gt; [[psysml:6589aa4e-efab-4688-8327-f7f10099d134 ]] {</text><text fill=\"#33FF02\" font-family=\"sans-serif\" font-size=\"14\" font-weight=\"bold\" lengthAdjust=\"spacingAndGlyphs\" textLength=\"10\" x=\"5\" y=\"235.8594\">}</text><text fill=\"#33FF02\" font-family=\"sans-serif\" font-size=\"14\" font-weight=\"bold\" lengthAdjust=\"spacingAndGlyphs\" textLength=\"0\" x=\"10\" y=\"252.1563\"/><text fill=\"#33FF02\" font-family=\"sans-serif\" font-size=\"14\" font-weight=\"bold\" lengthAdjust=\"spacingAndGlyphs\" textLength=\"10\" x=\"5\" y=\"268.4531\">{</text><text fill=\"#FF0000\" font-family=\"sans-serif\" font-size=\"14\" font-weight=\"bold\" lengthAdjust=\"spacingAndGlyphs\" textLength=\"106\" x=\"10\" y=\"284.75\">Syntax Error?</text><!--MD5=[a12b39daa83cbfcb5e0c0094318c8b73]\n",
       "@startuml\r\n",
       "skinparam linetype ortho\r\n",
       "skinparam monochrome true\r\n",
       "skinparam classbackgroundcolor white\r\n",
       "skinparam shadowing false\r\n",
       "skinparam wrapWidth 300\r\n",
       "hide circle\r\n",
       "\r\n",
       "rec def \"DecisionTest\" as E1  <<(T,blue)action def>> [[psysml:a611506a-05f4-4898-8d67-b23f8626d6c2 ]] {\r\n",
       "portout \"$result\" as E2  [[psysml:825b4193-3fd8-46d1-bb26-d00bcd83fe4c ]] \r\n",
       "rec usage \"test x\" as E3  <<(T,blue)decisionNode>> [[psysml:6589aa4e-efab-4688-8327-f7f10099d134 ]] {\r\n",
       "}\r\n",
       "\r\n",
       "{\r\n",
       "portout \"$result\" as E4  [[psysml:03222c0c-45fb-446a-ae55-be21a490ff21 ]] \r\n",
       "portin \"$x\" as E5  [[psysml:1f067476-7b6a-4ee1-8091-903eee6b057e ]] \r\n",
       "portin \"$y\" as E6  [[psysml:736be314-0092-4efe-9283-a3128e572984 ]] \r\n",
       "portout \"$result\" as E7  [[psysml:78a09776-ac9f-434e-8d68-d86bf1b46cb7 ]] \r\n",
       "}\r\n",
       "\r\n",
       "{\r\n",
       "portout \"$result\" as E8  [[psysml:1aa891c2-82c1-43c8-8c92-2c9f46284f3f ]] \r\n",
       "portin \"$x\" as E9  [[psysml:41e20081-729f-43ab-b2b2-e475cbaa33cc ]] \r\n",
       "portin \"$y\" as E10  [[psysml:dd685822-7c1a-40d9-ad47-98988f0eab95 ]] \r\n",
       "portout \"$result\" as E11  [[psysml:ff30ef21-37bb-4366-a828-82b307802d91 ]] \r\n",
       "}\r\n",
       "\r\n",
       "{\r\n",
       "}\r\n",
       "\r\n",
       "{\r\n",
       "}\r\n",
       "\r\n",
       "{\r\n",
       "portout \"$result\" as E12  [[psysml:8acd1d71-26f3-4979-a604-5454cd234d07 ]] \r\n",
       "}\r\n",
       "\r\n",
       "{\r\n",
       "portout \"$result\" as E13  [[psysml:63187c6a-fa39-44bf-bd7b-baf836477136 ]] \r\n",
       "}\r\n",
       "\r\n",
       "rec usage \"A1\" as E14  <<(T,blue)action>> [[psysml:edf3151a-ea9a-49ab-905b-cac4748fa5cc ]] {\r\n",
       "}\r\n",
       "\r\n",
       "rec usage \"A2\" as E15  <<(T,blue)action>> [[psysml:3bd22752-b66f-42f0-9d88-956d01e987e1 ]] {\r\n",
       "}\r\n",
       "\r\n",
       "rec usage \"A3\" as E16  <<(T,blue)action>> [[psysml:809db6ec-9b23-4a20-a88e-0d707c026938 ]] {\r\n",
       "}\r\n",
       "\r\n",
       "rec usage \"S\" as E17  <<(T,blue)transition>> [[psysml:a1b52494-6c64-4433-870a-8c0c85f99588 ]] {\r\n",
       "rec usage \"A1\" as E18  <<(T,blue)action>> [[psysml:edf3151a-ea9a-49ab-905b-cac4748fa5cc ]] {\r\n",
       "}\r\n",
       "\r\n",
       "portout \"$result\" as E19  [[psysml:83f97503-27b8-4c10-a73e-d48c1a1b0911 ]] \r\n",
       "portin \"$x\" as E20  [[psysml:e039d1a4-e758-4cd1-b4b1-86e00270305d ]] \r\n",
       "portin \"$y\" as E21  [[psysml:0ebe1437-9ca5-4e09-9c89-2871c656e01e ]] \r\n",
       "portout \"$result\" as E22  [[psysml:95821532-07e2-4186-9bf5-2609b2b64808 ]] \r\n",
       "}\r\n",
       "\r\n",
       "rec usage \"A3\" as E23  <<(T,blue)action>> [[psysml:809db6ec-9b23-4a20-a88e-0d707c026938 ]] {\r\n",
       "}\r\n",
       "\r\n",
       "{\r\n",
       "portout \"$result\" as E24  [[psysml:29148d4a-85a5-459a-9935-db0d3e40f70f ]] \r\n",
       "portin \"$x\" as E25  [[psysml:c7cbf43b-156f-4fe1-932e-97acf8076a48 ]] \r\n",
       "portin \"$y\" as E26  [[psysml:d0e5218c-e833-4bf8-9c85-b0218eb0cb1f ]] \r\n",
       "portout \"$result\" as E27  [[psysml:f639559e-0e7a-4e62-b0cf-c675de4db47c ]] \r\n",
       "}\r\n",
       "\r\n",
       "}\r\n",
       "\r\n",
       "E6 -[thickness=5]- E4 [[psysml:5d6d5b38-9fc5-4e3a-9cb6-5e1ffd055c15 ]] \r\n",
       "E10 -[thickness=5]- E8 [[psysml:187378d7-d664-45d6-a81d-c8b3dbc9d7af ]] \r\n",
       "E21 -[thickness=5]- E19 [[psysml:b7ca4d72-a9f0-45a9-981c-6f89250d77d4 ]] \r\n",
       "E26 -[thickness=5]- E24 [[psysml:73bf4527-0e11-4058-a3d3-ef7c36e23adf ]] \r\n",
       "@enduml\r\n",
       "\n",
       "PlantUML version 1.2020.13(Sat Jun 13 12:26:38 UTC 2020)\n",
       "(EPL source distribution)\n",
       "Java Runtime: OpenJDK Runtime Environment\n",
       "JVM: OpenJDK 64-Bit Server VM\n",
       "Default Encoding: UTF-8\n",
       "Language: en\n",
       "Country: null\n",
       "--></g></svg>"
      ]
     },
     "execution_count": 57,
     "metadata": {},
     "output_type": "execute_result"
    }
   ],
   "source": [
    "%viz --style=\"ORTHOLINE\" --view=\"MIXED\" \"DecisionTest\""
   ]
  }
 ],
 "metadata": {
  "kernelspec": {
   "display_name": "SysML",
   "language": "sysml",
   "name": "sysml"
  },
  "language_info": {
   "codemirror_mode": "sysml",
   "file_extension": ".sysml",
   "mimetype": "text/x-sysml",
   "name": "SysML",
   "pygments_lexer": "java",
   "version": "1.0.0"
  }
 },
 "nbformat": 4,
 "nbformat_minor": 5
}
