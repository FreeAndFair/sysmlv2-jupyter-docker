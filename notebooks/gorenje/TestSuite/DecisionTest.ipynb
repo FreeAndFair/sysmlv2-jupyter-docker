{
 "cells": [
  {
   "cell_type": "markdown",
   "id": "superior-forum",
   "metadata": {},
   "source": [
    "# SysML v2 Test Suite\n",
    "\n",
    "This can notebook can be cleared using menu `Edit --> Clear All Outputs` and then all cells can be\n",
    "run using menu `Run --> Run All Cells`.\n",
    "\n",
    "**WARNING**: This file is generated, all modifications here will be ignored.\n"
   ]
  },
  {
   "cell_type": "markdown",
   "id": "special-front",
   "metadata": {},
   "source": [
    "## File: ../../sysml/src/examples/Simple Tests/DecisionTest.sysml"
   ]
  },
  {
   "cell_type": "code",
   "execution_count": 1,
   "id": "enclosed-sense",
   "metadata": {
    "execution": {
     "iopub.execute_input": "2021-03-25T15:07:13.544252Z",
     "iopub.status.busy": "2021-03-25T15:07:13.539650Z",
     "iopub.status.idle": "2021-03-25T15:07:14.285310Z",
     "shell.execute_reply": "2021-03-25T15:07:14.284795Z"
    }
   },
   "outputs": [
    {
     "data": {
      "text/plain": [
       "ActionDefinition DecisionTest (a47a0dbc-f211-4c74-abad-edf43dd1d89e)\n"
      ]
     },
     "execution_count": 1,
     "metadata": {},
     "output_type": "execute_result"
    }
   ],
   "source": [
    "action def DecisionTest {\n",
    "\tattribute x = 1;\n",
    "\t\n",
    "\tdecide 'test x';\n",
    "\tif x == 1 then A1; \n",
    "\tif x > 1 then A2;\n",
    "\telse A3; \n",
    "\t\n",
    "\tthen decide; \n",
    "\tif true then A1;\n",
    "\tif false then A2;\n",
    "\t\n",
    "\taction A1;\n",
    "\taction A2;\n",
    "\taction A3;\n",
    "\t\n",
    "\tsuccession S first A1 \n",
    "\t\tif x == 0 then A2;\n",
    "\t\t\n",
    "\tfirst A3;\n",
    "\t\tif x > 0 then 'test x';\n",
    "}"
   ]
  },
  {
   "cell_type": "code",
   "execution_count": 2,
   "id": "coated-farmer",
   "metadata": {
    "execution": {
     "iopub.execute_input": "2021-03-25T15:07:14.337905Z",
     "iopub.status.busy": "2021-03-25T15:07:14.337288Z",
     "iopub.status.idle": "2021-03-25T15:07:15.429999Z",
     "shell.execute_reply": "2021-03-25T15:07:15.430447Z"
    }
   },
   "outputs": [
    {
     "data": {
      "image/svg+xml": [
       "<?xml version=\"1.0\" encoding=\"UTF-8\" standalone=\"no\"?><svg xmlns=\"http://www.w3.org/2000/svg\" xmlns:xlink=\"http://www.w3.org/1999/xlink\" contentScriptType=\"application/ecmascript\" contentStyleType=\"text/css\" height=\"190px\" preserveAspectRatio=\"none\" style=\"width:873px;height:190px;background:#000000;\" version=\"1.1\" viewBox=\"0 0 873 190\" width=\"873px\" zoomAndPan=\"magnify\"><defs/><g><rect fill=\"#210F01\" height=\"1\" style=\"stroke: #210F01; stroke-width: 1.0;\" width=\"1\" x=\"0\" y=\"0\"/><rect fill=\"#33FF02\" height=\"21.2969\" style=\"stroke: #33FF02; stroke-width: 1.0;\" width=\"866\" x=\"5\" y=\"5\"/><text fill=\"#000000\" font-family=\"sans-serif\" font-size=\"14\" font-weight=\"bold\" lengthAdjust=\"spacingAndGlyphs\" textLength=\"168\" x=\"6\" y=\"20\">[From string (line 8) ]</text><text fill=\"#33FF02\" font-family=\"sans-serif\" font-size=\"14\" font-weight=\"bold\" lengthAdjust=\"spacingAndGlyphs\" textLength=\"0\" x=\"10\" y=\"40.2969\"/><text fill=\"#33FF02\" font-family=\"sans-serif\" font-size=\"14\" font-weight=\"bold\" lengthAdjust=\"spacingAndGlyphs\" textLength=\"79\" x=\"5\" y=\"56.5938\">@startuml</text><text fill=\"#33FF02\" font-family=\"sans-serif\" font-size=\"14\" font-weight=\"bold\" lengthAdjust=\"spacingAndGlyphs\" textLength=\"0\" x=\"10\" y=\"72.8906\"/><text fill=\"#33FF02\" font-family=\"sans-serif\" font-size=\"14\" font-weight=\"bold\" lengthAdjust=\"spacingAndGlyphs\" textLength=\"866\" x=\"5\" y=\"89.1875\">rec def \"DecisionTest\" as E1  &lt;&lt;(T,blue)action def&gt;&gt; [[psysml:b2f18a0c-e7e8-4f9b-8be8-69c1ee721482 ]] {</text><text fill=\"#33FF02\" font-family=\"sans-serif\" font-size=\"14\" font-weight=\"bold\" lengthAdjust=\"spacingAndGlyphs\" textLength=\"619\" x=\"5\" y=\"105.4844\">portout \"$result\" as E2  [[psysml:48b93896-3893-47bc-bfb4-82205587ec17 ]]</text><text fill=\"#33FF02\" font-family=\"sans-serif\" font-size=\"14\" font-weight=\"bold\" lengthAdjust=\"spacingAndGlyphs\" textLength=\"859\" x=\"5\" y=\"121.7813\">rec usage \"test x\" as E3  &lt;&lt;(T,blue)decisionNode&gt;&gt; [[psysml:e5d2d3ea-f48f-4426-8e8b-470a03ae9129 ]] {</text><text fill=\"#33FF02\" font-family=\"sans-serif\" font-size=\"14\" font-weight=\"bold\" lengthAdjust=\"spacingAndGlyphs\" textLength=\"10\" x=\"5\" y=\"138.0781\">}</text><text fill=\"#33FF02\" font-family=\"sans-serif\" font-size=\"14\" font-weight=\"bold\" lengthAdjust=\"spacingAndGlyphs\" textLength=\"0\" x=\"10\" y=\"154.375\"/><text fill=\"#33FF02\" font-family=\"sans-serif\" font-size=\"14\" font-weight=\"bold\" lengthAdjust=\"spacingAndGlyphs\" textLength=\"10\" x=\"5\" y=\"170.6719\">{</text><text fill=\"#FF0000\" font-family=\"sans-serif\" font-size=\"14\" font-weight=\"bold\" lengthAdjust=\"spacingAndGlyphs\" textLength=\"106\" x=\"10\" y=\"186.9688\">Syntax Error?</text><!--MD5=[e02812e0c82283de33f9069ab2541e8d]\n",
       "@startuml\r\n",
       " \r\n",
       "rec def \"DecisionTest\" as E1  <<(T,blue)action def>> [[psysml:b2f18a0c-e7e8-4f9b-8be8-69c1ee721482 ]] {\r\n",
       "portout \"$result\" as E2  [[psysml:48b93896-3893-47bc-bfb4-82205587ec17 ]] \r\n",
       "rec usage \"test x\" as E3  <<(T,blue)decisionNode>> [[psysml:e5d2d3ea-f48f-4426-8e8b-470a03ae9129 ]] {\r\n",
       "}\r\n",
       "\r\n",
       "{\r\n",
       "portout \"$result\" as E4  [[psysml:4b8ded41-753f-4321-9638-6238d10e7c80 ]] \r\n",
       "portin \"$x\" as E5  [[psysml:a7b14f91-b01b-46a8-a467-34455cb469c8 ]] \r\n",
       "portin \"$y\" as E6  [[psysml:5152b66c-9655-4578-b3e0-a1abffd52221 ]] \r\n",
       "portout \"$result\" as E7  [[psysml:4920d9f2-11b6-40e8-8f3b-51b5a6d86cfe ]] \r\n",
       "}\r\n",
       "\r\n",
       "{\r\n",
       "portout \"$result\" as E8  [[psysml:299014ef-2d5d-4d16-b133-5999efd30129 ]] \r\n",
       "portin \"$x\" as E9  [[psysml:06a6ed26-9ce9-4d08-906d-b2050b8e915c ]] \r\n",
       "portin \"$y\" as E10  [[psysml:5469b116-bf46-4216-bf8a-03dc856fdd9f ]] \r\n",
       "portout \"$result\" as E11  [[psysml:71834102-980a-4495-ab1e-6e2e09d248cc ]] \r\n",
       "}\r\n",
       "\r\n",
       "{\r\n",
       "}\r\n",
       "\r\n",
       "{\r\n",
       "}\r\n",
       "\r\n",
       "{\r\n",
       "portout \"$result\" as E12  [[psysml:f7c1e883-5939-48d9-8b79-1dd5526a379a ]] \r\n",
       "}\r\n",
       "\r\n",
       "{\r\n",
       "portout \"$result\" as E13  [[psysml:c31efe23-02f2-4c3d-bb99-9ef28e999a1c ]] \r\n",
       "}\r\n",
       "\r\n",
       "rec usage \"A1\" as E14  <<(T,blue)action>> [[psysml:83c05d54-f6d6-494a-833f-554dd37c4623 ]] {\r\n",
       "}\r\n",
       "\r\n",
       "rec usage \"A2\" as E15  <<(T,blue)action>> [[psysml:7dcb7014-cff9-44fa-9aa1-11f878021657 ]] {\r\n",
       "}\r\n",
       "\r\n",
       "rec usage \"A3\" as E16  <<(T,blue)action>> [[psysml:685b0fa1-42be-43fa-8250-fe6c84a18423 ]] {\r\n",
       "}\r\n",
       "\r\n",
       "rec usage \"S\" as E17  <<(T,blue)transition>> [[psysml:94783800-53cc-4e6d-883a-cc9d9c3ccfae ]] {\r\n",
       "rec usage \"A1\" as E18  <<(T,blue)action>> [[psysml:83c05d54-f6d6-494a-833f-554dd37c4623 ]] {\r\n",
       "}\r\n",
       "\r\n",
       "portout \"$result\" as E19  [[psysml:59943b31-a3c9-4e0b-a1a5-a807d88f74d6 ]] \r\n",
       "portin \"$x\" as E20  [[psysml:f56aed3e-0abf-415b-8307-7ce602886a4e ]] \r\n",
       "portin \"$y\" as E21  [[psysml:4a073027-8566-43d2-b22e-daad3da22329 ]] \r\n",
       "portout \"$result\" as E22  [[psysml:a62ac8b0-eaf6-4adc-9f14-e1e54df6c395 ]] \r\n",
       "}\r\n",
       "\r\n",
       "rec usage \"A3\" as E23  <<(T,blue)action>> [[psysml:685b0fa1-42be-43fa-8250-fe6c84a18423 ]] {\r\n",
       "}\r\n",
       "\r\n",
       "{\r\n",
       "portout \"$result\" as E24  [[psysml:98937697-67bb-45ee-8fed-5abb392c3fdb ]] \r\n",
       "portin \"$x\" as E25  [[psysml:a977dc00-242a-40b3-b9da-606e563c8c3f ]] \r\n",
       "portin \"$y\" as E26  [[psysml:ab4e429e-9a1f-45c8-b892-c2c8dcefbe2f ]] \r\n",
       "portout \"$result\" as E27  [[psysml:2734cb04-9b51-40b2-9042-069cd5d9688c ]] \r\n",
       "}\r\n",
       "\r\n",
       "}\r\n",
       "\r\n",
       "E6 -[thickness=5]- E4 [[psysml:60a3d248-455c-4b27-8c43-fdde339bf8bd ]] \r\n",
       "E10 -[thickness=5]- E8 [[psysml:985ddca8-3639-4ad8-9c42-b0c44e866ff3 ]] \r\n",
       "E21 -[thickness=5]- E19 [[psysml:246fdd7b-2672-46ea-b421-02bbe449818a ]] \r\n",
       "E26 -[thickness=5]- E24 [[psysml:b7d97414-dcb8-4731-9734-ffccd7d52e37 ]] \r\n",
       "@enduml\r\n",
       "\n",
       "PlantUML version 1.2020.13(Sat Jun 13 12:26:38 UTC 2020)\n",
       "(EPL source distribution)\n",
       "Java Runtime: OpenJDK Runtime Environment\n",
       "JVM: OpenJDK 64-Bit Server VM\n",
       "Default Encoding: UTF-8\n",
       "Language: en\n",
       "Country: null\n",
       "--></g></svg>"
      ]
     },
     "execution_count": 2,
     "metadata": {},
     "output_type": "execute_result"
    }
   ],
   "source": [
    "%viz --style=\"COMPTREE\" --view=\"Default\" \"DecisionTest\""
   ]
  },
  {
   "cell_type": "code",
   "execution_count": 3,
   "id": "wicked-baltimore",
   "metadata": {
    "execution": {
     "iopub.execute_input": "2021-03-25T15:07:15.491760Z",
     "iopub.status.busy": "2021-03-25T15:07:15.490519Z",
     "iopub.status.idle": "2021-03-25T15:07:16.073703Z",
     "shell.execute_reply": "2021-03-25T15:07:16.074269Z"
    }
   },
   "outputs": [
    {
     "data": {
      "image/svg+xml": [
       "<?xml version=\"1.0\" encoding=\"UTF-8\" standalone=\"no\"?><svg xmlns=\"http://www.w3.org/2000/svg\" xmlns:xlink=\"http://www.w3.org/1999/xlink\" contentScriptType=\"application/ecmascript\" contentStyleType=\"text/css\" height=\"199px\" preserveAspectRatio=\"none\" style=\"width:138px;height:199px;\" version=\"1.1\" viewBox=\"0 0 138 199\" width=\"138px\" zoomAndPan=\"magnify\"><defs><filter height=\"300%\" id=\"fs360yyhwh21h\" width=\"300%\" x=\"-1\" y=\"-1\"><feGaussianBlur result=\"blurOut\" stdDeviation=\"2.0\"/><feColorMatrix in=\"blurOut\" result=\"blurOut2\" type=\"matrix\" values=\"0 0 0 0 0 0 0 0 0 0 0 0 0 0 0 0 0 0 .4 0\"/><feOffset dx=\"4.0\" dy=\"4.0\" in=\"blurOut2\" result=\"blurOut3\"/><feBlend in=\"SourceGraphic\" in2=\"blurOut3\" mode=\"normal\"/></filter></defs><g><!--MD5=[43c9051892ef23e1a46a86907403d788]\n",
       "class E1--><a href=\"psysml:b2f18a0c-e7e8-4f9b-8be8-69c1ee721482\" target=\"_top\" title=\"psysml:b2f18a0c-e7e8-4f9b-8be8-69c1ee721482\" xlink:actuate=\"onRequest\" xlink:href=\"psysml:b2f18a0c-e7e8-4f9b-8be8-69c1ee721482\" xlink:show=\"new\" xlink:title=\"psysml:b2f18a0c-e7e8-4f9b-8be8-69c1ee721482\" xlink:type=\"simple\"><rect fill=\"#FEFECE\" filter=\"url(#fs360yyhwh21h)\" height=\"173.1797\" id=\"E1\" style=\"stroke: #A80036; stroke-width: 1.5;\" width=\"112\" x=\"7\" y=\"7\"/><ellipse cx=\"22\" cy=\"25.9688\" fill=\"#0000FF\" rx=\"11\" ry=\"11\" style=\"stroke: #A80036; stroke-width: 1.0;\"/><path d=\"M22.8438,32.7188 L20.3906,32.7188 L20.3906,22.4688 L17.25,22.4688 L17.25,20.3281 L25.9844,20.3281 L25.9844,22.4688 L22.8438,22.4688 L22.8438,32.7188 Z \"/><text fill=\"#000000\" font-family=\"sans-serif\" font-size=\"12\" font-style=\"italic\" lengthAdjust=\"spacingAndGlyphs\" textLength=\"77\" x=\"37.5\" y=\"23.1387\">«action def»</text><text fill=\"#000000\" font-family=\"sans-serif\" font-size=\"12\" lengthAdjust=\"spacingAndGlyphs\" textLength=\"80\" x=\"36\" y=\"37.1074\">DecisionTest</text><line style=\"stroke: #A80036; stroke-width: 1.5;\" x1=\"8\" x2=\"118\" y1=\"44.9375\" y2=\"44.9375\"/><text fill=\"#000000\" font-family=\"sans-serif\" font-size=\"11\" lengthAdjust=\"spacingAndGlyphs\" textLength=\"6\" x=\"13\" y=\"59.1479\">x</text><text fill=\"#000000\" font-family=\"sans-serif\" font-size=\"11\" lengthAdjust=\"spacingAndGlyphs\" textLength=\"14\" x=\"13\" y=\"88.7573\">A1</text><text fill=\"#000000\" font-family=\"sans-serif\" font-size=\"11\" lengthAdjust=\"spacingAndGlyphs\" textLength=\"14\" x=\"13\" y=\"101.562\">A2</text><text fill=\"#000000\" font-family=\"sans-serif\" font-size=\"11\" lengthAdjust=\"spacingAndGlyphs\" textLength=\"14\" x=\"13\" y=\"114.3667\">A3</text><line style=\"stroke: #A80036; stroke-width: 1.0;\" x1=\"8\" x2=\"42.5\" y1=\"72.1445\" y2=\"72.1445\"/><text fill=\"#000000\" font-family=\"sans-serif\" font-size=\"11\" lengthAdjust=\"spacingAndGlyphs\" textLength=\"41\" x=\"42.5\" y=\"75.4526\">actions</text><line style=\"stroke: #A80036; stroke-width: 1.0;\" x1=\"83.5\" x2=\"118\" y1=\"72.1445\" y2=\"72.1445\"/><text fill=\"#000000\" font-family=\"sans-serif\" font-size=\"11\" lengthAdjust=\"spacingAndGlyphs\" textLength=\"32\" x=\"13\" y=\"143.9761\">test x</text><line style=\"stroke: #A80036; stroke-width: 1.0;\" x1=\"8\" x2=\"21.5\" y1=\"127.3633\" y2=\"127.3633\"/><text fill=\"#000000\" font-family=\"sans-serif\" font-size=\"11\" lengthAdjust=\"spacingAndGlyphs\" textLength=\"83\" x=\"21.5\" y=\"130.6714\">decisionNodes</text><line style=\"stroke: #A80036; stroke-width: 1.0;\" x1=\"104.5\" x2=\"118\" y1=\"127.3633\" y2=\"127.3633\"/><text fill=\"#000000\" font-family=\"sans-serif\" font-size=\"11\" lengthAdjust=\"spacingAndGlyphs\" textLength=\"8\" x=\"13\" y=\"173.5854\">S</text><line style=\"stroke: #A80036; stroke-width: 1.0;\" x1=\"8\" x2=\"32.5\" y1=\"156.9727\" y2=\"156.9727\"/><text fill=\"#000000\" font-family=\"sans-serif\" font-size=\"11\" lengthAdjust=\"spacingAndGlyphs\" textLength=\"61\" x=\"32.5\" y=\"160.2808\">transitions</text><line style=\"stroke: #A80036; stroke-width: 1.0;\" x1=\"93.5\" x2=\"118\" y1=\"156.9727\" y2=\"156.9727\"/></a><!--MD5=[48463e2c6a6535731fd54714a5d74dcd]\n",
       "@startuml\r\n",
       " \r\n",
       "comp def \"DecisionTest\" as E1  <<(T,blue)action def>> [[psysml:b2f18a0c-e7e8-4f9b-8be8-69c1ee721482 ]] {\r\n",
       "x\r\n",
       "- - actions - -\r\n",
       "A1\r\n",
       "A2\r\n",
       "A3\r\n",
       "- - decisionNodes - -\r\n",
       "test x\r\n",
       "- - transitions - -\r\n",
       "S\r\n",
       "}\r\n",
       "@enduml\r\n",
       "\n",
       "PlantUML version 1.2020.13(Sat Jun 13 12:26:38 UTC 2020)\n",
       "(EPL source distribution)\n",
       "Java Runtime: OpenJDK Runtime Environment\n",
       "JVM: OpenJDK 64-Bit Server VM\n",
       "Default Encoding: UTF-8\n",
       "Language: en\n",
       "Country: null\n",
       "--></g></svg>"
      ]
     },
     "execution_count": 3,
     "metadata": {},
     "output_type": "execute_result"
    }
   ],
   "source": [
    "%viz --style=\"COMPTREE\" --view=\"Tree\" \"DecisionTest\""
   ]
  },
  {
   "cell_type": "code",
   "execution_count": 4,
   "id": "optimum-conditions",
   "metadata": {
    "execution": {
     "iopub.execute_input": "2021-03-25T15:07:16.124982Z",
     "iopub.status.busy": "2021-03-25T15:07:16.124249Z",
     "iopub.status.idle": "2021-03-25T15:07:17.126478Z",
     "shell.execute_reply": "2021-03-25T15:07:17.127010Z"
    }
   },
   "outputs": [
    {
     "data": {
      "image/svg+xml": [
       "<?xml version=\"1.0\" encoding=\"UTF-8\" standalone=\"no\"?><svg xmlns=\"http://www.w3.org/2000/svg\" xmlns:xlink=\"http://www.w3.org/1999/xlink\" contentScriptType=\"application/ecmascript\" contentStyleType=\"text/css\" height=\"303px\" preserveAspectRatio=\"none\" style=\"width:603px;height:303px;background:#000000;\" version=\"1.1\" viewBox=\"0 0 603 303\" width=\"603px\" zoomAndPan=\"magnify\"><defs/><g><rect fill=\"#152625\" height=\"1\" style=\"stroke: #152625; stroke-width: 1.0;\" width=\"1\" x=\"0\" y=\"0\"/><rect fill=\"#FFFFFF\" height=\"205.5625\" style=\"stroke: #FFFFFF; stroke-width: 1.0;\" width=\"602\" x=\"0\" y=\"0\"/><text fill=\"#000000\" font-family=\"sans-serif\" font-size=\"12\" font-weight=\"bold\" lengthAdjust=\"spacingAndGlyphs\" textLength=\"159\" x=\"5\" y=\"16.1387\">Welcome to PlantUML!</text><text fill=\"#000000\" font-family=\"sans-serif\" font-size=\"12\" lengthAdjust=\"spacingAndGlyphs\" textLength=\"0\" x=\"9\" y=\"30.1074\"/><text fill=\"#000000\" font-family=\"sans-serif\" font-size=\"12\" lengthAdjust=\"spacingAndGlyphs\" textLength=\"293\" x=\"5\" y=\"44.0762\">If you use this software, you accept its license.</text><text fill=\"#000000\" font-family=\"sans-serif\" font-size=\"12\" lengthAdjust=\"spacingAndGlyphs\" textLength=\"107\" x=\"5\" y=\"58.0449\">(details by typing</text><text fill=\"#000000\" font-family=\"monospace\" font-size=\"12\" lengthAdjust=\"spacingAndGlyphs\" textLength=\"49\" x=\"116\" y=\"58.0449\">license</text><text fill=\"#000000\" font-family=\"sans-serif\" font-size=\"12\" lengthAdjust=\"spacingAndGlyphs\" textLength=\"56\" x=\"169\" y=\"58.0449\">keyword)</text><text fill=\"#000000\" font-family=\"sans-serif\" font-size=\"12\" lengthAdjust=\"spacingAndGlyphs\" textLength=\"0\" x=\"9\" y=\"72.0137\"/><text fill=\"#000000\" font-family=\"sans-serif\" font-size=\"12\" lengthAdjust=\"spacingAndGlyphs\" textLength=\"283\" x=\"5\" y=\"85.9824\">You can start with a simple UML Diagram like:</text><text fill=\"#000000\" font-family=\"sans-serif\" font-size=\"12\" lengthAdjust=\"spacingAndGlyphs\" textLength=\"0\" x=\"9\" y=\"99.9512\"/><text fill=\"#000000\" font-family=\"monospace\" font-size=\"12\" lengthAdjust=\"spacingAndGlyphs\" textLength=\"119\" x=\"5\" y=\"113.9199\">Bob-&gt;Alice: Hello</text><text fill=\"#000000\" font-family=\"sans-serif\" font-size=\"12\" lengthAdjust=\"spacingAndGlyphs\" textLength=\"0\" x=\"9\" y=\"127.8887\"/><text fill=\"#000000\" font-family=\"sans-serif\" font-size=\"12\" lengthAdjust=\"spacingAndGlyphs\" textLength=\"14\" x=\"5\" y=\"141.8574\">Or</text><text fill=\"#000000\" font-family=\"sans-serif\" font-size=\"12\" lengthAdjust=\"spacingAndGlyphs\" textLength=\"0\" x=\"9\" y=\"155.8262\"/><text fill=\"#000000\" font-family=\"monospace\" font-size=\"12\" lengthAdjust=\"spacingAndGlyphs\" textLength=\"91\" x=\"5\" y=\"169.7949\">class Example</text><text fill=\"#000000\" font-family=\"sans-serif\" font-size=\"12\" lengthAdjust=\"spacingAndGlyphs\" textLength=\"0\" x=\"9\" y=\"183.7637\"/><text fill=\"#000000\" font-family=\"sans-serif\" font-size=\"12\" lengthAdjust=\"spacingAndGlyphs\" textLength=\"349\" x=\"5\" y=\"197.7324\">You will find more information about PlantUML syntax on</text><text fill=\"#000000\" font-family=\"sans-serif\" font-size=\"12\" lengthAdjust=\"spacingAndGlyphs\" text-decoration=\"underline\" textLength=\"129\" x=\"358\" y=\"197.7324\">https://plantuml.com</text><image height=\"71\" width=\"80\" x=\"516\" xlink:href=\"data:image/png;base64,iVBORw0KGgoAAAANSUhEUgAAAFAAAABHCAMAAACnHDC8AAADAFBMVEX///+BpbvD3u/f7vfPz8+nz+g3ksuZEDkWADr/ujlvsdpTodLCwsOLwOEbg8T//v6pqamZETnLysvT09To5+jqLS4VATj9/f27u7vDw8MTfsK+v7/j4+SOweJprdjL4/KxsbEri8jk8PgXa57c29uUETez1utQoNJ1tNtEmc9cptWBut6ayOW/3O6YEDjY6vUfhcXBwcHs7Ozw9/v83t79uTn7+/vX19ehoaHx8fG2tLXHx8fuVlfrNTYaBjn/vUH5+fmko6WXl5f/+fn95ub+9PT+8PD3qKidmaMxIUrnqDWcFj7n5eX09PTu7u2SkpKfnZ6rq6z0lJTm4tzJrHUfDT339/eFGDn6tjcrEzOvrbBuZ3l4eomSMS7Hz9Smpqasu8SFiYuQETfa2du1m6OOM051J0NWTWL5xse4uLj6zc33r6/4vb7ydHXqLi/72dntTE3tR0ijbn5jW3C+u8NANVQrG0XFubqRVGZza4GQGT2VaS7a0NPJtI6IJj/zszrfqkXXzr/Hw8cgC0LUqltOQ2JsSC5bTGjOpFafSi2+iDGtyt14m7TJhTCPJUSwoIG/qa+ikHiIgpCRHjI9j8KXbnaQH0FLf6FGPlp0cnYyKE2rg49Wj7dFXHmcwtrp6uu+xMjvYWLvW1z97e3sPD3sP0DuUlP709PYzdDPmzqZWWySRVygfHHd1smWkZ+PgnibETqsl260q5fLuppJLC/dpj2HPFLTtHv/ujrTwJy5s6iWjIi0iD3joTTCmU3trjuvZS2zlFvjq0HSyLbYp0qRts10XGxEKC9yPVBQZIOPdlNvMk2NeYNqRlujtcCVrr3j5eY1gK9Qn9GLp7lbeJXRxrCkiZDaozyukoJ+H0B3rc+OYy+iprJkYXdhmr6ee0afs79xq9BikrGKjI3FomEiLFO0ay6nfIm4pZXRjTFuhZSZWm0zcZyJN0KNTk4eebNfdIGGlZ93h5kcED5nOVYyRWbziIk9dJ4kerE5ZYxRUnLG1d7p8PTvY2PtTk/1nZ1ycV/bAAAFx0lEQVR4Xu1Ye1BUVRg/e3dhl4csKyxqPlBJQVETF2icAY13GogkEFqizqRRpoBpTCIapaUOhWNjUdOMSBpqJYZTg4KigFKADzSIVZ4qD5VFluXhLgvbPee+r49R7v2z3+zcc77fOfPb7zvfPd85uwCIhwT4wPisANwPAuIKHnbHH1I+KwAXDA18ShDW58CneCEnXl8JGwmfHylCPSvlZ/FWxh8YIRIxTWkZAEofkTz8sNq7tAqE2gODOB6GYZobVaH20SVZ4oQcdmXV0L7c4b8OFvJHRoYwdVIoyPX3gxtFDA+V8e6mM8pBoCjij4wQiWo/ALzV/kpkifBi13p4waZuGrJEECycixcEVSbYgFwUozg4/qSraOxrP7O8Eogj2HDxyMWmzpk6823+yIjhvR7fLOpDsCuGhwC0WfbkjQq8A0MWC0EgIYzPCYMymM8Iwcvz6K4IWw8skTrgq3iPMIQnxdfKrvyedpyvbSsyBQt6zcH6OxXmjqYxg9PbgXBBveK6aRAXNEl1Ssc+hz7Bgntyohb/ggQlNrrdzfIuoYKSb79067PrRoLmGo25SeghJRn1yMrSbPTptZaoBlwtlWbBHspxiW+mW8+46ereVnMXGxbFQ+mjofiHZTrclJn5E14UEgdrO9tRVph0HDJlYlRsLv4XFA7RBA1kK5ogBb7gtn08AvxWymc2b+YzLHC3nnOCNHvdayUsZpnnwnPqGf+yGKcPKlv92vtJC209zGyRWJmgyd16sSGGT/AmM2rdKZKZHxwCz7KUodLzJOO8th4OBqxdo0c2tfUkNr3QlJkZQWWMBP0uwBHvmQQb3zRVCMnsMO6ATazf3f0kkza0HTaPCdIhpyTknqP61Te1eV2gRpr1FUn4xtxRT72pDHhj09/UnBLjiv72p4d8FEtlLibBd7Qg0xK5+XfS9q2AzxSVHPnNIMBS8BQPw8N1W4glQWj0mtp4+nSHhvKYOM4GL6vH1jGTcDQ3p1979AQPI5agXEDYwuS5awknJ73rHU56RyLAr6ACpO5iMRGvp3XykjImgs4Fgm2/7URc8dhbeD9jdhYVNon0mdFcAjTIXbmC75VrmVHcQ+JDIXbuNmYUYlZoYx6XcWjKTWavYXd1WzU9OEh9wLFfEVFza5PEhVhDAvfLx60cWM3ePMa9hyZG5DNr6DbQiCUcYU0AKGzGyYxlkf+wxnCk+wdwCbA/TkWH7Dbgoq8dcmKNssQQ3F/JmMxlIj/fzo/7s9OIwUMebbYzbh2zLfk7ehBGzIau6OeO+xzGKlBRwCGAXNaCFgYbRoKG+hMTfMff4M6h0LYxpmv/92ym9tIxc4uRzawynCEWGhum7odf9/75vh8zg0bKijX5AMxhMacsK8pBxaJihtnQqr1KG8yFMzq/dutJ2iKwNCbXA7Yamsm2Xn0XtgtowY3Xy8rpYc4NNqon8eM49k+NtzU55GtMleGAkNR6oldDMhH+e9EX0JB+UYKv4WgLZrLCjHV7wnyYlzJZvYV6A6d1w6xEph842UUyTkjGIbzwRA/JIOBJKSt88yglqND1h6TpiQqQV99wmJ7nknQcgIIHqd00EwSzgudigGYQUHE4qFMcGJb22kp7lNop8p6znStvg5S2e1TVRti56w/zj8fZzKLiDa317MqBQFbs+J3dcbSgo+H4D0kLOokJ82/NR8KZbp9eIZgllwKR8Ec1ejIX827POk/06HpYffGd5dkoZJXMqDAVXd1Nbhavlx4OyuAiPcyAF3Ick8faXAuE5WToApkMxykL1PbNRJ91SDkXOyymPFR1UMlw9GjRPKCrPsRSvUnbzbkELj2PSSRkQLiH1AvROTutlpryLHQAoCD+C2BBP4npMwd9zsIgzgaDsK+bctmVw3hetai5t9RS4PEqub4QnCvxteGzOZyQXxjscxkhHisWKMi72+T0p1dxGeGYkG0ez+eeG7In/n/oNOexC9fzIiLvPxVtKp84iza+AAAAAElFTkSuQmCC\" y=\"6\"/><rect fill=\"#000000\" height=\"96.4844\" style=\"stroke: #000000; stroke-width: 1.0;\" width=\"602\" x=\"0\" y=\"205.5625\"/><rect fill=\"#33FF02\" height=\"21.2969\" style=\"stroke: #33FF02; stroke-width: 1.0;\" width=\"170\" x=\"5\" y=\"210.5625\"/><text fill=\"#000000\" font-family=\"sans-serif\" font-size=\"14\" font-weight=\"bold\" lengthAdjust=\"spacingAndGlyphs\" textLength=\"168\" x=\"6\" y=\"225.5625\">[From string (line 2) ]</text><text fill=\"#33FF02\" font-family=\"sans-serif\" font-size=\"14\" font-weight=\"bold\" lengthAdjust=\"spacingAndGlyphs\" textLength=\"0\" x=\"10\" y=\"245.8594\"/><text fill=\"#33FF02\" font-family=\"sans-serif\" font-size=\"14\" font-weight=\"bold\" lengthAdjust=\"spacingAndGlyphs\" textLength=\"79\" x=\"5\" y=\"262.1563\">@startuml</text><text fill=\"#33FF02\" font-family=\"sans-serif\" font-size=\"14\" font-weight=\"bold\" lengthAdjust=\"spacingAndGlyphs\" textLength=\"0\" x=\"10\" y=\"278.4531\"/><text fill=\"#FF0000\" font-family=\"sans-serif\" font-size=\"14\" font-weight=\"bold\" lengthAdjust=\"spacingAndGlyphs\" textLength=\"142\" x=\"10\" y=\"294.75\">Empty description</text><!--MD5=[f59edd8218d337f74d0c332fc6737304]\n",
       "@startuml\r\n",
       " \r\n",
       "@enduml\r\n",
       "\n",
       "PlantUML version 1.2020.13(Sat Jun 13 12:26:38 UTC 2020)\n",
       "(EPL source distribution)\n",
       "Java Runtime: OpenJDK Runtime Environment\n",
       "JVM: OpenJDK 64-Bit Server VM\n",
       "Default Encoding: UTF-8\n",
       "Language: en\n",
       "Country: null\n",
       "--></g></svg>"
      ]
     },
     "execution_count": 4,
     "metadata": {},
     "output_type": "execute_result"
    }
   ],
   "source": [
    "%viz --style=\"COMPTREE\" --view=\"State\" \"DecisionTest\""
   ]
  },
  {
   "cell_type": "code",
   "execution_count": 5,
   "id": "nearby-hometown",
   "metadata": {
    "execution": {
     "iopub.execute_input": "2021-03-25T15:07:17.178394Z",
     "iopub.status.busy": "2021-03-25T15:07:17.177802Z",
     "iopub.status.idle": "2021-03-25T15:07:17.219487Z",
     "shell.execute_reply": "2021-03-25T15:07:17.219959Z"
    }
   },
   "outputs": [
    {
     "data": {
      "image/svg+xml": [
       "<?xml version=\"1.0\" encoding=\"UTF-8\" standalone=\"no\"?><svg xmlns=\"http://www.w3.org/2000/svg\" xmlns:xlink=\"http://www.w3.org/1999/xlink\" contentScriptType=\"application/ecmascript\" contentStyleType=\"text/css\" height=\"79px\" preserveAspectRatio=\"none\" style=\"width:179px;height:79px;\" version=\"1.1\" viewBox=\"0 0 179 79\" width=\"179px\" zoomAndPan=\"magnify\"><defs><filter height=\"300%\" id=\"f163g5ntmkrj5e\" width=\"300%\" x=\"-1\" y=\"-1\"><feGaussianBlur result=\"blurOut\" stdDeviation=\"2.0\"/><feColorMatrix in=\"blurOut\" result=\"blurOut2\" type=\"matrix\" values=\"0 0 0 0 0 0 0 0 0 0 0 0 0 0 0 0 0 0 .4 0\"/><feOffset dx=\"4.0\" dy=\"4.0\" in=\"blurOut2\" result=\"blurOut3\"/><feBlend in=\"SourceGraphic\" in2=\"blurOut3\" mode=\"normal\"/></filter></defs><g><!--MD5=[43c9051892ef23e1a46a86907403d788]\n",
       "class E1--><a href=\"psysml:b2f18a0c-e7e8-4f9b-8be8-69c1ee721482\" target=\"_top\" title=\"psysml:b2f18a0c-e7e8-4f9b-8be8-69c1ee721482\" xlink:actuate=\"onRequest\" xlink:href=\"psysml:b2f18a0c-e7e8-4f9b-8be8-69c1ee721482\" xlink:show=\"new\" xlink:title=\"psysml:b2f18a0c-e7e8-4f9b-8be8-69c1ee721482\" xlink:type=\"simple\"><rect fill=\"#FEFECE\" filter=\"url(#f163g5ntmkrj5e)\" height=\"53.9375\" id=\"E1\" style=\"stroke: #A80036; stroke-width: 1.5;\" width=\"153\" x=\"7\" y=\"7\"/><ellipse cx=\"22\" cy=\"25.9688\" fill=\"#ADD1B2\" rx=\"11\" ry=\"11\" style=\"stroke: #A80036; stroke-width: 1.0;\"/><path d=\"M24.9688,31.6094 Q24.3906,31.9063 23.75,32.0469 Q23.1094,32.2031 22.4063,32.2031 Q19.9063,32.2031 18.5781,30.5625 Q17.2656,28.9063 17.2656,25.7813 Q17.2656,22.6563 18.5781,21 Q19.9063,19.3438 22.4063,19.3438 Q23.1094,19.3438 23.75,19.5 Q24.4063,19.6563 24.9688,19.9531 L24.9688,22.6719 Q24.3438,22.0938 23.75,21.8281 Q23.1563,21.5469 22.5313,21.5469 Q21.1875,21.5469 20.5,22.625 Q19.8125,23.6875 19.8125,25.7813 Q19.8125,27.875 20.5,28.9531 Q21.1875,30.0156 22.5313,30.0156 Q23.1563,30.0156 23.75,29.75 Q24.3438,29.4688 24.9688,28.8906 L24.9688,31.6094 Z \"/><text fill=\"#000000\" font-family=\"sans-serif\" font-size=\"12\" font-style=\"italic\" lengthAdjust=\"spacingAndGlyphs\" textLength=\"125\" x=\"34\" y=\"23.1387\">«(T,blue)action def»</text><text fill=\"#000000\" font-family=\"sans-serif\" font-size=\"12\" lengthAdjust=\"spacingAndGlyphs\" textLength=\"80\" x=\"56.5\" y=\"37.1074\">DecisionTest</text><line style=\"stroke: #A80036; stroke-width: 1.5;\" x1=\"8\" x2=\"159\" y1=\"44.9375\" y2=\"44.9375\"/><line style=\"stroke: #A80036; stroke-width: 1.5;\" x1=\"8\" x2=\"159\" y1=\"52.9375\" y2=\"52.9375\"/></a><!--MD5=[c82164321b02774c565a652ff5a37106]\n",
       "@startuml\r\n",
       "skinparam ranksep 8\r\n",
       "skinparam rectangle {\r\n",
       " backgroundColor<<block>> LightGreen\r\n",
       "}\r\n",
       " \r\n",
       "def \"DecisionTest\" as E1  <<(T,blue)action def>> [[psysml:b2f18a0c-e7e8-4f9b-8be8-69c1ee721482 ]] \r\n",
       "@enduml\r\n",
       "\n",
       "PlantUML version 1.2020.13(Sat Jun 13 12:26:38 UTC 2020)\n",
       "(EPL source distribution)\n",
       "Java Runtime: OpenJDK Runtime Environment\n",
       "JVM: OpenJDK 64-Bit Server VM\n",
       "Default Encoding: UTF-8\n",
       "Language: en\n",
       "Country: null\n",
       "--></g></svg>"
      ]
     },
     "execution_count": 5,
     "metadata": {},
     "output_type": "execute_result"
    }
   ],
   "source": [
    "%viz --style=\"COMPTREE\" --view=\"Interconnection\" \"DecisionTest\""
   ]
  },
  {
   "cell_type": "code",
   "execution_count": 6,
   "id": "progressive-lobby",
   "metadata": {
    "execution": {
     "iopub.execute_input": "2021-03-25T15:07:17.270494Z",
     "iopub.status.busy": "2021-03-25T15:07:17.270083Z",
     "iopub.status.idle": "2021-03-25T15:07:17.315149Z",
     "shell.execute_reply": "2021-03-25T15:07:17.315713Z"
    }
   },
   "outputs": [
    {
     "data": {
      "image/svg+xml": [
       "<?xml version=\"1.0\" encoding=\"UTF-8\" standalone=\"no\"?><svg xmlns=\"http://www.w3.org/2000/svg\" xmlns:xlink=\"http://www.w3.org/1999/xlink\" contentScriptType=\"application/ecmascript\" contentStyleType=\"text/css\" height=\"206px\" preserveAspectRatio=\"none\" style=\"width:873px;height:206px;background:#000000;\" version=\"1.1\" viewBox=\"0 0 873 206\" width=\"873px\" zoomAndPan=\"magnify\"><defs/><g><rect fill=\"#0F1302\" height=\"1\" style=\"stroke: #0F1302; stroke-width: 1.0;\" width=\"1\" x=\"0\" y=\"0\"/><rect fill=\"#33FF02\" height=\"21.2969\" style=\"stroke: #33FF02; stroke-width: 1.0;\" width=\"866\" x=\"5\" y=\"5\"/><text fill=\"#000000\" font-family=\"sans-serif\" font-size=\"14\" font-weight=\"bold\" lengthAdjust=\"spacingAndGlyphs\" textLength=\"168\" x=\"6\" y=\"20\">[From string (line 9) ]</text><text fill=\"#33FF02\" font-family=\"sans-serif\" font-size=\"14\" font-weight=\"bold\" lengthAdjust=\"spacingAndGlyphs\" textLength=\"0\" x=\"10\" y=\"40.2969\"/><text fill=\"#33FF02\" font-family=\"sans-serif\" font-size=\"14\" font-weight=\"bold\" lengthAdjust=\"spacingAndGlyphs\" textLength=\"79\" x=\"5\" y=\"56.5938\">@startuml</text><text fill=\"#33FF02\" font-family=\"sans-serif\" font-size=\"14\" font-weight=\"bold\" lengthAdjust=\"spacingAndGlyphs\" textLength=\"165\" x=\"5\" y=\"72.8906\">skinparam ranksep 8</text><text fill=\"#33FF02\" font-family=\"sans-serif\" font-size=\"14\" font-weight=\"bold\" lengthAdjust=\"spacingAndGlyphs\" textLength=\"0\" x=\"10\" y=\"89.1875\"/><text fill=\"#33FF02\" font-family=\"sans-serif\" font-size=\"14\" font-weight=\"bold\" lengthAdjust=\"spacingAndGlyphs\" textLength=\"866\" x=\"5\" y=\"105.4844\">rec def \"DecisionTest\" as E1  &lt;&lt;(T,blue)action def&gt;&gt; [[psysml:b2f18a0c-e7e8-4f9b-8be8-69c1ee721482 ]] {</text><text fill=\"#33FF02\" font-family=\"sans-serif\" font-size=\"14\" font-weight=\"bold\" lengthAdjust=\"spacingAndGlyphs\" textLength=\"619\" x=\"5\" y=\"121.7813\">portout \"$result\" as E2  [[psysml:48b93896-3893-47bc-bfb4-82205587ec17 ]]</text><text fill=\"#33FF02\" font-family=\"sans-serif\" font-size=\"14\" font-weight=\"bold\" lengthAdjust=\"spacingAndGlyphs\" textLength=\"859\" x=\"5\" y=\"138.0781\">rec usage \"test x\" as E3  &lt;&lt;(T,blue)decisionNode&gt;&gt; [[psysml:e5d2d3ea-f48f-4426-8e8b-470a03ae9129 ]] {</text><text fill=\"#33FF02\" font-family=\"sans-serif\" font-size=\"14\" font-weight=\"bold\" lengthAdjust=\"spacingAndGlyphs\" textLength=\"10\" x=\"5\" y=\"154.375\">}</text><text fill=\"#33FF02\" font-family=\"sans-serif\" font-size=\"14\" font-weight=\"bold\" lengthAdjust=\"spacingAndGlyphs\" textLength=\"0\" x=\"10\" y=\"170.6719\"/><text fill=\"#33FF02\" font-family=\"sans-serif\" font-size=\"14\" font-weight=\"bold\" lengthAdjust=\"spacingAndGlyphs\" textLength=\"10\" x=\"5\" y=\"186.9688\">{</text><text fill=\"#FF0000\" font-family=\"sans-serif\" font-size=\"14\" font-weight=\"bold\" lengthAdjust=\"spacingAndGlyphs\" textLength=\"106\" x=\"10\" y=\"203.2656\">Syntax Error?</text><!--MD5=[b1acb39e52204f56592add21f3c65b13]\n",
       "@startuml\r\n",
       "skinparam ranksep 8\r\n",
       " \r\n",
       "rec def \"DecisionTest\" as E1  <<(T,blue)action def>> [[psysml:b2f18a0c-e7e8-4f9b-8be8-69c1ee721482 ]] {\r\n",
       "portout \"$result\" as E2  [[psysml:48b93896-3893-47bc-bfb4-82205587ec17 ]] \r\n",
       "rec usage \"test x\" as E3  <<(T,blue)decisionNode>> [[psysml:e5d2d3ea-f48f-4426-8e8b-470a03ae9129 ]] {\r\n",
       "}\r\n",
       "\r\n",
       "{\r\n",
       "portout \"$result\" as E4  [[psysml:4b8ded41-753f-4321-9638-6238d10e7c80 ]] \r\n",
       "portin \"$x\" as E5  [[psysml:a7b14f91-b01b-46a8-a467-34455cb469c8 ]] \r\n",
       "portin \"$y\" as E6  [[psysml:5152b66c-9655-4578-b3e0-a1abffd52221 ]] \r\n",
       "portout \"$result\" as E7  [[psysml:4920d9f2-11b6-40e8-8f3b-51b5a6d86cfe ]] \r\n",
       "}\r\n",
       "\r\n",
       "{\r\n",
       "portout \"$result\" as E8  [[psysml:299014ef-2d5d-4d16-b133-5999efd30129 ]] \r\n",
       "portin \"$x\" as E9  [[psysml:06a6ed26-9ce9-4d08-906d-b2050b8e915c ]] \r\n",
       "portin \"$y\" as E10  [[psysml:5469b116-bf46-4216-bf8a-03dc856fdd9f ]] \r\n",
       "portout \"$result\" as E11  [[psysml:71834102-980a-4495-ab1e-6e2e09d248cc ]] \r\n",
       "}\r\n",
       "\r\n",
       "{\r\n",
       "}\r\n",
       "\r\n",
       "{\r\n",
       "}\r\n",
       "\r\n",
       "{\r\n",
       "portout \"$result\" as E12  [[psysml:f7c1e883-5939-48d9-8b79-1dd5526a379a ]] \r\n",
       "}\r\n",
       "\r\n",
       "{\r\n",
       "portout \"$result\" as E13  [[psysml:c31efe23-02f2-4c3d-bb99-9ef28e999a1c ]] \r\n",
       "}\r\n",
       "\r\n",
       "rec usage \"A1\" as E14  <<(T,blue)action>> [[psysml:83c05d54-f6d6-494a-833f-554dd37c4623 ]] {\r\n",
       "}\r\n",
       "\r\n",
       "rec usage \"A2\" as E15  <<(T,blue)action>> [[psysml:7dcb7014-cff9-44fa-9aa1-11f878021657 ]] {\r\n",
       "}\r\n",
       "\r\n",
       "rec usage \"A3\" as E16  <<(T,blue)action>> [[psysml:685b0fa1-42be-43fa-8250-fe6c84a18423 ]] {\r\n",
       "}\r\n",
       "\r\n",
       "rec usage \"S\" as E17  <<(T,blue)transition>> [[psysml:94783800-53cc-4e6d-883a-cc9d9c3ccfae ]] {\r\n",
       "rec usage \"A1\" as E18  <<(T,blue)action>> [[psysml:83c05d54-f6d6-494a-833f-554dd37c4623 ]] {\r\n",
       "}\r\n",
       "\r\n",
       "portout \"$result\" as E19  [[psysml:59943b31-a3c9-4e0b-a1a5-a807d88f74d6 ]] \r\n",
       "portin \"$x\" as E20  [[psysml:f56aed3e-0abf-415b-8307-7ce602886a4e ]] \r\n",
       "portin \"$y\" as E21  [[psysml:4a073027-8566-43d2-b22e-daad3da22329 ]] \r\n",
       "portout \"$result\" as E22  [[psysml:a62ac8b0-eaf6-4adc-9f14-e1e54df6c395 ]] \r\n",
       "}\r\n",
       "\r\n",
       "rec usage \"A3\" as E23  <<(T,blue)action>> [[psysml:685b0fa1-42be-43fa-8250-fe6c84a18423 ]] {\r\n",
       "}\r\n",
       "\r\n",
       "{\r\n",
       "portout \"$result\" as E24  [[psysml:98937697-67bb-45ee-8fed-5abb392c3fdb ]] \r\n",
       "portin \"$x\" as E25  [[psysml:a977dc00-242a-40b3-b9da-606e563c8c3f ]] \r\n",
       "portin \"$y\" as E26  [[psysml:ab4e429e-9a1f-45c8-b892-c2c8dcefbe2f ]] \r\n",
       "portout \"$result\" as E27  [[psysml:2734cb04-9b51-40b2-9042-069cd5d9688c ]] \r\n",
       "}\r\n",
       "\r\n",
       "}\r\n",
       "\r\n",
       "E6 -[thickness=5]- E4 [[psysml:60a3d248-455c-4b27-8c43-fdde339bf8bd ]] \r\n",
       "E10 -[thickness=5]- E8 [[psysml:985ddca8-3639-4ad8-9c42-b0c44e866ff3 ]] \r\n",
       "E21 -[thickness=5]- E19 [[psysml:246fdd7b-2672-46ea-b421-02bbe449818a ]] \r\n",
       "E26 -[thickness=5]- E24 [[psysml:b7d97414-dcb8-4731-9734-ffccd7d52e37 ]] \r\n",
       "@enduml\r\n",
       "\n",
       "PlantUML version 1.2020.13(Sat Jun 13 12:26:38 UTC 2020)\n",
       "(EPL source distribution)\n",
       "Java Runtime: OpenJDK Runtime Environment\n",
       "JVM: OpenJDK 64-Bit Server VM\n",
       "Default Encoding: UTF-8\n",
       "Language: en\n",
       "Country: null\n",
       "--></g></svg>"
      ]
     },
     "execution_count": 6,
     "metadata": {},
     "output_type": "execute_result"
    }
   ],
   "source": [
    "%viz --style=\"COMPTREE\" --view=\"Action\" \"DecisionTest\""
   ]
  },
  {
   "cell_type": "code",
   "execution_count": 7,
   "id": "under-sunset",
   "metadata": {
    "execution": {
     "iopub.execute_input": "2021-03-25T15:07:17.366411Z",
     "iopub.status.busy": "2021-03-25T15:07:17.365563Z",
     "iopub.status.idle": "2021-03-25T15:07:17.758455Z",
     "shell.execute_reply": "2021-03-25T15:07:17.759216Z"
    }
   },
   "outputs": [
    {
     "data": {
      "image/svg+xml": [
       "<?xml version=\"1.0\" encoding=\"UTF-8\" standalone=\"no\"?><svg xmlns=\"http://www.w3.org/2000/svg\" xmlns:xlink=\"http://www.w3.org/1999/xlink\" contentScriptType=\"application/ecmascript\" contentStyleType=\"text/css\" height=\"199px\" preserveAspectRatio=\"none\" style=\"width:138px;height:199px;\" version=\"1.1\" viewBox=\"0 0 138 199\" width=\"138px\" zoomAndPan=\"magnify\"><defs><filter height=\"300%\" id=\"fs360yyhwh21h\" width=\"300%\" x=\"-1\" y=\"-1\"><feGaussianBlur result=\"blurOut\" stdDeviation=\"2.0\"/><feColorMatrix in=\"blurOut\" result=\"blurOut2\" type=\"matrix\" values=\"0 0 0 0 0 0 0 0 0 0 0 0 0 0 0 0 0 0 .4 0\"/><feOffset dx=\"4.0\" dy=\"4.0\" in=\"blurOut2\" result=\"blurOut3\"/><feBlend in=\"SourceGraphic\" in2=\"blurOut3\" mode=\"normal\"/></filter></defs><g><!--MD5=[43c9051892ef23e1a46a86907403d788]\n",
       "class E1--><a href=\"psysml:b2f18a0c-e7e8-4f9b-8be8-69c1ee721482\" target=\"_top\" title=\"psysml:b2f18a0c-e7e8-4f9b-8be8-69c1ee721482\" xlink:actuate=\"onRequest\" xlink:href=\"psysml:b2f18a0c-e7e8-4f9b-8be8-69c1ee721482\" xlink:show=\"new\" xlink:title=\"psysml:b2f18a0c-e7e8-4f9b-8be8-69c1ee721482\" xlink:type=\"simple\"><rect fill=\"#FEFECE\" filter=\"url(#fs360yyhwh21h)\" height=\"173.1797\" id=\"E1\" style=\"stroke: #A80036; stroke-width: 1.5;\" width=\"112\" x=\"7\" y=\"7\"/><ellipse cx=\"22\" cy=\"25.9688\" fill=\"#0000FF\" rx=\"11\" ry=\"11\" style=\"stroke: #A80036; stroke-width: 1.0;\"/><path d=\"M22.8438,32.7188 L20.3906,32.7188 L20.3906,22.4688 L17.25,22.4688 L17.25,20.3281 L25.9844,20.3281 L25.9844,22.4688 L22.8438,22.4688 L22.8438,32.7188 Z \"/><text fill=\"#000000\" font-family=\"sans-serif\" font-size=\"12\" font-style=\"italic\" lengthAdjust=\"spacingAndGlyphs\" textLength=\"77\" x=\"37.5\" y=\"23.1387\">«action def»</text><text fill=\"#000000\" font-family=\"sans-serif\" font-size=\"12\" lengthAdjust=\"spacingAndGlyphs\" textLength=\"80\" x=\"36\" y=\"37.1074\">DecisionTest</text><line style=\"stroke: #A80036; stroke-width: 1.5;\" x1=\"8\" x2=\"118\" y1=\"44.9375\" y2=\"44.9375\"/><text fill=\"#000000\" font-family=\"sans-serif\" font-size=\"11\" lengthAdjust=\"spacingAndGlyphs\" textLength=\"6\" x=\"13\" y=\"59.1479\">x</text><text fill=\"#000000\" font-family=\"sans-serif\" font-size=\"11\" lengthAdjust=\"spacingAndGlyphs\" textLength=\"14\" x=\"13\" y=\"88.7573\">A1</text><text fill=\"#000000\" font-family=\"sans-serif\" font-size=\"11\" lengthAdjust=\"spacingAndGlyphs\" textLength=\"14\" x=\"13\" y=\"101.562\">A2</text><text fill=\"#000000\" font-family=\"sans-serif\" font-size=\"11\" lengthAdjust=\"spacingAndGlyphs\" textLength=\"14\" x=\"13\" y=\"114.3667\">A3</text><line style=\"stroke: #A80036; stroke-width: 1.0;\" x1=\"8\" x2=\"42.5\" y1=\"72.1445\" y2=\"72.1445\"/><text fill=\"#000000\" font-family=\"sans-serif\" font-size=\"11\" lengthAdjust=\"spacingAndGlyphs\" textLength=\"41\" x=\"42.5\" y=\"75.4526\">actions</text><line style=\"stroke: #A80036; stroke-width: 1.0;\" x1=\"83.5\" x2=\"118\" y1=\"72.1445\" y2=\"72.1445\"/><text fill=\"#000000\" font-family=\"sans-serif\" font-size=\"11\" lengthAdjust=\"spacingAndGlyphs\" textLength=\"32\" x=\"13\" y=\"143.9761\">test x</text><line style=\"stroke: #A80036; stroke-width: 1.0;\" x1=\"8\" x2=\"21.5\" y1=\"127.3633\" y2=\"127.3633\"/><text fill=\"#000000\" font-family=\"sans-serif\" font-size=\"11\" lengthAdjust=\"spacingAndGlyphs\" textLength=\"83\" x=\"21.5\" y=\"130.6714\">decisionNodes</text><line style=\"stroke: #A80036; stroke-width: 1.0;\" x1=\"104.5\" x2=\"118\" y1=\"127.3633\" y2=\"127.3633\"/><text fill=\"#000000\" font-family=\"sans-serif\" font-size=\"11\" lengthAdjust=\"spacingAndGlyphs\" textLength=\"8\" x=\"13\" y=\"173.5854\">S</text><line style=\"stroke: #A80036; stroke-width: 1.0;\" x1=\"8\" x2=\"32.5\" y1=\"156.9727\" y2=\"156.9727\"/><text fill=\"#000000\" font-family=\"sans-serif\" font-size=\"11\" lengthAdjust=\"spacingAndGlyphs\" textLength=\"61\" x=\"32.5\" y=\"160.2808\">transitions</text><line style=\"stroke: #A80036; stroke-width: 1.0;\" x1=\"93.5\" x2=\"118\" y1=\"156.9727\" y2=\"156.9727\"/></a><!--MD5=[48463e2c6a6535731fd54714a5d74dcd]\n",
       "@startuml\r\n",
       " \r\n",
       "comp def \"DecisionTest\" as E1  <<(T,blue)action def>> [[psysml:b2f18a0c-e7e8-4f9b-8be8-69c1ee721482 ]] {\r\n",
       "x\r\n",
       "- - actions - -\r\n",
       "A1\r\n",
       "A2\r\n",
       "A3\r\n",
       "- - decisionNodes - -\r\n",
       "test x\r\n",
       "- - transitions - -\r\n",
       "S\r\n",
       "}\r\n",
       "@enduml\r\n",
       "\n",
       "PlantUML version 1.2020.13(Sat Jun 13 12:26:38 UTC 2020)\n",
       "(EPL source distribution)\n",
       "Java Runtime: OpenJDK Runtime Environment\n",
       "JVM: OpenJDK 64-Bit Server VM\n",
       "Default Encoding: UTF-8\n",
       "Language: en\n",
       "Country: null\n",
       "--></g></svg>"
      ]
     },
     "execution_count": 7,
     "metadata": {},
     "output_type": "execute_result"
    }
   ],
   "source": [
    "%viz --style=\"COMPTREE\" --view=\"Sequence\" \"DecisionTest\""
   ]
  },
  {
   "cell_type": "code",
   "execution_count": 8,
   "id": "removed-decimal",
   "metadata": {
    "execution": {
     "iopub.execute_input": "2021-03-25T15:07:17.811526Z",
     "iopub.status.busy": "2021-03-25T15:07:17.810158Z",
     "iopub.status.idle": "2021-03-25T15:07:17.853683Z",
     "shell.execute_reply": "2021-03-25T15:07:17.854247Z"
    }
   },
   "outputs": [
    {
     "data": {
      "image/svg+xml": [
       "<?xml version=\"1.0\" encoding=\"UTF-8\" standalone=\"no\"?><svg xmlns=\"http://www.w3.org/2000/svg\" xmlns:xlink=\"http://www.w3.org/1999/xlink\" contentScriptType=\"application/ecmascript\" contentStyleType=\"text/css\" height=\"190px\" preserveAspectRatio=\"none\" style=\"width:873px;height:190px;background:#000000;\" version=\"1.1\" viewBox=\"0 0 873 190\" width=\"873px\" zoomAndPan=\"magnify\"><defs/><g><rect fill=\"#010116\" height=\"1\" style=\"stroke: #010116; stroke-width: 1.0;\" width=\"1\" x=\"0\" y=\"0\"/><rect fill=\"#33FF02\" height=\"21.2969\" style=\"stroke: #33FF02; stroke-width: 1.0;\" width=\"866\" x=\"5\" y=\"5\"/><text fill=\"#000000\" font-family=\"sans-serif\" font-size=\"14\" font-weight=\"bold\" lengthAdjust=\"spacingAndGlyphs\" textLength=\"168\" x=\"6\" y=\"20\">[From string (line 8) ]</text><text fill=\"#33FF02\" font-family=\"sans-serif\" font-size=\"14\" font-weight=\"bold\" lengthAdjust=\"spacingAndGlyphs\" textLength=\"0\" x=\"10\" y=\"40.2969\"/><text fill=\"#33FF02\" font-family=\"sans-serif\" font-size=\"14\" font-weight=\"bold\" lengthAdjust=\"spacingAndGlyphs\" textLength=\"79\" x=\"5\" y=\"56.5938\">@startuml</text><text fill=\"#33FF02\" font-family=\"sans-serif\" font-size=\"14\" font-weight=\"bold\" lengthAdjust=\"spacingAndGlyphs\" textLength=\"0\" x=\"10\" y=\"72.8906\"/><text fill=\"#33FF02\" font-family=\"sans-serif\" font-size=\"14\" font-weight=\"bold\" lengthAdjust=\"spacingAndGlyphs\" textLength=\"866\" x=\"5\" y=\"89.1875\">rec def \"DecisionTest\" as E1  &lt;&lt;(T,blue)action def&gt;&gt; [[psysml:b2f18a0c-e7e8-4f9b-8be8-69c1ee721482 ]] {</text><text fill=\"#33FF02\" font-family=\"sans-serif\" font-size=\"14\" font-weight=\"bold\" lengthAdjust=\"spacingAndGlyphs\" textLength=\"619\" x=\"5\" y=\"105.4844\">portout \"$result\" as E2  [[psysml:48b93896-3893-47bc-bfb4-82205587ec17 ]]</text><text fill=\"#33FF02\" font-family=\"sans-serif\" font-size=\"14\" font-weight=\"bold\" lengthAdjust=\"spacingAndGlyphs\" textLength=\"859\" x=\"5\" y=\"121.7813\">rec usage \"test x\" as E3  &lt;&lt;(T,blue)decisionNode&gt;&gt; [[psysml:e5d2d3ea-f48f-4426-8e8b-470a03ae9129 ]] {</text><text fill=\"#33FF02\" font-family=\"sans-serif\" font-size=\"14\" font-weight=\"bold\" lengthAdjust=\"spacingAndGlyphs\" textLength=\"10\" x=\"5\" y=\"138.0781\">}</text><text fill=\"#33FF02\" font-family=\"sans-serif\" font-size=\"14\" font-weight=\"bold\" lengthAdjust=\"spacingAndGlyphs\" textLength=\"0\" x=\"10\" y=\"154.375\"/><text fill=\"#33FF02\" font-family=\"sans-serif\" font-size=\"14\" font-weight=\"bold\" lengthAdjust=\"spacingAndGlyphs\" textLength=\"10\" x=\"5\" y=\"170.6719\">{</text><text fill=\"#FF0000\" font-family=\"sans-serif\" font-size=\"14\" font-weight=\"bold\" lengthAdjust=\"spacingAndGlyphs\" textLength=\"106\" x=\"10\" y=\"186.9688\">Syntax Error?</text><!--MD5=[e02812e0c82283de33f9069ab2541e8d]\n",
       "@startuml\r\n",
       " \r\n",
       "rec def \"DecisionTest\" as E1  <<(T,blue)action def>> [[psysml:b2f18a0c-e7e8-4f9b-8be8-69c1ee721482 ]] {\r\n",
       "portout \"$result\" as E2  [[psysml:48b93896-3893-47bc-bfb4-82205587ec17 ]] \r\n",
       "rec usage \"test x\" as E3  <<(T,blue)decisionNode>> [[psysml:e5d2d3ea-f48f-4426-8e8b-470a03ae9129 ]] {\r\n",
       "}\r\n",
       "\r\n",
       "{\r\n",
       "portout \"$result\" as E4  [[psysml:4b8ded41-753f-4321-9638-6238d10e7c80 ]] \r\n",
       "portin \"$x\" as E5  [[psysml:a7b14f91-b01b-46a8-a467-34455cb469c8 ]] \r\n",
       "portin \"$y\" as E6  [[psysml:5152b66c-9655-4578-b3e0-a1abffd52221 ]] \r\n",
       "portout \"$result\" as E7  [[psysml:4920d9f2-11b6-40e8-8f3b-51b5a6d86cfe ]] \r\n",
       "}\r\n",
       "\r\n",
       "{\r\n",
       "portout \"$result\" as E8  [[psysml:299014ef-2d5d-4d16-b133-5999efd30129 ]] \r\n",
       "portin \"$x\" as E9  [[psysml:06a6ed26-9ce9-4d08-906d-b2050b8e915c ]] \r\n",
       "portin \"$y\" as E10  [[psysml:5469b116-bf46-4216-bf8a-03dc856fdd9f ]] \r\n",
       "portout \"$result\" as E11  [[psysml:71834102-980a-4495-ab1e-6e2e09d248cc ]] \r\n",
       "}\r\n",
       "\r\n",
       "{\r\n",
       "}\r\n",
       "\r\n",
       "{\r\n",
       "}\r\n",
       "\r\n",
       "{\r\n",
       "portout \"$result\" as E12  [[psysml:f7c1e883-5939-48d9-8b79-1dd5526a379a ]] \r\n",
       "}\r\n",
       "\r\n",
       "{\r\n",
       "portout \"$result\" as E13  [[psysml:c31efe23-02f2-4c3d-bb99-9ef28e999a1c ]] \r\n",
       "}\r\n",
       "\r\n",
       "rec usage \"A1\" as E14  <<(T,blue)action>> [[psysml:83c05d54-f6d6-494a-833f-554dd37c4623 ]] {\r\n",
       "}\r\n",
       "\r\n",
       "rec usage \"A2\" as E15  <<(T,blue)action>> [[psysml:7dcb7014-cff9-44fa-9aa1-11f878021657 ]] {\r\n",
       "}\r\n",
       "\r\n",
       "rec usage \"A3\" as E16  <<(T,blue)action>> [[psysml:685b0fa1-42be-43fa-8250-fe6c84a18423 ]] {\r\n",
       "}\r\n",
       "\r\n",
       "rec usage \"S\" as E17  <<(T,blue)transition>> [[psysml:94783800-53cc-4e6d-883a-cc9d9c3ccfae ]] {\r\n",
       "rec usage \"A1\" as E18  <<(T,blue)action>> [[psysml:83c05d54-f6d6-494a-833f-554dd37c4623 ]] {\r\n",
       "}\r\n",
       "\r\n",
       "portout \"$result\" as E19  [[psysml:59943b31-a3c9-4e0b-a1a5-a807d88f74d6 ]] \r\n",
       "portin \"$x\" as E20  [[psysml:f56aed3e-0abf-415b-8307-7ce602886a4e ]] \r\n",
       "portin \"$y\" as E21  [[psysml:4a073027-8566-43d2-b22e-daad3da22329 ]] \r\n",
       "portout \"$result\" as E22  [[psysml:a62ac8b0-eaf6-4adc-9f14-e1e54df6c395 ]] \r\n",
       "}\r\n",
       "\r\n",
       "rec usage \"A3\" as E23  <<(T,blue)action>> [[psysml:685b0fa1-42be-43fa-8250-fe6c84a18423 ]] {\r\n",
       "}\r\n",
       "\r\n",
       "{\r\n",
       "portout \"$result\" as E24  [[psysml:98937697-67bb-45ee-8fed-5abb392c3fdb ]] \r\n",
       "portin \"$x\" as E25  [[psysml:a977dc00-242a-40b3-b9da-606e563c8c3f ]] \r\n",
       "portin \"$y\" as E26  [[psysml:ab4e429e-9a1f-45c8-b892-c2c8dcefbe2f ]] \r\n",
       "portout \"$result\" as E27  [[psysml:2734cb04-9b51-40b2-9042-069cd5d9688c ]] \r\n",
       "}\r\n",
       "\r\n",
       "}\r\n",
       "\r\n",
       "E6 -[thickness=5]- E4 [[psysml:60a3d248-455c-4b27-8c43-fdde339bf8bd ]] \r\n",
       "E10 -[thickness=5]- E8 [[psysml:985ddca8-3639-4ad8-9c42-b0c44e866ff3 ]] \r\n",
       "E21 -[thickness=5]- E19 [[psysml:246fdd7b-2672-46ea-b421-02bbe449818a ]] \r\n",
       "E26 -[thickness=5]- E24 [[psysml:b7d97414-dcb8-4731-9734-ffccd7d52e37 ]] \r\n",
       "@enduml\r\n",
       "\n",
       "PlantUML version 1.2020.13(Sat Jun 13 12:26:38 UTC 2020)\n",
       "(EPL source distribution)\n",
       "Java Runtime: OpenJDK Runtime Environment\n",
       "JVM: OpenJDK 64-Bit Server VM\n",
       "Default Encoding: UTF-8\n",
       "Language: en\n",
       "Country: null\n",
       "--></g></svg>"
      ]
     },
     "execution_count": 8,
     "metadata": {},
     "output_type": "execute_result"
    }
   ],
   "source": [
    "%viz --style=\"COMPTREE\" --view=\"MIXED\" \"DecisionTest\""
   ]
  },
  {
   "cell_type": "code",
   "execution_count": 9,
   "id": "hybrid-server",
   "metadata": {
    "execution": {
     "iopub.execute_input": "2021-03-25T15:07:17.905331Z",
     "iopub.status.busy": "2021-03-25T15:07:17.904683Z",
     "iopub.status.idle": "2021-03-25T15:07:17.959497Z",
     "shell.execute_reply": "2021-03-25T15:07:17.958802Z"
    }
   },
   "outputs": [
    {
     "data": {
      "image/svg+xml": [
       "<?xml version=\"1.0\" encoding=\"UTF-8\" standalone=\"no\"?><svg xmlns=\"http://www.w3.org/2000/svg\" xmlns:xlink=\"http://www.w3.org/1999/xlink\" contentScriptType=\"application/ecmascript\" contentStyleType=\"text/css\" height=\"288px\" preserveAspectRatio=\"none\" style=\"width:873px;height:288px;background:#000000;\" version=\"1.1\" viewBox=\"0 0 873 288\" width=\"873px\" zoomAndPan=\"magnify\"><defs/><g><rect fill=\"#1B1702\" height=\"1\" style=\"stroke: #1B1702; stroke-width: 1.0;\" width=\"1\" x=\"0\" y=\"0\"/><rect fill=\"#33FF02\" height=\"21.2969\" style=\"stroke: #33FF02; stroke-width: 1.0;\" width=\"866\" x=\"5\" y=\"5\"/><text fill=\"#000000\" font-family=\"sans-serif\" font-size=\"14\" font-weight=\"bold\" lengthAdjust=\"spacingAndGlyphs\" textLength=\"178\" x=\"6\" y=\"20\">[From string (line 14) ]</text><text fill=\"#33FF02\" font-family=\"sans-serif\" font-size=\"14\" font-weight=\"bold\" lengthAdjust=\"spacingAndGlyphs\" textLength=\"0\" x=\"10\" y=\"40.2969\"/><text fill=\"#33FF02\" font-family=\"sans-serif\" font-size=\"14\" font-weight=\"bold\" lengthAdjust=\"spacingAndGlyphs\" textLength=\"79\" x=\"5\" y=\"56.5938\">@startuml</text><text fill=\"#33FF02\" font-family=\"sans-serif\" font-size=\"14\" font-weight=\"bold\" lengthAdjust=\"spacingAndGlyphs\" textLength=\"215\" x=\"5\" y=\"72.8906\">skinparam linetype polyline</text><text fill=\"#33FF02\" font-family=\"sans-serif\" font-size=\"14\" font-weight=\"bold\" lengthAdjust=\"spacingAndGlyphs\" textLength=\"228\" x=\"5\" y=\"89.1875\">skinparam monochrome true</text><text fill=\"#33FF02\" font-family=\"sans-serif\" font-size=\"14\" font-weight=\"bold\" lengthAdjust=\"spacingAndGlyphs\" textLength=\"309\" x=\"5\" y=\"105.4844\">skinparam classbackgroundcolor white</text><text fill=\"#33FF02\" font-family=\"sans-serif\" font-size=\"14\" font-weight=\"bold\" lengthAdjust=\"spacingAndGlyphs\" textLength=\"215\" x=\"5\" y=\"121.7813\">skinparam shadowing false</text><text fill=\"#33FF02\" font-family=\"sans-serif\" font-size=\"14\" font-weight=\"bold\" lengthAdjust=\"spacingAndGlyphs\" textLength=\"206\" x=\"5\" y=\"138.0781\">skinparam wrapWidth 300</text><text fill=\"#33FF02\" font-family=\"sans-serif\" font-size=\"14\" font-weight=\"bold\" lengthAdjust=\"spacingAndGlyphs\" textLength=\"82\" x=\"5\" y=\"154.375\">hide circle</text><text fill=\"#33FF02\" font-family=\"sans-serif\" font-size=\"14\" font-weight=\"bold\" lengthAdjust=\"spacingAndGlyphs\" textLength=\"0\" x=\"10\" y=\"170.6719\"/><text fill=\"#33FF02\" font-family=\"sans-serif\" font-size=\"14\" font-weight=\"bold\" lengthAdjust=\"spacingAndGlyphs\" textLength=\"866\" x=\"5\" y=\"186.9688\">rec def \"DecisionTest\" as E1  &lt;&lt;(T,blue)action def&gt;&gt; [[psysml:b2f18a0c-e7e8-4f9b-8be8-69c1ee721482 ]] {</text><text fill=\"#33FF02\" font-family=\"sans-serif\" font-size=\"14\" font-weight=\"bold\" lengthAdjust=\"spacingAndGlyphs\" textLength=\"619\" x=\"5\" y=\"203.2656\">portout \"$result\" as E2  [[psysml:48b93896-3893-47bc-bfb4-82205587ec17 ]]</text><text fill=\"#33FF02\" font-family=\"sans-serif\" font-size=\"14\" font-weight=\"bold\" lengthAdjust=\"spacingAndGlyphs\" textLength=\"859\" x=\"5\" y=\"219.5625\">rec usage \"test x\" as E3  &lt;&lt;(T,blue)decisionNode&gt;&gt; [[psysml:e5d2d3ea-f48f-4426-8e8b-470a03ae9129 ]] {</text><text fill=\"#33FF02\" font-family=\"sans-serif\" font-size=\"14\" font-weight=\"bold\" lengthAdjust=\"spacingAndGlyphs\" textLength=\"10\" x=\"5\" y=\"235.8594\">}</text><text fill=\"#33FF02\" font-family=\"sans-serif\" font-size=\"14\" font-weight=\"bold\" lengthAdjust=\"spacingAndGlyphs\" textLength=\"0\" x=\"10\" y=\"252.1563\"/><text fill=\"#33FF02\" font-family=\"sans-serif\" font-size=\"14\" font-weight=\"bold\" lengthAdjust=\"spacingAndGlyphs\" textLength=\"10\" x=\"5\" y=\"268.4531\">{</text><text fill=\"#FF0000\" font-family=\"sans-serif\" font-size=\"14\" font-weight=\"bold\" lengthAdjust=\"spacingAndGlyphs\" textLength=\"106\" x=\"10\" y=\"284.75\">Syntax Error?</text><!--MD5=[36ddd174f79c750cfe687f6378ca5710]\n",
       "@startuml\r\n",
       "skinparam linetype polyline\r\n",
       "skinparam monochrome true\r\n",
       "skinparam classbackgroundcolor white\r\n",
       "skinparam shadowing false\r\n",
       "skinparam wrapWidth 300\r\n",
       "hide circle\r\n",
       "\r\n",
       "rec def \"DecisionTest\" as E1  <<(T,blue)action def>> [[psysml:b2f18a0c-e7e8-4f9b-8be8-69c1ee721482 ]] {\r\n",
       "portout \"$result\" as E2  [[psysml:48b93896-3893-47bc-bfb4-82205587ec17 ]] \r\n",
       "rec usage \"test x\" as E3  <<(T,blue)decisionNode>> [[psysml:e5d2d3ea-f48f-4426-8e8b-470a03ae9129 ]] {\r\n",
       "}\r\n",
       "\r\n",
       "{\r\n",
       "portout \"$result\" as E4  [[psysml:4b8ded41-753f-4321-9638-6238d10e7c80 ]] \r\n",
       "portin \"$x\" as E5  [[psysml:a7b14f91-b01b-46a8-a467-34455cb469c8 ]] \r\n",
       "portin \"$y\" as E6  [[psysml:5152b66c-9655-4578-b3e0-a1abffd52221 ]] \r\n",
       "portout \"$result\" as E7  [[psysml:4920d9f2-11b6-40e8-8f3b-51b5a6d86cfe ]] \r\n",
       "}\r\n",
       "\r\n",
       "{\r\n",
       "portout \"$result\" as E8  [[psysml:299014ef-2d5d-4d16-b133-5999efd30129 ]] \r\n",
       "portin \"$x\" as E9  [[psysml:06a6ed26-9ce9-4d08-906d-b2050b8e915c ]] \r\n",
       "portin \"$y\" as E10  [[psysml:5469b116-bf46-4216-bf8a-03dc856fdd9f ]] \r\n",
       "portout \"$result\" as E11  [[psysml:71834102-980a-4495-ab1e-6e2e09d248cc ]] \r\n",
       "}\r\n",
       "\r\n",
       "{\r\n",
       "}\r\n",
       "\r\n",
       "{\r\n",
       "}\r\n",
       "\r\n",
       "{\r\n",
       "portout \"$result\" as E12  [[psysml:f7c1e883-5939-48d9-8b79-1dd5526a379a ]] \r\n",
       "}\r\n",
       "\r\n",
       "{\r\n",
       "portout \"$result\" as E13  [[psysml:c31efe23-02f2-4c3d-bb99-9ef28e999a1c ]] \r\n",
       "}\r\n",
       "\r\n",
       "rec usage \"A1\" as E14  <<(T,blue)action>> [[psysml:83c05d54-f6d6-494a-833f-554dd37c4623 ]] {\r\n",
       "}\r\n",
       "\r\n",
       "rec usage \"A2\" as E15  <<(T,blue)action>> [[psysml:7dcb7014-cff9-44fa-9aa1-11f878021657 ]] {\r\n",
       "}\r\n",
       "\r\n",
       "rec usage \"A3\" as E16  <<(T,blue)action>> [[psysml:685b0fa1-42be-43fa-8250-fe6c84a18423 ]] {\r\n",
       "}\r\n",
       "\r\n",
       "rec usage \"S\" as E17  <<(T,blue)transition>> [[psysml:94783800-53cc-4e6d-883a-cc9d9c3ccfae ]] {\r\n",
       "rec usage \"A1\" as E18  <<(T,blue)action>> [[psysml:83c05d54-f6d6-494a-833f-554dd37c4623 ]] {\r\n",
       "}\r\n",
       "\r\n",
       "portout \"$result\" as E19  [[psysml:59943b31-a3c9-4e0b-a1a5-a807d88f74d6 ]] \r\n",
       "portin \"$x\" as E20  [[psysml:f56aed3e-0abf-415b-8307-7ce602886a4e ]] \r\n",
       "portin \"$y\" as E21  [[psysml:4a073027-8566-43d2-b22e-daad3da22329 ]] \r\n",
       "portout \"$result\" as E22  [[psysml:a62ac8b0-eaf6-4adc-9f14-e1e54df6c395 ]] \r\n",
       "}\r\n",
       "\r\n",
       "rec usage \"A3\" as E23  <<(T,blue)action>> [[psysml:685b0fa1-42be-43fa-8250-fe6c84a18423 ]] {\r\n",
       "}\r\n",
       "\r\n",
       "{\r\n",
       "portout \"$result\" as E24  [[psysml:98937697-67bb-45ee-8fed-5abb392c3fdb ]] \r\n",
       "portin \"$x\" as E25  [[psysml:a977dc00-242a-40b3-b9da-606e563c8c3f ]] \r\n",
       "portin \"$y\" as E26  [[psysml:ab4e429e-9a1f-45c8-b892-c2c8dcefbe2f ]] \r\n",
       "portout \"$result\" as E27  [[psysml:2734cb04-9b51-40b2-9042-069cd5d9688c ]] \r\n",
       "}\r\n",
       "\r\n",
       "}\r\n",
       "\r\n",
       "E6 -[thickness=5]- E4 [[psysml:60a3d248-455c-4b27-8c43-fdde339bf8bd ]] \r\n",
       "E10 -[thickness=5]- E8 [[psysml:985ddca8-3639-4ad8-9c42-b0c44e866ff3 ]] \r\n",
       "E21 -[thickness=5]- E19 [[psysml:246fdd7b-2672-46ea-b421-02bbe449818a ]] \r\n",
       "E26 -[thickness=5]- E24 [[psysml:b7d97414-dcb8-4731-9734-ffccd7d52e37 ]] \r\n",
       "@enduml\r\n",
       "\n",
       "PlantUML version 1.2020.13(Sat Jun 13 12:26:38 UTC 2020)\n",
       "(EPL source distribution)\n",
       "Java Runtime: OpenJDK Runtime Environment\n",
       "JVM: OpenJDK 64-Bit Server VM\n",
       "Default Encoding: UTF-8\n",
       "Language: en\n",
       "Country: null\n",
       "--></g></svg>"
      ]
     },
     "execution_count": 9,
     "metadata": {},
     "output_type": "execute_result"
    }
   ],
   "source": [
    "%viz --style=\"POLYLINE\" --view=\"Default\" \"DecisionTest\""
   ]
  },
  {
   "cell_type": "code",
   "execution_count": 10,
   "id": "broad-enforcement",
   "metadata": {
    "execution": {
     "iopub.execute_input": "2021-03-25T15:07:18.009977Z",
     "iopub.status.busy": "2021-03-25T15:07:18.009339Z",
     "iopub.status.idle": "2021-03-25T15:07:18.421381Z",
     "shell.execute_reply": "2021-03-25T15:07:18.421754Z"
    }
   },
   "outputs": [
    {
     "data": {
      "image/svg+xml": [
       "<?xml version=\"1.0\" encoding=\"UTF-8\" standalone=\"no\"?><svg xmlns=\"http://www.w3.org/2000/svg\" xmlns:xlink=\"http://www.w3.org/1999/xlink\" contentScriptType=\"application/ecmascript\" contentStyleType=\"text/css\" height=\"207px\" preserveAspectRatio=\"none\" style=\"width:109px;height:207px;\" version=\"1.1\" viewBox=\"0 0 109 207\" width=\"109px\" zoomAndPan=\"magnify\"><defs/><g><!--MD5=[43c9051892ef23e1a46a86907403d788]\n",
       "class E1--><a href=\"psysml:b2f18a0c-e7e8-4f9b-8be8-69c1ee721482\" target=\"_top\" title=\"psysml:b2f18a0c-e7e8-4f9b-8be8-69c1ee721482\" xlink:actuate=\"onRequest\" xlink:href=\"psysml:b2f18a0c-e7e8-4f9b-8be8-69c1ee721482\" xlink:show=\"new\" xlink:title=\"psysml:b2f18a0c-e7e8-4f9b-8be8-69c1ee721482\" xlink:type=\"simple\"><rect fill=\"#FFFFFF\" height=\"189.9844\" id=\"E1\" style=\"stroke: #383838; stroke-width: 1.5;\" width=\"91\" x=\"7\" y=\"7\"/><text fill=\"#000000\" font-family=\"sans-serif\" font-size=\"12\" font-style=\"italic\" lengthAdjust=\"spacingAndGlyphs\" textLength=\"77\" x=\"14\" y=\"23.1387\">«action def»</text><text fill=\"#000000\" font-family=\"sans-serif\" font-size=\"12\" lengthAdjust=\"spacingAndGlyphs\" textLength=\"80\" x=\"12.5\" y=\"37.1074\">DecisionTest</text><line style=\"stroke: #383838; stroke-width: 1.5;\" x1=\"8\" x2=\"97\" y1=\"44.9375\" y2=\"44.9375\"/><text fill=\"#000000\" font-family=\"sans-serif\" font-size=\"11\" lengthAdjust=\"spacingAndGlyphs\" textLength=\"6\" x=\"13\" y=\"75.9526\">x</text><line style=\"stroke: #383838; stroke-width: 1.0;\" x1=\"8\" x2=\"25\" y1=\"59.3398\" y2=\"59.3398\"/><text fill=\"#000000\" font-family=\"sans-serif\" font-size=\"11\" lengthAdjust=\"spacingAndGlyphs\" textLength=\"55\" x=\"25\" y=\"62.6479\">attributes</text><line style=\"stroke: #383838; stroke-width: 1.0;\" x1=\"80\" x2=\"97\" y1=\"59.3398\" y2=\"59.3398\"/><text fill=\"#000000\" font-family=\"sans-serif\" font-size=\"11\" lengthAdjust=\"spacingAndGlyphs\" textLength=\"14\" x=\"13\" y=\"105.562\">A1</text><text fill=\"#000000\" font-family=\"sans-serif\" font-size=\"11\" lengthAdjust=\"spacingAndGlyphs\" textLength=\"14\" x=\"13\" y=\"118.3667\">A2</text><text fill=\"#000000\" font-family=\"sans-serif\" font-size=\"11\" lengthAdjust=\"spacingAndGlyphs\" textLength=\"14\" x=\"13\" y=\"131.1714\">A3</text><line style=\"stroke: #383838; stroke-width: 1.0;\" x1=\"8\" x2=\"32\" y1=\"88.9492\" y2=\"88.9492\"/><text fill=\"#000000\" font-family=\"sans-serif\" font-size=\"11\" lengthAdjust=\"spacingAndGlyphs\" textLength=\"41\" x=\"32\" y=\"92.2573\">actions</text><line style=\"stroke: #383838; stroke-width: 1.0;\" x1=\"73\" x2=\"97\" y1=\"88.9492\" y2=\"88.9492\"/><text fill=\"#000000\" font-family=\"sans-serif\" font-size=\"11\" lengthAdjust=\"spacingAndGlyphs\" textLength=\"32\" x=\"13\" y=\"160.7808\">test x</text><line style=\"stroke: #383838; stroke-width: 1.0;\" x1=\"8\" x2=\"11\" y1=\"144.168\" y2=\"144.168\"/><text fill=\"#000000\" font-family=\"sans-serif\" font-size=\"11\" lengthAdjust=\"spacingAndGlyphs\" textLength=\"83\" x=\"11\" y=\"147.4761\">decisionNodes</text><line style=\"stroke: #383838; stroke-width: 1.0;\" x1=\"94\" x2=\"97\" y1=\"144.168\" y2=\"144.168\"/><text fill=\"#000000\" font-family=\"sans-serif\" font-size=\"11\" lengthAdjust=\"spacingAndGlyphs\" textLength=\"8\" x=\"13\" y=\"190.3901\">S</text><line style=\"stroke: #383838; stroke-width: 1.0;\" x1=\"8\" x2=\"22\" y1=\"173.7773\" y2=\"173.7773\"/><text fill=\"#000000\" font-family=\"sans-serif\" font-size=\"11\" lengthAdjust=\"spacingAndGlyphs\" textLength=\"61\" x=\"22\" y=\"177.0854\">transitions</text><line style=\"stroke: #383838; stroke-width: 1.0;\" x1=\"83\" x2=\"97\" y1=\"173.7773\" y2=\"173.7773\"/></a><!--MD5=[3c31ef78f635c51808828eb4941a28b9]\n",
       "@startuml\r\n",
       "skinparam linetype polyline\r\n",
       "skinparam monochrome true\r\n",
       "skinparam classbackgroundcolor white\r\n",
       "skinparam shadowing false\r\n",
       "skinparam wrapWidth 300\r\n",
       "hide circle\r\n",
       "\r\n",
       "comp def \"DecisionTest\" as E1  <<(T,blue)action def>> [[psysml:b2f18a0c-e7e8-4f9b-8be8-69c1ee721482 ]] {\r\n",
       "- - attributes - -\r\n",
       "x\r\n",
       "- - actions - -\r\n",
       "A1\r\n",
       "A2\r\n",
       "A3\r\n",
       "- - decisionNodes - -\r\n",
       "test x\r\n",
       "- - transitions - -\r\n",
       "S\r\n",
       "}\r\n",
       "@enduml\r\n",
       "\n",
       "PlantUML version 1.2020.13(Sat Jun 13 12:26:38 UTC 2020)\n",
       "(EPL source distribution)\n",
       "Java Runtime: OpenJDK Runtime Environment\n",
       "JVM: OpenJDK 64-Bit Server VM\n",
       "Default Encoding: UTF-8\n",
       "Language: en\n",
       "Country: null\n",
       "--></g></svg>"
      ]
     },
     "execution_count": 10,
     "metadata": {},
     "output_type": "execute_result"
    }
   ],
   "source": [
    "%viz --style=\"POLYLINE\" --view=\"Tree\" \"DecisionTest\""
   ]
  },
  {
   "cell_type": "code",
   "execution_count": 11,
   "id": "answering-reading",
   "metadata": {
    "execution": {
     "iopub.execute_input": "2021-03-25T15:07:18.474135Z",
     "iopub.status.busy": "2021-03-25T15:07:18.473391Z",
     "iopub.status.idle": "2021-03-25T15:07:18.486918Z",
     "shell.execute_reply": "2021-03-25T15:07:18.487286Z"
    }
   },
   "outputs": [
    {
     "data": {
      "image/svg+xml": [
       "<?xml version=\"1.0\" encoding=\"UTF-8\" standalone=\"no\"?><svg xmlns=\"http://www.w3.org/2000/svg\" xmlns:xlink=\"http://www.w3.org/1999/xlink\" contentScriptType=\"application/ecmascript\" contentStyleType=\"text/css\" height=\"12px\" preserveAspectRatio=\"none\" style=\"width:12px;height:12px;\" version=\"1.1\" viewBox=\"0 0 12 12\" width=\"12px\" zoomAndPan=\"magnify\"><defs/><g><!--MD5=[896ac0e7a515d8dd7765a661cb4ee08b]\n",
       "@startuml\r\n",
       "skinparam linetype polyline\r\n",
       "skinparam monochrome true\r\n",
       "skinparam classbackgroundcolor white\r\n",
       "skinparam shadowing false\r\n",
       "skinparam wrapWidth 300\r\n",
       "hide circle\r\n",
       "\r\n",
       "@enduml\r\n",
       "\n",
       "PlantUML version 1.2020.13(Sat Jun 13 12:26:38 UTC 2020)\n",
       "(EPL source distribution)\n",
       "Java Runtime: OpenJDK Runtime Environment\n",
       "JVM: OpenJDK 64-Bit Server VM\n",
       "Default Encoding: UTF-8\n",
       "Language: en\n",
       "Country: null\n",
       "--></g></svg>"
      ]
     },
     "execution_count": 11,
     "metadata": {},
     "output_type": "execute_result"
    }
   ],
   "source": [
    "%viz --style=\"POLYLINE\" --view=\"State\" \"DecisionTest\""
   ]
  },
  {
   "cell_type": "code",
   "execution_count": 12,
   "id": "mental-overall",
   "metadata": {
    "execution": {
     "iopub.execute_input": "2021-03-25T15:07:18.538722Z",
     "iopub.status.busy": "2021-03-25T15:07:18.538231Z",
     "iopub.status.idle": "2021-03-25T15:07:18.577099Z",
     "shell.execute_reply": "2021-03-25T15:07:18.577485Z"
    }
   },
   "outputs": [
    {
     "data": {
      "image/svg+xml": [
       "<?xml version=\"1.0\" encoding=\"UTF-8\" standalone=\"no\"?><svg xmlns=\"http://www.w3.org/2000/svg\" xmlns:xlink=\"http://www.w3.org/1999/xlink\" contentScriptType=\"application/ecmascript\" contentStyleType=\"text/css\" height=\"71px\" preserveAspectRatio=\"none\" style=\"width:145px;height:71px;\" version=\"1.1\" viewBox=\"0 0 145 71\" width=\"145px\" zoomAndPan=\"magnify\"><defs/><g><!--MD5=[43c9051892ef23e1a46a86907403d788]\n",
       "class E1--><a href=\"psysml:b2f18a0c-e7e8-4f9b-8be8-69c1ee721482\" target=\"_top\" title=\"psysml:b2f18a0c-e7e8-4f9b-8be8-69c1ee721482\" xlink:actuate=\"onRequest\" xlink:href=\"psysml:b2f18a0c-e7e8-4f9b-8be8-69c1ee721482\" xlink:show=\"new\" xlink:title=\"psysml:b2f18a0c-e7e8-4f9b-8be8-69c1ee721482\" xlink:type=\"simple\"><rect fill=\"#FFFFFF\" height=\"53.9375\" id=\"E1\" style=\"stroke: #383838; stroke-width: 1.5;\" width=\"127\" x=\"7\" y=\"7\"/><text fill=\"#000000\" font-family=\"sans-serif\" font-size=\"12\" font-style=\"italic\" lengthAdjust=\"spacingAndGlyphs\" textLength=\"125\" x=\"8\" y=\"23.1387\">«(T,blue)action def»</text><text fill=\"#000000\" font-family=\"sans-serif\" font-size=\"12\" lengthAdjust=\"spacingAndGlyphs\" textLength=\"80\" x=\"30.5\" y=\"37.1074\">DecisionTest</text><line style=\"stroke: #383838; stroke-width: 1.5;\" x1=\"8\" x2=\"133\" y1=\"44.9375\" y2=\"44.9375\"/><line style=\"stroke: #383838; stroke-width: 1.5;\" x1=\"8\" x2=\"133\" y1=\"52.9375\" y2=\"52.9375\"/></a><!--MD5=[f47e4c2ea7beee239272b3b3986f29f3]\n",
       "@startuml\r\n",
       "skinparam ranksep 8\r\n",
       "skinparam rectangle {\r\n",
       " backgroundColor<<block>> LightGreen\r\n",
       "}\r\n",
       "skinparam linetype polyline\r\n",
       "skinparam monochrome true\r\n",
       "skinparam classbackgroundcolor white\r\n",
       "skinparam shadowing false\r\n",
       "skinparam wrapWidth 300\r\n",
       "hide circle\r\n",
       "\r\n",
       "def \"DecisionTest\" as E1  <<(T,blue)action def>> [[psysml:b2f18a0c-e7e8-4f9b-8be8-69c1ee721482 ]] \r\n",
       "@enduml\r\n",
       "\n",
       "PlantUML version 1.2020.13(Sat Jun 13 12:26:38 UTC 2020)\n",
       "(EPL source distribution)\n",
       "Java Runtime: OpenJDK Runtime Environment\n",
       "JVM: OpenJDK 64-Bit Server VM\n",
       "Default Encoding: UTF-8\n",
       "Language: en\n",
       "Country: null\n",
       "--></g></svg>"
      ]
     },
     "execution_count": 12,
     "metadata": {},
     "output_type": "execute_result"
    }
   ],
   "source": [
    "%viz --style=\"POLYLINE\" --view=\"Interconnection\" \"DecisionTest\""
   ]
  },
  {
   "cell_type": "code",
   "execution_count": 13,
   "id": "split-token",
   "metadata": {
    "execution": {
     "iopub.execute_input": "2021-03-25T15:07:18.627201Z",
     "iopub.status.busy": "2021-03-25T15:07:18.626657Z",
     "iopub.status.idle": "2021-03-25T15:07:18.672564Z",
     "shell.execute_reply": "2021-03-25T15:07:18.671112Z"
    }
   },
   "outputs": [
    {
     "data": {
      "image/svg+xml": [
       "<?xml version=\"1.0\" encoding=\"UTF-8\" standalone=\"no\"?><svg xmlns=\"http://www.w3.org/2000/svg\" xmlns:xlink=\"http://www.w3.org/1999/xlink\" contentScriptType=\"application/ecmascript\" contentStyleType=\"text/css\" height=\"304px\" preserveAspectRatio=\"none\" style=\"width:873px;height:304px;background:#000000;\" version=\"1.1\" viewBox=\"0 0 873 304\" width=\"873px\" zoomAndPan=\"magnify\"><defs/><g><rect fill=\"#181013\" height=\"1\" style=\"stroke: #181013; stroke-width: 1.0;\" width=\"1\" x=\"0\" y=\"0\"/><rect fill=\"#33FF02\" height=\"21.2969\" style=\"stroke: #33FF02; stroke-width: 1.0;\" width=\"866\" x=\"5\" y=\"5\"/><text fill=\"#000000\" font-family=\"sans-serif\" font-size=\"14\" font-weight=\"bold\" lengthAdjust=\"spacingAndGlyphs\" textLength=\"178\" x=\"6\" y=\"20\">[From string (line 15) ]</text><text fill=\"#33FF02\" font-family=\"sans-serif\" font-size=\"14\" font-weight=\"bold\" lengthAdjust=\"spacingAndGlyphs\" textLength=\"0\" x=\"10\" y=\"40.2969\"/><text fill=\"#33FF02\" font-family=\"sans-serif\" font-size=\"14\" font-weight=\"bold\" lengthAdjust=\"spacingAndGlyphs\" textLength=\"79\" x=\"5\" y=\"56.5938\">@startuml</text><text fill=\"#33FF02\" font-family=\"sans-serif\" font-size=\"14\" font-weight=\"bold\" lengthAdjust=\"spacingAndGlyphs\" textLength=\"165\" x=\"5\" y=\"72.8906\">skinparam ranksep 8</text><text fill=\"#33FF02\" font-family=\"sans-serif\" font-size=\"14\" font-weight=\"bold\" lengthAdjust=\"spacingAndGlyphs\" textLength=\"215\" x=\"5\" y=\"89.1875\">skinparam linetype polyline</text><text fill=\"#33FF02\" font-family=\"sans-serif\" font-size=\"14\" font-weight=\"bold\" lengthAdjust=\"spacingAndGlyphs\" textLength=\"228\" x=\"5\" y=\"105.4844\">skinparam monochrome true</text><text fill=\"#33FF02\" font-family=\"sans-serif\" font-size=\"14\" font-weight=\"bold\" lengthAdjust=\"spacingAndGlyphs\" textLength=\"309\" x=\"5\" y=\"121.7813\">skinparam classbackgroundcolor white</text><text fill=\"#33FF02\" font-family=\"sans-serif\" font-size=\"14\" font-weight=\"bold\" lengthAdjust=\"spacingAndGlyphs\" textLength=\"215\" x=\"5\" y=\"138.0781\">skinparam shadowing false</text><text fill=\"#33FF02\" font-family=\"sans-serif\" font-size=\"14\" font-weight=\"bold\" lengthAdjust=\"spacingAndGlyphs\" textLength=\"206\" x=\"5\" y=\"154.375\">skinparam wrapWidth 300</text><text fill=\"#33FF02\" font-family=\"sans-serif\" font-size=\"14\" font-weight=\"bold\" lengthAdjust=\"spacingAndGlyphs\" textLength=\"82\" x=\"5\" y=\"170.6719\">hide circle</text><text fill=\"#33FF02\" font-family=\"sans-serif\" font-size=\"14\" font-weight=\"bold\" lengthAdjust=\"spacingAndGlyphs\" textLength=\"0\" x=\"10\" y=\"186.9688\"/><text fill=\"#33FF02\" font-family=\"sans-serif\" font-size=\"14\" font-weight=\"bold\" lengthAdjust=\"spacingAndGlyphs\" textLength=\"866\" x=\"5\" y=\"203.2656\">rec def \"DecisionTest\" as E1  &lt;&lt;(T,blue)action def&gt;&gt; [[psysml:b2f18a0c-e7e8-4f9b-8be8-69c1ee721482 ]] {</text><text fill=\"#33FF02\" font-family=\"sans-serif\" font-size=\"14\" font-weight=\"bold\" lengthAdjust=\"spacingAndGlyphs\" textLength=\"619\" x=\"5\" y=\"219.5625\">portout \"$result\" as E2  [[psysml:48b93896-3893-47bc-bfb4-82205587ec17 ]]</text><text fill=\"#33FF02\" font-family=\"sans-serif\" font-size=\"14\" font-weight=\"bold\" lengthAdjust=\"spacingAndGlyphs\" textLength=\"859\" x=\"5\" y=\"235.8594\">rec usage \"test x\" as E3  &lt;&lt;(T,blue)decisionNode&gt;&gt; [[psysml:e5d2d3ea-f48f-4426-8e8b-470a03ae9129 ]] {</text><text fill=\"#33FF02\" font-family=\"sans-serif\" font-size=\"14\" font-weight=\"bold\" lengthAdjust=\"spacingAndGlyphs\" textLength=\"10\" x=\"5\" y=\"252.1563\">}</text><text fill=\"#33FF02\" font-family=\"sans-serif\" font-size=\"14\" font-weight=\"bold\" lengthAdjust=\"spacingAndGlyphs\" textLength=\"0\" x=\"10\" y=\"268.4531\"/><text fill=\"#33FF02\" font-family=\"sans-serif\" font-size=\"14\" font-weight=\"bold\" lengthAdjust=\"spacingAndGlyphs\" textLength=\"10\" x=\"5\" y=\"284.75\">{</text><text fill=\"#FF0000\" font-family=\"sans-serif\" font-size=\"14\" font-weight=\"bold\" lengthAdjust=\"spacingAndGlyphs\" textLength=\"106\" x=\"10\" y=\"301.0469\">Syntax Error?</text><!--MD5=[bda93989a248653047e3e2d128c0d265]\n",
       "@startuml\r\n",
       "skinparam ranksep 8\r\n",
       "skinparam linetype polyline\r\n",
       "skinparam monochrome true\r\n",
       "skinparam classbackgroundcolor white\r\n",
       "skinparam shadowing false\r\n",
       "skinparam wrapWidth 300\r\n",
       "hide circle\r\n",
       "\r\n",
       "rec def \"DecisionTest\" as E1  <<(T,blue)action def>> [[psysml:b2f18a0c-e7e8-4f9b-8be8-69c1ee721482 ]] {\r\n",
       "portout \"$result\" as E2  [[psysml:48b93896-3893-47bc-bfb4-82205587ec17 ]] \r\n",
       "rec usage \"test x\" as E3  <<(T,blue)decisionNode>> [[psysml:e5d2d3ea-f48f-4426-8e8b-470a03ae9129 ]] {\r\n",
       "}\r\n",
       "\r\n",
       "{\r\n",
       "portout \"$result\" as E4  [[psysml:4b8ded41-753f-4321-9638-6238d10e7c80 ]] \r\n",
       "portin \"$x\" as E5  [[psysml:a7b14f91-b01b-46a8-a467-34455cb469c8 ]] \r\n",
       "portin \"$y\" as E6  [[psysml:5152b66c-9655-4578-b3e0-a1abffd52221 ]] \r\n",
       "portout \"$result\" as E7  [[psysml:4920d9f2-11b6-40e8-8f3b-51b5a6d86cfe ]] \r\n",
       "}\r\n",
       "\r\n",
       "{\r\n",
       "portout \"$result\" as E8  [[psysml:299014ef-2d5d-4d16-b133-5999efd30129 ]] \r\n",
       "portin \"$x\" as E9  [[psysml:06a6ed26-9ce9-4d08-906d-b2050b8e915c ]] \r\n",
       "portin \"$y\" as E10  [[psysml:5469b116-bf46-4216-bf8a-03dc856fdd9f ]] \r\n",
       "portout \"$result\" as E11  [[psysml:71834102-980a-4495-ab1e-6e2e09d248cc ]] \r\n",
       "}\r\n",
       "\r\n",
       "{\r\n",
       "}\r\n",
       "\r\n",
       "{\r\n",
       "}\r\n",
       "\r\n",
       "{\r\n",
       "portout \"$result\" as E12  [[psysml:f7c1e883-5939-48d9-8b79-1dd5526a379a ]] \r\n",
       "}\r\n",
       "\r\n",
       "{\r\n",
       "portout \"$result\" as E13  [[psysml:c31efe23-02f2-4c3d-bb99-9ef28e999a1c ]] \r\n",
       "}\r\n",
       "\r\n",
       "rec usage \"A1\" as E14  <<(T,blue)action>> [[psysml:83c05d54-f6d6-494a-833f-554dd37c4623 ]] {\r\n",
       "}\r\n",
       "\r\n",
       "rec usage \"A2\" as E15  <<(T,blue)action>> [[psysml:7dcb7014-cff9-44fa-9aa1-11f878021657 ]] {\r\n",
       "}\r\n",
       "\r\n",
       "rec usage \"A3\" as E16  <<(T,blue)action>> [[psysml:685b0fa1-42be-43fa-8250-fe6c84a18423 ]] {\r\n",
       "}\r\n",
       "\r\n",
       "rec usage \"S\" as E17  <<(T,blue)transition>> [[psysml:94783800-53cc-4e6d-883a-cc9d9c3ccfae ]] {\r\n",
       "rec usage \"A1\" as E18  <<(T,blue)action>> [[psysml:83c05d54-f6d6-494a-833f-554dd37c4623 ]] {\r\n",
       "}\r\n",
       "\r\n",
       "portout \"$result\" as E19  [[psysml:59943b31-a3c9-4e0b-a1a5-a807d88f74d6 ]] \r\n",
       "portin \"$x\" as E20  [[psysml:f56aed3e-0abf-415b-8307-7ce602886a4e ]] \r\n",
       "portin \"$y\" as E21  [[psysml:4a073027-8566-43d2-b22e-daad3da22329 ]] \r\n",
       "portout \"$result\" as E22  [[psysml:a62ac8b0-eaf6-4adc-9f14-e1e54df6c395 ]] \r\n",
       "}\r\n",
       "\r\n",
       "rec usage \"A3\" as E23  <<(T,blue)action>> [[psysml:685b0fa1-42be-43fa-8250-fe6c84a18423 ]] {\r\n",
       "}\r\n",
       "\r\n",
       "{\r\n",
       "portout \"$result\" as E24  [[psysml:98937697-67bb-45ee-8fed-5abb392c3fdb ]] \r\n",
       "portin \"$x\" as E25  [[psysml:a977dc00-242a-40b3-b9da-606e563c8c3f ]] \r\n",
       "portin \"$y\" as E26  [[psysml:ab4e429e-9a1f-45c8-b892-c2c8dcefbe2f ]] \r\n",
       "portout \"$result\" as E27  [[psysml:2734cb04-9b51-40b2-9042-069cd5d9688c ]] \r\n",
       "}\r\n",
       "\r\n",
       "}\r\n",
       "\r\n",
       "E6 -[thickness=5]- E4 [[psysml:60a3d248-455c-4b27-8c43-fdde339bf8bd ]] \r\n",
       "E10 -[thickness=5]- E8 [[psysml:985ddca8-3639-4ad8-9c42-b0c44e866ff3 ]] \r\n",
       "E21 -[thickness=5]- E19 [[psysml:246fdd7b-2672-46ea-b421-02bbe449818a ]] \r\n",
       "E26 -[thickness=5]- E24 [[psysml:b7d97414-dcb8-4731-9734-ffccd7d52e37 ]] \r\n",
       "@enduml\r\n",
       "\n",
       "PlantUML version 1.2020.13(Sat Jun 13 12:26:38 UTC 2020)\n",
       "(EPL source distribution)\n",
       "Java Runtime: OpenJDK Runtime Environment\n",
       "JVM: OpenJDK 64-Bit Server VM\n",
       "Default Encoding: UTF-8\n",
       "Language: en\n",
       "Country: null\n",
       "--></g></svg>"
      ]
     },
     "execution_count": 13,
     "metadata": {},
     "output_type": "execute_result"
    }
   ],
   "source": [
    "%viz --style=\"POLYLINE\" --view=\"Action\" \"DecisionTest\""
   ]
  },
  {
   "cell_type": "code",
   "execution_count": 14,
   "id": "educational-giant",
   "metadata": {
    "execution": {
     "iopub.execute_input": "2021-03-25T15:07:18.723538Z",
     "iopub.status.busy": "2021-03-25T15:07:18.723027Z",
     "iopub.status.idle": "2021-03-25T15:07:19.112962Z",
     "shell.execute_reply": "2021-03-25T15:07:19.113441Z"
    }
   },
   "outputs": [
    {
     "data": {
      "image/svg+xml": [
       "<?xml version=\"1.0\" encoding=\"UTF-8\" standalone=\"no\"?><svg xmlns=\"http://www.w3.org/2000/svg\" xmlns:xlink=\"http://www.w3.org/1999/xlink\" contentScriptType=\"application/ecmascript\" contentStyleType=\"text/css\" height=\"207px\" preserveAspectRatio=\"none\" style=\"width:109px;height:207px;\" version=\"1.1\" viewBox=\"0 0 109 207\" width=\"109px\" zoomAndPan=\"magnify\"><defs/><g><!--MD5=[43c9051892ef23e1a46a86907403d788]\n",
       "class E1--><a href=\"psysml:b2f18a0c-e7e8-4f9b-8be8-69c1ee721482\" target=\"_top\" title=\"psysml:b2f18a0c-e7e8-4f9b-8be8-69c1ee721482\" xlink:actuate=\"onRequest\" xlink:href=\"psysml:b2f18a0c-e7e8-4f9b-8be8-69c1ee721482\" xlink:show=\"new\" xlink:title=\"psysml:b2f18a0c-e7e8-4f9b-8be8-69c1ee721482\" xlink:type=\"simple\"><rect fill=\"#FFFFFF\" height=\"189.9844\" id=\"E1\" style=\"stroke: #383838; stroke-width: 1.5;\" width=\"91\" x=\"7\" y=\"7\"/><text fill=\"#000000\" font-family=\"sans-serif\" font-size=\"12\" font-style=\"italic\" lengthAdjust=\"spacingAndGlyphs\" textLength=\"77\" x=\"14\" y=\"23.1387\">«action def»</text><text fill=\"#000000\" font-family=\"sans-serif\" font-size=\"12\" lengthAdjust=\"spacingAndGlyphs\" textLength=\"80\" x=\"12.5\" y=\"37.1074\">DecisionTest</text><line style=\"stroke: #383838; stroke-width: 1.5;\" x1=\"8\" x2=\"97\" y1=\"44.9375\" y2=\"44.9375\"/><text fill=\"#000000\" font-family=\"sans-serif\" font-size=\"11\" lengthAdjust=\"spacingAndGlyphs\" textLength=\"6\" x=\"13\" y=\"75.9526\">x</text><line style=\"stroke: #383838; stroke-width: 1.0;\" x1=\"8\" x2=\"25\" y1=\"59.3398\" y2=\"59.3398\"/><text fill=\"#000000\" font-family=\"sans-serif\" font-size=\"11\" lengthAdjust=\"spacingAndGlyphs\" textLength=\"55\" x=\"25\" y=\"62.6479\">attributes</text><line style=\"stroke: #383838; stroke-width: 1.0;\" x1=\"80\" x2=\"97\" y1=\"59.3398\" y2=\"59.3398\"/><text fill=\"#000000\" font-family=\"sans-serif\" font-size=\"11\" lengthAdjust=\"spacingAndGlyphs\" textLength=\"14\" x=\"13\" y=\"105.562\">A1</text><text fill=\"#000000\" font-family=\"sans-serif\" font-size=\"11\" lengthAdjust=\"spacingAndGlyphs\" textLength=\"14\" x=\"13\" y=\"118.3667\">A2</text><text fill=\"#000000\" font-family=\"sans-serif\" font-size=\"11\" lengthAdjust=\"spacingAndGlyphs\" textLength=\"14\" x=\"13\" y=\"131.1714\">A3</text><line style=\"stroke: #383838; stroke-width: 1.0;\" x1=\"8\" x2=\"32\" y1=\"88.9492\" y2=\"88.9492\"/><text fill=\"#000000\" font-family=\"sans-serif\" font-size=\"11\" lengthAdjust=\"spacingAndGlyphs\" textLength=\"41\" x=\"32\" y=\"92.2573\">actions</text><line style=\"stroke: #383838; stroke-width: 1.0;\" x1=\"73\" x2=\"97\" y1=\"88.9492\" y2=\"88.9492\"/><text fill=\"#000000\" font-family=\"sans-serif\" font-size=\"11\" lengthAdjust=\"spacingAndGlyphs\" textLength=\"32\" x=\"13\" y=\"160.7808\">test x</text><line style=\"stroke: #383838; stroke-width: 1.0;\" x1=\"8\" x2=\"11\" y1=\"144.168\" y2=\"144.168\"/><text fill=\"#000000\" font-family=\"sans-serif\" font-size=\"11\" lengthAdjust=\"spacingAndGlyphs\" textLength=\"83\" x=\"11\" y=\"147.4761\">decisionNodes</text><line style=\"stroke: #383838; stroke-width: 1.0;\" x1=\"94\" x2=\"97\" y1=\"144.168\" y2=\"144.168\"/><text fill=\"#000000\" font-family=\"sans-serif\" font-size=\"11\" lengthAdjust=\"spacingAndGlyphs\" textLength=\"8\" x=\"13\" y=\"190.3901\">S</text><line style=\"stroke: #383838; stroke-width: 1.0;\" x1=\"8\" x2=\"22\" y1=\"173.7773\" y2=\"173.7773\"/><text fill=\"#000000\" font-family=\"sans-serif\" font-size=\"11\" lengthAdjust=\"spacingAndGlyphs\" textLength=\"61\" x=\"22\" y=\"177.0854\">transitions</text><line style=\"stroke: #383838; stroke-width: 1.0;\" x1=\"83\" x2=\"97\" y1=\"173.7773\" y2=\"173.7773\"/></a><!--MD5=[3c31ef78f635c51808828eb4941a28b9]\n",
       "@startuml\r\n",
       "skinparam linetype polyline\r\n",
       "skinparam monochrome true\r\n",
       "skinparam classbackgroundcolor white\r\n",
       "skinparam shadowing false\r\n",
       "skinparam wrapWidth 300\r\n",
       "hide circle\r\n",
       "\r\n",
       "comp def \"DecisionTest\" as E1  <<(T,blue)action def>> [[psysml:b2f18a0c-e7e8-4f9b-8be8-69c1ee721482 ]] {\r\n",
       "- - attributes - -\r\n",
       "x\r\n",
       "- - actions - -\r\n",
       "A1\r\n",
       "A2\r\n",
       "A3\r\n",
       "- - decisionNodes - -\r\n",
       "test x\r\n",
       "- - transitions - -\r\n",
       "S\r\n",
       "}\r\n",
       "@enduml\r\n",
       "\n",
       "PlantUML version 1.2020.13(Sat Jun 13 12:26:38 UTC 2020)\n",
       "(EPL source distribution)\n",
       "Java Runtime: OpenJDK Runtime Environment\n",
       "JVM: OpenJDK 64-Bit Server VM\n",
       "Default Encoding: UTF-8\n",
       "Language: en\n",
       "Country: null\n",
       "--></g></svg>"
      ]
     },
     "execution_count": 14,
     "metadata": {},
     "output_type": "execute_result"
    }
   ],
   "source": [
    "%viz --style=\"POLYLINE\" --view=\"Sequence\" \"DecisionTest\""
   ]
  },
  {
   "cell_type": "code",
   "execution_count": 15,
   "id": "unique-phase",
   "metadata": {
    "execution": {
     "iopub.execute_input": "2021-03-25T15:07:19.164987Z",
     "iopub.status.busy": "2021-03-25T15:07:19.164498Z",
     "iopub.status.idle": "2021-03-25T15:07:19.204412Z",
     "shell.execute_reply": "2021-03-25T15:07:19.204042Z"
    }
   },
   "outputs": [
    {
     "data": {
      "image/svg+xml": [
       "<?xml version=\"1.0\" encoding=\"UTF-8\" standalone=\"no\"?><svg xmlns=\"http://www.w3.org/2000/svg\" xmlns:xlink=\"http://www.w3.org/1999/xlink\" contentScriptType=\"application/ecmascript\" contentStyleType=\"text/css\" height=\"288px\" preserveAspectRatio=\"none\" style=\"width:873px;height:288px;background:#000000;\" version=\"1.1\" viewBox=\"0 0 873 288\" width=\"873px\" zoomAndPan=\"magnify\"><defs/><g><rect fill=\"#171024\" height=\"1\" style=\"stroke: #171024; stroke-width: 1.0;\" width=\"1\" x=\"0\" y=\"0\"/><rect fill=\"#33FF02\" height=\"21.2969\" style=\"stroke: #33FF02; stroke-width: 1.0;\" width=\"866\" x=\"5\" y=\"5\"/><text fill=\"#000000\" font-family=\"sans-serif\" font-size=\"14\" font-weight=\"bold\" lengthAdjust=\"spacingAndGlyphs\" textLength=\"178\" x=\"6\" y=\"20\">[From string (line 14) ]</text><text fill=\"#33FF02\" font-family=\"sans-serif\" font-size=\"14\" font-weight=\"bold\" lengthAdjust=\"spacingAndGlyphs\" textLength=\"0\" x=\"10\" y=\"40.2969\"/><text fill=\"#33FF02\" font-family=\"sans-serif\" font-size=\"14\" font-weight=\"bold\" lengthAdjust=\"spacingAndGlyphs\" textLength=\"79\" x=\"5\" y=\"56.5938\">@startuml</text><text fill=\"#33FF02\" font-family=\"sans-serif\" font-size=\"14\" font-weight=\"bold\" lengthAdjust=\"spacingAndGlyphs\" textLength=\"215\" x=\"5\" y=\"72.8906\">skinparam linetype polyline</text><text fill=\"#33FF02\" font-family=\"sans-serif\" font-size=\"14\" font-weight=\"bold\" lengthAdjust=\"spacingAndGlyphs\" textLength=\"228\" x=\"5\" y=\"89.1875\">skinparam monochrome true</text><text fill=\"#33FF02\" font-family=\"sans-serif\" font-size=\"14\" font-weight=\"bold\" lengthAdjust=\"spacingAndGlyphs\" textLength=\"309\" x=\"5\" y=\"105.4844\">skinparam classbackgroundcolor white</text><text fill=\"#33FF02\" font-family=\"sans-serif\" font-size=\"14\" font-weight=\"bold\" lengthAdjust=\"spacingAndGlyphs\" textLength=\"215\" x=\"5\" y=\"121.7813\">skinparam shadowing false</text><text fill=\"#33FF02\" font-family=\"sans-serif\" font-size=\"14\" font-weight=\"bold\" lengthAdjust=\"spacingAndGlyphs\" textLength=\"206\" x=\"5\" y=\"138.0781\">skinparam wrapWidth 300</text><text fill=\"#33FF02\" font-family=\"sans-serif\" font-size=\"14\" font-weight=\"bold\" lengthAdjust=\"spacingAndGlyphs\" textLength=\"82\" x=\"5\" y=\"154.375\">hide circle</text><text fill=\"#33FF02\" font-family=\"sans-serif\" font-size=\"14\" font-weight=\"bold\" lengthAdjust=\"spacingAndGlyphs\" textLength=\"0\" x=\"10\" y=\"170.6719\"/><text fill=\"#33FF02\" font-family=\"sans-serif\" font-size=\"14\" font-weight=\"bold\" lengthAdjust=\"spacingAndGlyphs\" textLength=\"866\" x=\"5\" y=\"186.9688\">rec def \"DecisionTest\" as E1  &lt;&lt;(T,blue)action def&gt;&gt; [[psysml:b2f18a0c-e7e8-4f9b-8be8-69c1ee721482 ]] {</text><text fill=\"#33FF02\" font-family=\"sans-serif\" font-size=\"14\" font-weight=\"bold\" lengthAdjust=\"spacingAndGlyphs\" textLength=\"619\" x=\"5\" y=\"203.2656\">portout \"$result\" as E2  [[psysml:48b93896-3893-47bc-bfb4-82205587ec17 ]]</text><text fill=\"#33FF02\" font-family=\"sans-serif\" font-size=\"14\" font-weight=\"bold\" lengthAdjust=\"spacingAndGlyphs\" textLength=\"859\" x=\"5\" y=\"219.5625\">rec usage \"test x\" as E3  &lt;&lt;(T,blue)decisionNode&gt;&gt; [[psysml:e5d2d3ea-f48f-4426-8e8b-470a03ae9129 ]] {</text><text fill=\"#33FF02\" font-family=\"sans-serif\" font-size=\"14\" font-weight=\"bold\" lengthAdjust=\"spacingAndGlyphs\" textLength=\"10\" x=\"5\" y=\"235.8594\">}</text><text fill=\"#33FF02\" font-family=\"sans-serif\" font-size=\"14\" font-weight=\"bold\" lengthAdjust=\"spacingAndGlyphs\" textLength=\"0\" x=\"10\" y=\"252.1563\"/><text fill=\"#33FF02\" font-family=\"sans-serif\" font-size=\"14\" font-weight=\"bold\" lengthAdjust=\"spacingAndGlyphs\" textLength=\"10\" x=\"5\" y=\"268.4531\">{</text><text fill=\"#FF0000\" font-family=\"sans-serif\" font-size=\"14\" font-weight=\"bold\" lengthAdjust=\"spacingAndGlyphs\" textLength=\"106\" x=\"10\" y=\"284.75\">Syntax Error?</text><!--MD5=[36ddd174f79c750cfe687f6378ca5710]\n",
       "@startuml\r\n",
       "skinparam linetype polyline\r\n",
       "skinparam monochrome true\r\n",
       "skinparam classbackgroundcolor white\r\n",
       "skinparam shadowing false\r\n",
       "skinparam wrapWidth 300\r\n",
       "hide circle\r\n",
       "\r\n",
       "rec def \"DecisionTest\" as E1  <<(T,blue)action def>> [[psysml:b2f18a0c-e7e8-4f9b-8be8-69c1ee721482 ]] {\r\n",
       "portout \"$result\" as E2  [[psysml:48b93896-3893-47bc-bfb4-82205587ec17 ]] \r\n",
       "rec usage \"test x\" as E3  <<(T,blue)decisionNode>> [[psysml:e5d2d3ea-f48f-4426-8e8b-470a03ae9129 ]] {\r\n",
       "}\r\n",
       "\r\n",
       "{\r\n",
       "portout \"$result\" as E4  [[psysml:4b8ded41-753f-4321-9638-6238d10e7c80 ]] \r\n",
       "portin \"$x\" as E5  [[psysml:a7b14f91-b01b-46a8-a467-34455cb469c8 ]] \r\n",
       "portin \"$y\" as E6  [[psysml:5152b66c-9655-4578-b3e0-a1abffd52221 ]] \r\n",
       "portout \"$result\" as E7  [[psysml:4920d9f2-11b6-40e8-8f3b-51b5a6d86cfe ]] \r\n",
       "}\r\n",
       "\r\n",
       "{\r\n",
       "portout \"$result\" as E8  [[psysml:299014ef-2d5d-4d16-b133-5999efd30129 ]] \r\n",
       "portin \"$x\" as E9  [[psysml:06a6ed26-9ce9-4d08-906d-b2050b8e915c ]] \r\n",
       "portin \"$y\" as E10  [[psysml:5469b116-bf46-4216-bf8a-03dc856fdd9f ]] \r\n",
       "portout \"$result\" as E11  [[psysml:71834102-980a-4495-ab1e-6e2e09d248cc ]] \r\n",
       "}\r\n",
       "\r\n",
       "{\r\n",
       "}\r\n",
       "\r\n",
       "{\r\n",
       "}\r\n",
       "\r\n",
       "{\r\n",
       "portout \"$result\" as E12  [[psysml:f7c1e883-5939-48d9-8b79-1dd5526a379a ]] \r\n",
       "}\r\n",
       "\r\n",
       "{\r\n",
       "portout \"$result\" as E13  [[psysml:c31efe23-02f2-4c3d-bb99-9ef28e999a1c ]] \r\n",
       "}\r\n",
       "\r\n",
       "rec usage \"A1\" as E14  <<(T,blue)action>> [[psysml:83c05d54-f6d6-494a-833f-554dd37c4623 ]] {\r\n",
       "}\r\n",
       "\r\n",
       "rec usage \"A2\" as E15  <<(T,blue)action>> [[psysml:7dcb7014-cff9-44fa-9aa1-11f878021657 ]] {\r\n",
       "}\r\n",
       "\r\n",
       "rec usage \"A3\" as E16  <<(T,blue)action>> [[psysml:685b0fa1-42be-43fa-8250-fe6c84a18423 ]] {\r\n",
       "}\r\n",
       "\r\n",
       "rec usage \"S\" as E17  <<(T,blue)transition>> [[psysml:94783800-53cc-4e6d-883a-cc9d9c3ccfae ]] {\r\n",
       "rec usage \"A1\" as E18  <<(T,blue)action>> [[psysml:83c05d54-f6d6-494a-833f-554dd37c4623 ]] {\r\n",
       "}\r\n",
       "\r\n",
       "portout \"$result\" as E19  [[psysml:59943b31-a3c9-4e0b-a1a5-a807d88f74d6 ]] \r\n",
       "portin \"$x\" as E20  [[psysml:f56aed3e-0abf-415b-8307-7ce602886a4e ]] \r\n",
       "portin \"$y\" as E21  [[psysml:4a073027-8566-43d2-b22e-daad3da22329 ]] \r\n",
       "portout \"$result\" as E22  [[psysml:a62ac8b0-eaf6-4adc-9f14-e1e54df6c395 ]] \r\n",
       "}\r\n",
       "\r\n",
       "rec usage \"A3\" as E23  <<(T,blue)action>> [[psysml:685b0fa1-42be-43fa-8250-fe6c84a18423 ]] {\r\n",
       "}\r\n",
       "\r\n",
       "{\r\n",
       "portout \"$result\" as E24  [[psysml:98937697-67bb-45ee-8fed-5abb392c3fdb ]] \r\n",
       "portin \"$x\" as E25  [[psysml:a977dc00-242a-40b3-b9da-606e563c8c3f ]] \r\n",
       "portin \"$y\" as E26  [[psysml:ab4e429e-9a1f-45c8-b892-c2c8dcefbe2f ]] \r\n",
       "portout \"$result\" as E27  [[psysml:2734cb04-9b51-40b2-9042-069cd5d9688c ]] \r\n",
       "}\r\n",
       "\r\n",
       "}\r\n",
       "\r\n",
       "E6 -[thickness=5]- E4 [[psysml:60a3d248-455c-4b27-8c43-fdde339bf8bd ]] \r\n",
       "E10 -[thickness=5]- E8 [[psysml:985ddca8-3639-4ad8-9c42-b0c44e866ff3 ]] \r\n",
       "E21 -[thickness=5]- E19 [[psysml:246fdd7b-2672-46ea-b421-02bbe449818a ]] \r\n",
       "E26 -[thickness=5]- E24 [[psysml:b7d97414-dcb8-4731-9734-ffccd7d52e37 ]] \r\n",
       "@enduml\r\n",
       "\n",
       "PlantUML version 1.2020.13(Sat Jun 13 12:26:38 UTC 2020)\n",
       "(EPL source distribution)\n",
       "Java Runtime: OpenJDK Runtime Environment\n",
       "JVM: OpenJDK 64-Bit Server VM\n",
       "Default Encoding: UTF-8\n",
       "Language: en\n",
       "Country: null\n",
       "--></g></svg>"
      ]
     },
     "execution_count": 15,
     "metadata": {},
     "output_type": "execute_result"
    }
   ],
   "source": [
    "%viz --style=\"POLYLINE\" --view=\"MIXED\" \"DecisionTest\""
   ]
  },
  {
   "cell_type": "code",
   "execution_count": 16,
   "id": "usual-czech",
   "metadata": {
    "execution": {
     "iopub.execute_input": "2021-03-25T15:07:19.255948Z",
     "iopub.status.busy": "2021-03-25T15:07:19.255441Z",
     "iopub.status.idle": "2021-03-25T15:07:19.287184Z",
     "shell.execute_reply": "2021-03-25T15:07:19.285338Z"
    }
   },
   "outputs": [
    {
     "data": {
      "image/svg+xml": [
       "<?xml version=\"1.0\" encoding=\"UTF-8\" standalone=\"no\"?><svg xmlns=\"http://www.w3.org/2000/svg\" xmlns:xlink=\"http://www.w3.org/1999/xlink\" contentScriptType=\"application/ecmascript\" contentStyleType=\"text/css\" height=\"288px\" preserveAspectRatio=\"none\" style=\"width:873px;height:288px;background:#000000;\" version=\"1.1\" viewBox=\"0 0 873 288\" width=\"873px\" zoomAndPan=\"magnify\"><defs/><g><rect fill=\"#152426\" height=\"1\" style=\"stroke: #152426; stroke-width: 1.0;\" width=\"1\" x=\"0\" y=\"0\"/><rect fill=\"#33FF02\" height=\"21.2969\" style=\"stroke: #33FF02; stroke-width: 1.0;\" width=\"866\" x=\"5\" y=\"5\"/><text fill=\"#000000\" font-family=\"sans-serif\" font-size=\"14\" font-weight=\"bold\" lengthAdjust=\"spacingAndGlyphs\" textLength=\"178\" x=\"6\" y=\"20\">[From string (line 14) ]</text><text fill=\"#33FF02\" font-family=\"sans-serif\" font-size=\"14\" font-weight=\"bold\" lengthAdjust=\"spacingAndGlyphs\" textLength=\"0\" x=\"10\" y=\"40.2969\"/><text fill=\"#33FF02\" font-family=\"sans-serif\" font-size=\"14\" font-weight=\"bold\" lengthAdjust=\"spacingAndGlyphs\" textLength=\"79\" x=\"5\" y=\"56.5938\">@startuml</text><text fill=\"#33FF02\" font-family=\"sans-serif\" font-size=\"14\" font-weight=\"bold\" lengthAdjust=\"spacingAndGlyphs\" textLength=\"164\" x=\"5\" y=\"72.8906\">left to right direction</text><text fill=\"#33FF02\" font-family=\"sans-serif\" font-size=\"14\" font-weight=\"bold\" lengthAdjust=\"spacingAndGlyphs\" textLength=\"228\" x=\"5\" y=\"89.1875\">skinparam monochrome true</text><text fill=\"#33FF02\" font-family=\"sans-serif\" font-size=\"14\" font-weight=\"bold\" lengthAdjust=\"spacingAndGlyphs\" textLength=\"309\" x=\"5\" y=\"105.4844\">skinparam classbackgroundcolor white</text><text fill=\"#33FF02\" font-family=\"sans-serif\" font-size=\"14\" font-weight=\"bold\" lengthAdjust=\"spacingAndGlyphs\" textLength=\"215\" x=\"5\" y=\"121.7813\">skinparam shadowing false</text><text fill=\"#33FF02\" font-family=\"sans-serif\" font-size=\"14\" font-weight=\"bold\" lengthAdjust=\"spacingAndGlyphs\" textLength=\"206\" x=\"5\" y=\"138.0781\">skinparam wrapWidth 300</text><text fill=\"#33FF02\" font-family=\"sans-serif\" font-size=\"14\" font-weight=\"bold\" lengthAdjust=\"spacingAndGlyphs\" textLength=\"82\" x=\"5\" y=\"154.375\">hide circle</text><text fill=\"#33FF02\" font-family=\"sans-serif\" font-size=\"14\" font-weight=\"bold\" lengthAdjust=\"spacingAndGlyphs\" textLength=\"0\" x=\"10\" y=\"170.6719\"/><text fill=\"#33FF02\" font-family=\"sans-serif\" font-size=\"14\" font-weight=\"bold\" lengthAdjust=\"spacingAndGlyphs\" textLength=\"866\" x=\"5\" y=\"186.9688\">rec def \"DecisionTest\" as E1  &lt;&lt;(T,blue)action def&gt;&gt; [[psysml:b2f18a0c-e7e8-4f9b-8be8-69c1ee721482 ]] {</text><text fill=\"#33FF02\" font-family=\"sans-serif\" font-size=\"14\" font-weight=\"bold\" lengthAdjust=\"spacingAndGlyphs\" textLength=\"619\" x=\"5\" y=\"203.2656\">portout \"$result\" as E2  [[psysml:48b93896-3893-47bc-bfb4-82205587ec17 ]]</text><text fill=\"#33FF02\" font-family=\"sans-serif\" font-size=\"14\" font-weight=\"bold\" lengthAdjust=\"spacingAndGlyphs\" textLength=\"859\" x=\"5\" y=\"219.5625\">rec usage \"test x\" as E3  &lt;&lt;(T,blue)decisionNode&gt;&gt; [[psysml:e5d2d3ea-f48f-4426-8e8b-470a03ae9129 ]] {</text><text fill=\"#33FF02\" font-family=\"sans-serif\" font-size=\"14\" font-weight=\"bold\" lengthAdjust=\"spacingAndGlyphs\" textLength=\"10\" x=\"5\" y=\"235.8594\">}</text><text fill=\"#33FF02\" font-family=\"sans-serif\" font-size=\"14\" font-weight=\"bold\" lengthAdjust=\"spacingAndGlyphs\" textLength=\"0\" x=\"10\" y=\"252.1563\"/><text fill=\"#33FF02\" font-family=\"sans-serif\" font-size=\"14\" font-weight=\"bold\" lengthAdjust=\"spacingAndGlyphs\" textLength=\"10\" x=\"5\" y=\"268.4531\">{</text><text fill=\"#FF0000\" font-family=\"sans-serif\" font-size=\"14\" font-weight=\"bold\" lengthAdjust=\"spacingAndGlyphs\" textLength=\"106\" x=\"10\" y=\"284.75\">Syntax Error?</text><!--MD5=[9abee485d988109b2e072eeac7426c6b]\n",
       "@startuml\r\n",
       "left to right direction\r\n",
       "skinparam monochrome true\r\n",
       "skinparam classbackgroundcolor white\r\n",
       "skinparam shadowing false\r\n",
       "skinparam wrapWidth 300\r\n",
       "hide circle\r\n",
       "\r\n",
       "rec def \"DecisionTest\" as E1  <<(T,blue)action def>> [[psysml:b2f18a0c-e7e8-4f9b-8be8-69c1ee721482 ]] {\r\n",
       "portout \"$result\" as E2  [[psysml:48b93896-3893-47bc-bfb4-82205587ec17 ]] \r\n",
       "rec usage \"test x\" as E3  <<(T,blue)decisionNode>> [[psysml:e5d2d3ea-f48f-4426-8e8b-470a03ae9129 ]] {\r\n",
       "}\r\n",
       "\r\n",
       "{\r\n",
       "portout \"$result\" as E4  [[psysml:4b8ded41-753f-4321-9638-6238d10e7c80 ]] \r\n",
       "portin \"$x\" as E5  [[psysml:a7b14f91-b01b-46a8-a467-34455cb469c8 ]] \r\n",
       "portin \"$y\" as E6  [[psysml:5152b66c-9655-4578-b3e0-a1abffd52221 ]] \r\n",
       "portout \"$result\" as E7  [[psysml:4920d9f2-11b6-40e8-8f3b-51b5a6d86cfe ]] \r\n",
       "}\r\n",
       "\r\n",
       "{\r\n",
       "portout \"$result\" as E8  [[psysml:299014ef-2d5d-4d16-b133-5999efd30129 ]] \r\n",
       "portin \"$x\" as E9  [[psysml:06a6ed26-9ce9-4d08-906d-b2050b8e915c ]] \r\n",
       "portin \"$y\" as E10  [[psysml:5469b116-bf46-4216-bf8a-03dc856fdd9f ]] \r\n",
       "portout \"$result\" as E11  [[psysml:71834102-980a-4495-ab1e-6e2e09d248cc ]] \r\n",
       "}\r\n",
       "\r\n",
       "{\r\n",
       "}\r\n",
       "\r\n",
       "{\r\n",
       "}\r\n",
       "\r\n",
       "{\r\n",
       "portout \"$result\" as E12  [[psysml:f7c1e883-5939-48d9-8b79-1dd5526a379a ]] \r\n",
       "}\r\n",
       "\r\n",
       "{\r\n",
       "portout \"$result\" as E13  [[psysml:c31efe23-02f2-4c3d-bb99-9ef28e999a1c ]] \r\n",
       "}\r\n",
       "\r\n",
       "rec usage \"A1\" as E14  <<(T,blue)action>> [[psysml:83c05d54-f6d6-494a-833f-554dd37c4623 ]] {\r\n",
       "}\r\n",
       "\r\n",
       "rec usage \"A2\" as E15  <<(T,blue)action>> [[psysml:7dcb7014-cff9-44fa-9aa1-11f878021657 ]] {\r\n",
       "}\r\n",
       "\r\n",
       "rec usage \"A3\" as E16  <<(T,blue)action>> [[psysml:685b0fa1-42be-43fa-8250-fe6c84a18423 ]] {\r\n",
       "}\r\n",
       "\r\n",
       "rec usage \"S\" as E17  <<(T,blue)transition>> [[psysml:94783800-53cc-4e6d-883a-cc9d9c3ccfae ]] {\r\n",
       "rec usage \"A1\" as E18  <<(T,blue)action>> [[psysml:83c05d54-f6d6-494a-833f-554dd37c4623 ]] {\r\n",
       "}\r\n",
       "\r\n",
       "portout \"$result\" as E19  [[psysml:59943b31-a3c9-4e0b-a1a5-a807d88f74d6 ]] \r\n",
       "portin \"$x\" as E20  [[psysml:f56aed3e-0abf-415b-8307-7ce602886a4e ]] \r\n",
       "portin \"$y\" as E21  [[psysml:4a073027-8566-43d2-b22e-daad3da22329 ]] \r\n",
       "portout \"$result\" as E22  [[psysml:a62ac8b0-eaf6-4adc-9f14-e1e54df6c395 ]] \r\n",
       "}\r\n",
       "\r\n",
       "rec usage \"A3\" as E23  <<(T,blue)action>> [[psysml:685b0fa1-42be-43fa-8250-fe6c84a18423 ]] {\r\n",
       "}\r\n",
       "\r\n",
       "{\r\n",
       "portout \"$result\" as E24  [[psysml:98937697-67bb-45ee-8fed-5abb392c3fdb ]] \r\n",
       "portin \"$x\" as E25  [[psysml:a977dc00-242a-40b3-b9da-606e563c8c3f ]] \r\n",
       "portin \"$y\" as E26  [[psysml:ab4e429e-9a1f-45c8-b892-c2c8dcefbe2f ]] \r\n",
       "portout \"$result\" as E27  [[psysml:2734cb04-9b51-40b2-9042-069cd5d9688c ]] \r\n",
       "}\r\n",
       "\r\n",
       "}\r\n",
       "\r\n",
       "E6 -[thickness=5]- E4 [[psysml:60a3d248-455c-4b27-8c43-fdde339bf8bd ]] \r\n",
       "E10 -[thickness=5]- E8 [[psysml:985ddca8-3639-4ad8-9c42-b0c44e866ff3 ]] \r\n",
       "E21 -[thickness=5]- E19 [[psysml:246fdd7b-2672-46ea-b421-02bbe449818a ]] \r\n",
       "E26 -[thickness=5]- E24 [[psysml:b7d97414-dcb8-4731-9734-ffccd7d52e37 ]] \r\n",
       "@enduml\r\n",
       "\n",
       "PlantUML version 1.2020.13(Sat Jun 13 12:26:38 UTC 2020)\n",
       "(EPL source distribution)\n",
       "Java Runtime: OpenJDK Runtime Environment\n",
       "JVM: OpenJDK 64-Bit Server VM\n",
       "Default Encoding: UTF-8\n",
       "Language: en\n",
       "Country: null\n",
       "--></g></svg>"
      ]
     },
     "execution_count": 16,
     "metadata": {},
     "output_type": "execute_result"
    }
   ],
   "source": [
    "%viz --style=\"LR\" --view=\"Default\" \"DecisionTest\""
   ]
  },
  {
   "cell_type": "code",
   "execution_count": 17,
   "id": "spare-diagnosis",
   "metadata": {
    "execution": {
     "iopub.execute_input": "2021-03-25T15:07:19.337447Z",
     "iopub.status.busy": "2021-03-25T15:07:19.336937Z",
     "iopub.status.idle": "2021-03-25T15:07:19.734939Z",
     "shell.execute_reply": "2021-03-25T15:07:19.734537Z"
    }
   },
   "outputs": [
    {
     "data": {
      "image/svg+xml": [
       "<?xml version=\"1.0\" encoding=\"UTF-8\" standalone=\"no\"?><svg xmlns=\"http://www.w3.org/2000/svg\" xmlns:xlink=\"http://www.w3.org/1999/xlink\" contentScriptType=\"application/ecmascript\" contentStyleType=\"text/css\" height=\"207px\" preserveAspectRatio=\"none\" style=\"width:109px;height:207px;\" version=\"1.1\" viewBox=\"0 0 109 207\" width=\"109px\" zoomAndPan=\"magnify\"><defs/><g><!--MD5=[43c9051892ef23e1a46a86907403d788]\n",
       "class E1--><a href=\"psysml:b2f18a0c-e7e8-4f9b-8be8-69c1ee721482\" target=\"_top\" title=\"psysml:b2f18a0c-e7e8-4f9b-8be8-69c1ee721482\" xlink:actuate=\"onRequest\" xlink:href=\"psysml:b2f18a0c-e7e8-4f9b-8be8-69c1ee721482\" xlink:show=\"new\" xlink:title=\"psysml:b2f18a0c-e7e8-4f9b-8be8-69c1ee721482\" xlink:type=\"simple\"><rect fill=\"#FFFFFF\" height=\"189.9844\" id=\"E1\" style=\"stroke: #383838; stroke-width: 1.5;\" width=\"91\" x=\"7\" y=\"7\"/><text fill=\"#000000\" font-family=\"sans-serif\" font-size=\"12\" font-style=\"italic\" lengthAdjust=\"spacingAndGlyphs\" textLength=\"77\" x=\"14\" y=\"23.1387\">«action def»</text><text fill=\"#000000\" font-family=\"sans-serif\" font-size=\"12\" lengthAdjust=\"spacingAndGlyphs\" textLength=\"80\" x=\"12.5\" y=\"37.1074\">DecisionTest</text><line style=\"stroke: #383838; stroke-width: 1.5;\" x1=\"8\" x2=\"97\" y1=\"44.9375\" y2=\"44.9375\"/><text fill=\"#000000\" font-family=\"sans-serif\" font-size=\"11\" lengthAdjust=\"spacingAndGlyphs\" textLength=\"6\" x=\"13\" y=\"75.9526\">x</text><line style=\"stroke: #383838; stroke-width: 1.0;\" x1=\"8\" x2=\"25\" y1=\"59.3398\" y2=\"59.3398\"/><text fill=\"#000000\" font-family=\"sans-serif\" font-size=\"11\" lengthAdjust=\"spacingAndGlyphs\" textLength=\"55\" x=\"25\" y=\"62.6479\">attributes</text><line style=\"stroke: #383838; stroke-width: 1.0;\" x1=\"80\" x2=\"97\" y1=\"59.3398\" y2=\"59.3398\"/><text fill=\"#000000\" font-family=\"sans-serif\" font-size=\"11\" lengthAdjust=\"spacingAndGlyphs\" textLength=\"14\" x=\"13\" y=\"105.562\">A1</text><text fill=\"#000000\" font-family=\"sans-serif\" font-size=\"11\" lengthAdjust=\"spacingAndGlyphs\" textLength=\"14\" x=\"13\" y=\"118.3667\">A2</text><text fill=\"#000000\" font-family=\"sans-serif\" font-size=\"11\" lengthAdjust=\"spacingAndGlyphs\" textLength=\"14\" x=\"13\" y=\"131.1714\">A3</text><line style=\"stroke: #383838; stroke-width: 1.0;\" x1=\"8\" x2=\"32\" y1=\"88.9492\" y2=\"88.9492\"/><text fill=\"#000000\" font-family=\"sans-serif\" font-size=\"11\" lengthAdjust=\"spacingAndGlyphs\" textLength=\"41\" x=\"32\" y=\"92.2573\">actions</text><line style=\"stroke: #383838; stroke-width: 1.0;\" x1=\"73\" x2=\"97\" y1=\"88.9492\" y2=\"88.9492\"/><text fill=\"#000000\" font-family=\"sans-serif\" font-size=\"11\" lengthAdjust=\"spacingAndGlyphs\" textLength=\"32\" x=\"13\" y=\"160.7808\">test x</text><line style=\"stroke: #383838; stroke-width: 1.0;\" x1=\"8\" x2=\"11\" y1=\"144.168\" y2=\"144.168\"/><text fill=\"#000000\" font-family=\"sans-serif\" font-size=\"11\" lengthAdjust=\"spacingAndGlyphs\" textLength=\"83\" x=\"11\" y=\"147.4761\">decisionNodes</text><line style=\"stroke: #383838; stroke-width: 1.0;\" x1=\"94\" x2=\"97\" y1=\"144.168\" y2=\"144.168\"/><text fill=\"#000000\" font-family=\"sans-serif\" font-size=\"11\" lengthAdjust=\"spacingAndGlyphs\" textLength=\"8\" x=\"13\" y=\"190.3901\">S</text><line style=\"stroke: #383838; stroke-width: 1.0;\" x1=\"8\" x2=\"22\" y1=\"173.7773\" y2=\"173.7773\"/><text fill=\"#000000\" font-family=\"sans-serif\" font-size=\"11\" lengthAdjust=\"spacingAndGlyphs\" textLength=\"61\" x=\"22\" y=\"177.0854\">transitions</text><line style=\"stroke: #383838; stroke-width: 1.0;\" x1=\"83\" x2=\"97\" y1=\"173.7773\" y2=\"173.7773\"/></a><!--MD5=[e18af9ebc8ebf8c978294832d46caa4a]\n",
       "@startuml\r\n",
       "left to right direction\r\n",
       "skinparam monochrome true\r\n",
       "skinparam classbackgroundcolor white\r\n",
       "skinparam shadowing false\r\n",
       "skinparam wrapWidth 300\r\n",
       "hide circle\r\n",
       "\r\n",
       "comp def \"DecisionTest\" as E1  <<(T,blue)action def>> [[psysml:b2f18a0c-e7e8-4f9b-8be8-69c1ee721482 ]] {\r\n",
       "- - attributes - -\r\n",
       "x\r\n",
       "- - actions - -\r\n",
       "A1\r\n",
       "A2\r\n",
       "A3\r\n",
       "- - decisionNodes - -\r\n",
       "test x\r\n",
       "- - transitions - -\r\n",
       "S\r\n",
       "}\r\n",
       "@enduml\r\n",
       "\n",
       "PlantUML version 1.2020.13(Sat Jun 13 12:26:38 UTC 2020)\n",
       "(EPL source distribution)\n",
       "Java Runtime: OpenJDK Runtime Environment\n",
       "JVM: OpenJDK 64-Bit Server VM\n",
       "Default Encoding: UTF-8\n",
       "Language: en\n",
       "Country: null\n",
       "--></g></svg>"
      ]
     },
     "execution_count": 17,
     "metadata": {},
     "output_type": "execute_result"
    }
   ],
   "source": [
    "%viz --style=\"LR\" --view=\"Tree\" \"DecisionTest\""
   ]
  },
  {
   "cell_type": "code",
   "execution_count": 18,
   "id": "brief-wichita",
   "metadata": {
    "execution": {
     "iopub.execute_input": "2021-03-25T15:07:19.785631Z",
     "iopub.status.busy": "2021-03-25T15:07:19.784838Z",
     "iopub.status.idle": "2021-03-25T15:07:19.794102Z",
     "shell.execute_reply": "2021-03-25T15:07:19.793471Z"
    }
   },
   "outputs": [
    {
     "data": {
      "image/svg+xml": [
       "<?xml version=\"1.0\" encoding=\"UTF-8\" standalone=\"no\"?><svg xmlns=\"http://www.w3.org/2000/svg\" xmlns:xlink=\"http://www.w3.org/1999/xlink\" contentScriptType=\"application/ecmascript\" contentStyleType=\"text/css\" height=\"12px\" preserveAspectRatio=\"none\" style=\"width:12px;height:12px;\" version=\"1.1\" viewBox=\"0 0 12 12\" width=\"12px\" zoomAndPan=\"magnify\"><defs/><g><!--MD5=[19d285c9d72a204eba4e2cd117d745e8]\n",
       "@startuml\r\n",
       "left to right direction\r\n",
       "skinparam monochrome true\r\n",
       "skinparam classbackgroundcolor white\r\n",
       "skinparam shadowing false\r\n",
       "skinparam wrapWidth 300\r\n",
       "hide circle\r\n",
       "\r\n",
       "@enduml\r\n",
       "\n",
       "PlantUML version 1.2020.13(Sat Jun 13 12:26:38 UTC 2020)\n",
       "(EPL source distribution)\n",
       "Java Runtime: OpenJDK Runtime Environment\n",
       "JVM: OpenJDK 64-Bit Server VM\n",
       "Default Encoding: UTF-8\n",
       "Language: en\n",
       "Country: null\n",
       "--></g></svg>"
      ]
     },
     "execution_count": 18,
     "metadata": {},
     "output_type": "execute_result"
    }
   ],
   "source": [
    "%viz --style=\"LR\" --view=\"State\" \"DecisionTest\""
   ]
  },
  {
   "cell_type": "code",
   "execution_count": 19,
   "id": "declared-discussion",
   "metadata": {
    "execution": {
     "iopub.execute_input": "2021-03-25T15:07:19.844316Z",
     "iopub.status.busy": "2021-03-25T15:07:19.843913Z",
     "iopub.status.idle": "2021-03-25T15:07:19.875439Z",
     "shell.execute_reply": "2021-03-25T15:07:19.875079Z"
    }
   },
   "outputs": [
    {
     "data": {
      "image/svg+xml": [
       "<?xml version=\"1.0\" encoding=\"UTF-8\" standalone=\"no\"?><svg xmlns=\"http://www.w3.org/2000/svg\" xmlns:xlink=\"http://www.w3.org/1999/xlink\" contentScriptType=\"application/ecmascript\" contentStyleType=\"text/css\" height=\"71px\" preserveAspectRatio=\"none\" style=\"width:145px;height:71px;\" version=\"1.1\" viewBox=\"0 0 145 71\" width=\"145px\" zoomAndPan=\"magnify\"><defs/><g><!--MD5=[43c9051892ef23e1a46a86907403d788]\n",
       "class E1--><a href=\"psysml:b2f18a0c-e7e8-4f9b-8be8-69c1ee721482\" target=\"_top\" title=\"psysml:b2f18a0c-e7e8-4f9b-8be8-69c1ee721482\" xlink:actuate=\"onRequest\" xlink:href=\"psysml:b2f18a0c-e7e8-4f9b-8be8-69c1ee721482\" xlink:show=\"new\" xlink:title=\"psysml:b2f18a0c-e7e8-4f9b-8be8-69c1ee721482\" xlink:type=\"simple\"><rect fill=\"#FFFFFF\" height=\"53.9375\" id=\"E1\" style=\"stroke: #383838; stroke-width: 1.5;\" width=\"127\" x=\"7\" y=\"7\"/><text fill=\"#000000\" font-family=\"sans-serif\" font-size=\"12\" font-style=\"italic\" lengthAdjust=\"spacingAndGlyphs\" textLength=\"125\" x=\"8\" y=\"23.1387\">«(T,blue)action def»</text><text fill=\"#000000\" font-family=\"sans-serif\" font-size=\"12\" lengthAdjust=\"spacingAndGlyphs\" textLength=\"80\" x=\"30.5\" y=\"37.1074\">DecisionTest</text><line style=\"stroke: #383838; stroke-width: 1.5;\" x1=\"8\" x2=\"133\" y1=\"44.9375\" y2=\"44.9375\"/><line style=\"stroke: #383838; stroke-width: 1.5;\" x1=\"8\" x2=\"133\" y1=\"52.9375\" y2=\"52.9375\"/></a><!--MD5=[6ab771ee543c9a764c35a1dae616abc9]\n",
       "@startuml\r\n",
       "skinparam ranksep 8\r\n",
       "skinparam rectangle {\r\n",
       " backgroundColor<<block>> LightGreen\r\n",
       "}\r\n",
       "left to right direction\r\n",
       "skinparam monochrome true\r\n",
       "skinparam classbackgroundcolor white\r\n",
       "skinparam shadowing false\r\n",
       "skinparam wrapWidth 300\r\n",
       "hide circle\r\n",
       "\r\n",
       "def \"DecisionTest\" as E1  <<(T,blue)action def>> [[psysml:b2f18a0c-e7e8-4f9b-8be8-69c1ee721482 ]] \r\n",
       "@enduml\r\n",
       "\n",
       "PlantUML version 1.2020.13(Sat Jun 13 12:26:38 UTC 2020)\n",
       "(EPL source distribution)\n",
       "Java Runtime: OpenJDK Runtime Environment\n",
       "JVM: OpenJDK 64-Bit Server VM\n",
       "Default Encoding: UTF-8\n",
       "Language: en\n",
       "Country: null\n",
       "--></g></svg>"
      ]
     },
     "execution_count": 19,
     "metadata": {},
     "output_type": "execute_result"
    }
   ],
   "source": [
    "%viz --style=\"LR\" --view=\"Interconnection\" \"DecisionTest\""
   ]
  },
  {
   "cell_type": "code",
   "execution_count": 20,
   "id": "nasty-quebec",
   "metadata": {
    "execution": {
     "iopub.execute_input": "2021-03-25T15:07:19.926425Z",
     "iopub.status.busy": "2021-03-25T15:07:19.925942Z",
     "iopub.status.idle": "2021-03-25T15:07:19.959526Z",
     "shell.execute_reply": "2021-03-25T15:07:19.960198Z"
    }
   },
   "outputs": [
    {
     "data": {
      "image/svg+xml": [
       "<?xml version=\"1.0\" encoding=\"UTF-8\" standalone=\"no\"?><svg xmlns=\"http://www.w3.org/2000/svg\" xmlns:xlink=\"http://www.w3.org/1999/xlink\" contentScriptType=\"application/ecmascript\" contentStyleType=\"text/css\" height=\"304px\" preserveAspectRatio=\"none\" style=\"width:873px;height:304px;background:#000000;\" version=\"1.1\" viewBox=\"0 0 873 304\" width=\"873px\" zoomAndPan=\"magnify\"><defs/><g><rect fill=\"#261108\" height=\"1\" style=\"stroke: #261108; stroke-width: 1.0;\" width=\"1\" x=\"0\" y=\"0\"/><rect fill=\"#33FF02\" height=\"21.2969\" style=\"stroke: #33FF02; stroke-width: 1.0;\" width=\"866\" x=\"5\" y=\"5\"/><text fill=\"#000000\" font-family=\"sans-serif\" font-size=\"14\" font-weight=\"bold\" lengthAdjust=\"spacingAndGlyphs\" textLength=\"178\" x=\"6\" y=\"20\">[From string (line 15) ]</text><text fill=\"#33FF02\" font-family=\"sans-serif\" font-size=\"14\" font-weight=\"bold\" lengthAdjust=\"spacingAndGlyphs\" textLength=\"0\" x=\"10\" y=\"40.2969\"/><text fill=\"#33FF02\" font-family=\"sans-serif\" font-size=\"14\" font-weight=\"bold\" lengthAdjust=\"spacingAndGlyphs\" textLength=\"79\" x=\"5\" y=\"56.5938\">@startuml</text><text fill=\"#33FF02\" font-family=\"sans-serif\" font-size=\"14\" font-weight=\"bold\" lengthAdjust=\"spacingAndGlyphs\" textLength=\"165\" x=\"5\" y=\"72.8906\">skinparam ranksep 8</text><text fill=\"#33FF02\" font-family=\"sans-serif\" font-size=\"14\" font-weight=\"bold\" lengthAdjust=\"spacingAndGlyphs\" textLength=\"164\" x=\"5\" y=\"89.1875\">left to right direction</text><text fill=\"#33FF02\" font-family=\"sans-serif\" font-size=\"14\" font-weight=\"bold\" lengthAdjust=\"spacingAndGlyphs\" textLength=\"228\" x=\"5\" y=\"105.4844\">skinparam monochrome true</text><text fill=\"#33FF02\" font-family=\"sans-serif\" font-size=\"14\" font-weight=\"bold\" lengthAdjust=\"spacingAndGlyphs\" textLength=\"309\" x=\"5\" y=\"121.7813\">skinparam classbackgroundcolor white</text><text fill=\"#33FF02\" font-family=\"sans-serif\" font-size=\"14\" font-weight=\"bold\" lengthAdjust=\"spacingAndGlyphs\" textLength=\"215\" x=\"5\" y=\"138.0781\">skinparam shadowing false</text><text fill=\"#33FF02\" font-family=\"sans-serif\" font-size=\"14\" font-weight=\"bold\" lengthAdjust=\"spacingAndGlyphs\" textLength=\"206\" x=\"5\" y=\"154.375\">skinparam wrapWidth 300</text><text fill=\"#33FF02\" font-family=\"sans-serif\" font-size=\"14\" font-weight=\"bold\" lengthAdjust=\"spacingAndGlyphs\" textLength=\"82\" x=\"5\" y=\"170.6719\">hide circle</text><text fill=\"#33FF02\" font-family=\"sans-serif\" font-size=\"14\" font-weight=\"bold\" lengthAdjust=\"spacingAndGlyphs\" textLength=\"0\" x=\"10\" y=\"186.9688\"/><text fill=\"#33FF02\" font-family=\"sans-serif\" font-size=\"14\" font-weight=\"bold\" lengthAdjust=\"spacingAndGlyphs\" textLength=\"866\" x=\"5\" y=\"203.2656\">rec def \"DecisionTest\" as E1  &lt;&lt;(T,blue)action def&gt;&gt; [[psysml:b2f18a0c-e7e8-4f9b-8be8-69c1ee721482 ]] {</text><text fill=\"#33FF02\" font-family=\"sans-serif\" font-size=\"14\" font-weight=\"bold\" lengthAdjust=\"spacingAndGlyphs\" textLength=\"619\" x=\"5\" y=\"219.5625\">portout \"$result\" as E2  [[psysml:48b93896-3893-47bc-bfb4-82205587ec17 ]]</text><text fill=\"#33FF02\" font-family=\"sans-serif\" font-size=\"14\" font-weight=\"bold\" lengthAdjust=\"spacingAndGlyphs\" textLength=\"859\" x=\"5\" y=\"235.8594\">rec usage \"test x\" as E3  &lt;&lt;(T,blue)decisionNode&gt;&gt; [[psysml:e5d2d3ea-f48f-4426-8e8b-470a03ae9129 ]] {</text><text fill=\"#33FF02\" font-family=\"sans-serif\" font-size=\"14\" font-weight=\"bold\" lengthAdjust=\"spacingAndGlyphs\" textLength=\"10\" x=\"5\" y=\"252.1563\">}</text><text fill=\"#33FF02\" font-family=\"sans-serif\" font-size=\"14\" font-weight=\"bold\" lengthAdjust=\"spacingAndGlyphs\" textLength=\"0\" x=\"10\" y=\"268.4531\"/><text fill=\"#33FF02\" font-family=\"sans-serif\" font-size=\"14\" font-weight=\"bold\" lengthAdjust=\"spacingAndGlyphs\" textLength=\"10\" x=\"5\" y=\"284.75\">{</text><text fill=\"#FF0000\" font-family=\"sans-serif\" font-size=\"14\" font-weight=\"bold\" lengthAdjust=\"spacingAndGlyphs\" textLength=\"106\" x=\"10\" y=\"301.0469\">Syntax Error?</text><!--MD5=[aecd6a99bcd3c0e9abe5cda0d76ac484]\n",
       "@startuml\r\n",
       "skinparam ranksep 8\r\n",
       "left to right direction\r\n",
       "skinparam monochrome true\r\n",
       "skinparam classbackgroundcolor white\r\n",
       "skinparam shadowing false\r\n",
       "skinparam wrapWidth 300\r\n",
       "hide circle\r\n",
       "\r\n",
       "rec def \"DecisionTest\" as E1  <<(T,blue)action def>> [[psysml:b2f18a0c-e7e8-4f9b-8be8-69c1ee721482 ]] {\r\n",
       "portout \"$result\" as E2  [[psysml:48b93896-3893-47bc-bfb4-82205587ec17 ]] \r\n",
       "rec usage \"test x\" as E3  <<(T,blue)decisionNode>> [[psysml:e5d2d3ea-f48f-4426-8e8b-470a03ae9129 ]] {\r\n",
       "}\r\n",
       "\r\n",
       "{\r\n",
       "portout \"$result\" as E4  [[psysml:4b8ded41-753f-4321-9638-6238d10e7c80 ]] \r\n",
       "portin \"$x\" as E5  [[psysml:a7b14f91-b01b-46a8-a467-34455cb469c8 ]] \r\n",
       "portin \"$y\" as E6  [[psysml:5152b66c-9655-4578-b3e0-a1abffd52221 ]] \r\n",
       "portout \"$result\" as E7  [[psysml:4920d9f2-11b6-40e8-8f3b-51b5a6d86cfe ]] \r\n",
       "}\r\n",
       "\r\n",
       "{\r\n",
       "portout \"$result\" as E8  [[psysml:299014ef-2d5d-4d16-b133-5999efd30129 ]] \r\n",
       "portin \"$x\" as E9  [[psysml:06a6ed26-9ce9-4d08-906d-b2050b8e915c ]] \r\n",
       "portin \"$y\" as E10  [[psysml:5469b116-bf46-4216-bf8a-03dc856fdd9f ]] \r\n",
       "portout \"$result\" as E11  [[psysml:71834102-980a-4495-ab1e-6e2e09d248cc ]] \r\n",
       "}\r\n",
       "\r\n",
       "{\r\n",
       "}\r\n",
       "\r\n",
       "{\r\n",
       "}\r\n",
       "\r\n",
       "{\r\n",
       "portout \"$result\" as E12  [[psysml:f7c1e883-5939-48d9-8b79-1dd5526a379a ]] \r\n",
       "}\r\n",
       "\r\n",
       "{\r\n",
       "portout \"$result\" as E13  [[psysml:c31efe23-02f2-4c3d-bb99-9ef28e999a1c ]] \r\n",
       "}\r\n",
       "\r\n",
       "rec usage \"A1\" as E14  <<(T,blue)action>> [[psysml:83c05d54-f6d6-494a-833f-554dd37c4623 ]] {\r\n",
       "}\r\n",
       "\r\n",
       "rec usage \"A2\" as E15  <<(T,blue)action>> [[psysml:7dcb7014-cff9-44fa-9aa1-11f878021657 ]] {\r\n",
       "}\r\n",
       "\r\n",
       "rec usage \"A3\" as E16  <<(T,blue)action>> [[psysml:685b0fa1-42be-43fa-8250-fe6c84a18423 ]] {\r\n",
       "}\r\n",
       "\r\n",
       "rec usage \"S\" as E17  <<(T,blue)transition>> [[psysml:94783800-53cc-4e6d-883a-cc9d9c3ccfae ]] {\r\n",
       "rec usage \"A1\" as E18  <<(T,blue)action>> [[psysml:83c05d54-f6d6-494a-833f-554dd37c4623 ]] {\r\n",
       "}\r\n",
       "\r\n",
       "portout \"$result\" as E19  [[psysml:59943b31-a3c9-4e0b-a1a5-a807d88f74d6 ]] \r\n",
       "portin \"$x\" as E20  [[psysml:f56aed3e-0abf-415b-8307-7ce602886a4e ]] \r\n",
       "portin \"$y\" as E21  [[psysml:4a073027-8566-43d2-b22e-daad3da22329 ]] \r\n",
       "portout \"$result\" as E22  [[psysml:a62ac8b0-eaf6-4adc-9f14-e1e54df6c395 ]] \r\n",
       "}\r\n",
       "\r\n",
       "rec usage \"A3\" as E23  <<(T,blue)action>> [[psysml:685b0fa1-42be-43fa-8250-fe6c84a18423 ]] {\r\n",
       "}\r\n",
       "\r\n",
       "{\r\n",
       "portout \"$result\" as E24  [[psysml:98937697-67bb-45ee-8fed-5abb392c3fdb ]] \r\n",
       "portin \"$x\" as E25  [[psysml:a977dc00-242a-40b3-b9da-606e563c8c3f ]] \r\n",
       "portin \"$y\" as E26  [[psysml:ab4e429e-9a1f-45c8-b892-c2c8dcefbe2f ]] \r\n",
       "portout \"$result\" as E27  [[psysml:2734cb04-9b51-40b2-9042-069cd5d9688c ]] \r\n",
       "}\r\n",
       "\r\n",
       "}\r\n",
       "\r\n",
       "E6 -[thickness=5]- E4 [[psysml:60a3d248-455c-4b27-8c43-fdde339bf8bd ]] \r\n",
       "E10 -[thickness=5]- E8 [[psysml:985ddca8-3639-4ad8-9c42-b0c44e866ff3 ]] \r\n",
       "E21 -[thickness=5]- E19 [[psysml:246fdd7b-2672-46ea-b421-02bbe449818a ]] \r\n",
       "E26 -[thickness=5]- E24 [[psysml:b7d97414-dcb8-4731-9734-ffccd7d52e37 ]] \r\n",
       "@enduml\r\n",
       "\n",
       "PlantUML version 1.2020.13(Sat Jun 13 12:26:38 UTC 2020)\n",
       "(EPL source distribution)\n",
       "Java Runtime: OpenJDK Runtime Environment\n",
       "JVM: OpenJDK 64-Bit Server VM\n",
       "Default Encoding: UTF-8\n",
       "Language: en\n",
       "Country: null\n",
       "--></g></svg>"
      ]
     },
     "execution_count": 20,
     "metadata": {},
     "output_type": "execute_result"
    }
   ],
   "source": [
    "%viz --style=\"LR\" --view=\"Action\" \"DecisionTest\""
   ]
  },
  {
   "cell_type": "code",
   "execution_count": 21,
   "id": "healthy-concert",
   "metadata": {
    "execution": {
     "iopub.execute_input": "2021-03-25T15:07:20.014126Z",
     "iopub.status.busy": "2021-03-25T15:07:20.013096Z",
     "iopub.status.idle": "2021-03-25T15:07:20.458017Z",
     "shell.execute_reply": "2021-03-25T15:07:20.458743Z"
    }
   },
   "outputs": [
    {
     "data": {
      "image/svg+xml": [
       "<?xml version=\"1.0\" encoding=\"UTF-8\" standalone=\"no\"?><svg xmlns=\"http://www.w3.org/2000/svg\" xmlns:xlink=\"http://www.w3.org/1999/xlink\" contentScriptType=\"application/ecmascript\" contentStyleType=\"text/css\" height=\"207px\" preserveAspectRatio=\"none\" style=\"width:109px;height:207px;\" version=\"1.1\" viewBox=\"0 0 109 207\" width=\"109px\" zoomAndPan=\"magnify\"><defs/><g><!--MD5=[43c9051892ef23e1a46a86907403d788]\n",
       "class E1--><a href=\"psysml:b2f18a0c-e7e8-4f9b-8be8-69c1ee721482\" target=\"_top\" title=\"psysml:b2f18a0c-e7e8-4f9b-8be8-69c1ee721482\" xlink:actuate=\"onRequest\" xlink:href=\"psysml:b2f18a0c-e7e8-4f9b-8be8-69c1ee721482\" xlink:show=\"new\" xlink:title=\"psysml:b2f18a0c-e7e8-4f9b-8be8-69c1ee721482\" xlink:type=\"simple\"><rect fill=\"#FFFFFF\" height=\"189.9844\" id=\"E1\" style=\"stroke: #383838; stroke-width: 1.5;\" width=\"91\" x=\"7\" y=\"7\"/><text fill=\"#000000\" font-family=\"sans-serif\" font-size=\"12\" font-style=\"italic\" lengthAdjust=\"spacingAndGlyphs\" textLength=\"77\" x=\"14\" y=\"23.1387\">«action def»</text><text fill=\"#000000\" font-family=\"sans-serif\" font-size=\"12\" lengthAdjust=\"spacingAndGlyphs\" textLength=\"80\" x=\"12.5\" y=\"37.1074\">DecisionTest</text><line style=\"stroke: #383838; stroke-width: 1.5;\" x1=\"8\" x2=\"97\" y1=\"44.9375\" y2=\"44.9375\"/><text fill=\"#000000\" font-family=\"sans-serif\" font-size=\"11\" lengthAdjust=\"spacingAndGlyphs\" textLength=\"6\" x=\"13\" y=\"75.9526\">x</text><line style=\"stroke: #383838; stroke-width: 1.0;\" x1=\"8\" x2=\"25\" y1=\"59.3398\" y2=\"59.3398\"/><text fill=\"#000000\" font-family=\"sans-serif\" font-size=\"11\" lengthAdjust=\"spacingAndGlyphs\" textLength=\"55\" x=\"25\" y=\"62.6479\">attributes</text><line style=\"stroke: #383838; stroke-width: 1.0;\" x1=\"80\" x2=\"97\" y1=\"59.3398\" y2=\"59.3398\"/><text fill=\"#000000\" font-family=\"sans-serif\" font-size=\"11\" lengthAdjust=\"spacingAndGlyphs\" textLength=\"14\" x=\"13\" y=\"105.562\">A1</text><text fill=\"#000000\" font-family=\"sans-serif\" font-size=\"11\" lengthAdjust=\"spacingAndGlyphs\" textLength=\"14\" x=\"13\" y=\"118.3667\">A2</text><text fill=\"#000000\" font-family=\"sans-serif\" font-size=\"11\" lengthAdjust=\"spacingAndGlyphs\" textLength=\"14\" x=\"13\" y=\"131.1714\">A3</text><line style=\"stroke: #383838; stroke-width: 1.0;\" x1=\"8\" x2=\"32\" y1=\"88.9492\" y2=\"88.9492\"/><text fill=\"#000000\" font-family=\"sans-serif\" font-size=\"11\" lengthAdjust=\"spacingAndGlyphs\" textLength=\"41\" x=\"32\" y=\"92.2573\">actions</text><line style=\"stroke: #383838; stroke-width: 1.0;\" x1=\"73\" x2=\"97\" y1=\"88.9492\" y2=\"88.9492\"/><text fill=\"#000000\" font-family=\"sans-serif\" font-size=\"11\" lengthAdjust=\"spacingAndGlyphs\" textLength=\"32\" x=\"13\" y=\"160.7808\">test x</text><line style=\"stroke: #383838; stroke-width: 1.0;\" x1=\"8\" x2=\"11\" y1=\"144.168\" y2=\"144.168\"/><text fill=\"#000000\" font-family=\"sans-serif\" font-size=\"11\" lengthAdjust=\"spacingAndGlyphs\" textLength=\"83\" x=\"11\" y=\"147.4761\">decisionNodes</text><line style=\"stroke: #383838; stroke-width: 1.0;\" x1=\"94\" x2=\"97\" y1=\"144.168\" y2=\"144.168\"/><text fill=\"#000000\" font-family=\"sans-serif\" font-size=\"11\" lengthAdjust=\"spacingAndGlyphs\" textLength=\"8\" x=\"13\" y=\"190.3901\">S</text><line style=\"stroke: #383838; stroke-width: 1.0;\" x1=\"8\" x2=\"22\" y1=\"173.7773\" y2=\"173.7773\"/><text fill=\"#000000\" font-family=\"sans-serif\" font-size=\"11\" lengthAdjust=\"spacingAndGlyphs\" textLength=\"61\" x=\"22\" y=\"177.0854\">transitions</text><line style=\"stroke: #383838; stroke-width: 1.0;\" x1=\"83\" x2=\"97\" y1=\"173.7773\" y2=\"173.7773\"/></a><!--MD5=[e18af9ebc8ebf8c978294832d46caa4a]\n",
       "@startuml\r\n",
       "left to right direction\r\n",
       "skinparam monochrome true\r\n",
       "skinparam classbackgroundcolor white\r\n",
       "skinparam shadowing false\r\n",
       "skinparam wrapWidth 300\r\n",
       "hide circle\r\n",
       "\r\n",
       "comp def \"DecisionTest\" as E1  <<(T,blue)action def>> [[psysml:b2f18a0c-e7e8-4f9b-8be8-69c1ee721482 ]] {\r\n",
       "- - attributes - -\r\n",
       "x\r\n",
       "- - actions - -\r\n",
       "A1\r\n",
       "A2\r\n",
       "A3\r\n",
       "- - decisionNodes - -\r\n",
       "test x\r\n",
       "- - transitions - -\r\n",
       "S\r\n",
       "}\r\n",
       "@enduml\r\n",
       "\n",
       "PlantUML version 1.2020.13(Sat Jun 13 12:26:38 UTC 2020)\n",
       "(EPL source distribution)\n",
       "Java Runtime: OpenJDK Runtime Environment\n",
       "JVM: OpenJDK 64-Bit Server VM\n",
       "Default Encoding: UTF-8\n",
       "Language: en\n",
       "Country: null\n",
       "--></g></svg>"
      ]
     },
     "execution_count": 21,
     "metadata": {},
     "output_type": "execute_result"
    }
   ],
   "source": [
    "%viz --style=\"LR\" --view=\"Sequence\" \"DecisionTest\""
   ]
  },
  {
   "cell_type": "code",
   "execution_count": 22,
   "id": "blocked-thesis",
   "metadata": {
    "execution": {
     "iopub.execute_input": "2021-03-25T15:07:20.509576Z",
     "iopub.status.busy": "2021-03-25T15:07:20.509127Z",
     "iopub.status.idle": "2021-03-25T15:07:20.544830Z",
     "shell.execute_reply": "2021-03-25T15:07:20.545375Z"
    }
   },
   "outputs": [
    {
     "data": {
      "image/svg+xml": [
       "<?xml version=\"1.0\" encoding=\"UTF-8\" standalone=\"no\"?><svg xmlns=\"http://www.w3.org/2000/svg\" xmlns:xlink=\"http://www.w3.org/1999/xlink\" contentScriptType=\"application/ecmascript\" contentStyleType=\"text/css\" height=\"288px\" preserveAspectRatio=\"none\" style=\"width:873px;height:288px;background:#000000;\" version=\"1.1\" viewBox=\"0 0 873 288\" width=\"873px\" zoomAndPan=\"magnify\"><defs/><g><rect fill=\"#021819\" height=\"1\" style=\"stroke: #021819; stroke-width: 1.0;\" width=\"1\" x=\"0\" y=\"0\"/><rect fill=\"#33FF02\" height=\"21.2969\" style=\"stroke: #33FF02; stroke-width: 1.0;\" width=\"866\" x=\"5\" y=\"5\"/><text fill=\"#000000\" font-family=\"sans-serif\" font-size=\"14\" font-weight=\"bold\" lengthAdjust=\"spacingAndGlyphs\" textLength=\"178\" x=\"6\" y=\"20\">[From string (line 14) ]</text><text fill=\"#33FF02\" font-family=\"sans-serif\" font-size=\"14\" font-weight=\"bold\" lengthAdjust=\"spacingAndGlyphs\" textLength=\"0\" x=\"10\" y=\"40.2969\"/><text fill=\"#33FF02\" font-family=\"sans-serif\" font-size=\"14\" font-weight=\"bold\" lengthAdjust=\"spacingAndGlyphs\" textLength=\"79\" x=\"5\" y=\"56.5938\">@startuml</text><text fill=\"#33FF02\" font-family=\"sans-serif\" font-size=\"14\" font-weight=\"bold\" lengthAdjust=\"spacingAndGlyphs\" textLength=\"164\" x=\"5\" y=\"72.8906\">left to right direction</text><text fill=\"#33FF02\" font-family=\"sans-serif\" font-size=\"14\" font-weight=\"bold\" lengthAdjust=\"spacingAndGlyphs\" textLength=\"228\" x=\"5\" y=\"89.1875\">skinparam monochrome true</text><text fill=\"#33FF02\" font-family=\"sans-serif\" font-size=\"14\" font-weight=\"bold\" lengthAdjust=\"spacingAndGlyphs\" textLength=\"309\" x=\"5\" y=\"105.4844\">skinparam classbackgroundcolor white</text><text fill=\"#33FF02\" font-family=\"sans-serif\" font-size=\"14\" font-weight=\"bold\" lengthAdjust=\"spacingAndGlyphs\" textLength=\"215\" x=\"5\" y=\"121.7813\">skinparam shadowing false</text><text fill=\"#33FF02\" font-family=\"sans-serif\" font-size=\"14\" font-weight=\"bold\" lengthAdjust=\"spacingAndGlyphs\" textLength=\"206\" x=\"5\" y=\"138.0781\">skinparam wrapWidth 300</text><text fill=\"#33FF02\" font-family=\"sans-serif\" font-size=\"14\" font-weight=\"bold\" lengthAdjust=\"spacingAndGlyphs\" textLength=\"82\" x=\"5\" y=\"154.375\">hide circle</text><text fill=\"#33FF02\" font-family=\"sans-serif\" font-size=\"14\" font-weight=\"bold\" lengthAdjust=\"spacingAndGlyphs\" textLength=\"0\" x=\"10\" y=\"170.6719\"/><text fill=\"#33FF02\" font-family=\"sans-serif\" font-size=\"14\" font-weight=\"bold\" lengthAdjust=\"spacingAndGlyphs\" textLength=\"866\" x=\"5\" y=\"186.9688\">rec def \"DecisionTest\" as E1  &lt;&lt;(T,blue)action def&gt;&gt; [[psysml:b2f18a0c-e7e8-4f9b-8be8-69c1ee721482 ]] {</text><text fill=\"#33FF02\" font-family=\"sans-serif\" font-size=\"14\" font-weight=\"bold\" lengthAdjust=\"spacingAndGlyphs\" textLength=\"619\" x=\"5\" y=\"203.2656\">portout \"$result\" as E2  [[psysml:48b93896-3893-47bc-bfb4-82205587ec17 ]]</text><text fill=\"#33FF02\" font-family=\"sans-serif\" font-size=\"14\" font-weight=\"bold\" lengthAdjust=\"spacingAndGlyphs\" textLength=\"859\" x=\"5\" y=\"219.5625\">rec usage \"test x\" as E3  &lt;&lt;(T,blue)decisionNode&gt;&gt; [[psysml:e5d2d3ea-f48f-4426-8e8b-470a03ae9129 ]] {</text><text fill=\"#33FF02\" font-family=\"sans-serif\" font-size=\"14\" font-weight=\"bold\" lengthAdjust=\"spacingAndGlyphs\" textLength=\"10\" x=\"5\" y=\"235.8594\">}</text><text fill=\"#33FF02\" font-family=\"sans-serif\" font-size=\"14\" font-weight=\"bold\" lengthAdjust=\"spacingAndGlyphs\" textLength=\"0\" x=\"10\" y=\"252.1563\"/><text fill=\"#33FF02\" font-family=\"sans-serif\" font-size=\"14\" font-weight=\"bold\" lengthAdjust=\"spacingAndGlyphs\" textLength=\"10\" x=\"5\" y=\"268.4531\">{</text><text fill=\"#FF0000\" font-family=\"sans-serif\" font-size=\"14\" font-weight=\"bold\" lengthAdjust=\"spacingAndGlyphs\" textLength=\"106\" x=\"10\" y=\"284.75\">Syntax Error?</text><!--MD5=[9abee485d988109b2e072eeac7426c6b]\n",
       "@startuml\r\n",
       "left to right direction\r\n",
       "skinparam monochrome true\r\n",
       "skinparam classbackgroundcolor white\r\n",
       "skinparam shadowing false\r\n",
       "skinparam wrapWidth 300\r\n",
       "hide circle\r\n",
       "\r\n",
       "rec def \"DecisionTest\" as E1  <<(T,blue)action def>> [[psysml:b2f18a0c-e7e8-4f9b-8be8-69c1ee721482 ]] {\r\n",
       "portout \"$result\" as E2  [[psysml:48b93896-3893-47bc-bfb4-82205587ec17 ]] \r\n",
       "rec usage \"test x\" as E3  <<(T,blue)decisionNode>> [[psysml:e5d2d3ea-f48f-4426-8e8b-470a03ae9129 ]] {\r\n",
       "}\r\n",
       "\r\n",
       "{\r\n",
       "portout \"$result\" as E4  [[psysml:4b8ded41-753f-4321-9638-6238d10e7c80 ]] \r\n",
       "portin \"$x\" as E5  [[psysml:a7b14f91-b01b-46a8-a467-34455cb469c8 ]] \r\n",
       "portin \"$y\" as E6  [[psysml:5152b66c-9655-4578-b3e0-a1abffd52221 ]] \r\n",
       "portout \"$result\" as E7  [[psysml:4920d9f2-11b6-40e8-8f3b-51b5a6d86cfe ]] \r\n",
       "}\r\n",
       "\r\n",
       "{\r\n",
       "portout \"$result\" as E8  [[psysml:299014ef-2d5d-4d16-b133-5999efd30129 ]] \r\n",
       "portin \"$x\" as E9  [[psysml:06a6ed26-9ce9-4d08-906d-b2050b8e915c ]] \r\n",
       "portin \"$y\" as E10  [[psysml:5469b116-bf46-4216-bf8a-03dc856fdd9f ]] \r\n",
       "portout \"$result\" as E11  [[psysml:71834102-980a-4495-ab1e-6e2e09d248cc ]] \r\n",
       "}\r\n",
       "\r\n",
       "{\r\n",
       "}\r\n",
       "\r\n",
       "{\r\n",
       "}\r\n",
       "\r\n",
       "{\r\n",
       "portout \"$result\" as E12  [[psysml:f7c1e883-5939-48d9-8b79-1dd5526a379a ]] \r\n",
       "}\r\n",
       "\r\n",
       "{\r\n",
       "portout \"$result\" as E13  [[psysml:c31efe23-02f2-4c3d-bb99-9ef28e999a1c ]] \r\n",
       "}\r\n",
       "\r\n",
       "rec usage \"A1\" as E14  <<(T,blue)action>> [[psysml:83c05d54-f6d6-494a-833f-554dd37c4623 ]] {\r\n",
       "}\r\n",
       "\r\n",
       "rec usage \"A2\" as E15  <<(T,blue)action>> [[psysml:7dcb7014-cff9-44fa-9aa1-11f878021657 ]] {\r\n",
       "}\r\n",
       "\r\n",
       "rec usage \"A3\" as E16  <<(T,blue)action>> [[psysml:685b0fa1-42be-43fa-8250-fe6c84a18423 ]] {\r\n",
       "}\r\n",
       "\r\n",
       "rec usage \"S\" as E17  <<(T,blue)transition>> [[psysml:94783800-53cc-4e6d-883a-cc9d9c3ccfae ]] {\r\n",
       "rec usage \"A1\" as E18  <<(T,blue)action>> [[psysml:83c05d54-f6d6-494a-833f-554dd37c4623 ]] {\r\n",
       "}\r\n",
       "\r\n",
       "portout \"$result\" as E19  [[psysml:59943b31-a3c9-4e0b-a1a5-a807d88f74d6 ]] \r\n",
       "portin \"$x\" as E20  [[psysml:f56aed3e-0abf-415b-8307-7ce602886a4e ]] \r\n",
       "portin \"$y\" as E21  [[psysml:4a073027-8566-43d2-b22e-daad3da22329 ]] \r\n",
       "portout \"$result\" as E22  [[psysml:a62ac8b0-eaf6-4adc-9f14-e1e54df6c395 ]] \r\n",
       "}\r\n",
       "\r\n",
       "rec usage \"A3\" as E23  <<(T,blue)action>> [[psysml:685b0fa1-42be-43fa-8250-fe6c84a18423 ]] {\r\n",
       "}\r\n",
       "\r\n",
       "{\r\n",
       "portout \"$result\" as E24  [[psysml:98937697-67bb-45ee-8fed-5abb392c3fdb ]] \r\n",
       "portin \"$x\" as E25  [[psysml:a977dc00-242a-40b3-b9da-606e563c8c3f ]] \r\n",
       "portin \"$y\" as E26  [[psysml:ab4e429e-9a1f-45c8-b892-c2c8dcefbe2f ]] \r\n",
       "portout \"$result\" as E27  [[psysml:2734cb04-9b51-40b2-9042-069cd5d9688c ]] \r\n",
       "}\r\n",
       "\r\n",
       "}\r\n",
       "\r\n",
       "E6 -[thickness=5]- E4 [[psysml:60a3d248-455c-4b27-8c43-fdde339bf8bd ]] \r\n",
       "E10 -[thickness=5]- E8 [[psysml:985ddca8-3639-4ad8-9c42-b0c44e866ff3 ]] \r\n",
       "E21 -[thickness=5]- E19 [[psysml:246fdd7b-2672-46ea-b421-02bbe449818a ]] \r\n",
       "E26 -[thickness=5]- E24 [[psysml:b7d97414-dcb8-4731-9734-ffccd7d52e37 ]] \r\n",
       "@enduml\r\n",
       "\n",
       "PlantUML version 1.2020.13(Sat Jun 13 12:26:38 UTC 2020)\n",
       "(EPL source distribution)\n",
       "Java Runtime: OpenJDK Runtime Environment\n",
       "JVM: OpenJDK 64-Bit Server VM\n",
       "Default Encoding: UTF-8\n",
       "Language: en\n",
       "Country: null\n",
       "--></g></svg>"
      ]
     },
     "execution_count": 22,
     "metadata": {},
     "output_type": "execute_result"
    }
   ],
   "source": [
    "%viz --style=\"LR\" --view=\"MIXED\" \"DecisionTest\""
   ]
  },
  {
   "cell_type": "code",
   "execution_count": 23,
   "id": "binding-glenn",
   "metadata": {
    "execution": {
     "iopub.execute_input": "2021-03-25T15:07:20.597291Z",
     "iopub.status.busy": "2021-03-25T15:07:20.596685Z",
     "iopub.status.idle": "2021-03-25T15:07:20.625697Z",
     "shell.execute_reply": "2021-03-25T15:07:20.625360Z"
    }
   },
   "outputs": [
    {
     "data": {
      "image/svg+xml": [
       "<?xml version=\"1.0\" encoding=\"UTF-8\" standalone=\"no\"?><svg xmlns=\"http://www.w3.org/2000/svg\" xmlns:xlink=\"http://www.w3.org/1999/xlink\" contentScriptType=\"application/ecmascript\" contentStyleType=\"text/css\" height=\"223px\" preserveAspectRatio=\"none\" style=\"width:873px;height:223px;background:#000000;\" version=\"1.1\" viewBox=\"0 0 873 223\" width=\"873px\" zoomAndPan=\"magnify\"><defs/><g><rect fill=\"#0B0E1F\" height=\"1\" style=\"stroke: #0B0E1F; stroke-width: 1.0;\" width=\"1\" x=\"0\" y=\"0\"/><rect fill=\"#33FF02\" height=\"21.2969\" style=\"stroke: #33FF02; stroke-width: 1.0;\" width=\"866\" x=\"5\" y=\"5\"/><text fill=\"#000000\" font-family=\"sans-serif\" font-size=\"14\" font-weight=\"bold\" lengthAdjust=\"spacingAndGlyphs\" textLength=\"178\" x=\"6\" y=\"20\">[From string (line 10) ]</text><text fill=\"#33FF02\" font-family=\"sans-serif\" font-size=\"14\" font-weight=\"bold\" lengthAdjust=\"spacingAndGlyphs\" textLength=\"0\" x=\"10\" y=\"40.2969\"/><text fill=\"#33FF02\" font-family=\"sans-serif\" font-size=\"14\" font-weight=\"bold\" lengthAdjust=\"spacingAndGlyphs\" textLength=\"79\" x=\"5\" y=\"56.5938\">@startuml</text><text fill=\"#33FF02\" font-family=\"sans-serif\" font-size=\"14\" font-weight=\"bold\" lengthAdjust=\"spacingAndGlyphs\" textLength=\"206\" x=\"5\" y=\"72.8906\">skinparam wrapWidth 300</text><text fill=\"#33FF02\" font-family=\"sans-serif\" font-size=\"14\" font-weight=\"bold\" lengthAdjust=\"spacingAndGlyphs\" textLength=\"82\" x=\"5\" y=\"89.1875\">hide circle</text><text fill=\"#33FF02\" font-family=\"sans-serif\" font-size=\"14\" font-weight=\"bold\" lengthAdjust=\"spacingAndGlyphs\" textLength=\"0\" x=\"10\" y=\"105.4844\"/><text fill=\"#33FF02\" font-family=\"sans-serif\" font-size=\"14\" font-weight=\"bold\" lengthAdjust=\"spacingAndGlyphs\" textLength=\"866\" x=\"5\" y=\"121.7813\">rec def \"DecisionTest\" as E1  &lt;&lt;(T,blue)action def&gt;&gt; [[psysml:b2f18a0c-e7e8-4f9b-8be8-69c1ee721482 ]] {</text><text fill=\"#33FF02\" font-family=\"sans-serif\" font-size=\"14\" font-weight=\"bold\" lengthAdjust=\"spacingAndGlyphs\" textLength=\"619\" x=\"5\" y=\"138.0781\">portout \"$result\" as E2  [[psysml:48b93896-3893-47bc-bfb4-82205587ec17 ]]</text><text fill=\"#33FF02\" font-family=\"sans-serif\" font-size=\"14\" font-weight=\"bold\" lengthAdjust=\"spacingAndGlyphs\" textLength=\"859\" x=\"5\" y=\"154.375\">rec usage \"test x\" as E3  &lt;&lt;(T,blue)decisionNode&gt;&gt; [[psysml:e5d2d3ea-f48f-4426-8e8b-470a03ae9129 ]] {</text><text fill=\"#33FF02\" font-family=\"sans-serif\" font-size=\"14\" font-weight=\"bold\" lengthAdjust=\"spacingAndGlyphs\" textLength=\"10\" x=\"5\" y=\"170.6719\">}</text><text fill=\"#33FF02\" font-family=\"sans-serif\" font-size=\"14\" font-weight=\"bold\" lengthAdjust=\"spacingAndGlyphs\" textLength=\"0\" x=\"10\" y=\"186.9688\"/><text fill=\"#33FF02\" font-family=\"sans-serif\" font-size=\"14\" font-weight=\"bold\" lengthAdjust=\"spacingAndGlyphs\" textLength=\"10\" x=\"5\" y=\"203.2656\">{</text><text fill=\"#FF0000\" font-family=\"sans-serif\" font-size=\"14\" font-weight=\"bold\" lengthAdjust=\"spacingAndGlyphs\" textLength=\"106\" x=\"10\" y=\"219.5625\">Syntax Error?</text><!--MD5=[754a264f57466fb397ea07cb3ae3cc70]\n",
       "@startuml\r\n",
       "skinparam wrapWidth 300\r\n",
       "hide circle\r\n",
       "\r\n",
       "rec def \"DecisionTest\" as E1  <<(T,blue)action def>> [[psysml:b2f18a0c-e7e8-4f9b-8be8-69c1ee721482 ]] {\r\n",
       "portout \"$result\" as E2  [[psysml:48b93896-3893-47bc-bfb4-82205587ec17 ]] \r\n",
       "rec usage \"test x\" as E3  <<(T,blue)decisionNode>> [[psysml:e5d2d3ea-f48f-4426-8e8b-470a03ae9129 ]] {\r\n",
       "}\r\n",
       "\r\n",
       "{\r\n",
       "portout \"$result\" as E4  [[psysml:4b8ded41-753f-4321-9638-6238d10e7c80 ]] \r\n",
       "portin \"$x\" as E5  [[psysml:a7b14f91-b01b-46a8-a467-34455cb469c8 ]] \r\n",
       "portin \"$y\" as E6  [[psysml:5152b66c-9655-4578-b3e0-a1abffd52221 ]] \r\n",
       "portout \"$result\" as E7  [[psysml:4920d9f2-11b6-40e8-8f3b-51b5a6d86cfe ]] \r\n",
       "}\r\n",
       "\r\n",
       "{\r\n",
       "portout \"$result\" as E8  [[psysml:299014ef-2d5d-4d16-b133-5999efd30129 ]] \r\n",
       "portin \"$x\" as E9  [[psysml:06a6ed26-9ce9-4d08-906d-b2050b8e915c ]] \r\n",
       "portin \"$y\" as E10  [[psysml:5469b116-bf46-4216-bf8a-03dc856fdd9f ]] \r\n",
       "portout \"$result\" as E11  [[psysml:71834102-980a-4495-ab1e-6e2e09d248cc ]] \r\n",
       "}\r\n",
       "\r\n",
       "{\r\n",
       "}\r\n",
       "\r\n",
       "{\r\n",
       "}\r\n",
       "\r\n",
       "{\r\n",
       "portout \"$result\" as E12  [[psysml:f7c1e883-5939-48d9-8b79-1dd5526a379a ]] \r\n",
       "}\r\n",
       "\r\n",
       "{\r\n",
       "portout \"$result\" as E13  [[psysml:c31efe23-02f2-4c3d-bb99-9ef28e999a1c ]] \r\n",
       "}\r\n",
       "\r\n",
       "rec usage \"A1\" as E14  <<(T,blue)action>> [[psysml:83c05d54-f6d6-494a-833f-554dd37c4623 ]] {\r\n",
       "}\r\n",
       "\r\n",
       "rec usage \"A2\" as E15  <<(T,blue)action>> [[psysml:7dcb7014-cff9-44fa-9aa1-11f878021657 ]] {\r\n",
       "}\r\n",
       "\r\n",
       "rec usage \"A3\" as E16  <<(T,blue)action>> [[psysml:685b0fa1-42be-43fa-8250-fe6c84a18423 ]] {\r\n",
       "}\r\n",
       "\r\n",
       "rec usage \"S\" as E17  <<(T,blue)transition>> [[psysml:94783800-53cc-4e6d-883a-cc9d9c3ccfae ]] {\r\n",
       "rec usage \"A1\" as E18  <<(T,blue)action>> [[psysml:83c05d54-f6d6-494a-833f-554dd37c4623 ]] {\r\n",
       "}\r\n",
       "\r\n",
       "portout \"$result\" as E19  [[psysml:59943b31-a3c9-4e0b-a1a5-a807d88f74d6 ]] \r\n",
       "portin \"$x\" as E20  [[psysml:f56aed3e-0abf-415b-8307-7ce602886a4e ]] \r\n",
       "portin \"$y\" as E21  [[psysml:4a073027-8566-43d2-b22e-daad3da22329 ]] \r\n",
       "portout \"$result\" as E22  [[psysml:a62ac8b0-eaf6-4adc-9f14-e1e54df6c395 ]] \r\n",
       "}\r\n",
       "\r\n",
       "rec usage \"A3\" as E23  <<(T,blue)action>> [[psysml:685b0fa1-42be-43fa-8250-fe6c84a18423 ]] {\r\n",
       "}\r\n",
       "\r\n",
       "{\r\n",
       "portout \"$result\" as E24  [[psysml:98937697-67bb-45ee-8fed-5abb392c3fdb ]] \r\n",
       "portin \"$x\" as E25  [[psysml:a977dc00-242a-40b3-b9da-606e563c8c3f ]] \r\n",
       "portin \"$y\" as E26  [[psysml:ab4e429e-9a1f-45c8-b892-c2c8dcefbe2f ]] \r\n",
       "portout \"$result\" as E27  [[psysml:2734cb04-9b51-40b2-9042-069cd5d9688c ]] \r\n",
       "}\r\n",
       "\r\n",
       "}\r\n",
       "\r\n",
       "E6 -[thickness=5,#red]- E4 [[psysml:60a3d248-455c-4b27-8c43-fdde339bf8bd ]] \r\n",
       "E10 -[thickness=5,#red]- E8 [[psysml:985ddca8-3639-4ad8-9c42-b0c44e866ff3 ]] \r\n",
       "E21 -[thickness=5,#red]- E19 [[psysml:246fdd7b-2672-46ea-b421-02bbe449818a ]] \r\n",
       "E26 -[thickness=5,#red]- E24 [[psysml:b7d97414-dcb8-4731-9734-ffccd7d52e37 ]] \r\n",
       "@enduml\r\n",
       "\n",
       "PlantUML version 1.2020.13(Sat Jun 13 12:26:38 UTC 2020)\n",
       "(EPL source distribution)\n",
       "Java Runtime: OpenJDK Runtime Environment\n",
       "JVM: OpenJDK 64-Bit Server VM\n",
       "Default Encoding: UTF-8\n",
       "Language: en\n",
       "Country: null\n",
       "--></g></svg>"
      ]
     },
     "execution_count": 23,
     "metadata": {},
     "output_type": "execute_result"
    }
   ],
   "source": [
    "%viz --style=\"STDCOLOR\" --view=\"Default\" \"DecisionTest\""
   ]
  },
  {
   "cell_type": "code",
   "execution_count": 24,
   "id": "official-consequence",
   "metadata": {
    "execution": {
     "iopub.execute_input": "2021-03-25T15:07:20.676387Z",
     "iopub.status.busy": "2021-03-25T15:07:20.675969Z",
     "iopub.status.idle": "2021-03-25T15:07:20.983867Z",
     "shell.execute_reply": "2021-03-25T15:07:20.983346Z"
    }
   },
   "outputs": [
    {
     "data": {
      "image/svg+xml": [
       "<?xml version=\"1.0\" encoding=\"UTF-8\" standalone=\"no\"?><svg xmlns=\"http://www.w3.org/2000/svg\" xmlns:xlink=\"http://www.w3.org/1999/xlink\" contentScriptType=\"application/ecmascript\" contentStyleType=\"text/css\" height=\"199px\" preserveAspectRatio=\"none\" style=\"width:117px;height:199px;\" version=\"1.1\" viewBox=\"0 0 117 199\" width=\"117px\" zoomAndPan=\"magnify\"><defs><filter height=\"300%\" id=\"fxcijy5a8tehe\" width=\"300%\" x=\"-1\" y=\"-1\"><feGaussianBlur result=\"blurOut\" stdDeviation=\"2.0\"/><feColorMatrix in=\"blurOut\" result=\"blurOut2\" type=\"matrix\" values=\"0 0 0 0 0 0 0 0 0 0 0 0 0 0 0 0 0 0 .4 0\"/><feOffset dx=\"4.0\" dy=\"4.0\" in=\"blurOut2\" result=\"blurOut3\"/><feBlend in=\"SourceGraphic\" in2=\"blurOut3\" mode=\"normal\"/></filter></defs><g><!--MD5=[43c9051892ef23e1a46a86907403d788]\n",
       "class E1--><a href=\"psysml:b2f18a0c-e7e8-4f9b-8be8-69c1ee721482\" target=\"_top\" title=\"psysml:b2f18a0c-e7e8-4f9b-8be8-69c1ee721482\" xlink:actuate=\"onRequest\" xlink:href=\"psysml:b2f18a0c-e7e8-4f9b-8be8-69c1ee721482\" xlink:show=\"new\" xlink:title=\"psysml:b2f18a0c-e7e8-4f9b-8be8-69c1ee721482\" xlink:type=\"simple\"><rect fill=\"#FEFECE\" filter=\"url(#fxcijy5a8tehe)\" height=\"173.1797\" id=\"E1\" style=\"stroke: #A80036; stroke-width: 1.5;\" width=\"91\" x=\"7\" y=\"7\"/><text fill=\"#000000\" font-family=\"sans-serif\" font-size=\"12\" font-style=\"italic\" lengthAdjust=\"spacingAndGlyphs\" textLength=\"77\" x=\"14\" y=\"23.1387\">«action def»</text><text fill=\"#000000\" font-family=\"sans-serif\" font-size=\"12\" lengthAdjust=\"spacingAndGlyphs\" textLength=\"80\" x=\"12.5\" y=\"37.1074\">DecisionTest</text><line style=\"stroke: #A80036; stroke-width: 1.5;\" x1=\"8\" x2=\"97\" y1=\"44.9375\" y2=\"44.9375\"/><text fill=\"#000000\" font-family=\"sans-serif\" font-size=\"11\" lengthAdjust=\"spacingAndGlyphs\" textLength=\"6\" x=\"13\" y=\"59.1479\">x</text><text fill=\"#000000\" font-family=\"sans-serif\" font-size=\"11\" lengthAdjust=\"spacingAndGlyphs\" textLength=\"14\" x=\"13\" y=\"88.7573\">A1</text><text fill=\"#000000\" font-family=\"sans-serif\" font-size=\"11\" lengthAdjust=\"spacingAndGlyphs\" textLength=\"14\" x=\"13\" y=\"101.562\">A2</text><text fill=\"#000000\" font-family=\"sans-serif\" font-size=\"11\" lengthAdjust=\"spacingAndGlyphs\" textLength=\"14\" x=\"13\" y=\"114.3667\">A3</text><line style=\"stroke: #A80036; stroke-width: 1.0;\" x1=\"8\" x2=\"32\" y1=\"72.1445\" y2=\"72.1445\"/><text fill=\"#000000\" font-family=\"sans-serif\" font-size=\"11\" lengthAdjust=\"spacingAndGlyphs\" textLength=\"41\" x=\"32\" y=\"75.4526\">actions</text><line style=\"stroke: #A80036; stroke-width: 1.0;\" x1=\"73\" x2=\"97\" y1=\"72.1445\" y2=\"72.1445\"/><text fill=\"#000000\" font-family=\"sans-serif\" font-size=\"11\" lengthAdjust=\"spacingAndGlyphs\" textLength=\"32\" x=\"13\" y=\"143.9761\">test x</text><line style=\"stroke: #A80036; stroke-width: 1.0;\" x1=\"8\" x2=\"11\" y1=\"127.3633\" y2=\"127.3633\"/><text fill=\"#000000\" font-family=\"sans-serif\" font-size=\"11\" lengthAdjust=\"spacingAndGlyphs\" textLength=\"83\" x=\"11\" y=\"130.6714\">decisionNodes</text><line style=\"stroke: #A80036; stroke-width: 1.0;\" x1=\"94\" x2=\"97\" y1=\"127.3633\" y2=\"127.3633\"/><text fill=\"#000000\" font-family=\"sans-serif\" font-size=\"11\" lengthAdjust=\"spacingAndGlyphs\" textLength=\"8\" x=\"13\" y=\"173.5854\">S</text><line style=\"stroke: #A80036; stroke-width: 1.0;\" x1=\"8\" x2=\"22\" y1=\"156.9727\" y2=\"156.9727\"/><text fill=\"#000000\" font-family=\"sans-serif\" font-size=\"11\" lengthAdjust=\"spacingAndGlyphs\" textLength=\"61\" x=\"22\" y=\"160.2808\">transitions</text><line style=\"stroke: #A80036; stroke-width: 1.0;\" x1=\"83\" x2=\"97\" y1=\"156.9727\" y2=\"156.9727\"/></a><!--MD5=[8d82b398c2d685ef670fa228c941f805]\n",
       "@startuml\r\n",
       "skinparam wrapWidth 300\r\n",
       "hide circle\r\n",
       "\r\n",
       "comp def \"DecisionTest\" as E1  <<(T,blue)action def>> [[psysml:b2f18a0c-e7e8-4f9b-8be8-69c1ee721482 ]] {\r\n",
       "x\r\n",
       "- - actions - -\r\n",
       "A1\r\n",
       "A2\r\n",
       "A3\r\n",
       "- - decisionNodes - -\r\n",
       "test x\r\n",
       "- - transitions - -\r\n",
       "S\r\n",
       "}\r\n",
       "@enduml\r\n",
       "\n",
       "PlantUML version 1.2020.13(Sat Jun 13 12:26:38 UTC 2020)\n",
       "(EPL source distribution)\n",
       "Java Runtime: OpenJDK Runtime Environment\n",
       "JVM: OpenJDK 64-Bit Server VM\n",
       "Default Encoding: UTF-8\n",
       "Language: en\n",
       "Country: null\n",
       "--></g></svg>"
      ]
     },
     "execution_count": 24,
     "metadata": {},
     "output_type": "execute_result"
    }
   ],
   "source": [
    "%viz --style=\"STDCOLOR\" --view=\"Tree\" \"DecisionTest\""
   ]
  },
  {
   "cell_type": "code",
   "execution_count": 25,
   "id": "geological-holocaust",
   "metadata": {
    "execution": {
     "iopub.execute_input": "2021-03-25T15:07:21.034851Z",
     "iopub.status.busy": "2021-03-25T15:07:21.034202Z",
     "iopub.status.idle": "2021-03-25T15:07:21.041924Z",
     "shell.execute_reply": "2021-03-25T15:07:21.042433Z"
    }
   },
   "outputs": [
    {
     "data": {
      "image/svg+xml": [
       "<?xml version=\"1.0\" encoding=\"UTF-8\" standalone=\"no\"?><svg xmlns=\"http://www.w3.org/2000/svg\" xmlns:xlink=\"http://www.w3.org/1999/xlink\" contentScriptType=\"application/ecmascript\" contentStyleType=\"text/css\" height=\"12px\" preserveAspectRatio=\"none\" style=\"width:12px;height:12px;\" version=\"1.1\" viewBox=\"0 0 12 12\" width=\"12px\" zoomAndPan=\"magnify\"><defs/><g><!--MD5=[aeeef50f102b80d730deb6443d14f702]\n",
       "@startuml\r\n",
       "skinparam wrapWidth 300\r\n",
       "hide circle\r\n",
       "\r\n",
       "@enduml\r\n",
       "\n",
       "PlantUML version 1.2020.13(Sat Jun 13 12:26:38 UTC 2020)\n",
       "(EPL source distribution)\n",
       "Java Runtime: OpenJDK Runtime Environment\n",
       "JVM: OpenJDK 64-Bit Server VM\n",
       "Default Encoding: UTF-8\n",
       "Language: en\n",
       "Country: null\n",
       "--></g></svg>"
      ]
     },
     "execution_count": 25,
     "metadata": {},
     "output_type": "execute_result"
    }
   ],
   "source": [
    "%viz --style=\"STDCOLOR\" --view=\"State\" \"DecisionTest\""
   ]
  },
  {
   "cell_type": "code",
   "execution_count": 26,
   "id": "mature-staff",
   "metadata": {
    "execution": {
     "iopub.execute_input": "2021-03-25T15:07:21.094406Z",
     "iopub.status.busy": "2021-03-25T15:07:21.093658Z",
     "iopub.status.idle": "2021-03-25T15:07:21.127928Z",
     "shell.execute_reply": "2021-03-25T15:07:21.128418Z"
    }
   },
   "outputs": [
    {
     "data": {
      "image/svg+xml": [
       "<?xml version=\"1.0\" encoding=\"UTF-8\" standalone=\"no\"?><svg xmlns=\"http://www.w3.org/2000/svg\" xmlns:xlink=\"http://www.w3.org/1999/xlink\" contentScriptType=\"application/ecmascript\" contentStyleType=\"text/css\" height=\"79px\" preserveAspectRatio=\"none\" style=\"width:153px;height:79px;\" version=\"1.1\" viewBox=\"0 0 153 79\" width=\"153px\" zoomAndPan=\"magnify\"><defs><filter height=\"300%\" id=\"f1o27pv8h9mupz\" width=\"300%\" x=\"-1\" y=\"-1\"><feGaussianBlur result=\"blurOut\" stdDeviation=\"2.0\"/><feColorMatrix in=\"blurOut\" result=\"blurOut2\" type=\"matrix\" values=\"0 0 0 0 0 0 0 0 0 0 0 0 0 0 0 0 0 0 .4 0\"/><feOffset dx=\"4.0\" dy=\"4.0\" in=\"blurOut2\" result=\"blurOut3\"/><feBlend in=\"SourceGraphic\" in2=\"blurOut3\" mode=\"normal\"/></filter></defs><g><!--MD5=[43c9051892ef23e1a46a86907403d788]\n",
       "class E1--><a href=\"psysml:b2f18a0c-e7e8-4f9b-8be8-69c1ee721482\" target=\"_top\" title=\"psysml:b2f18a0c-e7e8-4f9b-8be8-69c1ee721482\" xlink:actuate=\"onRequest\" xlink:href=\"psysml:b2f18a0c-e7e8-4f9b-8be8-69c1ee721482\" xlink:show=\"new\" xlink:title=\"psysml:b2f18a0c-e7e8-4f9b-8be8-69c1ee721482\" xlink:type=\"simple\"><rect fill=\"#FEFECE\" filter=\"url(#f1o27pv8h9mupz)\" height=\"53.9375\" id=\"E1\" style=\"stroke: #A80036; stroke-width: 1.5;\" width=\"127\" x=\"7\" y=\"7\"/><text fill=\"#000000\" font-family=\"sans-serif\" font-size=\"12\" font-style=\"italic\" lengthAdjust=\"spacingAndGlyphs\" textLength=\"125\" x=\"8\" y=\"23.1387\">«(T,blue)action def»</text><text fill=\"#000000\" font-family=\"sans-serif\" font-size=\"12\" lengthAdjust=\"spacingAndGlyphs\" textLength=\"80\" x=\"30.5\" y=\"37.1074\">DecisionTest</text><line style=\"stroke: #A80036; stroke-width: 1.5;\" x1=\"8\" x2=\"133\" y1=\"44.9375\" y2=\"44.9375\"/><line style=\"stroke: #A80036; stroke-width: 1.5;\" x1=\"8\" x2=\"133\" y1=\"52.9375\" y2=\"52.9375\"/></a><!--MD5=[a3d39e58887051ce59cb274c89767fe8]\n",
       "@startuml\r\n",
       "skinparam ranksep 8\r\n",
       "skinparam rectangle {\r\n",
       " backgroundColor<<block>> LightGreen\r\n",
       "}\r\n",
       "skinparam wrapWidth 300\r\n",
       "hide circle\r\n",
       "\r\n",
       "def \"DecisionTest\" as E1  <<(T,blue)action def>> [[psysml:b2f18a0c-e7e8-4f9b-8be8-69c1ee721482 ]] \r\n",
       "@enduml\r\n",
       "\n",
       "PlantUML version 1.2020.13(Sat Jun 13 12:26:38 UTC 2020)\n",
       "(EPL source distribution)\n",
       "Java Runtime: OpenJDK Runtime Environment\n",
       "JVM: OpenJDK 64-Bit Server VM\n",
       "Default Encoding: UTF-8\n",
       "Language: en\n",
       "Country: null\n",
       "--></g></svg>"
      ]
     },
     "execution_count": 26,
     "metadata": {},
     "output_type": "execute_result"
    }
   ],
   "source": [
    "%viz --style=\"STDCOLOR\" --view=\"Interconnection\" \"DecisionTest\""
   ]
  },
  {
   "cell_type": "code",
   "execution_count": 27,
   "id": "martial-northern",
   "metadata": {
    "execution": {
     "iopub.execute_input": "2021-03-25T15:07:21.179183Z",
     "iopub.status.busy": "2021-03-25T15:07:21.178561Z",
     "iopub.status.idle": "2021-03-25T15:07:21.211229Z",
     "shell.execute_reply": "2021-03-25T15:07:21.208695Z"
    }
   },
   "outputs": [
    {
     "data": {
      "image/svg+xml": [
       "<?xml version=\"1.0\" encoding=\"UTF-8\" standalone=\"no\"?><svg xmlns=\"http://www.w3.org/2000/svg\" xmlns:xlink=\"http://www.w3.org/1999/xlink\" contentScriptType=\"application/ecmascript\" contentStyleType=\"text/css\" height=\"239px\" preserveAspectRatio=\"none\" style=\"width:873px;height:239px;background:#000000;\" version=\"1.1\" viewBox=\"0 0 873 239\" width=\"873px\" zoomAndPan=\"magnify\"><defs/><g><rect fill=\"#0B0C07\" height=\"1\" style=\"stroke: #0B0C07; stroke-width: 1.0;\" width=\"1\" x=\"0\" y=\"0\"/><rect fill=\"#33FF02\" height=\"21.2969\" style=\"stroke: #33FF02; stroke-width: 1.0;\" width=\"866\" x=\"5\" y=\"5\"/><text fill=\"#000000\" font-family=\"sans-serif\" font-size=\"14\" font-weight=\"bold\" lengthAdjust=\"spacingAndGlyphs\" textLength=\"178\" x=\"6\" y=\"20\">[From string (line 11) ]</text><text fill=\"#33FF02\" font-family=\"sans-serif\" font-size=\"14\" font-weight=\"bold\" lengthAdjust=\"spacingAndGlyphs\" textLength=\"0\" x=\"10\" y=\"40.2969\"/><text fill=\"#33FF02\" font-family=\"sans-serif\" font-size=\"14\" font-weight=\"bold\" lengthAdjust=\"spacingAndGlyphs\" textLength=\"79\" x=\"5\" y=\"56.5938\">@startuml</text><text fill=\"#33FF02\" font-family=\"sans-serif\" font-size=\"14\" font-weight=\"bold\" lengthAdjust=\"spacingAndGlyphs\" textLength=\"165\" x=\"5\" y=\"72.8906\">skinparam ranksep 8</text><text fill=\"#33FF02\" font-family=\"sans-serif\" font-size=\"14\" font-weight=\"bold\" lengthAdjust=\"spacingAndGlyphs\" textLength=\"206\" x=\"5\" y=\"89.1875\">skinparam wrapWidth 300</text><text fill=\"#33FF02\" font-family=\"sans-serif\" font-size=\"14\" font-weight=\"bold\" lengthAdjust=\"spacingAndGlyphs\" textLength=\"82\" x=\"5\" y=\"105.4844\">hide circle</text><text fill=\"#33FF02\" font-family=\"sans-serif\" font-size=\"14\" font-weight=\"bold\" lengthAdjust=\"spacingAndGlyphs\" textLength=\"0\" x=\"10\" y=\"121.7813\"/><text fill=\"#33FF02\" font-family=\"sans-serif\" font-size=\"14\" font-weight=\"bold\" lengthAdjust=\"spacingAndGlyphs\" textLength=\"866\" x=\"5\" y=\"138.0781\">rec def \"DecisionTest\" as E1  &lt;&lt;(T,blue)action def&gt;&gt; [[psysml:b2f18a0c-e7e8-4f9b-8be8-69c1ee721482 ]] {</text><text fill=\"#33FF02\" font-family=\"sans-serif\" font-size=\"14\" font-weight=\"bold\" lengthAdjust=\"spacingAndGlyphs\" textLength=\"619\" x=\"5\" y=\"154.375\">portout \"$result\" as E2  [[psysml:48b93896-3893-47bc-bfb4-82205587ec17 ]]</text><text fill=\"#33FF02\" font-family=\"sans-serif\" font-size=\"14\" font-weight=\"bold\" lengthAdjust=\"spacingAndGlyphs\" textLength=\"859\" x=\"5\" y=\"170.6719\">rec usage \"test x\" as E3  &lt;&lt;(T,blue)decisionNode&gt;&gt; [[psysml:e5d2d3ea-f48f-4426-8e8b-470a03ae9129 ]] {</text><text fill=\"#33FF02\" font-family=\"sans-serif\" font-size=\"14\" font-weight=\"bold\" lengthAdjust=\"spacingAndGlyphs\" textLength=\"10\" x=\"5\" y=\"186.9688\">}</text><text fill=\"#33FF02\" font-family=\"sans-serif\" font-size=\"14\" font-weight=\"bold\" lengthAdjust=\"spacingAndGlyphs\" textLength=\"0\" x=\"10\" y=\"203.2656\"/><text fill=\"#33FF02\" font-family=\"sans-serif\" font-size=\"14\" font-weight=\"bold\" lengthAdjust=\"spacingAndGlyphs\" textLength=\"10\" x=\"5\" y=\"219.5625\">{</text><text fill=\"#FF0000\" font-family=\"sans-serif\" font-size=\"14\" font-weight=\"bold\" lengthAdjust=\"spacingAndGlyphs\" textLength=\"106\" x=\"10\" y=\"235.8594\">Syntax Error?</text><!--MD5=[f9445c866f27a4f9fb5d9e57a181cb60]\n",
       "@startuml\r\n",
       "skinparam ranksep 8\r\n",
       "skinparam wrapWidth 300\r\n",
       "hide circle\r\n",
       "\r\n",
       "rec def \"DecisionTest\" as E1  <<(T,blue)action def>> [[psysml:b2f18a0c-e7e8-4f9b-8be8-69c1ee721482 ]] {\r\n",
       "portout \"$result\" as E2  [[psysml:48b93896-3893-47bc-bfb4-82205587ec17 ]] \r\n",
       "rec usage \"test x\" as E3  <<(T,blue)decisionNode>> [[psysml:e5d2d3ea-f48f-4426-8e8b-470a03ae9129 ]] {\r\n",
       "}\r\n",
       "\r\n",
       "{\r\n",
       "portout \"$result\" as E4  [[psysml:4b8ded41-753f-4321-9638-6238d10e7c80 ]] \r\n",
       "portin \"$x\" as E5  [[psysml:a7b14f91-b01b-46a8-a467-34455cb469c8 ]] \r\n",
       "portin \"$y\" as E6  [[psysml:5152b66c-9655-4578-b3e0-a1abffd52221 ]] \r\n",
       "portout \"$result\" as E7  [[psysml:4920d9f2-11b6-40e8-8f3b-51b5a6d86cfe ]] \r\n",
       "}\r\n",
       "\r\n",
       "{\r\n",
       "portout \"$result\" as E8  [[psysml:299014ef-2d5d-4d16-b133-5999efd30129 ]] \r\n",
       "portin \"$x\" as E9  [[psysml:06a6ed26-9ce9-4d08-906d-b2050b8e915c ]] \r\n",
       "portin \"$y\" as E10  [[psysml:5469b116-bf46-4216-bf8a-03dc856fdd9f ]] \r\n",
       "portout \"$result\" as E11  [[psysml:71834102-980a-4495-ab1e-6e2e09d248cc ]] \r\n",
       "}\r\n",
       "\r\n",
       "{\r\n",
       "}\r\n",
       "\r\n",
       "{\r\n",
       "}\r\n",
       "\r\n",
       "{\r\n",
       "portout \"$result\" as E12  [[psysml:f7c1e883-5939-48d9-8b79-1dd5526a379a ]] \r\n",
       "}\r\n",
       "\r\n",
       "{\r\n",
       "portout \"$result\" as E13  [[psysml:c31efe23-02f2-4c3d-bb99-9ef28e999a1c ]] \r\n",
       "}\r\n",
       "\r\n",
       "rec usage \"A1\" as E14  <<(T,blue)action>> [[psysml:83c05d54-f6d6-494a-833f-554dd37c4623 ]] {\r\n",
       "}\r\n",
       "\r\n",
       "rec usage \"A2\" as E15  <<(T,blue)action>> [[psysml:7dcb7014-cff9-44fa-9aa1-11f878021657 ]] {\r\n",
       "}\r\n",
       "\r\n",
       "rec usage \"A3\" as E16  <<(T,blue)action>> [[psysml:685b0fa1-42be-43fa-8250-fe6c84a18423 ]] {\r\n",
       "}\r\n",
       "\r\n",
       "rec usage \"S\" as E17  <<(T,blue)transition>> [[psysml:94783800-53cc-4e6d-883a-cc9d9c3ccfae ]] {\r\n",
       "rec usage \"A1\" as E18  <<(T,blue)action>> [[psysml:83c05d54-f6d6-494a-833f-554dd37c4623 ]] {\r\n",
       "}\r\n",
       "\r\n",
       "portout \"$result\" as E19  [[psysml:59943b31-a3c9-4e0b-a1a5-a807d88f74d6 ]] \r\n",
       "portin \"$x\" as E20  [[psysml:f56aed3e-0abf-415b-8307-7ce602886a4e ]] \r\n",
       "portin \"$y\" as E21  [[psysml:4a073027-8566-43d2-b22e-daad3da22329 ]] \r\n",
       "portout \"$result\" as E22  [[psysml:a62ac8b0-eaf6-4adc-9f14-e1e54df6c395 ]] \r\n",
       "}\r\n",
       "\r\n",
       "rec usage \"A3\" as E23  <<(T,blue)action>> [[psysml:685b0fa1-42be-43fa-8250-fe6c84a18423 ]] {\r\n",
       "}\r\n",
       "\r\n",
       "{\r\n",
       "portout \"$result\" as E24  [[psysml:98937697-67bb-45ee-8fed-5abb392c3fdb ]] \r\n",
       "portin \"$x\" as E25  [[psysml:a977dc00-242a-40b3-b9da-606e563c8c3f ]] \r\n",
       "portin \"$y\" as E26  [[psysml:ab4e429e-9a1f-45c8-b892-c2c8dcefbe2f ]] \r\n",
       "portout \"$result\" as E27  [[psysml:2734cb04-9b51-40b2-9042-069cd5d9688c ]] \r\n",
       "}\r\n",
       "\r\n",
       "}\r\n",
       "\r\n",
       "E6 -[thickness=5,#red]- E4 [[psysml:60a3d248-455c-4b27-8c43-fdde339bf8bd ]] \r\n",
       "E10 -[thickness=5,#red]- E8 [[psysml:985ddca8-3639-4ad8-9c42-b0c44e866ff3 ]] \r\n",
       "E21 -[thickness=5,#red]- E19 [[psysml:246fdd7b-2672-46ea-b421-02bbe449818a ]] \r\n",
       "E26 -[thickness=5,#red]- E24 [[psysml:b7d97414-dcb8-4731-9734-ffccd7d52e37 ]] \r\n",
       "@enduml\r\n",
       "\n",
       "PlantUML version 1.2020.13(Sat Jun 13 12:26:38 UTC 2020)\n",
       "(EPL source distribution)\n",
       "Java Runtime: OpenJDK Runtime Environment\n",
       "JVM: OpenJDK 64-Bit Server VM\n",
       "Default Encoding: UTF-8\n",
       "Language: en\n",
       "Country: null\n",
       "--></g></svg>"
      ]
     },
     "execution_count": 27,
     "metadata": {},
     "output_type": "execute_result"
    }
   ],
   "source": [
    "%viz --style=\"STDCOLOR\" --view=\"Action\" \"DecisionTest\""
   ]
  },
  {
   "cell_type": "code",
   "execution_count": 28,
   "id": "hybrid-drove",
   "metadata": {
    "execution": {
     "iopub.execute_input": "2021-03-25T15:07:21.260315Z",
     "iopub.status.busy": "2021-03-25T15:07:21.259856Z",
     "iopub.status.idle": "2021-03-25T15:07:21.602617Z",
     "shell.execute_reply": "2021-03-25T15:07:21.603279Z"
    }
   },
   "outputs": [
    {
     "data": {
      "image/svg+xml": [
       "<?xml version=\"1.0\" encoding=\"UTF-8\" standalone=\"no\"?><svg xmlns=\"http://www.w3.org/2000/svg\" xmlns:xlink=\"http://www.w3.org/1999/xlink\" contentScriptType=\"application/ecmascript\" contentStyleType=\"text/css\" height=\"199px\" preserveAspectRatio=\"none\" style=\"width:117px;height:199px;\" version=\"1.1\" viewBox=\"0 0 117 199\" width=\"117px\" zoomAndPan=\"magnify\"><defs><filter height=\"300%\" id=\"fxcijy5a8tehe\" width=\"300%\" x=\"-1\" y=\"-1\"><feGaussianBlur result=\"blurOut\" stdDeviation=\"2.0\"/><feColorMatrix in=\"blurOut\" result=\"blurOut2\" type=\"matrix\" values=\"0 0 0 0 0 0 0 0 0 0 0 0 0 0 0 0 0 0 .4 0\"/><feOffset dx=\"4.0\" dy=\"4.0\" in=\"blurOut2\" result=\"blurOut3\"/><feBlend in=\"SourceGraphic\" in2=\"blurOut3\" mode=\"normal\"/></filter></defs><g><!--MD5=[43c9051892ef23e1a46a86907403d788]\n",
       "class E1--><a href=\"psysml:b2f18a0c-e7e8-4f9b-8be8-69c1ee721482\" target=\"_top\" title=\"psysml:b2f18a0c-e7e8-4f9b-8be8-69c1ee721482\" xlink:actuate=\"onRequest\" xlink:href=\"psysml:b2f18a0c-e7e8-4f9b-8be8-69c1ee721482\" xlink:show=\"new\" xlink:title=\"psysml:b2f18a0c-e7e8-4f9b-8be8-69c1ee721482\" xlink:type=\"simple\"><rect fill=\"#FEFECE\" filter=\"url(#fxcijy5a8tehe)\" height=\"173.1797\" id=\"E1\" style=\"stroke: #A80036; stroke-width: 1.5;\" width=\"91\" x=\"7\" y=\"7\"/><text fill=\"#000000\" font-family=\"sans-serif\" font-size=\"12\" font-style=\"italic\" lengthAdjust=\"spacingAndGlyphs\" textLength=\"77\" x=\"14\" y=\"23.1387\">«action def»</text><text fill=\"#000000\" font-family=\"sans-serif\" font-size=\"12\" lengthAdjust=\"spacingAndGlyphs\" textLength=\"80\" x=\"12.5\" y=\"37.1074\">DecisionTest</text><line style=\"stroke: #A80036; stroke-width: 1.5;\" x1=\"8\" x2=\"97\" y1=\"44.9375\" y2=\"44.9375\"/><text fill=\"#000000\" font-family=\"sans-serif\" font-size=\"11\" lengthAdjust=\"spacingAndGlyphs\" textLength=\"6\" x=\"13\" y=\"59.1479\">x</text><text fill=\"#000000\" font-family=\"sans-serif\" font-size=\"11\" lengthAdjust=\"spacingAndGlyphs\" textLength=\"14\" x=\"13\" y=\"88.7573\">A1</text><text fill=\"#000000\" font-family=\"sans-serif\" font-size=\"11\" lengthAdjust=\"spacingAndGlyphs\" textLength=\"14\" x=\"13\" y=\"101.562\">A2</text><text fill=\"#000000\" font-family=\"sans-serif\" font-size=\"11\" lengthAdjust=\"spacingAndGlyphs\" textLength=\"14\" x=\"13\" y=\"114.3667\">A3</text><line style=\"stroke: #A80036; stroke-width: 1.0;\" x1=\"8\" x2=\"32\" y1=\"72.1445\" y2=\"72.1445\"/><text fill=\"#000000\" font-family=\"sans-serif\" font-size=\"11\" lengthAdjust=\"spacingAndGlyphs\" textLength=\"41\" x=\"32\" y=\"75.4526\">actions</text><line style=\"stroke: #A80036; stroke-width: 1.0;\" x1=\"73\" x2=\"97\" y1=\"72.1445\" y2=\"72.1445\"/><text fill=\"#000000\" font-family=\"sans-serif\" font-size=\"11\" lengthAdjust=\"spacingAndGlyphs\" textLength=\"32\" x=\"13\" y=\"143.9761\">test x</text><line style=\"stroke: #A80036; stroke-width: 1.0;\" x1=\"8\" x2=\"11\" y1=\"127.3633\" y2=\"127.3633\"/><text fill=\"#000000\" font-family=\"sans-serif\" font-size=\"11\" lengthAdjust=\"spacingAndGlyphs\" textLength=\"83\" x=\"11\" y=\"130.6714\">decisionNodes</text><line style=\"stroke: #A80036; stroke-width: 1.0;\" x1=\"94\" x2=\"97\" y1=\"127.3633\" y2=\"127.3633\"/><text fill=\"#000000\" font-family=\"sans-serif\" font-size=\"11\" lengthAdjust=\"spacingAndGlyphs\" textLength=\"8\" x=\"13\" y=\"173.5854\">S</text><line style=\"stroke: #A80036; stroke-width: 1.0;\" x1=\"8\" x2=\"22\" y1=\"156.9727\" y2=\"156.9727\"/><text fill=\"#000000\" font-family=\"sans-serif\" font-size=\"11\" lengthAdjust=\"spacingAndGlyphs\" textLength=\"61\" x=\"22\" y=\"160.2808\">transitions</text><line style=\"stroke: #A80036; stroke-width: 1.0;\" x1=\"83\" x2=\"97\" y1=\"156.9727\" y2=\"156.9727\"/></a><!--MD5=[8d82b398c2d685ef670fa228c941f805]\n",
       "@startuml\r\n",
       "skinparam wrapWidth 300\r\n",
       "hide circle\r\n",
       "\r\n",
       "comp def \"DecisionTest\" as E1  <<(T,blue)action def>> [[psysml:b2f18a0c-e7e8-4f9b-8be8-69c1ee721482 ]] {\r\n",
       "x\r\n",
       "- - actions - -\r\n",
       "A1\r\n",
       "A2\r\n",
       "A3\r\n",
       "- - decisionNodes - -\r\n",
       "test x\r\n",
       "- - transitions - -\r\n",
       "S\r\n",
       "}\r\n",
       "@enduml\r\n",
       "\n",
       "PlantUML version 1.2020.13(Sat Jun 13 12:26:38 UTC 2020)\n",
       "(EPL source distribution)\n",
       "Java Runtime: OpenJDK Runtime Environment\n",
       "JVM: OpenJDK 64-Bit Server VM\n",
       "Default Encoding: UTF-8\n",
       "Language: en\n",
       "Country: null\n",
       "--></g></svg>"
      ]
     },
     "execution_count": 28,
     "metadata": {},
     "output_type": "execute_result"
    }
   ],
   "source": [
    "%viz --style=\"STDCOLOR\" --view=\"Sequence\" \"DecisionTest\""
   ]
  },
  {
   "cell_type": "code",
   "execution_count": 29,
   "id": "disciplinary-knight",
   "metadata": {
    "execution": {
     "iopub.execute_input": "2021-03-25T15:07:21.654100Z",
     "iopub.status.busy": "2021-03-25T15:07:21.653541Z",
     "iopub.status.idle": "2021-03-25T15:07:21.690370Z",
     "shell.execute_reply": "2021-03-25T15:07:21.690816Z"
    }
   },
   "outputs": [
    {
     "data": {
      "image/svg+xml": [
       "<?xml version=\"1.0\" encoding=\"UTF-8\" standalone=\"no\"?><svg xmlns=\"http://www.w3.org/2000/svg\" xmlns:xlink=\"http://www.w3.org/1999/xlink\" contentScriptType=\"application/ecmascript\" contentStyleType=\"text/css\" height=\"223px\" preserveAspectRatio=\"none\" style=\"width:873px;height:223px;background:#000000;\" version=\"1.1\" viewBox=\"0 0 873 223\" width=\"873px\" zoomAndPan=\"magnify\"><defs/><g><rect fill=\"#0D2210\" height=\"1\" style=\"stroke: #0D2210; stroke-width: 1.0;\" width=\"1\" x=\"0\" y=\"0\"/><rect fill=\"#33FF02\" height=\"21.2969\" style=\"stroke: #33FF02; stroke-width: 1.0;\" width=\"866\" x=\"5\" y=\"5\"/><text fill=\"#000000\" font-family=\"sans-serif\" font-size=\"14\" font-weight=\"bold\" lengthAdjust=\"spacingAndGlyphs\" textLength=\"178\" x=\"6\" y=\"20\">[From string (line 10) ]</text><text fill=\"#33FF02\" font-family=\"sans-serif\" font-size=\"14\" font-weight=\"bold\" lengthAdjust=\"spacingAndGlyphs\" textLength=\"0\" x=\"10\" y=\"40.2969\"/><text fill=\"#33FF02\" font-family=\"sans-serif\" font-size=\"14\" font-weight=\"bold\" lengthAdjust=\"spacingAndGlyphs\" textLength=\"79\" x=\"5\" y=\"56.5938\">@startuml</text><text fill=\"#33FF02\" font-family=\"sans-serif\" font-size=\"14\" font-weight=\"bold\" lengthAdjust=\"spacingAndGlyphs\" textLength=\"206\" x=\"5\" y=\"72.8906\">skinparam wrapWidth 300</text><text fill=\"#33FF02\" font-family=\"sans-serif\" font-size=\"14\" font-weight=\"bold\" lengthAdjust=\"spacingAndGlyphs\" textLength=\"82\" x=\"5\" y=\"89.1875\">hide circle</text><text fill=\"#33FF02\" font-family=\"sans-serif\" font-size=\"14\" font-weight=\"bold\" lengthAdjust=\"spacingAndGlyphs\" textLength=\"0\" x=\"10\" y=\"105.4844\"/><text fill=\"#33FF02\" font-family=\"sans-serif\" font-size=\"14\" font-weight=\"bold\" lengthAdjust=\"spacingAndGlyphs\" textLength=\"866\" x=\"5\" y=\"121.7813\">rec def \"DecisionTest\" as E1  &lt;&lt;(T,blue)action def&gt;&gt; [[psysml:b2f18a0c-e7e8-4f9b-8be8-69c1ee721482 ]] {</text><text fill=\"#33FF02\" font-family=\"sans-serif\" font-size=\"14\" font-weight=\"bold\" lengthAdjust=\"spacingAndGlyphs\" textLength=\"619\" x=\"5\" y=\"138.0781\">portout \"$result\" as E2  [[psysml:48b93896-3893-47bc-bfb4-82205587ec17 ]]</text><text fill=\"#33FF02\" font-family=\"sans-serif\" font-size=\"14\" font-weight=\"bold\" lengthAdjust=\"spacingAndGlyphs\" textLength=\"859\" x=\"5\" y=\"154.375\">rec usage \"test x\" as E3  &lt;&lt;(T,blue)decisionNode&gt;&gt; [[psysml:e5d2d3ea-f48f-4426-8e8b-470a03ae9129 ]] {</text><text fill=\"#33FF02\" font-family=\"sans-serif\" font-size=\"14\" font-weight=\"bold\" lengthAdjust=\"spacingAndGlyphs\" textLength=\"10\" x=\"5\" y=\"170.6719\">}</text><text fill=\"#33FF02\" font-family=\"sans-serif\" font-size=\"14\" font-weight=\"bold\" lengthAdjust=\"spacingAndGlyphs\" textLength=\"0\" x=\"10\" y=\"186.9688\"/><text fill=\"#33FF02\" font-family=\"sans-serif\" font-size=\"14\" font-weight=\"bold\" lengthAdjust=\"spacingAndGlyphs\" textLength=\"10\" x=\"5\" y=\"203.2656\">{</text><text fill=\"#FF0000\" font-family=\"sans-serif\" font-size=\"14\" font-weight=\"bold\" lengthAdjust=\"spacingAndGlyphs\" textLength=\"106\" x=\"10\" y=\"219.5625\">Syntax Error?</text><!--MD5=[754a264f57466fb397ea07cb3ae3cc70]\n",
       "@startuml\r\n",
       "skinparam wrapWidth 300\r\n",
       "hide circle\r\n",
       "\r\n",
       "rec def \"DecisionTest\" as E1  <<(T,blue)action def>> [[psysml:b2f18a0c-e7e8-4f9b-8be8-69c1ee721482 ]] {\r\n",
       "portout \"$result\" as E2  [[psysml:48b93896-3893-47bc-bfb4-82205587ec17 ]] \r\n",
       "rec usage \"test x\" as E3  <<(T,blue)decisionNode>> [[psysml:e5d2d3ea-f48f-4426-8e8b-470a03ae9129 ]] {\r\n",
       "}\r\n",
       "\r\n",
       "{\r\n",
       "portout \"$result\" as E4  [[psysml:4b8ded41-753f-4321-9638-6238d10e7c80 ]] \r\n",
       "portin \"$x\" as E5  [[psysml:a7b14f91-b01b-46a8-a467-34455cb469c8 ]] \r\n",
       "portin \"$y\" as E6  [[psysml:5152b66c-9655-4578-b3e0-a1abffd52221 ]] \r\n",
       "portout \"$result\" as E7  [[psysml:4920d9f2-11b6-40e8-8f3b-51b5a6d86cfe ]] \r\n",
       "}\r\n",
       "\r\n",
       "{\r\n",
       "portout \"$result\" as E8  [[psysml:299014ef-2d5d-4d16-b133-5999efd30129 ]] \r\n",
       "portin \"$x\" as E9  [[psysml:06a6ed26-9ce9-4d08-906d-b2050b8e915c ]] \r\n",
       "portin \"$y\" as E10  [[psysml:5469b116-bf46-4216-bf8a-03dc856fdd9f ]] \r\n",
       "portout \"$result\" as E11  [[psysml:71834102-980a-4495-ab1e-6e2e09d248cc ]] \r\n",
       "}\r\n",
       "\r\n",
       "{\r\n",
       "}\r\n",
       "\r\n",
       "{\r\n",
       "}\r\n",
       "\r\n",
       "{\r\n",
       "portout \"$result\" as E12  [[psysml:f7c1e883-5939-48d9-8b79-1dd5526a379a ]] \r\n",
       "}\r\n",
       "\r\n",
       "{\r\n",
       "portout \"$result\" as E13  [[psysml:c31efe23-02f2-4c3d-bb99-9ef28e999a1c ]] \r\n",
       "}\r\n",
       "\r\n",
       "rec usage \"A1\" as E14  <<(T,blue)action>> [[psysml:83c05d54-f6d6-494a-833f-554dd37c4623 ]] {\r\n",
       "}\r\n",
       "\r\n",
       "rec usage \"A2\" as E15  <<(T,blue)action>> [[psysml:7dcb7014-cff9-44fa-9aa1-11f878021657 ]] {\r\n",
       "}\r\n",
       "\r\n",
       "rec usage \"A3\" as E16  <<(T,blue)action>> [[psysml:685b0fa1-42be-43fa-8250-fe6c84a18423 ]] {\r\n",
       "}\r\n",
       "\r\n",
       "rec usage \"S\" as E17  <<(T,blue)transition>> [[psysml:94783800-53cc-4e6d-883a-cc9d9c3ccfae ]] {\r\n",
       "rec usage \"A1\" as E18  <<(T,blue)action>> [[psysml:83c05d54-f6d6-494a-833f-554dd37c4623 ]] {\r\n",
       "}\r\n",
       "\r\n",
       "portout \"$result\" as E19  [[psysml:59943b31-a3c9-4e0b-a1a5-a807d88f74d6 ]] \r\n",
       "portin \"$x\" as E20  [[psysml:f56aed3e-0abf-415b-8307-7ce602886a4e ]] \r\n",
       "portin \"$y\" as E21  [[psysml:4a073027-8566-43d2-b22e-daad3da22329 ]] \r\n",
       "portout \"$result\" as E22  [[psysml:a62ac8b0-eaf6-4adc-9f14-e1e54df6c395 ]] \r\n",
       "}\r\n",
       "\r\n",
       "rec usage \"A3\" as E23  <<(T,blue)action>> [[psysml:685b0fa1-42be-43fa-8250-fe6c84a18423 ]] {\r\n",
       "}\r\n",
       "\r\n",
       "{\r\n",
       "portout \"$result\" as E24  [[psysml:98937697-67bb-45ee-8fed-5abb392c3fdb ]] \r\n",
       "portin \"$x\" as E25  [[psysml:a977dc00-242a-40b3-b9da-606e563c8c3f ]] \r\n",
       "portin \"$y\" as E26  [[psysml:ab4e429e-9a1f-45c8-b892-c2c8dcefbe2f ]] \r\n",
       "portout \"$result\" as E27  [[psysml:2734cb04-9b51-40b2-9042-069cd5d9688c ]] \r\n",
       "}\r\n",
       "\r\n",
       "}\r\n",
       "\r\n",
       "E6 -[thickness=5,#red]- E4 [[psysml:60a3d248-455c-4b27-8c43-fdde339bf8bd ]] \r\n",
       "E10 -[thickness=5,#red]- E8 [[psysml:985ddca8-3639-4ad8-9c42-b0c44e866ff3 ]] \r\n",
       "E21 -[thickness=5,#red]- E19 [[psysml:246fdd7b-2672-46ea-b421-02bbe449818a ]] \r\n",
       "E26 -[thickness=5,#red]- E24 [[psysml:b7d97414-dcb8-4731-9734-ffccd7d52e37 ]] \r\n",
       "@enduml\r\n",
       "\n",
       "PlantUML version 1.2020.13(Sat Jun 13 12:26:38 UTC 2020)\n",
       "(EPL source distribution)\n",
       "Java Runtime: OpenJDK Runtime Environment\n",
       "JVM: OpenJDK 64-Bit Server VM\n",
       "Default Encoding: UTF-8\n",
       "Language: en\n",
       "Country: null\n",
       "--></g></svg>"
      ]
     },
     "execution_count": 29,
     "metadata": {},
     "output_type": "execute_result"
    }
   ],
   "source": [
    "%viz --style=\"STDCOLOR\" --view=\"MIXED\" \"DecisionTest\""
   ]
  },
  {
   "cell_type": "code",
   "execution_count": 30,
   "id": "infrared-yellow",
   "metadata": {
    "execution": {
     "iopub.execute_input": "2021-03-25T15:07:21.742286Z",
     "iopub.status.busy": "2021-03-25T15:07:21.741609Z",
     "iopub.status.idle": "2021-03-25T15:07:21.777998Z",
     "shell.execute_reply": "2021-03-25T15:07:21.777578Z"
    }
   },
   "outputs": [
    {
     "data": {
      "image/svg+xml": [
       "<?xml version=\"1.0\" encoding=\"UTF-8\" standalone=\"no\"?><svg xmlns=\"http://www.w3.org/2000/svg\" xmlns:xlink=\"http://www.w3.org/1999/xlink\" contentScriptType=\"application/ecmascript\" contentStyleType=\"text/css\" height=\"190px\" preserveAspectRatio=\"none\" style=\"width:891px;height:190px;background:#000000;\" version=\"1.1\" viewBox=\"0 0 891 190\" width=\"891px\" zoomAndPan=\"magnify\"><defs/><g><rect fill=\"#172206\" height=\"1\" style=\"stroke: #172206; stroke-width: 1.0;\" width=\"1\" x=\"0\" y=\"0\"/><rect fill=\"#33FF02\" height=\"21.2969\" style=\"stroke: #33FF02; stroke-width: 1.0;\" width=\"884\" x=\"5\" y=\"5\"/><text fill=\"#000000\" font-family=\"sans-serif\" font-size=\"14\" font-weight=\"bold\" lengthAdjust=\"spacingAndGlyphs\" textLength=\"168\" x=\"6\" y=\"20\">[From string (line 8) ]</text><text fill=\"#33FF02\" font-family=\"sans-serif\" font-size=\"14\" font-weight=\"bold\" lengthAdjust=\"spacingAndGlyphs\" textLength=\"0\" x=\"10\" y=\"40.2969\"/><text fill=\"#33FF02\" font-family=\"sans-serif\" font-size=\"14\" font-weight=\"bold\" lengthAdjust=\"spacingAndGlyphs\" textLength=\"79\" x=\"5\" y=\"56.5938\">@startuml</text><text fill=\"#33FF02\" font-family=\"sans-serif\" font-size=\"14\" font-weight=\"bold\" lengthAdjust=\"spacingAndGlyphs\" textLength=\"0\" x=\"10\" y=\"72.8906\"/><text fill=\"#33FF02\" font-family=\"sans-serif\" font-size=\"14\" font-weight=\"bold\" lengthAdjust=\"spacingAndGlyphs\" textLength=\"884\" x=\"5\" y=\"89.1875\">rec def \"DecisionTest\" as E1  &lt;&lt;(D,brown)action def&gt;&gt; [[psysml:b2f18a0c-e7e8-4f9b-8be8-69c1ee721482 ]] {</text><text fill=\"#33FF02\" font-family=\"sans-serif\" font-size=\"14\" font-weight=\"bold\" lengthAdjust=\"spacingAndGlyphs\" textLength=\"619\" x=\"5\" y=\"105.4844\">portout \"$result\" as E2  [[psysml:48b93896-3893-47bc-bfb4-82205587ec17 ]]</text><text fill=\"#33FF02\" font-family=\"sans-serif\" font-size=\"14\" font-weight=\"bold\" lengthAdjust=\"spacingAndGlyphs\" textLength=\"882\" x=\"5\" y=\"121.7813\">rec usage \"test x\" as E3  &lt;&lt;(U,orange)decisionNode&gt;&gt; [[psysml:e5d2d3ea-f48f-4426-8e8b-470a03ae9129 ]] {</text><text fill=\"#33FF02\" font-family=\"sans-serif\" font-size=\"14\" font-weight=\"bold\" lengthAdjust=\"spacingAndGlyphs\" textLength=\"10\" x=\"5\" y=\"138.0781\">}</text><text fill=\"#33FF02\" font-family=\"sans-serif\" font-size=\"14\" font-weight=\"bold\" lengthAdjust=\"spacingAndGlyphs\" textLength=\"0\" x=\"10\" y=\"154.375\"/><text fill=\"#33FF02\" font-family=\"sans-serif\" font-size=\"14\" font-weight=\"bold\" lengthAdjust=\"spacingAndGlyphs\" textLength=\"10\" x=\"5\" y=\"170.6719\">{</text><text fill=\"#FF0000\" font-family=\"sans-serif\" font-size=\"14\" font-weight=\"bold\" lengthAdjust=\"spacingAndGlyphs\" textLength=\"106\" x=\"10\" y=\"186.9688\">Syntax Error?</text><!--MD5=[7b481ad53c7be3f3ef20bfa94490a13a]\n",
       "@startuml\r\n",
       " \r\n",
       "rec def \"DecisionTest\" as E1  <<(D,brown)action def>> [[psysml:b2f18a0c-e7e8-4f9b-8be8-69c1ee721482 ]] {\r\n",
       "portout \"$result\" as E2  [[psysml:48b93896-3893-47bc-bfb4-82205587ec17 ]] \r\n",
       "rec usage \"test x\" as E3  <<(U,orange)decisionNode>> [[psysml:e5d2d3ea-f48f-4426-8e8b-470a03ae9129 ]] {\r\n",
       "}\r\n",
       "\r\n",
       "{\r\n",
       "portout \"$result\" as E4  [[psysml:4b8ded41-753f-4321-9638-6238d10e7c80 ]] \r\n",
       "portin \"$x\" as E5  [[psysml:a7b14f91-b01b-46a8-a467-34455cb469c8 ]] \r\n",
       "portin \"$y\" as E6  [[psysml:5152b66c-9655-4578-b3e0-a1abffd52221 ]] \r\n",
       "portout \"$result\" as E7  [[psysml:4920d9f2-11b6-40e8-8f3b-51b5a6d86cfe ]] \r\n",
       "}\r\n",
       "\r\n",
       "{\r\n",
       "portout \"$result\" as E8  [[psysml:299014ef-2d5d-4d16-b133-5999efd30129 ]] \r\n",
       "portin \"$x\" as E9  [[psysml:06a6ed26-9ce9-4d08-906d-b2050b8e915c ]] \r\n",
       "portin \"$y\" as E10  [[psysml:5469b116-bf46-4216-bf8a-03dc856fdd9f ]] \r\n",
       "portout \"$result\" as E11  [[psysml:71834102-980a-4495-ab1e-6e2e09d248cc ]] \r\n",
       "}\r\n",
       "\r\n",
       "{\r\n",
       "}\r\n",
       "\r\n",
       "{\r\n",
       "}\r\n",
       "\r\n",
       "{\r\n",
       "portout \"$result\" as E12  [[psysml:f7c1e883-5939-48d9-8b79-1dd5526a379a ]] \r\n",
       "}\r\n",
       "\r\n",
       "{\r\n",
       "portout \"$result\" as E13  [[psysml:c31efe23-02f2-4c3d-bb99-9ef28e999a1c ]] \r\n",
       "}\r\n",
       "\r\n",
       "rec usage \"A1\" as E14  <<(U,orange)action>> [[psysml:83c05d54-f6d6-494a-833f-554dd37c4623 ]] {\r\n",
       "}\r\n",
       "\r\n",
       "rec usage \"A2\" as E15  <<(U,orange)action>> [[psysml:7dcb7014-cff9-44fa-9aa1-11f878021657 ]] {\r\n",
       "}\r\n",
       "\r\n",
       "rec usage \"A3\" as E16  <<(U,orange)action>> [[psysml:685b0fa1-42be-43fa-8250-fe6c84a18423 ]] {\r\n",
       "}\r\n",
       "\r\n",
       "rec usage \"S\" as E17  <<(U,orange)transition>> [[psysml:94783800-53cc-4e6d-883a-cc9d9c3ccfae ]] {\r\n",
       "rec usage \"A1\" as E18  <<(U,orange)action>> [[psysml:83c05d54-f6d6-494a-833f-554dd37c4623 ]] {\r\n",
       "}\r\n",
       "\r\n",
       "portout \"$result\" as E19  [[psysml:59943b31-a3c9-4e0b-a1a5-a807d88f74d6 ]] \r\n",
       "portin \"$x\" as E20  [[psysml:f56aed3e-0abf-415b-8307-7ce602886a4e ]] \r\n",
       "portin \"$y\" as E21  [[psysml:4a073027-8566-43d2-b22e-daad3da22329 ]] \r\n",
       "portout \"$result\" as E22  [[psysml:a62ac8b0-eaf6-4adc-9f14-e1e54df6c395 ]] \r\n",
       "}\r\n",
       "\r\n",
       "rec usage \"A3\" as E23  <<(U,orange)action>> [[psysml:685b0fa1-42be-43fa-8250-fe6c84a18423 ]] {\r\n",
       "}\r\n",
       "\r\n",
       "{\r\n",
       "portout \"$result\" as E24  [[psysml:98937697-67bb-45ee-8fed-5abb392c3fdb ]] \r\n",
       "portin \"$x\" as E25  [[psysml:a977dc00-242a-40b3-b9da-606e563c8c3f ]] \r\n",
       "portin \"$y\" as E26  [[psysml:ab4e429e-9a1f-45c8-b892-c2c8dcefbe2f ]] \r\n",
       "portout \"$result\" as E27  [[psysml:2734cb04-9b51-40b2-9042-069cd5d9688c ]] \r\n",
       "}\r\n",
       "\r\n",
       "}\r\n",
       "\r\n",
       "E6 -[thickness=5,#red]- E4 [[psysml:60a3d248-455c-4b27-8c43-fdde339bf8bd ]] \r\n",
       "E10 -[thickness=5,#red]- E8 [[psysml:985ddca8-3639-4ad8-9c42-b0c44e866ff3 ]] \r\n",
       "E21 -[thickness=5,#red]- E19 [[psysml:246fdd7b-2672-46ea-b421-02bbe449818a ]] \r\n",
       "E26 -[thickness=5,#red]- E24 [[psysml:b7d97414-dcb8-4731-9734-ffccd7d52e37 ]] \r\n",
       "@enduml\r\n",
       "\n",
       "PlantUML version 1.2020.13(Sat Jun 13 12:26:38 UTC 2020)\n",
       "(EPL source distribution)\n",
       "Java Runtime: OpenJDK Runtime Environment\n",
       "JVM: OpenJDK 64-Bit Server VM\n",
       "Default Encoding: UTF-8\n",
       "Language: en\n",
       "Country: null\n",
       "--></g></svg>"
      ]
     },
     "execution_count": 30,
     "metadata": {},
     "output_type": "execute_result"
    }
   ],
   "source": [
    "%viz --style=\"PLANTUML\" --view=\"Default\" \"DecisionTest\""
   ]
  },
  {
   "cell_type": "code",
   "execution_count": 31,
   "id": "complicated-heating",
   "metadata": {
    "execution": {
     "iopub.execute_input": "2021-03-25T15:07:21.829512Z",
     "iopub.status.busy": "2021-03-25T15:07:21.828924Z",
     "iopub.status.idle": "2021-03-25T15:07:22.160290Z",
     "shell.execute_reply": "2021-03-25T15:07:22.159848Z"
    }
   },
   "outputs": [
    {
     "data": {
      "image/svg+xml": [
       "<?xml version=\"1.0\" encoding=\"UTF-8\" standalone=\"no\"?><svg xmlns=\"http://www.w3.org/2000/svg\" xmlns:xlink=\"http://www.w3.org/1999/xlink\" contentScriptType=\"application/ecmascript\" contentStyleType=\"text/css\" height=\"199px\" preserveAspectRatio=\"none\" style=\"width:138px;height:199px;\" version=\"1.1\" viewBox=\"0 0 138 199\" width=\"138px\" zoomAndPan=\"magnify\"><defs><filter height=\"300%\" id=\"f15ri51z1pq3j\" width=\"300%\" x=\"-1\" y=\"-1\"><feGaussianBlur result=\"blurOut\" stdDeviation=\"2.0\"/><feColorMatrix in=\"blurOut\" result=\"blurOut2\" type=\"matrix\" values=\"0 0 0 0 0 0 0 0 0 0 0 0 0 0 0 0 0 0 .4 0\"/><feOffset dx=\"4.0\" dy=\"4.0\" in=\"blurOut2\" result=\"blurOut3\"/><feBlend in=\"SourceGraphic\" in2=\"blurOut3\" mode=\"normal\"/></filter></defs><g><!--MD5=[43c9051892ef23e1a46a86907403d788]\n",
       "class E1--><a href=\"psysml:b2f18a0c-e7e8-4f9b-8be8-69c1ee721482\" target=\"_top\" title=\"psysml:b2f18a0c-e7e8-4f9b-8be8-69c1ee721482\" xlink:actuate=\"onRequest\" xlink:href=\"psysml:b2f18a0c-e7e8-4f9b-8be8-69c1ee721482\" xlink:show=\"new\" xlink:title=\"psysml:b2f18a0c-e7e8-4f9b-8be8-69c1ee721482\" xlink:type=\"simple\"><rect fill=\"#FEFECE\" filter=\"url(#f15ri51z1pq3j)\" height=\"173.1797\" id=\"E1\" style=\"stroke: #A80036; stroke-width: 1.5;\" width=\"112\" x=\"7\" y=\"7\"/><ellipse cx=\"22\" cy=\"25.9688\" fill=\"#A52A2A\" rx=\"11\" ry=\"11\" style=\"stroke: #A80036; stroke-width: 1.0;\"/><path d=\"M21.5938,21.7813 L21.5938,29.7656 L22.25,29.7656 Q23.6875,29.7656 24.2969,28.8594 Q24.9219,27.9375 24.9219,25.7656 Q24.9219,23.5938 24.2969,22.6875 Q23.6875,21.7813 22.25,21.7813 L21.5938,21.7813 Z M19.1406,19.5781 L21.7656,19.5781 Q24.7969,19.5781 26.125,21.0313 Q27.4688,22.4688 27.4688,25.7656 Q27.4688,29.0625 26.125,30.5156 Q24.7969,31.9688 21.7656,31.9688 L19.1406,31.9688 L19.1406,19.5781 Z \"/><text fill=\"#000000\" font-family=\"sans-serif\" font-size=\"12\" font-style=\"italic\" lengthAdjust=\"spacingAndGlyphs\" textLength=\"77\" x=\"37.5\" y=\"23.1387\">«action def»</text><text fill=\"#000000\" font-family=\"sans-serif\" font-size=\"12\" lengthAdjust=\"spacingAndGlyphs\" textLength=\"80\" x=\"36\" y=\"37.1074\">DecisionTest</text><line style=\"stroke: #A80036; stroke-width: 1.5;\" x1=\"8\" x2=\"118\" y1=\"44.9375\" y2=\"44.9375\"/><text fill=\"#000000\" font-family=\"sans-serif\" font-size=\"11\" lengthAdjust=\"spacingAndGlyphs\" textLength=\"6\" x=\"13\" y=\"59.1479\">x</text><text fill=\"#000000\" font-family=\"sans-serif\" font-size=\"11\" lengthAdjust=\"spacingAndGlyphs\" textLength=\"14\" x=\"13\" y=\"88.7573\">A1</text><text fill=\"#000000\" font-family=\"sans-serif\" font-size=\"11\" lengthAdjust=\"spacingAndGlyphs\" textLength=\"14\" x=\"13\" y=\"101.562\">A2</text><text fill=\"#000000\" font-family=\"sans-serif\" font-size=\"11\" lengthAdjust=\"spacingAndGlyphs\" textLength=\"14\" x=\"13\" y=\"114.3667\">A3</text><line style=\"stroke: #A80036; stroke-width: 1.0;\" x1=\"8\" x2=\"42.5\" y1=\"72.1445\" y2=\"72.1445\"/><text fill=\"#000000\" font-family=\"sans-serif\" font-size=\"11\" lengthAdjust=\"spacingAndGlyphs\" textLength=\"41\" x=\"42.5\" y=\"75.4526\">actions</text><line style=\"stroke: #A80036; stroke-width: 1.0;\" x1=\"83.5\" x2=\"118\" y1=\"72.1445\" y2=\"72.1445\"/><text fill=\"#000000\" font-family=\"sans-serif\" font-size=\"11\" lengthAdjust=\"spacingAndGlyphs\" textLength=\"32\" x=\"13\" y=\"143.9761\">test x</text><line style=\"stroke: #A80036; stroke-width: 1.0;\" x1=\"8\" x2=\"21.5\" y1=\"127.3633\" y2=\"127.3633\"/><text fill=\"#000000\" font-family=\"sans-serif\" font-size=\"11\" lengthAdjust=\"spacingAndGlyphs\" textLength=\"83\" x=\"21.5\" y=\"130.6714\">decisionNodes</text><line style=\"stroke: #A80036; stroke-width: 1.0;\" x1=\"104.5\" x2=\"118\" y1=\"127.3633\" y2=\"127.3633\"/><text fill=\"#000000\" font-family=\"sans-serif\" font-size=\"11\" lengthAdjust=\"spacingAndGlyphs\" textLength=\"8\" x=\"13\" y=\"173.5854\">S</text><line style=\"stroke: #A80036; stroke-width: 1.0;\" x1=\"8\" x2=\"32.5\" y1=\"156.9727\" y2=\"156.9727\"/><text fill=\"#000000\" font-family=\"sans-serif\" font-size=\"11\" lengthAdjust=\"spacingAndGlyphs\" textLength=\"61\" x=\"32.5\" y=\"160.2808\">transitions</text><line style=\"stroke: #A80036; stroke-width: 1.0;\" x1=\"93.5\" x2=\"118\" y1=\"156.9727\" y2=\"156.9727\"/></a><!--MD5=[c34a5209b7f4480436c515cb9283b7f3]\n",
       "@startuml\r\n",
       " \r\n",
       "comp def \"DecisionTest\" as E1  <<(D,brown)action def>> [[psysml:b2f18a0c-e7e8-4f9b-8be8-69c1ee721482 ]] {\r\n",
       "x\r\n",
       "- - actions - -\r\n",
       "A1\r\n",
       "A2\r\n",
       "A3\r\n",
       "- - decisionNodes - -\r\n",
       "test x\r\n",
       "- - transitions - -\r\n",
       "S\r\n",
       "}\r\n",
       "@enduml\r\n",
       "\n",
       "PlantUML version 1.2020.13(Sat Jun 13 12:26:38 UTC 2020)\n",
       "(EPL source distribution)\n",
       "Java Runtime: OpenJDK Runtime Environment\n",
       "JVM: OpenJDK 64-Bit Server VM\n",
       "Default Encoding: UTF-8\n",
       "Language: en\n",
       "Country: null\n",
       "--></g></svg>"
      ]
     },
     "execution_count": 31,
     "metadata": {},
     "output_type": "execute_result"
    }
   ],
   "source": [
    "%viz --style=\"PLANTUML\" --view=\"Tree\" \"DecisionTest\""
   ]
  },
  {
   "cell_type": "code",
   "execution_count": 32,
   "id": "official-thousand",
   "metadata": {
    "execution": {
     "iopub.execute_input": "2021-03-25T15:07:22.208872Z",
     "iopub.status.busy": "2021-03-25T15:07:22.208436Z",
     "iopub.status.idle": "2021-03-25T15:07:23.078339Z",
     "shell.execute_reply": "2021-03-25T15:07:23.079211Z"
    }
   },
   "outputs": [
    {
     "data": {
      "image/svg+xml": [
       "<?xml version=\"1.0\" encoding=\"UTF-8\" standalone=\"no\"?><svg xmlns=\"http://www.w3.org/2000/svg\" xmlns:xlink=\"http://www.w3.org/1999/xlink\" contentScriptType=\"application/ecmascript\" contentStyleType=\"text/css\" height=\"303px\" preserveAspectRatio=\"none\" style=\"width:603px;height:303px;background:#000000;\" version=\"1.1\" viewBox=\"0 0 603 303\" width=\"603px\" zoomAndPan=\"magnify\"><defs/><g><rect fill=\"#162312\" height=\"1\" style=\"stroke: #162312; stroke-width: 1.0;\" width=\"1\" x=\"0\" y=\"0\"/><rect fill=\"#FFFFFF\" height=\"205.5625\" style=\"stroke: #FFFFFF; stroke-width: 1.0;\" width=\"602\" x=\"0\" y=\"0\"/><text fill=\"#000000\" font-family=\"sans-serif\" font-size=\"12\" font-weight=\"bold\" lengthAdjust=\"spacingAndGlyphs\" textLength=\"159\" x=\"5\" y=\"16.1387\">Welcome to PlantUML!</text><text fill=\"#000000\" font-family=\"sans-serif\" font-size=\"12\" lengthAdjust=\"spacingAndGlyphs\" textLength=\"0\" x=\"9\" y=\"30.1074\"/><text fill=\"#000000\" font-family=\"sans-serif\" font-size=\"12\" lengthAdjust=\"spacingAndGlyphs\" textLength=\"293\" x=\"5\" y=\"44.0762\">If you use this software, you accept its license.</text><text fill=\"#000000\" font-family=\"sans-serif\" font-size=\"12\" lengthAdjust=\"spacingAndGlyphs\" textLength=\"107\" x=\"5\" y=\"58.0449\">(details by typing</text><text fill=\"#000000\" font-family=\"monospace\" font-size=\"12\" lengthAdjust=\"spacingAndGlyphs\" textLength=\"49\" x=\"116\" y=\"58.0449\">license</text><text fill=\"#000000\" font-family=\"sans-serif\" font-size=\"12\" lengthAdjust=\"spacingAndGlyphs\" textLength=\"56\" x=\"169\" y=\"58.0449\">keyword)</text><text fill=\"#000000\" font-family=\"sans-serif\" font-size=\"12\" lengthAdjust=\"spacingAndGlyphs\" textLength=\"0\" x=\"9\" y=\"72.0137\"/><text fill=\"#000000\" font-family=\"sans-serif\" font-size=\"12\" lengthAdjust=\"spacingAndGlyphs\" textLength=\"283\" x=\"5\" y=\"85.9824\">You can start with a simple UML Diagram like:</text><text fill=\"#000000\" font-family=\"sans-serif\" font-size=\"12\" lengthAdjust=\"spacingAndGlyphs\" textLength=\"0\" x=\"9\" y=\"99.9512\"/><text fill=\"#000000\" font-family=\"monospace\" font-size=\"12\" lengthAdjust=\"spacingAndGlyphs\" textLength=\"119\" x=\"5\" y=\"113.9199\">Bob-&gt;Alice: Hello</text><text fill=\"#000000\" font-family=\"sans-serif\" font-size=\"12\" lengthAdjust=\"spacingAndGlyphs\" textLength=\"0\" x=\"9\" y=\"127.8887\"/><text fill=\"#000000\" font-family=\"sans-serif\" font-size=\"12\" lengthAdjust=\"spacingAndGlyphs\" textLength=\"14\" x=\"5\" y=\"141.8574\">Or</text><text fill=\"#000000\" font-family=\"sans-serif\" font-size=\"12\" lengthAdjust=\"spacingAndGlyphs\" textLength=\"0\" x=\"9\" y=\"155.8262\"/><text fill=\"#000000\" font-family=\"monospace\" font-size=\"12\" lengthAdjust=\"spacingAndGlyphs\" textLength=\"91\" x=\"5\" y=\"169.7949\">class Example</text><text fill=\"#000000\" font-family=\"sans-serif\" font-size=\"12\" lengthAdjust=\"spacingAndGlyphs\" textLength=\"0\" x=\"9\" y=\"183.7637\"/><text fill=\"#000000\" font-family=\"sans-serif\" font-size=\"12\" lengthAdjust=\"spacingAndGlyphs\" textLength=\"349\" x=\"5\" y=\"197.7324\">You will find more information about PlantUML syntax on</text><text fill=\"#000000\" font-family=\"sans-serif\" font-size=\"12\" lengthAdjust=\"spacingAndGlyphs\" text-decoration=\"underline\" textLength=\"129\" x=\"358\" y=\"197.7324\">https://plantuml.com</text><image height=\"71\" width=\"80\" x=\"516\" xlink:href=\"data:image/png;base64,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\" y=\"6\"/><rect fill=\"#000000\" height=\"96.4844\" style=\"stroke: #000000; stroke-width: 1.0;\" width=\"602\" x=\"0\" y=\"205.5625\"/><rect fill=\"#33FF02\" height=\"21.2969\" style=\"stroke: #33FF02; stroke-width: 1.0;\" width=\"170\" x=\"5\" y=\"210.5625\"/><text fill=\"#000000\" font-family=\"sans-serif\" font-size=\"14\" font-weight=\"bold\" lengthAdjust=\"spacingAndGlyphs\" textLength=\"168\" x=\"6\" y=\"225.5625\">[From string (line 2) ]</text><text fill=\"#33FF02\" font-family=\"sans-serif\" font-size=\"14\" font-weight=\"bold\" lengthAdjust=\"spacingAndGlyphs\" textLength=\"0\" x=\"10\" y=\"245.8594\"/><text fill=\"#33FF02\" font-family=\"sans-serif\" font-size=\"14\" font-weight=\"bold\" lengthAdjust=\"spacingAndGlyphs\" textLength=\"79\" x=\"5\" y=\"262.1563\">@startuml</text><text fill=\"#33FF02\" font-family=\"sans-serif\" font-size=\"14\" font-weight=\"bold\" lengthAdjust=\"spacingAndGlyphs\" textLength=\"0\" x=\"10\" y=\"278.4531\"/><text fill=\"#FF0000\" font-family=\"sans-serif\" font-size=\"14\" font-weight=\"bold\" lengthAdjust=\"spacingAndGlyphs\" textLength=\"142\" x=\"10\" y=\"294.75\">Empty description</text><!--MD5=[f59edd8218d337f74d0c332fc6737304]\n",
       "@startuml\r\n",
       " \r\n",
       "@enduml\r\n",
       "\n",
       "PlantUML version 1.2020.13(Sat Jun 13 12:26:38 UTC 2020)\n",
       "(EPL source distribution)\n",
       "Java Runtime: OpenJDK Runtime Environment\n",
       "JVM: OpenJDK 64-Bit Server VM\n",
       "Default Encoding: UTF-8\n",
       "Language: en\n",
       "Country: null\n",
       "--></g></svg>"
      ]
     },
     "execution_count": 32,
     "metadata": {},
     "output_type": "execute_result"
    }
   ],
   "source": [
    "%viz --style=\"PLANTUML\" --view=\"State\" \"DecisionTest\""
   ]
  },
  {
   "cell_type": "code",
   "execution_count": 33,
   "id": "robust-sunrise",
   "metadata": {
    "execution": {
     "iopub.execute_input": "2021-03-25T15:07:23.129636Z",
     "iopub.status.busy": "2021-03-25T15:07:23.129145Z",
     "iopub.status.idle": "2021-03-25T15:07:23.163295Z",
     "shell.execute_reply": "2021-03-25T15:07:23.162953Z"
    }
   },
   "outputs": [
    {
     "data": {
      "image/svg+xml": [
       "<?xml version=\"1.0\" encoding=\"UTF-8\" standalone=\"no\"?><svg xmlns=\"http://www.w3.org/2000/svg\" xmlns:xlink=\"http://www.w3.org/1999/xlink\" contentScriptType=\"application/ecmascript\" contentStyleType=\"text/css\" height=\"79px\" preserveAspectRatio=\"none\" style=\"width:192px;height:79px;\" version=\"1.1\" viewBox=\"0 0 192 79\" width=\"192px\" zoomAndPan=\"magnify\"><defs><filter height=\"300%\" id=\"fohcve7y30y5y\" width=\"300%\" x=\"-1\" y=\"-1\"><feGaussianBlur result=\"blurOut\" stdDeviation=\"2.0\"/><feColorMatrix in=\"blurOut\" result=\"blurOut2\" type=\"matrix\" values=\"0 0 0 0 0 0 0 0 0 0 0 0 0 0 0 0 0 0 .4 0\"/><feOffset dx=\"4.0\" dy=\"4.0\" in=\"blurOut2\" result=\"blurOut3\"/><feBlend in=\"SourceGraphic\" in2=\"blurOut3\" mode=\"normal\"/></filter></defs><g><!--MD5=[43c9051892ef23e1a46a86907403d788]\n",
       "class E1--><a href=\"psysml:b2f18a0c-e7e8-4f9b-8be8-69c1ee721482\" target=\"_top\" title=\"psysml:b2f18a0c-e7e8-4f9b-8be8-69c1ee721482\" xlink:actuate=\"onRequest\" xlink:href=\"psysml:b2f18a0c-e7e8-4f9b-8be8-69c1ee721482\" xlink:show=\"new\" xlink:title=\"psysml:b2f18a0c-e7e8-4f9b-8be8-69c1ee721482\" xlink:type=\"simple\"><rect fill=\"#FEFECE\" filter=\"url(#fohcve7y30y5y)\" height=\"53.9375\" id=\"E1\" style=\"stroke: #A80036; stroke-width: 1.5;\" width=\"166\" x=\"7\" y=\"7\"/><ellipse cx=\"22\" cy=\"25.9688\" fill=\"#ADD1B2\" rx=\"11\" ry=\"11\" style=\"stroke: #A80036; stroke-width: 1.0;\"/><path d=\"M24.9688,31.6094 Q24.3906,31.9063 23.75,32.0469 Q23.1094,32.2031 22.4063,32.2031 Q19.9063,32.2031 18.5781,30.5625 Q17.2656,28.9063 17.2656,25.7813 Q17.2656,22.6563 18.5781,21 Q19.9063,19.3438 22.4063,19.3438 Q23.1094,19.3438 23.75,19.5 Q24.4063,19.6563 24.9688,19.9531 L24.9688,22.6719 Q24.3438,22.0938 23.75,21.8281 Q23.1563,21.5469 22.5313,21.5469 Q21.1875,21.5469 20.5,22.625 Q19.8125,23.6875 19.8125,25.7813 Q19.8125,27.875 20.5,28.9531 Q21.1875,30.0156 22.5313,30.0156 Q23.1563,30.0156 23.75,29.75 Q24.3438,29.4688 24.9688,28.8906 L24.9688,31.6094 Z \"/><text fill=\"#000000\" font-family=\"sans-serif\" font-size=\"12\" font-style=\"italic\" lengthAdjust=\"spacingAndGlyphs\" textLength=\"138\" x=\"34\" y=\"23.1387\">«(D,brown)action def»</text><text fill=\"#000000\" font-family=\"sans-serif\" font-size=\"12\" lengthAdjust=\"spacingAndGlyphs\" textLength=\"80\" x=\"63\" y=\"37.1074\">DecisionTest</text><line style=\"stroke: #A80036; stroke-width: 1.5;\" x1=\"8\" x2=\"172\" y1=\"44.9375\" y2=\"44.9375\"/><line style=\"stroke: #A80036; stroke-width: 1.5;\" x1=\"8\" x2=\"172\" y1=\"52.9375\" y2=\"52.9375\"/></a><!--MD5=[34dc06662dae9e23559b85b4aea94977]\n",
       "@startuml\r\n",
       "skinparam ranksep 8\r\n",
       "skinparam rectangle {\r\n",
       " backgroundColor<<block>> LightGreen\r\n",
       "}\r\n",
       " \r\n",
       "def \"DecisionTest\" as E1  <<(D,brown)action def>> [[psysml:b2f18a0c-e7e8-4f9b-8be8-69c1ee721482 ]] \r\n",
       "@enduml\r\n",
       "\n",
       "PlantUML version 1.2020.13(Sat Jun 13 12:26:38 UTC 2020)\n",
       "(EPL source distribution)\n",
       "Java Runtime: OpenJDK Runtime Environment\n",
       "JVM: OpenJDK 64-Bit Server VM\n",
       "Default Encoding: UTF-8\n",
       "Language: en\n",
       "Country: null\n",
       "--></g></svg>"
      ]
     },
     "execution_count": 33,
     "metadata": {},
     "output_type": "execute_result"
    }
   ],
   "source": [
    "%viz --style=\"PLANTUML\" --view=\"Interconnection\" \"DecisionTest\""
   ]
  },
  {
   "cell_type": "code",
   "execution_count": 34,
   "id": "progressive-activation",
   "metadata": {
    "execution": {
     "iopub.execute_input": "2021-03-25T15:07:23.215859Z",
     "iopub.status.busy": "2021-03-25T15:07:23.214923Z",
     "iopub.status.idle": "2021-03-25T15:07:23.235467Z",
     "shell.execute_reply": "2021-03-25T15:07:23.235844Z"
    }
   },
   "outputs": [
    {
     "data": {
      "image/svg+xml": [
       "<?xml version=\"1.0\" encoding=\"UTF-8\" standalone=\"no\"?><svg xmlns=\"http://www.w3.org/2000/svg\" xmlns:xlink=\"http://www.w3.org/1999/xlink\" contentScriptType=\"application/ecmascript\" contentStyleType=\"text/css\" height=\"206px\" preserveAspectRatio=\"none\" style=\"width:891px;height:206px;background:#000000;\" version=\"1.1\" viewBox=\"0 0 891 206\" width=\"891px\" zoomAndPan=\"magnify\"><defs/><g><rect fill=\"#1B0521\" height=\"1\" style=\"stroke: #1B0521; stroke-width: 1.0;\" width=\"1\" x=\"0\" y=\"0\"/><rect fill=\"#33FF02\" height=\"21.2969\" style=\"stroke: #33FF02; stroke-width: 1.0;\" width=\"884\" x=\"5\" y=\"5\"/><text fill=\"#000000\" font-family=\"sans-serif\" font-size=\"14\" font-weight=\"bold\" lengthAdjust=\"spacingAndGlyphs\" textLength=\"168\" x=\"6\" y=\"20\">[From string (line 9) ]</text><text fill=\"#33FF02\" font-family=\"sans-serif\" font-size=\"14\" font-weight=\"bold\" lengthAdjust=\"spacingAndGlyphs\" textLength=\"0\" x=\"10\" y=\"40.2969\"/><text fill=\"#33FF02\" font-family=\"sans-serif\" font-size=\"14\" font-weight=\"bold\" lengthAdjust=\"spacingAndGlyphs\" textLength=\"79\" x=\"5\" y=\"56.5938\">@startuml</text><text fill=\"#33FF02\" font-family=\"sans-serif\" font-size=\"14\" font-weight=\"bold\" lengthAdjust=\"spacingAndGlyphs\" textLength=\"165\" x=\"5\" y=\"72.8906\">skinparam ranksep 8</text><text fill=\"#33FF02\" font-family=\"sans-serif\" font-size=\"14\" font-weight=\"bold\" lengthAdjust=\"spacingAndGlyphs\" textLength=\"0\" x=\"10\" y=\"89.1875\"/><text fill=\"#33FF02\" font-family=\"sans-serif\" font-size=\"14\" font-weight=\"bold\" lengthAdjust=\"spacingAndGlyphs\" textLength=\"884\" x=\"5\" y=\"105.4844\">rec def \"DecisionTest\" as E1  &lt;&lt;(D,brown)action def&gt;&gt; [[psysml:b2f18a0c-e7e8-4f9b-8be8-69c1ee721482 ]] {</text><text fill=\"#33FF02\" font-family=\"sans-serif\" font-size=\"14\" font-weight=\"bold\" lengthAdjust=\"spacingAndGlyphs\" textLength=\"619\" x=\"5\" y=\"121.7813\">portout \"$result\" as E2  [[psysml:48b93896-3893-47bc-bfb4-82205587ec17 ]]</text><text fill=\"#33FF02\" font-family=\"sans-serif\" font-size=\"14\" font-weight=\"bold\" lengthAdjust=\"spacingAndGlyphs\" textLength=\"882\" x=\"5\" y=\"138.0781\">rec usage \"test x\" as E3  &lt;&lt;(U,orange)decisionNode&gt;&gt; [[psysml:e5d2d3ea-f48f-4426-8e8b-470a03ae9129 ]] {</text><text fill=\"#33FF02\" font-family=\"sans-serif\" font-size=\"14\" font-weight=\"bold\" lengthAdjust=\"spacingAndGlyphs\" textLength=\"10\" x=\"5\" y=\"154.375\">}</text><text fill=\"#33FF02\" font-family=\"sans-serif\" font-size=\"14\" font-weight=\"bold\" lengthAdjust=\"spacingAndGlyphs\" textLength=\"0\" x=\"10\" y=\"170.6719\"/><text fill=\"#33FF02\" font-family=\"sans-serif\" font-size=\"14\" font-weight=\"bold\" lengthAdjust=\"spacingAndGlyphs\" textLength=\"10\" x=\"5\" y=\"186.9688\">{</text><text fill=\"#FF0000\" font-family=\"sans-serif\" font-size=\"14\" font-weight=\"bold\" lengthAdjust=\"spacingAndGlyphs\" textLength=\"106\" x=\"10\" y=\"203.2656\">Syntax Error?</text><!--MD5=[1bc71b19a13d339541940b66d62f6fcc]\n",
       "@startuml\r\n",
       "skinparam ranksep 8\r\n",
       " \r\n",
       "rec def \"DecisionTest\" as E1  <<(D,brown)action def>> [[psysml:b2f18a0c-e7e8-4f9b-8be8-69c1ee721482 ]] {\r\n",
       "portout \"$result\" as E2  [[psysml:48b93896-3893-47bc-bfb4-82205587ec17 ]] \r\n",
       "rec usage \"test x\" as E3  <<(U,orange)decisionNode>> [[psysml:e5d2d3ea-f48f-4426-8e8b-470a03ae9129 ]] {\r\n",
       "}\r\n",
       "\r\n",
       "{\r\n",
       "portout \"$result\" as E4  [[psysml:4b8ded41-753f-4321-9638-6238d10e7c80 ]] \r\n",
       "portin \"$x\" as E5  [[psysml:a7b14f91-b01b-46a8-a467-34455cb469c8 ]] \r\n",
       "portin \"$y\" as E6  [[psysml:5152b66c-9655-4578-b3e0-a1abffd52221 ]] \r\n",
       "portout \"$result\" as E7  [[psysml:4920d9f2-11b6-40e8-8f3b-51b5a6d86cfe ]] \r\n",
       "}\r\n",
       "\r\n",
       "{\r\n",
       "portout \"$result\" as E8  [[psysml:299014ef-2d5d-4d16-b133-5999efd30129 ]] \r\n",
       "portin \"$x\" as E9  [[psysml:06a6ed26-9ce9-4d08-906d-b2050b8e915c ]] \r\n",
       "portin \"$y\" as E10  [[psysml:5469b116-bf46-4216-bf8a-03dc856fdd9f ]] \r\n",
       "portout \"$result\" as E11  [[psysml:71834102-980a-4495-ab1e-6e2e09d248cc ]] \r\n",
       "}\r\n",
       "\r\n",
       "{\r\n",
       "}\r\n",
       "\r\n",
       "{\r\n",
       "}\r\n",
       "\r\n",
       "{\r\n",
       "portout \"$result\" as E12  [[psysml:f7c1e883-5939-48d9-8b79-1dd5526a379a ]] \r\n",
       "}\r\n",
       "\r\n",
       "{\r\n",
       "portout \"$result\" as E13  [[psysml:c31efe23-02f2-4c3d-bb99-9ef28e999a1c ]] \r\n",
       "}\r\n",
       "\r\n",
       "rec usage \"A1\" as E14  <<(U,orange)action>> [[psysml:83c05d54-f6d6-494a-833f-554dd37c4623 ]] {\r\n",
       "}\r\n",
       "\r\n",
       "rec usage \"A2\" as E15  <<(U,orange)action>> [[psysml:7dcb7014-cff9-44fa-9aa1-11f878021657 ]] {\r\n",
       "}\r\n",
       "\r\n",
       "rec usage \"A3\" as E16  <<(U,orange)action>> [[psysml:685b0fa1-42be-43fa-8250-fe6c84a18423 ]] {\r\n",
       "}\r\n",
       "\r\n",
       "rec usage \"S\" as E17  <<(U,orange)transition>> [[psysml:94783800-53cc-4e6d-883a-cc9d9c3ccfae ]] {\r\n",
       "rec usage \"A1\" as E18  <<(U,orange)action>> [[psysml:83c05d54-f6d6-494a-833f-554dd37c4623 ]] {\r\n",
       "}\r\n",
       "\r\n",
       "portout \"$result\" as E19  [[psysml:59943b31-a3c9-4e0b-a1a5-a807d88f74d6 ]] \r\n",
       "portin \"$x\" as E20  [[psysml:f56aed3e-0abf-415b-8307-7ce602886a4e ]] \r\n",
       "portin \"$y\" as E21  [[psysml:4a073027-8566-43d2-b22e-daad3da22329 ]] \r\n",
       "portout \"$result\" as E22  [[psysml:a62ac8b0-eaf6-4adc-9f14-e1e54df6c395 ]] \r\n",
       "}\r\n",
       "\r\n",
       "rec usage \"A3\" as E23  <<(U,orange)action>> [[psysml:685b0fa1-42be-43fa-8250-fe6c84a18423 ]] {\r\n",
       "}\r\n",
       "\r\n",
       "{\r\n",
       "portout \"$result\" as E24  [[psysml:98937697-67bb-45ee-8fed-5abb392c3fdb ]] \r\n",
       "portin \"$x\" as E25  [[psysml:a977dc00-242a-40b3-b9da-606e563c8c3f ]] \r\n",
       "portin \"$y\" as E26  [[psysml:ab4e429e-9a1f-45c8-b892-c2c8dcefbe2f ]] \r\n",
       "portout \"$result\" as E27  [[psysml:2734cb04-9b51-40b2-9042-069cd5d9688c ]] \r\n",
       "}\r\n",
       "\r\n",
       "}\r\n",
       "\r\n",
       "E6 -[thickness=5,#red]- E4 [[psysml:60a3d248-455c-4b27-8c43-fdde339bf8bd ]] \r\n",
       "E10 -[thickness=5,#red]- E8 [[psysml:985ddca8-3639-4ad8-9c42-b0c44e866ff3 ]] \r\n",
       "E21 -[thickness=5,#red]- E19 [[psysml:246fdd7b-2672-46ea-b421-02bbe449818a ]] \r\n",
       "E26 -[thickness=5,#red]- E24 [[psysml:b7d97414-dcb8-4731-9734-ffccd7d52e37 ]] \r\n",
       "@enduml\r\n",
       "\n",
       "PlantUML version 1.2020.13(Sat Jun 13 12:26:38 UTC 2020)\n",
       "(EPL source distribution)\n",
       "Java Runtime: OpenJDK Runtime Environment\n",
       "JVM: OpenJDK 64-Bit Server VM\n",
       "Default Encoding: UTF-8\n",
       "Language: en\n",
       "Country: null\n",
       "--></g></svg>"
      ]
     },
     "execution_count": 34,
     "metadata": {},
     "output_type": "execute_result"
    }
   ],
   "source": [
    "%viz --style=\"PLANTUML\" --view=\"Action\" \"DecisionTest\""
   ]
  },
  {
   "cell_type": "code",
   "execution_count": 35,
   "id": "assumed-beijing",
   "metadata": {
    "execution": {
     "iopub.execute_input": "2021-03-25T15:07:23.287360Z",
     "iopub.status.busy": "2021-03-25T15:07:23.286522Z",
     "iopub.status.idle": "2021-03-25T15:07:23.579830Z",
     "shell.execute_reply": "2021-03-25T15:07:23.580218Z"
    }
   },
   "outputs": [
    {
     "data": {
      "image/svg+xml": [
       "<?xml version=\"1.0\" encoding=\"UTF-8\" standalone=\"no\"?><svg xmlns=\"http://www.w3.org/2000/svg\" xmlns:xlink=\"http://www.w3.org/1999/xlink\" contentScriptType=\"application/ecmascript\" contentStyleType=\"text/css\" height=\"199px\" preserveAspectRatio=\"none\" style=\"width:138px;height:199px;\" version=\"1.1\" viewBox=\"0 0 138 199\" width=\"138px\" zoomAndPan=\"magnify\"><defs><filter height=\"300%\" id=\"f15ri51z1pq3j\" width=\"300%\" x=\"-1\" y=\"-1\"><feGaussianBlur result=\"blurOut\" stdDeviation=\"2.0\"/><feColorMatrix in=\"blurOut\" result=\"blurOut2\" type=\"matrix\" values=\"0 0 0 0 0 0 0 0 0 0 0 0 0 0 0 0 0 0 .4 0\"/><feOffset dx=\"4.0\" dy=\"4.0\" in=\"blurOut2\" result=\"blurOut3\"/><feBlend in=\"SourceGraphic\" in2=\"blurOut3\" mode=\"normal\"/></filter></defs><g><!--MD5=[43c9051892ef23e1a46a86907403d788]\n",
       "class E1--><a href=\"psysml:b2f18a0c-e7e8-4f9b-8be8-69c1ee721482\" target=\"_top\" title=\"psysml:b2f18a0c-e7e8-4f9b-8be8-69c1ee721482\" xlink:actuate=\"onRequest\" xlink:href=\"psysml:b2f18a0c-e7e8-4f9b-8be8-69c1ee721482\" xlink:show=\"new\" xlink:title=\"psysml:b2f18a0c-e7e8-4f9b-8be8-69c1ee721482\" xlink:type=\"simple\"><rect fill=\"#FEFECE\" filter=\"url(#f15ri51z1pq3j)\" height=\"173.1797\" id=\"E1\" style=\"stroke: #A80036; stroke-width: 1.5;\" width=\"112\" x=\"7\" y=\"7\"/><ellipse cx=\"22\" cy=\"25.9688\" fill=\"#A52A2A\" rx=\"11\" ry=\"11\" style=\"stroke: #A80036; stroke-width: 1.0;\"/><path d=\"M21.5938,21.7813 L21.5938,29.7656 L22.25,29.7656 Q23.6875,29.7656 24.2969,28.8594 Q24.9219,27.9375 24.9219,25.7656 Q24.9219,23.5938 24.2969,22.6875 Q23.6875,21.7813 22.25,21.7813 L21.5938,21.7813 Z M19.1406,19.5781 L21.7656,19.5781 Q24.7969,19.5781 26.125,21.0313 Q27.4688,22.4688 27.4688,25.7656 Q27.4688,29.0625 26.125,30.5156 Q24.7969,31.9688 21.7656,31.9688 L19.1406,31.9688 L19.1406,19.5781 Z \"/><text fill=\"#000000\" font-family=\"sans-serif\" font-size=\"12\" font-style=\"italic\" lengthAdjust=\"spacingAndGlyphs\" textLength=\"77\" x=\"37.5\" y=\"23.1387\">«action def»</text><text fill=\"#000000\" font-family=\"sans-serif\" font-size=\"12\" lengthAdjust=\"spacingAndGlyphs\" textLength=\"80\" x=\"36\" y=\"37.1074\">DecisionTest</text><line style=\"stroke: #A80036; stroke-width: 1.5;\" x1=\"8\" x2=\"118\" y1=\"44.9375\" y2=\"44.9375\"/><text fill=\"#000000\" font-family=\"sans-serif\" font-size=\"11\" lengthAdjust=\"spacingAndGlyphs\" textLength=\"6\" x=\"13\" y=\"59.1479\">x</text><text fill=\"#000000\" font-family=\"sans-serif\" font-size=\"11\" lengthAdjust=\"spacingAndGlyphs\" textLength=\"14\" x=\"13\" y=\"88.7573\">A1</text><text fill=\"#000000\" font-family=\"sans-serif\" font-size=\"11\" lengthAdjust=\"spacingAndGlyphs\" textLength=\"14\" x=\"13\" y=\"101.562\">A2</text><text fill=\"#000000\" font-family=\"sans-serif\" font-size=\"11\" lengthAdjust=\"spacingAndGlyphs\" textLength=\"14\" x=\"13\" y=\"114.3667\">A3</text><line style=\"stroke: #A80036; stroke-width: 1.0;\" x1=\"8\" x2=\"42.5\" y1=\"72.1445\" y2=\"72.1445\"/><text fill=\"#000000\" font-family=\"sans-serif\" font-size=\"11\" lengthAdjust=\"spacingAndGlyphs\" textLength=\"41\" x=\"42.5\" y=\"75.4526\">actions</text><line style=\"stroke: #A80036; stroke-width: 1.0;\" x1=\"83.5\" x2=\"118\" y1=\"72.1445\" y2=\"72.1445\"/><text fill=\"#000000\" font-family=\"sans-serif\" font-size=\"11\" lengthAdjust=\"spacingAndGlyphs\" textLength=\"32\" x=\"13\" y=\"143.9761\">test x</text><line style=\"stroke: #A80036; stroke-width: 1.0;\" x1=\"8\" x2=\"21.5\" y1=\"127.3633\" y2=\"127.3633\"/><text fill=\"#000000\" font-family=\"sans-serif\" font-size=\"11\" lengthAdjust=\"spacingAndGlyphs\" textLength=\"83\" x=\"21.5\" y=\"130.6714\">decisionNodes</text><line style=\"stroke: #A80036; stroke-width: 1.0;\" x1=\"104.5\" x2=\"118\" y1=\"127.3633\" y2=\"127.3633\"/><text fill=\"#000000\" font-family=\"sans-serif\" font-size=\"11\" lengthAdjust=\"spacingAndGlyphs\" textLength=\"8\" x=\"13\" y=\"173.5854\">S</text><line style=\"stroke: #A80036; stroke-width: 1.0;\" x1=\"8\" x2=\"32.5\" y1=\"156.9727\" y2=\"156.9727\"/><text fill=\"#000000\" font-family=\"sans-serif\" font-size=\"11\" lengthAdjust=\"spacingAndGlyphs\" textLength=\"61\" x=\"32.5\" y=\"160.2808\">transitions</text><line style=\"stroke: #A80036; stroke-width: 1.0;\" x1=\"93.5\" x2=\"118\" y1=\"156.9727\" y2=\"156.9727\"/></a><!--MD5=[c34a5209b7f4480436c515cb9283b7f3]\n",
       "@startuml\r\n",
       " \r\n",
       "comp def \"DecisionTest\" as E1  <<(D,brown)action def>> [[psysml:b2f18a0c-e7e8-4f9b-8be8-69c1ee721482 ]] {\r\n",
       "x\r\n",
       "- - actions - -\r\n",
       "A1\r\n",
       "A2\r\n",
       "A3\r\n",
       "- - decisionNodes - -\r\n",
       "test x\r\n",
       "- - transitions - -\r\n",
       "S\r\n",
       "}\r\n",
       "@enduml\r\n",
       "\n",
       "PlantUML version 1.2020.13(Sat Jun 13 12:26:38 UTC 2020)\n",
       "(EPL source distribution)\n",
       "Java Runtime: OpenJDK Runtime Environment\n",
       "JVM: OpenJDK 64-Bit Server VM\n",
       "Default Encoding: UTF-8\n",
       "Language: en\n",
       "Country: null\n",
       "--></g></svg>"
      ]
     },
     "execution_count": 35,
     "metadata": {},
     "output_type": "execute_result"
    }
   ],
   "source": [
    "%viz --style=\"PLANTUML\" --view=\"Sequence\" \"DecisionTest\""
   ]
  },
  {
   "cell_type": "code",
   "execution_count": 36,
   "id": "fewer-collar",
   "metadata": {
    "execution": {
     "iopub.execute_input": "2021-03-25T15:07:23.631425Z",
     "iopub.status.busy": "2021-03-25T15:07:23.630769Z",
     "iopub.status.idle": "2021-03-25T15:07:23.662062Z",
     "shell.execute_reply": "2021-03-25T15:07:23.661691Z"
    }
   },
   "outputs": [
    {
     "data": {
      "image/svg+xml": [
       "<?xml version=\"1.0\" encoding=\"UTF-8\" standalone=\"no\"?><svg xmlns=\"http://www.w3.org/2000/svg\" xmlns:xlink=\"http://www.w3.org/1999/xlink\" contentScriptType=\"application/ecmascript\" contentStyleType=\"text/css\" height=\"190px\" preserveAspectRatio=\"none\" style=\"width:891px;height:190px;background:#000000;\" version=\"1.1\" viewBox=\"0 0 891 190\" width=\"891px\" zoomAndPan=\"magnify\"><defs/><g><rect fill=\"#120D14\" height=\"1\" style=\"stroke: #120D14; stroke-width: 1.0;\" width=\"1\" x=\"0\" y=\"0\"/><rect fill=\"#33FF02\" height=\"21.2969\" style=\"stroke: #33FF02; stroke-width: 1.0;\" width=\"884\" x=\"5\" y=\"5\"/><text fill=\"#000000\" font-family=\"sans-serif\" font-size=\"14\" font-weight=\"bold\" lengthAdjust=\"spacingAndGlyphs\" textLength=\"168\" x=\"6\" y=\"20\">[From string (line 8) ]</text><text fill=\"#33FF02\" font-family=\"sans-serif\" font-size=\"14\" font-weight=\"bold\" lengthAdjust=\"spacingAndGlyphs\" textLength=\"0\" x=\"10\" y=\"40.2969\"/><text fill=\"#33FF02\" font-family=\"sans-serif\" font-size=\"14\" font-weight=\"bold\" lengthAdjust=\"spacingAndGlyphs\" textLength=\"79\" x=\"5\" y=\"56.5938\">@startuml</text><text fill=\"#33FF02\" font-family=\"sans-serif\" font-size=\"14\" font-weight=\"bold\" lengthAdjust=\"spacingAndGlyphs\" textLength=\"0\" x=\"10\" y=\"72.8906\"/><text fill=\"#33FF02\" font-family=\"sans-serif\" font-size=\"14\" font-weight=\"bold\" lengthAdjust=\"spacingAndGlyphs\" textLength=\"884\" x=\"5\" y=\"89.1875\">rec def \"DecisionTest\" as E1  &lt;&lt;(D,brown)action def&gt;&gt; [[psysml:b2f18a0c-e7e8-4f9b-8be8-69c1ee721482 ]] {</text><text fill=\"#33FF02\" font-family=\"sans-serif\" font-size=\"14\" font-weight=\"bold\" lengthAdjust=\"spacingAndGlyphs\" textLength=\"619\" x=\"5\" y=\"105.4844\">portout \"$result\" as E2  [[psysml:48b93896-3893-47bc-bfb4-82205587ec17 ]]</text><text fill=\"#33FF02\" font-family=\"sans-serif\" font-size=\"14\" font-weight=\"bold\" lengthAdjust=\"spacingAndGlyphs\" textLength=\"882\" x=\"5\" y=\"121.7813\">rec usage \"test x\" as E3  &lt;&lt;(U,orange)decisionNode&gt;&gt; [[psysml:e5d2d3ea-f48f-4426-8e8b-470a03ae9129 ]] {</text><text fill=\"#33FF02\" font-family=\"sans-serif\" font-size=\"14\" font-weight=\"bold\" lengthAdjust=\"spacingAndGlyphs\" textLength=\"10\" x=\"5\" y=\"138.0781\">}</text><text fill=\"#33FF02\" font-family=\"sans-serif\" font-size=\"14\" font-weight=\"bold\" lengthAdjust=\"spacingAndGlyphs\" textLength=\"0\" x=\"10\" y=\"154.375\"/><text fill=\"#33FF02\" font-family=\"sans-serif\" font-size=\"14\" font-weight=\"bold\" lengthAdjust=\"spacingAndGlyphs\" textLength=\"10\" x=\"5\" y=\"170.6719\">{</text><text fill=\"#FF0000\" font-family=\"sans-serif\" font-size=\"14\" font-weight=\"bold\" lengthAdjust=\"spacingAndGlyphs\" textLength=\"106\" x=\"10\" y=\"186.9688\">Syntax Error?</text><!--MD5=[7b481ad53c7be3f3ef20bfa94490a13a]\n",
       "@startuml\r\n",
       " \r\n",
       "rec def \"DecisionTest\" as E1  <<(D,brown)action def>> [[psysml:b2f18a0c-e7e8-4f9b-8be8-69c1ee721482 ]] {\r\n",
       "portout \"$result\" as E2  [[psysml:48b93896-3893-47bc-bfb4-82205587ec17 ]] \r\n",
       "rec usage \"test x\" as E3  <<(U,orange)decisionNode>> [[psysml:e5d2d3ea-f48f-4426-8e8b-470a03ae9129 ]] {\r\n",
       "}\r\n",
       "\r\n",
       "{\r\n",
       "portout \"$result\" as E4  [[psysml:4b8ded41-753f-4321-9638-6238d10e7c80 ]] \r\n",
       "portin \"$x\" as E5  [[psysml:a7b14f91-b01b-46a8-a467-34455cb469c8 ]] \r\n",
       "portin \"$y\" as E6  [[psysml:5152b66c-9655-4578-b3e0-a1abffd52221 ]] \r\n",
       "portout \"$result\" as E7  [[psysml:4920d9f2-11b6-40e8-8f3b-51b5a6d86cfe ]] \r\n",
       "}\r\n",
       "\r\n",
       "{\r\n",
       "portout \"$result\" as E8  [[psysml:299014ef-2d5d-4d16-b133-5999efd30129 ]] \r\n",
       "portin \"$x\" as E9  [[psysml:06a6ed26-9ce9-4d08-906d-b2050b8e915c ]] \r\n",
       "portin \"$y\" as E10  [[psysml:5469b116-bf46-4216-bf8a-03dc856fdd9f ]] \r\n",
       "portout \"$result\" as E11  [[psysml:71834102-980a-4495-ab1e-6e2e09d248cc ]] \r\n",
       "}\r\n",
       "\r\n",
       "{\r\n",
       "}\r\n",
       "\r\n",
       "{\r\n",
       "}\r\n",
       "\r\n",
       "{\r\n",
       "portout \"$result\" as E12  [[psysml:f7c1e883-5939-48d9-8b79-1dd5526a379a ]] \r\n",
       "}\r\n",
       "\r\n",
       "{\r\n",
       "portout \"$result\" as E13  [[psysml:c31efe23-02f2-4c3d-bb99-9ef28e999a1c ]] \r\n",
       "}\r\n",
       "\r\n",
       "rec usage \"A1\" as E14  <<(U,orange)action>> [[psysml:83c05d54-f6d6-494a-833f-554dd37c4623 ]] {\r\n",
       "}\r\n",
       "\r\n",
       "rec usage \"A2\" as E15  <<(U,orange)action>> [[psysml:7dcb7014-cff9-44fa-9aa1-11f878021657 ]] {\r\n",
       "}\r\n",
       "\r\n",
       "rec usage \"A3\" as E16  <<(U,orange)action>> [[psysml:685b0fa1-42be-43fa-8250-fe6c84a18423 ]] {\r\n",
       "}\r\n",
       "\r\n",
       "rec usage \"S\" as E17  <<(U,orange)transition>> [[psysml:94783800-53cc-4e6d-883a-cc9d9c3ccfae ]] {\r\n",
       "rec usage \"A1\" as E18  <<(U,orange)action>> [[psysml:83c05d54-f6d6-494a-833f-554dd37c4623 ]] {\r\n",
       "}\r\n",
       "\r\n",
       "portout \"$result\" as E19  [[psysml:59943b31-a3c9-4e0b-a1a5-a807d88f74d6 ]] \r\n",
       "portin \"$x\" as E20  [[psysml:f56aed3e-0abf-415b-8307-7ce602886a4e ]] \r\n",
       "portin \"$y\" as E21  [[psysml:4a073027-8566-43d2-b22e-daad3da22329 ]] \r\n",
       "portout \"$result\" as E22  [[psysml:a62ac8b0-eaf6-4adc-9f14-e1e54df6c395 ]] \r\n",
       "}\r\n",
       "\r\n",
       "rec usage \"A3\" as E23  <<(U,orange)action>> [[psysml:685b0fa1-42be-43fa-8250-fe6c84a18423 ]] {\r\n",
       "}\r\n",
       "\r\n",
       "{\r\n",
       "portout \"$result\" as E24  [[psysml:98937697-67bb-45ee-8fed-5abb392c3fdb ]] \r\n",
       "portin \"$x\" as E25  [[psysml:a977dc00-242a-40b3-b9da-606e563c8c3f ]] \r\n",
       "portin \"$y\" as E26  [[psysml:ab4e429e-9a1f-45c8-b892-c2c8dcefbe2f ]] \r\n",
       "portout \"$result\" as E27  [[psysml:2734cb04-9b51-40b2-9042-069cd5d9688c ]] \r\n",
       "}\r\n",
       "\r\n",
       "}\r\n",
       "\r\n",
       "E6 -[thickness=5,#red]- E4 [[psysml:60a3d248-455c-4b27-8c43-fdde339bf8bd ]] \r\n",
       "E10 -[thickness=5,#red]- E8 [[psysml:985ddca8-3639-4ad8-9c42-b0c44e866ff3 ]] \r\n",
       "E21 -[thickness=5,#red]- E19 [[psysml:246fdd7b-2672-46ea-b421-02bbe449818a ]] \r\n",
       "E26 -[thickness=5,#red]- E24 [[psysml:b7d97414-dcb8-4731-9734-ffccd7d52e37 ]] \r\n",
       "@enduml\r\n",
       "\n",
       "PlantUML version 1.2020.13(Sat Jun 13 12:26:38 UTC 2020)\n",
       "(EPL source distribution)\n",
       "Java Runtime: OpenJDK Runtime Environment\n",
       "JVM: OpenJDK 64-Bit Server VM\n",
       "Default Encoding: UTF-8\n",
       "Language: en\n",
       "Country: null\n",
       "--></g></svg>"
      ]
     },
     "execution_count": 36,
     "metadata": {},
     "output_type": "execute_result"
    }
   ],
   "source": [
    "%viz --style=\"PLANTUML\" --view=\"MIXED\" \"DecisionTest\""
   ]
  },
  {
   "cell_type": "code",
   "execution_count": 37,
   "id": "aboriginal-vacation",
   "metadata": {
    "execution": {
     "iopub.execute_input": "2021-03-25T15:07:23.715051Z",
     "iopub.status.busy": "2021-03-25T15:07:23.714403Z",
     "iopub.status.idle": "2021-03-25T15:07:23.745253Z",
     "shell.execute_reply": "2021-03-25T15:07:23.744027Z"
    }
   },
   "outputs": [
    {
     "data": {
      "image/svg+xml": [
       "<?xml version=\"1.0\" encoding=\"UTF-8\" standalone=\"no\"?><svg xmlns=\"http://www.w3.org/2000/svg\" xmlns:xlink=\"http://www.w3.org/1999/xlink\" contentScriptType=\"application/ecmascript\" contentStyleType=\"text/css\" height=\"271px\" preserveAspectRatio=\"none\" style=\"width:873px;height:271px;background:#000000;\" version=\"1.1\" viewBox=\"0 0 873 271\" width=\"873px\" zoomAndPan=\"magnify\"><defs/><g><rect fill=\"#0D0102\" height=\"1\" style=\"stroke: #0D0102; stroke-width: 1.0;\" width=\"1\" x=\"0\" y=\"0\"/><rect fill=\"#33FF02\" height=\"21.2969\" style=\"stroke: #33FF02; stroke-width: 1.0;\" width=\"866\" x=\"5\" y=\"5\"/><text fill=\"#000000\" font-family=\"sans-serif\" font-size=\"14\" font-weight=\"bold\" lengthAdjust=\"spacingAndGlyphs\" textLength=\"178\" x=\"6\" y=\"20\">[From string (line 13) ]</text><text fill=\"#33FF02\" font-family=\"sans-serif\" font-size=\"14\" font-weight=\"bold\" lengthAdjust=\"spacingAndGlyphs\" textLength=\"0\" x=\"10\" y=\"40.2969\"/><text fill=\"#33FF02\" font-family=\"sans-serif\" font-size=\"14\" font-weight=\"bold\" lengthAdjust=\"spacingAndGlyphs\" textLength=\"79\" x=\"5\" y=\"56.5938\">@startuml</text><text fill=\"#33FF02\" font-family=\"sans-serif\" font-size=\"14\" font-weight=\"bold\" lengthAdjust=\"spacingAndGlyphs\" textLength=\"228\" x=\"5\" y=\"72.8906\">skinparam monochrome true</text><text fill=\"#33FF02\" font-family=\"sans-serif\" font-size=\"14\" font-weight=\"bold\" lengthAdjust=\"spacingAndGlyphs\" textLength=\"309\" x=\"5\" y=\"89.1875\">skinparam classbackgroundcolor white</text><text fill=\"#33FF02\" font-family=\"sans-serif\" font-size=\"14\" font-weight=\"bold\" lengthAdjust=\"spacingAndGlyphs\" textLength=\"215\" x=\"5\" y=\"105.4844\">skinparam shadowing false</text><text fill=\"#33FF02\" font-family=\"sans-serif\" font-size=\"14\" font-weight=\"bold\" lengthAdjust=\"spacingAndGlyphs\" textLength=\"206\" x=\"5\" y=\"121.7813\">skinparam wrapWidth 300</text><text fill=\"#33FF02\" font-family=\"sans-serif\" font-size=\"14\" font-weight=\"bold\" lengthAdjust=\"spacingAndGlyphs\" textLength=\"82\" x=\"5\" y=\"138.0781\">hide circle</text><text fill=\"#33FF02\" font-family=\"sans-serif\" font-size=\"14\" font-weight=\"bold\" lengthAdjust=\"spacingAndGlyphs\" textLength=\"0\" x=\"10\" y=\"154.375\"/><text fill=\"#33FF02\" font-family=\"sans-serif\" font-size=\"14\" font-weight=\"bold\" lengthAdjust=\"spacingAndGlyphs\" textLength=\"866\" x=\"5\" y=\"170.6719\">rec def \"DecisionTest\" as E1  &lt;&lt;(T,blue)action def&gt;&gt; [[psysml:b2f18a0c-e7e8-4f9b-8be8-69c1ee721482 ]] {</text><text fill=\"#33FF02\" font-family=\"sans-serif\" font-size=\"14\" font-weight=\"bold\" lengthAdjust=\"spacingAndGlyphs\" textLength=\"619\" x=\"5\" y=\"186.9688\">portout \"$result\" as E2  [[psysml:48b93896-3893-47bc-bfb4-82205587ec17 ]]</text><text fill=\"#33FF02\" font-family=\"sans-serif\" font-size=\"14\" font-weight=\"bold\" lengthAdjust=\"spacingAndGlyphs\" textLength=\"859\" x=\"5\" y=\"203.2656\">rec usage \"test x\" as E3  &lt;&lt;(T,blue)decisionNode&gt;&gt; [[psysml:e5d2d3ea-f48f-4426-8e8b-470a03ae9129 ]] {</text><text fill=\"#33FF02\" font-family=\"sans-serif\" font-size=\"14\" font-weight=\"bold\" lengthAdjust=\"spacingAndGlyphs\" textLength=\"10\" x=\"5\" y=\"219.5625\">}</text><text fill=\"#33FF02\" font-family=\"sans-serif\" font-size=\"14\" font-weight=\"bold\" lengthAdjust=\"spacingAndGlyphs\" textLength=\"0\" x=\"10\" y=\"235.8594\"/><text fill=\"#33FF02\" font-family=\"sans-serif\" font-size=\"14\" font-weight=\"bold\" lengthAdjust=\"spacingAndGlyphs\" textLength=\"10\" x=\"5\" y=\"252.1563\">{</text><text fill=\"#FF0000\" font-family=\"sans-serif\" font-size=\"14\" font-weight=\"bold\" lengthAdjust=\"spacingAndGlyphs\" textLength=\"106\" x=\"10\" y=\"268.4531\">Syntax Error?</text><!--MD5=[34927b1c4bb99c0bba12d3077e31fd3f]\n",
       "@startuml\r\n",
       "skinparam monochrome true\r\n",
       "skinparam classbackgroundcolor white\r\n",
       "skinparam shadowing false\r\n",
       "skinparam wrapWidth 300\r\n",
       "hide circle\r\n",
       "\r\n",
       "rec def \"DecisionTest\" as E1  <<(T,blue)action def>> [[psysml:b2f18a0c-e7e8-4f9b-8be8-69c1ee721482 ]] {\r\n",
       "portout \"$result\" as E2  [[psysml:48b93896-3893-47bc-bfb4-82205587ec17 ]] \r\n",
       "rec usage \"test x\" as E3  <<(T,blue)decisionNode>> [[psysml:e5d2d3ea-f48f-4426-8e8b-470a03ae9129 ]] {\r\n",
       "}\r\n",
       "\r\n",
       "{\r\n",
       "portout \"$result\" as E4  [[psysml:4b8ded41-753f-4321-9638-6238d10e7c80 ]] \r\n",
       "portin \"$x\" as E5  [[psysml:a7b14f91-b01b-46a8-a467-34455cb469c8 ]] \r\n",
       "portin \"$y\" as E6  [[psysml:5152b66c-9655-4578-b3e0-a1abffd52221 ]] \r\n",
       "portout \"$result\" as E7  [[psysml:4920d9f2-11b6-40e8-8f3b-51b5a6d86cfe ]] \r\n",
       "}\r\n",
       "\r\n",
       "{\r\n",
       "portout \"$result\" as E8  [[psysml:299014ef-2d5d-4d16-b133-5999efd30129 ]] \r\n",
       "portin \"$x\" as E9  [[psysml:06a6ed26-9ce9-4d08-906d-b2050b8e915c ]] \r\n",
       "portin \"$y\" as E10  [[psysml:5469b116-bf46-4216-bf8a-03dc856fdd9f ]] \r\n",
       "portout \"$result\" as E11  [[psysml:71834102-980a-4495-ab1e-6e2e09d248cc ]] \r\n",
       "}\r\n",
       "\r\n",
       "{\r\n",
       "}\r\n",
       "\r\n",
       "{\r\n",
       "}\r\n",
       "\r\n",
       "{\r\n",
       "portout \"$result\" as E12  [[psysml:f7c1e883-5939-48d9-8b79-1dd5526a379a ]] \r\n",
       "}\r\n",
       "\r\n",
       "{\r\n",
       "portout \"$result\" as E13  [[psysml:c31efe23-02f2-4c3d-bb99-9ef28e999a1c ]] \r\n",
       "}\r\n",
       "\r\n",
       "rec usage \"A1\" as E14  <<(T,blue)action>> [[psysml:83c05d54-f6d6-494a-833f-554dd37c4623 ]] {\r\n",
       "}\r\n",
       "\r\n",
       "rec usage \"A2\" as E15  <<(T,blue)action>> [[psysml:7dcb7014-cff9-44fa-9aa1-11f878021657 ]] {\r\n",
       "}\r\n",
       "\r\n",
       "rec usage \"A3\" as E16  <<(T,blue)action>> [[psysml:685b0fa1-42be-43fa-8250-fe6c84a18423 ]] {\r\n",
       "}\r\n",
       "\r\n",
       "rec usage \"S\" as E17  <<(T,blue)transition>> [[psysml:94783800-53cc-4e6d-883a-cc9d9c3ccfae ]] {\r\n",
       "rec usage \"A1\" as E18  <<(T,blue)action>> [[psysml:83c05d54-f6d6-494a-833f-554dd37c4623 ]] {\r\n",
       "}\r\n",
       "\r\n",
       "portout \"$result\" as E19  [[psysml:59943b31-a3c9-4e0b-a1a5-a807d88f74d6 ]] \r\n",
       "portin \"$x\" as E20  [[psysml:f56aed3e-0abf-415b-8307-7ce602886a4e ]] \r\n",
       "portin \"$y\" as E21  [[psysml:4a073027-8566-43d2-b22e-daad3da22329 ]] \r\n",
       "portout \"$result\" as E22  [[psysml:a62ac8b0-eaf6-4adc-9f14-e1e54df6c395 ]] \r\n",
       "}\r\n",
       "\r\n",
       "rec usage \"A3\" as E23  <<(T,blue)action>> [[psysml:685b0fa1-42be-43fa-8250-fe6c84a18423 ]] {\r\n",
       "}\r\n",
       "\r\n",
       "{\r\n",
       "portout \"$result\" as E24  [[psysml:98937697-67bb-45ee-8fed-5abb392c3fdb ]] \r\n",
       "portin \"$x\" as E25  [[psysml:a977dc00-242a-40b3-b9da-606e563c8c3f ]] \r\n",
       "portin \"$y\" as E26  [[psysml:ab4e429e-9a1f-45c8-b892-c2c8dcefbe2f ]] \r\n",
       "portout \"$result\" as E27  [[psysml:2734cb04-9b51-40b2-9042-069cd5d9688c ]] \r\n",
       "}\r\n",
       "\r\n",
       "}\r\n",
       "\r\n",
       "E6 -[thickness=5]- E4 [[psysml:60a3d248-455c-4b27-8c43-fdde339bf8bd ]] \r\n",
       "E10 -[thickness=5]- E8 [[psysml:985ddca8-3639-4ad8-9c42-b0c44e866ff3 ]] \r\n",
       "E21 -[thickness=5]- E19 [[psysml:246fdd7b-2672-46ea-b421-02bbe449818a ]] \r\n",
       "E26 -[thickness=5]- E24 [[psysml:b7d97414-dcb8-4731-9734-ffccd7d52e37 ]] \r\n",
       "@enduml\r\n",
       "\n",
       "PlantUML version 1.2020.13(Sat Jun 13 12:26:38 UTC 2020)\n",
       "(EPL source distribution)\n",
       "Java Runtime: OpenJDK Runtime Environment\n",
       "JVM: OpenJDK 64-Bit Server VM\n",
       "Default Encoding: UTF-8\n",
       "Language: en\n",
       "Country: null\n",
       "--></g></svg>"
      ]
     },
     "execution_count": 37,
     "metadata": {},
     "output_type": "execute_result"
    }
   ],
   "source": [
    "%viz --style=\"DEFAULT\" --view=\"Default\" \"DecisionTest\""
   ]
  },
  {
   "cell_type": "code",
   "execution_count": 38,
   "id": "seven-zambia",
   "metadata": {
    "execution": {
     "iopub.execute_input": "2021-03-25T15:07:23.796413Z",
     "iopub.status.busy": "2021-03-25T15:07:23.795884Z",
     "iopub.status.idle": "2021-03-25T15:07:24.162203Z",
     "shell.execute_reply": "2021-03-25T15:07:24.162589Z"
    }
   },
   "outputs": [
    {
     "data": {
      "image/svg+xml": [
       "<?xml version=\"1.0\" encoding=\"UTF-8\" standalone=\"no\"?><svg xmlns=\"http://www.w3.org/2000/svg\" xmlns:xlink=\"http://www.w3.org/1999/xlink\" contentScriptType=\"application/ecmascript\" contentStyleType=\"text/css\" height=\"207px\" preserveAspectRatio=\"none\" style=\"width:109px;height:207px;\" version=\"1.1\" viewBox=\"0 0 109 207\" width=\"109px\" zoomAndPan=\"magnify\"><defs/><g><!--MD5=[43c9051892ef23e1a46a86907403d788]\n",
       "class E1--><a href=\"psysml:b2f18a0c-e7e8-4f9b-8be8-69c1ee721482\" target=\"_top\" title=\"psysml:b2f18a0c-e7e8-4f9b-8be8-69c1ee721482\" xlink:actuate=\"onRequest\" xlink:href=\"psysml:b2f18a0c-e7e8-4f9b-8be8-69c1ee721482\" xlink:show=\"new\" xlink:title=\"psysml:b2f18a0c-e7e8-4f9b-8be8-69c1ee721482\" xlink:type=\"simple\"><rect fill=\"#FFFFFF\" height=\"189.9844\" id=\"E1\" style=\"stroke: #383838; stroke-width: 1.5;\" width=\"91\" x=\"7\" y=\"7\"/><text fill=\"#000000\" font-family=\"sans-serif\" font-size=\"12\" font-style=\"italic\" lengthAdjust=\"spacingAndGlyphs\" textLength=\"77\" x=\"14\" y=\"23.1387\">«action def»</text><text fill=\"#000000\" font-family=\"sans-serif\" font-size=\"12\" lengthAdjust=\"spacingAndGlyphs\" textLength=\"80\" x=\"12.5\" y=\"37.1074\">DecisionTest</text><line style=\"stroke: #383838; stroke-width: 1.5;\" x1=\"8\" x2=\"97\" y1=\"44.9375\" y2=\"44.9375\"/><text fill=\"#000000\" font-family=\"sans-serif\" font-size=\"11\" lengthAdjust=\"spacingAndGlyphs\" textLength=\"6\" x=\"13\" y=\"75.9526\">x</text><line style=\"stroke: #383838; stroke-width: 1.0;\" x1=\"8\" x2=\"25\" y1=\"59.3398\" y2=\"59.3398\"/><text fill=\"#000000\" font-family=\"sans-serif\" font-size=\"11\" lengthAdjust=\"spacingAndGlyphs\" textLength=\"55\" x=\"25\" y=\"62.6479\">attributes</text><line style=\"stroke: #383838; stroke-width: 1.0;\" x1=\"80\" x2=\"97\" y1=\"59.3398\" y2=\"59.3398\"/><text fill=\"#000000\" font-family=\"sans-serif\" font-size=\"11\" lengthAdjust=\"spacingAndGlyphs\" textLength=\"14\" x=\"13\" y=\"105.562\">A1</text><text fill=\"#000000\" font-family=\"sans-serif\" font-size=\"11\" lengthAdjust=\"spacingAndGlyphs\" textLength=\"14\" x=\"13\" y=\"118.3667\">A2</text><text fill=\"#000000\" font-family=\"sans-serif\" font-size=\"11\" lengthAdjust=\"spacingAndGlyphs\" textLength=\"14\" x=\"13\" y=\"131.1714\">A3</text><line style=\"stroke: #383838; stroke-width: 1.0;\" x1=\"8\" x2=\"32\" y1=\"88.9492\" y2=\"88.9492\"/><text fill=\"#000000\" font-family=\"sans-serif\" font-size=\"11\" lengthAdjust=\"spacingAndGlyphs\" textLength=\"41\" x=\"32\" y=\"92.2573\">actions</text><line style=\"stroke: #383838; stroke-width: 1.0;\" x1=\"73\" x2=\"97\" y1=\"88.9492\" y2=\"88.9492\"/><text fill=\"#000000\" font-family=\"sans-serif\" font-size=\"11\" lengthAdjust=\"spacingAndGlyphs\" textLength=\"32\" x=\"13\" y=\"160.7808\">test x</text><line style=\"stroke: #383838; stroke-width: 1.0;\" x1=\"8\" x2=\"11\" y1=\"144.168\" y2=\"144.168\"/><text fill=\"#000000\" font-family=\"sans-serif\" font-size=\"11\" lengthAdjust=\"spacingAndGlyphs\" textLength=\"83\" x=\"11\" y=\"147.4761\">decisionNodes</text><line style=\"stroke: #383838; stroke-width: 1.0;\" x1=\"94\" x2=\"97\" y1=\"144.168\" y2=\"144.168\"/><text fill=\"#000000\" font-family=\"sans-serif\" font-size=\"11\" lengthAdjust=\"spacingAndGlyphs\" textLength=\"8\" x=\"13\" y=\"190.3901\">S</text><line style=\"stroke: #383838; stroke-width: 1.0;\" x1=\"8\" x2=\"22\" y1=\"173.7773\" y2=\"173.7773\"/><text fill=\"#000000\" font-family=\"sans-serif\" font-size=\"11\" lengthAdjust=\"spacingAndGlyphs\" textLength=\"61\" x=\"22\" y=\"177.0854\">transitions</text><line style=\"stroke: #383838; stroke-width: 1.0;\" x1=\"83\" x2=\"97\" y1=\"173.7773\" y2=\"173.7773\"/></a><!--MD5=[9c482391ade7bdd2a992f7634936e593]\n",
       "@startuml\r\n",
       "skinparam monochrome true\r\n",
       "skinparam classbackgroundcolor white\r\n",
       "skinparam shadowing false\r\n",
       "skinparam wrapWidth 300\r\n",
       "hide circle\r\n",
       "\r\n",
       "comp def \"DecisionTest\" as E1  <<(T,blue)action def>> [[psysml:b2f18a0c-e7e8-4f9b-8be8-69c1ee721482 ]] {\r\n",
       "- - attributes - -\r\n",
       "x\r\n",
       "- - actions - -\r\n",
       "A1\r\n",
       "A2\r\n",
       "A3\r\n",
       "- - decisionNodes - -\r\n",
       "test x\r\n",
       "- - transitions - -\r\n",
       "S\r\n",
       "}\r\n",
       "@enduml\r\n",
       "\n",
       "PlantUML version 1.2020.13(Sat Jun 13 12:26:38 UTC 2020)\n",
       "(EPL source distribution)\n",
       "Java Runtime: OpenJDK Runtime Environment\n",
       "JVM: OpenJDK 64-Bit Server VM\n",
       "Default Encoding: UTF-8\n",
       "Language: en\n",
       "Country: null\n",
       "--></g></svg>"
      ]
     },
     "execution_count": 38,
     "metadata": {},
     "output_type": "execute_result"
    }
   ],
   "source": [
    "%viz --style=\"DEFAULT\" --view=\"Tree\" \"DecisionTest\""
   ]
  },
  {
   "cell_type": "code",
   "execution_count": 39,
   "id": "vertical-evolution",
   "metadata": {
    "execution": {
     "iopub.execute_input": "2021-03-25T15:07:24.213951Z",
     "iopub.status.busy": "2021-03-25T15:07:24.213277Z",
     "iopub.status.idle": "2021-03-25T15:07:24.221831Z",
     "shell.execute_reply": "2021-03-25T15:07:24.222297Z"
    }
   },
   "outputs": [
    {
     "data": {
      "image/svg+xml": [
       "<?xml version=\"1.0\" encoding=\"UTF-8\" standalone=\"no\"?><svg xmlns=\"http://www.w3.org/2000/svg\" xmlns:xlink=\"http://www.w3.org/1999/xlink\" contentScriptType=\"application/ecmascript\" contentStyleType=\"text/css\" height=\"12px\" preserveAspectRatio=\"none\" style=\"width:12px;height:12px;\" version=\"1.1\" viewBox=\"0 0 12 12\" width=\"12px\" zoomAndPan=\"magnify\"><defs/><g><!--MD5=[c5f280e076d0d61ccf4b0f27871bda1d]\n",
       "@startuml\r\n",
       "skinparam monochrome true\r\n",
       "skinparam classbackgroundcolor white\r\n",
       "skinparam shadowing false\r\n",
       "skinparam wrapWidth 300\r\n",
       "hide circle\r\n",
       "\r\n",
       "@enduml\r\n",
       "\n",
       "PlantUML version 1.2020.13(Sat Jun 13 12:26:38 UTC 2020)\n",
       "(EPL source distribution)\n",
       "Java Runtime: OpenJDK Runtime Environment\n",
       "JVM: OpenJDK 64-Bit Server VM\n",
       "Default Encoding: UTF-8\n",
       "Language: en\n",
       "Country: null\n",
       "--></g></svg>"
      ]
     },
     "execution_count": 39,
     "metadata": {},
     "output_type": "execute_result"
    }
   ],
   "source": [
    "%viz --style=\"DEFAULT\" --view=\"State\" \"DecisionTest\""
   ]
  },
  {
   "cell_type": "code",
   "execution_count": 40,
   "id": "frank-ordinary",
   "metadata": {
    "execution": {
     "iopub.execute_input": "2021-03-25T15:07:24.274657Z",
     "iopub.status.busy": "2021-03-25T15:07:24.273775Z",
     "iopub.status.idle": "2021-03-25T15:07:24.309347Z",
     "shell.execute_reply": "2021-03-25T15:07:24.309012Z"
    }
   },
   "outputs": [
    {
     "data": {
      "image/svg+xml": [
       "<?xml version=\"1.0\" encoding=\"UTF-8\" standalone=\"no\"?><svg xmlns=\"http://www.w3.org/2000/svg\" xmlns:xlink=\"http://www.w3.org/1999/xlink\" contentScriptType=\"application/ecmascript\" contentStyleType=\"text/css\" height=\"71px\" preserveAspectRatio=\"none\" style=\"width:145px;height:71px;\" version=\"1.1\" viewBox=\"0 0 145 71\" width=\"145px\" zoomAndPan=\"magnify\"><defs/><g><!--MD5=[43c9051892ef23e1a46a86907403d788]\n",
       "class E1--><a href=\"psysml:b2f18a0c-e7e8-4f9b-8be8-69c1ee721482\" target=\"_top\" title=\"psysml:b2f18a0c-e7e8-4f9b-8be8-69c1ee721482\" xlink:actuate=\"onRequest\" xlink:href=\"psysml:b2f18a0c-e7e8-4f9b-8be8-69c1ee721482\" xlink:show=\"new\" xlink:title=\"psysml:b2f18a0c-e7e8-4f9b-8be8-69c1ee721482\" xlink:type=\"simple\"><rect fill=\"#FFFFFF\" height=\"53.9375\" id=\"E1\" style=\"stroke: #383838; stroke-width: 1.5;\" width=\"127\" x=\"7\" y=\"7\"/><text fill=\"#000000\" font-family=\"sans-serif\" font-size=\"12\" font-style=\"italic\" lengthAdjust=\"spacingAndGlyphs\" textLength=\"125\" x=\"8\" y=\"23.1387\">«(T,blue)action def»</text><text fill=\"#000000\" font-family=\"sans-serif\" font-size=\"12\" lengthAdjust=\"spacingAndGlyphs\" textLength=\"80\" x=\"30.5\" y=\"37.1074\">DecisionTest</text><line style=\"stroke: #383838; stroke-width: 1.5;\" x1=\"8\" x2=\"133\" y1=\"44.9375\" y2=\"44.9375\"/><line style=\"stroke: #383838; stroke-width: 1.5;\" x1=\"8\" x2=\"133\" y1=\"52.9375\" y2=\"52.9375\"/></a><!--MD5=[a768afc88fa7a6385c7c1747105085bf]\n",
       "@startuml\r\n",
       "skinparam ranksep 8\r\n",
       "skinparam rectangle {\r\n",
       " backgroundColor<<block>> LightGreen\r\n",
       "}\r\n",
       "skinparam monochrome true\r\n",
       "skinparam classbackgroundcolor white\r\n",
       "skinparam shadowing false\r\n",
       "skinparam wrapWidth 300\r\n",
       "hide circle\r\n",
       "\r\n",
       "def \"DecisionTest\" as E1  <<(T,blue)action def>> [[psysml:b2f18a0c-e7e8-4f9b-8be8-69c1ee721482 ]] \r\n",
       "@enduml\r\n",
       "\n",
       "PlantUML version 1.2020.13(Sat Jun 13 12:26:38 UTC 2020)\n",
       "(EPL source distribution)\n",
       "Java Runtime: OpenJDK Runtime Environment\n",
       "JVM: OpenJDK 64-Bit Server VM\n",
       "Default Encoding: UTF-8\n",
       "Language: en\n",
       "Country: null\n",
       "--></g></svg>"
      ]
     },
     "execution_count": 40,
     "metadata": {},
     "output_type": "execute_result"
    }
   ],
   "source": [
    "%viz --style=\"DEFAULT\" --view=\"Interconnection\" \"DecisionTest\""
   ]
  },
  {
   "cell_type": "code",
   "execution_count": 41,
   "id": "alive-noise",
   "metadata": {
    "execution": {
     "iopub.execute_input": "2021-03-25T15:07:24.361088Z",
     "iopub.status.busy": "2021-03-25T15:07:24.360361Z",
     "iopub.status.idle": "2021-03-25T15:07:24.389575Z",
     "shell.execute_reply": "2021-03-25T15:07:24.388204Z"
    }
   },
   "outputs": [
    {
     "data": {
      "image/svg+xml": [
       "<?xml version=\"1.0\" encoding=\"UTF-8\" standalone=\"no\"?><svg xmlns=\"http://www.w3.org/2000/svg\" xmlns:xlink=\"http://www.w3.org/1999/xlink\" contentScriptType=\"application/ecmascript\" contentStyleType=\"text/css\" height=\"288px\" preserveAspectRatio=\"none\" style=\"width:873px;height:288px;background:#000000;\" version=\"1.1\" viewBox=\"0 0 873 288\" width=\"873px\" zoomAndPan=\"magnify\"><defs/><g><rect fill=\"#230F26\" height=\"1\" style=\"stroke: #230F26; stroke-width: 1.0;\" width=\"1\" x=\"0\" y=\"0\"/><rect fill=\"#33FF02\" height=\"21.2969\" style=\"stroke: #33FF02; stroke-width: 1.0;\" width=\"866\" x=\"5\" y=\"5\"/><text fill=\"#000000\" font-family=\"sans-serif\" font-size=\"14\" font-weight=\"bold\" lengthAdjust=\"spacingAndGlyphs\" textLength=\"178\" x=\"6\" y=\"20\">[From string (line 14) ]</text><text fill=\"#33FF02\" font-family=\"sans-serif\" font-size=\"14\" font-weight=\"bold\" lengthAdjust=\"spacingAndGlyphs\" textLength=\"0\" x=\"10\" y=\"40.2969\"/><text fill=\"#33FF02\" font-family=\"sans-serif\" font-size=\"14\" font-weight=\"bold\" lengthAdjust=\"spacingAndGlyphs\" textLength=\"79\" x=\"5\" y=\"56.5938\">@startuml</text><text fill=\"#33FF02\" font-family=\"sans-serif\" font-size=\"14\" font-weight=\"bold\" lengthAdjust=\"spacingAndGlyphs\" textLength=\"165\" x=\"5\" y=\"72.8906\">skinparam ranksep 8</text><text fill=\"#33FF02\" font-family=\"sans-serif\" font-size=\"14\" font-weight=\"bold\" lengthAdjust=\"spacingAndGlyphs\" textLength=\"228\" x=\"5\" y=\"89.1875\">skinparam monochrome true</text><text fill=\"#33FF02\" font-family=\"sans-serif\" font-size=\"14\" font-weight=\"bold\" lengthAdjust=\"spacingAndGlyphs\" textLength=\"309\" x=\"5\" y=\"105.4844\">skinparam classbackgroundcolor white</text><text fill=\"#33FF02\" font-family=\"sans-serif\" font-size=\"14\" font-weight=\"bold\" lengthAdjust=\"spacingAndGlyphs\" textLength=\"215\" x=\"5\" y=\"121.7813\">skinparam shadowing false</text><text fill=\"#33FF02\" font-family=\"sans-serif\" font-size=\"14\" font-weight=\"bold\" lengthAdjust=\"spacingAndGlyphs\" textLength=\"206\" x=\"5\" y=\"138.0781\">skinparam wrapWidth 300</text><text fill=\"#33FF02\" font-family=\"sans-serif\" font-size=\"14\" font-weight=\"bold\" lengthAdjust=\"spacingAndGlyphs\" textLength=\"82\" x=\"5\" y=\"154.375\">hide circle</text><text fill=\"#33FF02\" font-family=\"sans-serif\" font-size=\"14\" font-weight=\"bold\" lengthAdjust=\"spacingAndGlyphs\" textLength=\"0\" x=\"10\" y=\"170.6719\"/><text fill=\"#33FF02\" font-family=\"sans-serif\" font-size=\"14\" font-weight=\"bold\" lengthAdjust=\"spacingAndGlyphs\" textLength=\"866\" x=\"5\" y=\"186.9688\">rec def \"DecisionTest\" as E1  &lt;&lt;(T,blue)action def&gt;&gt; [[psysml:b2f18a0c-e7e8-4f9b-8be8-69c1ee721482 ]] {</text><text fill=\"#33FF02\" font-family=\"sans-serif\" font-size=\"14\" font-weight=\"bold\" lengthAdjust=\"spacingAndGlyphs\" textLength=\"619\" x=\"5\" y=\"203.2656\">portout \"$result\" as E2  [[psysml:48b93896-3893-47bc-bfb4-82205587ec17 ]]</text><text fill=\"#33FF02\" font-family=\"sans-serif\" font-size=\"14\" font-weight=\"bold\" lengthAdjust=\"spacingAndGlyphs\" textLength=\"859\" x=\"5\" y=\"219.5625\">rec usage \"test x\" as E3  &lt;&lt;(T,blue)decisionNode&gt;&gt; [[psysml:e5d2d3ea-f48f-4426-8e8b-470a03ae9129 ]] {</text><text fill=\"#33FF02\" font-family=\"sans-serif\" font-size=\"14\" font-weight=\"bold\" lengthAdjust=\"spacingAndGlyphs\" textLength=\"10\" x=\"5\" y=\"235.8594\">}</text><text fill=\"#33FF02\" font-family=\"sans-serif\" font-size=\"14\" font-weight=\"bold\" lengthAdjust=\"spacingAndGlyphs\" textLength=\"0\" x=\"10\" y=\"252.1563\"/><text fill=\"#33FF02\" font-family=\"sans-serif\" font-size=\"14\" font-weight=\"bold\" lengthAdjust=\"spacingAndGlyphs\" textLength=\"10\" x=\"5\" y=\"268.4531\">{</text><text fill=\"#FF0000\" font-family=\"sans-serif\" font-size=\"14\" font-weight=\"bold\" lengthAdjust=\"spacingAndGlyphs\" textLength=\"106\" x=\"10\" y=\"284.75\">Syntax Error?</text><!--MD5=[a536877a93a1081d227e203b8222b2a7]\n",
       "@startuml\r\n",
       "skinparam ranksep 8\r\n",
       "skinparam monochrome true\r\n",
       "skinparam classbackgroundcolor white\r\n",
       "skinparam shadowing false\r\n",
       "skinparam wrapWidth 300\r\n",
       "hide circle\r\n",
       "\r\n",
       "rec def \"DecisionTest\" as E1  <<(T,blue)action def>> [[psysml:b2f18a0c-e7e8-4f9b-8be8-69c1ee721482 ]] {\r\n",
       "portout \"$result\" as E2  [[psysml:48b93896-3893-47bc-bfb4-82205587ec17 ]] \r\n",
       "rec usage \"test x\" as E3  <<(T,blue)decisionNode>> [[psysml:e5d2d3ea-f48f-4426-8e8b-470a03ae9129 ]] {\r\n",
       "}\r\n",
       "\r\n",
       "{\r\n",
       "portout \"$result\" as E4  [[psysml:4b8ded41-753f-4321-9638-6238d10e7c80 ]] \r\n",
       "portin \"$x\" as E5  [[psysml:a7b14f91-b01b-46a8-a467-34455cb469c8 ]] \r\n",
       "portin \"$y\" as E6  [[psysml:5152b66c-9655-4578-b3e0-a1abffd52221 ]] \r\n",
       "portout \"$result\" as E7  [[psysml:4920d9f2-11b6-40e8-8f3b-51b5a6d86cfe ]] \r\n",
       "}\r\n",
       "\r\n",
       "{\r\n",
       "portout \"$result\" as E8  [[psysml:299014ef-2d5d-4d16-b133-5999efd30129 ]] \r\n",
       "portin \"$x\" as E9  [[psysml:06a6ed26-9ce9-4d08-906d-b2050b8e915c ]] \r\n",
       "portin \"$y\" as E10  [[psysml:5469b116-bf46-4216-bf8a-03dc856fdd9f ]] \r\n",
       "portout \"$result\" as E11  [[psysml:71834102-980a-4495-ab1e-6e2e09d248cc ]] \r\n",
       "}\r\n",
       "\r\n",
       "{\r\n",
       "}\r\n",
       "\r\n",
       "{\r\n",
       "}\r\n",
       "\r\n",
       "{\r\n",
       "portout \"$result\" as E12  [[psysml:f7c1e883-5939-48d9-8b79-1dd5526a379a ]] \r\n",
       "}\r\n",
       "\r\n",
       "{\r\n",
       "portout \"$result\" as E13  [[psysml:c31efe23-02f2-4c3d-bb99-9ef28e999a1c ]] \r\n",
       "}\r\n",
       "\r\n",
       "rec usage \"A1\" as E14  <<(T,blue)action>> [[psysml:83c05d54-f6d6-494a-833f-554dd37c4623 ]] {\r\n",
       "}\r\n",
       "\r\n",
       "rec usage \"A2\" as E15  <<(T,blue)action>> [[psysml:7dcb7014-cff9-44fa-9aa1-11f878021657 ]] {\r\n",
       "}\r\n",
       "\r\n",
       "rec usage \"A3\" as E16  <<(T,blue)action>> [[psysml:685b0fa1-42be-43fa-8250-fe6c84a18423 ]] {\r\n",
       "}\r\n",
       "\r\n",
       "rec usage \"S\" as E17  <<(T,blue)transition>> [[psysml:94783800-53cc-4e6d-883a-cc9d9c3ccfae ]] {\r\n",
       "rec usage \"A1\" as E18  <<(T,blue)action>> [[psysml:83c05d54-f6d6-494a-833f-554dd37c4623 ]] {\r\n",
       "}\r\n",
       "\r\n",
       "portout \"$result\" as E19  [[psysml:59943b31-a3c9-4e0b-a1a5-a807d88f74d6 ]] \r\n",
       "portin \"$x\" as E20  [[psysml:f56aed3e-0abf-415b-8307-7ce602886a4e ]] \r\n",
       "portin \"$y\" as E21  [[psysml:4a073027-8566-43d2-b22e-daad3da22329 ]] \r\n",
       "portout \"$result\" as E22  [[psysml:a62ac8b0-eaf6-4adc-9f14-e1e54df6c395 ]] \r\n",
       "}\r\n",
       "\r\n",
       "rec usage \"A3\" as E23  <<(T,blue)action>> [[psysml:685b0fa1-42be-43fa-8250-fe6c84a18423 ]] {\r\n",
       "}\r\n",
       "\r\n",
       "{\r\n",
       "portout \"$result\" as E24  [[psysml:98937697-67bb-45ee-8fed-5abb392c3fdb ]] \r\n",
       "portin \"$x\" as E25  [[psysml:a977dc00-242a-40b3-b9da-606e563c8c3f ]] \r\n",
       "portin \"$y\" as E26  [[psysml:ab4e429e-9a1f-45c8-b892-c2c8dcefbe2f ]] \r\n",
       "portout \"$result\" as E27  [[psysml:2734cb04-9b51-40b2-9042-069cd5d9688c ]] \r\n",
       "}\r\n",
       "\r\n",
       "}\r\n",
       "\r\n",
       "E6 -[thickness=5]- E4 [[psysml:60a3d248-455c-4b27-8c43-fdde339bf8bd ]] \r\n",
       "E10 -[thickness=5]- E8 [[psysml:985ddca8-3639-4ad8-9c42-b0c44e866ff3 ]] \r\n",
       "E21 -[thickness=5]- E19 [[psysml:246fdd7b-2672-46ea-b421-02bbe449818a ]] \r\n",
       "E26 -[thickness=5]- E24 [[psysml:b7d97414-dcb8-4731-9734-ffccd7d52e37 ]] \r\n",
       "@enduml\r\n",
       "\n",
       "PlantUML version 1.2020.13(Sat Jun 13 12:26:38 UTC 2020)\n",
       "(EPL source distribution)\n",
       "Java Runtime: OpenJDK Runtime Environment\n",
       "JVM: OpenJDK 64-Bit Server VM\n",
       "Default Encoding: UTF-8\n",
       "Language: en\n",
       "Country: null\n",
       "--></g></svg>"
      ]
     },
     "execution_count": 41,
     "metadata": {},
     "output_type": "execute_result"
    }
   ],
   "source": [
    "%viz --style=\"DEFAULT\" --view=\"Action\" \"DecisionTest\""
   ]
  },
  {
   "cell_type": "code",
   "execution_count": 42,
   "id": "vanilla-patch",
   "metadata": {
    "execution": {
     "iopub.execute_input": "2021-03-25T15:07:24.440483Z",
     "iopub.status.busy": "2021-03-25T15:07:24.440000Z",
     "iopub.status.idle": "2021-03-25T15:07:24.789779Z",
     "shell.execute_reply": "2021-03-25T15:07:24.789398Z"
    }
   },
   "outputs": [
    {
     "data": {
      "image/svg+xml": [
       "<?xml version=\"1.0\" encoding=\"UTF-8\" standalone=\"no\"?><svg xmlns=\"http://www.w3.org/2000/svg\" xmlns:xlink=\"http://www.w3.org/1999/xlink\" contentScriptType=\"application/ecmascript\" contentStyleType=\"text/css\" height=\"207px\" preserveAspectRatio=\"none\" style=\"width:109px;height:207px;\" version=\"1.1\" viewBox=\"0 0 109 207\" width=\"109px\" zoomAndPan=\"magnify\"><defs/><g><!--MD5=[43c9051892ef23e1a46a86907403d788]\n",
       "class E1--><a href=\"psysml:b2f18a0c-e7e8-4f9b-8be8-69c1ee721482\" target=\"_top\" title=\"psysml:b2f18a0c-e7e8-4f9b-8be8-69c1ee721482\" xlink:actuate=\"onRequest\" xlink:href=\"psysml:b2f18a0c-e7e8-4f9b-8be8-69c1ee721482\" xlink:show=\"new\" xlink:title=\"psysml:b2f18a0c-e7e8-4f9b-8be8-69c1ee721482\" xlink:type=\"simple\"><rect fill=\"#FFFFFF\" height=\"189.9844\" id=\"E1\" style=\"stroke: #383838; stroke-width: 1.5;\" width=\"91\" x=\"7\" y=\"7\"/><text fill=\"#000000\" font-family=\"sans-serif\" font-size=\"12\" font-style=\"italic\" lengthAdjust=\"spacingAndGlyphs\" textLength=\"77\" x=\"14\" y=\"23.1387\">«action def»</text><text fill=\"#000000\" font-family=\"sans-serif\" font-size=\"12\" lengthAdjust=\"spacingAndGlyphs\" textLength=\"80\" x=\"12.5\" y=\"37.1074\">DecisionTest</text><line style=\"stroke: #383838; stroke-width: 1.5;\" x1=\"8\" x2=\"97\" y1=\"44.9375\" y2=\"44.9375\"/><text fill=\"#000000\" font-family=\"sans-serif\" font-size=\"11\" lengthAdjust=\"spacingAndGlyphs\" textLength=\"6\" x=\"13\" y=\"75.9526\">x</text><line style=\"stroke: #383838; stroke-width: 1.0;\" x1=\"8\" x2=\"25\" y1=\"59.3398\" y2=\"59.3398\"/><text fill=\"#000000\" font-family=\"sans-serif\" font-size=\"11\" lengthAdjust=\"spacingAndGlyphs\" textLength=\"55\" x=\"25\" y=\"62.6479\">attributes</text><line style=\"stroke: #383838; stroke-width: 1.0;\" x1=\"80\" x2=\"97\" y1=\"59.3398\" y2=\"59.3398\"/><text fill=\"#000000\" font-family=\"sans-serif\" font-size=\"11\" lengthAdjust=\"spacingAndGlyphs\" textLength=\"14\" x=\"13\" y=\"105.562\">A1</text><text fill=\"#000000\" font-family=\"sans-serif\" font-size=\"11\" lengthAdjust=\"spacingAndGlyphs\" textLength=\"14\" x=\"13\" y=\"118.3667\">A2</text><text fill=\"#000000\" font-family=\"sans-serif\" font-size=\"11\" lengthAdjust=\"spacingAndGlyphs\" textLength=\"14\" x=\"13\" y=\"131.1714\">A3</text><line style=\"stroke: #383838; stroke-width: 1.0;\" x1=\"8\" x2=\"32\" y1=\"88.9492\" y2=\"88.9492\"/><text fill=\"#000000\" font-family=\"sans-serif\" font-size=\"11\" lengthAdjust=\"spacingAndGlyphs\" textLength=\"41\" x=\"32\" y=\"92.2573\">actions</text><line style=\"stroke: #383838; stroke-width: 1.0;\" x1=\"73\" x2=\"97\" y1=\"88.9492\" y2=\"88.9492\"/><text fill=\"#000000\" font-family=\"sans-serif\" font-size=\"11\" lengthAdjust=\"spacingAndGlyphs\" textLength=\"32\" x=\"13\" y=\"160.7808\">test x</text><line style=\"stroke: #383838; stroke-width: 1.0;\" x1=\"8\" x2=\"11\" y1=\"144.168\" y2=\"144.168\"/><text fill=\"#000000\" font-family=\"sans-serif\" font-size=\"11\" lengthAdjust=\"spacingAndGlyphs\" textLength=\"83\" x=\"11\" y=\"147.4761\">decisionNodes</text><line style=\"stroke: #383838; stroke-width: 1.0;\" x1=\"94\" x2=\"97\" y1=\"144.168\" y2=\"144.168\"/><text fill=\"#000000\" font-family=\"sans-serif\" font-size=\"11\" lengthAdjust=\"spacingAndGlyphs\" textLength=\"8\" x=\"13\" y=\"190.3901\">S</text><line style=\"stroke: #383838; stroke-width: 1.0;\" x1=\"8\" x2=\"22\" y1=\"173.7773\" y2=\"173.7773\"/><text fill=\"#000000\" font-family=\"sans-serif\" font-size=\"11\" lengthAdjust=\"spacingAndGlyphs\" textLength=\"61\" x=\"22\" y=\"177.0854\">transitions</text><line style=\"stroke: #383838; stroke-width: 1.0;\" x1=\"83\" x2=\"97\" y1=\"173.7773\" y2=\"173.7773\"/></a><!--MD5=[9c482391ade7bdd2a992f7634936e593]\n",
       "@startuml\r\n",
       "skinparam monochrome true\r\n",
       "skinparam classbackgroundcolor white\r\n",
       "skinparam shadowing false\r\n",
       "skinparam wrapWidth 300\r\n",
       "hide circle\r\n",
       "\r\n",
       "comp def \"DecisionTest\" as E1  <<(T,blue)action def>> [[psysml:b2f18a0c-e7e8-4f9b-8be8-69c1ee721482 ]] {\r\n",
       "- - attributes - -\r\n",
       "x\r\n",
       "- - actions - -\r\n",
       "A1\r\n",
       "A2\r\n",
       "A3\r\n",
       "- - decisionNodes - -\r\n",
       "test x\r\n",
       "- - transitions - -\r\n",
       "S\r\n",
       "}\r\n",
       "@enduml\r\n",
       "\n",
       "PlantUML version 1.2020.13(Sat Jun 13 12:26:38 UTC 2020)\n",
       "(EPL source distribution)\n",
       "Java Runtime: OpenJDK Runtime Environment\n",
       "JVM: OpenJDK 64-Bit Server VM\n",
       "Default Encoding: UTF-8\n",
       "Language: en\n",
       "Country: null\n",
       "--></g></svg>"
      ]
     },
     "execution_count": 42,
     "metadata": {},
     "output_type": "execute_result"
    }
   ],
   "source": [
    "%viz --style=\"DEFAULT\" --view=\"Sequence\" \"DecisionTest\""
   ]
  },
  {
   "cell_type": "code",
   "execution_count": 43,
   "id": "every-lotus",
   "metadata": {
    "execution": {
     "iopub.execute_input": "2021-03-25T15:07:24.841188Z",
     "iopub.status.busy": "2021-03-25T15:07:24.840649Z",
     "iopub.status.idle": "2021-03-25T15:07:24.870978Z",
     "shell.execute_reply": "2021-03-25T15:07:24.869615Z"
    }
   },
   "outputs": [
    {
     "data": {
      "image/svg+xml": [
       "<?xml version=\"1.0\" encoding=\"UTF-8\" standalone=\"no\"?><svg xmlns=\"http://www.w3.org/2000/svg\" xmlns:xlink=\"http://www.w3.org/1999/xlink\" contentScriptType=\"application/ecmascript\" contentStyleType=\"text/css\" height=\"271px\" preserveAspectRatio=\"none\" style=\"width:873px;height:271px;background:#000000;\" version=\"1.1\" viewBox=\"0 0 873 271\" width=\"873px\" zoomAndPan=\"magnify\"><defs/><g><rect fill=\"#0B1A01\" height=\"1\" style=\"stroke: #0B1A01; stroke-width: 1.0;\" width=\"1\" x=\"0\" y=\"0\"/><rect fill=\"#33FF02\" height=\"21.2969\" style=\"stroke: #33FF02; stroke-width: 1.0;\" width=\"866\" x=\"5\" y=\"5\"/><text fill=\"#000000\" font-family=\"sans-serif\" font-size=\"14\" font-weight=\"bold\" lengthAdjust=\"spacingAndGlyphs\" textLength=\"178\" x=\"6\" y=\"20\">[From string (line 13) ]</text><text fill=\"#33FF02\" font-family=\"sans-serif\" font-size=\"14\" font-weight=\"bold\" lengthAdjust=\"spacingAndGlyphs\" textLength=\"0\" x=\"10\" y=\"40.2969\"/><text fill=\"#33FF02\" font-family=\"sans-serif\" font-size=\"14\" font-weight=\"bold\" lengthAdjust=\"spacingAndGlyphs\" textLength=\"79\" x=\"5\" y=\"56.5938\">@startuml</text><text fill=\"#33FF02\" font-family=\"sans-serif\" font-size=\"14\" font-weight=\"bold\" lengthAdjust=\"spacingAndGlyphs\" textLength=\"228\" x=\"5\" y=\"72.8906\">skinparam monochrome true</text><text fill=\"#33FF02\" font-family=\"sans-serif\" font-size=\"14\" font-weight=\"bold\" lengthAdjust=\"spacingAndGlyphs\" textLength=\"309\" x=\"5\" y=\"89.1875\">skinparam classbackgroundcolor white</text><text fill=\"#33FF02\" font-family=\"sans-serif\" font-size=\"14\" font-weight=\"bold\" lengthAdjust=\"spacingAndGlyphs\" textLength=\"215\" x=\"5\" y=\"105.4844\">skinparam shadowing false</text><text fill=\"#33FF02\" font-family=\"sans-serif\" font-size=\"14\" font-weight=\"bold\" lengthAdjust=\"spacingAndGlyphs\" textLength=\"206\" x=\"5\" y=\"121.7813\">skinparam wrapWidth 300</text><text fill=\"#33FF02\" font-family=\"sans-serif\" font-size=\"14\" font-weight=\"bold\" lengthAdjust=\"spacingAndGlyphs\" textLength=\"82\" x=\"5\" y=\"138.0781\">hide circle</text><text fill=\"#33FF02\" font-family=\"sans-serif\" font-size=\"14\" font-weight=\"bold\" lengthAdjust=\"spacingAndGlyphs\" textLength=\"0\" x=\"10\" y=\"154.375\"/><text fill=\"#33FF02\" font-family=\"sans-serif\" font-size=\"14\" font-weight=\"bold\" lengthAdjust=\"spacingAndGlyphs\" textLength=\"866\" x=\"5\" y=\"170.6719\">rec def \"DecisionTest\" as E1  &lt;&lt;(T,blue)action def&gt;&gt; [[psysml:b2f18a0c-e7e8-4f9b-8be8-69c1ee721482 ]] {</text><text fill=\"#33FF02\" font-family=\"sans-serif\" font-size=\"14\" font-weight=\"bold\" lengthAdjust=\"spacingAndGlyphs\" textLength=\"619\" x=\"5\" y=\"186.9688\">portout \"$result\" as E2  [[psysml:48b93896-3893-47bc-bfb4-82205587ec17 ]]</text><text fill=\"#33FF02\" font-family=\"sans-serif\" font-size=\"14\" font-weight=\"bold\" lengthAdjust=\"spacingAndGlyphs\" textLength=\"859\" x=\"5\" y=\"203.2656\">rec usage \"test x\" as E3  &lt;&lt;(T,blue)decisionNode&gt;&gt; [[psysml:e5d2d3ea-f48f-4426-8e8b-470a03ae9129 ]] {</text><text fill=\"#33FF02\" font-family=\"sans-serif\" font-size=\"14\" font-weight=\"bold\" lengthAdjust=\"spacingAndGlyphs\" textLength=\"10\" x=\"5\" y=\"219.5625\">}</text><text fill=\"#33FF02\" font-family=\"sans-serif\" font-size=\"14\" font-weight=\"bold\" lengthAdjust=\"spacingAndGlyphs\" textLength=\"0\" x=\"10\" y=\"235.8594\"/><text fill=\"#33FF02\" font-family=\"sans-serif\" font-size=\"14\" font-weight=\"bold\" lengthAdjust=\"spacingAndGlyphs\" textLength=\"10\" x=\"5\" y=\"252.1563\">{</text><text fill=\"#FF0000\" font-family=\"sans-serif\" font-size=\"14\" font-weight=\"bold\" lengthAdjust=\"spacingAndGlyphs\" textLength=\"106\" x=\"10\" y=\"268.4531\">Syntax Error?</text><!--MD5=[34927b1c4bb99c0bba12d3077e31fd3f]\n",
       "@startuml\r\n",
       "skinparam monochrome true\r\n",
       "skinparam classbackgroundcolor white\r\n",
       "skinparam shadowing false\r\n",
       "skinparam wrapWidth 300\r\n",
       "hide circle\r\n",
       "\r\n",
       "rec def \"DecisionTest\" as E1  <<(T,blue)action def>> [[psysml:b2f18a0c-e7e8-4f9b-8be8-69c1ee721482 ]] {\r\n",
       "portout \"$result\" as E2  [[psysml:48b93896-3893-47bc-bfb4-82205587ec17 ]] \r\n",
       "rec usage \"test x\" as E3  <<(T,blue)decisionNode>> [[psysml:e5d2d3ea-f48f-4426-8e8b-470a03ae9129 ]] {\r\n",
       "}\r\n",
       "\r\n",
       "{\r\n",
       "portout \"$result\" as E4  [[psysml:4b8ded41-753f-4321-9638-6238d10e7c80 ]] \r\n",
       "portin \"$x\" as E5  [[psysml:a7b14f91-b01b-46a8-a467-34455cb469c8 ]] \r\n",
       "portin \"$y\" as E6  [[psysml:5152b66c-9655-4578-b3e0-a1abffd52221 ]] \r\n",
       "portout \"$result\" as E7  [[psysml:4920d9f2-11b6-40e8-8f3b-51b5a6d86cfe ]] \r\n",
       "}\r\n",
       "\r\n",
       "{\r\n",
       "portout \"$result\" as E8  [[psysml:299014ef-2d5d-4d16-b133-5999efd30129 ]] \r\n",
       "portin \"$x\" as E9  [[psysml:06a6ed26-9ce9-4d08-906d-b2050b8e915c ]] \r\n",
       "portin \"$y\" as E10  [[psysml:5469b116-bf46-4216-bf8a-03dc856fdd9f ]] \r\n",
       "portout \"$result\" as E11  [[psysml:71834102-980a-4495-ab1e-6e2e09d248cc ]] \r\n",
       "}\r\n",
       "\r\n",
       "{\r\n",
       "}\r\n",
       "\r\n",
       "{\r\n",
       "}\r\n",
       "\r\n",
       "{\r\n",
       "portout \"$result\" as E12  [[psysml:f7c1e883-5939-48d9-8b79-1dd5526a379a ]] \r\n",
       "}\r\n",
       "\r\n",
       "{\r\n",
       "portout \"$result\" as E13  [[psysml:c31efe23-02f2-4c3d-bb99-9ef28e999a1c ]] \r\n",
       "}\r\n",
       "\r\n",
       "rec usage \"A1\" as E14  <<(T,blue)action>> [[psysml:83c05d54-f6d6-494a-833f-554dd37c4623 ]] {\r\n",
       "}\r\n",
       "\r\n",
       "rec usage \"A2\" as E15  <<(T,blue)action>> [[psysml:7dcb7014-cff9-44fa-9aa1-11f878021657 ]] {\r\n",
       "}\r\n",
       "\r\n",
       "rec usage \"A3\" as E16  <<(T,blue)action>> [[psysml:685b0fa1-42be-43fa-8250-fe6c84a18423 ]] {\r\n",
       "}\r\n",
       "\r\n",
       "rec usage \"S\" as E17  <<(T,blue)transition>> [[psysml:94783800-53cc-4e6d-883a-cc9d9c3ccfae ]] {\r\n",
       "rec usage \"A1\" as E18  <<(T,blue)action>> [[psysml:83c05d54-f6d6-494a-833f-554dd37c4623 ]] {\r\n",
       "}\r\n",
       "\r\n",
       "portout \"$result\" as E19  [[psysml:59943b31-a3c9-4e0b-a1a5-a807d88f74d6 ]] \r\n",
       "portin \"$x\" as E20  [[psysml:f56aed3e-0abf-415b-8307-7ce602886a4e ]] \r\n",
       "portin \"$y\" as E21  [[psysml:4a073027-8566-43d2-b22e-daad3da22329 ]] \r\n",
       "portout \"$result\" as E22  [[psysml:a62ac8b0-eaf6-4adc-9f14-e1e54df6c395 ]] \r\n",
       "}\r\n",
       "\r\n",
       "rec usage \"A3\" as E23  <<(T,blue)action>> [[psysml:685b0fa1-42be-43fa-8250-fe6c84a18423 ]] {\r\n",
       "}\r\n",
       "\r\n",
       "{\r\n",
       "portout \"$result\" as E24  [[psysml:98937697-67bb-45ee-8fed-5abb392c3fdb ]] \r\n",
       "portin \"$x\" as E25  [[psysml:a977dc00-242a-40b3-b9da-606e563c8c3f ]] \r\n",
       "portin \"$y\" as E26  [[psysml:ab4e429e-9a1f-45c8-b892-c2c8dcefbe2f ]] \r\n",
       "portout \"$result\" as E27  [[psysml:2734cb04-9b51-40b2-9042-069cd5d9688c ]] \r\n",
       "}\r\n",
       "\r\n",
       "}\r\n",
       "\r\n",
       "E6 -[thickness=5]- E4 [[psysml:60a3d248-455c-4b27-8c43-fdde339bf8bd ]] \r\n",
       "E10 -[thickness=5]- E8 [[psysml:985ddca8-3639-4ad8-9c42-b0c44e866ff3 ]] \r\n",
       "E21 -[thickness=5]- E19 [[psysml:246fdd7b-2672-46ea-b421-02bbe449818a ]] \r\n",
       "E26 -[thickness=5]- E24 [[psysml:b7d97414-dcb8-4731-9734-ffccd7d52e37 ]] \r\n",
       "@enduml\r\n",
       "\n",
       "PlantUML version 1.2020.13(Sat Jun 13 12:26:38 UTC 2020)\n",
       "(EPL source distribution)\n",
       "Java Runtime: OpenJDK Runtime Environment\n",
       "JVM: OpenJDK 64-Bit Server VM\n",
       "Default Encoding: UTF-8\n",
       "Language: en\n",
       "Country: null\n",
       "--></g></svg>"
      ]
     },
     "execution_count": 43,
     "metadata": {},
     "output_type": "execute_result"
    }
   ],
   "source": [
    "%viz --style=\"DEFAULT\" --view=\"MIXED\" \"DecisionTest\""
   ]
  },
  {
   "cell_type": "code",
   "execution_count": 44,
   "id": "robust-public",
   "metadata": {
    "execution": {
     "iopub.execute_input": "2021-03-25T15:07:24.923031Z",
     "iopub.status.busy": "2021-03-25T15:07:24.922097Z",
     "iopub.status.idle": "2021-03-25T15:07:24.946649Z",
     "shell.execute_reply": "2021-03-25T15:07:24.945252Z"
    }
   },
   "outputs": [
    {
     "data": {
      "image/svg+xml": [
       "<?xml version=\"1.0\" encoding=\"UTF-8\" standalone=\"no\"?><svg xmlns=\"http://www.w3.org/2000/svg\" xmlns:xlink=\"http://www.w3.org/1999/xlink\" contentScriptType=\"application/ecmascript\" contentStyleType=\"text/css\" height=\"288px\" preserveAspectRatio=\"none\" style=\"width:873px;height:288px;background:#000000;\" version=\"1.1\" viewBox=\"0 0 873 288\" width=\"873px\" zoomAndPan=\"magnify\"><defs/><g><rect fill=\"#070B25\" height=\"1\" style=\"stroke: #070B25; stroke-width: 1.0;\" width=\"1\" x=\"0\" y=\"0\"/><rect fill=\"#33FF02\" height=\"21.2969\" style=\"stroke: #33FF02; stroke-width: 1.0;\" width=\"866\" x=\"5\" y=\"5\"/><text fill=\"#000000\" font-family=\"sans-serif\" font-size=\"14\" font-weight=\"bold\" lengthAdjust=\"spacingAndGlyphs\" textLength=\"178\" x=\"6\" y=\"20\">[From string (line 14) ]</text><text fill=\"#33FF02\" font-family=\"sans-serif\" font-size=\"14\" font-weight=\"bold\" lengthAdjust=\"spacingAndGlyphs\" textLength=\"0\" x=\"10\" y=\"40.2969\"/><text fill=\"#33FF02\" font-family=\"sans-serif\" font-size=\"14\" font-weight=\"bold\" lengthAdjust=\"spacingAndGlyphs\" textLength=\"79\" x=\"5\" y=\"56.5938\">@startuml</text><text fill=\"#33FF02\" font-family=\"sans-serif\" font-size=\"14\" font-weight=\"bold\" lengthAdjust=\"spacingAndGlyphs\" textLength=\"183\" x=\"5\" y=\"72.8906\">top to bottom direction</text><text fill=\"#33FF02\" font-family=\"sans-serif\" font-size=\"14\" font-weight=\"bold\" lengthAdjust=\"spacingAndGlyphs\" textLength=\"228\" x=\"5\" y=\"89.1875\">skinparam monochrome true</text><text fill=\"#33FF02\" font-family=\"sans-serif\" font-size=\"14\" font-weight=\"bold\" lengthAdjust=\"spacingAndGlyphs\" textLength=\"309\" x=\"5\" y=\"105.4844\">skinparam classbackgroundcolor white</text><text fill=\"#33FF02\" font-family=\"sans-serif\" font-size=\"14\" font-weight=\"bold\" lengthAdjust=\"spacingAndGlyphs\" textLength=\"215\" x=\"5\" y=\"121.7813\">skinparam shadowing false</text><text fill=\"#33FF02\" font-family=\"sans-serif\" font-size=\"14\" font-weight=\"bold\" lengthAdjust=\"spacingAndGlyphs\" textLength=\"206\" x=\"5\" y=\"138.0781\">skinparam wrapWidth 300</text><text fill=\"#33FF02\" font-family=\"sans-serif\" font-size=\"14\" font-weight=\"bold\" lengthAdjust=\"spacingAndGlyphs\" textLength=\"82\" x=\"5\" y=\"154.375\">hide circle</text><text fill=\"#33FF02\" font-family=\"sans-serif\" font-size=\"14\" font-weight=\"bold\" lengthAdjust=\"spacingAndGlyphs\" textLength=\"0\" x=\"10\" y=\"170.6719\"/><text fill=\"#33FF02\" font-family=\"sans-serif\" font-size=\"14\" font-weight=\"bold\" lengthAdjust=\"spacingAndGlyphs\" textLength=\"866\" x=\"5\" y=\"186.9688\">rec def \"DecisionTest\" as E1  &lt;&lt;(T,blue)action def&gt;&gt; [[psysml:b2f18a0c-e7e8-4f9b-8be8-69c1ee721482 ]] {</text><text fill=\"#33FF02\" font-family=\"sans-serif\" font-size=\"14\" font-weight=\"bold\" lengthAdjust=\"spacingAndGlyphs\" textLength=\"619\" x=\"5\" y=\"203.2656\">portout \"$result\" as E2  [[psysml:48b93896-3893-47bc-bfb4-82205587ec17 ]]</text><text fill=\"#33FF02\" font-family=\"sans-serif\" font-size=\"14\" font-weight=\"bold\" lengthAdjust=\"spacingAndGlyphs\" textLength=\"859\" x=\"5\" y=\"219.5625\">rec usage \"test x\" as E3  &lt;&lt;(T,blue)decisionNode&gt;&gt; [[psysml:e5d2d3ea-f48f-4426-8e8b-470a03ae9129 ]] {</text><text fill=\"#33FF02\" font-family=\"sans-serif\" font-size=\"14\" font-weight=\"bold\" lengthAdjust=\"spacingAndGlyphs\" textLength=\"10\" x=\"5\" y=\"235.8594\">}</text><text fill=\"#33FF02\" font-family=\"sans-serif\" font-size=\"14\" font-weight=\"bold\" lengthAdjust=\"spacingAndGlyphs\" textLength=\"0\" x=\"10\" y=\"252.1563\"/><text fill=\"#33FF02\" font-family=\"sans-serif\" font-size=\"14\" font-weight=\"bold\" lengthAdjust=\"spacingAndGlyphs\" textLength=\"10\" x=\"5\" y=\"268.4531\">{</text><text fill=\"#FF0000\" font-family=\"sans-serif\" font-size=\"14\" font-weight=\"bold\" lengthAdjust=\"spacingAndGlyphs\" textLength=\"106\" x=\"10\" y=\"284.75\">Syntax Error?</text><!--MD5=[177ac54def3a3bf8006a8b66c0b784ca]\n",
       "@startuml\r\n",
       "top to bottom direction\r\n",
       "skinparam monochrome true\r\n",
       "skinparam classbackgroundcolor white\r\n",
       "skinparam shadowing false\r\n",
       "skinparam wrapWidth 300\r\n",
       "hide circle\r\n",
       "\r\n",
       "rec def \"DecisionTest\" as E1  <<(T,blue)action def>> [[psysml:b2f18a0c-e7e8-4f9b-8be8-69c1ee721482 ]] {\r\n",
       "portout \"$result\" as E2  [[psysml:48b93896-3893-47bc-bfb4-82205587ec17 ]] \r\n",
       "rec usage \"test x\" as E3  <<(T,blue)decisionNode>> [[psysml:e5d2d3ea-f48f-4426-8e8b-470a03ae9129 ]] {\r\n",
       "}\r\n",
       "\r\n",
       "{\r\n",
       "portout \"$result\" as E4  [[psysml:4b8ded41-753f-4321-9638-6238d10e7c80 ]] \r\n",
       "portin \"$x\" as E5  [[psysml:a7b14f91-b01b-46a8-a467-34455cb469c8 ]] \r\n",
       "portin \"$y\" as E6  [[psysml:5152b66c-9655-4578-b3e0-a1abffd52221 ]] \r\n",
       "portout \"$result\" as E7  [[psysml:4920d9f2-11b6-40e8-8f3b-51b5a6d86cfe ]] \r\n",
       "}\r\n",
       "\r\n",
       "{\r\n",
       "portout \"$result\" as E8  [[psysml:299014ef-2d5d-4d16-b133-5999efd30129 ]] \r\n",
       "portin \"$x\" as E9  [[psysml:06a6ed26-9ce9-4d08-906d-b2050b8e915c ]] \r\n",
       "portin \"$y\" as E10  [[psysml:5469b116-bf46-4216-bf8a-03dc856fdd9f ]] \r\n",
       "portout \"$result\" as E11  [[psysml:71834102-980a-4495-ab1e-6e2e09d248cc ]] \r\n",
       "}\r\n",
       "\r\n",
       "{\r\n",
       "}\r\n",
       "\r\n",
       "{\r\n",
       "}\r\n",
       "\r\n",
       "{\r\n",
       "portout \"$result\" as E12  [[psysml:f7c1e883-5939-48d9-8b79-1dd5526a379a ]] \r\n",
       "}\r\n",
       "\r\n",
       "{\r\n",
       "portout \"$result\" as E13  [[psysml:c31efe23-02f2-4c3d-bb99-9ef28e999a1c ]] \r\n",
       "}\r\n",
       "\r\n",
       "rec usage \"A1\" as E14  <<(T,blue)action>> [[psysml:83c05d54-f6d6-494a-833f-554dd37c4623 ]] {\r\n",
       "}\r\n",
       "\r\n",
       "rec usage \"A2\" as E15  <<(T,blue)action>> [[psysml:7dcb7014-cff9-44fa-9aa1-11f878021657 ]] {\r\n",
       "}\r\n",
       "\r\n",
       "rec usage \"A3\" as E16  <<(T,blue)action>> [[psysml:685b0fa1-42be-43fa-8250-fe6c84a18423 ]] {\r\n",
       "}\r\n",
       "\r\n",
       "rec usage \"S\" as E17  <<(T,blue)transition>> [[psysml:94783800-53cc-4e6d-883a-cc9d9c3ccfae ]] {\r\n",
       "rec usage \"A1\" as E18  <<(T,blue)action>> [[psysml:83c05d54-f6d6-494a-833f-554dd37c4623 ]] {\r\n",
       "}\r\n",
       "\r\n",
       "portout \"$result\" as E19  [[psysml:59943b31-a3c9-4e0b-a1a5-a807d88f74d6 ]] \r\n",
       "portin \"$x\" as E20  [[psysml:f56aed3e-0abf-415b-8307-7ce602886a4e ]] \r\n",
       "portin \"$y\" as E21  [[psysml:4a073027-8566-43d2-b22e-daad3da22329 ]] \r\n",
       "portout \"$result\" as E22  [[psysml:a62ac8b0-eaf6-4adc-9f14-e1e54df6c395 ]] \r\n",
       "}\r\n",
       "\r\n",
       "rec usage \"A3\" as E23  <<(T,blue)action>> [[psysml:685b0fa1-42be-43fa-8250-fe6c84a18423 ]] {\r\n",
       "}\r\n",
       "\r\n",
       "{\r\n",
       "portout \"$result\" as E24  [[psysml:98937697-67bb-45ee-8fed-5abb392c3fdb ]] \r\n",
       "portin \"$x\" as E25  [[psysml:a977dc00-242a-40b3-b9da-606e563c8c3f ]] \r\n",
       "portin \"$y\" as E26  [[psysml:ab4e429e-9a1f-45c8-b892-c2c8dcefbe2f ]] \r\n",
       "portout \"$result\" as E27  [[psysml:2734cb04-9b51-40b2-9042-069cd5d9688c ]] \r\n",
       "}\r\n",
       "\r\n",
       "}\r\n",
       "\r\n",
       "E6 -[thickness=5]- E4 [[psysml:60a3d248-455c-4b27-8c43-fdde339bf8bd ]] \r\n",
       "E10 -[thickness=5]- E8 [[psysml:985ddca8-3639-4ad8-9c42-b0c44e866ff3 ]] \r\n",
       "E21 -[thickness=5]- E19 [[psysml:246fdd7b-2672-46ea-b421-02bbe449818a ]] \r\n",
       "E26 -[thickness=5]- E24 [[psysml:b7d97414-dcb8-4731-9734-ffccd7d52e37 ]] \r\n",
       "@enduml\r\n",
       "\n",
       "PlantUML version 1.2020.13(Sat Jun 13 12:26:38 UTC 2020)\n",
       "(EPL source distribution)\n",
       "Java Runtime: OpenJDK Runtime Environment\n",
       "JVM: OpenJDK 64-Bit Server VM\n",
       "Default Encoding: UTF-8\n",
       "Language: en\n",
       "Country: null\n",
       "--></g></svg>"
      ]
     },
     "execution_count": 44,
     "metadata": {},
     "output_type": "execute_result"
    }
   ],
   "source": [
    "%viz --style=\"TB\" --view=\"Default\" \"DecisionTest\""
   ]
  },
  {
   "cell_type": "code",
   "execution_count": 45,
   "id": "embedded-remove",
   "metadata": {
    "execution": {
     "iopub.execute_input": "2021-03-25T15:07:24.997672Z",
     "iopub.status.busy": "2021-03-25T15:07:24.997129Z",
     "iopub.status.idle": "2021-03-25T15:07:25.357964Z",
     "shell.execute_reply": "2021-03-25T15:07:25.358488Z"
    }
   },
   "outputs": [
    {
     "data": {
      "image/svg+xml": [
       "<?xml version=\"1.0\" encoding=\"UTF-8\" standalone=\"no\"?><svg xmlns=\"http://www.w3.org/2000/svg\" xmlns:xlink=\"http://www.w3.org/1999/xlink\" contentScriptType=\"application/ecmascript\" contentStyleType=\"text/css\" height=\"207px\" preserveAspectRatio=\"none\" style=\"width:109px;height:207px;\" version=\"1.1\" viewBox=\"0 0 109 207\" width=\"109px\" zoomAndPan=\"magnify\"><defs/><g><!--MD5=[43c9051892ef23e1a46a86907403d788]\n",
       "class E1--><a href=\"psysml:b2f18a0c-e7e8-4f9b-8be8-69c1ee721482\" target=\"_top\" title=\"psysml:b2f18a0c-e7e8-4f9b-8be8-69c1ee721482\" xlink:actuate=\"onRequest\" xlink:href=\"psysml:b2f18a0c-e7e8-4f9b-8be8-69c1ee721482\" xlink:show=\"new\" xlink:title=\"psysml:b2f18a0c-e7e8-4f9b-8be8-69c1ee721482\" xlink:type=\"simple\"><rect fill=\"#FFFFFF\" height=\"189.9844\" id=\"E1\" style=\"stroke: #383838; stroke-width: 1.5;\" width=\"91\" x=\"7\" y=\"7\"/><text fill=\"#000000\" font-family=\"sans-serif\" font-size=\"12\" font-style=\"italic\" lengthAdjust=\"spacingAndGlyphs\" textLength=\"77\" x=\"14\" y=\"23.1387\">«action def»</text><text fill=\"#000000\" font-family=\"sans-serif\" font-size=\"12\" lengthAdjust=\"spacingAndGlyphs\" textLength=\"80\" x=\"12.5\" y=\"37.1074\">DecisionTest</text><line style=\"stroke: #383838; stroke-width: 1.5;\" x1=\"8\" x2=\"97\" y1=\"44.9375\" y2=\"44.9375\"/><text fill=\"#000000\" font-family=\"sans-serif\" font-size=\"11\" lengthAdjust=\"spacingAndGlyphs\" textLength=\"6\" x=\"13\" y=\"75.9526\">x</text><line style=\"stroke: #383838; stroke-width: 1.0;\" x1=\"8\" x2=\"25\" y1=\"59.3398\" y2=\"59.3398\"/><text fill=\"#000000\" font-family=\"sans-serif\" font-size=\"11\" lengthAdjust=\"spacingAndGlyphs\" textLength=\"55\" x=\"25\" y=\"62.6479\">attributes</text><line style=\"stroke: #383838; stroke-width: 1.0;\" x1=\"80\" x2=\"97\" y1=\"59.3398\" y2=\"59.3398\"/><text fill=\"#000000\" font-family=\"sans-serif\" font-size=\"11\" lengthAdjust=\"spacingAndGlyphs\" textLength=\"14\" x=\"13\" y=\"105.562\">A1</text><text fill=\"#000000\" font-family=\"sans-serif\" font-size=\"11\" lengthAdjust=\"spacingAndGlyphs\" textLength=\"14\" x=\"13\" y=\"118.3667\">A2</text><text fill=\"#000000\" font-family=\"sans-serif\" font-size=\"11\" lengthAdjust=\"spacingAndGlyphs\" textLength=\"14\" x=\"13\" y=\"131.1714\">A3</text><line style=\"stroke: #383838; stroke-width: 1.0;\" x1=\"8\" x2=\"32\" y1=\"88.9492\" y2=\"88.9492\"/><text fill=\"#000000\" font-family=\"sans-serif\" font-size=\"11\" lengthAdjust=\"spacingAndGlyphs\" textLength=\"41\" x=\"32\" y=\"92.2573\">actions</text><line style=\"stroke: #383838; stroke-width: 1.0;\" x1=\"73\" x2=\"97\" y1=\"88.9492\" y2=\"88.9492\"/><text fill=\"#000000\" font-family=\"sans-serif\" font-size=\"11\" lengthAdjust=\"spacingAndGlyphs\" textLength=\"32\" x=\"13\" y=\"160.7808\">test x</text><line style=\"stroke: #383838; stroke-width: 1.0;\" x1=\"8\" x2=\"11\" y1=\"144.168\" y2=\"144.168\"/><text fill=\"#000000\" font-family=\"sans-serif\" font-size=\"11\" lengthAdjust=\"spacingAndGlyphs\" textLength=\"83\" x=\"11\" y=\"147.4761\">decisionNodes</text><line style=\"stroke: #383838; stroke-width: 1.0;\" x1=\"94\" x2=\"97\" y1=\"144.168\" y2=\"144.168\"/><text fill=\"#000000\" font-family=\"sans-serif\" font-size=\"11\" lengthAdjust=\"spacingAndGlyphs\" textLength=\"8\" x=\"13\" y=\"190.3901\">S</text><line style=\"stroke: #383838; stroke-width: 1.0;\" x1=\"8\" x2=\"22\" y1=\"173.7773\" y2=\"173.7773\"/><text fill=\"#000000\" font-family=\"sans-serif\" font-size=\"11\" lengthAdjust=\"spacingAndGlyphs\" textLength=\"61\" x=\"22\" y=\"177.0854\">transitions</text><line style=\"stroke: #383838; stroke-width: 1.0;\" x1=\"83\" x2=\"97\" y1=\"173.7773\" y2=\"173.7773\"/></a><!--MD5=[1dd04ca6b234dbc0c818b684cb0cb133]\n",
       "@startuml\r\n",
       "top to bottom direction\r\n",
       "skinparam monochrome true\r\n",
       "skinparam classbackgroundcolor white\r\n",
       "skinparam shadowing false\r\n",
       "skinparam wrapWidth 300\r\n",
       "hide circle\r\n",
       "\r\n",
       "comp def \"DecisionTest\" as E1  <<(T,blue)action def>> [[psysml:b2f18a0c-e7e8-4f9b-8be8-69c1ee721482 ]] {\r\n",
       "- - attributes - -\r\n",
       "x\r\n",
       "- - actions - -\r\n",
       "A1\r\n",
       "A2\r\n",
       "A3\r\n",
       "- - decisionNodes - -\r\n",
       "test x\r\n",
       "- - transitions - -\r\n",
       "S\r\n",
       "}\r\n",
       "@enduml\r\n",
       "\n",
       "PlantUML version 1.2020.13(Sat Jun 13 12:26:38 UTC 2020)\n",
       "(EPL source distribution)\n",
       "Java Runtime: OpenJDK Runtime Environment\n",
       "JVM: OpenJDK 64-Bit Server VM\n",
       "Default Encoding: UTF-8\n",
       "Language: en\n",
       "Country: null\n",
       "--></g></svg>"
      ]
     },
     "execution_count": 45,
     "metadata": {},
     "output_type": "execute_result"
    }
   ],
   "source": [
    "%viz --style=\"TB\" --view=\"Tree\" \"DecisionTest\""
   ]
  },
  {
   "cell_type": "code",
   "execution_count": 46,
   "id": "organizational-evans",
   "metadata": {
    "execution": {
     "iopub.execute_input": "2021-03-25T15:07:25.408907Z",
     "iopub.status.busy": "2021-03-25T15:07:25.408339Z",
     "iopub.status.idle": "2021-03-25T15:07:25.414666Z",
     "shell.execute_reply": "2021-03-25T15:07:25.415104Z"
    }
   },
   "outputs": [
    {
     "data": {
      "image/svg+xml": [
       "<?xml version=\"1.0\" encoding=\"UTF-8\" standalone=\"no\"?><svg xmlns=\"http://www.w3.org/2000/svg\" xmlns:xlink=\"http://www.w3.org/1999/xlink\" contentScriptType=\"application/ecmascript\" contentStyleType=\"text/css\" height=\"12px\" preserveAspectRatio=\"none\" style=\"width:12px;height:12px;\" version=\"1.1\" viewBox=\"0 0 12 12\" width=\"12px\" zoomAndPan=\"magnify\"><defs/><g><!--MD5=[f4ee21bc66e489b5061b7c3e9601fdef]\n",
       "@startuml\r\n",
       "top to bottom direction\r\n",
       "skinparam monochrome true\r\n",
       "skinparam classbackgroundcolor white\r\n",
       "skinparam shadowing false\r\n",
       "skinparam wrapWidth 300\r\n",
       "hide circle\r\n",
       "\r\n",
       "@enduml\r\n",
       "\n",
       "PlantUML version 1.2020.13(Sat Jun 13 12:26:38 UTC 2020)\n",
       "(EPL source distribution)\n",
       "Java Runtime: OpenJDK Runtime Environment\n",
       "JVM: OpenJDK 64-Bit Server VM\n",
       "Default Encoding: UTF-8\n",
       "Language: en\n",
       "Country: null\n",
       "--></g></svg>"
      ]
     },
     "execution_count": 46,
     "metadata": {},
     "output_type": "execute_result"
    }
   ],
   "source": [
    "%viz --style=\"TB\" --view=\"State\" \"DecisionTest\""
   ]
  },
  {
   "cell_type": "code",
   "execution_count": 47,
   "id": "demographic-academy",
   "metadata": {
    "execution": {
     "iopub.execute_input": "2021-03-25T15:07:25.466049Z",
     "iopub.status.busy": "2021-03-25T15:07:25.465551Z",
     "iopub.status.idle": "2021-03-25T15:07:25.494412Z",
     "shell.execute_reply": "2021-03-25T15:07:25.494889Z"
    }
   },
   "outputs": [
    {
     "data": {
      "image/svg+xml": [
       "<?xml version=\"1.0\" encoding=\"UTF-8\" standalone=\"no\"?><svg xmlns=\"http://www.w3.org/2000/svg\" xmlns:xlink=\"http://www.w3.org/1999/xlink\" contentScriptType=\"application/ecmascript\" contentStyleType=\"text/css\" height=\"71px\" preserveAspectRatio=\"none\" style=\"width:145px;height:71px;\" version=\"1.1\" viewBox=\"0 0 145 71\" width=\"145px\" zoomAndPan=\"magnify\"><defs/><g><!--MD5=[43c9051892ef23e1a46a86907403d788]\n",
       "class E1--><a href=\"psysml:b2f18a0c-e7e8-4f9b-8be8-69c1ee721482\" target=\"_top\" title=\"psysml:b2f18a0c-e7e8-4f9b-8be8-69c1ee721482\" xlink:actuate=\"onRequest\" xlink:href=\"psysml:b2f18a0c-e7e8-4f9b-8be8-69c1ee721482\" xlink:show=\"new\" xlink:title=\"psysml:b2f18a0c-e7e8-4f9b-8be8-69c1ee721482\" xlink:type=\"simple\"><rect fill=\"#FFFFFF\" height=\"53.9375\" id=\"E1\" style=\"stroke: #383838; stroke-width: 1.5;\" width=\"127\" x=\"7\" y=\"7\"/><text fill=\"#000000\" font-family=\"sans-serif\" font-size=\"12\" font-style=\"italic\" lengthAdjust=\"spacingAndGlyphs\" textLength=\"125\" x=\"8\" y=\"23.1387\">«(T,blue)action def»</text><text fill=\"#000000\" font-family=\"sans-serif\" font-size=\"12\" lengthAdjust=\"spacingAndGlyphs\" textLength=\"80\" x=\"30.5\" y=\"37.1074\">DecisionTest</text><line style=\"stroke: #383838; stroke-width: 1.5;\" x1=\"8\" x2=\"133\" y1=\"44.9375\" y2=\"44.9375\"/><line style=\"stroke: #383838; stroke-width: 1.5;\" x1=\"8\" x2=\"133\" y1=\"52.9375\" y2=\"52.9375\"/></a><!--MD5=[8fb53fffccccf4c5dffef2235f372176]\n",
       "@startuml\r\n",
       "skinparam ranksep 8\r\n",
       "skinparam rectangle {\r\n",
       " backgroundColor<<block>> LightGreen\r\n",
       "}\r\n",
       "top to bottom direction\r\n",
       "skinparam monochrome true\r\n",
       "skinparam classbackgroundcolor white\r\n",
       "skinparam shadowing false\r\n",
       "skinparam wrapWidth 300\r\n",
       "hide circle\r\n",
       "\r\n",
       "def \"DecisionTest\" as E1  <<(T,blue)action def>> [[psysml:b2f18a0c-e7e8-4f9b-8be8-69c1ee721482 ]] \r\n",
       "@enduml\r\n",
       "\n",
       "PlantUML version 1.2020.13(Sat Jun 13 12:26:38 UTC 2020)\n",
       "(EPL source distribution)\n",
       "Java Runtime: OpenJDK Runtime Environment\n",
       "JVM: OpenJDK 64-Bit Server VM\n",
       "Default Encoding: UTF-8\n",
       "Language: en\n",
       "Country: null\n",
       "--></g></svg>"
      ]
     },
     "execution_count": 47,
     "metadata": {},
     "output_type": "execute_result"
    }
   ],
   "source": [
    "%viz --style=\"TB\" --view=\"Interconnection\" \"DecisionTest\""
   ]
  },
  {
   "cell_type": "code",
   "execution_count": 48,
   "id": "animated-packet",
   "metadata": {
    "execution": {
     "iopub.execute_input": "2021-03-25T15:07:25.544956Z",
     "iopub.status.busy": "2021-03-25T15:07:25.544421Z",
     "iopub.status.idle": "2021-03-25T15:07:25.567990Z",
     "shell.execute_reply": "2021-03-25T15:07:25.567382Z"
    }
   },
   "outputs": [
    {
     "data": {
      "image/svg+xml": [
       "<?xml version=\"1.0\" encoding=\"UTF-8\" standalone=\"no\"?><svg xmlns=\"http://www.w3.org/2000/svg\" xmlns:xlink=\"http://www.w3.org/1999/xlink\" contentScriptType=\"application/ecmascript\" contentStyleType=\"text/css\" height=\"304px\" preserveAspectRatio=\"none\" style=\"width:873px;height:304px;background:#000000;\" version=\"1.1\" viewBox=\"0 0 873 304\" width=\"873px\" zoomAndPan=\"magnify\"><defs/><g><rect fill=\"#24271E\" height=\"1\" style=\"stroke: #24271E; stroke-width: 1.0;\" width=\"1\" x=\"0\" y=\"0\"/><rect fill=\"#33FF02\" height=\"21.2969\" style=\"stroke: #33FF02; stroke-width: 1.0;\" width=\"866\" x=\"5\" y=\"5\"/><text fill=\"#000000\" font-family=\"sans-serif\" font-size=\"14\" font-weight=\"bold\" lengthAdjust=\"spacingAndGlyphs\" textLength=\"178\" x=\"6\" y=\"20\">[From string (line 15) ]</text><text fill=\"#33FF02\" font-family=\"sans-serif\" font-size=\"14\" font-weight=\"bold\" lengthAdjust=\"spacingAndGlyphs\" textLength=\"0\" x=\"10\" y=\"40.2969\"/><text fill=\"#33FF02\" font-family=\"sans-serif\" font-size=\"14\" font-weight=\"bold\" lengthAdjust=\"spacingAndGlyphs\" textLength=\"79\" x=\"5\" y=\"56.5938\">@startuml</text><text fill=\"#33FF02\" font-family=\"sans-serif\" font-size=\"14\" font-weight=\"bold\" lengthAdjust=\"spacingAndGlyphs\" textLength=\"165\" x=\"5\" y=\"72.8906\">skinparam ranksep 8</text><text fill=\"#33FF02\" font-family=\"sans-serif\" font-size=\"14\" font-weight=\"bold\" lengthAdjust=\"spacingAndGlyphs\" textLength=\"183\" x=\"5\" y=\"89.1875\">top to bottom direction</text><text fill=\"#33FF02\" font-family=\"sans-serif\" font-size=\"14\" font-weight=\"bold\" lengthAdjust=\"spacingAndGlyphs\" textLength=\"228\" x=\"5\" y=\"105.4844\">skinparam monochrome true</text><text fill=\"#33FF02\" font-family=\"sans-serif\" font-size=\"14\" font-weight=\"bold\" lengthAdjust=\"spacingAndGlyphs\" textLength=\"309\" x=\"5\" y=\"121.7813\">skinparam classbackgroundcolor white</text><text fill=\"#33FF02\" font-family=\"sans-serif\" font-size=\"14\" font-weight=\"bold\" lengthAdjust=\"spacingAndGlyphs\" textLength=\"215\" x=\"5\" y=\"138.0781\">skinparam shadowing false</text><text fill=\"#33FF02\" font-family=\"sans-serif\" font-size=\"14\" font-weight=\"bold\" lengthAdjust=\"spacingAndGlyphs\" textLength=\"206\" x=\"5\" y=\"154.375\">skinparam wrapWidth 300</text><text fill=\"#33FF02\" font-family=\"sans-serif\" font-size=\"14\" font-weight=\"bold\" lengthAdjust=\"spacingAndGlyphs\" textLength=\"82\" x=\"5\" y=\"170.6719\">hide circle</text><text fill=\"#33FF02\" font-family=\"sans-serif\" font-size=\"14\" font-weight=\"bold\" lengthAdjust=\"spacingAndGlyphs\" textLength=\"0\" x=\"10\" y=\"186.9688\"/><text fill=\"#33FF02\" font-family=\"sans-serif\" font-size=\"14\" font-weight=\"bold\" lengthAdjust=\"spacingAndGlyphs\" textLength=\"866\" x=\"5\" y=\"203.2656\">rec def \"DecisionTest\" as E1  &lt;&lt;(T,blue)action def&gt;&gt; [[psysml:b2f18a0c-e7e8-4f9b-8be8-69c1ee721482 ]] {</text><text fill=\"#33FF02\" font-family=\"sans-serif\" font-size=\"14\" font-weight=\"bold\" lengthAdjust=\"spacingAndGlyphs\" textLength=\"619\" x=\"5\" y=\"219.5625\">portout \"$result\" as E2  [[psysml:48b93896-3893-47bc-bfb4-82205587ec17 ]]</text><text fill=\"#33FF02\" font-family=\"sans-serif\" font-size=\"14\" font-weight=\"bold\" lengthAdjust=\"spacingAndGlyphs\" textLength=\"859\" x=\"5\" y=\"235.8594\">rec usage \"test x\" as E3  &lt;&lt;(T,blue)decisionNode&gt;&gt; [[psysml:e5d2d3ea-f48f-4426-8e8b-470a03ae9129 ]] {</text><text fill=\"#33FF02\" font-family=\"sans-serif\" font-size=\"14\" font-weight=\"bold\" lengthAdjust=\"spacingAndGlyphs\" textLength=\"10\" x=\"5\" y=\"252.1563\">}</text><text fill=\"#33FF02\" font-family=\"sans-serif\" font-size=\"14\" font-weight=\"bold\" lengthAdjust=\"spacingAndGlyphs\" textLength=\"0\" x=\"10\" y=\"268.4531\"/><text fill=\"#33FF02\" font-family=\"sans-serif\" font-size=\"14\" font-weight=\"bold\" lengthAdjust=\"spacingAndGlyphs\" textLength=\"10\" x=\"5\" y=\"284.75\">{</text><text fill=\"#FF0000\" font-family=\"sans-serif\" font-size=\"14\" font-weight=\"bold\" lengthAdjust=\"spacingAndGlyphs\" textLength=\"106\" x=\"10\" y=\"301.0469\">Syntax Error?</text><!--MD5=[bf4cb3e205212cfb2886b2be8639f4fa]\n",
       "@startuml\r\n",
       "skinparam ranksep 8\r\n",
       "top to bottom direction\r\n",
       "skinparam monochrome true\r\n",
       "skinparam classbackgroundcolor white\r\n",
       "skinparam shadowing false\r\n",
       "skinparam wrapWidth 300\r\n",
       "hide circle\r\n",
       "\r\n",
       "rec def \"DecisionTest\" as E1  <<(T,blue)action def>> [[psysml:b2f18a0c-e7e8-4f9b-8be8-69c1ee721482 ]] {\r\n",
       "portout \"$result\" as E2  [[psysml:48b93896-3893-47bc-bfb4-82205587ec17 ]] \r\n",
       "rec usage \"test x\" as E3  <<(T,blue)decisionNode>> [[psysml:e5d2d3ea-f48f-4426-8e8b-470a03ae9129 ]] {\r\n",
       "}\r\n",
       "\r\n",
       "{\r\n",
       "portout \"$result\" as E4  [[psysml:4b8ded41-753f-4321-9638-6238d10e7c80 ]] \r\n",
       "portin \"$x\" as E5  [[psysml:a7b14f91-b01b-46a8-a467-34455cb469c8 ]] \r\n",
       "portin \"$y\" as E6  [[psysml:5152b66c-9655-4578-b3e0-a1abffd52221 ]] \r\n",
       "portout \"$result\" as E7  [[psysml:4920d9f2-11b6-40e8-8f3b-51b5a6d86cfe ]] \r\n",
       "}\r\n",
       "\r\n",
       "{\r\n",
       "portout \"$result\" as E8  [[psysml:299014ef-2d5d-4d16-b133-5999efd30129 ]] \r\n",
       "portin \"$x\" as E9  [[psysml:06a6ed26-9ce9-4d08-906d-b2050b8e915c ]] \r\n",
       "portin \"$y\" as E10  [[psysml:5469b116-bf46-4216-bf8a-03dc856fdd9f ]] \r\n",
       "portout \"$result\" as E11  [[psysml:71834102-980a-4495-ab1e-6e2e09d248cc ]] \r\n",
       "}\r\n",
       "\r\n",
       "{\r\n",
       "}\r\n",
       "\r\n",
       "{\r\n",
       "}\r\n",
       "\r\n",
       "{\r\n",
       "portout \"$result\" as E12  [[psysml:f7c1e883-5939-48d9-8b79-1dd5526a379a ]] \r\n",
       "}\r\n",
       "\r\n",
       "{\r\n",
       "portout \"$result\" as E13  [[psysml:c31efe23-02f2-4c3d-bb99-9ef28e999a1c ]] \r\n",
       "}\r\n",
       "\r\n",
       "rec usage \"A1\" as E14  <<(T,blue)action>> [[psysml:83c05d54-f6d6-494a-833f-554dd37c4623 ]] {\r\n",
       "}\r\n",
       "\r\n",
       "rec usage \"A2\" as E15  <<(T,blue)action>> [[psysml:7dcb7014-cff9-44fa-9aa1-11f878021657 ]] {\r\n",
       "}\r\n",
       "\r\n",
       "rec usage \"A3\" as E16  <<(T,blue)action>> [[psysml:685b0fa1-42be-43fa-8250-fe6c84a18423 ]] {\r\n",
       "}\r\n",
       "\r\n",
       "rec usage \"S\" as E17  <<(T,blue)transition>> [[psysml:94783800-53cc-4e6d-883a-cc9d9c3ccfae ]] {\r\n",
       "rec usage \"A1\" as E18  <<(T,blue)action>> [[psysml:83c05d54-f6d6-494a-833f-554dd37c4623 ]] {\r\n",
       "}\r\n",
       "\r\n",
       "portout \"$result\" as E19  [[psysml:59943b31-a3c9-4e0b-a1a5-a807d88f74d6 ]] \r\n",
       "portin \"$x\" as E20  [[psysml:f56aed3e-0abf-415b-8307-7ce602886a4e ]] \r\n",
       "portin \"$y\" as E21  [[psysml:4a073027-8566-43d2-b22e-daad3da22329 ]] \r\n",
       "portout \"$result\" as E22  [[psysml:a62ac8b0-eaf6-4adc-9f14-e1e54df6c395 ]] \r\n",
       "}\r\n",
       "\r\n",
       "rec usage \"A3\" as E23  <<(T,blue)action>> [[psysml:685b0fa1-42be-43fa-8250-fe6c84a18423 ]] {\r\n",
       "}\r\n",
       "\r\n",
       "{\r\n",
       "portout \"$result\" as E24  [[psysml:98937697-67bb-45ee-8fed-5abb392c3fdb ]] \r\n",
       "portin \"$x\" as E25  [[psysml:a977dc00-242a-40b3-b9da-606e563c8c3f ]] \r\n",
       "portin \"$y\" as E26  [[psysml:ab4e429e-9a1f-45c8-b892-c2c8dcefbe2f ]] \r\n",
       "portout \"$result\" as E27  [[psysml:2734cb04-9b51-40b2-9042-069cd5d9688c ]] \r\n",
       "}\r\n",
       "\r\n",
       "}\r\n",
       "\r\n",
       "E6 -[thickness=5]- E4 [[psysml:60a3d248-455c-4b27-8c43-fdde339bf8bd ]] \r\n",
       "E10 -[thickness=5]- E8 [[psysml:985ddca8-3639-4ad8-9c42-b0c44e866ff3 ]] \r\n",
       "E21 -[thickness=5]- E19 [[psysml:246fdd7b-2672-46ea-b421-02bbe449818a ]] \r\n",
       "E26 -[thickness=5]- E24 [[psysml:b7d97414-dcb8-4731-9734-ffccd7d52e37 ]] \r\n",
       "@enduml\r\n",
       "\n",
       "PlantUML version 1.2020.13(Sat Jun 13 12:26:38 UTC 2020)\n",
       "(EPL source distribution)\n",
       "Java Runtime: OpenJDK Runtime Environment\n",
       "JVM: OpenJDK 64-Bit Server VM\n",
       "Default Encoding: UTF-8\n",
       "Language: en\n",
       "Country: null\n",
       "--></g></svg>"
      ]
     },
     "execution_count": 48,
     "metadata": {},
     "output_type": "execute_result"
    }
   ],
   "source": [
    "%viz --style=\"TB\" --view=\"Action\" \"DecisionTest\""
   ]
  },
  {
   "cell_type": "code",
   "execution_count": 49,
   "id": "allied-glasgow",
   "metadata": {
    "execution": {
     "iopub.execute_input": "2021-03-25T15:07:25.618761Z",
     "iopub.status.busy": "2021-03-25T15:07:25.617714Z",
     "iopub.status.idle": "2021-03-25T15:07:25.976623Z",
     "shell.execute_reply": "2021-03-25T15:07:25.976265Z"
    }
   },
   "outputs": [
    {
     "data": {
      "image/svg+xml": [
       "<?xml version=\"1.0\" encoding=\"UTF-8\" standalone=\"no\"?><svg xmlns=\"http://www.w3.org/2000/svg\" xmlns:xlink=\"http://www.w3.org/1999/xlink\" contentScriptType=\"application/ecmascript\" contentStyleType=\"text/css\" height=\"207px\" preserveAspectRatio=\"none\" style=\"width:109px;height:207px;\" version=\"1.1\" viewBox=\"0 0 109 207\" width=\"109px\" zoomAndPan=\"magnify\"><defs/><g><!--MD5=[43c9051892ef23e1a46a86907403d788]\n",
       "class E1--><a href=\"psysml:b2f18a0c-e7e8-4f9b-8be8-69c1ee721482\" target=\"_top\" title=\"psysml:b2f18a0c-e7e8-4f9b-8be8-69c1ee721482\" xlink:actuate=\"onRequest\" xlink:href=\"psysml:b2f18a0c-e7e8-4f9b-8be8-69c1ee721482\" xlink:show=\"new\" xlink:title=\"psysml:b2f18a0c-e7e8-4f9b-8be8-69c1ee721482\" xlink:type=\"simple\"><rect fill=\"#FFFFFF\" height=\"189.9844\" id=\"E1\" style=\"stroke: #383838; stroke-width: 1.5;\" width=\"91\" x=\"7\" y=\"7\"/><text fill=\"#000000\" font-family=\"sans-serif\" font-size=\"12\" font-style=\"italic\" lengthAdjust=\"spacingAndGlyphs\" textLength=\"77\" x=\"14\" y=\"23.1387\">«action def»</text><text fill=\"#000000\" font-family=\"sans-serif\" font-size=\"12\" lengthAdjust=\"spacingAndGlyphs\" textLength=\"80\" x=\"12.5\" y=\"37.1074\">DecisionTest</text><line style=\"stroke: #383838; stroke-width: 1.5;\" x1=\"8\" x2=\"97\" y1=\"44.9375\" y2=\"44.9375\"/><text fill=\"#000000\" font-family=\"sans-serif\" font-size=\"11\" lengthAdjust=\"spacingAndGlyphs\" textLength=\"6\" x=\"13\" y=\"75.9526\">x</text><line style=\"stroke: #383838; stroke-width: 1.0;\" x1=\"8\" x2=\"25\" y1=\"59.3398\" y2=\"59.3398\"/><text fill=\"#000000\" font-family=\"sans-serif\" font-size=\"11\" lengthAdjust=\"spacingAndGlyphs\" textLength=\"55\" x=\"25\" y=\"62.6479\">attributes</text><line style=\"stroke: #383838; stroke-width: 1.0;\" x1=\"80\" x2=\"97\" y1=\"59.3398\" y2=\"59.3398\"/><text fill=\"#000000\" font-family=\"sans-serif\" font-size=\"11\" lengthAdjust=\"spacingAndGlyphs\" textLength=\"14\" x=\"13\" y=\"105.562\">A1</text><text fill=\"#000000\" font-family=\"sans-serif\" font-size=\"11\" lengthAdjust=\"spacingAndGlyphs\" textLength=\"14\" x=\"13\" y=\"118.3667\">A2</text><text fill=\"#000000\" font-family=\"sans-serif\" font-size=\"11\" lengthAdjust=\"spacingAndGlyphs\" textLength=\"14\" x=\"13\" y=\"131.1714\">A3</text><line style=\"stroke: #383838; stroke-width: 1.0;\" x1=\"8\" x2=\"32\" y1=\"88.9492\" y2=\"88.9492\"/><text fill=\"#000000\" font-family=\"sans-serif\" font-size=\"11\" lengthAdjust=\"spacingAndGlyphs\" textLength=\"41\" x=\"32\" y=\"92.2573\">actions</text><line style=\"stroke: #383838; stroke-width: 1.0;\" x1=\"73\" x2=\"97\" y1=\"88.9492\" y2=\"88.9492\"/><text fill=\"#000000\" font-family=\"sans-serif\" font-size=\"11\" lengthAdjust=\"spacingAndGlyphs\" textLength=\"32\" x=\"13\" y=\"160.7808\">test x</text><line style=\"stroke: #383838; stroke-width: 1.0;\" x1=\"8\" x2=\"11\" y1=\"144.168\" y2=\"144.168\"/><text fill=\"#000000\" font-family=\"sans-serif\" font-size=\"11\" lengthAdjust=\"spacingAndGlyphs\" textLength=\"83\" x=\"11\" y=\"147.4761\">decisionNodes</text><line style=\"stroke: #383838; stroke-width: 1.0;\" x1=\"94\" x2=\"97\" y1=\"144.168\" y2=\"144.168\"/><text fill=\"#000000\" font-family=\"sans-serif\" font-size=\"11\" lengthAdjust=\"spacingAndGlyphs\" textLength=\"8\" x=\"13\" y=\"190.3901\">S</text><line style=\"stroke: #383838; stroke-width: 1.0;\" x1=\"8\" x2=\"22\" y1=\"173.7773\" y2=\"173.7773\"/><text fill=\"#000000\" font-family=\"sans-serif\" font-size=\"11\" lengthAdjust=\"spacingAndGlyphs\" textLength=\"61\" x=\"22\" y=\"177.0854\">transitions</text><line style=\"stroke: #383838; stroke-width: 1.0;\" x1=\"83\" x2=\"97\" y1=\"173.7773\" y2=\"173.7773\"/></a><!--MD5=[1dd04ca6b234dbc0c818b684cb0cb133]\n",
       "@startuml\r\n",
       "top to bottom direction\r\n",
       "skinparam monochrome true\r\n",
       "skinparam classbackgroundcolor white\r\n",
       "skinparam shadowing false\r\n",
       "skinparam wrapWidth 300\r\n",
       "hide circle\r\n",
       "\r\n",
       "comp def \"DecisionTest\" as E1  <<(T,blue)action def>> [[psysml:b2f18a0c-e7e8-4f9b-8be8-69c1ee721482 ]] {\r\n",
       "- - attributes - -\r\n",
       "x\r\n",
       "- - actions - -\r\n",
       "A1\r\n",
       "A2\r\n",
       "A3\r\n",
       "- - decisionNodes - -\r\n",
       "test x\r\n",
       "- - transitions - -\r\n",
       "S\r\n",
       "}\r\n",
       "@enduml\r\n",
       "\n",
       "PlantUML version 1.2020.13(Sat Jun 13 12:26:38 UTC 2020)\n",
       "(EPL source distribution)\n",
       "Java Runtime: OpenJDK Runtime Environment\n",
       "JVM: OpenJDK 64-Bit Server VM\n",
       "Default Encoding: UTF-8\n",
       "Language: en\n",
       "Country: null\n",
       "--></g></svg>"
      ]
     },
     "execution_count": 49,
     "metadata": {},
     "output_type": "execute_result"
    }
   ],
   "source": [
    "%viz --style=\"TB\" --view=\"Sequence\" \"DecisionTest\""
   ]
  },
  {
   "cell_type": "code",
   "execution_count": 50,
   "id": "criminal-aggregate",
   "metadata": {
    "execution": {
     "iopub.execute_input": "2021-03-25T15:07:26.027417Z",
     "iopub.status.busy": "2021-03-25T15:07:26.026929Z",
     "iopub.status.idle": "2021-03-25T15:07:26.047843Z",
     "shell.execute_reply": "2021-03-25T15:07:26.046516Z"
    }
   },
   "outputs": [
    {
     "data": {
      "image/svg+xml": [
       "<?xml version=\"1.0\" encoding=\"UTF-8\" standalone=\"no\"?><svg xmlns=\"http://www.w3.org/2000/svg\" xmlns:xlink=\"http://www.w3.org/1999/xlink\" contentScriptType=\"application/ecmascript\" contentStyleType=\"text/css\" height=\"288px\" preserveAspectRatio=\"none\" style=\"width:873px;height:288px;background:#000000;\" version=\"1.1\" viewBox=\"0 0 873 288\" width=\"873px\" zoomAndPan=\"magnify\"><defs/><g><rect fill=\"#1D0C1D\" height=\"1\" style=\"stroke: #1D0C1D; stroke-width: 1.0;\" width=\"1\" x=\"0\" y=\"0\"/><rect fill=\"#33FF02\" height=\"21.2969\" style=\"stroke: #33FF02; stroke-width: 1.0;\" width=\"866\" x=\"5\" y=\"5\"/><text fill=\"#000000\" font-family=\"sans-serif\" font-size=\"14\" font-weight=\"bold\" lengthAdjust=\"spacingAndGlyphs\" textLength=\"178\" x=\"6\" y=\"20\">[From string (line 14) ]</text><text fill=\"#33FF02\" font-family=\"sans-serif\" font-size=\"14\" font-weight=\"bold\" lengthAdjust=\"spacingAndGlyphs\" textLength=\"0\" x=\"10\" y=\"40.2969\"/><text fill=\"#33FF02\" font-family=\"sans-serif\" font-size=\"14\" font-weight=\"bold\" lengthAdjust=\"spacingAndGlyphs\" textLength=\"79\" x=\"5\" y=\"56.5938\">@startuml</text><text fill=\"#33FF02\" font-family=\"sans-serif\" font-size=\"14\" font-weight=\"bold\" lengthAdjust=\"spacingAndGlyphs\" textLength=\"183\" x=\"5\" y=\"72.8906\">top to bottom direction</text><text fill=\"#33FF02\" font-family=\"sans-serif\" font-size=\"14\" font-weight=\"bold\" lengthAdjust=\"spacingAndGlyphs\" textLength=\"228\" x=\"5\" y=\"89.1875\">skinparam monochrome true</text><text fill=\"#33FF02\" font-family=\"sans-serif\" font-size=\"14\" font-weight=\"bold\" lengthAdjust=\"spacingAndGlyphs\" textLength=\"309\" x=\"5\" y=\"105.4844\">skinparam classbackgroundcolor white</text><text fill=\"#33FF02\" font-family=\"sans-serif\" font-size=\"14\" font-weight=\"bold\" lengthAdjust=\"spacingAndGlyphs\" textLength=\"215\" x=\"5\" y=\"121.7813\">skinparam shadowing false</text><text fill=\"#33FF02\" font-family=\"sans-serif\" font-size=\"14\" font-weight=\"bold\" lengthAdjust=\"spacingAndGlyphs\" textLength=\"206\" x=\"5\" y=\"138.0781\">skinparam wrapWidth 300</text><text fill=\"#33FF02\" font-family=\"sans-serif\" font-size=\"14\" font-weight=\"bold\" lengthAdjust=\"spacingAndGlyphs\" textLength=\"82\" x=\"5\" y=\"154.375\">hide circle</text><text fill=\"#33FF02\" font-family=\"sans-serif\" font-size=\"14\" font-weight=\"bold\" lengthAdjust=\"spacingAndGlyphs\" textLength=\"0\" x=\"10\" y=\"170.6719\"/><text fill=\"#33FF02\" font-family=\"sans-serif\" font-size=\"14\" font-weight=\"bold\" lengthAdjust=\"spacingAndGlyphs\" textLength=\"866\" x=\"5\" y=\"186.9688\">rec def \"DecisionTest\" as E1  &lt;&lt;(T,blue)action def&gt;&gt; [[psysml:b2f18a0c-e7e8-4f9b-8be8-69c1ee721482 ]] {</text><text fill=\"#33FF02\" font-family=\"sans-serif\" font-size=\"14\" font-weight=\"bold\" lengthAdjust=\"spacingAndGlyphs\" textLength=\"619\" x=\"5\" y=\"203.2656\">portout \"$result\" as E2  [[psysml:48b93896-3893-47bc-bfb4-82205587ec17 ]]</text><text fill=\"#33FF02\" font-family=\"sans-serif\" font-size=\"14\" font-weight=\"bold\" lengthAdjust=\"spacingAndGlyphs\" textLength=\"859\" x=\"5\" y=\"219.5625\">rec usage \"test x\" as E3  &lt;&lt;(T,blue)decisionNode&gt;&gt; [[psysml:e5d2d3ea-f48f-4426-8e8b-470a03ae9129 ]] {</text><text fill=\"#33FF02\" font-family=\"sans-serif\" font-size=\"14\" font-weight=\"bold\" lengthAdjust=\"spacingAndGlyphs\" textLength=\"10\" x=\"5\" y=\"235.8594\">}</text><text fill=\"#33FF02\" font-family=\"sans-serif\" font-size=\"14\" font-weight=\"bold\" lengthAdjust=\"spacingAndGlyphs\" textLength=\"0\" x=\"10\" y=\"252.1563\"/><text fill=\"#33FF02\" font-family=\"sans-serif\" font-size=\"14\" font-weight=\"bold\" lengthAdjust=\"spacingAndGlyphs\" textLength=\"10\" x=\"5\" y=\"268.4531\">{</text><text fill=\"#FF0000\" font-family=\"sans-serif\" font-size=\"14\" font-weight=\"bold\" lengthAdjust=\"spacingAndGlyphs\" textLength=\"106\" x=\"10\" y=\"284.75\">Syntax Error?</text><!--MD5=[177ac54def3a3bf8006a8b66c0b784ca]\n",
       "@startuml\r\n",
       "top to bottom direction\r\n",
       "skinparam monochrome true\r\n",
       "skinparam classbackgroundcolor white\r\n",
       "skinparam shadowing false\r\n",
       "skinparam wrapWidth 300\r\n",
       "hide circle\r\n",
       "\r\n",
       "rec def \"DecisionTest\" as E1  <<(T,blue)action def>> [[psysml:b2f18a0c-e7e8-4f9b-8be8-69c1ee721482 ]] {\r\n",
       "portout \"$result\" as E2  [[psysml:48b93896-3893-47bc-bfb4-82205587ec17 ]] \r\n",
       "rec usage \"test x\" as E3  <<(T,blue)decisionNode>> [[psysml:e5d2d3ea-f48f-4426-8e8b-470a03ae9129 ]] {\r\n",
       "}\r\n",
       "\r\n",
       "{\r\n",
       "portout \"$result\" as E4  [[psysml:4b8ded41-753f-4321-9638-6238d10e7c80 ]] \r\n",
       "portin \"$x\" as E5  [[psysml:a7b14f91-b01b-46a8-a467-34455cb469c8 ]] \r\n",
       "portin \"$y\" as E6  [[psysml:5152b66c-9655-4578-b3e0-a1abffd52221 ]] \r\n",
       "portout \"$result\" as E7  [[psysml:4920d9f2-11b6-40e8-8f3b-51b5a6d86cfe ]] \r\n",
       "}\r\n",
       "\r\n",
       "{\r\n",
       "portout \"$result\" as E8  [[psysml:299014ef-2d5d-4d16-b133-5999efd30129 ]] \r\n",
       "portin \"$x\" as E9  [[psysml:06a6ed26-9ce9-4d08-906d-b2050b8e915c ]] \r\n",
       "portin \"$y\" as E10  [[psysml:5469b116-bf46-4216-bf8a-03dc856fdd9f ]] \r\n",
       "portout \"$result\" as E11  [[psysml:71834102-980a-4495-ab1e-6e2e09d248cc ]] \r\n",
       "}\r\n",
       "\r\n",
       "{\r\n",
       "}\r\n",
       "\r\n",
       "{\r\n",
       "}\r\n",
       "\r\n",
       "{\r\n",
       "portout \"$result\" as E12  [[psysml:f7c1e883-5939-48d9-8b79-1dd5526a379a ]] \r\n",
       "}\r\n",
       "\r\n",
       "{\r\n",
       "portout \"$result\" as E13  [[psysml:c31efe23-02f2-4c3d-bb99-9ef28e999a1c ]] \r\n",
       "}\r\n",
       "\r\n",
       "rec usage \"A1\" as E14  <<(T,blue)action>> [[psysml:83c05d54-f6d6-494a-833f-554dd37c4623 ]] {\r\n",
       "}\r\n",
       "\r\n",
       "rec usage \"A2\" as E15  <<(T,blue)action>> [[psysml:7dcb7014-cff9-44fa-9aa1-11f878021657 ]] {\r\n",
       "}\r\n",
       "\r\n",
       "rec usage \"A3\" as E16  <<(T,blue)action>> [[psysml:685b0fa1-42be-43fa-8250-fe6c84a18423 ]] {\r\n",
       "}\r\n",
       "\r\n",
       "rec usage \"S\" as E17  <<(T,blue)transition>> [[psysml:94783800-53cc-4e6d-883a-cc9d9c3ccfae ]] {\r\n",
       "rec usage \"A1\" as E18  <<(T,blue)action>> [[psysml:83c05d54-f6d6-494a-833f-554dd37c4623 ]] {\r\n",
       "}\r\n",
       "\r\n",
       "portout \"$result\" as E19  [[psysml:59943b31-a3c9-4e0b-a1a5-a807d88f74d6 ]] \r\n",
       "portin \"$x\" as E20  [[psysml:f56aed3e-0abf-415b-8307-7ce602886a4e ]] \r\n",
       "portin \"$y\" as E21  [[psysml:4a073027-8566-43d2-b22e-daad3da22329 ]] \r\n",
       "portout \"$result\" as E22  [[psysml:a62ac8b0-eaf6-4adc-9f14-e1e54df6c395 ]] \r\n",
       "}\r\n",
       "\r\n",
       "rec usage \"A3\" as E23  <<(T,blue)action>> [[psysml:685b0fa1-42be-43fa-8250-fe6c84a18423 ]] {\r\n",
       "}\r\n",
       "\r\n",
       "{\r\n",
       "portout \"$result\" as E24  [[psysml:98937697-67bb-45ee-8fed-5abb392c3fdb ]] \r\n",
       "portin \"$x\" as E25  [[psysml:a977dc00-242a-40b3-b9da-606e563c8c3f ]] \r\n",
       "portin \"$y\" as E26  [[psysml:ab4e429e-9a1f-45c8-b892-c2c8dcefbe2f ]] \r\n",
       "portout \"$result\" as E27  [[psysml:2734cb04-9b51-40b2-9042-069cd5d9688c ]] \r\n",
       "}\r\n",
       "\r\n",
       "}\r\n",
       "\r\n",
       "E6 -[thickness=5]- E4 [[psysml:60a3d248-455c-4b27-8c43-fdde339bf8bd ]] \r\n",
       "E10 -[thickness=5]- E8 [[psysml:985ddca8-3639-4ad8-9c42-b0c44e866ff3 ]] \r\n",
       "E21 -[thickness=5]- E19 [[psysml:246fdd7b-2672-46ea-b421-02bbe449818a ]] \r\n",
       "E26 -[thickness=5]- E24 [[psysml:b7d97414-dcb8-4731-9734-ffccd7d52e37 ]] \r\n",
       "@enduml\r\n",
       "\n",
       "PlantUML version 1.2020.13(Sat Jun 13 12:26:38 UTC 2020)\n",
       "(EPL source distribution)\n",
       "Java Runtime: OpenJDK Runtime Environment\n",
       "JVM: OpenJDK 64-Bit Server VM\n",
       "Default Encoding: UTF-8\n",
       "Language: en\n",
       "Country: null\n",
       "--></g></svg>"
      ]
     },
     "execution_count": 50,
     "metadata": {},
     "output_type": "execute_result"
    }
   ],
   "source": [
    "%viz --style=\"TB\" --view=\"MIXED\" \"DecisionTest\""
   ]
  },
  {
   "cell_type": "code",
   "execution_count": 51,
   "id": "greek-reason",
   "metadata": {
    "execution": {
     "iopub.execute_input": "2021-03-25T15:07:26.097968Z",
     "iopub.status.busy": "2021-03-25T15:07:26.097535Z",
     "iopub.status.idle": "2021-03-25T15:07:26.125315Z",
     "shell.execute_reply": "2021-03-25T15:07:26.124049Z"
    }
   },
   "outputs": [
    {
     "data": {
      "image/svg+xml": [
       "<?xml version=\"1.0\" encoding=\"UTF-8\" standalone=\"no\"?><svg xmlns=\"http://www.w3.org/2000/svg\" xmlns:xlink=\"http://www.w3.org/1999/xlink\" contentScriptType=\"application/ecmascript\" contentStyleType=\"text/css\" height=\"288px\" preserveAspectRatio=\"none\" style=\"width:873px;height:288px;background:#000000;\" version=\"1.1\" viewBox=\"0 0 873 288\" width=\"873px\" zoomAndPan=\"magnify\"><defs/><g><rect fill=\"#0D0524\" height=\"1\" style=\"stroke: #0D0524; stroke-width: 1.0;\" width=\"1\" x=\"0\" y=\"0\"/><rect fill=\"#33FF02\" height=\"21.2969\" style=\"stroke: #33FF02; stroke-width: 1.0;\" width=\"866\" x=\"5\" y=\"5\"/><text fill=\"#000000\" font-family=\"sans-serif\" font-size=\"14\" font-weight=\"bold\" lengthAdjust=\"spacingAndGlyphs\" textLength=\"178\" x=\"6\" y=\"20\">[From string (line 14) ]</text><text fill=\"#33FF02\" font-family=\"sans-serif\" font-size=\"14\" font-weight=\"bold\" lengthAdjust=\"spacingAndGlyphs\" textLength=\"0\" x=\"10\" y=\"40.2969\"/><text fill=\"#33FF02\" font-family=\"sans-serif\" font-size=\"14\" font-weight=\"bold\" lengthAdjust=\"spacingAndGlyphs\" textLength=\"79\" x=\"5\" y=\"56.5938\">@startuml</text><text fill=\"#33FF02\" font-family=\"sans-serif\" font-size=\"14\" font-weight=\"bold\" lengthAdjust=\"spacingAndGlyphs\" textLength=\"197\" x=\"5\" y=\"72.8906\">skinparam linetype ortho</text><text fill=\"#33FF02\" font-family=\"sans-serif\" font-size=\"14\" font-weight=\"bold\" lengthAdjust=\"spacingAndGlyphs\" textLength=\"228\" x=\"5\" y=\"89.1875\">skinparam monochrome true</text><text fill=\"#33FF02\" font-family=\"sans-serif\" font-size=\"14\" font-weight=\"bold\" lengthAdjust=\"spacingAndGlyphs\" textLength=\"309\" x=\"5\" y=\"105.4844\">skinparam classbackgroundcolor white</text><text fill=\"#33FF02\" font-family=\"sans-serif\" font-size=\"14\" font-weight=\"bold\" lengthAdjust=\"spacingAndGlyphs\" textLength=\"215\" x=\"5\" y=\"121.7813\">skinparam shadowing false</text><text fill=\"#33FF02\" font-family=\"sans-serif\" font-size=\"14\" font-weight=\"bold\" lengthAdjust=\"spacingAndGlyphs\" textLength=\"206\" x=\"5\" y=\"138.0781\">skinparam wrapWidth 300</text><text fill=\"#33FF02\" font-family=\"sans-serif\" font-size=\"14\" font-weight=\"bold\" lengthAdjust=\"spacingAndGlyphs\" textLength=\"82\" x=\"5\" y=\"154.375\">hide circle</text><text fill=\"#33FF02\" font-family=\"sans-serif\" font-size=\"14\" font-weight=\"bold\" lengthAdjust=\"spacingAndGlyphs\" textLength=\"0\" x=\"10\" y=\"170.6719\"/><text fill=\"#33FF02\" font-family=\"sans-serif\" font-size=\"14\" font-weight=\"bold\" lengthAdjust=\"spacingAndGlyphs\" textLength=\"866\" x=\"5\" y=\"186.9688\">rec def \"DecisionTest\" as E1  &lt;&lt;(T,blue)action def&gt;&gt; [[psysml:b2f18a0c-e7e8-4f9b-8be8-69c1ee721482 ]] {</text><text fill=\"#33FF02\" font-family=\"sans-serif\" font-size=\"14\" font-weight=\"bold\" lengthAdjust=\"spacingAndGlyphs\" textLength=\"619\" x=\"5\" y=\"203.2656\">portout \"$result\" as E2  [[psysml:48b93896-3893-47bc-bfb4-82205587ec17 ]]</text><text fill=\"#33FF02\" font-family=\"sans-serif\" font-size=\"14\" font-weight=\"bold\" lengthAdjust=\"spacingAndGlyphs\" textLength=\"859\" x=\"5\" y=\"219.5625\">rec usage \"test x\" as E3  &lt;&lt;(T,blue)decisionNode&gt;&gt; [[psysml:e5d2d3ea-f48f-4426-8e8b-470a03ae9129 ]] {</text><text fill=\"#33FF02\" font-family=\"sans-serif\" font-size=\"14\" font-weight=\"bold\" lengthAdjust=\"spacingAndGlyphs\" textLength=\"10\" x=\"5\" y=\"235.8594\">}</text><text fill=\"#33FF02\" font-family=\"sans-serif\" font-size=\"14\" font-weight=\"bold\" lengthAdjust=\"spacingAndGlyphs\" textLength=\"0\" x=\"10\" y=\"252.1563\"/><text fill=\"#33FF02\" font-family=\"sans-serif\" font-size=\"14\" font-weight=\"bold\" lengthAdjust=\"spacingAndGlyphs\" textLength=\"10\" x=\"5\" y=\"268.4531\">{</text><text fill=\"#FF0000\" font-family=\"sans-serif\" font-size=\"14\" font-weight=\"bold\" lengthAdjust=\"spacingAndGlyphs\" textLength=\"106\" x=\"10\" y=\"284.75\">Syntax Error?</text><!--MD5=[f18c387106133780a8b185ce0f6100a6]\n",
       "@startuml\r\n",
       "skinparam linetype ortho\r\n",
       "skinparam monochrome true\r\n",
       "skinparam classbackgroundcolor white\r\n",
       "skinparam shadowing false\r\n",
       "skinparam wrapWidth 300\r\n",
       "hide circle\r\n",
       "\r\n",
       "rec def \"DecisionTest\" as E1  <<(T,blue)action def>> [[psysml:b2f18a0c-e7e8-4f9b-8be8-69c1ee721482 ]] {\r\n",
       "portout \"$result\" as E2  [[psysml:48b93896-3893-47bc-bfb4-82205587ec17 ]] \r\n",
       "rec usage \"test x\" as E3  <<(T,blue)decisionNode>> [[psysml:e5d2d3ea-f48f-4426-8e8b-470a03ae9129 ]] {\r\n",
       "}\r\n",
       "\r\n",
       "{\r\n",
       "portout \"$result\" as E4  [[psysml:4b8ded41-753f-4321-9638-6238d10e7c80 ]] \r\n",
       "portin \"$x\" as E5  [[psysml:a7b14f91-b01b-46a8-a467-34455cb469c8 ]] \r\n",
       "portin \"$y\" as E6  [[psysml:5152b66c-9655-4578-b3e0-a1abffd52221 ]] \r\n",
       "portout \"$result\" as E7  [[psysml:4920d9f2-11b6-40e8-8f3b-51b5a6d86cfe ]] \r\n",
       "}\r\n",
       "\r\n",
       "{\r\n",
       "portout \"$result\" as E8  [[psysml:299014ef-2d5d-4d16-b133-5999efd30129 ]] \r\n",
       "portin \"$x\" as E9  [[psysml:06a6ed26-9ce9-4d08-906d-b2050b8e915c ]] \r\n",
       "portin \"$y\" as E10  [[psysml:5469b116-bf46-4216-bf8a-03dc856fdd9f ]] \r\n",
       "portout \"$result\" as E11  [[psysml:71834102-980a-4495-ab1e-6e2e09d248cc ]] \r\n",
       "}\r\n",
       "\r\n",
       "{\r\n",
       "}\r\n",
       "\r\n",
       "{\r\n",
       "}\r\n",
       "\r\n",
       "{\r\n",
       "portout \"$result\" as E12  [[psysml:f7c1e883-5939-48d9-8b79-1dd5526a379a ]] \r\n",
       "}\r\n",
       "\r\n",
       "{\r\n",
       "portout \"$result\" as E13  [[psysml:c31efe23-02f2-4c3d-bb99-9ef28e999a1c ]] \r\n",
       "}\r\n",
       "\r\n",
       "rec usage \"A1\" as E14  <<(T,blue)action>> [[psysml:83c05d54-f6d6-494a-833f-554dd37c4623 ]] {\r\n",
       "}\r\n",
       "\r\n",
       "rec usage \"A2\" as E15  <<(T,blue)action>> [[psysml:7dcb7014-cff9-44fa-9aa1-11f878021657 ]] {\r\n",
       "}\r\n",
       "\r\n",
       "rec usage \"A3\" as E16  <<(T,blue)action>> [[psysml:685b0fa1-42be-43fa-8250-fe6c84a18423 ]] {\r\n",
       "}\r\n",
       "\r\n",
       "rec usage \"S\" as E17  <<(T,blue)transition>> [[psysml:94783800-53cc-4e6d-883a-cc9d9c3ccfae ]] {\r\n",
       "rec usage \"A1\" as E18  <<(T,blue)action>> [[psysml:83c05d54-f6d6-494a-833f-554dd37c4623 ]] {\r\n",
       "}\r\n",
       "\r\n",
       "portout \"$result\" as E19  [[psysml:59943b31-a3c9-4e0b-a1a5-a807d88f74d6 ]] \r\n",
       "portin \"$x\" as E20  [[psysml:f56aed3e-0abf-415b-8307-7ce602886a4e ]] \r\n",
       "portin \"$y\" as E21  [[psysml:4a073027-8566-43d2-b22e-daad3da22329 ]] \r\n",
       "portout \"$result\" as E22  [[psysml:a62ac8b0-eaf6-4adc-9f14-e1e54df6c395 ]] \r\n",
       "}\r\n",
       "\r\n",
       "rec usage \"A3\" as E23  <<(T,blue)action>> [[psysml:685b0fa1-42be-43fa-8250-fe6c84a18423 ]] {\r\n",
       "}\r\n",
       "\r\n",
       "{\r\n",
       "portout \"$result\" as E24  [[psysml:98937697-67bb-45ee-8fed-5abb392c3fdb ]] \r\n",
       "portin \"$x\" as E25  [[psysml:a977dc00-242a-40b3-b9da-606e563c8c3f ]] \r\n",
       "portin \"$y\" as E26  [[psysml:ab4e429e-9a1f-45c8-b892-c2c8dcefbe2f ]] \r\n",
       "portout \"$result\" as E27  [[psysml:2734cb04-9b51-40b2-9042-069cd5d9688c ]] \r\n",
       "}\r\n",
       "\r\n",
       "}\r\n",
       "\r\n",
       "E6 -[thickness=5]- E4 [[psysml:60a3d248-455c-4b27-8c43-fdde339bf8bd ]] \r\n",
       "E10 -[thickness=5]- E8 [[psysml:985ddca8-3639-4ad8-9c42-b0c44e866ff3 ]] \r\n",
       "E21 -[thickness=5]- E19 [[psysml:246fdd7b-2672-46ea-b421-02bbe449818a ]] \r\n",
       "E26 -[thickness=5]- E24 [[psysml:b7d97414-dcb8-4731-9734-ffccd7d52e37 ]] \r\n",
       "@enduml\r\n",
       "\n",
       "PlantUML version 1.2020.13(Sat Jun 13 12:26:38 UTC 2020)\n",
       "(EPL source distribution)\n",
       "Java Runtime: OpenJDK Runtime Environment\n",
       "JVM: OpenJDK 64-Bit Server VM\n",
       "Default Encoding: UTF-8\n",
       "Language: en\n",
       "Country: null\n",
       "--></g></svg>"
      ]
     },
     "execution_count": 51,
     "metadata": {},
     "output_type": "execute_result"
    }
   ],
   "source": [
    "%viz --style=\"ORTHOLINE\" --view=\"Default\" \"DecisionTest\""
   ]
  },
  {
   "cell_type": "code",
   "execution_count": 52,
   "id": "private-dubai",
   "metadata": {
    "execution": {
     "iopub.execute_input": "2021-03-25T15:07:26.175641Z",
     "iopub.status.busy": "2021-03-25T15:07:26.175256Z",
     "iopub.status.idle": "2021-03-25T15:07:26.530906Z",
     "shell.execute_reply": "2021-03-25T15:07:26.530529Z"
    }
   },
   "outputs": [
    {
     "data": {
      "image/svg+xml": [
       "<?xml version=\"1.0\" encoding=\"UTF-8\" standalone=\"no\"?><svg xmlns=\"http://www.w3.org/2000/svg\" xmlns:xlink=\"http://www.w3.org/1999/xlink\" contentScriptType=\"application/ecmascript\" contentStyleType=\"text/css\" height=\"207px\" preserveAspectRatio=\"none\" style=\"width:109px;height:207px;\" version=\"1.1\" viewBox=\"0 0 109 207\" width=\"109px\" zoomAndPan=\"magnify\"><defs/><g><!--MD5=[43c9051892ef23e1a46a86907403d788]\n",
       "class E1--><a href=\"psysml:b2f18a0c-e7e8-4f9b-8be8-69c1ee721482\" target=\"_top\" title=\"psysml:b2f18a0c-e7e8-4f9b-8be8-69c1ee721482\" xlink:actuate=\"onRequest\" xlink:href=\"psysml:b2f18a0c-e7e8-4f9b-8be8-69c1ee721482\" xlink:show=\"new\" xlink:title=\"psysml:b2f18a0c-e7e8-4f9b-8be8-69c1ee721482\" xlink:type=\"simple\"><rect fill=\"#FFFFFF\" height=\"189.9844\" id=\"E1\" style=\"stroke: #383838; stroke-width: 1.5;\" width=\"91\" x=\"7\" y=\"7\"/><text fill=\"#000000\" font-family=\"sans-serif\" font-size=\"12\" font-style=\"italic\" lengthAdjust=\"spacingAndGlyphs\" textLength=\"77\" x=\"14\" y=\"23.1387\">«action def»</text><text fill=\"#000000\" font-family=\"sans-serif\" font-size=\"12\" lengthAdjust=\"spacingAndGlyphs\" textLength=\"80\" x=\"12.5\" y=\"37.1074\">DecisionTest</text><line style=\"stroke: #383838; stroke-width: 1.5;\" x1=\"8\" x2=\"97\" y1=\"44.9375\" y2=\"44.9375\"/><text fill=\"#000000\" font-family=\"sans-serif\" font-size=\"11\" lengthAdjust=\"spacingAndGlyphs\" textLength=\"6\" x=\"13\" y=\"75.9526\">x</text><line style=\"stroke: #383838; stroke-width: 1.0;\" x1=\"8\" x2=\"25\" y1=\"59.3398\" y2=\"59.3398\"/><text fill=\"#000000\" font-family=\"sans-serif\" font-size=\"11\" lengthAdjust=\"spacingAndGlyphs\" textLength=\"55\" x=\"25\" y=\"62.6479\">attributes</text><line style=\"stroke: #383838; stroke-width: 1.0;\" x1=\"80\" x2=\"97\" y1=\"59.3398\" y2=\"59.3398\"/><text fill=\"#000000\" font-family=\"sans-serif\" font-size=\"11\" lengthAdjust=\"spacingAndGlyphs\" textLength=\"14\" x=\"13\" y=\"105.562\">A1</text><text fill=\"#000000\" font-family=\"sans-serif\" font-size=\"11\" lengthAdjust=\"spacingAndGlyphs\" textLength=\"14\" x=\"13\" y=\"118.3667\">A2</text><text fill=\"#000000\" font-family=\"sans-serif\" font-size=\"11\" lengthAdjust=\"spacingAndGlyphs\" textLength=\"14\" x=\"13\" y=\"131.1714\">A3</text><line style=\"stroke: #383838; stroke-width: 1.0;\" x1=\"8\" x2=\"32\" y1=\"88.9492\" y2=\"88.9492\"/><text fill=\"#000000\" font-family=\"sans-serif\" font-size=\"11\" lengthAdjust=\"spacingAndGlyphs\" textLength=\"41\" x=\"32\" y=\"92.2573\">actions</text><line style=\"stroke: #383838; stroke-width: 1.0;\" x1=\"73\" x2=\"97\" y1=\"88.9492\" y2=\"88.9492\"/><text fill=\"#000000\" font-family=\"sans-serif\" font-size=\"11\" lengthAdjust=\"spacingAndGlyphs\" textLength=\"32\" x=\"13\" y=\"160.7808\">test x</text><line style=\"stroke: #383838; stroke-width: 1.0;\" x1=\"8\" x2=\"11\" y1=\"144.168\" y2=\"144.168\"/><text fill=\"#000000\" font-family=\"sans-serif\" font-size=\"11\" lengthAdjust=\"spacingAndGlyphs\" textLength=\"83\" x=\"11\" y=\"147.4761\">decisionNodes</text><line style=\"stroke: #383838; stroke-width: 1.0;\" x1=\"94\" x2=\"97\" y1=\"144.168\" y2=\"144.168\"/><text fill=\"#000000\" font-family=\"sans-serif\" font-size=\"11\" lengthAdjust=\"spacingAndGlyphs\" textLength=\"8\" x=\"13\" y=\"190.3901\">S</text><line style=\"stroke: #383838; stroke-width: 1.0;\" x1=\"8\" x2=\"22\" y1=\"173.7773\" y2=\"173.7773\"/><text fill=\"#000000\" font-family=\"sans-serif\" font-size=\"11\" lengthAdjust=\"spacingAndGlyphs\" textLength=\"61\" x=\"22\" y=\"177.0854\">transitions</text><line style=\"stroke: #383838; stroke-width: 1.0;\" x1=\"83\" x2=\"97\" y1=\"173.7773\" y2=\"173.7773\"/></a><!--MD5=[f8ab5c2949dd5ab966f84f5c876a9947]\n",
       "@startuml\r\n",
       "skinparam linetype ortho\r\n",
       "skinparam monochrome true\r\n",
       "skinparam classbackgroundcolor white\r\n",
       "skinparam shadowing false\r\n",
       "skinparam wrapWidth 300\r\n",
       "hide circle\r\n",
       "\r\n",
       "comp def \"DecisionTest\" as E1  <<(T,blue)action def>> [[psysml:b2f18a0c-e7e8-4f9b-8be8-69c1ee721482 ]] {\r\n",
       "- - attributes - -\r\n",
       "x\r\n",
       "- - actions - -\r\n",
       "A1\r\n",
       "A2\r\n",
       "A3\r\n",
       "- - decisionNodes - -\r\n",
       "test x\r\n",
       "- - transitions - -\r\n",
       "S\r\n",
       "}\r\n",
       "@enduml\r\n",
       "\n",
       "PlantUML version 1.2020.13(Sat Jun 13 12:26:38 UTC 2020)\n",
       "(EPL source distribution)\n",
       "Java Runtime: OpenJDK Runtime Environment\n",
       "JVM: OpenJDK 64-Bit Server VM\n",
       "Default Encoding: UTF-8\n",
       "Language: en\n",
       "Country: null\n",
       "--></g></svg>"
      ]
     },
     "execution_count": 52,
     "metadata": {},
     "output_type": "execute_result"
    }
   ],
   "source": [
    "%viz --style=\"ORTHOLINE\" --view=\"Tree\" \"DecisionTest\""
   ]
  },
  {
   "cell_type": "code",
   "execution_count": 53,
   "id": "featured-extent",
   "metadata": {
    "execution": {
     "iopub.execute_input": "2021-03-25T15:07:26.584118Z",
     "iopub.status.busy": "2021-03-25T15:07:26.583353Z",
     "iopub.status.idle": "2021-03-25T15:07:26.592144Z",
     "shell.execute_reply": "2021-03-25T15:07:26.591720Z"
    }
   },
   "outputs": [
    {
     "data": {
      "image/svg+xml": [
       "<?xml version=\"1.0\" encoding=\"UTF-8\" standalone=\"no\"?><svg xmlns=\"http://www.w3.org/2000/svg\" xmlns:xlink=\"http://www.w3.org/1999/xlink\" contentScriptType=\"application/ecmascript\" contentStyleType=\"text/css\" height=\"12px\" preserveAspectRatio=\"none\" style=\"width:12px;height:12px;\" version=\"1.1\" viewBox=\"0 0 12 12\" width=\"12px\" zoomAndPan=\"magnify\"><defs/><g><!--MD5=[97d6f38768b311333d388e66b2b27985]\n",
       "@startuml\r\n",
       "skinparam linetype ortho\r\n",
       "skinparam monochrome true\r\n",
       "skinparam classbackgroundcolor white\r\n",
       "skinparam shadowing false\r\n",
       "skinparam wrapWidth 300\r\n",
       "hide circle\r\n",
       "\r\n",
       "@enduml\r\n",
       "\n",
       "PlantUML version 1.2020.13(Sat Jun 13 12:26:38 UTC 2020)\n",
       "(EPL source distribution)\n",
       "Java Runtime: OpenJDK Runtime Environment\n",
       "JVM: OpenJDK 64-Bit Server VM\n",
       "Default Encoding: UTF-8\n",
       "Language: en\n",
       "Country: null\n",
       "--></g></svg>"
      ]
     },
     "execution_count": 53,
     "metadata": {},
     "output_type": "execute_result"
    }
   ],
   "source": [
    "%viz --style=\"ORTHOLINE\" --view=\"State\" \"DecisionTest\""
   ]
  },
  {
   "cell_type": "code",
   "execution_count": 54,
   "id": "floral-floating",
   "metadata": {
    "execution": {
     "iopub.execute_input": "2021-03-25T15:07:26.644011Z",
     "iopub.status.busy": "2021-03-25T15:07:26.643357Z",
     "iopub.status.idle": "2021-03-25T15:07:26.675534Z",
     "shell.execute_reply": "2021-03-25T15:07:26.675202Z"
    }
   },
   "outputs": [
    {
     "data": {
      "image/svg+xml": [
       "<?xml version=\"1.0\" encoding=\"UTF-8\" standalone=\"no\"?><svg xmlns=\"http://www.w3.org/2000/svg\" xmlns:xlink=\"http://www.w3.org/1999/xlink\" contentScriptType=\"application/ecmascript\" contentStyleType=\"text/css\" height=\"71px\" preserveAspectRatio=\"none\" style=\"width:145px;height:71px;\" version=\"1.1\" viewBox=\"0 0 145 71\" width=\"145px\" zoomAndPan=\"magnify\"><defs/><g><!--MD5=[43c9051892ef23e1a46a86907403d788]\n",
       "class E1--><a href=\"psysml:b2f18a0c-e7e8-4f9b-8be8-69c1ee721482\" target=\"_top\" title=\"psysml:b2f18a0c-e7e8-4f9b-8be8-69c1ee721482\" xlink:actuate=\"onRequest\" xlink:href=\"psysml:b2f18a0c-e7e8-4f9b-8be8-69c1ee721482\" xlink:show=\"new\" xlink:title=\"psysml:b2f18a0c-e7e8-4f9b-8be8-69c1ee721482\" xlink:type=\"simple\"><rect fill=\"#FFFFFF\" height=\"53.9375\" id=\"E1\" style=\"stroke: #383838; stroke-width: 1.5;\" width=\"127\" x=\"7\" y=\"7\"/><text fill=\"#000000\" font-family=\"sans-serif\" font-size=\"12\" font-style=\"italic\" lengthAdjust=\"spacingAndGlyphs\" textLength=\"125\" x=\"8\" y=\"23.1387\">«(T,blue)action def»</text><text fill=\"#000000\" font-family=\"sans-serif\" font-size=\"12\" lengthAdjust=\"spacingAndGlyphs\" textLength=\"80\" x=\"30.5\" y=\"37.1074\">DecisionTest</text><line style=\"stroke: #383838; stroke-width: 1.5;\" x1=\"8\" x2=\"133\" y1=\"44.9375\" y2=\"44.9375\"/><line style=\"stroke: #383838; stroke-width: 1.5;\" x1=\"8\" x2=\"133\" y1=\"52.9375\" y2=\"52.9375\"/></a><!--MD5=[ec762ca951c05db3e3f8b3bed442effe]\n",
       "@startuml\r\n",
       "skinparam ranksep 8\r\n",
       "skinparam rectangle {\r\n",
       " backgroundColor<<block>> LightGreen\r\n",
       "}\r\n",
       "skinparam linetype ortho\r\n",
       "skinparam monochrome true\r\n",
       "skinparam classbackgroundcolor white\r\n",
       "skinparam shadowing false\r\n",
       "skinparam wrapWidth 300\r\n",
       "hide circle\r\n",
       "\r\n",
       "def \"DecisionTest\" as E1  <<(T,blue)action def>> [[psysml:b2f18a0c-e7e8-4f9b-8be8-69c1ee721482 ]] \r\n",
       "@enduml\r\n",
       "\n",
       "PlantUML version 1.2020.13(Sat Jun 13 12:26:38 UTC 2020)\n",
       "(EPL source distribution)\n",
       "Java Runtime: OpenJDK Runtime Environment\n",
       "JVM: OpenJDK 64-Bit Server VM\n",
       "Default Encoding: UTF-8\n",
       "Language: en\n",
       "Country: null\n",
       "--></g></svg>"
      ]
     },
     "execution_count": 54,
     "metadata": {},
     "output_type": "execute_result"
    }
   ],
   "source": [
    "%viz --style=\"ORTHOLINE\" --view=\"Interconnection\" \"DecisionTest\""
   ]
  },
  {
   "cell_type": "code",
   "execution_count": 55,
   "id": "surrounded-cuisine",
   "metadata": {
    "execution": {
     "iopub.execute_input": "2021-03-25T15:07:26.726344Z",
     "iopub.status.busy": "2021-03-25T15:07:26.725922Z",
     "iopub.status.idle": "2021-03-25T15:07:26.754896Z",
     "shell.execute_reply": "2021-03-25T15:07:26.753722Z"
    }
   },
   "outputs": [
    {
     "data": {
      "image/svg+xml": [
       "<?xml version=\"1.0\" encoding=\"UTF-8\" standalone=\"no\"?><svg xmlns=\"http://www.w3.org/2000/svg\" xmlns:xlink=\"http://www.w3.org/1999/xlink\" contentScriptType=\"application/ecmascript\" contentStyleType=\"text/css\" height=\"304px\" preserveAspectRatio=\"none\" style=\"width:873px;height:304px;background:#000000;\" version=\"1.1\" viewBox=\"0 0 873 304\" width=\"873px\" zoomAndPan=\"magnify\"><defs/><g><rect fill=\"#201607\" height=\"1\" style=\"stroke: #201607; stroke-width: 1.0;\" width=\"1\" x=\"0\" y=\"0\"/><rect fill=\"#33FF02\" height=\"21.2969\" style=\"stroke: #33FF02; stroke-width: 1.0;\" width=\"866\" x=\"5\" y=\"5\"/><text fill=\"#000000\" font-family=\"sans-serif\" font-size=\"14\" font-weight=\"bold\" lengthAdjust=\"spacingAndGlyphs\" textLength=\"178\" x=\"6\" y=\"20\">[From string (line 15) ]</text><text fill=\"#33FF02\" font-family=\"sans-serif\" font-size=\"14\" font-weight=\"bold\" lengthAdjust=\"spacingAndGlyphs\" textLength=\"0\" x=\"10\" y=\"40.2969\"/><text fill=\"#33FF02\" font-family=\"sans-serif\" font-size=\"14\" font-weight=\"bold\" lengthAdjust=\"spacingAndGlyphs\" textLength=\"79\" x=\"5\" y=\"56.5938\">@startuml</text><text fill=\"#33FF02\" font-family=\"sans-serif\" font-size=\"14\" font-weight=\"bold\" lengthAdjust=\"spacingAndGlyphs\" textLength=\"165\" x=\"5\" y=\"72.8906\">skinparam ranksep 8</text><text fill=\"#33FF02\" font-family=\"sans-serif\" font-size=\"14\" font-weight=\"bold\" lengthAdjust=\"spacingAndGlyphs\" textLength=\"197\" x=\"5\" y=\"89.1875\">skinparam linetype ortho</text><text fill=\"#33FF02\" font-family=\"sans-serif\" font-size=\"14\" font-weight=\"bold\" lengthAdjust=\"spacingAndGlyphs\" textLength=\"228\" x=\"5\" y=\"105.4844\">skinparam monochrome true</text><text fill=\"#33FF02\" font-family=\"sans-serif\" font-size=\"14\" font-weight=\"bold\" lengthAdjust=\"spacingAndGlyphs\" textLength=\"309\" x=\"5\" y=\"121.7813\">skinparam classbackgroundcolor white</text><text fill=\"#33FF02\" font-family=\"sans-serif\" font-size=\"14\" font-weight=\"bold\" lengthAdjust=\"spacingAndGlyphs\" textLength=\"215\" x=\"5\" y=\"138.0781\">skinparam shadowing false</text><text fill=\"#33FF02\" font-family=\"sans-serif\" font-size=\"14\" font-weight=\"bold\" lengthAdjust=\"spacingAndGlyphs\" textLength=\"206\" x=\"5\" y=\"154.375\">skinparam wrapWidth 300</text><text fill=\"#33FF02\" font-family=\"sans-serif\" font-size=\"14\" font-weight=\"bold\" lengthAdjust=\"spacingAndGlyphs\" textLength=\"82\" x=\"5\" y=\"170.6719\">hide circle</text><text fill=\"#33FF02\" font-family=\"sans-serif\" font-size=\"14\" font-weight=\"bold\" lengthAdjust=\"spacingAndGlyphs\" textLength=\"0\" x=\"10\" y=\"186.9688\"/><text fill=\"#33FF02\" font-family=\"sans-serif\" font-size=\"14\" font-weight=\"bold\" lengthAdjust=\"spacingAndGlyphs\" textLength=\"866\" x=\"5\" y=\"203.2656\">rec def \"DecisionTest\" as E1  &lt;&lt;(T,blue)action def&gt;&gt; [[psysml:b2f18a0c-e7e8-4f9b-8be8-69c1ee721482 ]] {</text><text fill=\"#33FF02\" font-family=\"sans-serif\" font-size=\"14\" font-weight=\"bold\" lengthAdjust=\"spacingAndGlyphs\" textLength=\"619\" x=\"5\" y=\"219.5625\">portout \"$result\" as E2  [[psysml:48b93896-3893-47bc-bfb4-82205587ec17 ]]</text><text fill=\"#33FF02\" font-family=\"sans-serif\" font-size=\"14\" font-weight=\"bold\" lengthAdjust=\"spacingAndGlyphs\" textLength=\"859\" x=\"5\" y=\"235.8594\">rec usage \"test x\" as E3  &lt;&lt;(T,blue)decisionNode&gt;&gt; [[psysml:e5d2d3ea-f48f-4426-8e8b-470a03ae9129 ]] {</text><text fill=\"#33FF02\" font-family=\"sans-serif\" font-size=\"14\" font-weight=\"bold\" lengthAdjust=\"spacingAndGlyphs\" textLength=\"10\" x=\"5\" y=\"252.1563\">}</text><text fill=\"#33FF02\" font-family=\"sans-serif\" font-size=\"14\" font-weight=\"bold\" lengthAdjust=\"spacingAndGlyphs\" textLength=\"0\" x=\"10\" y=\"268.4531\"/><text fill=\"#33FF02\" font-family=\"sans-serif\" font-size=\"14\" font-weight=\"bold\" lengthAdjust=\"spacingAndGlyphs\" textLength=\"10\" x=\"5\" y=\"284.75\">{</text><text fill=\"#FF0000\" font-family=\"sans-serif\" font-size=\"14\" font-weight=\"bold\" lengthAdjust=\"spacingAndGlyphs\" textLength=\"106\" x=\"10\" y=\"301.0469\">Syntax Error?</text><!--MD5=[b6199fc39cccde326a7342401d0c1b1d]\n",
       "@startuml\r\n",
       "skinparam ranksep 8\r\n",
       "skinparam linetype ortho\r\n",
       "skinparam monochrome true\r\n",
       "skinparam classbackgroundcolor white\r\n",
       "skinparam shadowing false\r\n",
       "skinparam wrapWidth 300\r\n",
       "hide circle\r\n",
       "\r\n",
       "rec def \"DecisionTest\" as E1  <<(T,blue)action def>> [[psysml:b2f18a0c-e7e8-4f9b-8be8-69c1ee721482 ]] {\r\n",
       "portout \"$result\" as E2  [[psysml:48b93896-3893-47bc-bfb4-82205587ec17 ]] \r\n",
       "rec usage \"test x\" as E3  <<(T,blue)decisionNode>> [[psysml:e5d2d3ea-f48f-4426-8e8b-470a03ae9129 ]] {\r\n",
       "}\r\n",
       "\r\n",
       "{\r\n",
       "portout \"$result\" as E4  [[psysml:4b8ded41-753f-4321-9638-6238d10e7c80 ]] \r\n",
       "portin \"$x\" as E5  [[psysml:a7b14f91-b01b-46a8-a467-34455cb469c8 ]] \r\n",
       "portin \"$y\" as E6  [[psysml:5152b66c-9655-4578-b3e0-a1abffd52221 ]] \r\n",
       "portout \"$result\" as E7  [[psysml:4920d9f2-11b6-40e8-8f3b-51b5a6d86cfe ]] \r\n",
       "}\r\n",
       "\r\n",
       "{\r\n",
       "portout \"$result\" as E8  [[psysml:299014ef-2d5d-4d16-b133-5999efd30129 ]] \r\n",
       "portin \"$x\" as E9  [[psysml:06a6ed26-9ce9-4d08-906d-b2050b8e915c ]] \r\n",
       "portin \"$y\" as E10  [[psysml:5469b116-bf46-4216-bf8a-03dc856fdd9f ]] \r\n",
       "portout \"$result\" as E11  [[psysml:71834102-980a-4495-ab1e-6e2e09d248cc ]] \r\n",
       "}\r\n",
       "\r\n",
       "{\r\n",
       "}\r\n",
       "\r\n",
       "{\r\n",
       "}\r\n",
       "\r\n",
       "{\r\n",
       "portout \"$result\" as E12  [[psysml:f7c1e883-5939-48d9-8b79-1dd5526a379a ]] \r\n",
       "}\r\n",
       "\r\n",
       "{\r\n",
       "portout \"$result\" as E13  [[psysml:c31efe23-02f2-4c3d-bb99-9ef28e999a1c ]] \r\n",
       "}\r\n",
       "\r\n",
       "rec usage \"A1\" as E14  <<(T,blue)action>> [[psysml:83c05d54-f6d6-494a-833f-554dd37c4623 ]] {\r\n",
       "}\r\n",
       "\r\n",
       "rec usage \"A2\" as E15  <<(T,blue)action>> [[psysml:7dcb7014-cff9-44fa-9aa1-11f878021657 ]] {\r\n",
       "}\r\n",
       "\r\n",
       "rec usage \"A3\" as E16  <<(T,blue)action>> [[psysml:685b0fa1-42be-43fa-8250-fe6c84a18423 ]] {\r\n",
       "}\r\n",
       "\r\n",
       "rec usage \"S\" as E17  <<(T,blue)transition>> [[psysml:94783800-53cc-4e6d-883a-cc9d9c3ccfae ]] {\r\n",
       "rec usage \"A1\" as E18  <<(T,blue)action>> [[psysml:83c05d54-f6d6-494a-833f-554dd37c4623 ]] {\r\n",
       "}\r\n",
       "\r\n",
       "portout \"$result\" as E19  [[psysml:59943b31-a3c9-4e0b-a1a5-a807d88f74d6 ]] \r\n",
       "portin \"$x\" as E20  [[psysml:f56aed3e-0abf-415b-8307-7ce602886a4e ]] \r\n",
       "portin \"$y\" as E21  [[psysml:4a073027-8566-43d2-b22e-daad3da22329 ]] \r\n",
       "portout \"$result\" as E22  [[psysml:a62ac8b0-eaf6-4adc-9f14-e1e54df6c395 ]] \r\n",
       "}\r\n",
       "\r\n",
       "rec usage \"A3\" as E23  <<(T,blue)action>> [[psysml:685b0fa1-42be-43fa-8250-fe6c84a18423 ]] {\r\n",
       "}\r\n",
       "\r\n",
       "{\r\n",
       "portout \"$result\" as E24  [[psysml:98937697-67bb-45ee-8fed-5abb392c3fdb ]] \r\n",
       "portin \"$x\" as E25  [[psysml:a977dc00-242a-40b3-b9da-606e563c8c3f ]] \r\n",
       "portin \"$y\" as E26  [[psysml:ab4e429e-9a1f-45c8-b892-c2c8dcefbe2f ]] \r\n",
       "portout \"$result\" as E27  [[psysml:2734cb04-9b51-40b2-9042-069cd5d9688c ]] \r\n",
       "}\r\n",
       "\r\n",
       "}\r\n",
       "\r\n",
       "E6 -[thickness=5]- E4 [[psysml:60a3d248-455c-4b27-8c43-fdde339bf8bd ]] \r\n",
       "E10 -[thickness=5]- E8 [[psysml:985ddca8-3639-4ad8-9c42-b0c44e866ff3 ]] \r\n",
       "E21 -[thickness=5]- E19 [[psysml:246fdd7b-2672-46ea-b421-02bbe449818a ]] \r\n",
       "E26 -[thickness=5]- E24 [[psysml:b7d97414-dcb8-4731-9734-ffccd7d52e37 ]] \r\n",
       "@enduml\r\n",
       "\n",
       "PlantUML version 1.2020.13(Sat Jun 13 12:26:38 UTC 2020)\n",
       "(EPL source distribution)\n",
       "Java Runtime: OpenJDK Runtime Environment\n",
       "JVM: OpenJDK 64-Bit Server VM\n",
       "Default Encoding: UTF-8\n",
       "Language: en\n",
       "Country: null\n",
       "--></g></svg>"
      ]
     },
     "execution_count": 55,
     "metadata": {},
     "output_type": "execute_result"
    }
   ],
   "source": [
    "%viz --style=\"ORTHOLINE\" --view=\"Action\" \"DecisionTest\""
   ]
  },
  {
   "cell_type": "code",
   "execution_count": 56,
   "id": "traditional-bridge",
   "metadata": {
    "execution": {
     "iopub.execute_input": "2021-03-25T15:07:26.805580Z",
     "iopub.status.busy": "2021-03-25T15:07:26.805142Z",
     "iopub.status.idle": "2021-03-25T15:07:27.154644Z",
     "shell.execute_reply": "2021-03-25T15:07:27.154249Z"
    }
   },
   "outputs": [
    {
     "data": {
      "image/svg+xml": [
       "<?xml version=\"1.0\" encoding=\"UTF-8\" standalone=\"no\"?><svg xmlns=\"http://www.w3.org/2000/svg\" xmlns:xlink=\"http://www.w3.org/1999/xlink\" contentScriptType=\"application/ecmascript\" contentStyleType=\"text/css\" height=\"207px\" preserveAspectRatio=\"none\" style=\"width:109px;height:207px;\" version=\"1.1\" viewBox=\"0 0 109 207\" width=\"109px\" zoomAndPan=\"magnify\"><defs/><g><!--MD5=[43c9051892ef23e1a46a86907403d788]\n",
       "class E1--><a href=\"psysml:b2f18a0c-e7e8-4f9b-8be8-69c1ee721482\" target=\"_top\" title=\"psysml:b2f18a0c-e7e8-4f9b-8be8-69c1ee721482\" xlink:actuate=\"onRequest\" xlink:href=\"psysml:b2f18a0c-e7e8-4f9b-8be8-69c1ee721482\" xlink:show=\"new\" xlink:title=\"psysml:b2f18a0c-e7e8-4f9b-8be8-69c1ee721482\" xlink:type=\"simple\"><rect fill=\"#FFFFFF\" height=\"189.9844\" id=\"E1\" style=\"stroke: #383838; stroke-width: 1.5;\" width=\"91\" x=\"7\" y=\"7\"/><text fill=\"#000000\" font-family=\"sans-serif\" font-size=\"12\" font-style=\"italic\" lengthAdjust=\"spacingAndGlyphs\" textLength=\"77\" x=\"14\" y=\"23.1387\">«action def»</text><text fill=\"#000000\" font-family=\"sans-serif\" font-size=\"12\" lengthAdjust=\"spacingAndGlyphs\" textLength=\"80\" x=\"12.5\" y=\"37.1074\">DecisionTest</text><line style=\"stroke: #383838; stroke-width: 1.5;\" x1=\"8\" x2=\"97\" y1=\"44.9375\" y2=\"44.9375\"/><text fill=\"#000000\" font-family=\"sans-serif\" font-size=\"11\" lengthAdjust=\"spacingAndGlyphs\" textLength=\"6\" x=\"13\" y=\"75.9526\">x</text><line style=\"stroke: #383838; stroke-width: 1.0;\" x1=\"8\" x2=\"25\" y1=\"59.3398\" y2=\"59.3398\"/><text fill=\"#000000\" font-family=\"sans-serif\" font-size=\"11\" lengthAdjust=\"spacingAndGlyphs\" textLength=\"55\" x=\"25\" y=\"62.6479\">attributes</text><line style=\"stroke: #383838; stroke-width: 1.0;\" x1=\"80\" x2=\"97\" y1=\"59.3398\" y2=\"59.3398\"/><text fill=\"#000000\" font-family=\"sans-serif\" font-size=\"11\" lengthAdjust=\"spacingAndGlyphs\" textLength=\"14\" x=\"13\" y=\"105.562\">A1</text><text fill=\"#000000\" font-family=\"sans-serif\" font-size=\"11\" lengthAdjust=\"spacingAndGlyphs\" textLength=\"14\" x=\"13\" y=\"118.3667\">A2</text><text fill=\"#000000\" font-family=\"sans-serif\" font-size=\"11\" lengthAdjust=\"spacingAndGlyphs\" textLength=\"14\" x=\"13\" y=\"131.1714\">A3</text><line style=\"stroke: #383838; stroke-width: 1.0;\" x1=\"8\" x2=\"32\" y1=\"88.9492\" y2=\"88.9492\"/><text fill=\"#000000\" font-family=\"sans-serif\" font-size=\"11\" lengthAdjust=\"spacingAndGlyphs\" textLength=\"41\" x=\"32\" y=\"92.2573\">actions</text><line style=\"stroke: #383838; stroke-width: 1.0;\" x1=\"73\" x2=\"97\" y1=\"88.9492\" y2=\"88.9492\"/><text fill=\"#000000\" font-family=\"sans-serif\" font-size=\"11\" lengthAdjust=\"spacingAndGlyphs\" textLength=\"32\" x=\"13\" y=\"160.7808\">test x</text><line style=\"stroke: #383838; stroke-width: 1.0;\" x1=\"8\" x2=\"11\" y1=\"144.168\" y2=\"144.168\"/><text fill=\"#000000\" font-family=\"sans-serif\" font-size=\"11\" lengthAdjust=\"spacingAndGlyphs\" textLength=\"83\" x=\"11\" y=\"147.4761\">decisionNodes</text><line style=\"stroke: #383838; stroke-width: 1.0;\" x1=\"94\" x2=\"97\" y1=\"144.168\" y2=\"144.168\"/><text fill=\"#000000\" font-family=\"sans-serif\" font-size=\"11\" lengthAdjust=\"spacingAndGlyphs\" textLength=\"8\" x=\"13\" y=\"190.3901\">S</text><line style=\"stroke: #383838; stroke-width: 1.0;\" x1=\"8\" x2=\"22\" y1=\"173.7773\" y2=\"173.7773\"/><text fill=\"#000000\" font-family=\"sans-serif\" font-size=\"11\" lengthAdjust=\"spacingAndGlyphs\" textLength=\"61\" x=\"22\" y=\"177.0854\">transitions</text><line style=\"stroke: #383838; stroke-width: 1.0;\" x1=\"83\" x2=\"97\" y1=\"173.7773\" y2=\"173.7773\"/></a><!--MD5=[f8ab5c2949dd5ab966f84f5c876a9947]\n",
       "@startuml\r\n",
       "skinparam linetype ortho\r\n",
       "skinparam monochrome true\r\n",
       "skinparam classbackgroundcolor white\r\n",
       "skinparam shadowing false\r\n",
       "skinparam wrapWidth 300\r\n",
       "hide circle\r\n",
       "\r\n",
       "comp def \"DecisionTest\" as E1  <<(T,blue)action def>> [[psysml:b2f18a0c-e7e8-4f9b-8be8-69c1ee721482 ]] {\r\n",
       "- - attributes - -\r\n",
       "x\r\n",
       "- - actions - -\r\n",
       "A1\r\n",
       "A2\r\n",
       "A3\r\n",
       "- - decisionNodes - -\r\n",
       "test x\r\n",
       "- - transitions - -\r\n",
       "S\r\n",
       "}\r\n",
       "@enduml\r\n",
       "\n",
       "PlantUML version 1.2020.13(Sat Jun 13 12:26:38 UTC 2020)\n",
       "(EPL source distribution)\n",
       "Java Runtime: OpenJDK Runtime Environment\n",
       "JVM: OpenJDK 64-Bit Server VM\n",
       "Default Encoding: UTF-8\n",
       "Language: en\n",
       "Country: null\n",
       "--></g></svg>"
      ]
     },
     "execution_count": 56,
     "metadata": {},
     "output_type": "execute_result"
    }
   ],
   "source": [
    "%viz --style=\"ORTHOLINE\" --view=\"Sequence\" \"DecisionTest\""
   ]
  },
  {
   "cell_type": "code",
   "execution_count": 57,
   "id": "international-diamond",
   "metadata": {
    "execution": {
     "iopub.execute_input": "2021-03-25T15:07:27.205200Z",
     "iopub.status.busy": "2021-03-25T15:07:27.204813Z",
     "iopub.status.idle": "2021-03-25T15:07:27.232653Z",
     "shell.execute_reply": "2021-03-25T15:07:27.231486Z"
    }
   },
   "outputs": [
    {
     "data": {
      "image/svg+xml": [
       "<?xml version=\"1.0\" encoding=\"UTF-8\" standalone=\"no\"?><svg xmlns=\"http://www.w3.org/2000/svg\" xmlns:xlink=\"http://www.w3.org/1999/xlink\" contentScriptType=\"application/ecmascript\" contentStyleType=\"text/css\" height=\"288px\" preserveAspectRatio=\"none\" style=\"width:873px;height:288px;background:#000000;\" version=\"1.1\" viewBox=\"0 0 873 288\" width=\"873px\" zoomAndPan=\"magnify\"><defs/><g><rect fill=\"#1A0C1D\" height=\"1\" style=\"stroke: #1A0C1D; stroke-width: 1.0;\" width=\"1\" x=\"0\" y=\"0\"/><rect fill=\"#33FF02\" height=\"21.2969\" style=\"stroke: #33FF02; stroke-width: 1.0;\" width=\"866\" x=\"5\" y=\"5\"/><text fill=\"#000000\" font-family=\"sans-serif\" font-size=\"14\" font-weight=\"bold\" lengthAdjust=\"spacingAndGlyphs\" textLength=\"178\" x=\"6\" y=\"20\">[From string (line 14) ]</text><text fill=\"#33FF02\" font-family=\"sans-serif\" font-size=\"14\" font-weight=\"bold\" lengthAdjust=\"spacingAndGlyphs\" textLength=\"0\" x=\"10\" y=\"40.2969\"/><text fill=\"#33FF02\" font-family=\"sans-serif\" font-size=\"14\" font-weight=\"bold\" lengthAdjust=\"spacingAndGlyphs\" textLength=\"79\" x=\"5\" y=\"56.5938\">@startuml</text><text fill=\"#33FF02\" font-family=\"sans-serif\" font-size=\"14\" font-weight=\"bold\" lengthAdjust=\"spacingAndGlyphs\" textLength=\"197\" x=\"5\" y=\"72.8906\">skinparam linetype ortho</text><text fill=\"#33FF02\" font-family=\"sans-serif\" font-size=\"14\" font-weight=\"bold\" lengthAdjust=\"spacingAndGlyphs\" textLength=\"228\" x=\"5\" y=\"89.1875\">skinparam monochrome true</text><text fill=\"#33FF02\" font-family=\"sans-serif\" font-size=\"14\" font-weight=\"bold\" lengthAdjust=\"spacingAndGlyphs\" textLength=\"309\" x=\"5\" y=\"105.4844\">skinparam classbackgroundcolor white</text><text fill=\"#33FF02\" font-family=\"sans-serif\" font-size=\"14\" font-weight=\"bold\" lengthAdjust=\"spacingAndGlyphs\" textLength=\"215\" x=\"5\" y=\"121.7813\">skinparam shadowing false</text><text fill=\"#33FF02\" font-family=\"sans-serif\" font-size=\"14\" font-weight=\"bold\" lengthAdjust=\"spacingAndGlyphs\" textLength=\"206\" x=\"5\" y=\"138.0781\">skinparam wrapWidth 300</text><text fill=\"#33FF02\" font-family=\"sans-serif\" font-size=\"14\" font-weight=\"bold\" lengthAdjust=\"spacingAndGlyphs\" textLength=\"82\" x=\"5\" y=\"154.375\">hide circle</text><text fill=\"#33FF02\" font-family=\"sans-serif\" font-size=\"14\" font-weight=\"bold\" lengthAdjust=\"spacingAndGlyphs\" textLength=\"0\" x=\"10\" y=\"170.6719\"/><text fill=\"#33FF02\" font-family=\"sans-serif\" font-size=\"14\" font-weight=\"bold\" lengthAdjust=\"spacingAndGlyphs\" textLength=\"866\" x=\"5\" y=\"186.9688\">rec def \"DecisionTest\" as E1  &lt;&lt;(T,blue)action def&gt;&gt; [[psysml:b2f18a0c-e7e8-4f9b-8be8-69c1ee721482 ]] {</text><text fill=\"#33FF02\" font-family=\"sans-serif\" font-size=\"14\" font-weight=\"bold\" lengthAdjust=\"spacingAndGlyphs\" textLength=\"619\" x=\"5\" y=\"203.2656\">portout \"$result\" as E2  [[psysml:48b93896-3893-47bc-bfb4-82205587ec17 ]]</text><text fill=\"#33FF02\" font-family=\"sans-serif\" font-size=\"14\" font-weight=\"bold\" lengthAdjust=\"spacingAndGlyphs\" textLength=\"859\" x=\"5\" y=\"219.5625\">rec usage \"test x\" as E3  &lt;&lt;(T,blue)decisionNode&gt;&gt; [[psysml:e5d2d3ea-f48f-4426-8e8b-470a03ae9129 ]] {</text><text fill=\"#33FF02\" font-family=\"sans-serif\" font-size=\"14\" font-weight=\"bold\" lengthAdjust=\"spacingAndGlyphs\" textLength=\"10\" x=\"5\" y=\"235.8594\">}</text><text fill=\"#33FF02\" font-family=\"sans-serif\" font-size=\"14\" font-weight=\"bold\" lengthAdjust=\"spacingAndGlyphs\" textLength=\"0\" x=\"10\" y=\"252.1563\"/><text fill=\"#33FF02\" font-family=\"sans-serif\" font-size=\"14\" font-weight=\"bold\" lengthAdjust=\"spacingAndGlyphs\" textLength=\"10\" x=\"5\" y=\"268.4531\">{</text><text fill=\"#FF0000\" font-family=\"sans-serif\" font-size=\"14\" font-weight=\"bold\" lengthAdjust=\"spacingAndGlyphs\" textLength=\"106\" x=\"10\" y=\"284.75\">Syntax Error?</text><!--MD5=[f18c387106133780a8b185ce0f6100a6]\n",
       "@startuml\r\n",
       "skinparam linetype ortho\r\n",
       "skinparam monochrome true\r\n",
       "skinparam classbackgroundcolor white\r\n",
       "skinparam shadowing false\r\n",
       "skinparam wrapWidth 300\r\n",
       "hide circle\r\n",
       "\r\n",
       "rec def \"DecisionTest\" as E1  <<(T,blue)action def>> [[psysml:b2f18a0c-e7e8-4f9b-8be8-69c1ee721482 ]] {\r\n",
       "portout \"$result\" as E2  [[psysml:48b93896-3893-47bc-bfb4-82205587ec17 ]] \r\n",
       "rec usage \"test x\" as E3  <<(T,blue)decisionNode>> [[psysml:e5d2d3ea-f48f-4426-8e8b-470a03ae9129 ]] {\r\n",
       "}\r\n",
       "\r\n",
       "{\r\n",
       "portout \"$result\" as E4  [[psysml:4b8ded41-753f-4321-9638-6238d10e7c80 ]] \r\n",
       "portin \"$x\" as E5  [[psysml:a7b14f91-b01b-46a8-a467-34455cb469c8 ]] \r\n",
       "portin \"$y\" as E6  [[psysml:5152b66c-9655-4578-b3e0-a1abffd52221 ]] \r\n",
       "portout \"$result\" as E7  [[psysml:4920d9f2-11b6-40e8-8f3b-51b5a6d86cfe ]] \r\n",
       "}\r\n",
       "\r\n",
       "{\r\n",
       "portout \"$result\" as E8  [[psysml:299014ef-2d5d-4d16-b133-5999efd30129 ]] \r\n",
       "portin \"$x\" as E9  [[psysml:06a6ed26-9ce9-4d08-906d-b2050b8e915c ]] \r\n",
       "portin \"$y\" as E10  [[psysml:5469b116-bf46-4216-bf8a-03dc856fdd9f ]] \r\n",
       "portout \"$result\" as E11  [[psysml:71834102-980a-4495-ab1e-6e2e09d248cc ]] \r\n",
       "}\r\n",
       "\r\n",
       "{\r\n",
       "}\r\n",
       "\r\n",
       "{\r\n",
       "}\r\n",
       "\r\n",
       "{\r\n",
       "portout \"$result\" as E12  [[psysml:f7c1e883-5939-48d9-8b79-1dd5526a379a ]] \r\n",
       "}\r\n",
       "\r\n",
       "{\r\n",
       "portout \"$result\" as E13  [[psysml:c31efe23-02f2-4c3d-bb99-9ef28e999a1c ]] \r\n",
       "}\r\n",
       "\r\n",
       "rec usage \"A1\" as E14  <<(T,blue)action>> [[psysml:83c05d54-f6d6-494a-833f-554dd37c4623 ]] {\r\n",
       "}\r\n",
       "\r\n",
       "rec usage \"A2\" as E15  <<(T,blue)action>> [[psysml:7dcb7014-cff9-44fa-9aa1-11f878021657 ]] {\r\n",
       "}\r\n",
       "\r\n",
       "rec usage \"A3\" as E16  <<(T,blue)action>> [[psysml:685b0fa1-42be-43fa-8250-fe6c84a18423 ]] {\r\n",
       "}\r\n",
       "\r\n",
       "rec usage \"S\" as E17  <<(T,blue)transition>> [[psysml:94783800-53cc-4e6d-883a-cc9d9c3ccfae ]] {\r\n",
       "rec usage \"A1\" as E18  <<(T,blue)action>> [[psysml:83c05d54-f6d6-494a-833f-554dd37c4623 ]] {\r\n",
       "}\r\n",
       "\r\n",
       "portout \"$result\" as E19  [[psysml:59943b31-a3c9-4e0b-a1a5-a807d88f74d6 ]] \r\n",
       "portin \"$x\" as E20  [[psysml:f56aed3e-0abf-415b-8307-7ce602886a4e ]] \r\n",
       "portin \"$y\" as E21  [[psysml:4a073027-8566-43d2-b22e-daad3da22329 ]] \r\n",
       "portout \"$result\" as E22  [[psysml:a62ac8b0-eaf6-4adc-9f14-e1e54df6c395 ]] \r\n",
       "}\r\n",
       "\r\n",
       "rec usage \"A3\" as E23  <<(T,blue)action>> [[psysml:685b0fa1-42be-43fa-8250-fe6c84a18423 ]] {\r\n",
       "}\r\n",
       "\r\n",
       "{\r\n",
       "portout \"$result\" as E24  [[psysml:98937697-67bb-45ee-8fed-5abb392c3fdb ]] \r\n",
       "portin \"$x\" as E25  [[psysml:a977dc00-242a-40b3-b9da-606e563c8c3f ]] \r\n",
       "portin \"$y\" as E26  [[psysml:ab4e429e-9a1f-45c8-b892-c2c8dcefbe2f ]] \r\n",
       "portout \"$result\" as E27  [[psysml:2734cb04-9b51-40b2-9042-069cd5d9688c ]] \r\n",
       "}\r\n",
       "\r\n",
       "}\r\n",
       "\r\n",
       "E6 -[thickness=5]- E4 [[psysml:60a3d248-455c-4b27-8c43-fdde339bf8bd ]] \r\n",
       "E10 -[thickness=5]- E8 [[psysml:985ddca8-3639-4ad8-9c42-b0c44e866ff3 ]] \r\n",
       "E21 -[thickness=5]- E19 [[psysml:246fdd7b-2672-46ea-b421-02bbe449818a ]] \r\n",
       "E26 -[thickness=5]- E24 [[psysml:b7d97414-dcb8-4731-9734-ffccd7d52e37 ]] \r\n",
       "@enduml\r\n",
       "\n",
       "PlantUML version 1.2020.13(Sat Jun 13 12:26:38 UTC 2020)\n",
       "(EPL source distribution)\n",
       "Java Runtime: OpenJDK Runtime Environment\n",
       "JVM: OpenJDK 64-Bit Server VM\n",
       "Default Encoding: UTF-8\n",
       "Language: en\n",
       "Country: null\n",
       "--></g></svg>"
      ]
     },
     "execution_count": 57,
     "metadata": {},
     "output_type": "execute_result"
    }
   ],
   "source": [
    "%viz --style=\"ORTHOLINE\" --view=\"MIXED\" \"DecisionTest\""
   ]
  }
 ],
 "metadata": {
  "kernelspec": {
   "display_name": "SysML",
   "language": "sysml",
   "name": "sysml"
  },
  "language_info": {
   "codemirror_mode": "sysml",
   "file_extension": ".sysml",
   "mimetype": "text/x-sysml",
   "name": "SysML",
   "pygments_lexer": "java",
   "version": "1.0.0"
  }
 },
 "nbformat": 4,
 "nbformat_minor": 5
}
