{
 "cells": [
  {
   "cell_type": "markdown",
   "id": "classical-weekly",
   "metadata": {},
   "source": [
    "# SysML v2 Test Suite\n",
    "\n",
    "This can notebook can be cleared using menu `Edit --> Clear All Outputs` and then all cells can be\n",
    "run using menu `Run --> Run All Cells`.\n",
    "\n",
    "**WARNING**: This file is generated, all modifications here will be ignored.\n"
   ]
  },
  {
   "cell_type": "markdown",
   "id": "unusual-tennessee",
   "metadata": {},
   "source": [
    "## File: ../../sysml/src/examples/Simple Tests/DecisionTest.sysml"
   ]
  },
  {
   "cell_type": "code",
   "execution_count": 1,
   "id": "productive-savannah",
   "metadata": {
    "execution": {
     "iopub.execute_input": "2021-03-25T13:22:38.937803Z",
     "iopub.status.busy": "2021-03-25T13:22:38.936838Z",
     "iopub.status.idle": "2021-03-25T13:22:39.837330Z",
     "shell.execute_reply": "2021-03-25T13:22:39.836399Z"
    }
   },
   "outputs": [
    {
     "data": {
      "text/plain": [
       "ActionDefinition DecisionTest (245f08dd-92c9-468a-9ba4-c0237af8ad29)\n"
      ]
     },
     "execution_count": 1,
     "metadata": {},
     "output_type": "execute_result"
    }
   ],
   "source": [
    "action def DecisionTest {\n",
    "\tattribute x = 1;\n",
    "\t\n",
    "\tdecide 'test x';\n",
    "\tif x == 1 then A1; \n",
    "\tif x > 1 then A2;\n",
    "\telse A3; \n",
    "\t\n",
    "\tthen decide; \n",
    "\tif true then A1;\n",
    "\tif false then A2;\n",
    "\t\n",
    "\taction A1;\n",
    "\taction A2;\n",
    "\taction A3;\n",
    "\t\n",
    "\tsuccession S first A1 \n",
    "\t\tif x == 0 then A2;\n",
    "\t\t\n",
    "\tfirst A3;\n",
    "\t\tif x > 0 then 'test x';\n",
    "}"
   ]
  },
  {
   "cell_type": "code",
   "execution_count": 2,
   "id": "white-bracelet",
   "metadata": {
    "execution": {
     "iopub.execute_input": "2021-03-25T13:22:39.889186Z",
     "iopub.status.busy": "2021-03-25T13:22:39.888572Z",
     "iopub.status.idle": "2021-03-25T13:22:40.746544Z",
     "shell.execute_reply": "2021-03-25T13:22:40.746000Z"
    }
   },
   "outputs": [
    {
     "data": {
      "image/svg+xml": [
       "<?xml version=\"1.0\" encoding=\"UTF-8\" standalone=\"no\"?><svg xmlns=\"http://www.w3.org/2000/svg\" xmlns:xlink=\"http://www.w3.org/1999/xlink\" contentScriptType=\"application/ecmascript\" contentStyleType=\"text/css\" height=\"271px\" preserveAspectRatio=\"none\" style=\"width:877px;height:271px;background:#000000;\" version=\"1.1\" viewBox=\"0 0 877 271\" width=\"877px\" zoomAndPan=\"magnify\"><defs/><g><rect fill=\"#11270A\" height=\"1\" style=\"stroke: #11270A; stroke-width: 1.0;\" width=\"1\" x=\"0\" y=\"0\"/><rect fill=\"#33FF02\" height=\"21.2969\" style=\"stroke: #33FF02; stroke-width: 1.0;\" width=\"870\" x=\"5\" y=\"5\"/><text fill=\"#000000\" font-family=\"sans-serif\" font-size=\"14\" font-weight=\"bold\" lengthAdjust=\"spacingAndGlyphs\" textLength=\"178\" x=\"6\" y=\"20\">[From string (line 13) ]</text><text fill=\"#33FF02\" font-family=\"sans-serif\" font-size=\"14\" font-weight=\"bold\" lengthAdjust=\"spacingAndGlyphs\" textLength=\"0\" x=\"10\" y=\"40.2969\"/><text fill=\"#33FF02\" font-family=\"sans-serif\" font-size=\"14\" font-weight=\"bold\" lengthAdjust=\"spacingAndGlyphs\" textLength=\"79\" x=\"5\" y=\"56.5938\">@startuml</text><text fill=\"#33FF02\" font-family=\"sans-serif\" font-size=\"14\" font-weight=\"bold\" lengthAdjust=\"spacingAndGlyphs\" textLength=\"228\" x=\"10\" y=\"72.8906\">skinparam monochrome true</text><text fill=\"#33FF02\" font-family=\"sans-serif\" font-size=\"14\" font-weight=\"bold\" lengthAdjust=\"spacingAndGlyphs\" textLength=\"309\" x=\"5\" y=\"89.1875\">skinparam classbackgroundcolor white</text><text fill=\"#33FF02\" font-family=\"sans-serif\" font-size=\"14\" font-weight=\"bold\" lengthAdjust=\"spacingAndGlyphs\" textLength=\"215\" x=\"5\" y=\"105.4844\">skinparam shadowing false</text><text fill=\"#33FF02\" font-family=\"sans-serif\" font-size=\"14\" font-weight=\"bold\" lengthAdjust=\"spacingAndGlyphs\" textLength=\"206\" x=\"5\" y=\"121.7813\">skinparam wrapWidth 300</text><text fill=\"#33FF02\" font-family=\"sans-serif\" font-size=\"14\" font-weight=\"bold\" lengthAdjust=\"spacingAndGlyphs\" textLength=\"82\" x=\"5\" y=\"138.0781\">hide circle</text><text fill=\"#33FF02\" font-family=\"sans-serif\" font-size=\"14\" font-weight=\"bold\" lengthAdjust=\"spacingAndGlyphs\" textLength=\"0\" x=\"10\" y=\"154.375\"/><text fill=\"#33FF02\" font-family=\"sans-serif\" font-size=\"14\" font-weight=\"bold\" lengthAdjust=\"spacingAndGlyphs\" textLength=\"870\" x=\"5\" y=\"170.6719\">rec def \"DecisionTest\" as E1  &lt;&lt;(T,blue)action def&gt;&gt; [[psysml:a3695254-583a-41e6-95b4-07f76a5805ed ]] {</text><text fill=\"#33FF02\" font-family=\"sans-serif\" font-size=\"14\" font-weight=\"bold\" lengthAdjust=\"spacingAndGlyphs\" textLength=\"623\" x=\"5\" y=\"186.9688\">portout \"$result\" as E2  [[psysml:736cbe2e-e614-4ea2-922e-635e617bb808 ]]</text><text fill=\"#33FF02\" font-family=\"sans-serif\" font-size=\"14\" font-weight=\"bold\" lengthAdjust=\"spacingAndGlyphs\" textLength=\"861\" x=\"5\" y=\"203.2656\">rec usage \"test x\" as E3  &lt;&lt;(T,blue)decisionNode&gt;&gt; [[psysml:fd19b455-89d5-459d-92f7-d1815185add7 ]] {</text><text fill=\"#33FF02\" font-family=\"sans-serif\" font-size=\"14\" font-weight=\"bold\" lengthAdjust=\"spacingAndGlyphs\" textLength=\"10\" x=\"5\" y=\"219.5625\">}</text><text fill=\"#33FF02\" font-family=\"sans-serif\" font-size=\"14\" font-weight=\"bold\" lengthAdjust=\"spacingAndGlyphs\" textLength=\"0\" x=\"10\" y=\"235.8594\"/><text fill=\"#33FF02\" font-family=\"sans-serif\" font-size=\"14\" font-weight=\"bold\" lengthAdjust=\"spacingAndGlyphs\" textLength=\"10\" x=\"5\" y=\"252.1563\">{</text><text fill=\"#FF0000\" font-family=\"sans-serif\" font-size=\"14\" font-weight=\"bold\" lengthAdjust=\"spacingAndGlyphs\" textLength=\"106\" x=\"10\" y=\"268.4531\">Syntax Error?</text><!--MD5=[30118f4039ca5f989edf3c0421ec4781]\n",
       "@startuml\r\n",
       " skinparam monochrome true\r\n",
       "skinparam classbackgroundcolor white\r\n",
       "skinparam shadowing false\r\n",
       "skinparam wrapWidth 300\r\n",
       "hide circle\r\n",
       "\r\n",
       "rec def \"DecisionTest\" as E1  <<(T,blue)action def>> [[psysml:a3695254-583a-41e6-95b4-07f76a5805ed ]] {\r\n",
       "portout \"$result\" as E2  [[psysml:736cbe2e-e614-4ea2-922e-635e617bb808 ]] \r\n",
       "rec usage \"test x\" as E3  <<(T,blue)decisionNode>> [[psysml:fd19b455-89d5-459d-92f7-d1815185add7 ]] {\r\n",
       "}\r\n",
       "\r\n",
       "{\r\n",
       "portout \"$result\" as E4  [[psysml:6d4a6456-a7ec-4177-87e4-ea5c100c5f7a ]] \r\n",
       "portin \"$x\" as E5  [[psysml:810bc03f-55fb-40a2-b55c-bd606a6d8860 ]] \r\n",
       "portin \"$y\" as E6  [[psysml:9b327a8e-6a1a-4f88-b23a-313c42dc41ad ]] \r\n",
       "portout \"$result\" as E7  [[psysml:3482b99c-6d5f-462a-981f-843523b909ab ]] \r\n",
       "}\r\n",
       "\r\n",
       "{\r\n",
       "portout \"$result\" as E8  [[psysml:8d6fc5ff-5a7b-4326-8fe2-a1e00b49613b ]] \r\n",
       "portin \"$x\" as E9  [[psysml:46b1300e-a73a-4c43-b5e8-ea161bf29b84 ]] \r\n",
       "portin \"$y\" as E10  [[psysml:4c9eaf15-63e7-4329-aa99-8209cbaf88bd ]] \r\n",
       "portout \"$result\" as E11  [[psysml:db374472-9b3d-40ef-87c4-0779379afe59 ]] \r\n",
       "}\r\n",
       "\r\n",
       "{\r\n",
       "}\r\n",
       "\r\n",
       "{\r\n",
       "}\r\n",
       "\r\n",
       "{\r\n",
       "portout \"$result\" as E12  [[psysml:e0510f13-cf5f-43a3-a7c7-2804245d6335 ]] \r\n",
       "}\r\n",
       "\r\n",
       "{\r\n",
       "portout \"$result\" as E13  [[psysml:bcae0eca-1466-485e-a896-a9c2508efe87 ]] \r\n",
       "}\r\n",
       "\r\n",
       "rec usage \"A1\" as E14  <<(T,blue)action>> [[psysml:fe5e89f6-2dc9-4b0f-8489-37aae8d1db14 ]] {\r\n",
       "}\r\n",
       "\r\n",
       "rec usage \"A2\" as E15  <<(T,blue)action>> [[psysml:4cc0bf78-e417-49bc-8d88-351983c62136 ]] {\r\n",
       "}\r\n",
       "\r\n",
       "rec usage \"A3\" as E16  <<(T,blue)action>> [[psysml:b76bbc08-81d4-47ab-9a49-666299d123cf ]] {\r\n",
       "}\r\n",
       "\r\n",
       "rec usage \"S\" as E17  <<(T,blue)transition>> [[psysml:fe245d46-438e-4c8f-ab18-310121fc2f41 ]] {\r\n",
       "rec usage \"A1\" as E18  <<(T,blue)action>> [[psysml:fe5e89f6-2dc9-4b0f-8489-37aae8d1db14 ]] {\r\n",
       "}\r\n",
       "\r\n",
       "portout \"$result\" as E19  [[psysml:5f694de1-2ca1-44b7-80b3-60a608cc3133 ]] \r\n",
       "portin \"$x\" as E20  [[psysml:8143e50d-1193-4d25-859f-77f062ba674d ]] \r\n",
       "portin \"$y\" as E21  [[psysml:ba8e69b2-a3c6-4a24-b7d7-ae4c7f563c95 ]] \r\n",
       "portout \"$result\" as E22  [[psysml:24237d18-6666-403f-9475-d2e8cf84f852 ]] \r\n",
       "}\r\n",
       "\r\n",
       "rec usage \"A3\" as E23  <<(T,blue)action>> [[psysml:b76bbc08-81d4-47ab-9a49-666299d123cf ]] {\r\n",
       "}\r\n",
       "\r\n",
       "{\r\n",
       "portout \"$result\" as E24  [[psysml:f904355a-9712-4e0c-a9b6-5ecdd1390be6 ]] \r\n",
       "portin \"$x\" as E25  [[psysml:c4435769-fd75-4fbf-95a7-29566a6c8186 ]] \r\n",
       "portin \"$y\" as E26  [[psysml:e2db5bbd-dd5d-422a-81f2-d836869b1ec1 ]] \r\n",
       "portout \"$result\" as E27  [[psysml:f774fe7e-8d66-439a-b027-16ceb2b41e9d ]] \r\n",
       "}\r\n",
       "\r\n",
       "}\r\n",
       "\r\n",
       "E6 -[thickness=5]- E4 [[psysml:22575a94-d313-4c92-b3bf-e872aff40b38 ]] \r\n",
       "E10 -[thickness=5]- E8 [[psysml:468e3065-35eb-4f7a-b0d7-b4ac24204b50 ]] \r\n",
       "E21 -[thickness=5]- E19 [[psysml:6eff49c6-4c1b-4a79-924a-d43d01989d36 ]] \r\n",
       "E26 -[thickness=5]- E24 [[psysml:02504f01-5bd4-4b5c-8fa7-2e89e01e6fe9 ]] \r\n",
       "@enduml\r\n",
       "\n",
       "PlantUML version 1.2020.13(Sat Jun 13 12:26:38 UTC 2020)\n",
       "(EPL source distribution)\n",
       "Java Runtime: OpenJDK Runtime Environment\n",
       "JVM: OpenJDK 64-Bit Server VM\n",
       "Default Encoding: UTF-8\n",
       "Language: en\n",
       "Country: null\n",
       "--></g></svg>"
      ]
     },
     "execution_count": 2,
     "metadata": {},
     "output_type": "execute_result"
    }
   ],
   "source": [
    "%viz --style=\"COMPTREE\" --view=\"Default\" \"DecisionTest\""
   ]
  },
  {
   "cell_type": "code",
   "execution_count": 3,
   "id": "narrow-magnitude",
   "metadata": {
    "execution": {
     "iopub.execute_input": "2021-03-25T13:22:40.799587Z",
     "iopub.status.busy": "2021-03-25T13:22:40.799049Z",
     "iopub.status.idle": "2021-03-25T13:22:41.527099Z",
     "shell.execute_reply": "2021-03-25T13:22:41.527927Z"
    }
   },
   "outputs": [
    {
     "data": {
      "image/svg+xml": [
       "<?xml version=\"1.0\" encoding=\"UTF-8\" standalone=\"no\"?><svg xmlns=\"http://www.w3.org/2000/svg\" xmlns:xlink=\"http://www.w3.org/1999/xlink\" contentScriptType=\"application/ecmascript\" contentStyleType=\"text/css\" height=\"207px\" preserveAspectRatio=\"none\" style=\"width:109px;height:207px;\" version=\"1.1\" viewBox=\"0 0 109 207\" width=\"109px\" zoomAndPan=\"magnify\"><defs/><g><!--MD5=[43c9051892ef23e1a46a86907403d788]\n",
       "class E1--><a href=\"psysml:a3695254-583a-41e6-95b4-07f76a5805ed\" target=\"_top\" title=\"psysml:a3695254-583a-41e6-95b4-07f76a5805ed\" xlink:actuate=\"onRequest\" xlink:href=\"psysml:a3695254-583a-41e6-95b4-07f76a5805ed\" xlink:show=\"new\" xlink:title=\"psysml:a3695254-583a-41e6-95b4-07f76a5805ed\" xlink:type=\"simple\"><rect fill=\"#FFFFFF\" height=\"189.9844\" id=\"E1\" style=\"stroke: #383838; stroke-width: 1.5;\" width=\"91\" x=\"7\" y=\"7\"/><text fill=\"#000000\" font-family=\"sans-serif\" font-size=\"12\" font-style=\"italic\" lengthAdjust=\"spacingAndGlyphs\" textLength=\"77\" x=\"14\" y=\"23.1387\">«action def»</text><text fill=\"#000000\" font-family=\"sans-serif\" font-size=\"12\" lengthAdjust=\"spacingAndGlyphs\" textLength=\"80\" x=\"12.5\" y=\"37.1074\">DecisionTest</text><line style=\"stroke: #383838; stroke-width: 1.5;\" x1=\"8\" x2=\"97\" y1=\"44.9375\" y2=\"44.9375\"/><text fill=\"#000000\" font-family=\"sans-serif\" font-size=\"11\" lengthAdjust=\"spacingAndGlyphs\" textLength=\"6\" x=\"13\" y=\"75.9526\">x</text><line style=\"stroke: #383838; stroke-width: 1.0;\" x1=\"8\" x2=\"25\" y1=\"59.3398\" y2=\"59.3398\"/><text fill=\"#000000\" font-family=\"sans-serif\" font-size=\"11\" lengthAdjust=\"spacingAndGlyphs\" textLength=\"55\" x=\"25\" y=\"62.6479\">attributes</text><line style=\"stroke: #383838; stroke-width: 1.0;\" x1=\"80\" x2=\"97\" y1=\"59.3398\" y2=\"59.3398\"/><text fill=\"#000000\" font-family=\"sans-serif\" font-size=\"11\" lengthAdjust=\"spacingAndGlyphs\" textLength=\"14\" x=\"13\" y=\"105.562\">A1</text><text fill=\"#000000\" font-family=\"sans-serif\" font-size=\"11\" lengthAdjust=\"spacingAndGlyphs\" textLength=\"14\" x=\"13\" y=\"118.3667\">A2</text><text fill=\"#000000\" font-family=\"sans-serif\" font-size=\"11\" lengthAdjust=\"spacingAndGlyphs\" textLength=\"14\" x=\"13\" y=\"131.1714\">A3</text><line style=\"stroke: #383838; stroke-width: 1.0;\" x1=\"8\" x2=\"32\" y1=\"88.9492\" y2=\"88.9492\"/><text fill=\"#000000\" font-family=\"sans-serif\" font-size=\"11\" lengthAdjust=\"spacingAndGlyphs\" textLength=\"41\" x=\"32\" y=\"92.2573\">actions</text><line style=\"stroke: #383838; stroke-width: 1.0;\" x1=\"73\" x2=\"97\" y1=\"88.9492\" y2=\"88.9492\"/><text fill=\"#000000\" font-family=\"sans-serif\" font-size=\"11\" lengthAdjust=\"spacingAndGlyphs\" textLength=\"32\" x=\"13\" y=\"160.7808\">test x</text><line style=\"stroke: #383838; stroke-width: 1.0;\" x1=\"8\" x2=\"11\" y1=\"144.168\" y2=\"144.168\"/><text fill=\"#000000\" font-family=\"sans-serif\" font-size=\"11\" lengthAdjust=\"spacingAndGlyphs\" textLength=\"83\" x=\"11\" y=\"147.4761\">decisionNodes</text><line style=\"stroke: #383838; stroke-width: 1.0;\" x1=\"94\" x2=\"97\" y1=\"144.168\" y2=\"144.168\"/><text fill=\"#000000\" font-family=\"sans-serif\" font-size=\"11\" lengthAdjust=\"spacingAndGlyphs\" textLength=\"8\" x=\"13\" y=\"190.3901\">S</text><line style=\"stroke: #383838; stroke-width: 1.0;\" x1=\"8\" x2=\"22\" y1=\"173.7773\" y2=\"173.7773\"/><text fill=\"#000000\" font-family=\"sans-serif\" font-size=\"11\" lengthAdjust=\"spacingAndGlyphs\" textLength=\"61\" x=\"22\" y=\"177.0854\">transitions</text><line style=\"stroke: #383838; stroke-width: 1.0;\" x1=\"83\" x2=\"97\" y1=\"173.7773\" y2=\"173.7773\"/></a><!--MD5=[bc64f1eaae8ee727a44570d845e1c6bd]\n",
       "@startuml\r\n",
       " skinparam monochrome true\r\n",
       "skinparam classbackgroundcolor white\r\n",
       "skinparam shadowing false\r\n",
       "skinparam wrapWidth 300\r\n",
       "hide circle\r\n",
       "\r\n",
       "comp def \"DecisionTest\" as E1  <<(T,blue)action def>> [[psysml:a3695254-583a-41e6-95b4-07f76a5805ed ]] {\r\n",
       "- - attributes - -\r\n",
       "x\r\n",
       "- - actions - -\r\n",
       "A1\r\n",
       "A2\r\n",
       "A3\r\n",
       "- - decisionNodes - -\r\n",
       "test x\r\n",
       "- - transitions - -\r\n",
       "S\r\n",
       "}\r\n",
       "@enduml\r\n",
       "\n",
       "PlantUML version 1.2020.13(Sat Jun 13 12:26:38 UTC 2020)\n",
       "(EPL source distribution)\n",
       "Java Runtime: OpenJDK Runtime Environment\n",
       "JVM: OpenJDK 64-Bit Server VM\n",
       "Default Encoding: UTF-8\n",
       "Language: en\n",
       "Country: null\n",
       "--></g></svg>"
      ]
     },
     "execution_count": 3,
     "metadata": {},
     "output_type": "execute_result"
    }
   ],
   "source": [
    "%viz --style=\"COMPTREE\" --view=\"Tree\" \"DecisionTest\""
   ]
  },
  {
   "cell_type": "code",
   "execution_count": 4,
   "id": "completed-dairy",
   "metadata": {
    "execution": {
     "iopub.execute_input": "2021-03-25T13:22:41.578553Z",
     "iopub.status.busy": "2021-03-25T13:22:41.577745Z",
     "iopub.status.idle": "2021-03-25T13:22:41.590571Z",
     "shell.execute_reply": "2021-03-25T13:22:41.591193Z"
    }
   },
   "outputs": [
    {
     "data": {
      "image/svg+xml": [
       "<?xml version=\"1.0\" encoding=\"UTF-8\" standalone=\"no\"?><svg xmlns=\"http://www.w3.org/2000/svg\" xmlns:xlink=\"http://www.w3.org/1999/xlink\" contentScriptType=\"application/ecmascript\" contentStyleType=\"text/css\" height=\"12px\" preserveAspectRatio=\"none\" style=\"width:12px;height:12px;\" version=\"1.1\" viewBox=\"0 0 12 12\" width=\"12px\" zoomAndPan=\"magnify\"><defs/><g><!--MD5=[f19188ef49e11757b5c46753f95d9edc]\n",
       "@startuml\r\n",
       " skinparam monochrome true\r\n",
       "skinparam classbackgroundcolor white\r\n",
       "skinparam shadowing false\r\n",
       "skinparam wrapWidth 300\r\n",
       "hide circle\r\n",
       "\r\n",
       "@enduml\r\n",
       "\n",
       "PlantUML version 1.2020.13(Sat Jun 13 12:26:38 UTC 2020)\n",
       "(EPL source distribution)\n",
       "Java Runtime: OpenJDK Runtime Environment\n",
       "JVM: OpenJDK 64-Bit Server VM\n",
       "Default Encoding: UTF-8\n",
       "Language: en\n",
       "Country: null\n",
       "--></g></svg>"
      ]
     },
     "execution_count": 4,
     "metadata": {},
     "output_type": "execute_result"
    }
   ],
   "source": [
    "%viz --style=\"COMPTREE\" --view=\"State\" \"DecisionTest\""
   ]
  },
  {
   "cell_type": "code",
   "execution_count": 5,
   "id": "substantial-revolution",
   "metadata": {
    "execution": {
     "iopub.execute_input": "2021-03-25T13:22:41.642445Z",
     "iopub.status.busy": "2021-03-25T13:22:41.641394Z",
     "iopub.status.idle": "2021-03-25T13:22:41.682888Z",
     "shell.execute_reply": "2021-03-25T13:22:41.683381Z"
    }
   },
   "outputs": [
    {
     "data": {
      "image/svg+xml": [
       "<?xml version=\"1.0\" encoding=\"UTF-8\" standalone=\"no\"?><svg xmlns=\"http://www.w3.org/2000/svg\" xmlns:xlink=\"http://www.w3.org/1999/xlink\" contentScriptType=\"application/ecmascript\" contentStyleType=\"text/css\" height=\"60px\" preserveAspectRatio=\"none\" style=\"width:109px;height:60px;\" version=\"1.1\" viewBox=\"0 0 109 60\" width=\"109px\" zoomAndPan=\"magnify\"><defs/><g><g id=\"E1\"><a href=\"psysml:a3695254-583a-41e6-95b4-07f76a5805ed\" target=\"_top\" title=\"psysml:a3695254-583a-41e6-95b4-07f76a5805ed\" xlink:actuate=\"onRequest\" xlink:href=\"psysml:a3695254-583a-41e6-95b4-07f76a5805ed\" xlink:show=\"new\" xlink:title=\"psysml:a3695254-583a-41e6-95b4-07f76a5805ed\" xlink:type=\"simple\"><rect fill=\"#FFFFFF\" height=\"42.9375\" id=\"E1\" style=\"stroke: #383838; stroke-width: 1.5;\" width=\"91\" x=\"7\" y=\"7\"/><rect fill=\"#F8F8F8\" height=\"37.9375\" style=\"stroke: #383838; stroke-width: 1.5;\" width=\"91\" x=\"7\" y=\"7\"/><text fill=\"#000000\" font-family=\"sans-serif\" font-size=\"12\" font-style=\"italic\" lengthAdjust=\"spacingAndGlyphs\" textLength=\"77\" x=\"14\" y=\"23.1387\">«action def»</text><text fill=\"#000000\" font-family=\"sans-serif\" font-size=\"12\" lengthAdjust=\"spacingAndGlyphs\" textLength=\"80\" x=\"12.5\" y=\"37.1074\">DecisionTest</text></a></g><!--MD5=[6e70bd1a739f5f457568e14bfb56a505]\n",
       "@startuml\r\n",
       "skinparam ranksep 8\r\n",
       "skinparam rectangle {\r\n",
       " backgroundColor<<block>> LightGreen\r\n",
       "}\r\n",
       " skinparam monochrome true\r\n",
       "skinparam classbackgroundcolor white\r\n",
       "skinparam shadowing false\r\n",
       "skinparam wrapWidth 300\r\n",
       "hide circle\r\n",
       "\r\n",
       "def \"DecisionTest\" as E1  <<(T,blue)action def>> [[psysml:a3695254-583a-41e6-95b4-07f76a5805ed ]] \r\n",
       "@enduml\r\n",
       "\n",
       "PlantUML version 1.2020.13(Sat Jun 13 12:26:38 UTC 2020)\n",
       "(EPL source distribution)\n",
       "Java Runtime: OpenJDK Runtime Environment\n",
       "JVM: OpenJDK 64-Bit Server VM\n",
       "Default Encoding: UTF-8\n",
       "Language: en\n",
       "Country: null\n",
       "--></g></svg>"
      ]
     },
     "execution_count": 5,
     "metadata": {},
     "output_type": "execute_result"
    }
   ],
   "source": [
    "%viz --style=\"COMPTREE\" --view=\"Interconnection\" \"DecisionTest\""
   ]
  },
  {
   "cell_type": "code",
   "execution_count": 6,
   "id": "respiratory-region",
   "metadata": {
    "execution": {
     "iopub.execute_input": "2021-03-25T13:22:41.735354Z",
     "iopub.status.busy": "2021-03-25T13:22:41.734542Z",
     "iopub.status.idle": "2021-03-25T13:22:41.785572Z",
     "shell.execute_reply": "2021-03-25T13:22:41.785195Z"
    }
   },
   "outputs": [
    {
     "data": {
      "image/svg+xml": [
       "<?xml version=\"1.0\" encoding=\"UTF-8\" standalone=\"no\"?><svg xmlns=\"http://www.w3.org/2000/svg\" xmlns:xlink=\"http://www.w3.org/1999/xlink\" contentScriptType=\"application/ecmascript\" contentStyleType=\"text/css\" height=\"288px\" preserveAspectRatio=\"none\" style=\"width:877px;height:288px;background:#000000;\" version=\"1.1\" viewBox=\"0 0 877 288\" width=\"877px\" zoomAndPan=\"magnify\"><defs/><g><rect fill=\"#011025\" height=\"1\" style=\"stroke: #011025; stroke-width: 1.0;\" width=\"1\" x=\"0\" y=\"0\"/><rect fill=\"#33FF02\" height=\"21.2969\" style=\"stroke: #33FF02; stroke-width: 1.0;\" width=\"870\" x=\"5\" y=\"5\"/><text fill=\"#000000\" font-family=\"sans-serif\" font-size=\"14\" font-weight=\"bold\" lengthAdjust=\"spacingAndGlyphs\" textLength=\"178\" x=\"6\" y=\"20\">[From string (line 14) ]</text><text fill=\"#33FF02\" font-family=\"sans-serif\" font-size=\"14\" font-weight=\"bold\" lengthAdjust=\"spacingAndGlyphs\" textLength=\"0\" x=\"10\" y=\"40.2969\"/><text fill=\"#33FF02\" font-family=\"sans-serif\" font-size=\"14\" font-weight=\"bold\" lengthAdjust=\"spacingAndGlyphs\" textLength=\"79\" x=\"5\" y=\"56.5938\">@startuml</text><text fill=\"#33FF02\" font-family=\"sans-serif\" font-size=\"14\" font-weight=\"bold\" lengthAdjust=\"spacingAndGlyphs\" textLength=\"165\" x=\"5\" y=\"72.8906\">skinparam ranksep 8</text><text fill=\"#33FF02\" font-family=\"sans-serif\" font-size=\"14\" font-weight=\"bold\" lengthAdjust=\"spacingAndGlyphs\" textLength=\"228\" x=\"10\" y=\"89.1875\">skinparam monochrome true</text><text fill=\"#33FF02\" font-family=\"sans-serif\" font-size=\"14\" font-weight=\"bold\" lengthAdjust=\"spacingAndGlyphs\" textLength=\"309\" x=\"5\" y=\"105.4844\">skinparam classbackgroundcolor white</text><text fill=\"#33FF02\" font-family=\"sans-serif\" font-size=\"14\" font-weight=\"bold\" lengthAdjust=\"spacingAndGlyphs\" textLength=\"215\" x=\"5\" y=\"121.7813\">skinparam shadowing false</text><text fill=\"#33FF02\" font-family=\"sans-serif\" font-size=\"14\" font-weight=\"bold\" lengthAdjust=\"spacingAndGlyphs\" textLength=\"206\" x=\"5\" y=\"138.0781\">skinparam wrapWidth 300</text><text fill=\"#33FF02\" font-family=\"sans-serif\" font-size=\"14\" font-weight=\"bold\" lengthAdjust=\"spacingAndGlyphs\" textLength=\"82\" x=\"5\" y=\"154.375\">hide circle</text><text fill=\"#33FF02\" font-family=\"sans-serif\" font-size=\"14\" font-weight=\"bold\" lengthAdjust=\"spacingAndGlyphs\" textLength=\"0\" x=\"10\" y=\"170.6719\"/><text fill=\"#33FF02\" font-family=\"sans-serif\" font-size=\"14\" font-weight=\"bold\" lengthAdjust=\"spacingAndGlyphs\" textLength=\"870\" x=\"5\" y=\"186.9688\">rec def \"DecisionTest\" as E1  &lt;&lt;(T,blue)action def&gt;&gt; [[psysml:a3695254-583a-41e6-95b4-07f76a5805ed ]] {</text><text fill=\"#33FF02\" font-family=\"sans-serif\" font-size=\"14\" font-weight=\"bold\" lengthAdjust=\"spacingAndGlyphs\" textLength=\"623\" x=\"5\" y=\"203.2656\">portout \"$result\" as E2  [[psysml:736cbe2e-e614-4ea2-922e-635e617bb808 ]]</text><text fill=\"#33FF02\" font-family=\"sans-serif\" font-size=\"14\" font-weight=\"bold\" lengthAdjust=\"spacingAndGlyphs\" textLength=\"861\" x=\"5\" y=\"219.5625\">rec usage \"test x\" as E3  &lt;&lt;(T,blue)decisionNode&gt;&gt; [[psysml:fd19b455-89d5-459d-92f7-d1815185add7 ]] {</text><text fill=\"#33FF02\" font-family=\"sans-serif\" font-size=\"14\" font-weight=\"bold\" lengthAdjust=\"spacingAndGlyphs\" textLength=\"10\" x=\"5\" y=\"235.8594\">}</text><text fill=\"#33FF02\" font-family=\"sans-serif\" font-size=\"14\" font-weight=\"bold\" lengthAdjust=\"spacingAndGlyphs\" textLength=\"0\" x=\"10\" y=\"252.1563\"/><text fill=\"#33FF02\" font-family=\"sans-serif\" font-size=\"14\" font-weight=\"bold\" lengthAdjust=\"spacingAndGlyphs\" textLength=\"10\" x=\"5\" y=\"268.4531\">{</text><text fill=\"#FF0000\" font-family=\"sans-serif\" font-size=\"14\" font-weight=\"bold\" lengthAdjust=\"spacingAndGlyphs\" textLength=\"106\" x=\"10\" y=\"284.75\">Syntax Error?</text><!--MD5=[c3f6a73f359c3a52678c2f30a859403b]\n",
       "@startuml\r\n",
       "skinparam ranksep 8\r\n",
       " skinparam monochrome true\r\n",
       "skinparam classbackgroundcolor white\r\n",
       "skinparam shadowing false\r\n",
       "skinparam wrapWidth 300\r\n",
       "hide circle\r\n",
       "\r\n",
       "rec def \"DecisionTest\" as E1  <<(T,blue)action def>> [[psysml:a3695254-583a-41e6-95b4-07f76a5805ed ]] {\r\n",
       "portout \"$result\" as E2  [[psysml:736cbe2e-e614-4ea2-922e-635e617bb808 ]] \r\n",
       "rec usage \"test x\" as E3  <<(T,blue)decisionNode>> [[psysml:fd19b455-89d5-459d-92f7-d1815185add7 ]] {\r\n",
       "}\r\n",
       "\r\n",
       "{\r\n",
       "portout \"$result\" as E4  [[psysml:6d4a6456-a7ec-4177-87e4-ea5c100c5f7a ]] \r\n",
       "portin \"$x\" as E5  [[psysml:810bc03f-55fb-40a2-b55c-bd606a6d8860 ]] \r\n",
       "portin \"$y\" as E6  [[psysml:9b327a8e-6a1a-4f88-b23a-313c42dc41ad ]] \r\n",
       "portout \"$result\" as E7  [[psysml:3482b99c-6d5f-462a-981f-843523b909ab ]] \r\n",
       "}\r\n",
       "\r\n",
       "{\r\n",
       "portout \"$result\" as E8  [[psysml:8d6fc5ff-5a7b-4326-8fe2-a1e00b49613b ]] \r\n",
       "portin \"$x\" as E9  [[psysml:46b1300e-a73a-4c43-b5e8-ea161bf29b84 ]] \r\n",
       "portin \"$y\" as E10  [[psysml:4c9eaf15-63e7-4329-aa99-8209cbaf88bd ]] \r\n",
       "portout \"$result\" as E11  [[psysml:db374472-9b3d-40ef-87c4-0779379afe59 ]] \r\n",
       "}\r\n",
       "\r\n",
       "{\r\n",
       "}\r\n",
       "\r\n",
       "{\r\n",
       "}\r\n",
       "\r\n",
       "{\r\n",
       "portout \"$result\" as E12  [[psysml:e0510f13-cf5f-43a3-a7c7-2804245d6335 ]] \r\n",
       "}\r\n",
       "\r\n",
       "{\r\n",
       "portout \"$result\" as E13  [[psysml:bcae0eca-1466-485e-a896-a9c2508efe87 ]] \r\n",
       "}\r\n",
       "\r\n",
       "rec usage \"A1\" as E14  <<(T,blue)action>> [[psysml:fe5e89f6-2dc9-4b0f-8489-37aae8d1db14 ]] {\r\n",
       "}\r\n",
       "\r\n",
       "rec usage \"A2\" as E15  <<(T,blue)action>> [[psysml:4cc0bf78-e417-49bc-8d88-351983c62136 ]] {\r\n",
       "}\r\n",
       "\r\n",
       "rec usage \"A3\" as E16  <<(T,blue)action>> [[psysml:b76bbc08-81d4-47ab-9a49-666299d123cf ]] {\r\n",
       "}\r\n",
       "\r\n",
       "rec usage \"S\" as E17  <<(T,blue)transition>> [[psysml:fe245d46-438e-4c8f-ab18-310121fc2f41 ]] {\r\n",
       "rec usage \"A1\" as E18  <<(T,blue)action>> [[psysml:fe5e89f6-2dc9-4b0f-8489-37aae8d1db14 ]] {\r\n",
       "}\r\n",
       "\r\n",
       "portout \"$result\" as E19  [[psysml:5f694de1-2ca1-44b7-80b3-60a608cc3133 ]] \r\n",
       "portin \"$x\" as E20  [[psysml:8143e50d-1193-4d25-859f-77f062ba674d ]] \r\n",
       "portin \"$y\" as E21  [[psysml:ba8e69b2-a3c6-4a24-b7d7-ae4c7f563c95 ]] \r\n",
       "portout \"$result\" as E22  [[psysml:24237d18-6666-403f-9475-d2e8cf84f852 ]] \r\n",
       "}\r\n",
       "\r\n",
       "rec usage \"A3\" as E23  <<(T,blue)action>> [[psysml:b76bbc08-81d4-47ab-9a49-666299d123cf ]] {\r\n",
       "}\r\n",
       "\r\n",
       "{\r\n",
       "portout \"$result\" as E24  [[psysml:f904355a-9712-4e0c-a9b6-5ecdd1390be6 ]] \r\n",
       "portin \"$x\" as E25  [[psysml:c4435769-fd75-4fbf-95a7-29566a6c8186 ]] \r\n",
       "portin \"$y\" as E26  [[psysml:e2db5bbd-dd5d-422a-81f2-d836869b1ec1 ]] \r\n",
       "portout \"$result\" as E27  [[psysml:f774fe7e-8d66-439a-b027-16ceb2b41e9d ]] \r\n",
       "}\r\n",
       "\r\n",
       "}\r\n",
       "\r\n",
       "E6 -[thickness=5]- E4 [[psysml:22575a94-d313-4c92-b3bf-e872aff40b38 ]] \r\n",
       "E10 -[thickness=5]- E8 [[psysml:468e3065-35eb-4f7a-b0d7-b4ac24204b50 ]] \r\n",
       "E21 -[thickness=5]- E19 [[psysml:6eff49c6-4c1b-4a79-924a-d43d01989d36 ]] \r\n",
       "E26 -[thickness=5]- E24 [[psysml:02504f01-5bd4-4b5c-8fa7-2e89e01e6fe9 ]] \r\n",
       "@enduml\r\n",
       "\n",
       "PlantUML version 1.2020.13(Sat Jun 13 12:26:38 UTC 2020)\n",
       "(EPL source distribution)\n",
       "Java Runtime: OpenJDK Runtime Environment\n",
       "JVM: OpenJDK 64-Bit Server VM\n",
       "Default Encoding: UTF-8\n",
       "Language: en\n",
       "Country: null\n",
       "--></g></svg>"
      ]
     },
     "execution_count": 6,
     "metadata": {},
     "output_type": "execute_result"
    }
   ],
   "source": [
    "%viz --style=\"COMPTREE\" --view=\"Action\" \"DecisionTest\""
   ]
  },
  {
   "cell_type": "code",
   "execution_count": 7,
   "id": "nonprofit-burner",
   "metadata": {
    "execution": {
     "iopub.execute_input": "2021-03-25T13:22:41.836634Z",
     "iopub.status.busy": "2021-03-25T13:22:41.836009Z",
     "iopub.status.idle": "2021-03-25T13:22:42.306405Z",
     "shell.execute_reply": "2021-03-25T13:22:42.305860Z"
    }
   },
   "outputs": [
    {
     "data": {
      "image/svg+xml": [
       "<?xml version=\"1.0\" encoding=\"UTF-8\" standalone=\"no\"?><svg xmlns=\"http://www.w3.org/2000/svg\" xmlns:xlink=\"http://www.w3.org/1999/xlink\" contentScriptType=\"application/ecmascript\" contentStyleType=\"text/css\" height=\"207px\" preserveAspectRatio=\"none\" style=\"width:109px;height:207px;\" version=\"1.1\" viewBox=\"0 0 109 207\" width=\"109px\" zoomAndPan=\"magnify\"><defs/><g><!--MD5=[43c9051892ef23e1a46a86907403d788]\n",
       "class E1--><a href=\"psysml:a3695254-583a-41e6-95b4-07f76a5805ed\" target=\"_top\" title=\"psysml:a3695254-583a-41e6-95b4-07f76a5805ed\" xlink:actuate=\"onRequest\" xlink:href=\"psysml:a3695254-583a-41e6-95b4-07f76a5805ed\" xlink:show=\"new\" xlink:title=\"psysml:a3695254-583a-41e6-95b4-07f76a5805ed\" xlink:type=\"simple\"><rect fill=\"#FFFFFF\" height=\"189.9844\" id=\"E1\" style=\"stroke: #383838; stroke-width: 1.5;\" width=\"91\" x=\"7\" y=\"7\"/><text fill=\"#000000\" font-family=\"sans-serif\" font-size=\"12\" font-style=\"italic\" lengthAdjust=\"spacingAndGlyphs\" textLength=\"77\" x=\"14\" y=\"23.1387\">«action def»</text><text fill=\"#000000\" font-family=\"sans-serif\" font-size=\"12\" lengthAdjust=\"spacingAndGlyphs\" textLength=\"80\" x=\"12.5\" y=\"37.1074\">DecisionTest</text><line style=\"stroke: #383838; stroke-width: 1.5;\" x1=\"8\" x2=\"97\" y1=\"44.9375\" y2=\"44.9375\"/><text fill=\"#000000\" font-family=\"sans-serif\" font-size=\"11\" lengthAdjust=\"spacingAndGlyphs\" textLength=\"6\" x=\"13\" y=\"75.9526\">x</text><line style=\"stroke: #383838; stroke-width: 1.0;\" x1=\"8\" x2=\"25\" y1=\"59.3398\" y2=\"59.3398\"/><text fill=\"#000000\" font-family=\"sans-serif\" font-size=\"11\" lengthAdjust=\"spacingAndGlyphs\" textLength=\"55\" x=\"25\" y=\"62.6479\">attributes</text><line style=\"stroke: #383838; stroke-width: 1.0;\" x1=\"80\" x2=\"97\" y1=\"59.3398\" y2=\"59.3398\"/><text fill=\"#000000\" font-family=\"sans-serif\" font-size=\"11\" lengthAdjust=\"spacingAndGlyphs\" textLength=\"14\" x=\"13\" y=\"105.562\">A1</text><text fill=\"#000000\" font-family=\"sans-serif\" font-size=\"11\" lengthAdjust=\"spacingAndGlyphs\" textLength=\"14\" x=\"13\" y=\"118.3667\">A2</text><text fill=\"#000000\" font-family=\"sans-serif\" font-size=\"11\" lengthAdjust=\"spacingAndGlyphs\" textLength=\"14\" x=\"13\" y=\"131.1714\">A3</text><line style=\"stroke: #383838; stroke-width: 1.0;\" x1=\"8\" x2=\"32\" y1=\"88.9492\" y2=\"88.9492\"/><text fill=\"#000000\" font-family=\"sans-serif\" font-size=\"11\" lengthAdjust=\"spacingAndGlyphs\" textLength=\"41\" x=\"32\" y=\"92.2573\">actions</text><line style=\"stroke: #383838; stroke-width: 1.0;\" x1=\"73\" x2=\"97\" y1=\"88.9492\" y2=\"88.9492\"/><text fill=\"#000000\" font-family=\"sans-serif\" font-size=\"11\" lengthAdjust=\"spacingAndGlyphs\" textLength=\"32\" x=\"13\" y=\"160.7808\">test x</text><line style=\"stroke: #383838; stroke-width: 1.0;\" x1=\"8\" x2=\"11\" y1=\"144.168\" y2=\"144.168\"/><text fill=\"#000000\" font-family=\"sans-serif\" font-size=\"11\" lengthAdjust=\"spacingAndGlyphs\" textLength=\"83\" x=\"11\" y=\"147.4761\">decisionNodes</text><line style=\"stroke: #383838; stroke-width: 1.0;\" x1=\"94\" x2=\"97\" y1=\"144.168\" y2=\"144.168\"/><text fill=\"#000000\" font-family=\"sans-serif\" font-size=\"11\" lengthAdjust=\"spacingAndGlyphs\" textLength=\"8\" x=\"13\" y=\"190.3901\">S</text><line style=\"stroke: #383838; stroke-width: 1.0;\" x1=\"8\" x2=\"22\" y1=\"173.7773\" y2=\"173.7773\"/><text fill=\"#000000\" font-family=\"sans-serif\" font-size=\"11\" lengthAdjust=\"spacingAndGlyphs\" textLength=\"61\" x=\"22\" y=\"177.0854\">transitions</text><line style=\"stroke: #383838; stroke-width: 1.0;\" x1=\"83\" x2=\"97\" y1=\"173.7773\" y2=\"173.7773\"/></a><!--MD5=[bc64f1eaae8ee727a44570d845e1c6bd]\n",
       "@startuml\r\n",
       " skinparam monochrome true\r\n",
       "skinparam classbackgroundcolor white\r\n",
       "skinparam shadowing false\r\n",
       "skinparam wrapWidth 300\r\n",
       "hide circle\r\n",
       "\r\n",
       "comp def \"DecisionTest\" as E1  <<(T,blue)action def>> [[psysml:a3695254-583a-41e6-95b4-07f76a5805ed ]] {\r\n",
       "- - attributes - -\r\n",
       "x\r\n",
       "- - actions - -\r\n",
       "A1\r\n",
       "A2\r\n",
       "A3\r\n",
       "- - decisionNodes - -\r\n",
       "test x\r\n",
       "- - transitions - -\r\n",
       "S\r\n",
       "}\r\n",
       "@enduml\r\n",
       "\n",
       "PlantUML version 1.2020.13(Sat Jun 13 12:26:38 UTC 2020)\n",
       "(EPL source distribution)\n",
       "Java Runtime: OpenJDK Runtime Environment\n",
       "JVM: OpenJDK 64-Bit Server VM\n",
       "Default Encoding: UTF-8\n",
       "Language: en\n",
       "Country: null\n",
       "--></g></svg>"
      ]
     },
     "execution_count": 7,
     "metadata": {},
     "output_type": "execute_result"
    }
   ],
   "source": [
    "%viz --style=\"COMPTREE\" --view=\"Sequence\" \"DecisionTest\""
   ]
  },
  {
   "cell_type": "code",
   "execution_count": 8,
   "id": "dress-desire",
   "metadata": {
    "execution": {
     "iopub.execute_input": "2021-03-25T13:22:42.358874Z",
     "iopub.status.busy": "2021-03-25T13:22:42.358297Z",
     "iopub.status.idle": "2021-03-25T13:22:42.409183Z",
     "shell.execute_reply": "2021-03-25T13:22:42.408595Z"
    }
   },
   "outputs": [
    {
     "data": {
      "image/svg+xml": [
       "<?xml version=\"1.0\" encoding=\"UTF-8\" standalone=\"no\"?><svg xmlns=\"http://www.w3.org/2000/svg\" xmlns:xlink=\"http://www.w3.org/1999/xlink\" contentScriptType=\"application/ecmascript\" contentStyleType=\"text/css\" height=\"271px\" preserveAspectRatio=\"none\" style=\"width:877px;height:271px;background:#000000;\" version=\"1.1\" viewBox=\"0 0 877 271\" width=\"877px\" zoomAndPan=\"magnify\"><defs/><g><rect fill=\"#1F0717\" height=\"1\" style=\"stroke: #1F0717; stroke-width: 1.0;\" width=\"1\" x=\"0\" y=\"0\"/><rect fill=\"#33FF02\" height=\"21.2969\" style=\"stroke: #33FF02; stroke-width: 1.0;\" width=\"870\" x=\"5\" y=\"5\"/><text fill=\"#000000\" font-family=\"sans-serif\" font-size=\"14\" font-weight=\"bold\" lengthAdjust=\"spacingAndGlyphs\" textLength=\"178\" x=\"6\" y=\"20\">[From string (line 13) ]</text><text fill=\"#33FF02\" font-family=\"sans-serif\" font-size=\"14\" font-weight=\"bold\" lengthAdjust=\"spacingAndGlyphs\" textLength=\"0\" x=\"10\" y=\"40.2969\"/><text fill=\"#33FF02\" font-family=\"sans-serif\" font-size=\"14\" font-weight=\"bold\" lengthAdjust=\"spacingAndGlyphs\" textLength=\"79\" x=\"5\" y=\"56.5938\">@startuml</text><text fill=\"#33FF02\" font-family=\"sans-serif\" font-size=\"14\" font-weight=\"bold\" lengthAdjust=\"spacingAndGlyphs\" textLength=\"228\" x=\"10\" y=\"72.8906\">skinparam monochrome true</text><text fill=\"#33FF02\" font-family=\"sans-serif\" font-size=\"14\" font-weight=\"bold\" lengthAdjust=\"spacingAndGlyphs\" textLength=\"309\" x=\"5\" y=\"89.1875\">skinparam classbackgroundcolor white</text><text fill=\"#33FF02\" font-family=\"sans-serif\" font-size=\"14\" font-weight=\"bold\" lengthAdjust=\"spacingAndGlyphs\" textLength=\"215\" x=\"5\" y=\"105.4844\">skinparam shadowing false</text><text fill=\"#33FF02\" font-family=\"sans-serif\" font-size=\"14\" font-weight=\"bold\" lengthAdjust=\"spacingAndGlyphs\" textLength=\"206\" x=\"5\" y=\"121.7813\">skinparam wrapWidth 300</text><text fill=\"#33FF02\" font-family=\"sans-serif\" font-size=\"14\" font-weight=\"bold\" lengthAdjust=\"spacingAndGlyphs\" textLength=\"82\" x=\"5\" y=\"138.0781\">hide circle</text><text fill=\"#33FF02\" font-family=\"sans-serif\" font-size=\"14\" font-weight=\"bold\" lengthAdjust=\"spacingAndGlyphs\" textLength=\"0\" x=\"10\" y=\"154.375\"/><text fill=\"#33FF02\" font-family=\"sans-serif\" font-size=\"14\" font-weight=\"bold\" lengthAdjust=\"spacingAndGlyphs\" textLength=\"870\" x=\"5\" y=\"170.6719\">rec def \"DecisionTest\" as E1  &lt;&lt;(T,blue)action def&gt;&gt; [[psysml:a3695254-583a-41e6-95b4-07f76a5805ed ]] {</text><text fill=\"#33FF02\" font-family=\"sans-serif\" font-size=\"14\" font-weight=\"bold\" lengthAdjust=\"spacingAndGlyphs\" textLength=\"623\" x=\"5\" y=\"186.9688\">portout \"$result\" as E2  [[psysml:736cbe2e-e614-4ea2-922e-635e617bb808 ]]</text><text fill=\"#33FF02\" font-family=\"sans-serif\" font-size=\"14\" font-weight=\"bold\" lengthAdjust=\"spacingAndGlyphs\" textLength=\"861\" x=\"5\" y=\"203.2656\">rec usage \"test x\" as E3  &lt;&lt;(T,blue)decisionNode&gt;&gt; [[psysml:fd19b455-89d5-459d-92f7-d1815185add7 ]] {</text><text fill=\"#33FF02\" font-family=\"sans-serif\" font-size=\"14\" font-weight=\"bold\" lengthAdjust=\"spacingAndGlyphs\" textLength=\"10\" x=\"5\" y=\"219.5625\">}</text><text fill=\"#33FF02\" font-family=\"sans-serif\" font-size=\"14\" font-weight=\"bold\" lengthAdjust=\"spacingAndGlyphs\" textLength=\"0\" x=\"10\" y=\"235.8594\"/><text fill=\"#33FF02\" font-family=\"sans-serif\" font-size=\"14\" font-weight=\"bold\" lengthAdjust=\"spacingAndGlyphs\" textLength=\"10\" x=\"5\" y=\"252.1563\">{</text><text fill=\"#FF0000\" font-family=\"sans-serif\" font-size=\"14\" font-weight=\"bold\" lengthAdjust=\"spacingAndGlyphs\" textLength=\"106\" x=\"10\" y=\"268.4531\">Syntax Error?</text><!--MD5=[30118f4039ca5f989edf3c0421ec4781]\n",
       "@startuml\r\n",
       " skinparam monochrome true\r\n",
       "skinparam classbackgroundcolor white\r\n",
       "skinparam shadowing false\r\n",
       "skinparam wrapWidth 300\r\n",
       "hide circle\r\n",
       "\r\n",
       "rec def \"DecisionTest\" as E1  <<(T,blue)action def>> [[psysml:a3695254-583a-41e6-95b4-07f76a5805ed ]] {\r\n",
       "portout \"$result\" as E2  [[psysml:736cbe2e-e614-4ea2-922e-635e617bb808 ]] \r\n",
       "rec usage \"test x\" as E3  <<(T,blue)decisionNode>> [[psysml:fd19b455-89d5-459d-92f7-d1815185add7 ]] {\r\n",
       "}\r\n",
       "\r\n",
       "{\r\n",
       "portout \"$result\" as E4  [[psysml:6d4a6456-a7ec-4177-87e4-ea5c100c5f7a ]] \r\n",
       "portin \"$x\" as E5  [[psysml:810bc03f-55fb-40a2-b55c-bd606a6d8860 ]] \r\n",
       "portin \"$y\" as E6  [[psysml:9b327a8e-6a1a-4f88-b23a-313c42dc41ad ]] \r\n",
       "portout \"$result\" as E7  [[psysml:3482b99c-6d5f-462a-981f-843523b909ab ]] \r\n",
       "}\r\n",
       "\r\n",
       "{\r\n",
       "portout \"$result\" as E8  [[psysml:8d6fc5ff-5a7b-4326-8fe2-a1e00b49613b ]] \r\n",
       "portin \"$x\" as E9  [[psysml:46b1300e-a73a-4c43-b5e8-ea161bf29b84 ]] \r\n",
       "portin \"$y\" as E10  [[psysml:4c9eaf15-63e7-4329-aa99-8209cbaf88bd ]] \r\n",
       "portout \"$result\" as E11  [[psysml:db374472-9b3d-40ef-87c4-0779379afe59 ]] \r\n",
       "}\r\n",
       "\r\n",
       "{\r\n",
       "}\r\n",
       "\r\n",
       "{\r\n",
       "}\r\n",
       "\r\n",
       "{\r\n",
       "portout \"$result\" as E12  [[psysml:e0510f13-cf5f-43a3-a7c7-2804245d6335 ]] \r\n",
       "}\r\n",
       "\r\n",
       "{\r\n",
       "portout \"$result\" as E13  [[psysml:bcae0eca-1466-485e-a896-a9c2508efe87 ]] \r\n",
       "}\r\n",
       "\r\n",
       "rec usage \"A1\" as E14  <<(T,blue)action>> [[psysml:fe5e89f6-2dc9-4b0f-8489-37aae8d1db14 ]] {\r\n",
       "}\r\n",
       "\r\n",
       "rec usage \"A2\" as E15  <<(T,blue)action>> [[psysml:4cc0bf78-e417-49bc-8d88-351983c62136 ]] {\r\n",
       "}\r\n",
       "\r\n",
       "rec usage \"A3\" as E16  <<(T,blue)action>> [[psysml:b76bbc08-81d4-47ab-9a49-666299d123cf ]] {\r\n",
       "}\r\n",
       "\r\n",
       "rec usage \"S\" as E17  <<(T,blue)transition>> [[psysml:fe245d46-438e-4c8f-ab18-310121fc2f41 ]] {\r\n",
       "rec usage \"A1\" as E18  <<(T,blue)action>> [[psysml:fe5e89f6-2dc9-4b0f-8489-37aae8d1db14 ]] {\r\n",
       "}\r\n",
       "\r\n",
       "portout \"$result\" as E19  [[psysml:5f694de1-2ca1-44b7-80b3-60a608cc3133 ]] \r\n",
       "portin \"$x\" as E20  [[psysml:8143e50d-1193-4d25-859f-77f062ba674d ]] \r\n",
       "portin \"$y\" as E21  [[psysml:ba8e69b2-a3c6-4a24-b7d7-ae4c7f563c95 ]] \r\n",
       "portout \"$result\" as E22  [[psysml:24237d18-6666-403f-9475-d2e8cf84f852 ]] \r\n",
       "}\r\n",
       "\r\n",
       "rec usage \"A3\" as E23  <<(T,blue)action>> [[psysml:b76bbc08-81d4-47ab-9a49-666299d123cf ]] {\r\n",
       "}\r\n",
       "\r\n",
       "{\r\n",
       "portout \"$result\" as E24  [[psysml:f904355a-9712-4e0c-a9b6-5ecdd1390be6 ]] \r\n",
       "portin \"$x\" as E25  [[psysml:c4435769-fd75-4fbf-95a7-29566a6c8186 ]] \r\n",
       "portin \"$y\" as E26  [[psysml:e2db5bbd-dd5d-422a-81f2-d836869b1ec1 ]] \r\n",
       "portout \"$result\" as E27  [[psysml:f774fe7e-8d66-439a-b027-16ceb2b41e9d ]] \r\n",
       "}\r\n",
       "\r\n",
       "}\r\n",
       "\r\n",
       "E6 -[thickness=5]- E4 [[psysml:22575a94-d313-4c92-b3bf-e872aff40b38 ]] \r\n",
       "E10 -[thickness=5]- E8 [[psysml:468e3065-35eb-4f7a-b0d7-b4ac24204b50 ]] \r\n",
       "E21 -[thickness=5]- E19 [[psysml:6eff49c6-4c1b-4a79-924a-d43d01989d36 ]] \r\n",
       "E26 -[thickness=5]- E24 [[psysml:02504f01-5bd4-4b5c-8fa7-2e89e01e6fe9 ]] \r\n",
       "@enduml\r\n",
       "\n",
       "PlantUML version 1.2020.13(Sat Jun 13 12:26:38 UTC 2020)\n",
       "(EPL source distribution)\n",
       "Java Runtime: OpenJDK Runtime Environment\n",
       "JVM: OpenJDK 64-Bit Server VM\n",
       "Default Encoding: UTF-8\n",
       "Language: en\n",
       "Country: null\n",
       "--></g></svg>"
      ]
     },
     "execution_count": 8,
     "metadata": {},
     "output_type": "execute_result"
    }
   ],
   "source": [
    "%viz --style=\"COMPTREE\" --view=\"MIXED\" \"DecisionTest\""
   ]
  },
  {
   "cell_type": "code",
   "execution_count": 9,
   "id": "cathedral-scottish",
   "metadata": {
    "execution": {
     "iopub.execute_input": "2021-03-25T13:22:42.460087Z",
     "iopub.status.busy": "2021-03-25T13:22:42.459156Z",
     "iopub.status.idle": "2021-03-25T13:22:42.509873Z",
     "shell.execute_reply": "2021-03-25T13:22:42.509235Z"
    }
   },
   "outputs": [
    {
     "data": {
      "image/svg+xml": [
       "<?xml version=\"1.0\" encoding=\"UTF-8\" standalone=\"no\"?><svg xmlns=\"http://www.w3.org/2000/svg\" xmlns:xlink=\"http://www.w3.org/1999/xlink\" contentScriptType=\"application/ecmascript\" contentStyleType=\"text/css\" height=\"288px\" preserveAspectRatio=\"none\" style=\"width:877px;height:288px;background:#000000;\" version=\"1.1\" viewBox=\"0 0 877 288\" width=\"877px\" zoomAndPan=\"magnify\"><defs/><g><rect fill=\"#04211B\" height=\"1\" style=\"stroke: #04211B; stroke-width: 1.0;\" width=\"1\" x=\"0\" y=\"0\"/><rect fill=\"#33FF02\" height=\"21.2969\" style=\"stroke: #33FF02; stroke-width: 1.0;\" width=\"870\" x=\"5\" y=\"5\"/><text fill=\"#000000\" font-family=\"sans-serif\" font-size=\"14\" font-weight=\"bold\" lengthAdjust=\"spacingAndGlyphs\" textLength=\"178\" x=\"6\" y=\"20\">[From string (line 14) ]</text><text fill=\"#33FF02\" font-family=\"sans-serif\" font-size=\"14\" font-weight=\"bold\" lengthAdjust=\"spacingAndGlyphs\" textLength=\"0\" x=\"10\" y=\"40.2969\"/><text fill=\"#33FF02\" font-family=\"sans-serif\" font-size=\"14\" font-weight=\"bold\" lengthAdjust=\"spacingAndGlyphs\" textLength=\"79\" x=\"5\" y=\"56.5938\">@startuml</text><text fill=\"#33FF02\" font-family=\"sans-serif\" font-size=\"14\" font-weight=\"bold\" lengthAdjust=\"spacingAndGlyphs\" textLength=\"215\" x=\"5\" y=\"72.8906\">skinparam linetype polyline</text><text fill=\"#33FF02\" font-family=\"sans-serif\" font-size=\"14\" font-weight=\"bold\" lengthAdjust=\"spacingAndGlyphs\" textLength=\"228\" x=\"5\" y=\"89.1875\">skinparam monochrome true</text><text fill=\"#33FF02\" font-family=\"sans-serif\" font-size=\"14\" font-weight=\"bold\" lengthAdjust=\"spacingAndGlyphs\" textLength=\"309\" x=\"5\" y=\"105.4844\">skinparam classbackgroundcolor white</text><text fill=\"#33FF02\" font-family=\"sans-serif\" font-size=\"14\" font-weight=\"bold\" lengthAdjust=\"spacingAndGlyphs\" textLength=\"215\" x=\"5\" y=\"121.7813\">skinparam shadowing false</text><text fill=\"#33FF02\" font-family=\"sans-serif\" font-size=\"14\" font-weight=\"bold\" lengthAdjust=\"spacingAndGlyphs\" textLength=\"206\" x=\"5\" y=\"138.0781\">skinparam wrapWidth 300</text><text fill=\"#33FF02\" font-family=\"sans-serif\" font-size=\"14\" font-weight=\"bold\" lengthAdjust=\"spacingAndGlyphs\" textLength=\"82\" x=\"5\" y=\"154.375\">hide circle</text><text fill=\"#33FF02\" font-family=\"sans-serif\" font-size=\"14\" font-weight=\"bold\" lengthAdjust=\"spacingAndGlyphs\" textLength=\"0\" x=\"10\" y=\"170.6719\"/><text fill=\"#33FF02\" font-family=\"sans-serif\" font-size=\"14\" font-weight=\"bold\" lengthAdjust=\"spacingAndGlyphs\" textLength=\"870\" x=\"5\" y=\"186.9688\">rec def \"DecisionTest\" as E1  &lt;&lt;(T,blue)action def&gt;&gt; [[psysml:a3695254-583a-41e6-95b4-07f76a5805ed ]] {</text><text fill=\"#33FF02\" font-family=\"sans-serif\" font-size=\"14\" font-weight=\"bold\" lengthAdjust=\"spacingAndGlyphs\" textLength=\"623\" x=\"5\" y=\"203.2656\">portout \"$result\" as E2  [[psysml:736cbe2e-e614-4ea2-922e-635e617bb808 ]]</text><text fill=\"#33FF02\" font-family=\"sans-serif\" font-size=\"14\" font-weight=\"bold\" lengthAdjust=\"spacingAndGlyphs\" textLength=\"861\" x=\"5\" y=\"219.5625\">rec usage \"test x\" as E3  &lt;&lt;(T,blue)decisionNode&gt;&gt; [[psysml:fd19b455-89d5-459d-92f7-d1815185add7 ]] {</text><text fill=\"#33FF02\" font-family=\"sans-serif\" font-size=\"14\" font-weight=\"bold\" lengthAdjust=\"spacingAndGlyphs\" textLength=\"10\" x=\"5\" y=\"235.8594\">}</text><text fill=\"#33FF02\" font-family=\"sans-serif\" font-size=\"14\" font-weight=\"bold\" lengthAdjust=\"spacingAndGlyphs\" textLength=\"0\" x=\"10\" y=\"252.1563\"/><text fill=\"#33FF02\" font-family=\"sans-serif\" font-size=\"14\" font-weight=\"bold\" lengthAdjust=\"spacingAndGlyphs\" textLength=\"10\" x=\"5\" y=\"268.4531\">{</text><text fill=\"#FF0000\" font-family=\"sans-serif\" font-size=\"14\" font-weight=\"bold\" lengthAdjust=\"spacingAndGlyphs\" textLength=\"106\" x=\"10\" y=\"284.75\">Syntax Error?</text><!--MD5=[7a3b505f7f8c05da427fbc7dccdb8840]\n",
       "@startuml\r\n",
       "skinparam linetype polyline\r\n",
       "skinparam monochrome true\r\n",
       "skinparam classbackgroundcolor white\r\n",
       "skinparam shadowing false\r\n",
       "skinparam wrapWidth 300\r\n",
       "hide circle\r\n",
       "\r\n",
       "rec def \"DecisionTest\" as E1  <<(T,blue)action def>> [[psysml:a3695254-583a-41e6-95b4-07f76a5805ed ]] {\r\n",
       "portout \"$result\" as E2  [[psysml:736cbe2e-e614-4ea2-922e-635e617bb808 ]] \r\n",
       "rec usage \"test x\" as E3  <<(T,blue)decisionNode>> [[psysml:fd19b455-89d5-459d-92f7-d1815185add7 ]] {\r\n",
       "}\r\n",
       "\r\n",
       "{\r\n",
       "portout \"$result\" as E4  [[psysml:6d4a6456-a7ec-4177-87e4-ea5c100c5f7a ]] \r\n",
       "portin \"$x\" as E5  [[psysml:810bc03f-55fb-40a2-b55c-bd606a6d8860 ]] \r\n",
       "portin \"$y\" as E6  [[psysml:9b327a8e-6a1a-4f88-b23a-313c42dc41ad ]] \r\n",
       "portout \"$result\" as E7  [[psysml:3482b99c-6d5f-462a-981f-843523b909ab ]] \r\n",
       "}\r\n",
       "\r\n",
       "{\r\n",
       "portout \"$result\" as E8  [[psysml:8d6fc5ff-5a7b-4326-8fe2-a1e00b49613b ]] \r\n",
       "portin \"$x\" as E9  [[psysml:46b1300e-a73a-4c43-b5e8-ea161bf29b84 ]] \r\n",
       "portin \"$y\" as E10  [[psysml:4c9eaf15-63e7-4329-aa99-8209cbaf88bd ]] \r\n",
       "portout \"$result\" as E11  [[psysml:db374472-9b3d-40ef-87c4-0779379afe59 ]] \r\n",
       "}\r\n",
       "\r\n",
       "{\r\n",
       "}\r\n",
       "\r\n",
       "{\r\n",
       "}\r\n",
       "\r\n",
       "{\r\n",
       "portout \"$result\" as E12  [[psysml:e0510f13-cf5f-43a3-a7c7-2804245d6335 ]] \r\n",
       "}\r\n",
       "\r\n",
       "{\r\n",
       "portout \"$result\" as E13  [[psysml:bcae0eca-1466-485e-a896-a9c2508efe87 ]] \r\n",
       "}\r\n",
       "\r\n",
       "rec usage \"A1\" as E14  <<(T,blue)action>> [[psysml:fe5e89f6-2dc9-4b0f-8489-37aae8d1db14 ]] {\r\n",
       "}\r\n",
       "\r\n",
       "rec usage \"A2\" as E15  <<(T,blue)action>> [[psysml:4cc0bf78-e417-49bc-8d88-351983c62136 ]] {\r\n",
       "}\r\n",
       "\r\n",
       "rec usage \"A3\" as E16  <<(T,blue)action>> [[psysml:b76bbc08-81d4-47ab-9a49-666299d123cf ]] {\r\n",
       "}\r\n",
       "\r\n",
       "rec usage \"S\" as E17  <<(T,blue)transition>> [[psysml:fe245d46-438e-4c8f-ab18-310121fc2f41 ]] {\r\n",
       "rec usage \"A1\" as E18  <<(T,blue)action>> [[psysml:fe5e89f6-2dc9-4b0f-8489-37aae8d1db14 ]] {\r\n",
       "}\r\n",
       "\r\n",
       "portout \"$result\" as E19  [[psysml:5f694de1-2ca1-44b7-80b3-60a608cc3133 ]] \r\n",
       "portin \"$x\" as E20  [[psysml:8143e50d-1193-4d25-859f-77f062ba674d ]] \r\n",
       "portin \"$y\" as E21  [[psysml:ba8e69b2-a3c6-4a24-b7d7-ae4c7f563c95 ]] \r\n",
       "portout \"$result\" as E22  [[psysml:24237d18-6666-403f-9475-d2e8cf84f852 ]] \r\n",
       "}\r\n",
       "\r\n",
       "rec usage \"A3\" as E23  <<(T,blue)action>> [[psysml:b76bbc08-81d4-47ab-9a49-666299d123cf ]] {\r\n",
       "}\r\n",
       "\r\n",
       "{\r\n",
       "portout \"$result\" as E24  [[psysml:f904355a-9712-4e0c-a9b6-5ecdd1390be6 ]] \r\n",
       "portin \"$x\" as E25  [[psysml:c4435769-fd75-4fbf-95a7-29566a6c8186 ]] \r\n",
       "portin \"$y\" as E26  [[psysml:e2db5bbd-dd5d-422a-81f2-d836869b1ec1 ]] \r\n",
       "portout \"$result\" as E27  [[psysml:f774fe7e-8d66-439a-b027-16ceb2b41e9d ]] \r\n",
       "}\r\n",
       "\r\n",
       "}\r\n",
       "\r\n",
       "E6 -[thickness=5]- E4 [[psysml:22575a94-d313-4c92-b3bf-e872aff40b38 ]] \r\n",
       "E10 -[thickness=5]- E8 [[psysml:468e3065-35eb-4f7a-b0d7-b4ac24204b50 ]] \r\n",
       "E21 -[thickness=5]- E19 [[psysml:6eff49c6-4c1b-4a79-924a-d43d01989d36 ]] \r\n",
       "E26 -[thickness=5]- E24 [[psysml:02504f01-5bd4-4b5c-8fa7-2e89e01e6fe9 ]] \r\n",
       "@enduml\r\n",
       "\n",
       "PlantUML version 1.2020.13(Sat Jun 13 12:26:38 UTC 2020)\n",
       "(EPL source distribution)\n",
       "Java Runtime: OpenJDK Runtime Environment\n",
       "JVM: OpenJDK 64-Bit Server VM\n",
       "Default Encoding: UTF-8\n",
       "Language: en\n",
       "Country: null\n",
       "--></g></svg>"
      ]
     },
     "execution_count": 9,
     "metadata": {},
     "output_type": "execute_result"
    }
   ],
   "source": [
    "%viz --style=\"POLYLINE\" --view=\"Default\" \"DecisionTest\""
   ]
  },
  {
   "cell_type": "code",
   "execution_count": 10,
   "id": "broad-portugal",
   "metadata": {
    "execution": {
     "iopub.execute_input": "2021-03-25T13:22:42.559814Z",
     "iopub.status.busy": "2021-03-25T13:22:42.559147Z",
     "iopub.status.idle": "2021-03-25T13:22:42.974254Z",
     "shell.execute_reply": "2021-03-25T13:22:42.973223Z"
    }
   },
   "outputs": [
    {
     "data": {
      "image/svg+xml": [
       "<?xml version=\"1.0\" encoding=\"UTF-8\" standalone=\"no\"?><svg xmlns=\"http://www.w3.org/2000/svg\" xmlns:xlink=\"http://www.w3.org/1999/xlink\" contentScriptType=\"application/ecmascript\" contentStyleType=\"text/css\" height=\"207px\" preserveAspectRatio=\"none\" style=\"width:109px;height:207px;\" version=\"1.1\" viewBox=\"0 0 109 207\" width=\"109px\" zoomAndPan=\"magnify\"><defs/><g><!--MD5=[43c9051892ef23e1a46a86907403d788]\n",
       "class E1--><a href=\"psysml:a3695254-583a-41e6-95b4-07f76a5805ed\" target=\"_top\" title=\"psysml:a3695254-583a-41e6-95b4-07f76a5805ed\" xlink:actuate=\"onRequest\" xlink:href=\"psysml:a3695254-583a-41e6-95b4-07f76a5805ed\" xlink:show=\"new\" xlink:title=\"psysml:a3695254-583a-41e6-95b4-07f76a5805ed\" xlink:type=\"simple\"><rect fill=\"#FFFFFF\" height=\"189.9844\" id=\"E1\" style=\"stroke: #383838; stroke-width: 1.5;\" width=\"91\" x=\"7\" y=\"7\"/><text fill=\"#000000\" font-family=\"sans-serif\" font-size=\"12\" font-style=\"italic\" lengthAdjust=\"spacingAndGlyphs\" textLength=\"77\" x=\"14\" y=\"23.1387\">«action def»</text><text fill=\"#000000\" font-family=\"sans-serif\" font-size=\"12\" lengthAdjust=\"spacingAndGlyphs\" textLength=\"80\" x=\"12.5\" y=\"37.1074\">DecisionTest</text><line style=\"stroke: #383838; stroke-width: 1.5;\" x1=\"8\" x2=\"97\" y1=\"44.9375\" y2=\"44.9375\"/><text fill=\"#000000\" font-family=\"sans-serif\" font-size=\"11\" lengthAdjust=\"spacingAndGlyphs\" textLength=\"6\" x=\"13\" y=\"75.9526\">x</text><line style=\"stroke: #383838; stroke-width: 1.0;\" x1=\"8\" x2=\"25\" y1=\"59.3398\" y2=\"59.3398\"/><text fill=\"#000000\" font-family=\"sans-serif\" font-size=\"11\" lengthAdjust=\"spacingAndGlyphs\" textLength=\"55\" x=\"25\" y=\"62.6479\">attributes</text><line style=\"stroke: #383838; stroke-width: 1.0;\" x1=\"80\" x2=\"97\" y1=\"59.3398\" y2=\"59.3398\"/><text fill=\"#000000\" font-family=\"sans-serif\" font-size=\"11\" lengthAdjust=\"spacingAndGlyphs\" textLength=\"14\" x=\"13\" y=\"105.562\">A1</text><text fill=\"#000000\" font-family=\"sans-serif\" font-size=\"11\" lengthAdjust=\"spacingAndGlyphs\" textLength=\"14\" x=\"13\" y=\"118.3667\">A2</text><text fill=\"#000000\" font-family=\"sans-serif\" font-size=\"11\" lengthAdjust=\"spacingAndGlyphs\" textLength=\"14\" x=\"13\" y=\"131.1714\">A3</text><line style=\"stroke: #383838; stroke-width: 1.0;\" x1=\"8\" x2=\"32\" y1=\"88.9492\" y2=\"88.9492\"/><text fill=\"#000000\" font-family=\"sans-serif\" font-size=\"11\" lengthAdjust=\"spacingAndGlyphs\" textLength=\"41\" x=\"32\" y=\"92.2573\">actions</text><line style=\"stroke: #383838; stroke-width: 1.0;\" x1=\"73\" x2=\"97\" y1=\"88.9492\" y2=\"88.9492\"/><text fill=\"#000000\" font-family=\"sans-serif\" font-size=\"11\" lengthAdjust=\"spacingAndGlyphs\" textLength=\"32\" x=\"13\" y=\"160.7808\">test x</text><line style=\"stroke: #383838; stroke-width: 1.0;\" x1=\"8\" x2=\"11\" y1=\"144.168\" y2=\"144.168\"/><text fill=\"#000000\" font-family=\"sans-serif\" font-size=\"11\" lengthAdjust=\"spacingAndGlyphs\" textLength=\"83\" x=\"11\" y=\"147.4761\">decisionNodes</text><line style=\"stroke: #383838; stroke-width: 1.0;\" x1=\"94\" x2=\"97\" y1=\"144.168\" y2=\"144.168\"/><text fill=\"#000000\" font-family=\"sans-serif\" font-size=\"11\" lengthAdjust=\"spacingAndGlyphs\" textLength=\"8\" x=\"13\" y=\"190.3901\">S</text><line style=\"stroke: #383838; stroke-width: 1.0;\" x1=\"8\" x2=\"22\" y1=\"173.7773\" y2=\"173.7773\"/><text fill=\"#000000\" font-family=\"sans-serif\" font-size=\"11\" lengthAdjust=\"spacingAndGlyphs\" textLength=\"61\" x=\"22\" y=\"177.0854\">transitions</text><line style=\"stroke: #383838; stroke-width: 1.0;\" x1=\"83\" x2=\"97\" y1=\"173.7773\" y2=\"173.7773\"/></a><!--MD5=[cdaedcf70f87aa4999da601b4684b865]\n",
       "@startuml\r\n",
       "skinparam linetype polyline\r\n",
       "skinparam monochrome true\r\n",
       "skinparam classbackgroundcolor white\r\n",
       "skinparam shadowing false\r\n",
       "skinparam wrapWidth 300\r\n",
       "hide circle\r\n",
       "\r\n",
       "comp def \"DecisionTest\" as E1  <<(T,blue)action def>> [[psysml:a3695254-583a-41e6-95b4-07f76a5805ed ]] {\r\n",
       "- - attributes - -\r\n",
       "x\r\n",
       "- - actions - -\r\n",
       "A1\r\n",
       "A2\r\n",
       "A3\r\n",
       "- - decisionNodes - -\r\n",
       "test x\r\n",
       "- - transitions - -\r\n",
       "S\r\n",
       "}\r\n",
       "@enduml\r\n",
       "\n",
       "PlantUML version 1.2020.13(Sat Jun 13 12:26:38 UTC 2020)\n",
       "(EPL source distribution)\n",
       "Java Runtime: OpenJDK Runtime Environment\n",
       "JVM: OpenJDK 64-Bit Server VM\n",
       "Default Encoding: UTF-8\n",
       "Language: en\n",
       "Country: null\n",
       "--></g></svg>"
      ]
     },
     "execution_count": 10,
     "metadata": {},
     "output_type": "execute_result"
    }
   ],
   "source": [
    "%viz --style=\"POLYLINE\" --view=\"Tree\" \"DecisionTest\""
   ]
  },
  {
   "cell_type": "code",
   "execution_count": 11,
   "id": "heard-blank",
   "metadata": {
    "execution": {
     "iopub.execute_input": "2021-03-25T13:22:43.026452Z",
     "iopub.status.busy": "2021-03-25T13:22:43.025664Z",
     "iopub.status.idle": "2021-03-25T13:22:43.036351Z",
     "shell.execute_reply": "2021-03-25T13:22:43.035851Z"
    }
   },
   "outputs": [
    {
     "data": {
      "image/svg+xml": [
       "<?xml version=\"1.0\" encoding=\"UTF-8\" standalone=\"no\"?><svg xmlns=\"http://www.w3.org/2000/svg\" xmlns:xlink=\"http://www.w3.org/1999/xlink\" contentScriptType=\"application/ecmascript\" contentStyleType=\"text/css\" height=\"12px\" preserveAspectRatio=\"none\" style=\"width:12px;height:12px;\" version=\"1.1\" viewBox=\"0 0 12 12\" width=\"12px\" zoomAndPan=\"magnify\"><defs/><g><!--MD5=[896ac0e7a515d8dd7765a661cb4ee08b]\n",
       "@startuml\r\n",
       "skinparam linetype polyline\r\n",
       "skinparam monochrome true\r\n",
       "skinparam classbackgroundcolor white\r\n",
       "skinparam shadowing false\r\n",
       "skinparam wrapWidth 300\r\n",
       "hide circle\r\n",
       "\r\n",
       "@enduml\r\n",
       "\n",
       "PlantUML version 1.2020.13(Sat Jun 13 12:26:38 UTC 2020)\n",
       "(EPL source distribution)\n",
       "Java Runtime: OpenJDK Runtime Environment\n",
       "JVM: OpenJDK 64-Bit Server VM\n",
       "Default Encoding: UTF-8\n",
       "Language: en\n",
       "Country: null\n",
       "--></g></svg>"
      ]
     },
     "execution_count": 11,
     "metadata": {},
     "output_type": "execute_result"
    }
   ],
   "source": [
    "%viz --style=\"POLYLINE\" --view=\"State\" \"DecisionTest\""
   ]
  },
  {
   "cell_type": "code",
   "execution_count": 12,
   "id": "suitable-reserve",
   "metadata": {
    "execution": {
     "iopub.execute_input": "2021-03-25T13:22:43.087945Z",
     "iopub.status.busy": "2021-03-25T13:22:43.087443Z",
     "iopub.status.idle": "2021-03-25T13:22:43.116302Z",
     "shell.execute_reply": "2021-03-25T13:22:43.116680Z"
    }
   },
   "outputs": [
    {
     "data": {
      "image/svg+xml": [
       "<?xml version=\"1.0\" encoding=\"UTF-8\" standalone=\"no\"?><svg xmlns=\"http://www.w3.org/2000/svg\" xmlns:xlink=\"http://www.w3.org/1999/xlink\" contentScriptType=\"application/ecmascript\" contentStyleType=\"text/css\" height=\"60px\" preserveAspectRatio=\"none\" style=\"width:109px;height:60px;\" version=\"1.1\" viewBox=\"0 0 109 60\" width=\"109px\" zoomAndPan=\"magnify\"><defs/><g><g id=\"E1\"><a href=\"psysml:a3695254-583a-41e6-95b4-07f76a5805ed\" target=\"_top\" title=\"psysml:a3695254-583a-41e6-95b4-07f76a5805ed\" xlink:actuate=\"onRequest\" xlink:href=\"psysml:a3695254-583a-41e6-95b4-07f76a5805ed\" xlink:show=\"new\" xlink:title=\"psysml:a3695254-583a-41e6-95b4-07f76a5805ed\" xlink:type=\"simple\"><rect fill=\"#FFFFFF\" height=\"42.9375\" id=\"E1\" style=\"stroke: #383838; stroke-width: 1.5;\" width=\"91\" x=\"7\" y=\"7\"/><rect fill=\"#F8F8F8\" height=\"37.9375\" style=\"stroke: #383838; stroke-width: 1.5;\" width=\"91\" x=\"7\" y=\"7\"/><text fill=\"#000000\" font-family=\"sans-serif\" font-size=\"12\" font-style=\"italic\" lengthAdjust=\"spacingAndGlyphs\" textLength=\"77\" x=\"14\" y=\"23.1387\">«action def»</text><text fill=\"#000000\" font-family=\"sans-serif\" font-size=\"12\" lengthAdjust=\"spacingAndGlyphs\" textLength=\"80\" x=\"12.5\" y=\"37.1074\">DecisionTest</text></a></g><!--MD5=[bb3eb7c3b793fc13fb5022806c6631a3]\n",
       "@startuml\r\n",
       "skinparam ranksep 8\r\n",
       "skinparam rectangle {\r\n",
       " backgroundColor<<block>> LightGreen\r\n",
       "}\r\n",
       "skinparam linetype polyline\r\n",
       "skinparam monochrome true\r\n",
       "skinparam classbackgroundcolor white\r\n",
       "skinparam shadowing false\r\n",
       "skinparam wrapWidth 300\r\n",
       "hide circle\r\n",
       "\r\n",
       "def \"DecisionTest\" as E1  <<(T,blue)action def>> [[psysml:a3695254-583a-41e6-95b4-07f76a5805ed ]] \r\n",
       "@enduml\r\n",
       "\n",
       "PlantUML version 1.2020.13(Sat Jun 13 12:26:38 UTC 2020)\n",
       "(EPL source distribution)\n",
       "Java Runtime: OpenJDK Runtime Environment\n",
       "JVM: OpenJDK 64-Bit Server VM\n",
       "Default Encoding: UTF-8\n",
       "Language: en\n",
       "Country: null\n",
       "--></g></svg>"
      ]
     },
     "execution_count": 12,
     "metadata": {},
     "output_type": "execute_result"
    }
   ],
   "source": [
    "%viz --style=\"POLYLINE\" --view=\"Interconnection\" \"DecisionTest\""
   ]
  },
  {
   "cell_type": "code",
   "execution_count": 13,
   "id": "speaking-ensemble",
   "metadata": {
    "execution": {
     "iopub.execute_input": "2021-03-25T13:22:43.167701Z",
     "iopub.status.busy": "2021-03-25T13:22:43.167106Z",
     "iopub.status.idle": "2021-03-25T13:22:43.203154Z",
     "shell.execute_reply": "2021-03-25T13:22:43.203566Z"
    }
   },
   "outputs": [
    {
     "data": {
      "image/svg+xml": [
       "<?xml version=\"1.0\" encoding=\"UTF-8\" standalone=\"no\"?><svg xmlns=\"http://www.w3.org/2000/svg\" xmlns:xlink=\"http://www.w3.org/1999/xlink\" contentScriptType=\"application/ecmascript\" contentStyleType=\"text/css\" height=\"304px\" preserveAspectRatio=\"none\" style=\"width:877px;height:304px;background:#000000;\" version=\"1.1\" viewBox=\"0 0 877 304\" width=\"877px\" zoomAndPan=\"magnify\"><defs/><g><rect fill=\"#041105\" height=\"1\" style=\"stroke: #041105; stroke-width: 1.0;\" width=\"1\" x=\"0\" y=\"0\"/><rect fill=\"#33FF02\" height=\"21.2969\" style=\"stroke: #33FF02; stroke-width: 1.0;\" width=\"870\" x=\"5\" y=\"5\"/><text fill=\"#000000\" font-family=\"sans-serif\" font-size=\"14\" font-weight=\"bold\" lengthAdjust=\"spacingAndGlyphs\" textLength=\"178\" x=\"6\" y=\"20\">[From string (line 15) ]</text><text fill=\"#33FF02\" font-family=\"sans-serif\" font-size=\"14\" font-weight=\"bold\" lengthAdjust=\"spacingAndGlyphs\" textLength=\"0\" x=\"10\" y=\"40.2969\"/><text fill=\"#33FF02\" font-family=\"sans-serif\" font-size=\"14\" font-weight=\"bold\" lengthAdjust=\"spacingAndGlyphs\" textLength=\"79\" x=\"5\" y=\"56.5938\">@startuml</text><text fill=\"#33FF02\" font-family=\"sans-serif\" font-size=\"14\" font-weight=\"bold\" lengthAdjust=\"spacingAndGlyphs\" textLength=\"165\" x=\"5\" y=\"72.8906\">skinparam ranksep 8</text><text fill=\"#33FF02\" font-family=\"sans-serif\" font-size=\"14\" font-weight=\"bold\" lengthAdjust=\"spacingAndGlyphs\" textLength=\"215\" x=\"5\" y=\"89.1875\">skinparam linetype polyline</text><text fill=\"#33FF02\" font-family=\"sans-serif\" font-size=\"14\" font-weight=\"bold\" lengthAdjust=\"spacingAndGlyphs\" textLength=\"228\" x=\"5\" y=\"105.4844\">skinparam monochrome true</text><text fill=\"#33FF02\" font-family=\"sans-serif\" font-size=\"14\" font-weight=\"bold\" lengthAdjust=\"spacingAndGlyphs\" textLength=\"309\" x=\"5\" y=\"121.7813\">skinparam classbackgroundcolor white</text><text fill=\"#33FF02\" font-family=\"sans-serif\" font-size=\"14\" font-weight=\"bold\" lengthAdjust=\"spacingAndGlyphs\" textLength=\"215\" x=\"5\" y=\"138.0781\">skinparam shadowing false</text><text fill=\"#33FF02\" font-family=\"sans-serif\" font-size=\"14\" font-weight=\"bold\" lengthAdjust=\"spacingAndGlyphs\" textLength=\"206\" x=\"5\" y=\"154.375\">skinparam wrapWidth 300</text><text fill=\"#33FF02\" font-family=\"sans-serif\" font-size=\"14\" font-weight=\"bold\" lengthAdjust=\"spacingAndGlyphs\" textLength=\"82\" x=\"5\" y=\"170.6719\">hide circle</text><text fill=\"#33FF02\" font-family=\"sans-serif\" font-size=\"14\" font-weight=\"bold\" lengthAdjust=\"spacingAndGlyphs\" textLength=\"0\" x=\"10\" y=\"186.9688\"/><text fill=\"#33FF02\" font-family=\"sans-serif\" font-size=\"14\" font-weight=\"bold\" lengthAdjust=\"spacingAndGlyphs\" textLength=\"870\" x=\"5\" y=\"203.2656\">rec def \"DecisionTest\" as E1  &lt;&lt;(T,blue)action def&gt;&gt; [[psysml:a3695254-583a-41e6-95b4-07f76a5805ed ]] {</text><text fill=\"#33FF02\" font-family=\"sans-serif\" font-size=\"14\" font-weight=\"bold\" lengthAdjust=\"spacingAndGlyphs\" textLength=\"623\" x=\"5\" y=\"219.5625\">portout \"$result\" as E2  [[psysml:736cbe2e-e614-4ea2-922e-635e617bb808 ]]</text><text fill=\"#33FF02\" font-family=\"sans-serif\" font-size=\"14\" font-weight=\"bold\" lengthAdjust=\"spacingAndGlyphs\" textLength=\"861\" x=\"5\" y=\"235.8594\">rec usage \"test x\" as E3  &lt;&lt;(T,blue)decisionNode&gt;&gt; [[psysml:fd19b455-89d5-459d-92f7-d1815185add7 ]] {</text><text fill=\"#33FF02\" font-family=\"sans-serif\" font-size=\"14\" font-weight=\"bold\" lengthAdjust=\"spacingAndGlyphs\" textLength=\"10\" x=\"5\" y=\"252.1563\">}</text><text fill=\"#33FF02\" font-family=\"sans-serif\" font-size=\"14\" font-weight=\"bold\" lengthAdjust=\"spacingAndGlyphs\" textLength=\"0\" x=\"10\" y=\"268.4531\"/><text fill=\"#33FF02\" font-family=\"sans-serif\" font-size=\"14\" font-weight=\"bold\" lengthAdjust=\"spacingAndGlyphs\" textLength=\"10\" x=\"5\" y=\"284.75\">{</text><text fill=\"#FF0000\" font-family=\"sans-serif\" font-size=\"14\" font-weight=\"bold\" lengthAdjust=\"spacingAndGlyphs\" textLength=\"106\" x=\"10\" y=\"301.0469\">Syntax Error?</text><!--MD5=[5f4cc6726405597548cd0697ce23edd8]\n",
       "@startuml\r\n",
       "skinparam ranksep 8\r\n",
       "skinparam linetype polyline\r\n",
       "skinparam monochrome true\r\n",
       "skinparam classbackgroundcolor white\r\n",
       "skinparam shadowing false\r\n",
       "skinparam wrapWidth 300\r\n",
       "hide circle\r\n",
       "\r\n",
       "rec def \"DecisionTest\" as E1  <<(T,blue)action def>> [[psysml:a3695254-583a-41e6-95b4-07f76a5805ed ]] {\r\n",
       "portout \"$result\" as E2  [[psysml:736cbe2e-e614-4ea2-922e-635e617bb808 ]] \r\n",
       "rec usage \"test x\" as E3  <<(T,blue)decisionNode>> [[psysml:fd19b455-89d5-459d-92f7-d1815185add7 ]] {\r\n",
       "}\r\n",
       "\r\n",
       "{\r\n",
       "portout \"$result\" as E4  [[psysml:6d4a6456-a7ec-4177-87e4-ea5c100c5f7a ]] \r\n",
       "portin \"$x\" as E5  [[psysml:810bc03f-55fb-40a2-b55c-bd606a6d8860 ]] \r\n",
       "portin \"$y\" as E6  [[psysml:9b327a8e-6a1a-4f88-b23a-313c42dc41ad ]] \r\n",
       "portout \"$result\" as E7  [[psysml:3482b99c-6d5f-462a-981f-843523b909ab ]] \r\n",
       "}\r\n",
       "\r\n",
       "{\r\n",
       "portout \"$result\" as E8  [[psysml:8d6fc5ff-5a7b-4326-8fe2-a1e00b49613b ]] \r\n",
       "portin \"$x\" as E9  [[psysml:46b1300e-a73a-4c43-b5e8-ea161bf29b84 ]] \r\n",
       "portin \"$y\" as E10  [[psysml:4c9eaf15-63e7-4329-aa99-8209cbaf88bd ]] \r\n",
       "portout \"$result\" as E11  [[psysml:db374472-9b3d-40ef-87c4-0779379afe59 ]] \r\n",
       "}\r\n",
       "\r\n",
       "{\r\n",
       "}\r\n",
       "\r\n",
       "{\r\n",
       "}\r\n",
       "\r\n",
       "{\r\n",
       "portout \"$result\" as E12  [[psysml:e0510f13-cf5f-43a3-a7c7-2804245d6335 ]] \r\n",
       "}\r\n",
       "\r\n",
       "{\r\n",
       "portout \"$result\" as E13  [[psysml:bcae0eca-1466-485e-a896-a9c2508efe87 ]] \r\n",
       "}\r\n",
       "\r\n",
       "rec usage \"A1\" as E14  <<(T,blue)action>> [[psysml:fe5e89f6-2dc9-4b0f-8489-37aae8d1db14 ]] {\r\n",
       "}\r\n",
       "\r\n",
       "rec usage \"A2\" as E15  <<(T,blue)action>> [[psysml:4cc0bf78-e417-49bc-8d88-351983c62136 ]] {\r\n",
       "}\r\n",
       "\r\n",
       "rec usage \"A3\" as E16  <<(T,blue)action>> [[psysml:b76bbc08-81d4-47ab-9a49-666299d123cf ]] {\r\n",
       "}\r\n",
       "\r\n",
       "rec usage \"S\" as E17  <<(T,blue)transition>> [[psysml:fe245d46-438e-4c8f-ab18-310121fc2f41 ]] {\r\n",
       "rec usage \"A1\" as E18  <<(T,blue)action>> [[psysml:fe5e89f6-2dc9-4b0f-8489-37aae8d1db14 ]] {\r\n",
       "}\r\n",
       "\r\n",
       "portout \"$result\" as E19  [[psysml:5f694de1-2ca1-44b7-80b3-60a608cc3133 ]] \r\n",
       "portin \"$x\" as E20  [[psysml:8143e50d-1193-4d25-859f-77f062ba674d ]] \r\n",
       "portin \"$y\" as E21  [[psysml:ba8e69b2-a3c6-4a24-b7d7-ae4c7f563c95 ]] \r\n",
       "portout \"$result\" as E22  [[psysml:24237d18-6666-403f-9475-d2e8cf84f852 ]] \r\n",
       "}\r\n",
       "\r\n",
       "rec usage \"A3\" as E23  <<(T,blue)action>> [[psysml:b76bbc08-81d4-47ab-9a49-666299d123cf ]] {\r\n",
       "}\r\n",
       "\r\n",
       "{\r\n",
       "portout \"$result\" as E24  [[psysml:f904355a-9712-4e0c-a9b6-5ecdd1390be6 ]] \r\n",
       "portin \"$x\" as E25  [[psysml:c4435769-fd75-4fbf-95a7-29566a6c8186 ]] \r\n",
       "portin \"$y\" as E26  [[psysml:e2db5bbd-dd5d-422a-81f2-d836869b1ec1 ]] \r\n",
       "portout \"$result\" as E27  [[psysml:f774fe7e-8d66-439a-b027-16ceb2b41e9d ]] \r\n",
       "}\r\n",
       "\r\n",
       "}\r\n",
       "\r\n",
       "E6 -[thickness=5]- E4 [[psysml:22575a94-d313-4c92-b3bf-e872aff40b38 ]] \r\n",
       "E10 -[thickness=5]- E8 [[psysml:468e3065-35eb-4f7a-b0d7-b4ac24204b50 ]] \r\n",
       "E21 -[thickness=5]- E19 [[psysml:6eff49c6-4c1b-4a79-924a-d43d01989d36 ]] \r\n",
       "E26 -[thickness=5]- E24 [[psysml:02504f01-5bd4-4b5c-8fa7-2e89e01e6fe9 ]] \r\n",
       "@enduml\r\n",
       "\n",
       "PlantUML version 1.2020.13(Sat Jun 13 12:26:38 UTC 2020)\n",
       "(EPL source distribution)\n",
       "Java Runtime: OpenJDK Runtime Environment\n",
       "JVM: OpenJDK 64-Bit Server VM\n",
       "Default Encoding: UTF-8\n",
       "Language: en\n",
       "Country: null\n",
       "--></g></svg>"
      ]
     },
     "execution_count": 13,
     "metadata": {},
     "output_type": "execute_result"
    }
   ],
   "source": [
    "%viz --style=\"POLYLINE\" --view=\"Action\" \"DecisionTest\""
   ]
  },
  {
   "cell_type": "code",
   "execution_count": 14,
   "id": "assigned-athens",
   "metadata": {
    "execution": {
     "iopub.execute_input": "2021-03-25T13:22:43.254537Z",
     "iopub.status.busy": "2021-03-25T13:22:43.253929Z",
     "iopub.status.idle": "2021-03-25T13:22:43.653655Z",
     "shell.execute_reply": "2021-03-25T13:22:43.653289Z"
    }
   },
   "outputs": [
    {
     "data": {
      "image/svg+xml": [
       "<?xml version=\"1.0\" encoding=\"UTF-8\" standalone=\"no\"?><svg xmlns=\"http://www.w3.org/2000/svg\" xmlns:xlink=\"http://www.w3.org/1999/xlink\" contentScriptType=\"application/ecmascript\" contentStyleType=\"text/css\" height=\"207px\" preserveAspectRatio=\"none\" style=\"width:109px;height:207px;\" version=\"1.1\" viewBox=\"0 0 109 207\" width=\"109px\" zoomAndPan=\"magnify\"><defs/><g><!--MD5=[43c9051892ef23e1a46a86907403d788]\n",
       "class E1--><a href=\"psysml:a3695254-583a-41e6-95b4-07f76a5805ed\" target=\"_top\" title=\"psysml:a3695254-583a-41e6-95b4-07f76a5805ed\" xlink:actuate=\"onRequest\" xlink:href=\"psysml:a3695254-583a-41e6-95b4-07f76a5805ed\" xlink:show=\"new\" xlink:title=\"psysml:a3695254-583a-41e6-95b4-07f76a5805ed\" xlink:type=\"simple\"><rect fill=\"#FFFFFF\" height=\"189.9844\" id=\"E1\" style=\"stroke: #383838; stroke-width: 1.5;\" width=\"91\" x=\"7\" y=\"7\"/><text fill=\"#000000\" font-family=\"sans-serif\" font-size=\"12\" font-style=\"italic\" lengthAdjust=\"spacingAndGlyphs\" textLength=\"77\" x=\"14\" y=\"23.1387\">«action def»</text><text fill=\"#000000\" font-family=\"sans-serif\" font-size=\"12\" lengthAdjust=\"spacingAndGlyphs\" textLength=\"80\" x=\"12.5\" y=\"37.1074\">DecisionTest</text><line style=\"stroke: #383838; stroke-width: 1.5;\" x1=\"8\" x2=\"97\" y1=\"44.9375\" y2=\"44.9375\"/><text fill=\"#000000\" font-family=\"sans-serif\" font-size=\"11\" lengthAdjust=\"spacingAndGlyphs\" textLength=\"6\" x=\"13\" y=\"75.9526\">x</text><line style=\"stroke: #383838; stroke-width: 1.0;\" x1=\"8\" x2=\"25\" y1=\"59.3398\" y2=\"59.3398\"/><text fill=\"#000000\" font-family=\"sans-serif\" font-size=\"11\" lengthAdjust=\"spacingAndGlyphs\" textLength=\"55\" x=\"25\" y=\"62.6479\">attributes</text><line style=\"stroke: #383838; stroke-width: 1.0;\" x1=\"80\" x2=\"97\" y1=\"59.3398\" y2=\"59.3398\"/><text fill=\"#000000\" font-family=\"sans-serif\" font-size=\"11\" lengthAdjust=\"spacingAndGlyphs\" textLength=\"14\" x=\"13\" y=\"105.562\">A1</text><text fill=\"#000000\" font-family=\"sans-serif\" font-size=\"11\" lengthAdjust=\"spacingAndGlyphs\" textLength=\"14\" x=\"13\" y=\"118.3667\">A2</text><text fill=\"#000000\" font-family=\"sans-serif\" font-size=\"11\" lengthAdjust=\"spacingAndGlyphs\" textLength=\"14\" x=\"13\" y=\"131.1714\">A3</text><line style=\"stroke: #383838; stroke-width: 1.0;\" x1=\"8\" x2=\"32\" y1=\"88.9492\" y2=\"88.9492\"/><text fill=\"#000000\" font-family=\"sans-serif\" font-size=\"11\" lengthAdjust=\"spacingAndGlyphs\" textLength=\"41\" x=\"32\" y=\"92.2573\">actions</text><line style=\"stroke: #383838; stroke-width: 1.0;\" x1=\"73\" x2=\"97\" y1=\"88.9492\" y2=\"88.9492\"/><text fill=\"#000000\" font-family=\"sans-serif\" font-size=\"11\" lengthAdjust=\"spacingAndGlyphs\" textLength=\"32\" x=\"13\" y=\"160.7808\">test x</text><line style=\"stroke: #383838; stroke-width: 1.0;\" x1=\"8\" x2=\"11\" y1=\"144.168\" y2=\"144.168\"/><text fill=\"#000000\" font-family=\"sans-serif\" font-size=\"11\" lengthAdjust=\"spacingAndGlyphs\" textLength=\"83\" x=\"11\" y=\"147.4761\">decisionNodes</text><line style=\"stroke: #383838; stroke-width: 1.0;\" x1=\"94\" x2=\"97\" y1=\"144.168\" y2=\"144.168\"/><text fill=\"#000000\" font-family=\"sans-serif\" font-size=\"11\" lengthAdjust=\"spacingAndGlyphs\" textLength=\"8\" x=\"13\" y=\"190.3901\">S</text><line style=\"stroke: #383838; stroke-width: 1.0;\" x1=\"8\" x2=\"22\" y1=\"173.7773\" y2=\"173.7773\"/><text fill=\"#000000\" font-family=\"sans-serif\" font-size=\"11\" lengthAdjust=\"spacingAndGlyphs\" textLength=\"61\" x=\"22\" y=\"177.0854\">transitions</text><line style=\"stroke: #383838; stroke-width: 1.0;\" x1=\"83\" x2=\"97\" y1=\"173.7773\" y2=\"173.7773\"/></a><!--MD5=[cdaedcf70f87aa4999da601b4684b865]\n",
       "@startuml\r\n",
       "skinparam linetype polyline\r\n",
       "skinparam monochrome true\r\n",
       "skinparam classbackgroundcolor white\r\n",
       "skinparam shadowing false\r\n",
       "skinparam wrapWidth 300\r\n",
       "hide circle\r\n",
       "\r\n",
       "comp def \"DecisionTest\" as E1  <<(T,blue)action def>> [[psysml:a3695254-583a-41e6-95b4-07f76a5805ed ]] {\r\n",
       "- - attributes - -\r\n",
       "x\r\n",
       "- - actions - -\r\n",
       "A1\r\n",
       "A2\r\n",
       "A3\r\n",
       "- - decisionNodes - -\r\n",
       "test x\r\n",
       "- - transitions - -\r\n",
       "S\r\n",
       "}\r\n",
       "@enduml\r\n",
       "\n",
       "PlantUML version 1.2020.13(Sat Jun 13 12:26:38 UTC 2020)\n",
       "(EPL source distribution)\n",
       "Java Runtime: OpenJDK Runtime Environment\n",
       "JVM: OpenJDK 64-Bit Server VM\n",
       "Default Encoding: UTF-8\n",
       "Language: en\n",
       "Country: null\n",
       "--></g></svg>"
      ]
     },
     "execution_count": 14,
     "metadata": {},
     "output_type": "execute_result"
    }
   ],
   "source": [
    "%viz --style=\"POLYLINE\" --view=\"Sequence\" \"DecisionTest\""
   ]
  },
  {
   "cell_type": "code",
   "execution_count": 15,
   "id": "considerable-external",
   "metadata": {
    "execution": {
     "iopub.execute_input": "2021-03-25T13:22:43.704453Z",
     "iopub.status.busy": "2021-03-25T13:22:43.703717Z",
     "iopub.status.idle": "2021-03-25T13:22:43.739234Z",
     "shell.execute_reply": "2021-03-25T13:22:43.738622Z"
    }
   },
   "outputs": [
    {
     "data": {
      "image/svg+xml": [
       "<?xml version=\"1.0\" encoding=\"UTF-8\" standalone=\"no\"?><svg xmlns=\"http://www.w3.org/2000/svg\" xmlns:xlink=\"http://www.w3.org/1999/xlink\" contentScriptType=\"application/ecmascript\" contentStyleType=\"text/css\" height=\"288px\" preserveAspectRatio=\"none\" style=\"width:877px;height:288px;background:#000000;\" version=\"1.1\" viewBox=\"0 0 877 288\" width=\"877px\" zoomAndPan=\"magnify\"><defs/><g><rect fill=\"#06211F\" height=\"1\" style=\"stroke: #06211F; stroke-width: 1.0;\" width=\"1\" x=\"0\" y=\"0\"/><rect fill=\"#33FF02\" height=\"21.2969\" style=\"stroke: #33FF02; stroke-width: 1.0;\" width=\"870\" x=\"5\" y=\"5\"/><text fill=\"#000000\" font-family=\"sans-serif\" font-size=\"14\" font-weight=\"bold\" lengthAdjust=\"spacingAndGlyphs\" textLength=\"178\" x=\"6\" y=\"20\">[From string (line 14) ]</text><text fill=\"#33FF02\" font-family=\"sans-serif\" font-size=\"14\" font-weight=\"bold\" lengthAdjust=\"spacingAndGlyphs\" textLength=\"0\" x=\"10\" y=\"40.2969\"/><text fill=\"#33FF02\" font-family=\"sans-serif\" font-size=\"14\" font-weight=\"bold\" lengthAdjust=\"spacingAndGlyphs\" textLength=\"79\" x=\"5\" y=\"56.5938\">@startuml</text><text fill=\"#33FF02\" font-family=\"sans-serif\" font-size=\"14\" font-weight=\"bold\" lengthAdjust=\"spacingAndGlyphs\" textLength=\"215\" x=\"5\" y=\"72.8906\">skinparam linetype polyline</text><text fill=\"#33FF02\" font-family=\"sans-serif\" font-size=\"14\" font-weight=\"bold\" lengthAdjust=\"spacingAndGlyphs\" textLength=\"228\" x=\"5\" y=\"89.1875\">skinparam monochrome true</text><text fill=\"#33FF02\" font-family=\"sans-serif\" font-size=\"14\" font-weight=\"bold\" lengthAdjust=\"spacingAndGlyphs\" textLength=\"309\" x=\"5\" y=\"105.4844\">skinparam classbackgroundcolor white</text><text fill=\"#33FF02\" font-family=\"sans-serif\" font-size=\"14\" font-weight=\"bold\" lengthAdjust=\"spacingAndGlyphs\" textLength=\"215\" x=\"5\" y=\"121.7813\">skinparam shadowing false</text><text fill=\"#33FF02\" font-family=\"sans-serif\" font-size=\"14\" font-weight=\"bold\" lengthAdjust=\"spacingAndGlyphs\" textLength=\"206\" x=\"5\" y=\"138.0781\">skinparam wrapWidth 300</text><text fill=\"#33FF02\" font-family=\"sans-serif\" font-size=\"14\" font-weight=\"bold\" lengthAdjust=\"spacingAndGlyphs\" textLength=\"82\" x=\"5\" y=\"154.375\">hide circle</text><text fill=\"#33FF02\" font-family=\"sans-serif\" font-size=\"14\" font-weight=\"bold\" lengthAdjust=\"spacingAndGlyphs\" textLength=\"0\" x=\"10\" y=\"170.6719\"/><text fill=\"#33FF02\" font-family=\"sans-serif\" font-size=\"14\" font-weight=\"bold\" lengthAdjust=\"spacingAndGlyphs\" textLength=\"870\" x=\"5\" y=\"186.9688\">rec def \"DecisionTest\" as E1  &lt;&lt;(T,blue)action def&gt;&gt; [[psysml:a3695254-583a-41e6-95b4-07f76a5805ed ]] {</text><text fill=\"#33FF02\" font-family=\"sans-serif\" font-size=\"14\" font-weight=\"bold\" lengthAdjust=\"spacingAndGlyphs\" textLength=\"623\" x=\"5\" y=\"203.2656\">portout \"$result\" as E2  [[psysml:736cbe2e-e614-4ea2-922e-635e617bb808 ]]</text><text fill=\"#33FF02\" font-family=\"sans-serif\" font-size=\"14\" font-weight=\"bold\" lengthAdjust=\"spacingAndGlyphs\" textLength=\"861\" x=\"5\" y=\"219.5625\">rec usage \"test x\" as E3  &lt;&lt;(T,blue)decisionNode&gt;&gt; [[psysml:fd19b455-89d5-459d-92f7-d1815185add7 ]] {</text><text fill=\"#33FF02\" font-family=\"sans-serif\" font-size=\"14\" font-weight=\"bold\" lengthAdjust=\"spacingAndGlyphs\" textLength=\"10\" x=\"5\" y=\"235.8594\">}</text><text fill=\"#33FF02\" font-family=\"sans-serif\" font-size=\"14\" font-weight=\"bold\" lengthAdjust=\"spacingAndGlyphs\" textLength=\"0\" x=\"10\" y=\"252.1563\"/><text fill=\"#33FF02\" font-family=\"sans-serif\" font-size=\"14\" font-weight=\"bold\" lengthAdjust=\"spacingAndGlyphs\" textLength=\"10\" x=\"5\" y=\"268.4531\">{</text><text fill=\"#FF0000\" font-family=\"sans-serif\" font-size=\"14\" font-weight=\"bold\" lengthAdjust=\"spacingAndGlyphs\" textLength=\"106\" x=\"10\" y=\"284.75\">Syntax Error?</text><!--MD5=[7a3b505f7f8c05da427fbc7dccdb8840]\n",
       "@startuml\r\n",
       "skinparam linetype polyline\r\n",
       "skinparam monochrome true\r\n",
       "skinparam classbackgroundcolor white\r\n",
       "skinparam shadowing false\r\n",
       "skinparam wrapWidth 300\r\n",
       "hide circle\r\n",
       "\r\n",
       "rec def \"DecisionTest\" as E1  <<(T,blue)action def>> [[psysml:a3695254-583a-41e6-95b4-07f76a5805ed ]] {\r\n",
       "portout \"$result\" as E2  [[psysml:736cbe2e-e614-4ea2-922e-635e617bb808 ]] \r\n",
       "rec usage \"test x\" as E3  <<(T,blue)decisionNode>> [[psysml:fd19b455-89d5-459d-92f7-d1815185add7 ]] {\r\n",
       "}\r\n",
       "\r\n",
       "{\r\n",
       "portout \"$result\" as E4  [[psysml:6d4a6456-a7ec-4177-87e4-ea5c100c5f7a ]] \r\n",
       "portin \"$x\" as E5  [[psysml:810bc03f-55fb-40a2-b55c-bd606a6d8860 ]] \r\n",
       "portin \"$y\" as E6  [[psysml:9b327a8e-6a1a-4f88-b23a-313c42dc41ad ]] \r\n",
       "portout \"$result\" as E7  [[psysml:3482b99c-6d5f-462a-981f-843523b909ab ]] \r\n",
       "}\r\n",
       "\r\n",
       "{\r\n",
       "portout \"$result\" as E8  [[psysml:8d6fc5ff-5a7b-4326-8fe2-a1e00b49613b ]] \r\n",
       "portin \"$x\" as E9  [[psysml:46b1300e-a73a-4c43-b5e8-ea161bf29b84 ]] \r\n",
       "portin \"$y\" as E10  [[psysml:4c9eaf15-63e7-4329-aa99-8209cbaf88bd ]] \r\n",
       "portout \"$result\" as E11  [[psysml:db374472-9b3d-40ef-87c4-0779379afe59 ]] \r\n",
       "}\r\n",
       "\r\n",
       "{\r\n",
       "}\r\n",
       "\r\n",
       "{\r\n",
       "}\r\n",
       "\r\n",
       "{\r\n",
       "portout \"$result\" as E12  [[psysml:e0510f13-cf5f-43a3-a7c7-2804245d6335 ]] \r\n",
       "}\r\n",
       "\r\n",
       "{\r\n",
       "portout \"$result\" as E13  [[psysml:bcae0eca-1466-485e-a896-a9c2508efe87 ]] \r\n",
       "}\r\n",
       "\r\n",
       "rec usage \"A1\" as E14  <<(T,blue)action>> [[psysml:fe5e89f6-2dc9-4b0f-8489-37aae8d1db14 ]] {\r\n",
       "}\r\n",
       "\r\n",
       "rec usage \"A2\" as E15  <<(T,blue)action>> [[psysml:4cc0bf78-e417-49bc-8d88-351983c62136 ]] {\r\n",
       "}\r\n",
       "\r\n",
       "rec usage \"A3\" as E16  <<(T,blue)action>> [[psysml:b76bbc08-81d4-47ab-9a49-666299d123cf ]] {\r\n",
       "}\r\n",
       "\r\n",
       "rec usage \"S\" as E17  <<(T,blue)transition>> [[psysml:fe245d46-438e-4c8f-ab18-310121fc2f41 ]] {\r\n",
       "rec usage \"A1\" as E18  <<(T,blue)action>> [[psysml:fe5e89f6-2dc9-4b0f-8489-37aae8d1db14 ]] {\r\n",
       "}\r\n",
       "\r\n",
       "portout \"$result\" as E19  [[psysml:5f694de1-2ca1-44b7-80b3-60a608cc3133 ]] \r\n",
       "portin \"$x\" as E20  [[psysml:8143e50d-1193-4d25-859f-77f062ba674d ]] \r\n",
       "portin \"$y\" as E21  [[psysml:ba8e69b2-a3c6-4a24-b7d7-ae4c7f563c95 ]] \r\n",
       "portout \"$result\" as E22  [[psysml:24237d18-6666-403f-9475-d2e8cf84f852 ]] \r\n",
       "}\r\n",
       "\r\n",
       "rec usage \"A3\" as E23  <<(T,blue)action>> [[psysml:b76bbc08-81d4-47ab-9a49-666299d123cf ]] {\r\n",
       "}\r\n",
       "\r\n",
       "{\r\n",
       "portout \"$result\" as E24  [[psysml:f904355a-9712-4e0c-a9b6-5ecdd1390be6 ]] \r\n",
       "portin \"$x\" as E25  [[psysml:c4435769-fd75-4fbf-95a7-29566a6c8186 ]] \r\n",
       "portin \"$y\" as E26  [[psysml:e2db5bbd-dd5d-422a-81f2-d836869b1ec1 ]] \r\n",
       "portout \"$result\" as E27  [[psysml:f774fe7e-8d66-439a-b027-16ceb2b41e9d ]] \r\n",
       "}\r\n",
       "\r\n",
       "}\r\n",
       "\r\n",
       "E6 -[thickness=5]- E4 [[psysml:22575a94-d313-4c92-b3bf-e872aff40b38 ]] \r\n",
       "E10 -[thickness=5]- E8 [[psysml:468e3065-35eb-4f7a-b0d7-b4ac24204b50 ]] \r\n",
       "E21 -[thickness=5]- E19 [[psysml:6eff49c6-4c1b-4a79-924a-d43d01989d36 ]] \r\n",
       "E26 -[thickness=5]- E24 [[psysml:02504f01-5bd4-4b5c-8fa7-2e89e01e6fe9 ]] \r\n",
       "@enduml\r\n",
       "\n",
       "PlantUML version 1.2020.13(Sat Jun 13 12:26:38 UTC 2020)\n",
       "(EPL source distribution)\n",
       "Java Runtime: OpenJDK Runtime Environment\n",
       "JVM: OpenJDK 64-Bit Server VM\n",
       "Default Encoding: UTF-8\n",
       "Language: en\n",
       "Country: null\n",
       "--></g></svg>"
      ]
     },
     "execution_count": 15,
     "metadata": {},
     "output_type": "execute_result"
    }
   ],
   "source": [
    "%viz --style=\"POLYLINE\" --view=\"MIXED\" \"DecisionTest\""
   ]
  },
  {
   "cell_type": "code",
   "execution_count": 16,
   "id": "ceramic-soundtrack",
   "metadata": {
    "execution": {
     "iopub.execute_input": "2021-03-25T13:22:43.790834Z",
     "iopub.status.busy": "2021-03-25T13:22:43.789941Z",
     "iopub.status.idle": "2021-03-25T13:22:43.816896Z",
     "shell.execute_reply": "2021-03-25T13:22:43.817471Z"
    }
   },
   "outputs": [
    {
     "data": {
      "image/svg+xml": [
       "<?xml version=\"1.0\" encoding=\"UTF-8\" standalone=\"no\"?><svg xmlns=\"http://www.w3.org/2000/svg\" xmlns:xlink=\"http://www.w3.org/1999/xlink\" contentScriptType=\"application/ecmascript\" contentStyleType=\"text/css\" height=\"288px\" preserveAspectRatio=\"none\" style=\"width:877px;height:288px;background:#000000;\" version=\"1.1\" viewBox=\"0 0 877 288\" width=\"877px\" zoomAndPan=\"magnify\"><defs/><g><rect fill=\"#0E221E\" height=\"1\" style=\"stroke: #0E221E; stroke-width: 1.0;\" width=\"1\" x=\"0\" y=\"0\"/><rect fill=\"#33FF02\" height=\"21.2969\" style=\"stroke: #33FF02; stroke-width: 1.0;\" width=\"870\" x=\"5\" y=\"5\"/><text fill=\"#000000\" font-family=\"sans-serif\" font-size=\"14\" font-weight=\"bold\" lengthAdjust=\"spacingAndGlyphs\" textLength=\"178\" x=\"6\" y=\"20\">[From string (line 14) ]</text><text fill=\"#33FF02\" font-family=\"sans-serif\" font-size=\"14\" font-weight=\"bold\" lengthAdjust=\"spacingAndGlyphs\" textLength=\"0\" x=\"10\" y=\"40.2969\"/><text fill=\"#33FF02\" font-family=\"sans-serif\" font-size=\"14\" font-weight=\"bold\" lengthAdjust=\"spacingAndGlyphs\" textLength=\"79\" x=\"5\" y=\"56.5938\">@startuml</text><text fill=\"#33FF02\" font-family=\"sans-serif\" font-size=\"14\" font-weight=\"bold\" lengthAdjust=\"spacingAndGlyphs\" textLength=\"164\" x=\"5\" y=\"72.8906\">left to right direction</text><text fill=\"#33FF02\" font-family=\"sans-serif\" font-size=\"14\" font-weight=\"bold\" lengthAdjust=\"spacingAndGlyphs\" textLength=\"228\" x=\"5\" y=\"89.1875\">skinparam monochrome true</text><text fill=\"#33FF02\" font-family=\"sans-serif\" font-size=\"14\" font-weight=\"bold\" lengthAdjust=\"spacingAndGlyphs\" textLength=\"309\" x=\"5\" y=\"105.4844\">skinparam classbackgroundcolor white</text><text fill=\"#33FF02\" font-family=\"sans-serif\" font-size=\"14\" font-weight=\"bold\" lengthAdjust=\"spacingAndGlyphs\" textLength=\"215\" x=\"5\" y=\"121.7813\">skinparam shadowing false</text><text fill=\"#33FF02\" font-family=\"sans-serif\" font-size=\"14\" font-weight=\"bold\" lengthAdjust=\"spacingAndGlyphs\" textLength=\"206\" x=\"5\" y=\"138.0781\">skinparam wrapWidth 300</text><text fill=\"#33FF02\" font-family=\"sans-serif\" font-size=\"14\" font-weight=\"bold\" lengthAdjust=\"spacingAndGlyphs\" textLength=\"82\" x=\"5\" y=\"154.375\">hide circle</text><text fill=\"#33FF02\" font-family=\"sans-serif\" font-size=\"14\" font-weight=\"bold\" lengthAdjust=\"spacingAndGlyphs\" textLength=\"0\" x=\"10\" y=\"170.6719\"/><text fill=\"#33FF02\" font-family=\"sans-serif\" font-size=\"14\" font-weight=\"bold\" lengthAdjust=\"spacingAndGlyphs\" textLength=\"870\" x=\"5\" y=\"186.9688\">rec def \"DecisionTest\" as E1  &lt;&lt;(T,blue)action def&gt;&gt; [[psysml:a3695254-583a-41e6-95b4-07f76a5805ed ]] {</text><text fill=\"#33FF02\" font-family=\"sans-serif\" font-size=\"14\" font-weight=\"bold\" lengthAdjust=\"spacingAndGlyphs\" textLength=\"623\" x=\"5\" y=\"203.2656\">portout \"$result\" as E2  [[psysml:736cbe2e-e614-4ea2-922e-635e617bb808 ]]</text><text fill=\"#33FF02\" font-family=\"sans-serif\" font-size=\"14\" font-weight=\"bold\" lengthAdjust=\"spacingAndGlyphs\" textLength=\"861\" x=\"5\" y=\"219.5625\">rec usage \"test x\" as E3  &lt;&lt;(T,blue)decisionNode&gt;&gt; [[psysml:fd19b455-89d5-459d-92f7-d1815185add7 ]] {</text><text fill=\"#33FF02\" font-family=\"sans-serif\" font-size=\"14\" font-weight=\"bold\" lengthAdjust=\"spacingAndGlyphs\" textLength=\"10\" x=\"5\" y=\"235.8594\">}</text><text fill=\"#33FF02\" font-family=\"sans-serif\" font-size=\"14\" font-weight=\"bold\" lengthAdjust=\"spacingAndGlyphs\" textLength=\"0\" x=\"10\" y=\"252.1563\"/><text fill=\"#33FF02\" font-family=\"sans-serif\" font-size=\"14\" font-weight=\"bold\" lengthAdjust=\"spacingAndGlyphs\" textLength=\"10\" x=\"5\" y=\"268.4531\">{</text><text fill=\"#FF0000\" font-family=\"sans-serif\" font-size=\"14\" font-weight=\"bold\" lengthAdjust=\"spacingAndGlyphs\" textLength=\"106\" x=\"10\" y=\"284.75\">Syntax Error?</text><!--MD5=[236a2d0318c1509de039005e9c076a3b]\n",
       "@startuml\r\n",
       "left to right direction\r\n",
       "skinparam monochrome true\r\n",
       "skinparam classbackgroundcolor white\r\n",
       "skinparam shadowing false\r\n",
       "skinparam wrapWidth 300\r\n",
       "hide circle\r\n",
       "\r\n",
       "rec def \"DecisionTest\" as E1  <<(T,blue)action def>> [[psysml:a3695254-583a-41e6-95b4-07f76a5805ed ]] {\r\n",
       "portout \"$result\" as E2  [[psysml:736cbe2e-e614-4ea2-922e-635e617bb808 ]] \r\n",
       "rec usage \"test x\" as E3  <<(T,blue)decisionNode>> [[psysml:fd19b455-89d5-459d-92f7-d1815185add7 ]] {\r\n",
       "}\r\n",
       "\r\n",
       "{\r\n",
       "portout \"$result\" as E4  [[psysml:6d4a6456-a7ec-4177-87e4-ea5c100c5f7a ]] \r\n",
       "portin \"$x\" as E5  [[psysml:810bc03f-55fb-40a2-b55c-bd606a6d8860 ]] \r\n",
       "portin \"$y\" as E6  [[psysml:9b327a8e-6a1a-4f88-b23a-313c42dc41ad ]] \r\n",
       "portout \"$result\" as E7  [[psysml:3482b99c-6d5f-462a-981f-843523b909ab ]] \r\n",
       "}\r\n",
       "\r\n",
       "{\r\n",
       "portout \"$result\" as E8  [[psysml:8d6fc5ff-5a7b-4326-8fe2-a1e00b49613b ]] \r\n",
       "portin \"$x\" as E9  [[psysml:46b1300e-a73a-4c43-b5e8-ea161bf29b84 ]] \r\n",
       "portin \"$y\" as E10  [[psysml:4c9eaf15-63e7-4329-aa99-8209cbaf88bd ]] \r\n",
       "portout \"$result\" as E11  [[psysml:db374472-9b3d-40ef-87c4-0779379afe59 ]] \r\n",
       "}\r\n",
       "\r\n",
       "{\r\n",
       "}\r\n",
       "\r\n",
       "{\r\n",
       "}\r\n",
       "\r\n",
       "{\r\n",
       "portout \"$result\" as E12  [[psysml:e0510f13-cf5f-43a3-a7c7-2804245d6335 ]] \r\n",
       "}\r\n",
       "\r\n",
       "{\r\n",
       "portout \"$result\" as E13  [[psysml:bcae0eca-1466-485e-a896-a9c2508efe87 ]] \r\n",
       "}\r\n",
       "\r\n",
       "rec usage \"A1\" as E14  <<(T,blue)action>> [[psysml:fe5e89f6-2dc9-4b0f-8489-37aae8d1db14 ]] {\r\n",
       "}\r\n",
       "\r\n",
       "rec usage \"A2\" as E15  <<(T,blue)action>> [[psysml:4cc0bf78-e417-49bc-8d88-351983c62136 ]] {\r\n",
       "}\r\n",
       "\r\n",
       "rec usage \"A3\" as E16  <<(T,blue)action>> [[psysml:b76bbc08-81d4-47ab-9a49-666299d123cf ]] {\r\n",
       "}\r\n",
       "\r\n",
       "rec usage \"S\" as E17  <<(T,blue)transition>> [[psysml:fe245d46-438e-4c8f-ab18-310121fc2f41 ]] {\r\n",
       "rec usage \"A1\" as E18  <<(T,blue)action>> [[psysml:fe5e89f6-2dc9-4b0f-8489-37aae8d1db14 ]] {\r\n",
       "}\r\n",
       "\r\n",
       "portout \"$result\" as E19  [[psysml:5f694de1-2ca1-44b7-80b3-60a608cc3133 ]] \r\n",
       "portin \"$x\" as E20  [[psysml:8143e50d-1193-4d25-859f-77f062ba674d ]] \r\n",
       "portin \"$y\" as E21  [[psysml:ba8e69b2-a3c6-4a24-b7d7-ae4c7f563c95 ]] \r\n",
       "portout \"$result\" as E22  [[psysml:24237d18-6666-403f-9475-d2e8cf84f852 ]] \r\n",
       "}\r\n",
       "\r\n",
       "rec usage \"A3\" as E23  <<(T,blue)action>> [[psysml:b76bbc08-81d4-47ab-9a49-666299d123cf ]] {\r\n",
       "}\r\n",
       "\r\n",
       "{\r\n",
       "portout \"$result\" as E24  [[psysml:f904355a-9712-4e0c-a9b6-5ecdd1390be6 ]] \r\n",
       "portin \"$x\" as E25  [[psysml:c4435769-fd75-4fbf-95a7-29566a6c8186 ]] \r\n",
       "portin \"$y\" as E26  [[psysml:e2db5bbd-dd5d-422a-81f2-d836869b1ec1 ]] \r\n",
       "portout \"$result\" as E27  [[psysml:f774fe7e-8d66-439a-b027-16ceb2b41e9d ]] \r\n",
       "}\r\n",
       "\r\n",
       "}\r\n",
       "\r\n",
       "E6 -[thickness=5]- E4 [[psysml:22575a94-d313-4c92-b3bf-e872aff40b38 ]] \r\n",
       "E10 -[thickness=5]- E8 [[psysml:468e3065-35eb-4f7a-b0d7-b4ac24204b50 ]] \r\n",
       "E21 -[thickness=5]- E19 [[psysml:6eff49c6-4c1b-4a79-924a-d43d01989d36 ]] \r\n",
       "E26 -[thickness=5]- E24 [[psysml:02504f01-5bd4-4b5c-8fa7-2e89e01e6fe9 ]] \r\n",
       "@enduml\r\n",
       "\n",
       "PlantUML version 1.2020.13(Sat Jun 13 12:26:38 UTC 2020)\n",
       "(EPL source distribution)\n",
       "Java Runtime: OpenJDK Runtime Environment\n",
       "JVM: OpenJDK 64-Bit Server VM\n",
       "Default Encoding: UTF-8\n",
       "Language: en\n",
       "Country: null\n",
       "--></g></svg>"
      ]
     },
     "execution_count": 16,
     "metadata": {},
     "output_type": "execute_result"
    }
   ],
   "source": [
    "%viz --style=\"LR\" --view=\"Default\" \"DecisionTest\""
   ]
  },
  {
   "cell_type": "code",
   "execution_count": 17,
   "id": "tamil-fraction",
   "metadata": {
    "execution": {
     "iopub.execute_input": "2021-03-25T13:22:43.868322Z",
     "iopub.status.busy": "2021-03-25T13:22:43.867661Z",
     "iopub.status.idle": "2021-03-25T13:22:44.243999Z",
     "shell.execute_reply": "2021-03-25T13:22:44.244377Z"
    }
   },
   "outputs": [
    {
     "data": {
      "image/svg+xml": [
       "<?xml version=\"1.0\" encoding=\"UTF-8\" standalone=\"no\"?><svg xmlns=\"http://www.w3.org/2000/svg\" xmlns:xlink=\"http://www.w3.org/1999/xlink\" contentScriptType=\"application/ecmascript\" contentStyleType=\"text/css\" height=\"207px\" preserveAspectRatio=\"none\" style=\"width:109px;height:207px;\" version=\"1.1\" viewBox=\"0 0 109 207\" width=\"109px\" zoomAndPan=\"magnify\"><defs/><g><!--MD5=[43c9051892ef23e1a46a86907403d788]\n",
       "class E1--><a href=\"psysml:a3695254-583a-41e6-95b4-07f76a5805ed\" target=\"_top\" title=\"psysml:a3695254-583a-41e6-95b4-07f76a5805ed\" xlink:actuate=\"onRequest\" xlink:href=\"psysml:a3695254-583a-41e6-95b4-07f76a5805ed\" xlink:show=\"new\" xlink:title=\"psysml:a3695254-583a-41e6-95b4-07f76a5805ed\" xlink:type=\"simple\"><rect fill=\"#FFFFFF\" height=\"189.9844\" id=\"E1\" style=\"stroke: #383838; stroke-width: 1.5;\" width=\"91\" x=\"7\" y=\"7\"/><text fill=\"#000000\" font-family=\"sans-serif\" font-size=\"12\" font-style=\"italic\" lengthAdjust=\"spacingAndGlyphs\" textLength=\"77\" x=\"14\" y=\"23.1387\">«action def»</text><text fill=\"#000000\" font-family=\"sans-serif\" font-size=\"12\" lengthAdjust=\"spacingAndGlyphs\" textLength=\"80\" x=\"12.5\" y=\"37.1074\">DecisionTest</text><line style=\"stroke: #383838; stroke-width: 1.5;\" x1=\"8\" x2=\"97\" y1=\"44.9375\" y2=\"44.9375\"/><text fill=\"#000000\" font-family=\"sans-serif\" font-size=\"11\" lengthAdjust=\"spacingAndGlyphs\" textLength=\"6\" x=\"13\" y=\"75.9526\">x</text><line style=\"stroke: #383838; stroke-width: 1.0;\" x1=\"8\" x2=\"25\" y1=\"59.3398\" y2=\"59.3398\"/><text fill=\"#000000\" font-family=\"sans-serif\" font-size=\"11\" lengthAdjust=\"spacingAndGlyphs\" textLength=\"55\" x=\"25\" y=\"62.6479\">attributes</text><line style=\"stroke: #383838; stroke-width: 1.0;\" x1=\"80\" x2=\"97\" y1=\"59.3398\" y2=\"59.3398\"/><text fill=\"#000000\" font-family=\"sans-serif\" font-size=\"11\" lengthAdjust=\"spacingAndGlyphs\" textLength=\"14\" x=\"13\" y=\"105.562\">A1</text><text fill=\"#000000\" font-family=\"sans-serif\" font-size=\"11\" lengthAdjust=\"spacingAndGlyphs\" textLength=\"14\" x=\"13\" y=\"118.3667\">A2</text><text fill=\"#000000\" font-family=\"sans-serif\" font-size=\"11\" lengthAdjust=\"spacingAndGlyphs\" textLength=\"14\" x=\"13\" y=\"131.1714\">A3</text><line style=\"stroke: #383838; stroke-width: 1.0;\" x1=\"8\" x2=\"32\" y1=\"88.9492\" y2=\"88.9492\"/><text fill=\"#000000\" font-family=\"sans-serif\" font-size=\"11\" lengthAdjust=\"spacingAndGlyphs\" textLength=\"41\" x=\"32\" y=\"92.2573\">actions</text><line style=\"stroke: #383838; stroke-width: 1.0;\" x1=\"73\" x2=\"97\" y1=\"88.9492\" y2=\"88.9492\"/><text fill=\"#000000\" font-family=\"sans-serif\" font-size=\"11\" lengthAdjust=\"spacingAndGlyphs\" textLength=\"32\" x=\"13\" y=\"160.7808\">test x</text><line style=\"stroke: #383838; stroke-width: 1.0;\" x1=\"8\" x2=\"11\" y1=\"144.168\" y2=\"144.168\"/><text fill=\"#000000\" font-family=\"sans-serif\" font-size=\"11\" lengthAdjust=\"spacingAndGlyphs\" textLength=\"83\" x=\"11\" y=\"147.4761\">decisionNodes</text><line style=\"stroke: #383838; stroke-width: 1.0;\" x1=\"94\" x2=\"97\" y1=\"144.168\" y2=\"144.168\"/><text fill=\"#000000\" font-family=\"sans-serif\" font-size=\"11\" lengthAdjust=\"spacingAndGlyphs\" textLength=\"8\" x=\"13\" y=\"190.3901\">S</text><line style=\"stroke: #383838; stroke-width: 1.0;\" x1=\"8\" x2=\"22\" y1=\"173.7773\" y2=\"173.7773\"/><text fill=\"#000000\" font-family=\"sans-serif\" font-size=\"11\" lengthAdjust=\"spacingAndGlyphs\" textLength=\"61\" x=\"22\" y=\"177.0854\">transitions</text><line style=\"stroke: #383838; stroke-width: 1.0;\" x1=\"83\" x2=\"97\" y1=\"173.7773\" y2=\"173.7773\"/></a><!--MD5=[0f2b4e385304be402160e31f39e41142]\n",
       "@startuml\r\n",
       "left to right direction\r\n",
       "skinparam monochrome true\r\n",
       "skinparam classbackgroundcolor white\r\n",
       "skinparam shadowing false\r\n",
       "skinparam wrapWidth 300\r\n",
       "hide circle\r\n",
       "\r\n",
       "comp def \"DecisionTest\" as E1  <<(T,blue)action def>> [[psysml:a3695254-583a-41e6-95b4-07f76a5805ed ]] {\r\n",
       "- - attributes - -\r\n",
       "x\r\n",
       "- - actions - -\r\n",
       "A1\r\n",
       "A2\r\n",
       "A3\r\n",
       "- - decisionNodes - -\r\n",
       "test x\r\n",
       "- - transitions - -\r\n",
       "S\r\n",
       "}\r\n",
       "@enduml\r\n",
       "\n",
       "PlantUML version 1.2020.13(Sat Jun 13 12:26:38 UTC 2020)\n",
       "(EPL source distribution)\n",
       "Java Runtime: OpenJDK Runtime Environment\n",
       "JVM: OpenJDK 64-Bit Server VM\n",
       "Default Encoding: UTF-8\n",
       "Language: en\n",
       "Country: null\n",
       "--></g></svg>"
      ]
     },
     "execution_count": 17,
     "metadata": {},
     "output_type": "execute_result"
    }
   ],
   "source": [
    "%viz --style=\"LR\" --view=\"Tree\" \"DecisionTest\""
   ]
  },
  {
   "cell_type": "code",
   "execution_count": 18,
   "id": "colonial-report",
   "metadata": {
    "execution": {
     "iopub.execute_input": "2021-03-25T13:22:44.294313Z",
     "iopub.status.busy": "2021-03-25T13:22:44.293712Z",
     "iopub.status.idle": "2021-03-25T13:22:44.301178Z",
     "shell.execute_reply": "2021-03-25T13:22:44.301437Z"
    }
   },
   "outputs": [
    {
     "data": {
      "image/svg+xml": [
       "<?xml version=\"1.0\" encoding=\"UTF-8\" standalone=\"no\"?><svg xmlns=\"http://www.w3.org/2000/svg\" xmlns:xlink=\"http://www.w3.org/1999/xlink\" contentScriptType=\"application/ecmascript\" contentStyleType=\"text/css\" height=\"12px\" preserveAspectRatio=\"none\" style=\"width:12px;height:12px;\" version=\"1.1\" viewBox=\"0 0 12 12\" width=\"12px\" zoomAndPan=\"magnify\"><defs/><g><!--MD5=[19d285c9d72a204eba4e2cd117d745e8]\n",
       "@startuml\r\n",
       "left to right direction\r\n",
       "skinparam monochrome true\r\n",
       "skinparam classbackgroundcolor white\r\n",
       "skinparam shadowing false\r\n",
       "skinparam wrapWidth 300\r\n",
       "hide circle\r\n",
       "\r\n",
       "@enduml\r\n",
       "\n",
       "PlantUML version 1.2020.13(Sat Jun 13 12:26:38 UTC 2020)\n",
       "(EPL source distribution)\n",
       "Java Runtime: OpenJDK Runtime Environment\n",
       "JVM: OpenJDK 64-Bit Server VM\n",
       "Default Encoding: UTF-8\n",
       "Language: en\n",
       "Country: null\n",
       "--></g></svg>"
      ]
     },
     "execution_count": 18,
     "metadata": {},
     "output_type": "execute_result"
    }
   ],
   "source": [
    "%viz --style=\"LR\" --view=\"State\" \"DecisionTest\""
   ]
  },
  {
   "cell_type": "code",
   "execution_count": 19,
   "id": "seventh-demographic",
   "metadata": {
    "execution": {
     "iopub.execute_input": "2021-03-25T13:22:44.352772Z",
     "iopub.status.busy": "2021-03-25T13:22:44.352278Z",
     "iopub.status.idle": "2021-03-25T13:22:44.382594Z",
     "shell.execute_reply": "2021-03-25T13:22:44.383439Z"
    }
   },
   "outputs": [
    {
     "data": {
      "image/svg+xml": [
       "<?xml version=\"1.0\" encoding=\"UTF-8\" standalone=\"no\"?><svg xmlns=\"http://www.w3.org/2000/svg\" xmlns:xlink=\"http://www.w3.org/1999/xlink\" contentScriptType=\"application/ecmascript\" contentStyleType=\"text/css\" height=\"60px\" preserveAspectRatio=\"none\" style=\"width:109px;height:60px;\" version=\"1.1\" viewBox=\"0 0 109 60\" width=\"109px\" zoomAndPan=\"magnify\"><defs/><g><g id=\"E1\"><a href=\"psysml:a3695254-583a-41e6-95b4-07f76a5805ed\" target=\"_top\" title=\"psysml:a3695254-583a-41e6-95b4-07f76a5805ed\" xlink:actuate=\"onRequest\" xlink:href=\"psysml:a3695254-583a-41e6-95b4-07f76a5805ed\" xlink:show=\"new\" xlink:title=\"psysml:a3695254-583a-41e6-95b4-07f76a5805ed\" xlink:type=\"simple\"><rect fill=\"#FFFFFF\" height=\"42.9375\" id=\"E1\" style=\"stroke: #383838; stroke-width: 1.5;\" width=\"91\" x=\"7\" y=\"7\"/><rect fill=\"#F8F8F8\" height=\"37.9375\" style=\"stroke: #383838; stroke-width: 1.5;\" width=\"91\" x=\"7\" y=\"7\"/><text fill=\"#000000\" font-family=\"sans-serif\" font-size=\"12\" font-style=\"italic\" lengthAdjust=\"spacingAndGlyphs\" textLength=\"77\" x=\"14\" y=\"23.1387\">«action def»</text><text fill=\"#000000\" font-family=\"sans-serif\" font-size=\"12\" lengthAdjust=\"spacingAndGlyphs\" textLength=\"80\" x=\"12.5\" y=\"37.1074\">DecisionTest</text></a></g><!--MD5=[d8d73176ce224f0d01823771848121bf]\n",
       "@startuml\r\n",
       "skinparam ranksep 8\r\n",
       "skinparam rectangle {\r\n",
       " backgroundColor<<block>> LightGreen\r\n",
       "}\r\n",
       "left to right direction\r\n",
       "skinparam monochrome true\r\n",
       "skinparam classbackgroundcolor white\r\n",
       "skinparam shadowing false\r\n",
       "skinparam wrapWidth 300\r\n",
       "hide circle\r\n",
       "\r\n",
       "def \"DecisionTest\" as E1  <<(T,blue)action def>> [[psysml:a3695254-583a-41e6-95b4-07f76a5805ed ]] \r\n",
       "@enduml\r\n",
       "\n",
       "PlantUML version 1.2020.13(Sat Jun 13 12:26:38 UTC 2020)\n",
       "(EPL source distribution)\n",
       "Java Runtime: OpenJDK Runtime Environment\n",
       "JVM: OpenJDK 64-Bit Server VM\n",
       "Default Encoding: UTF-8\n",
       "Language: en\n",
       "Country: null\n",
       "--></g></svg>"
      ]
     },
     "execution_count": 19,
     "metadata": {},
     "output_type": "execute_result"
    }
   ],
   "source": [
    "%viz --style=\"LR\" --view=\"Interconnection\" \"DecisionTest\""
   ]
  },
  {
   "cell_type": "code",
   "execution_count": 20,
   "id": "downtown-miller",
   "metadata": {
    "execution": {
     "iopub.execute_input": "2021-03-25T13:22:44.433108Z",
     "iopub.status.busy": "2021-03-25T13:22:44.432696Z",
     "iopub.status.idle": "2021-03-25T13:22:44.460853Z",
     "shell.execute_reply": "2021-03-25T13:22:44.461274Z"
    }
   },
   "outputs": [
    {
     "data": {
      "image/svg+xml": [
       "<?xml version=\"1.0\" encoding=\"UTF-8\" standalone=\"no\"?><svg xmlns=\"http://www.w3.org/2000/svg\" xmlns:xlink=\"http://www.w3.org/1999/xlink\" contentScriptType=\"application/ecmascript\" contentStyleType=\"text/css\" height=\"304px\" preserveAspectRatio=\"none\" style=\"width:877px;height:304px;background:#000000;\" version=\"1.1\" viewBox=\"0 0 877 304\" width=\"877px\" zoomAndPan=\"magnify\"><defs/><g><rect fill=\"#1D090B\" height=\"1\" style=\"stroke: #1D090B; stroke-width: 1.0;\" width=\"1\" x=\"0\" y=\"0\"/><rect fill=\"#33FF02\" height=\"21.2969\" style=\"stroke: #33FF02; stroke-width: 1.0;\" width=\"870\" x=\"5\" y=\"5\"/><text fill=\"#000000\" font-family=\"sans-serif\" font-size=\"14\" font-weight=\"bold\" lengthAdjust=\"spacingAndGlyphs\" textLength=\"178\" x=\"6\" y=\"20\">[From string (line 15) ]</text><text fill=\"#33FF02\" font-family=\"sans-serif\" font-size=\"14\" font-weight=\"bold\" lengthAdjust=\"spacingAndGlyphs\" textLength=\"0\" x=\"10\" y=\"40.2969\"/><text fill=\"#33FF02\" font-family=\"sans-serif\" font-size=\"14\" font-weight=\"bold\" lengthAdjust=\"spacingAndGlyphs\" textLength=\"79\" x=\"5\" y=\"56.5938\">@startuml</text><text fill=\"#33FF02\" font-family=\"sans-serif\" font-size=\"14\" font-weight=\"bold\" lengthAdjust=\"spacingAndGlyphs\" textLength=\"165\" x=\"5\" y=\"72.8906\">skinparam ranksep 8</text><text fill=\"#33FF02\" font-family=\"sans-serif\" font-size=\"14\" font-weight=\"bold\" lengthAdjust=\"spacingAndGlyphs\" textLength=\"164\" x=\"5\" y=\"89.1875\">left to right direction</text><text fill=\"#33FF02\" font-family=\"sans-serif\" font-size=\"14\" font-weight=\"bold\" lengthAdjust=\"spacingAndGlyphs\" textLength=\"228\" x=\"5\" y=\"105.4844\">skinparam monochrome true</text><text fill=\"#33FF02\" font-family=\"sans-serif\" font-size=\"14\" font-weight=\"bold\" lengthAdjust=\"spacingAndGlyphs\" textLength=\"309\" x=\"5\" y=\"121.7813\">skinparam classbackgroundcolor white</text><text fill=\"#33FF02\" font-family=\"sans-serif\" font-size=\"14\" font-weight=\"bold\" lengthAdjust=\"spacingAndGlyphs\" textLength=\"215\" x=\"5\" y=\"138.0781\">skinparam shadowing false</text><text fill=\"#33FF02\" font-family=\"sans-serif\" font-size=\"14\" font-weight=\"bold\" lengthAdjust=\"spacingAndGlyphs\" textLength=\"206\" x=\"5\" y=\"154.375\">skinparam wrapWidth 300</text><text fill=\"#33FF02\" font-family=\"sans-serif\" font-size=\"14\" font-weight=\"bold\" lengthAdjust=\"spacingAndGlyphs\" textLength=\"82\" x=\"5\" y=\"170.6719\">hide circle</text><text fill=\"#33FF02\" font-family=\"sans-serif\" font-size=\"14\" font-weight=\"bold\" lengthAdjust=\"spacingAndGlyphs\" textLength=\"0\" x=\"10\" y=\"186.9688\"/><text fill=\"#33FF02\" font-family=\"sans-serif\" font-size=\"14\" font-weight=\"bold\" lengthAdjust=\"spacingAndGlyphs\" textLength=\"870\" x=\"5\" y=\"203.2656\">rec def \"DecisionTest\" as E1  &lt;&lt;(T,blue)action def&gt;&gt; [[psysml:a3695254-583a-41e6-95b4-07f76a5805ed ]] {</text><text fill=\"#33FF02\" font-family=\"sans-serif\" font-size=\"14\" font-weight=\"bold\" lengthAdjust=\"spacingAndGlyphs\" textLength=\"623\" x=\"5\" y=\"219.5625\">portout \"$result\" as E2  [[psysml:736cbe2e-e614-4ea2-922e-635e617bb808 ]]</text><text fill=\"#33FF02\" font-family=\"sans-serif\" font-size=\"14\" font-weight=\"bold\" lengthAdjust=\"spacingAndGlyphs\" textLength=\"861\" x=\"5\" y=\"235.8594\">rec usage \"test x\" as E3  &lt;&lt;(T,blue)decisionNode&gt;&gt; [[psysml:fd19b455-89d5-459d-92f7-d1815185add7 ]] {</text><text fill=\"#33FF02\" font-family=\"sans-serif\" font-size=\"14\" font-weight=\"bold\" lengthAdjust=\"spacingAndGlyphs\" textLength=\"10\" x=\"5\" y=\"252.1563\">}</text><text fill=\"#33FF02\" font-family=\"sans-serif\" font-size=\"14\" font-weight=\"bold\" lengthAdjust=\"spacingAndGlyphs\" textLength=\"0\" x=\"10\" y=\"268.4531\"/><text fill=\"#33FF02\" font-family=\"sans-serif\" font-size=\"14\" font-weight=\"bold\" lengthAdjust=\"spacingAndGlyphs\" textLength=\"10\" x=\"5\" y=\"284.75\">{</text><text fill=\"#FF0000\" font-family=\"sans-serif\" font-size=\"14\" font-weight=\"bold\" lengthAdjust=\"spacingAndGlyphs\" textLength=\"106\" x=\"10\" y=\"301.0469\">Syntax Error?</text><!--MD5=[6b58c8eee36d71305db1d30fa2ca7fa3]\n",
       "@startuml\r\n",
       "skinparam ranksep 8\r\n",
       "left to right direction\r\n",
       "skinparam monochrome true\r\n",
       "skinparam classbackgroundcolor white\r\n",
       "skinparam shadowing false\r\n",
       "skinparam wrapWidth 300\r\n",
       "hide circle\r\n",
       "\r\n",
       "rec def \"DecisionTest\" as E1  <<(T,blue)action def>> [[psysml:a3695254-583a-41e6-95b4-07f76a5805ed ]] {\r\n",
       "portout \"$result\" as E2  [[psysml:736cbe2e-e614-4ea2-922e-635e617bb808 ]] \r\n",
       "rec usage \"test x\" as E3  <<(T,blue)decisionNode>> [[psysml:fd19b455-89d5-459d-92f7-d1815185add7 ]] {\r\n",
       "}\r\n",
       "\r\n",
       "{\r\n",
       "portout \"$result\" as E4  [[psysml:6d4a6456-a7ec-4177-87e4-ea5c100c5f7a ]] \r\n",
       "portin \"$x\" as E5  [[psysml:810bc03f-55fb-40a2-b55c-bd606a6d8860 ]] \r\n",
       "portin \"$y\" as E6  [[psysml:9b327a8e-6a1a-4f88-b23a-313c42dc41ad ]] \r\n",
       "portout \"$result\" as E7  [[psysml:3482b99c-6d5f-462a-981f-843523b909ab ]] \r\n",
       "}\r\n",
       "\r\n",
       "{\r\n",
       "portout \"$result\" as E8  [[psysml:8d6fc5ff-5a7b-4326-8fe2-a1e00b49613b ]] \r\n",
       "portin \"$x\" as E9  [[psysml:46b1300e-a73a-4c43-b5e8-ea161bf29b84 ]] \r\n",
       "portin \"$y\" as E10  [[psysml:4c9eaf15-63e7-4329-aa99-8209cbaf88bd ]] \r\n",
       "portout \"$result\" as E11  [[psysml:db374472-9b3d-40ef-87c4-0779379afe59 ]] \r\n",
       "}\r\n",
       "\r\n",
       "{\r\n",
       "}\r\n",
       "\r\n",
       "{\r\n",
       "}\r\n",
       "\r\n",
       "{\r\n",
       "portout \"$result\" as E12  [[psysml:e0510f13-cf5f-43a3-a7c7-2804245d6335 ]] \r\n",
       "}\r\n",
       "\r\n",
       "{\r\n",
       "portout \"$result\" as E13  [[psysml:bcae0eca-1466-485e-a896-a9c2508efe87 ]] \r\n",
       "}\r\n",
       "\r\n",
       "rec usage \"A1\" as E14  <<(T,blue)action>> [[psysml:fe5e89f6-2dc9-4b0f-8489-37aae8d1db14 ]] {\r\n",
       "}\r\n",
       "\r\n",
       "rec usage \"A2\" as E15  <<(T,blue)action>> [[psysml:4cc0bf78-e417-49bc-8d88-351983c62136 ]] {\r\n",
       "}\r\n",
       "\r\n",
       "rec usage \"A3\" as E16  <<(T,blue)action>> [[psysml:b76bbc08-81d4-47ab-9a49-666299d123cf ]] {\r\n",
       "}\r\n",
       "\r\n",
       "rec usage \"S\" as E17  <<(T,blue)transition>> [[psysml:fe245d46-438e-4c8f-ab18-310121fc2f41 ]] {\r\n",
       "rec usage \"A1\" as E18  <<(T,blue)action>> [[psysml:fe5e89f6-2dc9-4b0f-8489-37aae8d1db14 ]] {\r\n",
       "}\r\n",
       "\r\n",
       "portout \"$result\" as E19  [[psysml:5f694de1-2ca1-44b7-80b3-60a608cc3133 ]] \r\n",
       "portin \"$x\" as E20  [[psysml:8143e50d-1193-4d25-859f-77f062ba674d ]] \r\n",
       "portin \"$y\" as E21  [[psysml:ba8e69b2-a3c6-4a24-b7d7-ae4c7f563c95 ]] \r\n",
       "portout \"$result\" as E22  [[psysml:24237d18-6666-403f-9475-d2e8cf84f852 ]] \r\n",
       "}\r\n",
       "\r\n",
       "rec usage \"A3\" as E23  <<(T,blue)action>> [[psysml:b76bbc08-81d4-47ab-9a49-666299d123cf ]] {\r\n",
       "}\r\n",
       "\r\n",
       "{\r\n",
       "portout \"$result\" as E24  [[psysml:f904355a-9712-4e0c-a9b6-5ecdd1390be6 ]] \r\n",
       "portin \"$x\" as E25  [[psysml:c4435769-fd75-4fbf-95a7-29566a6c8186 ]] \r\n",
       "portin \"$y\" as E26  [[psysml:e2db5bbd-dd5d-422a-81f2-d836869b1ec1 ]] \r\n",
       "portout \"$result\" as E27  [[psysml:f774fe7e-8d66-439a-b027-16ceb2b41e9d ]] \r\n",
       "}\r\n",
       "\r\n",
       "}\r\n",
       "\r\n",
       "E6 -[thickness=5]- E4 [[psysml:22575a94-d313-4c92-b3bf-e872aff40b38 ]] \r\n",
       "E10 -[thickness=5]- E8 [[psysml:468e3065-35eb-4f7a-b0d7-b4ac24204b50 ]] \r\n",
       "E21 -[thickness=5]- E19 [[psysml:6eff49c6-4c1b-4a79-924a-d43d01989d36 ]] \r\n",
       "E26 -[thickness=5]- E24 [[psysml:02504f01-5bd4-4b5c-8fa7-2e89e01e6fe9 ]] \r\n",
       "@enduml\r\n",
       "\n",
       "PlantUML version 1.2020.13(Sat Jun 13 12:26:38 UTC 2020)\n",
       "(EPL source distribution)\n",
       "Java Runtime: OpenJDK Runtime Environment\n",
       "JVM: OpenJDK 64-Bit Server VM\n",
       "Default Encoding: UTF-8\n",
       "Language: en\n",
       "Country: null\n",
       "--></g></svg>"
      ]
     },
     "execution_count": 20,
     "metadata": {},
     "output_type": "execute_result"
    }
   ],
   "source": [
    "%viz --style=\"LR\" --view=\"Action\" \"DecisionTest\""
   ]
  },
  {
   "cell_type": "code",
   "execution_count": 21,
   "id": "ruled-company",
   "metadata": {
    "execution": {
     "iopub.execute_input": "2021-03-25T13:22:44.513383Z",
     "iopub.status.busy": "2021-03-25T13:22:44.512480Z",
     "iopub.status.idle": "2021-03-25T13:22:44.866991Z",
     "shell.execute_reply": "2021-03-25T13:22:44.867422Z"
    }
   },
   "outputs": [
    {
     "data": {
      "image/svg+xml": [
       "<?xml version=\"1.0\" encoding=\"UTF-8\" standalone=\"no\"?><svg xmlns=\"http://www.w3.org/2000/svg\" xmlns:xlink=\"http://www.w3.org/1999/xlink\" contentScriptType=\"application/ecmascript\" contentStyleType=\"text/css\" height=\"207px\" preserveAspectRatio=\"none\" style=\"width:109px;height:207px;\" version=\"1.1\" viewBox=\"0 0 109 207\" width=\"109px\" zoomAndPan=\"magnify\"><defs/><g><!--MD5=[43c9051892ef23e1a46a86907403d788]\n",
       "class E1--><a href=\"psysml:a3695254-583a-41e6-95b4-07f76a5805ed\" target=\"_top\" title=\"psysml:a3695254-583a-41e6-95b4-07f76a5805ed\" xlink:actuate=\"onRequest\" xlink:href=\"psysml:a3695254-583a-41e6-95b4-07f76a5805ed\" xlink:show=\"new\" xlink:title=\"psysml:a3695254-583a-41e6-95b4-07f76a5805ed\" xlink:type=\"simple\"><rect fill=\"#FFFFFF\" height=\"189.9844\" id=\"E1\" style=\"stroke: #383838; stroke-width: 1.5;\" width=\"91\" x=\"7\" y=\"7\"/><text fill=\"#000000\" font-family=\"sans-serif\" font-size=\"12\" font-style=\"italic\" lengthAdjust=\"spacingAndGlyphs\" textLength=\"77\" x=\"14\" y=\"23.1387\">«action def»</text><text fill=\"#000000\" font-family=\"sans-serif\" font-size=\"12\" lengthAdjust=\"spacingAndGlyphs\" textLength=\"80\" x=\"12.5\" y=\"37.1074\">DecisionTest</text><line style=\"stroke: #383838; stroke-width: 1.5;\" x1=\"8\" x2=\"97\" y1=\"44.9375\" y2=\"44.9375\"/><text fill=\"#000000\" font-family=\"sans-serif\" font-size=\"11\" lengthAdjust=\"spacingAndGlyphs\" textLength=\"6\" x=\"13\" y=\"75.9526\">x</text><line style=\"stroke: #383838; stroke-width: 1.0;\" x1=\"8\" x2=\"25\" y1=\"59.3398\" y2=\"59.3398\"/><text fill=\"#000000\" font-family=\"sans-serif\" font-size=\"11\" lengthAdjust=\"spacingAndGlyphs\" textLength=\"55\" x=\"25\" y=\"62.6479\">attributes</text><line style=\"stroke: #383838; stroke-width: 1.0;\" x1=\"80\" x2=\"97\" y1=\"59.3398\" y2=\"59.3398\"/><text fill=\"#000000\" font-family=\"sans-serif\" font-size=\"11\" lengthAdjust=\"spacingAndGlyphs\" textLength=\"14\" x=\"13\" y=\"105.562\">A1</text><text fill=\"#000000\" font-family=\"sans-serif\" font-size=\"11\" lengthAdjust=\"spacingAndGlyphs\" textLength=\"14\" x=\"13\" y=\"118.3667\">A2</text><text fill=\"#000000\" font-family=\"sans-serif\" font-size=\"11\" lengthAdjust=\"spacingAndGlyphs\" textLength=\"14\" x=\"13\" y=\"131.1714\">A3</text><line style=\"stroke: #383838; stroke-width: 1.0;\" x1=\"8\" x2=\"32\" y1=\"88.9492\" y2=\"88.9492\"/><text fill=\"#000000\" font-family=\"sans-serif\" font-size=\"11\" lengthAdjust=\"spacingAndGlyphs\" textLength=\"41\" x=\"32\" y=\"92.2573\">actions</text><line style=\"stroke: #383838; stroke-width: 1.0;\" x1=\"73\" x2=\"97\" y1=\"88.9492\" y2=\"88.9492\"/><text fill=\"#000000\" font-family=\"sans-serif\" font-size=\"11\" lengthAdjust=\"spacingAndGlyphs\" textLength=\"32\" x=\"13\" y=\"160.7808\">test x</text><line style=\"stroke: #383838; stroke-width: 1.0;\" x1=\"8\" x2=\"11\" y1=\"144.168\" y2=\"144.168\"/><text fill=\"#000000\" font-family=\"sans-serif\" font-size=\"11\" lengthAdjust=\"spacingAndGlyphs\" textLength=\"83\" x=\"11\" y=\"147.4761\">decisionNodes</text><line style=\"stroke: #383838; stroke-width: 1.0;\" x1=\"94\" x2=\"97\" y1=\"144.168\" y2=\"144.168\"/><text fill=\"#000000\" font-family=\"sans-serif\" font-size=\"11\" lengthAdjust=\"spacingAndGlyphs\" textLength=\"8\" x=\"13\" y=\"190.3901\">S</text><line style=\"stroke: #383838; stroke-width: 1.0;\" x1=\"8\" x2=\"22\" y1=\"173.7773\" y2=\"173.7773\"/><text fill=\"#000000\" font-family=\"sans-serif\" font-size=\"11\" lengthAdjust=\"spacingAndGlyphs\" textLength=\"61\" x=\"22\" y=\"177.0854\">transitions</text><line style=\"stroke: #383838; stroke-width: 1.0;\" x1=\"83\" x2=\"97\" y1=\"173.7773\" y2=\"173.7773\"/></a><!--MD5=[0f2b4e385304be402160e31f39e41142]\n",
       "@startuml\r\n",
       "left to right direction\r\n",
       "skinparam monochrome true\r\n",
       "skinparam classbackgroundcolor white\r\n",
       "skinparam shadowing false\r\n",
       "skinparam wrapWidth 300\r\n",
       "hide circle\r\n",
       "\r\n",
       "comp def \"DecisionTest\" as E1  <<(T,blue)action def>> [[psysml:a3695254-583a-41e6-95b4-07f76a5805ed ]] {\r\n",
       "- - attributes - -\r\n",
       "x\r\n",
       "- - actions - -\r\n",
       "A1\r\n",
       "A2\r\n",
       "A3\r\n",
       "- - decisionNodes - -\r\n",
       "test x\r\n",
       "- - transitions - -\r\n",
       "S\r\n",
       "}\r\n",
       "@enduml\r\n",
       "\n",
       "PlantUML version 1.2020.13(Sat Jun 13 12:26:38 UTC 2020)\n",
       "(EPL source distribution)\n",
       "Java Runtime: OpenJDK Runtime Environment\n",
       "JVM: OpenJDK 64-Bit Server VM\n",
       "Default Encoding: UTF-8\n",
       "Language: en\n",
       "Country: null\n",
       "--></g></svg>"
      ]
     },
     "execution_count": 21,
     "metadata": {},
     "output_type": "execute_result"
    }
   ],
   "source": [
    "%viz --style=\"LR\" --view=\"Sequence\" \"DecisionTest\""
   ]
  },
  {
   "cell_type": "code",
   "execution_count": 22,
   "id": "smart-honolulu",
   "metadata": {
    "execution": {
     "iopub.execute_input": "2021-03-25T13:22:44.919755Z",
     "iopub.status.busy": "2021-03-25T13:22:44.918985Z",
     "iopub.status.idle": "2021-03-25T13:22:44.945197Z",
     "shell.execute_reply": "2021-03-25T13:22:44.943331Z"
    }
   },
   "outputs": [
    {
     "data": {
      "image/svg+xml": [
       "<?xml version=\"1.0\" encoding=\"UTF-8\" standalone=\"no\"?><svg xmlns=\"http://www.w3.org/2000/svg\" xmlns:xlink=\"http://www.w3.org/1999/xlink\" contentScriptType=\"application/ecmascript\" contentStyleType=\"text/css\" height=\"288px\" preserveAspectRatio=\"none\" style=\"width:877px;height:288px;background:#000000;\" version=\"1.1\" viewBox=\"0 0 877 288\" width=\"877px\" zoomAndPan=\"magnify\"><defs/><g><rect fill=\"#041820\" height=\"1\" style=\"stroke: #041820; stroke-width: 1.0;\" width=\"1\" x=\"0\" y=\"0\"/><rect fill=\"#33FF02\" height=\"21.2969\" style=\"stroke: #33FF02; stroke-width: 1.0;\" width=\"870\" x=\"5\" y=\"5\"/><text fill=\"#000000\" font-family=\"sans-serif\" font-size=\"14\" font-weight=\"bold\" lengthAdjust=\"spacingAndGlyphs\" textLength=\"178\" x=\"6\" y=\"20\">[From string (line 14) ]</text><text fill=\"#33FF02\" font-family=\"sans-serif\" font-size=\"14\" font-weight=\"bold\" lengthAdjust=\"spacingAndGlyphs\" textLength=\"0\" x=\"10\" y=\"40.2969\"/><text fill=\"#33FF02\" font-family=\"sans-serif\" font-size=\"14\" font-weight=\"bold\" lengthAdjust=\"spacingAndGlyphs\" textLength=\"79\" x=\"5\" y=\"56.5938\">@startuml</text><text fill=\"#33FF02\" font-family=\"sans-serif\" font-size=\"14\" font-weight=\"bold\" lengthAdjust=\"spacingAndGlyphs\" textLength=\"164\" x=\"5\" y=\"72.8906\">left to right direction</text><text fill=\"#33FF02\" font-family=\"sans-serif\" font-size=\"14\" font-weight=\"bold\" lengthAdjust=\"spacingAndGlyphs\" textLength=\"228\" x=\"5\" y=\"89.1875\">skinparam monochrome true</text><text fill=\"#33FF02\" font-family=\"sans-serif\" font-size=\"14\" font-weight=\"bold\" lengthAdjust=\"spacingAndGlyphs\" textLength=\"309\" x=\"5\" y=\"105.4844\">skinparam classbackgroundcolor white</text><text fill=\"#33FF02\" font-family=\"sans-serif\" font-size=\"14\" font-weight=\"bold\" lengthAdjust=\"spacingAndGlyphs\" textLength=\"215\" x=\"5\" y=\"121.7813\">skinparam shadowing false</text><text fill=\"#33FF02\" font-family=\"sans-serif\" font-size=\"14\" font-weight=\"bold\" lengthAdjust=\"spacingAndGlyphs\" textLength=\"206\" x=\"5\" y=\"138.0781\">skinparam wrapWidth 300</text><text fill=\"#33FF02\" font-family=\"sans-serif\" font-size=\"14\" font-weight=\"bold\" lengthAdjust=\"spacingAndGlyphs\" textLength=\"82\" x=\"5\" y=\"154.375\">hide circle</text><text fill=\"#33FF02\" font-family=\"sans-serif\" font-size=\"14\" font-weight=\"bold\" lengthAdjust=\"spacingAndGlyphs\" textLength=\"0\" x=\"10\" y=\"170.6719\"/><text fill=\"#33FF02\" font-family=\"sans-serif\" font-size=\"14\" font-weight=\"bold\" lengthAdjust=\"spacingAndGlyphs\" textLength=\"870\" x=\"5\" y=\"186.9688\">rec def \"DecisionTest\" as E1  &lt;&lt;(T,blue)action def&gt;&gt; [[psysml:a3695254-583a-41e6-95b4-07f76a5805ed ]] {</text><text fill=\"#33FF02\" font-family=\"sans-serif\" font-size=\"14\" font-weight=\"bold\" lengthAdjust=\"spacingAndGlyphs\" textLength=\"623\" x=\"5\" y=\"203.2656\">portout \"$result\" as E2  [[psysml:736cbe2e-e614-4ea2-922e-635e617bb808 ]]</text><text fill=\"#33FF02\" font-family=\"sans-serif\" font-size=\"14\" font-weight=\"bold\" lengthAdjust=\"spacingAndGlyphs\" textLength=\"861\" x=\"5\" y=\"219.5625\">rec usage \"test x\" as E3  &lt;&lt;(T,blue)decisionNode&gt;&gt; [[psysml:fd19b455-89d5-459d-92f7-d1815185add7 ]] {</text><text fill=\"#33FF02\" font-family=\"sans-serif\" font-size=\"14\" font-weight=\"bold\" lengthAdjust=\"spacingAndGlyphs\" textLength=\"10\" x=\"5\" y=\"235.8594\">}</text><text fill=\"#33FF02\" font-family=\"sans-serif\" font-size=\"14\" font-weight=\"bold\" lengthAdjust=\"spacingAndGlyphs\" textLength=\"0\" x=\"10\" y=\"252.1563\"/><text fill=\"#33FF02\" font-family=\"sans-serif\" font-size=\"14\" font-weight=\"bold\" lengthAdjust=\"spacingAndGlyphs\" textLength=\"10\" x=\"5\" y=\"268.4531\">{</text><text fill=\"#FF0000\" font-family=\"sans-serif\" font-size=\"14\" font-weight=\"bold\" lengthAdjust=\"spacingAndGlyphs\" textLength=\"106\" x=\"10\" y=\"284.75\">Syntax Error?</text><!--MD5=[236a2d0318c1509de039005e9c076a3b]\n",
       "@startuml\r\n",
       "left to right direction\r\n",
       "skinparam monochrome true\r\n",
       "skinparam classbackgroundcolor white\r\n",
       "skinparam shadowing false\r\n",
       "skinparam wrapWidth 300\r\n",
       "hide circle\r\n",
       "\r\n",
       "rec def \"DecisionTest\" as E1  <<(T,blue)action def>> [[psysml:a3695254-583a-41e6-95b4-07f76a5805ed ]] {\r\n",
       "portout \"$result\" as E2  [[psysml:736cbe2e-e614-4ea2-922e-635e617bb808 ]] \r\n",
       "rec usage \"test x\" as E3  <<(T,blue)decisionNode>> [[psysml:fd19b455-89d5-459d-92f7-d1815185add7 ]] {\r\n",
       "}\r\n",
       "\r\n",
       "{\r\n",
       "portout \"$result\" as E4  [[psysml:6d4a6456-a7ec-4177-87e4-ea5c100c5f7a ]] \r\n",
       "portin \"$x\" as E5  [[psysml:810bc03f-55fb-40a2-b55c-bd606a6d8860 ]] \r\n",
       "portin \"$y\" as E6  [[psysml:9b327a8e-6a1a-4f88-b23a-313c42dc41ad ]] \r\n",
       "portout \"$result\" as E7  [[psysml:3482b99c-6d5f-462a-981f-843523b909ab ]] \r\n",
       "}\r\n",
       "\r\n",
       "{\r\n",
       "portout \"$result\" as E8  [[psysml:8d6fc5ff-5a7b-4326-8fe2-a1e00b49613b ]] \r\n",
       "portin \"$x\" as E9  [[psysml:46b1300e-a73a-4c43-b5e8-ea161bf29b84 ]] \r\n",
       "portin \"$y\" as E10  [[psysml:4c9eaf15-63e7-4329-aa99-8209cbaf88bd ]] \r\n",
       "portout \"$result\" as E11  [[psysml:db374472-9b3d-40ef-87c4-0779379afe59 ]] \r\n",
       "}\r\n",
       "\r\n",
       "{\r\n",
       "}\r\n",
       "\r\n",
       "{\r\n",
       "}\r\n",
       "\r\n",
       "{\r\n",
       "portout \"$result\" as E12  [[psysml:e0510f13-cf5f-43a3-a7c7-2804245d6335 ]] \r\n",
       "}\r\n",
       "\r\n",
       "{\r\n",
       "portout \"$result\" as E13  [[psysml:bcae0eca-1466-485e-a896-a9c2508efe87 ]] \r\n",
       "}\r\n",
       "\r\n",
       "rec usage \"A1\" as E14  <<(T,blue)action>> [[psysml:fe5e89f6-2dc9-4b0f-8489-37aae8d1db14 ]] {\r\n",
       "}\r\n",
       "\r\n",
       "rec usage \"A2\" as E15  <<(T,blue)action>> [[psysml:4cc0bf78-e417-49bc-8d88-351983c62136 ]] {\r\n",
       "}\r\n",
       "\r\n",
       "rec usage \"A3\" as E16  <<(T,blue)action>> [[psysml:b76bbc08-81d4-47ab-9a49-666299d123cf ]] {\r\n",
       "}\r\n",
       "\r\n",
       "rec usage \"S\" as E17  <<(T,blue)transition>> [[psysml:fe245d46-438e-4c8f-ab18-310121fc2f41 ]] {\r\n",
       "rec usage \"A1\" as E18  <<(T,blue)action>> [[psysml:fe5e89f6-2dc9-4b0f-8489-37aae8d1db14 ]] {\r\n",
       "}\r\n",
       "\r\n",
       "portout \"$result\" as E19  [[psysml:5f694de1-2ca1-44b7-80b3-60a608cc3133 ]] \r\n",
       "portin \"$x\" as E20  [[psysml:8143e50d-1193-4d25-859f-77f062ba674d ]] \r\n",
       "portin \"$y\" as E21  [[psysml:ba8e69b2-a3c6-4a24-b7d7-ae4c7f563c95 ]] \r\n",
       "portout \"$result\" as E22  [[psysml:24237d18-6666-403f-9475-d2e8cf84f852 ]] \r\n",
       "}\r\n",
       "\r\n",
       "rec usage \"A3\" as E23  <<(T,blue)action>> [[psysml:b76bbc08-81d4-47ab-9a49-666299d123cf ]] {\r\n",
       "}\r\n",
       "\r\n",
       "{\r\n",
       "portout \"$result\" as E24  [[psysml:f904355a-9712-4e0c-a9b6-5ecdd1390be6 ]] \r\n",
       "portin \"$x\" as E25  [[psysml:c4435769-fd75-4fbf-95a7-29566a6c8186 ]] \r\n",
       "portin \"$y\" as E26  [[psysml:e2db5bbd-dd5d-422a-81f2-d836869b1ec1 ]] \r\n",
       "portout \"$result\" as E27  [[psysml:f774fe7e-8d66-439a-b027-16ceb2b41e9d ]] \r\n",
       "}\r\n",
       "\r\n",
       "}\r\n",
       "\r\n",
       "E6 -[thickness=5]- E4 [[psysml:22575a94-d313-4c92-b3bf-e872aff40b38 ]] \r\n",
       "E10 -[thickness=5]- E8 [[psysml:468e3065-35eb-4f7a-b0d7-b4ac24204b50 ]] \r\n",
       "E21 -[thickness=5]- E19 [[psysml:6eff49c6-4c1b-4a79-924a-d43d01989d36 ]] \r\n",
       "E26 -[thickness=5]- E24 [[psysml:02504f01-5bd4-4b5c-8fa7-2e89e01e6fe9 ]] \r\n",
       "@enduml\r\n",
       "\n",
       "PlantUML version 1.2020.13(Sat Jun 13 12:26:38 UTC 2020)\n",
       "(EPL source distribution)\n",
       "Java Runtime: OpenJDK Runtime Environment\n",
       "JVM: OpenJDK 64-Bit Server VM\n",
       "Default Encoding: UTF-8\n",
       "Language: en\n",
       "Country: null\n",
       "--></g></svg>"
      ]
     },
     "execution_count": 22,
     "metadata": {},
     "output_type": "execute_result"
    }
   ],
   "source": [
    "%viz --style=\"LR\" --view=\"MIXED\" \"DecisionTest\""
   ]
  },
  {
   "cell_type": "code",
   "execution_count": 23,
   "id": "conceptual-warrant",
   "metadata": {
    "execution": {
     "iopub.execute_input": "2021-03-25T13:22:44.997565Z",
     "iopub.status.busy": "2021-03-25T13:22:44.996290Z",
     "iopub.status.idle": "2021-03-25T13:22:45.076296Z",
     "shell.execute_reply": "2021-03-25T13:22:45.075938Z"
    }
   },
   "outputs": [
    {
     "data": {
      "image/svg+xml": [
       "<?xml version=\"1.0\" encoding=\"UTF-8\" standalone=\"no\"?><svg xmlns=\"http://www.w3.org/2000/svg\" xmlns:xlink=\"http://www.w3.org/1999/xlink\" contentScriptType=\"application/ecmascript\" contentStyleType=\"text/css\" height=\"223px\" preserveAspectRatio=\"none\" style=\"width:877px;height:223px;background:#000000;\" version=\"1.1\" viewBox=\"0 0 877 223\" width=\"877px\" zoomAndPan=\"magnify\"><defs/><g><rect fill=\"#15061F\" height=\"1\" style=\"stroke: #15061F; stroke-width: 1.0;\" width=\"1\" x=\"0\" y=\"0\"/><rect fill=\"#33FF02\" height=\"21.2969\" style=\"stroke: #33FF02; stroke-width: 1.0;\" width=\"870\" x=\"5\" y=\"5\"/><text fill=\"#000000\" font-family=\"sans-serif\" font-size=\"14\" font-weight=\"bold\" lengthAdjust=\"spacingAndGlyphs\" textLength=\"178\" x=\"6\" y=\"20\">[From string (line 10) ]</text><text fill=\"#33FF02\" font-family=\"sans-serif\" font-size=\"14\" font-weight=\"bold\" lengthAdjust=\"spacingAndGlyphs\" textLength=\"0\" x=\"10\" y=\"40.2969\"/><text fill=\"#33FF02\" font-family=\"sans-serif\" font-size=\"14\" font-weight=\"bold\" lengthAdjust=\"spacingAndGlyphs\" textLength=\"79\" x=\"5\" y=\"56.5938\">@startuml</text><text fill=\"#33FF02\" font-family=\"sans-serif\" font-size=\"14\" font-weight=\"bold\" lengthAdjust=\"spacingAndGlyphs\" textLength=\"206\" x=\"5\" y=\"72.8906\">skinparam wrapWidth 300</text><text fill=\"#33FF02\" font-family=\"sans-serif\" font-size=\"14\" font-weight=\"bold\" lengthAdjust=\"spacingAndGlyphs\" textLength=\"82\" x=\"5\" y=\"89.1875\">hide circle</text><text fill=\"#33FF02\" font-family=\"sans-serif\" font-size=\"14\" font-weight=\"bold\" lengthAdjust=\"spacingAndGlyphs\" textLength=\"0\" x=\"10\" y=\"105.4844\"/><text fill=\"#33FF02\" font-family=\"sans-serif\" font-size=\"14\" font-weight=\"bold\" lengthAdjust=\"spacingAndGlyphs\" textLength=\"870\" x=\"5\" y=\"121.7813\">rec def \"DecisionTest\" as E1  &lt;&lt;(T,blue)action def&gt;&gt; [[psysml:a3695254-583a-41e6-95b4-07f76a5805ed ]] {</text><text fill=\"#33FF02\" font-family=\"sans-serif\" font-size=\"14\" font-weight=\"bold\" lengthAdjust=\"spacingAndGlyphs\" textLength=\"623\" x=\"5\" y=\"138.0781\">portout \"$result\" as E2  [[psysml:736cbe2e-e614-4ea2-922e-635e617bb808 ]]</text><text fill=\"#33FF02\" font-family=\"sans-serif\" font-size=\"14\" font-weight=\"bold\" lengthAdjust=\"spacingAndGlyphs\" textLength=\"861\" x=\"5\" y=\"154.375\">rec usage \"test x\" as E3  &lt;&lt;(T,blue)decisionNode&gt;&gt; [[psysml:fd19b455-89d5-459d-92f7-d1815185add7 ]] {</text><text fill=\"#33FF02\" font-family=\"sans-serif\" font-size=\"14\" font-weight=\"bold\" lengthAdjust=\"spacingAndGlyphs\" textLength=\"10\" x=\"5\" y=\"170.6719\">}</text><text fill=\"#33FF02\" font-family=\"sans-serif\" font-size=\"14\" font-weight=\"bold\" lengthAdjust=\"spacingAndGlyphs\" textLength=\"0\" x=\"10\" y=\"186.9688\"/><text fill=\"#33FF02\" font-family=\"sans-serif\" font-size=\"14\" font-weight=\"bold\" lengthAdjust=\"spacingAndGlyphs\" textLength=\"10\" x=\"5\" y=\"203.2656\">{</text><text fill=\"#FF0000\" font-family=\"sans-serif\" font-size=\"14\" font-weight=\"bold\" lengthAdjust=\"spacingAndGlyphs\" textLength=\"106\" x=\"10\" y=\"219.5625\">Syntax Error?</text><!--MD5=[cfdd9cb174cd10da630cd5ec6d9f9258]\n",
       "@startuml\r\n",
       "skinparam wrapWidth 300\r\n",
       "hide circle\r\n",
       "\r\n",
       "rec def \"DecisionTest\" as E1  <<(T,blue)action def>> [[psysml:a3695254-583a-41e6-95b4-07f76a5805ed ]] {\r\n",
       "portout \"$result\" as E2  [[psysml:736cbe2e-e614-4ea2-922e-635e617bb808 ]] \r\n",
       "rec usage \"test x\" as E3  <<(T,blue)decisionNode>> [[psysml:fd19b455-89d5-459d-92f7-d1815185add7 ]] {\r\n",
       "}\r\n",
       "\r\n",
       "{\r\n",
       "portout \"$result\" as E4  [[psysml:6d4a6456-a7ec-4177-87e4-ea5c100c5f7a ]] \r\n",
       "portin \"$x\" as E5  [[psysml:810bc03f-55fb-40a2-b55c-bd606a6d8860 ]] \r\n",
       "portin \"$y\" as E6  [[psysml:9b327a8e-6a1a-4f88-b23a-313c42dc41ad ]] \r\n",
       "portout \"$result\" as E7  [[psysml:3482b99c-6d5f-462a-981f-843523b909ab ]] \r\n",
       "}\r\n",
       "\r\n",
       "{\r\n",
       "portout \"$result\" as E8  [[psysml:8d6fc5ff-5a7b-4326-8fe2-a1e00b49613b ]] \r\n",
       "portin \"$x\" as E9  [[psysml:46b1300e-a73a-4c43-b5e8-ea161bf29b84 ]] \r\n",
       "portin \"$y\" as E10  [[psysml:4c9eaf15-63e7-4329-aa99-8209cbaf88bd ]] \r\n",
       "portout \"$result\" as E11  [[psysml:db374472-9b3d-40ef-87c4-0779379afe59 ]] \r\n",
       "}\r\n",
       "\r\n",
       "{\r\n",
       "}\r\n",
       "\r\n",
       "{\r\n",
       "}\r\n",
       "\r\n",
       "{\r\n",
       "portout \"$result\" as E12  [[psysml:e0510f13-cf5f-43a3-a7c7-2804245d6335 ]] \r\n",
       "}\r\n",
       "\r\n",
       "{\r\n",
       "portout \"$result\" as E13  [[psysml:bcae0eca-1466-485e-a896-a9c2508efe87 ]] \r\n",
       "}\r\n",
       "\r\n",
       "rec usage \"A1\" as E14  <<(T,blue)action>> [[psysml:fe5e89f6-2dc9-4b0f-8489-37aae8d1db14 ]] {\r\n",
       "}\r\n",
       "\r\n",
       "rec usage \"A2\" as E15  <<(T,blue)action>> [[psysml:4cc0bf78-e417-49bc-8d88-351983c62136 ]] {\r\n",
       "}\r\n",
       "\r\n",
       "rec usage \"A3\" as E16  <<(T,blue)action>> [[psysml:b76bbc08-81d4-47ab-9a49-666299d123cf ]] {\r\n",
       "}\r\n",
       "\r\n",
       "rec usage \"S\" as E17  <<(T,blue)transition>> [[psysml:fe245d46-438e-4c8f-ab18-310121fc2f41 ]] {\r\n",
       "rec usage \"A1\" as E18  <<(T,blue)action>> [[psysml:fe5e89f6-2dc9-4b0f-8489-37aae8d1db14 ]] {\r\n",
       "}\r\n",
       "\r\n",
       "portout \"$result\" as E19  [[psysml:5f694de1-2ca1-44b7-80b3-60a608cc3133 ]] \r\n",
       "portin \"$x\" as E20  [[psysml:8143e50d-1193-4d25-859f-77f062ba674d ]] \r\n",
       "portin \"$y\" as E21  [[psysml:ba8e69b2-a3c6-4a24-b7d7-ae4c7f563c95 ]] \r\n",
       "portout \"$result\" as E22  [[psysml:24237d18-6666-403f-9475-d2e8cf84f852 ]] \r\n",
       "}\r\n",
       "\r\n",
       "rec usage \"A3\" as E23  <<(T,blue)action>> [[psysml:b76bbc08-81d4-47ab-9a49-666299d123cf ]] {\r\n",
       "}\r\n",
       "\r\n",
       "{\r\n",
       "portout \"$result\" as E24  [[psysml:f904355a-9712-4e0c-a9b6-5ecdd1390be6 ]] \r\n",
       "portin \"$x\" as E25  [[psysml:c4435769-fd75-4fbf-95a7-29566a6c8186 ]] \r\n",
       "portin \"$y\" as E26  [[psysml:e2db5bbd-dd5d-422a-81f2-d836869b1ec1 ]] \r\n",
       "portout \"$result\" as E27  [[psysml:f774fe7e-8d66-439a-b027-16ceb2b41e9d ]] \r\n",
       "}\r\n",
       "\r\n",
       "}\r\n",
       "\r\n",
       "E6 -[thickness=5,#red]- E4 [[psysml:22575a94-d313-4c92-b3bf-e872aff40b38 ]] \r\n",
       "E10 -[thickness=5,#red]- E8 [[psysml:468e3065-35eb-4f7a-b0d7-b4ac24204b50 ]] \r\n",
       "E21 -[thickness=5,#red]- E19 [[psysml:6eff49c6-4c1b-4a79-924a-d43d01989d36 ]] \r\n",
       "E26 -[thickness=5,#red]- E24 [[psysml:02504f01-5bd4-4b5c-8fa7-2e89e01e6fe9 ]] \r\n",
       "@enduml\r\n",
       "\n",
       "PlantUML version 1.2020.13(Sat Jun 13 12:26:38 UTC 2020)\n",
       "(EPL source distribution)\n",
       "Java Runtime: OpenJDK Runtime Environment\n",
       "JVM: OpenJDK 64-Bit Server VM\n",
       "Default Encoding: UTF-8\n",
       "Language: en\n",
       "Country: null\n",
       "--></g></svg>"
      ]
     },
     "execution_count": 23,
     "metadata": {},
     "output_type": "execute_result"
    }
   ],
   "source": [
    "%viz --style=\"STDCOLOR\" --view=\"Default\" \"DecisionTest\""
   ]
  },
  {
   "cell_type": "code",
   "execution_count": 24,
   "id": "antique-competition",
   "metadata": {
    "execution": {
     "iopub.execute_input": "2021-03-25T13:22:45.128008Z",
     "iopub.status.busy": "2021-03-25T13:22:45.127152Z",
     "iopub.status.idle": "2021-03-25T13:22:45.449285Z",
     "shell.execute_reply": "2021-03-25T13:22:45.449726Z"
    }
   },
   "outputs": [
    {
     "data": {
      "image/svg+xml": [
       "<?xml version=\"1.0\" encoding=\"UTF-8\" standalone=\"no\"?><svg xmlns=\"http://www.w3.org/2000/svg\" xmlns:xlink=\"http://www.w3.org/1999/xlink\" contentScriptType=\"application/ecmascript\" contentStyleType=\"text/css\" height=\"199px\" preserveAspectRatio=\"none\" style=\"width:117px;height:199px;\" version=\"1.1\" viewBox=\"0 0 117 199\" width=\"117px\" zoomAndPan=\"magnify\"><defs><filter height=\"300%\" id=\"f1mrvsor3dfiil\" width=\"300%\" x=\"-1\" y=\"-1\"><feGaussianBlur result=\"blurOut\" stdDeviation=\"2.0\"/><feColorMatrix in=\"blurOut\" result=\"blurOut2\" type=\"matrix\" values=\"0 0 0 0 0 0 0 0 0 0 0 0 0 0 0 0 0 0 .4 0\"/><feOffset dx=\"4.0\" dy=\"4.0\" in=\"blurOut2\" result=\"blurOut3\"/><feBlend in=\"SourceGraphic\" in2=\"blurOut3\" mode=\"normal\"/></filter></defs><g><!--MD5=[43c9051892ef23e1a46a86907403d788]\n",
       "class E1--><a href=\"psysml:a3695254-583a-41e6-95b4-07f76a5805ed\" target=\"_top\" title=\"psysml:a3695254-583a-41e6-95b4-07f76a5805ed\" xlink:actuate=\"onRequest\" xlink:href=\"psysml:a3695254-583a-41e6-95b4-07f76a5805ed\" xlink:show=\"new\" xlink:title=\"psysml:a3695254-583a-41e6-95b4-07f76a5805ed\" xlink:type=\"simple\"><rect fill=\"#FEFECE\" filter=\"url(#f1mrvsor3dfiil)\" height=\"173.1797\" id=\"E1\" style=\"stroke: #A80036; stroke-width: 1.5;\" width=\"91\" x=\"7\" y=\"7\"/><text fill=\"#000000\" font-family=\"sans-serif\" font-size=\"12\" font-style=\"italic\" lengthAdjust=\"spacingAndGlyphs\" textLength=\"77\" x=\"14\" y=\"23.1387\">«action def»</text><text fill=\"#000000\" font-family=\"sans-serif\" font-size=\"12\" lengthAdjust=\"spacingAndGlyphs\" textLength=\"80\" x=\"12.5\" y=\"37.1074\">DecisionTest</text><line style=\"stroke: #A80036; stroke-width: 1.5;\" x1=\"8\" x2=\"97\" y1=\"44.9375\" y2=\"44.9375\"/><text fill=\"#000000\" font-family=\"sans-serif\" font-size=\"11\" lengthAdjust=\"spacingAndGlyphs\" textLength=\"6\" x=\"13\" y=\"59.1479\">x</text><text fill=\"#000000\" font-family=\"sans-serif\" font-size=\"11\" lengthAdjust=\"spacingAndGlyphs\" textLength=\"14\" x=\"13\" y=\"88.7573\">A1</text><text fill=\"#000000\" font-family=\"sans-serif\" font-size=\"11\" lengthAdjust=\"spacingAndGlyphs\" textLength=\"14\" x=\"13\" y=\"101.562\">A2</text><text fill=\"#000000\" font-family=\"sans-serif\" font-size=\"11\" lengthAdjust=\"spacingAndGlyphs\" textLength=\"14\" x=\"13\" y=\"114.3667\">A3</text><line style=\"stroke: #A80036; stroke-width: 1.0;\" x1=\"8\" x2=\"32\" y1=\"72.1445\" y2=\"72.1445\"/><text fill=\"#000000\" font-family=\"sans-serif\" font-size=\"11\" lengthAdjust=\"spacingAndGlyphs\" textLength=\"41\" x=\"32\" y=\"75.4526\">actions</text><line style=\"stroke: #A80036; stroke-width: 1.0;\" x1=\"73\" x2=\"97\" y1=\"72.1445\" y2=\"72.1445\"/><text fill=\"#000000\" font-family=\"sans-serif\" font-size=\"11\" lengthAdjust=\"spacingAndGlyphs\" textLength=\"32\" x=\"13\" y=\"143.9761\">test x</text><line style=\"stroke: #A80036; stroke-width: 1.0;\" x1=\"8\" x2=\"11\" y1=\"127.3633\" y2=\"127.3633\"/><text fill=\"#000000\" font-family=\"sans-serif\" font-size=\"11\" lengthAdjust=\"spacingAndGlyphs\" textLength=\"83\" x=\"11\" y=\"130.6714\">decisionNodes</text><line style=\"stroke: #A80036; stroke-width: 1.0;\" x1=\"94\" x2=\"97\" y1=\"127.3633\" y2=\"127.3633\"/><text fill=\"#000000\" font-family=\"sans-serif\" font-size=\"11\" lengthAdjust=\"spacingAndGlyphs\" textLength=\"8\" x=\"13\" y=\"173.5854\">S</text><line style=\"stroke: #A80036; stroke-width: 1.0;\" x1=\"8\" x2=\"22\" y1=\"156.9727\" y2=\"156.9727\"/><text fill=\"#000000\" font-family=\"sans-serif\" font-size=\"11\" lengthAdjust=\"spacingAndGlyphs\" textLength=\"61\" x=\"22\" y=\"160.2808\">transitions</text><line style=\"stroke: #A80036; stroke-width: 1.0;\" x1=\"83\" x2=\"97\" y1=\"156.9727\" y2=\"156.9727\"/></a><!--MD5=[452555662d286ffc61792c3aec7694a9]\n",
       "@startuml\r\n",
       "skinparam wrapWidth 300\r\n",
       "hide circle\r\n",
       "\r\n",
       "comp def \"DecisionTest\" as E1  <<(T,blue)action def>> [[psysml:a3695254-583a-41e6-95b4-07f76a5805ed ]] {\r\n",
       "x\r\n",
       "- - actions - -\r\n",
       "A1\r\n",
       "A2\r\n",
       "A3\r\n",
       "- - decisionNodes - -\r\n",
       "test x\r\n",
       "- - transitions - -\r\n",
       "S\r\n",
       "}\r\n",
       "@enduml\r\n",
       "\n",
       "PlantUML version 1.2020.13(Sat Jun 13 12:26:38 UTC 2020)\n",
       "(EPL source distribution)\n",
       "Java Runtime: OpenJDK Runtime Environment\n",
       "JVM: OpenJDK 64-Bit Server VM\n",
       "Default Encoding: UTF-8\n",
       "Language: en\n",
       "Country: null\n",
       "--></g></svg>"
      ]
     },
     "execution_count": 24,
     "metadata": {},
     "output_type": "execute_result"
    }
   ],
   "source": [
    "%viz --style=\"STDCOLOR\" --view=\"Tree\" \"DecisionTest\""
   ]
  },
  {
   "cell_type": "code",
   "execution_count": 25,
   "id": "strange-journalist",
   "metadata": {
    "execution": {
     "iopub.execute_input": "2021-03-25T13:22:45.500286Z",
     "iopub.status.busy": "2021-03-25T13:22:45.499888Z",
     "iopub.status.idle": "2021-03-25T13:22:45.505062Z",
     "shell.execute_reply": "2021-03-25T13:22:45.505434Z"
    }
   },
   "outputs": [
    {
     "data": {
      "image/svg+xml": [
       "<?xml version=\"1.0\" encoding=\"UTF-8\" standalone=\"no\"?><svg xmlns=\"http://www.w3.org/2000/svg\" xmlns:xlink=\"http://www.w3.org/1999/xlink\" contentScriptType=\"application/ecmascript\" contentStyleType=\"text/css\" height=\"12px\" preserveAspectRatio=\"none\" style=\"width:12px;height:12px;\" version=\"1.1\" viewBox=\"0 0 12 12\" width=\"12px\" zoomAndPan=\"magnify\"><defs/><g><!--MD5=[aeeef50f102b80d730deb6443d14f702]\n",
       "@startuml\r\n",
       "skinparam wrapWidth 300\r\n",
       "hide circle\r\n",
       "\r\n",
       "@enduml\r\n",
       "\n",
       "PlantUML version 1.2020.13(Sat Jun 13 12:26:38 UTC 2020)\n",
       "(EPL source distribution)\n",
       "Java Runtime: OpenJDK Runtime Environment\n",
       "JVM: OpenJDK 64-Bit Server VM\n",
       "Default Encoding: UTF-8\n",
       "Language: en\n",
       "Country: null\n",
       "--></g></svg>"
      ]
     },
     "execution_count": 25,
     "metadata": {},
     "output_type": "execute_result"
    }
   ],
   "source": [
    "%viz --style=\"STDCOLOR\" --view=\"State\" \"DecisionTest\""
   ]
  },
  {
   "cell_type": "code",
   "execution_count": 26,
   "id": "dangerous-biotechnology",
   "metadata": {
    "execution": {
     "iopub.execute_input": "2021-03-25T13:22:45.556452Z",
     "iopub.status.busy": "2021-03-25T13:22:45.556079Z",
     "iopub.status.idle": "2021-03-25T13:22:45.579590Z",
     "shell.execute_reply": "2021-03-25T13:22:45.580131Z"
    }
   },
   "outputs": [
    {
     "data": {
      "image/svg+xml": [
       "<?xml version=\"1.0\" encoding=\"UTF-8\" standalone=\"no\"?><svg xmlns=\"http://www.w3.org/2000/svg\" xmlns:xlink=\"http://www.w3.org/1999/xlink\" contentScriptType=\"application/ecmascript\" contentStyleType=\"text/css\" height=\"68px\" preserveAspectRatio=\"none\" style=\"width:117px;height:68px;\" version=\"1.1\" viewBox=\"0 0 117 68\" width=\"117px\" zoomAndPan=\"magnify\"><defs><filter height=\"300%\" id=\"f171uvhc9ueydm\" width=\"300%\" x=\"-1\" y=\"-1\"><feGaussianBlur result=\"blurOut\" stdDeviation=\"2.0\"/><feColorMatrix in=\"blurOut\" result=\"blurOut2\" type=\"matrix\" values=\"0 0 0 0 0 0 0 0 0 0 0 0 0 0 0 0 0 0 .4 0\"/><feOffset dx=\"4.0\" dy=\"4.0\" in=\"blurOut2\" result=\"blurOut3\"/><feBlend in=\"SourceGraphic\" in2=\"blurOut3\" mode=\"normal\"/></filter></defs><g><g id=\"E1\"><a href=\"psysml:a3695254-583a-41e6-95b4-07f76a5805ed\" target=\"_top\" title=\"psysml:a3695254-583a-41e6-95b4-07f76a5805ed\" xlink:actuate=\"onRequest\" xlink:href=\"psysml:a3695254-583a-41e6-95b4-07f76a5805ed\" xlink:show=\"new\" xlink:title=\"psysml:a3695254-583a-41e6-95b4-07f76a5805ed\" xlink:type=\"simple\"><rect fill=\"#FEFECE\" filter=\"url(#f171uvhc9ueydm)\" height=\"42.9375\" id=\"E1\" style=\"stroke: #A80036; stroke-width: 1.5;\" width=\"91\" x=\"7\" y=\"7\"/><text fill=\"#000000\" font-family=\"sans-serif\" font-size=\"12\" font-style=\"italic\" lengthAdjust=\"spacingAndGlyphs\" textLength=\"77\" x=\"14\" y=\"23.1387\">«action def»</text><text fill=\"#000000\" font-family=\"sans-serif\" font-size=\"12\" lengthAdjust=\"spacingAndGlyphs\" textLength=\"80\" x=\"12.5\" y=\"37.1074\">DecisionTest</text></a></g><!--MD5=[7f9d905cf0664c8f37bec6e4cd650c2f]\n",
       "@startuml\r\n",
       "skinparam ranksep 8\r\n",
       "skinparam rectangle {\r\n",
       " backgroundColor<<block>> LightGreen\r\n",
       "}\r\n",
       "skinparam wrapWidth 300\r\n",
       "hide circle\r\n",
       "\r\n",
       "def \"DecisionTest\" as E1  <<(T,blue)action def>> [[psysml:a3695254-583a-41e6-95b4-07f76a5805ed ]] \r\n",
       "@enduml\r\n",
       "\n",
       "PlantUML version 1.2020.13(Sat Jun 13 12:26:38 UTC 2020)\n",
       "(EPL source distribution)\n",
       "Java Runtime: OpenJDK Runtime Environment\n",
       "JVM: OpenJDK 64-Bit Server VM\n",
       "Default Encoding: UTF-8\n",
       "Language: en\n",
       "Country: null\n",
       "--></g></svg>"
      ]
     },
     "execution_count": 26,
     "metadata": {},
     "output_type": "execute_result"
    }
   ],
   "source": [
    "%viz --style=\"STDCOLOR\" --view=\"Interconnection\" \"DecisionTest\""
   ]
  },
  {
   "cell_type": "code",
   "execution_count": 27,
   "id": "otherwise-marketplace",
   "metadata": {
    "execution": {
     "iopub.execute_input": "2021-03-25T13:22:45.631181Z",
     "iopub.status.busy": "2021-03-25T13:22:45.630559Z",
     "iopub.status.idle": "2021-03-25T13:22:45.656431Z",
     "shell.execute_reply": "2021-03-25T13:22:45.655080Z"
    }
   },
   "outputs": [
    {
     "data": {
      "image/svg+xml": [
       "<?xml version=\"1.0\" encoding=\"UTF-8\" standalone=\"no\"?><svg xmlns=\"http://www.w3.org/2000/svg\" xmlns:xlink=\"http://www.w3.org/1999/xlink\" contentScriptType=\"application/ecmascript\" contentStyleType=\"text/css\" height=\"239px\" preserveAspectRatio=\"none\" style=\"width:877px;height:239px;background:#000000;\" version=\"1.1\" viewBox=\"0 0 877 239\" width=\"877px\" zoomAndPan=\"magnify\"><defs/><g><rect fill=\"#081F1D\" height=\"1\" style=\"stroke: #081F1D; stroke-width: 1.0;\" width=\"1\" x=\"0\" y=\"0\"/><rect fill=\"#33FF02\" height=\"21.2969\" style=\"stroke: #33FF02; stroke-width: 1.0;\" width=\"870\" x=\"5\" y=\"5\"/><text fill=\"#000000\" font-family=\"sans-serif\" font-size=\"14\" font-weight=\"bold\" lengthAdjust=\"spacingAndGlyphs\" textLength=\"178\" x=\"6\" y=\"20\">[From string (line 11) ]</text><text fill=\"#33FF02\" font-family=\"sans-serif\" font-size=\"14\" font-weight=\"bold\" lengthAdjust=\"spacingAndGlyphs\" textLength=\"0\" x=\"10\" y=\"40.2969\"/><text fill=\"#33FF02\" font-family=\"sans-serif\" font-size=\"14\" font-weight=\"bold\" lengthAdjust=\"spacingAndGlyphs\" textLength=\"79\" x=\"5\" y=\"56.5938\">@startuml</text><text fill=\"#33FF02\" font-family=\"sans-serif\" font-size=\"14\" font-weight=\"bold\" lengthAdjust=\"spacingAndGlyphs\" textLength=\"165\" x=\"5\" y=\"72.8906\">skinparam ranksep 8</text><text fill=\"#33FF02\" font-family=\"sans-serif\" font-size=\"14\" font-weight=\"bold\" lengthAdjust=\"spacingAndGlyphs\" textLength=\"206\" x=\"5\" y=\"89.1875\">skinparam wrapWidth 300</text><text fill=\"#33FF02\" font-family=\"sans-serif\" font-size=\"14\" font-weight=\"bold\" lengthAdjust=\"spacingAndGlyphs\" textLength=\"82\" x=\"5\" y=\"105.4844\">hide circle</text><text fill=\"#33FF02\" font-family=\"sans-serif\" font-size=\"14\" font-weight=\"bold\" lengthAdjust=\"spacingAndGlyphs\" textLength=\"0\" x=\"10\" y=\"121.7813\"/><text fill=\"#33FF02\" font-family=\"sans-serif\" font-size=\"14\" font-weight=\"bold\" lengthAdjust=\"spacingAndGlyphs\" textLength=\"870\" x=\"5\" y=\"138.0781\">rec def \"DecisionTest\" as E1  &lt;&lt;(T,blue)action def&gt;&gt; [[psysml:a3695254-583a-41e6-95b4-07f76a5805ed ]] {</text><text fill=\"#33FF02\" font-family=\"sans-serif\" font-size=\"14\" font-weight=\"bold\" lengthAdjust=\"spacingAndGlyphs\" textLength=\"623\" x=\"5\" y=\"154.375\">portout \"$result\" as E2  [[psysml:736cbe2e-e614-4ea2-922e-635e617bb808 ]]</text><text fill=\"#33FF02\" font-family=\"sans-serif\" font-size=\"14\" font-weight=\"bold\" lengthAdjust=\"spacingAndGlyphs\" textLength=\"861\" x=\"5\" y=\"170.6719\">rec usage \"test x\" as E3  &lt;&lt;(T,blue)decisionNode&gt;&gt; [[psysml:fd19b455-89d5-459d-92f7-d1815185add7 ]] {</text><text fill=\"#33FF02\" font-family=\"sans-serif\" font-size=\"14\" font-weight=\"bold\" lengthAdjust=\"spacingAndGlyphs\" textLength=\"10\" x=\"5\" y=\"186.9688\">}</text><text fill=\"#33FF02\" font-family=\"sans-serif\" font-size=\"14\" font-weight=\"bold\" lengthAdjust=\"spacingAndGlyphs\" textLength=\"0\" x=\"10\" y=\"203.2656\"/><text fill=\"#33FF02\" font-family=\"sans-serif\" font-size=\"14\" font-weight=\"bold\" lengthAdjust=\"spacingAndGlyphs\" textLength=\"10\" x=\"5\" y=\"219.5625\">{</text><text fill=\"#FF0000\" font-family=\"sans-serif\" font-size=\"14\" font-weight=\"bold\" lengthAdjust=\"spacingAndGlyphs\" textLength=\"106\" x=\"10\" y=\"235.8594\">Syntax Error?</text><!--MD5=[d599151b7fe334b9a8a92c32152f1af3]\n",
       "@startuml\r\n",
       "skinparam ranksep 8\r\n",
       "skinparam wrapWidth 300\r\n",
       "hide circle\r\n",
       "\r\n",
       "rec def \"DecisionTest\" as E1  <<(T,blue)action def>> [[psysml:a3695254-583a-41e6-95b4-07f76a5805ed ]] {\r\n",
       "portout \"$result\" as E2  [[psysml:736cbe2e-e614-4ea2-922e-635e617bb808 ]] \r\n",
       "rec usage \"test x\" as E3  <<(T,blue)decisionNode>> [[psysml:fd19b455-89d5-459d-92f7-d1815185add7 ]] {\r\n",
       "}\r\n",
       "\r\n",
       "{\r\n",
       "portout \"$result\" as E4  [[psysml:6d4a6456-a7ec-4177-87e4-ea5c100c5f7a ]] \r\n",
       "portin \"$x\" as E5  [[psysml:810bc03f-55fb-40a2-b55c-bd606a6d8860 ]] \r\n",
       "portin \"$y\" as E6  [[psysml:9b327a8e-6a1a-4f88-b23a-313c42dc41ad ]] \r\n",
       "portout \"$result\" as E7  [[psysml:3482b99c-6d5f-462a-981f-843523b909ab ]] \r\n",
       "}\r\n",
       "\r\n",
       "{\r\n",
       "portout \"$result\" as E8  [[psysml:8d6fc5ff-5a7b-4326-8fe2-a1e00b49613b ]] \r\n",
       "portin \"$x\" as E9  [[psysml:46b1300e-a73a-4c43-b5e8-ea161bf29b84 ]] \r\n",
       "portin \"$y\" as E10  [[psysml:4c9eaf15-63e7-4329-aa99-8209cbaf88bd ]] \r\n",
       "portout \"$result\" as E11  [[psysml:db374472-9b3d-40ef-87c4-0779379afe59 ]] \r\n",
       "}\r\n",
       "\r\n",
       "{\r\n",
       "}\r\n",
       "\r\n",
       "{\r\n",
       "}\r\n",
       "\r\n",
       "{\r\n",
       "portout \"$result\" as E12  [[psysml:e0510f13-cf5f-43a3-a7c7-2804245d6335 ]] \r\n",
       "}\r\n",
       "\r\n",
       "{\r\n",
       "portout \"$result\" as E13  [[psysml:bcae0eca-1466-485e-a896-a9c2508efe87 ]] \r\n",
       "}\r\n",
       "\r\n",
       "rec usage \"A1\" as E14  <<(T,blue)action>> [[psysml:fe5e89f6-2dc9-4b0f-8489-37aae8d1db14 ]] {\r\n",
       "}\r\n",
       "\r\n",
       "rec usage \"A2\" as E15  <<(T,blue)action>> [[psysml:4cc0bf78-e417-49bc-8d88-351983c62136 ]] {\r\n",
       "}\r\n",
       "\r\n",
       "rec usage \"A3\" as E16  <<(T,blue)action>> [[psysml:b76bbc08-81d4-47ab-9a49-666299d123cf ]] {\r\n",
       "}\r\n",
       "\r\n",
       "rec usage \"S\" as E17  <<(T,blue)transition>> [[psysml:fe245d46-438e-4c8f-ab18-310121fc2f41 ]] {\r\n",
       "rec usage \"A1\" as E18  <<(T,blue)action>> [[psysml:fe5e89f6-2dc9-4b0f-8489-37aae8d1db14 ]] {\r\n",
       "}\r\n",
       "\r\n",
       "portout \"$result\" as E19  [[psysml:5f694de1-2ca1-44b7-80b3-60a608cc3133 ]] \r\n",
       "portin \"$x\" as E20  [[psysml:8143e50d-1193-4d25-859f-77f062ba674d ]] \r\n",
       "portin \"$y\" as E21  [[psysml:ba8e69b2-a3c6-4a24-b7d7-ae4c7f563c95 ]] \r\n",
       "portout \"$result\" as E22  [[psysml:24237d18-6666-403f-9475-d2e8cf84f852 ]] \r\n",
       "}\r\n",
       "\r\n",
       "rec usage \"A3\" as E23  <<(T,blue)action>> [[psysml:b76bbc08-81d4-47ab-9a49-666299d123cf ]] {\r\n",
       "}\r\n",
       "\r\n",
       "{\r\n",
       "portout \"$result\" as E24  [[psysml:f904355a-9712-4e0c-a9b6-5ecdd1390be6 ]] \r\n",
       "portin \"$x\" as E25  [[psysml:c4435769-fd75-4fbf-95a7-29566a6c8186 ]] \r\n",
       "portin \"$y\" as E26  [[psysml:e2db5bbd-dd5d-422a-81f2-d836869b1ec1 ]] \r\n",
       "portout \"$result\" as E27  [[psysml:f774fe7e-8d66-439a-b027-16ceb2b41e9d ]] \r\n",
       "}\r\n",
       "\r\n",
       "}\r\n",
       "\r\n",
       "E6 -[thickness=5,#red]- E4 [[psysml:22575a94-d313-4c92-b3bf-e872aff40b38 ]] \r\n",
       "E10 -[thickness=5,#red]- E8 [[psysml:468e3065-35eb-4f7a-b0d7-b4ac24204b50 ]] \r\n",
       "E21 -[thickness=5,#red]- E19 [[psysml:6eff49c6-4c1b-4a79-924a-d43d01989d36 ]] \r\n",
       "E26 -[thickness=5,#red]- E24 [[psysml:02504f01-5bd4-4b5c-8fa7-2e89e01e6fe9 ]] \r\n",
       "@enduml\r\n",
       "\n",
       "PlantUML version 1.2020.13(Sat Jun 13 12:26:38 UTC 2020)\n",
       "(EPL source distribution)\n",
       "Java Runtime: OpenJDK Runtime Environment\n",
       "JVM: OpenJDK 64-Bit Server VM\n",
       "Default Encoding: UTF-8\n",
       "Language: en\n",
       "Country: null\n",
       "--></g></svg>"
      ]
     },
     "execution_count": 27,
     "metadata": {},
     "output_type": "execute_result"
    }
   ],
   "source": [
    "%viz --style=\"STDCOLOR\" --view=\"Action\" \"DecisionTest\""
   ]
  },
  {
   "cell_type": "code",
   "execution_count": 28,
   "id": "coordinated-formula",
   "metadata": {
    "execution": {
     "iopub.execute_input": "2021-03-25T13:22:45.709948Z",
     "iopub.status.busy": "2021-03-25T13:22:45.709531Z",
     "iopub.status.idle": "2021-03-25T13:22:46.028882Z",
     "shell.execute_reply": "2021-03-25T13:22:46.028316Z"
    }
   },
   "outputs": [
    {
     "data": {
      "image/svg+xml": [
       "<?xml version=\"1.0\" encoding=\"UTF-8\" standalone=\"no\"?><svg xmlns=\"http://www.w3.org/2000/svg\" xmlns:xlink=\"http://www.w3.org/1999/xlink\" contentScriptType=\"application/ecmascript\" contentStyleType=\"text/css\" height=\"199px\" preserveAspectRatio=\"none\" style=\"width:117px;height:199px;\" version=\"1.1\" viewBox=\"0 0 117 199\" width=\"117px\" zoomAndPan=\"magnify\"><defs><filter height=\"300%\" id=\"f1mrvsor3dfiil\" width=\"300%\" x=\"-1\" y=\"-1\"><feGaussianBlur result=\"blurOut\" stdDeviation=\"2.0\"/><feColorMatrix in=\"blurOut\" result=\"blurOut2\" type=\"matrix\" values=\"0 0 0 0 0 0 0 0 0 0 0 0 0 0 0 0 0 0 .4 0\"/><feOffset dx=\"4.0\" dy=\"4.0\" in=\"blurOut2\" result=\"blurOut3\"/><feBlend in=\"SourceGraphic\" in2=\"blurOut3\" mode=\"normal\"/></filter></defs><g><!--MD5=[43c9051892ef23e1a46a86907403d788]\n",
       "class E1--><a href=\"psysml:a3695254-583a-41e6-95b4-07f76a5805ed\" target=\"_top\" title=\"psysml:a3695254-583a-41e6-95b4-07f76a5805ed\" xlink:actuate=\"onRequest\" xlink:href=\"psysml:a3695254-583a-41e6-95b4-07f76a5805ed\" xlink:show=\"new\" xlink:title=\"psysml:a3695254-583a-41e6-95b4-07f76a5805ed\" xlink:type=\"simple\"><rect fill=\"#FEFECE\" filter=\"url(#f1mrvsor3dfiil)\" height=\"173.1797\" id=\"E1\" style=\"stroke: #A80036; stroke-width: 1.5;\" width=\"91\" x=\"7\" y=\"7\"/><text fill=\"#000000\" font-family=\"sans-serif\" font-size=\"12\" font-style=\"italic\" lengthAdjust=\"spacingAndGlyphs\" textLength=\"77\" x=\"14\" y=\"23.1387\">«action def»</text><text fill=\"#000000\" font-family=\"sans-serif\" font-size=\"12\" lengthAdjust=\"spacingAndGlyphs\" textLength=\"80\" x=\"12.5\" y=\"37.1074\">DecisionTest</text><line style=\"stroke: #A80036; stroke-width: 1.5;\" x1=\"8\" x2=\"97\" y1=\"44.9375\" y2=\"44.9375\"/><text fill=\"#000000\" font-family=\"sans-serif\" font-size=\"11\" lengthAdjust=\"spacingAndGlyphs\" textLength=\"6\" x=\"13\" y=\"59.1479\">x</text><text fill=\"#000000\" font-family=\"sans-serif\" font-size=\"11\" lengthAdjust=\"spacingAndGlyphs\" textLength=\"14\" x=\"13\" y=\"88.7573\">A1</text><text fill=\"#000000\" font-family=\"sans-serif\" font-size=\"11\" lengthAdjust=\"spacingAndGlyphs\" textLength=\"14\" x=\"13\" y=\"101.562\">A2</text><text fill=\"#000000\" font-family=\"sans-serif\" font-size=\"11\" lengthAdjust=\"spacingAndGlyphs\" textLength=\"14\" x=\"13\" y=\"114.3667\">A3</text><line style=\"stroke: #A80036; stroke-width: 1.0;\" x1=\"8\" x2=\"32\" y1=\"72.1445\" y2=\"72.1445\"/><text fill=\"#000000\" font-family=\"sans-serif\" font-size=\"11\" lengthAdjust=\"spacingAndGlyphs\" textLength=\"41\" x=\"32\" y=\"75.4526\">actions</text><line style=\"stroke: #A80036; stroke-width: 1.0;\" x1=\"73\" x2=\"97\" y1=\"72.1445\" y2=\"72.1445\"/><text fill=\"#000000\" font-family=\"sans-serif\" font-size=\"11\" lengthAdjust=\"spacingAndGlyphs\" textLength=\"32\" x=\"13\" y=\"143.9761\">test x</text><line style=\"stroke: #A80036; stroke-width: 1.0;\" x1=\"8\" x2=\"11\" y1=\"127.3633\" y2=\"127.3633\"/><text fill=\"#000000\" font-family=\"sans-serif\" font-size=\"11\" lengthAdjust=\"spacingAndGlyphs\" textLength=\"83\" x=\"11\" y=\"130.6714\">decisionNodes</text><line style=\"stroke: #A80036; stroke-width: 1.0;\" x1=\"94\" x2=\"97\" y1=\"127.3633\" y2=\"127.3633\"/><text fill=\"#000000\" font-family=\"sans-serif\" font-size=\"11\" lengthAdjust=\"spacingAndGlyphs\" textLength=\"8\" x=\"13\" y=\"173.5854\">S</text><line style=\"stroke: #A80036; stroke-width: 1.0;\" x1=\"8\" x2=\"22\" y1=\"156.9727\" y2=\"156.9727\"/><text fill=\"#000000\" font-family=\"sans-serif\" font-size=\"11\" lengthAdjust=\"spacingAndGlyphs\" textLength=\"61\" x=\"22\" y=\"160.2808\">transitions</text><line style=\"stroke: #A80036; stroke-width: 1.0;\" x1=\"83\" x2=\"97\" y1=\"156.9727\" y2=\"156.9727\"/></a><!--MD5=[452555662d286ffc61792c3aec7694a9]\n",
       "@startuml\r\n",
       "skinparam wrapWidth 300\r\n",
       "hide circle\r\n",
       "\r\n",
       "comp def \"DecisionTest\" as E1  <<(T,blue)action def>> [[psysml:a3695254-583a-41e6-95b4-07f76a5805ed ]] {\r\n",
       "x\r\n",
       "- - actions - -\r\n",
       "A1\r\n",
       "A2\r\n",
       "A3\r\n",
       "- - decisionNodes - -\r\n",
       "test x\r\n",
       "- - transitions - -\r\n",
       "S\r\n",
       "}\r\n",
       "@enduml\r\n",
       "\n",
       "PlantUML version 1.2020.13(Sat Jun 13 12:26:38 UTC 2020)\n",
       "(EPL source distribution)\n",
       "Java Runtime: OpenJDK Runtime Environment\n",
       "JVM: OpenJDK 64-Bit Server VM\n",
       "Default Encoding: UTF-8\n",
       "Language: en\n",
       "Country: null\n",
       "--></g></svg>"
      ]
     },
     "execution_count": 28,
     "metadata": {},
     "output_type": "execute_result"
    }
   ],
   "source": [
    "%viz --style=\"STDCOLOR\" --view=\"Sequence\" \"DecisionTest\""
   ]
  },
  {
   "cell_type": "code",
   "execution_count": 29,
   "id": "collect-hudson",
   "metadata": {
    "execution": {
     "iopub.execute_input": "2021-03-25T13:22:46.079374Z",
     "iopub.status.busy": "2021-03-25T13:22:46.078719Z",
     "iopub.status.idle": "2021-03-25T13:22:46.107709Z",
     "shell.execute_reply": "2021-03-25T13:22:46.108150Z"
    }
   },
   "outputs": [
    {
     "data": {
      "image/svg+xml": [
       "<?xml version=\"1.0\" encoding=\"UTF-8\" standalone=\"no\"?><svg xmlns=\"http://www.w3.org/2000/svg\" xmlns:xlink=\"http://www.w3.org/1999/xlink\" contentScriptType=\"application/ecmascript\" contentStyleType=\"text/css\" height=\"223px\" preserveAspectRatio=\"none\" style=\"width:877px;height:223px;background:#000000;\" version=\"1.1\" viewBox=\"0 0 877 223\" width=\"877px\" zoomAndPan=\"magnify\"><defs/><g><rect fill=\"#020C27\" height=\"1\" style=\"stroke: #020C27; stroke-width: 1.0;\" width=\"1\" x=\"0\" y=\"0\"/><rect fill=\"#33FF02\" height=\"21.2969\" style=\"stroke: #33FF02; stroke-width: 1.0;\" width=\"870\" x=\"5\" y=\"5\"/><text fill=\"#000000\" font-family=\"sans-serif\" font-size=\"14\" font-weight=\"bold\" lengthAdjust=\"spacingAndGlyphs\" textLength=\"178\" x=\"6\" y=\"20\">[From string (line 10) ]</text><text fill=\"#33FF02\" font-family=\"sans-serif\" font-size=\"14\" font-weight=\"bold\" lengthAdjust=\"spacingAndGlyphs\" textLength=\"0\" x=\"10\" y=\"40.2969\"/><text fill=\"#33FF02\" font-family=\"sans-serif\" font-size=\"14\" font-weight=\"bold\" lengthAdjust=\"spacingAndGlyphs\" textLength=\"79\" x=\"5\" y=\"56.5938\">@startuml</text><text fill=\"#33FF02\" font-family=\"sans-serif\" font-size=\"14\" font-weight=\"bold\" lengthAdjust=\"spacingAndGlyphs\" textLength=\"206\" x=\"5\" y=\"72.8906\">skinparam wrapWidth 300</text><text fill=\"#33FF02\" font-family=\"sans-serif\" font-size=\"14\" font-weight=\"bold\" lengthAdjust=\"spacingAndGlyphs\" textLength=\"82\" x=\"5\" y=\"89.1875\">hide circle</text><text fill=\"#33FF02\" font-family=\"sans-serif\" font-size=\"14\" font-weight=\"bold\" lengthAdjust=\"spacingAndGlyphs\" textLength=\"0\" x=\"10\" y=\"105.4844\"/><text fill=\"#33FF02\" font-family=\"sans-serif\" font-size=\"14\" font-weight=\"bold\" lengthAdjust=\"spacingAndGlyphs\" textLength=\"870\" x=\"5\" y=\"121.7813\">rec def \"DecisionTest\" as E1  &lt;&lt;(T,blue)action def&gt;&gt; [[psysml:a3695254-583a-41e6-95b4-07f76a5805ed ]] {</text><text fill=\"#33FF02\" font-family=\"sans-serif\" font-size=\"14\" font-weight=\"bold\" lengthAdjust=\"spacingAndGlyphs\" textLength=\"623\" x=\"5\" y=\"138.0781\">portout \"$result\" as E2  [[psysml:736cbe2e-e614-4ea2-922e-635e617bb808 ]]</text><text fill=\"#33FF02\" font-family=\"sans-serif\" font-size=\"14\" font-weight=\"bold\" lengthAdjust=\"spacingAndGlyphs\" textLength=\"861\" x=\"5\" y=\"154.375\">rec usage \"test x\" as E3  &lt;&lt;(T,blue)decisionNode&gt;&gt; [[psysml:fd19b455-89d5-459d-92f7-d1815185add7 ]] {</text><text fill=\"#33FF02\" font-family=\"sans-serif\" font-size=\"14\" font-weight=\"bold\" lengthAdjust=\"spacingAndGlyphs\" textLength=\"10\" x=\"5\" y=\"170.6719\">}</text><text fill=\"#33FF02\" font-family=\"sans-serif\" font-size=\"14\" font-weight=\"bold\" lengthAdjust=\"spacingAndGlyphs\" textLength=\"0\" x=\"10\" y=\"186.9688\"/><text fill=\"#33FF02\" font-family=\"sans-serif\" font-size=\"14\" font-weight=\"bold\" lengthAdjust=\"spacingAndGlyphs\" textLength=\"10\" x=\"5\" y=\"203.2656\">{</text><text fill=\"#FF0000\" font-family=\"sans-serif\" font-size=\"14\" font-weight=\"bold\" lengthAdjust=\"spacingAndGlyphs\" textLength=\"106\" x=\"10\" y=\"219.5625\">Syntax Error?</text><!--MD5=[cfdd9cb174cd10da630cd5ec6d9f9258]\n",
       "@startuml\r\n",
       "skinparam wrapWidth 300\r\n",
       "hide circle\r\n",
       "\r\n",
       "rec def \"DecisionTest\" as E1  <<(T,blue)action def>> [[psysml:a3695254-583a-41e6-95b4-07f76a5805ed ]] {\r\n",
       "portout \"$result\" as E2  [[psysml:736cbe2e-e614-4ea2-922e-635e617bb808 ]] \r\n",
       "rec usage \"test x\" as E3  <<(T,blue)decisionNode>> [[psysml:fd19b455-89d5-459d-92f7-d1815185add7 ]] {\r\n",
       "}\r\n",
       "\r\n",
       "{\r\n",
       "portout \"$result\" as E4  [[psysml:6d4a6456-a7ec-4177-87e4-ea5c100c5f7a ]] \r\n",
       "portin \"$x\" as E5  [[psysml:810bc03f-55fb-40a2-b55c-bd606a6d8860 ]] \r\n",
       "portin \"$y\" as E6  [[psysml:9b327a8e-6a1a-4f88-b23a-313c42dc41ad ]] \r\n",
       "portout \"$result\" as E7  [[psysml:3482b99c-6d5f-462a-981f-843523b909ab ]] \r\n",
       "}\r\n",
       "\r\n",
       "{\r\n",
       "portout \"$result\" as E8  [[psysml:8d6fc5ff-5a7b-4326-8fe2-a1e00b49613b ]] \r\n",
       "portin \"$x\" as E9  [[psysml:46b1300e-a73a-4c43-b5e8-ea161bf29b84 ]] \r\n",
       "portin \"$y\" as E10  [[psysml:4c9eaf15-63e7-4329-aa99-8209cbaf88bd ]] \r\n",
       "portout \"$result\" as E11  [[psysml:db374472-9b3d-40ef-87c4-0779379afe59 ]] \r\n",
       "}\r\n",
       "\r\n",
       "{\r\n",
       "}\r\n",
       "\r\n",
       "{\r\n",
       "}\r\n",
       "\r\n",
       "{\r\n",
       "portout \"$result\" as E12  [[psysml:e0510f13-cf5f-43a3-a7c7-2804245d6335 ]] \r\n",
       "}\r\n",
       "\r\n",
       "{\r\n",
       "portout \"$result\" as E13  [[psysml:bcae0eca-1466-485e-a896-a9c2508efe87 ]] \r\n",
       "}\r\n",
       "\r\n",
       "rec usage \"A1\" as E14  <<(T,blue)action>> [[psysml:fe5e89f6-2dc9-4b0f-8489-37aae8d1db14 ]] {\r\n",
       "}\r\n",
       "\r\n",
       "rec usage \"A2\" as E15  <<(T,blue)action>> [[psysml:4cc0bf78-e417-49bc-8d88-351983c62136 ]] {\r\n",
       "}\r\n",
       "\r\n",
       "rec usage \"A3\" as E16  <<(T,blue)action>> [[psysml:b76bbc08-81d4-47ab-9a49-666299d123cf ]] {\r\n",
       "}\r\n",
       "\r\n",
       "rec usage \"S\" as E17  <<(T,blue)transition>> [[psysml:fe245d46-438e-4c8f-ab18-310121fc2f41 ]] {\r\n",
       "rec usage \"A1\" as E18  <<(T,blue)action>> [[psysml:fe5e89f6-2dc9-4b0f-8489-37aae8d1db14 ]] {\r\n",
       "}\r\n",
       "\r\n",
       "portout \"$result\" as E19  [[psysml:5f694de1-2ca1-44b7-80b3-60a608cc3133 ]] \r\n",
       "portin \"$x\" as E20  [[psysml:8143e50d-1193-4d25-859f-77f062ba674d ]] \r\n",
       "portin \"$y\" as E21  [[psysml:ba8e69b2-a3c6-4a24-b7d7-ae4c7f563c95 ]] \r\n",
       "portout \"$result\" as E22  [[psysml:24237d18-6666-403f-9475-d2e8cf84f852 ]] \r\n",
       "}\r\n",
       "\r\n",
       "rec usage \"A3\" as E23  <<(T,blue)action>> [[psysml:b76bbc08-81d4-47ab-9a49-666299d123cf ]] {\r\n",
       "}\r\n",
       "\r\n",
       "{\r\n",
       "portout \"$result\" as E24  [[psysml:f904355a-9712-4e0c-a9b6-5ecdd1390be6 ]] \r\n",
       "portin \"$x\" as E25  [[psysml:c4435769-fd75-4fbf-95a7-29566a6c8186 ]] \r\n",
       "portin \"$y\" as E26  [[psysml:e2db5bbd-dd5d-422a-81f2-d836869b1ec1 ]] \r\n",
       "portout \"$result\" as E27  [[psysml:f774fe7e-8d66-439a-b027-16ceb2b41e9d ]] \r\n",
       "}\r\n",
       "\r\n",
       "}\r\n",
       "\r\n",
       "E6 -[thickness=5,#red]- E4 [[psysml:22575a94-d313-4c92-b3bf-e872aff40b38 ]] \r\n",
       "E10 -[thickness=5,#red]- E8 [[psysml:468e3065-35eb-4f7a-b0d7-b4ac24204b50 ]] \r\n",
       "E21 -[thickness=5,#red]- E19 [[psysml:6eff49c6-4c1b-4a79-924a-d43d01989d36 ]] \r\n",
       "E26 -[thickness=5,#red]- E24 [[psysml:02504f01-5bd4-4b5c-8fa7-2e89e01e6fe9 ]] \r\n",
       "@enduml\r\n",
       "\n",
       "PlantUML version 1.2020.13(Sat Jun 13 12:26:38 UTC 2020)\n",
       "(EPL source distribution)\n",
       "Java Runtime: OpenJDK Runtime Environment\n",
       "JVM: OpenJDK 64-Bit Server VM\n",
       "Default Encoding: UTF-8\n",
       "Language: en\n",
       "Country: null\n",
       "--></g></svg>"
      ]
     },
     "execution_count": 29,
     "metadata": {},
     "output_type": "execute_result"
    }
   ],
   "source": [
    "%viz --style=\"STDCOLOR\" --view=\"MIXED\" \"DecisionTest\""
   ]
  },
  {
   "cell_type": "code",
   "execution_count": 30,
   "id": "german-porcelain",
   "metadata": {
    "execution": {
     "iopub.execute_input": "2021-03-25T13:22:46.160169Z",
     "iopub.status.busy": "2021-03-25T13:22:46.159519Z",
     "iopub.status.idle": "2021-03-25T13:22:46.234632Z",
     "shell.execute_reply": "2021-03-25T13:22:46.234276Z"
    }
   },
   "outputs": [
    {
     "data": {
      "image/svg+xml": [
       "<?xml version=\"1.0\" encoding=\"UTF-8\" standalone=\"no\"?><svg xmlns=\"http://www.w3.org/2000/svg\" xmlns:xlink=\"http://www.w3.org/1999/xlink\" contentScriptType=\"application/ecmascript\" contentStyleType=\"text/css\" height=\"190px\" preserveAspectRatio=\"none\" style=\"width:895px;height:190px;background:#000000;\" version=\"1.1\" viewBox=\"0 0 895 190\" width=\"895px\" zoomAndPan=\"magnify\"><defs/><g><rect fill=\"#030527\" height=\"1\" style=\"stroke: #030527; stroke-width: 1.0;\" width=\"1\" x=\"0\" y=\"0\"/><rect fill=\"#33FF02\" height=\"21.2969\" style=\"stroke: #33FF02; stroke-width: 1.0;\" width=\"888\" x=\"5\" y=\"5\"/><text fill=\"#000000\" font-family=\"sans-serif\" font-size=\"14\" font-weight=\"bold\" lengthAdjust=\"spacingAndGlyphs\" textLength=\"168\" x=\"6\" y=\"20\">[From string (line 8) ]</text><text fill=\"#33FF02\" font-family=\"sans-serif\" font-size=\"14\" font-weight=\"bold\" lengthAdjust=\"spacingAndGlyphs\" textLength=\"0\" x=\"10\" y=\"40.2969\"/><text fill=\"#33FF02\" font-family=\"sans-serif\" font-size=\"14\" font-weight=\"bold\" lengthAdjust=\"spacingAndGlyphs\" textLength=\"79\" x=\"5\" y=\"56.5938\">@startuml</text><text fill=\"#33FF02\" font-family=\"sans-serif\" font-size=\"14\" font-weight=\"bold\" lengthAdjust=\"spacingAndGlyphs\" textLength=\"0\" x=\"10\" y=\"72.8906\"/><text fill=\"#33FF02\" font-family=\"sans-serif\" font-size=\"14\" font-weight=\"bold\" lengthAdjust=\"spacingAndGlyphs\" textLength=\"888\" x=\"5\" y=\"89.1875\">rec def \"DecisionTest\" as E1  &lt;&lt;(D,brown)action def&gt;&gt; [[psysml:a3695254-583a-41e6-95b4-07f76a5805ed ]] {</text><text fill=\"#33FF02\" font-family=\"sans-serif\" font-size=\"14\" font-weight=\"bold\" lengthAdjust=\"spacingAndGlyphs\" textLength=\"623\" x=\"5\" y=\"105.4844\">portout \"$result\" as E2  [[psysml:736cbe2e-e614-4ea2-922e-635e617bb808 ]]</text><text fill=\"#33FF02\" font-family=\"sans-serif\" font-size=\"14\" font-weight=\"bold\" lengthAdjust=\"spacingAndGlyphs\" textLength=\"884\" x=\"5\" y=\"121.7813\">rec usage \"test x\" as E3  &lt;&lt;(U,orange)decisionNode&gt;&gt; [[psysml:fd19b455-89d5-459d-92f7-d1815185add7 ]] {</text><text fill=\"#33FF02\" font-family=\"sans-serif\" font-size=\"14\" font-weight=\"bold\" lengthAdjust=\"spacingAndGlyphs\" textLength=\"10\" x=\"5\" y=\"138.0781\">}</text><text fill=\"#33FF02\" font-family=\"sans-serif\" font-size=\"14\" font-weight=\"bold\" lengthAdjust=\"spacingAndGlyphs\" textLength=\"0\" x=\"10\" y=\"154.375\"/><text fill=\"#33FF02\" font-family=\"sans-serif\" font-size=\"14\" font-weight=\"bold\" lengthAdjust=\"spacingAndGlyphs\" textLength=\"10\" x=\"5\" y=\"170.6719\">{</text><text fill=\"#FF0000\" font-family=\"sans-serif\" font-size=\"14\" font-weight=\"bold\" lengthAdjust=\"spacingAndGlyphs\" textLength=\"106\" x=\"10\" y=\"186.9688\">Syntax Error?</text><!--MD5=[5aaa33b1cf32e3db954b10449cface05]\n",
       "@startuml\r\n",
       " \r\n",
       "rec def \"DecisionTest\" as E1  <<(D,brown)action def>> [[psysml:a3695254-583a-41e6-95b4-07f76a5805ed ]] {\r\n",
       "portout \"$result\" as E2  [[psysml:736cbe2e-e614-4ea2-922e-635e617bb808 ]] \r\n",
       "rec usage \"test x\" as E3  <<(U,orange)decisionNode>> [[psysml:fd19b455-89d5-459d-92f7-d1815185add7 ]] {\r\n",
       "}\r\n",
       "\r\n",
       "{\r\n",
       "portout \"$result\" as E4  [[psysml:6d4a6456-a7ec-4177-87e4-ea5c100c5f7a ]] \r\n",
       "portin \"$x\" as E5  [[psysml:810bc03f-55fb-40a2-b55c-bd606a6d8860 ]] \r\n",
       "portin \"$y\" as E6  [[psysml:9b327a8e-6a1a-4f88-b23a-313c42dc41ad ]] \r\n",
       "portout \"$result\" as E7  [[psysml:3482b99c-6d5f-462a-981f-843523b909ab ]] \r\n",
       "}\r\n",
       "\r\n",
       "{\r\n",
       "portout \"$result\" as E8  [[psysml:8d6fc5ff-5a7b-4326-8fe2-a1e00b49613b ]] \r\n",
       "portin \"$x\" as E9  [[psysml:46b1300e-a73a-4c43-b5e8-ea161bf29b84 ]] \r\n",
       "portin \"$y\" as E10  [[psysml:4c9eaf15-63e7-4329-aa99-8209cbaf88bd ]] \r\n",
       "portout \"$result\" as E11  [[psysml:db374472-9b3d-40ef-87c4-0779379afe59 ]] \r\n",
       "}\r\n",
       "\r\n",
       "{\r\n",
       "}\r\n",
       "\r\n",
       "{\r\n",
       "}\r\n",
       "\r\n",
       "{\r\n",
       "portout \"$result\" as E12  [[psysml:e0510f13-cf5f-43a3-a7c7-2804245d6335 ]] \r\n",
       "}\r\n",
       "\r\n",
       "{\r\n",
       "portout \"$result\" as E13  [[psysml:bcae0eca-1466-485e-a896-a9c2508efe87 ]] \r\n",
       "}\r\n",
       "\r\n",
       "rec usage \"A1\" as E14  <<(U,orange)action>> [[psysml:fe5e89f6-2dc9-4b0f-8489-37aae8d1db14 ]] {\r\n",
       "}\r\n",
       "\r\n",
       "rec usage \"A2\" as E15  <<(U,orange)action>> [[psysml:4cc0bf78-e417-49bc-8d88-351983c62136 ]] {\r\n",
       "}\r\n",
       "\r\n",
       "rec usage \"A3\" as E16  <<(U,orange)action>> [[psysml:b76bbc08-81d4-47ab-9a49-666299d123cf ]] {\r\n",
       "}\r\n",
       "\r\n",
       "rec usage \"S\" as E17  <<(U,orange)transition>> [[psysml:fe245d46-438e-4c8f-ab18-310121fc2f41 ]] {\r\n",
       "rec usage \"A1\" as E18  <<(U,orange)action>> [[psysml:fe5e89f6-2dc9-4b0f-8489-37aae8d1db14 ]] {\r\n",
       "}\r\n",
       "\r\n",
       "portout \"$result\" as E19  [[psysml:5f694de1-2ca1-44b7-80b3-60a608cc3133 ]] \r\n",
       "portin \"$x\" as E20  [[psysml:8143e50d-1193-4d25-859f-77f062ba674d ]] \r\n",
       "portin \"$y\" as E21  [[psysml:ba8e69b2-a3c6-4a24-b7d7-ae4c7f563c95 ]] \r\n",
       "portout \"$result\" as E22  [[psysml:24237d18-6666-403f-9475-d2e8cf84f852 ]] \r\n",
       "}\r\n",
       "\r\n",
       "rec usage \"A3\" as E23  <<(U,orange)action>> [[psysml:b76bbc08-81d4-47ab-9a49-666299d123cf ]] {\r\n",
       "}\r\n",
       "\r\n",
       "{\r\n",
       "portout \"$result\" as E24  [[psysml:f904355a-9712-4e0c-a9b6-5ecdd1390be6 ]] \r\n",
       "portin \"$x\" as E25  [[psysml:c4435769-fd75-4fbf-95a7-29566a6c8186 ]] \r\n",
       "portin \"$y\" as E26  [[psysml:e2db5bbd-dd5d-422a-81f2-d836869b1ec1 ]] \r\n",
       "portout \"$result\" as E27  [[psysml:f774fe7e-8d66-439a-b027-16ceb2b41e9d ]] \r\n",
       "}\r\n",
       "\r\n",
       "}\r\n",
       "\r\n",
       "E6 -[thickness=5,#red]- E4 [[psysml:22575a94-d313-4c92-b3bf-e872aff40b38 ]] \r\n",
       "E10 -[thickness=5,#red]- E8 [[psysml:468e3065-35eb-4f7a-b0d7-b4ac24204b50 ]] \r\n",
       "E21 -[thickness=5,#red]- E19 [[psysml:6eff49c6-4c1b-4a79-924a-d43d01989d36 ]] \r\n",
       "E26 -[thickness=5,#red]- E24 [[psysml:02504f01-5bd4-4b5c-8fa7-2e89e01e6fe9 ]] \r\n",
       "@enduml\r\n",
       "\n",
       "PlantUML version 1.2020.13(Sat Jun 13 12:26:38 UTC 2020)\n",
       "(EPL source distribution)\n",
       "Java Runtime: OpenJDK Runtime Environment\n",
       "JVM: OpenJDK 64-Bit Server VM\n",
       "Default Encoding: UTF-8\n",
       "Language: en\n",
       "Country: null\n",
       "--></g></svg>"
      ]
     },
     "execution_count": 30,
     "metadata": {},
     "output_type": "execute_result"
    }
   ],
   "source": [
    "%viz --style=\"PLANTUML\" --view=\"Default\" \"DecisionTest\""
   ]
  },
  {
   "cell_type": "code",
   "execution_count": 31,
   "id": "posted-sacramento",
   "metadata": {
    "execution": {
     "iopub.execute_input": "2021-03-25T13:22:46.284939Z",
     "iopub.status.busy": "2021-03-25T13:22:46.284196Z",
     "iopub.status.idle": "2021-03-25T13:22:46.674658Z",
     "shell.execute_reply": "2021-03-25T13:22:46.675242Z"
    }
   },
   "outputs": [
    {
     "data": {
      "image/svg+xml": [
       "<?xml version=\"1.0\" encoding=\"UTF-8\" standalone=\"no\"?><svg xmlns=\"http://www.w3.org/2000/svg\" xmlns:xlink=\"http://www.w3.org/1999/xlink\" contentScriptType=\"application/ecmascript\" contentStyleType=\"text/css\" height=\"199px\" preserveAspectRatio=\"none\" style=\"width:138px;height:199px;\" version=\"1.1\" viewBox=\"0 0 138 199\" width=\"138px\" zoomAndPan=\"magnify\"><defs><filter height=\"300%\" id=\"f1d6r6j7rk99w0\" width=\"300%\" x=\"-1\" y=\"-1\"><feGaussianBlur result=\"blurOut\" stdDeviation=\"2.0\"/><feColorMatrix in=\"blurOut\" result=\"blurOut2\" type=\"matrix\" values=\"0 0 0 0 0 0 0 0 0 0 0 0 0 0 0 0 0 0 .4 0\"/><feOffset dx=\"4.0\" dy=\"4.0\" in=\"blurOut2\" result=\"blurOut3\"/><feBlend in=\"SourceGraphic\" in2=\"blurOut3\" mode=\"normal\"/></filter></defs><g><!--MD5=[43c9051892ef23e1a46a86907403d788]\n",
       "class E1--><a href=\"psysml:a3695254-583a-41e6-95b4-07f76a5805ed\" target=\"_top\" title=\"psysml:a3695254-583a-41e6-95b4-07f76a5805ed\" xlink:actuate=\"onRequest\" xlink:href=\"psysml:a3695254-583a-41e6-95b4-07f76a5805ed\" xlink:show=\"new\" xlink:title=\"psysml:a3695254-583a-41e6-95b4-07f76a5805ed\" xlink:type=\"simple\"><rect fill=\"#FEFECE\" filter=\"url(#f1d6r6j7rk99w0)\" height=\"173.1797\" id=\"E1\" style=\"stroke: #A80036; stroke-width: 1.5;\" width=\"112\" x=\"7\" y=\"7\"/><ellipse cx=\"22\" cy=\"25.9688\" fill=\"#A52A2A\" rx=\"11\" ry=\"11\" style=\"stroke: #A80036; stroke-width: 1.0;\"/><path d=\"M21.5938,21.7813 L21.5938,29.7656 L22.25,29.7656 Q23.6875,29.7656 24.2969,28.8594 Q24.9219,27.9375 24.9219,25.7656 Q24.9219,23.5938 24.2969,22.6875 Q23.6875,21.7813 22.25,21.7813 L21.5938,21.7813 Z M19.1406,19.5781 L21.7656,19.5781 Q24.7969,19.5781 26.125,21.0313 Q27.4688,22.4688 27.4688,25.7656 Q27.4688,29.0625 26.125,30.5156 Q24.7969,31.9688 21.7656,31.9688 L19.1406,31.9688 L19.1406,19.5781 Z \"/><text fill=\"#000000\" font-family=\"sans-serif\" font-size=\"12\" font-style=\"italic\" lengthAdjust=\"spacingAndGlyphs\" textLength=\"77\" x=\"37.5\" y=\"23.1387\">«action def»</text><text fill=\"#000000\" font-family=\"sans-serif\" font-size=\"12\" lengthAdjust=\"spacingAndGlyphs\" textLength=\"80\" x=\"36\" y=\"37.1074\">DecisionTest</text><line style=\"stroke: #A80036; stroke-width: 1.5;\" x1=\"8\" x2=\"118\" y1=\"44.9375\" y2=\"44.9375\"/><text fill=\"#000000\" font-family=\"sans-serif\" font-size=\"11\" lengthAdjust=\"spacingAndGlyphs\" textLength=\"6\" x=\"13\" y=\"59.1479\">x</text><text fill=\"#000000\" font-family=\"sans-serif\" font-size=\"11\" lengthAdjust=\"spacingAndGlyphs\" textLength=\"14\" x=\"13\" y=\"88.7573\">A1</text><text fill=\"#000000\" font-family=\"sans-serif\" font-size=\"11\" lengthAdjust=\"spacingAndGlyphs\" textLength=\"14\" x=\"13\" y=\"101.562\">A2</text><text fill=\"#000000\" font-family=\"sans-serif\" font-size=\"11\" lengthAdjust=\"spacingAndGlyphs\" textLength=\"14\" x=\"13\" y=\"114.3667\">A3</text><line style=\"stroke: #A80036; stroke-width: 1.0;\" x1=\"8\" x2=\"42.5\" y1=\"72.1445\" y2=\"72.1445\"/><text fill=\"#000000\" font-family=\"sans-serif\" font-size=\"11\" lengthAdjust=\"spacingAndGlyphs\" textLength=\"41\" x=\"42.5\" y=\"75.4526\">actions</text><line style=\"stroke: #A80036; stroke-width: 1.0;\" x1=\"83.5\" x2=\"118\" y1=\"72.1445\" y2=\"72.1445\"/><text fill=\"#000000\" font-family=\"sans-serif\" font-size=\"11\" lengthAdjust=\"spacingAndGlyphs\" textLength=\"32\" x=\"13\" y=\"143.9761\">test x</text><line style=\"stroke: #A80036; stroke-width: 1.0;\" x1=\"8\" x2=\"21.5\" y1=\"127.3633\" y2=\"127.3633\"/><text fill=\"#000000\" font-family=\"sans-serif\" font-size=\"11\" lengthAdjust=\"spacingAndGlyphs\" textLength=\"83\" x=\"21.5\" y=\"130.6714\">decisionNodes</text><line style=\"stroke: #A80036; stroke-width: 1.0;\" x1=\"104.5\" x2=\"118\" y1=\"127.3633\" y2=\"127.3633\"/><text fill=\"#000000\" font-family=\"sans-serif\" font-size=\"11\" lengthAdjust=\"spacingAndGlyphs\" textLength=\"8\" x=\"13\" y=\"173.5854\">S</text><line style=\"stroke: #A80036; stroke-width: 1.0;\" x1=\"8\" x2=\"32.5\" y1=\"156.9727\" y2=\"156.9727\"/><text fill=\"#000000\" font-family=\"sans-serif\" font-size=\"11\" lengthAdjust=\"spacingAndGlyphs\" textLength=\"61\" x=\"32.5\" y=\"160.2808\">transitions</text><line style=\"stroke: #A80036; stroke-width: 1.0;\" x1=\"93.5\" x2=\"118\" y1=\"156.9727\" y2=\"156.9727\"/></a><!--MD5=[906db175178a514a7c7edacf9d8e01f4]\n",
       "@startuml\r\n",
       " \r\n",
       "comp def \"DecisionTest\" as E1  <<(D,brown)action def>> [[psysml:a3695254-583a-41e6-95b4-07f76a5805ed ]] {\r\n",
       "x\r\n",
       "- - actions - -\r\n",
       "A1\r\n",
       "A2\r\n",
       "A3\r\n",
       "- - decisionNodes - -\r\n",
       "test x\r\n",
       "- - transitions - -\r\n",
       "S\r\n",
       "}\r\n",
       "@enduml\r\n",
       "\n",
       "PlantUML version 1.2020.13(Sat Jun 13 12:26:38 UTC 2020)\n",
       "(EPL source distribution)\n",
       "Java Runtime: OpenJDK Runtime Environment\n",
       "JVM: OpenJDK 64-Bit Server VM\n",
       "Default Encoding: UTF-8\n",
       "Language: en\n",
       "Country: null\n",
       "--></g></svg>"
      ]
     },
     "execution_count": 31,
     "metadata": {},
     "output_type": "execute_result"
    }
   ],
   "source": [
    "%viz --style=\"PLANTUML\" --view=\"Tree\" \"DecisionTest\""
   ]
  },
  {
   "cell_type": "code",
   "execution_count": 32,
   "id": "civil-nowhere",
   "metadata": {
    "execution": {
     "iopub.execute_input": "2021-03-25T13:22:46.726320Z",
     "iopub.status.busy": "2021-03-25T13:22:46.725581Z",
     "iopub.status.idle": "2021-03-25T13:22:47.850249Z",
     "shell.execute_reply": "2021-03-25T13:22:47.847718Z"
    }
   },
   "outputs": [
    {
     "data": {
      "image/svg+xml": [
       "<?xml version=\"1.0\" encoding=\"UTF-8\" standalone=\"no\"?><svg xmlns=\"http://www.w3.org/2000/svg\" xmlns:xlink=\"http://www.w3.org/1999/xlink\" contentScriptType=\"application/ecmascript\" contentStyleType=\"text/css\" height=\"303px\" preserveAspectRatio=\"none\" style=\"width:603px;height:303px;background:#000000;\" version=\"1.1\" viewBox=\"0 0 603 303\" width=\"603px\" zoomAndPan=\"magnify\"><defs/><g><rect fill=\"#120305\" height=\"1\" style=\"stroke: #120305; stroke-width: 1.0;\" width=\"1\" x=\"0\" y=\"0\"/><rect fill=\"#FFFFFF\" height=\"205.5625\" style=\"stroke: #FFFFFF; stroke-width: 1.0;\" width=\"602\" x=\"0\" y=\"0\"/><text fill=\"#000000\" font-family=\"sans-serif\" font-size=\"12\" font-weight=\"bold\" lengthAdjust=\"spacingAndGlyphs\" textLength=\"159\" x=\"5\" y=\"16.1387\">Welcome to PlantUML!</text><text fill=\"#000000\" font-family=\"sans-serif\" font-size=\"12\" lengthAdjust=\"spacingAndGlyphs\" textLength=\"0\" x=\"9\" y=\"30.1074\"/><text fill=\"#000000\" font-family=\"sans-serif\" font-size=\"12\" lengthAdjust=\"spacingAndGlyphs\" textLength=\"293\" x=\"5\" y=\"44.0762\">If you use this software, you accept its license.</text><text fill=\"#000000\" font-family=\"sans-serif\" font-size=\"12\" lengthAdjust=\"spacingAndGlyphs\" textLength=\"107\" x=\"5\" y=\"58.0449\">(details by typing</text><text fill=\"#000000\" font-family=\"monospace\" font-size=\"12\" lengthAdjust=\"spacingAndGlyphs\" textLength=\"49\" x=\"116\" y=\"58.0449\">license</text><text fill=\"#000000\" font-family=\"sans-serif\" font-size=\"12\" lengthAdjust=\"spacingAndGlyphs\" textLength=\"56\" x=\"169\" y=\"58.0449\">keyword)</text><text fill=\"#000000\" font-family=\"sans-serif\" font-size=\"12\" lengthAdjust=\"spacingAndGlyphs\" textLength=\"0\" x=\"9\" y=\"72.0137\"/><text fill=\"#000000\" font-family=\"sans-serif\" font-size=\"12\" lengthAdjust=\"spacingAndGlyphs\" textLength=\"283\" x=\"5\" y=\"85.9824\">You can start with a simple UML Diagram like:</text><text fill=\"#000000\" font-family=\"sans-serif\" font-size=\"12\" lengthAdjust=\"spacingAndGlyphs\" textLength=\"0\" x=\"9\" y=\"99.9512\"/><text fill=\"#000000\" font-family=\"monospace\" font-size=\"12\" lengthAdjust=\"spacingAndGlyphs\" textLength=\"119\" x=\"5\" y=\"113.9199\">Bob-&gt;Alice: Hello</text><text fill=\"#000000\" font-family=\"sans-serif\" font-size=\"12\" lengthAdjust=\"spacingAndGlyphs\" textLength=\"0\" x=\"9\" y=\"127.8887\"/><text fill=\"#000000\" font-family=\"sans-serif\" font-size=\"12\" lengthAdjust=\"spacingAndGlyphs\" textLength=\"14\" x=\"5\" y=\"141.8574\">Or</text><text fill=\"#000000\" font-family=\"sans-serif\" font-size=\"12\" lengthAdjust=\"spacingAndGlyphs\" textLength=\"0\" x=\"9\" y=\"155.8262\"/><text fill=\"#000000\" font-family=\"monospace\" font-size=\"12\" lengthAdjust=\"spacingAndGlyphs\" textLength=\"91\" x=\"5\" y=\"169.7949\">class Example</text><text fill=\"#000000\" font-family=\"sans-serif\" font-size=\"12\" lengthAdjust=\"spacingAndGlyphs\" textLength=\"0\" x=\"9\" y=\"183.7637\"/><text fill=\"#000000\" font-family=\"sans-serif\" font-size=\"12\" lengthAdjust=\"spacingAndGlyphs\" textLength=\"349\" x=\"5\" y=\"197.7324\">You will find more information about PlantUML syntax on</text><text fill=\"#000000\" font-family=\"sans-serif\" font-size=\"12\" lengthAdjust=\"spacingAndGlyphs\" text-decoration=\"underline\" textLength=\"129\" x=\"358\" y=\"197.7324\">https://plantuml.com</text><image height=\"71\" width=\"80\" x=\"516\" xlink:href=\"data:image/png;base64,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\" y=\"6\"/><rect fill=\"#000000\" height=\"96.4844\" style=\"stroke: #000000; stroke-width: 1.0;\" width=\"602\" x=\"0\" y=\"205.5625\"/><rect fill=\"#33FF02\" height=\"21.2969\" style=\"stroke: #33FF02; stroke-width: 1.0;\" width=\"170\" x=\"5\" y=\"210.5625\"/><text fill=\"#000000\" font-family=\"sans-serif\" font-size=\"14\" font-weight=\"bold\" lengthAdjust=\"spacingAndGlyphs\" textLength=\"168\" x=\"6\" y=\"225.5625\">[From string (line 2) ]</text><text fill=\"#33FF02\" font-family=\"sans-serif\" font-size=\"14\" font-weight=\"bold\" lengthAdjust=\"spacingAndGlyphs\" textLength=\"0\" x=\"10\" y=\"245.8594\"/><text fill=\"#33FF02\" font-family=\"sans-serif\" font-size=\"14\" font-weight=\"bold\" lengthAdjust=\"spacingAndGlyphs\" textLength=\"79\" x=\"5\" y=\"262.1563\">@startuml</text><text fill=\"#33FF02\" font-family=\"sans-serif\" font-size=\"14\" font-weight=\"bold\" lengthAdjust=\"spacingAndGlyphs\" textLength=\"0\" x=\"10\" y=\"278.4531\"/><text fill=\"#FF0000\" font-family=\"sans-serif\" font-size=\"14\" font-weight=\"bold\" lengthAdjust=\"spacingAndGlyphs\" textLength=\"142\" x=\"10\" y=\"294.75\">Empty description</text><!--MD5=[f59edd8218d337f74d0c332fc6737304]\n",
       "@startuml\r\n",
       " \r\n",
       "@enduml\r\n",
       "\n",
       "PlantUML version 1.2020.13(Sat Jun 13 12:26:38 UTC 2020)\n",
       "(EPL source distribution)\n",
       "Java Runtime: OpenJDK Runtime Environment\n",
       "JVM: OpenJDK 64-Bit Server VM\n",
       "Default Encoding: UTF-8\n",
       "Language: en\n",
       "Country: null\n",
       "--></g></svg>"
      ]
     },
     "execution_count": 32,
     "metadata": {},
     "output_type": "execute_result"
    }
   ],
   "source": [
    "%viz --style=\"PLANTUML\" --view=\"State\" \"DecisionTest\""
   ]
  },
  {
   "cell_type": "code",
   "execution_count": 33,
   "id": "adjusted-cleaners",
   "metadata": {
    "execution": {
     "iopub.execute_input": "2021-03-25T13:22:47.902514Z",
     "iopub.status.busy": "2021-03-25T13:22:47.902021Z",
     "iopub.status.idle": "2021-03-25T13:22:47.941769Z",
     "shell.execute_reply": "2021-03-25T13:22:47.942256Z"
    }
   },
   "outputs": [
    {
     "data": {
      "image/svg+xml": [
       "<?xml version=\"1.0\" encoding=\"UTF-8\" standalone=\"no\"?><svg xmlns=\"http://www.w3.org/2000/svg\" xmlns:xlink=\"http://www.w3.org/1999/xlink\" contentScriptType=\"application/ecmascript\" contentStyleType=\"text/css\" height=\"68px\" preserveAspectRatio=\"none\" style=\"width:143px;height:68px;\" version=\"1.1\" viewBox=\"0 0 143 68\" width=\"143px\" zoomAndPan=\"magnify\"><defs><filter height=\"300%\" id=\"fcjyka9gxppix\" width=\"300%\" x=\"-1\" y=\"-1\"><feGaussianBlur result=\"blurOut\" stdDeviation=\"2.0\"/><feColorMatrix in=\"blurOut\" result=\"blurOut2\" type=\"matrix\" values=\"0 0 0 0 0 0 0 0 0 0 0 0 0 0 0 0 0 0 .4 0\"/><feOffset dx=\"4.0\" dy=\"4.0\" in=\"blurOut2\" result=\"blurOut3\"/><feBlend in=\"SourceGraphic\" in2=\"blurOut3\" mode=\"normal\"/></filter></defs><g><g id=\"E1\"><a href=\"psysml:a3695254-583a-41e6-95b4-07f76a5805ed\" target=\"_top\" title=\"psysml:a3695254-583a-41e6-95b4-07f76a5805ed\" xlink:actuate=\"onRequest\" xlink:href=\"psysml:a3695254-583a-41e6-95b4-07f76a5805ed\" xlink:show=\"new\" xlink:title=\"psysml:a3695254-583a-41e6-95b4-07f76a5805ed\" xlink:type=\"simple\"><rect fill=\"#FEFECE\" filter=\"url(#fcjyka9gxppix)\" height=\"42.9375\" id=\"E1\" style=\"stroke: #A80036; stroke-width: 1.5;\" width=\"117\" x=\"7\" y=\"7\"/><ellipse cx=\"24.25\" cy=\"25.9688\" fill=\"#A52A2A\" rx=\"11\" ry=\"11\" style=\"stroke: #A80036; stroke-width: 1.0;\"/><path d=\"M23.8438,21.7813 L23.8438,29.7656 L24.5,29.7656 Q25.9375,29.7656 26.5469,28.8594 Q27.1719,27.9375 27.1719,25.7656 Q27.1719,23.5938 26.5469,22.6875 Q25.9375,21.7813 24.5,21.7813 L23.8438,21.7813 Z M21.3906,19.5781 L24.0156,19.5781 Q27.0469,19.5781 28.375,21.0313 Q29.7188,22.4688 29.7188,25.7656 Q29.7188,29.0625 28.375,30.5156 Q27.0469,31.9688 24.0156,31.9688 L21.3906,31.9688 L21.3906,19.5781 Z \"/><text fill=\"#000000\" font-family=\"sans-serif\" font-size=\"12\" font-style=\"italic\" lengthAdjust=\"spacingAndGlyphs\" textLength=\"77\" x=\"40.25\" y=\"23.1387\">«action def»</text><text fill=\"#000000\" font-family=\"sans-serif\" font-size=\"12\" lengthAdjust=\"spacingAndGlyphs\" textLength=\"80\" x=\"38.75\" y=\"37.1074\">DecisionTest</text></a></g><!--MD5=[98c74aab00314a7b27ac867d5227f2a4]\n",
       "@startuml\r\n",
       "skinparam ranksep 8\r\n",
       "skinparam rectangle {\r\n",
       " backgroundColor<<block>> LightGreen\r\n",
       "}\r\n",
       " \r\n",
       "def \"DecisionTest\" as E1  <<(D,brown)action def>> [[psysml:a3695254-583a-41e6-95b4-07f76a5805ed ]] \r\n",
       "@enduml\r\n",
       "\n",
       "PlantUML version 1.2020.13(Sat Jun 13 12:26:38 UTC 2020)\n",
       "(EPL source distribution)\n",
       "Java Runtime: OpenJDK Runtime Environment\n",
       "JVM: OpenJDK 64-Bit Server VM\n",
       "Default Encoding: UTF-8\n",
       "Language: en\n",
       "Country: null\n",
       "--></g></svg>"
      ]
     },
     "execution_count": 33,
     "metadata": {},
     "output_type": "execute_result"
    }
   ],
   "source": [
    "%viz --style=\"PLANTUML\" --view=\"Interconnection\" \"DecisionTest\""
   ]
  },
  {
   "cell_type": "code",
   "execution_count": 34,
   "id": "sonic-europe",
   "metadata": {
    "execution": {
     "iopub.execute_input": "2021-03-25T13:22:47.993021Z",
     "iopub.status.busy": "2021-03-25T13:22:47.992309Z",
     "iopub.status.idle": "2021-03-25T13:22:48.024034Z",
     "shell.execute_reply": "2021-03-25T13:22:48.024506Z"
    }
   },
   "outputs": [
    {
     "data": {
      "image/svg+xml": [
       "<?xml version=\"1.0\" encoding=\"UTF-8\" standalone=\"no\"?><svg xmlns=\"http://www.w3.org/2000/svg\" xmlns:xlink=\"http://www.w3.org/1999/xlink\" contentScriptType=\"application/ecmascript\" contentStyleType=\"text/css\" height=\"206px\" preserveAspectRatio=\"none\" style=\"width:895px;height:206px;background:#000000;\" version=\"1.1\" viewBox=\"0 0 895 206\" width=\"895px\" zoomAndPan=\"magnify\"><defs/><g><rect fill=\"#0E1919\" height=\"1\" style=\"stroke: #0E1919; stroke-width: 1.0;\" width=\"1\" x=\"0\" y=\"0\"/><rect fill=\"#33FF02\" height=\"21.2969\" style=\"stroke: #33FF02; stroke-width: 1.0;\" width=\"888\" x=\"5\" y=\"5\"/><text fill=\"#000000\" font-family=\"sans-serif\" font-size=\"14\" font-weight=\"bold\" lengthAdjust=\"spacingAndGlyphs\" textLength=\"168\" x=\"6\" y=\"20\">[From string (line 9) ]</text><text fill=\"#33FF02\" font-family=\"sans-serif\" font-size=\"14\" font-weight=\"bold\" lengthAdjust=\"spacingAndGlyphs\" textLength=\"0\" x=\"10\" y=\"40.2969\"/><text fill=\"#33FF02\" font-family=\"sans-serif\" font-size=\"14\" font-weight=\"bold\" lengthAdjust=\"spacingAndGlyphs\" textLength=\"79\" x=\"5\" y=\"56.5938\">@startuml</text><text fill=\"#33FF02\" font-family=\"sans-serif\" font-size=\"14\" font-weight=\"bold\" lengthAdjust=\"spacingAndGlyphs\" textLength=\"165\" x=\"5\" y=\"72.8906\">skinparam ranksep 8</text><text fill=\"#33FF02\" font-family=\"sans-serif\" font-size=\"14\" font-weight=\"bold\" lengthAdjust=\"spacingAndGlyphs\" textLength=\"0\" x=\"10\" y=\"89.1875\"/><text fill=\"#33FF02\" font-family=\"sans-serif\" font-size=\"14\" font-weight=\"bold\" lengthAdjust=\"spacingAndGlyphs\" textLength=\"888\" x=\"5\" y=\"105.4844\">rec def \"DecisionTest\" as E1  &lt;&lt;(D,brown)action def&gt;&gt; [[psysml:a3695254-583a-41e6-95b4-07f76a5805ed ]] {</text><text fill=\"#33FF02\" font-family=\"sans-serif\" font-size=\"14\" font-weight=\"bold\" lengthAdjust=\"spacingAndGlyphs\" textLength=\"623\" x=\"5\" y=\"121.7813\">portout \"$result\" as E2  [[psysml:736cbe2e-e614-4ea2-922e-635e617bb808 ]]</text><text fill=\"#33FF02\" font-family=\"sans-serif\" font-size=\"14\" font-weight=\"bold\" lengthAdjust=\"spacingAndGlyphs\" textLength=\"884\" x=\"5\" y=\"138.0781\">rec usage \"test x\" as E3  &lt;&lt;(U,orange)decisionNode&gt;&gt; [[psysml:fd19b455-89d5-459d-92f7-d1815185add7 ]] {</text><text fill=\"#33FF02\" font-family=\"sans-serif\" font-size=\"14\" font-weight=\"bold\" lengthAdjust=\"spacingAndGlyphs\" textLength=\"10\" x=\"5\" y=\"154.375\">}</text><text fill=\"#33FF02\" font-family=\"sans-serif\" font-size=\"14\" font-weight=\"bold\" lengthAdjust=\"spacingAndGlyphs\" textLength=\"0\" x=\"10\" y=\"170.6719\"/><text fill=\"#33FF02\" font-family=\"sans-serif\" font-size=\"14\" font-weight=\"bold\" lengthAdjust=\"spacingAndGlyphs\" textLength=\"10\" x=\"5\" y=\"186.9688\">{</text><text fill=\"#FF0000\" font-family=\"sans-serif\" font-size=\"14\" font-weight=\"bold\" lengthAdjust=\"spacingAndGlyphs\" textLength=\"106\" x=\"10\" y=\"203.2656\">Syntax Error?</text><!--MD5=[320c4f4e074e6b9759265541697ada47]\n",
       "@startuml\r\n",
       "skinparam ranksep 8\r\n",
       " \r\n",
       "rec def \"DecisionTest\" as E1  <<(D,brown)action def>> [[psysml:a3695254-583a-41e6-95b4-07f76a5805ed ]] {\r\n",
       "portout \"$result\" as E2  [[psysml:736cbe2e-e614-4ea2-922e-635e617bb808 ]] \r\n",
       "rec usage \"test x\" as E3  <<(U,orange)decisionNode>> [[psysml:fd19b455-89d5-459d-92f7-d1815185add7 ]] {\r\n",
       "}\r\n",
       "\r\n",
       "{\r\n",
       "portout \"$result\" as E4  [[psysml:6d4a6456-a7ec-4177-87e4-ea5c100c5f7a ]] \r\n",
       "portin \"$x\" as E5  [[psysml:810bc03f-55fb-40a2-b55c-bd606a6d8860 ]] \r\n",
       "portin \"$y\" as E6  [[psysml:9b327a8e-6a1a-4f88-b23a-313c42dc41ad ]] \r\n",
       "portout \"$result\" as E7  [[psysml:3482b99c-6d5f-462a-981f-843523b909ab ]] \r\n",
       "}\r\n",
       "\r\n",
       "{\r\n",
       "portout \"$result\" as E8  [[psysml:8d6fc5ff-5a7b-4326-8fe2-a1e00b49613b ]] \r\n",
       "portin \"$x\" as E9  [[psysml:46b1300e-a73a-4c43-b5e8-ea161bf29b84 ]] \r\n",
       "portin \"$y\" as E10  [[psysml:4c9eaf15-63e7-4329-aa99-8209cbaf88bd ]] \r\n",
       "portout \"$result\" as E11  [[psysml:db374472-9b3d-40ef-87c4-0779379afe59 ]] \r\n",
       "}\r\n",
       "\r\n",
       "{\r\n",
       "}\r\n",
       "\r\n",
       "{\r\n",
       "}\r\n",
       "\r\n",
       "{\r\n",
       "portout \"$result\" as E12  [[psysml:e0510f13-cf5f-43a3-a7c7-2804245d6335 ]] \r\n",
       "}\r\n",
       "\r\n",
       "{\r\n",
       "portout \"$result\" as E13  [[psysml:bcae0eca-1466-485e-a896-a9c2508efe87 ]] \r\n",
       "}\r\n",
       "\r\n",
       "rec usage \"A1\" as E14  <<(U,orange)action>> [[psysml:fe5e89f6-2dc9-4b0f-8489-37aae8d1db14 ]] {\r\n",
       "}\r\n",
       "\r\n",
       "rec usage \"A2\" as E15  <<(U,orange)action>> [[psysml:4cc0bf78-e417-49bc-8d88-351983c62136 ]] {\r\n",
       "}\r\n",
       "\r\n",
       "rec usage \"A3\" as E16  <<(U,orange)action>> [[psysml:b76bbc08-81d4-47ab-9a49-666299d123cf ]] {\r\n",
       "}\r\n",
       "\r\n",
       "rec usage \"S\" as E17  <<(U,orange)transition>> [[psysml:fe245d46-438e-4c8f-ab18-310121fc2f41 ]] {\r\n",
       "rec usage \"A1\" as E18  <<(U,orange)action>> [[psysml:fe5e89f6-2dc9-4b0f-8489-37aae8d1db14 ]] {\r\n",
       "}\r\n",
       "\r\n",
       "portout \"$result\" as E19  [[psysml:5f694de1-2ca1-44b7-80b3-60a608cc3133 ]] \r\n",
       "portin \"$x\" as E20  [[psysml:8143e50d-1193-4d25-859f-77f062ba674d ]] \r\n",
       "portin \"$y\" as E21  [[psysml:ba8e69b2-a3c6-4a24-b7d7-ae4c7f563c95 ]] \r\n",
       "portout \"$result\" as E22  [[psysml:24237d18-6666-403f-9475-d2e8cf84f852 ]] \r\n",
       "}\r\n",
       "\r\n",
       "rec usage \"A3\" as E23  <<(U,orange)action>> [[psysml:b76bbc08-81d4-47ab-9a49-666299d123cf ]] {\r\n",
       "}\r\n",
       "\r\n",
       "{\r\n",
       "portout \"$result\" as E24  [[psysml:f904355a-9712-4e0c-a9b6-5ecdd1390be6 ]] \r\n",
       "portin \"$x\" as E25  [[psysml:c4435769-fd75-4fbf-95a7-29566a6c8186 ]] \r\n",
       "portin \"$y\" as E26  [[psysml:e2db5bbd-dd5d-422a-81f2-d836869b1ec1 ]] \r\n",
       "portout \"$result\" as E27  [[psysml:f774fe7e-8d66-439a-b027-16ceb2b41e9d ]] \r\n",
       "}\r\n",
       "\r\n",
       "}\r\n",
       "\r\n",
       "E6 -[thickness=5,#red]- E4 [[psysml:22575a94-d313-4c92-b3bf-e872aff40b38 ]] \r\n",
       "E10 -[thickness=5,#red]- E8 [[psysml:468e3065-35eb-4f7a-b0d7-b4ac24204b50 ]] \r\n",
       "E21 -[thickness=5,#red]- E19 [[psysml:6eff49c6-4c1b-4a79-924a-d43d01989d36 ]] \r\n",
       "E26 -[thickness=5,#red]- E24 [[psysml:02504f01-5bd4-4b5c-8fa7-2e89e01e6fe9 ]] \r\n",
       "@enduml\r\n",
       "\n",
       "PlantUML version 1.2020.13(Sat Jun 13 12:26:38 UTC 2020)\n",
       "(EPL source distribution)\n",
       "Java Runtime: OpenJDK Runtime Environment\n",
       "JVM: OpenJDK 64-Bit Server VM\n",
       "Default Encoding: UTF-8\n",
       "Language: en\n",
       "Country: null\n",
       "--></g></svg>"
      ]
     },
     "execution_count": 34,
     "metadata": {},
     "output_type": "execute_result"
    }
   ],
   "source": [
    "%viz --style=\"PLANTUML\" --view=\"Action\" \"DecisionTest\""
   ]
  },
  {
   "cell_type": "code",
   "execution_count": 35,
   "id": "municipal-masters",
   "metadata": {
    "execution": {
     "iopub.execute_input": "2021-03-25T13:22:48.074959Z",
     "iopub.status.busy": "2021-03-25T13:22:48.074161Z",
     "iopub.status.idle": "2021-03-25T13:22:48.446285Z",
     "shell.execute_reply": "2021-03-25T13:22:48.445782Z"
    }
   },
   "outputs": [
    {
     "data": {
      "image/svg+xml": [
       "<?xml version=\"1.0\" encoding=\"UTF-8\" standalone=\"no\"?><svg xmlns=\"http://www.w3.org/2000/svg\" xmlns:xlink=\"http://www.w3.org/1999/xlink\" contentScriptType=\"application/ecmascript\" contentStyleType=\"text/css\" height=\"199px\" preserveAspectRatio=\"none\" style=\"width:138px;height:199px;\" version=\"1.1\" viewBox=\"0 0 138 199\" width=\"138px\" zoomAndPan=\"magnify\"><defs><filter height=\"300%\" id=\"f1d6r6j7rk99w0\" width=\"300%\" x=\"-1\" y=\"-1\"><feGaussianBlur result=\"blurOut\" stdDeviation=\"2.0\"/><feColorMatrix in=\"blurOut\" result=\"blurOut2\" type=\"matrix\" values=\"0 0 0 0 0 0 0 0 0 0 0 0 0 0 0 0 0 0 .4 0\"/><feOffset dx=\"4.0\" dy=\"4.0\" in=\"blurOut2\" result=\"blurOut3\"/><feBlend in=\"SourceGraphic\" in2=\"blurOut3\" mode=\"normal\"/></filter></defs><g><!--MD5=[43c9051892ef23e1a46a86907403d788]\n",
       "class E1--><a href=\"psysml:a3695254-583a-41e6-95b4-07f76a5805ed\" target=\"_top\" title=\"psysml:a3695254-583a-41e6-95b4-07f76a5805ed\" xlink:actuate=\"onRequest\" xlink:href=\"psysml:a3695254-583a-41e6-95b4-07f76a5805ed\" xlink:show=\"new\" xlink:title=\"psysml:a3695254-583a-41e6-95b4-07f76a5805ed\" xlink:type=\"simple\"><rect fill=\"#FEFECE\" filter=\"url(#f1d6r6j7rk99w0)\" height=\"173.1797\" id=\"E1\" style=\"stroke: #A80036; stroke-width: 1.5;\" width=\"112\" x=\"7\" y=\"7\"/><ellipse cx=\"22\" cy=\"25.9688\" fill=\"#A52A2A\" rx=\"11\" ry=\"11\" style=\"stroke: #A80036; stroke-width: 1.0;\"/><path d=\"M21.5938,21.7813 L21.5938,29.7656 L22.25,29.7656 Q23.6875,29.7656 24.2969,28.8594 Q24.9219,27.9375 24.9219,25.7656 Q24.9219,23.5938 24.2969,22.6875 Q23.6875,21.7813 22.25,21.7813 L21.5938,21.7813 Z M19.1406,19.5781 L21.7656,19.5781 Q24.7969,19.5781 26.125,21.0313 Q27.4688,22.4688 27.4688,25.7656 Q27.4688,29.0625 26.125,30.5156 Q24.7969,31.9688 21.7656,31.9688 L19.1406,31.9688 L19.1406,19.5781 Z \"/><text fill=\"#000000\" font-family=\"sans-serif\" font-size=\"12\" font-style=\"italic\" lengthAdjust=\"spacingAndGlyphs\" textLength=\"77\" x=\"37.5\" y=\"23.1387\">«action def»</text><text fill=\"#000000\" font-family=\"sans-serif\" font-size=\"12\" lengthAdjust=\"spacingAndGlyphs\" textLength=\"80\" x=\"36\" y=\"37.1074\">DecisionTest</text><line style=\"stroke: #A80036; stroke-width: 1.5;\" x1=\"8\" x2=\"118\" y1=\"44.9375\" y2=\"44.9375\"/><text fill=\"#000000\" font-family=\"sans-serif\" font-size=\"11\" lengthAdjust=\"spacingAndGlyphs\" textLength=\"6\" x=\"13\" y=\"59.1479\">x</text><text fill=\"#000000\" font-family=\"sans-serif\" font-size=\"11\" lengthAdjust=\"spacingAndGlyphs\" textLength=\"14\" x=\"13\" y=\"88.7573\">A1</text><text fill=\"#000000\" font-family=\"sans-serif\" font-size=\"11\" lengthAdjust=\"spacingAndGlyphs\" textLength=\"14\" x=\"13\" y=\"101.562\">A2</text><text fill=\"#000000\" font-family=\"sans-serif\" font-size=\"11\" lengthAdjust=\"spacingAndGlyphs\" textLength=\"14\" x=\"13\" y=\"114.3667\">A3</text><line style=\"stroke: #A80036; stroke-width: 1.0;\" x1=\"8\" x2=\"42.5\" y1=\"72.1445\" y2=\"72.1445\"/><text fill=\"#000000\" font-family=\"sans-serif\" font-size=\"11\" lengthAdjust=\"spacingAndGlyphs\" textLength=\"41\" x=\"42.5\" y=\"75.4526\">actions</text><line style=\"stroke: #A80036; stroke-width: 1.0;\" x1=\"83.5\" x2=\"118\" y1=\"72.1445\" y2=\"72.1445\"/><text fill=\"#000000\" font-family=\"sans-serif\" font-size=\"11\" lengthAdjust=\"spacingAndGlyphs\" textLength=\"32\" x=\"13\" y=\"143.9761\">test x</text><line style=\"stroke: #A80036; stroke-width: 1.0;\" x1=\"8\" x2=\"21.5\" y1=\"127.3633\" y2=\"127.3633\"/><text fill=\"#000000\" font-family=\"sans-serif\" font-size=\"11\" lengthAdjust=\"spacingAndGlyphs\" textLength=\"83\" x=\"21.5\" y=\"130.6714\">decisionNodes</text><line style=\"stroke: #A80036; stroke-width: 1.0;\" x1=\"104.5\" x2=\"118\" y1=\"127.3633\" y2=\"127.3633\"/><text fill=\"#000000\" font-family=\"sans-serif\" font-size=\"11\" lengthAdjust=\"spacingAndGlyphs\" textLength=\"8\" x=\"13\" y=\"173.5854\">S</text><line style=\"stroke: #A80036; stroke-width: 1.0;\" x1=\"8\" x2=\"32.5\" y1=\"156.9727\" y2=\"156.9727\"/><text fill=\"#000000\" font-family=\"sans-serif\" font-size=\"11\" lengthAdjust=\"spacingAndGlyphs\" textLength=\"61\" x=\"32.5\" y=\"160.2808\">transitions</text><line style=\"stroke: #A80036; stroke-width: 1.0;\" x1=\"93.5\" x2=\"118\" y1=\"156.9727\" y2=\"156.9727\"/></a><!--MD5=[906db175178a514a7c7edacf9d8e01f4]\n",
       "@startuml\r\n",
       " \r\n",
       "comp def \"DecisionTest\" as E1  <<(D,brown)action def>> [[psysml:a3695254-583a-41e6-95b4-07f76a5805ed ]] {\r\n",
       "x\r\n",
       "- - actions - -\r\n",
       "A1\r\n",
       "A2\r\n",
       "A3\r\n",
       "- - decisionNodes - -\r\n",
       "test x\r\n",
       "- - transitions - -\r\n",
       "S\r\n",
       "}\r\n",
       "@enduml\r\n",
       "\n",
       "PlantUML version 1.2020.13(Sat Jun 13 12:26:38 UTC 2020)\n",
       "(EPL source distribution)\n",
       "Java Runtime: OpenJDK Runtime Environment\n",
       "JVM: OpenJDK 64-Bit Server VM\n",
       "Default Encoding: UTF-8\n",
       "Language: en\n",
       "Country: null\n",
       "--></g></svg>"
      ]
     },
     "execution_count": 35,
     "metadata": {},
     "output_type": "execute_result"
    }
   ],
   "source": [
    "%viz --style=\"PLANTUML\" --view=\"Sequence\" \"DecisionTest\""
   ]
  },
  {
   "cell_type": "code",
   "execution_count": 36,
   "id": "killing-parade",
   "metadata": {
    "execution": {
     "iopub.execute_input": "2021-03-25T13:22:48.498325Z",
     "iopub.status.busy": "2021-03-25T13:22:48.496405Z",
     "iopub.status.idle": "2021-03-25T13:22:48.541785Z",
     "shell.execute_reply": "2021-03-25T13:22:48.542402Z"
    }
   },
   "outputs": [
    {
     "data": {
      "image/svg+xml": [
       "<?xml version=\"1.0\" encoding=\"UTF-8\" standalone=\"no\"?><svg xmlns=\"http://www.w3.org/2000/svg\" xmlns:xlink=\"http://www.w3.org/1999/xlink\" contentScriptType=\"application/ecmascript\" contentStyleType=\"text/css\" height=\"190px\" preserveAspectRatio=\"none\" style=\"width:895px;height:190px;background:#000000;\" version=\"1.1\" viewBox=\"0 0 895 190\" width=\"895px\" zoomAndPan=\"magnify\"><defs/><g><rect fill=\"#0D2401\" height=\"1\" style=\"stroke: #0D2401; stroke-width: 1.0;\" width=\"1\" x=\"0\" y=\"0\"/><rect fill=\"#33FF02\" height=\"21.2969\" style=\"stroke: #33FF02; stroke-width: 1.0;\" width=\"888\" x=\"5\" y=\"5\"/><text fill=\"#000000\" font-family=\"sans-serif\" font-size=\"14\" font-weight=\"bold\" lengthAdjust=\"spacingAndGlyphs\" textLength=\"168\" x=\"6\" y=\"20\">[From string (line 8) ]</text><text fill=\"#33FF02\" font-family=\"sans-serif\" font-size=\"14\" font-weight=\"bold\" lengthAdjust=\"spacingAndGlyphs\" textLength=\"0\" x=\"10\" y=\"40.2969\"/><text fill=\"#33FF02\" font-family=\"sans-serif\" font-size=\"14\" font-weight=\"bold\" lengthAdjust=\"spacingAndGlyphs\" textLength=\"79\" x=\"5\" y=\"56.5938\">@startuml</text><text fill=\"#33FF02\" font-family=\"sans-serif\" font-size=\"14\" font-weight=\"bold\" lengthAdjust=\"spacingAndGlyphs\" textLength=\"0\" x=\"10\" y=\"72.8906\"/><text fill=\"#33FF02\" font-family=\"sans-serif\" font-size=\"14\" font-weight=\"bold\" lengthAdjust=\"spacingAndGlyphs\" textLength=\"888\" x=\"5\" y=\"89.1875\">rec def \"DecisionTest\" as E1  &lt;&lt;(D,brown)action def&gt;&gt; [[psysml:a3695254-583a-41e6-95b4-07f76a5805ed ]] {</text><text fill=\"#33FF02\" font-family=\"sans-serif\" font-size=\"14\" font-weight=\"bold\" lengthAdjust=\"spacingAndGlyphs\" textLength=\"623\" x=\"5\" y=\"105.4844\">portout \"$result\" as E2  [[psysml:736cbe2e-e614-4ea2-922e-635e617bb808 ]]</text><text fill=\"#33FF02\" font-family=\"sans-serif\" font-size=\"14\" font-weight=\"bold\" lengthAdjust=\"spacingAndGlyphs\" textLength=\"884\" x=\"5\" y=\"121.7813\">rec usage \"test x\" as E3  &lt;&lt;(U,orange)decisionNode&gt;&gt; [[psysml:fd19b455-89d5-459d-92f7-d1815185add7 ]] {</text><text fill=\"#33FF02\" font-family=\"sans-serif\" font-size=\"14\" font-weight=\"bold\" lengthAdjust=\"spacingAndGlyphs\" textLength=\"10\" x=\"5\" y=\"138.0781\">}</text><text fill=\"#33FF02\" font-family=\"sans-serif\" font-size=\"14\" font-weight=\"bold\" lengthAdjust=\"spacingAndGlyphs\" textLength=\"0\" x=\"10\" y=\"154.375\"/><text fill=\"#33FF02\" font-family=\"sans-serif\" font-size=\"14\" font-weight=\"bold\" lengthAdjust=\"spacingAndGlyphs\" textLength=\"10\" x=\"5\" y=\"170.6719\">{</text><text fill=\"#FF0000\" font-family=\"sans-serif\" font-size=\"14\" font-weight=\"bold\" lengthAdjust=\"spacingAndGlyphs\" textLength=\"106\" x=\"10\" y=\"186.9688\">Syntax Error?</text><!--MD5=[5aaa33b1cf32e3db954b10449cface05]\n",
       "@startuml\r\n",
       " \r\n",
       "rec def \"DecisionTest\" as E1  <<(D,brown)action def>> [[psysml:a3695254-583a-41e6-95b4-07f76a5805ed ]] {\r\n",
       "portout \"$result\" as E2  [[psysml:736cbe2e-e614-4ea2-922e-635e617bb808 ]] \r\n",
       "rec usage \"test x\" as E3  <<(U,orange)decisionNode>> [[psysml:fd19b455-89d5-459d-92f7-d1815185add7 ]] {\r\n",
       "}\r\n",
       "\r\n",
       "{\r\n",
       "portout \"$result\" as E4  [[psysml:6d4a6456-a7ec-4177-87e4-ea5c100c5f7a ]] \r\n",
       "portin \"$x\" as E5  [[psysml:810bc03f-55fb-40a2-b55c-bd606a6d8860 ]] \r\n",
       "portin \"$y\" as E6  [[psysml:9b327a8e-6a1a-4f88-b23a-313c42dc41ad ]] \r\n",
       "portout \"$result\" as E7  [[psysml:3482b99c-6d5f-462a-981f-843523b909ab ]] \r\n",
       "}\r\n",
       "\r\n",
       "{\r\n",
       "portout \"$result\" as E8  [[psysml:8d6fc5ff-5a7b-4326-8fe2-a1e00b49613b ]] \r\n",
       "portin \"$x\" as E9  [[psysml:46b1300e-a73a-4c43-b5e8-ea161bf29b84 ]] \r\n",
       "portin \"$y\" as E10  [[psysml:4c9eaf15-63e7-4329-aa99-8209cbaf88bd ]] \r\n",
       "portout \"$result\" as E11  [[psysml:db374472-9b3d-40ef-87c4-0779379afe59 ]] \r\n",
       "}\r\n",
       "\r\n",
       "{\r\n",
       "}\r\n",
       "\r\n",
       "{\r\n",
       "}\r\n",
       "\r\n",
       "{\r\n",
       "portout \"$result\" as E12  [[psysml:e0510f13-cf5f-43a3-a7c7-2804245d6335 ]] \r\n",
       "}\r\n",
       "\r\n",
       "{\r\n",
       "portout \"$result\" as E13  [[psysml:bcae0eca-1466-485e-a896-a9c2508efe87 ]] \r\n",
       "}\r\n",
       "\r\n",
       "rec usage \"A1\" as E14  <<(U,orange)action>> [[psysml:fe5e89f6-2dc9-4b0f-8489-37aae8d1db14 ]] {\r\n",
       "}\r\n",
       "\r\n",
       "rec usage \"A2\" as E15  <<(U,orange)action>> [[psysml:4cc0bf78-e417-49bc-8d88-351983c62136 ]] {\r\n",
       "}\r\n",
       "\r\n",
       "rec usage \"A3\" as E16  <<(U,orange)action>> [[psysml:b76bbc08-81d4-47ab-9a49-666299d123cf ]] {\r\n",
       "}\r\n",
       "\r\n",
       "rec usage \"S\" as E17  <<(U,orange)transition>> [[psysml:fe245d46-438e-4c8f-ab18-310121fc2f41 ]] {\r\n",
       "rec usage \"A1\" as E18  <<(U,orange)action>> [[psysml:fe5e89f6-2dc9-4b0f-8489-37aae8d1db14 ]] {\r\n",
       "}\r\n",
       "\r\n",
       "portout \"$result\" as E19  [[psysml:5f694de1-2ca1-44b7-80b3-60a608cc3133 ]] \r\n",
       "portin \"$x\" as E20  [[psysml:8143e50d-1193-4d25-859f-77f062ba674d ]] \r\n",
       "portin \"$y\" as E21  [[psysml:ba8e69b2-a3c6-4a24-b7d7-ae4c7f563c95 ]] \r\n",
       "portout \"$result\" as E22  [[psysml:24237d18-6666-403f-9475-d2e8cf84f852 ]] \r\n",
       "}\r\n",
       "\r\n",
       "rec usage \"A3\" as E23  <<(U,orange)action>> [[psysml:b76bbc08-81d4-47ab-9a49-666299d123cf ]] {\r\n",
       "}\r\n",
       "\r\n",
       "{\r\n",
       "portout \"$result\" as E24  [[psysml:f904355a-9712-4e0c-a9b6-5ecdd1390be6 ]] \r\n",
       "portin \"$x\" as E25  [[psysml:c4435769-fd75-4fbf-95a7-29566a6c8186 ]] \r\n",
       "portin \"$y\" as E26  [[psysml:e2db5bbd-dd5d-422a-81f2-d836869b1ec1 ]] \r\n",
       "portout \"$result\" as E27  [[psysml:f774fe7e-8d66-439a-b027-16ceb2b41e9d ]] \r\n",
       "}\r\n",
       "\r\n",
       "}\r\n",
       "\r\n",
       "E6 -[thickness=5,#red]- E4 [[psysml:22575a94-d313-4c92-b3bf-e872aff40b38 ]] \r\n",
       "E10 -[thickness=5,#red]- E8 [[psysml:468e3065-35eb-4f7a-b0d7-b4ac24204b50 ]] \r\n",
       "E21 -[thickness=5,#red]- E19 [[psysml:6eff49c6-4c1b-4a79-924a-d43d01989d36 ]] \r\n",
       "E26 -[thickness=5,#red]- E24 [[psysml:02504f01-5bd4-4b5c-8fa7-2e89e01e6fe9 ]] \r\n",
       "@enduml\r\n",
       "\n",
       "PlantUML version 1.2020.13(Sat Jun 13 12:26:38 UTC 2020)\n",
       "(EPL source distribution)\n",
       "Java Runtime: OpenJDK Runtime Environment\n",
       "JVM: OpenJDK 64-Bit Server VM\n",
       "Default Encoding: UTF-8\n",
       "Language: en\n",
       "Country: null\n",
       "--></g></svg>"
      ]
     },
     "execution_count": 36,
     "metadata": {},
     "output_type": "execute_result"
    }
   ],
   "source": [
    "%viz --style=\"PLANTUML\" --view=\"MIXED\" \"DecisionTest\""
   ]
  },
  {
   "cell_type": "code",
   "execution_count": 37,
   "id": "lined-arlington",
   "metadata": {
    "execution": {
     "iopub.execute_input": "2021-03-25T13:22:48.592483Z",
     "iopub.status.busy": "2021-03-25T13:22:48.591842Z",
     "iopub.status.idle": "2021-03-25T13:22:48.637999Z",
     "shell.execute_reply": "2021-03-25T13:22:48.636050Z"
    }
   },
   "outputs": [
    {
     "data": {
      "image/svg+xml": [
       "<?xml version=\"1.0\" encoding=\"UTF-8\" standalone=\"no\"?><svg xmlns=\"http://www.w3.org/2000/svg\" xmlns:xlink=\"http://www.w3.org/1999/xlink\" contentScriptType=\"application/ecmascript\" contentStyleType=\"text/css\" height=\"271px\" preserveAspectRatio=\"none\" style=\"width:877px;height:271px;background:#000000;\" version=\"1.1\" viewBox=\"0 0 877 271\" width=\"877px\" zoomAndPan=\"magnify\"><defs/><g><rect fill=\"#230303\" height=\"1\" style=\"stroke: #230303; stroke-width: 1.0;\" width=\"1\" x=\"0\" y=\"0\"/><rect fill=\"#33FF02\" height=\"21.2969\" style=\"stroke: #33FF02; stroke-width: 1.0;\" width=\"870\" x=\"5\" y=\"5\"/><text fill=\"#000000\" font-family=\"sans-serif\" font-size=\"14\" font-weight=\"bold\" lengthAdjust=\"spacingAndGlyphs\" textLength=\"178\" x=\"6\" y=\"20\">[From string (line 13) ]</text><text fill=\"#33FF02\" font-family=\"sans-serif\" font-size=\"14\" font-weight=\"bold\" lengthAdjust=\"spacingAndGlyphs\" textLength=\"0\" x=\"10\" y=\"40.2969\"/><text fill=\"#33FF02\" font-family=\"sans-serif\" font-size=\"14\" font-weight=\"bold\" lengthAdjust=\"spacingAndGlyphs\" textLength=\"79\" x=\"5\" y=\"56.5938\">@startuml</text><text fill=\"#33FF02\" font-family=\"sans-serif\" font-size=\"14\" font-weight=\"bold\" lengthAdjust=\"spacingAndGlyphs\" textLength=\"228\" x=\"5\" y=\"72.8906\">skinparam monochrome true</text><text fill=\"#33FF02\" font-family=\"sans-serif\" font-size=\"14\" font-weight=\"bold\" lengthAdjust=\"spacingAndGlyphs\" textLength=\"309\" x=\"5\" y=\"89.1875\">skinparam classbackgroundcolor white</text><text fill=\"#33FF02\" font-family=\"sans-serif\" font-size=\"14\" font-weight=\"bold\" lengthAdjust=\"spacingAndGlyphs\" textLength=\"215\" x=\"5\" y=\"105.4844\">skinparam shadowing false</text><text fill=\"#33FF02\" font-family=\"sans-serif\" font-size=\"14\" font-weight=\"bold\" lengthAdjust=\"spacingAndGlyphs\" textLength=\"206\" x=\"5\" y=\"121.7813\">skinparam wrapWidth 300</text><text fill=\"#33FF02\" font-family=\"sans-serif\" font-size=\"14\" font-weight=\"bold\" lengthAdjust=\"spacingAndGlyphs\" textLength=\"82\" x=\"5\" y=\"138.0781\">hide circle</text><text fill=\"#33FF02\" font-family=\"sans-serif\" font-size=\"14\" font-weight=\"bold\" lengthAdjust=\"spacingAndGlyphs\" textLength=\"0\" x=\"10\" y=\"154.375\"/><text fill=\"#33FF02\" font-family=\"sans-serif\" font-size=\"14\" font-weight=\"bold\" lengthAdjust=\"spacingAndGlyphs\" textLength=\"870\" x=\"5\" y=\"170.6719\">rec def \"DecisionTest\" as E1  &lt;&lt;(T,blue)action def&gt;&gt; [[psysml:a3695254-583a-41e6-95b4-07f76a5805ed ]] {</text><text fill=\"#33FF02\" font-family=\"sans-serif\" font-size=\"14\" font-weight=\"bold\" lengthAdjust=\"spacingAndGlyphs\" textLength=\"623\" x=\"5\" y=\"186.9688\">portout \"$result\" as E2  [[psysml:736cbe2e-e614-4ea2-922e-635e617bb808 ]]</text><text fill=\"#33FF02\" font-family=\"sans-serif\" font-size=\"14\" font-weight=\"bold\" lengthAdjust=\"spacingAndGlyphs\" textLength=\"861\" x=\"5\" y=\"203.2656\">rec usage \"test x\" as E3  &lt;&lt;(T,blue)decisionNode&gt;&gt; [[psysml:fd19b455-89d5-459d-92f7-d1815185add7 ]] {</text><text fill=\"#33FF02\" font-family=\"sans-serif\" font-size=\"14\" font-weight=\"bold\" lengthAdjust=\"spacingAndGlyphs\" textLength=\"10\" x=\"5\" y=\"219.5625\">}</text><text fill=\"#33FF02\" font-family=\"sans-serif\" font-size=\"14\" font-weight=\"bold\" lengthAdjust=\"spacingAndGlyphs\" textLength=\"0\" x=\"10\" y=\"235.8594\"/><text fill=\"#33FF02\" font-family=\"sans-serif\" font-size=\"14\" font-weight=\"bold\" lengthAdjust=\"spacingAndGlyphs\" textLength=\"10\" x=\"5\" y=\"252.1563\">{</text><text fill=\"#FF0000\" font-family=\"sans-serif\" font-size=\"14\" font-weight=\"bold\" lengthAdjust=\"spacingAndGlyphs\" textLength=\"106\" x=\"10\" y=\"268.4531\">Syntax Error?</text><!--MD5=[02736a1e8d20681e47304a2fba13ee6b]\n",
       "@startuml\r\n",
       "skinparam monochrome true\r\n",
       "skinparam classbackgroundcolor white\r\n",
       "skinparam shadowing false\r\n",
       "skinparam wrapWidth 300\r\n",
       "hide circle\r\n",
       "\r\n",
       "rec def \"DecisionTest\" as E1  <<(T,blue)action def>> [[psysml:a3695254-583a-41e6-95b4-07f76a5805ed ]] {\r\n",
       "portout \"$result\" as E2  [[psysml:736cbe2e-e614-4ea2-922e-635e617bb808 ]] \r\n",
       "rec usage \"test x\" as E3  <<(T,blue)decisionNode>> [[psysml:fd19b455-89d5-459d-92f7-d1815185add7 ]] {\r\n",
       "}\r\n",
       "\r\n",
       "{\r\n",
       "portout \"$result\" as E4  [[psysml:6d4a6456-a7ec-4177-87e4-ea5c100c5f7a ]] \r\n",
       "portin \"$x\" as E5  [[psysml:810bc03f-55fb-40a2-b55c-bd606a6d8860 ]] \r\n",
       "portin \"$y\" as E6  [[psysml:9b327a8e-6a1a-4f88-b23a-313c42dc41ad ]] \r\n",
       "portout \"$result\" as E7  [[psysml:3482b99c-6d5f-462a-981f-843523b909ab ]] \r\n",
       "}\r\n",
       "\r\n",
       "{\r\n",
       "portout \"$result\" as E8  [[psysml:8d6fc5ff-5a7b-4326-8fe2-a1e00b49613b ]] \r\n",
       "portin \"$x\" as E9  [[psysml:46b1300e-a73a-4c43-b5e8-ea161bf29b84 ]] \r\n",
       "portin \"$y\" as E10  [[psysml:4c9eaf15-63e7-4329-aa99-8209cbaf88bd ]] \r\n",
       "portout \"$result\" as E11  [[psysml:db374472-9b3d-40ef-87c4-0779379afe59 ]] \r\n",
       "}\r\n",
       "\r\n",
       "{\r\n",
       "}\r\n",
       "\r\n",
       "{\r\n",
       "}\r\n",
       "\r\n",
       "{\r\n",
       "portout \"$result\" as E12  [[psysml:e0510f13-cf5f-43a3-a7c7-2804245d6335 ]] \r\n",
       "}\r\n",
       "\r\n",
       "{\r\n",
       "portout \"$result\" as E13  [[psysml:bcae0eca-1466-485e-a896-a9c2508efe87 ]] \r\n",
       "}\r\n",
       "\r\n",
       "rec usage \"A1\" as E14  <<(T,blue)action>> [[psysml:fe5e89f6-2dc9-4b0f-8489-37aae8d1db14 ]] {\r\n",
       "}\r\n",
       "\r\n",
       "rec usage \"A2\" as E15  <<(T,blue)action>> [[psysml:4cc0bf78-e417-49bc-8d88-351983c62136 ]] {\r\n",
       "}\r\n",
       "\r\n",
       "rec usage \"A3\" as E16  <<(T,blue)action>> [[psysml:b76bbc08-81d4-47ab-9a49-666299d123cf ]] {\r\n",
       "}\r\n",
       "\r\n",
       "rec usage \"S\" as E17  <<(T,blue)transition>> [[psysml:fe245d46-438e-4c8f-ab18-310121fc2f41 ]] {\r\n",
       "rec usage \"A1\" as E18  <<(T,blue)action>> [[psysml:fe5e89f6-2dc9-4b0f-8489-37aae8d1db14 ]] {\r\n",
       "}\r\n",
       "\r\n",
       "portout \"$result\" as E19  [[psysml:5f694de1-2ca1-44b7-80b3-60a608cc3133 ]] \r\n",
       "portin \"$x\" as E20  [[psysml:8143e50d-1193-4d25-859f-77f062ba674d ]] \r\n",
       "portin \"$y\" as E21  [[psysml:ba8e69b2-a3c6-4a24-b7d7-ae4c7f563c95 ]] \r\n",
       "portout \"$result\" as E22  [[psysml:24237d18-6666-403f-9475-d2e8cf84f852 ]] \r\n",
       "}\r\n",
       "\r\n",
       "rec usage \"A3\" as E23  <<(T,blue)action>> [[psysml:b76bbc08-81d4-47ab-9a49-666299d123cf ]] {\r\n",
       "}\r\n",
       "\r\n",
       "{\r\n",
       "portout \"$result\" as E24  [[psysml:f904355a-9712-4e0c-a9b6-5ecdd1390be6 ]] \r\n",
       "portin \"$x\" as E25  [[psysml:c4435769-fd75-4fbf-95a7-29566a6c8186 ]] \r\n",
       "portin \"$y\" as E26  [[psysml:e2db5bbd-dd5d-422a-81f2-d836869b1ec1 ]] \r\n",
       "portout \"$result\" as E27  [[psysml:f774fe7e-8d66-439a-b027-16ceb2b41e9d ]] \r\n",
       "}\r\n",
       "\r\n",
       "}\r\n",
       "\r\n",
       "E6 -[thickness=5]- E4 [[psysml:22575a94-d313-4c92-b3bf-e872aff40b38 ]] \r\n",
       "E10 -[thickness=5]- E8 [[psysml:468e3065-35eb-4f7a-b0d7-b4ac24204b50 ]] \r\n",
       "E21 -[thickness=5]- E19 [[psysml:6eff49c6-4c1b-4a79-924a-d43d01989d36 ]] \r\n",
       "E26 -[thickness=5]- E24 [[psysml:02504f01-5bd4-4b5c-8fa7-2e89e01e6fe9 ]] \r\n",
       "@enduml\r\n",
       "\n",
       "PlantUML version 1.2020.13(Sat Jun 13 12:26:38 UTC 2020)\n",
       "(EPL source distribution)\n",
       "Java Runtime: OpenJDK Runtime Environment\n",
       "JVM: OpenJDK 64-Bit Server VM\n",
       "Default Encoding: UTF-8\n",
       "Language: en\n",
       "Country: null\n",
       "--></g></svg>"
      ]
     },
     "execution_count": 37,
     "metadata": {},
     "output_type": "execute_result"
    }
   ],
   "source": [
    "%viz --style=\"DEFAULT\" --view=\"Default\" \"DecisionTest\""
   ]
  },
  {
   "cell_type": "code",
   "execution_count": 38,
   "id": "assured-deviation",
   "metadata": {
    "execution": {
     "iopub.execute_input": "2021-03-25T13:22:48.685914Z",
     "iopub.status.busy": "2021-03-25T13:22:48.684833Z",
     "iopub.status.idle": "2021-03-25T13:22:49.196969Z",
     "shell.execute_reply": "2021-03-25T13:22:49.196428Z"
    }
   },
   "outputs": [
    {
     "data": {
      "image/svg+xml": [
       "<?xml version=\"1.0\" encoding=\"UTF-8\" standalone=\"no\"?><svg xmlns=\"http://www.w3.org/2000/svg\" xmlns:xlink=\"http://www.w3.org/1999/xlink\" contentScriptType=\"application/ecmascript\" contentStyleType=\"text/css\" height=\"207px\" preserveAspectRatio=\"none\" style=\"width:109px;height:207px;\" version=\"1.1\" viewBox=\"0 0 109 207\" width=\"109px\" zoomAndPan=\"magnify\"><defs/><g><!--MD5=[43c9051892ef23e1a46a86907403d788]\n",
       "class E1--><a href=\"psysml:a3695254-583a-41e6-95b4-07f76a5805ed\" target=\"_top\" title=\"psysml:a3695254-583a-41e6-95b4-07f76a5805ed\" xlink:actuate=\"onRequest\" xlink:href=\"psysml:a3695254-583a-41e6-95b4-07f76a5805ed\" xlink:show=\"new\" xlink:title=\"psysml:a3695254-583a-41e6-95b4-07f76a5805ed\" xlink:type=\"simple\"><rect fill=\"#FFFFFF\" height=\"189.9844\" id=\"E1\" style=\"stroke: #383838; stroke-width: 1.5;\" width=\"91\" x=\"7\" y=\"7\"/><text fill=\"#000000\" font-family=\"sans-serif\" font-size=\"12\" font-style=\"italic\" lengthAdjust=\"spacingAndGlyphs\" textLength=\"77\" x=\"14\" y=\"23.1387\">«action def»</text><text fill=\"#000000\" font-family=\"sans-serif\" font-size=\"12\" lengthAdjust=\"spacingAndGlyphs\" textLength=\"80\" x=\"12.5\" y=\"37.1074\">DecisionTest</text><line style=\"stroke: #383838; stroke-width: 1.5;\" x1=\"8\" x2=\"97\" y1=\"44.9375\" y2=\"44.9375\"/><text fill=\"#000000\" font-family=\"sans-serif\" font-size=\"11\" lengthAdjust=\"spacingAndGlyphs\" textLength=\"6\" x=\"13\" y=\"75.9526\">x</text><line style=\"stroke: #383838; stroke-width: 1.0;\" x1=\"8\" x2=\"25\" y1=\"59.3398\" y2=\"59.3398\"/><text fill=\"#000000\" font-family=\"sans-serif\" font-size=\"11\" lengthAdjust=\"spacingAndGlyphs\" textLength=\"55\" x=\"25\" y=\"62.6479\">attributes</text><line style=\"stroke: #383838; stroke-width: 1.0;\" x1=\"80\" x2=\"97\" y1=\"59.3398\" y2=\"59.3398\"/><text fill=\"#000000\" font-family=\"sans-serif\" font-size=\"11\" lengthAdjust=\"spacingAndGlyphs\" textLength=\"14\" x=\"13\" y=\"105.562\">A1</text><text fill=\"#000000\" font-family=\"sans-serif\" font-size=\"11\" lengthAdjust=\"spacingAndGlyphs\" textLength=\"14\" x=\"13\" y=\"118.3667\">A2</text><text fill=\"#000000\" font-family=\"sans-serif\" font-size=\"11\" lengthAdjust=\"spacingAndGlyphs\" textLength=\"14\" x=\"13\" y=\"131.1714\">A3</text><line style=\"stroke: #383838; stroke-width: 1.0;\" x1=\"8\" x2=\"32\" y1=\"88.9492\" y2=\"88.9492\"/><text fill=\"#000000\" font-family=\"sans-serif\" font-size=\"11\" lengthAdjust=\"spacingAndGlyphs\" textLength=\"41\" x=\"32\" y=\"92.2573\">actions</text><line style=\"stroke: #383838; stroke-width: 1.0;\" x1=\"73\" x2=\"97\" y1=\"88.9492\" y2=\"88.9492\"/><text fill=\"#000000\" font-family=\"sans-serif\" font-size=\"11\" lengthAdjust=\"spacingAndGlyphs\" textLength=\"32\" x=\"13\" y=\"160.7808\">test x</text><line style=\"stroke: #383838; stroke-width: 1.0;\" x1=\"8\" x2=\"11\" y1=\"144.168\" y2=\"144.168\"/><text fill=\"#000000\" font-family=\"sans-serif\" font-size=\"11\" lengthAdjust=\"spacingAndGlyphs\" textLength=\"83\" x=\"11\" y=\"147.4761\">decisionNodes</text><line style=\"stroke: #383838; stroke-width: 1.0;\" x1=\"94\" x2=\"97\" y1=\"144.168\" y2=\"144.168\"/><text fill=\"#000000\" font-family=\"sans-serif\" font-size=\"11\" lengthAdjust=\"spacingAndGlyphs\" textLength=\"8\" x=\"13\" y=\"190.3901\">S</text><line style=\"stroke: #383838; stroke-width: 1.0;\" x1=\"8\" x2=\"22\" y1=\"173.7773\" y2=\"173.7773\"/><text fill=\"#000000\" font-family=\"sans-serif\" font-size=\"11\" lengthAdjust=\"spacingAndGlyphs\" textLength=\"61\" x=\"22\" y=\"177.0854\">transitions</text><line style=\"stroke: #383838; stroke-width: 1.0;\" x1=\"83\" x2=\"97\" y1=\"173.7773\" y2=\"173.7773\"/></a><!--MD5=[32842ad9d1d98a062b5b37003951bd92]\n",
       "@startuml\r\n",
       "skinparam monochrome true\r\n",
       "skinparam classbackgroundcolor white\r\n",
       "skinparam shadowing false\r\n",
       "skinparam wrapWidth 300\r\n",
       "hide circle\r\n",
       "\r\n",
       "comp def \"DecisionTest\" as E1  <<(T,blue)action def>> [[psysml:a3695254-583a-41e6-95b4-07f76a5805ed ]] {\r\n",
       "- - attributes - -\r\n",
       "x\r\n",
       "- - actions - -\r\n",
       "A1\r\n",
       "A2\r\n",
       "A3\r\n",
       "- - decisionNodes - -\r\n",
       "test x\r\n",
       "- - transitions - -\r\n",
       "S\r\n",
       "}\r\n",
       "@enduml\r\n",
       "\n",
       "PlantUML version 1.2020.13(Sat Jun 13 12:26:38 UTC 2020)\n",
       "(EPL source distribution)\n",
       "Java Runtime: OpenJDK Runtime Environment\n",
       "JVM: OpenJDK 64-Bit Server VM\n",
       "Default Encoding: UTF-8\n",
       "Language: en\n",
       "Country: null\n",
       "--></g></svg>"
      ]
     },
     "execution_count": 38,
     "metadata": {},
     "output_type": "execute_result"
    }
   ],
   "source": [
    "%viz --style=\"DEFAULT\" --view=\"Tree\" \"DecisionTest\""
   ]
  },
  {
   "cell_type": "code",
   "execution_count": 39,
   "id": "complex-fundamental",
   "metadata": {
    "execution": {
     "iopub.execute_input": "2021-03-25T13:22:49.247661Z",
     "iopub.status.busy": "2021-03-25T13:22:49.246980Z",
     "iopub.status.idle": "2021-03-25T13:22:49.256726Z",
     "shell.execute_reply": "2021-03-25T13:22:49.257443Z"
    }
   },
   "outputs": [
    {
     "data": {
      "image/svg+xml": [
       "<?xml version=\"1.0\" encoding=\"UTF-8\" standalone=\"no\"?><svg xmlns=\"http://www.w3.org/2000/svg\" xmlns:xlink=\"http://www.w3.org/1999/xlink\" contentScriptType=\"application/ecmascript\" contentStyleType=\"text/css\" height=\"12px\" preserveAspectRatio=\"none\" style=\"width:12px;height:12px;\" version=\"1.1\" viewBox=\"0 0 12 12\" width=\"12px\" zoomAndPan=\"magnify\"><defs/><g><!--MD5=[c5f280e076d0d61ccf4b0f27871bda1d]\n",
       "@startuml\r\n",
       "skinparam monochrome true\r\n",
       "skinparam classbackgroundcolor white\r\n",
       "skinparam shadowing false\r\n",
       "skinparam wrapWidth 300\r\n",
       "hide circle\r\n",
       "\r\n",
       "@enduml\r\n",
       "\n",
       "PlantUML version 1.2020.13(Sat Jun 13 12:26:38 UTC 2020)\n",
       "(EPL source distribution)\n",
       "Java Runtime: OpenJDK Runtime Environment\n",
       "JVM: OpenJDK 64-Bit Server VM\n",
       "Default Encoding: UTF-8\n",
       "Language: en\n",
       "Country: null\n",
       "--></g></svg>"
      ]
     },
     "execution_count": 39,
     "metadata": {},
     "output_type": "execute_result"
    }
   ],
   "source": [
    "%viz --style=\"DEFAULT\" --view=\"State\" \"DecisionTest\""
   ]
  },
  {
   "cell_type": "code",
   "execution_count": 40,
   "id": "careful-blind",
   "metadata": {
    "execution": {
     "iopub.execute_input": "2021-03-25T13:22:49.308541Z",
     "iopub.status.busy": "2021-03-25T13:22:49.308068Z",
     "iopub.status.idle": "2021-03-25T13:22:49.343284Z",
     "shell.execute_reply": "2021-03-25T13:22:49.344158Z"
    }
   },
   "outputs": [
    {
     "data": {
      "image/svg+xml": [
       "<?xml version=\"1.0\" encoding=\"UTF-8\" standalone=\"no\"?><svg xmlns=\"http://www.w3.org/2000/svg\" xmlns:xlink=\"http://www.w3.org/1999/xlink\" contentScriptType=\"application/ecmascript\" contentStyleType=\"text/css\" height=\"60px\" preserveAspectRatio=\"none\" style=\"width:109px;height:60px;\" version=\"1.1\" viewBox=\"0 0 109 60\" width=\"109px\" zoomAndPan=\"magnify\"><defs/><g><g id=\"E1\"><a href=\"psysml:a3695254-583a-41e6-95b4-07f76a5805ed\" target=\"_top\" title=\"psysml:a3695254-583a-41e6-95b4-07f76a5805ed\" xlink:actuate=\"onRequest\" xlink:href=\"psysml:a3695254-583a-41e6-95b4-07f76a5805ed\" xlink:show=\"new\" xlink:title=\"psysml:a3695254-583a-41e6-95b4-07f76a5805ed\" xlink:type=\"simple\"><rect fill=\"#FFFFFF\" height=\"42.9375\" id=\"E1\" style=\"stroke: #383838; stroke-width: 1.5;\" width=\"91\" x=\"7\" y=\"7\"/><rect fill=\"#F8F8F8\" height=\"37.9375\" style=\"stroke: #383838; stroke-width: 1.5;\" width=\"91\" x=\"7\" y=\"7\"/><text fill=\"#000000\" font-family=\"sans-serif\" font-size=\"12\" font-style=\"italic\" lengthAdjust=\"spacingAndGlyphs\" textLength=\"77\" x=\"14\" y=\"23.1387\">«action def»</text><text fill=\"#000000\" font-family=\"sans-serif\" font-size=\"12\" lengthAdjust=\"spacingAndGlyphs\" textLength=\"80\" x=\"12.5\" y=\"37.1074\">DecisionTest</text></a></g><!--MD5=[1be9ede075533c3e611c28bd26e5446f]\n",
       "@startuml\r\n",
       "skinparam ranksep 8\r\n",
       "skinparam rectangle {\r\n",
       " backgroundColor<<block>> LightGreen\r\n",
       "}\r\n",
       "skinparam monochrome true\r\n",
       "skinparam classbackgroundcolor white\r\n",
       "skinparam shadowing false\r\n",
       "skinparam wrapWidth 300\r\n",
       "hide circle\r\n",
       "\r\n",
       "def \"DecisionTest\" as E1  <<(T,blue)action def>> [[psysml:a3695254-583a-41e6-95b4-07f76a5805ed ]] \r\n",
       "@enduml\r\n",
       "\n",
       "PlantUML version 1.2020.13(Sat Jun 13 12:26:38 UTC 2020)\n",
       "(EPL source distribution)\n",
       "Java Runtime: OpenJDK Runtime Environment\n",
       "JVM: OpenJDK 64-Bit Server VM\n",
       "Default Encoding: UTF-8\n",
       "Language: en\n",
       "Country: null\n",
       "--></g></svg>"
      ]
     },
     "execution_count": 40,
     "metadata": {},
     "output_type": "execute_result"
    }
   ],
   "source": [
    "%viz --style=\"DEFAULT\" --view=\"Interconnection\" \"DecisionTest\""
   ]
  },
  {
   "cell_type": "code",
   "execution_count": 41,
   "id": "judicial-cleaner",
   "metadata": {
    "execution": {
     "iopub.execute_input": "2021-03-25T13:22:49.393993Z",
     "iopub.status.busy": "2021-03-25T13:22:49.393481Z",
     "iopub.status.idle": "2021-03-25T13:22:49.425329Z",
     "shell.execute_reply": "2021-03-25T13:22:49.423915Z"
    }
   },
   "outputs": [
    {
     "data": {
      "image/svg+xml": [
       "<?xml version=\"1.0\" encoding=\"UTF-8\" standalone=\"no\"?><svg xmlns=\"http://www.w3.org/2000/svg\" xmlns:xlink=\"http://www.w3.org/1999/xlink\" contentScriptType=\"application/ecmascript\" contentStyleType=\"text/css\" height=\"288px\" preserveAspectRatio=\"none\" style=\"width:877px;height:288px;background:#000000;\" version=\"1.1\" viewBox=\"0 0 877 288\" width=\"877px\" zoomAndPan=\"magnify\"><defs/><g><rect fill=\"#161901\" height=\"1\" style=\"stroke: #161901; stroke-width: 1.0;\" width=\"1\" x=\"0\" y=\"0\"/><rect fill=\"#33FF02\" height=\"21.2969\" style=\"stroke: #33FF02; stroke-width: 1.0;\" width=\"870\" x=\"5\" y=\"5\"/><text fill=\"#000000\" font-family=\"sans-serif\" font-size=\"14\" font-weight=\"bold\" lengthAdjust=\"spacingAndGlyphs\" textLength=\"178\" x=\"6\" y=\"20\">[From string (line 14) ]</text><text fill=\"#33FF02\" font-family=\"sans-serif\" font-size=\"14\" font-weight=\"bold\" lengthAdjust=\"spacingAndGlyphs\" textLength=\"0\" x=\"10\" y=\"40.2969\"/><text fill=\"#33FF02\" font-family=\"sans-serif\" font-size=\"14\" font-weight=\"bold\" lengthAdjust=\"spacingAndGlyphs\" textLength=\"79\" x=\"5\" y=\"56.5938\">@startuml</text><text fill=\"#33FF02\" font-family=\"sans-serif\" font-size=\"14\" font-weight=\"bold\" lengthAdjust=\"spacingAndGlyphs\" textLength=\"165\" x=\"5\" y=\"72.8906\">skinparam ranksep 8</text><text fill=\"#33FF02\" font-family=\"sans-serif\" font-size=\"14\" font-weight=\"bold\" lengthAdjust=\"spacingAndGlyphs\" textLength=\"228\" x=\"5\" y=\"89.1875\">skinparam monochrome true</text><text fill=\"#33FF02\" font-family=\"sans-serif\" font-size=\"14\" font-weight=\"bold\" lengthAdjust=\"spacingAndGlyphs\" textLength=\"309\" x=\"5\" y=\"105.4844\">skinparam classbackgroundcolor white</text><text fill=\"#33FF02\" font-family=\"sans-serif\" font-size=\"14\" font-weight=\"bold\" lengthAdjust=\"spacingAndGlyphs\" textLength=\"215\" x=\"5\" y=\"121.7813\">skinparam shadowing false</text><text fill=\"#33FF02\" font-family=\"sans-serif\" font-size=\"14\" font-weight=\"bold\" lengthAdjust=\"spacingAndGlyphs\" textLength=\"206\" x=\"5\" y=\"138.0781\">skinparam wrapWidth 300</text><text fill=\"#33FF02\" font-family=\"sans-serif\" font-size=\"14\" font-weight=\"bold\" lengthAdjust=\"spacingAndGlyphs\" textLength=\"82\" x=\"5\" y=\"154.375\">hide circle</text><text fill=\"#33FF02\" font-family=\"sans-serif\" font-size=\"14\" font-weight=\"bold\" lengthAdjust=\"spacingAndGlyphs\" textLength=\"0\" x=\"10\" y=\"170.6719\"/><text fill=\"#33FF02\" font-family=\"sans-serif\" font-size=\"14\" font-weight=\"bold\" lengthAdjust=\"spacingAndGlyphs\" textLength=\"870\" x=\"5\" y=\"186.9688\">rec def \"DecisionTest\" as E1  &lt;&lt;(T,blue)action def&gt;&gt; [[psysml:a3695254-583a-41e6-95b4-07f76a5805ed ]] {</text><text fill=\"#33FF02\" font-family=\"sans-serif\" font-size=\"14\" font-weight=\"bold\" lengthAdjust=\"spacingAndGlyphs\" textLength=\"623\" x=\"5\" y=\"203.2656\">portout \"$result\" as E2  [[psysml:736cbe2e-e614-4ea2-922e-635e617bb808 ]]</text><text fill=\"#33FF02\" font-family=\"sans-serif\" font-size=\"14\" font-weight=\"bold\" lengthAdjust=\"spacingAndGlyphs\" textLength=\"861\" x=\"5\" y=\"219.5625\">rec usage \"test x\" as E3  &lt;&lt;(T,blue)decisionNode&gt;&gt; [[psysml:fd19b455-89d5-459d-92f7-d1815185add7 ]] {</text><text fill=\"#33FF02\" font-family=\"sans-serif\" font-size=\"14\" font-weight=\"bold\" lengthAdjust=\"spacingAndGlyphs\" textLength=\"10\" x=\"5\" y=\"235.8594\">}</text><text fill=\"#33FF02\" font-family=\"sans-serif\" font-size=\"14\" font-weight=\"bold\" lengthAdjust=\"spacingAndGlyphs\" textLength=\"0\" x=\"10\" y=\"252.1563\"/><text fill=\"#33FF02\" font-family=\"sans-serif\" font-size=\"14\" font-weight=\"bold\" lengthAdjust=\"spacingAndGlyphs\" textLength=\"10\" x=\"5\" y=\"268.4531\">{</text><text fill=\"#FF0000\" font-family=\"sans-serif\" font-size=\"14\" font-weight=\"bold\" lengthAdjust=\"spacingAndGlyphs\" textLength=\"106\" x=\"10\" y=\"284.75\">Syntax Error?</text><!--MD5=[6d0e74fd87e41f478be479893436aca9]\n",
       "@startuml\r\n",
       "skinparam ranksep 8\r\n",
       "skinparam monochrome true\r\n",
       "skinparam classbackgroundcolor white\r\n",
       "skinparam shadowing false\r\n",
       "skinparam wrapWidth 300\r\n",
       "hide circle\r\n",
       "\r\n",
       "rec def \"DecisionTest\" as E1  <<(T,blue)action def>> [[psysml:a3695254-583a-41e6-95b4-07f76a5805ed ]] {\r\n",
       "portout \"$result\" as E2  [[psysml:736cbe2e-e614-4ea2-922e-635e617bb808 ]] \r\n",
       "rec usage \"test x\" as E3  <<(T,blue)decisionNode>> [[psysml:fd19b455-89d5-459d-92f7-d1815185add7 ]] {\r\n",
       "}\r\n",
       "\r\n",
       "{\r\n",
       "portout \"$result\" as E4  [[psysml:6d4a6456-a7ec-4177-87e4-ea5c100c5f7a ]] \r\n",
       "portin \"$x\" as E5  [[psysml:810bc03f-55fb-40a2-b55c-bd606a6d8860 ]] \r\n",
       "portin \"$y\" as E6  [[psysml:9b327a8e-6a1a-4f88-b23a-313c42dc41ad ]] \r\n",
       "portout \"$result\" as E7  [[psysml:3482b99c-6d5f-462a-981f-843523b909ab ]] \r\n",
       "}\r\n",
       "\r\n",
       "{\r\n",
       "portout \"$result\" as E8  [[psysml:8d6fc5ff-5a7b-4326-8fe2-a1e00b49613b ]] \r\n",
       "portin \"$x\" as E9  [[psysml:46b1300e-a73a-4c43-b5e8-ea161bf29b84 ]] \r\n",
       "portin \"$y\" as E10  [[psysml:4c9eaf15-63e7-4329-aa99-8209cbaf88bd ]] \r\n",
       "portout \"$result\" as E11  [[psysml:db374472-9b3d-40ef-87c4-0779379afe59 ]] \r\n",
       "}\r\n",
       "\r\n",
       "{\r\n",
       "}\r\n",
       "\r\n",
       "{\r\n",
       "}\r\n",
       "\r\n",
       "{\r\n",
       "portout \"$result\" as E12  [[psysml:e0510f13-cf5f-43a3-a7c7-2804245d6335 ]] \r\n",
       "}\r\n",
       "\r\n",
       "{\r\n",
       "portout \"$result\" as E13  [[psysml:bcae0eca-1466-485e-a896-a9c2508efe87 ]] \r\n",
       "}\r\n",
       "\r\n",
       "rec usage \"A1\" as E14  <<(T,blue)action>> [[psysml:fe5e89f6-2dc9-4b0f-8489-37aae8d1db14 ]] {\r\n",
       "}\r\n",
       "\r\n",
       "rec usage \"A2\" as E15  <<(T,blue)action>> [[psysml:4cc0bf78-e417-49bc-8d88-351983c62136 ]] {\r\n",
       "}\r\n",
       "\r\n",
       "rec usage \"A3\" as E16  <<(T,blue)action>> [[psysml:b76bbc08-81d4-47ab-9a49-666299d123cf ]] {\r\n",
       "}\r\n",
       "\r\n",
       "rec usage \"S\" as E17  <<(T,blue)transition>> [[psysml:fe245d46-438e-4c8f-ab18-310121fc2f41 ]] {\r\n",
       "rec usage \"A1\" as E18  <<(T,blue)action>> [[psysml:fe5e89f6-2dc9-4b0f-8489-37aae8d1db14 ]] {\r\n",
       "}\r\n",
       "\r\n",
       "portout \"$result\" as E19  [[psysml:5f694de1-2ca1-44b7-80b3-60a608cc3133 ]] \r\n",
       "portin \"$x\" as E20  [[psysml:8143e50d-1193-4d25-859f-77f062ba674d ]] \r\n",
       "portin \"$y\" as E21  [[psysml:ba8e69b2-a3c6-4a24-b7d7-ae4c7f563c95 ]] \r\n",
       "portout \"$result\" as E22  [[psysml:24237d18-6666-403f-9475-d2e8cf84f852 ]] \r\n",
       "}\r\n",
       "\r\n",
       "rec usage \"A3\" as E23  <<(T,blue)action>> [[psysml:b76bbc08-81d4-47ab-9a49-666299d123cf ]] {\r\n",
       "}\r\n",
       "\r\n",
       "{\r\n",
       "portout \"$result\" as E24  [[psysml:f904355a-9712-4e0c-a9b6-5ecdd1390be6 ]] \r\n",
       "portin \"$x\" as E25  [[psysml:c4435769-fd75-4fbf-95a7-29566a6c8186 ]] \r\n",
       "portin \"$y\" as E26  [[psysml:e2db5bbd-dd5d-422a-81f2-d836869b1ec1 ]] \r\n",
       "portout \"$result\" as E27  [[psysml:f774fe7e-8d66-439a-b027-16ceb2b41e9d ]] \r\n",
       "}\r\n",
       "\r\n",
       "}\r\n",
       "\r\n",
       "E6 -[thickness=5]- E4 [[psysml:22575a94-d313-4c92-b3bf-e872aff40b38 ]] \r\n",
       "E10 -[thickness=5]- E8 [[psysml:468e3065-35eb-4f7a-b0d7-b4ac24204b50 ]] \r\n",
       "E21 -[thickness=5]- E19 [[psysml:6eff49c6-4c1b-4a79-924a-d43d01989d36 ]] \r\n",
       "E26 -[thickness=5]- E24 [[psysml:02504f01-5bd4-4b5c-8fa7-2e89e01e6fe9 ]] \r\n",
       "@enduml\r\n",
       "\n",
       "PlantUML version 1.2020.13(Sat Jun 13 12:26:38 UTC 2020)\n",
       "(EPL source distribution)\n",
       "Java Runtime: OpenJDK Runtime Environment\n",
       "JVM: OpenJDK 64-Bit Server VM\n",
       "Default Encoding: UTF-8\n",
       "Language: en\n",
       "Country: null\n",
       "--></g></svg>"
      ]
     },
     "execution_count": 41,
     "metadata": {},
     "output_type": "execute_result"
    }
   ],
   "source": [
    "%viz --style=\"DEFAULT\" --view=\"Action\" \"DecisionTest\""
   ]
  },
  {
   "cell_type": "code",
   "execution_count": 42,
   "id": "stunning-islam",
   "metadata": {
    "execution": {
     "iopub.execute_input": "2021-03-25T13:22:49.481769Z",
     "iopub.status.busy": "2021-03-25T13:22:49.480607Z",
     "iopub.status.idle": "2021-03-25T13:22:49.966251Z",
     "shell.execute_reply": "2021-03-25T13:22:49.965844Z"
    }
   },
   "outputs": [
    {
     "data": {
      "image/svg+xml": [
       "<?xml version=\"1.0\" encoding=\"UTF-8\" standalone=\"no\"?><svg xmlns=\"http://www.w3.org/2000/svg\" xmlns:xlink=\"http://www.w3.org/1999/xlink\" contentScriptType=\"application/ecmascript\" contentStyleType=\"text/css\" height=\"207px\" preserveAspectRatio=\"none\" style=\"width:109px;height:207px;\" version=\"1.1\" viewBox=\"0 0 109 207\" width=\"109px\" zoomAndPan=\"magnify\"><defs/><g><!--MD5=[43c9051892ef23e1a46a86907403d788]\n",
       "class E1--><a href=\"psysml:a3695254-583a-41e6-95b4-07f76a5805ed\" target=\"_top\" title=\"psysml:a3695254-583a-41e6-95b4-07f76a5805ed\" xlink:actuate=\"onRequest\" xlink:href=\"psysml:a3695254-583a-41e6-95b4-07f76a5805ed\" xlink:show=\"new\" xlink:title=\"psysml:a3695254-583a-41e6-95b4-07f76a5805ed\" xlink:type=\"simple\"><rect fill=\"#FFFFFF\" height=\"189.9844\" id=\"E1\" style=\"stroke: #383838; stroke-width: 1.5;\" width=\"91\" x=\"7\" y=\"7\"/><text fill=\"#000000\" font-family=\"sans-serif\" font-size=\"12\" font-style=\"italic\" lengthAdjust=\"spacingAndGlyphs\" textLength=\"77\" x=\"14\" y=\"23.1387\">«action def»</text><text fill=\"#000000\" font-family=\"sans-serif\" font-size=\"12\" lengthAdjust=\"spacingAndGlyphs\" textLength=\"80\" x=\"12.5\" y=\"37.1074\">DecisionTest</text><line style=\"stroke: #383838; stroke-width: 1.5;\" x1=\"8\" x2=\"97\" y1=\"44.9375\" y2=\"44.9375\"/><text fill=\"#000000\" font-family=\"sans-serif\" font-size=\"11\" lengthAdjust=\"spacingAndGlyphs\" textLength=\"6\" x=\"13\" y=\"75.9526\">x</text><line style=\"stroke: #383838; stroke-width: 1.0;\" x1=\"8\" x2=\"25\" y1=\"59.3398\" y2=\"59.3398\"/><text fill=\"#000000\" font-family=\"sans-serif\" font-size=\"11\" lengthAdjust=\"spacingAndGlyphs\" textLength=\"55\" x=\"25\" y=\"62.6479\">attributes</text><line style=\"stroke: #383838; stroke-width: 1.0;\" x1=\"80\" x2=\"97\" y1=\"59.3398\" y2=\"59.3398\"/><text fill=\"#000000\" font-family=\"sans-serif\" font-size=\"11\" lengthAdjust=\"spacingAndGlyphs\" textLength=\"14\" x=\"13\" y=\"105.562\">A1</text><text fill=\"#000000\" font-family=\"sans-serif\" font-size=\"11\" lengthAdjust=\"spacingAndGlyphs\" textLength=\"14\" x=\"13\" y=\"118.3667\">A2</text><text fill=\"#000000\" font-family=\"sans-serif\" font-size=\"11\" lengthAdjust=\"spacingAndGlyphs\" textLength=\"14\" x=\"13\" y=\"131.1714\">A3</text><line style=\"stroke: #383838; stroke-width: 1.0;\" x1=\"8\" x2=\"32\" y1=\"88.9492\" y2=\"88.9492\"/><text fill=\"#000000\" font-family=\"sans-serif\" font-size=\"11\" lengthAdjust=\"spacingAndGlyphs\" textLength=\"41\" x=\"32\" y=\"92.2573\">actions</text><line style=\"stroke: #383838; stroke-width: 1.0;\" x1=\"73\" x2=\"97\" y1=\"88.9492\" y2=\"88.9492\"/><text fill=\"#000000\" font-family=\"sans-serif\" font-size=\"11\" lengthAdjust=\"spacingAndGlyphs\" textLength=\"32\" x=\"13\" y=\"160.7808\">test x</text><line style=\"stroke: #383838; stroke-width: 1.0;\" x1=\"8\" x2=\"11\" y1=\"144.168\" y2=\"144.168\"/><text fill=\"#000000\" font-family=\"sans-serif\" font-size=\"11\" lengthAdjust=\"spacingAndGlyphs\" textLength=\"83\" x=\"11\" y=\"147.4761\">decisionNodes</text><line style=\"stroke: #383838; stroke-width: 1.0;\" x1=\"94\" x2=\"97\" y1=\"144.168\" y2=\"144.168\"/><text fill=\"#000000\" font-family=\"sans-serif\" font-size=\"11\" lengthAdjust=\"spacingAndGlyphs\" textLength=\"8\" x=\"13\" y=\"190.3901\">S</text><line style=\"stroke: #383838; stroke-width: 1.0;\" x1=\"8\" x2=\"22\" y1=\"173.7773\" y2=\"173.7773\"/><text fill=\"#000000\" font-family=\"sans-serif\" font-size=\"11\" lengthAdjust=\"spacingAndGlyphs\" textLength=\"61\" x=\"22\" y=\"177.0854\">transitions</text><line style=\"stroke: #383838; stroke-width: 1.0;\" x1=\"83\" x2=\"97\" y1=\"173.7773\" y2=\"173.7773\"/></a><!--MD5=[32842ad9d1d98a062b5b37003951bd92]\n",
       "@startuml\r\n",
       "skinparam monochrome true\r\n",
       "skinparam classbackgroundcolor white\r\n",
       "skinparam shadowing false\r\n",
       "skinparam wrapWidth 300\r\n",
       "hide circle\r\n",
       "\r\n",
       "comp def \"DecisionTest\" as E1  <<(T,blue)action def>> [[psysml:a3695254-583a-41e6-95b4-07f76a5805ed ]] {\r\n",
       "- - attributes - -\r\n",
       "x\r\n",
       "- - actions - -\r\n",
       "A1\r\n",
       "A2\r\n",
       "A3\r\n",
       "- - decisionNodes - -\r\n",
       "test x\r\n",
       "- - transitions - -\r\n",
       "S\r\n",
       "}\r\n",
       "@enduml\r\n",
       "\n",
       "PlantUML version 1.2020.13(Sat Jun 13 12:26:38 UTC 2020)\n",
       "(EPL source distribution)\n",
       "Java Runtime: OpenJDK Runtime Environment\n",
       "JVM: OpenJDK 64-Bit Server VM\n",
       "Default Encoding: UTF-8\n",
       "Language: en\n",
       "Country: null\n",
       "--></g></svg>"
      ]
     },
     "execution_count": 42,
     "metadata": {},
     "output_type": "execute_result"
    }
   ],
   "source": [
    "%viz --style=\"DEFAULT\" --view=\"Sequence\" \"DecisionTest\""
   ]
  },
  {
   "cell_type": "code",
   "execution_count": 43,
   "id": "opponent-moment",
   "metadata": {
    "execution": {
     "iopub.execute_input": "2021-03-25T13:22:50.015783Z",
     "iopub.status.busy": "2021-03-25T13:22:50.015313Z",
     "iopub.status.idle": "2021-03-25T13:22:50.047281Z",
     "shell.execute_reply": "2021-03-25T13:22:50.045920Z"
    }
   },
   "outputs": [
    {
     "data": {
      "image/svg+xml": [
       "<?xml version=\"1.0\" encoding=\"UTF-8\" standalone=\"no\"?><svg xmlns=\"http://www.w3.org/2000/svg\" xmlns:xlink=\"http://www.w3.org/1999/xlink\" contentScriptType=\"application/ecmascript\" contentStyleType=\"text/css\" height=\"271px\" preserveAspectRatio=\"none\" style=\"width:877px;height:271px;background:#000000;\" version=\"1.1\" viewBox=\"0 0 877 271\" width=\"877px\" zoomAndPan=\"magnify\"><defs/><g><rect fill=\"#1B0E10\" height=\"1\" style=\"stroke: #1B0E10; stroke-width: 1.0;\" width=\"1\" x=\"0\" y=\"0\"/><rect fill=\"#33FF02\" height=\"21.2969\" style=\"stroke: #33FF02; stroke-width: 1.0;\" width=\"870\" x=\"5\" y=\"5\"/><text fill=\"#000000\" font-family=\"sans-serif\" font-size=\"14\" font-weight=\"bold\" lengthAdjust=\"spacingAndGlyphs\" textLength=\"178\" x=\"6\" y=\"20\">[From string (line 13) ]</text><text fill=\"#33FF02\" font-family=\"sans-serif\" font-size=\"14\" font-weight=\"bold\" lengthAdjust=\"spacingAndGlyphs\" textLength=\"0\" x=\"10\" y=\"40.2969\"/><text fill=\"#33FF02\" font-family=\"sans-serif\" font-size=\"14\" font-weight=\"bold\" lengthAdjust=\"spacingAndGlyphs\" textLength=\"79\" x=\"5\" y=\"56.5938\">@startuml</text><text fill=\"#33FF02\" font-family=\"sans-serif\" font-size=\"14\" font-weight=\"bold\" lengthAdjust=\"spacingAndGlyphs\" textLength=\"228\" x=\"5\" y=\"72.8906\">skinparam monochrome true</text><text fill=\"#33FF02\" font-family=\"sans-serif\" font-size=\"14\" font-weight=\"bold\" lengthAdjust=\"spacingAndGlyphs\" textLength=\"309\" x=\"5\" y=\"89.1875\">skinparam classbackgroundcolor white</text><text fill=\"#33FF02\" font-family=\"sans-serif\" font-size=\"14\" font-weight=\"bold\" lengthAdjust=\"spacingAndGlyphs\" textLength=\"215\" x=\"5\" y=\"105.4844\">skinparam shadowing false</text><text fill=\"#33FF02\" font-family=\"sans-serif\" font-size=\"14\" font-weight=\"bold\" lengthAdjust=\"spacingAndGlyphs\" textLength=\"206\" x=\"5\" y=\"121.7813\">skinparam wrapWidth 300</text><text fill=\"#33FF02\" font-family=\"sans-serif\" font-size=\"14\" font-weight=\"bold\" lengthAdjust=\"spacingAndGlyphs\" textLength=\"82\" x=\"5\" y=\"138.0781\">hide circle</text><text fill=\"#33FF02\" font-family=\"sans-serif\" font-size=\"14\" font-weight=\"bold\" lengthAdjust=\"spacingAndGlyphs\" textLength=\"0\" x=\"10\" y=\"154.375\"/><text fill=\"#33FF02\" font-family=\"sans-serif\" font-size=\"14\" font-weight=\"bold\" lengthAdjust=\"spacingAndGlyphs\" textLength=\"870\" x=\"5\" y=\"170.6719\">rec def \"DecisionTest\" as E1  &lt;&lt;(T,blue)action def&gt;&gt; [[psysml:a3695254-583a-41e6-95b4-07f76a5805ed ]] {</text><text fill=\"#33FF02\" font-family=\"sans-serif\" font-size=\"14\" font-weight=\"bold\" lengthAdjust=\"spacingAndGlyphs\" textLength=\"623\" x=\"5\" y=\"186.9688\">portout \"$result\" as E2  [[psysml:736cbe2e-e614-4ea2-922e-635e617bb808 ]]</text><text fill=\"#33FF02\" font-family=\"sans-serif\" font-size=\"14\" font-weight=\"bold\" lengthAdjust=\"spacingAndGlyphs\" textLength=\"861\" x=\"5\" y=\"203.2656\">rec usage \"test x\" as E3  &lt;&lt;(T,blue)decisionNode&gt;&gt; [[psysml:fd19b455-89d5-459d-92f7-d1815185add7 ]] {</text><text fill=\"#33FF02\" font-family=\"sans-serif\" font-size=\"14\" font-weight=\"bold\" lengthAdjust=\"spacingAndGlyphs\" textLength=\"10\" x=\"5\" y=\"219.5625\">}</text><text fill=\"#33FF02\" font-family=\"sans-serif\" font-size=\"14\" font-weight=\"bold\" lengthAdjust=\"spacingAndGlyphs\" textLength=\"0\" x=\"10\" y=\"235.8594\"/><text fill=\"#33FF02\" font-family=\"sans-serif\" font-size=\"14\" font-weight=\"bold\" lengthAdjust=\"spacingAndGlyphs\" textLength=\"10\" x=\"5\" y=\"252.1563\">{</text><text fill=\"#FF0000\" font-family=\"sans-serif\" font-size=\"14\" font-weight=\"bold\" lengthAdjust=\"spacingAndGlyphs\" textLength=\"106\" x=\"10\" y=\"268.4531\">Syntax Error?</text><!--MD5=[02736a1e8d20681e47304a2fba13ee6b]\n",
       "@startuml\r\n",
       "skinparam monochrome true\r\n",
       "skinparam classbackgroundcolor white\r\n",
       "skinparam shadowing false\r\n",
       "skinparam wrapWidth 300\r\n",
       "hide circle\r\n",
       "\r\n",
       "rec def \"DecisionTest\" as E1  <<(T,blue)action def>> [[psysml:a3695254-583a-41e6-95b4-07f76a5805ed ]] {\r\n",
       "portout \"$result\" as E2  [[psysml:736cbe2e-e614-4ea2-922e-635e617bb808 ]] \r\n",
       "rec usage \"test x\" as E3  <<(T,blue)decisionNode>> [[psysml:fd19b455-89d5-459d-92f7-d1815185add7 ]] {\r\n",
       "}\r\n",
       "\r\n",
       "{\r\n",
       "portout \"$result\" as E4  [[psysml:6d4a6456-a7ec-4177-87e4-ea5c100c5f7a ]] \r\n",
       "portin \"$x\" as E5  [[psysml:810bc03f-55fb-40a2-b55c-bd606a6d8860 ]] \r\n",
       "portin \"$y\" as E6  [[psysml:9b327a8e-6a1a-4f88-b23a-313c42dc41ad ]] \r\n",
       "portout \"$result\" as E7  [[psysml:3482b99c-6d5f-462a-981f-843523b909ab ]] \r\n",
       "}\r\n",
       "\r\n",
       "{\r\n",
       "portout \"$result\" as E8  [[psysml:8d6fc5ff-5a7b-4326-8fe2-a1e00b49613b ]] \r\n",
       "portin \"$x\" as E9  [[psysml:46b1300e-a73a-4c43-b5e8-ea161bf29b84 ]] \r\n",
       "portin \"$y\" as E10  [[psysml:4c9eaf15-63e7-4329-aa99-8209cbaf88bd ]] \r\n",
       "portout \"$result\" as E11  [[psysml:db374472-9b3d-40ef-87c4-0779379afe59 ]] \r\n",
       "}\r\n",
       "\r\n",
       "{\r\n",
       "}\r\n",
       "\r\n",
       "{\r\n",
       "}\r\n",
       "\r\n",
       "{\r\n",
       "portout \"$result\" as E12  [[psysml:e0510f13-cf5f-43a3-a7c7-2804245d6335 ]] \r\n",
       "}\r\n",
       "\r\n",
       "{\r\n",
       "portout \"$result\" as E13  [[psysml:bcae0eca-1466-485e-a896-a9c2508efe87 ]] \r\n",
       "}\r\n",
       "\r\n",
       "rec usage \"A1\" as E14  <<(T,blue)action>> [[psysml:fe5e89f6-2dc9-4b0f-8489-37aae8d1db14 ]] {\r\n",
       "}\r\n",
       "\r\n",
       "rec usage \"A2\" as E15  <<(T,blue)action>> [[psysml:4cc0bf78-e417-49bc-8d88-351983c62136 ]] {\r\n",
       "}\r\n",
       "\r\n",
       "rec usage \"A3\" as E16  <<(T,blue)action>> [[psysml:b76bbc08-81d4-47ab-9a49-666299d123cf ]] {\r\n",
       "}\r\n",
       "\r\n",
       "rec usage \"S\" as E17  <<(T,blue)transition>> [[psysml:fe245d46-438e-4c8f-ab18-310121fc2f41 ]] {\r\n",
       "rec usage \"A1\" as E18  <<(T,blue)action>> [[psysml:fe5e89f6-2dc9-4b0f-8489-37aae8d1db14 ]] {\r\n",
       "}\r\n",
       "\r\n",
       "portout \"$result\" as E19  [[psysml:5f694de1-2ca1-44b7-80b3-60a608cc3133 ]] \r\n",
       "portin \"$x\" as E20  [[psysml:8143e50d-1193-4d25-859f-77f062ba674d ]] \r\n",
       "portin \"$y\" as E21  [[psysml:ba8e69b2-a3c6-4a24-b7d7-ae4c7f563c95 ]] \r\n",
       "portout \"$result\" as E22  [[psysml:24237d18-6666-403f-9475-d2e8cf84f852 ]] \r\n",
       "}\r\n",
       "\r\n",
       "rec usage \"A3\" as E23  <<(T,blue)action>> [[psysml:b76bbc08-81d4-47ab-9a49-666299d123cf ]] {\r\n",
       "}\r\n",
       "\r\n",
       "{\r\n",
       "portout \"$result\" as E24  [[psysml:f904355a-9712-4e0c-a9b6-5ecdd1390be6 ]] \r\n",
       "portin \"$x\" as E25  [[psysml:c4435769-fd75-4fbf-95a7-29566a6c8186 ]] \r\n",
       "portin \"$y\" as E26  [[psysml:e2db5bbd-dd5d-422a-81f2-d836869b1ec1 ]] \r\n",
       "portout \"$result\" as E27  [[psysml:f774fe7e-8d66-439a-b027-16ceb2b41e9d ]] \r\n",
       "}\r\n",
       "\r\n",
       "}\r\n",
       "\r\n",
       "E6 -[thickness=5]- E4 [[psysml:22575a94-d313-4c92-b3bf-e872aff40b38 ]] \r\n",
       "E10 -[thickness=5]- E8 [[psysml:468e3065-35eb-4f7a-b0d7-b4ac24204b50 ]] \r\n",
       "E21 -[thickness=5]- E19 [[psysml:6eff49c6-4c1b-4a79-924a-d43d01989d36 ]] \r\n",
       "E26 -[thickness=5]- E24 [[psysml:02504f01-5bd4-4b5c-8fa7-2e89e01e6fe9 ]] \r\n",
       "@enduml\r\n",
       "\n",
       "PlantUML version 1.2020.13(Sat Jun 13 12:26:38 UTC 2020)\n",
       "(EPL source distribution)\n",
       "Java Runtime: OpenJDK Runtime Environment\n",
       "JVM: OpenJDK 64-Bit Server VM\n",
       "Default Encoding: UTF-8\n",
       "Language: en\n",
       "Country: null\n",
       "--></g></svg>"
      ]
     },
     "execution_count": 43,
     "metadata": {},
     "output_type": "execute_result"
    }
   ],
   "source": [
    "%viz --style=\"DEFAULT\" --view=\"MIXED\" \"DecisionTest\""
   ]
  },
  {
   "cell_type": "code",
   "execution_count": 44,
   "id": "pressing-transfer",
   "metadata": {
    "execution": {
     "iopub.execute_input": "2021-03-25T13:22:50.097605Z",
     "iopub.status.busy": "2021-03-25T13:22:50.096964Z",
     "iopub.status.idle": "2021-03-25T13:22:50.123554Z",
     "shell.execute_reply": "2021-03-25T13:22:50.124081Z"
    }
   },
   "outputs": [
    {
     "data": {
      "image/svg+xml": [
       "<?xml version=\"1.0\" encoding=\"UTF-8\" standalone=\"no\"?><svg xmlns=\"http://www.w3.org/2000/svg\" xmlns:xlink=\"http://www.w3.org/1999/xlink\" contentScriptType=\"application/ecmascript\" contentStyleType=\"text/css\" height=\"288px\" preserveAspectRatio=\"none\" style=\"width:877px;height:288px;background:#000000;\" version=\"1.1\" viewBox=\"0 0 877 288\" width=\"877px\" zoomAndPan=\"magnify\"><defs/><g><rect fill=\"#0A0516\" height=\"1\" style=\"stroke: #0A0516; stroke-width: 1.0;\" width=\"1\" x=\"0\" y=\"0\"/><rect fill=\"#33FF02\" height=\"21.2969\" style=\"stroke: #33FF02; stroke-width: 1.0;\" width=\"870\" x=\"5\" y=\"5\"/><text fill=\"#000000\" font-family=\"sans-serif\" font-size=\"14\" font-weight=\"bold\" lengthAdjust=\"spacingAndGlyphs\" textLength=\"178\" x=\"6\" y=\"20\">[From string (line 14) ]</text><text fill=\"#33FF02\" font-family=\"sans-serif\" font-size=\"14\" font-weight=\"bold\" lengthAdjust=\"spacingAndGlyphs\" textLength=\"0\" x=\"10\" y=\"40.2969\"/><text fill=\"#33FF02\" font-family=\"sans-serif\" font-size=\"14\" font-weight=\"bold\" lengthAdjust=\"spacingAndGlyphs\" textLength=\"79\" x=\"5\" y=\"56.5938\">@startuml</text><text fill=\"#33FF02\" font-family=\"sans-serif\" font-size=\"14\" font-weight=\"bold\" lengthAdjust=\"spacingAndGlyphs\" textLength=\"183\" x=\"5\" y=\"72.8906\">top to bottom direction</text><text fill=\"#33FF02\" font-family=\"sans-serif\" font-size=\"14\" font-weight=\"bold\" lengthAdjust=\"spacingAndGlyphs\" textLength=\"228\" x=\"5\" y=\"89.1875\">skinparam monochrome true</text><text fill=\"#33FF02\" font-family=\"sans-serif\" font-size=\"14\" font-weight=\"bold\" lengthAdjust=\"spacingAndGlyphs\" textLength=\"309\" x=\"5\" y=\"105.4844\">skinparam classbackgroundcolor white</text><text fill=\"#33FF02\" font-family=\"sans-serif\" font-size=\"14\" font-weight=\"bold\" lengthAdjust=\"spacingAndGlyphs\" textLength=\"215\" x=\"5\" y=\"121.7813\">skinparam shadowing false</text><text fill=\"#33FF02\" font-family=\"sans-serif\" font-size=\"14\" font-weight=\"bold\" lengthAdjust=\"spacingAndGlyphs\" textLength=\"206\" x=\"5\" y=\"138.0781\">skinparam wrapWidth 300</text><text fill=\"#33FF02\" font-family=\"sans-serif\" font-size=\"14\" font-weight=\"bold\" lengthAdjust=\"spacingAndGlyphs\" textLength=\"82\" x=\"5\" y=\"154.375\">hide circle</text><text fill=\"#33FF02\" font-family=\"sans-serif\" font-size=\"14\" font-weight=\"bold\" lengthAdjust=\"spacingAndGlyphs\" textLength=\"0\" x=\"10\" y=\"170.6719\"/><text fill=\"#33FF02\" font-family=\"sans-serif\" font-size=\"14\" font-weight=\"bold\" lengthAdjust=\"spacingAndGlyphs\" textLength=\"870\" x=\"5\" y=\"186.9688\">rec def \"DecisionTest\" as E1  &lt;&lt;(T,blue)action def&gt;&gt; [[psysml:a3695254-583a-41e6-95b4-07f76a5805ed ]] {</text><text fill=\"#33FF02\" font-family=\"sans-serif\" font-size=\"14\" font-weight=\"bold\" lengthAdjust=\"spacingAndGlyphs\" textLength=\"623\" x=\"5\" y=\"203.2656\">portout \"$result\" as E2  [[psysml:736cbe2e-e614-4ea2-922e-635e617bb808 ]]</text><text fill=\"#33FF02\" font-family=\"sans-serif\" font-size=\"14\" font-weight=\"bold\" lengthAdjust=\"spacingAndGlyphs\" textLength=\"861\" x=\"5\" y=\"219.5625\">rec usage \"test x\" as E3  &lt;&lt;(T,blue)decisionNode&gt;&gt; [[psysml:fd19b455-89d5-459d-92f7-d1815185add7 ]] {</text><text fill=\"#33FF02\" font-family=\"sans-serif\" font-size=\"14\" font-weight=\"bold\" lengthAdjust=\"spacingAndGlyphs\" textLength=\"10\" x=\"5\" y=\"235.8594\">}</text><text fill=\"#33FF02\" font-family=\"sans-serif\" font-size=\"14\" font-weight=\"bold\" lengthAdjust=\"spacingAndGlyphs\" textLength=\"0\" x=\"10\" y=\"252.1563\"/><text fill=\"#33FF02\" font-family=\"sans-serif\" font-size=\"14\" font-weight=\"bold\" lengthAdjust=\"spacingAndGlyphs\" textLength=\"10\" x=\"5\" y=\"268.4531\">{</text><text fill=\"#FF0000\" font-family=\"sans-serif\" font-size=\"14\" font-weight=\"bold\" lengthAdjust=\"spacingAndGlyphs\" textLength=\"106\" x=\"10\" y=\"284.75\">Syntax Error?</text><!--MD5=[691cb6c17320c62e52171d0a23cf52bf]\n",
       "@startuml\r\n",
       "top to bottom direction\r\n",
       "skinparam monochrome true\r\n",
       "skinparam classbackgroundcolor white\r\n",
       "skinparam shadowing false\r\n",
       "skinparam wrapWidth 300\r\n",
       "hide circle\r\n",
       "\r\n",
       "rec def \"DecisionTest\" as E1  <<(T,blue)action def>> [[psysml:a3695254-583a-41e6-95b4-07f76a5805ed ]] {\r\n",
       "portout \"$result\" as E2  [[psysml:736cbe2e-e614-4ea2-922e-635e617bb808 ]] \r\n",
       "rec usage \"test x\" as E3  <<(T,blue)decisionNode>> [[psysml:fd19b455-89d5-459d-92f7-d1815185add7 ]] {\r\n",
       "}\r\n",
       "\r\n",
       "{\r\n",
       "portout \"$result\" as E4  [[psysml:6d4a6456-a7ec-4177-87e4-ea5c100c5f7a ]] \r\n",
       "portin \"$x\" as E5  [[psysml:810bc03f-55fb-40a2-b55c-bd606a6d8860 ]] \r\n",
       "portin \"$y\" as E6  [[psysml:9b327a8e-6a1a-4f88-b23a-313c42dc41ad ]] \r\n",
       "portout \"$result\" as E7  [[psysml:3482b99c-6d5f-462a-981f-843523b909ab ]] \r\n",
       "}\r\n",
       "\r\n",
       "{\r\n",
       "portout \"$result\" as E8  [[psysml:8d6fc5ff-5a7b-4326-8fe2-a1e00b49613b ]] \r\n",
       "portin \"$x\" as E9  [[psysml:46b1300e-a73a-4c43-b5e8-ea161bf29b84 ]] \r\n",
       "portin \"$y\" as E10  [[psysml:4c9eaf15-63e7-4329-aa99-8209cbaf88bd ]] \r\n",
       "portout \"$result\" as E11  [[psysml:db374472-9b3d-40ef-87c4-0779379afe59 ]] \r\n",
       "}\r\n",
       "\r\n",
       "{\r\n",
       "}\r\n",
       "\r\n",
       "{\r\n",
       "}\r\n",
       "\r\n",
       "{\r\n",
       "portout \"$result\" as E12  [[psysml:e0510f13-cf5f-43a3-a7c7-2804245d6335 ]] \r\n",
       "}\r\n",
       "\r\n",
       "{\r\n",
       "portout \"$result\" as E13  [[psysml:bcae0eca-1466-485e-a896-a9c2508efe87 ]] \r\n",
       "}\r\n",
       "\r\n",
       "rec usage \"A1\" as E14  <<(T,blue)action>> [[psysml:fe5e89f6-2dc9-4b0f-8489-37aae8d1db14 ]] {\r\n",
       "}\r\n",
       "\r\n",
       "rec usage \"A2\" as E15  <<(T,blue)action>> [[psysml:4cc0bf78-e417-49bc-8d88-351983c62136 ]] {\r\n",
       "}\r\n",
       "\r\n",
       "rec usage \"A3\" as E16  <<(T,blue)action>> [[psysml:b76bbc08-81d4-47ab-9a49-666299d123cf ]] {\r\n",
       "}\r\n",
       "\r\n",
       "rec usage \"S\" as E17  <<(T,blue)transition>> [[psysml:fe245d46-438e-4c8f-ab18-310121fc2f41 ]] {\r\n",
       "rec usage \"A1\" as E18  <<(T,blue)action>> [[psysml:fe5e89f6-2dc9-4b0f-8489-37aae8d1db14 ]] {\r\n",
       "}\r\n",
       "\r\n",
       "portout \"$result\" as E19  [[psysml:5f694de1-2ca1-44b7-80b3-60a608cc3133 ]] \r\n",
       "portin \"$x\" as E20  [[psysml:8143e50d-1193-4d25-859f-77f062ba674d ]] \r\n",
       "portin \"$y\" as E21  [[psysml:ba8e69b2-a3c6-4a24-b7d7-ae4c7f563c95 ]] \r\n",
       "portout \"$result\" as E22  [[psysml:24237d18-6666-403f-9475-d2e8cf84f852 ]] \r\n",
       "}\r\n",
       "\r\n",
       "rec usage \"A3\" as E23  <<(T,blue)action>> [[psysml:b76bbc08-81d4-47ab-9a49-666299d123cf ]] {\r\n",
       "}\r\n",
       "\r\n",
       "{\r\n",
       "portout \"$result\" as E24  [[psysml:f904355a-9712-4e0c-a9b6-5ecdd1390be6 ]] \r\n",
       "portin \"$x\" as E25  [[psysml:c4435769-fd75-4fbf-95a7-29566a6c8186 ]] \r\n",
       "portin \"$y\" as E26  [[psysml:e2db5bbd-dd5d-422a-81f2-d836869b1ec1 ]] \r\n",
       "portout \"$result\" as E27  [[psysml:f774fe7e-8d66-439a-b027-16ceb2b41e9d ]] \r\n",
       "}\r\n",
       "\r\n",
       "}\r\n",
       "\r\n",
       "E6 -[thickness=5]- E4 [[psysml:22575a94-d313-4c92-b3bf-e872aff40b38 ]] \r\n",
       "E10 -[thickness=5]- E8 [[psysml:468e3065-35eb-4f7a-b0d7-b4ac24204b50 ]] \r\n",
       "E21 -[thickness=5]- E19 [[psysml:6eff49c6-4c1b-4a79-924a-d43d01989d36 ]] \r\n",
       "E26 -[thickness=5]- E24 [[psysml:02504f01-5bd4-4b5c-8fa7-2e89e01e6fe9 ]] \r\n",
       "@enduml\r\n",
       "\n",
       "PlantUML version 1.2020.13(Sat Jun 13 12:26:38 UTC 2020)\n",
       "(EPL source distribution)\n",
       "Java Runtime: OpenJDK Runtime Environment\n",
       "JVM: OpenJDK 64-Bit Server VM\n",
       "Default Encoding: UTF-8\n",
       "Language: en\n",
       "Country: null\n",
       "--></g></svg>"
      ]
     },
     "execution_count": 44,
     "metadata": {},
     "output_type": "execute_result"
    }
   ],
   "source": [
    "%viz --style=\"TB\" --view=\"Default\" \"DecisionTest\""
   ]
  },
  {
   "cell_type": "code",
   "execution_count": 45,
   "id": "meaningful-spank",
   "metadata": {
    "execution": {
     "iopub.execute_input": "2021-03-25T13:22:50.174905Z",
     "iopub.status.busy": "2021-03-25T13:22:50.174365Z",
     "iopub.status.idle": "2021-03-25T13:22:50.574160Z",
     "shell.execute_reply": "2021-03-25T13:22:50.573574Z"
    }
   },
   "outputs": [
    {
     "data": {
      "image/svg+xml": [
       "<?xml version=\"1.0\" encoding=\"UTF-8\" standalone=\"no\"?><svg xmlns=\"http://www.w3.org/2000/svg\" xmlns:xlink=\"http://www.w3.org/1999/xlink\" contentScriptType=\"application/ecmascript\" contentStyleType=\"text/css\" height=\"207px\" preserveAspectRatio=\"none\" style=\"width:109px;height:207px;\" version=\"1.1\" viewBox=\"0 0 109 207\" width=\"109px\" zoomAndPan=\"magnify\"><defs/><g><!--MD5=[43c9051892ef23e1a46a86907403d788]\n",
       "class E1--><a href=\"psysml:a3695254-583a-41e6-95b4-07f76a5805ed\" target=\"_top\" title=\"psysml:a3695254-583a-41e6-95b4-07f76a5805ed\" xlink:actuate=\"onRequest\" xlink:href=\"psysml:a3695254-583a-41e6-95b4-07f76a5805ed\" xlink:show=\"new\" xlink:title=\"psysml:a3695254-583a-41e6-95b4-07f76a5805ed\" xlink:type=\"simple\"><rect fill=\"#FFFFFF\" height=\"189.9844\" id=\"E1\" style=\"stroke: #383838; stroke-width: 1.5;\" width=\"91\" x=\"7\" y=\"7\"/><text fill=\"#000000\" font-family=\"sans-serif\" font-size=\"12\" font-style=\"italic\" lengthAdjust=\"spacingAndGlyphs\" textLength=\"77\" x=\"14\" y=\"23.1387\">«action def»</text><text fill=\"#000000\" font-family=\"sans-serif\" font-size=\"12\" lengthAdjust=\"spacingAndGlyphs\" textLength=\"80\" x=\"12.5\" y=\"37.1074\">DecisionTest</text><line style=\"stroke: #383838; stroke-width: 1.5;\" x1=\"8\" x2=\"97\" y1=\"44.9375\" y2=\"44.9375\"/><text fill=\"#000000\" font-family=\"sans-serif\" font-size=\"11\" lengthAdjust=\"spacingAndGlyphs\" textLength=\"6\" x=\"13\" y=\"75.9526\">x</text><line style=\"stroke: #383838; stroke-width: 1.0;\" x1=\"8\" x2=\"25\" y1=\"59.3398\" y2=\"59.3398\"/><text fill=\"#000000\" font-family=\"sans-serif\" font-size=\"11\" lengthAdjust=\"spacingAndGlyphs\" textLength=\"55\" x=\"25\" y=\"62.6479\">attributes</text><line style=\"stroke: #383838; stroke-width: 1.0;\" x1=\"80\" x2=\"97\" y1=\"59.3398\" y2=\"59.3398\"/><text fill=\"#000000\" font-family=\"sans-serif\" font-size=\"11\" lengthAdjust=\"spacingAndGlyphs\" textLength=\"14\" x=\"13\" y=\"105.562\">A1</text><text fill=\"#000000\" font-family=\"sans-serif\" font-size=\"11\" lengthAdjust=\"spacingAndGlyphs\" textLength=\"14\" x=\"13\" y=\"118.3667\">A2</text><text fill=\"#000000\" font-family=\"sans-serif\" font-size=\"11\" lengthAdjust=\"spacingAndGlyphs\" textLength=\"14\" x=\"13\" y=\"131.1714\">A3</text><line style=\"stroke: #383838; stroke-width: 1.0;\" x1=\"8\" x2=\"32\" y1=\"88.9492\" y2=\"88.9492\"/><text fill=\"#000000\" font-family=\"sans-serif\" font-size=\"11\" lengthAdjust=\"spacingAndGlyphs\" textLength=\"41\" x=\"32\" y=\"92.2573\">actions</text><line style=\"stroke: #383838; stroke-width: 1.0;\" x1=\"73\" x2=\"97\" y1=\"88.9492\" y2=\"88.9492\"/><text fill=\"#000000\" font-family=\"sans-serif\" font-size=\"11\" lengthAdjust=\"spacingAndGlyphs\" textLength=\"32\" x=\"13\" y=\"160.7808\">test x</text><line style=\"stroke: #383838; stroke-width: 1.0;\" x1=\"8\" x2=\"11\" y1=\"144.168\" y2=\"144.168\"/><text fill=\"#000000\" font-family=\"sans-serif\" font-size=\"11\" lengthAdjust=\"spacingAndGlyphs\" textLength=\"83\" x=\"11\" y=\"147.4761\">decisionNodes</text><line style=\"stroke: #383838; stroke-width: 1.0;\" x1=\"94\" x2=\"97\" y1=\"144.168\" y2=\"144.168\"/><text fill=\"#000000\" font-family=\"sans-serif\" font-size=\"11\" lengthAdjust=\"spacingAndGlyphs\" textLength=\"8\" x=\"13\" y=\"190.3901\">S</text><line style=\"stroke: #383838; stroke-width: 1.0;\" x1=\"8\" x2=\"22\" y1=\"173.7773\" y2=\"173.7773\"/><text fill=\"#000000\" font-family=\"sans-serif\" font-size=\"11\" lengthAdjust=\"spacingAndGlyphs\" textLength=\"61\" x=\"22\" y=\"177.0854\">transitions</text><line style=\"stroke: #383838; stroke-width: 1.0;\" x1=\"83\" x2=\"97\" y1=\"173.7773\" y2=\"173.7773\"/></a><!--MD5=[408ccef7947d2f5dd9661455b8e7fd57]\n",
       "@startuml\r\n",
       "top to bottom direction\r\n",
       "skinparam monochrome true\r\n",
       "skinparam classbackgroundcolor white\r\n",
       "skinparam shadowing false\r\n",
       "skinparam wrapWidth 300\r\n",
       "hide circle\r\n",
       "\r\n",
       "comp def \"DecisionTest\" as E1  <<(T,blue)action def>> [[psysml:a3695254-583a-41e6-95b4-07f76a5805ed ]] {\r\n",
       "- - attributes - -\r\n",
       "x\r\n",
       "- - actions - -\r\n",
       "A1\r\n",
       "A2\r\n",
       "A3\r\n",
       "- - decisionNodes - -\r\n",
       "test x\r\n",
       "- - transitions - -\r\n",
       "S\r\n",
       "}\r\n",
       "@enduml\r\n",
       "\n",
       "PlantUML version 1.2020.13(Sat Jun 13 12:26:38 UTC 2020)\n",
       "(EPL source distribution)\n",
       "Java Runtime: OpenJDK Runtime Environment\n",
       "JVM: OpenJDK 64-Bit Server VM\n",
       "Default Encoding: UTF-8\n",
       "Language: en\n",
       "Country: null\n",
       "--></g></svg>"
      ]
     },
     "execution_count": 45,
     "metadata": {},
     "output_type": "execute_result"
    }
   ],
   "source": [
    "%viz --style=\"TB\" --view=\"Tree\" \"DecisionTest\""
   ]
  },
  {
   "cell_type": "code",
   "execution_count": 46,
   "id": "devoted-moldova",
   "metadata": {
    "execution": {
     "iopub.execute_input": "2021-03-25T13:22:50.626763Z",
     "iopub.status.busy": "2021-03-25T13:22:50.626252Z",
     "iopub.status.idle": "2021-03-25T13:22:50.632774Z",
     "shell.execute_reply": "2021-03-25T13:22:50.633466Z"
    }
   },
   "outputs": [
    {
     "data": {
      "image/svg+xml": [
       "<?xml version=\"1.0\" encoding=\"UTF-8\" standalone=\"no\"?><svg xmlns=\"http://www.w3.org/2000/svg\" xmlns:xlink=\"http://www.w3.org/1999/xlink\" contentScriptType=\"application/ecmascript\" contentStyleType=\"text/css\" height=\"12px\" preserveAspectRatio=\"none\" style=\"width:12px;height:12px;\" version=\"1.1\" viewBox=\"0 0 12 12\" width=\"12px\" zoomAndPan=\"magnify\"><defs/><g><!--MD5=[f4ee21bc66e489b5061b7c3e9601fdef]\n",
       "@startuml\r\n",
       "top to bottom direction\r\n",
       "skinparam monochrome true\r\n",
       "skinparam classbackgroundcolor white\r\n",
       "skinparam shadowing false\r\n",
       "skinparam wrapWidth 300\r\n",
       "hide circle\r\n",
       "\r\n",
       "@enduml\r\n",
       "\n",
       "PlantUML version 1.2020.13(Sat Jun 13 12:26:38 UTC 2020)\n",
       "(EPL source distribution)\n",
       "Java Runtime: OpenJDK Runtime Environment\n",
       "JVM: OpenJDK 64-Bit Server VM\n",
       "Default Encoding: UTF-8\n",
       "Language: en\n",
       "Country: null\n",
       "--></g></svg>"
      ]
     },
     "execution_count": 46,
     "metadata": {},
     "output_type": "execute_result"
    }
   ],
   "source": [
    "%viz --style=\"TB\" --view=\"State\" \"DecisionTest\""
   ]
  },
  {
   "cell_type": "code",
   "execution_count": 47,
   "id": "acute-civilization",
   "metadata": {
    "execution": {
     "iopub.execute_input": "2021-03-25T13:22:50.683565Z",
     "iopub.status.busy": "2021-03-25T13:22:50.682798Z",
     "iopub.status.idle": "2021-03-25T13:22:50.715940Z",
     "shell.execute_reply": "2021-03-25T13:22:50.715410Z"
    }
   },
   "outputs": [
    {
     "data": {
      "image/svg+xml": [
       "<?xml version=\"1.0\" encoding=\"UTF-8\" standalone=\"no\"?><svg xmlns=\"http://www.w3.org/2000/svg\" xmlns:xlink=\"http://www.w3.org/1999/xlink\" contentScriptType=\"application/ecmascript\" contentStyleType=\"text/css\" height=\"60px\" preserveAspectRatio=\"none\" style=\"width:109px;height:60px;\" version=\"1.1\" viewBox=\"0 0 109 60\" width=\"109px\" zoomAndPan=\"magnify\"><defs/><g><g id=\"E1\"><a href=\"psysml:a3695254-583a-41e6-95b4-07f76a5805ed\" target=\"_top\" title=\"psysml:a3695254-583a-41e6-95b4-07f76a5805ed\" xlink:actuate=\"onRequest\" xlink:href=\"psysml:a3695254-583a-41e6-95b4-07f76a5805ed\" xlink:show=\"new\" xlink:title=\"psysml:a3695254-583a-41e6-95b4-07f76a5805ed\" xlink:type=\"simple\"><rect fill=\"#FFFFFF\" height=\"42.9375\" id=\"E1\" style=\"stroke: #383838; stroke-width: 1.5;\" width=\"91\" x=\"7\" y=\"7\"/><rect fill=\"#F8F8F8\" height=\"37.9375\" style=\"stroke: #383838; stroke-width: 1.5;\" width=\"91\" x=\"7\" y=\"7\"/><text fill=\"#000000\" font-family=\"sans-serif\" font-size=\"12\" font-style=\"italic\" lengthAdjust=\"spacingAndGlyphs\" textLength=\"77\" x=\"14\" y=\"23.1387\">«action def»</text><text fill=\"#000000\" font-family=\"sans-serif\" font-size=\"12\" lengthAdjust=\"spacingAndGlyphs\" textLength=\"80\" x=\"12.5\" y=\"37.1074\">DecisionTest</text></a></g><!--MD5=[7bec4236918bd30aafef852adf3c47d9]\n",
       "@startuml\r\n",
       "skinparam ranksep 8\r\n",
       "skinparam rectangle {\r\n",
       " backgroundColor<<block>> LightGreen\r\n",
       "}\r\n",
       "top to bottom direction\r\n",
       "skinparam monochrome true\r\n",
       "skinparam classbackgroundcolor white\r\n",
       "skinparam shadowing false\r\n",
       "skinparam wrapWidth 300\r\n",
       "hide circle\r\n",
       "\r\n",
       "def \"DecisionTest\" as E1  <<(T,blue)action def>> [[psysml:a3695254-583a-41e6-95b4-07f76a5805ed ]] \r\n",
       "@enduml\r\n",
       "\n",
       "PlantUML version 1.2020.13(Sat Jun 13 12:26:38 UTC 2020)\n",
       "(EPL source distribution)\n",
       "Java Runtime: OpenJDK Runtime Environment\n",
       "JVM: OpenJDK 64-Bit Server VM\n",
       "Default Encoding: UTF-8\n",
       "Language: en\n",
       "Country: null\n",
       "--></g></svg>"
      ]
     },
     "execution_count": 47,
     "metadata": {},
     "output_type": "execute_result"
    }
   ],
   "source": [
    "%viz --style=\"TB\" --view=\"Interconnection\" \"DecisionTest\""
   ]
  },
  {
   "cell_type": "code",
   "execution_count": 48,
   "id": "attended-viking",
   "metadata": {
    "execution": {
     "iopub.execute_input": "2021-03-25T13:22:50.769824Z",
     "iopub.status.busy": "2021-03-25T13:22:50.769104Z",
     "iopub.status.idle": "2021-03-25T13:22:50.795272Z",
     "shell.execute_reply": "2021-03-25T13:22:50.793682Z"
    }
   },
   "outputs": [
    {
     "data": {
      "image/svg+xml": [
       "<?xml version=\"1.0\" encoding=\"UTF-8\" standalone=\"no\"?><svg xmlns=\"http://www.w3.org/2000/svg\" xmlns:xlink=\"http://www.w3.org/1999/xlink\" contentScriptType=\"application/ecmascript\" contentStyleType=\"text/css\" height=\"304px\" preserveAspectRatio=\"none\" style=\"width:877px;height:304px;background:#000000;\" version=\"1.1\" viewBox=\"0 0 877 304\" width=\"877px\" zoomAndPan=\"magnify\"><defs/><g><rect fill=\"#24111A\" height=\"1\" style=\"stroke: #24111A; stroke-width: 1.0;\" width=\"1\" x=\"0\" y=\"0\"/><rect fill=\"#33FF02\" height=\"21.2969\" style=\"stroke: #33FF02; stroke-width: 1.0;\" width=\"870\" x=\"5\" y=\"5\"/><text fill=\"#000000\" font-family=\"sans-serif\" font-size=\"14\" font-weight=\"bold\" lengthAdjust=\"spacingAndGlyphs\" textLength=\"178\" x=\"6\" y=\"20\">[From string (line 15) ]</text><text fill=\"#33FF02\" font-family=\"sans-serif\" font-size=\"14\" font-weight=\"bold\" lengthAdjust=\"spacingAndGlyphs\" textLength=\"0\" x=\"10\" y=\"40.2969\"/><text fill=\"#33FF02\" font-family=\"sans-serif\" font-size=\"14\" font-weight=\"bold\" lengthAdjust=\"spacingAndGlyphs\" textLength=\"79\" x=\"5\" y=\"56.5938\">@startuml</text><text fill=\"#33FF02\" font-family=\"sans-serif\" font-size=\"14\" font-weight=\"bold\" lengthAdjust=\"spacingAndGlyphs\" textLength=\"165\" x=\"5\" y=\"72.8906\">skinparam ranksep 8</text><text fill=\"#33FF02\" font-family=\"sans-serif\" font-size=\"14\" font-weight=\"bold\" lengthAdjust=\"spacingAndGlyphs\" textLength=\"183\" x=\"5\" y=\"89.1875\">top to bottom direction</text><text fill=\"#33FF02\" font-family=\"sans-serif\" font-size=\"14\" font-weight=\"bold\" lengthAdjust=\"spacingAndGlyphs\" textLength=\"228\" x=\"5\" y=\"105.4844\">skinparam monochrome true</text><text fill=\"#33FF02\" font-family=\"sans-serif\" font-size=\"14\" font-weight=\"bold\" lengthAdjust=\"spacingAndGlyphs\" textLength=\"309\" x=\"5\" y=\"121.7813\">skinparam classbackgroundcolor white</text><text fill=\"#33FF02\" font-family=\"sans-serif\" font-size=\"14\" font-weight=\"bold\" lengthAdjust=\"spacingAndGlyphs\" textLength=\"215\" x=\"5\" y=\"138.0781\">skinparam shadowing false</text><text fill=\"#33FF02\" font-family=\"sans-serif\" font-size=\"14\" font-weight=\"bold\" lengthAdjust=\"spacingAndGlyphs\" textLength=\"206\" x=\"5\" y=\"154.375\">skinparam wrapWidth 300</text><text fill=\"#33FF02\" font-family=\"sans-serif\" font-size=\"14\" font-weight=\"bold\" lengthAdjust=\"spacingAndGlyphs\" textLength=\"82\" x=\"5\" y=\"170.6719\">hide circle</text><text fill=\"#33FF02\" font-family=\"sans-serif\" font-size=\"14\" font-weight=\"bold\" lengthAdjust=\"spacingAndGlyphs\" textLength=\"0\" x=\"10\" y=\"186.9688\"/><text fill=\"#33FF02\" font-family=\"sans-serif\" font-size=\"14\" font-weight=\"bold\" lengthAdjust=\"spacingAndGlyphs\" textLength=\"870\" x=\"5\" y=\"203.2656\">rec def \"DecisionTest\" as E1  &lt;&lt;(T,blue)action def&gt;&gt; [[psysml:a3695254-583a-41e6-95b4-07f76a5805ed ]] {</text><text fill=\"#33FF02\" font-family=\"sans-serif\" font-size=\"14\" font-weight=\"bold\" lengthAdjust=\"spacingAndGlyphs\" textLength=\"623\" x=\"5\" y=\"219.5625\">portout \"$result\" as E2  [[psysml:736cbe2e-e614-4ea2-922e-635e617bb808 ]]</text><text fill=\"#33FF02\" font-family=\"sans-serif\" font-size=\"14\" font-weight=\"bold\" lengthAdjust=\"spacingAndGlyphs\" textLength=\"861\" x=\"5\" y=\"235.8594\">rec usage \"test x\" as E3  &lt;&lt;(T,blue)decisionNode&gt;&gt; [[psysml:fd19b455-89d5-459d-92f7-d1815185add7 ]] {</text><text fill=\"#33FF02\" font-family=\"sans-serif\" font-size=\"14\" font-weight=\"bold\" lengthAdjust=\"spacingAndGlyphs\" textLength=\"10\" x=\"5\" y=\"252.1563\">}</text><text fill=\"#33FF02\" font-family=\"sans-serif\" font-size=\"14\" font-weight=\"bold\" lengthAdjust=\"spacingAndGlyphs\" textLength=\"0\" x=\"10\" y=\"268.4531\"/><text fill=\"#33FF02\" font-family=\"sans-serif\" font-size=\"14\" font-weight=\"bold\" lengthAdjust=\"spacingAndGlyphs\" textLength=\"10\" x=\"5\" y=\"284.75\">{</text><text fill=\"#FF0000\" font-family=\"sans-serif\" font-size=\"14\" font-weight=\"bold\" lengthAdjust=\"spacingAndGlyphs\" textLength=\"106\" x=\"10\" y=\"301.0469\">Syntax Error?</text><!--MD5=[0891d09ac1c5716c3d230bdda0f1e662]\n",
       "@startuml\r\n",
       "skinparam ranksep 8\r\n",
       "top to bottom direction\r\n",
       "skinparam monochrome true\r\n",
       "skinparam classbackgroundcolor white\r\n",
       "skinparam shadowing false\r\n",
       "skinparam wrapWidth 300\r\n",
       "hide circle\r\n",
       "\r\n",
       "rec def \"DecisionTest\" as E1  <<(T,blue)action def>> [[psysml:a3695254-583a-41e6-95b4-07f76a5805ed ]] {\r\n",
       "portout \"$result\" as E2  [[psysml:736cbe2e-e614-4ea2-922e-635e617bb808 ]] \r\n",
       "rec usage \"test x\" as E3  <<(T,blue)decisionNode>> [[psysml:fd19b455-89d5-459d-92f7-d1815185add7 ]] {\r\n",
       "}\r\n",
       "\r\n",
       "{\r\n",
       "portout \"$result\" as E4  [[psysml:6d4a6456-a7ec-4177-87e4-ea5c100c5f7a ]] \r\n",
       "portin \"$x\" as E5  [[psysml:810bc03f-55fb-40a2-b55c-bd606a6d8860 ]] \r\n",
       "portin \"$y\" as E6  [[psysml:9b327a8e-6a1a-4f88-b23a-313c42dc41ad ]] \r\n",
       "portout \"$result\" as E7  [[psysml:3482b99c-6d5f-462a-981f-843523b909ab ]] \r\n",
       "}\r\n",
       "\r\n",
       "{\r\n",
       "portout \"$result\" as E8  [[psysml:8d6fc5ff-5a7b-4326-8fe2-a1e00b49613b ]] \r\n",
       "portin \"$x\" as E9  [[psysml:46b1300e-a73a-4c43-b5e8-ea161bf29b84 ]] \r\n",
       "portin \"$y\" as E10  [[psysml:4c9eaf15-63e7-4329-aa99-8209cbaf88bd ]] \r\n",
       "portout \"$result\" as E11  [[psysml:db374472-9b3d-40ef-87c4-0779379afe59 ]] \r\n",
       "}\r\n",
       "\r\n",
       "{\r\n",
       "}\r\n",
       "\r\n",
       "{\r\n",
       "}\r\n",
       "\r\n",
       "{\r\n",
       "portout \"$result\" as E12  [[psysml:e0510f13-cf5f-43a3-a7c7-2804245d6335 ]] \r\n",
       "}\r\n",
       "\r\n",
       "{\r\n",
       "portout \"$result\" as E13  [[psysml:bcae0eca-1466-485e-a896-a9c2508efe87 ]] \r\n",
       "}\r\n",
       "\r\n",
       "rec usage \"A1\" as E14  <<(T,blue)action>> [[psysml:fe5e89f6-2dc9-4b0f-8489-37aae8d1db14 ]] {\r\n",
       "}\r\n",
       "\r\n",
       "rec usage \"A2\" as E15  <<(T,blue)action>> [[psysml:4cc0bf78-e417-49bc-8d88-351983c62136 ]] {\r\n",
       "}\r\n",
       "\r\n",
       "rec usage \"A3\" as E16  <<(T,blue)action>> [[psysml:b76bbc08-81d4-47ab-9a49-666299d123cf ]] {\r\n",
       "}\r\n",
       "\r\n",
       "rec usage \"S\" as E17  <<(T,blue)transition>> [[psysml:fe245d46-438e-4c8f-ab18-310121fc2f41 ]] {\r\n",
       "rec usage \"A1\" as E18  <<(T,blue)action>> [[psysml:fe5e89f6-2dc9-4b0f-8489-37aae8d1db14 ]] {\r\n",
       "}\r\n",
       "\r\n",
       "portout \"$result\" as E19  [[psysml:5f694de1-2ca1-44b7-80b3-60a608cc3133 ]] \r\n",
       "portin \"$x\" as E20  [[psysml:8143e50d-1193-4d25-859f-77f062ba674d ]] \r\n",
       "portin \"$y\" as E21  [[psysml:ba8e69b2-a3c6-4a24-b7d7-ae4c7f563c95 ]] \r\n",
       "portout \"$result\" as E22  [[psysml:24237d18-6666-403f-9475-d2e8cf84f852 ]] \r\n",
       "}\r\n",
       "\r\n",
       "rec usage \"A3\" as E23  <<(T,blue)action>> [[psysml:b76bbc08-81d4-47ab-9a49-666299d123cf ]] {\r\n",
       "}\r\n",
       "\r\n",
       "{\r\n",
       "portout \"$result\" as E24  [[psysml:f904355a-9712-4e0c-a9b6-5ecdd1390be6 ]] \r\n",
       "portin \"$x\" as E25  [[psysml:c4435769-fd75-4fbf-95a7-29566a6c8186 ]] \r\n",
       "portin \"$y\" as E26  [[psysml:e2db5bbd-dd5d-422a-81f2-d836869b1ec1 ]] \r\n",
       "portout \"$result\" as E27  [[psysml:f774fe7e-8d66-439a-b027-16ceb2b41e9d ]] \r\n",
       "}\r\n",
       "\r\n",
       "}\r\n",
       "\r\n",
       "E6 -[thickness=5]- E4 [[psysml:22575a94-d313-4c92-b3bf-e872aff40b38 ]] \r\n",
       "E10 -[thickness=5]- E8 [[psysml:468e3065-35eb-4f7a-b0d7-b4ac24204b50 ]] \r\n",
       "E21 -[thickness=5]- E19 [[psysml:6eff49c6-4c1b-4a79-924a-d43d01989d36 ]] \r\n",
       "E26 -[thickness=5]- E24 [[psysml:02504f01-5bd4-4b5c-8fa7-2e89e01e6fe9 ]] \r\n",
       "@enduml\r\n",
       "\n",
       "PlantUML version 1.2020.13(Sat Jun 13 12:26:38 UTC 2020)\n",
       "(EPL source distribution)\n",
       "Java Runtime: OpenJDK Runtime Environment\n",
       "JVM: OpenJDK 64-Bit Server VM\n",
       "Default Encoding: UTF-8\n",
       "Language: en\n",
       "Country: null\n",
       "--></g></svg>"
      ]
     },
     "execution_count": 48,
     "metadata": {},
     "output_type": "execute_result"
    }
   ],
   "source": [
    "%viz --style=\"TB\" --view=\"Action\" \"DecisionTest\""
   ]
  },
  {
   "cell_type": "code",
   "execution_count": 49,
   "id": "female-bacon",
   "metadata": {
    "execution": {
     "iopub.execute_input": "2021-03-25T13:22:50.848920Z",
     "iopub.status.busy": "2021-03-25T13:22:50.848162Z",
     "iopub.status.idle": "2021-03-25T13:22:51.292527Z",
     "shell.execute_reply": "2021-03-25T13:22:51.293078Z"
    }
   },
   "outputs": [
    {
     "data": {
      "image/svg+xml": [
       "<?xml version=\"1.0\" encoding=\"UTF-8\" standalone=\"no\"?><svg xmlns=\"http://www.w3.org/2000/svg\" xmlns:xlink=\"http://www.w3.org/1999/xlink\" contentScriptType=\"application/ecmascript\" contentStyleType=\"text/css\" height=\"207px\" preserveAspectRatio=\"none\" style=\"width:109px;height:207px;\" version=\"1.1\" viewBox=\"0 0 109 207\" width=\"109px\" zoomAndPan=\"magnify\"><defs/><g><!--MD5=[43c9051892ef23e1a46a86907403d788]\n",
       "class E1--><a href=\"psysml:a3695254-583a-41e6-95b4-07f76a5805ed\" target=\"_top\" title=\"psysml:a3695254-583a-41e6-95b4-07f76a5805ed\" xlink:actuate=\"onRequest\" xlink:href=\"psysml:a3695254-583a-41e6-95b4-07f76a5805ed\" xlink:show=\"new\" xlink:title=\"psysml:a3695254-583a-41e6-95b4-07f76a5805ed\" xlink:type=\"simple\"><rect fill=\"#FFFFFF\" height=\"189.9844\" id=\"E1\" style=\"stroke: #383838; stroke-width: 1.5;\" width=\"91\" x=\"7\" y=\"7\"/><text fill=\"#000000\" font-family=\"sans-serif\" font-size=\"12\" font-style=\"italic\" lengthAdjust=\"spacingAndGlyphs\" textLength=\"77\" x=\"14\" y=\"23.1387\">«action def»</text><text fill=\"#000000\" font-family=\"sans-serif\" font-size=\"12\" lengthAdjust=\"spacingAndGlyphs\" textLength=\"80\" x=\"12.5\" y=\"37.1074\">DecisionTest</text><line style=\"stroke: #383838; stroke-width: 1.5;\" x1=\"8\" x2=\"97\" y1=\"44.9375\" y2=\"44.9375\"/><text fill=\"#000000\" font-family=\"sans-serif\" font-size=\"11\" lengthAdjust=\"spacingAndGlyphs\" textLength=\"6\" x=\"13\" y=\"75.9526\">x</text><line style=\"stroke: #383838; stroke-width: 1.0;\" x1=\"8\" x2=\"25\" y1=\"59.3398\" y2=\"59.3398\"/><text fill=\"#000000\" font-family=\"sans-serif\" font-size=\"11\" lengthAdjust=\"spacingAndGlyphs\" textLength=\"55\" x=\"25\" y=\"62.6479\">attributes</text><line style=\"stroke: #383838; stroke-width: 1.0;\" x1=\"80\" x2=\"97\" y1=\"59.3398\" y2=\"59.3398\"/><text fill=\"#000000\" font-family=\"sans-serif\" font-size=\"11\" lengthAdjust=\"spacingAndGlyphs\" textLength=\"14\" x=\"13\" y=\"105.562\">A1</text><text fill=\"#000000\" font-family=\"sans-serif\" font-size=\"11\" lengthAdjust=\"spacingAndGlyphs\" textLength=\"14\" x=\"13\" y=\"118.3667\">A2</text><text fill=\"#000000\" font-family=\"sans-serif\" font-size=\"11\" lengthAdjust=\"spacingAndGlyphs\" textLength=\"14\" x=\"13\" y=\"131.1714\">A3</text><line style=\"stroke: #383838; stroke-width: 1.0;\" x1=\"8\" x2=\"32\" y1=\"88.9492\" y2=\"88.9492\"/><text fill=\"#000000\" font-family=\"sans-serif\" font-size=\"11\" lengthAdjust=\"spacingAndGlyphs\" textLength=\"41\" x=\"32\" y=\"92.2573\">actions</text><line style=\"stroke: #383838; stroke-width: 1.0;\" x1=\"73\" x2=\"97\" y1=\"88.9492\" y2=\"88.9492\"/><text fill=\"#000000\" font-family=\"sans-serif\" font-size=\"11\" lengthAdjust=\"spacingAndGlyphs\" textLength=\"32\" x=\"13\" y=\"160.7808\">test x</text><line style=\"stroke: #383838; stroke-width: 1.0;\" x1=\"8\" x2=\"11\" y1=\"144.168\" y2=\"144.168\"/><text fill=\"#000000\" font-family=\"sans-serif\" font-size=\"11\" lengthAdjust=\"spacingAndGlyphs\" textLength=\"83\" x=\"11\" y=\"147.4761\">decisionNodes</text><line style=\"stroke: #383838; stroke-width: 1.0;\" x1=\"94\" x2=\"97\" y1=\"144.168\" y2=\"144.168\"/><text fill=\"#000000\" font-family=\"sans-serif\" font-size=\"11\" lengthAdjust=\"spacingAndGlyphs\" textLength=\"8\" x=\"13\" y=\"190.3901\">S</text><line style=\"stroke: #383838; stroke-width: 1.0;\" x1=\"8\" x2=\"22\" y1=\"173.7773\" y2=\"173.7773\"/><text fill=\"#000000\" font-family=\"sans-serif\" font-size=\"11\" lengthAdjust=\"spacingAndGlyphs\" textLength=\"61\" x=\"22\" y=\"177.0854\">transitions</text><line style=\"stroke: #383838; stroke-width: 1.0;\" x1=\"83\" x2=\"97\" y1=\"173.7773\" y2=\"173.7773\"/></a><!--MD5=[408ccef7947d2f5dd9661455b8e7fd57]\n",
       "@startuml\r\n",
       "top to bottom direction\r\n",
       "skinparam monochrome true\r\n",
       "skinparam classbackgroundcolor white\r\n",
       "skinparam shadowing false\r\n",
       "skinparam wrapWidth 300\r\n",
       "hide circle\r\n",
       "\r\n",
       "comp def \"DecisionTest\" as E1  <<(T,blue)action def>> [[psysml:a3695254-583a-41e6-95b4-07f76a5805ed ]] {\r\n",
       "- - attributes - -\r\n",
       "x\r\n",
       "- - actions - -\r\n",
       "A1\r\n",
       "A2\r\n",
       "A3\r\n",
       "- - decisionNodes - -\r\n",
       "test x\r\n",
       "- - transitions - -\r\n",
       "S\r\n",
       "}\r\n",
       "@enduml\r\n",
       "\n",
       "PlantUML version 1.2020.13(Sat Jun 13 12:26:38 UTC 2020)\n",
       "(EPL source distribution)\n",
       "Java Runtime: OpenJDK Runtime Environment\n",
       "JVM: OpenJDK 64-Bit Server VM\n",
       "Default Encoding: UTF-8\n",
       "Language: en\n",
       "Country: null\n",
       "--></g></svg>"
      ]
     },
     "execution_count": 49,
     "metadata": {},
     "output_type": "execute_result"
    }
   ],
   "source": [
    "%viz --style=\"TB\" --view=\"Sequence\" \"DecisionTest\""
   ]
  },
  {
   "cell_type": "code",
   "execution_count": 50,
   "id": "optical-registrar",
   "metadata": {
    "execution": {
     "iopub.execute_input": "2021-03-25T13:22:51.343963Z",
     "iopub.status.busy": "2021-03-25T13:22:51.343399Z",
     "iopub.status.idle": "2021-03-25T13:22:51.369715Z",
     "shell.execute_reply": "2021-03-25T13:22:51.367956Z"
    }
   },
   "outputs": [
    {
     "data": {
      "image/svg+xml": [
       "<?xml version=\"1.0\" encoding=\"UTF-8\" standalone=\"no\"?><svg xmlns=\"http://www.w3.org/2000/svg\" xmlns:xlink=\"http://www.w3.org/1999/xlink\" contentScriptType=\"application/ecmascript\" contentStyleType=\"text/css\" height=\"288px\" preserveAspectRatio=\"none\" style=\"width:877px;height:288px;background:#000000;\" version=\"1.1\" viewBox=\"0 0 877 288\" width=\"877px\" zoomAndPan=\"magnify\"><defs/><g><rect fill=\"#041101\" height=\"1\" style=\"stroke: #041101; stroke-width: 1.0;\" width=\"1\" x=\"0\" y=\"0\"/><rect fill=\"#33FF02\" height=\"21.2969\" style=\"stroke: #33FF02; stroke-width: 1.0;\" width=\"870\" x=\"5\" y=\"5\"/><text fill=\"#000000\" font-family=\"sans-serif\" font-size=\"14\" font-weight=\"bold\" lengthAdjust=\"spacingAndGlyphs\" textLength=\"178\" x=\"6\" y=\"20\">[From string (line 14) ]</text><text fill=\"#33FF02\" font-family=\"sans-serif\" font-size=\"14\" font-weight=\"bold\" lengthAdjust=\"spacingAndGlyphs\" textLength=\"0\" x=\"10\" y=\"40.2969\"/><text fill=\"#33FF02\" font-family=\"sans-serif\" font-size=\"14\" font-weight=\"bold\" lengthAdjust=\"spacingAndGlyphs\" textLength=\"79\" x=\"5\" y=\"56.5938\">@startuml</text><text fill=\"#33FF02\" font-family=\"sans-serif\" font-size=\"14\" font-weight=\"bold\" lengthAdjust=\"spacingAndGlyphs\" textLength=\"183\" x=\"5\" y=\"72.8906\">top to bottom direction</text><text fill=\"#33FF02\" font-family=\"sans-serif\" font-size=\"14\" font-weight=\"bold\" lengthAdjust=\"spacingAndGlyphs\" textLength=\"228\" x=\"5\" y=\"89.1875\">skinparam monochrome true</text><text fill=\"#33FF02\" font-family=\"sans-serif\" font-size=\"14\" font-weight=\"bold\" lengthAdjust=\"spacingAndGlyphs\" textLength=\"309\" x=\"5\" y=\"105.4844\">skinparam classbackgroundcolor white</text><text fill=\"#33FF02\" font-family=\"sans-serif\" font-size=\"14\" font-weight=\"bold\" lengthAdjust=\"spacingAndGlyphs\" textLength=\"215\" x=\"5\" y=\"121.7813\">skinparam shadowing false</text><text fill=\"#33FF02\" font-family=\"sans-serif\" font-size=\"14\" font-weight=\"bold\" lengthAdjust=\"spacingAndGlyphs\" textLength=\"206\" x=\"5\" y=\"138.0781\">skinparam wrapWidth 300</text><text fill=\"#33FF02\" font-family=\"sans-serif\" font-size=\"14\" font-weight=\"bold\" lengthAdjust=\"spacingAndGlyphs\" textLength=\"82\" x=\"5\" y=\"154.375\">hide circle</text><text fill=\"#33FF02\" font-family=\"sans-serif\" font-size=\"14\" font-weight=\"bold\" lengthAdjust=\"spacingAndGlyphs\" textLength=\"0\" x=\"10\" y=\"170.6719\"/><text fill=\"#33FF02\" font-family=\"sans-serif\" font-size=\"14\" font-weight=\"bold\" lengthAdjust=\"spacingAndGlyphs\" textLength=\"870\" x=\"5\" y=\"186.9688\">rec def \"DecisionTest\" as E1  &lt;&lt;(T,blue)action def&gt;&gt; [[psysml:a3695254-583a-41e6-95b4-07f76a5805ed ]] {</text><text fill=\"#33FF02\" font-family=\"sans-serif\" font-size=\"14\" font-weight=\"bold\" lengthAdjust=\"spacingAndGlyphs\" textLength=\"623\" x=\"5\" y=\"203.2656\">portout \"$result\" as E2  [[psysml:736cbe2e-e614-4ea2-922e-635e617bb808 ]]</text><text fill=\"#33FF02\" font-family=\"sans-serif\" font-size=\"14\" font-weight=\"bold\" lengthAdjust=\"spacingAndGlyphs\" textLength=\"861\" x=\"5\" y=\"219.5625\">rec usage \"test x\" as E3  &lt;&lt;(T,blue)decisionNode&gt;&gt; [[psysml:fd19b455-89d5-459d-92f7-d1815185add7 ]] {</text><text fill=\"#33FF02\" font-family=\"sans-serif\" font-size=\"14\" font-weight=\"bold\" lengthAdjust=\"spacingAndGlyphs\" textLength=\"10\" x=\"5\" y=\"235.8594\">}</text><text fill=\"#33FF02\" font-family=\"sans-serif\" font-size=\"14\" font-weight=\"bold\" lengthAdjust=\"spacingAndGlyphs\" textLength=\"0\" x=\"10\" y=\"252.1563\"/><text fill=\"#33FF02\" font-family=\"sans-serif\" font-size=\"14\" font-weight=\"bold\" lengthAdjust=\"spacingAndGlyphs\" textLength=\"10\" x=\"5\" y=\"268.4531\">{</text><text fill=\"#FF0000\" font-family=\"sans-serif\" font-size=\"14\" font-weight=\"bold\" lengthAdjust=\"spacingAndGlyphs\" textLength=\"106\" x=\"10\" y=\"284.75\">Syntax Error?</text><!--MD5=[691cb6c17320c62e52171d0a23cf52bf]\n",
       "@startuml\r\n",
       "top to bottom direction\r\n",
       "skinparam monochrome true\r\n",
       "skinparam classbackgroundcolor white\r\n",
       "skinparam shadowing false\r\n",
       "skinparam wrapWidth 300\r\n",
       "hide circle\r\n",
       "\r\n",
       "rec def \"DecisionTest\" as E1  <<(T,blue)action def>> [[psysml:a3695254-583a-41e6-95b4-07f76a5805ed ]] {\r\n",
       "portout \"$result\" as E2  [[psysml:736cbe2e-e614-4ea2-922e-635e617bb808 ]] \r\n",
       "rec usage \"test x\" as E3  <<(T,blue)decisionNode>> [[psysml:fd19b455-89d5-459d-92f7-d1815185add7 ]] {\r\n",
       "}\r\n",
       "\r\n",
       "{\r\n",
       "portout \"$result\" as E4  [[psysml:6d4a6456-a7ec-4177-87e4-ea5c100c5f7a ]] \r\n",
       "portin \"$x\" as E5  [[psysml:810bc03f-55fb-40a2-b55c-bd606a6d8860 ]] \r\n",
       "portin \"$y\" as E6  [[psysml:9b327a8e-6a1a-4f88-b23a-313c42dc41ad ]] \r\n",
       "portout \"$result\" as E7  [[psysml:3482b99c-6d5f-462a-981f-843523b909ab ]] \r\n",
       "}\r\n",
       "\r\n",
       "{\r\n",
       "portout \"$result\" as E8  [[psysml:8d6fc5ff-5a7b-4326-8fe2-a1e00b49613b ]] \r\n",
       "portin \"$x\" as E9  [[psysml:46b1300e-a73a-4c43-b5e8-ea161bf29b84 ]] \r\n",
       "portin \"$y\" as E10  [[psysml:4c9eaf15-63e7-4329-aa99-8209cbaf88bd ]] \r\n",
       "portout \"$result\" as E11  [[psysml:db374472-9b3d-40ef-87c4-0779379afe59 ]] \r\n",
       "}\r\n",
       "\r\n",
       "{\r\n",
       "}\r\n",
       "\r\n",
       "{\r\n",
       "}\r\n",
       "\r\n",
       "{\r\n",
       "portout \"$result\" as E12  [[psysml:e0510f13-cf5f-43a3-a7c7-2804245d6335 ]] \r\n",
       "}\r\n",
       "\r\n",
       "{\r\n",
       "portout \"$result\" as E13  [[psysml:bcae0eca-1466-485e-a896-a9c2508efe87 ]] \r\n",
       "}\r\n",
       "\r\n",
       "rec usage \"A1\" as E14  <<(T,blue)action>> [[psysml:fe5e89f6-2dc9-4b0f-8489-37aae8d1db14 ]] {\r\n",
       "}\r\n",
       "\r\n",
       "rec usage \"A2\" as E15  <<(T,blue)action>> [[psysml:4cc0bf78-e417-49bc-8d88-351983c62136 ]] {\r\n",
       "}\r\n",
       "\r\n",
       "rec usage \"A3\" as E16  <<(T,blue)action>> [[psysml:b76bbc08-81d4-47ab-9a49-666299d123cf ]] {\r\n",
       "}\r\n",
       "\r\n",
       "rec usage \"S\" as E17  <<(T,blue)transition>> [[psysml:fe245d46-438e-4c8f-ab18-310121fc2f41 ]] {\r\n",
       "rec usage \"A1\" as E18  <<(T,blue)action>> [[psysml:fe5e89f6-2dc9-4b0f-8489-37aae8d1db14 ]] {\r\n",
       "}\r\n",
       "\r\n",
       "portout \"$result\" as E19  [[psysml:5f694de1-2ca1-44b7-80b3-60a608cc3133 ]] \r\n",
       "portin \"$x\" as E20  [[psysml:8143e50d-1193-4d25-859f-77f062ba674d ]] \r\n",
       "portin \"$y\" as E21  [[psysml:ba8e69b2-a3c6-4a24-b7d7-ae4c7f563c95 ]] \r\n",
       "portout \"$result\" as E22  [[psysml:24237d18-6666-403f-9475-d2e8cf84f852 ]] \r\n",
       "}\r\n",
       "\r\n",
       "rec usage \"A3\" as E23  <<(T,blue)action>> [[psysml:b76bbc08-81d4-47ab-9a49-666299d123cf ]] {\r\n",
       "}\r\n",
       "\r\n",
       "{\r\n",
       "portout \"$result\" as E24  [[psysml:f904355a-9712-4e0c-a9b6-5ecdd1390be6 ]] \r\n",
       "portin \"$x\" as E25  [[psysml:c4435769-fd75-4fbf-95a7-29566a6c8186 ]] \r\n",
       "portin \"$y\" as E26  [[psysml:e2db5bbd-dd5d-422a-81f2-d836869b1ec1 ]] \r\n",
       "portout \"$result\" as E27  [[psysml:f774fe7e-8d66-439a-b027-16ceb2b41e9d ]] \r\n",
       "}\r\n",
       "\r\n",
       "}\r\n",
       "\r\n",
       "E6 -[thickness=5]- E4 [[psysml:22575a94-d313-4c92-b3bf-e872aff40b38 ]] \r\n",
       "E10 -[thickness=5]- E8 [[psysml:468e3065-35eb-4f7a-b0d7-b4ac24204b50 ]] \r\n",
       "E21 -[thickness=5]- E19 [[psysml:6eff49c6-4c1b-4a79-924a-d43d01989d36 ]] \r\n",
       "E26 -[thickness=5]- E24 [[psysml:02504f01-5bd4-4b5c-8fa7-2e89e01e6fe9 ]] \r\n",
       "@enduml\r\n",
       "\n",
       "PlantUML version 1.2020.13(Sat Jun 13 12:26:38 UTC 2020)\n",
       "(EPL source distribution)\n",
       "Java Runtime: OpenJDK Runtime Environment\n",
       "JVM: OpenJDK 64-Bit Server VM\n",
       "Default Encoding: UTF-8\n",
       "Language: en\n",
       "Country: null\n",
       "--></g></svg>"
      ]
     },
     "execution_count": 50,
     "metadata": {},
     "output_type": "execute_result"
    }
   ],
   "source": [
    "%viz --style=\"TB\" --view=\"MIXED\" \"DecisionTest\""
   ]
  },
  {
   "cell_type": "code",
   "execution_count": 51,
   "id": "gorgeous-plenty",
   "metadata": {
    "execution": {
     "iopub.execute_input": "2021-03-25T13:22:51.420047Z",
     "iopub.status.busy": "2021-03-25T13:22:51.419271Z",
     "iopub.status.idle": "2021-03-25T13:22:51.457576Z",
     "shell.execute_reply": "2021-03-25T13:22:51.458237Z"
    }
   },
   "outputs": [
    {
     "data": {
      "image/svg+xml": [
       "<?xml version=\"1.0\" encoding=\"UTF-8\" standalone=\"no\"?><svg xmlns=\"http://www.w3.org/2000/svg\" xmlns:xlink=\"http://www.w3.org/1999/xlink\" contentScriptType=\"application/ecmascript\" contentStyleType=\"text/css\" height=\"288px\" preserveAspectRatio=\"none\" style=\"width:877px;height:288px;background:#000000;\" version=\"1.1\" viewBox=\"0 0 877 288\" width=\"877px\" zoomAndPan=\"magnify\"><defs/><g><rect fill=\"#271E25\" height=\"1\" style=\"stroke: #271E25; stroke-width: 1.0;\" width=\"1\" x=\"0\" y=\"0\"/><rect fill=\"#33FF02\" height=\"21.2969\" style=\"stroke: #33FF02; stroke-width: 1.0;\" width=\"870\" x=\"5\" y=\"5\"/><text fill=\"#000000\" font-family=\"sans-serif\" font-size=\"14\" font-weight=\"bold\" lengthAdjust=\"spacingAndGlyphs\" textLength=\"178\" x=\"6\" y=\"20\">[From string (line 14) ]</text><text fill=\"#33FF02\" font-family=\"sans-serif\" font-size=\"14\" font-weight=\"bold\" lengthAdjust=\"spacingAndGlyphs\" textLength=\"0\" x=\"10\" y=\"40.2969\"/><text fill=\"#33FF02\" font-family=\"sans-serif\" font-size=\"14\" font-weight=\"bold\" lengthAdjust=\"spacingAndGlyphs\" textLength=\"79\" x=\"5\" y=\"56.5938\">@startuml</text><text fill=\"#33FF02\" font-family=\"sans-serif\" font-size=\"14\" font-weight=\"bold\" lengthAdjust=\"spacingAndGlyphs\" textLength=\"197\" x=\"5\" y=\"72.8906\">skinparam linetype ortho</text><text fill=\"#33FF02\" font-family=\"sans-serif\" font-size=\"14\" font-weight=\"bold\" lengthAdjust=\"spacingAndGlyphs\" textLength=\"228\" x=\"5\" y=\"89.1875\">skinparam monochrome true</text><text fill=\"#33FF02\" font-family=\"sans-serif\" font-size=\"14\" font-weight=\"bold\" lengthAdjust=\"spacingAndGlyphs\" textLength=\"309\" x=\"5\" y=\"105.4844\">skinparam classbackgroundcolor white</text><text fill=\"#33FF02\" font-family=\"sans-serif\" font-size=\"14\" font-weight=\"bold\" lengthAdjust=\"spacingAndGlyphs\" textLength=\"215\" x=\"5\" y=\"121.7813\">skinparam shadowing false</text><text fill=\"#33FF02\" font-family=\"sans-serif\" font-size=\"14\" font-weight=\"bold\" lengthAdjust=\"spacingAndGlyphs\" textLength=\"206\" x=\"5\" y=\"138.0781\">skinparam wrapWidth 300</text><text fill=\"#33FF02\" font-family=\"sans-serif\" font-size=\"14\" font-weight=\"bold\" lengthAdjust=\"spacingAndGlyphs\" textLength=\"82\" x=\"5\" y=\"154.375\">hide circle</text><text fill=\"#33FF02\" font-family=\"sans-serif\" font-size=\"14\" font-weight=\"bold\" lengthAdjust=\"spacingAndGlyphs\" textLength=\"0\" x=\"10\" y=\"170.6719\"/><text fill=\"#33FF02\" font-family=\"sans-serif\" font-size=\"14\" font-weight=\"bold\" lengthAdjust=\"spacingAndGlyphs\" textLength=\"870\" x=\"5\" y=\"186.9688\">rec def \"DecisionTest\" as E1  &lt;&lt;(T,blue)action def&gt;&gt; [[psysml:a3695254-583a-41e6-95b4-07f76a5805ed ]] {</text><text fill=\"#33FF02\" font-family=\"sans-serif\" font-size=\"14\" font-weight=\"bold\" lengthAdjust=\"spacingAndGlyphs\" textLength=\"623\" x=\"5\" y=\"203.2656\">portout \"$result\" as E2  [[psysml:736cbe2e-e614-4ea2-922e-635e617bb808 ]]</text><text fill=\"#33FF02\" font-family=\"sans-serif\" font-size=\"14\" font-weight=\"bold\" lengthAdjust=\"spacingAndGlyphs\" textLength=\"861\" x=\"5\" y=\"219.5625\">rec usage \"test x\" as E3  &lt;&lt;(T,blue)decisionNode&gt;&gt; [[psysml:fd19b455-89d5-459d-92f7-d1815185add7 ]] {</text><text fill=\"#33FF02\" font-family=\"sans-serif\" font-size=\"14\" font-weight=\"bold\" lengthAdjust=\"spacingAndGlyphs\" textLength=\"10\" x=\"5\" y=\"235.8594\">}</text><text fill=\"#33FF02\" font-family=\"sans-serif\" font-size=\"14\" font-weight=\"bold\" lengthAdjust=\"spacingAndGlyphs\" textLength=\"0\" x=\"10\" y=\"252.1563\"/><text fill=\"#33FF02\" font-family=\"sans-serif\" font-size=\"14\" font-weight=\"bold\" lengthAdjust=\"spacingAndGlyphs\" textLength=\"10\" x=\"5\" y=\"268.4531\">{</text><text fill=\"#FF0000\" font-family=\"sans-serif\" font-size=\"14\" font-weight=\"bold\" lengthAdjust=\"spacingAndGlyphs\" textLength=\"106\" x=\"10\" y=\"284.75\">Syntax Error?</text><!--MD5=[46eca4b6e685e793770e4bb1457c1284]\n",
       "@startuml\r\n",
       "skinparam linetype ortho\r\n",
       "skinparam monochrome true\r\n",
       "skinparam classbackgroundcolor white\r\n",
       "skinparam shadowing false\r\n",
       "skinparam wrapWidth 300\r\n",
       "hide circle\r\n",
       "\r\n",
       "rec def \"DecisionTest\" as E1  <<(T,blue)action def>> [[psysml:a3695254-583a-41e6-95b4-07f76a5805ed ]] {\r\n",
       "portout \"$result\" as E2  [[psysml:736cbe2e-e614-4ea2-922e-635e617bb808 ]] \r\n",
       "rec usage \"test x\" as E3  <<(T,blue)decisionNode>> [[psysml:fd19b455-89d5-459d-92f7-d1815185add7 ]] {\r\n",
       "}\r\n",
       "\r\n",
       "{\r\n",
       "portout \"$result\" as E4  [[psysml:6d4a6456-a7ec-4177-87e4-ea5c100c5f7a ]] \r\n",
       "portin \"$x\" as E5  [[psysml:810bc03f-55fb-40a2-b55c-bd606a6d8860 ]] \r\n",
       "portin \"$y\" as E6  [[psysml:9b327a8e-6a1a-4f88-b23a-313c42dc41ad ]] \r\n",
       "portout \"$result\" as E7  [[psysml:3482b99c-6d5f-462a-981f-843523b909ab ]] \r\n",
       "}\r\n",
       "\r\n",
       "{\r\n",
       "portout \"$result\" as E8  [[psysml:8d6fc5ff-5a7b-4326-8fe2-a1e00b49613b ]] \r\n",
       "portin \"$x\" as E9  [[psysml:46b1300e-a73a-4c43-b5e8-ea161bf29b84 ]] \r\n",
       "portin \"$y\" as E10  [[psysml:4c9eaf15-63e7-4329-aa99-8209cbaf88bd ]] \r\n",
       "portout \"$result\" as E11  [[psysml:db374472-9b3d-40ef-87c4-0779379afe59 ]] \r\n",
       "}\r\n",
       "\r\n",
       "{\r\n",
       "}\r\n",
       "\r\n",
       "{\r\n",
       "}\r\n",
       "\r\n",
       "{\r\n",
       "portout \"$result\" as E12  [[psysml:e0510f13-cf5f-43a3-a7c7-2804245d6335 ]] \r\n",
       "}\r\n",
       "\r\n",
       "{\r\n",
       "portout \"$result\" as E13  [[psysml:bcae0eca-1466-485e-a896-a9c2508efe87 ]] \r\n",
       "}\r\n",
       "\r\n",
       "rec usage \"A1\" as E14  <<(T,blue)action>> [[psysml:fe5e89f6-2dc9-4b0f-8489-37aae8d1db14 ]] {\r\n",
       "}\r\n",
       "\r\n",
       "rec usage \"A2\" as E15  <<(T,blue)action>> [[psysml:4cc0bf78-e417-49bc-8d88-351983c62136 ]] {\r\n",
       "}\r\n",
       "\r\n",
       "rec usage \"A3\" as E16  <<(T,blue)action>> [[psysml:b76bbc08-81d4-47ab-9a49-666299d123cf ]] {\r\n",
       "}\r\n",
       "\r\n",
       "rec usage \"S\" as E17  <<(T,blue)transition>> [[psysml:fe245d46-438e-4c8f-ab18-310121fc2f41 ]] {\r\n",
       "rec usage \"A1\" as E18  <<(T,blue)action>> [[psysml:fe5e89f6-2dc9-4b0f-8489-37aae8d1db14 ]] {\r\n",
       "}\r\n",
       "\r\n",
       "portout \"$result\" as E19  [[psysml:5f694de1-2ca1-44b7-80b3-60a608cc3133 ]] \r\n",
       "portin \"$x\" as E20  [[psysml:8143e50d-1193-4d25-859f-77f062ba674d ]] \r\n",
       "portin \"$y\" as E21  [[psysml:ba8e69b2-a3c6-4a24-b7d7-ae4c7f563c95 ]] \r\n",
       "portout \"$result\" as E22  [[psysml:24237d18-6666-403f-9475-d2e8cf84f852 ]] \r\n",
       "}\r\n",
       "\r\n",
       "rec usage \"A3\" as E23  <<(T,blue)action>> [[psysml:b76bbc08-81d4-47ab-9a49-666299d123cf ]] {\r\n",
       "}\r\n",
       "\r\n",
       "{\r\n",
       "portout \"$result\" as E24  [[psysml:f904355a-9712-4e0c-a9b6-5ecdd1390be6 ]] \r\n",
       "portin \"$x\" as E25  [[psysml:c4435769-fd75-4fbf-95a7-29566a6c8186 ]] \r\n",
       "portin \"$y\" as E26  [[psysml:e2db5bbd-dd5d-422a-81f2-d836869b1ec1 ]] \r\n",
       "portout \"$result\" as E27  [[psysml:f774fe7e-8d66-439a-b027-16ceb2b41e9d ]] \r\n",
       "}\r\n",
       "\r\n",
       "}\r\n",
       "\r\n",
       "E6 -[thickness=5]- E4 [[psysml:22575a94-d313-4c92-b3bf-e872aff40b38 ]] \r\n",
       "E10 -[thickness=5]- E8 [[psysml:468e3065-35eb-4f7a-b0d7-b4ac24204b50 ]] \r\n",
       "E21 -[thickness=5]- E19 [[psysml:6eff49c6-4c1b-4a79-924a-d43d01989d36 ]] \r\n",
       "E26 -[thickness=5]- E24 [[psysml:02504f01-5bd4-4b5c-8fa7-2e89e01e6fe9 ]] \r\n",
       "@enduml\r\n",
       "\n",
       "PlantUML version 1.2020.13(Sat Jun 13 12:26:38 UTC 2020)\n",
       "(EPL source distribution)\n",
       "Java Runtime: OpenJDK Runtime Environment\n",
       "JVM: OpenJDK 64-Bit Server VM\n",
       "Default Encoding: UTF-8\n",
       "Language: en\n",
       "Country: null\n",
       "--></g></svg>"
      ]
     },
     "execution_count": 51,
     "metadata": {},
     "output_type": "execute_result"
    }
   ],
   "source": [
    "%viz --style=\"ORTHOLINE\" --view=\"Default\" \"DecisionTest\""
   ]
  },
  {
   "cell_type": "code",
   "execution_count": 52,
   "id": "southern-congress",
   "metadata": {
    "execution": {
     "iopub.execute_input": "2021-03-25T13:22:51.507503Z",
     "iopub.status.busy": "2021-03-25T13:22:51.507017Z",
     "iopub.status.idle": "2021-03-25T13:22:51.927056Z",
     "shell.execute_reply": "2021-03-25T13:22:51.926638Z"
    }
   },
   "outputs": [
    {
     "data": {
      "image/svg+xml": [
       "<?xml version=\"1.0\" encoding=\"UTF-8\" standalone=\"no\"?><svg xmlns=\"http://www.w3.org/2000/svg\" xmlns:xlink=\"http://www.w3.org/1999/xlink\" contentScriptType=\"application/ecmascript\" contentStyleType=\"text/css\" height=\"207px\" preserveAspectRatio=\"none\" style=\"width:109px;height:207px;\" version=\"1.1\" viewBox=\"0 0 109 207\" width=\"109px\" zoomAndPan=\"magnify\"><defs/><g><!--MD5=[43c9051892ef23e1a46a86907403d788]\n",
       "class E1--><a href=\"psysml:a3695254-583a-41e6-95b4-07f76a5805ed\" target=\"_top\" title=\"psysml:a3695254-583a-41e6-95b4-07f76a5805ed\" xlink:actuate=\"onRequest\" xlink:href=\"psysml:a3695254-583a-41e6-95b4-07f76a5805ed\" xlink:show=\"new\" xlink:title=\"psysml:a3695254-583a-41e6-95b4-07f76a5805ed\" xlink:type=\"simple\"><rect fill=\"#FFFFFF\" height=\"189.9844\" id=\"E1\" style=\"stroke: #383838; stroke-width: 1.5;\" width=\"91\" x=\"7\" y=\"7\"/><text fill=\"#000000\" font-family=\"sans-serif\" font-size=\"12\" font-style=\"italic\" lengthAdjust=\"spacingAndGlyphs\" textLength=\"77\" x=\"14\" y=\"23.1387\">«action def»</text><text fill=\"#000000\" font-family=\"sans-serif\" font-size=\"12\" lengthAdjust=\"spacingAndGlyphs\" textLength=\"80\" x=\"12.5\" y=\"37.1074\">DecisionTest</text><line style=\"stroke: #383838; stroke-width: 1.5;\" x1=\"8\" x2=\"97\" y1=\"44.9375\" y2=\"44.9375\"/><text fill=\"#000000\" font-family=\"sans-serif\" font-size=\"11\" lengthAdjust=\"spacingAndGlyphs\" textLength=\"6\" x=\"13\" y=\"75.9526\">x</text><line style=\"stroke: #383838; stroke-width: 1.0;\" x1=\"8\" x2=\"25\" y1=\"59.3398\" y2=\"59.3398\"/><text fill=\"#000000\" font-family=\"sans-serif\" font-size=\"11\" lengthAdjust=\"spacingAndGlyphs\" textLength=\"55\" x=\"25\" y=\"62.6479\">attributes</text><line style=\"stroke: #383838; stroke-width: 1.0;\" x1=\"80\" x2=\"97\" y1=\"59.3398\" y2=\"59.3398\"/><text fill=\"#000000\" font-family=\"sans-serif\" font-size=\"11\" lengthAdjust=\"spacingAndGlyphs\" textLength=\"14\" x=\"13\" y=\"105.562\">A1</text><text fill=\"#000000\" font-family=\"sans-serif\" font-size=\"11\" lengthAdjust=\"spacingAndGlyphs\" textLength=\"14\" x=\"13\" y=\"118.3667\">A2</text><text fill=\"#000000\" font-family=\"sans-serif\" font-size=\"11\" lengthAdjust=\"spacingAndGlyphs\" textLength=\"14\" x=\"13\" y=\"131.1714\">A3</text><line style=\"stroke: #383838; stroke-width: 1.0;\" x1=\"8\" x2=\"32\" y1=\"88.9492\" y2=\"88.9492\"/><text fill=\"#000000\" font-family=\"sans-serif\" font-size=\"11\" lengthAdjust=\"spacingAndGlyphs\" textLength=\"41\" x=\"32\" y=\"92.2573\">actions</text><line style=\"stroke: #383838; stroke-width: 1.0;\" x1=\"73\" x2=\"97\" y1=\"88.9492\" y2=\"88.9492\"/><text fill=\"#000000\" font-family=\"sans-serif\" font-size=\"11\" lengthAdjust=\"spacingAndGlyphs\" textLength=\"32\" x=\"13\" y=\"160.7808\">test x</text><line style=\"stroke: #383838; stroke-width: 1.0;\" x1=\"8\" x2=\"11\" y1=\"144.168\" y2=\"144.168\"/><text fill=\"#000000\" font-family=\"sans-serif\" font-size=\"11\" lengthAdjust=\"spacingAndGlyphs\" textLength=\"83\" x=\"11\" y=\"147.4761\">decisionNodes</text><line style=\"stroke: #383838; stroke-width: 1.0;\" x1=\"94\" x2=\"97\" y1=\"144.168\" y2=\"144.168\"/><text fill=\"#000000\" font-family=\"sans-serif\" font-size=\"11\" lengthAdjust=\"spacingAndGlyphs\" textLength=\"8\" x=\"13\" y=\"190.3901\">S</text><line style=\"stroke: #383838; stroke-width: 1.0;\" x1=\"8\" x2=\"22\" y1=\"173.7773\" y2=\"173.7773\"/><text fill=\"#000000\" font-family=\"sans-serif\" font-size=\"11\" lengthAdjust=\"spacingAndGlyphs\" textLength=\"61\" x=\"22\" y=\"177.0854\">transitions</text><line style=\"stroke: #383838; stroke-width: 1.0;\" x1=\"83\" x2=\"97\" y1=\"173.7773\" y2=\"173.7773\"/></a><!--MD5=[1b406e717d10b785cd3a0e4ee897037d]\n",
       "@startuml\r\n",
       "skinparam linetype ortho\r\n",
       "skinparam monochrome true\r\n",
       "skinparam classbackgroundcolor white\r\n",
       "skinparam shadowing false\r\n",
       "skinparam wrapWidth 300\r\n",
       "hide circle\r\n",
       "\r\n",
       "comp def \"DecisionTest\" as E1  <<(T,blue)action def>> [[psysml:a3695254-583a-41e6-95b4-07f76a5805ed ]] {\r\n",
       "- - attributes - -\r\n",
       "x\r\n",
       "- - actions - -\r\n",
       "A1\r\n",
       "A2\r\n",
       "A3\r\n",
       "- - decisionNodes - -\r\n",
       "test x\r\n",
       "- - transitions - -\r\n",
       "S\r\n",
       "}\r\n",
       "@enduml\r\n",
       "\n",
       "PlantUML version 1.2020.13(Sat Jun 13 12:26:38 UTC 2020)\n",
       "(EPL source distribution)\n",
       "Java Runtime: OpenJDK Runtime Environment\n",
       "JVM: OpenJDK 64-Bit Server VM\n",
       "Default Encoding: UTF-8\n",
       "Language: en\n",
       "Country: null\n",
       "--></g></svg>"
      ]
     },
     "execution_count": 52,
     "metadata": {},
     "output_type": "execute_result"
    }
   ],
   "source": [
    "%viz --style=\"ORTHOLINE\" --view=\"Tree\" \"DecisionTest\""
   ]
  },
  {
   "cell_type": "code",
   "execution_count": 53,
   "id": "bigger-english",
   "metadata": {
    "execution": {
     "iopub.execute_input": "2021-03-25T13:22:51.977054Z",
     "iopub.status.busy": "2021-03-25T13:22:51.976289Z",
     "iopub.status.idle": "2021-03-25T13:22:51.984294Z",
     "shell.execute_reply": "2021-03-25T13:22:51.984766Z"
    }
   },
   "outputs": [
    {
     "data": {
      "image/svg+xml": [
       "<?xml version=\"1.0\" encoding=\"UTF-8\" standalone=\"no\"?><svg xmlns=\"http://www.w3.org/2000/svg\" xmlns:xlink=\"http://www.w3.org/1999/xlink\" contentScriptType=\"application/ecmascript\" contentStyleType=\"text/css\" height=\"12px\" preserveAspectRatio=\"none\" style=\"width:12px;height:12px;\" version=\"1.1\" viewBox=\"0 0 12 12\" width=\"12px\" zoomAndPan=\"magnify\"><defs/><g><!--MD5=[97d6f38768b311333d388e66b2b27985]\n",
       "@startuml\r\n",
       "skinparam linetype ortho\r\n",
       "skinparam monochrome true\r\n",
       "skinparam classbackgroundcolor white\r\n",
       "skinparam shadowing false\r\n",
       "skinparam wrapWidth 300\r\n",
       "hide circle\r\n",
       "\r\n",
       "@enduml\r\n",
       "\n",
       "PlantUML version 1.2020.13(Sat Jun 13 12:26:38 UTC 2020)\n",
       "(EPL source distribution)\n",
       "Java Runtime: OpenJDK Runtime Environment\n",
       "JVM: OpenJDK 64-Bit Server VM\n",
       "Default Encoding: UTF-8\n",
       "Language: en\n",
       "Country: null\n",
       "--></g></svg>"
      ]
     },
     "execution_count": 53,
     "metadata": {},
     "output_type": "execute_result"
    }
   ],
   "source": [
    "%viz --style=\"ORTHOLINE\" --view=\"State\" \"DecisionTest\""
   ]
  },
  {
   "cell_type": "code",
   "execution_count": 54,
   "id": "smart-health",
   "metadata": {
    "execution": {
     "iopub.execute_input": "2021-03-25T13:22:52.036584Z",
     "iopub.status.busy": "2021-03-25T13:22:52.035471Z",
     "iopub.status.idle": "2021-03-25T13:22:52.065882Z",
     "shell.execute_reply": "2021-03-25T13:22:52.065433Z"
    }
   },
   "outputs": [
    {
     "data": {
      "image/svg+xml": [
       "<?xml version=\"1.0\" encoding=\"UTF-8\" standalone=\"no\"?><svg xmlns=\"http://www.w3.org/2000/svg\" xmlns:xlink=\"http://www.w3.org/1999/xlink\" contentScriptType=\"application/ecmascript\" contentStyleType=\"text/css\" height=\"60px\" preserveAspectRatio=\"none\" style=\"width:109px;height:60px;\" version=\"1.1\" viewBox=\"0 0 109 60\" width=\"109px\" zoomAndPan=\"magnify\"><defs/><g><g id=\"E1\"><a href=\"psysml:a3695254-583a-41e6-95b4-07f76a5805ed\" target=\"_top\" title=\"psysml:a3695254-583a-41e6-95b4-07f76a5805ed\" xlink:actuate=\"onRequest\" xlink:href=\"psysml:a3695254-583a-41e6-95b4-07f76a5805ed\" xlink:show=\"new\" xlink:title=\"psysml:a3695254-583a-41e6-95b4-07f76a5805ed\" xlink:type=\"simple\"><rect fill=\"#FFFFFF\" height=\"42.9375\" id=\"E1\" style=\"stroke: #383838; stroke-width: 1.5;\" width=\"91\" x=\"7\" y=\"7\"/><rect fill=\"#F8F8F8\" height=\"37.9375\" style=\"stroke: #383838; stroke-width: 1.5;\" width=\"91\" x=\"7\" y=\"7\"/><text fill=\"#000000\" font-family=\"sans-serif\" font-size=\"12\" font-style=\"italic\" lengthAdjust=\"spacingAndGlyphs\" textLength=\"77\" x=\"14\" y=\"23.1387\">«action def»</text><text fill=\"#000000\" font-family=\"sans-serif\" font-size=\"12\" lengthAdjust=\"spacingAndGlyphs\" textLength=\"80\" x=\"12.5\" y=\"37.1074\">DecisionTest</text></a></g><!--MD5=[79a633a0e051d4e3ce0f97cc20678ac4]\n",
       "@startuml\r\n",
       "skinparam ranksep 8\r\n",
       "skinparam rectangle {\r\n",
       " backgroundColor<<block>> LightGreen\r\n",
       "}\r\n",
       "skinparam linetype ortho\r\n",
       "skinparam monochrome true\r\n",
       "skinparam classbackgroundcolor white\r\n",
       "skinparam shadowing false\r\n",
       "skinparam wrapWidth 300\r\n",
       "hide circle\r\n",
       "\r\n",
       "def \"DecisionTest\" as E1  <<(T,blue)action def>> [[psysml:a3695254-583a-41e6-95b4-07f76a5805ed ]] \r\n",
       "@enduml\r\n",
       "\n",
       "PlantUML version 1.2020.13(Sat Jun 13 12:26:38 UTC 2020)\n",
       "(EPL source distribution)\n",
       "Java Runtime: OpenJDK Runtime Environment\n",
       "JVM: OpenJDK 64-Bit Server VM\n",
       "Default Encoding: UTF-8\n",
       "Language: en\n",
       "Country: null\n",
       "--></g></svg>"
      ]
     },
     "execution_count": 54,
     "metadata": {},
     "output_type": "execute_result"
    }
   ],
   "source": [
    "%viz --style=\"ORTHOLINE\" --view=\"Interconnection\" \"DecisionTest\""
   ]
  },
  {
   "cell_type": "code",
   "execution_count": 55,
   "id": "conventional-samba",
   "metadata": {
    "execution": {
     "iopub.execute_input": "2021-03-25T13:22:52.117165Z",
     "iopub.status.busy": "2021-03-25T13:22:52.115659Z",
     "iopub.status.idle": "2021-03-25T13:22:52.148534Z",
     "shell.execute_reply": "2021-03-25T13:22:52.147071Z"
    }
   },
   "outputs": [
    {
     "data": {
      "image/svg+xml": [
       "<?xml version=\"1.0\" encoding=\"UTF-8\" standalone=\"no\"?><svg xmlns=\"http://www.w3.org/2000/svg\" xmlns:xlink=\"http://www.w3.org/1999/xlink\" contentScriptType=\"application/ecmascript\" contentStyleType=\"text/css\" height=\"304px\" preserveAspectRatio=\"none\" style=\"width:877px;height:304px;background:#000000;\" version=\"1.1\" viewBox=\"0 0 877 304\" width=\"877px\" zoomAndPan=\"magnify\"><defs/><g><rect fill=\"#202210\" height=\"1\" style=\"stroke: #202210; stroke-width: 1.0;\" width=\"1\" x=\"0\" y=\"0\"/><rect fill=\"#33FF02\" height=\"21.2969\" style=\"stroke: #33FF02; stroke-width: 1.0;\" width=\"870\" x=\"5\" y=\"5\"/><text fill=\"#000000\" font-family=\"sans-serif\" font-size=\"14\" font-weight=\"bold\" lengthAdjust=\"spacingAndGlyphs\" textLength=\"178\" x=\"6\" y=\"20\">[From string (line 15) ]</text><text fill=\"#33FF02\" font-family=\"sans-serif\" font-size=\"14\" font-weight=\"bold\" lengthAdjust=\"spacingAndGlyphs\" textLength=\"0\" x=\"10\" y=\"40.2969\"/><text fill=\"#33FF02\" font-family=\"sans-serif\" font-size=\"14\" font-weight=\"bold\" lengthAdjust=\"spacingAndGlyphs\" textLength=\"79\" x=\"5\" y=\"56.5938\">@startuml</text><text fill=\"#33FF02\" font-family=\"sans-serif\" font-size=\"14\" font-weight=\"bold\" lengthAdjust=\"spacingAndGlyphs\" textLength=\"165\" x=\"5\" y=\"72.8906\">skinparam ranksep 8</text><text fill=\"#33FF02\" font-family=\"sans-serif\" font-size=\"14\" font-weight=\"bold\" lengthAdjust=\"spacingAndGlyphs\" textLength=\"197\" x=\"5\" y=\"89.1875\">skinparam linetype ortho</text><text fill=\"#33FF02\" font-family=\"sans-serif\" font-size=\"14\" font-weight=\"bold\" lengthAdjust=\"spacingAndGlyphs\" textLength=\"228\" x=\"5\" y=\"105.4844\">skinparam monochrome true</text><text fill=\"#33FF02\" font-family=\"sans-serif\" font-size=\"14\" font-weight=\"bold\" lengthAdjust=\"spacingAndGlyphs\" textLength=\"309\" x=\"5\" y=\"121.7813\">skinparam classbackgroundcolor white</text><text fill=\"#33FF02\" font-family=\"sans-serif\" font-size=\"14\" font-weight=\"bold\" lengthAdjust=\"spacingAndGlyphs\" textLength=\"215\" x=\"5\" y=\"138.0781\">skinparam shadowing false</text><text fill=\"#33FF02\" font-family=\"sans-serif\" font-size=\"14\" font-weight=\"bold\" lengthAdjust=\"spacingAndGlyphs\" textLength=\"206\" x=\"5\" y=\"154.375\">skinparam wrapWidth 300</text><text fill=\"#33FF02\" font-family=\"sans-serif\" font-size=\"14\" font-weight=\"bold\" lengthAdjust=\"spacingAndGlyphs\" textLength=\"82\" x=\"5\" y=\"170.6719\">hide circle</text><text fill=\"#33FF02\" font-family=\"sans-serif\" font-size=\"14\" font-weight=\"bold\" lengthAdjust=\"spacingAndGlyphs\" textLength=\"0\" x=\"10\" y=\"186.9688\"/><text fill=\"#33FF02\" font-family=\"sans-serif\" font-size=\"14\" font-weight=\"bold\" lengthAdjust=\"spacingAndGlyphs\" textLength=\"870\" x=\"5\" y=\"203.2656\">rec def \"DecisionTest\" as E1  &lt;&lt;(T,blue)action def&gt;&gt; [[psysml:a3695254-583a-41e6-95b4-07f76a5805ed ]] {</text><text fill=\"#33FF02\" font-family=\"sans-serif\" font-size=\"14\" font-weight=\"bold\" lengthAdjust=\"spacingAndGlyphs\" textLength=\"623\" x=\"5\" y=\"219.5625\">portout \"$result\" as E2  [[psysml:736cbe2e-e614-4ea2-922e-635e617bb808 ]]</text><text fill=\"#33FF02\" font-family=\"sans-serif\" font-size=\"14\" font-weight=\"bold\" lengthAdjust=\"spacingAndGlyphs\" textLength=\"861\" x=\"5\" y=\"235.8594\">rec usage \"test x\" as E3  &lt;&lt;(T,blue)decisionNode&gt;&gt; [[psysml:fd19b455-89d5-459d-92f7-d1815185add7 ]] {</text><text fill=\"#33FF02\" font-family=\"sans-serif\" font-size=\"14\" font-weight=\"bold\" lengthAdjust=\"spacingAndGlyphs\" textLength=\"10\" x=\"5\" y=\"252.1563\">}</text><text fill=\"#33FF02\" font-family=\"sans-serif\" font-size=\"14\" font-weight=\"bold\" lengthAdjust=\"spacingAndGlyphs\" textLength=\"0\" x=\"10\" y=\"268.4531\"/><text fill=\"#33FF02\" font-family=\"sans-serif\" font-size=\"14\" font-weight=\"bold\" lengthAdjust=\"spacingAndGlyphs\" textLength=\"10\" x=\"5\" y=\"284.75\">{</text><text fill=\"#FF0000\" font-family=\"sans-serif\" font-size=\"14\" font-weight=\"bold\" lengthAdjust=\"spacingAndGlyphs\" textLength=\"106\" x=\"10\" y=\"301.0469\">Syntax Error?</text><!--MD5=[694158c8333f1f3b84e7f63ba30334a5]\n",
       "@startuml\r\n",
       "skinparam ranksep 8\r\n",
       "skinparam linetype ortho\r\n",
       "skinparam monochrome true\r\n",
       "skinparam classbackgroundcolor white\r\n",
       "skinparam shadowing false\r\n",
       "skinparam wrapWidth 300\r\n",
       "hide circle\r\n",
       "\r\n",
       "rec def \"DecisionTest\" as E1  <<(T,blue)action def>> [[psysml:a3695254-583a-41e6-95b4-07f76a5805ed ]] {\r\n",
       "portout \"$result\" as E2  [[psysml:736cbe2e-e614-4ea2-922e-635e617bb808 ]] \r\n",
       "rec usage \"test x\" as E3  <<(T,blue)decisionNode>> [[psysml:fd19b455-89d5-459d-92f7-d1815185add7 ]] {\r\n",
       "}\r\n",
       "\r\n",
       "{\r\n",
       "portout \"$result\" as E4  [[psysml:6d4a6456-a7ec-4177-87e4-ea5c100c5f7a ]] \r\n",
       "portin \"$x\" as E5  [[psysml:810bc03f-55fb-40a2-b55c-bd606a6d8860 ]] \r\n",
       "portin \"$y\" as E6  [[psysml:9b327a8e-6a1a-4f88-b23a-313c42dc41ad ]] \r\n",
       "portout \"$result\" as E7  [[psysml:3482b99c-6d5f-462a-981f-843523b909ab ]] \r\n",
       "}\r\n",
       "\r\n",
       "{\r\n",
       "portout \"$result\" as E8  [[psysml:8d6fc5ff-5a7b-4326-8fe2-a1e00b49613b ]] \r\n",
       "portin \"$x\" as E9  [[psysml:46b1300e-a73a-4c43-b5e8-ea161bf29b84 ]] \r\n",
       "portin \"$y\" as E10  [[psysml:4c9eaf15-63e7-4329-aa99-8209cbaf88bd ]] \r\n",
       "portout \"$result\" as E11  [[psysml:db374472-9b3d-40ef-87c4-0779379afe59 ]] \r\n",
       "}\r\n",
       "\r\n",
       "{\r\n",
       "}\r\n",
       "\r\n",
       "{\r\n",
       "}\r\n",
       "\r\n",
       "{\r\n",
       "portout \"$result\" as E12  [[psysml:e0510f13-cf5f-43a3-a7c7-2804245d6335 ]] \r\n",
       "}\r\n",
       "\r\n",
       "{\r\n",
       "portout \"$result\" as E13  [[psysml:bcae0eca-1466-485e-a896-a9c2508efe87 ]] \r\n",
       "}\r\n",
       "\r\n",
       "rec usage \"A1\" as E14  <<(T,blue)action>> [[psysml:fe5e89f6-2dc9-4b0f-8489-37aae8d1db14 ]] {\r\n",
       "}\r\n",
       "\r\n",
       "rec usage \"A2\" as E15  <<(T,blue)action>> [[psysml:4cc0bf78-e417-49bc-8d88-351983c62136 ]] {\r\n",
       "}\r\n",
       "\r\n",
       "rec usage \"A3\" as E16  <<(T,blue)action>> [[psysml:b76bbc08-81d4-47ab-9a49-666299d123cf ]] {\r\n",
       "}\r\n",
       "\r\n",
       "rec usage \"S\" as E17  <<(T,blue)transition>> [[psysml:fe245d46-438e-4c8f-ab18-310121fc2f41 ]] {\r\n",
       "rec usage \"A1\" as E18  <<(T,blue)action>> [[psysml:fe5e89f6-2dc9-4b0f-8489-37aae8d1db14 ]] {\r\n",
       "}\r\n",
       "\r\n",
       "portout \"$result\" as E19  [[psysml:5f694de1-2ca1-44b7-80b3-60a608cc3133 ]] \r\n",
       "portin \"$x\" as E20  [[psysml:8143e50d-1193-4d25-859f-77f062ba674d ]] \r\n",
       "portin \"$y\" as E21  [[psysml:ba8e69b2-a3c6-4a24-b7d7-ae4c7f563c95 ]] \r\n",
       "portout \"$result\" as E22  [[psysml:24237d18-6666-403f-9475-d2e8cf84f852 ]] \r\n",
       "}\r\n",
       "\r\n",
       "rec usage \"A3\" as E23  <<(T,blue)action>> [[psysml:b76bbc08-81d4-47ab-9a49-666299d123cf ]] {\r\n",
       "}\r\n",
       "\r\n",
       "{\r\n",
       "portout \"$result\" as E24  [[psysml:f904355a-9712-4e0c-a9b6-5ecdd1390be6 ]] \r\n",
       "portin \"$x\" as E25  [[psysml:c4435769-fd75-4fbf-95a7-29566a6c8186 ]] \r\n",
       "portin \"$y\" as E26  [[psysml:e2db5bbd-dd5d-422a-81f2-d836869b1ec1 ]] \r\n",
       "portout \"$result\" as E27  [[psysml:f774fe7e-8d66-439a-b027-16ceb2b41e9d ]] \r\n",
       "}\r\n",
       "\r\n",
       "}\r\n",
       "\r\n",
       "E6 -[thickness=5]- E4 [[psysml:22575a94-d313-4c92-b3bf-e872aff40b38 ]] \r\n",
       "E10 -[thickness=5]- E8 [[psysml:468e3065-35eb-4f7a-b0d7-b4ac24204b50 ]] \r\n",
       "E21 -[thickness=5]- E19 [[psysml:6eff49c6-4c1b-4a79-924a-d43d01989d36 ]] \r\n",
       "E26 -[thickness=5]- E24 [[psysml:02504f01-5bd4-4b5c-8fa7-2e89e01e6fe9 ]] \r\n",
       "@enduml\r\n",
       "\n",
       "PlantUML version 1.2020.13(Sat Jun 13 12:26:38 UTC 2020)\n",
       "(EPL source distribution)\n",
       "Java Runtime: OpenJDK Runtime Environment\n",
       "JVM: OpenJDK 64-Bit Server VM\n",
       "Default Encoding: UTF-8\n",
       "Language: en\n",
       "Country: null\n",
       "--></g></svg>"
      ]
     },
     "execution_count": 55,
     "metadata": {},
     "output_type": "execute_result"
    }
   ],
   "source": [
    "%viz --style=\"ORTHOLINE\" --view=\"Action\" \"DecisionTest\""
   ]
  },
  {
   "cell_type": "code",
   "execution_count": 56,
   "id": "chinese-might",
   "metadata": {
    "execution": {
     "iopub.execute_input": "2021-03-25T13:22:52.200076Z",
     "iopub.status.busy": "2021-03-25T13:22:52.199268Z",
     "iopub.status.idle": "2021-03-25T13:22:52.623303Z",
     "shell.execute_reply": "2021-03-25T13:22:52.622769Z"
    }
   },
   "outputs": [
    {
     "data": {
      "image/svg+xml": [
       "<?xml version=\"1.0\" encoding=\"UTF-8\" standalone=\"no\"?><svg xmlns=\"http://www.w3.org/2000/svg\" xmlns:xlink=\"http://www.w3.org/1999/xlink\" contentScriptType=\"application/ecmascript\" contentStyleType=\"text/css\" height=\"207px\" preserveAspectRatio=\"none\" style=\"width:109px;height:207px;\" version=\"1.1\" viewBox=\"0 0 109 207\" width=\"109px\" zoomAndPan=\"magnify\"><defs/><g><!--MD5=[43c9051892ef23e1a46a86907403d788]\n",
       "class E1--><a href=\"psysml:a3695254-583a-41e6-95b4-07f76a5805ed\" target=\"_top\" title=\"psysml:a3695254-583a-41e6-95b4-07f76a5805ed\" xlink:actuate=\"onRequest\" xlink:href=\"psysml:a3695254-583a-41e6-95b4-07f76a5805ed\" xlink:show=\"new\" xlink:title=\"psysml:a3695254-583a-41e6-95b4-07f76a5805ed\" xlink:type=\"simple\"><rect fill=\"#FFFFFF\" height=\"189.9844\" id=\"E1\" style=\"stroke: #383838; stroke-width: 1.5;\" width=\"91\" x=\"7\" y=\"7\"/><text fill=\"#000000\" font-family=\"sans-serif\" font-size=\"12\" font-style=\"italic\" lengthAdjust=\"spacingAndGlyphs\" textLength=\"77\" x=\"14\" y=\"23.1387\">«action def»</text><text fill=\"#000000\" font-family=\"sans-serif\" font-size=\"12\" lengthAdjust=\"spacingAndGlyphs\" textLength=\"80\" x=\"12.5\" y=\"37.1074\">DecisionTest</text><line style=\"stroke: #383838; stroke-width: 1.5;\" x1=\"8\" x2=\"97\" y1=\"44.9375\" y2=\"44.9375\"/><text fill=\"#000000\" font-family=\"sans-serif\" font-size=\"11\" lengthAdjust=\"spacingAndGlyphs\" textLength=\"6\" x=\"13\" y=\"75.9526\">x</text><line style=\"stroke: #383838; stroke-width: 1.0;\" x1=\"8\" x2=\"25\" y1=\"59.3398\" y2=\"59.3398\"/><text fill=\"#000000\" font-family=\"sans-serif\" font-size=\"11\" lengthAdjust=\"spacingAndGlyphs\" textLength=\"55\" x=\"25\" y=\"62.6479\">attributes</text><line style=\"stroke: #383838; stroke-width: 1.0;\" x1=\"80\" x2=\"97\" y1=\"59.3398\" y2=\"59.3398\"/><text fill=\"#000000\" font-family=\"sans-serif\" font-size=\"11\" lengthAdjust=\"spacingAndGlyphs\" textLength=\"14\" x=\"13\" y=\"105.562\">A1</text><text fill=\"#000000\" font-family=\"sans-serif\" font-size=\"11\" lengthAdjust=\"spacingAndGlyphs\" textLength=\"14\" x=\"13\" y=\"118.3667\">A2</text><text fill=\"#000000\" font-family=\"sans-serif\" font-size=\"11\" lengthAdjust=\"spacingAndGlyphs\" textLength=\"14\" x=\"13\" y=\"131.1714\">A3</text><line style=\"stroke: #383838; stroke-width: 1.0;\" x1=\"8\" x2=\"32\" y1=\"88.9492\" y2=\"88.9492\"/><text fill=\"#000000\" font-family=\"sans-serif\" font-size=\"11\" lengthAdjust=\"spacingAndGlyphs\" textLength=\"41\" x=\"32\" y=\"92.2573\">actions</text><line style=\"stroke: #383838; stroke-width: 1.0;\" x1=\"73\" x2=\"97\" y1=\"88.9492\" y2=\"88.9492\"/><text fill=\"#000000\" font-family=\"sans-serif\" font-size=\"11\" lengthAdjust=\"spacingAndGlyphs\" textLength=\"32\" x=\"13\" y=\"160.7808\">test x</text><line style=\"stroke: #383838; stroke-width: 1.0;\" x1=\"8\" x2=\"11\" y1=\"144.168\" y2=\"144.168\"/><text fill=\"#000000\" font-family=\"sans-serif\" font-size=\"11\" lengthAdjust=\"spacingAndGlyphs\" textLength=\"83\" x=\"11\" y=\"147.4761\">decisionNodes</text><line style=\"stroke: #383838; stroke-width: 1.0;\" x1=\"94\" x2=\"97\" y1=\"144.168\" y2=\"144.168\"/><text fill=\"#000000\" font-family=\"sans-serif\" font-size=\"11\" lengthAdjust=\"spacingAndGlyphs\" textLength=\"8\" x=\"13\" y=\"190.3901\">S</text><line style=\"stroke: #383838; stroke-width: 1.0;\" x1=\"8\" x2=\"22\" y1=\"173.7773\" y2=\"173.7773\"/><text fill=\"#000000\" font-family=\"sans-serif\" font-size=\"11\" lengthAdjust=\"spacingAndGlyphs\" textLength=\"61\" x=\"22\" y=\"177.0854\">transitions</text><line style=\"stroke: #383838; stroke-width: 1.0;\" x1=\"83\" x2=\"97\" y1=\"173.7773\" y2=\"173.7773\"/></a><!--MD5=[1b406e717d10b785cd3a0e4ee897037d]\n",
       "@startuml\r\n",
       "skinparam linetype ortho\r\n",
       "skinparam monochrome true\r\n",
       "skinparam classbackgroundcolor white\r\n",
       "skinparam shadowing false\r\n",
       "skinparam wrapWidth 300\r\n",
       "hide circle\r\n",
       "\r\n",
       "comp def \"DecisionTest\" as E1  <<(T,blue)action def>> [[psysml:a3695254-583a-41e6-95b4-07f76a5805ed ]] {\r\n",
       "- - attributes - -\r\n",
       "x\r\n",
       "- - actions - -\r\n",
       "A1\r\n",
       "A2\r\n",
       "A3\r\n",
       "- - decisionNodes - -\r\n",
       "test x\r\n",
       "- - transitions - -\r\n",
       "S\r\n",
       "}\r\n",
       "@enduml\r\n",
       "\n",
       "PlantUML version 1.2020.13(Sat Jun 13 12:26:38 UTC 2020)\n",
       "(EPL source distribution)\n",
       "Java Runtime: OpenJDK Runtime Environment\n",
       "JVM: OpenJDK 64-Bit Server VM\n",
       "Default Encoding: UTF-8\n",
       "Language: en\n",
       "Country: null\n",
       "--></g></svg>"
      ]
     },
     "execution_count": 56,
     "metadata": {},
     "output_type": "execute_result"
    }
   ],
   "source": [
    "%viz --style=\"ORTHOLINE\" --view=\"Sequence\" \"DecisionTest\""
   ]
  },
  {
   "cell_type": "code",
   "execution_count": 57,
   "id": "registered-header",
   "metadata": {
    "execution": {
     "iopub.execute_input": "2021-03-25T13:22:52.671947Z",
     "iopub.status.busy": "2021-03-25T13:22:52.671454Z",
     "iopub.status.idle": "2021-03-25T13:22:52.701883Z",
     "shell.execute_reply": "2021-03-25T13:22:52.700252Z"
    }
   },
   "outputs": [
    {
     "data": {
      "image/svg+xml": [
       "<?xml version=\"1.0\" encoding=\"UTF-8\" standalone=\"no\"?><svg xmlns=\"http://www.w3.org/2000/svg\" xmlns:xlink=\"http://www.w3.org/1999/xlink\" contentScriptType=\"application/ecmascript\" contentStyleType=\"text/css\" height=\"288px\" preserveAspectRatio=\"none\" style=\"width:877px;height:288px;background:#000000;\" version=\"1.1\" viewBox=\"0 0 877 288\" width=\"877px\" zoomAndPan=\"magnify\"><defs/><g><rect fill=\"#050925\" height=\"1\" style=\"stroke: #050925; stroke-width: 1.0;\" width=\"1\" x=\"0\" y=\"0\"/><rect fill=\"#33FF02\" height=\"21.2969\" style=\"stroke: #33FF02; stroke-width: 1.0;\" width=\"870\" x=\"5\" y=\"5\"/><text fill=\"#000000\" font-family=\"sans-serif\" font-size=\"14\" font-weight=\"bold\" lengthAdjust=\"spacingAndGlyphs\" textLength=\"178\" x=\"6\" y=\"20\">[From string (line 14) ]</text><text fill=\"#33FF02\" font-family=\"sans-serif\" font-size=\"14\" font-weight=\"bold\" lengthAdjust=\"spacingAndGlyphs\" textLength=\"0\" x=\"10\" y=\"40.2969\"/><text fill=\"#33FF02\" font-family=\"sans-serif\" font-size=\"14\" font-weight=\"bold\" lengthAdjust=\"spacingAndGlyphs\" textLength=\"79\" x=\"5\" y=\"56.5938\">@startuml</text><text fill=\"#33FF02\" font-family=\"sans-serif\" font-size=\"14\" font-weight=\"bold\" lengthAdjust=\"spacingAndGlyphs\" textLength=\"197\" x=\"5\" y=\"72.8906\">skinparam linetype ortho</text><text fill=\"#33FF02\" font-family=\"sans-serif\" font-size=\"14\" font-weight=\"bold\" lengthAdjust=\"spacingAndGlyphs\" textLength=\"228\" x=\"5\" y=\"89.1875\">skinparam monochrome true</text><text fill=\"#33FF02\" font-family=\"sans-serif\" font-size=\"14\" font-weight=\"bold\" lengthAdjust=\"spacingAndGlyphs\" textLength=\"309\" x=\"5\" y=\"105.4844\">skinparam classbackgroundcolor white</text><text fill=\"#33FF02\" font-family=\"sans-serif\" font-size=\"14\" font-weight=\"bold\" lengthAdjust=\"spacingAndGlyphs\" textLength=\"215\" x=\"5\" y=\"121.7813\">skinparam shadowing false</text><text fill=\"#33FF02\" font-family=\"sans-serif\" font-size=\"14\" font-weight=\"bold\" lengthAdjust=\"spacingAndGlyphs\" textLength=\"206\" x=\"5\" y=\"138.0781\">skinparam wrapWidth 300</text><text fill=\"#33FF02\" font-family=\"sans-serif\" font-size=\"14\" font-weight=\"bold\" lengthAdjust=\"spacingAndGlyphs\" textLength=\"82\" x=\"5\" y=\"154.375\">hide circle</text><text fill=\"#33FF02\" font-family=\"sans-serif\" font-size=\"14\" font-weight=\"bold\" lengthAdjust=\"spacingAndGlyphs\" textLength=\"0\" x=\"10\" y=\"170.6719\"/><text fill=\"#33FF02\" font-family=\"sans-serif\" font-size=\"14\" font-weight=\"bold\" lengthAdjust=\"spacingAndGlyphs\" textLength=\"870\" x=\"5\" y=\"186.9688\">rec def \"DecisionTest\" as E1  &lt;&lt;(T,blue)action def&gt;&gt; [[psysml:a3695254-583a-41e6-95b4-07f76a5805ed ]] {</text><text fill=\"#33FF02\" font-family=\"sans-serif\" font-size=\"14\" font-weight=\"bold\" lengthAdjust=\"spacingAndGlyphs\" textLength=\"623\" x=\"5\" y=\"203.2656\">portout \"$result\" as E2  [[psysml:736cbe2e-e614-4ea2-922e-635e617bb808 ]]</text><text fill=\"#33FF02\" font-family=\"sans-serif\" font-size=\"14\" font-weight=\"bold\" lengthAdjust=\"spacingAndGlyphs\" textLength=\"861\" x=\"5\" y=\"219.5625\">rec usage \"test x\" as E3  &lt;&lt;(T,blue)decisionNode&gt;&gt; [[psysml:fd19b455-89d5-459d-92f7-d1815185add7 ]] {</text><text fill=\"#33FF02\" font-family=\"sans-serif\" font-size=\"14\" font-weight=\"bold\" lengthAdjust=\"spacingAndGlyphs\" textLength=\"10\" x=\"5\" y=\"235.8594\">}</text><text fill=\"#33FF02\" font-family=\"sans-serif\" font-size=\"14\" font-weight=\"bold\" lengthAdjust=\"spacingAndGlyphs\" textLength=\"0\" x=\"10\" y=\"252.1563\"/><text fill=\"#33FF02\" font-family=\"sans-serif\" font-size=\"14\" font-weight=\"bold\" lengthAdjust=\"spacingAndGlyphs\" textLength=\"10\" x=\"5\" y=\"268.4531\">{</text><text fill=\"#FF0000\" font-family=\"sans-serif\" font-size=\"14\" font-weight=\"bold\" lengthAdjust=\"spacingAndGlyphs\" textLength=\"106\" x=\"10\" y=\"284.75\">Syntax Error?</text><!--MD5=[46eca4b6e685e793770e4bb1457c1284]\n",
       "@startuml\r\n",
       "skinparam linetype ortho\r\n",
       "skinparam monochrome true\r\n",
       "skinparam classbackgroundcolor white\r\n",
       "skinparam shadowing false\r\n",
       "skinparam wrapWidth 300\r\n",
       "hide circle\r\n",
       "\r\n",
       "rec def \"DecisionTest\" as E1  <<(T,blue)action def>> [[psysml:a3695254-583a-41e6-95b4-07f76a5805ed ]] {\r\n",
       "portout \"$result\" as E2  [[psysml:736cbe2e-e614-4ea2-922e-635e617bb808 ]] \r\n",
       "rec usage \"test x\" as E3  <<(T,blue)decisionNode>> [[psysml:fd19b455-89d5-459d-92f7-d1815185add7 ]] {\r\n",
       "}\r\n",
       "\r\n",
       "{\r\n",
       "portout \"$result\" as E4  [[psysml:6d4a6456-a7ec-4177-87e4-ea5c100c5f7a ]] \r\n",
       "portin \"$x\" as E5  [[psysml:810bc03f-55fb-40a2-b55c-bd606a6d8860 ]] \r\n",
       "portin \"$y\" as E6  [[psysml:9b327a8e-6a1a-4f88-b23a-313c42dc41ad ]] \r\n",
       "portout \"$result\" as E7  [[psysml:3482b99c-6d5f-462a-981f-843523b909ab ]] \r\n",
       "}\r\n",
       "\r\n",
       "{\r\n",
       "portout \"$result\" as E8  [[psysml:8d6fc5ff-5a7b-4326-8fe2-a1e00b49613b ]] \r\n",
       "portin \"$x\" as E9  [[psysml:46b1300e-a73a-4c43-b5e8-ea161bf29b84 ]] \r\n",
       "portin \"$y\" as E10  [[psysml:4c9eaf15-63e7-4329-aa99-8209cbaf88bd ]] \r\n",
       "portout \"$result\" as E11  [[psysml:db374472-9b3d-40ef-87c4-0779379afe59 ]] \r\n",
       "}\r\n",
       "\r\n",
       "{\r\n",
       "}\r\n",
       "\r\n",
       "{\r\n",
       "}\r\n",
       "\r\n",
       "{\r\n",
       "portout \"$result\" as E12  [[psysml:e0510f13-cf5f-43a3-a7c7-2804245d6335 ]] \r\n",
       "}\r\n",
       "\r\n",
       "{\r\n",
       "portout \"$result\" as E13  [[psysml:bcae0eca-1466-485e-a896-a9c2508efe87 ]] \r\n",
       "}\r\n",
       "\r\n",
       "rec usage \"A1\" as E14  <<(T,blue)action>> [[psysml:fe5e89f6-2dc9-4b0f-8489-37aae8d1db14 ]] {\r\n",
       "}\r\n",
       "\r\n",
       "rec usage \"A2\" as E15  <<(T,blue)action>> [[psysml:4cc0bf78-e417-49bc-8d88-351983c62136 ]] {\r\n",
       "}\r\n",
       "\r\n",
       "rec usage \"A3\" as E16  <<(T,blue)action>> [[psysml:b76bbc08-81d4-47ab-9a49-666299d123cf ]] {\r\n",
       "}\r\n",
       "\r\n",
       "rec usage \"S\" as E17  <<(T,blue)transition>> [[psysml:fe245d46-438e-4c8f-ab18-310121fc2f41 ]] {\r\n",
       "rec usage \"A1\" as E18  <<(T,blue)action>> [[psysml:fe5e89f6-2dc9-4b0f-8489-37aae8d1db14 ]] {\r\n",
       "}\r\n",
       "\r\n",
       "portout \"$result\" as E19  [[psysml:5f694de1-2ca1-44b7-80b3-60a608cc3133 ]] \r\n",
       "portin \"$x\" as E20  [[psysml:8143e50d-1193-4d25-859f-77f062ba674d ]] \r\n",
       "portin \"$y\" as E21  [[psysml:ba8e69b2-a3c6-4a24-b7d7-ae4c7f563c95 ]] \r\n",
       "portout \"$result\" as E22  [[psysml:24237d18-6666-403f-9475-d2e8cf84f852 ]] \r\n",
       "}\r\n",
       "\r\n",
       "rec usage \"A3\" as E23  <<(T,blue)action>> [[psysml:b76bbc08-81d4-47ab-9a49-666299d123cf ]] {\r\n",
       "}\r\n",
       "\r\n",
       "{\r\n",
       "portout \"$result\" as E24  [[psysml:f904355a-9712-4e0c-a9b6-5ecdd1390be6 ]] \r\n",
       "portin \"$x\" as E25  [[psysml:c4435769-fd75-4fbf-95a7-29566a6c8186 ]] \r\n",
       "portin \"$y\" as E26  [[psysml:e2db5bbd-dd5d-422a-81f2-d836869b1ec1 ]] \r\n",
       "portout \"$result\" as E27  [[psysml:f774fe7e-8d66-439a-b027-16ceb2b41e9d ]] \r\n",
       "}\r\n",
       "\r\n",
       "}\r\n",
       "\r\n",
       "E6 -[thickness=5]- E4 [[psysml:22575a94-d313-4c92-b3bf-e872aff40b38 ]] \r\n",
       "E10 -[thickness=5]- E8 [[psysml:468e3065-35eb-4f7a-b0d7-b4ac24204b50 ]] \r\n",
       "E21 -[thickness=5]- E19 [[psysml:6eff49c6-4c1b-4a79-924a-d43d01989d36 ]] \r\n",
       "E26 -[thickness=5]- E24 [[psysml:02504f01-5bd4-4b5c-8fa7-2e89e01e6fe9 ]] \r\n",
       "@enduml\r\n",
       "\n",
       "PlantUML version 1.2020.13(Sat Jun 13 12:26:38 UTC 2020)\n",
       "(EPL source distribution)\n",
       "Java Runtime: OpenJDK Runtime Environment\n",
       "JVM: OpenJDK 64-Bit Server VM\n",
       "Default Encoding: UTF-8\n",
       "Language: en\n",
       "Country: null\n",
       "--></g></svg>"
      ]
     },
     "execution_count": 57,
     "metadata": {},
     "output_type": "execute_result"
    }
   ],
   "source": [
    "%viz --style=\"ORTHOLINE\" --view=\"MIXED\" \"DecisionTest\""
   ]
  }
 ],
 "metadata": {
  "kernelspec": {
   "display_name": "SysML",
   "language": "sysml",
   "name": "sysml"
  },
  "language_info": {
   "codemirror_mode": "sysml",
   "file_extension": ".sysml",
   "mimetype": "text/x-sysml",
   "name": "SysML",
   "pygments_lexer": "java",
   "version": "1.0.0"
  }
 },
 "nbformat": 4,
 "nbformat_minor": 5
}
