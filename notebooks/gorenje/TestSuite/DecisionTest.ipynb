{
 "cells": [
  {
   "cell_type": "markdown",
   "id": "thick-monte",
   "metadata": {},
   "source": [
    "# SysML v2 Test Suite\n",
    "\n",
    "This can notebook can be cleared using menu `Edit --> Clear All Outputs` and then all cells can be\n",
    "run using menu `Run --> Run All Cells`.\n",
    "\n",
    "**WARNING**: This file is generated, all modifications here will be ignored.\n"
   ]
  },
  {
   "cell_type": "markdown",
   "id": "infinite-richmond",
   "metadata": {},
   "source": [
    "## File: ../../sysml/src/examples/Simple Tests/DecisionTest.sysml"
   ]
  },
  {
   "cell_type": "code",
   "execution_count": 1,
   "id": "stone-lightweight",
   "metadata": {
    "execution": {
     "iopub.execute_input": "2021-03-25T16:05:57.586674Z",
     "iopub.status.busy": "2021-03-25T16:05:57.585587Z",
     "iopub.status.idle": "2021-03-25T16:05:58.434875Z",
     "shell.execute_reply": "2021-03-25T16:05:58.434253Z"
    }
   },
   "outputs": [
    {
     "data": {
      "text/plain": [
       "ActionDefinition DecisionTest (8f747b2d-92a5-4838-88b3-1be66f5891d9)\n"
      ]
     },
     "execution_count": 1,
     "metadata": {},
     "output_type": "execute_result"
    }
   ],
   "source": [
    "action def DecisionTest {\n",
    "\tattribute x = 1;\n",
    "\t\n",
    "\tdecide 'test x';\n",
    "\tif x == 1 then A1; \n",
    "\tif x > 1 then A2;\n",
    "\telse A3; \n",
    "\t\n",
    "\tthen decide; \n",
    "\tif true then A1;\n",
    "\tif false then A2;\n",
    "\t\n",
    "\taction A1;\n",
    "\taction A2;\n",
    "\taction A3;\n",
    "\t\n",
    "\tsuccession S first A1 \n",
    "\t\tif x == 0 then A2;\n",
    "\t\t\n",
    "\tfirst A3;\n",
    "\t\tif x > 0 then 'test x';\n",
    "}"
   ]
  },
  {
   "cell_type": "code",
   "execution_count": 2,
   "id": "brave-programming",
   "metadata": {
    "execution": {
     "iopub.execute_input": "2021-03-25T16:05:58.486725Z",
     "iopub.status.busy": "2021-03-25T16:05:58.486271Z",
     "iopub.status.idle": "2021-03-25T16:05:58.500267Z",
     "shell.execute_reply": "2021-03-25T16:05:58.500740Z"
    }
   },
   "outputs": [
    {
     "data": {
      "text/plain": [
       "java.lang.IllegalArgumentException: Invalid Style: COMPTREE Possible styles: POLYLINE, LR, STDCOLOR, PLANTUML, DEFAULT, TB, ORTHOLINE\n",
       "\tat org.omg.sysml.plantuml.SysML2PlantUMLStyle.get(SysML2PlantUMLStyle.java:258)\n",
       "\tat org.omg.sysml.plantuml.SysML2PlantUMLSvc.applyStyle(SysML2PlantUMLSvc.java:73)\n",
       "\tat org.omg.sysml.plantuml.SysML2PlantUMLSvc.getPlantUMLCode(SysML2PlantUMLSvc.java:88)\n",
       "\tat org.omg.sysml.plantuml.SysML2PlantUMLSvc.getSVG(SysML2PlantUMLSvc.java:99)\n",
       "\tat org.omg.sysml.interactive.SysMLInteractive.viz(SysMLInteractive.java:294)\n",
       "\tat org.omg.sysml.jupyter.kernel.magic.Viz.viz(Viz.java:47)\n",
       "\tat java.base/jdk.internal.reflect.NativeMethodAccessorImpl.invoke0(Native Method)\n",
       "\tat java.base/jdk.internal.reflect.NativeMethodAccessorImpl.invoke(NativeMethodAccessorImpl.java:78)\n",
       "\tat java.base/jdk.internal.reflect.DelegatingMethodAccessorImpl.invoke(DelegatingMethodAccessorImpl.java:43)\n",
       "\tat java.base/java.lang.reflect.Method.invoke(Method.java:568)\n",
       "\tat io.github.spencerpark.jupyter.kernel.magic.registry.Magics.invoke(Magics.java:89)\n",
       "\tat io.github.spencerpark.jupyter.kernel.magic.registry.Magics.access$000(Magics.java:8)\n",
       "\tat io.github.spencerpark.jupyter.kernel.magic.registry.Magics$LineReflectionMagicFunction.execute(Magics.java:149)\n",
       "\tat io.github.spencerpark.jupyter.kernel.magic.registry.Magics.applyLineMagic(Magics.java:26)\n",
       "\tat org.omg.sysml.jupyter.kernel.SysMLKernel.eval(SysMLKernel.java:76)\n",
       "\tat io.github.spencerpark.jupyter.kernel.BaseKernel.handleExecuteRequest(BaseKernel.java:334)\n",
       "\tat io.github.spencerpark.jupyter.channels.ShellChannel.lambda$bind$0(ShellChannel.java:64)\n",
       "\tat io.github.spencerpark.jupyter.channels.Loop.lambda$new$0(Loop.java:21)\n",
       "\tat io.github.spencerpark.jupyter.channels.Loop.run(Loop.java:78)\n"
      ]
     },
     "execution_count": 2,
     "metadata": {},
     "output_type": "execute_result"
    }
   ],
   "source": [
    "%viz --style=\"COMPTREE\" --view=\"Default\" \"DecisionTest\""
   ]
  },
  {
   "cell_type": "code",
   "execution_count": 3,
   "id": "compatible-leather",
   "metadata": {
    "execution": {
     "iopub.execute_input": "2021-03-25T16:05:58.552467Z",
     "iopub.status.busy": "2021-03-25T16:05:58.551924Z",
     "iopub.status.idle": "2021-03-25T16:05:58.556636Z",
     "shell.execute_reply": "2021-03-25T16:05:58.557024Z"
    }
   },
   "outputs": [
    {
     "data": {
      "text/plain": [
       "java.lang.IllegalArgumentException: Invalid Style: COMPTREE Possible styles: POLYLINE, LR, STDCOLOR, PLANTUML, DEFAULT, TB, ORTHOLINE\n",
       "\tat org.omg.sysml.plantuml.SysML2PlantUMLStyle.get(SysML2PlantUMLStyle.java:258)\n",
       "\tat org.omg.sysml.plantuml.SysML2PlantUMLSvc.applyStyle(SysML2PlantUMLSvc.java:73)\n",
       "\tat org.omg.sysml.plantuml.SysML2PlantUMLSvc.getPlantUMLCode(SysML2PlantUMLSvc.java:88)\n",
       "\tat org.omg.sysml.plantuml.SysML2PlantUMLSvc.getSVG(SysML2PlantUMLSvc.java:99)\n",
       "\tat org.omg.sysml.interactive.SysMLInteractive.viz(SysMLInteractive.java:294)\n",
       "\tat org.omg.sysml.jupyter.kernel.magic.Viz.viz(Viz.java:47)\n",
       "\tat java.base/jdk.internal.reflect.NativeMethodAccessorImpl.invoke0(Native Method)\n",
       "\tat java.base/jdk.internal.reflect.NativeMethodAccessorImpl.invoke(NativeMethodAccessorImpl.java:78)\n",
       "\tat java.base/jdk.internal.reflect.DelegatingMethodAccessorImpl.invoke(DelegatingMethodAccessorImpl.java:43)\n",
       "\tat java.base/java.lang.reflect.Method.invoke(Method.java:568)\n",
       "\tat io.github.spencerpark.jupyter.kernel.magic.registry.Magics.invoke(Magics.java:89)\n",
       "\tat io.github.spencerpark.jupyter.kernel.magic.registry.Magics.access$000(Magics.java:8)\n",
       "\tat io.github.spencerpark.jupyter.kernel.magic.registry.Magics$LineReflectionMagicFunction.execute(Magics.java:149)\n",
       "\tat io.github.spencerpark.jupyter.kernel.magic.registry.Magics.applyLineMagic(Magics.java:26)\n",
       "\tat org.omg.sysml.jupyter.kernel.SysMLKernel.eval(SysMLKernel.java:76)\n",
       "\tat io.github.spencerpark.jupyter.kernel.BaseKernel.handleExecuteRequest(BaseKernel.java:334)\n",
       "\tat io.github.spencerpark.jupyter.channels.ShellChannel.lambda$bind$0(ShellChannel.java:64)\n",
       "\tat io.github.spencerpark.jupyter.channels.Loop.lambda$new$0(Loop.java:21)\n",
       "\tat io.github.spencerpark.jupyter.channels.Loop.run(Loop.java:78)\n"
      ]
     },
     "execution_count": 3,
     "metadata": {},
     "output_type": "execute_result"
    }
   ],
   "source": [
    "%viz --style=\"COMPTREE\" --view=\"Tree\" \"DecisionTest\""
   ]
  },
  {
   "cell_type": "code",
   "execution_count": 4,
   "id": "connected-butterfly",
   "metadata": {
    "execution": {
     "iopub.execute_input": "2021-03-25T16:05:58.608708Z",
     "iopub.status.busy": "2021-03-25T16:05:58.608331Z",
     "iopub.status.idle": "2021-03-25T16:05:58.613673Z",
     "shell.execute_reply": "2021-03-25T16:05:58.613168Z"
    }
   },
   "outputs": [
    {
     "data": {
      "text/plain": [
       "java.lang.IllegalArgumentException: Invalid View: State View candidates are: Default Tree StateMachine Interconnection Activity Sequence MIXED \n",
       "\tat org.omg.sysml.plantuml.SysML2PlantUMLSvc.setView(SysML2PlantUMLSvc.java:63)\n",
       "\tat org.omg.sysml.interactive.SysMLInteractive.viz(SysMLInteractive.java:286)\n",
       "\tat org.omg.sysml.jupyter.kernel.magic.Viz.viz(Viz.java:47)\n",
       "\tat java.base/jdk.internal.reflect.NativeMethodAccessorImpl.invoke0(Native Method)\n",
       "\tat java.base/jdk.internal.reflect.NativeMethodAccessorImpl.invoke(NativeMethodAccessorImpl.java:78)\n",
       "\tat java.base/jdk.internal.reflect.DelegatingMethodAccessorImpl.invoke(DelegatingMethodAccessorImpl.java:43)\n",
       "\tat java.base/java.lang.reflect.Method.invoke(Method.java:568)\n",
       "\tat io.github.spencerpark.jupyter.kernel.magic.registry.Magics.invoke(Magics.java:89)\n",
       "\tat io.github.spencerpark.jupyter.kernel.magic.registry.Magics.access$000(Magics.java:8)\n",
       "\tat io.github.spencerpark.jupyter.kernel.magic.registry.Magics$LineReflectionMagicFunction.execute(Magics.java:149)\n",
       "\tat io.github.spencerpark.jupyter.kernel.magic.registry.Magics.applyLineMagic(Magics.java:26)\n",
       "\tat org.omg.sysml.jupyter.kernel.SysMLKernel.eval(SysMLKernel.java:76)\n",
       "\tat io.github.spencerpark.jupyter.kernel.BaseKernel.handleExecuteRequest(BaseKernel.java:334)\n",
       "\tat io.github.spencerpark.jupyter.channels.ShellChannel.lambda$bind$0(ShellChannel.java:64)\n",
       "\tat io.github.spencerpark.jupyter.channels.Loop.lambda$new$0(Loop.java:21)\n",
       "\tat io.github.spencerpark.jupyter.channels.Loop.run(Loop.java:78)\n"
      ]
     },
     "execution_count": 4,
     "metadata": {},
     "output_type": "execute_result"
    }
   ],
   "source": [
    "%viz --style=\"COMPTREE\" --view=\"State\" \"DecisionTest\""
   ]
  },
  {
   "cell_type": "code",
   "execution_count": 5,
   "id": "refined-southwest",
   "metadata": {
    "execution": {
     "iopub.execute_input": "2021-03-25T16:05:58.664783Z",
     "iopub.status.busy": "2021-03-25T16:05:58.664276Z",
     "iopub.status.idle": "2021-03-25T16:05:58.666381Z",
     "shell.execute_reply": "2021-03-25T16:05:58.666775Z"
    }
   },
   "outputs": [
    {
     "data": {
      "text/plain": [
       "java.lang.IllegalArgumentException: Invalid Style: COMPTREE Possible styles: POLYLINE, LR, STDCOLOR, PLANTUML, DEFAULT, TB, ORTHOLINE\n",
       "\tat org.omg.sysml.plantuml.SysML2PlantUMLStyle.get(SysML2PlantUMLStyle.java:258)\n",
       "\tat org.omg.sysml.plantuml.SysML2PlantUMLSvc.applyStyle(SysML2PlantUMLSvc.java:73)\n",
       "\tat org.omg.sysml.plantuml.SysML2PlantUMLSvc.getPlantUMLCode(SysML2PlantUMLSvc.java:88)\n",
       "\tat org.omg.sysml.plantuml.SysML2PlantUMLSvc.getSVG(SysML2PlantUMLSvc.java:99)\n",
       "\tat org.omg.sysml.interactive.SysMLInteractive.viz(SysMLInteractive.java:294)\n",
       "\tat org.omg.sysml.jupyter.kernel.magic.Viz.viz(Viz.java:47)\n",
       "\tat java.base/jdk.internal.reflect.NativeMethodAccessorImpl.invoke0(Native Method)\n",
       "\tat java.base/jdk.internal.reflect.NativeMethodAccessorImpl.invoke(NativeMethodAccessorImpl.java:78)\n",
       "\tat java.base/jdk.internal.reflect.DelegatingMethodAccessorImpl.invoke(DelegatingMethodAccessorImpl.java:43)\n",
       "\tat java.base/java.lang.reflect.Method.invoke(Method.java:568)\n",
       "\tat io.github.spencerpark.jupyter.kernel.magic.registry.Magics.invoke(Magics.java:89)\n",
       "\tat io.github.spencerpark.jupyter.kernel.magic.registry.Magics.access$000(Magics.java:8)\n",
       "\tat io.github.spencerpark.jupyter.kernel.magic.registry.Magics$LineReflectionMagicFunction.execute(Magics.java:149)\n",
       "\tat io.github.spencerpark.jupyter.kernel.magic.registry.Magics.applyLineMagic(Magics.java:26)\n",
       "\tat org.omg.sysml.jupyter.kernel.SysMLKernel.eval(SysMLKernel.java:76)\n",
       "\tat io.github.spencerpark.jupyter.kernel.BaseKernel.handleExecuteRequest(BaseKernel.java:334)\n",
       "\tat io.github.spencerpark.jupyter.channels.ShellChannel.lambda$bind$0(ShellChannel.java:64)\n",
       "\tat io.github.spencerpark.jupyter.channels.Loop.lambda$new$0(Loop.java:21)\n",
       "\tat io.github.spencerpark.jupyter.channels.Loop.run(Loop.java:78)\n"
      ]
     },
     "execution_count": 5,
     "metadata": {},
     "output_type": "execute_result"
    }
   ],
   "source": [
    "%viz --style=\"COMPTREE\" --view=\"Interconnection\" \"DecisionTest\""
   ]
  },
  {
   "cell_type": "code",
   "execution_count": 6,
   "id": "computational-breeding",
   "metadata": {
    "execution": {
     "iopub.execute_input": "2021-03-25T16:05:58.718761Z",
     "iopub.status.busy": "2021-03-25T16:05:58.718013Z",
     "iopub.status.idle": "2021-03-25T16:05:58.722523Z",
     "shell.execute_reply": "2021-03-25T16:05:58.722925Z"
    }
   },
   "outputs": [
    {
     "data": {
      "text/plain": [
       "java.lang.IllegalArgumentException: Invalid View: Action View candidates are: Default Tree StateMachine Interconnection Activity Sequence MIXED \n",
       "\tat org.omg.sysml.plantuml.SysML2PlantUMLSvc.setView(SysML2PlantUMLSvc.java:63)\n",
       "\tat org.omg.sysml.interactive.SysMLInteractive.viz(SysMLInteractive.java:286)\n",
       "\tat org.omg.sysml.jupyter.kernel.magic.Viz.viz(Viz.java:47)\n",
       "\tat java.base/jdk.internal.reflect.NativeMethodAccessorImpl.invoke0(Native Method)\n",
       "\tat java.base/jdk.internal.reflect.NativeMethodAccessorImpl.invoke(NativeMethodAccessorImpl.java:78)\n",
       "\tat java.base/jdk.internal.reflect.DelegatingMethodAccessorImpl.invoke(DelegatingMethodAccessorImpl.java:43)\n",
       "\tat java.base/java.lang.reflect.Method.invoke(Method.java:568)\n",
       "\tat io.github.spencerpark.jupyter.kernel.magic.registry.Magics.invoke(Magics.java:89)\n",
       "\tat io.github.spencerpark.jupyter.kernel.magic.registry.Magics.access$000(Magics.java:8)\n",
       "\tat io.github.spencerpark.jupyter.kernel.magic.registry.Magics$LineReflectionMagicFunction.execute(Magics.java:149)\n",
       "\tat io.github.spencerpark.jupyter.kernel.magic.registry.Magics.applyLineMagic(Magics.java:26)\n",
       "\tat org.omg.sysml.jupyter.kernel.SysMLKernel.eval(SysMLKernel.java:76)\n",
       "\tat io.github.spencerpark.jupyter.kernel.BaseKernel.handleExecuteRequest(BaseKernel.java:334)\n",
       "\tat io.github.spencerpark.jupyter.channels.ShellChannel.lambda$bind$0(ShellChannel.java:64)\n",
       "\tat io.github.spencerpark.jupyter.channels.Loop.lambda$new$0(Loop.java:21)\n",
       "\tat io.github.spencerpark.jupyter.channels.Loop.run(Loop.java:78)\n"
      ]
     },
     "execution_count": 6,
     "metadata": {},
     "output_type": "execute_result"
    }
   ],
   "source": [
    "%viz --style=\"COMPTREE\" --view=\"Action\" \"DecisionTest\""
   ]
  },
  {
   "cell_type": "code",
   "execution_count": 7,
   "id": "developmental-green",
   "metadata": {
    "execution": {
     "iopub.execute_input": "2021-03-25T16:05:58.773771Z",
     "iopub.status.busy": "2021-03-25T16:05:58.773355Z",
     "iopub.status.idle": "2021-03-25T16:05:58.774920Z",
     "shell.execute_reply": "2021-03-25T16:05:58.775373Z"
    }
   },
   "outputs": [
    {
     "data": {
      "text/plain": [
       "java.lang.IllegalArgumentException: Invalid Style: COMPTREE Possible styles: POLYLINE, LR, STDCOLOR, PLANTUML, DEFAULT, TB, ORTHOLINE\n",
       "\tat org.omg.sysml.plantuml.SysML2PlantUMLStyle.get(SysML2PlantUMLStyle.java:258)\n",
       "\tat org.omg.sysml.plantuml.SysML2PlantUMLSvc.applyStyle(SysML2PlantUMLSvc.java:73)\n",
       "\tat org.omg.sysml.plantuml.SysML2PlantUMLSvc.getPlantUMLCode(SysML2PlantUMLSvc.java:88)\n",
       "\tat org.omg.sysml.plantuml.SysML2PlantUMLSvc.getSVG(SysML2PlantUMLSvc.java:99)\n",
       "\tat org.omg.sysml.interactive.SysMLInteractive.viz(SysMLInteractive.java:294)\n",
       "\tat org.omg.sysml.jupyter.kernel.magic.Viz.viz(Viz.java:47)\n",
       "\tat java.base/jdk.internal.reflect.NativeMethodAccessorImpl.invoke0(Native Method)\n",
       "\tat java.base/jdk.internal.reflect.NativeMethodAccessorImpl.invoke(NativeMethodAccessorImpl.java:78)\n",
       "\tat java.base/jdk.internal.reflect.DelegatingMethodAccessorImpl.invoke(DelegatingMethodAccessorImpl.java:43)\n",
       "\tat java.base/java.lang.reflect.Method.invoke(Method.java:568)\n",
       "\tat io.github.spencerpark.jupyter.kernel.magic.registry.Magics.invoke(Magics.java:89)\n",
       "\tat io.github.spencerpark.jupyter.kernel.magic.registry.Magics.access$000(Magics.java:8)\n",
       "\tat io.github.spencerpark.jupyter.kernel.magic.registry.Magics$LineReflectionMagicFunction.execute(Magics.java:149)\n",
       "\tat io.github.spencerpark.jupyter.kernel.magic.registry.Magics.applyLineMagic(Magics.java:26)\n",
       "\tat org.omg.sysml.jupyter.kernel.SysMLKernel.eval(SysMLKernel.java:76)\n",
       "\tat io.github.spencerpark.jupyter.kernel.BaseKernel.handleExecuteRequest(BaseKernel.java:334)\n",
       "\tat io.github.spencerpark.jupyter.channels.ShellChannel.lambda$bind$0(ShellChannel.java:64)\n",
       "\tat io.github.spencerpark.jupyter.channels.Loop.lambda$new$0(Loop.java:21)\n",
       "\tat io.github.spencerpark.jupyter.channels.Loop.run(Loop.java:78)\n"
      ]
     },
     "execution_count": 7,
     "metadata": {},
     "output_type": "execute_result"
    }
   ],
   "source": [
    "%viz --style=\"COMPTREE\" --view=\"Sequence\" \"DecisionTest\""
   ]
  },
  {
   "cell_type": "code",
   "execution_count": 8,
   "id": "analyzed-valentine",
   "metadata": {
    "execution": {
     "iopub.execute_input": "2021-03-25T16:05:58.826588Z",
     "iopub.status.busy": "2021-03-25T16:05:58.826088Z",
     "iopub.status.idle": "2021-03-25T16:05:58.831076Z",
     "shell.execute_reply": "2021-03-25T16:05:58.831527Z"
    }
   },
   "outputs": [
    {
     "data": {
      "text/plain": [
       "java.lang.IllegalArgumentException: Invalid Style: COMPTREE Possible styles: POLYLINE, LR, STDCOLOR, PLANTUML, DEFAULT, TB, ORTHOLINE\n",
       "\tat org.omg.sysml.plantuml.SysML2PlantUMLStyle.get(SysML2PlantUMLStyle.java:258)\n",
       "\tat org.omg.sysml.plantuml.SysML2PlantUMLSvc.applyStyle(SysML2PlantUMLSvc.java:73)\n",
       "\tat org.omg.sysml.plantuml.SysML2PlantUMLSvc.getPlantUMLCode(SysML2PlantUMLSvc.java:88)\n",
       "\tat org.omg.sysml.plantuml.SysML2PlantUMLSvc.getSVG(SysML2PlantUMLSvc.java:99)\n",
       "\tat org.omg.sysml.interactive.SysMLInteractive.viz(SysMLInteractive.java:294)\n",
       "\tat org.omg.sysml.jupyter.kernel.magic.Viz.viz(Viz.java:47)\n",
       "\tat java.base/jdk.internal.reflect.NativeMethodAccessorImpl.invoke0(Native Method)\n",
       "\tat java.base/jdk.internal.reflect.NativeMethodAccessorImpl.invoke(NativeMethodAccessorImpl.java:78)\n",
       "\tat java.base/jdk.internal.reflect.DelegatingMethodAccessorImpl.invoke(DelegatingMethodAccessorImpl.java:43)\n",
       "\tat java.base/java.lang.reflect.Method.invoke(Method.java:568)\n",
       "\tat io.github.spencerpark.jupyter.kernel.magic.registry.Magics.invoke(Magics.java:89)\n",
       "\tat io.github.spencerpark.jupyter.kernel.magic.registry.Magics.access$000(Magics.java:8)\n",
       "\tat io.github.spencerpark.jupyter.kernel.magic.registry.Magics$LineReflectionMagicFunction.execute(Magics.java:149)\n",
       "\tat io.github.spencerpark.jupyter.kernel.magic.registry.Magics.applyLineMagic(Magics.java:26)\n",
       "\tat org.omg.sysml.jupyter.kernel.SysMLKernel.eval(SysMLKernel.java:76)\n",
       "\tat io.github.spencerpark.jupyter.kernel.BaseKernel.handleExecuteRequest(BaseKernel.java:334)\n",
       "\tat io.github.spencerpark.jupyter.channels.ShellChannel.lambda$bind$0(ShellChannel.java:64)\n",
       "\tat io.github.spencerpark.jupyter.channels.Loop.lambda$new$0(Loop.java:21)\n",
       "\tat io.github.spencerpark.jupyter.channels.Loop.run(Loop.java:78)\n"
      ]
     },
     "execution_count": 8,
     "metadata": {},
     "output_type": "execute_result"
    }
   ],
   "source": [
    "%viz --style=\"COMPTREE\" --view=\"MIXED\" \"DecisionTest\""
   ]
  },
  {
   "cell_type": "code",
   "execution_count": 9,
   "id": "loose-eating",
   "metadata": {
    "execution": {
     "iopub.execute_input": "2021-03-25T16:05:58.882389Z",
     "iopub.status.busy": "2021-03-25T16:05:58.881800Z",
     "iopub.status.idle": "2021-03-25T16:05:59.687714Z",
     "shell.execute_reply": "2021-03-25T16:05:59.686431Z"
    }
   },
   "outputs": [
    {
     "data": {
      "image/svg+xml": [
       "<?xml version=\"1.0\" encoding=\"UTF-8\" standalone=\"no\"?><svg xmlns=\"http://www.w3.org/2000/svg\" xmlns:xlink=\"http://www.w3.org/1999/xlink\" contentScriptType=\"application/ecmascript\" contentStyleType=\"text/css\" height=\"517px\" preserveAspectRatio=\"none\" style=\"width:540px;height:517px;\" version=\"1.1\" viewBox=\"0 0 540 517\" width=\"540px\" zoomAndPan=\"magnify\"><defs/><g><!--MD5=[fbc87193dbaf4d95561dea2c320d4a47]\n",
       "cluster E1--><rect fill=\"#FFFFFF\" height=\"473\" style=\"stroke: #000000; stroke-width: 1.5;\" width=\"522\" x=\"7\" y=\"12.0986\"/><text fill=\"#000000\" font-family=\"sans-serif\" font-size=\"14\" font-weight=\"bold\" lengthAdjust=\"spacingAndGlyphs\" textLength=\"102\" x=\"217\" y=\"27.0938\">DecisionTest</text><!--MD5=[168fadf3d0c3fd93dd5d6da1b1d7ab76]\n",
       "cluster E7--><rect fill=\"#F8F8F8\" height=\"371\" rx=\"12.5\" ry=\"12.5\" style=\"stroke: #000000; stroke-width: 1.5;\" width=\"115\" x=\"340\" y=\"42.0986\"/><rect fill=\"#FFFFFF\" height=\"338.7031\" rx=\"12.5\" ry=\"12.5\" style=\"stroke: #FFFFFF; stroke-width: 1.0;\" width=\"109\" x=\"343\" y=\"71.3955\"/><line style=\"stroke: #000000; stroke-width: 1.5;\" x1=\"340\" x2=\"455\" y1=\"68.3955\" y2=\"68.3955\"/><text fill=\"#000000\" font-family=\"sans-serif\" font-size=\"14\" lengthAdjust=\"spacingAndGlyphs\" textLength=\"9\" x=\"393\" y=\"60.0938\">S</text><text fill=\"#000000\" font-family=\"sans-serif\" font-size=\"14\" lengthAdjust=\"spacingAndGlyphs\" textLength=\"48\" x=\"146\" y=\"504.0938\">$result</text><rect fill=\"#383838\" height=\"12\" style=\"stroke: #F8F8F8; stroke-width: 1.5;\" width=\"12\" x=\"164\" y=\"479.0986\"/><g id=\"E1.E3\"><rect fill=\"#FFFFFF\" height=\"50\" rx=\"12.5\" ry=\"12.5\" style=\"stroke: #383838; stroke-width: 1.5;\" width=\"58\" x=\"278\" y=\"297.0986\"/><line style=\"stroke: #383838; stroke-width: 1.5;\" x1=\"278\" x2=\"336\" y1=\"323.3955\" y2=\"323.3955\"/><text fill=\"#000000\" font-family=\"sans-serif\" font-size=\"14\" lengthAdjust=\"spacingAndGlyphs\" textLength=\"38\" x=\"288\" y=\"315.0938\">test x</text></g><g id=\"E1.E4\"><rect fill=\"#FFFFFF\" height=\"50\" rx=\"12.5\" ry=\"12.5\" style=\"stroke: #383838; stroke-width: 1.5;\" width=\"50\" x=\"193\" y=\"297.0986\"/><line style=\"stroke: #383838; stroke-width: 1.5;\" x1=\"193\" x2=\"243\" y1=\"323.3955\" y2=\"323.3955\"/><text fill=\"#000000\" font-family=\"sans-serif\" font-size=\"14\" lengthAdjust=\"spacingAndGlyphs\" textLength=\"18\" x=\"209\" y=\"315.0938\">A1</text></g><g id=\"E1.E5\"><rect fill=\"#FFFFFF\" height=\"50\" rx=\"12.5\" ry=\"12.5\" style=\"stroke: #383838; stroke-width: 1.5;\" width=\"50\" x=\"463\" y=\"297.0986\"/><line style=\"stroke: #383838; stroke-width: 1.5;\" x1=\"463\" x2=\"513\" y1=\"323.3955\" y2=\"323.3955\"/><text fill=\"#000000\" font-family=\"sans-serif\" font-size=\"14\" lengthAdjust=\"spacingAndGlyphs\" textLength=\"18\" x=\"479\" y=\"315.0938\">A2</text></g><g id=\"E1.E6\"><rect fill=\"#FFFFFF\" height=\"50\" rx=\"12.5\" ry=\"12.5\" style=\"stroke: #383838; stroke-width: 1.5;\" width=\"50\" x=\"108\" y=\"297.0986\"/><line style=\"stroke: #383838; stroke-width: 1.5;\" x1=\"108\" x2=\"158\" y1=\"323.3955\" y2=\"323.3955\"/><text fill=\"#000000\" font-family=\"sans-serif\" font-size=\"14\" lengthAdjust=\"spacingAndGlyphs\" textLength=\"18\" x=\"124\" y=\"315.0938\">A3</text></g><text fill=\"#000000\" font-family=\"sans-serif\" font-size=\"14\" lengthAdjust=\"spacingAndGlyphs\" textLength=\"48\" x=\"334\" y=\"432.0938\">$result</text><rect fill=\"#383838\" height=\"12\" style=\"stroke: #F8F8F8; stroke-width: 1.5;\" width=\"12\" x=\"352\" y=\"407.0986\"/><text fill=\"#000000\" font-family=\"sans-serif\" font-size=\"14\" lengthAdjust=\"spacingAndGlyphs\" textLength=\"16\" x=\"350\" y=\"20.7969\">$x</text><rect fill=\"#383838\" height=\"12\" style=\"stroke: #F8F8F8; stroke-width: 1.5;\" width=\"12\" x=\"352\" y=\"36.0986\"/><text fill=\"#000000\" font-family=\"sans-serif\" font-size=\"14\" lengthAdjust=\"spacingAndGlyphs\" textLength=\"16\" x=\"397\" y=\"20.7969\">$y</text><rect fill=\"#383838\" height=\"12\" style=\"stroke: #F8F8F8; stroke-width: 1.5;\" width=\"12\" x=\"399\" y=\"36.0986\"/><text fill=\"#000000\" font-family=\"sans-serif\" font-size=\"14\" lengthAdjust=\"spacingAndGlyphs\" textLength=\"48\" x=\"381\" y=\"432.0938\">$result</text><rect fill=\"#383838\" height=\"12\" style=\"stroke: #F8F8F8; stroke-width: 1.5;\" width=\"12\" x=\"399\" y=\"407.0986\"/><g id=\"E1.E7.E8\"><rect fill=\"#FFFFFF\" height=\"50\" rx=\"12.5\" ry=\"12.5\" style=\"stroke: #383838; stroke-width: 1.5;\" width=\"50\" x=\"360\" y=\"187.0986\"/><line style=\"stroke: #383838; stroke-width: 1.5;\" x1=\"360\" x2=\"410\" y1=\"213.3955\" y2=\"213.3955\"/><text fill=\"#000000\" font-family=\"sans-serif\" font-size=\"14\" lengthAdjust=\"spacingAndGlyphs\" textLength=\"18\" x=\"376\" y=\"205.0938\">A1</text></g><g id=\"E1.E13\"><rect fill=\"#FFFFFF\" height=\"50\" rx=\"12.5\" ry=\"12.5\" style=\"stroke: #383838; stroke-width: 1.5;\" width=\"50\" x=\"23\" y=\"297.0986\"/><line style=\"stroke: #383838; stroke-width: 1.5;\" x1=\"23\" x2=\"73\" y1=\"323.3955\" y2=\"323.3955\"/><text fill=\"#000000\" font-family=\"sans-serif\" font-size=\"14\" lengthAdjust=\"spacingAndGlyphs\" textLength=\"18\" x=\"39\" y=\"315.0938\">A3</text></g><!--MD5=[7fa823448867f45d961c344e849ff405]\n",
       "link E11 to E9--><path d=\"M406.94,48.3586 C412.14,62.4686 426,100.0986 426,100.0986 C426,100.0986 426,237.0986 426,237.0986 C426,237.0986 422,347.0986 422,347.0986 C422,347.0986 378.11,391.6786 363.02,406.9986 \" fill=\"none\" id=\"E11-E9\" style=\"stroke: #383838; stroke-width: 5.0;\"/><!--MD5=[1ccb2481ffa92f8d51a74ee30c51832a]\n",
       "link E8 to E5--><path d=\"M408.12,237.3386 C423.89,253.8686 444.82,275.8186 461.3,293.1086 \" fill=\"none\" id=\"E8-&gt;E5\" style=\"stroke: #383838; stroke-width: 1.0;\"/><polygon fill=\"#383838\" points=\"464.96,296.9386,461.667,287.6566,461.5185,293.3115,455.8636,293.163,464.96,296.9386\" style=\"stroke: #383838; stroke-width: 1.0;\"/><!--MD5=[e27a5c8be68511c53ce64b91822182c4]\n",
       "@startuml\r\n",
       "skinparam linetype polyline\r\n",
       "skinparam monochrome true\r\n",
       "skinparam classbackgroundcolor white\r\n",
       "skinparam shadowing false\r\n",
       "skinparam wrapWidth 300\r\n",
       "hide circle\r\n",
       "\r\n",
       "rec def \"DecisionTest\" as E1 {\r\n",
       "portout \"$result\" as E2  \r\n",
       "rec usage \"test x\" as E3 {\r\n",
       "}\r\n",
       "\r\n",
       "rec usage \"A1\" as E4 {\r\n",
       "}\r\n",
       "\r\n",
       "rec usage \"A2\" as E5 {\r\n",
       "}\r\n",
       "\r\n",
       "rec usage \"A3\" as E6 {\r\n",
       "}\r\n",
       "\r\n",
       "rec usage \"S\" as E7 {\r\n",
       "rec usage \"A1\" as E8 {\r\n",
       "}\r\n",
       "\r\n",
       "portout \"$result\" as E9  \r\n",
       "portin \"$x\" as E10  \r\n",
       "portin \"$y\" as E11  \r\n",
       "portout \"$result\" as E12  \r\n",
       "}\r\n",
       "\r\n",
       "rec usage \"A3\" as E13 {\r\n",
       "}\r\n",
       "\r\n",
       "}\r\n",
       "\r\n",
       "E11 -[thickness=5]- E9\r\n",
       "E8 - -> E5\r\n",
       "@enduml\r\n",
       "\n",
       "PlantUML version 1.2020.13(Sat Jun 13 12:26:38 UTC 2020)\n",
       "(EPL source distribution)\n",
       "Java Runtime: OpenJDK Runtime Environment\n",
       "JVM: OpenJDK 64-Bit Server VM\n",
       "Default Encoding: UTF-8\n",
       "Language: en\n",
       "Country: null\n",
       "--></g></svg>"
      ]
     },
     "execution_count": 9,
     "metadata": {},
     "output_type": "execute_result"
    }
   ],
   "source": [
    "%viz --style=\"POLYLINE\" --view=\"Default\" \"DecisionTest\""
   ]
  },
  {
   "cell_type": "code",
   "execution_count": 10,
   "id": "sublime-forward",
   "metadata": {
    "execution": {
     "iopub.execute_input": "2021-03-25T16:05:59.739127Z",
     "iopub.status.busy": "2021-03-25T16:05:59.738473Z",
     "iopub.status.idle": "2021-03-25T16:06:01.167887Z",
     "shell.execute_reply": "2021-03-25T16:06:01.166992Z"
    }
   },
   "outputs": [
    {
     "data": {
      "image/svg+xml": [
       "<?xml version=\"1.0\" encoding=\"UTF-8\" standalone=\"no\"?><svg xmlns=\"http://www.w3.org/2000/svg\" xmlns:xlink=\"http://www.w3.org/1999/xlink\" contentScriptType=\"application/ecmascript\" contentStyleType=\"text/css\" height=\"191px\" preserveAspectRatio=\"none\" style=\"width:152px;height:191px;\" version=\"1.1\" viewBox=\"0 0 152 191\" width=\"152px\" zoomAndPan=\"magnify\"><defs/><g><!--MD5=[43c9051892ef23e1a46a86907403d788]\n",
       "class E1--><rect fill=\"#FFFFFF\" height=\"173.1797\" id=\"E1\" style=\"stroke: #383838; stroke-width: 1.5;\" width=\"134\" x=\"7\" y=\"7\"/><text fill=\"#000000\" font-family=\"sans-serif\" font-size=\"12\" font-style=\"italic\" lengthAdjust=\"spacingAndGlyphs\" textLength=\"77\" x=\"35.5\" y=\"23.1387\">«action def»</text><text fill=\"#000000\" font-family=\"sans-serif\" font-size=\"12\" lengthAdjust=\"spacingAndGlyphs\" textLength=\"80\" x=\"34\" y=\"37.1074\">DecisionTest</text><line style=\"stroke: #383838; stroke-width: 1.5;\" x1=\"8\" x2=\"140\" y1=\"44.9375\" y2=\"44.9375\"/><text fill=\"#000000\" font-family=\"sans-serif\" font-size=\"11\" lengthAdjust=\"spacingAndGlyphs\" textLength=\"95\" x=\"13\" y=\"59.1479\">x: DataValue= 1;</text><text fill=\"#000000\" font-family=\"sans-serif\" font-size=\"11\" lengthAdjust=\"spacingAndGlyphs\" textLength=\"56\" x=\"13\" y=\"88.7573\">A1: Action</text><text fill=\"#000000\" font-family=\"sans-serif\" font-size=\"11\" lengthAdjust=\"spacingAndGlyphs\" textLength=\"56\" x=\"13\" y=\"101.562\">A2: Action</text><text fill=\"#000000\" font-family=\"sans-serif\" font-size=\"11\" lengthAdjust=\"spacingAndGlyphs\" textLength=\"56\" x=\"13\" y=\"114.3667\">A3: Action</text><line style=\"stroke: #383838; stroke-width: 1.0;\" x1=\"8\" x2=\"53.5\" y1=\"72.1445\" y2=\"72.1445\"/><text fill=\"#000000\" font-family=\"sans-serif\" font-size=\"11\" lengthAdjust=\"spacingAndGlyphs\" textLength=\"41\" x=\"53.5\" y=\"75.4526\">actions</text><line style=\"stroke: #383838; stroke-width: 1.0;\" x1=\"94.5\" x2=\"140\" y1=\"72.1445\" y2=\"72.1445\"/><text fill=\"#000000\" font-family=\"sans-serif\" font-size=\"11\" lengthAdjust=\"spacingAndGlyphs\" textLength=\"122\" x=\"13\" y=\"143.9761\">test x: DecisionAction</text><line style=\"stroke: #383838; stroke-width: 1.0;\" x1=\"8\" x2=\"32.5\" y1=\"127.3633\" y2=\"127.3633\"/><text fill=\"#000000\" font-family=\"sans-serif\" font-size=\"11\" lengthAdjust=\"spacingAndGlyphs\" textLength=\"83\" x=\"32.5\" y=\"130.6714\">decisionNodes</text><line style=\"stroke: #383838; stroke-width: 1.0;\" x1=\"115.5\" x2=\"140\" y1=\"127.3633\" y2=\"127.3633\"/><text fill=\"#000000\" font-family=\"sans-serif\" font-size=\"11\" lengthAdjust=\"spacingAndGlyphs\" textLength=\"73\" x=\"13\" y=\"173.5854\">S: Transition</text><line style=\"stroke: #383838; stroke-width: 1.0;\" x1=\"8\" x2=\"43.5\" y1=\"156.9727\" y2=\"156.9727\"/><text fill=\"#000000\" font-family=\"sans-serif\" font-size=\"11\" lengthAdjust=\"spacingAndGlyphs\" textLength=\"61\" x=\"43.5\" y=\"160.2808\">transitions</text><line style=\"stroke: #383838; stroke-width: 1.0;\" x1=\"104.5\" x2=\"140\" y1=\"156.9727\" y2=\"156.9727\"/><!--MD5=[cc0cdab31cf3c0ac85756eaaa35f2438]\n",
       "@startuml\r\n",
       "skinparam linetype polyline\r\n",
       "skinparam monochrome true\r\n",
       "skinparam classbackgroundcolor white\r\n",
       "skinparam shadowing false\r\n",
       "skinparam wrapWidth 300\r\n",
       "hide circle\r\n",
       "\r\n",
       "comp def \"DecisionTest\" as E1  <<(T,blue)action def>> {\r\n",
       "x: DataValue= 1; \r\n",
       "- -actions- -\r\n",
       "A1: Action\r\n",
       "A2: Action\r\n",
       "A3: Action\r\n",
       "- -decisionNodes- -\r\n",
       "test x: DecisionAction\r\n",
       "- -transitions- -\r\n",
       "S: Transition\r\n",
       "}\r\n",
       "@enduml\r\n",
       "\n",
       "PlantUML version 1.2020.13(Sat Jun 13 12:26:38 UTC 2020)\n",
       "(EPL source distribution)\n",
       "Java Runtime: OpenJDK Runtime Environment\n",
       "JVM: OpenJDK 64-Bit Server VM\n",
       "Default Encoding: UTF-8\n",
       "Language: en\n",
       "Country: null\n",
       "--></g></svg>"
      ]
     },
     "execution_count": 10,
     "metadata": {},
     "output_type": "execute_result"
    }
   ],
   "source": [
    "%viz --style=\"POLYLINE\" --view=\"Tree\" \"DecisionTest\""
   ]
  },
  {
   "cell_type": "code",
   "execution_count": 11,
   "id": "reflected-animation",
   "metadata": {
    "execution": {
     "iopub.execute_input": "2021-03-25T16:06:01.218799Z",
     "iopub.status.busy": "2021-03-25T16:06:01.218396Z",
     "iopub.status.idle": "2021-03-25T16:06:01.221720Z",
     "shell.execute_reply": "2021-03-25T16:06:01.222112Z"
    }
   },
   "outputs": [
    {
     "data": {
      "text/plain": [
       "java.lang.IllegalArgumentException: Invalid View: State View candidates are: Default Tree StateMachine Interconnection Activity Sequence MIXED \n",
       "\tat org.omg.sysml.plantuml.SysML2PlantUMLSvc.setView(SysML2PlantUMLSvc.java:63)\n",
       "\tat org.omg.sysml.interactive.SysMLInteractive.viz(SysMLInteractive.java:286)\n",
       "\tat org.omg.sysml.jupyter.kernel.magic.Viz.viz(Viz.java:47)\n",
       "\tat java.base/jdk.internal.reflect.NativeMethodAccessorImpl.invoke0(Native Method)\n",
       "\tat java.base/jdk.internal.reflect.NativeMethodAccessorImpl.invoke(NativeMethodAccessorImpl.java:78)\n",
       "\tat java.base/jdk.internal.reflect.DelegatingMethodAccessorImpl.invoke(DelegatingMethodAccessorImpl.java:43)\n",
       "\tat java.base/java.lang.reflect.Method.invoke(Method.java:568)\n",
       "\tat io.github.spencerpark.jupyter.kernel.magic.registry.Magics.invoke(Magics.java:89)\n",
       "\tat io.github.spencerpark.jupyter.kernel.magic.registry.Magics.access$000(Magics.java:8)\n",
       "\tat io.github.spencerpark.jupyter.kernel.magic.registry.Magics$LineReflectionMagicFunction.execute(Magics.java:149)\n",
       "\tat io.github.spencerpark.jupyter.kernel.magic.registry.Magics.applyLineMagic(Magics.java:26)\n",
       "\tat org.omg.sysml.jupyter.kernel.SysMLKernel.eval(SysMLKernel.java:76)\n",
       "\tat io.github.spencerpark.jupyter.kernel.BaseKernel.handleExecuteRequest(BaseKernel.java:334)\n",
       "\tat io.github.spencerpark.jupyter.channels.ShellChannel.lambda$bind$0(ShellChannel.java:64)\n",
       "\tat io.github.spencerpark.jupyter.channels.Loop.lambda$new$0(Loop.java:21)\n",
       "\tat io.github.spencerpark.jupyter.channels.Loop.run(Loop.java:78)\n"
      ]
     },
     "execution_count": 11,
     "metadata": {},
     "output_type": "execute_result"
    }
   ],
   "source": [
    "%viz --style=\"POLYLINE\" --view=\"State\" \"DecisionTest\""
   ]
  },
  {
   "cell_type": "code",
   "execution_count": 12,
   "id": "intellectual-learning",
   "metadata": {
    "execution": {
     "iopub.execute_input": "2021-03-25T16:06:01.274709Z",
     "iopub.status.busy": "2021-03-25T16:06:01.273793Z",
     "iopub.status.idle": "2021-03-25T16:06:01.311821Z",
     "shell.execute_reply": "2021-03-25T16:06:01.311343Z"
    }
   },
   "outputs": [
    {
     "data": {
      "image/svg+xml": [
       "<?xml version=\"1.0\" encoding=\"UTF-8\" standalone=\"no\"?><svg xmlns=\"http://www.w3.org/2000/svg\" xmlns:xlink=\"http://www.w3.org/1999/xlink\" contentScriptType=\"application/ecmascript\" contentStyleType=\"text/css\" height=\"71px\" preserveAspectRatio=\"none\" style=\"width:104px;height:71px;\" version=\"1.1\" viewBox=\"0 0 104 71\" width=\"104px\" zoomAndPan=\"magnify\"><defs/><g><!--MD5=[43c9051892ef23e1a46a86907403d788]\n",
       "class E1--><rect fill=\"#FFFFFF\" height=\"53.9375\" id=\"E1\" style=\"stroke: #383838; stroke-width: 1.5;\" width=\"86\" x=\"7\" y=\"7\"/><text fill=\"#000000\" font-family=\"sans-serif\" font-size=\"12\" font-style=\"italic\" lengthAdjust=\"spacingAndGlyphs\" textLength=\"77\" x=\"11.5\" y=\"23.1387\">«action def»</text><text fill=\"#000000\" font-family=\"sans-serif\" font-size=\"12\" lengthAdjust=\"spacingAndGlyphs\" textLength=\"80\" x=\"10\" y=\"37.1074\">DecisionTest</text><line style=\"stroke: #383838; stroke-width: 1.5;\" x1=\"8\" x2=\"92\" y1=\"44.9375\" y2=\"44.9375\"/><line style=\"stroke: #383838; stroke-width: 1.5;\" x1=\"8\" x2=\"92\" y1=\"52.9375\" y2=\"52.9375\"/><!--MD5=[4dddfb92d7ca9b53900efb408a8f0d14]\n",
       "@startuml\r\n",
       "skinparam ranksep 8\r\n",
       "skinparam rectangle {\r\n",
       " backgroundColor<<block>> LightGreen\r\n",
       "}\r\n",
       "skinparam linetype polyline\r\n",
       "skinparam monochrome true\r\n",
       "skinparam classbackgroundcolor white\r\n",
       "skinparam shadowing false\r\n",
       "skinparam wrapWidth 300\r\n",
       "hide circle\r\n",
       "\r\n",
       "def \"DecisionTest\" as E1  <<action def>> \r\n",
       "@enduml\r\n",
       "\n",
       "PlantUML version 1.2020.13(Sat Jun 13 12:26:38 UTC 2020)\n",
       "(EPL source distribution)\n",
       "Java Runtime: OpenJDK Runtime Environment\n",
       "JVM: OpenJDK 64-Bit Server VM\n",
       "Default Encoding: UTF-8\n",
       "Language: en\n",
       "Country: null\n",
       "--></g></svg>"
      ]
     },
     "execution_count": 12,
     "metadata": {},
     "output_type": "execute_result"
    }
   ],
   "source": [
    "%viz --style=\"POLYLINE\" --view=\"Interconnection\" \"DecisionTest\""
   ]
  },
  {
   "cell_type": "code",
   "execution_count": 13,
   "id": "killing-train",
   "metadata": {
    "execution": {
     "iopub.execute_input": "2021-03-25T16:06:01.364091Z",
     "iopub.status.busy": "2021-03-25T16:06:01.363701Z",
     "iopub.status.idle": "2021-03-25T16:06:01.367232Z",
     "shell.execute_reply": "2021-03-25T16:06:01.367725Z"
    }
   },
   "outputs": [
    {
     "data": {
      "text/plain": [
       "java.lang.IllegalArgumentException: Invalid View: Action View candidates are: Default Tree StateMachine Interconnection Activity Sequence MIXED \n",
       "\tat org.omg.sysml.plantuml.SysML2PlantUMLSvc.setView(SysML2PlantUMLSvc.java:63)\n",
       "\tat org.omg.sysml.interactive.SysMLInteractive.viz(SysMLInteractive.java:286)\n",
       "\tat org.omg.sysml.jupyter.kernel.magic.Viz.viz(Viz.java:47)\n",
       "\tat java.base/jdk.internal.reflect.NativeMethodAccessorImpl.invoke0(Native Method)\n",
       "\tat java.base/jdk.internal.reflect.NativeMethodAccessorImpl.invoke(NativeMethodAccessorImpl.java:78)\n",
       "\tat java.base/jdk.internal.reflect.DelegatingMethodAccessorImpl.invoke(DelegatingMethodAccessorImpl.java:43)\n",
       "\tat java.base/java.lang.reflect.Method.invoke(Method.java:568)\n",
       "\tat io.github.spencerpark.jupyter.kernel.magic.registry.Magics.invoke(Magics.java:89)\n",
       "\tat io.github.spencerpark.jupyter.kernel.magic.registry.Magics.access$000(Magics.java:8)\n",
       "\tat io.github.spencerpark.jupyter.kernel.magic.registry.Magics$LineReflectionMagicFunction.execute(Magics.java:149)\n",
       "\tat io.github.spencerpark.jupyter.kernel.magic.registry.Magics.applyLineMagic(Magics.java:26)\n",
       "\tat org.omg.sysml.jupyter.kernel.SysMLKernel.eval(SysMLKernel.java:76)\n",
       "\tat io.github.spencerpark.jupyter.kernel.BaseKernel.handleExecuteRequest(BaseKernel.java:334)\n",
       "\tat io.github.spencerpark.jupyter.channels.ShellChannel.lambda$bind$0(ShellChannel.java:64)\n",
       "\tat io.github.spencerpark.jupyter.channels.Loop.lambda$new$0(Loop.java:21)\n",
       "\tat io.github.spencerpark.jupyter.channels.Loop.run(Loop.java:78)\n"
      ]
     },
     "execution_count": 13,
     "metadata": {},
     "output_type": "execute_result"
    }
   ],
   "source": [
    "%viz --style=\"POLYLINE\" --view=\"Action\" \"DecisionTest\""
   ]
  },
  {
   "cell_type": "code",
   "execution_count": 14,
   "id": "outstanding-greensboro",
   "metadata": {
    "execution": {
     "iopub.execute_input": "2021-03-25T16:06:01.418814Z",
     "iopub.status.busy": "2021-03-25T16:06:01.418419Z",
     "iopub.status.idle": "2021-03-25T16:06:02.728266Z",
     "shell.execute_reply": "2021-03-25T16:06:02.727886Z"
    }
   },
   "outputs": [
    {
     "data": {
      "image/svg+xml": [
       "<?xml version=\"1.0\" encoding=\"UTF-8\" standalone=\"no\"?><svg xmlns=\"http://www.w3.org/2000/svg\" xmlns:xlink=\"http://www.w3.org/1999/xlink\" contentScriptType=\"application/ecmascript\" contentStyleType=\"text/css\" height=\"191px\" preserveAspectRatio=\"none\" style=\"width:152px;height:191px;\" version=\"1.1\" viewBox=\"0 0 152 191\" width=\"152px\" zoomAndPan=\"magnify\"><defs/><g><!--MD5=[43c9051892ef23e1a46a86907403d788]\n",
       "class E1--><rect fill=\"#FFFFFF\" height=\"173.1797\" id=\"E1\" style=\"stroke: #383838; stroke-width: 1.5;\" width=\"134\" x=\"7\" y=\"7\"/><text fill=\"#000000\" font-family=\"sans-serif\" font-size=\"12\" font-style=\"italic\" lengthAdjust=\"spacingAndGlyphs\" textLength=\"77\" x=\"35.5\" y=\"23.1387\">«action def»</text><text fill=\"#000000\" font-family=\"sans-serif\" font-size=\"12\" lengthAdjust=\"spacingAndGlyphs\" textLength=\"80\" x=\"34\" y=\"37.1074\">DecisionTest</text><line style=\"stroke: #383838; stroke-width: 1.5;\" x1=\"8\" x2=\"140\" y1=\"44.9375\" y2=\"44.9375\"/><text fill=\"#000000\" font-family=\"sans-serif\" font-size=\"11\" lengthAdjust=\"spacingAndGlyphs\" textLength=\"95\" x=\"13\" y=\"59.1479\">x: DataValue= 1;</text><text fill=\"#000000\" font-family=\"sans-serif\" font-size=\"11\" lengthAdjust=\"spacingAndGlyphs\" textLength=\"56\" x=\"13\" y=\"88.7573\">A1: Action</text><text fill=\"#000000\" font-family=\"sans-serif\" font-size=\"11\" lengthAdjust=\"spacingAndGlyphs\" textLength=\"56\" x=\"13\" y=\"101.562\">A2: Action</text><text fill=\"#000000\" font-family=\"sans-serif\" font-size=\"11\" lengthAdjust=\"spacingAndGlyphs\" textLength=\"56\" x=\"13\" y=\"114.3667\">A3: Action</text><line style=\"stroke: #383838; stroke-width: 1.0;\" x1=\"8\" x2=\"53.5\" y1=\"72.1445\" y2=\"72.1445\"/><text fill=\"#000000\" font-family=\"sans-serif\" font-size=\"11\" lengthAdjust=\"spacingAndGlyphs\" textLength=\"41\" x=\"53.5\" y=\"75.4526\">actions</text><line style=\"stroke: #383838; stroke-width: 1.0;\" x1=\"94.5\" x2=\"140\" y1=\"72.1445\" y2=\"72.1445\"/><text fill=\"#000000\" font-family=\"sans-serif\" font-size=\"11\" lengthAdjust=\"spacingAndGlyphs\" textLength=\"122\" x=\"13\" y=\"143.9761\">test x: DecisionAction</text><line style=\"stroke: #383838; stroke-width: 1.0;\" x1=\"8\" x2=\"32.5\" y1=\"127.3633\" y2=\"127.3633\"/><text fill=\"#000000\" font-family=\"sans-serif\" font-size=\"11\" lengthAdjust=\"spacingAndGlyphs\" textLength=\"83\" x=\"32.5\" y=\"130.6714\">decisionNodes</text><line style=\"stroke: #383838; stroke-width: 1.0;\" x1=\"115.5\" x2=\"140\" y1=\"127.3633\" y2=\"127.3633\"/><text fill=\"#000000\" font-family=\"sans-serif\" font-size=\"11\" lengthAdjust=\"spacingAndGlyphs\" textLength=\"73\" x=\"13\" y=\"173.5854\">S: Transition</text><line style=\"stroke: #383838; stroke-width: 1.0;\" x1=\"8\" x2=\"43.5\" y1=\"156.9727\" y2=\"156.9727\"/><text fill=\"#000000\" font-family=\"sans-serif\" font-size=\"11\" lengthAdjust=\"spacingAndGlyphs\" textLength=\"61\" x=\"43.5\" y=\"160.2808\">transitions</text><line style=\"stroke: #383838; stroke-width: 1.0;\" x1=\"104.5\" x2=\"140\" y1=\"156.9727\" y2=\"156.9727\"/><!--MD5=[cc0cdab31cf3c0ac85756eaaa35f2438]\n",
       "@startuml\r\n",
       "skinparam linetype polyline\r\n",
       "skinparam monochrome true\r\n",
       "skinparam classbackgroundcolor white\r\n",
       "skinparam shadowing false\r\n",
       "skinparam wrapWidth 300\r\n",
       "hide circle\r\n",
       "\r\n",
       "comp def \"DecisionTest\" as E1  <<(T,blue)action def>> {\r\n",
       "x: DataValue= 1; \r\n",
       "- -actions- -\r\n",
       "A1: Action\r\n",
       "A2: Action\r\n",
       "A3: Action\r\n",
       "- -decisionNodes- -\r\n",
       "test x: DecisionAction\r\n",
       "- -transitions- -\r\n",
       "S: Transition\r\n",
       "}\r\n",
       "@enduml\r\n",
       "\n",
       "PlantUML version 1.2020.13(Sat Jun 13 12:26:38 UTC 2020)\n",
       "(EPL source distribution)\n",
       "Java Runtime: OpenJDK Runtime Environment\n",
       "JVM: OpenJDK 64-Bit Server VM\n",
       "Default Encoding: UTF-8\n",
       "Language: en\n",
       "Country: null\n",
       "--></g></svg>"
      ]
     },
     "execution_count": 14,
     "metadata": {},
     "output_type": "execute_result"
    }
   ],
   "source": [
    "%viz --style=\"POLYLINE\" --view=\"Sequence\" \"DecisionTest\""
   ]
  },
  {
   "cell_type": "code",
   "execution_count": 15,
   "id": "stunning-assistant",
   "metadata": {
    "execution": {
     "iopub.execute_input": "2021-03-25T16:06:02.778403Z",
     "iopub.status.busy": "2021-03-25T16:06:02.777827Z",
     "iopub.status.idle": "2021-03-25T16:06:02.854818Z",
     "shell.execute_reply": "2021-03-25T16:06:02.855258Z"
    }
   },
   "outputs": [
    {
     "data": {
      "image/svg+xml": [
       "<?xml version=\"1.0\" encoding=\"UTF-8\" standalone=\"no\"?><svg xmlns=\"http://www.w3.org/2000/svg\" xmlns:xlink=\"http://www.w3.org/1999/xlink\" contentScriptType=\"application/ecmascript\" contentStyleType=\"text/css\" height=\"517px\" preserveAspectRatio=\"none\" style=\"width:540px;height:517px;\" version=\"1.1\" viewBox=\"0 0 540 517\" width=\"540px\" zoomAndPan=\"magnify\"><defs/><g><!--MD5=[fbc87193dbaf4d95561dea2c320d4a47]\n",
       "cluster E1--><rect fill=\"#FFFFFF\" height=\"473\" style=\"stroke: #000000; stroke-width: 1.5;\" width=\"522\" x=\"7\" y=\"12.0986\"/><text fill=\"#000000\" font-family=\"sans-serif\" font-size=\"14\" font-weight=\"bold\" lengthAdjust=\"spacingAndGlyphs\" textLength=\"102\" x=\"217\" y=\"27.0938\">DecisionTest</text><!--MD5=[168fadf3d0c3fd93dd5d6da1b1d7ab76]\n",
       "cluster E7--><rect fill=\"#F8F8F8\" height=\"371\" rx=\"12.5\" ry=\"12.5\" style=\"stroke: #000000; stroke-width: 1.5;\" width=\"115\" x=\"340\" y=\"42.0986\"/><rect fill=\"#FFFFFF\" height=\"338.7031\" rx=\"12.5\" ry=\"12.5\" style=\"stroke: #FFFFFF; stroke-width: 1.0;\" width=\"109\" x=\"343\" y=\"71.3955\"/><line style=\"stroke: #000000; stroke-width: 1.5;\" x1=\"340\" x2=\"455\" y1=\"68.3955\" y2=\"68.3955\"/><text fill=\"#000000\" font-family=\"sans-serif\" font-size=\"14\" lengthAdjust=\"spacingAndGlyphs\" textLength=\"9\" x=\"393\" y=\"60.0938\">S</text><text fill=\"#000000\" font-family=\"sans-serif\" font-size=\"14\" lengthAdjust=\"spacingAndGlyphs\" textLength=\"48\" x=\"146\" y=\"504.0938\">$result</text><rect fill=\"#383838\" height=\"12\" style=\"stroke: #F8F8F8; stroke-width: 1.5;\" width=\"12\" x=\"164\" y=\"479.0986\"/><g id=\"E1.E3\"><rect fill=\"#FFFFFF\" height=\"50\" rx=\"12.5\" ry=\"12.5\" style=\"stroke: #383838; stroke-width: 1.5;\" width=\"58\" x=\"278\" y=\"297.0986\"/><line style=\"stroke: #383838; stroke-width: 1.5;\" x1=\"278\" x2=\"336\" y1=\"323.3955\" y2=\"323.3955\"/><text fill=\"#000000\" font-family=\"sans-serif\" font-size=\"14\" lengthAdjust=\"spacingAndGlyphs\" textLength=\"38\" x=\"288\" y=\"315.0938\">test x</text></g><g id=\"E1.E4\"><rect fill=\"#FFFFFF\" height=\"50\" rx=\"12.5\" ry=\"12.5\" style=\"stroke: #383838; stroke-width: 1.5;\" width=\"50\" x=\"193\" y=\"297.0986\"/><line style=\"stroke: #383838; stroke-width: 1.5;\" x1=\"193\" x2=\"243\" y1=\"323.3955\" y2=\"323.3955\"/><text fill=\"#000000\" font-family=\"sans-serif\" font-size=\"14\" lengthAdjust=\"spacingAndGlyphs\" textLength=\"18\" x=\"209\" y=\"315.0938\">A1</text></g><g id=\"E1.E5\"><rect fill=\"#FFFFFF\" height=\"50\" rx=\"12.5\" ry=\"12.5\" style=\"stroke: #383838; stroke-width: 1.5;\" width=\"50\" x=\"463\" y=\"297.0986\"/><line style=\"stroke: #383838; stroke-width: 1.5;\" x1=\"463\" x2=\"513\" y1=\"323.3955\" y2=\"323.3955\"/><text fill=\"#000000\" font-family=\"sans-serif\" font-size=\"14\" lengthAdjust=\"spacingAndGlyphs\" textLength=\"18\" x=\"479\" y=\"315.0938\">A2</text></g><g id=\"E1.E6\"><rect fill=\"#FFFFFF\" height=\"50\" rx=\"12.5\" ry=\"12.5\" style=\"stroke: #383838; stroke-width: 1.5;\" width=\"50\" x=\"108\" y=\"297.0986\"/><line style=\"stroke: #383838; stroke-width: 1.5;\" x1=\"108\" x2=\"158\" y1=\"323.3955\" y2=\"323.3955\"/><text fill=\"#000000\" font-family=\"sans-serif\" font-size=\"14\" lengthAdjust=\"spacingAndGlyphs\" textLength=\"18\" x=\"124\" y=\"315.0938\">A3</text></g><text fill=\"#000000\" font-family=\"sans-serif\" font-size=\"14\" lengthAdjust=\"spacingAndGlyphs\" textLength=\"48\" x=\"334\" y=\"432.0938\">$result</text><rect fill=\"#383838\" height=\"12\" style=\"stroke: #F8F8F8; stroke-width: 1.5;\" width=\"12\" x=\"352\" y=\"407.0986\"/><text fill=\"#000000\" font-family=\"sans-serif\" font-size=\"14\" lengthAdjust=\"spacingAndGlyphs\" textLength=\"16\" x=\"350\" y=\"20.7969\">$x</text><rect fill=\"#383838\" height=\"12\" style=\"stroke: #F8F8F8; stroke-width: 1.5;\" width=\"12\" x=\"352\" y=\"36.0986\"/><text fill=\"#000000\" font-family=\"sans-serif\" font-size=\"14\" lengthAdjust=\"spacingAndGlyphs\" textLength=\"16\" x=\"397\" y=\"20.7969\">$y</text><rect fill=\"#383838\" height=\"12\" style=\"stroke: #F8F8F8; stroke-width: 1.5;\" width=\"12\" x=\"399\" y=\"36.0986\"/><text fill=\"#000000\" font-family=\"sans-serif\" font-size=\"14\" lengthAdjust=\"spacingAndGlyphs\" textLength=\"48\" x=\"381\" y=\"432.0938\">$result</text><rect fill=\"#383838\" height=\"12\" style=\"stroke: #F8F8F8; stroke-width: 1.5;\" width=\"12\" x=\"399\" y=\"407.0986\"/><g id=\"E1.E7.E8\"><rect fill=\"#FFFFFF\" height=\"50\" rx=\"12.5\" ry=\"12.5\" style=\"stroke: #383838; stroke-width: 1.5;\" width=\"50\" x=\"360\" y=\"187.0986\"/><line style=\"stroke: #383838; stroke-width: 1.5;\" x1=\"360\" x2=\"410\" y1=\"213.3955\" y2=\"213.3955\"/><text fill=\"#000000\" font-family=\"sans-serif\" font-size=\"14\" lengthAdjust=\"spacingAndGlyphs\" textLength=\"18\" x=\"376\" y=\"205.0938\">A1</text></g><g id=\"E1.E13\"><rect fill=\"#FFFFFF\" height=\"50\" rx=\"12.5\" ry=\"12.5\" style=\"stroke: #383838; stroke-width: 1.5;\" width=\"50\" x=\"23\" y=\"297.0986\"/><line style=\"stroke: #383838; stroke-width: 1.5;\" x1=\"23\" x2=\"73\" y1=\"323.3955\" y2=\"323.3955\"/><text fill=\"#000000\" font-family=\"sans-serif\" font-size=\"14\" lengthAdjust=\"spacingAndGlyphs\" textLength=\"18\" x=\"39\" y=\"315.0938\">A3</text></g><!--MD5=[7fa823448867f45d961c344e849ff405]\n",
       "link E11 to E9--><path d=\"M406.94,48.3586 C412.14,62.4686 426,100.0986 426,100.0986 C426,100.0986 426,237.0986 426,237.0986 C426,237.0986 422,347.0986 422,347.0986 C422,347.0986 378.11,391.6786 363.02,406.9986 \" fill=\"none\" id=\"E11-E9\" style=\"stroke: #383838; stroke-width: 5.0;\"/><!--MD5=[1ccb2481ffa92f8d51a74ee30c51832a]\n",
       "link E8 to E5--><path d=\"M408.12,237.3386 C423.89,253.8686 444.82,275.8186 461.3,293.1086 \" fill=\"none\" id=\"E8-&gt;E5\" style=\"stroke: #383838; stroke-width: 1.0;\"/><polygon fill=\"#383838\" points=\"464.96,296.9386,461.667,287.6566,461.5185,293.3115,455.8636,293.163,464.96,296.9386\" style=\"stroke: #383838; stroke-width: 1.0;\"/><!--MD5=[e27a5c8be68511c53ce64b91822182c4]\n",
       "@startuml\r\n",
       "skinparam linetype polyline\r\n",
       "skinparam monochrome true\r\n",
       "skinparam classbackgroundcolor white\r\n",
       "skinparam shadowing false\r\n",
       "skinparam wrapWidth 300\r\n",
       "hide circle\r\n",
       "\r\n",
       "rec def \"DecisionTest\" as E1 {\r\n",
       "portout \"$result\" as E2  \r\n",
       "rec usage \"test x\" as E3 {\r\n",
       "}\r\n",
       "\r\n",
       "rec usage \"A1\" as E4 {\r\n",
       "}\r\n",
       "\r\n",
       "rec usage \"A2\" as E5 {\r\n",
       "}\r\n",
       "\r\n",
       "rec usage \"A3\" as E6 {\r\n",
       "}\r\n",
       "\r\n",
       "rec usage \"S\" as E7 {\r\n",
       "rec usage \"A1\" as E8 {\r\n",
       "}\r\n",
       "\r\n",
       "portout \"$result\" as E9  \r\n",
       "portin \"$x\" as E10  \r\n",
       "portin \"$y\" as E11  \r\n",
       "portout \"$result\" as E12  \r\n",
       "}\r\n",
       "\r\n",
       "rec usage \"A3\" as E13 {\r\n",
       "}\r\n",
       "\r\n",
       "}\r\n",
       "\r\n",
       "E11 -[thickness=5]- E9\r\n",
       "E8 - -> E5\r\n",
       "@enduml\r\n",
       "\n",
       "PlantUML version 1.2020.13(Sat Jun 13 12:26:38 UTC 2020)\n",
       "(EPL source distribution)\n",
       "Java Runtime: OpenJDK Runtime Environment\n",
       "JVM: OpenJDK 64-Bit Server VM\n",
       "Default Encoding: UTF-8\n",
       "Language: en\n",
       "Country: null\n",
       "--></g></svg>"
      ]
     },
     "execution_count": 15,
     "metadata": {},
     "output_type": "execute_result"
    }
   ],
   "source": [
    "%viz --style=\"POLYLINE\" --view=\"MIXED\" \"DecisionTest\""
   ]
  },
  {
   "cell_type": "code",
   "execution_count": 16,
   "id": "structural-fleet",
   "metadata": {
    "execution": {
     "iopub.execute_input": "2021-03-25T16:06:02.906979Z",
     "iopub.status.busy": "2021-03-25T16:06:02.906492Z",
     "iopub.status.idle": "2021-03-25T16:06:02.992137Z",
     "shell.execute_reply": "2021-03-25T16:06:02.991755Z"
    }
   },
   "outputs": [
    {
     "data": {
      "image/svg+xml": [
       "<?xml version=\"1.0\" encoding=\"UTF-8\" standalone=\"no\"?><svg xmlns=\"http://www.w3.org/2000/svg\" xmlns:xlink=\"http://www.w3.org/1999/xlink\" contentScriptType=\"application/ecmascript\" contentStyleType=\"text/css\" height=\"532px\" preserveAspectRatio=\"none\" style=\"width:598px;height:532px;\" version=\"1.1\" viewBox=\"0 0 598 532\" width=\"598px\" zoomAndPan=\"magnify\"><defs/><g><!--MD5=[fbc87193dbaf4d95561dea2c320d4a47]\n",
       "cluster E1--><rect fill=\"#FFFFFF\" height=\"514\" style=\"stroke: #000000; stroke-width: 1.5;\" width=\"555\" x=\"7\" y=\"7\"/><text fill=\"#000000\" font-family=\"sans-serif\" font-size=\"14\" font-weight=\"bold\" lengthAdjust=\"spacingAndGlyphs\" textLength=\"102\" x=\"233.5\" y=\"21.9951\">DecisionTest</text><!--MD5=[168fadf3d0c3fd93dd5d6da1b1d7ab76]\n",
       "cluster E7--><rect fill=\"#F8F8F8\" height=\"97\" rx=\"12.5\" ry=\"12.5\" style=\"stroke: #000000; stroke-width: 1.5;\" width=\"489\" x=\"19\" y=\"81\"/><rect fill=\"#FFFFFF\" height=\"64.7031\" rx=\"12.5\" ry=\"12.5\" style=\"stroke: #FFFFFF; stroke-width: 1.0;\" width=\"483\" x=\"22\" y=\"110.2969\"/><line style=\"stroke: #000000; stroke-width: 1.5;\" x1=\"19\" x2=\"508\" y1=\"107.2969\" y2=\"107.2969\"/><text fill=\"#000000\" font-family=\"sans-serif\" font-size=\"14\" lengthAdjust=\"spacingAndGlyphs\" textLength=\"9\" x=\"259\" y=\"98.9951\">S</text><text fill=\"#000000\" font-family=\"sans-serif\" font-size=\"14\" lengthAdjust=\"spacingAndGlyphs\" textLength=\"48\" x=\"538\" y=\"380.9951\">$result</text><rect fill=\"#383838\" height=\"12\" style=\"stroke: #F8F8F8; stroke-width: 1.5;\" width=\"12\" x=\"556\" y=\"356\"/><g id=\"E1.E3\"><rect fill=\"#FFFFFF\" height=\"50\" rx=\"12.5\" ry=\"12.5\" style=\"stroke: #383838; stroke-width: 1.5;\" width=\"58\" x=\"366\" y=\"200\"/><line style=\"stroke: #383838; stroke-width: 1.5;\" x1=\"366\" x2=\"424\" y1=\"226.2969\" y2=\"226.2969\"/><text fill=\"#000000\" font-family=\"sans-serif\" font-size=\"14\" lengthAdjust=\"spacingAndGlyphs\" textLength=\"38\" x=\"376\" y=\"217.9951\">test x</text></g><g id=\"E1.E4\"><rect fill=\"#FFFFFF\" height=\"50\" rx=\"12.5\" ry=\"12.5\" style=\"stroke: #383838; stroke-width: 1.5;\" width=\"50\" x=\"370\" y=\"285\"/><line style=\"stroke: #383838; stroke-width: 1.5;\" x1=\"370\" x2=\"420\" y1=\"311.2969\" y2=\"311.2969\"/><text fill=\"#000000\" font-family=\"sans-serif\" font-size=\"14\" lengthAdjust=\"spacingAndGlyphs\" textLength=\"18\" x=\"386\" y=\"302.9951\">A1</text></g><g id=\"E1.E5\"><rect fill=\"#FFFFFF\" height=\"50\" rx=\"12.5\" ry=\"12.5\" style=\"stroke: #383838; stroke-width: 1.5;\" width=\"50\" x=\"370\" y=\"23\"/><line style=\"stroke: #383838; stroke-width: 1.5;\" x1=\"370\" x2=\"420\" y1=\"49.2969\" y2=\"49.2969\"/><text fill=\"#000000\" font-family=\"sans-serif\" font-size=\"14\" lengthAdjust=\"spacingAndGlyphs\" textLength=\"18\" x=\"386\" y=\"40.9951\">A2</text></g><g id=\"E1.E6\"><rect fill=\"#FFFFFF\" height=\"50\" rx=\"12.5\" ry=\"12.5\" style=\"stroke: #383838; stroke-width: 1.5;\" width=\"50\" x=\"370\" y=\"370\"/><line style=\"stroke: #383838; stroke-width: 1.5;\" x1=\"370\" x2=\"420\" y1=\"396.2969\" y2=\"396.2969\"/><text fill=\"#000000\" font-family=\"sans-serif\" font-size=\"14\" lengthAdjust=\"spacingAndGlyphs\" textLength=\"18\" x=\"386\" y=\"387.9951\">A3</text></g><text fill=\"#000000\" font-family=\"sans-serif\" font-size=\"14\" lengthAdjust=\"spacingAndGlyphs\" textLength=\"48\" x=\"466\" y=\"196.9951\">$result</text><rect fill=\"#383838\" height=\"12\" style=\"stroke: #F8F8F8; stroke-width: 1.5;\" width=\"12\" x=\"484\" y=\"172\"/><text fill=\"#000000\" font-family=\"sans-serif\" font-size=\"14\" lengthAdjust=\"spacingAndGlyphs\" textLength=\"16\" x=\"29\" y=\"196.9951\">$x</text><rect fill=\"#383838\" height=\"12\" style=\"stroke: #F8F8F8; stroke-width: 1.5;\" width=\"12\" x=\"31\" y=\"172\"/><text fill=\"#000000\" font-family=\"sans-serif\" font-size=\"14\" lengthAdjust=\"spacingAndGlyphs\" textLength=\"16\" x=\"29\" y=\"109.6982\">$y</text><rect fill=\"#383838\" height=\"12\" style=\"stroke: #F8F8F8; stroke-width: 1.5;\" width=\"12\" x=\"31\" y=\"125\"/><text fill=\"#000000\" font-family=\"sans-serif\" font-size=\"14\" lengthAdjust=\"spacingAndGlyphs\" textLength=\"48\" x=\"466\" y=\"109.6982\">$result</text><rect fill=\"#383838\" height=\"12\" style=\"stroke: #F8F8F8; stroke-width: 1.5;\" width=\"12\" x=\"484\" y=\"125\"/><g id=\"E1.E7.E8\"><rect fill=\"#FFFFFF\" height=\"50\" rx=\"12.5\" ry=\"12.5\" style=\"stroke: #383838; stroke-width: 1.5;\" width=\"50\" x=\"222\" y=\"126\"/><line style=\"stroke: #383838; stroke-width: 1.5;\" x1=\"222\" x2=\"272\" y1=\"152.2969\" y2=\"152.2969\"/><text fill=\"#000000\" font-family=\"sans-serif\" font-size=\"14\" lengthAdjust=\"spacingAndGlyphs\" textLength=\"18\" x=\"238\" y=\"143.9951\">A1</text></g><g id=\"E1.E13\"><rect fill=\"#FFFFFF\" height=\"50\" rx=\"12.5\" ry=\"12.5\" style=\"stroke: #383838; stroke-width: 1.5;\" width=\"50\" x=\"370\" y=\"455\"/><line style=\"stroke: #383838; stroke-width: 1.5;\" x1=\"370\" x2=\"420\" y1=\"481.2969\" y2=\"481.2969\"/><text fill=\"#000000\" font-family=\"sans-serif\" font-size=\"14\" lengthAdjust=\"spacingAndGlyphs\" textLength=\"18\" x=\"386\" y=\"472.9951\">A3</text></g><!--MD5=[7fa823448867f45d961c344e849ff405]\n",
       "link E11 to E9--><path d=\"M43.17,128.39 C52.97,123.59 75.07,113.56 95,110 C130.99,103.58 390.41,99.57 424,114 C453.1,126.5 476.4,158.53 485.21,171.95 \" fill=\"none\" id=\"E11-E9\" style=\"stroke: #383838; stroke-width: 5.0;\"/><!--MD5=[1ccb2481ffa92f8d51a74ee30c51832a]\n",
       "link E8 to E5--><path d=\"M272.11,133.99 C297.79,115.88 338.4,87.22 365.61,68.03 \" fill=\"none\" id=\"E8-&gt;E5\" style=\"stroke: #383838; stroke-width: 1.0;\"/><polygon fill=\"#383838\" points=\"369.86,65.03,360.2011,66.9549,365.776,67.9145,364.8163,73.4894,369.86,65.03\" style=\"stroke: #383838; stroke-width: 1.0;\"/><!--MD5=[c7ae11ec14e8ec8b4879121bf3f87a6d]\n",
       "@startuml\r\n",
       "left to right direction\r\n",
       "skinparam monochrome true\r\n",
       "skinparam classbackgroundcolor white\r\n",
       "skinparam shadowing false\r\n",
       "skinparam wrapWidth 300\r\n",
       "hide circle\r\n",
       "\r\n",
       "rec def \"DecisionTest\" as E1 {\r\n",
       "portout \"$result\" as E2  \r\n",
       "rec usage \"test x\" as E3 {\r\n",
       "}\r\n",
       "\r\n",
       "rec usage \"A1\" as E4 {\r\n",
       "}\r\n",
       "\r\n",
       "rec usage \"A2\" as E5 {\r\n",
       "}\r\n",
       "\r\n",
       "rec usage \"A3\" as E6 {\r\n",
       "}\r\n",
       "\r\n",
       "rec usage \"S\" as E7 {\r\n",
       "rec usage \"A1\" as E8 {\r\n",
       "}\r\n",
       "\r\n",
       "portout \"$result\" as E9  \r\n",
       "portin \"$x\" as E10  \r\n",
       "portin \"$y\" as E11  \r\n",
       "portout \"$result\" as E12  \r\n",
       "}\r\n",
       "\r\n",
       "rec usage \"A3\" as E13 {\r\n",
       "}\r\n",
       "\r\n",
       "}\r\n",
       "\r\n",
       "E11 -[thickness=5]- E9\r\n",
       "E8 - -> E5\r\n",
       "@enduml\r\n",
       "\n",
       "PlantUML version 1.2020.13(Sat Jun 13 12:26:38 UTC 2020)\n",
       "(EPL source distribution)\n",
       "Java Runtime: OpenJDK Runtime Environment\n",
       "JVM: OpenJDK 64-Bit Server VM\n",
       "Default Encoding: UTF-8\n",
       "Language: en\n",
       "Country: null\n",
       "--></g></svg>"
      ]
     },
     "execution_count": 16,
     "metadata": {},
     "output_type": "execute_result"
    }
   ],
   "source": [
    "%viz --style=\"LR\" --view=\"Default\" \"DecisionTest\""
   ]
  },
  {
   "cell_type": "code",
   "execution_count": 17,
   "id": "likely-evaluation",
   "metadata": {
    "execution": {
     "iopub.execute_input": "2021-03-25T16:06:03.042671Z",
     "iopub.status.busy": "2021-03-25T16:06:03.042278Z",
     "iopub.status.idle": "2021-03-25T16:06:04.270822Z",
     "shell.execute_reply": "2021-03-25T16:06:04.271189Z"
    }
   },
   "outputs": [
    {
     "data": {
      "image/svg+xml": [
       "<?xml version=\"1.0\" encoding=\"UTF-8\" standalone=\"no\"?><svg xmlns=\"http://www.w3.org/2000/svg\" xmlns:xlink=\"http://www.w3.org/1999/xlink\" contentScriptType=\"application/ecmascript\" contentStyleType=\"text/css\" height=\"191px\" preserveAspectRatio=\"none\" style=\"width:152px;height:191px;\" version=\"1.1\" viewBox=\"0 0 152 191\" width=\"152px\" zoomAndPan=\"magnify\"><defs/><g><!--MD5=[43c9051892ef23e1a46a86907403d788]\n",
       "class E1--><rect fill=\"#FFFFFF\" height=\"173.1797\" id=\"E1\" style=\"stroke: #383838; stroke-width: 1.5;\" width=\"134\" x=\"7\" y=\"7\"/><text fill=\"#000000\" font-family=\"sans-serif\" font-size=\"12\" font-style=\"italic\" lengthAdjust=\"spacingAndGlyphs\" textLength=\"77\" x=\"35.5\" y=\"23.1387\">«action def»</text><text fill=\"#000000\" font-family=\"sans-serif\" font-size=\"12\" lengthAdjust=\"spacingAndGlyphs\" textLength=\"80\" x=\"34\" y=\"37.1074\">DecisionTest</text><line style=\"stroke: #383838; stroke-width: 1.5;\" x1=\"8\" x2=\"140\" y1=\"44.9375\" y2=\"44.9375\"/><text fill=\"#000000\" font-family=\"sans-serif\" font-size=\"11\" lengthAdjust=\"spacingAndGlyphs\" textLength=\"95\" x=\"13\" y=\"59.1479\">x: DataValue= 1;</text><text fill=\"#000000\" font-family=\"sans-serif\" font-size=\"11\" lengthAdjust=\"spacingAndGlyphs\" textLength=\"56\" x=\"13\" y=\"88.7573\">A1: Action</text><text fill=\"#000000\" font-family=\"sans-serif\" font-size=\"11\" lengthAdjust=\"spacingAndGlyphs\" textLength=\"56\" x=\"13\" y=\"101.562\">A2: Action</text><text fill=\"#000000\" font-family=\"sans-serif\" font-size=\"11\" lengthAdjust=\"spacingAndGlyphs\" textLength=\"56\" x=\"13\" y=\"114.3667\">A3: Action</text><line style=\"stroke: #383838; stroke-width: 1.0;\" x1=\"8\" x2=\"53.5\" y1=\"72.1445\" y2=\"72.1445\"/><text fill=\"#000000\" font-family=\"sans-serif\" font-size=\"11\" lengthAdjust=\"spacingAndGlyphs\" textLength=\"41\" x=\"53.5\" y=\"75.4526\">actions</text><line style=\"stroke: #383838; stroke-width: 1.0;\" x1=\"94.5\" x2=\"140\" y1=\"72.1445\" y2=\"72.1445\"/><text fill=\"#000000\" font-family=\"sans-serif\" font-size=\"11\" lengthAdjust=\"spacingAndGlyphs\" textLength=\"122\" x=\"13\" y=\"143.9761\">test x: DecisionAction</text><line style=\"stroke: #383838; stroke-width: 1.0;\" x1=\"8\" x2=\"32.5\" y1=\"127.3633\" y2=\"127.3633\"/><text fill=\"#000000\" font-family=\"sans-serif\" font-size=\"11\" lengthAdjust=\"spacingAndGlyphs\" textLength=\"83\" x=\"32.5\" y=\"130.6714\">decisionNodes</text><line style=\"stroke: #383838; stroke-width: 1.0;\" x1=\"115.5\" x2=\"140\" y1=\"127.3633\" y2=\"127.3633\"/><text fill=\"#000000\" font-family=\"sans-serif\" font-size=\"11\" lengthAdjust=\"spacingAndGlyphs\" textLength=\"73\" x=\"13\" y=\"173.5854\">S: Transition</text><line style=\"stroke: #383838; stroke-width: 1.0;\" x1=\"8\" x2=\"43.5\" y1=\"156.9727\" y2=\"156.9727\"/><text fill=\"#000000\" font-family=\"sans-serif\" font-size=\"11\" lengthAdjust=\"spacingAndGlyphs\" textLength=\"61\" x=\"43.5\" y=\"160.2808\">transitions</text><line style=\"stroke: #383838; stroke-width: 1.0;\" x1=\"104.5\" x2=\"140\" y1=\"156.9727\" y2=\"156.9727\"/><!--MD5=[4d903bf1bc0bc87e880d609ef4670314]\n",
       "@startuml\r\n",
       "left to right direction\r\n",
       "skinparam monochrome true\r\n",
       "skinparam classbackgroundcolor white\r\n",
       "skinparam shadowing false\r\n",
       "skinparam wrapWidth 300\r\n",
       "hide circle\r\n",
       "\r\n",
       "comp def \"DecisionTest\" as E1  <<(T,blue)action def>> {\r\n",
       "x: DataValue= 1; \r\n",
       "- -actions- -\r\n",
       "A1: Action\r\n",
       "A2: Action\r\n",
       "A3: Action\r\n",
       "- -decisionNodes- -\r\n",
       "test x: DecisionAction\r\n",
       "- -transitions- -\r\n",
       "S: Transition\r\n",
       "}\r\n",
       "@enduml\r\n",
       "\n",
       "PlantUML version 1.2020.13(Sat Jun 13 12:26:38 UTC 2020)\n",
       "(EPL source distribution)\n",
       "Java Runtime: OpenJDK Runtime Environment\n",
       "JVM: OpenJDK 64-Bit Server VM\n",
       "Default Encoding: UTF-8\n",
       "Language: en\n",
       "Country: null\n",
       "--></g></svg>"
      ]
     },
     "execution_count": 17,
     "metadata": {},
     "output_type": "execute_result"
    }
   ],
   "source": [
    "%viz --style=\"LR\" --view=\"Tree\" \"DecisionTest\""
   ]
  },
  {
   "cell_type": "code",
   "execution_count": 18,
   "id": "exciting-reality",
   "metadata": {
    "execution": {
     "iopub.execute_input": "2021-03-25T16:06:04.322462Z",
     "iopub.status.busy": "2021-03-25T16:06:04.321895Z",
     "iopub.status.idle": "2021-03-25T16:06:04.326404Z",
     "shell.execute_reply": "2021-03-25T16:06:04.325957Z"
    }
   },
   "outputs": [
    {
     "data": {
      "text/plain": [
       "java.lang.IllegalArgumentException: Invalid View: State View candidates are: Default Tree StateMachine Interconnection Activity Sequence MIXED \n",
       "\tat org.omg.sysml.plantuml.SysML2PlantUMLSvc.setView(SysML2PlantUMLSvc.java:63)\n",
       "\tat org.omg.sysml.interactive.SysMLInteractive.viz(SysMLInteractive.java:286)\n",
       "\tat org.omg.sysml.jupyter.kernel.magic.Viz.viz(Viz.java:47)\n",
       "\tat jdk.internal.reflect.GeneratedMethodAccessor15.invoke(Unknown Source)\n",
       "\tat java.base/jdk.internal.reflect.DelegatingMethodAccessorImpl.invoke(DelegatingMethodAccessorImpl.java:43)\n",
       "\tat java.base/java.lang.reflect.Method.invoke(Method.java:568)\n",
       "\tat io.github.spencerpark.jupyter.kernel.magic.registry.Magics.invoke(Magics.java:89)\n",
       "\tat io.github.spencerpark.jupyter.kernel.magic.registry.Magics.access$000(Magics.java:8)\n",
       "\tat io.github.spencerpark.jupyter.kernel.magic.registry.Magics$LineReflectionMagicFunction.execute(Magics.java:149)\n",
       "\tat io.github.spencerpark.jupyter.kernel.magic.registry.Magics.applyLineMagic(Magics.java:26)\n",
       "\tat org.omg.sysml.jupyter.kernel.SysMLKernel.eval(SysMLKernel.java:76)\n",
       "\tat io.github.spencerpark.jupyter.kernel.BaseKernel.handleExecuteRequest(BaseKernel.java:334)\n",
       "\tat io.github.spencerpark.jupyter.channels.ShellChannel.lambda$bind$0(ShellChannel.java:64)\n",
       "\tat io.github.spencerpark.jupyter.channels.Loop.lambda$new$0(Loop.java:21)\n",
       "\tat io.github.spencerpark.jupyter.channels.Loop.run(Loop.java:78)\n"
      ]
     },
     "execution_count": 18,
     "metadata": {},
     "output_type": "execute_result"
    }
   ],
   "source": [
    "%viz --style=\"LR\" --view=\"State\" \"DecisionTest\""
   ]
  },
  {
   "cell_type": "code",
   "execution_count": 19,
   "id": "joint-phone",
   "metadata": {
    "execution": {
     "iopub.execute_input": "2021-03-25T16:06:04.379011Z",
     "iopub.status.busy": "2021-03-25T16:06:04.378468Z",
     "iopub.status.idle": "2021-03-25T16:06:04.408588Z",
     "shell.execute_reply": "2021-03-25T16:06:04.408965Z"
    }
   },
   "outputs": [
    {
     "data": {
      "image/svg+xml": [
       "<?xml version=\"1.0\" encoding=\"UTF-8\" standalone=\"no\"?><svg xmlns=\"http://www.w3.org/2000/svg\" xmlns:xlink=\"http://www.w3.org/1999/xlink\" contentScriptType=\"application/ecmascript\" contentStyleType=\"text/css\" height=\"71px\" preserveAspectRatio=\"none\" style=\"width:104px;height:71px;\" version=\"1.1\" viewBox=\"0 0 104 71\" width=\"104px\" zoomAndPan=\"magnify\"><defs/><g><!--MD5=[43c9051892ef23e1a46a86907403d788]\n",
       "class E1--><rect fill=\"#FFFFFF\" height=\"53.9375\" id=\"E1\" style=\"stroke: #383838; stroke-width: 1.5;\" width=\"86\" x=\"7\" y=\"7\"/><text fill=\"#000000\" font-family=\"sans-serif\" font-size=\"12\" font-style=\"italic\" lengthAdjust=\"spacingAndGlyphs\" textLength=\"77\" x=\"11.5\" y=\"23.1387\">«action def»</text><text fill=\"#000000\" font-family=\"sans-serif\" font-size=\"12\" lengthAdjust=\"spacingAndGlyphs\" textLength=\"80\" x=\"10\" y=\"37.1074\">DecisionTest</text><line style=\"stroke: #383838; stroke-width: 1.5;\" x1=\"8\" x2=\"92\" y1=\"44.9375\" y2=\"44.9375\"/><line style=\"stroke: #383838; stroke-width: 1.5;\" x1=\"8\" x2=\"92\" y1=\"52.9375\" y2=\"52.9375\"/><!--MD5=[ceb13d386ca0b7452ab92f0ae8a4b2c6]\n",
       "@startuml\r\n",
       "skinparam ranksep 8\r\n",
       "skinparam rectangle {\r\n",
       " backgroundColor<<block>> LightGreen\r\n",
       "}\r\n",
       "left to right direction\r\n",
       "skinparam monochrome true\r\n",
       "skinparam classbackgroundcolor white\r\n",
       "skinparam shadowing false\r\n",
       "skinparam wrapWidth 300\r\n",
       "hide circle\r\n",
       "\r\n",
       "def \"DecisionTest\" as E1  <<action def>> \r\n",
       "@enduml\r\n",
       "\n",
       "PlantUML version 1.2020.13(Sat Jun 13 12:26:38 UTC 2020)\n",
       "(EPL source distribution)\n",
       "Java Runtime: OpenJDK Runtime Environment\n",
       "JVM: OpenJDK 64-Bit Server VM\n",
       "Default Encoding: UTF-8\n",
       "Language: en\n",
       "Country: null\n",
       "--></g></svg>"
      ]
     },
     "execution_count": 19,
     "metadata": {},
     "output_type": "execute_result"
    }
   ],
   "source": [
    "%viz --style=\"LR\" --view=\"Interconnection\" \"DecisionTest\""
   ]
  },
  {
   "cell_type": "code",
   "execution_count": 20,
   "id": "dental-myrtle",
   "metadata": {
    "execution": {
     "iopub.execute_input": "2021-03-25T16:06:04.462873Z",
     "iopub.status.busy": "2021-03-25T16:06:04.461996Z",
     "iopub.status.idle": "2021-03-25T16:06:04.467749Z",
     "shell.execute_reply": "2021-03-25T16:06:04.468194Z"
    }
   },
   "outputs": [
    {
     "data": {
      "text/plain": [
       "java.lang.IllegalArgumentException: Invalid View: Action View candidates are: Default Tree StateMachine Interconnection Activity Sequence MIXED \n",
       "\tat org.omg.sysml.plantuml.SysML2PlantUMLSvc.setView(SysML2PlantUMLSvc.java:63)\n",
       "\tat org.omg.sysml.interactive.SysMLInteractive.viz(SysMLInteractive.java:286)\n",
       "\tat org.omg.sysml.jupyter.kernel.magic.Viz.viz(Viz.java:47)\n",
       "\tat jdk.internal.reflect.GeneratedMethodAccessor15.invoke(Unknown Source)\n",
       "\tat java.base/jdk.internal.reflect.DelegatingMethodAccessorImpl.invoke(DelegatingMethodAccessorImpl.java:43)\n",
       "\tat java.base/java.lang.reflect.Method.invoke(Method.java:568)\n",
       "\tat io.github.spencerpark.jupyter.kernel.magic.registry.Magics.invoke(Magics.java:89)\n",
       "\tat io.github.spencerpark.jupyter.kernel.magic.registry.Magics.access$000(Magics.java:8)\n",
       "\tat io.github.spencerpark.jupyter.kernel.magic.registry.Magics$LineReflectionMagicFunction.execute(Magics.java:149)\n",
       "\tat io.github.spencerpark.jupyter.kernel.magic.registry.Magics.applyLineMagic(Magics.java:26)\n",
       "\tat org.omg.sysml.jupyter.kernel.SysMLKernel.eval(SysMLKernel.java:76)\n",
       "\tat io.github.spencerpark.jupyter.kernel.BaseKernel.handleExecuteRequest(BaseKernel.java:334)\n",
       "\tat io.github.spencerpark.jupyter.channels.ShellChannel.lambda$bind$0(ShellChannel.java:64)\n",
       "\tat io.github.spencerpark.jupyter.channels.Loop.lambda$new$0(Loop.java:21)\n",
       "\tat io.github.spencerpark.jupyter.channels.Loop.run(Loop.java:78)\n"
      ]
     },
     "execution_count": 20,
     "metadata": {},
     "output_type": "execute_result"
    }
   ],
   "source": [
    "%viz --style=\"LR\" --view=\"Action\" \"DecisionTest\""
   ]
  },
  {
   "cell_type": "code",
   "execution_count": 21,
   "id": "empirical-basketball",
   "metadata": {
    "execution": {
     "iopub.execute_input": "2021-03-25T16:06:04.519844Z",
     "iopub.status.busy": "2021-03-25T16:06:04.519021Z",
     "iopub.status.idle": "2021-03-25T16:06:05.747393Z",
     "shell.execute_reply": "2021-03-25T16:06:05.747011Z"
    }
   },
   "outputs": [
    {
     "data": {
      "image/svg+xml": [
       "<?xml version=\"1.0\" encoding=\"UTF-8\" standalone=\"no\"?><svg xmlns=\"http://www.w3.org/2000/svg\" xmlns:xlink=\"http://www.w3.org/1999/xlink\" contentScriptType=\"application/ecmascript\" contentStyleType=\"text/css\" height=\"191px\" preserveAspectRatio=\"none\" style=\"width:152px;height:191px;\" version=\"1.1\" viewBox=\"0 0 152 191\" width=\"152px\" zoomAndPan=\"magnify\"><defs/><g><!--MD5=[43c9051892ef23e1a46a86907403d788]\n",
       "class E1--><rect fill=\"#FFFFFF\" height=\"173.1797\" id=\"E1\" style=\"stroke: #383838; stroke-width: 1.5;\" width=\"134\" x=\"7\" y=\"7\"/><text fill=\"#000000\" font-family=\"sans-serif\" font-size=\"12\" font-style=\"italic\" lengthAdjust=\"spacingAndGlyphs\" textLength=\"77\" x=\"35.5\" y=\"23.1387\">«action def»</text><text fill=\"#000000\" font-family=\"sans-serif\" font-size=\"12\" lengthAdjust=\"spacingAndGlyphs\" textLength=\"80\" x=\"34\" y=\"37.1074\">DecisionTest</text><line style=\"stroke: #383838; stroke-width: 1.5;\" x1=\"8\" x2=\"140\" y1=\"44.9375\" y2=\"44.9375\"/><text fill=\"#000000\" font-family=\"sans-serif\" font-size=\"11\" lengthAdjust=\"spacingAndGlyphs\" textLength=\"95\" x=\"13\" y=\"59.1479\">x: DataValue= 1;</text><text fill=\"#000000\" font-family=\"sans-serif\" font-size=\"11\" lengthAdjust=\"spacingAndGlyphs\" textLength=\"56\" x=\"13\" y=\"88.7573\">A1: Action</text><text fill=\"#000000\" font-family=\"sans-serif\" font-size=\"11\" lengthAdjust=\"spacingAndGlyphs\" textLength=\"56\" x=\"13\" y=\"101.562\">A2: Action</text><text fill=\"#000000\" font-family=\"sans-serif\" font-size=\"11\" lengthAdjust=\"spacingAndGlyphs\" textLength=\"56\" x=\"13\" y=\"114.3667\">A3: Action</text><line style=\"stroke: #383838; stroke-width: 1.0;\" x1=\"8\" x2=\"53.5\" y1=\"72.1445\" y2=\"72.1445\"/><text fill=\"#000000\" font-family=\"sans-serif\" font-size=\"11\" lengthAdjust=\"spacingAndGlyphs\" textLength=\"41\" x=\"53.5\" y=\"75.4526\">actions</text><line style=\"stroke: #383838; stroke-width: 1.0;\" x1=\"94.5\" x2=\"140\" y1=\"72.1445\" y2=\"72.1445\"/><text fill=\"#000000\" font-family=\"sans-serif\" font-size=\"11\" lengthAdjust=\"spacingAndGlyphs\" textLength=\"122\" x=\"13\" y=\"143.9761\">test x: DecisionAction</text><line style=\"stroke: #383838; stroke-width: 1.0;\" x1=\"8\" x2=\"32.5\" y1=\"127.3633\" y2=\"127.3633\"/><text fill=\"#000000\" font-family=\"sans-serif\" font-size=\"11\" lengthAdjust=\"spacingAndGlyphs\" textLength=\"83\" x=\"32.5\" y=\"130.6714\">decisionNodes</text><line style=\"stroke: #383838; stroke-width: 1.0;\" x1=\"115.5\" x2=\"140\" y1=\"127.3633\" y2=\"127.3633\"/><text fill=\"#000000\" font-family=\"sans-serif\" font-size=\"11\" lengthAdjust=\"spacingAndGlyphs\" textLength=\"73\" x=\"13\" y=\"173.5854\">S: Transition</text><line style=\"stroke: #383838; stroke-width: 1.0;\" x1=\"8\" x2=\"43.5\" y1=\"156.9727\" y2=\"156.9727\"/><text fill=\"#000000\" font-family=\"sans-serif\" font-size=\"11\" lengthAdjust=\"spacingAndGlyphs\" textLength=\"61\" x=\"43.5\" y=\"160.2808\">transitions</text><line style=\"stroke: #383838; stroke-width: 1.0;\" x1=\"104.5\" x2=\"140\" y1=\"156.9727\" y2=\"156.9727\"/><!--MD5=[4d903bf1bc0bc87e880d609ef4670314]\n",
       "@startuml\r\n",
       "left to right direction\r\n",
       "skinparam monochrome true\r\n",
       "skinparam classbackgroundcolor white\r\n",
       "skinparam shadowing false\r\n",
       "skinparam wrapWidth 300\r\n",
       "hide circle\r\n",
       "\r\n",
       "comp def \"DecisionTest\" as E1  <<(T,blue)action def>> {\r\n",
       "x: DataValue= 1; \r\n",
       "- -actions- -\r\n",
       "A1: Action\r\n",
       "A2: Action\r\n",
       "A3: Action\r\n",
       "- -decisionNodes- -\r\n",
       "test x: DecisionAction\r\n",
       "- -transitions- -\r\n",
       "S: Transition\r\n",
       "}\r\n",
       "@enduml\r\n",
       "\n",
       "PlantUML version 1.2020.13(Sat Jun 13 12:26:38 UTC 2020)\n",
       "(EPL source distribution)\n",
       "Java Runtime: OpenJDK Runtime Environment\n",
       "JVM: OpenJDK 64-Bit Server VM\n",
       "Default Encoding: UTF-8\n",
       "Language: en\n",
       "Country: null\n",
       "--></g></svg>"
      ]
     },
     "execution_count": 21,
     "metadata": {},
     "output_type": "execute_result"
    }
   ],
   "source": [
    "%viz --style=\"LR\" --view=\"Sequence\" \"DecisionTest\""
   ]
  },
  {
   "cell_type": "code",
   "execution_count": 22,
   "id": "cosmetic-logging",
   "metadata": {
    "execution": {
     "iopub.execute_input": "2021-03-25T16:06:05.798726Z",
     "iopub.status.busy": "2021-03-25T16:06:05.798194Z",
     "iopub.status.idle": "2021-03-25T16:06:05.874337Z",
     "shell.execute_reply": "2021-03-25T16:06:05.874766Z"
    }
   },
   "outputs": [
    {
     "data": {
      "image/svg+xml": [
       "<?xml version=\"1.0\" encoding=\"UTF-8\" standalone=\"no\"?><svg xmlns=\"http://www.w3.org/2000/svg\" xmlns:xlink=\"http://www.w3.org/1999/xlink\" contentScriptType=\"application/ecmascript\" contentStyleType=\"text/css\" height=\"532px\" preserveAspectRatio=\"none\" style=\"width:598px;height:532px;\" version=\"1.1\" viewBox=\"0 0 598 532\" width=\"598px\" zoomAndPan=\"magnify\"><defs/><g><!--MD5=[fbc87193dbaf4d95561dea2c320d4a47]\n",
       "cluster E1--><rect fill=\"#FFFFFF\" height=\"514\" style=\"stroke: #000000; stroke-width: 1.5;\" width=\"555\" x=\"7\" y=\"7\"/><text fill=\"#000000\" font-family=\"sans-serif\" font-size=\"14\" font-weight=\"bold\" lengthAdjust=\"spacingAndGlyphs\" textLength=\"102\" x=\"233.5\" y=\"21.9951\">DecisionTest</text><!--MD5=[168fadf3d0c3fd93dd5d6da1b1d7ab76]\n",
       "cluster E7--><rect fill=\"#F8F8F8\" height=\"97\" rx=\"12.5\" ry=\"12.5\" style=\"stroke: #000000; stroke-width: 1.5;\" width=\"489\" x=\"19\" y=\"81\"/><rect fill=\"#FFFFFF\" height=\"64.7031\" rx=\"12.5\" ry=\"12.5\" style=\"stroke: #FFFFFF; stroke-width: 1.0;\" width=\"483\" x=\"22\" y=\"110.2969\"/><line style=\"stroke: #000000; stroke-width: 1.5;\" x1=\"19\" x2=\"508\" y1=\"107.2969\" y2=\"107.2969\"/><text fill=\"#000000\" font-family=\"sans-serif\" font-size=\"14\" lengthAdjust=\"spacingAndGlyphs\" textLength=\"9\" x=\"259\" y=\"98.9951\">S</text><text fill=\"#000000\" font-family=\"sans-serif\" font-size=\"14\" lengthAdjust=\"spacingAndGlyphs\" textLength=\"48\" x=\"538\" y=\"380.9951\">$result</text><rect fill=\"#383838\" height=\"12\" style=\"stroke: #F8F8F8; stroke-width: 1.5;\" width=\"12\" x=\"556\" y=\"356\"/><g id=\"E1.E3\"><rect fill=\"#FFFFFF\" height=\"50\" rx=\"12.5\" ry=\"12.5\" style=\"stroke: #383838; stroke-width: 1.5;\" width=\"58\" x=\"366\" y=\"200\"/><line style=\"stroke: #383838; stroke-width: 1.5;\" x1=\"366\" x2=\"424\" y1=\"226.2969\" y2=\"226.2969\"/><text fill=\"#000000\" font-family=\"sans-serif\" font-size=\"14\" lengthAdjust=\"spacingAndGlyphs\" textLength=\"38\" x=\"376\" y=\"217.9951\">test x</text></g><g id=\"E1.E4\"><rect fill=\"#FFFFFF\" height=\"50\" rx=\"12.5\" ry=\"12.5\" style=\"stroke: #383838; stroke-width: 1.5;\" width=\"50\" x=\"370\" y=\"285\"/><line style=\"stroke: #383838; stroke-width: 1.5;\" x1=\"370\" x2=\"420\" y1=\"311.2969\" y2=\"311.2969\"/><text fill=\"#000000\" font-family=\"sans-serif\" font-size=\"14\" lengthAdjust=\"spacingAndGlyphs\" textLength=\"18\" x=\"386\" y=\"302.9951\">A1</text></g><g id=\"E1.E5\"><rect fill=\"#FFFFFF\" height=\"50\" rx=\"12.5\" ry=\"12.5\" style=\"stroke: #383838; stroke-width: 1.5;\" width=\"50\" x=\"370\" y=\"23\"/><line style=\"stroke: #383838; stroke-width: 1.5;\" x1=\"370\" x2=\"420\" y1=\"49.2969\" y2=\"49.2969\"/><text fill=\"#000000\" font-family=\"sans-serif\" font-size=\"14\" lengthAdjust=\"spacingAndGlyphs\" textLength=\"18\" x=\"386\" y=\"40.9951\">A2</text></g><g id=\"E1.E6\"><rect fill=\"#FFFFFF\" height=\"50\" rx=\"12.5\" ry=\"12.5\" style=\"stroke: #383838; stroke-width: 1.5;\" width=\"50\" x=\"370\" y=\"370\"/><line style=\"stroke: #383838; stroke-width: 1.5;\" x1=\"370\" x2=\"420\" y1=\"396.2969\" y2=\"396.2969\"/><text fill=\"#000000\" font-family=\"sans-serif\" font-size=\"14\" lengthAdjust=\"spacingAndGlyphs\" textLength=\"18\" x=\"386\" y=\"387.9951\">A3</text></g><text fill=\"#000000\" font-family=\"sans-serif\" font-size=\"14\" lengthAdjust=\"spacingAndGlyphs\" textLength=\"48\" x=\"466\" y=\"196.9951\">$result</text><rect fill=\"#383838\" height=\"12\" style=\"stroke: #F8F8F8; stroke-width: 1.5;\" width=\"12\" x=\"484\" y=\"172\"/><text fill=\"#000000\" font-family=\"sans-serif\" font-size=\"14\" lengthAdjust=\"spacingAndGlyphs\" textLength=\"16\" x=\"29\" y=\"196.9951\">$x</text><rect fill=\"#383838\" height=\"12\" style=\"stroke: #F8F8F8; stroke-width: 1.5;\" width=\"12\" x=\"31\" y=\"172\"/><text fill=\"#000000\" font-family=\"sans-serif\" font-size=\"14\" lengthAdjust=\"spacingAndGlyphs\" textLength=\"16\" x=\"29\" y=\"109.6982\">$y</text><rect fill=\"#383838\" height=\"12\" style=\"stroke: #F8F8F8; stroke-width: 1.5;\" width=\"12\" x=\"31\" y=\"125\"/><text fill=\"#000000\" font-family=\"sans-serif\" font-size=\"14\" lengthAdjust=\"spacingAndGlyphs\" textLength=\"48\" x=\"466\" y=\"109.6982\">$result</text><rect fill=\"#383838\" height=\"12\" style=\"stroke: #F8F8F8; stroke-width: 1.5;\" width=\"12\" x=\"484\" y=\"125\"/><g id=\"E1.E7.E8\"><rect fill=\"#FFFFFF\" height=\"50\" rx=\"12.5\" ry=\"12.5\" style=\"stroke: #383838; stroke-width: 1.5;\" width=\"50\" x=\"222\" y=\"126\"/><line style=\"stroke: #383838; stroke-width: 1.5;\" x1=\"222\" x2=\"272\" y1=\"152.2969\" y2=\"152.2969\"/><text fill=\"#000000\" font-family=\"sans-serif\" font-size=\"14\" lengthAdjust=\"spacingAndGlyphs\" textLength=\"18\" x=\"238\" y=\"143.9951\">A1</text></g><g id=\"E1.E13\"><rect fill=\"#FFFFFF\" height=\"50\" rx=\"12.5\" ry=\"12.5\" style=\"stroke: #383838; stroke-width: 1.5;\" width=\"50\" x=\"370\" y=\"455\"/><line style=\"stroke: #383838; stroke-width: 1.5;\" x1=\"370\" x2=\"420\" y1=\"481.2969\" y2=\"481.2969\"/><text fill=\"#000000\" font-family=\"sans-serif\" font-size=\"14\" lengthAdjust=\"spacingAndGlyphs\" textLength=\"18\" x=\"386\" y=\"472.9951\">A3</text></g><!--MD5=[7fa823448867f45d961c344e849ff405]\n",
       "link E11 to E9--><path d=\"M43.17,128.39 C52.97,123.59 75.07,113.56 95,110 C130.99,103.58 390.41,99.57 424,114 C453.1,126.5 476.4,158.53 485.21,171.95 \" fill=\"none\" id=\"E11-E9\" style=\"stroke: #383838; stroke-width: 5.0;\"/><!--MD5=[1ccb2481ffa92f8d51a74ee30c51832a]\n",
       "link E8 to E5--><path d=\"M272.11,133.99 C297.79,115.88 338.4,87.22 365.61,68.03 \" fill=\"none\" id=\"E8-&gt;E5\" style=\"stroke: #383838; stroke-width: 1.0;\"/><polygon fill=\"#383838\" points=\"369.86,65.03,360.2011,66.9549,365.776,67.9145,364.8163,73.4894,369.86,65.03\" style=\"stroke: #383838; stroke-width: 1.0;\"/><!--MD5=[c7ae11ec14e8ec8b4879121bf3f87a6d]\n",
       "@startuml\r\n",
       "left to right direction\r\n",
       "skinparam monochrome true\r\n",
       "skinparam classbackgroundcolor white\r\n",
       "skinparam shadowing false\r\n",
       "skinparam wrapWidth 300\r\n",
       "hide circle\r\n",
       "\r\n",
       "rec def \"DecisionTest\" as E1 {\r\n",
       "portout \"$result\" as E2  \r\n",
       "rec usage \"test x\" as E3 {\r\n",
       "}\r\n",
       "\r\n",
       "rec usage \"A1\" as E4 {\r\n",
       "}\r\n",
       "\r\n",
       "rec usage \"A2\" as E5 {\r\n",
       "}\r\n",
       "\r\n",
       "rec usage \"A3\" as E6 {\r\n",
       "}\r\n",
       "\r\n",
       "rec usage \"S\" as E7 {\r\n",
       "rec usage \"A1\" as E8 {\r\n",
       "}\r\n",
       "\r\n",
       "portout \"$result\" as E9  \r\n",
       "portin \"$x\" as E10  \r\n",
       "portin \"$y\" as E11  \r\n",
       "portout \"$result\" as E12  \r\n",
       "}\r\n",
       "\r\n",
       "rec usage \"A3\" as E13 {\r\n",
       "}\r\n",
       "\r\n",
       "}\r\n",
       "\r\n",
       "E11 -[thickness=5]- E9\r\n",
       "E8 - -> E5\r\n",
       "@enduml\r\n",
       "\n",
       "PlantUML version 1.2020.13(Sat Jun 13 12:26:38 UTC 2020)\n",
       "(EPL source distribution)\n",
       "Java Runtime: OpenJDK Runtime Environment\n",
       "JVM: OpenJDK 64-Bit Server VM\n",
       "Default Encoding: UTF-8\n",
       "Language: en\n",
       "Country: null\n",
       "--></g></svg>"
      ]
     },
     "execution_count": 22,
     "metadata": {},
     "output_type": "execute_result"
    }
   ],
   "source": [
    "%viz --style=\"LR\" --view=\"MIXED\" \"DecisionTest\""
   ]
  },
  {
   "cell_type": "code",
   "execution_count": 23,
   "id": "prostate-allen",
   "metadata": {
    "execution": {
     "iopub.execute_input": "2021-03-25T16:06:05.926771Z",
     "iopub.status.busy": "2021-03-25T16:06:05.926257Z",
     "iopub.status.idle": "2021-03-25T16:06:05.991106Z",
     "shell.execute_reply": "2021-03-25T16:06:05.989793Z"
    }
   },
   "outputs": [
    {
     "data": {
      "image/svg+xml": [
       "<?xml version=\"1.0\" encoding=\"UTF-8\" standalone=\"no\"?><svg xmlns=\"http://www.w3.org/2000/svg\" xmlns:xlink=\"http://www.w3.org/1999/xlink\" contentScriptType=\"application/ecmascript\" contentStyleType=\"text/css\" height=\"517px\" preserveAspectRatio=\"none\" style=\"width:546px;height:517px;\" version=\"1.1\" viewBox=\"0 0 546 517\" width=\"546px\" zoomAndPan=\"magnify\"><defs><filter height=\"300%\" id=\"f1wrz0lca71roc\" width=\"300%\" x=\"-1\" y=\"-1\"><feGaussianBlur result=\"blurOut\" stdDeviation=\"2.0\"/><feColorMatrix in=\"blurOut\" result=\"blurOut2\" type=\"matrix\" values=\"0 0 0 0 0 0 0 0 0 0 0 0 0 0 0 0 0 0 .4 0\"/><feOffset dx=\"4.0\" dy=\"4.0\" in=\"blurOut2\" result=\"blurOut3\"/><feBlend in=\"SourceGraphic\" in2=\"blurOut3\" mode=\"normal\"/></filter></defs><g><!--MD5=[fbc87193dbaf4d95561dea2c320d4a47]\n",
       "cluster E1--><rect fill=\"#FFFFFF\" filter=\"url(#f1wrz0lca71roc)\" height=\"473\" style=\"stroke: #000000; stroke-width: 1.5;\" width=\"522\" x=\"7\" y=\"12.0986\"/><text fill=\"#000000\" font-family=\"sans-serif\" font-size=\"14\" font-weight=\"bold\" lengthAdjust=\"spacingAndGlyphs\" textLength=\"102\" x=\"217\" y=\"27.0938\">DecisionTest</text><!--MD5=[168fadf3d0c3fd93dd5d6da1b1d7ab76]\n",
       "cluster E7--><rect fill=\"#FEFECE\" filter=\"url(#f1wrz0lca71roc)\" height=\"371\" rx=\"12.5\" ry=\"12.5\" style=\"stroke: #000000; stroke-width: 1.5;\" width=\"115\" x=\"340\" y=\"42.0986\"/><rect fill=\"#FFFFFF\" height=\"338.7031\" rx=\"12.5\" ry=\"12.5\" style=\"stroke: #FFFFFF; stroke-width: 1.0;\" width=\"109\" x=\"343\" y=\"71.3955\"/><line style=\"stroke: #000000; stroke-width: 1.5;\" x1=\"340\" x2=\"455\" y1=\"68.3955\" y2=\"68.3955\"/><text fill=\"#000000\" font-family=\"sans-serif\" font-size=\"14\" lengthAdjust=\"spacingAndGlyphs\" textLength=\"9\" x=\"393\" y=\"60.0938\">S</text><text fill=\"#000000\" font-family=\"sans-serif\" font-size=\"14\" lengthAdjust=\"spacingAndGlyphs\" textLength=\"48\" x=\"146\" y=\"504.0938\">$result</text><rect fill=\"#A80036\" height=\"12\" style=\"stroke: #FEFECE; stroke-width: 1.5;\" width=\"12\" x=\"164\" y=\"479.0986\"/><g id=\"E1.E3\"><rect fill=\"#FFFFFF\" filter=\"url(#f1wrz0lca71roc)\" height=\"50\" rx=\"12.5\" ry=\"12.5\" style=\"stroke: #A80036; stroke-width: 1.5;\" width=\"58\" x=\"278\" y=\"297.0986\"/><line style=\"stroke: #A80036; stroke-width: 1.5;\" x1=\"278\" x2=\"336\" y1=\"323.3955\" y2=\"323.3955\"/><text fill=\"#000000\" font-family=\"sans-serif\" font-size=\"14\" lengthAdjust=\"spacingAndGlyphs\" textLength=\"38\" x=\"288\" y=\"315.0938\">test x</text></g><g id=\"E1.E4\"><rect fill=\"#FFFFFF\" filter=\"url(#f1wrz0lca71roc)\" height=\"50\" rx=\"12.5\" ry=\"12.5\" style=\"stroke: #A80036; stroke-width: 1.5;\" width=\"50\" x=\"193\" y=\"297.0986\"/><line style=\"stroke: #A80036; stroke-width: 1.5;\" x1=\"193\" x2=\"243\" y1=\"323.3955\" y2=\"323.3955\"/><text fill=\"#000000\" font-family=\"sans-serif\" font-size=\"14\" lengthAdjust=\"spacingAndGlyphs\" textLength=\"18\" x=\"209\" y=\"315.0938\">A1</text></g><g id=\"E1.E5\"><rect fill=\"#FFFFFF\" filter=\"url(#f1wrz0lca71roc)\" height=\"50\" rx=\"12.5\" ry=\"12.5\" style=\"stroke: #A80036; stroke-width: 1.5;\" width=\"50\" x=\"463\" y=\"297.0986\"/><line style=\"stroke: #A80036; stroke-width: 1.5;\" x1=\"463\" x2=\"513\" y1=\"323.3955\" y2=\"323.3955\"/><text fill=\"#000000\" font-family=\"sans-serif\" font-size=\"14\" lengthAdjust=\"spacingAndGlyphs\" textLength=\"18\" x=\"479\" y=\"315.0938\">A2</text></g><g id=\"E1.E6\"><rect fill=\"#FFFFFF\" filter=\"url(#f1wrz0lca71roc)\" height=\"50\" rx=\"12.5\" ry=\"12.5\" style=\"stroke: #A80036; stroke-width: 1.5;\" width=\"50\" x=\"108\" y=\"297.0986\"/><line style=\"stroke: #A80036; stroke-width: 1.5;\" x1=\"108\" x2=\"158\" y1=\"323.3955\" y2=\"323.3955\"/><text fill=\"#000000\" font-family=\"sans-serif\" font-size=\"14\" lengthAdjust=\"spacingAndGlyphs\" textLength=\"18\" x=\"124\" y=\"315.0938\">A3</text></g><text fill=\"#000000\" font-family=\"sans-serif\" font-size=\"14\" lengthAdjust=\"spacingAndGlyphs\" textLength=\"48\" x=\"334\" y=\"432.0938\">$result</text><rect fill=\"#A80036\" height=\"12\" style=\"stroke: #FEFECE; stroke-width: 1.5;\" width=\"12\" x=\"352\" y=\"407.0986\"/><text fill=\"#000000\" font-family=\"sans-serif\" font-size=\"14\" lengthAdjust=\"spacingAndGlyphs\" textLength=\"16\" x=\"350\" y=\"20.7969\">$x</text><rect fill=\"#A80036\" height=\"12\" style=\"stroke: #FEFECE; stroke-width: 1.5;\" width=\"12\" x=\"352\" y=\"36.0986\"/><text fill=\"#000000\" font-family=\"sans-serif\" font-size=\"14\" lengthAdjust=\"spacingAndGlyphs\" textLength=\"16\" x=\"397\" y=\"20.7969\">$y</text><rect fill=\"#A80036\" height=\"12\" style=\"stroke: #FEFECE; stroke-width: 1.5;\" width=\"12\" x=\"399\" y=\"36.0986\"/><text fill=\"#000000\" font-family=\"sans-serif\" font-size=\"14\" lengthAdjust=\"spacingAndGlyphs\" textLength=\"48\" x=\"381\" y=\"432.0938\">$result</text><rect fill=\"#A80036\" height=\"12\" style=\"stroke: #FEFECE; stroke-width: 1.5;\" width=\"12\" x=\"399\" y=\"407.0986\"/><g id=\"E1.E7.E8\"><rect fill=\"#FFFFFF\" filter=\"url(#f1wrz0lca71roc)\" height=\"50\" rx=\"12.5\" ry=\"12.5\" style=\"stroke: #A80036; stroke-width: 1.5;\" width=\"50\" x=\"360\" y=\"187.0986\"/><line style=\"stroke: #A80036; stroke-width: 1.5;\" x1=\"360\" x2=\"410\" y1=\"213.3955\" y2=\"213.3955\"/><text fill=\"#000000\" font-family=\"sans-serif\" font-size=\"14\" lengthAdjust=\"spacingAndGlyphs\" textLength=\"18\" x=\"376\" y=\"205.0938\">A1</text></g><g id=\"E1.E13\"><rect fill=\"#FFFFFF\" filter=\"url(#f1wrz0lca71roc)\" height=\"50\" rx=\"12.5\" ry=\"12.5\" style=\"stroke: #A80036; stroke-width: 1.5;\" width=\"50\" x=\"23\" y=\"297.0986\"/><line style=\"stroke: #A80036; stroke-width: 1.5;\" x1=\"23\" x2=\"73\" y1=\"323.3955\" y2=\"323.3955\"/><text fill=\"#000000\" font-family=\"sans-serif\" font-size=\"14\" lengthAdjust=\"spacingAndGlyphs\" textLength=\"18\" x=\"39\" y=\"315.0938\">A3</text></g><!--MD5=[7fa823448867f45d961c344e849ff405]\n",
       "link E11 to E9--><path d=\"M407.61,48.2686 C412.41,58.0686 422.44,80.1686 426,100.0986 C430.82,127.1186 432.87,321.8886 422,347.0986 C409.46,376.1886 377.45,399.4986 364.05,408.3086 \" fill=\"none\" id=\"E11-E9\" style=\"stroke: #FF0000; stroke-width: 5.0;\"/><!--MD5=[1ccb2481ffa92f8d51a74ee30c51832a]\n",
       "link E8 to E5--><path d=\"M408.12,237.3386 C423.89,253.8686 444.82,275.8186 461.3,293.1086 \" fill=\"none\" id=\"E8-&gt;E5\" style=\"stroke: #A80036; stroke-width: 1.0;\"/><polygon fill=\"#A80036\" points=\"464.96,296.9386,461.667,287.6566,461.5185,293.3115,455.8636,293.163,464.96,296.9386\" style=\"stroke: #A80036; stroke-width: 1.0;\"/><!--MD5=[8c041006806c771ee4d0e7ee1f49a2df]\n",
       "@startuml\r\n",
       "skinparam wrapWidth 300\r\n",
       "hide circle\r\n",
       "\r\n",
       "rec def \"DecisionTest\" as E1 {\r\n",
       "portout \"$result\" as E2  \r\n",
       "rec usage \"test x\" as E3 {\r\n",
       "}\r\n",
       "\r\n",
       "rec usage \"A1\" as E4 {\r\n",
       "}\r\n",
       "\r\n",
       "rec usage \"A2\" as E5 {\r\n",
       "}\r\n",
       "\r\n",
       "rec usage \"A3\" as E6 {\r\n",
       "}\r\n",
       "\r\n",
       "rec usage \"S\" as E7 {\r\n",
       "rec usage \"A1\" as E8 {\r\n",
       "}\r\n",
       "\r\n",
       "portout \"$result\" as E9  \r\n",
       "portin \"$x\" as E10  \r\n",
       "portin \"$y\" as E11  \r\n",
       "portout \"$result\" as E12  \r\n",
       "}\r\n",
       "\r\n",
       "rec usage \"A3\" as E13 {\r\n",
       "}\r\n",
       "\r\n",
       "}\r\n",
       "\r\n",
       "E11 -[thickness=5,#red]- E9\r\n",
       "E8 - -> E5\r\n",
       "@enduml\r\n",
       "\n",
       "PlantUML version 1.2020.13(Sat Jun 13 12:26:38 UTC 2020)\n",
       "(EPL source distribution)\n",
       "Java Runtime: OpenJDK Runtime Environment\n",
       "JVM: OpenJDK 64-Bit Server VM\n",
       "Default Encoding: UTF-8\n",
       "Language: en\n",
       "Country: null\n",
       "--></g></svg>"
      ]
     },
     "execution_count": 23,
     "metadata": {},
     "output_type": "execute_result"
    }
   ],
   "source": [
    "%viz --style=\"STDCOLOR\" --view=\"Default\" \"DecisionTest\""
   ]
  },
  {
   "cell_type": "code",
   "execution_count": 24,
   "id": "initial-discovery",
   "metadata": {
    "execution": {
     "iopub.execute_input": "2021-03-25T16:06:06.043911Z",
     "iopub.status.busy": "2021-03-25T16:06:06.043240Z",
     "iopub.status.idle": "2021-03-25T16:06:07.273979Z",
     "shell.execute_reply": "2021-03-25T16:06:07.274431Z"
    }
   },
   "outputs": [
    {
     "data": {
      "image/svg+xml": [
       "<?xml version=\"1.0\" encoding=\"UTF-8\" standalone=\"no\"?><svg xmlns=\"http://www.w3.org/2000/svg\" xmlns:xlink=\"http://www.w3.org/1999/xlink\" contentScriptType=\"application/ecmascript\" contentStyleType=\"text/css\" height=\"199px\" preserveAspectRatio=\"none\" style=\"width:160px;height:199px;\" version=\"1.1\" viewBox=\"0 0 160 199\" width=\"160px\" zoomAndPan=\"magnify\"><defs><filter height=\"300%\" id=\"frdvth2c8mlco\" width=\"300%\" x=\"-1\" y=\"-1\"><feGaussianBlur result=\"blurOut\" stdDeviation=\"2.0\"/><feColorMatrix in=\"blurOut\" result=\"blurOut2\" type=\"matrix\" values=\"0 0 0 0 0 0 0 0 0 0 0 0 0 0 0 0 0 0 .4 0\"/><feOffset dx=\"4.0\" dy=\"4.0\" in=\"blurOut2\" result=\"blurOut3\"/><feBlend in=\"SourceGraphic\" in2=\"blurOut3\" mode=\"normal\"/></filter></defs><g><!--MD5=[43c9051892ef23e1a46a86907403d788]\n",
       "class E1--><rect fill=\"#FEFECE\" filter=\"url(#frdvth2c8mlco)\" height=\"173.1797\" id=\"E1\" style=\"stroke: #A80036; stroke-width: 1.5;\" width=\"134\" x=\"7\" y=\"7\"/><text fill=\"#000000\" font-family=\"sans-serif\" font-size=\"12\" font-style=\"italic\" lengthAdjust=\"spacingAndGlyphs\" textLength=\"77\" x=\"35.5\" y=\"23.1387\">«action def»</text><text fill=\"#000000\" font-family=\"sans-serif\" font-size=\"12\" lengthAdjust=\"spacingAndGlyphs\" textLength=\"80\" x=\"34\" y=\"37.1074\">DecisionTest</text><line style=\"stroke: #A80036; stroke-width: 1.5;\" x1=\"8\" x2=\"140\" y1=\"44.9375\" y2=\"44.9375\"/><text fill=\"#000000\" font-family=\"sans-serif\" font-size=\"11\" lengthAdjust=\"spacingAndGlyphs\" textLength=\"95\" x=\"13\" y=\"59.1479\">x: DataValue= 1;</text><text fill=\"#000000\" font-family=\"sans-serif\" font-size=\"11\" lengthAdjust=\"spacingAndGlyphs\" textLength=\"56\" x=\"13\" y=\"88.7573\">A1: Action</text><text fill=\"#000000\" font-family=\"sans-serif\" font-size=\"11\" lengthAdjust=\"spacingAndGlyphs\" textLength=\"56\" x=\"13\" y=\"101.562\">A2: Action</text><text fill=\"#000000\" font-family=\"sans-serif\" font-size=\"11\" lengthAdjust=\"spacingAndGlyphs\" textLength=\"56\" x=\"13\" y=\"114.3667\">A3: Action</text><line style=\"stroke: #A80036; stroke-width: 1.0;\" x1=\"8\" x2=\"53.5\" y1=\"72.1445\" y2=\"72.1445\"/><text fill=\"#000000\" font-family=\"sans-serif\" font-size=\"11\" lengthAdjust=\"spacingAndGlyphs\" textLength=\"41\" x=\"53.5\" y=\"75.4526\">actions</text><line style=\"stroke: #A80036; stroke-width: 1.0;\" x1=\"94.5\" x2=\"140\" y1=\"72.1445\" y2=\"72.1445\"/><text fill=\"#000000\" font-family=\"sans-serif\" font-size=\"11\" lengthAdjust=\"spacingAndGlyphs\" textLength=\"122\" x=\"13\" y=\"143.9761\">test x: DecisionAction</text><line style=\"stroke: #A80036; stroke-width: 1.0;\" x1=\"8\" x2=\"32.5\" y1=\"127.3633\" y2=\"127.3633\"/><text fill=\"#000000\" font-family=\"sans-serif\" font-size=\"11\" lengthAdjust=\"spacingAndGlyphs\" textLength=\"83\" x=\"32.5\" y=\"130.6714\">decisionNodes</text><line style=\"stroke: #A80036; stroke-width: 1.0;\" x1=\"115.5\" x2=\"140\" y1=\"127.3633\" y2=\"127.3633\"/><text fill=\"#000000\" font-family=\"sans-serif\" font-size=\"11\" lengthAdjust=\"spacingAndGlyphs\" textLength=\"73\" x=\"13\" y=\"173.5854\">S: Transition</text><line style=\"stroke: #A80036; stroke-width: 1.0;\" x1=\"8\" x2=\"43.5\" y1=\"156.9727\" y2=\"156.9727\"/><text fill=\"#000000\" font-family=\"sans-serif\" font-size=\"11\" lengthAdjust=\"spacingAndGlyphs\" textLength=\"61\" x=\"43.5\" y=\"160.2808\">transitions</text><line style=\"stroke: #A80036; stroke-width: 1.0;\" x1=\"104.5\" x2=\"140\" y1=\"156.9727\" y2=\"156.9727\"/><!--MD5=[4725e06d6ab40e00ef63c43385ecdd70]\n",
       "@startuml\r\n",
       "skinparam wrapWidth 300\r\n",
       "hide circle\r\n",
       "\r\n",
       "comp def \"DecisionTest\" as E1  <<(T,blue)action def>> {\r\n",
       "x: DataValue= 1; \r\n",
       "- -actions- -\r\n",
       "A1: Action\r\n",
       "A2: Action\r\n",
       "A3: Action\r\n",
       "- -decisionNodes- -\r\n",
       "test x: DecisionAction\r\n",
       "- -transitions- -\r\n",
       "S: Transition\r\n",
       "}\r\n",
       "@enduml\r\n",
       "\n",
       "PlantUML version 1.2020.13(Sat Jun 13 12:26:38 UTC 2020)\n",
       "(EPL source distribution)\n",
       "Java Runtime: OpenJDK Runtime Environment\n",
       "JVM: OpenJDK 64-Bit Server VM\n",
       "Default Encoding: UTF-8\n",
       "Language: en\n",
       "Country: null\n",
       "--></g></svg>"
      ]
     },
     "execution_count": 24,
     "metadata": {},
     "output_type": "execute_result"
    }
   ],
   "source": [
    "%viz --style=\"STDCOLOR\" --view=\"Tree\" \"DecisionTest\""
   ]
  },
  {
   "cell_type": "code",
   "execution_count": 25,
   "id": "isolated-thickness",
   "metadata": {
    "execution": {
     "iopub.execute_input": "2021-03-25T16:06:07.327150Z",
     "iopub.status.busy": "2021-03-25T16:06:07.326428Z",
     "iopub.status.idle": "2021-03-25T16:06:07.331091Z",
     "shell.execute_reply": "2021-03-25T16:06:07.331533Z"
    }
   },
   "outputs": [
    {
     "data": {
      "text/plain": [
       "java.lang.IllegalArgumentException: Invalid View: State View candidates are: Default Tree StateMachine Interconnection Activity Sequence MIXED \n",
       "\tat org.omg.sysml.plantuml.SysML2PlantUMLSvc.setView(SysML2PlantUMLSvc.java:63)\n",
       "\tat org.omg.sysml.interactive.SysMLInteractive.viz(SysMLInteractive.java:286)\n",
       "\tat org.omg.sysml.jupyter.kernel.magic.Viz.viz(Viz.java:47)\n",
       "\tat jdk.internal.reflect.GeneratedMethodAccessor15.invoke(Unknown Source)\n",
       "\tat java.base/jdk.internal.reflect.DelegatingMethodAccessorImpl.invoke(DelegatingMethodAccessorImpl.java:43)\n",
       "\tat java.base/java.lang.reflect.Method.invoke(Method.java:568)\n",
       "\tat io.github.spencerpark.jupyter.kernel.magic.registry.Magics.invoke(Magics.java:89)\n",
       "\tat io.github.spencerpark.jupyter.kernel.magic.registry.Magics.access$000(Magics.java:8)\n",
       "\tat io.github.spencerpark.jupyter.kernel.magic.registry.Magics$LineReflectionMagicFunction.execute(Magics.java:149)\n",
       "\tat io.github.spencerpark.jupyter.kernel.magic.registry.Magics.applyLineMagic(Magics.java:26)\n",
       "\tat org.omg.sysml.jupyter.kernel.SysMLKernel.eval(SysMLKernel.java:76)\n",
       "\tat io.github.spencerpark.jupyter.kernel.BaseKernel.handleExecuteRequest(BaseKernel.java:334)\n",
       "\tat io.github.spencerpark.jupyter.channels.ShellChannel.lambda$bind$0(ShellChannel.java:64)\n",
       "\tat io.github.spencerpark.jupyter.channels.Loop.lambda$new$0(Loop.java:21)\n",
       "\tat io.github.spencerpark.jupyter.channels.Loop.run(Loop.java:78)\n"
      ]
     },
     "execution_count": 25,
     "metadata": {},
     "output_type": "execute_result"
    }
   ],
   "source": [
    "%viz --style=\"STDCOLOR\" --view=\"State\" \"DecisionTest\""
   ]
  },
  {
   "cell_type": "code",
   "execution_count": 26,
   "id": "certified-lounge",
   "metadata": {
    "execution": {
     "iopub.execute_input": "2021-03-25T16:06:07.382924Z",
     "iopub.status.busy": "2021-03-25T16:06:07.382453Z",
     "iopub.status.idle": "2021-03-25T16:06:07.410911Z",
     "shell.execute_reply": "2021-03-25T16:06:07.411380Z"
    }
   },
   "outputs": [
    {
     "data": {
      "image/svg+xml": [
       "<?xml version=\"1.0\" encoding=\"UTF-8\" standalone=\"no\"?><svg xmlns=\"http://www.w3.org/2000/svg\" xmlns:xlink=\"http://www.w3.org/1999/xlink\" contentScriptType=\"application/ecmascript\" contentStyleType=\"text/css\" height=\"79px\" preserveAspectRatio=\"none\" style=\"width:112px;height:79px;\" version=\"1.1\" viewBox=\"0 0 112 79\" width=\"112px\" zoomAndPan=\"magnify\"><defs><filter height=\"300%\" id=\"furu6i6bko7vf\" width=\"300%\" x=\"-1\" y=\"-1\"><feGaussianBlur result=\"blurOut\" stdDeviation=\"2.0\"/><feColorMatrix in=\"blurOut\" result=\"blurOut2\" type=\"matrix\" values=\"0 0 0 0 0 0 0 0 0 0 0 0 0 0 0 0 0 0 .4 0\"/><feOffset dx=\"4.0\" dy=\"4.0\" in=\"blurOut2\" result=\"blurOut3\"/><feBlend in=\"SourceGraphic\" in2=\"blurOut3\" mode=\"normal\"/></filter></defs><g><!--MD5=[43c9051892ef23e1a46a86907403d788]\n",
       "class E1--><rect fill=\"#FEFECE\" filter=\"url(#furu6i6bko7vf)\" height=\"53.9375\" id=\"E1\" style=\"stroke: #A80036; stroke-width: 1.5;\" width=\"86\" x=\"7\" y=\"7\"/><text fill=\"#000000\" font-family=\"sans-serif\" font-size=\"12\" font-style=\"italic\" lengthAdjust=\"spacingAndGlyphs\" textLength=\"77\" x=\"11.5\" y=\"23.1387\">«action def»</text><text fill=\"#000000\" font-family=\"sans-serif\" font-size=\"12\" lengthAdjust=\"spacingAndGlyphs\" textLength=\"80\" x=\"10\" y=\"37.1074\">DecisionTest</text><line style=\"stroke: #A80036; stroke-width: 1.5;\" x1=\"8\" x2=\"92\" y1=\"44.9375\" y2=\"44.9375\"/><line style=\"stroke: #A80036; stroke-width: 1.5;\" x1=\"8\" x2=\"92\" y1=\"52.9375\" y2=\"52.9375\"/><!--MD5=[2e3552f6276484f0ad17f90939fc9ded]\n",
       "@startuml\r\n",
       "skinparam ranksep 8\r\n",
       "skinparam rectangle {\r\n",
       " backgroundColor<<block>> LightGreen\r\n",
       "}\r\n",
       "skinparam wrapWidth 300\r\n",
       "hide circle\r\n",
       "\r\n",
       "def \"DecisionTest\" as E1  <<action def>> \r\n",
       "@enduml\r\n",
       "\n",
       "PlantUML version 1.2020.13(Sat Jun 13 12:26:38 UTC 2020)\n",
       "(EPL source distribution)\n",
       "Java Runtime: OpenJDK Runtime Environment\n",
       "JVM: OpenJDK 64-Bit Server VM\n",
       "Default Encoding: UTF-8\n",
       "Language: en\n",
       "Country: null\n",
       "--></g></svg>"
      ]
     },
     "execution_count": 26,
     "metadata": {},
     "output_type": "execute_result"
    }
   ],
   "source": [
    "%viz --style=\"STDCOLOR\" --view=\"Interconnection\" \"DecisionTest\""
   ]
  },
  {
   "cell_type": "code",
   "execution_count": 27,
   "id": "impressive-zoning",
   "metadata": {
    "execution": {
     "iopub.execute_input": "2021-03-25T16:06:07.462591Z",
     "iopub.status.busy": "2021-03-25T16:06:07.461962Z",
     "iopub.status.idle": "2021-03-25T16:06:07.465626Z",
     "shell.execute_reply": "2021-03-25T16:06:07.466095Z"
    }
   },
   "outputs": [
    {
     "data": {
      "text/plain": [
       "java.lang.IllegalArgumentException: Invalid View: Action View candidates are: Default Tree StateMachine Interconnection Activity Sequence MIXED \n",
       "\tat org.omg.sysml.plantuml.SysML2PlantUMLSvc.setView(SysML2PlantUMLSvc.java:63)\n",
       "\tat org.omg.sysml.interactive.SysMLInteractive.viz(SysMLInteractive.java:286)\n",
       "\tat org.omg.sysml.jupyter.kernel.magic.Viz.viz(Viz.java:47)\n",
       "\tat jdk.internal.reflect.GeneratedMethodAccessor15.invoke(Unknown Source)\n",
       "\tat java.base/jdk.internal.reflect.DelegatingMethodAccessorImpl.invoke(DelegatingMethodAccessorImpl.java:43)\n",
       "\tat java.base/java.lang.reflect.Method.invoke(Method.java:568)\n",
       "\tat io.github.spencerpark.jupyter.kernel.magic.registry.Magics.invoke(Magics.java:89)\n",
       "\tat io.github.spencerpark.jupyter.kernel.magic.registry.Magics.access$000(Magics.java:8)\n",
       "\tat io.github.spencerpark.jupyter.kernel.magic.registry.Magics$LineReflectionMagicFunction.execute(Magics.java:149)\n",
       "\tat io.github.spencerpark.jupyter.kernel.magic.registry.Magics.applyLineMagic(Magics.java:26)\n",
       "\tat org.omg.sysml.jupyter.kernel.SysMLKernel.eval(SysMLKernel.java:76)\n",
       "\tat io.github.spencerpark.jupyter.kernel.BaseKernel.handleExecuteRequest(BaseKernel.java:334)\n",
       "\tat io.github.spencerpark.jupyter.channels.ShellChannel.lambda$bind$0(ShellChannel.java:64)\n",
       "\tat io.github.spencerpark.jupyter.channels.Loop.lambda$new$0(Loop.java:21)\n",
       "\tat io.github.spencerpark.jupyter.channels.Loop.run(Loop.java:78)\n"
      ]
     },
     "execution_count": 27,
     "metadata": {},
     "output_type": "execute_result"
    }
   ],
   "source": [
    "%viz --style=\"STDCOLOR\" --view=\"Action\" \"DecisionTest\""
   ]
  },
  {
   "cell_type": "code",
   "execution_count": 28,
   "id": "neutral-andrew",
   "metadata": {
    "execution": {
     "iopub.execute_input": "2021-03-25T16:06:07.518182Z",
     "iopub.status.busy": "2021-03-25T16:06:07.517592Z",
     "iopub.status.idle": "2021-03-25T16:06:08.766269Z",
     "shell.execute_reply": "2021-03-25T16:06:08.765917Z"
    }
   },
   "outputs": [
    {
     "data": {
      "image/svg+xml": [
       "<?xml version=\"1.0\" encoding=\"UTF-8\" standalone=\"no\"?><svg xmlns=\"http://www.w3.org/2000/svg\" xmlns:xlink=\"http://www.w3.org/1999/xlink\" contentScriptType=\"application/ecmascript\" contentStyleType=\"text/css\" height=\"199px\" preserveAspectRatio=\"none\" style=\"width:160px;height:199px;\" version=\"1.1\" viewBox=\"0 0 160 199\" width=\"160px\" zoomAndPan=\"magnify\"><defs><filter height=\"300%\" id=\"frdvth2c8mlco\" width=\"300%\" x=\"-1\" y=\"-1\"><feGaussianBlur result=\"blurOut\" stdDeviation=\"2.0\"/><feColorMatrix in=\"blurOut\" result=\"blurOut2\" type=\"matrix\" values=\"0 0 0 0 0 0 0 0 0 0 0 0 0 0 0 0 0 0 .4 0\"/><feOffset dx=\"4.0\" dy=\"4.0\" in=\"blurOut2\" result=\"blurOut3\"/><feBlend in=\"SourceGraphic\" in2=\"blurOut3\" mode=\"normal\"/></filter></defs><g><!--MD5=[43c9051892ef23e1a46a86907403d788]\n",
       "class E1--><rect fill=\"#FEFECE\" filter=\"url(#frdvth2c8mlco)\" height=\"173.1797\" id=\"E1\" style=\"stroke: #A80036; stroke-width: 1.5;\" width=\"134\" x=\"7\" y=\"7\"/><text fill=\"#000000\" font-family=\"sans-serif\" font-size=\"12\" font-style=\"italic\" lengthAdjust=\"spacingAndGlyphs\" textLength=\"77\" x=\"35.5\" y=\"23.1387\">«action def»</text><text fill=\"#000000\" font-family=\"sans-serif\" font-size=\"12\" lengthAdjust=\"spacingAndGlyphs\" textLength=\"80\" x=\"34\" y=\"37.1074\">DecisionTest</text><line style=\"stroke: #A80036; stroke-width: 1.5;\" x1=\"8\" x2=\"140\" y1=\"44.9375\" y2=\"44.9375\"/><text fill=\"#000000\" font-family=\"sans-serif\" font-size=\"11\" lengthAdjust=\"spacingAndGlyphs\" textLength=\"95\" x=\"13\" y=\"59.1479\">x: DataValue= 1;</text><text fill=\"#000000\" font-family=\"sans-serif\" font-size=\"11\" lengthAdjust=\"spacingAndGlyphs\" textLength=\"56\" x=\"13\" y=\"88.7573\">A1: Action</text><text fill=\"#000000\" font-family=\"sans-serif\" font-size=\"11\" lengthAdjust=\"spacingAndGlyphs\" textLength=\"56\" x=\"13\" y=\"101.562\">A2: Action</text><text fill=\"#000000\" font-family=\"sans-serif\" font-size=\"11\" lengthAdjust=\"spacingAndGlyphs\" textLength=\"56\" x=\"13\" y=\"114.3667\">A3: Action</text><line style=\"stroke: #A80036; stroke-width: 1.0;\" x1=\"8\" x2=\"53.5\" y1=\"72.1445\" y2=\"72.1445\"/><text fill=\"#000000\" font-family=\"sans-serif\" font-size=\"11\" lengthAdjust=\"spacingAndGlyphs\" textLength=\"41\" x=\"53.5\" y=\"75.4526\">actions</text><line style=\"stroke: #A80036; stroke-width: 1.0;\" x1=\"94.5\" x2=\"140\" y1=\"72.1445\" y2=\"72.1445\"/><text fill=\"#000000\" font-family=\"sans-serif\" font-size=\"11\" lengthAdjust=\"spacingAndGlyphs\" textLength=\"122\" x=\"13\" y=\"143.9761\">test x: DecisionAction</text><line style=\"stroke: #A80036; stroke-width: 1.0;\" x1=\"8\" x2=\"32.5\" y1=\"127.3633\" y2=\"127.3633\"/><text fill=\"#000000\" font-family=\"sans-serif\" font-size=\"11\" lengthAdjust=\"spacingAndGlyphs\" textLength=\"83\" x=\"32.5\" y=\"130.6714\">decisionNodes</text><line style=\"stroke: #A80036; stroke-width: 1.0;\" x1=\"115.5\" x2=\"140\" y1=\"127.3633\" y2=\"127.3633\"/><text fill=\"#000000\" font-family=\"sans-serif\" font-size=\"11\" lengthAdjust=\"spacingAndGlyphs\" textLength=\"73\" x=\"13\" y=\"173.5854\">S: Transition</text><line style=\"stroke: #A80036; stroke-width: 1.0;\" x1=\"8\" x2=\"43.5\" y1=\"156.9727\" y2=\"156.9727\"/><text fill=\"#000000\" font-family=\"sans-serif\" font-size=\"11\" lengthAdjust=\"spacingAndGlyphs\" textLength=\"61\" x=\"43.5\" y=\"160.2808\">transitions</text><line style=\"stroke: #A80036; stroke-width: 1.0;\" x1=\"104.5\" x2=\"140\" y1=\"156.9727\" y2=\"156.9727\"/><!--MD5=[4725e06d6ab40e00ef63c43385ecdd70]\n",
       "@startuml\r\n",
       "skinparam wrapWidth 300\r\n",
       "hide circle\r\n",
       "\r\n",
       "comp def \"DecisionTest\" as E1  <<(T,blue)action def>> {\r\n",
       "x: DataValue= 1; \r\n",
       "- -actions- -\r\n",
       "A1: Action\r\n",
       "A2: Action\r\n",
       "A3: Action\r\n",
       "- -decisionNodes- -\r\n",
       "test x: DecisionAction\r\n",
       "- -transitions- -\r\n",
       "S: Transition\r\n",
       "}\r\n",
       "@enduml\r\n",
       "\n",
       "PlantUML version 1.2020.13(Sat Jun 13 12:26:38 UTC 2020)\n",
       "(EPL source distribution)\n",
       "Java Runtime: OpenJDK Runtime Environment\n",
       "JVM: OpenJDK 64-Bit Server VM\n",
       "Default Encoding: UTF-8\n",
       "Language: en\n",
       "Country: null\n",
       "--></g></svg>"
      ]
     },
     "execution_count": 28,
     "metadata": {},
     "output_type": "execute_result"
    }
   ],
   "source": [
    "%viz --style=\"STDCOLOR\" --view=\"Sequence\" \"DecisionTest\""
   ]
  },
  {
   "cell_type": "code",
   "execution_count": 29,
   "id": "acute-arrow",
   "metadata": {
    "execution": {
     "iopub.execute_input": "2021-03-25T16:06:08.816781Z",
     "iopub.status.busy": "2021-03-25T16:06:08.816331Z",
     "iopub.status.idle": "2021-03-25T16:06:08.880061Z",
     "shell.execute_reply": "2021-03-25T16:06:08.879716Z"
    }
   },
   "outputs": [
    {
     "data": {
      "image/svg+xml": [
       "<?xml version=\"1.0\" encoding=\"UTF-8\" standalone=\"no\"?><svg xmlns=\"http://www.w3.org/2000/svg\" xmlns:xlink=\"http://www.w3.org/1999/xlink\" contentScriptType=\"application/ecmascript\" contentStyleType=\"text/css\" height=\"517px\" preserveAspectRatio=\"none\" style=\"width:546px;height:517px;\" version=\"1.1\" viewBox=\"0 0 546 517\" width=\"546px\" zoomAndPan=\"magnify\"><defs><filter height=\"300%\" id=\"f1wrz0lca71roc\" width=\"300%\" x=\"-1\" y=\"-1\"><feGaussianBlur result=\"blurOut\" stdDeviation=\"2.0\"/><feColorMatrix in=\"blurOut\" result=\"blurOut2\" type=\"matrix\" values=\"0 0 0 0 0 0 0 0 0 0 0 0 0 0 0 0 0 0 .4 0\"/><feOffset dx=\"4.0\" dy=\"4.0\" in=\"blurOut2\" result=\"blurOut3\"/><feBlend in=\"SourceGraphic\" in2=\"blurOut3\" mode=\"normal\"/></filter></defs><g><!--MD5=[fbc87193dbaf4d95561dea2c320d4a47]\n",
       "cluster E1--><rect fill=\"#FFFFFF\" filter=\"url(#f1wrz0lca71roc)\" height=\"473\" style=\"stroke: #000000; stroke-width: 1.5;\" width=\"522\" x=\"7\" y=\"12.0986\"/><text fill=\"#000000\" font-family=\"sans-serif\" font-size=\"14\" font-weight=\"bold\" lengthAdjust=\"spacingAndGlyphs\" textLength=\"102\" x=\"217\" y=\"27.0938\">DecisionTest</text><!--MD5=[168fadf3d0c3fd93dd5d6da1b1d7ab76]\n",
       "cluster E7--><rect fill=\"#FEFECE\" filter=\"url(#f1wrz0lca71roc)\" height=\"371\" rx=\"12.5\" ry=\"12.5\" style=\"stroke: #000000; stroke-width: 1.5;\" width=\"115\" x=\"340\" y=\"42.0986\"/><rect fill=\"#FFFFFF\" height=\"338.7031\" rx=\"12.5\" ry=\"12.5\" style=\"stroke: #FFFFFF; stroke-width: 1.0;\" width=\"109\" x=\"343\" y=\"71.3955\"/><line style=\"stroke: #000000; stroke-width: 1.5;\" x1=\"340\" x2=\"455\" y1=\"68.3955\" y2=\"68.3955\"/><text fill=\"#000000\" font-family=\"sans-serif\" font-size=\"14\" lengthAdjust=\"spacingAndGlyphs\" textLength=\"9\" x=\"393\" y=\"60.0938\">S</text><text fill=\"#000000\" font-family=\"sans-serif\" font-size=\"14\" lengthAdjust=\"spacingAndGlyphs\" textLength=\"48\" x=\"146\" y=\"504.0938\">$result</text><rect fill=\"#A80036\" height=\"12\" style=\"stroke: #FEFECE; stroke-width: 1.5;\" width=\"12\" x=\"164\" y=\"479.0986\"/><g id=\"E1.E3\"><rect fill=\"#FFFFFF\" filter=\"url(#f1wrz0lca71roc)\" height=\"50\" rx=\"12.5\" ry=\"12.5\" style=\"stroke: #A80036; stroke-width: 1.5;\" width=\"58\" x=\"278\" y=\"297.0986\"/><line style=\"stroke: #A80036; stroke-width: 1.5;\" x1=\"278\" x2=\"336\" y1=\"323.3955\" y2=\"323.3955\"/><text fill=\"#000000\" font-family=\"sans-serif\" font-size=\"14\" lengthAdjust=\"spacingAndGlyphs\" textLength=\"38\" x=\"288\" y=\"315.0938\">test x</text></g><g id=\"E1.E4\"><rect fill=\"#FFFFFF\" filter=\"url(#f1wrz0lca71roc)\" height=\"50\" rx=\"12.5\" ry=\"12.5\" style=\"stroke: #A80036; stroke-width: 1.5;\" width=\"50\" x=\"193\" y=\"297.0986\"/><line style=\"stroke: #A80036; stroke-width: 1.5;\" x1=\"193\" x2=\"243\" y1=\"323.3955\" y2=\"323.3955\"/><text fill=\"#000000\" font-family=\"sans-serif\" font-size=\"14\" lengthAdjust=\"spacingAndGlyphs\" textLength=\"18\" x=\"209\" y=\"315.0938\">A1</text></g><g id=\"E1.E5\"><rect fill=\"#FFFFFF\" filter=\"url(#f1wrz0lca71roc)\" height=\"50\" rx=\"12.5\" ry=\"12.5\" style=\"stroke: #A80036; stroke-width: 1.5;\" width=\"50\" x=\"463\" y=\"297.0986\"/><line style=\"stroke: #A80036; stroke-width: 1.5;\" x1=\"463\" x2=\"513\" y1=\"323.3955\" y2=\"323.3955\"/><text fill=\"#000000\" font-family=\"sans-serif\" font-size=\"14\" lengthAdjust=\"spacingAndGlyphs\" textLength=\"18\" x=\"479\" y=\"315.0938\">A2</text></g><g id=\"E1.E6\"><rect fill=\"#FFFFFF\" filter=\"url(#f1wrz0lca71roc)\" height=\"50\" rx=\"12.5\" ry=\"12.5\" style=\"stroke: #A80036; stroke-width: 1.5;\" width=\"50\" x=\"108\" y=\"297.0986\"/><line style=\"stroke: #A80036; stroke-width: 1.5;\" x1=\"108\" x2=\"158\" y1=\"323.3955\" y2=\"323.3955\"/><text fill=\"#000000\" font-family=\"sans-serif\" font-size=\"14\" lengthAdjust=\"spacingAndGlyphs\" textLength=\"18\" x=\"124\" y=\"315.0938\">A3</text></g><text fill=\"#000000\" font-family=\"sans-serif\" font-size=\"14\" lengthAdjust=\"spacingAndGlyphs\" textLength=\"48\" x=\"334\" y=\"432.0938\">$result</text><rect fill=\"#A80036\" height=\"12\" style=\"stroke: #FEFECE; stroke-width: 1.5;\" width=\"12\" x=\"352\" y=\"407.0986\"/><text fill=\"#000000\" font-family=\"sans-serif\" font-size=\"14\" lengthAdjust=\"spacingAndGlyphs\" textLength=\"16\" x=\"350\" y=\"20.7969\">$x</text><rect fill=\"#A80036\" height=\"12\" style=\"stroke: #FEFECE; stroke-width: 1.5;\" width=\"12\" x=\"352\" y=\"36.0986\"/><text fill=\"#000000\" font-family=\"sans-serif\" font-size=\"14\" lengthAdjust=\"spacingAndGlyphs\" textLength=\"16\" x=\"397\" y=\"20.7969\">$y</text><rect fill=\"#A80036\" height=\"12\" style=\"stroke: #FEFECE; stroke-width: 1.5;\" width=\"12\" x=\"399\" y=\"36.0986\"/><text fill=\"#000000\" font-family=\"sans-serif\" font-size=\"14\" lengthAdjust=\"spacingAndGlyphs\" textLength=\"48\" x=\"381\" y=\"432.0938\">$result</text><rect fill=\"#A80036\" height=\"12\" style=\"stroke: #FEFECE; stroke-width: 1.5;\" width=\"12\" x=\"399\" y=\"407.0986\"/><g id=\"E1.E7.E8\"><rect fill=\"#FFFFFF\" filter=\"url(#f1wrz0lca71roc)\" height=\"50\" rx=\"12.5\" ry=\"12.5\" style=\"stroke: #A80036; stroke-width: 1.5;\" width=\"50\" x=\"360\" y=\"187.0986\"/><line style=\"stroke: #A80036; stroke-width: 1.5;\" x1=\"360\" x2=\"410\" y1=\"213.3955\" y2=\"213.3955\"/><text fill=\"#000000\" font-family=\"sans-serif\" font-size=\"14\" lengthAdjust=\"spacingAndGlyphs\" textLength=\"18\" x=\"376\" y=\"205.0938\">A1</text></g><g id=\"E1.E13\"><rect fill=\"#FFFFFF\" filter=\"url(#f1wrz0lca71roc)\" height=\"50\" rx=\"12.5\" ry=\"12.5\" style=\"stroke: #A80036; stroke-width: 1.5;\" width=\"50\" x=\"23\" y=\"297.0986\"/><line style=\"stroke: #A80036; stroke-width: 1.5;\" x1=\"23\" x2=\"73\" y1=\"323.3955\" y2=\"323.3955\"/><text fill=\"#000000\" font-family=\"sans-serif\" font-size=\"14\" lengthAdjust=\"spacingAndGlyphs\" textLength=\"18\" x=\"39\" y=\"315.0938\">A3</text></g><!--MD5=[7fa823448867f45d961c344e849ff405]\n",
       "link E11 to E9--><path d=\"M407.61,48.2686 C412.41,58.0686 422.44,80.1686 426,100.0986 C430.82,127.1186 432.87,321.8886 422,347.0986 C409.46,376.1886 377.45,399.4986 364.05,408.3086 \" fill=\"none\" id=\"E11-E9\" style=\"stroke: #FF0000; stroke-width: 5.0;\"/><!--MD5=[1ccb2481ffa92f8d51a74ee30c51832a]\n",
       "link E8 to E5--><path d=\"M408.12,237.3386 C423.89,253.8686 444.82,275.8186 461.3,293.1086 \" fill=\"none\" id=\"E8-&gt;E5\" style=\"stroke: #A80036; stroke-width: 1.0;\"/><polygon fill=\"#A80036\" points=\"464.96,296.9386,461.667,287.6566,461.5185,293.3115,455.8636,293.163,464.96,296.9386\" style=\"stroke: #A80036; stroke-width: 1.0;\"/><!--MD5=[8c041006806c771ee4d0e7ee1f49a2df]\n",
       "@startuml\r\n",
       "skinparam wrapWidth 300\r\n",
       "hide circle\r\n",
       "\r\n",
       "rec def \"DecisionTest\" as E1 {\r\n",
       "portout \"$result\" as E2  \r\n",
       "rec usage \"test x\" as E3 {\r\n",
       "}\r\n",
       "\r\n",
       "rec usage \"A1\" as E4 {\r\n",
       "}\r\n",
       "\r\n",
       "rec usage \"A2\" as E5 {\r\n",
       "}\r\n",
       "\r\n",
       "rec usage \"A3\" as E6 {\r\n",
       "}\r\n",
       "\r\n",
       "rec usage \"S\" as E7 {\r\n",
       "rec usage \"A1\" as E8 {\r\n",
       "}\r\n",
       "\r\n",
       "portout \"$result\" as E9  \r\n",
       "portin \"$x\" as E10  \r\n",
       "portin \"$y\" as E11  \r\n",
       "portout \"$result\" as E12  \r\n",
       "}\r\n",
       "\r\n",
       "rec usage \"A3\" as E13 {\r\n",
       "}\r\n",
       "\r\n",
       "}\r\n",
       "\r\n",
       "E11 -[thickness=5,#red]- E9\r\n",
       "E8 - -> E5\r\n",
       "@enduml\r\n",
       "\n",
       "PlantUML version 1.2020.13(Sat Jun 13 12:26:38 UTC 2020)\n",
       "(EPL source distribution)\n",
       "Java Runtime: OpenJDK Runtime Environment\n",
       "JVM: OpenJDK 64-Bit Server VM\n",
       "Default Encoding: UTF-8\n",
       "Language: en\n",
       "Country: null\n",
       "--></g></svg>"
      ]
     },
     "execution_count": 29,
     "metadata": {},
     "output_type": "execute_result"
    }
   ],
   "source": [
    "%viz --style=\"STDCOLOR\" --view=\"MIXED\" \"DecisionTest\""
   ]
  },
  {
   "cell_type": "code",
   "execution_count": 30,
   "id": "indonesian-adaptation",
   "metadata": {
    "execution": {
     "iopub.execute_input": "2021-03-25T16:06:08.931520Z",
     "iopub.status.busy": "2021-03-25T16:06:08.930944Z",
     "iopub.status.idle": "2021-03-25T16:06:08.992693Z",
     "shell.execute_reply": "2021-03-25T16:06:08.991212Z"
    }
   },
   "outputs": [
    {
     "data": {
      "image/svg+xml": [
       "<?xml version=\"1.0\" encoding=\"UTF-8\" standalone=\"no\"?><svg xmlns=\"http://www.w3.org/2000/svg\" xmlns:xlink=\"http://www.w3.org/1999/xlink\" contentScriptType=\"application/ecmascript\" contentStyleType=\"text/css\" height=\"517px\" preserveAspectRatio=\"none\" style=\"width:546px;height:517px;\" version=\"1.1\" viewBox=\"0 0 546 517\" width=\"546px\" zoomAndPan=\"magnify\"><defs><filter height=\"300%\" id=\"f1jev1rrgh32s9\" width=\"300%\" x=\"-1\" y=\"-1\"><feGaussianBlur result=\"blurOut\" stdDeviation=\"2.0\"/><feColorMatrix in=\"blurOut\" result=\"blurOut2\" type=\"matrix\" values=\"0 0 0 0 0 0 0 0 0 0 0 0 0 0 0 0 0 0 .4 0\"/><feOffset dx=\"4.0\" dy=\"4.0\" in=\"blurOut2\" result=\"blurOut3\"/><feBlend in=\"SourceGraphic\" in2=\"blurOut3\" mode=\"normal\"/></filter></defs><g><!--MD5=[fbc87193dbaf4d95561dea2c320d4a47]\n",
       "cluster E1--><rect fill=\"#FFFFFF\" filter=\"url(#f1jev1rrgh32s9)\" height=\"473\" style=\"stroke: #000000; stroke-width: 1.5;\" width=\"522\" x=\"7\" y=\"12.0986\"/><text fill=\"#000000\" font-family=\"sans-serif\" font-size=\"14\" font-weight=\"bold\" lengthAdjust=\"spacingAndGlyphs\" textLength=\"102\" x=\"217\" y=\"27.0938\">DecisionTest</text><!--MD5=[168fadf3d0c3fd93dd5d6da1b1d7ab76]\n",
       "cluster E7--><rect fill=\"#FEFECE\" filter=\"url(#f1jev1rrgh32s9)\" height=\"371\" rx=\"12.5\" ry=\"12.5\" style=\"stroke: #000000; stroke-width: 1.5;\" width=\"115\" x=\"340\" y=\"42.0986\"/><rect fill=\"#FFFFFF\" height=\"338.7031\" rx=\"12.5\" ry=\"12.5\" style=\"stroke: #FFFFFF; stroke-width: 1.0;\" width=\"109\" x=\"343\" y=\"71.3955\"/><line style=\"stroke: #000000; stroke-width: 1.5;\" x1=\"340\" x2=\"455\" y1=\"68.3955\" y2=\"68.3955\"/><text fill=\"#000000\" font-family=\"sans-serif\" font-size=\"14\" lengthAdjust=\"spacingAndGlyphs\" textLength=\"9\" x=\"393\" y=\"60.0938\">S</text><text fill=\"#000000\" font-family=\"sans-serif\" font-size=\"14\" lengthAdjust=\"spacingAndGlyphs\" textLength=\"48\" x=\"146\" y=\"504.0938\">$result</text><rect fill=\"#A80036\" height=\"12\" style=\"stroke: #FEFECE; stroke-width: 1.5;\" width=\"12\" x=\"164\" y=\"479.0986\"/><g id=\"E1.E3\"><rect fill=\"#FFFFFF\" filter=\"url(#f1jev1rrgh32s9)\" height=\"50\" rx=\"12.5\" ry=\"12.5\" style=\"stroke: #A80036; stroke-width: 1.5;\" width=\"58\" x=\"278\" y=\"297.0986\"/><line style=\"stroke: #A80036; stroke-width: 1.5;\" x1=\"278\" x2=\"336\" y1=\"323.3955\" y2=\"323.3955\"/><text fill=\"#000000\" font-family=\"sans-serif\" font-size=\"14\" lengthAdjust=\"spacingAndGlyphs\" textLength=\"38\" x=\"288\" y=\"315.0938\">test x</text></g><g id=\"E1.E4\"><rect fill=\"#FFFFFF\" filter=\"url(#f1jev1rrgh32s9)\" height=\"50\" rx=\"12.5\" ry=\"12.5\" style=\"stroke: #A80036; stroke-width: 1.5;\" width=\"50\" x=\"193\" y=\"297.0986\"/><line style=\"stroke: #A80036; stroke-width: 1.5;\" x1=\"193\" x2=\"243\" y1=\"323.3955\" y2=\"323.3955\"/><text fill=\"#000000\" font-family=\"sans-serif\" font-size=\"14\" lengthAdjust=\"spacingAndGlyphs\" textLength=\"18\" x=\"209\" y=\"315.0938\">A1</text></g><g id=\"E1.E5\"><rect fill=\"#FFFFFF\" filter=\"url(#f1jev1rrgh32s9)\" height=\"50\" rx=\"12.5\" ry=\"12.5\" style=\"stroke: #A80036; stroke-width: 1.5;\" width=\"50\" x=\"463\" y=\"297.0986\"/><line style=\"stroke: #A80036; stroke-width: 1.5;\" x1=\"463\" x2=\"513\" y1=\"323.3955\" y2=\"323.3955\"/><text fill=\"#000000\" font-family=\"sans-serif\" font-size=\"14\" lengthAdjust=\"spacingAndGlyphs\" textLength=\"18\" x=\"479\" y=\"315.0938\">A2</text></g><g id=\"E1.E6\"><rect fill=\"#FFFFFF\" filter=\"url(#f1jev1rrgh32s9)\" height=\"50\" rx=\"12.5\" ry=\"12.5\" style=\"stroke: #A80036; stroke-width: 1.5;\" width=\"50\" x=\"108\" y=\"297.0986\"/><line style=\"stroke: #A80036; stroke-width: 1.5;\" x1=\"108\" x2=\"158\" y1=\"323.3955\" y2=\"323.3955\"/><text fill=\"#000000\" font-family=\"sans-serif\" font-size=\"14\" lengthAdjust=\"spacingAndGlyphs\" textLength=\"18\" x=\"124\" y=\"315.0938\">A3</text></g><text fill=\"#000000\" font-family=\"sans-serif\" font-size=\"14\" lengthAdjust=\"spacingAndGlyphs\" textLength=\"48\" x=\"334\" y=\"432.0938\">$result</text><rect fill=\"#A80036\" height=\"12\" style=\"stroke: #FEFECE; stroke-width: 1.5;\" width=\"12\" x=\"352\" y=\"407.0986\"/><text fill=\"#000000\" font-family=\"sans-serif\" font-size=\"14\" lengthAdjust=\"spacingAndGlyphs\" textLength=\"16\" x=\"350\" y=\"20.7969\">$x</text><rect fill=\"#A80036\" height=\"12\" style=\"stroke: #FEFECE; stroke-width: 1.5;\" width=\"12\" x=\"352\" y=\"36.0986\"/><text fill=\"#000000\" font-family=\"sans-serif\" font-size=\"14\" lengthAdjust=\"spacingAndGlyphs\" textLength=\"16\" x=\"397\" y=\"20.7969\">$y</text><rect fill=\"#A80036\" height=\"12\" style=\"stroke: #FEFECE; stroke-width: 1.5;\" width=\"12\" x=\"399\" y=\"36.0986\"/><text fill=\"#000000\" font-family=\"sans-serif\" font-size=\"14\" lengthAdjust=\"spacingAndGlyphs\" textLength=\"48\" x=\"381\" y=\"432.0938\">$result</text><rect fill=\"#A80036\" height=\"12\" style=\"stroke: #FEFECE; stroke-width: 1.5;\" width=\"12\" x=\"399\" y=\"407.0986\"/><g id=\"E1.E7.E8\"><rect fill=\"#FFFFFF\" filter=\"url(#f1jev1rrgh32s9)\" height=\"50\" rx=\"12.5\" ry=\"12.5\" style=\"stroke: #A80036; stroke-width: 1.5;\" width=\"50\" x=\"360\" y=\"187.0986\"/><line style=\"stroke: #A80036; stroke-width: 1.5;\" x1=\"360\" x2=\"410\" y1=\"213.3955\" y2=\"213.3955\"/><text fill=\"#000000\" font-family=\"sans-serif\" font-size=\"14\" lengthAdjust=\"spacingAndGlyphs\" textLength=\"18\" x=\"376\" y=\"205.0938\">A1</text></g><g id=\"E1.E13\"><rect fill=\"#FFFFFF\" filter=\"url(#f1jev1rrgh32s9)\" height=\"50\" rx=\"12.5\" ry=\"12.5\" style=\"stroke: #A80036; stroke-width: 1.5;\" width=\"50\" x=\"23\" y=\"297.0986\"/><line style=\"stroke: #A80036; stroke-width: 1.5;\" x1=\"23\" x2=\"73\" y1=\"323.3955\" y2=\"323.3955\"/><text fill=\"#000000\" font-family=\"sans-serif\" font-size=\"14\" lengthAdjust=\"spacingAndGlyphs\" textLength=\"18\" x=\"39\" y=\"315.0938\">A3</text></g><!--MD5=[7fa823448867f45d961c344e849ff405]\n",
       "link E11 to E9--><path d=\"M407.61,48.2686 C412.41,58.0686 422.44,80.1686 426,100.0986 C430.82,127.1186 432.87,321.8886 422,347.0986 C409.46,376.1886 377.45,399.4986 364.05,408.3086 \" fill=\"none\" id=\"E11-E9\" style=\"stroke: #FF0000; stroke-width: 5.0;\"/><!--MD5=[1ccb2481ffa92f8d51a74ee30c51832a]\n",
       "link E8 to E5--><path d=\"M408.12,237.3386 C423.89,253.8686 444.82,275.8186 461.3,293.1086 \" fill=\"none\" id=\"E8-&gt;E5\" style=\"stroke: #A80036; stroke-width: 1.0;\"/><polygon fill=\"#A80036\" points=\"464.96,296.9386,461.667,287.6566,461.5185,293.3115,455.8636,293.163,464.96,296.9386\" style=\"stroke: #A80036; stroke-width: 1.0;\"/><!--MD5=[fd7d92391c39822c75d594627315dfb5]\n",
       "@startuml\r\n",
       " \r\n",
       "rec def \"DecisionTest\" as E1 {\r\n",
       "portout \"$result\" as E2  \r\n",
       "rec usage \"test x\" as E3 {\r\n",
       "}\r\n",
       "\r\n",
       "rec usage \"A1\" as E4 {\r\n",
       "}\r\n",
       "\r\n",
       "rec usage \"A2\" as E5 {\r\n",
       "}\r\n",
       "\r\n",
       "rec usage \"A3\" as E6 {\r\n",
       "}\r\n",
       "\r\n",
       "rec usage \"S\" as E7 {\r\n",
       "rec usage \"A1\" as E8 {\r\n",
       "}\r\n",
       "\r\n",
       "portout \"$result\" as E9  \r\n",
       "portin \"$x\" as E10  \r\n",
       "portin \"$y\" as E11  \r\n",
       "portout \"$result\" as E12  \r\n",
       "}\r\n",
       "\r\n",
       "rec usage \"A3\" as E13 {\r\n",
       "}\r\n",
       "\r\n",
       "}\r\n",
       "\r\n",
       "E11 -[thickness=5,#red]- E9\r\n",
       "E8 - -> E5\r\n",
       "@enduml\r\n",
       "\n",
       "PlantUML version 1.2020.13(Sat Jun 13 12:26:38 UTC 2020)\n",
       "(EPL source distribution)\n",
       "Java Runtime: OpenJDK Runtime Environment\n",
       "JVM: OpenJDK 64-Bit Server VM\n",
       "Default Encoding: UTF-8\n",
       "Language: en\n",
       "Country: null\n",
       "--></g></svg>"
      ]
     },
     "execution_count": 30,
     "metadata": {},
     "output_type": "execute_result"
    }
   ],
   "source": [
    "%viz --style=\"PLANTUML\" --view=\"Default\" \"DecisionTest\""
   ]
  },
  {
   "cell_type": "code",
   "execution_count": 31,
   "id": "ordered-outline",
   "metadata": {
    "execution": {
     "iopub.execute_input": "2021-03-25T16:06:09.043785Z",
     "iopub.status.busy": "2021-03-25T16:06:09.043107Z",
     "iopub.status.idle": "2021-03-25T16:06:10.280939Z",
     "shell.execute_reply": "2021-03-25T16:06:10.281344Z"
    }
   },
   "outputs": [
    {
     "data": {
      "image/svg+xml": [
       "<?xml version=\"1.0\" encoding=\"UTF-8\" standalone=\"no\"?><svg xmlns=\"http://www.w3.org/2000/svg\" xmlns:xlink=\"http://www.w3.org/1999/xlink\" contentScriptType=\"application/ecmascript\" contentStyleType=\"text/css\" height=\"199px\" preserveAspectRatio=\"none\" style=\"width:160px;height:199px;\" version=\"1.1\" viewBox=\"0 0 160 199\" width=\"160px\" zoomAndPan=\"magnify\"><defs><filter height=\"300%\" id=\"fjne0znywn3cr\" width=\"300%\" x=\"-1\" y=\"-1\"><feGaussianBlur result=\"blurOut\" stdDeviation=\"2.0\"/><feColorMatrix in=\"blurOut\" result=\"blurOut2\" type=\"matrix\" values=\"0 0 0 0 0 0 0 0 0 0 0 0 0 0 0 0 0 0 .4 0\"/><feOffset dx=\"4.0\" dy=\"4.0\" in=\"blurOut2\" result=\"blurOut3\"/><feBlend in=\"SourceGraphic\" in2=\"blurOut3\" mode=\"normal\"/></filter></defs><g><!--MD5=[43c9051892ef23e1a46a86907403d788]\n",
       "class E1--><rect fill=\"#FEFECE\" filter=\"url(#fjne0znywn3cr)\" height=\"173.1797\" id=\"E1\" style=\"stroke: #A80036; stroke-width: 1.5;\" width=\"134\" x=\"7\" y=\"7\"/><ellipse cx=\"31.9\" cy=\"25.9688\" fill=\"#A52A2A\" rx=\"11\" ry=\"11\" style=\"stroke: #A80036; stroke-width: 1.0;\"/><path d=\"M31.4938,21.7813 L31.4938,29.7656 L32.15,29.7656 Q33.5875,29.7656 34.1969,28.8594 Q34.8219,27.9375 34.8219,25.7656 Q34.8219,23.5938 34.1969,22.6875 Q33.5875,21.7813 32.15,21.7813 L31.4938,21.7813 Z M29.0406,19.5781 L31.6656,19.5781 Q34.6969,19.5781 36.025,21.0313 Q37.3688,22.4688 37.3688,25.7656 Q37.3688,29.0625 36.025,30.5156 Q34.6969,31.9688 31.6656,31.9688 L29.0406,31.9688 L29.0406,19.5781 Z \"/><text fill=\"#000000\" font-family=\"sans-serif\" font-size=\"12\" font-style=\"italic\" lengthAdjust=\"spacingAndGlyphs\" textLength=\"77\" x=\"49.6\" y=\"23.1387\">«action def»</text><text fill=\"#000000\" font-family=\"sans-serif\" font-size=\"12\" lengthAdjust=\"spacingAndGlyphs\" textLength=\"80\" x=\"48.1\" y=\"37.1074\">DecisionTest</text><line style=\"stroke: #A80036; stroke-width: 1.5;\" x1=\"8\" x2=\"140\" y1=\"44.9375\" y2=\"44.9375\"/><text fill=\"#000000\" font-family=\"sans-serif\" font-size=\"11\" lengthAdjust=\"spacingAndGlyphs\" textLength=\"95\" x=\"13\" y=\"59.1479\">x: DataValue= 1;</text><text fill=\"#000000\" font-family=\"sans-serif\" font-size=\"11\" lengthAdjust=\"spacingAndGlyphs\" textLength=\"56\" x=\"13\" y=\"88.7573\">A1: Action</text><text fill=\"#000000\" font-family=\"sans-serif\" font-size=\"11\" lengthAdjust=\"spacingAndGlyphs\" textLength=\"56\" x=\"13\" y=\"101.562\">A2: Action</text><text fill=\"#000000\" font-family=\"sans-serif\" font-size=\"11\" lengthAdjust=\"spacingAndGlyphs\" textLength=\"56\" x=\"13\" y=\"114.3667\">A3: Action</text><line style=\"stroke: #A80036; stroke-width: 1.0;\" x1=\"8\" x2=\"53.5\" y1=\"72.1445\" y2=\"72.1445\"/><text fill=\"#000000\" font-family=\"sans-serif\" font-size=\"11\" lengthAdjust=\"spacingAndGlyphs\" textLength=\"41\" x=\"53.5\" y=\"75.4526\">actions</text><line style=\"stroke: #A80036; stroke-width: 1.0;\" x1=\"94.5\" x2=\"140\" y1=\"72.1445\" y2=\"72.1445\"/><text fill=\"#000000\" font-family=\"sans-serif\" font-size=\"11\" lengthAdjust=\"spacingAndGlyphs\" textLength=\"122\" x=\"13\" y=\"143.9761\">test x: DecisionAction</text><line style=\"stroke: #A80036; stroke-width: 1.0;\" x1=\"8\" x2=\"32.5\" y1=\"127.3633\" y2=\"127.3633\"/><text fill=\"#000000\" font-family=\"sans-serif\" font-size=\"11\" lengthAdjust=\"spacingAndGlyphs\" textLength=\"83\" x=\"32.5\" y=\"130.6714\">decisionNodes</text><line style=\"stroke: #A80036; stroke-width: 1.0;\" x1=\"115.5\" x2=\"140\" y1=\"127.3633\" y2=\"127.3633\"/><text fill=\"#000000\" font-family=\"sans-serif\" font-size=\"11\" lengthAdjust=\"spacingAndGlyphs\" textLength=\"73\" x=\"13\" y=\"173.5854\">S: Transition</text><line style=\"stroke: #A80036; stroke-width: 1.0;\" x1=\"8\" x2=\"43.5\" y1=\"156.9727\" y2=\"156.9727\"/><text fill=\"#000000\" font-family=\"sans-serif\" font-size=\"11\" lengthAdjust=\"spacingAndGlyphs\" textLength=\"61\" x=\"43.5\" y=\"160.2808\">transitions</text><line style=\"stroke: #A80036; stroke-width: 1.0;\" x1=\"104.5\" x2=\"140\" y1=\"156.9727\" y2=\"156.9727\"/><!--MD5=[1f53a4918b7e08c8b3b6a040e7776f28]\n",
       "@startuml\r\n",
       " \r\n",
       "comp def \"DecisionTest\" as E1  <<(D,brown)action def>> {\r\n",
       "x: DataValue= 1; \r\n",
       "- -actions- -\r\n",
       "A1: Action\r\n",
       "A2: Action\r\n",
       "A3: Action\r\n",
       "- -decisionNodes- -\r\n",
       "test x: DecisionAction\r\n",
       "- -transitions- -\r\n",
       "S: Transition\r\n",
       "}\r\n",
       "@enduml\r\n",
       "\n",
       "PlantUML version 1.2020.13(Sat Jun 13 12:26:38 UTC 2020)\n",
       "(EPL source distribution)\n",
       "Java Runtime: OpenJDK Runtime Environment\n",
       "JVM: OpenJDK 64-Bit Server VM\n",
       "Default Encoding: UTF-8\n",
       "Language: en\n",
       "Country: null\n",
       "--></g></svg>"
      ]
     },
     "execution_count": 31,
     "metadata": {},
     "output_type": "execute_result"
    }
   ],
   "source": [
    "%viz --style=\"PLANTUML\" --view=\"Tree\" \"DecisionTest\""
   ]
  },
  {
   "cell_type": "code",
   "execution_count": 32,
   "id": "fresh-nothing",
   "metadata": {
    "execution": {
     "iopub.execute_input": "2021-03-25T16:06:10.333824Z",
     "iopub.status.busy": "2021-03-25T16:06:10.333199Z",
     "iopub.status.idle": "2021-03-25T16:06:10.336463Z",
     "shell.execute_reply": "2021-03-25T16:06:10.336887Z"
    }
   },
   "outputs": [
    {
     "data": {
      "text/plain": [
       "java.lang.IllegalArgumentException: Invalid View: State View candidates are: Default Tree StateMachine Interconnection Activity Sequence MIXED \n",
       "\tat org.omg.sysml.plantuml.SysML2PlantUMLSvc.setView(SysML2PlantUMLSvc.java:63)\n",
       "\tat org.omg.sysml.interactive.SysMLInteractive.viz(SysMLInteractive.java:286)\n",
       "\tat org.omg.sysml.jupyter.kernel.magic.Viz.viz(Viz.java:47)\n",
       "\tat jdk.internal.reflect.GeneratedMethodAccessor15.invoke(Unknown Source)\n",
       "\tat java.base/jdk.internal.reflect.DelegatingMethodAccessorImpl.invoke(DelegatingMethodAccessorImpl.java:43)\n",
       "\tat java.base/java.lang.reflect.Method.invoke(Method.java:568)\n",
       "\tat io.github.spencerpark.jupyter.kernel.magic.registry.Magics.invoke(Magics.java:89)\n",
       "\tat io.github.spencerpark.jupyter.kernel.magic.registry.Magics.access$000(Magics.java:8)\n",
       "\tat io.github.spencerpark.jupyter.kernel.magic.registry.Magics$LineReflectionMagicFunction.execute(Magics.java:149)\n",
       "\tat io.github.spencerpark.jupyter.kernel.magic.registry.Magics.applyLineMagic(Magics.java:26)\n",
       "\tat org.omg.sysml.jupyter.kernel.SysMLKernel.eval(SysMLKernel.java:76)\n",
       "\tat io.github.spencerpark.jupyter.kernel.BaseKernel.handleExecuteRequest(BaseKernel.java:334)\n",
       "\tat io.github.spencerpark.jupyter.channels.ShellChannel.lambda$bind$0(ShellChannel.java:64)\n",
       "\tat io.github.spencerpark.jupyter.channels.Loop.lambda$new$0(Loop.java:21)\n",
       "\tat io.github.spencerpark.jupyter.channels.Loop.run(Loop.java:78)\n"
      ]
     },
     "execution_count": 32,
     "metadata": {},
     "output_type": "execute_result"
    }
   ],
   "source": [
    "%viz --style=\"PLANTUML\" --view=\"State\" \"DecisionTest\""
   ]
  },
  {
   "cell_type": "code",
   "execution_count": 33,
   "id": "opened-paper",
   "metadata": {
    "execution": {
     "iopub.execute_input": "2021-03-25T16:06:10.387769Z",
     "iopub.status.busy": "2021-03-25T16:06:10.387296Z",
     "iopub.status.idle": "2021-03-25T16:06:10.411910Z",
     "shell.execute_reply": "2021-03-25T16:06:10.412454Z"
    }
   },
   "outputs": [
    {
     "data": {
      "image/svg+xml": [
       "<?xml version=\"1.0\" encoding=\"UTF-8\" standalone=\"no\"?><svg xmlns=\"http://www.w3.org/2000/svg\" xmlns:xlink=\"http://www.w3.org/1999/xlink\" contentScriptType=\"application/ecmascript\" contentStyleType=\"text/css\" height=\"79px\" preserveAspectRatio=\"none\" style=\"width:138px;height:79px;\" version=\"1.1\" viewBox=\"0 0 138 79\" width=\"138px\" zoomAndPan=\"magnify\"><defs><filter height=\"300%\" id=\"f10d004kjy44x2\" width=\"300%\" x=\"-1\" y=\"-1\"><feGaussianBlur result=\"blurOut\" stdDeviation=\"2.0\"/><feColorMatrix in=\"blurOut\" result=\"blurOut2\" type=\"matrix\" values=\"0 0 0 0 0 0 0 0 0 0 0 0 0 0 0 0 0 0 .4 0\"/><feOffset dx=\"4.0\" dy=\"4.0\" in=\"blurOut2\" result=\"blurOut3\"/><feBlend in=\"SourceGraphic\" in2=\"blurOut3\" mode=\"normal\"/></filter></defs><g><!--MD5=[43c9051892ef23e1a46a86907403d788]\n",
       "class E1--><rect fill=\"#FEFECE\" filter=\"url(#f10d004kjy44x2)\" height=\"53.9375\" id=\"E1\" style=\"stroke: #A80036; stroke-width: 1.5;\" width=\"112\" x=\"7\" y=\"7\"/><ellipse cx=\"22\" cy=\"25.9688\" fill=\"#ADD1B2\" rx=\"11\" ry=\"11\" style=\"stroke: #A80036; stroke-width: 1.0;\"/><path d=\"M24.9688,31.6094 Q24.3906,31.9063 23.75,32.0469 Q23.1094,32.2031 22.4063,32.2031 Q19.9063,32.2031 18.5781,30.5625 Q17.2656,28.9063 17.2656,25.7813 Q17.2656,22.6563 18.5781,21 Q19.9063,19.3438 22.4063,19.3438 Q23.1094,19.3438 23.75,19.5 Q24.4063,19.6563 24.9688,19.9531 L24.9688,22.6719 Q24.3438,22.0938 23.75,21.8281 Q23.1563,21.5469 22.5313,21.5469 Q21.1875,21.5469 20.5,22.625 Q19.8125,23.6875 19.8125,25.7813 Q19.8125,27.875 20.5,28.9531 Q21.1875,30.0156 22.5313,30.0156 Q23.1563,30.0156 23.75,29.75 Q24.3438,29.4688 24.9688,28.8906 L24.9688,31.6094 Z \"/><text fill=\"#000000\" font-family=\"sans-serif\" font-size=\"12\" font-style=\"italic\" lengthAdjust=\"spacingAndGlyphs\" textLength=\"77\" x=\"37.5\" y=\"23.1387\">«action def»</text><text fill=\"#000000\" font-family=\"sans-serif\" font-size=\"12\" lengthAdjust=\"spacingAndGlyphs\" textLength=\"80\" x=\"36\" y=\"37.1074\">DecisionTest</text><line style=\"stroke: #A80036; stroke-width: 1.5;\" x1=\"8\" x2=\"118\" y1=\"44.9375\" y2=\"44.9375\"/><line style=\"stroke: #A80036; stroke-width: 1.5;\" x1=\"8\" x2=\"118\" y1=\"52.9375\" y2=\"52.9375\"/><!--MD5=[fc798816845aece180c06f664f2d0177]\n",
       "@startuml\r\n",
       "skinparam ranksep 8\r\n",
       "skinparam rectangle {\r\n",
       " backgroundColor<<block>> LightGreen\r\n",
       "}\r\n",
       " \r\n",
       "def \"DecisionTest\" as E1  <<action def>> \r\n",
       "@enduml\r\n",
       "\n",
       "PlantUML version 1.2020.13(Sat Jun 13 12:26:38 UTC 2020)\n",
       "(EPL source distribution)\n",
       "Java Runtime: OpenJDK Runtime Environment\n",
       "JVM: OpenJDK 64-Bit Server VM\n",
       "Default Encoding: UTF-8\n",
       "Language: en\n",
       "Country: null\n",
       "--></g></svg>"
      ]
     },
     "execution_count": 33,
     "metadata": {},
     "output_type": "execute_result"
    }
   ],
   "source": [
    "%viz --style=\"PLANTUML\" --view=\"Interconnection\" \"DecisionTest\""
   ]
  },
  {
   "cell_type": "code",
   "execution_count": 34,
   "id": "fixed-pearl",
   "metadata": {
    "execution": {
     "iopub.execute_input": "2021-03-25T16:06:10.463701Z",
     "iopub.status.busy": "2021-03-25T16:06:10.463127Z",
     "iopub.status.idle": "2021-03-25T16:06:10.466992Z",
     "shell.execute_reply": "2021-03-25T16:06:10.466670Z"
    }
   },
   "outputs": [
    {
     "data": {
      "text/plain": [
       "java.lang.IllegalArgumentException: Invalid View: Action View candidates are: Default Tree StateMachine Interconnection Activity Sequence MIXED \n",
       "\tat org.omg.sysml.plantuml.SysML2PlantUMLSvc.setView(SysML2PlantUMLSvc.java:63)\n",
       "\tat org.omg.sysml.interactive.SysMLInteractive.viz(SysMLInteractive.java:286)\n",
       "\tat org.omg.sysml.jupyter.kernel.magic.Viz.viz(Viz.java:47)\n",
       "\tat jdk.internal.reflect.GeneratedMethodAccessor15.invoke(Unknown Source)\n",
       "\tat java.base/jdk.internal.reflect.DelegatingMethodAccessorImpl.invoke(DelegatingMethodAccessorImpl.java:43)\n",
       "\tat java.base/java.lang.reflect.Method.invoke(Method.java:568)\n",
       "\tat io.github.spencerpark.jupyter.kernel.magic.registry.Magics.invoke(Magics.java:89)\n",
       "\tat io.github.spencerpark.jupyter.kernel.magic.registry.Magics.access$000(Magics.java:8)\n",
       "\tat io.github.spencerpark.jupyter.kernel.magic.registry.Magics$LineReflectionMagicFunction.execute(Magics.java:149)\n",
       "\tat io.github.spencerpark.jupyter.kernel.magic.registry.Magics.applyLineMagic(Magics.java:26)\n",
       "\tat org.omg.sysml.jupyter.kernel.SysMLKernel.eval(SysMLKernel.java:76)\n",
       "\tat io.github.spencerpark.jupyter.kernel.BaseKernel.handleExecuteRequest(BaseKernel.java:334)\n",
       "\tat io.github.spencerpark.jupyter.channels.ShellChannel.lambda$bind$0(ShellChannel.java:64)\n",
       "\tat io.github.spencerpark.jupyter.channels.Loop.lambda$new$0(Loop.java:21)\n",
       "\tat io.github.spencerpark.jupyter.channels.Loop.run(Loop.java:78)\n"
      ]
     },
     "execution_count": 34,
     "metadata": {},
     "output_type": "execute_result"
    }
   ],
   "source": [
    "%viz --style=\"PLANTUML\" --view=\"Action\" \"DecisionTest\""
   ]
  },
  {
   "cell_type": "code",
   "execution_count": 35,
   "id": "smaller-frame",
   "metadata": {
    "execution": {
     "iopub.execute_input": "2021-03-25T16:06:10.518626Z",
     "iopub.status.busy": "2021-03-25T16:06:10.518073Z",
     "iopub.status.idle": "2021-03-25T16:06:11.736351Z",
     "shell.execute_reply": "2021-03-25T16:06:11.736737Z"
    }
   },
   "outputs": [
    {
     "data": {
      "image/svg+xml": [
       "<?xml version=\"1.0\" encoding=\"UTF-8\" standalone=\"no\"?><svg xmlns=\"http://www.w3.org/2000/svg\" xmlns:xlink=\"http://www.w3.org/1999/xlink\" contentScriptType=\"application/ecmascript\" contentStyleType=\"text/css\" height=\"199px\" preserveAspectRatio=\"none\" style=\"width:160px;height:199px;\" version=\"1.1\" viewBox=\"0 0 160 199\" width=\"160px\" zoomAndPan=\"magnify\"><defs><filter height=\"300%\" id=\"fjne0znywn3cr\" width=\"300%\" x=\"-1\" y=\"-1\"><feGaussianBlur result=\"blurOut\" stdDeviation=\"2.0\"/><feColorMatrix in=\"blurOut\" result=\"blurOut2\" type=\"matrix\" values=\"0 0 0 0 0 0 0 0 0 0 0 0 0 0 0 0 0 0 .4 0\"/><feOffset dx=\"4.0\" dy=\"4.0\" in=\"blurOut2\" result=\"blurOut3\"/><feBlend in=\"SourceGraphic\" in2=\"blurOut3\" mode=\"normal\"/></filter></defs><g><!--MD5=[43c9051892ef23e1a46a86907403d788]\n",
       "class E1--><rect fill=\"#FEFECE\" filter=\"url(#fjne0znywn3cr)\" height=\"173.1797\" id=\"E1\" style=\"stroke: #A80036; stroke-width: 1.5;\" width=\"134\" x=\"7\" y=\"7\"/><ellipse cx=\"31.9\" cy=\"25.9688\" fill=\"#A52A2A\" rx=\"11\" ry=\"11\" style=\"stroke: #A80036; stroke-width: 1.0;\"/><path d=\"M31.4938,21.7813 L31.4938,29.7656 L32.15,29.7656 Q33.5875,29.7656 34.1969,28.8594 Q34.8219,27.9375 34.8219,25.7656 Q34.8219,23.5938 34.1969,22.6875 Q33.5875,21.7813 32.15,21.7813 L31.4938,21.7813 Z M29.0406,19.5781 L31.6656,19.5781 Q34.6969,19.5781 36.025,21.0313 Q37.3688,22.4688 37.3688,25.7656 Q37.3688,29.0625 36.025,30.5156 Q34.6969,31.9688 31.6656,31.9688 L29.0406,31.9688 L29.0406,19.5781 Z \"/><text fill=\"#000000\" font-family=\"sans-serif\" font-size=\"12\" font-style=\"italic\" lengthAdjust=\"spacingAndGlyphs\" textLength=\"77\" x=\"49.6\" y=\"23.1387\">«action def»</text><text fill=\"#000000\" font-family=\"sans-serif\" font-size=\"12\" lengthAdjust=\"spacingAndGlyphs\" textLength=\"80\" x=\"48.1\" y=\"37.1074\">DecisionTest</text><line style=\"stroke: #A80036; stroke-width: 1.5;\" x1=\"8\" x2=\"140\" y1=\"44.9375\" y2=\"44.9375\"/><text fill=\"#000000\" font-family=\"sans-serif\" font-size=\"11\" lengthAdjust=\"spacingAndGlyphs\" textLength=\"95\" x=\"13\" y=\"59.1479\">x: DataValue= 1;</text><text fill=\"#000000\" font-family=\"sans-serif\" font-size=\"11\" lengthAdjust=\"spacingAndGlyphs\" textLength=\"56\" x=\"13\" y=\"88.7573\">A1: Action</text><text fill=\"#000000\" font-family=\"sans-serif\" font-size=\"11\" lengthAdjust=\"spacingAndGlyphs\" textLength=\"56\" x=\"13\" y=\"101.562\">A2: Action</text><text fill=\"#000000\" font-family=\"sans-serif\" font-size=\"11\" lengthAdjust=\"spacingAndGlyphs\" textLength=\"56\" x=\"13\" y=\"114.3667\">A3: Action</text><line style=\"stroke: #A80036; stroke-width: 1.0;\" x1=\"8\" x2=\"53.5\" y1=\"72.1445\" y2=\"72.1445\"/><text fill=\"#000000\" font-family=\"sans-serif\" font-size=\"11\" lengthAdjust=\"spacingAndGlyphs\" textLength=\"41\" x=\"53.5\" y=\"75.4526\">actions</text><line style=\"stroke: #A80036; stroke-width: 1.0;\" x1=\"94.5\" x2=\"140\" y1=\"72.1445\" y2=\"72.1445\"/><text fill=\"#000000\" font-family=\"sans-serif\" font-size=\"11\" lengthAdjust=\"spacingAndGlyphs\" textLength=\"122\" x=\"13\" y=\"143.9761\">test x: DecisionAction</text><line style=\"stroke: #A80036; stroke-width: 1.0;\" x1=\"8\" x2=\"32.5\" y1=\"127.3633\" y2=\"127.3633\"/><text fill=\"#000000\" font-family=\"sans-serif\" font-size=\"11\" lengthAdjust=\"spacingAndGlyphs\" textLength=\"83\" x=\"32.5\" y=\"130.6714\">decisionNodes</text><line style=\"stroke: #A80036; stroke-width: 1.0;\" x1=\"115.5\" x2=\"140\" y1=\"127.3633\" y2=\"127.3633\"/><text fill=\"#000000\" font-family=\"sans-serif\" font-size=\"11\" lengthAdjust=\"spacingAndGlyphs\" textLength=\"73\" x=\"13\" y=\"173.5854\">S: Transition</text><line style=\"stroke: #A80036; stroke-width: 1.0;\" x1=\"8\" x2=\"43.5\" y1=\"156.9727\" y2=\"156.9727\"/><text fill=\"#000000\" font-family=\"sans-serif\" font-size=\"11\" lengthAdjust=\"spacingAndGlyphs\" textLength=\"61\" x=\"43.5\" y=\"160.2808\">transitions</text><line style=\"stroke: #A80036; stroke-width: 1.0;\" x1=\"104.5\" x2=\"140\" y1=\"156.9727\" y2=\"156.9727\"/><!--MD5=[1f53a4918b7e08c8b3b6a040e7776f28]\n",
       "@startuml\r\n",
       " \r\n",
       "comp def \"DecisionTest\" as E1  <<(D,brown)action def>> {\r\n",
       "x: DataValue= 1; \r\n",
       "- -actions- -\r\n",
       "A1: Action\r\n",
       "A2: Action\r\n",
       "A3: Action\r\n",
       "- -decisionNodes- -\r\n",
       "test x: DecisionAction\r\n",
       "- -transitions- -\r\n",
       "S: Transition\r\n",
       "}\r\n",
       "@enduml\r\n",
       "\n",
       "PlantUML version 1.2020.13(Sat Jun 13 12:26:38 UTC 2020)\n",
       "(EPL source distribution)\n",
       "Java Runtime: OpenJDK Runtime Environment\n",
       "JVM: OpenJDK 64-Bit Server VM\n",
       "Default Encoding: UTF-8\n",
       "Language: en\n",
       "Country: null\n",
       "--></g></svg>"
      ]
     },
     "execution_count": 35,
     "metadata": {},
     "output_type": "execute_result"
    }
   ],
   "source": [
    "%viz --style=\"PLANTUML\" --view=\"Sequence\" \"DecisionTest\""
   ]
  },
  {
   "cell_type": "code",
   "execution_count": 36,
   "id": "received-legislature",
   "metadata": {
    "execution": {
     "iopub.execute_input": "2021-03-25T16:06:11.788995Z",
     "iopub.status.busy": "2021-03-25T16:06:11.788561Z",
     "iopub.status.idle": "2021-03-25T16:06:11.869103Z",
     "shell.execute_reply": "2021-03-25T16:06:11.867646Z"
    }
   },
   "outputs": [
    {
     "data": {
      "image/svg+xml": [
       "<?xml version=\"1.0\" encoding=\"UTF-8\" standalone=\"no\"?><svg xmlns=\"http://www.w3.org/2000/svg\" xmlns:xlink=\"http://www.w3.org/1999/xlink\" contentScriptType=\"application/ecmascript\" contentStyleType=\"text/css\" height=\"517px\" preserveAspectRatio=\"none\" style=\"width:546px;height:517px;\" version=\"1.1\" viewBox=\"0 0 546 517\" width=\"546px\" zoomAndPan=\"magnify\"><defs><filter height=\"300%\" id=\"f1jev1rrgh32s9\" width=\"300%\" x=\"-1\" y=\"-1\"><feGaussianBlur result=\"blurOut\" stdDeviation=\"2.0\"/><feColorMatrix in=\"blurOut\" result=\"blurOut2\" type=\"matrix\" values=\"0 0 0 0 0 0 0 0 0 0 0 0 0 0 0 0 0 0 .4 0\"/><feOffset dx=\"4.0\" dy=\"4.0\" in=\"blurOut2\" result=\"blurOut3\"/><feBlend in=\"SourceGraphic\" in2=\"blurOut3\" mode=\"normal\"/></filter></defs><g><!--MD5=[fbc87193dbaf4d95561dea2c320d4a47]\n",
       "cluster E1--><rect fill=\"#FFFFFF\" filter=\"url(#f1jev1rrgh32s9)\" height=\"473\" style=\"stroke: #000000; stroke-width: 1.5;\" width=\"522\" x=\"7\" y=\"12.0986\"/><text fill=\"#000000\" font-family=\"sans-serif\" font-size=\"14\" font-weight=\"bold\" lengthAdjust=\"spacingAndGlyphs\" textLength=\"102\" x=\"217\" y=\"27.0938\">DecisionTest</text><!--MD5=[168fadf3d0c3fd93dd5d6da1b1d7ab76]\n",
       "cluster E7--><rect fill=\"#FEFECE\" filter=\"url(#f1jev1rrgh32s9)\" height=\"371\" rx=\"12.5\" ry=\"12.5\" style=\"stroke: #000000; stroke-width: 1.5;\" width=\"115\" x=\"340\" y=\"42.0986\"/><rect fill=\"#FFFFFF\" height=\"338.7031\" rx=\"12.5\" ry=\"12.5\" style=\"stroke: #FFFFFF; stroke-width: 1.0;\" width=\"109\" x=\"343\" y=\"71.3955\"/><line style=\"stroke: #000000; stroke-width: 1.5;\" x1=\"340\" x2=\"455\" y1=\"68.3955\" y2=\"68.3955\"/><text fill=\"#000000\" font-family=\"sans-serif\" font-size=\"14\" lengthAdjust=\"spacingAndGlyphs\" textLength=\"9\" x=\"393\" y=\"60.0938\">S</text><text fill=\"#000000\" font-family=\"sans-serif\" font-size=\"14\" lengthAdjust=\"spacingAndGlyphs\" textLength=\"48\" x=\"146\" y=\"504.0938\">$result</text><rect fill=\"#A80036\" height=\"12\" style=\"stroke: #FEFECE; stroke-width: 1.5;\" width=\"12\" x=\"164\" y=\"479.0986\"/><g id=\"E1.E3\"><rect fill=\"#FFFFFF\" filter=\"url(#f1jev1rrgh32s9)\" height=\"50\" rx=\"12.5\" ry=\"12.5\" style=\"stroke: #A80036; stroke-width: 1.5;\" width=\"58\" x=\"278\" y=\"297.0986\"/><line style=\"stroke: #A80036; stroke-width: 1.5;\" x1=\"278\" x2=\"336\" y1=\"323.3955\" y2=\"323.3955\"/><text fill=\"#000000\" font-family=\"sans-serif\" font-size=\"14\" lengthAdjust=\"spacingAndGlyphs\" textLength=\"38\" x=\"288\" y=\"315.0938\">test x</text></g><g id=\"E1.E4\"><rect fill=\"#FFFFFF\" filter=\"url(#f1jev1rrgh32s9)\" height=\"50\" rx=\"12.5\" ry=\"12.5\" style=\"stroke: #A80036; stroke-width: 1.5;\" width=\"50\" x=\"193\" y=\"297.0986\"/><line style=\"stroke: #A80036; stroke-width: 1.5;\" x1=\"193\" x2=\"243\" y1=\"323.3955\" y2=\"323.3955\"/><text fill=\"#000000\" font-family=\"sans-serif\" font-size=\"14\" lengthAdjust=\"spacingAndGlyphs\" textLength=\"18\" x=\"209\" y=\"315.0938\">A1</text></g><g id=\"E1.E5\"><rect fill=\"#FFFFFF\" filter=\"url(#f1jev1rrgh32s9)\" height=\"50\" rx=\"12.5\" ry=\"12.5\" style=\"stroke: #A80036; stroke-width: 1.5;\" width=\"50\" x=\"463\" y=\"297.0986\"/><line style=\"stroke: #A80036; stroke-width: 1.5;\" x1=\"463\" x2=\"513\" y1=\"323.3955\" y2=\"323.3955\"/><text fill=\"#000000\" font-family=\"sans-serif\" font-size=\"14\" lengthAdjust=\"spacingAndGlyphs\" textLength=\"18\" x=\"479\" y=\"315.0938\">A2</text></g><g id=\"E1.E6\"><rect fill=\"#FFFFFF\" filter=\"url(#f1jev1rrgh32s9)\" height=\"50\" rx=\"12.5\" ry=\"12.5\" style=\"stroke: #A80036; stroke-width: 1.5;\" width=\"50\" x=\"108\" y=\"297.0986\"/><line style=\"stroke: #A80036; stroke-width: 1.5;\" x1=\"108\" x2=\"158\" y1=\"323.3955\" y2=\"323.3955\"/><text fill=\"#000000\" font-family=\"sans-serif\" font-size=\"14\" lengthAdjust=\"spacingAndGlyphs\" textLength=\"18\" x=\"124\" y=\"315.0938\">A3</text></g><text fill=\"#000000\" font-family=\"sans-serif\" font-size=\"14\" lengthAdjust=\"spacingAndGlyphs\" textLength=\"48\" x=\"334\" y=\"432.0938\">$result</text><rect fill=\"#A80036\" height=\"12\" style=\"stroke: #FEFECE; stroke-width: 1.5;\" width=\"12\" x=\"352\" y=\"407.0986\"/><text fill=\"#000000\" font-family=\"sans-serif\" font-size=\"14\" lengthAdjust=\"spacingAndGlyphs\" textLength=\"16\" x=\"350\" y=\"20.7969\">$x</text><rect fill=\"#A80036\" height=\"12\" style=\"stroke: #FEFECE; stroke-width: 1.5;\" width=\"12\" x=\"352\" y=\"36.0986\"/><text fill=\"#000000\" font-family=\"sans-serif\" font-size=\"14\" lengthAdjust=\"spacingAndGlyphs\" textLength=\"16\" x=\"397\" y=\"20.7969\">$y</text><rect fill=\"#A80036\" height=\"12\" style=\"stroke: #FEFECE; stroke-width: 1.5;\" width=\"12\" x=\"399\" y=\"36.0986\"/><text fill=\"#000000\" font-family=\"sans-serif\" font-size=\"14\" lengthAdjust=\"spacingAndGlyphs\" textLength=\"48\" x=\"381\" y=\"432.0938\">$result</text><rect fill=\"#A80036\" height=\"12\" style=\"stroke: #FEFECE; stroke-width: 1.5;\" width=\"12\" x=\"399\" y=\"407.0986\"/><g id=\"E1.E7.E8\"><rect fill=\"#FFFFFF\" filter=\"url(#f1jev1rrgh32s9)\" height=\"50\" rx=\"12.5\" ry=\"12.5\" style=\"stroke: #A80036; stroke-width: 1.5;\" width=\"50\" x=\"360\" y=\"187.0986\"/><line style=\"stroke: #A80036; stroke-width: 1.5;\" x1=\"360\" x2=\"410\" y1=\"213.3955\" y2=\"213.3955\"/><text fill=\"#000000\" font-family=\"sans-serif\" font-size=\"14\" lengthAdjust=\"spacingAndGlyphs\" textLength=\"18\" x=\"376\" y=\"205.0938\">A1</text></g><g id=\"E1.E13\"><rect fill=\"#FFFFFF\" filter=\"url(#f1jev1rrgh32s9)\" height=\"50\" rx=\"12.5\" ry=\"12.5\" style=\"stroke: #A80036; stroke-width: 1.5;\" width=\"50\" x=\"23\" y=\"297.0986\"/><line style=\"stroke: #A80036; stroke-width: 1.5;\" x1=\"23\" x2=\"73\" y1=\"323.3955\" y2=\"323.3955\"/><text fill=\"#000000\" font-family=\"sans-serif\" font-size=\"14\" lengthAdjust=\"spacingAndGlyphs\" textLength=\"18\" x=\"39\" y=\"315.0938\">A3</text></g><!--MD5=[7fa823448867f45d961c344e849ff405]\n",
       "link E11 to E9--><path d=\"M407.61,48.2686 C412.41,58.0686 422.44,80.1686 426,100.0986 C430.82,127.1186 432.87,321.8886 422,347.0986 C409.46,376.1886 377.45,399.4986 364.05,408.3086 \" fill=\"none\" id=\"E11-E9\" style=\"stroke: #FF0000; stroke-width: 5.0;\"/><!--MD5=[1ccb2481ffa92f8d51a74ee30c51832a]\n",
       "link E8 to E5--><path d=\"M408.12,237.3386 C423.89,253.8686 444.82,275.8186 461.3,293.1086 \" fill=\"none\" id=\"E8-&gt;E5\" style=\"stroke: #A80036; stroke-width: 1.0;\"/><polygon fill=\"#A80036\" points=\"464.96,296.9386,461.667,287.6566,461.5185,293.3115,455.8636,293.163,464.96,296.9386\" style=\"stroke: #A80036; stroke-width: 1.0;\"/><!--MD5=[fd7d92391c39822c75d594627315dfb5]\n",
       "@startuml\r\n",
       " \r\n",
       "rec def \"DecisionTest\" as E1 {\r\n",
       "portout \"$result\" as E2  \r\n",
       "rec usage \"test x\" as E3 {\r\n",
       "}\r\n",
       "\r\n",
       "rec usage \"A1\" as E4 {\r\n",
       "}\r\n",
       "\r\n",
       "rec usage \"A2\" as E5 {\r\n",
       "}\r\n",
       "\r\n",
       "rec usage \"A3\" as E6 {\r\n",
       "}\r\n",
       "\r\n",
       "rec usage \"S\" as E7 {\r\n",
       "rec usage \"A1\" as E8 {\r\n",
       "}\r\n",
       "\r\n",
       "portout \"$result\" as E9  \r\n",
       "portin \"$x\" as E10  \r\n",
       "portin \"$y\" as E11  \r\n",
       "portout \"$result\" as E12  \r\n",
       "}\r\n",
       "\r\n",
       "rec usage \"A3\" as E13 {\r\n",
       "}\r\n",
       "\r\n",
       "}\r\n",
       "\r\n",
       "E11 -[thickness=5,#red]- E9\r\n",
       "E8 - -> E5\r\n",
       "@enduml\r\n",
       "\n",
       "PlantUML version 1.2020.13(Sat Jun 13 12:26:38 UTC 2020)\n",
       "(EPL source distribution)\n",
       "Java Runtime: OpenJDK Runtime Environment\n",
       "JVM: OpenJDK 64-Bit Server VM\n",
       "Default Encoding: UTF-8\n",
       "Language: en\n",
       "Country: null\n",
       "--></g></svg>"
      ]
     },
     "execution_count": 36,
     "metadata": {},
     "output_type": "execute_result"
    }
   ],
   "source": [
    "%viz --style=\"PLANTUML\" --view=\"MIXED\" \"DecisionTest\""
   ]
  },
  {
   "cell_type": "code",
   "execution_count": 37,
   "id": "conceptual-delhi",
   "metadata": {
    "execution": {
     "iopub.execute_input": "2021-03-25T16:06:11.919847Z",
     "iopub.status.busy": "2021-03-25T16:06:11.919341Z",
     "iopub.status.idle": "2021-03-25T16:06:11.989376Z",
     "shell.execute_reply": "2021-03-25T16:06:11.987763Z"
    }
   },
   "outputs": [
    {
     "data": {
      "image/svg+xml": [
       "<?xml version=\"1.0\" encoding=\"UTF-8\" standalone=\"no\"?><svg xmlns=\"http://www.w3.org/2000/svg\" xmlns:xlink=\"http://www.w3.org/1999/xlink\" contentScriptType=\"application/ecmascript\" contentStyleType=\"text/css\" height=\"517px\" preserveAspectRatio=\"none\" style=\"width:540px;height:517px;\" version=\"1.1\" viewBox=\"0 0 540 517\" width=\"540px\" zoomAndPan=\"magnify\"><defs/><g><!--MD5=[fbc87193dbaf4d95561dea2c320d4a47]\n",
       "cluster E1--><rect fill=\"#FFFFFF\" height=\"473\" style=\"stroke: #000000; stroke-width: 1.5;\" width=\"522\" x=\"7\" y=\"12.0986\"/><text fill=\"#000000\" font-family=\"sans-serif\" font-size=\"14\" font-weight=\"bold\" lengthAdjust=\"spacingAndGlyphs\" textLength=\"102\" x=\"217\" y=\"27.0938\">DecisionTest</text><!--MD5=[168fadf3d0c3fd93dd5d6da1b1d7ab76]\n",
       "cluster E7--><rect fill=\"#F8F8F8\" height=\"371\" rx=\"12.5\" ry=\"12.5\" style=\"stroke: #000000; stroke-width: 1.5;\" width=\"115\" x=\"340\" y=\"42.0986\"/><rect fill=\"#FFFFFF\" height=\"338.7031\" rx=\"12.5\" ry=\"12.5\" style=\"stroke: #FFFFFF; stroke-width: 1.0;\" width=\"109\" x=\"343\" y=\"71.3955\"/><line style=\"stroke: #000000; stroke-width: 1.5;\" x1=\"340\" x2=\"455\" y1=\"68.3955\" y2=\"68.3955\"/><text fill=\"#000000\" font-family=\"sans-serif\" font-size=\"14\" lengthAdjust=\"spacingAndGlyphs\" textLength=\"9\" x=\"393\" y=\"60.0938\">S</text><text fill=\"#000000\" font-family=\"sans-serif\" font-size=\"14\" lengthAdjust=\"spacingAndGlyphs\" textLength=\"48\" x=\"146\" y=\"504.0938\">$result</text><rect fill=\"#383838\" height=\"12\" style=\"stroke: #F8F8F8; stroke-width: 1.5;\" width=\"12\" x=\"164\" y=\"479.0986\"/><g id=\"E1.E3\"><rect fill=\"#FFFFFF\" height=\"50\" rx=\"12.5\" ry=\"12.5\" style=\"stroke: #383838; stroke-width: 1.5;\" width=\"58\" x=\"278\" y=\"297.0986\"/><line style=\"stroke: #383838; stroke-width: 1.5;\" x1=\"278\" x2=\"336\" y1=\"323.3955\" y2=\"323.3955\"/><text fill=\"#000000\" font-family=\"sans-serif\" font-size=\"14\" lengthAdjust=\"spacingAndGlyphs\" textLength=\"38\" x=\"288\" y=\"315.0938\">test x</text></g><g id=\"E1.E4\"><rect fill=\"#FFFFFF\" height=\"50\" rx=\"12.5\" ry=\"12.5\" style=\"stroke: #383838; stroke-width: 1.5;\" width=\"50\" x=\"193\" y=\"297.0986\"/><line style=\"stroke: #383838; stroke-width: 1.5;\" x1=\"193\" x2=\"243\" y1=\"323.3955\" y2=\"323.3955\"/><text fill=\"#000000\" font-family=\"sans-serif\" font-size=\"14\" lengthAdjust=\"spacingAndGlyphs\" textLength=\"18\" x=\"209\" y=\"315.0938\">A1</text></g><g id=\"E1.E5\"><rect fill=\"#FFFFFF\" height=\"50\" rx=\"12.5\" ry=\"12.5\" style=\"stroke: #383838; stroke-width: 1.5;\" width=\"50\" x=\"463\" y=\"297.0986\"/><line style=\"stroke: #383838; stroke-width: 1.5;\" x1=\"463\" x2=\"513\" y1=\"323.3955\" y2=\"323.3955\"/><text fill=\"#000000\" font-family=\"sans-serif\" font-size=\"14\" lengthAdjust=\"spacingAndGlyphs\" textLength=\"18\" x=\"479\" y=\"315.0938\">A2</text></g><g id=\"E1.E6\"><rect fill=\"#FFFFFF\" height=\"50\" rx=\"12.5\" ry=\"12.5\" style=\"stroke: #383838; stroke-width: 1.5;\" width=\"50\" x=\"108\" y=\"297.0986\"/><line style=\"stroke: #383838; stroke-width: 1.5;\" x1=\"108\" x2=\"158\" y1=\"323.3955\" y2=\"323.3955\"/><text fill=\"#000000\" font-family=\"sans-serif\" font-size=\"14\" lengthAdjust=\"spacingAndGlyphs\" textLength=\"18\" x=\"124\" y=\"315.0938\">A3</text></g><text fill=\"#000000\" font-family=\"sans-serif\" font-size=\"14\" lengthAdjust=\"spacingAndGlyphs\" textLength=\"48\" x=\"334\" y=\"432.0938\">$result</text><rect fill=\"#383838\" height=\"12\" style=\"stroke: #F8F8F8; stroke-width: 1.5;\" width=\"12\" x=\"352\" y=\"407.0986\"/><text fill=\"#000000\" font-family=\"sans-serif\" font-size=\"14\" lengthAdjust=\"spacingAndGlyphs\" textLength=\"16\" x=\"350\" y=\"20.7969\">$x</text><rect fill=\"#383838\" height=\"12\" style=\"stroke: #F8F8F8; stroke-width: 1.5;\" width=\"12\" x=\"352\" y=\"36.0986\"/><text fill=\"#000000\" font-family=\"sans-serif\" font-size=\"14\" lengthAdjust=\"spacingAndGlyphs\" textLength=\"16\" x=\"397\" y=\"20.7969\">$y</text><rect fill=\"#383838\" height=\"12\" style=\"stroke: #F8F8F8; stroke-width: 1.5;\" width=\"12\" x=\"399\" y=\"36.0986\"/><text fill=\"#000000\" font-family=\"sans-serif\" font-size=\"14\" lengthAdjust=\"spacingAndGlyphs\" textLength=\"48\" x=\"381\" y=\"432.0938\">$result</text><rect fill=\"#383838\" height=\"12\" style=\"stroke: #F8F8F8; stroke-width: 1.5;\" width=\"12\" x=\"399\" y=\"407.0986\"/><g id=\"E1.E7.E8\"><rect fill=\"#FFFFFF\" height=\"50\" rx=\"12.5\" ry=\"12.5\" style=\"stroke: #383838; stroke-width: 1.5;\" width=\"50\" x=\"360\" y=\"187.0986\"/><line style=\"stroke: #383838; stroke-width: 1.5;\" x1=\"360\" x2=\"410\" y1=\"213.3955\" y2=\"213.3955\"/><text fill=\"#000000\" font-family=\"sans-serif\" font-size=\"14\" lengthAdjust=\"spacingAndGlyphs\" textLength=\"18\" x=\"376\" y=\"205.0938\">A1</text></g><g id=\"E1.E13\"><rect fill=\"#FFFFFF\" height=\"50\" rx=\"12.5\" ry=\"12.5\" style=\"stroke: #383838; stroke-width: 1.5;\" width=\"50\" x=\"23\" y=\"297.0986\"/><line style=\"stroke: #383838; stroke-width: 1.5;\" x1=\"23\" x2=\"73\" y1=\"323.3955\" y2=\"323.3955\"/><text fill=\"#000000\" font-family=\"sans-serif\" font-size=\"14\" lengthAdjust=\"spacingAndGlyphs\" textLength=\"18\" x=\"39\" y=\"315.0938\">A3</text></g><!--MD5=[7fa823448867f45d961c344e849ff405]\n",
       "link E11 to E9--><path d=\"M407.61,48.2686 C412.41,58.0686 422.44,80.1686 426,100.0986 C430.82,127.1186 432.87,321.8886 422,347.0986 C409.46,376.1886 377.45,399.4986 364.05,408.3086 \" fill=\"none\" id=\"E11-E9\" style=\"stroke: #383838; stroke-width: 5.0;\"/><!--MD5=[1ccb2481ffa92f8d51a74ee30c51832a]\n",
       "link E8 to E5--><path d=\"M408.12,237.3386 C423.89,253.8686 444.82,275.8186 461.3,293.1086 \" fill=\"none\" id=\"E8-&gt;E5\" style=\"stroke: #383838; stroke-width: 1.0;\"/><polygon fill=\"#383838\" points=\"464.96,296.9386,461.667,287.6566,461.5185,293.3115,455.8636,293.163,464.96,296.9386\" style=\"stroke: #383838; stroke-width: 1.0;\"/><!--MD5=[cea690ce7280792f2c37e91a39a614ae]\n",
       "@startuml\r\n",
       "skinparam monochrome true\r\n",
       "skinparam classbackgroundcolor white\r\n",
       "skinparam shadowing false\r\n",
       "skinparam wrapWidth 300\r\n",
       "hide circle\r\n",
       "\r\n",
       "rec def \"DecisionTest\" as E1 {\r\n",
       "portout \"$result\" as E2  \r\n",
       "rec usage \"test x\" as E3 {\r\n",
       "}\r\n",
       "\r\n",
       "rec usage \"A1\" as E4 {\r\n",
       "}\r\n",
       "\r\n",
       "rec usage \"A2\" as E5 {\r\n",
       "}\r\n",
       "\r\n",
       "rec usage \"A3\" as E6 {\r\n",
       "}\r\n",
       "\r\n",
       "rec usage \"S\" as E7 {\r\n",
       "rec usage \"A1\" as E8 {\r\n",
       "}\r\n",
       "\r\n",
       "portout \"$result\" as E9  \r\n",
       "portin \"$x\" as E10  \r\n",
       "portin \"$y\" as E11  \r\n",
       "portout \"$result\" as E12  \r\n",
       "}\r\n",
       "\r\n",
       "rec usage \"A3\" as E13 {\r\n",
       "}\r\n",
       "\r\n",
       "}\r\n",
       "\r\n",
       "E11 -[thickness=5]- E9\r\n",
       "E8 - -> E5\r\n",
       "@enduml\r\n",
       "\n",
       "PlantUML version 1.2020.13(Sat Jun 13 12:26:38 UTC 2020)\n",
       "(EPL source distribution)\n",
       "Java Runtime: OpenJDK Runtime Environment\n",
       "JVM: OpenJDK 64-Bit Server VM\n",
       "Default Encoding: UTF-8\n",
       "Language: en\n",
       "Country: null\n",
       "--></g></svg>"
      ]
     },
     "execution_count": 37,
     "metadata": {},
     "output_type": "execute_result"
    }
   ],
   "source": [
    "%viz --style=\"DEFAULT\" --view=\"Default\" \"DecisionTest\""
   ]
  },
  {
   "cell_type": "code",
   "execution_count": 38,
   "id": "every-missouri",
   "metadata": {
    "execution": {
     "iopub.execute_input": "2021-03-25T16:06:12.040391Z",
     "iopub.status.busy": "2021-03-25T16:06:12.039663Z",
     "iopub.status.idle": "2021-03-25T16:06:13.270811Z",
     "shell.execute_reply": "2021-03-25T16:06:13.271230Z"
    }
   },
   "outputs": [
    {
     "data": {
      "image/svg+xml": [
       "<?xml version=\"1.0\" encoding=\"UTF-8\" standalone=\"no\"?><svg xmlns=\"http://www.w3.org/2000/svg\" xmlns:xlink=\"http://www.w3.org/1999/xlink\" contentScriptType=\"application/ecmascript\" contentStyleType=\"text/css\" height=\"191px\" preserveAspectRatio=\"none\" style=\"width:152px;height:191px;\" version=\"1.1\" viewBox=\"0 0 152 191\" width=\"152px\" zoomAndPan=\"magnify\"><defs/><g><!--MD5=[43c9051892ef23e1a46a86907403d788]\n",
       "class E1--><rect fill=\"#FFFFFF\" height=\"173.1797\" id=\"E1\" style=\"stroke: #383838; stroke-width: 1.5;\" width=\"134\" x=\"7\" y=\"7\"/><text fill=\"#000000\" font-family=\"sans-serif\" font-size=\"12\" font-style=\"italic\" lengthAdjust=\"spacingAndGlyphs\" textLength=\"77\" x=\"35.5\" y=\"23.1387\">«action def»</text><text fill=\"#000000\" font-family=\"sans-serif\" font-size=\"12\" lengthAdjust=\"spacingAndGlyphs\" textLength=\"80\" x=\"34\" y=\"37.1074\">DecisionTest</text><line style=\"stroke: #383838; stroke-width: 1.5;\" x1=\"8\" x2=\"140\" y1=\"44.9375\" y2=\"44.9375\"/><text fill=\"#000000\" font-family=\"sans-serif\" font-size=\"11\" lengthAdjust=\"spacingAndGlyphs\" textLength=\"95\" x=\"13\" y=\"59.1479\">x: DataValue= 1;</text><text fill=\"#000000\" font-family=\"sans-serif\" font-size=\"11\" lengthAdjust=\"spacingAndGlyphs\" textLength=\"56\" x=\"13\" y=\"88.7573\">A1: Action</text><text fill=\"#000000\" font-family=\"sans-serif\" font-size=\"11\" lengthAdjust=\"spacingAndGlyphs\" textLength=\"56\" x=\"13\" y=\"101.562\">A2: Action</text><text fill=\"#000000\" font-family=\"sans-serif\" font-size=\"11\" lengthAdjust=\"spacingAndGlyphs\" textLength=\"56\" x=\"13\" y=\"114.3667\">A3: Action</text><line style=\"stroke: #383838; stroke-width: 1.0;\" x1=\"8\" x2=\"53.5\" y1=\"72.1445\" y2=\"72.1445\"/><text fill=\"#000000\" font-family=\"sans-serif\" font-size=\"11\" lengthAdjust=\"spacingAndGlyphs\" textLength=\"41\" x=\"53.5\" y=\"75.4526\">actions</text><line style=\"stroke: #383838; stroke-width: 1.0;\" x1=\"94.5\" x2=\"140\" y1=\"72.1445\" y2=\"72.1445\"/><text fill=\"#000000\" font-family=\"sans-serif\" font-size=\"11\" lengthAdjust=\"spacingAndGlyphs\" textLength=\"122\" x=\"13\" y=\"143.9761\">test x: DecisionAction</text><line style=\"stroke: #383838; stroke-width: 1.0;\" x1=\"8\" x2=\"32.5\" y1=\"127.3633\" y2=\"127.3633\"/><text fill=\"#000000\" font-family=\"sans-serif\" font-size=\"11\" lengthAdjust=\"spacingAndGlyphs\" textLength=\"83\" x=\"32.5\" y=\"130.6714\">decisionNodes</text><line style=\"stroke: #383838; stroke-width: 1.0;\" x1=\"115.5\" x2=\"140\" y1=\"127.3633\" y2=\"127.3633\"/><text fill=\"#000000\" font-family=\"sans-serif\" font-size=\"11\" lengthAdjust=\"spacingAndGlyphs\" textLength=\"73\" x=\"13\" y=\"173.5854\">S: Transition</text><line style=\"stroke: #383838; stroke-width: 1.0;\" x1=\"8\" x2=\"43.5\" y1=\"156.9727\" y2=\"156.9727\"/><text fill=\"#000000\" font-family=\"sans-serif\" font-size=\"11\" lengthAdjust=\"spacingAndGlyphs\" textLength=\"61\" x=\"43.5\" y=\"160.2808\">transitions</text><line style=\"stroke: #383838; stroke-width: 1.0;\" x1=\"104.5\" x2=\"140\" y1=\"156.9727\" y2=\"156.9727\"/><!--MD5=[aadc7a7d30f8ad5627aa7dae360e97e6]\n",
       "@startuml\r\n",
       "skinparam monochrome true\r\n",
       "skinparam classbackgroundcolor white\r\n",
       "skinparam shadowing false\r\n",
       "skinparam wrapWidth 300\r\n",
       "hide circle\r\n",
       "\r\n",
       "comp def \"DecisionTest\" as E1  <<(T,blue)action def>> {\r\n",
       "x: DataValue= 1; \r\n",
       "- -actions- -\r\n",
       "A1: Action\r\n",
       "A2: Action\r\n",
       "A3: Action\r\n",
       "- -decisionNodes- -\r\n",
       "test x: DecisionAction\r\n",
       "- -transitions- -\r\n",
       "S: Transition\r\n",
       "}\r\n",
       "@enduml\r\n",
       "\n",
       "PlantUML version 1.2020.13(Sat Jun 13 12:26:38 UTC 2020)\n",
       "(EPL source distribution)\n",
       "Java Runtime: OpenJDK Runtime Environment\n",
       "JVM: OpenJDK 64-Bit Server VM\n",
       "Default Encoding: UTF-8\n",
       "Language: en\n",
       "Country: null\n",
       "--></g></svg>"
      ]
     },
     "execution_count": 38,
     "metadata": {},
     "output_type": "execute_result"
    }
   ],
   "source": [
    "%viz --style=\"DEFAULT\" --view=\"Tree\" \"DecisionTest\""
   ]
  },
  {
   "cell_type": "code",
   "execution_count": 39,
   "id": "romance-literature",
   "metadata": {
    "execution": {
     "iopub.execute_input": "2021-03-25T16:06:13.324442Z",
     "iopub.status.busy": "2021-03-25T16:06:13.323878Z",
     "iopub.status.idle": "2021-03-25T16:06:13.329119Z",
     "shell.execute_reply": "2021-03-25T16:06:13.329713Z"
    }
   },
   "outputs": [
    {
     "data": {
      "text/plain": [
       "java.lang.IllegalArgumentException: Invalid View: State View candidates are: Default Tree StateMachine Interconnection Activity Sequence MIXED \n",
       "\tat org.omg.sysml.plantuml.SysML2PlantUMLSvc.setView(SysML2PlantUMLSvc.java:63)\n",
       "\tat org.omg.sysml.interactive.SysMLInteractive.viz(SysMLInteractive.java:286)\n",
       "\tat org.omg.sysml.jupyter.kernel.magic.Viz.viz(Viz.java:47)\n",
       "\tat jdk.internal.reflect.GeneratedMethodAccessor15.invoke(Unknown Source)\n",
       "\tat java.base/jdk.internal.reflect.DelegatingMethodAccessorImpl.invoke(DelegatingMethodAccessorImpl.java:43)\n",
       "\tat java.base/java.lang.reflect.Method.invoke(Method.java:568)\n",
       "\tat io.github.spencerpark.jupyter.kernel.magic.registry.Magics.invoke(Magics.java:89)\n",
       "\tat io.github.spencerpark.jupyter.kernel.magic.registry.Magics.access$000(Magics.java:8)\n",
       "\tat io.github.spencerpark.jupyter.kernel.magic.registry.Magics$LineReflectionMagicFunction.execute(Magics.java:149)\n",
       "\tat io.github.spencerpark.jupyter.kernel.magic.registry.Magics.applyLineMagic(Magics.java:26)\n",
       "\tat org.omg.sysml.jupyter.kernel.SysMLKernel.eval(SysMLKernel.java:76)\n",
       "\tat io.github.spencerpark.jupyter.kernel.BaseKernel.handleExecuteRequest(BaseKernel.java:334)\n",
       "\tat io.github.spencerpark.jupyter.channels.ShellChannel.lambda$bind$0(ShellChannel.java:64)\n",
       "\tat io.github.spencerpark.jupyter.channels.Loop.lambda$new$0(Loop.java:21)\n",
       "\tat io.github.spencerpark.jupyter.channels.Loop.run(Loop.java:78)\n"
      ]
     },
     "execution_count": 39,
     "metadata": {},
     "output_type": "execute_result"
    }
   ],
   "source": [
    "%viz --style=\"DEFAULT\" --view=\"State\" \"DecisionTest\""
   ]
  },
  {
   "cell_type": "code",
   "execution_count": 40,
   "id": "swedish-picking",
   "metadata": {
    "execution": {
     "iopub.execute_input": "2021-03-25T16:06:13.380512Z",
     "iopub.status.busy": "2021-03-25T16:06:13.379960Z",
     "iopub.status.idle": "2021-03-25T16:06:13.406559Z",
     "shell.execute_reply": "2021-03-25T16:06:13.406957Z"
    }
   },
   "outputs": [
    {
     "data": {
      "image/svg+xml": [
       "<?xml version=\"1.0\" encoding=\"UTF-8\" standalone=\"no\"?><svg xmlns=\"http://www.w3.org/2000/svg\" xmlns:xlink=\"http://www.w3.org/1999/xlink\" contentScriptType=\"application/ecmascript\" contentStyleType=\"text/css\" height=\"71px\" preserveAspectRatio=\"none\" style=\"width:104px;height:71px;\" version=\"1.1\" viewBox=\"0 0 104 71\" width=\"104px\" zoomAndPan=\"magnify\"><defs/><g><!--MD5=[43c9051892ef23e1a46a86907403d788]\n",
       "class E1--><rect fill=\"#FFFFFF\" height=\"53.9375\" id=\"E1\" style=\"stroke: #383838; stroke-width: 1.5;\" width=\"86\" x=\"7\" y=\"7\"/><text fill=\"#000000\" font-family=\"sans-serif\" font-size=\"12\" font-style=\"italic\" lengthAdjust=\"spacingAndGlyphs\" textLength=\"77\" x=\"11.5\" y=\"23.1387\">«action def»</text><text fill=\"#000000\" font-family=\"sans-serif\" font-size=\"12\" lengthAdjust=\"spacingAndGlyphs\" textLength=\"80\" x=\"10\" y=\"37.1074\">DecisionTest</text><line style=\"stroke: #383838; stroke-width: 1.5;\" x1=\"8\" x2=\"92\" y1=\"44.9375\" y2=\"44.9375\"/><line style=\"stroke: #383838; stroke-width: 1.5;\" x1=\"8\" x2=\"92\" y1=\"52.9375\" y2=\"52.9375\"/><!--MD5=[2df9c2b434de58ffbd7406f30672dea1]\n",
       "@startuml\r\n",
       "skinparam ranksep 8\r\n",
       "skinparam rectangle {\r\n",
       " backgroundColor<<block>> LightGreen\r\n",
       "}\r\n",
       "skinparam monochrome true\r\n",
       "skinparam classbackgroundcolor white\r\n",
       "skinparam shadowing false\r\n",
       "skinparam wrapWidth 300\r\n",
       "hide circle\r\n",
       "\r\n",
       "def \"DecisionTest\" as E1  <<action def>> \r\n",
       "@enduml\r\n",
       "\n",
       "PlantUML version 1.2020.13(Sat Jun 13 12:26:38 UTC 2020)\n",
       "(EPL source distribution)\n",
       "Java Runtime: OpenJDK Runtime Environment\n",
       "JVM: OpenJDK 64-Bit Server VM\n",
       "Default Encoding: UTF-8\n",
       "Language: en\n",
       "Country: null\n",
       "--></g></svg>"
      ]
     },
     "execution_count": 40,
     "metadata": {},
     "output_type": "execute_result"
    }
   ],
   "source": [
    "%viz --style=\"DEFAULT\" --view=\"Interconnection\" \"DecisionTest\""
   ]
  },
  {
   "cell_type": "code",
   "execution_count": 41,
   "id": "fantastic-breakdown",
   "metadata": {
    "execution": {
     "iopub.execute_input": "2021-03-25T16:06:13.458479Z",
     "iopub.status.busy": "2021-03-25T16:06:13.457930Z",
     "iopub.status.idle": "2021-03-25T16:06:13.462972Z",
     "shell.execute_reply": "2021-03-25T16:06:13.463525Z"
    }
   },
   "outputs": [
    {
     "data": {
      "text/plain": [
       "java.lang.IllegalArgumentException: Invalid View: Action View candidates are: Default Tree StateMachine Interconnection Activity Sequence MIXED \n",
       "\tat org.omg.sysml.plantuml.SysML2PlantUMLSvc.setView(SysML2PlantUMLSvc.java:63)\n",
       "\tat org.omg.sysml.interactive.SysMLInteractive.viz(SysMLInteractive.java:286)\n",
       "\tat org.omg.sysml.jupyter.kernel.magic.Viz.viz(Viz.java:47)\n",
       "\tat jdk.internal.reflect.GeneratedMethodAccessor15.invoke(Unknown Source)\n",
       "\tat java.base/jdk.internal.reflect.DelegatingMethodAccessorImpl.invoke(DelegatingMethodAccessorImpl.java:43)\n",
       "\tat java.base/java.lang.reflect.Method.invoke(Method.java:568)\n",
       "\tat io.github.spencerpark.jupyter.kernel.magic.registry.Magics.invoke(Magics.java:89)\n",
       "\tat io.github.spencerpark.jupyter.kernel.magic.registry.Magics.access$000(Magics.java:8)\n",
       "\tat io.github.spencerpark.jupyter.kernel.magic.registry.Magics$LineReflectionMagicFunction.execute(Magics.java:149)\n",
       "\tat io.github.spencerpark.jupyter.kernel.magic.registry.Magics.applyLineMagic(Magics.java:26)\n",
       "\tat org.omg.sysml.jupyter.kernel.SysMLKernel.eval(SysMLKernel.java:76)\n",
       "\tat io.github.spencerpark.jupyter.kernel.BaseKernel.handleExecuteRequest(BaseKernel.java:334)\n",
       "\tat io.github.spencerpark.jupyter.channels.ShellChannel.lambda$bind$0(ShellChannel.java:64)\n",
       "\tat io.github.spencerpark.jupyter.channels.Loop.lambda$new$0(Loop.java:21)\n",
       "\tat io.github.spencerpark.jupyter.channels.Loop.run(Loop.java:78)\n"
      ]
     },
     "execution_count": 41,
     "metadata": {},
     "output_type": "execute_result"
    }
   ],
   "source": [
    "%viz --style=\"DEFAULT\" --view=\"Action\" \"DecisionTest\""
   ]
  },
  {
   "cell_type": "code",
   "execution_count": 42,
   "id": "fleet-shade",
   "metadata": {
    "execution": {
     "iopub.execute_input": "2021-03-25T16:06:13.514105Z",
     "iopub.status.busy": "2021-03-25T16:06:13.513644Z",
     "iopub.status.idle": "2021-03-25T16:06:14.762198Z",
     "shell.execute_reply": "2021-03-25T16:06:14.761824Z"
    }
   },
   "outputs": [
    {
     "data": {
      "image/svg+xml": [
       "<?xml version=\"1.0\" encoding=\"UTF-8\" standalone=\"no\"?><svg xmlns=\"http://www.w3.org/2000/svg\" xmlns:xlink=\"http://www.w3.org/1999/xlink\" contentScriptType=\"application/ecmascript\" contentStyleType=\"text/css\" height=\"191px\" preserveAspectRatio=\"none\" style=\"width:152px;height:191px;\" version=\"1.1\" viewBox=\"0 0 152 191\" width=\"152px\" zoomAndPan=\"magnify\"><defs/><g><!--MD5=[43c9051892ef23e1a46a86907403d788]\n",
       "class E1--><rect fill=\"#FFFFFF\" height=\"173.1797\" id=\"E1\" style=\"stroke: #383838; stroke-width: 1.5;\" width=\"134\" x=\"7\" y=\"7\"/><text fill=\"#000000\" font-family=\"sans-serif\" font-size=\"12\" font-style=\"italic\" lengthAdjust=\"spacingAndGlyphs\" textLength=\"77\" x=\"35.5\" y=\"23.1387\">«action def»</text><text fill=\"#000000\" font-family=\"sans-serif\" font-size=\"12\" lengthAdjust=\"spacingAndGlyphs\" textLength=\"80\" x=\"34\" y=\"37.1074\">DecisionTest</text><line style=\"stroke: #383838; stroke-width: 1.5;\" x1=\"8\" x2=\"140\" y1=\"44.9375\" y2=\"44.9375\"/><text fill=\"#000000\" font-family=\"sans-serif\" font-size=\"11\" lengthAdjust=\"spacingAndGlyphs\" textLength=\"95\" x=\"13\" y=\"59.1479\">x: DataValue= 1;</text><text fill=\"#000000\" font-family=\"sans-serif\" font-size=\"11\" lengthAdjust=\"spacingAndGlyphs\" textLength=\"56\" x=\"13\" y=\"88.7573\">A1: Action</text><text fill=\"#000000\" font-family=\"sans-serif\" font-size=\"11\" lengthAdjust=\"spacingAndGlyphs\" textLength=\"56\" x=\"13\" y=\"101.562\">A2: Action</text><text fill=\"#000000\" font-family=\"sans-serif\" font-size=\"11\" lengthAdjust=\"spacingAndGlyphs\" textLength=\"56\" x=\"13\" y=\"114.3667\">A3: Action</text><line style=\"stroke: #383838; stroke-width: 1.0;\" x1=\"8\" x2=\"53.5\" y1=\"72.1445\" y2=\"72.1445\"/><text fill=\"#000000\" font-family=\"sans-serif\" font-size=\"11\" lengthAdjust=\"spacingAndGlyphs\" textLength=\"41\" x=\"53.5\" y=\"75.4526\">actions</text><line style=\"stroke: #383838; stroke-width: 1.0;\" x1=\"94.5\" x2=\"140\" y1=\"72.1445\" y2=\"72.1445\"/><text fill=\"#000000\" font-family=\"sans-serif\" font-size=\"11\" lengthAdjust=\"spacingAndGlyphs\" textLength=\"122\" x=\"13\" y=\"143.9761\">test x: DecisionAction</text><line style=\"stroke: #383838; stroke-width: 1.0;\" x1=\"8\" x2=\"32.5\" y1=\"127.3633\" y2=\"127.3633\"/><text fill=\"#000000\" font-family=\"sans-serif\" font-size=\"11\" lengthAdjust=\"spacingAndGlyphs\" textLength=\"83\" x=\"32.5\" y=\"130.6714\">decisionNodes</text><line style=\"stroke: #383838; stroke-width: 1.0;\" x1=\"115.5\" x2=\"140\" y1=\"127.3633\" y2=\"127.3633\"/><text fill=\"#000000\" font-family=\"sans-serif\" font-size=\"11\" lengthAdjust=\"spacingAndGlyphs\" textLength=\"73\" x=\"13\" y=\"173.5854\">S: Transition</text><line style=\"stroke: #383838; stroke-width: 1.0;\" x1=\"8\" x2=\"43.5\" y1=\"156.9727\" y2=\"156.9727\"/><text fill=\"#000000\" font-family=\"sans-serif\" font-size=\"11\" lengthAdjust=\"spacingAndGlyphs\" textLength=\"61\" x=\"43.5\" y=\"160.2808\">transitions</text><line style=\"stroke: #383838; stroke-width: 1.0;\" x1=\"104.5\" x2=\"140\" y1=\"156.9727\" y2=\"156.9727\"/><!--MD5=[aadc7a7d30f8ad5627aa7dae360e97e6]\n",
       "@startuml\r\n",
       "skinparam monochrome true\r\n",
       "skinparam classbackgroundcolor white\r\n",
       "skinparam shadowing false\r\n",
       "skinparam wrapWidth 300\r\n",
       "hide circle\r\n",
       "\r\n",
       "comp def \"DecisionTest\" as E1  <<(T,blue)action def>> {\r\n",
       "x: DataValue= 1; \r\n",
       "- -actions- -\r\n",
       "A1: Action\r\n",
       "A2: Action\r\n",
       "A3: Action\r\n",
       "- -decisionNodes- -\r\n",
       "test x: DecisionAction\r\n",
       "- -transitions- -\r\n",
       "S: Transition\r\n",
       "}\r\n",
       "@enduml\r\n",
       "\n",
       "PlantUML version 1.2020.13(Sat Jun 13 12:26:38 UTC 2020)\n",
       "(EPL source distribution)\n",
       "Java Runtime: OpenJDK Runtime Environment\n",
       "JVM: OpenJDK 64-Bit Server VM\n",
       "Default Encoding: UTF-8\n",
       "Language: en\n",
       "Country: null\n",
       "--></g></svg>"
      ]
     },
     "execution_count": 42,
     "metadata": {},
     "output_type": "execute_result"
    }
   ],
   "source": [
    "%viz --style=\"DEFAULT\" --view=\"Sequence\" \"DecisionTest\""
   ]
  },
  {
   "cell_type": "code",
   "execution_count": 43,
   "id": "moving-recorder",
   "metadata": {
    "execution": {
     "iopub.execute_input": "2021-03-25T16:06:14.814435Z",
     "iopub.status.busy": "2021-03-25T16:06:14.813908Z",
     "iopub.status.idle": "2021-03-25T16:06:14.877876Z",
     "shell.execute_reply": "2021-03-25T16:06:14.876541Z"
    }
   },
   "outputs": [
    {
     "data": {
      "image/svg+xml": [
       "<?xml version=\"1.0\" encoding=\"UTF-8\" standalone=\"no\"?><svg xmlns=\"http://www.w3.org/2000/svg\" xmlns:xlink=\"http://www.w3.org/1999/xlink\" contentScriptType=\"application/ecmascript\" contentStyleType=\"text/css\" height=\"517px\" preserveAspectRatio=\"none\" style=\"width:540px;height:517px;\" version=\"1.1\" viewBox=\"0 0 540 517\" width=\"540px\" zoomAndPan=\"magnify\"><defs/><g><!--MD5=[fbc87193dbaf4d95561dea2c320d4a47]\n",
       "cluster E1--><rect fill=\"#FFFFFF\" height=\"473\" style=\"stroke: #000000; stroke-width: 1.5;\" width=\"522\" x=\"7\" y=\"12.0986\"/><text fill=\"#000000\" font-family=\"sans-serif\" font-size=\"14\" font-weight=\"bold\" lengthAdjust=\"spacingAndGlyphs\" textLength=\"102\" x=\"217\" y=\"27.0938\">DecisionTest</text><!--MD5=[168fadf3d0c3fd93dd5d6da1b1d7ab76]\n",
       "cluster E7--><rect fill=\"#F8F8F8\" height=\"371\" rx=\"12.5\" ry=\"12.5\" style=\"stroke: #000000; stroke-width: 1.5;\" width=\"115\" x=\"340\" y=\"42.0986\"/><rect fill=\"#FFFFFF\" height=\"338.7031\" rx=\"12.5\" ry=\"12.5\" style=\"stroke: #FFFFFF; stroke-width: 1.0;\" width=\"109\" x=\"343\" y=\"71.3955\"/><line style=\"stroke: #000000; stroke-width: 1.5;\" x1=\"340\" x2=\"455\" y1=\"68.3955\" y2=\"68.3955\"/><text fill=\"#000000\" font-family=\"sans-serif\" font-size=\"14\" lengthAdjust=\"spacingAndGlyphs\" textLength=\"9\" x=\"393\" y=\"60.0938\">S</text><text fill=\"#000000\" font-family=\"sans-serif\" font-size=\"14\" lengthAdjust=\"spacingAndGlyphs\" textLength=\"48\" x=\"146\" y=\"504.0938\">$result</text><rect fill=\"#383838\" height=\"12\" style=\"stroke: #F8F8F8; stroke-width: 1.5;\" width=\"12\" x=\"164\" y=\"479.0986\"/><g id=\"E1.E3\"><rect fill=\"#FFFFFF\" height=\"50\" rx=\"12.5\" ry=\"12.5\" style=\"stroke: #383838; stroke-width: 1.5;\" width=\"58\" x=\"278\" y=\"297.0986\"/><line style=\"stroke: #383838; stroke-width: 1.5;\" x1=\"278\" x2=\"336\" y1=\"323.3955\" y2=\"323.3955\"/><text fill=\"#000000\" font-family=\"sans-serif\" font-size=\"14\" lengthAdjust=\"spacingAndGlyphs\" textLength=\"38\" x=\"288\" y=\"315.0938\">test x</text></g><g id=\"E1.E4\"><rect fill=\"#FFFFFF\" height=\"50\" rx=\"12.5\" ry=\"12.5\" style=\"stroke: #383838; stroke-width: 1.5;\" width=\"50\" x=\"193\" y=\"297.0986\"/><line style=\"stroke: #383838; stroke-width: 1.5;\" x1=\"193\" x2=\"243\" y1=\"323.3955\" y2=\"323.3955\"/><text fill=\"#000000\" font-family=\"sans-serif\" font-size=\"14\" lengthAdjust=\"spacingAndGlyphs\" textLength=\"18\" x=\"209\" y=\"315.0938\">A1</text></g><g id=\"E1.E5\"><rect fill=\"#FFFFFF\" height=\"50\" rx=\"12.5\" ry=\"12.5\" style=\"stroke: #383838; stroke-width: 1.5;\" width=\"50\" x=\"463\" y=\"297.0986\"/><line style=\"stroke: #383838; stroke-width: 1.5;\" x1=\"463\" x2=\"513\" y1=\"323.3955\" y2=\"323.3955\"/><text fill=\"#000000\" font-family=\"sans-serif\" font-size=\"14\" lengthAdjust=\"spacingAndGlyphs\" textLength=\"18\" x=\"479\" y=\"315.0938\">A2</text></g><g id=\"E1.E6\"><rect fill=\"#FFFFFF\" height=\"50\" rx=\"12.5\" ry=\"12.5\" style=\"stroke: #383838; stroke-width: 1.5;\" width=\"50\" x=\"108\" y=\"297.0986\"/><line style=\"stroke: #383838; stroke-width: 1.5;\" x1=\"108\" x2=\"158\" y1=\"323.3955\" y2=\"323.3955\"/><text fill=\"#000000\" font-family=\"sans-serif\" font-size=\"14\" lengthAdjust=\"spacingAndGlyphs\" textLength=\"18\" x=\"124\" y=\"315.0938\">A3</text></g><text fill=\"#000000\" font-family=\"sans-serif\" font-size=\"14\" lengthAdjust=\"spacingAndGlyphs\" textLength=\"48\" x=\"334\" y=\"432.0938\">$result</text><rect fill=\"#383838\" height=\"12\" style=\"stroke: #F8F8F8; stroke-width: 1.5;\" width=\"12\" x=\"352\" y=\"407.0986\"/><text fill=\"#000000\" font-family=\"sans-serif\" font-size=\"14\" lengthAdjust=\"spacingAndGlyphs\" textLength=\"16\" x=\"350\" y=\"20.7969\">$x</text><rect fill=\"#383838\" height=\"12\" style=\"stroke: #F8F8F8; stroke-width: 1.5;\" width=\"12\" x=\"352\" y=\"36.0986\"/><text fill=\"#000000\" font-family=\"sans-serif\" font-size=\"14\" lengthAdjust=\"spacingAndGlyphs\" textLength=\"16\" x=\"397\" y=\"20.7969\">$y</text><rect fill=\"#383838\" height=\"12\" style=\"stroke: #F8F8F8; stroke-width: 1.5;\" width=\"12\" x=\"399\" y=\"36.0986\"/><text fill=\"#000000\" font-family=\"sans-serif\" font-size=\"14\" lengthAdjust=\"spacingAndGlyphs\" textLength=\"48\" x=\"381\" y=\"432.0938\">$result</text><rect fill=\"#383838\" height=\"12\" style=\"stroke: #F8F8F8; stroke-width: 1.5;\" width=\"12\" x=\"399\" y=\"407.0986\"/><g id=\"E1.E7.E8\"><rect fill=\"#FFFFFF\" height=\"50\" rx=\"12.5\" ry=\"12.5\" style=\"stroke: #383838; stroke-width: 1.5;\" width=\"50\" x=\"360\" y=\"187.0986\"/><line style=\"stroke: #383838; stroke-width: 1.5;\" x1=\"360\" x2=\"410\" y1=\"213.3955\" y2=\"213.3955\"/><text fill=\"#000000\" font-family=\"sans-serif\" font-size=\"14\" lengthAdjust=\"spacingAndGlyphs\" textLength=\"18\" x=\"376\" y=\"205.0938\">A1</text></g><g id=\"E1.E13\"><rect fill=\"#FFFFFF\" height=\"50\" rx=\"12.5\" ry=\"12.5\" style=\"stroke: #383838; stroke-width: 1.5;\" width=\"50\" x=\"23\" y=\"297.0986\"/><line style=\"stroke: #383838; stroke-width: 1.5;\" x1=\"23\" x2=\"73\" y1=\"323.3955\" y2=\"323.3955\"/><text fill=\"#000000\" font-family=\"sans-serif\" font-size=\"14\" lengthAdjust=\"spacingAndGlyphs\" textLength=\"18\" x=\"39\" y=\"315.0938\">A3</text></g><!--MD5=[7fa823448867f45d961c344e849ff405]\n",
       "link E11 to E9--><path d=\"M407.61,48.2686 C412.41,58.0686 422.44,80.1686 426,100.0986 C430.82,127.1186 432.87,321.8886 422,347.0986 C409.46,376.1886 377.45,399.4986 364.05,408.3086 \" fill=\"none\" id=\"E11-E9\" style=\"stroke: #383838; stroke-width: 5.0;\"/><!--MD5=[1ccb2481ffa92f8d51a74ee30c51832a]\n",
       "link E8 to E5--><path d=\"M408.12,237.3386 C423.89,253.8686 444.82,275.8186 461.3,293.1086 \" fill=\"none\" id=\"E8-&gt;E5\" style=\"stroke: #383838; stroke-width: 1.0;\"/><polygon fill=\"#383838\" points=\"464.96,296.9386,461.667,287.6566,461.5185,293.3115,455.8636,293.163,464.96,296.9386\" style=\"stroke: #383838; stroke-width: 1.0;\"/><!--MD5=[cea690ce7280792f2c37e91a39a614ae]\n",
       "@startuml\r\n",
       "skinparam monochrome true\r\n",
       "skinparam classbackgroundcolor white\r\n",
       "skinparam shadowing false\r\n",
       "skinparam wrapWidth 300\r\n",
       "hide circle\r\n",
       "\r\n",
       "rec def \"DecisionTest\" as E1 {\r\n",
       "portout \"$result\" as E2  \r\n",
       "rec usage \"test x\" as E3 {\r\n",
       "}\r\n",
       "\r\n",
       "rec usage \"A1\" as E4 {\r\n",
       "}\r\n",
       "\r\n",
       "rec usage \"A2\" as E5 {\r\n",
       "}\r\n",
       "\r\n",
       "rec usage \"A3\" as E6 {\r\n",
       "}\r\n",
       "\r\n",
       "rec usage \"S\" as E7 {\r\n",
       "rec usage \"A1\" as E8 {\r\n",
       "}\r\n",
       "\r\n",
       "portout \"$result\" as E9  \r\n",
       "portin \"$x\" as E10  \r\n",
       "portin \"$y\" as E11  \r\n",
       "portout \"$result\" as E12  \r\n",
       "}\r\n",
       "\r\n",
       "rec usage \"A3\" as E13 {\r\n",
       "}\r\n",
       "\r\n",
       "}\r\n",
       "\r\n",
       "E11 -[thickness=5]- E9\r\n",
       "E8 - -> E5\r\n",
       "@enduml\r\n",
       "\n",
       "PlantUML version 1.2020.13(Sat Jun 13 12:26:38 UTC 2020)\n",
       "(EPL source distribution)\n",
       "Java Runtime: OpenJDK Runtime Environment\n",
       "JVM: OpenJDK 64-Bit Server VM\n",
       "Default Encoding: UTF-8\n",
       "Language: en\n",
       "Country: null\n",
       "--></g></svg>"
      ]
     },
     "execution_count": 43,
     "metadata": {},
     "output_type": "execute_result"
    }
   ],
   "source": [
    "%viz --style=\"DEFAULT\" --view=\"MIXED\" \"DecisionTest\""
   ]
  },
  {
   "cell_type": "code",
   "execution_count": 44,
   "id": "frozen-heating",
   "metadata": {
    "execution": {
     "iopub.execute_input": "2021-03-25T16:06:14.930493Z",
     "iopub.status.busy": "2021-03-25T16:06:14.929467Z",
     "iopub.status.idle": "2021-03-25T16:06:14.996764Z",
     "shell.execute_reply": "2021-03-25T16:06:14.995153Z"
    }
   },
   "outputs": [
    {
     "data": {
      "image/svg+xml": [
       "<?xml version=\"1.0\" encoding=\"UTF-8\" standalone=\"no\"?><svg xmlns=\"http://www.w3.org/2000/svg\" xmlns:xlink=\"http://www.w3.org/1999/xlink\" contentScriptType=\"application/ecmascript\" contentStyleType=\"text/css\" height=\"517px\" preserveAspectRatio=\"none\" style=\"width:540px;height:517px;\" version=\"1.1\" viewBox=\"0 0 540 517\" width=\"540px\" zoomAndPan=\"magnify\"><defs/><g><!--MD5=[fbc87193dbaf4d95561dea2c320d4a47]\n",
       "cluster E1--><rect fill=\"#FFFFFF\" height=\"473\" style=\"stroke: #000000; stroke-width: 1.5;\" width=\"522\" x=\"7\" y=\"12.0986\"/><text fill=\"#000000\" font-family=\"sans-serif\" font-size=\"14\" font-weight=\"bold\" lengthAdjust=\"spacingAndGlyphs\" textLength=\"102\" x=\"217\" y=\"27.0938\">DecisionTest</text><!--MD5=[168fadf3d0c3fd93dd5d6da1b1d7ab76]\n",
       "cluster E7--><rect fill=\"#F8F8F8\" height=\"371\" rx=\"12.5\" ry=\"12.5\" style=\"stroke: #000000; stroke-width: 1.5;\" width=\"115\" x=\"340\" y=\"42.0986\"/><rect fill=\"#FFFFFF\" height=\"338.7031\" rx=\"12.5\" ry=\"12.5\" style=\"stroke: #FFFFFF; stroke-width: 1.0;\" width=\"109\" x=\"343\" y=\"71.3955\"/><line style=\"stroke: #000000; stroke-width: 1.5;\" x1=\"340\" x2=\"455\" y1=\"68.3955\" y2=\"68.3955\"/><text fill=\"#000000\" font-family=\"sans-serif\" font-size=\"14\" lengthAdjust=\"spacingAndGlyphs\" textLength=\"9\" x=\"393\" y=\"60.0938\">S</text><text fill=\"#000000\" font-family=\"sans-serif\" font-size=\"14\" lengthAdjust=\"spacingAndGlyphs\" textLength=\"48\" x=\"146\" y=\"504.0938\">$result</text><rect fill=\"#383838\" height=\"12\" style=\"stroke: #F8F8F8; stroke-width: 1.5;\" width=\"12\" x=\"164\" y=\"479.0986\"/><g id=\"E1.E3\"><rect fill=\"#FFFFFF\" height=\"50\" rx=\"12.5\" ry=\"12.5\" style=\"stroke: #383838; stroke-width: 1.5;\" width=\"58\" x=\"278\" y=\"297.0986\"/><line style=\"stroke: #383838; stroke-width: 1.5;\" x1=\"278\" x2=\"336\" y1=\"323.3955\" y2=\"323.3955\"/><text fill=\"#000000\" font-family=\"sans-serif\" font-size=\"14\" lengthAdjust=\"spacingAndGlyphs\" textLength=\"38\" x=\"288\" y=\"315.0938\">test x</text></g><g id=\"E1.E4\"><rect fill=\"#FFFFFF\" height=\"50\" rx=\"12.5\" ry=\"12.5\" style=\"stroke: #383838; stroke-width: 1.5;\" width=\"50\" x=\"193\" y=\"297.0986\"/><line style=\"stroke: #383838; stroke-width: 1.5;\" x1=\"193\" x2=\"243\" y1=\"323.3955\" y2=\"323.3955\"/><text fill=\"#000000\" font-family=\"sans-serif\" font-size=\"14\" lengthAdjust=\"spacingAndGlyphs\" textLength=\"18\" x=\"209\" y=\"315.0938\">A1</text></g><g id=\"E1.E5\"><rect fill=\"#FFFFFF\" height=\"50\" rx=\"12.5\" ry=\"12.5\" style=\"stroke: #383838; stroke-width: 1.5;\" width=\"50\" x=\"463\" y=\"297.0986\"/><line style=\"stroke: #383838; stroke-width: 1.5;\" x1=\"463\" x2=\"513\" y1=\"323.3955\" y2=\"323.3955\"/><text fill=\"#000000\" font-family=\"sans-serif\" font-size=\"14\" lengthAdjust=\"spacingAndGlyphs\" textLength=\"18\" x=\"479\" y=\"315.0938\">A2</text></g><g id=\"E1.E6\"><rect fill=\"#FFFFFF\" height=\"50\" rx=\"12.5\" ry=\"12.5\" style=\"stroke: #383838; stroke-width: 1.5;\" width=\"50\" x=\"108\" y=\"297.0986\"/><line style=\"stroke: #383838; stroke-width: 1.5;\" x1=\"108\" x2=\"158\" y1=\"323.3955\" y2=\"323.3955\"/><text fill=\"#000000\" font-family=\"sans-serif\" font-size=\"14\" lengthAdjust=\"spacingAndGlyphs\" textLength=\"18\" x=\"124\" y=\"315.0938\">A3</text></g><text fill=\"#000000\" font-family=\"sans-serif\" font-size=\"14\" lengthAdjust=\"spacingAndGlyphs\" textLength=\"48\" x=\"334\" y=\"432.0938\">$result</text><rect fill=\"#383838\" height=\"12\" style=\"stroke: #F8F8F8; stroke-width: 1.5;\" width=\"12\" x=\"352\" y=\"407.0986\"/><text fill=\"#000000\" font-family=\"sans-serif\" font-size=\"14\" lengthAdjust=\"spacingAndGlyphs\" textLength=\"16\" x=\"350\" y=\"20.7969\">$x</text><rect fill=\"#383838\" height=\"12\" style=\"stroke: #F8F8F8; stroke-width: 1.5;\" width=\"12\" x=\"352\" y=\"36.0986\"/><text fill=\"#000000\" font-family=\"sans-serif\" font-size=\"14\" lengthAdjust=\"spacingAndGlyphs\" textLength=\"16\" x=\"397\" y=\"20.7969\">$y</text><rect fill=\"#383838\" height=\"12\" style=\"stroke: #F8F8F8; stroke-width: 1.5;\" width=\"12\" x=\"399\" y=\"36.0986\"/><text fill=\"#000000\" font-family=\"sans-serif\" font-size=\"14\" lengthAdjust=\"spacingAndGlyphs\" textLength=\"48\" x=\"381\" y=\"432.0938\">$result</text><rect fill=\"#383838\" height=\"12\" style=\"stroke: #F8F8F8; stroke-width: 1.5;\" width=\"12\" x=\"399\" y=\"407.0986\"/><g id=\"E1.E7.E8\"><rect fill=\"#FFFFFF\" height=\"50\" rx=\"12.5\" ry=\"12.5\" style=\"stroke: #383838; stroke-width: 1.5;\" width=\"50\" x=\"360\" y=\"187.0986\"/><line style=\"stroke: #383838; stroke-width: 1.5;\" x1=\"360\" x2=\"410\" y1=\"213.3955\" y2=\"213.3955\"/><text fill=\"#000000\" font-family=\"sans-serif\" font-size=\"14\" lengthAdjust=\"spacingAndGlyphs\" textLength=\"18\" x=\"376\" y=\"205.0938\">A1</text></g><g id=\"E1.E13\"><rect fill=\"#FFFFFF\" height=\"50\" rx=\"12.5\" ry=\"12.5\" style=\"stroke: #383838; stroke-width: 1.5;\" width=\"50\" x=\"23\" y=\"297.0986\"/><line style=\"stroke: #383838; stroke-width: 1.5;\" x1=\"23\" x2=\"73\" y1=\"323.3955\" y2=\"323.3955\"/><text fill=\"#000000\" font-family=\"sans-serif\" font-size=\"14\" lengthAdjust=\"spacingAndGlyphs\" textLength=\"18\" x=\"39\" y=\"315.0938\">A3</text></g><!--MD5=[7fa823448867f45d961c344e849ff405]\n",
       "link E11 to E9--><path d=\"M407.61,48.2686 C412.41,58.0686 422.44,80.1686 426,100.0986 C430.82,127.1186 432.87,321.8886 422,347.0986 C409.46,376.1886 377.45,399.4986 364.05,408.3086 \" fill=\"none\" id=\"E11-E9\" style=\"stroke: #383838; stroke-width: 5.0;\"/><!--MD5=[1ccb2481ffa92f8d51a74ee30c51832a]\n",
       "link E8 to E5--><path d=\"M408.12,237.3386 C423.89,253.8686 444.82,275.8186 461.3,293.1086 \" fill=\"none\" id=\"E8-&gt;E5\" style=\"stroke: #383838; stroke-width: 1.0;\"/><polygon fill=\"#383838\" points=\"464.96,296.9386,461.667,287.6566,461.5185,293.3115,455.8636,293.163,464.96,296.9386\" style=\"stroke: #383838; stroke-width: 1.0;\"/><!--MD5=[5e48f819db256389f919e1547a6d6e45]\n",
       "@startuml\r\n",
       "top to bottom direction\r\n",
       "skinparam monochrome true\r\n",
       "skinparam classbackgroundcolor white\r\n",
       "skinparam shadowing false\r\n",
       "skinparam wrapWidth 300\r\n",
       "hide circle\r\n",
       "\r\n",
       "rec def \"DecisionTest\" as E1 {\r\n",
       "portout \"$result\" as E2  \r\n",
       "rec usage \"test x\" as E3 {\r\n",
       "}\r\n",
       "\r\n",
       "rec usage \"A1\" as E4 {\r\n",
       "}\r\n",
       "\r\n",
       "rec usage \"A2\" as E5 {\r\n",
       "}\r\n",
       "\r\n",
       "rec usage \"A3\" as E6 {\r\n",
       "}\r\n",
       "\r\n",
       "rec usage \"S\" as E7 {\r\n",
       "rec usage \"A1\" as E8 {\r\n",
       "}\r\n",
       "\r\n",
       "portout \"$result\" as E9  \r\n",
       "portin \"$x\" as E10  \r\n",
       "portin \"$y\" as E11  \r\n",
       "portout \"$result\" as E12  \r\n",
       "}\r\n",
       "\r\n",
       "rec usage \"A3\" as E13 {\r\n",
       "}\r\n",
       "\r\n",
       "}\r\n",
       "\r\n",
       "E11 -[thickness=5]- E9\r\n",
       "E8 - -> E5\r\n",
       "@enduml\r\n",
       "\n",
       "PlantUML version 1.2020.13(Sat Jun 13 12:26:38 UTC 2020)\n",
       "(EPL source distribution)\n",
       "Java Runtime: OpenJDK Runtime Environment\n",
       "JVM: OpenJDK 64-Bit Server VM\n",
       "Default Encoding: UTF-8\n",
       "Language: en\n",
       "Country: null\n",
       "--></g></svg>"
      ]
     },
     "execution_count": 44,
     "metadata": {},
     "output_type": "execute_result"
    }
   ],
   "source": [
    "%viz --style=\"TB\" --view=\"Default\" \"DecisionTest\""
   ]
  },
  {
   "cell_type": "code",
   "execution_count": 45,
   "id": "hungarian-beverage",
   "metadata": {
    "execution": {
     "iopub.execute_input": "2021-03-25T16:06:15.047279Z",
     "iopub.status.busy": "2021-03-25T16:06:15.046702Z",
     "iopub.status.idle": "2021-03-25T16:06:16.266327Z",
     "shell.execute_reply": "2021-03-25T16:06:16.265875Z"
    }
   },
   "outputs": [
    {
     "data": {
      "image/svg+xml": [
       "<?xml version=\"1.0\" encoding=\"UTF-8\" standalone=\"no\"?><svg xmlns=\"http://www.w3.org/2000/svg\" xmlns:xlink=\"http://www.w3.org/1999/xlink\" contentScriptType=\"application/ecmascript\" contentStyleType=\"text/css\" height=\"191px\" preserveAspectRatio=\"none\" style=\"width:152px;height:191px;\" version=\"1.1\" viewBox=\"0 0 152 191\" width=\"152px\" zoomAndPan=\"magnify\"><defs/><g><!--MD5=[43c9051892ef23e1a46a86907403d788]\n",
       "class E1--><rect fill=\"#FFFFFF\" height=\"173.1797\" id=\"E1\" style=\"stroke: #383838; stroke-width: 1.5;\" width=\"134\" x=\"7\" y=\"7\"/><text fill=\"#000000\" font-family=\"sans-serif\" font-size=\"12\" font-style=\"italic\" lengthAdjust=\"spacingAndGlyphs\" textLength=\"77\" x=\"35.5\" y=\"23.1387\">«action def»</text><text fill=\"#000000\" font-family=\"sans-serif\" font-size=\"12\" lengthAdjust=\"spacingAndGlyphs\" textLength=\"80\" x=\"34\" y=\"37.1074\">DecisionTest</text><line style=\"stroke: #383838; stroke-width: 1.5;\" x1=\"8\" x2=\"140\" y1=\"44.9375\" y2=\"44.9375\"/><text fill=\"#000000\" font-family=\"sans-serif\" font-size=\"11\" lengthAdjust=\"spacingAndGlyphs\" textLength=\"95\" x=\"13\" y=\"59.1479\">x: DataValue= 1;</text><text fill=\"#000000\" font-family=\"sans-serif\" font-size=\"11\" lengthAdjust=\"spacingAndGlyphs\" textLength=\"56\" x=\"13\" y=\"88.7573\">A1: Action</text><text fill=\"#000000\" font-family=\"sans-serif\" font-size=\"11\" lengthAdjust=\"spacingAndGlyphs\" textLength=\"56\" x=\"13\" y=\"101.562\">A2: Action</text><text fill=\"#000000\" font-family=\"sans-serif\" font-size=\"11\" lengthAdjust=\"spacingAndGlyphs\" textLength=\"56\" x=\"13\" y=\"114.3667\">A3: Action</text><line style=\"stroke: #383838; stroke-width: 1.0;\" x1=\"8\" x2=\"53.5\" y1=\"72.1445\" y2=\"72.1445\"/><text fill=\"#000000\" font-family=\"sans-serif\" font-size=\"11\" lengthAdjust=\"spacingAndGlyphs\" textLength=\"41\" x=\"53.5\" y=\"75.4526\">actions</text><line style=\"stroke: #383838; stroke-width: 1.0;\" x1=\"94.5\" x2=\"140\" y1=\"72.1445\" y2=\"72.1445\"/><text fill=\"#000000\" font-family=\"sans-serif\" font-size=\"11\" lengthAdjust=\"spacingAndGlyphs\" textLength=\"122\" x=\"13\" y=\"143.9761\">test x: DecisionAction</text><line style=\"stroke: #383838; stroke-width: 1.0;\" x1=\"8\" x2=\"32.5\" y1=\"127.3633\" y2=\"127.3633\"/><text fill=\"#000000\" font-family=\"sans-serif\" font-size=\"11\" lengthAdjust=\"spacingAndGlyphs\" textLength=\"83\" x=\"32.5\" y=\"130.6714\">decisionNodes</text><line style=\"stroke: #383838; stroke-width: 1.0;\" x1=\"115.5\" x2=\"140\" y1=\"127.3633\" y2=\"127.3633\"/><text fill=\"#000000\" font-family=\"sans-serif\" font-size=\"11\" lengthAdjust=\"spacingAndGlyphs\" textLength=\"73\" x=\"13\" y=\"173.5854\">S: Transition</text><line style=\"stroke: #383838; stroke-width: 1.0;\" x1=\"8\" x2=\"43.5\" y1=\"156.9727\" y2=\"156.9727\"/><text fill=\"#000000\" font-family=\"sans-serif\" font-size=\"11\" lengthAdjust=\"spacingAndGlyphs\" textLength=\"61\" x=\"43.5\" y=\"160.2808\">transitions</text><line style=\"stroke: #383838; stroke-width: 1.0;\" x1=\"104.5\" x2=\"140\" y1=\"156.9727\" y2=\"156.9727\"/><!--MD5=[d9d0f3624638b53425db0d6b55ce39f1]\n",
       "@startuml\r\n",
       "top to bottom direction\r\n",
       "skinparam monochrome true\r\n",
       "skinparam classbackgroundcolor white\r\n",
       "skinparam shadowing false\r\n",
       "skinparam wrapWidth 300\r\n",
       "hide circle\r\n",
       "\r\n",
       "comp def \"DecisionTest\" as E1  <<(T,blue)action def>> {\r\n",
       "x: DataValue= 1; \r\n",
       "- -actions- -\r\n",
       "A1: Action\r\n",
       "A2: Action\r\n",
       "A3: Action\r\n",
       "- -decisionNodes- -\r\n",
       "test x: DecisionAction\r\n",
       "- -transitions- -\r\n",
       "S: Transition\r\n",
       "}\r\n",
       "@enduml\r\n",
       "\n",
       "PlantUML version 1.2020.13(Sat Jun 13 12:26:38 UTC 2020)\n",
       "(EPL source distribution)\n",
       "Java Runtime: OpenJDK Runtime Environment\n",
       "JVM: OpenJDK 64-Bit Server VM\n",
       "Default Encoding: UTF-8\n",
       "Language: en\n",
       "Country: null\n",
       "--></g></svg>"
      ]
     },
     "execution_count": 45,
     "metadata": {},
     "output_type": "execute_result"
    }
   ],
   "source": [
    "%viz --style=\"TB\" --view=\"Tree\" \"DecisionTest\""
   ]
  },
  {
   "cell_type": "code",
   "execution_count": 46,
   "id": "worth-registration",
   "metadata": {
    "execution": {
     "iopub.execute_input": "2021-03-25T16:06:16.318136Z",
     "iopub.status.busy": "2021-03-25T16:06:16.316765Z",
     "iopub.status.idle": "2021-03-25T16:06:16.321856Z",
     "shell.execute_reply": "2021-03-25T16:06:16.321434Z"
    }
   },
   "outputs": [
    {
     "data": {
      "text/plain": [
       "java.lang.IllegalArgumentException: Invalid View: State View candidates are: Default Tree StateMachine Interconnection Activity Sequence MIXED \n",
       "\tat org.omg.sysml.plantuml.SysML2PlantUMLSvc.setView(SysML2PlantUMLSvc.java:63)\n",
       "\tat org.omg.sysml.interactive.SysMLInteractive.viz(SysMLInteractive.java:286)\n",
       "\tat org.omg.sysml.jupyter.kernel.magic.Viz.viz(Viz.java:47)\n",
       "\tat jdk.internal.reflect.GeneratedMethodAccessor15.invoke(Unknown Source)\n",
       "\tat java.base/jdk.internal.reflect.DelegatingMethodAccessorImpl.invoke(DelegatingMethodAccessorImpl.java:43)\n",
       "\tat java.base/java.lang.reflect.Method.invoke(Method.java:568)\n",
       "\tat io.github.spencerpark.jupyter.kernel.magic.registry.Magics.invoke(Magics.java:89)\n",
       "\tat io.github.spencerpark.jupyter.kernel.magic.registry.Magics.access$000(Magics.java:8)\n",
       "\tat io.github.spencerpark.jupyter.kernel.magic.registry.Magics$LineReflectionMagicFunction.execute(Magics.java:149)\n",
       "\tat io.github.spencerpark.jupyter.kernel.magic.registry.Magics.applyLineMagic(Magics.java:26)\n",
       "\tat org.omg.sysml.jupyter.kernel.SysMLKernel.eval(SysMLKernel.java:76)\n",
       "\tat io.github.spencerpark.jupyter.kernel.BaseKernel.handleExecuteRequest(BaseKernel.java:334)\n",
       "\tat io.github.spencerpark.jupyter.channels.ShellChannel.lambda$bind$0(ShellChannel.java:64)\n",
       "\tat io.github.spencerpark.jupyter.channels.Loop.lambda$new$0(Loop.java:21)\n",
       "\tat io.github.spencerpark.jupyter.channels.Loop.run(Loop.java:78)\n"
      ]
     },
     "execution_count": 46,
     "metadata": {},
     "output_type": "execute_result"
    }
   ],
   "source": [
    "%viz --style=\"TB\" --view=\"State\" \"DecisionTest\""
   ]
  },
  {
   "cell_type": "code",
   "execution_count": 47,
   "id": "comic-convenience",
   "metadata": {
    "execution": {
     "iopub.execute_input": "2021-03-25T16:06:16.373782Z",
     "iopub.status.busy": "2021-03-25T16:06:16.373285Z",
     "iopub.status.idle": "2021-03-25T16:06:16.399628Z",
     "shell.execute_reply": "2021-03-25T16:06:16.399003Z"
    }
   },
   "outputs": [
    {
     "data": {
      "image/svg+xml": [
       "<?xml version=\"1.0\" encoding=\"UTF-8\" standalone=\"no\"?><svg xmlns=\"http://www.w3.org/2000/svg\" xmlns:xlink=\"http://www.w3.org/1999/xlink\" contentScriptType=\"application/ecmascript\" contentStyleType=\"text/css\" height=\"71px\" preserveAspectRatio=\"none\" style=\"width:104px;height:71px;\" version=\"1.1\" viewBox=\"0 0 104 71\" width=\"104px\" zoomAndPan=\"magnify\"><defs/><g><!--MD5=[43c9051892ef23e1a46a86907403d788]\n",
       "class E1--><rect fill=\"#FFFFFF\" height=\"53.9375\" id=\"E1\" style=\"stroke: #383838; stroke-width: 1.5;\" width=\"86\" x=\"7\" y=\"7\"/><text fill=\"#000000\" font-family=\"sans-serif\" font-size=\"12\" font-style=\"italic\" lengthAdjust=\"spacingAndGlyphs\" textLength=\"77\" x=\"11.5\" y=\"23.1387\">«action def»</text><text fill=\"#000000\" font-family=\"sans-serif\" font-size=\"12\" lengthAdjust=\"spacingAndGlyphs\" textLength=\"80\" x=\"10\" y=\"37.1074\">DecisionTest</text><line style=\"stroke: #383838; stroke-width: 1.5;\" x1=\"8\" x2=\"92\" y1=\"44.9375\" y2=\"44.9375\"/><line style=\"stroke: #383838; stroke-width: 1.5;\" x1=\"8\" x2=\"92\" y1=\"52.9375\" y2=\"52.9375\"/><!--MD5=[c3154ffc49cc16212d760fb5688562d4]\n",
       "@startuml\r\n",
       "skinparam ranksep 8\r\n",
       "skinparam rectangle {\r\n",
       " backgroundColor<<block>> LightGreen\r\n",
       "}\r\n",
       "top to bottom direction\r\n",
       "skinparam monochrome true\r\n",
       "skinparam classbackgroundcolor white\r\n",
       "skinparam shadowing false\r\n",
       "skinparam wrapWidth 300\r\n",
       "hide circle\r\n",
       "\r\n",
       "def \"DecisionTest\" as E1  <<action def>> \r\n",
       "@enduml\r\n",
       "\n",
       "PlantUML version 1.2020.13(Sat Jun 13 12:26:38 UTC 2020)\n",
       "(EPL source distribution)\n",
       "Java Runtime: OpenJDK Runtime Environment\n",
       "JVM: OpenJDK 64-Bit Server VM\n",
       "Default Encoding: UTF-8\n",
       "Language: en\n",
       "Country: null\n",
       "--></g></svg>"
      ]
     },
     "execution_count": 47,
     "metadata": {},
     "output_type": "execute_result"
    }
   ],
   "source": [
    "%viz --style=\"TB\" --view=\"Interconnection\" \"DecisionTest\""
   ]
  },
  {
   "cell_type": "code",
   "execution_count": 48,
   "id": "satisfied-adobe",
   "metadata": {
    "execution": {
     "iopub.execute_input": "2021-03-25T16:06:16.450303Z",
     "iopub.status.busy": "2021-03-25T16:06:16.449759Z",
     "iopub.status.idle": "2021-03-25T16:06:16.454539Z",
     "shell.execute_reply": "2021-03-25T16:06:16.453988Z"
    }
   },
   "outputs": [
    {
     "data": {
      "text/plain": [
       "java.lang.IllegalArgumentException: Invalid View: Action View candidates are: Default Tree StateMachine Interconnection Activity Sequence MIXED \n",
       "\tat org.omg.sysml.plantuml.SysML2PlantUMLSvc.setView(SysML2PlantUMLSvc.java:63)\n",
       "\tat org.omg.sysml.interactive.SysMLInteractive.viz(SysMLInteractive.java:286)\n",
       "\tat org.omg.sysml.jupyter.kernel.magic.Viz.viz(Viz.java:47)\n",
       "\tat jdk.internal.reflect.GeneratedMethodAccessor15.invoke(Unknown Source)\n",
       "\tat java.base/jdk.internal.reflect.DelegatingMethodAccessorImpl.invoke(DelegatingMethodAccessorImpl.java:43)\n",
       "\tat java.base/java.lang.reflect.Method.invoke(Method.java:568)\n",
       "\tat io.github.spencerpark.jupyter.kernel.magic.registry.Magics.invoke(Magics.java:89)\n",
       "\tat io.github.spencerpark.jupyter.kernel.magic.registry.Magics.access$000(Magics.java:8)\n",
       "\tat io.github.spencerpark.jupyter.kernel.magic.registry.Magics$LineReflectionMagicFunction.execute(Magics.java:149)\n",
       "\tat io.github.spencerpark.jupyter.kernel.magic.registry.Magics.applyLineMagic(Magics.java:26)\n",
       "\tat org.omg.sysml.jupyter.kernel.SysMLKernel.eval(SysMLKernel.java:76)\n",
       "\tat io.github.spencerpark.jupyter.kernel.BaseKernel.handleExecuteRequest(BaseKernel.java:334)\n",
       "\tat io.github.spencerpark.jupyter.channels.ShellChannel.lambda$bind$0(ShellChannel.java:64)\n",
       "\tat io.github.spencerpark.jupyter.channels.Loop.lambda$new$0(Loop.java:21)\n",
       "\tat io.github.spencerpark.jupyter.channels.Loop.run(Loop.java:78)\n"
      ]
     },
     "execution_count": 48,
     "metadata": {},
     "output_type": "execute_result"
    }
   ],
   "source": [
    "%viz --style=\"TB\" --view=\"Action\" \"DecisionTest\""
   ]
  },
  {
   "cell_type": "code",
   "execution_count": 49,
   "id": "approved-belfast",
   "metadata": {
    "execution": {
     "iopub.execute_input": "2021-03-25T16:06:16.504813Z",
     "iopub.status.busy": "2021-03-25T16:06:16.504238Z",
     "iopub.status.idle": "2021-03-25T16:06:17.750877Z",
     "shell.execute_reply": "2021-03-25T16:06:17.750545Z"
    }
   },
   "outputs": [
    {
     "data": {
      "image/svg+xml": [
       "<?xml version=\"1.0\" encoding=\"UTF-8\" standalone=\"no\"?><svg xmlns=\"http://www.w3.org/2000/svg\" xmlns:xlink=\"http://www.w3.org/1999/xlink\" contentScriptType=\"application/ecmascript\" contentStyleType=\"text/css\" height=\"191px\" preserveAspectRatio=\"none\" style=\"width:152px;height:191px;\" version=\"1.1\" viewBox=\"0 0 152 191\" width=\"152px\" zoomAndPan=\"magnify\"><defs/><g><!--MD5=[43c9051892ef23e1a46a86907403d788]\n",
       "class E1--><rect fill=\"#FFFFFF\" height=\"173.1797\" id=\"E1\" style=\"stroke: #383838; stroke-width: 1.5;\" width=\"134\" x=\"7\" y=\"7\"/><text fill=\"#000000\" font-family=\"sans-serif\" font-size=\"12\" font-style=\"italic\" lengthAdjust=\"spacingAndGlyphs\" textLength=\"77\" x=\"35.5\" y=\"23.1387\">«action def»</text><text fill=\"#000000\" font-family=\"sans-serif\" font-size=\"12\" lengthAdjust=\"spacingAndGlyphs\" textLength=\"80\" x=\"34\" y=\"37.1074\">DecisionTest</text><line style=\"stroke: #383838; stroke-width: 1.5;\" x1=\"8\" x2=\"140\" y1=\"44.9375\" y2=\"44.9375\"/><text fill=\"#000000\" font-family=\"sans-serif\" font-size=\"11\" lengthAdjust=\"spacingAndGlyphs\" textLength=\"95\" x=\"13\" y=\"59.1479\">x: DataValue= 1;</text><text fill=\"#000000\" font-family=\"sans-serif\" font-size=\"11\" lengthAdjust=\"spacingAndGlyphs\" textLength=\"56\" x=\"13\" y=\"88.7573\">A1: Action</text><text fill=\"#000000\" font-family=\"sans-serif\" font-size=\"11\" lengthAdjust=\"spacingAndGlyphs\" textLength=\"56\" x=\"13\" y=\"101.562\">A2: Action</text><text fill=\"#000000\" font-family=\"sans-serif\" font-size=\"11\" lengthAdjust=\"spacingAndGlyphs\" textLength=\"56\" x=\"13\" y=\"114.3667\">A3: Action</text><line style=\"stroke: #383838; stroke-width: 1.0;\" x1=\"8\" x2=\"53.5\" y1=\"72.1445\" y2=\"72.1445\"/><text fill=\"#000000\" font-family=\"sans-serif\" font-size=\"11\" lengthAdjust=\"spacingAndGlyphs\" textLength=\"41\" x=\"53.5\" y=\"75.4526\">actions</text><line style=\"stroke: #383838; stroke-width: 1.0;\" x1=\"94.5\" x2=\"140\" y1=\"72.1445\" y2=\"72.1445\"/><text fill=\"#000000\" font-family=\"sans-serif\" font-size=\"11\" lengthAdjust=\"spacingAndGlyphs\" textLength=\"122\" x=\"13\" y=\"143.9761\">test x: DecisionAction</text><line style=\"stroke: #383838; stroke-width: 1.0;\" x1=\"8\" x2=\"32.5\" y1=\"127.3633\" y2=\"127.3633\"/><text fill=\"#000000\" font-family=\"sans-serif\" font-size=\"11\" lengthAdjust=\"spacingAndGlyphs\" textLength=\"83\" x=\"32.5\" y=\"130.6714\">decisionNodes</text><line style=\"stroke: #383838; stroke-width: 1.0;\" x1=\"115.5\" x2=\"140\" y1=\"127.3633\" y2=\"127.3633\"/><text fill=\"#000000\" font-family=\"sans-serif\" font-size=\"11\" lengthAdjust=\"spacingAndGlyphs\" textLength=\"73\" x=\"13\" y=\"173.5854\">S: Transition</text><line style=\"stroke: #383838; stroke-width: 1.0;\" x1=\"8\" x2=\"43.5\" y1=\"156.9727\" y2=\"156.9727\"/><text fill=\"#000000\" font-family=\"sans-serif\" font-size=\"11\" lengthAdjust=\"spacingAndGlyphs\" textLength=\"61\" x=\"43.5\" y=\"160.2808\">transitions</text><line style=\"stroke: #383838; stroke-width: 1.0;\" x1=\"104.5\" x2=\"140\" y1=\"156.9727\" y2=\"156.9727\"/><!--MD5=[d9d0f3624638b53425db0d6b55ce39f1]\n",
       "@startuml\r\n",
       "top to bottom direction\r\n",
       "skinparam monochrome true\r\n",
       "skinparam classbackgroundcolor white\r\n",
       "skinparam shadowing false\r\n",
       "skinparam wrapWidth 300\r\n",
       "hide circle\r\n",
       "\r\n",
       "comp def \"DecisionTest\" as E1  <<(T,blue)action def>> {\r\n",
       "x: DataValue= 1; \r\n",
       "- -actions- -\r\n",
       "A1: Action\r\n",
       "A2: Action\r\n",
       "A3: Action\r\n",
       "- -decisionNodes- -\r\n",
       "test x: DecisionAction\r\n",
       "- -transitions- -\r\n",
       "S: Transition\r\n",
       "}\r\n",
       "@enduml\r\n",
       "\n",
       "PlantUML version 1.2020.13(Sat Jun 13 12:26:38 UTC 2020)\n",
       "(EPL source distribution)\n",
       "Java Runtime: OpenJDK Runtime Environment\n",
       "JVM: OpenJDK 64-Bit Server VM\n",
       "Default Encoding: UTF-8\n",
       "Language: en\n",
       "Country: null\n",
       "--></g></svg>"
      ]
     },
     "execution_count": 49,
     "metadata": {},
     "output_type": "execute_result"
    }
   ],
   "source": [
    "%viz --style=\"TB\" --view=\"Sequence\" \"DecisionTest\""
   ]
  },
  {
   "cell_type": "code",
   "execution_count": 50,
   "id": "warming-congress",
   "metadata": {
    "execution": {
     "iopub.execute_input": "2021-03-25T16:06:17.802888Z",
     "iopub.status.busy": "2021-03-25T16:06:17.802363Z",
     "iopub.status.idle": "2021-03-25T16:06:17.865437Z",
     "shell.execute_reply": "2021-03-25T16:06:17.864009Z"
    }
   },
   "outputs": [
    {
     "data": {
      "image/svg+xml": [
       "<?xml version=\"1.0\" encoding=\"UTF-8\" standalone=\"no\"?><svg xmlns=\"http://www.w3.org/2000/svg\" xmlns:xlink=\"http://www.w3.org/1999/xlink\" contentScriptType=\"application/ecmascript\" contentStyleType=\"text/css\" height=\"517px\" preserveAspectRatio=\"none\" style=\"width:540px;height:517px;\" version=\"1.1\" viewBox=\"0 0 540 517\" width=\"540px\" zoomAndPan=\"magnify\"><defs/><g><!--MD5=[fbc87193dbaf4d95561dea2c320d4a47]\n",
       "cluster E1--><rect fill=\"#FFFFFF\" height=\"473\" style=\"stroke: #000000; stroke-width: 1.5;\" width=\"522\" x=\"7\" y=\"12.0986\"/><text fill=\"#000000\" font-family=\"sans-serif\" font-size=\"14\" font-weight=\"bold\" lengthAdjust=\"spacingAndGlyphs\" textLength=\"102\" x=\"217\" y=\"27.0938\">DecisionTest</text><!--MD5=[168fadf3d0c3fd93dd5d6da1b1d7ab76]\n",
       "cluster E7--><rect fill=\"#F8F8F8\" height=\"371\" rx=\"12.5\" ry=\"12.5\" style=\"stroke: #000000; stroke-width: 1.5;\" width=\"115\" x=\"340\" y=\"42.0986\"/><rect fill=\"#FFFFFF\" height=\"338.7031\" rx=\"12.5\" ry=\"12.5\" style=\"stroke: #FFFFFF; stroke-width: 1.0;\" width=\"109\" x=\"343\" y=\"71.3955\"/><line style=\"stroke: #000000; stroke-width: 1.5;\" x1=\"340\" x2=\"455\" y1=\"68.3955\" y2=\"68.3955\"/><text fill=\"#000000\" font-family=\"sans-serif\" font-size=\"14\" lengthAdjust=\"spacingAndGlyphs\" textLength=\"9\" x=\"393\" y=\"60.0938\">S</text><text fill=\"#000000\" font-family=\"sans-serif\" font-size=\"14\" lengthAdjust=\"spacingAndGlyphs\" textLength=\"48\" x=\"146\" y=\"504.0938\">$result</text><rect fill=\"#383838\" height=\"12\" style=\"stroke: #F8F8F8; stroke-width: 1.5;\" width=\"12\" x=\"164\" y=\"479.0986\"/><g id=\"E1.E3\"><rect fill=\"#FFFFFF\" height=\"50\" rx=\"12.5\" ry=\"12.5\" style=\"stroke: #383838; stroke-width: 1.5;\" width=\"58\" x=\"278\" y=\"297.0986\"/><line style=\"stroke: #383838; stroke-width: 1.5;\" x1=\"278\" x2=\"336\" y1=\"323.3955\" y2=\"323.3955\"/><text fill=\"#000000\" font-family=\"sans-serif\" font-size=\"14\" lengthAdjust=\"spacingAndGlyphs\" textLength=\"38\" x=\"288\" y=\"315.0938\">test x</text></g><g id=\"E1.E4\"><rect fill=\"#FFFFFF\" height=\"50\" rx=\"12.5\" ry=\"12.5\" style=\"stroke: #383838; stroke-width: 1.5;\" width=\"50\" x=\"193\" y=\"297.0986\"/><line style=\"stroke: #383838; stroke-width: 1.5;\" x1=\"193\" x2=\"243\" y1=\"323.3955\" y2=\"323.3955\"/><text fill=\"#000000\" font-family=\"sans-serif\" font-size=\"14\" lengthAdjust=\"spacingAndGlyphs\" textLength=\"18\" x=\"209\" y=\"315.0938\">A1</text></g><g id=\"E1.E5\"><rect fill=\"#FFFFFF\" height=\"50\" rx=\"12.5\" ry=\"12.5\" style=\"stroke: #383838; stroke-width: 1.5;\" width=\"50\" x=\"463\" y=\"297.0986\"/><line style=\"stroke: #383838; stroke-width: 1.5;\" x1=\"463\" x2=\"513\" y1=\"323.3955\" y2=\"323.3955\"/><text fill=\"#000000\" font-family=\"sans-serif\" font-size=\"14\" lengthAdjust=\"spacingAndGlyphs\" textLength=\"18\" x=\"479\" y=\"315.0938\">A2</text></g><g id=\"E1.E6\"><rect fill=\"#FFFFFF\" height=\"50\" rx=\"12.5\" ry=\"12.5\" style=\"stroke: #383838; stroke-width: 1.5;\" width=\"50\" x=\"108\" y=\"297.0986\"/><line style=\"stroke: #383838; stroke-width: 1.5;\" x1=\"108\" x2=\"158\" y1=\"323.3955\" y2=\"323.3955\"/><text fill=\"#000000\" font-family=\"sans-serif\" font-size=\"14\" lengthAdjust=\"spacingAndGlyphs\" textLength=\"18\" x=\"124\" y=\"315.0938\">A3</text></g><text fill=\"#000000\" font-family=\"sans-serif\" font-size=\"14\" lengthAdjust=\"spacingAndGlyphs\" textLength=\"48\" x=\"334\" y=\"432.0938\">$result</text><rect fill=\"#383838\" height=\"12\" style=\"stroke: #F8F8F8; stroke-width: 1.5;\" width=\"12\" x=\"352\" y=\"407.0986\"/><text fill=\"#000000\" font-family=\"sans-serif\" font-size=\"14\" lengthAdjust=\"spacingAndGlyphs\" textLength=\"16\" x=\"350\" y=\"20.7969\">$x</text><rect fill=\"#383838\" height=\"12\" style=\"stroke: #F8F8F8; stroke-width: 1.5;\" width=\"12\" x=\"352\" y=\"36.0986\"/><text fill=\"#000000\" font-family=\"sans-serif\" font-size=\"14\" lengthAdjust=\"spacingAndGlyphs\" textLength=\"16\" x=\"397\" y=\"20.7969\">$y</text><rect fill=\"#383838\" height=\"12\" style=\"stroke: #F8F8F8; stroke-width: 1.5;\" width=\"12\" x=\"399\" y=\"36.0986\"/><text fill=\"#000000\" font-family=\"sans-serif\" font-size=\"14\" lengthAdjust=\"spacingAndGlyphs\" textLength=\"48\" x=\"381\" y=\"432.0938\">$result</text><rect fill=\"#383838\" height=\"12\" style=\"stroke: #F8F8F8; stroke-width: 1.5;\" width=\"12\" x=\"399\" y=\"407.0986\"/><g id=\"E1.E7.E8\"><rect fill=\"#FFFFFF\" height=\"50\" rx=\"12.5\" ry=\"12.5\" style=\"stroke: #383838; stroke-width: 1.5;\" width=\"50\" x=\"360\" y=\"187.0986\"/><line style=\"stroke: #383838; stroke-width: 1.5;\" x1=\"360\" x2=\"410\" y1=\"213.3955\" y2=\"213.3955\"/><text fill=\"#000000\" font-family=\"sans-serif\" font-size=\"14\" lengthAdjust=\"spacingAndGlyphs\" textLength=\"18\" x=\"376\" y=\"205.0938\">A1</text></g><g id=\"E1.E13\"><rect fill=\"#FFFFFF\" height=\"50\" rx=\"12.5\" ry=\"12.5\" style=\"stroke: #383838; stroke-width: 1.5;\" width=\"50\" x=\"23\" y=\"297.0986\"/><line style=\"stroke: #383838; stroke-width: 1.5;\" x1=\"23\" x2=\"73\" y1=\"323.3955\" y2=\"323.3955\"/><text fill=\"#000000\" font-family=\"sans-serif\" font-size=\"14\" lengthAdjust=\"spacingAndGlyphs\" textLength=\"18\" x=\"39\" y=\"315.0938\">A3</text></g><!--MD5=[7fa823448867f45d961c344e849ff405]\n",
       "link E11 to E9--><path d=\"M407.61,48.2686 C412.41,58.0686 422.44,80.1686 426,100.0986 C430.82,127.1186 432.87,321.8886 422,347.0986 C409.46,376.1886 377.45,399.4986 364.05,408.3086 \" fill=\"none\" id=\"E11-E9\" style=\"stroke: #383838; stroke-width: 5.0;\"/><!--MD5=[1ccb2481ffa92f8d51a74ee30c51832a]\n",
       "link E8 to E5--><path d=\"M408.12,237.3386 C423.89,253.8686 444.82,275.8186 461.3,293.1086 \" fill=\"none\" id=\"E8-&gt;E5\" style=\"stroke: #383838; stroke-width: 1.0;\"/><polygon fill=\"#383838\" points=\"464.96,296.9386,461.667,287.6566,461.5185,293.3115,455.8636,293.163,464.96,296.9386\" style=\"stroke: #383838; stroke-width: 1.0;\"/><!--MD5=[5e48f819db256389f919e1547a6d6e45]\n",
       "@startuml\r\n",
       "top to bottom direction\r\n",
       "skinparam monochrome true\r\n",
       "skinparam classbackgroundcolor white\r\n",
       "skinparam shadowing false\r\n",
       "skinparam wrapWidth 300\r\n",
       "hide circle\r\n",
       "\r\n",
       "rec def \"DecisionTest\" as E1 {\r\n",
       "portout \"$result\" as E2  \r\n",
       "rec usage \"test x\" as E3 {\r\n",
       "}\r\n",
       "\r\n",
       "rec usage \"A1\" as E4 {\r\n",
       "}\r\n",
       "\r\n",
       "rec usage \"A2\" as E5 {\r\n",
       "}\r\n",
       "\r\n",
       "rec usage \"A3\" as E6 {\r\n",
       "}\r\n",
       "\r\n",
       "rec usage \"S\" as E7 {\r\n",
       "rec usage \"A1\" as E8 {\r\n",
       "}\r\n",
       "\r\n",
       "portout \"$result\" as E9  \r\n",
       "portin \"$x\" as E10  \r\n",
       "portin \"$y\" as E11  \r\n",
       "portout \"$result\" as E12  \r\n",
       "}\r\n",
       "\r\n",
       "rec usage \"A3\" as E13 {\r\n",
       "}\r\n",
       "\r\n",
       "}\r\n",
       "\r\n",
       "E11 -[thickness=5]- E9\r\n",
       "E8 - -> E5\r\n",
       "@enduml\r\n",
       "\n",
       "PlantUML version 1.2020.13(Sat Jun 13 12:26:38 UTC 2020)\n",
       "(EPL source distribution)\n",
       "Java Runtime: OpenJDK Runtime Environment\n",
       "JVM: OpenJDK 64-Bit Server VM\n",
       "Default Encoding: UTF-8\n",
       "Language: en\n",
       "Country: null\n",
       "--></g></svg>"
      ]
     },
     "execution_count": 50,
     "metadata": {},
     "output_type": "execute_result"
    }
   ],
   "source": [
    "%viz --style=\"TB\" --view=\"MIXED\" \"DecisionTest\""
   ]
  },
  {
   "cell_type": "code",
   "execution_count": 51,
   "id": "vanilla-alberta",
   "metadata": {
    "execution": {
     "iopub.execute_input": "2021-03-25T16:06:17.916550Z",
     "iopub.status.busy": "2021-03-25T16:06:17.915977Z",
     "iopub.status.idle": "2021-03-25T16:06:17.980002Z",
     "shell.execute_reply": "2021-03-25T16:06:17.978642Z"
    }
   },
   "outputs": [
    {
     "data": {
      "image/svg+xml": [
       "<?xml version=\"1.0\" encoding=\"UTF-8\" standalone=\"no\"?><svg xmlns=\"http://www.w3.org/2000/svg\" xmlns:xlink=\"http://www.w3.org/1999/xlink\" contentScriptType=\"application/ecmascript\" contentStyleType=\"text/css\" height=\"517px\" preserveAspectRatio=\"none\" style=\"width:540px;height:517px;\" version=\"1.1\" viewBox=\"0 0 540 517\" width=\"540px\" zoomAndPan=\"magnify\"><defs/><g><!--MD5=[fbc87193dbaf4d95561dea2c320d4a47]\n",
       "cluster E1--><rect fill=\"#FFFFFF\" height=\"473\" style=\"stroke: #000000; stroke-width: 1.5;\" width=\"522\" x=\"7\" y=\"12.0986\"/><text fill=\"#000000\" font-family=\"sans-serif\" font-size=\"14\" font-weight=\"bold\" lengthAdjust=\"spacingAndGlyphs\" textLength=\"102\" x=\"217\" y=\"27.0938\">DecisionTest</text><!--MD5=[168fadf3d0c3fd93dd5d6da1b1d7ab76]\n",
       "cluster E7--><rect fill=\"#F8F8F8\" height=\"371\" rx=\"12.5\" ry=\"12.5\" style=\"stroke: #000000; stroke-width: 1.5;\" width=\"115\" x=\"340\" y=\"42.0986\"/><rect fill=\"#FFFFFF\" height=\"338.7031\" rx=\"12.5\" ry=\"12.5\" style=\"stroke: #FFFFFF; stroke-width: 1.0;\" width=\"109\" x=\"343\" y=\"71.3955\"/><line style=\"stroke: #000000; stroke-width: 1.5;\" x1=\"340\" x2=\"455\" y1=\"68.3955\" y2=\"68.3955\"/><text fill=\"#000000\" font-family=\"sans-serif\" font-size=\"14\" lengthAdjust=\"spacingAndGlyphs\" textLength=\"9\" x=\"393\" y=\"60.0938\">S</text><text fill=\"#000000\" font-family=\"sans-serif\" font-size=\"14\" lengthAdjust=\"spacingAndGlyphs\" textLength=\"48\" x=\"146\" y=\"504.0938\">$result</text><rect fill=\"#383838\" height=\"12\" style=\"stroke: #F8F8F8; stroke-width: 1.5;\" width=\"12\" x=\"164\" y=\"479.0986\"/><g id=\"E1.E3\"><rect fill=\"#FFFFFF\" height=\"50\" rx=\"12.5\" ry=\"12.5\" style=\"stroke: #383838; stroke-width: 1.5;\" width=\"58\" x=\"278\" y=\"297.0986\"/><line style=\"stroke: #383838; stroke-width: 1.5;\" x1=\"278\" x2=\"336\" y1=\"323.3955\" y2=\"323.3955\"/><text fill=\"#000000\" font-family=\"sans-serif\" font-size=\"14\" lengthAdjust=\"spacingAndGlyphs\" textLength=\"38\" x=\"288\" y=\"315.0938\">test x</text></g><g id=\"E1.E4\"><rect fill=\"#FFFFFF\" height=\"50\" rx=\"12.5\" ry=\"12.5\" style=\"stroke: #383838; stroke-width: 1.5;\" width=\"50\" x=\"193\" y=\"297.0986\"/><line style=\"stroke: #383838; stroke-width: 1.5;\" x1=\"193\" x2=\"243\" y1=\"323.3955\" y2=\"323.3955\"/><text fill=\"#000000\" font-family=\"sans-serif\" font-size=\"14\" lengthAdjust=\"spacingAndGlyphs\" textLength=\"18\" x=\"209\" y=\"315.0938\">A1</text></g><g id=\"E1.E5\"><rect fill=\"#FFFFFF\" height=\"50\" rx=\"12.5\" ry=\"12.5\" style=\"stroke: #383838; stroke-width: 1.5;\" width=\"50\" x=\"463\" y=\"297.0986\"/><line style=\"stroke: #383838; stroke-width: 1.5;\" x1=\"463\" x2=\"513\" y1=\"323.3955\" y2=\"323.3955\"/><text fill=\"#000000\" font-family=\"sans-serif\" font-size=\"14\" lengthAdjust=\"spacingAndGlyphs\" textLength=\"18\" x=\"479\" y=\"315.0938\">A2</text></g><g id=\"E1.E6\"><rect fill=\"#FFFFFF\" height=\"50\" rx=\"12.5\" ry=\"12.5\" style=\"stroke: #383838; stroke-width: 1.5;\" width=\"50\" x=\"108\" y=\"297.0986\"/><line style=\"stroke: #383838; stroke-width: 1.5;\" x1=\"108\" x2=\"158\" y1=\"323.3955\" y2=\"323.3955\"/><text fill=\"#000000\" font-family=\"sans-serif\" font-size=\"14\" lengthAdjust=\"spacingAndGlyphs\" textLength=\"18\" x=\"124\" y=\"315.0938\">A3</text></g><text fill=\"#000000\" font-family=\"sans-serif\" font-size=\"14\" lengthAdjust=\"spacingAndGlyphs\" textLength=\"48\" x=\"334\" y=\"432.0938\">$result</text><rect fill=\"#383838\" height=\"12\" style=\"stroke: #F8F8F8; stroke-width: 1.5;\" width=\"12\" x=\"352\" y=\"407.0986\"/><text fill=\"#000000\" font-family=\"sans-serif\" font-size=\"14\" lengthAdjust=\"spacingAndGlyphs\" textLength=\"16\" x=\"350\" y=\"20.7969\">$x</text><rect fill=\"#383838\" height=\"12\" style=\"stroke: #F8F8F8; stroke-width: 1.5;\" width=\"12\" x=\"352\" y=\"36.0986\"/><text fill=\"#000000\" font-family=\"sans-serif\" font-size=\"14\" lengthAdjust=\"spacingAndGlyphs\" textLength=\"16\" x=\"397\" y=\"20.7969\">$y</text><rect fill=\"#383838\" height=\"12\" style=\"stroke: #F8F8F8; stroke-width: 1.5;\" width=\"12\" x=\"399\" y=\"36.0986\"/><text fill=\"#000000\" font-family=\"sans-serif\" font-size=\"14\" lengthAdjust=\"spacingAndGlyphs\" textLength=\"48\" x=\"381\" y=\"432.0938\">$result</text><rect fill=\"#383838\" height=\"12\" style=\"stroke: #F8F8F8; stroke-width: 1.5;\" width=\"12\" x=\"399\" y=\"407.0986\"/><g id=\"E1.E7.E8\"><rect fill=\"#FFFFFF\" height=\"50\" rx=\"12.5\" ry=\"12.5\" style=\"stroke: #383838; stroke-width: 1.5;\" width=\"50\" x=\"360\" y=\"187.0986\"/><line style=\"stroke: #383838; stroke-width: 1.5;\" x1=\"360\" x2=\"410\" y1=\"213.3955\" y2=\"213.3955\"/><text fill=\"#000000\" font-family=\"sans-serif\" font-size=\"14\" lengthAdjust=\"spacingAndGlyphs\" textLength=\"18\" x=\"376\" y=\"205.0938\">A1</text></g><g id=\"E1.E13\"><rect fill=\"#FFFFFF\" height=\"50\" rx=\"12.5\" ry=\"12.5\" style=\"stroke: #383838; stroke-width: 1.5;\" width=\"50\" x=\"23\" y=\"297.0986\"/><line style=\"stroke: #383838; stroke-width: 1.5;\" x1=\"23\" x2=\"73\" y1=\"323.3955\" y2=\"323.3955\"/><text fill=\"#000000\" font-family=\"sans-serif\" font-size=\"14\" lengthAdjust=\"spacingAndGlyphs\" textLength=\"18\" x=\"39\" y=\"315.0938\">A3</text></g><!--MD5=[7fa823448867f45d961c344e849ff405]\n",
       "link E11 to E9--><path d=\"M403.67,48.3686 C403.67,58.6786 403.67,78.0986 403.67,78.0986 C403.67,78.0986 356,78.0986 356,78.0986 C356,78.0986 356,361.5986 356,406.9986 \" fill=\"none\" id=\"E11-E9\" style=\"stroke: #383838; stroke-width: 5.0;\"/><!--MD5=[1ccb2481ffa92f8d51a74ee30c51832a]\n",
       "link E8 to E5--><path d=\"M402.67,237.3286 C402.67,266.0686 402.67,309.0986 402.67,309.0986 C402.67,309.0986 457.86,309.0986 457.86,309.0986 \" fill=\"none\" id=\"E8-&gt;E5\" style=\"stroke: #383838; stroke-width: 1.0;\"/><polygon fill=\"#383838\" points=\"462.86,309.0986,453.86,305.0986,457.86,309.0986,453.86,313.0986,462.86,309.0986\" style=\"stroke: #383838; stroke-width: 1.0;\"/><!--MD5=[ed50d5b2867b8011e4126cf631326901]\n",
       "@startuml\r\n",
       "skinparam linetype ortho\r\n",
       "skinparam monochrome true\r\n",
       "skinparam classbackgroundcolor white\r\n",
       "skinparam shadowing false\r\n",
       "skinparam wrapWidth 300\r\n",
       "hide circle\r\n",
       "\r\n",
       "rec def \"DecisionTest\" as E1 {\r\n",
       "portout \"$result\" as E2  \r\n",
       "rec usage \"test x\" as E3 {\r\n",
       "}\r\n",
       "\r\n",
       "rec usage \"A1\" as E4 {\r\n",
       "}\r\n",
       "\r\n",
       "rec usage \"A2\" as E5 {\r\n",
       "}\r\n",
       "\r\n",
       "rec usage \"A3\" as E6 {\r\n",
       "}\r\n",
       "\r\n",
       "rec usage \"S\" as E7 {\r\n",
       "rec usage \"A1\" as E8 {\r\n",
       "}\r\n",
       "\r\n",
       "portout \"$result\" as E9  \r\n",
       "portin \"$x\" as E10  \r\n",
       "portin \"$y\" as E11  \r\n",
       "portout \"$result\" as E12  \r\n",
       "}\r\n",
       "\r\n",
       "rec usage \"A3\" as E13 {\r\n",
       "}\r\n",
       "\r\n",
       "}\r\n",
       "\r\n",
       "E11 -[thickness=5]- E9\r\n",
       "E8 - -> E5\r\n",
       "@enduml\r\n",
       "\n",
       "PlantUML version 1.2020.13(Sat Jun 13 12:26:38 UTC 2020)\n",
       "(EPL source distribution)\n",
       "Java Runtime: OpenJDK Runtime Environment\n",
       "JVM: OpenJDK 64-Bit Server VM\n",
       "Default Encoding: UTF-8\n",
       "Language: en\n",
       "Country: null\n",
       "--></g></svg>"
      ]
     },
     "execution_count": 51,
     "metadata": {},
     "output_type": "execute_result"
    }
   ],
   "source": [
    "%viz --style=\"ORTHOLINE\" --view=\"Default\" \"DecisionTest\""
   ]
  },
  {
   "cell_type": "code",
   "execution_count": 52,
   "id": "palestinian-freeze",
   "metadata": {
    "execution": {
     "iopub.execute_input": "2021-03-25T16:06:18.030781Z",
     "iopub.status.busy": "2021-03-25T16:06:18.030218Z",
     "iopub.status.idle": "2021-03-25T16:06:19.261985Z",
     "shell.execute_reply": "2021-03-25T16:06:19.262745Z"
    }
   },
   "outputs": [
    {
     "data": {
      "image/svg+xml": [
       "<?xml version=\"1.0\" encoding=\"UTF-8\" standalone=\"no\"?><svg xmlns=\"http://www.w3.org/2000/svg\" xmlns:xlink=\"http://www.w3.org/1999/xlink\" contentScriptType=\"application/ecmascript\" contentStyleType=\"text/css\" height=\"191px\" preserveAspectRatio=\"none\" style=\"width:152px;height:191px;\" version=\"1.1\" viewBox=\"0 0 152 191\" width=\"152px\" zoomAndPan=\"magnify\"><defs/><g><!--MD5=[43c9051892ef23e1a46a86907403d788]\n",
       "class E1--><rect fill=\"#FFFFFF\" height=\"173.1797\" id=\"E1\" style=\"stroke: #383838; stroke-width: 1.5;\" width=\"134\" x=\"7\" y=\"7\"/><text fill=\"#000000\" font-family=\"sans-serif\" font-size=\"12\" font-style=\"italic\" lengthAdjust=\"spacingAndGlyphs\" textLength=\"77\" x=\"35.5\" y=\"23.1387\">«action def»</text><text fill=\"#000000\" font-family=\"sans-serif\" font-size=\"12\" lengthAdjust=\"spacingAndGlyphs\" textLength=\"80\" x=\"34\" y=\"37.1074\">DecisionTest</text><line style=\"stroke: #383838; stroke-width: 1.5;\" x1=\"8\" x2=\"140\" y1=\"44.9375\" y2=\"44.9375\"/><text fill=\"#000000\" font-family=\"sans-serif\" font-size=\"11\" lengthAdjust=\"spacingAndGlyphs\" textLength=\"95\" x=\"13\" y=\"59.1479\">x: DataValue= 1;</text><text fill=\"#000000\" font-family=\"sans-serif\" font-size=\"11\" lengthAdjust=\"spacingAndGlyphs\" textLength=\"56\" x=\"13\" y=\"88.7573\">A1: Action</text><text fill=\"#000000\" font-family=\"sans-serif\" font-size=\"11\" lengthAdjust=\"spacingAndGlyphs\" textLength=\"56\" x=\"13\" y=\"101.562\">A2: Action</text><text fill=\"#000000\" font-family=\"sans-serif\" font-size=\"11\" lengthAdjust=\"spacingAndGlyphs\" textLength=\"56\" x=\"13\" y=\"114.3667\">A3: Action</text><line style=\"stroke: #383838; stroke-width: 1.0;\" x1=\"8\" x2=\"53.5\" y1=\"72.1445\" y2=\"72.1445\"/><text fill=\"#000000\" font-family=\"sans-serif\" font-size=\"11\" lengthAdjust=\"spacingAndGlyphs\" textLength=\"41\" x=\"53.5\" y=\"75.4526\">actions</text><line style=\"stroke: #383838; stroke-width: 1.0;\" x1=\"94.5\" x2=\"140\" y1=\"72.1445\" y2=\"72.1445\"/><text fill=\"#000000\" font-family=\"sans-serif\" font-size=\"11\" lengthAdjust=\"spacingAndGlyphs\" textLength=\"122\" x=\"13\" y=\"143.9761\">test x: DecisionAction</text><line style=\"stroke: #383838; stroke-width: 1.0;\" x1=\"8\" x2=\"32.5\" y1=\"127.3633\" y2=\"127.3633\"/><text fill=\"#000000\" font-family=\"sans-serif\" font-size=\"11\" lengthAdjust=\"spacingAndGlyphs\" textLength=\"83\" x=\"32.5\" y=\"130.6714\">decisionNodes</text><line style=\"stroke: #383838; stroke-width: 1.0;\" x1=\"115.5\" x2=\"140\" y1=\"127.3633\" y2=\"127.3633\"/><text fill=\"#000000\" font-family=\"sans-serif\" font-size=\"11\" lengthAdjust=\"spacingAndGlyphs\" textLength=\"73\" x=\"13\" y=\"173.5854\">S: Transition</text><line style=\"stroke: #383838; stroke-width: 1.0;\" x1=\"8\" x2=\"43.5\" y1=\"156.9727\" y2=\"156.9727\"/><text fill=\"#000000\" font-family=\"sans-serif\" font-size=\"11\" lengthAdjust=\"spacingAndGlyphs\" textLength=\"61\" x=\"43.5\" y=\"160.2808\">transitions</text><line style=\"stroke: #383838; stroke-width: 1.0;\" x1=\"104.5\" x2=\"140\" y1=\"156.9727\" y2=\"156.9727\"/><!--MD5=[591840f6b7f3144305c571564e958a0d]\n",
       "@startuml\r\n",
       "skinparam linetype ortho\r\n",
       "skinparam monochrome true\r\n",
       "skinparam classbackgroundcolor white\r\n",
       "skinparam shadowing false\r\n",
       "skinparam wrapWidth 300\r\n",
       "hide circle\r\n",
       "\r\n",
       "comp def \"DecisionTest\" as E1  <<(T,blue)action def>> {\r\n",
       "x: DataValue= 1; \r\n",
       "- -actions- -\r\n",
       "A1: Action\r\n",
       "A2: Action\r\n",
       "A3: Action\r\n",
       "- -decisionNodes- -\r\n",
       "test x: DecisionAction\r\n",
       "- -transitions- -\r\n",
       "S: Transition\r\n",
       "}\r\n",
       "@enduml\r\n",
       "\n",
       "PlantUML version 1.2020.13(Sat Jun 13 12:26:38 UTC 2020)\n",
       "(EPL source distribution)\n",
       "Java Runtime: OpenJDK Runtime Environment\n",
       "JVM: OpenJDK 64-Bit Server VM\n",
       "Default Encoding: UTF-8\n",
       "Language: en\n",
       "Country: null\n",
       "--></g></svg>"
      ]
     },
     "execution_count": 52,
     "metadata": {},
     "output_type": "execute_result"
    }
   ],
   "source": [
    "%viz --style=\"ORTHOLINE\" --view=\"Tree\" \"DecisionTest\""
   ]
  },
  {
   "cell_type": "code",
   "execution_count": 53,
   "id": "temporal-contest",
   "metadata": {
    "execution": {
     "iopub.execute_input": "2021-03-25T16:06:19.312953Z",
     "iopub.status.busy": "2021-03-25T16:06:19.312527Z",
     "iopub.status.idle": "2021-03-25T16:06:19.317186Z",
     "shell.execute_reply": "2021-03-25T16:06:19.316759Z"
    }
   },
   "outputs": [
    {
     "data": {
      "text/plain": [
       "java.lang.IllegalArgumentException: Invalid View: State View candidates are: Default Tree StateMachine Interconnection Activity Sequence MIXED \n",
       "\tat org.omg.sysml.plantuml.SysML2PlantUMLSvc.setView(SysML2PlantUMLSvc.java:63)\n",
       "\tat org.omg.sysml.interactive.SysMLInteractive.viz(SysMLInteractive.java:286)\n",
       "\tat org.omg.sysml.jupyter.kernel.magic.Viz.viz(Viz.java:47)\n",
       "\tat jdk.internal.reflect.GeneratedMethodAccessor15.invoke(Unknown Source)\n",
       "\tat java.base/jdk.internal.reflect.DelegatingMethodAccessorImpl.invoke(DelegatingMethodAccessorImpl.java:43)\n",
       "\tat java.base/java.lang.reflect.Method.invoke(Method.java:568)\n",
       "\tat io.github.spencerpark.jupyter.kernel.magic.registry.Magics.invoke(Magics.java:89)\n",
       "\tat io.github.spencerpark.jupyter.kernel.magic.registry.Magics.access$000(Magics.java:8)\n",
       "\tat io.github.spencerpark.jupyter.kernel.magic.registry.Magics$LineReflectionMagicFunction.execute(Magics.java:149)\n",
       "\tat io.github.spencerpark.jupyter.kernel.magic.registry.Magics.applyLineMagic(Magics.java:26)\n",
       "\tat org.omg.sysml.jupyter.kernel.SysMLKernel.eval(SysMLKernel.java:76)\n",
       "\tat io.github.spencerpark.jupyter.kernel.BaseKernel.handleExecuteRequest(BaseKernel.java:334)\n",
       "\tat io.github.spencerpark.jupyter.channels.ShellChannel.lambda$bind$0(ShellChannel.java:64)\n",
       "\tat io.github.spencerpark.jupyter.channels.Loop.lambda$new$0(Loop.java:21)\n",
       "\tat io.github.spencerpark.jupyter.channels.Loop.run(Loop.java:78)\n"
      ]
     },
     "execution_count": 53,
     "metadata": {},
     "output_type": "execute_result"
    }
   ],
   "source": [
    "%viz --style=\"ORTHOLINE\" --view=\"State\" \"DecisionTest\""
   ]
  },
  {
   "cell_type": "code",
   "execution_count": 54,
   "id": "recent-accident",
   "metadata": {
    "execution": {
     "iopub.execute_input": "2021-03-25T16:06:19.368810Z",
     "iopub.status.busy": "2021-03-25T16:06:19.367949Z",
     "iopub.status.idle": "2021-03-25T16:06:19.397647Z",
     "shell.execute_reply": "2021-03-25T16:06:19.398059Z"
    }
   },
   "outputs": [
    {
     "data": {
      "image/svg+xml": [
       "<?xml version=\"1.0\" encoding=\"UTF-8\" standalone=\"no\"?><svg xmlns=\"http://www.w3.org/2000/svg\" xmlns:xlink=\"http://www.w3.org/1999/xlink\" contentScriptType=\"application/ecmascript\" contentStyleType=\"text/css\" height=\"71px\" preserveAspectRatio=\"none\" style=\"width:104px;height:71px;\" version=\"1.1\" viewBox=\"0 0 104 71\" width=\"104px\" zoomAndPan=\"magnify\"><defs/><g><!--MD5=[43c9051892ef23e1a46a86907403d788]\n",
       "class E1--><rect fill=\"#FFFFFF\" height=\"53.9375\" id=\"E1\" style=\"stroke: #383838; stroke-width: 1.5;\" width=\"86\" x=\"7\" y=\"7\"/><text fill=\"#000000\" font-family=\"sans-serif\" font-size=\"12\" font-style=\"italic\" lengthAdjust=\"spacingAndGlyphs\" textLength=\"77\" x=\"11.5\" y=\"23.1387\">«action def»</text><text fill=\"#000000\" font-family=\"sans-serif\" font-size=\"12\" lengthAdjust=\"spacingAndGlyphs\" textLength=\"80\" x=\"10\" y=\"37.1074\">DecisionTest</text><line style=\"stroke: #383838; stroke-width: 1.5;\" x1=\"8\" x2=\"92\" y1=\"44.9375\" y2=\"44.9375\"/><line style=\"stroke: #383838; stroke-width: 1.5;\" x1=\"8\" x2=\"92\" y1=\"52.9375\" y2=\"52.9375\"/><!--MD5=[710e588db644f244f50a61db97c98bd0]\n",
       "@startuml\r\n",
       "skinparam ranksep 8\r\n",
       "skinparam rectangle {\r\n",
       " backgroundColor<<block>> LightGreen\r\n",
       "}\r\n",
       "skinparam linetype ortho\r\n",
       "skinparam monochrome true\r\n",
       "skinparam classbackgroundcolor white\r\n",
       "skinparam shadowing false\r\n",
       "skinparam wrapWidth 300\r\n",
       "hide circle\r\n",
       "\r\n",
       "def \"DecisionTest\" as E1  <<action def>> \r\n",
       "@enduml\r\n",
       "\n",
       "PlantUML version 1.2020.13(Sat Jun 13 12:26:38 UTC 2020)\n",
       "(EPL source distribution)\n",
       "Java Runtime: OpenJDK Runtime Environment\n",
       "JVM: OpenJDK 64-Bit Server VM\n",
       "Default Encoding: UTF-8\n",
       "Language: en\n",
       "Country: null\n",
       "--></g></svg>"
      ]
     },
     "execution_count": 54,
     "metadata": {},
     "output_type": "execute_result"
    }
   ],
   "source": [
    "%viz --style=\"ORTHOLINE\" --view=\"Interconnection\" \"DecisionTest\""
   ]
  },
  {
   "cell_type": "code",
   "execution_count": 55,
   "id": "decimal-referral",
   "metadata": {
    "execution": {
     "iopub.execute_input": "2021-03-25T16:06:19.448116Z",
     "iopub.status.busy": "2021-03-25T16:06:19.447494Z",
     "iopub.status.idle": "2021-03-25T16:06:19.450851Z",
     "shell.execute_reply": "2021-03-25T16:06:19.451366Z"
    }
   },
   "outputs": [
    {
     "data": {
      "text/plain": [
       "java.lang.IllegalArgumentException: Invalid View: Action View candidates are: Default Tree StateMachine Interconnection Activity Sequence MIXED \n",
       "\tat org.omg.sysml.plantuml.SysML2PlantUMLSvc.setView(SysML2PlantUMLSvc.java:63)\n",
       "\tat org.omg.sysml.interactive.SysMLInteractive.viz(SysMLInteractive.java:286)\n",
       "\tat org.omg.sysml.jupyter.kernel.magic.Viz.viz(Viz.java:47)\n",
       "\tat jdk.internal.reflect.GeneratedMethodAccessor15.invoke(Unknown Source)\n",
       "\tat java.base/jdk.internal.reflect.DelegatingMethodAccessorImpl.invoke(DelegatingMethodAccessorImpl.java:43)\n",
       "\tat java.base/java.lang.reflect.Method.invoke(Method.java:568)\n",
       "\tat io.github.spencerpark.jupyter.kernel.magic.registry.Magics.invoke(Magics.java:89)\n",
       "\tat io.github.spencerpark.jupyter.kernel.magic.registry.Magics.access$000(Magics.java:8)\n",
       "\tat io.github.spencerpark.jupyter.kernel.magic.registry.Magics$LineReflectionMagicFunction.execute(Magics.java:149)\n",
       "\tat io.github.spencerpark.jupyter.kernel.magic.registry.Magics.applyLineMagic(Magics.java:26)\n",
       "\tat org.omg.sysml.jupyter.kernel.SysMLKernel.eval(SysMLKernel.java:76)\n",
       "\tat io.github.spencerpark.jupyter.kernel.BaseKernel.handleExecuteRequest(BaseKernel.java:334)\n",
       "\tat io.github.spencerpark.jupyter.channels.ShellChannel.lambda$bind$0(ShellChannel.java:64)\n",
       "\tat io.github.spencerpark.jupyter.channels.Loop.lambda$new$0(Loop.java:21)\n",
       "\tat io.github.spencerpark.jupyter.channels.Loop.run(Loop.java:78)\n"
      ]
     },
     "execution_count": 55,
     "metadata": {},
     "output_type": "execute_result"
    }
   ],
   "source": [
    "%viz --style=\"ORTHOLINE\" --view=\"Action\" \"DecisionTest\""
   ]
  },
  {
   "cell_type": "code",
   "execution_count": 56,
   "id": "photographic-queue",
   "metadata": {
    "execution": {
     "iopub.execute_input": "2021-03-25T16:06:19.502848Z",
     "iopub.status.busy": "2021-03-25T16:06:19.502253Z",
     "iopub.status.idle": "2021-03-25T16:06:20.738292Z",
     "shell.execute_reply": "2021-03-25T16:06:20.737892Z"
    }
   },
   "outputs": [
    {
     "data": {
      "image/svg+xml": [
       "<?xml version=\"1.0\" encoding=\"UTF-8\" standalone=\"no\"?><svg xmlns=\"http://www.w3.org/2000/svg\" xmlns:xlink=\"http://www.w3.org/1999/xlink\" contentScriptType=\"application/ecmascript\" contentStyleType=\"text/css\" height=\"191px\" preserveAspectRatio=\"none\" style=\"width:152px;height:191px;\" version=\"1.1\" viewBox=\"0 0 152 191\" width=\"152px\" zoomAndPan=\"magnify\"><defs/><g><!--MD5=[43c9051892ef23e1a46a86907403d788]\n",
       "class E1--><rect fill=\"#FFFFFF\" height=\"173.1797\" id=\"E1\" style=\"stroke: #383838; stroke-width: 1.5;\" width=\"134\" x=\"7\" y=\"7\"/><text fill=\"#000000\" font-family=\"sans-serif\" font-size=\"12\" font-style=\"italic\" lengthAdjust=\"spacingAndGlyphs\" textLength=\"77\" x=\"35.5\" y=\"23.1387\">«action def»</text><text fill=\"#000000\" font-family=\"sans-serif\" font-size=\"12\" lengthAdjust=\"spacingAndGlyphs\" textLength=\"80\" x=\"34\" y=\"37.1074\">DecisionTest</text><line style=\"stroke: #383838; stroke-width: 1.5;\" x1=\"8\" x2=\"140\" y1=\"44.9375\" y2=\"44.9375\"/><text fill=\"#000000\" font-family=\"sans-serif\" font-size=\"11\" lengthAdjust=\"spacingAndGlyphs\" textLength=\"95\" x=\"13\" y=\"59.1479\">x: DataValue= 1;</text><text fill=\"#000000\" font-family=\"sans-serif\" font-size=\"11\" lengthAdjust=\"spacingAndGlyphs\" textLength=\"56\" x=\"13\" y=\"88.7573\">A1: Action</text><text fill=\"#000000\" font-family=\"sans-serif\" font-size=\"11\" lengthAdjust=\"spacingAndGlyphs\" textLength=\"56\" x=\"13\" y=\"101.562\">A2: Action</text><text fill=\"#000000\" font-family=\"sans-serif\" font-size=\"11\" lengthAdjust=\"spacingAndGlyphs\" textLength=\"56\" x=\"13\" y=\"114.3667\">A3: Action</text><line style=\"stroke: #383838; stroke-width: 1.0;\" x1=\"8\" x2=\"53.5\" y1=\"72.1445\" y2=\"72.1445\"/><text fill=\"#000000\" font-family=\"sans-serif\" font-size=\"11\" lengthAdjust=\"spacingAndGlyphs\" textLength=\"41\" x=\"53.5\" y=\"75.4526\">actions</text><line style=\"stroke: #383838; stroke-width: 1.0;\" x1=\"94.5\" x2=\"140\" y1=\"72.1445\" y2=\"72.1445\"/><text fill=\"#000000\" font-family=\"sans-serif\" font-size=\"11\" lengthAdjust=\"spacingAndGlyphs\" textLength=\"122\" x=\"13\" y=\"143.9761\">test x: DecisionAction</text><line style=\"stroke: #383838; stroke-width: 1.0;\" x1=\"8\" x2=\"32.5\" y1=\"127.3633\" y2=\"127.3633\"/><text fill=\"#000000\" font-family=\"sans-serif\" font-size=\"11\" lengthAdjust=\"spacingAndGlyphs\" textLength=\"83\" x=\"32.5\" y=\"130.6714\">decisionNodes</text><line style=\"stroke: #383838; stroke-width: 1.0;\" x1=\"115.5\" x2=\"140\" y1=\"127.3633\" y2=\"127.3633\"/><text fill=\"#000000\" font-family=\"sans-serif\" font-size=\"11\" lengthAdjust=\"spacingAndGlyphs\" textLength=\"73\" x=\"13\" y=\"173.5854\">S: Transition</text><line style=\"stroke: #383838; stroke-width: 1.0;\" x1=\"8\" x2=\"43.5\" y1=\"156.9727\" y2=\"156.9727\"/><text fill=\"#000000\" font-family=\"sans-serif\" font-size=\"11\" lengthAdjust=\"spacingAndGlyphs\" textLength=\"61\" x=\"43.5\" y=\"160.2808\">transitions</text><line style=\"stroke: #383838; stroke-width: 1.0;\" x1=\"104.5\" x2=\"140\" y1=\"156.9727\" y2=\"156.9727\"/><!--MD5=[591840f6b7f3144305c571564e958a0d]\n",
       "@startuml\r\n",
       "skinparam linetype ortho\r\n",
       "skinparam monochrome true\r\n",
       "skinparam classbackgroundcolor white\r\n",
       "skinparam shadowing false\r\n",
       "skinparam wrapWidth 300\r\n",
       "hide circle\r\n",
       "\r\n",
       "comp def \"DecisionTest\" as E1  <<(T,blue)action def>> {\r\n",
       "x: DataValue= 1; \r\n",
       "- -actions- -\r\n",
       "A1: Action\r\n",
       "A2: Action\r\n",
       "A3: Action\r\n",
       "- -decisionNodes- -\r\n",
       "test x: DecisionAction\r\n",
       "- -transitions- -\r\n",
       "S: Transition\r\n",
       "}\r\n",
       "@enduml\r\n",
       "\n",
       "PlantUML version 1.2020.13(Sat Jun 13 12:26:38 UTC 2020)\n",
       "(EPL source distribution)\n",
       "Java Runtime: OpenJDK Runtime Environment\n",
       "JVM: OpenJDK 64-Bit Server VM\n",
       "Default Encoding: UTF-8\n",
       "Language: en\n",
       "Country: null\n",
       "--></g></svg>"
      ]
     },
     "execution_count": 56,
     "metadata": {},
     "output_type": "execute_result"
    }
   ],
   "source": [
    "%viz --style=\"ORTHOLINE\" --view=\"Sequence\" \"DecisionTest\""
   ]
  },
  {
   "cell_type": "code",
   "execution_count": 57,
   "id": "disabled-jungle",
   "metadata": {
    "execution": {
     "iopub.execute_input": "2021-03-25T16:06:20.790136Z",
     "iopub.status.busy": "2021-03-25T16:06:20.789612Z",
     "iopub.status.idle": "2021-03-25T16:06:20.858361Z",
     "shell.execute_reply": "2021-03-25T16:06:20.857151Z"
    }
   },
   "outputs": [
    {
     "data": {
      "image/svg+xml": [
       "<?xml version=\"1.0\" encoding=\"UTF-8\" standalone=\"no\"?><svg xmlns=\"http://www.w3.org/2000/svg\" xmlns:xlink=\"http://www.w3.org/1999/xlink\" contentScriptType=\"application/ecmascript\" contentStyleType=\"text/css\" height=\"517px\" preserveAspectRatio=\"none\" style=\"width:540px;height:517px;\" version=\"1.1\" viewBox=\"0 0 540 517\" width=\"540px\" zoomAndPan=\"magnify\"><defs/><g><!--MD5=[fbc87193dbaf4d95561dea2c320d4a47]\n",
       "cluster E1--><rect fill=\"#FFFFFF\" height=\"473\" style=\"stroke: #000000; stroke-width: 1.5;\" width=\"522\" x=\"7\" y=\"12.0986\"/><text fill=\"#000000\" font-family=\"sans-serif\" font-size=\"14\" font-weight=\"bold\" lengthAdjust=\"spacingAndGlyphs\" textLength=\"102\" x=\"217\" y=\"27.0938\">DecisionTest</text><!--MD5=[168fadf3d0c3fd93dd5d6da1b1d7ab76]\n",
       "cluster E7--><rect fill=\"#F8F8F8\" height=\"371\" rx=\"12.5\" ry=\"12.5\" style=\"stroke: #000000; stroke-width: 1.5;\" width=\"115\" x=\"340\" y=\"42.0986\"/><rect fill=\"#FFFFFF\" height=\"338.7031\" rx=\"12.5\" ry=\"12.5\" style=\"stroke: #FFFFFF; stroke-width: 1.0;\" width=\"109\" x=\"343\" y=\"71.3955\"/><line style=\"stroke: #000000; stroke-width: 1.5;\" x1=\"340\" x2=\"455\" y1=\"68.3955\" y2=\"68.3955\"/><text fill=\"#000000\" font-family=\"sans-serif\" font-size=\"14\" lengthAdjust=\"spacingAndGlyphs\" textLength=\"9\" x=\"393\" y=\"60.0938\">S</text><text fill=\"#000000\" font-family=\"sans-serif\" font-size=\"14\" lengthAdjust=\"spacingAndGlyphs\" textLength=\"48\" x=\"146\" y=\"504.0938\">$result</text><rect fill=\"#383838\" height=\"12\" style=\"stroke: #F8F8F8; stroke-width: 1.5;\" width=\"12\" x=\"164\" y=\"479.0986\"/><g id=\"E1.E3\"><rect fill=\"#FFFFFF\" height=\"50\" rx=\"12.5\" ry=\"12.5\" style=\"stroke: #383838; stroke-width: 1.5;\" width=\"58\" x=\"278\" y=\"297.0986\"/><line style=\"stroke: #383838; stroke-width: 1.5;\" x1=\"278\" x2=\"336\" y1=\"323.3955\" y2=\"323.3955\"/><text fill=\"#000000\" font-family=\"sans-serif\" font-size=\"14\" lengthAdjust=\"spacingAndGlyphs\" textLength=\"38\" x=\"288\" y=\"315.0938\">test x</text></g><g id=\"E1.E4\"><rect fill=\"#FFFFFF\" height=\"50\" rx=\"12.5\" ry=\"12.5\" style=\"stroke: #383838; stroke-width: 1.5;\" width=\"50\" x=\"193\" y=\"297.0986\"/><line style=\"stroke: #383838; stroke-width: 1.5;\" x1=\"193\" x2=\"243\" y1=\"323.3955\" y2=\"323.3955\"/><text fill=\"#000000\" font-family=\"sans-serif\" font-size=\"14\" lengthAdjust=\"spacingAndGlyphs\" textLength=\"18\" x=\"209\" y=\"315.0938\">A1</text></g><g id=\"E1.E5\"><rect fill=\"#FFFFFF\" height=\"50\" rx=\"12.5\" ry=\"12.5\" style=\"stroke: #383838; stroke-width: 1.5;\" width=\"50\" x=\"463\" y=\"297.0986\"/><line style=\"stroke: #383838; stroke-width: 1.5;\" x1=\"463\" x2=\"513\" y1=\"323.3955\" y2=\"323.3955\"/><text fill=\"#000000\" font-family=\"sans-serif\" font-size=\"14\" lengthAdjust=\"spacingAndGlyphs\" textLength=\"18\" x=\"479\" y=\"315.0938\">A2</text></g><g id=\"E1.E6\"><rect fill=\"#FFFFFF\" height=\"50\" rx=\"12.5\" ry=\"12.5\" style=\"stroke: #383838; stroke-width: 1.5;\" width=\"50\" x=\"108\" y=\"297.0986\"/><line style=\"stroke: #383838; stroke-width: 1.5;\" x1=\"108\" x2=\"158\" y1=\"323.3955\" y2=\"323.3955\"/><text fill=\"#000000\" font-family=\"sans-serif\" font-size=\"14\" lengthAdjust=\"spacingAndGlyphs\" textLength=\"18\" x=\"124\" y=\"315.0938\">A3</text></g><text fill=\"#000000\" font-family=\"sans-serif\" font-size=\"14\" lengthAdjust=\"spacingAndGlyphs\" textLength=\"48\" x=\"334\" y=\"432.0938\">$result</text><rect fill=\"#383838\" height=\"12\" style=\"stroke: #F8F8F8; stroke-width: 1.5;\" width=\"12\" x=\"352\" y=\"407.0986\"/><text fill=\"#000000\" font-family=\"sans-serif\" font-size=\"14\" lengthAdjust=\"spacingAndGlyphs\" textLength=\"16\" x=\"350\" y=\"20.7969\">$x</text><rect fill=\"#383838\" height=\"12\" style=\"stroke: #F8F8F8; stroke-width: 1.5;\" width=\"12\" x=\"352\" y=\"36.0986\"/><text fill=\"#000000\" font-family=\"sans-serif\" font-size=\"14\" lengthAdjust=\"spacingAndGlyphs\" textLength=\"16\" x=\"397\" y=\"20.7969\">$y</text><rect fill=\"#383838\" height=\"12\" style=\"stroke: #F8F8F8; stroke-width: 1.5;\" width=\"12\" x=\"399\" y=\"36.0986\"/><text fill=\"#000000\" font-family=\"sans-serif\" font-size=\"14\" lengthAdjust=\"spacingAndGlyphs\" textLength=\"48\" x=\"381\" y=\"432.0938\">$result</text><rect fill=\"#383838\" height=\"12\" style=\"stroke: #F8F8F8; stroke-width: 1.5;\" width=\"12\" x=\"399\" y=\"407.0986\"/><g id=\"E1.E7.E8\"><rect fill=\"#FFFFFF\" height=\"50\" rx=\"12.5\" ry=\"12.5\" style=\"stroke: #383838; stroke-width: 1.5;\" width=\"50\" x=\"360\" y=\"187.0986\"/><line style=\"stroke: #383838; stroke-width: 1.5;\" x1=\"360\" x2=\"410\" y1=\"213.3955\" y2=\"213.3955\"/><text fill=\"#000000\" font-family=\"sans-serif\" font-size=\"14\" lengthAdjust=\"spacingAndGlyphs\" textLength=\"18\" x=\"376\" y=\"205.0938\">A1</text></g><g id=\"E1.E13\"><rect fill=\"#FFFFFF\" height=\"50\" rx=\"12.5\" ry=\"12.5\" style=\"stroke: #383838; stroke-width: 1.5;\" width=\"50\" x=\"23\" y=\"297.0986\"/><line style=\"stroke: #383838; stroke-width: 1.5;\" x1=\"23\" x2=\"73\" y1=\"323.3955\" y2=\"323.3955\"/><text fill=\"#000000\" font-family=\"sans-serif\" font-size=\"14\" lengthAdjust=\"spacingAndGlyphs\" textLength=\"18\" x=\"39\" y=\"315.0938\">A3</text></g><!--MD5=[7fa823448867f45d961c344e849ff405]\n",
       "link E11 to E9--><path d=\"M403.67,48.3686 C403.67,58.6786 403.67,78.0986 403.67,78.0986 C403.67,78.0986 356,78.0986 356,78.0986 C356,78.0986 356,361.5986 356,406.9986 \" fill=\"none\" id=\"E11-E9\" style=\"stroke: #383838; stroke-width: 5.0;\"/><!--MD5=[1ccb2481ffa92f8d51a74ee30c51832a]\n",
       "link E8 to E5--><path d=\"M402.67,237.3286 C402.67,266.0686 402.67,309.0986 402.67,309.0986 C402.67,309.0986 457.86,309.0986 457.86,309.0986 \" fill=\"none\" id=\"E8-&gt;E5\" style=\"stroke: #383838; stroke-width: 1.0;\"/><polygon fill=\"#383838\" points=\"462.86,309.0986,453.86,305.0986,457.86,309.0986,453.86,313.0986,462.86,309.0986\" style=\"stroke: #383838; stroke-width: 1.0;\"/><!--MD5=[ed50d5b2867b8011e4126cf631326901]\n",
       "@startuml\r\n",
       "skinparam linetype ortho\r\n",
       "skinparam monochrome true\r\n",
       "skinparam classbackgroundcolor white\r\n",
       "skinparam shadowing false\r\n",
       "skinparam wrapWidth 300\r\n",
       "hide circle\r\n",
       "\r\n",
       "rec def \"DecisionTest\" as E1 {\r\n",
       "portout \"$result\" as E2  \r\n",
       "rec usage \"test x\" as E3 {\r\n",
       "}\r\n",
       "\r\n",
       "rec usage \"A1\" as E4 {\r\n",
       "}\r\n",
       "\r\n",
       "rec usage \"A2\" as E5 {\r\n",
       "}\r\n",
       "\r\n",
       "rec usage \"A3\" as E6 {\r\n",
       "}\r\n",
       "\r\n",
       "rec usage \"S\" as E7 {\r\n",
       "rec usage \"A1\" as E8 {\r\n",
       "}\r\n",
       "\r\n",
       "portout \"$result\" as E9  \r\n",
       "portin \"$x\" as E10  \r\n",
       "portin \"$y\" as E11  \r\n",
       "portout \"$result\" as E12  \r\n",
       "}\r\n",
       "\r\n",
       "rec usage \"A3\" as E13 {\r\n",
       "}\r\n",
       "\r\n",
       "}\r\n",
       "\r\n",
       "E11 -[thickness=5]- E9\r\n",
       "E8 - -> E5\r\n",
       "@enduml\r\n",
       "\n",
       "PlantUML version 1.2020.13(Sat Jun 13 12:26:38 UTC 2020)\n",
       "(EPL source distribution)\n",
       "Java Runtime: OpenJDK Runtime Environment\n",
       "JVM: OpenJDK 64-Bit Server VM\n",
       "Default Encoding: UTF-8\n",
       "Language: en\n",
       "Country: null\n",
       "--></g></svg>"
      ]
     },
     "execution_count": 57,
     "metadata": {},
     "output_type": "execute_result"
    }
   ],
   "source": [
    "%viz --style=\"ORTHOLINE\" --view=\"MIXED\" \"DecisionTest\""
   ]
  }
 ],
 "metadata": {
  "kernelspec": {
   "display_name": "SysML",
   "language": "sysml",
   "name": "sysml"
  },
  "language_info": {
   "codemirror_mode": "sysml",
   "file_extension": ".sysml",
   "mimetype": "text/x-sysml",
   "name": "SysML",
   "pygments_lexer": "java",
   "version": "1.0.0"
  }
 },
 "nbformat": 4,
 "nbformat_minor": 5
}
