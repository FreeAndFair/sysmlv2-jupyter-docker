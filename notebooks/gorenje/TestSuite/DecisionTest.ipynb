{
 "cells": [
  {
   "cell_type": "markdown",
   "id": "pacific-hygiene",
   "metadata": {},
   "source": [
    "# SysML v2 Test Suite\n",
    "\n",
    "This can notebook can be cleared using menu `Edit --> Clear All Outputs` and then all cells can be\n",
    "run using menu `Run --> Run All Cells`.\n",
    "\n",
    "**WARNING**: This file is generated, all modifications here will be ignored.\n"
   ]
  },
  {
   "cell_type": "markdown",
   "id": "distributed-ladder",
   "metadata": {},
   "source": [
    "## File: ../../sysml/src/examples/Simple Tests/DecisionTest.sysml"
   ]
  },
  {
   "cell_type": "code",
   "execution_count": 1,
   "id": "conventional-mouse",
   "metadata": {
    "execution": {
     "iopub.execute_input": "2021-03-25T09:32:41.431391Z",
     "iopub.status.busy": "2021-03-25T09:32:41.430426Z",
     "iopub.status.idle": "2021-03-25T09:32:42.063305Z",
     "shell.execute_reply": "2021-03-25T09:32:42.062741Z"
    }
   },
   "outputs": [
    {
     "data": {
      "text/plain": [
       "ActionDefinition DecisionTest (ea225334-4e96-4926-a93d-eb2af2990e86)\n"
      ]
     },
     "execution_count": 1,
     "metadata": {},
     "output_type": "execute_result"
    }
   ],
   "source": [
    "action def DecisionTest {\n",
    "\tattribute x = 1;\n",
    "\t\n",
    "\tdecide 'test x';\n",
    "\tif x == 1 then A1; \n",
    "\tif x > 1 then A2;\n",
    "\telse A3; \n",
    "\t\n",
    "\tthen decide; \n",
    "\tif true then A1;\n",
    "\tif false then A2;\n",
    "\t\n",
    "\taction A1;\n",
    "\taction A2;\n",
    "\taction A3;\n",
    "\t\n",
    "\tsuccession S first A1 \n",
    "\t\tif x == 0 then A2;\n",
    "\t\t\n",
    "\tfirst A3;\n",
    "\t\tif x > 0 then 'test x';\n",
    "}"
   ]
  },
  {
   "cell_type": "code",
   "execution_count": 2,
   "id": "sound-surface",
   "metadata": {
    "execution": {
     "iopub.execute_input": "2021-03-25T09:32:42.115246Z",
     "iopub.status.busy": "2021-03-25T09:32:42.114821Z",
     "iopub.status.idle": "2021-03-25T09:32:42.919524Z",
     "shell.execute_reply": "2021-03-25T09:32:42.920372Z"
    }
   },
   "outputs": [
    {
     "data": {
      "image/svg+xml": [
       "<?xml version=\"1.0\" encoding=\"UTF-8\" standalone=\"no\"?><svg xmlns=\"http://www.w3.org/2000/svg\" xmlns:xlink=\"http://www.w3.org/1999/xlink\" contentScriptType=\"application/ecmascript\" contentStyleType=\"text/css\" height=\"271px\" preserveAspectRatio=\"none\" style=\"width:875px;height:271px;background:#000000;\" version=\"1.1\" viewBox=\"0 0 875 271\" width=\"875px\" zoomAndPan=\"magnify\"><defs/><g><rect fill=\"#201C11\" height=\"1\" style=\"stroke: #201C11; stroke-width: 1.0;\" width=\"1\" x=\"0\" y=\"0\"/><rect fill=\"#33FF02\" height=\"21.2969\" style=\"stroke: #33FF02; stroke-width: 1.0;\" width=\"868\" x=\"5\" y=\"5\"/><text fill=\"#000000\" font-family=\"sans-serif\" font-size=\"14\" font-weight=\"bold\" lengthAdjust=\"spacingAndGlyphs\" textLength=\"178\" x=\"6\" y=\"20\">[From string (line 13) ]</text><text fill=\"#33FF02\" font-family=\"sans-serif\" font-size=\"14\" font-weight=\"bold\" lengthAdjust=\"spacingAndGlyphs\" textLength=\"0\" x=\"10\" y=\"40.2969\"/><text fill=\"#33FF02\" font-family=\"sans-serif\" font-size=\"14\" font-weight=\"bold\" lengthAdjust=\"spacingAndGlyphs\" textLength=\"79\" x=\"5\" y=\"56.5938\">@startuml</text><text fill=\"#33FF02\" font-family=\"sans-serif\" font-size=\"14\" font-weight=\"bold\" lengthAdjust=\"spacingAndGlyphs\" textLength=\"228\" x=\"10\" y=\"72.8906\">skinparam monochrome true</text><text fill=\"#33FF02\" font-family=\"sans-serif\" font-size=\"14\" font-weight=\"bold\" lengthAdjust=\"spacingAndGlyphs\" textLength=\"309\" x=\"5\" y=\"89.1875\">skinparam classbackgroundcolor white</text><text fill=\"#33FF02\" font-family=\"sans-serif\" font-size=\"14\" font-weight=\"bold\" lengthAdjust=\"spacingAndGlyphs\" textLength=\"215\" x=\"5\" y=\"105.4844\">skinparam shadowing false</text><text fill=\"#33FF02\" font-family=\"sans-serif\" font-size=\"14\" font-weight=\"bold\" lengthAdjust=\"spacingAndGlyphs\" textLength=\"206\" x=\"5\" y=\"121.7813\">skinparam wrapWidth 300</text><text fill=\"#33FF02\" font-family=\"sans-serif\" font-size=\"14\" font-weight=\"bold\" lengthAdjust=\"spacingAndGlyphs\" textLength=\"82\" x=\"5\" y=\"138.0781\">hide circle</text><text fill=\"#33FF02\" font-family=\"sans-serif\" font-size=\"14\" font-weight=\"bold\" lengthAdjust=\"spacingAndGlyphs\" textLength=\"0\" x=\"10\" y=\"154.375\"/><text fill=\"#33FF02\" font-family=\"sans-serif\" font-size=\"14\" font-weight=\"bold\" lengthAdjust=\"spacingAndGlyphs\" textLength=\"868\" x=\"5\" y=\"170.6719\">rec def \"DecisionTest\" as E1  &lt;&lt;(T,blue)action def&gt;&gt; [[psysml:04eadb4d-b968-4a2d-91e2-cdec302c279f ]] {</text><text fill=\"#33FF02\" font-family=\"sans-serif\" font-size=\"14\" font-weight=\"bold\" lengthAdjust=\"spacingAndGlyphs\" textLength=\"614\" x=\"5\" y=\"186.9688\">portout \"$result\" as E2  [[psysml:f2b0b0cc-45ae-4166-8d5e-a5963ecab31c ]]</text><text fill=\"#33FF02\" font-family=\"sans-serif\" font-size=\"14\" font-weight=\"bold\" lengthAdjust=\"spacingAndGlyphs\" textLength=\"865\" x=\"5\" y=\"203.2656\">rec usage \"test x\" as E3  &lt;&lt;(T,blue)decisionNode&gt;&gt; [[psysml:12adcb2e-22ad-4270-ad09-4bee8bb9d85c ]] {</text><text fill=\"#33FF02\" font-family=\"sans-serif\" font-size=\"14\" font-weight=\"bold\" lengthAdjust=\"spacingAndGlyphs\" textLength=\"10\" x=\"5\" y=\"219.5625\">}</text><text fill=\"#33FF02\" font-family=\"sans-serif\" font-size=\"14\" font-weight=\"bold\" lengthAdjust=\"spacingAndGlyphs\" textLength=\"0\" x=\"10\" y=\"235.8594\"/><text fill=\"#33FF02\" font-family=\"sans-serif\" font-size=\"14\" font-weight=\"bold\" lengthAdjust=\"spacingAndGlyphs\" textLength=\"10\" x=\"5\" y=\"252.1563\">{</text><text fill=\"#FF0000\" font-family=\"sans-serif\" font-size=\"14\" font-weight=\"bold\" lengthAdjust=\"spacingAndGlyphs\" textLength=\"106\" x=\"10\" y=\"268.4531\">Syntax Error?</text><!--MD5=[5292296f280f68e59031de3553bb9118]\n",
       "@startuml\r\n",
       " skinparam monochrome true\r\n",
       "skinparam classbackgroundcolor white\r\n",
       "skinparam shadowing false\r\n",
       "skinparam wrapWidth 300\r\n",
       "hide circle\r\n",
       "\r\n",
       "rec def \"DecisionTest\" as E1  <<(T,blue)action def>> [[psysml:04eadb4d-b968-4a2d-91e2-cdec302c279f ]] {\r\n",
       "portout \"$result\" as E2  [[psysml:f2b0b0cc-45ae-4166-8d5e-a5963ecab31c ]] \r\n",
       "rec usage \"test x\" as E3  <<(T,blue)decisionNode>> [[psysml:12adcb2e-22ad-4270-ad09-4bee8bb9d85c ]] {\r\n",
       "}\r\n",
       "\r\n",
       "{\r\n",
       "portout \"$result\" as E4  [[psysml:da91a906-8207-462d-99e2-a18dec940aa7 ]] \r\n",
       "portin \"$x\" as E5  [[psysml:48c17a69-1eb9-4ad6-876e-38a96ca6e086 ]] \r\n",
       "portin \"$y\" as E6  [[psysml:603631ec-51c5-4249-8487-a79a64da6afc ]] \r\n",
       "portout \"$result\" as E7  [[psysml:26e7255e-bbd8-4ac7-a816-6f3abc826445 ]] \r\n",
       "}\r\n",
       "\r\n",
       "{\r\n",
       "portout \"$result\" as E8  [[psysml:34caa6ec-959e-4145-98ad-4a477d59f379 ]] \r\n",
       "portin \"$x\" as E9  [[psysml:a97d47b4-a3dd-4bbd-be98-fc91aed6e874 ]] \r\n",
       "portin \"$y\" as E10  [[psysml:4dcabb7c-801c-43eb-b65b-ea55ba06df11 ]] \r\n",
       "portout \"$result\" as E11  [[psysml:cd7ecfb5-304f-4537-af93-5efd7128d3b2 ]] \r\n",
       "}\r\n",
       "\r\n",
       "{\r\n",
       "}\r\n",
       "\r\n",
       "{\r\n",
       "}\r\n",
       "\r\n",
       "{\r\n",
       "portout \"$result\" as E12  [[psysml:f92bbb85-cf19-4dd5-984f-8fe428e355f9 ]] \r\n",
       "}\r\n",
       "\r\n",
       "{\r\n",
       "portout \"$result\" as E13  [[psysml:b44daa1d-0d17-440b-affc-4aae51a046a3 ]] \r\n",
       "}\r\n",
       "\r\n",
       "rec usage \"A1\" as E14  <<(T,blue)action>> [[psysml:b6d0d4a5-7082-45af-9d99-5627255ed9ae ]] {\r\n",
       "}\r\n",
       "\r\n",
       "rec usage \"A2\" as E15  <<(T,blue)action>> [[psysml:60e701bb-1db7-4263-ad0a-ece44064a54f ]] {\r\n",
       "}\r\n",
       "\r\n",
       "rec usage \"A3\" as E16  <<(T,blue)action>> [[psysml:072d93d2-c298-4f7b-8e67-b467b8356ba8 ]] {\r\n",
       "}\r\n",
       "\r\n",
       "rec usage \"S\" as E17  <<(T,blue)transition>> [[psysml:4c480f3e-de35-416e-b4f4-0f9aff9c2e68 ]] {\r\n",
       "rec usage \"A1\" as E18  <<(T,blue)action>> [[psysml:b6d0d4a5-7082-45af-9d99-5627255ed9ae ]] {\r\n",
       "}\r\n",
       "\r\n",
       "portout \"$result\" as E19  [[psysml:bae59e2e-3013-4238-add2-fcdff8ecd0eb ]] \r\n",
       "portin \"$x\" as E20  [[psysml:1602ff6f-7228-42cf-b9ac-ebc006cdcd92 ]] \r\n",
       "portin \"$y\" as E21  [[psysml:f75bdb3f-e701-450d-b4f7-b218e85bedc6 ]] \r\n",
       "portout \"$result\" as E22  [[psysml:671b30d7-f020-4858-831b-48c54d9c890b ]] \r\n",
       "}\r\n",
       "\r\n",
       "rec usage \"A3\" as E23  <<(T,blue)action>> [[psysml:072d93d2-c298-4f7b-8e67-b467b8356ba8 ]] {\r\n",
       "}\r\n",
       "\r\n",
       "{\r\n",
       "portout \"$result\" as E24  [[psysml:607bce31-a36d-4c4f-abb5-7d6a5b1eba4c ]] \r\n",
       "portin \"$x\" as E25  [[psysml:30d6127f-38d3-47e6-b88f-d8a7d1fd2593 ]] \r\n",
       "portin \"$y\" as E26  [[psysml:c49c5fa4-01bf-436f-878e-c0b2dd911bef ]] \r\n",
       "portout \"$result\" as E27  [[psysml:cfd24cc8-3d79-4a43-93a1-f42931f2c990 ]] \r\n",
       "}\r\n",
       "\r\n",
       "}\r\n",
       "\r\n",
       "@enduml\r\n",
       "\n",
       "PlantUML version 1.2020.13(Sat Jun 13 12:26:38 UTC 2020)\n",
       "(EPL source distribution)\n",
       "Java Runtime: OpenJDK Runtime Environment\n",
       "JVM: OpenJDK 64-Bit Server VM\n",
       "Default Encoding: UTF-8\n",
       "Language: en\n",
       "Country: null\n",
       "--></g></svg>"
      ]
     },
     "execution_count": 2,
     "metadata": {},
     "output_type": "execute_result"
    }
   ],
   "source": [
    "%viz --style=\"COMPTREE\" --view=\"Default\" \"DecisionTest\""
   ]
  },
  {
   "cell_type": "code",
   "execution_count": 3,
   "id": "confidential-undergraduate",
   "metadata": {
    "execution": {
     "iopub.execute_input": "2021-03-25T09:32:42.970644Z",
     "iopub.status.busy": "2021-03-25T09:32:42.970084Z",
     "iopub.status.idle": "2021-03-25T09:32:43.540779Z",
     "shell.execute_reply": "2021-03-25T09:32:43.539407Z"
    }
   },
   "outputs": [
    {
     "data": {
      "image/svg+xml": [
       "<?xml version=\"1.0\" encoding=\"UTF-8\" standalone=\"no\"?><svg xmlns=\"http://www.w3.org/2000/svg\" xmlns:xlink=\"http://www.w3.org/1999/xlink\" contentScriptType=\"application/ecmascript\" contentStyleType=\"text/css\" height=\"207px\" preserveAspectRatio=\"none\" style=\"width:109px;height:207px;\" version=\"1.1\" viewBox=\"0 0 109 207\" width=\"109px\" zoomAndPan=\"magnify\"><defs/><g><!--MD5=[43c9051892ef23e1a46a86907403d788]\n",
       "class E1--><a href=\"psysml:04eadb4d-b968-4a2d-91e2-cdec302c279f\" target=\"_top\" title=\"psysml:04eadb4d-b968-4a2d-91e2-cdec302c279f\" xlink:actuate=\"onRequest\" xlink:href=\"psysml:04eadb4d-b968-4a2d-91e2-cdec302c279f\" xlink:show=\"new\" xlink:title=\"psysml:04eadb4d-b968-4a2d-91e2-cdec302c279f\" xlink:type=\"simple\"><rect fill=\"#FFFFFF\" height=\"189.9844\" id=\"E1\" style=\"stroke: #383838; stroke-width: 1.5;\" width=\"91\" x=\"7\" y=\"7\"/><text fill=\"#000000\" font-family=\"sans-serif\" font-size=\"12\" font-style=\"italic\" lengthAdjust=\"spacingAndGlyphs\" textLength=\"77\" x=\"14\" y=\"23.1387\">«action def»</text><text fill=\"#000000\" font-family=\"sans-serif\" font-size=\"12\" lengthAdjust=\"spacingAndGlyphs\" textLength=\"80\" x=\"12.5\" y=\"37.1074\">DecisionTest</text><line style=\"stroke: #383838; stroke-width: 1.5;\" x1=\"8\" x2=\"97\" y1=\"44.9375\" y2=\"44.9375\"/><text fill=\"#000000\" font-family=\"sans-serif\" font-size=\"11\" lengthAdjust=\"spacingAndGlyphs\" textLength=\"6\" x=\"13\" y=\"75.9526\">x</text><line style=\"stroke: #383838; stroke-width: 1.0;\" x1=\"8\" x2=\"25\" y1=\"59.3398\" y2=\"59.3398\"/><text fill=\"#000000\" font-family=\"sans-serif\" font-size=\"11\" lengthAdjust=\"spacingAndGlyphs\" textLength=\"55\" x=\"25\" y=\"62.6479\">attributes</text><line style=\"stroke: #383838; stroke-width: 1.0;\" x1=\"80\" x2=\"97\" y1=\"59.3398\" y2=\"59.3398\"/><text fill=\"#000000\" font-family=\"sans-serif\" font-size=\"11\" lengthAdjust=\"spacingAndGlyphs\" textLength=\"14\" x=\"13\" y=\"105.562\">A1</text><text fill=\"#000000\" font-family=\"sans-serif\" font-size=\"11\" lengthAdjust=\"spacingAndGlyphs\" textLength=\"14\" x=\"13\" y=\"118.3667\">A2</text><text fill=\"#000000\" font-family=\"sans-serif\" font-size=\"11\" lengthAdjust=\"spacingAndGlyphs\" textLength=\"14\" x=\"13\" y=\"131.1714\">A3</text><line style=\"stroke: #383838; stroke-width: 1.0;\" x1=\"8\" x2=\"32\" y1=\"88.9492\" y2=\"88.9492\"/><text fill=\"#000000\" font-family=\"sans-serif\" font-size=\"11\" lengthAdjust=\"spacingAndGlyphs\" textLength=\"41\" x=\"32\" y=\"92.2573\">actions</text><line style=\"stroke: #383838; stroke-width: 1.0;\" x1=\"73\" x2=\"97\" y1=\"88.9492\" y2=\"88.9492\"/><text fill=\"#000000\" font-family=\"sans-serif\" font-size=\"11\" lengthAdjust=\"spacingAndGlyphs\" textLength=\"32\" x=\"13\" y=\"160.7808\">test x</text><line style=\"stroke: #383838; stroke-width: 1.0;\" x1=\"8\" x2=\"11\" y1=\"144.168\" y2=\"144.168\"/><text fill=\"#000000\" font-family=\"sans-serif\" font-size=\"11\" lengthAdjust=\"spacingAndGlyphs\" textLength=\"83\" x=\"11\" y=\"147.4761\">decisionNodes</text><line style=\"stroke: #383838; stroke-width: 1.0;\" x1=\"94\" x2=\"97\" y1=\"144.168\" y2=\"144.168\"/><text fill=\"#000000\" font-family=\"sans-serif\" font-size=\"11\" lengthAdjust=\"spacingAndGlyphs\" textLength=\"8\" x=\"13\" y=\"190.3901\">S</text><line style=\"stroke: #383838; stroke-width: 1.0;\" x1=\"8\" x2=\"22\" y1=\"173.7773\" y2=\"173.7773\"/><text fill=\"#000000\" font-family=\"sans-serif\" font-size=\"11\" lengthAdjust=\"spacingAndGlyphs\" textLength=\"61\" x=\"22\" y=\"177.0854\">transitions</text><line style=\"stroke: #383838; stroke-width: 1.0;\" x1=\"83\" x2=\"97\" y1=\"173.7773\" y2=\"173.7773\"/></a><!--MD5=[78f7c579fb4e605fe60275ae365ef2c7]\n",
       "@startuml\r\n",
       " skinparam monochrome true\r\n",
       "skinparam classbackgroundcolor white\r\n",
       "skinparam shadowing false\r\n",
       "skinparam wrapWidth 300\r\n",
       "hide circle\r\n",
       "\r\n",
       "comp def \"DecisionTest\" as E1  <<(T,blue)action def>> [[psysml:04eadb4d-b968-4a2d-91e2-cdec302c279f ]] {\r\n",
       "- - attributes - -\r\n",
       "x\r\n",
       "- - actions - -\r\n",
       "A1\r\n",
       "A2\r\n",
       "A3\r\n",
       "- - decisionNodes - -\r\n",
       "test x\r\n",
       "- - transitions - -\r\n",
       "S\r\n",
       "}\r\n",
       "@enduml\r\n",
       "\n",
       "PlantUML version 1.2020.13(Sat Jun 13 12:26:38 UTC 2020)\n",
       "(EPL source distribution)\n",
       "Java Runtime: OpenJDK Runtime Environment\n",
       "JVM: OpenJDK 64-Bit Server VM\n",
       "Default Encoding: UTF-8\n",
       "Language: en\n",
       "Country: null\n",
       "--></g></svg>"
      ]
     },
     "execution_count": 3,
     "metadata": {},
     "output_type": "execute_result"
    }
   ],
   "source": [
    "%viz --style=\"COMPTREE\" --view=\"Tree\" \"DecisionTest\""
   ]
  },
  {
   "cell_type": "code",
   "execution_count": 4,
   "id": "southeast-bristol",
   "metadata": {
    "execution": {
     "iopub.execute_input": "2021-03-25T09:32:43.594144Z",
     "iopub.status.busy": "2021-03-25T09:32:43.592870Z",
     "iopub.status.idle": "2021-03-25T09:32:43.614555Z",
     "shell.execute_reply": "2021-03-25T09:32:43.614952Z"
    }
   },
   "outputs": [
    {
     "data": {
      "image/svg+xml": [
       "<?xml version=\"1.0\" encoding=\"UTF-8\" standalone=\"no\"?><svg xmlns=\"http://www.w3.org/2000/svg\" xmlns:xlink=\"http://www.w3.org/1999/xlink\" contentScriptType=\"application/ecmascript\" contentStyleType=\"text/css\" height=\"12px\" preserveAspectRatio=\"none\" style=\"width:12px;height:12px;\" version=\"1.1\" viewBox=\"0 0 12 12\" width=\"12px\" zoomAndPan=\"magnify\"><defs/><g><!--MD5=[f19188ef49e11757b5c46753f95d9edc]\n",
       "@startuml\r\n",
       " skinparam monochrome true\r\n",
       "skinparam classbackgroundcolor white\r\n",
       "skinparam shadowing false\r\n",
       "skinparam wrapWidth 300\r\n",
       "hide circle\r\n",
       "\r\n",
       "@enduml\r\n",
       "\n",
       "PlantUML version 1.2020.13(Sat Jun 13 12:26:38 UTC 2020)\n",
       "(EPL source distribution)\n",
       "Java Runtime: OpenJDK Runtime Environment\n",
       "JVM: OpenJDK 64-Bit Server VM\n",
       "Default Encoding: UTF-8\n",
       "Language: en\n",
       "Country: null\n",
       "--></g></svg>"
      ]
     },
     "execution_count": 4,
     "metadata": {},
     "output_type": "execute_result"
    }
   ],
   "source": [
    "%viz --style=\"COMPTREE\" --view=\"State\" \"DecisionTest\""
   ]
  },
  {
   "cell_type": "code",
   "execution_count": 5,
   "id": "centered-slovak",
   "metadata": {
    "execution": {
     "iopub.execute_input": "2021-03-25T09:32:43.668138Z",
     "iopub.status.busy": "2021-03-25T09:32:43.667542Z",
     "iopub.status.idle": "2021-03-25T09:32:43.705717Z",
     "shell.execute_reply": "2021-03-25T09:32:43.706279Z"
    }
   },
   "outputs": [
    {
     "data": {
      "image/svg+xml": [
       "<?xml version=\"1.0\" encoding=\"UTF-8\" standalone=\"no\"?><svg xmlns=\"http://www.w3.org/2000/svg\" xmlns:xlink=\"http://www.w3.org/1999/xlink\" contentScriptType=\"application/ecmascript\" contentStyleType=\"text/css\" height=\"60px\" preserveAspectRatio=\"none\" style=\"width:109px;height:60px;\" version=\"1.1\" viewBox=\"0 0 109 60\" width=\"109px\" zoomAndPan=\"magnify\"><defs/><g><g id=\"E1\"><a href=\"psysml:04eadb4d-b968-4a2d-91e2-cdec302c279f\" target=\"_top\" title=\"psysml:04eadb4d-b968-4a2d-91e2-cdec302c279f\" xlink:actuate=\"onRequest\" xlink:href=\"psysml:04eadb4d-b968-4a2d-91e2-cdec302c279f\" xlink:show=\"new\" xlink:title=\"psysml:04eadb4d-b968-4a2d-91e2-cdec302c279f\" xlink:type=\"simple\"><rect fill=\"#FFFFFF\" height=\"42.9375\" id=\"E1\" style=\"stroke: #383838; stroke-width: 1.5;\" width=\"91\" x=\"7\" y=\"7\"/><rect fill=\"#F8F8F8\" height=\"37.9375\" style=\"stroke: #383838; stroke-width: 1.5;\" width=\"91\" x=\"7\" y=\"7\"/><text fill=\"#000000\" font-family=\"sans-serif\" font-size=\"12\" font-style=\"italic\" lengthAdjust=\"spacingAndGlyphs\" textLength=\"77\" x=\"14\" y=\"23.1387\">«action def»</text><text fill=\"#000000\" font-family=\"sans-serif\" font-size=\"12\" lengthAdjust=\"spacingAndGlyphs\" textLength=\"80\" x=\"12.5\" y=\"37.1074\">DecisionTest</text></a></g><!--MD5=[954f3d7fb549245b18aeb2791e2a9a7c]\n",
       "@startuml\r\n",
       "skinparam ranksep 8\r\n",
       "skinparam rectangle {\r\n",
       " backgroundColor<<block>> LightGreen\r\n",
       "}\r\n",
       " skinparam monochrome true\r\n",
       "skinparam classbackgroundcolor white\r\n",
       "skinparam shadowing false\r\n",
       "skinparam wrapWidth 300\r\n",
       "hide circle\r\n",
       "\r\n",
       "def \"DecisionTest\" as E1  <<(T,blue)action def>> [[psysml:04eadb4d-b968-4a2d-91e2-cdec302c279f ]] \r\n",
       "@enduml\r\n",
       "\n",
       "PlantUML version 1.2020.13(Sat Jun 13 12:26:38 UTC 2020)\n",
       "(EPL source distribution)\n",
       "Java Runtime: OpenJDK Runtime Environment\n",
       "JVM: OpenJDK 64-Bit Server VM\n",
       "Default Encoding: UTF-8\n",
       "Language: en\n",
       "Country: null\n",
       "--></g></svg>"
      ]
     },
     "execution_count": 5,
     "metadata": {},
     "output_type": "execute_result"
    }
   ],
   "source": [
    "%viz --style=\"COMPTREE\" --view=\"Interconnection\" \"DecisionTest\""
   ]
  },
  {
   "cell_type": "code",
   "execution_count": 6,
   "id": "classical-fountain",
   "metadata": {
    "execution": {
     "iopub.execute_input": "2021-03-25T09:32:43.758330Z",
     "iopub.status.busy": "2021-03-25T09:32:43.757644Z",
     "iopub.status.idle": "2021-03-25T09:32:43.804465Z",
     "shell.execute_reply": "2021-03-25T09:32:43.804940Z"
    }
   },
   "outputs": [
    {
     "data": {
      "image/svg+xml": [
       "<?xml version=\"1.0\" encoding=\"UTF-8\" standalone=\"no\"?><svg xmlns=\"http://www.w3.org/2000/svg\" xmlns:xlink=\"http://www.w3.org/1999/xlink\" contentScriptType=\"application/ecmascript\" contentStyleType=\"text/css\" height=\"288px\" preserveAspectRatio=\"none\" style=\"width:875px;height:288px;background:#000000;\" version=\"1.1\" viewBox=\"0 0 875 288\" width=\"875px\" zoomAndPan=\"magnify\"><defs/><g><rect fill=\"#170504\" height=\"1\" style=\"stroke: #170504; stroke-width: 1.0;\" width=\"1\" x=\"0\" y=\"0\"/><rect fill=\"#33FF02\" height=\"21.2969\" style=\"stroke: #33FF02; stroke-width: 1.0;\" width=\"868\" x=\"5\" y=\"5\"/><text fill=\"#000000\" font-family=\"sans-serif\" font-size=\"14\" font-weight=\"bold\" lengthAdjust=\"spacingAndGlyphs\" textLength=\"178\" x=\"6\" y=\"20\">[From string (line 14) ]</text><text fill=\"#33FF02\" font-family=\"sans-serif\" font-size=\"14\" font-weight=\"bold\" lengthAdjust=\"spacingAndGlyphs\" textLength=\"0\" x=\"10\" y=\"40.2969\"/><text fill=\"#33FF02\" font-family=\"sans-serif\" font-size=\"14\" font-weight=\"bold\" lengthAdjust=\"spacingAndGlyphs\" textLength=\"79\" x=\"5\" y=\"56.5938\">@startuml</text><text fill=\"#33FF02\" font-family=\"sans-serif\" font-size=\"14\" font-weight=\"bold\" lengthAdjust=\"spacingAndGlyphs\" textLength=\"165\" x=\"5\" y=\"72.8906\">skinparam ranksep 8</text><text fill=\"#33FF02\" font-family=\"sans-serif\" font-size=\"14\" font-weight=\"bold\" lengthAdjust=\"spacingAndGlyphs\" textLength=\"228\" x=\"10\" y=\"89.1875\">skinparam monochrome true</text><text fill=\"#33FF02\" font-family=\"sans-serif\" font-size=\"14\" font-weight=\"bold\" lengthAdjust=\"spacingAndGlyphs\" textLength=\"309\" x=\"5\" y=\"105.4844\">skinparam classbackgroundcolor white</text><text fill=\"#33FF02\" font-family=\"sans-serif\" font-size=\"14\" font-weight=\"bold\" lengthAdjust=\"spacingAndGlyphs\" textLength=\"215\" x=\"5\" y=\"121.7813\">skinparam shadowing false</text><text fill=\"#33FF02\" font-family=\"sans-serif\" font-size=\"14\" font-weight=\"bold\" lengthAdjust=\"spacingAndGlyphs\" textLength=\"206\" x=\"5\" y=\"138.0781\">skinparam wrapWidth 300</text><text fill=\"#33FF02\" font-family=\"sans-serif\" font-size=\"14\" font-weight=\"bold\" lengthAdjust=\"spacingAndGlyphs\" textLength=\"82\" x=\"5\" y=\"154.375\">hide circle</text><text fill=\"#33FF02\" font-family=\"sans-serif\" font-size=\"14\" font-weight=\"bold\" lengthAdjust=\"spacingAndGlyphs\" textLength=\"0\" x=\"10\" y=\"170.6719\"/><text fill=\"#33FF02\" font-family=\"sans-serif\" font-size=\"14\" font-weight=\"bold\" lengthAdjust=\"spacingAndGlyphs\" textLength=\"868\" x=\"5\" y=\"186.9688\">rec def \"DecisionTest\" as E1  &lt;&lt;(T,blue)action def&gt;&gt; [[psysml:04eadb4d-b968-4a2d-91e2-cdec302c279f ]] {</text><text fill=\"#33FF02\" font-family=\"sans-serif\" font-size=\"14\" font-weight=\"bold\" lengthAdjust=\"spacingAndGlyphs\" textLength=\"614\" x=\"5\" y=\"203.2656\">portout \"$result\" as E2  [[psysml:f2b0b0cc-45ae-4166-8d5e-a5963ecab31c ]]</text><text fill=\"#33FF02\" font-family=\"sans-serif\" font-size=\"14\" font-weight=\"bold\" lengthAdjust=\"spacingAndGlyphs\" textLength=\"865\" x=\"5\" y=\"219.5625\">rec usage \"test x\" as E3  &lt;&lt;(T,blue)decisionNode&gt;&gt; [[psysml:12adcb2e-22ad-4270-ad09-4bee8bb9d85c ]] {</text><text fill=\"#33FF02\" font-family=\"sans-serif\" font-size=\"14\" font-weight=\"bold\" lengthAdjust=\"spacingAndGlyphs\" textLength=\"10\" x=\"5\" y=\"235.8594\">}</text><text fill=\"#33FF02\" font-family=\"sans-serif\" font-size=\"14\" font-weight=\"bold\" lengthAdjust=\"spacingAndGlyphs\" textLength=\"0\" x=\"10\" y=\"252.1563\"/><text fill=\"#33FF02\" font-family=\"sans-serif\" font-size=\"14\" font-weight=\"bold\" lengthAdjust=\"spacingAndGlyphs\" textLength=\"10\" x=\"5\" y=\"268.4531\">{</text><text fill=\"#FF0000\" font-family=\"sans-serif\" font-size=\"14\" font-weight=\"bold\" lengthAdjust=\"spacingAndGlyphs\" textLength=\"106\" x=\"10\" y=\"284.75\">Syntax Error?</text><!--MD5=[be2afcda21d12c2b6fcc2ec8201aa391]\n",
       "@startuml\r\n",
       "skinparam ranksep 8\r\n",
       " skinparam monochrome true\r\n",
       "skinparam classbackgroundcolor white\r\n",
       "skinparam shadowing false\r\n",
       "skinparam wrapWidth 300\r\n",
       "hide circle\r\n",
       "\r\n",
       "rec def \"DecisionTest\" as E1  <<(T,blue)action def>> [[psysml:04eadb4d-b968-4a2d-91e2-cdec302c279f ]] {\r\n",
       "portout \"$result\" as E2  [[psysml:f2b0b0cc-45ae-4166-8d5e-a5963ecab31c ]] \r\n",
       "rec usage \"test x\" as E3  <<(T,blue)decisionNode>> [[psysml:12adcb2e-22ad-4270-ad09-4bee8bb9d85c ]] {\r\n",
       "}\r\n",
       "\r\n",
       "{\r\n",
       "portout \"$result\" as E4  [[psysml:da91a906-8207-462d-99e2-a18dec940aa7 ]] \r\n",
       "portin \"$x\" as E5  [[psysml:48c17a69-1eb9-4ad6-876e-38a96ca6e086 ]] \r\n",
       "portin \"$y\" as E6  [[psysml:603631ec-51c5-4249-8487-a79a64da6afc ]] \r\n",
       "portout \"$result\" as E7  [[psysml:26e7255e-bbd8-4ac7-a816-6f3abc826445 ]] \r\n",
       "}\r\n",
       "\r\n",
       "{\r\n",
       "portout \"$result\" as E8  [[psysml:34caa6ec-959e-4145-98ad-4a477d59f379 ]] \r\n",
       "portin \"$x\" as E9  [[psysml:a97d47b4-a3dd-4bbd-be98-fc91aed6e874 ]] \r\n",
       "portin \"$y\" as E10  [[psysml:4dcabb7c-801c-43eb-b65b-ea55ba06df11 ]] \r\n",
       "portout \"$result\" as E11  [[psysml:cd7ecfb5-304f-4537-af93-5efd7128d3b2 ]] \r\n",
       "}\r\n",
       "\r\n",
       "{\r\n",
       "}\r\n",
       "\r\n",
       "{\r\n",
       "}\r\n",
       "\r\n",
       "{\r\n",
       "portout \"$result\" as E12  [[psysml:f92bbb85-cf19-4dd5-984f-8fe428e355f9 ]] \r\n",
       "}\r\n",
       "\r\n",
       "{\r\n",
       "portout \"$result\" as E13  [[psysml:b44daa1d-0d17-440b-affc-4aae51a046a3 ]] \r\n",
       "}\r\n",
       "\r\n",
       "rec usage \"A1\" as E14  <<(T,blue)action>> [[psysml:b6d0d4a5-7082-45af-9d99-5627255ed9ae ]] {\r\n",
       "}\r\n",
       "\r\n",
       "rec usage \"A2\" as E15  <<(T,blue)action>> [[psysml:60e701bb-1db7-4263-ad0a-ece44064a54f ]] {\r\n",
       "}\r\n",
       "\r\n",
       "rec usage \"A3\" as E16  <<(T,blue)action>> [[psysml:072d93d2-c298-4f7b-8e67-b467b8356ba8 ]] {\r\n",
       "}\r\n",
       "\r\n",
       "rec usage \"S\" as E17  <<(T,blue)transition>> [[psysml:4c480f3e-de35-416e-b4f4-0f9aff9c2e68 ]] {\r\n",
       "rec usage \"A1\" as E18  <<(T,blue)action>> [[psysml:b6d0d4a5-7082-45af-9d99-5627255ed9ae ]] {\r\n",
       "}\r\n",
       "\r\n",
       "portout \"$result\" as E19  [[psysml:bae59e2e-3013-4238-add2-fcdff8ecd0eb ]] \r\n",
       "portin \"$x\" as E20  [[psysml:1602ff6f-7228-42cf-b9ac-ebc006cdcd92 ]] \r\n",
       "portin \"$y\" as E21  [[psysml:f75bdb3f-e701-450d-b4f7-b218e85bedc6 ]] \r\n",
       "portout \"$result\" as E22  [[psysml:671b30d7-f020-4858-831b-48c54d9c890b ]] \r\n",
       "}\r\n",
       "\r\n",
       "rec usage \"A3\" as E23  <<(T,blue)action>> [[psysml:072d93d2-c298-4f7b-8e67-b467b8356ba8 ]] {\r\n",
       "}\r\n",
       "\r\n",
       "{\r\n",
       "portout \"$result\" as E24  [[psysml:607bce31-a36d-4c4f-abb5-7d6a5b1eba4c ]] \r\n",
       "portin \"$x\" as E25  [[psysml:30d6127f-38d3-47e6-b88f-d8a7d1fd2593 ]] \r\n",
       "portin \"$y\" as E26  [[psysml:c49c5fa4-01bf-436f-878e-c0b2dd911bef ]] \r\n",
       "portout \"$result\" as E27  [[psysml:cfd24cc8-3d79-4a43-93a1-f42931f2c990 ]] \r\n",
       "}\r\n",
       "\r\n",
       "}\r\n",
       "\r\n",
       "@enduml\r\n",
       "\n",
       "PlantUML version 1.2020.13(Sat Jun 13 12:26:38 UTC 2020)\n",
       "(EPL source distribution)\n",
       "Java Runtime: OpenJDK Runtime Environment\n",
       "JVM: OpenJDK 64-Bit Server VM\n",
       "Default Encoding: UTF-8\n",
       "Language: en\n",
       "Country: null\n",
       "--></g></svg>"
      ]
     },
     "execution_count": 6,
     "metadata": {},
     "output_type": "execute_result"
    }
   ],
   "source": [
    "%viz --style=\"COMPTREE\" --view=\"Action\" \"DecisionTest\""
   ]
  },
  {
   "cell_type": "code",
   "execution_count": 7,
   "id": "authorized-management",
   "metadata": {
    "execution": {
     "iopub.execute_input": "2021-03-25T09:32:43.856895Z",
     "iopub.status.busy": "2021-03-25T09:32:43.856453Z",
     "iopub.status.idle": "2021-03-25T09:32:44.263328Z",
     "shell.execute_reply": "2021-03-25T09:32:44.262732Z"
    }
   },
   "outputs": [
    {
     "data": {
      "image/svg+xml": [
       "<?xml version=\"1.0\" encoding=\"UTF-8\" standalone=\"no\"?><svg xmlns=\"http://www.w3.org/2000/svg\" xmlns:xlink=\"http://www.w3.org/1999/xlink\" contentScriptType=\"application/ecmascript\" contentStyleType=\"text/css\" height=\"207px\" preserveAspectRatio=\"none\" style=\"width:109px;height:207px;\" version=\"1.1\" viewBox=\"0 0 109 207\" width=\"109px\" zoomAndPan=\"magnify\"><defs/><g><!--MD5=[43c9051892ef23e1a46a86907403d788]\n",
       "class E1--><a href=\"psysml:04eadb4d-b968-4a2d-91e2-cdec302c279f\" target=\"_top\" title=\"psysml:04eadb4d-b968-4a2d-91e2-cdec302c279f\" xlink:actuate=\"onRequest\" xlink:href=\"psysml:04eadb4d-b968-4a2d-91e2-cdec302c279f\" xlink:show=\"new\" xlink:title=\"psysml:04eadb4d-b968-4a2d-91e2-cdec302c279f\" xlink:type=\"simple\"><rect fill=\"#FFFFFF\" height=\"189.9844\" id=\"E1\" style=\"stroke: #383838; stroke-width: 1.5;\" width=\"91\" x=\"7\" y=\"7\"/><text fill=\"#000000\" font-family=\"sans-serif\" font-size=\"12\" font-style=\"italic\" lengthAdjust=\"spacingAndGlyphs\" textLength=\"77\" x=\"14\" y=\"23.1387\">«action def»</text><text fill=\"#000000\" font-family=\"sans-serif\" font-size=\"12\" lengthAdjust=\"spacingAndGlyphs\" textLength=\"80\" x=\"12.5\" y=\"37.1074\">DecisionTest</text><line style=\"stroke: #383838; stroke-width: 1.5;\" x1=\"8\" x2=\"97\" y1=\"44.9375\" y2=\"44.9375\"/><text fill=\"#000000\" font-family=\"sans-serif\" font-size=\"11\" lengthAdjust=\"spacingAndGlyphs\" textLength=\"6\" x=\"13\" y=\"75.9526\">x</text><line style=\"stroke: #383838; stroke-width: 1.0;\" x1=\"8\" x2=\"25\" y1=\"59.3398\" y2=\"59.3398\"/><text fill=\"#000000\" font-family=\"sans-serif\" font-size=\"11\" lengthAdjust=\"spacingAndGlyphs\" textLength=\"55\" x=\"25\" y=\"62.6479\">attributes</text><line style=\"stroke: #383838; stroke-width: 1.0;\" x1=\"80\" x2=\"97\" y1=\"59.3398\" y2=\"59.3398\"/><text fill=\"#000000\" font-family=\"sans-serif\" font-size=\"11\" lengthAdjust=\"spacingAndGlyphs\" textLength=\"14\" x=\"13\" y=\"105.562\">A1</text><text fill=\"#000000\" font-family=\"sans-serif\" font-size=\"11\" lengthAdjust=\"spacingAndGlyphs\" textLength=\"14\" x=\"13\" y=\"118.3667\">A2</text><text fill=\"#000000\" font-family=\"sans-serif\" font-size=\"11\" lengthAdjust=\"spacingAndGlyphs\" textLength=\"14\" x=\"13\" y=\"131.1714\">A3</text><line style=\"stroke: #383838; stroke-width: 1.0;\" x1=\"8\" x2=\"32\" y1=\"88.9492\" y2=\"88.9492\"/><text fill=\"#000000\" font-family=\"sans-serif\" font-size=\"11\" lengthAdjust=\"spacingAndGlyphs\" textLength=\"41\" x=\"32\" y=\"92.2573\">actions</text><line style=\"stroke: #383838; stroke-width: 1.0;\" x1=\"73\" x2=\"97\" y1=\"88.9492\" y2=\"88.9492\"/><text fill=\"#000000\" font-family=\"sans-serif\" font-size=\"11\" lengthAdjust=\"spacingAndGlyphs\" textLength=\"32\" x=\"13\" y=\"160.7808\">test x</text><line style=\"stroke: #383838; stroke-width: 1.0;\" x1=\"8\" x2=\"11\" y1=\"144.168\" y2=\"144.168\"/><text fill=\"#000000\" font-family=\"sans-serif\" font-size=\"11\" lengthAdjust=\"spacingAndGlyphs\" textLength=\"83\" x=\"11\" y=\"147.4761\">decisionNodes</text><line style=\"stroke: #383838; stroke-width: 1.0;\" x1=\"94\" x2=\"97\" y1=\"144.168\" y2=\"144.168\"/><text fill=\"#000000\" font-family=\"sans-serif\" font-size=\"11\" lengthAdjust=\"spacingAndGlyphs\" textLength=\"8\" x=\"13\" y=\"190.3901\">S</text><line style=\"stroke: #383838; stroke-width: 1.0;\" x1=\"8\" x2=\"22\" y1=\"173.7773\" y2=\"173.7773\"/><text fill=\"#000000\" font-family=\"sans-serif\" font-size=\"11\" lengthAdjust=\"spacingAndGlyphs\" textLength=\"61\" x=\"22\" y=\"177.0854\">transitions</text><line style=\"stroke: #383838; stroke-width: 1.0;\" x1=\"83\" x2=\"97\" y1=\"173.7773\" y2=\"173.7773\"/></a><!--MD5=[78f7c579fb4e605fe60275ae365ef2c7]\n",
       "@startuml\r\n",
       " skinparam monochrome true\r\n",
       "skinparam classbackgroundcolor white\r\n",
       "skinparam shadowing false\r\n",
       "skinparam wrapWidth 300\r\n",
       "hide circle\r\n",
       "\r\n",
       "comp def \"DecisionTest\" as E1  <<(T,blue)action def>> [[psysml:04eadb4d-b968-4a2d-91e2-cdec302c279f ]] {\r\n",
       "- - attributes - -\r\n",
       "x\r\n",
       "- - actions - -\r\n",
       "A1\r\n",
       "A2\r\n",
       "A3\r\n",
       "- - decisionNodes - -\r\n",
       "test x\r\n",
       "- - transitions - -\r\n",
       "S\r\n",
       "}\r\n",
       "@enduml\r\n",
       "\n",
       "PlantUML version 1.2020.13(Sat Jun 13 12:26:38 UTC 2020)\n",
       "(EPL source distribution)\n",
       "Java Runtime: OpenJDK Runtime Environment\n",
       "JVM: OpenJDK 64-Bit Server VM\n",
       "Default Encoding: UTF-8\n",
       "Language: en\n",
       "Country: null\n",
       "--></g></svg>"
      ]
     },
     "execution_count": 7,
     "metadata": {},
     "output_type": "execute_result"
    }
   ],
   "source": [
    "%viz --style=\"COMPTREE\" --view=\"Sequence\" \"DecisionTest\""
   ]
  },
  {
   "cell_type": "code",
   "execution_count": 8,
   "id": "proof-divide",
   "metadata": {
    "execution": {
     "iopub.execute_input": "2021-03-25T09:32:44.316998Z",
     "iopub.status.busy": "2021-03-25T09:32:44.316320Z",
     "iopub.status.idle": "2021-03-25T09:32:44.350971Z",
     "shell.execute_reply": "2021-03-25T09:32:44.349506Z"
    }
   },
   "outputs": [
    {
     "data": {
      "image/svg+xml": [
       "<?xml version=\"1.0\" encoding=\"UTF-8\" standalone=\"no\"?><svg xmlns=\"http://www.w3.org/2000/svg\" xmlns:xlink=\"http://www.w3.org/1999/xlink\" contentScriptType=\"application/ecmascript\" contentStyleType=\"text/css\" height=\"271px\" preserveAspectRatio=\"none\" style=\"width:875px;height:271px;background:#000000;\" version=\"1.1\" viewBox=\"0 0 875 271\" width=\"875px\" zoomAndPan=\"magnify\"><defs/><g><rect fill=\"#050207\" height=\"1\" style=\"stroke: #050207; stroke-width: 1.0;\" width=\"1\" x=\"0\" y=\"0\"/><rect fill=\"#33FF02\" height=\"21.2969\" style=\"stroke: #33FF02; stroke-width: 1.0;\" width=\"868\" x=\"5\" y=\"5\"/><text fill=\"#000000\" font-family=\"sans-serif\" font-size=\"14\" font-weight=\"bold\" lengthAdjust=\"spacingAndGlyphs\" textLength=\"178\" x=\"6\" y=\"20\">[From string (line 13) ]</text><text fill=\"#33FF02\" font-family=\"sans-serif\" font-size=\"14\" font-weight=\"bold\" lengthAdjust=\"spacingAndGlyphs\" textLength=\"0\" x=\"10\" y=\"40.2969\"/><text fill=\"#33FF02\" font-family=\"sans-serif\" font-size=\"14\" font-weight=\"bold\" lengthAdjust=\"spacingAndGlyphs\" textLength=\"79\" x=\"5\" y=\"56.5938\">@startuml</text><text fill=\"#33FF02\" font-family=\"sans-serif\" font-size=\"14\" font-weight=\"bold\" lengthAdjust=\"spacingAndGlyphs\" textLength=\"228\" x=\"10\" y=\"72.8906\">skinparam monochrome true</text><text fill=\"#33FF02\" font-family=\"sans-serif\" font-size=\"14\" font-weight=\"bold\" lengthAdjust=\"spacingAndGlyphs\" textLength=\"309\" x=\"5\" y=\"89.1875\">skinparam classbackgroundcolor white</text><text fill=\"#33FF02\" font-family=\"sans-serif\" font-size=\"14\" font-weight=\"bold\" lengthAdjust=\"spacingAndGlyphs\" textLength=\"215\" x=\"5\" y=\"105.4844\">skinparam shadowing false</text><text fill=\"#33FF02\" font-family=\"sans-serif\" font-size=\"14\" font-weight=\"bold\" lengthAdjust=\"spacingAndGlyphs\" textLength=\"206\" x=\"5\" y=\"121.7813\">skinparam wrapWidth 300</text><text fill=\"#33FF02\" font-family=\"sans-serif\" font-size=\"14\" font-weight=\"bold\" lengthAdjust=\"spacingAndGlyphs\" textLength=\"82\" x=\"5\" y=\"138.0781\">hide circle</text><text fill=\"#33FF02\" font-family=\"sans-serif\" font-size=\"14\" font-weight=\"bold\" lengthAdjust=\"spacingAndGlyphs\" textLength=\"0\" x=\"10\" y=\"154.375\"/><text fill=\"#33FF02\" font-family=\"sans-serif\" font-size=\"14\" font-weight=\"bold\" lengthAdjust=\"spacingAndGlyphs\" textLength=\"868\" x=\"5\" y=\"170.6719\">rec def \"DecisionTest\" as E1  &lt;&lt;(T,blue)action def&gt;&gt; [[psysml:04eadb4d-b968-4a2d-91e2-cdec302c279f ]] {</text><text fill=\"#33FF02\" font-family=\"sans-serif\" font-size=\"14\" font-weight=\"bold\" lengthAdjust=\"spacingAndGlyphs\" textLength=\"614\" x=\"5\" y=\"186.9688\">portout \"$result\" as E2  [[psysml:f2b0b0cc-45ae-4166-8d5e-a5963ecab31c ]]</text><text fill=\"#33FF02\" font-family=\"sans-serif\" font-size=\"14\" font-weight=\"bold\" lengthAdjust=\"spacingAndGlyphs\" textLength=\"865\" x=\"5\" y=\"203.2656\">rec usage \"test x\" as E3  &lt;&lt;(T,blue)decisionNode&gt;&gt; [[psysml:12adcb2e-22ad-4270-ad09-4bee8bb9d85c ]] {</text><text fill=\"#33FF02\" font-family=\"sans-serif\" font-size=\"14\" font-weight=\"bold\" lengthAdjust=\"spacingAndGlyphs\" textLength=\"10\" x=\"5\" y=\"219.5625\">}</text><text fill=\"#33FF02\" font-family=\"sans-serif\" font-size=\"14\" font-weight=\"bold\" lengthAdjust=\"spacingAndGlyphs\" textLength=\"0\" x=\"10\" y=\"235.8594\"/><text fill=\"#33FF02\" font-family=\"sans-serif\" font-size=\"14\" font-weight=\"bold\" lengthAdjust=\"spacingAndGlyphs\" textLength=\"10\" x=\"5\" y=\"252.1563\">{</text><text fill=\"#FF0000\" font-family=\"sans-serif\" font-size=\"14\" font-weight=\"bold\" lengthAdjust=\"spacingAndGlyphs\" textLength=\"106\" x=\"10\" y=\"268.4531\">Syntax Error?</text><!--MD5=[5292296f280f68e59031de3553bb9118]\n",
       "@startuml\r\n",
       " skinparam monochrome true\r\n",
       "skinparam classbackgroundcolor white\r\n",
       "skinparam shadowing false\r\n",
       "skinparam wrapWidth 300\r\n",
       "hide circle\r\n",
       "\r\n",
       "rec def \"DecisionTest\" as E1  <<(T,blue)action def>> [[psysml:04eadb4d-b968-4a2d-91e2-cdec302c279f ]] {\r\n",
       "portout \"$result\" as E2  [[psysml:f2b0b0cc-45ae-4166-8d5e-a5963ecab31c ]] \r\n",
       "rec usage \"test x\" as E3  <<(T,blue)decisionNode>> [[psysml:12adcb2e-22ad-4270-ad09-4bee8bb9d85c ]] {\r\n",
       "}\r\n",
       "\r\n",
       "{\r\n",
       "portout \"$result\" as E4  [[psysml:da91a906-8207-462d-99e2-a18dec940aa7 ]] \r\n",
       "portin \"$x\" as E5  [[psysml:48c17a69-1eb9-4ad6-876e-38a96ca6e086 ]] \r\n",
       "portin \"$y\" as E6  [[psysml:603631ec-51c5-4249-8487-a79a64da6afc ]] \r\n",
       "portout \"$result\" as E7  [[psysml:26e7255e-bbd8-4ac7-a816-6f3abc826445 ]] \r\n",
       "}\r\n",
       "\r\n",
       "{\r\n",
       "portout \"$result\" as E8  [[psysml:34caa6ec-959e-4145-98ad-4a477d59f379 ]] \r\n",
       "portin \"$x\" as E9  [[psysml:a97d47b4-a3dd-4bbd-be98-fc91aed6e874 ]] \r\n",
       "portin \"$y\" as E10  [[psysml:4dcabb7c-801c-43eb-b65b-ea55ba06df11 ]] \r\n",
       "portout \"$result\" as E11  [[psysml:cd7ecfb5-304f-4537-af93-5efd7128d3b2 ]] \r\n",
       "}\r\n",
       "\r\n",
       "{\r\n",
       "}\r\n",
       "\r\n",
       "{\r\n",
       "}\r\n",
       "\r\n",
       "{\r\n",
       "portout \"$result\" as E12  [[psysml:f92bbb85-cf19-4dd5-984f-8fe428e355f9 ]] \r\n",
       "}\r\n",
       "\r\n",
       "{\r\n",
       "portout \"$result\" as E13  [[psysml:b44daa1d-0d17-440b-affc-4aae51a046a3 ]] \r\n",
       "}\r\n",
       "\r\n",
       "rec usage \"A1\" as E14  <<(T,blue)action>> [[psysml:b6d0d4a5-7082-45af-9d99-5627255ed9ae ]] {\r\n",
       "}\r\n",
       "\r\n",
       "rec usage \"A2\" as E15  <<(T,blue)action>> [[psysml:60e701bb-1db7-4263-ad0a-ece44064a54f ]] {\r\n",
       "}\r\n",
       "\r\n",
       "rec usage \"A3\" as E16  <<(T,blue)action>> [[psysml:072d93d2-c298-4f7b-8e67-b467b8356ba8 ]] {\r\n",
       "}\r\n",
       "\r\n",
       "rec usage \"S\" as E17  <<(T,blue)transition>> [[psysml:4c480f3e-de35-416e-b4f4-0f9aff9c2e68 ]] {\r\n",
       "rec usage \"A1\" as E18  <<(T,blue)action>> [[psysml:b6d0d4a5-7082-45af-9d99-5627255ed9ae ]] {\r\n",
       "}\r\n",
       "\r\n",
       "portout \"$result\" as E19  [[psysml:bae59e2e-3013-4238-add2-fcdff8ecd0eb ]] \r\n",
       "portin \"$x\" as E20  [[psysml:1602ff6f-7228-42cf-b9ac-ebc006cdcd92 ]] \r\n",
       "portin \"$y\" as E21  [[psysml:f75bdb3f-e701-450d-b4f7-b218e85bedc6 ]] \r\n",
       "portout \"$result\" as E22  [[psysml:671b30d7-f020-4858-831b-48c54d9c890b ]] \r\n",
       "}\r\n",
       "\r\n",
       "rec usage \"A3\" as E23  <<(T,blue)action>> [[psysml:072d93d2-c298-4f7b-8e67-b467b8356ba8 ]] {\r\n",
       "}\r\n",
       "\r\n",
       "{\r\n",
       "portout \"$result\" as E24  [[psysml:607bce31-a36d-4c4f-abb5-7d6a5b1eba4c ]] \r\n",
       "portin \"$x\" as E25  [[psysml:30d6127f-38d3-47e6-b88f-d8a7d1fd2593 ]] \r\n",
       "portin \"$y\" as E26  [[psysml:c49c5fa4-01bf-436f-878e-c0b2dd911bef ]] \r\n",
       "portout \"$result\" as E27  [[psysml:cfd24cc8-3d79-4a43-93a1-f42931f2c990 ]] \r\n",
       "}\r\n",
       "\r\n",
       "}\r\n",
       "\r\n",
       "@enduml\r\n",
       "\n",
       "PlantUML version 1.2020.13(Sat Jun 13 12:26:38 UTC 2020)\n",
       "(EPL source distribution)\n",
       "Java Runtime: OpenJDK Runtime Environment\n",
       "JVM: OpenJDK 64-Bit Server VM\n",
       "Default Encoding: UTF-8\n",
       "Language: en\n",
       "Country: null\n",
       "--></g></svg>"
      ]
     },
     "execution_count": 8,
     "metadata": {},
     "output_type": "execute_result"
    }
   ],
   "source": [
    "%viz --style=\"COMPTREE\" --view=\"MIXED\" \"DecisionTest\""
   ]
  },
  {
   "cell_type": "code",
   "execution_count": 9,
   "id": "korean-computer",
   "metadata": {
    "execution": {
     "iopub.execute_input": "2021-03-25T09:32:44.403770Z",
     "iopub.status.busy": "2021-03-25T09:32:44.402728Z",
     "iopub.status.idle": "2021-03-25T09:32:44.440854Z",
     "shell.execute_reply": "2021-03-25T09:32:44.439719Z"
    }
   },
   "outputs": [
    {
     "data": {
      "image/svg+xml": [
       "<?xml version=\"1.0\" encoding=\"UTF-8\" standalone=\"no\"?><svg xmlns=\"http://www.w3.org/2000/svg\" xmlns:xlink=\"http://www.w3.org/1999/xlink\" contentScriptType=\"application/ecmascript\" contentStyleType=\"text/css\" height=\"288px\" preserveAspectRatio=\"none\" style=\"width:875px;height:288px;background:#000000;\" version=\"1.1\" viewBox=\"0 0 875 288\" width=\"875px\" zoomAndPan=\"magnify\"><defs/><g><rect fill=\"#00041C\" height=\"1\" style=\"stroke: #00041C; stroke-width: 1.0;\" width=\"1\" x=\"0\" y=\"0\"/><rect fill=\"#33FF02\" height=\"21.2969\" style=\"stroke: #33FF02; stroke-width: 1.0;\" width=\"868\" x=\"5\" y=\"5\"/><text fill=\"#000000\" font-family=\"sans-serif\" font-size=\"14\" font-weight=\"bold\" lengthAdjust=\"spacingAndGlyphs\" textLength=\"178\" x=\"6\" y=\"20\">[From string (line 14) ]</text><text fill=\"#33FF02\" font-family=\"sans-serif\" font-size=\"14\" font-weight=\"bold\" lengthAdjust=\"spacingAndGlyphs\" textLength=\"0\" x=\"10\" y=\"40.2969\"/><text fill=\"#33FF02\" font-family=\"sans-serif\" font-size=\"14\" font-weight=\"bold\" lengthAdjust=\"spacingAndGlyphs\" textLength=\"79\" x=\"5\" y=\"56.5938\">@startuml</text><text fill=\"#33FF02\" font-family=\"sans-serif\" font-size=\"14\" font-weight=\"bold\" lengthAdjust=\"spacingAndGlyphs\" textLength=\"215\" x=\"5\" y=\"72.8906\">skinparam linetype polyline</text><text fill=\"#33FF02\" font-family=\"sans-serif\" font-size=\"14\" font-weight=\"bold\" lengthAdjust=\"spacingAndGlyphs\" textLength=\"228\" x=\"5\" y=\"89.1875\">skinparam monochrome true</text><text fill=\"#33FF02\" font-family=\"sans-serif\" font-size=\"14\" font-weight=\"bold\" lengthAdjust=\"spacingAndGlyphs\" textLength=\"309\" x=\"5\" y=\"105.4844\">skinparam classbackgroundcolor white</text><text fill=\"#33FF02\" font-family=\"sans-serif\" font-size=\"14\" font-weight=\"bold\" lengthAdjust=\"spacingAndGlyphs\" textLength=\"215\" x=\"5\" y=\"121.7813\">skinparam shadowing false</text><text fill=\"#33FF02\" font-family=\"sans-serif\" font-size=\"14\" font-weight=\"bold\" lengthAdjust=\"spacingAndGlyphs\" textLength=\"206\" x=\"5\" y=\"138.0781\">skinparam wrapWidth 300</text><text fill=\"#33FF02\" font-family=\"sans-serif\" font-size=\"14\" font-weight=\"bold\" lengthAdjust=\"spacingAndGlyphs\" textLength=\"82\" x=\"5\" y=\"154.375\">hide circle</text><text fill=\"#33FF02\" font-family=\"sans-serif\" font-size=\"14\" font-weight=\"bold\" lengthAdjust=\"spacingAndGlyphs\" textLength=\"0\" x=\"10\" y=\"170.6719\"/><text fill=\"#33FF02\" font-family=\"sans-serif\" font-size=\"14\" font-weight=\"bold\" lengthAdjust=\"spacingAndGlyphs\" textLength=\"868\" x=\"5\" y=\"186.9688\">rec def \"DecisionTest\" as E1  &lt;&lt;(T,blue)action def&gt;&gt; [[psysml:04eadb4d-b968-4a2d-91e2-cdec302c279f ]] {</text><text fill=\"#33FF02\" font-family=\"sans-serif\" font-size=\"14\" font-weight=\"bold\" lengthAdjust=\"spacingAndGlyphs\" textLength=\"614\" x=\"5\" y=\"203.2656\">portout \"$result\" as E2  [[psysml:f2b0b0cc-45ae-4166-8d5e-a5963ecab31c ]]</text><text fill=\"#33FF02\" font-family=\"sans-serif\" font-size=\"14\" font-weight=\"bold\" lengthAdjust=\"spacingAndGlyphs\" textLength=\"865\" x=\"5\" y=\"219.5625\">rec usage \"test x\" as E3  &lt;&lt;(T,blue)decisionNode&gt;&gt; [[psysml:12adcb2e-22ad-4270-ad09-4bee8bb9d85c ]] {</text><text fill=\"#33FF02\" font-family=\"sans-serif\" font-size=\"14\" font-weight=\"bold\" lengthAdjust=\"spacingAndGlyphs\" textLength=\"10\" x=\"5\" y=\"235.8594\">}</text><text fill=\"#33FF02\" font-family=\"sans-serif\" font-size=\"14\" font-weight=\"bold\" lengthAdjust=\"spacingAndGlyphs\" textLength=\"0\" x=\"10\" y=\"252.1563\"/><text fill=\"#33FF02\" font-family=\"sans-serif\" font-size=\"14\" font-weight=\"bold\" lengthAdjust=\"spacingAndGlyphs\" textLength=\"10\" x=\"5\" y=\"268.4531\">{</text><text fill=\"#FF0000\" font-family=\"sans-serif\" font-size=\"14\" font-weight=\"bold\" lengthAdjust=\"spacingAndGlyphs\" textLength=\"106\" x=\"10\" y=\"284.75\">Syntax Error?</text><!--MD5=[b5dea7d3e21b0a05dbcfe3661acdb073]\n",
       "@startuml\r\n",
       "skinparam linetype polyline\r\n",
       "skinparam monochrome true\r\n",
       "skinparam classbackgroundcolor white\r\n",
       "skinparam shadowing false\r\n",
       "skinparam wrapWidth 300\r\n",
       "hide circle\r\n",
       "\r\n",
       "rec def \"DecisionTest\" as E1  <<(T,blue)action def>> [[psysml:04eadb4d-b968-4a2d-91e2-cdec302c279f ]] {\r\n",
       "portout \"$result\" as E2  [[psysml:f2b0b0cc-45ae-4166-8d5e-a5963ecab31c ]] \r\n",
       "rec usage \"test x\" as E3  <<(T,blue)decisionNode>> [[psysml:12adcb2e-22ad-4270-ad09-4bee8bb9d85c ]] {\r\n",
       "}\r\n",
       "\r\n",
       "{\r\n",
       "portout \"$result\" as E4  [[psysml:da91a906-8207-462d-99e2-a18dec940aa7 ]] \r\n",
       "portin \"$x\" as E5  [[psysml:48c17a69-1eb9-4ad6-876e-38a96ca6e086 ]] \r\n",
       "portin \"$y\" as E6  [[psysml:603631ec-51c5-4249-8487-a79a64da6afc ]] \r\n",
       "portout \"$result\" as E7  [[psysml:26e7255e-bbd8-4ac7-a816-6f3abc826445 ]] \r\n",
       "}\r\n",
       "\r\n",
       "{\r\n",
       "portout \"$result\" as E8  [[psysml:34caa6ec-959e-4145-98ad-4a477d59f379 ]] \r\n",
       "portin \"$x\" as E9  [[psysml:a97d47b4-a3dd-4bbd-be98-fc91aed6e874 ]] \r\n",
       "portin \"$y\" as E10  [[psysml:4dcabb7c-801c-43eb-b65b-ea55ba06df11 ]] \r\n",
       "portout \"$result\" as E11  [[psysml:cd7ecfb5-304f-4537-af93-5efd7128d3b2 ]] \r\n",
       "}\r\n",
       "\r\n",
       "{\r\n",
       "}\r\n",
       "\r\n",
       "{\r\n",
       "}\r\n",
       "\r\n",
       "{\r\n",
       "portout \"$result\" as E12  [[psysml:f92bbb85-cf19-4dd5-984f-8fe428e355f9 ]] \r\n",
       "}\r\n",
       "\r\n",
       "{\r\n",
       "portout \"$result\" as E13  [[psysml:b44daa1d-0d17-440b-affc-4aae51a046a3 ]] \r\n",
       "}\r\n",
       "\r\n",
       "rec usage \"A1\" as E14  <<(T,blue)action>> [[psysml:b6d0d4a5-7082-45af-9d99-5627255ed9ae ]] {\r\n",
       "}\r\n",
       "\r\n",
       "rec usage \"A2\" as E15  <<(T,blue)action>> [[psysml:60e701bb-1db7-4263-ad0a-ece44064a54f ]] {\r\n",
       "}\r\n",
       "\r\n",
       "rec usage \"A3\" as E16  <<(T,blue)action>> [[psysml:072d93d2-c298-4f7b-8e67-b467b8356ba8 ]] {\r\n",
       "}\r\n",
       "\r\n",
       "rec usage \"S\" as E17  <<(T,blue)transition>> [[psysml:4c480f3e-de35-416e-b4f4-0f9aff9c2e68 ]] {\r\n",
       "rec usage \"A1\" as E18  <<(T,blue)action>> [[psysml:b6d0d4a5-7082-45af-9d99-5627255ed9ae ]] {\r\n",
       "}\r\n",
       "\r\n",
       "portout \"$result\" as E19  [[psysml:bae59e2e-3013-4238-add2-fcdff8ecd0eb ]] \r\n",
       "portin \"$x\" as E20  [[psysml:1602ff6f-7228-42cf-b9ac-ebc006cdcd92 ]] \r\n",
       "portin \"$y\" as E21  [[psysml:f75bdb3f-e701-450d-b4f7-b218e85bedc6 ]] \r\n",
       "portout \"$result\" as E22  [[psysml:671b30d7-f020-4858-831b-48c54d9c890b ]] \r\n",
       "}\r\n",
       "\r\n",
       "rec usage \"A3\" as E23  <<(T,blue)action>> [[psysml:072d93d2-c298-4f7b-8e67-b467b8356ba8 ]] {\r\n",
       "}\r\n",
       "\r\n",
       "{\r\n",
       "portout \"$result\" as E24  [[psysml:607bce31-a36d-4c4f-abb5-7d6a5b1eba4c ]] \r\n",
       "portin \"$x\" as E25  [[psysml:30d6127f-38d3-47e6-b88f-d8a7d1fd2593 ]] \r\n",
       "portin \"$y\" as E26  [[psysml:c49c5fa4-01bf-436f-878e-c0b2dd911bef ]] \r\n",
       "portout \"$result\" as E27  [[psysml:cfd24cc8-3d79-4a43-93a1-f42931f2c990 ]] \r\n",
       "}\r\n",
       "\r\n",
       "}\r\n",
       "\r\n",
       "@enduml\r\n",
       "\n",
       "PlantUML version 1.2020.13(Sat Jun 13 12:26:38 UTC 2020)\n",
       "(EPL source distribution)\n",
       "Java Runtime: OpenJDK Runtime Environment\n",
       "JVM: OpenJDK 64-Bit Server VM\n",
       "Default Encoding: UTF-8\n",
       "Language: en\n",
       "Country: null\n",
       "--></g></svg>"
      ]
     },
     "execution_count": 9,
     "metadata": {},
     "output_type": "execute_result"
    }
   ],
   "source": [
    "%viz --style=\"POLYLINE\" --view=\"Default\" \"DecisionTest\""
   ]
  },
  {
   "cell_type": "code",
   "execution_count": 10,
   "id": "israeli-falls",
   "metadata": {
    "execution": {
     "iopub.execute_input": "2021-03-25T09:32:44.492935Z",
     "iopub.status.busy": "2021-03-25T09:32:44.492396Z",
     "iopub.status.idle": "2021-03-25T09:32:44.881929Z",
     "shell.execute_reply": "2021-03-25T09:32:44.881529Z"
    }
   },
   "outputs": [
    {
     "data": {
      "image/svg+xml": [
       "<?xml version=\"1.0\" encoding=\"UTF-8\" standalone=\"no\"?><svg xmlns=\"http://www.w3.org/2000/svg\" xmlns:xlink=\"http://www.w3.org/1999/xlink\" contentScriptType=\"application/ecmascript\" contentStyleType=\"text/css\" height=\"207px\" preserveAspectRatio=\"none\" style=\"width:109px;height:207px;\" version=\"1.1\" viewBox=\"0 0 109 207\" width=\"109px\" zoomAndPan=\"magnify\"><defs/><g><!--MD5=[43c9051892ef23e1a46a86907403d788]\n",
       "class E1--><a href=\"psysml:04eadb4d-b968-4a2d-91e2-cdec302c279f\" target=\"_top\" title=\"psysml:04eadb4d-b968-4a2d-91e2-cdec302c279f\" xlink:actuate=\"onRequest\" xlink:href=\"psysml:04eadb4d-b968-4a2d-91e2-cdec302c279f\" xlink:show=\"new\" xlink:title=\"psysml:04eadb4d-b968-4a2d-91e2-cdec302c279f\" xlink:type=\"simple\"><rect fill=\"#FFFFFF\" height=\"189.9844\" id=\"E1\" style=\"stroke: #383838; stroke-width: 1.5;\" width=\"91\" x=\"7\" y=\"7\"/><text fill=\"#000000\" font-family=\"sans-serif\" font-size=\"12\" font-style=\"italic\" lengthAdjust=\"spacingAndGlyphs\" textLength=\"77\" x=\"14\" y=\"23.1387\">«action def»</text><text fill=\"#000000\" font-family=\"sans-serif\" font-size=\"12\" lengthAdjust=\"spacingAndGlyphs\" textLength=\"80\" x=\"12.5\" y=\"37.1074\">DecisionTest</text><line style=\"stroke: #383838; stroke-width: 1.5;\" x1=\"8\" x2=\"97\" y1=\"44.9375\" y2=\"44.9375\"/><text fill=\"#000000\" font-family=\"sans-serif\" font-size=\"11\" lengthAdjust=\"spacingAndGlyphs\" textLength=\"6\" x=\"13\" y=\"75.9526\">x</text><line style=\"stroke: #383838; stroke-width: 1.0;\" x1=\"8\" x2=\"25\" y1=\"59.3398\" y2=\"59.3398\"/><text fill=\"#000000\" font-family=\"sans-serif\" font-size=\"11\" lengthAdjust=\"spacingAndGlyphs\" textLength=\"55\" x=\"25\" y=\"62.6479\">attributes</text><line style=\"stroke: #383838; stroke-width: 1.0;\" x1=\"80\" x2=\"97\" y1=\"59.3398\" y2=\"59.3398\"/><text fill=\"#000000\" font-family=\"sans-serif\" font-size=\"11\" lengthAdjust=\"spacingAndGlyphs\" textLength=\"14\" x=\"13\" y=\"105.562\">A1</text><text fill=\"#000000\" font-family=\"sans-serif\" font-size=\"11\" lengthAdjust=\"spacingAndGlyphs\" textLength=\"14\" x=\"13\" y=\"118.3667\">A2</text><text fill=\"#000000\" font-family=\"sans-serif\" font-size=\"11\" lengthAdjust=\"spacingAndGlyphs\" textLength=\"14\" x=\"13\" y=\"131.1714\">A3</text><line style=\"stroke: #383838; stroke-width: 1.0;\" x1=\"8\" x2=\"32\" y1=\"88.9492\" y2=\"88.9492\"/><text fill=\"#000000\" font-family=\"sans-serif\" font-size=\"11\" lengthAdjust=\"spacingAndGlyphs\" textLength=\"41\" x=\"32\" y=\"92.2573\">actions</text><line style=\"stroke: #383838; stroke-width: 1.0;\" x1=\"73\" x2=\"97\" y1=\"88.9492\" y2=\"88.9492\"/><text fill=\"#000000\" font-family=\"sans-serif\" font-size=\"11\" lengthAdjust=\"spacingAndGlyphs\" textLength=\"32\" x=\"13\" y=\"160.7808\">test x</text><line style=\"stroke: #383838; stroke-width: 1.0;\" x1=\"8\" x2=\"11\" y1=\"144.168\" y2=\"144.168\"/><text fill=\"#000000\" font-family=\"sans-serif\" font-size=\"11\" lengthAdjust=\"spacingAndGlyphs\" textLength=\"83\" x=\"11\" y=\"147.4761\">decisionNodes</text><line style=\"stroke: #383838; stroke-width: 1.0;\" x1=\"94\" x2=\"97\" y1=\"144.168\" y2=\"144.168\"/><text fill=\"#000000\" font-family=\"sans-serif\" font-size=\"11\" lengthAdjust=\"spacingAndGlyphs\" textLength=\"8\" x=\"13\" y=\"190.3901\">S</text><line style=\"stroke: #383838; stroke-width: 1.0;\" x1=\"8\" x2=\"22\" y1=\"173.7773\" y2=\"173.7773\"/><text fill=\"#000000\" font-family=\"sans-serif\" font-size=\"11\" lengthAdjust=\"spacingAndGlyphs\" textLength=\"61\" x=\"22\" y=\"177.0854\">transitions</text><line style=\"stroke: #383838; stroke-width: 1.0;\" x1=\"83\" x2=\"97\" y1=\"173.7773\" y2=\"173.7773\"/></a><!--MD5=[89b4770111c674f40f982c664cf22e78]\n",
       "@startuml\r\n",
       "skinparam linetype polyline\r\n",
       "skinparam monochrome true\r\n",
       "skinparam classbackgroundcolor white\r\n",
       "skinparam shadowing false\r\n",
       "skinparam wrapWidth 300\r\n",
       "hide circle\r\n",
       "\r\n",
       "comp def \"DecisionTest\" as E1  <<(T,blue)action def>> [[psysml:04eadb4d-b968-4a2d-91e2-cdec302c279f ]] {\r\n",
       "- - attributes - -\r\n",
       "x\r\n",
       "- - actions - -\r\n",
       "A1\r\n",
       "A2\r\n",
       "A3\r\n",
       "- - decisionNodes - -\r\n",
       "test x\r\n",
       "- - transitions - -\r\n",
       "S\r\n",
       "}\r\n",
       "@enduml\r\n",
       "\n",
       "PlantUML version 1.2020.13(Sat Jun 13 12:26:38 UTC 2020)\n",
       "(EPL source distribution)\n",
       "Java Runtime: OpenJDK Runtime Environment\n",
       "JVM: OpenJDK 64-Bit Server VM\n",
       "Default Encoding: UTF-8\n",
       "Language: en\n",
       "Country: null\n",
       "--></g></svg>"
      ]
     },
     "execution_count": 10,
     "metadata": {},
     "output_type": "execute_result"
    }
   ],
   "source": [
    "%viz --style=\"POLYLINE\" --view=\"Tree\" \"DecisionTest\""
   ]
  },
  {
   "cell_type": "code",
   "execution_count": 11,
   "id": "underlying-aluminum",
   "metadata": {
    "execution": {
     "iopub.execute_input": "2021-03-25T09:32:44.933033Z",
     "iopub.status.busy": "2021-03-25T09:32:44.932395Z",
     "iopub.status.idle": "2021-03-25T09:32:44.941690Z",
     "shell.execute_reply": "2021-03-25T09:32:44.942058Z"
    }
   },
   "outputs": [
    {
     "data": {
      "image/svg+xml": [
       "<?xml version=\"1.0\" encoding=\"UTF-8\" standalone=\"no\"?><svg xmlns=\"http://www.w3.org/2000/svg\" xmlns:xlink=\"http://www.w3.org/1999/xlink\" contentScriptType=\"application/ecmascript\" contentStyleType=\"text/css\" height=\"12px\" preserveAspectRatio=\"none\" style=\"width:12px;height:12px;\" version=\"1.1\" viewBox=\"0 0 12 12\" width=\"12px\" zoomAndPan=\"magnify\"><defs/><g><!--MD5=[896ac0e7a515d8dd7765a661cb4ee08b]\n",
       "@startuml\r\n",
       "skinparam linetype polyline\r\n",
       "skinparam monochrome true\r\n",
       "skinparam classbackgroundcolor white\r\n",
       "skinparam shadowing false\r\n",
       "skinparam wrapWidth 300\r\n",
       "hide circle\r\n",
       "\r\n",
       "@enduml\r\n",
       "\n",
       "PlantUML version 1.2020.13(Sat Jun 13 12:26:38 UTC 2020)\n",
       "(EPL source distribution)\n",
       "Java Runtime: OpenJDK Runtime Environment\n",
       "JVM: OpenJDK 64-Bit Server VM\n",
       "Default Encoding: UTF-8\n",
       "Language: en\n",
       "Country: null\n",
       "--></g></svg>"
      ]
     },
     "execution_count": 11,
     "metadata": {},
     "output_type": "execute_result"
    }
   ],
   "source": [
    "%viz --style=\"POLYLINE\" --view=\"State\" \"DecisionTest\""
   ]
  },
  {
   "cell_type": "code",
   "execution_count": 12,
   "id": "developed-mozambique",
   "metadata": {
    "execution": {
     "iopub.execute_input": "2021-03-25T09:32:44.994702Z",
     "iopub.status.busy": "2021-03-25T09:32:44.994099Z",
     "iopub.status.idle": "2021-03-25T09:32:45.025308Z",
     "shell.execute_reply": "2021-03-25T09:32:45.025711Z"
    }
   },
   "outputs": [
    {
     "data": {
      "image/svg+xml": [
       "<?xml version=\"1.0\" encoding=\"UTF-8\" standalone=\"no\"?><svg xmlns=\"http://www.w3.org/2000/svg\" xmlns:xlink=\"http://www.w3.org/1999/xlink\" contentScriptType=\"application/ecmascript\" contentStyleType=\"text/css\" height=\"60px\" preserveAspectRatio=\"none\" style=\"width:109px;height:60px;\" version=\"1.1\" viewBox=\"0 0 109 60\" width=\"109px\" zoomAndPan=\"magnify\"><defs/><g><g id=\"E1\"><a href=\"psysml:04eadb4d-b968-4a2d-91e2-cdec302c279f\" target=\"_top\" title=\"psysml:04eadb4d-b968-4a2d-91e2-cdec302c279f\" xlink:actuate=\"onRequest\" xlink:href=\"psysml:04eadb4d-b968-4a2d-91e2-cdec302c279f\" xlink:show=\"new\" xlink:title=\"psysml:04eadb4d-b968-4a2d-91e2-cdec302c279f\" xlink:type=\"simple\"><rect fill=\"#FFFFFF\" height=\"42.9375\" id=\"E1\" style=\"stroke: #383838; stroke-width: 1.5;\" width=\"91\" x=\"7\" y=\"7\"/><rect fill=\"#F8F8F8\" height=\"37.9375\" style=\"stroke: #383838; stroke-width: 1.5;\" width=\"91\" x=\"7\" y=\"7\"/><text fill=\"#000000\" font-family=\"sans-serif\" font-size=\"12\" font-style=\"italic\" lengthAdjust=\"spacingAndGlyphs\" textLength=\"77\" x=\"14\" y=\"23.1387\">«action def»</text><text fill=\"#000000\" font-family=\"sans-serif\" font-size=\"12\" lengthAdjust=\"spacingAndGlyphs\" textLength=\"80\" x=\"12.5\" y=\"37.1074\">DecisionTest</text></a></g><!--MD5=[a88cfe41ef05cc6841b10b83b2b3ea8b]\n",
       "@startuml\r\n",
       "skinparam ranksep 8\r\n",
       "skinparam rectangle {\r\n",
       " backgroundColor<<block>> LightGreen\r\n",
       "}\r\n",
       "skinparam linetype polyline\r\n",
       "skinparam monochrome true\r\n",
       "skinparam classbackgroundcolor white\r\n",
       "skinparam shadowing false\r\n",
       "skinparam wrapWidth 300\r\n",
       "hide circle\r\n",
       "\r\n",
       "def \"DecisionTest\" as E1  <<(T,blue)action def>> [[psysml:04eadb4d-b968-4a2d-91e2-cdec302c279f ]] \r\n",
       "@enduml\r\n",
       "\n",
       "PlantUML version 1.2020.13(Sat Jun 13 12:26:38 UTC 2020)\n",
       "(EPL source distribution)\n",
       "Java Runtime: OpenJDK Runtime Environment\n",
       "JVM: OpenJDK 64-Bit Server VM\n",
       "Default Encoding: UTF-8\n",
       "Language: en\n",
       "Country: null\n",
       "--></g></svg>"
      ]
     },
     "execution_count": 12,
     "metadata": {},
     "output_type": "execute_result"
    }
   ],
   "source": [
    "%viz --style=\"POLYLINE\" --view=\"Interconnection\" \"DecisionTest\""
   ]
  },
  {
   "cell_type": "code",
   "execution_count": 13,
   "id": "occasional-gross",
   "metadata": {
    "execution": {
     "iopub.execute_input": "2021-03-25T09:32:45.078529Z",
     "iopub.status.busy": "2021-03-25T09:32:45.077778Z",
     "iopub.status.idle": "2021-03-25T09:32:45.113640Z",
     "shell.execute_reply": "2021-03-25T09:32:45.113081Z"
    }
   },
   "outputs": [
    {
     "data": {
      "image/svg+xml": [
       "<?xml version=\"1.0\" encoding=\"UTF-8\" standalone=\"no\"?><svg xmlns=\"http://www.w3.org/2000/svg\" xmlns:xlink=\"http://www.w3.org/1999/xlink\" contentScriptType=\"application/ecmascript\" contentStyleType=\"text/css\" height=\"304px\" preserveAspectRatio=\"none\" style=\"width:875px;height:304px;background:#000000;\" version=\"1.1\" viewBox=\"0 0 875 304\" width=\"875px\" zoomAndPan=\"magnify\"><defs/><g><rect fill=\"#021002\" height=\"1\" style=\"stroke: #021002; stroke-width: 1.0;\" width=\"1\" x=\"0\" y=\"0\"/><rect fill=\"#33FF02\" height=\"21.2969\" style=\"stroke: #33FF02; stroke-width: 1.0;\" width=\"868\" x=\"5\" y=\"5\"/><text fill=\"#000000\" font-family=\"sans-serif\" font-size=\"14\" font-weight=\"bold\" lengthAdjust=\"spacingAndGlyphs\" textLength=\"178\" x=\"6\" y=\"20\">[From string (line 15) ]</text><text fill=\"#33FF02\" font-family=\"sans-serif\" font-size=\"14\" font-weight=\"bold\" lengthAdjust=\"spacingAndGlyphs\" textLength=\"0\" x=\"10\" y=\"40.2969\"/><text fill=\"#33FF02\" font-family=\"sans-serif\" font-size=\"14\" font-weight=\"bold\" lengthAdjust=\"spacingAndGlyphs\" textLength=\"79\" x=\"5\" y=\"56.5938\">@startuml</text><text fill=\"#33FF02\" font-family=\"sans-serif\" font-size=\"14\" font-weight=\"bold\" lengthAdjust=\"spacingAndGlyphs\" textLength=\"165\" x=\"5\" y=\"72.8906\">skinparam ranksep 8</text><text fill=\"#33FF02\" font-family=\"sans-serif\" font-size=\"14\" font-weight=\"bold\" lengthAdjust=\"spacingAndGlyphs\" textLength=\"215\" x=\"5\" y=\"89.1875\">skinparam linetype polyline</text><text fill=\"#33FF02\" font-family=\"sans-serif\" font-size=\"14\" font-weight=\"bold\" lengthAdjust=\"spacingAndGlyphs\" textLength=\"228\" x=\"5\" y=\"105.4844\">skinparam monochrome true</text><text fill=\"#33FF02\" font-family=\"sans-serif\" font-size=\"14\" font-weight=\"bold\" lengthAdjust=\"spacingAndGlyphs\" textLength=\"309\" x=\"5\" y=\"121.7813\">skinparam classbackgroundcolor white</text><text fill=\"#33FF02\" font-family=\"sans-serif\" font-size=\"14\" font-weight=\"bold\" lengthAdjust=\"spacingAndGlyphs\" textLength=\"215\" x=\"5\" y=\"138.0781\">skinparam shadowing false</text><text fill=\"#33FF02\" font-family=\"sans-serif\" font-size=\"14\" font-weight=\"bold\" lengthAdjust=\"spacingAndGlyphs\" textLength=\"206\" x=\"5\" y=\"154.375\">skinparam wrapWidth 300</text><text fill=\"#33FF02\" font-family=\"sans-serif\" font-size=\"14\" font-weight=\"bold\" lengthAdjust=\"spacingAndGlyphs\" textLength=\"82\" x=\"5\" y=\"170.6719\">hide circle</text><text fill=\"#33FF02\" font-family=\"sans-serif\" font-size=\"14\" font-weight=\"bold\" lengthAdjust=\"spacingAndGlyphs\" textLength=\"0\" x=\"10\" y=\"186.9688\"/><text fill=\"#33FF02\" font-family=\"sans-serif\" font-size=\"14\" font-weight=\"bold\" lengthAdjust=\"spacingAndGlyphs\" textLength=\"868\" x=\"5\" y=\"203.2656\">rec def \"DecisionTest\" as E1  &lt;&lt;(T,blue)action def&gt;&gt; [[psysml:04eadb4d-b968-4a2d-91e2-cdec302c279f ]] {</text><text fill=\"#33FF02\" font-family=\"sans-serif\" font-size=\"14\" font-weight=\"bold\" lengthAdjust=\"spacingAndGlyphs\" textLength=\"614\" x=\"5\" y=\"219.5625\">portout \"$result\" as E2  [[psysml:f2b0b0cc-45ae-4166-8d5e-a5963ecab31c ]]</text><text fill=\"#33FF02\" font-family=\"sans-serif\" font-size=\"14\" font-weight=\"bold\" lengthAdjust=\"spacingAndGlyphs\" textLength=\"865\" x=\"5\" y=\"235.8594\">rec usage \"test x\" as E3  &lt;&lt;(T,blue)decisionNode&gt;&gt; [[psysml:12adcb2e-22ad-4270-ad09-4bee8bb9d85c ]] {</text><text fill=\"#33FF02\" font-family=\"sans-serif\" font-size=\"14\" font-weight=\"bold\" lengthAdjust=\"spacingAndGlyphs\" textLength=\"10\" x=\"5\" y=\"252.1563\">}</text><text fill=\"#33FF02\" font-family=\"sans-serif\" font-size=\"14\" font-weight=\"bold\" lengthAdjust=\"spacingAndGlyphs\" textLength=\"0\" x=\"10\" y=\"268.4531\"/><text fill=\"#33FF02\" font-family=\"sans-serif\" font-size=\"14\" font-weight=\"bold\" lengthAdjust=\"spacingAndGlyphs\" textLength=\"10\" x=\"5\" y=\"284.75\">{</text><text fill=\"#FF0000\" font-family=\"sans-serif\" font-size=\"14\" font-weight=\"bold\" lengthAdjust=\"spacingAndGlyphs\" textLength=\"106\" x=\"10\" y=\"301.0469\">Syntax Error?</text><!--MD5=[2e8d9bf3de2a0cce4125dc6a8d39bd2b]\n",
       "@startuml\r\n",
       "skinparam ranksep 8\r\n",
       "skinparam linetype polyline\r\n",
       "skinparam monochrome true\r\n",
       "skinparam classbackgroundcolor white\r\n",
       "skinparam shadowing false\r\n",
       "skinparam wrapWidth 300\r\n",
       "hide circle\r\n",
       "\r\n",
       "rec def \"DecisionTest\" as E1  <<(T,blue)action def>> [[psysml:04eadb4d-b968-4a2d-91e2-cdec302c279f ]] {\r\n",
       "portout \"$result\" as E2  [[psysml:f2b0b0cc-45ae-4166-8d5e-a5963ecab31c ]] \r\n",
       "rec usage \"test x\" as E3  <<(T,blue)decisionNode>> [[psysml:12adcb2e-22ad-4270-ad09-4bee8bb9d85c ]] {\r\n",
       "}\r\n",
       "\r\n",
       "{\r\n",
       "portout \"$result\" as E4  [[psysml:da91a906-8207-462d-99e2-a18dec940aa7 ]] \r\n",
       "portin \"$x\" as E5  [[psysml:48c17a69-1eb9-4ad6-876e-38a96ca6e086 ]] \r\n",
       "portin \"$y\" as E6  [[psysml:603631ec-51c5-4249-8487-a79a64da6afc ]] \r\n",
       "portout \"$result\" as E7  [[psysml:26e7255e-bbd8-4ac7-a816-6f3abc826445 ]] \r\n",
       "}\r\n",
       "\r\n",
       "{\r\n",
       "portout \"$result\" as E8  [[psysml:34caa6ec-959e-4145-98ad-4a477d59f379 ]] \r\n",
       "portin \"$x\" as E9  [[psysml:a97d47b4-a3dd-4bbd-be98-fc91aed6e874 ]] \r\n",
       "portin \"$y\" as E10  [[psysml:4dcabb7c-801c-43eb-b65b-ea55ba06df11 ]] \r\n",
       "portout \"$result\" as E11  [[psysml:cd7ecfb5-304f-4537-af93-5efd7128d3b2 ]] \r\n",
       "}\r\n",
       "\r\n",
       "{\r\n",
       "}\r\n",
       "\r\n",
       "{\r\n",
       "}\r\n",
       "\r\n",
       "{\r\n",
       "portout \"$result\" as E12  [[psysml:f92bbb85-cf19-4dd5-984f-8fe428e355f9 ]] \r\n",
       "}\r\n",
       "\r\n",
       "{\r\n",
       "portout \"$result\" as E13  [[psysml:b44daa1d-0d17-440b-affc-4aae51a046a3 ]] \r\n",
       "}\r\n",
       "\r\n",
       "rec usage \"A1\" as E14  <<(T,blue)action>> [[psysml:b6d0d4a5-7082-45af-9d99-5627255ed9ae ]] {\r\n",
       "}\r\n",
       "\r\n",
       "rec usage \"A2\" as E15  <<(T,blue)action>> [[psysml:60e701bb-1db7-4263-ad0a-ece44064a54f ]] {\r\n",
       "}\r\n",
       "\r\n",
       "rec usage \"A3\" as E16  <<(T,blue)action>> [[psysml:072d93d2-c298-4f7b-8e67-b467b8356ba8 ]] {\r\n",
       "}\r\n",
       "\r\n",
       "rec usage \"S\" as E17  <<(T,blue)transition>> [[psysml:4c480f3e-de35-416e-b4f4-0f9aff9c2e68 ]] {\r\n",
       "rec usage \"A1\" as E18  <<(T,blue)action>> [[psysml:b6d0d4a5-7082-45af-9d99-5627255ed9ae ]] {\r\n",
       "}\r\n",
       "\r\n",
       "portout \"$result\" as E19  [[psysml:bae59e2e-3013-4238-add2-fcdff8ecd0eb ]] \r\n",
       "portin \"$x\" as E20  [[psysml:1602ff6f-7228-42cf-b9ac-ebc006cdcd92 ]] \r\n",
       "portin \"$y\" as E21  [[psysml:f75bdb3f-e701-450d-b4f7-b218e85bedc6 ]] \r\n",
       "portout \"$result\" as E22  [[psysml:671b30d7-f020-4858-831b-48c54d9c890b ]] \r\n",
       "}\r\n",
       "\r\n",
       "rec usage \"A3\" as E23  <<(T,blue)action>> [[psysml:072d93d2-c298-4f7b-8e67-b467b8356ba8 ]] {\r\n",
       "}\r\n",
       "\r\n",
       "{\r\n",
       "portout \"$result\" as E24  [[psysml:607bce31-a36d-4c4f-abb5-7d6a5b1eba4c ]] \r\n",
       "portin \"$x\" as E25  [[psysml:30d6127f-38d3-47e6-b88f-d8a7d1fd2593 ]] \r\n",
       "portin \"$y\" as E26  [[psysml:c49c5fa4-01bf-436f-878e-c0b2dd911bef ]] \r\n",
       "portout \"$result\" as E27  [[psysml:cfd24cc8-3d79-4a43-93a1-f42931f2c990 ]] \r\n",
       "}\r\n",
       "\r\n",
       "}\r\n",
       "\r\n",
       "@enduml\r\n",
       "\n",
       "PlantUML version 1.2020.13(Sat Jun 13 12:26:38 UTC 2020)\n",
       "(EPL source distribution)\n",
       "Java Runtime: OpenJDK Runtime Environment\n",
       "JVM: OpenJDK 64-Bit Server VM\n",
       "Default Encoding: UTF-8\n",
       "Language: en\n",
       "Country: null\n",
       "--></g></svg>"
      ]
     },
     "execution_count": 13,
     "metadata": {},
     "output_type": "execute_result"
    }
   ],
   "source": [
    "%viz --style=\"POLYLINE\" --view=\"Action\" \"DecisionTest\""
   ]
  },
  {
   "cell_type": "code",
   "execution_count": 14,
   "id": "impaired-balloon",
   "metadata": {
    "execution": {
     "iopub.execute_input": "2021-03-25T09:32:45.165549Z",
     "iopub.status.busy": "2021-03-25T09:32:45.164735Z",
     "iopub.status.idle": "2021-03-25T09:32:45.534770Z",
     "shell.execute_reply": "2021-03-25T09:32:45.535156Z"
    }
   },
   "outputs": [
    {
     "data": {
      "image/svg+xml": [
       "<?xml version=\"1.0\" encoding=\"UTF-8\" standalone=\"no\"?><svg xmlns=\"http://www.w3.org/2000/svg\" xmlns:xlink=\"http://www.w3.org/1999/xlink\" contentScriptType=\"application/ecmascript\" contentStyleType=\"text/css\" height=\"207px\" preserveAspectRatio=\"none\" style=\"width:109px;height:207px;\" version=\"1.1\" viewBox=\"0 0 109 207\" width=\"109px\" zoomAndPan=\"magnify\"><defs/><g><!--MD5=[43c9051892ef23e1a46a86907403d788]\n",
       "class E1--><a href=\"psysml:04eadb4d-b968-4a2d-91e2-cdec302c279f\" target=\"_top\" title=\"psysml:04eadb4d-b968-4a2d-91e2-cdec302c279f\" xlink:actuate=\"onRequest\" xlink:href=\"psysml:04eadb4d-b968-4a2d-91e2-cdec302c279f\" xlink:show=\"new\" xlink:title=\"psysml:04eadb4d-b968-4a2d-91e2-cdec302c279f\" xlink:type=\"simple\"><rect fill=\"#FFFFFF\" height=\"189.9844\" id=\"E1\" style=\"stroke: #383838; stroke-width: 1.5;\" width=\"91\" x=\"7\" y=\"7\"/><text fill=\"#000000\" font-family=\"sans-serif\" font-size=\"12\" font-style=\"italic\" lengthAdjust=\"spacingAndGlyphs\" textLength=\"77\" x=\"14\" y=\"23.1387\">«action def»</text><text fill=\"#000000\" font-family=\"sans-serif\" font-size=\"12\" lengthAdjust=\"spacingAndGlyphs\" textLength=\"80\" x=\"12.5\" y=\"37.1074\">DecisionTest</text><line style=\"stroke: #383838; stroke-width: 1.5;\" x1=\"8\" x2=\"97\" y1=\"44.9375\" y2=\"44.9375\"/><text fill=\"#000000\" font-family=\"sans-serif\" font-size=\"11\" lengthAdjust=\"spacingAndGlyphs\" textLength=\"6\" x=\"13\" y=\"75.9526\">x</text><line style=\"stroke: #383838; stroke-width: 1.0;\" x1=\"8\" x2=\"25\" y1=\"59.3398\" y2=\"59.3398\"/><text fill=\"#000000\" font-family=\"sans-serif\" font-size=\"11\" lengthAdjust=\"spacingAndGlyphs\" textLength=\"55\" x=\"25\" y=\"62.6479\">attributes</text><line style=\"stroke: #383838; stroke-width: 1.0;\" x1=\"80\" x2=\"97\" y1=\"59.3398\" y2=\"59.3398\"/><text fill=\"#000000\" font-family=\"sans-serif\" font-size=\"11\" lengthAdjust=\"spacingAndGlyphs\" textLength=\"14\" x=\"13\" y=\"105.562\">A1</text><text fill=\"#000000\" font-family=\"sans-serif\" font-size=\"11\" lengthAdjust=\"spacingAndGlyphs\" textLength=\"14\" x=\"13\" y=\"118.3667\">A2</text><text fill=\"#000000\" font-family=\"sans-serif\" font-size=\"11\" lengthAdjust=\"spacingAndGlyphs\" textLength=\"14\" x=\"13\" y=\"131.1714\">A3</text><line style=\"stroke: #383838; stroke-width: 1.0;\" x1=\"8\" x2=\"32\" y1=\"88.9492\" y2=\"88.9492\"/><text fill=\"#000000\" font-family=\"sans-serif\" font-size=\"11\" lengthAdjust=\"spacingAndGlyphs\" textLength=\"41\" x=\"32\" y=\"92.2573\">actions</text><line style=\"stroke: #383838; stroke-width: 1.0;\" x1=\"73\" x2=\"97\" y1=\"88.9492\" y2=\"88.9492\"/><text fill=\"#000000\" font-family=\"sans-serif\" font-size=\"11\" lengthAdjust=\"spacingAndGlyphs\" textLength=\"32\" x=\"13\" y=\"160.7808\">test x</text><line style=\"stroke: #383838; stroke-width: 1.0;\" x1=\"8\" x2=\"11\" y1=\"144.168\" y2=\"144.168\"/><text fill=\"#000000\" font-family=\"sans-serif\" font-size=\"11\" lengthAdjust=\"spacingAndGlyphs\" textLength=\"83\" x=\"11\" y=\"147.4761\">decisionNodes</text><line style=\"stroke: #383838; stroke-width: 1.0;\" x1=\"94\" x2=\"97\" y1=\"144.168\" y2=\"144.168\"/><text fill=\"#000000\" font-family=\"sans-serif\" font-size=\"11\" lengthAdjust=\"spacingAndGlyphs\" textLength=\"8\" x=\"13\" y=\"190.3901\">S</text><line style=\"stroke: #383838; stroke-width: 1.0;\" x1=\"8\" x2=\"22\" y1=\"173.7773\" y2=\"173.7773\"/><text fill=\"#000000\" font-family=\"sans-serif\" font-size=\"11\" lengthAdjust=\"spacingAndGlyphs\" textLength=\"61\" x=\"22\" y=\"177.0854\">transitions</text><line style=\"stroke: #383838; stroke-width: 1.0;\" x1=\"83\" x2=\"97\" y1=\"173.7773\" y2=\"173.7773\"/></a><!--MD5=[89b4770111c674f40f982c664cf22e78]\n",
       "@startuml\r\n",
       "skinparam linetype polyline\r\n",
       "skinparam monochrome true\r\n",
       "skinparam classbackgroundcolor white\r\n",
       "skinparam shadowing false\r\n",
       "skinparam wrapWidth 300\r\n",
       "hide circle\r\n",
       "\r\n",
       "comp def \"DecisionTest\" as E1  <<(T,blue)action def>> [[psysml:04eadb4d-b968-4a2d-91e2-cdec302c279f ]] {\r\n",
       "- - attributes - -\r\n",
       "x\r\n",
       "- - actions - -\r\n",
       "A1\r\n",
       "A2\r\n",
       "A3\r\n",
       "- - decisionNodes - -\r\n",
       "test x\r\n",
       "- - transitions - -\r\n",
       "S\r\n",
       "}\r\n",
       "@enduml\r\n",
       "\n",
       "PlantUML version 1.2020.13(Sat Jun 13 12:26:38 UTC 2020)\n",
       "(EPL source distribution)\n",
       "Java Runtime: OpenJDK Runtime Environment\n",
       "JVM: OpenJDK 64-Bit Server VM\n",
       "Default Encoding: UTF-8\n",
       "Language: en\n",
       "Country: null\n",
       "--></g></svg>"
      ]
     },
     "execution_count": 14,
     "metadata": {},
     "output_type": "execute_result"
    }
   ],
   "source": [
    "%viz --style=\"POLYLINE\" --view=\"Sequence\" \"DecisionTest\""
   ]
  },
  {
   "cell_type": "code",
   "execution_count": 15,
   "id": "korean-field",
   "metadata": {
    "execution": {
     "iopub.execute_input": "2021-03-25T09:32:45.587473Z",
     "iopub.status.busy": "2021-03-25T09:32:45.586796Z",
     "iopub.status.idle": "2021-03-25T09:32:45.619942Z",
     "shell.execute_reply": "2021-03-25T09:32:45.618589Z"
    }
   },
   "outputs": [
    {
     "data": {
      "image/svg+xml": [
       "<?xml version=\"1.0\" encoding=\"UTF-8\" standalone=\"no\"?><svg xmlns=\"http://www.w3.org/2000/svg\" xmlns:xlink=\"http://www.w3.org/1999/xlink\" contentScriptType=\"application/ecmascript\" contentStyleType=\"text/css\" height=\"288px\" preserveAspectRatio=\"none\" style=\"width:875px;height:288px;background:#000000;\" version=\"1.1\" viewBox=\"0 0 875 288\" width=\"875px\" zoomAndPan=\"magnify\"><defs/><g><rect fill=\"#210602\" height=\"1\" style=\"stroke: #210602; stroke-width: 1.0;\" width=\"1\" x=\"0\" y=\"0\"/><rect fill=\"#33FF02\" height=\"21.2969\" style=\"stroke: #33FF02; stroke-width: 1.0;\" width=\"868\" x=\"5\" y=\"5\"/><text fill=\"#000000\" font-family=\"sans-serif\" font-size=\"14\" font-weight=\"bold\" lengthAdjust=\"spacingAndGlyphs\" textLength=\"178\" x=\"6\" y=\"20\">[From string (line 14) ]</text><text fill=\"#33FF02\" font-family=\"sans-serif\" font-size=\"14\" font-weight=\"bold\" lengthAdjust=\"spacingAndGlyphs\" textLength=\"0\" x=\"10\" y=\"40.2969\"/><text fill=\"#33FF02\" font-family=\"sans-serif\" font-size=\"14\" font-weight=\"bold\" lengthAdjust=\"spacingAndGlyphs\" textLength=\"79\" x=\"5\" y=\"56.5938\">@startuml</text><text fill=\"#33FF02\" font-family=\"sans-serif\" font-size=\"14\" font-weight=\"bold\" lengthAdjust=\"spacingAndGlyphs\" textLength=\"215\" x=\"5\" y=\"72.8906\">skinparam linetype polyline</text><text fill=\"#33FF02\" font-family=\"sans-serif\" font-size=\"14\" font-weight=\"bold\" lengthAdjust=\"spacingAndGlyphs\" textLength=\"228\" x=\"5\" y=\"89.1875\">skinparam monochrome true</text><text fill=\"#33FF02\" font-family=\"sans-serif\" font-size=\"14\" font-weight=\"bold\" lengthAdjust=\"spacingAndGlyphs\" textLength=\"309\" x=\"5\" y=\"105.4844\">skinparam classbackgroundcolor white</text><text fill=\"#33FF02\" font-family=\"sans-serif\" font-size=\"14\" font-weight=\"bold\" lengthAdjust=\"spacingAndGlyphs\" textLength=\"215\" x=\"5\" y=\"121.7813\">skinparam shadowing false</text><text fill=\"#33FF02\" font-family=\"sans-serif\" font-size=\"14\" font-weight=\"bold\" lengthAdjust=\"spacingAndGlyphs\" textLength=\"206\" x=\"5\" y=\"138.0781\">skinparam wrapWidth 300</text><text fill=\"#33FF02\" font-family=\"sans-serif\" font-size=\"14\" font-weight=\"bold\" lengthAdjust=\"spacingAndGlyphs\" textLength=\"82\" x=\"5\" y=\"154.375\">hide circle</text><text fill=\"#33FF02\" font-family=\"sans-serif\" font-size=\"14\" font-weight=\"bold\" lengthAdjust=\"spacingAndGlyphs\" textLength=\"0\" x=\"10\" y=\"170.6719\"/><text fill=\"#33FF02\" font-family=\"sans-serif\" font-size=\"14\" font-weight=\"bold\" lengthAdjust=\"spacingAndGlyphs\" textLength=\"868\" x=\"5\" y=\"186.9688\">rec def \"DecisionTest\" as E1  &lt;&lt;(T,blue)action def&gt;&gt; [[psysml:04eadb4d-b968-4a2d-91e2-cdec302c279f ]] {</text><text fill=\"#33FF02\" font-family=\"sans-serif\" font-size=\"14\" font-weight=\"bold\" lengthAdjust=\"spacingAndGlyphs\" textLength=\"614\" x=\"5\" y=\"203.2656\">portout \"$result\" as E2  [[psysml:f2b0b0cc-45ae-4166-8d5e-a5963ecab31c ]]</text><text fill=\"#33FF02\" font-family=\"sans-serif\" font-size=\"14\" font-weight=\"bold\" lengthAdjust=\"spacingAndGlyphs\" textLength=\"865\" x=\"5\" y=\"219.5625\">rec usage \"test x\" as E3  &lt;&lt;(T,blue)decisionNode&gt;&gt; [[psysml:12adcb2e-22ad-4270-ad09-4bee8bb9d85c ]] {</text><text fill=\"#33FF02\" font-family=\"sans-serif\" font-size=\"14\" font-weight=\"bold\" lengthAdjust=\"spacingAndGlyphs\" textLength=\"10\" x=\"5\" y=\"235.8594\">}</text><text fill=\"#33FF02\" font-family=\"sans-serif\" font-size=\"14\" font-weight=\"bold\" lengthAdjust=\"spacingAndGlyphs\" textLength=\"0\" x=\"10\" y=\"252.1563\"/><text fill=\"#33FF02\" font-family=\"sans-serif\" font-size=\"14\" font-weight=\"bold\" lengthAdjust=\"spacingAndGlyphs\" textLength=\"10\" x=\"5\" y=\"268.4531\">{</text><text fill=\"#FF0000\" font-family=\"sans-serif\" font-size=\"14\" font-weight=\"bold\" lengthAdjust=\"spacingAndGlyphs\" textLength=\"106\" x=\"10\" y=\"284.75\">Syntax Error?</text><!--MD5=[b5dea7d3e21b0a05dbcfe3661acdb073]\n",
       "@startuml\r\n",
       "skinparam linetype polyline\r\n",
       "skinparam monochrome true\r\n",
       "skinparam classbackgroundcolor white\r\n",
       "skinparam shadowing false\r\n",
       "skinparam wrapWidth 300\r\n",
       "hide circle\r\n",
       "\r\n",
       "rec def \"DecisionTest\" as E1  <<(T,blue)action def>> [[psysml:04eadb4d-b968-4a2d-91e2-cdec302c279f ]] {\r\n",
       "portout \"$result\" as E2  [[psysml:f2b0b0cc-45ae-4166-8d5e-a5963ecab31c ]] \r\n",
       "rec usage \"test x\" as E3  <<(T,blue)decisionNode>> [[psysml:12adcb2e-22ad-4270-ad09-4bee8bb9d85c ]] {\r\n",
       "}\r\n",
       "\r\n",
       "{\r\n",
       "portout \"$result\" as E4  [[psysml:da91a906-8207-462d-99e2-a18dec940aa7 ]] \r\n",
       "portin \"$x\" as E5  [[psysml:48c17a69-1eb9-4ad6-876e-38a96ca6e086 ]] \r\n",
       "portin \"$y\" as E6  [[psysml:603631ec-51c5-4249-8487-a79a64da6afc ]] \r\n",
       "portout \"$result\" as E7  [[psysml:26e7255e-bbd8-4ac7-a816-6f3abc826445 ]] \r\n",
       "}\r\n",
       "\r\n",
       "{\r\n",
       "portout \"$result\" as E8  [[psysml:34caa6ec-959e-4145-98ad-4a477d59f379 ]] \r\n",
       "portin \"$x\" as E9  [[psysml:a97d47b4-a3dd-4bbd-be98-fc91aed6e874 ]] \r\n",
       "portin \"$y\" as E10  [[psysml:4dcabb7c-801c-43eb-b65b-ea55ba06df11 ]] \r\n",
       "portout \"$result\" as E11  [[psysml:cd7ecfb5-304f-4537-af93-5efd7128d3b2 ]] \r\n",
       "}\r\n",
       "\r\n",
       "{\r\n",
       "}\r\n",
       "\r\n",
       "{\r\n",
       "}\r\n",
       "\r\n",
       "{\r\n",
       "portout \"$result\" as E12  [[psysml:f92bbb85-cf19-4dd5-984f-8fe428e355f9 ]] \r\n",
       "}\r\n",
       "\r\n",
       "{\r\n",
       "portout \"$result\" as E13  [[psysml:b44daa1d-0d17-440b-affc-4aae51a046a3 ]] \r\n",
       "}\r\n",
       "\r\n",
       "rec usage \"A1\" as E14  <<(T,blue)action>> [[psysml:b6d0d4a5-7082-45af-9d99-5627255ed9ae ]] {\r\n",
       "}\r\n",
       "\r\n",
       "rec usage \"A2\" as E15  <<(T,blue)action>> [[psysml:60e701bb-1db7-4263-ad0a-ece44064a54f ]] {\r\n",
       "}\r\n",
       "\r\n",
       "rec usage \"A3\" as E16  <<(T,blue)action>> [[psysml:072d93d2-c298-4f7b-8e67-b467b8356ba8 ]] {\r\n",
       "}\r\n",
       "\r\n",
       "rec usage \"S\" as E17  <<(T,blue)transition>> [[psysml:4c480f3e-de35-416e-b4f4-0f9aff9c2e68 ]] {\r\n",
       "rec usage \"A1\" as E18  <<(T,blue)action>> [[psysml:b6d0d4a5-7082-45af-9d99-5627255ed9ae ]] {\r\n",
       "}\r\n",
       "\r\n",
       "portout \"$result\" as E19  [[psysml:bae59e2e-3013-4238-add2-fcdff8ecd0eb ]] \r\n",
       "portin \"$x\" as E20  [[psysml:1602ff6f-7228-42cf-b9ac-ebc006cdcd92 ]] \r\n",
       "portin \"$y\" as E21  [[psysml:f75bdb3f-e701-450d-b4f7-b218e85bedc6 ]] \r\n",
       "portout \"$result\" as E22  [[psysml:671b30d7-f020-4858-831b-48c54d9c890b ]] \r\n",
       "}\r\n",
       "\r\n",
       "rec usage \"A3\" as E23  <<(T,blue)action>> [[psysml:072d93d2-c298-4f7b-8e67-b467b8356ba8 ]] {\r\n",
       "}\r\n",
       "\r\n",
       "{\r\n",
       "portout \"$result\" as E24  [[psysml:607bce31-a36d-4c4f-abb5-7d6a5b1eba4c ]] \r\n",
       "portin \"$x\" as E25  [[psysml:30d6127f-38d3-47e6-b88f-d8a7d1fd2593 ]] \r\n",
       "portin \"$y\" as E26  [[psysml:c49c5fa4-01bf-436f-878e-c0b2dd911bef ]] \r\n",
       "portout \"$result\" as E27  [[psysml:cfd24cc8-3d79-4a43-93a1-f42931f2c990 ]] \r\n",
       "}\r\n",
       "\r\n",
       "}\r\n",
       "\r\n",
       "@enduml\r\n",
       "\n",
       "PlantUML version 1.2020.13(Sat Jun 13 12:26:38 UTC 2020)\n",
       "(EPL source distribution)\n",
       "Java Runtime: OpenJDK Runtime Environment\n",
       "JVM: OpenJDK 64-Bit Server VM\n",
       "Default Encoding: UTF-8\n",
       "Language: en\n",
       "Country: null\n",
       "--></g></svg>"
      ]
     },
     "execution_count": 15,
     "metadata": {},
     "output_type": "execute_result"
    }
   ],
   "source": [
    "%viz --style=\"POLYLINE\" --view=\"MIXED\" \"DecisionTest\""
   ]
  },
  {
   "cell_type": "code",
   "execution_count": 16,
   "id": "adequate-anime",
   "metadata": {
    "execution": {
     "iopub.execute_input": "2021-03-25T09:32:45.673460Z",
     "iopub.status.busy": "2021-03-25T09:32:45.672617Z",
     "iopub.status.idle": "2021-03-25T09:32:45.699284Z",
     "shell.execute_reply": "2021-03-25T09:32:45.699723Z"
    }
   },
   "outputs": [
    {
     "data": {
      "image/svg+xml": [
       "<?xml version=\"1.0\" encoding=\"UTF-8\" standalone=\"no\"?><svg xmlns=\"http://www.w3.org/2000/svg\" xmlns:xlink=\"http://www.w3.org/1999/xlink\" contentScriptType=\"application/ecmascript\" contentStyleType=\"text/css\" height=\"288px\" preserveAspectRatio=\"none\" style=\"width:875px;height:288px;background:#000000;\" version=\"1.1\" viewBox=\"0 0 875 288\" width=\"875px\" zoomAndPan=\"magnify\"><defs/><g><rect fill=\"#140916\" height=\"1\" style=\"stroke: #140916; stroke-width: 1.0;\" width=\"1\" x=\"0\" y=\"0\"/><rect fill=\"#33FF02\" height=\"21.2969\" style=\"stroke: #33FF02; stroke-width: 1.0;\" width=\"868\" x=\"5\" y=\"5\"/><text fill=\"#000000\" font-family=\"sans-serif\" font-size=\"14\" font-weight=\"bold\" lengthAdjust=\"spacingAndGlyphs\" textLength=\"178\" x=\"6\" y=\"20\">[From string (line 14) ]</text><text fill=\"#33FF02\" font-family=\"sans-serif\" font-size=\"14\" font-weight=\"bold\" lengthAdjust=\"spacingAndGlyphs\" textLength=\"0\" x=\"10\" y=\"40.2969\"/><text fill=\"#33FF02\" font-family=\"sans-serif\" font-size=\"14\" font-weight=\"bold\" lengthAdjust=\"spacingAndGlyphs\" textLength=\"79\" x=\"5\" y=\"56.5938\">@startuml</text><text fill=\"#33FF02\" font-family=\"sans-serif\" font-size=\"14\" font-weight=\"bold\" lengthAdjust=\"spacingAndGlyphs\" textLength=\"164\" x=\"5\" y=\"72.8906\">left to right direction</text><text fill=\"#33FF02\" font-family=\"sans-serif\" font-size=\"14\" font-weight=\"bold\" lengthAdjust=\"spacingAndGlyphs\" textLength=\"228\" x=\"5\" y=\"89.1875\">skinparam monochrome true</text><text fill=\"#33FF02\" font-family=\"sans-serif\" font-size=\"14\" font-weight=\"bold\" lengthAdjust=\"spacingAndGlyphs\" textLength=\"309\" x=\"5\" y=\"105.4844\">skinparam classbackgroundcolor white</text><text fill=\"#33FF02\" font-family=\"sans-serif\" font-size=\"14\" font-weight=\"bold\" lengthAdjust=\"spacingAndGlyphs\" textLength=\"215\" x=\"5\" y=\"121.7813\">skinparam shadowing false</text><text fill=\"#33FF02\" font-family=\"sans-serif\" font-size=\"14\" font-weight=\"bold\" lengthAdjust=\"spacingAndGlyphs\" textLength=\"206\" x=\"5\" y=\"138.0781\">skinparam wrapWidth 300</text><text fill=\"#33FF02\" font-family=\"sans-serif\" font-size=\"14\" font-weight=\"bold\" lengthAdjust=\"spacingAndGlyphs\" textLength=\"82\" x=\"5\" y=\"154.375\">hide circle</text><text fill=\"#33FF02\" font-family=\"sans-serif\" font-size=\"14\" font-weight=\"bold\" lengthAdjust=\"spacingAndGlyphs\" textLength=\"0\" x=\"10\" y=\"170.6719\"/><text fill=\"#33FF02\" font-family=\"sans-serif\" font-size=\"14\" font-weight=\"bold\" lengthAdjust=\"spacingAndGlyphs\" textLength=\"868\" x=\"5\" y=\"186.9688\">rec def \"DecisionTest\" as E1  &lt;&lt;(T,blue)action def&gt;&gt; [[psysml:04eadb4d-b968-4a2d-91e2-cdec302c279f ]] {</text><text fill=\"#33FF02\" font-family=\"sans-serif\" font-size=\"14\" font-weight=\"bold\" lengthAdjust=\"spacingAndGlyphs\" textLength=\"614\" x=\"5\" y=\"203.2656\">portout \"$result\" as E2  [[psysml:f2b0b0cc-45ae-4166-8d5e-a5963ecab31c ]]</text><text fill=\"#33FF02\" font-family=\"sans-serif\" font-size=\"14\" font-weight=\"bold\" lengthAdjust=\"spacingAndGlyphs\" textLength=\"865\" x=\"5\" y=\"219.5625\">rec usage \"test x\" as E3  &lt;&lt;(T,blue)decisionNode&gt;&gt; [[psysml:12adcb2e-22ad-4270-ad09-4bee8bb9d85c ]] {</text><text fill=\"#33FF02\" font-family=\"sans-serif\" font-size=\"14\" font-weight=\"bold\" lengthAdjust=\"spacingAndGlyphs\" textLength=\"10\" x=\"5\" y=\"235.8594\">}</text><text fill=\"#33FF02\" font-family=\"sans-serif\" font-size=\"14\" font-weight=\"bold\" lengthAdjust=\"spacingAndGlyphs\" textLength=\"0\" x=\"10\" y=\"252.1563\"/><text fill=\"#33FF02\" font-family=\"sans-serif\" font-size=\"14\" font-weight=\"bold\" lengthAdjust=\"spacingAndGlyphs\" textLength=\"10\" x=\"5\" y=\"268.4531\">{</text><text fill=\"#FF0000\" font-family=\"sans-serif\" font-size=\"14\" font-weight=\"bold\" lengthAdjust=\"spacingAndGlyphs\" textLength=\"106\" x=\"10\" y=\"284.75\">Syntax Error?</text><!--MD5=[f026cad5d4627468dd7cce59f0bf1462]\n",
       "@startuml\r\n",
       "left to right direction\r\n",
       "skinparam monochrome true\r\n",
       "skinparam classbackgroundcolor white\r\n",
       "skinparam shadowing false\r\n",
       "skinparam wrapWidth 300\r\n",
       "hide circle\r\n",
       "\r\n",
       "rec def \"DecisionTest\" as E1  <<(T,blue)action def>> [[psysml:04eadb4d-b968-4a2d-91e2-cdec302c279f ]] {\r\n",
       "portout \"$result\" as E2  [[psysml:f2b0b0cc-45ae-4166-8d5e-a5963ecab31c ]] \r\n",
       "rec usage \"test x\" as E3  <<(T,blue)decisionNode>> [[psysml:12adcb2e-22ad-4270-ad09-4bee8bb9d85c ]] {\r\n",
       "}\r\n",
       "\r\n",
       "{\r\n",
       "portout \"$result\" as E4  [[psysml:da91a906-8207-462d-99e2-a18dec940aa7 ]] \r\n",
       "portin \"$x\" as E5  [[psysml:48c17a69-1eb9-4ad6-876e-38a96ca6e086 ]] \r\n",
       "portin \"$y\" as E6  [[psysml:603631ec-51c5-4249-8487-a79a64da6afc ]] \r\n",
       "portout \"$result\" as E7  [[psysml:26e7255e-bbd8-4ac7-a816-6f3abc826445 ]] \r\n",
       "}\r\n",
       "\r\n",
       "{\r\n",
       "portout \"$result\" as E8  [[psysml:34caa6ec-959e-4145-98ad-4a477d59f379 ]] \r\n",
       "portin \"$x\" as E9  [[psysml:a97d47b4-a3dd-4bbd-be98-fc91aed6e874 ]] \r\n",
       "portin \"$y\" as E10  [[psysml:4dcabb7c-801c-43eb-b65b-ea55ba06df11 ]] \r\n",
       "portout \"$result\" as E11  [[psysml:cd7ecfb5-304f-4537-af93-5efd7128d3b2 ]] \r\n",
       "}\r\n",
       "\r\n",
       "{\r\n",
       "}\r\n",
       "\r\n",
       "{\r\n",
       "}\r\n",
       "\r\n",
       "{\r\n",
       "portout \"$result\" as E12  [[psysml:f92bbb85-cf19-4dd5-984f-8fe428e355f9 ]] \r\n",
       "}\r\n",
       "\r\n",
       "{\r\n",
       "portout \"$result\" as E13  [[psysml:b44daa1d-0d17-440b-affc-4aae51a046a3 ]] \r\n",
       "}\r\n",
       "\r\n",
       "rec usage \"A1\" as E14  <<(T,blue)action>> [[psysml:b6d0d4a5-7082-45af-9d99-5627255ed9ae ]] {\r\n",
       "}\r\n",
       "\r\n",
       "rec usage \"A2\" as E15  <<(T,blue)action>> [[psysml:60e701bb-1db7-4263-ad0a-ece44064a54f ]] {\r\n",
       "}\r\n",
       "\r\n",
       "rec usage \"A3\" as E16  <<(T,blue)action>> [[psysml:072d93d2-c298-4f7b-8e67-b467b8356ba8 ]] {\r\n",
       "}\r\n",
       "\r\n",
       "rec usage \"S\" as E17  <<(T,blue)transition>> [[psysml:4c480f3e-de35-416e-b4f4-0f9aff9c2e68 ]] {\r\n",
       "rec usage \"A1\" as E18  <<(T,blue)action>> [[psysml:b6d0d4a5-7082-45af-9d99-5627255ed9ae ]] {\r\n",
       "}\r\n",
       "\r\n",
       "portout \"$result\" as E19  [[psysml:bae59e2e-3013-4238-add2-fcdff8ecd0eb ]] \r\n",
       "portin \"$x\" as E20  [[psysml:1602ff6f-7228-42cf-b9ac-ebc006cdcd92 ]] \r\n",
       "portin \"$y\" as E21  [[psysml:f75bdb3f-e701-450d-b4f7-b218e85bedc6 ]] \r\n",
       "portout \"$result\" as E22  [[psysml:671b30d7-f020-4858-831b-48c54d9c890b ]] \r\n",
       "}\r\n",
       "\r\n",
       "rec usage \"A3\" as E23  <<(T,blue)action>> [[psysml:072d93d2-c298-4f7b-8e67-b467b8356ba8 ]] {\r\n",
       "}\r\n",
       "\r\n",
       "{\r\n",
       "portout \"$result\" as E24  [[psysml:607bce31-a36d-4c4f-abb5-7d6a5b1eba4c ]] \r\n",
       "portin \"$x\" as E25  [[psysml:30d6127f-38d3-47e6-b88f-d8a7d1fd2593 ]] \r\n",
       "portin \"$y\" as E26  [[psysml:c49c5fa4-01bf-436f-878e-c0b2dd911bef ]] \r\n",
       "portout \"$result\" as E27  [[psysml:cfd24cc8-3d79-4a43-93a1-f42931f2c990 ]] \r\n",
       "}\r\n",
       "\r\n",
       "}\r\n",
       "\r\n",
       "@enduml\r\n",
       "\n",
       "PlantUML version 1.2020.13(Sat Jun 13 12:26:38 UTC 2020)\n",
       "(EPL source distribution)\n",
       "Java Runtime: OpenJDK Runtime Environment\n",
       "JVM: OpenJDK 64-Bit Server VM\n",
       "Default Encoding: UTF-8\n",
       "Language: en\n",
       "Country: null\n",
       "--></g></svg>"
      ]
     },
     "execution_count": 16,
     "metadata": {},
     "output_type": "execute_result"
    }
   ],
   "source": [
    "%viz --style=\"LR\" --view=\"Default\" \"DecisionTest\""
   ]
  },
  {
   "cell_type": "code",
   "execution_count": 17,
   "id": "impossible-margin",
   "metadata": {
    "execution": {
     "iopub.execute_input": "2021-03-25T09:32:45.751468Z",
     "iopub.status.busy": "2021-03-25T09:32:45.750920Z",
     "iopub.status.idle": "2021-03-25T09:32:46.118424Z",
     "shell.execute_reply": "2021-03-25T09:32:46.118861Z"
    }
   },
   "outputs": [
    {
     "data": {
      "image/svg+xml": [
       "<?xml version=\"1.0\" encoding=\"UTF-8\" standalone=\"no\"?><svg xmlns=\"http://www.w3.org/2000/svg\" xmlns:xlink=\"http://www.w3.org/1999/xlink\" contentScriptType=\"application/ecmascript\" contentStyleType=\"text/css\" height=\"207px\" preserveAspectRatio=\"none\" style=\"width:109px;height:207px;\" version=\"1.1\" viewBox=\"0 0 109 207\" width=\"109px\" zoomAndPan=\"magnify\"><defs/><g><!--MD5=[43c9051892ef23e1a46a86907403d788]\n",
       "class E1--><a href=\"psysml:04eadb4d-b968-4a2d-91e2-cdec302c279f\" target=\"_top\" title=\"psysml:04eadb4d-b968-4a2d-91e2-cdec302c279f\" xlink:actuate=\"onRequest\" xlink:href=\"psysml:04eadb4d-b968-4a2d-91e2-cdec302c279f\" xlink:show=\"new\" xlink:title=\"psysml:04eadb4d-b968-4a2d-91e2-cdec302c279f\" xlink:type=\"simple\"><rect fill=\"#FFFFFF\" height=\"189.9844\" id=\"E1\" style=\"stroke: #383838; stroke-width: 1.5;\" width=\"91\" x=\"7\" y=\"7\"/><text fill=\"#000000\" font-family=\"sans-serif\" font-size=\"12\" font-style=\"italic\" lengthAdjust=\"spacingAndGlyphs\" textLength=\"77\" x=\"14\" y=\"23.1387\">«action def»</text><text fill=\"#000000\" font-family=\"sans-serif\" font-size=\"12\" lengthAdjust=\"spacingAndGlyphs\" textLength=\"80\" x=\"12.5\" y=\"37.1074\">DecisionTest</text><line style=\"stroke: #383838; stroke-width: 1.5;\" x1=\"8\" x2=\"97\" y1=\"44.9375\" y2=\"44.9375\"/><text fill=\"#000000\" font-family=\"sans-serif\" font-size=\"11\" lengthAdjust=\"spacingAndGlyphs\" textLength=\"6\" x=\"13\" y=\"75.9526\">x</text><line style=\"stroke: #383838; stroke-width: 1.0;\" x1=\"8\" x2=\"25\" y1=\"59.3398\" y2=\"59.3398\"/><text fill=\"#000000\" font-family=\"sans-serif\" font-size=\"11\" lengthAdjust=\"spacingAndGlyphs\" textLength=\"55\" x=\"25\" y=\"62.6479\">attributes</text><line style=\"stroke: #383838; stroke-width: 1.0;\" x1=\"80\" x2=\"97\" y1=\"59.3398\" y2=\"59.3398\"/><text fill=\"#000000\" font-family=\"sans-serif\" font-size=\"11\" lengthAdjust=\"spacingAndGlyphs\" textLength=\"14\" x=\"13\" y=\"105.562\">A1</text><text fill=\"#000000\" font-family=\"sans-serif\" font-size=\"11\" lengthAdjust=\"spacingAndGlyphs\" textLength=\"14\" x=\"13\" y=\"118.3667\">A2</text><text fill=\"#000000\" font-family=\"sans-serif\" font-size=\"11\" lengthAdjust=\"spacingAndGlyphs\" textLength=\"14\" x=\"13\" y=\"131.1714\">A3</text><line style=\"stroke: #383838; stroke-width: 1.0;\" x1=\"8\" x2=\"32\" y1=\"88.9492\" y2=\"88.9492\"/><text fill=\"#000000\" font-family=\"sans-serif\" font-size=\"11\" lengthAdjust=\"spacingAndGlyphs\" textLength=\"41\" x=\"32\" y=\"92.2573\">actions</text><line style=\"stroke: #383838; stroke-width: 1.0;\" x1=\"73\" x2=\"97\" y1=\"88.9492\" y2=\"88.9492\"/><text fill=\"#000000\" font-family=\"sans-serif\" font-size=\"11\" lengthAdjust=\"spacingAndGlyphs\" textLength=\"32\" x=\"13\" y=\"160.7808\">test x</text><line style=\"stroke: #383838; stroke-width: 1.0;\" x1=\"8\" x2=\"11\" y1=\"144.168\" y2=\"144.168\"/><text fill=\"#000000\" font-family=\"sans-serif\" font-size=\"11\" lengthAdjust=\"spacingAndGlyphs\" textLength=\"83\" x=\"11\" y=\"147.4761\">decisionNodes</text><line style=\"stroke: #383838; stroke-width: 1.0;\" x1=\"94\" x2=\"97\" y1=\"144.168\" y2=\"144.168\"/><text fill=\"#000000\" font-family=\"sans-serif\" font-size=\"11\" lengthAdjust=\"spacingAndGlyphs\" textLength=\"8\" x=\"13\" y=\"190.3901\">S</text><line style=\"stroke: #383838; stroke-width: 1.0;\" x1=\"8\" x2=\"22\" y1=\"173.7773\" y2=\"173.7773\"/><text fill=\"#000000\" font-family=\"sans-serif\" font-size=\"11\" lengthAdjust=\"spacingAndGlyphs\" textLength=\"61\" x=\"22\" y=\"177.0854\">transitions</text><line style=\"stroke: #383838; stroke-width: 1.0;\" x1=\"83\" x2=\"97\" y1=\"173.7773\" y2=\"173.7773\"/></a><!--MD5=[35d2351222d47c7d2a5c0165e207accd]\n",
       "@startuml\r\n",
       "left to right direction\r\n",
       "skinparam monochrome true\r\n",
       "skinparam classbackgroundcolor white\r\n",
       "skinparam shadowing false\r\n",
       "skinparam wrapWidth 300\r\n",
       "hide circle\r\n",
       "\r\n",
       "comp def \"DecisionTest\" as E1  <<(T,blue)action def>> [[psysml:04eadb4d-b968-4a2d-91e2-cdec302c279f ]] {\r\n",
       "- - attributes - -\r\n",
       "x\r\n",
       "- - actions - -\r\n",
       "A1\r\n",
       "A2\r\n",
       "A3\r\n",
       "- - decisionNodes - -\r\n",
       "test x\r\n",
       "- - transitions - -\r\n",
       "S\r\n",
       "}\r\n",
       "@enduml\r\n",
       "\n",
       "PlantUML version 1.2020.13(Sat Jun 13 12:26:38 UTC 2020)\n",
       "(EPL source distribution)\n",
       "Java Runtime: OpenJDK Runtime Environment\n",
       "JVM: OpenJDK 64-Bit Server VM\n",
       "Default Encoding: UTF-8\n",
       "Language: en\n",
       "Country: null\n",
       "--></g></svg>"
      ]
     },
     "execution_count": 17,
     "metadata": {},
     "output_type": "execute_result"
    }
   ],
   "source": [
    "%viz --style=\"LR\" --view=\"Tree\" \"DecisionTest\""
   ]
  },
  {
   "cell_type": "code",
   "execution_count": 18,
   "id": "single-stamp",
   "metadata": {
    "execution": {
     "iopub.execute_input": "2021-03-25T09:32:46.171242Z",
     "iopub.status.busy": "2021-03-25T09:32:46.170403Z",
     "iopub.status.idle": "2021-03-25T09:32:46.179824Z",
     "shell.execute_reply": "2021-03-25T09:32:46.180260Z"
    }
   },
   "outputs": [
    {
     "data": {
      "image/svg+xml": [
       "<?xml version=\"1.0\" encoding=\"UTF-8\" standalone=\"no\"?><svg xmlns=\"http://www.w3.org/2000/svg\" xmlns:xlink=\"http://www.w3.org/1999/xlink\" contentScriptType=\"application/ecmascript\" contentStyleType=\"text/css\" height=\"12px\" preserveAspectRatio=\"none\" style=\"width:12px;height:12px;\" version=\"1.1\" viewBox=\"0 0 12 12\" width=\"12px\" zoomAndPan=\"magnify\"><defs/><g><!--MD5=[19d285c9d72a204eba4e2cd117d745e8]\n",
       "@startuml\r\n",
       "left to right direction\r\n",
       "skinparam monochrome true\r\n",
       "skinparam classbackgroundcolor white\r\n",
       "skinparam shadowing false\r\n",
       "skinparam wrapWidth 300\r\n",
       "hide circle\r\n",
       "\r\n",
       "@enduml\r\n",
       "\n",
       "PlantUML version 1.2020.13(Sat Jun 13 12:26:38 UTC 2020)\n",
       "(EPL source distribution)\n",
       "Java Runtime: OpenJDK Runtime Environment\n",
       "JVM: OpenJDK 64-Bit Server VM\n",
       "Default Encoding: UTF-8\n",
       "Language: en\n",
       "Country: null\n",
       "--></g></svg>"
      ]
     },
     "execution_count": 18,
     "metadata": {},
     "output_type": "execute_result"
    }
   ],
   "source": [
    "%viz --style=\"LR\" --view=\"State\" \"DecisionTest\""
   ]
  },
  {
   "cell_type": "code",
   "execution_count": 19,
   "id": "nominated-belly",
   "metadata": {
    "execution": {
     "iopub.execute_input": "2021-03-25T09:32:46.233542Z",
     "iopub.status.busy": "2021-03-25T09:32:46.232612Z",
     "iopub.status.idle": "2021-03-25T09:32:46.262846Z",
     "shell.execute_reply": "2021-03-25T09:32:46.262493Z"
    }
   },
   "outputs": [
    {
     "data": {
      "image/svg+xml": [
       "<?xml version=\"1.0\" encoding=\"UTF-8\" standalone=\"no\"?><svg xmlns=\"http://www.w3.org/2000/svg\" xmlns:xlink=\"http://www.w3.org/1999/xlink\" contentScriptType=\"application/ecmascript\" contentStyleType=\"text/css\" height=\"60px\" preserveAspectRatio=\"none\" style=\"width:109px;height:60px;\" version=\"1.1\" viewBox=\"0 0 109 60\" width=\"109px\" zoomAndPan=\"magnify\"><defs/><g><g id=\"E1\"><a href=\"psysml:04eadb4d-b968-4a2d-91e2-cdec302c279f\" target=\"_top\" title=\"psysml:04eadb4d-b968-4a2d-91e2-cdec302c279f\" xlink:actuate=\"onRequest\" xlink:href=\"psysml:04eadb4d-b968-4a2d-91e2-cdec302c279f\" xlink:show=\"new\" xlink:title=\"psysml:04eadb4d-b968-4a2d-91e2-cdec302c279f\" xlink:type=\"simple\"><rect fill=\"#FFFFFF\" height=\"42.9375\" id=\"E1\" style=\"stroke: #383838; stroke-width: 1.5;\" width=\"91\" x=\"7\" y=\"7\"/><rect fill=\"#F8F8F8\" height=\"37.9375\" style=\"stroke: #383838; stroke-width: 1.5;\" width=\"91\" x=\"7\" y=\"7\"/><text fill=\"#000000\" font-family=\"sans-serif\" font-size=\"12\" font-style=\"italic\" lengthAdjust=\"spacingAndGlyphs\" textLength=\"77\" x=\"14\" y=\"23.1387\">«action def»</text><text fill=\"#000000\" font-family=\"sans-serif\" font-size=\"12\" lengthAdjust=\"spacingAndGlyphs\" textLength=\"80\" x=\"12.5\" y=\"37.1074\">DecisionTest</text></a></g><!--MD5=[32869f17e364a34768a2ff2cbfc4a6b8]\n",
       "@startuml\r\n",
       "skinparam ranksep 8\r\n",
       "skinparam rectangle {\r\n",
       " backgroundColor<<block>> LightGreen\r\n",
       "}\r\n",
       "left to right direction\r\n",
       "skinparam monochrome true\r\n",
       "skinparam classbackgroundcolor white\r\n",
       "skinparam shadowing false\r\n",
       "skinparam wrapWidth 300\r\n",
       "hide circle\r\n",
       "\r\n",
       "def \"DecisionTest\" as E1  <<(T,blue)action def>> [[psysml:04eadb4d-b968-4a2d-91e2-cdec302c279f ]] \r\n",
       "@enduml\r\n",
       "\n",
       "PlantUML version 1.2020.13(Sat Jun 13 12:26:38 UTC 2020)\n",
       "(EPL source distribution)\n",
       "Java Runtime: OpenJDK Runtime Environment\n",
       "JVM: OpenJDK 64-Bit Server VM\n",
       "Default Encoding: UTF-8\n",
       "Language: en\n",
       "Country: null\n",
       "--></g></svg>"
      ]
     },
     "execution_count": 19,
     "metadata": {},
     "output_type": "execute_result"
    }
   ],
   "source": [
    "%viz --style=\"LR\" --view=\"Interconnection\" \"DecisionTest\""
   ]
  },
  {
   "cell_type": "code",
   "execution_count": 20,
   "id": "visible-revision",
   "metadata": {
    "execution": {
     "iopub.execute_input": "2021-03-25T09:32:46.314039Z",
     "iopub.status.busy": "2021-03-25T09:32:46.313625Z",
     "iopub.status.idle": "2021-03-25T09:32:46.341339Z",
     "shell.execute_reply": "2021-03-25T09:32:46.340927Z"
    }
   },
   "outputs": [
    {
     "data": {
      "image/svg+xml": [
       "<?xml version=\"1.0\" encoding=\"UTF-8\" standalone=\"no\"?><svg xmlns=\"http://www.w3.org/2000/svg\" xmlns:xlink=\"http://www.w3.org/1999/xlink\" contentScriptType=\"application/ecmascript\" contentStyleType=\"text/css\" height=\"304px\" preserveAspectRatio=\"none\" style=\"width:875px;height:304px;background:#000000;\" version=\"1.1\" viewBox=\"0 0 875 304\" width=\"875px\" zoomAndPan=\"magnify\"><defs/><g><rect fill=\"#251C0C\" height=\"1\" style=\"stroke: #251C0C; stroke-width: 1.0;\" width=\"1\" x=\"0\" y=\"0\"/><rect fill=\"#33FF02\" height=\"21.2969\" style=\"stroke: #33FF02; stroke-width: 1.0;\" width=\"868\" x=\"5\" y=\"5\"/><text fill=\"#000000\" font-family=\"sans-serif\" font-size=\"14\" font-weight=\"bold\" lengthAdjust=\"spacingAndGlyphs\" textLength=\"178\" x=\"6\" y=\"20\">[From string (line 15) ]</text><text fill=\"#33FF02\" font-family=\"sans-serif\" font-size=\"14\" font-weight=\"bold\" lengthAdjust=\"spacingAndGlyphs\" textLength=\"0\" x=\"10\" y=\"40.2969\"/><text fill=\"#33FF02\" font-family=\"sans-serif\" font-size=\"14\" font-weight=\"bold\" lengthAdjust=\"spacingAndGlyphs\" textLength=\"79\" x=\"5\" y=\"56.5938\">@startuml</text><text fill=\"#33FF02\" font-family=\"sans-serif\" font-size=\"14\" font-weight=\"bold\" lengthAdjust=\"spacingAndGlyphs\" textLength=\"165\" x=\"5\" y=\"72.8906\">skinparam ranksep 8</text><text fill=\"#33FF02\" font-family=\"sans-serif\" font-size=\"14\" font-weight=\"bold\" lengthAdjust=\"spacingAndGlyphs\" textLength=\"164\" x=\"5\" y=\"89.1875\">left to right direction</text><text fill=\"#33FF02\" font-family=\"sans-serif\" font-size=\"14\" font-weight=\"bold\" lengthAdjust=\"spacingAndGlyphs\" textLength=\"228\" x=\"5\" y=\"105.4844\">skinparam monochrome true</text><text fill=\"#33FF02\" font-family=\"sans-serif\" font-size=\"14\" font-weight=\"bold\" lengthAdjust=\"spacingAndGlyphs\" textLength=\"309\" x=\"5\" y=\"121.7813\">skinparam classbackgroundcolor white</text><text fill=\"#33FF02\" font-family=\"sans-serif\" font-size=\"14\" font-weight=\"bold\" lengthAdjust=\"spacingAndGlyphs\" textLength=\"215\" x=\"5\" y=\"138.0781\">skinparam shadowing false</text><text fill=\"#33FF02\" font-family=\"sans-serif\" font-size=\"14\" font-weight=\"bold\" lengthAdjust=\"spacingAndGlyphs\" textLength=\"206\" x=\"5\" y=\"154.375\">skinparam wrapWidth 300</text><text fill=\"#33FF02\" font-family=\"sans-serif\" font-size=\"14\" font-weight=\"bold\" lengthAdjust=\"spacingAndGlyphs\" textLength=\"82\" x=\"5\" y=\"170.6719\">hide circle</text><text fill=\"#33FF02\" font-family=\"sans-serif\" font-size=\"14\" font-weight=\"bold\" lengthAdjust=\"spacingAndGlyphs\" textLength=\"0\" x=\"10\" y=\"186.9688\"/><text fill=\"#33FF02\" font-family=\"sans-serif\" font-size=\"14\" font-weight=\"bold\" lengthAdjust=\"spacingAndGlyphs\" textLength=\"868\" x=\"5\" y=\"203.2656\">rec def \"DecisionTest\" as E1  &lt;&lt;(T,blue)action def&gt;&gt; [[psysml:04eadb4d-b968-4a2d-91e2-cdec302c279f ]] {</text><text fill=\"#33FF02\" font-family=\"sans-serif\" font-size=\"14\" font-weight=\"bold\" lengthAdjust=\"spacingAndGlyphs\" textLength=\"614\" x=\"5\" y=\"219.5625\">portout \"$result\" as E2  [[psysml:f2b0b0cc-45ae-4166-8d5e-a5963ecab31c ]]</text><text fill=\"#33FF02\" font-family=\"sans-serif\" font-size=\"14\" font-weight=\"bold\" lengthAdjust=\"spacingAndGlyphs\" textLength=\"865\" x=\"5\" y=\"235.8594\">rec usage \"test x\" as E3  &lt;&lt;(T,blue)decisionNode&gt;&gt; [[psysml:12adcb2e-22ad-4270-ad09-4bee8bb9d85c ]] {</text><text fill=\"#33FF02\" font-family=\"sans-serif\" font-size=\"14\" font-weight=\"bold\" lengthAdjust=\"spacingAndGlyphs\" textLength=\"10\" x=\"5\" y=\"252.1563\">}</text><text fill=\"#33FF02\" font-family=\"sans-serif\" font-size=\"14\" font-weight=\"bold\" lengthAdjust=\"spacingAndGlyphs\" textLength=\"0\" x=\"10\" y=\"268.4531\"/><text fill=\"#33FF02\" font-family=\"sans-serif\" font-size=\"14\" font-weight=\"bold\" lengthAdjust=\"spacingAndGlyphs\" textLength=\"10\" x=\"5\" y=\"284.75\">{</text><text fill=\"#FF0000\" font-family=\"sans-serif\" font-size=\"14\" font-weight=\"bold\" lengthAdjust=\"spacingAndGlyphs\" textLength=\"106\" x=\"10\" y=\"301.0469\">Syntax Error?</text><!--MD5=[2d4101ac44e603d83b52a0726f41fe97]\n",
       "@startuml\r\n",
       "skinparam ranksep 8\r\n",
       "left to right direction\r\n",
       "skinparam monochrome true\r\n",
       "skinparam classbackgroundcolor white\r\n",
       "skinparam shadowing false\r\n",
       "skinparam wrapWidth 300\r\n",
       "hide circle\r\n",
       "\r\n",
       "rec def \"DecisionTest\" as E1  <<(T,blue)action def>> [[psysml:04eadb4d-b968-4a2d-91e2-cdec302c279f ]] {\r\n",
       "portout \"$result\" as E2  [[psysml:f2b0b0cc-45ae-4166-8d5e-a5963ecab31c ]] \r\n",
       "rec usage \"test x\" as E3  <<(T,blue)decisionNode>> [[psysml:12adcb2e-22ad-4270-ad09-4bee8bb9d85c ]] {\r\n",
       "}\r\n",
       "\r\n",
       "{\r\n",
       "portout \"$result\" as E4  [[psysml:da91a906-8207-462d-99e2-a18dec940aa7 ]] \r\n",
       "portin \"$x\" as E5  [[psysml:48c17a69-1eb9-4ad6-876e-38a96ca6e086 ]] \r\n",
       "portin \"$y\" as E6  [[psysml:603631ec-51c5-4249-8487-a79a64da6afc ]] \r\n",
       "portout \"$result\" as E7  [[psysml:26e7255e-bbd8-4ac7-a816-6f3abc826445 ]] \r\n",
       "}\r\n",
       "\r\n",
       "{\r\n",
       "portout \"$result\" as E8  [[psysml:34caa6ec-959e-4145-98ad-4a477d59f379 ]] \r\n",
       "portin \"$x\" as E9  [[psysml:a97d47b4-a3dd-4bbd-be98-fc91aed6e874 ]] \r\n",
       "portin \"$y\" as E10  [[psysml:4dcabb7c-801c-43eb-b65b-ea55ba06df11 ]] \r\n",
       "portout \"$result\" as E11  [[psysml:cd7ecfb5-304f-4537-af93-5efd7128d3b2 ]] \r\n",
       "}\r\n",
       "\r\n",
       "{\r\n",
       "}\r\n",
       "\r\n",
       "{\r\n",
       "}\r\n",
       "\r\n",
       "{\r\n",
       "portout \"$result\" as E12  [[psysml:f92bbb85-cf19-4dd5-984f-8fe428e355f9 ]] \r\n",
       "}\r\n",
       "\r\n",
       "{\r\n",
       "portout \"$result\" as E13  [[psysml:b44daa1d-0d17-440b-affc-4aae51a046a3 ]] \r\n",
       "}\r\n",
       "\r\n",
       "rec usage \"A1\" as E14  <<(T,blue)action>> [[psysml:b6d0d4a5-7082-45af-9d99-5627255ed9ae ]] {\r\n",
       "}\r\n",
       "\r\n",
       "rec usage \"A2\" as E15  <<(T,blue)action>> [[psysml:60e701bb-1db7-4263-ad0a-ece44064a54f ]] {\r\n",
       "}\r\n",
       "\r\n",
       "rec usage \"A3\" as E16  <<(T,blue)action>> [[psysml:072d93d2-c298-4f7b-8e67-b467b8356ba8 ]] {\r\n",
       "}\r\n",
       "\r\n",
       "rec usage \"S\" as E17  <<(T,blue)transition>> [[psysml:4c480f3e-de35-416e-b4f4-0f9aff9c2e68 ]] {\r\n",
       "rec usage \"A1\" as E18  <<(T,blue)action>> [[psysml:b6d0d4a5-7082-45af-9d99-5627255ed9ae ]] {\r\n",
       "}\r\n",
       "\r\n",
       "portout \"$result\" as E19  [[psysml:bae59e2e-3013-4238-add2-fcdff8ecd0eb ]] \r\n",
       "portin \"$x\" as E20  [[psysml:1602ff6f-7228-42cf-b9ac-ebc006cdcd92 ]] \r\n",
       "portin \"$y\" as E21  [[psysml:f75bdb3f-e701-450d-b4f7-b218e85bedc6 ]] \r\n",
       "portout \"$result\" as E22  [[psysml:671b30d7-f020-4858-831b-48c54d9c890b ]] \r\n",
       "}\r\n",
       "\r\n",
       "rec usage \"A3\" as E23  <<(T,blue)action>> [[psysml:072d93d2-c298-4f7b-8e67-b467b8356ba8 ]] {\r\n",
       "}\r\n",
       "\r\n",
       "{\r\n",
       "portout \"$result\" as E24  [[psysml:607bce31-a36d-4c4f-abb5-7d6a5b1eba4c ]] \r\n",
       "portin \"$x\" as E25  [[psysml:30d6127f-38d3-47e6-b88f-d8a7d1fd2593 ]] \r\n",
       "portin \"$y\" as E26  [[psysml:c49c5fa4-01bf-436f-878e-c0b2dd911bef ]] \r\n",
       "portout \"$result\" as E27  [[psysml:cfd24cc8-3d79-4a43-93a1-f42931f2c990 ]] \r\n",
       "}\r\n",
       "\r\n",
       "}\r\n",
       "\r\n",
       "@enduml\r\n",
       "\n",
       "PlantUML version 1.2020.13(Sat Jun 13 12:26:38 UTC 2020)\n",
       "(EPL source distribution)\n",
       "Java Runtime: OpenJDK Runtime Environment\n",
       "JVM: OpenJDK 64-Bit Server VM\n",
       "Default Encoding: UTF-8\n",
       "Language: en\n",
       "Country: null\n",
       "--></g></svg>"
      ]
     },
     "execution_count": 20,
     "metadata": {},
     "output_type": "execute_result"
    }
   ],
   "source": [
    "%viz --style=\"LR\" --view=\"Action\" \"DecisionTest\""
   ]
  },
  {
   "cell_type": "code",
   "execution_count": 21,
   "id": "brief-barrel",
   "metadata": {
    "execution": {
     "iopub.execute_input": "2021-03-25T09:32:46.393557Z",
     "iopub.status.busy": "2021-03-25T09:32:46.392961Z",
     "iopub.status.idle": "2021-03-25T09:32:46.757469Z",
     "shell.execute_reply": "2021-03-25T09:32:46.757815Z"
    }
   },
   "outputs": [
    {
     "data": {
      "image/svg+xml": [
       "<?xml version=\"1.0\" encoding=\"UTF-8\" standalone=\"no\"?><svg xmlns=\"http://www.w3.org/2000/svg\" xmlns:xlink=\"http://www.w3.org/1999/xlink\" contentScriptType=\"application/ecmascript\" contentStyleType=\"text/css\" height=\"207px\" preserveAspectRatio=\"none\" style=\"width:109px;height:207px;\" version=\"1.1\" viewBox=\"0 0 109 207\" width=\"109px\" zoomAndPan=\"magnify\"><defs/><g><!--MD5=[43c9051892ef23e1a46a86907403d788]\n",
       "class E1--><a href=\"psysml:04eadb4d-b968-4a2d-91e2-cdec302c279f\" target=\"_top\" title=\"psysml:04eadb4d-b968-4a2d-91e2-cdec302c279f\" xlink:actuate=\"onRequest\" xlink:href=\"psysml:04eadb4d-b968-4a2d-91e2-cdec302c279f\" xlink:show=\"new\" xlink:title=\"psysml:04eadb4d-b968-4a2d-91e2-cdec302c279f\" xlink:type=\"simple\"><rect fill=\"#FFFFFF\" height=\"189.9844\" id=\"E1\" style=\"stroke: #383838; stroke-width: 1.5;\" width=\"91\" x=\"7\" y=\"7\"/><text fill=\"#000000\" font-family=\"sans-serif\" font-size=\"12\" font-style=\"italic\" lengthAdjust=\"spacingAndGlyphs\" textLength=\"77\" x=\"14\" y=\"23.1387\">«action def»</text><text fill=\"#000000\" font-family=\"sans-serif\" font-size=\"12\" lengthAdjust=\"spacingAndGlyphs\" textLength=\"80\" x=\"12.5\" y=\"37.1074\">DecisionTest</text><line style=\"stroke: #383838; stroke-width: 1.5;\" x1=\"8\" x2=\"97\" y1=\"44.9375\" y2=\"44.9375\"/><text fill=\"#000000\" font-family=\"sans-serif\" font-size=\"11\" lengthAdjust=\"spacingAndGlyphs\" textLength=\"6\" x=\"13\" y=\"75.9526\">x</text><line style=\"stroke: #383838; stroke-width: 1.0;\" x1=\"8\" x2=\"25\" y1=\"59.3398\" y2=\"59.3398\"/><text fill=\"#000000\" font-family=\"sans-serif\" font-size=\"11\" lengthAdjust=\"spacingAndGlyphs\" textLength=\"55\" x=\"25\" y=\"62.6479\">attributes</text><line style=\"stroke: #383838; stroke-width: 1.0;\" x1=\"80\" x2=\"97\" y1=\"59.3398\" y2=\"59.3398\"/><text fill=\"#000000\" font-family=\"sans-serif\" font-size=\"11\" lengthAdjust=\"spacingAndGlyphs\" textLength=\"14\" x=\"13\" y=\"105.562\">A1</text><text fill=\"#000000\" font-family=\"sans-serif\" font-size=\"11\" lengthAdjust=\"spacingAndGlyphs\" textLength=\"14\" x=\"13\" y=\"118.3667\">A2</text><text fill=\"#000000\" font-family=\"sans-serif\" font-size=\"11\" lengthAdjust=\"spacingAndGlyphs\" textLength=\"14\" x=\"13\" y=\"131.1714\">A3</text><line style=\"stroke: #383838; stroke-width: 1.0;\" x1=\"8\" x2=\"32\" y1=\"88.9492\" y2=\"88.9492\"/><text fill=\"#000000\" font-family=\"sans-serif\" font-size=\"11\" lengthAdjust=\"spacingAndGlyphs\" textLength=\"41\" x=\"32\" y=\"92.2573\">actions</text><line style=\"stroke: #383838; stroke-width: 1.0;\" x1=\"73\" x2=\"97\" y1=\"88.9492\" y2=\"88.9492\"/><text fill=\"#000000\" font-family=\"sans-serif\" font-size=\"11\" lengthAdjust=\"spacingAndGlyphs\" textLength=\"32\" x=\"13\" y=\"160.7808\">test x</text><line style=\"stroke: #383838; stroke-width: 1.0;\" x1=\"8\" x2=\"11\" y1=\"144.168\" y2=\"144.168\"/><text fill=\"#000000\" font-family=\"sans-serif\" font-size=\"11\" lengthAdjust=\"spacingAndGlyphs\" textLength=\"83\" x=\"11\" y=\"147.4761\">decisionNodes</text><line style=\"stroke: #383838; stroke-width: 1.0;\" x1=\"94\" x2=\"97\" y1=\"144.168\" y2=\"144.168\"/><text fill=\"#000000\" font-family=\"sans-serif\" font-size=\"11\" lengthAdjust=\"spacingAndGlyphs\" textLength=\"8\" x=\"13\" y=\"190.3901\">S</text><line style=\"stroke: #383838; stroke-width: 1.0;\" x1=\"8\" x2=\"22\" y1=\"173.7773\" y2=\"173.7773\"/><text fill=\"#000000\" font-family=\"sans-serif\" font-size=\"11\" lengthAdjust=\"spacingAndGlyphs\" textLength=\"61\" x=\"22\" y=\"177.0854\">transitions</text><line style=\"stroke: #383838; stroke-width: 1.0;\" x1=\"83\" x2=\"97\" y1=\"173.7773\" y2=\"173.7773\"/></a><!--MD5=[35d2351222d47c7d2a5c0165e207accd]\n",
       "@startuml\r\n",
       "left to right direction\r\n",
       "skinparam monochrome true\r\n",
       "skinparam classbackgroundcolor white\r\n",
       "skinparam shadowing false\r\n",
       "skinparam wrapWidth 300\r\n",
       "hide circle\r\n",
       "\r\n",
       "comp def \"DecisionTest\" as E1  <<(T,blue)action def>> [[psysml:04eadb4d-b968-4a2d-91e2-cdec302c279f ]] {\r\n",
       "- - attributes - -\r\n",
       "x\r\n",
       "- - actions - -\r\n",
       "A1\r\n",
       "A2\r\n",
       "A3\r\n",
       "- - decisionNodes - -\r\n",
       "test x\r\n",
       "- - transitions - -\r\n",
       "S\r\n",
       "}\r\n",
       "@enduml\r\n",
       "\n",
       "PlantUML version 1.2020.13(Sat Jun 13 12:26:38 UTC 2020)\n",
       "(EPL source distribution)\n",
       "Java Runtime: OpenJDK Runtime Environment\n",
       "JVM: OpenJDK 64-Bit Server VM\n",
       "Default Encoding: UTF-8\n",
       "Language: en\n",
       "Country: null\n",
       "--></g></svg>"
      ]
     },
     "execution_count": 21,
     "metadata": {},
     "output_type": "execute_result"
    }
   ],
   "source": [
    "%viz --style=\"LR\" --view=\"Sequence\" \"DecisionTest\""
   ]
  },
  {
   "cell_type": "code",
   "execution_count": 22,
   "id": "massive-heritage",
   "metadata": {
    "execution": {
     "iopub.execute_input": "2021-03-25T09:32:46.808984Z",
     "iopub.status.busy": "2021-03-25T09:32:46.808489Z",
     "iopub.status.idle": "2021-03-25T09:32:46.834805Z",
     "shell.execute_reply": "2021-03-25T09:32:46.833374Z"
    }
   },
   "outputs": [
    {
     "data": {
      "image/svg+xml": [
       "<?xml version=\"1.0\" encoding=\"UTF-8\" standalone=\"no\"?><svg xmlns=\"http://www.w3.org/2000/svg\" xmlns:xlink=\"http://www.w3.org/1999/xlink\" contentScriptType=\"application/ecmascript\" contentStyleType=\"text/css\" height=\"288px\" preserveAspectRatio=\"none\" style=\"width:875px;height:288px;background:#000000;\" version=\"1.1\" viewBox=\"0 0 875 288\" width=\"875px\" zoomAndPan=\"magnify\"><defs/><g><rect fill=\"#0F1E0C\" height=\"1\" style=\"stroke: #0F1E0C; stroke-width: 1.0;\" width=\"1\" x=\"0\" y=\"0\"/><rect fill=\"#33FF02\" height=\"21.2969\" style=\"stroke: #33FF02; stroke-width: 1.0;\" width=\"868\" x=\"5\" y=\"5\"/><text fill=\"#000000\" font-family=\"sans-serif\" font-size=\"14\" font-weight=\"bold\" lengthAdjust=\"spacingAndGlyphs\" textLength=\"178\" x=\"6\" y=\"20\">[From string (line 14) ]</text><text fill=\"#33FF02\" font-family=\"sans-serif\" font-size=\"14\" font-weight=\"bold\" lengthAdjust=\"spacingAndGlyphs\" textLength=\"0\" x=\"10\" y=\"40.2969\"/><text fill=\"#33FF02\" font-family=\"sans-serif\" font-size=\"14\" font-weight=\"bold\" lengthAdjust=\"spacingAndGlyphs\" textLength=\"79\" x=\"5\" y=\"56.5938\">@startuml</text><text fill=\"#33FF02\" font-family=\"sans-serif\" font-size=\"14\" font-weight=\"bold\" lengthAdjust=\"spacingAndGlyphs\" textLength=\"164\" x=\"5\" y=\"72.8906\">left to right direction</text><text fill=\"#33FF02\" font-family=\"sans-serif\" font-size=\"14\" font-weight=\"bold\" lengthAdjust=\"spacingAndGlyphs\" textLength=\"228\" x=\"5\" y=\"89.1875\">skinparam monochrome true</text><text fill=\"#33FF02\" font-family=\"sans-serif\" font-size=\"14\" font-weight=\"bold\" lengthAdjust=\"spacingAndGlyphs\" textLength=\"309\" x=\"5\" y=\"105.4844\">skinparam classbackgroundcolor white</text><text fill=\"#33FF02\" font-family=\"sans-serif\" font-size=\"14\" font-weight=\"bold\" lengthAdjust=\"spacingAndGlyphs\" textLength=\"215\" x=\"5\" y=\"121.7813\">skinparam shadowing false</text><text fill=\"#33FF02\" font-family=\"sans-serif\" font-size=\"14\" font-weight=\"bold\" lengthAdjust=\"spacingAndGlyphs\" textLength=\"206\" x=\"5\" y=\"138.0781\">skinparam wrapWidth 300</text><text fill=\"#33FF02\" font-family=\"sans-serif\" font-size=\"14\" font-weight=\"bold\" lengthAdjust=\"spacingAndGlyphs\" textLength=\"82\" x=\"5\" y=\"154.375\">hide circle</text><text fill=\"#33FF02\" font-family=\"sans-serif\" font-size=\"14\" font-weight=\"bold\" lengthAdjust=\"spacingAndGlyphs\" textLength=\"0\" x=\"10\" y=\"170.6719\"/><text fill=\"#33FF02\" font-family=\"sans-serif\" font-size=\"14\" font-weight=\"bold\" lengthAdjust=\"spacingAndGlyphs\" textLength=\"868\" x=\"5\" y=\"186.9688\">rec def \"DecisionTest\" as E1  &lt;&lt;(T,blue)action def&gt;&gt; [[psysml:04eadb4d-b968-4a2d-91e2-cdec302c279f ]] {</text><text fill=\"#33FF02\" font-family=\"sans-serif\" font-size=\"14\" font-weight=\"bold\" lengthAdjust=\"spacingAndGlyphs\" textLength=\"614\" x=\"5\" y=\"203.2656\">portout \"$result\" as E2  [[psysml:f2b0b0cc-45ae-4166-8d5e-a5963ecab31c ]]</text><text fill=\"#33FF02\" font-family=\"sans-serif\" font-size=\"14\" font-weight=\"bold\" lengthAdjust=\"spacingAndGlyphs\" textLength=\"865\" x=\"5\" y=\"219.5625\">rec usage \"test x\" as E3  &lt;&lt;(T,blue)decisionNode&gt;&gt; [[psysml:12adcb2e-22ad-4270-ad09-4bee8bb9d85c ]] {</text><text fill=\"#33FF02\" font-family=\"sans-serif\" font-size=\"14\" font-weight=\"bold\" lengthAdjust=\"spacingAndGlyphs\" textLength=\"10\" x=\"5\" y=\"235.8594\">}</text><text fill=\"#33FF02\" font-family=\"sans-serif\" font-size=\"14\" font-weight=\"bold\" lengthAdjust=\"spacingAndGlyphs\" textLength=\"0\" x=\"10\" y=\"252.1563\"/><text fill=\"#33FF02\" font-family=\"sans-serif\" font-size=\"14\" font-weight=\"bold\" lengthAdjust=\"spacingAndGlyphs\" textLength=\"10\" x=\"5\" y=\"268.4531\">{</text><text fill=\"#FF0000\" font-family=\"sans-serif\" font-size=\"14\" font-weight=\"bold\" lengthAdjust=\"spacingAndGlyphs\" textLength=\"106\" x=\"10\" y=\"284.75\">Syntax Error?</text><!--MD5=[f026cad5d4627468dd7cce59f0bf1462]\n",
       "@startuml\r\n",
       "left to right direction\r\n",
       "skinparam monochrome true\r\n",
       "skinparam classbackgroundcolor white\r\n",
       "skinparam shadowing false\r\n",
       "skinparam wrapWidth 300\r\n",
       "hide circle\r\n",
       "\r\n",
       "rec def \"DecisionTest\" as E1  <<(T,blue)action def>> [[psysml:04eadb4d-b968-4a2d-91e2-cdec302c279f ]] {\r\n",
       "portout \"$result\" as E2  [[psysml:f2b0b0cc-45ae-4166-8d5e-a5963ecab31c ]] \r\n",
       "rec usage \"test x\" as E3  <<(T,blue)decisionNode>> [[psysml:12adcb2e-22ad-4270-ad09-4bee8bb9d85c ]] {\r\n",
       "}\r\n",
       "\r\n",
       "{\r\n",
       "portout \"$result\" as E4  [[psysml:da91a906-8207-462d-99e2-a18dec940aa7 ]] \r\n",
       "portin \"$x\" as E5  [[psysml:48c17a69-1eb9-4ad6-876e-38a96ca6e086 ]] \r\n",
       "portin \"$y\" as E6  [[psysml:603631ec-51c5-4249-8487-a79a64da6afc ]] \r\n",
       "portout \"$result\" as E7  [[psysml:26e7255e-bbd8-4ac7-a816-6f3abc826445 ]] \r\n",
       "}\r\n",
       "\r\n",
       "{\r\n",
       "portout \"$result\" as E8  [[psysml:34caa6ec-959e-4145-98ad-4a477d59f379 ]] \r\n",
       "portin \"$x\" as E9  [[psysml:a97d47b4-a3dd-4bbd-be98-fc91aed6e874 ]] \r\n",
       "portin \"$y\" as E10  [[psysml:4dcabb7c-801c-43eb-b65b-ea55ba06df11 ]] \r\n",
       "portout \"$result\" as E11  [[psysml:cd7ecfb5-304f-4537-af93-5efd7128d3b2 ]] \r\n",
       "}\r\n",
       "\r\n",
       "{\r\n",
       "}\r\n",
       "\r\n",
       "{\r\n",
       "}\r\n",
       "\r\n",
       "{\r\n",
       "portout \"$result\" as E12  [[psysml:f92bbb85-cf19-4dd5-984f-8fe428e355f9 ]] \r\n",
       "}\r\n",
       "\r\n",
       "{\r\n",
       "portout \"$result\" as E13  [[psysml:b44daa1d-0d17-440b-affc-4aae51a046a3 ]] \r\n",
       "}\r\n",
       "\r\n",
       "rec usage \"A1\" as E14  <<(T,blue)action>> [[psysml:b6d0d4a5-7082-45af-9d99-5627255ed9ae ]] {\r\n",
       "}\r\n",
       "\r\n",
       "rec usage \"A2\" as E15  <<(T,blue)action>> [[psysml:60e701bb-1db7-4263-ad0a-ece44064a54f ]] {\r\n",
       "}\r\n",
       "\r\n",
       "rec usage \"A3\" as E16  <<(T,blue)action>> [[psysml:072d93d2-c298-4f7b-8e67-b467b8356ba8 ]] {\r\n",
       "}\r\n",
       "\r\n",
       "rec usage \"S\" as E17  <<(T,blue)transition>> [[psysml:4c480f3e-de35-416e-b4f4-0f9aff9c2e68 ]] {\r\n",
       "rec usage \"A1\" as E18  <<(T,blue)action>> [[psysml:b6d0d4a5-7082-45af-9d99-5627255ed9ae ]] {\r\n",
       "}\r\n",
       "\r\n",
       "portout \"$result\" as E19  [[psysml:bae59e2e-3013-4238-add2-fcdff8ecd0eb ]] \r\n",
       "portin \"$x\" as E20  [[psysml:1602ff6f-7228-42cf-b9ac-ebc006cdcd92 ]] \r\n",
       "portin \"$y\" as E21  [[psysml:f75bdb3f-e701-450d-b4f7-b218e85bedc6 ]] \r\n",
       "portout \"$result\" as E22  [[psysml:671b30d7-f020-4858-831b-48c54d9c890b ]] \r\n",
       "}\r\n",
       "\r\n",
       "rec usage \"A3\" as E23  <<(T,blue)action>> [[psysml:072d93d2-c298-4f7b-8e67-b467b8356ba8 ]] {\r\n",
       "}\r\n",
       "\r\n",
       "{\r\n",
       "portout \"$result\" as E24  [[psysml:607bce31-a36d-4c4f-abb5-7d6a5b1eba4c ]] \r\n",
       "portin \"$x\" as E25  [[psysml:30d6127f-38d3-47e6-b88f-d8a7d1fd2593 ]] \r\n",
       "portin \"$y\" as E26  [[psysml:c49c5fa4-01bf-436f-878e-c0b2dd911bef ]] \r\n",
       "portout \"$result\" as E27  [[psysml:cfd24cc8-3d79-4a43-93a1-f42931f2c990 ]] \r\n",
       "}\r\n",
       "\r\n",
       "}\r\n",
       "\r\n",
       "@enduml\r\n",
       "\n",
       "PlantUML version 1.2020.13(Sat Jun 13 12:26:38 UTC 2020)\n",
       "(EPL source distribution)\n",
       "Java Runtime: OpenJDK Runtime Environment\n",
       "JVM: OpenJDK 64-Bit Server VM\n",
       "Default Encoding: UTF-8\n",
       "Language: en\n",
       "Country: null\n",
       "--></g></svg>"
      ]
     },
     "execution_count": 22,
     "metadata": {},
     "output_type": "execute_result"
    }
   ],
   "source": [
    "%viz --style=\"LR\" --view=\"MIXED\" \"DecisionTest\""
   ]
  },
  {
   "cell_type": "code",
   "execution_count": 23,
   "id": "exposed-dubai",
   "metadata": {
    "execution": {
     "iopub.execute_input": "2021-03-25T09:32:46.887592Z",
     "iopub.status.busy": "2021-03-25T09:32:46.886903Z",
     "iopub.status.idle": "2021-03-25T09:32:46.978310Z",
     "shell.execute_reply": "2021-03-25T09:32:46.978709Z"
    }
   },
   "outputs": [
    {
     "data": {
      "image/svg+xml": [
       "<?xml version=\"1.0\" encoding=\"UTF-8\" standalone=\"no\"?><svg xmlns=\"http://www.w3.org/2000/svg\" xmlns:xlink=\"http://www.w3.org/1999/xlink\" contentScriptType=\"application/ecmascript\" contentStyleType=\"text/css\" height=\"223px\" preserveAspectRatio=\"none\" style=\"width:875px;height:223px;background:#000000;\" version=\"1.1\" viewBox=\"0 0 875 223\" width=\"875px\" zoomAndPan=\"magnify\"><defs/><g><rect fill=\"#171015\" height=\"1\" style=\"stroke: #171015; stroke-width: 1.0;\" width=\"1\" x=\"0\" y=\"0\"/><rect fill=\"#33FF02\" height=\"21.2969\" style=\"stroke: #33FF02; stroke-width: 1.0;\" width=\"868\" x=\"5\" y=\"5\"/><text fill=\"#000000\" font-family=\"sans-serif\" font-size=\"14\" font-weight=\"bold\" lengthAdjust=\"spacingAndGlyphs\" textLength=\"178\" x=\"6\" y=\"20\">[From string (line 10) ]</text><text fill=\"#33FF02\" font-family=\"sans-serif\" font-size=\"14\" font-weight=\"bold\" lengthAdjust=\"spacingAndGlyphs\" textLength=\"0\" x=\"10\" y=\"40.2969\"/><text fill=\"#33FF02\" font-family=\"sans-serif\" font-size=\"14\" font-weight=\"bold\" lengthAdjust=\"spacingAndGlyphs\" textLength=\"79\" x=\"5\" y=\"56.5938\">@startuml</text><text fill=\"#33FF02\" font-family=\"sans-serif\" font-size=\"14\" font-weight=\"bold\" lengthAdjust=\"spacingAndGlyphs\" textLength=\"206\" x=\"5\" y=\"72.8906\">skinparam wrapWidth 300</text><text fill=\"#33FF02\" font-family=\"sans-serif\" font-size=\"14\" font-weight=\"bold\" lengthAdjust=\"spacingAndGlyphs\" textLength=\"82\" x=\"5\" y=\"89.1875\">hide circle</text><text fill=\"#33FF02\" font-family=\"sans-serif\" font-size=\"14\" font-weight=\"bold\" lengthAdjust=\"spacingAndGlyphs\" textLength=\"0\" x=\"10\" y=\"105.4844\"/><text fill=\"#33FF02\" font-family=\"sans-serif\" font-size=\"14\" font-weight=\"bold\" lengthAdjust=\"spacingAndGlyphs\" textLength=\"868\" x=\"5\" y=\"121.7813\">rec def \"DecisionTest\" as E1  &lt;&lt;(T,blue)action def&gt;&gt; [[psysml:04eadb4d-b968-4a2d-91e2-cdec302c279f ]] {</text><text fill=\"#33FF02\" font-family=\"sans-serif\" font-size=\"14\" font-weight=\"bold\" lengthAdjust=\"spacingAndGlyphs\" textLength=\"614\" x=\"5\" y=\"138.0781\">portout \"$result\" as E2  [[psysml:f2b0b0cc-45ae-4166-8d5e-a5963ecab31c ]]</text><text fill=\"#33FF02\" font-family=\"sans-serif\" font-size=\"14\" font-weight=\"bold\" lengthAdjust=\"spacingAndGlyphs\" textLength=\"865\" x=\"5\" y=\"154.375\">rec usage \"test x\" as E3  &lt;&lt;(T,blue)decisionNode&gt;&gt; [[psysml:12adcb2e-22ad-4270-ad09-4bee8bb9d85c ]] {</text><text fill=\"#33FF02\" font-family=\"sans-serif\" font-size=\"14\" font-weight=\"bold\" lengthAdjust=\"spacingAndGlyphs\" textLength=\"10\" x=\"5\" y=\"170.6719\">}</text><text fill=\"#33FF02\" font-family=\"sans-serif\" font-size=\"14\" font-weight=\"bold\" lengthAdjust=\"spacingAndGlyphs\" textLength=\"0\" x=\"10\" y=\"186.9688\"/><text fill=\"#33FF02\" font-family=\"sans-serif\" font-size=\"14\" font-weight=\"bold\" lengthAdjust=\"spacingAndGlyphs\" textLength=\"10\" x=\"5\" y=\"203.2656\">{</text><text fill=\"#FF0000\" font-family=\"sans-serif\" font-size=\"14\" font-weight=\"bold\" lengthAdjust=\"spacingAndGlyphs\" textLength=\"106\" x=\"10\" y=\"219.5625\">Syntax Error?</text><!--MD5=[ad3d84cd2833acbab624bf3589304d85]\n",
       "@startuml\r\n",
       "skinparam wrapWidth 300\r\n",
       "hide circle\r\n",
       "\r\n",
       "rec def \"DecisionTest\" as E1  <<(T,blue)action def>> [[psysml:04eadb4d-b968-4a2d-91e2-cdec302c279f ]] {\r\n",
       "portout \"$result\" as E2  [[psysml:f2b0b0cc-45ae-4166-8d5e-a5963ecab31c ]] \r\n",
       "rec usage \"test x\" as E3  <<(T,blue)decisionNode>> [[psysml:12adcb2e-22ad-4270-ad09-4bee8bb9d85c ]] {\r\n",
       "}\r\n",
       "\r\n",
       "{\r\n",
       "portout \"$result\" as E4  [[psysml:da91a906-8207-462d-99e2-a18dec940aa7 ]] \r\n",
       "portin \"$x\" as E5  [[psysml:48c17a69-1eb9-4ad6-876e-38a96ca6e086 ]] \r\n",
       "portin \"$y\" as E6  [[psysml:603631ec-51c5-4249-8487-a79a64da6afc ]] \r\n",
       "portout \"$result\" as E7  [[psysml:26e7255e-bbd8-4ac7-a816-6f3abc826445 ]] \r\n",
       "}\r\n",
       "\r\n",
       "{\r\n",
       "portout \"$result\" as E8  [[psysml:34caa6ec-959e-4145-98ad-4a477d59f379 ]] \r\n",
       "portin \"$x\" as E9  [[psysml:a97d47b4-a3dd-4bbd-be98-fc91aed6e874 ]] \r\n",
       "portin \"$y\" as E10  [[psysml:4dcabb7c-801c-43eb-b65b-ea55ba06df11 ]] \r\n",
       "portout \"$result\" as E11  [[psysml:cd7ecfb5-304f-4537-af93-5efd7128d3b2 ]] \r\n",
       "}\r\n",
       "\r\n",
       "{\r\n",
       "}\r\n",
       "\r\n",
       "{\r\n",
       "}\r\n",
       "\r\n",
       "{\r\n",
       "portout \"$result\" as E12  [[psysml:f92bbb85-cf19-4dd5-984f-8fe428e355f9 ]] \r\n",
       "}\r\n",
       "\r\n",
       "{\r\n",
       "portout \"$result\" as E13  [[psysml:b44daa1d-0d17-440b-affc-4aae51a046a3 ]] \r\n",
       "}\r\n",
       "\r\n",
       "rec usage \"A1\" as E14  <<(T,blue)action>> [[psysml:b6d0d4a5-7082-45af-9d99-5627255ed9ae ]] {\r\n",
       "}\r\n",
       "\r\n",
       "rec usage \"A2\" as E15  <<(T,blue)action>> [[psysml:60e701bb-1db7-4263-ad0a-ece44064a54f ]] {\r\n",
       "}\r\n",
       "\r\n",
       "rec usage \"A3\" as E16  <<(T,blue)action>> [[psysml:072d93d2-c298-4f7b-8e67-b467b8356ba8 ]] {\r\n",
       "}\r\n",
       "\r\n",
       "rec usage \"S\" as E17  <<(T,blue)transition>> [[psysml:4c480f3e-de35-416e-b4f4-0f9aff9c2e68 ]] {\r\n",
       "rec usage \"A1\" as E18  <<(T,blue)action>> [[psysml:b6d0d4a5-7082-45af-9d99-5627255ed9ae ]] {\r\n",
       "}\r\n",
       "\r\n",
       "portout \"$result\" as E19  [[psysml:bae59e2e-3013-4238-add2-fcdff8ecd0eb ]] \r\n",
       "portin \"$x\" as E20  [[psysml:1602ff6f-7228-42cf-b9ac-ebc006cdcd92 ]] \r\n",
       "portin \"$y\" as E21  [[psysml:f75bdb3f-e701-450d-b4f7-b218e85bedc6 ]] \r\n",
       "portout \"$result\" as E22  [[psysml:671b30d7-f020-4858-831b-48c54d9c890b ]] \r\n",
       "}\r\n",
       "\r\n",
       "rec usage \"A3\" as E23  <<(T,blue)action>> [[psysml:072d93d2-c298-4f7b-8e67-b467b8356ba8 ]] {\r\n",
       "}\r\n",
       "\r\n",
       "{\r\n",
       "portout \"$result\" as E24  [[psysml:607bce31-a36d-4c4f-abb5-7d6a5b1eba4c ]] \r\n",
       "portin \"$x\" as E25  [[psysml:30d6127f-38d3-47e6-b88f-d8a7d1fd2593 ]] \r\n",
       "portin \"$y\" as E26  [[psysml:c49c5fa4-01bf-436f-878e-c0b2dd911bef ]] \r\n",
       "portout \"$result\" as E27  [[psysml:cfd24cc8-3d79-4a43-93a1-f42931f2c990 ]] \r\n",
       "}\r\n",
       "\r\n",
       "}\r\n",
       "\r\n",
       "@enduml\r\n",
       "\n",
       "PlantUML version 1.2020.13(Sat Jun 13 12:26:38 UTC 2020)\n",
       "(EPL source distribution)\n",
       "Java Runtime: OpenJDK Runtime Environment\n",
       "JVM: OpenJDK 64-Bit Server VM\n",
       "Default Encoding: UTF-8\n",
       "Language: en\n",
       "Country: null\n",
       "--></g></svg>"
      ]
     },
     "execution_count": 23,
     "metadata": {},
     "output_type": "execute_result"
    }
   ],
   "source": [
    "%viz --style=\"STDCOLOR\" --view=\"Default\" \"DecisionTest\""
   ]
  },
  {
   "cell_type": "code",
   "execution_count": 24,
   "id": "recognized-recruitment",
   "metadata": {
    "execution": {
     "iopub.execute_input": "2021-03-25T09:32:47.032008Z",
     "iopub.status.busy": "2021-03-25T09:32:47.031468Z",
     "iopub.status.idle": "2021-03-25T09:32:47.335046Z",
     "shell.execute_reply": "2021-03-25T09:32:47.335503Z"
    }
   },
   "outputs": [
    {
     "data": {
      "image/svg+xml": [
       "<?xml version=\"1.0\" encoding=\"UTF-8\" standalone=\"no\"?><svg xmlns=\"http://www.w3.org/2000/svg\" xmlns:xlink=\"http://www.w3.org/1999/xlink\" contentScriptType=\"application/ecmascript\" contentStyleType=\"text/css\" height=\"199px\" preserveAspectRatio=\"none\" style=\"width:117px;height:199px;\" version=\"1.1\" viewBox=\"0 0 117 199\" width=\"117px\" zoomAndPan=\"magnify\"><defs><filter height=\"300%\" id=\"f1t0b0os0wsznd\" width=\"300%\" x=\"-1\" y=\"-1\"><feGaussianBlur result=\"blurOut\" stdDeviation=\"2.0\"/><feColorMatrix in=\"blurOut\" result=\"blurOut2\" type=\"matrix\" values=\"0 0 0 0 0 0 0 0 0 0 0 0 0 0 0 0 0 0 .4 0\"/><feOffset dx=\"4.0\" dy=\"4.0\" in=\"blurOut2\" result=\"blurOut3\"/><feBlend in=\"SourceGraphic\" in2=\"blurOut3\" mode=\"normal\"/></filter></defs><g><!--MD5=[43c9051892ef23e1a46a86907403d788]\n",
       "class E1--><a href=\"psysml:04eadb4d-b968-4a2d-91e2-cdec302c279f\" target=\"_top\" title=\"psysml:04eadb4d-b968-4a2d-91e2-cdec302c279f\" xlink:actuate=\"onRequest\" xlink:href=\"psysml:04eadb4d-b968-4a2d-91e2-cdec302c279f\" xlink:show=\"new\" xlink:title=\"psysml:04eadb4d-b968-4a2d-91e2-cdec302c279f\" xlink:type=\"simple\"><rect fill=\"#FEFECE\" filter=\"url(#f1t0b0os0wsznd)\" height=\"173.1797\" id=\"E1\" style=\"stroke: #A80036; stroke-width: 1.5;\" width=\"91\" x=\"7\" y=\"7\"/><text fill=\"#000000\" font-family=\"sans-serif\" font-size=\"12\" font-style=\"italic\" lengthAdjust=\"spacingAndGlyphs\" textLength=\"77\" x=\"14\" y=\"23.1387\">«action def»</text><text fill=\"#000000\" font-family=\"sans-serif\" font-size=\"12\" lengthAdjust=\"spacingAndGlyphs\" textLength=\"80\" x=\"12.5\" y=\"37.1074\">DecisionTest</text><line style=\"stroke: #A80036; stroke-width: 1.5;\" x1=\"8\" x2=\"97\" y1=\"44.9375\" y2=\"44.9375\"/><text fill=\"#000000\" font-family=\"sans-serif\" font-size=\"11\" lengthAdjust=\"spacingAndGlyphs\" textLength=\"6\" x=\"13\" y=\"59.1479\">x</text><text fill=\"#000000\" font-family=\"sans-serif\" font-size=\"11\" lengthAdjust=\"spacingAndGlyphs\" textLength=\"14\" x=\"13\" y=\"88.7573\">A1</text><text fill=\"#000000\" font-family=\"sans-serif\" font-size=\"11\" lengthAdjust=\"spacingAndGlyphs\" textLength=\"14\" x=\"13\" y=\"101.562\">A2</text><text fill=\"#000000\" font-family=\"sans-serif\" font-size=\"11\" lengthAdjust=\"spacingAndGlyphs\" textLength=\"14\" x=\"13\" y=\"114.3667\">A3</text><line style=\"stroke: #A80036; stroke-width: 1.0;\" x1=\"8\" x2=\"32\" y1=\"72.1445\" y2=\"72.1445\"/><text fill=\"#000000\" font-family=\"sans-serif\" font-size=\"11\" lengthAdjust=\"spacingAndGlyphs\" textLength=\"41\" x=\"32\" y=\"75.4526\">actions</text><line style=\"stroke: #A80036; stroke-width: 1.0;\" x1=\"73\" x2=\"97\" y1=\"72.1445\" y2=\"72.1445\"/><text fill=\"#000000\" font-family=\"sans-serif\" font-size=\"11\" lengthAdjust=\"spacingAndGlyphs\" textLength=\"32\" x=\"13\" y=\"143.9761\">test x</text><line style=\"stroke: #A80036; stroke-width: 1.0;\" x1=\"8\" x2=\"11\" y1=\"127.3633\" y2=\"127.3633\"/><text fill=\"#000000\" font-family=\"sans-serif\" font-size=\"11\" lengthAdjust=\"spacingAndGlyphs\" textLength=\"83\" x=\"11\" y=\"130.6714\">decisionNodes</text><line style=\"stroke: #A80036; stroke-width: 1.0;\" x1=\"94\" x2=\"97\" y1=\"127.3633\" y2=\"127.3633\"/><text fill=\"#000000\" font-family=\"sans-serif\" font-size=\"11\" lengthAdjust=\"spacingAndGlyphs\" textLength=\"8\" x=\"13\" y=\"173.5854\">S</text><line style=\"stroke: #A80036; stroke-width: 1.0;\" x1=\"8\" x2=\"22\" y1=\"156.9727\" y2=\"156.9727\"/><text fill=\"#000000\" font-family=\"sans-serif\" font-size=\"11\" lengthAdjust=\"spacingAndGlyphs\" textLength=\"61\" x=\"22\" y=\"160.2808\">transitions</text><line style=\"stroke: #A80036; stroke-width: 1.0;\" x1=\"83\" x2=\"97\" y1=\"156.9727\" y2=\"156.9727\"/></a><!--MD5=[1140c82729de3e33e69af1887c754be1]\n",
       "@startuml\r\n",
       "skinparam wrapWidth 300\r\n",
       "hide circle\r\n",
       "\r\n",
       "comp def \"DecisionTest\" as E1  <<(T,blue)action def>> [[psysml:04eadb4d-b968-4a2d-91e2-cdec302c279f ]] {\r\n",
       "x\r\n",
       "- - actions - -\r\n",
       "A1\r\n",
       "A2\r\n",
       "A3\r\n",
       "- - decisionNodes - -\r\n",
       "test x\r\n",
       "- - transitions - -\r\n",
       "S\r\n",
       "}\r\n",
       "@enduml\r\n",
       "\n",
       "PlantUML version 1.2020.13(Sat Jun 13 12:26:38 UTC 2020)\n",
       "(EPL source distribution)\n",
       "Java Runtime: OpenJDK Runtime Environment\n",
       "JVM: OpenJDK 64-Bit Server VM\n",
       "Default Encoding: UTF-8\n",
       "Language: en\n",
       "Country: null\n",
       "--></g></svg>"
      ]
     },
     "execution_count": 24,
     "metadata": {},
     "output_type": "execute_result"
    }
   ],
   "source": [
    "%viz --style=\"STDCOLOR\" --view=\"Tree\" \"DecisionTest\""
   ]
  },
  {
   "cell_type": "code",
   "execution_count": 25,
   "id": "liquid-snowboard",
   "metadata": {
    "execution": {
     "iopub.execute_input": "2021-03-25T09:32:47.386544Z",
     "iopub.status.busy": "2021-03-25T09:32:47.385763Z",
     "iopub.status.idle": "2021-03-25T09:32:47.392434Z",
     "shell.execute_reply": "2021-03-25T09:32:47.392832Z"
    }
   },
   "outputs": [
    {
     "data": {
      "image/svg+xml": [
       "<?xml version=\"1.0\" encoding=\"UTF-8\" standalone=\"no\"?><svg xmlns=\"http://www.w3.org/2000/svg\" xmlns:xlink=\"http://www.w3.org/1999/xlink\" contentScriptType=\"application/ecmascript\" contentStyleType=\"text/css\" height=\"12px\" preserveAspectRatio=\"none\" style=\"width:12px;height:12px;\" version=\"1.1\" viewBox=\"0 0 12 12\" width=\"12px\" zoomAndPan=\"magnify\"><defs/><g><!--MD5=[aeeef50f102b80d730deb6443d14f702]\n",
       "@startuml\r\n",
       "skinparam wrapWidth 300\r\n",
       "hide circle\r\n",
       "\r\n",
       "@enduml\r\n",
       "\n",
       "PlantUML version 1.2020.13(Sat Jun 13 12:26:38 UTC 2020)\n",
       "(EPL source distribution)\n",
       "Java Runtime: OpenJDK Runtime Environment\n",
       "JVM: OpenJDK 64-Bit Server VM\n",
       "Default Encoding: UTF-8\n",
       "Language: en\n",
       "Country: null\n",
       "--></g></svg>"
      ]
     },
     "execution_count": 25,
     "metadata": {},
     "output_type": "execute_result"
    }
   ],
   "source": [
    "%viz --style=\"STDCOLOR\" --view=\"State\" \"DecisionTest\""
   ]
  },
  {
   "cell_type": "code",
   "execution_count": 26,
   "id": "helpful-observer",
   "metadata": {
    "execution": {
     "iopub.execute_input": "2021-03-25T09:32:47.446129Z",
     "iopub.status.busy": "2021-03-25T09:32:47.445467Z",
     "iopub.status.idle": "2021-03-25T09:32:47.473248Z",
     "shell.execute_reply": "2021-03-25T09:32:47.472813Z"
    }
   },
   "outputs": [
    {
     "data": {
      "image/svg+xml": [
       "<?xml version=\"1.0\" encoding=\"UTF-8\" standalone=\"no\"?><svg xmlns=\"http://www.w3.org/2000/svg\" xmlns:xlink=\"http://www.w3.org/1999/xlink\" contentScriptType=\"application/ecmascript\" contentStyleType=\"text/css\" height=\"68px\" preserveAspectRatio=\"none\" style=\"width:117px;height:68px;\" version=\"1.1\" viewBox=\"0 0 117 68\" width=\"117px\" zoomAndPan=\"magnify\"><defs><filter height=\"300%\" id=\"f1dm2wz3qo77ri\" width=\"300%\" x=\"-1\" y=\"-1\"><feGaussianBlur result=\"blurOut\" stdDeviation=\"2.0\"/><feColorMatrix in=\"blurOut\" result=\"blurOut2\" type=\"matrix\" values=\"0 0 0 0 0 0 0 0 0 0 0 0 0 0 0 0 0 0 .4 0\"/><feOffset dx=\"4.0\" dy=\"4.0\" in=\"blurOut2\" result=\"blurOut3\"/><feBlend in=\"SourceGraphic\" in2=\"blurOut3\" mode=\"normal\"/></filter></defs><g><g id=\"E1\"><a href=\"psysml:04eadb4d-b968-4a2d-91e2-cdec302c279f\" target=\"_top\" title=\"psysml:04eadb4d-b968-4a2d-91e2-cdec302c279f\" xlink:actuate=\"onRequest\" xlink:href=\"psysml:04eadb4d-b968-4a2d-91e2-cdec302c279f\" xlink:show=\"new\" xlink:title=\"psysml:04eadb4d-b968-4a2d-91e2-cdec302c279f\" xlink:type=\"simple\"><rect fill=\"#FEFECE\" filter=\"url(#f1dm2wz3qo77ri)\" height=\"42.9375\" id=\"E1\" style=\"stroke: #A80036; stroke-width: 1.5;\" width=\"91\" x=\"7\" y=\"7\"/><text fill=\"#000000\" font-family=\"sans-serif\" font-size=\"12\" font-style=\"italic\" lengthAdjust=\"spacingAndGlyphs\" textLength=\"77\" x=\"14\" y=\"23.1387\">«action def»</text><text fill=\"#000000\" font-family=\"sans-serif\" font-size=\"12\" lengthAdjust=\"spacingAndGlyphs\" textLength=\"80\" x=\"12.5\" y=\"37.1074\">DecisionTest</text></a></g><!--MD5=[9245488b831a0878135e8491d6989438]\n",
       "@startuml\r\n",
       "skinparam ranksep 8\r\n",
       "skinparam rectangle {\r\n",
       " backgroundColor<<block>> LightGreen\r\n",
       "}\r\n",
       "skinparam wrapWidth 300\r\n",
       "hide circle\r\n",
       "\r\n",
       "def \"DecisionTest\" as E1  <<(T,blue)action def>> [[psysml:04eadb4d-b968-4a2d-91e2-cdec302c279f ]] \r\n",
       "@enduml\r\n",
       "\n",
       "PlantUML version 1.2020.13(Sat Jun 13 12:26:38 UTC 2020)\n",
       "(EPL source distribution)\n",
       "Java Runtime: OpenJDK Runtime Environment\n",
       "JVM: OpenJDK 64-Bit Server VM\n",
       "Default Encoding: UTF-8\n",
       "Language: en\n",
       "Country: null\n",
       "--></g></svg>"
      ]
     },
     "execution_count": 26,
     "metadata": {},
     "output_type": "execute_result"
    }
   ],
   "source": [
    "%viz --style=\"STDCOLOR\" --view=\"Interconnection\" \"DecisionTest\""
   ]
  },
  {
   "cell_type": "code",
   "execution_count": 27,
   "id": "burning-transportation",
   "metadata": {
    "execution": {
     "iopub.execute_input": "2021-03-25T09:32:47.525029Z",
     "iopub.status.busy": "2021-03-25T09:32:47.524046Z",
     "iopub.status.idle": "2021-03-25T09:32:47.550058Z",
     "shell.execute_reply": "2021-03-25T09:32:47.550491Z"
    }
   },
   "outputs": [
    {
     "data": {
      "image/svg+xml": [
       "<?xml version=\"1.0\" encoding=\"UTF-8\" standalone=\"no\"?><svg xmlns=\"http://www.w3.org/2000/svg\" xmlns:xlink=\"http://www.w3.org/1999/xlink\" contentScriptType=\"application/ecmascript\" contentStyleType=\"text/css\" height=\"239px\" preserveAspectRatio=\"none\" style=\"width:875px;height:239px;background:#000000;\" version=\"1.1\" viewBox=\"0 0 875 239\" width=\"875px\" zoomAndPan=\"magnify\"><defs/><g><rect fill=\"#272013\" height=\"1\" style=\"stroke: #272013; stroke-width: 1.0;\" width=\"1\" x=\"0\" y=\"0\"/><rect fill=\"#33FF02\" height=\"21.2969\" style=\"stroke: #33FF02; stroke-width: 1.0;\" width=\"868\" x=\"5\" y=\"5\"/><text fill=\"#000000\" font-family=\"sans-serif\" font-size=\"14\" font-weight=\"bold\" lengthAdjust=\"spacingAndGlyphs\" textLength=\"178\" x=\"6\" y=\"20\">[From string (line 11) ]</text><text fill=\"#33FF02\" font-family=\"sans-serif\" font-size=\"14\" font-weight=\"bold\" lengthAdjust=\"spacingAndGlyphs\" textLength=\"0\" x=\"10\" y=\"40.2969\"/><text fill=\"#33FF02\" font-family=\"sans-serif\" font-size=\"14\" font-weight=\"bold\" lengthAdjust=\"spacingAndGlyphs\" textLength=\"79\" x=\"5\" y=\"56.5938\">@startuml</text><text fill=\"#33FF02\" font-family=\"sans-serif\" font-size=\"14\" font-weight=\"bold\" lengthAdjust=\"spacingAndGlyphs\" textLength=\"165\" x=\"5\" y=\"72.8906\">skinparam ranksep 8</text><text fill=\"#33FF02\" font-family=\"sans-serif\" font-size=\"14\" font-weight=\"bold\" lengthAdjust=\"spacingAndGlyphs\" textLength=\"206\" x=\"5\" y=\"89.1875\">skinparam wrapWidth 300</text><text fill=\"#33FF02\" font-family=\"sans-serif\" font-size=\"14\" font-weight=\"bold\" lengthAdjust=\"spacingAndGlyphs\" textLength=\"82\" x=\"5\" y=\"105.4844\">hide circle</text><text fill=\"#33FF02\" font-family=\"sans-serif\" font-size=\"14\" font-weight=\"bold\" lengthAdjust=\"spacingAndGlyphs\" textLength=\"0\" x=\"10\" y=\"121.7813\"/><text fill=\"#33FF02\" font-family=\"sans-serif\" font-size=\"14\" font-weight=\"bold\" lengthAdjust=\"spacingAndGlyphs\" textLength=\"868\" x=\"5\" y=\"138.0781\">rec def \"DecisionTest\" as E1  &lt;&lt;(T,blue)action def&gt;&gt; [[psysml:04eadb4d-b968-4a2d-91e2-cdec302c279f ]] {</text><text fill=\"#33FF02\" font-family=\"sans-serif\" font-size=\"14\" font-weight=\"bold\" lengthAdjust=\"spacingAndGlyphs\" textLength=\"614\" x=\"5\" y=\"154.375\">portout \"$result\" as E2  [[psysml:f2b0b0cc-45ae-4166-8d5e-a5963ecab31c ]]</text><text fill=\"#33FF02\" font-family=\"sans-serif\" font-size=\"14\" font-weight=\"bold\" lengthAdjust=\"spacingAndGlyphs\" textLength=\"865\" x=\"5\" y=\"170.6719\">rec usage \"test x\" as E3  &lt;&lt;(T,blue)decisionNode&gt;&gt; [[psysml:12adcb2e-22ad-4270-ad09-4bee8bb9d85c ]] {</text><text fill=\"#33FF02\" font-family=\"sans-serif\" font-size=\"14\" font-weight=\"bold\" lengthAdjust=\"spacingAndGlyphs\" textLength=\"10\" x=\"5\" y=\"186.9688\">}</text><text fill=\"#33FF02\" font-family=\"sans-serif\" font-size=\"14\" font-weight=\"bold\" lengthAdjust=\"spacingAndGlyphs\" textLength=\"0\" x=\"10\" y=\"203.2656\"/><text fill=\"#33FF02\" font-family=\"sans-serif\" font-size=\"14\" font-weight=\"bold\" lengthAdjust=\"spacingAndGlyphs\" textLength=\"10\" x=\"5\" y=\"219.5625\">{</text><text fill=\"#FF0000\" font-family=\"sans-serif\" font-size=\"14\" font-weight=\"bold\" lengthAdjust=\"spacingAndGlyphs\" textLength=\"106\" x=\"10\" y=\"235.8594\">Syntax Error?</text><!--MD5=[20a5dc19abe6f611821b428845aa7f77]\n",
       "@startuml\r\n",
       "skinparam ranksep 8\r\n",
       "skinparam wrapWidth 300\r\n",
       "hide circle\r\n",
       "\r\n",
       "rec def \"DecisionTest\" as E1  <<(T,blue)action def>> [[psysml:04eadb4d-b968-4a2d-91e2-cdec302c279f ]] {\r\n",
       "portout \"$result\" as E2  [[psysml:f2b0b0cc-45ae-4166-8d5e-a5963ecab31c ]] \r\n",
       "rec usage \"test x\" as E3  <<(T,blue)decisionNode>> [[psysml:12adcb2e-22ad-4270-ad09-4bee8bb9d85c ]] {\r\n",
       "}\r\n",
       "\r\n",
       "{\r\n",
       "portout \"$result\" as E4  [[psysml:da91a906-8207-462d-99e2-a18dec940aa7 ]] \r\n",
       "portin \"$x\" as E5  [[psysml:48c17a69-1eb9-4ad6-876e-38a96ca6e086 ]] \r\n",
       "portin \"$y\" as E6  [[psysml:603631ec-51c5-4249-8487-a79a64da6afc ]] \r\n",
       "portout \"$result\" as E7  [[psysml:26e7255e-bbd8-4ac7-a816-6f3abc826445 ]] \r\n",
       "}\r\n",
       "\r\n",
       "{\r\n",
       "portout \"$result\" as E8  [[psysml:34caa6ec-959e-4145-98ad-4a477d59f379 ]] \r\n",
       "portin \"$x\" as E9  [[psysml:a97d47b4-a3dd-4bbd-be98-fc91aed6e874 ]] \r\n",
       "portin \"$y\" as E10  [[psysml:4dcabb7c-801c-43eb-b65b-ea55ba06df11 ]] \r\n",
       "portout \"$result\" as E11  [[psysml:cd7ecfb5-304f-4537-af93-5efd7128d3b2 ]] \r\n",
       "}\r\n",
       "\r\n",
       "{\r\n",
       "}\r\n",
       "\r\n",
       "{\r\n",
       "}\r\n",
       "\r\n",
       "{\r\n",
       "portout \"$result\" as E12  [[psysml:f92bbb85-cf19-4dd5-984f-8fe428e355f9 ]] \r\n",
       "}\r\n",
       "\r\n",
       "{\r\n",
       "portout \"$result\" as E13  [[psysml:b44daa1d-0d17-440b-affc-4aae51a046a3 ]] \r\n",
       "}\r\n",
       "\r\n",
       "rec usage \"A1\" as E14  <<(T,blue)action>> [[psysml:b6d0d4a5-7082-45af-9d99-5627255ed9ae ]] {\r\n",
       "}\r\n",
       "\r\n",
       "rec usage \"A2\" as E15  <<(T,blue)action>> [[psysml:60e701bb-1db7-4263-ad0a-ece44064a54f ]] {\r\n",
       "}\r\n",
       "\r\n",
       "rec usage \"A3\" as E16  <<(T,blue)action>> [[psysml:072d93d2-c298-4f7b-8e67-b467b8356ba8 ]] {\r\n",
       "}\r\n",
       "\r\n",
       "rec usage \"S\" as E17  <<(T,blue)transition>> [[psysml:4c480f3e-de35-416e-b4f4-0f9aff9c2e68 ]] {\r\n",
       "rec usage \"A1\" as E18  <<(T,blue)action>> [[psysml:b6d0d4a5-7082-45af-9d99-5627255ed9ae ]] {\r\n",
       "}\r\n",
       "\r\n",
       "portout \"$result\" as E19  [[psysml:bae59e2e-3013-4238-add2-fcdff8ecd0eb ]] \r\n",
       "portin \"$x\" as E20  [[psysml:1602ff6f-7228-42cf-b9ac-ebc006cdcd92 ]] \r\n",
       "portin \"$y\" as E21  [[psysml:f75bdb3f-e701-450d-b4f7-b218e85bedc6 ]] \r\n",
       "portout \"$result\" as E22  [[psysml:671b30d7-f020-4858-831b-48c54d9c890b ]] \r\n",
       "}\r\n",
       "\r\n",
       "rec usage \"A3\" as E23  <<(T,blue)action>> [[psysml:072d93d2-c298-4f7b-8e67-b467b8356ba8 ]] {\r\n",
       "}\r\n",
       "\r\n",
       "{\r\n",
       "portout \"$result\" as E24  [[psysml:607bce31-a36d-4c4f-abb5-7d6a5b1eba4c ]] \r\n",
       "portin \"$x\" as E25  [[psysml:30d6127f-38d3-47e6-b88f-d8a7d1fd2593 ]] \r\n",
       "portin \"$y\" as E26  [[psysml:c49c5fa4-01bf-436f-878e-c0b2dd911bef ]] \r\n",
       "portout \"$result\" as E27  [[psysml:cfd24cc8-3d79-4a43-93a1-f42931f2c990 ]] \r\n",
       "}\r\n",
       "\r\n",
       "}\r\n",
       "\r\n",
       "@enduml\r\n",
       "\n",
       "PlantUML version 1.2020.13(Sat Jun 13 12:26:38 UTC 2020)\n",
       "(EPL source distribution)\n",
       "Java Runtime: OpenJDK Runtime Environment\n",
       "JVM: OpenJDK 64-Bit Server VM\n",
       "Default Encoding: UTF-8\n",
       "Language: en\n",
       "Country: null\n",
       "--></g></svg>"
      ]
     },
     "execution_count": 27,
     "metadata": {},
     "output_type": "execute_result"
    }
   ],
   "source": [
    "%viz --style=\"STDCOLOR\" --view=\"Action\" \"DecisionTest\""
   ]
  },
  {
   "cell_type": "code",
   "execution_count": 28,
   "id": "painful-watts",
   "metadata": {
    "execution": {
     "iopub.execute_input": "2021-03-25T09:32:47.601221Z",
     "iopub.status.busy": "2021-03-25T09:32:47.600699Z",
     "iopub.status.idle": "2021-03-25T09:32:47.914245Z",
     "shell.execute_reply": "2021-03-25T09:32:47.913930Z"
    }
   },
   "outputs": [
    {
     "data": {
      "image/svg+xml": [
       "<?xml version=\"1.0\" encoding=\"UTF-8\" standalone=\"no\"?><svg xmlns=\"http://www.w3.org/2000/svg\" xmlns:xlink=\"http://www.w3.org/1999/xlink\" contentScriptType=\"application/ecmascript\" contentStyleType=\"text/css\" height=\"199px\" preserveAspectRatio=\"none\" style=\"width:117px;height:199px;\" version=\"1.1\" viewBox=\"0 0 117 199\" width=\"117px\" zoomAndPan=\"magnify\"><defs><filter height=\"300%\" id=\"f1t0b0os0wsznd\" width=\"300%\" x=\"-1\" y=\"-1\"><feGaussianBlur result=\"blurOut\" stdDeviation=\"2.0\"/><feColorMatrix in=\"blurOut\" result=\"blurOut2\" type=\"matrix\" values=\"0 0 0 0 0 0 0 0 0 0 0 0 0 0 0 0 0 0 .4 0\"/><feOffset dx=\"4.0\" dy=\"4.0\" in=\"blurOut2\" result=\"blurOut3\"/><feBlend in=\"SourceGraphic\" in2=\"blurOut3\" mode=\"normal\"/></filter></defs><g><!--MD5=[43c9051892ef23e1a46a86907403d788]\n",
       "class E1--><a href=\"psysml:04eadb4d-b968-4a2d-91e2-cdec302c279f\" target=\"_top\" title=\"psysml:04eadb4d-b968-4a2d-91e2-cdec302c279f\" xlink:actuate=\"onRequest\" xlink:href=\"psysml:04eadb4d-b968-4a2d-91e2-cdec302c279f\" xlink:show=\"new\" xlink:title=\"psysml:04eadb4d-b968-4a2d-91e2-cdec302c279f\" xlink:type=\"simple\"><rect fill=\"#FEFECE\" filter=\"url(#f1t0b0os0wsznd)\" height=\"173.1797\" id=\"E1\" style=\"stroke: #A80036; stroke-width: 1.5;\" width=\"91\" x=\"7\" y=\"7\"/><text fill=\"#000000\" font-family=\"sans-serif\" font-size=\"12\" font-style=\"italic\" lengthAdjust=\"spacingAndGlyphs\" textLength=\"77\" x=\"14\" y=\"23.1387\">«action def»</text><text fill=\"#000000\" font-family=\"sans-serif\" font-size=\"12\" lengthAdjust=\"spacingAndGlyphs\" textLength=\"80\" x=\"12.5\" y=\"37.1074\">DecisionTest</text><line style=\"stroke: #A80036; stroke-width: 1.5;\" x1=\"8\" x2=\"97\" y1=\"44.9375\" y2=\"44.9375\"/><text fill=\"#000000\" font-family=\"sans-serif\" font-size=\"11\" lengthAdjust=\"spacingAndGlyphs\" textLength=\"6\" x=\"13\" y=\"59.1479\">x</text><text fill=\"#000000\" font-family=\"sans-serif\" font-size=\"11\" lengthAdjust=\"spacingAndGlyphs\" textLength=\"14\" x=\"13\" y=\"88.7573\">A1</text><text fill=\"#000000\" font-family=\"sans-serif\" font-size=\"11\" lengthAdjust=\"spacingAndGlyphs\" textLength=\"14\" x=\"13\" y=\"101.562\">A2</text><text fill=\"#000000\" font-family=\"sans-serif\" font-size=\"11\" lengthAdjust=\"spacingAndGlyphs\" textLength=\"14\" x=\"13\" y=\"114.3667\">A3</text><line style=\"stroke: #A80036; stroke-width: 1.0;\" x1=\"8\" x2=\"32\" y1=\"72.1445\" y2=\"72.1445\"/><text fill=\"#000000\" font-family=\"sans-serif\" font-size=\"11\" lengthAdjust=\"spacingAndGlyphs\" textLength=\"41\" x=\"32\" y=\"75.4526\">actions</text><line style=\"stroke: #A80036; stroke-width: 1.0;\" x1=\"73\" x2=\"97\" y1=\"72.1445\" y2=\"72.1445\"/><text fill=\"#000000\" font-family=\"sans-serif\" font-size=\"11\" lengthAdjust=\"spacingAndGlyphs\" textLength=\"32\" x=\"13\" y=\"143.9761\">test x</text><line style=\"stroke: #A80036; stroke-width: 1.0;\" x1=\"8\" x2=\"11\" y1=\"127.3633\" y2=\"127.3633\"/><text fill=\"#000000\" font-family=\"sans-serif\" font-size=\"11\" lengthAdjust=\"spacingAndGlyphs\" textLength=\"83\" x=\"11\" y=\"130.6714\">decisionNodes</text><line style=\"stroke: #A80036; stroke-width: 1.0;\" x1=\"94\" x2=\"97\" y1=\"127.3633\" y2=\"127.3633\"/><text fill=\"#000000\" font-family=\"sans-serif\" font-size=\"11\" lengthAdjust=\"spacingAndGlyphs\" textLength=\"8\" x=\"13\" y=\"173.5854\">S</text><line style=\"stroke: #A80036; stroke-width: 1.0;\" x1=\"8\" x2=\"22\" y1=\"156.9727\" y2=\"156.9727\"/><text fill=\"#000000\" font-family=\"sans-serif\" font-size=\"11\" lengthAdjust=\"spacingAndGlyphs\" textLength=\"61\" x=\"22\" y=\"160.2808\">transitions</text><line style=\"stroke: #A80036; stroke-width: 1.0;\" x1=\"83\" x2=\"97\" y1=\"156.9727\" y2=\"156.9727\"/></a><!--MD5=[1140c82729de3e33e69af1887c754be1]\n",
       "@startuml\r\n",
       "skinparam wrapWidth 300\r\n",
       "hide circle\r\n",
       "\r\n",
       "comp def \"DecisionTest\" as E1  <<(T,blue)action def>> [[psysml:04eadb4d-b968-4a2d-91e2-cdec302c279f ]] {\r\n",
       "x\r\n",
       "- - actions - -\r\n",
       "A1\r\n",
       "A2\r\n",
       "A3\r\n",
       "- - decisionNodes - -\r\n",
       "test x\r\n",
       "- - transitions - -\r\n",
       "S\r\n",
       "}\r\n",
       "@enduml\r\n",
       "\n",
       "PlantUML version 1.2020.13(Sat Jun 13 12:26:38 UTC 2020)\n",
       "(EPL source distribution)\n",
       "Java Runtime: OpenJDK Runtime Environment\n",
       "JVM: OpenJDK 64-Bit Server VM\n",
       "Default Encoding: UTF-8\n",
       "Language: en\n",
       "Country: null\n",
       "--></g></svg>"
      ]
     },
     "execution_count": 28,
     "metadata": {},
     "output_type": "execute_result"
    }
   ],
   "source": [
    "%viz --style=\"STDCOLOR\" --view=\"Sequence\" \"DecisionTest\""
   ]
  },
  {
   "cell_type": "code",
   "execution_count": 29,
   "id": "infrared-hours",
   "metadata": {
    "execution": {
     "iopub.execute_input": "2021-03-25T09:32:47.964785Z",
     "iopub.status.busy": "2021-03-25T09:32:47.964283Z",
     "iopub.status.idle": "2021-03-25T09:32:47.993750Z",
     "shell.execute_reply": "2021-03-25T09:32:47.994180Z"
    }
   },
   "outputs": [
    {
     "data": {
      "image/svg+xml": [
       "<?xml version=\"1.0\" encoding=\"UTF-8\" standalone=\"no\"?><svg xmlns=\"http://www.w3.org/2000/svg\" xmlns:xlink=\"http://www.w3.org/1999/xlink\" contentScriptType=\"application/ecmascript\" contentStyleType=\"text/css\" height=\"223px\" preserveAspectRatio=\"none\" style=\"width:875px;height:223px;background:#000000;\" version=\"1.1\" viewBox=\"0 0 875 223\" width=\"875px\" zoomAndPan=\"magnify\"><defs/><g><rect fill=\"#011319\" height=\"1\" style=\"stroke: #011319; stroke-width: 1.0;\" width=\"1\" x=\"0\" y=\"0\"/><rect fill=\"#33FF02\" height=\"21.2969\" style=\"stroke: #33FF02; stroke-width: 1.0;\" width=\"868\" x=\"5\" y=\"5\"/><text fill=\"#000000\" font-family=\"sans-serif\" font-size=\"14\" font-weight=\"bold\" lengthAdjust=\"spacingAndGlyphs\" textLength=\"178\" x=\"6\" y=\"20\">[From string (line 10) ]</text><text fill=\"#33FF02\" font-family=\"sans-serif\" font-size=\"14\" font-weight=\"bold\" lengthAdjust=\"spacingAndGlyphs\" textLength=\"0\" x=\"10\" y=\"40.2969\"/><text fill=\"#33FF02\" font-family=\"sans-serif\" font-size=\"14\" font-weight=\"bold\" lengthAdjust=\"spacingAndGlyphs\" textLength=\"79\" x=\"5\" y=\"56.5938\">@startuml</text><text fill=\"#33FF02\" font-family=\"sans-serif\" font-size=\"14\" font-weight=\"bold\" lengthAdjust=\"spacingAndGlyphs\" textLength=\"206\" x=\"5\" y=\"72.8906\">skinparam wrapWidth 300</text><text fill=\"#33FF02\" font-family=\"sans-serif\" font-size=\"14\" font-weight=\"bold\" lengthAdjust=\"spacingAndGlyphs\" textLength=\"82\" x=\"5\" y=\"89.1875\">hide circle</text><text fill=\"#33FF02\" font-family=\"sans-serif\" font-size=\"14\" font-weight=\"bold\" lengthAdjust=\"spacingAndGlyphs\" textLength=\"0\" x=\"10\" y=\"105.4844\"/><text fill=\"#33FF02\" font-family=\"sans-serif\" font-size=\"14\" font-weight=\"bold\" lengthAdjust=\"spacingAndGlyphs\" textLength=\"868\" x=\"5\" y=\"121.7813\">rec def \"DecisionTest\" as E1  &lt;&lt;(T,blue)action def&gt;&gt; [[psysml:04eadb4d-b968-4a2d-91e2-cdec302c279f ]] {</text><text fill=\"#33FF02\" font-family=\"sans-serif\" font-size=\"14\" font-weight=\"bold\" lengthAdjust=\"spacingAndGlyphs\" textLength=\"614\" x=\"5\" y=\"138.0781\">portout \"$result\" as E2  [[psysml:f2b0b0cc-45ae-4166-8d5e-a5963ecab31c ]]</text><text fill=\"#33FF02\" font-family=\"sans-serif\" font-size=\"14\" font-weight=\"bold\" lengthAdjust=\"spacingAndGlyphs\" textLength=\"865\" x=\"5\" y=\"154.375\">rec usage \"test x\" as E3  &lt;&lt;(T,blue)decisionNode&gt;&gt; [[psysml:12adcb2e-22ad-4270-ad09-4bee8bb9d85c ]] {</text><text fill=\"#33FF02\" font-family=\"sans-serif\" font-size=\"14\" font-weight=\"bold\" lengthAdjust=\"spacingAndGlyphs\" textLength=\"10\" x=\"5\" y=\"170.6719\">}</text><text fill=\"#33FF02\" font-family=\"sans-serif\" font-size=\"14\" font-weight=\"bold\" lengthAdjust=\"spacingAndGlyphs\" textLength=\"0\" x=\"10\" y=\"186.9688\"/><text fill=\"#33FF02\" font-family=\"sans-serif\" font-size=\"14\" font-weight=\"bold\" lengthAdjust=\"spacingAndGlyphs\" textLength=\"10\" x=\"5\" y=\"203.2656\">{</text><text fill=\"#FF0000\" font-family=\"sans-serif\" font-size=\"14\" font-weight=\"bold\" lengthAdjust=\"spacingAndGlyphs\" textLength=\"106\" x=\"10\" y=\"219.5625\">Syntax Error?</text><!--MD5=[ad3d84cd2833acbab624bf3589304d85]\n",
       "@startuml\r\n",
       "skinparam wrapWidth 300\r\n",
       "hide circle\r\n",
       "\r\n",
       "rec def \"DecisionTest\" as E1  <<(T,blue)action def>> [[psysml:04eadb4d-b968-4a2d-91e2-cdec302c279f ]] {\r\n",
       "portout \"$result\" as E2  [[psysml:f2b0b0cc-45ae-4166-8d5e-a5963ecab31c ]] \r\n",
       "rec usage \"test x\" as E3  <<(T,blue)decisionNode>> [[psysml:12adcb2e-22ad-4270-ad09-4bee8bb9d85c ]] {\r\n",
       "}\r\n",
       "\r\n",
       "{\r\n",
       "portout \"$result\" as E4  [[psysml:da91a906-8207-462d-99e2-a18dec940aa7 ]] \r\n",
       "portin \"$x\" as E5  [[psysml:48c17a69-1eb9-4ad6-876e-38a96ca6e086 ]] \r\n",
       "portin \"$y\" as E6  [[psysml:603631ec-51c5-4249-8487-a79a64da6afc ]] \r\n",
       "portout \"$result\" as E7  [[psysml:26e7255e-bbd8-4ac7-a816-6f3abc826445 ]] \r\n",
       "}\r\n",
       "\r\n",
       "{\r\n",
       "portout \"$result\" as E8  [[psysml:34caa6ec-959e-4145-98ad-4a477d59f379 ]] \r\n",
       "portin \"$x\" as E9  [[psysml:a97d47b4-a3dd-4bbd-be98-fc91aed6e874 ]] \r\n",
       "portin \"$y\" as E10  [[psysml:4dcabb7c-801c-43eb-b65b-ea55ba06df11 ]] \r\n",
       "portout \"$result\" as E11  [[psysml:cd7ecfb5-304f-4537-af93-5efd7128d3b2 ]] \r\n",
       "}\r\n",
       "\r\n",
       "{\r\n",
       "}\r\n",
       "\r\n",
       "{\r\n",
       "}\r\n",
       "\r\n",
       "{\r\n",
       "portout \"$result\" as E12  [[psysml:f92bbb85-cf19-4dd5-984f-8fe428e355f9 ]] \r\n",
       "}\r\n",
       "\r\n",
       "{\r\n",
       "portout \"$result\" as E13  [[psysml:b44daa1d-0d17-440b-affc-4aae51a046a3 ]] \r\n",
       "}\r\n",
       "\r\n",
       "rec usage \"A1\" as E14  <<(T,blue)action>> [[psysml:b6d0d4a5-7082-45af-9d99-5627255ed9ae ]] {\r\n",
       "}\r\n",
       "\r\n",
       "rec usage \"A2\" as E15  <<(T,blue)action>> [[psysml:60e701bb-1db7-4263-ad0a-ece44064a54f ]] {\r\n",
       "}\r\n",
       "\r\n",
       "rec usage \"A3\" as E16  <<(T,blue)action>> [[psysml:072d93d2-c298-4f7b-8e67-b467b8356ba8 ]] {\r\n",
       "}\r\n",
       "\r\n",
       "rec usage \"S\" as E17  <<(T,blue)transition>> [[psysml:4c480f3e-de35-416e-b4f4-0f9aff9c2e68 ]] {\r\n",
       "rec usage \"A1\" as E18  <<(T,blue)action>> [[psysml:b6d0d4a5-7082-45af-9d99-5627255ed9ae ]] {\r\n",
       "}\r\n",
       "\r\n",
       "portout \"$result\" as E19  [[psysml:bae59e2e-3013-4238-add2-fcdff8ecd0eb ]] \r\n",
       "portin \"$x\" as E20  [[psysml:1602ff6f-7228-42cf-b9ac-ebc006cdcd92 ]] \r\n",
       "portin \"$y\" as E21  [[psysml:f75bdb3f-e701-450d-b4f7-b218e85bedc6 ]] \r\n",
       "portout \"$result\" as E22  [[psysml:671b30d7-f020-4858-831b-48c54d9c890b ]] \r\n",
       "}\r\n",
       "\r\n",
       "rec usage \"A3\" as E23  <<(T,blue)action>> [[psysml:072d93d2-c298-4f7b-8e67-b467b8356ba8 ]] {\r\n",
       "}\r\n",
       "\r\n",
       "{\r\n",
       "portout \"$result\" as E24  [[psysml:607bce31-a36d-4c4f-abb5-7d6a5b1eba4c ]] \r\n",
       "portin \"$x\" as E25  [[psysml:30d6127f-38d3-47e6-b88f-d8a7d1fd2593 ]] \r\n",
       "portin \"$y\" as E26  [[psysml:c49c5fa4-01bf-436f-878e-c0b2dd911bef ]] \r\n",
       "portout \"$result\" as E27  [[psysml:cfd24cc8-3d79-4a43-93a1-f42931f2c990 ]] \r\n",
       "}\r\n",
       "\r\n",
       "}\r\n",
       "\r\n",
       "@enduml\r\n",
       "\n",
       "PlantUML version 1.2020.13(Sat Jun 13 12:26:38 UTC 2020)\n",
       "(EPL source distribution)\n",
       "Java Runtime: OpenJDK Runtime Environment\n",
       "JVM: OpenJDK 64-Bit Server VM\n",
       "Default Encoding: UTF-8\n",
       "Language: en\n",
       "Country: null\n",
       "--></g></svg>"
      ]
     },
     "execution_count": 29,
     "metadata": {},
     "output_type": "execute_result"
    }
   ],
   "source": [
    "%viz --style=\"STDCOLOR\" --view=\"MIXED\" \"DecisionTest\""
   ]
  },
  {
   "cell_type": "code",
   "execution_count": 30,
   "id": "requested-mills",
   "metadata": {
    "execution": {
     "iopub.execute_input": "2021-03-25T09:32:48.046005Z",
     "iopub.status.busy": "2021-03-25T09:32:48.045138Z",
     "iopub.status.idle": "2021-03-25T09:32:48.130373Z",
     "shell.execute_reply": "2021-03-25T09:32:48.131210Z"
    }
   },
   "outputs": [
    {
     "data": {
      "image/svg+xml": [
       "<?xml version=\"1.0\" encoding=\"UTF-8\" standalone=\"no\"?><svg xmlns=\"http://www.w3.org/2000/svg\" xmlns:xlink=\"http://www.w3.org/1999/xlink\" contentScriptType=\"application/ecmascript\" contentStyleType=\"text/css\" height=\"190px\" preserveAspectRatio=\"none\" style=\"width:895px;height:190px;background:#000000;\" version=\"1.1\" viewBox=\"0 0 895 190\" width=\"895px\" zoomAndPan=\"magnify\"><defs/><g><rect fill=\"#0C0B26\" height=\"1\" style=\"stroke: #0C0B26; stroke-width: 1.0;\" width=\"1\" x=\"0\" y=\"0\"/><rect fill=\"#33FF02\" height=\"21.2969\" style=\"stroke: #33FF02; stroke-width: 1.0;\" width=\"888\" x=\"5\" y=\"5\"/><text fill=\"#000000\" font-family=\"sans-serif\" font-size=\"14\" font-weight=\"bold\" lengthAdjust=\"spacingAndGlyphs\" textLength=\"168\" x=\"6\" y=\"20\">[From string (line 8) ]</text><text fill=\"#33FF02\" font-family=\"sans-serif\" font-size=\"14\" font-weight=\"bold\" lengthAdjust=\"spacingAndGlyphs\" textLength=\"0\" x=\"10\" y=\"40.2969\"/><text fill=\"#33FF02\" font-family=\"sans-serif\" font-size=\"14\" font-weight=\"bold\" lengthAdjust=\"spacingAndGlyphs\" textLength=\"79\" x=\"5\" y=\"56.5938\">@startuml</text><text fill=\"#33FF02\" font-family=\"sans-serif\" font-size=\"14\" font-weight=\"bold\" lengthAdjust=\"spacingAndGlyphs\" textLength=\"0\" x=\"10\" y=\"72.8906\"/><text fill=\"#33FF02\" font-family=\"sans-serif\" font-size=\"14\" font-weight=\"bold\" lengthAdjust=\"spacingAndGlyphs\" textLength=\"886\" x=\"5\" y=\"89.1875\">rec def \"DecisionTest\" as E1  &lt;&lt;(D,brown)action def&gt;&gt; [[psysml:04eadb4d-b968-4a2d-91e2-cdec302c279f ]] {</text><text fill=\"#33FF02\" font-family=\"sans-serif\" font-size=\"14\" font-weight=\"bold\" lengthAdjust=\"spacingAndGlyphs\" textLength=\"614\" x=\"5\" y=\"105.4844\">portout \"$result\" as E2  [[psysml:f2b0b0cc-45ae-4166-8d5e-a5963ecab31c ]]</text><text fill=\"#33FF02\" font-family=\"sans-serif\" font-size=\"14\" font-weight=\"bold\" lengthAdjust=\"spacingAndGlyphs\" textLength=\"888\" x=\"5\" y=\"121.7813\">rec usage \"test x\" as E3  &lt;&lt;(U,orange)decisionNode&gt;&gt; [[psysml:12adcb2e-22ad-4270-ad09-4bee8bb9d85c ]] {</text><text fill=\"#33FF02\" font-family=\"sans-serif\" font-size=\"14\" font-weight=\"bold\" lengthAdjust=\"spacingAndGlyphs\" textLength=\"10\" x=\"5\" y=\"138.0781\">}</text><text fill=\"#33FF02\" font-family=\"sans-serif\" font-size=\"14\" font-weight=\"bold\" lengthAdjust=\"spacingAndGlyphs\" textLength=\"0\" x=\"10\" y=\"154.375\"/><text fill=\"#33FF02\" font-family=\"sans-serif\" font-size=\"14\" font-weight=\"bold\" lengthAdjust=\"spacingAndGlyphs\" textLength=\"10\" x=\"5\" y=\"170.6719\">{</text><text fill=\"#FF0000\" font-family=\"sans-serif\" font-size=\"14\" font-weight=\"bold\" lengthAdjust=\"spacingAndGlyphs\" textLength=\"106\" x=\"10\" y=\"186.9688\">Syntax Error?</text><!--MD5=[e423457ff9417efd6eca1d0871974c7d]\n",
       "@startuml\r\n",
       " \r\n",
       "rec def \"DecisionTest\" as E1  <<(D,brown)action def>> [[psysml:04eadb4d-b968-4a2d-91e2-cdec302c279f ]] {\r\n",
       "portout \"$result\" as E2  [[psysml:f2b0b0cc-45ae-4166-8d5e-a5963ecab31c ]] \r\n",
       "rec usage \"test x\" as E3  <<(U,orange)decisionNode>> [[psysml:12adcb2e-22ad-4270-ad09-4bee8bb9d85c ]] {\r\n",
       "}\r\n",
       "\r\n",
       "{\r\n",
       "portout \"$result\" as E4  [[psysml:da91a906-8207-462d-99e2-a18dec940aa7 ]] \r\n",
       "portin \"$x\" as E5  [[psysml:48c17a69-1eb9-4ad6-876e-38a96ca6e086 ]] \r\n",
       "portin \"$y\" as E6  [[psysml:603631ec-51c5-4249-8487-a79a64da6afc ]] \r\n",
       "portout \"$result\" as E7  [[psysml:26e7255e-bbd8-4ac7-a816-6f3abc826445 ]] \r\n",
       "}\r\n",
       "\r\n",
       "{\r\n",
       "portout \"$result\" as E8  [[psysml:34caa6ec-959e-4145-98ad-4a477d59f379 ]] \r\n",
       "portin \"$x\" as E9  [[psysml:a97d47b4-a3dd-4bbd-be98-fc91aed6e874 ]] \r\n",
       "portin \"$y\" as E10  [[psysml:4dcabb7c-801c-43eb-b65b-ea55ba06df11 ]] \r\n",
       "portout \"$result\" as E11  [[psysml:cd7ecfb5-304f-4537-af93-5efd7128d3b2 ]] \r\n",
       "}\r\n",
       "\r\n",
       "{\r\n",
       "}\r\n",
       "\r\n",
       "{\r\n",
       "}\r\n",
       "\r\n",
       "{\r\n",
       "portout \"$result\" as E12  [[psysml:f92bbb85-cf19-4dd5-984f-8fe428e355f9 ]] \r\n",
       "}\r\n",
       "\r\n",
       "{\r\n",
       "portout \"$result\" as E13  [[psysml:b44daa1d-0d17-440b-affc-4aae51a046a3 ]] \r\n",
       "}\r\n",
       "\r\n",
       "rec usage \"A1\" as E14  <<(U,orange)action>> [[psysml:b6d0d4a5-7082-45af-9d99-5627255ed9ae ]] {\r\n",
       "}\r\n",
       "\r\n",
       "rec usage \"A2\" as E15  <<(U,orange)action>> [[psysml:60e701bb-1db7-4263-ad0a-ece44064a54f ]] {\r\n",
       "}\r\n",
       "\r\n",
       "rec usage \"A3\" as E16  <<(U,orange)action>> [[psysml:072d93d2-c298-4f7b-8e67-b467b8356ba8 ]] {\r\n",
       "}\r\n",
       "\r\n",
       "rec usage \"S\" as E17  <<(U,orange)transition>> [[psysml:4c480f3e-de35-416e-b4f4-0f9aff9c2e68 ]] {\r\n",
       "rec usage \"A1\" as E18  <<(U,orange)action>> [[psysml:b6d0d4a5-7082-45af-9d99-5627255ed9ae ]] {\r\n",
       "}\r\n",
       "\r\n",
       "portout \"$result\" as E19  [[psysml:bae59e2e-3013-4238-add2-fcdff8ecd0eb ]] \r\n",
       "portin \"$x\" as E20  [[psysml:1602ff6f-7228-42cf-b9ac-ebc006cdcd92 ]] \r\n",
       "portin \"$y\" as E21  [[psysml:f75bdb3f-e701-450d-b4f7-b218e85bedc6 ]] \r\n",
       "portout \"$result\" as E22  [[psysml:671b30d7-f020-4858-831b-48c54d9c890b ]] \r\n",
       "}\r\n",
       "\r\n",
       "rec usage \"A3\" as E23  <<(U,orange)action>> [[psysml:072d93d2-c298-4f7b-8e67-b467b8356ba8 ]] {\r\n",
       "}\r\n",
       "\r\n",
       "{\r\n",
       "portout \"$result\" as E24  [[psysml:607bce31-a36d-4c4f-abb5-7d6a5b1eba4c ]] \r\n",
       "portin \"$x\" as E25  [[psysml:30d6127f-38d3-47e6-b88f-d8a7d1fd2593 ]] \r\n",
       "portin \"$y\" as E26  [[psysml:c49c5fa4-01bf-436f-878e-c0b2dd911bef ]] \r\n",
       "portout \"$result\" as E27  [[psysml:cfd24cc8-3d79-4a43-93a1-f42931f2c990 ]] \r\n",
       "}\r\n",
       "\r\n",
       "}\r\n",
       "\r\n",
       "@enduml\r\n",
       "\n",
       "PlantUML version 1.2020.13(Sat Jun 13 12:26:38 UTC 2020)\n",
       "(EPL source distribution)\n",
       "Java Runtime: OpenJDK Runtime Environment\n",
       "JVM: OpenJDK 64-Bit Server VM\n",
       "Default Encoding: UTF-8\n",
       "Language: en\n",
       "Country: null\n",
       "--></g></svg>"
      ]
     },
     "execution_count": 30,
     "metadata": {},
     "output_type": "execute_result"
    }
   ],
   "source": [
    "%viz --style=\"PLANTUML\" --view=\"Default\" \"DecisionTest\""
   ]
  },
  {
   "cell_type": "code",
   "execution_count": 31,
   "id": "saving-rwanda",
   "metadata": {
    "execution": {
     "iopub.execute_input": "2021-03-25T09:32:48.184877Z",
     "iopub.status.busy": "2021-03-25T09:32:48.183968Z",
     "iopub.status.idle": "2021-03-25T09:32:48.508937Z",
     "shell.execute_reply": "2021-03-25T09:32:48.509682Z"
    }
   },
   "outputs": [
    {
     "data": {
      "image/svg+xml": [
       "<?xml version=\"1.0\" encoding=\"UTF-8\" standalone=\"no\"?><svg xmlns=\"http://www.w3.org/2000/svg\" xmlns:xlink=\"http://www.w3.org/1999/xlink\" contentScriptType=\"application/ecmascript\" contentStyleType=\"text/css\" height=\"199px\" preserveAspectRatio=\"none\" style=\"width:138px;height:199px;\" version=\"1.1\" viewBox=\"0 0 138 199\" width=\"138px\" zoomAndPan=\"magnify\"><defs><filter height=\"300%\" id=\"f16ybyj6u0vsr8\" width=\"300%\" x=\"-1\" y=\"-1\"><feGaussianBlur result=\"blurOut\" stdDeviation=\"2.0\"/><feColorMatrix in=\"blurOut\" result=\"blurOut2\" type=\"matrix\" values=\"0 0 0 0 0 0 0 0 0 0 0 0 0 0 0 0 0 0 .4 0\"/><feOffset dx=\"4.0\" dy=\"4.0\" in=\"blurOut2\" result=\"blurOut3\"/><feBlend in=\"SourceGraphic\" in2=\"blurOut3\" mode=\"normal\"/></filter></defs><g><!--MD5=[43c9051892ef23e1a46a86907403d788]\n",
       "class E1--><a href=\"psysml:04eadb4d-b968-4a2d-91e2-cdec302c279f\" target=\"_top\" title=\"psysml:04eadb4d-b968-4a2d-91e2-cdec302c279f\" xlink:actuate=\"onRequest\" xlink:href=\"psysml:04eadb4d-b968-4a2d-91e2-cdec302c279f\" xlink:show=\"new\" xlink:title=\"psysml:04eadb4d-b968-4a2d-91e2-cdec302c279f\" xlink:type=\"simple\"><rect fill=\"#FEFECE\" filter=\"url(#f16ybyj6u0vsr8)\" height=\"173.1797\" id=\"E1\" style=\"stroke: #A80036; stroke-width: 1.5;\" width=\"112\" x=\"7\" y=\"7\"/><ellipse cx=\"22\" cy=\"25.9688\" fill=\"#A52A2A\" rx=\"11\" ry=\"11\" style=\"stroke: #A80036; stroke-width: 1.0;\"/><path d=\"M21.5938,21.7813 L21.5938,29.7656 L22.25,29.7656 Q23.6875,29.7656 24.2969,28.8594 Q24.9219,27.9375 24.9219,25.7656 Q24.9219,23.5938 24.2969,22.6875 Q23.6875,21.7813 22.25,21.7813 L21.5938,21.7813 Z M19.1406,19.5781 L21.7656,19.5781 Q24.7969,19.5781 26.125,21.0313 Q27.4688,22.4688 27.4688,25.7656 Q27.4688,29.0625 26.125,30.5156 Q24.7969,31.9688 21.7656,31.9688 L19.1406,31.9688 L19.1406,19.5781 Z \"/><text fill=\"#000000\" font-family=\"sans-serif\" font-size=\"12\" font-style=\"italic\" lengthAdjust=\"spacingAndGlyphs\" textLength=\"77\" x=\"37.5\" y=\"23.1387\">«action def»</text><text fill=\"#000000\" font-family=\"sans-serif\" font-size=\"12\" lengthAdjust=\"spacingAndGlyphs\" textLength=\"80\" x=\"36\" y=\"37.1074\">DecisionTest</text><line style=\"stroke: #A80036; stroke-width: 1.5;\" x1=\"8\" x2=\"118\" y1=\"44.9375\" y2=\"44.9375\"/><text fill=\"#000000\" font-family=\"sans-serif\" font-size=\"11\" lengthAdjust=\"spacingAndGlyphs\" textLength=\"6\" x=\"13\" y=\"59.1479\">x</text><text fill=\"#000000\" font-family=\"sans-serif\" font-size=\"11\" lengthAdjust=\"spacingAndGlyphs\" textLength=\"14\" x=\"13\" y=\"88.7573\">A1</text><text fill=\"#000000\" font-family=\"sans-serif\" font-size=\"11\" lengthAdjust=\"spacingAndGlyphs\" textLength=\"14\" x=\"13\" y=\"101.562\">A2</text><text fill=\"#000000\" font-family=\"sans-serif\" font-size=\"11\" lengthAdjust=\"spacingAndGlyphs\" textLength=\"14\" x=\"13\" y=\"114.3667\">A3</text><line style=\"stroke: #A80036; stroke-width: 1.0;\" x1=\"8\" x2=\"42.5\" y1=\"72.1445\" y2=\"72.1445\"/><text fill=\"#000000\" font-family=\"sans-serif\" font-size=\"11\" lengthAdjust=\"spacingAndGlyphs\" textLength=\"41\" x=\"42.5\" y=\"75.4526\">actions</text><line style=\"stroke: #A80036; stroke-width: 1.0;\" x1=\"83.5\" x2=\"118\" y1=\"72.1445\" y2=\"72.1445\"/><text fill=\"#000000\" font-family=\"sans-serif\" font-size=\"11\" lengthAdjust=\"spacingAndGlyphs\" textLength=\"32\" x=\"13\" y=\"143.9761\">test x</text><line style=\"stroke: #A80036; stroke-width: 1.0;\" x1=\"8\" x2=\"21.5\" y1=\"127.3633\" y2=\"127.3633\"/><text fill=\"#000000\" font-family=\"sans-serif\" font-size=\"11\" lengthAdjust=\"spacingAndGlyphs\" textLength=\"83\" x=\"21.5\" y=\"130.6714\">decisionNodes</text><line style=\"stroke: #A80036; stroke-width: 1.0;\" x1=\"104.5\" x2=\"118\" y1=\"127.3633\" y2=\"127.3633\"/><text fill=\"#000000\" font-family=\"sans-serif\" font-size=\"11\" lengthAdjust=\"spacingAndGlyphs\" textLength=\"8\" x=\"13\" y=\"173.5854\">S</text><line style=\"stroke: #A80036; stroke-width: 1.0;\" x1=\"8\" x2=\"32.5\" y1=\"156.9727\" y2=\"156.9727\"/><text fill=\"#000000\" font-family=\"sans-serif\" font-size=\"11\" lengthAdjust=\"spacingAndGlyphs\" textLength=\"61\" x=\"32.5\" y=\"160.2808\">transitions</text><line style=\"stroke: #A80036; stroke-width: 1.0;\" x1=\"93.5\" x2=\"118\" y1=\"156.9727\" y2=\"156.9727\"/></a><!--MD5=[e2e5670354be6572d3e9707c67773aed]\n",
       "@startuml\r\n",
       " \r\n",
       "comp def \"DecisionTest\" as E1  <<(D,brown)action def>> [[psysml:04eadb4d-b968-4a2d-91e2-cdec302c279f ]] {\r\n",
       "x\r\n",
       "- - actions - -\r\n",
       "A1\r\n",
       "A2\r\n",
       "A3\r\n",
       "- - decisionNodes - -\r\n",
       "test x\r\n",
       "- - transitions - -\r\n",
       "S\r\n",
       "}\r\n",
       "@enduml\r\n",
       "\n",
       "PlantUML version 1.2020.13(Sat Jun 13 12:26:38 UTC 2020)\n",
       "(EPL source distribution)\n",
       "Java Runtime: OpenJDK Runtime Environment\n",
       "JVM: OpenJDK 64-Bit Server VM\n",
       "Default Encoding: UTF-8\n",
       "Language: en\n",
       "Country: null\n",
       "--></g></svg>"
      ]
     },
     "execution_count": 31,
     "metadata": {},
     "output_type": "execute_result"
    }
   ],
   "source": [
    "%viz --style=\"PLANTUML\" --view=\"Tree\" \"DecisionTest\""
   ]
  },
  {
   "cell_type": "code",
   "execution_count": 32,
   "id": "norman-rescue",
   "metadata": {
    "execution": {
     "iopub.execute_input": "2021-03-25T09:32:48.560838Z",
     "iopub.status.busy": "2021-03-25T09:32:48.559506Z",
     "iopub.status.idle": "2021-03-25T09:32:49.465356Z",
     "shell.execute_reply": "2021-03-25T09:32:49.463872Z"
    }
   },
   "outputs": [
    {
     "data": {
      "image/svg+xml": [
       "<?xml version=\"1.0\" encoding=\"UTF-8\" standalone=\"no\"?><svg xmlns=\"http://www.w3.org/2000/svg\" xmlns:xlink=\"http://www.w3.org/1999/xlink\" contentScriptType=\"application/ecmascript\" contentStyleType=\"text/css\" height=\"303px\" preserveAspectRatio=\"none\" style=\"width:603px;height:303px;background:#000000;\" version=\"1.1\" viewBox=\"0 0 603 303\" width=\"603px\" zoomAndPan=\"magnify\"><defs/><g><rect fill=\"#07200C\" height=\"1\" style=\"stroke: #07200C; stroke-width: 1.0;\" width=\"1\" x=\"0\" y=\"0\"/><rect fill=\"#FFFFFF\" height=\"205.5625\" style=\"stroke: #FFFFFF; stroke-width: 1.0;\" width=\"602\" x=\"0\" y=\"0\"/><text fill=\"#000000\" font-family=\"sans-serif\" font-size=\"12\" font-weight=\"bold\" lengthAdjust=\"spacingAndGlyphs\" textLength=\"159\" x=\"5\" y=\"16.1387\">Welcome to PlantUML!</text><text fill=\"#000000\" font-family=\"sans-serif\" font-size=\"12\" lengthAdjust=\"spacingAndGlyphs\" textLength=\"0\" x=\"9\" y=\"30.1074\"/><text fill=\"#000000\" font-family=\"sans-serif\" font-size=\"12\" lengthAdjust=\"spacingAndGlyphs\" textLength=\"293\" x=\"5\" y=\"44.0762\">If you use this software, you accept its license.</text><text fill=\"#000000\" font-family=\"sans-serif\" font-size=\"12\" lengthAdjust=\"spacingAndGlyphs\" textLength=\"107\" x=\"5\" y=\"58.0449\">(details by typing</text><text fill=\"#000000\" font-family=\"monospace\" font-size=\"12\" lengthAdjust=\"spacingAndGlyphs\" textLength=\"49\" x=\"116\" y=\"58.0449\">license</text><text fill=\"#000000\" font-family=\"sans-serif\" font-size=\"12\" lengthAdjust=\"spacingAndGlyphs\" textLength=\"56\" x=\"169\" y=\"58.0449\">keyword)</text><text fill=\"#000000\" font-family=\"sans-serif\" font-size=\"12\" lengthAdjust=\"spacingAndGlyphs\" textLength=\"0\" x=\"9\" y=\"72.0137\"/><text fill=\"#000000\" font-family=\"sans-serif\" font-size=\"12\" lengthAdjust=\"spacingAndGlyphs\" textLength=\"283\" x=\"5\" y=\"85.9824\">You can start with a simple UML Diagram like:</text><text fill=\"#000000\" font-family=\"sans-serif\" font-size=\"12\" lengthAdjust=\"spacingAndGlyphs\" textLength=\"0\" x=\"9\" y=\"99.9512\"/><text fill=\"#000000\" font-family=\"monospace\" font-size=\"12\" lengthAdjust=\"spacingAndGlyphs\" textLength=\"119\" x=\"5\" y=\"113.9199\">Bob-&gt;Alice: Hello</text><text fill=\"#000000\" font-family=\"sans-serif\" font-size=\"12\" lengthAdjust=\"spacingAndGlyphs\" textLength=\"0\" x=\"9\" y=\"127.8887\"/><text fill=\"#000000\" font-family=\"sans-serif\" font-size=\"12\" lengthAdjust=\"spacingAndGlyphs\" textLength=\"14\" x=\"5\" y=\"141.8574\">Or</text><text fill=\"#000000\" font-family=\"sans-serif\" font-size=\"12\" lengthAdjust=\"spacingAndGlyphs\" textLength=\"0\" x=\"9\" y=\"155.8262\"/><text fill=\"#000000\" font-family=\"monospace\" font-size=\"12\" lengthAdjust=\"spacingAndGlyphs\" textLength=\"91\" x=\"5\" y=\"169.7949\">class Example</text><text fill=\"#000000\" font-family=\"sans-serif\" font-size=\"12\" lengthAdjust=\"spacingAndGlyphs\" textLength=\"0\" x=\"9\" y=\"183.7637\"/><text fill=\"#000000\" font-family=\"sans-serif\" font-size=\"12\" lengthAdjust=\"spacingAndGlyphs\" textLength=\"349\" x=\"5\" y=\"197.7324\">You will find more information about PlantUML syntax on</text><text fill=\"#000000\" font-family=\"sans-serif\" font-size=\"12\" lengthAdjust=\"spacingAndGlyphs\" text-decoration=\"underline\" textLength=\"129\" x=\"358\" y=\"197.7324\">https://plantuml.com</text><image height=\"71\" width=\"80\" x=\"516\" xlink:href=\"data:image/png;base64,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\" y=\"6\"/><rect fill=\"#000000\" height=\"96.4844\" style=\"stroke: #000000; stroke-width: 1.0;\" width=\"602\" x=\"0\" y=\"205.5625\"/><rect fill=\"#33FF02\" height=\"21.2969\" style=\"stroke: #33FF02; stroke-width: 1.0;\" width=\"170\" x=\"5\" y=\"210.5625\"/><text fill=\"#000000\" font-family=\"sans-serif\" font-size=\"14\" font-weight=\"bold\" lengthAdjust=\"spacingAndGlyphs\" textLength=\"168\" x=\"6\" y=\"225.5625\">[From string (line 2) ]</text><text fill=\"#33FF02\" font-family=\"sans-serif\" font-size=\"14\" font-weight=\"bold\" lengthAdjust=\"spacingAndGlyphs\" textLength=\"0\" x=\"10\" y=\"245.8594\"/><text fill=\"#33FF02\" font-family=\"sans-serif\" font-size=\"14\" font-weight=\"bold\" lengthAdjust=\"spacingAndGlyphs\" textLength=\"79\" x=\"5\" y=\"262.1563\">@startuml</text><text fill=\"#33FF02\" font-family=\"sans-serif\" font-size=\"14\" font-weight=\"bold\" lengthAdjust=\"spacingAndGlyphs\" textLength=\"0\" x=\"10\" y=\"278.4531\"/><text fill=\"#FF0000\" font-family=\"sans-serif\" font-size=\"14\" font-weight=\"bold\" lengthAdjust=\"spacingAndGlyphs\" textLength=\"142\" x=\"10\" y=\"294.75\">Empty description</text><!--MD5=[f59edd8218d337f74d0c332fc6737304]\n",
       "@startuml\r\n",
       " \r\n",
       "@enduml\r\n",
       "\n",
       "PlantUML version 1.2020.13(Sat Jun 13 12:26:38 UTC 2020)\n",
       "(EPL source distribution)\n",
       "Java Runtime: OpenJDK Runtime Environment\n",
       "JVM: OpenJDK 64-Bit Server VM\n",
       "Default Encoding: UTF-8\n",
       "Language: en\n",
       "Country: null\n",
       "--></g></svg>"
      ]
     },
     "execution_count": 32,
     "metadata": {},
     "output_type": "execute_result"
    }
   ],
   "source": [
    "%viz --style=\"PLANTUML\" --view=\"State\" \"DecisionTest\""
   ]
  },
  {
   "cell_type": "code",
   "execution_count": 33,
   "id": "provincial-halifax",
   "metadata": {
    "execution": {
     "iopub.execute_input": "2021-03-25T09:32:49.517145Z",
     "iopub.status.busy": "2021-03-25T09:32:49.516549Z",
     "iopub.status.idle": "2021-03-25T09:32:49.540922Z",
     "shell.execute_reply": "2021-03-25T09:32:49.541357Z"
    }
   },
   "outputs": [
    {
     "data": {
      "image/svg+xml": [
       "<?xml version=\"1.0\" encoding=\"UTF-8\" standalone=\"no\"?><svg xmlns=\"http://www.w3.org/2000/svg\" xmlns:xlink=\"http://www.w3.org/1999/xlink\" contentScriptType=\"application/ecmascript\" contentStyleType=\"text/css\" height=\"68px\" preserveAspectRatio=\"none\" style=\"width:143px;height:68px;\" version=\"1.1\" viewBox=\"0 0 143 68\" width=\"143px\" zoomAndPan=\"magnify\"><defs><filter height=\"300%\" id=\"f5zqisi03xg51\" width=\"300%\" x=\"-1\" y=\"-1\"><feGaussianBlur result=\"blurOut\" stdDeviation=\"2.0\"/><feColorMatrix in=\"blurOut\" result=\"blurOut2\" type=\"matrix\" values=\"0 0 0 0 0 0 0 0 0 0 0 0 0 0 0 0 0 0 .4 0\"/><feOffset dx=\"4.0\" dy=\"4.0\" in=\"blurOut2\" result=\"blurOut3\"/><feBlend in=\"SourceGraphic\" in2=\"blurOut3\" mode=\"normal\"/></filter></defs><g><g id=\"E1\"><a href=\"psysml:04eadb4d-b968-4a2d-91e2-cdec302c279f\" target=\"_top\" title=\"psysml:04eadb4d-b968-4a2d-91e2-cdec302c279f\" xlink:actuate=\"onRequest\" xlink:href=\"psysml:04eadb4d-b968-4a2d-91e2-cdec302c279f\" xlink:show=\"new\" xlink:title=\"psysml:04eadb4d-b968-4a2d-91e2-cdec302c279f\" xlink:type=\"simple\"><rect fill=\"#FEFECE\" filter=\"url(#f5zqisi03xg51)\" height=\"42.9375\" id=\"E1\" style=\"stroke: #A80036; stroke-width: 1.5;\" width=\"117\" x=\"7\" y=\"7\"/><ellipse cx=\"24.25\" cy=\"25.9688\" fill=\"#A52A2A\" rx=\"11\" ry=\"11\" style=\"stroke: #A80036; stroke-width: 1.0;\"/><path d=\"M23.8438,21.7813 L23.8438,29.7656 L24.5,29.7656 Q25.9375,29.7656 26.5469,28.8594 Q27.1719,27.9375 27.1719,25.7656 Q27.1719,23.5938 26.5469,22.6875 Q25.9375,21.7813 24.5,21.7813 L23.8438,21.7813 Z M21.3906,19.5781 L24.0156,19.5781 Q27.0469,19.5781 28.375,21.0313 Q29.7188,22.4688 29.7188,25.7656 Q29.7188,29.0625 28.375,30.5156 Q27.0469,31.9688 24.0156,31.9688 L21.3906,31.9688 L21.3906,19.5781 Z \"/><text fill=\"#000000\" font-family=\"sans-serif\" font-size=\"12\" font-style=\"italic\" lengthAdjust=\"spacingAndGlyphs\" textLength=\"77\" x=\"40.25\" y=\"23.1387\">«action def»</text><text fill=\"#000000\" font-family=\"sans-serif\" font-size=\"12\" lengthAdjust=\"spacingAndGlyphs\" textLength=\"80\" x=\"38.75\" y=\"37.1074\">DecisionTest</text></a></g><!--MD5=[3624defd00c170614eead0c64542529b]\n",
       "@startuml\r\n",
       "skinparam ranksep 8\r\n",
       "skinparam rectangle {\r\n",
       " backgroundColor<<block>> LightGreen\r\n",
       "}\r\n",
       " \r\n",
       "def \"DecisionTest\" as E1  <<(D,brown)action def>> [[psysml:04eadb4d-b968-4a2d-91e2-cdec302c279f ]] \r\n",
       "@enduml\r\n",
       "\n",
       "PlantUML version 1.2020.13(Sat Jun 13 12:26:38 UTC 2020)\n",
       "(EPL source distribution)\n",
       "Java Runtime: OpenJDK Runtime Environment\n",
       "JVM: OpenJDK 64-Bit Server VM\n",
       "Default Encoding: UTF-8\n",
       "Language: en\n",
       "Country: null\n",
       "--></g></svg>"
      ]
     },
     "execution_count": 33,
     "metadata": {},
     "output_type": "execute_result"
    }
   ],
   "source": [
    "%viz --style=\"PLANTUML\" --view=\"Interconnection\" \"DecisionTest\""
   ]
  },
  {
   "cell_type": "code",
   "execution_count": 34,
   "id": "piano-scanner",
   "metadata": {
    "execution": {
     "iopub.execute_input": "2021-03-25T09:32:49.593901Z",
     "iopub.status.busy": "2021-03-25T09:32:49.592970Z",
     "iopub.status.idle": "2021-03-25T09:32:49.616680Z",
     "shell.execute_reply": "2021-03-25T09:32:49.617080Z"
    }
   },
   "outputs": [
    {
     "data": {
      "image/svg+xml": [
       "<?xml version=\"1.0\" encoding=\"UTF-8\" standalone=\"no\"?><svg xmlns=\"http://www.w3.org/2000/svg\" xmlns:xlink=\"http://www.w3.org/1999/xlink\" contentScriptType=\"application/ecmascript\" contentStyleType=\"text/css\" height=\"206px\" preserveAspectRatio=\"none\" style=\"width:895px;height:206px;background:#000000;\" version=\"1.1\" viewBox=\"0 0 895 206\" width=\"895px\" zoomAndPan=\"magnify\"><defs/><g><rect fill=\"#16221B\" height=\"1\" style=\"stroke: #16221B; stroke-width: 1.0;\" width=\"1\" x=\"0\" y=\"0\"/><rect fill=\"#33FF02\" height=\"21.2969\" style=\"stroke: #33FF02; stroke-width: 1.0;\" width=\"888\" x=\"5\" y=\"5\"/><text fill=\"#000000\" font-family=\"sans-serif\" font-size=\"14\" font-weight=\"bold\" lengthAdjust=\"spacingAndGlyphs\" textLength=\"168\" x=\"6\" y=\"20\">[From string (line 9) ]</text><text fill=\"#33FF02\" font-family=\"sans-serif\" font-size=\"14\" font-weight=\"bold\" lengthAdjust=\"spacingAndGlyphs\" textLength=\"0\" x=\"10\" y=\"40.2969\"/><text fill=\"#33FF02\" font-family=\"sans-serif\" font-size=\"14\" font-weight=\"bold\" lengthAdjust=\"spacingAndGlyphs\" textLength=\"79\" x=\"5\" y=\"56.5938\">@startuml</text><text fill=\"#33FF02\" font-family=\"sans-serif\" font-size=\"14\" font-weight=\"bold\" lengthAdjust=\"spacingAndGlyphs\" textLength=\"165\" x=\"5\" y=\"72.8906\">skinparam ranksep 8</text><text fill=\"#33FF02\" font-family=\"sans-serif\" font-size=\"14\" font-weight=\"bold\" lengthAdjust=\"spacingAndGlyphs\" textLength=\"0\" x=\"10\" y=\"89.1875\"/><text fill=\"#33FF02\" font-family=\"sans-serif\" font-size=\"14\" font-weight=\"bold\" lengthAdjust=\"spacingAndGlyphs\" textLength=\"886\" x=\"5\" y=\"105.4844\">rec def \"DecisionTest\" as E1  &lt;&lt;(D,brown)action def&gt;&gt; [[psysml:04eadb4d-b968-4a2d-91e2-cdec302c279f ]] {</text><text fill=\"#33FF02\" font-family=\"sans-serif\" font-size=\"14\" font-weight=\"bold\" lengthAdjust=\"spacingAndGlyphs\" textLength=\"614\" x=\"5\" y=\"121.7813\">portout \"$result\" as E2  [[psysml:f2b0b0cc-45ae-4166-8d5e-a5963ecab31c ]]</text><text fill=\"#33FF02\" font-family=\"sans-serif\" font-size=\"14\" font-weight=\"bold\" lengthAdjust=\"spacingAndGlyphs\" textLength=\"888\" x=\"5\" y=\"138.0781\">rec usage \"test x\" as E3  &lt;&lt;(U,orange)decisionNode&gt;&gt; [[psysml:12adcb2e-22ad-4270-ad09-4bee8bb9d85c ]] {</text><text fill=\"#33FF02\" font-family=\"sans-serif\" font-size=\"14\" font-weight=\"bold\" lengthAdjust=\"spacingAndGlyphs\" textLength=\"10\" x=\"5\" y=\"154.375\">}</text><text fill=\"#33FF02\" font-family=\"sans-serif\" font-size=\"14\" font-weight=\"bold\" lengthAdjust=\"spacingAndGlyphs\" textLength=\"0\" x=\"10\" y=\"170.6719\"/><text fill=\"#33FF02\" font-family=\"sans-serif\" font-size=\"14\" font-weight=\"bold\" lengthAdjust=\"spacingAndGlyphs\" textLength=\"10\" x=\"5\" y=\"186.9688\">{</text><text fill=\"#FF0000\" font-family=\"sans-serif\" font-size=\"14\" font-weight=\"bold\" lengthAdjust=\"spacingAndGlyphs\" textLength=\"106\" x=\"10\" y=\"203.2656\">Syntax Error?</text><!--MD5=[49ba657fa610651f314efdac2c646d88]\n",
       "@startuml\r\n",
       "skinparam ranksep 8\r\n",
       " \r\n",
       "rec def \"DecisionTest\" as E1  <<(D,brown)action def>> [[psysml:04eadb4d-b968-4a2d-91e2-cdec302c279f ]] {\r\n",
       "portout \"$result\" as E2  [[psysml:f2b0b0cc-45ae-4166-8d5e-a5963ecab31c ]] \r\n",
       "rec usage \"test x\" as E3  <<(U,orange)decisionNode>> [[psysml:12adcb2e-22ad-4270-ad09-4bee8bb9d85c ]] {\r\n",
       "}\r\n",
       "\r\n",
       "{\r\n",
       "portout \"$result\" as E4  [[psysml:da91a906-8207-462d-99e2-a18dec940aa7 ]] \r\n",
       "portin \"$x\" as E5  [[psysml:48c17a69-1eb9-4ad6-876e-38a96ca6e086 ]] \r\n",
       "portin \"$y\" as E6  [[psysml:603631ec-51c5-4249-8487-a79a64da6afc ]] \r\n",
       "portout \"$result\" as E7  [[psysml:26e7255e-bbd8-4ac7-a816-6f3abc826445 ]] \r\n",
       "}\r\n",
       "\r\n",
       "{\r\n",
       "portout \"$result\" as E8  [[psysml:34caa6ec-959e-4145-98ad-4a477d59f379 ]] \r\n",
       "portin \"$x\" as E9  [[psysml:a97d47b4-a3dd-4bbd-be98-fc91aed6e874 ]] \r\n",
       "portin \"$y\" as E10  [[psysml:4dcabb7c-801c-43eb-b65b-ea55ba06df11 ]] \r\n",
       "portout \"$result\" as E11  [[psysml:cd7ecfb5-304f-4537-af93-5efd7128d3b2 ]] \r\n",
       "}\r\n",
       "\r\n",
       "{\r\n",
       "}\r\n",
       "\r\n",
       "{\r\n",
       "}\r\n",
       "\r\n",
       "{\r\n",
       "portout \"$result\" as E12  [[psysml:f92bbb85-cf19-4dd5-984f-8fe428e355f9 ]] \r\n",
       "}\r\n",
       "\r\n",
       "{\r\n",
       "portout \"$result\" as E13  [[psysml:b44daa1d-0d17-440b-affc-4aae51a046a3 ]] \r\n",
       "}\r\n",
       "\r\n",
       "rec usage \"A1\" as E14  <<(U,orange)action>> [[psysml:b6d0d4a5-7082-45af-9d99-5627255ed9ae ]] {\r\n",
       "}\r\n",
       "\r\n",
       "rec usage \"A2\" as E15  <<(U,orange)action>> [[psysml:60e701bb-1db7-4263-ad0a-ece44064a54f ]] {\r\n",
       "}\r\n",
       "\r\n",
       "rec usage \"A3\" as E16  <<(U,orange)action>> [[psysml:072d93d2-c298-4f7b-8e67-b467b8356ba8 ]] {\r\n",
       "}\r\n",
       "\r\n",
       "rec usage \"S\" as E17  <<(U,orange)transition>> [[psysml:4c480f3e-de35-416e-b4f4-0f9aff9c2e68 ]] {\r\n",
       "rec usage \"A1\" as E18  <<(U,orange)action>> [[psysml:b6d0d4a5-7082-45af-9d99-5627255ed9ae ]] {\r\n",
       "}\r\n",
       "\r\n",
       "portout \"$result\" as E19  [[psysml:bae59e2e-3013-4238-add2-fcdff8ecd0eb ]] \r\n",
       "portin \"$x\" as E20  [[psysml:1602ff6f-7228-42cf-b9ac-ebc006cdcd92 ]] \r\n",
       "portin \"$y\" as E21  [[psysml:f75bdb3f-e701-450d-b4f7-b218e85bedc6 ]] \r\n",
       "portout \"$result\" as E22  [[psysml:671b30d7-f020-4858-831b-48c54d9c890b ]] \r\n",
       "}\r\n",
       "\r\n",
       "rec usage \"A3\" as E23  <<(U,orange)action>> [[psysml:072d93d2-c298-4f7b-8e67-b467b8356ba8 ]] {\r\n",
       "}\r\n",
       "\r\n",
       "{\r\n",
       "portout \"$result\" as E24  [[psysml:607bce31-a36d-4c4f-abb5-7d6a5b1eba4c ]] \r\n",
       "portin \"$x\" as E25  [[psysml:30d6127f-38d3-47e6-b88f-d8a7d1fd2593 ]] \r\n",
       "portin \"$y\" as E26  [[psysml:c49c5fa4-01bf-436f-878e-c0b2dd911bef ]] \r\n",
       "portout \"$result\" as E27  [[psysml:cfd24cc8-3d79-4a43-93a1-f42931f2c990 ]] \r\n",
       "}\r\n",
       "\r\n",
       "}\r\n",
       "\r\n",
       "@enduml\r\n",
       "\n",
       "PlantUML version 1.2020.13(Sat Jun 13 12:26:38 UTC 2020)\n",
       "(EPL source distribution)\n",
       "Java Runtime: OpenJDK Runtime Environment\n",
       "JVM: OpenJDK 64-Bit Server VM\n",
       "Default Encoding: UTF-8\n",
       "Language: en\n",
       "Country: null\n",
       "--></g></svg>"
      ]
     },
     "execution_count": 34,
     "metadata": {},
     "output_type": "execute_result"
    }
   ],
   "source": [
    "%viz --style=\"PLANTUML\" --view=\"Action\" \"DecisionTest\""
   ]
  },
  {
   "cell_type": "code",
   "execution_count": 35,
   "id": "mexican-tooth",
   "metadata": {
    "execution": {
     "iopub.execute_input": "2021-03-25T09:32:49.668388Z",
     "iopub.status.busy": "2021-03-25T09:32:49.667736Z",
     "iopub.status.idle": "2021-03-25T09:32:49.964689Z",
     "shell.execute_reply": "2021-03-25T09:32:49.965219Z"
    }
   },
   "outputs": [
    {
     "data": {
      "image/svg+xml": [
       "<?xml version=\"1.0\" encoding=\"UTF-8\" standalone=\"no\"?><svg xmlns=\"http://www.w3.org/2000/svg\" xmlns:xlink=\"http://www.w3.org/1999/xlink\" contentScriptType=\"application/ecmascript\" contentStyleType=\"text/css\" height=\"199px\" preserveAspectRatio=\"none\" style=\"width:138px;height:199px;\" version=\"1.1\" viewBox=\"0 0 138 199\" width=\"138px\" zoomAndPan=\"magnify\"><defs><filter height=\"300%\" id=\"f16ybyj6u0vsr8\" width=\"300%\" x=\"-1\" y=\"-1\"><feGaussianBlur result=\"blurOut\" stdDeviation=\"2.0\"/><feColorMatrix in=\"blurOut\" result=\"blurOut2\" type=\"matrix\" values=\"0 0 0 0 0 0 0 0 0 0 0 0 0 0 0 0 0 0 .4 0\"/><feOffset dx=\"4.0\" dy=\"4.0\" in=\"blurOut2\" result=\"blurOut3\"/><feBlend in=\"SourceGraphic\" in2=\"blurOut3\" mode=\"normal\"/></filter></defs><g><!--MD5=[43c9051892ef23e1a46a86907403d788]\n",
       "class E1--><a href=\"psysml:04eadb4d-b968-4a2d-91e2-cdec302c279f\" target=\"_top\" title=\"psysml:04eadb4d-b968-4a2d-91e2-cdec302c279f\" xlink:actuate=\"onRequest\" xlink:href=\"psysml:04eadb4d-b968-4a2d-91e2-cdec302c279f\" xlink:show=\"new\" xlink:title=\"psysml:04eadb4d-b968-4a2d-91e2-cdec302c279f\" xlink:type=\"simple\"><rect fill=\"#FEFECE\" filter=\"url(#f16ybyj6u0vsr8)\" height=\"173.1797\" id=\"E1\" style=\"stroke: #A80036; stroke-width: 1.5;\" width=\"112\" x=\"7\" y=\"7\"/><ellipse cx=\"22\" cy=\"25.9688\" fill=\"#A52A2A\" rx=\"11\" ry=\"11\" style=\"stroke: #A80036; stroke-width: 1.0;\"/><path d=\"M21.5938,21.7813 L21.5938,29.7656 L22.25,29.7656 Q23.6875,29.7656 24.2969,28.8594 Q24.9219,27.9375 24.9219,25.7656 Q24.9219,23.5938 24.2969,22.6875 Q23.6875,21.7813 22.25,21.7813 L21.5938,21.7813 Z M19.1406,19.5781 L21.7656,19.5781 Q24.7969,19.5781 26.125,21.0313 Q27.4688,22.4688 27.4688,25.7656 Q27.4688,29.0625 26.125,30.5156 Q24.7969,31.9688 21.7656,31.9688 L19.1406,31.9688 L19.1406,19.5781 Z \"/><text fill=\"#000000\" font-family=\"sans-serif\" font-size=\"12\" font-style=\"italic\" lengthAdjust=\"spacingAndGlyphs\" textLength=\"77\" x=\"37.5\" y=\"23.1387\">«action def»</text><text fill=\"#000000\" font-family=\"sans-serif\" font-size=\"12\" lengthAdjust=\"spacingAndGlyphs\" textLength=\"80\" x=\"36\" y=\"37.1074\">DecisionTest</text><line style=\"stroke: #A80036; stroke-width: 1.5;\" x1=\"8\" x2=\"118\" y1=\"44.9375\" y2=\"44.9375\"/><text fill=\"#000000\" font-family=\"sans-serif\" font-size=\"11\" lengthAdjust=\"spacingAndGlyphs\" textLength=\"6\" x=\"13\" y=\"59.1479\">x</text><text fill=\"#000000\" font-family=\"sans-serif\" font-size=\"11\" lengthAdjust=\"spacingAndGlyphs\" textLength=\"14\" x=\"13\" y=\"88.7573\">A1</text><text fill=\"#000000\" font-family=\"sans-serif\" font-size=\"11\" lengthAdjust=\"spacingAndGlyphs\" textLength=\"14\" x=\"13\" y=\"101.562\">A2</text><text fill=\"#000000\" font-family=\"sans-serif\" font-size=\"11\" lengthAdjust=\"spacingAndGlyphs\" textLength=\"14\" x=\"13\" y=\"114.3667\">A3</text><line style=\"stroke: #A80036; stroke-width: 1.0;\" x1=\"8\" x2=\"42.5\" y1=\"72.1445\" y2=\"72.1445\"/><text fill=\"#000000\" font-family=\"sans-serif\" font-size=\"11\" lengthAdjust=\"spacingAndGlyphs\" textLength=\"41\" x=\"42.5\" y=\"75.4526\">actions</text><line style=\"stroke: #A80036; stroke-width: 1.0;\" x1=\"83.5\" x2=\"118\" y1=\"72.1445\" y2=\"72.1445\"/><text fill=\"#000000\" font-family=\"sans-serif\" font-size=\"11\" lengthAdjust=\"spacingAndGlyphs\" textLength=\"32\" x=\"13\" y=\"143.9761\">test x</text><line style=\"stroke: #A80036; stroke-width: 1.0;\" x1=\"8\" x2=\"21.5\" y1=\"127.3633\" y2=\"127.3633\"/><text fill=\"#000000\" font-family=\"sans-serif\" font-size=\"11\" lengthAdjust=\"spacingAndGlyphs\" textLength=\"83\" x=\"21.5\" y=\"130.6714\">decisionNodes</text><line style=\"stroke: #A80036; stroke-width: 1.0;\" x1=\"104.5\" x2=\"118\" y1=\"127.3633\" y2=\"127.3633\"/><text fill=\"#000000\" font-family=\"sans-serif\" font-size=\"11\" lengthAdjust=\"spacingAndGlyphs\" textLength=\"8\" x=\"13\" y=\"173.5854\">S</text><line style=\"stroke: #A80036; stroke-width: 1.0;\" x1=\"8\" x2=\"32.5\" y1=\"156.9727\" y2=\"156.9727\"/><text fill=\"#000000\" font-family=\"sans-serif\" font-size=\"11\" lengthAdjust=\"spacingAndGlyphs\" textLength=\"61\" x=\"32.5\" y=\"160.2808\">transitions</text><line style=\"stroke: #A80036; stroke-width: 1.0;\" x1=\"93.5\" x2=\"118\" y1=\"156.9727\" y2=\"156.9727\"/></a><!--MD5=[e2e5670354be6572d3e9707c67773aed]\n",
       "@startuml\r\n",
       " \r\n",
       "comp def \"DecisionTest\" as E1  <<(D,brown)action def>> [[psysml:04eadb4d-b968-4a2d-91e2-cdec302c279f ]] {\r\n",
       "x\r\n",
       "- - actions - -\r\n",
       "A1\r\n",
       "A2\r\n",
       "A3\r\n",
       "- - decisionNodes - -\r\n",
       "test x\r\n",
       "- - transitions - -\r\n",
       "S\r\n",
       "}\r\n",
       "@enduml\r\n",
       "\n",
       "PlantUML version 1.2020.13(Sat Jun 13 12:26:38 UTC 2020)\n",
       "(EPL source distribution)\n",
       "Java Runtime: OpenJDK Runtime Environment\n",
       "JVM: OpenJDK 64-Bit Server VM\n",
       "Default Encoding: UTF-8\n",
       "Language: en\n",
       "Country: null\n",
       "--></g></svg>"
      ]
     },
     "execution_count": 35,
     "metadata": {},
     "output_type": "execute_result"
    }
   ],
   "source": [
    "%viz --style=\"PLANTUML\" --view=\"Sequence\" \"DecisionTest\""
   ]
  },
  {
   "cell_type": "code",
   "execution_count": 36,
   "id": "partial-extraction",
   "metadata": {
    "execution": {
     "iopub.execute_input": "2021-03-25T09:32:50.017569Z",
     "iopub.status.busy": "2021-03-25T09:32:50.016971Z",
     "iopub.status.idle": "2021-03-25T09:32:50.046386Z",
     "shell.execute_reply": "2021-03-25T09:32:50.046811Z"
    }
   },
   "outputs": [
    {
     "data": {
      "image/svg+xml": [
       "<?xml version=\"1.0\" encoding=\"UTF-8\" standalone=\"no\"?><svg xmlns=\"http://www.w3.org/2000/svg\" xmlns:xlink=\"http://www.w3.org/1999/xlink\" contentScriptType=\"application/ecmascript\" contentStyleType=\"text/css\" height=\"190px\" preserveAspectRatio=\"none\" style=\"width:895px;height:190px;background:#000000;\" version=\"1.1\" viewBox=\"0 0 895 190\" width=\"895px\" zoomAndPan=\"magnify\"><defs/><g><rect fill=\"#081914\" height=\"1\" style=\"stroke: #081914; stroke-width: 1.0;\" width=\"1\" x=\"0\" y=\"0\"/><rect fill=\"#33FF02\" height=\"21.2969\" style=\"stroke: #33FF02; stroke-width: 1.0;\" width=\"888\" x=\"5\" y=\"5\"/><text fill=\"#000000\" font-family=\"sans-serif\" font-size=\"14\" font-weight=\"bold\" lengthAdjust=\"spacingAndGlyphs\" textLength=\"168\" x=\"6\" y=\"20\">[From string (line 8) ]</text><text fill=\"#33FF02\" font-family=\"sans-serif\" font-size=\"14\" font-weight=\"bold\" lengthAdjust=\"spacingAndGlyphs\" textLength=\"0\" x=\"10\" y=\"40.2969\"/><text fill=\"#33FF02\" font-family=\"sans-serif\" font-size=\"14\" font-weight=\"bold\" lengthAdjust=\"spacingAndGlyphs\" textLength=\"79\" x=\"5\" y=\"56.5938\">@startuml</text><text fill=\"#33FF02\" font-family=\"sans-serif\" font-size=\"14\" font-weight=\"bold\" lengthAdjust=\"spacingAndGlyphs\" textLength=\"0\" x=\"10\" y=\"72.8906\"/><text fill=\"#33FF02\" font-family=\"sans-serif\" font-size=\"14\" font-weight=\"bold\" lengthAdjust=\"spacingAndGlyphs\" textLength=\"886\" x=\"5\" y=\"89.1875\">rec def \"DecisionTest\" as E1  &lt;&lt;(D,brown)action def&gt;&gt; [[psysml:04eadb4d-b968-4a2d-91e2-cdec302c279f ]] {</text><text fill=\"#33FF02\" font-family=\"sans-serif\" font-size=\"14\" font-weight=\"bold\" lengthAdjust=\"spacingAndGlyphs\" textLength=\"614\" x=\"5\" y=\"105.4844\">portout \"$result\" as E2  [[psysml:f2b0b0cc-45ae-4166-8d5e-a5963ecab31c ]]</text><text fill=\"#33FF02\" font-family=\"sans-serif\" font-size=\"14\" font-weight=\"bold\" lengthAdjust=\"spacingAndGlyphs\" textLength=\"888\" x=\"5\" y=\"121.7813\">rec usage \"test x\" as E3  &lt;&lt;(U,orange)decisionNode&gt;&gt; [[psysml:12adcb2e-22ad-4270-ad09-4bee8bb9d85c ]] {</text><text fill=\"#33FF02\" font-family=\"sans-serif\" font-size=\"14\" font-weight=\"bold\" lengthAdjust=\"spacingAndGlyphs\" textLength=\"10\" x=\"5\" y=\"138.0781\">}</text><text fill=\"#33FF02\" font-family=\"sans-serif\" font-size=\"14\" font-weight=\"bold\" lengthAdjust=\"spacingAndGlyphs\" textLength=\"0\" x=\"10\" y=\"154.375\"/><text fill=\"#33FF02\" font-family=\"sans-serif\" font-size=\"14\" font-weight=\"bold\" lengthAdjust=\"spacingAndGlyphs\" textLength=\"10\" x=\"5\" y=\"170.6719\">{</text><text fill=\"#FF0000\" font-family=\"sans-serif\" font-size=\"14\" font-weight=\"bold\" lengthAdjust=\"spacingAndGlyphs\" textLength=\"106\" x=\"10\" y=\"186.9688\">Syntax Error?</text><!--MD5=[e423457ff9417efd6eca1d0871974c7d]\n",
       "@startuml\r\n",
       " \r\n",
       "rec def \"DecisionTest\" as E1  <<(D,brown)action def>> [[psysml:04eadb4d-b968-4a2d-91e2-cdec302c279f ]] {\r\n",
       "portout \"$result\" as E2  [[psysml:f2b0b0cc-45ae-4166-8d5e-a5963ecab31c ]] \r\n",
       "rec usage \"test x\" as E3  <<(U,orange)decisionNode>> [[psysml:12adcb2e-22ad-4270-ad09-4bee8bb9d85c ]] {\r\n",
       "}\r\n",
       "\r\n",
       "{\r\n",
       "portout \"$result\" as E4  [[psysml:da91a906-8207-462d-99e2-a18dec940aa7 ]] \r\n",
       "portin \"$x\" as E5  [[psysml:48c17a69-1eb9-4ad6-876e-38a96ca6e086 ]] \r\n",
       "portin \"$y\" as E6  [[psysml:603631ec-51c5-4249-8487-a79a64da6afc ]] \r\n",
       "portout \"$result\" as E7  [[psysml:26e7255e-bbd8-4ac7-a816-6f3abc826445 ]] \r\n",
       "}\r\n",
       "\r\n",
       "{\r\n",
       "portout \"$result\" as E8  [[psysml:34caa6ec-959e-4145-98ad-4a477d59f379 ]] \r\n",
       "portin \"$x\" as E9  [[psysml:a97d47b4-a3dd-4bbd-be98-fc91aed6e874 ]] \r\n",
       "portin \"$y\" as E10  [[psysml:4dcabb7c-801c-43eb-b65b-ea55ba06df11 ]] \r\n",
       "portout \"$result\" as E11  [[psysml:cd7ecfb5-304f-4537-af93-5efd7128d3b2 ]] \r\n",
       "}\r\n",
       "\r\n",
       "{\r\n",
       "}\r\n",
       "\r\n",
       "{\r\n",
       "}\r\n",
       "\r\n",
       "{\r\n",
       "portout \"$result\" as E12  [[psysml:f92bbb85-cf19-4dd5-984f-8fe428e355f9 ]] \r\n",
       "}\r\n",
       "\r\n",
       "{\r\n",
       "portout \"$result\" as E13  [[psysml:b44daa1d-0d17-440b-affc-4aae51a046a3 ]] \r\n",
       "}\r\n",
       "\r\n",
       "rec usage \"A1\" as E14  <<(U,orange)action>> [[psysml:b6d0d4a5-7082-45af-9d99-5627255ed9ae ]] {\r\n",
       "}\r\n",
       "\r\n",
       "rec usage \"A2\" as E15  <<(U,orange)action>> [[psysml:60e701bb-1db7-4263-ad0a-ece44064a54f ]] {\r\n",
       "}\r\n",
       "\r\n",
       "rec usage \"A3\" as E16  <<(U,orange)action>> [[psysml:072d93d2-c298-4f7b-8e67-b467b8356ba8 ]] {\r\n",
       "}\r\n",
       "\r\n",
       "rec usage \"S\" as E17  <<(U,orange)transition>> [[psysml:4c480f3e-de35-416e-b4f4-0f9aff9c2e68 ]] {\r\n",
       "rec usage \"A1\" as E18  <<(U,orange)action>> [[psysml:b6d0d4a5-7082-45af-9d99-5627255ed9ae ]] {\r\n",
       "}\r\n",
       "\r\n",
       "portout \"$result\" as E19  [[psysml:bae59e2e-3013-4238-add2-fcdff8ecd0eb ]] \r\n",
       "portin \"$x\" as E20  [[psysml:1602ff6f-7228-42cf-b9ac-ebc006cdcd92 ]] \r\n",
       "portin \"$y\" as E21  [[psysml:f75bdb3f-e701-450d-b4f7-b218e85bedc6 ]] \r\n",
       "portout \"$result\" as E22  [[psysml:671b30d7-f020-4858-831b-48c54d9c890b ]] \r\n",
       "}\r\n",
       "\r\n",
       "rec usage \"A3\" as E23  <<(U,orange)action>> [[psysml:072d93d2-c298-4f7b-8e67-b467b8356ba8 ]] {\r\n",
       "}\r\n",
       "\r\n",
       "{\r\n",
       "portout \"$result\" as E24  [[psysml:607bce31-a36d-4c4f-abb5-7d6a5b1eba4c ]] \r\n",
       "portin \"$x\" as E25  [[psysml:30d6127f-38d3-47e6-b88f-d8a7d1fd2593 ]] \r\n",
       "portin \"$y\" as E26  [[psysml:c49c5fa4-01bf-436f-878e-c0b2dd911bef ]] \r\n",
       "portout \"$result\" as E27  [[psysml:cfd24cc8-3d79-4a43-93a1-f42931f2c990 ]] \r\n",
       "}\r\n",
       "\r\n",
       "}\r\n",
       "\r\n",
       "@enduml\r\n",
       "\n",
       "PlantUML version 1.2020.13(Sat Jun 13 12:26:38 UTC 2020)\n",
       "(EPL source distribution)\n",
       "Java Runtime: OpenJDK Runtime Environment\n",
       "JVM: OpenJDK 64-Bit Server VM\n",
       "Default Encoding: UTF-8\n",
       "Language: en\n",
       "Country: null\n",
       "--></g></svg>"
      ]
     },
     "execution_count": 36,
     "metadata": {},
     "output_type": "execute_result"
    }
   ],
   "source": [
    "%viz --style=\"PLANTUML\" --view=\"MIXED\" \"DecisionTest\""
   ]
  },
  {
   "cell_type": "code",
   "execution_count": 37,
   "id": "suspected-quality",
   "metadata": {
    "execution": {
     "iopub.execute_input": "2021-03-25T09:32:50.098299Z",
     "iopub.status.busy": "2021-03-25T09:32:50.097578Z",
     "iopub.status.idle": "2021-03-25T09:32:50.126085Z",
     "shell.execute_reply": "2021-03-25T09:32:50.124741Z"
    }
   },
   "outputs": [
    {
     "data": {
      "image/svg+xml": [
       "<?xml version=\"1.0\" encoding=\"UTF-8\" standalone=\"no\"?><svg xmlns=\"http://www.w3.org/2000/svg\" xmlns:xlink=\"http://www.w3.org/1999/xlink\" contentScriptType=\"application/ecmascript\" contentStyleType=\"text/css\" height=\"271px\" preserveAspectRatio=\"none\" style=\"width:875px;height:271px;background:#000000;\" version=\"1.1\" viewBox=\"0 0 875 271\" width=\"875px\" zoomAndPan=\"magnify\"><defs/><g><rect fill=\"#0A250A\" height=\"1\" style=\"stroke: #0A250A; stroke-width: 1.0;\" width=\"1\" x=\"0\" y=\"0\"/><rect fill=\"#33FF02\" height=\"21.2969\" style=\"stroke: #33FF02; stroke-width: 1.0;\" width=\"868\" x=\"5\" y=\"5\"/><text fill=\"#000000\" font-family=\"sans-serif\" font-size=\"14\" font-weight=\"bold\" lengthAdjust=\"spacingAndGlyphs\" textLength=\"178\" x=\"6\" y=\"20\">[From string (line 13) ]</text><text fill=\"#33FF02\" font-family=\"sans-serif\" font-size=\"14\" font-weight=\"bold\" lengthAdjust=\"spacingAndGlyphs\" textLength=\"0\" x=\"10\" y=\"40.2969\"/><text fill=\"#33FF02\" font-family=\"sans-serif\" font-size=\"14\" font-weight=\"bold\" lengthAdjust=\"spacingAndGlyphs\" textLength=\"79\" x=\"5\" y=\"56.5938\">@startuml</text><text fill=\"#33FF02\" font-family=\"sans-serif\" font-size=\"14\" font-weight=\"bold\" lengthAdjust=\"spacingAndGlyphs\" textLength=\"228\" x=\"5\" y=\"72.8906\">skinparam monochrome true</text><text fill=\"#33FF02\" font-family=\"sans-serif\" font-size=\"14\" font-weight=\"bold\" lengthAdjust=\"spacingAndGlyphs\" textLength=\"309\" x=\"5\" y=\"89.1875\">skinparam classbackgroundcolor white</text><text fill=\"#33FF02\" font-family=\"sans-serif\" font-size=\"14\" font-weight=\"bold\" lengthAdjust=\"spacingAndGlyphs\" textLength=\"215\" x=\"5\" y=\"105.4844\">skinparam shadowing false</text><text fill=\"#33FF02\" font-family=\"sans-serif\" font-size=\"14\" font-weight=\"bold\" lengthAdjust=\"spacingAndGlyphs\" textLength=\"206\" x=\"5\" y=\"121.7813\">skinparam wrapWidth 300</text><text fill=\"#33FF02\" font-family=\"sans-serif\" font-size=\"14\" font-weight=\"bold\" lengthAdjust=\"spacingAndGlyphs\" textLength=\"82\" x=\"5\" y=\"138.0781\">hide circle</text><text fill=\"#33FF02\" font-family=\"sans-serif\" font-size=\"14\" font-weight=\"bold\" lengthAdjust=\"spacingAndGlyphs\" textLength=\"0\" x=\"10\" y=\"154.375\"/><text fill=\"#33FF02\" font-family=\"sans-serif\" font-size=\"14\" font-weight=\"bold\" lengthAdjust=\"spacingAndGlyphs\" textLength=\"868\" x=\"5\" y=\"170.6719\">rec def \"DecisionTest\" as E1  &lt;&lt;(T,blue)action def&gt;&gt; [[psysml:04eadb4d-b968-4a2d-91e2-cdec302c279f ]] {</text><text fill=\"#33FF02\" font-family=\"sans-serif\" font-size=\"14\" font-weight=\"bold\" lengthAdjust=\"spacingAndGlyphs\" textLength=\"614\" x=\"5\" y=\"186.9688\">portout \"$result\" as E2  [[psysml:f2b0b0cc-45ae-4166-8d5e-a5963ecab31c ]]</text><text fill=\"#33FF02\" font-family=\"sans-serif\" font-size=\"14\" font-weight=\"bold\" lengthAdjust=\"spacingAndGlyphs\" textLength=\"865\" x=\"5\" y=\"203.2656\">rec usage \"test x\" as E3  &lt;&lt;(T,blue)decisionNode&gt;&gt; [[psysml:12adcb2e-22ad-4270-ad09-4bee8bb9d85c ]] {</text><text fill=\"#33FF02\" font-family=\"sans-serif\" font-size=\"14\" font-weight=\"bold\" lengthAdjust=\"spacingAndGlyphs\" textLength=\"10\" x=\"5\" y=\"219.5625\">}</text><text fill=\"#33FF02\" font-family=\"sans-serif\" font-size=\"14\" font-weight=\"bold\" lengthAdjust=\"spacingAndGlyphs\" textLength=\"0\" x=\"10\" y=\"235.8594\"/><text fill=\"#33FF02\" font-family=\"sans-serif\" font-size=\"14\" font-weight=\"bold\" lengthAdjust=\"spacingAndGlyphs\" textLength=\"10\" x=\"5\" y=\"252.1563\">{</text><text fill=\"#FF0000\" font-family=\"sans-serif\" font-size=\"14\" font-weight=\"bold\" lengthAdjust=\"spacingAndGlyphs\" textLength=\"106\" x=\"10\" y=\"268.4531\">Syntax Error?</text><!--MD5=[48fe0807b268cc80a2ae7386f4f49f66]\n",
       "@startuml\r\n",
       "skinparam monochrome true\r\n",
       "skinparam classbackgroundcolor white\r\n",
       "skinparam shadowing false\r\n",
       "skinparam wrapWidth 300\r\n",
       "hide circle\r\n",
       "\r\n",
       "rec def \"DecisionTest\" as E1  <<(T,blue)action def>> [[psysml:04eadb4d-b968-4a2d-91e2-cdec302c279f ]] {\r\n",
       "portout \"$result\" as E2  [[psysml:f2b0b0cc-45ae-4166-8d5e-a5963ecab31c ]] \r\n",
       "rec usage \"test x\" as E3  <<(T,blue)decisionNode>> [[psysml:12adcb2e-22ad-4270-ad09-4bee8bb9d85c ]] {\r\n",
       "}\r\n",
       "\r\n",
       "{\r\n",
       "portout \"$result\" as E4  [[psysml:da91a906-8207-462d-99e2-a18dec940aa7 ]] \r\n",
       "portin \"$x\" as E5  [[psysml:48c17a69-1eb9-4ad6-876e-38a96ca6e086 ]] \r\n",
       "portin \"$y\" as E6  [[psysml:603631ec-51c5-4249-8487-a79a64da6afc ]] \r\n",
       "portout \"$result\" as E7  [[psysml:26e7255e-bbd8-4ac7-a816-6f3abc826445 ]] \r\n",
       "}\r\n",
       "\r\n",
       "{\r\n",
       "portout \"$result\" as E8  [[psysml:34caa6ec-959e-4145-98ad-4a477d59f379 ]] \r\n",
       "portin \"$x\" as E9  [[psysml:a97d47b4-a3dd-4bbd-be98-fc91aed6e874 ]] \r\n",
       "portin \"$y\" as E10  [[psysml:4dcabb7c-801c-43eb-b65b-ea55ba06df11 ]] \r\n",
       "portout \"$result\" as E11  [[psysml:cd7ecfb5-304f-4537-af93-5efd7128d3b2 ]] \r\n",
       "}\r\n",
       "\r\n",
       "{\r\n",
       "}\r\n",
       "\r\n",
       "{\r\n",
       "}\r\n",
       "\r\n",
       "{\r\n",
       "portout \"$result\" as E12  [[psysml:f92bbb85-cf19-4dd5-984f-8fe428e355f9 ]] \r\n",
       "}\r\n",
       "\r\n",
       "{\r\n",
       "portout \"$result\" as E13  [[psysml:b44daa1d-0d17-440b-affc-4aae51a046a3 ]] \r\n",
       "}\r\n",
       "\r\n",
       "rec usage \"A1\" as E14  <<(T,blue)action>> [[psysml:b6d0d4a5-7082-45af-9d99-5627255ed9ae ]] {\r\n",
       "}\r\n",
       "\r\n",
       "rec usage \"A2\" as E15  <<(T,blue)action>> [[psysml:60e701bb-1db7-4263-ad0a-ece44064a54f ]] {\r\n",
       "}\r\n",
       "\r\n",
       "rec usage \"A3\" as E16  <<(T,blue)action>> [[psysml:072d93d2-c298-4f7b-8e67-b467b8356ba8 ]] {\r\n",
       "}\r\n",
       "\r\n",
       "rec usage \"S\" as E17  <<(T,blue)transition>> [[psysml:4c480f3e-de35-416e-b4f4-0f9aff9c2e68 ]] {\r\n",
       "rec usage \"A1\" as E18  <<(T,blue)action>> [[psysml:b6d0d4a5-7082-45af-9d99-5627255ed9ae ]] {\r\n",
       "}\r\n",
       "\r\n",
       "portout \"$result\" as E19  [[psysml:bae59e2e-3013-4238-add2-fcdff8ecd0eb ]] \r\n",
       "portin \"$x\" as E20  [[psysml:1602ff6f-7228-42cf-b9ac-ebc006cdcd92 ]] \r\n",
       "portin \"$y\" as E21  [[psysml:f75bdb3f-e701-450d-b4f7-b218e85bedc6 ]] \r\n",
       "portout \"$result\" as E22  [[psysml:671b30d7-f020-4858-831b-48c54d9c890b ]] \r\n",
       "}\r\n",
       "\r\n",
       "rec usage \"A3\" as E23  <<(T,blue)action>> [[psysml:072d93d2-c298-4f7b-8e67-b467b8356ba8 ]] {\r\n",
       "}\r\n",
       "\r\n",
       "{\r\n",
       "portout \"$result\" as E24  [[psysml:607bce31-a36d-4c4f-abb5-7d6a5b1eba4c ]] \r\n",
       "portin \"$x\" as E25  [[psysml:30d6127f-38d3-47e6-b88f-d8a7d1fd2593 ]] \r\n",
       "portin \"$y\" as E26  [[psysml:c49c5fa4-01bf-436f-878e-c0b2dd911bef ]] \r\n",
       "portout \"$result\" as E27  [[psysml:cfd24cc8-3d79-4a43-93a1-f42931f2c990 ]] \r\n",
       "}\r\n",
       "\r\n",
       "}\r\n",
       "\r\n",
       "@enduml\r\n",
       "\n",
       "PlantUML version 1.2020.13(Sat Jun 13 12:26:38 UTC 2020)\n",
       "(EPL source distribution)\n",
       "Java Runtime: OpenJDK Runtime Environment\n",
       "JVM: OpenJDK 64-Bit Server VM\n",
       "Default Encoding: UTF-8\n",
       "Language: en\n",
       "Country: null\n",
       "--></g></svg>"
      ]
     },
     "execution_count": 37,
     "metadata": {},
     "output_type": "execute_result"
    }
   ],
   "source": [
    "%viz --style=\"DEFAULT\" --view=\"Default\" \"DecisionTest\""
   ]
  },
  {
   "cell_type": "code",
   "execution_count": 38,
   "id": "weekly-assembly",
   "metadata": {
    "execution": {
     "iopub.execute_input": "2021-03-25T09:32:50.178587Z",
     "iopub.status.busy": "2021-03-25T09:32:50.177672Z",
     "iopub.status.idle": "2021-03-25T09:32:50.539668Z",
     "shell.execute_reply": "2021-03-25T09:32:50.540036Z"
    }
   },
   "outputs": [
    {
     "data": {
      "image/svg+xml": [
       "<?xml version=\"1.0\" encoding=\"UTF-8\" standalone=\"no\"?><svg xmlns=\"http://www.w3.org/2000/svg\" xmlns:xlink=\"http://www.w3.org/1999/xlink\" contentScriptType=\"application/ecmascript\" contentStyleType=\"text/css\" height=\"207px\" preserveAspectRatio=\"none\" style=\"width:109px;height:207px;\" version=\"1.1\" viewBox=\"0 0 109 207\" width=\"109px\" zoomAndPan=\"magnify\"><defs/><g><!--MD5=[43c9051892ef23e1a46a86907403d788]\n",
       "class E1--><a href=\"psysml:04eadb4d-b968-4a2d-91e2-cdec302c279f\" target=\"_top\" title=\"psysml:04eadb4d-b968-4a2d-91e2-cdec302c279f\" xlink:actuate=\"onRequest\" xlink:href=\"psysml:04eadb4d-b968-4a2d-91e2-cdec302c279f\" xlink:show=\"new\" xlink:title=\"psysml:04eadb4d-b968-4a2d-91e2-cdec302c279f\" xlink:type=\"simple\"><rect fill=\"#FFFFFF\" height=\"189.9844\" id=\"E1\" style=\"stroke: #383838; stroke-width: 1.5;\" width=\"91\" x=\"7\" y=\"7\"/><text fill=\"#000000\" font-family=\"sans-serif\" font-size=\"12\" font-style=\"italic\" lengthAdjust=\"spacingAndGlyphs\" textLength=\"77\" x=\"14\" y=\"23.1387\">«action def»</text><text fill=\"#000000\" font-family=\"sans-serif\" font-size=\"12\" lengthAdjust=\"spacingAndGlyphs\" textLength=\"80\" x=\"12.5\" y=\"37.1074\">DecisionTest</text><line style=\"stroke: #383838; stroke-width: 1.5;\" x1=\"8\" x2=\"97\" y1=\"44.9375\" y2=\"44.9375\"/><text fill=\"#000000\" font-family=\"sans-serif\" font-size=\"11\" lengthAdjust=\"spacingAndGlyphs\" textLength=\"6\" x=\"13\" y=\"75.9526\">x</text><line style=\"stroke: #383838; stroke-width: 1.0;\" x1=\"8\" x2=\"25\" y1=\"59.3398\" y2=\"59.3398\"/><text fill=\"#000000\" font-family=\"sans-serif\" font-size=\"11\" lengthAdjust=\"spacingAndGlyphs\" textLength=\"55\" x=\"25\" y=\"62.6479\">attributes</text><line style=\"stroke: #383838; stroke-width: 1.0;\" x1=\"80\" x2=\"97\" y1=\"59.3398\" y2=\"59.3398\"/><text fill=\"#000000\" font-family=\"sans-serif\" font-size=\"11\" lengthAdjust=\"spacingAndGlyphs\" textLength=\"14\" x=\"13\" y=\"105.562\">A1</text><text fill=\"#000000\" font-family=\"sans-serif\" font-size=\"11\" lengthAdjust=\"spacingAndGlyphs\" textLength=\"14\" x=\"13\" y=\"118.3667\">A2</text><text fill=\"#000000\" font-family=\"sans-serif\" font-size=\"11\" lengthAdjust=\"spacingAndGlyphs\" textLength=\"14\" x=\"13\" y=\"131.1714\">A3</text><line style=\"stroke: #383838; stroke-width: 1.0;\" x1=\"8\" x2=\"32\" y1=\"88.9492\" y2=\"88.9492\"/><text fill=\"#000000\" font-family=\"sans-serif\" font-size=\"11\" lengthAdjust=\"spacingAndGlyphs\" textLength=\"41\" x=\"32\" y=\"92.2573\">actions</text><line style=\"stroke: #383838; stroke-width: 1.0;\" x1=\"73\" x2=\"97\" y1=\"88.9492\" y2=\"88.9492\"/><text fill=\"#000000\" font-family=\"sans-serif\" font-size=\"11\" lengthAdjust=\"spacingAndGlyphs\" textLength=\"32\" x=\"13\" y=\"160.7808\">test x</text><line style=\"stroke: #383838; stroke-width: 1.0;\" x1=\"8\" x2=\"11\" y1=\"144.168\" y2=\"144.168\"/><text fill=\"#000000\" font-family=\"sans-serif\" font-size=\"11\" lengthAdjust=\"spacingAndGlyphs\" textLength=\"83\" x=\"11\" y=\"147.4761\">decisionNodes</text><line style=\"stroke: #383838; stroke-width: 1.0;\" x1=\"94\" x2=\"97\" y1=\"144.168\" y2=\"144.168\"/><text fill=\"#000000\" font-family=\"sans-serif\" font-size=\"11\" lengthAdjust=\"spacingAndGlyphs\" textLength=\"8\" x=\"13\" y=\"190.3901\">S</text><line style=\"stroke: #383838; stroke-width: 1.0;\" x1=\"8\" x2=\"22\" y1=\"173.7773\" y2=\"173.7773\"/><text fill=\"#000000\" font-family=\"sans-serif\" font-size=\"11\" lengthAdjust=\"spacingAndGlyphs\" textLength=\"61\" x=\"22\" y=\"177.0854\">transitions</text><line style=\"stroke: #383838; stroke-width: 1.0;\" x1=\"83\" x2=\"97\" y1=\"173.7773\" y2=\"173.7773\"/></a><!--MD5=[70f4f3ef12c3bb3d34a301bfda9db2c8]\n",
       "@startuml\r\n",
       "skinparam monochrome true\r\n",
       "skinparam classbackgroundcolor white\r\n",
       "skinparam shadowing false\r\n",
       "skinparam wrapWidth 300\r\n",
       "hide circle\r\n",
       "\r\n",
       "comp def \"DecisionTest\" as E1  <<(T,blue)action def>> [[psysml:04eadb4d-b968-4a2d-91e2-cdec302c279f ]] {\r\n",
       "- - attributes - -\r\n",
       "x\r\n",
       "- - actions - -\r\n",
       "A1\r\n",
       "A2\r\n",
       "A3\r\n",
       "- - decisionNodes - -\r\n",
       "test x\r\n",
       "- - transitions - -\r\n",
       "S\r\n",
       "}\r\n",
       "@enduml\r\n",
       "\n",
       "PlantUML version 1.2020.13(Sat Jun 13 12:26:38 UTC 2020)\n",
       "(EPL source distribution)\n",
       "Java Runtime: OpenJDK Runtime Environment\n",
       "JVM: OpenJDK 64-Bit Server VM\n",
       "Default Encoding: UTF-8\n",
       "Language: en\n",
       "Country: null\n",
       "--></g></svg>"
      ]
     },
     "execution_count": 38,
     "metadata": {},
     "output_type": "execute_result"
    }
   ],
   "source": [
    "%viz --style=\"DEFAULT\" --view=\"Tree\" \"DecisionTest\""
   ]
  },
  {
   "cell_type": "code",
   "execution_count": 39,
   "id": "later-reference",
   "metadata": {
    "execution": {
     "iopub.execute_input": "2021-03-25T09:32:50.590215Z",
     "iopub.status.busy": "2021-03-25T09:32:50.589846Z",
     "iopub.status.idle": "2021-03-25T09:32:50.597661Z",
     "shell.execute_reply": "2021-03-25T09:32:50.597318Z"
    }
   },
   "outputs": [
    {
     "data": {
      "image/svg+xml": [
       "<?xml version=\"1.0\" encoding=\"UTF-8\" standalone=\"no\"?><svg xmlns=\"http://www.w3.org/2000/svg\" xmlns:xlink=\"http://www.w3.org/1999/xlink\" contentScriptType=\"application/ecmascript\" contentStyleType=\"text/css\" height=\"12px\" preserveAspectRatio=\"none\" style=\"width:12px;height:12px;\" version=\"1.1\" viewBox=\"0 0 12 12\" width=\"12px\" zoomAndPan=\"magnify\"><defs/><g><!--MD5=[c5f280e076d0d61ccf4b0f27871bda1d]\n",
       "@startuml\r\n",
       "skinparam monochrome true\r\n",
       "skinparam classbackgroundcolor white\r\n",
       "skinparam shadowing false\r\n",
       "skinparam wrapWidth 300\r\n",
       "hide circle\r\n",
       "\r\n",
       "@enduml\r\n",
       "\n",
       "PlantUML version 1.2020.13(Sat Jun 13 12:26:38 UTC 2020)\n",
       "(EPL source distribution)\n",
       "Java Runtime: OpenJDK Runtime Environment\n",
       "JVM: OpenJDK 64-Bit Server VM\n",
       "Default Encoding: UTF-8\n",
       "Language: en\n",
       "Country: null\n",
       "--></g></svg>"
      ]
     },
     "execution_count": 39,
     "metadata": {},
     "output_type": "execute_result"
    }
   ],
   "source": [
    "%viz --style=\"DEFAULT\" --view=\"State\" \"DecisionTest\""
   ]
  },
  {
   "cell_type": "code",
   "execution_count": 40,
   "id": "interior-occasion",
   "metadata": {
    "execution": {
     "iopub.execute_input": "2021-03-25T09:32:50.648483Z",
     "iopub.status.busy": "2021-03-25T09:32:50.647975Z",
     "iopub.status.idle": "2021-03-25T09:32:50.673235Z",
     "shell.execute_reply": "2021-03-25T09:32:50.672890Z"
    }
   },
   "outputs": [
    {
     "data": {
      "image/svg+xml": [
       "<?xml version=\"1.0\" encoding=\"UTF-8\" standalone=\"no\"?><svg xmlns=\"http://www.w3.org/2000/svg\" xmlns:xlink=\"http://www.w3.org/1999/xlink\" contentScriptType=\"application/ecmascript\" contentStyleType=\"text/css\" height=\"60px\" preserveAspectRatio=\"none\" style=\"width:109px;height:60px;\" version=\"1.1\" viewBox=\"0 0 109 60\" width=\"109px\" zoomAndPan=\"magnify\"><defs/><g><g id=\"E1\"><a href=\"psysml:04eadb4d-b968-4a2d-91e2-cdec302c279f\" target=\"_top\" title=\"psysml:04eadb4d-b968-4a2d-91e2-cdec302c279f\" xlink:actuate=\"onRequest\" xlink:href=\"psysml:04eadb4d-b968-4a2d-91e2-cdec302c279f\" xlink:show=\"new\" xlink:title=\"psysml:04eadb4d-b968-4a2d-91e2-cdec302c279f\" xlink:type=\"simple\"><rect fill=\"#FFFFFF\" height=\"42.9375\" id=\"E1\" style=\"stroke: #383838; stroke-width: 1.5;\" width=\"91\" x=\"7\" y=\"7\"/><rect fill=\"#F8F8F8\" height=\"37.9375\" style=\"stroke: #383838; stroke-width: 1.5;\" width=\"91\" x=\"7\" y=\"7\"/><text fill=\"#000000\" font-family=\"sans-serif\" font-size=\"12\" font-style=\"italic\" lengthAdjust=\"spacingAndGlyphs\" textLength=\"77\" x=\"14\" y=\"23.1387\">«action def»</text><text fill=\"#000000\" font-family=\"sans-serif\" font-size=\"12\" lengthAdjust=\"spacingAndGlyphs\" textLength=\"80\" x=\"12.5\" y=\"37.1074\">DecisionTest</text></a></g><!--MD5=[670129f38072240d2435c03441d01aba]\n",
       "@startuml\r\n",
       "skinparam ranksep 8\r\n",
       "skinparam rectangle {\r\n",
       " backgroundColor<<block>> LightGreen\r\n",
       "}\r\n",
       "skinparam monochrome true\r\n",
       "skinparam classbackgroundcolor white\r\n",
       "skinparam shadowing false\r\n",
       "skinparam wrapWidth 300\r\n",
       "hide circle\r\n",
       "\r\n",
       "def \"DecisionTest\" as E1  <<(T,blue)action def>> [[psysml:04eadb4d-b968-4a2d-91e2-cdec302c279f ]] \r\n",
       "@enduml\r\n",
       "\n",
       "PlantUML version 1.2020.13(Sat Jun 13 12:26:38 UTC 2020)\n",
       "(EPL source distribution)\n",
       "Java Runtime: OpenJDK Runtime Environment\n",
       "JVM: OpenJDK 64-Bit Server VM\n",
       "Default Encoding: UTF-8\n",
       "Language: en\n",
       "Country: null\n",
       "--></g></svg>"
      ]
     },
     "execution_count": 40,
     "metadata": {},
     "output_type": "execute_result"
    }
   ],
   "source": [
    "%viz --style=\"DEFAULT\" --view=\"Interconnection\" \"DecisionTest\""
   ]
  },
  {
   "cell_type": "code",
   "execution_count": 41,
   "id": "romantic-theorem",
   "metadata": {
    "execution": {
     "iopub.execute_input": "2021-03-25T09:32:50.724049Z",
     "iopub.status.busy": "2021-03-25T09:32:50.723519Z",
     "iopub.status.idle": "2021-03-25T09:32:50.752997Z",
     "shell.execute_reply": "2021-03-25T09:32:50.750775Z"
    }
   },
   "outputs": [
    {
     "data": {
      "image/svg+xml": [
       "<?xml version=\"1.0\" encoding=\"UTF-8\" standalone=\"no\"?><svg xmlns=\"http://www.w3.org/2000/svg\" xmlns:xlink=\"http://www.w3.org/1999/xlink\" contentScriptType=\"application/ecmascript\" contentStyleType=\"text/css\" height=\"288px\" preserveAspectRatio=\"none\" style=\"width:875px;height:288px;background:#000000;\" version=\"1.1\" viewBox=\"0 0 875 288\" width=\"875px\" zoomAndPan=\"magnify\"><defs/><g><rect fill=\"#002316\" height=\"1\" style=\"stroke: #002316; stroke-width: 1.0;\" width=\"1\" x=\"0\" y=\"0\"/><rect fill=\"#33FF02\" height=\"21.2969\" style=\"stroke: #33FF02; stroke-width: 1.0;\" width=\"868\" x=\"5\" y=\"5\"/><text fill=\"#000000\" font-family=\"sans-serif\" font-size=\"14\" font-weight=\"bold\" lengthAdjust=\"spacingAndGlyphs\" textLength=\"178\" x=\"6\" y=\"20\">[From string (line 14) ]</text><text fill=\"#33FF02\" font-family=\"sans-serif\" font-size=\"14\" font-weight=\"bold\" lengthAdjust=\"spacingAndGlyphs\" textLength=\"0\" x=\"10\" y=\"40.2969\"/><text fill=\"#33FF02\" font-family=\"sans-serif\" font-size=\"14\" font-weight=\"bold\" lengthAdjust=\"spacingAndGlyphs\" textLength=\"79\" x=\"5\" y=\"56.5938\">@startuml</text><text fill=\"#33FF02\" font-family=\"sans-serif\" font-size=\"14\" font-weight=\"bold\" lengthAdjust=\"spacingAndGlyphs\" textLength=\"165\" x=\"5\" y=\"72.8906\">skinparam ranksep 8</text><text fill=\"#33FF02\" font-family=\"sans-serif\" font-size=\"14\" font-weight=\"bold\" lengthAdjust=\"spacingAndGlyphs\" textLength=\"228\" x=\"5\" y=\"89.1875\">skinparam monochrome true</text><text fill=\"#33FF02\" font-family=\"sans-serif\" font-size=\"14\" font-weight=\"bold\" lengthAdjust=\"spacingAndGlyphs\" textLength=\"309\" x=\"5\" y=\"105.4844\">skinparam classbackgroundcolor white</text><text fill=\"#33FF02\" font-family=\"sans-serif\" font-size=\"14\" font-weight=\"bold\" lengthAdjust=\"spacingAndGlyphs\" textLength=\"215\" x=\"5\" y=\"121.7813\">skinparam shadowing false</text><text fill=\"#33FF02\" font-family=\"sans-serif\" font-size=\"14\" font-weight=\"bold\" lengthAdjust=\"spacingAndGlyphs\" textLength=\"206\" x=\"5\" y=\"138.0781\">skinparam wrapWidth 300</text><text fill=\"#33FF02\" font-family=\"sans-serif\" font-size=\"14\" font-weight=\"bold\" lengthAdjust=\"spacingAndGlyphs\" textLength=\"82\" x=\"5\" y=\"154.375\">hide circle</text><text fill=\"#33FF02\" font-family=\"sans-serif\" font-size=\"14\" font-weight=\"bold\" lengthAdjust=\"spacingAndGlyphs\" textLength=\"0\" x=\"10\" y=\"170.6719\"/><text fill=\"#33FF02\" font-family=\"sans-serif\" font-size=\"14\" font-weight=\"bold\" lengthAdjust=\"spacingAndGlyphs\" textLength=\"868\" x=\"5\" y=\"186.9688\">rec def \"DecisionTest\" as E1  &lt;&lt;(T,blue)action def&gt;&gt; [[psysml:04eadb4d-b968-4a2d-91e2-cdec302c279f ]] {</text><text fill=\"#33FF02\" font-family=\"sans-serif\" font-size=\"14\" font-weight=\"bold\" lengthAdjust=\"spacingAndGlyphs\" textLength=\"614\" x=\"5\" y=\"203.2656\">portout \"$result\" as E2  [[psysml:f2b0b0cc-45ae-4166-8d5e-a5963ecab31c ]]</text><text fill=\"#33FF02\" font-family=\"sans-serif\" font-size=\"14\" font-weight=\"bold\" lengthAdjust=\"spacingAndGlyphs\" textLength=\"865\" x=\"5\" y=\"219.5625\">rec usage \"test x\" as E3  &lt;&lt;(T,blue)decisionNode&gt;&gt; [[psysml:12adcb2e-22ad-4270-ad09-4bee8bb9d85c ]] {</text><text fill=\"#33FF02\" font-family=\"sans-serif\" font-size=\"14\" font-weight=\"bold\" lengthAdjust=\"spacingAndGlyphs\" textLength=\"10\" x=\"5\" y=\"235.8594\">}</text><text fill=\"#33FF02\" font-family=\"sans-serif\" font-size=\"14\" font-weight=\"bold\" lengthAdjust=\"spacingAndGlyphs\" textLength=\"0\" x=\"10\" y=\"252.1563\"/><text fill=\"#33FF02\" font-family=\"sans-serif\" font-size=\"14\" font-weight=\"bold\" lengthAdjust=\"spacingAndGlyphs\" textLength=\"10\" x=\"5\" y=\"268.4531\">{</text><text fill=\"#FF0000\" font-family=\"sans-serif\" font-size=\"14\" font-weight=\"bold\" lengthAdjust=\"spacingAndGlyphs\" textLength=\"106\" x=\"10\" y=\"284.75\">Syntax Error?</text><!--MD5=[9a5f2a4a04c5f11736f4fb63f3b7032b]\n",
       "@startuml\r\n",
       "skinparam ranksep 8\r\n",
       "skinparam monochrome true\r\n",
       "skinparam classbackgroundcolor white\r\n",
       "skinparam shadowing false\r\n",
       "skinparam wrapWidth 300\r\n",
       "hide circle\r\n",
       "\r\n",
       "rec def \"DecisionTest\" as E1  <<(T,blue)action def>> [[psysml:04eadb4d-b968-4a2d-91e2-cdec302c279f ]] {\r\n",
       "portout \"$result\" as E2  [[psysml:f2b0b0cc-45ae-4166-8d5e-a5963ecab31c ]] \r\n",
       "rec usage \"test x\" as E3  <<(T,blue)decisionNode>> [[psysml:12adcb2e-22ad-4270-ad09-4bee8bb9d85c ]] {\r\n",
       "}\r\n",
       "\r\n",
       "{\r\n",
       "portout \"$result\" as E4  [[psysml:da91a906-8207-462d-99e2-a18dec940aa7 ]] \r\n",
       "portin \"$x\" as E5  [[psysml:48c17a69-1eb9-4ad6-876e-38a96ca6e086 ]] \r\n",
       "portin \"$y\" as E6  [[psysml:603631ec-51c5-4249-8487-a79a64da6afc ]] \r\n",
       "portout \"$result\" as E7  [[psysml:26e7255e-bbd8-4ac7-a816-6f3abc826445 ]] \r\n",
       "}\r\n",
       "\r\n",
       "{\r\n",
       "portout \"$result\" as E8  [[psysml:34caa6ec-959e-4145-98ad-4a477d59f379 ]] \r\n",
       "portin \"$x\" as E9  [[psysml:a97d47b4-a3dd-4bbd-be98-fc91aed6e874 ]] \r\n",
       "portin \"$y\" as E10  [[psysml:4dcabb7c-801c-43eb-b65b-ea55ba06df11 ]] \r\n",
       "portout \"$result\" as E11  [[psysml:cd7ecfb5-304f-4537-af93-5efd7128d3b2 ]] \r\n",
       "}\r\n",
       "\r\n",
       "{\r\n",
       "}\r\n",
       "\r\n",
       "{\r\n",
       "}\r\n",
       "\r\n",
       "{\r\n",
       "portout \"$result\" as E12  [[psysml:f92bbb85-cf19-4dd5-984f-8fe428e355f9 ]] \r\n",
       "}\r\n",
       "\r\n",
       "{\r\n",
       "portout \"$result\" as E13  [[psysml:b44daa1d-0d17-440b-affc-4aae51a046a3 ]] \r\n",
       "}\r\n",
       "\r\n",
       "rec usage \"A1\" as E14  <<(T,blue)action>> [[psysml:b6d0d4a5-7082-45af-9d99-5627255ed9ae ]] {\r\n",
       "}\r\n",
       "\r\n",
       "rec usage \"A2\" as E15  <<(T,blue)action>> [[psysml:60e701bb-1db7-4263-ad0a-ece44064a54f ]] {\r\n",
       "}\r\n",
       "\r\n",
       "rec usage \"A3\" as E16  <<(T,blue)action>> [[psysml:072d93d2-c298-4f7b-8e67-b467b8356ba8 ]] {\r\n",
       "}\r\n",
       "\r\n",
       "rec usage \"S\" as E17  <<(T,blue)transition>> [[psysml:4c480f3e-de35-416e-b4f4-0f9aff9c2e68 ]] {\r\n",
       "rec usage \"A1\" as E18  <<(T,blue)action>> [[psysml:b6d0d4a5-7082-45af-9d99-5627255ed9ae ]] {\r\n",
       "}\r\n",
       "\r\n",
       "portout \"$result\" as E19  [[psysml:bae59e2e-3013-4238-add2-fcdff8ecd0eb ]] \r\n",
       "portin \"$x\" as E20  [[psysml:1602ff6f-7228-42cf-b9ac-ebc006cdcd92 ]] \r\n",
       "portin \"$y\" as E21  [[psysml:f75bdb3f-e701-450d-b4f7-b218e85bedc6 ]] \r\n",
       "portout \"$result\" as E22  [[psysml:671b30d7-f020-4858-831b-48c54d9c890b ]] \r\n",
       "}\r\n",
       "\r\n",
       "rec usage \"A3\" as E23  <<(T,blue)action>> [[psysml:072d93d2-c298-4f7b-8e67-b467b8356ba8 ]] {\r\n",
       "}\r\n",
       "\r\n",
       "{\r\n",
       "portout \"$result\" as E24  [[psysml:607bce31-a36d-4c4f-abb5-7d6a5b1eba4c ]] \r\n",
       "portin \"$x\" as E25  [[psysml:30d6127f-38d3-47e6-b88f-d8a7d1fd2593 ]] \r\n",
       "portin \"$y\" as E26  [[psysml:c49c5fa4-01bf-436f-878e-c0b2dd911bef ]] \r\n",
       "portout \"$result\" as E27  [[psysml:cfd24cc8-3d79-4a43-93a1-f42931f2c990 ]] \r\n",
       "}\r\n",
       "\r\n",
       "}\r\n",
       "\r\n",
       "@enduml\r\n",
       "\n",
       "PlantUML version 1.2020.13(Sat Jun 13 12:26:38 UTC 2020)\n",
       "(EPL source distribution)\n",
       "Java Runtime: OpenJDK Runtime Environment\n",
       "JVM: OpenJDK 64-Bit Server VM\n",
       "Default Encoding: UTF-8\n",
       "Language: en\n",
       "Country: null\n",
       "--></g></svg>"
      ]
     },
     "execution_count": 41,
     "metadata": {},
     "output_type": "execute_result"
    }
   ],
   "source": [
    "%viz --style=\"DEFAULT\" --view=\"Action\" \"DecisionTest\""
   ]
  },
  {
   "cell_type": "code",
   "execution_count": 42,
   "id": "twenty-maria",
   "metadata": {
    "execution": {
     "iopub.execute_input": "2021-03-25T09:32:50.801925Z",
     "iopub.status.busy": "2021-03-25T09:32:50.801185Z",
     "iopub.status.idle": "2021-03-25T09:32:51.117959Z",
     "shell.execute_reply": "2021-03-25T09:32:51.117538Z"
    }
   },
   "outputs": [
    {
     "data": {
      "image/svg+xml": [
       "<?xml version=\"1.0\" encoding=\"UTF-8\" standalone=\"no\"?><svg xmlns=\"http://www.w3.org/2000/svg\" xmlns:xlink=\"http://www.w3.org/1999/xlink\" contentScriptType=\"application/ecmascript\" contentStyleType=\"text/css\" height=\"207px\" preserveAspectRatio=\"none\" style=\"width:109px;height:207px;\" version=\"1.1\" viewBox=\"0 0 109 207\" width=\"109px\" zoomAndPan=\"magnify\"><defs/><g><!--MD5=[43c9051892ef23e1a46a86907403d788]\n",
       "class E1--><a href=\"psysml:04eadb4d-b968-4a2d-91e2-cdec302c279f\" target=\"_top\" title=\"psysml:04eadb4d-b968-4a2d-91e2-cdec302c279f\" xlink:actuate=\"onRequest\" xlink:href=\"psysml:04eadb4d-b968-4a2d-91e2-cdec302c279f\" xlink:show=\"new\" xlink:title=\"psysml:04eadb4d-b968-4a2d-91e2-cdec302c279f\" xlink:type=\"simple\"><rect fill=\"#FFFFFF\" height=\"189.9844\" id=\"E1\" style=\"stroke: #383838; stroke-width: 1.5;\" width=\"91\" x=\"7\" y=\"7\"/><text fill=\"#000000\" font-family=\"sans-serif\" font-size=\"12\" font-style=\"italic\" lengthAdjust=\"spacingAndGlyphs\" textLength=\"77\" x=\"14\" y=\"23.1387\">«action def»</text><text fill=\"#000000\" font-family=\"sans-serif\" font-size=\"12\" lengthAdjust=\"spacingAndGlyphs\" textLength=\"80\" x=\"12.5\" y=\"37.1074\">DecisionTest</text><line style=\"stroke: #383838; stroke-width: 1.5;\" x1=\"8\" x2=\"97\" y1=\"44.9375\" y2=\"44.9375\"/><text fill=\"#000000\" font-family=\"sans-serif\" font-size=\"11\" lengthAdjust=\"spacingAndGlyphs\" textLength=\"6\" x=\"13\" y=\"75.9526\">x</text><line style=\"stroke: #383838; stroke-width: 1.0;\" x1=\"8\" x2=\"25\" y1=\"59.3398\" y2=\"59.3398\"/><text fill=\"#000000\" font-family=\"sans-serif\" font-size=\"11\" lengthAdjust=\"spacingAndGlyphs\" textLength=\"55\" x=\"25\" y=\"62.6479\">attributes</text><line style=\"stroke: #383838; stroke-width: 1.0;\" x1=\"80\" x2=\"97\" y1=\"59.3398\" y2=\"59.3398\"/><text fill=\"#000000\" font-family=\"sans-serif\" font-size=\"11\" lengthAdjust=\"spacingAndGlyphs\" textLength=\"14\" x=\"13\" y=\"105.562\">A1</text><text fill=\"#000000\" font-family=\"sans-serif\" font-size=\"11\" lengthAdjust=\"spacingAndGlyphs\" textLength=\"14\" x=\"13\" y=\"118.3667\">A2</text><text fill=\"#000000\" font-family=\"sans-serif\" font-size=\"11\" lengthAdjust=\"spacingAndGlyphs\" textLength=\"14\" x=\"13\" y=\"131.1714\">A3</text><line style=\"stroke: #383838; stroke-width: 1.0;\" x1=\"8\" x2=\"32\" y1=\"88.9492\" y2=\"88.9492\"/><text fill=\"#000000\" font-family=\"sans-serif\" font-size=\"11\" lengthAdjust=\"spacingAndGlyphs\" textLength=\"41\" x=\"32\" y=\"92.2573\">actions</text><line style=\"stroke: #383838; stroke-width: 1.0;\" x1=\"73\" x2=\"97\" y1=\"88.9492\" y2=\"88.9492\"/><text fill=\"#000000\" font-family=\"sans-serif\" font-size=\"11\" lengthAdjust=\"spacingAndGlyphs\" textLength=\"32\" x=\"13\" y=\"160.7808\">test x</text><line style=\"stroke: #383838; stroke-width: 1.0;\" x1=\"8\" x2=\"11\" y1=\"144.168\" y2=\"144.168\"/><text fill=\"#000000\" font-family=\"sans-serif\" font-size=\"11\" lengthAdjust=\"spacingAndGlyphs\" textLength=\"83\" x=\"11\" y=\"147.4761\">decisionNodes</text><line style=\"stroke: #383838; stroke-width: 1.0;\" x1=\"94\" x2=\"97\" y1=\"144.168\" y2=\"144.168\"/><text fill=\"#000000\" font-family=\"sans-serif\" font-size=\"11\" lengthAdjust=\"spacingAndGlyphs\" textLength=\"8\" x=\"13\" y=\"190.3901\">S</text><line style=\"stroke: #383838; stroke-width: 1.0;\" x1=\"8\" x2=\"22\" y1=\"173.7773\" y2=\"173.7773\"/><text fill=\"#000000\" font-family=\"sans-serif\" font-size=\"11\" lengthAdjust=\"spacingAndGlyphs\" textLength=\"61\" x=\"22\" y=\"177.0854\">transitions</text><line style=\"stroke: #383838; stroke-width: 1.0;\" x1=\"83\" x2=\"97\" y1=\"173.7773\" y2=\"173.7773\"/></a><!--MD5=[70f4f3ef12c3bb3d34a301bfda9db2c8]\n",
       "@startuml\r\n",
       "skinparam monochrome true\r\n",
       "skinparam classbackgroundcolor white\r\n",
       "skinparam shadowing false\r\n",
       "skinparam wrapWidth 300\r\n",
       "hide circle\r\n",
       "\r\n",
       "comp def \"DecisionTest\" as E1  <<(T,blue)action def>> [[psysml:04eadb4d-b968-4a2d-91e2-cdec302c279f ]] {\r\n",
       "- - attributes - -\r\n",
       "x\r\n",
       "- - actions - -\r\n",
       "A1\r\n",
       "A2\r\n",
       "A3\r\n",
       "- - decisionNodes - -\r\n",
       "test x\r\n",
       "- - transitions - -\r\n",
       "S\r\n",
       "}\r\n",
       "@enduml\r\n",
       "\n",
       "PlantUML version 1.2020.13(Sat Jun 13 12:26:38 UTC 2020)\n",
       "(EPL source distribution)\n",
       "Java Runtime: OpenJDK Runtime Environment\n",
       "JVM: OpenJDK 64-Bit Server VM\n",
       "Default Encoding: UTF-8\n",
       "Language: en\n",
       "Country: null\n",
       "--></g></svg>"
      ]
     },
     "execution_count": 42,
     "metadata": {},
     "output_type": "execute_result"
    }
   ],
   "source": [
    "%viz --style=\"DEFAULT\" --view=\"Sequence\" \"DecisionTest\""
   ]
  },
  {
   "cell_type": "code",
   "execution_count": 43,
   "id": "valuable-avenue",
   "metadata": {
    "execution": {
     "iopub.execute_input": "2021-03-25T09:32:51.169277Z",
     "iopub.status.busy": "2021-03-25T09:32:51.168737Z",
     "iopub.status.idle": "2021-03-25T09:32:51.198509Z",
     "shell.execute_reply": "2021-03-25T09:32:51.196652Z"
    }
   },
   "outputs": [
    {
     "data": {
      "image/svg+xml": [
       "<?xml version=\"1.0\" encoding=\"UTF-8\" standalone=\"no\"?><svg xmlns=\"http://www.w3.org/2000/svg\" xmlns:xlink=\"http://www.w3.org/1999/xlink\" contentScriptType=\"application/ecmascript\" contentStyleType=\"text/css\" height=\"271px\" preserveAspectRatio=\"none\" style=\"width:875px;height:271px;background:#000000;\" version=\"1.1\" viewBox=\"0 0 875 271\" width=\"875px\" zoomAndPan=\"magnify\"><defs/><g><rect fill=\"#031D27\" height=\"1\" style=\"stroke: #031D27; stroke-width: 1.0;\" width=\"1\" x=\"0\" y=\"0\"/><rect fill=\"#33FF02\" height=\"21.2969\" style=\"stroke: #33FF02; stroke-width: 1.0;\" width=\"868\" x=\"5\" y=\"5\"/><text fill=\"#000000\" font-family=\"sans-serif\" font-size=\"14\" font-weight=\"bold\" lengthAdjust=\"spacingAndGlyphs\" textLength=\"178\" x=\"6\" y=\"20\">[From string (line 13) ]</text><text fill=\"#33FF02\" font-family=\"sans-serif\" font-size=\"14\" font-weight=\"bold\" lengthAdjust=\"spacingAndGlyphs\" textLength=\"0\" x=\"10\" y=\"40.2969\"/><text fill=\"#33FF02\" font-family=\"sans-serif\" font-size=\"14\" font-weight=\"bold\" lengthAdjust=\"spacingAndGlyphs\" textLength=\"79\" x=\"5\" y=\"56.5938\">@startuml</text><text fill=\"#33FF02\" font-family=\"sans-serif\" font-size=\"14\" font-weight=\"bold\" lengthAdjust=\"spacingAndGlyphs\" textLength=\"228\" x=\"5\" y=\"72.8906\">skinparam monochrome true</text><text fill=\"#33FF02\" font-family=\"sans-serif\" font-size=\"14\" font-weight=\"bold\" lengthAdjust=\"spacingAndGlyphs\" textLength=\"309\" x=\"5\" y=\"89.1875\">skinparam classbackgroundcolor white</text><text fill=\"#33FF02\" font-family=\"sans-serif\" font-size=\"14\" font-weight=\"bold\" lengthAdjust=\"spacingAndGlyphs\" textLength=\"215\" x=\"5\" y=\"105.4844\">skinparam shadowing false</text><text fill=\"#33FF02\" font-family=\"sans-serif\" font-size=\"14\" font-weight=\"bold\" lengthAdjust=\"spacingAndGlyphs\" textLength=\"206\" x=\"5\" y=\"121.7813\">skinparam wrapWidth 300</text><text fill=\"#33FF02\" font-family=\"sans-serif\" font-size=\"14\" font-weight=\"bold\" lengthAdjust=\"spacingAndGlyphs\" textLength=\"82\" x=\"5\" y=\"138.0781\">hide circle</text><text fill=\"#33FF02\" font-family=\"sans-serif\" font-size=\"14\" font-weight=\"bold\" lengthAdjust=\"spacingAndGlyphs\" textLength=\"0\" x=\"10\" y=\"154.375\"/><text fill=\"#33FF02\" font-family=\"sans-serif\" font-size=\"14\" font-weight=\"bold\" lengthAdjust=\"spacingAndGlyphs\" textLength=\"868\" x=\"5\" y=\"170.6719\">rec def \"DecisionTest\" as E1  &lt;&lt;(T,blue)action def&gt;&gt; [[psysml:04eadb4d-b968-4a2d-91e2-cdec302c279f ]] {</text><text fill=\"#33FF02\" font-family=\"sans-serif\" font-size=\"14\" font-weight=\"bold\" lengthAdjust=\"spacingAndGlyphs\" textLength=\"614\" x=\"5\" y=\"186.9688\">portout \"$result\" as E2  [[psysml:f2b0b0cc-45ae-4166-8d5e-a5963ecab31c ]]</text><text fill=\"#33FF02\" font-family=\"sans-serif\" font-size=\"14\" font-weight=\"bold\" lengthAdjust=\"spacingAndGlyphs\" textLength=\"865\" x=\"5\" y=\"203.2656\">rec usage \"test x\" as E3  &lt;&lt;(T,blue)decisionNode&gt;&gt; [[psysml:12adcb2e-22ad-4270-ad09-4bee8bb9d85c ]] {</text><text fill=\"#33FF02\" font-family=\"sans-serif\" font-size=\"14\" font-weight=\"bold\" lengthAdjust=\"spacingAndGlyphs\" textLength=\"10\" x=\"5\" y=\"219.5625\">}</text><text fill=\"#33FF02\" font-family=\"sans-serif\" font-size=\"14\" font-weight=\"bold\" lengthAdjust=\"spacingAndGlyphs\" textLength=\"0\" x=\"10\" y=\"235.8594\"/><text fill=\"#33FF02\" font-family=\"sans-serif\" font-size=\"14\" font-weight=\"bold\" lengthAdjust=\"spacingAndGlyphs\" textLength=\"10\" x=\"5\" y=\"252.1563\">{</text><text fill=\"#FF0000\" font-family=\"sans-serif\" font-size=\"14\" font-weight=\"bold\" lengthAdjust=\"spacingAndGlyphs\" textLength=\"106\" x=\"10\" y=\"268.4531\">Syntax Error?</text><!--MD5=[48fe0807b268cc80a2ae7386f4f49f66]\n",
       "@startuml\r\n",
       "skinparam monochrome true\r\n",
       "skinparam classbackgroundcolor white\r\n",
       "skinparam shadowing false\r\n",
       "skinparam wrapWidth 300\r\n",
       "hide circle\r\n",
       "\r\n",
       "rec def \"DecisionTest\" as E1  <<(T,blue)action def>> [[psysml:04eadb4d-b968-4a2d-91e2-cdec302c279f ]] {\r\n",
       "portout \"$result\" as E2  [[psysml:f2b0b0cc-45ae-4166-8d5e-a5963ecab31c ]] \r\n",
       "rec usage \"test x\" as E3  <<(T,blue)decisionNode>> [[psysml:12adcb2e-22ad-4270-ad09-4bee8bb9d85c ]] {\r\n",
       "}\r\n",
       "\r\n",
       "{\r\n",
       "portout \"$result\" as E4  [[psysml:da91a906-8207-462d-99e2-a18dec940aa7 ]] \r\n",
       "portin \"$x\" as E5  [[psysml:48c17a69-1eb9-4ad6-876e-38a96ca6e086 ]] \r\n",
       "portin \"$y\" as E6  [[psysml:603631ec-51c5-4249-8487-a79a64da6afc ]] \r\n",
       "portout \"$result\" as E7  [[psysml:26e7255e-bbd8-4ac7-a816-6f3abc826445 ]] \r\n",
       "}\r\n",
       "\r\n",
       "{\r\n",
       "portout \"$result\" as E8  [[psysml:34caa6ec-959e-4145-98ad-4a477d59f379 ]] \r\n",
       "portin \"$x\" as E9  [[psysml:a97d47b4-a3dd-4bbd-be98-fc91aed6e874 ]] \r\n",
       "portin \"$y\" as E10  [[psysml:4dcabb7c-801c-43eb-b65b-ea55ba06df11 ]] \r\n",
       "portout \"$result\" as E11  [[psysml:cd7ecfb5-304f-4537-af93-5efd7128d3b2 ]] \r\n",
       "}\r\n",
       "\r\n",
       "{\r\n",
       "}\r\n",
       "\r\n",
       "{\r\n",
       "}\r\n",
       "\r\n",
       "{\r\n",
       "portout \"$result\" as E12  [[psysml:f92bbb85-cf19-4dd5-984f-8fe428e355f9 ]] \r\n",
       "}\r\n",
       "\r\n",
       "{\r\n",
       "portout \"$result\" as E13  [[psysml:b44daa1d-0d17-440b-affc-4aae51a046a3 ]] \r\n",
       "}\r\n",
       "\r\n",
       "rec usage \"A1\" as E14  <<(T,blue)action>> [[psysml:b6d0d4a5-7082-45af-9d99-5627255ed9ae ]] {\r\n",
       "}\r\n",
       "\r\n",
       "rec usage \"A2\" as E15  <<(T,blue)action>> [[psysml:60e701bb-1db7-4263-ad0a-ece44064a54f ]] {\r\n",
       "}\r\n",
       "\r\n",
       "rec usage \"A3\" as E16  <<(T,blue)action>> [[psysml:072d93d2-c298-4f7b-8e67-b467b8356ba8 ]] {\r\n",
       "}\r\n",
       "\r\n",
       "rec usage \"S\" as E17  <<(T,blue)transition>> [[psysml:4c480f3e-de35-416e-b4f4-0f9aff9c2e68 ]] {\r\n",
       "rec usage \"A1\" as E18  <<(T,blue)action>> [[psysml:b6d0d4a5-7082-45af-9d99-5627255ed9ae ]] {\r\n",
       "}\r\n",
       "\r\n",
       "portout \"$result\" as E19  [[psysml:bae59e2e-3013-4238-add2-fcdff8ecd0eb ]] \r\n",
       "portin \"$x\" as E20  [[psysml:1602ff6f-7228-42cf-b9ac-ebc006cdcd92 ]] \r\n",
       "portin \"$y\" as E21  [[psysml:f75bdb3f-e701-450d-b4f7-b218e85bedc6 ]] \r\n",
       "portout \"$result\" as E22  [[psysml:671b30d7-f020-4858-831b-48c54d9c890b ]] \r\n",
       "}\r\n",
       "\r\n",
       "rec usage \"A3\" as E23  <<(T,blue)action>> [[psysml:072d93d2-c298-4f7b-8e67-b467b8356ba8 ]] {\r\n",
       "}\r\n",
       "\r\n",
       "{\r\n",
       "portout \"$result\" as E24  [[psysml:607bce31-a36d-4c4f-abb5-7d6a5b1eba4c ]] \r\n",
       "portin \"$x\" as E25  [[psysml:30d6127f-38d3-47e6-b88f-d8a7d1fd2593 ]] \r\n",
       "portin \"$y\" as E26  [[psysml:c49c5fa4-01bf-436f-878e-c0b2dd911bef ]] \r\n",
       "portout \"$result\" as E27  [[psysml:cfd24cc8-3d79-4a43-93a1-f42931f2c990 ]] \r\n",
       "}\r\n",
       "\r\n",
       "}\r\n",
       "\r\n",
       "@enduml\r\n",
       "\n",
       "PlantUML version 1.2020.13(Sat Jun 13 12:26:38 UTC 2020)\n",
       "(EPL source distribution)\n",
       "Java Runtime: OpenJDK Runtime Environment\n",
       "JVM: OpenJDK 64-Bit Server VM\n",
       "Default Encoding: UTF-8\n",
       "Language: en\n",
       "Country: null\n",
       "--></g></svg>"
      ]
     },
     "execution_count": 43,
     "metadata": {},
     "output_type": "execute_result"
    }
   ],
   "source": [
    "%viz --style=\"DEFAULT\" --view=\"MIXED\" \"DecisionTest\""
   ]
  },
  {
   "cell_type": "code",
   "execution_count": 44,
   "id": "minus-wallet",
   "metadata": {
    "execution": {
     "iopub.execute_input": "2021-03-25T09:32:51.248912Z",
     "iopub.status.busy": "2021-03-25T09:32:51.248416Z",
     "iopub.status.idle": "2021-03-25T09:32:51.269814Z",
     "shell.execute_reply": "2021-03-25T09:32:51.268659Z"
    }
   },
   "outputs": [
    {
     "data": {
      "image/svg+xml": [
       "<?xml version=\"1.0\" encoding=\"UTF-8\" standalone=\"no\"?><svg xmlns=\"http://www.w3.org/2000/svg\" xmlns:xlink=\"http://www.w3.org/1999/xlink\" contentScriptType=\"application/ecmascript\" contentStyleType=\"text/css\" height=\"288px\" preserveAspectRatio=\"none\" style=\"width:875px;height:288px;background:#000000;\" version=\"1.1\" viewBox=\"0 0 875 288\" width=\"875px\" zoomAndPan=\"magnify\"><defs/><g><rect fill=\"#25001A\" height=\"1\" style=\"stroke: #25001A; stroke-width: 1.0;\" width=\"1\" x=\"0\" y=\"0\"/><rect fill=\"#33FF02\" height=\"21.2969\" style=\"stroke: #33FF02; stroke-width: 1.0;\" width=\"868\" x=\"5\" y=\"5\"/><text fill=\"#000000\" font-family=\"sans-serif\" font-size=\"14\" font-weight=\"bold\" lengthAdjust=\"spacingAndGlyphs\" textLength=\"178\" x=\"6\" y=\"20\">[From string (line 14) ]</text><text fill=\"#33FF02\" font-family=\"sans-serif\" font-size=\"14\" font-weight=\"bold\" lengthAdjust=\"spacingAndGlyphs\" textLength=\"0\" x=\"10\" y=\"40.2969\"/><text fill=\"#33FF02\" font-family=\"sans-serif\" font-size=\"14\" font-weight=\"bold\" lengthAdjust=\"spacingAndGlyphs\" textLength=\"79\" x=\"5\" y=\"56.5938\">@startuml</text><text fill=\"#33FF02\" font-family=\"sans-serif\" font-size=\"14\" font-weight=\"bold\" lengthAdjust=\"spacingAndGlyphs\" textLength=\"183\" x=\"5\" y=\"72.8906\">top to bottom direction</text><text fill=\"#33FF02\" font-family=\"sans-serif\" font-size=\"14\" font-weight=\"bold\" lengthAdjust=\"spacingAndGlyphs\" textLength=\"228\" x=\"5\" y=\"89.1875\">skinparam monochrome true</text><text fill=\"#33FF02\" font-family=\"sans-serif\" font-size=\"14\" font-weight=\"bold\" lengthAdjust=\"spacingAndGlyphs\" textLength=\"309\" x=\"5\" y=\"105.4844\">skinparam classbackgroundcolor white</text><text fill=\"#33FF02\" font-family=\"sans-serif\" font-size=\"14\" font-weight=\"bold\" lengthAdjust=\"spacingAndGlyphs\" textLength=\"215\" x=\"5\" y=\"121.7813\">skinparam shadowing false</text><text fill=\"#33FF02\" font-family=\"sans-serif\" font-size=\"14\" font-weight=\"bold\" lengthAdjust=\"spacingAndGlyphs\" textLength=\"206\" x=\"5\" y=\"138.0781\">skinparam wrapWidth 300</text><text fill=\"#33FF02\" font-family=\"sans-serif\" font-size=\"14\" font-weight=\"bold\" lengthAdjust=\"spacingAndGlyphs\" textLength=\"82\" x=\"5\" y=\"154.375\">hide circle</text><text fill=\"#33FF02\" font-family=\"sans-serif\" font-size=\"14\" font-weight=\"bold\" lengthAdjust=\"spacingAndGlyphs\" textLength=\"0\" x=\"10\" y=\"170.6719\"/><text fill=\"#33FF02\" font-family=\"sans-serif\" font-size=\"14\" font-weight=\"bold\" lengthAdjust=\"spacingAndGlyphs\" textLength=\"868\" x=\"5\" y=\"186.9688\">rec def \"DecisionTest\" as E1  &lt;&lt;(T,blue)action def&gt;&gt; [[psysml:04eadb4d-b968-4a2d-91e2-cdec302c279f ]] {</text><text fill=\"#33FF02\" font-family=\"sans-serif\" font-size=\"14\" font-weight=\"bold\" lengthAdjust=\"spacingAndGlyphs\" textLength=\"614\" x=\"5\" y=\"203.2656\">portout \"$result\" as E2  [[psysml:f2b0b0cc-45ae-4166-8d5e-a5963ecab31c ]]</text><text fill=\"#33FF02\" font-family=\"sans-serif\" font-size=\"14\" font-weight=\"bold\" lengthAdjust=\"spacingAndGlyphs\" textLength=\"865\" x=\"5\" y=\"219.5625\">rec usage \"test x\" as E3  &lt;&lt;(T,blue)decisionNode&gt;&gt; [[psysml:12adcb2e-22ad-4270-ad09-4bee8bb9d85c ]] {</text><text fill=\"#33FF02\" font-family=\"sans-serif\" font-size=\"14\" font-weight=\"bold\" lengthAdjust=\"spacingAndGlyphs\" textLength=\"10\" x=\"5\" y=\"235.8594\">}</text><text fill=\"#33FF02\" font-family=\"sans-serif\" font-size=\"14\" font-weight=\"bold\" lengthAdjust=\"spacingAndGlyphs\" textLength=\"0\" x=\"10\" y=\"252.1563\"/><text fill=\"#33FF02\" font-family=\"sans-serif\" font-size=\"14\" font-weight=\"bold\" lengthAdjust=\"spacingAndGlyphs\" textLength=\"10\" x=\"5\" y=\"268.4531\">{</text><text fill=\"#FF0000\" font-family=\"sans-serif\" font-size=\"14\" font-weight=\"bold\" lengthAdjust=\"spacingAndGlyphs\" textLength=\"106\" x=\"10\" y=\"284.75\">Syntax Error?</text><!--MD5=[1d411157063f28e14828cfc3fe8ed212]\n",
       "@startuml\r\n",
       "top to bottom direction\r\n",
       "skinparam monochrome true\r\n",
       "skinparam classbackgroundcolor white\r\n",
       "skinparam shadowing false\r\n",
       "skinparam wrapWidth 300\r\n",
       "hide circle\r\n",
       "\r\n",
       "rec def \"DecisionTest\" as E1  <<(T,blue)action def>> [[psysml:04eadb4d-b968-4a2d-91e2-cdec302c279f ]] {\r\n",
       "portout \"$result\" as E2  [[psysml:f2b0b0cc-45ae-4166-8d5e-a5963ecab31c ]] \r\n",
       "rec usage \"test x\" as E3  <<(T,blue)decisionNode>> [[psysml:12adcb2e-22ad-4270-ad09-4bee8bb9d85c ]] {\r\n",
       "}\r\n",
       "\r\n",
       "{\r\n",
       "portout \"$result\" as E4  [[psysml:da91a906-8207-462d-99e2-a18dec940aa7 ]] \r\n",
       "portin \"$x\" as E5  [[psysml:48c17a69-1eb9-4ad6-876e-38a96ca6e086 ]] \r\n",
       "portin \"$y\" as E6  [[psysml:603631ec-51c5-4249-8487-a79a64da6afc ]] \r\n",
       "portout \"$result\" as E7  [[psysml:26e7255e-bbd8-4ac7-a816-6f3abc826445 ]] \r\n",
       "}\r\n",
       "\r\n",
       "{\r\n",
       "portout \"$result\" as E8  [[psysml:34caa6ec-959e-4145-98ad-4a477d59f379 ]] \r\n",
       "portin \"$x\" as E9  [[psysml:a97d47b4-a3dd-4bbd-be98-fc91aed6e874 ]] \r\n",
       "portin \"$y\" as E10  [[psysml:4dcabb7c-801c-43eb-b65b-ea55ba06df11 ]] \r\n",
       "portout \"$result\" as E11  [[psysml:cd7ecfb5-304f-4537-af93-5efd7128d3b2 ]] \r\n",
       "}\r\n",
       "\r\n",
       "{\r\n",
       "}\r\n",
       "\r\n",
       "{\r\n",
       "}\r\n",
       "\r\n",
       "{\r\n",
       "portout \"$result\" as E12  [[psysml:f92bbb85-cf19-4dd5-984f-8fe428e355f9 ]] \r\n",
       "}\r\n",
       "\r\n",
       "{\r\n",
       "portout \"$result\" as E13  [[psysml:b44daa1d-0d17-440b-affc-4aae51a046a3 ]] \r\n",
       "}\r\n",
       "\r\n",
       "rec usage \"A1\" as E14  <<(T,blue)action>> [[psysml:b6d0d4a5-7082-45af-9d99-5627255ed9ae ]] {\r\n",
       "}\r\n",
       "\r\n",
       "rec usage \"A2\" as E15  <<(T,blue)action>> [[psysml:60e701bb-1db7-4263-ad0a-ece44064a54f ]] {\r\n",
       "}\r\n",
       "\r\n",
       "rec usage \"A3\" as E16  <<(T,blue)action>> [[psysml:072d93d2-c298-4f7b-8e67-b467b8356ba8 ]] {\r\n",
       "}\r\n",
       "\r\n",
       "rec usage \"S\" as E17  <<(T,blue)transition>> [[psysml:4c480f3e-de35-416e-b4f4-0f9aff9c2e68 ]] {\r\n",
       "rec usage \"A1\" as E18  <<(T,blue)action>> [[psysml:b6d0d4a5-7082-45af-9d99-5627255ed9ae ]] {\r\n",
       "}\r\n",
       "\r\n",
       "portout \"$result\" as E19  [[psysml:bae59e2e-3013-4238-add2-fcdff8ecd0eb ]] \r\n",
       "portin \"$x\" as E20  [[psysml:1602ff6f-7228-42cf-b9ac-ebc006cdcd92 ]] \r\n",
       "portin \"$y\" as E21  [[psysml:f75bdb3f-e701-450d-b4f7-b218e85bedc6 ]] \r\n",
       "portout \"$result\" as E22  [[psysml:671b30d7-f020-4858-831b-48c54d9c890b ]] \r\n",
       "}\r\n",
       "\r\n",
       "rec usage \"A3\" as E23  <<(T,blue)action>> [[psysml:072d93d2-c298-4f7b-8e67-b467b8356ba8 ]] {\r\n",
       "}\r\n",
       "\r\n",
       "{\r\n",
       "portout \"$result\" as E24  [[psysml:607bce31-a36d-4c4f-abb5-7d6a5b1eba4c ]] \r\n",
       "portin \"$x\" as E25  [[psysml:30d6127f-38d3-47e6-b88f-d8a7d1fd2593 ]] \r\n",
       "portin \"$y\" as E26  [[psysml:c49c5fa4-01bf-436f-878e-c0b2dd911bef ]] \r\n",
       "portout \"$result\" as E27  [[psysml:cfd24cc8-3d79-4a43-93a1-f42931f2c990 ]] \r\n",
       "}\r\n",
       "\r\n",
       "}\r\n",
       "\r\n",
       "@enduml\r\n",
       "\n",
       "PlantUML version 1.2020.13(Sat Jun 13 12:26:38 UTC 2020)\n",
       "(EPL source distribution)\n",
       "Java Runtime: OpenJDK Runtime Environment\n",
       "JVM: OpenJDK 64-Bit Server VM\n",
       "Default Encoding: UTF-8\n",
       "Language: en\n",
       "Country: null\n",
       "--></g></svg>"
      ]
     },
     "execution_count": 44,
     "metadata": {},
     "output_type": "execute_result"
    }
   ],
   "source": [
    "%viz --style=\"TB\" --view=\"Default\" \"DecisionTest\""
   ]
  },
  {
   "cell_type": "code",
   "execution_count": 45,
   "id": "swedish-perception",
   "metadata": {
    "execution": {
     "iopub.execute_input": "2021-03-25T09:32:51.320924Z",
     "iopub.status.busy": "2021-03-25T09:32:51.320405Z",
     "iopub.status.idle": "2021-03-25T09:32:51.674948Z",
     "shell.execute_reply": "2021-03-25T09:32:51.674613Z"
    }
   },
   "outputs": [
    {
     "data": {
      "image/svg+xml": [
       "<?xml version=\"1.0\" encoding=\"UTF-8\" standalone=\"no\"?><svg xmlns=\"http://www.w3.org/2000/svg\" xmlns:xlink=\"http://www.w3.org/1999/xlink\" contentScriptType=\"application/ecmascript\" contentStyleType=\"text/css\" height=\"207px\" preserveAspectRatio=\"none\" style=\"width:109px;height:207px;\" version=\"1.1\" viewBox=\"0 0 109 207\" width=\"109px\" zoomAndPan=\"magnify\"><defs/><g><!--MD5=[43c9051892ef23e1a46a86907403d788]\n",
       "class E1--><a href=\"psysml:04eadb4d-b968-4a2d-91e2-cdec302c279f\" target=\"_top\" title=\"psysml:04eadb4d-b968-4a2d-91e2-cdec302c279f\" xlink:actuate=\"onRequest\" xlink:href=\"psysml:04eadb4d-b968-4a2d-91e2-cdec302c279f\" xlink:show=\"new\" xlink:title=\"psysml:04eadb4d-b968-4a2d-91e2-cdec302c279f\" xlink:type=\"simple\"><rect fill=\"#FFFFFF\" height=\"189.9844\" id=\"E1\" style=\"stroke: #383838; stroke-width: 1.5;\" width=\"91\" x=\"7\" y=\"7\"/><text fill=\"#000000\" font-family=\"sans-serif\" font-size=\"12\" font-style=\"italic\" lengthAdjust=\"spacingAndGlyphs\" textLength=\"77\" x=\"14\" y=\"23.1387\">«action def»</text><text fill=\"#000000\" font-family=\"sans-serif\" font-size=\"12\" lengthAdjust=\"spacingAndGlyphs\" textLength=\"80\" x=\"12.5\" y=\"37.1074\">DecisionTest</text><line style=\"stroke: #383838; stroke-width: 1.5;\" x1=\"8\" x2=\"97\" y1=\"44.9375\" y2=\"44.9375\"/><text fill=\"#000000\" font-family=\"sans-serif\" font-size=\"11\" lengthAdjust=\"spacingAndGlyphs\" textLength=\"6\" x=\"13\" y=\"75.9526\">x</text><line style=\"stroke: #383838; stroke-width: 1.0;\" x1=\"8\" x2=\"25\" y1=\"59.3398\" y2=\"59.3398\"/><text fill=\"#000000\" font-family=\"sans-serif\" font-size=\"11\" lengthAdjust=\"spacingAndGlyphs\" textLength=\"55\" x=\"25\" y=\"62.6479\">attributes</text><line style=\"stroke: #383838; stroke-width: 1.0;\" x1=\"80\" x2=\"97\" y1=\"59.3398\" y2=\"59.3398\"/><text fill=\"#000000\" font-family=\"sans-serif\" font-size=\"11\" lengthAdjust=\"spacingAndGlyphs\" textLength=\"14\" x=\"13\" y=\"105.562\">A1</text><text fill=\"#000000\" font-family=\"sans-serif\" font-size=\"11\" lengthAdjust=\"spacingAndGlyphs\" textLength=\"14\" x=\"13\" y=\"118.3667\">A2</text><text fill=\"#000000\" font-family=\"sans-serif\" font-size=\"11\" lengthAdjust=\"spacingAndGlyphs\" textLength=\"14\" x=\"13\" y=\"131.1714\">A3</text><line style=\"stroke: #383838; stroke-width: 1.0;\" x1=\"8\" x2=\"32\" y1=\"88.9492\" y2=\"88.9492\"/><text fill=\"#000000\" font-family=\"sans-serif\" font-size=\"11\" lengthAdjust=\"spacingAndGlyphs\" textLength=\"41\" x=\"32\" y=\"92.2573\">actions</text><line style=\"stroke: #383838; stroke-width: 1.0;\" x1=\"73\" x2=\"97\" y1=\"88.9492\" y2=\"88.9492\"/><text fill=\"#000000\" font-family=\"sans-serif\" font-size=\"11\" lengthAdjust=\"spacingAndGlyphs\" textLength=\"32\" x=\"13\" y=\"160.7808\">test x</text><line style=\"stroke: #383838; stroke-width: 1.0;\" x1=\"8\" x2=\"11\" y1=\"144.168\" y2=\"144.168\"/><text fill=\"#000000\" font-family=\"sans-serif\" font-size=\"11\" lengthAdjust=\"spacingAndGlyphs\" textLength=\"83\" x=\"11\" y=\"147.4761\">decisionNodes</text><line style=\"stroke: #383838; stroke-width: 1.0;\" x1=\"94\" x2=\"97\" y1=\"144.168\" y2=\"144.168\"/><text fill=\"#000000\" font-family=\"sans-serif\" font-size=\"11\" lengthAdjust=\"spacingAndGlyphs\" textLength=\"8\" x=\"13\" y=\"190.3901\">S</text><line style=\"stroke: #383838; stroke-width: 1.0;\" x1=\"8\" x2=\"22\" y1=\"173.7773\" y2=\"173.7773\"/><text fill=\"#000000\" font-family=\"sans-serif\" font-size=\"11\" lengthAdjust=\"spacingAndGlyphs\" textLength=\"61\" x=\"22\" y=\"177.0854\">transitions</text><line style=\"stroke: #383838; stroke-width: 1.0;\" x1=\"83\" x2=\"97\" y1=\"173.7773\" y2=\"173.7773\"/></a><!--MD5=[8b05d7668baa2d0bfd558f1e04f87841]\n",
       "@startuml\r\n",
       "top to bottom direction\r\n",
       "skinparam monochrome true\r\n",
       "skinparam classbackgroundcolor white\r\n",
       "skinparam shadowing false\r\n",
       "skinparam wrapWidth 300\r\n",
       "hide circle\r\n",
       "\r\n",
       "comp def \"DecisionTest\" as E1  <<(T,blue)action def>> [[psysml:04eadb4d-b968-4a2d-91e2-cdec302c279f ]] {\r\n",
       "- - attributes - -\r\n",
       "x\r\n",
       "- - actions - -\r\n",
       "A1\r\n",
       "A2\r\n",
       "A3\r\n",
       "- - decisionNodes - -\r\n",
       "test x\r\n",
       "- - transitions - -\r\n",
       "S\r\n",
       "}\r\n",
       "@enduml\r\n",
       "\n",
       "PlantUML version 1.2020.13(Sat Jun 13 12:26:38 UTC 2020)\n",
       "(EPL source distribution)\n",
       "Java Runtime: OpenJDK Runtime Environment\n",
       "JVM: OpenJDK 64-Bit Server VM\n",
       "Default Encoding: UTF-8\n",
       "Language: en\n",
       "Country: null\n",
       "--></g></svg>"
      ]
     },
     "execution_count": 45,
     "metadata": {},
     "output_type": "execute_result"
    }
   ],
   "source": [
    "%viz --style=\"TB\" --view=\"Tree\" \"DecisionTest\""
   ]
  },
  {
   "cell_type": "code",
   "execution_count": 46,
   "id": "stainless-swimming",
   "metadata": {
    "execution": {
     "iopub.execute_input": "2021-03-25T09:32:51.727515Z",
     "iopub.status.busy": "2021-03-25T09:32:51.726291Z",
     "iopub.status.idle": "2021-03-25T09:32:51.735513Z",
     "shell.execute_reply": "2021-03-25T09:32:51.735129Z"
    }
   },
   "outputs": [
    {
     "data": {
      "image/svg+xml": [
       "<?xml version=\"1.0\" encoding=\"UTF-8\" standalone=\"no\"?><svg xmlns=\"http://www.w3.org/2000/svg\" xmlns:xlink=\"http://www.w3.org/1999/xlink\" contentScriptType=\"application/ecmascript\" contentStyleType=\"text/css\" height=\"12px\" preserveAspectRatio=\"none\" style=\"width:12px;height:12px;\" version=\"1.1\" viewBox=\"0 0 12 12\" width=\"12px\" zoomAndPan=\"magnify\"><defs/><g><!--MD5=[f4ee21bc66e489b5061b7c3e9601fdef]\n",
       "@startuml\r\n",
       "top to bottom direction\r\n",
       "skinparam monochrome true\r\n",
       "skinparam classbackgroundcolor white\r\n",
       "skinparam shadowing false\r\n",
       "skinparam wrapWidth 300\r\n",
       "hide circle\r\n",
       "\r\n",
       "@enduml\r\n",
       "\n",
       "PlantUML version 1.2020.13(Sat Jun 13 12:26:38 UTC 2020)\n",
       "(EPL source distribution)\n",
       "Java Runtime: OpenJDK Runtime Environment\n",
       "JVM: OpenJDK 64-Bit Server VM\n",
       "Default Encoding: UTF-8\n",
       "Language: en\n",
       "Country: null\n",
       "--></g></svg>"
      ]
     },
     "execution_count": 46,
     "metadata": {},
     "output_type": "execute_result"
    }
   ],
   "source": [
    "%viz --style=\"TB\" --view=\"State\" \"DecisionTest\""
   ]
  },
  {
   "cell_type": "code",
   "execution_count": 47,
   "id": "statutory-paragraph",
   "metadata": {
    "execution": {
     "iopub.execute_input": "2021-03-25T09:32:51.786289Z",
     "iopub.status.busy": "2021-03-25T09:32:51.785705Z",
     "iopub.status.idle": "2021-03-25T09:32:51.812889Z",
     "shell.execute_reply": "2021-03-25T09:32:51.813293Z"
    }
   },
   "outputs": [
    {
     "data": {
      "image/svg+xml": [
       "<?xml version=\"1.0\" encoding=\"UTF-8\" standalone=\"no\"?><svg xmlns=\"http://www.w3.org/2000/svg\" xmlns:xlink=\"http://www.w3.org/1999/xlink\" contentScriptType=\"application/ecmascript\" contentStyleType=\"text/css\" height=\"60px\" preserveAspectRatio=\"none\" style=\"width:109px;height:60px;\" version=\"1.1\" viewBox=\"0 0 109 60\" width=\"109px\" zoomAndPan=\"magnify\"><defs/><g><g id=\"E1\"><a href=\"psysml:04eadb4d-b968-4a2d-91e2-cdec302c279f\" target=\"_top\" title=\"psysml:04eadb4d-b968-4a2d-91e2-cdec302c279f\" xlink:actuate=\"onRequest\" xlink:href=\"psysml:04eadb4d-b968-4a2d-91e2-cdec302c279f\" xlink:show=\"new\" xlink:title=\"psysml:04eadb4d-b968-4a2d-91e2-cdec302c279f\" xlink:type=\"simple\"><rect fill=\"#FFFFFF\" height=\"42.9375\" id=\"E1\" style=\"stroke: #383838; stroke-width: 1.5;\" width=\"91\" x=\"7\" y=\"7\"/><rect fill=\"#F8F8F8\" height=\"37.9375\" style=\"stroke: #383838; stroke-width: 1.5;\" width=\"91\" x=\"7\" y=\"7\"/><text fill=\"#000000\" font-family=\"sans-serif\" font-size=\"12\" font-style=\"italic\" lengthAdjust=\"spacingAndGlyphs\" textLength=\"77\" x=\"14\" y=\"23.1387\">«action def»</text><text fill=\"#000000\" font-family=\"sans-serif\" font-size=\"12\" lengthAdjust=\"spacingAndGlyphs\" textLength=\"80\" x=\"12.5\" y=\"37.1074\">DecisionTest</text></a></g><!--MD5=[34d6918bb9c55279caf3b143b2f699ea]\n",
       "@startuml\r\n",
       "skinparam ranksep 8\r\n",
       "skinparam rectangle {\r\n",
       " backgroundColor<<block>> LightGreen\r\n",
       "}\r\n",
       "top to bottom direction\r\n",
       "skinparam monochrome true\r\n",
       "skinparam classbackgroundcolor white\r\n",
       "skinparam shadowing false\r\n",
       "skinparam wrapWidth 300\r\n",
       "hide circle\r\n",
       "\r\n",
       "def \"DecisionTest\" as E1  <<(T,blue)action def>> [[psysml:04eadb4d-b968-4a2d-91e2-cdec302c279f ]] \r\n",
       "@enduml\r\n",
       "\n",
       "PlantUML version 1.2020.13(Sat Jun 13 12:26:38 UTC 2020)\n",
       "(EPL source distribution)\n",
       "Java Runtime: OpenJDK Runtime Environment\n",
       "JVM: OpenJDK 64-Bit Server VM\n",
       "Default Encoding: UTF-8\n",
       "Language: en\n",
       "Country: null\n",
       "--></g></svg>"
      ]
     },
     "execution_count": 47,
     "metadata": {},
     "output_type": "execute_result"
    }
   ],
   "source": [
    "%viz --style=\"TB\" --view=\"Interconnection\" \"DecisionTest\""
   ]
  },
  {
   "cell_type": "code",
   "execution_count": 48,
   "id": "grateful-poultry",
   "metadata": {
    "execution": {
     "iopub.execute_input": "2021-03-25T09:32:51.864391Z",
     "iopub.status.busy": "2021-03-25T09:32:51.863763Z",
     "iopub.status.idle": "2021-03-25T09:32:51.887366Z",
     "shell.execute_reply": "2021-03-25T09:32:51.886043Z"
    }
   },
   "outputs": [
    {
     "data": {
      "image/svg+xml": [
       "<?xml version=\"1.0\" encoding=\"UTF-8\" standalone=\"no\"?><svg xmlns=\"http://www.w3.org/2000/svg\" xmlns:xlink=\"http://www.w3.org/1999/xlink\" contentScriptType=\"application/ecmascript\" contentStyleType=\"text/css\" height=\"304px\" preserveAspectRatio=\"none\" style=\"width:875px;height:304px;background:#000000;\" version=\"1.1\" viewBox=\"0 0 875 304\" width=\"875px\" zoomAndPan=\"magnify\"><defs/><g><rect fill=\"#1E000B\" height=\"1\" style=\"stroke: #1E000B; stroke-width: 1.0;\" width=\"1\" x=\"0\" y=\"0\"/><rect fill=\"#33FF02\" height=\"21.2969\" style=\"stroke: #33FF02; stroke-width: 1.0;\" width=\"868\" x=\"5\" y=\"5\"/><text fill=\"#000000\" font-family=\"sans-serif\" font-size=\"14\" font-weight=\"bold\" lengthAdjust=\"spacingAndGlyphs\" textLength=\"178\" x=\"6\" y=\"20\">[From string (line 15) ]</text><text fill=\"#33FF02\" font-family=\"sans-serif\" font-size=\"14\" font-weight=\"bold\" lengthAdjust=\"spacingAndGlyphs\" textLength=\"0\" x=\"10\" y=\"40.2969\"/><text fill=\"#33FF02\" font-family=\"sans-serif\" font-size=\"14\" font-weight=\"bold\" lengthAdjust=\"spacingAndGlyphs\" textLength=\"79\" x=\"5\" y=\"56.5938\">@startuml</text><text fill=\"#33FF02\" font-family=\"sans-serif\" font-size=\"14\" font-weight=\"bold\" lengthAdjust=\"spacingAndGlyphs\" textLength=\"165\" x=\"5\" y=\"72.8906\">skinparam ranksep 8</text><text fill=\"#33FF02\" font-family=\"sans-serif\" font-size=\"14\" font-weight=\"bold\" lengthAdjust=\"spacingAndGlyphs\" textLength=\"183\" x=\"5\" y=\"89.1875\">top to bottom direction</text><text fill=\"#33FF02\" font-family=\"sans-serif\" font-size=\"14\" font-weight=\"bold\" lengthAdjust=\"spacingAndGlyphs\" textLength=\"228\" x=\"5\" y=\"105.4844\">skinparam monochrome true</text><text fill=\"#33FF02\" font-family=\"sans-serif\" font-size=\"14\" font-weight=\"bold\" lengthAdjust=\"spacingAndGlyphs\" textLength=\"309\" x=\"5\" y=\"121.7813\">skinparam classbackgroundcolor white</text><text fill=\"#33FF02\" font-family=\"sans-serif\" font-size=\"14\" font-weight=\"bold\" lengthAdjust=\"spacingAndGlyphs\" textLength=\"215\" x=\"5\" y=\"138.0781\">skinparam shadowing false</text><text fill=\"#33FF02\" font-family=\"sans-serif\" font-size=\"14\" font-weight=\"bold\" lengthAdjust=\"spacingAndGlyphs\" textLength=\"206\" x=\"5\" y=\"154.375\">skinparam wrapWidth 300</text><text fill=\"#33FF02\" font-family=\"sans-serif\" font-size=\"14\" font-weight=\"bold\" lengthAdjust=\"spacingAndGlyphs\" textLength=\"82\" x=\"5\" y=\"170.6719\">hide circle</text><text fill=\"#33FF02\" font-family=\"sans-serif\" font-size=\"14\" font-weight=\"bold\" lengthAdjust=\"spacingAndGlyphs\" textLength=\"0\" x=\"10\" y=\"186.9688\"/><text fill=\"#33FF02\" font-family=\"sans-serif\" font-size=\"14\" font-weight=\"bold\" lengthAdjust=\"spacingAndGlyphs\" textLength=\"868\" x=\"5\" y=\"203.2656\">rec def \"DecisionTest\" as E1  &lt;&lt;(T,blue)action def&gt;&gt; [[psysml:04eadb4d-b968-4a2d-91e2-cdec302c279f ]] {</text><text fill=\"#33FF02\" font-family=\"sans-serif\" font-size=\"14\" font-weight=\"bold\" lengthAdjust=\"spacingAndGlyphs\" textLength=\"614\" x=\"5\" y=\"219.5625\">portout \"$result\" as E2  [[psysml:f2b0b0cc-45ae-4166-8d5e-a5963ecab31c ]]</text><text fill=\"#33FF02\" font-family=\"sans-serif\" font-size=\"14\" font-weight=\"bold\" lengthAdjust=\"spacingAndGlyphs\" textLength=\"865\" x=\"5\" y=\"235.8594\">rec usage \"test x\" as E3  &lt;&lt;(T,blue)decisionNode&gt;&gt; [[psysml:12adcb2e-22ad-4270-ad09-4bee8bb9d85c ]] {</text><text fill=\"#33FF02\" font-family=\"sans-serif\" font-size=\"14\" font-weight=\"bold\" lengthAdjust=\"spacingAndGlyphs\" textLength=\"10\" x=\"5\" y=\"252.1563\">}</text><text fill=\"#33FF02\" font-family=\"sans-serif\" font-size=\"14\" font-weight=\"bold\" lengthAdjust=\"spacingAndGlyphs\" textLength=\"0\" x=\"10\" y=\"268.4531\"/><text fill=\"#33FF02\" font-family=\"sans-serif\" font-size=\"14\" font-weight=\"bold\" lengthAdjust=\"spacingAndGlyphs\" textLength=\"10\" x=\"5\" y=\"284.75\">{</text><text fill=\"#FF0000\" font-family=\"sans-serif\" font-size=\"14\" font-weight=\"bold\" lengthAdjust=\"spacingAndGlyphs\" textLength=\"106\" x=\"10\" y=\"301.0469\">Syntax Error?</text><!--MD5=[37b3fea11840500cfe4ad31b1813705a]\n",
       "@startuml\r\n",
       "skinparam ranksep 8\r\n",
       "top to bottom direction\r\n",
       "skinparam monochrome true\r\n",
       "skinparam classbackgroundcolor white\r\n",
       "skinparam shadowing false\r\n",
       "skinparam wrapWidth 300\r\n",
       "hide circle\r\n",
       "\r\n",
       "rec def \"DecisionTest\" as E1  <<(T,blue)action def>> [[psysml:04eadb4d-b968-4a2d-91e2-cdec302c279f ]] {\r\n",
       "portout \"$result\" as E2  [[psysml:f2b0b0cc-45ae-4166-8d5e-a5963ecab31c ]] \r\n",
       "rec usage \"test x\" as E3  <<(T,blue)decisionNode>> [[psysml:12adcb2e-22ad-4270-ad09-4bee8bb9d85c ]] {\r\n",
       "}\r\n",
       "\r\n",
       "{\r\n",
       "portout \"$result\" as E4  [[psysml:da91a906-8207-462d-99e2-a18dec940aa7 ]] \r\n",
       "portin \"$x\" as E5  [[psysml:48c17a69-1eb9-4ad6-876e-38a96ca6e086 ]] \r\n",
       "portin \"$y\" as E6  [[psysml:603631ec-51c5-4249-8487-a79a64da6afc ]] \r\n",
       "portout \"$result\" as E7  [[psysml:26e7255e-bbd8-4ac7-a816-6f3abc826445 ]] \r\n",
       "}\r\n",
       "\r\n",
       "{\r\n",
       "portout \"$result\" as E8  [[psysml:34caa6ec-959e-4145-98ad-4a477d59f379 ]] \r\n",
       "portin \"$x\" as E9  [[psysml:a97d47b4-a3dd-4bbd-be98-fc91aed6e874 ]] \r\n",
       "portin \"$y\" as E10  [[psysml:4dcabb7c-801c-43eb-b65b-ea55ba06df11 ]] \r\n",
       "portout \"$result\" as E11  [[psysml:cd7ecfb5-304f-4537-af93-5efd7128d3b2 ]] \r\n",
       "}\r\n",
       "\r\n",
       "{\r\n",
       "}\r\n",
       "\r\n",
       "{\r\n",
       "}\r\n",
       "\r\n",
       "{\r\n",
       "portout \"$result\" as E12  [[psysml:f92bbb85-cf19-4dd5-984f-8fe428e355f9 ]] \r\n",
       "}\r\n",
       "\r\n",
       "{\r\n",
       "portout \"$result\" as E13  [[psysml:b44daa1d-0d17-440b-affc-4aae51a046a3 ]] \r\n",
       "}\r\n",
       "\r\n",
       "rec usage \"A1\" as E14  <<(T,blue)action>> [[psysml:b6d0d4a5-7082-45af-9d99-5627255ed9ae ]] {\r\n",
       "}\r\n",
       "\r\n",
       "rec usage \"A2\" as E15  <<(T,blue)action>> [[psysml:60e701bb-1db7-4263-ad0a-ece44064a54f ]] {\r\n",
       "}\r\n",
       "\r\n",
       "rec usage \"A3\" as E16  <<(T,blue)action>> [[psysml:072d93d2-c298-4f7b-8e67-b467b8356ba8 ]] {\r\n",
       "}\r\n",
       "\r\n",
       "rec usage \"S\" as E17  <<(T,blue)transition>> [[psysml:4c480f3e-de35-416e-b4f4-0f9aff9c2e68 ]] {\r\n",
       "rec usage \"A1\" as E18  <<(T,blue)action>> [[psysml:b6d0d4a5-7082-45af-9d99-5627255ed9ae ]] {\r\n",
       "}\r\n",
       "\r\n",
       "portout \"$result\" as E19  [[psysml:bae59e2e-3013-4238-add2-fcdff8ecd0eb ]] \r\n",
       "portin \"$x\" as E20  [[psysml:1602ff6f-7228-42cf-b9ac-ebc006cdcd92 ]] \r\n",
       "portin \"$y\" as E21  [[psysml:f75bdb3f-e701-450d-b4f7-b218e85bedc6 ]] \r\n",
       "portout \"$result\" as E22  [[psysml:671b30d7-f020-4858-831b-48c54d9c890b ]] \r\n",
       "}\r\n",
       "\r\n",
       "rec usage \"A3\" as E23  <<(T,blue)action>> [[psysml:072d93d2-c298-4f7b-8e67-b467b8356ba8 ]] {\r\n",
       "}\r\n",
       "\r\n",
       "{\r\n",
       "portout \"$result\" as E24  [[psysml:607bce31-a36d-4c4f-abb5-7d6a5b1eba4c ]] \r\n",
       "portin \"$x\" as E25  [[psysml:30d6127f-38d3-47e6-b88f-d8a7d1fd2593 ]] \r\n",
       "portin \"$y\" as E26  [[psysml:c49c5fa4-01bf-436f-878e-c0b2dd911bef ]] \r\n",
       "portout \"$result\" as E27  [[psysml:cfd24cc8-3d79-4a43-93a1-f42931f2c990 ]] \r\n",
       "}\r\n",
       "\r\n",
       "}\r\n",
       "\r\n",
       "@enduml\r\n",
       "\n",
       "PlantUML version 1.2020.13(Sat Jun 13 12:26:38 UTC 2020)\n",
       "(EPL source distribution)\n",
       "Java Runtime: OpenJDK Runtime Environment\n",
       "JVM: OpenJDK 64-Bit Server VM\n",
       "Default Encoding: UTF-8\n",
       "Language: en\n",
       "Country: null\n",
       "--></g></svg>"
      ]
     },
     "execution_count": 48,
     "metadata": {},
     "output_type": "execute_result"
    }
   ],
   "source": [
    "%viz --style=\"TB\" --view=\"Action\" \"DecisionTest\""
   ]
  },
  {
   "cell_type": "code",
   "execution_count": 49,
   "id": "earlier-hartford",
   "metadata": {
    "execution": {
     "iopub.execute_input": "2021-03-25T09:32:51.938507Z",
     "iopub.status.busy": "2021-03-25T09:32:51.937826Z",
     "iopub.status.idle": "2021-03-25T09:32:52.290598Z",
     "shell.execute_reply": "2021-03-25T09:32:52.290252Z"
    }
   },
   "outputs": [
    {
     "data": {
      "image/svg+xml": [
       "<?xml version=\"1.0\" encoding=\"UTF-8\" standalone=\"no\"?><svg xmlns=\"http://www.w3.org/2000/svg\" xmlns:xlink=\"http://www.w3.org/1999/xlink\" contentScriptType=\"application/ecmascript\" contentStyleType=\"text/css\" height=\"207px\" preserveAspectRatio=\"none\" style=\"width:109px;height:207px;\" version=\"1.1\" viewBox=\"0 0 109 207\" width=\"109px\" zoomAndPan=\"magnify\"><defs/><g><!--MD5=[43c9051892ef23e1a46a86907403d788]\n",
       "class E1--><a href=\"psysml:04eadb4d-b968-4a2d-91e2-cdec302c279f\" target=\"_top\" title=\"psysml:04eadb4d-b968-4a2d-91e2-cdec302c279f\" xlink:actuate=\"onRequest\" xlink:href=\"psysml:04eadb4d-b968-4a2d-91e2-cdec302c279f\" xlink:show=\"new\" xlink:title=\"psysml:04eadb4d-b968-4a2d-91e2-cdec302c279f\" xlink:type=\"simple\"><rect fill=\"#FFFFFF\" height=\"189.9844\" id=\"E1\" style=\"stroke: #383838; stroke-width: 1.5;\" width=\"91\" x=\"7\" y=\"7\"/><text fill=\"#000000\" font-family=\"sans-serif\" font-size=\"12\" font-style=\"italic\" lengthAdjust=\"spacingAndGlyphs\" textLength=\"77\" x=\"14\" y=\"23.1387\">«action def»</text><text fill=\"#000000\" font-family=\"sans-serif\" font-size=\"12\" lengthAdjust=\"spacingAndGlyphs\" textLength=\"80\" x=\"12.5\" y=\"37.1074\">DecisionTest</text><line style=\"stroke: #383838; stroke-width: 1.5;\" x1=\"8\" x2=\"97\" y1=\"44.9375\" y2=\"44.9375\"/><text fill=\"#000000\" font-family=\"sans-serif\" font-size=\"11\" lengthAdjust=\"spacingAndGlyphs\" textLength=\"6\" x=\"13\" y=\"75.9526\">x</text><line style=\"stroke: #383838; stroke-width: 1.0;\" x1=\"8\" x2=\"25\" y1=\"59.3398\" y2=\"59.3398\"/><text fill=\"#000000\" font-family=\"sans-serif\" font-size=\"11\" lengthAdjust=\"spacingAndGlyphs\" textLength=\"55\" x=\"25\" y=\"62.6479\">attributes</text><line style=\"stroke: #383838; stroke-width: 1.0;\" x1=\"80\" x2=\"97\" y1=\"59.3398\" y2=\"59.3398\"/><text fill=\"#000000\" font-family=\"sans-serif\" font-size=\"11\" lengthAdjust=\"spacingAndGlyphs\" textLength=\"14\" x=\"13\" y=\"105.562\">A1</text><text fill=\"#000000\" font-family=\"sans-serif\" font-size=\"11\" lengthAdjust=\"spacingAndGlyphs\" textLength=\"14\" x=\"13\" y=\"118.3667\">A2</text><text fill=\"#000000\" font-family=\"sans-serif\" font-size=\"11\" lengthAdjust=\"spacingAndGlyphs\" textLength=\"14\" x=\"13\" y=\"131.1714\">A3</text><line style=\"stroke: #383838; stroke-width: 1.0;\" x1=\"8\" x2=\"32\" y1=\"88.9492\" y2=\"88.9492\"/><text fill=\"#000000\" font-family=\"sans-serif\" font-size=\"11\" lengthAdjust=\"spacingAndGlyphs\" textLength=\"41\" x=\"32\" y=\"92.2573\">actions</text><line style=\"stroke: #383838; stroke-width: 1.0;\" x1=\"73\" x2=\"97\" y1=\"88.9492\" y2=\"88.9492\"/><text fill=\"#000000\" font-family=\"sans-serif\" font-size=\"11\" lengthAdjust=\"spacingAndGlyphs\" textLength=\"32\" x=\"13\" y=\"160.7808\">test x</text><line style=\"stroke: #383838; stroke-width: 1.0;\" x1=\"8\" x2=\"11\" y1=\"144.168\" y2=\"144.168\"/><text fill=\"#000000\" font-family=\"sans-serif\" font-size=\"11\" lengthAdjust=\"spacingAndGlyphs\" textLength=\"83\" x=\"11\" y=\"147.4761\">decisionNodes</text><line style=\"stroke: #383838; stroke-width: 1.0;\" x1=\"94\" x2=\"97\" y1=\"144.168\" y2=\"144.168\"/><text fill=\"#000000\" font-family=\"sans-serif\" font-size=\"11\" lengthAdjust=\"spacingAndGlyphs\" textLength=\"8\" x=\"13\" y=\"190.3901\">S</text><line style=\"stroke: #383838; stroke-width: 1.0;\" x1=\"8\" x2=\"22\" y1=\"173.7773\" y2=\"173.7773\"/><text fill=\"#000000\" font-family=\"sans-serif\" font-size=\"11\" lengthAdjust=\"spacingAndGlyphs\" textLength=\"61\" x=\"22\" y=\"177.0854\">transitions</text><line style=\"stroke: #383838; stroke-width: 1.0;\" x1=\"83\" x2=\"97\" y1=\"173.7773\" y2=\"173.7773\"/></a><!--MD5=[8b05d7668baa2d0bfd558f1e04f87841]\n",
       "@startuml\r\n",
       "top to bottom direction\r\n",
       "skinparam monochrome true\r\n",
       "skinparam classbackgroundcolor white\r\n",
       "skinparam shadowing false\r\n",
       "skinparam wrapWidth 300\r\n",
       "hide circle\r\n",
       "\r\n",
       "comp def \"DecisionTest\" as E1  <<(T,blue)action def>> [[psysml:04eadb4d-b968-4a2d-91e2-cdec302c279f ]] {\r\n",
       "- - attributes - -\r\n",
       "x\r\n",
       "- - actions - -\r\n",
       "A1\r\n",
       "A2\r\n",
       "A3\r\n",
       "- - decisionNodes - -\r\n",
       "test x\r\n",
       "- - transitions - -\r\n",
       "S\r\n",
       "}\r\n",
       "@enduml\r\n",
       "\n",
       "PlantUML version 1.2020.13(Sat Jun 13 12:26:38 UTC 2020)\n",
       "(EPL source distribution)\n",
       "Java Runtime: OpenJDK Runtime Environment\n",
       "JVM: OpenJDK 64-Bit Server VM\n",
       "Default Encoding: UTF-8\n",
       "Language: en\n",
       "Country: null\n",
       "--></g></svg>"
      ]
     },
     "execution_count": 49,
     "metadata": {},
     "output_type": "execute_result"
    }
   ],
   "source": [
    "%viz --style=\"TB\" --view=\"Sequence\" \"DecisionTest\""
   ]
  },
  {
   "cell_type": "code",
   "execution_count": 50,
   "id": "exempt-newark",
   "metadata": {
    "execution": {
     "iopub.execute_input": "2021-03-25T09:32:52.342323Z",
     "iopub.status.busy": "2021-03-25T09:32:52.341606Z",
     "iopub.status.idle": "2021-03-25T09:32:52.366937Z",
     "shell.execute_reply": "2021-03-25T09:32:52.364905Z"
    }
   },
   "outputs": [
    {
     "data": {
      "image/svg+xml": [
       "<?xml version=\"1.0\" encoding=\"UTF-8\" standalone=\"no\"?><svg xmlns=\"http://www.w3.org/2000/svg\" xmlns:xlink=\"http://www.w3.org/1999/xlink\" contentScriptType=\"application/ecmascript\" contentStyleType=\"text/css\" height=\"288px\" preserveAspectRatio=\"none\" style=\"width:875px;height:288px;background:#000000;\" version=\"1.1\" viewBox=\"0 0 875 288\" width=\"875px\" zoomAndPan=\"magnify\"><defs/><g><rect fill=\"#190A24\" height=\"1\" style=\"stroke: #190A24; stroke-width: 1.0;\" width=\"1\" x=\"0\" y=\"0\"/><rect fill=\"#33FF02\" height=\"21.2969\" style=\"stroke: #33FF02; stroke-width: 1.0;\" width=\"868\" x=\"5\" y=\"5\"/><text fill=\"#000000\" font-family=\"sans-serif\" font-size=\"14\" font-weight=\"bold\" lengthAdjust=\"spacingAndGlyphs\" textLength=\"178\" x=\"6\" y=\"20\">[From string (line 14) ]</text><text fill=\"#33FF02\" font-family=\"sans-serif\" font-size=\"14\" font-weight=\"bold\" lengthAdjust=\"spacingAndGlyphs\" textLength=\"0\" x=\"10\" y=\"40.2969\"/><text fill=\"#33FF02\" font-family=\"sans-serif\" font-size=\"14\" font-weight=\"bold\" lengthAdjust=\"spacingAndGlyphs\" textLength=\"79\" x=\"5\" y=\"56.5938\">@startuml</text><text fill=\"#33FF02\" font-family=\"sans-serif\" font-size=\"14\" font-weight=\"bold\" lengthAdjust=\"spacingAndGlyphs\" textLength=\"183\" x=\"5\" y=\"72.8906\">top to bottom direction</text><text fill=\"#33FF02\" font-family=\"sans-serif\" font-size=\"14\" font-weight=\"bold\" lengthAdjust=\"spacingAndGlyphs\" textLength=\"228\" x=\"5\" y=\"89.1875\">skinparam monochrome true</text><text fill=\"#33FF02\" font-family=\"sans-serif\" font-size=\"14\" font-weight=\"bold\" lengthAdjust=\"spacingAndGlyphs\" textLength=\"309\" x=\"5\" y=\"105.4844\">skinparam classbackgroundcolor white</text><text fill=\"#33FF02\" font-family=\"sans-serif\" font-size=\"14\" font-weight=\"bold\" lengthAdjust=\"spacingAndGlyphs\" textLength=\"215\" x=\"5\" y=\"121.7813\">skinparam shadowing false</text><text fill=\"#33FF02\" font-family=\"sans-serif\" font-size=\"14\" font-weight=\"bold\" lengthAdjust=\"spacingAndGlyphs\" textLength=\"206\" x=\"5\" y=\"138.0781\">skinparam wrapWidth 300</text><text fill=\"#33FF02\" font-family=\"sans-serif\" font-size=\"14\" font-weight=\"bold\" lengthAdjust=\"spacingAndGlyphs\" textLength=\"82\" x=\"5\" y=\"154.375\">hide circle</text><text fill=\"#33FF02\" font-family=\"sans-serif\" font-size=\"14\" font-weight=\"bold\" lengthAdjust=\"spacingAndGlyphs\" textLength=\"0\" x=\"10\" y=\"170.6719\"/><text fill=\"#33FF02\" font-family=\"sans-serif\" font-size=\"14\" font-weight=\"bold\" lengthAdjust=\"spacingAndGlyphs\" textLength=\"868\" x=\"5\" y=\"186.9688\">rec def \"DecisionTest\" as E1  &lt;&lt;(T,blue)action def&gt;&gt; [[psysml:04eadb4d-b968-4a2d-91e2-cdec302c279f ]] {</text><text fill=\"#33FF02\" font-family=\"sans-serif\" font-size=\"14\" font-weight=\"bold\" lengthAdjust=\"spacingAndGlyphs\" textLength=\"614\" x=\"5\" y=\"203.2656\">portout \"$result\" as E2  [[psysml:f2b0b0cc-45ae-4166-8d5e-a5963ecab31c ]]</text><text fill=\"#33FF02\" font-family=\"sans-serif\" font-size=\"14\" font-weight=\"bold\" lengthAdjust=\"spacingAndGlyphs\" textLength=\"865\" x=\"5\" y=\"219.5625\">rec usage \"test x\" as E3  &lt;&lt;(T,blue)decisionNode&gt;&gt; [[psysml:12adcb2e-22ad-4270-ad09-4bee8bb9d85c ]] {</text><text fill=\"#33FF02\" font-family=\"sans-serif\" font-size=\"14\" font-weight=\"bold\" lengthAdjust=\"spacingAndGlyphs\" textLength=\"10\" x=\"5\" y=\"235.8594\">}</text><text fill=\"#33FF02\" font-family=\"sans-serif\" font-size=\"14\" font-weight=\"bold\" lengthAdjust=\"spacingAndGlyphs\" textLength=\"0\" x=\"10\" y=\"252.1563\"/><text fill=\"#33FF02\" font-family=\"sans-serif\" font-size=\"14\" font-weight=\"bold\" lengthAdjust=\"spacingAndGlyphs\" textLength=\"10\" x=\"5\" y=\"268.4531\">{</text><text fill=\"#FF0000\" font-family=\"sans-serif\" font-size=\"14\" font-weight=\"bold\" lengthAdjust=\"spacingAndGlyphs\" textLength=\"106\" x=\"10\" y=\"284.75\">Syntax Error?</text><!--MD5=[1d411157063f28e14828cfc3fe8ed212]\n",
       "@startuml\r\n",
       "top to bottom direction\r\n",
       "skinparam monochrome true\r\n",
       "skinparam classbackgroundcolor white\r\n",
       "skinparam shadowing false\r\n",
       "skinparam wrapWidth 300\r\n",
       "hide circle\r\n",
       "\r\n",
       "rec def \"DecisionTest\" as E1  <<(T,blue)action def>> [[psysml:04eadb4d-b968-4a2d-91e2-cdec302c279f ]] {\r\n",
       "portout \"$result\" as E2  [[psysml:f2b0b0cc-45ae-4166-8d5e-a5963ecab31c ]] \r\n",
       "rec usage \"test x\" as E3  <<(T,blue)decisionNode>> [[psysml:12adcb2e-22ad-4270-ad09-4bee8bb9d85c ]] {\r\n",
       "}\r\n",
       "\r\n",
       "{\r\n",
       "portout \"$result\" as E4  [[psysml:da91a906-8207-462d-99e2-a18dec940aa7 ]] \r\n",
       "portin \"$x\" as E5  [[psysml:48c17a69-1eb9-4ad6-876e-38a96ca6e086 ]] \r\n",
       "portin \"$y\" as E6  [[psysml:603631ec-51c5-4249-8487-a79a64da6afc ]] \r\n",
       "portout \"$result\" as E7  [[psysml:26e7255e-bbd8-4ac7-a816-6f3abc826445 ]] \r\n",
       "}\r\n",
       "\r\n",
       "{\r\n",
       "portout \"$result\" as E8  [[psysml:34caa6ec-959e-4145-98ad-4a477d59f379 ]] \r\n",
       "portin \"$x\" as E9  [[psysml:a97d47b4-a3dd-4bbd-be98-fc91aed6e874 ]] \r\n",
       "portin \"$y\" as E10  [[psysml:4dcabb7c-801c-43eb-b65b-ea55ba06df11 ]] \r\n",
       "portout \"$result\" as E11  [[psysml:cd7ecfb5-304f-4537-af93-5efd7128d3b2 ]] \r\n",
       "}\r\n",
       "\r\n",
       "{\r\n",
       "}\r\n",
       "\r\n",
       "{\r\n",
       "}\r\n",
       "\r\n",
       "{\r\n",
       "portout \"$result\" as E12  [[psysml:f92bbb85-cf19-4dd5-984f-8fe428e355f9 ]] \r\n",
       "}\r\n",
       "\r\n",
       "{\r\n",
       "portout \"$result\" as E13  [[psysml:b44daa1d-0d17-440b-affc-4aae51a046a3 ]] \r\n",
       "}\r\n",
       "\r\n",
       "rec usage \"A1\" as E14  <<(T,blue)action>> [[psysml:b6d0d4a5-7082-45af-9d99-5627255ed9ae ]] {\r\n",
       "}\r\n",
       "\r\n",
       "rec usage \"A2\" as E15  <<(T,blue)action>> [[psysml:60e701bb-1db7-4263-ad0a-ece44064a54f ]] {\r\n",
       "}\r\n",
       "\r\n",
       "rec usage \"A3\" as E16  <<(T,blue)action>> [[psysml:072d93d2-c298-4f7b-8e67-b467b8356ba8 ]] {\r\n",
       "}\r\n",
       "\r\n",
       "rec usage \"S\" as E17  <<(T,blue)transition>> [[psysml:4c480f3e-de35-416e-b4f4-0f9aff9c2e68 ]] {\r\n",
       "rec usage \"A1\" as E18  <<(T,blue)action>> [[psysml:b6d0d4a5-7082-45af-9d99-5627255ed9ae ]] {\r\n",
       "}\r\n",
       "\r\n",
       "portout \"$result\" as E19  [[psysml:bae59e2e-3013-4238-add2-fcdff8ecd0eb ]] \r\n",
       "portin \"$x\" as E20  [[psysml:1602ff6f-7228-42cf-b9ac-ebc006cdcd92 ]] \r\n",
       "portin \"$y\" as E21  [[psysml:f75bdb3f-e701-450d-b4f7-b218e85bedc6 ]] \r\n",
       "portout \"$result\" as E22  [[psysml:671b30d7-f020-4858-831b-48c54d9c890b ]] \r\n",
       "}\r\n",
       "\r\n",
       "rec usage \"A3\" as E23  <<(T,blue)action>> [[psysml:072d93d2-c298-4f7b-8e67-b467b8356ba8 ]] {\r\n",
       "}\r\n",
       "\r\n",
       "{\r\n",
       "portout \"$result\" as E24  [[psysml:607bce31-a36d-4c4f-abb5-7d6a5b1eba4c ]] \r\n",
       "portin \"$x\" as E25  [[psysml:30d6127f-38d3-47e6-b88f-d8a7d1fd2593 ]] \r\n",
       "portin \"$y\" as E26  [[psysml:c49c5fa4-01bf-436f-878e-c0b2dd911bef ]] \r\n",
       "portout \"$result\" as E27  [[psysml:cfd24cc8-3d79-4a43-93a1-f42931f2c990 ]] \r\n",
       "}\r\n",
       "\r\n",
       "}\r\n",
       "\r\n",
       "@enduml\r\n",
       "\n",
       "PlantUML version 1.2020.13(Sat Jun 13 12:26:38 UTC 2020)\n",
       "(EPL source distribution)\n",
       "Java Runtime: OpenJDK Runtime Environment\n",
       "JVM: OpenJDK 64-Bit Server VM\n",
       "Default Encoding: UTF-8\n",
       "Language: en\n",
       "Country: null\n",
       "--></g></svg>"
      ]
     },
     "execution_count": 50,
     "metadata": {},
     "output_type": "execute_result"
    }
   ],
   "source": [
    "%viz --style=\"TB\" --view=\"MIXED\" \"DecisionTest\""
   ]
  },
  {
   "cell_type": "code",
   "execution_count": 51,
   "id": "significant-consumption",
   "metadata": {
    "execution": {
     "iopub.execute_input": "2021-03-25T09:32:52.419720Z",
     "iopub.status.busy": "2021-03-25T09:32:52.418813Z",
     "iopub.status.idle": "2021-03-25T09:32:52.449132Z",
     "shell.execute_reply": "2021-03-25T09:32:52.447515Z"
    }
   },
   "outputs": [
    {
     "data": {
      "image/svg+xml": [
       "<?xml version=\"1.0\" encoding=\"UTF-8\" standalone=\"no\"?><svg xmlns=\"http://www.w3.org/2000/svg\" xmlns:xlink=\"http://www.w3.org/1999/xlink\" contentScriptType=\"application/ecmascript\" contentStyleType=\"text/css\" height=\"288px\" preserveAspectRatio=\"none\" style=\"width:875px;height:288px;background:#000000;\" version=\"1.1\" viewBox=\"0 0 875 288\" width=\"875px\" zoomAndPan=\"magnify\"><defs/><g><rect fill=\"#1E1603\" height=\"1\" style=\"stroke: #1E1603; stroke-width: 1.0;\" width=\"1\" x=\"0\" y=\"0\"/><rect fill=\"#33FF02\" height=\"21.2969\" style=\"stroke: #33FF02; stroke-width: 1.0;\" width=\"868\" x=\"5\" y=\"5\"/><text fill=\"#000000\" font-family=\"sans-serif\" font-size=\"14\" font-weight=\"bold\" lengthAdjust=\"spacingAndGlyphs\" textLength=\"178\" x=\"6\" y=\"20\">[From string (line 14) ]</text><text fill=\"#33FF02\" font-family=\"sans-serif\" font-size=\"14\" font-weight=\"bold\" lengthAdjust=\"spacingAndGlyphs\" textLength=\"0\" x=\"10\" y=\"40.2969\"/><text fill=\"#33FF02\" font-family=\"sans-serif\" font-size=\"14\" font-weight=\"bold\" lengthAdjust=\"spacingAndGlyphs\" textLength=\"79\" x=\"5\" y=\"56.5938\">@startuml</text><text fill=\"#33FF02\" font-family=\"sans-serif\" font-size=\"14\" font-weight=\"bold\" lengthAdjust=\"spacingAndGlyphs\" textLength=\"197\" x=\"5\" y=\"72.8906\">skinparam linetype ortho</text><text fill=\"#33FF02\" font-family=\"sans-serif\" font-size=\"14\" font-weight=\"bold\" lengthAdjust=\"spacingAndGlyphs\" textLength=\"228\" x=\"5\" y=\"89.1875\">skinparam monochrome true</text><text fill=\"#33FF02\" font-family=\"sans-serif\" font-size=\"14\" font-weight=\"bold\" lengthAdjust=\"spacingAndGlyphs\" textLength=\"309\" x=\"5\" y=\"105.4844\">skinparam classbackgroundcolor white</text><text fill=\"#33FF02\" font-family=\"sans-serif\" font-size=\"14\" font-weight=\"bold\" lengthAdjust=\"spacingAndGlyphs\" textLength=\"215\" x=\"5\" y=\"121.7813\">skinparam shadowing false</text><text fill=\"#33FF02\" font-family=\"sans-serif\" font-size=\"14\" font-weight=\"bold\" lengthAdjust=\"spacingAndGlyphs\" textLength=\"206\" x=\"5\" y=\"138.0781\">skinparam wrapWidth 300</text><text fill=\"#33FF02\" font-family=\"sans-serif\" font-size=\"14\" font-weight=\"bold\" lengthAdjust=\"spacingAndGlyphs\" textLength=\"82\" x=\"5\" y=\"154.375\">hide circle</text><text fill=\"#33FF02\" font-family=\"sans-serif\" font-size=\"14\" font-weight=\"bold\" lengthAdjust=\"spacingAndGlyphs\" textLength=\"0\" x=\"10\" y=\"170.6719\"/><text fill=\"#33FF02\" font-family=\"sans-serif\" font-size=\"14\" font-weight=\"bold\" lengthAdjust=\"spacingAndGlyphs\" textLength=\"868\" x=\"5\" y=\"186.9688\">rec def \"DecisionTest\" as E1  &lt;&lt;(T,blue)action def&gt;&gt; [[psysml:04eadb4d-b968-4a2d-91e2-cdec302c279f ]] {</text><text fill=\"#33FF02\" font-family=\"sans-serif\" font-size=\"14\" font-weight=\"bold\" lengthAdjust=\"spacingAndGlyphs\" textLength=\"614\" x=\"5\" y=\"203.2656\">portout \"$result\" as E2  [[psysml:f2b0b0cc-45ae-4166-8d5e-a5963ecab31c ]]</text><text fill=\"#33FF02\" font-family=\"sans-serif\" font-size=\"14\" font-weight=\"bold\" lengthAdjust=\"spacingAndGlyphs\" textLength=\"865\" x=\"5\" y=\"219.5625\">rec usage \"test x\" as E3  &lt;&lt;(T,blue)decisionNode&gt;&gt; [[psysml:12adcb2e-22ad-4270-ad09-4bee8bb9d85c ]] {</text><text fill=\"#33FF02\" font-family=\"sans-serif\" font-size=\"14\" font-weight=\"bold\" lengthAdjust=\"spacingAndGlyphs\" textLength=\"10\" x=\"5\" y=\"235.8594\">}</text><text fill=\"#33FF02\" font-family=\"sans-serif\" font-size=\"14\" font-weight=\"bold\" lengthAdjust=\"spacingAndGlyphs\" textLength=\"0\" x=\"10\" y=\"252.1563\"/><text fill=\"#33FF02\" font-family=\"sans-serif\" font-size=\"14\" font-weight=\"bold\" lengthAdjust=\"spacingAndGlyphs\" textLength=\"10\" x=\"5\" y=\"268.4531\">{</text><text fill=\"#FF0000\" font-family=\"sans-serif\" font-size=\"14\" font-weight=\"bold\" lengthAdjust=\"spacingAndGlyphs\" textLength=\"106\" x=\"10\" y=\"284.75\">Syntax Error?</text><!--MD5=[3d490d709747c1302f3e229db0cc8be9]\n",
       "@startuml\r\n",
       "skinparam linetype ortho\r\n",
       "skinparam monochrome true\r\n",
       "skinparam classbackgroundcolor white\r\n",
       "skinparam shadowing false\r\n",
       "skinparam wrapWidth 300\r\n",
       "hide circle\r\n",
       "\r\n",
       "rec def \"DecisionTest\" as E1  <<(T,blue)action def>> [[psysml:04eadb4d-b968-4a2d-91e2-cdec302c279f ]] {\r\n",
       "portout \"$result\" as E2  [[psysml:f2b0b0cc-45ae-4166-8d5e-a5963ecab31c ]] \r\n",
       "rec usage \"test x\" as E3  <<(T,blue)decisionNode>> [[psysml:12adcb2e-22ad-4270-ad09-4bee8bb9d85c ]] {\r\n",
       "}\r\n",
       "\r\n",
       "{\r\n",
       "portout \"$result\" as E4  [[psysml:da91a906-8207-462d-99e2-a18dec940aa7 ]] \r\n",
       "portin \"$x\" as E5  [[psysml:48c17a69-1eb9-4ad6-876e-38a96ca6e086 ]] \r\n",
       "portin \"$y\" as E6  [[psysml:603631ec-51c5-4249-8487-a79a64da6afc ]] \r\n",
       "portout \"$result\" as E7  [[psysml:26e7255e-bbd8-4ac7-a816-6f3abc826445 ]] \r\n",
       "}\r\n",
       "\r\n",
       "{\r\n",
       "portout \"$result\" as E8  [[psysml:34caa6ec-959e-4145-98ad-4a477d59f379 ]] \r\n",
       "portin \"$x\" as E9  [[psysml:a97d47b4-a3dd-4bbd-be98-fc91aed6e874 ]] \r\n",
       "portin \"$y\" as E10  [[psysml:4dcabb7c-801c-43eb-b65b-ea55ba06df11 ]] \r\n",
       "portout \"$result\" as E11  [[psysml:cd7ecfb5-304f-4537-af93-5efd7128d3b2 ]] \r\n",
       "}\r\n",
       "\r\n",
       "{\r\n",
       "}\r\n",
       "\r\n",
       "{\r\n",
       "}\r\n",
       "\r\n",
       "{\r\n",
       "portout \"$result\" as E12  [[psysml:f92bbb85-cf19-4dd5-984f-8fe428e355f9 ]] \r\n",
       "}\r\n",
       "\r\n",
       "{\r\n",
       "portout \"$result\" as E13  [[psysml:b44daa1d-0d17-440b-affc-4aae51a046a3 ]] \r\n",
       "}\r\n",
       "\r\n",
       "rec usage \"A1\" as E14  <<(T,blue)action>> [[psysml:b6d0d4a5-7082-45af-9d99-5627255ed9ae ]] {\r\n",
       "}\r\n",
       "\r\n",
       "rec usage \"A2\" as E15  <<(T,blue)action>> [[psysml:60e701bb-1db7-4263-ad0a-ece44064a54f ]] {\r\n",
       "}\r\n",
       "\r\n",
       "rec usage \"A3\" as E16  <<(T,blue)action>> [[psysml:072d93d2-c298-4f7b-8e67-b467b8356ba8 ]] {\r\n",
       "}\r\n",
       "\r\n",
       "rec usage \"S\" as E17  <<(T,blue)transition>> [[psysml:4c480f3e-de35-416e-b4f4-0f9aff9c2e68 ]] {\r\n",
       "rec usage \"A1\" as E18  <<(T,blue)action>> [[psysml:b6d0d4a5-7082-45af-9d99-5627255ed9ae ]] {\r\n",
       "}\r\n",
       "\r\n",
       "portout \"$result\" as E19  [[psysml:bae59e2e-3013-4238-add2-fcdff8ecd0eb ]] \r\n",
       "portin \"$x\" as E20  [[psysml:1602ff6f-7228-42cf-b9ac-ebc006cdcd92 ]] \r\n",
       "portin \"$y\" as E21  [[psysml:f75bdb3f-e701-450d-b4f7-b218e85bedc6 ]] \r\n",
       "portout \"$result\" as E22  [[psysml:671b30d7-f020-4858-831b-48c54d9c890b ]] \r\n",
       "}\r\n",
       "\r\n",
       "rec usage \"A3\" as E23  <<(T,blue)action>> [[psysml:072d93d2-c298-4f7b-8e67-b467b8356ba8 ]] {\r\n",
       "}\r\n",
       "\r\n",
       "{\r\n",
       "portout \"$result\" as E24  [[psysml:607bce31-a36d-4c4f-abb5-7d6a5b1eba4c ]] \r\n",
       "portin \"$x\" as E25  [[psysml:30d6127f-38d3-47e6-b88f-d8a7d1fd2593 ]] \r\n",
       "portin \"$y\" as E26  [[psysml:c49c5fa4-01bf-436f-878e-c0b2dd911bef ]] \r\n",
       "portout \"$result\" as E27  [[psysml:cfd24cc8-3d79-4a43-93a1-f42931f2c990 ]] \r\n",
       "}\r\n",
       "\r\n",
       "}\r\n",
       "\r\n",
       "@enduml\r\n",
       "\n",
       "PlantUML version 1.2020.13(Sat Jun 13 12:26:38 UTC 2020)\n",
       "(EPL source distribution)\n",
       "Java Runtime: OpenJDK Runtime Environment\n",
       "JVM: OpenJDK 64-Bit Server VM\n",
       "Default Encoding: UTF-8\n",
       "Language: en\n",
       "Country: null\n",
       "--></g></svg>"
      ]
     },
     "execution_count": 51,
     "metadata": {},
     "output_type": "execute_result"
    }
   ],
   "source": [
    "%viz --style=\"ORTHOLINE\" --view=\"Default\" \"DecisionTest\""
   ]
  },
  {
   "cell_type": "code",
   "execution_count": 52,
   "id": "royal-frederick",
   "metadata": {
    "execution": {
     "iopub.execute_input": "2021-03-25T09:32:52.500475Z",
     "iopub.status.busy": "2021-03-25T09:32:52.499848Z",
     "iopub.status.idle": "2021-03-25T09:32:52.853520Z",
     "shell.execute_reply": "2021-03-25T09:32:52.853902Z"
    }
   },
   "outputs": [
    {
     "data": {
      "image/svg+xml": [
       "<?xml version=\"1.0\" encoding=\"UTF-8\" standalone=\"no\"?><svg xmlns=\"http://www.w3.org/2000/svg\" xmlns:xlink=\"http://www.w3.org/1999/xlink\" contentScriptType=\"application/ecmascript\" contentStyleType=\"text/css\" height=\"207px\" preserveAspectRatio=\"none\" style=\"width:109px;height:207px;\" version=\"1.1\" viewBox=\"0 0 109 207\" width=\"109px\" zoomAndPan=\"magnify\"><defs/><g><!--MD5=[43c9051892ef23e1a46a86907403d788]\n",
       "class E1--><a href=\"psysml:04eadb4d-b968-4a2d-91e2-cdec302c279f\" target=\"_top\" title=\"psysml:04eadb4d-b968-4a2d-91e2-cdec302c279f\" xlink:actuate=\"onRequest\" xlink:href=\"psysml:04eadb4d-b968-4a2d-91e2-cdec302c279f\" xlink:show=\"new\" xlink:title=\"psysml:04eadb4d-b968-4a2d-91e2-cdec302c279f\" xlink:type=\"simple\"><rect fill=\"#FFFFFF\" height=\"189.9844\" id=\"E1\" style=\"stroke: #383838; stroke-width: 1.5;\" width=\"91\" x=\"7\" y=\"7\"/><text fill=\"#000000\" font-family=\"sans-serif\" font-size=\"12\" font-style=\"italic\" lengthAdjust=\"spacingAndGlyphs\" textLength=\"77\" x=\"14\" y=\"23.1387\">«action def»</text><text fill=\"#000000\" font-family=\"sans-serif\" font-size=\"12\" lengthAdjust=\"spacingAndGlyphs\" textLength=\"80\" x=\"12.5\" y=\"37.1074\">DecisionTest</text><line style=\"stroke: #383838; stroke-width: 1.5;\" x1=\"8\" x2=\"97\" y1=\"44.9375\" y2=\"44.9375\"/><text fill=\"#000000\" font-family=\"sans-serif\" font-size=\"11\" lengthAdjust=\"spacingAndGlyphs\" textLength=\"6\" x=\"13\" y=\"75.9526\">x</text><line style=\"stroke: #383838; stroke-width: 1.0;\" x1=\"8\" x2=\"25\" y1=\"59.3398\" y2=\"59.3398\"/><text fill=\"#000000\" font-family=\"sans-serif\" font-size=\"11\" lengthAdjust=\"spacingAndGlyphs\" textLength=\"55\" x=\"25\" y=\"62.6479\">attributes</text><line style=\"stroke: #383838; stroke-width: 1.0;\" x1=\"80\" x2=\"97\" y1=\"59.3398\" y2=\"59.3398\"/><text fill=\"#000000\" font-family=\"sans-serif\" font-size=\"11\" lengthAdjust=\"spacingAndGlyphs\" textLength=\"14\" x=\"13\" y=\"105.562\">A1</text><text fill=\"#000000\" font-family=\"sans-serif\" font-size=\"11\" lengthAdjust=\"spacingAndGlyphs\" textLength=\"14\" x=\"13\" y=\"118.3667\">A2</text><text fill=\"#000000\" font-family=\"sans-serif\" font-size=\"11\" lengthAdjust=\"spacingAndGlyphs\" textLength=\"14\" x=\"13\" y=\"131.1714\">A3</text><line style=\"stroke: #383838; stroke-width: 1.0;\" x1=\"8\" x2=\"32\" y1=\"88.9492\" y2=\"88.9492\"/><text fill=\"#000000\" font-family=\"sans-serif\" font-size=\"11\" lengthAdjust=\"spacingAndGlyphs\" textLength=\"41\" x=\"32\" y=\"92.2573\">actions</text><line style=\"stroke: #383838; stroke-width: 1.0;\" x1=\"73\" x2=\"97\" y1=\"88.9492\" y2=\"88.9492\"/><text fill=\"#000000\" font-family=\"sans-serif\" font-size=\"11\" lengthAdjust=\"spacingAndGlyphs\" textLength=\"32\" x=\"13\" y=\"160.7808\">test x</text><line style=\"stroke: #383838; stroke-width: 1.0;\" x1=\"8\" x2=\"11\" y1=\"144.168\" y2=\"144.168\"/><text fill=\"#000000\" font-family=\"sans-serif\" font-size=\"11\" lengthAdjust=\"spacingAndGlyphs\" textLength=\"83\" x=\"11\" y=\"147.4761\">decisionNodes</text><line style=\"stroke: #383838; stroke-width: 1.0;\" x1=\"94\" x2=\"97\" y1=\"144.168\" y2=\"144.168\"/><text fill=\"#000000\" font-family=\"sans-serif\" font-size=\"11\" lengthAdjust=\"spacingAndGlyphs\" textLength=\"8\" x=\"13\" y=\"190.3901\">S</text><line style=\"stroke: #383838; stroke-width: 1.0;\" x1=\"8\" x2=\"22\" y1=\"173.7773\" y2=\"173.7773\"/><text fill=\"#000000\" font-family=\"sans-serif\" font-size=\"11\" lengthAdjust=\"spacingAndGlyphs\" textLength=\"61\" x=\"22\" y=\"177.0854\">transitions</text><line style=\"stroke: #383838; stroke-width: 1.0;\" x1=\"83\" x2=\"97\" y1=\"173.7773\" y2=\"173.7773\"/></a><!--MD5=[9e37b8ea4ad3fad2f84414974340820c]\n",
       "@startuml\r\n",
       "skinparam linetype ortho\r\n",
       "skinparam monochrome true\r\n",
       "skinparam classbackgroundcolor white\r\n",
       "skinparam shadowing false\r\n",
       "skinparam wrapWidth 300\r\n",
       "hide circle\r\n",
       "\r\n",
       "comp def \"DecisionTest\" as E1  <<(T,blue)action def>> [[psysml:04eadb4d-b968-4a2d-91e2-cdec302c279f ]] {\r\n",
       "- - attributes - -\r\n",
       "x\r\n",
       "- - actions - -\r\n",
       "A1\r\n",
       "A2\r\n",
       "A3\r\n",
       "- - decisionNodes - -\r\n",
       "test x\r\n",
       "- - transitions - -\r\n",
       "S\r\n",
       "}\r\n",
       "@enduml\r\n",
       "\n",
       "PlantUML version 1.2020.13(Sat Jun 13 12:26:38 UTC 2020)\n",
       "(EPL source distribution)\n",
       "Java Runtime: OpenJDK Runtime Environment\n",
       "JVM: OpenJDK 64-Bit Server VM\n",
       "Default Encoding: UTF-8\n",
       "Language: en\n",
       "Country: null\n",
       "--></g></svg>"
      ]
     },
     "execution_count": 52,
     "metadata": {},
     "output_type": "execute_result"
    }
   ],
   "source": [
    "%viz --style=\"ORTHOLINE\" --view=\"Tree\" \"DecisionTest\""
   ]
  },
  {
   "cell_type": "code",
   "execution_count": 53,
   "id": "fatal-coalition",
   "metadata": {
    "execution": {
     "iopub.execute_input": "2021-03-25T09:32:52.905386Z",
     "iopub.status.busy": "2021-03-25T09:32:52.904618Z",
     "iopub.status.idle": "2021-03-25T09:32:52.914321Z",
     "shell.execute_reply": "2021-03-25T09:32:52.913910Z"
    }
   },
   "outputs": [
    {
     "data": {
      "image/svg+xml": [
       "<?xml version=\"1.0\" encoding=\"UTF-8\" standalone=\"no\"?><svg xmlns=\"http://www.w3.org/2000/svg\" xmlns:xlink=\"http://www.w3.org/1999/xlink\" contentScriptType=\"application/ecmascript\" contentStyleType=\"text/css\" height=\"12px\" preserveAspectRatio=\"none\" style=\"width:12px;height:12px;\" version=\"1.1\" viewBox=\"0 0 12 12\" width=\"12px\" zoomAndPan=\"magnify\"><defs/><g><!--MD5=[97d6f38768b311333d388e66b2b27985]\n",
       "@startuml\r\n",
       "skinparam linetype ortho\r\n",
       "skinparam monochrome true\r\n",
       "skinparam classbackgroundcolor white\r\n",
       "skinparam shadowing false\r\n",
       "skinparam wrapWidth 300\r\n",
       "hide circle\r\n",
       "\r\n",
       "@enduml\r\n",
       "\n",
       "PlantUML version 1.2020.13(Sat Jun 13 12:26:38 UTC 2020)\n",
       "(EPL source distribution)\n",
       "Java Runtime: OpenJDK Runtime Environment\n",
       "JVM: OpenJDK 64-Bit Server VM\n",
       "Default Encoding: UTF-8\n",
       "Language: en\n",
       "Country: null\n",
       "--></g></svg>"
      ]
     },
     "execution_count": 53,
     "metadata": {},
     "output_type": "execute_result"
    }
   ],
   "source": [
    "%viz --style=\"ORTHOLINE\" --view=\"State\" \"DecisionTest\""
   ]
  },
  {
   "cell_type": "code",
   "execution_count": 54,
   "id": "limited-pioneer",
   "metadata": {
    "execution": {
     "iopub.execute_input": "2021-03-25T09:32:52.965767Z",
     "iopub.status.busy": "2021-03-25T09:32:52.965216Z",
     "iopub.status.idle": "2021-03-25T09:32:52.994768Z",
     "shell.execute_reply": "2021-03-25T09:32:52.994090Z"
    }
   },
   "outputs": [
    {
     "data": {
      "image/svg+xml": [
       "<?xml version=\"1.0\" encoding=\"UTF-8\" standalone=\"no\"?><svg xmlns=\"http://www.w3.org/2000/svg\" xmlns:xlink=\"http://www.w3.org/1999/xlink\" contentScriptType=\"application/ecmascript\" contentStyleType=\"text/css\" height=\"60px\" preserveAspectRatio=\"none\" style=\"width:109px;height:60px;\" version=\"1.1\" viewBox=\"0 0 109 60\" width=\"109px\" zoomAndPan=\"magnify\"><defs/><g><g id=\"E1\"><a href=\"psysml:04eadb4d-b968-4a2d-91e2-cdec302c279f\" target=\"_top\" title=\"psysml:04eadb4d-b968-4a2d-91e2-cdec302c279f\" xlink:actuate=\"onRequest\" xlink:href=\"psysml:04eadb4d-b968-4a2d-91e2-cdec302c279f\" xlink:show=\"new\" xlink:title=\"psysml:04eadb4d-b968-4a2d-91e2-cdec302c279f\" xlink:type=\"simple\"><rect fill=\"#FFFFFF\" height=\"42.9375\" id=\"E1\" style=\"stroke: #383838; stroke-width: 1.5;\" width=\"91\" x=\"7\" y=\"7\"/><rect fill=\"#F8F8F8\" height=\"37.9375\" style=\"stroke: #383838; stroke-width: 1.5;\" width=\"91\" x=\"7\" y=\"7\"/><text fill=\"#000000\" font-family=\"sans-serif\" font-size=\"12\" font-style=\"italic\" lengthAdjust=\"spacingAndGlyphs\" textLength=\"77\" x=\"14\" y=\"23.1387\">«action def»</text><text fill=\"#000000\" font-family=\"sans-serif\" font-size=\"12\" lengthAdjust=\"spacingAndGlyphs\" textLength=\"80\" x=\"12.5\" y=\"37.1074\">DecisionTest</text></a></g><!--MD5=[5f5c81312bbcaa1335aff5e23fa1e752]\n",
       "@startuml\r\n",
       "skinparam ranksep 8\r\n",
       "skinparam rectangle {\r\n",
       " backgroundColor<<block>> LightGreen\r\n",
       "}\r\n",
       "skinparam linetype ortho\r\n",
       "skinparam monochrome true\r\n",
       "skinparam classbackgroundcolor white\r\n",
       "skinparam shadowing false\r\n",
       "skinparam wrapWidth 300\r\n",
       "hide circle\r\n",
       "\r\n",
       "def \"DecisionTest\" as E1  <<(T,blue)action def>> [[psysml:04eadb4d-b968-4a2d-91e2-cdec302c279f ]] \r\n",
       "@enduml\r\n",
       "\n",
       "PlantUML version 1.2020.13(Sat Jun 13 12:26:38 UTC 2020)\n",
       "(EPL source distribution)\n",
       "Java Runtime: OpenJDK Runtime Environment\n",
       "JVM: OpenJDK 64-Bit Server VM\n",
       "Default Encoding: UTF-8\n",
       "Language: en\n",
       "Country: null\n",
       "--></g></svg>"
      ]
     },
     "execution_count": 54,
     "metadata": {},
     "output_type": "execute_result"
    }
   ],
   "source": [
    "%viz --style=\"ORTHOLINE\" --view=\"Interconnection\" \"DecisionTest\""
   ]
  },
  {
   "cell_type": "code",
   "execution_count": 55,
   "id": "cosmetic-footwear",
   "metadata": {
    "execution": {
     "iopub.execute_input": "2021-03-25T09:32:53.046311Z",
     "iopub.status.busy": "2021-03-25T09:32:53.045105Z",
     "iopub.status.idle": "2021-03-25T09:32:53.074818Z",
     "shell.execute_reply": "2021-03-25T09:32:53.073393Z"
    }
   },
   "outputs": [
    {
     "data": {
      "image/svg+xml": [
       "<?xml version=\"1.0\" encoding=\"UTF-8\" standalone=\"no\"?><svg xmlns=\"http://www.w3.org/2000/svg\" xmlns:xlink=\"http://www.w3.org/1999/xlink\" contentScriptType=\"application/ecmascript\" contentStyleType=\"text/css\" height=\"304px\" preserveAspectRatio=\"none\" style=\"width:875px;height:304px;background:#000000;\" version=\"1.1\" viewBox=\"0 0 875 304\" width=\"875px\" zoomAndPan=\"magnify\"><defs/><g><rect fill=\"#070D07\" height=\"1\" style=\"stroke: #070D07; stroke-width: 1.0;\" width=\"1\" x=\"0\" y=\"0\"/><rect fill=\"#33FF02\" height=\"21.2969\" style=\"stroke: #33FF02; stroke-width: 1.0;\" width=\"868\" x=\"5\" y=\"5\"/><text fill=\"#000000\" font-family=\"sans-serif\" font-size=\"14\" font-weight=\"bold\" lengthAdjust=\"spacingAndGlyphs\" textLength=\"178\" x=\"6\" y=\"20\">[From string (line 15) ]</text><text fill=\"#33FF02\" font-family=\"sans-serif\" font-size=\"14\" font-weight=\"bold\" lengthAdjust=\"spacingAndGlyphs\" textLength=\"0\" x=\"10\" y=\"40.2969\"/><text fill=\"#33FF02\" font-family=\"sans-serif\" font-size=\"14\" font-weight=\"bold\" lengthAdjust=\"spacingAndGlyphs\" textLength=\"79\" x=\"5\" y=\"56.5938\">@startuml</text><text fill=\"#33FF02\" font-family=\"sans-serif\" font-size=\"14\" font-weight=\"bold\" lengthAdjust=\"spacingAndGlyphs\" textLength=\"165\" x=\"5\" y=\"72.8906\">skinparam ranksep 8</text><text fill=\"#33FF02\" font-family=\"sans-serif\" font-size=\"14\" font-weight=\"bold\" lengthAdjust=\"spacingAndGlyphs\" textLength=\"197\" x=\"5\" y=\"89.1875\">skinparam linetype ortho</text><text fill=\"#33FF02\" font-family=\"sans-serif\" font-size=\"14\" font-weight=\"bold\" lengthAdjust=\"spacingAndGlyphs\" textLength=\"228\" x=\"5\" y=\"105.4844\">skinparam monochrome true</text><text fill=\"#33FF02\" font-family=\"sans-serif\" font-size=\"14\" font-weight=\"bold\" lengthAdjust=\"spacingAndGlyphs\" textLength=\"309\" x=\"5\" y=\"121.7813\">skinparam classbackgroundcolor white</text><text fill=\"#33FF02\" font-family=\"sans-serif\" font-size=\"14\" font-weight=\"bold\" lengthAdjust=\"spacingAndGlyphs\" textLength=\"215\" x=\"5\" y=\"138.0781\">skinparam shadowing false</text><text fill=\"#33FF02\" font-family=\"sans-serif\" font-size=\"14\" font-weight=\"bold\" lengthAdjust=\"spacingAndGlyphs\" textLength=\"206\" x=\"5\" y=\"154.375\">skinparam wrapWidth 300</text><text fill=\"#33FF02\" font-family=\"sans-serif\" font-size=\"14\" font-weight=\"bold\" lengthAdjust=\"spacingAndGlyphs\" textLength=\"82\" x=\"5\" y=\"170.6719\">hide circle</text><text fill=\"#33FF02\" font-family=\"sans-serif\" font-size=\"14\" font-weight=\"bold\" lengthAdjust=\"spacingAndGlyphs\" textLength=\"0\" x=\"10\" y=\"186.9688\"/><text fill=\"#33FF02\" font-family=\"sans-serif\" font-size=\"14\" font-weight=\"bold\" lengthAdjust=\"spacingAndGlyphs\" textLength=\"868\" x=\"5\" y=\"203.2656\">rec def \"DecisionTest\" as E1  &lt;&lt;(T,blue)action def&gt;&gt; [[psysml:04eadb4d-b968-4a2d-91e2-cdec302c279f ]] {</text><text fill=\"#33FF02\" font-family=\"sans-serif\" font-size=\"14\" font-weight=\"bold\" lengthAdjust=\"spacingAndGlyphs\" textLength=\"614\" x=\"5\" y=\"219.5625\">portout \"$result\" as E2  [[psysml:f2b0b0cc-45ae-4166-8d5e-a5963ecab31c ]]</text><text fill=\"#33FF02\" font-family=\"sans-serif\" font-size=\"14\" font-weight=\"bold\" lengthAdjust=\"spacingAndGlyphs\" textLength=\"865\" x=\"5\" y=\"235.8594\">rec usage \"test x\" as E3  &lt;&lt;(T,blue)decisionNode&gt;&gt; [[psysml:12adcb2e-22ad-4270-ad09-4bee8bb9d85c ]] {</text><text fill=\"#33FF02\" font-family=\"sans-serif\" font-size=\"14\" font-weight=\"bold\" lengthAdjust=\"spacingAndGlyphs\" textLength=\"10\" x=\"5\" y=\"252.1563\">}</text><text fill=\"#33FF02\" font-family=\"sans-serif\" font-size=\"14\" font-weight=\"bold\" lengthAdjust=\"spacingAndGlyphs\" textLength=\"0\" x=\"10\" y=\"268.4531\"/><text fill=\"#33FF02\" font-family=\"sans-serif\" font-size=\"14\" font-weight=\"bold\" lengthAdjust=\"spacingAndGlyphs\" textLength=\"10\" x=\"5\" y=\"284.75\">{</text><text fill=\"#FF0000\" font-family=\"sans-serif\" font-size=\"14\" font-weight=\"bold\" lengthAdjust=\"spacingAndGlyphs\" textLength=\"106\" x=\"10\" y=\"301.0469\">Syntax Error?</text><!--MD5=[8ef28c2b3fe7f11c300e7364b68a1964]\n",
       "@startuml\r\n",
       "skinparam ranksep 8\r\n",
       "skinparam linetype ortho\r\n",
       "skinparam monochrome true\r\n",
       "skinparam classbackgroundcolor white\r\n",
       "skinparam shadowing false\r\n",
       "skinparam wrapWidth 300\r\n",
       "hide circle\r\n",
       "\r\n",
       "rec def \"DecisionTest\" as E1  <<(T,blue)action def>> [[psysml:04eadb4d-b968-4a2d-91e2-cdec302c279f ]] {\r\n",
       "portout \"$result\" as E2  [[psysml:f2b0b0cc-45ae-4166-8d5e-a5963ecab31c ]] \r\n",
       "rec usage \"test x\" as E3  <<(T,blue)decisionNode>> [[psysml:12adcb2e-22ad-4270-ad09-4bee8bb9d85c ]] {\r\n",
       "}\r\n",
       "\r\n",
       "{\r\n",
       "portout \"$result\" as E4  [[psysml:da91a906-8207-462d-99e2-a18dec940aa7 ]] \r\n",
       "portin \"$x\" as E5  [[psysml:48c17a69-1eb9-4ad6-876e-38a96ca6e086 ]] \r\n",
       "portin \"$y\" as E6  [[psysml:603631ec-51c5-4249-8487-a79a64da6afc ]] \r\n",
       "portout \"$result\" as E7  [[psysml:26e7255e-bbd8-4ac7-a816-6f3abc826445 ]] \r\n",
       "}\r\n",
       "\r\n",
       "{\r\n",
       "portout \"$result\" as E8  [[psysml:34caa6ec-959e-4145-98ad-4a477d59f379 ]] \r\n",
       "portin \"$x\" as E9  [[psysml:a97d47b4-a3dd-4bbd-be98-fc91aed6e874 ]] \r\n",
       "portin \"$y\" as E10  [[psysml:4dcabb7c-801c-43eb-b65b-ea55ba06df11 ]] \r\n",
       "portout \"$result\" as E11  [[psysml:cd7ecfb5-304f-4537-af93-5efd7128d3b2 ]] \r\n",
       "}\r\n",
       "\r\n",
       "{\r\n",
       "}\r\n",
       "\r\n",
       "{\r\n",
       "}\r\n",
       "\r\n",
       "{\r\n",
       "portout \"$result\" as E12  [[psysml:f92bbb85-cf19-4dd5-984f-8fe428e355f9 ]] \r\n",
       "}\r\n",
       "\r\n",
       "{\r\n",
       "portout \"$result\" as E13  [[psysml:b44daa1d-0d17-440b-affc-4aae51a046a3 ]] \r\n",
       "}\r\n",
       "\r\n",
       "rec usage \"A1\" as E14  <<(T,blue)action>> [[psysml:b6d0d4a5-7082-45af-9d99-5627255ed9ae ]] {\r\n",
       "}\r\n",
       "\r\n",
       "rec usage \"A2\" as E15  <<(T,blue)action>> [[psysml:60e701bb-1db7-4263-ad0a-ece44064a54f ]] {\r\n",
       "}\r\n",
       "\r\n",
       "rec usage \"A3\" as E16  <<(T,blue)action>> [[psysml:072d93d2-c298-4f7b-8e67-b467b8356ba8 ]] {\r\n",
       "}\r\n",
       "\r\n",
       "rec usage \"S\" as E17  <<(T,blue)transition>> [[psysml:4c480f3e-de35-416e-b4f4-0f9aff9c2e68 ]] {\r\n",
       "rec usage \"A1\" as E18  <<(T,blue)action>> [[psysml:b6d0d4a5-7082-45af-9d99-5627255ed9ae ]] {\r\n",
       "}\r\n",
       "\r\n",
       "portout \"$result\" as E19  [[psysml:bae59e2e-3013-4238-add2-fcdff8ecd0eb ]] \r\n",
       "portin \"$x\" as E20  [[psysml:1602ff6f-7228-42cf-b9ac-ebc006cdcd92 ]] \r\n",
       "portin \"$y\" as E21  [[psysml:f75bdb3f-e701-450d-b4f7-b218e85bedc6 ]] \r\n",
       "portout \"$result\" as E22  [[psysml:671b30d7-f020-4858-831b-48c54d9c890b ]] \r\n",
       "}\r\n",
       "\r\n",
       "rec usage \"A3\" as E23  <<(T,blue)action>> [[psysml:072d93d2-c298-4f7b-8e67-b467b8356ba8 ]] {\r\n",
       "}\r\n",
       "\r\n",
       "{\r\n",
       "portout \"$result\" as E24  [[psysml:607bce31-a36d-4c4f-abb5-7d6a5b1eba4c ]] \r\n",
       "portin \"$x\" as E25  [[psysml:30d6127f-38d3-47e6-b88f-d8a7d1fd2593 ]] \r\n",
       "portin \"$y\" as E26  [[psysml:c49c5fa4-01bf-436f-878e-c0b2dd911bef ]] \r\n",
       "portout \"$result\" as E27  [[psysml:cfd24cc8-3d79-4a43-93a1-f42931f2c990 ]] \r\n",
       "}\r\n",
       "\r\n",
       "}\r\n",
       "\r\n",
       "@enduml\r\n",
       "\n",
       "PlantUML version 1.2020.13(Sat Jun 13 12:26:38 UTC 2020)\n",
       "(EPL source distribution)\n",
       "Java Runtime: OpenJDK Runtime Environment\n",
       "JVM: OpenJDK 64-Bit Server VM\n",
       "Default Encoding: UTF-8\n",
       "Language: en\n",
       "Country: null\n",
       "--></g></svg>"
      ]
     },
     "execution_count": 55,
     "metadata": {},
     "output_type": "execute_result"
    }
   ],
   "source": [
    "%viz --style=\"ORTHOLINE\" --view=\"Action\" \"DecisionTest\""
   ]
  },
  {
   "cell_type": "code",
   "execution_count": 56,
   "id": "driving-extreme",
   "metadata": {
    "execution": {
     "iopub.execute_input": "2021-03-25T09:32:53.125697Z",
     "iopub.status.busy": "2021-03-25T09:32:53.124932Z",
     "iopub.status.idle": "2021-03-25T09:32:53.483761Z",
     "shell.execute_reply": "2021-03-25T09:32:53.483437Z"
    }
   },
   "outputs": [
    {
     "data": {
      "image/svg+xml": [
       "<?xml version=\"1.0\" encoding=\"UTF-8\" standalone=\"no\"?><svg xmlns=\"http://www.w3.org/2000/svg\" xmlns:xlink=\"http://www.w3.org/1999/xlink\" contentScriptType=\"application/ecmascript\" contentStyleType=\"text/css\" height=\"207px\" preserveAspectRatio=\"none\" style=\"width:109px;height:207px;\" version=\"1.1\" viewBox=\"0 0 109 207\" width=\"109px\" zoomAndPan=\"magnify\"><defs/><g><!--MD5=[43c9051892ef23e1a46a86907403d788]\n",
       "class E1--><a href=\"psysml:04eadb4d-b968-4a2d-91e2-cdec302c279f\" target=\"_top\" title=\"psysml:04eadb4d-b968-4a2d-91e2-cdec302c279f\" xlink:actuate=\"onRequest\" xlink:href=\"psysml:04eadb4d-b968-4a2d-91e2-cdec302c279f\" xlink:show=\"new\" xlink:title=\"psysml:04eadb4d-b968-4a2d-91e2-cdec302c279f\" xlink:type=\"simple\"><rect fill=\"#FFFFFF\" height=\"189.9844\" id=\"E1\" style=\"stroke: #383838; stroke-width: 1.5;\" width=\"91\" x=\"7\" y=\"7\"/><text fill=\"#000000\" font-family=\"sans-serif\" font-size=\"12\" font-style=\"italic\" lengthAdjust=\"spacingAndGlyphs\" textLength=\"77\" x=\"14\" y=\"23.1387\">«action def»</text><text fill=\"#000000\" font-family=\"sans-serif\" font-size=\"12\" lengthAdjust=\"spacingAndGlyphs\" textLength=\"80\" x=\"12.5\" y=\"37.1074\">DecisionTest</text><line style=\"stroke: #383838; stroke-width: 1.5;\" x1=\"8\" x2=\"97\" y1=\"44.9375\" y2=\"44.9375\"/><text fill=\"#000000\" font-family=\"sans-serif\" font-size=\"11\" lengthAdjust=\"spacingAndGlyphs\" textLength=\"6\" x=\"13\" y=\"75.9526\">x</text><line style=\"stroke: #383838; stroke-width: 1.0;\" x1=\"8\" x2=\"25\" y1=\"59.3398\" y2=\"59.3398\"/><text fill=\"#000000\" font-family=\"sans-serif\" font-size=\"11\" lengthAdjust=\"spacingAndGlyphs\" textLength=\"55\" x=\"25\" y=\"62.6479\">attributes</text><line style=\"stroke: #383838; stroke-width: 1.0;\" x1=\"80\" x2=\"97\" y1=\"59.3398\" y2=\"59.3398\"/><text fill=\"#000000\" font-family=\"sans-serif\" font-size=\"11\" lengthAdjust=\"spacingAndGlyphs\" textLength=\"14\" x=\"13\" y=\"105.562\">A1</text><text fill=\"#000000\" font-family=\"sans-serif\" font-size=\"11\" lengthAdjust=\"spacingAndGlyphs\" textLength=\"14\" x=\"13\" y=\"118.3667\">A2</text><text fill=\"#000000\" font-family=\"sans-serif\" font-size=\"11\" lengthAdjust=\"spacingAndGlyphs\" textLength=\"14\" x=\"13\" y=\"131.1714\">A3</text><line style=\"stroke: #383838; stroke-width: 1.0;\" x1=\"8\" x2=\"32\" y1=\"88.9492\" y2=\"88.9492\"/><text fill=\"#000000\" font-family=\"sans-serif\" font-size=\"11\" lengthAdjust=\"spacingAndGlyphs\" textLength=\"41\" x=\"32\" y=\"92.2573\">actions</text><line style=\"stroke: #383838; stroke-width: 1.0;\" x1=\"73\" x2=\"97\" y1=\"88.9492\" y2=\"88.9492\"/><text fill=\"#000000\" font-family=\"sans-serif\" font-size=\"11\" lengthAdjust=\"spacingAndGlyphs\" textLength=\"32\" x=\"13\" y=\"160.7808\">test x</text><line style=\"stroke: #383838; stroke-width: 1.0;\" x1=\"8\" x2=\"11\" y1=\"144.168\" y2=\"144.168\"/><text fill=\"#000000\" font-family=\"sans-serif\" font-size=\"11\" lengthAdjust=\"spacingAndGlyphs\" textLength=\"83\" x=\"11\" y=\"147.4761\">decisionNodes</text><line style=\"stroke: #383838; stroke-width: 1.0;\" x1=\"94\" x2=\"97\" y1=\"144.168\" y2=\"144.168\"/><text fill=\"#000000\" font-family=\"sans-serif\" font-size=\"11\" lengthAdjust=\"spacingAndGlyphs\" textLength=\"8\" x=\"13\" y=\"190.3901\">S</text><line style=\"stroke: #383838; stroke-width: 1.0;\" x1=\"8\" x2=\"22\" y1=\"173.7773\" y2=\"173.7773\"/><text fill=\"#000000\" font-family=\"sans-serif\" font-size=\"11\" lengthAdjust=\"spacingAndGlyphs\" textLength=\"61\" x=\"22\" y=\"177.0854\">transitions</text><line style=\"stroke: #383838; stroke-width: 1.0;\" x1=\"83\" x2=\"97\" y1=\"173.7773\" y2=\"173.7773\"/></a><!--MD5=[9e37b8ea4ad3fad2f84414974340820c]\n",
       "@startuml\r\n",
       "skinparam linetype ortho\r\n",
       "skinparam monochrome true\r\n",
       "skinparam classbackgroundcolor white\r\n",
       "skinparam shadowing false\r\n",
       "skinparam wrapWidth 300\r\n",
       "hide circle\r\n",
       "\r\n",
       "comp def \"DecisionTest\" as E1  <<(T,blue)action def>> [[psysml:04eadb4d-b968-4a2d-91e2-cdec302c279f ]] {\r\n",
       "- - attributes - -\r\n",
       "x\r\n",
       "- - actions - -\r\n",
       "A1\r\n",
       "A2\r\n",
       "A3\r\n",
       "- - decisionNodes - -\r\n",
       "test x\r\n",
       "- - transitions - -\r\n",
       "S\r\n",
       "}\r\n",
       "@enduml\r\n",
       "\n",
       "PlantUML version 1.2020.13(Sat Jun 13 12:26:38 UTC 2020)\n",
       "(EPL source distribution)\n",
       "Java Runtime: OpenJDK Runtime Environment\n",
       "JVM: OpenJDK 64-Bit Server VM\n",
       "Default Encoding: UTF-8\n",
       "Language: en\n",
       "Country: null\n",
       "--></g></svg>"
      ]
     },
     "execution_count": 56,
     "metadata": {},
     "output_type": "execute_result"
    }
   ],
   "source": [
    "%viz --style=\"ORTHOLINE\" --view=\"Sequence\" \"DecisionTest\""
   ]
  },
  {
   "cell_type": "code",
   "execution_count": 57,
   "id": "flexible-patient",
   "metadata": {
    "execution": {
     "iopub.execute_input": "2021-03-25T09:32:53.534529Z",
     "iopub.status.busy": "2021-03-25T09:32:53.533878Z",
     "iopub.status.idle": "2021-03-25T09:32:53.562247Z",
     "shell.execute_reply": "2021-03-25T09:32:53.560830Z"
    }
   },
   "outputs": [
    {
     "data": {
      "image/svg+xml": [
       "<?xml version=\"1.0\" encoding=\"UTF-8\" standalone=\"no\"?><svg xmlns=\"http://www.w3.org/2000/svg\" xmlns:xlink=\"http://www.w3.org/1999/xlink\" contentScriptType=\"application/ecmascript\" contentStyleType=\"text/css\" height=\"288px\" preserveAspectRatio=\"none\" style=\"width:875px;height:288px;background:#000000;\" version=\"1.1\" viewBox=\"0 0 875 288\" width=\"875px\" zoomAndPan=\"magnify\"><defs/><g><rect fill=\"#200B25\" height=\"1\" style=\"stroke: #200B25; stroke-width: 1.0;\" width=\"1\" x=\"0\" y=\"0\"/><rect fill=\"#33FF02\" height=\"21.2969\" style=\"stroke: #33FF02; stroke-width: 1.0;\" width=\"868\" x=\"5\" y=\"5\"/><text fill=\"#000000\" font-family=\"sans-serif\" font-size=\"14\" font-weight=\"bold\" lengthAdjust=\"spacingAndGlyphs\" textLength=\"178\" x=\"6\" y=\"20\">[From string (line 14) ]</text><text fill=\"#33FF02\" font-family=\"sans-serif\" font-size=\"14\" font-weight=\"bold\" lengthAdjust=\"spacingAndGlyphs\" textLength=\"0\" x=\"10\" y=\"40.2969\"/><text fill=\"#33FF02\" font-family=\"sans-serif\" font-size=\"14\" font-weight=\"bold\" lengthAdjust=\"spacingAndGlyphs\" textLength=\"79\" x=\"5\" y=\"56.5938\">@startuml</text><text fill=\"#33FF02\" font-family=\"sans-serif\" font-size=\"14\" font-weight=\"bold\" lengthAdjust=\"spacingAndGlyphs\" textLength=\"197\" x=\"5\" y=\"72.8906\">skinparam linetype ortho</text><text fill=\"#33FF02\" font-family=\"sans-serif\" font-size=\"14\" font-weight=\"bold\" lengthAdjust=\"spacingAndGlyphs\" textLength=\"228\" x=\"5\" y=\"89.1875\">skinparam monochrome true</text><text fill=\"#33FF02\" font-family=\"sans-serif\" font-size=\"14\" font-weight=\"bold\" lengthAdjust=\"spacingAndGlyphs\" textLength=\"309\" x=\"5\" y=\"105.4844\">skinparam classbackgroundcolor white</text><text fill=\"#33FF02\" font-family=\"sans-serif\" font-size=\"14\" font-weight=\"bold\" lengthAdjust=\"spacingAndGlyphs\" textLength=\"215\" x=\"5\" y=\"121.7813\">skinparam shadowing false</text><text fill=\"#33FF02\" font-family=\"sans-serif\" font-size=\"14\" font-weight=\"bold\" lengthAdjust=\"spacingAndGlyphs\" textLength=\"206\" x=\"5\" y=\"138.0781\">skinparam wrapWidth 300</text><text fill=\"#33FF02\" font-family=\"sans-serif\" font-size=\"14\" font-weight=\"bold\" lengthAdjust=\"spacingAndGlyphs\" textLength=\"82\" x=\"5\" y=\"154.375\">hide circle</text><text fill=\"#33FF02\" font-family=\"sans-serif\" font-size=\"14\" font-weight=\"bold\" lengthAdjust=\"spacingAndGlyphs\" textLength=\"0\" x=\"10\" y=\"170.6719\"/><text fill=\"#33FF02\" font-family=\"sans-serif\" font-size=\"14\" font-weight=\"bold\" lengthAdjust=\"spacingAndGlyphs\" textLength=\"868\" x=\"5\" y=\"186.9688\">rec def \"DecisionTest\" as E1  &lt;&lt;(T,blue)action def&gt;&gt; [[psysml:04eadb4d-b968-4a2d-91e2-cdec302c279f ]] {</text><text fill=\"#33FF02\" font-family=\"sans-serif\" font-size=\"14\" font-weight=\"bold\" lengthAdjust=\"spacingAndGlyphs\" textLength=\"614\" x=\"5\" y=\"203.2656\">portout \"$result\" as E2  [[psysml:f2b0b0cc-45ae-4166-8d5e-a5963ecab31c ]]</text><text fill=\"#33FF02\" font-family=\"sans-serif\" font-size=\"14\" font-weight=\"bold\" lengthAdjust=\"spacingAndGlyphs\" textLength=\"865\" x=\"5\" y=\"219.5625\">rec usage \"test x\" as E3  &lt;&lt;(T,blue)decisionNode&gt;&gt; [[psysml:12adcb2e-22ad-4270-ad09-4bee8bb9d85c ]] {</text><text fill=\"#33FF02\" font-family=\"sans-serif\" font-size=\"14\" font-weight=\"bold\" lengthAdjust=\"spacingAndGlyphs\" textLength=\"10\" x=\"5\" y=\"235.8594\">}</text><text fill=\"#33FF02\" font-family=\"sans-serif\" font-size=\"14\" font-weight=\"bold\" lengthAdjust=\"spacingAndGlyphs\" textLength=\"0\" x=\"10\" y=\"252.1563\"/><text fill=\"#33FF02\" font-family=\"sans-serif\" font-size=\"14\" font-weight=\"bold\" lengthAdjust=\"spacingAndGlyphs\" textLength=\"10\" x=\"5\" y=\"268.4531\">{</text><text fill=\"#FF0000\" font-family=\"sans-serif\" font-size=\"14\" font-weight=\"bold\" lengthAdjust=\"spacingAndGlyphs\" textLength=\"106\" x=\"10\" y=\"284.75\">Syntax Error?</text><!--MD5=[3d490d709747c1302f3e229db0cc8be9]\n",
       "@startuml\r\n",
       "skinparam linetype ortho\r\n",
       "skinparam monochrome true\r\n",
       "skinparam classbackgroundcolor white\r\n",
       "skinparam shadowing false\r\n",
       "skinparam wrapWidth 300\r\n",
       "hide circle\r\n",
       "\r\n",
       "rec def \"DecisionTest\" as E1  <<(T,blue)action def>> [[psysml:04eadb4d-b968-4a2d-91e2-cdec302c279f ]] {\r\n",
       "portout \"$result\" as E2  [[psysml:f2b0b0cc-45ae-4166-8d5e-a5963ecab31c ]] \r\n",
       "rec usage \"test x\" as E3  <<(T,blue)decisionNode>> [[psysml:12adcb2e-22ad-4270-ad09-4bee8bb9d85c ]] {\r\n",
       "}\r\n",
       "\r\n",
       "{\r\n",
       "portout \"$result\" as E4  [[psysml:da91a906-8207-462d-99e2-a18dec940aa7 ]] \r\n",
       "portin \"$x\" as E5  [[psysml:48c17a69-1eb9-4ad6-876e-38a96ca6e086 ]] \r\n",
       "portin \"$y\" as E6  [[psysml:603631ec-51c5-4249-8487-a79a64da6afc ]] \r\n",
       "portout \"$result\" as E7  [[psysml:26e7255e-bbd8-4ac7-a816-6f3abc826445 ]] \r\n",
       "}\r\n",
       "\r\n",
       "{\r\n",
       "portout \"$result\" as E8  [[psysml:34caa6ec-959e-4145-98ad-4a477d59f379 ]] \r\n",
       "portin \"$x\" as E9  [[psysml:a97d47b4-a3dd-4bbd-be98-fc91aed6e874 ]] \r\n",
       "portin \"$y\" as E10  [[psysml:4dcabb7c-801c-43eb-b65b-ea55ba06df11 ]] \r\n",
       "portout \"$result\" as E11  [[psysml:cd7ecfb5-304f-4537-af93-5efd7128d3b2 ]] \r\n",
       "}\r\n",
       "\r\n",
       "{\r\n",
       "}\r\n",
       "\r\n",
       "{\r\n",
       "}\r\n",
       "\r\n",
       "{\r\n",
       "portout \"$result\" as E12  [[psysml:f92bbb85-cf19-4dd5-984f-8fe428e355f9 ]] \r\n",
       "}\r\n",
       "\r\n",
       "{\r\n",
       "portout \"$result\" as E13  [[psysml:b44daa1d-0d17-440b-affc-4aae51a046a3 ]] \r\n",
       "}\r\n",
       "\r\n",
       "rec usage \"A1\" as E14  <<(T,blue)action>> [[psysml:b6d0d4a5-7082-45af-9d99-5627255ed9ae ]] {\r\n",
       "}\r\n",
       "\r\n",
       "rec usage \"A2\" as E15  <<(T,blue)action>> [[psysml:60e701bb-1db7-4263-ad0a-ece44064a54f ]] {\r\n",
       "}\r\n",
       "\r\n",
       "rec usage \"A3\" as E16  <<(T,blue)action>> [[psysml:072d93d2-c298-4f7b-8e67-b467b8356ba8 ]] {\r\n",
       "}\r\n",
       "\r\n",
       "rec usage \"S\" as E17  <<(T,blue)transition>> [[psysml:4c480f3e-de35-416e-b4f4-0f9aff9c2e68 ]] {\r\n",
       "rec usage \"A1\" as E18  <<(T,blue)action>> [[psysml:b6d0d4a5-7082-45af-9d99-5627255ed9ae ]] {\r\n",
       "}\r\n",
       "\r\n",
       "portout \"$result\" as E19  [[psysml:bae59e2e-3013-4238-add2-fcdff8ecd0eb ]] \r\n",
       "portin \"$x\" as E20  [[psysml:1602ff6f-7228-42cf-b9ac-ebc006cdcd92 ]] \r\n",
       "portin \"$y\" as E21  [[psysml:f75bdb3f-e701-450d-b4f7-b218e85bedc6 ]] \r\n",
       "portout \"$result\" as E22  [[psysml:671b30d7-f020-4858-831b-48c54d9c890b ]] \r\n",
       "}\r\n",
       "\r\n",
       "rec usage \"A3\" as E23  <<(T,blue)action>> [[psysml:072d93d2-c298-4f7b-8e67-b467b8356ba8 ]] {\r\n",
       "}\r\n",
       "\r\n",
       "{\r\n",
       "portout \"$result\" as E24  [[psysml:607bce31-a36d-4c4f-abb5-7d6a5b1eba4c ]] \r\n",
       "portin \"$x\" as E25  [[psysml:30d6127f-38d3-47e6-b88f-d8a7d1fd2593 ]] \r\n",
       "portin \"$y\" as E26  [[psysml:c49c5fa4-01bf-436f-878e-c0b2dd911bef ]] \r\n",
       "portout \"$result\" as E27  [[psysml:cfd24cc8-3d79-4a43-93a1-f42931f2c990 ]] \r\n",
       "}\r\n",
       "\r\n",
       "}\r\n",
       "\r\n",
       "@enduml\r\n",
       "\n",
       "PlantUML version 1.2020.13(Sat Jun 13 12:26:38 UTC 2020)\n",
       "(EPL source distribution)\n",
       "Java Runtime: OpenJDK Runtime Environment\n",
       "JVM: OpenJDK 64-Bit Server VM\n",
       "Default Encoding: UTF-8\n",
       "Language: en\n",
       "Country: null\n",
       "--></g></svg>"
      ]
     },
     "execution_count": 57,
     "metadata": {},
     "output_type": "execute_result"
    }
   ],
   "source": [
    "%viz --style=\"ORTHOLINE\" --view=\"MIXED\" \"DecisionTest\""
   ]
  }
 ],
 "metadata": {
  "kernelspec": {
   "display_name": "SysML",
   "language": "sysml",
   "name": "sysml"
  },
  "language_info": {
   "codemirror_mode": "sysml",
   "file_extension": ".sysml",
   "mimetype": "text/x-sysml",
   "name": "SysML",
   "pygments_lexer": "java",
   "version": "1.0.0"
  }
 },
 "nbformat": 4,
 "nbformat_minor": 5
}
