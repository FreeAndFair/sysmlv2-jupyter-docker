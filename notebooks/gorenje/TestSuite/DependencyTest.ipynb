{
 "cells": [
  {
   "cell_type": "markdown",
   "id": "legal-northern",
   "metadata": {},
   "source": [
    "# SysML v2 Test Suite\n",
    "\n",
    "This can notebook can be cleared using menu `Edit --> Clear All Outputs` and then all cells can be\n",
    "run using menu `Run --> Run All Cells`.\n",
    "\n",
    "**WARNING**: This file is generated, all modifications here will be ignored.\n"
   ]
  },
  {
   "cell_type": "markdown",
   "id": "editorial-civilian",
   "metadata": {},
   "source": [
    "## File: ../../sysml/src/examples/Simple Tests/DependencyTest.sysml"
   ]
  },
  {
   "cell_type": "code",
   "execution_count": 1,
   "id": "collect-litigation",
   "metadata": {
    "execution": {
     "iopub.execute_input": "2021-03-26T09:43:53.565214Z",
     "iopub.status.busy": "2021-03-26T09:43:53.564144Z",
     "iopub.status.idle": "2021-03-26T09:43:53.625448Z",
     "shell.execute_reply": "2021-03-26T09:43:53.625031Z"
    }
   },
   "outputs": [
    {
     "data": {
      "text/plain": [
       "Package DependencyTest (837b02e1-958d-43b6-88e9-9b30d13efb48)\n"
      ]
     },
     "execution_count": 1,
     "metadata": {},
     "output_type": "execute_result"
    }
   ],
   "source": [
    "package DependencyTest {\n",
    "\t\n",
    "\tpackage System {\n",
    "\t\tpackage 'Application Layer';\n",
    "\t\tpackage 'Service Layer';\n",
    "\t\tpackage 'Data Layer';\n",
    "\t}\n",
    "\t\n",
    "\timport System::*;\n",
    "\t\n",
    "\tdependency Use from 'Application Layer' to 'Service Layer';\n",
    "\tdependency from 'Service Layer' to 'Data Layer';\n",
    "\t\n",
    "\tattribute x;\n",
    "\tattribute y;\n",
    "\tattribute z;\n",
    "\t\n",
    "\tdependency z to x, y;\n",
    "\t\n",
    "}"
   ]
  },
  {
   "cell_type": "code",
   "execution_count": 2,
   "id": "pregnant-slope",
   "metadata": {
    "execution": {
     "iopub.execute_input": "2021-03-26T09:43:53.681507Z",
     "iopub.status.busy": "2021-03-26T09:43:53.681035Z",
     "iopub.status.idle": "2021-03-26T09:43:53.692699Z",
     "shell.execute_reply": "2021-03-26T09:43:53.693091Z"
    }
   },
   "outputs": [
    {
     "data": {
      "text/plain": [
       "java.lang.IllegalArgumentException: Invalid Style: COMPTREE Possible styles: POLYLINE, LR, STDCOLOR, PLANTUML, DEFAULT, TB, ORTHOLINE\n",
       "\tat org.omg.sysml.plantuml.SysML2PlantUMLStyle.get(SysML2PlantUMLStyle.java:258)\n",
       "\tat org.omg.sysml.plantuml.SysML2PlantUMLSvc.applyStyle(SysML2PlantUMLSvc.java:73)\n",
       "\tat org.omg.sysml.plantuml.SysML2PlantUMLSvc.getPlantUMLCode(SysML2PlantUMLSvc.java:88)\n",
       "\tat org.omg.sysml.plantuml.SysML2PlantUMLSvc.getSVG(SysML2PlantUMLSvc.java:99)\n",
       "\tat org.omg.sysml.interactive.SysMLInteractive.viz(SysMLInteractive.java:294)\n",
       "\tat org.omg.sysml.jupyter.kernel.magic.Viz.viz(Viz.java:47)\n",
       "\tat java.base/jdk.internal.reflect.NativeMethodAccessorImpl.invoke0(Native Method)\n",
       "\tat java.base/jdk.internal.reflect.NativeMethodAccessorImpl.invoke(NativeMethodAccessorImpl.java:78)\n",
       "\tat java.base/jdk.internal.reflect.DelegatingMethodAccessorImpl.invoke(DelegatingMethodAccessorImpl.java:43)\n",
       "\tat java.base/java.lang.reflect.Method.invoke(Method.java:568)\n",
       "\tat io.github.spencerpark.jupyter.kernel.magic.registry.Magics.invoke(Magics.java:89)\n",
       "\tat io.github.spencerpark.jupyter.kernel.magic.registry.Magics.access$000(Magics.java:8)\n",
       "\tat io.github.spencerpark.jupyter.kernel.magic.registry.Magics$LineReflectionMagicFunction.execute(Magics.java:149)\n",
       "\tat io.github.spencerpark.jupyter.kernel.magic.registry.Magics.applyLineMagic(Magics.java:26)\n",
       "\tat org.omg.sysml.jupyter.kernel.SysMLKernel.eval(SysMLKernel.java:76)\n",
       "\tat io.github.spencerpark.jupyter.kernel.BaseKernel.handleExecuteRequest(BaseKernel.java:334)\n",
       "\tat io.github.spencerpark.jupyter.channels.ShellChannel.lambda$bind$0(ShellChannel.java:64)\n",
       "\tat io.github.spencerpark.jupyter.channels.Loop.lambda$new$0(Loop.java:21)\n",
       "\tat io.github.spencerpark.jupyter.channels.Loop.run(Loop.java:78)\n"
      ]
     },
     "execution_count": 2,
     "metadata": {},
     "output_type": "execute_result"
    }
   ],
   "source": [
    "%viz --style=\"COMPTREE\" --view=\"Default\" \"DependencyTest\""
   ]
  },
  {
   "cell_type": "code",
   "execution_count": 3,
   "id": "suspended-munich",
   "metadata": {
    "execution": {
     "iopub.execute_input": "2021-03-26T09:43:53.745317Z",
     "iopub.status.busy": "2021-03-26T09:43:53.744662Z",
     "iopub.status.idle": "2021-03-26T09:43:53.748246Z",
     "shell.execute_reply": "2021-03-26T09:43:53.747542Z"
    }
   },
   "outputs": [
    {
     "data": {
      "text/plain": [
       "java.lang.IllegalArgumentException: Invalid Style: COMPTREE Possible styles: POLYLINE, LR, STDCOLOR, PLANTUML, DEFAULT, TB, ORTHOLINE\n",
       "\tat org.omg.sysml.plantuml.SysML2PlantUMLStyle.get(SysML2PlantUMLStyle.java:258)\n",
       "\tat org.omg.sysml.plantuml.SysML2PlantUMLSvc.applyStyle(SysML2PlantUMLSvc.java:73)\n",
       "\tat org.omg.sysml.plantuml.SysML2PlantUMLSvc.getPlantUMLCode(SysML2PlantUMLSvc.java:88)\n",
       "\tat org.omg.sysml.plantuml.SysML2PlantUMLSvc.getSVG(SysML2PlantUMLSvc.java:99)\n",
       "\tat org.omg.sysml.interactive.SysMLInteractive.viz(SysMLInteractive.java:294)\n",
       "\tat org.omg.sysml.jupyter.kernel.magic.Viz.viz(Viz.java:47)\n",
       "\tat java.base/jdk.internal.reflect.NativeMethodAccessorImpl.invoke0(Native Method)\n",
       "\tat java.base/jdk.internal.reflect.NativeMethodAccessorImpl.invoke(NativeMethodAccessorImpl.java:78)\n",
       "\tat java.base/jdk.internal.reflect.DelegatingMethodAccessorImpl.invoke(DelegatingMethodAccessorImpl.java:43)\n",
       "\tat java.base/java.lang.reflect.Method.invoke(Method.java:568)\n",
       "\tat io.github.spencerpark.jupyter.kernel.magic.registry.Magics.invoke(Magics.java:89)\n",
       "\tat io.github.spencerpark.jupyter.kernel.magic.registry.Magics.access$000(Magics.java:8)\n",
       "\tat io.github.spencerpark.jupyter.kernel.magic.registry.Magics$LineReflectionMagicFunction.execute(Magics.java:149)\n",
       "\tat io.github.spencerpark.jupyter.kernel.magic.registry.Magics.applyLineMagic(Magics.java:26)\n",
       "\tat org.omg.sysml.jupyter.kernel.SysMLKernel.eval(SysMLKernel.java:76)\n",
       "\tat io.github.spencerpark.jupyter.kernel.BaseKernel.handleExecuteRequest(BaseKernel.java:334)\n",
       "\tat io.github.spencerpark.jupyter.channels.ShellChannel.lambda$bind$0(ShellChannel.java:64)\n",
       "\tat io.github.spencerpark.jupyter.channels.Loop.lambda$new$0(Loop.java:21)\n",
       "\tat io.github.spencerpark.jupyter.channels.Loop.run(Loop.java:78)\n"
      ]
     },
     "execution_count": 3,
     "metadata": {},
     "output_type": "execute_result"
    }
   ],
   "source": [
    "%viz --style=\"COMPTREE\" --view=\"Tree\" \"DependencyTest\""
   ]
  },
  {
   "cell_type": "code",
   "execution_count": 4,
   "id": "cleared-pressing",
   "metadata": {
    "execution": {
     "iopub.execute_input": "2021-03-26T09:43:53.800513Z",
     "iopub.status.busy": "2021-03-26T09:43:53.799340Z",
     "iopub.status.idle": "2021-03-26T09:43:53.802539Z",
     "shell.execute_reply": "2021-03-26T09:43:53.802879Z"
    }
   },
   "outputs": [
    {
     "data": {
      "text/plain": [
       "java.lang.IllegalArgumentException: Invalid View: State View candidates are: Default Tree StateMachine Interconnection Activity Sequence MIXED \n",
       "\tat org.omg.sysml.plantuml.SysML2PlantUMLSvc.setView(SysML2PlantUMLSvc.java:63)\n",
       "\tat org.omg.sysml.interactive.SysMLInteractive.viz(SysMLInteractive.java:286)\n",
       "\tat org.omg.sysml.jupyter.kernel.magic.Viz.viz(Viz.java:47)\n",
       "\tat java.base/jdk.internal.reflect.NativeMethodAccessorImpl.invoke0(Native Method)\n",
       "\tat java.base/jdk.internal.reflect.NativeMethodAccessorImpl.invoke(NativeMethodAccessorImpl.java:78)\n",
       "\tat java.base/jdk.internal.reflect.DelegatingMethodAccessorImpl.invoke(DelegatingMethodAccessorImpl.java:43)\n",
       "\tat java.base/java.lang.reflect.Method.invoke(Method.java:568)\n",
       "\tat io.github.spencerpark.jupyter.kernel.magic.registry.Magics.invoke(Magics.java:89)\n",
       "\tat io.github.spencerpark.jupyter.kernel.magic.registry.Magics.access$000(Magics.java:8)\n",
       "\tat io.github.spencerpark.jupyter.kernel.magic.registry.Magics$LineReflectionMagicFunction.execute(Magics.java:149)\n",
       "\tat io.github.spencerpark.jupyter.kernel.magic.registry.Magics.applyLineMagic(Magics.java:26)\n",
       "\tat org.omg.sysml.jupyter.kernel.SysMLKernel.eval(SysMLKernel.java:76)\n",
       "\tat io.github.spencerpark.jupyter.kernel.BaseKernel.handleExecuteRequest(BaseKernel.java:334)\n",
       "\tat io.github.spencerpark.jupyter.channels.ShellChannel.lambda$bind$0(ShellChannel.java:64)\n",
       "\tat io.github.spencerpark.jupyter.channels.Loop.lambda$new$0(Loop.java:21)\n",
       "\tat io.github.spencerpark.jupyter.channels.Loop.run(Loop.java:78)\n"
      ]
     },
     "execution_count": 4,
     "metadata": {},
     "output_type": "execute_result"
    }
   ],
   "source": [
    "%viz --style=\"COMPTREE\" --view=\"State\" \"DependencyTest\""
   ]
  },
  {
   "cell_type": "code",
   "execution_count": 5,
   "id": "scientific-distinction",
   "metadata": {
    "execution": {
     "iopub.execute_input": "2021-03-26T09:43:53.854518Z",
     "iopub.status.busy": "2021-03-26T09:43:53.854052Z",
     "iopub.status.idle": "2021-03-26T09:43:53.859011Z",
     "shell.execute_reply": "2021-03-26T09:43:53.858662Z"
    }
   },
   "outputs": [
    {
     "data": {
      "text/plain": [
       "java.lang.IllegalArgumentException: Invalid Style: COMPTREE Possible styles: POLYLINE, LR, STDCOLOR, PLANTUML, DEFAULT, TB, ORTHOLINE\n",
       "\tat org.omg.sysml.plantuml.SysML2PlantUMLStyle.get(SysML2PlantUMLStyle.java:258)\n",
       "\tat org.omg.sysml.plantuml.SysML2PlantUMLSvc.applyStyle(SysML2PlantUMLSvc.java:73)\n",
       "\tat org.omg.sysml.plantuml.SysML2PlantUMLSvc.getPlantUMLCode(SysML2PlantUMLSvc.java:88)\n",
       "\tat org.omg.sysml.plantuml.SysML2PlantUMLSvc.getSVG(SysML2PlantUMLSvc.java:99)\n",
       "\tat org.omg.sysml.interactive.SysMLInteractive.viz(SysMLInteractive.java:294)\n",
       "\tat org.omg.sysml.jupyter.kernel.magic.Viz.viz(Viz.java:47)\n",
       "\tat java.base/jdk.internal.reflect.NativeMethodAccessorImpl.invoke0(Native Method)\n",
       "\tat java.base/jdk.internal.reflect.NativeMethodAccessorImpl.invoke(NativeMethodAccessorImpl.java:78)\n",
       "\tat java.base/jdk.internal.reflect.DelegatingMethodAccessorImpl.invoke(DelegatingMethodAccessorImpl.java:43)\n",
       "\tat java.base/java.lang.reflect.Method.invoke(Method.java:568)\n",
       "\tat io.github.spencerpark.jupyter.kernel.magic.registry.Magics.invoke(Magics.java:89)\n",
       "\tat io.github.spencerpark.jupyter.kernel.magic.registry.Magics.access$000(Magics.java:8)\n",
       "\tat io.github.spencerpark.jupyter.kernel.magic.registry.Magics$LineReflectionMagicFunction.execute(Magics.java:149)\n",
       "\tat io.github.spencerpark.jupyter.kernel.magic.registry.Magics.applyLineMagic(Magics.java:26)\n",
       "\tat org.omg.sysml.jupyter.kernel.SysMLKernel.eval(SysMLKernel.java:76)\n",
       "\tat io.github.spencerpark.jupyter.kernel.BaseKernel.handleExecuteRequest(BaseKernel.java:334)\n",
       "\tat io.github.spencerpark.jupyter.channels.ShellChannel.lambda$bind$0(ShellChannel.java:64)\n",
       "\tat io.github.spencerpark.jupyter.channels.Loop.lambda$new$0(Loop.java:21)\n",
       "\tat io.github.spencerpark.jupyter.channels.Loop.run(Loop.java:78)\n"
      ]
     },
     "execution_count": 5,
     "metadata": {},
     "output_type": "execute_result"
    }
   ],
   "source": [
    "%viz --style=\"COMPTREE\" --view=\"Interconnection\" \"DependencyTest\""
   ]
  },
  {
   "cell_type": "code",
   "execution_count": 6,
   "id": "alpha-supply",
   "metadata": {
    "execution": {
     "iopub.execute_input": "2021-03-26T09:43:53.908084Z",
     "iopub.status.busy": "2021-03-26T09:43:53.907710Z",
     "iopub.status.idle": "2021-03-26T09:43:53.909713Z",
     "shell.execute_reply": "2021-03-26T09:43:53.910113Z"
    }
   },
   "outputs": [
    {
     "data": {
      "text/plain": [
       "java.lang.IllegalArgumentException: Invalid View: Action View candidates are: Default Tree StateMachine Interconnection Activity Sequence MIXED \n",
       "\tat org.omg.sysml.plantuml.SysML2PlantUMLSvc.setView(SysML2PlantUMLSvc.java:63)\n",
       "\tat org.omg.sysml.interactive.SysMLInteractive.viz(SysMLInteractive.java:286)\n",
       "\tat org.omg.sysml.jupyter.kernel.magic.Viz.viz(Viz.java:47)\n",
       "\tat java.base/jdk.internal.reflect.NativeMethodAccessorImpl.invoke0(Native Method)\n",
       "\tat java.base/jdk.internal.reflect.NativeMethodAccessorImpl.invoke(NativeMethodAccessorImpl.java:78)\n",
       "\tat java.base/jdk.internal.reflect.DelegatingMethodAccessorImpl.invoke(DelegatingMethodAccessorImpl.java:43)\n",
       "\tat java.base/java.lang.reflect.Method.invoke(Method.java:568)\n",
       "\tat io.github.spencerpark.jupyter.kernel.magic.registry.Magics.invoke(Magics.java:89)\n",
       "\tat io.github.spencerpark.jupyter.kernel.magic.registry.Magics.access$000(Magics.java:8)\n",
       "\tat io.github.spencerpark.jupyter.kernel.magic.registry.Magics$LineReflectionMagicFunction.execute(Magics.java:149)\n",
       "\tat io.github.spencerpark.jupyter.kernel.magic.registry.Magics.applyLineMagic(Magics.java:26)\n",
       "\tat org.omg.sysml.jupyter.kernel.SysMLKernel.eval(SysMLKernel.java:76)\n",
       "\tat io.github.spencerpark.jupyter.kernel.BaseKernel.handleExecuteRequest(BaseKernel.java:334)\n",
       "\tat io.github.spencerpark.jupyter.channels.ShellChannel.lambda$bind$0(ShellChannel.java:64)\n",
       "\tat io.github.spencerpark.jupyter.channels.Loop.lambda$new$0(Loop.java:21)\n",
       "\tat io.github.spencerpark.jupyter.channels.Loop.run(Loop.java:78)\n"
      ]
     },
     "execution_count": 6,
     "metadata": {},
     "output_type": "execute_result"
    }
   ],
   "source": [
    "%viz --style=\"COMPTREE\" --view=\"Action\" \"DependencyTest\""
   ]
  },
  {
   "cell_type": "code",
   "execution_count": 7,
   "id": "postal-combining",
   "metadata": {
    "execution": {
     "iopub.execute_input": "2021-03-26T09:43:53.961838Z",
     "iopub.status.busy": "2021-03-26T09:43:53.961355Z",
     "iopub.status.idle": "2021-03-26T09:43:53.964254Z",
     "shell.execute_reply": "2021-03-26T09:43:53.964648Z"
    }
   },
   "outputs": [
    {
     "data": {
      "text/plain": [
       "java.lang.IllegalArgumentException: Invalid Style: COMPTREE Possible styles: POLYLINE, LR, STDCOLOR, PLANTUML, DEFAULT, TB, ORTHOLINE\n",
       "\tat org.omg.sysml.plantuml.SysML2PlantUMLStyle.get(SysML2PlantUMLStyle.java:258)\n",
       "\tat org.omg.sysml.plantuml.SysML2PlantUMLSvc.applyStyle(SysML2PlantUMLSvc.java:73)\n",
       "\tat org.omg.sysml.plantuml.SysML2PlantUMLSvc.getPlantUMLCode(SysML2PlantUMLSvc.java:88)\n",
       "\tat org.omg.sysml.plantuml.SysML2PlantUMLSvc.getSVG(SysML2PlantUMLSvc.java:99)\n",
       "\tat org.omg.sysml.interactive.SysMLInteractive.viz(SysMLInteractive.java:294)\n",
       "\tat org.omg.sysml.jupyter.kernel.magic.Viz.viz(Viz.java:47)\n",
       "\tat java.base/jdk.internal.reflect.NativeMethodAccessorImpl.invoke0(Native Method)\n",
       "\tat java.base/jdk.internal.reflect.NativeMethodAccessorImpl.invoke(NativeMethodAccessorImpl.java:78)\n",
       "\tat java.base/jdk.internal.reflect.DelegatingMethodAccessorImpl.invoke(DelegatingMethodAccessorImpl.java:43)\n",
       "\tat java.base/java.lang.reflect.Method.invoke(Method.java:568)\n",
       "\tat io.github.spencerpark.jupyter.kernel.magic.registry.Magics.invoke(Magics.java:89)\n",
       "\tat io.github.spencerpark.jupyter.kernel.magic.registry.Magics.access$000(Magics.java:8)\n",
       "\tat io.github.spencerpark.jupyter.kernel.magic.registry.Magics$LineReflectionMagicFunction.execute(Magics.java:149)\n",
       "\tat io.github.spencerpark.jupyter.kernel.magic.registry.Magics.applyLineMagic(Magics.java:26)\n",
       "\tat org.omg.sysml.jupyter.kernel.SysMLKernel.eval(SysMLKernel.java:76)\n",
       "\tat io.github.spencerpark.jupyter.kernel.BaseKernel.handleExecuteRequest(BaseKernel.java:334)\n",
       "\tat io.github.spencerpark.jupyter.channels.ShellChannel.lambda$bind$0(ShellChannel.java:64)\n",
       "\tat io.github.spencerpark.jupyter.channels.Loop.lambda$new$0(Loop.java:21)\n",
       "\tat io.github.spencerpark.jupyter.channels.Loop.run(Loop.java:78)\n"
      ]
     },
     "execution_count": 7,
     "metadata": {},
     "output_type": "execute_result"
    }
   ],
   "source": [
    "%viz --style=\"COMPTREE\" --view=\"Sequence\" \"DependencyTest\""
   ]
  },
  {
   "cell_type": "code",
   "execution_count": 8,
   "id": "current-nashville",
   "metadata": {
    "execution": {
     "iopub.execute_input": "2021-03-26T09:43:54.017748Z",
     "iopub.status.busy": "2021-03-26T09:43:54.017149Z",
     "iopub.status.idle": "2021-03-26T09:43:54.021463Z",
     "shell.execute_reply": "2021-03-26T09:43:54.021136Z"
    }
   },
   "outputs": [
    {
     "data": {
      "text/plain": [
       "java.lang.IllegalArgumentException: Invalid Style: COMPTREE Possible styles: POLYLINE, LR, STDCOLOR, PLANTUML, DEFAULT, TB, ORTHOLINE\n",
       "\tat org.omg.sysml.plantuml.SysML2PlantUMLStyle.get(SysML2PlantUMLStyle.java:258)\n",
       "\tat org.omg.sysml.plantuml.SysML2PlantUMLSvc.applyStyle(SysML2PlantUMLSvc.java:73)\n",
       "\tat org.omg.sysml.plantuml.SysML2PlantUMLSvc.getPlantUMLCode(SysML2PlantUMLSvc.java:88)\n",
       "\tat org.omg.sysml.plantuml.SysML2PlantUMLSvc.getSVG(SysML2PlantUMLSvc.java:99)\n",
       "\tat org.omg.sysml.interactive.SysMLInteractive.viz(SysMLInteractive.java:294)\n",
       "\tat org.omg.sysml.jupyter.kernel.magic.Viz.viz(Viz.java:47)\n",
       "\tat java.base/jdk.internal.reflect.NativeMethodAccessorImpl.invoke0(Native Method)\n",
       "\tat java.base/jdk.internal.reflect.NativeMethodAccessorImpl.invoke(NativeMethodAccessorImpl.java:78)\n",
       "\tat java.base/jdk.internal.reflect.DelegatingMethodAccessorImpl.invoke(DelegatingMethodAccessorImpl.java:43)\n",
       "\tat java.base/java.lang.reflect.Method.invoke(Method.java:568)\n",
       "\tat io.github.spencerpark.jupyter.kernel.magic.registry.Magics.invoke(Magics.java:89)\n",
       "\tat io.github.spencerpark.jupyter.kernel.magic.registry.Magics.access$000(Magics.java:8)\n",
       "\tat io.github.spencerpark.jupyter.kernel.magic.registry.Magics$LineReflectionMagicFunction.execute(Magics.java:149)\n",
       "\tat io.github.spencerpark.jupyter.kernel.magic.registry.Magics.applyLineMagic(Magics.java:26)\n",
       "\tat org.omg.sysml.jupyter.kernel.SysMLKernel.eval(SysMLKernel.java:76)\n",
       "\tat io.github.spencerpark.jupyter.kernel.BaseKernel.handleExecuteRequest(BaseKernel.java:334)\n",
       "\tat io.github.spencerpark.jupyter.channels.ShellChannel.lambda$bind$0(ShellChannel.java:64)\n",
       "\tat io.github.spencerpark.jupyter.channels.Loop.lambda$new$0(Loop.java:21)\n",
       "\tat io.github.spencerpark.jupyter.channels.Loop.run(Loop.java:78)\n"
      ]
     },
     "execution_count": 8,
     "metadata": {},
     "output_type": "execute_result"
    }
   ],
   "source": [
    "%viz --style=\"COMPTREE\" --view=\"MIXED\" \"DependencyTest\""
   ]
  },
  {
   "cell_type": "code",
   "execution_count": 9,
   "id": "coated-reporter",
   "metadata": {
    "execution": {
     "iopub.execute_input": "2021-03-26T09:43:54.071911Z",
     "iopub.status.busy": "2021-03-26T09:43:54.071317Z",
     "iopub.status.idle": "2021-03-26T09:43:54.615278Z",
     "shell.execute_reply": "2021-03-26T09:43:54.614356Z"
    }
   },
   "outputs": [
    {
     "data": {
      "image/svg+xml": [
       "<?xml version=\"1.0\" encoding=\"UTF-8\" standalone=\"no\"?><svg xmlns=\"http://www.w3.org/2000/svg\" xmlns:xlink=\"http://www.w3.org/1999/xlink\" contentScriptType=\"application/ecmascript\" contentStyleType=\"text/css\" height=\"449px\" preserveAspectRatio=\"none\" style=\"width:489px;height:449px;\" version=\"1.1\" viewBox=\"0 0 489 449\" width=\"489px\" zoomAndPan=\"magnify\"><defs/><g><!--MD5=[fbc87193dbaf4d95561dea2c320d4a47]\n",
       "cluster E1--><polygon fill=\"#FFFFFF\" points=\"16,6,156,6,163,28.2969,467,28.2969,467,437,16,437,16,6\" style=\"stroke: #000000; stroke-width: 1.5;\"/><line style=\"stroke: #000000; stroke-width: 1.5;\" x1=\"16\" x2=\"163\" y1=\"28.2969\" y2=\"28.2969\"/><text fill=\"#000000\" font-family=\"sans-serif\" font-size=\"14\" font-weight=\"bold\" lengthAdjust=\"spacingAndGlyphs\" textLength=\"134\" x=\"20\" y=\"20.9951\">DependencyTest</text><!--MD5=[e4f7fae6ed58524ba242bb0b0d3be6b7]\n",
       "cluster E2--><polygon fill=\"#FFFFFF\" points=\"255,49,319,49,326,71.2969,443,71.2969,443,413,255,413,255,49\" style=\"stroke: #000000; stroke-width: 1.5;\"/><line style=\"stroke: #000000; stroke-width: 1.5;\" x1=\"255\" x2=\"326\" y1=\"71.2969\" y2=\"71.2969\"/><text fill=\"#000000\" font-family=\"sans-serif\" font-size=\"14\" font-weight=\"bold\" lengthAdjust=\"spacingAndGlyphs\" textLength=\"58\" x=\"259\" y=\"63.9951\">System</text><!--MD5=[60a26617385b1d2d0262a64233df1f8d]\n",
       "class E6--><rect fill=\"#FFFFFF\" height=\"45.9375\" id=\"E6\" rx=\"10\" ry=\"10\" style=\"stroke: #383838; stroke-width: 1.5;\" width=\"85\" x=\"32.5\" y=\"217.5\"/><text fill=\"#000000\" font-family=\"sans-serif\" font-size=\"12\" font-style=\"italic\" lengthAdjust=\"spacingAndGlyphs\" textLength=\"69\" x=\"40.5\" y=\"233.6387\">«attribute»</text><text fill=\"#000000\" font-family=\"sans-serif\" font-size=\"12\" lengthAdjust=\"spacingAndGlyphs\" textLength=\"79\" x=\"35.5\" y=\"247.6074\">x: DataValue</text><line style=\"stroke: #383838; stroke-width: 1.5;\" x1=\"33.5\" x2=\"116.5\" y1=\"255.4375\" y2=\"255.4375\"/><!--MD5=[2156ba9850f5573cc1fc38a6a4b2f02b]\n",
       "class E7--><rect fill=\"#FFFFFF\" height=\"45.9375\" id=\"E7\" rx=\"10\" ry=\"10\" style=\"stroke: #383838; stroke-width: 1.5;\" width=\"85\" x=\"152.5\" y=\"217.5\"/><text fill=\"#000000\" font-family=\"sans-serif\" font-size=\"12\" font-style=\"italic\" lengthAdjust=\"spacingAndGlyphs\" textLength=\"69\" x=\"160.5\" y=\"233.6387\">«attribute»</text><text fill=\"#000000\" font-family=\"sans-serif\" font-size=\"12\" lengthAdjust=\"spacingAndGlyphs\" textLength=\"79\" x=\"155.5\" y=\"247.6074\">y: DataValue</text><line style=\"stroke: #383838; stroke-width: 1.5;\" x1=\"153.5\" x2=\"236.5\" y1=\"255.4375\" y2=\"255.4375\"/><!--MD5=[b9389687b975829384b498ac4b7476b2]\n",
       "class E8--><rect fill=\"#FFFFFF\" height=\"45.9375\" id=\"E8\" rx=\"10\" ry=\"10\" style=\"stroke: #383838; stroke-width: 1.5;\" width=\"84\" x=\"81\" y=\"87.5\"/><text fill=\"#000000\" font-family=\"sans-serif\" font-size=\"12\" font-style=\"italic\" lengthAdjust=\"spacingAndGlyphs\" textLength=\"69\" x=\"88.5\" y=\"103.6387\">«attribute»</text><text fill=\"#000000\" font-family=\"sans-serif\" font-size=\"12\" lengthAdjust=\"spacingAndGlyphs\" textLength=\"78\" x=\"84\" y=\"117.6074\">z: DataValue</text><line style=\"stroke: #383838; stroke-width: 1.5;\" x1=\"82\" x2=\"164\" y1=\"125.4375\" y2=\"125.4375\"/><polygon fill=\"#FFFFFF\" points=\"271,84,413,84,420,106.2969,427,106.2969,427,136.5938,271,136.5938,271,84\" style=\"stroke: #000000; stroke-width: 1.5;\"/><line style=\"stroke: #000000; stroke-width: 1.5;\" x1=\"271\" x2=\"420\" y1=\"106.2969\" y2=\"106.2969\"/><text fill=\"#000000\" font-family=\"sans-serif\" font-size=\"14\" font-weight=\"bold\" lengthAdjust=\"spacingAndGlyphs\" textLength=\"136\" x=\"275\" y=\"98.9951\">Application Layer</text><polygon fill=\"#FFFFFF\" points=\"285,214,399,214,406,236.2969,413,236.2969,413,266.5938,285,266.5938,285,214\" style=\"stroke: #000000; stroke-width: 1.5;\"/><line style=\"stroke: #000000; stroke-width: 1.5;\" x1=\"285\" x2=\"406\" y1=\"236.2969\" y2=\"236.2969\"/><text fill=\"#000000\" font-family=\"sans-serif\" font-size=\"14\" font-weight=\"bold\" lengthAdjust=\"spacingAndGlyphs\" textLength=\"108\" x=\"289\" y=\"228.9951\">Service Layer</text><polygon fill=\"#FFFFFF\" points=\"297,344,387,344,394,366.2969,401,366.2969,401,396.5938,297,396.5938,297,344\" style=\"stroke: #000000; stroke-width: 1.5;\"/><line style=\"stroke: #000000; stroke-width: 1.5;\" x1=\"297\" x2=\"394\" y1=\"366.2969\" y2=\"366.2969\"/><text fill=\"#000000\" font-family=\"sans-serif\" font-size=\"14\" font-weight=\"bold\" lengthAdjust=\"spacingAndGlyphs\" textLength=\"84\" x=\"301\" y=\"358.9951\">Data Layer</text><!--MD5=[af87c684e3b0d8be13c1a698a818ef1e]\n",
       "link E3 to E4--><path d=\"M349,137.1 C349,156.8 349,184.22 349,205.73 \" fill=\"none\" id=\"E3-&gt;E4\" style=\"stroke: #383838; stroke-width: 1.0; stroke-dasharray: 7.0,7.0;\"/><polygon fill=\"#383838\" points=\"349,213.95,352,205.95,346,205.95,349,213.95\" style=\"stroke: #383838; stroke-width: 1.0;\"/><text fill=\"#000000\" font-family=\"sans-serif\" font-size=\"13\" lengthAdjust=\"spacingAndGlyphs\" textLength=\"64\" x=\"350\" y=\"180.0669\">«depend»</text><!--MD5=[1b7591eae5389033d8d09a9d6721a717]\n",
       "link E4 to E5--><path d=\"M349,267.1 C349,286.8 349,314.22 349,335.73 \" fill=\"none\" id=\"E4-&gt;E5\" style=\"stroke: #383838; stroke-width: 1.0; stroke-dasharray: 7.0,7.0;\"/><polygon fill=\"#383838\" points=\"349,343.95,352,335.95,346,335.95,349,343.95\" style=\"stroke: #383838; stroke-width: 1.0;\"/><text fill=\"#000000\" font-family=\"sans-serif\" font-size=\"13\" lengthAdjust=\"spacingAndGlyphs\" textLength=\"64\" x=\"350\" y=\"310.0669\">«depend»</text><!--MD5=[c5e8897d989ce984f93528998a7150fe]\n",
       "link E8 to E6--><path d=\"M99.34,133.75 C82.93,149.19 64,167 64,167 C64,167 64,184 64,184 C64,184 66.42,196.21 68.99,209.18 \" fill=\"none\" id=\"E8-&gt;E6\" style=\"stroke: #383838; stroke-width: 1.0; stroke-dasharray: 7.0,7.0;\"/><polygon fill=\"#383838\" points=\"70.59,217.25,71.9746,208.8189,66.0895,209.9874,70.59,217.25\" style=\"stroke: #383838; stroke-width: 1.0;\"/><text fill=\"#000000\" font-family=\"sans-serif\" font-size=\"13\" lengthAdjust=\"spacingAndGlyphs\" textLength=\"64\" x=\"65\" y=\"180.0669\">«depend»</text><!--MD5=[bfa3c8b0d15052fdf50ae9310b491027]\n",
       "link E8 to E7--><path d=\"M135.38,133.5 C147.28,154.66 165.34,186.78 178.47,210.11 \" fill=\"none\" id=\"E8-&gt;E7\" style=\"stroke: #383838; stroke-width: 1.0; stroke-dasharray: 7.0,7.0;\"/><polygon fill=\"#383838\" points=\"182.54,217.35,181.2392,208.9056,176.0075,211.8431,182.54,217.35\" style=\"stroke: #383838; stroke-width: 1.0;\"/><text fill=\"#000000\" font-family=\"sans-serif\" font-size=\"13\" lengthAdjust=\"spacingAndGlyphs\" textLength=\"64\" x=\"164\" y=\"180.0669\">«depend»</text><!--MD5=[ce3ad8dfece913c8ae100450aed6e8be]\n",
       "@startuml\r\n",
       "skinparam linetype polyline\r\n",
       "skinparam monochrome true\r\n",
       "skinparam classbackgroundcolor white\r\n",
       "skinparam shadowing false\r\n",
       "skinparam wrapWidth 300\r\n",
       "hide circle\r\n",
       "\r\n",
       "package \"DependencyTest\" as E1   {\r\n",
       "package \"System\" as E2   {\r\n",
       "package \"Application Layer\" as E3   {\r\n",
       "}\r\n",
       "package \"Service Layer\" as E4   {\r\n",
       "}\r\n",
       "package \"Data Layer\" as E5   {\r\n",
       "}\r\n",
       "}\r\n",
       "comp usage \"x: DataValue\" as E6  <<(T,blue)attribute>> {\r\n",
       "}\r\n",
       "comp usage \"y: DataValue\" as E7  <<(T,blue)attribute>> {\r\n",
       "}\r\n",
       "comp usage \"z: DataValue\" as E8  <<(T,blue)attribute>> {\r\n",
       "}\r\n",
       "E3 ..>> E4 : <<depend>>\r\n",
       "E4 ..>> E5 : <<depend>>\r\n",
       "E8 ..>> E6 : <<depend>>\r\n",
       "E8 ..>> E7 : <<depend>>\r\n",
       "}\r\n",
       "@enduml\r\n",
       "\n",
       "PlantUML version 1.2020.13(Sat Jun 13 12:26:38 UTC 2020)\n",
       "(EPL source distribution)\n",
       "Java Runtime: OpenJDK Runtime Environment\n",
       "JVM: OpenJDK 64-Bit Server VM\n",
       "Default Encoding: UTF-8\n",
       "Language: en\n",
       "Country: null\n",
       "--></g></svg>"
      ]
     },
     "execution_count": 9,
     "metadata": {},
     "output_type": "execute_result"
    }
   ],
   "source": [
    "%viz --style=\"POLYLINE\" --view=\"Default\" \"DependencyTest\""
   ]
  },
  {
   "cell_type": "code",
   "execution_count": 10,
   "id": "awful-delicious",
   "metadata": {
    "execution": {
     "iopub.execute_input": "2021-03-26T09:43:54.667161Z",
     "iopub.status.busy": "2021-03-26T09:43:54.666404Z",
     "iopub.status.idle": "2021-03-26T09:43:54.749946Z",
     "shell.execute_reply": "2021-03-26T09:43:54.748535Z"
    }
   },
   "outputs": [
    {
     "data": {
      "image/svg+xml": [
       "<?xml version=\"1.0\" encoding=\"UTF-8\" standalone=\"no\"?><svg xmlns=\"http://www.w3.org/2000/svg\" xmlns:xlink=\"http://www.w3.org/1999/xlink\" contentScriptType=\"application/ecmascript\" contentStyleType=\"text/css\" height=\"449px\" preserveAspectRatio=\"none\" style=\"width:489px;height:449px;\" version=\"1.1\" viewBox=\"0 0 489 449\" width=\"489px\" zoomAndPan=\"magnify\"><defs/><g><!--MD5=[fbc87193dbaf4d95561dea2c320d4a47]\n",
       "cluster E1--><polygon fill=\"#FFFFFF\" points=\"16,6,156,6,163,28.2969,467,28.2969,467,437,16,437,16,6\" style=\"stroke: #000000; stroke-width: 1.5;\"/><line style=\"stroke: #000000; stroke-width: 1.5;\" x1=\"16\" x2=\"163\" y1=\"28.2969\" y2=\"28.2969\"/><text fill=\"#000000\" font-family=\"sans-serif\" font-size=\"14\" font-weight=\"bold\" lengthAdjust=\"spacingAndGlyphs\" textLength=\"134\" x=\"20\" y=\"20.9951\">DependencyTest</text><!--MD5=[e4f7fae6ed58524ba242bb0b0d3be6b7]\n",
       "cluster E2--><polygon fill=\"#FFFFFF\" points=\"255,49,319,49,326,71.2969,443,71.2969,443,413,255,413,255,49\" style=\"stroke: #000000; stroke-width: 1.5;\"/><line style=\"stroke: #000000; stroke-width: 1.5;\" x1=\"255\" x2=\"326\" y1=\"71.2969\" y2=\"71.2969\"/><text fill=\"#000000\" font-family=\"sans-serif\" font-size=\"14\" font-weight=\"bold\" lengthAdjust=\"spacingAndGlyphs\" textLength=\"58\" x=\"259\" y=\"63.9951\">System</text><!--MD5=[60a26617385b1d2d0262a64233df1f8d]\n",
       "class E6--><rect fill=\"#FFFFFF\" height=\"45.9375\" id=\"E6\" rx=\"10\" ry=\"10\" style=\"stroke: #383838; stroke-width: 1.5;\" width=\"85\" x=\"32.5\" y=\"217.5\"/><text fill=\"#000000\" font-family=\"sans-serif\" font-size=\"12\" font-style=\"italic\" lengthAdjust=\"spacingAndGlyphs\" textLength=\"69\" x=\"40.5\" y=\"233.6387\">«attribute»</text><text fill=\"#000000\" font-family=\"sans-serif\" font-size=\"12\" lengthAdjust=\"spacingAndGlyphs\" textLength=\"79\" x=\"35.5\" y=\"247.6074\">x: DataValue</text><line style=\"stroke: #383838; stroke-width: 1.5;\" x1=\"33.5\" x2=\"116.5\" y1=\"255.4375\" y2=\"255.4375\"/><!--MD5=[2156ba9850f5573cc1fc38a6a4b2f02b]\n",
       "class E7--><rect fill=\"#FFFFFF\" height=\"45.9375\" id=\"E7\" rx=\"10\" ry=\"10\" style=\"stroke: #383838; stroke-width: 1.5;\" width=\"85\" x=\"152.5\" y=\"217.5\"/><text fill=\"#000000\" font-family=\"sans-serif\" font-size=\"12\" font-style=\"italic\" lengthAdjust=\"spacingAndGlyphs\" textLength=\"69\" x=\"160.5\" y=\"233.6387\">«attribute»</text><text fill=\"#000000\" font-family=\"sans-serif\" font-size=\"12\" lengthAdjust=\"spacingAndGlyphs\" textLength=\"79\" x=\"155.5\" y=\"247.6074\">y: DataValue</text><line style=\"stroke: #383838; stroke-width: 1.5;\" x1=\"153.5\" x2=\"236.5\" y1=\"255.4375\" y2=\"255.4375\"/><!--MD5=[b9389687b975829384b498ac4b7476b2]\n",
       "class E8--><rect fill=\"#FFFFFF\" height=\"45.9375\" id=\"E8\" rx=\"10\" ry=\"10\" style=\"stroke: #383838; stroke-width: 1.5;\" width=\"84\" x=\"81\" y=\"87.5\"/><text fill=\"#000000\" font-family=\"sans-serif\" font-size=\"12\" font-style=\"italic\" lengthAdjust=\"spacingAndGlyphs\" textLength=\"69\" x=\"88.5\" y=\"103.6387\">«attribute»</text><text fill=\"#000000\" font-family=\"sans-serif\" font-size=\"12\" lengthAdjust=\"spacingAndGlyphs\" textLength=\"78\" x=\"84\" y=\"117.6074\">z: DataValue</text><line style=\"stroke: #383838; stroke-width: 1.5;\" x1=\"82\" x2=\"164\" y1=\"125.4375\" y2=\"125.4375\"/><polygon fill=\"#FFFFFF\" points=\"271,84,413,84,420,106.2969,427,106.2969,427,136.5938,271,136.5938,271,84\" style=\"stroke: #000000; stroke-width: 1.5;\"/><line style=\"stroke: #000000; stroke-width: 1.5;\" x1=\"271\" x2=\"420\" y1=\"106.2969\" y2=\"106.2969\"/><text fill=\"#000000\" font-family=\"sans-serif\" font-size=\"14\" font-weight=\"bold\" lengthAdjust=\"spacingAndGlyphs\" textLength=\"136\" x=\"275\" y=\"98.9951\">Application Layer</text><polygon fill=\"#FFFFFF\" points=\"285,214,399,214,406,236.2969,413,236.2969,413,266.5938,285,266.5938,285,214\" style=\"stroke: #000000; stroke-width: 1.5;\"/><line style=\"stroke: #000000; stroke-width: 1.5;\" x1=\"285\" x2=\"406\" y1=\"236.2969\" y2=\"236.2969\"/><text fill=\"#000000\" font-family=\"sans-serif\" font-size=\"14\" font-weight=\"bold\" lengthAdjust=\"spacingAndGlyphs\" textLength=\"108\" x=\"289\" y=\"228.9951\">Service Layer</text><polygon fill=\"#FFFFFF\" points=\"297,344,387,344,394,366.2969,401,366.2969,401,396.5938,297,396.5938,297,344\" style=\"stroke: #000000; stroke-width: 1.5;\"/><line style=\"stroke: #000000; stroke-width: 1.5;\" x1=\"297\" x2=\"394\" y1=\"366.2969\" y2=\"366.2969\"/><text fill=\"#000000\" font-family=\"sans-serif\" font-size=\"14\" font-weight=\"bold\" lengthAdjust=\"spacingAndGlyphs\" textLength=\"84\" x=\"301\" y=\"358.9951\">Data Layer</text><!--MD5=[af87c684e3b0d8be13c1a698a818ef1e]\n",
       "link E3 to E4--><path d=\"M349,137.1 C349,156.8 349,184.22 349,205.73 \" fill=\"none\" id=\"E3-&gt;E4\" style=\"stroke: #383838; stroke-width: 1.0; stroke-dasharray: 7.0,7.0;\"/><polygon fill=\"#383838\" points=\"349,213.95,352,205.95,346,205.95,349,213.95\" style=\"stroke: #383838; stroke-width: 1.0;\"/><text fill=\"#000000\" font-family=\"sans-serif\" font-size=\"13\" lengthAdjust=\"spacingAndGlyphs\" textLength=\"64\" x=\"350\" y=\"180.0669\">«depend»</text><!--MD5=[1b7591eae5389033d8d09a9d6721a717]\n",
       "link E4 to E5--><path d=\"M349,267.1 C349,286.8 349,314.22 349,335.73 \" fill=\"none\" id=\"E4-&gt;E5\" style=\"stroke: #383838; stroke-width: 1.0; stroke-dasharray: 7.0,7.0;\"/><polygon fill=\"#383838\" points=\"349,343.95,352,335.95,346,335.95,349,343.95\" style=\"stroke: #383838; stroke-width: 1.0;\"/><text fill=\"#000000\" font-family=\"sans-serif\" font-size=\"13\" lengthAdjust=\"spacingAndGlyphs\" textLength=\"64\" x=\"350\" y=\"310.0669\">«depend»</text><!--MD5=[c5e8897d989ce984f93528998a7150fe]\n",
       "link E8 to E6--><path d=\"M99.34,133.75 C82.93,149.19 64,167 64,167 C64,167 64,184 64,184 C64,184 66.42,196.21 68.99,209.18 \" fill=\"none\" id=\"E8-&gt;E6\" style=\"stroke: #383838; stroke-width: 1.0; stroke-dasharray: 7.0,7.0;\"/><polygon fill=\"#383838\" points=\"70.59,217.25,71.9746,208.8189,66.0895,209.9874,70.59,217.25\" style=\"stroke: #383838; stroke-width: 1.0;\"/><text fill=\"#000000\" font-family=\"sans-serif\" font-size=\"13\" lengthAdjust=\"spacingAndGlyphs\" textLength=\"64\" x=\"65\" y=\"180.0669\">«depend»</text><!--MD5=[bfa3c8b0d15052fdf50ae9310b491027]\n",
       "link E8 to E7--><path d=\"M135.38,133.5 C147.28,154.66 165.34,186.78 178.47,210.11 \" fill=\"none\" id=\"E8-&gt;E7\" style=\"stroke: #383838; stroke-width: 1.0; stroke-dasharray: 7.0,7.0;\"/><polygon fill=\"#383838\" points=\"182.54,217.35,181.2392,208.9056,176.0075,211.8431,182.54,217.35\" style=\"stroke: #383838; stroke-width: 1.0;\"/><text fill=\"#000000\" font-family=\"sans-serif\" font-size=\"13\" lengthAdjust=\"spacingAndGlyphs\" textLength=\"64\" x=\"164\" y=\"180.0669\">«depend»</text><!--MD5=[ce3ad8dfece913c8ae100450aed6e8be]\n",
       "@startuml\r\n",
       "skinparam linetype polyline\r\n",
       "skinparam monochrome true\r\n",
       "skinparam classbackgroundcolor white\r\n",
       "skinparam shadowing false\r\n",
       "skinparam wrapWidth 300\r\n",
       "hide circle\r\n",
       "\r\n",
       "package \"DependencyTest\" as E1   {\r\n",
       "package \"System\" as E2   {\r\n",
       "package \"Application Layer\" as E3   {\r\n",
       "}\r\n",
       "package \"Service Layer\" as E4   {\r\n",
       "}\r\n",
       "package \"Data Layer\" as E5   {\r\n",
       "}\r\n",
       "}\r\n",
       "comp usage \"x: DataValue\" as E6  <<(T,blue)attribute>> {\r\n",
       "}\r\n",
       "comp usage \"y: DataValue\" as E7  <<(T,blue)attribute>> {\r\n",
       "}\r\n",
       "comp usage \"z: DataValue\" as E8  <<(T,blue)attribute>> {\r\n",
       "}\r\n",
       "E3 ..>> E4 : <<depend>>\r\n",
       "E4 ..>> E5 : <<depend>>\r\n",
       "E8 ..>> E6 : <<depend>>\r\n",
       "E8 ..>> E7 : <<depend>>\r\n",
       "}\r\n",
       "@enduml\r\n",
       "\n",
       "PlantUML version 1.2020.13(Sat Jun 13 12:26:38 UTC 2020)\n",
       "(EPL source distribution)\n",
       "Java Runtime: OpenJDK Runtime Environment\n",
       "JVM: OpenJDK 64-Bit Server VM\n",
       "Default Encoding: UTF-8\n",
       "Language: en\n",
       "Country: null\n",
       "--></g></svg>"
      ]
     },
     "execution_count": 10,
     "metadata": {},
     "output_type": "execute_result"
    }
   ],
   "source": [
    "%viz --style=\"POLYLINE\" --view=\"Tree\" \"DependencyTest\""
   ]
  },
  {
   "cell_type": "code",
   "execution_count": 11,
   "id": "persistent-government",
   "metadata": {
    "execution": {
     "iopub.execute_input": "2021-03-26T09:43:54.800255Z",
     "iopub.status.busy": "2021-03-26T09:43:54.799765Z",
     "iopub.status.idle": "2021-03-26T09:43:54.804636Z",
     "shell.execute_reply": "2021-03-26T09:43:54.803799Z"
    }
   },
   "outputs": [
    {
     "data": {
      "text/plain": [
       "java.lang.IllegalArgumentException: Invalid View: State View candidates are: Default Tree StateMachine Interconnection Activity Sequence MIXED \n",
       "\tat org.omg.sysml.plantuml.SysML2PlantUMLSvc.setView(SysML2PlantUMLSvc.java:63)\n",
       "\tat org.omg.sysml.interactive.SysMLInteractive.viz(SysMLInteractive.java:286)\n",
       "\tat org.omg.sysml.jupyter.kernel.magic.Viz.viz(Viz.java:47)\n",
       "\tat java.base/jdk.internal.reflect.NativeMethodAccessorImpl.invoke0(Native Method)\n",
       "\tat java.base/jdk.internal.reflect.NativeMethodAccessorImpl.invoke(NativeMethodAccessorImpl.java:78)\n",
       "\tat java.base/jdk.internal.reflect.DelegatingMethodAccessorImpl.invoke(DelegatingMethodAccessorImpl.java:43)\n",
       "\tat java.base/java.lang.reflect.Method.invoke(Method.java:568)\n",
       "\tat io.github.spencerpark.jupyter.kernel.magic.registry.Magics.invoke(Magics.java:89)\n",
       "\tat io.github.spencerpark.jupyter.kernel.magic.registry.Magics.access$000(Magics.java:8)\n",
       "\tat io.github.spencerpark.jupyter.kernel.magic.registry.Magics$LineReflectionMagicFunction.execute(Magics.java:149)\n",
       "\tat io.github.spencerpark.jupyter.kernel.magic.registry.Magics.applyLineMagic(Magics.java:26)\n",
       "\tat org.omg.sysml.jupyter.kernel.SysMLKernel.eval(SysMLKernel.java:76)\n",
       "\tat io.github.spencerpark.jupyter.kernel.BaseKernel.handleExecuteRequest(BaseKernel.java:334)\n",
       "\tat io.github.spencerpark.jupyter.channels.ShellChannel.lambda$bind$0(ShellChannel.java:64)\n",
       "\tat io.github.spencerpark.jupyter.channels.Loop.lambda$new$0(Loop.java:21)\n",
       "\tat io.github.spencerpark.jupyter.channels.Loop.run(Loop.java:78)\n"
      ]
     },
     "execution_count": 11,
     "metadata": {},
     "output_type": "execute_result"
    }
   ],
   "source": [
    "%viz --style=\"POLYLINE\" --view=\"State\" \"DependencyTest\""
   ]
  },
  {
   "cell_type": "code",
   "execution_count": 12,
   "id": "final-adventure",
   "metadata": {
    "execution": {
     "iopub.execute_input": "2021-03-26T09:43:54.857619Z",
     "iopub.status.busy": "2021-03-26T09:43:54.856691Z",
     "iopub.status.idle": "2021-03-26T09:43:54.932188Z",
     "shell.execute_reply": "2021-03-26T09:43:54.931214Z"
    }
   },
   "outputs": [
    {
     "data": {
      "image/svg+xml": [
       "<?xml version=\"1.0\" encoding=\"UTF-8\" standalone=\"no\"?><svg xmlns=\"http://www.w3.org/2000/svg\" xmlns:xlink=\"http://www.w3.org/1999/xlink\" contentScriptType=\"application/ecmascript\" contentStyleType=\"text/css\" height=\"361px\" preserveAspectRatio=\"none\" style=\"width:529px;height:361px;\" version=\"1.1\" viewBox=\"0 0 529 361\" width=\"529px\" zoomAndPan=\"magnify\"><defs/><g><!--MD5=[fbc87193dbaf4d95561dea2c320d4a47]\n",
       "cluster E1--><polygon fill=\"#FFFFFF\" points=\"16,6,156,6,163,28.2969,507,28.2969,507,349,16,349,16,6\" style=\"stroke: #000000; stroke-width: 1.5;\"/><line style=\"stroke: #000000; stroke-width: 1.5;\" x1=\"16\" x2=\"163\" y1=\"28.2969\" y2=\"28.2969\"/><text fill=\"#000000\" font-family=\"sans-serif\" font-size=\"14\" font-weight=\"bold\" lengthAdjust=\"spacingAndGlyphs\" textLength=\"134\" x=\"20\" y=\"20.9951\">DependencyTest</text><!--MD5=[e4f7fae6ed58524ba242bb0b0d3be6b7]\n",
       "cluster E2--><polygon fill=\"#FFFFFF\" points=\"295,49,359,49,366,71.2969,483,71.2969,483,325,295,325,295,49\" style=\"stroke: #000000; stroke-width: 1.5;\"/><line style=\"stroke: #000000; stroke-width: 1.5;\" x1=\"295\" x2=\"366\" y1=\"71.2969\" y2=\"71.2969\"/><text fill=\"#000000\" font-family=\"sans-serif\" font-size=\"14\" font-weight=\"bold\" lengthAdjust=\"spacingAndGlyphs\" textLength=\"58\" x=\"299\" y=\"63.9951\">System</text><polygon fill=\"#FFFFFF\" points=\"311,84,453,84,460,106.2969,467,106.2969,467,136.5938,311,136.5938,311,84\" style=\"stroke: #000000; stroke-width: 1.5;\"/><line style=\"stroke: #000000; stroke-width: 1.5;\" x1=\"311\" x2=\"460\" y1=\"106.2969\" y2=\"106.2969\"/><text fill=\"#000000\" font-family=\"sans-serif\" font-size=\"14\" font-weight=\"bold\" lengthAdjust=\"spacingAndGlyphs\" textLength=\"136\" x=\"315\" y=\"98.9951\">Application Layer</text><polygon fill=\"#FFFFFF\" points=\"325,170,439,170,446,192.2969,453,192.2969,453,222.5938,325,222.5938,325,170\" style=\"stroke: #000000; stroke-width: 1.5;\"/><line style=\"stroke: #000000; stroke-width: 1.5;\" x1=\"325\" x2=\"446\" y1=\"192.2969\" y2=\"192.2969\"/><text fill=\"#000000\" font-family=\"sans-serif\" font-size=\"14\" font-weight=\"bold\" lengthAdjust=\"spacingAndGlyphs\" textLength=\"108\" x=\"329\" y=\"184.9951\">Service Layer</text><polygon fill=\"#FFFFFF\" points=\"337,256,427,256,434,278.2969,441,278.2969,441,308.5938,337,308.5938,337,256\" style=\"stroke: #000000; stroke-width: 1.5;\"/><line style=\"stroke: #000000; stroke-width: 1.5;\" x1=\"337\" x2=\"434\" y1=\"278.2969\" y2=\"278.2969\"/><text fill=\"#000000\" font-family=\"sans-serif\" font-size=\"14\" font-weight=\"bold\" lengthAdjust=\"spacingAndGlyphs\" textLength=\"84\" x=\"341\" y=\"270.9951\">Data Layer</text><g id=\"E1.E6\"><rect fill=\"#FFFFFF\" height=\"50\" rx=\"12.5\" ry=\"12.5\" style=\"stroke: #383838; stroke-width: 1.5;\" width=\"106\" x=\"32\" y=\"171.5\"/><line style=\"stroke: #383838; stroke-width: 1.5;\" x1=\"32\" x2=\"138\" y1=\"197.7969\" y2=\"197.7969\"/><text fill=\"#000000\" font-family=\"sans-serif\" font-size=\"14\" lengthAdjust=\"spacingAndGlyphs\" textLength=\"86\" x=\"42\" y=\"189.4951\">x: DataValue</text></g><g id=\"E1.E7\"><rect fill=\"#FFFFFF\" height=\"50\" rx=\"12.5\" ry=\"12.5\" style=\"stroke: #383838; stroke-width: 1.5;\" width=\"106\" x=\"173\" y=\"171.5\"/><line style=\"stroke: #383838; stroke-width: 1.5;\" x1=\"173\" x2=\"279\" y1=\"197.7969\" y2=\"197.7969\"/><text fill=\"#000000\" font-family=\"sans-serif\" font-size=\"14\" lengthAdjust=\"spacingAndGlyphs\" textLength=\"86\" x=\"183\" y=\"189.4951\">y: DataValue</text></g><g id=\"E1.E8\"><rect fill=\"#FFFFFF\" height=\"50\" rx=\"12.5\" ry=\"12.5\" style=\"stroke: #383838; stroke-width: 1.5;\" width=\"107\" x=\"84.5\" y=\"85.5\"/><line style=\"stroke: #383838; stroke-width: 1.5;\" x1=\"84.5\" x2=\"191.5\" y1=\"111.7969\" y2=\"111.7969\"/><text fill=\"#000000\" font-family=\"sans-serif\" font-size=\"14\" lengthAdjust=\"spacingAndGlyphs\" textLength=\"87\" x=\"94.5\" y=\"103.4951\">z: DataValue</text></g><!--MD5=[af87c684e3b0d8be13c1a698a818ef1e]\n",
       "link E3 to E4--><path d=\"M389,137.16 C389,144.98 389,153.69 389,161.94 \" fill=\"none\" id=\"E3-&gt;E4\" style=\"stroke: #383838; stroke-width: 1.0; stroke-dasharray: 7.0,7.0;\"/><polygon fill=\"#383838\" points=\"389,170,392,162,386,162,389,170\" style=\"stroke: #383838; stroke-width: 1.0;\"/><text fill=\"#000000\" font-family=\"sans-serif\" font-size=\"13\" lengthAdjust=\"spacingAndGlyphs\" textLength=\"64\" x=\"390\" y=\"158.0669\">«depend»</text><!--MD5=[1b7591eae5389033d8d09a9d6721a717]\n",
       "link E4 to E5--><path d=\"M389,223.16 C389,230.98 389,239.69 389,247.94 \" fill=\"none\" id=\"E4-&gt;E5\" style=\"stroke: #383838; stroke-width: 1.0; stroke-dasharray: 7.0,7.0;\"/><polygon fill=\"#383838\" points=\"389,256,392,248,386,248,389,256\" style=\"stroke: #383838; stroke-width: 1.0;\"/><text fill=\"#000000\" font-family=\"sans-serif\" font-size=\"13\" lengthAdjust=\"spacingAndGlyphs\" textLength=\"64\" x=\"390\" y=\"244.0669\">«depend»</text><!--MD5=[c5e8897d989ce984f93528998a7150fe]\n",
       "link E8 to E6--><path d=\"M108.93,135.85 C102.73,141.04 98,145 98,145 C98,145 95.81,153.53 93.22,163.57 \" fill=\"none\" id=\"E8-&gt;E6\" style=\"stroke: #383838; stroke-width: 1.0; stroke-dasharray: 7.0,7.0;\"/><polygon fill=\"#383838\" points=\"91.2,171.43,96.0933,164.426,90.2814,162.9355,91.2,171.43\" style=\"stroke: #383838; stroke-width: 1.0;\"/><text fill=\"#000000\" font-family=\"sans-serif\" font-size=\"13\" lengthAdjust=\"spacingAndGlyphs\" textLength=\"64\" x=\"99\" y=\"158.0669\">«depend»</text><!--MD5=[bfa3c8b0d15052fdf50ae9310b491027]\n",
       "link E8 to E7--><path d=\"M163.45,135.8 C173.21,145.11 184.46,155.85 194.71,165.63 \" fill=\"none\" id=\"E8-&gt;E7\" style=\"stroke: #383838; stroke-width: 1.0; stroke-dasharray: 7.0,7.0;\"/><polygon fill=\"#383838\" points=\"200.6,171.26,196.8886,163.5642,192.7435,167.9021,200.6,171.26\" style=\"stroke: #383838; stroke-width: 1.0;\"/><text fill=\"#000000\" font-family=\"sans-serif\" font-size=\"13\" lengthAdjust=\"spacingAndGlyphs\" textLength=\"64\" x=\"190\" y=\"158.0669\">«depend»</text><!--MD5=[8fabad13de0c00d2b71b2289422ca9b7]\n",
       "@startuml\r\n",
       "skinparam ranksep 8\r\n",
       "skinparam rectangle {\r\n",
       " backgroundColor<<block>> LightGreen\r\n",
       "}\r\n",
       "skinparam linetype polyline\r\n",
       "skinparam monochrome true\r\n",
       "skinparam classbackgroundcolor white\r\n",
       "skinparam shadowing false\r\n",
       "skinparam wrapWidth 300\r\n",
       "hide circle\r\n",
       "\r\n",
       "package \"DependencyTest\" as E1   {\r\n",
       "package \"System\" as E2   {\r\n",
       "package \"Application Layer\" as E3   {\r\n",
       "}\r\n",
       "package \"Service Layer\" as E4   {\r\n",
       "}\r\n",
       "package \"Data Layer\" as E5   {\r\n",
       "}\r\n",
       "}\r\n",
       "rec usage \"x: DataValue\" as E6  <<attribute>> {\r\n",
       "}\r\n",
       "rec usage \"y: DataValue\" as E7  <<attribute>> {\r\n",
       "}\r\n",
       "rec usage \"z: DataValue\" as E8  <<attribute>> {\r\n",
       "}\r\n",
       "E3 ..>> E4 : <<depend>>\r\n",
       "E4 ..>> E5 : <<depend>>\r\n",
       "E8 ..>> E6 : <<depend>>\r\n",
       "E8 ..>> E7 : <<depend>>\r\n",
       "}\r\n",
       "@enduml\r\n",
       "\n",
       "PlantUML version 1.2020.13(Sat Jun 13 12:26:38 UTC 2020)\n",
       "(EPL source distribution)\n",
       "Java Runtime: OpenJDK Runtime Environment\n",
       "JVM: OpenJDK 64-Bit Server VM\n",
       "Default Encoding: UTF-8\n",
       "Language: en\n",
       "Country: null\n",
       "--></g></svg>"
      ]
     },
     "execution_count": 12,
     "metadata": {},
     "output_type": "execute_result"
    }
   ],
   "source": [
    "%viz --style=\"POLYLINE\" --view=\"Interconnection\" \"DependencyTest\""
   ]
  },
  {
   "cell_type": "code",
   "execution_count": 13,
   "id": "designed-thong",
   "metadata": {
    "execution": {
     "iopub.execute_input": "2021-03-26T09:43:54.983853Z",
     "iopub.status.busy": "2021-03-26T09:43:54.983001Z",
     "iopub.status.idle": "2021-03-26T09:43:54.987314Z",
     "shell.execute_reply": "2021-03-26T09:43:54.986701Z"
    }
   },
   "outputs": [
    {
     "data": {
      "text/plain": [
       "java.lang.IllegalArgumentException: Invalid View: Action View candidates are: Default Tree StateMachine Interconnection Activity Sequence MIXED \n",
       "\tat org.omg.sysml.plantuml.SysML2PlantUMLSvc.setView(SysML2PlantUMLSvc.java:63)\n",
       "\tat org.omg.sysml.interactive.SysMLInteractive.viz(SysMLInteractive.java:286)\n",
       "\tat org.omg.sysml.jupyter.kernel.magic.Viz.viz(Viz.java:47)\n",
       "\tat java.base/jdk.internal.reflect.NativeMethodAccessorImpl.invoke0(Native Method)\n",
       "\tat java.base/jdk.internal.reflect.NativeMethodAccessorImpl.invoke(NativeMethodAccessorImpl.java:78)\n",
       "\tat java.base/jdk.internal.reflect.DelegatingMethodAccessorImpl.invoke(DelegatingMethodAccessorImpl.java:43)\n",
       "\tat java.base/java.lang.reflect.Method.invoke(Method.java:568)\n",
       "\tat io.github.spencerpark.jupyter.kernel.magic.registry.Magics.invoke(Magics.java:89)\n",
       "\tat io.github.spencerpark.jupyter.kernel.magic.registry.Magics.access$000(Magics.java:8)\n",
       "\tat io.github.spencerpark.jupyter.kernel.magic.registry.Magics$LineReflectionMagicFunction.execute(Magics.java:149)\n",
       "\tat io.github.spencerpark.jupyter.kernel.magic.registry.Magics.applyLineMagic(Magics.java:26)\n",
       "\tat org.omg.sysml.jupyter.kernel.SysMLKernel.eval(SysMLKernel.java:76)\n",
       "\tat io.github.spencerpark.jupyter.kernel.BaseKernel.handleExecuteRequest(BaseKernel.java:334)\n",
       "\tat io.github.spencerpark.jupyter.channels.ShellChannel.lambda$bind$0(ShellChannel.java:64)\n",
       "\tat io.github.spencerpark.jupyter.channels.Loop.lambda$new$0(Loop.java:21)\n",
       "\tat io.github.spencerpark.jupyter.channels.Loop.run(Loop.java:78)\n"
      ]
     },
     "execution_count": 13,
     "metadata": {},
     "output_type": "execute_result"
    }
   ],
   "source": [
    "%viz --style=\"POLYLINE\" --view=\"Action\" \"DependencyTest\""
   ]
  },
  {
   "cell_type": "code",
   "execution_count": 14,
   "id": "specific-windsor",
   "metadata": {
    "execution": {
     "iopub.execute_input": "2021-03-26T09:43:55.038976Z",
     "iopub.status.busy": "2021-03-26T09:43:55.038270Z",
     "iopub.status.idle": "2021-03-26T09:43:55.089169Z",
     "shell.execute_reply": "2021-03-26T09:43:55.087774Z"
    }
   },
   "outputs": [
    {
     "data": {
      "image/svg+xml": [
       "<?xml version=\"1.0\" encoding=\"UTF-8\" standalone=\"no\"?><svg xmlns=\"http://www.w3.org/2000/svg\" xmlns:xlink=\"http://www.w3.org/1999/xlink\" contentScriptType=\"application/ecmascript\" contentStyleType=\"text/css\" height=\"449px\" preserveAspectRatio=\"none\" style=\"width:489px;height:449px;\" version=\"1.1\" viewBox=\"0 0 489 449\" width=\"489px\" zoomAndPan=\"magnify\"><defs/><g><!--MD5=[fbc87193dbaf4d95561dea2c320d4a47]\n",
       "cluster E1--><polygon fill=\"#FFFFFF\" points=\"16,6,156,6,163,28.2969,467,28.2969,467,437,16,437,16,6\" style=\"stroke: #000000; stroke-width: 1.5;\"/><line style=\"stroke: #000000; stroke-width: 1.5;\" x1=\"16\" x2=\"163\" y1=\"28.2969\" y2=\"28.2969\"/><text fill=\"#000000\" font-family=\"sans-serif\" font-size=\"14\" font-weight=\"bold\" lengthAdjust=\"spacingAndGlyphs\" textLength=\"134\" x=\"20\" y=\"20.9951\">DependencyTest</text><!--MD5=[e4f7fae6ed58524ba242bb0b0d3be6b7]\n",
       "cluster E2--><polygon fill=\"#FFFFFF\" points=\"255,49,319,49,326,71.2969,443,71.2969,443,413,255,413,255,49\" style=\"stroke: #000000; stroke-width: 1.5;\"/><line style=\"stroke: #000000; stroke-width: 1.5;\" x1=\"255\" x2=\"326\" y1=\"71.2969\" y2=\"71.2969\"/><text fill=\"#000000\" font-family=\"sans-serif\" font-size=\"14\" font-weight=\"bold\" lengthAdjust=\"spacingAndGlyphs\" textLength=\"58\" x=\"259\" y=\"63.9951\">System</text><!--MD5=[60a26617385b1d2d0262a64233df1f8d]\n",
       "class E6--><rect fill=\"#FFFFFF\" height=\"45.9375\" id=\"E6\" rx=\"10\" ry=\"10\" style=\"stroke: #383838; stroke-width: 1.5;\" width=\"85\" x=\"32.5\" y=\"217.5\"/><text fill=\"#000000\" font-family=\"sans-serif\" font-size=\"12\" font-style=\"italic\" lengthAdjust=\"spacingAndGlyphs\" textLength=\"69\" x=\"40.5\" y=\"233.6387\">«attribute»</text><text fill=\"#000000\" font-family=\"sans-serif\" font-size=\"12\" lengthAdjust=\"spacingAndGlyphs\" textLength=\"79\" x=\"35.5\" y=\"247.6074\">x: DataValue</text><line style=\"stroke: #383838; stroke-width: 1.5;\" x1=\"33.5\" x2=\"116.5\" y1=\"255.4375\" y2=\"255.4375\"/><!--MD5=[2156ba9850f5573cc1fc38a6a4b2f02b]\n",
       "class E7--><rect fill=\"#FFFFFF\" height=\"45.9375\" id=\"E7\" rx=\"10\" ry=\"10\" style=\"stroke: #383838; stroke-width: 1.5;\" width=\"85\" x=\"152.5\" y=\"217.5\"/><text fill=\"#000000\" font-family=\"sans-serif\" font-size=\"12\" font-style=\"italic\" lengthAdjust=\"spacingAndGlyphs\" textLength=\"69\" x=\"160.5\" y=\"233.6387\">«attribute»</text><text fill=\"#000000\" font-family=\"sans-serif\" font-size=\"12\" lengthAdjust=\"spacingAndGlyphs\" textLength=\"79\" x=\"155.5\" y=\"247.6074\">y: DataValue</text><line style=\"stroke: #383838; stroke-width: 1.5;\" x1=\"153.5\" x2=\"236.5\" y1=\"255.4375\" y2=\"255.4375\"/><!--MD5=[b9389687b975829384b498ac4b7476b2]\n",
       "class E8--><rect fill=\"#FFFFFF\" height=\"45.9375\" id=\"E8\" rx=\"10\" ry=\"10\" style=\"stroke: #383838; stroke-width: 1.5;\" width=\"84\" x=\"81\" y=\"87.5\"/><text fill=\"#000000\" font-family=\"sans-serif\" font-size=\"12\" font-style=\"italic\" lengthAdjust=\"spacingAndGlyphs\" textLength=\"69\" x=\"88.5\" y=\"103.6387\">«attribute»</text><text fill=\"#000000\" font-family=\"sans-serif\" font-size=\"12\" lengthAdjust=\"spacingAndGlyphs\" textLength=\"78\" x=\"84\" y=\"117.6074\">z: DataValue</text><line style=\"stroke: #383838; stroke-width: 1.5;\" x1=\"82\" x2=\"164\" y1=\"125.4375\" y2=\"125.4375\"/><polygon fill=\"#FFFFFF\" points=\"271,84,413,84,420,106.2969,427,106.2969,427,136.5938,271,136.5938,271,84\" style=\"stroke: #000000; stroke-width: 1.5;\"/><line style=\"stroke: #000000; stroke-width: 1.5;\" x1=\"271\" x2=\"420\" y1=\"106.2969\" y2=\"106.2969\"/><text fill=\"#000000\" font-family=\"sans-serif\" font-size=\"14\" font-weight=\"bold\" lengthAdjust=\"spacingAndGlyphs\" textLength=\"136\" x=\"275\" y=\"98.9951\">Application Layer</text><polygon fill=\"#FFFFFF\" points=\"285,214,399,214,406,236.2969,413,236.2969,413,266.5938,285,266.5938,285,214\" style=\"stroke: #000000; stroke-width: 1.5;\"/><line style=\"stroke: #000000; stroke-width: 1.5;\" x1=\"285\" x2=\"406\" y1=\"236.2969\" y2=\"236.2969\"/><text fill=\"#000000\" font-family=\"sans-serif\" font-size=\"14\" font-weight=\"bold\" lengthAdjust=\"spacingAndGlyphs\" textLength=\"108\" x=\"289\" y=\"228.9951\">Service Layer</text><polygon fill=\"#FFFFFF\" points=\"297,344,387,344,394,366.2969,401,366.2969,401,396.5938,297,396.5938,297,344\" style=\"stroke: #000000; stroke-width: 1.5;\"/><line style=\"stroke: #000000; stroke-width: 1.5;\" x1=\"297\" x2=\"394\" y1=\"366.2969\" y2=\"366.2969\"/><text fill=\"#000000\" font-family=\"sans-serif\" font-size=\"14\" font-weight=\"bold\" lengthAdjust=\"spacingAndGlyphs\" textLength=\"84\" x=\"301\" y=\"358.9951\">Data Layer</text><!--MD5=[af87c684e3b0d8be13c1a698a818ef1e]\n",
       "link E3 to E4--><path d=\"M349,137.1 C349,156.8 349,184.22 349,205.73 \" fill=\"none\" id=\"E3-&gt;E4\" style=\"stroke: #383838; stroke-width: 1.0; stroke-dasharray: 7.0,7.0;\"/><polygon fill=\"#383838\" points=\"349,213.95,352,205.95,346,205.95,349,213.95\" style=\"stroke: #383838; stroke-width: 1.0;\"/><text fill=\"#000000\" font-family=\"sans-serif\" font-size=\"13\" lengthAdjust=\"spacingAndGlyphs\" textLength=\"64\" x=\"350\" y=\"180.0669\">«depend»</text><!--MD5=[1b7591eae5389033d8d09a9d6721a717]\n",
       "link E4 to E5--><path d=\"M349,267.1 C349,286.8 349,314.22 349,335.73 \" fill=\"none\" id=\"E4-&gt;E5\" style=\"stroke: #383838; stroke-width: 1.0; stroke-dasharray: 7.0,7.0;\"/><polygon fill=\"#383838\" points=\"349,343.95,352,335.95,346,335.95,349,343.95\" style=\"stroke: #383838; stroke-width: 1.0;\"/><text fill=\"#000000\" font-family=\"sans-serif\" font-size=\"13\" lengthAdjust=\"spacingAndGlyphs\" textLength=\"64\" x=\"350\" y=\"310.0669\">«depend»</text><!--MD5=[c5e8897d989ce984f93528998a7150fe]\n",
       "link E8 to E6--><path d=\"M99.34,133.75 C82.93,149.19 64,167 64,167 C64,167 64,184 64,184 C64,184 66.42,196.21 68.99,209.18 \" fill=\"none\" id=\"E8-&gt;E6\" style=\"stroke: #383838; stroke-width: 1.0; stroke-dasharray: 7.0,7.0;\"/><polygon fill=\"#383838\" points=\"70.59,217.25,71.9746,208.8189,66.0895,209.9874,70.59,217.25\" style=\"stroke: #383838; stroke-width: 1.0;\"/><text fill=\"#000000\" font-family=\"sans-serif\" font-size=\"13\" lengthAdjust=\"spacingAndGlyphs\" textLength=\"64\" x=\"65\" y=\"180.0669\">«depend»</text><!--MD5=[bfa3c8b0d15052fdf50ae9310b491027]\n",
       "link E8 to E7--><path d=\"M135.38,133.5 C147.28,154.66 165.34,186.78 178.47,210.11 \" fill=\"none\" id=\"E8-&gt;E7\" style=\"stroke: #383838; stroke-width: 1.0; stroke-dasharray: 7.0,7.0;\"/><polygon fill=\"#383838\" points=\"182.54,217.35,181.2392,208.9056,176.0075,211.8431,182.54,217.35\" style=\"stroke: #383838; stroke-width: 1.0;\"/><text fill=\"#000000\" font-family=\"sans-serif\" font-size=\"13\" lengthAdjust=\"spacingAndGlyphs\" textLength=\"64\" x=\"164\" y=\"180.0669\">«depend»</text><!--MD5=[ce3ad8dfece913c8ae100450aed6e8be]\n",
       "@startuml\r\n",
       "skinparam linetype polyline\r\n",
       "skinparam monochrome true\r\n",
       "skinparam classbackgroundcolor white\r\n",
       "skinparam shadowing false\r\n",
       "skinparam wrapWidth 300\r\n",
       "hide circle\r\n",
       "\r\n",
       "package \"DependencyTest\" as E1   {\r\n",
       "package \"System\" as E2   {\r\n",
       "package \"Application Layer\" as E3   {\r\n",
       "}\r\n",
       "package \"Service Layer\" as E4   {\r\n",
       "}\r\n",
       "package \"Data Layer\" as E5   {\r\n",
       "}\r\n",
       "}\r\n",
       "comp usage \"x: DataValue\" as E6  <<(T,blue)attribute>> {\r\n",
       "}\r\n",
       "comp usage \"y: DataValue\" as E7  <<(T,blue)attribute>> {\r\n",
       "}\r\n",
       "comp usage \"z: DataValue\" as E8  <<(T,blue)attribute>> {\r\n",
       "}\r\n",
       "E3 ..>> E4 : <<depend>>\r\n",
       "E4 ..>> E5 : <<depend>>\r\n",
       "E8 ..>> E6 : <<depend>>\r\n",
       "E8 ..>> E7 : <<depend>>\r\n",
       "}\r\n",
       "@enduml\r\n",
       "\n",
       "PlantUML version 1.2020.13(Sat Jun 13 12:26:38 UTC 2020)\n",
       "(EPL source distribution)\n",
       "Java Runtime: OpenJDK Runtime Environment\n",
       "JVM: OpenJDK 64-Bit Server VM\n",
       "Default Encoding: UTF-8\n",
       "Language: en\n",
       "Country: null\n",
       "--></g></svg>"
      ]
     },
     "execution_count": 14,
     "metadata": {},
     "output_type": "execute_result"
    }
   ],
   "source": [
    "%viz --style=\"POLYLINE\" --view=\"Sequence\" \"DependencyTest\""
   ]
  },
  {
   "cell_type": "code",
   "execution_count": 15,
   "id": "listed-course",
   "metadata": {
    "execution": {
     "iopub.execute_input": "2021-03-26T09:43:55.140090Z",
     "iopub.status.busy": "2021-03-26T09:43:55.139631Z",
     "iopub.status.idle": "2021-03-26T09:43:55.190332Z",
     "shell.execute_reply": "2021-03-26T09:43:55.187290Z"
    }
   },
   "outputs": [
    {
     "data": {
      "image/svg+xml": [
       "<?xml version=\"1.0\" encoding=\"UTF-8\" standalone=\"no\"?><svg xmlns=\"http://www.w3.org/2000/svg\" xmlns:xlink=\"http://www.w3.org/1999/xlink\" contentScriptType=\"application/ecmascript\" contentStyleType=\"text/css\" height=\"449px\" preserveAspectRatio=\"none\" style=\"width:489px;height:449px;\" version=\"1.1\" viewBox=\"0 0 489 449\" width=\"489px\" zoomAndPan=\"magnify\"><defs/><g><!--MD5=[fbc87193dbaf4d95561dea2c320d4a47]\n",
       "cluster E1--><polygon fill=\"#FFFFFF\" points=\"16,6,156,6,163,28.2969,467,28.2969,467,437,16,437,16,6\" style=\"stroke: #000000; stroke-width: 1.5;\"/><line style=\"stroke: #000000; stroke-width: 1.5;\" x1=\"16\" x2=\"163\" y1=\"28.2969\" y2=\"28.2969\"/><text fill=\"#000000\" font-family=\"sans-serif\" font-size=\"14\" font-weight=\"bold\" lengthAdjust=\"spacingAndGlyphs\" textLength=\"134\" x=\"20\" y=\"20.9951\">DependencyTest</text><!--MD5=[e4f7fae6ed58524ba242bb0b0d3be6b7]\n",
       "cluster E2--><polygon fill=\"#FFFFFF\" points=\"255,49,319,49,326,71.2969,443,71.2969,443,413,255,413,255,49\" style=\"stroke: #000000; stroke-width: 1.5;\"/><line style=\"stroke: #000000; stroke-width: 1.5;\" x1=\"255\" x2=\"326\" y1=\"71.2969\" y2=\"71.2969\"/><text fill=\"#000000\" font-family=\"sans-serif\" font-size=\"14\" font-weight=\"bold\" lengthAdjust=\"spacingAndGlyphs\" textLength=\"58\" x=\"259\" y=\"63.9951\">System</text><!--MD5=[60a26617385b1d2d0262a64233df1f8d]\n",
       "class E6--><rect fill=\"#FFFFFF\" height=\"45.9375\" id=\"E6\" rx=\"10\" ry=\"10\" style=\"stroke: #383838; stroke-width: 1.5;\" width=\"85\" x=\"32.5\" y=\"217.5\"/><text fill=\"#000000\" font-family=\"sans-serif\" font-size=\"12\" font-style=\"italic\" lengthAdjust=\"spacingAndGlyphs\" textLength=\"69\" x=\"40.5\" y=\"233.6387\">«attribute»</text><text fill=\"#000000\" font-family=\"sans-serif\" font-size=\"12\" lengthAdjust=\"spacingAndGlyphs\" textLength=\"79\" x=\"35.5\" y=\"247.6074\">x: DataValue</text><line style=\"stroke: #383838; stroke-width: 1.5;\" x1=\"33.5\" x2=\"116.5\" y1=\"255.4375\" y2=\"255.4375\"/><!--MD5=[2156ba9850f5573cc1fc38a6a4b2f02b]\n",
       "class E7--><rect fill=\"#FFFFFF\" height=\"45.9375\" id=\"E7\" rx=\"10\" ry=\"10\" style=\"stroke: #383838; stroke-width: 1.5;\" width=\"85\" x=\"152.5\" y=\"217.5\"/><text fill=\"#000000\" font-family=\"sans-serif\" font-size=\"12\" font-style=\"italic\" lengthAdjust=\"spacingAndGlyphs\" textLength=\"69\" x=\"160.5\" y=\"233.6387\">«attribute»</text><text fill=\"#000000\" font-family=\"sans-serif\" font-size=\"12\" lengthAdjust=\"spacingAndGlyphs\" textLength=\"79\" x=\"155.5\" y=\"247.6074\">y: DataValue</text><line style=\"stroke: #383838; stroke-width: 1.5;\" x1=\"153.5\" x2=\"236.5\" y1=\"255.4375\" y2=\"255.4375\"/><!--MD5=[b9389687b975829384b498ac4b7476b2]\n",
       "class E8--><rect fill=\"#FFFFFF\" height=\"45.9375\" id=\"E8\" rx=\"10\" ry=\"10\" style=\"stroke: #383838; stroke-width: 1.5;\" width=\"84\" x=\"81\" y=\"87.5\"/><text fill=\"#000000\" font-family=\"sans-serif\" font-size=\"12\" font-style=\"italic\" lengthAdjust=\"spacingAndGlyphs\" textLength=\"69\" x=\"88.5\" y=\"103.6387\">«attribute»</text><text fill=\"#000000\" font-family=\"sans-serif\" font-size=\"12\" lengthAdjust=\"spacingAndGlyphs\" textLength=\"78\" x=\"84\" y=\"117.6074\">z: DataValue</text><line style=\"stroke: #383838; stroke-width: 1.5;\" x1=\"82\" x2=\"164\" y1=\"125.4375\" y2=\"125.4375\"/><polygon fill=\"#FFFFFF\" points=\"271,84,413,84,420,106.2969,427,106.2969,427,136.5938,271,136.5938,271,84\" style=\"stroke: #000000; stroke-width: 1.5;\"/><line style=\"stroke: #000000; stroke-width: 1.5;\" x1=\"271\" x2=\"420\" y1=\"106.2969\" y2=\"106.2969\"/><text fill=\"#000000\" font-family=\"sans-serif\" font-size=\"14\" font-weight=\"bold\" lengthAdjust=\"spacingAndGlyphs\" textLength=\"136\" x=\"275\" y=\"98.9951\">Application Layer</text><polygon fill=\"#FFFFFF\" points=\"285,214,399,214,406,236.2969,413,236.2969,413,266.5938,285,266.5938,285,214\" style=\"stroke: #000000; stroke-width: 1.5;\"/><line style=\"stroke: #000000; stroke-width: 1.5;\" x1=\"285\" x2=\"406\" y1=\"236.2969\" y2=\"236.2969\"/><text fill=\"#000000\" font-family=\"sans-serif\" font-size=\"14\" font-weight=\"bold\" lengthAdjust=\"spacingAndGlyphs\" textLength=\"108\" x=\"289\" y=\"228.9951\">Service Layer</text><polygon fill=\"#FFFFFF\" points=\"297,344,387,344,394,366.2969,401,366.2969,401,396.5938,297,396.5938,297,344\" style=\"stroke: #000000; stroke-width: 1.5;\"/><line style=\"stroke: #000000; stroke-width: 1.5;\" x1=\"297\" x2=\"394\" y1=\"366.2969\" y2=\"366.2969\"/><text fill=\"#000000\" font-family=\"sans-serif\" font-size=\"14\" font-weight=\"bold\" lengthAdjust=\"spacingAndGlyphs\" textLength=\"84\" x=\"301\" y=\"358.9951\">Data Layer</text><!--MD5=[af87c684e3b0d8be13c1a698a818ef1e]\n",
       "link E3 to E4--><path d=\"M349,137.1 C349,156.8 349,184.22 349,205.73 \" fill=\"none\" id=\"E3-&gt;E4\" style=\"stroke: #383838; stroke-width: 1.0; stroke-dasharray: 7.0,7.0;\"/><polygon fill=\"#383838\" points=\"349,213.95,352,205.95,346,205.95,349,213.95\" style=\"stroke: #383838; stroke-width: 1.0;\"/><text fill=\"#000000\" font-family=\"sans-serif\" font-size=\"13\" lengthAdjust=\"spacingAndGlyphs\" textLength=\"64\" x=\"350\" y=\"180.0669\">«depend»</text><!--MD5=[1b7591eae5389033d8d09a9d6721a717]\n",
       "link E4 to E5--><path d=\"M349,267.1 C349,286.8 349,314.22 349,335.73 \" fill=\"none\" id=\"E4-&gt;E5\" style=\"stroke: #383838; stroke-width: 1.0; stroke-dasharray: 7.0,7.0;\"/><polygon fill=\"#383838\" points=\"349,343.95,352,335.95,346,335.95,349,343.95\" style=\"stroke: #383838; stroke-width: 1.0;\"/><text fill=\"#000000\" font-family=\"sans-serif\" font-size=\"13\" lengthAdjust=\"spacingAndGlyphs\" textLength=\"64\" x=\"350\" y=\"310.0669\">«depend»</text><!--MD5=[c5e8897d989ce984f93528998a7150fe]\n",
       "link E8 to E6--><path d=\"M99.34,133.75 C82.93,149.19 64,167 64,167 C64,167 64,184 64,184 C64,184 66.42,196.21 68.99,209.18 \" fill=\"none\" id=\"E8-&gt;E6\" style=\"stroke: #383838; stroke-width: 1.0; stroke-dasharray: 7.0,7.0;\"/><polygon fill=\"#383838\" points=\"70.59,217.25,71.9746,208.8189,66.0895,209.9874,70.59,217.25\" style=\"stroke: #383838; stroke-width: 1.0;\"/><text fill=\"#000000\" font-family=\"sans-serif\" font-size=\"13\" lengthAdjust=\"spacingAndGlyphs\" textLength=\"64\" x=\"65\" y=\"180.0669\">«depend»</text><!--MD5=[bfa3c8b0d15052fdf50ae9310b491027]\n",
       "link E8 to E7--><path d=\"M135.38,133.5 C147.28,154.66 165.34,186.78 178.47,210.11 \" fill=\"none\" id=\"E8-&gt;E7\" style=\"stroke: #383838; stroke-width: 1.0; stroke-dasharray: 7.0,7.0;\"/><polygon fill=\"#383838\" points=\"182.54,217.35,181.2392,208.9056,176.0075,211.8431,182.54,217.35\" style=\"stroke: #383838; stroke-width: 1.0;\"/><text fill=\"#000000\" font-family=\"sans-serif\" font-size=\"13\" lengthAdjust=\"spacingAndGlyphs\" textLength=\"64\" x=\"164\" y=\"180.0669\">«depend»</text><!--MD5=[ce3ad8dfece913c8ae100450aed6e8be]\n",
       "@startuml\r\n",
       "skinparam linetype polyline\r\n",
       "skinparam monochrome true\r\n",
       "skinparam classbackgroundcolor white\r\n",
       "skinparam shadowing false\r\n",
       "skinparam wrapWidth 300\r\n",
       "hide circle\r\n",
       "\r\n",
       "package \"DependencyTest\" as E1   {\r\n",
       "package \"System\" as E2   {\r\n",
       "package \"Application Layer\" as E3   {\r\n",
       "}\r\n",
       "package \"Service Layer\" as E4   {\r\n",
       "}\r\n",
       "package \"Data Layer\" as E5   {\r\n",
       "}\r\n",
       "}\r\n",
       "comp usage \"x: DataValue\" as E6  <<(T,blue)attribute>> {\r\n",
       "}\r\n",
       "comp usage \"y: DataValue\" as E7  <<(T,blue)attribute>> {\r\n",
       "}\r\n",
       "comp usage \"z: DataValue\" as E8  <<(T,blue)attribute>> {\r\n",
       "}\r\n",
       "E3 ..>> E4 : <<depend>>\r\n",
       "E4 ..>> E5 : <<depend>>\r\n",
       "E8 ..>> E6 : <<depend>>\r\n",
       "E8 ..>> E7 : <<depend>>\r\n",
       "}\r\n",
       "@enduml\r\n",
       "\n",
       "PlantUML version 1.2020.13(Sat Jun 13 12:26:38 UTC 2020)\n",
       "(EPL source distribution)\n",
       "Java Runtime: OpenJDK Runtime Environment\n",
       "JVM: OpenJDK 64-Bit Server VM\n",
       "Default Encoding: UTF-8\n",
       "Language: en\n",
       "Country: null\n",
       "--></g></svg>"
      ]
     },
     "execution_count": 15,
     "metadata": {},
     "output_type": "execute_result"
    }
   ],
   "source": [
    "%viz --style=\"POLYLINE\" --view=\"MIXED\" \"DependencyTest\""
   ]
  },
  {
   "cell_type": "code",
   "execution_count": 16,
   "id": "senior-lawsuit",
   "metadata": {
    "execution": {
     "iopub.execute_input": "2021-03-26T09:43:55.243475Z",
     "iopub.status.busy": "2021-03-26T09:43:55.243001Z",
     "iopub.status.idle": "2021-03-26T09:43:55.286777Z",
     "shell.execute_reply": "2021-03-26T09:43:55.287101Z"
    }
   },
   "outputs": [
    {
     "data": {
      "image/svg+xml": [
       "<?xml version=\"1.0\" encoding=\"UTF-8\" standalone=\"no\"?><svg xmlns=\"http://www.w3.org/2000/svg\" xmlns:xlink=\"http://www.w3.org/1999/xlink\" contentScriptType=\"application/ecmascript\" contentStyleType=\"text/css\" height=\"328px\" preserveAspectRatio=\"none\" style=\"width:758px;height:328px;\" version=\"1.1\" viewBox=\"0 0 758 328\" width=\"758px\" zoomAndPan=\"magnify\"><defs/><g><!--MD5=[fbc87193dbaf4d95561dea2c320d4a47]\n",
       "cluster E1--><polygon fill=\"#FFFFFF\" points=\"16,6,156,6,163,28.2969,736,28.2969,736,316,16,316,16,6\" style=\"stroke: #000000; stroke-width: 1.5;\"/><line style=\"stroke: #000000; stroke-width: 1.5;\" x1=\"16\" x2=\"163\" y1=\"28.2969\" y2=\"28.2969\"/><text fill=\"#000000\" font-family=\"sans-serif\" font-size=\"14\" font-weight=\"bold\" lengthAdjust=\"spacingAndGlyphs\" textLength=\"134\" x=\"20\" y=\"20.9951\">DependencyTest</text><!--MD5=[e4f7fae6ed58524ba242bb0b0d3be6b7]\n",
       "cluster E2--><polygon fill=\"#FFFFFF\" points=\"40,49,104,49,111,71.2969,712,71.2969,712,154,40,154,40,49\" style=\"stroke: #000000; stroke-width: 1.5;\"/><line style=\"stroke: #000000; stroke-width: 1.5;\" x1=\"40\" x2=\"111\" y1=\"71.2969\" y2=\"71.2969\"/><text fill=\"#000000\" font-family=\"sans-serif\" font-size=\"14\" font-weight=\"bold\" lengthAdjust=\"spacingAndGlyphs\" textLength=\"58\" x=\"44\" y=\"63.9951\">System</text><!--MD5=[60a26617385b1d2d0262a64233df1f8d]\n",
       "class E6--><rect fill=\"#FFFFFF\" height=\"45.9375\" id=\"E6\" rx=\"10\" ry=\"10\" style=\"stroke: #383838; stroke-width: 1.5;\" width=\"85\" x=\"359.5\" y=\"254\"/><text fill=\"#000000\" font-family=\"sans-serif\" font-size=\"12\" font-style=\"italic\" lengthAdjust=\"spacingAndGlyphs\" textLength=\"69\" x=\"367.5\" y=\"270.1387\">«attribute»</text><text fill=\"#000000\" font-family=\"sans-serif\" font-size=\"12\" lengthAdjust=\"spacingAndGlyphs\" textLength=\"79\" x=\"362.5\" y=\"284.1074\">x: DataValue</text><line style=\"stroke: #383838; stroke-width: 1.5;\" x1=\"360.5\" x2=\"443.5\" y1=\"291.9375\" y2=\"291.9375\"/><!--MD5=[2156ba9850f5573cc1fc38a6a4b2f02b]\n",
       "class E7--><rect fill=\"#FFFFFF\" height=\"45.9375\" id=\"E7\" rx=\"10\" ry=\"10\" style=\"stroke: #383838; stroke-width: 1.5;\" width=\"85\" x=\"359.5\" y=\"173\"/><text fill=\"#000000\" font-family=\"sans-serif\" font-size=\"12\" font-style=\"italic\" lengthAdjust=\"spacingAndGlyphs\" textLength=\"69\" x=\"367.5\" y=\"189.1387\">«attribute»</text><text fill=\"#000000\" font-family=\"sans-serif\" font-size=\"12\" lengthAdjust=\"spacingAndGlyphs\" textLength=\"79\" x=\"362.5\" y=\"203.1074\">y: DataValue</text><line style=\"stroke: #383838; stroke-width: 1.5;\" x1=\"360.5\" x2=\"443.5\" y1=\"210.9375\" y2=\"210.9375\"/><!--MD5=[b9389687b975829384b498ac4b7476b2]\n",
       "class E8--><rect fill=\"#FFFFFF\" height=\"45.9375\" id=\"E8\" rx=\"10\" ry=\"10\" style=\"stroke: #383838; stroke-width: 1.5;\" width=\"84\" x=\"92\" y=\"206\"/><text fill=\"#000000\" font-family=\"sans-serif\" font-size=\"12\" font-style=\"italic\" lengthAdjust=\"spacingAndGlyphs\" textLength=\"69\" x=\"99.5\" y=\"222.1387\">«attribute»</text><text fill=\"#000000\" font-family=\"sans-serif\" font-size=\"12\" lengthAdjust=\"spacingAndGlyphs\" textLength=\"78\" x=\"95\" y=\"236.1074\">z: DataValue</text><line style=\"stroke: #383838; stroke-width: 1.5;\" x1=\"93\" x2=\"175\" y1=\"243.9375\" y2=\"243.9375\"/><polygon fill=\"#FFFFFF\" points=\"56,84.5,198,84.5,205,106.7969,212,106.7969,212,137.0938,56,137.0938,56,84.5\" style=\"stroke: #000000; stroke-width: 1.5;\"/><line style=\"stroke: #000000; stroke-width: 1.5;\" x1=\"56\" x2=\"205\" y1=\"106.7969\" y2=\"106.7969\"/><text fill=\"#000000\" font-family=\"sans-serif\" font-size=\"14\" font-weight=\"bold\" lengthAdjust=\"spacingAndGlyphs\" textLength=\"136\" x=\"60\" y=\"99.4951\">Application Layer</text><polygon fill=\"#FFFFFF\" points=\"338,84.5,452,84.5,459,106.7969,466,106.7969,466,137.0938,338,137.0938,338,84.5\" style=\"stroke: #000000; stroke-width: 1.5;\"/><line style=\"stroke: #000000; stroke-width: 1.5;\" x1=\"338\" x2=\"459\" y1=\"106.7969\" y2=\"106.7969\"/><text fill=\"#000000\" font-family=\"sans-serif\" font-size=\"14\" font-weight=\"bold\" lengthAdjust=\"spacingAndGlyphs\" textLength=\"108\" x=\"342\" y=\"99.4951\">Service Layer</text><polygon fill=\"#FFFFFF\" points=\"592,84.5,682,84.5,689,106.7969,696,106.7969,696,137.0938,592,137.0938,592,84.5\" style=\"stroke: #000000; stroke-width: 1.5;\"/><line style=\"stroke: #000000; stroke-width: 1.5;\" x1=\"592\" x2=\"689\" y1=\"106.7969\" y2=\"106.7969\"/><text fill=\"#000000\" font-family=\"sans-serif\" font-size=\"14\" font-weight=\"bold\" lengthAdjust=\"spacingAndGlyphs\" textLength=\"84\" x=\"596\" y=\"99.4951\">Data Layer</text><!--MD5=[af87c684e3b0d8be13c1a698a818ef1e]\n",
       "link E3 to E4--><path d=\"M212.3,111 C249.37,111 293.5,111 329.76,111 \" fill=\"none\" id=\"E3-&gt;E4\" style=\"stroke: #383838; stroke-width: 1.0; stroke-dasharray: 7.0,7.0;\"/><polygon fill=\"#383838\" points=\"337.84,111,329.84,108,329.84,114,337.84,111\" style=\"stroke: #383838; stroke-width: 1.0;\"/><text fill=\"#000000\" font-family=\"sans-serif\" font-size=\"13\" lengthAdjust=\"spacingAndGlyphs\" textLength=\"64\" x=\"243\" y=\"107.0669\">«depend»</text><!--MD5=[1b7591eae5389033d8d09a9d6721a717]\n",
       "link E4 to E5--><path d=\"M466.06,111 C502.32,111 547.6,111 583.28,111 \" fill=\"none\" id=\"E4-&gt;E5\" style=\"stroke: #383838; stroke-width: 1.0; stroke-dasharray: 7.0,7.0;\"/><polygon fill=\"#383838\" points=\"591.67,111,583.67,108,583.67,114,591.67,111\" style=\"stroke: #383838; stroke-width: 1.0;\"/><text fill=\"#000000\" font-family=\"sans-serif\" font-size=\"13\" lengthAdjust=\"spacingAndGlyphs\" textLength=\"64\" x=\"497\" y=\"107.0669\">«depend»</text><!--MD5=[c5e8897d989ce984f93528998a7150fe]\n",
       "link E8 to E6--><path d=\"M176.27,236.45 C223.41,244.95 300.52,258.87 351.02,267.98 \" fill=\"none\" id=\"E8-&gt;E6\" style=\"stroke: #383838; stroke-width: 1.0; stroke-dasharray: 7.0,7.0;\"/><polygon fill=\"#383838\" points=\"359.19,269.46,351.8543,265.0796,350.7829,270.9832,359.19,269.46\" style=\"stroke: #383838; stroke-width: 1.0;\"/><text fill=\"#000000\" font-family=\"sans-serif\" font-size=\"13\" lengthAdjust=\"spacingAndGlyphs\" textLength=\"64\" x=\"243\" y=\"245.0669\">«depend»</text><!--MD5=[bfa3c8b0d15052fdf50ae9310b491027]\n",
       "link E8 to E7--><path d=\"M176.27,223.88 C223.41,218.03 300.52,208.47 351.02,202.2 \" fill=\"none\" id=\"E8-&gt;E7\" style=\"stroke: #383838; stroke-width: 1.0; stroke-dasharray: 7.0,7.0;\"/><polygon fill=\"#383838\" points=\"359.19,201.19,350.8814,199.1981,351.6204,205.1524,359.19,201.19\" style=\"stroke: #383838; stroke-width: 1.0;\"/><text fill=\"#000000\" font-family=\"sans-serif\" font-size=\"13\" lengthAdjust=\"spacingAndGlyphs\" textLength=\"64\" x=\"243\" y=\"204.0669\">«depend»</text><!--MD5=[b0217dd76ceceada7cbdbc24321f414f]\n",
       "@startuml\r\n",
       "left to right direction\r\n",
       "skinparam monochrome true\r\n",
       "skinparam classbackgroundcolor white\r\n",
       "skinparam shadowing false\r\n",
       "skinparam wrapWidth 300\r\n",
       "hide circle\r\n",
       "\r\n",
       "package \"DependencyTest\" as E1   {\r\n",
       "package \"System\" as E2   {\r\n",
       "package \"Application Layer\" as E3   {\r\n",
       "}\r\n",
       "package \"Service Layer\" as E4   {\r\n",
       "}\r\n",
       "package \"Data Layer\" as E5   {\r\n",
       "}\r\n",
       "}\r\n",
       "comp usage \"x: DataValue\" as E6  <<(T,blue)attribute>> {\r\n",
       "}\r\n",
       "comp usage \"y: DataValue\" as E7  <<(T,blue)attribute>> {\r\n",
       "}\r\n",
       "comp usage \"z: DataValue\" as E8  <<(T,blue)attribute>> {\r\n",
       "}\r\n",
       "E3 ..>> E4 : <<depend>>\r\n",
       "E4 ..>> E5 : <<depend>>\r\n",
       "E8 ..>> E6 : <<depend>>\r\n",
       "E8 ..>> E7 : <<depend>>\r\n",
       "}\r\n",
       "@enduml\r\n",
       "\n",
       "PlantUML version 1.2020.13(Sat Jun 13 12:26:38 UTC 2020)\n",
       "(EPL source distribution)\n",
       "Java Runtime: OpenJDK Runtime Environment\n",
       "JVM: OpenJDK 64-Bit Server VM\n",
       "Default Encoding: UTF-8\n",
       "Language: en\n",
       "Country: null\n",
       "--></g></svg>"
      ]
     },
     "execution_count": 16,
     "metadata": {},
     "output_type": "execute_result"
    }
   ],
   "source": [
    "%viz --style=\"LR\" --view=\"Default\" \"DependencyTest\""
   ]
  },
  {
   "cell_type": "code",
   "execution_count": 17,
   "id": "competitive-spray",
   "metadata": {
    "execution": {
     "iopub.execute_input": "2021-03-26T09:43:55.338576Z",
     "iopub.status.busy": "2021-03-26T09:43:55.338187Z",
     "iopub.status.idle": "2021-03-26T09:43:55.375177Z",
     "shell.execute_reply": "2021-03-26T09:43:55.375501Z"
    }
   },
   "outputs": [
    {
     "data": {
      "image/svg+xml": [
       "<?xml version=\"1.0\" encoding=\"UTF-8\" standalone=\"no\"?><svg xmlns=\"http://www.w3.org/2000/svg\" xmlns:xlink=\"http://www.w3.org/1999/xlink\" contentScriptType=\"application/ecmascript\" contentStyleType=\"text/css\" height=\"328px\" preserveAspectRatio=\"none\" style=\"width:758px;height:328px;\" version=\"1.1\" viewBox=\"0 0 758 328\" width=\"758px\" zoomAndPan=\"magnify\"><defs/><g><!--MD5=[fbc87193dbaf4d95561dea2c320d4a47]\n",
       "cluster E1--><polygon fill=\"#FFFFFF\" points=\"16,6,156,6,163,28.2969,736,28.2969,736,316,16,316,16,6\" style=\"stroke: #000000; stroke-width: 1.5;\"/><line style=\"stroke: #000000; stroke-width: 1.5;\" x1=\"16\" x2=\"163\" y1=\"28.2969\" y2=\"28.2969\"/><text fill=\"#000000\" font-family=\"sans-serif\" font-size=\"14\" font-weight=\"bold\" lengthAdjust=\"spacingAndGlyphs\" textLength=\"134\" x=\"20\" y=\"20.9951\">DependencyTest</text><!--MD5=[e4f7fae6ed58524ba242bb0b0d3be6b7]\n",
       "cluster E2--><polygon fill=\"#FFFFFF\" points=\"40,49,104,49,111,71.2969,712,71.2969,712,154,40,154,40,49\" style=\"stroke: #000000; stroke-width: 1.5;\"/><line style=\"stroke: #000000; stroke-width: 1.5;\" x1=\"40\" x2=\"111\" y1=\"71.2969\" y2=\"71.2969\"/><text fill=\"#000000\" font-family=\"sans-serif\" font-size=\"14\" font-weight=\"bold\" lengthAdjust=\"spacingAndGlyphs\" textLength=\"58\" x=\"44\" y=\"63.9951\">System</text><!--MD5=[60a26617385b1d2d0262a64233df1f8d]\n",
       "class E6--><rect fill=\"#FFFFFF\" height=\"45.9375\" id=\"E6\" rx=\"10\" ry=\"10\" style=\"stroke: #383838; stroke-width: 1.5;\" width=\"85\" x=\"359.5\" y=\"254\"/><text fill=\"#000000\" font-family=\"sans-serif\" font-size=\"12\" font-style=\"italic\" lengthAdjust=\"spacingAndGlyphs\" textLength=\"69\" x=\"367.5\" y=\"270.1387\">«attribute»</text><text fill=\"#000000\" font-family=\"sans-serif\" font-size=\"12\" lengthAdjust=\"spacingAndGlyphs\" textLength=\"79\" x=\"362.5\" y=\"284.1074\">x: DataValue</text><line style=\"stroke: #383838; stroke-width: 1.5;\" x1=\"360.5\" x2=\"443.5\" y1=\"291.9375\" y2=\"291.9375\"/><!--MD5=[2156ba9850f5573cc1fc38a6a4b2f02b]\n",
       "class E7--><rect fill=\"#FFFFFF\" height=\"45.9375\" id=\"E7\" rx=\"10\" ry=\"10\" style=\"stroke: #383838; stroke-width: 1.5;\" width=\"85\" x=\"359.5\" y=\"173\"/><text fill=\"#000000\" font-family=\"sans-serif\" font-size=\"12\" font-style=\"italic\" lengthAdjust=\"spacingAndGlyphs\" textLength=\"69\" x=\"367.5\" y=\"189.1387\">«attribute»</text><text fill=\"#000000\" font-family=\"sans-serif\" font-size=\"12\" lengthAdjust=\"spacingAndGlyphs\" textLength=\"79\" x=\"362.5\" y=\"203.1074\">y: DataValue</text><line style=\"stroke: #383838; stroke-width: 1.5;\" x1=\"360.5\" x2=\"443.5\" y1=\"210.9375\" y2=\"210.9375\"/><!--MD5=[b9389687b975829384b498ac4b7476b2]\n",
       "class E8--><rect fill=\"#FFFFFF\" height=\"45.9375\" id=\"E8\" rx=\"10\" ry=\"10\" style=\"stroke: #383838; stroke-width: 1.5;\" width=\"84\" x=\"92\" y=\"206\"/><text fill=\"#000000\" font-family=\"sans-serif\" font-size=\"12\" font-style=\"italic\" lengthAdjust=\"spacingAndGlyphs\" textLength=\"69\" x=\"99.5\" y=\"222.1387\">«attribute»</text><text fill=\"#000000\" font-family=\"sans-serif\" font-size=\"12\" lengthAdjust=\"spacingAndGlyphs\" textLength=\"78\" x=\"95\" y=\"236.1074\">z: DataValue</text><line style=\"stroke: #383838; stroke-width: 1.5;\" x1=\"93\" x2=\"175\" y1=\"243.9375\" y2=\"243.9375\"/><polygon fill=\"#FFFFFF\" points=\"56,84.5,198,84.5,205,106.7969,212,106.7969,212,137.0938,56,137.0938,56,84.5\" style=\"stroke: #000000; stroke-width: 1.5;\"/><line style=\"stroke: #000000; stroke-width: 1.5;\" x1=\"56\" x2=\"205\" y1=\"106.7969\" y2=\"106.7969\"/><text fill=\"#000000\" font-family=\"sans-serif\" font-size=\"14\" font-weight=\"bold\" lengthAdjust=\"spacingAndGlyphs\" textLength=\"136\" x=\"60\" y=\"99.4951\">Application Layer</text><polygon fill=\"#FFFFFF\" points=\"338,84.5,452,84.5,459,106.7969,466,106.7969,466,137.0938,338,137.0938,338,84.5\" style=\"stroke: #000000; stroke-width: 1.5;\"/><line style=\"stroke: #000000; stroke-width: 1.5;\" x1=\"338\" x2=\"459\" y1=\"106.7969\" y2=\"106.7969\"/><text fill=\"#000000\" font-family=\"sans-serif\" font-size=\"14\" font-weight=\"bold\" lengthAdjust=\"spacingAndGlyphs\" textLength=\"108\" x=\"342\" y=\"99.4951\">Service Layer</text><polygon fill=\"#FFFFFF\" points=\"592,84.5,682,84.5,689,106.7969,696,106.7969,696,137.0938,592,137.0938,592,84.5\" style=\"stroke: #000000; stroke-width: 1.5;\"/><line style=\"stroke: #000000; stroke-width: 1.5;\" x1=\"592\" x2=\"689\" y1=\"106.7969\" y2=\"106.7969\"/><text fill=\"#000000\" font-family=\"sans-serif\" font-size=\"14\" font-weight=\"bold\" lengthAdjust=\"spacingAndGlyphs\" textLength=\"84\" x=\"596\" y=\"99.4951\">Data Layer</text><!--MD5=[af87c684e3b0d8be13c1a698a818ef1e]\n",
       "link E3 to E4--><path d=\"M212.3,111 C249.37,111 293.5,111 329.76,111 \" fill=\"none\" id=\"E3-&gt;E4\" style=\"stroke: #383838; stroke-width: 1.0; stroke-dasharray: 7.0,7.0;\"/><polygon fill=\"#383838\" points=\"337.84,111,329.84,108,329.84,114,337.84,111\" style=\"stroke: #383838; stroke-width: 1.0;\"/><text fill=\"#000000\" font-family=\"sans-serif\" font-size=\"13\" lengthAdjust=\"spacingAndGlyphs\" textLength=\"64\" x=\"243\" y=\"107.0669\">«depend»</text><!--MD5=[1b7591eae5389033d8d09a9d6721a717]\n",
       "link E4 to E5--><path d=\"M466.06,111 C502.32,111 547.6,111 583.28,111 \" fill=\"none\" id=\"E4-&gt;E5\" style=\"stroke: #383838; stroke-width: 1.0; stroke-dasharray: 7.0,7.0;\"/><polygon fill=\"#383838\" points=\"591.67,111,583.67,108,583.67,114,591.67,111\" style=\"stroke: #383838; stroke-width: 1.0;\"/><text fill=\"#000000\" font-family=\"sans-serif\" font-size=\"13\" lengthAdjust=\"spacingAndGlyphs\" textLength=\"64\" x=\"497\" y=\"107.0669\">«depend»</text><!--MD5=[c5e8897d989ce984f93528998a7150fe]\n",
       "link E8 to E6--><path d=\"M176.27,236.45 C223.41,244.95 300.52,258.87 351.02,267.98 \" fill=\"none\" id=\"E8-&gt;E6\" style=\"stroke: #383838; stroke-width: 1.0; stroke-dasharray: 7.0,7.0;\"/><polygon fill=\"#383838\" points=\"359.19,269.46,351.8543,265.0796,350.7829,270.9832,359.19,269.46\" style=\"stroke: #383838; stroke-width: 1.0;\"/><text fill=\"#000000\" font-family=\"sans-serif\" font-size=\"13\" lengthAdjust=\"spacingAndGlyphs\" textLength=\"64\" x=\"243\" y=\"245.0669\">«depend»</text><!--MD5=[bfa3c8b0d15052fdf50ae9310b491027]\n",
       "link E8 to E7--><path d=\"M176.27,223.88 C223.41,218.03 300.52,208.47 351.02,202.2 \" fill=\"none\" id=\"E8-&gt;E7\" style=\"stroke: #383838; stroke-width: 1.0; stroke-dasharray: 7.0,7.0;\"/><polygon fill=\"#383838\" points=\"359.19,201.19,350.8814,199.1981,351.6204,205.1524,359.19,201.19\" style=\"stroke: #383838; stroke-width: 1.0;\"/><text fill=\"#000000\" font-family=\"sans-serif\" font-size=\"13\" lengthAdjust=\"spacingAndGlyphs\" textLength=\"64\" x=\"243\" y=\"204.0669\">«depend»</text><!--MD5=[b0217dd76ceceada7cbdbc24321f414f]\n",
       "@startuml\r\n",
       "left to right direction\r\n",
       "skinparam monochrome true\r\n",
       "skinparam classbackgroundcolor white\r\n",
       "skinparam shadowing false\r\n",
       "skinparam wrapWidth 300\r\n",
       "hide circle\r\n",
       "\r\n",
       "package \"DependencyTest\" as E1   {\r\n",
       "package \"System\" as E2   {\r\n",
       "package \"Application Layer\" as E3   {\r\n",
       "}\r\n",
       "package \"Service Layer\" as E4   {\r\n",
       "}\r\n",
       "package \"Data Layer\" as E5   {\r\n",
       "}\r\n",
       "}\r\n",
       "comp usage \"x: DataValue\" as E6  <<(T,blue)attribute>> {\r\n",
       "}\r\n",
       "comp usage \"y: DataValue\" as E7  <<(T,blue)attribute>> {\r\n",
       "}\r\n",
       "comp usage \"z: DataValue\" as E8  <<(T,blue)attribute>> {\r\n",
       "}\r\n",
       "E3 ..>> E4 : <<depend>>\r\n",
       "E4 ..>> E5 : <<depend>>\r\n",
       "E8 ..>> E6 : <<depend>>\r\n",
       "E8 ..>> E7 : <<depend>>\r\n",
       "}\r\n",
       "@enduml\r\n",
       "\n",
       "PlantUML version 1.2020.13(Sat Jun 13 12:26:38 UTC 2020)\n",
       "(EPL source distribution)\n",
       "Java Runtime: OpenJDK Runtime Environment\n",
       "JVM: OpenJDK 64-Bit Server VM\n",
       "Default Encoding: UTF-8\n",
       "Language: en\n",
       "Country: null\n",
       "--></g></svg>"
      ]
     },
     "execution_count": 17,
     "metadata": {},
     "output_type": "execute_result"
    }
   ],
   "source": [
    "%viz --style=\"LR\" --view=\"Tree\" \"DependencyTest\""
   ]
  },
  {
   "cell_type": "code",
   "execution_count": 18,
   "id": "tamil-sunday",
   "metadata": {
    "execution": {
     "iopub.execute_input": "2021-03-26T09:43:55.425929Z",
     "iopub.status.busy": "2021-03-26T09:43:55.425535Z",
     "iopub.status.idle": "2021-03-26T09:43:55.427179Z",
     "shell.execute_reply": "2021-03-26T09:43:55.427517Z"
    }
   },
   "outputs": [
    {
     "data": {
      "text/plain": [
       "java.lang.IllegalArgumentException: Invalid View: State View candidates are: Default Tree StateMachine Interconnection Activity Sequence MIXED \n",
       "\tat org.omg.sysml.plantuml.SysML2PlantUMLSvc.setView(SysML2PlantUMLSvc.java:63)\n",
       "\tat org.omg.sysml.interactive.SysMLInteractive.viz(SysMLInteractive.java:286)\n",
       "\tat org.omg.sysml.jupyter.kernel.magic.Viz.viz(Viz.java:47)\n",
       "\tat jdk.internal.reflect.GeneratedMethodAccessor8.invoke(Unknown Source)\n",
       "\tat java.base/jdk.internal.reflect.DelegatingMethodAccessorImpl.invoke(DelegatingMethodAccessorImpl.java:43)\n",
       "\tat java.base/java.lang.reflect.Method.invoke(Method.java:568)\n",
       "\tat io.github.spencerpark.jupyter.kernel.magic.registry.Magics.invoke(Magics.java:89)\n",
       "\tat io.github.spencerpark.jupyter.kernel.magic.registry.Magics.access$000(Magics.java:8)\n",
       "\tat io.github.spencerpark.jupyter.kernel.magic.registry.Magics$LineReflectionMagicFunction.execute(Magics.java:149)\n",
       "\tat io.github.spencerpark.jupyter.kernel.magic.registry.Magics.applyLineMagic(Magics.java:26)\n",
       "\tat org.omg.sysml.jupyter.kernel.SysMLKernel.eval(SysMLKernel.java:76)\n",
       "\tat io.github.spencerpark.jupyter.kernel.BaseKernel.handleExecuteRequest(BaseKernel.java:334)\n",
       "\tat io.github.spencerpark.jupyter.channels.ShellChannel.lambda$bind$0(ShellChannel.java:64)\n",
       "\tat io.github.spencerpark.jupyter.channels.Loop.lambda$new$0(Loop.java:21)\n",
       "\tat io.github.spencerpark.jupyter.channels.Loop.run(Loop.java:78)\n"
      ]
     },
     "execution_count": 18,
     "metadata": {},
     "output_type": "execute_result"
    }
   ],
   "source": [
    "%viz --style=\"LR\" --view=\"State\" \"DependencyTest\""
   ]
  },
  {
   "cell_type": "code",
   "execution_count": 19,
   "id": "textile-shopper",
   "metadata": {
    "execution": {
     "iopub.execute_input": "2021-03-26T09:43:55.479038Z",
     "iopub.status.busy": "2021-03-26T09:43:55.478564Z",
     "iopub.status.idle": "2021-03-26T09:43:55.517224Z",
     "shell.execute_reply": "2021-03-26T09:43:55.517690Z"
    }
   },
   "outputs": [
    {
     "data": {
      "image/svg+xml": [
       "<?xml version=\"1.0\" encoding=\"UTF-8\" standalone=\"no\"?><svg xmlns=\"http://www.w3.org/2000/svg\" xmlns:xlink=\"http://www.w3.org/1999/xlink\" contentScriptType=\"application/ecmascript\" contentStyleType=\"text/css\" height=\"336px\" preserveAspectRatio=\"none\" style=\"width:670px;height:336px;\" version=\"1.1\" viewBox=\"0 0 670 336\" width=\"670px\" zoomAndPan=\"magnify\"><defs/><g><!--MD5=[fbc87193dbaf4d95561dea2c320d4a47]\n",
       "cluster E1--><polygon fill=\"#FFFFFF\" points=\"16,6,156,6,163,28.2969,648,28.2969,648,324,16,324,16,6\" style=\"stroke: #000000; stroke-width: 1.5;\"/><line style=\"stroke: #000000; stroke-width: 1.5;\" x1=\"16\" x2=\"163\" y1=\"28.2969\" y2=\"28.2969\"/><text fill=\"#000000\" font-family=\"sans-serif\" font-size=\"14\" font-weight=\"bold\" lengthAdjust=\"spacingAndGlyphs\" textLength=\"134\" x=\"20\" y=\"20.9951\">DependencyTest</text><!--MD5=[e4f7fae6ed58524ba242bb0b0d3be6b7]\n",
       "cluster E2--><polygon fill=\"#FFFFFF\" points=\"40,49,104,49,111,71.2969,624,71.2969,624,154,40,154,40,49\" style=\"stroke: #000000; stroke-width: 1.5;\"/><line style=\"stroke: #000000; stroke-width: 1.5;\" x1=\"40\" x2=\"111\" y1=\"71.2969\" y2=\"71.2969\"/><text fill=\"#000000\" font-family=\"sans-serif\" font-size=\"14\" font-weight=\"bold\" lengthAdjust=\"spacingAndGlyphs\" textLength=\"58\" x=\"44\" y=\"63.9951\">System</text><polygon fill=\"#FFFFFF\" points=\"56,84.5,198,84.5,205,106.7969,212,106.7969,212,137.0938,56,137.0938,56,84.5\" style=\"stroke: #000000; stroke-width: 1.5;\"/><line style=\"stroke: #000000; stroke-width: 1.5;\" x1=\"56\" x2=\"205\" y1=\"106.7969\" y2=\"106.7969\"/><text fill=\"#000000\" font-family=\"sans-serif\" font-size=\"14\" font-weight=\"bold\" lengthAdjust=\"spacingAndGlyphs\" textLength=\"136\" x=\"60\" y=\"99.4951\">Application Layer</text><polygon fill=\"#FFFFFF\" points=\"294,84.5,408,84.5,415,106.7969,422,106.7969,422,137.0938,294,137.0938,294,84.5\" style=\"stroke: #000000; stroke-width: 1.5;\"/><line style=\"stroke: #000000; stroke-width: 1.5;\" x1=\"294\" x2=\"415\" y1=\"106.7969\" y2=\"106.7969\"/><text fill=\"#000000\" font-family=\"sans-serif\" font-size=\"14\" font-weight=\"bold\" lengthAdjust=\"spacingAndGlyphs\" textLength=\"108\" x=\"298\" y=\"99.4951\">Service Layer</text><polygon fill=\"#FFFFFF\" points=\"504,84.5,594,84.5,601,106.7969,608,106.7969,608,137.0938,504,137.0938,504,84.5\" style=\"stroke: #000000; stroke-width: 1.5;\"/><line style=\"stroke: #000000; stroke-width: 1.5;\" x1=\"504\" x2=\"601\" y1=\"106.7969\" y2=\"106.7969\"/><text fill=\"#000000\" font-family=\"sans-serif\" font-size=\"14\" font-weight=\"bold\" lengthAdjust=\"spacingAndGlyphs\" textLength=\"84\" x=\"508\" y=\"99.4951\">Data Layer</text><g id=\"E1.E6\"><rect fill=\"#FFFFFF\" height=\"50\" rx=\"12.5\" ry=\"12.5\" style=\"stroke: #383838; stroke-width: 1.5;\" width=\"106\" x=\"305\" y=\"258\"/><line style=\"stroke: #383838; stroke-width: 1.5;\" x1=\"305\" x2=\"411\" y1=\"284.2969\" y2=\"284.2969\"/><text fill=\"#000000\" font-family=\"sans-serif\" font-size=\"14\" lengthAdjust=\"spacingAndGlyphs\" textLength=\"86\" x=\"315\" y=\"275.9951\">x: DataValue</text></g><g id=\"E1.E7\"><rect fill=\"#FFFFFF\" height=\"50\" rx=\"12.5\" ry=\"12.5\" style=\"stroke: #383838; stroke-width: 1.5;\" width=\"106\" x=\"305\" y=\"173\"/><line style=\"stroke: #383838; stroke-width: 1.5;\" x1=\"305\" x2=\"411\" y1=\"199.2969\" y2=\"199.2969\"/><text fill=\"#000000\" font-family=\"sans-serif\" font-size=\"14\" lengthAdjust=\"spacingAndGlyphs\" textLength=\"86\" x=\"315\" y=\"190.9951\">y: DataValue</text></g><g id=\"E1.E8\"><rect fill=\"#FFFFFF\" height=\"50\" rx=\"12.5\" ry=\"12.5\" style=\"stroke: #383838; stroke-width: 1.5;\" width=\"107\" x=\"80.5\" y=\"209\"/><line style=\"stroke: #383838; stroke-width: 1.5;\" x1=\"80.5\" x2=\"187.5\" y1=\"235.2969\" y2=\"235.2969\"/><text fill=\"#000000\" font-family=\"sans-serif\" font-size=\"14\" lengthAdjust=\"spacingAndGlyphs\" textLength=\"87\" x=\"90.5\" y=\"226.9951\">z: DataValue</text></g><!--MD5=[af87c684e3b0d8be13c1a698a818ef1e]\n",
       "link E3 to E4--><path d=\"M212.02,111 C235.88,111 262.06,111 285.53,111 \" fill=\"none\" id=\"E3-&gt;E4\" style=\"stroke: #383838; stroke-width: 1.0; stroke-dasharray: 7.0,7.0;\"/><polygon fill=\"#383838\" points=\"293.71,111,285.71,108,285.71,114,293.71,111\" style=\"stroke: #383838; stroke-width: 1.0;\"/><text fill=\"#000000\" font-family=\"sans-serif\" font-size=\"13\" lengthAdjust=\"spacingAndGlyphs\" textLength=\"64\" x=\"221\" y=\"107.0669\">«depend»</text><!--MD5=[1b7591eae5389033d8d09a9d6721a717]\n",
       "link E4 to E5--><path d=\"M422.09,111 C445.72,111 472.46,111 495.72,111 \" fill=\"none\" id=\"E4-&gt;E5\" style=\"stroke: #383838; stroke-width: 1.0; stroke-dasharray: 7.0,7.0;\"/><polygon fill=\"#383838\" points=\"503.8,111,495.8,108,495.8,114,503.8,111\" style=\"stroke: #383838; stroke-width: 1.0;\"/><text fill=\"#000000\" font-family=\"sans-serif\" font-size=\"13\" lengthAdjust=\"spacingAndGlyphs\" textLength=\"64\" x=\"431\" y=\"107.0669\">«depend»</text><!--MD5=[c5e8897d989ce984f93528998a7150fe]\n",
       "link E8 to E6--><path d=\"M187.61,245.61 C220.37,252.84 262.62,262.17 296.73,269.7 \" fill=\"none\" id=\"E8-&gt;E6\" style=\"stroke: #383838; stroke-width: 1.0; stroke-dasharray: 7.0,7.0;\"/><polygon fill=\"#383838\" points=\"304.77,271.47,297.6068,266.8129,296.3109,272.6713,304.77,271.47\" style=\"stroke: #383838; stroke-width: 1.0;\"/><text fill=\"#000000\" font-family=\"sans-serif\" font-size=\"13\" lengthAdjust=\"spacingAndGlyphs\" textLength=\"64\" x=\"221\" y=\"251.0669\">«depend»</text><!--MD5=[bfa3c8b0d15052fdf50ae9310b491027]\n",
       "link E8 to E7--><path d=\"M187.61,225.47 C220.37,220.16 262.62,213.3 296.73,207.77 \" fill=\"none\" id=\"E8-&gt;E7\" style=\"stroke: #383838; stroke-width: 1.0; stroke-dasharray: 7.0,7.0;\"/><polygon fill=\"#383838\" points=\"304.77,206.47,296.3915,204.7964,297.357,210.7183,304.77,206.47\" style=\"stroke: #383838; stroke-width: 1.0;\"/><text fill=\"#000000\" font-family=\"sans-serif\" font-size=\"13\" lengthAdjust=\"spacingAndGlyphs\" textLength=\"64\" x=\"221\" y=\"206.0669\">«depend»</text><!--MD5=[e87f8ef8836a4539e3038147fd84cf12]\n",
       "@startuml\r\n",
       "skinparam ranksep 8\r\n",
       "skinparam rectangle {\r\n",
       " backgroundColor<<block>> LightGreen\r\n",
       "}\r\n",
       "left to right direction\r\n",
       "skinparam monochrome true\r\n",
       "skinparam classbackgroundcolor white\r\n",
       "skinparam shadowing false\r\n",
       "skinparam wrapWidth 300\r\n",
       "hide circle\r\n",
       "\r\n",
       "package \"DependencyTest\" as E1   {\r\n",
       "package \"System\" as E2   {\r\n",
       "package \"Application Layer\" as E3   {\r\n",
       "}\r\n",
       "package \"Service Layer\" as E4   {\r\n",
       "}\r\n",
       "package \"Data Layer\" as E5   {\r\n",
       "}\r\n",
       "}\r\n",
       "rec usage \"x: DataValue\" as E6  <<attribute>> {\r\n",
       "}\r\n",
       "rec usage \"y: DataValue\" as E7  <<attribute>> {\r\n",
       "}\r\n",
       "rec usage \"z: DataValue\" as E8  <<attribute>> {\r\n",
       "}\r\n",
       "E3 ..>> E4 : <<depend>>\r\n",
       "E4 ..>> E5 : <<depend>>\r\n",
       "E8 ..>> E6 : <<depend>>\r\n",
       "E8 ..>> E7 : <<depend>>\r\n",
       "}\r\n",
       "@enduml\r\n",
       "\n",
       "PlantUML version 1.2020.13(Sat Jun 13 12:26:38 UTC 2020)\n",
       "(EPL source distribution)\n",
       "Java Runtime: OpenJDK Runtime Environment\n",
       "JVM: OpenJDK 64-Bit Server VM\n",
       "Default Encoding: UTF-8\n",
       "Language: en\n",
       "Country: null\n",
       "--></g></svg>"
      ]
     },
     "execution_count": 19,
     "metadata": {},
     "output_type": "execute_result"
    }
   ],
   "source": [
    "%viz --style=\"LR\" --view=\"Interconnection\" \"DependencyTest\""
   ]
  },
  {
   "cell_type": "code",
   "execution_count": 20,
   "id": "prepared-anchor",
   "metadata": {
    "execution": {
     "iopub.execute_input": "2021-03-26T09:43:55.571926Z",
     "iopub.status.busy": "2021-03-26T09:43:55.571255Z",
     "iopub.status.idle": "2021-03-26T09:43:55.575948Z",
     "shell.execute_reply": "2021-03-26T09:43:55.574921Z"
    }
   },
   "outputs": [
    {
     "data": {
      "text/plain": [
       "java.lang.IllegalArgumentException: Invalid View: Action View candidates are: Default Tree StateMachine Interconnection Activity Sequence MIXED \n",
       "\tat org.omg.sysml.plantuml.SysML2PlantUMLSvc.setView(SysML2PlantUMLSvc.java:63)\n",
       "\tat org.omg.sysml.interactive.SysMLInteractive.viz(SysMLInteractive.java:286)\n",
       "\tat org.omg.sysml.jupyter.kernel.magic.Viz.viz(Viz.java:47)\n",
       "\tat jdk.internal.reflect.GeneratedMethodAccessor8.invoke(Unknown Source)\n",
       "\tat java.base/jdk.internal.reflect.DelegatingMethodAccessorImpl.invoke(DelegatingMethodAccessorImpl.java:43)\n",
       "\tat java.base/java.lang.reflect.Method.invoke(Method.java:568)\n",
       "\tat io.github.spencerpark.jupyter.kernel.magic.registry.Magics.invoke(Magics.java:89)\n",
       "\tat io.github.spencerpark.jupyter.kernel.magic.registry.Magics.access$000(Magics.java:8)\n",
       "\tat io.github.spencerpark.jupyter.kernel.magic.registry.Magics$LineReflectionMagicFunction.execute(Magics.java:149)\n",
       "\tat io.github.spencerpark.jupyter.kernel.magic.registry.Magics.applyLineMagic(Magics.java:26)\n",
       "\tat org.omg.sysml.jupyter.kernel.SysMLKernel.eval(SysMLKernel.java:76)\n",
       "\tat io.github.spencerpark.jupyter.kernel.BaseKernel.handleExecuteRequest(BaseKernel.java:334)\n",
       "\tat io.github.spencerpark.jupyter.channels.ShellChannel.lambda$bind$0(ShellChannel.java:64)\n",
       "\tat io.github.spencerpark.jupyter.channels.Loop.lambda$new$0(Loop.java:21)\n",
       "\tat io.github.spencerpark.jupyter.channels.Loop.run(Loop.java:78)\n"
      ]
     },
     "execution_count": 20,
     "metadata": {},
     "output_type": "execute_result"
    }
   ],
   "source": [
    "%viz --style=\"LR\" --view=\"Action\" \"DependencyTest\""
   ]
  },
  {
   "cell_type": "code",
   "execution_count": 21,
   "id": "stuck-desert",
   "metadata": {
    "execution": {
     "iopub.execute_input": "2021-03-26T09:43:55.633005Z",
     "iopub.status.busy": "2021-03-26T09:43:55.631749Z",
     "iopub.status.idle": "2021-03-26T09:43:55.673271Z",
     "shell.execute_reply": "2021-03-26T09:43:55.672392Z"
    }
   },
   "outputs": [
    {
     "data": {
      "image/svg+xml": [
       "<?xml version=\"1.0\" encoding=\"UTF-8\" standalone=\"no\"?><svg xmlns=\"http://www.w3.org/2000/svg\" xmlns:xlink=\"http://www.w3.org/1999/xlink\" contentScriptType=\"application/ecmascript\" contentStyleType=\"text/css\" height=\"328px\" preserveAspectRatio=\"none\" style=\"width:758px;height:328px;\" version=\"1.1\" viewBox=\"0 0 758 328\" width=\"758px\" zoomAndPan=\"magnify\"><defs/><g><!--MD5=[fbc87193dbaf4d95561dea2c320d4a47]\n",
       "cluster E1--><polygon fill=\"#FFFFFF\" points=\"16,6,156,6,163,28.2969,736,28.2969,736,316,16,316,16,6\" style=\"stroke: #000000; stroke-width: 1.5;\"/><line style=\"stroke: #000000; stroke-width: 1.5;\" x1=\"16\" x2=\"163\" y1=\"28.2969\" y2=\"28.2969\"/><text fill=\"#000000\" font-family=\"sans-serif\" font-size=\"14\" font-weight=\"bold\" lengthAdjust=\"spacingAndGlyphs\" textLength=\"134\" x=\"20\" y=\"20.9951\">DependencyTest</text><!--MD5=[e4f7fae6ed58524ba242bb0b0d3be6b7]\n",
       "cluster E2--><polygon fill=\"#FFFFFF\" points=\"40,49,104,49,111,71.2969,712,71.2969,712,154,40,154,40,49\" style=\"stroke: #000000; stroke-width: 1.5;\"/><line style=\"stroke: #000000; stroke-width: 1.5;\" x1=\"40\" x2=\"111\" y1=\"71.2969\" y2=\"71.2969\"/><text fill=\"#000000\" font-family=\"sans-serif\" font-size=\"14\" font-weight=\"bold\" lengthAdjust=\"spacingAndGlyphs\" textLength=\"58\" x=\"44\" y=\"63.9951\">System</text><!--MD5=[60a26617385b1d2d0262a64233df1f8d]\n",
       "class E6--><rect fill=\"#FFFFFF\" height=\"45.9375\" id=\"E6\" rx=\"10\" ry=\"10\" style=\"stroke: #383838; stroke-width: 1.5;\" width=\"85\" x=\"359.5\" y=\"254\"/><text fill=\"#000000\" font-family=\"sans-serif\" font-size=\"12\" font-style=\"italic\" lengthAdjust=\"spacingAndGlyphs\" textLength=\"69\" x=\"367.5\" y=\"270.1387\">«attribute»</text><text fill=\"#000000\" font-family=\"sans-serif\" font-size=\"12\" lengthAdjust=\"spacingAndGlyphs\" textLength=\"79\" x=\"362.5\" y=\"284.1074\">x: DataValue</text><line style=\"stroke: #383838; stroke-width: 1.5;\" x1=\"360.5\" x2=\"443.5\" y1=\"291.9375\" y2=\"291.9375\"/><!--MD5=[2156ba9850f5573cc1fc38a6a4b2f02b]\n",
       "class E7--><rect fill=\"#FFFFFF\" height=\"45.9375\" id=\"E7\" rx=\"10\" ry=\"10\" style=\"stroke: #383838; stroke-width: 1.5;\" width=\"85\" x=\"359.5\" y=\"173\"/><text fill=\"#000000\" font-family=\"sans-serif\" font-size=\"12\" font-style=\"italic\" lengthAdjust=\"spacingAndGlyphs\" textLength=\"69\" x=\"367.5\" y=\"189.1387\">«attribute»</text><text fill=\"#000000\" font-family=\"sans-serif\" font-size=\"12\" lengthAdjust=\"spacingAndGlyphs\" textLength=\"79\" x=\"362.5\" y=\"203.1074\">y: DataValue</text><line style=\"stroke: #383838; stroke-width: 1.5;\" x1=\"360.5\" x2=\"443.5\" y1=\"210.9375\" y2=\"210.9375\"/><!--MD5=[b9389687b975829384b498ac4b7476b2]\n",
       "class E8--><rect fill=\"#FFFFFF\" height=\"45.9375\" id=\"E8\" rx=\"10\" ry=\"10\" style=\"stroke: #383838; stroke-width: 1.5;\" width=\"84\" x=\"92\" y=\"206\"/><text fill=\"#000000\" font-family=\"sans-serif\" font-size=\"12\" font-style=\"italic\" lengthAdjust=\"spacingAndGlyphs\" textLength=\"69\" x=\"99.5\" y=\"222.1387\">«attribute»</text><text fill=\"#000000\" font-family=\"sans-serif\" font-size=\"12\" lengthAdjust=\"spacingAndGlyphs\" textLength=\"78\" x=\"95\" y=\"236.1074\">z: DataValue</text><line style=\"stroke: #383838; stroke-width: 1.5;\" x1=\"93\" x2=\"175\" y1=\"243.9375\" y2=\"243.9375\"/><polygon fill=\"#FFFFFF\" points=\"56,84.5,198,84.5,205,106.7969,212,106.7969,212,137.0938,56,137.0938,56,84.5\" style=\"stroke: #000000; stroke-width: 1.5;\"/><line style=\"stroke: #000000; stroke-width: 1.5;\" x1=\"56\" x2=\"205\" y1=\"106.7969\" y2=\"106.7969\"/><text fill=\"#000000\" font-family=\"sans-serif\" font-size=\"14\" font-weight=\"bold\" lengthAdjust=\"spacingAndGlyphs\" textLength=\"136\" x=\"60\" y=\"99.4951\">Application Layer</text><polygon fill=\"#FFFFFF\" points=\"338,84.5,452,84.5,459,106.7969,466,106.7969,466,137.0938,338,137.0938,338,84.5\" style=\"stroke: #000000; stroke-width: 1.5;\"/><line style=\"stroke: #000000; stroke-width: 1.5;\" x1=\"338\" x2=\"459\" y1=\"106.7969\" y2=\"106.7969\"/><text fill=\"#000000\" font-family=\"sans-serif\" font-size=\"14\" font-weight=\"bold\" lengthAdjust=\"spacingAndGlyphs\" textLength=\"108\" x=\"342\" y=\"99.4951\">Service Layer</text><polygon fill=\"#FFFFFF\" points=\"592,84.5,682,84.5,689,106.7969,696,106.7969,696,137.0938,592,137.0938,592,84.5\" style=\"stroke: #000000; stroke-width: 1.5;\"/><line style=\"stroke: #000000; stroke-width: 1.5;\" x1=\"592\" x2=\"689\" y1=\"106.7969\" y2=\"106.7969\"/><text fill=\"#000000\" font-family=\"sans-serif\" font-size=\"14\" font-weight=\"bold\" lengthAdjust=\"spacingAndGlyphs\" textLength=\"84\" x=\"596\" y=\"99.4951\">Data Layer</text><!--MD5=[af87c684e3b0d8be13c1a698a818ef1e]\n",
       "link E3 to E4--><path d=\"M212.3,111 C249.37,111 293.5,111 329.76,111 \" fill=\"none\" id=\"E3-&gt;E4\" style=\"stroke: #383838; stroke-width: 1.0; stroke-dasharray: 7.0,7.0;\"/><polygon fill=\"#383838\" points=\"337.84,111,329.84,108,329.84,114,337.84,111\" style=\"stroke: #383838; stroke-width: 1.0;\"/><text fill=\"#000000\" font-family=\"sans-serif\" font-size=\"13\" lengthAdjust=\"spacingAndGlyphs\" textLength=\"64\" x=\"243\" y=\"107.0669\">«depend»</text><!--MD5=[1b7591eae5389033d8d09a9d6721a717]\n",
       "link E4 to E5--><path d=\"M466.06,111 C502.32,111 547.6,111 583.28,111 \" fill=\"none\" id=\"E4-&gt;E5\" style=\"stroke: #383838; stroke-width: 1.0; stroke-dasharray: 7.0,7.0;\"/><polygon fill=\"#383838\" points=\"591.67,111,583.67,108,583.67,114,591.67,111\" style=\"stroke: #383838; stroke-width: 1.0;\"/><text fill=\"#000000\" font-family=\"sans-serif\" font-size=\"13\" lengthAdjust=\"spacingAndGlyphs\" textLength=\"64\" x=\"497\" y=\"107.0669\">«depend»</text><!--MD5=[c5e8897d989ce984f93528998a7150fe]\n",
       "link E8 to E6--><path d=\"M176.27,236.45 C223.41,244.95 300.52,258.87 351.02,267.98 \" fill=\"none\" id=\"E8-&gt;E6\" style=\"stroke: #383838; stroke-width: 1.0; stroke-dasharray: 7.0,7.0;\"/><polygon fill=\"#383838\" points=\"359.19,269.46,351.8543,265.0796,350.7829,270.9832,359.19,269.46\" style=\"stroke: #383838; stroke-width: 1.0;\"/><text fill=\"#000000\" font-family=\"sans-serif\" font-size=\"13\" lengthAdjust=\"spacingAndGlyphs\" textLength=\"64\" x=\"243\" y=\"245.0669\">«depend»</text><!--MD5=[bfa3c8b0d15052fdf50ae9310b491027]\n",
       "link E8 to E7--><path d=\"M176.27,223.88 C223.41,218.03 300.52,208.47 351.02,202.2 \" fill=\"none\" id=\"E8-&gt;E7\" style=\"stroke: #383838; stroke-width: 1.0; stroke-dasharray: 7.0,7.0;\"/><polygon fill=\"#383838\" points=\"359.19,201.19,350.8814,199.1981,351.6204,205.1524,359.19,201.19\" style=\"stroke: #383838; stroke-width: 1.0;\"/><text fill=\"#000000\" font-family=\"sans-serif\" font-size=\"13\" lengthAdjust=\"spacingAndGlyphs\" textLength=\"64\" x=\"243\" y=\"204.0669\">«depend»</text><!--MD5=[b0217dd76ceceada7cbdbc24321f414f]\n",
       "@startuml\r\n",
       "left to right direction\r\n",
       "skinparam monochrome true\r\n",
       "skinparam classbackgroundcolor white\r\n",
       "skinparam shadowing false\r\n",
       "skinparam wrapWidth 300\r\n",
       "hide circle\r\n",
       "\r\n",
       "package \"DependencyTest\" as E1   {\r\n",
       "package \"System\" as E2   {\r\n",
       "package \"Application Layer\" as E3   {\r\n",
       "}\r\n",
       "package \"Service Layer\" as E4   {\r\n",
       "}\r\n",
       "package \"Data Layer\" as E5   {\r\n",
       "}\r\n",
       "}\r\n",
       "comp usage \"x: DataValue\" as E6  <<(T,blue)attribute>> {\r\n",
       "}\r\n",
       "comp usage \"y: DataValue\" as E7  <<(T,blue)attribute>> {\r\n",
       "}\r\n",
       "comp usage \"z: DataValue\" as E8  <<(T,blue)attribute>> {\r\n",
       "}\r\n",
       "E3 ..>> E4 : <<depend>>\r\n",
       "E4 ..>> E5 : <<depend>>\r\n",
       "E8 ..>> E6 : <<depend>>\r\n",
       "E8 ..>> E7 : <<depend>>\r\n",
       "}\r\n",
       "@enduml\r\n",
       "\n",
       "PlantUML version 1.2020.13(Sat Jun 13 12:26:38 UTC 2020)\n",
       "(EPL source distribution)\n",
       "Java Runtime: OpenJDK Runtime Environment\n",
       "JVM: OpenJDK 64-Bit Server VM\n",
       "Default Encoding: UTF-8\n",
       "Language: en\n",
       "Country: null\n",
       "--></g></svg>"
      ]
     },
     "execution_count": 21,
     "metadata": {},
     "output_type": "execute_result"
    }
   ],
   "source": [
    "%viz --style=\"LR\" --view=\"Sequence\" \"DependencyTest\""
   ]
  },
  {
   "cell_type": "code",
   "execution_count": 22,
   "id": "biblical-factory",
   "metadata": {
    "execution": {
     "iopub.execute_input": "2021-03-26T09:43:55.729083Z",
     "iopub.status.busy": "2021-03-26T09:43:55.728670Z",
     "iopub.status.idle": "2021-03-26T09:43:55.773168Z",
     "shell.execute_reply": "2021-03-26T09:43:55.772769Z"
    }
   },
   "outputs": [
    {
     "data": {
      "image/svg+xml": [
       "<?xml version=\"1.0\" encoding=\"UTF-8\" standalone=\"no\"?><svg xmlns=\"http://www.w3.org/2000/svg\" xmlns:xlink=\"http://www.w3.org/1999/xlink\" contentScriptType=\"application/ecmascript\" contentStyleType=\"text/css\" height=\"328px\" preserveAspectRatio=\"none\" style=\"width:758px;height:328px;\" version=\"1.1\" viewBox=\"0 0 758 328\" width=\"758px\" zoomAndPan=\"magnify\"><defs/><g><!--MD5=[fbc87193dbaf4d95561dea2c320d4a47]\n",
       "cluster E1--><polygon fill=\"#FFFFFF\" points=\"16,6,156,6,163,28.2969,736,28.2969,736,316,16,316,16,6\" style=\"stroke: #000000; stroke-width: 1.5;\"/><line style=\"stroke: #000000; stroke-width: 1.5;\" x1=\"16\" x2=\"163\" y1=\"28.2969\" y2=\"28.2969\"/><text fill=\"#000000\" font-family=\"sans-serif\" font-size=\"14\" font-weight=\"bold\" lengthAdjust=\"spacingAndGlyphs\" textLength=\"134\" x=\"20\" y=\"20.9951\">DependencyTest</text><!--MD5=[e4f7fae6ed58524ba242bb0b0d3be6b7]\n",
       "cluster E2--><polygon fill=\"#FFFFFF\" points=\"40,49,104,49,111,71.2969,712,71.2969,712,154,40,154,40,49\" style=\"stroke: #000000; stroke-width: 1.5;\"/><line style=\"stroke: #000000; stroke-width: 1.5;\" x1=\"40\" x2=\"111\" y1=\"71.2969\" y2=\"71.2969\"/><text fill=\"#000000\" font-family=\"sans-serif\" font-size=\"14\" font-weight=\"bold\" lengthAdjust=\"spacingAndGlyphs\" textLength=\"58\" x=\"44\" y=\"63.9951\">System</text><!--MD5=[60a26617385b1d2d0262a64233df1f8d]\n",
       "class E6--><rect fill=\"#FFFFFF\" height=\"45.9375\" id=\"E6\" rx=\"10\" ry=\"10\" style=\"stroke: #383838; stroke-width: 1.5;\" width=\"85\" x=\"359.5\" y=\"254\"/><text fill=\"#000000\" font-family=\"sans-serif\" font-size=\"12\" font-style=\"italic\" lengthAdjust=\"spacingAndGlyphs\" textLength=\"69\" x=\"367.5\" y=\"270.1387\">«attribute»</text><text fill=\"#000000\" font-family=\"sans-serif\" font-size=\"12\" lengthAdjust=\"spacingAndGlyphs\" textLength=\"79\" x=\"362.5\" y=\"284.1074\">x: DataValue</text><line style=\"stroke: #383838; stroke-width: 1.5;\" x1=\"360.5\" x2=\"443.5\" y1=\"291.9375\" y2=\"291.9375\"/><!--MD5=[2156ba9850f5573cc1fc38a6a4b2f02b]\n",
       "class E7--><rect fill=\"#FFFFFF\" height=\"45.9375\" id=\"E7\" rx=\"10\" ry=\"10\" style=\"stroke: #383838; stroke-width: 1.5;\" width=\"85\" x=\"359.5\" y=\"173\"/><text fill=\"#000000\" font-family=\"sans-serif\" font-size=\"12\" font-style=\"italic\" lengthAdjust=\"spacingAndGlyphs\" textLength=\"69\" x=\"367.5\" y=\"189.1387\">«attribute»</text><text fill=\"#000000\" font-family=\"sans-serif\" font-size=\"12\" lengthAdjust=\"spacingAndGlyphs\" textLength=\"79\" x=\"362.5\" y=\"203.1074\">y: DataValue</text><line style=\"stroke: #383838; stroke-width: 1.5;\" x1=\"360.5\" x2=\"443.5\" y1=\"210.9375\" y2=\"210.9375\"/><!--MD5=[b9389687b975829384b498ac4b7476b2]\n",
       "class E8--><rect fill=\"#FFFFFF\" height=\"45.9375\" id=\"E8\" rx=\"10\" ry=\"10\" style=\"stroke: #383838; stroke-width: 1.5;\" width=\"84\" x=\"92\" y=\"206\"/><text fill=\"#000000\" font-family=\"sans-serif\" font-size=\"12\" font-style=\"italic\" lengthAdjust=\"spacingAndGlyphs\" textLength=\"69\" x=\"99.5\" y=\"222.1387\">«attribute»</text><text fill=\"#000000\" font-family=\"sans-serif\" font-size=\"12\" lengthAdjust=\"spacingAndGlyphs\" textLength=\"78\" x=\"95\" y=\"236.1074\">z: DataValue</text><line style=\"stroke: #383838; stroke-width: 1.5;\" x1=\"93\" x2=\"175\" y1=\"243.9375\" y2=\"243.9375\"/><polygon fill=\"#FFFFFF\" points=\"56,84.5,198,84.5,205,106.7969,212,106.7969,212,137.0938,56,137.0938,56,84.5\" style=\"stroke: #000000; stroke-width: 1.5;\"/><line style=\"stroke: #000000; stroke-width: 1.5;\" x1=\"56\" x2=\"205\" y1=\"106.7969\" y2=\"106.7969\"/><text fill=\"#000000\" font-family=\"sans-serif\" font-size=\"14\" font-weight=\"bold\" lengthAdjust=\"spacingAndGlyphs\" textLength=\"136\" x=\"60\" y=\"99.4951\">Application Layer</text><polygon fill=\"#FFFFFF\" points=\"338,84.5,452,84.5,459,106.7969,466,106.7969,466,137.0938,338,137.0938,338,84.5\" style=\"stroke: #000000; stroke-width: 1.5;\"/><line style=\"stroke: #000000; stroke-width: 1.5;\" x1=\"338\" x2=\"459\" y1=\"106.7969\" y2=\"106.7969\"/><text fill=\"#000000\" font-family=\"sans-serif\" font-size=\"14\" font-weight=\"bold\" lengthAdjust=\"spacingAndGlyphs\" textLength=\"108\" x=\"342\" y=\"99.4951\">Service Layer</text><polygon fill=\"#FFFFFF\" points=\"592,84.5,682,84.5,689,106.7969,696,106.7969,696,137.0938,592,137.0938,592,84.5\" style=\"stroke: #000000; stroke-width: 1.5;\"/><line style=\"stroke: #000000; stroke-width: 1.5;\" x1=\"592\" x2=\"689\" y1=\"106.7969\" y2=\"106.7969\"/><text fill=\"#000000\" font-family=\"sans-serif\" font-size=\"14\" font-weight=\"bold\" lengthAdjust=\"spacingAndGlyphs\" textLength=\"84\" x=\"596\" y=\"99.4951\">Data Layer</text><!--MD5=[af87c684e3b0d8be13c1a698a818ef1e]\n",
       "link E3 to E4--><path d=\"M212.3,111 C249.37,111 293.5,111 329.76,111 \" fill=\"none\" id=\"E3-&gt;E4\" style=\"stroke: #383838; stroke-width: 1.0; stroke-dasharray: 7.0,7.0;\"/><polygon fill=\"#383838\" points=\"337.84,111,329.84,108,329.84,114,337.84,111\" style=\"stroke: #383838; stroke-width: 1.0;\"/><text fill=\"#000000\" font-family=\"sans-serif\" font-size=\"13\" lengthAdjust=\"spacingAndGlyphs\" textLength=\"64\" x=\"243\" y=\"107.0669\">«depend»</text><!--MD5=[1b7591eae5389033d8d09a9d6721a717]\n",
       "link E4 to E5--><path d=\"M466.06,111 C502.32,111 547.6,111 583.28,111 \" fill=\"none\" id=\"E4-&gt;E5\" style=\"stroke: #383838; stroke-width: 1.0; stroke-dasharray: 7.0,7.0;\"/><polygon fill=\"#383838\" points=\"591.67,111,583.67,108,583.67,114,591.67,111\" style=\"stroke: #383838; stroke-width: 1.0;\"/><text fill=\"#000000\" font-family=\"sans-serif\" font-size=\"13\" lengthAdjust=\"spacingAndGlyphs\" textLength=\"64\" x=\"497\" y=\"107.0669\">«depend»</text><!--MD5=[c5e8897d989ce984f93528998a7150fe]\n",
       "link E8 to E6--><path d=\"M176.27,236.45 C223.41,244.95 300.52,258.87 351.02,267.98 \" fill=\"none\" id=\"E8-&gt;E6\" style=\"stroke: #383838; stroke-width: 1.0; stroke-dasharray: 7.0,7.0;\"/><polygon fill=\"#383838\" points=\"359.19,269.46,351.8543,265.0796,350.7829,270.9832,359.19,269.46\" style=\"stroke: #383838; stroke-width: 1.0;\"/><text fill=\"#000000\" font-family=\"sans-serif\" font-size=\"13\" lengthAdjust=\"spacingAndGlyphs\" textLength=\"64\" x=\"243\" y=\"245.0669\">«depend»</text><!--MD5=[bfa3c8b0d15052fdf50ae9310b491027]\n",
       "link E8 to E7--><path d=\"M176.27,223.88 C223.41,218.03 300.52,208.47 351.02,202.2 \" fill=\"none\" id=\"E8-&gt;E7\" style=\"stroke: #383838; stroke-width: 1.0; stroke-dasharray: 7.0,7.0;\"/><polygon fill=\"#383838\" points=\"359.19,201.19,350.8814,199.1981,351.6204,205.1524,359.19,201.19\" style=\"stroke: #383838; stroke-width: 1.0;\"/><text fill=\"#000000\" font-family=\"sans-serif\" font-size=\"13\" lengthAdjust=\"spacingAndGlyphs\" textLength=\"64\" x=\"243\" y=\"204.0669\">«depend»</text><!--MD5=[b0217dd76ceceada7cbdbc24321f414f]\n",
       "@startuml\r\n",
       "left to right direction\r\n",
       "skinparam monochrome true\r\n",
       "skinparam classbackgroundcolor white\r\n",
       "skinparam shadowing false\r\n",
       "skinparam wrapWidth 300\r\n",
       "hide circle\r\n",
       "\r\n",
       "package \"DependencyTest\" as E1   {\r\n",
       "package \"System\" as E2   {\r\n",
       "package \"Application Layer\" as E3   {\r\n",
       "}\r\n",
       "package \"Service Layer\" as E4   {\r\n",
       "}\r\n",
       "package \"Data Layer\" as E5   {\r\n",
       "}\r\n",
       "}\r\n",
       "comp usage \"x: DataValue\" as E6  <<(T,blue)attribute>> {\r\n",
       "}\r\n",
       "comp usage \"y: DataValue\" as E7  <<(T,blue)attribute>> {\r\n",
       "}\r\n",
       "comp usage \"z: DataValue\" as E8  <<(T,blue)attribute>> {\r\n",
       "}\r\n",
       "E3 ..>> E4 : <<depend>>\r\n",
       "E4 ..>> E5 : <<depend>>\r\n",
       "E8 ..>> E6 : <<depend>>\r\n",
       "E8 ..>> E7 : <<depend>>\r\n",
       "}\r\n",
       "@enduml\r\n",
       "\n",
       "PlantUML version 1.2020.13(Sat Jun 13 12:26:38 UTC 2020)\n",
       "(EPL source distribution)\n",
       "Java Runtime: OpenJDK Runtime Environment\n",
       "JVM: OpenJDK 64-Bit Server VM\n",
       "Default Encoding: UTF-8\n",
       "Language: en\n",
       "Country: null\n",
       "--></g></svg>"
      ]
     },
     "execution_count": 22,
     "metadata": {},
     "output_type": "execute_result"
    }
   ],
   "source": [
    "%viz --style=\"LR\" --view=\"MIXED\" \"DependencyTest\""
   ]
  },
  {
   "cell_type": "code",
   "execution_count": 23,
   "id": "animal-acquisition",
   "metadata": {
    "execution": {
     "iopub.execute_input": "2021-03-26T09:43:55.825319Z",
     "iopub.status.busy": "2021-03-26T09:43:55.824762Z",
     "iopub.status.idle": "2021-03-26T09:43:55.875806Z",
     "shell.execute_reply": "2021-03-26T09:43:55.873549Z"
    }
   },
   "outputs": [
    {
     "data": {
      "image/svg+xml": [
       "<?xml version=\"1.0\" encoding=\"UTF-8\" standalone=\"no\"?><svg xmlns=\"http://www.w3.org/2000/svg\" xmlns:xlink=\"http://www.w3.org/1999/xlink\" contentScriptType=\"application/ecmascript\" contentStyleType=\"text/css\" height=\"449px\" preserveAspectRatio=\"none\" style=\"width:489px;height:449px;\" version=\"1.1\" viewBox=\"0 0 489 449\" width=\"489px\" zoomAndPan=\"magnify\"><defs><filter height=\"300%\" id=\"f1iz1rgvpmemio\" width=\"300%\" x=\"-1\" y=\"-1\"><feGaussianBlur result=\"blurOut\" stdDeviation=\"2.0\"/><feColorMatrix in=\"blurOut\" result=\"blurOut2\" type=\"matrix\" values=\"0 0 0 0 0 0 0 0 0 0 0 0 0 0 0 0 0 0 .4 0\"/><feOffset dx=\"4.0\" dy=\"4.0\" in=\"blurOut2\" result=\"blurOut3\"/><feBlend in=\"SourceGraphic\" in2=\"blurOut3\" mode=\"normal\"/></filter></defs><g><!--MD5=[fbc87193dbaf4d95561dea2c320d4a47]\n",
       "cluster E1--><polygon fill=\"#FFFFFF\" filter=\"url(#f1iz1rgvpmemio)\" points=\"16,6,156,6,163,28.2969,467,28.2969,467,437,16,437,16,6\" style=\"stroke: #000000; stroke-width: 1.5;\"/><line style=\"stroke: #000000; stroke-width: 1.5;\" x1=\"16\" x2=\"163\" y1=\"28.2969\" y2=\"28.2969\"/><text fill=\"#000000\" font-family=\"sans-serif\" font-size=\"14\" font-weight=\"bold\" lengthAdjust=\"spacingAndGlyphs\" textLength=\"134\" x=\"20\" y=\"20.9951\">DependencyTest</text><!--MD5=[e4f7fae6ed58524ba242bb0b0d3be6b7]\n",
       "cluster E2--><polygon fill=\"#FFFFFF\" filter=\"url(#f1iz1rgvpmemio)\" points=\"255,49,319,49,326,71.2969,443,71.2969,443,413,255,413,255,49\" style=\"stroke: #000000; stroke-width: 1.5;\"/><line style=\"stroke: #000000; stroke-width: 1.5;\" x1=\"255\" x2=\"326\" y1=\"71.2969\" y2=\"71.2969\"/><text fill=\"#000000\" font-family=\"sans-serif\" font-size=\"14\" font-weight=\"bold\" lengthAdjust=\"spacingAndGlyphs\" textLength=\"58\" x=\"259\" y=\"63.9951\">System</text><!--MD5=[60a26617385b1d2d0262a64233df1f8d]\n",
       "class E6--><rect fill=\"#FEFECE\" filter=\"url(#f1iz1rgvpmemio)\" height=\"45.9375\" id=\"E6\" rx=\"10\" ry=\"10\" style=\"stroke: #A80036; stroke-width: 1.5;\" width=\"85\" x=\"32.5\" y=\"217.5\"/><text fill=\"#000000\" font-family=\"sans-serif\" font-size=\"12\" font-style=\"italic\" lengthAdjust=\"spacingAndGlyphs\" textLength=\"69\" x=\"40.5\" y=\"233.6387\">«attribute»</text><text fill=\"#000000\" font-family=\"sans-serif\" font-size=\"12\" lengthAdjust=\"spacingAndGlyphs\" textLength=\"79\" x=\"35.5\" y=\"247.6074\">x: DataValue</text><line style=\"stroke: #A80036; stroke-width: 1.5;\" x1=\"33.5\" x2=\"116.5\" y1=\"255.4375\" y2=\"255.4375\"/><!--MD5=[2156ba9850f5573cc1fc38a6a4b2f02b]\n",
       "class E7--><rect fill=\"#FEFECE\" filter=\"url(#f1iz1rgvpmemio)\" height=\"45.9375\" id=\"E7\" rx=\"10\" ry=\"10\" style=\"stroke: #A80036; stroke-width: 1.5;\" width=\"85\" x=\"152.5\" y=\"217.5\"/><text fill=\"#000000\" font-family=\"sans-serif\" font-size=\"12\" font-style=\"italic\" lengthAdjust=\"spacingAndGlyphs\" textLength=\"69\" x=\"160.5\" y=\"233.6387\">«attribute»</text><text fill=\"#000000\" font-family=\"sans-serif\" font-size=\"12\" lengthAdjust=\"spacingAndGlyphs\" textLength=\"79\" x=\"155.5\" y=\"247.6074\">y: DataValue</text><line style=\"stroke: #A80036; stroke-width: 1.5;\" x1=\"153.5\" x2=\"236.5\" y1=\"255.4375\" y2=\"255.4375\"/><!--MD5=[b9389687b975829384b498ac4b7476b2]\n",
       "class E8--><rect fill=\"#FEFECE\" filter=\"url(#f1iz1rgvpmemio)\" height=\"45.9375\" id=\"E8\" rx=\"10\" ry=\"10\" style=\"stroke: #A80036; stroke-width: 1.5;\" width=\"84\" x=\"81\" y=\"87.5\"/><text fill=\"#000000\" font-family=\"sans-serif\" font-size=\"12\" font-style=\"italic\" lengthAdjust=\"spacingAndGlyphs\" textLength=\"69\" x=\"88.5\" y=\"103.6387\">«attribute»</text><text fill=\"#000000\" font-family=\"sans-serif\" font-size=\"12\" lengthAdjust=\"spacingAndGlyphs\" textLength=\"78\" x=\"84\" y=\"117.6074\">z: DataValue</text><line style=\"stroke: #A80036; stroke-width: 1.5;\" x1=\"82\" x2=\"164\" y1=\"125.4375\" y2=\"125.4375\"/><polygon fill=\"#FFFFFF\" filter=\"url(#f1iz1rgvpmemio)\" points=\"271,84,413,84,420,106.2969,427,106.2969,427,136.5938,271,136.5938,271,84\" style=\"stroke: #000000; stroke-width: 1.5;\"/><line style=\"stroke: #000000; stroke-width: 1.5;\" x1=\"271\" x2=\"420\" y1=\"106.2969\" y2=\"106.2969\"/><text fill=\"#000000\" font-family=\"sans-serif\" font-size=\"14\" font-weight=\"bold\" lengthAdjust=\"spacingAndGlyphs\" textLength=\"136\" x=\"275\" y=\"98.9951\">Application Layer</text><polygon fill=\"#FFFFFF\" filter=\"url(#f1iz1rgvpmemio)\" points=\"285,214,399,214,406,236.2969,413,236.2969,413,266.5938,285,266.5938,285,214\" style=\"stroke: #000000; stroke-width: 1.5;\"/><line style=\"stroke: #000000; stroke-width: 1.5;\" x1=\"285\" x2=\"406\" y1=\"236.2969\" y2=\"236.2969\"/><text fill=\"#000000\" font-family=\"sans-serif\" font-size=\"14\" font-weight=\"bold\" lengthAdjust=\"spacingAndGlyphs\" textLength=\"108\" x=\"289\" y=\"228.9951\">Service Layer</text><polygon fill=\"#FFFFFF\" filter=\"url(#f1iz1rgvpmemio)\" points=\"297,344,387,344,394,366.2969,401,366.2969,401,396.5938,297,396.5938,297,344\" style=\"stroke: #000000; stroke-width: 1.5;\"/><line style=\"stroke: #000000; stroke-width: 1.5;\" x1=\"297\" x2=\"394\" y1=\"366.2969\" y2=\"366.2969\"/><text fill=\"#000000\" font-family=\"sans-serif\" font-size=\"14\" font-weight=\"bold\" lengthAdjust=\"spacingAndGlyphs\" textLength=\"84\" x=\"301\" y=\"358.9951\">Data Layer</text><!--MD5=[af87c684e3b0d8be13c1a698a818ef1e]\n",
       "link E3 to E4--><path d=\"M349,137.1 C349,156.8 349,184.22 349,205.73 \" fill=\"none\" id=\"E3-&gt;E4\" style=\"stroke: #A80036; stroke-width: 1.0; stroke-dasharray: 7.0,7.0;\"/><polygon fill=\"#A80036\" points=\"349,213.95,352,205.95,346,205.95,349,213.95\" style=\"stroke: #A80036; stroke-width: 1.0;\"/><text fill=\"#000000\" font-family=\"sans-serif\" font-size=\"13\" lengthAdjust=\"spacingAndGlyphs\" textLength=\"64\" x=\"350\" y=\"180.0669\">«depend»</text><!--MD5=[1b7591eae5389033d8d09a9d6721a717]\n",
       "link E4 to E5--><path d=\"M349,267.1 C349,286.8 349,314.22 349,335.73 \" fill=\"none\" id=\"E4-&gt;E5\" style=\"stroke: #A80036; stroke-width: 1.0; stroke-dasharray: 7.0,7.0;\"/><polygon fill=\"#A80036\" points=\"349,343.95,352,335.95,346,335.95,349,343.95\" style=\"stroke: #A80036; stroke-width: 1.0;\"/><text fill=\"#000000\" font-family=\"sans-serif\" font-size=\"13\" lengthAdjust=\"spacingAndGlyphs\" textLength=\"64\" x=\"350\" y=\"310.0669\">«depend»</text><!--MD5=[c5e8897d989ce984f93528998a7150fe]\n",
       "link E8 to E6--><path d=\"M90.5,133.56 C80.01,142.57 69.64,153.96 64,167 C58.27,180.26 59.78,196 63.24,209.43 \" fill=\"none\" id=\"E8-&gt;E6\" style=\"stroke: #A80036; stroke-width: 1.0; stroke-dasharray: 7.0,7.0;\"/><polygon fill=\"#A80036\" points=\"65.59,217.45,66.2099,208.9285,60.4539,210.6221,65.59,217.45\" style=\"stroke: #A80036; stroke-width: 1.0;\"/><text fill=\"#000000\" font-family=\"sans-serif\" font-size=\"13\" lengthAdjust=\"spacingAndGlyphs\" textLength=\"64\" x=\"65\" y=\"180.0669\">«depend»</text><!--MD5=[bfa3c8b0d15052fdf50ae9310b491027]\n",
       "link E8 to E7--><path d=\"M135.38,133.5 C147.28,154.66 165.34,186.78 178.47,210.11 \" fill=\"none\" id=\"E8-&gt;E7\" style=\"stroke: #A80036; stroke-width: 1.0; stroke-dasharray: 7.0,7.0;\"/><polygon fill=\"#A80036\" points=\"182.54,217.35,181.2392,208.9056,176.0075,211.8431,182.54,217.35\" style=\"stroke: #A80036; stroke-width: 1.0;\"/><text fill=\"#000000\" font-family=\"sans-serif\" font-size=\"13\" lengthAdjust=\"spacingAndGlyphs\" textLength=\"64\" x=\"164\" y=\"180.0669\">«depend»</text><!--MD5=[32279ee7045cc7cd17e74c18f7ac2851]\n",
       "@startuml\r\n",
       "skinparam wrapWidth 300\r\n",
       "hide circle\r\n",
       "\r\n",
       "package \"DependencyTest\" as E1   {\r\n",
       "package \"System\" as E2   {\r\n",
       "package \"Application Layer\" as E3   {\r\n",
       "}\r\n",
       "package \"Service Layer\" as E4   {\r\n",
       "}\r\n",
       "package \"Data Layer\" as E5   {\r\n",
       "}\r\n",
       "}\r\n",
       "comp usage \"x: DataValue\" as E6  <<(T,blue)attribute>> {\r\n",
       "}\r\n",
       "comp usage \"y: DataValue\" as E7  <<(T,blue)attribute>> {\r\n",
       "}\r\n",
       "comp usage \"z: DataValue\" as E8  <<(T,blue)attribute>> {\r\n",
       "}\r\n",
       "E3 ..>> E4 : <<depend>>\r\n",
       "E4 ..>> E5 : <<depend>>\r\n",
       "E8 ..>> E6 : <<depend>>\r\n",
       "E8 ..>> E7 : <<depend>>\r\n",
       "}\r\n",
       "@enduml\r\n",
       "\n",
       "PlantUML version 1.2020.13(Sat Jun 13 12:26:38 UTC 2020)\n",
       "(EPL source distribution)\n",
       "Java Runtime: OpenJDK Runtime Environment\n",
       "JVM: OpenJDK 64-Bit Server VM\n",
       "Default Encoding: UTF-8\n",
       "Language: en\n",
       "Country: null\n",
       "--></g></svg>"
      ]
     },
     "execution_count": 23,
     "metadata": {},
     "output_type": "execute_result"
    }
   ],
   "source": [
    "%viz --style=\"STDCOLOR\" --view=\"Default\" \"DependencyTest\""
   ]
  },
  {
   "cell_type": "code",
   "execution_count": 24,
   "id": "identical-nightmare",
   "metadata": {
    "execution": {
     "iopub.execute_input": "2021-03-26T09:43:55.927306Z",
     "iopub.status.busy": "2021-03-26T09:43:55.926634Z",
     "iopub.status.idle": "2021-03-26T09:43:55.963144Z",
     "shell.execute_reply": "2021-03-26T09:43:55.962152Z"
    }
   },
   "outputs": [
    {
     "data": {
      "image/svg+xml": [
       "<?xml version=\"1.0\" encoding=\"UTF-8\" standalone=\"no\"?><svg xmlns=\"http://www.w3.org/2000/svg\" xmlns:xlink=\"http://www.w3.org/1999/xlink\" contentScriptType=\"application/ecmascript\" contentStyleType=\"text/css\" height=\"449px\" preserveAspectRatio=\"none\" style=\"width:489px;height:449px;\" version=\"1.1\" viewBox=\"0 0 489 449\" width=\"489px\" zoomAndPan=\"magnify\"><defs><filter height=\"300%\" id=\"f1iz1rgvpmemio\" width=\"300%\" x=\"-1\" y=\"-1\"><feGaussianBlur result=\"blurOut\" stdDeviation=\"2.0\"/><feColorMatrix in=\"blurOut\" result=\"blurOut2\" type=\"matrix\" values=\"0 0 0 0 0 0 0 0 0 0 0 0 0 0 0 0 0 0 .4 0\"/><feOffset dx=\"4.0\" dy=\"4.0\" in=\"blurOut2\" result=\"blurOut3\"/><feBlend in=\"SourceGraphic\" in2=\"blurOut3\" mode=\"normal\"/></filter></defs><g><!--MD5=[fbc87193dbaf4d95561dea2c320d4a47]\n",
       "cluster E1--><polygon fill=\"#FFFFFF\" filter=\"url(#f1iz1rgvpmemio)\" points=\"16,6,156,6,163,28.2969,467,28.2969,467,437,16,437,16,6\" style=\"stroke: #000000; stroke-width: 1.5;\"/><line style=\"stroke: #000000; stroke-width: 1.5;\" x1=\"16\" x2=\"163\" y1=\"28.2969\" y2=\"28.2969\"/><text fill=\"#000000\" font-family=\"sans-serif\" font-size=\"14\" font-weight=\"bold\" lengthAdjust=\"spacingAndGlyphs\" textLength=\"134\" x=\"20\" y=\"20.9951\">DependencyTest</text><!--MD5=[e4f7fae6ed58524ba242bb0b0d3be6b7]\n",
       "cluster E2--><polygon fill=\"#FFFFFF\" filter=\"url(#f1iz1rgvpmemio)\" points=\"255,49,319,49,326,71.2969,443,71.2969,443,413,255,413,255,49\" style=\"stroke: #000000; stroke-width: 1.5;\"/><line style=\"stroke: #000000; stroke-width: 1.5;\" x1=\"255\" x2=\"326\" y1=\"71.2969\" y2=\"71.2969\"/><text fill=\"#000000\" font-family=\"sans-serif\" font-size=\"14\" font-weight=\"bold\" lengthAdjust=\"spacingAndGlyphs\" textLength=\"58\" x=\"259\" y=\"63.9951\">System</text><!--MD5=[60a26617385b1d2d0262a64233df1f8d]\n",
       "class E6--><rect fill=\"#FEFECE\" filter=\"url(#f1iz1rgvpmemio)\" height=\"45.9375\" id=\"E6\" rx=\"10\" ry=\"10\" style=\"stroke: #A80036; stroke-width: 1.5;\" width=\"85\" x=\"32.5\" y=\"217.5\"/><text fill=\"#000000\" font-family=\"sans-serif\" font-size=\"12\" font-style=\"italic\" lengthAdjust=\"spacingAndGlyphs\" textLength=\"69\" x=\"40.5\" y=\"233.6387\">«attribute»</text><text fill=\"#000000\" font-family=\"sans-serif\" font-size=\"12\" lengthAdjust=\"spacingAndGlyphs\" textLength=\"79\" x=\"35.5\" y=\"247.6074\">x: DataValue</text><line style=\"stroke: #A80036; stroke-width: 1.5;\" x1=\"33.5\" x2=\"116.5\" y1=\"255.4375\" y2=\"255.4375\"/><!--MD5=[2156ba9850f5573cc1fc38a6a4b2f02b]\n",
       "class E7--><rect fill=\"#FEFECE\" filter=\"url(#f1iz1rgvpmemio)\" height=\"45.9375\" id=\"E7\" rx=\"10\" ry=\"10\" style=\"stroke: #A80036; stroke-width: 1.5;\" width=\"85\" x=\"152.5\" y=\"217.5\"/><text fill=\"#000000\" font-family=\"sans-serif\" font-size=\"12\" font-style=\"italic\" lengthAdjust=\"spacingAndGlyphs\" textLength=\"69\" x=\"160.5\" y=\"233.6387\">«attribute»</text><text fill=\"#000000\" font-family=\"sans-serif\" font-size=\"12\" lengthAdjust=\"spacingAndGlyphs\" textLength=\"79\" x=\"155.5\" y=\"247.6074\">y: DataValue</text><line style=\"stroke: #A80036; stroke-width: 1.5;\" x1=\"153.5\" x2=\"236.5\" y1=\"255.4375\" y2=\"255.4375\"/><!--MD5=[b9389687b975829384b498ac4b7476b2]\n",
       "class E8--><rect fill=\"#FEFECE\" filter=\"url(#f1iz1rgvpmemio)\" height=\"45.9375\" id=\"E8\" rx=\"10\" ry=\"10\" style=\"stroke: #A80036; stroke-width: 1.5;\" width=\"84\" x=\"81\" y=\"87.5\"/><text fill=\"#000000\" font-family=\"sans-serif\" font-size=\"12\" font-style=\"italic\" lengthAdjust=\"spacingAndGlyphs\" textLength=\"69\" x=\"88.5\" y=\"103.6387\">«attribute»</text><text fill=\"#000000\" font-family=\"sans-serif\" font-size=\"12\" lengthAdjust=\"spacingAndGlyphs\" textLength=\"78\" x=\"84\" y=\"117.6074\">z: DataValue</text><line style=\"stroke: #A80036; stroke-width: 1.5;\" x1=\"82\" x2=\"164\" y1=\"125.4375\" y2=\"125.4375\"/><polygon fill=\"#FFFFFF\" filter=\"url(#f1iz1rgvpmemio)\" points=\"271,84,413,84,420,106.2969,427,106.2969,427,136.5938,271,136.5938,271,84\" style=\"stroke: #000000; stroke-width: 1.5;\"/><line style=\"stroke: #000000; stroke-width: 1.5;\" x1=\"271\" x2=\"420\" y1=\"106.2969\" y2=\"106.2969\"/><text fill=\"#000000\" font-family=\"sans-serif\" font-size=\"14\" font-weight=\"bold\" lengthAdjust=\"spacingAndGlyphs\" textLength=\"136\" x=\"275\" y=\"98.9951\">Application Layer</text><polygon fill=\"#FFFFFF\" filter=\"url(#f1iz1rgvpmemio)\" points=\"285,214,399,214,406,236.2969,413,236.2969,413,266.5938,285,266.5938,285,214\" style=\"stroke: #000000; stroke-width: 1.5;\"/><line style=\"stroke: #000000; stroke-width: 1.5;\" x1=\"285\" x2=\"406\" y1=\"236.2969\" y2=\"236.2969\"/><text fill=\"#000000\" font-family=\"sans-serif\" font-size=\"14\" font-weight=\"bold\" lengthAdjust=\"spacingAndGlyphs\" textLength=\"108\" x=\"289\" y=\"228.9951\">Service Layer</text><polygon fill=\"#FFFFFF\" filter=\"url(#f1iz1rgvpmemio)\" points=\"297,344,387,344,394,366.2969,401,366.2969,401,396.5938,297,396.5938,297,344\" style=\"stroke: #000000; stroke-width: 1.5;\"/><line style=\"stroke: #000000; stroke-width: 1.5;\" x1=\"297\" x2=\"394\" y1=\"366.2969\" y2=\"366.2969\"/><text fill=\"#000000\" font-family=\"sans-serif\" font-size=\"14\" font-weight=\"bold\" lengthAdjust=\"spacingAndGlyphs\" textLength=\"84\" x=\"301\" y=\"358.9951\">Data Layer</text><!--MD5=[af87c684e3b0d8be13c1a698a818ef1e]\n",
       "link E3 to E4--><path d=\"M349,137.1 C349,156.8 349,184.22 349,205.73 \" fill=\"none\" id=\"E3-&gt;E4\" style=\"stroke: #A80036; stroke-width: 1.0; stroke-dasharray: 7.0,7.0;\"/><polygon fill=\"#A80036\" points=\"349,213.95,352,205.95,346,205.95,349,213.95\" style=\"stroke: #A80036; stroke-width: 1.0;\"/><text fill=\"#000000\" font-family=\"sans-serif\" font-size=\"13\" lengthAdjust=\"spacingAndGlyphs\" textLength=\"64\" x=\"350\" y=\"180.0669\">«depend»</text><!--MD5=[1b7591eae5389033d8d09a9d6721a717]\n",
       "link E4 to E5--><path d=\"M349,267.1 C349,286.8 349,314.22 349,335.73 \" fill=\"none\" id=\"E4-&gt;E5\" style=\"stroke: #A80036; stroke-width: 1.0; stroke-dasharray: 7.0,7.0;\"/><polygon fill=\"#A80036\" points=\"349,343.95,352,335.95,346,335.95,349,343.95\" style=\"stroke: #A80036; stroke-width: 1.0;\"/><text fill=\"#000000\" font-family=\"sans-serif\" font-size=\"13\" lengthAdjust=\"spacingAndGlyphs\" textLength=\"64\" x=\"350\" y=\"310.0669\">«depend»</text><!--MD5=[c5e8897d989ce984f93528998a7150fe]\n",
       "link E8 to E6--><path d=\"M90.5,133.56 C80.01,142.57 69.64,153.96 64,167 C58.27,180.26 59.78,196 63.24,209.43 \" fill=\"none\" id=\"E8-&gt;E6\" style=\"stroke: #A80036; stroke-width: 1.0; stroke-dasharray: 7.0,7.0;\"/><polygon fill=\"#A80036\" points=\"65.59,217.45,66.2099,208.9285,60.4539,210.6221,65.59,217.45\" style=\"stroke: #A80036; stroke-width: 1.0;\"/><text fill=\"#000000\" font-family=\"sans-serif\" font-size=\"13\" lengthAdjust=\"spacingAndGlyphs\" textLength=\"64\" x=\"65\" y=\"180.0669\">«depend»</text><!--MD5=[bfa3c8b0d15052fdf50ae9310b491027]\n",
       "link E8 to E7--><path d=\"M135.38,133.5 C147.28,154.66 165.34,186.78 178.47,210.11 \" fill=\"none\" id=\"E8-&gt;E7\" style=\"stroke: #A80036; stroke-width: 1.0; stroke-dasharray: 7.0,7.0;\"/><polygon fill=\"#A80036\" points=\"182.54,217.35,181.2392,208.9056,176.0075,211.8431,182.54,217.35\" style=\"stroke: #A80036; stroke-width: 1.0;\"/><text fill=\"#000000\" font-family=\"sans-serif\" font-size=\"13\" lengthAdjust=\"spacingAndGlyphs\" textLength=\"64\" x=\"164\" y=\"180.0669\">«depend»</text><!--MD5=[32279ee7045cc7cd17e74c18f7ac2851]\n",
       "@startuml\r\n",
       "skinparam wrapWidth 300\r\n",
       "hide circle\r\n",
       "\r\n",
       "package \"DependencyTest\" as E1   {\r\n",
       "package \"System\" as E2   {\r\n",
       "package \"Application Layer\" as E3   {\r\n",
       "}\r\n",
       "package \"Service Layer\" as E4   {\r\n",
       "}\r\n",
       "package \"Data Layer\" as E5   {\r\n",
       "}\r\n",
       "}\r\n",
       "comp usage \"x: DataValue\" as E6  <<(T,blue)attribute>> {\r\n",
       "}\r\n",
       "comp usage \"y: DataValue\" as E7  <<(T,blue)attribute>> {\r\n",
       "}\r\n",
       "comp usage \"z: DataValue\" as E8  <<(T,blue)attribute>> {\r\n",
       "}\r\n",
       "E3 ..>> E4 : <<depend>>\r\n",
       "E4 ..>> E5 : <<depend>>\r\n",
       "E8 ..>> E6 : <<depend>>\r\n",
       "E8 ..>> E7 : <<depend>>\r\n",
       "}\r\n",
       "@enduml\r\n",
       "\n",
       "PlantUML version 1.2020.13(Sat Jun 13 12:26:38 UTC 2020)\n",
       "(EPL source distribution)\n",
       "Java Runtime: OpenJDK Runtime Environment\n",
       "JVM: OpenJDK 64-Bit Server VM\n",
       "Default Encoding: UTF-8\n",
       "Language: en\n",
       "Country: null\n",
       "--></g></svg>"
      ]
     },
     "execution_count": 24,
     "metadata": {},
     "output_type": "execute_result"
    }
   ],
   "source": [
    "%viz --style=\"STDCOLOR\" --view=\"Tree\" \"DependencyTest\""
   ]
  },
  {
   "cell_type": "code",
   "execution_count": 25,
   "id": "arctic-receptor",
   "metadata": {
    "execution": {
     "iopub.execute_input": "2021-03-26T09:43:56.013778Z",
     "iopub.status.busy": "2021-03-26T09:43:56.013295Z",
     "iopub.status.idle": "2021-03-26T09:43:56.018040Z",
     "shell.execute_reply": "2021-03-26T09:43:56.017621Z"
    }
   },
   "outputs": [
    {
     "data": {
      "text/plain": [
       "java.lang.IllegalArgumentException: Invalid View: State View candidates are: Default Tree StateMachine Interconnection Activity Sequence MIXED \n",
       "\tat org.omg.sysml.plantuml.SysML2PlantUMLSvc.setView(SysML2PlantUMLSvc.java:63)\n",
       "\tat org.omg.sysml.interactive.SysMLInteractive.viz(SysMLInteractive.java:286)\n",
       "\tat org.omg.sysml.jupyter.kernel.magic.Viz.viz(Viz.java:47)\n",
       "\tat jdk.internal.reflect.GeneratedMethodAccessor8.invoke(Unknown Source)\n",
       "\tat java.base/jdk.internal.reflect.DelegatingMethodAccessorImpl.invoke(DelegatingMethodAccessorImpl.java:43)\n",
       "\tat java.base/java.lang.reflect.Method.invoke(Method.java:568)\n",
       "\tat io.github.spencerpark.jupyter.kernel.magic.registry.Magics.invoke(Magics.java:89)\n",
       "\tat io.github.spencerpark.jupyter.kernel.magic.registry.Magics.access$000(Magics.java:8)\n",
       "\tat io.github.spencerpark.jupyter.kernel.magic.registry.Magics$LineReflectionMagicFunction.execute(Magics.java:149)\n",
       "\tat io.github.spencerpark.jupyter.kernel.magic.registry.Magics.applyLineMagic(Magics.java:26)\n",
       "\tat org.omg.sysml.jupyter.kernel.SysMLKernel.eval(SysMLKernel.java:76)\n",
       "\tat io.github.spencerpark.jupyter.kernel.BaseKernel.handleExecuteRequest(BaseKernel.java:334)\n",
       "\tat io.github.spencerpark.jupyter.channels.ShellChannel.lambda$bind$0(ShellChannel.java:64)\n",
       "\tat io.github.spencerpark.jupyter.channels.Loop.lambda$new$0(Loop.java:21)\n",
       "\tat io.github.spencerpark.jupyter.channels.Loop.run(Loop.java:78)\n"
      ]
     },
     "execution_count": 25,
     "metadata": {},
     "output_type": "execute_result"
    }
   ],
   "source": [
    "%viz --style=\"STDCOLOR\" --view=\"State\" \"DependencyTest\""
   ]
  },
  {
   "cell_type": "code",
   "execution_count": 26,
   "id": "aquatic-harris",
   "metadata": {
    "execution": {
     "iopub.execute_input": "2021-03-26T09:43:56.072065Z",
     "iopub.status.busy": "2021-03-26T09:43:56.071421Z",
     "iopub.status.idle": "2021-03-26T09:43:56.104693Z",
     "shell.execute_reply": "2021-03-26T09:43:56.104224Z"
    }
   },
   "outputs": [
    {
     "data": {
      "image/svg+xml": [
       "<?xml version=\"1.0\" encoding=\"UTF-8\" standalone=\"no\"?><svg xmlns=\"http://www.w3.org/2000/svg\" xmlns:xlink=\"http://www.w3.org/1999/xlink\" contentScriptType=\"application/ecmascript\" contentStyleType=\"text/css\" height=\"361px\" preserveAspectRatio=\"none\" style=\"width:529px;height:361px;\" version=\"1.1\" viewBox=\"0 0 529 361\" width=\"529px\" zoomAndPan=\"magnify\"><defs><filter height=\"300%\" id=\"f1pwyovmjm697a\" width=\"300%\" x=\"-1\" y=\"-1\"><feGaussianBlur result=\"blurOut\" stdDeviation=\"2.0\"/><feColorMatrix in=\"blurOut\" result=\"blurOut2\" type=\"matrix\" values=\"0 0 0 0 0 0 0 0 0 0 0 0 0 0 0 0 0 0 .4 0\"/><feOffset dx=\"4.0\" dy=\"4.0\" in=\"blurOut2\" result=\"blurOut3\"/><feBlend in=\"SourceGraphic\" in2=\"blurOut3\" mode=\"normal\"/></filter></defs><g><!--MD5=[fbc87193dbaf4d95561dea2c320d4a47]\n",
       "cluster E1--><polygon fill=\"#FFFFFF\" filter=\"url(#f1pwyovmjm697a)\" points=\"16,6,156,6,163,28.2969,507,28.2969,507,349,16,349,16,6\" style=\"stroke: #000000; stroke-width: 1.5;\"/><line style=\"stroke: #000000; stroke-width: 1.5;\" x1=\"16\" x2=\"163\" y1=\"28.2969\" y2=\"28.2969\"/><text fill=\"#000000\" font-family=\"sans-serif\" font-size=\"14\" font-weight=\"bold\" lengthAdjust=\"spacingAndGlyphs\" textLength=\"134\" x=\"20\" y=\"20.9951\">DependencyTest</text><!--MD5=[e4f7fae6ed58524ba242bb0b0d3be6b7]\n",
       "cluster E2--><polygon fill=\"#FFFFFF\" filter=\"url(#f1pwyovmjm697a)\" points=\"295,49,359,49,366,71.2969,483,71.2969,483,325,295,325,295,49\" style=\"stroke: #000000; stroke-width: 1.5;\"/><line style=\"stroke: #000000; stroke-width: 1.5;\" x1=\"295\" x2=\"366\" y1=\"71.2969\" y2=\"71.2969\"/><text fill=\"#000000\" font-family=\"sans-serif\" font-size=\"14\" font-weight=\"bold\" lengthAdjust=\"spacingAndGlyphs\" textLength=\"58\" x=\"299\" y=\"63.9951\">System</text><polygon fill=\"#FFFFFF\" filter=\"url(#f1pwyovmjm697a)\" points=\"311,84,453,84,460,106.2969,467,106.2969,467,136.5938,311,136.5938,311,84\" style=\"stroke: #000000; stroke-width: 1.5;\"/><line style=\"stroke: #000000; stroke-width: 1.5;\" x1=\"311\" x2=\"460\" y1=\"106.2969\" y2=\"106.2969\"/><text fill=\"#000000\" font-family=\"sans-serif\" font-size=\"14\" font-weight=\"bold\" lengthAdjust=\"spacingAndGlyphs\" textLength=\"136\" x=\"315\" y=\"98.9951\">Application Layer</text><polygon fill=\"#FFFFFF\" filter=\"url(#f1pwyovmjm697a)\" points=\"325,170,439,170,446,192.2969,453,192.2969,453,222.5938,325,222.5938,325,170\" style=\"stroke: #000000; stroke-width: 1.5;\"/><line style=\"stroke: #000000; stroke-width: 1.5;\" x1=\"325\" x2=\"446\" y1=\"192.2969\" y2=\"192.2969\"/><text fill=\"#000000\" font-family=\"sans-serif\" font-size=\"14\" font-weight=\"bold\" lengthAdjust=\"spacingAndGlyphs\" textLength=\"108\" x=\"329\" y=\"184.9951\">Service Layer</text><polygon fill=\"#FFFFFF\" filter=\"url(#f1pwyovmjm697a)\" points=\"337,256,427,256,434,278.2969,441,278.2969,441,308.5938,337,308.5938,337,256\" style=\"stroke: #000000; stroke-width: 1.5;\"/><line style=\"stroke: #000000; stroke-width: 1.5;\" x1=\"337\" x2=\"434\" y1=\"278.2969\" y2=\"278.2969\"/><text fill=\"#000000\" font-family=\"sans-serif\" font-size=\"14\" font-weight=\"bold\" lengthAdjust=\"spacingAndGlyphs\" textLength=\"84\" x=\"341\" y=\"270.9951\">Data Layer</text><g id=\"E1.E6\"><rect fill=\"#FFFFFF\" filter=\"url(#f1pwyovmjm697a)\" height=\"50\" rx=\"12.5\" ry=\"12.5\" style=\"stroke: #A80036; stroke-width: 1.5;\" width=\"106\" x=\"32\" y=\"171.5\"/><line style=\"stroke: #A80036; stroke-width: 1.5;\" x1=\"32\" x2=\"138\" y1=\"197.7969\" y2=\"197.7969\"/><text fill=\"#000000\" font-family=\"sans-serif\" font-size=\"14\" lengthAdjust=\"spacingAndGlyphs\" textLength=\"86\" x=\"42\" y=\"189.4951\">x: DataValue</text></g><g id=\"E1.E7\"><rect fill=\"#FFFFFF\" filter=\"url(#f1pwyovmjm697a)\" height=\"50\" rx=\"12.5\" ry=\"12.5\" style=\"stroke: #A80036; stroke-width: 1.5;\" width=\"106\" x=\"173\" y=\"171.5\"/><line style=\"stroke: #A80036; stroke-width: 1.5;\" x1=\"173\" x2=\"279\" y1=\"197.7969\" y2=\"197.7969\"/><text fill=\"#000000\" font-family=\"sans-serif\" font-size=\"14\" lengthAdjust=\"spacingAndGlyphs\" textLength=\"86\" x=\"183\" y=\"189.4951\">y: DataValue</text></g><g id=\"E1.E8\"><rect fill=\"#FFFFFF\" filter=\"url(#f1pwyovmjm697a)\" height=\"50\" rx=\"12.5\" ry=\"12.5\" style=\"stroke: #A80036; stroke-width: 1.5;\" width=\"107\" x=\"84.5\" y=\"85.5\"/><line style=\"stroke: #A80036; stroke-width: 1.5;\" x1=\"84.5\" x2=\"191.5\" y1=\"111.7969\" y2=\"111.7969\"/><text fill=\"#000000\" font-family=\"sans-serif\" font-size=\"14\" lengthAdjust=\"spacingAndGlyphs\" textLength=\"87\" x=\"94.5\" y=\"103.4951\">z: DataValue</text></g><!--MD5=[af87c684e3b0d8be13c1a698a818ef1e]\n",
       "link E3 to E4--><path d=\"M389,137.16 C389,144.98 389,153.69 389,161.94 \" fill=\"none\" id=\"E3-&gt;E4\" style=\"stroke: #A80036; stroke-width: 1.0; stroke-dasharray: 7.0,7.0;\"/><polygon fill=\"#A80036\" points=\"389,170,392,162,386,162,389,170\" style=\"stroke: #A80036; stroke-width: 1.0;\"/><text fill=\"#000000\" font-family=\"sans-serif\" font-size=\"13\" lengthAdjust=\"spacingAndGlyphs\" textLength=\"64\" x=\"390\" y=\"158.0669\">«depend»</text><!--MD5=[1b7591eae5389033d8d09a9d6721a717]\n",
       "link E4 to E5--><path d=\"M389,223.16 C389,230.98 389,239.69 389,247.94 \" fill=\"none\" id=\"E4-&gt;E5\" style=\"stroke: #A80036; stroke-width: 1.0; stroke-dasharray: 7.0,7.0;\"/><polygon fill=\"#A80036\" points=\"389,256,392,248,386,248,389,256\" style=\"stroke: #A80036; stroke-width: 1.0;\"/><text fill=\"#000000\" font-family=\"sans-serif\" font-size=\"13\" lengthAdjust=\"spacingAndGlyphs\" textLength=\"64\" x=\"390\" y=\"244.0669\">«depend»</text><!--MD5=[c5e8897d989ce984f93528998a7150fe]\n",
       "link E8 to E6--><path d=\"M105.13,135.85 C102.47,138.72 100.03,141.78 98,145 C94.5,150.55 91.94,156.99 90.07,163.39 \" fill=\"none\" id=\"E8-&gt;E6\" style=\"stroke: #A80036; stroke-width: 1.0; stroke-dasharray: 7.0,7.0;\"/><polygon fill=\"#A80036\" points=\"88.05,171.4,92.9159,164.377,87.0982,162.9092,88.05,171.4\" style=\"stroke: #A80036; stroke-width: 1.0;\"/><text fill=\"#000000\" font-family=\"sans-serif\" font-size=\"13\" lengthAdjust=\"spacingAndGlyphs\" textLength=\"64\" x=\"99\" y=\"158.0669\">«depend»</text><!--MD5=[bfa3c8b0d15052fdf50ae9310b491027]\n",
       "link E8 to E7--><path d=\"M163.45,135.8 C173.21,145.11 184.46,155.85 194.71,165.63 \" fill=\"none\" id=\"E8-&gt;E7\" style=\"stroke: #A80036; stroke-width: 1.0; stroke-dasharray: 7.0,7.0;\"/><polygon fill=\"#A80036\" points=\"200.6,171.26,196.8886,163.5642,192.7435,167.9021,200.6,171.26\" style=\"stroke: #A80036; stroke-width: 1.0;\"/><text fill=\"#000000\" font-family=\"sans-serif\" font-size=\"13\" lengthAdjust=\"spacingAndGlyphs\" textLength=\"64\" x=\"190\" y=\"158.0669\">«depend»</text><!--MD5=[4615b7a58c811cdbd250f2a728501117]\n",
       "@startuml\r\n",
       "skinparam ranksep 8\r\n",
       "skinparam rectangle {\r\n",
       " backgroundColor<<block>> LightGreen\r\n",
       "}\r\n",
       "skinparam wrapWidth 300\r\n",
       "hide circle\r\n",
       "\r\n",
       "package \"DependencyTest\" as E1   {\r\n",
       "package \"System\" as E2   {\r\n",
       "package \"Application Layer\" as E3   {\r\n",
       "}\r\n",
       "package \"Service Layer\" as E4   {\r\n",
       "}\r\n",
       "package \"Data Layer\" as E5   {\r\n",
       "}\r\n",
       "}\r\n",
       "rec usage \"x: DataValue\" as E6  <<attribute>> {\r\n",
       "}\r\n",
       "rec usage \"y: DataValue\" as E7  <<attribute>> {\r\n",
       "}\r\n",
       "rec usage \"z: DataValue\" as E8  <<attribute>> {\r\n",
       "}\r\n",
       "E3 ..>> E4 : <<depend>>\r\n",
       "E4 ..>> E5 : <<depend>>\r\n",
       "E8 ..>> E6 : <<depend>>\r\n",
       "E8 ..>> E7 : <<depend>>\r\n",
       "}\r\n",
       "@enduml\r\n",
       "\n",
       "PlantUML version 1.2020.13(Sat Jun 13 12:26:38 UTC 2020)\n",
       "(EPL source distribution)\n",
       "Java Runtime: OpenJDK Runtime Environment\n",
       "JVM: OpenJDK 64-Bit Server VM\n",
       "Default Encoding: UTF-8\n",
       "Language: en\n",
       "Country: null\n",
       "--></g></svg>"
      ]
     },
     "execution_count": 26,
     "metadata": {},
     "output_type": "execute_result"
    }
   ],
   "source": [
    "%viz --style=\"STDCOLOR\" --view=\"Interconnection\" \"DependencyTest\""
   ]
  },
  {
   "cell_type": "code",
   "execution_count": 27,
   "id": "local-metabolism",
   "metadata": {
    "execution": {
     "iopub.execute_input": "2021-03-26T09:43:56.156622Z",
     "iopub.status.busy": "2021-03-26T09:43:56.156089Z",
     "iopub.status.idle": "2021-03-26T09:43:56.158478Z",
     "shell.execute_reply": "2021-03-26T09:43:56.158925Z"
    }
   },
   "outputs": [
    {
     "data": {
      "text/plain": [
       "java.lang.IllegalArgumentException: Invalid View: Action View candidates are: Default Tree StateMachine Interconnection Activity Sequence MIXED \n",
       "\tat org.omg.sysml.plantuml.SysML2PlantUMLSvc.setView(SysML2PlantUMLSvc.java:63)\n",
       "\tat org.omg.sysml.interactive.SysMLInteractive.viz(SysMLInteractive.java:286)\n",
       "\tat org.omg.sysml.jupyter.kernel.magic.Viz.viz(Viz.java:47)\n",
       "\tat jdk.internal.reflect.GeneratedMethodAccessor8.invoke(Unknown Source)\n",
       "\tat java.base/jdk.internal.reflect.DelegatingMethodAccessorImpl.invoke(DelegatingMethodAccessorImpl.java:43)\n",
       "\tat java.base/java.lang.reflect.Method.invoke(Method.java:568)\n",
       "\tat io.github.spencerpark.jupyter.kernel.magic.registry.Magics.invoke(Magics.java:89)\n",
       "\tat io.github.spencerpark.jupyter.kernel.magic.registry.Magics.access$000(Magics.java:8)\n",
       "\tat io.github.spencerpark.jupyter.kernel.magic.registry.Magics$LineReflectionMagicFunction.execute(Magics.java:149)\n",
       "\tat io.github.spencerpark.jupyter.kernel.magic.registry.Magics.applyLineMagic(Magics.java:26)\n",
       "\tat org.omg.sysml.jupyter.kernel.SysMLKernel.eval(SysMLKernel.java:76)\n",
       "\tat io.github.spencerpark.jupyter.kernel.BaseKernel.handleExecuteRequest(BaseKernel.java:334)\n",
       "\tat io.github.spencerpark.jupyter.channels.ShellChannel.lambda$bind$0(ShellChannel.java:64)\n",
       "\tat io.github.spencerpark.jupyter.channels.Loop.lambda$new$0(Loop.java:21)\n",
       "\tat io.github.spencerpark.jupyter.channels.Loop.run(Loop.java:78)\n"
      ]
     },
     "execution_count": 27,
     "metadata": {},
     "output_type": "execute_result"
    }
   ],
   "source": [
    "%viz --style=\"STDCOLOR\" --view=\"Action\" \"DependencyTest\""
   ]
  },
  {
   "cell_type": "code",
   "execution_count": 28,
   "id": "intensive-determination",
   "metadata": {
    "execution": {
     "iopub.execute_input": "2021-03-26T09:43:56.210811Z",
     "iopub.status.busy": "2021-03-26T09:43:56.210289Z",
     "iopub.status.idle": "2021-03-26T09:43:56.243836Z",
     "shell.execute_reply": "2021-03-26T09:43:56.243520Z"
    }
   },
   "outputs": [
    {
     "data": {
      "image/svg+xml": [
       "<?xml version=\"1.0\" encoding=\"UTF-8\" standalone=\"no\"?><svg xmlns=\"http://www.w3.org/2000/svg\" xmlns:xlink=\"http://www.w3.org/1999/xlink\" contentScriptType=\"application/ecmascript\" contentStyleType=\"text/css\" height=\"449px\" preserveAspectRatio=\"none\" style=\"width:489px;height:449px;\" version=\"1.1\" viewBox=\"0 0 489 449\" width=\"489px\" zoomAndPan=\"magnify\"><defs><filter height=\"300%\" id=\"f1iz1rgvpmemio\" width=\"300%\" x=\"-1\" y=\"-1\"><feGaussianBlur result=\"blurOut\" stdDeviation=\"2.0\"/><feColorMatrix in=\"blurOut\" result=\"blurOut2\" type=\"matrix\" values=\"0 0 0 0 0 0 0 0 0 0 0 0 0 0 0 0 0 0 .4 0\"/><feOffset dx=\"4.0\" dy=\"4.0\" in=\"blurOut2\" result=\"blurOut3\"/><feBlend in=\"SourceGraphic\" in2=\"blurOut3\" mode=\"normal\"/></filter></defs><g><!--MD5=[fbc87193dbaf4d95561dea2c320d4a47]\n",
       "cluster E1--><polygon fill=\"#FFFFFF\" filter=\"url(#f1iz1rgvpmemio)\" points=\"16,6,156,6,163,28.2969,467,28.2969,467,437,16,437,16,6\" style=\"stroke: #000000; stroke-width: 1.5;\"/><line style=\"stroke: #000000; stroke-width: 1.5;\" x1=\"16\" x2=\"163\" y1=\"28.2969\" y2=\"28.2969\"/><text fill=\"#000000\" font-family=\"sans-serif\" font-size=\"14\" font-weight=\"bold\" lengthAdjust=\"spacingAndGlyphs\" textLength=\"134\" x=\"20\" y=\"20.9951\">DependencyTest</text><!--MD5=[e4f7fae6ed58524ba242bb0b0d3be6b7]\n",
       "cluster E2--><polygon fill=\"#FFFFFF\" filter=\"url(#f1iz1rgvpmemio)\" points=\"255,49,319,49,326,71.2969,443,71.2969,443,413,255,413,255,49\" style=\"stroke: #000000; stroke-width: 1.5;\"/><line style=\"stroke: #000000; stroke-width: 1.5;\" x1=\"255\" x2=\"326\" y1=\"71.2969\" y2=\"71.2969\"/><text fill=\"#000000\" font-family=\"sans-serif\" font-size=\"14\" font-weight=\"bold\" lengthAdjust=\"spacingAndGlyphs\" textLength=\"58\" x=\"259\" y=\"63.9951\">System</text><!--MD5=[60a26617385b1d2d0262a64233df1f8d]\n",
       "class E6--><rect fill=\"#FEFECE\" filter=\"url(#f1iz1rgvpmemio)\" height=\"45.9375\" id=\"E6\" rx=\"10\" ry=\"10\" style=\"stroke: #A80036; stroke-width: 1.5;\" width=\"85\" x=\"32.5\" y=\"217.5\"/><text fill=\"#000000\" font-family=\"sans-serif\" font-size=\"12\" font-style=\"italic\" lengthAdjust=\"spacingAndGlyphs\" textLength=\"69\" x=\"40.5\" y=\"233.6387\">«attribute»</text><text fill=\"#000000\" font-family=\"sans-serif\" font-size=\"12\" lengthAdjust=\"spacingAndGlyphs\" textLength=\"79\" x=\"35.5\" y=\"247.6074\">x: DataValue</text><line style=\"stroke: #A80036; stroke-width: 1.5;\" x1=\"33.5\" x2=\"116.5\" y1=\"255.4375\" y2=\"255.4375\"/><!--MD5=[2156ba9850f5573cc1fc38a6a4b2f02b]\n",
       "class E7--><rect fill=\"#FEFECE\" filter=\"url(#f1iz1rgvpmemio)\" height=\"45.9375\" id=\"E7\" rx=\"10\" ry=\"10\" style=\"stroke: #A80036; stroke-width: 1.5;\" width=\"85\" x=\"152.5\" y=\"217.5\"/><text fill=\"#000000\" font-family=\"sans-serif\" font-size=\"12\" font-style=\"italic\" lengthAdjust=\"spacingAndGlyphs\" textLength=\"69\" x=\"160.5\" y=\"233.6387\">«attribute»</text><text fill=\"#000000\" font-family=\"sans-serif\" font-size=\"12\" lengthAdjust=\"spacingAndGlyphs\" textLength=\"79\" x=\"155.5\" y=\"247.6074\">y: DataValue</text><line style=\"stroke: #A80036; stroke-width: 1.5;\" x1=\"153.5\" x2=\"236.5\" y1=\"255.4375\" y2=\"255.4375\"/><!--MD5=[b9389687b975829384b498ac4b7476b2]\n",
       "class E8--><rect fill=\"#FEFECE\" filter=\"url(#f1iz1rgvpmemio)\" height=\"45.9375\" id=\"E8\" rx=\"10\" ry=\"10\" style=\"stroke: #A80036; stroke-width: 1.5;\" width=\"84\" x=\"81\" y=\"87.5\"/><text fill=\"#000000\" font-family=\"sans-serif\" font-size=\"12\" font-style=\"italic\" lengthAdjust=\"spacingAndGlyphs\" textLength=\"69\" x=\"88.5\" y=\"103.6387\">«attribute»</text><text fill=\"#000000\" font-family=\"sans-serif\" font-size=\"12\" lengthAdjust=\"spacingAndGlyphs\" textLength=\"78\" x=\"84\" y=\"117.6074\">z: DataValue</text><line style=\"stroke: #A80036; stroke-width: 1.5;\" x1=\"82\" x2=\"164\" y1=\"125.4375\" y2=\"125.4375\"/><polygon fill=\"#FFFFFF\" filter=\"url(#f1iz1rgvpmemio)\" points=\"271,84,413,84,420,106.2969,427,106.2969,427,136.5938,271,136.5938,271,84\" style=\"stroke: #000000; stroke-width: 1.5;\"/><line style=\"stroke: #000000; stroke-width: 1.5;\" x1=\"271\" x2=\"420\" y1=\"106.2969\" y2=\"106.2969\"/><text fill=\"#000000\" font-family=\"sans-serif\" font-size=\"14\" font-weight=\"bold\" lengthAdjust=\"spacingAndGlyphs\" textLength=\"136\" x=\"275\" y=\"98.9951\">Application Layer</text><polygon fill=\"#FFFFFF\" filter=\"url(#f1iz1rgvpmemio)\" points=\"285,214,399,214,406,236.2969,413,236.2969,413,266.5938,285,266.5938,285,214\" style=\"stroke: #000000; stroke-width: 1.5;\"/><line style=\"stroke: #000000; stroke-width: 1.5;\" x1=\"285\" x2=\"406\" y1=\"236.2969\" y2=\"236.2969\"/><text fill=\"#000000\" font-family=\"sans-serif\" font-size=\"14\" font-weight=\"bold\" lengthAdjust=\"spacingAndGlyphs\" textLength=\"108\" x=\"289\" y=\"228.9951\">Service Layer</text><polygon fill=\"#FFFFFF\" filter=\"url(#f1iz1rgvpmemio)\" points=\"297,344,387,344,394,366.2969,401,366.2969,401,396.5938,297,396.5938,297,344\" style=\"stroke: #000000; stroke-width: 1.5;\"/><line style=\"stroke: #000000; stroke-width: 1.5;\" x1=\"297\" x2=\"394\" y1=\"366.2969\" y2=\"366.2969\"/><text fill=\"#000000\" font-family=\"sans-serif\" font-size=\"14\" font-weight=\"bold\" lengthAdjust=\"spacingAndGlyphs\" textLength=\"84\" x=\"301\" y=\"358.9951\">Data Layer</text><!--MD5=[af87c684e3b0d8be13c1a698a818ef1e]\n",
       "link E3 to E4--><path d=\"M349,137.1 C349,156.8 349,184.22 349,205.73 \" fill=\"none\" id=\"E3-&gt;E4\" style=\"stroke: #A80036; stroke-width: 1.0; stroke-dasharray: 7.0,7.0;\"/><polygon fill=\"#A80036\" points=\"349,213.95,352,205.95,346,205.95,349,213.95\" style=\"stroke: #A80036; stroke-width: 1.0;\"/><text fill=\"#000000\" font-family=\"sans-serif\" font-size=\"13\" lengthAdjust=\"spacingAndGlyphs\" textLength=\"64\" x=\"350\" y=\"180.0669\">«depend»</text><!--MD5=[1b7591eae5389033d8d09a9d6721a717]\n",
       "link E4 to E5--><path d=\"M349,267.1 C349,286.8 349,314.22 349,335.73 \" fill=\"none\" id=\"E4-&gt;E5\" style=\"stroke: #A80036; stroke-width: 1.0; stroke-dasharray: 7.0,7.0;\"/><polygon fill=\"#A80036\" points=\"349,343.95,352,335.95,346,335.95,349,343.95\" style=\"stroke: #A80036; stroke-width: 1.0;\"/><text fill=\"#000000\" font-family=\"sans-serif\" font-size=\"13\" lengthAdjust=\"spacingAndGlyphs\" textLength=\"64\" x=\"350\" y=\"310.0669\">«depend»</text><!--MD5=[c5e8897d989ce984f93528998a7150fe]\n",
       "link E8 to E6--><path d=\"M90.5,133.56 C80.01,142.57 69.64,153.96 64,167 C58.27,180.26 59.78,196 63.24,209.43 \" fill=\"none\" id=\"E8-&gt;E6\" style=\"stroke: #A80036; stroke-width: 1.0; stroke-dasharray: 7.0,7.0;\"/><polygon fill=\"#A80036\" points=\"65.59,217.45,66.2099,208.9285,60.4539,210.6221,65.59,217.45\" style=\"stroke: #A80036; stroke-width: 1.0;\"/><text fill=\"#000000\" font-family=\"sans-serif\" font-size=\"13\" lengthAdjust=\"spacingAndGlyphs\" textLength=\"64\" x=\"65\" y=\"180.0669\">«depend»</text><!--MD5=[bfa3c8b0d15052fdf50ae9310b491027]\n",
       "link E8 to E7--><path d=\"M135.38,133.5 C147.28,154.66 165.34,186.78 178.47,210.11 \" fill=\"none\" id=\"E8-&gt;E7\" style=\"stroke: #A80036; stroke-width: 1.0; stroke-dasharray: 7.0,7.0;\"/><polygon fill=\"#A80036\" points=\"182.54,217.35,181.2392,208.9056,176.0075,211.8431,182.54,217.35\" style=\"stroke: #A80036; stroke-width: 1.0;\"/><text fill=\"#000000\" font-family=\"sans-serif\" font-size=\"13\" lengthAdjust=\"spacingAndGlyphs\" textLength=\"64\" x=\"164\" y=\"180.0669\">«depend»</text><!--MD5=[32279ee7045cc7cd17e74c18f7ac2851]\n",
       "@startuml\r\n",
       "skinparam wrapWidth 300\r\n",
       "hide circle\r\n",
       "\r\n",
       "package \"DependencyTest\" as E1   {\r\n",
       "package \"System\" as E2   {\r\n",
       "package \"Application Layer\" as E3   {\r\n",
       "}\r\n",
       "package \"Service Layer\" as E4   {\r\n",
       "}\r\n",
       "package \"Data Layer\" as E5   {\r\n",
       "}\r\n",
       "}\r\n",
       "comp usage \"x: DataValue\" as E6  <<(T,blue)attribute>> {\r\n",
       "}\r\n",
       "comp usage \"y: DataValue\" as E7  <<(T,blue)attribute>> {\r\n",
       "}\r\n",
       "comp usage \"z: DataValue\" as E8  <<(T,blue)attribute>> {\r\n",
       "}\r\n",
       "E3 ..>> E4 : <<depend>>\r\n",
       "E4 ..>> E5 : <<depend>>\r\n",
       "E8 ..>> E6 : <<depend>>\r\n",
       "E8 ..>> E7 : <<depend>>\r\n",
       "}\r\n",
       "@enduml\r\n",
       "\n",
       "PlantUML version 1.2020.13(Sat Jun 13 12:26:38 UTC 2020)\n",
       "(EPL source distribution)\n",
       "Java Runtime: OpenJDK Runtime Environment\n",
       "JVM: OpenJDK 64-Bit Server VM\n",
       "Default Encoding: UTF-8\n",
       "Language: en\n",
       "Country: null\n",
       "--></g></svg>"
      ]
     },
     "execution_count": 28,
     "metadata": {},
     "output_type": "execute_result"
    }
   ],
   "source": [
    "%viz --style=\"STDCOLOR\" --view=\"Sequence\" \"DependencyTest\""
   ]
  },
  {
   "cell_type": "code",
   "execution_count": 29,
   "id": "ranging-indian",
   "metadata": {
    "execution": {
     "iopub.execute_input": "2021-03-26T09:43:56.297359Z",
     "iopub.status.busy": "2021-03-26T09:43:56.296973Z",
     "iopub.status.idle": "2021-03-26T09:43:56.324953Z",
     "shell.execute_reply": "2021-03-26T09:43:56.325265Z"
    }
   },
   "outputs": [
    {
     "data": {
      "image/svg+xml": [
       "<?xml version=\"1.0\" encoding=\"UTF-8\" standalone=\"no\"?><svg xmlns=\"http://www.w3.org/2000/svg\" xmlns:xlink=\"http://www.w3.org/1999/xlink\" contentScriptType=\"application/ecmascript\" contentStyleType=\"text/css\" height=\"449px\" preserveAspectRatio=\"none\" style=\"width:489px;height:449px;\" version=\"1.1\" viewBox=\"0 0 489 449\" width=\"489px\" zoomAndPan=\"magnify\"><defs><filter height=\"300%\" id=\"f1iz1rgvpmemio\" width=\"300%\" x=\"-1\" y=\"-1\"><feGaussianBlur result=\"blurOut\" stdDeviation=\"2.0\"/><feColorMatrix in=\"blurOut\" result=\"blurOut2\" type=\"matrix\" values=\"0 0 0 0 0 0 0 0 0 0 0 0 0 0 0 0 0 0 .4 0\"/><feOffset dx=\"4.0\" dy=\"4.0\" in=\"blurOut2\" result=\"blurOut3\"/><feBlend in=\"SourceGraphic\" in2=\"blurOut3\" mode=\"normal\"/></filter></defs><g><!--MD5=[fbc87193dbaf4d95561dea2c320d4a47]\n",
       "cluster E1--><polygon fill=\"#FFFFFF\" filter=\"url(#f1iz1rgvpmemio)\" points=\"16,6,156,6,163,28.2969,467,28.2969,467,437,16,437,16,6\" style=\"stroke: #000000; stroke-width: 1.5;\"/><line style=\"stroke: #000000; stroke-width: 1.5;\" x1=\"16\" x2=\"163\" y1=\"28.2969\" y2=\"28.2969\"/><text fill=\"#000000\" font-family=\"sans-serif\" font-size=\"14\" font-weight=\"bold\" lengthAdjust=\"spacingAndGlyphs\" textLength=\"134\" x=\"20\" y=\"20.9951\">DependencyTest</text><!--MD5=[e4f7fae6ed58524ba242bb0b0d3be6b7]\n",
       "cluster E2--><polygon fill=\"#FFFFFF\" filter=\"url(#f1iz1rgvpmemio)\" points=\"255,49,319,49,326,71.2969,443,71.2969,443,413,255,413,255,49\" style=\"stroke: #000000; stroke-width: 1.5;\"/><line style=\"stroke: #000000; stroke-width: 1.5;\" x1=\"255\" x2=\"326\" y1=\"71.2969\" y2=\"71.2969\"/><text fill=\"#000000\" font-family=\"sans-serif\" font-size=\"14\" font-weight=\"bold\" lengthAdjust=\"spacingAndGlyphs\" textLength=\"58\" x=\"259\" y=\"63.9951\">System</text><!--MD5=[60a26617385b1d2d0262a64233df1f8d]\n",
       "class E6--><rect fill=\"#FEFECE\" filter=\"url(#f1iz1rgvpmemio)\" height=\"45.9375\" id=\"E6\" rx=\"10\" ry=\"10\" style=\"stroke: #A80036; stroke-width: 1.5;\" width=\"85\" x=\"32.5\" y=\"217.5\"/><text fill=\"#000000\" font-family=\"sans-serif\" font-size=\"12\" font-style=\"italic\" lengthAdjust=\"spacingAndGlyphs\" textLength=\"69\" x=\"40.5\" y=\"233.6387\">«attribute»</text><text fill=\"#000000\" font-family=\"sans-serif\" font-size=\"12\" lengthAdjust=\"spacingAndGlyphs\" textLength=\"79\" x=\"35.5\" y=\"247.6074\">x: DataValue</text><line style=\"stroke: #A80036; stroke-width: 1.5;\" x1=\"33.5\" x2=\"116.5\" y1=\"255.4375\" y2=\"255.4375\"/><!--MD5=[2156ba9850f5573cc1fc38a6a4b2f02b]\n",
       "class E7--><rect fill=\"#FEFECE\" filter=\"url(#f1iz1rgvpmemio)\" height=\"45.9375\" id=\"E7\" rx=\"10\" ry=\"10\" style=\"stroke: #A80036; stroke-width: 1.5;\" width=\"85\" x=\"152.5\" y=\"217.5\"/><text fill=\"#000000\" font-family=\"sans-serif\" font-size=\"12\" font-style=\"italic\" lengthAdjust=\"spacingAndGlyphs\" textLength=\"69\" x=\"160.5\" y=\"233.6387\">«attribute»</text><text fill=\"#000000\" font-family=\"sans-serif\" font-size=\"12\" lengthAdjust=\"spacingAndGlyphs\" textLength=\"79\" x=\"155.5\" y=\"247.6074\">y: DataValue</text><line style=\"stroke: #A80036; stroke-width: 1.5;\" x1=\"153.5\" x2=\"236.5\" y1=\"255.4375\" y2=\"255.4375\"/><!--MD5=[b9389687b975829384b498ac4b7476b2]\n",
       "class E8--><rect fill=\"#FEFECE\" filter=\"url(#f1iz1rgvpmemio)\" height=\"45.9375\" id=\"E8\" rx=\"10\" ry=\"10\" style=\"stroke: #A80036; stroke-width: 1.5;\" width=\"84\" x=\"81\" y=\"87.5\"/><text fill=\"#000000\" font-family=\"sans-serif\" font-size=\"12\" font-style=\"italic\" lengthAdjust=\"spacingAndGlyphs\" textLength=\"69\" x=\"88.5\" y=\"103.6387\">«attribute»</text><text fill=\"#000000\" font-family=\"sans-serif\" font-size=\"12\" lengthAdjust=\"spacingAndGlyphs\" textLength=\"78\" x=\"84\" y=\"117.6074\">z: DataValue</text><line style=\"stroke: #A80036; stroke-width: 1.5;\" x1=\"82\" x2=\"164\" y1=\"125.4375\" y2=\"125.4375\"/><polygon fill=\"#FFFFFF\" filter=\"url(#f1iz1rgvpmemio)\" points=\"271,84,413,84,420,106.2969,427,106.2969,427,136.5938,271,136.5938,271,84\" style=\"stroke: #000000; stroke-width: 1.5;\"/><line style=\"stroke: #000000; stroke-width: 1.5;\" x1=\"271\" x2=\"420\" y1=\"106.2969\" y2=\"106.2969\"/><text fill=\"#000000\" font-family=\"sans-serif\" font-size=\"14\" font-weight=\"bold\" lengthAdjust=\"spacingAndGlyphs\" textLength=\"136\" x=\"275\" y=\"98.9951\">Application Layer</text><polygon fill=\"#FFFFFF\" filter=\"url(#f1iz1rgvpmemio)\" points=\"285,214,399,214,406,236.2969,413,236.2969,413,266.5938,285,266.5938,285,214\" style=\"stroke: #000000; stroke-width: 1.5;\"/><line style=\"stroke: #000000; stroke-width: 1.5;\" x1=\"285\" x2=\"406\" y1=\"236.2969\" y2=\"236.2969\"/><text fill=\"#000000\" font-family=\"sans-serif\" font-size=\"14\" font-weight=\"bold\" lengthAdjust=\"spacingAndGlyphs\" textLength=\"108\" x=\"289\" y=\"228.9951\">Service Layer</text><polygon fill=\"#FFFFFF\" filter=\"url(#f1iz1rgvpmemio)\" points=\"297,344,387,344,394,366.2969,401,366.2969,401,396.5938,297,396.5938,297,344\" style=\"stroke: #000000; stroke-width: 1.5;\"/><line style=\"stroke: #000000; stroke-width: 1.5;\" x1=\"297\" x2=\"394\" y1=\"366.2969\" y2=\"366.2969\"/><text fill=\"#000000\" font-family=\"sans-serif\" font-size=\"14\" font-weight=\"bold\" lengthAdjust=\"spacingAndGlyphs\" textLength=\"84\" x=\"301\" y=\"358.9951\">Data Layer</text><!--MD5=[af87c684e3b0d8be13c1a698a818ef1e]\n",
       "link E3 to E4--><path d=\"M349,137.1 C349,156.8 349,184.22 349,205.73 \" fill=\"none\" id=\"E3-&gt;E4\" style=\"stroke: #A80036; stroke-width: 1.0; stroke-dasharray: 7.0,7.0;\"/><polygon fill=\"#A80036\" points=\"349,213.95,352,205.95,346,205.95,349,213.95\" style=\"stroke: #A80036; stroke-width: 1.0;\"/><text fill=\"#000000\" font-family=\"sans-serif\" font-size=\"13\" lengthAdjust=\"spacingAndGlyphs\" textLength=\"64\" x=\"350\" y=\"180.0669\">«depend»</text><!--MD5=[1b7591eae5389033d8d09a9d6721a717]\n",
       "link E4 to E5--><path d=\"M349,267.1 C349,286.8 349,314.22 349,335.73 \" fill=\"none\" id=\"E4-&gt;E5\" style=\"stroke: #A80036; stroke-width: 1.0; stroke-dasharray: 7.0,7.0;\"/><polygon fill=\"#A80036\" points=\"349,343.95,352,335.95,346,335.95,349,343.95\" style=\"stroke: #A80036; stroke-width: 1.0;\"/><text fill=\"#000000\" font-family=\"sans-serif\" font-size=\"13\" lengthAdjust=\"spacingAndGlyphs\" textLength=\"64\" x=\"350\" y=\"310.0669\">«depend»</text><!--MD5=[c5e8897d989ce984f93528998a7150fe]\n",
       "link E8 to E6--><path d=\"M90.5,133.56 C80.01,142.57 69.64,153.96 64,167 C58.27,180.26 59.78,196 63.24,209.43 \" fill=\"none\" id=\"E8-&gt;E6\" style=\"stroke: #A80036; stroke-width: 1.0; stroke-dasharray: 7.0,7.0;\"/><polygon fill=\"#A80036\" points=\"65.59,217.45,66.2099,208.9285,60.4539,210.6221,65.59,217.45\" style=\"stroke: #A80036; stroke-width: 1.0;\"/><text fill=\"#000000\" font-family=\"sans-serif\" font-size=\"13\" lengthAdjust=\"spacingAndGlyphs\" textLength=\"64\" x=\"65\" y=\"180.0669\">«depend»</text><!--MD5=[bfa3c8b0d15052fdf50ae9310b491027]\n",
       "link E8 to E7--><path d=\"M135.38,133.5 C147.28,154.66 165.34,186.78 178.47,210.11 \" fill=\"none\" id=\"E8-&gt;E7\" style=\"stroke: #A80036; stroke-width: 1.0; stroke-dasharray: 7.0,7.0;\"/><polygon fill=\"#A80036\" points=\"182.54,217.35,181.2392,208.9056,176.0075,211.8431,182.54,217.35\" style=\"stroke: #A80036; stroke-width: 1.0;\"/><text fill=\"#000000\" font-family=\"sans-serif\" font-size=\"13\" lengthAdjust=\"spacingAndGlyphs\" textLength=\"64\" x=\"164\" y=\"180.0669\">«depend»</text><!--MD5=[32279ee7045cc7cd17e74c18f7ac2851]\n",
       "@startuml\r\n",
       "skinparam wrapWidth 300\r\n",
       "hide circle\r\n",
       "\r\n",
       "package \"DependencyTest\" as E1   {\r\n",
       "package \"System\" as E2   {\r\n",
       "package \"Application Layer\" as E3   {\r\n",
       "}\r\n",
       "package \"Service Layer\" as E4   {\r\n",
       "}\r\n",
       "package \"Data Layer\" as E5   {\r\n",
       "}\r\n",
       "}\r\n",
       "comp usage \"x: DataValue\" as E6  <<(T,blue)attribute>> {\r\n",
       "}\r\n",
       "comp usage \"y: DataValue\" as E7  <<(T,blue)attribute>> {\r\n",
       "}\r\n",
       "comp usage \"z: DataValue\" as E8  <<(T,blue)attribute>> {\r\n",
       "}\r\n",
       "E3 ..>> E4 : <<depend>>\r\n",
       "E4 ..>> E5 : <<depend>>\r\n",
       "E8 ..>> E6 : <<depend>>\r\n",
       "E8 ..>> E7 : <<depend>>\r\n",
       "}\r\n",
       "@enduml\r\n",
       "\n",
       "PlantUML version 1.2020.13(Sat Jun 13 12:26:38 UTC 2020)\n",
       "(EPL source distribution)\n",
       "Java Runtime: OpenJDK Runtime Environment\n",
       "JVM: OpenJDK 64-Bit Server VM\n",
       "Default Encoding: UTF-8\n",
       "Language: en\n",
       "Country: null\n",
       "--></g></svg>"
      ]
     },
     "execution_count": 29,
     "metadata": {},
     "output_type": "execute_result"
    }
   ],
   "source": [
    "%viz --style=\"STDCOLOR\" --view=\"MIXED\" \"DependencyTest\""
   ]
  },
  {
   "cell_type": "code",
   "execution_count": 30,
   "id": "prospective-worst",
   "metadata": {
    "execution": {
     "iopub.execute_input": "2021-03-26T09:43:56.378856Z",
     "iopub.status.busy": "2021-03-26T09:43:56.378160Z",
     "iopub.status.idle": "2021-03-26T09:43:56.437710Z",
     "shell.execute_reply": "2021-03-26T09:43:56.437304Z"
    }
   },
   "outputs": [
    {
     "data": {
      "image/svg+xml": [
       "<?xml version=\"1.0\" encoding=\"UTF-8\" standalone=\"no\"?><svg xmlns=\"http://www.w3.org/2000/svg\" xmlns:xlink=\"http://www.w3.org/1999/xlink\" contentScriptType=\"application/ecmascript\" contentStyleType=\"text/css\" height=\"449px\" preserveAspectRatio=\"none\" style=\"width:538px;height:449px;\" version=\"1.1\" viewBox=\"0 0 538 449\" width=\"538px\" zoomAndPan=\"magnify\"><defs><filter height=\"300%\" id=\"flr4xaq1j9ay8\" width=\"300%\" x=\"-1\" y=\"-1\"><feGaussianBlur result=\"blurOut\" stdDeviation=\"2.0\"/><feColorMatrix in=\"blurOut\" result=\"blurOut2\" type=\"matrix\" values=\"0 0 0 0 0 0 0 0 0 0 0 0 0 0 0 0 0 0 .4 0\"/><feOffset dx=\"4.0\" dy=\"4.0\" in=\"blurOut2\" result=\"blurOut3\"/><feBlend in=\"SourceGraphic\" in2=\"blurOut3\" mode=\"normal\"/></filter></defs><g><!--MD5=[fbc87193dbaf4d95561dea2c320d4a47]\n",
       "cluster E1--><polygon fill=\"#FFFFFF\" filter=\"url(#flr4xaq1j9ay8)\" points=\"16,6,156,6,163,28.2969,516,28.2969,516,437,16,437,16,6\" style=\"stroke: #000000; stroke-width: 1.5;\"/><line style=\"stroke: #000000; stroke-width: 1.5;\" x1=\"16\" x2=\"163\" y1=\"28.2969\" y2=\"28.2969\"/><text fill=\"#000000\" font-family=\"sans-serif\" font-size=\"14\" font-weight=\"bold\" lengthAdjust=\"spacingAndGlyphs\" textLength=\"134\" x=\"20\" y=\"20.9951\">DependencyTest</text><!--MD5=[e4f7fae6ed58524ba242bb0b0d3be6b7]\n",
       "cluster E2--><polygon fill=\"#FFFFFF\" filter=\"url(#flr4xaq1j9ay8)\" points=\"304,49,368,49,375,71.2969,492,71.2969,492,413,304,413,304,49\" style=\"stroke: #000000; stroke-width: 1.5;\"/><line style=\"stroke: #000000; stroke-width: 1.5;\" x1=\"304\" x2=\"375\" y1=\"71.2969\" y2=\"71.2969\"/><text fill=\"#000000\" font-family=\"sans-serif\" font-size=\"14\" font-weight=\"bold\" lengthAdjust=\"spacingAndGlyphs\" textLength=\"58\" x=\"308\" y=\"63.9951\">System</text><!--MD5=[60a26617385b1d2d0262a64233df1f8d]\n",
       "class E6--><rect fill=\"#FEFECE\" filter=\"url(#flr4xaq1j9ay8)\" height=\"45.9375\" id=\"E6\" rx=\"10\" ry=\"10\" style=\"stroke: #A80036; stroke-width: 1.5;\" width=\"111\" x=\"31.5\" y=\"217.5\"/><ellipse cx=\"46.5\" cy=\"236.4688\" fill=\"#FFA500\" rx=\"11\" ry=\"11\" style=\"stroke: #A80036; stroke-width: 1.0;\"/><path d=\"M42.375,238.3906 L42.375,230.5781 L44.8281,230.5781 L44.8281,239.0156 Q44.8281,239.9375 45.2969,240.4688 Q45.7813,241 46.6094,241 Q47.4531,241 47.9219,240.4688 Q48.3906,239.9375 48.3906,239.0156 L48.3906,230.5781 L50.8438,230.5781 L50.8438,238.3906 Q50.8438,240.9219 49.8438,242.0625 Q48.8438,243.2031 46.6094,243.2031 Q44.3906,243.2031 43.375,242.0625 Q42.375,240.9219 42.375,238.3906 Z \"/><text fill=\"#000000\" font-family=\"sans-serif\" font-size=\"12\" font-style=\"italic\" lengthAdjust=\"spacingAndGlyphs\" textLength=\"69\" x=\"65.5\" y=\"233.6387\">«attribute»</text><text fill=\"#000000\" font-family=\"sans-serif\" font-size=\"12\" lengthAdjust=\"spacingAndGlyphs\" textLength=\"79\" x=\"60.5\" y=\"247.6074\">x: DataValue</text><line style=\"stroke: #A80036; stroke-width: 1.5;\" x1=\"32.5\" x2=\"141.5\" y1=\"255.4375\" y2=\"255.4375\"/><!--MD5=[2156ba9850f5573cc1fc38a6a4b2f02b]\n",
       "class E7--><rect fill=\"#FEFECE\" filter=\"url(#flr4xaq1j9ay8)\" height=\"45.9375\" id=\"E7\" rx=\"10\" ry=\"10\" style=\"stroke: #A80036; stroke-width: 1.5;\" width=\"111\" x=\"177.5\" y=\"217.5\"/><ellipse cx=\"192.5\" cy=\"236.4688\" fill=\"#FFA500\" rx=\"11\" ry=\"11\" style=\"stroke: #A80036; stroke-width: 1.0;\"/><path d=\"M188.375,238.3906 L188.375,230.5781 L190.8281,230.5781 L190.8281,239.0156 Q190.8281,239.9375 191.2969,240.4688 Q191.7813,241 192.6094,241 Q193.4531,241 193.9219,240.4688 Q194.3906,239.9375 194.3906,239.0156 L194.3906,230.5781 L196.8438,230.5781 L196.8438,238.3906 Q196.8438,240.9219 195.8438,242.0625 Q194.8438,243.2031 192.6094,243.2031 Q190.3906,243.2031 189.375,242.0625 Q188.375,240.9219 188.375,238.3906 Z \"/><text fill=\"#000000\" font-family=\"sans-serif\" font-size=\"12\" font-style=\"italic\" lengthAdjust=\"spacingAndGlyphs\" textLength=\"69\" x=\"211.5\" y=\"233.6387\">«attribute»</text><text fill=\"#000000\" font-family=\"sans-serif\" font-size=\"12\" lengthAdjust=\"spacingAndGlyphs\" textLength=\"79\" x=\"206.5\" y=\"247.6074\">y: DataValue</text><line style=\"stroke: #A80036; stroke-width: 1.5;\" x1=\"178.5\" x2=\"287.5\" y1=\"255.4375\" y2=\"255.4375\"/><!--MD5=[b9389687b975829384b498ac4b7476b2]\n",
       "class E8--><rect fill=\"#FEFECE\" filter=\"url(#flr4xaq1j9ay8)\" height=\"45.9375\" id=\"E8\" rx=\"10\" ry=\"10\" style=\"stroke: #A80036; stroke-width: 1.5;\" width=\"110\" x=\"85\" y=\"87.5\"/><ellipse cx=\"100\" cy=\"106.4688\" fill=\"#FFA500\" rx=\"11\" ry=\"11\" style=\"stroke: #A80036; stroke-width: 1.0;\"/><path d=\"M95.875,108.3906 L95.875,100.5781 L98.3281,100.5781 L98.3281,109.0156 Q98.3281,109.9375 98.7969,110.4688 Q99.2813,111 100.1094,111 Q100.9531,111 101.4219,110.4688 Q101.8906,109.9375 101.8906,109.0156 L101.8906,100.5781 L104.3438,100.5781 L104.3438,108.3906 Q104.3438,110.9219 103.3438,112.0625 Q102.3438,113.2031 100.1094,113.2031 Q97.8906,113.2031 96.875,112.0625 Q95.875,110.9219 95.875,108.3906 Z \"/><text fill=\"#000000\" font-family=\"sans-serif\" font-size=\"12\" font-style=\"italic\" lengthAdjust=\"spacingAndGlyphs\" textLength=\"69\" x=\"118.5\" y=\"103.6387\">«attribute»</text><text fill=\"#000000\" font-family=\"sans-serif\" font-size=\"12\" lengthAdjust=\"spacingAndGlyphs\" textLength=\"78\" x=\"114\" y=\"117.6074\">z: DataValue</text><line style=\"stroke: #A80036; stroke-width: 1.5;\" x1=\"86\" x2=\"194\" y1=\"125.4375\" y2=\"125.4375\"/><polygon fill=\"#FFFFFF\" filter=\"url(#flr4xaq1j9ay8)\" points=\"320,84,462,84,469,106.2969,476,106.2969,476,136.5938,320,136.5938,320,84\" style=\"stroke: #000000; stroke-width: 1.5;\"/><line style=\"stroke: #000000; stroke-width: 1.5;\" x1=\"320\" x2=\"469\" y1=\"106.2969\" y2=\"106.2969\"/><text fill=\"#000000\" font-family=\"sans-serif\" font-size=\"14\" font-weight=\"bold\" lengthAdjust=\"spacingAndGlyphs\" textLength=\"136\" x=\"324\" y=\"98.9951\">Application Layer</text><polygon fill=\"#FFFFFF\" filter=\"url(#flr4xaq1j9ay8)\" points=\"334,214,448,214,455,236.2969,462,236.2969,462,266.5938,334,266.5938,334,214\" style=\"stroke: #000000; stroke-width: 1.5;\"/><line style=\"stroke: #000000; stroke-width: 1.5;\" x1=\"334\" x2=\"455\" y1=\"236.2969\" y2=\"236.2969\"/><text fill=\"#000000\" font-family=\"sans-serif\" font-size=\"14\" font-weight=\"bold\" lengthAdjust=\"spacingAndGlyphs\" textLength=\"108\" x=\"338\" y=\"228.9951\">Service Layer</text><polygon fill=\"#FFFFFF\" filter=\"url(#flr4xaq1j9ay8)\" points=\"346,344,436,344,443,366.2969,450,366.2969,450,396.5938,346,396.5938,346,344\" style=\"stroke: #000000; stroke-width: 1.5;\"/><line style=\"stroke: #000000; stroke-width: 1.5;\" x1=\"346\" x2=\"443\" y1=\"366.2969\" y2=\"366.2969\"/><text fill=\"#000000\" font-family=\"sans-serif\" font-size=\"14\" font-weight=\"bold\" lengthAdjust=\"spacingAndGlyphs\" textLength=\"84\" x=\"350\" y=\"358.9951\">Data Layer</text><!--MD5=[af87c684e3b0d8be13c1a698a818ef1e]\n",
       "link E3 to E4--><path d=\"M398,137.1 C398,156.8 398,184.22 398,205.73 \" fill=\"none\" id=\"E3-&gt;E4\" style=\"stroke: #A80036; stroke-width: 1.0; stroke-dasharray: 7.0,7.0;\"/><polygon fill=\"#A80036\" points=\"398,213.95,401,205.95,395,205.95,398,213.95\" style=\"stroke: #A80036; stroke-width: 1.0;\"/><text fill=\"#000000\" font-family=\"sans-serif\" font-size=\"13\" lengthAdjust=\"spacingAndGlyphs\" textLength=\"64\" x=\"399\" y=\"180.0669\">«depend»</text><!--MD5=[1b7591eae5389033d8d09a9d6721a717]\n",
       "link E4 to E5--><path d=\"M398,267.1 C398,286.8 398,314.22 398,335.73 \" fill=\"none\" id=\"E4-&gt;E5\" style=\"stroke: #A80036; stroke-width: 1.0; stroke-dasharray: 7.0,7.0;\"/><polygon fill=\"#A80036\" points=\"398,343.95,401,335.95,395,335.95,398,343.95\" style=\"stroke: #A80036; stroke-width: 1.0;\"/><text fill=\"#000000\" font-family=\"sans-serif\" font-size=\"13\" lengthAdjust=\"spacingAndGlyphs\" textLength=\"64\" x=\"399\" y=\"310.0669\">«depend»</text><!--MD5=[c5e8897d989ce984f93528998a7150fe]\n",
       "link E8 to E6--><path d=\"M123.81,133.55 C117.2,143.39 109.96,155.37 105,167 C99.27,180.44 95.1,196.08 92.22,209.39 \" fill=\"none\" id=\"E8-&gt;E6\" style=\"stroke: #A80036; stroke-width: 1.0; stroke-dasharray: 7.0,7.0;\"/><polygon fill=\"#A80036\" points=\"90.6,217.34,95.1412,210.1027,89.2627,208.9013,90.6,217.34\" style=\"stroke: #A80036; stroke-width: 1.0;\"/><text fill=\"#000000\" font-family=\"sans-serif\" font-size=\"13\" lengthAdjust=\"spacingAndGlyphs\" textLength=\"64\" x=\"106\" y=\"180.0669\">«depend»</text><!--MD5=[bfa3c8b0d15052fdf50ae9310b491027]\n",
       "link E8 to E7--><path d=\"M155.99,133.5 C171.49,154.84 195.1,187.33 212.09,210.72 \" fill=\"none\" id=\"E8-&gt;E7\" style=\"stroke: #A80036; stroke-width: 1.0; stroke-dasharray: 7.0,7.0;\"/><polygon fill=\"#A80036\" points=\"216.91,217.35,214.6362,209.1141,209.7815,212.6399,216.91,217.35\" style=\"stroke: #A80036; stroke-width: 1.0;\"/><text fill=\"#000000\" font-family=\"sans-serif\" font-size=\"13\" lengthAdjust=\"spacingAndGlyphs\" textLength=\"64\" x=\"193\" y=\"180.0669\">«depend»</text><!--MD5=[92615851ccbfb07553e9044710eff62b]\n",
       "@startuml\r\n",
       " \r\n",
       "package \"DependencyTest\" as E1   {\r\n",
       "package \"System\" as E2   {\r\n",
       "package \"Application Layer\" as E3   {\r\n",
       "}\r\n",
       "package \"Service Layer\" as E4   {\r\n",
       "}\r\n",
       "package \"Data Layer\" as E5   {\r\n",
       "}\r\n",
       "}\r\n",
       "comp usage \"x: DataValue\" as E6  <<(U,orange)attribute>> {\r\n",
       "}\r\n",
       "comp usage \"y: DataValue\" as E7  <<(U,orange)attribute>> {\r\n",
       "}\r\n",
       "comp usage \"z: DataValue\" as E8  <<(U,orange)attribute>> {\r\n",
       "}\r\n",
       "E3 ..>> E4 : <<depend>>\r\n",
       "E4 ..>> E5 : <<depend>>\r\n",
       "E8 ..>> E6 : <<depend>>\r\n",
       "E8 ..>> E7 : <<depend>>\r\n",
       "}\r\n",
       "@enduml\r\n",
       "\n",
       "PlantUML version 1.2020.13(Sat Jun 13 12:26:38 UTC 2020)\n",
       "(EPL source distribution)\n",
       "Java Runtime: OpenJDK Runtime Environment\n",
       "JVM: OpenJDK 64-Bit Server VM\n",
       "Default Encoding: UTF-8\n",
       "Language: en\n",
       "Country: null\n",
       "--></g></svg>"
      ]
     },
     "execution_count": 30,
     "metadata": {},
     "output_type": "execute_result"
    }
   ],
   "source": [
    "%viz --style=\"PLANTUML\" --view=\"Default\" \"DependencyTest\""
   ]
  },
  {
   "cell_type": "code",
   "execution_count": 31,
   "id": "lucky-departure",
   "metadata": {
    "execution": {
     "iopub.execute_input": "2021-03-26T09:43:56.494007Z",
     "iopub.status.busy": "2021-03-26T09:43:56.493479Z",
     "iopub.status.idle": "2021-03-26T09:43:56.526543Z",
     "shell.execute_reply": "2021-03-26T09:43:56.526864Z"
    }
   },
   "outputs": [
    {
     "data": {
      "image/svg+xml": [
       "<?xml version=\"1.0\" encoding=\"UTF-8\" standalone=\"no\"?><svg xmlns=\"http://www.w3.org/2000/svg\" xmlns:xlink=\"http://www.w3.org/1999/xlink\" contentScriptType=\"application/ecmascript\" contentStyleType=\"text/css\" height=\"449px\" preserveAspectRatio=\"none\" style=\"width:538px;height:449px;\" version=\"1.1\" viewBox=\"0 0 538 449\" width=\"538px\" zoomAndPan=\"magnify\"><defs><filter height=\"300%\" id=\"flr4xaq1j9ay8\" width=\"300%\" x=\"-1\" y=\"-1\"><feGaussianBlur result=\"blurOut\" stdDeviation=\"2.0\"/><feColorMatrix in=\"blurOut\" result=\"blurOut2\" type=\"matrix\" values=\"0 0 0 0 0 0 0 0 0 0 0 0 0 0 0 0 0 0 .4 0\"/><feOffset dx=\"4.0\" dy=\"4.0\" in=\"blurOut2\" result=\"blurOut3\"/><feBlend in=\"SourceGraphic\" in2=\"blurOut3\" mode=\"normal\"/></filter></defs><g><!--MD5=[fbc87193dbaf4d95561dea2c320d4a47]\n",
       "cluster E1--><polygon fill=\"#FFFFFF\" filter=\"url(#flr4xaq1j9ay8)\" points=\"16,6,156,6,163,28.2969,516,28.2969,516,437,16,437,16,6\" style=\"stroke: #000000; stroke-width: 1.5;\"/><line style=\"stroke: #000000; stroke-width: 1.5;\" x1=\"16\" x2=\"163\" y1=\"28.2969\" y2=\"28.2969\"/><text fill=\"#000000\" font-family=\"sans-serif\" font-size=\"14\" font-weight=\"bold\" lengthAdjust=\"spacingAndGlyphs\" textLength=\"134\" x=\"20\" y=\"20.9951\">DependencyTest</text><!--MD5=[e4f7fae6ed58524ba242bb0b0d3be6b7]\n",
       "cluster E2--><polygon fill=\"#FFFFFF\" filter=\"url(#flr4xaq1j9ay8)\" points=\"304,49,368,49,375,71.2969,492,71.2969,492,413,304,413,304,49\" style=\"stroke: #000000; stroke-width: 1.5;\"/><line style=\"stroke: #000000; stroke-width: 1.5;\" x1=\"304\" x2=\"375\" y1=\"71.2969\" y2=\"71.2969\"/><text fill=\"#000000\" font-family=\"sans-serif\" font-size=\"14\" font-weight=\"bold\" lengthAdjust=\"spacingAndGlyphs\" textLength=\"58\" x=\"308\" y=\"63.9951\">System</text><!--MD5=[60a26617385b1d2d0262a64233df1f8d]\n",
       "class E6--><rect fill=\"#FEFECE\" filter=\"url(#flr4xaq1j9ay8)\" height=\"45.9375\" id=\"E6\" rx=\"10\" ry=\"10\" style=\"stroke: #A80036; stroke-width: 1.5;\" width=\"111\" x=\"31.5\" y=\"217.5\"/><ellipse cx=\"46.5\" cy=\"236.4688\" fill=\"#FFA500\" rx=\"11\" ry=\"11\" style=\"stroke: #A80036; stroke-width: 1.0;\"/><path d=\"M42.375,238.3906 L42.375,230.5781 L44.8281,230.5781 L44.8281,239.0156 Q44.8281,239.9375 45.2969,240.4688 Q45.7813,241 46.6094,241 Q47.4531,241 47.9219,240.4688 Q48.3906,239.9375 48.3906,239.0156 L48.3906,230.5781 L50.8438,230.5781 L50.8438,238.3906 Q50.8438,240.9219 49.8438,242.0625 Q48.8438,243.2031 46.6094,243.2031 Q44.3906,243.2031 43.375,242.0625 Q42.375,240.9219 42.375,238.3906 Z \"/><text fill=\"#000000\" font-family=\"sans-serif\" font-size=\"12\" font-style=\"italic\" lengthAdjust=\"spacingAndGlyphs\" textLength=\"69\" x=\"65.5\" y=\"233.6387\">«attribute»</text><text fill=\"#000000\" font-family=\"sans-serif\" font-size=\"12\" lengthAdjust=\"spacingAndGlyphs\" textLength=\"79\" x=\"60.5\" y=\"247.6074\">x: DataValue</text><line style=\"stroke: #A80036; stroke-width: 1.5;\" x1=\"32.5\" x2=\"141.5\" y1=\"255.4375\" y2=\"255.4375\"/><!--MD5=[2156ba9850f5573cc1fc38a6a4b2f02b]\n",
       "class E7--><rect fill=\"#FEFECE\" filter=\"url(#flr4xaq1j9ay8)\" height=\"45.9375\" id=\"E7\" rx=\"10\" ry=\"10\" style=\"stroke: #A80036; stroke-width: 1.5;\" width=\"111\" x=\"177.5\" y=\"217.5\"/><ellipse cx=\"192.5\" cy=\"236.4688\" fill=\"#FFA500\" rx=\"11\" ry=\"11\" style=\"stroke: #A80036; stroke-width: 1.0;\"/><path d=\"M188.375,238.3906 L188.375,230.5781 L190.8281,230.5781 L190.8281,239.0156 Q190.8281,239.9375 191.2969,240.4688 Q191.7813,241 192.6094,241 Q193.4531,241 193.9219,240.4688 Q194.3906,239.9375 194.3906,239.0156 L194.3906,230.5781 L196.8438,230.5781 L196.8438,238.3906 Q196.8438,240.9219 195.8438,242.0625 Q194.8438,243.2031 192.6094,243.2031 Q190.3906,243.2031 189.375,242.0625 Q188.375,240.9219 188.375,238.3906 Z \"/><text fill=\"#000000\" font-family=\"sans-serif\" font-size=\"12\" font-style=\"italic\" lengthAdjust=\"spacingAndGlyphs\" textLength=\"69\" x=\"211.5\" y=\"233.6387\">«attribute»</text><text fill=\"#000000\" font-family=\"sans-serif\" font-size=\"12\" lengthAdjust=\"spacingAndGlyphs\" textLength=\"79\" x=\"206.5\" y=\"247.6074\">y: DataValue</text><line style=\"stroke: #A80036; stroke-width: 1.5;\" x1=\"178.5\" x2=\"287.5\" y1=\"255.4375\" y2=\"255.4375\"/><!--MD5=[b9389687b975829384b498ac4b7476b2]\n",
       "class E8--><rect fill=\"#FEFECE\" filter=\"url(#flr4xaq1j9ay8)\" height=\"45.9375\" id=\"E8\" rx=\"10\" ry=\"10\" style=\"stroke: #A80036; stroke-width: 1.5;\" width=\"110\" x=\"85\" y=\"87.5\"/><ellipse cx=\"100\" cy=\"106.4688\" fill=\"#FFA500\" rx=\"11\" ry=\"11\" style=\"stroke: #A80036; stroke-width: 1.0;\"/><path d=\"M95.875,108.3906 L95.875,100.5781 L98.3281,100.5781 L98.3281,109.0156 Q98.3281,109.9375 98.7969,110.4688 Q99.2813,111 100.1094,111 Q100.9531,111 101.4219,110.4688 Q101.8906,109.9375 101.8906,109.0156 L101.8906,100.5781 L104.3438,100.5781 L104.3438,108.3906 Q104.3438,110.9219 103.3438,112.0625 Q102.3438,113.2031 100.1094,113.2031 Q97.8906,113.2031 96.875,112.0625 Q95.875,110.9219 95.875,108.3906 Z \"/><text fill=\"#000000\" font-family=\"sans-serif\" font-size=\"12\" font-style=\"italic\" lengthAdjust=\"spacingAndGlyphs\" textLength=\"69\" x=\"118.5\" y=\"103.6387\">«attribute»</text><text fill=\"#000000\" font-family=\"sans-serif\" font-size=\"12\" lengthAdjust=\"spacingAndGlyphs\" textLength=\"78\" x=\"114\" y=\"117.6074\">z: DataValue</text><line style=\"stroke: #A80036; stroke-width: 1.5;\" x1=\"86\" x2=\"194\" y1=\"125.4375\" y2=\"125.4375\"/><polygon fill=\"#FFFFFF\" filter=\"url(#flr4xaq1j9ay8)\" points=\"320,84,462,84,469,106.2969,476,106.2969,476,136.5938,320,136.5938,320,84\" style=\"stroke: #000000; stroke-width: 1.5;\"/><line style=\"stroke: #000000; stroke-width: 1.5;\" x1=\"320\" x2=\"469\" y1=\"106.2969\" y2=\"106.2969\"/><text fill=\"#000000\" font-family=\"sans-serif\" font-size=\"14\" font-weight=\"bold\" lengthAdjust=\"spacingAndGlyphs\" textLength=\"136\" x=\"324\" y=\"98.9951\">Application Layer</text><polygon fill=\"#FFFFFF\" filter=\"url(#flr4xaq1j9ay8)\" points=\"334,214,448,214,455,236.2969,462,236.2969,462,266.5938,334,266.5938,334,214\" style=\"stroke: #000000; stroke-width: 1.5;\"/><line style=\"stroke: #000000; stroke-width: 1.5;\" x1=\"334\" x2=\"455\" y1=\"236.2969\" y2=\"236.2969\"/><text fill=\"#000000\" font-family=\"sans-serif\" font-size=\"14\" font-weight=\"bold\" lengthAdjust=\"spacingAndGlyphs\" textLength=\"108\" x=\"338\" y=\"228.9951\">Service Layer</text><polygon fill=\"#FFFFFF\" filter=\"url(#flr4xaq1j9ay8)\" points=\"346,344,436,344,443,366.2969,450,366.2969,450,396.5938,346,396.5938,346,344\" style=\"stroke: #000000; stroke-width: 1.5;\"/><line style=\"stroke: #000000; stroke-width: 1.5;\" x1=\"346\" x2=\"443\" y1=\"366.2969\" y2=\"366.2969\"/><text fill=\"#000000\" font-family=\"sans-serif\" font-size=\"14\" font-weight=\"bold\" lengthAdjust=\"spacingAndGlyphs\" textLength=\"84\" x=\"350\" y=\"358.9951\">Data Layer</text><!--MD5=[af87c684e3b0d8be13c1a698a818ef1e]\n",
       "link E3 to E4--><path d=\"M398,137.1 C398,156.8 398,184.22 398,205.73 \" fill=\"none\" id=\"E3-&gt;E4\" style=\"stroke: #A80036; stroke-width: 1.0; stroke-dasharray: 7.0,7.0;\"/><polygon fill=\"#A80036\" points=\"398,213.95,401,205.95,395,205.95,398,213.95\" style=\"stroke: #A80036; stroke-width: 1.0;\"/><text fill=\"#000000\" font-family=\"sans-serif\" font-size=\"13\" lengthAdjust=\"spacingAndGlyphs\" textLength=\"64\" x=\"399\" y=\"180.0669\">«depend»</text><!--MD5=[1b7591eae5389033d8d09a9d6721a717]\n",
       "link E4 to E5--><path d=\"M398,267.1 C398,286.8 398,314.22 398,335.73 \" fill=\"none\" id=\"E4-&gt;E5\" style=\"stroke: #A80036; stroke-width: 1.0; stroke-dasharray: 7.0,7.0;\"/><polygon fill=\"#A80036\" points=\"398,343.95,401,335.95,395,335.95,398,343.95\" style=\"stroke: #A80036; stroke-width: 1.0;\"/><text fill=\"#000000\" font-family=\"sans-serif\" font-size=\"13\" lengthAdjust=\"spacingAndGlyphs\" textLength=\"64\" x=\"399\" y=\"310.0669\">«depend»</text><!--MD5=[c5e8897d989ce984f93528998a7150fe]\n",
       "link E8 to E6--><path d=\"M123.81,133.55 C117.2,143.39 109.96,155.37 105,167 C99.27,180.44 95.1,196.08 92.22,209.39 \" fill=\"none\" id=\"E8-&gt;E6\" style=\"stroke: #A80036; stroke-width: 1.0; stroke-dasharray: 7.0,7.0;\"/><polygon fill=\"#A80036\" points=\"90.6,217.34,95.1412,210.1027,89.2627,208.9013,90.6,217.34\" style=\"stroke: #A80036; stroke-width: 1.0;\"/><text fill=\"#000000\" font-family=\"sans-serif\" font-size=\"13\" lengthAdjust=\"spacingAndGlyphs\" textLength=\"64\" x=\"106\" y=\"180.0669\">«depend»</text><!--MD5=[bfa3c8b0d15052fdf50ae9310b491027]\n",
       "link E8 to E7--><path d=\"M155.99,133.5 C171.49,154.84 195.1,187.33 212.09,210.72 \" fill=\"none\" id=\"E8-&gt;E7\" style=\"stroke: #A80036; stroke-width: 1.0; stroke-dasharray: 7.0,7.0;\"/><polygon fill=\"#A80036\" points=\"216.91,217.35,214.6362,209.1141,209.7815,212.6399,216.91,217.35\" style=\"stroke: #A80036; stroke-width: 1.0;\"/><text fill=\"#000000\" font-family=\"sans-serif\" font-size=\"13\" lengthAdjust=\"spacingAndGlyphs\" textLength=\"64\" x=\"193\" y=\"180.0669\">«depend»</text><!--MD5=[92615851ccbfb07553e9044710eff62b]\n",
       "@startuml\r\n",
       " \r\n",
       "package \"DependencyTest\" as E1   {\r\n",
       "package \"System\" as E2   {\r\n",
       "package \"Application Layer\" as E3   {\r\n",
       "}\r\n",
       "package \"Service Layer\" as E4   {\r\n",
       "}\r\n",
       "package \"Data Layer\" as E5   {\r\n",
       "}\r\n",
       "}\r\n",
       "comp usage \"x: DataValue\" as E6  <<(U,orange)attribute>> {\r\n",
       "}\r\n",
       "comp usage \"y: DataValue\" as E7  <<(U,orange)attribute>> {\r\n",
       "}\r\n",
       "comp usage \"z: DataValue\" as E8  <<(U,orange)attribute>> {\r\n",
       "}\r\n",
       "E3 ..>> E4 : <<depend>>\r\n",
       "E4 ..>> E5 : <<depend>>\r\n",
       "E8 ..>> E6 : <<depend>>\r\n",
       "E8 ..>> E7 : <<depend>>\r\n",
       "}\r\n",
       "@enduml\r\n",
       "\n",
       "PlantUML version 1.2020.13(Sat Jun 13 12:26:38 UTC 2020)\n",
       "(EPL source distribution)\n",
       "Java Runtime: OpenJDK Runtime Environment\n",
       "JVM: OpenJDK 64-Bit Server VM\n",
       "Default Encoding: UTF-8\n",
       "Language: en\n",
       "Country: null\n",
       "--></g></svg>"
      ]
     },
     "execution_count": 31,
     "metadata": {},
     "output_type": "execute_result"
    }
   ],
   "source": [
    "%viz --style=\"PLANTUML\" --view=\"Tree\" \"DependencyTest\""
   ]
  },
  {
   "cell_type": "code",
   "execution_count": 32,
   "id": "global-magic",
   "metadata": {
    "execution": {
     "iopub.execute_input": "2021-03-26T09:43:56.580616Z",
     "iopub.status.busy": "2021-03-26T09:43:56.580138Z",
     "iopub.status.idle": "2021-03-26T09:43:56.581782Z",
     "shell.execute_reply": "2021-03-26T09:43:56.582269Z"
    }
   },
   "outputs": [
    {
     "data": {
      "text/plain": [
       "java.lang.IllegalArgumentException: Invalid View: State View candidates are: Default Tree StateMachine Interconnection Activity Sequence MIXED \n",
       "\tat org.omg.sysml.plantuml.SysML2PlantUMLSvc.setView(SysML2PlantUMLSvc.java:63)\n",
       "\tat org.omg.sysml.interactive.SysMLInteractive.viz(SysMLInteractive.java:286)\n",
       "\tat org.omg.sysml.jupyter.kernel.magic.Viz.viz(Viz.java:47)\n",
       "\tat jdk.internal.reflect.GeneratedMethodAccessor8.invoke(Unknown Source)\n",
       "\tat java.base/jdk.internal.reflect.DelegatingMethodAccessorImpl.invoke(DelegatingMethodAccessorImpl.java:43)\n",
       "\tat java.base/java.lang.reflect.Method.invoke(Method.java:568)\n",
       "\tat io.github.spencerpark.jupyter.kernel.magic.registry.Magics.invoke(Magics.java:89)\n",
       "\tat io.github.spencerpark.jupyter.kernel.magic.registry.Magics.access$000(Magics.java:8)\n",
       "\tat io.github.spencerpark.jupyter.kernel.magic.registry.Magics$LineReflectionMagicFunction.execute(Magics.java:149)\n",
       "\tat io.github.spencerpark.jupyter.kernel.magic.registry.Magics.applyLineMagic(Magics.java:26)\n",
       "\tat org.omg.sysml.jupyter.kernel.SysMLKernel.eval(SysMLKernel.java:76)\n",
       "\tat io.github.spencerpark.jupyter.kernel.BaseKernel.handleExecuteRequest(BaseKernel.java:334)\n",
       "\tat io.github.spencerpark.jupyter.channels.ShellChannel.lambda$bind$0(ShellChannel.java:64)\n",
       "\tat io.github.spencerpark.jupyter.channels.Loop.lambda$new$0(Loop.java:21)\n",
       "\tat io.github.spencerpark.jupyter.channels.Loop.run(Loop.java:78)\n"
      ]
     },
     "execution_count": 32,
     "metadata": {},
     "output_type": "execute_result"
    }
   ],
   "source": [
    "%viz --style=\"PLANTUML\" --view=\"State\" \"DependencyTest\""
   ]
  },
  {
   "cell_type": "code",
   "execution_count": 33,
   "id": "vanilla-commitment",
   "metadata": {
    "execution": {
     "iopub.execute_input": "2021-03-26T09:43:56.634531Z",
     "iopub.status.busy": "2021-03-26T09:43:56.633666Z",
     "iopub.status.idle": "2021-03-26T09:43:56.673241Z",
     "shell.execute_reply": "2021-03-26T09:43:56.672945Z"
    }
   },
   "outputs": [
    {
     "data": {
      "image/svg+xml": [
       "<?xml version=\"1.0\" encoding=\"UTF-8\" standalone=\"no\"?><svg xmlns=\"http://www.w3.org/2000/svg\" xmlns:xlink=\"http://www.w3.org/1999/xlink\" contentScriptType=\"application/ecmascript\" contentStyleType=\"text/css\" height=\"361px\" preserveAspectRatio=\"none\" style=\"width:529px;height:361px;\" version=\"1.1\" viewBox=\"0 0 529 361\" width=\"529px\" zoomAndPan=\"magnify\"><defs><filter height=\"300%\" id=\"f1qaa2v68l0735\" width=\"300%\" x=\"-1\" y=\"-1\"><feGaussianBlur result=\"blurOut\" stdDeviation=\"2.0\"/><feColorMatrix in=\"blurOut\" result=\"blurOut2\" type=\"matrix\" values=\"0 0 0 0 0 0 0 0 0 0 0 0 0 0 0 0 0 0 .4 0\"/><feOffset dx=\"4.0\" dy=\"4.0\" in=\"blurOut2\" result=\"blurOut3\"/><feBlend in=\"SourceGraphic\" in2=\"blurOut3\" mode=\"normal\"/></filter></defs><g><!--MD5=[fbc87193dbaf4d95561dea2c320d4a47]\n",
       "cluster E1--><polygon fill=\"#FFFFFF\" filter=\"url(#f1qaa2v68l0735)\" points=\"16,6,156,6,163,28.2969,507,28.2969,507,349,16,349,16,6\" style=\"stroke: #000000; stroke-width: 1.5;\"/><line style=\"stroke: #000000; stroke-width: 1.5;\" x1=\"16\" x2=\"163\" y1=\"28.2969\" y2=\"28.2969\"/><text fill=\"#000000\" font-family=\"sans-serif\" font-size=\"14\" font-weight=\"bold\" lengthAdjust=\"spacingAndGlyphs\" textLength=\"134\" x=\"20\" y=\"20.9951\">DependencyTest</text><!--MD5=[e4f7fae6ed58524ba242bb0b0d3be6b7]\n",
       "cluster E2--><polygon fill=\"#FFFFFF\" filter=\"url(#f1qaa2v68l0735)\" points=\"295,49,359,49,366,71.2969,483,71.2969,483,325,295,325,295,49\" style=\"stroke: #000000; stroke-width: 1.5;\"/><line style=\"stroke: #000000; stroke-width: 1.5;\" x1=\"295\" x2=\"366\" y1=\"71.2969\" y2=\"71.2969\"/><text fill=\"#000000\" font-family=\"sans-serif\" font-size=\"14\" font-weight=\"bold\" lengthAdjust=\"spacingAndGlyphs\" textLength=\"58\" x=\"299\" y=\"63.9951\">System</text><polygon fill=\"#FFFFFF\" filter=\"url(#f1qaa2v68l0735)\" points=\"311,84,453,84,460,106.2969,467,106.2969,467,136.5938,311,136.5938,311,84\" style=\"stroke: #000000; stroke-width: 1.5;\"/><line style=\"stroke: #000000; stroke-width: 1.5;\" x1=\"311\" x2=\"460\" y1=\"106.2969\" y2=\"106.2969\"/><text fill=\"#000000\" font-family=\"sans-serif\" font-size=\"14\" font-weight=\"bold\" lengthAdjust=\"spacingAndGlyphs\" textLength=\"136\" x=\"315\" y=\"98.9951\">Application Layer</text><polygon fill=\"#FFFFFF\" filter=\"url(#f1qaa2v68l0735)\" points=\"325,170,439,170,446,192.2969,453,192.2969,453,222.5938,325,222.5938,325,170\" style=\"stroke: #000000; stroke-width: 1.5;\"/><line style=\"stroke: #000000; stroke-width: 1.5;\" x1=\"325\" x2=\"446\" y1=\"192.2969\" y2=\"192.2969\"/><text fill=\"#000000\" font-family=\"sans-serif\" font-size=\"14\" font-weight=\"bold\" lengthAdjust=\"spacingAndGlyphs\" textLength=\"108\" x=\"329\" y=\"184.9951\">Service Layer</text><polygon fill=\"#FFFFFF\" filter=\"url(#f1qaa2v68l0735)\" points=\"337,256,427,256,434,278.2969,441,278.2969,441,308.5938,337,308.5938,337,256\" style=\"stroke: #000000; stroke-width: 1.5;\"/><line style=\"stroke: #000000; stroke-width: 1.5;\" x1=\"337\" x2=\"434\" y1=\"278.2969\" y2=\"278.2969\"/><text fill=\"#000000\" font-family=\"sans-serif\" font-size=\"14\" font-weight=\"bold\" lengthAdjust=\"spacingAndGlyphs\" textLength=\"84\" x=\"341\" y=\"270.9951\">Data Layer</text><g id=\"E1.E6\"><rect fill=\"#FFFFFF\" filter=\"url(#f1qaa2v68l0735)\" height=\"50\" rx=\"12.5\" ry=\"12.5\" style=\"stroke: #A80036; stroke-width: 1.5;\" width=\"106\" x=\"32\" y=\"171.5\"/><line style=\"stroke: #A80036; stroke-width: 1.5;\" x1=\"32\" x2=\"138\" y1=\"197.7969\" y2=\"197.7969\"/><text fill=\"#000000\" font-family=\"sans-serif\" font-size=\"14\" lengthAdjust=\"spacingAndGlyphs\" textLength=\"86\" x=\"42\" y=\"189.4951\">x: DataValue</text></g><g id=\"E1.E7\"><rect fill=\"#FFFFFF\" filter=\"url(#f1qaa2v68l0735)\" height=\"50\" rx=\"12.5\" ry=\"12.5\" style=\"stroke: #A80036; stroke-width: 1.5;\" width=\"106\" x=\"173\" y=\"171.5\"/><line style=\"stroke: #A80036; stroke-width: 1.5;\" x1=\"173\" x2=\"279\" y1=\"197.7969\" y2=\"197.7969\"/><text fill=\"#000000\" font-family=\"sans-serif\" font-size=\"14\" lengthAdjust=\"spacingAndGlyphs\" textLength=\"86\" x=\"183\" y=\"189.4951\">y: DataValue</text></g><g id=\"E1.E8\"><rect fill=\"#FFFFFF\" filter=\"url(#f1qaa2v68l0735)\" height=\"50\" rx=\"12.5\" ry=\"12.5\" style=\"stroke: #A80036; stroke-width: 1.5;\" width=\"107\" x=\"84.5\" y=\"85.5\"/><line style=\"stroke: #A80036; stroke-width: 1.5;\" x1=\"84.5\" x2=\"191.5\" y1=\"111.7969\" y2=\"111.7969\"/><text fill=\"#000000\" font-family=\"sans-serif\" font-size=\"14\" lengthAdjust=\"spacingAndGlyphs\" textLength=\"87\" x=\"94.5\" y=\"103.4951\">z: DataValue</text></g><!--MD5=[af87c684e3b0d8be13c1a698a818ef1e]\n",
       "link E3 to E4--><path d=\"M389,137.16 C389,144.98 389,153.69 389,161.94 \" fill=\"none\" id=\"E3-&gt;E4\" style=\"stroke: #A80036; stroke-width: 1.0; stroke-dasharray: 7.0,7.0;\"/><polygon fill=\"#A80036\" points=\"389,170,392,162,386,162,389,170\" style=\"stroke: #A80036; stroke-width: 1.0;\"/><text fill=\"#000000\" font-family=\"sans-serif\" font-size=\"13\" lengthAdjust=\"spacingAndGlyphs\" textLength=\"64\" x=\"390\" y=\"158.0669\">«depend»</text><!--MD5=[1b7591eae5389033d8d09a9d6721a717]\n",
       "link E4 to E5--><path d=\"M389,223.16 C389,230.98 389,239.69 389,247.94 \" fill=\"none\" id=\"E4-&gt;E5\" style=\"stroke: #A80036; stroke-width: 1.0; stroke-dasharray: 7.0,7.0;\"/><polygon fill=\"#A80036\" points=\"389,256,392,248,386,248,389,256\" style=\"stroke: #A80036; stroke-width: 1.0;\"/><text fill=\"#000000\" font-family=\"sans-serif\" font-size=\"13\" lengthAdjust=\"spacingAndGlyphs\" textLength=\"64\" x=\"390\" y=\"244.0669\">«depend»</text><!--MD5=[c5e8897d989ce984f93528998a7150fe]\n",
       "link E8 to E6--><path d=\"M105.13,135.85 C102.47,138.72 100.03,141.78 98,145 C94.5,150.55 91.94,156.99 90.07,163.39 \" fill=\"none\" id=\"E8-&gt;E6\" style=\"stroke: #A80036; stroke-width: 1.0; stroke-dasharray: 7.0,7.0;\"/><polygon fill=\"#A80036\" points=\"88.05,171.4,92.9159,164.377,87.0982,162.9092,88.05,171.4\" style=\"stroke: #A80036; stroke-width: 1.0;\"/><text fill=\"#000000\" font-family=\"sans-serif\" font-size=\"13\" lengthAdjust=\"spacingAndGlyphs\" textLength=\"64\" x=\"99\" y=\"158.0669\">«depend»</text><!--MD5=[bfa3c8b0d15052fdf50ae9310b491027]\n",
       "link E8 to E7--><path d=\"M163.45,135.8 C173.21,145.11 184.46,155.85 194.71,165.63 \" fill=\"none\" id=\"E8-&gt;E7\" style=\"stroke: #A80036; stroke-width: 1.0; stroke-dasharray: 7.0,7.0;\"/><polygon fill=\"#A80036\" points=\"200.6,171.26,196.8886,163.5642,192.7435,167.9021,200.6,171.26\" style=\"stroke: #A80036; stroke-width: 1.0;\"/><text fill=\"#000000\" font-family=\"sans-serif\" font-size=\"13\" lengthAdjust=\"spacingAndGlyphs\" textLength=\"64\" x=\"190\" y=\"158.0669\">«depend»</text><!--MD5=[1433ba368ac868662a3fff940f5f715a]\n",
       "@startuml\r\n",
       "skinparam ranksep 8\r\n",
       "skinparam rectangle {\r\n",
       " backgroundColor<<block>> LightGreen\r\n",
       "}\r\n",
       " \r\n",
       "package \"DependencyTest\" as E1   {\r\n",
       "package \"System\" as E2   {\r\n",
       "package \"Application Layer\" as E3   {\r\n",
       "}\r\n",
       "package \"Service Layer\" as E4   {\r\n",
       "}\r\n",
       "package \"Data Layer\" as E5   {\r\n",
       "}\r\n",
       "}\r\n",
       "rec usage \"x: DataValue\" as E6  <<attribute>> {\r\n",
       "}\r\n",
       "rec usage \"y: DataValue\" as E7  <<attribute>> {\r\n",
       "}\r\n",
       "rec usage \"z: DataValue\" as E8  <<attribute>> {\r\n",
       "}\r\n",
       "E3 ..>> E4 : <<depend>>\r\n",
       "E4 ..>> E5 : <<depend>>\r\n",
       "E8 ..>> E6 : <<depend>>\r\n",
       "E8 ..>> E7 : <<depend>>\r\n",
       "}\r\n",
       "@enduml\r\n",
       "\n",
       "PlantUML version 1.2020.13(Sat Jun 13 12:26:38 UTC 2020)\n",
       "(EPL source distribution)\n",
       "Java Runtime: OpenJDK Runtime Environment\n",
       "JVM: OpenJDK 64-Bit Server VM\n",
       "Default Encoding: UTF-8\n",
       "Language: en\n",
       "Country: null\n",
       "--></g></svg>"
      ]
     },
     "execution_count": 33,
     "metadata": {},
     "output_type": "execute_result"
    }
   ],
   "source": [
    "%viz --style=\"PLANTUML\" --view=\"Interconnection\" \"DependencyTest\""
   ]
  },
  {
   "cell_type": "code",
   "execution_count": 34,
   "id": "rental-participant",
   "metadata": {
    "execution": {
     "iopub.execute_input": "2021-03-26T09:43:56.723687Z",
     "iopub.status.busy": "2021-03-26T09:43:56.723285Z",
     "iopub.status.idle": "2021-03-26T09:43:56.724638Z",
     "shell.execute_reply": "2021-03-26T09:43:56.724955Z"
    }
   },
   "outputs": [
    {
     "data": {
      "text/plain": [
       "java.lang.IllegalArgumentException: Invalid View: Action View candidates are: Default Tree StateMachine Interconnection Activity Sequence MIXED \n",
       "\tat org.omg.sysml.plantuml.SysML2PlantUMLSvc.setView(SysML2PlantUMLSvc.java:63)\n",
       "\tat org.omg.sysml.interactive.SysMLInteractive.viz(SysMLInteractive.java:286)\n",
       "\tat org.omg.sysml.jupyter.kernel.magic.Viz.viz(Viz.java:47)\n",
       "\tat jdk.internal.reflect.GeneratedMethodAccessor8.invoke(Unknown Source)\n",
       "\tat java.base/jdk.internal.reflect.DelegatingMethodAccessorImpl.invoke(DelegatingMethodAccessorImpl.java:43)\n",
       "\tat java.base/java.lang.reflect.Method.invoke(Method.java:568)\n",
       "\tat io.github.spencerpark.jupyter.kernel.magic.registry.Magics.invoke(Magics.java:89)\n",
       "\tat io.github.spencerpark.jupyter.kernel.magic.registry.Magics.access$000(Magics.java:8)\n",
       "\tat io.github.spencerpark.jupyter.kernel.magic.registry.Magics$LineReflectionMagicFunction.execute(Magics.java:149)\n",
       "\tat io.github.spencerpark.jupyter.kernel.magic.registry.Magics.applyLineMagic(Magics.java:26)\n",
       "\tat org.omg.sysml.jupyter.kernel.SysMLKernel.eval(SysMLKernel.java:76)\n",
       "\tat io.github.spencerpark.jupyter.kernel.BaseKernel.handleExecuteRequest(BaseKernel.java:334)\n",
       "\tat io.github.spencerpark.jupyter.channels.ShellChannel.lambda$bind$0(ShellChannel.java:64)\n",
       "\tat io.github.spencerpark.jupyter.channels.Loop.lambda$new$0(Loop.java:21)\n",
       "\tat io.github.spencerpark.jupyter.channels.Loop.run(Loop.java:78)\n"
      ]
     },
     "execution_count": 34,
     "metadata": {},
     "output_type": "execute_result"
    }
   ],
   "source": [
    "%viz --style=\"PLANTUML\" --view=\"Action\" \"DependencyTest\""
   ]
  },
  {
   "cell_type": "code",
   "execution_count": 35,
   "id": "considerable-spirit",
   "metadata": {
    "execution": {
     "iopub.execute_input": "2021-03-26T09:43:56.776157Z",
     "iopub.status.busy": "2021-03-26T09:43:56.775791Z",
     "iopub.status.idle": "2021-03-26T09:43:56.815543Z",
     "shell.execute_reply": "2021-03-26T09:43:56.814291Z"
    }
   },
   "outputs": [
    {
     "data": {
      "image/svg+xml": [
       "<?xml version=\"1.0\" encoding=\"UTF-8\" standalone=\"no\"?><svg xmlns=\"http://www.w3.org/2000/svg\" xmlns:xlink=\"http://www.w3.org/1999/xlink\" contentScriptType=\"application/ecmascript\" contentStyleType=\"text/css\" height=\"449px\" preserveAspectRatio=\"none\" style=\"width:538px;height:449px;\" version=\"1.1\" viewBox=\"0 0 538 449\" width=\"538px\" zoomAndPan=\"magnify\"><defs><filter height=\"300%\" id=\"flr4xaq1j9ay8\" width=\"300%\" x=\"-1\" y=\"-1\"><feGaussianBlur result=\"blurOut\" stdDeviation=\"2.0\"/><feColorMatrix in=\"blurOut\" result=\"blurOut2\" type=\"matrix\" values=\"0 0 0 0 0 0 0 0 0 0 0 0 0 0 0 0 0 0 .4 0\"/><feOffset dx=\"4.0\" dy=\"4.0\" in=\"blurOut2\" result=\"blurOut3\"/><feBlend in=\"SourceGraphic\" in2=\"blurOut3\" mode=\"normal\"/></filter></defs><g><!--MD5=[fbc87193dbaf4d95561dea2c320d4a47]\n",
       "cluster E1--><polygon fill=\"#FFFFFF\" filter=\"url(#flr4xaq1j9ay8)\" points=\"16,6,156,6,163,28.2969,516,28.2969,516,437,16,437,16,6\" style=\"stroke: #000000; stroke-width: 1.5;\"/><line style=\"stroke: #000000; stroke-width: 1.5;\" x1=\"16\" x2=\"163\" y1=\"28.2969\" y2=\"28.2969\"/><text fill=\"#000000\" font-family=\"sans-serif\" font-size=\"14\" font-weight=\"bold\" lengthAdjust=\"spacingAndGlyphs\" textLength=\"134\" x=\"20\" y=\"20.9951\">DependencyTest</text><!--MD5=[e4f7fae6ed58524ba242bb0b0d3be6b7]\n",
       "cluster E2--><polygon fill=\"#FFFFFF\" filter=\"url(#flr4xaq1j9ay8)\" points=\"304,49,368,49,375,71.2969,492,71.2969,492,413,304,413,304,49\" style=\"stroke: #000000; stroke-width: 1.5;\"/><line style=\"stroke: #000000; stroke-width: 1.5;\" x1=\"304\" x2=\"375\" y1=\"71.2969\" y2=\"71.2969\"/><text fill=\"#000000\" font-family=\"sans-serif\" font-size=\"14\" font-weight=\"bold\" lengthAdjust=\"spacingAndGlyphs\" textLength=\"58\" x=\"308\" y=\"63.9951\">System</text><!--MD5=[60a26617385b1d2d0262a64233df1f8d]\n",
       "class E6--><rect fill=\"#FEFECE\" filter=\"url(#flr4xaq1j9ay8)\" height=\"45.9375\" id=\"E6\" rx=\"10\" ry=\"10\" style=\"stroke: #A80036; stroke-width: 1.5;\" width=\"111\" x=\"31.5\" y=\"217.5\"/><ellipse cx=\"46.5\" cy=\"236.4688\" fill=\"#FFA500\" rx=\"11\" ry=\"11\" style=\"stroke: #A80036; stroke-width: 1.0;\"/><path d=\"M42.375,238.3906 L42.375,230.5781 L44.8281,230.5781 L44.8281,239.0156 Q44.8281,239.9375 45.2969,240.4688 Q45.7813,241 46.6094,241 Q47.4531,241 47.9219,240.4688 Q48.3906,239.9375 48.3906,239.0156 L48.3906,230.5781 L50.8438,230.5781 L50.8438,238.3906 Q50.8438,240.9219 49.8438,242.0625 Q48.8438,243.2031 46.6094,243.2031 Q44.3906,243.2031 43.375,242.0625 Q42.375,240.9219 42.375,238.3906 Z \"/><text fill=\"#000000\" font-family=\"sans-serif\" font-size=\"12\" font-style=\"italic\" lengthAdjust=\"spacingAndGlyphs\" textLength=\"69\" x=\"65.5\" y=\"233.6387\">«attribute»</text><text fill=\"#000000\" font-family=\"sans-serif\" font-size=\"12\" lengthAdjust=\"spacingAndGlyphs\" textLength=\"79\" x=\"60.5\" y=\"247.6074\">x: DataValue</text><line style=\"stroke: #A80036; stroke-width: 1.5;\" x1=\"32.5\" x2=\"141.5\" y1=\"255.4375\" y2=\"255.4375\"/><!--MD5=[2156ba9850f5573cc1fc38a6a4b2f02b]\n",
       "class E7--><rect fill=\"#FEFECE\" filter=\"url(#flr4xaq1j9ay8)\" height=\"45.9375\" id=\"E7\" rx=\"10\" ry=\"10\" style=\"stroke: #A80036; stroke-width: 1.5;\" width=\"111\" x=\"177.5\" y=\"217.5\"/><ellipse cx=\"192.5\" cy=\"236.4688\" fill=\"#FFA500\" rx=\"11\" ry=\"11\" style=\"stroke: #A80036; stroke-width: 1.0;\"/><path d=\"M188.375,238.3906 L188.375,230.5781 L190.8281,230.5781 L190.8281,239.0156 Q190.8281,239.9375 191.2969,240.4688 Q191.7813,241 192.6094,241 Q193.4531,241 193.9219,240.4688 Q194.3906,239.9375 194.3906,239.0156 L194.3906,230.5781 L196.8438,230.5781 L196.8438,238.3906 Q196.8438,240.9219 195.8438,242.0625 Q194.8438,243.2031 192.6094,243.2031 Q190.3906,243.2031 189.375,242.0625 Q188.375,240.9219 188.375,238.3906 Z \"/><text fill=\"#000000\" font-family=\"sans-serif\" font-size=\"12\" font-style=\"italic\" lengthAdjust=\"spacingAndGlyphs\" textLength=\"69\" x=\"211.5\" y=\"233.6387\">«attribute»</text><text fill=\"#000000\" font-family=\"sans-serif\" font-size=\"12\" lengthAdjust=\"spacingAndGlyphs\" textLength=\"79\" x=\"206.5\" y=\"247.6074\">y: DataValue</text><line style=\"stroke: #A80036; stroke-width: 1.5;\" x1=\"178.5\" x2=\"287.5\" y1=\"255.4375\" y2=\"255.4375\"/><!--MD5=[b9389687b975829384b498ac4b7476b2]\n",
       "class E8--><rect fill=\"#FEFECE\" filter=\"url(#flr4xaq1j9ay8)\" height=\"45.9375\" id=\"E8\" rx=\"10\" ry=\"10\" style=\"stroke: #A80036; stroke-width: 1.5;\" width=\"110\" x=\"85\" y=\"87.5\"/><ellipse cx=\"100\" cy=\"106.4688\" fill=\"#FFA500\" rx=\"11\" ry=\"11\" style=\"stroke: #A80036; stroke-width: 1.0;\"/><path d=\"M95.875,108.3906 L95.875,100.5781 L98.3281,100.5781 L98.3281,109.0156 Q98.3281,109.9375 98.7969,110.4688 Q99.2813,111 100.1094,111 Q100.9531,111 101.4219,110.4688 Q101.8906,109.9375 101.8906,109.0156 L101.8906,100.5781 L104.3438,100.5781 L104.3438,108.3906 Q104.3438,110.9219 103.3438,112.0625 Q102.3438,113.2031 100.1094,113.2031 Q97.8906,113.2031 96.875,112.0625 Q95.875,110.9219 95.875,108.3906 Z \"/><text fill=\"#000000\" font-family=\"sans-serif\" font-size=\"12\" font-style=\"italic\" lengthAdjust=\"spacingAndGlyphs\" textLength=\"69\" x=\"118.5\" y=\"103.6387\">«attribute»</text><text fill=\"#000000\" font-family=\"sans-serif\" font-size=\"12\" lengthAdjust=\"spacingAndGlyphs\" textLength=\"78\" x=\"114\" y=\"117.6074\">z: DataValue</text><line style=\"stroke: #A80036; stroke-width: 1.5;\" x1=\"86\" x2=\"194\" y1=\"125.4375\" y2=\"125.4375\"/><polygon fill=\"#FFFFFF\" filter=\"url(#flr4xaq1j9ay8)\" points=\"320,84,462,84,469,106.2969,476,106.2969,476,136.5938,320,136.5938,320,84\" style=\"stroke: #000000; stroke-width: 1.5;\"/><line style=\"stroke: #000000; stroke-width: 1.5;\" x1=\"320\" x2=\"469\" y1=\"106.2969\" y2=\"106.2969\"/><text fill=\"#000000\" font-family=\"sans-serif\" font-size=\"14\" font-weight=\"bold\" lengthAdjust=\"spacingAndGlyphs\" textLength=\"136\" x=\"324\" y=\"98.9951\">Application Layer</text><polygon fill=\"#FFFFFF\" filter=\"url(#flr4xaq1j9ay8)\" points=\"334,214,448,214,455,236.2969,462,236.2969,462,266.5938,334,266.5938,334,214\" style=\"stroke: #000000; stroke-width: 1.5;\"/><line style=\"stroke: #000000; stroke-width: 1.5;\" x1=\"334\" x2=\"455\" y1=\"236.2969\" y2=\"236.2969\"/><text fill=\"#000000\" font-family=\"sans-serif\" font-size=\"14\" font-weight=\"bold\" lengthAdjust=\"spacingAndGlyphs\" textLength=\"108\" x=\"338\" y=\"228.9951\">Service Layer</text><polygon fill=\"#FFFFFF\" filter=\"url(#flr4xaq1j9ay8)\" points=\"346,344,436,344,443,366.2969,450,366.2969,450,396.5938,346,396.5938,346,344\" style=\"stroke: #000000; stroke-width: 1.5;\"/><line style=\"stroke: #000000; stroke-width: 1.5;\" x1=\"346\" x2=\"443\" y1=\"366.2969\" y2=\"366.2969\"/><text fill=\"#000000\" font-family=\"sans-serif\" font-size=\"14\" font-weight=\"bold\" lengthAdjust=\"spacingAndGlyphs\" textLength=\"84\" x=\"350\" y=\"358.9951\">Data Layer</text><!--MD5=[af87c684e3b0d8be13c1a698a818ef1e]\n",
       "link E3 to E4--><path d=\"M398,137.1 C398,156.8 398,184.22 398,205.73 \" fill=\"none\" id=\"E3-&gt;E4\" style=\"stroke: #A80036; stroke-width: 1.0; stroke-dasharray: 7.0,7.0;\"/><polygon fill=\"#A80036\" points=\"398,213.95,401,205.95,395,205.95,398,213.95\" style=\"stroke: #A80036; stroke-width: 1.0;\"/><text fill=\"#000000\" font-family=\"sans-serif\" font-size=\"13\" lengthAdjust=\"spacingAndGlyphs\" textLength=\"64\" x=\"399\" y=\"180.0669\">«depend»</text><!--MD5=[1b7591eae5389033d8d09a9d6721a717]\n",
       "link E4 to E5--><path d=\"M398,267.1 C398,286.8 398,314.22 398,335.73 \" fill=\"none\" id=\"E4-&gt;E5\" style=\"stroke: #A80036; stroke-width: 1.0; stroke-dasharray: 7.0,7.0;\"/><polygon fill=\"#A80036\" points=\"398,343.95,401,335.95,395,335.95,398,343.95\" style=\"stroke: #A80036; stroke-width: 1.0;\"/><text fill=\"#000000\" font-family=\"sans-serif\" font-size=\"13\" lengthAdjust=\"spacingAndGlyphs\" textLength=\"64\" x=\"399\" y=\"310.0669\">«depend»</text><!--MD5=[c5e8897d989ce984f93528998a7150fe]\n",
       "link E8 to E6--><path d=\"M123.81,133.55 C117.2,143.39 109.96,155.37 105,167 C99.27,180.44 95.1,196.08 92.22,209.39 \" fill=\"none\" id=\"E8-&gt;E6\" style=\"stroke: #A80036; stroke-width: 1.0; stroke-dasharray: 7.0,7.0;\"/><polygon fill=\"#A80036\" points=\"90.6,217.34,95.1412,210.1027,89.2627,208.9013,90.6,217.34\" style=\"stroke: #A80036; stroke-width: 1.0;\"/><text fill=\"#000000\" font-family=\"sans-serif\" font-size=\"13\" lengthAdjust=\"spacingAndGlyphs\" textLength=\"64\" x=\"106\" y=\"180.0669\">«depend»</text><!--MD5=[bfa3c8b0d15052fdf50ae9310b491027]\n",
       "link E8 to E7--><path d=\"M155.99,133.5 C171.49,154.84 195.1,187.33 212.09,210.72 \" fill=\"none\" id=\"E8-&gt;E7\" style=\"stroke: #A80036; stroke-width: 1.0; stroke-dasharray: 7.0,7.0;\"/><polygon fill=\"#A80036\" points=\"216.91,217.35,214.6362,209.1141,209.7815,212.6399,216.91,217.35\" style=\"stroke: #A80036; stroke-width: 1.0;\"/><text fill=\"#000000\" font-family=\"sans-serif\" font-size=\"13\" lengthAdjust=\"spacingAndGlyphs\" textLength=\"64\" x=\"193\" y=\"180.0669\">«depend»</text><!--MD5=[92615851ccbfb07553e9044710eff62b]\n",
       "@startuml\r\n",
       " \r\n",
       "package \"DependencyTest\" as E1   {\r\n",
       "package \"System\" as E2   {\r\n",
       "package \"Application Layer\" as E3   {\r\n",
       "}\r\n",
       "package \"Service Layer\" as E4   {\r\n",
       "}\r\n",
       "package \"Data Layer\" as E5   {\r\n",
       "}\r\n",
       "}\r\n",
       "comp usage \"x: DataValue\" as E6  <<(U,orange)attribute>> {\r\n",
       "}\r\n",
       "comp usage \"y: DataValue\" as E7  <<(U,orange)attribute>> {\r\n",
       "}\r\n",
       "comp usage \"z: DataValue\" as E8  <<(U,orange)attribute>> {\r\n",
       "}\r\n",
       "E3 ..>> E4 : <<depend>>\r\n",
       "E4 ..>> E5 : <<depend>>\r\n",
       "E8 ..>> E6 : <<depend>>\r\n",
       "E8 ..>> E7 : <<depend>>\r\n",
       "}\r\n",
       "@enduml\r\n",
       "\n",
       "PlantUML version 1.2020.13(Sat Jun 13 12:26:38 UTC 2020)\n",
       "(EPL source distribution)\n",
       "Java Runtime: OpenJDK Runtime Environment\n",
       "JVM: OpenJDK 64-Bit Server VM\n",
       "Default Encoding: UTF-8\n",
       "Language: en\n",
       "Country: null\n",
       "--></g></svg>"
      ]
     },
     "execution_count": 35,
     "metadata": {},
     "output_type": "execute_result"
    }
   ],
   "source": [
    "%viz --style=\"PLANTUML\" --view=\"Sequence\" \"DependencyTest\""
   ]
  },
  {
   "cell_type": "code",
   "execution_count": 36,
   "id": "innovative-registration",
   "metadata": {
    "execution": {
     "iopub.execute_input": "2021-03-26T09:43:56.869605Z",
     "iopub.status.busy": "2021-03-26T09:43:56.868845Z",
     "iopub.status.idle": "2021-03-26T09:43:56.904120Z",
     "shell.execute_reply": "2021-03-26T09:43:56.903829Z"
    }
   },
   "outputs": [
    {
     "data": {
      "image/svg+xml": [
       "<?xml version=\"1.0\" encoding=\"UTF-8\" standalone=\"no\"?><svg xmlns=\"http://www.w3.org/2000/svg\" xmlns:xlink=\"http://www.w3.org/1999/xlink\" contentScriptType=\"application/ecmascript\" contentStyleType=\"text/css\" height=\"449px\" preserveAspectRatio=\"none\" style=\"width:538px;height:449px;\" version=\"1.1\" viewBox=\"0 0 538 449\" width=\"538px\" zoomAndPan=\"magnify\"><defs><filter height=\"300%\" id=\"flr4xaq1j9ay8\" width=\"300%\" x=\"-1\" y=\"-1\"><feGaussianBlur result=\"blurOut\" stdDeviation=\"2.0\"/><feColorMatrix in=\"blurOut\" result=\"blurOut2\" type=\"matrix\" values=\"0 0 0 0 0 0 0 0 0 0 0 0 0 0 0 0 0 0 .4 0\"/><feOffset dx=\"4.0\" dy=\"4.0\" in=\"blurOut2\" result=\"blurOut3\"/><feBlend in=\"SourceGraphic\" in2=\"blurOut3\" mode=\"normal\"/></filter></defs><g><!--MD5=[fbc87193dbaf4d95561dea2c320d4a47]\n",
       "cluster E1--><polygon fill=\"#FFFFFF\" filter=\"url(#flr4xaq1j9ay8)\" points=\"16,6,156,6,163,28.2969,516,28.2969,516,437,16,437,16,6\" style=\"stroke: #000000; stroke-width: 1.5;\"/><line style=\"stroke: #000000; stroke-width: 1.5;\" x1=\"16\" x2=\"163\" y1=\"28.2969\" y2=\"28.2969\"/><text fill=\"#000000\" font-family=\"sans-serif\" font-size=\"14\" font-weight=\"bold\" lengthAdjust=\"spacingAndGlyphs\" textLength=\"134\" x=\"20\" y=\"20.9951\">DependencyTest</text><!--MD5=[e4f7fae6ed58524ba242bb0b0d3be6b7]\n",
       "cluster E2--><polygon fill=\"#FFFFFF\" filter=\"url(#flr4xaq1j9ay8)\" points=\"304,49,368,49,375,71.2969,492,71.2969,492,413,304,413,304,49\" style=\"stroke: #000000; stroke-width: 1.5;\"/><line style=\"stroke: #000000; stroke-width: 1.5;\" x1=\"304\" x2=\"375\" y1=\"71.2969\" y2=\"71.2969\"/><text fill=\"#000000\" font-family=\"sans-serif\" font-size=\"14\" font-weight=\"bold\" lengthAdjust=\"spacingAndGlyphs\" textLength=\"58\" x=\"308\" y=\"63.9951\">System</text><!--MD5=[60a26617385b1d2d0262a64233df1f8d]\n",
       "class E6--><rect fill=\"#FEFECE\" filter=\"url(#flr4xaq1j9ay8)\" height=\"45.9375\" id=\"E6\" rx=\"10\" ry=\"10\" style=\"stroke: #A80036; stroke-width: 1.5;\" width=\"111\" x=\"31.5\" y=\"217.5\"/><ellipse cx=\"46.5\" cy=\"236.4688\" fill=\"#FFA500\" rx=\"11\" ry=\"11\" style=\"stroke: #A80036; stroke-width: 1.0;\"/><path d=\"M42.375,238.3906 L42.375,230.5781 L44.8281,230.5781 L44.8281,239.0156 Q44.8281,239.9375 45.2969,240.4688 Q45.7813,241 46.6094,241 Q47.4531,241 47.9219,240.4688 Q48.3906,239.9375 48.3906,239.0156 L48.3906,230.5781 L50.8438,230.5781 L50.8438,238.3906 Q50.8438,240.9219 49.8438,242.0625 Q48.8438,243.2031 46.6094,243.2031 Q44.3906,243.2031 43.375,242.0625 Q42.375,240.9219 42.375,238.3906 Z \"/><text fill=\"#000000\" font-family=\"sans-serif\" font-size=\"12\" font-style=\"italic\" lengthAdjust=\"spacingAndGlyphs\" textLength=\"69\" x=\"65.5\" y=\"233.6387\">«attribute»</text><text fill=\"#000000\" font-family=\"sans-serif\" font-size=\"12\" lengthAdjust=\"spacingAndGlyphs\" textLength=\"79\" x=\"60.5\" y=\"247.6074\">x: DataValue</text><line style=\"stroke: #A80036; stroke-width: 1.5;\" x1=\"32.5\" x2=\"141.5\" y1=\"255.4375\" y2=\"255.4375\"/><!--MD5=[2156ba9850f5573cc1fc38a6a4b2f02b]\n",
       "class E7--><rect fill=\"#FEFECE\" filter=\"url(#flr4xaq1j9ay8)\" height=\"45.9375\" id=\"E7\" rx=\"10\" ry=\"10\" style=\"stroke: #A80036; stroke-width: 1.5;\" width=\"111\" x=\"177.5\" y=\"217.5\"/><ellipse cx=\"192.5\" cy=\"236.4688\" fill=\"#FFA500\" rx=\"11\" ry=\"11\" style=\"stroke: #A80036; stroke-width: 1.0;\"/><path d=\"M188.375,238.3906 L188.375,230.5781 L190.8281,230.5781 L190.8281,239.0156 Q190.8281,239.9375 191.2969,240.4688 Q191.7813,241 192.6094,241 Q193.4531,241 193.9219,240.4688 Q194.3906,239.9375 194.3906,239.0156 L194.3906,230.5781 L196.8438,230.5781 L196.8438,238.3906 Q196.8438,240.9219 195.8438,242.0625 Q194.8438,243.2031 192.6094,243.2031 Q190.3906,243.2031 189.375,242.0625 Q188.375,240.9219 188.375,238.3906 Z \"/><text fill=\"#000000\" font-family=\"sans-serif\" font-size=\"12\" font-style=\"italic\" lengthAdjust=\"spacingAndGlyphs\" textLength=\"69\" x=\"211.5\" y=\"233.6387\">«attribute»</text><text fill=\"#000000\" font-family=\"sans-serif\" font-size=\"12\" lengthAdjust=\"spacingAndGlyphs\" textLength=\"79\" x=\"206.5\" y=\"247.6074\">y: DataValue</text><line style=\"stroke: #A80036; stroke-width: 1.5;\" x1=\"178.5\" x2=\"287.5\" y1=\"255.4375\" y2=\"255.4375\"/><!--MD5=[b9389687b975829384b498ac4b7476b2]\n",
       "class E8--><rect fill=\"#FEFECE\" filter=\"url(#flr4xaq1j9ay8)\" height=\"45.9375\" id=\"E8\" rx=\"10\" ry=\"10\" style=\"stroke: #A80036; stroke-width: 1.5;\" width=\"110\" x=\"85\" y=\"87.5\"/><ellipse cx=\"100\" cy=\"106.4688\" fill=\"#FFA500\" rx=\"11\" ry=\"11\" style=\"stroke: #A80036; stroke-width: 1.0;\"/><path d=\"M95.875,108.3906 L95.875,100.5781 L98.3281,100.5781 L98.3281,109.0156 Q98.3281,109.9375 98.7969,110.4688 Q99.2813,111 100.1094,111 Q100.9531,111 101.4219,110.4688 Q101.8906,109.9375 101.8906,109.0156 L101.8906,100.5781 L104.3438,100.5781 L104.3438,108.3906 Q104.3438,110.9219 103.3438,112.0625 Q102.3438,113.2031 100.1094,113.2031 Q97.8906,113.2031 96.875,112.0625 Q95.875,110.9219 95.875,108.3906 Z \"/><text fill=\"#000000\" font-family=\"sans-serif\" font-size=\"12\" font-style=\"italic\" lengthAdjust=\"spacingAndGlyphs\" textLength=\"69\" x=\"118.5\" y=\"103.6387\">«attribute»</text><text fill=\"#000000\" font-family=\"sans-serif\" font-size=\"12\" lengthAdjust=\"spacingAndGlyphs\" textLength=\"78\" x=\"114\" y=\"117.6074\">z: DataValue</text><line style=\"stroke: #A80036; stroke-width: 1.5;\" x1=\"86\" x2=\"194\" y1=\"125.4375\" y2=\"125.4375\"/><polygon fill=\"#FFFFFF\" filter=\"url(#flr4xaq1j9ay8)\" points=\"320,84,462,84,469,106.2969,476,106.2969,476,136.5938,320,136.5938,320,84\" style=\"stroke: #000000; stroke-width: 1.5;\"/><line style=\"stroke: #000000; stroke-width: 1.5;\" x1=\"320\" x2=\"469\" y1=\"106.2969\" y2=\"106.2969\"/><text fill=\"#000000\" font-family=\"sans-serif\" font-size=\"14\" font-weight=\"bold\" lengthAdjust=\"spacingAndGlyphs\" textLength=\"136\" x=\"324\" y=\"98.9951\">Application Layer</text><polygon fill=\"#FFFFFF\" filter=\"url(#flr4xaq1j9ay8)\" points=\"334,214,448,214,455,236.2969,462,236.2969,462,266.5938,334,266.5938,334,214\" style=\"stroke: #000000; stroke-width: 1.5;\"/><line style=\"stroke: #000000; stroke-width: 1.5;\" x1=\"334\" x2=\"455\" y1=\"236.2969\" y2=\"236.2969\"/><text fill=\"#000000\" font-family=\"sans-serif\" font-size=\"14\" font-weight=\"bold\" lengthAdjust=\"spacingAndGlyphs\" textLength=\"108\" x=\"338\" y=\"228.9951\">Service Layer</text><polygon fill=\"#FFFFFF\" filter=\"url(#flr4xaq1j9ay8)\" points=\"346,344,436,344,443,366.2969,450,366.2969,450,396.5938,346,396.5938,346,344\" style=\"stroke: #000000; stroke-width: 1.5;\"/><line style=\"stroke: #000000; stroke-width: 1.5;\" x1=\"346\" x2=\"443\" y1=\"366.2969\" y2=\"366.2969\"/><text fill=\"#000000\" font-family=\"sans-serif\" font-size=\"14\" font-weight=\"bold\" lengthAdjust=\"spacingAndGlyphs\" textLength=\"84\" x=\"350\" y=\"358.9951\">Data Layer</text><!--MD5=[af87c684e3b0d8be13c1a698a818ef1e]\n",
       "link E3 to E4--><path d=\"M398,137.1 C398,156.8 398,184.22 398,205.73 \" fill=\"none\" id=\"E3-&gt;E4\" style=\"stroke: #A80036; stroke-width: 1.0; stroke-dasharray: 7.0,7.0;\"/><polygon fill=\"#A80036\" points=\"398,213.95,401,205.95,395,205.95,398,213.95\" style=\"stroke: #A80036; stroke-width: 1.0;\"/><text fill=\"#000000\" font-family=\"sans-serif\" font-size=\"13\" lengthAdjust=\"spacingAndGlyphs\" textLength=\"64\" x=\"399\" y=\"180.0669\">«depend»</text><!--MD5=[1b7591eae5389033d8d09a9d6721a717]\n",
       "link E4 to E5--><path d=\"M398,267.1 C398,286.8 398,314.22 398,335.73 \" fill=\"none\" id=\"E4-&gt;E5\" style=\"stroke: #A80036; stroke-width: 1.0; stroke-dasharray: 7.0,7.0;\"/><polygon fill=\"#A80036\" points=\"398,343.95,401,335.95,395,335.95,398,343.95\" style=\"stroke: #A80036; stroke-width: 1.0;\"/><text fill=\"#000000\" font-family=\"sans-serif\" font-size=\"13\" lengthAdjust=\"spacingAndGlyphs\" textLength=\"64\" x=\"399\" y=\"310.0669\">«depend»</text><!--MD5=[c5e8897d989ce984f93528998a7150fe]\n",
       "link E8 to E6--><path d=\"M123.81,133.55 C117.2,143.39 109.96,155.37 105,167 C99.27,180.44 95.1,196.08 92.22,209.39 \" fill=\"none\" id=\"E8-&gt;E6\" style=\"stroke: #A80036; stroke-width: 1.0; stroke-dasharray: 7.0,7.0;\"/><polygon fill=\"#A80036\" points=\"90.6,217.34,95.1412,210.1027,89.2627,208.9013,90.6,217.34\" style=\"stroke: #A80036; stroke-width: 1.0;\"/><text fill=\"#000000\" font-family=\"sans-serif\" font-size=\"13\" lengthAdjust=\"spacingAndGlyphs\" textLength=\"64\" x=\"106\" y=\"180.0669\">«depend»</text><!--MD5=[bfa3c8b0d15052fdf50ae9310b491027]\n",
       "link E8 to E7--><path d=\"M155.99,133.5 C171.49,154.84 195.1,187.33 212.09,210.72 \" fill=\"none\" id=\"E8-&gt;E7\" style=\"stroke: #A80036; stroke-width: 1.0; stroke-dasharray: 7.0,7.0;\"/><polygon fill=\"#A80036\" points=\"216.91,217.35,214.6362,209.1141,209.7815,212.6399,216.91,217.35\" style=\"stroke: #A80036; stroke-width: 1.0;\"/><text fill=\"#000000\" font-family=\"sans-serif\" font-size=\"13\" lengthAdjust=\"spacingAndGlyphs\" textLength=\"64\" x=\"193\" y=\"180.0669\">«depend»</text><!--MD5=[92615851ccbfb07553e9044710eff62b]\n",
       "@startuml\r\n",
       " \r\n",
       "package \"DependencyTest\" as E1   {\r\n",
       "package \"System\" as E2   {\r\n",
       "package \"Application Layer\" as E3   {\r\n",
       "}\r\n",
       "package \"Service Layer\" as E4   {\r\n",
       "}\r\n",
       "package \"Data Layer\" as E5   {\r\n",
       "}\r\n",
       "}\r\n",
       "comp usage \"x: DataValue\" as E6  <<(U,orange)attribute>> {\r\n",
       "}\r\n",
       "comp usage \"y: DataValue\" as E7  <<(U,orange)attribute>> {\r\n",
       "}\r\n",
       "comp usage \"z: DataValue\" as E8  <<(U,orange)attribute>> {\r\n",
       "}\r\n",
       "E3 ..>> E4 : <<depend>>\r\n",
       "E4 ..>> E5 : <<depend>>\r\n",
       "E8 ..>> E6 : <<depend>>\r\n",
       "E8 ..>> E7 : <<depend>>\r\n",
       "}\r\n",
       "@enduml\r\n",
       "\n",
       "PlantUML version 1.2020.13(Sat Jun 13 12:26:38 UTC 2020)\n",
       "(EPL source distribution)\n",
       "Java Runtime: OpenJDK Runtime Environment\n",
       "JVM: OpenJDK 64-Bit Server VM\n",
       "Default Encoding: UTF-8\n",
       "Language: en\n",
       "Country: null\n",
       "--></g></svg>"
      ]
     },
     "execution_count": 36,
     "metadata": {},
     "output_type": "execute_result"
    }
   ],
   "source": [
    "%viz --style=\"PLANTUML\" --view=\"MIXED\" \"DependencyTest\""
   ]
  },
  {
   "cell_type": "code",
   "execution_count": 37,
   "id": "international-cuisine",
   "metadata": {
    "execution": {
     "iopub.execute_input": "2021-03-26T09:43:56.956545Z",
     "iopub.status.busy": "2021-03-26T09:43:56.955894Z",
     "iopub.status.idle": "2021-03-26T09:43:56.990255Z",
     "shell.execute_reply": "2021-03-26T09:43:56.989092Z"
    }
   },
   "outputs": [
    {
     "data": {
      "image/svg+xml": [
       "<?xml version=\"1.0\" encoding=\"UTF-8\" standalone=\"no\"?><svg xmlns=\"http://www.w3.org/2000/svg\" xmlns:xlink=\"http://www.w3.org/1999/xlink\" contentScriptType=\"application/ecmascript\" contentStyleType=\"text/css\" height=\"449px\" preserveAspectRatio=\"none\" style=\"width:489px;height:449px;\" version=\"1.1\" viewBox=\"0 0 489 449\" width=\"489px\" zoomAndPan=\"magnify\"><defs/><g><!--MD5=[fbc87193dbaf4d95561dea2c320d4a47]\n",
       "cluster E1--><polygon fill=\"#FFFFFF\" points=\"16,6,156,6,163,28.2969,467,28.2969,467,437,16,437,16,6\" style=\"stroke: #000000; stroke-width: 1.5;\"/><line style=\"stroke: #000000; stroke-width: 1.5;\" x1=\"16\" x2=\"163\" y1=\"28.2969\" y2=\"28.2969\"/><text fill=\"#000000\" font-family=\"sans-serif\" font-size=\"14\" font-weight=\"bold\" lengthAdjust=\"spacingAndGlyphs\" textLength=\"134\" x=\"20\" y=\"20.9951\">DependencyTest</text><!--MD5=[e4f7fae6ed58524ba242bb0b0d3be6b7]\n",
       "cluster E2--><polygon fill=\"#FFFFFF\" points=\"255,49,319,49,326,71.2969,443,71.2969,443,413,255,413,255,49\" style=\"stroke: #000000; stroke-width: 1.5;\"/><line style=\"stroke: #000000; stroke-width: 1.5;\" x1=\"255\" x2=\"326\" y1=\"71.2969\" y2=\"71.2969\"/><text fill=\"#000000\" font-family=\"sans-serif\" font-size=\"14\" font-weight=\"bold\" lengthAdjust=\"spacingAndGlyphs\" textLength=\"58\" x=\"259\" y=\"63.9951\">System</text><!--MD5=[60a26617385b1d2d0262a64233df1f8d]\n",
       "class E6--><rect fill=\"#FFFFFF\" height=\"45.9375\" id=\"E6\" rx=\"10\" ry=\"10\" style=\"stroke: #383838; stroke-width: 1.5;\" width=\"85\" x=\"32.5\" y=\"217.5\"/><text fill=\"#000000\" font-family=\"sans-serif\" font-size=\"12\" font-style=\"italic\" lengthAdjust=\"spacingAndGlyphs\" textLength=\"69\" x=\"40.5\" y=\"233.6387\">«attribute»</text><text fill=\"#000000\" font-family=\"sans-serif\" font-size=\"12\" lengthAdjust=\"spacingAndGlyphs\" textLength=\"79\" x=\"35.5\" y=\"247.6074\">x: DataValue</text><line style=\"stroke: #383838; stroke-width: 1.5;\" x1=\"33.5\" x2=\"116.5\" y1=\"255.4375\" y2=\"255.4375\"/><!--MD5=[2156ba9850f5573cc1fc38a6a4b2f02b]\n",
       "class E7--><rect fill=\"#FFFFFF\" height=\"45.9375\" id=\"E7\" rx=\"10\" ry=\"10\" style=\"stroke: #383838; stroke-width: 1.5;\" width=\"85\" x=\"152.5\" y=\"217.5\"/><text fill=\"#000000\" font-family=\"sans-serif\" font-size=\"12\" font-style=\"italic\" lengthAdjust=\"spacingAndGlyphs\" textLength=\"69\" x=\"160.5\" y=\"233.6387\">«attribute»</text><text fill=\"#000000\" font-family=\"sans-serif\" font-size=\"12\" lengthAdjust=\"spacingAndGlyphs\" textLength=\"79\" x=\"155.5\" y=\"247.6074\">y: DataValue</text><line style=\"stroke: #383838; stroke-width: 1.5;\" x1=\"153.5\" x2=\"236.5\" y1=\"255.4375\" y2=\"255.4375\"/><!--MD5=[b9389687b975829384b498ac4b7476b2]\n",
       "class E8--><rect fill=\"#FFFFFF\" height=\"45.9375\" id=\"E8\" rx=\"10\" ry=\"10\" style=\"stroke: #383838; stroke-width: 1.5;\" width=\"84\" x=\"81\" y=\"87.5\"/><text fill=\"#000000\" font-family=\"sans-serif\" font-size=\"12\" font-style=\"italic\" lengthAdjust=\"spacingAndGlyphs\" textLength=\"69\" x=\"88.5\" y=\"103.6387\">«attribute»</text><text fill=\"#000000\" font-family=\"sans-serif\" font-size=\"12\" lengthAdjust=\"spacingAndGlyphs\" textLength=\"78\" x=\"84\" y=\"117.6074\">z: DataValue</text><line style=\"stroke: #383838; stroke-width: 1.5;\" x1=\"82\" x2=\"164\" y1=\"125.4375\" y2=\"125.4375\"/><polygon fill=\"#FFFFFF\" points=\"271,84,413,84,420,106.2969,427,106.2969,427,136.5938,271,136.5938,271,84\" style=\"stroke: #000000; stroke-width: 1.5;\"/><line style=\"stroke: #000000; stroke-width: 1.5;\" x1=\"271\" x2=\"420\" y1=\"106.2969\" y2=\"106.2969\"/><text fill=\"#000000\" font-family=\"sans-serif\" font-size=\"14\" font-weight=\"bold\" lengthAdjust=\"spacingAndGlyphs\" textLength=\"136\" x=\"275\" y=\"98.9951\">Application Layer</text><polygon fill=\"#FFFFFF\" points=\"285,214,399,214,406,236.2969,413,236.2969,413,266.5938,285,266.5938,285,214\" style=\"stroke: #000000; stroke-width: 1.5;\"/><line style=\"stroke: #000000; stroke-width: 1.5;\" x1=\"285\" x2=\"406\" y1=\"236.2969\" y2=\"236.2969\"/><text fill=\"#000000\" font-family=\"sans-serif\" font-size=\"14\" font-weight=\"bold\" lengthAdjust=\"spacingAndGlyphs\" textLength=\"108\" x=\"289\" y=\"228.9951\">Service Layer</text><polygon fill=\"#FFFFFF\" points=\"297,344,387,344,394,366.2969,401,366.2969,401,396.5938,297,396.5938,297,344\" style=\"stroke: #000000; stroke-width: 1.5;\"/><line style=\"stroke: #000000; stroke-width: 1.5;\" x1=\"297\" x2=\"394\" y1=\"366.2969\" y2=\"366.2969\"/><text fill=\"#000000\" font-family=\"sans-serif\" font-size=\"14\" font-weight=\"bold\" lengthAdjust=\"spacingAndGlyphs\" textLength=\"84\" x=\"301\" y=\"358.9951\">Data Layer</text><!--MD5=[af87c684e3b0d8be13c1a698a818ef1e]\n",
       "link E3 to E4--><path d=\"M349,137.1 C349,156.8 349,184.22 349,205.73 \" fill=\"none\" id=\"E3-&gt;E4\" style=\"stroke: #383838; stroke-width: 1.0; stroke-dasharray: 7.0,7.0;\"/><polygon fill=\"#383838\" points=\"349,213.95,352,205.95,346,205.95,349,213.95\" style=\"stroke: #383838; stroke-width: 1.0;\"/><text fill=\"#000000\" font-family=\"sans-serif\" font-size=\"13\" lengthAdjust=\"spacingAndGlyphs\" textLength=\"64\" x=\"350\" y=\"180.0669\">«depend»</text><!--MD5=[1b7591eae5389033d8d09a9d6721a717]\n",
       "link E4 to E5--><path d=\"M349,267.1 C349,286.8 349,314.22 349,335.73 \" fill=\"none\" id=\"E4-&gt;E5\" style=\"stroke: #383838; stroke-width: 1.0; stroke-dasharray: 7.0,7.0;\"/><polygon fill=\"#383838\" points=\"349,343.95,352,335.95,346,335.95,349,343.95\" style=\"stroke: #383838; stroke-width: 1.0;\"/><text fill=\"#000000\" font-family=\"sans-serif\" font-size=\"13\" lengthAdjust=\"spacingAndGlyphs\" textLength=\"64\" x=\"350\" y=\"310.0669\">«depend»</text><!--MD5=[c5e8897d989ce984f93528998a7150fe]\n",
       "link E8 to E6--><path d=\"M90.5,133.56 C80.01,142.57 69.64,153.96 64,167 C58.27,180.26 59.78,196 63.24,209.43 \" fill=\"none\" id=\"E8-&gt;E6\" style=\"stroke: #383838; stroke-width: 1.0; stroke-dasharray: 7.0,7.0;\"/><polygon fill=\"#383838\" points=\"65.59,217.45,66.2099,208.9285,60.4539,210.6221,65.59,217.45\" style=\"stroke: #383838; stroke-width: 1.0;\"/><text fill=\"#000000\" font-family=\"sans-serif\" font-size=\"13\" lengthAdjust=\"spacingAndGlyphs\" textLength=\"64\" x=\"65\" y=\"180.0669\">«depend»</text><!--MD5=[bfa3c8b0d15052fdf50ae9310b491027]\n",
       "link E8 to E7--><path d=\"M135.38,133.5 C147.28,154.66 165.34,186.78 178.47,210.11 \" fill=\"none\" id=\"E8-&gt;E7\" style=\"stroke: #383838; stroke-width: 1.0; stroke-dasharray: 7.0,7.0;\"/><polygon fill=\"#383838\" points=\"182.54,217.35,181.2392,208.9056,176.0075,211.8431,182.54,217.35\" style=\"stroke: #383838; stroke-width: 1.0;\"/><text fill=\"#000000\" font-family=\"sans-serif\" font-size=\"13\" lengthAdjust=\"spacingAndGlyphs\" textLength=\"64\" x=\"164\" y=\"180.0669\">«depend»</text><!--MD5=[ddce0064b60b6f7857a3eec51fc8cfd4]\n",
       "@startuml\r\n",
       "skinparam monochrome true\r\n",
       "skinparam classbackgroundcolor white\r\n",
       "skinparam shadowing false\r\n",
       "skinparam wrapWidth 300\r\n",
       "hide circle\r\n",
       "\r\n",
       "package \"DependencyTest\" as E1   {\r\n",
       "package \"System\" as E2   {\r\n",
       "package \"Application Layer\" as E3   {\r\n",
       "}\r\n",
       "package \"Service Layer\" as E4   {\r\n",
       "}\r\n",
       "package \"Data Layer\" as E5   {\r\n",
       "}\r\n",
       "}\r\n",
       "comp usage \"x: DataValue\" as E6  <<(T,blue)attribute>> {\r\n",
       "}\r\n",
       "comp usage \"y: DataValue\" as E7  <<(T,blue)attribute>> {\r\n",
       "}\r\n",
       "comp usage \"z: DataValue\" as E8  <<(T,blue)attribute>> {\r\n",
       "}\r\n",
       "E3 ..>> E4 : <<depend>>\r\n",
       "E4 ..>> E5 : <<depend>>\r\n",
       "E8 ..>> E6 : <<depend>>\r\n",
       "E8 ..>> E7 : <<depend>>\r\n",
       "}\r\n",
       "@enduml\r\n",
       "\n",
       "PlantUML version 1.2020.13(Sat Jun 13 12:26:38 UTC 2020)\n",
       "(EPL source distribution)\n",
       "Java Runtime: OpenJDK Runtime Environment\n",
       "JVM: OpenJDK 64-Bit Server VM\n",
       "Default Encoding: UTF-8\n",
       "Language: en\n",
       "Country: null\n",
       "--></g></svg>"
      ]
     },
     "execution_count": 37,
     "metadata": {},
     "output_type": "execute_result"
    }
   ],
   "source": [
    "%viz --style=\"DEFAULT\" --view=\"Default\" \"DependencyTest\""
   ]
  },
  {
   "cell_type": "code",
   "execution_count": 38,
   "id": "paperback-palmer",
   "metadata": {
    "execution": {
     "iopub.execute_input": "2021-03-26T09:43:57.039156Z",
     "iopub.status.busy": "2021-03-26T09:43:57.038735Z",
     "iopub.status.idle": "2021-03-26T09:43:57.075278Z",
     "shell.execute_reply": "2021-03-26T09:43:57.074117Z"
    }
   },
   "outputs": [
    {
     "data": {
      "image/svg+xml": [
       "<?xml version=\"1.0\" encoding=\"UTF-8\" standalone=\"no\"?><svg xmlns=\"http://www.w3.org/2000/svg\" xmlns:xlink=\"http://www.w3.org/1999/xlink\" contentScriptType=\"application/ecmascript\" contentStyleType=\"text/css\" height=\"449px\" preserveAspectRatio=\"none\" style=\"width:489px;height:449px;\" version=\"1.1\" viewBox=\"0 0 489 449\" width=\"489px\" zoomAndPan=\"magnify\"><defs/><g><!--MD5=[fbc87193dbaf4d95561dea2c320d4a47]\n",
       "cluster E1--><polygon fill=\"#FFFFFF\" points=\"16,6,156,6,163,28.2969,467,28.2969,467,437,16,437,16,6\" style=\"stroke: #000000; stroke-width: 1.5;\"/><line style=\"stroke: #000000; stroke-width: 1.5;\" x1=\"16\" x2=\"163\" y1=\"28.2969\" y2=\"28.2969\"/><text fill=\"#000000\" font-family=\"sans-serif\" font-size=\"14\" font-weight=\"bold\" lengthAdjust=\"spacingAndGlyphs\" textLength=\"134\" x=\"20\" y=\"20.9951\">DependencyTest</text><!--MD5=[e4f7fae6ed58524ba242bb0b0d3be6b7]\n",
       "cluster E2--><polygon fill=\"#FFFFFF\" points=\"255,49,319,49,326,71.2969,443,71.2969,443,413,255,413,255,49\" style=\"stroke: #000000; stroke-width: 1.5;\"/><line style=\"stroke: #000000; stroke-width: 1.5;\" x1=\"255\" x2=\"326\" y1=\"71.2969\" y2=\"71.2969\"/><text fill=\"#000000\" font-family=\"sans-serif\" font-size=\"14\" font-weight=\"bold\" lengthAdjust=\"spacingAndGlyphs\" textLength=\"58\" x=\"259\" y=\"63.9951\">System</text><!--MD5=[60a26617385b1d2d0262a64233df1f8d]\n",
       "class E6--><rect fill=\"#FFFFFF\" height=\"45.9375\" id=\"E6\" rx=\"10\" ry=\"10\" style=\"stroke: #383838; stroke-width: 1.5;\" width=\"85\" x=\"32.5\" y=\"217.5\"/><text fill=\"#000000\" font-family=\"sans-serif\" font-size=\"12\" font-style=\"italic\" lengthAdjust=\"spacingAndGlyphs\" textLength=\"69\" x=\"40.5\" y=\"233.6387\">«attribute»</text><text fill=\"#000000\" font-family=\"sans-serif\" font-size=\"12\" lengthAdjust=\"spacingAndGlyphs\" textLength=\"79\" x=\"35.5\" y=\"247.6074\">x: DataValue</text><line style=\"stroke: #383838; stroke-width: 1.5;\" x1=\"33.5\" x2=\"116.5\" y1=\"255.4375\" y2=\"255.4375\"/><!--MD5=[2156ba9850f5573cc1fc38a6a4b2f02b]\n",
       "class E7--><rect fill=\"#FFFFFF\" height=\"45.9375\" id=\"E7\" rx=\"10\" ry=\"10\" style=\"stroke: #383838; stroke-width: 1.5;\" width=\"85\" x=\"152.5\" y=\"217.5\"/><text fill=\"#000000\" font-family=\"sans-serif\" font-size=\"12\" font-style=\"italic\" lengthAdjust=\"spacingAndGlyphs\" textLength=\"69\" x=\"160.5\" y=\"233.6387\">«attribute»</text><text fill=\"#000000\" font-family=\"sans-serif\" font-size=\"12\" lengthAdjust=\"spacingAndGlyphs\" textLength=\"79\" x=\"155.5\" y=\"247.6074\">y: DataValue</text><line style=\"stroke: #383838; stroke-width: 1.5;\" x1=\"153.5\" x2=\"236.5\" y1=\"255.4375\" y2=\"255.4375\"/><!--MD5=[b9389687b975829384b498ac4b7476b2]\n",
       "class E8--><rect fill=\"#FFFFFF\" height=\"45.9375\" id=\"E8\" rx=\"10\" ry=\"10\" style=\"stroke: #383838; stroke-width: 1.5;\" width=\"84\" x=\"81\" y=\"87.5\"/><text fill=\"#000000\" font-family=\"sans-serif\" font-size=\"12\" font-style=\"italic\" lengthAdjust=\"spacingAndGlyphs\" textLength=\"69\" x=\"88.5\" y=\"103.6387\">«attribute»</text><text fill=\"#000000\" font-family=\"sans-serif\" font-size=\"12\" lengthAdjust=\"spacingAndGlyphs\" textLength=\"78\" x=\"84\" y=\"117.6074\">z: DataValue</text><line style=\"stroke: #383838; stroke-width: 1.5;\" x1=\"82\" x2=\"164\" y1=\"125.4375\" y2=\"125.4375\"/><polygon fill=\"#FFFFFF\" points=\"271,84,413,84,420,106.2969,427,106.2969,427,136.5938,271,136.5938,271,84\" style=\"stroke: #000000; stroke-width: 1.5;\"/><line style=\"stroke: #000000; stroke-width: 1.5;\" x1=\"271\" x2=\"420\" y1=\"106.2969\" y2=\"106.2969\"/><text fill=\"#000000\" font-family=\"sans-serif\" font-size=\"14\" font-weight=\"bold\" lengthAdjust=\"spacingAndGlyphs\" textLength=\"136\" x=\"275\" y=\"98.9951\">Application Layer</text><polygon fill=\"#FFFFFF\" points=\"285,214,399,214,406,236.2969,413,236.2969,413,266.5938,285,266.5938,285,214\" style=\"stroke: #000000; stroke-width: 1.5;\"/><line style=\"stroke: #000000; stroke-width: 1.5;\" x1=\"285\" x2=\"406\" y1=\"236.2969\" y2=\"236.2969\"/><text fill=\"#000000\" font-family=\"sans-serif\" font-size=\"14\" font-weight=\"bold\" lengthAdjust=\"spacingAndGlyphs\" textLength=\"108\" x=\"289\" y=\"228.9951\">Service Layer</text><polygon fill=\"#FFFFFF\" points=\"297,344,387,344,394,366.2969,401,366.2969,401,396.5938,297,396.5938,297,344\" style=\"stroke: #000000; stroke-width: 1.5;\"/><line style=\"stroke: #000000; stroke-width: 1.5;\" x1=\"297\" x2=\"394\" y1=\"366.2969\" y2=\"366.2969\"/><text fill=\"#000000\" font-family=\"sans-serif\" font-size=\"14\" font-weight=\"bold\" lengthAdjust=\"spacingAndGlyphs\" textLength=\"84\" x=\"301\" y=\"358.9951\">Data Layer</text><!--MD5=[af87c684e3b0d8be13c1a698a818ef1e]\n",
       "link E3 to E4--><path d=\"M349,137.1 C349,156.8 349,184.22 349,205.73 \" fill=\"none\" id=\"E3-&gt;E4\" style=\"stroke: #383838; stroke-width: 1.0; stroke-dasharray: 7.0,7.0;\"/><polygon fill=\"#383838\" points=\"349,213.95,352,205.95,346,205.95,349,213.95\" style=\"stroke: #383838; stroke-width: 1.0;\"/><text fill=\"#000000\" font-family=\"sans-serif\" font-size=\"13\" lengthAdjust=\"spacingAndGlyphs\" textLength=\"64\" x=\"350\" y=\"180.0669\">«depend»</text><!--MD5=[1b7591eae5389033d8d09a9d6721a717]\n",
       "link E4 to E5--><path d=\"M349,267.1 C349,286.8 349,314.22 349,335.73 \" fill=\"none\" id=\"E4-&gt;E5\" style=\"stroke: #383838; stroke-width: 1.0; stroke-dasharray: 7.0,7.0;\"/><polygon fill=\"#383838\" points=\"349,343.95,352,335.95,346,335.95,349,343.95\" style=\"stroke: #383838; stroke-width: 1.0;\"/><text fill=\"#000000\" font-family=\"sans-serif\" font-size=\"13\" lengthAdjust=\"spacingAndGlyphs\" textLength=\"64\" x=\"350\" y=\"310.0669\">«depend»</text><!--MD5=[c5e8897d989ce984f93528998a7150fe]\n",
       "link E8 to E6--><path d=\"M90.5,133.56 C80.01,142.57 69.64,153.96 64,167 C58.27,180.26 59.78,196 63.24,209.43 \" fill=\"none\" id=\"E8-&gt;E6\" style=\"stroke: #383838; stroke-width: 1.0; stroke-dasharray: 7.0,7.0;\"/><polygon fill=\"#383838\" points=\"65.59,217.45,66.2099,208.9285,60.4539,210.6221,65.59,217.45\" style=\"stroke: #383838; stroke-width: 1.0;\"/><text fill=\"#000000\" font-family=\"sans-serif\" font-size=\"13\" lengthAdjust=\"spacingAndGlyphs\" textLength=\"64\" x=\"65\" y=\"180.0669\">«depend»</text><!--MD5=[bfa3c8b0d15052fdf50ae9310b491027]\n",
       "link E8 to E7--><path d=\"M135.38,133.5 C147.28,154.66 165.34,186.78 178.47,210.11 \" fill=\"none\" id=\"E8-&gt;E7\" style=\"stroke: #383838; stroke-width: 1.0; stroke-dasharray: 7.0,7.0;\"/><polygon fill=\"#383838\" points=\"182.54,217.35,181.2392,208.9056,176.0075,211.8431,182.54,217.35\" style=\"stroke: #383838; stroke-width: 1.0;\"/><text fill=\"#000000\" font-family=\"sans-serif\" font-size=\"13\" lengthAdjust=\"spacingAndGlyphs\" textLength=\"64\" x=\"164\" y=\"180.0669\">«depend»</text><!--MD5=[ddce0064b60b6f7857a3eec51fc8cfd4]\n",
       "@startuml\r\n",
       "skinparam monochrome true\r\n",
       "skinparam classbackgroundcolor white\r\n",
       "skinparam shadowing false\r\n",
       "skinparam wrapWidth 300\r\n",
       "hide circle\r\n",
       "\r\n",
       "package \"DependencyTest\" as E1   {\r\n",
       "package \"System\" as E2   {\r\n",
       "package \"Application Layer\" as E3   {\r\n",
       "}\r\n",
       "package \"Service Layer\" as E4   {\r\n",
       "}\r\n",
       "package \"Data Layer\" as E5   {\r\n",
       "}\r\n",
       "}\r\n",
       "comp usage \"x: DataValue\" as E6  <<(T,blue)attribute>> {\r\n",
       "}\r\n",
       "comp usage \"y: DataValue\" as E7  <<(T,blue)attribute>> {\r\n",
       "}\r\n",
       "comp usage \"z: DataValue\" as E8  <<(T,blue)attribute>> {\r\n",
       "}\r\n",
       "E3 ..>> E4 : <<depend>>\r\n",
       "E4 ..>> E5 : <<depend>>\r\n",
       "E8 ..>> E6 : <<depend>>\r\n",
       "E8 ..>> E7 : <<depend>>\r\n",
       "}\r\n",
       "@enduml\r\n",
       "\n",
       "PlantUML version 1.2020.13(Sat Jun 13 12:26:38 UTC 2020)\n",
       "(EPL source distribution)\n",
       "Java Runtime: OpenJDK Runtime Environment\n",
       "JVM: OpenJDK 64-Bit Server VM\n",
       "Default Encoding: UTF-8\n",
       "Language: en\n",
       "Country: null\n",
       "--></g></svg>"
      ]
     },
     "execution_count": 38,
     "metadata": {},
     "output_type": "execute_result"
    }
   ],
   "source": [
    "%viz --style=\"DEFAULT\" --view=\"Tree\" \"DependencyTest\""
   ]
  },
  {
   "cell_type": "code",
   "execution_count": 39,
   "id": "strategic-adelaide",
   "metadata": {
    "execution": {
     "iopub.execute_input": "2021-03-26T09:43:57.125259Z",
     "iopub.status.busy": "2021-03-26T09:43:57.124919Z",
     "iopub.status.idle": "2021-03-26T09:43:57.127264Z",
     "shell.execute_reply": "2021-03-26T09:43:57.126983Z"
    }
   },
   "outputs": [
    {
     "data": {
      "text/plain": [
       "java.lang.IllegalArgumentException: Invalid View: State View candidates are: Default Tree StateMachine Interconnection Activity Sequence MIXED \n",
       "\tat org.omg.sysml.plantuml.SysML2PlantUMLSvc.setView(SysML2PlantUMLSvc.java:63)\n",
       "\tat org.omg.sysml.interactive.SysMLInteractive.viz(SysMLInteractive.java:286)\n",
       "\tat org.omg.sysml.jupyter.kernel.magic.Viz.viz(Viz.java:47)\n",
       "\tat jdk.internal.reflect.GeneratedMethodAccessor8.invoke(Unknown Source)\n",
       "\tat java.base/jdk.internal.reflect.DelegatingMethodAccessorImpl.invoke(DelegatingMethodAccessorImpl.java:43)\n",
       "\tat java.base/java.lang.reflect.Method.invoke(Method.java:568)\n",
       "\tat io.github.spencerpark.jupyter.kernel.magic.registry.Magics.invoke(Magics.java:89)\n",
       "\tat io.github.spencerpark.jupyter.kernel.magic.registry.Magics.access$000(Magics.java:8)\n",
       "\tat io.github.spencerpark.jupyter.kernel.magic.registry.Magics$LineReflectionMagicFunction.execute(Magics.java:149)\n",
       "\tat io.github.spencerpark.jupyter.kernel.magic.registry.Magics.applyLineMagic(Magics.java:26)\n",
       "\tat org.omg.sysml.jupyter.kernel.SysMLKernel.eval(SysMLKernel.java:76)\n",
       "\tat io.github.spencerpark.jupyter.kernel.BaseKernel.handleExecuteRequest(BaseKernel.java:334)\n",
       "\tat io.github.spencerpark.jupyter.channels.ShellChannel.lambda$bind$0(ShellChannel.java:64)\n",
       "\tat io.github.spencerpark.jupyter.channels.Loop.lambda$new$0(Loop.java:21)\n",
       "\tat io.github.spencerpark.jupyter.channels.Loop.run(Loop.java:78)\n"
      ]
     },
     "execution_count": 39,
     "metadata": {},
     "output_type": "execute_result"
    }
   ],
   "source": [
    "%viz --style=\"DEFAULT\" --view=\"State\" \"DependencyTest\""
   ]
  },
  {
   "cell_type": "code",
   "execution_count": 40,
   "id": "gross-welsh",
   "metadata": {
    "execution": {
     "iopub.execute_input": "2021-03-26T09:43:57.179392Z",
     "iopub.status.busy": "2021-03-26T09:43:57.178779Z",
     "iopub.status.idle": "2021-03-26T09:43:57.208624Z",
     "shell.execute_reply": "2021-03-26T09:43:57.206736Z"
    }
   },
   "outputs": [
    {
     "data": {
      "image/svg+xml": [
       "<?xml version=\"1.0\" encoding=\"UTF-8\" standalone=\"no\"?><svg xmlns=\"http://www.w3.org/2000/svg\" xmlns:xlink=\"http://www.w3.org/1999/xlink\" contentScriptType=\"application/ecmascript\" contentStyleType=\"text/css\" height=\"361px\" preserveAspectRatio=\"none\" style=\"width:529px;height:361px;\" version=\"1.1\" viewBox=\"0 0 529 361\" width=\"529px\" zoomAndPan=\"magnify\"><defs/><g><!--MD5=[fbc87193dbaf4d95561dea2c320d4a47]\n",
       "cluster E1--><polygon fill=\"#FFFFFF\" points=\"16,6,156,6,163,28.2969,507,28.2969,507,349,16,349,16,6\" style=\"stroke: #000000; stroke-width: 1.5;\"/><line style=\"stroke: #000000; stroke-width: 1.5;\" x1=\"16\" x2=\"163\" y1=\"28.2969\" y2=\"28.2969\"/><text fill=\"#000000\" font-family=\"sans-serif\" font-size=\"14\" font-weight=\"bold\" lengthAdjust=\"spacingAndGlyphs\" textLength=\"134\" x=\"20\" y=\"20.9951\">DependencyTest</text><!--MD5=[e4f7fae6ed58524ba242bb0b0d3be6b7]\n",
       "cluster E2--><polygon fill=\"#FFFFFF\" points=\"295,49,359,49,366,71.2969,483,71.2969,483,325,295,325,295,49\" style=\"stroke: #000000; stroke-width: 1.5;\"/><line style=\"stroke: #000000; stroke-width: 1.5;\" x1=\"295\" x2=\"366\" y1=\"71.2969\" y2=\"71.2969\"/><text fill=\"#000000\" font-family=\"sans-serif\" font-size=\"14\" font-weight=\"bold\" lengthAdjust=\"spacingAndGlyphs\" textLength=\"58\" x=\"299\" y=\"63.9951\">System</text><polygon fill=\"#FFFFFF\" points=\"311,84,453,84,460,106.2969,467,106.2969,467,136.5938,311,136.5938,311,84\" style=\"stroke: #000000; stroke-width: 1.5;\"/><line style=\"stroke: #000000; stroke-width: 1.5;\" x1=\"311\" x2=\"460\" y1=\"106.2969\" y2=\"106.2969\"/><text fill=\"#000000\" font-family=\"sans-serif\" font-size=\"14\" font-weight=\"bold\" lengthAdjust=\"spacingAndGlyphs\" textLength=\"136\" x=\"315\" y=\"98.9951\">Application Layer</text><polygon fill=\"#FFFFFF\" points=\"325,170,439,170,446,192.2969,453,192.2969,453,222.5938,325,222.5938,325,170\" style=\"stroke: #000000; stroke-width: 1.5;\"/><line style=\"stroke: #000000; stroke-width: 1.5;\" x1=\"325\" x2=\"446\" y1=\"192.2969\" y2=\"192.2969\"/><text fill=\"#000000\" font-family=\"sans-serif\" font-size=\"14\" font-weight=\"bold\" lengthAdjust=\"spacingAndGlyphs\" textLength=\"108\" x=\"329\" y=\"184.9951\">Service Layer</text><polygon fill=\"#FFFFFF\" points=\"337,256,427,256,434,278.2969,441,278.2969,441,308.5938,337,308.5938,337,256\" style=\"stroke: #000000; stroke-width: 1.5;\"/><line style=\"stroke: #000000; stroke-width: 1.5;\" x1=\"337\" x2=\"434\" y1=\"278.2969\" y2=\"278.2969\"/><text fill=\"#000000\" font-family=\"sans-serif\" font-size=\"14\" font-weight=\"bold\" lengthAdjust=\"spacingAndGlyphs\" textLength=\"84\" x=\"341\" y=\"270.9951\">Data Layer</text><g id=\"E1.E6\"><rect fill=\"#FFFFFF\" height=\"50\" rx=\"12.5\" ry=\"12.5\" style=\"stroke: #383838; stroke-width: 1.5;\" width=\"106\" x=\"32\" y=\"171.5\"/><line style=\"stroke: #383838; stroke-width: 1.5;\" x1=\"32\" x2=\"138\" y1=\"197.7969\" y2=\"197.7969\"/><text fill=\"#000000\" font-family=\"sans-serif\" font-size=\"14\" lengthAdjust=\"spacingAndGlyphs\" textLength=\"86\" x=\"42\" y=\"189.4951\">x: DataValue</text></g><g id=\"E1.E7\"><rect fill=\"#FFFFFF\" height=\"50\" rx=\"12.5\" ry=\"12.5\" style=\"stroke: #383838; stroke-width: 1.5;\" width=\"106\" x=\"173\" y=\"171.5\"/><line style=\"stroke: #383838; stroke-width: 1.5;\" x1=\"173\" x2=\"279\" y1=\"197.7969\" y2=\"197.7969\"/><text fill=\"#000000\" font-family=\"sans-serif\" font-size=\"14\" lengthAdjust=\"spacingAndGlyphs\" textLength=\"86\" x=\"183\" y=\"189.4951\">y: DataValue</text></g><g id=\"E1.E8\"><rect fill=\"#FFFFFF\" height=\"50\" rx=\"12.5\" ry=\"12.5\" style=\"stroke: #383838; stroke-width: 1.5;\" width=\"107\" x=\"84.5\" y=\"85.5\"/><line style=\"stroke: #383838; stroke-width: 1.5;\" x1=\"84.5\" x2=\"191.5\" y1=\"111.7969\" y2=\"111.7969\"/><text fill=\"#000000\" font-family=\"sans-serif\" font-size=\"14\" lengthAdjust=\"spacingAndGlyphs\" textLength=\"87\" x=\"94.5\" y=\"103.4951\">z: DataValue</text></g><!--MD5=[af87c684e3b0d8be13c1a698a818ef1e]\n",
       "link E3 to E4--><path d=\"M389,137.16 C389,144.98 389,153.69 389,161.94 \" fill=\"none\" id=\"E3-&gt;E4\" style=\"stroke: #383838; stroke-width: 1.0; stroke-dasharray: 7.0,7.0;\"/><polygon fill=\"#383838\" points=\"389,170,392,162,386,162,389,170\" style=\"stroke: #383838; stroke-width: 1.0;\"/><text fill=\"#000000\" font-family=\"sans-serif\" font-size=\"13\" lengthAdjust=\"spacingAndGlyphs\" textLength=\"64\" x=\"390\" y=\"158.0669\">«depend»</text><!--MD5=[1b7591eae5389033d8d09a9d6721a717]\n",
       "link E4 to E5--><path d=\"M389,223.16 C389,230.98 389,239.69 389,247.94 \" fill=\"none\" id=\"E4-&gt;E5\" style=\"stroke: #383838; stroke-width: 1.0; stroke-dasharray: 7.0,7.0;\"/><polygon fill=\"#383838\" points=\"389,256,392,248,386,248,389,256\" style=\"stroke: #383838; stroke-width: 1.0;\"/><text fill=\"#000000\" font-family=\"sans-serif\" font-size=\"13\" lengthAdjust=\"spacingAndGlyphs\" textLength=\"64\" x=\"390\" y=\"244.0669\">«depend»</text><!--MD5=[c5e8897d989ce984f93528998a7150fe]\n",
       "link E8 to E6--><path d=\"M105.13,135.85 C102.47,138.72 100.03,141.78 98,145 C94.5,150.55 91.94,156.99 90.07,163.39 \" fill=\"none\" id=\"E8-&gt;E6\" style=\"stroke: #383838; stroke-width: 1.0; stroke-dasharray: 7.0,7.0;\"/><polygon fill=\"#383838\" points=\"88.05,171.4,92.9159,164.377,87.0982,162.9092,88.05,171.4\" style=\"stroke: #383838; stroke-width: 1.0;\"/><text fill=\"#000000\" font-family=\"sans-serif\" font-size=\"13\" lengthAdjust=\"spacingAndGlyphs\" textLength=\"64\" x=\"99\" y=\"158.0669\">«depend»</text><!--MD5=[bfa3c8b0d15052fdf50ae9310b491027]\n",
       "link E8 to E7--><path d=\"M163.45,135.8 C173.21,145.11 184.46,155.85 194.71,165.63 \" fill=\"none\" id=\"E8-&gt;E7\" style=\"stroke: #383838; stroke-width: 1.0; stroke-dasharray: 7.0,7.0;\"/><polygon fill=\"#383838\" points=\"200.6,171.26,196.8886,163.5642,192.7435,167.9021,200.6,171.26\" style=\"stroke: #383838; stroke-width: 1.0;\"/><text fill=\"#000000\" font-family=\"sans-serif\" font-size=\"13\" lengthAdjust=\"spacingAndGlyphs\" textLength=\"64\" x=\"190\" y=\"158.0669\">«depend»</text><!--MD5=[4acb85c128d40ce1a5d4e55c2e5440b3]\n",
       "@startuml\r\n",
       "skinparam ranksep 8\r\n",
       "skinparam rectangle {\r\n",
       " backgroundColor<<block>> LightGreen\r\n",
       "}\r\n",
       "skinparam monochrome true\r\n",
       "skinparam classbackgroundcolor white\r\n",
       "skinparam shadowing false\r\n",
       "skinparam wrapWidth 300\r\n",
       "hide circle\r\n",
       "\r\n",
       "package \"DependencyTest\" as E1   {\r\n",
       "package \"System\" as E2   {\r\n",
       "package \"Application Layer\" as E3   {\r\n",
       "}\r\n",
       "package \"Service Layer\" as E4   {\r\n",
       "}\r\n",
       "package \"Data Layer\" as E5   {\r\n",
       "}\r\n",
       "}\r\n",
       "rec usage \"x: DataValue\" as E6  <<attribute>> {\r\n",
       "}\r\n",
       "rec usage \"y: DataValue\" as E7  <<attribute>> {\r\n",
       "}\r\n",
       "rec usage \"z: DataValue\" as E8  <<attribute>> {\r\n",
       "}\r\n",
       "E3 ..>> E4 : <<depend>>\r\n",
       "E4 ..>> E5 : <<depend>>\r\n",
       "E8 ..>> E6 : <<depend>>\r\n",
       "E8 ..>> E7 : <<depend>>\r\n",
       "}\r\n",
       "@enduml\r\n",
       "\n",
       "PlantUML version 1.2020.13(Sat Jun 13 12:26:38 UTC 2020)\n",
       "(EPL source distribution)\n",
       "Java Runtime: OpenJDK Runtime Environment\n",
       "JVM: OpenJDK 64-Bit Server VM\n",
       "Default Encoding: UTF-8\n",
       "Language: en\n",
       "Country: null\n",
       "--></g></svg>"
      ]
     },
     "execution_count": 40,
     "metadata": {},
     "output_type": "execute_result"
    }
   ],
   "source": [
    "%viz --style=\"DEFAULT\" --view=\"Interconnection\" \"DependencyTest\""
   ]
  },
  {
   "cell_type": "code",
   "execution_count": 41,
   "id": "major-armor",
   "metadata": {
    "execution": {
     "iopub.execute_input": "2021-03-26T09:43:57.260680Z",
     "iopub.status.busy": "2021-03-26T09:43:57.259782Z",
     "iopub.status.idle": "2021-03-26T09:43:57.264589Z",
     "shell.execute_reply": "2021-03-26T09:43:57.261931Z"
    }
   },
   "outputs": [
    {
     "data": {
      "text/plain": [
       "java.lang.IllegalArgumentException: Invalid View: Action View candidates are: Default Tree StateMachine Interconnection Activity Sequence MIXED \n",
       "\tat org.omg.sysml.plantuml.SysML2PlantUMLSvc.setView(SysML2PlantUMLSvc.java:63)\n",
       "\tat org.omg.sysml.interactive.SysMLInteractive.viz(SysMLInteractive.java:286)\n",
       "\tat org.omg.sysml.jupyter.kernel.magic.Viz.viz(Viz.java:47)\n",
       "\tat jdk.internal.reflect.GeneratedMethodAccessor8.invoke(Unknown Source)\n",
       "\tat java.base/jdk.internal.reflect.DelegatingMethodAccessorImpl.invoke(DelegatingMethodAccessorImpl.java:43)\n",
       "\tat java.base/java.lang.reflect.Method.invoke(Method.java:568)\n",
       "\tat io.github.spencerpark.jupyter.kernel.magic.registry.Magics.invoke(Magics.java:89)\n",
       "\tat io.github.spencerpark.jupyter.kernel.magic.registry.Magics.access$000(Magics.java:8)\n",
       "\tat io.github.spencerpark.jupyter.kernel.magic.registry.Magics$LineReflectionMagicFunction.execute(Magics.java:149)\n",
       "\tat io.github.spencerpark.jupyter.kernel.magic.registry.Magics.applyLineMagic(Magics.java:26)\n",
       "\tat org.omg.sysml.jupyter.kernel.SysMLKernel.eval(SysMLKernel.java:76)\n",
       "\tat io.github.spencerpark.jupyter.kernel.BaseKernel.handleExecuteRequest(BaseKernel.java:334)\n",
       "\tat io.github.spencerpark.jupyter.channels.ShellChannel.lambda$bind$0(ShellChannel.java:64)\n",
       "\tat io.github.spencerpark.jupyter.channels.Loop.lambda$new$0(Loop.java:21)\n",
       "\tat io.github.spencerpark.jupyter.channels.Loop.run(Loop.java:78)\n"
      ]
     },
     "execution_count": 41,
     "metadata": {},
     "output_type": "execute_result"
    }
   ],
   "source": [
    "%viz --style=\"DEFAULT\" --view=\"Action\" \"DependencyTest\""
   ]
  },
  {
   "cell_type": "code",
   "execution_count": 42,
   "id": "declared-pointer",
   "metadata": {
    "execution": {
     "iopub.execute_input": "2021-03-26T09:43:57.318730Z",
     "iopub.status.busy": "2021-03-26T09:43:57.318273Z",
     "iopub.status.idle": "2021-03-26T09:43:57.354038Z",
     "shell.execute_reply": "2021-03-26T09:43:57.352909Z"
    }
   },
   "outputs": [
    {
     "data": {
      "image/svg+xml": [
       "<?xml version=\"1.0\" encoding=\"UTF-8\" standalone=\"no\"?><svg xmlns=\"http://www.w3.org/2000/svg\" xmlns:xlink=\"http://www.w3.org/1999/xlink\" contentScriptType=\"application/ecmascript\" contentStyleType=\"text/css\" height=\"449px\" preserveAspectRatio=\"none\" style=\"width:489px;height:449px;\" version=\"1.1\" viewBox=\"0 0 489 449\" width=\"489px\" zoomAndPan=\"magnify\"><defs/><g><!--MD5=[fbc87193dbaf4d95561dea2c320d4a47]\n",
       "cluster E1--><polygon fill=\"#FFFFFF\" points=\"16,6,156,6,163,28.2969,467,28.2969,467,437,16,437,16,6\" style=\"stroke: #000000; stroke-width: 1.5;\"/><line style=\"stroke: #000000; stroke-width: 1.5;\" x1=\"16\" x2=\"163\" y1=\"28.2969\" y2=\"28.2969\"/><text fill=\"#000000\" font-family=\"sans-serif\" font-size=\"14\" font-weight=\"bold\" lengthAdjust=\"spacingAndGlyphs\" textLength=\"134\" x=\"20\" y=\"20.9951\">DependencyTest</text><!--MD5=[e4f7fae6ed58524ba242bb0b0d3be6b7]\n",
       "cluster E2--><polygon fill=\"#FFFFFF\" points=\"255,49,319,49,326,71.2969,443,71.2969,443,413,255,413,255,49\" style=\"stroke: #000000; stroke-width: 1.5;\"/><line style=\"stroke: #000000; stroke-width: 1.5;\" x1=\"255\" x2=\"326\" y1=\"71.2969\" y2=\"71.2969\"/><text fill=\"#000000\" font-family=\"sans-serif\" font-size=\"14\" font-weight=\"bold\" lengthAdjust=\"spacingAndGlyphs\" textLength=\"58\" x=\"259\" y=\"63.9951\">System</text><!--MD5=[60a26617385b1d2d0262a64233df1f8d]\n",
       "class E6--><rect fill=\"#FFFFFF\" height=\"45.9375\" id=\"E6\" rx=\"10\" ry=\"10\" style=\"stroke: #383838; stroke-width: 1.5;\" width=\"85\" x=\"32.5\" y=\"217.5\"/><text fill=\"#000000\" font-family=\"sans-serif\" font-size=\"12\" font-style=\"italic\" lengthAdjust=\"spacingAndGlyphs\" textLength=\"69\" x=\"40.5\" y=\"233.6387\">«attribute»</text><text fill=\"#000000\" font-family=\"sans-serif\" font-size=\"12\" lengthAdjust=\"spacingAndGlyphs\" textLength=\"79\" x=\"35.5\" y=\"247.6074\">x: DataValue</text><line style=\"stroke: #383838; stroke-width: 1.5;\" x1=\"33.5\" x2=\"116.5\" y1=\"255.4375\" y2=\"255.4375\"/><!--MD5=[2156ba9850f5573cc1fc38a6a4b2f02b]\n",
       "class E7--><rect fill=\"#FFFFFF\" height=\"45.9375\" id=\"E7\" rx=\"10\" ry=\"10\" style=\"stroke: #383838; stroke-width: 1.5;\" width=\"85\" x=\"152.5\" y=\"217.5\"/><text fill=\"#000000\" font-family=\"sans-serif\" font-size=\"12\" font-style=\"italic\" lengthAdjust=\"spacingAndGlyphs\" textLength=\"69\" x=\"160.5\" y=\"233.6387\">«attribute»</text><text fill=\"#000000\" font-family=\"sans-serif\" font-size=\"12\" lengthAdjust=\"spacingAndGlyphs\" textLength=\"79\" x=\"155.5\" y=\"247.6074\">y: DataValue</text><line style=\"stroke: #383838; stroke-width: 1.5;\" x1=\"153.5\" x2=\"236.5\" y1=\"255.4375\" y2=\"255.4375\"/><!--MD5=[b9389687b975829384b498ac4b7476b2]\n",
       "class E8--><rect fill=\"#FFFFFF\" height=\"45.9375\" id=\"E8\" rx=\"10\" ry=\"10\" style=\"stroke: #383838; stroke-width: 1.5;\" width=\"84\" x=\"81\" y=\"87.5\"/><text fill=\"#000000\" font-family=\"sans-serif\" font-size=\"12\" font-style=\"italic\" lengthAdjust=\"spacingAndGlyphs\" textLength=\"69\" x=\"88.5\" y=\"103.6387\">«attribute»</text><text fill=\"#000000\" font-family=\"sans-serif\" font-size=\"12\" lengthAdjust=\"spacingAndGlyphs\" textLength=\"78\" x=\"84\" y=\"117.6074\">z: DataValue</text><line style=\"stroke: #383838; stroke-width: 1.5;\" x1=\"82\" x2=\"164\" y1=\"125.4375\" y2=\"125.4375\"/><polygon fill=\"#FFFFFF\" points=\"271,84,413,84,420,106.2969,427,106.2969,427,136.5938,271,136.5938,271,84\" style=\"stroke: #000000; stroke-width: 1.5;\"/><line style=\"stroke: #000000; stroke-width: 1.5;\" x1=\"271\" x2=\"420\" y1=\"106.2969\" y2=\"106.2969\"/><text fill=\"#000000\" font-family=\"sans-serif\" font-size=\"14\" font-weight=\"bold\" lengthAdjust=\"spacingAndGlyphs\" textLength=\"136\" x=\"275\" y=\"98.9951\">Application Layer</text><polygon fill=\"#FFFFFF\" points=\"285,214,399,214,406,236.2969,413,236.2969,413,266.5938,285,266.5938,285,214\" style=\"stroke: #000000; stroke-width: 1.5;\"/><line style=\"stroke: #000000; stroke-width: 1.5;\" x1=\"285\" x2=\"406\" y1=\"236.2969\" y2=\"236.2969\"/><text fill=\"#000000\" font-family=\"sans-serif\" font-size=\"14\" font-weight=\"bold\" lengthAdjust=\"spacingAndGlyphs\" textLength=\"108\" x=\"289\" y=\"228.9951\">Service Layer</text><polygon fill=\"#FFFFFF\" points=\"297,344,387,344,394,366.2969,401,366.2969,401,396.5938,297,396.5938,297,344\" style=\"stroke: #000000; stroke-width: 1.5;\"/><line style=\"stroke: #000000; stroke-width: 1.5;\" x1=\"297\" x2=\"394\" y1=\"366.2969\" y2=\"366.2969\"/><text fill=\"#000000\" font-family=\"sans-serif\" font-size=\"14\" font-weight=\"bold\" lengthAdjust=\"spacingAndGlyphs\" textLength=\"84\" x=\"301\" y=\"358.9951\">Data Layer</text><!--MD5=[af87c684e3b0d8be13c1a698a818ef1e]\n",
       "link E3 to E4--><path d=\"M349,137.1 C349,156.8 349,184.22 349,205.73 \" fill=\"none\" id=\"E3-&gt;E4\" style=\"stroke: #383838; stroke-width: 1.0; stroke-dasharray: 7.0,7.0;\"/><polygon fill=\"#383838\" points=\"349,213.95,352,205.95,346,205.95,349,213.95\" style=\"stroke: #383838; stroke-width: 1.0;\"/><text fill=\"#000000\" font-family=\"sans-serif\" font-size=\"13\" lengthAdjust=\"spacingAndGlyphs\" textLength=\"64\" x=\"350\" y=\"180.0669\">«depend»</text><!--MD5=[1b7591eae5389033d8d09a9d6721a717]\n",
       "link E4 to E5--><path d=\"M349,267.1 C349,286.8 349,314.22 349,335.73 \" fill=\"none\" id=\"E4-&gt;E5\" style=\"stroke: #383838; stroke-width: 1.0; stroke-dasharray: 7.0,7.0;\"/><polygon fill=\"#383838\" points=\"349,343.95,352,335.95,346,335.95,349,343.95\" style=\"stroke: #383838; stroke-width: 1.0;\"/><text fill=\"#000000\" font-family=\"sans-serif\" font-size=\"13\" lengthAdjust=\"spacingAndGlyphs\" textLength=\"64\" x=\"350\" y=\"310.0669\">«depend»</text><!--MD5=[c5e8897d989ce984f93528998a7150fe]\n",
       "link E8 to E6--><path d=\"M90.5,133.56 C80.01,142.57 69.64,153.96 64,167 C58.27,180.26 59.78,196 63.24,209.43 \" fill=\"none\" id=\"E8-&gt;E6\" style=\"stroke: #383838; stroke-width: 1.0; stroke-dasharray: 7.0,7.0;\"/><polygon fill=\"#383838\" points=\"65.59,217.45,66.2099,208.9285,60.4539,210.6221,65.59,217.45\" style=\"stroke: #383838; stroke-width: 1.0;\"/><text fill=\"#000000\" font-family=\"sans-serif\" font-size=\"13\" lengthAdjust=\"spacingAndGlyphs\" textLength=\"64\" x=\"65\" y=\"180.0669\">«depend»</text><!--MD5=[bfa3c8b0d15052fdf50ae9310b491027]\n",
       "link E8 to E7--><path d=\"M135.38,133.5 C147.28,154.66 165.34,186.78 178.47,210.11 \" fill=\"none\" id=\"E8-&gt;E7\" style=\"stroke: #383838; stroke-width: 1.0; stroke-dasharray: 7.0,7.0;\"/><polygon fill=\"#383838\" points=\"182.54,217.35,181.2392,208.9056,176.0075,211.8431,182.54,217.35\" style=\"stroke: #383838; stroke-width: 1.0;\"/><text fill=\"#000000\" font-family=\"sans-serif\" font-size=\"13\" lengthAdjust=\"spacingAndGlyphs\" textLength=\"64\" x=\"164\" y=\"180.0669\">«depend»</text><!--MD5=[ddce0064b60b6f7857a3eec51fc8cfd4]\n",
       "@startuml\r\n",
       "skinparam monochrome true\r\n",
       "skinparam classbackgroundcolor white\r\n",
       "skinparam shadowing false\r\n",
       "skinparam wrapWidth 300\r\n",
       "hide circle\r\n",
       "\r\n",
       "package \"DependencyTest\" as E1   {\r\n",
       "package \"System\" as E2   {\r\n",
       "package \"Application Layer\" as E3   {\r\n",
       "}\r\n",
       "package \"Service Layer\" as E4   {\r\n",
       "}\r\n",
       "package \"Data Layer\" as E5   {\r\n",
       "}\r\n",
       "}\r\n",
       "comp usage \"x: DataValue\" as E6  <<(T,blue)attribute>> {\r\n",
       "}\r\n",
       "comp usage \"y: DataValue\" as E7  <<(T,blue)attribute>> {\r\n",
       "}\r\n",
       "comp usage \"z: DataValue\" as E8  <<(T,blue)attribute>> {\r\n",
       "}\r\n",
       "E3 ..>> E4 : <<depend>>\r\n",
       "E4 ..>> E5 : <<depend>>\r\n",
       "E8 ..>> E6 : <<depend>>\r\n",
       "E8 ..>> E7 : <<depend>>\r\n",
       "}\r\n",
       "@enduml\r\n",
       "\n",
       "PlantUML version 1.2020.13(Sat Jun 13 12:26:38 UTC 2020)\n",
       "(EPL source distribution)\n",
       "Java Runtime: OpenJDK Runtime Environment\n",
       "JVM: OpenJDK 64-Bit Server VM\n",
       "Default Encoding: UTF-8\n",
       "Language: en\n",
       "Country: null\n",
       "--></g></svg>"
      ]
     },
     "execution_count": 42,
     "metadata": {},
     "output_type": "execute_result"
    }
   ],
   "source": [
    "%viz --style=\"DEFAULT\" --view=\"Sequence\" \"DependencyTest\""
   ]
  },
  {
   "cell_type": "code",
   "execution_count": 43,
   "id": "broad-legend",
   "metadata": {
    "execution": {
     "iopub.execute_input": "2021-03-26T09:43:57.404622Z",
     "iopub.status.busy": "2021-03-26T09:43:57.404150Z",
     "iopub.status.idle": "2021-03-26T09:43:57.432533Z",
     "shell.execute_reply": "2021-03-26T09:43:57.431461Z"
    }
   },
   "outputs": [
    {
     "data": {
      "image/svg+xml": [
       "<?xml version=\"1.0\" encoding=\"UTF-8\" standalone=\"no\"?><svg xmlns=\"http://www.w3.org/2000/svg\" xmlns:xlink=\"http://www.w3.org/1999/xlink\" contentScriptType=\"application/ecmascript\" contentStyleType=\"text/css\" height=\"449px\" preserveAspectRatio=\"none\" style=\"width:489px;height:449px;\" version=\"1.1\" viewBox=\"0 0 489 449\" width=\"489px\" zoomAndPan=\"magnify\"><defs/><g><!--MD5=[fbc87193dbaf4d95561dea2c320d4a47]\n",
       "cluster E1--><polygon fill=\"#FFFFFF\" points=\"16,6,156,6,163,28.2969,467,28.2969,467,437,16,437,16,6\" style=\"stroke: #000000; stroke-width: 1.5;\"/><line style=\"stroke: #000000; stroke-width: 1.5;\" x1=\"16\" x2=\"163\" y1=\"28.2969\" y2=\"28.2969\"/><text fill=\"#000000\" font-family=\"sans-serif\" font-size=\"14\" font-weight=\"bold\" lengthAdjust=\"spacingAndGlyphs\" textLength=\"134\" x=\"20\" y=\"20.9951\">DependencyTest</text><!--MD5=[e4f7fae6ed58524ba242bb0b0d3be6b7]\n",
       "cluster E2--><polygon fill=\"#FFFFFF\" points=\"255,49,319,49,326,71.2969,443,71.2969,443,413,255,413,255,49\" style=\"stroke: #000000; stroke-width: 1.5;\"/><line style=\"stroke: #000000; stroke-width: 1.5;\" x1=\"255\" x2=\"326\" y1=\"71.2969\" y2=\"71.2969\"/><text fill=\"#000000\" font-family=\"sans-serif\" font-size=\"14\" font-weight=\"bold\" lengthAdjust=\"spacingAndGlyphs\" textLength=\"58\" x=\"259\" y=\"63.9951\">System</text><!--MD5=[60a26617385b1d2d0262a64233df1f8d]\n",
       "class E6--><rect fill=\"#FFFFFF\" height=\"45.9375\" id=\"E6\" rx=\"10\" ry=\"10\" style=\"stroke: #383838; stroke-width: 1.5;\" width=\"85\" x=\"32.5\" y=\"217.5\"/><text fill=\"#000000\" font-family=\"sans-serif\" font-size=\"12\" font-style=\"italic\" lengthAdjust=\"spacingAndGlyphs\" textLength=\"69\" x=\"40.5\" y=\"233.6387\">«attribute»</text><text fill=\"#000000\" font-family=\"sans-serif\" font-size=\"12\" lengthAdjust=\"spacingAndGlyphs\" textLength=\"79\" x=\"35.5\" y=\"247.6074\">x: DataValue</text><line style=\"stroke: #383838; stroke-width: 1.5;\" x1=\"33.5\" x2=\"116.5\" y1=\"255.4375\" y2=\"255.4375\"/><!--MD5=[2156ba9850f5573cc1fc38a6a4b2f02b]\n",
       "class E7--><rect fill=\"#FFFFFF\" height=\"45.9375\" id=\"E7\" rx=\"10\" ry=\"10\" style=\"stroke: #383838; stroke-width: 1.5;\" width=\"85\" x=\"152.5\" y=\"217.5\"/><text fill=\"#000000\" font-family=\"sans-serif\" font-size=\"12\" font-style=\"italic\" lengthAdjust=\"spacingAndGlyphs\" textLength=\"69\" x=\"160.5\" y=\"233.6387\">«attribute»</text><text fill=\"#000000\" font-family=\"sans-serif\" font-size=\"12\" lengthAdjust=\"spacingAndGlyphs\" textLength=\"79\" x=\"155.5\" y=\"247.6074\">y: DataValue</text><line style=\"stroke: #383838; stroke-width: 1.5;\" x1=\"153.5\" x2=\"236.5\" y1=\"255.4375\" y2=\"255.4375\"/><!--MD5=[b9389687b975829384b498ac4b7476b2]\n",
       "class E8--><rect fill=\"#FFFFFF\" height=\"45.9375\" id=\"E8\" rx=\"10\" ry=\"10\" style=\"stroke: #383838; stroke-width: 1.5;\" width=\"84\" x=\"81\" y=\"87.5\"/><text fill=\"#000000\" font-family=\"sans-serif\" font-size=\"12\" font-style=\"italic\" lengthAdjust=\"spacingAndGlyphs\" textLength=\"69\" x=\"88.5\" y=\"103.6387\">«attribute»</text><text fill=\"#000000\" font-family=\"sans-serif\" font-size=\"12\" lengthAdjust=\"spacingAndGlyphs\" textLength=\"78\" x=\"84\" y=\"117.6074\">z: DataValue</text><line style=\"stroke: #383838; stroke-width: 1.5;\" x1=\"82\" x2=\"164\" y1=\"125.4375\" y2=\"125.4375\"/><polygon fill=\"#FFFFFF\" points=\"271,84,413,84,420,106.2969,427,106.2969,427,136.5938,271,136.5938,271,84\" style=\"stroke: #000000; stroke-width: 1.5;\"/><line style=\"stroke: #000000; stroke-width: 1.5;\" x1=\"271\" x2=\"420\" y1=\"106.2969\" y2=\"106.2969\"/><text fill=\"#000000\" font-family=\"sans-serif\" font-size=\"14\" font-weight=\"bold\" lengthAdjust=\"spacingAndGlyphs\" textLength=\"136\" x=\"275\" y=\"98.9951\">Application Layer</text><polygon fill=\"#FFFFFF\" points=\"285,214,399,214,406,236.2969,413,236.2969,413,266.5938,285,266.5938,285,214\" style=\"stroke: #000000; stroke-width: 1.5;\"/><line style=\"stroke: #000000; stroke-width: 1.5;\" x1=\"285\" x2=\"406\" y1=\"236.2969\" y2=\"236.2969\"/><text fill=\"#000000\" font-family=\"sans-serif\" font-size=\"14\" font-weight=\"bold\" lengthAdjust=\"spacingAndGlyphs\" textLength=\"108\" x=\"289\" y=\"228.9951\">Service Layer</text><polygon fill=\"#FFFFFF\" points=\"297,344,387,344,394,366.2969,401,366.2969,401,396.5938,297,396.5938,297,344\" style=\"stroke: #000000; stroke-width: 1.5;\"/><line style=\"stroke: #000000; stroke-width: 1.5;\" x1=\"297\" x2=\"394\" y1=\"366.2969\" y2=\"366.2969\"/><text fill=\"#000000\" font-family=\"sans-serif\" font-size=\"14\" font-weight=\"bold\" lengthAdjust=\"spacingAndGlyphs\" textLength=\"84\" x=\"301\" y=\"358.9951\">Data Layer</text><!--MD5=[af87c684e3b0d8be13c1a698a818ef1e]\n",
       "link E3 to E4--><path d=\"M349,137.1 C349,156.8 349,184.22 349,205.73 \" fill=\"none\" id=\"E3-&gt;E4\" style=\"stroke: #383838; stroke-width: 1.0; stroke-dasharray: 7.0,7.0;\"/><polygon fill=\"#383838\" points=\"349,213.95,352,205.95,346,205.95,349,213.95\" style=\"stroke: #383838; stroke-width: 1.0;\"/><text fill=\"#000000\" font-family=\"sans-serif\" font-size=\"13\" lengthAdjust=\"spacingAndGlyphs\" textLength=\"64\" x=\"350\" y=\"180.0669\">«depend»</text><!--MD5=[1b7591eae5389033d8d09a9d6721a717]\n",
       "link E4 to E5--><path d=\"M349,267.1 C349,286.8 349,314.22 349,335.73 \" fill=\"none\" id=\"E4-&gt;E5\" style=\"stroke: #383838; stroke-width: 1.0; stroke-dasharray: 7.0,7.0;\"/><polygon fill=\"#383838\" points=\"349,343.95,352,335.95,346,335.95,349,343.95\" style=\"stroke: #383838; stroke-width: 1.0;\"/><text fill=\"#000000\" font-family=\"sans-serif\" font-size=\"13\" lengthAdjust=\"spacingAndGlyphs\" textLength=\"64\" x=\"350\" y=\"310.0669\">«depend»</text><!--MD5=[c5e8897d989ce984f93528998a7150fe]\n",
       "link E8 to E6--><path d=\"M90.5,133.56 C80.01,142.57 69.64,153.96 64,167 C58.27,180.26 59.78,196 63.24,209.43 \" fill=\"none\" id=\"E8-&gt;E6\" style=\"stroke: #383838; stroke-width: 1.0; stroke-dasharray: 7.0,7.0;\"/><polygon fill=\"#383838\" points=\"65.59,217.45,66.2099,208.9285,60.4539,210.6221,65.59,217.45\" style=\"stroke: #383838; stroke-width: 1.0;\"/><text fill=\"#000000\" font-family=\"sans-serif\" font-size=\"13\" lengthAdjust=\"spacingAndGlyphs\" textLength=\"64\" x=\"65\" y=\"180.0669\">«depend»</text><!--MD5=[bfa3c8b0d15052fdf50ae9310b491027]\n",
       "link E8 to E7--><path d=\"M135.38,133.5 C147.28,154.66 165.34,186.78 178.47,210.11 \" fill=\"none\" id=\"E8-&gt;E7\" style=\"stroke: #383838; stroke-width: 1.0; stroke-dasharray: 7.0,7.0;\"/><polygon fill=\"#383838\" points=\"182.54,217.35,181.2392,208.9056,176.0075,211.8431,182.54,217.35\" style=\"stroke: #383838; stroke-width: 1.0;\"/><text fill=\"#000000\" font-family=\"sans-serif\" font-size=\"13\" lengthAdjust=\"spacingAndGlyphs\" textLength=\"64\" x=\"164\" y=\"180.0669\">«depend»</text><!--MD5=[ddce0064b60b6f7857a3eec51fc8cfd4]\n",
       "@startuml\r\n",
       "skinparam monochrome true\r\n",
       "skinparam classbackgroundcolor white\r\n",
       "skinparam shadowing false\r\n",
       "skinparam wrapWidth 300\r\n",
       "hide circle\r\n",
       "\r\n",
       "package \"DependencyTest\" as E1   {\r\n",
       "package \"System\" as E2   {\r\n",
       "package \"Application Layer\" as E3   {\r\n",
       "}\r\n",
       "package \"Service Layer\" as E4   {\r\n",
       "}\r\n",
       "package \"Data Layer\" as E5   {\r\n",
       "}\r\n",
       "}\r\n",
       "comp usage \"x: DataValue\" as E6  <<(T,blue)attribute>> {\r\n",
       "}\r\n",
       "comp usage \"y: DataValue\" as E7  <<(T,blue)attribute>> {\r\n",
       "}\r\n",
       "comp usage \"z: DataValue\" as E8  <<(T,blue)attribute>> {\r\n",
       "}\r\n",
       "E3 ..>> E4 : <<depend>>\r\n",
       "E4 ..>> E5 : <<depend>>\r\n",
       "E8 ..>> E6 : <<depend>>\r\n",
       "E8 ..>> E7 : <<depend>>\r\n",
       "}\r\n",
       "@enduml\r\n",
       "\n",
       "PlantUML version 1.2020.13(Sat Jun 13 12:26:38 UTC 2020)\n",
       "(EPL source distribution)\n",
       "Java Runtime: OpenJDK Runtime Environment\n",
       "JVM: OpenJDK 64-Bit Server VM\n",
       "Default Encoding: UTF-8\n",
       "Language: en\n",
       "Country: null\n",
       "--></g></svg>"
      ]
     },
     "execution_count": 43,
     "metadata": {},
     "output_type": "execute_result"
    }
   ],
   "source": [
    "%viz --style=\"DEFAULT\" --view=\"MIXED\" \"DependencyTest\""
   ]
  },
  {
   "cell_type": "code",
   "execution_count": 44,
   "id": "brilliant-palmer",
   "metadata": {
    "execution": {
     "iopub.execute_input": "2021-03-26T09:43:57.485227Z",
     "iopub.status.busy": "2021-03-26T09:43:57.484343Z",
     "iopub.status.idle": "2021-03-26T09:43:57.516218Z",
     "shell.execute_reply": "2021-03-26T09:43:57.515149Z"
    }
   },
   "outputs": [
    {
     "data": {
      "image/svg+xml": [
       "<?xml version=\"1.0\" encoding=\"UTF-8\" standalone=\"no\"?><svg xmlns=\"http://www.w3.org/2000/svg\" xmlns:xlink=\"http://www.w3.org/1999/xlink\" contentScriptType=\"application/ecmascript\" contentStyleType=\"text/css\" height=\"449px\" preserveAspectRatio=\"none\" style=\"width:489px;height:449px;\" version=\"1.1\" viewBox=\"0 0 489 449\" width=\"489px\" zoomAndPan=\"magnify\"><defs/><g><!--MD5=[fbc87193dbaf4d95561dea2c320d4a47]\n",
       "cluster E1--><polygon fill=\"#FFFFFF\" points=\"16,6,156,6,163,28.2969,467,28.2969,467,437,16,437,16,6\" style=\"stroke: #000000; stroke-width: 1.5;\"/><line style=\"stroke: #000000; stroke-width: 1.5;\" x1=\"16\" x2=\"163\" y1=\"28.2969\" y2=\"28.2969\"/><text fill=\"#000000\" font-family=\"sans-serif\" font-size=\"14\" font-weight=\"bold\" lengthAdjust=\"spacingAndGlyphs\" textLength=\"134\" x=\"20\" y=\"20.9951\">DependencyTest</text><!--MD5=[e4f7fae6ed58524ba242bb0b0d3be6b7]\n",
       "cluster E2--><polygon fill=\"#FFFFFF\" points=\"255,49,319,49,326,71.2969,443,71.2969,443,413,255,413,255,49\" style=\"stroke: #000000; stroke-width: 1.5;\"/><line style=\"stroke: #000000; stroke-width: 1.5;\" x1=\"255\" x2=\"326\" y1=\"71.2969\" y2=\"71.2969\"/><text fill=\"#000000\" font-family=\"sans-serif\" font-size=\"14\" font-weight=\"bold\" lengthAdjust=\"spacingAndGlyphs\" textLength=\"58\" x=\"259\" y=\"63.9951\">System</text><!--MD5=[60a26617385b1d2d0262a64233df1f8d]\n",
       "class E6--><rect fill=\"#FFFFFF\" height=\"45.9375\" id=\"E6\" rx=\"10\" ry=\"10\" style=\"stroke: #383838; stroke-width: 1.5;\" width=\"85\" x=\"32.5\" y=\"217.5\"/><text fill=\"#000000\" font-family=\"sans-serif\" font-size=\"12\" font-style=\"italic\" lengthAdjust=\"spacingAndGlyphs\" textLength=\"69\" x=\"40.5\" y=\"233.6387\">«attribute»</text><text fill=\"#000000\" font-family=\"sans-serif\" font-size=\"12\" lengthAdjust=\"spacingAndGlyphs\" textLength=\"79\" x=\"35.5\" y=\"247.6074\">x: DataValue</text><line style=\"stroke: #383838; stroke-width: 1.5;\" x1=\"33.5\" x2=\"116.5\" y1=\"255.4375\" y2=\"255.4375\"/><!--MD5=[2156ba9850f5573cc1fc38a6a4b2f02b]\n",
       "class E7--><rect fill=\"#FFFFFF\" height=\"45.9375\" id=\"E7\" rx=\"10\" ry=\"10\" style=\"stroke: #383838; stroke-width: 1.5;\" width=\"85\" x=\"152.5\" y=\"217.5\"/><text fill=\"#000000\" font-family=\"sans-serif\" font-size=\"12\" font-style=\"italic\" lengthAdjust=\"spacingAndGlyphs\" textLength=\"69\" x=\"160.5\" y=\"233.6387\">«attribute»</text><text fill=\"#000000\" font-family=\"sans-serif\" font-size=\"12\" lengthAdjust=\"spacingAndGlyphs\" textLength=\"79\" x=\"155.5\" y=\"247.6074\">y: DataValue</text><line style=\"stroke: #383838; stroke-width: 1.5;\" x1=\"153.5\" x2=\"236.5\" y1=\"255.4375\" y2=\"255.4375\"/><!--MD5=[b9389687b975829384b498ac4b7476b2]\n",
       "class E8--><rect fill=\"#FFFFFF\" height=\"45.9375\" id=\"E8\" rx=\"10\" ry=\"10\" style=\"stroke: #383838; stroke-width: 1.5;\" width=\"84\" x=\"81\" y=\"87.5\"/><text fill=\"#000000\" font-family=\"sans-serif\" font-size=\"12\" font-style=\"italic\" lengthAdjust=\"spacingAndGlyphs\" textLength=\"69\" x=\"88.5\" y=\"103.6387\">«attribute»</text><text fill=\"#000000\" font-family=\"sans-serif\" font-size=\"12\" lengthAdjust=\"spacingAndGlyphs\" textLength=\"78\" x=\"84\" y=\"117.6074\">z: DataValue</text><line style=\"stroke: #383838; stroke-width: 1.5;\" x1=\"82\" x2=\"164\" y1=\"125.4375\" y2=\"125.4375\"/><polygon fill=\"#FFFFFF\" points=\"271,84,413,84,420,106.2969,427,106.2969,427,136.5938,271,136.5938,271,84\" style=\"stroke: #000000; stroke-width: 1.5;\"/><line style=\"stroke: #000000; stroke-width: 1.5;\" x1=\"271\" x2=\"420\" y1=\"106.2969\" y2=\"106.2969\"/><text fill=\"#000000\" font-family=\"sans-serif\" font-size=\"14\" font-weight=\"bold\" lengthAdjust=\"spacingAndGlyphs\" textLength=\"136\" x=\"275\" y=\"98.9951\">Application Layer</text><polygon fill=\"#FFFFFF\" points=\"285,214,399,214,406,236.2969,413,236.2969,413,266.5938,285,266.5938,285,214\" style=\"stroke: #000000; stroke-width: 1.5;\"/><line style=\"stroke: #000000; stroke-width: 1.5;\" x1=\"285\" x2=\"406\" y1=\"236.2969\" y2=\"236.2969\"/><text fill=\"#000000\" font-family=\"sans-serif\" font-size=\"14\" font-weight=\"bold\" lengthAdjust=\"spacingAndGlyphs\" textLength=\"108\" x=\"289\" y=\"228.9951\">Service Layer</text><polygon fill=\"#FFFFFF\" points=\"297,344,387,344,394,366.2969,401,366.2969,401,396.5938,297,396.5938,297,344\" style=\"stroke: #000000; stroke-width: 1.5;\"/><line style=\"stroke: #000000; stroke-width: 1.5;\" x1=\"297\" x2=\"394\" y1=\"366.2969\" y2=\"366.2969\"/><text fill=\"#000000\" font-family=\"sans-serif\" font-size=\"14\" font-weight=\"bold\" lengthAdjust=\"spacingAndGlyphs\" textLength=\"84\" x=\"301\" y=\"358.9951\">Data Layer</text><!--MD5=[af87c684e3b0d8be13c1a698a818ef1e]\n",
       "link E3 to E4--><path d=\"M349,137.1 C349,156.8 349,184.22 349,205.73 \" fill=\"none\" id=\"E3-&gt;E4\" style=\"stroke: #383838; stroke-width: 1.0; stroke-dasharray: 7.0,7.0;\"/><polygon fill=\"#383838\" points=\"349,213.95,352,205.95,346,205.95,349,213.95\" style=\"stroke: #383838; stroke-width: 1.0;\"/><text fill=\"#000000\" font-family=\"sans-serif\" font-size=\"13\" lengthAdjust=\"spacingAndGlyphs\" textLength=\"64\" x=\"350\" y=\"180.0669\">«depend»</text><!--MD5=[1b7591eae5389033d8d09a9d6721a717]\n",
       "link E4 to E5--><path d=\"M349,267.1 C349,286.8 349,314.22 349,335.73 \" fill=\"none\" id=\"E4-&gt;E5\" style=\"stroke: #383838; stroke-width: 1.0; stroke-dasharray: 7.0,7.0;\"/><polygon fill=\"#383838\" points=\"349,343.95,352,335.95,346,335.95,349,343.95\" style=\"stroke: #383838; stroke-width: 1.0;\"/><text fill=\"#000000\" font-family=\"sans-serif\" font-size=\"13\" lengthAdjust=\"spacingAndGlyphs\" textLength=\"64\" x=\"350\" y=\"310.0669\">«depend»</text><!--MD5=[c5e8897d989ce984f93528998a7150fe]\n",
       "link E8 to E6--><path d=\"M90.5,133.56 C80.01,142.57 69.64,153.96 64,167 C58.27,180.26 59.78,196 63.24,209.43 \" fill=\"none\" id=\"E8-&gt;E6\" style=\"stroke: #383838; stroke-width: 1.0; stroke-dasharray: 7.0,7.0;\"/><polygon fill=\"#383838\" points=\"65.59,217.45,66.2099,208.9285,60.4539,210.6221,65.59,217.45\" style=\"stroke: #383838; stroke-width: 1.0;\"/><text fill=\"#000000\" font-family=\"sans-serif\" font-size=\"13\" lengthAdjust=\"spacingAndGlyphs\" textLength=\"64\" x=\"65\" y=\"180.0669\">«depend»</text><!--MD5=[bfa3c8b0d15052fdf50ae9310b491027]\n",
       "link E8 to E7--><path d=\"M135.38,133.5 C147.28,154.66 165.34,186.78 178.47,210.11 \" fill=\"none\" id=\"E8-&gt;E7\" style=\"stroke: #383838; stroke-width: 1.0; stroke-dasharray: 7.0,7.0;\"/><polygon fill=\"#383838\" points=\"182.54,217.35,181.2392,208.9056,176.0075,211.8431,182.54,217.35\" style=\"stroke: #383838; stroke-width: 1.0;\"/><text fill=\"#000000\" font-family=\"sans-serif\" font-size=\"13\" lengthAdjust=\"spacingAndGlyphs\" textLength=\"64\" x=\"164\" y=\"180.0669\">«depend»</text><!--MD5=[fcd56dc23e2cad36659bc3c0819b255c]\n",
       "@startuml\r\n",
       "top to bottom direction\r\n",
       "skinparam monochrome true\r\n",
       "skinparam classbackgroundcolor white\r\n",
       "skinparam shadowing false\r\n",
       "skinparam wrapWidth 300\r\n",
       "hide circle\r\n",
       "\r\n",
       "package \"DependencyTest\" as E1   {\r\n",
       "package \"System\" as E2   {\r\n",
       "package \"Application Layer\" as E3   {\r\n",
       "}\r\n",
       "package \"Service Layer\" as E4   {\r\n",
       "}\r\n",
       "package \"Data Layer\" as E5   {\r\n",
       "}\r\n",
       "}\r\n",
       "comp usage \"x: DataValue\" as E6  <<(T,blue)attribute>> {\r\n",
       "}\r\n",
       "comp usage \"y: DataValue\" as E7  <<(T,blue)attribute>> {\r\n",
       "}\r\n",
       "comp usage \"z: DataValue\" as E8  <<(T,blue)attribute>> {\r\n",
       "}\r\n",
       "E3 ..>> E4 : <<depend>>\r\n",
       "E4 ..>> E5 : <<depend>>\r\n",
       "E8 ..>> E6 : <<depend>>\r\n",
       "E8 ..>> E7 : <<depend>>\r\n",
       "}\r\n",
       "@enduml\r\n",
       "\n",
       "PlantUML version 1.2020.13(Sat Jun 13 12:26:38 UTC 2020)\n",
       "(EPL source distribution)\n",
       "Java Runtime: OpenJDK Runtime Environment\n",
       "JVM: OpenJDK 64-Bit Server VM\n",
       "Default Encoding: UTF-8\n",
       "Language: en\n",
       "Country: null\n",
       "--></g></svg>"
      ]
     },
     "execution_count": 44,
     "metadata": {},
     "output_type": "execute_result"
    }
   ],
   "source": [
    "%viz --style=\"TB\" --view=\"Default\" \"DependencyTest\""
   ]
  },
  {
   "cell_type": "code",
   "execution_count": 45,
   "id": "primary-active",
   "metadata": {
    "execution": {
     "iopub.execute_input": "2021-03-26T09:43:57.568417Z",
     "iopub.status.busy": "2021-03-26T09:43:57.567554Z",
     "iopub.status.idle": "2021-03-26T09:43:57.597879Z",
     "shell.execute_reply": "2021-03-26T09:43:57.596632Z"
    }
   },
   "outputs": [
    {
     "data": {
      "image/svg+xml": [
       "<?xml version=\"1.0\" encoding=\"UTF-8\" standalone=\"no\"?><svg xmlns=\"http://www.w3.org/2000/svg\" xmlns:xlink=\"http://www.w3.org/1999/xlink\" contentScriptType=\"application/ecmascript\" contentStyleType=\"text/css\" height=\"449px\" preserveAspectRatio=\"none\" style=\"width:489px;height:449px;\" version=\"1.1\" viewBox=\"0 0 489 449\" width=\"489px\" zoomAndPan=\"magnify\"><defs/><g><!--MD5=[fbc87193dbaf4d95561dea2c320d4a47]\n",
       "cluster E1--><polygon fill=\"#FFFFFF\" points=\"16,6,156,6,163,28.2969,467,28.2969,467,437,16,437,16,6\" style=\"stroke: #000000; stroke-width: 1.5;\"/><line style=\"stroke: #000000; stroke-width: 1.5;\" x1=\"16\" x2=\"163\" y1=\"28.2969\" y2=\"28.2969\"/><text fill=\"#000000\" font-family=\"sans-serif\" font-size=\"14\" font-weight=\"bold\" lengthAdjust=\"spacingAndGlyphs\" textLength=\"134\" x=\"20\" y=\"20.9951\">DependencyTest</text><!--MD5=[e4f7fae6ed58524ba242bb0b0d3be6b7]\n",
       "cluster E2--><polygon fill=\"#FFFFFF\" points=\"255,49,319,49,326,71.2969,443,71.2969,443,413,255,413,255,49\" style=\"stroke: #000000; stroke-width: 1.5;\"/><line style=\"stroke: #000000; stroke-width: 1.5;\" x1=\"255\" x2=\"326\" y1=\"71.2969\" y2=\"71.2969\"/><text fill=\"#000000\" font-family=\"sans-serif\" font-size=\"14\" font-weight=\"bold\" lengthAdjust=\"spacingAndGlyphs\" textLength=\"58\" x=\"259\" y=\"63.9951\">System</text><!--MD5=[60a26617385b1d2d0262a64233df1f8d]\n",
       "class E6--><rect fill=\"#FFFFFF\" height=\"45.9375\" id=\"E6\" rx=\"10\" ry=\"10\" style=\"stroke: #383838; stroke-width: 1.5;\" width=\"85\" x=\"32.5\" y=\"217.5\"/><text fill=\"#000000\" font-family=\"sans-serif\" font-size=\"12\" font-style=\"italic\" lengthAdjust=\"spacingAndGlyphs\" textLength=\"69\" x=\"40.5\" y=\"233.6387\">«attribute»</text><text fill=\"#000000\" font-family=\"sans-serif\" font-size=\"12\" lengthAdjust=\"spacingAndGlyphs\" textLength=\"79\" x=\"35.5\" y=\"247.6074\">x: DataValue</text><line style=\"stroke: #383838; stroke-width: 1.5;\" x1=\"33.5\" x2=\"116.5\" y1=\"255.4375\" y2=\"255.4375\"/><!--MD5=[2156ba9850f5573cc1fc38a6a4b2f02b]\n",
       "class E7--><rect fill=\"#FFFFFF\" height=\"45.9375\" id=\"E7\" rx=\"10\" ry=\"10\" style=\"stroke: #383838; stroke-width: 1.5;\" width=\"85\" x=\"152.5\" y=\"217.5\"/><text fill=\"#000000\" font-family=\"sans-serif\" font-size=\"12\" font-style=\"italic\" lengthAdjust=\"spacingAndGlyphs\" textLength=\"69\" x=\"160.5\" y=\"233.6387\">«attribute»</text><text fill=\"#000000\" font-family=\"sans-serif\" font-size=\"12\" lengthAdjust=\"spacingAndGlyphs\" textLength=\"79\" x=\"155.5\" y=\"247.6074\">y: DataValue</text><line style=\"stroke: #383838; stroke-width: 1.5;\" x1=\"153.5\" x2=\"236.5\" y1=\"255.4375\" y2=\"255.4375\"/><!--MD5=[b9389687b975829384b498ac4b7476b2]\n",
       "class E8--><rect fill=\"#FFFFFF\" height=\"45.9375\" id=\"E8\" rx=\"10\" ry=\"10\" style=\"stroke: #383838; stroke-width: 1.5;\" width=\"84\" x=\"81\" y=\"87.5\"/><text fill=\"#000000\" font-family=\"sans-serif\" font-size=\"12\" font-style=\"italic\" lengthAdjust=\"spacingAndGlyphs\" textLength=\"69\" x=\"88.5\" y=\"103.6387\">«attribute»</text><text fill=\"#000000\" font-family=\"sans-serif\" font-size=\"12\" lengthAdjust=\"spacingAndGlyphs\" textLength=\"78\" x=\"84\" y=\"117.6074\">z: DataValue</text><line style=\"stroke: #383838; stroke-width: 1.5;\" x1=\"82\" x2=\"164\" y1=\"125.4375\" y2=\"125.4375\"/><polygon fill=\"#FFFFFF\" points=\"271,84,413,84,420,106.2969,427,106.2969,427,136.5938,271,136.5938,271,84\" style=\"stroke: #000000; stroke-width: 1.5;\"/><line style=\"stroke: #000000; stroke-width: 1.5;\" x1=\"271\" x2=\"420\" y1=\"106.2969\" y2=\"106.2969\"/><text fill=\"#000000\" font-family=\"sans-serif\" font-size=\"14\" font-weight=\"bold\" lengthAdjust=\"spacingAndGlyphs\" textLength=\"136\" x=\"275\" y=\"98.9951\">Application Layer</text><polygon fill=\"#FFFFFF\" points=\"285,214,399,214,406,236.2969,413,236.2969,413,266.5938,285,266.5938,285,214\" style=\"stroke: #000000; stroke-width: 1.5;\"/><line style=\"stroke: #000000; stroke-width: 1.5;\" x1=\"285\" x2=\"406\" y1=\"236.2969\" y2=\"236.2969\"/><text fill=\"#000000\" font-family=\"sans-serif\" font-size=\"14\" font-weight=\"bold\" lengthAdjust=\"spacingAndGlyphs\" textLength=\"108\" x=\"289\" y=\"228.9951\">Service Layer</text><polygon fill=\"#FFFFFF\" points=\"297,344,387,344,394,366.2969,401,366.2969,401,396.5938,297,396.5938,297,344\" style=\"stroke: #000000; stroke-width: 1.5;\"/><line style=\"stroke: #000000; stroke-width: 1.5;\" x1=\"297\" x2=\"394\" y1=\"366.2969\" y2=\"366.2969\"/><text fill=\"#000000\" font-family=\"sans-serif\" font-size=\"14\" font-weight=\"bold\" lengthAdjust=\"spacingAndGlyphs\" textLength=\"84\" x=\"301\" y=\"358.9951\">Data Layer</text><!--MD5=[af87c684e3b0d8be13c1a698a818ef1e]\n",
       "link E3 to E4--><path d=\"M349,137.1 C349,156.8 349,184.22 349,205.73 \" fill=\"none\" id=\"E3-&gt;E4\" style=\"stroke: #383838; stroke-width: 1.0; stroke-dasharray: 7.0,7.0;\"/><polygon fill=\"#383838\" points=\"349,213.95,352,205.95,346,205.95,349,213.95\" style=\"stroke: #383838; stroke-width: 1.0;\"/><text fill=\"#000000\" font-family=\"sans-serif\" font-size=\"13\" lengthAdjust=\"spacingAndGlyphs\" textLength=\"64\" x=\"350\" y=\"180.0669\">«depend»</text><!--MD5=[1b7591eae5389033d8d09a9d6721a717]\n",
       "link E4 to E5--><path d=\"M349,267.1 C349,286.8 349,314.22 349,335.73 \" fill=\"none\" id=\"E4-&gt;E5\" style=\"stroke: #383838; stroke-width: 1.0; stroke-dasharray: 7.0,7.0;\"/><polygon fill=\"#383838\" points=\"349,343.95,352,335.95,346,335.95,349,343.95\" style=\"stroke: #383838; stroke-width: 1.0;\"/><text fill=\"#000000\" font-family=\"sans-serif\" font-size=\"13\" lengthAdjust=\"spacingAndGlyphs\" textLength=\"64\" x=\"350\" y=\"310.0669\">«depend»</text><!--MD5=[c5e8897d989ce984f93528998a7150fe]\n",
       "link E8 to E6--><path d=\"M90.5,133.56 C80.01,142.57 69.64,153.96 64,167 C58.27,180.26 59.78,196 63.24,209.43 \" fill=\"none\" id=\"E8-&gt;E6\" style=\"stroke: #383838; stroke-width: 1.0; stroke-dasharray: 7.0,7.0;\"/><polygon fill=\"#383838\" points=\"65.59,217.45,66.2099,208.9285,60.4539,210.6221,65.59,217.45\" style=\"stroke: #383838; stroke-width: 1.0;\"/><text fill=\"#000000\" font-family=\"sans-serif\" font-size=\"13\" lengthAdjust=\"spacingAndGlyphs\" textLength=\"64\" x=\"65\" y=\"180.0669\">«depend»</text><!--MD5=[bfa3c8b0d15052fdf50ae9310b491027]\n",
       "link E8 to E7--><path d=\"M135.38,133.5 C147.28,154.66 165.34,186.78 178.47,210.11 \" fill=\"none\" id=\"E8-&gt;E7\" style=\"stroke: #383838; stroke-width: 1.0; stroke-dasharray: 7.0,7.0;\"/><polygon fill=\"#383838\" points=\"182.54,217.35,181.2392,208.9056,176.0075,211.8431,182.54,217.35\" style=\"stroke: #383838; stroke-width: 1.0;\"/><text fill=\"#000000\" font-family=\"sans-serif\" font-size=\"13\" lengthAdjust=\"spacingAndGlyphs\" textLength=\"64\" x=\"164\" y=\"180.0669\">«depend»</text><!--MD5=[fcd56dc23e2cad36659bc3c0819b255c]\n",
       "@startuml\r\n",
       "top to bottom direction\r\n",
       "skinparam monochrome true\r\n",
       "skinparam classbackgroundcolor white\r\n",
       "skinparam shadowing false\r\n",
       "skinparam wrapWidth 300\r\n",
       "hide circle\r\n",
       "\r\n",
       "package \"DependencyTest\" as E1   {\r\n",
       "package \"System\" as E2   {\r\n",
       "package \"Application Layer\" as E3   {\r\n",
       "}\r\n",
       "package \"Service Layer\" as E4   {\r\n",
       "}\r\n",
       "package \"Data Layer\" as E5   {\r\n",
       "}\r\n",
       "}\r\n",
       "comp usage \"x: DataValue\" as E6  <<(T,blue)attribute>> {\r\n",
       "}\r\n",
       "comp usage \"y: DataValue\" as E7  <<(T,blue)attribute>> {\r\n",
       "}\r\n",
       "comp usage \"z: DataValue\" as E8  <<(T,blue)attribute>> {\r\n",
       "}\r\n",
       "E3 ..>> E4 : <<depend>>\r\n",
       "E4 ..>> E5 : <<depend>>\r\n",
       "E8 ..>> E6 : <<depend>>\r\n",
       "E8 ..>> E7 : <<depend>>\r\n",
       "}\r\n",
       "@enduml\r\n",
       "\n",
       "PlantUML version 1.2020.13(Sat Jun 13 12:26:38 UTC 2020)\n",
       "(EPL source distribution)\n",
       "Java Runtime: OpenJDK Runtime Environment\n",
       "JVM: OpenJDK 64-Bit Server VM\n",
       "Default Encoding: UTF-8\n",
       "Language: en\n",
       "Country: null\n",
       "--></g></svg>"
      ]
     },
     "execution_count": 45,
     "metadata": {},
     "output_type": "execute_result"
    }
   ],
   "source": [
    "%viz --style=\"TB\" --view=\"Tree\" \"DependencyTest\""
   ]
  },
  {
   "cell_type": "code",
   "execution_count": 46,
   "id": "matched-czech",
   "metadata": {
    "execution": {
     "iopub.execute_input": "2021-03-26T09:43:57.650098Z",
     "iopub.status.busy": "2021-03-26T09:43:57.648992Z",
     "iopub.status.idle": "2021-03-26T09:43:57.651882Z",
     "shell.execute_reply": "2021-03-26T09:43:57.652395Z"
    }
   },
   "outputs": [
    {
     "data": {
      "text/plain": [
       "java.lang.IllegalArgumentException: Invalid View: State View candidates are: Default Tree StateMachine Interconnection Activity Sequence MIXED \n",
       "\tat org.omg.sysml.plantuml.SysML2PlantUMLSvc.setView(SysML2PlantUMLSvc.java:63)\n",
       "\tat org.omg.sysml.interactive.SysMLInteractive.viz(SysMLInteractive.java:286)\n",
       "\tat org.omg.sysml.jupyter.kernel.magic.Viz.viz(Viz.java:47)\n",
       "\tat jdk.internal.reflect.GeneratedMethodAccessor8.invoke(Unknown Source)\n",
       "\tat java.base/jdk.internal.reflect.DelegatingMethodAccessorImpl.invoke(DelegatingMethodAccessorImpl.java:43)\n",
       "\tat java.base/java.lang.reflect.Method.invoke(Method.java:568)\n",
       "\tat io.github.spencerpark.jupyter.kernel.magic.registry.Magics.invoke(Magics.java:89)\n",
       "\tat io.github.spencerpark.jupyter.kernel.magic.registry.Magics.access$000(Magics.java:8)\n",
       "\tat io.github.spencerpark.jupyter.kernel.magic.registry.Magics$LineReflectionMagicFunction.execute(Magics.java:149)\n",
       "\tat io.github.spencerpark.jupyter.kernel.magic.registry.Magics.applyLineMagic(Magics.java:26)\n",
       "\tat org.omg.sysml.jupyter.kernel.SysMLKernel.eval(SysMLKernel.java:76)\n",
       "\tat io.github.spencerpark.jupyter.kernel.BaseKernel.handleExecuteRequest(BaseKernel.java:334)\n",
       "\tat io.github.spencerpark.jupyter.channels.ShellChannel.lambda$bind$0(ShellChannel.java:64)\n",
       "\tat io.github.spencerpark.jupyter.channels.Loop.lambda$new$0(Loop.java:21)\n",
       "\tat io.github.spencerpark.jupyter.channels.Loop.run(Loop.java:78)\n"
      ]
     },
     "execution_count": 46,
     "metadata": {},
     "output_type": "execute_result"
    }
   ],
   "source": [
    "%viz --style=\"TB\" --view=\"State\" \"DependencyTest\""
   ]
  },
  {
   "cell_type": "code",
   "execution_count": 47,
   "id": "positive-yield",
   "metadata": {
    "execution": {
     "iopub.execute_input": "2021-03-26T09:43:57.703331Z",
     "iopub.status.busy": "2021-03-26T09:43:57.702634Z",
     "iopub.status.idle": "2021-03-26T09:43:57.739660Z",
     "shell.execute_reply": "2021-03-26T09:43:57.738273Z"
    }
   },
   "outputs": [
    {
     "data": {
      "image/svg+xml": [
       "<?xml version=\"1.0\" encoding=\"UTF-8\" standalone=\"no\"?><svg xmlns=\"http://www.w3.org/2000/svg\" xmlns:xlink=\"http://www.w3.org/1999/xlink\" contentScriptType=\"application/ecmascript\" contentStyleType=\"text/css\" height=\"361px\" preserveAspectRatio=\"none\" style=\"width:529px;height:361px;\" version=\"1.1\" viewBox=\"0 0 529 361\" width=\"529px\" zoomAndPan=\"magnify\"><defs/><g><!--MD5=[fbc87193dbaf4d95561dea2c320d4a47]\n",
       "cluster E1--><polygon fill=\"#FFFFFF\" points=\"16,6,156,6,163,28.2969,507,28.2969,507,349,16,349,16,6\" style=\"stroke: #000000; stroke-width: 1.5;\"/><line style=\"stroke: #000000; stroke-width: 1.5;\" x1=\"16\" x2=\"163\" y1=\"28.2969\" y2=\"28.2969\"/><text fill=\"#000000\" font-family=\"sans-serif\" font-size=\"14\" font-weight=\"bold\" lengthAdjust=\"spacingAndGlyphs\" textLength=\"134\" x=\"20\" y=\"20.9951\">DependencyTest</text><!--MD5=[e4f7fae6ed58524ba242bb0b0d3be6b7]\n",
       "cluster E2--><polygon fill=\"#FFFFFF\" points=\"295,49,359,49,366,71.2969,483,71.2969,483,325,295,325,295,49\" style=\"stroke: #000000; stroke-width: 1.5;\"/><line style=\"stroke: #000000; stroke-width: 1.5;\" x1=\"295\" x2=\"366\" y1=\"71.2969\" y2=\"71.2969\"/><text fill=\"#000000\" font-family=\"sans-serif\" font-size=\"14\" font-weight=\"bold\" lengthAdjust=\"spacingAndGlyphs\" textLength=\"58\" x=\"299\" y=\"63.9951\">System</text><polygon fill=\"#FFFFFF\" points=\"311,84,453,84,460,106.2969,467,106.2969,467,136.5938,311,136.5938,311,84\" style=\"stroke: #000000; stroke-width: 1.5;\"/><line style=\"stroke: #000000; stroke-width: 1.5;\" x1=\"311\" x2=\"460\" y1=\"106.2969\" y2=\"106.2969\"/><text fill=\"#000000\" font-family=\"sans-serif\" font-size=\"14\" font-weight=\"bold\" lengthAdjust=\"spacingAndGlyphs\" textLength=\"136\" x=\"315\" y=\"98.9951\">Application Layer</text><polygon fill=\"#FFFFFF\" points=\"325,170,439,170,446,192.2969,453,192.2969,453,222.5938,325,222.5938,325,170\" style=\"stroke: #000000; stroke-width: 1.5;\"/><line style=\"stroke: #000000; stroke-width: 1.5;\" x1=\"325\" x2=\"446\" y1=\"192.2969\" y2=\"192.2969\"/><text fill=\"#000000\" font-family=\"sans-serif\" font-size=\"14\" font-weight=\"bold\" lengthAdjust=\"spacingAndGlyphs\" textLength=\"108\" x=\"329\" y=\"184.9951\">Service Layer</text><polygon fill=\"#FFFFFF\" points=\"337,256,427,256,434,278.2969,441,278.2969,441,308.5938,337,308.5938,337,256\" style=\"stroke: #000000; stroke-width: 1.5;\"/><line style=\"stroke: #000000; stroke-width: 1.5;\" x1=\"337\" x2=\"434\" y1=\"278.2969\" y2=\"278.2969\"/><text fill=\"#000000\" font-family=\"sans-serif\" font-size=\"14\" font-weight=\"bold\" lengthAdjust=\"spacingAndGlyphs\" textLength=\"84\" x=\"341\" y=\"270.9951\">Data Layer</text><g id=\"E1.E6\"><rect fill=\"#FFFFFF\" height=\"50\" rx=\"12.5\" ry=\"12.5\" style=\"stroke: #383838; stroke-width: 1.5;\" width=\"106\" x=\"32\" y=\"171.5\"/><line style=\"stroke: #383838; stroke-width: 1.5;\" x1=\"32\" x2=\"138\" y1=\"197.7969\" y2=\"197.7969\"/><text fill=\"#000000\" font-family=\"sans-serif\" font-size=\"14\" lengthAdjust=\"spacingAndGlyphs\" textLength=\"86\" x=\"42\" y=\"189.4951\">x: DataValue</text></g><g id=\"E1.E7\"><rect fill=\"#FFFFFF\" height=\"50\" rx=\"12.5\" ry=\"12.5\" style=\"stroke: #383838; stroke-width: 1.5;\" width=\"106\" x=\"173\" y=\"171.5\"/><line style=\"stroke: #383838; stroke-width: 1.5;\" x1=\"173\" x2=\"279\" y1=\"197.7969\" y2=\"197.7969\"/><text fill=\"#000000\" font-family=\"sans-serif\" font-size=\"14\" lengthAdjust=\"spacingAndGlyphs\" textLength=\"86\" x=\"183\" y=\"189.4951\">y: DataValue</text></g><g id=\"E1.E8\"><rect fill=\"#FFFFFF\" height=\"50\" rx=\"12.5\" ry=\"12.5\" style=\"stroke: #383838; stroke-width: 1.5;\" width=\"107\" x=\"84.5\" y=\"85.5\"/><line style=\"stroke: #383838; stroke-width: 1.5;\" x1=\"84.5\" x2=\"191.5\" y1=\"111.7969\" y2=\"111.7969\"/><text fill=\"#000000\" font-family=\"sans-serif\" font-size=\"14\" lengthAdjust=\"spacingAndGlyphs\" textLength=\"87\" x=\"94.5\" y=\"103.4951\">z: DataValue</text></g><!--MD5=[af87c684e3b0d8be13c1a698a818ef1e]\n",
       "link E3 to E4--><path d=\"M389,137.16 C389,144.98 389,153.69 389,161.94 \" fill=\"none\" id=\"E3-&gt;E4\" style=\"stroke: #383838; stroke-width: 1.0; stroke-dasharray: 7.0,7.0;\"/><polygon fill=\"#383838\" points=\"389,170,392,162,386,162,389,170\" style=\"stroke: #383838; stroke-width: 1.0;\"/><text fill=\"#000000\" font-family=\"sans-serif\" font-size=\"13\" lengthAdjust=\"spacingAndGlyphs\" textLength=\"64\" x=\"390\" y=\"158.0669\">«depend»</text><!--MD5=[1b7591eae5389033d8d09a9d6721a717]\n",
       "link E4 to E5--><path d=\"M389,223.16 C389,230.98 389,239.69 389,247.94 \" fill=\"none\" id=\"E4-&gt;E5\" style=\"stroke: #383838; stroke-width: 1.0; stroke-dasharray: 7.0,7.0;\"/><polygon fill=\"#383838\" points=\"389,256,392,248,386,248,389,256\" style=\"stroke: #383838; stroke-width: 1.0;\"/><text fill=\"#000000\" font-family=\"sans-serif\" font-size=\"13\" lengthAdjust=\"spacingAndGlyphs\" textLength=\"64\" x=\"390\" y=\"244.0669\">«depend»</text><!--MD5=[c5e8897d989ce984f93528998a7150fe]\n",
       "link E8 to E6--><path d=\"M105.13,135.85 C102.47,138.72 100.03,141.78 98,145 C94.5,150.55 91.94,156.99 90.07,163.39 \" fill=\"none\" id=\"E8-&gt;E6\" style=\"stroke: #383838; stroke-width: 1.0; stroke-dasharray: 7.0,7.0;\"/><polygon fill=\"#383838\" points=\"88.05,171.4,92.9159,164.377,87.0982,162.9092,88.05,171.4\" style=\"stroke: #383838; stroke-width: 1.0;\"/><text fill=\"#000000\" font-family=\"sans-serif\" font-size=\"13\" lengthAdjust=\"spacingAndGlyphs\" textLength=\"64\" x=\"99\" y=\"158.0669\">«depend»</text><!--MD5=[bfa3c8b0d15052fdf50ae9310b491027]\n",
       "link E8 to E7--><path d=\"M163.45,135.8 C173.21,145.11 184.46,155.85 194.71,165.63 \" fill=\"none\" id=\"E8-&gt;E7\" style=\"stroke: #383838; stroke-width: 1.0; stroke-dasharray: 7.0,7.0;\"/><polygon fill=\"#383838\" points=\"200.6,171.26,196.8886,163.5642,192.7435,167.9021,200.6,171.26\" style=\"stroke: #383838; stroke-width: 1.0;\"/><text fill=\"#000000\" font-family=\"sans-serif\" font-size=\"13\" lengthAdjust=\"spacingAndGlyphs\" textLength=\"64\" x=\"190\" y=\"158.0669\">«depend»</text><!--MD5=[6e0045f029704891fe3f624f720a1145]\n",
       "@startuml\r\n",
       "skinparam ranksep 8\r\n",
       "skinparam rectangle {\r\n",
       " backgroundColor<<block>> LightGreen\r\n",
       "}\r\n",
       "top to bottom direction\r\n",
       "skinparam monochrome true\r\n",
       "skinparam classbackgroundcolor white\r\n",
       "skinparam shadowing false\r\n",
       "skinparam wrapWidth 300\r\n",
       "hide circle\r\n",
       "\r\n",
       "package \"DependencyTest\" as E1   {\r\n",
       "package \"System\" as E2   {\r\n",
       "package \"Application Layer\" as E3   {\r\n",
       "}\r\n",
       "package \"Service Layer\" as E4   {\r\n",
       "}\r\n",
       "package \"Data Layer\" as E5   {\r\n",
       "}\r\n",
       "}\r\n",
       "rec usage \"x: DataValue\" as E6  <<attribute>> {\r\n",
       "}\r\n",
       "rec usage \"y: DataValue\" as E7  <<attribute>> {\r\n",
       "}\r\n",
       "rec usage \"z: DataValue\" as E8  <<attribute>> {\r\n",
       "}\r\n",
       "E3 ..>> E4 : <<depend>>\r\n",
       "E4 ..>> E5 : <<depend>>\r\n",
       "E8 ..>> E6 : <<depend>>\r\n",
       "E8 ..>> E7 : <<depend>>\r\n",
       "}\r\n",
       "@enduml\r\n",
       "\n",
       "PlantUML version 1.2020.13(Sat Jun 13 12:26:38 UTC 2020)\n",
       "(EPL source distribution)\n",
       "Java Runtime: OpenJDK Runtime Environment\n",
       "JVM: OpenJDK 64-Bit Server VM\n",
       "Default Encoding: UTF-8\n",
       "Language: en\n",
       "Country: null\n",
       "--></g></svg>"
      ]
     },
     "execution_count": 47,
     "metadata": {},
     "output_type": "execute_result"
    }
   ],
   "source": [
    "%viz --style=\"TB\" --view=\"Interconnection\" \"DependencyTest\""
   ]
  },
  {
   "cell_type": "code",
   "execution_count": 48,
   "id": "demographic-engineering",
   "metadata": {
    "execution": {
     "iopub.execute_input": "2021-03-26T09:43:57.790831Z",
     "iopub.status.busy": "2021-03-26T09:43:57.790220Z",
     "iopub.status.idle": "2021-03-26T09:43:57.792636Z",
     "shell.execute_reply": "2021-03-26T09:43:57.792283Z"
    }
   },
   "outputs": [
    {
     "data": {
      "text/plain": [
       "java.lang.IllegalArgumentException: Invalid View: Action View candidates are: Default Tree StateMachine Interconnection Activity Sequence MIXED \n",
       "\tat org.omg.sysml.plantuml.SysML2PlantUMLSvc.setView(SysML2PlantUMLSvc.java:63)\n",
       "\tat org.omg.sysml.interactive.SysMLInteractive.viz(SysMLInteractive.java:286)\n",
       "\tat org.omg.sysml.jupyter.kernel.magic.Viz.viz(Viz.java:47)\n",
       "\tat jdk.internal.reflect.GeneratedMethodAccessor8.invoke(Unknown Source)\n",
       "\tat java.base/jdk.internal.reflect.DelegatingMethodAccessorImpl.invoke(DelegatingMethodAccessorImpl.java:43)\n",
       "\tat java.base/java.lang.reflect.Method.invoke(Method.java:568)\n",
       "\tat io.github.spencerpark.jupyter.kernel.magic.registry.Magics.invoke(Magics.java:89)\n",
       "\tat io.github.spencerpark.jupyter.kernel.magic.registry.Magics.access$000(Magics.java:8)\n",
       "\tat io.github.spencerpark.jupyter.kernel.magic.registry.Magics$LineReflectionMagicFunction.execute(Magics.java:149)\n",
       "\tat io.github.spencerpark.jupyter.kernel.magic.registry.Magics.applyLineMagic(Magics.java:26)\n",
       "\tat org.omg.sysml.jupyter.kernel.SysMLKernel.eval(SysMLKernel.java:76)\n",
       "\tat io.github.spencerpark.jupyter.kernel.BaseKernel.handleExecuteRequest(BaseKernel.java:334)\n",
       "\tat io.github.spencerpark.jupyter.channels.ShellChannel.lambda$bind$0(ShellChannel.java:64)\n",
       "\tat io.github.spencerpark.jupyter.channels.Loop.lambda$new$0(Loop.java:21)\n",
       "\tat io.github.spencerpark.jupyter.channels.Loop.run(Loop.java:78)\n"
      ]
     },
     "execution_count": 48,
     "metadata": {},
     "output_type": "execute_result"
    }
   ],
   "source": [
    "%viz --style=\"TB\" --view=\"Action\" \"DependencyTest\""
   ]
  },
  {
   "cell_type": "code",
   "execution_count": 49,
   "id": "authentic-visitor",
   "metadata": {
    "execution": {
     "iopub.execute_input": "2021-03-26T09:43:57.844046Z",
     "iopub.status.busy": "2021-03-26T09:43:57.843500Z",
     "iopub.status.idle": "2021-03-26T09:43:57.872778Z",
     "shell.execute_reply": "2021-03-26T09:43:57.871534Z"
    }
   },
   "outputs": [
    {
     "data": {
      "image/svg+xml": [
       "<?xml version=\"1.0\" encoding=\"UTF-8\" standalone=\"no\"?><svg xmlns=\"http://www.w3.org/2000/svg\" xmlns:xlink=\"http://www.w3.org/1999/xlink\" contentScriptType=\"application/ecmascript\" contentStyleType=\"text/css\" height=\"449px\" preserveAspectRatio=\"none\" style=\"width:489px;height:449px;\" version=\"1.1\" viewBox=\"0 0 489 449\" width=\"489px\" zoomAndPan=\"magnify\"><defs/><g><!--MD5=[fbc87193dbaf4d95561dea2c320d4a47]\n",
       "cluster E1--><polygon fill=\"#FFFFFF\" points=\"16,6,156,6,163,28.2969,467,28.2969,467,437,16,437,16,6\" style=\"stroke: #000000; stroke-width: 1.5;\"/><line style=\"stroke: #000000; stroke-width: 1.5;\" x1=\"16\" x2=\"163\" y1=\"28.2969\" y2=\"28.2969\"/><text fill=\"#000000\" font-family=\"sans-serif\" font-size=\"14\" font-weight=\"bold\" lengthAdjust=\"spacingAndGlyphs\" textLength=\"134\" x=\"20\" y=\"20.9951\">DependencyTest</text><!--MD5=[e4f7fae6ed58524ba242bb0b0d3be6b7]\n",
       "cluster E2--><polygon fill=\"#FFFFFF\" points=\"255,49,319,49,326,71.2969,443,71.2969,443,413,255,413,255,49\" style=\"stroke: #000000; stroke-width: 1.5;\"/><line style=\"stroke: #000000; stroke-width: 1.5;\" x1=\"255\" x2=\"326\" y1=\"71.2969\" y2=\"71.2969\"/><text fill=\"#000000\" font-family=\"sans-serif\" font-size=\"14\" font-weight=\"bold\" lengthAdjust=\"spacingAndGlyphs\" textLength=\"58\" x=\"259\" y=\"63.9951\">System</text><!--MD5=[60a26617385b1d2d0262a64233df1f8d]\n",
       "class E6--><rect fill=\"#FFFFFF\" height=\"45.9375\" id=\"E6\" rx=\"10\" ry=\"10\" style=\"stroke: #383838; stroke-width: 1.5;\" width=\"85\" x=\"32.5\" y=\"217.5\"/><text fill=\"#000000\" font-family=\"sans-serif\" font-size=\"12\" font-style=\"italic\" lengthAdjust=\"spacingAndGlyphs\" textLength=\"69\" x=\"40.5\" y=\"233.6387\">«attribute»</text><text fill=\"#000000\" font-family=\"sans-serif\" font-size=\"12\" lengthAdjust=\"spacingAndGlyphs\" textLength=\"79\" x=\"35.5\" y=\"247.6074\">x: DataValue</text><line style=\"stroke: #383838; stroke-width: 1.5;\" x1=\"33.5\" x2=\"116.5\" y1=\"255.4375\" y2=\"255.4375\"/><!--MD5=[2156ba9850f5573cc1fc38a6a4b2f02b]\n",
       "class E7--><rect fill=\"#FFFFFF\" height=\"45.9375\" id=\"E7\" rx=\"10\" ry=\"10\" style=\"stroke: #383838; stroke-width: 1.5;\" width=\"85\" x=\"152.5\" y=\"217.5\"/><text fill=\"#000000\" font-family=\"sans-serif\" font-size=\"12\" font-style=\"italic\" lengthAdjust=\"spacingAndGlyphs\" textLength=\"69\" x=\"160.5\" y=\"233.6387\">«attribute»</text><text fill=\"#000000\" font-family=\"sans-serif\" font-size=\"12\" lengthAdjust=\"spacingAndGlyphs\" textLength=\"79\" x=\"155.5\" y=\"247.6074\">y: DataValue</text><line style=\"stroke: #383838; stroke-width: 1.5;\" x1=\"153.5\" x2=\"236.5\" y1=\"255.4375\" y2=\"255.4375\"/><!--MD5=[b9389687b975829384b498ac4b7476b2]\n",
       "class E8--><rect fill=\"#FFFFFF\" height=\"45.9375\" id=\"E8\" rx=\"10\" ry=\"10\" style=\"stroke: #383838; stroke-width: 1.5;\" width=\"84\" x=\"81\" y=\"87.5\"/><text fill=\"#000000\" font-family=\"sans-serif\" font-size=\"12\" font-style=\"italic\" lengthAdjust=\"spacingAndGlyphs\" textLength=\"69\" x=\"88.5\" y=\"103.6387\">«attribute»</text><text fill=\"#000000\" font-family=\"sans-serif\" font-size=\"12\" lengthAdjust=\"spacingAndGlyphs\" textLength=\"78\" x=\"84\" y=\"117.6074\">z: DataValue</text><line style=\"stroke: #383838; stroke-width: 1.5;\" x1=\"82\" x2=\"164\" y1=\"125.4375\" y2=\"125.4375\"/><polygon fill=\"#FFFFFF\" points=\"271,84,413,84,420,106.2969,427,106.2969,427,136.5938,271,136.5938,271,84\" style=\"stroke: #000000; stroke-width: 1.5;\"/><line style=\"stroke: #000000; stroke-width: 1.5;\" x1=\"271\" x2=\"420\" y1=\"106.2969\" y2=\"106.2969\"/><text fill=\"#000000\" font-family=\"sans-serif\" font-size=\"14\" font-weight=\"bold\" lengthAdjust=\"spacingAndGlyphs\" textLength=\"136\" x=\"275\" y=\"98.9951\">Application Layer</text><polygon fill=\"#FFFFFF\" points=\"285,214,399,214,406,236.2969,413,236.2969,413,266.5938,285,266.5938,285,214\" style=\"stroke: #000000; stroke-width: 1.5;\"/><line style=\"stroke: #000000; stroke-width: 1.5;\" x1=\"285\" x2=\"406\" y1=\"236.2969\" y2=\"236.2969\"/><text fill=\"#000000\" font-family=\"sans-serif\" font-size=\"14\" font-weight=\"bold\" lengthAdjust=\"spacingAndGlyphs\" textLength=\"108\" x=\"289\" y=\"228.9951\">Service Layer</text><polygon fill=\"#FFFFFF\" points=\"297,344,387,344,394,366.2969,401,366.2969,401,396.5938,297,396.5938,297,344\" style=\"stroke: #000000; stroke-width: 1.5;\"/><line style=\"stroke: #000000; stroke-width: 1.5;\" x1=\"297\" x2=\"394\" y1=\"366.2969\" y2=\"366.2969\"/><text fill=\"#000000\" font-family=\"sans-serif\" font-size=\"14\" font-weight=\"bold\" lengthAdjust=\"spacingAndGlyphs\" textLength=\"84\" x=\"301\" y=\"358.9951\">Data Layer</text><!--MD5=[af87c684e3b0d8be13c1a698a818ef1e]\n",
       "link E3 to E4--><path d=\"M349,137.1 C349,156.8 349,184.22 349,205.73 \" fill=\"none\" id=\"E3-&gt;E4\" style=\"stroke: #383838; stroke-width: 1.0; stroke-dasharray: 7.0,7.0;\"/><polygon fill=\"#383838\" points=\"349,213.95,352,205.95,346,205.95,349,213.95\" style=\"stroke: #383838; stroke-width: 1.0;\"/><text fill=\"#000000\" font-family=\"sans-serif\" font-size=\"13\" lengthAdjust=\"spacingAndGlyphs\" textLength=\"64\" x=\"350\" y=\"180.0669\">«depend»</text><!--MD5=[1b7591eae5389033d8d09a9d6721a717]\n",
       "link E4 to E5--><path d=\"M349,267.1 C349,286.8 349,314.22 349,335.73 \" fill=\"none\" id=\"E4-&gt;E5\" style=\"stroke: #383838; stroke-width: 1.0; stroke-dasharray: 7.0,7.0;\"/><polygon fill=\"#383838\" points=\"349,343.95,352,335.95,346,335.95,349,343.95\" style=\"stroke: #383838; stroke-width: 1.0;\"/><text fill=\"#000000\" font-family=\"sans-serif\" font-size=\"13\" lengthAdjust=\"spacingAndGlyphs\" textLength=\"64\" x=\"350\" y=\"310.0669\">«depend»</text><!--MD5=[c5e8897d989ce984f93528998a7150fe]\n",
       "link E8 to E6--><path d=\"M90.5,133.56 C80.01,142.57 69.64,153.96 64,167 C58.27,180.26 59.78,196 63.24,209.43 \" fill=\"none\" id=\"E8-&gt;E6\" style=\"stroke: #383838; stroke-width: 1.0; stroke-dasharray: 7.0,7.0;\"/><polygon fill=\"#383838\" points=\"65.59,217.45,66.2099,208.9285,60.4539,210.6221,65.59,217.45\" style=\"stroke: #383838; stroke-width: 1.0;\"/><text fill=\"#000000\" font-family=\"sans-serif\" font-size=\"13\" lengthAdjust=\"spacingAndGlyphs\" textLength=\"64\" x=\"65\" y=\"180.0669\">«depend»</text><!--MD5=[bfa3c8b0d15052fdf50ae9310b491027]\n",
       "link E8 to E7--><path d=\"M135.38,133.5 C147.28,154.66 165.34,186.78 178.47,210.11 \" fill=\"none\" id=\"E8-&gt;E7\" style=\"stroke: #383838; stroke-width: 1.0; stroke-dasharray: 7.0,7.0;\"/><polygon fill=\"#383838\" points=\"182.54,217.35,181.2392,208.9056,176.0075,211.8431,182.54,217.35\" style=\"stroke: #383838; stroke-width: 1.0;\"/><text fill=\"#000000\" font-family=\"sans-serif\" font-size=\"13\" lengthAdjust=\"spacingAndGlyphs\" textLength=\"64\" x=\"164\" y=\"180.0669\">«depend»</text><!--MD5=[fcd56dc23e2cad36659bc3c0819b255c]\n",
       "@startuml\r\n",
       "top to bottom direction\r\n",
       "skinparam monochrome true\r\n",
       "skinparam classbackgroundcolor white\r\n",
       "skinparam shadowing false\r\n",
       "skinparam wrapWidth 300\r\n",
       "hide circle\r\n",
       "\r\n",
       "package \"DependencyTest\" as E1   {\r\n",
       "package \"System\" as E2   {\r\n",
       "package \"Application Layer\" as E3   {\r\n",
       "}\r\n",
       "package \"Service Layer\" as E4   {\r\n",
       "}\r\n",
       "package \"Data Layer\" as E5   {\r\n",
       "}\r\n",
       "}\r\n",
       "comp usage \"x: DataValue\" as E6  <<(T,blue)attribute>> {\r\n",
       "}\r\n",
       "comp usage \"y: DataValue\" as E7  <<(T,blue)attribute>> {\r\n",
       "}\r\n",
       "comp usage \"z: DataValue\" as E8  <<(T,blue)attribute>> {\r\n",
       "}\r\n",
       "E3 ..>> E4 : <<depend>>\r\n",
       "E4 ..>> E5 : <<depend>>\r\n",
       "E8 ..>> E6 : <<depend>>\r\n",
       "E8 ..>> E7 : <<depend>>\r\n",
       "}\r\n",
       "@enduml\r\n",
       "\n",
       "PlantUML version 1.2020.13(Sat Jun 13 12:26:38 UTC 2020)\n",
       "(EPL source distribution)\n",
       "Java Runtime: OpenJDK Runtime Environment\n",
       "JVM: OpenJDK 64-Bit Server VM\n",
       "Default Encoding: UTF-8\n",
       "Language: en\n",
       "Country: null\n",
       "--></g></svg>"
      ]
     },
     "execution_count": 49,
     "metadata": {},
     "output_type": "execute_result"
    }
   ],
   "source": [
    "%viz --style=\"TB\" --view=\"Sequence\" \"DependencyTest\""
   ]
  },
  {
   "cell_type": "code",
   "execution_count": 50,
   "id": "flying-arcade",
   "metadata": {
    "execution": {
     "iopub.execute_input": "2021-03-26T09:43:57.923263Z",
     "iopub.status.busy": "2021-03-26T09:43:57.922819Z",
     "iopub.status.idle": "2021-03-26T09:43:57.950641Z",
     "shell.execute_reply": "2021-03-26T09:43:57.949485Z"
    }
   },
   "outputs": [
    {
     "data": {
      "image/svg+xml": [
       "<?xml version=\"1.0\" encoding=\"UTF-8\" standalone=\"no\"?><svg xmlns=\"http://www.w3.org/2000/svg\" xmlns:xlink=\"http://www.w3.org/1999/xlink\" contentScriptType=\"application/ecmascript\" contentStyleType=\"text/css\" height=\"449px\" preserveAspectRatio=\"none\" style=\"width:489px;height:449px;\" version=\"1.1\" viewBox=\"0 0 489 449\" width=\"489px\" zoomAndPan=\"magnify\"><defs/><g><!--MD5=[fbc87193dbaf4d95561dea2c320d4a47]\n",
       "cluster E1--><polygon fill=\"#FFFFFF\" points=\"16,6,156,6,163,28.2969,467,28.2969,467,437,16,437,16,6\" style=\"stroke: #000000; stroke-width: 1.5;\"/><line style=\"stroke: #000000; stroke-width: 1.5;\" x1=\"16\" x2=\"163\" y1=\"28.2969\" y2=\"28.2969\"/><text fill=\"#000000\" font-family=\"sans-serif\" font-size=\"14\" font-weight=\"bold\" lengthAdjust=\"spacingAndGlyphs\" textLength=\"134\" x=\"20\" y=\"20.9951\">DependencyTest</text><!--MD5=[e4f7fae6ed58524ba242bb0b0d3be6b7]\n",
       "cluster E2--><polygon fill=\"#FFFFFF\" points=\"255,49,319,49,326,71.2969,443,71.2969,443,413,255,413,255,49\" style=\"stroke: #000000; stroke-width: 1.5;\"/><line style=\"stroke: #000000; stroke-width: 1.5;\" x1=\"255\" x2=\"326\" y1=\"71.2969\" y2=\"71.2969\"/><text fill=\"#000000\" font-family=\"sans-serif\" font-size=\"14\" font-weight=\"bold\" lengthAdjust=\"spacingAndGlyphs\" textLength=\"58\" x=\"259\" y=\"63.9951\">System</text><!--MD5=[60a26617385b1d2d0262a64233df1f8d]\n",
       "class E6--><rect fill=\"#FFFFFF\" height=\"45.9375\" id=\"E6\" rx=\"10\" ry=\"10\" style=\"stroke: #383838; stroke-width: 1.5;\" width=\"85\" x=\"32.5\" y=\"217.5\"/><text fill=\"#000000\" font-family=\"sans-serif\" font-size=\"12\" font-style=\"italic\" lengthAdjust=\"spacingAndGlyphs\" textLength=\"69\" x=\"40.5\" y=\"233.6387\">«attribute»</text><text fill=\"#000000\" font-family=\"sans-serif\" font-size=\"12\" lengthAdjust=\"spacingAndGlyphs\" textLength=\"79\" x=\"35.5\" y=\"247.6074\">x: DataValue</text><line style=\"stroke: #383838; stroke-width: 1.5;\" x1=\"33.5\" x2=\"116.5\" y1=\"255.4375\" y2=\"255.4375\"/><!--MD5=[2156ba9850f5573cc1fc38a6a4b2f02b]\n",
       "class E7--><rect fill=\"#FFFFFF\" height=\"45.9375\" id=\"E7\" rx=\"10\" ry=\"10\" style=\"stroke: #383838; stroke-width: 1.5;\" width=\"85\" x=\"152.5\" y=\"217.5\"/><text fill=\"#000000\" font-family=\"sans-serif\" font-size=\"12\" font-style=\"italic\" lengthAdjust=\"spacingAndGlyphs\" textLength=\"69\" x=\"160.5\" y=\"233.6387\">«attribute»</text><text fill=\"#000000\" font-family=\"sans-serif\" font-size=\"12\" lengthAdjust=\"spacingAndGlyphs\" textLength=\"79\" x=\"155.5\" y=\"247.6074\">y: DataValue</text><line style=\"stroke: #383838; stroke-width: 1.5;\" x1=\"153.5\" x2=\"236.5\" y1=\"255.4375\" y2=\"255.4375\"/><!--MD5=[b9389687b975829384b498ac4b7476b2]\n",
       "class E8--><rect fill=\"#FFFFFF\" height=\"45.9375\" id=\"E8\" rx=\"10\" ry=\"10\" style=\"stroke: #383838; stroke-width: 1.5;\" width=\"84\" x=\"81\" y=\"87.5\"/><text fill=\"#000000\" font-family=\"sans-serif\" font-size=\"12\" font-style=\"italic\" lengthAdjust=\"spacingAndGlyphs\" textLength=\"69\" x=\"88.5\" y=\"103.6387\">«attribute»</text><text fill=\"#000000\" font-family=\"sans-serif\" font-size=\"12\" lengthAdjust=\"spacingAndGlyphs\" textLength=\"78\" x=\"84\" y=\"117.6074\">z: DataValue</text><line style=\"stroke: #383838; stroke-width: 1.5;\" x1=\"82\" x2=\"164\" y1=\"125.4375\" y2=\"125.4375\"/><polygon fill=\"#FFFFFF\" points=\"271,84,413,84,420,106.2969,427,106.2969,427,136.5938,271,136.5938,271,84\" style=\"stroke: #000000; stroke-width: 1.5;\"/><line style=\"stroke: #000000; stroke-width: 1.5;\" x1=\"271\" x2=\"420\" y1=\"106.2969\" y2=\"106.2969\"/><text fill=\"#000000\" font-family=\"sans-serif\" font-size=\"14\" font-weight=\"bold\" lengthAdjust=\"spacingAndGlyphs\" textLength=\"136\" x=\"275\" y=\"98.9951\">Application Layer</text><polygon fill=\"#FFFFFF\" points=\"285,214,399,214,406,236.2969,413,236.2969,413,266.5938,285,266.5938,285,214\" style=\"stroke: #000000; stroke-width: 1.5;\"/><line style=\"stroke: #000000; stroke-width: 1.5;\" x1=\"285\" x2=\"406\" y1=\"236.2969\" y2=\"236.2969\"/><text fill=\"#000000\" font-family=\"sans-serif\" font-size=\"14\" font-weight=\"bold\" lengthAdjust=\"spacingAndGlyphs\" textLength=\"108\" x=\"289\" y=\"228.9951\">Service Layer</text><polygon fill=\"#FFFFFF\" points=\"297,344,387,344,394,366.2969,401,366.2969,401,396.5938,297,396.5938,297,344\" style=\"stroke: #000000; stroke-width: 1.5;\"/><line style=\"stroke: #000000; stroke-width: 1.5;\" x1=\"297\" x2=\"394\" y1=\"366.2969\" y2=\"366.2969\"/><text fill=\"#000000\" font-family=\"sans-serif\" font-size=\"14\" font-weight=\"bold\" lengthAdjust=\"spacingAndGlyphs\" textLength=\"84\" x=\"301\" y=\"358.9951\">Data Layer</text><!--MD5=[af87c684e3b0d8be13c1a698a818ef1e]\n",
       "link E3 to E4--><path d=\"M349,137.1 C349,156.8 349,184.22 349,205.73 \" fill=\"none\" id=\"E3-&gt;E4\" style=\"stroke: #383838; stroke-width: 1.0; stroke-dasharray: 7.0,7.0;\"/><polygon fill=\"#383838\" points=\"349,213.95,352,205.95,346,205.95,349,213.95\" style=\"stroke: #383838; stroke-width: 1.0;\"/><text fill=\"#000000\" font-family=\"sans-serif\" font-size=\"13\" lengthAdjust=\"spacingAndGlyphs\" textLength=\"64\" x=\"350\" y=\"180.0669\">«depend»</text><!--MD5=[1b7591eae5389033d8d09a9d6721a717]\n",
       "link E4 to E5--><path d=\"M349,267.1 C349,286.8 349,314.22 349,335.73 \" fill=\"none\" id=\"E4-&gt;E5\" style=\"stroke: #383838; stroke-width: 1.0; stroke-dasharray: 7.0,7.0;\"/><polygon fill=\"#383838\" points=\"349,343.95,352,335.95,346,335.95,349,343.95\" style=\"stroke: #383838; stroke-width: 1.0;\"/><text fill=\"#000000\" font-family=\"sans-serif\" font-size=\"13\" lengthAdjust=\"spacingAndGlyphs\" textLength=\"64\" x=\"350\" y=\"310.0669\">«depend»</text><!--MD5=[c5e8897d989ce984f93528998a7150fe]\n",
       "link E8 to E6--><path d=\"M90.5,133.56 C80.01,142.57 69.64,153.96 64,167 C58.27,180.26 59.78,196 63.24,209.43 \" fill=\"none\" id=\"E8-&gt;E6\" style=\"stroke: #383838; stroke-width: 1.0; stroke-dasharray: 7.0,7.0;\"/><polygon fill=\"#383838\" points=\"65.59,217.45,66.2099,208.9285,60.4539,210.6221,65.59,217.45\" style=\"stroke: #383838; stroke-width: 1.0;\"/><text fill=\"#000000\" font-family=\"sans-serif\" font-size=\"13\" lengthAdjust=\"spacingAndGlyphs\" textLength=\"64\" x=\"65\" y=\"180.0669\">«depend»</text><!--MD5=[bfa3c8b0d15052fdf50ae9310b491027]\n",
       "link E8 to E7--><path d=\"M135.38,133.5 C147.28,154.66 165.34,186.78 178.47,210.11 \" fill=\"none\" id=\"E8-&gt;E7\" style=\"stroke: #383838; stroke-width: 1.0; stroke-dasharray: 7.0,7.0;\"/><polygon fill=\"#383838\" points=\"182.54,217.35,181.2392,208.9056,176.0075,211.8431,182.54,217.35\" style=\"stroke: #383838; stroke-width: 1.0;\"/><text fill=\"#000000\" font-family=\"sans-serif\" font-size=\"13\" lengthAdjust=\"spacingAndGlyphs\" textLength=\"64\" x=\"164\" y=\"180.0669\">«depend»</text><!--MD5=[fcd56dc23e2cad36659bc3c0819b255c]\n",
       "@startuml\r\n",
       "top to bottom direction\r\n",
       "skinparam monochrome true\r\n",
       "skinparam classbackgroundcolor white\r\n",
       "skinparam shadowing false\r\n",
       "skinparam wrapWidth 300\r\n",
       "hide circle\r\n",
       "\r\n",
       "package \"DependencyTest\" as E1   {\r\n",
       "package \"System\" as E2   {\r\n",
       "package \"Application Layer\" as E3   {\r\n",
       "}\r\n",
       "package \"Service Layer\" as E4   {\r\n",
       "}\r\n",
       "package \"Data Layer\" as E5   {\r\n",
       "}\r\n",
       "}\r\n",
       "comp usage \"x: DataValue\" as E6  <<(T,blue)attribute>> {\r\n",
       "}\r\n",
       "comp usage \"y: DataValue\" as E7  <<(T,blue)attribute>> {\r\n",
       "}\r\n",
       "comp usage \"z: DataValue\" as E8  <<(T,blue)attribute>> {\r\n",
       "}\r\n",
       "E3 ..>> E4 : <<depend>>\r\n",
       "E4 ..>> E5 : <<depend>>\r\n",
       "E8 ..>> E6 : <<depend>>\r\n",
       "E8 ..>> E7 : <<depend>>\r\n",
       "}\r\n",
       "@enduml\r\n",
       "\n",
       "PlantUML version 1.2020.13(Sat Jun 13 12:26:38 UTC 2020)\n",
       "(EPL source distribution)\n",
       "Java Runtime: OpenJDK Runtime Environment\n",
       "JVM: OpenJDK 64-Bit Server VM\n",
       "Default Encoding: UTF-8\n",
       "Language: en\n",
       "Country: null\n",
       "--></g></svg>"
      ]
     },
     "execution_count": 50,
     "metadata": {},
     "output_type": "execute_result"
    }
   ],
   "source": [
    "%viz --style=\"TB\" --view=\"MIXED\" \"DependencyTest\""
   ]
  },
  {
   "cell_type": "code",
   "execution_count": 51,
   "id": "compatible-diesel",
   "metadata": {
    "execution": {
     "iopub.execute_input": "2021-03-26T09:43:58.002753Z",
     "iopub.status.busy": "2021-03-26T09:43:58.001707Z",
     "iopub.status.idle": "2021-03-26T09:43:58.032826Z",
     "shell.execute_reply": "2021-03-26T09:43:58.031767Z"
    }
   },
   "outputs": [
    {
     "data": {
      "image/svg+xml": [
       "<?xml version=\"1.0\" encoding=\"UTF-8\" standalone=\"no\"?><svg xmlns=\"http://www.w3.org/2000/svg\" xmlns:xlink=\"http://www.w3.org/1999/xlink\" contentScriptType=\"application/ecmascript\" contentStyleType=\"text/css\" height=\"449px\" preserveAspectRatio=\"none\" style=\"width:489px;height:449px;\" version=\"1.1\" viewBox=\"0 0 489 449\" width=\"489px\" zoomAndPan=\"magnify\"><defs/><g><!--MD5=[fbc87193dbaf4d95561dea2c320d4a47]\n",
       "cluster E1--><polygon fill=\"#FFFFFF\" points=\"16,6,156,6,163,28.2969,467,28.2969,467,437,16,437,16,6\" style=\"stroke: #000000; stroke-width: 1.5;\"/><line style=\"stroke: #000000; stroke-width: 1.5;\" x1=\"16\" x2=\"163\" y1=\"28.2969\" y2=\"28.2969\"/><text fill=\"#000000\" font-family=\"sans-serif\" font-size=\"14\" font-weight=\"bold\" lengthAdjust=\"spacingAndGlyphs\" textLength=\"134\" x=\"20\" y=\"20.9951\">DependencyTest</text><!--MD5=[e4f7fae6ed58524ba242bb0b0d3be6b7]\n",
       "cluster E2--><polygon fill=\"#FFFFFF\" points=\"255,49,319,49,326,71.2969,443,71.2969,443,413,255,413,255,49\" style=\"stroke: #000000; stroke-width: 1.5;\"/><line style=\"stroke: #000000; stroke-width: 1.5;\" x1=\"255\" x2=\"326\" y1=\"71.2969\" y2=\"71.2969\"/><text fill=\"#000000\" font-family=\"sans-serif\" font-size=\"14\" font-weight=\"bold\" lengthAdjust=\"spacingAndGlyphs\" textLength=\"58\" x=\"259\" y=\"63.9951\">System</text><!--MD5=[60a26617385b1d2d0262a64233df1f8d]\n",
       "class E6--><rect fill=\"#FFFFFF\" height=\"45.9375\" id=\"E6\" rx=\"10\" ry=\"10\" style=\"stroke: #383838; stroke-width: 1.5;\" width=\"85\" x=\"32.5\" y=\"217.5\"/><text fill=\"#000000\" font-family=\"sans-serif\" font-size=\"12\" font-style=\"italic\" lengthAdjust=\"spacingAndGlyphs\" textLength=\"69\" x=\"40.5\" y=\"233.6387\">«attribute»</text><text fill=\"#000000\" font-family=\"sans-serif\" font-size=\"12\" lengthAdjust=\"spacingAndGlyphs\" textLength=\"79\" x=\"35.5\" y=\"247.6074\">x: DataValue</text><line style=\"stroke: #383838; stroke-width: 1.5;\" x1=\"33.5\" x2=\"116.5\" y1=\"255.4375\" y2=\"255.4375\"/><!--MD5=[2156ba9850f5573cc1fc38a6a4b2f02b]\n",
       "class E7--><rect fill=\"#FFFFFF\" height=\"45.9375\" id=\"E7\" rx=\"10\" ry=\"10\" style=\"stroke: #383838; stroke-width: 1.5;\" width=\"85\" x=\"152.5\" y=\"217.5\"/><text fill=\"#000000\" font-family=\"sans-serif\" font-size=\"12\" font-style=\"italic\" lengthAdjust=\"spacingAndGlyphs\" textLength=\"69\" x=\"160.5\" y=\"233.6387\">«attribute»</text><text fill=\"#000000\" font-family=\"sans-serif\" font-size=\"12\" lengthAdjust=\"spacingAndGlyphs\" textLength=\"79\" x=\"155.5\" y=\"247.6074\">y: DataValue</text><line style=\"stroke: #383838; stroke-width: 1.5;\" x1=\"153.5\" x2=\"236.5\" y1=\"255.4375\" y2=\"255.4375\"/><!--MD5=[b9389687b975829384b498ac4b7476b2]\n",
       "class E8--><rect fill=\"#FFFFFF\" height=\"45.9375\" id=\"E8\" rx=\"10\" ry=\"10\" style=\"stroke: #383838; stroke-width: 1.5;\" width=\"84\" x=\"81\" y=\"87.5\"/><text fill=\"#000000\" font-family=\"sans-serif\" font-size=\"12\" font-style=\"italic\" lengthAdjust=\"spacingAndGlyphs\" textLength=\"69\" x=\"88.5\" y=\"103.6387\">«attribute»</text><text fill=\"#000000\" font-family=\"sans-serif\" font-size=\"12\" lengthAdjust=\"spacingAndGlyphs\" textLength=\"78\" x=\"84\" y=\"117.6074\">z: DataValue</text><line style=\"stroke: #383838; stroke-width: 1.5;\" x1=\"82\" x2=\"164\" y1=\"125.4375\" y2=\"125.4375\"/><polygon fill=\"#FFFFFF\" points=\"271,84,413,84,420,106.2969,427,106.2969,427,136.5938,271,136.5938,271,84\" style=\"stroke: #000000; stroke-width: 1.5;\"/><line style=\"stroke: #000000; stroke-width: 1.5;\" x1=\"271\" x2=\"420\" y1=\"106.2969\" y2=\"106.2969\"/><text fill=\"#000000\" font-family=\"sans-serif\" font-size=\"14\" font-weight=\"bold\" lengthAdjust=\"spacingAndGlyphs\" textLength=\"136\" x=\"275\" y=\"98.9951\">Application Layer</text><polygon fill=\"#FFFFFF\" points=\"285,214,399,214,406,236.2969,413,236.2969,413,266.5938,285,266.5938,285,214\" style=\"stroke: #000000; stroke-width: 1.5;\"/><line style=\"stroke: #000000; stroke-width: 1.5;\" x1=\"285\" x2=\"406\" y1=\"236.2969\" y2=\"236.2969\"/><text fill=\"#000000\" font-family=\"sans-serif\" font-size=\"14\" font-weight=\"bold\" lengthAdjust=\"spacingAndGlyphs\" textLength=\"108\" x=\"289\" y=\"228.9951\">Service Layer</text><polygon fill=\"#FFFFFF\" points=\"297,344,387,344,394,366.2969,401,366.2969,401,396.5938,297,396.5938,297,344\" style=\"stroke: #000000; stroke-width: 1.5;\"/><line style=\"stroke: #000000; stroke-width: 1.5;\" x1=\"297\" x2=\"394\" y1=\"366.2969\" y2=\"366.2969\"/><text fill=\"#000000\" font-family=\"sans-serif\" font-size=\"14\" font-weight=\"bold\" lengthAdjust=\"spacingAndGlyphs\" textLength=\"84\" x=\"301\" y=\"358.9951\">Data Layer</text><!--MD5=[af87c684e3b0d8be13c1a698a818ef1e]\n",
       "link E3 to E4--><path d=\"M349,137.12 C349,137.12 349,205.91 349,205.91 \" fill=\"none\" id=\"E3-&gt;E4\" style=\"stroke: #383838; stroke-width: 1.0; stroke-dasharray: 7.0,7.0;\"/><polygon fill=\"#383838\" points=\"349,213.91,352,205.91,346,205.91,349,213.91\" style=\"stroke: #383838; stroke-width: 1.0;\"/><text fill=\"#000000\" font-family=\"sans-serif\" font-size=\"13\" lengthAdjust=\"spacingAndGlyphs\" textLength=\"64\" x=\"350\" y=\"180.0669\">«depend»</text><!--MD5=[1b7591eae5389033d8d09a9d6721a717]\n",
       "link E4 to E5--><path d=\"M349,267.12 C349,267.12 349,335.91 349,335.91 \" fill=\"none\" id=\"E4-&gt;E5\" style=\"stroke: #383838; stroke-width: 1.0; stroke-dasharray: 7.0,7.0;\"/><polygon fill=\"#383838\" points=\"349,343.91,352,335.91,346,335.91,349,343.91\" style=\"stroke: #383838; stroke-width: 1.0;\"/><text fill=\"#000000\" font-family=\"sans-serif\" font-size=\"13\" lengthAdjust=\"spacingAndGlyphs\" textLength=\"64\" x=\"350\" y=\"310.0669\">«depend»</text><!--MD5=[c5e8897d989ce984f93528998a7150fe]\n",
       "link E8 to E6--><path d=\"M99.25,133.74 C99.25,133.74 99.25,209.46 99.25,209.46 \" fill=\"none\" id=\"E8-&gt;E6\" style=\"stroke: #383838; stroke-width: 1.0; stroke-dasharray: 7.0,7.0;\"/><polygon fill=\"#383838\" points=\"99.25,217.46,102.25,209.46,96.25,209.46,99.25,217.46\" style=\"stroke: #383838; stroke-width: 1.0;\"/><text fill=\"#000000\" font-family=\"sans-serif\" font-size=\"13\" lengthAdjust=\"spacingAndGlyphs\" textLength=\"64\" x=\"68\" y=\"180.0669\">«depend»</text><!--MD5=[bfa3c8b0d15052fdf50ae9310b491027]\n",
       "link E8 to E7--><path d=\"M158.75,133.74 C158.75,133.74 158.75,209.46 158.75,209.46 \" fill=\"none\" id=\"E8-&gt;E7\" style=\"stroke: #383838; stroke-width: 1.0; stroke-dasharray: 7.0,7.0;\"/><polygon fill=\"#383838\" points=\"158.75,217.46,161.75,209.46,155.75,209.46,158.75,217.46\" style=\"stroke: #383838; stroke-width: 1.0;\"/><text fill=\"#000000\" font-family=\"sans-serif\" font-size=\"13\" lengthAdjust=\"spacingAndGlyphs\" textLength=\"64\" x=\"174\" y=\"180.0669\">«depend»</text><!--MD5=[09d2e211bcbf5a5095d13f572336d72b]\n",
       "@startuml\r\n",
       "skinparam linetype ortho\r\n",
       "skinparam monochrome true\r\n",
       "skinparam classbackgroundcolor white\r\n",
       "skinparam shadowing false\r\n",
       "skinparam wrapWidth 300\r\n",
       "hide circle\r\n",
       "\r\n",
       "package \"DependencyTest\" as E1   {\r\n",
       "package \"System\" as E2   {\r\n",
       "package \"Application Layer\" as E3   {\r\n",
       "}\r\n",
       "package \"Service Layer\" as E4   {\r\n",
       "}\r\n",
       "package \"Data Layer\" as E5   {\r\n",
       "}\r\n",
       "}\r\n",
       "comp usage \"x: DataValue\" as E6  <<(T,blue)attribute>> {\r\n",
       "}\r\n",
       "comp usage \"y: DataValue\" as E7  <<(T,blue)attribute>> {\r\n",
       "}\r\n",
       "comp usage \"z: DataValue\" as E8  <<(T,blue)attribute>> {\r\n",
       "}\r\n",
       "E3 ..>> E4 : <<depend>>\r\n",
       "E4 ..>> E5 : <<depend>>\r\n",
       "E8 ..>> E6 : <<depend>>\r\n",
       "E8 ..>> E7 : <<depend>>\r\n",
       "}\r\n",
       "@enduml\r\n",
       "\n",
       "PlantUML version 1.2020.13(Sat Jun 13 12:26:38 UTC 2020)\n",
       "(EPL source distribution)\n",
       "Java Runtime: OpenJDK Runtime Environment\n",
       "JVM: OpenJDK 64-Bit Server VM\n",
       "Default Encoding: UTF-8\n",
       "Language: en\n",
       "Country: null\n",
       "--></g></svg>"
      ]
     },
     "execution_count": 51,
     "metadata": {},
     "output_type": "execute_result"
    }
   ],
   "source": [
    "%viz --style=\"ORTHOLINE\" --view=\"Default\" \"DependencyTest\""
   ]
  },
  {
   "cell_type": "code",
   "execution_count": 52,
   "id": "pleasant-updating",
   "metadata": {
    "execution": {
     "iopub.execute_input": "2021-03-26T09:43:58.082736Z",
     "iopub.status.busy": "2021-03-26T09:43:58.082263Z",
     "iopub.status.idle": "2021-03-26T09:43:58.112748Z",
     "shell.execute_reply": "2021-03-26T09:43:58.112494Z"
    }
   },
   "outputs": [
    {
     "data": {
      "image/svg+xml": [
       "<?xml version=\"1.0\" encoding=\"UTF-8\" standalone=\"no\"?><svg xmlns=\"http://www.w3.org/2000/svg\" xmlns:xlink=\"http://www.w3.org/1999/xlink\" contentScriptType=\"application/ecmascript\" contentStyleType=\"text/css\" height=\"449px\" preserveAspectRatio=\"none\" style=\"width:489px;height:449px;\" version=\"1.1\" viewBox=\"0 0 489 449\" width=\"489px\" zoomAndPan=\"magnify\"><defs/><g><!--MD5=[fbc87193dbaf4d95561dea2c320d4a47]\n",
       "cluster E1--><polygon fill=\"#FFFFFF\" points=\"16,6,156,6,163,28.2969,467,28.2969,467,437,16,437,16,6\" style=\"stroke: #000000; stroke-width: 1.5;\"/><line style=\"stroke: #000000; stroke-width: 1.5;\" x1=\"16\" x2=\"163\" y1=\"28.2969\" y2=\"28.2969\"/><text fill=\"#000000\" font-family=\"sans-serif\" font-size=\"14\" font-weight=\"bold\" lengthAdjust=\"spacingAndGlyphs\" textLength=\"134\" x=\"20\" y=\"20.9951\">DependencyTest</text><!--MD5=[e4f7fae6ed58524ba242bb0b0d3be6b7]\n",
       "cluster E2--><polygon fill=\"#FFFFFF\" points=\"255,49,319,49,326,71.2969,443,71.2969,443,413,255,413,255,49\" style=\"stroke: #000000; stroke-width: 1.5;\"/><line style=\"stroke: #000000; stroke-width: 1.5;\" x1=\"255\" x2=\"326\" y1=\"71.2969\" y2=\"71.2969\"/><text fill=\"#000000\" font-family=\"sans-serif\" font-size=\"14\" font-weight=\"bold\" lengthAdjust=\"spacingAndGlyphs\" textLength=\"58\" x=\"259\" y=\"63.9951\">System</text><!--MD5=[60a26617385b1d2d0262a64233df1f8d]\n",
       "class E6--><rect fill=\"#FFFFFF\" height=\"45.9375\" id=\"E6\" rx=\"10\" ry=\"10\" style=\"stroke: #383838; stroke-width: 1.5;\" width=\"85\" x=\"32.5\" y=\"217.5\"/><text fill=\"#000000\" font-family=\"sans-serif\" font-size=\"12\" font-style=\"italic\" lengthAdjust=\"spacingAndGlyphs\" textLength=\"69\" x=\"40.5\" y=\"233.6387\">«attribute»</text><text fill=\"#000000\" font-family=\"sans-serif\" font-size=\"12\" lengthAdjust=\"spacingAndGlyphs\" textLength=\"79\" x=\"35.5\" y=\"247.6074\">x: DataValue</text><line style=\"stroke: #383838; stroke-width: 1.5;\" x1=\"33.5\" x2=\"116.5\" y1=\"255.4375\" y2=\"255.4375\"/><!--MD5=[2156ba9850f5573cc1fc38a6a4b2f02b]\n",
       "class E7--><rect fill=\"#FFFFFF\" height=\"45.9375\" id=\"E7\" rx=\"10\" ry=\"10\" style=\"stroke: #383838; stroke-width: 1.5;\" width=\"85\" x=\"152.5\" y=\"217.5\"/><text fill=\"#000000\" font-family=\"sans-serif\" font-size=\"12\" font-style=\"italic\" lengthAdjust=\"spacingAndGlyphs\" textLength=\"69\" x=\"160.5\" y=\"233.6387\">«attribute»</text><text fill=\"#000000\" font-family=\"sans-serif\" font-size=\"12\" lengthAdjust=\"spacingAndGlyphs\" textLength=\"79\" x=\"155.5\" y=\"247.6074\">y: DataValue</text><line style=\"stroke: #383838; stroke-width: 1.5;\" x1=\"153.5\" x2=\"236.5\" y1=\"255.4375\" y2=\"255.4375\"/><!--MD5=[b9389687b975829384b498ac4b7476b2]\n",
       "class E8--><rect fill=\"#FFFFFF\" height=\"45.9375\" id=\"E8\" rx=\"10\" ry=\"10\" style=\"stroke: #383838; stroke-width: 1.5;\" width=\"84\" x=\"81\" y=\"87.5\"/><text fill=\"#000000\" font-family=\"sans-serif\" font-size=\"12\" font-style=\"italic\" lengthAdjust=\"spacingAndGlyphs\" textLength=\"69\" x=\"88.5\" y=\"103.6387\">«attribute»</text><text fill=\"#000000\" font-family=\"sans-serif\" font-size=\"12\" lengthAdjust=\"spacingAndGlyphs\" textLength=\"78\" x=\"84\" y=\"117.6074\">z: DataValue</text><line style=\"stroke: #383838; stroke-width: 1.5;\" x1=\"82\" x2=\"164\" y1=\"125.4375\" y2=\"125.4375\"/><polygon fill=\"#FFFFFF\" points=\"271,84,413,84,420,106.2969,427,106.2969,427,136.5938,271,136.5938,271,84\" style=\"stroke: #000000; stroke-width: 1.5;\"/><line style=\"stroke: #000000; stroke-width: 1.5;\" x1=\"271\" x2=\"420\" y1=\"106.2969\" y2=\"106.2969\"/><text fill=\"#000000\" font-family=\"sans-serif\" font-size=\"14\" font-weight=\"bold\" lengthAdjust=\"spacingAndGlyphs\" textLength=\"136\" x=\"275\" y=\"98.9951\">Application Layer</text><polygon fill=\"#FFFFFF\" points=\"285,214,399,214,406,236.2969,413,236.2969,413,266.5938,285,266.5938,285,214\" style=\"stroke: #000000; stroke-width: 1.5;\"/><line style=\"stroke: #000000; stroke-width: 1.5;\" x1=\"285\" x2=\"406\" y1=\"236.2969\" y2=\"236.2969\"/><text fill=\"#000000\" font-family=\"sans-serif\" font-size=\"14\" font-weight=\"bold\" lengthAdjust=\"spacingAndGlyphs\" textLength=\"108\" x=\"289\" y=\"228.9951\">Service Layer</text><polygon fill=\"#FFFFFF\" points=\"297,344,387,344,394,366.2969,401,366.2969,401,396.5938,297,396.5938,297,344\" style=\"stroke: #000000; stroke-width: 1.5;\"/><line style=\"stroke: #000000; stroke-width: 1.5;\" x1=\"297\" x2=\"394\" y1=\"366.2969\" y2=\"366.2969\"/><text fill=\"#000000\" font-family=\"sans-serif\" font-size=\"14\" font-weight=\"bold\" lengthAdjust=\"spacingAndGlyphs\" textLength=\"84\" x=\"301\" y=\"358.9951\">Data Layer</text><!--MD5=[af87c684e3b0d8be13c1a698a818ef1e]\n",
       "link E3 to E4--><path d=\"M349,137.12 C349,137.12 349,205.91 349,205.91 \" fill=\"none\" id=\"E3-&gt;E4\" style=\"stroke: #383838; stroke-width: 1.0; stroke-dasharray: 7.0,7.0;\"/><polygon fill=\"#383838\" points=\"349,213.91,352,205.91,346,205.91,349,213.91\" style=\"stroke: #383838; stroke-width: 1.0;\"/><text fill=\"#000000\" font-family=\"sans-serif\" font-size=\"13\" lengthAdjust=\"spacingAndGlyphs\" textLength=\"64\" x=\"350\" y=\"180.0669\">«depend»</text><!--MD5=[1b7591eae5389033d8d09a9d6721a717]\n",
       "link E4 to E5--><path d=\"M349,267.12 C349,267.12 349,335.91 349,335.91 \" fill=\"none\" id=\"E4-&gt;E5\" style=\"stroke: #383838; stroke-width: 1.0; stroke-dasharray: 7.0,7.0;\"/><polygon fill=\"#383838\" points=\"349,343.91,352,335.91,346,335.91,349,343.91\" style=\"stroke: #383838; stroke-width: 1.0;\"/><text fill=\"#000000\" font-family=\"sans-serif\" font-size=\"13\" lengthAdjust=\"spacingAndGlyphs\" textLength=\"64\" x=\"350\" y=\"310.0669\">«depend»</text><!--MD5=[c5e8897d989ce984f93528998a7150fe]\n",
       "link E8 to E6--><path d=\"M99.25,133.74 C99.25,133.74 99.25,209.46 99.25,209.46 \" fill=\"none\" id=\"E8-&gt;E6\" style=\"stroke: #383838; stroke-width: 1.0; stroke-dasharray: 7.0,7.0;\"/><polygon fill=\"#383838\" points=\"99.25,217.46,102.25,209.46,96.25,209.46,99.25,217.46\" style=\"stroke: #383838; stroke-width: 1.0;\"/><text fill=\"#000000\" font-family=\"sans-serif\" font-size=\"13\" lengthAdjust=\"spacingAndGlyphs\" textLength=\"64\" x=\"68\" y=\"180.0669\">«depend»</text><!--MD5=[bfa3c8b0d15052fdf50ae9310b491027]\n",
       "link E8 to E7--><path d=\"M158.75,133.74 C158.75,133.74 158.75,209.46 158.75,209.46 \" fill=\"none\" id=\"E8-&gt;E7\" style=\"stroke: #383838; stroke-width: 1.0; stroke-dasharray: 7.0,7.0;\"/><polygon fill=\"#383838\" points=\"158.75,217.46,161.75,209.46,155.75,209.46,158.75,217.46\" style=\"stroke: #383838; stroke-width: 1.0;\"/><text fill=\"#000000\" font-family=\"sans-serif\" font-size=\"13\" lengthAdjust=\"spacingAndGlyphs\" textLength=\"64\" x=\"174\" y=\"180.0669\">«depend»</text><!--MD5=[09d2e211bcbf5a5095d13f572336d72b]\n",
       "@startuml\r\n",
       "skinparam linetype ortho\r\n",
       "skinparam monochrome true\r\n",
       "skinparam classbackgroundcolor white\r\n",
       "skinparam shadowing false\r\n",
       "skinparam wrapWidth 300\r\n",
       "hide circle\r\n",
       "\r\n",
       "package \"DependencyTest\" as E1   {\r\n",
       "package \"System\" as E2   {\r\n",
       "package \"Application Layer\" as E3   {\r\n",
       "}\r\n",
       "package \"Service Layer\" as E4   {\r\n",
       "}\r\n",
       "package \"Data Layer\" as E5   {\r\n",
       "}\r\n",
       "}\r\n",
       "comp usage \"x: DataValue\" as E6  <<(T,blue)attribute>> {\r\n",
       "}\r\n",
       "comp usage \"y: DataValue\" as E7  <<(T,blue)attribute>> {\r\n",
       "}\r\n",
       "comp usage \"z: DataValue\" as E8  <<(T,blue)attribute>> {\r\n",
       "}\r\n",
       "E3 ..>> E4 : <<depend>>\r\n",
       "E4 ..>> E5 : <<depend>>\r\n",
       "E8 ..>> E6 : <<depend>>\r\n",
       "E8 ..>> E7 : <<depend>>\r\n",
       "}\r\n",
       "@enduml\r\n",
       "\n",
       "PlantUML version 1.2020.13(Sat Jun 13 12:26:38 UTC 2020)\n",
       "(EPL source distribution)\n",
       "Java Runtime: OpenJDK Runtime Environment\n",
       "JVM: OpenJDK 64-Bit Server VM\n",
       "Default Encoding: UTF-8\n",
       "Language: en\n",
       "Country: null\n",
       "--></g></svg>"
      ]
     },
     "execution_count": 52,
     "metadata": {},
     "output_type": "execute_result"
    }
   ],
   "source": [
    "%viz --style=\"ORTHOLINE\" --view=\"Tree\" \"DependencyTest\""
   ]
  },
  {
   "cell_type": "code",
   "execution_count": 53,
   "id": "conditional-surprise",
   "metadata": {
    "execution": {
     "iopub.execute_input": "2021-03-26T09:43:58.172635Z",
     "iopub.status.busy": "2021-03-26T09:43:58.169967Z",
     "iopub.status.idle": "2021-03-26T09:43:58.173807Z",
     "shell.execute_reply": "2021-03-26T09:43:58.174166Z"
    }
   },
   "outputs": [
    {
     "data": {
      "text/plain": [
       "java.lang.IllegalArgumentException: Invalid View: State View candidates are: Default Tree StateMachine Interconnection Activity Sequence MIXED \n",
       "\tat org.omg.sysml.plantuml.SysML2PlantUMLSvc.setView(SysML2PlantUMLSvc.java:63)\n",
       "\tat org.omg.sysml.interactive.SysMLInteractive.viz(SysMLInteractive.java:286)\n",
       "\tat org.omg.sysml.jupyter.kernel.magic.Viz.viz(Viz.java:47)\n",
       "\tat jdk.internal.reflect.GeneratedMethodAccessor8.invoke(Unknown Source)\n",
       "\tat java.base/jdk.internal.reflect.DelegatingMethodAccessorImpl.invoke(DelegatingMethodAccessorImpl.java:43)\n",
       "\tat java.base/java.lang.reflect.Method.invoke(Method.java:568)\n",
       "\tat io.github.spencerpark.jupyter.kernel.magic.registry.Magics.invoke(Magics.java:89)\n",
       "\tat io.github.spencerpark.jupyter.kernel.magic.registry.Magics.access$000(Magics.java:8)\n",
       "\tat io.github.spencerpark.jupyter.kernel.magic.registry.Magics$LineReflectionMagicFunction.execute(Magics.java:149)\n",
       "\tat io.github.spencerpark.jupyter.kernel.magic.registry.Magics.applyLineMagic(Magics.java:26)\n",
       "\tat org.omg.sysml.jupyter.kernel.SysMLKernel.eval(SysMLKernel.java:76)\n",
       "\tat io.github.spencerpark.jupyter.kernel.BaseKernel.handleExecuteRequest(BaseKernel.java:334)\n",
       "\tat io.github.spencerpark.jupyter.channels.ShellChannel.lambda$bind$0(ShellChannel.java:64)\n",
       "\tat io.github.spencerpark.jupyter.channels.Loop.lambda$new$0(Loop.java:21)\n",
       "\tat io.github.spencerpark.jupyter.channels.Loop.run(Loop.java:78)\n"
      ]
     },
     "execution_count": 53,
     "metadata": {},
     "output_type": "execute_result"
    }
   ],
   "source": [
    "%viz --style=\"ORTHOLINE\" --view=\"State\" \"DependencyTest\""
   ]
  },
  {
   "cell_type": "code",
   "execution_count": 54,
   "id": "precise-mention",
   "metadata": {
    "execution": {
     "iopub.execute_input": "2021-03-26T09:43:58.225928Z",
     "iopub.status.busy": "2021-03-26T09:43:58.225470Z",
     "iopub.status.idle": "2021-03-26T09:43:58.272710Z",
     "shell.execute_reply": "2021-03-26T09:43:58.271442Z"
    }
   },
   "outputs": [
    {
     "data": {
      "image/svg+xml": [
       "<?xml version=\"1.0\" encoding=\"UTF-8\" standalone=\"no\"?><svg xmlns=\"http://www.w3.org/2000/svg\" xmlns:xlink=\"http://www.w3.org/1999/xlink\" contentScriptType=\"application/ecmascript\" contentStyleType=\"text/css\" height=\"361px\" preserveAspectRatio=\"none\" style=\"width:529px;height:361px;\" version=\"1.1\" viewBox=\"0 0 529 361\" width=\"529px\" zoomAndPan=\"magnify\"><defs/><g><!--MD5=[fbc87193dbaf4d95561dea2c320d4a47]\n",
       "cluster E1--><polygon fill=\"#FFFFFF\" points=\"16,6,156,6,163,28.2969,507,28.2969,507,349,16,349,16,6\" style=\"stroke: #000000; stroke-width: 1.5;\"/><line style=\"stroke: #000000; stroke-width: 1.5;\" x1=\"16\" x2=\"163\" y1=\"28.2969\" y2=\"28.2969\"/><text fill=\"#000000\" font-family=\"sans-serif\" font-size=\"14\" font-weight=\"bold\" lengthAdjust=\"spacingAndGlyphs\" textLength=\"134\" x=\"20\" y=\"20.9951\">DependencyTest</text><!--MD5=[e4f7fae6ed58524ba242bb0b0d3be6b7]\n",
       "cluster E2--><polygon fill=\"#FFFFFF\" points=\"295,49,359,49,366,71.2969,483,71.2969,483,325,295,325,295,49\" style=\"stroke: #000000; stroke-width: 1.5;\"/><line style=\"stroke: #000000; stroke-width: 1.5;\" x1=\"295\" x2=\"366\" y1=\"71.2969\" y2=\"71.2969\"/><text fill=\"#000000\" font-family=\"sans-serif\" font-size=\"14\" font-weight=\"bold\" lengthAdjust=\"spacingAndGlyphs\" textLength=\"58\" x=\"299\" y=\"63.9951\">System</text><polygon fill=\"#FFFFFF\" points=\"311,84,453,84,460,106.2969,467,106.2969,467,136.5938,311,136.5938,311,84\" style=\"stroke: #000000; stroke-width: 1.5;\"/><line style=\"stroke: #000000; stroke-width: 1.5;\" x1=\"311\" x2=\"460\" y1=\"106.2969\" y2=\"106.2969\"/><text fill=\"#000000\" font-family=\"sans-serif\" font-size=\"14\" font-weight=\"bold\" lengthAdjust=\"spacingAndGlyphs\" textLength=\"136\" x=\"315\" y=\"98.9951\">Application Layer</text><polygon fill=\"#FFFFFF\" points=\"325,170,439,170,446,192.2969,453,192.2969,453,222.5938,325,222.5938,325,170\" style=\"stroke: #000000; stroke-width: 1.5;\"/><line style=\"stroke: #000000; stroke-width: 1.5;\" x1=\"325\" x2=\"446\" y1=\"192.2969\" y2=\"192.2969\"/><text fill=\"#000000\" font-family=\"sans-serif\" font-size=\"14\" font-weight=\"bold\" lengthAdjust=\"spacingAndGlyphs\" textLength=\"108\" x=\"329\" y=\"184.9951\">Service Layer</text><polygon fill=\"#FFFFFF\" points=\"337,256,427,256,434,278.2969,441,278.2969,441,308.5938,337,308.5938,337,256\" style=\"stroke: #000000; stroke-width: 1.5;\"/><line style=\"stroke: #000000; stroke-width: 1.5;\" x1=\"337\" x2=\"434\" y1=\"278.2969\" y2=\"278.2969\"/><text fill=\"#000000\" font-family=\"sans-serif\" font-size=\"14\" font-weight=\"bold\" lengthAdjust=\"spacingAndGlyphs\" textLength=\"84\" x=\"341\" y=\"270.9951\">Data Layer</text><g id=\"E1.E6\"><rect fill=\"#FFFFFF\" height=\"50\" rx=\"12.5\" ry=\"12.5\" style=\"stroke: #383838; stroke-width: 1.5;\" width=\"106\" x=\"32\" y=\"171.5\"/><line style=\"stroke: #383838; stroke-width: 1.5;\" x1=\"32\" x2=\"138\" y1=\"197.7969\" y2=\"197.7969\"/><text fill=\"#000000\" font-family=\"sans-serif\" font-size=\"14\" lengthAdjust=\"spacingAndGlyphs\" textLength=\"86\" x=\"42\" y=\"189.4951\">x: DataValue</text></g><g id=\"E1.E7\"><rect fill=\"#FFFFFF\" height=\"50\" rx=\"12.5\" ry=\"12.5\" style=\"stroke: #383838; stroke-width: 1.5;\" width=\"106\" x=\"173\" y=\"171.5\"/><line style=\"stroke: #383838; stroke-width: 1.5;\" x1=\"173\" x2=\"279\" y1=\"197.7969\" y2=\"197.7969\"/><text fill=\"#000000\" font-family=\"sans-serif\" font-size=\"14\" lengthAdjust=\"spacingAndGlyphs\" textLength=\"86\" x=\"183\" y=\"189.4951\">y: DataValue</text></g><g id=\"E1.E8\"><rect fill=\"#FFFFFF\" height=\"50\" rx=\"12.5\" ry=\"12.5\" style=\"stroke: #383838; stroke-width: 1.5;\" width=\"107\" x=\"84.5\" y=\"85.5\"/><line style=\"stroke: #383838; stroke-width: 1.5;\" x1=\"84.5\" x2=\"191.5\" y1=\"111.7969\" y2=\"111.7969\"/><text fill=\"#000000\" font-family=\"sans-serif\" font-size=\"14\" lengthAdjust=\"spacingAndGlyphs\" textLength=\"87\" x=\"94.5\" y=\"103.4951\">z: DataValue</text></g><!--MD5=[af87c684e3b0d8be13c1a698a818ef1e]\n",
       "link E3 to E4--><path d=\"M389,137.24 C389,137.24 389,161.78 389,161.78 \" fill=\"none\" id=\"E3-&gt;E4\" style=\"stroke: #383838; stroke-width: 1.0; stroke-dasharray: 7.0,7.0;\"/><polygon fill=\"#383838\" points=\"389,169.78,392,161.78,386,161.78,389,169.78\" style=\"stroke: #383838; stroke-width: 1.0;\"/><text fill=\"#000000\" font-family=\"sans-serif\" font-size=\"13\" lengthAdjust=\"spacingAndGlyphs\" textLength=\"64\" x=\"390\" y=\"158.0669\">«depend»</text><!--MD5=[1b7591eae5389033d8d09a9d6721a717]\n",
       "link E4 to E5--><path d=\"M389,223.24 C389,223.24 389,247.78 389,247.78 \" fill=\"none\" id=\"E4-&gt;E5\" style=\"stroke: #383838; stroke-width: 1.0; stroke-dasharray: 7.0,7.0;\"/><polygon fill=\"#383838\" points=\"389,255.78,392,247.78,386,247.78,389,255.78\" style=\"stroke: #383838; stroke-width: 1.0;\"/><text fill=\"#000000\" font-family=\"sans-serif\" font-size=\"13\" lengthAdjust=\"spacingAndGlyphs\" textLength=\"64\" x=\"390\" y=\"244.0669\">«depend»</text><!--MD5=[c5e8897d989ce984f93528998a7150fe]\n",
       "link E8 to E6--><path d=\"M111.25,135.84 C111.25,135.84 111.25,163.34 111.25,163.34 \" fill=\"none\" id=\"E8-&gt;E6\" style=\"stroke: #383838; stroke-width: 1.0; stroke-dasharray: 7.0,7.0;\"/><polygon fill=\"#383838\" points=\"111.25,171.34,114.25,163.34,108.25,163.34,111.25,171.34\" style=\"stroke: #383838; stroke-width: 1.0;\"/><text fill=\"#000000\" font-family=\"sans-serif\" font-size=\"13\" lengthAdjust=\"spacingAndGlyphs\" textLength=\"64\" x=\"91\" y=\"158.0669\">«depend»</text><!--MD5=[bfa3c8b0d15052fdf50ae9310b491027]\n",
       "link E8 to E7--><path d=\"M182.25,135.84 C182.25,135.84 182.25,163.34 182.25,163.34 \" fill=\"none\" id=\"E8-&gt;E7\" style=\"stroke: #383838; stroke-width: 1.0; stroke-dasharray: 7.0,7.0;\"/><polygon fill=\"#383838\" points=\"182.25,171.34,185.25,163.34,179.25,163.34,182.25,171.34\" style=\"stroke: #383838; stroke-width: 1.0;\"/><text fill=\"#000000\" font-family=\"sans-serif\" font-size=\"13\" lengthAdjust=\"spacingAndGlyphs\" textLength=\"64\" x=\"208\" y=\"158.0669\">«depend»</text><!--MD5=[ee60447b64a04fa0d7aac3f9865bc8a3]\n",
       "@startuml\r\n",
       "skinparam ranksep 8\r\n",
       "skinparam rectangle {\r\n",
       " backgroundColor<<block>> LightGreen\r\n",
       "}\r\n",
       "skinparam linetype ortho\r\n",
       "skinparam monochrome true\r\n",
       "skinparam classbackgroundcolor white\r\n",
       "skinparam shadowing false\r\n",
       "skinparam wrapWidth 300\r\n",
       "hide circle\r\n",
       "\r\n",
       "package \"DependencyTest\" as E1   {\r\n",
       "package \"System\" as E2   {\r\n",
       "package \"Application Layer\" as E3   {\r\n",
       "}\r\n",
       "package \"Service Layer\" as E4   {\r\n",
       "}\r\n",
       "package \"Data Layer\" as E5   {\r\n",
       "}\r\n",
       "}\r\n",
       "rec usage \"x: DataValue\" as E6  <<attribute>> {\r\n",
       "}\r\n",
       "rec usage \"y: DataValue\" as E7  <<attribute>> {\r\n",
       "}\r\n",
       "rec usage \"z: DataValue\" as E8  <<attribute>> {\r\n",
       "}\r\n",
       "E3 ..>> E4 : <<depend>>\r\n",
       "E4 ..>> E5 : <<depend>>\r\n",
       "E8 ..>> E6 : <<depend>>\r\n",
       "E8 ..>> E7 : <<depend>>\r\n",
       "}\r\n",
       "@enduml\r\n",
       "\n",
       "PlantUML version 1.2020.13(Sat Jun 13 12:26:38 UTC 2020)\n",
       "(EPL source distribution)\n",
       "Java Runtime: OpenJDK Runtime Environment\n",
       "JVM: OpenJDK 64-Bit Server VM\n",
       "Default Encoding: UTF-8\n",
       "Language: en\n",
       "Country: null\n",
       "--></g></svg>"
      ]
     },
     "execution_count": 54,
     "metadata": {},
     "output_type": "execute_result"
    }
   ],
   "source": [
    "%viz --style=\"ORTHOLINE\" --view=\"Interconnection\" \"DependencyTest\""
   ]
  },
  {
   "cell_type": "code",
   "execution_count": 55,
   "id": "julian-conservation",
   "metadata": {
    "execution": {
     "iopub.execute_input": "2021-03-26T09:43:58.319847Z",
     "iopub.status.busy": "2021-03-26T09:43:58.318565Z",
     "iopub.status.idle": "2021-03-26T09:43:58.321516Z",
     "shell.execute_reply": "2021-03-26T09:43:58.321827Z"
    }
   },
   "outputs": [
    {
     "data": {
      "text/plain": [
       "java.lang.IllegalArgumentException: Invalid View: Action View candidates are: Default Tree StateMachine Interconnection Activity Sequence MIXED \n",
       "\tat org.omg.sysml.plantuml.SysML2PlantUMLSvc.setView(SysML2PlantUMLSvc.java:63)\n",
       "\tat org.omg.sysml.interactive.SysMLInteractive.viz(SysMLInteractive.java:286)\n",
       "\tat org.omg.sysml.jupyter.kernel.magic.Viz.viz(Viz.java:47)\n",
       "\tat jdk.internal.reflect.GeneratedMethodAccessor8.invoke(Unknown Source)\n",
       "\tat java.base/jdk.internal.reflect.DelegatingMethodAccessorImpl.invoke(DelegatingMethodAccessorImpl.java:43)\n",
       "\tat java.base/java.lang.reflect.Method.invoke(Method.java:568)\n",
       "\tat io.github.spencerpark.jupyter.kernel.magic.registry.Magics.invoke(Magics.java:89)\n",
       "\tat io.github.spencerpark.jupyter.kernel.magic.registry.Magics.access$000(Magics.java:8)\n",
       "\tat io.github.spencerpark.jupyter.kernel.magic.registry.Magics$LineReflectionMagicFunction.execute(Magics.java:149)\n",
       "\tat io.github.spencerpark.jupyter.kernel.magic.registry.Magics.applyLineMagic(Magics.java:26)\n",
       "\tat org.omg.sysml.jupyter.kernel.SysMLKernel.eval(SysMLKernel.java:76)\n",
       "\tat io.github.spencerpark.jupyter.kernel.BaseKernel.handleExecuteRequest(BaseKernel.java:334)\n",
       "\tat io.github.spencerpark.jupyter.channels.ShellChannel.lambda$bind$0(ShellChannel.java:64)\n",
       "\tat io.github.spencerpark.jupyter.channels.Loop.lambda$new$0(Loop.java:21)\n",
       "\tat io.github.spencerpark.jupyter.channels.Loop.run(Loop.java:78)\n"
      ]
     },
     "execution_count": 55,
     "metadata": {},
     "output_type": "execute_result"
    }
   ],
   "source": [
    "%viz --style=\"ORTHOLINE\" --view=\"Action\" \"DependencyTest\""
   ]
  },
  {
   "cell_type": "code",
   "execution_count": 56,
   "id": "eleven-helena",
   "metadata": {
    "execution": {
     "iopub.execute_input": "2021-03-26T09:43:58.373638Z",
     "iopub.status.busy": "2021-03-26T09:43:58.372864Z",
     "iopub.status.idle": "2021-03-26T09:43:58.402577Z",
     "shell.execute_reply": "2021-03-26T09:43:58.401323Z"
    }
   },
   "outputs": [
    {
     "data": {
      "image/svg+xml": [
       "<?xml version=\"1.0\" encoding=\"UTF-8\" standalone=\"no\"?><svg xmlns=\"http://www.w3.org/2000/svg\" xmlns:xlink=\"http://www.w3.org/1999/xlink\" contentScriptType=\"application/ecmascript\" contentStyleType=\"text/css\" height=\"449px\" preserveAspectRatio=\"none\" style=\"width:489px;height:449px;\" version=\"1.1\" viewBox=\"0 0 489 449\" width=\"489px\" zoomAndPan=\"magnify\"><defs/><g><!--MD5=[fbc87193dbaf4d95561dea2c320d4a47]\n",
       "cluster E1--><polygon fill=\"#FFFFFF\" points=\"16,6,156,6,163,28.2969,467,28.2969,467,437,16,437,16,6\" style=\"stroke: #000000; stroke-width: 1.5;\"/><line style=\"stroke: #000000; stroke-width: 1.5;\" x1=\"16\" x2=\"163\" y1=\"28.2969\" y2=\"28.2969\"/><text fill=\"#000000\" font-family=\"sans-serif\" font-size=\"14\" font-weight=\"bold\" lengthAdjust=\"spacingAndGlyphs\" textLength=\"134\" x=\"20\" y=\"20.9951\">DependencyTest</text><!--MD5=[e4f7fae6ed58524ba242bb0b0d3be6b7]\n",
       "cluster E2--><polygon fill=\"#FFFFFF\" points=\"255,49,319,49,326,71.2969,443,71.2969,443,413,255,413,255,49\" style=\"stroke: #000000; stroke-width: 1.5;\"/><line style=\"stroke: #000000; stroke-width: 1.5;\" x1=\"255\" x2=\"326\" y1=\"71.2969\" y2=\"71.2969\"/><text fill=\"#000000\" font-family=\"sans-serif\" font-size=\"14\" font-weight=\"bold\" lengthAdjust=\"spacingAndGlyphs\" textLength=\"58\" x=\"259\" y=\"63.9951\">System</text><!--MD5=[60a26617385b1d2d0262a64233df1f8d]\n",
       "class E6--><rect fill=\"#FFFFFF\" height=\"45.9375\" id=\"E6\" rx=\"10\" ry=\"10\" style=\"stroke: #383838; stroke-width: 1.5;\" width=\"85\" x=\"32.5\" y=\"217.5\"/><text fill=\"#000000\" font-family=\"sans-serif\" font-size=\"12\" font-style=\"italic\" lengthAdjust=\"spacingAndGlyphs\" textLength=\"69\" x=\"40.5\" y=\"233.6387\">«attribute»</text><text fill=\"#000000\" font-family=\"sans-serif\" font-size=\"12\" lengthAdjust=\"spacingAndGlyphs\" textLength=\"79\" x=\"35.5\" y=\"247.6074\">x: DataValue</text><line style=\"stroke: #383838; stroke-width: 1.5;\" x1=\"33.5\" x2=\"116.5\" y1=\"255.4375\" y2=\"255.4375\"/><!--MD5=[2156ba9850f5573cc1fc38a6a4b2f02b]\n",
       "class E7--><rect fill=\"#FFFFFF\" height=\"45.9375\" id=\"E7\" rx=\"10\" ry=\"10\" style=\"stroke: #383838; stroke-width: 1.5;\" width=\"85\" x=\"152.5\" y=\"217.5\"/><text fill=\"#000000\" font-family=\"sans-serif\" font-size=\"12\" font-style=\"italic\" lengthAdjust=\"spacingAndGlyphs\" textLength=\"69\" x=\"160.5\" y=\"233.6387\">«attribute»</text><text fill=\"#000000\" font-family=\"sans-serif\" font-size=\"12\" lengthAdjust=\"spacingAndGlyphs\" textLength=\"79\" x=\"155.5\" y=\"247.6074\">y: DataValue</text><line style=\"stroke: #383838; stroke-width: 1.5;\" x1=\"153.5\" x2=\"236.5\" y1=\"255.4375\" y2=\"255.4375\"/><!--MD5=[b9389687b975829384b498ac4b7476b2]\n",
       "class E8--><rect fill=\"#FFFFFF\" height=\"45.9375\" id=\"E8\" rx=\"10\" ry=\"10\" style=\"stroke: #383838; stroke-width: 1.5;\" width=\"84\" x=\"81\" y=\"87.5\"/><text fill=\"#000000\" font-family=\"sans-serif\" font-size=\"12\" font-style=\"italic\" lengthAdjust=\"spacingAndGlyphs\" textLength=\"69\" x=\"88.5\" y=\"103.6387\">«attribute»</text><text fill=\"#000000\" font-family=\"sans-serif\" font-size=\"12\" lengthAdjust=\"spacingAndGlyphs\" textLength=\"78\" x=\"84\" y=\"117.6074\">z: DataValue</text><line style=\"stroke: #383838; stroke-width: 1.5;\" x1=\"82\" x2=\"164\" y1=\"125.4375\" y2=\"125.4375\"/><polygon fill=\"#FFFFFF\" points=\"271,84,413,84,420,106.2969,427,106.2969,427,136.5938,271,136.5938,271,84\" style=\"stroke: #000000; stroke-width: 1.5;\"/><line style=\"stroke: #000000; stroke-width: 1.5;\" x1=\"271\" x2=\"420\" y1=\"106.2969\" y2=\"106.2969\"/><text fill=\"#000000\" font-family=\"sans-serif\" font-size=\"14\" font-weight=\"bold\" lengthAdjust=\"spacingAndGlyphs\" textLength=\"136\" x=\"275\" y=\"98.9951\">Application Layer</text><polygon fill=\"#FFFFFF\" points=\"285,214,399,214,406,236.2969,413,236.2969,413,266.5938,285,266.5938,285,214\" style=\"stroke: #000000; stroke-width: 1.5;\"/><line style=\"stroke: #000000; stroke-width: 1.5;\" x1=\"285\" x2=\"406\" y1=\"236.2969\" y2=\"236.2969\"/><text fill=\"#000000\" font-family=\"sans-serif\" font-size=\"14\" font-weight=\"bold\" lengthAdjust=\"spacingAndGlyphs\" textLength=\"108\" x=\"289\" y=\"228.9951\">Service Layer</text><polygon fill=\"#FFFFFF\" points=\"297,344,387,344,394,366.2969,401,366.2969,401,396.5938,297,396.5938,297,344\" style=\"stroke: #000000; stroke-width: 1.5;\"/><line style=\"stroke: #000000; stroke-width: 1.5;\" x1=\"297\" x2=\"394\" y1=\"366.2969\" y2=\"366.2969\"/><text fill=\"#000000\" font-family=\"sans-serif\" font-size=\"14\" font-weight=\"bold\" lengthAdjust=\"spacingAndGlyphs\" textLength=\"84\" x=\"301\" y=\"358.9951\">Data Layer</text><!--MD5=[af87c684e3b0d8be13c1a698a818ef1e]\n",
       "link E3 to E4--><path d=\"M349,137.12 C349,137.12 349,205.91 349,205.91 \" fill=\"none\" id=\"E3-&gt;E4\" style=\"stroke: #383838; stroke-width: 1.0; stroke-dasharray: 7.0,7.0;\"/><polygon fill=\"#383838\" points=\"349,213.91,352,205.91,346,205.91,349,213.91\" style=\"stroke: #383838; stroke-width: 1.0;\"/><text fill=\"#000000\" font-family=\"sans-serif\" font-size=\"13\" lengthAdjust=\"spacingAndGlyphs\" textLength=\"64\" x=\"350\" y=\"180.0669\">«depend»</text><!--MD5=[1b7591eae5389033d8d09a9d6721a717]\n",
       "link E4 to E5--><path d=\"M349,267.12 C349,267.12 349,335.91 349,335.91 \" fill=\"none\" id=\"E4-&gt;E5\" style=\"stroke: #383838; stroke-width: 1.0; stroke-dasharray: 7.0,7.0;\"/><polygon fill=\"#383838\" points=\"349,343.91,352,335.91,346,335.91,349,343.91\" style=\"stroke: #383838; stroke-width: 1.0;\"/><text fill=\"#000000\" font-family=\"sans-serif\" font-size=\"13\" lengthAdjust=\"spacingAndGlyphs\" textLength=\"64\" x=\"350\" y=\"310.0669\">«depend»</text><!--MD5=[c5e8897d989ce984f93528998a7150fe]\n",
       "link E8 to E6--><path d=\"M99.25,133.74 C99.25,133.74 99.25,209.46 99.25,209.46 \" fill=\"none\" id=\"E8-&gt;E6\" style=\"stroke: #383838; stroke-width: 1.0; stroke-dasharray: 7.0,7.0;\"/><polygon fill=\"#383838\" points=\"99.25,217.46,102.25,209.46,96.25,209.46,99.25,217.46\" style=\"stroke: #383838; stroke-width: 1.0;\"/><text fill=\"#000000\" font-family=\"sans-serif\" font-size=\"13\" lengthAdjust=\"spacingAndGlyphs\" textLength=\"64\" x=\"68\" y=\"180.0669\">«depend»</text><!--MD5=[bfa3c8b0d15052fdf50ae9310b491027]\n",
       "link E8 to E7--><path d=\"M158.75,133.74 C158.75,133.74 158.75,209.46 158.75,209.46 \" fill=\"none\" id=\"E8-&gt;E7\" style=\"stroke: #383838; stroke-width: 1.0; stroke-dasharray: 7.0,7.0;\"/><polygon fill=\"#383838\" points=\"158.75,217.46,161.75,209.46,155.75,209.46,158.75,217.46\" style=\"stroke: #383838; stroke-width: 1.0;\"/><text fill=\"#000000\" font-family=\"sans-serif\" font-size=\"13\" lengthAdjust=\"spacingAndGlyphs\" textLength=\"64\" x=\"174\" y=\"180.0669\">«depend»</text><!--MD5=[09d2e211bcbf5a5095d13f572336d72b]\n",
       "@startuml\r\n",
       "skinparam linetype ortho\r\n",
       "skinparam monochrome true\r\n",
       "skinparam classbackgroundcolor white\r\n",
       "skinparam shadowing false\r\n",
       "skinparam wrapWidth 300\r\n",
       "hide circle\r\n",
       "\r\n",
       "package \"DependencyTest\" as E1   {\r\n",
       "package \"System\" as E2   {\r\n",
       "package \"Application Layer\" as E3   {\r\n",
       "}\r\n",
       "package \"Service Layer\" as E4   {\r\n",
       "}\r\n",
       "package \"Data Layer\" as E5   {\r\n",
       "}\r\n",
       "}\r\n",
       "comp usage \"x: DataValue\" as E6  <<(T,blue)attribute>> {\r\n",
       "}\r\n",
       "comp usage \"y: DataValue\" as E7  <<(T,blue)attribute>> {\r\n",
       "}\r\n",
       "comp usage \"z: DataValue\" as E8  <<(T,blue)attribute>> {\r\n",
       "}\r\n",
       "E3 ..>> E4 : <<depend>>\r\n",
       "E4 ..>> E5 : <<depend>>\r\n",
       "E8 ..>> E6 : <<depend>>\r\n",
       "E8 ..>> E7 : <<depend>>\r\n",
       "}\r\n",
       "@enduml\r\n",
       "\n",
       "PlantUML version 1.2020.13(Sat Jun 13 12:26:38 UTC 2020)\n",
       "(EPL source distribution)\n",
       "Java Runtime: OpenJDK Runtime Environment\n",
       "JVM: OpenJDK 64-Bit Server VM\n",
       "Default Encoding: UTF-8\n",
       "Language: en\n",
       "Country: null\n",
       "--></g></svg>"
      ]
     },
     "execution_count": 56,
     "metadata": {},
     "output_type": "execute_result"
    }
   ],
   "source": [
    "%viz --style=\"ORTHOLINE\" --view=\"Sequence\" \"DependencyTest\""
   ]
  },
  {
   "cell_type": "code",
   "execution_count": 57,
   "id": "naughty-comparative",
   "metadata": {
    "execution": {
     "iopub.execute_input": "2021-03-26T09:43:58.454076Z",
     "iopub.status.busy": "2021-03-26T09:43:58.453376Z",
     "iopub.status.idle": "2021-03-26T09:43:58.484894Z",
     "shell.execute_reply": "2021-03-26T09:43:58.483445Z"
    }
   },
   "outputs": [
    {
     "data": {
      "image/svg+xml": [
       "<?xml version=\"1.0\" encoding=\"UTF-8\" standalone=\"no\"?><svg xmlns=\"http://www.w3.org/2000/svg\" xmlns:xlink=\"http://www.w3.org/1999/xlink\" contentScriptType=\"application/ecmascript\" contentStyleType=\"text/css\" height=\"449px\" preserveAspectRatio=\"none\" style=\"width:489px;height:449px;\" version=\"1.1\" viewBox=\"0 0 489 449\" width=\"489px\" zoomAndPan=\"magnify\"><defs/><g><!--MD5=[fbc87193dbaf4d95561dea2c320d4a47]\n",
       "cluster E1--><polygon fill=\"#FFFFFF\" points=\"16,6,156,6,163,28.2969,467,28.2969,467,437,16,437,16,6\" style=\"stroke: #000000; stroke-width: 1.5;\"/><line style=\"stroke: #000000; stroke-width: 1.5;\" x1=\"16\" x2=\"163\" y1=\"28.2969\" y2=\"28.2969\"/><text fill=\"#000000\" font-family=\"sans-serif\" font-size=\"14\" font-weight=\"bold\" lengthAdjust=\"spacingAndGlyphs\" textLength=\"134\" x=\"20\" y=\"20.9951\">DependencyTest</text><!--MD5=[e4f7fae6ed58524ba242bb0b0d3be6b7]\n",
       "cluster E2--><polygon fill=\"#FFFFFF\" points=\"255,49,319,49,326,71.2969,443,71.2969,443,413,255,413,255,49\" style=\"stroke: #000000; stroke-width: 1.5;\"/><line style=\"stroke: #000000; stroke-width: 1.5;\" x1=\"255\" x2=\"326\" y1=\"71.2969\" y2=\"71.2969\"/><text fill=\"#000000\" font-family=\"sans-serif\" font-size=\"14\" font-weight=\"bold\" lengthAdjust=\"spacingAndGlyphs\" textLength=\"58\" x=\"259\" y=\"63.9951\">System</text><!--MD5=[60a26617385b1d2d0262a64233df1f8d]\n",
       "class E6--><rect fill=\"#FFFFFF\" height=\"45.9375\" id=\"E6\" rx=\"10\" ry=\"10\" style=\"stroke: #383838; stroke-width: 1.5;\" width=\"85\" x=\"32.5\" y=\"217.5\"/><text fill=\"#000000\" font-family=\"sans-serif\" font-size=\"12\" font-style=\"italic\" lengthAdjust=\"spacingAndGlyphs\" textLength=\"69\" x=\"40.5\" y=\"233.6387\">«attribute»</text><text fill=\"#000000\" font-family=\"sans-serif\" font-size=\"12\" lengthAdjust=\"spacingAndGlyphs\" textLength=\"79\" x=\"35.5\" y=\"247.6074\">x: DataValue</text><line style=\"stroke: #383838; stroke-width: 1.5;\" x1=\"33.5\" x2=\"116.5\" y1=\"255.4375\" y2=\"255.4375\"/><!--MD5=[2156ba9850f5573cc1fc38a6a4b2f02b]\n",
       "class E7--><rect fill=\"#FFFFFF\" height=\"45.9375\" id=\"E7\" rx=\"10\" ry=\"10\" style=\"stroke: #383838; stroke-width: 1.5;\" width=\"85\" x=\"152.5\" y=\"217.5\"/><text fill=\"#000000\" font-family=\"sans-serif\" font-size=\"12\" font-style=\"italic\" lengthAdjust=\"spacingAndGlyphs\" textLength=\"69\" x=\"160.5\" y=\"233.6387\">«attribute»</text><text fill=\"#000000\" font-family=\"sans-serif\" font-size=\"12\" lengthAdjust=\"spacingAndGlyphs\" textLength=\"79\" x=\"155.5\" y=\"247.6074\">y: DataValue</text><line style=\"stroke: #383838; stroke-width: 1.5;\" x1=\"153.5\" x2=\"236.5\" y1=\"255.4375\" y2=\"255.4375\"/><!--MD5=[b9389687b975829384b498ac4b7476b2]\n",
       "class E8--><rect fill=\"#FFFFFF\" height=\"45.9375\" id=\"E8\" rx=\"10\" ry=\"10\" style=\"stroke: #383838; stroke-width: 1.5;\" width=\"84\" x=\"81\" y=\"87.5\"/><text fill=\"#000000\" font-family=\"sans-serif\" font-size=\"12\" font-style=\"italic\" lengthAdjust=\"spacingAndGlyphs\" textLength=\"69\" x=\"88.5\" y=\"103.6387\">«attribute»</text><text fill=\"#000000\" font-family=\"sans-serif\" font-size=\"12\" lengthAdjust=\"spacingAndGlyphs\" textLength=\"78\" x=\"84\" y=\"117.6074\">z: DataValue</text><line style=\"stroke: #383838; stroke-width: 1.5;\" x1=\"82\" x2=\"164\" y1=\"125.4375\" y2=\"125.4375\"/><polygon fill=\"#FFFFFF\" points=\"271,84,413,84,420,106.2969,427,106.2969,427,136.5938,271,136.5938,271,84\" style=\"stroke: #000000; stroke-width: 1.5;\"/><line style=\"stroke: #000000; stroke-width: 1.5;\" x1=\"271\" x2=\"420\" y1=\"106.2969\" y2=\"106.2969\"/><text fill=\"#000000\" font-family=\"sans-serif\" font-size=\"14\" font-weight=\"bold\" lengthAdjust=\"spacingAndGlyphs\" textLength=\"136\" x=\"275\" y=\"98.9951\">Application Layer</text><polygon fill=\"#FFFFFF\" points=\"285,214,399,214,406,236.2969,413,236.2969,413,266.5938,285,266.5938,285,214\" style=\"stroke: #000000; stroke-width: 1.5;\"/><line style=\"stroke: #000000; stroke-width: 1.5;\" x1=\"285\" x2=\"406\" y1=\"236.2969\" y2=\"236.2969\"/><text fill=\"#000000\" font-family=\"sans-serif\" font-size=\"14\" font-weight=\"bold\" lengthAdjust=\"spacingAndGlyphs\" textLength=\"108\" x=\"289\" y=\"228.9951\">Service Layer</text><polygon fill=\"#FFFFFF\" points=\"297,344,387,344,394,366.2969,401,366.2969,401,396.5938,297,396.5938,297,344\" style=\"stroke: #000000; stroke-width: 1.5;\"/><line style=\"stroke: #000000; stroke-width: 1.5;\" x1=\"297\" x2=\"394\" y1=\"366.2969\" y2=\"366.2969\"/><text fill=\"#000000\" font-family=\"sans-serif\" font-size=\"14\" font-weight=\"bold\" lengthAdjust=\"spacingAndGlyphs\" textLength=\"84\" x=\"301\" y=\"358.9951\">Data Layer</text><!--MD5=[af87c684e3b0d8be13c1a698a818ef1e]\n",
       "link E3 to E4--><path d=\"M349,137.12 C349,137.12 349,205.91 349,205.91 \" fill=\"none\" id=\"E3-&gt;E4\" style=\"stroke: #383838; stroke-width: 1.0; stroke-dasharray: 7.0,7.0;\"/><polygon fill=\"#383838\" points=\"349,213.91,352,205.91,346,205.91,349,213.91\" style=\"stroke: #383838; stroke-width: 1.0;\"/><text fill=\"#000000\" font-family=\"sans-serif\" font-size=\"13\" lengthAdjust=\"spacingAndGlyphs\" textLength=\"64\" x=\"350\" y=\"180.0669\">«depend»</text><!--MD5=[1b7591eae5389033d8d09a9d6721a717]\n",
       "link E4 to E5--><path d=\"M349,267.12 C349,267.12 349,335.91 349,335.91 \" fill=\"none\" id=\"E4-&gt;E5\" style=\"stroke: #383838; stroke-width: 1.0; stroke-dasharray: 7.0,7.0;\"/><polygon fill=\"#383838\" points=\"349,343.91,352,335.91,346,335.91,349,343.91\" style=\"stroke: #383838; stroke-width: 1.0;\"/><text fill=\"#000000\" font-family=\"sans-serif\" font-size=\"13\" lengthAdjust=\"spacingAndGlyphs\" textLength=\"64\" x=\"350\" y=\"310.0669\">«depend»</text><!--MD5=[c5e8897d989ce984f93528998a7150fe]\n",
       "link E8 to E6--><path d=\"M99.25,133.74 C99.25,133.74 99.25,209.46 99.25,209.46 \" fill=\"none\" id=\"E8-&gt;E6\" style=\"stroke: #383838; stroke-width: 1.0; stroke-dasharray: 7.0,7.0;\"/><polygon fill=\"#383838\" points=\"99.25,217.46,102.25,209.46,96.25,209.46,99.25,217.46\" style=\"stroke: #383838; stroke-width: 1.0;\"/><text fill=\"#000000\" font-family=\"sans-serif\" font-size=\"13\" lengthAdjust=\"spacingAndGlyphs\" textLength=\"64\" x=\"68\" y=\"180.0669\">«depend»</text><!--MD5=[bfa3c8b0d15052fdf50ae9310b491027]\n",
       "link E8 to E7--><path d=\"M158.75,133.74 C158.75,133.74 158.75,209.46 158.75,209.46 \" fill=\"none\" id=\"E8-&gt;E7\" style=\"stroke: #383838; stroke-width: 1.0; stroke-dasharray: 7.0,7.0;\"/><polygon fill=\"#383838\" points=\"158.75,217.46,161.75,209.46,155.75,209.46,158.75,217.46\" style=\"stroke: #383838; stroke-width: 1.0;\"/><text fill=\"#000000\" font-family=\"sans-serif\" font-size=\"13\" lengthAdjust=\"spacingAndGlyphs\" textLength=\"64\" x=\"174\" y=\"180.0669\">«depend»</text><!--MD5=[09d2e211bcbf5a5095d13f572336d72b]\n",
       "@startuml\r\n",
       "skinparam linetype ortho\r\n",
       "skinparam monochrome true\r\n",
       "skinparam classbackgroundcolor white\r\n",
       "skinparam shadowing false\r\n",
       "skinparam wrapWidth 300\r\n",
       "hide circle\r\n",
       "\r\n",
       "package \"DependencyTest\" as E1   {\r\n",
       "package \"System\" as E2   {\r\n",
       "package \"Application Layer\" as E3   {\r\n",
       "}\r\n",
       "package \"Service Layer\" as E4   {\r\n",
       "}\r\n",
       "package \"Data Layer\" as E5   {\r\n",
       "}\r\n",
       "}\r\n",
       "comp usage \"x: DataValue\" as E6  <<(T,blue)attribute>> {\r\n",
       "}\r\n",
       "comp usage \"y: DataValue\" as E7  <<(T,blue)attribute>> {\r\n",
       "}\r\n",
       "comp usage \"z: DataValue\" as E8  <<(T,blue)attribute>> {\r\n",
       "}\r\n",
       "E3 ..>> E4 : <<depend>>\r\n",
       "E4 ..>> E5 : <<depend>>\r\n",
       "E8 ..>> E6 : <<depend>>\r\n",
       "E8 ..>> E7 : <<depend>>\r\n",
       "}\r\n",
       "@enduml\r\n",
       "\n",
       "PlantUML version 1.2020.13(Sat Jun 13 12:26:38 UTC 2020)\n",
       "(EPL source distribution)\n",
       "Java Runtime: OpenJDK Runtime Environment\n",
       "JVM: OpenJDK 64-Bit Server VM\n",
       "Default Encoding: UTF-8\n",
       "Language: en\n",
       "Country: null\n",
       "--></g></svg>"
      ]
     },
     "execution_count": 57,
     "metadata": {},
     "output_type": "execute_result"
    }
   ],
   "source": [
    "%viz --style=\"ORTHOLINE\" --view=\"MIXED\" \"DependencyTest\""
   ]
  }
 ],
 "metadata": {
  "kernelspec": {
   "display_name": "SysML",
   "language": "sysml",
   "name": "sysml"
  },
  "language_info": {
   "codemirror_mode": "sysml",
   "file_extension": ".sysml",
   "mimetype": "text/x-sysml",
   "name": "SysML",
   "pygments_lexer": "java",
   "version": "1.0.0"
  }
 },
 "nbformat": 4,
 "nbformat_minor": 5
}
