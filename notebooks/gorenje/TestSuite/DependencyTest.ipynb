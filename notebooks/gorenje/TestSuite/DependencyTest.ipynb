{
 "cells": [
  {
   "cell_type": "markdown",
   "id": "7507fb7e",
   "metadata": {},
   "source": [
    "# SysML v2 Test Suite\n",
    "\n",
    "This can notebook can be cleared using menu `Edit --> Clear All Outputs` and then all cells can be\n",
    "run using menu `Run --> Run All Cells`.\n",
    "\n",
    "**WARNING**: This file is generated, all modifications here will be ignored.\n"
   ]
  },
  {
   "cell_type": "markdown",
   "id": "269c83aa",
   "metadata": {},
   "source": [
    "## File: ../../sysml/src/examples/Simple Tests/DependencyTest.sysml"
   ]
  },
  {
   "cell_type": "code",
   "execution_count": 1,
   "id": "804c0ff3",
   "metadata": {
    "execution": {
     "iopub.execute_input": "2021-04-21T20:26:03.730293Z",
     "iopub.status.busy": "2021-04-21T20:26:03.725124Z",
     "iopub.status.idle": "2021-04-21T20:26:03.805245Z",
     "shell.execute_reply": "2021-04-21T20:26:03.804487Z"
    }
   },
   "outputs": [
    {
     "data": {
      "text/plain": [
       "Package DependencyTest (7cfacb70-bf62-4aba-adb9-a1423d0c3095)\n"
      ]
     },
     "execution_count": 1,
     "metadata": {},
     "output_type": "execute_result"
    }
   ],
   "source": [
    "package DependencyTest {\n",
    "\t\n",
    "\tpackage System {\n",
    "\t\tpackage 'Application Layer';\n",
    "\t\tpackage 'Service Layer';\n",
    "\t\tpackage 'Data Layer';\n",
    "\t}\n",
    "\t\n",
    "\timport System::*;\n",
    "\t\n",
    "\tdependency Use from 'Application Layer' to 'Service Layer';\n",
    "\tdependency from 'Service Layer' to 'Data Layer';\n",
    "\t\n",
    "\tattribute x;\n",
    "\tattribute y;\n",
    "\tattribute z;\n",
    "\t\n",
    "\tdependency z to x, y;\n",
    "\t\n",
    "}"
   ]
  },
  {
   "cell_type": "code",
   "execution_count": 2,
   "id": "77a06f2a",
   "metadata": {
    "execution": {
     "iopub.execute_input": "2021-04-21T20:26:03.856920Z",
     "iopub.status.busy": "2021-04-21T20:26:03.856213Z",
     "iopub.status.idle": "2021-04-21T20:26:04.532634Z",
     "shell.execute_reply": "2021-04-21T20:26:04.531487Z"
    }
   },
   "outputs": [
    {
     "data": {
      "image/svg+xml": [
       "<?xml version=\"1.0\" encoding=\"UTF-8\" standalone=\"no\"?><svg xmlns=\"http://www.w3.org/2000/svg\" xmlns:xlink=\"http://www.w3.org/1999/xlink\" contentScriptType=\"application/ecmascript\" contentStyleType=\"text/css\" height=\"449px\" preserveAspectRatio=\"none\" style=\"width:489px;height:449px;\" version=\"1.1\" viewBox=\"0 0 489 449\" width=\"489px\" zoomAndPan=\"magnify\"><defs/><g><!--MD5=[fbc87193dbaf4d95561dea2c320d4a47]\n",
       "cluster E1--><a href=\"psysml:a0e63dae-583d-42a3-9f46-6e6177e563b1\" target=\"_top\" title=\"psysml:a0e63dae-583d-42a3-9f46-6e6177e563b1\" xlink:actuate=\"onRequest\" xlink:href=\"psysml:a0e63dae-583d-42a3-9f46-6e6177e563b1\" xlink:show=\"new\" xlink:title=\"psysml:a0e63dae-583d-42a3-9f46-6e6177e563b1\" xlink:type=\"simple\"><polygon fill=\"#FFFFFF\" points=\"16,6,156,6,163,28.2969,467,28.2969,467,437,16,437,16,6\" style=\"stroke: #000000; stroke-width: 1.5;\"/><line style=\"stroke: #000000; stroke-width: 1.5;\" x1=\"16\" x2=\"163\" y1=\"28.2969\" y2=\"28.2969\"/><text fill=\"#000000\" font-family=\"sans-serif\" font-size=\"14\" font-weight=\"bold\" lengthAdjust=\"spacingAndGlyphs\" textLength=\"134\" x=\"20\" y=\"20.9951\">DependencyTest</text></a><!--MD5=[e4f7fae6ed58524ba242bb0b0d3be6b7]\n",
       "cluster E2--><a href=\"psysml:90630542-d1db-4cfe-a426-6fd5a6b42885\" target=\"_top\" title=\"psysml:90630542-d1db-4cfe-a426-6fd5a6b42885\" xlink:actuate=\"onRequest\" xlink:href=\"psysml:90630542-d1db-4cfe-a426-6fd5a6b42885\" xlink:show=\"new\" xlink:title=\"psysml:90630542-d1db-4cfe-a426-6fd5a6b42885\" xlink:type=\"simple\"><polygon fill=\"#FFFFFF\" points=\"255,49,319,49,326,71.2969,443,71.2969,443,413,255,413,255,49\" style=\"stroke: #000000; stroke-width: 1.5;\"/><line style=\"stroke: #000000; stroke-width: 1.5;\" x1=\"255\" x2=\"326\" y1=\"71.2969\" y2=\"71.2969\"/><text fill=\"#000000\" font-family=\"sans-serif\" font-size=\"14\" font-weight=\"bold\" lengthAdjust=\"spacingAndGlyphs\" textLength=\"58\" x=\"259\" y=\"63.9951\">System</text></a><!--MD5=[60a26617385b1d2d0262a64233df1f8d]\n",
       "class E6--><a href=\"psysml:7440b603-2b18-4efb-9bf4-7832c56b919b\" target=\"_top\" title=\"psysml:7440b603-2b18-4efb-9bf4-7832c56b919b\" xlink:actuate=\"onRequest\" xlink:href=\"psysml:7440b603-2b18-4efb-9bf4-7832c56b919b\" xlink:show=\"new\" xlink:title=\"psysml:7440b603-2b18-4efb-9bf4-7832c56b919b\" xlink:type=\"simple\"><rect fill=\"#FFFFFF\" height=\"45.9375\" id=\"E6\" rx=\"10\" ry=\"10\" style=\"stroke: #383838; stroke-width: 1.5;\" width=\"71\" x=\"32.5\" y=\"217.5\"/><text fill=\"#000000\" font-family=\"sans-serif\" font-size=\"12\" font-style=\"italic\" lengthAdjust=\"spacingAndGlyphs\" textLength=\"69\" x=\"33.5\" y=\"233.6387\">«attribute»</text><text fill=\"#000000\" font-family=\"sans-serif\" font-size=\"12\" lengthAdjust=\"spacingAndGlyphs\" textLength=\"6\" x=\"65\" y=\"247.6074\">x</text><line style=\"stroke: #383838; stroke-width: 1.5;\" x1=\"33.5\" x2=\"102.5\" y1=\"255.4375\" y2=\"255.4375\"/></a><!--MD5=[2156ba9850f5573cc1fc38a6a4b2f02b]\n",
       "class E7--><a href=\"psysml:d907cb85-580b-45cd-b69d-b597f081eb5c\" target=\"_top\" title=\"psysml:d907cb85-580b-45cd-b69d-b597f081eb5c\" xlink:actuate=\"onRequest\" xlink:href=\"psysml:d907cb85-580b-45cd-b69d-b597f081eb5c\" xlink:show=\"new\" xlink:title=\"psysml:d907cb85-580b-45cd-b69d-b597f081eb5c\" xlink:type=\"simple\"><rect fill=\"#FFFFFF\" height=\"45.9375\" id=\"E7\" rx=\"10\" ry=\"10\" style=\"stroke: #383838; stroke-width: 1.5;\" width=\"71\" x=\"138.5\" y=\"217.5\"/><text fill=\"#000000\" font-family=\"sans-serif\" font-size=\"12\" font-style=\"italic\" lengthAdjust=\"spacingAndGlyphs\" textLength=\"69\" x=\"139.5\" y=\"233.6387\">«attribute»</text><text fill=\"#000000\" font-family=\"sans-serif\" font-size=\"12\" lengthAdjust=\"spacingAndGlyphs\" textLength=\"6\" x=\"171\" y=\"247.6074\">y</text><line style=\"stroke: #383838; stroke-width: 1.5;\" x1=\"139.5\" x2=\"208.5\" y1=\"255.4375\" y2=\"255.4375\"/></a><!--MD5=[b9389687b975829384b498ac4b7476b2]\n",
       "class E8--><a href=\"psysml:719c36a8-8fd6-40f5-b1aa-2a0e2714a310\" target=\"_top\" title=\"psysml:719c36a8-8fd6-40f5-b1aa-2a0e2714a310\" xlink:actuate=\"onRequest\" xlink:href=\"psysml:719c36a8-8fd6-40f5-b1aa-2a0e2714a310\" xlink:show=\"new\" xlink:title=\"psysml:719c36a8-8fd6-40f5-b1aa-2a0e2714a310\" xlink:type=\"simple\"><rect fill=\"#FFFFFF\" height=\"45.9375\" id=\"E8\" rx=\"10\" ry=\"10\" style=\"stroke: #383838; stroke-width: 1.5;\" width=\"71\" x=\"84.5\" y=\"87.5\"/><text fill=\"#000000\" font-family=\"sans-serif\" font-size=\"12\" font-style=\"italic\" lengthAdjust=\"spacingAndGlyphs\" textLength=\"69\" x=\"85.5\" y=\"103.6387\">«attribute»</text><text fill=\"#000000\" font-family=\"sans-serif\" font-size=\"12\" lengthAdjust=\"spacingAndGlyphs\" textLength=\"5\" x=\"117.5\" y=\"117.6074\">z</text><line style=\"stroke: #383838; stroke-width: 1.5;\" x1=\"85.5\" x2=\"154.5\" y1=\"125.4375\" y2=\"125.4375\"/></a><a href=\"psysml:f4739741-a5ef-49a4-9e06-4bb8a722f77e\" target=\"_top\" title=\"psysml:f4739741-a5ef-49a4-9e06-4bb8a722f77e\" xlink:actuate=\"onRequest\" xlink:href=\"psysml:f4739741-a5ef-49a4-9e06-4bb8a722f77e\" xlink:show=\"new\" xlink:title=\"psysml:f4739741-a5ef-49a4-9e06-4bb8a722f77e\" xlink:type=\"simple\"><polygon fill=\"#FFFFFF\" points=\"271,84,413,84,420,106.2969,427,106.2969,427,136.5938,271,136.5938,271,84\" style=\"stroke: #000000; stroke-width: 1.5;\"/><line style=\"stroke: #000000; stroke-width: 1.5;\" x1=\"271\" x2=\"420\" y1=\"106.2969\" y2=\"106.2969\"/><text fill=\"#000000\" font-family=\"sans-serif\" font-size=\"14\" font-weight=\"bold\" lengthAdjust=\"spacingAndGlyphs\" textLength=\"136\" x=\"275\" y=\"98.9951\">Application Layer</text></a><a href=\"psysml:e1090b77-2219-4e30-afea-75b6451d3a90\" target=\"_top\" title=\"psysml:e1090b77-2219-4e30-afea-75b6451d3a90\" xlink:actuate=\"onRequest\" xlink:href=\"psysml:e1090b77-2219-4e30-afea-75b6451d3a90\" xlink:show=\"new\" xlink:title=\"psysml:e1090b77-2219-4e30-afea-75b6451d3a90\" xlink:type=\"simple\"><polygon fill=\"#FFFFFF\" points=\"285,214,399,214,406,236.2969,413,236.2969,413,266.5938,285,266.5938,285,214\" style=\"stroke: #000000; stroke-width: 1.5;\"/><line style=\"stroke: #000000; stroke-width: 1.5;\" x1=\"285\" x2=\"406\" y1=\"236.2969\" y2=\"236.2969\"/><text fill=\"#000000\" font-family=\"sans-serif\" font-size=\"14\" font-weight=\"bold\" lengthAdjust=\"spacingAndGlyphs\" textLength=\"108\" x=\"289\" y=\"228.9951\">Service Layer</text></a><a href=\"psysml:fe465764-9ab4-44bf-be91-bd692232f0a1\" target=\"_top\" title=\"psysml:fe465764-9ab4-44bf-be91-bd692232f0a1\" xlink:actuate=\"onRequest\" xlink:href=\"psysml:fe465764-9ab4-44bf-be91-bd692232f0a1\" xlink:show=\"new\" xlink:title=\"psysml:fe465764-9ab4-44bf-be91-bd692232f0a1\" xlink:type=\"simple\"><polygon fill=\"#FFFFFF\" points=\"297,344,387,344,394,366.2969,401,366.2969,401,396.5938,297,396.5938,297,344\" style=\"stroke: #000000; stroke-width: 1.5;\"/><line style=\"stroke: #000000; stroke-width: 1.5;\" x1=\"297\" x2=\"394\" y1=\"366.2969\" y2=\"366.2969\"/><text fill=\"#000000\" font-family=\"sans-serif\" font-size=\"14\" font-weight=\"bold\" lengthAdjust=\"spacingAndGlyphs\" textLength=\"84\" x=\"301\" y=\"358.9951\">Data Layer</text></a><!--MD5=[af87c684e3b0d8be13c1a698a818ef1e]\n",
       "link E3 to E4--><a href=\"psysml:f18ad3d3-ddea-4435-b15e-701f5c4039de\" target=\"_top\" title=\"psysml:f18ad3d3-ddea-4435-b15e-701f5c4039de\" xlink:actuate=\"onRequest\" xlink:href=\"psysml:f18ad3d3-ddea-4435-b15e-701f5c4039de\" xlink:show=\"new\" xlink:title=\"psysml:f18ad3d3-ddea-4435-b15e-701f5c4039de\" xlink:type=\"simple\"><path d=\"M349,137.1 C349,156.8 349,184.22 349,205.73 \" fill=\"none\" id=\"E3-&gt;E4\" style=\"stroke: #383838; stroke-width: 1.0; stroke-dasharray: 7.0,7.0;\"/><polygon fill=\"#383838\" points=\"349,213.95,352,205.95,346,205.95,349,213.95\" style=\"stroke: #383838; stroke-width: 1.0;\"/><text fill=\"#000000\" font-family=\"sans-serif\" font-size=\"13\" lengthAdjust=\"spacingAndGlyphs\" textLength=\"64\" x=\"350\" y=\"180.0669\">«depend»</text></a><!--MD5=[1b7591eae5389033d8d09a9d6721a717]\n",
       "link E4 to E5--><a href=\"psysml:22e4e023-3d64-4f1c-8411-ecdb932522c7\" target=\"_top\" title=\"psysml:22e4e023-3d64-4f1c-8411-ecdb932522c7\" xlink:actuate=\"onRequest\" xlink:href=\"psysml:22e4e023-3d64-4f1c-8411-ecdb932522c7\" xlink:show=\"new\" xlink:title=\"psysml:22e4e023-3d64-4f1c-8411-ecdb932522c7\" xlink:type=\"simple\"><path d=\"M349,267.1 C349,286.8 349,314.22 349,335.73 \" fill=\"none\" id=\"E4-&gt;E5\" style=\"stroke: #383838; stroke-width: 1.0; stroke-dasharray: 7.0,7.0;\"/><polygon fill=\"#383838\" points=\"349,343.95,352,335.95,346,335.95,349,343.95\" style=\"stroke: #383838; stroke-width: 1.0;\"/><text fill=\"#000000\" font-family=\"sans-serif\" font-size=\"13\" lengthAdjust=\"spacingAndGlyphs\" textLength=\"64\" x=\"350\" y=\"310.0669\">«depend»</text></a><!--MD5=[c5e8897d989ce984f93528998a7150fe]\n",
       "link E8 to E6--><a href=\"psysml:01d1ab15-dda9-4157-a585-7877f2cc1d47\" target=\"_top\" title=\"psysml:01d1ab15-dda9-4157-a585-7877f2cc1d47\" xlink:actuate=\"onRequest\" xlink:href=\"psysml:01d1ab15-dda9-4157-a585-7877f2cc1d47\" xlink:show=\"new\" xlink:title=\"psysml:01d1ab15-dda9-4157-a585-7877f2cc1d47\" xlink:type=\"simple\"><path d=\"M89.42,133.6 C79.35,142.68 69.37,154.11 64,167 C58.5,180.2 58.66,195.94 60.54,209.38 \" fill=\"none\" id=\"E8-&gt;E6\" style=\"stroke: #383838; stroke-width: 1.0; stroke-dasharray: 7.0,7.0;\"/><polygon fill=\"#383838\" points=\"61.9,217.4,63.517,209.0104,57.6018,210.0159,61.9,217.4\" style=\"stroke: #383838; stroke-width: 1.0;\"/><text fill=\"#000000\" font-family=\"sans-serif\" font-size=\"13\" lengthAdjust=\"spacingAndGlyphs\" textLength=\"64\" x=\"65\" y=\"180.0669\">«depend»</text></a><!--MD5=[bfa3c8b0d15052fdf50ae9310b491027]\n",
       "link E8 to E7--><a href=\"psysml:01d1ab15-dda9-4157-a585-7877f2cc1d47\" target=\"_top\" title=\"psysml:01d1ab15-dda9-4157-a585-7877f2cc1d47\" xlink:actuate=\"onRequest\" xlink:href=\"psysml:01d1ab15-dda9-4157-a585-7877f2cc1d47\" xlink:show=\"new\" xlink:title=\"psysml:01d1ab15-dda9-4157-a585-7877f2cc1d47\" xlink:type=\"simple\"><path d=\"M129.28,133.5 C138.17,154.57 151.64,186.5 161.47,209.81 \" fill=\"none\" id=\"E8-&gt;E7\" style=\"stroke: #383838; stroke-width: 1.0; stroke-dasharray: 7.0,7.0;\"/><polygon fill=\"#383838\" points=\"164.66,217.35,164.3241,208.8126,158.7933,211.1385,164.66,217.35\" style=\"stroke: #383838; stroke-width: 1.0;\"/><text fill=\"#000000\" font-family=\"sans-serif\" font-size=\"13\" lengthAdjust=\"spacingAndGlyphs\" textLength=\"64\" x=\"151\" y=\"180.0669\">«depend»</text></a><!--MD5=[fa91491b8238dec380c874a1f098883f]\n",
       "@startuml\r\n",
       " skinparam monochrome true\r\n",
       "skinparam classbackgroundcolor white\r\n",
       "skinparam shadowing false\r\n",
       "skinparam wrapWidth 300\r\n",
       "hide circle\r\n",
       "\r\n",
       "package \"DependencyTest\" as E1  [[psysml:a0e63dae-583d-42a3-9f46-6e6177e563b1 ]]  {\r\n",
       "package \"System\" as E2  [[psysml:90630542-d1db-4cfe-a426-6fd5a6b42885 ]]  {\r\n",
       "package \"Application Layer\" as E3  [[psysml:f4739741-a5ef-49a4-9e06-4bb8a722f77e ]]  {\r\n",
       "}\r\n",
       "package \"Service Layer\" as E4  [[psysml:e1090b77-2219-4e30-afea-75b6451d3a90 ]]  {\r\n",
       "}\r\n",
       "package \"Data Layer\" as E5  [[psysml:fe465764-9ab4-44bf-be91-bd692232f0a1 ]]  {\r\n",
       "}\r\n",
       "}\r\n",
       "comp usage \"x\" as E6  <<(T,blue)attribute>> [[psysml:7440b603-2b18-4efb-9bf4-7832c56b919b ]] {\r\n",
       "}\r\n",
       "comp usage \"y\" as E7  <<(T,blue)attribute>> [[psysml:d907cb85-580b-45cd-b69d-b597f081eb5c ]] {\r\n",
       "}\r\n",
       "comp usage \"z\" as E8  <<(T,blue)attribute>> [[psysml:719c36a8-8fd6-40f5-b1aa-2a0e2714a310 ]] {\r\n",
       "}\r\n",
       "E3 ..>> E4 [[psysml:f18ad3d3-ddea-4435-b15e-701f5c4039de ]] : <<depend>>\r\n",
       "E4 ..>> E5 [[psysml:22e4e023-3d64-4f1c-8411-ecdb932522c7 ]] : <<depend>>\r\n",
       "E8 ..>> E6 [[psysml:01d1ab15-dda9-4157-a585-7877f2cc1d47 ]] : <<depend>>\r\n",
       "E8 ..>> E7 [[psysml:01d1ab15-dda9-4157-a585-7877f2cc1d47 ]] : <<depend>>\r\n",
       "}\r\n",
       "@enduml\r\n",
       "\n",
       "PlantUML version 1.2020.13(Sat Jun 13 12:26:38 UTC 2020)\n",
       "(EPL source distribution)\n",
       "Java Runtime: OpenJDK Runtime Environment\n",
       "JVM: OpenJDK 64-Bit Server VM\n",
       "Default Encoding: UTF-8\n",
       "Language: en\n",
       "Country: null\n",
       "--></g></svg>"
      ]
     },
     "execution_count": 2,
     "metadata": {},
     "output_type": "execute_result"
    }
   ],
   "source": [
    "%viz --style=\"COMPTREE\" --view=\"Default\" \"DependencyTest\""
   ]
  },
  {
   "cell_type": "code",
   "execution_count": 3,
   "id": "abc58414",
   "metadata": {
    "execution": {
     "iopub.execute_input": "2021-04-21T20:26:04.587373Z",
     "iopub.status.busy": "2021-04-21T20:26:04.586904Z",
     "iopub.status.idle": "2021-04-21T20:26:04.659609Z",
     "shell.execute_reply": "2021-04-21T20:26:04.658658Z"
    }
   },
   "outputs": [
    {
     "data": {
      "image/svg+xml": [
       "<?xml version=\"1.0\" encoding=\"UTF-8\" standalone=\"no\"?><svg xmlns=\"http://www.w3.org/2000/svg\" xmlns:xlink=\"http://www.w3.org/1999/xlink\" contentScriptType=\"application/ecmascript\" contentStyleType=\"text/css\" height=\"449px\" preserveAspectRatio=\"none\" style=\"width:489px;height:449px;\" version=\"1.1\" viewBox=\"0 0 489 449\" width=\"489px\" zoomAndPan=\"magnify\"><defs/><g><!--MD5=[fbc87193dbaf4d95561dea2c320d4a47]\n",
       "cluster E1--><a href=\"psysml:a0e63dae-583d-42a3-9f46-6e6177e563b1\" target=\"_top\" title=\"psysml:a0e63dae-583d-42a3-9f46-6e6177e563b1\" xlink:actuate=\"onRequest\" xlink:href=\"psysml:a0e63dae-583d-42a3-9f46-6e6177e563b1\" xlink:show=\"new\" xlink:title=\"psysml:a0e63dae-583d-42a3-9f46-6e6177e563b1\" xlink:type=\"simple\"><polygon fill=\"#FFFFFF\" points=\"16,6,156,6,163,28.2969,467,28.2969,467,437,16,437,16,6\" style=\"stroke: #000000; stroke-width: 1.5;\"/><line style=\"stroke: #000000; stroke-width: 1.5;\" x1=\"16\" x2=\"163\" y1=\"28.2969\" y2=\"28.2969\"/><text fill=\"#000000\" font-family=\"sans-serif\" font-size=\"14\" font-weight=\"bold\" lengthAdjust=\"spacingAndGlyphs\" textLength=\"134\" x=\"20\" y=\"20.9951\">DependencyTest</text></a><!--MD5=[e4f7fae6ed58524ba242bb0b0d3be6b7]\n",
       "cluster E2--><a href=\"psysml:90630542-d1db-4cfe-a426-6fd5a6b42885\" target=\"_top\" title=\"psysml:90630542-d1db-4cfe-a426-6fd5a6b42885\" xlink:actuate=\"onRequest\" xlink:href=\"psysml:90630542-d1db-4cfe-a426-6fd5a6b42885\" xlink:show=\"new\" xlink:title=\"psysml:90630542-d1db-4cfe-a426-6fd5a6b42885\" xlink:type=\"simple\"><polygon fill=\"#FFFFFF\" points=\"255,49,319,49,326,71.2969,443,71.2969,443,413,255,413,255,49\" style=\"stroke: #000000; stroke-width: 1.5;\"/><line style=\"stroke: #000000; stroke-width: 1.5;\" x1=\"255\" x2=\"326\" y1=\"71.2969\" y2=\"71.2969\"/><text fill=\"#000000\" font-family=\"sans-serif\" font-size=\"14\" font-weight=\"bold\" lengthAdjust=\"spacingAndGlyphs\" textLength=\"58\" x=\"259\" y=\"63.9951\">System</text></a><!--MD5=[60a26617385b1d2d0262a64233df1f8d]\n",
       "class E6--><a href=\"psysml:7440b603-2b18-4efb-9bf4-7832c56b919b\" target=\"_top\" title=\"psysml:7440b603-2b18-4efb-9bf4-7832c56b919b\" xlink:actuate=\"onRequest\" xlink:href=\"psysml:7440b603-2b18-4efb-9bf4-7832c56b919b\" xlink:show=\"new\" xlink:title=\"psysml:7440b603-2b18-4efb-9bf4-7832c56b919b\" xlink:type=\"simple\"><rect fill=\"#FFFFFF\" height=\"45.9375\" id=\"E6\" rx=\"10\" ry=\"10\" style=\"stroke: #383838; stroke-width: 1.5;\" width=\"71\" x=\"32.5\" y=\"217.5\"/><text fill=\"#000000\" font-family=\"sans-serif\" font-size=\"12\" font-style=\"italic\" lengthAdjust=\"spacingAndGlyphs\" textLength=\"69\" x=\"33.5\" y=\"233.6387\">«attribute»</text><text fill=\"#000000\" font-family=\"sans-serif\" font-size=\"12\" lengthAdjust=\"spacingAndGlyphs\" textLength=\"6\" x=\"65\" y=\"247.6074\">x</text><line style=\"stroke: #383838; stroke-width: 1.5;\" x1=\"33.5\" x2=\"102.5\" y1=\"255.4375\" y2=\"255.4375\"/></a><!--MD5=[2156ba9850f5573cc1fc38a6a4b2f02b]\n",
       "class E7--><a href=\"psysml:d907cb85-580b-45cd-b69d-b597f081eb5c\" target=\"_top\" title=\"psysml:d907cb85-580b-45cd-b69d-b597f081eb5c\" xlink:actuate=\"onRequest\" xlink:href=\"psysml:d907cb85-580b-45cd-b69d-b597f081eb5c\" xlink:show=\"new\" xlink:title=\"psysml:d907cb85-580b-45cd-b69d-b597f081eb5c\" xlink:type=\"simple\"><rect fill=\"#FFFFFF\" height=\"45.9375\" id=\"E7\" rx=\"10\" ry=\"10\" style=\"stroke: #383838; stroke-width: 1.5;\" width=\"71\" x=\"138.5\" y=\"217.5\"/><text fill=\"#000000\" font-family=\"sans-serif\" font-size=\"12\" font-style=\"italic\" lengthAdjust=\"spacingAndGlyphs\" textLength=\"69\" x=\"139.5\" y=\"233.6387\">«attribute»</text><text fill=\"#000000\" font-family=\"sans-serif\" font-size=\"12\" lengthAdjust=\"spacingAndGlyphs\" textLength=\"6\" x=\"171\" y=\"247.6074\">y</text><line style=\"stroke: #383838; stroke-width: 1.5;\" x1=\"139.5\" x2=\"208.5\" y1=\"255.4375\" y2=\"255.4375\"/></a><!--MD5=[b9389687b975829384b498ac4b7476b2]\n",
       "class E8--><a href=\"psysml:719c36a8-8fd6-40f5-b1aa-2a0e2714a310\" target=\"_top\" title=\"psysml:719c36a8-8fd6-40f5-b1aa-2a0e2714a310\" xlink:actuate=\"onRequest\" xlink:href=\"psysml:719c36a8-8fd6-40f5-b1aa-2a0e2714a310\" xlink:show=\"new\" xlink:title=\"psysml:719c36a8-8fd6-40f5-b1aa-2a0e2714a310\" xlink:type=\"simple\"><rect fill=\"#FFFFFF\" height=\"45.9375\" id=\"E8\" rx=\"10\" ry=\"10\" style=\"stroke: #383838; stroke-width: 1.5;\" width=\"71\" x=\"84.5\" y=\"87.5\"/><text fill=\"#000000\" font-family=\"sans-serif\" font-size=\"12\" font-style=\"italic\" lengthAdjust=\"spacingAndGlyphs\" textLength=\"69\" x=\"85.5\" y=\"103.6387\">«attribute»</text><text fill=\"#000000\" font-family=\"sans-serif\" font-size=\"12\" lengthAdjust=\"spacingAndGlyphs\" textLength=\"5\" x=\"117.5\" y=\"117.6074\">z</text><line style=\"stroke: #383838; stroke-width: 1.5;\" x1=\"85.5\" x2=\"154.5\" y1=\"125.4375\" y2=\"125.4375\"/></a><a href=\"psysml:f4739741-a5ef-49a4-9e06-4bb8a722f77e\" target=\"_top\" title=\"psysml:f4739741-a5ef-49a4-9e06-4bb8a722f77e\" xlink:actuate=\"onRequest\" xlink:href=\"psysml:f4739741-a5ef-49a4-9e06-4bb8a722f77e\" xlink:show=\"new\" xlink:title=\"psysml:f4739741-a5ef-49a4-9e06-4bb8a722f77e\" xlink:type=\"simple\"><polygon fill=\"#FFFFFF\" points=\"271,84,413,84,420,106.2969,427,106.2969,427,136.5938,271,136.5938,271,84\" style=\"stroke: #000000; stroke-width: 1.5;\"/><line style=\"stroke: #000000; stroke-width: 1.5;\" x1=\"271\" x2=\"420\" y1=\"106.2969\" y2=\"106.2969\"/><text fill=\"#000000\" font-family=\"sans-serif\" font-size=\"14\" font-weight=\"bold\" lengthAdjust=\"spacingAndGlyphs\" textLength=\"136\" x=\"275\" y=\"98.9951\">Application Layer</text></a><a href=\"psysml:e1090b77-2219-4e30-afea-75b6451d3a90\" target=\"_top\" title=\"psysml:e1090b77-2219-4e30-afea-75b6451d3a90\" xlink:actuate=\"onRequest\" xlink:href=\"psysml:e1090b77-2219-4e30-afea-75b6451d3a90\" xlink:show=\"new\" xlink:title=\"psysml:e1090b77-2219-4e30-afea-75b6451d3a90\" xlink:type=\"simple\"><polygon fill=\"#FFFFFF\" points=\"285,214,399,214,406,236.2969,413,236.2969,413,266.5938,285,266.5938,285,214\" style=\"stroke: #000000; stroke-width: 1.5;\"/><line style=\"stroke: #000000; stroke-width: 1.5;\" x1=\"285\" x2=\"406\" y1=\"236.2969\" y2=\"236.2969\"/><text fill=\"#000000\" font-family=\"sans-serif\" font-size=\"14\" font-weight=\"bold\" lengthAdjust=\"spacingAndGlyphs\" textLength=\"108\" x=\"289\" y=\"228.9951\">Service Layer</text></a><a href=\"psysml:fe465764-9ab4-44bf-be91-bd692232f0a1\" target=\"_top\" title=\"psysml:fe465764-9ab4-44bf-be91-bd692232f0a1\" xlink:actuate=\"onRequest\" xlink:href=\"psysml:fe465764-9ab4-44bf-be91-bd692232f0a1\" xlink:show=\"new\" xlink:title=\"psysml:fe465764-9ab4-44bf-be91-bd692232f0a1\" xlink:type=\"simple\"><polygon fill=\"#FFFFFF\" points=\"297,344,387,344,394,366.2969,401,366.2969,401,396.5938,297,396.5938,297,344\" style=\"stroke: #000000; stroke-width: 1.5;\"/><line style=\"stroke: #000000; stroke-width: 1.5;\" x1=\"297\" x2=\"394\" y1=\"366.2969\" y2=\"366.2969\"/><text fill=\"#000000\" font-family=\"sans-serif\" font-size=\"14\" font-weight=\"bold\" lengthAdjust=\"spacingAndGlyphs\" textLength=\"84\" x=\"301\" y=\"358.9951\">Data Layer</text></a><!--MD5=[af87c684e3b0d8be13c1a698a818ef1e]\n",
       "link E3 to E4--><a href=\"psysml:f18ad3d3-ddea-4435-b15e-701f5c4039de\" target=\"_top\" title=\"psysml:f18ad3d3-ddea-4435-b15e-701f5c4039de\" xlink:actuate=\"onRequest\" xlink:href=\"psysml:f18ad3d3-ddea-4435-b15e-701f5c4039de\" xlink:show=\"new\" xlink:title=\"psysml:f18ad3d3-ddea-4435-b15e-701f5c4039de\" xlink:type=\"simple\"><path d=\"M349,137.1 C349,156.8 349,184.22 349,205.73 \" fill=\"none\" id=\"E3-&gt;E4\" style=\"stroke: #383838; stroke-width: 1.0; stroke-dasharray: 7.0,7.0;\"/><polygon fill=\"#383838\" points=\"349,213.95,352,205.95,346,205.95,349,213.95\" style=\"stroke: #383838; stroke-width: 1.0;\"/><text fill=\"#000000\" font-family=\"sans-serif\" font-size=\"13\" lengthAdjust=\"spacingAndGlyphs\" textLength=\"64\" x=\"350\" y=\"180.0669\">«depend»</text></a><!--MD5=[1b7591eae5389033d8d09a9d6721a717]\n",
       "link E4 to E5--><a href=\"psysml:22e4e023-3d64-4f1c-8411-ecdb932522c7\" target=\"_top\" title=\"psysml:22e4e023-3d64-4f1c-8411-ecdb932522c7\" xlink:actuate=\"onRequest\" xlink:href=\"psysml:22e4e023-3d64-4f1c-8411-ecdb932522c7\" xlink:show=\"new\" xlink:title=\"psysml:22e4e023-3d64-4f1c-8411-ecdb932522c7\" xlink:type=\"simple\"><path d=\"M349,267.1 C349,286.8 349,314.22 349,335.73 \" fill=\"none\" id=\"E4-&gt;E5\" style=\"stroke: #383838; stroke-width: 1.0; stroke-dasharray: 7.0,7.0;\"/><polygon fill=\"#383838\" points=\"349,343.95,352,335.95,346,335.95,349,343.95\" style=\"stroke: #383838; stroke-width: 1.0;\"/><text fill=\"#000000\" font-family=\"sans-serif\" font-size=\"13\" lengthAdjust=\"spacingAndGlyphs\" textLength=\"64\" x=\"350\" y=\"310.0669\">«depend»</text></a><!--MD5=[c5e8897d989ce984f93528998a7150fe]\n",
       "link E8 to E6--><a href=\"psysml:01d1ab15-dda9-4157-a585-7877f2cc1d47\" target=\"_top\" title=\"psysml:01d1ab15-dda9-4157-a585-7877f2cc1d47\" xlink:actuate=\"onRequest\" xlink:href=\"psysml:01d1ab15-dda9-4157-a585-7877f2cc1d47\" xlink:show=\"new\" xlink:title=\"psysml:01d1ab15-dda9-4157-a585-7877f2cc1d47\" xlink:type=\"simple\"><path d=\"M89.42,133.6 C79.35,142.68 69.37,154.11 64,167 C58.5,180.2 58.66,195.94 60.54,209.38 \" fill=\"none\" id=\"E8-&gt;E6\" style=\"stroke: #383838; stroke-width: 1.0; stroke-dasharray: 7.0,7.0;\"/><polygon fill=\"#383838\" points=\"61.9,217.4,63.517,209.0104,57.6018,210.0159,61.9,217.4\" style=\"stroke: #383838; stroke-width: 1.0;\"/><text fill=\"#000000\" font-family=\"sans-serif\" font-size=\"13\" lengthAdjust=\"spacingAndGlyphs\" textLength=\"64\" x=\"65\" y=\"180.0669\">«depend»</text></a><!--MD5=[bfa3c8b0d15052fdf50ae9310b491027]\n",
       "link E8 to E7--><a href=\"psysml:01d1ab15-dda9-4157-a585-7877f2cc1d47\" target=\"_top\" title=\"psysml:01d1ab15-dda9-4157-a585-7877f2cc1d47\" xlink:actuate=\"onRequest\" xlink:href=\"psysml:01d1ab15-dda9-4157-a585-7877f2cc1d47\" xlink:show=\"new\" xlink:title=\"psysml:01d1ab15-dda9-4157-a585-7877f2cc1d47\" xlink:type=\"simple\"><path d=\"M129.28,133.5 C138.17,154.57 151.64,186.5 161.47,209.81 \" fill=\"none\" id=\"E8-&gt;E7\" style=\"stroke: #383838; stroke-width: 1.0; stroke-dasharray: 7.0,7.0;\"/><polygon fill=\"#383838\" points=\"164.66,217.35,164.3241,208.8126,158.7933,211.1385,164.66,217.35\" style=\"stroke: #383838; stroke-width: 1.0;\"/><text fill=\"#000000\" font-family=\"sans-serif\" font-size=\"13\" lengthAdjust=\"spacingAndGlyphs\" textLength=\"64\" x=\"151\" y=\"180.0669\">«depend»</text></a><!--MD5=[fa91491b8238dec380c874a1f098883f]\n",
       "@startuml\r\n",
       " skinparam monochrome true\r\n",
       "skinparam classbackgroundcolor white\r\n",
       "skinparam shadowing false\r\n",
       "skinparam wrapWidth 300\r\n",
       "hide circle\r\n",
       "\r\n",
       "package \"DependencyTest\" as E1  [[psysml:a0e63dae-583d-42a3-9f46-6e6177e563b1 ]]  {\r\n",
       "package \"System\" as E2  [[psysml:90630542-d1db-4cfe-a426-6fd5a6b42885 ]]  {\r\n",
       "package \"Application Layer\" as E3  [[psysml:f4739741-a5ef-49a4-9e06-4bb8a722f77e ]]  {\r\n",
       "}\r\n",
       "package \"Service Layer\" as E4  [[psysml:e1090b77-2219-4e30-afea-75b6451d3a90 ]]  {\r\n",
       "}\r\n",
       "package \"Data Layer\" as E5  [[psysml:fe465764-9ab4-44bf-be91-bd692232f0a1 ]]  {\r\n",
       "}\r\n",
       "}\r\n",
       "comp usage \"x\" as E6  <<(T,blue)attribute>> [[psysml:7440b603-2b18-4efb-9bf4-7832c56b919b ]] {\r\n",
       "}\r\n",
       "comp usage \"y\" as E7  <<(T,blue)attribute>> [[psysml:d907cb85-580b-45cd-b69d-b597f081eb5c ]] {\r\n",
       "}\r\n",
       "comp usage \"z\" as E8  <<(T,blue)attribute>> [[psysml:719c36a8-8fd6-40f5-b1aa-2a0e2714a310 ]] {\r\n",
       "}\r\n",
       "E3 ..>> E4 [[psysml:f18ad3d3-ddea-4435-b15e-701f5c4039de ]] : <<depend>>\r\n",
       "E4 ..>> E5 [[psysml:22e4e023-3d64-4f1c-8411-ecdb932522c7 ]] : <<depend>>\r\n",
       "E8 ..>> E6 [[psysml:01d1ab15-dda9-4157-a585-7877f2cc1d47 ]] : <<depend>>\r\n",
       "E8 ..>> E7 [[psysml:01d1ab15-dda9-4157-a585-7877f2cc1d47 ]] : <<depend>>\r\n",
       "}\r\n",
       "@enduml\r\n",
       "\n",
       "PlantUML version 1.2020.13(Sat Jun 13 12:26:38 UTC 2020)\n",
       "(EPL source distribution)\n",
       "Java Runtime: OpenJDK Runtime Environment\n",
       "JVM: OpenJDK 64-Bit Server VM\n",
       "Default Encoding: UTF-8\n",
       "Language: en\n",
       "Country: null\n",
       "--></g></svg>"
      ]
     },
     "execution_count": 3,
     "metadata": {},
     "output_type": "execute_result"
    }
   ],
   "source": [
    "%viz --style=\"COMPTREE\" --view=\"Tree\" \"DependencyTest\""
   ]
  },
  {
   "cell_type": "code",
   "execution_count": 4,
   "id": "1841c90d",
   "metadata": {
    "execution": {
     "iopub.execute_input": "2021-04-21T20:26:04.710959Z",
     "iopub.status.busy": "2021-04-21T20:26:04.709934Z",
     "iopub.status.idle": "2021-04-21T20:26:04.720261Z",
     "shell.execute_reply": "2021-04-21T20:26:04.719686Z"
    }
   },
   "outputs": [
    {
     "data": {
      "image/svg+xml": [
       "<?xml version=\"1.0\" encoding=\"UTF-8\" standalone=\"no\"?><svg xmlns=\"http://www.w3.org/2000/svg\" xmlns:xlink=\"http://www.w3.org/1999/xlink\" contentScriptType=\"application/ecmascript\" contentStyleType=\"text/css\" height=\"12px\" preserveAspectRatio=\"none\" style=\"width:12px;height:12px;\" version=\"1.1\" viewBox=\"0 0 12 12\" width=\"12px\" zoomAndPan=\"magnify\"><defs/><g><!--MD5=[f19188ef49e11757b5c46753f95d9edc]\n",
       "@startuml\r\n",
       " skinparam monochrome true\r\n",
       "skinparam classbackgroundcolor white\r\n",
       "skinparam shadowing false\r\n",
       "skinparam wrapWidth 300\r\n",
       "hide circle\r\n",
       "\r\n",
       "@enduml\r\n",
       "\n",
       "PlantUML version 1.2020.13(Sat Jun 13 12:26:38 UTC 2020)\n",
       "(EPL source distribution)\n",
       "Java Runtime: OpenJDK Runtime Environment\n",
       "JVM: OpenJDK 64-Bit Server VM\n",
       "Default Encoding: UTF-8\n",
       "Language: en\n",
       "Country: null\n",
       "--></g></svg>"
      ]
     },
     "execution_count": 4,
     "metadata": {},
     "output_type": "execute_result"
    }
   ],
   "source": [
    "%viz --style=\"COMPTREE\" --view=\"State\" \"DependencyTest\""
   ]
  },
  {
   "cell_type": "code",
   "execution_count": 5,
   "id": "96a51935",
   "metadata": {
    "execution": {
     "iopub.execute_input": "2021-04-21T20:26:04.771687Z",
     "iopub.status.busy": "2021-04-21T20:26:04.771147Z",
     "iopub.status.idle": "2021-04-21T20:26:04.852636Z",
     "shell.execute_reply": "2021-04-21T20:26:04.850571Z"
    }
   },
   "outputs": [
    {
     "data": {
      "image/svg+xml": [
       "<?xml version=\"1.0\" encoding=\"UTF-8\" standalone=\"no\"?><svg xmlns=\"http://www.w3.org/2000/svg\" xmlns:xlink=\"http://www.w3.org/1999/xlink\" contentScriptType=\"application/ecmascript\" contentStyleType=\"text/css\" height=\"361px\" preserveAspectRatio=\"none\" style=\"width:489px;height:361px;\" version=\"1.1\" viewBox=\"0 0 489 361\" width=\"489px\" zoomAndPan=\"magnify\"><defs/><g><!--MD5=[fbc87193dbaf4d95561dea2c320d4a47]\n",
       "cluster E1--><a href=\"psysml:a0e63dae-583d-42a3-9f46-6e6177e563b1\" target=\"_top\" title=\"psysml:a0e63dae-583d-42a3-9f46-6e6177e563b1\" xlink:actuate=\"onRequest\" xlink:href=\"psysml:a0e63dae-583d-42a3-9f46-6e6177e563b1\" xlink:show=\"new\" xlink:title=\"psysml:a0e63dae-583d-42a3-9f46-6e6177e563b1\" xlink:type=\"simple\"><polygon fill=\"#FFFFFF\" points=\"16,6,156,6,163,28.2969,467,28.2969,467,349,16,349,16,6\" style=\"stroke: #000000; stroke-width: 1.5;\"/><line style=\"stroke: #000000; stroke-width: 1.5;\" x1=\"16\" x2=\"163\" y1=\"28.2969\" y2=\"28.2969\"/><text fill=\"#000000\" font-family=\"sans-serif\" font-size=\"14\" font-weight=\"bold\" lengthAdjust=\"spacingAndGlyphs\" textLength=\"134\" x=\"20\" y=\"20.9951\">DependencyTest</text></a><!--MD5=[e4f7fae6ed58524ba242bb0b0d3be6b7]\n",
       "cluster E2--><a href=\"psysml:90630542-d1db-4cfe-a426-6fd5a6b42885\" target=\"_top\" title=\"psysml:90630542-d1db-4cfe-a426-6fd5a6b42885\" xlink:actuate=\"onRequest\" xlink:href=\"psysml:90630542-d1db-4cfe-a426-6fd5a6b42885\" xlink:show=\"new\" xlink:title=\"psysml:90630542-d1db-4cfe-a426-6fd5a6b42885\" xlink:type=\"simple\"><polygon fill=\"#FFFFFF\" points=\"255,49,319,49,326,71.2969,443,71.2969,443,325,255,325,255,49\" style=\"stroke: #000000; stroke-width: 1.5;\"/><line style=\"stroke: #000000; stroke-width: 1.5;\" x1=\"255\" x2=\"326\" y1=\"71.2969\" y2=\"71.2969\"/><text fill=\"#000000\" font-family=\"sans-serif\" font-size=\"14\" font-weight=\"bold\" lengthAdjust=\"spacingAndGlyphs\" textLength=\"58\" x=\"259\" y=\"63.9951\">System</text></a><!--MD5=[60a26617385b1d2d0262a64233df1f8d]\n",
       "class E6--><a href=\"psysml:7440b603-2b18-4efb-9bf4-7832c56b919b\" target=\"_top\" title=\"psysml:7440b603-2b18-4efb-9bf4-7832c56b919b\" xlink:actuate=\"onRequest\" xlink:href=\"psysml:7440b603-2b18-4efb-9bf4-7832c56b919b\" xlink:show=\"new\" xlink:title=\"psysml:7440b603-2b18-4efb-9bf4-7832c56b919b\" xlink:type=\"simple\"><rect fill=\"#FFFFFF\" height=\"45.9375\" id=\"E6\" rx=\"10\" ry=\"10\" style=\"stroke: #383838; stroke-width: 1.5;\" width=\"71\" x=\"32.5\" y=\"173.5\"/><text fill=\"#000000\" font-family=\"sans-serif\" font-size=\"12\" font-style=\"italic\" lengthAdjust=\"spacingAndGlyphs\" textLength=\"69\" x=\"33.5\" y=\"189.6387\">«attribute»</text><text fill=\"#000000\" font-family=\"sans-serif\" font-size=\"12\" lengthAdjust=\"spacingAndGlyphs\" textLength=\"6\" x=\"65\" y=\"203.6074\">x</text><line style=\"stroke: #383838; stroke-width: 1.5;\" x1=\"33.5\" x2=\"102.5\" y1=\"211.4375\" y2=\"211.4375\"/></a><!--MD5=[2156ba9850f5573cc1fc38a6a4b2f02b]\n",
       "class E7--><a href=\"psysml:d907cb85-580b-45cd-b69d-b597f081eb5c\" target=\"_top\" title=\"psysml:d907cb85-580b-45cd-b69d-b597f081eb5c\" xlink:actuate=\"onRequest\" xlink:href=\"psysml:d907cb85-580b-45cd-b69d-b597f081eb5c\" xlink:show=\"new\" xlink:title=\"psysml:d907cb85-580b-45cd-b69d-b597f081eb5c\" xlink:type=\"simple\"><rect fill=\"#FFFFFF\" height=\"45.9375\" id=\"E7\" rx=\"10\" ry=\"10\" style=\"stroke: #383838; stroke-width: 1.5;\" width=\"71\" x=\"138.5\" y=\"173.5\"/><text fill=\"#000000\" font-family=\"sans-serif\" font-size=\"12\" font-style=\"italic\" lengthAdjust=\"spacingAndGlyphs\" textLength=\"69\" x=\"139.5\" y=\"189.6387\">«attribute»</text><text fill=\"#000000\" font-family=\"sans-serif\" font-size=\"12\" lengthAdjust=\"spacingAndGlyphs\" textLength=\"6\" x=\"171\" y=\"203.6074\">y</text><line style=\"stroke: #383838; stroke-width: 1.5;\" x1=\"139.5\" x2=\"208.5\" y1=\"211.4375\" y2=\"211.4375\"/></a><!--MD5=[b9389687b975829384b498ac4b7476b2]\n",
       "class E8--><a href=\"psysml:719c36a8-8fd6-40f5-b1aa-2a0e2714a310\" target=\"_top\" title=\"psysml:719c36a8-8fd6-40f5-b1aa-2a0e2714a310\" xlink:actuate=\"onRequest\" xlink:href=\"psysml:719c36a8-8fd6-40f5-b1aa-2a0e2714a310\" xlink:show=\"new\" xlink:title=\"psysml:719c36a8-8fd6-40f5-b1aa-2a0e2714a310\" xlink:type=\"simple\"><rect fill=\"#FFFFFF\" height=\"45.9375\" id=\"E8\" rx=\"10\" ry=\"10\" style=\"stroke: #383838; stroke-width: 1.5;\" width=\"71\" x=\"84.5\" y=\"87.5\"/><text fill=\"#000000\" font-family=\"sans-serif\" font-size=\"12\" font-style=\"italic\" lengthAdjust=\"spacingAndGlyphs\" textLength=\"69\" x=\"85.5\" y=\"103.6387\">«attribute»</text><text fill=\"#000000\" font-family=\"sans-serif\" font-size=\"12\" lengthAdjust=\"spacingAndGlyphs\" textLength=\"5\" x=\"117.5\" y=\"117.6074\">z</text><line style=\"stroke: #383838; stroke-width: 1.5;\" x1=\"85.5\" x2=\"154.5\" y1=\"125.4375\" y2=\"125.4375\"/></a><a href=\"psysml:f4739741-a5ef-49a4-9e06-4bb8a722f77e\" target=\"_top\" title=\"psysml:f4739741-a5ef-49a4-9e06-4bb8a722f77e\" xlink:actuate=\"onRequest\" xlink:href=\"psysml:f4739741-a5ef-49a4-9e06-4bb8a722f77e\" xlink:show=\"new\" xlink:title=\"psysml:f4739741-a5ef-49a4-9e06-4bb8a722f77e\" xlink:type=\"simple\"><polygon fill=\"#FFFFFF\" points=\"271,84,413,84,420,106.2969,427,106.2969,427,136.5938,271,136.5938,271,84\" style=\"stroke: #000000; stroke-width: 1.5;\"/><line style=\"stroke: #000000; stroke-width: 1.5;\" x1=\"271\" x2=\"420\" y1=\"106.2969\" y2=\"106.2969\"/><text fill=\"#000000\" font-family=\"sans-serif\" font-size=\"14\" font-weight=\"bold\" lengthAdjust=\"spacingAndGlyphs\" textLength=\"136\" x=\"275\" y=\"98.9951\">Application Layer</text></a><a href=\"psysml:e1090b77-2219-4e30-afea-75b6451d3a90\" target=\"_top\" title=\"psysml:e1090b77-2219-4e30-afea-75b6451d3a90\" xlink:actuate=\"onRequest\" xlink:href=\"psysml:e1090b77-2219-4e30-afea-75b6451d3a90\" xlink:show=\"new\" xlink:title=\"psysml:e1090b77-2219-4e30-afea-75b6451d3a90\" xlink:type=\"simple\"><polygon fill=\"#FFFFFF\" points=\"285,170,399,170,406,192.2969,413,192.2969,413,222.5938,285,222.5938,285,170\" style=\"stroke: #000000; stroke-width: 1.5;\"/><line style=\"stroke: #000000; stroke-width: 1.5;\" x1=\"285\" x2=\"406\" y1=\"192.2969\" y2=\"192.2969\"/><text fill=\"#000000\" font-family=\"sans-serif\" font-size=\"14\" font-weight=\"bold\" lengthAdjust=\"spacingAndGlyphs\" textLength=\"108\" x=\"289\" y=\"184.9951\">Service Layer</text></a><a href=\"psysml:fe465764-9ab4-44bf-be91-bd692232f0a1\" target=\"_top\" title=\"psysml:fe465764-9ab4-44bf-be91-bd692232f0a1\" xlink:actuate=\"onRequest\" xlink:href=\"psysml:fe465764-9ab4-44bf-be91-bd692232f0a1\" xlink:show=\"new\" xlink:title=\"psysml:fe465764-9ab4-44bf-be91-bd692232f0a1\" xlink:type=\"simple\"><polygon fill=\"#FFFFFF\" points=\"297,256,387,256,394,278.2969,401,278.2969,401,308.5938,297,308.5938,297,256\" style=\"stroke: #000000; stroke-width: 1.5;\"/><line style=\"stroke: #000000; stroke-width: 1.5;\" x1=\"297\" x2=\"394\" y1=\"278.2969\" y2=\"278.2969\"/><text fill=\"#000000\" font-family=\"sans-serif\" font-size=\"14\" font-weight=\"bold\" lengthAdjust=\"spacingAndGlyphs\" textLength=\"84\" x=\"301\" y=\"270.9951\">Data Layer</text></a><!--MD5=[af87c684e3b0d8be13c1a698a818ef1e]\n",
       "link E3 to E4--><a href=\"psysml:f18ad3d3-ddea-4435-b15e-701f5c4039de\" target=\"_top\" title=\"psysml:f18ad3d3-ddea-4435-b15e-701f5c4039de\" xlink:actuate=\"onRequest\" xlink:href=\"psysml:f18ad3d3-ddea-4435-b15e-701f5c4039de\" xlink:show=\"new\" xlink:title=\"psysml:f18ad3d3-ddea-4435-b15e-701f5c4039de\" xlink:type=\"simple\"><path d=\"M349,137.16 C349,144.98 349,153.69 349,161.94 \" fill=\"none\" id=\"E3-&gt;E4\" style=\"stroke: #383838; stroke-width: 1.0; stroke-dasharray: 7.0,7.0;\"/><polygon fill=\"#383838\" points=\"349,170,352,162,346,162,349,170\" style=\"stroke: #383838; stroke-width: 1.0;\"/><text fill=\"#000000\" font-family=\"sans-serif\" font-size=\"13\" lengthAdjust=\"spacingAndGlyphs\" textLength=\"64\" x=\"350\" y=\"158.0669\">«depend»</text></a><!--MD5=[1b7591eae5389033d8d09a9d6721a717]\n",
       "link E4 to E5--><a href=\"psysml:22e4e023-3d64-4f1c-8411-ecdb932522c7\" target=\"_top\" title=\"psysml:22e4e023-3d64-4f1c-8411-ecdb932522c7\" xlink:actuate=\"onRequest\" xlink:href=\"psysml:22e4e023-3d64-4f1c-8411-ecdb932522c7\" xlink:show=\"new\" xlink:title=\"psysml:22e4e023-3d64-4f1c-8411-ecdb932522c7\" xlink:type=\"simple\"><path d=\"M349,223.16 C349,230.98 349,239.69 349,247.94 \" fill=\"none\" id=\"E4-&gt;E5\" style=\"stroke: #383838; stroke-width: 1.0; stroke-dasharray: 7.0,7.0;\"/><polygon fill=\"#383838\" points=\"349,256,352,248,346,248,349,256\" style=\"stroke: #383838; stroke-width: 1.0;\"/><text fill=\"#000000\" font-family=\"sans-serif\" font-size=\"13\" lengthAdjust=\"spacingAndGlyphs\" textLength=\"64\" x=\"350\" y=\"244.0669\">«depend»</text></a><!--MD5=[c5e8897d989ce984f93528998a7150fe]\n",
       "link E8 to E6--><a href=\"psysml:01d1ab15-dda9-4157-a585-7877f2cc1d47\" target=\"_top\" title=\"psysml:01d1ab15-dda9-4157-a585-7877f2cc1d47\" xlink:actuate=\"onRequest\" xlink:href=\"psysml:01d1ab15-dda9-4157-a585-7877f2cc1d47\" xlink:show=\"new\" xlink:title=\"psysml:01d1ab15-dda9-4157-a585-7877f2cc1d47\" xlink:type=\"simple\"><path d=\"M84.49,125.34 C76.34,130.27 68.69,136.72 64,145 C60.54,151.1 59.62,158.31 60,165.33 \" fill=\"none\" id=\"E8-&gt;E6\" style=\"stroke: #383838; stroke-width: 1.0; stroke-dasharray: 7.0,7.0;\"/><polygon fill=\"#383838\" points=\"60.97,173.42,63.0061,165.1221,57.0479,165.8294,60.97,173.42\" style=\"stroke: #383838; stroke-width: 1.0;\"/><text fill=\"#000000\" font-family=\"sans-serif\" font-size=\"13\" lengthAdjust=\"spacingAndGlyphs\" textLength=\"64\" x=\"65\" y=\"158.0669\">«depend»</text></a><!--MD5=[bfa3c8b0d15052fdf50ae9310b491027]\n",
       "link E8 to E7--><a href=\"psysml:01d1ab15-dda9-4157-a585-7877f2cc1d47\" target=\"_top\" title=\"psysml:01d1ab15-dda9-4157-a585-7877f2cc1d47\" xlink:actuate=\"onRequest\" xlink:href=\"psysml:01d1ab15-dda9-4157-a585-7877f2cc1d47\" xlink:show=\"new\" xlink:title=\"psysml:01d1ab15-dda9-4157-a585-7877f2cc1d47\" xlink:type=\"simple\"><path d=\"M134.19,133.57 C140.65,143.62 148.38,155.65 155.31,166.42 \" fill=\"none\" id=\"E8-&gt;E7\" style=\"stroke: #383838; stroke-width: 1.0; stroke-dasharray: 7.0,7.0;\"/><polygon fill=\"#383838\" points=\"159.72,173.29,157.9148,164.9389,152.8688,168.185,159.72,173.29\" style=\"stroke: #383838; stroke-width: 1.0;\"/><text fill=\"#000000\" font-family=\"sans-serif\" font-size=\"13\" lengthAdjust=\"spacingAndGlyphs\" textLength=\"64\" x=\"152\" y=\"158.0669\">«depend»</text></a><!--MD5=[a0df3f16617a3ae0d1be046dee633f19]\n",
       "@startuml\r\n",
       "skinparam ranksep 10\r\n",
       "skinparam rectangle {\r\n",
       " backgroundColor<<block>> LightGreen\r\n",
       "}\r\n",
       " skinparam monochrome true\r\n",
       "skinparam classbackgroundcolor white\r\n",
       "skinparam shadowing false\r\n",
       "skinparam wrapWidth 300\r\n",
       "hide circle\r\n",
       "\r\n",
       "package \"DependencyTest\" as E1  [[psysml:a0e63dae-583d-42a3-9f46-6e6177e563b1 ]]  {\r\n",
       "package \"System\" as E2  [[psysml:90630542-d1db-4cfe-a426-6fd5a6b42885 ]]  {\r\n",
       "package \"Application Layer\" as E3  [[psysml:f4739741-a5ef-49a4-9e06-4bb8a722f77e ]]  {\r\n",
       "}\r\n",
       "package \"Service Layer\" as E4  [[psysml:e1090b77-2219-4e30-afea-75b6451d3a90 ]]  {\r\n",
       "}\r\n",
       "package \"Data Layer\" as E5  [[psysml:fe465764-9ab4-44bf-be91-bd692232f0a1 ]]  {\r\n",
       "}\r\n",
       "}\r\n",
       "comp usage \"x\" as E6  <<(T,blue)attribute>> [[psysml:7440b603-2b18-4efb-9bf4-7832c56b919b ]] {\r\n",
       "}\r\n",
       "comp usage \"y\" as E7  <<(T,blue)attribute>> [[psysml:d907cb85-580b-45cd-b69d-b597f081eb5c ]] {\r\n",
       "}\r\n",
       "comp usage \"z\" as E8  <<(T,blue)attribute>> [[psysml:719c36a8-8fd6-40f5-b1aa-2a0e2714a310 ]] {\r\n",
       "}\r\n",
       "E3 ..>> E4 [[psysml:f18ad3d3-ddea-4435-b15e-701f5c4039de ]] : <<depend>>\r\n",
       "E4 ..>> E5 [[psysml:22e4e023-3d64-4f1c-8411-ecdb932522c7 ]] : <<depend>>\r\n",
       "E8 ..>> E6 [[psysml:01d1ab15-dda9-4157-a585-7877f2cc1d47 ]] : <<depend>>\r\n",
       "E8 ..>> E7 [[psysml:01d1ab15-dda9-4157-a585-7877f2cc1d47 ]] : <<depend>>\r\n",
       "}\r\n",
       "@enduml\r\n",
       "\n",
       "PlantUML version 1.2020.13(Sat Jun 13 12:26:38 UTC 2020)\n",
       "(EPL source distribution)\n",
       "Java Runtime: OpenJDK Runtime Environment\n",
       "JVM: OpenJDK 64-Bit Server VM\n",
       "Default Encoding: UTF-8\n",
       "Language: en\n",
       "Country: null\n",
       "--></g></svg>"
      ]
     },
     "execution_count": 5,
     "metadata": {},
     "output_type": "execute_result"
    }
   ],
   "source": [
    "%viz --style=\"COMPTREE\" --view=\"Interconnection\" \"DependencyTest\""
   ]
  },
  {
   "cell_type": "code",
   "execution_count": 6,
   "id": "5025c3c9",
   "metadata": {
    "execution": {
     "iopub.execute_input": "2021-04-21T20:26:04.902434Z",
     "iopub.status.busy": "2021-04-21T20:26:04.902063Z",
     "iopub.status.idle": "2021-04-21T20:26:04.911932Z",
     "shell.execute_reply": "2021-04-21T20:26:04.910857Z"
    }
   },
   "outputs": [
    {
     "data": {
      "image/svg+xml": [
       "<?xml version=\"1.0\" encoding=\"UTF-8\" standalone=\"no\"?><svg xmlns=\"http://www.w3.org/2000/svg\" xmlns:xlink=\"http://www.w3.org/1999/xlink\" contentScriptType=\"application/ecmascript\" contentStyleType=\"text/css\" height=\"12px\" preserveAspectRatio=\"none\" style=\"width:12px;height:12px;\" version=\"1.1\" viewBox=\"0 0 12 12\" width=\"12px\" zoomAndPan=\"magnify\"><defs/><g><!--MD5=[655b888544ca4751ea36af1068543f84]\n",
       "@startuml\r\n",
       "skinparam ranksep 8\r\n",
       " skinparam monochrome true\r\n",
       "skinparam classbackgroundcolor white\r\n",
       "skinparam shadowing false\r\n",
       "skinparam wrapWidth 300\r\n",
       "hide circle\r\n",
       "\r\n",
       "@enduml\r\n",
       "\n",
       "PlantUML version 1.2020.13(Sat Jun 13 12:26:38 UTC 2020)\n",
       "(EPL source distribution)\n",
       "Java Runtime: OpenJDK Runtime Environment\n",
       "JVM: OpenJDK 64-Bit Server VM\n",
       "Default Encoding: UTF-8\n",
       "Language: en\n",
       "Country: null\n",
       "--></g></svg>"
      ]
     },
     "execution_count": 6,
     "metadata": {},
     "output_type": "execute_result"
    }
   ],
   "source": [
    "%viz --style=\"COMPTREE\" --view=\"Action\" \"DependencyTest\""
   ]
  },
  {
   "cell_type": "code",
   "execution_count": 7,
   "id": "0f775fec",
   "metadata": {
    "execution": {
     "iopub.execute_input": "2021-04-21T20:26:04.964036Z",
     "iopub.status.busy": "2021-04-21T20:26:04.962892Z",
     "iopub.status.idle": "2021-04-21T20:26:05.023153Z",
     "shell.execute_reply": "2021-04-21T20:26:05.022208Z"
    }
   },
   "outputs": [
    {
     "data": {
      "image/svg+xml": [
       "<?xml version=\"1.0\" encoding=\"UTF-8\" standalone=\"no\"?><svg xmlns=\"http://www.w3.org/2000/svg\" xmlns:xlink=\"http://www.w3.org/1999/xlink\" contentScriptType=\"application/ecmascript\" contentStyleType=\"text/css\" height=\"449px\" preserveAspectRatio=\"none\" style=\"width:489px;height:449px;\" version=\"1.1\" viewBox=\"0 0 489 449\" width=\"489px\" zoomAndPan=\"magnify\"><defs/><g><!--MD5=[fbc87193dbaf4d95561dea2c320d4a47]\n",
       "cluster E1--><a href=\"psysml:a0e63dae-583d-42a3-9f46-6e6177e563b1\" target=\"_top\" title=\"psysml:a0e63dae-583d-42a3-9f46-6e6177e563b1\" xlink:actuate=\"onRequest\" xlink:href=\"psysml:a0e63dae-583d-42a3-9f46-6e6177e563b1\" xlink:show=\"new\" xlink:title=\"psysml:a0e63dae-583d-42a3-9f46-6e6177e563b1\" xlink:type=\"simple\"><polygon fill=\"#FFFFFF\" points=\"16,6,156,6,163,28.2969,467,28.2969,467,437,16,437,16,6\" style=\"stroke: #000000; stroke-width: 1.5;\"/><line style=\"stroke: #000000; stroke-width: 1.5;\" x1=\"16\" x2=\"163\" y1=\"28.2969\" y2=\"28.2969\"/><text fill=\"#000000\" font-family=\"sans-serif\" font-size=\"14\" font-weight=\"bold\" lengthAdjust=\"spacingAndGlyphs\" textLength=\"134\" x=\"20\" y=\"20.9951\">DependencyTest</text></a><!--MD5=[e4f7fae6ed58524ba242bb0b0d3be6b7]\n",
       "cluster E2--><a href=\"psysml:90630542-d1db-4cfe-a426-6fd5a6b42885\" target=\"_top\" title=\"psysml:90630542-d1db-4cfe-a426-6fd5a6b42885\" xlink:actuate=\"onRequest\" xlink:href=\"psysml:90630542-d1db-4cfe-a426-6fd5a6b42885\" xlink:show=\"new\" xlink:title=\"psysml:90630542-d1db-4cfe-a426-6fd5a6b42885\" xlink:type=\"simple\"><polygon fill=\"#FFFFFF\" points=\"255,49,319,49,326,71.2969,443,71.2969,443,413,255,413,255,49\" style=\"stroke: #000000; stroke-width: 1.5;\"/><line style=\"stroke: #000000; stroke-width: 1.5;\" x1=\"255\" x2=\"326\" y1=\"71.2969\" y2=\"71.2969\"/><text fill=\"#000000\" font-family=\"sans-serif\" font-size=\"14\" font-weight=\"bold\" lengthAdjust=\"spacingAndGlyphs\" textLength=\"58\" x=\"259\" y=\"63.9951\">System</text></a><!--MD5=[60a26617385b1d2d0262a64233df1f8d]\n",
       "class E6--><a href=\"psysml:7440b603-2b18-4efb-9bf4-7832c56b919b\" target=\"_top\" title=\"psysml:7440b603-2b18-4efb-9bf4-7832c56b919b\" xlink:actuate=\"onRequest\" xlink:href=\"psysml:7440b603-2b18-4efb-9bf4-7832c56b919b\" xlink:show=\"new\" xlink:title=\"psysml:7440b603-2b18-4efb-9bf4-7832c56b919b\" xlink:type=\"simple\"><rect fill=\"#FFFFFF\" height=\"45.9375\" id=\"E6\" rx=\"10\" ry=\"10\" style=\"stroke: #383838; stroke-width: 1.5;\" width=\"71\" x=\"32.5\" y=\"217.5\"/><text fill=\"#000000\" font-family=\"sans-serif\" font-size=\"12\" font-style=\"italic\" lengthAdjust=\"spacingAndGlyphs\" textLength=\"69\" x=\"33.5\" y=\"233.6387\">«attribute»</text><text fill=\"#000000\" font-family=\"sans-serif\" font-size=\"12\" lengthAdjust=\"spacingAndGlyphs\" textLength=\"6\" x=\"65\" y=\"247.6074\">x</text><line style=\"stroke: #383838; stroke-width: 1.5;\" x1=\"33.5\" x2=\"102.5\" y1=\"255.4375\" y2=\"255.4375\"/></a><!--MD5=[2156ba9850f5573cc1fc38a6a4b2f02b]\n",
       "class E7--><a href=\"psysml:d907cb85-580b-45cd-b69d-b597f081eb5c\" target=\"_top\" title=\"psysml:d907cb85-580b-45cd-b69d-b597f081eb5c\" xlink:actuate=\"onRequest\" xlink:href=\"psysml:d907cb85-580b-45cd-b69d-b597f081eb5c\" xlink:show=\"new\" xlink:title=\"psysml:d907cb85-580b-45cd-b69d-b597f081eb5c\" xlink:type=\"simple\"><rect fill=\"#FFFFFF\" height=\"45.9375\" id=\"E7\" rx=\"10\" ry=\"10\" style=\"stroke: #383838; stroke-width: 1.5;\" width=\"71\" x=\"138.5\" y=\"217.5\"/><text fill=\"#000000\" font-family=\"sans-serif\" font-size=\"12\" font-style=\"italic\" lengthAdjust=\"spacingAndGlyphs\" textLength=\"69\" x=\"139.5\" y=\"233.6387\">«attribute»</text><text fill=\"#000000\" font-family=\"sans-serif\" font-size=\"12\" lengthAdjust=\"spacingAndGlyphs\" textLength=\"6\" x=\"171\" y=\"247.6074\">y</text><line style=\"stroke: #383838; stroke-width: 1.5;\" x1=\"139.5\" x2=\"208.5\" y1=\"255.4375\" y2=\"255.4375\"/></a><!--MD5=[b9389687b975829384b498ac4b7476b2]\n",
       "class E8--><a href=\"psysml:719c36a8-8fd6-40f5-b1aa-2a0e2714a310\" target=\"_top\" title=\"psysml:719c36a8-8fd6-40f5-b1aa-2a0e2714a310\" xlink:actuate=\"onRequest\" xlink:href=\"psysml:719c36a8-8fd6-40f5-b1aa-2a0e2714a310\" xlink:show=\"new\" xlink:title=\"psysml:719c36a8-8fd6-40f5-b1aa-2a0e2714a310\" xlink:type=\"simple\"><rect fill=\"#FFFFFF\" height=\"45.9375\" id=\"E8\" rx=\"10\" ry=\"10\" style=\"stroke: #383838; stroke-width: 1.5;\" width=\"71\" x=\"84.5\" y=\"87.5\"/><text fill=\"#000000\" font-family=\"sans-serif\" font-size=\"12\" font-style=\"italic\" lengthAdjust=\"spacingAndGlyphs\" textLength=\"69\" x=\"85.5\" y=\"103.6387\">«attribute»</text><text fill=\"#000000\" font-family=\"sans-serif\" font-size=\"12\" lengthAdjust=\"spacingAndGlyphs\" textLength=\"5\" x=\"117.5\" y=\"117.6074\">z</text><line style=\"stroke: #383838; stroke-width: 1.5;\" x1=\"85.5\" x2=\"154.5\" y1=\"125.4375\" y2=\"125.4375\"/></a><a href=\"psysml:f4739741-a5ef-49a4-9e06-4bb8a722f77e\" target=\"_top\" title=\"psysml:f4739741-a5ef-49a4-9e06-4bb8a722f77e\" xlink:actuate=\"onRequest\" xlink:href=\"psysml:f4739741-a5ef-49a4-9e06-4bb8a722f77e\" xlink:show=\"new\" xlink:title=\"psysml:f4739741-a5ef-49a4-9e06-4bb8a722f77e\" xlink:type=\"simple\"><polygon fill=\"#FFFFFF\" points=\"271,84,413,84,420,106.2969,427,106.2969,427,136.5938,271,136.5938,271,84\" style=\"stroke: #000000; stroke-width: 1.5;\"/><line style=\"stroke: #000000; stroke-width: 1.5;\" x1=\"271\" x2=\"420\" y1=\"106.2969\" y2=\"106.2969\"/><text fill=\"#000000\" font-family=\"sans-serif\" font-size=\"14\" font-weight=\"bold\" lengthAdjust=\"spacingAndGlyphs\" textLength=\"136\" x=\"275\" y=\"98.9951\">Application Layer</text></a><a href=\"psysml:e1090b77-2219-4e30-afea-75b6451d3a90\" target=\"_top\" title=\"psysml:e1090b77-2219-4e30-afea-75b6451d3a90\" xlink:actuate=\"onRequest\" xlink:href=\"psysml:e1090b77-2219-4e30-afea-75b6451d3a90\" xlink:show=\"new\" xlink:title=\"psysml:e1090b77-2219-4e30-afea-75b6451d3a90\" xlink:type=\"simple\"><polygon fill=\"#FFFFFF\" points=\"285,214,399,214,406,236.2969,413,236.2969,413,266.5938,285,266.5938,285,214\" style=\"stroke: #000000; stroke-width: 1.5;\"/><line style=\"stroke: #000000; stroke-width: 1.5;\" x1=\"285\" x2=\"406\" y1=\"236.2969\" y2=\"236.2969\"/><text fill=\"#000000\" font-family=\"sans-serif\" font-size=\"14\" font-weight=\"bold\" lengthAdjust=\"spacingAndGlyphs\" textLength=\"108\" x=\"289\" y=\"228.9951\">Service Layer</text></a><a href=\"psysml:fe465764-9ab4-44bf-be91-bd692232f0a1\" target=\"_top\" title=\"psysml:fe465764-9ab4-44bf-be91-bd692232f0a1\" xlink:actuate=\"onRequest\" xlink:href=\"psysml:fe465764-9ab4-44bf-be91-bd692232f0a1\" xlink:show=\"new\" xlink:title=\"psysml:fe465764-9ab4-44bf-be91-bd692232f0a1\" xlink:type=\"simple\"><polygon fill=\"#FFFFFF\" points=\"297,344,387,344,394,366.2969,401,366.2969,401,396.5938,297,396.5938,297,344\" style=\"stroke: #000000; stroke-width: 1.5;\"/><line style=\"stroke: #000000; stroke-width: 1.5;\" x1=\"297\" x2=\"394\" y1=\"366.2969\" y2=\"366.2969\"/><text fill=\"#000000\" font-family=\"sans-serif\" font-size=\"14\" font-weight=\"bold\" lengthAdjust=\"spacingAndGlyphs\" textLength=\"84\" x=\"301\" y=\"358.9951\">Data Layer</text></a><!--MD5=[af87c684e3b0d8be13c1a698a818ef1e]\n",
       "link E3 to E4--><a href=\"psysml:f18ad3d3-ddea-4435-b15e-701f5c4039de\" target=\"_top\" title=\"psysml:f18ad3d3-ddea-4435-b15e-701f5c4039de\" xlink:actuate=\"onRequest\" xlink:href=\"psysml:f18ad3d3-ddea-4435-b15e-701f5c4039de\" xlink:show=\"new\" xlink:title=\"psysml:f18ad3d3-ddea-4435-b15e-701f5c4039de\" xlink:type=\"simple\"><path d=\"M349,137.1 C349,156.8 349,184.22 349,205.73 \" fill=\"none\" id=\"E3-&gt;E4\" style=\"stroke: #383838; stroke-width: 1.0; stroke-dasharray: 7.0,7.0;\"/><polygon fill=\"#383838\" points=\"349,213.95,352,205.95,346,205.95,349,213.95\" style=\"stroke: #383838; stroke-width: 1.0;\"/><text fill=\"#000000\" font-family=\"sans-serif\" font-size=\"13\" lengthAdjust=\"spacingAndGlyphs\" textLength=\"64\" x=\"350\" y=\"180.0669\">«depend»</text></a><!--MD5=[1b7591eae5389033d8d09a9d6721a717]\n",
       "link E4 to E5--><a href=\"psysml:22e4e023-3d64-4f1c-8411-ecdb932522c7\" target=\"_top\" title=\"psysml:22e4e023-3d64-4f1c-8411-ecdb932522c7\" xlink:actuate=\"onRequest\" xlink:href=\"psysml:22e4e023-3d64-4f1c-8411-ecdb932522c7\" xlink:show=\"new\" xlink:title=\"psysml:22e4e023-3d64-4f1c-8411-ecdb932522c7\" xlink:type=\"simple\"><path d=\"M349,267.1 C349,286.8 349,314.22 349,335.73 \" fill=\"none\" id=\"E4-&gt;E5\" style=\"stroke: #383838; stroke-width: 1.0; stroke-dasharray: 7.0,7.0;\"/><polygon fill=\"#383838\" points=\"349,343.95,352,335.95,346,335.95,349,343.95\" style=\"stroke: #383838; stroke-width: 1.0;\"/><text fill=\"#000000\" font-family=\"sans-serif\" font-size=\"13\" lengthAdjust=\"spacingAndGlyphs\" textLength=\"64\" x=\"350\" y=\"310.0669\">«depend»</text></a><!--MD5=[c5e8897d989ce984f93528998a7150fe]\n",
       "link E8 to E6--><a href=\"psysml:01d1ab15-dda9-4157-a585-7877f2cc1d47\" target=\"_top\" title=\"psysml:01d1ab15-dda9-4157-a585-7877f2cc1d47\" xlink:actuate=\"onRequest\" xlink:href=\"psysml:01d1ab15-dda9-4157-a585-7877f2cc1d47\" xlink:show=\"new\" xlink:title=\"psysml:01d1ab15-dda9-4157-a585-7877f2cc1d47\" xlink:type=\"simple\"><path d=\"M89.42,133.6 C79.35,142.68 69.37,154.11 64,167 C58.5,180.2 58.66,195.94 60.54,209.38 \" fill=\"none\" id=\"E8-&gt;E6\" style=\"stroke: #383838; stroke-width: 1.0; stroke-dasharray: 7.0,7.0;\"/><polygon fill=\"#383838\" points=\"61.9,217.4,63.517,209.0104,57.6018,210.0159,61.9,217.4\" style=\"stroke: #383838; stroke-width: 1.0;\"/><text fill=\"#000000\" font-family=\"sans-serif\" font-size=\"13\" lengthAdjust=\"spacingAndGlyphs\" textLength=\"64\" x=\"65\" y=\"180.0669\">«depend»</text></a><!--MD5=[bfa3c8b0d15052fdf50ae9310b491027]\n",
       "link E8 to E7--><a href=\"psysml:01d1ab15-dda9-4157-a585-7877f2cc1d47\" target=\"_top\" title=\"psysml:01d1ab15-dda9-4157-a585-7877f2cc1d47\" xlink:actuate=\"onRequest\" xlink:href=\"psysml:01d1ab15-dda9-4157-a585-7877f2cc1d47\" xlink:show=\"new\" xlink:title=\"psysml:01d1ab15-dda9-4157-a585-7877f2cc1d47\" xlink:type=\"simple\"><path d=\"M129.28,133.5 C138.17,154.57 151.64,186.5 161.47,209.81 \" fill=\"none\" id=\"E8-&gt;E7\" style=\"stroke: #383838; stroke-width: 1.0; stroke-dasharray: 7.0,7.0;\"/><polygon fill=\"#383838\" points=\"164.66,217.35,164.3241,208.8126,158.7933,211.1385,164.66,217.35\" style=\"stroke: #383838; stroke-width: 1.0;\"/><text fill=\"#000000\" font-family=\"sans-serif\" font-size=\"13\" lengthAdjust=\"spacingAndGlyphs\" textLength=\"64\" x=\"151\" y=\"180.0669\">«depend»</text></a><!--MD5=[fa91491b8238dec380c874a1f098883f]\n",
       "@startuml\r\n",
       " skinparam monochrome true\r\n",
       "skinparam classbackgroundcolor white\r\n",
       "skinparam shadowing false\r\n",
       "skinparam wrapWidth 300\r\n",
       "hide circle\r\n",
       "\r\n",
       "package \"DependencyTest\" as E1  [[psysml:a0e63dae-583d-42a3-9f46-6e6177e563b1 ]]  {\r\n",
       "package \"System\" as E2  [[psysml:90630542-d1db-4cfe-a426-6fd5a6b42885 ]]  {\r\n",
       "package \"Application Layer\" as E3  [[psysml:f4739741-a5ef-49a4-9e06-4bb8a722f77e ]]  {\r\n",
       "}\r\n",
       "package \"Service Layer\" as E4  [[psysml:e1090b77-2219-4e30-afea-75b6451d3a90 ]]  {\r\n",
       "}\r\n",
       "package \"Data Layer\" as E5  [[psysml:fe465764-9ab4-44bf-be91-bd692232f0a1 ]]  {\r\n",
       "}\r\n",
       "}\r\n",
       "comp usage \"x\" as E6  <<(T,blue)attribute>> [[psysml:7440b603-2b18-4efb-9bf4-7832c56b919b ]] {\r\n",
       "}\r\n",
       "comp usage \"y\" as E7  <<(T,blue)attribute>> [[psysml:d907cb85-580b-45cd-b69d-b597f081eb5c ]] {\r\n",
       "}\r\n",
       "comp usage \"z\" as E8  <<(T,blue)attribute>> [[psysml:719c36a8-8fd6-40f5-b1aa-2a0e2714a310 ]] {\r\n",
       "}\r\n",
       "E3 ..>> E4 [[psysml:f18ad3d3-ddea-4435-b15e-701f5c4039de ]] : <<depend>>\r\n",
       "E4 ..>> E5 [[psysml:22e4e023-3d64-4f1c-8411-ecdb932522c7 ]] : <<depend>>\r\n",
       "E8 ..>> E6 [[psysml:01d1ab15-dda9-4157-a585-7877f2cc1d47 ]] : <<depend>>\r\n",
       "E8 ..>> E7 [[psysml:01d1ab15-dda9-4157-a585-7877f2cc1d47 ]] : <<depend>>\r\n",
       "}\r\n",
       "@enduml\r\n",
       "\n",
       "PlantUML version 1.2020.13(Sat Jun 13 12:26:38 UTC 2020)\n",
       "(EPL source distribution)\n",
       "Java Runtime: OpenJDK Runtime Environment\n",
       "JVM: OpenJDK 64-Bit Server VM\n",
       "Default Encoding: UTF-8\n",
       "Language: en\n",
       "Country: null\n",
       "--></g></svg>"
      ]
     },
     "execution_count": 7,
     "metadata": {},
     "output_type": "execute_result"
    }
   ],
   "source": [
    "%viz --style=\"COMPTREE\" --view=\"Sequence\" \"DependencyTest\""
   ]
  },
  {
   "cell_type": "code",
   "execution_count": 8,
   "id": "ebd83f5e",
   "metadata": {
    "execution": {
     "iopub.execute_input": "2021-04-21T20:26:05.075844Z",
     "iopub.status.busy": "2021-04-21T20:26:05.074985Z",
     "iopub.status.idle": "2021-04-21T20:26:05.125877Z",
     "shell.execute_reply": "2021-04-21T20:26:05.125545Z"
    }
   },
   "outputs": [
    {
     "data": {
      "image/svg+xml": [
       "<?xml version=\"1.0\" encoding=\"UTF-8\" standalone=\"no\"?><svg xmlns=\"http://www.w3.org/2000/svg\" xmlns:xlink=\"http://www.w3.org/1999/xlink\" contentScriptType=\"application/ecmascript\" contentStyleType=\"text/css\" height=\"449px\" preserveAspectRatio=\"none\" style=\"width:489px;height:449px;\" version=\"1.1\" viewBox=\"0 0 489 449\" width=\"489px\" zoomAndPan=\"magnify\"><defs/><g><!--MD5=[fbc87193dbaf4d95561dea2c320d4a47]\n",
       "cluster E1--><a href=\"psysml:a0e63dae-583d-42a3-9f46-6e6177e563b1\" target=\"_top\" title=\"psysml:a0e63dae-583d-42a3-9f46-6e6177e563b1\" xlink:actuate=\"onRequest\" xlink:href=\"psysml:a0e63dae-583d-42a3-9f46-6e6177e563b1\" xlink:show=\"new\" xlink:title=\"psysml:a0e63dae-583d-42a3-9f46-6e6177e563b1\" xlink:type=\"simple\"><polygon fill=\"#FFFFFF\" points=\"16,6,156,6,163,28.2969,467,28.2969,467,437,16,437,16,6\" style=\"stroke: #000000; stroke-width: 1.5;\"/><line style=\"stroke: #000000; stroke-width: 1.5;\" x1=\"16\" x2=\"163\" y1=\"28.2969\" y2=\"28.2969\"/><text fill=\"#000000\" font-family=\"sans-serif\" font-size=\"14\" font-weight=\"bold\" lengthAdjust=\"spacingAndGlyphs\" textLength=\"134\" x=\"20\" y=\"20.9951\">DependencyTest</text></a><!--MD5=[e4f7fae6ed58524ba242bb0b0d3be6b7]\n",
       "cluster E2--><a href=\"psysml:90630542-d1db-4cfe-a426-6fd5a6b42885\" target=\"_top\" title=\"psysml:90630542-d1db-4cfe-a426-6fd5a6b42885\" xlink:actuate=\"onRequest\" xlink:href=\"psysml:90630542-d1db-4cfe-a426-6fd5a6b42885\" xlink:show=\"new\" xlink:title=\"psysml:90630542-d1db-4cfe-a426-6fd5a6b42885\" xlink:type=\"simple\"><polygon fill=\"#FFFFFF\" points=\"255,49,319,49,326,71.2969,443,71.2969,443,413,255,413,255,49\" style=\"stroke: #000000; stroke-width: 1.5;\"/><line style=\"stroke: #000000; stroke-width: 1.5;\" x1=\"255\" x2=\"326\" y1=\"71.2969\" y2=\"71.2969\"/><text fill=\"#000000\" font-family=\"sans-serif\" font-size=\"14\" font-weight=\"bold\" lengthAdjust=\"spacingAndGlyphs\" textLength=\"58\" x=\"259\" y=\"63.9951\">System</text></a><!--MD5=[60a26617385b1d2d0262a64233df1f8d]\n",
       "class E6--><a href=\"psysml:7440b603-2b18-4efb-9bf4-7832c56b919b\" target=\"_top\" title=\"psysml:7440b603-2b18-4efb-9bf4-7832c56b919b\" xlink:actuate=\"onRequest\" xlink:href=\"psysml:7440b603-2b18-4efb-9bf4-7832c56b919b\" xlink:show=\"new\" xlink:title=\"psysml:7440b603-2b18-4efb-9bf4-7832c56b919b\" xlink:type=\"simple\"><rect fill=\"#FFFFFF\" height=\"45.9375\" id=\"E6\" rx=\"10\" ry=\"10\" style=\"stroke: #383838; stroke-width: 1.5;\" width=\"71\" x=\"32.5\" y=\"217.5\"/><text fill=\"#000000\" font-family=\"sans-serif\" font-size=\"12\" font-style=\"italic\" lengthAdjust=\"spacingAndGlyphs\" textLength=\"69\" x=\"33.5\" y=\"233.6387\">«attribute»</text><text fill=\"#000000\" font-family=\"sans-serif\" font-size=\"12\" lengthAdjust=\"spacingAndGlyphs\" textLength=\"6\" x=\"65\" y=\"247.6074\">x</text><line style=\"stroke: #383838; stroke-width: 1.5;\" x1=\"33.5\" x2=\"102.5\" y1=\"255.4375\" y2=\"255.4375\"/></a><!--MD5=[2156ba9850f5573cc1fc38a6a4b2f02b]\n",
       "class E7--><a href=\"psysml:d907cb85-580b-45cd-b69d-b597f081eb5c\" target=\"_top\" title=\"psysml:d907cb85-580b-45cd-b69d-b597f081eb5c\" xlink:actuate=\"onRequest\" xlink:href=\"psysml:d907cb85-580b-45cd-b69d-b597f081eb5c\" xlink:show=\"new\" xlink:title=\"psysml:d907cb85-580b-45cd-b69d-b597f081eb5c\" xlink:type=\"simple\"><rect fill=\"#FFFFFF\" height=\"45.9375\" id=\"E7\" rx=\"10\" ry=\"10\" style=\"stroke: #383838; stroke-width: 1.5;\" width=\"71\" x=\"138.5\" y=\"217.5\"/><text fill=\"#000000\" font-family=\"sans-serif\" font-size=\"12\" font-style=\"italic\" lengthAdjust=\"spacingAndGlyphs\" textLength=\"69\" x=\"139.5\" y=\"233.6387\">«attribute»</text><text fill=\"#000000\" font-family=\"sans-serif\" font-size=\"12\" lengthAdjust=\"spacingAndGlyphs\" textLength=\"6\" x=\"171\" y=\"247.6074\">y</text><line style=\"stroke: #383838; stroke-width: 1.5;\" x1=\"139.5\" x2=\"208.5\" y1=\"255.4375\" y2=\"255.4375\"/></a><!--MD5=[b9389687b975829384b498ac4b7476b2]\n",
       "class E8--><a href=\"psysml:719c36a8-8fd6-40f5-b1aa-2a0e2714a310\" target=\"_top\" title=\"psysml:719c36a8-8fd6-40f5-b1aa-2a0e2714a310\" xlink:actuate=\"onRequest\" xlink:href=\"psysml:719c36a8-8fd6-40f5-b1aa-2a0e2714a310\" xlink:show=\"new\" xlink:title=\"psysml:719c36a8-8fd6-40f5-b1aa-2a0e2714a310\" xlink:type=\"simple\"><rect fill=\"#FFFFFF\" height=\"45.9375\" id=\"E8\" rx=\"10\" ry=\"10\" style=\"stroke: #383838; stroke-width: 1.5;\" width=\"71\" x=\"84.5\" y=\"87.5\"/><text fill=\"#000000\" font-family=\"sans-serif\" font-size=\"12\" font-style=\"italic\" lengthAdjust=\"spacingAndGlyphs\" textLength=\"69\" x=\"85.5\" y=\"103.6387\">«attribute»</text><text fill=\"#000000\" font-family=\"sans-serif\" font-size=\"12\" lengthAdjust=\"spacingAndGlyphs\" textLength=\"5\" x=\"117.5\" y=\"117.6074\">z</text><line style=\"stroke: #383838; stroke-width: 1.5;\" x1=\"85.5\" x2=\"154.5\" y1=\"125.4375\" y2=\"125.4375\"/></a><a href=\"psysml:f4739741-a5ef-49a4-9e06-4bb8a722f77e\" target=\"_top\" title=\"psysml:f4739741-a5ef-49a4-9e06-4bb8a722f77e\" xlink:actuate=\"onRequest\" xlink:href=\"psysml:f4739741-a5ef-49a4-9e06-4bb8a722f77e\" xlink:show=\"new\" xlink:title=\"psysml:f4739741-a5ef-49a4-9e06-4bb8a722f77e\" xlink:type=\"simple\"><polygon fill=\"#FFFFFF\" points=\"271,84,413,84,420,106.2969,427,106.2969,427,136.5938,271,136.5938,271,84\" style=\"stroke: #000000; stroke-width: 1.5;\"/><line style=\"stroke: #000000; stroke-width: 1.5;\" x1=\"271\" x2=\"420\" y1=\"106.2969\" y2=\"106.2969\"/><text fill=\"#000000\" font-family=\"sans-serif\" font-size=\"14\" font-weight=\"bold\" lengthAdjust=\"spacingAndGlyphs\" textLength=\"136\" x=\"275\" y=\"98.9951\">Application Layer</text></a><a href=\"psysml:e1090b77-2219-4e30-afea-75b6451d3a90\" target=\"_top\" title=\"psysml:e1090b77-2219-4e30-afea-75b6451d3a90\" xlink:actuate=\"onRequest\" xlink:href=\"psysml:e1090b77-2219-4e30-afea-75b6451d3a90\" xlink:show=\"new\" xlink:title=\"psysml:e1090b77-2219-4e30-afea-75b6451d3a90\" xlink:type=\"simple\"><polygon fill=\"#FFFFFF\" points=\"285,214,399,214,406,236.2969,413,236.2969,413,266.5938,285,266.5938,285,214\" style=\"stroke: #000000; stroke-width: 1.5;\"/><line style=\"stroke: #000000; stroke-width: 1.5;\" x1=\"285\" x2=\"406\" y1=\"236.2969\" y2=\"236.2969\"/><text fill=\"#000000\" font-family=\"sans-serif\" font-size=\"14\" font-weight=\"bold\" lengthAdjust=\"spacingAndGlyphs\" textLength=\"108\" x=\"289\" y=\"228.9951\">Service Layer</text></a><a href=\"psysml:fe465764-9ab4-44bf-be91-bd692232f0a1\" target=\"_top\" title=\"psysml:fe465764-9ab4-44bf-be91-bd692232f0a1\" xlink:actuate=\"onRequest\" xlink:href=\"psysml:fe465764-9ab4-44bf-be91-bd692232f0a1\" xlink:show=\"new\" xlink:title=\"psysml:fe465764-9ab4-44bf-be91-bd692232f0a1\" xlink:type=\"simple\"><polygon fill=\"#FFFFFF\" points=\"297,344,387,344,394,366.2969,401,366.2969,401,396.5938,297,396.5938,297,344\" style=\"stroke: #000000; stroke-width: 1.5;\"/><line style=\"stroke: #000000; stroke-width: 1.5;\" x1=\"297\" x2=\"394\" y1=\"366.2969\" y2=\"366.2969\"/><text fill=\"#000000\" font-family=\"sans-serif\" font-size=\"14\" font-weight=\"bold\" lengthAdjust=\"spacingAndGlyphs\" textLength=\"84\" x=\"301\" y=\"358.9951\">Data Layer</text></a><!--MD5=[af87c684e3b0d8be13c1a698a818ef1e]\n",
       "link E3 to E4--><a href=\"psysml:f18ad3d3-ddea-4435-b15e-701f5c4039de\" target=\"_top\" title=\"psysml:f18ad3d3-ddea-4435-b15e-701f5c4039de\" xlink:actuate=\"onRequest\" xlink:href=\"psysml:f18ad3d3-ddea-4435-b15e-701f5c4039de\" xlink:show=\"new\" xlink:title=\"psysml:f18ad3d3-ddea-4435-b15e-701f5c4039de\" xlink:type=\"simple\"><path d=\"M349,137.1 C349,156.8 349,184.22 349,205.73 \" fill=\"none\" id=\"E3-&gt;E4\" style=\"stroke: #383838; stroke-width: 1.0; stroke-dasharray: 7.0,7.0;\"/><polygon fill=\"#383838\" points=\"349,213.95,352,205.95,346,205.95,349,213.95\" style=\"stroke: #383838; stroke-width: 1.0;\"/><text fill=\"#000000\" font-family=\"sans-serif\" font-size=\"13\" lengthAdjust=\"spacingAndGlyphs\" textLength=\"64\" x=\"350\" y=\"180.0669\">«depend»</text></a><!--MD5=[1b7591eae5389033d8d09a9d6721a717]\n",
       "link E4 to E5--><a href=\"psysml:22e4e023-3d64-4f1c-8411-ecdb932522c7\" target=\"_top\" title=\"psysml:22e4e023-3d64-4f1c-8411-ecdb932522c7\" xlink:actuate=\"onRequest\" xlink:href=\"psysml:22e4e023-3d64-4f1c-8411-ecdb932522c7\" xlink:show=\"new\" xlink:title=\"psysml:22e4e023-3d64-4f1c-8411-ecdb932522c7\" xlink:type=\"simple\"><path d=\"M349,267.1 C349,286.8 349,314.22 349,335.73 \" fill=\"none\" id=\"E4-&gt;E5\" style=\"stroke: #383838; stroke-width: 1.0; stroke-dasharray: 7.0,7.0;\"/><polygon fill=\"#383838\" points=\"349,343.95,352,335.95,346,335.95,349,343.95\" style=\"stroke: #383838; stroke-width: 1.0;\"/><text fill=\"#000000\" font-family=\"sans-serif\" font-size=\"13\" lengthAdjust=\"spacingAndGlyphs\" textLength=\"64\" x=\"350\" y=\"310.0669\">«depend»</text></a><!--MD5=[c5e8897d989ce984f93528998a7150fe]\n",
       "link E8 to E6--><a href=\"psysml:01d1ab15-dda9-4157-a585-7877f2cc1d47\" target=\"_top\" title=\"psysml:01d1ab15-dda9-4157-a585-7877f2cc1d47\" xlink:actuate=\"onRequest\" xlink:href=\"psysml:01d1ab15-dda9-4157-a585-7877f2cc1d47\" xlink:show=\"new\" xlink:title=\"psysml:01d1ab15-dda9-4157-a585-7877f2cc1d47\" xlink:type=\"simple\"><path d=\"M89.42,133.6 C79.35,142.68 69.37,154.11 64,167 C58.5,180.2 58.66,195.94 60.54,209.38 \" fill=\"none\" id=\"E8-&gt;E6\" style=\"stroke: #383838; stroke-width: 1.0; stroke-dasharray: 7.0,7.0;\"/><polygon fill=\"#383838\" points=\"61.9,217.4,63.517,209.0104,57.6018,210.0159,61.9,217.4\" style=\"stroke: #383838; stroke-width: 1.0;\"/><text fill=\"#000000\" font-family=\"sans-serif\" font-size=\"13\" lengthAdjust=\"spacingAndGlyphs\" textLength=\"64\" x=\"65\" y=\"180.0669\">«depend»</text></a><!--MD5=[bfa3c8b0d15052fdf50ae9310b491027]\n",
       "link E8 to E7--><a href=\"psysml:01d1ab15-dda9-4157-a585-7877f2cc1d47\" target=\"_top\" title=\"psysml:01d1ab15-dda9-4157-a585-7877f2cc1d47\" xlink:actuate=\"onRequest\" xlink:href=\"psysml:01d1ab15-dda9-4157-a585-7877f2cc1d47\" xlink:show=\"new\" xlink:title=\"psysml:01d1ab15-dda9-4157-a585-7877f2cc1d47\" xlink:type=\"simple\"><path d=\"M129.28,133.5 C138.17,154.57 151.64,186.5 161.47,209.81 \" fill=\"none\" id=\"E8-&gt;E7\" style=\"stroke: #383838; stroke-width: 1.0; stroke-dasharray: 7.0,7.0;\"/><polygon fill=\"#383838\" points=\"164.66,217.35,164.3241,208.8126,158.7933,211.1385,164.66,217.35\" style=\"stroke: #383838; stroke-width: 1.0;\"/><text fill=\"#000000\" font-family=\"sans-serif\" font-size=\"13\" lengthAdjust=\"spacingAndGlyphs\" textLength=\"64\" x=\"151\" y=\"180.0669\">«depend»</text></a><!--MD5=[fa91491b8238dec380c874a1f098883f]\n",
       "@startuml\r\n",
       " skinparam monochrome true\r\n",
       "skinparam classbackgroundcolor white\r\n",
       "skinparam shadowing false\r\n",
       "skinparam wrapWidth 300\r\n",
       "hide circle\r\n",
       "\r\n",
       "package \"DependencyTest\" as E1  [[psysml:a0e63dae-583d-42a3-9f46-6e6177e563b1 ]]  {\r\n",
       "package \"System\" as E2  [[psysml:90630542-d1db-4cfe-a426-6fd5a6b42885 ]]  {\r\n",
       "package \"Application Layer\" as E3  [[psysml:f4739741-a5ef-49a4-9e06-4bb8a722f77e ]]  {\r\n",
       "}\r\n",
       "package \"Service Layer\" as E4  [[psysml:e1090b77-2219-4e30-afea-75b6451d3a90 ]]  {\r\n",
       "}\r\n",
       "package \"Data Layer\" as E5  [[psysml:fe465764-9ab4-44bf-be91-bd692232f0a1 ]]  {\r\n",
       "}\r\n",
       "}\r\n",
       "comp usage \"x\" as E6  <<(T,blue)attribute>> [[psysml:7440b603-2b18-4efb-9bf4-7832c56b919b ]] {\r\n",
       "}\r\n",
       "comp usage \"y\" as E7  <<(T,blue)attribute>> [[psysml:d907cb85-580b-45cd-b69d-b597f081eb5c ]] {\r\n",
       "}\r\n",
       "comp usage \"z\" as E8  <<(T,blue)attribute>> [[psysml:719c36a8-8fd6-40f5-b1aa-2a0e2714a310 ]] {\r\n",
       "}\r\n",
       "E3 ..>> E4 [[psysml:f18ad3d3-ddea-4435-b15e-701f5c4039de ]] : <<depend>>\r\n",
       "E4 ..>> E5 [[psysml:22e4e023-3d64-4f1c-8411-ecdb932522c7 ]] : <<depend>>\r\n",
       "E8 ..>> E6 [[psysml:01d1ab15-dda9-4157-a585-7877f2cc1d47 ]] : <<depend>>\r\n",
       "E8 ..>> E7 [[psysml:01d1ab15-dda9-4157-a585-7877f2cc1d47 ]] : <<depend>>\r\n",
       "}\r\n",
       "@enduml\r\n",
       "\n",
       "PlantUML version 1.2020.13(Sat Jun 13 12:26:38 UTC 2020)\n",
       "(EPL source distribution)\n",
       "Java Runtime: OpenJDK Runtime Environment\n",
       "JVM: OpenJDK 64-Bit Server VM\n",
       "Default Encoding: UTF-8\n",
       "Language: en\n",
       "Country: null\n",
       "--></g></svg>"
      ]
     },
     "execution_count": 8,
     "metadata": {},
     "output_type": "execute_result"
    }
   ],
   "source": [
    "%viz --style=\"COMPTREE\" --view=\"MIXED\" \"DependencyTest\""
   ]
  },
  {
   "cell_type": "code",
   "execution_count": 9,
   "id": "5de400a7",
   "metadata": {
    "execution": {
     "iopub.execute_input": "2021-04-21T20:26:05.176594Z",
     "iopub.status.busy": "2021-04-21T20:26:05.176208Z",
     "iopub.status.idle": "2021-04-21T20:26:05.235375Z",
     "shell.execute_reply": "2021-04-21T20:26:05.234879Z"
    }
   },
   "outputs": [
    {
     "data": {
      "image/svg+xml": [
       "<?xml version=\"1.0\" encoding=\"UTF-8\" standalone=\"no\"?><svg xmlns=\"http://www.w3.org/2000/svg\" xmlns:xlink=\"http://www.w3.org/1999/xlink\" contentScriptType=\"application/ecmascript\" contentStyleType=\"text/css\" height=\"449px\" preserveAspectRatio=\"none\" style=\"width:489px;height:449px;\" version=\"1.1\" viewBox=\"0 0 489 449\" width=\"489px\" zoomAndPan=\"magnify\"><defs/><g><!--MD5=[fbc87193dbaf4d95561dea2c320d4a47]\n",
       "cluster E1--><a href=\"psysml:a0e63dae-583d-42a3-9f46-6e6177e563b1\" target=\"_top\" title=\"psysml:a0e63dae-583d-42a3-9f46-6e6177e563b1\" xlink:actuate=\"onRequest\" xlink:href=\"psysml:a0e63dae-583d-42a3-9f46-6e6177e563b1\" xlink:show=\"new\" xlink:title=\"psysml:a0e63dae-583d-42a3-9f46-6e6177e563b1\" xlink:type=\"simple\"><polygon fill=\"#FFFFFF\" points=\"16,6,156,6,163,28.2969,467,28.2969,467,437,16,437,16,6\" style=\"stroke: #000000; stroke-width: 1.5;\"/><line style=\"stroke: #000000; stroke-width: 1.5;\" x1=\"16\" x2=\"163\" y1=\"28.2969\" y2=\"28.2969\"/><text fill=\"#000000\" font-family=\"sans-serif\" font-size=\"14\" font-weight=\"bold\" lengthAdjust=\"spacingAndGlyphs\" textLength=\"134\" x=\"20\" y=\"20.9951\">DependencyTest</text></a><!--MD5=[e4f7fae6ed58524ba242bb0b0d3be6b7]\n",
       "cluster E2--><a href=\"psysml:90630542-d1db-4cfe-a426-6fd5a6b42885\" target=\"_top\" title=\"psysml:90630542-d1db-4cfe-a426-6fd5a6b42885\" xlink:actuate=\"onRequest\" xlink:href=\"psysml:90630542-d1db-4cfe-a426-6fd5a6b42885\" xlink:show=\"new\" xlink:title=\"psysml:90630542-d1db-4cfe-a426-6fd5a6b42885\" xlink:type=\"simple\"><polygon fill=\"#FFFFFF\" points=\"255,49,319,49,326,71.2969,443,71.2969,443,413,255,413,255,49\" style=\"stroke: #000000; stroke-width: 1.5;\"/><line style=\"stroke: #000000; stroke-width: 1.5;\" x1=\"255\" x2=\"326\" y1=\"71.2969\" y2=\"71.2969\"/><text fill=\"#000000\" font-family=\"sans-serif\" font-size=\"14\" font-weight=\"bold\" lengthAdjust=\"spacingAndGlyphs\" textLength=\"58\" x=\"259\" y=\"63.9951\">System</text></a><!--MD5=[60a26617385b1d2d0262a64233df1f8d]\n",
       "class E6--><a href=\"psysml:7440b603-2b18-4efb-9bf4-7832c56b919b\" target=\"_top\" title=\"psysml:7440b603-2b18-4efb-9bf4-7832c56b919b\" xlink:actuate=\"onRequest\" xlink:href=\"psysml:7440b603-2b18-4efb-9bf4-7832c56b919b\" xlink:show=\"new\" xlink:title=\"psysml:7440b603-2b18-4efb-9bf4-7832c56b919b\" xlink:type=\"simple\"><rect fill=\"#FFFFFF\" height=\"45.9375\" id=\"E6\" rx=\"10\" ry=\"10\" style=\"stroke: #383838; stroke-width: 1.5;\" width=\"71\" x=\"32.5\" y=\"217.5\"/><text fill=\"#000000\" font-family=\"sans-serif\" font-size=\"12\" font-style=\"italic\" lengthAdjust=\"spacingAndGlyphs\" textLength=\"69\" x=\"33.5\" y=\"233.6387\">«attribute»</text><text fill=\"#000000\" font-family=\"sans-serif\" font-size=\"12\" lengthAdjust=\"spacingAndGlyphs\" textLength=\"6\" x=\"65\" y=\"247.6074\">x</text><line style=\"stroke: #383838; stroke-width: 1.5;\" x1=\"33.5\" x2=\"102.5\" y1=\"255.4375\" y2=\"255.4375\"/></a><!--MD5=[2156ba9850f5573cc1fc38a6a4b2f02b]\n",
       "class E7--><a href=\"psysml:d907cb85-580b-45cd-b69d-b597f081eb5c\" target=\"_top\" title=\"psysml:d907cb85-580b-45cd-b69d-b597f081eb5c\" xlink:actuate=\"onRequest\" xlink:href=\"psysml:d907cb85-580b-45cd-b69d-b597f081eb5c\" xlink:show=\"new\" xlink:title=\"psysml:d907cb85-580b-45cd-b69d-b597f081eb5c\" xlink:type=\"simple\"><rect fill=\"#FFFFFF\" height=\"45.9375\" id=\"E7\" rx=\"10\" ry=\"10\" style=\"stroke: #383838; stroke-width: 1.5;\" width=\"71\" x=\"138.5\" y=\"217.5\"/><text fill=\"#000000\" font-family=\"sans-serif\" font-size=\"12\" font-style=\"italic\" lengthAdjust=\"spacingAndGlyphs\" textLength=\"69\" x=\"139.5\" y=\"233.6387\">«attribute»</text><text fill=\"#000000\" font-family=\"sans-serif\" font-size=\"12\" lengthAdjust=\"spacingAndGlyphs\" textLength=\"6\" x=\"171\" y=\"247.6074\">y</text><line style=\"stroke: #383838; stroke-width: 1.5;\" x1=\"139.5\" x2=\"208.5\" y1=\"255.4375\" y2=\"255.4375\"/></a><!--MD5=[b9389687b975829384b498ac4b7476b2]\n",
       "class E8--><a href=\"psysml:719c36a8-8fd6-40f5-b1aa-2a0e2714a310\" target=\"_top\" title=\"psysml:719c36a8-8fd6-40f5-b1aa-2a0e2714a310\" xlink:actuate=\"onRequest\" xlink:href=\"psysml:719c36a8-8fd6-40f5-b1aa-2a0e2714a310\" xlink:show=\"new\" xlink:title=\"psysml:719c36a8-8fd6-40f5-b1aa-2a0e2714a310\" xlink:type=\"simple\"><rect fill=\"#FFFFFF\" height=\"45.9375\" id=\"E8\" rx=\"10\" ry=\"10\" style=\"stroke: #383838; stroke-width: 1.5;\" width=\"71\" x=\"84.5\" y=\"87.5\"/><text fill=\"#000000\" font-family=\"sans-serif\" font-size=\"12\" font-style=\"italic\" lengthAdjust=\"spacingAndGlyphs\" textLength=\"69\" x=\"85.5\" y=\"103.6387\">«attribute»</text><text fill=\"#000000\" font-family=\"sans-serif\" font-size=\"12\" lengthAdjust=\"spacingAndGlyphs\" textLength=\"5\" x=\"117.5\" y=\"117.6074\">z</text><line style=\"stroke: #383838; stroke-width: 1.5;\" x1=\"85.5\" x2=\"154.5\" y1=\"125.4375\" y2=\"125.4375\"/></a><a href=\"psysml:f4739741-a5ef-49a4-9e06-4bb8a722f77e\" target=\"_top\" title=\"psysml:f4739741-a5ef-49a4-9e06-4bb8a722f77e\" xlink:actuate=\"onRequest\" xlink:href=\"psysml:f4739741-a5ef-49a4-9e06-4bb8a722f77e\" xlink:show=\"new\" xlink:title=\"psysml:f4739741-a5ef-49a4-9e06-4bb8a722f77e\" xlink:type=\"simple\"><polygon fill=\"#FFFFFF\" points=\"271,84,413,84,420,106.2969,427,106.2969,427,136.5938,271,136.5938,271,84\" style=\"stroke: #000000; stroke-width: 1.5;\"/><line style=\"stroke: #000000; stroke-width: 1.5;\" x1=\"271\" x2=\"420\" y1=\"106.2969\" y2=\"106.2969\"/><text fill=\"#000000\" font-family=\"sans-serif\" font-size=\"14\" font-weight=\"bold\" lengthAdjust=\"spacingAndGlyphs\" textLength=\"136\" x=\"275\" y=\"98.9951\">Application Layer</text></a><a href=\"psysml:e1090b77-2219-4e30-afea-75b6451d3a90\" target=\"_top\" title=\"psysml:e1090b77-2219-4e30-afea-75b6451d3a90\" xlink:actuate=\"onRequest\" xlink:href=\"psysml:e1090b77-2219-4e30-afea-75b6451d3a90\" xlink:show=\"new\" xlink:title=\"psysml:e1090b77-2219-4e30-afea-75b6451d3a90\" xlink:type=\"simple\"><polygon fill=\"#FFFFFF\" points=\"285,214,399,214,406,236.2969,413,236.2969,413,266.5938,285,266.5938,285,214\" style=\"stroke: #000000; stroke-width: 1.5;\"/><line style=\"stroke: #000000; stroke-width: 1.5;\" x1=\"285\" x2=\"406\" y1=\"236.2969\" y2=\"236.2969\"/><text fill=\"#000000\" font-family=\"sans-serif\" font-size=\"14\" font-weight=\"bold\" lengthAdjust=\"spacingAndGlyphs\" textLength=\"108\" x=\"289\" y=\"228.9951\">Service Layer</text></a><a href=\"psysml:fe465764-9ab4-44bf-be91-bd692232f0a1\" target=\"_top\" title=\"psysml:fe465764-9ab4-44bf-be91-bd692232f0a1\" xlink:actuate=\"onRequest\" xlink:href=\"psysml:fe465764-9ab4-44bf-be91-bd692232f0a1\" xlink:show=\"new\" xlink:title=\"psysml:fe465764-9ab4-44bf-be91-bd692232f0a1\" xlink:type=\"simple\"><polygon fill=\"#FFFFFF\" points=\"297,344,387,344,394,366.2969,401,366.2969,401,396.5938,297,396.5938,297,344\" style=\"stroke: #000000; stroke-width: 1.5;\"/><line style=\"stroke: #000000; stroke-width: 1.5;\" x1=\"297\" x2=\"394\" y1=\"366.2969\" y2=\"366.2969\"/><text fill=\"#000000\" font-family=\"sans-serif\" font-size=\"14\" font-weight=\"bold\" lengthAdjust=\"spacingAndGlyphs\" textLength=\"84\" x=\"301\" y=\"358.9951\">Data Layer</text></a><!--MD5=[af87c684e3b0d8be13c1a698a818ef1e]\n",
       "link E3 to E4--><a href=\"psysml:f18ad3d3-ddea-4435-b15e-701f5c4039de\" target=\"_top\" title=\"psysml:f18ad3d3-ddea-4435-b15e-701f5c4039de\" xlink:actuate=\"onRequest\" xlink:href=\"psysml:f18ad3d3-ddea-4435-b15e-701f5c4039de\" xlink:show=\"new\" xlink:title=\"psysml:f18ad3d3-ddea-4435-b15e-701f5c4039de\" xlink:type=\"simple\"><path d=\"M349,137.1 C349,156.8 349,184.22 349,205.73 \" fill=\"none\" id=\"E3-&gt;E4\" style=\"stroke: #383838; stroke-width: 1.0; stroke-dasharray: 7.0,7.0;\"/><polygon fill=\"#383838\" points=\"349,213.95,352,205.95,346,205.95,349,213.95\" style=\"stroke: #383838; stroke-width: 1.0;\"/><text fill=\"#000000\" font-family=\"sans-serif\" font-size=\"13\" lengthAdjust=\"spacingAndGlyphs\" textLength=\"64\" x=\"350\" y=\"180.0669\">«depend»</text></a><!--MD5=[1b7591eae5389033d8d09a9d6721a717]\n",
       "link E4 to E5--><a href=\"psysml:22e4e023-3d64-4f1c-8411-ecdb932522c7\" target=\"_top\" title=\"psysml:22e4e023-3d64-4f1c-8411-ecdb932522c7\" xlink:actuate=\"onRequest\" xlink:href=\"psysml:22e4e023-3d64-4f1c-8411-ecdb932522c7\" xlink:show=\"new\" xlink:title=\"psysml:22e4e023-3d64-4f1c-8411-ecdb932522c7\" xlink:type=\"simple\"><path d=\"M349,267.1 C349,286.8 349,314.22 349,335.73 \" fill=\"none\" id=\"E4-&gt;E5\" style=\"stroke: #383838; stroke-width: 1.0; stroke-dasharray: 7.0,7.0;\"/><polygon fill=\"#383838\" points=\"349,343.95,352,335.95,346,335.95,349,343.95\" style=\"stroke: #383838; stroke-width: 1.0;\"/><text fill=\"#000000\" font-family=\"sans-serif\" font-size=\"13\" lengthAdjust=\"spacingAndGlyphs\" textLength=\"64\" x=\"350\" y=\"310.0669\">«depend»</text></a><!--MD5=[c5e8897d989ce984f93528998a7150fe]\n",
       "link E8 to E6--><a href=\"psysml:01d1ab15-dda9-4157-a585-7877f2cc1d47\" target=\"_top\" title=\"psysml:01d1ab15-dda9-4157-a585-7877f2cc1d47\" xlink:actuate=\"onRequest\" xlink:href=\"psysml:01d1ab15-dda9-4157-a585-7877f2cc1d47\" xlink:show=\"new\" xlink:title=\"psysml:01d1ab15-dda9-4157-a585-7877f2cc1d47\" xlink:type=\"simple\"><path d=\"M97.55,133.75 C81.97,149.19 64,167 64,167 C64,167 64,184 64,184 C64,184 64.88,196.21 65.81,209.18 \" fill=\"none\" id=\"E8-&gt;E6\" style=\"stroke: #383838; stroke-width: 1.0; stroke-dasharray: 7.0,7.0;\"/><polygon fill=\"#383838\" points=\"66.4,217.25,68.8203,209.056,62.8357,209.485,66.4,217.25\" style=\"stroke: #383838; stroke-width: 1.0;\"/><text fill=\"#000000\" font-family=\"sans-serif\" font-size=\"13\" lengthAdjust=\"spacingAndGlyphs\" textLength=\"64\" x=\"65\" y=\"180.0669\">«depend»</text></a><!--MD5=[bfa3c8b0d15052fdf50ae9310b491027]\n",
       "link E8 to E7--><a href=\"psysml:01d1ab15-dda9-4157-a585-7877f2cc1d47\" target=\"_top\" title=\"psysml:01d1ab15-dda9-4157-a585-7877f2cc1d47\" xlink:actuate=\"onRequest\" xlink:href=\"psysml:01d1ab15-dda9-4157-a585-7877f2cc1d47\" xlink:show=\"new\" xlink:title=\"psysml:01d1ab15-dda9-4157-a585-7877f2cc1d47\" xlink:type=\"simple\"><path d=\"M129.28,133.5 C138.17,154.57 151.64,186.5 161.47,209.81 \" fill=\"none\" id=\"E8-&gt;E7\" style=\"stroke: #383838; stroke-width: 1.0; stroke-dasharray: 7.0,7.0;\"/><polygon fill=\"#383838\" points=\"164.66,217.35,164.3241,208.8126,158.7933,211.1385,164.66,217.35\" style=\"stroke: #383838; stroke-width: 1.0;\"/><text fill=\"#000000\" font-family=\"sans-serif\" font-size=\"13\" lengthAdjust=\"spacingAndGlyphs\" textLength=\"64\" x=\"151\" y=\"180.0669\">«depend»</text></a><!--MD5=[bc8e6f7caed978bd3c425ce357d6db98]\n",
       "@startuml\r\n",
       "skinparam linetype polyline\r\n",
       "skinparam monochrome true\r\n",
       "skinparam classbackgroundcolor white\r\n",
       "skinparam shadowing false\r\n",
       "skinparam wrapWidth 300\r\n",
       "hide circle\r\n",
       "\r\n",
       "package \"DependencyTest\" as E1  [[psysml:a0e63dae-583d-42a3-9f46-6e6177e563b1 ]]  {\r\n",
       "package \"System\" as E2  [[psysml:90630542-d1db-4cfe-a426-6fd5a6b42885 ]]  {\r\n",
       "package \"Application Layer\" as E3  [[psysml:f4739741-a5ef-49a4-9e06-4bb8a722f77e ]]  {\r\n",
       "}\r\n",
       "package \"Service Layer\" as E4  [[psysml:e1090b77-2219-4e30-afea-75b6451d3a90 ]]  {\r\n",
       "}\r\n",
       "package \"Data Layer\" as E5  [[psysml:fe465764-9ab4-44bf-be91-bd692232f0a1 ]]  {\r\n",
       "}\r\n",
       "}\r\n",
       "comp usage \"x\" as E6  <<(T,blue)attribute>> [[psysml:7440b603-2b18-4efb-9bf4-7832c56b919b ]] {\r\n",
       "}\r\n",
       "comp usage \"y\" as E7  <<(T,blue)attribute>> [[psysml:d907cb85-580b-45cd-b69d-b597f081eb5c ]] {\r\n",
       "}\r\n",
       "comp usage \"z\" as E8  <<(T,blue)attribute>> [[psysml:719c36a8-8fd6-40f5-b1aa-2a0e2714a310 ]] {\r\n",
       "}\r\n",
       "E3 ..>> E4 [[psysml:f18ad3d3-ddea-4435-b15e-701f5c4039de ]] : <<depend>>\r\n",
       "E4 ..>> E5 [[psysml:22e4e023-3d64-4f1c-8411-ecdb932522c7 ]] : <<depend>>\r\n",
       "E8 ..>> E6 [[psysml:01d1ab15-dda9-4157-a585-7877f2cc1d47 ]] : <<depend>>\r\n",
       "E8 ..>> E7 [[psysml:01d1ab15-dda9-4157-a585-7877f2cc1d47 ]] : <<depend>>\r\n",
       "}\r\n",
       "@enduml\r\n",
       "\n",
       "PlantUML version 1.2020.13(Sat Jun 13 12:26:38 UTC 2020)\n",
       "(EPL source distribution)\n",
       "Java Runtime: OpenJDK Runtime Environment\n",
       "JVM: OpenJDK 64-Bit Server VM\n",
       "Default Encoding: UTF-8\n",
       "Language: en\n",
       "Country: null\n",
       "--></g></svg>"
      ]
     },
     "execution_count": 9,
     "metadata": {},
     "output_type": "execute_result"
    }
   ],
   "source": [
    "%viz --style=\"POLYLINE\" --view=\"Default\" \"DependencyTest\""
   ]
  },
  {
   "cell_type": "code",
   "execution_count": 10,
   "id": "9b7c81a4",
   "metadata": {
    "execution": {
     "iopub.execute_input": "2021-04-21T20:26:05.286023Z",
     "iopub.status.busy": "2021-04-21T20:26:05.285568Z",
     "iopub.status.idle": "2021-04-21T20:26:05.346383Z",
     "shell.execute_reply": "2021-04-21T20:26:05.345122Z"
    }
   },
   "outputs": [
    {
     "data": {
      "image/svg+xml": [
       "<?xml version=\"1.0\" encoding=\"UTF-8\" standalone=\"no\"?><svg xmlns=\"http://www.w3.org/2000/svg\" xmlns:xlink=\"http://www.w3.org/1999/xlink\" contentScriptType=\"application/ecmascript\" contentStyleType=\"text/css\" height=\"449px\" preserveAspectRatio=\"none\" style=\"width:489px;height:449px;\" version=\"1.1\" viewBox=\"0 0 489 449\" width=\"489px\" zoomAndPan=\"magnify\"><defs/><g><!--MD5=[fbc87193dbaf4d95561dea2c320d4a47]\n",
       "cluster E1--><a href=\"psysml:a0e63dae-583d-42a3-9f46-6e6177e563b1\" target=\"_top\" title=\"psysml:a0e63dae-583d-42a3-9f46-6e6177e563b1\" xlink:actuate=\"onRequest\" xlink:href=\"psysml:a0e63dae-583d-42a3-9f46-6e6177e563b1\" xlink:show=\"new\" xlink:title=\"psysml:a0e63dae-583d-42a3-9f46-6e6177e563b1\" xlink:type=\"simple\"><polygon fill=\"#FFFFFF\" points=\"16,6,156,6,163,28.2969,467,28.2969,467,437,16,437,16,6\" style=\"stroke: #000000; stroke-width: 1.5;\"/><line style=\"stroke: #000000; stroke-width: 1.5;\" x1=\"16\" x2=\"163\" y1=\"28.2969\" y2=\"28.2969\"/><text fill=\"#000000\" font-family=\"sans-serif\" font-size=\"14\" font-weight=\"bold\" lengthAdjust=\"spacingAndGlyphs\" textLength=\"134\" x=\"20\" y=\"20.9951\">DependencyTest</text></a><!--MD5=[e4f7fae6ed58524ba242bb0b0d3be6b7]\n",
       "cluster E2--><a href=\"psysml:90630542-d1db-4cfe-a426-6fd5a6b42885\" target=\"_top\" title=\"psysml:90630542-d1db-4cfe-a426-6fd5a6b42885\" xlink:actuate=\"onRequest\" xlink:href=\"psysml:90630542-d1db-4cfe-a426-6fd5a6b42885\" xlink:show=\"new\" xlink:title=\"psysml:90630542-d1db-4cfe-a426-6fd5a6b42885\" xlink:type=\"simple\"><polygon fill=\"#FFFFFF\" points=\"255,49,319,49,326,71.2969,443,71.2969,443,413,255,413,255,49\" style=\"stroke: #000000; stroke-width: 1.5;\"/><line style=\"stroke: #000000; stroke-width: 1.5;\" x1=\"255\" x2=\"326\" y1=\"71.2969\" y2=\"71.2969\"/><text fill=\"#000000\" font-family=\"sans-serif\" font-size=\"14\" font-weight=\"bold\" lengthAdjust=\"spacingAndGlyphs\" textLength=\"58\" x=\"259\" y=\"63.9951\">System</text></a><!--MD5=[60a26617385b1d2d0262a64233df1f8d]\n",
       "class E6--><a href=\"psysml:7440b603-2b18-4efb-9bf4-7832c56b919b\" target=\"_top\" title=\"psysml:7440b603-2b18-4efb-9bf4-7832c56b919b\" xlink:actuate=\"onRequest\" xlink:href=\"psysml:7440b603-2b18-4efb-9bf4-7832c56b919b\" xlink:show=\"new\" xlink:title=\"psysml:7440b603-2b18-4efb-9bf4-7832c56b919b\" xlink:type=\"simple\"><rect fill=\"#FFFFFF\" height=\"45.9375\" id=\"E6\" rx=\"10\" ry=\"10\" style=\"stroke: #383838; stroke-width: 1.5;\" width=\"71\" x=\"32.5\" y=\"217.5\"/><text fill=\"#000000\" font-family=\"sans-serif\" font-size=\"12\" font-style=\"italic\" lengthAdjust=\"spacingAndGlyphs\" textLength=\"69\" x=\"33.5\" y=\"233.6387\">«attribute»</text><text fill=\"#000000\" font-family=\"sans-serif\" font-size=\"12\" lengthAdjust=\"spacingAndGlyphs\" textLength=\"6\" x=\"65\" y=\"247.6074\">x</text><line style=\"stroke: #383838; stroke-width: 1.5;\" x1=\"33.5\" x2=\"102.5\" y1=\"255.4375\" y2=\"255.4375\"/></a><!--MD5=[2156ba9850f5573cc1fc38a6a4b2f02b]\n",
       "class E7--><a href=\"psysml:d907cb85-580b-45cd-b69d-b597f081eb5c\" target=\"_top\" title=\"psysml:d907cb85-580b-45cd-b69d-b597f081eb5c\" xlink:actuate=\"onRequest\" xlink:href=\"psysml:d907cb85-580b-45cd-b69d-b597f081eb5c\" xlink:show=\"new\" xlink:title=\"psysml:d907cb85-580b-45cd-b69d-b597f081eb5c\" xlink:type=\"simple\"><rect fill=\"#FFFFFF\" height=\"45.9375\" id=\"E7\" rx=\"10\" ry=\"10\" style=\"stroke: #383838; stroke-width: 1.5;\" width=\"71\" x=\"138.5\" y=\"217.5\"/><text fill=\"#000000\" font-family=\"sans-serif\" font-size=\"12\" font-style=\"italic\" lengthAdjust=\"spacingAndGlyphs\" textLength=\"69\" x=\"139.5\" y=\"233.6387\">«attribute»</text><text fill=\"#000000\" font-family=\"sans-serif\" font-size=\"12\" lengthAdjust=\"spacingAndGlyphs\" textLength=\"6\" x=\"171\" y=\"247.6074\">y</text><line style=\"stroke: #383838; stroke-width: 1.5;\" x1=\"139.5\" x2=\"208.5\" y1=\"255.4375\" y2=\"255.4375\"/></a><!--MD5=[b9389687b975829384b498ac4b7476b2]\n",
       "class E8--><a href=\"psysml:719c36a8-8fd6-40f5-b1aa-2a0e2714a310\" target=\"_top\" title=\"psysml:719c36a8-8fd6-40f5-b1aa-2a0e2714a310\" xlink:actuate=\"onRequest\" xlink:href=\"psysml:719c36a8-8fd6-40f5-b1aa-2a0e2714a310\" xlink:show=\"new\" xlink:title=\"psysml:719c36a8-8fd6-40f5-b1aa-2a0e2714a310\" xlink:type=\"simple\"><rect fill=\"#FFFFFF\" height=\"45.9375\" id=\"E8\" rx=\"10\" ry=\"10\" style=\"stroke: #383838; stroke-width: 1.5;\" width=\"71\" x=\"84.5\" y=\"87.5\"/><text fill=\"#000000\" font-family=\"sans-serif\" font-size=\"12\" font-style=\"italic\" lengthAdjust=\"spacingAndGlyphs\" textLength=\"69\" x=\"85.5\" y=\"103.6387\">«attribute»</text><text fill=\"#000000\" font-family=\"sans-serif\" font-size=\"12\" lengthAdjust=\"spacingAndGlyphs\" textLength=\"5\" x=\"117.5\" y=\"117.6074\">z</text><line style=\"stroke: #383838; stroke-width: 1.5;\" x1=\"85.5\" x2=\"154.5\" y1=\"125.4375\" y2=\"125.4375\"/></a><a href=\"psysml:f4739741-a5ef-49a4-9e06-4bb8a722f77e\" target=\"_top\" title=\"psysml:f4739741-a5ef-49a4-9e06-4bb8a722f77e\" xlink:actuate=\"onRequest\" xlink:href=\"psysml:f4739741-a5ef-49a4-9e06-4bb8a722f77e\" xlink:show=\"new\" xlink:title=\"psysml:f4739741-a5ef-49a4-9e06-4bb8a722f77e\" xlink:type=\"simple\"><polygon fill=\"#FFFFFF\" points=\"271,84,413,84,420,106.2969,427,106.2969,427,136.5938,271,136.5938,271,84\" style=\"stroke: #000000; stroke-width: 1.5;\"/><line style=\"stroke: #000000; stroke-width: 1.5;\" x1=\"271\" x2=\"420\" y1=\"106.2969\" y2=\"106.2969\"/><text fill=\"#000000\" font-family=\"sans-serif\" font-size=\"14\" font-weight=\"bold\" lengthAdjust=\"spacingAndGlyphs\" textLength=\"136\" x=\"275\" y=\"98.9951\">Application Layer</text></a><a href=\"psysml:e1090b77-2219-4e30-afea-75b6451d3a90\" target=\"_top\" title=\"psysml:e1090b77-2219-4e30-afea-75b6451d3a90\" xlink:actuate=\"onRequest\" xlink:href=\"psysml:e1090b77-2219-4e30-afea-75b6451d3a90\" xlink:show=\"new\" xlink:title=\"psysml:e1090b77-2219-4e30-afea-75b6451d3a90\" xlink:type=\"simple\"><polygon fill=\"#FFFFFF\" points=\"285,214,399,214,406,236.2969,413,236.2969,413,266.5938,285,266.5938,285,214\" style=\"stroke: #000000; stroke-width: 1.5;\"/><line style=\"stroke: #000000; stroke-width: 1.5;\" x1=\"285\" x2=\"406\" y1=\"236.2969\" y2=\"236.2969\"/><text fill=\"#000000\" font-family=\"sans-serif\" font-size=\"14\" font-weight=\"bold\" lengthAdjust=\"spacingAndGlyphs\" textLength=\"108\" x=\"289\" y=\"228.9951\">Service Layer</text></a><a href=\"psysml:fe465764-9ab4-44bf-be91-bd692232f0a1\" target=\"_top\" title=\"psysml:fe465764-9ab4-44bf-be91-bd692232f0a1\" xlink:actuate=\"onRequest\" xlink:href=\"psysml:fe465764-9ab4-44bf-be91-bd692232f0a1\" xlink:show=\"new\" xlink:title=\"psysml:fe465764-9ab4-44bf-be91-bd692232f0a1\" xlink:type=\"simple\"><polygon fill=\"#FFFFFF\" points=\"297,344,387,344,394,366.2969,401,366.2969,401,396.5938,297,396.5938,297,344\" style=\"stroke: #000000; stroke-width: 1.5;\"/><line style=\"stroke: #000000; stroke-width: 1.5;\" x1=\"297\" x2=\"394\" y1=\"366.2969\" y2=\"366.2969\"/><text fill=\"#000000\" font-family=\"sans-serif\" font-size=\"14\" font-weight=\"bold\" lengthAdjust=\"spacingAndGlyphs\" textLength=\"84\" x=\"301\" y=\"358.9951\">Data Layer</text></a><!--MD5=[af87c684e3b0d8be13c1a698a818ef1e]\n",
       "link E3 to E4--><a href=\"psysml:f18ad3d3-ddea-4435-b15e-701f5c4039de\" target=\"_top\" title=\"psysml:f18ad3d3-ddea-4435-b15e-701f5c4039de\" xlink:actuate=\"onRequest\" xlink:href=\"psysml:f18ad3d3-ddea-4435-b15e-701f5c4039de\" xlink:show=\"new\" xlink:title=\"psysml:f18ad3d3-ddea-4435-b15e-701f5c4039de\" xlink:type=\"simple\"><path d=\"M349,137.1 C349,156.8 349,184.22 349,205.73 \" fill=\"none\" id=\"E3-&gt;E4\" style=\"stroke: #383838; stroke-width: 1.0; stroke-dasharray: 7.0,7.0;\"/><polygon fill=\"#383838\" points=\"349,213.95,352,205.95,346,205.95,349,213.95\" style=\"stroke: #383838; stroke-width: 1.0;\"/><text fill=\"#000000\" font-family=\"sans-serif\" font-size=\"13\" lengthAdjust=\"spacingAndGlyphs\" textLength=\"64\" x=\"350\" y=\"180.0669\">«depend»</text></a><!--MD5=[1b7591eae5389033d8d09a9d6721a717]\n",
       "link E4 to E5--><a href=\"psysml:22e4e023-3d64-4f1c-8411-ecdb932522c7\" target=\"_top\" title=\"psysml:22e4e023-3d64-4f1c-8411-ecdb932522c7\" xlink:actuate=\"onRequest\" xlink:href=\"psysml:22e4e023-3d64-4f1c-8411-ecdb932522c7\" xlink:show=\"new\" xlink:title=\"psysml:22e4e023-3d64-4f1c-8411-ecdb932522c7\" xlink:type=\"simple\"><path d=\"M349,267.1 C349,286.8 349,314.22 349,335.73 \" fill=\"none\" id=\"E4-&gt;E5\" style=\"stroke: #383838; stroke-width: 1.0; stroke-dasharray: 7.0,7.0;\"/><polygon fill=\"#383838\" points=\"349,343.95,352,335.95,346,335.95,349,343.95\" style=\"stroke: #383838; stroke-width: 1.0;\"/><text fill=\"#000000\" font-family=\"sans-serif\" font-size=\"13\" lengthAdjust=\"spacingAndGlyphs\" textLength=\"64\" x=\"350\" y=\"310.0669\">«depend»</text></a><!--MD5=[c5e8897d989ce984f93528998a7150fe]\n",
       "link E8 to E6--><a href=\"psysml:01d1ab15-dda9-4157-a585-7877f2cc1d47\" target=\"_top\" title=\"psysml:01d1ab15-dda9-4157-a585-7877f2cc1d47\" xlink:actuate=\"onRequest\" xlink:href=\"psysml:01d1ab15-dda9-4157-a585-7877f2cc1d47\" xlink:show=\"new\" xlink:title=\"psysml:01d1ab15-dda9-4157-a585-7877f2cc1d47\" xlink:type=\"simple\"><path d=\"M97.55,133.75 C81.97,149.19 64,167 64,167 C64,167 64,184 64,184 C64,184 64.88,196.21 65.81,209.18 \" fill=\"none\" id=\"E8-&gt;E6\" style=\"stroke: #383838; stroke-width: 1.0; stroke-dasharray: 7.0,7.0;\"/><polygon fill=\"#383838\" points=\"66.4,217.25,68.8203,209.056,62.8357,209.485,66.4,217.25\" style=\"stroke: #383838; stroke-width: 1.0;\"/><text fill=\"#000000\" font-family=\"sans-serif\" font-size=\"13\" lengthAdjust=\"spacingAndGlyphs\" textLength=\"64\" x=\"65\" y=\"180.0669\">«depend»</text></a><!--MD5=[bfa3c8b0d15052fdf50ae9310b491027]\n",
       "link E8 to E7--><a href=\"psysml:01d1ab15-dda9-4157-a585-7877f2cc1d47\" target=\"_top\" title=\"psysml:01d1ab15-dda9-4157-a585-7877f2cc1d47\" xlink:actuate=\"onRequest\" xlink:href=\"psysml:01d1ab15-dda9-4157-a585-7877f2cc1d47\" xlink:show=\"new\" xlink:title=\"psysml:01d1ab15-dda9-4157-a585-7877f2cc1d47\" xlink:type=\"simple\"><path d=\"M129.28,133.5 C138.17,154.57 151.64,186.5 161.47,209.81 \" fill=\"none\" id=\"E8-&gt;E7\" style=\"stroke: #383838; stroke-width: 1.0; stroke-dasharray: 7.0,7.0;\"/><polygon fill=\"#383838\" points=\"164.66,217.35,164.3241,208.8126,158.7933,211.1385,164.66,217.35\" style=\"stroke: #383838; stroke-width: 1.0;\"/><text fill=\"#000000\" font-family=\"sans-serif\" font-size=\"13\" lengthAdjust=\"spacingAndGlyphs\" textLength=\"64\" x=\"151\" y=\"180.0669\">«depend»</text></a><!--MD5=[bc8e6f7caed978bd3c425ce357d6db98]\n",
       "@startuml\r\n",
       "skinparam linetype polyline\r\n",
       "skinparam monochrome true\r\n",
       "skinparam classbackgroundcolor white\r\n",
       "skinparam shadowing false\r\n",
       "skinparam wrapWidth 300\r\n",
       "hide circle\r\n",
       "\r\n",
       "package \"DependencyTest\" as E1  [[psysml:a0e63dae-583d-42a3-9f46-6e6177e563b1 ]]  {\r\n",
       "package \"System\" as E2  [[psysml:90630542-d1db-4cfe-a426-6fd5a6b42885 ]]  {\r\n",
       "package \"Application Layer\" as E3  [[psysml:f4739741-a5ef-49a4-9e06-4bb8a722f77e ]]  {\r\n",
       "}\r\n",
       "package \"Service Layer\" as E4  [[psysml:e1090b77-2219-4e30-afea-75b6451d3a90 ]]  {\r\n",
       "}\r\n",
       "package \"Data Layer\" as E5  [[psysml:fe465764-9ab4-44bf-be91-bd692232f0a1 ]]  {\r\n",
       "}\r\n",
       "}\r\n",
       "comp usage \"x\" as E6  <<(T,blue)attribute>> [[psysml:7440b603-2b18-4efb-9bf4-7832c56b919b ]] {\r\n",
       "}\r\n",
       "comp usage \"y\" as E7  <<(T,blue)attribute>> [[psysml:d907cb85-580b-45cd-b69d-b597f081eb5c ]] {\r\n",
       "}\r\n",
       "comp usage \"z\" as E8  <<(T,blue)attribute>> [[psysml:719c36a8-8fd6-40f5-b1aa-2a0e2714a310 ]] {\r\n",
       "}\r\n",
       "E3 ..>> E4 [[psysml:f18ad3d3-ddea-4435-b15e-701f5c4039de ]] : <<depend>>\r\n",
       "E4 ..>> E5 [[psysml:22e4e023-3d64-4f1c-8411-ecdb932522c7 ]] : <<depend>>\r\n",
       "E8 ..>> E6 [[psysml:01d1ab15-dda9-4157-a585-7877f2cc1d47 ]] : <<depend>>\r\n",
       "E8 ..>> E7 [[psysml:01d1ab15-dda9-4157-a585-7877f2cc1d47 ]] : <<depend>>\r\n",
       "}\r\n",
       "@enduml\r\n",
       "\n",
       "PlantUML version 1.2020.13(Sat Jun 13 12:26:38 UTC 2020)\n",
       "(EPL source distribution)\n",
       "Java Runtime: OpenJDK Runtime Environment\n",
       "JVM: OpenJDK 64-Bit Server VM\n",
       "Default Encoding: UTF-8\n",
       "Language: en\n",
       "Country: null\n",
       "--></g></svg>"
      ]
     },
     "execution_count": 10,
     "metadata": {},
     "output_type": "execute_result"
    }
   ],
   "source": [
    "%viz --style=\"POLYLINE\" --view=\"Tree\" \"DependencyTest\""
   ]
  },
  {
   "cell_type": "code",
   "execution_count": 11,
   "id": "fef26963",
   "metadata": {
    "execution": {
     "iopub.execute_input": "2021-04-21T20:26:05.398271Z",
     "iopub.status.busy": "2021-04-21T20:26:05.397494Z",
     "iopub.status.idle": "2021-04-21T20:26:05.405819Z",
     "shell.execute_reply": "2021-04-21T20:26:05.405269Z"
    }
   },
   "outputs": [
    {
     "data": {
      "image/svg+xml": [
       "<?xml version=\"1.0\" encoding=\"UTF-8\" standalone=\"no\"?><svg xmlns=\"http://www.w3.org/2000/svg\" xmlns:xlink=\"http://www.w3.org/1999/xlink\" contentScriptType=\"application/ecmascript\" contentStyleType=\"text/css\" height=\"12px\" preserveAspectRatio=\"none\" style=\"width:12px;height:12px;\" version=\"1.1\" viewBox=\"0 0 12 12\" width=\"12px\" zoomAndPan=\"magnify\"><defs/><g><!--MD5=[896ac0e7a515d8dd7765a661cb4ee08b]\n",
       "@startuml\r\n",
       "skinparam linetype polyline\r\n",
       "skinparam monochrome true\r\n",
       "skinparam classbackgroundcolor white\r\n",
       "skinparam shadowing false\r\n",
       "skinparam wrapWidth 300\r\n",
       "hide circle\r\n",
       "\r\n",
       "@enduml\r\n",
       "\n",
       "PlantUML version 1.2020.13(Sat Jun 13 12:26:38 UTC 2020)\n",
       "(EPL source distribution)\n",
       "Java Runtime: OpenJDK Runtime Environment\n",
       "JVM: OpenJDK 64-Bit Server VM\n",
       "Default Encoding: UTF-8\n",
       "Language: en\n",
       "Country: null\n",
       "--></g></svg>"
      ]
     },
     "execution_count": 11,
     "metadata": {},
     "output_type": "execute_result"
    }
   ],
   "source": [
    "%viz --style=\"POLYLINE\" --view=\"State\" \"DependencyTest\""
   ]
  },
  {
   "cell_type": "code",
   "execution_count": 12,
   "id": "e2d220b5",
   "metadata": {
    "execution": {
     "iopub.execute_input": "2021-04-21T20:26:05.455957Z",
     "iopub.status.busy": "2021-04-21T20:26:05.455173Z",
     "iopub.status.idle": "2021-04-21T20:26:05.503987Z",
     "shell.execute_reply": "2021-04-21T20:26:05.501585Z"
    }
   },
   "outputs": [
    {
     "data": {
      "image/svg+xml": [
       "<?xml version=\"1.0\" encoding=\"UTF-8\" standalone=\"no\"?><svg xmlns=\"http://www.w3.org/2000/svg\" xmlns:xlink=\"http://www.w3.org/1999/xlink\" contentScriptType=\"application/ecmascript\" contentStyleType=\"text/css\" height=\"361px\" preserveAspectRatio=\"none\" style=\"width:489px;height:361px;\" version=\"1.1\" viewBox=\"0 0 489 361\" width=\"489px\" zoomAndPan=\"magnify\"><defs/><g><!--MD5=[fbc87193dbaf4d95561dea2c320d4a47]\n",
       "cluster E1--><a href=\"psysml:a0e63dae-583d-42a3-9f46-6e6177e563b1\" target=\"_top\" title=\"psysml:a0e63dae-583d-42a3-9f46-6e6177e563b1\" xlink:actuate=\"onRequest\" xlink:href=\"psysml:a0e63dae-583d-42a3-9f46-6e6177e563b1\" xlink:show=\"new\" xlink:title=\"psysml:a0e63dae-583d-42a3-9f46-6e6177e563b1\" xlink:type=\"simple\"><polygon fill=\"#FFFFFF\" points=\"16,6,156,6,163,28.2969,467,28.2969,467,349,16,349,16,6\" style=\"stroke: #000000; stroke-width: 1.5;\"/><line style=\"stroke: #000000; stroke-width: 1.5;\" x1=\"16\" x2=\"163\" y1=\"28.2969\" y2=\"28.2969\"/><text fill=\"#000000\" font-family=\"sans-serif\" font-size=\"14\" font-weight=\"bold\" lengthAdjust=\"spacingAndGlyphs\" textLength=\"134\" x=\"20\" y=\"20.9951\">DependencyTest</text></a><!--MD5=[e4f7fae6ed58524ba242bb0b0d3be6b7]\n",
       "cluster E2--><a href=\"psysml:90630542-d1db-4cfe-a426-6fd5a6b42885\" target=\"_top\" title=\"psysml:90630542-d1db-4cfe-a426-6fd5a6b42885\" xlink:actuate=\"onRequest\" xlink:href=\"psysml:90630542-d1db-4cfe-a426-6fd5a6b42885\" xlink:show=\"new\" xlink:title=\"psysml:90630542-d1db-4cfe-a426-6fd5a6b42885\" xlink:type=\"simple\"><polygon fill=\"#FFFFFF\" points=\"255,49,319,49,326,71.2969,443,71.2969,443,325,255,325,255,49\" style=\"stroke: #000000; stroke-width: 1.5;\"/><line style=\"stroke: #000000; stroke-width: 1.5;\" x1=\"255\" x2=\"326\" y1=\"71.2969\" y2=\"71.2969\"/><text fill=\"#000000\" font-family=\"sans-serif\" font-size=\"14\" font-weight=\"bold\" lengthAdjust=\"spacingAndGlyphs\" textLength=\"58\" x=\"259\" y=\"63.9951\">System</text></a><!--MD5=[60a26617385b1d2d0262a64233df1f8d]\n",
       "class E6--><a href=\"psysml:7440b603-2b18-4efb-9bf4-7832c56b919b\" target=\"_top\" title=\"psysml:7440b603-2b18-4efb-9bf4-7832c56b919b\" xlink:actuate=\"onRequest\" xlink:href=\"psysml:7440b603-2b18-4efb-9bf4-7832c56b919b\" xlink:show=\"new\" xlink:title=\"psysml:7440b603-2b18-4efb-9bf4-7832c56b919b\" xlink:type=\"simple\"><rect fill=\"#FFFFFF\" height=\"45.9375\" id=\"E6\" rx=\"10\" ry=\"10\" style=\"stroke: #383838; stroke-width: 1.5;\" width=\"71\" x=\"32.5\" y=\"173.5\"/><text fill=\"#000000\" font-family=\"sans-serif\" font-size=\"12\" font-style=\"italic\" lengthAdjust=\"spacingAndGlyphs\" textLength=\"69\" x=\"33.5\" y=\"189.6387\">«attribute»</text><text fill=\"#000000\" font-family=\"sans-serif\" font-size=\"12\" lengthAdjust=\"spacingAndGlyphs\" textLength=\"6\" x=\"65\" y=\"203.6074\">x</text><line style=\"stroke: #383838; stroke-width: 1.5;\" x1=\"33.5\" x2=\"102.5\" y1=\"211.4375\" y2=\"211.4375\"/></a><!--MD5=[2156ba9850f5573cc1fc38a6a4b2f02b]\n",
       "class E7--><a href=\"psysml:d907cb85-580b-45cd-b69d-b597f081eb5c\" target=\"_top\" title=\"psysml:d907cb85-580b-45cd-b69d-b597f081eb5c\" xlink:actuate=\"onRequest\" xlink:href=\"psysml:d907cb85-580b-45cd-b69d-b597f081eb5c\" xlink:show=\"new\" xlink:title=\"psysml:d907cb85-580b-45cd-b69d-b597f081eb5c\" xlink:type=\"simple\"><rect fill=\"#FFFFFF\" height=\"45.9375\" id=\"E7\" rx=\"10\" ry=\"10\" style=\"stroke: #383838; stroke-width: 1.5;\" width=\"71\" x=\"138.5\" y=\"173.5\"/><text fill=\"#000000\" font-family=\"sans-serif\" font-size=\"12\" font-style=\"italic\" lengthAdjust=\"spacingAndGlyphs\" textLength=\"69\" x=\"139.5\" y=\"189.6387\">«attribute»</text><text fill=\"#000000\" font-family=\"sans-serif\" font-size=\"12\" lengthAdjust=\"spacingAndGlyphs\" textLength=\"6\" x=\"171\" y=\"203.6074\">y</text><line style=\"stroke: #383838; stroke-width: 1.5;\" x1=\"139.5\" x2=\"208.5\" y1=\"211.4375\" y2=\"211.4375\"/></a><!--MD5=[b9389687b975829384b498ac4b7476b2]\n",
       "class E8--><a href=\"psysml:719c36a8-8fd6-40f5-b1aa-2a0e2714a310\" target=\"_top\" title=\"psysml:719c36a8-8fd6-40f5-b1aa-2a0e2714a310\" xlink:actuate=\"onRequest\" xlink:href=\"psysml:719c36a8-8fd6-40f5-b1aa-2a0e2714a310\" xlink:show=\"new\" xlink:title=\"psysml:719c36a8-8fd6-40f5-b1aa-2a0e2714a310\" xlink:type=\"simple\"><rect fill=\"#FFFFFF\" height=\"45.9375\" id=\"E8\" rx=\"10\" ry=\"10\" style=\"stroke: #383838; stroke-width: 1.5;\" width=\"71\" x=\"84.5\" y=\"87.5\"/><text fill=\"#000000\" font-family=\"sans-serif\" font-size=\"12\" font-style=\"italic\" lengthAdjust=\"spacingAndGlyphs\" textLength=\"69\" x=\"85.5\" y=\"103.6387\">«attribute»</text><text fill=\"#000000\" font-family=\"sans-serif\" font-size=\"12\" lengthAdjust=\"spacingAndGlyphs\" textLength=\"5\" x=\"117.5\" y=\"117.6074\">z</text><line style=\"stroke: #383838; stroke-width: 1.5;\" x1=\"85.5\" x2=\"154.5\" y1=\"125.4375\" y2=\"125.4375\"/></a><a href=\"psysml:f4739741-a5ef-49a4-9e06-4bb8a722f77e\" target=\"_top\" title=\"psysml:f4739741-a5ef-49a4-9e06-4bb8a722f77e\" xlink:actuate=\"onRequest\" xlink:href=\"psysml:f4739741-a5ef-49a4-9e06-4bb8a722f77e\" xlink:show=\"new\" xlink:title=\"psysml:f4739741-a5ef-49a4-9e06-4bb8a722f77e\" xlink:type=\"simple\"><polygon fill=\"#FFFFFF\" points=\"271,84,413,84,420,106.2969,427,106.2969,427,136.5938,271,136.5938,271,84\" style=\"stroke: #000000; stroke-width: 1.5;\"/><line style=\"stroke: #000000; stroke-width: 1.5;\" x1=\"271\" x2=\"420\" y1=\"106.2969\" y2=\"106.2969\"/><text fill=\"#000000\" font-family=\"sans-serif\" font-size=\"14\" font-weight=\"bold\" lengthAdjust=\"spacingAndGlyphs\" textLength=\"136\" x=\"275\" y=\"98.9951\">Application Layer</text></a><a href=\"psysml:e1090b77-2219-4e30-afea-75b6451d3a90\" target=\"_top\" title=\"psysml:e1090b77-2219-4e30-afea-75b6451d3a90\" xlink:actuate=\"onRequest\" xlink:href=\"psysml:e1090b77-2219-4e30-afea-75b6451d3a90\" xlink:show=\"new\" xlink:title=\"psysml:e1090b77-2219-4e30-afea-75b6451d3a90\" xlink:type=\"simple\"><polygon fill=\"#FFFFFF\" points=\"285,170,399,170,406,192.2969,413,192.2969,413,222.5938,285,222.5938,285,170\" style=\"stroke: #000000; stroke-width: 1.5;\"/><line style=\"stroke: #000000; stroke-width: 1.5;\" x1=\"285\" x2=\"406\" y1=\"192.2969\" y2=\"192.2969\"/><text fill=\"#000000\" font-family=\"sans-serif\" font-size=\"14\" font-weight=\"bold\" lengthAdjust=\"spacingAndGlyphs\" textLength=\"108\" x=\"289\" y=\"184.9951\">Service Layer</text></a><a href=\"psysml:fe465764-9ab4-44bf-be91-bd692232f0a1\" target=\"_top\" title=\"psysml:fe465764-9ab4-44bf-be91-bd692232f0a1\" xlink:actuate=\"onRequest\" xlink:href=\"psysml:fe465764-9ab4-44bf-be91-bd692232f0a1\" xlink:show=\"new\" xlink:title=\"psysml:fe465764-9ab4-44bf-be91-bd692232f0a1\" xlink:type=\"simple\"><polygon fill=\"#FFFFFF\" points=\"297,256,387,256,394,278.2969,401,278.2969,401,308.5938,297,308.5938,297,256\" style=\"stroke: #000000; stroke-width: 1.5;\"/><line style=\"stroke: #000000; stroke-width: 1.5;\" x1=\"297\" x2=\"394\" y1=\"278.2969\" y2=\"278.2969\"/><text fill=\"#000000\" font-family=\"sans-serif\" font-size=\"14\" font-weight=\"bold\" lengthAdjust=\"spacingAndGlyphs\" textLength=\"84\" x=\"301\" y=\"270.9951\">Data Layer</text></a><!--MD5=[af87c684e3b0d8be13c1a698a818ef1e]\n",
       "link E3 to E4--><a href=\"psysml:f18ad3d3-ddea-4435-b15e-701f5c4039de\" target=\"_top\" title=\"psysml:f18ad3d3-ddea-4435-b15e-701f5c4039de\" xlink:actuate=\"onRequest\" xlink:href=\"psysml:f18ad3d3-ddea-4435-b15e-701f5c4039de\" xlink:show=\"new\" xlink:title=\"psysml:f18ad3d3-ddea-4435-b15e-701f5c4039de\" xlink:type=\"simple\"><path d=\"M349,137.16 C349,144.98 349,153.69 349,161.94 \" fill=\"none\" id=\"E3-&gt;E4\" style=\"stroke: #383838; stroke-width: 1.0; stroke-dasharray: 7.0,7.0;\"/><polygon fill=\"#383838\" points=\"349,170,352,162,346,162,349,170\" style=\"stroke: #383838; stroke-width: 1.0;\"/><text fill=\"#000000\" font-family=\"sans-serif\" font-size=\"13\" lengthAdjust=\"spacingAndGlyphs\" textLength=\"64\" x=\"350\" y=\"158.0669\">«depend»</text></a><!--MD5=[1b7591eae5389033d8d09a9d6721a717]\n",
       "link E4 to E5--><a href=\"psysml:22e4e023-3d64-4f1c-8411-ecdb932522c7\" target=\"_top\" title=\"psysml:22e4e023-3d64-4f1c-8411-ecdb932522c7\" xlink:actuate=\"onRequest\" xlink:href=\"psysml:22e4e023-3d64-4f1c-8411-ecdb932522c7\" xlink:show=\"new\" xlink:title=\"psysml:22e4e023-3d64-4f1c-8411-ecdb932522c7\" xlink:type=\"simple\"><path d=\"M349,223.16 C349,230.98 349,239.69 349,247.94 \" fill=\"none\" id=\"E4-&gt;E5\" style=\"stroke: #383838; stroke-width: 1.0; stroke-dasharray: 7.0,7.0;\"/><polygon fill=\"#383838\" points=\"349,256,352,248,346,248,349,256\" style=\"stroke: #383838; stroke-width: 1.0;\"/><text fill=\"#000000\" font-family=\"sans-serif\" font-size=\"13\" lengthAdjust=\"spacingAndGlyphs\" textLength=\"64\" x=\"350\" y=\"244.0669\">«depend»</text></a><!--MD5=[c5e8897d989ce984f93528998a7150fe]\n",
       "link E8 to E6--><a href=\"psysml:01d1ab15-dda9-4157-a585-7877f2cc1d47\" target=\"_top\" title=\"psysml:01d1ab15-dda9-4157-a585-7877f2cc1d47\" xlink:actuate=\"onRequest\" xlink:href=\"psysml:01d1ab15-dda9-4157-a585-7877f2cc1d47\" xlink:show=\"new\" xlink:title=\"psysml:01d1ab15-dda9-4157-a585-7877f2cc1d47\" xlink:type=\"simple\"><path d=\"M84.22,132.91 C73.24,139.47 64,145 64,145 C64,145 64,162 64,162 C64,162 64.15,163.28 64.4,165.33 \" fill=\"none\" id=\"E8-&gt;E6\" style=\"stroke: #383838; stroke-width: 1.0; stroke-dasharray: 7.0,7.0;\"/><polygon fill=\"#383838\" points=\"65.35,173.34,67.3861,165.0421,61.4279,165.7494,65.35,173.34\" style=\"stroke: #383838; stroke-width: 1.0;\"/><text fill=\"#000000\" font-family=\"sans-serif\" font-size=\"13\" lengthAdjust=\"spacingAndGlyphs\" textLength=\"64\" x=\"65\" y=\"158.0669\">«depend»</text></a><!--MD5=[bfa3c8b0d15052fdf50ae9310b491027]\n",
       "link E8 to E7--><a href=\"psysml:01d1ab15-dda9-4157-a585-7877f2cc1d47\" target=\"_top\" title=\"psysml:01d1ab15-dda9-4157-a585-7877f2cc1d47\" xlink:actuate=\"onRequest\" xlink:href=\"psysml:01d1ab15-dda9-4157-a585-7877f2cc1d47\" xlink:show=\"new\" xlink:title=\"psysml:01d1ab15-dda9-4157-a585-7877f2cc1d47\" xlink:type=\"simple\"><path d=\"M134.19,133.57 C140.65,143.62 148.38,155.65 155.31,166.42 \" fill=\"none\" id=\"E8-&gt;E7\" style=\"stroke: #383838; stroke-width: 1.0; stroke-dasharray: 7.0,7.0;\"/><polygon fill=\"#383838\" points=\"159.72,173.29,157.9148,164.9389,152.8688,168.185,159.72,173.29\" style=\"stroke: #383838; stroke-width: 1.0;\"/><text fill=\"#000000\" font-family=\"sans-serif\" font-size=\"13\" lengthAdjust=\"spacingAndGlyphs\" textLength=\"64\" x=\"152\" y=\"158.0669\">«depend»</text></a><!--MD5=[43b70db3d8e02d7ea511b0f590a5e1d8]\n",
       "@startuml\r\n",
       "skinparam ranksep 10\r\n",
       "skinparam rectangle {\r\n",
       " backgroundColor<<block>> LightGreen\r\n",
       "}\r\n",
       "skinparam linetype polyline\r\n",
       "skinparam monochrome true\r\n",
       "skinparam classbackgroundcolor white\r\n",
       "skinparam shadowing false\r\n",
       "skinparam wrapWidth 300\r\n",
       "hide circle\r\n",
       "\r\n",
       "package \"DependencyTest\" as E1  [[psysml:a0e63dae-583d-42a3-9f46-6e6177e563b1 ]]  {\r\n",
       "package \"System\" as E2  [[psysml:90630542-d1db-4cfe-a426-6fd5a6b42885 ]]  {\r\n",
       "package \"Application Layer\" as E3  [[psysml:f4739741-a5ef-49a4-9e06-4bb8a722f77e ]]  {\r\n",
       "}\r\n",
       "package \"Service Layer\" as E4  [[psysml:e1090b77-2219-4e30-afea-75b6451d3a90 ]]  {\r\n",
       "}\r\n",
       "package \"Data Layer\" as E5  [[psysml:fe465764-9ab4-44bf-be91-bd692232f0a1 ]]  {\r\n",
       "}\r\n",
       "}\r\n",
       "comp usage \"x\" as E6  <<(T,blue)attribute>> [[psysml:7440b603-2b18-4efb-9bf4-7832c56b919b ]] {\r\n",
       "}\r\n",
       "comp usage \"y\" as E7  <<(T,blue)attribute>> [[psysml:d907cb85-580b-45cd-b69d-b597f081eb5c ]] {\r\n",
       "}\r\n",
       "comp usage \"z\" as E8  <<(T,blue)attribute>> [[psysml:719c36a8-8fd6-40f5-b1aa-2a0e2714a310 ]] {\r\n",
       "}\r\n",
       "E3 ..>> E4 [[psysml:f18ad3d3-ddea-4435-b15e-701f5c4039de ]] : <<depend>>\r\n",
       "E4 ..>> E5 [[psysml:22e4e023-3d64-4f1c-8411-ecdb932522c7 ]] : <<depend>>\r\n",
       "E8 ..>> E6 [[psysml:01d1ab15-dda9-4157-a585-7877f2cc1d47 ]] : <<depend>>\r\n",
       "E8 ..>> E7 [[psysml:01d1ab15-dda9-4157-a585-7877f2cc1d47 ]] : <<depend>>\r\n",
       "}\r\n",
       "@enduml\r\n",
       "\n",
       "PlantUML version 1.2020.13(Sat Jun 13 12:26:38 UTC 2020)\n",
       "(EPL source distribution)\n",
       "Java Runtime: OpenJDK Runtime Environment\n",
       "JVM: OpenJDK 64-Bit Server VM\n",
       "Default Encoding: UTF-8\n",
       "Language: en\n",
       "Country: null\n",
       "--></g></svg>"
      ]
     },
     "execution_count": 12,
     "metadata": {},
     "output_type": "execute_result"
    }
   ],
   "source": [
    "%viz --style=\"POLYLINE\" --view=\"Interconnection\" \"DependencyTest\""
   ]
  },
  {
   "cell_type": "code",
   "execution_count": 13,
   "id": "00b30b1c",
   "metadata": {
    "execution": {
     "iopub.execute_input": "2021-04-21T20:26:05.556727Z",
     "iopub.status.busy": "2021-04-21T20:26:05.555574Z",
     "iopub.status.idle": "2021-04-21T20:26:05.565102Z",
     "shell.execute_reply": "2021-04-21T20:26:05.564274Z"
    }
   },
   "outputs": [
    {
     "data": {
      "image/svg+xml": [
       "<?xml version=\"1.0\" encoding=\"UTF-8\" standalone=\"no\"?><svg xmlns=\"http://www.w3.org/2000/svg\" xmlns:xlink=\"http://www.w3.org/1999/xlink\" contentScriptType=\"application/ecmascript\" contentStyleType=\"text/css\" height=\"12px\" preserveAspectRatio=\"none\" style=\"width:12px;height:12px;\" version=\"1.1\" viewBox=\"0 0 12 12\" width=\"12px\" zoomAndPan=\"magnify\"><defs/><g><!--MD5=[97bbf32f66ccd50cbc40d92ea8f5a65e]\n",
       "@startuml\r\n",
       "skinparam ranksep 8\r\n",
       "skinparam linetype polyline\r\n",
       "skinparam monochrome true\r\n",
       "skinparam classbackgroundcolor white\r\n",
       "skinparam shadowing false\r\n",
       "skinparam wrapWidth 300\r\n",
       "hide circle\r\n",
       "\r\n",
       "@enduml\r\n",
       "\n",
       "PlantUML version 1.2020.13(Sat Jun 13 12:26:38 UTC 2020)\n",
       "(EPL source distribution)\n",
       "Java Runtime: OpenJDK Runtime Environment\n",
       "JVM: OpenJDK 64-Bit Server VM\n",
       "Default Encoding: UTF-8\n",
       "Language: en\n",
       "Country: null\n",
       "--></g></svg>"
      ]
     },
     "execution_count": 13,
     "metadata": {},
     "output_type": "execute_result"
    }
   ],
   "source": [
    "%viz --style=\"POLYLINE\" --view=\"Action\" \"DependencyTest\""
   ]
  },
  {
   "cell_type": "code",
   "execution_count": 14,
   "id": "4c1befc7",
   "metadata": {
    "execution": {
     "iopub.execute_input": "2021-04-21T20:26:05.618305Z",
     "iopub.status.busy": "2021-04-21T20:26:05.616992Z",
     "iopub.status.idle": "2021-04-21T20:26:05.662058Z",
     "shell.execute_reply": "2021-04-21T20:26:05.661212Z"
    }
   },
   "outputs": [
    {
     "data": {
      "image/svg+xml": [
       "<?xml version=\"1.0\" encoding=\"UTF-8\" standalone=\"no\"?><svg xmlns=\"http://www.w3.org/2000/svg\" xmlns:xlink=\"http://www.w3.org/1999/xlink\" contentScriptType=\"application/ecmascript\" contentStyleType=\"text/css\" height=\"449px\" preserveAspectRatio=\"none\" style=\"width:489px;height:449px;\" version=\"1.1\" viewBox=\"0 0 489 449\" width=\"489px\" zoomAndPan=\"magnify\"><defs/><g><!--MD5=[fbc87193dbaf4d95561dea2c320d4a47]\n",
       "cluster E1--><a href=\"psysml:a0e63dae-583d-42a3-9f46-6e6177e563b1\" target=\"_top\" title=\"psysml:a0e63dae-583d-42a3-9f46-6e6177e563b1\" xlink:actuate=\"onRequest\" xlink:href=\"psysml:a0e63dae-583d-42a3-9f46-6e6177e563b1\" xlink:show=\"new\" xlink:title=\"psysml:a0e63dae-583d-42a3-9f46-6e6177e563b1\" xlink:type=\"simple\"><polygon fill=\"#FFFFFF\" points=\"16,6,156,6,163,28.2969,467,28.2969,467,437,16,437,16,6\" style=\"stroke: #000000; stroke-width: 1.5;\"/><line style=\"stroke: #000000; stroke-width: 1.5;\" x1=\"16\" x2=\"163\" y1=\"28.2969\" y2=\"28.2969\"/><text fill=\"#000000\" font-family=\"sans-serif\" font-size=\"14\" font-weight=\"bold\" lengthAdjust=\"spacingAndGlyphs\" textLength=\"134\" x=\"20\" y=\"20.9951\">DependencyTest</text></a><!--MD5=[e4f7fae6ed58524ba242bb0b0d3be6b7]\n",
       "cluster E2--><a href=\"psysml:90630542-d1db-4cfe-a426-6fd5a6b42885\" target=\"_top\" title=\"psysml:90630542-d1db-4cfe-a426-6fd5a6b42885\" xlink:actuate=\"onRequest\" xlink:href=\"psysml:90630542-d1db-4cfe-a426-6fd5a6b42885\" xlink:show=\"new\" xlink:title=\"psysml:90630542-d1db-4cfe-a426-6fd5a6b42885\" xlink:type=\"simple\"><polygon fill=\"#FFFFFF\" points=\"255,49,319,49,326,71.2969,443,71.2969,443,413,255,413,255,49\" style=\"stroke: #000000; stroke-width: 1.5;\"/><line style=\"stroke: #000000; stroke-width: 1.5;\" x1=\"255\" x2=\"326\" y1=\"71.2969\" y2=\"71.2969\"/><text fill=\"#000000\" font-family=\"sans-serif\" font-size=\"14\" font-weight=\"bold\" lengthAdjust=\"spacingAndGlyphs\" textLength=\"58\" x=\"259\" y=\"63.9951\">System</text></a><!--MD5=[60a26617385b1d2d0262a64233df1f8d]\n",
       "class E6--><a href=\"psysml:7440b603-2b18-4efb-9bf4-7832c56b919b\" target=\"_top\" title=\"psysml:7440b603-2b18-4efb-9bf4-7832c56b919b\" xlink:actuate=\"onRequest\" xlink:href=\"psysml:7440b603-2b18-4efb-9bf4-7832c56b919b\" xlink:show=\"new\" xlink:title=\"psysml:7440b603-2b18-4efb-9bf4-7832c56b919b\" xlink:type=\"simple\"><rect fill=\"#FFFFFF\" height=\"45.9375\" id=\"E6\" rx=\"10\" ry=\"10\" style=\"stroke: #383838; stroke-width: 1.5;\" width=\"71\" x=\"32.5\" y=\"217.5\"/><text fill=\"#000000\" font-family=\"sans-serif\" font-size=\"12\" font-style=\"italic\" lengthAdjust=\"spacingAndGlyphs\" textLength=\"69\" x=\"33.5\" y=\"233.6387\">«attribute»</text><text fill=\"#000000\" font-family=\"sans-serif\" font-size=\"12\" lengthAdjust=\"spacingAndGlyphs\" textLength=\"6\" x=\"65\" y=\"247.6074\">x</text><line style=\"stroke: #383838; stroke-width: 1.5;\" x1=\"33.5\" x2=\"102.5\" y1=\"255.4375\" y2=\"255.4375\"/></a><!--MD5=[2156ba9850f5573cc1fc38a6a4b2f02b]\n",
       "class E7--><a href=\"psysml:d907cb85-580b-45cd-b69d-b597f081eb5c\" target=\"_top\" title=\"psysml:d907cb85-580b-45cd-b69d-b597f081eb5c\" xlink:actuate=\"onRequest\" xlink:href=\"psysml:d907cb85-580b-45cd-b69d-b597f081eb5c\" xlink:show=\"new\" xlink:title=\"psysml:d907cb85-580b-45cd-b69d-b597f081eb5c\" xlink:type=\"simple\"><rect fill=\"#FFFFFF\" height=\"45.9375\" id=\"E7\" rx=\"10\" ry=\"10\" style=\"stroke: #383838; stroke-width: 1.5;\" width=\"71\" x=\"138.5\" y=\"217.5\"/><text fill=\"#000000\" font-family=\"sans-serif\" font-size=\"12\" font-style=\"italic\" lengthAdjust=\"spacingAndGlyphs\" textLength=\"69\" x=\"139.5\" y=\"233.6387\">«attribute»</text><text fill=\"#000000\" font-family=\"sans-serif\" font-size=\"12\" lengthAdjust=\"spacingAndGlyphs\" textLength=\"6\" x=\"171\" y=\"247.6074\">y</text><line style=\"stroke: #383838; stroke-width: 1.5;\" x1=\"139.5\" x2=\"208.5\" y1=\"255.4375\" y2=\"255.4375\"/></a><!--MD5=[b9389687b975829384b498ac4b7476b2]\n",
       "class E8--><a href=\"psysml:719c36a8-8fd6-40f5-b1aa-2a0e2714a310\" target=\"_top\" title=\"psysml:719c36a8-8fd6-40f5-b1aa-2a0e2714a310\" xlink:actuate=\"onRequest\" xlink:href=\"psysml:719c36a8-8fd6-40f5-b1aa-2a0e2714a310\" xlink:show=\"new\" xlink:title=\"psysml:719c36a8-8fd6-40f5-b1aa-2a0e2714a310\" xlink:type=\"simple\"><rect fill=\"#FFFFFF\" height=\"45.9375\" id=\"E8\" rx=\"10\" ry=\"10\" style=\"stroke: #383838; stroke-width: 1.5;\" width=\"71\" x=\"84.5\" y=\"87.5\"/><text fill=\"#000000\" font-family=\"sans-serif\" font-size=\"12\" font-style=\"italic\" lengthAdjust=\"spacingAndGlyphs\" textLength=\"69\" x=\"85.5\" y=\"103.6387\">«attribute»</text><text fill=\"#000000\" font-family=\"sans-serif\" font-size=\"12\" lengthAdjust=\"spacingAndGlyphs\" textLength=\"5\" x=\"117.5\" y=\"117.6074\">z</text><line style=\"stroke: #383838; stroke-width: 1.5;\" x1=\"85.5\" x2=\"154.5\" y1=\"125.4375\" y2=\"125.4375\"/></a><a href=\"psysml:f4739741-a5ef-49a4-9e06-4bb8a722f77e\" target=\"_top\" title=\"psysml:f4739741-a5ef-49a4-9e06-4bb8a722f77e\" xlink:actuate=\"onRequest\" xlink:href=\"psysml:f4739741-a5ef-49a4-9e06-4bb8a722f77e\" xlink:show=\"new\" xlink:title=\"psysml:f4739741-a5ef-49a4-9e06-4bb8a722f77e\" xlink:type=\"simple\"><polygon fill=\"#FFFFFF\" points=\"271,84,413,84,420,106.2969,427,106.2969,427,136.5938,271,136.5938,271,84\" style=\"stroke: #000000; stroke-width: 1.5;\"/><line style=\"stroke: #000000; stroke-width: 1.5;\" x1=\"271\" x2=\"420\" y1=\"106.2969\" y2=\"106.2969\"/><text fill=\"#000000\" font-family=\"sans-serif\" font-size=\"14\" font-weight=\"bold\" lengthAdjust=\"spacingAndGlyphs\" textLength=\"136\" x=\"275\" y=\"98.9951\">Application Layer</text></a><a href=\"psysml:e1090b77-2219-4e30-afea-75b6451d3a90\" target=\"_top\" title=\"psysml:e1090b77-2219-4e30-afea-75b6451d3a90\" xlink:actuate=\"onRequest\" xlink:href=\"psysml:e1090b77-2219-4e30-afea-75b6451d3a90\" xlink:show=\"new\" xlink:title=\"psysml:e1090b77-2219-4e30-afea-75b6451d3a90\" xlink:type=\"simple\"><polygon fill=\"#FFFFFF\" points=\"285,214,399,214,406,236.2969,413,236.2969,413,266.5938,285,266.5938,285,214\" style=\"stroke: #000000; stroke-width: 1.5;\"/><line style=\"stroke: #000000; stroke-width: 1.5;\" x1=\"285\" x2=\"406\" y1=\"236.2969\" y2=\"236.2969\"/><text fill=\"#000000\" font-family=\"sans-serif\" font-size=\"14\" font-weight=\"bold\" lengthAdjust=\"spacingAndGlyphs\" textLength=\"108\" x=\"289\" y=\"228.9951\">Service Layer</text></a><a href=\"psysml:fe465764-9ab4-44bf-be91-bd692232f0a1\" target=\"_top\" title=\"psysml:fe465764-9ab4-44bf-be91-bd692232f0a1\" xlink:actuate=\"onRequest\" xlink:href=\"psysml:fe465764-9ab4-44bf-be91-bd692232f0a1\" xlink:show=\"new\" xlink:title=\"psysml:fe465764-9ab4-44bf-be91-bd692232f0a1\" xlink:type=\"simple\"><polygon fill=\"#FFFFFF\" points=\"297,344,387,344,394,366.2969,401,366.2969,401,396.5938,297,396.5938,297,344\" style=\"stroke: #000000; stroke-width: 1.5;\"/><line style=\"stroke: #000000; stroke-width: 1.5;\" x1=\"297\" x2=\"394\" y1=\"366.2969\" y2=\"366.2969\"/><text fill=\"#000000\" font-family=\"sans-serif\" font-size=\"14\" font-weight=\"bold\" lengthAdjust=\"spacingAndGlyphs\" textLength=\"84\" x=\"301\" y=\"358.9951\">Data Layer</text></a><!--MD5=[af87c684e3b0d8be13c1a698a818ef1e]\n",
       "link E3 to E4--><a href=\"psysml:f18ad3d3-ddea-4435-b15e-701f5c4039de\" target=\"_top\" title=\"psysml:f18ad3d3-ddea-4435-b15e-701f5c4039de\" xlink:actuate=\"onRequest\" xlink:href=\"psysml:f18ad3d3-ddea-4435-b15e-701f5c4039de\" xlink:show=\"new\" xlink:title=\"psysml:f18ad3d3-ddea-4435-b15e-701f5c4039de\" xlink:type=\"simple\"><path d=\"M349,137.1 C349,156.8 349,184.22 349,205.73 \" fill=\"none\" id=\"E3-&gt;E4\" style=\"stroke: #383838; stroke-width: 1.0; stroke-dasharray: 7.0,7.0;\"/><polygon fill=\"#383838\" points=\"349,213.95,352,205.95,346,205.95,349,213.95\" style=\"stroke: #383838; stroke-width: 1.0;\"/><text fill=\"#000000\" font-family=\"sans-serif\" font-size=\"13\" lengthAdjust=\"spacingAndGlyphs\" textLength=\"64\" x=\"350\" y=\"180.0669\">«depend»</text></a><!--MD5=[1b7591eae5389033d8d09a9d6721a717]\n",
       "link E4 to E5--><a href=\"psysml:22e4e023-3d64-4f1c-8411-ecdb932522c7\" target=\"_top\" title=\"psysml:22e4e023-3d64-4f1c-8411-ecdb932522c7\" xlink:actuate=\"onRequest\" xlink:href=\"psysml:22e4e023-3d64-4f1c-8411-ecdb932522c7\" xlink:show=\"new\" xlink:title=\"psysml:22e4e023-3d64-4f1c-8411-ecdb932522c7\" xlink:type=\"simple\"><path d=\"M349,267.1 C349,286.8 349,314.22 349,335.73 \" fill=\"none\" id=\"E4-&gt;E5\" style=\"stroke: #383838; stroke-width: 1.0; stroke-dasharray: 7.0,7.0;\"/><polygon fill=\"#383838\" points=\"349,343.95,352,335.95,346,335.95,349,343.95\" style=\"stroke: #383838; stroke-width: 1.0;\"/><text fill=\"#000000\" font-family=\"sans-serif\" font-size=\"13\" lengthAdjust=\"spacingAndGlyphs\" textLength=\"64\" x=\"350\" y=\"310.0669\">«depend»</text></a><!--MD5=[c5e8897d989ce984f93528998a7150fe]\n",
       "link E8 to E6--><a href=\"psysml:01d1ab15-dda9-4157-a585-7877f2cc1d47\" target=\"_top\" title=\"psysml:01d1ab15-dda9-4157-a585-7877f2cc1d47\" xlink:actuate=\"onRequest\" xlink:href=\"psysml:01d1ab15-dda9-4157-a585-7877f2cc1d47\" xlink:show=\"new\" xlink:title=\"psysml:01d1ab15-dda9-4157-a585-7877f2cc1d47\" xlink:type=\"simple\"><path d=\"M97.55,133.75 C81.97,149.19 64,167 64,167 C64,167 64,184 64,184 C64,184 64.88,196.21 65.81,209.18 \" fill=\"none\" id=\"E8-&gt;E6\" style=\"stroke: #383838; stroke-width: 1.0; stroke-dasharray: 7.0,7.0;\"/><polygon fill=\"#383838\" points=\"66.4,217.25,68.8203,209.056,62.8357,209.485,66.4,217.25\" style=\"stroke: #383838; stroke-width: 1.0;\"/><text fill=\"#000000\" font-family=\"sans-serif\" font-size=\"13\" lengthAdjust=\"spacingAndGlyphs\" textLength=\"64\" x=\"65\" y=\"180.0669\">«depend»</text></a><!--MD5=[bfa3c8b0d15052fdf50ae9310b491027]\n",
       "link E8 to E7--><a href=\"psysml:01d1ab15-dda9-4157-a585-7877f2cc1d47\" target=\"_top\" title=\"psysml:01d1ab15-dda9-4157-a585-7877f2cc1d47\" xlink:actuate=\"onRequest\" xlink:href=\"psysml:01d1ab15-dda9-4157-a585-7877f2cc1d47\" xlink:show=\"new\" xlink:title=\"psysml:01d1ab15-dda9-4157-a585-7877f2cc1d47\" xlink:type=\"simple\"><path d=\"M129.28,133.5 C138.17,154.57 151.64,186.5 161.47,209.81 \" fill=\"none\" id=\"E8-&gt;E7\" style=\"stroke: #383838; stroke-width: 1.0; stroke-dasharray: 7.0,7.0;\"/><polygon fill=\"#383838\" points=\"164.66,217.35,164.3241,208.8126,158.7933,211.1385,164.66,217.35\" style=\"stroke: #383838; stroke-width: 1.0;\"/><text fill=\"#000000\" font-family=\"sans-serif\" font-size=\"13\" lengthAdjust=\"spacingAndGlyphs\" textLength=\"64\" x=\"151\" y=\"180.0669\">«depend»</text></a><!--MD5=[bc8e6f7caed978bd3c425ce357d6db98]\n",
       "@startuml\r\n",
       "skinparam linetype polyline\r\n",
       "skinparam monochrome true\r\n",
       "skinparam classbackgroundcolor white\r\n",
       "skinparam shadowing false\r\n",
       "skinparam wrapWidth 300\r\n",
       "hide circle\r\n",
       "\r\n",
       "package \"DependencyTest\" as E1  [[psysml:a0e63dae-583d-42a3-9f46-6e6177e563b1 ]]  {\r\n",
       "package \"System\" as E2  [[psysml:90630542-d1db-4cfe-a426-6fd5a6b42885 ]]  {\r\n",
       "package \"Application Layer\" as E3  [[psysml:f4739741-a5ef-49a4-9e06-4bb8a722f77e ]]  {\r\n",
       "}\r\n",
       "package \"Service Layer\" as E4  [[psysml:e1090b77-2219-4e30-afea-75b6451d3a90 ]]  {\r\n",
       "}\r\n",
       "package \"Data Layer\" as E5  [[psysml:fe465764-9ab4-44bf-be91-bd692232f0a1 ]]  {\r\n",
       "}\r\n",
       "}\r\n",
       "comp usage \"x\" as E6  <<(T,blue)attribute>> [[psysml:7440b603-2b18-4efb-9bf4-7832c56b919b ]] {\r\n",
       "}\r\n",
       "comp usage \"y\" as E7  <<(T,blue)attribute>> [[psysml:d907cb85-580b-45cd-b69d-b597f081eb5c ]] {\r\n",
       "}\r\n",
       "comp usage \"z\" as E8  <<(T,blue)attribute>> [[psysml:719c36a8-8fd6-40f5-b1aa-2a0e2714a310 ]] {\r\n",
       "}\r\n",
       "E3 ..>> E4 [[psysml:f18ad3d3-ddea-4435-b15e-701f5c4039de ]] : <<depend>>\r\n",
       "E4 ..>> E5 [[psysml:22e4e023-3d64-4f1c-8411-ecdb932522c7 ]] : <<depend>>\r\n",
       "E8 ..>> E6 [[psysml:01d1ab15-dda9-4157-a585-7877f2cc1d47 ]] : <<depend>>\r\n",
       "E8 ..>> E7 [[psysml:01d1ab15-dda9-4157-a585-7877f2cc1d47 ]] : <<depend>>\r\n",
       "}\r\n",
       "@enduml\r\n",
       "\n",
       "PlantUML version 1.2020.13(Sat Jun 13 12:26:38 UTC 2020)\n",
       "(EPL source distribution)\n",
       "Java Runtime: OpenJDK Runtime Environment\n",
       "JVM: OpenJDK 64-Bit Server VM\n",
       "Default Encoding: UTF-8\n",
       "Language: en\n",
       "Country: null\n",
       "--></g></svg>"
      ]
     },
     "execution_count": 14,
     "metadata": {},
     "output_type": "execute_result"
    }
   ],
   "source": [
    "%viz --style=\"POLYLINE\" --view=\"Sequence\" \"DependencyTest\""
   ]
  },
  {
   "cell_type": "code",
   "execution_count": 15,
   "id": "5b0e193f",
   "metadata": {
    "execution": {
     "iopub.execute_input": "2021-04-21T20:26:05.714190Z",
     "iopub.status.busy": "2021-04-21T20:26:05.713178Z",
     "iopub.status.idle": "2021-04-21T20:26:05.755311Z",
     "shell.execute_reply": "2021-04-21T20:26:05.754910Z"
    }
   },
   "outputs": [
    {
     "data": {
      "image/svg+xml": [
       "<?xml version=\"1.0\" encoding=\"UTF-8\" standalone=\"no\"?><svg xmlns=\"http://www.w3.org/2000/svg\" xmlns:xlink=\"http://www.w3.org/1999/xlink\" contentScriptType=\"application/ecmascript\" contentStyleType=\"text/css\" height=\"449px\" preserveAspectRatio=\"none\" style=\"width:489px;height:449px;\" version=\"1.1\" viewBox=\"0 0 489 449\" width=\"489px\" zoomAndPan=\"magnify\"><defs/><g><!--MD5=[fbc87193dbaf4d95561dea2c320d4a47]\n",
       "cluster E1--><a href=\"psysml:a0e63dae-583d-42a3-9f46-6e6177e563b1\" target=\"_top\" title=\"psysml:a0e63dae-583d-42a3-9f46-6e6177e563b1\" xlink:actuate=\"onRequest\" xlink:href=\"psysml:a0e63dae-583d-42a3-9f46-6e6177e563b1\" xlink:show=\"new\" xlink:title=\"psysml:a0e63dae-583d-42a3-9f46-6e6177e563b1\" xlink:type=\"simple\"><polygon fill=\"#FFFFFF\" points=\"16,6,156,6,163,28.2969,467,28.2969,467,437,16,437,16,6\" style=\"stroke: #000000; stroke-width: 1.5;\"/><line style=\"stroke: #000000; stroke-width: 1.5;\" x1=\"16\" x2=\"163\" y1=\"28.2969\" y2=\"28.2969\"/><text fill=\"#000000\" font-family=\"sans-serif\" font-size=\"14\" font-weight=\"bold\" lengthAdjust=\"spacingAndGlyphs\" textLength=\"134\" x=\"20\" y=\"20.9951\">DependencyTest</text></a><!--MD5=[e4f7fae6ed58524ba242bb0b0d3be6b7]\n",
       "cluster E2--><a href=\"psysml:90630542-d1db-4cfe-a426-6fd5a6b42885\" target=\"_top\" title=\"psysml:90630542-d1db-4cfe-a426-6fd5a6b42885\" xlink:actuate=\"onRequest\" xlink:href=\"psysml:90630542-d1db-4cfe-a426-6fd5a6b42885\" xlink:show=\"new\" xlink:title=\"psysml:90630542-d1db-4cfe-a426-6fd5a6b42885\" xlink:type=\"simple\"><polygon fill=\"#FFFFFF\" points=\"255,49,319,49,326,71.2969,443,71.2969,443,413,255,413,255,49\" style=\"stroke: #000000; stroke-width: 1.5;\"/><line style=\"stroke: #000000; stroke-width: 1.5;\" x1=\"255\" x2=\"326\" y1=\"71.2969\" y2=\"71.2969\"/><text fill=\"#000000\" font-family=\"sans-serif\" font-size=\"14\" font-weight=\"bold\" lengthAdjust=\"spacingAndGlyphs\" textLength=\"58\" x=\"259\" y=\"63.9951\">System</text></a><!--MD5=[60a26617385b1d2d0262a64233df1f8d]\n",
       "class E6--><a href=\"psysml:7440b603-2b18-4efb-9bf4-7832c56b919b\" target=\"_top\" title=\"psysml:7440b603-2b18-4efb-9bf4-7832c56b919b\" xlink:actuate=\"onRequest\" xlink:href=\"psysml:7440b603-2b18-4efb-9bf4-7832c56b919b\" xlink:show=\"new\" xlink:title=\"psysml:7440b603-2b18-4efb-9bf4-7832c56b919b\" xlink:type=\"simple\"><rect fill=\"#FFFFFF\" height=\"45.9375\" id=\"E6\" rx=\"10\" ry=\"10\" style=\"stroke: #383838; stroke-width: 1.5;\" width=\"71\" x=\"32.5\" y=\"217.5\"/><text fill=\"#000000\" font-family=\"sans-serif\" font-size=\"12\" font-style=\"italic\" lengthAdjust=\"spacingAndGlyphs\" textLength=\"69\" x=\"33.5\" y=\"233.6387\">«attribute»</text><text fill=\"#000000\" font-family=\"sans-serif\" font-size=\"12\" lengthAdjust=\"spacingAndGlyphs\" textLength=\"6\" x=\"65\" y=\"247.6074\">x</text><line style=\"stroke: #383838; stroke-width: 1.5;\" x1=\"33.5\" x2=\"102.5\" y1=\"255.4375\" y2=\"255.4375\"/></a><!--MD5=[2156ba9850f5573cc1fc38a6a4b2f02b]\n",
       "class E7--><a href=\"psysml:d907cb85-580b-45cd-b69d-b597f081eb5c\" target=\"_top\" title=\"psysml:d907cb85-580b-45cd-b69d-b597f081eb5c\" xlink:actuate=\"onRequest\" xlink:href=\"psysml:d907cb85-580b-45cd-b69d-b597f081eb5c\" xlink:show=\"new\" xlink:title=\"psysml:d907cb85-580b-45cd-b69d-b597f081eb5c\" xlink:type=\"simple\"><rect fill=\"#FFFFFF\" height=\"45.9375\" id=\"E7\" rx=\"10\" ry=\"10\" style=\"stroke: #383838; stroke-width: 1.5;\" width=\"71\" x=\"138.5\" y=\"217.5\"/><text fill=\"#000000\" font-family=\"sans-serif\" font-size=\"12\" font-style=\"italic\" lengthAdjust=\"spacingAndGlyphs\" textLength=\"69\" x=\"139.5\" y=\"233.6387\">«attribute»</text><text fill=\"#000000\" font-family=\"sans-serif\" font-size=\"12\" lengthAdjust=\"spacingAndGlyphs\" textLength=\"6\" x=\"171\" y=\"247.6074\">y</text><line style=\"stroke: #383838; stroke-width: 1.5;\" x1=\"139.5\" x2=\"208.5\" y1=\"255.4375\" y2=\"255.4375\"/></a><!--MD5=[b9389687b975829384b498ac4b7476b2]\n",
       "class E8--><a href=\"psysml:719c36a8-8fd6-40f5-b1aa-2a0e2714a310\" target=\"_top\" title=\"psysml:719c36a8-8fd6-40f5-b1aa-2a0e2714a310\" xlink:actuate=\"onRequest\" xlink:href=\"psysml:719c36a8-8fd6-40f5-b1aa-2a0e2714a310\" xlink:show=\"new\" xlink:title=\"psysml:719c36a8-8fd6-40f5-b1aa-2a0e2714a310\" xlink:type=\"simple\"><rect fill=\"#FFFFFF\" height=\"45.9375\" id=\"E8\" rx=\"10\" ry=\"10\" style=\"stroke: #383838; stroke-width: 1.5;\" width=\"71\" x=\"84.5\" y=\"87.5\"/><text fill=\"#000000\" font-family=\"sans-serif\" font-size=\"12\" font-style=\"italic\" lengthAdjust=\"spacingAndGlyphs\" textLength=\"69\" x=\"85.5\" y=\"103.6387\">«attribute»</text><text fill=\"#000000\" font-family=\"sans-serif\" font-size=\"12\" lengthAdjust=\"spacingAndGlyphs\" textLength=\"5\" x=\"117.5\" y=\"117.6074\">z</text><line style=\"stroke: #383838; stroke-width: 1.5;\" x1=\"85.5\" x2=\"154.5\" y1=\"125.4375\" y2=\"125.4375\"/></a><a href=\"psysml:f4739741-a5ef-49a4-9e06-4bb8a722f77e\" target=\"_top\" title=\"psysml:f4739741-a5ef-49a4-9e06-4bb8a722f77e\" xlink:actuate=\"onRequest\" xlink:href=\"psysml:f4739741-a5ef-49a4-9e06-4bb8a722f77e\" xlink:show=\"new\" xlink:title=\"psysml:f4739741-a5ef-49a4-9e06-4bb8a722f77e\" xlink:type=\"simple\"><polygon fill=\"#FFFFFF\" points=\"271,84,413,84,420,106.2969,427,106.2969,427,136.5938,271,136.5938,271,84\" style=\"stroke: #000000; stroke-width: 1.5;\"/><line style=\"stroke: #000000; stroke-width: 1.5;\" x1=\"271\" x2=\"420\" y1=\"106.2969\" y2=\"106.2969\"/><text fill=\"#000000\" font-family=\"sans-serif\" font-size=\"14\" font-weight=\"bold\" lengthAdjust=\"spacingAndGlyphs\" textLength=\"136\" x=\"275\" y=\"98.9951\">Application Layer</text></a><a href=\"psysml:e1090b77-2219-4e30-afea-75b6451d3a90\" target=\"_top\" title=\"psysml:e1090b77-2219-4e30-afea-75b6451d3a90\" xlink:actuate=\"onRequest\" xlink:href=\"psysml:e1090b77-2219-4e30-afea-75b6451d3a90\" xlink:show=\"new\" xlink:title=\"psysml:e1090b77-2219-4e30-afea-75b6451d3a90\" xlink:type=\"simple\"><polygon fill=\"#FFFFFF\" points=\"285,214,399,214,406,236.2969,413,236.2969,413,266.5938,285,266.5938,285,214\" style=\"stroke: #000000; stroke-width: 1.5;\"/><line style=\"stroke: #000000; stroke-width: 1.5;\" x1=\"285\" x2=\"406\" y1=\"236.2969\" y2=\"236.2969\"/><text fill=\"#000000\" font-family=\"sans-serif\" font-size=\"14\" font-weight=\"bold\" lengthAdjust=\"spacingAndGlyphs\" textLength=\"108\" x=\"289\" y=\"228.9951\">Service Layer</text></a><a href=\"psysml:fe465764-9ab4-44bf-be91-bd692232f0a1\" target=\"_top\" title=\"psysml:fe465764-9ab4-44bf-be91-bd692232f0a1\" xlink:actuate=\"onRequest\" xlink:href=\"psysml:fe465764-9ab4-44bf-be91-bd692232f0a1\" xlink:show=\"new\" xlink:title=\"psysml:fe465764-9ab4-44bf-be91-bd692232f0a1\" xlink:type=\"simple\"><polygon fill=\"#FFFFFF\" points=\"297,344,387,344,394,366.2969,401,366.2969,401,396.5938,297,396.5938,297,344\" style=\"stroke: #000000; stroke-width: 1.5;\"/><line style=\"stroke: #000000; stroke-width: 1.5;\" x1=\"297\" x2=\"394\" y1=\"366.2969\" y2=\"366.2969\"/><text fill=\"#000000\" font-family=\"sans-serif\" font-size=\"14\" font-weight=\"bold\" lengthAdjust=\"spacingAndGlyphs\" textLength=\"84\" x=\"301\" y=\"358.9951\">Data Layer</text></a><!--MD5=[af87c684e3b0d8be13c1a698a818ef1e]\n",
       "link E3 to E4--><a href=\"psysml:f18ad3d3-ddea-4435-b15e-701f5c4039de\" target=\"_top\" title=\"psysml:f18ad3d3-ddea-4435-b15e-701f5c4039de\" xlink:actuate=\"onRequest\" xlink:href=\"psysml:f18ad3d3-ddea-4435-b15e-701f5c4039de\" xlink:show=\"new\" xlink:title=\"psysml:f18ad3d3-ddea-4435-b15e-701f5c4039de\" xlink:type=\"simple\"><path d=\"M349,137.1 C349,156.8 349,184.22 349,205.73 \" fill=\"none\" id=\"E3-&gt;E4\" style=\"stroke: #383838; stroke-width: 1.0; stroke-dasharray: 7.0,7.0;\"/><polygon fill=\"#383838\" points=\"349,213.95,352,205.95,346,205.95,349,213.95\" style=\"stroke: #383838; stroke-width: 1.0;\"/><text fill=\"#000000\" font-family=\"sans-serif\" font-size=\"13\" lengthAdjust=\"spacingAndGlyphs\" textLength=\"64\" x=\"350\" y=\"180.0669\">«depend»</text></a><!--MD5=[1b7591eae5389033d8d09a9d6721a717]\n",
       "link E4 to E5--><a href=\"psysml:22e4e023-3d64-4f1c-8411-ecdb932522c7\" target=\"_top\" title=\"psysml:22e4e023-3d64-4f1c-8411-ecdb932522c7\" xlink:actuate=\"onRequest\" xlink:href=\"psysml:22e4e023-3d64-4f1c-8411-ecdb932522c7\" xlink:show=\"new\" xlink:title=\"psysml:22e4e023-3d64-4f1c-8411-ecdb932522c7\" xlink:type=\"simple\"><path d=\"M349,267.1 C349,286.8 349,314.22 349,335.73 \" fill=\"none\" id=\"E4-&gt;E5\" style=\"stroke: #383838; stroke-width: 1.0; stroke-dasharray: 7.0,7.0;\"/><polygon fill=\"#383838\" points=\"349,343.95,352,335.95,346,335.95,349,343.95\" style=\"stroke: #383838; stroke-width: 1.0;\"/><text fill=\"#000000\" font-family=\"sans-serif\" font-size=\"13\" lengthAdjust=\"spacingAndGlyphs\" textLength=\"64\" x=\"350\" y=\"310.0669\">«depend»</text></a><!--MD5=[c5e8897d989ce984f93528998a7150fe]\n",
       "link E8 to E6--><a href=\"psysml:01d1ab15-dda9-4157-a585-7877f2cc1d47\" target=\"_top\" title=\"psysml:01d1ab15-dda9-4157-a585-7877f2cc1d47\" xlink:actuate=\"onRequest\" xlink:href=\"psysml:01d1ab15-dda9-4157-a585-7877f2cc1d47\" xlink:show=\"new\" xlink:title=\"psysml:01d1ab15-dda9-4157-a585-7877f2cc1d47\" xlink:type=\"simple\"><path d=\"M97.55,133.75 C81.97,149.19 64,167 64,167 C64,167 64,184 64,184 C64,184 64.88,196.21 65.81,209.18 \" fill=\"none\" id=\"E8-&gt;E6\" style=\"stroke: #383838; stroke-width: 1.0; stroke-dasharray: 7.0,7.0;\"/><polygon fill=\"#383838\" points=\"66.4,217.25,68.8203,209.056,62.8357,209.485,66.4,217.25\" style=\"stroke: #383838; stroke-width: 1.0;\"/><text fill=\"#000000\" font-family=\"sans-serif\" font-size=\"13\" lengthAdjust=\"spacingAndGlyphs\" textLength=\"64\" x=\"65\" y=\"180.0669\">«depend»</text></a><!--MD5=[bfa3c8b0d15052fdf50ae9310b491027]\n",
       "link E8 to E7--><a href=\"psysml:01d1ab15-dda9-4157-a585-7877f2cc1d47\" target=\"_top\" title=\"psysml:01d1ab15-dda9-4157-a585-7877f2cc1d47\" xlink:actuate=\"onRequest\" xlink:href=\"psysml:01d1ab15-dda9-4157-a585-7877f2cc1d47\" xlink:show=\"new\" xlink:title=\"psysml:01d1ab15-dda9-4157-a585-7877f2cc1d47\" xlink:type=\"simple\"><path d=\"M129.28,133.5 C138.17,154.57 151.64,186.5 161.47,209.81 \" fill=\"none\" id=\"E8-&gt;E7\" style=\"stroke: #383838; stroke-width: 1.0; stroke-dasharray: 7.0,7.0;\"/><polygon fill=\"#383838\" points=\"164.66,217.35,164.3241,208.8126,158.7933,211.1385,164.66,217.35\" style=\"stroke: #383838; stroke-width: 1.0;\"/><text fill=\"#000000\" font-family=\"sans-serif\" font-size=\"13\" lengthAdjust=\"spacingAndGlyphs\" textLength=\"64\" x=\"151\" y=\"180.0669\">«depend»</text></a><!--MD5=[bc8e6f7caed978bd3c425ce357d6db98]\n",
       "@startuml\r\n",
       "skinparam linetype polyline\r\n",
       "skinparam monochrome true\r\n",
       "skinparam classbackgroundcolor white\r\n",
       "skinparam shadowing false\r\n",
       "skinparam wrapWidth 300\r\n",
       "hide circle\r\n",
       "\r\n",
       "package \"DependencyTest\" as E1  [[psysml:a0e63dae-583d-42a3-9f46-6e6177e563b1 ]]  {\r\n",
       "package \"System\" as E2  [[psysml:90630542-d1db-4cfe-a426-6fd5a6b42885 ]]  {\r\n",
       "package \"Application Layer\" as E3  [[psysml:f4739741-a5ef-49a4-9e06-4bb8a722f77e ]]  {\r\n",
       "}\r\n",
       "package \"Service Layer\" as E4  [[psysml:e1090b77-2219-4e30-afea-75b6451d3a90 ]]  {\r\n",
       "}\r\n",
       "package \"Data Layer\" as E5  [[psysml:fe465764-9ab4-44bf-be91-bd692232f0a1 ]]  {\r\n",
       "}\r\n",
       "}\r\n",
       "comp usage \"x\" as E6  <<(T,blue)attribute>> [[psysml:7440b603-2b18-4efb-9bf4-7832c56b919b ]] {\r\n",
       "}\r\n",
       "comp usage \"y\" as E7  <<(T,blue)attribute>> [[psysml:d907cb85-580b-45cd-b69d-b597f081eb5c ]] {\r\n",
       "}\r\n",
       "comp usage \"z\" as E8  <<(T,blue)attribute>> [[psysml:719c36a8-8fd6-40f5-b1aa-2a0e2714a310 ]] {\r\n",
       "}\r\n",
       "E3 ..>> E4 [[psysml:f18ad3d3-ddea-4435-b15e-701f5c4039de ]] : <<depend>>\r\n",
       "E4 ..>> E5 [[psysml:22e4e023-3d64-4f1c-8411-ecdb932522c7 ]] : <<depend>>\r\n",
       "E8 ..>> E6 [[psysml:01d1ab15-dda9-4157-a585-7877f2cc1d47 ]] : <<depend>>\r\n",
       "E8 ..>> E7 [[psysml:01d1ab15-dda9-4157-a585-7877f2cc1d47 ]] : <<depend>>\r\n",
       "}\r\n",
       "@enduml\r\n",
       "\n",
       "PlantUML version 1.2020.13(Sat Jun 13 12:26:38 UTC 2020)\n",
       "(EPL source distribution)\n",
       "Java Runtime: OpenJDK Runtime Environment\n",
       "JVM: OpenJDK 64-Bit Server VM\n",
       "Default Encoding: UTF-8\n",
       "Language: en\n",
       "Country: null\n",
       "--></g></svg>"
      ]
     },
     "execution_count": 15,
     "metadata": {},
     "output_type": "execute_result"
    }
   ],
   "source": [
    "%viz --style=\"POLYLINE\" --view=\"MIXED\" \"DependencyTest\""
   ]
  },
  {
   "cell_type": "code",
   "execution_count": 16,
   "id": "2be03598",
   "metadata": {
    "execution": {
     "iopub.execute_input": "2021-04-21T20:26:05.809251Z",
     "iopub.status.busy": "2021-04-21T20:26:05.808617Z",
     "iopub.status.idle": "2021-04-21T20:26:05.856178Z",
     "shell.execute_reply": "2021-04-21T20:26:05.854416Z"
    }
   },
   "outputs": [
    {
     "data": {
      "image/svg+xml": [
       "<?xml version=\"1.0\" encoding=\"UTF-8\" standalone=\"no\"?><svg xmlns=\"http://www.w3.org/2000/svg\" xmlns:xlink=\"http://www.w3.org/1999/xlink\" contentScriptType=\"application/ecmascript\" contentStyleType=\"text/css\" height=\"328px\" preserveAspectRatio=\"none\" style=\"width:758px;height:328px;\" version=\"1.1\" viewBox=\"0 0 758 328\" width=\"758px\" zoomAndPan=\"magnify\"><defs/><g><!--MD5=[fbc87193dbaf4d95561dea2c320d4a47]\n",
       "cluster E1--><a href=\"psysml:a0e63dae-583d-42a3-9f46-6e6177e563b1\" target=\"_top\" title=\"psysml:a0e63dae-583d-42a3-9f46-6e6177e563b1\" xlink:actuate=\"onRequest\" xlink:href=\"psysml:a0e63dae-583d-42a3-9f46-6e6177e563b1\" xlink:show=\"new\" xlink:title=\"psysml:a0e63dae-583d-42a3-9f46-6e6177e563b1\" xlink:type=\"simple\"><polygon fill=\"#FFFFFF\" points=\"16,6,156,6,163,28.2969,736,28.2969,736,316,16,316,16,6\" style=\"stroke: #000000; stroke-width: 1.5;\"/><line style=\"stroke: #000000; stroke-width: 1.5;\" x1=\"16\" x2=\"163\" y1=\"28.2969\" y2=\"28.2969\"/><text fill=\"#000000\" font-family=\"sans-serif\" font-size=\"14\" font-weight=\"bold\" lengthAdjust=\"spacingAndGlyphs\" textLength=\"134\" x=\"20\" y=\"20.9951\">DependencyTest</text></a><!--MD5=[e4f7fae6ed58524ba242bb0b0d3be6b7]\n",
       "cluster E2--><a href=\"psysml:90630542-d1db-4cfe-a426-6fd5a6b42885\" target=\"_top\" title=\"psysml:90630542-d1db-4cfe-a426-6fd5a6b42885\" xlink:actuate=\"onRequest\" xlink:href=\"psysml:90630542-d1db-4cfe-a426-6fd5a6b42885\" xlink:show=\"new\" xlink:title=\"psysml:90630542-d1db-4cfe-a426-6fd5a6b42885\" xlink:type=\"simple\"><polygon fill=\"#FFFFFF\" points=\"40,49,104,49,111,71.2969,712,71.2969,712,154,40,154,40,49\" style=\"stroke: #000000; stroke-width: 1.5;\"/><line style=\"stroke: #000000; stroke-width: 1.5;\" x1=\"40\" x2=\"111\" y1=\"71.2969\" y2=\"71.2969\"/><text fill=\"#000000\" font-family=\"sans-serif\" font-size=\"14\" font-weight=\"bold\" lengthAdjust=\"spacingAndGlyphs\" textLength=\"58\" x=\"44\" y=\"63.9951\">System</text></a><!--MD5=[60a26617385b1d2d0262a64233df1f8d]\n",
       "class E6--><a href=\"psysml:7440b603-2b18-4efb-9bf4-7832c56b919b\" target=\"_top\" title=\"psysml:7440b603-2b18-4efb-9bf4-7832c56b919b\" xlink:actuate=\"onRequest\" xlink:href=\"psysml:7440b603-2b18-4efb-9bf4-7832c56b919b\" xlink:show=\"new\" xlink:title=\"psysml:7440b603-2b18-4efb-9bf4-7832c56b919b\" xlink:type=\"simple\"><rect fill=\"#FFFFFF\" height=\"45.9375\" id=\"E6\" rx=\"10\" ry=\"10\" style=\"stroke: #383838; stroke-width: 1.5;\" width=\"71\" x=\"366.5\" y=\"254\"/><text fill=\"#000000\" font-family=\"sans-serif\" font-size=\"12\" font-style=\"italic\" lengthAdjust=\"spacingAndGlyphs\" textLength=\"69\" x=\"367.5\" y=\"270.1387\">«attribute»</text><text fill=\"#000000\" font-family=\"sans-serif\" font-size=\"12\" lengthAdjust=\"spacingAndGlyphs\" textLength=\"6\" x=\"399\" y=\"284.1074\">x</text><line style=\"stroke: #383838; stroke-width: 1.5;\" x1=\"367.5\" x2=\"436.5\" y1=\"291.9375\" y2=\"291.9375\"/></a><!--MD5=[2156ba9850f5573cc1fc38a6a4b2f02b]\n",
       "class E7--><a href=\"psysml:d907cb85-580b-45cd-b69d-b597f081eb5c\" target=\"_top\" title=\"psysml:d907cb85-580b-45cd-b69d-b597f081eb5c\" xlink:actuate=\"onRequest\" xlink:href=\"psysml:d907cb85-580b-45cd-b69d-b597f081eb5c\" xlink:show=\"new\" xlink:title=\"psysml:d907cb85-580b-45cd-b69d-b597f081eb5c\" xlink:type=\"simple\"><rect fill=\"#FFFFFF\" height=\"45.9375\" id=\"E7\" rx=\"10\" ry=\"10\" style=\"stroke: #383838; stroke-width: 1.5;\" width=\"71\" x=\"366.5\" y=\"173\"/><text fill=\"#000000\" font-family=\"sans-serif\" font-size=\"12\" font-style=\"italic\" lengthAdjust=\"spacingAndGlyphs\" textLength=\"69\" x=\"367.5\" y=\"189.1387\">«attribute»</text><text fill=\"#000000\" font-family=\"sans-serif\" font-size=\"12\" lengthAdjust=\"spacingAndGlyphs\" textLength=\"6\" x=\"399\" y=\"203.1074\">y</text><line style=\"stroke: #383838; stroke-width: 1.5;\" x1=\"367.5\" x2=\"436.5\" y1=\"210.9375\" y2=\"210.9375\"/></a><!--MD5=[b9389687b975829384b498ac4b7476b2]\n",
       "class E8--><a href=\"psysml:719c36a8-8fd6-40f5-b1aa-2a0e2714a310\" target=\"_top\" title=\"psysml:719c36a8-8fd6-40f5-b1aa-2a0e2714a310\" xlink:actuate=\"onRequest\" xlink:href=\"psysml:719c36a8-8fd6-40f5-b1aa-2a0e2714a310\" xlink:show=\"new\" xlink:title=\"psysml:719c36a8-8fd6-40f5-b1aa-2a0e2714a310\" xlink:type=\"simple\"><rect fill=\"#FFFFFF\" height=\"45.9375\" id=\"E8\" rx=\"10\" ry=\"10\" style=\"stroke: #383838; stroke-width: 1.5;\" width=\"71\" x=\"98.5\" y=\"206\"/><text fill=\"#000000\" font-family=\"sans-serif\" font-size=\"12\" font-style=\"italic\" lengthAdjust=\"spacingAndGlyphs\" textLength=\"69\" x=\"99.5\" y=\"222.1387\">«attribute»</text><text fill=\"#000000\" font-family=\"sans-serif\" font-size=\"12\" lengthAdjust=\"spacingAndGlyphs\" textLength=\"5\" x=\"131.5\" y=\"236.1074\">z</text><line style=\"stroke: #383838; stroke-width: 1.5;\" x1=\"99.5\" x2=\"168.5\" y1=\"243.9375\" y2=\"243.9375\"/></a><a href=\"psysml:f4739741-a5ef-49a4-9e06-4bb8a722f77e\" target=\"_top\" title=\"psysml:f4739741-a5ef-49a4-9e06-4bb8a722f77e\" xlink:actuate=\"onRequest\" xlink:href=\"psysml:f4739741-a5ef-49a4-9e06-4bb8a722f77e\" xlink:show=\"new\" xlink:title=\"psysml:f4739741-a5ef-49a4-9e06-4bb8a722f77e\" xlink:type=\"simple\"><polygon fill=\"#FFFFFF\" points=\"56,84.5,198,84.5,205,106.7969,212,106.7969,212,137.0938,56,137.0938,56,84.5\" style=\"stroke: #000000; stroke-width: 1.5;\"/><line style=\"stroke: #000000; stroke-width: 1.5;\" x1=\"56\" x2=\"205\" y1=\"106.7969\" y2=\"106.7969\"/><text fill=\"#000000\" font-family=\"sans-serif\" font-size=\"14\" font-weight=\"bold\" lengthAdjust=\"spacingAndGlyphs\" textLength=\"136\" x=\"60\" y=\"99.4951\">Application Layer</text></a><a href=\"psysml:e1090b77-2219-4e30-afea-75b6451d3a90\" target=\"_top\" title=\"psysml:e1090b77-2219-4e30-afea-75b6451d3a90\" xlink:actuate=\"onRequest\" xlink:href=\"psysml:e1090b77-2219-4e30-afea-75b6451d3a90\" xlink:show=\"new\" xlink:title=\"psysml:e1090b77-2219-4e30-afea-75b6451d3a90\" xlink:type=\"simple\"><polygon fill=\"#FFFFFF\" points=\"338,84.5,452,84.5,459,106.7969,466,106.7969,466,137.0938,338,137.0938,338,84.5\" style=\"stroke: #000000; stroke-width: 1.5;\"/><line style=\"stroke: #000000; stroke-width: 1.5;\" x1=\"338\" x2=\"459\" y1=\"106.7969\" y2=\"106.7969\"/><text fill=\"#000000\" font-family=\"sans-serif\" font-size=\"14\" font-weight=\"bold\" lengthAdjust=\"spacingAndGlyphs\" textLength=\"108\" x=\"342\" y=\"99.4951\">Service Layer</text></a><a href=\"psysml:fe465764-9ab4-44bf-be91-bd692232f0a1\" target=\"_top\" title=\"psysml:fe465764-9ab4-44bf-be91-bd692232f0a1\" xlink:actuate=\"onRequest\" xlink:href=\"psysml:fe465764-9ab4-44bf-be91-bd692232f0a1\" xlink:show=\"new\" xlink:title=\"psysml:fe465764-9ab4-44bf-be91-bd692232f0a1\" xlink:type=\"simple\"><polygon fill=\"#FFFFFF\" points=\"592,84.5,682,84.5,689,106.7969,696,106.7969,696,137.0938,592,137.0938,592,84.5\" style=\"stroke: #000000; stroke-width: 1.5;\"/><line style=\"stroke: #000000; stroke-width: 1.5;\" x1=\"592\" x2=\"689\" y1=\"106.7969\" y2=\"106.7969\"/><text fill=\"#000000\" font-family=\"sans-serif\" font-size=\"14\" font-weight=\"bold\" lengthAdjust=\"spacingAndGlyphs\" textLength=\"84\" x=\"596\" y=\"99.4951\">Data Layer</text></a><!--MD5=[af87c684e3b0d8be13c1a698a818ef1e]\n",
       "link E3 to E4--><a href=\"psysml:f18ad3d3-ddea-4435-b15e-701f5c4039de\" target=\"_top\" title=\"psysml:f18ad3d3-ddea-4435-b15e-701f5c4039de\" xlink:actuate=\"onRequest\" xlink:href=\"psysml:f18ad3d3-ddea-4435-b15e-701f5c4039de\" xlink:show=\"new\" xlink:title=\"psysml:f18ad3d3-ddea-4435-b15e-701f5c4039de\" xlink:type=\"simple\"><path d=\"M212.3,111 C249.37,111 293.5,111 329.76,111 \" fill=\"none\" id=\"E3-&gt;E4\" style=\"stroke: #383838; stroke-width: 1.0; stroke-dasharray: 7.0,7.0;\"/><polygon fill=\"#383838\" points=\"337.84,111,329.84,108,329.84,114,337.84,111\" style=\"stroke: #383838; stroke-width: 1.0;\"/><text fill=\"#000000\" font-family=\"sans-serif\" font-size=\"13\" lengthAdjust=\"spacingAndGlyphs\" textLength=\"64\" x=\"243\" y=\"107.0669\">«depend»</text></a><!--MD5=[1b7591eae5389033d8d09a9d6721a717]\n",
       "link E4 to E5--><a href=\"psysml:22e4e023-3d64-4f1c-8411-ecdb932522c7\" target=\"_top\" title=\"psysml:22e4e023-3d64-4f1c-8411-ecdb932522c7\" xlink:actuate=\"onRequest\" xlink:href=\"psysml:22e4e023-3d64-4f1c-8411-ecdb932522c7\" xlink:show=\"new\" xlink:title=\"psysml:22e4e023-3d64-4f1c-8411-ecdb932522c7\" xlink:type=\"simple\"><path d=\"M466.06,111 C502.32,111 547.6,111 583.28,111 \" fill=\"none\" id=\"E4-&gt;E5\" style=\"stroke: #383838; stroke-width: 1.0; stroke-dasharray: 7.0,7.0;\"/><polygon fill=\"#383838\" points=\"591.67,111,583.67,108,583.67,114,591.67,111\" style=\"stroke: #383838; stroke-width: 1.0;\"/><text fill=\"#000000\" font-family=\"sans-serif\" font-size=\"13\" lengthAdjust=\"spacingAndGlyphs\" textLength=\"64\" x=\"497\" y=\"107.0669\">«depend»</text></a><!--MD5=[c5e8897d989ce984f93528998a7150fe]\n",
       "link E8 to E6--><a href=\"psysml:01d1ab15-dda9-4157-a585-7877f2cc1d47\" target=\"_top\" title=\"psysml:01d1ab15-dda9-4157-a585-7877f2cc1d47\" xlink:actuate=\"onRequest\" xlink:href=\"psysml:01d1ab15-dda9-4157-a585-7877f2cc1d47\" xlink:show=\"new\" xlink:title=\"psysml:01d1ab15-dda9-4157-a585-7877f2cc1d47\" xlink:type=\"simple\"><path d=\"M169.5,235.23 C217.81,243.94 305.54,259.77 358.03,269.25 \" fill=\"none\" id=\"E8-&gt;E6\" style=\"stroke: #383838; stroke-width: 1.0; stroke-dasharray: 7.0,7.0;\"/><polygon fill=\"#383838\" points=\"366.14,270.71,358.7966,266.3425,357.7356,272.248,366.14,270.71\" style=\"stroke: #383838; stroke-width: 1.0;\"/><text fill=\"#000000\" font-family=\"sans-serif\" font-size=\"13\" lengthAdjust=\"spacingAndGlyphs\" textLength=\"64\" x=\"243\" y=\"245.0669\">«depend»</text></a><!--MD5=[bfa3c8b0d15052fdf50ae9310b491027]\n",
       "link E8 to E7--><a href=\"psysml:01d1ab15-dda9-4157-a585-7877f2cc1d47\" target=\"_top\" title=\"psysml:01d1ab15-dda9-4157-a585-7877f2cc1d47\" xlink:actuate=\"onRequest\" xlink:href=\"psysml:01d1ab15-dda9-4157-a585-7877f2cc1d47\" xlink:show=\"new\" xlink:title=\"psysml:01d1ab15-dda9-4157-a585-7877f2cc1d47\" xlink:type=\"simple\"><path d=\"M169.5,224.72 C217.81,218.73 305.54,207.84 358.03,201.33 \" fill=\"none\" id=\"E8-&gt;E7\" style=\"stroke: #383838; stroke-width: 1.0; stroke-dasharray: 7.0,7.0;\"/><polygon fill=\"#383838\" points=\"366.14,200.33,357.8314,198.3381,358.5704,204.2924,366.14,200.33\" style=\"stroke: #383838; stroke-width: 1.0;\"/><text fill=\"#000000\" font-family=\"sans-serif\" font-size=\"13\" lengthAdjust=\"spacingAndGlyphs\" textLength=\"64\" x=\"243\" y=\"204.0669\">«depend»</text></a><!--MD5=[c15632017ab2be43347b7f81c31d45ff]\n",
       "@startuml\r\n",
       "left to right direction\r\n",
       "skinparam monochrome true\r\n",
       "skinparam classbackgroundcolor white\r\n",
       "skinparam shadowing false\r\n",
       "skinparam wrapWidth 300\r\n",
       "hide circle\r\n",
       "\r\n",
       "package \"DependencyTest\" as E1  [[psysml:a0e63dae-583d-42a3-9f46-6e6177e563b1 ]]  {\r\n",
       "package \"System\" as E2  [[psysml:90630542-d1db-4cfe-a426-6fd5a6b42885 ]]  {\r\n",
       "package \"Application Layer\" as E3  [[psysml:f4739741-a5ef-49a4-9e06-4bb8a722f77e ]]  {\r\n",
       "}\r\n",
       "package \"Service Layer\" as E4  [[psysml:e1090b77-2219-4e30-afea-75b6451d3a90 ]]  {\r\n",
       "}\r\n",
       "package \"Data Layer\" as E5  [[psysml:fe465764-9ab4-44bf-be91-bd692232f0a1 ]]  {\r\n",
       "}\r\n",
       "}\r\n",
       "comp usage \"x\" as E6  <<(T,blue)attribute>> [[psysml:7440b603-2b18-4efb-9bf4-7832c56b919b ]] {\r\n",
       "}\r\n",
       "comp usage \"y\" as E7  <<(T,blue)attribute>> [[psysml:d907cb85-580b-45cd-b69d-b597f081eb5c ]] {\r\n",
       "}\r\n",
       "comp usage \"z\" as E8  <<(T,blue)attribute>> [[psysml:719c36a8-8fd6-40f5-b1aa-2a0e2714a310 ]] {\r\n",
       "}\r\n",
       "E3 ..>> E4 [[psysml:f18ad3d3-ddea-4435-b15e-701f5c4039de ]] : <<depend>>\r\n",
       "E4 ..>> E5 [[psysml:22e4e023-3d64-4f1c-8411-ecdb932522c7 ]] : <<depend>>\r\n",
       "E8 ..>> E6 [[psysml:01d1ab15-dda9-4157-a585-7877f2cc1d47 ]] : <<depend>>\r\n",
       "E8 ..>> E7 [[psysml:01d1ab15-dda9-4157-a585-7877f2cc1d47 ]] : <<depend>>\r\n",
       "}\r\n",
       "@enduml\r\n",
       "\n",
       "PlantUML version 1.2020.13(Sat Jun 13 12:26:38 UTC 2020)\n",
       "(EPL source distribution)\n",
       "Java Runtime: OpenJDK Runtime Environment\n",
       "JVM: OpenJDK 64-Bit Server VM\n",
       "Default Encoding: UTF-8\n",
       "Language: en\n",
       "Country: null\n",
       "--></g></svg>"
      ]
     },
     "execution_count": 16,
     "metadata": {},
     "output_type": "execute_result"
    }
   ],
   "source": [
    "%viz --style=\"LR\" --view=\"Default\" \"DependencyTest\""
   ]
  },
  {
   "cell_type": "code",
   "execution_count": 17,
   "id": "0bf9744e",
   "metadata": {
    "execution": {
     "iopub.execute_input": "2021-04-21T20:26:05.906928Z",
     "iopub.status.busy": "2021-04-21T20:26:05.906381Z",
     "iopub.status.idle": "2021-04-21T20:26:05.945463Z",
     "shell.execute_reply": "2021-04-21T20:26:05.945181Z"
    }
   },
   "outputs": [
    {
     "data": {
      "image/svg+xml": [
       "<?xml version=\"1.0\" encoding=\"UTF-8\" standalone=\"no\"?><svg xmlns=\"http://www.w3.org/2000/svg\" xmlns:xlink=\"http://www.w3.org/1999/xlink\" contentScriptType=\"application/ecmascript\" contentStyleType=\"text/css\" height=\"328px\" preserveAspectRatio=\"none\" style=\"width:758px;height:328px;\" version=\"1.1\" viewBox=\"0 0 758 328\" width=\"758px\" zoomAndPan=\"magnify\"><defs/><g><!--MD5=[fbc87193dbaf4d95561dea2c320d4a47]\n",
       "cluster E1--><a href=\"psysml:a0e63dae-583d-42a3-9f46-6e6177e563b1\" target=\"_top\" title=\"psysml:a0e63dae-583d-42a3-9f46-6e6177e563b1\" xlink:actuate=\"onRequest\" xlink:href=\"psysml:a0e63dae-583d-42a3-9f46-6e6177e563b1\" xlink:show=\"new\" xlink:title=\"psysml:a0e63dae-583d-42a3-9f46-6e6177e563b1\" xlink:type=\"simple\"><polygon fill=\"#FFFFFF\" points=\"16,6,156,6,163,28.2969,736,28.2969,736,316,16,316,16,6\" style=\"stroke: #000000; stroke-width: 1.5;\"/><line style=\"stroke: #000000; stroke-width: 1.5;\" x1=\"16\" x2=\"163\" y1=\"28.2969\" y2=\"28.2969\"/><text fill=\"#000000\" font-family=\"sans-serif\" font-size=\"14\" font-weight=\"bold\" lengthAdjust=\"spacingAndGlyphs\" textLength=\"134\" x=\"20\" y=\"20.9951\">DependencyTest</text></a><!--MD5=[e4f7fae6ed58524ba242bb0b0d3be6b7]\n",
       "cluster E2--><a href=\"psysml:90630542-d1db-4cfe-a426-6fd5a6b42885\" target=\"_top\" title=\"psysml:90630542-d1db-4cfe-a426-6fd5a6b42885\" xlink:actuate=\"onRequest\" xlink:href=\"psysml:90630542-d1db-4cfe-a426-6fd5a6b42885\" xlink:show=\"new\" xlink:title=\"psysml:90630542-d1db-4cfe-a426-6fd5a6b42885\" xlink:type=\"simple\"><polygon fill=\"#FFFFFF\" points=\"40,49,104,49,111,71.2969,712,71.2969,712,154,40,154,40,49\" style=\"stroke: #000000; stroke-width: 1.5;\"/><line style=\"stroke: #000000; stroke-width: 1.5;\" x1=\"40\" x2=\"111\" y1=\"71.2969\" y2=\"71.2969\"/><text fill=\"#000000\" font-family=\"sans-serif\" font-size=\"14\" font-weight=\"bold\" lengthAdjust=\"spacingAndGlyphs\" textLength=\"58\" x=\"44\" y=\"63.9951\">System</text></a><!--MD5=[60a26617385b1d2d0262a64233df1f8d]\n",
       "class E6--><a href=\"psysml:7440b603-2b18-4efb-9bf4-7832c56b919b\" target=\"_top\" title=\"psysml:7440b603-2b18-4efb-9bf4-7832c56b919b\" xlink:actuate=\"onRequest\" xlink:href=\"psysml:7440b603-2b18-4efb-9bf4-7832c56b919b\" xlink:show=\"new\" xlink:title=\"psysml:7440b603-2b18-4efb-9bf4-7832c56b919b\" xlink:type=\"simple\"><rect fill=\"#FFFFFF\" height=\"45.9375\" id=\"E6\" rx=\"10\" ry=\"10\" style=\"stroke: #383838; stroke-width: 1.5;\" width=\"71\" x=\"366.5\" y=\"254\"/><text fill=\"#000000\" font-family=\"sans-serif\" font-size=\"12\" font-style=\"italic\" lengthAdjust=\"spacingAndGlyphs\" textLength=\"69\" x=\"367.5\" y=\"270.1387\">«attribute»</text><text fill=\"#000000\" font-family=\"sans-serif\" font-size=\"12\" lengthAdjust=\"spacingAndGlyphs\" textLength=\"6\" x=\"399\" y=\"284.1074\">x</text><line style=\"stroke: #383838; stroke-width: 1.5;\" x1=\"367.5\" x2=\"436.5\" y1=\"291.9375\" y2=\"291.9375\"/></a><!--MD5=[2156ba9850f5573cc1fc38a6a4b2f02b]\n",
       "class E7--><a href=\"psysml:d907cb85-580b-45cd-b69d-b597f081eb5c\" target=\"_top\" title=\"psysml:d907cb85-580b-45cd-b69d-b597f081eb5c\" xlink:actuate=\"onRequest\" xlink:href=\"psysml:d907cb85-580b-45cd-b69d-b597f081eb5c\" xlink:show=\"new\" xlink:title=\"psysml:d907cb85-580b-45cd-b69d-b597f081eb5c\" xlink:type=\"simple\"><rect fill=\"#FFFFFF\" height=\"45.9375\" id=\"E7\" rx=\"10\" ry=\"10\" style=\"stroke: #383838; stroke-width: 1.5;\" width=\"71\" x=\"366.5\" y=\"173\"/><text fill=\"#000000\" font-family=\"sans-serif\" font-size=\"12\" font-style=\"italic\" lengthAdjust=\"spacingAndGlyphs\" textLength=\"69\" x=\"367.5\" y=\"189.1387\">«attribute»</text><text fill=\"#000000\" font-family=\"sans-serif\" font-size=\"12\" lengthAdjust=\"spacingAndGlyphs\" textLength=\"6\" x=\"399\" y=\"203.1074\">y</text><line style=\"stroke: #383838; stroke-width: 1.5;\" x1=\"367.5\" x2=\"436.5\" y1=\"210.9375\" y2=\"210.9375\"/></a><!--MD5=[b9389687b975829384b498ac4b7476b2]\n",
       "class E8--><a href=\"psysml:719c36a8-8fd6-40f5-b1aa-2a0e2714a310\" target=\"_top\" title=\"psysml:719c36a8-8fd6-40f5-b1aa-2a0e2714a310\" xlink:actuate=\"onRequest\" xlink:href=\"psysml:719c36a8-8fd6-40f5-b1aa-2a0e2714a310\" xlink:show=\"new\" xlink:title=\"psysml:719c36a8-8fd6-40f5-b1aa-2a0e2714a310\" xlink:type=\"simple\"><rect fill=\"#FFFFFF\" height=\"45.9375\" id=\"E8\" rx=\"10\" ry=\"10\" style=\"stroke: #383838; stroke-width: 1.5;\" width=\"71\" x=\"98.5\" y=\"206\"/><text fill=\"#000000\" font-family=\"sans-serif\" font-size=\"12\" font-style=\"italic\" lengthAdjust=\"spacingAndGlyphs\" textLength=\"69\" x=\"99.5\" y=\"222.1387\">«attribute»</text><text fill=\"#000000\" font-family=\"sans-serif\" font-size=\"12\" lengthAdjust=\"spacingAndGlyphs\" textLength=\"5\" x=\"131.5\" y=\"236.1074\">z</text><line style=\"stroke: #383838; stroke-width: 1.5;\" x1=\"99.5\" x2=\"168.5\" y1=\"243.9375\" y2=\"243.9375\"/></a><a href=\"psysml:f4739741-a5ef-49a4-9e06-4bb8a722f77e\" target=\"_top\" title=\"psysml:f4739741-a5ef-49a4-9e06-4bb8a722f77e\" xlink:actuate=\"onRequest\" xlink:href=\"psysml:f4739741-a5ef-49a4-9e06-4bb8a722f77e\" xlink:show=\"new\" xlink:title=\"psysml:f4739741-a5ef-49a4-9e06-4bb8a722f77e\" xlink:type=\"simple\"><polygon fill=\"#FFFFFF\" points=\"56,84.5,198,84.5,205,106.7969,212,106.7969,212,137.0938,56,137.0938,56,84.5\" style=\"stroke: #000000; stroke-width: 1.5;\"/><line style=\"stroke: #000000; stroke-width: 1.5;\" x1=\"56\" x2=\"205\" y1=\"106.7969\" y2=\"106.7969\"/><text fill=\"#000000\" font-family=\"sans-serif\" font-size=\"14\" font-weight=\"bold\" lengthAdjust=\"spacingAndGlyphs\" textLength=\"136\" x=\"60\" y=\"99.4951\">Application Layer</text></a><a href=\"psysml:e1090b77-2219-4e30-afea-75b6451d3a90\" target=\"_top\" title=\"psysml:e1090b77-2219-4e30-afea-75b6451d3a90\" xlink:actuate=\"onRequest\" xlink:href=\"psysml:e1090b77-2219-4e30-afea-75b6451d3a90\" xlink:show=\"new\" xlink:title=\"psysml:e1090b77-2219-4e30-afea-75b6451d3a90\" xlink:type=\"simple\"><polygon fill=\"#FFFFFF\" points=\"338,84.5,452,84.5,459,106.7969,466,106.7969,466,137.0938,338,137.0938,338,84.5\" style=\"stroke: #000000; stroke-width: 1.5;\"/><line style=\"stroke: #000000; stroke-width: 1.5;\" x1=\"338\" x2=\"459\" y1=\"106.7969\" y2=\"106.7969\"/><text fill=\"#000000\" font-family=\"sans-serif\" font-size=\"14\" font-weight=\"bold\" lengthAdjust=\"spacingAndGlyphs\" textLength=\"108\" x=\"342\" y=\"99.4951\">Service Layer</text></a><a href=\"psysml:fe465764-9ab4-44bf-be91-bd692232f0a1\" target=\"_top\" title=\"psysml:fe465764-9ab4-44bf-be91-bd692232f0a1\" xlink:actuate=\"onRequest\" xlink:href=\"psysml:fe465764-9ab4-44bf-be91-bd692232f0a1\" xlink:show=\"new\" xlink:title=\"psysml:fe465764-9ab4-44bf-be91-bd692232f0a1\" xlink:type=\"simple\"><polygon fill=\"#FFFFFF\" points=\"592,84.5,682,84.5,689,106.7969,696,106.7969,696,137.0938,592,137.0938,592,84.5\" style=\"stroke: #000000; stroke-width: 1.5;\"/><line style=\"stroke: #000000; stroke-width: 1.5;\" x1=\"592\" x2=\"689\" y1=\"106.7969\" y2=\"106.7969\"/><text fill=\"#000000\" font-family=\"sans-serif\" font-size=\"14\" font-weight=\"bold\" lengthAdjust=\"spacingAndGlyphs\" textLength=\"84\" x=\"596\" y=\"99.4951\">Data Layer</text></a><!--MD5=[af87c684e3b0d8be13c1a698a818ef1e]\n",
       "link E3 to E4--><a href=\"psysml:f18ad3d3-ddea-4435-b15e-701f5c4039de\" target=\"_top\" title=\"psysml:f18ad3d3-ddea-4435-b15e-701f5c4039de\" xlink:actuate=\"onRequest\" xlink:href=\"psysml:f18ad3d3-ddea-4435-b15e-701f5c4039de\" xlink:show=\"new\" xlink:title=\"psysml:f18ad3d3-ddea-4435-b15e-701f5c4039de\" xlink:type=\"simple\"><path d=\"M212.3,111 C249.37,111 293.5,111 329.76,111 \" fill=\"none\" id=\"E3-&gt;E4\" style=\"stroke: #383838; stroke-width: 1.0; stroke-dasharray: 7.0,7.0;\"/><polygon fill=\"#383838\" points=\"337.84,111,329.84,108,329.84,114,337.84,111\" style=\"stroke: #383838; stroke-width: 1.0;\"/><text fill=\"#000000\" font-family=\"sans-serif\" font-size=\"13\" lengthAdjust=\"spacingAndGlyphs\" textLength=\"64\" x=\"243\" y=\"107.0669\">«depend»</text></a><!--MD5=[1b7591eae5389033d8d09a9d6721a717]\n",
       "link E4 to E5--><a href=\"psysml:22e4e023-3d64-4f1c-8411-ecdb932522c7\" target=\"_top\" title=\"psysml:22e4e023-3d64-4f1c-8411-ecdb932522c7\" xlink:actuate=\"onRequest\" xlink:href=\"psysml:22e4e023-3d64-4f1c-8411-ecdb932522c7\" xlink:show=\"new\" xlink:title=\"psysml:22e4e023-3d64-4f1c-8411-ecdb932522c7\" xlink:type=\"simple\"><path d=\"M466.06,111 C502.32,111 547.6,111 583.28,111 \" fill=\"none\" id=\"E4-&gt;E5\" style=\"stroke: #383838; stroke-width: 1.0; stroke-dasharray: 7.0,7.0;\"/><polygon fill=\"#383838\" points=\"591.67,111,583.67,108,583.67,114,591.67,111\" style=\"stroke: #383838; stroke-width: 1.0;\"/><text fill=\"#000000\" font-family=\"sans-serif\" font-size=\"13\" lengthAdjust=\"spacingAndGlyphs\" textLength=\"64\" x=\"497\" y=\"107.0669\">«depend»</text></a><!--MD5=[c5e8897d989ce984f93528998a7150fe]\n",
       "link E8 to E6--><a href=\"psysml:01d1ab15-dda9-4157-a585-7877f2cc1d47\" target=\"_top\" title=\"psysml:01d1ab15-dda9-4157-a585-7877f2cc1d47\" xlink:actuate=\"onRequest\" xlink:href=\"psysml:01d1ab15-dda9-4157-a585-7877f2cc1d47\" xlink:show=\"new\" xlink:title=\"psysml:01d1ab15-dda9-4157-a585-7877f2cc1d47\" xlink:type=\"simple\"><path d=\"M169.5,235.23 C217.81,243.94 305.54,259.77 358.03,269.25 \" fill=\"none\" id=\"E8-&gt;E6\" style=\"stroke: #383838; stroke-width: 1.0; stroke-dasharray: 7.0,7.0;\"/><polygon fill=\"#383838\" points=\"366.14,270.71,358.7966,266.3425,357.7356,272.248,366.14,270.71\" style=\"stroke: #383838; stroke-width: 1.0;\"/><text fill=\"#000000\" font-family=\"sans-serif\" font-size=\"13\" lengthAdjust=\"spacingAndGlyphs\" textLength=\"64\" x=\"243\" y=\"245.0669\">«depend»</text></a><!--MD5=[bfa3c8b0d15052fdf50ae9310b491027]\n",
       "link E8 to E7--><a href=\"psysml:01d1ab15-dda9-4157-a585-7877f2cc1d47\" target=\"_top\" title=\"psysml:01d1ab15-dda9-4157-a585-7877f2cc1d47\" xlink:actuate=\"onRequest\" xlink:href=\"psysml:01d1ab15-dda9-4157-a585-7877f2cc1d47\" xlink:show=\"new\" xlink:title=\"psysml:01d1ab15-dda9-4157-a585-7877f2cc1d47\" xlink:type=\"simple\"><path d=\"M169.5,224.72 C217.81,218.73 305.54,207.84 358.03,201.33 \" fill=\"none\" id=\"E8-&gt;E7\" style=\"stroke: #383838; stroke-width: 1.0; stroke-dasharray: 7.0,7.0;\"/><polygon fill=\"#383838\" points=\"366.14,200.33,357.8314,198.3381,358.5704,204.2924,366.14,200.33\" style=\"stroke: #383838; stroke-width: 1.0;\"/><text fill=\"#000000\" font-family=\"sans-serif\" font-size=\"13\" lengthAdjust=\"spacingAndGlyphs\" textLength=\"64\" x=\"243\" y=\"204.0669\">«depend»</text></a><!--MD5=[c15632017ab2be43347b7f81c31d45ff]\n",
       "@startuml\r\n",
       "left to right direction\r\n",
       "skinparam monochrome true\r\n",
       "skinparam classbackgroundcolor white\r\n",
       "skinparam shadowing false\r\n",
       "skinparam wrapWidth 300\r\n",
       "hide circle\r\n",
       "\r\n",
       "package \"DependencyTest\" as E1  [[psysml:a0e63dae-583d-42a3-9f46-6e6177e563b1 ]]  {\r\n",
       "package \"System\" as E2  [[psysml:90630542-d1db-4cfe-a426-6fd5a6b42885 ]]  {\r\n",
       "package \"Application Layer\" as E3  [[psysml:f4739741-a5ef-49a4-9e06-4bb8a722f77e ]]  {\r\n",
       "}\r\n",
       "package \"Service Layer\" as E4  [[psysml:e1090b77-2219-4e30-afea-75b6451d3a90 ]]  {\r\n",
       "}\r\n",
       "package \"Data Layer\" as E5  [[psysml:fe465764-9ab4-44bf-be91-bd692232f0a1 ]]  {\r\n",
       "}\r\n",
       "}\r\n",
       "comp usage \"x\" as E6  <<(T,blue)attribute>> [[psysml:7440b603-2b18-4efb-9bf4-7832c56b919b ]] {\r\n",
       "}\r\n",
       "comp usage \"y\" as E7  <<(T,blue)attribute>> [[psysml:d907cb85-580b-45cd-b69d-b597f081eb5c ]] {\r\n",
       "}\r\n",
       "comp usage \"z\" as E8  <<(T,blue)attribute>> [[psysml:719c36a8-8fd6-40f5-b1aa-2a0e2714a310 ]] {\r\n",
       "}\r\n",
       "E3 ..>> E4 [[psysml:f18ad3d3-ddea-4435-b15e-701f5c4039de ]] : <<depend>>\r\n",
       "E4 ..>> E5 [[psysml:22e4e023-3d64-4f1c-8411-ecdb932522c7 ]] : <<depend>>\r\n",
       "E8 ..>> E6 [[psysml:01d1ab15-dda9-4157-a585-7877f2cc1d47 ]] : <<depend>>\r\n",
       "E8 ..>> E7 [[psysml:01d1ab15-dda9-4157-a585-7877f2cc1d47 ]] : <<depend>>\r\n",
       "}\r\n",
       "@enduml\r\n",
       "\n",
       "PlantUML version 1.2020.13(Sat Jun 13 12:26:38 UTC 2020)\n",
       "(EPL source distribution)\n",
       "Java Runtime: OpenJDK Runtime Environment\n",
       "JVM: OpenJDK 64-Bit Server VM\n",
       "Default Encoding: UTF-8\n",
       "Language: en\n",
       "Country: null\n",
       "--></g></svg>"
      ]
     },
     "execution_count": 17,
     "metadata": {},
     "output_type": "execute_result"
    }
   ],
   "source": [
    "%viz --style=\"LR\" --view=\"Tree\" \"DependencyTest\""
   ]
  },
  {
   "cell_type": "code",
   "execution_count": 18,
   "id": "ad14e98a",
   "metadata": {
    "execution": {
     "iopub.execute_input": "2021-04-21T20:26:05.997826Z",
     "iopub.status.busy": "2021-04-21T20:26:05.997254Z",
     "iopub.status.idle": "2021-04-21T20:26:06.003476Z",
     "shell.execute_reply": "2021-04-21T20:26:06.003121Z"
    }
   },
   "outputs": [
    {
     "data": {
      "image/svg+xml": [
       "<?xml version=\"1.0\" encoding=\"UTF-8\" standalone=\"no\"?><svg xmlns=\"http://www.w3.org/2000/svg\" xmlns:xlink=\"http://www.w3.org/1999/xlink\" contentScriptType=\"application/ecmascript\" contentStyleType=\"text/css\" height=\"12px\" preserveAspectRatio=\"none\" style=\"width:12px;height:12px;\" version=\"1.1\" viewBox=\"0 0 12 12\" width=\"12px\" zoomAndPan=\"magnify\"><defs/><g><!--MD5=[19d285c9d72a204eba4e2cd117d745e8]\n",
       "@startuml\r\n",
       "left to right direction\r\n",
       "skinparam monochrome true\r\n",
       "skinparam classbackgroundcolor white\r\n",
       "skinparam shadowing false\r\n",
       "skinparam wrapWidth 300\r\n",
       "hide circle\r\n",
       "\r\n",
       "@enduml\r\n",
       "\n",
       "PlantUML version 1.2020.13(Sat Jun 13 12:26:38 UTC 2020)\n",
       "(EPL source distribution)\n",
       "Java Runtime: OpenJDK Runtime Environment\n",
       "JVM: OpenJDK 64-Bit Server VM\n",
       "Default Encoding: UTF-8\n",
       "Language: en\n",
       "Country: null\n",
       "--></g></svg>"
      ]
     },
     "execution_count": 18,
     "metadata": {},
     "output_type": "execute_result"
    }
   ],
   "source": [
    "%viz --style=\"LR\" --view=\"State\" \"DependencyTest\""
   ]
  },
  {
   "cell_type": "code",
   "execution_count": 19,
   "id": "8ec43222",
   "metadata": {
    "execution": {
     "iopub.execute_input": "2021-04-21T20:26:06.055250Z",
     "iopub.status.busy": "2021-04-21T20:26:06.054658Z",
     "iopub.status.idle": "2021-04-21T20:26:06.094124Z",
     "shell.execute_reply": "2021-04-21T20:26:06.093738Z"
    }
   },
   "outputs": [
    {
     "data": {
      "image/svg+xml": [
       "<?xml version=\"1.0\" encoding=\"UTF-8\" standalone=\"no\"?><svg xmlns=\"http://www.w3.org/2000/svg\" xmlns:xlink=\"http://www.w3.org/1999/xlink\" contentScriptType=\"application/ecmascript\" contentStyleType=\"text/css\" height=\"328px\" preserveAspectRatio=\"none\" style=\"width:670px;height:328px;\" version=\"1.1\" viewBox=\"0 0 670 328\" width=\"670px\" zoomAndPan=\"magnify\"><defs/><g><!--MD5=[fbc87193dbaf4d95561dea2c320d4a47]\n",
       "cluster E1--><a href=\"psysml:a0e63dae-583d-42a3-9f46-6e6177e563b1\" target=\"_top\" title=\"psysml:a0e63dae-583d-42a3-9f46-6e6177e563b1\" xlink:actuate=\"onRequest\" xlink:href=\"psysml:a0e63dae-583d-42a3-9f46-6e6177e563b1\" xlink:show=\"new\" xlink:title=\"psysml:a0e63dae-583d-42a3-9f46-6e6177e563b1\" xlink:type=\"simple\"><polygon fill=\"#FFFFFF\" points=\"16,6,156,6,163,28.2969,648,28.2969,648,316,16,316,16,6\" style=\"stroke: #000000; stroke-width: 1.5;\"/><line style=\"stroke: #000000; stroke-width: 1.5;\" x1=\"16\" x2=\"163\" y1=\"28.2969\" y2=\"28.2969\"/><text fill=\"#000000\" font-family=\"sans-serif\" font-size=\"14\" font-weight=\"bold\" lengthAdjust=\"spacingAndGlyphs\" textLength=\"134\" x=\"20\" y=\"20.9951\">DependencyTest</text></a><!--MD5=[e4f7fae6ed58524ba242bb0b0d3be6b7]\n",
       "cluster E2--><a href=\"psysml:90630542-d1db-4cfe-a426-6fd5a6b42885\" target=\"_top\" title=\"psysml:90630542-d1db-4cfe-a426-6fd5a6b42885\" xlink:actuate=\"onRequest\" xlink:href=\"psysml:90630542-d1db-4cfe-a426-6fd5a6b42885\" xlink:show=\"new\" xlink:title=\"psysml:90630542-d1db-4cfe-a426-6fd5a6b42885\" xlink:type=\"simple\"><polygon fill=\"#FFFFFF\" points=\"40,49,104,49,111,71.2969,624,71.2969,624,154,40,154,40,49\" style=\"stroke: #000000; stroke-width: 1.5;\"/><line style=\"stroke: #000000; stroke-width: 1.5;\" x1=\"40\" x2=\"111\" y1=\"71.2969\" y2=\"71.2969\"/><text fill=\"#000000\" font-family=\"sans-serif\" font-size=\"14\" font-weight=\"bold\" lengthAdjust=\"spacingAndGlyphs\" textLength=\"58\" x=\"44\" y=\"63.9951\">System</text></a><!--MD5=[60a26617385b1d2d0262a64233df1f8d]\n",
       "class E6--><a href=\"psysml:7440b603-2b18-4efb-9bf4-7832c56b919b\" target=\"_top\" title=\"psysml:7440b603-2b18-4efb-9bf4-7832c56b919b\" xlink:actuate=\"onRequest\" xlink:href=\"psysml:7440b603-2b18-4efb-9bf4-7832c56b919b\" xlink:show=\"new\" xlink:title=\"psysml:7440b603-2b18-4efb-9bf4-7832c56b919b\" xlink:type=\"simple\"><rect fill=\"#FFFFFF\" height=\"45.9375\" id=\"E6\" rx=\"10\" ry=\"10\" style=\"stroke: #383838; stroke-width: 1.5;\" width=\"71\" x=\"322.5\" y=\"254\"/><text fill=\"#000000\" font-family=\"sans-serif\" font-size=\"12\" font-style=\"italic\" lengthAdjust=\"spacingAndGlyphs\" textLength=\"69\" x=\"323.5\" y=\"270.1387\">«attribute»</text><text fill=\"#000000\" font-family=\"sans-serif\" font-size=\"12\" lengthAdjust=\"spacingAndGlyphs\" textLength=\"6\" x=\"355\" y=\"284.1074\">x</text><line style=\"stroke: #383838; stroke-width: 1.5;\" x1=\"323.5\" x2=\"392.5\" y1=\"291.9375\" y2=\"291.9375\"/></a><!--MD5=[2156ba9850f5573cc1fc38a6a4b2f02b]\n",
       "class E7--><a href=\"psysml:d907cb85-580b-45cd-b69d-b597f081eb5c\" target=\"_top\" title=\"psysml:d907cb85-580b-45cd-b69d-b597f081eb5c\" xlink:actuate=\"onRequest\" xlink:href=\"psysml:d907cb85-580b-45cd-b69d-b597f081eb5c\" xlink:show=\"new\" xlink:title=\"psysml:d907cb85-580b-45cd-b69d-b597f081eb5c\" xlink:type=\"simple\"><rect fill=\"#FFFFFF\" height=\"45.9375\" id=\"E7\" rx=\"10\" ry=\"10\" style=\"stroke: #383838; stroke-width: 1.5;\" width=\"71\" x=\"322.5\" y=\"173\"/><text fill=\"#000000\" font-family=\"sans-serif\" font-size=\"12\" font-style=\"italic\" lengthAdjust=\"spacingAndGlyphs\" textLength=\"69\" x=\"323.5\" y=\"189.1387\">«attribute»</text><text fill=\"#000000\" font-family=\"sans-serif\" font-size=\"12\" lengthAdjust=\"spacingAndGlyphs\" textLength=\"6\" x=\"355\" y=\"203.1074\">y</text><line style=\"stroke: #383838; stroke-width: 1.5;\" x1=\"323.5\" x2=\"392.5\" y1=\"210.9375\" y2=\"210.9375\"/></a><!--MD5=[b9389687b975829384b498ac4b7476b2]\n",
       "class E8--><a href=\"psysml:719c36a8-8fd6-40f5-b1aa-2a0e2714a310\" target=\"_top\" title=\"psysml:719c36a8-8fd6-40f5-b1aa-2a0e2714a310\" xlink:actuate=\"onRequest\" xlink:href=\"psysml:719c36a8-8fd6-40f5-b1aa-2a0e2714a310\" xlink:show=\"new\" xlink:title=\"psysml:719c36a8-8fd6-40f5-b1aa-2a0e2714a310\" xlink:type=\"simple\"><rect fill=\"#FFFFFF\" height=\"45.9375\" id=\"E8\" rx=\"10\" ry=\"10\" style=\"stroke: #383838; stroke-width: 1.5;\" width=\"71\" x=\"98.5\" y=\"206\"/><text fill=\"#000000\" font-family=\"sans-serif\" font-size=\"12\" font-style=\"italic\" lengthAdjust=\"spacingAndGlyphs\" textLength=\"69\" x=\"99.5\" y=\"222.1387\">«attribute»</text><text fill=\"#000000\" font-family=\"sans-serif\" font-size=\"12\" lengthAdjust=\"spacingAndGlyphs\" textLength=\"5\" x=\"131.5\" y=\"236.1074\">z</text><line style=\"stroke: #383838; stroke-width: 1.5;\" x1=\"99.5\" x2=\"168.5\" y1=\"243.9375\" y2=\"243.9375\"/></a><a href=\"psysml:f4739741-a5ef-49a4-9e06-4bb8a722f77e\" target=\"_top\" title=\"psysml:f4739741-a5ef-49a4-9e06-4bb8a722f77e\" xlink:actuate=\"onRequest\" xlink:href=\"psysml:f4739741-a5ef-49a4-9e06-4bb8a722f77e\" xlink:show=\"new\" xlink:title=\"psysml:f4739741-a5ef-49a4-9e06-4bb8a722f77e\" xlink:type=\"simple\"><polygon fill=\"#FFFFFF\" points=\"56,84.5,198,84.5,205,106.7969,212,106.7969,212,137.0938,56,137.0938,56,84.5\" style=\"stroke: #000000; stroke-width: 1.5;\"/><line style=\"stroke: #000000; stroke-width: 1.5;\" x1=\"56\" x2=\"205\" y1=\"106.7969\" y2=\"106.7969\"/><text fill=\"#000000\" font-family=\"sans-serif\" font-size=\"14\" font-weight=\"bold\" lengthAdjust=\"spacingAndGlyphs\" textLength=\"136\" x=\"60\" y=\"99.4951\">Application Layer</text></a><a href=\"psysml:e1090b77-2219-4e30-afea-75b6451d3a90\" target=\"_top\" title=\"psysml:e1090b77-2219-4e30-afea-75b6451d3a90\" xlink:actuate=\"onRequest\" xlink:href=\"psysml:e1090b77-2219-4e30-afea-75b6451d3a90\" xlink:show=\"new\" xlink:title=\"psysml:e1090b77-2219-4e30-afea-75b6451d3a90\" xlink:type=\"simple\"><polygon fill=\"#FFFFFF\" points=\"294,84.5,408,84.5,415,106.7969,422,106.7969,422,137.0938,294,137.0938,294,84.5\" style=\"stroke: #000000; stroke-width: 1.5;\"/><line style=\"stroke: #000000; stroke-width: 1.5;\" x1=\"294\" x2=\"415\" y1=\"106.7969\" y2=\"106.7969\"/><text fill=\"#000000\" font-family=\"sans-serif\" font-size=\"14\" font-weight=\"bold\" lengthAdjust=\"spacingAndGlyphs\" textLength=\"108\" x=\"298\" y=\"99.4951\">Service Layer</text></a><a href=\"psysml:fe465764-9ab4-44bf-be91-bd692232f0a1\" target=\"_top\" title=\"psysml:fe465764-9ab4-44bf-be91-bd692232f0a1\" xlink:actuate=\"onRequest\" xlink:href=\"psysml:fe465764-9ab4-44bf-be91-bd692232f0a1\" xlink:show=\"new\" xlink:title=\"psysml:fe465764-9ab4-44bf-be91-bd692232f0a1\" xlink:type=\"simple\"><polygon fill=\"#FFFFFF\" points=\"504,84.5,594,84.5,601,106.7969,608,106.7969,608,137.0938,504,137.0938,504,84.5\" style=\"stroke: #000000; stroke-width: 1.5;\"/><line style=\"stroke: #000000; stroke-width: 1.5;\" x1=\"504\" x2=\"601\" y1=\"106.7969\" y2=\"106.7969\"/><text fill=\"#000000\" font-family=\"sans-serif\" font-size=\"14\" font-weight=\"bold\" lengthAdjust=\"spacingAndGlyphs\" textLength=\"84\" x=\"508\" y=\"99.4951\">Data Layer</text></a><!--MD5=[af87c684e3b0d8be13c1a698a818ef1e]\n",
       "link E3 to E4--><a href=\"psysml:f18ad3d3-ddea-4435-b15e-701f5c4039de\" target=\"_top\" title=\"psysml:f18ad3d3-ddea-4435-b15e-701f5c4039de\" xlink:actuate=\"onRequest\" xlink:href=\"psysml:f18ad3d3-ddea-4435-b15e-701f5c4039de\" xlink:show=\"new\" xlink:title=\"psysml:f18ad3d3-ddea-4435-b15e-701f5c4039de\" xlink:type=\"simple\"><path d=\"M212.02,111 C235.88,111 262.06,111 285.53,111 \" fill=\"none\" id=\"E3-&gt;E4\" style=\"stroke: #383838; stroke-width: 1.0; stroke-dasharray: 7.0,7.0;\"/><polygon fill=\"#383838\" points=\"293.71,111,285.71,108,285.71,114,293.71,111\" style=\"stroke: #383838; stroke-width: 1.0;\"/><text fill=\"#000000\" font-family=\"sans-serif\" font-size=\"13\" lengthAdjust=\"spacingAndGlyphs\" textLength=\"64\" x=\"221\" y=\"107.0669\">«depend»</text></a><!--MD5=[1b7591eae5389033d8d09a9d6721a717]\n",
       "link E4 to E5--><a href=\"psysml:22e4e023-3d64-4f1c-8411-ecdb932522c7\" target=\"_top\" title=\"psysml:22e4e023-3d64-4f1c-8411-ecdb932522c7\" xlink:actuate=\"onRequest\" xlink:href=\"psysml:22e4e023-3d64-4f1c-8411-ecdb932522c7\" xlink:show=\"new\" xlink:title=\"psysml:22e4e023-3d64-4f1c-8411-ecdb932522c7\" xlink:type=\"simple\"><path d=\"M422.09,111 C445.72,111 472.46,111 495.72,111 \" fill=\"none\" id=\"E4-&gt;E5\" style=\"stroke: #383838; stroke-width: 1.0; stroke-dasharray: 7.0,7.0;\"/><polygon fill=\"#383838\" points=\"503.8,111,495.8,108,495.8,114,503.8,111\" style=\"stroke: #383838; stroke-width: 1.0;\"/><text fill=\"#000000\" font-family=\"sans-serif\" font-size=\"13\" lengthAdjust=\"spacingAndGlyphs\" textLength=\"64\" x=\"431\" y=\"107.0669\">«depend»</text></a><!--MD5=[c5e8897d989ce984f93528998a7150fe]\n",
       "link E8 to E6--><a href=\"psysml:01d1ab15-dda9-4157-a585-7877f2cc1d47\" target=\"_top\" title=\"psysml:01d1ab15-dda9-4157-a585-7877f2cc1d47\" xlink:actuate=\"onRequest\" xlink:href=\"psysml:01d1ab15-dda9-4157-a585-7877f2cc1d47\" xlink:show=\"new\" xlink:title=\"psysml:01d1ab15-dda9-4157-a585-7877f2cc1d47\" xlink:type=\"simple\"><path d=\"M169.69,236.5 C208.75,244.95 272.26,258.68 314.34,267.78 \" fill=\"none\" id=\"E8-&gt;E6\" style=\"stroke: #383838; stroke-width: 1.0; stroke-dasharray: 7.0,7.0;\"/><polygon fill=\"#383838\" points=\"322.19,269.47,315.0025,264.8505,313.7373,270.7156,322.19,269.47\" style=\"stroke: #383838; stroke-width: 1.0;\"/><text fill=\"#000000\" font-family=\"sans-serif\" font-size=\"13\" lengthAdjust=\"spacingAndGlyphs\" textLength=\"64\" x=\"221\" y=\"245.0669\">«depend»</text></a><!--MD5=[bfa3c8b0d15052fdf50ae9310b491027]\n",
       "link E8 to E7--><a href=\"psysml:01d1ab15-dda9-4157-a585-7877f2cc1d47\" target=\"_top\" title=\"psysml:01d1ab15-dda9-4157-a585-7877f2cc1d47\" xlink:actuate=\"onRequest\" xlink:href=\"psysml:01d1ab15-dda9-4157-a585-7877f2cc1d47\" xlink:show=\"new\" xlink:title=\"psysml:01d1ab15-dda9-4157-a585-7877f2cc1d47\" xlink:type=\"simple\"><path d=\"M169.69,223.84 C208.67,218.05 272,208.64 314.07,202.38 \" fill=\"none\" id=\"E8-&gt;E7\" style=\"stroke: #383838; stroke-width: 1.0; stroke-dasharray: 7.0,7.0;\"/><polygon fill=\"#383838\" points=\"322.19,201.17,313.837,199.3737,314.7155,205.309,322.19,201.17\" style=\"stroke: #383838; stroke-width: 1.0;\"/><text fill=\"#000000\" font-family=\"sans-serif\" font-size=\"13\" lengthAdjust=\"spacingAndGlyphs\" textLength=\"64\" x=\"221\" y=\"203.0669\">«depend»</text></a><!--MD5=[ea810a0a12d58b8abba83306d6ac4751]\n",
       "@startuml\r\n",
       "skinparam ranksep 10\r\n",
       "skinparam rectangle {\r\n",
       " backgroundColor<<block>> LightGreen\r\n",
       "}\r\n",
       "left to right direction\r\n",
       "skinparam monochrome true\r\n",
       "skinparam classbackgroundcolor white\r\n",
       "skinparam shadowing false\r\n",
       "skinparam wrapWidth 300\r\n",
       "hide circle\r\n",
       "\r\n",
       "package \"DependencyTest\" as E1  [[psysml:a0e63dae-583d-42a3-9f46-6e6177e563b1 ]]  {\r\n",
       "package \"System\" as E2  [[psysml:90630542-d1db-4cfe-a426-6fd5a6b42885 ]]  {\r\n",
       "package \"Application Layer\" as E3  [[psysml:f4739741-a5ef-49a4-9e06-4bb8a722f77e ]]  {\r\n",
       "}\r\n",
       "package \"Service Layer\" as E4  [[psysml:e1090b77-2219-4e30-afea-75b6451d3a90 ]]  {\r\n",
       "}\r\n",
       "package \"Data Layer\" as E5  [[psysml:fe465764-9ab4-44bf-be91-bd692232f0a1 ]]  {\r\n",
       "}\r\n",
       "}\r\n",
       "comp usage \"x\" as E6  <<(T,blue)attribute>> [[psysml:7440b603-2b18-4efb-9bf4-7832c56b919b ]] {\r\n",
       "}\r\n",
       "comp usage \"y\" as E7  <<(T,blue)attribute>> [[psysml:d907cb85-580b-45cd-b69d-b597f081eb5c ]] {\r\n",
       "}\r\n",
       "comp usage \"z\" as E8  <<(T,blue)attribute>> [[psysml:719c36a8-8fd6-40f5-b1aa-2a0e2714a310 ]] {\r\n",
       "}\r\n",
       "E3 ..>> E4 [[psysml:f18ad3d3-ddea-4435-b15e-701f5c4039de ]] : <<depend>>\r\n",
       "E4 ..>> E5 [[psysml:22e4e023-3d64-4f1c-8411-ecdb932522c7 ]] : <<depend>>\r\n",
       "E8 ..>> E6 [[psysml:01d1ab15-dda9-4157-a585-7877f2cc1d47 ]] : <<depend>>\r\n",
       "E8 ..>> E7 [[psysml:01d1ab15-dda9-4157-a585-7877f2cc1d47 ]] : <<depend>>\r\n",
       "}\r\n",
       "@enduml\r\n",
       "\n",
       "PlantUML version 1.2020.13(Sat Jun 13 12:26:38 UTC 2020)\n",
       "(EPL source distribution)\n",
       "Java Runtime: OpenJDK Runtime Environment\n",
       "JVM: OpenJDK 64-Bit Server VM\n",
       "Default Encoding: UTF-8\n",
       "Language: en\n",
       "Country: null\n",
       "--></g></svg>"
      ]
     },
     "execution_count": 19,
     "metadata": {},
     "output_type": "execute_result"
    }
   ],
   "source": [
    "%viz --style=\"LR\" --view=\"Interconnection\" \"DependencyTest\""
   ]
  },
  {
   "cell_type": "code",
   "execution_count": 20,
   "id": "0b9880d9",
   "metadata": {
    "execution": {
     "iopub.execute_input": "2021-04-21T20:26:06.145832Z",
     "iopub.status.busy": "2021-04-21T20:26:06.145249Z",
     "iopub.status.idle": "2021-04-21T20:26:06.150765Z",
     "shell.execute_reply": "2021-04-21T20:26:06.150410Z"
    }
   },
   "outputs": [
    {
     "data": {
      "image/svg+xml": [
       "<?xml version=\"1.0\" encoding=\"UTF-8\" standalone=\"no\"?><svg xmlns=\"http://www.w3.org/2000/svg\" xmlns:xlink=\"http://www.w3.org/1999/xlink\" contentScriptType=\"application/ecmascript\" contentStyleType=\"text/css\" height=\"12px\" preserveAspectRatio=\"none\" style=\"width:12px;height:12px;\" version=\"1.1\" viewBox=\"0 0 12 12\" width=\"12px\" zoomAndPan=\"magnify\"><defs/><g><!--MD5=[7aeb398939421629f6affaa4a1a7b125]\n",
       "@startuml\r\n",
       "skinparam ranksep 8\r\n",
       "left to right direction\r\n",
       "skinparam monochrome true\r\n",
       "skinparam classbackgroundcolor white\r\n",
       "skinparam shadowing false\r\n",
       "skinparam wrapWidth 300\r\n",
       "hide circle\r\n",
       "\r\n",
       "@enduml\r\n",
       "\n",
       "PlantUML version 1.2020.13(Sat Jun 13 12:26:38 UTC 2020)\n",
       "(EPL source distribution)\n",
       "Java Runtime: OpenJDK Runtime Environment\n",
       "JVM: OpenJDK 64-Bit Server VM\n",
       "Default Encoding: UTF-8\n",
       "Language: en\n",
       "Country: null\n",
       "--></g></svg>"
      ]
     },
     "execution_count": 20,
     "metadata": {},
     "output_type": "execute_result"
    }
   ],
   "source": [
    "%viz --style=\"LR\" --view=\"Action\" \"DependencyTest\""
   ]
  },
  {
   "cell_type": "code",
   "execution_count": 21,
   "id": "aa0e7b22",
   "metadata": {
    "execution": {
     "iopub.execute_input": "2021-04-21T20:26:06.202763Z",
     "iopub.status.busy": "2021-04-21T20:26:06.202292Z",
     "iopub.status.idle": "2021-04-21T20:26:06.240897Z",
     "shell.execute_reply": "2021-04-21T20:26:06.240520Z"
    }
   },
   "outputs": [
    {
     "data": {
      "image/svg+xml": [
       "<?xml version=\"1.0\" encoding=\"UTF-8\" standalone=\"no\"?><svg xmlns=\"http://www.w3.org/2000/svg\" xmlns:xlink=\"http://www.w3.org/1999/xlink\" contentScriptType=\"application/ecmascript\" contentStyleType=\"text/css\" height=\"328px\" preserveAspectRatio=\"none\" style=\"width:758px;height:328px;\" version=\"1.1\" viewBox=\"0 0 758 328\" width=\"758px\" zoomAndPan=\"magnify\"><defs/><g><!--MD5=[fbc87193dbaf4d95561dea2c320d4a47]\n",
       "cluster E1--><a href=\"psysml:a0e63dae-583d-42a3-9f46-6e6177e563b1\" target=\"_top\" title=\"psysml:a0e63dae-583d-42a3-9f46-6e6177e563b1\" xlink:actuate=\"onRequest\" xlink:href=\"psysml:a0e63dae-583d-42a3-9f46-6e6177e563b1\" xlink:show=\"new\" xlink:title=\"psysml:a0e63dae-583d-42a3-9f46-6e6177e563b1\" xlink:type=\"simple\"><polygon fill=\"#FFFFFF\" points=\"16,6,156,6,163,28.2969,736,28.2969,736,316,16,316,16,6\" style=\"stroke: #000000; stroke-width: 1.5;\"/><line style=\"stroke: #000000; stroke-width: 1.5;\" x1=\"16\" x2=\"163\" y1=\"28.2969\" y2=\"28.2969\"/><text fill=\"#000000\" font-family=\"sans-serif\" font-size=\"14\" font-weight=\"bold\" lengthAdjust=\"spacingAndGlyphs\" textLength=\"134\" x=\"20\" y=\"20.9951\">DependencyTest</text></a><!--MD5=[e4f7fae6ed58524ba242bb0b0d3be6b7]\n",
       "cluster E2--><a href=\"psysml:90630542-d1db-4cfe-a426-6fd5a6b42885\" target=\"_top\" title=\"psysml:90630542-d1db-4cfe-a426-6fd5a6b42885\" xlink:actuate=\"onRequest\" xlink:href=\"psysml:90630542-d1db-4cfe-a426-6fd5a6b42885\" xlink:show=\"new\" xlink:title=\"psysml:90630542-d1db-4cfe-a426-6fd5a6b42885\" xlink:type=\"simple\"><polygon fill=\"#FFFFFF\" points=\"40,49,104,49,111,71.2969,712,71.2969,712,154,40,154,40,49\" style=\"stroke: #000000; stroke-width: 1.5;\"/><line style=\"stroke: #000000; stroke-width: 1.5;\" x1=\"40\" x2=\"111\" y1=\"71.2969\" y2=\"71.2969\"/><text fill=\"#000000\" font-family=\"sans-serif\" font-size=\"14\" font-weight=\"bold\" lengthAdjust=\"spacingAndGlyphs\" textLength=\"58\" x=\"44\" y=\"63.9951\">System</text></a><!--MD5=[60a26617385b1d2d0262a64233df1f8d]\n",
       "class E6--><a href=\"psysml:7440b603-2b18-4efb-9bf4-7832c56b919b\" target=\"_top\" title=\"psysml:7440b603-2b18-4efb-9bf4-7832c56b919b\" xlink:actuate=\"onRequest\" xlink:href=\"psysml:7440b603-2b18-4efb-9bf4-7832c56b919b\" xlink:show=\"new\" xlink:title=\"psysml:7440b603-2b18-4efb-9bf4-7832c56b919b\" xlink:type=\"simple\"><rect fill=\"#FFFFFF\" height=\"45.9375\" id=\"E6\" rx=\"10\" ry=\"10\" style=\"stroke: #383838; stroke-width: 1.5;\" width=\"71\" x=\"366.5\" y=\"254\"/><text fill=\"#000000\" font-family=\"sans-serif\" font-size=\"12\" font-style=\"italic\" lengthAdjust=\"spacingAndGlyphs\" textLength=\"69\" x=\"367.5\" y=\"270.1387\">«attribute»</text><text fill=\"#000000\" font-family=\"sans-serif\" font-size=\"12\" lengthAdjust=\"spacingAndGlyphs\" textLength=\"6\" x=\"399\" y=\"284.1074\">x</text><line style=\"stroke: #383838; stroke-width: 1.5;\" x1=\"367.5\" x2=\"436.5\" y1=\"291.9375\" y2=\"291.9375\"/></a><!--MD5=[2156ba9850f5573cc1fc38a6a4b2f02b]\n",
       "class E7--><a href=\"psysml:d907cb85-580b-45cd-b69d-b597f081eb5c\" target=\"_top\" title=\"psysml:d907cb85-580b-45cd-b69d-b597f081eb5c\" xlink:actuate=\"onRequest\" xlink:href=\"psysml:d907cb85-580b-45cd-b69d-b597f081eb5c\" xlink:show=\"new\" xlink:title=\"psysml:d907cb85-580b-45cd-b69d-b597f081eb5c\" xlink:type=\"simple\"><rect fill=\"#FFFFFF\" height=\"45.9375\" id=\"E7\" rx=\"10\" ry=\"10\" style=\"stroke: #383838; stroke-width: 1.5;\" width=\"71\" x=\"366.5\" y=\"173\"/><text fill=\"#000000\" font-family=\"sans-serif\" font-size=\"12\" font-style=\"italic\" lengthAdjust=\"spacingAndGlyphs\" textLength=\"69\" x=\"367.5\" y=\"189.1387\">«attribute»</text><text fill=\"#000000\" font-family=\"sans-serif\" font-size=\"12\" lengthAdjust=\"spacingAndGlyphs\" textLength=\"6\" x=\"399\" y=\"203.1074\">y</text><line style=\"stroke: #383838; stroke-width: 1.5;\" x1=\"367.5\" x2=\"436.5\" y1=\"210.9375\" y2=\"210.9375\"/></a><!--MD5=[b9389687b975829384b498ac4b7476b2]\n",
       "class E8--><a href=\"psysml:719c36a8-8fd6-40f5-b1aa-2a0e2714a310\" target=\"_top\" title=\"psysml:719c36a8-8fd6-40f5-b1aa-2a0e2714a310\" xlink:actuate=\"onRequest\" xlink:href=\"psysml:719c36a8-8fd6-40f5-b1aa-2a0e2714a310\" xlink:show=\"new\" xlink:title=\"psysml:719c36a8-8fd6-40f5-b1aa-2a0e2714a310\" xlink:type=\"simple\"><rect fill=\"#FFFFFF\" height=\"45.9375\" id=\"E8\" rx=\"10\" ry=\"10\" style=\"stroke: #383838; stroke-width: 1.5;\" width=\"71\" x=\"98.5\" y=\"206\"/><text fill=\"#000000\" font-family=\"sans-serif\" font-size=\"12\" font-style=\"italic\" lengthAdjust=\"spacingAndGlyphs\" textLength=\"69\" x=\"99.5\" y=\"222.1387\">«attribute»</text><text fill=\"#000000\" font-family=\"sans-serif\" font-size=\"12\" lengthAdjust=\"spacingAndGlyphs\" textLength=\"5\" x=\"131.5\" y=\"236.1074\">z</text><line style=\"stroke: #383838; stroke-width: 1.5;\" x1=\"99.5\" x2=\"168.5\" y1=\"243.9375\" y2=\"243.9375\"/></a><a href=\"psysml:f4739741-a5ef-49a4-9e06-4bb8a722f77e\" target=\"_top\" title=\"psysml:f4739741-a5ef-49a4-9e06-4bb8a722f77e\" xlink:actuate=\"onRequest\" xlink:href=\"psysml:f4739741-a5ef-49a4-9e06-4bb8a722f77e\" xlink:show=\"new\" xlink:title=\"psysml:f4739741-a5ef-49a4-9e06-4bb8a722f77e\" xlink:type=\"simple\"><polygon fill=\"#FFFFFF\" points=\"56,84.5,198,84.5,205,106.7969,212,106.7969,212,137.0938,56,137.0938,56,84.5\" style=\"stroke: #000000; stroke-width: 1.5;\"/><line style=\"stroke: #000000; stroke-width: 1.5;\" x1=\"56\" x2=\"205\" y1=\"106.7969\" y2=\"106.7969\"/><text fill=\"#000000\" font-family=\"sans-serif\" font-size=\"14\" font-weight=\"bold\" lengthAdjust=\"spacingAndGlyphs\" textLength=\"136\" x=\"60\" y=\"99.4951\">Application Layer</text></a><a href=\"psysml:e1090b77-2219-4e30-afea-75b6451d3a90\" target=\"_top\" title=\"psysml:e1090b77-2219-4e30-afea-75b6451d3a90\" xlink:actuate=\"onRequest\" xlink:href=\"psysml:e1090b77-2219-4e30-afea-75b6451d3a90\" xlink:show=\"new\" xlink:title=\"psysml:e1090b77-2219-4e30-afea-75b6451d3a90\" xlink:type=\"simple\"><polygon fill=\"#FFFFFF\" points=\"338,84.5,452,84.5,459,106.7969,466,106.7969,466,137.0938,338,137.0938,338,84.5\" style=\"stroke: #000000; stroke-width: 1.5;\"/><line style=\"stroke: #000000; stroke-width: 1.5;\" x1=\"338\" x2=\"459\" y1=\"106.7969\" y2=\"106.7969\"/><text fill=\"#000000\" font-family=\"sans-serif\" font-size=\"14\" font-weight=\"bold\" lengthAdjust=\"spacingAndGlyphs\" textLength=\"108\" x=\"342\" y=\"99.4951\">Service Layer</text></a><a href=\"psysml:fe465764-9ab4-44bf-be91-bd692232f0a1\" target=\"_top\" title=\"psysml:fe465764-9ab4-44bf-be91-bd692232f0a1\" xlink:actuate=\"onRequest\" xlink:href=\"psysml:fe465764-9ab4-44bf-be91-bd692232f0a1\" xlink:show=\"new\" xlink:title=\"psysml:fe465764-9ab4-44bf-be91-bd692232f0a1\" xlink:type=\"simple\"><polygon fill=\"#FFFFFF\" points=\"592,84.5,682,84.5,689,106.7969,696,106.7969,696,137.0938,592,137.0938,592,84.5\" style=\"stroke: #000000; stroke-width: 1.5;\"/><line style=\"stroke: #000000; stroke-width: 1.5;\" x1=\"592\" x2=\"689\" y1=\"106.7969\" y2=\"106.7969\"/><text fill=\"#000000\" font-family=\"sans-serif\" font-size=\"14\" font-weight=\"bold\" lengthAdjust=\"spacingAndGlyphs\" textLength=\"84\" x=\"596\" y=\"99.4951\">Data Layer</text></a><!--MD5=[af87c684e3b0d8be13c1a698a818ef1e]\n",
       "link E3 to E4--><a href=\"psysml:f18ad3d3-ddea-4435-b15e-701f5c4039de\" target=\"_top\" title=\"psysml:f18ad3d3-ddea-4435-b15e-701f5c4039de\" xlink:actuate=\"onRequest\" xlink:href=\"psysml:f18ad3d3-ddea-4435-b15e-701f5c4039de\" xlink:show=\"new\" xlink:title=\"psysml:f18ad3d3-ddea-4435-b15e-701f5c4039de\" xlink:type=\"simple\"><path d=\"M212.3,111 C249.37,111 293.5,111 329.76,111 \" fill=\"none\" id=\"E3-&gt;E4\" style=\"stroke: #383838; stroke-width: 1.0; stroke-dasharray: 7.0,7.0;\"/><polygon fill=\"#383838\" points=\"337.84,111,329.84,108,329.84,114,337.84,111\" style=\"stroke: #383838; stroke-width: 1.0;\"/><text fill=\"#000000\" font-family=\"sans-serif\" font-size=\"13\" lengthAdjust=\"spacingAndGlyphs\" textLength=\"64\" x=\"243\" y=\"107.0669\">«depend»</text></a><!--MD5=[1b7591eae5389033d8d09a9d6721a717]\n",
       "link E4 to E5--><a href=\"psysml:22e4e023-3d64-4f1c-8411-ecdb932522c7\" target=\"_top\" title=\"psysml:22e4e023-3d64-4f1c-8411-ecdb932522c7\" xlink:actuate=\"onRequest\" xlink:href=\"psysml:22e4e023-3d64-4f1c-8411-ecdb932522c7\" xlink:show=\"new\" xlink:title=\"psysml:22e4e023-3d64-4f1c-8411-ecdb932522c7\" xlink:type=\"simple\"><path d=\"M466.06,111 C502.32,111 547.6,111 583.28,111 \" fill=\"none\" id=\"E4-&gt;E5\" style=\"stroke: #383838; stroke-width: 1.0; stroke-dasharray: 7.0,7.0;\"/><polygon fill=\"#383838\" points=\"591.67,111,583.67,108,583.67,114,591.67,111\" style=\"stroke: #383838; stroke-width: 1.0;\"/><text fill=\"#000000\" font-family=\"sans-serif\" font-size=\"13\" lengthAdjust=\"spacingAndGlyphs\" textLength=\"64\" x=\"497\" y=\"107.0669\">«depend»</text></a><!--MD5=[c5e8897d989ce984f93528998a7150fe]\n",
       "link E8 to E6--><a href=\"psysml:01d1ab15-dda9-4157-a585-7877f2cc1d47\" target=\"_top\" title=\"psysml:01d1ab15-dda9-4157-a585-7877f2cc1d47\" xlink:actuate=\"onRequest\" xlink:href=\"psysml:01d1ab15-dda9-4157-a585-7877f2cc1d47\" xlink:show=\"new\" xlink:title=\"psysml:01d1ab15-dda9-4157-a585-7877f2cc1d47\" xlink:type=\"simple\"><path d=\"M169.5,235.23 C217.81,243.94 305.54,259.77 358.03,269.25 \" fill=\"none\" id=\"E8-&gt;E6\" style=\"stroke: #383838; stroke-width: 1.0; stroke-dasharray: 7.0,7.0;\"/><polygon fill=\"#383838\" points=\"366.14,270.71,358.7966,266.3425,357.7356,272.248,366.14,270.71\" style=\"stroke: #383838; stroke-width: 1.0;\"/><text fill=\"#000000\" font-family=\"sans-serif\" font-size=\"13\" lengthAdjust=\"spacingAndGlyphs\" textLength=\"64\" x=\"243\" y=\"245.0669\">«depend»</text></a><!--MD5=[bfa3c8b0d15052fdf50ae9310b491027]\n",
       "link E8 to E7--><a href=\"psysml:01d1ab15-dda9-4157-a585-7877f2cc1d47\" target=\"_top\" title=\"psysml:01d1ab15-dda9-4157-a585-7877f2cc1d47\" xlink:actuate=\"onRequest\" xlink:href=\"psysml:01d1ab15-dda9-4157-a585-7877f2cc1d47\" xlink:show=\"new\" xlink:title=\"psysml:01d1ab15-dda9-4157-a585-7877f2cc1d47\" xlink:type=\"simple\"><path d=\"M169.5,224.72 C217.81,218.73 305.54,207.84 358.03,201.33 \" fill=\"none\" id=\"E8-&gt;E7\" style=\"stroke: #383838; stroke-width: 1.0; stroke-dasharray: 7.0,7.0;\"/><polygon fill=\"#383838\" points=\"366.14,200.33,357.8314,198.3381,358.5704,204.2924,366.14,200.33\" style=\"stroke: #383838; stroke-width: 1.0;\"/><text fill=\"#000000\" font-family=\"sans-serif\" font-size=\"13\" lengthAdjust=\"spacingAndGlyphs\" textLength=\"64\" x=\"243\" y=\"204.0669\">«depend»</text></a><!--MD5=[c15632017ab2be43347b7f81c31d45ff]\n",
       "@startuml\r\n",
       "left to right direction\r\n",
       "skinparam monochrome true\r\n",
       "skinparam classbackgroundcolor white\r\n",
       "skinparam shadowing false\r\n",
       "skinparam wrapWidth 300\r\n",
       "hide circle\r\n",
       "\r\n",
       "package \"DependencyTest\" as E1  [[psysml:a0e63dae-583d-42a3-9f46-6e6177e563b1 ]]  {\r\n",
       "package \"System\" as E2  [[psysml:90630542-d1db-4cfe-a426-6fd5a6b42885 ]]  {\r\n",
       "package \"Application Layer\" as E3  [[psysml:f4739741-a5ef-49a4-9e06-4bb8a722f77e ]]  {\r\n",
       "}\r\n",
       "package \"Service Layer\" as E4  [[psysml:e1090b77-2219-4e30-afea-75b6451d3a90 ]]  {\r\n",
       "}\r\n",
       "package \"Data Layer\" as E5  [[psysml:fe465764-9ab4-44bf-be91-bd692232f0a1 ]]  {\r\n",
       "}\r\n",
       "}\r\n",
       "comp usage \"x\" as E6  <<(T,blue)attribute>> [[psysml:7440b603-2b18-4efb-9bf4-7832c56b919b ]] {\r\n",
       "}\r\n",
       "comp usage \"y\" as E7  <<(T,blue)attribute>> [[psysml:d907cb85-580b-45cd-b69d-b597f081eb5c ]] {\r\n",
       "}\r\n",
       "comp usage \"z\" as E8  <<(T,blue)attribute>> [[psysml:719c36a8-8fd6-40f5-b1aa-2a0e2714a310 ]] {\r\n",
       "}\r\n",
       "E3 ..>> E4 [[psysml:f18ad3d3-ddea-4435-b15e-701f5c4039de ]] : <<depend>>\r\n",
       "E4 ..>> E5 [[psysml:22e4e023-3d64-4f1c-8411-ecdb932522c7 ]] : <<depend>>\r\n",
       "E8 ..>> E6 [[psysml:01d1ab15-dda9-4157-a585-7877f2cc1d47 ]] : <<depend>>\r\n",
       "E8 ..>> E7 [[psysml:01d1ab15-dda9-4157-a585-7877f2cc1d47 ]] : <<depend>>\r\n",
       "}\r\n",
       "@enduml\r\n",
       "\n",
       "PlantUML version 1.2020.13(Sat Jun 13 12:26:38 UTC 2020)\n",
       "(EPL source distribution)\n",
       "Java Runtime: OpenJDK Runtime Environment\n",
       "JVM: OpenJDK 64-Bit Server VM\n",
       "Default Encoding: UTF-8\n",
       "Language: en\n",
       "Country: null\n",
       "--></g></svg>"
      ]
     },
     "execution_count": 21,
     "metadata": {},
     "output_type": "execute_result"
    }
   ],
   "source": [
    "%viz --style=\"LR\" --view=\"Sequence\" \"DependencyTest\""
   ]
  },
  {
   "cell_type": "code",
   "execution_count": 22,
   "id": "bed2ddab",
   "metadata": {
    "execution": {
     "iopub.execute_input": "2021-04-21T20:26:06.291156Z",
     "iopub.status.busy": "2021-04-21T20:26:06.290739Z",
     "iopub.status.idle": "2021-04-21T20:26:06.327219Z",
     "shell.execute_reply": "2021-04-21T20:26:06.325928Z"
    }
   },
   "outputs": [
    {
     "data": {
      "image/svg+xml": [
       "<?xml version=\"1.0\" encoding=\"UTF-8\" standalone=\"no\"?><svg xmlns=\"http://www.w3.org/2000/svg\" xmlns:xlink=\"http://www.w3.org/1999/xlink\" contentScriptType=\"application/ecmascript\" contentStyleType=\"text/css\" height=\"328px\" preserveAspectRatio=\"none\" style=\"width:758px;height:328px;\" version=\"1.1\" viewBox=\"0 0 758 328\" width=\"758px\" zoomAndPan=\"magnify\"><defs/><g><!--MD5=[fbc87193dbaf4d95561dea2c320d4a47]\n",
       "cluster E1--><a href=\"psysml:a0e63dae-583d-42a3-9f46-6e6177e563b1\" target=\"_top\" title=\"psysml:a0e63dae-583d-42a3-9f46-6e6177e563b1\" xlink:actuate=\"onRequest\" xlink:href=\"psysml:a0e63dae-583d-42a3-9f46-6e6177e563b1\" xlink:show=\"new\" xlink:title=\"psysml:a0e63dae-583d-42a3-9f46-6e6177e563b1\" xlink:type=\"simple\"><polygon fill=\"#FFFFFF\" points=\"16,6,156,6,163,28.2969,736,28.2969,736,316,16,316,16,6\" style=\"stroke: #000000; stroke-width: 1.5;\"/><line style=\"stroke: #000000; stroke-width: 1.5;\" x1=\"16\" x2=\"163\" y1=\"28.2969\" y2=\"28.2969\"/><text fill=\"#000000\" font-family=\"sans-serif\" font-size=\"14\" font-weight=\"bold\" lengthAdjust=\"spacingAndGlyphs\" textLength=\"134\" x=\"20\" y=\"20.9951\">DependencyTest</text></a><!--MD5=[e4f7fae6ed58524ba242bb0b0d3be6b7]\n",
       "cluster E2--><a href=\"psysml:90630542-d1db-4cfe-a426-6fd5a6b42885\" target=\"_top\" title=\"psysml:90630542-d1db-4cfe-a426-6fd5a6b42885\" xlink:actuate=\"onRequest\" xlink:href=\"psysml:90630542-d1db-4cfe-a426-6fd5a6b42885\" xlink:show=\"new\" xlink:title=\"psysml:90630542-d1db-4cfe-a426-6fd5a6b42885\" xlink:type=\"simple\"><polygon fill=\"#FFFFFF\" points=\"40,49,104,49,111,71.2969,712,71.2969,712,154,40,154,40,49\" style=\"stroke: #000000; stroke-width: 1.5;\"/><line style=\"stroke: #000000; stroke-width: 1.5;\" x1=\"40\" x2=\"111\" y1=\"71.2969\" y2=\"71.2969\"/><text fill=\"#000000\" font-family=\"sans-serif\" font-size=\"14\" font-weight=\"bold\" lengthAdjust=\"spacingAndGlyphs\" textLength=\"58\" x=\"44\" y=\"63.9951\">System</text></a><!--MD5=[60a26617385b1d2d0262a64233df1f8d]\n",
       "class E6--><a href=\"psysml:7440b603-2b18-4efb-9bf4-7832c56b919b\" target=\"_top\" title=\"psysml:7440b603-2b18-4efb-9bf4-7832c56b919b\" xlink:actuate=\"onRequest\" xlink:href=\"psysml:7440b603-2b18-4efb-9bf4-7832c56b919b\" xlink:show=\"new\" xlink:title=\"psysml:7440b603-2b18-4efb-9bf4-7832c56b919b\" xlink:type=\"simple\"><rect fill=\"#FFFFFF\" height=\"45.9375\" id=\"E6\" rx=\"10\" ry=\"10\" style=\"stroke: #383838; stroke-width: 1.5;\" width=\"71\" x=\"366.5\" y=\"254\"/><text fill=\"#000000\" font-family=\"sans-serif\" font-size=\"12\" font-style=\"italic\" lengthAdjust=\"spacingAndGlyphs\" textLength=\"69\" x=\"367.5\" y=\"270.1387\">«attribute»</text><text fill=\"#000000\" font-family=\"sans-serif\" font-size=\"12\" lengthAdjust=\"spacingAndGlyphs\" textLength=\"6\" x=\"399\" y=\"284.1074\">x</text><line style=\"stroke: #383838; stroke-width: 1.5;\" x1=\"367.5\" x2=\"436.5\" y1=\"291.9375\" y2=\"291.9375\"/></a><!--MD5=[2156ba9850f5573cc1fc38a6a4b2f02b]\n",
       "class E7--><a href=\"psysml:d907cb85-580b-45cd-b69d-b597f081eb5c\" target=\"_top\" title=\"psysml:d907cb85-580b-45cd-b69d-b597f081eb5c\" xlink:actuate=\"onRequest\" xlink:href=\"psysml:d907cb85-580b-45cd-b69d-b597f081eb5c\" xlink:show=\"new\" xlink:title=\"psysml:d907cb85-580b-45cd-b69d-b597f081eb5c\" xlink:type=\"simple\"><rect fill=\"#FFFFFF\" height=\"45.9375\" id=\"E7\" rx=\"10\" ry=\"10\" style=\"stroke: #383838; stroke-width: 1.5;\" width=\"71\" x=\"366.5\" y=\"173\"/><text fill=\"#000000\" font-family=\"sans-serif\" font-size=\"12\" font-style=\"italic\" lengthAdjust=\"spacingAndGlyphs\" textLength=\"69\" x=\"367.5\" y=\"189.1387\">«attribute»</text><text fill=\"#000000\" font-family=\"sans-serif\" font-size=\"12\" lengthAdjust=\"spacingAndGlyphs\" textLength=\"6\" x=\"399\" y=\"203.1074\">y</text><line style=\"stroke: #383838; stroke-width: 1.5;\" x1=\"367.5\" x2=\"436.5\" y1=\"210.9375\" y2=\"210.9375\"/></a><!--MD5=[b9389687b975829384b498ac4b7476b2]\n",
       "class E8--><a href=\"psysml:719c36a8-8fd6-40f5-b1aa-2a0e2714a310\" target=\"_top\" title=\"psysml:719c36a8-8fd6-40f5-b1aa-2a0e2714a310\" xlink:actuate=\"onRequest\" xlink:href=\"psysml:719c36a8-8fd6-40f5-b1aa-2a0e2714a310\" xlink:show=\"new\" xlink:title=\"psysml:719c36a8-8fd6-40f5-b1aa-2a0e2714a310\" xlink:type=\"simple\"><rect fill=\"#FFFFFF\" height=\"45.9375\" id=\"E8\" rx=\"10\" ry=\"10\" style=\"stroke: #383838; stroke-width: 1.5;\" width=\"71\" x=\"98.5\" y=\"206\"/><text fill=\"#000000\" font-family=\"sans-serif\" font-size=\"12\" font-style=\"italic\" lengthAdjust=\"spacingAndGlyphs\" textLength=\"69\" x=\"99.5\" y=\"222.1387\">«attribute»</text><text fill=\"#000000\" font-family=\"sans-serif\" font-size=\"12\" lengthAdjust=\"spacingAndGlyphs\" textLength=\"5\" x=\"131.5\" y=\"236.1074\">z</text><line style=\"stroke: #383838; stroke-width: 1.5;\" x1=\"99.5\" x2=\"168.5\" y1=\"243.9375\" y2=\"243.9375\"/></a><a href=\"psysml:f4739741-a5ef-49a4-9e06-4bb8a722f77e\" target=\"_top\" title=\"psysml:f4739741-a5ef-49a4-9e06-4bb8a722f77e\" xlink:actuate=\"onRequest\" xlink:href=\"psysml:f4739741-a5ef-49a4-9e06-4bb8a722f77e\" xlink:show=\"new\" xlink:title=\"psysml:f4739741-a5ef-49a4-9e06-4bb8a722f77e\" xlink:type=\"simple\"><polygon fill=\"#FFFFFF\" points=\"56,84.5,198,84.5,205,106.7969,212,106.7969,212,137.0938,56,137.0938,56,84.5\" style=\"stroke: #000000; stroke-width: 1.5;\"/><line style=\"stroke: #000000; stroke-width: 1.5;\" x1=\"56\" x2=\"205\" y1=\"106.7969\" y2=\"106.7969\"/><text fill=\"#000000\" font-family=\"sans-serif\" font-size=\"14\" font-weight=\"bold\" lengthAdjust=\"spacingAndGlyphs\" textLength=\"136\" x=\"60\" y=\"99.4951\">Application Layer</text></a><a href=\"psysml:e1090b77-2219-4e30-afea-75b6451d3a90\" target=\"_top\" title=\"psysml:e1090b77-2219-4e30-afea-75b6451d3a90\" xlink:actuate=\"onRequest\" xlink:href=\"psysml:e1090b77-2219-4e30-afea-75b6451d3a90\" xlink:show=\"new\" xlink:title=\"psysml:e1090b77-2219-4e30-afea-75b6451d3a90\" xlink:type=\"simple\"><polygon fill=\"#FFFFFF\" points=\"338,84.5,452,84.5,459,106.7969,466,106.7969,466,137.0938,338,137.0938,338,84.5\" style=\"stroke: #000000; stroke-width: 1.5;\"/><line style=\"stroke: #000000; stroke-width: 1.5;\" x1=\"338\" x2=\"459\" y1=\"106.7969\" y2=\"106.7969\"/><text fill=\"#000000\" font-family=\"sans-serif\" font-size=\"14\" font-weight=\"bold\" lengthAdjust=\"spacingAndGlyphs\" textLength=\"108\" x=\"342\" y=\"99.4951\">Service Layer</text></a><a href=\"psysml:fe465764-9ab4-44bf-be91-bd692232f0a1\" target=\"_top\" title=\"psysml:fe465764-9ab4-44bf-be91-bd692232f0a1\" xlink:actuate=\"onRequest\" xlink:href=\"psysml:fe465764-9ab4-44bf-be91-bd692232f0a1\" xlink:show=\"new\" xlink:title=\"psysml:fe465764-9ab4-44bf-be91-bd692232f0a1\" xlink:type=\"simple\"><polygon fill=\"#FFFFFF\" points=\"592,84.5,682,84.5,689,106.7969,696,106.7969,696,137.0938,592,137.0938,592,84.5\" style=\"stroke: #000000; stroke-width: 1.5;\"/><line style=\"stroke: #000000; stroke-width: 1.5;\" x1=\"592\" x2=\"689\" y1=\"106.7969\" y2=\"106.7969\"/><text fill=\"#000000\" font-family=\"sans-serif\" font-size=\"14\" font-weight=\"bold\" lengthAdjust=\"spacingAndGlyphs\" textLength=\"84\" x=\"596\" y=\"99.4951\">Data Layer</text></a><!--MD5=[af87c684e3b0d8be13c1a698a818ef1e]\n",
       "link E3 to E4--><a href=\"psysml:f18ad3d3-ddea-4435-b15e-701f5c4039de\" target=\"_top\" title=\"psysml:f18ad3d3-ddea-4435-b15e-701f5c4039de\" xlink:actuate=\"onRequest\" xlink:href=\"psysml:f18ad3d3-ddea-4435-b15e-701f5c4039de\" xlink:show=\"new\" xlink:title=\"psysml:f18ad3d3-ddea-4435-b15e-701f5c4039de\" xlink:type=\"simple\"><path d=\"M212.3,111 C249.37,111 293.5,111 329.76,111 \" fill=\"none\" id=\"E3-&gt;E4\" style=\"stroke: #383838; stroke-width: 1.0; stroke-dasharray: 7.0,7.0;\"/><polygon fill=\"#383838\" points=\"337.84,111,329.84,108,329.84,114,337.84,111\" style=\"stroke: #383838; stroke-width: 1.0;\"/><text fill=\"#000000\" font-family=\"sans-serif\" font-size=\"13\" lengthAdjust=\"spacingAndGlyphs\" textLength=\"64\" x=\"243\" y=\"107.0669\">«depend»</text></a><!--MD5=[1b7591eae5389033d8d09a9d6721a717]\n",
       "link E4 to E5--><a href=\"psysml:22e4e023-3d64-4f1c-8411-ecdb932522c7\" target=\"_top\" title=\"psysml:22e4e023-3d64-4f1c-8411-ecdb932522c7\" xlink:actuate=\"onRequest\" xlink:href=\"psysml:22e4e023-3d64-4f1c-8411-ecdb932522c7\" xlink:show=\"new\" xlink:title=\"psysml:22e4e023-3d64-4f1c-8411-ecdb932522c7\" xlink:type=\"simple\"><path d=\"M466.06,111 C502.32,111 547.6,111 583.28,111 \" fill=\"none\" id=\"E4-&gt;E5\" style=\"stroke: #383838; stroke-width: 1.0; stroke-dasharray: 7.0,7.0;\"/><polygon fill=\"#383838\" points=\"591.67,111,583.67,108,583.67,114,591.67,111\" style=\"stroke: #383838; stroke-width: 1.0;\"/><text fill=\"#000000\" font-family=\"sans-serif\" font-size=\"13\" lengthAdjust=\"spacingAndGlyphs\" textLength=\"64\" x=\"497\" y=\"107.0669\">«depend»</text></a><!--MD5=[c5e8897d989ce984f93528998a7150fe]\n",
       "link E8 to E6--><a href=\"psysml:01d1ab15-dda9-4157-a585-7877f2cc1d47\" target=\"_top\" title=\"psysml:01d1ab15-dda9-4157-a585-7877f2cc1d47\" xlink:actuate=\"onRequest\" xlink:href=\"psysml:01d1ab15-dda9-4157-a585-7877f2cc1d47\" xlink:show=\"new\" xlink:title=\"psysml:01d1ab15-dda9-4157-a585-7877f2cc1d47\" xlink:type=\"simple\"><path d=\"M169.5,235.23 C217.81,243.94 305.54,259.77 358.03,269.25 \" fill=\"none\" id=\"E8-&gt;E6\" style=\"stroke: #383838; stroke-width: 1.0; stroke-dasharray: 7.0,7.0;\"/><polygon fill=\"#383838\" points=\"366.14,270.71,358.7966,266.3425,357.7356,272.248,366.14,270.71\" style=\"stroke: #383838; stroke-width: 1.0;\"/><text fill=\"#000000\" font-family=\"sans-serif\" font-size=\"13\" lengthAdjust=\"spacingAndGlyphs\" textLength=\"64\" x=\"243\" y=\"245.0669\">«depend»</text></a><!--MD5=[bfa3c8b0d15052fdf50ae9310b491027]\n",
       "link E8 to E7--><a href=\"psysml:01d1ab15-dda9-4157-a585-7877f2cc1d47\" target=\"_top\" title=\"psysml:01d1ab15-dda9-4157-a585-7877f2cc1d47\" xlink:actuate=\"onRequest\" xlink:href=\"psysml:01d1ab15-dda9-4157-a585-7877f2cc1d47\" xlink:show=\"new\" xlink:title=\"psysml:01d1ab15-dda9-4157-a585-7877f2cc1d47\" xlink:type=\"simple\"><path d=\"M169.5,224.72 C217.81,218.73 305.54,207.84 358.03,201.33 \" fill=\"none\" id=\"E8-&gt;E7\" style=\"stroke: #383838; stroke-width: 1.0; stroke-dasharray: 7.0,7.0;\"/><polygon fill=\"#383838\" points=\"366.14,200.33,357.8314,198.3381,358.5704,204.2924,366.14,200.33\" style=\"stroke: #383838; stroke-width: 1.0;\"/><text fill=\"#000000\" font-family=\"sans-serif\" font-size=\"13\" lengthAdjust=\"spacingAndGlyphs\" textLength=\"64\" x=\"243\" y=\"204.0669\">«depend»</text></a><!--MD5=[c15632017ab2be43347b7f81c31d45ff]\n",
       "@startuml\r\n",
       "left to right direction\r\n",
       "skinparam monochrome true\r\n",
       "skinparam classbackgroundcolor white\r\n",
       "skinparam shadowing false\r\n",
       "skinparam wrapWidth 300\r\n",
       "hide circle\r\n",
       "\r\n",
       "package \"DependencyTest\" as E1  [[psysml:a0e63dae-583d-42a3-9f46-6e6177e563b1 ]]  {\r\n",
       "package \"System\" as E2  [[psysml:90630542-d1db-4cfe-a426-6fd5a6b42885 ]]  {\r\n",
       "package \"Application Layer\" as E3  [[psysml:f4739741-a5ef-49a4-9e06-4bb8a722f77e ]]  {\r\n",
       "}\r\n",
       "package \"Service Layer\" as E4  [[psysml:e1090b77-2219-4e30-afea-75b6451d3a90 ]]  {\r\n",
       "}\r\n",
       "package \"Data Layer\" as E5  [[psysml:fe465764-9ab4-44bf-be91-bd692232f0a1 ]]  {\r\n",
       "}\r\n",
       "}\r\n",
       "comp usage \"x\" as E6  <<(T,blue)attribute>> [[psysml:7440b603-2b18-4efb-9bf4-7832c56b919b ]] {\r\n",
       "}\r\n",
       "comp usage \"y\" as E7  <<(T,blue)attribute>> [[psysml:d907cb85-580b-45cd-b69d-b597f081eb5c ]] {\r\n",
       "}\r\n",
       "comp usage \"z\" as E8  <<(T,blue)attribute>> [[psysml:719c36a8-8fd6-40f5-b1aa-2a0e2714a310 ]] {\r\n",
       "}\r\n",
       "E3 ..>> E4 [[psysml:f18ad3d3-ddea-4435-b15e-701f5c4039de ]] : <<depend>>\r\n",
       "E4 ..>> E5 [[psysml:22e4e023-3d64-4f1c-8411-ecdb932522c7 ]] : <<depend>>\r\n",
       "E8 ..>> E6 [[psysml:01d1ab15-dda9-4157-a585-7877f2cc1d47 ]] : <<depend>>\r\n",
       "E8 ..>> E7 [[psysml:01d1ab15-dda9-4157-a585-7877f2cc1d47 ]] : <<depend>>\r\n",
       "}\r\n",
       "@enduml\r\n",
       "\n",
       "PlantUML version 1.2020.13(Sat Jun 13 12:26:38 UTC 2020)\n",
       "(EPL source distribution)\n",
       "Java Runtime: OpenJDK Runtime Environment\n",
       "JVM: OpenJDK 64-Bit Server VM\n",
       "Default Encoding: UTF-8\n",
       "Language: en\n",
       "Country: null\n",
       "--></g></svg>"
      ]
     },
     "execution_count": 22,
     "metadata": {},
     "output_type": "execute_result"
    }
   ],
   "source": [
    "%viz --style=\"LR\" --view=\"MIXED\" \"DependencyTest\""
   ]
  },
  {
   "cell_type": "code",
   "execution_count": 23,
   "id": "57bbedff",
   "metadata": {
    "execution": {
     "iopub.execute_input": "2021-04-21T20:26:06.379538Z",
     "iopub.status.busy": "2021-04-21T20:26:06.379082Z",
     "iopub.status.idle": "2021-04-21T20:26:06.416548Z",
     "shell.execute_reply": "2021-04-21T20:26:06.415304Z"
    }
   },
   "outputs": [
    {
     "data": {
      "image/svg+xml": [
       "<?xml version=\"1.0\" encoding=\"UTF-8\" standalone=\"no\"?><svg xmlns=\"http://www.w3.org/2000/svg\" xmlns:xlink=\"http://www.w3.org/1999/xlink\" contentScriptType=\"application/ecmascript\" contentStyleType=\"text/css\" height=\"449px\" preserveAspectRatio=\"none\" style=\"width:489px;height:449px;\" version=\"1.1\" viewBox=\"0 0 489 449\" width=\"489px\" zoomAndPan=\"magnify\"><defs><filter height=\"300%\" id=\"fohx4jv0kd2zy\" width=\"300%\" x=\"-1\" y=\"-1\"><feGaussianBlur result=\"blurOut\" stdDeviation=\"2.0\"/><feColorMatrix in=\"blurOut\" result=\"blurOut2\" type=\"matrix\" values=\"0 0 0 0 0 0 0 0 0 0 0 0 0 0 0 0 0 0 .4 0\"/><feOffset dx=\"4.0\" dy=\"4.0\" in=\"blurOut2\" result=\"blurOut3\"/><feBlend in=\"SourceGraphic\" in2=\"blurOut3\" mode=\"normal\"/></filter></defs><g><!--MD5=[fbc87193dbaf4d95561dea2c320d4a47]\n",
       "cluster E1--><a href=\"psysml:a0e63dae-583d-42a3-9f46-6e6177e563b1\" target=\"_top\" title=\"psysml:a0e63dae-583d-42a3-9f46-6e6177e563b1\" xlink:actuate=\"onRequest\" xlink:href=\"psysml:a0e63dae-583d-42a3-9f46-6e6177e563b1\" xlink:show=\"new\" xlink:title=\"psysml:a0e63dae-583d-42a3-9f46-6e6177e563b1\" xlink:type=\"simple\"><polygon fill=\"#FFFFFF\" filter=\"url(#fohx4jv0kd2zy)\" points=\"16,6,156,6,163,28.2969,467,28.2969,467,437,16,437,16,6\" style=\"stroke: #000000; stroke-width: 1.5;\"/><line style=\"stroke: #000000; stroke-width: 1.5;\" x1=\"16\" x2=\"163\" y1=\"28.2969\" y2=\"28.2969\"/><text fill=\"#000000\" font-family=\"sans-serif\" font-size=\"14\" font-weight=\"bold\" lengthAdjust=\"spacingAndGlyphs\" textLength=\"134\" x=\"20\" y=\"20.9951\">DependencyTest</text></a><!--MD5=[e4f7fae6ed58524ba242bb0b0d3be6b7]\n",
       "cluster E2--><a href=\"psysml:90630542-d1db-4cfe-a426-6fd5a6b42885\" target=\"_top\" title=\"psysml:90630542-d1db-4cfe-a426-6fd5a6b42885\" xlink:actuate=\"onRequest\" xlink:href=\"psysml:90630542-d1db-4cfe-a426-6fd5a6b42885\" xlink:show=\"new\" xlink:title=\"psysml:90630542-d1db-4cfe-a426-6fd5a6b42885\" xlink:type=\"simple\"><polygon fill=\"#FFFFFF\" filter=\"url(#fohx4jv0kd2zy)\" points=\"255,49,319,49,326,71.2969,443,71.2969,443,413,255,413,255,49\" style=\"stroke: #000000; stroke-width: 1.5;\"/><line style=\"stroke: #000000; stroke-width: 1.5;\" x1=\"255\" x2=\"326\" y1=\"71.2969\" y2=\"71.2969\"/><text fill=\"#000000\" font-family=\"sans-serif\" font-size=\"14\" font-weight=\"bold\" lengthAdjust=\"spacingAndGlyphs\" textLength=\"58\" x=\"259\" y=\"63.9951\">System</text></a><!--MD5=[60a26617385b1d2d0262a64233df1f8d]\n",
       "class E6--><a href=\"psysml:7440b603-2b18-4efb-9bf4-7832c56b919b\" target=\"_top\" title=\"psysml:7440b603-2b18-4efb-9bf4-7832c56b919b\" xlink:actuate=\"onRequest\" xlink:href=\"psysml:7440b603-2b18-4efb-9bf4-7832c56b919b\" xlink:show=\"new\" xlink:title=\"psysml:7440b603-2b18-4efb-9bf4-7832c56b919b\" xlink:type=\"simple\"><rect fill=\"#FEFECE\" filter=\"url(#fohx4jv0kd2zy)\" height=\"45.9375\" id=\"E6\" rx=\"10\" ry=\"10\" style=\"stroke: #A80036; stroke-width: 1.5;\" width=\"71\" x=\"32.5\" y=\"217.5\"/><text fill=\"#000000\" font-family=\"sans-serif\" font-size=\"12\" font-style=\"italic\" lengthAdjust=\"spacingAndGlyphs\" textLength=\"69\" x=\"33.5\" y=\"233.6387\">«attribute»</text><text fill=\"#000000\" font-family=\"sans-serif\" font-size=\"12\" lengthAdjust=\"spacingAndGlyphs\" textLength=\"6\" x=\"65\" y=\"247.6074\">x</text><line style=\"stroke: #A80036; stroke-width: 1.5;\" x1=\"33.5\" x2=\"102.5\" y1=\"255.4375\" y2=\"255.4375\"/></a><!--MD5=[2156ba9850f5573cc1fc38a6a4b2f02b]\n",
       "class E7--><a href=\"psysml:d907cb85-580b-45cd-b69d-b597f081eb5c\" target=\"_top\" title=\"psysml:d907cb85-580b-45cd-b69d-b597f081eb5c\" xlink:actuate=\"onRequest\" xlink:href=\"psysml:d907cb85-580b-45cd-b69d-b597f081eb5c\" xlink:show=\"new\" xlink:title=\"psysml:d907cb85-580b-45cd-b69d-b597f081eb5c\" xlink:type=\"simple\"><rect fill=\"#FEFECE\" filter=\"url(#fohx4jv0kd2zy)\" height=\"45.9375\" id=\"E7\" rx=\"10\" ry=\"10\" style=\"stroke: #A80036; stroke-width: 1.5;\" width=\"71\" x=\"138.5\" y=\"217.5\"/><text fill=\"#000000\" font-family=\"sans-serif\" font-size=\"12\" font-style=\"italic\" lengthAdjust=\"spacingAndGlyphs\" textLength=\"69\" x=\"139.5\" y=\"233.6387\">«attribute»</text><text fill=\"#000000\" font-family=\"sans-serif\" font-size=\"12\" lengthAdjust=\"spacingAndGlyphs\" textLength=\"6\" x=\"171\" y=\"247.6074\">y</text><line style=\"stroke: #A80036; stroke-width: 1.5;\" x1=\"139.5\" x2=\"208.5\" y1=\"255.4375\" y2=\"255.4375\"/></a><!--MD5=[b9389687b975829384b498ac4b7476b2]\n",
       "class E8--><a href=\"psysml:719c36a8-8fd6-40f5-b1aa-2a0e2714a310\" target=\"_top\" title=\"psysml:719c36a8-8fd6-40f5-b1aa-2a0e2714a310\" xlink:actuate=\"onRequest\" xlink:href=\"psysml:719c36a8-8fd6-40f5-b1aa-2a0e2714a310\" xlink:show=\"new\" xlink:title=\"psysml:719c36a8-8fd6-40f5-b1aa-2a0e2714a310\" xlink:type=\"simple\"><rect fill=\"#FEFECE\" filter=\"url(#fohx4jv0kd2zy)\" height=\"45.9375\" id=\"E8\" rx=\"10\" ry=\"10\" style=\"stroke: #A80036; stroke-width: 1.5;\" width=\"71\" x=\"84.5\" y=\"87.5\"/><text fill=\"#000000\" font-family=\"sans-serif\" font-size=\"12\" font-style=\"italic\" lengthAdjust=\"spacingAndGlyphs\" textLength=\"69\" x=\"85.5\" y=\"103.6387\">«attribute»</text><text fill=\"#000000\" font-family=\"sans-serif\" font-size=\"12\" lengthAdjust=\"spacingAndGlyphs\" textLength=\"5\" x=\"117.5\" y=\"117.6074\">z</text><line style=\"stroke: #A80036; stroke-width: 1.5;\" x1=\"85.5\" x2=\"154.5\" y1=\"125.4375\" y2=\"125.4375\"/></a><a href=\"psysml:f4739741-a5ef-49a4-9e06-4bb8a722f77e\" target=\"_top\" title=\"psysml:f4739741-a5ef-49a4-9e06-4bb8a722f77e\" xlink:actuate=\"onRequest\" xlink:href=\"psysml:f4739741-a5ef-49a4-9e06-4bb8a722f77e\" xlink:show=\"new\" xlink:title=\"psysml:f4739741-a5ef-49a4-9e06-4bb8a722f77e\" xlink:type=\"simple\"><polygon fill=\"#FFFFFF\" filter=\"url(#fohx4jv0kd2zy)\" points=\"271,84,413,84,420,106.2969,427,106.2969,427,136.5938,271,136.5938,271,84\" style=\"stroke: #000000; stroke-width: 1.5;\"/><line style=\"stroke: #000000; stroke-width: 1.5;\" x1=\"271\" x2=\"420\" y1=\"106.2969\" y2=\"106.2969\"/><text fill=\"#000000\" font-family=\"sans-serif\" font-size=\"14\" font-weight=\"bold\" lengthAdjust=\"spacingAndGlyphs\" textLength=\"136\" x=\"275\" y=\"98.9951\">Application Layer</text></a><a href=\"psysml:e1090b77-2219-4e30-afea-75b6451d3a90\" target=\"_top\" title=\"psysml:e1090b77-2219-4e30-afea-75b6451d3a90\" xlink:actuate=\"onRequest\" xlink:href=\"psysml:e1090b77-2219-4e30-afea-75b6451d3a90\" xlink:show=\"new\" xlink:title=\"psysml:e1090b77-2219-4e30-afea-75b6451d3a90\" xlink:type=\"simple\"><polygon fill=\"#FFFFFF\" filter=\"url(#fohx4jv0kd2zy)\" points=\"285,214,399,214,406,236.2969,413,236.2969,413,266.5938,285,266.5938,285,214\" style=\"stroke: #000000; stroke-width: 1.5;\"/><line style=\"stroke: #000000; stroke-width: 1.5;\" x1=\"285\" x2=\"406\" y1=\"236.2969\" y2=\"236.2969\"/><text fill=\"#000000\" font-family=\"sans-serif\" font-size=\"14\" font-weight=\"bold\" lengthAdjust=\"spacingAndGlyphs\" textLength=\"108\" x=\"289\" y=\"228.9951\">Service Layer</text></a><a href=\"psysml:fe465764-9ab4-44bf-be91-bd692232f0a1\" target=\"_top\" title=\"psysml:fe465764-9ab4-44bf-be91-bd692232f0a1\" xlink:actuate=\"onRequest\" xlink:href=\"psysml:fe465764-9ab4-44bf-be91-bd692232f0a1\" xlink:show=\"new\" xlink:title=\"psysml:fe465764-9ab4-44bf-be91-bd692232f0a1\" xlink:type=\"simple\"><polygon fill=\"#FFFFFF\" filter=\"url(#fohx4jv0kd2zy)\" points=\"297,344,387,344,394,366.2969,401,366.2969,401,396.5938,297,396.5938,297,344\" style=\"stroke: #000000; stroke-width: 1.5;\"/><line style=\"stroke: #000000; stroke-width: 1.5;\" x1=\"297\" x2=\"394\" y1=\"366.2969\" y2=\"366.2969\"/><text fill=\"#000000\" font-family=\"sans-serif\" font-size=\"14\" font-weight=\"bold\" lengthAdjust=\"spacingAndGlyphs\" textLength=\"84\" x=\"301\" y=\"358.9951\">Data Layer</text></a><!--MD5=[af87c684e3b0d8be13c1a698a818ef1e]\n",
       "link E3 to E4--><a href=\"psysml:f18ad3d3-ddea-4435-b15e-701f5c4039de\" target=\"_top\" title=\"psysml:f18ad3d3-ddea-4435-b15e-701f5c4039de\" xlink:actuate=\"onRequest\" xlink:href=\"psysml:f18ad3d3-ddea-4435-b15e-701f5c4039de\" xlink:show=\"new\" xlink:title=\"psysml:f18ad3d3-ddea-4435-b15e-701f5c4039de\" xlink:type=\"simple\"><path d=\"M349,137.1 C349,156.8 349,184.22 349,205.73 \" fill=\"none\" id=\"E3-&gt;E4\" style=\"stroke: #A80036; stroke-width: 1.0; stroke-dasharray: 7.0,7.0;\"/><polygon fill=\"#A80036\" points=\"349,213.95,352,205.95,346,205.95,349,213.95\" style=\"stroke: #A80036; stroke-width: 1.0;\"/><text fill=\"#000000\" font-family=\"sans-serif\" font-size=\"13\" lengthAdjust=\"spacingAndGlyphs\" textLength=\"64\" x=\"350\" y=\"180.0669\">«depend»</text></a><!--MD5=[1b7591eae5389033d8d09a9d6721a717]\n",
       "link E4 to E5--><a href=\"psysml:22e4e023-3d64-4f1c-8411-ecdb932522c7\" target=\"_top\" title=\"psysml:22e4e023-3d64-4f1c-8411-ecdb932522c7\" xlink:actuate=\"onRequest\" xlink:href=\"psysml:22e4e023-3d64-4f1c-8411-ecdb932522c7\" xlink:show=\"new\" xlink:title=\"psysml:22e4e023-3d64-4f1c-8411-ecdb932522c7\" xlink:type=\"simple\"><path d=\"M349,267.1 C349,286.8 349,314.22 349,335.73 \" fill=\"none\" id=\"E4-&gt;E5\" style=\"stroke: #A80036; stroke-width: 1.0; stroke-dasharray: 7.0,7.0;\"/><polygon fill=\"#A80036\" points=\"349,343.95,352,335.95,346,335.95,349,343.95\" style=\"stroke: #A80036; stroke-width: 1.0;\"/><text fill=\"#000000\" font-family=\"sans-serif\" font-size=\"13\" lengthAdjust=\"spacingAndGlyphs\" textLength=\"64\" x=\"350\" y=\"310.0669\">«depend»</text></a><!--MD5=[c5e8897d989ce984f93528998a7150fe]\n",
       "link E8 to E6--><a href=\"psysml:01d1ab15-dda9-4157-a585-7877f2cc1d47\" target=\"_top\" title=\"psysml:01d1ab15-dda9-4157-a585-7877f2cc1d47\" xlink:actuate=\"onRequest\" xlink:href=\"psysml:01d1ab15-dda9-4157-a585-7877f2cc1d47\" xlink:show=\"new\" xlink:title=\"psysml:01d1ab15-dda9-4157-a585-7877f2cc1d47\" xlink:type=\"simple\"><path d=\"M89.42,133.6 C79.35,142.68 69.37,154.11 64,167 C58.5,180.2 58.66,195.94 60.54,209.38 \" fill=\"none\" id=\"E8-&gt;E6\" style=\"stroke: #A80036; stroke-width: 1.0; stroke-dasharray: 7.0,7.0;\"/><polygon fill=\"#A80036\" points=\"61.9,217.4,63.517,209.0104,57.6018,210.0159,61.9,217.4\" style=\"stroke: #A80036; stroke-width: 1.0;\"/><text fill=\"#000000\" font-family=\"sans-serif\" font-size=\"13\" lengthAdjust=\"spacingAndGlyphs\" textLength=\"64\" x=\"65\" y=\"180.0669\">«depend»</text></a><!--MD5=[bfa3c8b0d15052fdf50ae9310b491027]\n",
       "link E8 to E7--><a href=\"psysml:01d1ab15-dda9-4157-a585-7877f2cc1d47\" target=\"_top\" title=\"psysml:01d1ab15-dda9-4157-a585-7877f2cc1d47\" xlink:actuate=\"onRequest\" xlink:href=\"psysml:01d1ab15-dda9-4157-a585-7877f2cc1d47\" xlink:show=\"new\" xlink:title=\"psysml:01d1ab15-dda9-4157-a585-7877f2cc1d47\" xlink:type=\"simple\"><path d=\"M129.28,133.5 C138.17,154.57 151.64,186.5 161.47,209.81 \" fill=\"none\" id=\"E8-&gt;E7\" style=\"stroke: #A80036; stroke-width: 1.0; stroke-dasharray: 7.0,7.0;\"/><polygon fill=\"#A80036\" points=\"164.66,217.35,164.3241,208.8126,158.7933,211.1385,164.66,217.35\" style=\"stroke: #A80036; stroke-width: 1.0;\"/><text fill=\"#000000\" font-family=\"sans-serif\" font-size=\"13\" lengthAdjust=\"spacingAndGlyphs\" textLength=\"64\" x=\"151\" y=\"180.0669\">«depend»</text></a><!--MD5=[3186f080d58d5dcb5adf9657e256016c]\n",
       "@startuml\r\n",
       "skinparam wrapWidth 300\r\n",
       "hide circle\r\n",
       "\r\n",
       "package \"DependencyTest\" as E1  [[psysml:a0e63dae-583d-42a3-9f46-6e6177e563b1 ]]  {\r\n",
       "package \"System\" as E2  [[psysml:90630542-d1db-4cfe-a426-6fd5a6b42885 ]]  {\r\n",
       "package \"Application Layer\" as E3  [[psysml:f4739741-a5ef-49a4-9e06-4bb8a722f77e ]]  {\r\n",
       "}\r\n",
       "package \"Service Layer\" as E4  [[psysml:e1090b77-2219-4e30-afea-75b6451d3a90 ]]  {\r\n",
       "}\r\n",
       "package \"Data Layer\" as E5  [[psysml:fe465764-9ab4-44bf-be91-bd692232f0a1 ]]  {\r\n",
       "}\r\n",
       "}\r\n",
       "comp usage \"x\" as E6  <<(T,blue)attribute>> [[psysml:7440b603-2b18-4efb-9bf4-7832c56b919b ]] {\r\n",
       "}\r\n",
       "comp usage \"y\" as E7  <<(T,blue)attribute>> [[psysml:d907cb85-580b-45cd-b69d-b597f081eb5c ]] {\r\n",
       "}\r\n",
       "comp usage \"z\" as E8  <<(T,blue)attribute>> [[psysml:719c36a8-8fd6-40f5-b1aa-2a0e2714a310 ]] {\r\n",
       "}\r\n",
       "E3 ..>> E4 [[psysml:f18ad3d3-ddea-4435-b15e-701f5c4039de ]] : <<depend>>\r\n",
       "E4 ..>> E5 [[psysml:22e4e023-3d64-4f1c-8411-ecdb932522c7 ]] : <<depend>>\r\n",
       "E8 ..>> E6 [[psysml:01d1ab15-dda9-4157-a585-7877f2cc1d47 ]] : <<depend>>\r\n",
       "E8 ..>> E7 [[psysml:01d1ab15-dda9-4157-a585-7877f2cc1d47 ]] : <<depend>>\r\n",
       "}\r\n",
       "@enduml\r\n",
       "\n",
       "PlantUML version 1.2020.13(Sat Jun 13 12:26:38 UTC 2020)\n",
       "(EPL source distribution)\n",
       "Java Runtime: OpenJDK Runtime Environment\n",
       "JVM: OpenJDK 64-Bit Server VM\n",
       "Default Encoding: UTF-8\n",
       "Language: en\n",
       "Country: null\n",
       "--></g></svg>"
      ]
     },
     "execution_count": 23,
     "metadata": {},
     "output_type": "execute_result"
    }
   ],
   "source": [
    "%viz --style=\"STDCOLOR\" --view=\"Default\" \"DependencyTest\""
   ]
  },
  {
   "cell_type": "code",
   "execution_count": 24,
   "id": "473967c1",
   "metadata": {
    "execution": {
     "iopub.execute_input": "2021-04-21T20:26:06.466491Z",
     "iopub.status.busy": "2021-04-21T20:26:06.465980Z",
     "iopub.status.idle": "2021-04-21T20:26:06.499700Z",
     "shell.execute_reply": "2021-04-21T20:26:06.499124Z"
    }
   },
   "outputs": [
    {
     "data": {
      "image/svg+xml": [
       "<?xml version=\"1.0\" encoding=\"UTF-8\" standalone=\"no\"?><svg xmlns=\"http://www.w3.org/2000/svg\" xmlns:xlink=\"http://www.w3.org/1999/xlink\" contentScriptType=\"application/ecmascript\" contentStyleType=\"text/css\" height=\"449px\" preserveAspectRatio=\"none\" style=\"width:489px;height:449px;\" version=\"1.1\" viewBox=\"0 0 489 449\" width=\"489px\" zoomAndPan=\"magnify\"><defs><filter height=\"300%\" id=\"fohx4jv0kd2zy\" width=\"300%\" x=\"-1\" y=\"-1\"><feGaussianBlur result=\"blurOut\" stdDeviation=\"2.0\"/><feColorMatrix in=\"blurOut\" result=\"blurOut2\" type=\"matrix\" values=\"0 0 0 0 0 0 0 0 0 0 0 0 0 0 0 0 0 0 .4 0\"/><feOffset dx=\"4.0\" dy=\"4.0\" in=\"blurOut2\" result=\"blurOut3\"/><feBlend in=\"SourceGraphic\" in2=\"blurOut3\" mode=\"normal\"/></filter></defs><g><!--MD5=[fbc87193dbaf4d95561dea2c320d4a47]\n",
       "cluster E1--><a href=\"psysml:a0e63dae-583d-42a3-9f46-6e6177e563b1\" target=\"_top\" title=\"psysml:a0e63dae-583d-42a3-9f46-6e6177e563b1\" xlink:actuate=\"onRequest\" xlink:href=\"psysml:a0e63dae-583d-42a3-9f46-6e6177e563b1\" xlink:show=\"new\" xlink:title=\"psysml:a0e63dae-583d-42a3-9f46-6e6177e563b1\" xlink:type=\"simple\"><polygon fill=\"#FFFFFF\" filter=\"url(#fohx4jv0kd2zy)\" points=\"16,6,156,6,163,28.2969,467,28.2969,467,437,16,437,16,6\" style=\"stroke: #000000; stroke-width: 1.5;\"/><line style=\"stroke: #000000; stroke-width: 1.5;\" x1=\"16\" x2=\"163\" y1=\"28.2969\" y2=\"28.2969\"/><text fill=\"#000000\" font-family=\"sans-serif\" font-size=\"14\" font-weight=\"bold\" lengthAdjust=\"spacingAndGlyphs\" textLength=\"134\" x=\"20\" y=\"20.9951\">DependencyTest</text></a><!--MD5=[e4f7fae6ed58524ba242bb0b0d3be6b7]\n",
       "cluster E2--><a href=\"psysml:90630542-d1db-4cfe-a426-6fd5a6b42885\" target=\"_top\" title=\"psysml:90630542-d1db-4cfe-a426-6fd5a6b42885\" xlink:actuate=\"onRequest\" xlink:href=\"psysml:90630542-d1db-4cfe-a426-6fd5a6b42885\" xlink:show=\"new\" xlink:title=\"psysml:90630542-d1db-4cfe-a426-6fd5a6b42885\" xlink:type=\"simple\"><polygon fill=\"#FFFFFF\" filter=\"url(#fohx4jv0kd2zy)\" points=\"255,49,319,49,326,71.2969,443,71.2969,443,413,255,413,255,49\" style=\"stroke: #000000; stroke-width: 1.5;\"/><line style=\"stroke: #000000; stroke-width: 1.5;\" x1=\"255\" x2=\"326\" y1=\"71.2969\" y2=\"71.2969\"/><text fill=\"#000000\" font-family=\"sans-serif\" font-size=\"14\" font-weight=\"bold\" lengthAdjust=\"spacingAndGlyphs\" textLength=\"58\" x=\"259\" y=\"63.9951\">System</text></a><!--MD5=[60a26617385b1d2d0262a64233df1f8d]\n",
       "class E6--><a href=\"psysml:7440b603-2b18-4efb-9bf4-7832c56b919b\" target=\"_top\" title=\"psysml:7440b603-2b18-4efb-9bf4-7832c56b919b\" xlink:actuate=\"onRequest\" xlink:href=\"psysml:7440b603-2b18-4efb-9bf4-7832c56b919b\" xlink:show=\"new\" xlink:title=\"psysml:7440b603-2b18-4efb-9bf4-7832c56b919b\" xlink:type=\"simple\"><rect fill=\"#FEFECE\" filter=\"url(#fohx4jv0kd2zy)\" height=\"45.9375\" id=\"E6\" rx=\"10\" ry=\"10\" style=\"stroke: #A80036; stroke-width: 1.5;\" width=\"71\" x=\"32.5\" y=\"217.5\"/><text fill=\"#000000\" font-family=\"sans-serif\" font-size=\"12\" font-style=\"italic\" lengthAdjust=\"spacingAndGlyphs\" textLength=\"69\" x=\"33.5\" y=\"233.6387\">«attribute»</text><text fill=\"#000000\" font-family=\"sans-serif\" font-size=\"12\" lengthAdjust=\"spacingAndGlyphs\" textLength=\"6\" x=\"65\" y=\"247.6074\">x</text><line style=\"stroke: #A80036; stroke-width: 1.5;\" x1=\"33.5\" x2=\"102.5\" y1=\"255.4375\" y2=\"255.4375\"/></a><!--MD5=[2156ba9850f5573cc1fc38a6a4b2f02b]\n",
       "class E7--><a href=\"psysml:d907cb85-580b-45cd-b69d-b597f081eb5c\" target=\"_top\" title=\"psysml:d907cb85-580b-45cd-b69d-b597f081eb5c\" xlink:actuate=\"onRequest\" xlink:href=\"psysml:d907cb85-580b-45cd-b69d-b597f081eb5c\" xlink:show=\"new\" xlink:title=\"psysml:d907cb85-580b-45cd-b69d-b597f081eb5c\" xlink:type=\"simple\"><rect fill=\"#FEFECE\" filter=\"url(#fohx4jv0kd2zy)\" height=\"45.9375\" id=\"E7\" rx=\"10\" ry=\"10\" style=\"stroke: #A80036; stroke-width: 1.5;\" width=\"71\" x=\"138.5\" y=\"217.5\"/><text fill=\"#000000\" font-family=\"sans-serif\" font-size=\"12\" font-style=\"italic\" lengthAdjust=\"spacingAndGlyphs\" textLength=\"69\" x=\"139.5\" y=\"233.6387\">«attribute»</text><text fill=\"#000000\" font-family=\"sans-serif\" font-size=\"12\" lengthAdjust=\"spacingAndGlyphs\" textLength=\"6\" x=\"171\" y=\"247.6074\">y</text><line style=\"stroke: #A80036; stroke-width: 1.5;\" x1=\"139.5\" x2=\"208.5\" y1=\"255.4375\" y2=\"255.4375\"/></a><!--MD5=[b9389687b975829384b498ac4b7476b2]\n",
       "class E8--><a href=\"psysml:719c36a8-8fd6-40f5-b1aa-2a0e2714a310\" target=\"_top\" title=\"psysml:719c36a8-8fd6-40f5-b1aa-2a0e2714a310\" xlink:actuate=\"onRequest\" xlink:href=\"psysml:719c36a8-8fd6-40f5-b1aa-2a0e2714a310\" xlink:show=\"new\" xlink:title=\"psysml:719c36a8-8fd6-40f5-b1aa-2a0e2714a310\" xlink:type=\"simple\"><rect fill=\"#FEFECE\" filter=\"url(#fohx4jv0kd2zy)\" height=\"45.9375\" id=\"E8\" rx=\"10\" ry=\"10\" style=\"stroke: #A80036; stroke-width: 1.5;\" width=\"71\" x=\"84.5\" y=\"87.5\"/><text fill=\"#000000\" font-family=\"sans-serif\" font-size=\"12\" font-style=\"italic\" lengthAdjust=\"spacingAndGlyphs\" textLength=\"69\" x=\"85.5\" y=\"103.6387\">«attribute»</text><text fill=\"#000000\" font-family=\"sans-serif\" font-size=\"12\" lengthAdjust=\"spacingAndGlyphs\" textLength=\"5\" x=\"117.5\" y=\"117.6074\">z</text><line style=\"stroke: #A80036; stroke-width: 1.5;\" x1=\"85.5\" x2=\"154.5\" y1=\"125.4375\" y2=\"125.4375\"/></a><a href=\"psysml:f4739741-a5ef-49a4-9e06-4bb8a722f77e\" target=\"_top\" title=\"psysml:f4739741-a5ef-49a4-9e06-4bb8a722f77e\" xlink:actuate=\"onRequest\" xlink:href=\"psysml:f4739741-a5ef-49a4-9e06-4bb8a722f77e\" xlink:show=\"new\" xlink:title=\"psysml:f4739741-a5ef-49a4-9e06-4bb8a722f77e\" xlink:type=\"simple\"><polygon fill=\"#FFFFFF\" filter=\"url(#fohx4jv0kd2zy)\" points=\"271,84,413,84,420,106.2969,427,106.2969,427,136.5938,271,136.5938,271,84\" style=\"stroke: #000000; stroke-width: 1.5;\"/><line style=\"stroke: #000000; stroke-width: 1.5;\" x1=\"271\" x2=\"420\" y1=\"106.2969\" y2=\"106.2969\"/><text fill=\"#000000\" font-family=\"sans-serif\" font-size=\"14\" font-weight=\"bold\" lengthAdjust=\"spacingAndGlyphs\" textLength=\"136\" x=\"275\" y=\"98.9951\">Application Layer</text></a><a href=\"psysml:e1090b77-2219-4e30-afea-75b6451d3a90\" target=\"_top\" title=\"psysml:e1090b77-2219-4e30-afea-75b6451d3a90\" xlink:actuate=\"onRequest\" xlink:href=\"psysml:e1090b77-2219-4e30-afea-75b6451d3a90\" xlink:show=\"new\" xlink:title=\"psysml:e1090b77-2219-4e30-afea-75b6451d3a90\" xlink:type=\"simple\"><polygon fill=\"#FFFFFF\" filter=\"url(#fohx4jv0kd2zy)\" points=\"285,214,399,214,406,236.2969,413,236.2969,413,266.5938,285,266.5938,285,214\" style=\"stroke: #000000; stroke-width: 1.5;\"/><line style=\"stroke: #000000; stroke-width: 1.5;\" x1=\"285\" x2=\"406\" y1=\"236.2969\" y2=\"236.2969\"/><text fill=\"#000000\" font-family=\"sans-serif\" font-size=\"14\" font-weight=\"bold\" lengthAdjust=\"spacingAndGlyphs\" textLength=\"108\" x=\"289\" y=\"228.9951\">Service Layer</text></a><a href=\"psysml:fe465764-9ab4-44bf-be91-bd692232f0a1\" target=\"_top\" title=\"psysml:fe465764-9ab4-44bf-be91-bd692232f0a1\" xlink:actuate=\"onRequest\" xlink:href=\"psysml:fe465764-9ab4-44bf-be91-bd692232f0a1\" xlink:show=\"new\" xlink:title=\"psysml:fe465764-9ab4-44bf-be91-bd692232f0a1\" xlink:type=\"simple\"><polygon fill=\"#FFFFFF\" filter=\"url(#fohx4jv0kd2zy)\" points=\"297,344,387,344,394,366.2969,401,366.2969,401,396.5938,297,396.5938,297,344\" style=\"stroke: #000000; stroke-width: 1.5;\"/><line style=\"stroke: #000000; stroke-width: 1.5;\" x1=\"297\" x2=\"394\" y1=\"366.2969\" y2=\"366.2969\"/><text fill=\"#000000\" font-family=\"sans-serif\" font-size=\"14\" font-weight=\"bold\" lengthAdjust=\"spacingAndGlyphs\" textLength=\"84\" x=\"301\" y=\"358.9951\">Data Layer</text></a><!--MD5=[af87c684e3b0d8be13c1a698a818ef1e]\n",
       "link E3 to E4--><a href=\"psysml:f18ad3d3-ddea-4435-b15e-701f5c4039de\" target=\"_top\" title=\"psysml:f18ad3d3-ddea-4435-b15e-701f5c4039de\" xlink:actuate=\"onRequest\" xlink:href=\"psysml:f18ad3d3-ddea-4435-b15e-701f5c4039de\" xlink:show=\"new\" xlink:title=\"psysml:f18ad3d3-ddea-4435-b15e-701f5c4039de\" xlink:type=\"simple\"><path d=\"M349,137.1 C349,156.8 349,184.22 349,205.73 \" fill=\"none\" id=\"E3-&gt;E4\" style=\"stroke: #A80036; stroke-width: 1.0; stroke-dasharray: 7.0,7.0;\"/><polygon fill=\"#A80036\" points=\"349,213.95,352,205.95,346,205.95,349,213.95\" style=\"stroke: #A80036; stroke-width: 1.0;\"/><text fill=\"#000000\" font-family=\"sans-serif\" font-size=\"13\" lengthAdjust=\"spacingAndGlyphs\" textLength=\"64\" x=\"350\" y=\"180.0669\">«depend»</text></a><!--MD5=[1b7591eae5389033d8d09a9d6721a717]\n",
       "link E4 to E5--><a href=\"psysml:22e4e023-3d64-4f1c-8411-ecdb932522c7\" target=\"_top\" title=\"psysml:22e4e023-3d64-4f1c-8411-ecdb932522c7\" xlink:actuate=\"onRequest\" xlink:href=\"psysml:22e4e023-3d64-4f1c-8411-ecdb932522c7\" xlink:show=\"new\" xlink:title=\"psysml:22e4e023-3d64-4f1c-8411-ecdb932522c7\" xlink:type=\"simple\"><path d=\"M349,267.1 C349,286.8 349,314.22 349,335.73 \" fill=\"none\" id=\"E4-&gt;E5\" style=\"stroke: #A80036; stroke-width: 1.0; stroke-dasharray: 7.0,7.0;\"/><polygon fill=\"#A80036\" points=\"349,343.95,352,335.95,346,335.95,349,343.95\" style=\"stroke: #A80036; stroke-width: 1.0;\"/><text fill=\"#000000\" font-family=\"sans-serif\" font-size=\"13\" lengthAdjust=\"spacingAndGlyphs\" textLength=\"64\" x=\"350\" y=\"310.0669\">«depend»</text></a><!--MD5=[c5e8897d989ce984f93528998a7150fe]\n",
       "link E8 to E6--><a href=\"psysml:01d1ab15-dda9-4157-a585-7877f2cc1d47\" target=\"_top\" title=\"psysml:01d1ab15-dda9-4157-a585-7877f2cc1d47\" xlink:actuate=\"onRequest\" xlink:href=\"psysml:01d1ab15-dda9-4157-a585-7877f2cc1d47\" xlink:show=\"new\" xlink:title=\"psysml:01d1ab15-dda9-4157-a585-7877f2cc1d47\" xlink:type=\"simple\"><path d=\"M89.42,133.6 C79.35,142.68 69.37,154.11 64,167 C58.5,180.2 58.66,195.94 60.54,209.38 \" fill=\"none\" id=\"E8-&gt;E6\" style=\"stroke: #A80036; stroke-width: 1.0; stroke-dasharray: 7.0,7.0;\"/><polygon fill=\"#A80036\" points=\"61.9,217.4,63.517,209.0104,57.6018,210.0159,61.9,217.4\" style=\"stroke: #A80036; stroke-width: 1.0;\"/><text fill=\"#000000\" font-family=\"sans-serif\" font-size=\"13\" lengthAdjust=\"spacingAndGlyphs\" textLength=\"64\" x=\"65\" y=\"180.0669\">«depend»</text></a><!--MD5=[bfa3c8b0d15052fdf50ae9310b491027]\n",
       "link E8 to E7--><a href=\"psysml:01d1ab15-dda9-4157-a585-7877f2cc1d47\" target=\"_top\" title=\"psysml:01d1ab15-dda9-4157-a585-7877f2cc1d47\" xlink:actuate=\"onRequest\" xlink:href=\"psysml:01d1ab15-dda9-4157-a585-7877f2cc1d47\" xlink:show=\"new\" xlink:title=\"psysml:01d1ab15-dda9-4157-a585-7877f2cc1d47\" xlink:type=\"simple\"><path d=\"M129.28,133.5 C138.17,154.57 151.64,186.5 161.47,209.81 \" fill=\"none\" id=\"E8-&gt;E7\" style=\"stroke: #A80036; stroke-width: 1.0; stroke-dasharray: 7.0,7.0;\"/><polygon fill=\"#A80036\" points=\"164.66,217.35,164.3241,208.8126,158.7933,211.1385,164.66,217.35\" style=\"stroke: #A80036; stroke-width: 1.0;\"/><text fill=\"#000000\" font-family=\"sans-serif\" font-size=\"13\" lengthAdjust=\"spacingAndGlyphs\" textLength=\"64\" x=\"151\" y=\"180.0669\">«depend»</text></a><!--MD5=[3186f080d58d5dcb5adf9657e256016c]\n",
       "@startuml\r\n",
       "skinparam wrapWidth 300\r\n",
       "hide circle\r\n",
       "\r\n",
       "package \"DependencyTest\" as E1  [[psysml:a0e63dae-583d-42a3-9f46-6e6177e563b1 ]]  {\r\n",
       "package \"System\" as E2  [[psysml:90630542-d1db-4cfe-a426-6fd5a6b42885 ]]  {\r\n",
       "package \"Application Layer\" as E3  [[psysml:f4739741-a5ef-49a4-9e06-4bb8a722f77e ]]  {\r\n",
       "}\r\n",
       "package \"Service Layer\" as E4  [[psysml:e1090b77-2219-4e30-afea-75b6451d3a90 ]]  {\r\n",
       "}\r\n",
       "package \"Data Layer\" as E5  [[psysml:fe465764-9ab4-44bf-be91-bd692232f0a1 ]]  {\r\n",
       "}\r\n",
       "}\r\n",
       "comp usage \"x\" as E6  <<(T,blue)attribute>> [[psysml:7440b603-2b18-4efb-9bf4-7832c56b919b ]] {\r\n",
       "}\r\n",
       "comp usage \"y\" as E7  <<(T,blue)attribute>> [[psysml:d907cb85-580b-45cd-b69d-b597f081eb5c ]] {\r\n",
       "}\r\n",
       "comp usage \"z\" as E8  <<(T,blue)attribute>> [[psysml:719c36a8-8fd6-40f5-b1aa-2a0e2714a310 ]] {\r\n",
       "}\r\n",
       "E3 ..>> E4 [[psysml:f18ad3d3-ddea-4435-b15e-701f5c4039de ]] : <<depend>>\r\n",
       "E4 ..>> E5 [[psysml:22e4e023-3d64-4f1c-8411-ecdb932522c7 ]] : <<depend>>\r\n",
       "E8 ..>> E6 [[psysml:01d1ab15-dda9-4157-a585-7877f2cc1d47 ]] : <<depend>>\r\n",
       "E8 ..>> E7 [[psysml:01d1ab15-dda9-4157-a585-7877f2cc1d47 ]] : <<depend>>\r\n",
       "}\r\n",
       "@enduml\r\n",
       "\n",
       "PlantUML version 1.2020.13(Sat Jun 13 12:26:38 UTC 2020)\n",
       "(EPL source distribution)\n",
       "Java Runtime: OpenJDK Runtime Environment\n",
       "JVM: OpenJDK 64-Bit Server VM\n",
       "Default Encoding: UTF-8\n",
       "Language: en\n",
       "Country: null\n",
       "--></g></svg>"
      ]
     },
     "execution_count": 24,
     "metadata": {},
     "output_type": "execute_result"
    }
   ],
   "source": [
    "%viz --style=\"STDCOLOR\" --view=\"Tree\" \"DependencyTest\""
   ]
  },
  {
   "cell_type": "code",
   "execution_count": 25,
   "id": "8aef5df9",
   "metadata": {
    "execution": {
     "iopub.execute_input": "2021-04-21T20:26:06.549804Z",
     "iopub.status.busy": "2021-04-21T20:26:06.549408Z",
     "iopub.status.idle": "2021-04-21T20:26:06.553683Z",
     "shell.execute_reply": "2021-04-21T20:26:06.553066Z"
    }
   },
   "outputs": [
    {
     "data": {
      "image/svg+xml": [
       "<?xml version=\"1.0\" encoding=\"UTF-8\" standalone=\"no\"?><svg xmlns=\"http://www.w3.org/2000/svg\" xmlns:xlink=\"http://www.w3.org/1999/xlink\" contentScriptType=\"application/ecmascript\" contentStyleType=\"text/css\" height=\"12px\" preserveAspectRatio=\"none\" style=\"width:12px;height:12px;\" version=\"1.1\" viewBox=\"0 0 12 12\" width=\"12px\" zoomAndPan=\"magnify\"><defs/><g><!--MD5=[aeeef50f102b80d730deb6443d14f702]\n",
       "@startuml\r\n",
       "skinparam wrapWidth 300\r\n",
       "hide circle\r\n",
       "\r\n",
       "@enduml\r\n",
       "\n",
       "PlantUML version 1.2020.13(Sat Jun 13 12:26:38 UTC 2020)\n",
       "(EPL source distribution)\n",
       "Java Runtime: OpenJDK Runtime Environment\n",
       "JVM: OpenJDK 64-Bit Server VM\n",
       "Default Encoding: UTF-8\n",
       "Language: en\n",
       "Country: null\n",
       "--></g></svg>"
      ]
     },
     "execution_count": 25,
     "metadata": {},
     "output_type": "execute_result"
    }
   ],
   "source": [
    "%viz --style=\"STDCOLOR\" --view=\"State\" \"DependencyTest\""
   ]
  },
  {
   "cell_type": "code",
   "execution_count": 26,
   "id": "1cc97c76",
   "metadata": {
    "execution": {
     "iopub.execute_input": "2021-04-21T20:26:06.604165Z",
     "iopub.status.busy": "2021-04-21T20:26:06.603637Z",
     "iopub.status.idle": "2021-04-21T20:26:06.654479Z",
     "shell.execute_reply": "2021-04-21T20:26:06.652216Z"
    }
   },
   "outputs": [
    {
     "data": {
      "image/svg+xml": [
       "<?xml version=\"1.0\" encoding=\"UTF-8\" standalone=\"no\"?><svg xmlns=\"http://www.w3.org/2000/svg\" xmlns:xlink=\"http://www.w3.org/1999/xlink\" contentScriptType=\"application/ecmascript\" contentStyleType=\"text/css\" height=\"361px\" preserveAspectRatio=\"none\" style=\"width:489px;height:361px;\" version=\"1.1\" viewBox=\"0 0 489 361\" width=\"489px\" zoomAndPan=\"magnify\"><defs><filter height=\"300%\" id=\"f4s76q35dp9a5\" width=\"300%\" x=\"-1\" y=\"-1\"><feGaussianBlur result=\"blurOut\" stdDeviation=\"2.0\"/><feColorMatrix in=\"blurOut\" result=\"blurOut2\" type=\"matrix\" values=\"0 0 0 0 0 0 0 0 0 0 0 0 0 0 0 0 0 0 .4 0\"/><feOffset dx=\"4.0\" dy=\"4.0\" in=\"blurOut2\" result=\"blurOut3\"/><feBlend in=\"SourceGraphic\" in2=\"blurOut3\" mode=\"normal\"/></filter></defs><g><!--MD5=[fbc87193dbaf4d95561dea2c320d4a47]\n",
       "cluster E1--><a href=\"psysml:a0e63dae-583d-42a3-9f46-6e6177e563b1\" target=\"_top\" title=\"psysml:a0e63dae-583d-42a3-9f46-6e6177e563b1\" xlink:actuate=\"onRequest\" xlink:href=\"psysml:a0e63dae-583d-42a3-9f46-6e6177e563b1\" xlink:show=\"new\" xlink:title=\"psysml:a0e63dae-583d-42a3-9f46-6e6177e563b1\" xlink:type=\"simple\"><polygon fill=\"#FFFFFF\" filter=\"url(#f4s76q35dp9a5)\" points=\"16,6,156,6,163,28.2969,467,28.2969,467,349,16,349,16,6\" style=\"stroke: #000000; stroke-width: 1.5;\"/><line style=\"stroke: #000000; stroke-width: 1.5;\" x1=\"16\" x2=\"163\" y1=\"28.2969\" y2=\"28.2969\"/><text fill=\"#000000\" font-family=\"sans-serif\" font-size=\"14\" font-weight=\"bold\" lengthAdjust=\"spacingAndGlyphs\" textLength=\"134\" x=\"20\" y=\"20.9951\">DependencyTest</text></a><!--MD5=[e4f7fae6ed58524ba242bb0b0d3be6b7]\n",
       "cluster E2--><a href=\"psysml:90630542-d1db-4cfe-a426-6fd5a6b42885\" target=\"_top\" title=\"psysml:90630542-d1db-4cfe-a426-6fd5a6b42885\" xlink:actuate=\"onRequest\" xlink:href=\"psysml:90630542-d1db-4cfe-a426-6fd5a6b42885\" xlink:show=\"new\" xlink:title=\"psysml:90630542-d1db-4cfe-a426-6fd5a6b42885\" xlink:type=\"simple\"><polygon fill=\"#FFFFFF\" filter=\"url(#f4s76q35dp9a5)\" points=\"255,49,319,49,326,71.2969,443,71.2969,443,325,255,325,255,49\" style=\"stroke: #000000; stroke-width: 1.5;\"/><line style=\"stroke: #000000; stroke-width: 1.5;\" x1=\"255\" x2=\"326\" y1=\"71.2969\" y2=\"71.2969\"/><text fill=\"#000000\" font-family=\"sans-serif\" font-size=\"14\" font-weight=\"bold\" lengthAdjust=\"spacingAndGlyphs\" textLength=\"58\" x=\"259\" y=\"63.9951\">System</text></a><!--MD5=[60a26617385b1d2d0262a64233df1f8d]\n",
       "class E6--><a href=\"psysml:7440b603-2b18-4efb-9bf4-7832c56b919b\" target=\"_top\" title=\"psysml:7440b603-2b18-4efb-9bf4-7832c56b919b\" xlink:actuate=\"onRequest\" xlink:href=\"psysml:7440b603-2b18-4efb-9bf4-7832c56b919b\" xlink:show=\"new\" xlink:title=\"psysml:7440b603-2b18-4efb-9bf4-7832c56b919b\" xlink:type=\"simple\"><rect fill=\"#FEFECE\" filter=\"url(#f4s76q35dp9a5)\" height=\"45.9375\" id=\"E6\" rx=\"10\" ry=\"10\" style=\"stroke: #A80036; stroke-width: 1.5;\" width=\"71\" x=\"32.5\" y=\"173.5\"/><text fill=\"#000000\" font-family=\"sans-serif\" font-size=\"12\" font-style=\"italic\" lengthAdjust=\"spacingAndGlyphs\" textLength=\"69\" x=\"33.5\" y=\"189.6387\">«attribute»</text><text fill=\"#000000\" font-family=\"sans-serif\" font-size=\"12\" lengthAdjust=\"spacingAndGlyphs\" textLength=\"6\" x=\"65\" y=\"203.6074\">x</text><line style=\"stroke: #A80036; stroke-width: 1.5;\" x1=\"33.5\" x2=\"102.5\" y1=\"211.4375\" y2=\"211.4375\"/></a><!--MD5=[2156ba9850f5573cc1fc38a6a4b2f02b]\n",
       "class E7--><a href=\"psysml:d907cb85-580b-45cd-b69d-b597f081eb5c\" target=\"_top\" title=\"psysml:d907cb85-580b-45cd-b69d-b597f081eb5c\" xlink:actuate=\"onRequest\" xlink:href=\"psysml:d907cb85-580b-45cd-b69d-b597f081eb5c\" xlink:show=\"new\" xlink:title=\"psysml:d907cb85-580b-45cd-b69d-b597f081eb5c\" xlink:type=\"simple\"><rect fill=\"#FEFECE\" filter=\"url(#f4s76q35dp9a5)\" height=\"45.9375\" id=\"E7\" rx=\"10\" ry=\"10\" style=\"stroke: #A80036; stroke-width: 1.5;\" width=\"71\" x=\"138.5\" y=\"173.5\"/><text fill=\"#000000\" font-family=\"sans-serif\" font-size=\"12\" font-style=\"italic\" lengthAdjust=\"spacingAndGlyphs\" textLength=\"69\" x=\"139.5\" y=\"189.6387\">«attribute»</text><text fill=\"#000000\" font-family=\"sans-serif\" font-size=\"12\" lengthAdjust=\"spacingAndGlyphs\" textLength=\"6\" x=\"171\" y=\"203.6074\">y</text><line style=\"stroke: #A80036; stroke-width: 1.5;\" x1=\"139.5\" x2=\"208.5\" y1=\"211.4375\" y2=\"211.4375\"/></a><!--MD5=[b9389687b975829384b498ac4b7476b2]\n",
       "class E8--><a href=\"psysml:719c36a8-8fd6-40f5-b1aa-2a0e2714a310\" target=\"_top\" title=\"psysml:719c36a8-8fd6-40f5-b1aa-2a0e2714a310\" xlink:actuate=\"onRequest\" xlink:href=\"psysml:719c36a8-8fd6-40f5-b1aa-2a0e2714a310\" xlink:show=\"new\" xlink:title=\"psysml:719c36a8-8fd6-40f5-b1aa-2a0e2714a310\" xlink:type=\"simple\"><rect fill=\"#FEFECE\" filter=\"url(#f4s76q35dp9a5)\" height=\"45.9375\" id=\"E8\" rx=\"10\" ry=\"10\" style=\"stroke: #A80036; stroke-width: 1.5;\" width=\"71\" x=\"84.5\" y=\"87.5\"/><text fill=\"#000000\" font-family=\"sans-serif\" font-size=\"12\" font-style=\"italic\" lengthAdjust=\"spacingAndGlyphs\" textLength=\"69\" x=\"85.5\" y=\"103.6387\">«attribute»</text><text fill=\"#000000\" font-family=\"sans-serif\" font-size=\"12\" lengthAdjust=\"spacingAndGlyphs\" textLength=\"5\" x=\"117.5\" y=\"117.6074\">z</text><line style=\"stroke: #A80036; stroke-width: 1.5;\" x1=\"85.5\" x2=\"154.5\" y1=\"125.4375\" y2=\"125.4375\"/></a><a href=\"psysml:f4739741-a5ef-49a4-9e06-4bb8a722f77e\" target=\"_top\" title=\"psysml:f4739741-a5ef-49a4-9e06-4bb8a722f77e\" xlink:actuate=\"onRequest\" xlink:href=\"psysml:f4739741-a5ef-49a4-9e06-4bb8a722f77e\" xlink:show=\"new\" xlink:title=\"psysml:f4739741-a5ef-49a4-9e06-4bb8a722f77e\" xlink:type=\"simple\"><polygon fill=\"#FFFFFF\" filter=\"url(#f4s76q35dp9a5)\" points=\"271,84,413,84,420,106.2969,427,106.2969,427,136.5938,271,136.5938,271,84\" style=\"stroke: #000000; stroke-width: 1.5;\"/><line style=\"stroke: #000000; stroke-width: 1.5;\" x1=\"271\" x2=\"420\" y1=\"106.2969\" y2=\"106.2969\"/><text fill=\"#000000\" font-family=\"sans-serif\" font-size=\"14\" font-weight=\"bold\" lengthAdjust=\"spacingAndGlyphs\" textLength=\"136\" x=\"275\" y=\"98.9951\">Application Layer</text></a><a href=\"psysml:e1090b77-2219-4e30-afea-75b6451d3a90\" target=\"_top\" title=\"psysml:e1090b77-2219-4e30-afea-75b6451d3a90\" xlink:actuate=\"onRequest\" xlink:href=\"psysml:e1090b77-2219-4e30-afea-75b6451d3a90\" xlink:show=\"new\" xlink:title=\"psysml:e1090b77-2219-4e30-afea-75b6451d3a90\" xlink:type=\"simple\"><polygon fill=\"#FFFFFF\" filter=\"url(#f4s76q35dp9a5)\" points=\"285,170,399,170,406,192.2969,413,192.2969,413,222.5938,285,222.5938,285,170\" style=\"stroke: #000000; stroke-width: 1.5;\"/><line style=\"stroke: #000000; stroke-width: 1.5;\" x1=\"285\" x2=\"406\" y1=\"192.2969\" y2=\"192.2969\"/><text fill=\"#000000\" font-family=\"sans-serif\" font-size=\"14\" font-weight=\"bold\" lengthAdjust=\"spacingAndGlyphs\" textLength=\"108\" x=\"289\" y=\"184.9951\">Service Layer</text></a><a href=\"psysml:fe465764-9ab4-44bf-be91-bd692232f0a1\" target=\"_top\" title=\"psysml:fe465764-9ab4-44bf-be91-bd692232f0a1\" xlink:actuate=\"onRequest\" xlink:href=\"psysml:fe465764-9ab4-44bf-be91-bd692232f0a1\" xlink:show=\"new\" xlink:title=\"psysml:fe465764-9ab4-44bf-be91-bd692232f0a1\" xlink:type=\"simple\"><polygon fill=\"#FFFFFF\" filter=\"url(#f4s76q35dp9a5)\" points=\"297,256,387,256,394,278.2969,401,278.2969,401,308.5938,297,308.5938,297,256\" style=\"stroke: #000000; stroke-width: 1.5;\"/><line style=\"stroke: #000000; stroke-width: 1.5;\" x1=\"297\" x2=\"394\" y1=\"278.2969\" y2=\"278.2969\"/><text fill=\"#000000\" font-family=\"sans-serif\" font-size=\"14\" font-weight=\"bold\" lengthAdjust=\"spacingAndGlyphs\" textLength=\"84\" x=\"301\" y=\"270.9951\">Data Layer</text></a><!--MD5=[af87c684e3b0d8be13c1a698a818ef1e]\n",
       "link E3 to E4--><a href=\"psysml:f18ad3d3-ddea-4435-b15e-701f5c4039de\" target=\"_top\" title=\"psysml:f18ad3d3-ddea-4435-b15e-701f5c4039de\" xlink:actuate=\"onRequest\" xlink:href=\"psysml:f18ad3d3-ddea-4435-b15e-701f5c4039de\" xlink:show=\"new\" xlink:title=\"psysml:f18ad3d3-ddea-4435-b15e-701f5c4039de\" xlink:type=\"simple\"><path d=\"M349,137.16 C349,144.98 349,153.69 349,161.94 \" fill=\"none\" id=\"E3-&gt;E4\" style=\"stroke: #A80036; stroke-width: 1.0; stroke-dasharray: 7.0,7.0;\"/><polygon fill=\"#A80036\" points=\"349,170,352,162,346,162,349,170\" style=\"stroke: #A80036; stroke-width: 1.0;\"/><text fill=\"#000000\" font-family=\"sans-serif\" font-size=\"13\" lengthAdjust=\"spacingAndGlyphs\" textLength=\"64\" x=\"350\" y=\"158.0669\">«depend»</text></a><!--MD5=[1b7591eae5389033d8d09a9d6721a717]\n",
       "link E4 to E5--><a href=\"psysml:22e4e023-3d64-4f1c-8411-ecdb932522c7\" target=\"_top\" title=\"psysml:22e4e023-3d64-4f1c-8411-ecdb932522c7\" xlink:actuate=\"onRequest\" xlink:href=\"psysml:22e4e023-3d64-4f1c-8411-ecdb932522c7\" xlink:show=\"new\" xlink:title=\"psysml:22e4e023-3d64-4f1c-8411-ecdb932522c7\" xlink:type=\"simple\"><path d=\"M349,223.16 C349,230.98 349,239.69 349,247.94 \" fill=\"none\" id=\"E4-&gt;E5\" style=\"stroke: #A80036; stroke-width: 1.0; stroke-dasharray: 7.0,7.0;\"/><polygon fill=\"#A80036\" points=\"349,256,352,248,346,248,349,256\" style=\"stroke: #A80036; stroke-width: 1.0;\"/><text fill=\"#000000\" font-family=\"sans-serif\" font-size=\"13\" lengthAdjust=\"spacingAndGlyphs\" textLength=\"64\" x=\"350\" y=\"244.0669\">«depend»</text></a><!--MD5=[c5e8897d989ce984f93528998a7150fe]\n",
       "link E8 to E6--><a href=\"psysml:01d1ab15-dda9-4157-a585-7877f2cc1d47\" target=\"_top\" title=\"psysml:01d1ab15-dda9-4157-a585-7877f2cc1d47\" xlink:actuate=\"onRequest\" xlink:href=\"psysml:01d1ab15-dda9-4157-a585-7877f2cc1d47\" xlink:show=\"new\" xlink:title=\"psysml:01d1ab15-dda9-4157-a585-7877f2cc1d47\" xlink:type=\"simple\"><path d=\"M84.49,125.34 C76.34,130.27 68.69,136.72 64,145 C60.54,151.1 59.62,158.31 60,165.33 \" fill=\"none\" id=\"E8-&gt;E6\" style=\"stroke: #A80036; stroke-width: 1.0; stroke-dasharray: 7.0,7.0;\"/><polygon fill=\"#A80036\" points=\"60.97,173.42,63.0061,165.1221,57.0479,165.8294,60.97,173.42\" style=\"stroke: #A80036; stroke-width: 1.0;\"/><text fill=\"#000000\" font-family=\"sans-serif\" font-size=\"13\" lengthAdjust=\"spacingAndGlyphs\" textLength=\"64\" x=\"65\" y=\"158.0669\">«depend»</text></a><!--MD5=[bfa3c8b0d15052fdf50ae9310b491027]\n",
       "link E8 to E7--><a href=\"psysml:01d1ab15-dda9-4157-a585-7877f2cc1d47\" target=\"_top\" title=\"psysml:01d1ab15-dda9-4157-a585-7877f2cc1d47\" xlink:actuate=\"onRequest\" xlink:href=\"psysml:01d1ab15-dda9-4157-a585-7877f2cc1d47\" xlink:show=\"new\" xlink:title=\"psysml:01d1ab15-dda9-4157-a585-7877f2cc1d47\" xlink:type=\"simple\"><path d=\"M134.19,133.57 C140.65,143.62 148.38,155.65 155.31,166.42 \" fill=\"none\" id=\"E8-&gt;E7\" style=\"stroke: #A80036; stroke-width: 1.0; stroke-dasharray: 7.0,7.0;\"/><polygon fill=\"#A80036\" points=\"159.72,173.29,157.9148,164.9389,152.8688,168.185,159.72,173.29\" style=\"stroke: #A80036; stroke-width: 1.0;\"/><text fill=\"#000000\" font-family=\"sans-serif\" font-size=\"13\" lengthAdjust=\"spacingAndGlyphs\" textLength=\"64\" x=\"152\" y=\"158.0669\">«depend»</text></a><!--MD5=[1d87169780616fe9017dabb537a72401]\n",
       "@startuml\r\n",
       "skinparam ranksep 10\r\n",
       "skinparam rectangle {\r\n",
       " backgroundColor<<block>> LightGreen\r\n",
       "}\r\n",
       "skinparam wrapWidth 300\r\n",
       "hide circle\r\n",
       "\r\n",
       "package \"DependencyTest\" as E1  [[psysml:a0e63dae-583d-42a3-9f46-6e6177e563b1 ]]  {\r\n",
       "package \"System\" as E2  [[psysml:90630542-d1db-4cfe-a426-6fd5a6b42885 ]]  {\r\n",
       "package \"Application Layer\" as E3  [[psysml:f4739741-a5ef-49a4-9e06-4bb8a722f77e ]]  {\r\n",
       "}\r\n",
       "package \"Service Layer\" as E4  [[psysml:e1090b77-2219-4e30-afea-75b6451d3a90 ]]  {\r\n",
       "}\r\n",
       "package \"Data Layer\" as E5  [[psysml:fe465764-9ab4-44bf-be91-bd692232f0a1 ]]  {\r\n",
       "}\r\n",
       "}\r\n",
       "comp usage \"x\" as E6  <<(T,blue)attribute>> [[psysml:7440b603-2b18-4efb-9bf4-7832c56b919b ]] {\r\n",
       "}\r\n",
       "comp usage \"y\" as E7  <<(T,blue)attribute>> [[psysml:d907cb85-580b-45cd-b69d-b597f081eb5c ]] {\r\n",
       "}\r\n",
       "comp usage \"z\" as E8  <<(T,blue)attribute>> [[psysml:719c36a8-8fd6-40f5-b1aa-2a0e2714a310 ]] {\r\n",
       "}\r\n",
       "E3 ..>> E4 [[psysml:f18ad3d3-ddea-4435-b15e-701f5c4039de ]] : <<depend>>\r\n",
       "E4 ..>> E5 [[psysml:22e4e023-3d64-4f1c-8411-ecdb932522c7 ]] : <<depend>>\r\n",
       "E8 ..>> E6 [[psysml:01d1ab15-dda9-4157-a585-7877f2cc1d47 ]] : <<depend>>\r\n",
       "E8 ..>> E7 [[psysml:01d1ab15-dda9-4157-a585-7877f2cc1d47 ]] : <<depend>>\r\n",
       "}\r\n",
       "@enduml\r\n",
       "\n",
       "PlantUML version 1.2020.13(Sat Jun 13 12:26:38 UTC 2020)\n",
       "(EPL source distribution)\n",
       "Java Runtime: OpenJDK Runtime Environment\n",
       "JVM: OpenJDK 64-Bit Server VM\n",
       "Default Encoding: UTF-8\n",
       "Language: en\n",
       "Country: null\n",
       "--></g></svg>"
      ]
     },
     "execution_count": 26,
     "metadata": {},
     "output_type": "execute_result"
    }
   ],
   "source": [
    "%viz --style=\"STDCOLOR\" --view=\"Interconnection\" \"DependencyTest\""
   ]
  },
  {
   "cell_type": "code",
   "execution_count": 27,
   "id": "2fed898a",
   "metadata": {
    "execution": {
     "iopub.execute_input": "2021-04-21T20:26:06.705241Z",
     "iopub.status.busy": "2021-04-21T20:26:06.704720Z",
     "iopub.status.idle": "2021-04-21T20:26:06.717455Z",
     "shell.execute_reply": "2021-04-21T20:26:06.718496Z"
    }
   },
   "outputs": [
    {
     "data": {
      "image/svg+xml": [
       "<?xml version=\"1.0\" encoding=\"UTF-8\" standalone=\"no\"?><svg xmlns=\"http://www.w3.org/2000/svg\" xmlns:xlink=\"http://www.w3.org/1999/xlink\" contentScriptType=\"application/ecmascript\" contentStyleType=\"text/css\" height=\"12px\" preserveAspectRatio=\"none\" style=\"width:12px;height:12px;\" version=\"1.1\" viewBox=\"0 0 12 12\" width=\"12px\" zoomAndPan=\"magnify\"><defs/><g><!--MD5=[9863325348a96a77dacc89509d8ee65e]\n",
       "@startuml\r\n",
       "skinparam ranksep 8\r\n",
       "skinparam wrapWidth 300\r\n",
       "hide circle\r\n",
       "\r\n",
       "@enduml\r\n",
       "\n",
       "PlantUML version 1.2020.13(Sat Jun 13 12:26:38 UTC 2020)\n",
       "(EPL source distribution)\n",
       "Java Runtime: OpenJDK Runtime Environment\n",
       "JVM: OpenJDK 64-Bit Server VM\n",
       "Default Encoding: UTF-8\n",
       "Language: en\n",
       "Country: null\n",
       "--></g></svg>"
      ]
     },
     "execution_count": 27,
     "metadata": {},
     "output_type": "execute_result"
    }
   ],
   "source": [
    "%viz --style=\"STDCOLOR\" --view=\"Action\" \"DependencyTest\""
   ]
  },
  {
   "cell_type": "code",
   "execution_count": 28,
   "id": "70898828",
   "metadata": {
    "execution": {
     "iopub.execute_input": "2021-04-21T20:26:06.768394Z",
     "iopub.status.busy": "2021-04-21T20:26:06.768030Z",
     "iopub.status.idle": "2021-04-21T20:26:06.824454Z",
     "shell.execute_reply": "2021-04-21T20:26:06.824094Z"
    }
   },
   "outputs": [
    {
     "data": {
      "image/svg+xml": [
       "<?xml version=\"1.0\" encoding=\"UTF-8\" standalone=\"no\"?><svg xmlns=\"http://www.w3.org/2000/svg\" xmlns:xlink=\"http://www.w3.org/1999/xlink\" contentScriptType=\"application/ecmascript\" contentStyleType=\"text/css\" height=\"449px\" preserveAspectRatio=\"none\" style=\"width:489px;height:449px;\" version=\"1.1\" viewBox=\"0 0 489 449\" width=\"489px\" zoomAndPan=\"magnify\"><defs><filter height=\"300%\" id=\"fohx4jv0kd2zy\" width=\"300%\" x=\"-1\" y=\"-1\"><feGaussianBlur result=\"blurOut\" stdDeviation=\"2.0\"/><feColorMatrix in=\"blurOut\" result=\"blurOut2\" type=\"matrix\" values=\"0 0 0 0 0 0 0 0 0 0 0 0 0 0 0 0 0 0 .4 0\"/><feOffset dx=\"4.0\" dy=\"4.0\" in=\"blurOut2\" result=\"blurOut3\"/><feBlend in=\"SourceGraphic\" in2=\"blurOut3\" mode=\"normal\"/></filter></defs><g><!--MD5=[fbc87193dbaf4d95561dea2c320d4a47]\n",
       "cluster E1--><a href=\"psysml:a0e63dae-583d-42a3-9f46-6e6177e563b1\" target=\"_top\" title=\"psysml:a0e63dae-583d-42a3-9f46-6e6177e563b1\" xlink:actuate=\"onRequest\" xlink:href=\"psysml:a0e63dae-583d-42a3-9f46-6e6177e563b1\" xlink:show=\"new\" xlink:title=\"psysml:a0e63dae-583d-42a3-9f46-6e6177e563b1\" xlink:type=\"simple\"><polygon fill=\"#FFFFFF\" filter=\"url(#fohx4jv0kd2zy)\" points=\"16,6,156,6,163,28.2969,467,28.2969,467,437,16,437,16,6\" style=\"stroke: #000000; stroke-width: 1.5;\"/><line style=\"stroke: #000000; stroke-width: 1.5;\" x1=\"16\" x2=\"163\" y1=\"28.2969\" y2=\"28.2969\"/><text fill=\"#000000\" font-family=\"sans-serif\" font-size=\"14\" font-weight=\"bold\" lengthAdjust=\"spacingAndGlyphs\" textLength=\"134\" x=\"20\" y=\"20.9951\">DependencyTest</text></a><!--MD5=[e4f7fae6ed58524ba242bb0b0d3be6b7]\n",
       "cluster E2--><a href=\"psysml:90630542-d1db-4cfe-a426-6fd5a6b42885\" target=\"_top\" title=\"psysml:90630542-d1db-4cfe-a426-6fd5a6b42885\" xlink:actuate=\"onRequest\" xlink:href=\"psysml:90630542-d1db-4cfe-a426-6fd5a6b42885\" xlink:show=\"new\" xlink:title=\"psysml:90630542-d1db-4cfe-a426-6fd5a6b42885\" xlink:type=\"simple\"><polygon fill=\"#FFFFFF\" filter=\"url(#fohx4jv0kd2zy)\" points=\"255,49,319,49,326,71.2969,443,71.2969,443,413,255,413,255,49\" style=\"stroke: #000000; stroke-width: 1.5;\"/><line style=\"stroke: #000000; stroke-width: 1.5;\" x1=\"255\" x2=\"326\" y1=\"71.2969\" y2=\"71.2969\"/><text fill=\"#000000\" font-family=\"sans-serif\" font-size=\"14\" font-weight=\"bold\" lengthAdjust=\"spacingAndGlyphs\" textLength=\"58\" x=\"259\" y=\"63.9951\">System</text></a><!--MD5=[60a26617385b1d2d0262a64233df1f8d]\n",
       "class E6--><a href=\"psysml:7440b603-2b18-4efb-9bf4-7832c56b919b\" target=\"_top\" title=\"psysml:7440b603-2b18-4efb-9bf4-7832c56b919b\" xlink:actuate=\"onRequest\" xlink:href=\"psysml:7440b603-2b18-4efb-9bf4-7832c56b919b\" xlink:show=\"new\" xlink:title=\"psysml:7440b603-2b18-4efb-9bf4-7832c56b919b\" xlink:type=\"simple\"><rect fill=\"#FEFECE\" filter=\"url(#fohx4jv0kd2zy)\" height=\"45.9375\" id=\"E6\" rx=\"10\" ry=\"10\" style=\"stroke: #A80036; stroke-width: 1.5;\" width=\"71\" x=\"32.5\" y=\"217.5\"/><text fill=\"#000000\" font-family=\"sans-serif\" font-size=\"12\" font-style=\"italic\" lengthAdjust=\"spacingAndGlyphs\" textLength=\"69\" x=\"33.5\" y=\"233.6387\">«attribute»</text><text fill=\"#000000\" font-family=\"sans-serif\" font-size=\"12\" lengthAdjust=\"spacingAndGlyphs\" textLength=\"6\" x=\"65\" y=\"247.6074\">x</text><line style=\"stroke: #A80036; stroke-width: 1.5;\" x1=\"33.5\" x2=\"102.5\" y1=\"255.4375\" y2=\"255.4375\"/></a><!--MD5=[2156ba9850f5573cc1fc38a6a4b2f02b]\n",
       "class E7--><a href=\"psysml:d907cb85-580b-45cd-b69d-b597f081eb5c\" target=\"_top\" title=\"psysml:d907cb85-580b-45cd-b69d-b597f081eb5c\" xlink:actuate=\"onRequest\" xlink:href=\"psysml:d907cb85-580b-45cd-b69d-b597f081eb5c\" xlink:show=\"new\" xlink:title=\"psysml:d907cb85-580b-45cd-b69d-b597f081eb5c\" xlink:type=\"simple\"><rect fill=\"#FEFECE\" filter=\"url(#fohx4jv0kd2zy)\" height=\"45.9375\" id=\"E7\" rx=\"10\" ry=\"10\" style=\"stroke: #A80036; stroke-width: 1.5;\" width=\"71\" x=\"138.5\" y=\"217.5\"/><text fill=\"#000000\" font-family=\"sans-serif\" font-size=\"12\" font-style=\"italic\" lengthAdjust=\"spacingAndGlyphs\" textLength=\"69\" x=\"139.5\" y=\"233.6387\">«attribute»</text><text fill=\"#000000\" font-family=\"sans-serif\" font-size=\"12\" lengthAdjust=\"spacingAndGlyphs\" textLength=\"6\" x=\"171\" y=\"247.6074\">y</text><line style=\"stroke: #A80036; stroke-width: 1.5;\" x1=\"139.5\" x2=\"208.5\" y1=\"255.4375\" y2=\"255.4375\"/></a><!--MD5=[b9389687b975829384b498ac4b7476b2]\n",
       "class E8--><a href=\"psysml:719c36a8-8fd6-40f5-b1aa-2a0e2714a310\" target=\"_top\" title=\"psysml:719c36a8-8fd6-40f5-b1aa-2a0e2714a310\" xlink:actuate=\"onRequest\" xlink:href=\"psysml:719c36a8-8fd6-40f5-b1aa-2a0e2714a310\" xlink:show=\"new\" xlink:title=\"psysml:719c36a8-8fd6-40f5-b1aa-2a0e2714a310\" xlink:type=\"simple\"><rect fill=\"#FEFECE\" filter=\"url(#fohx4jv0kd2zy)\" height=\"45.9375\" id=\"E8\" rx=\"10\" ry=\"10\" style=\"stroke: #A80036; stroke-width: 1.5;\" width=\"71\" x=\"84.5\" y=\"87.5\"/><text fill=\"#000000\" font-family=\"sans-serif\" font-size=\"12\" font-style=\"italic\" lengthAdjust=\"spacingAndGlyphs\" textLength=\"69\" x=\"85.5\" y=\"103.6387\">«attribute»</text><text fill=\"#000000\" font-family=\"sans-serif\" font-size=\"12\" lengthAdjust=\"spacingAndGlyphs\" textLength=\"5\" x=\"117.5\" y=\"117.6074\">z</text><line style=\"stroke: #A80036; stroke-width: 1.5;\" x1=\"85.5\" x2=\"154.5\" y1=\"125.4375\" y2=\"125.4375\"/></a><a href=\"psysml:f4739741-a5ef-49a4-9e06-4bb8a722f77e\" target=\"_top\" title=\"psysml:f4739741-a5ef-49a4-9e06-4bb8a722f77e\" xlink:actuate=\"onRequest\" xlink:href=\"psysml:f4739741-a5ef-49a4-9e06-4bb8a722f77e\" xlink:show=\"new\" xlink:title=\"psysml:f4739741-a5ef-49a4-9e06-4bb8a722f77e\" xlink:type=\"simple\"><polygon fill=\"#FFFFFF\" filter=\"url(#fohx4jv0kd2zy)\" points=\"271,84,413,84,420,106.2969,427,106.2969,427,136.5938,271,136.5938,271,84\" style=\"stroke: #000000; stroke-width: 1.5;\"/><line style=\"stroke: #000000; stroke-width: 1.5;\" x1=\"271\" x2=\"420\" y1=\"106.2969\" y2=\"106.2969\"/><text fill=\"#000000\" font-family=\"sans-serif\" font-size=\"14\" font-weight=\"bold\" lengthAdjust=\"spacingAndGlyphs\" textLength=\"136\" x=\"275\" y=\"98.9951\">Application Layer</text></a><a href=\"psysml:e1090b77-2219-4e30-afea-75b6451d3a90\" target=\"_top\" title=\"psysml:e1090b77-2219-4e30-afea-75b6451d3a90\" xlink:actuate=\"onRequest\" xlink:href=\"psysml:e1090b77-2219-4e30-afea-75b6451d3a90\" xlink:show=\"new\" xlink:title=\"psysml:e1090b77-2219-4e30-afea-75b6451d3a90\" xlink:type=\"simple\"><polygon fill=\"#FFFFFF\" filter=\"url(#fohx4jv0kd2zy)\" points=\"285,214,399,214,406,236.2969,413,236.2969,413,266.5938,285,266.5938,285,214\" style=\"stroke: #000000; stroke-width: 1.5;\"/><line style=\"stroke: #000000; stroke-width: 1.5;\" x1=\"285\" x2=\"406\" y1=\"236.2969\" y2=\"236.2969\"/><text fill=\"#000000\" font-family=\"sans-serif\" font-size=\"14\" font-weight=\"bold\" lengthAdjust=\"spacingAndGlyphs\" textLength=\"108\" x=\"289\" y=\"228.9951\">Service Layer</text></a><a href=\"psysml:fe465764-9ab4-44bf-be91-bd692232f0a1\" target=\"_top\" title=\"psysml:fe465764-9ab4-44bf-be91-bd692232f0a1\" xlink:actuate=\"onRequest\" xlink:href=\"psysml:fe465764-9ab4-44bf-be91-bd692232f0a1\" xlink:show=\"new\" xlink:title=\"psysml:fe465764-9ab4-44bf-be91-bd692232f0a1\" xlink:type=\"simple\"><polygon fill=\"#FFFFFF\" filter=\"url(#fohx4jv0kd2zy)\" points=\"297,344,387,344,394,366.2969,401,366.2969,401,396.5938,297,396.5938,297,344\" style=\"stroke: #000000; stroke-width: 1.5;\"/><line style=\"stroke: #000000; stroke-width: 1.5;\" x1=\"297\" x2=\"394\" y1=\"366.2969\" y2=\"366.2969\"/><text fill=\"#000000\" font-family=\"sans-serif\" font-size=\"14\" font-weight=\"bold\" lengthAdjust=\"spacingAndGlyphs\" textLength=\"84\" x=\"301\" y=\"358.9951\">Data Layer</text></a><!--MD5=[af87c684e3b0d8be13c1a698a818ef1e]\n",
       "link E3 to E4--><a href=\"psysml:f18ad3d3-ddea-4435-b15e-701f5c4039de\" target=\"_top\" title=\"psysml:f18ad3d3-ddea-4435-b15e-701f5c4039de\" xlink:actuate=\"onRequest\" xlink:href=\"psysml:f18ad3d3-ddea-4435-b15e-701f5c4039de\" xlink:show=\"new\" xlink:title=\"psysml:f18ad3d3-ddea-4435-b15e-701f5c4039de\" xlink:type=\"simple\"><path d=\"M349,137.1 C349,156.8 349,184.22 349,205.73 \" fill=\"none\" id=\"E3-&gt;E4\" style=\"stroke: #A80036; stroke-width: 1.0; stroke-dasharray: 7.0,7.0;\"/><polygon fill=\"#A80036\" points=\"349,213.95,352,205.95,346,205.95,349,213.95\" style=\"stroke: #A80036; stroke-width: 1.0;\"/><text fill=\"#000000\" font-family=\"sans-serif\" font-size=\"13\" lengthAdjust=\"spacingAndGlyphs\" textLength=\"64\" x=\"350\" y=\"180.0669\">«depend»</text></a><!--MD5=[1b7591eae5389033d8d09a9d6721a717]\n",
       "link E4 to E5--><a href=\"psysml:22e4e023-3d64-4f1c-8411-ecdb932522c7\" target=\"_top\" title=\"psysml:22e4e023-3d64-4f1c-8411-ecdb932522c7\" xlink:actuate=\"onRequest\" xlink:href=\"psysml:22e4e023-3d64-4f1c-8411-ecdb932522c7\" xlink:show=\"new\" xlink:title=\"psysml:22e4e023-3d64-4f1c-8411-ecdb932522c7\" xlink:type=\"simple\"><path d=\"M349,267.1 C349,286.8 349,314.22 349,335.73 \" fill=\"none\" id=\"E4-&gt;E5\" style=\"stroke: #A80036; stroke-width: 1.0; stroke-dasharray: 7.0,7.0;\"/><polygon fill=\"#A80036\" points=\"349,343.95,352,335.95,346,335.95,349,343.95\" style=\"stroke: #A80036; stroke-width: 1.0;\"/><text fill=\"#000000\" font-family=\"sans-serif\" font-size=\"13\" lengthAdjust=\"spacingAndGlyphs\" textLength=\"64\" x=\"350\" y=\"310.0669\">«depend»</text></a><!--MD5=[c5e8897d989ce984f93528998a7150fe]\n",
       "link E8 to E6--><a href=\"psysml:01d1ab15-dda9-4157-a585-7877f2cc1d47\" target=\"_top\" title=\"psysml:01d1ab15-dda9-4157-a585-7877f2cc1d47\" xlink:actuate=\"onRequest\" xlink:href=\"psysml:01d1ab15-dda9-4157-a585-7877f2cc1d47\" xlink:show=\"new\" xlink:title=\"psysml:01d1ab15-dda9-4157-a585-7877f2cc1d47\" xlink:type=\"simple\"><path d=\"M89.42,133.6 C79.35,142.68 69.37,154.11 64,167 C58.5,180.2 58.66,195.94 60.54,209.38 \" fill=\"none\" id=\"E8-&gt;E6\" style=\"stroke: #A80036; stroke-width: 1.0; stroke-dasharray: 7.0,7.0;\"/><polygon fill=\"#A80036\" points=\"61.9,217.4,63.517,209.0104,57.6018,210.0159,61.9,217.4\" style=\"stroke: #A80036; stroke-width: 1.0;\"/><text fill=\"#000000\" font-family=\"sans-serif\" font-size=\"13\" lengthAdjust=\"spacingAndGlyphs\" textLength=\"64\" x=\"65\" y=\"180.0669\">«depend»</text></a><!--MD5=[bfa3c8b0d15052fdf50ae9310b491027]\n",
       "link E8 to E7--><a href=\"psysml:01d1ab15-dda9-4157-a585-7877f2cc1d47\" target=\"_top\" title=\"psysml:01d1ab15-dda9-4157-a585-7877f2cc1d47\" xlink:actuate=\"onRequest\" xlink:href=\"psysml:01d1ab15-dda9-4157-a585-7877f2cc1d47\" xlink:show=\"new\" xlink:title=\"psysml:01d1ab15-dda9-4157-a585-7877f2cc1d47\" xlink:type=\"simple\"><path d=\"M129.28,133.5 C138.17,154.57 151.64,186.5 161.47,209.81 \" fill=\"none\" id=\"E8-&gt;E7\" style=\"stroke: #A80036; stroke-width: 1.0; stroke-dasharray: 7.0,7.0;\"/><polygon fill=\"#A80036\" points=\"164.66,217.35,164.3241,208.8126,158.7933,211.1385,164.66,217.35\" style=\"stroke: #A80036; stroke-width: 1.0;\"/><text fill=\"#000000\" font-family=\"sans-serif\" font-size=\"13\" lengthAdjust=\"spacingAndGlyphs\" textLength=\"64\" x=\"151\" y=\"180.0669\">«depend»</text></a><!--MD5=[3186f080d58d5dcb5adf9657e256016c]\n",
       "@startuml\r\n",
       "skinparam wrapWidth 300\r\n",
       "hide circle\r\n",
       "\r\n",
       "package \"DependencyTest\" as E1  [[psysml:a0e63dae-583d-42a3-9f46-6e6177e563b1 ]]  {\r\n",
       "package \"System\" as E2  [[psysml:90630542-d1db-4cfe-a426-6fd5a6b42885 ]]  {\r\n",
       "package \"Application Layer\" as E3  [[psysml:f4739741-a5ef-49a4-9e06-4bb8a722f77e ]]  {\r\n",
       "}\r\n",
       "package \"Service Layer\" as E4  [[psysml:e1090b77-2219-4e30-afea-75b6451d3a90 ]]  {\r\n",
       "}\r\n",
       "package \"Data Layer\" as E5  [[psysml:fe465764-9ab4-44bf-be91-bd692232f0a1 ]]  {\r\n",
       "}\r\n",
       "}\r\n",
       "comp usage \"x\" as E6  <<(T,blue)attribute>> [[psysml:7440b603-2b18-4efb-9bf4-7832c56b919b ]] {\r\n",
       "}\r\n",
       "comp usage \"y\" as E7  <<(T,blue)attribute>> [[psysml:d907cb85-580b-45cd-b69d-b597f081eb5c ]] {\r\n",
       "}\r\n",
       "comp usage \"z\" as E8  <<(T,blue)attribute>> [[psysml:719c36a8-8fd6-40f5-b1aa-2a0e2714a310 ]] {\r\n",
       "}\r\n",
       "E3 ..>> E4 [[psysml:f18ad3d3-ddea-4435-b15e-701f5c4039de ]] : <<depend>>\r\n",
       "E4 ..>> E5 [[psysml:22e4e023-3d64-4f1c-8411-ecdb932522c7 ]] : <<depend>>\r\n",
       "E8 ..>> E6 [[psysml:01d1ab15-dda9-4157-a585-7877f2cc1d47 ]] : <<depend>>\r\n",
       "E8 ..>> E7 [[psysml:01d1ab15-dda9-4157-a585-7877f2cc1d47 ]] : <<depend>>\r\n",
       "}\r\n",
       "@enduml\r\n",
       "\n",
       "PlantUML version 1.2020.13(Sat Jun 13 12:26:38 UTC 2020)\n",
       "(EPL source distribution)\n",
       "Java Runtime: OpenJDK Runtime Environment\n",
       "JVM: OpenJDK 64-Bit Server VM\n",
       "Default Encoding: UTF-8\n",
       "Language: en\n",
       "Country: null\n",
       "--></g></svg>"
      ]
     },
     "execution_count": 28,
     "metadata": {},
     "output_type": "execute_result"
    }
   ],
   "source": [
    "%viz --style=\"STDCOLOR\" --view=\"Sequence\" \"DependencyTest\""
   ]
  },
  {
   "cell_type": "code",
   "execution_count": 29,
   "id": "1e041775",
   "metadata": {
    "execution": {
     "iopub.execute_input": "2021-04-21T20:26:06.884276Z",
     "iopub.status.busy": "2021-04-21T20:26:06.883747Z",
     "iopub.status.idle": "2021-04-21T20:26:06.921467Z",
     "shell.execute_reply": "2021-04-21T20:26:06.921159Z"
    }
   },
   "outputs": [
    {
     "data": {
      "image/svg+xml": [
       "<?xml version=\"1.0\" encoding=\"UTF-8\" standalone=\"no\"?><svg xmlns=\"http://www.w3.org/2000/svg\" xmlns:xlink=\"http://www.w3.org/1999/xlink\" contentScriptType=\"application/ecmascript\" contentStyleType=\"text/css\" height=\"449px\" preserveAspectRatio=\"none\" style=\"width:489px;height:449px;\" version=\"1.1\" viewBox=\"0 0 489 449\" width=\"489px\" zoomAndPan=\"magnify\"><defs><filter height=\"300%\" id=\"fohx4jv0kd2zy\" width=\"300%\" x=\"-1\" y=\"-1\"><feGaussianBlur result=\"blurOut\" stdDeviation=\"2.0\"/><feColorMatrix in=\"blurOut\" result=\"blurOut2\" type=\"matrix\" values=\"0 0 0 0 0 0 0 0 0 0 0 0 0 0 0 0 0 0 .4 0\"/><feOffset dx=\"4.0\" dy=\"4.0\" in=\"blurOut2\" result=\"blurOut3\"/><feBlend in=\"SourceGraphic\" in2=\"blurOut3\" mode=\"normal\"/></filter></defs><g><!--MD5=[fbc87193dbaf4d95561dea2c320d4a47]\n",
       "cluster E1--><a href=\"psysml:a0e63dae-583d-42a3-9f46-6e6177e563b1\" target=\"_top\" title=\"psysml:a0e63dae-583d-42a3-9f46-6e6177e563b1\" xlink:actuate=\"onRequest\" xlink:href=\"psysml:a0e63dae-583d-42a3-9f46-6e6177e563b1\" xlink:show=\"new\" xlink:title=\"psysml:a0e63dae-583d-42a3-9f46-6e6177e563b1\" xlink:type=\"simple\"><polygon fill=\"#FFFFFF\" filter=\"url(#fohx4jv0kd2zy)\" points=\"16,6,156,6,163,28.2969,467,28.2969,467,437,16,437,16,6\" style=\"stroke: #000000; stroke-width: 1.5;\"/><line style=\"stroke: #000000; stroke-width: 1.5;\" x1=\"16\" x2=\"163\" y1=\"28.2969\" y2=\"28.2969\"/><text fill=\"#000000\" font-family=\"sans-serif\" font-size=\"14\" font-weight=\"bold\" lengthAdjust=\"spacingAndGlyphs\" textLength=\"134\" x=\"20\" y=\"20.9951\">DependencyTest</text></a><!--MD5=[e4f7fae6ed58524ba242bb0b0d3be6b7]\n",
       "cluster E2--><a href=\"psysml:90630542-d1db-4cfe-a426-6fd5a6b42885\" target=\"_top\" title=\"psysml:90630542-d1db-4cfe-a426-6fd5a6b42885\" xlink:actuate=\"onRequest\" xlink:href=\"psysml:90630542-d1db-4cfe-a426-6fd5a6b42885\" xlink:show=\"new\" xlink:title=\"psysml:90630542-d1db-4cfe-a426-6fd5a6b42885\" xlink:type=\"simple\"><polygon fill=\"#FFFFFF\" filter=\"url(#fohx4jv0kd2zy)\" points=\"255,49,319,49,326,71.2969,443,71.2969,443,413,255,413,255,49\" style=\"stroke: #000000; stroke-width: 1.5;\"/><line style=\"stroke: #000000; stroke-width: 1.5;\" x1=\"255\" x2=\"326\" y1=\"71.2969\" y2=\"71.2969\"/><text fill=\"#000000\" font-family=\"sans-serif\" font-size=\"14\" font-weight=\"bold\" lengthAdjust=\"spacingAndGlyphs\" textLength=\"58\" x=\"259\" y=\"63.9951\">System</text></a><!--MD5=[60a26617385b1d2d0262a64233df1f8d]\n",
       "class E6--><a href=\"psysml:7440b603-2b18-4efb-9bf4-7832c56b919b\" target=\"_top\" title=\"psysml:7440b603-2b18-4efb-9bf4-7832c56b919b\" xlink:actuate=\"onRequest\" xlink:href=\"psysml:7440b603-2b18-4efb-9bf4-7832c56b919b\" xlink:show=\"new\" xlink:title=\"psysml:7440b603-2b18-4efb-9bf4-7832c56b919b\" xlink:type=\"simple\"><rect fill=\"#FEFECE\" filter=\"url(#fohx4jv0kd2zy)\" height=\"45.9375\" id=\"E6\" rx=\"10\" ry=\"10\" style=\"stroke: #A80036; stroke-width: 1.5;\" width=\"71\" x=\"32.5\" y=\"217.5\"/><text fill=\"#000000\" font-family=\"sans-serif\" font-size=\"12\" font-style=\"italic\" lengthAdjust=\"spacingAndGlyphs\" textLength=\"69\" x=\"33.5\" y=\"233.6387\">«attribute»</text><text fill=\"#000000\" font-family=\"sans-serif\" font-size=\"12\" lengthAdjust=\"spacingAndGlyphs\" textLength=\"6\" x=\"65\" y=\"247.6074\">x</text><line style=\"stroke: #A80036; stroke-width: 1.5;\" x1=\"33.5\" x2=\"102.5\" y1=\"255.4375\" y2=\"255.4375\"/></a><!--MD5=[2156ba9850f5573cc1fc38a6a4b2f02b]\n",
       "class E7--><a href=\"psysml:d907cb85-580b-45cd-b69d-b597f081eb5c\" target=\"_top\" title=\"psysml:d907cb85-580b-45cd-b69d-b597f081eb5c\" xlink:actuate=\"onRequest\" xlink:href=\"psysml:d907cb85-580b-45cd-b69d-b597f081eb5c\" xlink:show=\"new\" xlink:title=\"psysml:d907cb85-580b-45cd-b69d-b597f081eb5c\" xlink:type=\"simple\"><rect fill=\"#FEFECE\" filter=\"url(#fohx4jv0kd2zy)\" height=\"45.9375\" id=\"E7\" rx=\"10\" ry=\"10\" style=\"stroke: #A80036; stroke-width: 1.5;\" width=\"71\" x=\"138.5\" y=\"217.5\"/><text fill=\"#000000\" font-family=\"sans-serif\" font-size=\"12\" font-style=\"italic\" lengthAdjust=\"spacingAndGlyphs\" textLength=\"69\" x=\"139.5\" y=\"233.6387\">«attribute»</text><text fill=\"#000000\" font-family=\"sans-serif\" font-size=\"12\" lengthAdjust=\"spacingAndGlyphs\" textLength=\"6\" x=\"171\" y=\"247.6074\">y</text><line style=\"stroke: #A80036; stroke-width: 1.5;\" x1=\"139.5\" x2=\"208.5\" y1=\"255.4375\" y2=\"255.4375\"/></a><!--MD5=[b9389687b975829384b498ac4b7476b2]\n",
       "class E8--><a href=\"psysml:719c36a8-8fd6-40f5-b1aa-2a0e2714a310\" target=\"_top\" title=\"psysml:719c36a8-8fd6-40f5-b1aa-2a0e2714a310\" xlink:actuate=\"onRequest\" xlink:href=\"psysml:719c36a8-8fd6-40f5-b1aa-2a0e2714a310\" xlink:show=\"new\" xlink:title=\"psysml:719c36a8-8fd6-40f5-b1aa-2a0e2714a310\" xlink:type=\"simple\"><rect fill=\"#FEFECE\" filter=\"url(#fohx4jv0kd2zy)\" height=\"45.9375\" id=\"E8\" rx=\"10\" ry=\"10\" style=\"stroke: #A80036; stroke-width: 1.5;\" width=\"71\" x=\"84.5\" y=\"87.5\"/><text fill=\"#000000\" font-family=\"sans-serif\" font-size=\"12\" font-style=\"italic\" lengthAdjust=\"spacingAndGlyphs\" textLength=\"69\" x=\"85.5\" y=\"103.6387\">«attribute»</text><text fill=\"#000000\" font-family=\"sans-serif\" font-size=\"12\" lengthAdjust=\"spacingAndGlyphs\" textLength=\"5\" x=\"117.5\" y=\"117.6074\">z</text><line style=\"stroke: #A80036; stroke-width: 1.5;\" x1=\"85.5\" x2=\"154.5\" y1=\"125.4375\" y2=\"125.4375\"/></a><a href=\"psysml:f4739741-a5ef-49a4-9e06-4bb8a722f77e\" target=\"_top\" title=\"psysml:f4739741-a5ef-49a4-9e06-4bb8a722f77e\" xlink:actuate=\"onRequest\" xlink:href=\"psysml:f4739741-a5ef-49a4-9e06-4bb8a722f77e\" xlink:show=\"new\" xlink:title=\"psysml:f4739741-a5ef-49a4-9e06-4bb8a722f77e\" xlink:type=\"simple\"><polygon fill=\"#FFFFFF\" filter=\"url(#fohx4jv0kd2zy)\" points=\"271,84,413,84,420,106.2969,427,106.2969,427,136.5938,271,136.5938,271,84\" style=\"stroke: #000000; stroke-width: 1.5;\"/><line style=\"stroke: #000000; stroke-width: 1.5;\" x1=\"271\" x2=\"420\" y1=\"106.2969\" y2=\"106.2969\"/><text fill=\"#000000\" font-family=\"sans-serif\" font-size=\"14\" font-weight=\"bold\" lengthAdjust=\"spacingAndGlyphs\" textLength=\"136\" x=\"275\" y=\"98.9951\">Application Layer</text></a><a href=\"psysml:e1090b77-2219-4e30-afea-75b6451d3a90\" target=\"_top\" title=\"psysml:e1090b77-2219-4e30-afea-75b6451d3a90\" xlink:actuate=\"onRequest\" xlink:href=\"psysml:e1090b77-2219-4e30-afea-75b6451d3a90\" xlink:show=\"new\" xlink:title=\"psysml:e1090b77-2219-4e30-afea-75b6451d3a90\" xlink:type=\"simple\"><polygon fill=\"#FFFFFF\" filter=\"url(#fohx4jv0kd2zy)\" points=\"285,214,399,214,406,236.2969,413,236.2969,413,266.5938,285,266.5938,285,214\" style=\"stroke: #000000; stroke-width: 1.5;\"/><line style=\"stroke: #000000; stroke-width: 1.5;\" x1=\"285\" x2=\"406\" y1=\"236.2969\" y2=\"236.2969\"/><text fill=\"#000000\" font-family=\"sans-serif\" font-size=\"14\" font-weight=\"bold\" lengthAdjust=\"spacingAndGlyphs\" textLength=\"108\" x=\"289\" y=\"228.9951\">Service Layer</text></a><a href=\"psysml:fe465764-9ab4-44bf-be91-bd692232f0a1\" target=\"_top\" title=\"psysml:fe465764-9ab4-44bf-be91-bd692232f0a1\" xlink:actuate=\"onRequest\" xlink:href=\"psysml:fe465764-9ab4-44bf-be91-bd692232f0a1\" xlink:show=\"new\" xlink:title=\"psysml:fe465764-9ab4-44bf-be91-bd692232f0a1\" xlink:type=\"simple\"><polygon fill=\"#FFFFFF\" filter=\"url(#fohx4jv0kd2zy)\" points=\"297,344,387,344,394,366.2969,401,366.2969,401,396.5938,297,396.5938,297,344\" style=\"stroke: #000000; stroke-width: 1.5;\"/><line style=\"stroke: #000000; stroke-width: 1.5;\" x1=\"297\" x2=\"394\" y1=\"366.2969\" y2=\"366.2969\"/><text fill=\"#000000\" font-family=\"sans-serif\" font-size=\"14\" font-weight=\"bold\" lengthAdjust=\"spacingAndGlyphs\" textLength=\"84\" x=\"301\" y=\"358.9951\">Data Layer</text></a><!--MD5=[af87c684e3b0d8be13c1a698a818ef1e]\n",
       "link E3 to E4--><a href=\"psysml:f18ad3d3-ddea-4435-b15e-701f5c4039de\" target=\"_top\" title=\"psysml:f18ad3d3-ddea-4435-b15e-701f5c4039de\" xlink:actuate=\"onRequest\" xlink:href=\"psysml:f18ad3d3-ddea-4435-b15e-701f5c4039de\" xlink:show=\"new\" xlink:title=\"psysml:f18ad3d3-ddea-4435-b15e-701f5c4039de\" xlink:type=\"simple\"><path d=\"M349,137.1 C349,156.8 349,184.22 349,205.73 \" fill=\"none\" id=\"E3-&gt;E4\" style=\"stroke: #A80036; stroke-width: 1.0; stroke-dasharray: 7.0,7.0;\"/><polygon fill=\"#A80036\" points=\"349,213.95,352,205.95,346,205.95,349,213.95\" style=\"stroke: #A80036; stroke-width: 1.0;\"/><text fill=\"#000000\" font-family=\"sans-serif\" font-size=\"13\" lengthAdjust=\"spacingAndGlyphs\" textLength=\"64\" x=\"350\" y=\"180.0669\">«depend»</text></a><!--MD5=[1b7591eae5389033d8d09a9d6721a717]\n",
       "link E4 to E5--><a href=\"psysml:22e4e023-3d64-4f1c-8411-ecdb932522c7\" target=\"_top\" title=\"psysml:22e4e023-3d64-4f1c-8411-ecdb932522c7\" xlink:actuate=\"onRequest\" xlink:href=\"psysml:22e4e023-3d64-4f1c-8411-ecdb932522c7\" xlink:show=\"new\" xlink:title=\"psysml:22e4e023-3d64-4f1c-8411-ecdb932522c7\" xlink:type=\"simple\"><path d=\"M349,267.1 C349,286.8 349,314.22 349,335.73 \" fill=\"none\" id=\"E4-&gt;E5\" style=\"stroke: #A80036; stroke-width: 1.0; stroke-dasharray: 7.0,7.0;\"/><polygon fill=\"#A80036\" points=\"349,343.95,352,335.95,346,335.95,349,343.95\" style=\"stroke: #A80036; stroke-width: 1.0;\"/><text fill=\"#000000\" font-family=\"sans-serif\" font-size=\"13\" lengthAdjust=\"spacingAndGlyphs\" textLength=\"64\" x=\"350\" y=\"310.0669\">«depend»</text></a><!--MD5=[c5e8897d989ce984f93528998a7150fe]\n",
       "link E8 to E6--><a href=\"psysml:01d1ab15-dda9-4157-a585-7877f2cc1d47\" target=\"_top\" title=\"psysml:01d1ab15-dda9-4157-a585-7877f2cc1d47\" xlink:actuate=\"onRequest\" xlink:href=\"psysml:01d1ab15-dda9-4157-a585-7877f2cc1d47\" xlink:show=\"new\" xlink:title=\"psysml:01d1ab15-dda9-4157-a585-7877f2cc1d47\" xlink:type=\"simple\"><path d=\"M89.42,133.6 C79.35,142.68 69.37,154.11 64,167 C58.5,180.2 58.66,195.94 60.54,209.38 \" fill=\"none\" id=\"E8-&gt;E6\" style=\"stroke: #A80036; stroke-width: 1.0; stroke-dasharray: 7.0,7.0;\"/><polygon fill=\"#A80036\" points=\"61.9,217.4,63.517,209.0104,57.6018,210.0159,61.9,217.4\" style=\"stroke: #A80036; stroke-width: 1.0;\"/><text fill=\"#000000\" font-family=\"sans-serif\" font-size=\"13\" lengthAdjust=\"spacingAndGlyphs\" textLength=\"64\" x=\"65\" y=\"180.0669\">«depend»</text></a><!--MD5=[bfa3c8b0d15052fdf50ae9310b491027]\n",
       "link E8 to E7--><a href=\"psysml:01d1ab15-dda9-4157-a585-7877f2cc1d47\" target=\"_top\" title=\"psysml:01d1ab15-dda9-4157-a585-7877f2cc1d47\" xlink:actuate=\"onRequest\" xlink:href=\"psysml:01d1ab15-dda9-4157-a585-7877f2cc1d47\" xlink:show=\"new\" xlink:title=\"psysml:01d1ab15-dda9-4157-a585-7877f2cc1d47\" xlink:type=\"simple\"><path d=\"M129.28,133.5 C138.17,154.57 151.64,186.5 161.47,209.81 \" fill=\"none\" id=\"E8-&gt;E7\" style=\"stroke: #A80036; stroke-width: 1.0; stroke-dasharray: 7.0,7.0;\"/><polygon fill=\"#A80036\" points=\"164.66,217.35,164.3241,208.8126,158.7933,211.1385,164.66,217.35\" style=\"stroke: #A80036; stroke-width: 1.0;\"/><text fill=\"#000000\" font-family=\"sans-serif\" font-size=\"13\" lengthAdjust=\"spacingAndGlyphs\" textLength=\"64\" x=\"151\" y=\"180.0669\">«depend»</text></a><!--MD5=[3186f080d58d5dcb5adf9657e256016c]\n",
       "@startuml\r\n",
       "skinparam wrapWidth 300\r\n",
       "hide circle\r\n",
       "\r\n",
       "package \"DependencyTest\" as E1  [[psysml:a0e63dae-583d-42a3-9f46-6e6177e563b1 ]]  {\r\n",
       "package \"System\" as E2  [[psysml:90630542-d1db-4cfe-a426-6fd5a6b42885 ]]  {\r\n",
       "package \"Application Layer\" as E3  [[psysml:f4739741-a5ef-49a4-9e06-4bb8a722f77e ]]  {\r\n",
       "}\r\n",
       "package \"Service Layer\" as E4  [[psysml:e1090b77-2219-4e30-afea-75b6451d3a90 ]]  {\r\n",
       "}\r\n",
       "package \"Data Layer\" as E5  [[psysml:fe465764-9ab4-44bf-be91-bd692232f0a1 ]]  {\r\n",
       "}\r\n",
       "}\r\n",
       "comp usage \"x\" as E6  <<(T,blue)attribute>> [[psysml:7440b603-2b18-4efb-9bf4-7832c56b919b ]] {\r\n",
       "}\r\n",
       "comp usage \"y\" as E7  <<(T,blue)attribute>> [[psysml:d907cb85-580b-45cd-b69d-b597f081eb5c ]] {\r\n",
       "}\r\n",
       "comp usage \"z\" as E8  <<(T,blue)attribute>> [[psysml:719c36a8-8fd6-40f5-b1aa-2a0e2714a310 ]] {\r\n",
       "}\r\n",
       "E3 ..>> E4 [[psysml:f18ad3d3-ddea-4435-b15e-701f5c4039de ]] : <<depend>>\r\n",
       "E4 ..>> E5 [[psysml:22e4e023-3d64-4f1c-8411-ecdb932522c7 ]] : <<depend>>\r\n",
       "E8 ..>> E6 [[psysml:01d1ab15-dda9-4157-a585-7877f2cc1d47 ]] : <<depend>>\r\n",
       "E8 ..>> E7 [[psysml:01d1ab15-dda9-4157-a585-7877f2cc1d47 ]] : <<depend>>\r\n",
       "}\r\n",
       "@enduml\r\n",
       "\n",
       "PlantUML version 1.2020.13(Sat Jun 13 12:26:38 UTC 2020)\n",
       "(EPL source distribution)\n",
       "Java Runtime: OpenJDK Runtime Environment\n",
       "JVM: OpenJDK 64-Bit Server VM\n",
       "Default Encoding: UTF-8\n",
       "Language: en\n",
       "Country: null\n",
       "--></g></svg>"
      ]
     },
     "execution_count": 29,
     "metadata": {},
     "output_type": "execute_result"
    }
   ],
   "source": [
    "%viz --style=\"STDCOLOR\" --view=\"MIXED\" \"DependencyTest\""
   ]
  },
  {
   "cell_type": "code",
   "execution_count": 30,
   "id": "a9fa5d11",
   "metadata": {
    "execution": {
     "iopub.execute_input": "2021-04-21T20:26:06.972690Z",
     "iopub.status.busy": "2021-04-21T20:26:06.972168Z",
     "iopub.status.idle": "2021-04-21T20:26:07.023709Z",
     "shell.execute_reply": "2021-04-21T20:26:07.022762Z"
    }
   },
   "outputs": [
    {
     "data": {
      "image/svg+xml": [
       "<?xml version=\"1.0\" encoding=\"UTF-8\" standalone=\"no\"?><svg xmlns=\"http://www.w3.org/2000/svg\" xmlns:xlink=\"http://www.w3.org/1999/xlink\" contentScriptType=\"application/ecmascript\" contentStyleType=\"text/css\" height=\"449px\" preserveAspectRatio=\"none\" style=\"width:510px;height:449px;\" version=\"1.1\" viewBox=\"0 0 510 449\" width=\"510px\" zoomAndPan=\"magnify\"><defs><filter height=\"300%\" id=\"fsn3uilnn6ozm\" width=\"300%\" x=\"-1\" y=\"-1\"><feGaussianBlur result=\"blurOut\" stdDeviation=\"2.0\"/><feColorMatrix in=\"blurOut\" result=\"blurOut2\" type=\"matrix\" values=\"0 0 0 0 0 0 0 0 0 0 0 0 0 0 0 0 0 0 .4 0\"/><feOffset dx=\"4.0\" dy=\"4.0\" in=\"blurOut2\" result=\"blurOut3\"/><feBlend in=\"SourceGraphic\" in2=\"blurOut3\" mode=\"normal\"/></filter></defs><g><!--MD5=[fbc87193dbaf4d95561dea2c320d4a47]\n",
       "cluster E1--><a href=\"psysml:a0e63dae-583d-42a3-9f46-6e6177e563b1\" target=\"_top\" title=\"psysml:a0e63dae-583d-42a3-9f46-6e6177e563b1\" xlink:actuate=\"onRequest\" xlink:href=\"psysml:a0e63dae-583d-42a3-9f46-6e6177e563b1\" xlink:show=\"new\" xlink:title=\"psysml:a0e63dae-583d-42a3-9f46-6e6177e563b1\" xlink:type=\"simple\"><polygon fill=\"#FFFFFF\" filter=\"url(#fsn3uilnn6ozm)\" points=\"16,6,156,6,163,28.2969,488,28.2969,488,437,16,437,16,6\" style=\"stroke: #000000; stroke-width: 1.5;\"/><line style=\"stroke: #000000; stroke-width: 1.5;\" x1=\"16\" x2=\"163\" y1=\"28.2969\" y2=\"28.2969\"/><text fill=\"#000000\" font-family=\"sans-serif\" font-size=\"14\" font-weight=\"bold\" lengthAdjust=\"spacingAndGlyphs\" textLength=\"134\" x=\"20\" y=\"20.9951\">DependencyTest</text></a><!--MD5=[e4f7fae6ed58524ba242bb0b0d3be6b7]\n",
       "cluster E2--><a href=\"psysml:90630542-d1db-4cfe-a426-6fd5a6b42885\" target=\"_top\" title=\"psysml:90630542-d1db-4cfe-a426-6fd5a6b42885\" xlink:actuate=\"onRequest\" xlink:href=\"psysml:90630542-d1db-4cfe-a426-6fd5a6b42885\" xlink:show=\"new\" xlink:title=\"psysml:90630542-d1db-4cfe-a426-6fd5a6b42885\" xlink:type=\"simple\"><polygon fill=\"#FFFFFF\" filter=\"url(#fsn3uilnn6ozm)\" points=\"276,49,340,49,347,71.2969,464,71.2969,464,413,276,413,276,49\" style=\"stroke: #000000; stroke-width: 1.5;\"/><line style=\"stroke: #000000; stroke-width: 1.5;\" x1=\"276\" x2=\"347\" y1=\"71.2969\" y2=\"71.2969\"/><text fill=\"#000000\" font-family=\"sans-serif\" font-size=\"14\" font-weight=\"bold\" lengthAdjust=\"spacingAndGlyphs\" textLength=\"58\" x=\"280\" y=\"63.9951\">System</text></a><!--MD5=[60a26617385b1d2d0262a64233df1f8d]\n",
       "class E6--><a href=\"psysml:7440b603-2b18-4efb-9bf4-7832c56b919b\" target=\"_top\" title=\"psysml:7440b603-2b18-4efb-9bf4-7832c56b919b\" xlink:actuate=\"onRequest\" xlink:href=\"psysml:7440b603-2b18-4efb-9bf4-7832c56b919b\" xlink:show=\"new\" xlink:title=\"psysml:7440b603-2b18-4efb-9bf4-7832c56b919b\" xlink:type=\"simple\"><rect fill=\"#FEFECE\" filter=\"url(#fsn3uilnn6ozm)\" height=\"45.9375\" id=\"E6\" rx=\"10\" ry=\"10\" style=\"stroke: #A80036; stroke-width: 1.5;\" width=\"97\" x=\"31.5\" y=\"217.5\"/><ellipse cx=\"46.5\" cy=\"236.4688\" fill=\"#FFA500\" rx=\"11\" ry=\"11\" style=\"stroke: #A80036; stroke-width: 1.0;\"/><path d=\"M42.375,238.3906 L42.375,230.5781 L44.8281,230.5781 L44.8281,239.0156 Q44.8281,239.9375 45.2969,240.4688 Q45.7813,241 46.6094,241 Q47.4531,241 47.9219,240.4688 Q48.3906,239.9375 48.3906,239.0156 L48.3906,230.5781 L50.8438,230.5781 L50.8438,238.3906 Q50.8438,240.9219 49.8438,242.0625 Q48.8438,243.2031 46.6094,243.2031 Q44.3906,243.2031 43.375,242.0625 Q42.375,240.9219 42.375,238.3906 Z \"/><text fill=\"#000000\" font-family=\"sans-serif\" font-size=\"12\" font-style=\"italic\" lengthAdjust=\"spacingAndGlyphs\" textLength=\"69\" x=\"58.5\" y=\"233.6387\">«attribute»</text><text fill=\"#000000\" font-family=\"sans-serif\" font-size=\"12\" lengthAdjust=\"spacingAndGlyphs\" textLength=\"6\" x=\"90\" y=\"247.6074\">x</text><line style=\"stroke: #A80036; stroke-width: 1.5;\" x1=\"32.5\" x2=\"127.5\" y1=\"255.4375\" y2=\"255.4375\"/></a><!--MD5=[2156ba9850f5573cc1fc38a6a4b2f02b]\n",
       "class E7--><a href=\"psysml:d907cb85-580b-45cd-b69d-b597f081eb5c\" target=\"_top\" title=\"psysml:d907cb85-580b-45cd-b69d-b597f081eb5c\" xlink:actuate=\"onRequest\" xlink:href=\"psysml:d907cb85-580b-45cd-b69d-b597f081eb5c\" xlink:show=\"new\" xlink:title=\"psysml:d907cb85-580b-45cd-b69d-b597f081eb5c\" xlink:type=\"simple\"><rect fill=\"#FEFECE\" filter=\"url(#fsn3uilnn6ozm)\" height=\"45.9375\" id=\"E7\" rx=\"10\" ry=\"10\" style=\"stroke: #A80036; stroke-width: 1.5;\" width=\"97\" x=\"163.5\" y=\"217.5\"/><ellipse cx=\"178.5\" cy=\"236.4688\" fill=\"#FFA500\" rx=\"11\" ry=\"11\" style=\"stroke: #A80036; stroke-width: 1.0;\"/><path d=\"M174.375,238.3906 L174.375,230.5781 L176.8281,230.5781 L176.8281,239.0156 Q176.8281,239.9375 177.2969,240.4688 Q177.7813,241 178.6094,241 Q179.4531,241 179.9219,240.4688 Q180.3906,239.9375 180.3906,239.0156 L180.3906,230.5781 L182.8438,230.5781 L182.8438,238.3906 Q182.8438,240.9219 181.8438,242.0625 Q180.8438,243.2031 178.6094,243.2031 Q176.3906,243.2031 175.375,242.0625 Q174.375,240.9219 174.375,238.3906 Z \"/><text fill=\"#000000\" font-family=\"sans-serif\" font-size=\"12\" font-style=\"italic\" lengthAdjust=\"spacingAndGlyphs\" textLength=\"69\" x=\"190.5\" y=\"233.6387\">«attribute»</text><text fill=\"#000000\" font-family=\"sans-serif\" font-size=\"12\" lengthAdjust=\"spacingAndGlyphs\" textLength=\"6\" x=\"222\" y=\"247.6074\">y</text><line style=\"stroke: #A80036; stroke-width: 1.5;\" x1=\"164.5\" x2=\"259.5\" y1=\"255.4375\" y2=\"255.4375\"/></a><!--MD5=[b9389687b975829384b498ac4b7476b2]\n",
       "class E8--><a href=\"psysml:719c36a8-8fd6-40f5-b1aa-2a0e2714a310\" target=\"_top\" title=\"psysml:719c36a8-8fd6-40f5-b1aa-2a0e2714a310\" xlink:actuate=\"onRequest\" xlink:href=\"psysml:719c36a8-8fd6-40f5-b1aa-2a0e2714a310\" xlink:show=\"new\" xlink:title=\"psysml:719c36a8-8fd6-40f5-b1aa-2a0e2714a310\" xlink:type=\"simple\"><rect fill=\"#FEFECE\" filter=\"url(#fsn3uilnn6ozm)\" height=\"45.9375\" id=\"E8\" rx=\"10\" ry=\"10\" style=\"stroke: #A80036; stroke-width: 1.5;\" width=\"97\" x=\"84.5\" y=\"87.5\"/><ellipse cx=\"99.5\" cy=\"106.4688\" fill=\"#FFA500\" rx=\"11\" ry=\"11\" style=\"stroke: #A80036; stroke-width: 1.0;\"/><path d=\"M95.375,108.3906 L95.375,100.5781 L97.8281,100.5781 L97.8281,109.0156 Q97.8281,109.9375 98.2969,110.4688 Q98.7813,111 99.6094,111 Q100.4531,111 100.9219,110.4688 Q101.3906,109.9375 101.3906,109.0156 L101.3906,100.5781 L103.8438,100.5781 L103.8438,108.3906 Q103.8438,110.9219 102.8438,112.0625 Q101.8438,113.2031 99.6094,113.2031 Q97.3906,113.2031 96.375,112.0625 Q95.375,110.9219 95.375,108.3906 Z \"/><text fill=\"#000000\" font-family=\"sans-serif\" font-size=\"12\" font-style=\"italic\" lengthAdjust=\"spacingAndGlyphs\" textLength=\"69\" x=\"111.5\" y=\"103.6387\">«attribute»</text><text fill=\"#000000\" font-family=\"sans-serif\" font-size=\"12\" lengthAdjust=\"spacingAndGlyphs\" textLength=\"5\" x=\"143.5\" y=\"117.6074\">z</text><line style=\"stroke: #A80036; stroke-width: 1.5;\" x1=\"85.5\" x2=\"180.5\" y1=\"125.4375\" y2=\"125.4375\"/></a><a href=\"psysml:f4739741-a5ef-49a4-9e06-4bb8a722f77e\" target=\"_top\" title=\"psysml:f4739741-a5ef-49a4-9e06-4bb8a722f77e\" xlink:actuate=\"onRequest\" xlink:href=\"psysml:f4739741-a5ef-49a4-9e06-4bb8a722f77e\" xlink:show=\"new\" xlink:title=\"psysml:f4739741-a5ef-49a4-9e06-4bb8a722f77e\" xlink:type=\"simple\"><polygon fill=\"#FFFFFF\" filter=\"url(#fsn3uilnn6ozm)\" points=\"292,84,434,84,441,106.2969,448,106.2969,448,136.5938,292,136.5938,292,84\" style=\"stroke: #000000; stroke-width: 1.5;\"/><line style=\"stroke: #000000; stroke-width: 1.5;\" x1=\"292\" x2=\"441\" y1=\"106.2969\" y2=\"106.2969\"/><text fill=\"#000000\" font-family=\"sans-serif\" font-size=\"14\" font-weight=\"bold\" lengthAdjust=\"spacingAndGlyphs\" textLength=\"136\" x=\"296\" y=\"98.9951\">Application Layer</text></a><a href=\"psysml:e1090b77-2219-4e30-afea-75b6451d3a90\" target=\"_top\" title=\"psysml:e1090b77-2219-4e30-afea-75b6451d3a90\" xlink:actuate=\"onRequest\" xlink:href=\"psysml:e1090b77-2219-4e30-afea-75b6451d3a90\" xlink:show=\"new\" xlink:title=\"psysml:e1090b77-2219-4e30-afea-75b6451d3a90\" xlink:type=\"simple\"><polygon fill=\"#FFFFFF\" filter=\"url(#fsn3uilnn6ozm)\" points=\"306,214,420,214,427,236.2969,434,236.2969,434,266.5938,306,266.5938,306,214\" style=\"stroke: #000000; stroke-width: 1.5;\"/><line style=\"stroke: #000000; stroke-width: 1.5;\" x1=\"306\" x2=\"427\" y1=\"236.2969\" y2=\"236.2969\"/><text fill=\"#000000\" font-family=\"sans-serif\" font-size=\"14\" font-weight=\"bold\" lengthAdjust=\"spacingAndGlyphs\" textLength=\"108\" x=\"310\" y=\"228.9951\">Service Layer</text></a><a href=\"psysml:fe465764-9ab4-44bf-be91-bd692232f0a1\" target=\"_top\" title=\"psysml:fe465764-9ab4-44bf-be91-bd692232f0a1\" xlink:actuate=\"onRequest\" xlink:href=\"psysml:fe465764-9ab4-44bf-be91-bd692232f0a1\" xlink:show=\"new\" xlink:title=\"psysml:fe465764-9ab4-44bf-be91-bd692232f0a1\" xlink:type=\"simple\"><polygon fill=\"#FFFFFF\" filter=\"url(#fsn3uilnn6ozm)\" points=\"318,344,408,344,415,366.2969,422,366.2969,422,396.5938,318,396.5938,318,344\" style=\"stroke: #000000; stroke-width: 1.5;\"/><line style=\"stroke: #000000; stroke-width: 1.5;\" x1=\"318\" x2=\"415\" y1=\"366.2969\" y2=\"366.2969\"/><text fill=\"#000000\" font-family=\"sans-serif\" font-size=\"14\" font-weight=\"bold\" lengthAdjust=\"spacingAndGlyphs\" textLength=\"84\" x=\"322\" y=\"358.9951\">Data Layer</text></a><!--MD5=[af87c684e3b0d8be13c1a698a818ef1e]\n",
       "link E3 to E4--><a href=\"psysml:f18ad3d3-ddea-4435-b15e-701f5c4039de\" target=\"_top\" title=\"psysml:f18ad3d3-ddea-4435-b15e-701f5c4039de\" xlink:actuate=\"onRequest\" xlink:href=\"psysml:f18ad3d3-ddea-4435-b15e-701f5c4039de\" xlink:show=\"new\" xlink:title=\"psysml:f18ad3d3-ddea-4435-b15e-701f5c4039de\" xlink:type=\"simple\"><path d=\"M370,137.1 C370,156.8 370,184.22 370,205.73 \" fill=\"none\" id=\"E3-&gt;E4\" style=\"stroke: #A80036; stroke-width: 1.0; stroke-dasharray: 7.0,7.0;\"/><polygon fill=\"#A80036\" points=\"370,213.95,373,205.95,367,205.95,370,213.95\" style=\"stroke: #A80036; stroke-width: 1.0;\"/><text fill=\"#000000\" font-family=\"sans-serif\" font-size=\"13\" lengthAdjust=\"spacingAndGlyphs\" textLength=\"64\" x=\"371\" y=\"180.0669\">«depend»</text></a><!--MD5=[1b7591eae5389033d8d09a9d6721a717]\n",
       "link E4 to E5--><a href=\"psysml:22e4e023-3d64-4f1c-8411-ecdb932522c7\" target=\"_top\" title=\"psysml:22e4e023-3d64-4f1c-8411-ecdb932522c7\" xlink:actuate=\"onRequest\" xlink:href=\"psysml:22e4e023-3d64-4f1c-8411-ecdb932522c7\" xlink:show=\"new\" xlink:title=\"psysml:22e4e023-3d64-4f1c-8411-ecdb932522c7\" xlink:type=\"simple\"><path d=\"M370,267.1 C370,286.8 370,314.22 370,335.73 \" fill=\"none\" id=\"E4-&gt;E5\" style=\"stroke: #A80036; stroke-width: 1.0; stroke-dasharray: 7.0,7.0;\"/><polygon fill=\"#A80036\" points=\"370,343.95,373,335.95,367,335.95,370,343.95\" style=\"stroke: #A80036; stroke-width: 1.0;\"/><text fill=\"#000000\" font-family=\"sans-serif\" font-size=\"13\" lengthAdjust=\"spacingAndGlyphs\" textLength=\"64\" x=\"371\" y=\"310.0669\">«depend»</text></a><!--MD5=[c5e8897d989ce984f93528998a7150fe]\n",
       "link E8 to E6--><a href=\"psysml:01d1ab15-dda9-4157-a585-7877f2cc1d47\" target=\"_top\" title=\"psysml:01d1ab15-dda9-4157-a585-7877f2cc1d47\" xlink:actuate=\"onRequest\" xlink:href=\"psysml:01d1ab15-dda9-4157-a585-7877f2cc1d47\" xlink:show=\"new\" xlink:title=\"psysml:01d1ab15-dda9-4157-a585-7877f2cc1d47\" xlink:type=\"simple\"><path d=\"M106.44,133.76 C97.3,143.01 88.09,154.51 83,167 C77.6,180.23 76.4,195.98 76.73,209.41 \" fill=\"none\" id=\"E8-&gt;E6\" style=\"stroke: #A80036; stroke-width: 1.0; stroke-dasharray: 7.0,7.0;\"/><polygon fill=\"#A80036\" points=\"77.12,217.43,79.7306,209.2946,73.7375,209.584,77.12,217.43\" style=\"stroke: #A80036; stroke-width: 1.0;\"/><text fill=\"#000000\" font-family=\"sans-serif\" font-size=\"13\" lengthAdjust=\"spacingAndGlyphs\" textLength=\"64\" x=\"84\" y=\"180.0669\">«depend»</text></a><!--MD5=[bfa3c8b0d15052fdf50ae9310b491027]\n",
       "link E8 to E7--><a href=\"psysml:01d1ab15-dda9-4157-a585-7877f2cc1d47\" target=\"_top\" title=\"psysml:01d1ab15-dda9-4157-a585-7877f2cc1d47\" xlink:actuate=\"onRequest\" xlink:href=\"psysml:01d1ab15-dda9-4157-a585-7877f2cc1d47\" xlink:show=\"new\" xlink:title=\"psysml:01d1ab15-dda9-4157-a585-7877f2cc1d47\" xlink:type=\"simple\"><path d=\"M146.58,133.5 C159.69,154.75 179.63,187.05 194.05,210.41 \" fill=\"none\" id=\"E8-&gt;E7\" style=\"stroke: #A80036; stroke-width: 1.0; stroke-dasharray: 7.0,7.0;\"/><polygon fill=\"#A80036\" points=\"198.33,217.35,196.6785,208.9671,191.5737,212.1201,198.33,217.35\" style=\"stroke: #A80036; stroke-width: 1.0;\"/><text fill=\"#000000\" font-family=\"sans-serif\" font-size=\"13\" lengthAdjust=\"spacingAndGlyphs\" textLength=\"64\" x=\"178\" y=\"180.0669\">«depend»</text></a><!--MD5=[cdc1fe17f07e8362a3c85a15aab0270a]\n",
       "@startuml\r\n",
       " \r\n",
       "package \"DependencyTest\" as E1  [[psysml:a0e63dae-583d-42a3-9f46-6e6177e563b1 ]]  {\r\n",
       "package \"System\" as E2  [[psysml:90630542-d1db-4cfe-a426-6fd5a6b42885 ]]  {\r\n",
       "package \"Application Layer\" as E3  [[psysml:f4739741-a5ef-49a4-9e06-4bb8a722f77e ]]  {\r\n",
       "}\r\n",
       "package \"Service Layer\" as E4  [[psysml:e1090b77-2219-4e30-afea-75b6451d3a90 ]]  {\r\n",
       "}\r\n",
       "package \"Data Layer\" as E5  [[psysml:fe465764-9ab4-44bf-be91-bd692232f0a1 ]]  {\r\n",
       "}\r\n",
       "}\r\n",
       "comp usage \"x\" as E6  <<(U,orange)attribute>> [[psysml:7440b603-2b18-4efb-9bf4-7832c56b919b ]] {\r\n",
       "}\r\n",
       "comp usage \"y\" as E7  <<(U,orange)attribute>> [[psysml:d907cb85-580b-45cd-b69d-b597f081eb5c ]] {\r\n",
       "}\r\n",
       "comp usage \"z\" as E8  <<(U,orange)attribute>> [[psysml:719c36a8-8fd6-40f5-b1aa-2a0e2714a310 ]] {\r\n",
       "}\r\n",
       "E3 ..>> E4 [[psysml:f18ad3d3-ddea-4435-b15e-701f5c4039de ]] : <<depend>>\r\n",
       "E4 ..>> E5 [[psysml:22e4e023-3d64-4f1c-8411-ecdb932522c7 ]] : <<depend>>\r\n",
       "E8 ..>> E6 [[psysml:01d1ab15-dda9-4157-a585-7877f2cc1d47 ]] : <<depend>>\r\n",
       "E8 ..>> E7 [[psysml:01d1ab15-dda9-4157-a585-7877f2cc1d47 ]] : <<depend>>\r\n",
       "}\r\n",
       "@enduml\r\n",
       "\n",
       "PlantUML version 1.2020.13(Sat Jun 13 12:26:38 UTC 2020)\n",
       "(EPL source distribution)\n",
       "Java Runtime: OpenJDK Runtime Environment\n",
       "JVM: OpenJDK 64-Bit Server VM\n",
       "Default Encoding: UTF-8\n",
       "Language: en\n",
       "Country: null\n",
       "--></g></svg>"
      ]
     },
     "execution_count": 30,
     "metadata": {},
     "output_type": "execute_result"
    }
   ],
   "source": [
    "%viz --style=\"PLANTUML\" --view=\"Default\" \"DependencyTest\""
   ]
  },
  {
   "cell_type": "code",
   "execution_count": 31,
   "id": "5ad54dd5",
   "metadata": {
    "execution": {
     "iopub.execute_input": "2021-04-21T20:26:07.074032Z",
     "iopub.status.busy": "2021-04-21T20:26:07.073543Z",
     "iopub.status.idle": "2021-04-21T20:26:07.107671Z",
     "shell.execute_reply": "2021-04-21T20:26:07.107365Z"
    }
   },
   "outputs": [
    {
     "data": {
      "image/svg+xml": [
       "<?xml version=\"1.0\" encoding=\"UTF-8\" standalone=\"no\"?><svg xmlns=\"http://www.w3.org/2000/svg\" xmlns:xlink=\"http://www.w3.org/1999/xlink\" contentScriptType=\"application/ecmascript\" contentStyleType=\"text/css\" height=\"449px\" preserveAspectRatio=\"none\" style=\"width:510px;height:449px;\" version=\"1.1\" viewBox=\"0 0 510 449\" width=\"510px\" zoomAndPan=\"magnify\"><defs><filter height=\"300%\" id=\"fsn3uilnn6ozm\" width=\"300%\" x=\"-1\" y=\"-1\"><feGaussianBlur result=\"blurOut\" stdDeviation=\"2.0\"/><feColorMatrix in=\"blurOut\" result=\"blurOut2\" type=\"matrix\" values=\"0 0 0 0 0 0 0 0 0 0 0 0 0 0 0 0 0 0 .4 0\"/><feOffset dx=\"4.0\" dy=\"4.0\" in=\"blurOut2\" result=\"blurOut3\"/><feBlend in=\"SourceGraphic\" in2=\"blurOut3\" mode=\"normal\"/></filter></defs><g><!--MD5=[fbc87193dbaf4d95561dea2c320d4a47]\n",
       "cluster E1--><a href=\"psysml:a0e63dae-583d-42a3-9f46-6e6177e563b1\" target=\"_top\" title=\"psysml:a0e63dae-583d-42a3-9f46-6e6177e563b1\" xlink:actuate=\"onRequest\" xlink:href=\"psysml:a0e63dae-583d-42a3-9f46-6e6177e563b1\" xlink:show=\"new\" xlink:title=\"psysml:a0e63dae-583d-42a3-9f46-6e6177e563b1\" xlink:type=\"simple\"><polygon fill=\"#FFFFFF\" filter=\"url(#fsn3uilnn6ozm)\" points=\"16,6,156,6,163,28.2969,488,28.2969,488,437,16,437,16,6\" style=\"stroke: #000000; stroke-width: 1.5;\"/><line style=\"stroke: #000000; stroke-width: 1.5;\" x1=\"16\" x2=\"163\" y1=\"28.2969\" y2=\"28.2969\"/><text fill=\"#000000\" font-family=\"sans-serif\" font-size=\"14\" font-weight=\"bold\" lengthAdjust=\"spacingAndGlyphs\" textLength=\"134\" x=\"20\" y=\"20.9951\">DependencyTest</text></a><!--MD5=[e4f7fae6ed58524ba242bb0b0d3be6b7]\n",
       "cluster E2--><a href=\"psysml:90630542-d1db-4cfe-a426-6fd5a6b42885\" target=\"_top\" title=\"psysml:90630542-d1db-4cfe-a426-6fd5a6b42885\" xlink:actuate=\"onRequest\" xlink:href=\"psysml:90630542-d1db-4cfe-a426-6fd5a6b42885\" xlink:show=\"new\" xlink:title=\"psysml:90630542-d1db-4cfe-a426-6fd5a6b42885\" xlink:type=\"simple\"><polygon fill=\"#FFFFFF\" filter=\"url(#fsn3uilnn6ozm)\" points=\"276,49,340,49,347,71.2969,464,71.2969,464,413,276,413,276,49\" style=\"stroke: #000000; stroke-width: 1.5;\"/><line style=\"stroke: #000000; stroke-width: 1.5;\" x1=\"276\" x2=\"347\" y1=\"71.2969\" y2=\"71.2969\"/><text fill=\"#000000\" font-family=\"sans-serif\" font-size=\"14\" font-weight=\"bold\" lengthAdjust=\"spacingAndGlyphs\" textLength=\"58\" x=\"280\" y=\"63.9951\">System</text></a><!--MD5=[60a26617385b1d2d0262a64233df1f8d]\n",
       "class E6--><a href=\"psysml:7440b603-2b18-4efb-9bf4-7832c56b919b\" target=\"_top\" title=\"psysml:7440b603-2b18-4efb-9bf4-7832c56b919b\" xlink:actuate=\"onRequest\" xlink:href=\"psysml:7440b603-2b18-4efb-9bf4-7832c56b919b\" xlink:show=\"new\" xlink:title=\"psysml:7440b603-2b18-4efb-9bf4-7832c56b919b\" xlink:type=\"simple\"><rect fill=\"#FEFECE\" filter=\"url(#fsn3uilnn6ozm)\" height=\"45.9375\" id=\"E6\" rx=\"10\" ry=\"10\" style=\"stroke: #A80036; stroke-width: 1.5;\" width=\"97\" x=\"31.5\" y=\"217.5\"/><ellipse cx=\"46.5\" cy=\"236.4688\" fill=\"#FFA500\" rx=\"11\" ry=\"11\" style=\"stroke: #A80036; stroke-width: 1.0;\"/><path d=\"M42.375,238.3906 L42.375,230.5781 L44.8281,230.5781 L44.8281,239.0156 Q44.8281,239.9375 45.2969,240.4688 Q45.7813,241 46.6094,241 Q47.4531,241 47.9219,240.4688 Q48.3906,239.9375 48.3906,239.0156 L48.3906,230.5781 L50.8438,230.5781 L50.8438,238.3906 Q50.8438,240.9219 49.8438,242.0625 Q48.8438,243.2031 46.6094,243.2031 Q44.3906,243.2031 43.375,242.0625 Q42.375,240.9219 42.375,238.3906 Z \"/><text fill=\"#000000\" font-family=\"sans-serif\" font-size=\"12\" font-style=\"italic\" lengthAdjust=\"spacingAndGlyphs\" textLength=\"69\" x=\"58.5\" y=\"233.6387\">«attribute»</text><text fill=\"#000000\" font-family=\"sans-serif\" font-size=\"12\" lengthAdjust=\"spacingAndGlyphs\" textLength=\"6\" x=\"90\" y=\"247.6074\">x</text><line style=\"stroke: #A80036; stroke-width: 1.5;\" x1=\"32.5\" x2=\"127.5\" y1=\"255.4375\" y2=\"255.4375\"/></a><!--MD5=[2156ba9850f5573cc1fc38a6a4b2f02b]\n",
       "class E7--><a href=\"psysml:d907cb85-580b-45cd-b69d-b597f081eb5c\" target=\"_top\" title=\"psysml:d907cb85-580b-45cd-b69d-b597f081eb5c\" xlink:actuate=\"onRequest\" xlink:href=\"psysml:d907cb85-580b-45cd-b69d-b597f081eb5c\" xlink:show=\"new\" xlink:title=\"psysml:d907cb85-580b-45cd-b69d-b597f081eb5c\" xlink:type=\"simple\"><rect fill=\"#FEFECE\" filter=\"url(#fsn3uilnn6ozm)\" height=\"45.9375\" id=\"E7\" rx=\"10\" ry=\"10\" style=\"stroke: #A80036; stroke-width: 1.5;\" width=\"97\" x=\"163.5\" y=\"217.5\"/><ellipse cx=\"178.5\" cy=\"236.4688\" fill=\"#FFA500\" rx=\"11\" ry=\"11\" style=\"stroke: #A80036; stroke-width: 1.0;\"/><path d=\"M174.375,238.3906 L174.375,230.5781 L176.8281,230.5781 L176.8281,239.0156 Q176.8281,239.9375 177.2969,240.4688 Q177.7813,241 178.6094,241 Q179.4531,241 179.9219,240.4688 Q180.3906,239.9375 180.3906,239.0156 L180.3906,230.5781 L182.8438,230.5781 L182.8438,238.3906 Q182.8438,240.9219 181.8438,242.0625 Q180.8438,243.2031 178.6094,243.2031 Q176.3906,243.2031 175.375,242.0625 Q174.375,240.9219 174.375,238.3906 Z \"/><text fill=\"#000000\" font-family=\"sans-serif\" font-size=\"12\" font-style=\"italic\" lengthAdjust=\"spacingAndGlyphs\" textLength=\"69\" x=\"190.5\" y=\"233.6387\">«attribute»</text><text fill=\"#000000\" font-family=\"sans-serif\" font-size=\"12\" lengthAdjust=\"spacingAndGlyphs\" textLength=\"6\" x=\"222\" y=\"247.6074\">y</text><line style=\"stroke: #A80036; stroke-width: 1.5;\" x1=\"164.5\" x2=\"259.5\" y1=\"255.4375\" y2=\"255.4375\"/></a><!--MD5=[b9389687b975829384b498ac4b7476b2]\n",
       "class E8--><a href=\"psysml:719c36a8-8fd6-40f5-b1aa-2a0e2714a310\" target=\"_top\" title=\"psysml:719c36a8-8fd6-40f5-b1aa-2a0e2714a310\" xlink:actuate=\"onRequest\" xlink:href=\"psysml:719c36a8-8fd6-40f5-b1aa-2a0e2714a310\" xlink:show=\"new\" xlink:title=\"psysml:719c36a8-8fd6-40f5-b1aa-2a0e2714a310\" xlink:type=\"simple\"><rect fill=\"#FEFECE\" filter=\"url(#fsn3uilnn6ozm)\" height=\"45.9375\" id=\"E8\" rx=\"10\" ry=\"10\" style=\"stroke: #A80036; stroke-width: 1.5;\" width=\"97\" x=\"84.5\" y=\"87.5\"/><ellipse cx=\"99.5\" cy=\"106.4688\" fill=\"#FFA500\" rx=\"11\" ry=\"11\" style=\"stroke: #A80036; stroke-width: 1.0;\"/><path d=\"M95.375,108.3906 L95.375,100.5781 L97.8281,100.5781 L97.8281,109.0156 Q97.8281,109.9375 98.2969,110.4688 Q98.7813,111 99.6094,111 Q100.4531,111 100.9219,110.4688 Q101.3906,109.9375 101.3906,109.0156 L101.3906,100.5781 L103.8438,100.5781 L103.8438,108.3906 Q103.8438,110.9219 102.8438,112.0625 Q101.8438,113.2031 99.6094,113.2031 Q97.3906,113.2031 96.375,112.0625 Q95.375,110.9219 95.375,108.3906 Z \"/><text fill=\"#000000\" font-family=\"sans-serif\" font-size=\"12\" font-style=\"italic\" lengthAdjust=\"spacingAndGlyphs\" textLength=\"69\" x=\"111.5\" y=\"103.6387\">«attribute»</text><text fill=\"#000000\" font-family=\"sans-serif\" font-size=\"12\" lengthAdjust=\"spacingAndGlyphs\" textLength=\"5\" x=\"143.5\" y=\"117.6074\">z</text><line style=\"stroke: #A80036; stroke-width: 1.5;\" x1=\"85.5\" x2=\"180.5\" y1=\"125.4375\" y2=\"125.4375\"/></a><a href=\"psysml:f4739741-a5ef-49a4-9e06-4bb8a722f77e\" target=\"_top\" title=\"psysml:f4739741-a5ef-49a4-9e06-4bb8a722f77e\" xlink:actuate=\"onRequest\" xlink:href=\"psysml:f4739741-a5ef-49a4-9e06-4bb8a722f77e\" xlink:show=\"new\" xlink:title=\"psysml:f4739741-a5ef-49a4-9e06-4bb8a722f77e\" xlink:type=\"simple\"><polygon fill=\"#FFFFFF\" filter=\"url(#fsn3uilnn6ozm)\" points=\"292,84,434,84,441,106.2969,448,106.2969,448,136.5938,292,136.5938,292,84\" style=\"stroke: #000000; stroke-width: 1.5;\"/><line style=\"stroke: #000000; stroke-width: 1.5;\" x1=\"292\" x2=\"441\" y1=\"106.2969\" y2=\"106.2969\"/><text fill=\"#000000\" font-family=\"sans-serif\" font-size=\"14\" font-weight=\"bold\" lengthAdjust=\"spacingAndGlyphs\" textLength=\"136\" x=\"296\" y=\"98.9951\">Application Layer</text></a><a href=\"psysml:e1090b77-2219-4e30-afea-75b6451d3a90\" target=\"_top\" title=\"psysml:e1090b77-2219-4e30-afea-75b6451d3a90\" xlink:actuate=\"onRequest\" xlink:href=\"psysml:e1090b77-2219-4e30-afea-75b6451d3a90\" xlink:show=\"new\" xlink:title=\"psysml:e1090b77-2219-4e30-afea-75b6451d3a90\" xlink:type=\"simple\"><polygon fill=\"#FFFFFF\" filter=\"url(#fsn3uilnn6ozm)\" points=\"306,214,420,214,427,236.2969,434,236.2969,434,266.5938,306,266.5938,306,214\" style=\"stroke: #000000; stroke-width: 1.5;\"/><line style=\"stroke: #000000; stroke-width: 1.5;\" x1=\"306\" x2=\"427\" y1=\"236.2969\" y2=\"236.2969\"/><text fill=\"#000000\" font-family=\"sans-serif\" font-size=\"14\" font-weight=\"bold\" lengthAdjust=\"spacingAndGlyphs\" textLength=\"108\" x=\"310\" y=\"228.9951\">Service Layer</text></a><a href=\"psysml:fe465764-9ab4-44bf-be91-bd692232f0a1\" target=\"_top\" title=\"psysml:fe465764-9ab4-44bf-be91-bd692232f0a1\" xlink:actuate=\"onRequest\" xlink:href=\"psysml:fe465764-9ab4-44bf-be91-bd692232f0a1\" xlink:show=\"new\" xlink:title=\"psysml:fe465764-9ab4-44bf-be91-bd692232f0a1\" xlink:type=\"simple\"><polygon fill=\"#FFFFFF\" filter=\"url(#fsn3uilnn6ozm)\" points=\"318,344,408,344,415,366.2969,422,366.2969,422,396.5938,318,396.5938,318,344\" style=\"stroke: #000000; stroke-width: 1.5;\"/><line style=\"stroke: #000000; stroke-width: 1.5;\" x1=\"318\" x2=\"415\" y1=\"366.2969\" y2=\"366.2969\"/><text fill=\"#000000\" font-family=\"sans-serif\" font-size=\"14\" font-weight=\"bold\" lengthAdjust=\"spacingAndGlyphs\" textLength=\"84\" x=\"322\" y=\"358.9951\">Data Layer</text></a><!--MD5=[af87c684e3b0d8be13c1a698a818ef1e]\n",
       "link E3 to E4--><a href=\"psysml:f18ad3d3-ddea-4435-b15e-701f5c4039de\" target=\"_top\" title=\"psysml:f18ad3d3-ddea-4435-b15e-701f5c4039de\" xlink:actuate=\"onRequest\" xlink:href=\"psysml:f18ad3d3-ddea-4435-b15e-701f5c4039de\" xlink:show=\"new\" xlink:title=\"psysml:f18ad3d3-ddea-4435-b15e-701f5c4039de\" xlink:type=\"simple\"><path d=\"M370,137.1 C370,156.8 370,184.22 370,205.73 \" fill=\"none\" id=\"E3-&gt;E4\" style=\"stroke: #A80036; stroke-width: 1.0; stroke-dasharray: 7.0,7.0;\"/><polygon fill=\"#A80036\" points=\"370,213.95,373,205.95,367,205.95,370,213.95\" style=\"stroke: #A80036; stroke-width: 1.0;\"/><text fill=\"#000000\" font-family=\"sans-serif\" font-size=\"13\" lengthAdjust=\"spacingAndGlyphs\" textLength=\"64\" x=\"371\" y=\"180.0669\">«depend»</text></a><!--MD5=[1b7591eae5389033d8d09a9d6721a717]\n",
       "link E4 to E5--><a href=\"psysml:22e4e023-3d64-4f1c-8411-ecdb932522c7\" target=\"_top\" title=\"psysml:22e4e023-3d64-4f1c-8411-ecdb932522c7\" xlink:actuate=\"onRequest\" xlink:href=\"psysml:22e4e023-3d64-4f1c-8411-ecdb932522c7\" xlink:show=\"new\" xlink:title=\"psysml:22e4e023-3d64-4f1c-8411-ecdb932522c7\" xlink:type=\"simple\"><path d=\"M370,267.1 C370,286.8 370,314.22 370,335.73 \" fill=\"none\" id=\"E4-&gt;E5\" style=\"stroke: #A80036; stroke-width: 1.0; stroke-dasharray: 7.0,7.0;\"/><polygon fill=\"#A80036\" points=\"370,343.95,373,335.95,367,335.95,370,343.95\" style=\"stroke: #A80036; stroke-width: 1.0;\"/><text fill=\"#000000\" font-family=\"sans-serif\" font-size=\"13\" lengthAdjust=\"spacingAndGlyphs\" textLength=\"64\" x=\"371\" y=\"310.0669\">«depend»</text></a><!--MD5=[c5e8897d989ce984f93528998a7150fe]\n",
       "link E8 to E6--><a href=\"psysml:01d1ab15-dda9-4157-a585-7877f2cc1d47\" target=\"_top\" title=\"psysml:01d1ab15-dda9-4157-a585-7877f2cc1d47\" xlink:actuate=\"onRequest\" xlink:href=\"psysml:01d1ab15-dda9-4157-a585-7877f2cc1d47\" xlink:show=\"new\" xlink:title=\"psysml:01d1ab15-dda9-4157-a585-7877f2cc1d47\" xlink:type=\"simple\"><path d=\"M106.44,133.76 C97.3,143.01 88.09,154.51 83,167 C77.6,180.23 76.4,195.98 76.73,209.41 \" fill=\"none\" id=\"E8-&gt;E6\" style=\"stroke: #A80036; stroke-width: 1.0; stroke-dasharray: 7.0,7.0;\"/><polygon fill=\"#A80036\" points=\"77.12,217.43,79.7306,209.2946,73.7375,209.584,77.12,217.43\" style=\"stroke: #A80036; stroke-width: 1.0;\"/><text fill=\"#000000\" font-family=\"sans-serif\" font-size=\"13\" lengthAdjust=\"spacingAndGlyphs\" textLength=\"64\" x=\"84\" y=\"180.0669\">«depend»</text></a><!--MD5=[bfa3c8b0d15052fdf50ae9310b491027]\n",
       "link E8 to E7--><a href=\"psysml:01d1ab15-dda9-4157-a585-7877f2cc1d47\" target=\"_top\" title=\"psysml:01d1ab15-dda9-4157-a585-7877f2cc1d47\" xlink:actuate=\"onRequest\" xlink:href=\"psysml:01d1ab15-dda9-4157-a585-7877f2cc1d47\" xlink:show=\"new\" xlink:title=\"psysml:01d1ab15-dda9-4157-a585-7877f2cc1d47\" xlink:type=\"simple\"><path d=\"M146.58,133.5 C159.69,154.75 179.63,187.05 194.05,210.41 \" fill=\"none\" id=\"E8-&gt;E7\" style=\"stroke: #A80036; stroke-width: 1.0; stroke-dasharray: 7.0,7.0;\"/><polygon fill=\"#A80036\" points=\"198.33,217.35,196.6785,208.9671,191.5737,212.1201,198.33,217.35\" style=\"stroke: #A80036; stroke-width: 1.0;\"/><text fill=\"#000000\" font-family=\"sans-serif\" font-size=\"13\" lengthAdjust=\"spacingAndGlyphs\" textLength=\"64\" x=\"178\" y=\"180.0669\">«depend»</text></a><!--MD5=[cdc1fe17f07e8362a3c85a15aab0270a]\n",
       "@startuml\r\n",
       " \r\n",
       "package \"DependencyTest\" as E1  [[psysml:a0e63dae-583d-42a3-9f46-6e6177e563b1 ]]  {\r\n",
       "package \"System\" as E2  [[psysml:90630542-d1db-4cfe-a426-6fd5a6b42885 ]]  {\r\n",
       "package \"Application Layer\" as E3  [[psysml:f4739741-a5ef-49a4-9e06-4bb8a722f77e ]]  {\r\n",
       "}\r\n",
       "package \"Service Layer\" as E4  [[psysml:e1090b77-2219-4e30-afea-75b6451d3a90 ]]  {\r\n",
       "}\r\n",
       "package \"Data Layer\" as E5  [[psysml:fe465764-9ab4-44bf-be91-bd692232f0a1 ]]  {\r\n",
       "}\r\n",
       "}\r\n",
       "comp usage \"x\" as E6  <<(U,orange)attribute>> [[psysml:7440b603-2b18-4efb-9bf4-7832c56b919b ]] {\r\n",
       "}\r\n",
       "comp usage \"y\" as E7  <<(U,orange)attribute>> [[psysml:d907cb85-580b-45cd-b69d-b597f081eb5c ]] {\r\n",
       "}\r\n",
       "comp usage \"z\" as E8  <<(U,orange)attribute>> [[psysml:719c36a8-8fd6-40f5-b1aa-2a0e2714a310 ]] {\r\n",
       "}\r\n",
       "E3 ..>> E4 [[psysml:f18ad3d3-ddea-4435-b15e-701f5c4039de ]] : <<depend>>\r\n",
       "E4 ..>> E5 [[psysml:22e4e023-3d64-4f1c-8411-ecdb932522c7 ]] : <<depend>>\r\n",
       "E8 ..>> E6 [[psysml:01d1ab15-dda9-4157-a585-7877f2cc1d47 ]] : <<depend>>\r\n",
       "E8 ..>> E7 [[psysml:01d1ab15-dda9-4157-a585-7877f2cc1d47 ]] : <<depend>>\r\n",
       "}\r\n",
       "@enduml\r\n",
       "\n",
       "PlantUML version 1.2020.13(Sat Jun 13 12:26:38 UTC 2020)\n",
       "(EPL source distribution)\n",
       "Java Runtime: OpenJDK Runtime Environment\n",
       "JVM: OpenJDK 64-Bit Server VM\n",
       "Default Encoding: UTF-8\n",
       "Language: en\n",
       "Country: null\n",
       "--></g></svg>"
      ]
     },
     "execution_count": 31,
     "metadata": {},
     "output_type": "execute_result"
    }
   ],
   "source": [
    "%viz --style=\"PLANTUML\" --view=\"Tree\" \"DependencyTest\""
   ]
  },
  {
   "cell_type": "code",
   "execution_count": 32,
   "id": "fe395b76",
   "metadata": {
    "execution": {
     "iopub.execute_input": "2021-04-21T20:26:07.158087Z",
     "iopub.status.busy": "2021-04-21T20:26:07.157513Z",
     "iopub.status.idle": "2021-04-21T20:26:07.248302Z",
     "shell.execute_reply": "2021-04-21T20:26:07.247939Z"
    }
   },
   "outputs": [
    {
     "data": {
      "image/svg+xml": [
       "<?xml version=\"1.0\" encoding=\"UTF-8\" standalone=\"no\"?><svg xmlns=\"http://www.w3.org/2000/svg\" xmlns:xlink=\"http://www.w3.org/1999/xlink\" contentScriptType=\"application/ecmascript\" contentStyleType=\"text/css\" height=\"303px\" preserveAspectRatio=\"none\" style=\"width:603px;height:303px;background:#000000;\" version=\"1.1\" viewBox=\"0 0 603 303\" width=\"603px\" zoomAndPan=\"magnify\"><defs/><g><rect fill=\"#021724\" height=\"1\" style=\"stroke: #021724; stroke-width: 1.0;\" width=\"1\" x=\"0\" y=\"0\"/><rect fill=\"#FFFFFF\" height=\"205.5625\" style=\"stroke: #FFFFFF; stroke-width: 1.0;\" width=\"602\" x=\"0\" y=\"0\"/><text fill=\"#000000\" font-family=\"sans-serif\" font-size=\"12\" font-weight=\"bold\" lengthAdjust=\"spacingAndGlyphs\" textLength=\"159\" x=\"5\" y=\"16.1387\">Welcome to PlantUML!</text><text fill=\"#000000\" font-family=\"sans-serif\" font-size=\"12\" lengthAdjust=\"spacingAndGlyphs\" textLength=\"0\" x=\"9\" y=\"30.1074\"/><text fill=\"#000000\" font-family=\"sans-serif\" font-size=\"12\" lengthAdjust=\"spacingAndGlyphs\" textLength=\"293\" x=\"5\" y=\"44.0762\">If you use this software, you accept its license.</text><text fill=\"#000000\" font-family=\"sans-serif\" font-size=\"12\" lengthAdjust=\"spacingAndGlyphs\" textLength=\"107\" x=\"5\" y=\"58.0449\">(details by typing</text><text fill=\"#000000\" font-family=\"monospace\" font-size=\"12\" lengthAdjust=\"spacingAndGlyphs\" textLength=\"49\" x=\"116\" y=\"58.0449\">license</text><text fill=\"#000000\" font-family=\"sans-serif\" font-size=\"12\" lengthAdjust=\"spacingAndGlyphs\" textLength=\"56\" x=\"169\" y=\"58.0449\">keyword)</text><text fill=\"#000000\" font-family=\"sans-serif\" font-size=\"12\" lengthAdjust=\"spacingAndGlyphs\" textLength=\"0\" x=\"9\" y=\"72.0137\"/><text fill=\"#000000\" font-family=\"sans-serif\" font-size=\"12\" lengthAdjust=\"spacingAndGlyphs\" textLength=\"283\" x=\"5\" y=\"85.9824\">You can start with a simple UML Diagram like:</text><text fill=\"#000000\" font-family=\"sans-serif\" font-size=\"12\" lengthAdjust=\"spacingAndGlyphs\" textLength=\"0\" x=\"9\" y=\"99.9512\"/><text fill=\"#000000\" font-family=\"monospace\" font-size=\"12\" lengthAdjust=\"spacingAndGlyphs\" textLength=\"119\" x=\"5\" y=\"113.9199\">Bob-&gt;Alice: Hello</text><text fill=\"#000000\" font-family=\"sans-serif\" font-size=\"12\" lengthAdjust=\"spacingAndGlyphs\" textLength=\"0\" x=\"9\" y=\"127.8887\"/><text fill=\"#000000\" font-family=\"sans-serif\" font-size=\"12\" lengthAdjust=\"spacingAndGlyphs\" textLength=\"14\" x=\"5\" y=\"141.8574\">Or</text><text fill=\"#000000\" font-family=\"sans-serif\" font-size=\"12\" lengthAdjust=\"spacingAndGlyphs\" textLength=\"0\" x=\"9\" y=\"155.8262\"/><text fill=\"#000000\" font-family=\"monospace\" font-size=\"12\" lengthAdjust=\"spacingAndGlyphs\" textLength=\"91\" x=\"5\" y=\"169.7949\">class Example</text><text fill=\"#000000\" font-family=\"sans-serif\" font-size=\"12\" lengthAdjust=\"spacingAndGlyphs\" textLength=\"0\" x=\"9\" y=\"183.7637\"/><text fill=\"#000000\" font-family=\"sans-serif\" font-size=\"12\" lengthAdjust=\"spacingAndGlyphs\" textLength=\"349\" x=\"5\" y=\"197.7324\">You will find more information about PlantUML syntax on</text><text fill=\"#000000\" font-family=\"sans-serif\" font-size=\"12\" lengthAdjust=\"spacingAndGlyphs\" text-decoration=\"underline\" textLength=\"129\" x=\"358\" y=\"197.7324\">https://plantuml.com</text><image height=\"71\" width=\"80\" x=\"516\" xlink:href=\"data:image/png;base64,iVBORw0KGgoAAAANSUhEUgAAAFAAAABHCAMAAACnHDC8AAADAFBMVEX///+BpbvD3u/f7vfPz8+nz+g3ksuZEDkWADr/ujlvsdpTodLCwsOLwOEbg8T//v6pqamZETnLysvT09To5+jqLS4VATj9/f27u7vDw8MTfsK+v7/j4+SOweJprdjL4/KxsbEri8jk8PgXa57c29uUETez1utQoNJ1tNtEmc9cptWBut6ayOW/3O6YEDjY6vUfhcXBwcHs7Ozw9/v83t79uTn7+/vX19ehoaHx8fG2tLXHx8fuVlfrNTYaBjn/vUH5+fmko6WXl5f/+fn95ub+9PT+8PD3qKidmaMxIUrnqDWcFj7n5eX09PTu7u2SkpKfnZ6rq6z0lJTm4tzJrHUfDT339/eFGDn6tjcrEzOvrbBuZ3l4eomSMS7Hz9Smpqasu8SFiYuQETfa2du1m6OOM051J0NWTWL5xse4uLj6zc33r6/4vb7ydHXqLi/72dntTE3tR0ijbn5jW3C+u8NANVQrG0XFubqRVGZza4GQGT2VaS7a0NPJtI6IJj/zszrfqkXXzr/Hw8cgC0LUqltOQ2JsSC5bTGjOpFafSi2+iDGtyt14m7TJhTCPJUSwoIG/qa+ikHiIgpCRHjI9j8KXbnaQH0FLf6FGPlp0cnYyKE2rg49Wj7dFXHmcwtrp6uu+xMjvYWLvW1z97e3sPD3sP0DuUlP709PYzdDPmzqZWWySRVygfHHd1smWkZ+PgnibETqsl260q5fLuppJLC/dpj2HPFLTtHv/ujrTwJy5s6iWjIi0iD3joTTCmU3trjuvZS2zlFvjq0HSyLbYp0qRts10XGxEKC9yPVBQZIOPdlNvMk2NeYNqRlujtcCVrr3j5eY1gK9Qn9GLp7lbeJXRxrCkiZDaozyukoJ+H0B3rc+OYy+iprJkYXdhmr6ee0afs79xq9BikrGKjI3FomEiLFO0ay6nfIm4pZXRjTFuhZSZWm0zcZyJN0KNTk4eebNfdIGGlZ93h5kcED5nOVYyRWbziIk9dJ4kerE5ZYxRUnLG1d7p8PTvY2PtTk/1nZ1ycV/bAAAFx0lEQVR4Xu1Ye1BUVRg/e3dhl4csKyxqPlBJQVETF2icAY13GogkEFqizqRRpoBpTCIapaUOhWNjUdOMSBpqJYZTg4KigFKADzSIVZ4qD5VFluXhLgvbPee+r49R7v2z3+zcc77fOfPb7zvfPd85uwCIhwT4wPisANwPAuIKHnbHH1I+KwAXDA18ShDW58CneCEnXl8JGwmfHylCPSvlZ/FWxh8YIRIxTWkZAEofkTz8sNq7tAqE2gODOB6GYZobVaH20SVZ4oQcdmXV0L7c4b8OFvJHRoYwdVIoyPX3gxtFDA+V8e6mM8pBoCjij4wQiWo/ALzV/kpkifBi13p4waZuGrJEECycixcEVSbYgFwUozg4/qSraOxrP7O8Eogj2HDxyMWmzpk6823+yIjhvR7fLOpDsCuGhwC0WfbkjQq8A0MWC0EgIYzPCYMymM8Iwcvz6K4IWw8skTrgq3iPMIQnxdfKrvyedpyvbSsyBQt6zcH6OxXmjqYxg9PbgXBBveK6aRAXNEl1Ssc+hz7Bgntyohb/ggQlNrrdzfIuoYKSb79067PrRoLmGo25SeghJRn1yMrSbPTptZaoBlwtlWbBHspxiW+mW8+46ereVnMXGxbFQ+mjofiHZTrclJn5E14UEgdrO9tRVph0HDJlYlRsLv4XFA7RBA1kK5ogBb7gtn08AvxWymc2b+YzLHC3nnOCNHvdayUsZpnnwnPqGf+yGKcPKlv92vtJC209zGyRWJmgyd16sSGGT/AmM2rdKZKZHxwCz7KUodLzJOO8th4OBqxdo0c2tfUkNr3QlJkZQWWMBP0uwBHvmQQb3zRVCMnsMO6ATazf3f0kkza0HTaPCdIhpyTknqP61Te1eV2gRpr1FUn4xtxRT72pDHhj09/UnBLjiv72p4d8FEtlLibBd7Qg0xK5+XfS9q2AzxSVHPnNIMBS8BQPw8N1W4glQWj0mtp4+nSHhvKYOM4GL6vH1jGTcDQ3p1979AQPI5agXEDYwuS5awknJ73rHU56RyLAr6ACpO5iMRGvp3XykjImgs4Fgm2/7URc8dhbeD9jdhYVNon0mdFcAjTIXbmC75VrmVHcQ+JDIXbuNmYUYlZoYx6XcWjKTWavYXd1WzU9OEh9wLFfEVFza5PEhVhDAvfLx60cWM3ePMa9hyZG5DNr6DbQiCUcYU0AKGzGyYxlkf+wxnCk+wdwCbA/TkWH7Dbgoq8dcmKNssQQ3F/JmMxlIj/fzo/7s9OIwUMebbYzbh2zLfk7ehBGzIau6OeO+xzGKlBRwCGAXNaCFgYbRoKG+hMTfMff4M6h0LYxpmv/92ym9tIxc4uRzawynCEWGhum7odf9/75vh8zg0bKijX5AMxhMacsK8pBxaJihtnQqr1KG8yFMzq/dutJ2iKwNCbXA7Yamsm2Xn0XtgtowY3Xy8rpYc4NNqon8eM49k+NtzU55GtMleGAkNR6oldDMhH+e9EX0JB+UYKv4WgLZrLCjHV7wnyYlzJZvYV6A6d1w6xEph842UUyTkjGIbzwRA/JIOBJKSt88yglqND1h6TpiQqQV99wmJ7nknQcgIIHqd00EwSzgudigGYQUHE4qFMcGJb22kp7lNop8p6znStvg5S2e1TVRti56w/zj8fZzKLiDa317MqBQFbs+J3dcbSgo+H4D0kLOokJ82/NR8KZbp9eIZgllwKR8Ec1ejIX827POk/06HpYffGd5dkoZJXMqDAVXd1Nbhavlx4OyuAiPcyAF3Ick8faXAuE5WToApkMxykL1PbNRJ91SDkXOyymPFR1UMlw9GjRPKCrPsRSvUnbzbkELj2PSSRkQLiH1AvROTutlpryLHQAoCD+C2BBP4npMwd9zsIgzgaDsK+bctmVw3hetai5t9RS4PEqub4QnCvxteGzOZyQXxjscxkhHisWKMi72+T0p1dxGeGYkG0ez+eeG7In/n/oNOexC9fzIiLvPxVtKp84iza+AAAAAElFTkSuQmCC\" y=\"6\"/><rect fill=\"#000000\" height=\"96.4844\" style=\"stroke: #000000; stroke-width: 1.0;\" width=\"602\" x=\"0\" y=\"205.5625\"/><rect fill=\"#33FF02\" height=\"21.2969\" style=\"stroke: #33FF02; stroke-width: 1.0;\" width=\"170\" x=\"5\" y=\"210.5625\"/><text fill=\"#000000\" font-family=\"sans-serif\" font-size=\"14\" font-weight=\"bold\" lengthAdjust=\"spacingAndGlyphs\" textLength=\"168\" x=\"6\" y=\"225.5625\">[From string (line 2) ]</text><text fill=\"#33FF02\" font-family=\"sans-serif\" font-size=\"14\" font-weight=\"bold\" lengthAdjust=\"spacingAndGlyphs\" textLength=\"0\" x=\"10\" y=\"245.8594\"/><text fill=\"#33FF02\" font-family=\"sans-serif\" font-size=\"14\" font-weight=\"bold\" lengthAdjust=\"spacingAndGlyphs\" textLength=\"79\" x=\"5\" y=\"262.1563\">@startuml</text><text fill=\"#33FF02\" font-family=\"sans-serif\" font-size=\"14\" font-weight=\"bold\" lengthAdjust=\"spacingAndGlyphs\" textLength=\"0\" x=\"10\" y=\"278.4531\"/><text fill=\"#FF0000\" font-family=\"sans-serif\" font-size=\"14\" font-weight=\"bold\" lengthAdjust=\"spacingAndGlyphs\" textLength=\"142\" x=\"10\" y=\"294.75\">Empty description</text><!--MD5=[f59edd8218d337f74d0c332fc6737304]\n",
       "@startuml\r\n",
       " \r\n",
       "@enduml\r\n",
       "\n",
       "PlantUML version 1.2020.13(Sat Jun 13 12:26:38 UTC 2020)\n",
       "(EPL source distribution)\n",
       "Java Runtime: OpenJDK Runtime Environment\n",
       "JVM: OpenJDK 64-Bit Server VM\n",
       "Default Encoding: UTF-8\n",
       "Language: en\n",
       "Country: null\n",
       "--></g></svg>"
      ]
     },
     "execution_count": 32,
     "metadata": {},
     "output_type": "execute_result"
    }
   ],
   "source": [
    "%viz --style=\"PLANTUML\" --view=\"State\" \"DependencyTest\""
   ]
  },
  {
   "cell_type": "code",
   "execution_count": 33,
   "id": "1a297aba",
   "metadata": {
    "execution": {
     "iopub.execute_input": "2021-04-21T20:26:07.299242Z",
     "iopub.status.busy": "2021-04-21T20:26:07.298823Z",
     "iopub.status.idle": "2021-04-21T20:26:07.333446Z",
     "shell.execute_reply": "2021-04-21T20:26:07.333138Z"
    }
   },
   "outputs": [
    {
     "data": {
      "image/svg+xml": [
       "<?xml version=\"1.0\" encoding=\"UTF-8\" standalone=\"no\"?><svg xmlns=\"http://www.w3.org/2000/svg\" xmlns:xlink=\"http://www.w3.org/1999/xlink\" contentScriptType=\"application/ecmascript\" contentStyleType=\"text/css\" height=\"361px\" preserveAspectRatio=\"none\" style=\"width:510px;height:361px;\" version=\"1.1\" viewBox=\"0 0 510 361\" width=\"510px\" zoomAndPan=\"magnify\"><defs><filter height=\"300%\" id=\"f1huiy0kuzyvnb\" width=\"300%\" x=\"-1\" y=\"-1\"><feGaussianBlur result=\"blurOut\" stdDeviation=\"2.0\"/><feColorMatrix in=\"blurOut\" result=\"blurOut2\" type=\"matrix\" values=\"0 0 0 0 0 0 0 0 0 0 0 0 0 0 0 0 0 0 .4 0\"/><feOffset dx=\"4.0\" dy=\"4.0\" in=\"blurOut2\" result=\"blurOut3\"/><feBlend in=\"SourceGraphic\" in2=\"blurOut3\" mode=\"normal\"/></filter></defs><g><!--MD5=[fbc87193dbaf4d95561dea2c320d4a47]\n",
       "cluster E1--><a href=\"psysml:a0e63dae-583d-42a3-9f46-6e6177e563b1\" target=\"_top\" title=\"psysml:a0e63dae-583d-42a3-9f46-6e6177e563b1\" xlink:actuate=\"onRequest\" xlink:href=\"psysml:a0e63dae-583d-42a3-9f46-6e6177e563b1\" xlink:show=\"new\" xlink:title=\"psysml:a0e63dae-583d-42a3-9f46-6e6177e563b1\" xlink:type=\"simple\"><polygon fill=\"#FFFFFF\" filter=\"url(#f1huiy0kuzyvnb)\" points=\"16,6,156,6,163,28.2969,488,28.2969,488,349,16,349,16,6\" style=\"stroke: #000000; stroke-width: 1.5;\"/><line style=\"stroke: #000000; stroke-width: 1.5;\" x1=\"16\" x2=\"163\" y1=\"28.2969\" y2=\"28.2969\"/><text fill=\"#000000\" font-family=\"sans-serif\" font-size=\"14\" font-weight=\"bold\" lengthAdjust=\"spacingAndGlyphs\" textLength=\"134\" x=\"20\" y=\"20.9951\">DependencyTest</text></a><!--MD5=[e4f7fae6ed58524ba242bb0b0d3be6b7]\n",
       "cluster E2--><a href=\"psysml:90630542-d1db-4cfe-a426-6fd5a6b42885\" target=\"_top\" title=\"psysml:90630542-d1db-4cfe-a426-6fd5a6b42885\" xlink:actuate=\"onRequest\" xlink:href=\"psysml:90630542-d1db-4cfe-a426-6fd5a6b42885\" xlink:show=\"new\" xlink:title=\"psysml:90630542-d1db-4cfe-a426-6fd5a6b42885\" xlink:type=\"simple\"><polygon fill=\"#FFFFFF\" filter=\"url(#f1huiy0kuzyvnb)\" points=\"276,49,340,49,347,71.2969,464,71.2969,464,325,276,325,276,49\" style=\"stroke: #000000; stroke-width: 1.5;\"/><line style=\"stroke: #000000; stroke-width: 1.5;\" x1=\"276\" x2=\"347\" y1=\"71.2969\" y2=\"71.2969\"/><text fill=\"#000000\" font-family=\"sans-serif\" font-size=\"14\" font-weight=\"bold\" lengthAdjust=\"spacingAndGlyphs\" textLength=\"58\" x=\"280\" y=\"63.9951\">System</text></a><!--MD5=[60a26617385b1d2d0262a64233df1f8d]\n",
       "class E6--><a href=\"psysml:7440b603-2b18-4efb-9bf4-7832c56b919b\" target=\"_top\" title=\"psysml:7440b603-2b18-4efb-9bf4-7832c56b919b\" xlink:actuate=\"onRequest\" xlink:href=\"psysml:7440b603-2b18-4efb-9bf4-7832c56b919b\" xlink:show=\"new\" xlink:title=\"psysml:7440b603-2b18-4efb-9bf4-7832c56b919b\" xlink:type=\"simple\"><rect fill=\"#FEFECE\" filter=\"url(#f1huiy0kuzyvnb)\" height=\"45.9375\" id=\"E6\" rx=\"10\" ry=\"10\" style=\"stroke: #A80036; stroke-width: 1.5;\" width=\"97\" x=\"31.5\" y=\"173.5\"/><ellipse cx=\"46.5\" cy=\"192.4688\" fill=\"#FFA500\" rx=\"11\" ry=\"11\" style=\"stroke: #A80036; stroke-width: 1.0;\"/><path d=\"M42.375,194.3906 L42.375,186.5781 L44.8281,186.5781 L44.8281,195.0156 Q44.8281,195.9375 45.2969,196.4688 Q45.7813,197 46.6094,197 Q47.4531,197 47.9219,196.4688 Q48.3906,195.9375 48.3906,195.0156 L48.3906,186.5781 L50.8438,186.5781 L50.8438,194.3906 Q50.8438,196.9219 49.8438,198.0625 Q48.8438,199.2031 46.6094,199.2031 Q44.3906,199.2031 43.375,198.0625 Q42.375,196.9219 42.375,194.3906 Z \"/><text fill=\"#000000\" font-family=\"sans-serif\" font-size=\"12\" font-style=\"italic\" lengthAdjust=\"spacingAndGlyphs\" textLength=\"69\" x=\"58.5\" y=\"189.6387\">«attribute»</text><text fill=\"#000000\" font-family=\"sans-serif\" font-size=\"12\" lengthAdjust=\"spacingAndGlyphs\" textLength=\"6\" x=\"90\" y=\"203.6074\">x</text><line style=\"stroke: #A80036; stroke-width: 1.5;\" x1=\"32.5\" x2=\"127.5\" y1=\"211.4375\" y2=\"211.4375\"/></a><!--MD5=[2156ba9850f5573cc1fc38a6a4b2f02b]\n",
       "class E7--><a href=\"psysml:d907cb85-580b-45cd-b69d-b597f081eb5c\" target=\"_top\" title=\"psysml:d907cb85-580b-45cd-b69d-b597f081eb5c\" xlink:actuate=\"onRequest\" xlink:href=\"psysml:d907cb85-580b-45cd-b69d-b597f081eb5c\" xlink:show=\"new\" xlink:title=\"psysml:d907cb85-580b-45cd-b69d-b597f081eb5c\" xlink:type=\"simple\"><rect fill=\"#FEFECE\" filter=\"url(#f1huiy0kuzyvnb)\" height=\"45.9375\" id=\"E7\" rx=\"10\" ry=\"10\" style=\"stroke: #A80036; stroke-width: 1.5;\" width=\"97\" x=\"163.5\" y=\"173.5\"/><ellipse cx=\"178.5\" cy=\"192.4688\" fill=\"#FFA500\" rx=\"11\" ry=\"11\" style=\"stroke: #A80036; stroke-width: 1.0;\"/><path d=\"M174.375,194.3906 L174.375,186.5781 L176.8281,186.5781 L176.8281,195.0156 Q176.8281,195.9375 177.2969,196.4688 Q177.7813,197 178.6094,197 Q179.4531,197 179.9219,196.4688 Q180.3906,195.9375 180.3906,195.0156 L180.3906,186.5781 L182.8438,186.5781 L182.8438,194.3906 Q182.8438,196.9219 181.8438,198.0625 Q180.8438,199.2031 178.6094,199.2031 Q176.3906,199.2031 175.375,198.0625 Q174.375,196.9219 174.375,194.3906 Z \"/><text fill=\"#000000\" font-family=\"sans-serif\" font-size=\"12\" font-style=\"italic\" lengthAdjust=\"spacingAndGlyphs\" textLength=\"69\" x=\"190.5\" y=\"189.6387\">«attribute»</text><text fill=\"#000000\" font-family=\"sans-serif\" font-size=\"12\" lengthAdjust=\"spacingAndGlyphs\" textLength=\"6\" x=\"222\" y=\"203.6074\">y</text><line style=\"stroke: #A80036; stroke-width: 1.5;\" x1=\"164.5\" x2=\"259.5\" y1=\"211.4375\" y2=\"211.4375\"/></a><!--MD5=[b9389687b975829384b498ac4b7476b2]\n",
       "class E8--><a href=\"psysml:719c36a8-8fd6-40f5-b1aa-2a0e2714a310\" target=\"_top\" title=\"psysml:719c36a8-8fd6-40f5-b1aa-2a0e2714a310\" xlink:actuate=\"onRequest\" xlink:href=\"psysml:719c36a8-8fd6-40f5-b1aa-2a0e2714a310\" xlink:show=\"new\" xlink:title=\"psysml:719c36a8-8fd6-40f5-b1aa-2a0e2714a310\" xlink:type=\"simple\"><rect fill=\"#FEFECE\" filter=\"url(#f1huiy0kuzyvnb)\" height=\"45.9375\" id=\"E8\" rx=\"10\" ry=\"10\" style=\"stroke: #A80036; stroke-width: 1.5;\" width=\"97\" x=\"84.5\" y=\"87.5\"/><ellipse cx=\"99.5\" cy=\"106.4688\" fill=\"#FFA500\" rx=\"11\" ry=\"11\" style=\"stroke: #A80036; stroke-width: 1.0;\"/><path d=\"M95.375,108.3906 L95.375,100.5781 L97.8281,100.5781 L97.8281,109.0156 Q97.8281,109.9375 98.2969,110.4688 Q98.7813,111 99.6094,111 Q100.4531,111 100.9219,110.4688 Q101.3906,109.9375 101.3906,109.0156 L101.3906,100.5781 L103.8438,100.5781 L103.8438,108.3906 Q103.8438,110.9219 102.8438,112.0625 Q101.8438,113.2031 99.6094,113.2031 Q97.3906,113.2031 96.375,112.0625 Q95.375,110.9219 95.375,108.3906 Z \"/><text fill=\"#000000\" font-family=\"sans-serif\" font-size=\"12\" font-style=\"italic\" lengthAdjust=\"spacingAndGlyphs\" textLength=\"69\" x=\"111.5\" y=\"103.6387\">«attribute»</text><text fill=\"#000000\" font-family=\"sans-serif\" font-size=\"12\" lengthAdjust=\"spacingAndGlyphs\" textLength=\"5\" x=\"143.5\" y=\"117.6074\">z</text><line style=\"stroke: #A80036; stroke-width: 1.5;\" x1=\"85.5\" x2=\"180.5\" y1=\"125.4375\" y2=\"125.4375\"/></a><a href=\"psysml:f4739741-a5ef-49a4-9e06-4bb8a722f77e\" target=\"_top\" title=\"psysml:f4739741-a5ef-49a4-9e06-4bb8a722f77e\" xlink:actuate=\"onRequest\" xlink:href=\"psysml:f4739741-a5ef-49a4-9e06-4bb8a722f77e\" xlink:show=\"new\" xlink:title=\"psysml:f4739741-a5ef-49a4-9e06-4bb8a722f77e\" xlink:type=\"simple\"><polygon fill=\"#FFFFFF\" filter=\"url(#f1huiy0kuzyvnb)\" points=\"292,84,434,84,441,106.2969,448,106.2969,448,136.5938,292,136.5938,292,84\" style=\"stroke: #000000; stroke-width: 1.5;\"/><line style=\"stroke: #000000; stroke-width: 1.5;\" x1=\"292\" x2=\"441\" y1=\"106.2969\" y2=\"106.2969\"/><text fill=\"#000000\" font-family=\"sans-serif\" font-size=\"14\" font-weight=\"bold\" lengthAdjust=\"spacingAndGlyphs\" textLength=\"136\" x=\"296\" y=\"98.9951\">Application Layer</text></a><a href=\"psysml:e1090b77-2219-4e30-afea-75b6451d3a90\" target=\"_top\" title=\"psysml:e1090b77-2219-4e30-afea-75b6451d3a90\" xlink:actuate=\"onRequest\" xlink:href=\"psysml:e1090b77-2219-4e30-afea-75b6451d3a90\" xlink:show=\"new\" xlink:title=\"psysml:e1090b77-2219-4e30-afea-75b6451d3a90\" xlink:type=\"simple\"><polygon fill=\"#FFFFFF\" filter=\"url(#f1huiy0kuzyvnb)\" points=\"306,170,420,170,427,192.2969,434,192.2969,434,222.5938,306,222.5938,306,170\" style=\"stroke: #000000; stroke-width: 1.5;\"/><line style=\"stroke: #000000; stroke-width: 1.5;\" x1=\"306\" x2=\"427\" y1=\"192.2969\" y2=\"192.2969\"/><text fill=\"#000000\" font-family=\"sans-serif\" font-size=\"14\" font-weight=\"bold\" lengthAdjust=\"spacingAndGlyphs\" textLength=\"108\" x=\"310\" y=\"184.9951\">Service Layer</text></a><a href=\"psysml:fe465764-9ab4-44bf-be91-bd692232f0a1\" target=\"_top\" title=\"psysml:fe465764-9ab4-44bf-be91-bd692232f0a1\" xlink:actuate=\"onRequest\" xlink:href=\"psysml:fe465764-9ab4-44bf-be91-bd692232f0a1\" xlink:show=\"new\" xlink:title=\"psysml:fe465764-9ab4-44bf-be91-bd692232f0a1\" xlink:type=\"simple\"><polygon fill=\"#FFFFFF\" filter=\"url(#f1huiy0kuzyvnb)\" points=\"318,256,408,256,415,278.2969,422,278.2969,422,308.5938,318,308.5938,318,256\" style=\"stroke: #000000; stroke-width: 1.5;\"/><line style=\"stroke: #000000; stroke-width: 1.5;\" x1=\"318\" x2=\"415\" y1=\"278.2969\" y2=\"278.2969\"/><text fill=\"#000000\" font-family=\"sans-serif\" font-size=\"14\" font-weight=\"bold\" lengthAdjust=\"spacingAndGlyphs\" textLength=\"84\" x=\"322\" y=\"270.9951\">Data Layer</text></a><!--MD5=[af87c684e3b0d8be13c1a698a818ef1e]\n",
       "link E3 to E4--><a href=\"psysml:f18ad3d3-ddea-4435-b15e-701f5c4039de\" target=\"_top\" title=\"psysml:f18ad3d3-ddea-4435-b15e-701f5c4039de\" xlink:actuate=\"onRequest\" xlink:href=\"psysml:f18ad3d3-ddea-4435-b15e-701f5c4039de\" xlink:show=\"new\" xlink:title=\"psysml:f18ad3d3-ddea-4435-b15e-701f5c4039de\" xlink:type=\"simple\"><path d=\"M370,137.16 C370,144.98 370,153.69 370,161.94 \" fill=\"none\" id=\"E3-&gt;E4\" style=\"stroke: #A80036; stroke-width: 1.0; stroke-dasharray: 7.0,7.0;\"/><polygon fill=\"#A80036\" points=\"370,170,373,162,367,162,370,170\" style=\"stroke: #A80036; stroke-width: 1.0;\"/><text fill=\"#000000\" font-family=\"sans-serif\" font-size=\"13\" lengthAdjust=\"spacingAndGlyphs\" textLength=\"64\" x=\"371\" y=\"158.0669\">«depend»</text></a><!--MD5=[1b7591eae5389033d8d09a9d6721a717]\n",
       "link E4 to E5--><a href=\"psysml:22e4e023-3d64-4f1c-8411-ecdb932522c7\" target=\"_top\" title=\"psysml:22e4e023-3d64-4f1c-8411-ecdb932522c7\" xlink:actuate=\"onRequest\" xlink:href=\"psysml:22e4e023-3d64-4f1c-8411-ecdb932522c7\" xlink:show=\"new\" xlink:title=\"psysml:22e4e023-3d64-4f1c-8411-ecdb932522c7\" xlink:type=\"simple\"><path d=\"M370,223.16 C370,230.98 370,239.69 370,247.94 \" fill=\"none\" id=\"E4-&gt;E5\" style=\"stroke: #A80036; stroke-width: 1.0; stroke-dasharray: 7.0,7.0;\"/><polygon fill=\"#A80036\" points=\"370,256,373,248,367,248,370,256\" style=\"stroke: #A80036; stroke-width: 1.0;\"/><text fill=\"#000000\" font-family=\"sans-serif\" font-size=\"13\" lengthAdjust=\"spacingAndGlyphs\" textLength=\"64\" x=\"371\" y=\"244.0669\">«depend»</text></a><!--MD5=[c5e8897d989ce984f93528998a7150fe]\n",
       "link E8 to E6--><a href=\"psysml:01d1ab15-dda9-4157-a585-7877f2cc1d47\" target=\"_top\" title=\"psysml:01d1ab15-dda9-4157-a585-7877f2cc1d47\" xlink:actuate=\"onRequest\" xlink:href=\"psysml:01d1ab15-dda9-4157-a585-7877f2cc1d47\" xlink:show=\"new\" xlink:title=\"psysml:01d1ab15-dda9-4157-a585-7877f2cc1d47\" xlink:type=\"simple\"><path d=\"M92.08,133.72 C88.53,137.07 85.39,140.83 83,145 C79.52,151.08 77.92,158.28 77.36,165.3 \" fill=\"none\" id=\"E8-&gt;E6\" style=\"stroke: #A80036; stroke-width: 1.0; stroke-dasharray: 7.0,7.0;\"/><polygon fill=\"#A80036\" points=\"77.14,173.39,80.3531,165.4732,74.3553,165.3125,77.14,173.39\" style=\"stroke: #A80036; stroke-width: 1.0;\"/><text fill=\"#000000\" font-family=\"sans-serif\" font-size=\"13\" lengthAdjust=\"spacingAndGlyphs\" textLength=\"64\" x=\"84\" y=\"158.0669\">«depend»</text></a><!--MD5=[bfa3c8b0d15052fdf50ae9310b491027]\n",
       "link E8 to E7--><a href=\"psysml:01d1ab15-dda9-4157-a585-7877f2cc1d47\" target=\"_top\" title=\"psysml:01d1ab15-dda9-4157-a585-7877f2cc1d47\" xlink:actuate=\"onRequest\" xlink:href=\"psysml:01d1ab15-dda9-4157-a585-7877f2cc1d47\" xlink:show=\"new\" xlink:title=\"psysml:01d1ab15-dda9-4157-a585-7877f2cc1d47\" xlink:type=\"simple\"><path d=\"M153.76,133.57 C163.48,143.91 175.17,156.34 185.52,167.34 \" fill=\"none\" id=\"E8-&gt;E7\" style=\"stroke: #A80036; stroke-width: 1.0; stroke-dasharray: 7.0,7.0;\"/><polygon fill=\"#A80036\" points=\"191.11,173.29,187.8117,165.4083,183.4425,169.5205,191.11,173.29\" style=\"stroke: #A80036; stroke-width: 1.0;\"/><text fill=\"#000000\" font-family=\"sans-serif\" font-size=\"13\" lengthAdjust=\"spacingAndGlyphs\" textLength=\"64\" x=\"180\" y=\"158.0669\">«depend»</text></a><!--MD5=[ebcb94c6e0ac6861d93bb5ce8ceaf249]\n",
       "@startuml\r\n",
       "skinparam ranksep 10\r\n",
       "skinparam rectangle {\r\n",
       " backgroundColor<<block>> LightGreen\r\n",
       "}\r\n",
       " \r\n",
       "package \"DependencyTest\" as E1  [[psysml:a0e63dae-583d-42a3-9f46-6e6177e563b1 ]]  {\r\n",
       "package \"System\" as E2  [[psysml:90630542-d1db-4cfe-a426-6fd5a6b42885 ]]  {\r\n",
       "package \"Application Layer\" as E3  [[psysml:f4739741-a5ef-49a4-9e06-4bb8a722f77e ]]  {\r\n",
       "}\r\n",
       "package \"Service Layer\" as E4  [[psysml:e1090b77-2219-4e30-afea-75b6451d3a90 ]]  {\r\n",
       "}\r\n",
       "package \"Data Layer\" as E5  [[psysml:fe465764-9ab4-44bf-be91-bd692232f0a1 ]]  {\r\n",
       "}\r\n",
       "}\r\n",
       "comp usage \"x\" as E6  <<(U,orange)attribute>> [[psysml:7440b603-2b18-4efb-9bf4-7832c56b919b ]] {\r\n",
       "}\r\n",
       "comp usage \"y\" as E7  <<(U,orange)attribute>> [[psysml:d907cb85-580b-45cd-b69d-b597f081eb5c ]] {\r\n",
       "}\r\n",
       "comp usage \"z\" as E8  <<(U,orange)attribute>> [[psysml:719c36a8-8fd6-40f5-b1aa-2a0e2714a310 ]] {\r\n",
       "}\r\n",
       "E3 ..>> E4 [[psysml:f18ad3d3-ddea-4435-b15e-701f5c4039de ]] : <<depend>>\r\n",
       "E4 ..>> E5 [[psysml:22e4e023-3d64-4f1c-8411-ecdb932522c7 ]] : <<depend>>\r\n",
       "E8 ..>> E6 [[psysml:01d1ab15-dda9-4157-a585-7877f2cc1d47 ]] : <<depend>>\r\n",
       "E8 ..>> E7 [[psysml:01d1ab15-dda9-4157-a585-7877f2cc1d47 ]] : <<depend>>\r\n",
       "}\r\n",
       "@enduml\r\n",
       "\n",
       "PlantUML version 1.2020.13(Sat Jun 13 12:26:38 UTC 2020)\n",
       "(EPL source distribution)\n",
       "Java Runtime: OpenJDK Runtime Environment\n",
       "JVM: OpenJDK 64-Bit Server VM\n",
       "Default Encoding: UTF-8\n",
       "Language: en\n",
       "Country: null\n",
       "--></g></svg>"
      ]
     },
     "execution_count": 33,
     "metadata": {},
     "output_type": "execute_result"
    }
   ],
   "source": [
    "%viz --style=\"PLANTUML\" --view=\"Interconnection\" \"DependencyTest\""
   ]
  },
  {
   "cell_type": "code",
   "execution_count": 34,
   "id": "5be0b824",
   "metadata": {
    "execution": {
     "iopub.execute_input": "2021-04-21T20:26:07.383978Z",
     "iopub.status.busy": "2021-04-21T20:26:07.383306Z",
     "iopub.status.idle": "2021-04-21T20:26:07.388086Z",
     "shell.execute_reply": "2021-04-21T20:26:07.387691Z"
    }
   },
   "outputs": [
    {
     "data": {
      "image/svg+xml": [
       "<?xml version=\"1.0\" encoding=\"UTF-8\" standalone=\"no\"?><svg xmlns=\"http://www.w3.org/2000/svg\" xmlns:xlink=\"http://www.w3.org/1999/xlink\" contentScriptType=\"application/ecmascript\" contentStyleType=\"text/css\" height=\"12px\" preserveAspectRatio=\"none\" style=\"width:12px;height:12px;\" version=\"1.1\" viewBox=\"0 0 12 12\" width=\"12px\" zoomAndPan=\"magnify\"><defs/><g><!--MD5=[6a4cb978cab31700e1ce5529f947a75d]\n",
       "@startuml\r\n",
       "skinparam ranksep 8\r\n",
       " \r\n",
       "@enduml\r\n",
       "\n",
       "PlantUML version 1.2020.13(Sat Jun 13 12:26:38 UTC 2020)\n",
       "(EPL source distribution)\n",
       "Java Runtime: OpenJDK Runtime Environment\n",
       "JVM: OpenJDK 64-Bit Server VM\n",
       "Default Encoding: UTF-8\n",
       "Language: en\n",
       "Country: null\n",
       "--></g></svg>"
      ]
     },
     "execution_count": 34,
     "metadata": {},
     "output_type": "execute_result"
    }
   ],
   "source": [
    "%viz --style=\"PLANTUML\" --view=\"Action\" \"DependencyTest\""
   ]
  },
  {
   "cell_type": "code",
   "execution_count": 35,
   "id": "c5810dc0",
   "metadata": {
    "execution": {
     "iopub.execute_input": "2021-04-21T20:26:07.440253Z",
     "iopub.status.busy": "2021-04-21T20:26:07.439387Z",
     "iopub.status.idle": "2021-04-21T20:26:07.474834Z",
     "shell.execute_reply": "2021-04-21T20:26:07.474526Z"
    }
   },
   "outputs": [
    {
     "data": {
      "image/svg+xml": [
       "<?xml version=\"1.0\" encoding=\"UTF-8\" standalone=\"no\"?><svg xmlns=\"http://www.w3.org/2000/svg\" xmlns:xlink=\"http://www.w3.org/1999/xlink\" contentScriptType=\"application/ecmascript\" contentStyleType=\"text/css\" height=\"449px\" preserveAspectRatio=\"none\" style=\"width:510px;height:449px;\" version=\"1.1\" viewBox=\"0 0 510 449\" width=\"510px\" zoomAndPan=\"magnify\"><defs><filter height=\"300%\" id=\"fsn3uilnn6ozm\" width=\"300%\" x=\"-1\" y=\"-1\"><feGaussianBlur result=\"blurOut\" stdDeviation=\"2.0\"/><feColorMatrix in=\"blurOut\" result=\"blurOut2\" type=\"matrix\" values=\"0 0 0 0 0 0 0 0 0 0 0 0 0 0 0 0 0 0 .4 0\"/><feOffset dx=\"4.0\" dy=\"4.0\" in=\"blurOut2\" result=\"blurOut3\"/><feBlend in=\"SourceGraphic\" in2=\"blurOut3\" mode=\"normal\"/></filter></defs><g><!--MD5=[fbc87193dbaf4d95561dea2c320d4a47]\n",
       "cluster E1--><a href=\"psysml:a0e63dae-583d-42a3-9f46-6e6177e563b1\" target=\"_top\" title=\"psysml:a0e63dae-583d-42a3-9f46-6e6177e563b1\" xlink:actuate=\"onRequest\" xlink:href=\"psysml:a0e63dae-583d-42a3-9f46-6e6177e563b1\" xlink:show=\"new\" xlink:title=\"psysml:a0e63dae-583d-42a3-9f46-6e6177e563b1\" xlink:type=\"simple\"><polygon fill=\"#FFFFFF\" filter=\"url(#fsn3uilnn6ozm)\" points=\"16,6,156,6,163,28.2969,488,28.2969,488,437,16,437,16,6\" style=\"stroke: #000000; stroke-width: 1.5;\"/><line style=\"stroke: #000000; stroke-width: 1.5;\" x1=\"16\" x2=\"163\" y1=\"28.2969\" y2=\"28.2969\"/><text fill=\"#000000\" font-family=\"sans-serif\" font-size=\"14\" font-weight=\"bold\" lengthAdjust=\"spacingAndGlyphs\" textLength=\"134\" x=\"20\" y=\"20.9951\">DependencyTest</text></a><!--MD5=[e4f7fae6ed58524ba242bb0b0d3be6b7]\n",
       "cluster E2--><a href=\"psysml:90630542-d1db-4cfe-a426-6fd5a6b42885\" target=\"_top\" title=\"psysml:90630542-d1db-4cfe-a426-6fd5a6b42885\" xlink:actuate=\"onRequest\" xlink:href=\"psysml:90630542-d1db-4cfe-a426-6fd5a6b42885\" xlink:show=\"new\" xlink:title=\"psysml:90630542-d1db-4cfe-a426-6fd5a6b42885\" xlink:type=\"simple\"><polygon fill=\"#FFFFFF\" filter=\"url(#fsn3uilnn6ozm)\" points=\"276,49,340,49,347,71.2969,464,71.2969,464,413,276,413,276,49\" style=\"stroke: #000000; stroke-width: 1.5;\"/><line style=\"stroke: #000000; stroke-width: 1.5;\" x1=\"276\" x2=\"347\" y1=\"71.2969\" y2=\"71.2969\"/><text fill=\"#000000\" font-family=\"sans-serif\" font-size=\"14\" font-weight=\"bold\" lengthAdjust=\"spacingAndGlyphs\" textLength=\"58\" x=\"280\" y=\"63.9951\">System</text></a><!--MD5=[60a26617385b1d2d0262a64233df1f8d]\n",
       "class E6--><a href=\"psysml:7440b603-2b18-4efb-9bf4-7832c56b919b\" target=\"_top\" title=\"psysml:7440b603-2b18-4efb-9bf4-7832c56b919b\" xlink:actuate=\"onRequest\" xlink:href=\"psysml:7440b603-2b18-4efb-9bf4-7832c56b919b\" xlink:show=\"new\" xlink:title=\"psysml:7440b603-2b18-4efb-9bf4-7832c56b919b\" xlink:type=\"simple\"><rect fill=\"#FEFECE\" filter=\"url(#fsn3uilnn6ozm)\" height=\"45.9375\" id=\"E6\" rx=\"10\" ry=\"10\" style=\"stroke: #A80036; stroke-width: 1.5;\" width=\"97\" x=\"31.5\" y=\"217.5\"/><ellipse cx=\"46.5\" cy=\"236.4688\" fill=\"#FFA500\" rx=\"11\" ry=\"11\" style=\"stroke: #A80036; stroke-width: 1.0;\"/><path d=\"M42.375,238.3906 L42.375,230.5781 L44.8281,230.5781 L44.8281,239.0156 Q44.8281,239.9375 45.2969,240.4688 Q45.7813,241 46.6094,241 Q47.4531,241 47.9219,240.4688 Q48.3906,239.9375 48.3906,239.0156 L48.3906,230.5781 L50.8438,230.5781 L50.8438,238.3906 Q50.8438,240.9219 49.8438,242.0625 Q48.8438,243.2031 46.6094,243.2031 Q44.3906,243.2031 43.375,242.0625 Q42.375,240.9219 42.375,238.3906 Z \"/><text fill=\"#000000\" font-family=\"sans-serif\" font-size=\"12\" font-style=\"italic\" lengthAdjust=\"spacingAndGlyphs\" textLength=\"69\" x=\"58.5\" y=\"233.6387\">«attribute»</text><text fill=\"#000000\" font-family=\"sans-serif\" font-size=\"12\" lengthAdjust=\"spacingAndGlyphs\" textLength=\"6\" x=\"90\" y=\"247.6074\">x</text><line style=\"stroke: #A80036; stroke-width: 1.5;\" x1=\"32.5\" x2=\"127.5\" y1=\"255.4375\" y2=\"255.4375\"/></a><!--MD5=[2156ba9850f5573cc1fc38a6a4b2f02b]\n",
       "class E7--><a href=\"psysml:d907cb85-580b-45cd-b69d-b597f081eb5c\" target=\"_top\" title=\"psysml:d907cb85-580b-45cd-b69d-b597f081eb5c\" xlink:actuate=\"onRequest\" xlink:href=\"psysml:d907cb85-580b-45cd-b69d-b597f081eb5c\" xlink:show=\"new\" xlink:title=\"psysml:d907cb85-580b-45cd-b69d-b597f081eb5c\" xlink:type=\"simple\"><rect fill=\"#FEFECE\" filter=\"url(#fsn3uilnn6ozm)\" height=\"45.9375\" id=\"E7\" rx=\"10\" ry=\"10\" style=\"stroke: #A80036; stroke-width: 1.5;\" width=\"97\" x=\"163.5\" y=\"217.5\"/><ellipse cx=\"178.5\" cy=\"236.4688\" fill=\"#FFA500\" rx=\"11\" ry=\"11\" style=\"stroke: #A80036; stroke-width: 1.0;\"/><path d=\"M174.375,238.3906 L174.375,230.5781 L176.8281,230.5781 L176.8281,239.0156 Q176.8281,239.9375 177.2969,240.4688 Q177.7813,241 178.6094,241 Q179.4531,241 179.9219,240.4688 Q180.3906,239.9375 180.3906,239.0156 L180.3906,230.5781 L182.8438,230.5781 L182.8438,238.3906 Q182.8438,240.9219 181.8438,242.0625 Q180.8438,243.2031 178.6094,243.2031 Q176.3906,243.2031 175.375,242.0625 Q174.375,240.9219 174.375,238.3906 Z \"/><text fill=\"#000000\" font-family=\"sans-serif\" font-size=\"12\" font-style=\"italic\" lengthAdjust=\"spacingAndGlyphs\" textLength=\"69\" x=\"190.5\" y=\"233.6387\">«attribute»</text><text fill=\"#000000\" font-family=\"sans-serif\" font-size=\"12\" lengthAdjust=\"spacingAndGlyphs\" textLength=\"6\" x=\"222\" y=\"247.6074\">y</text><line style=\"stroke: #A80036; stroke-width: 1.5;\" x1=\"164.5\" x2=\"259.5\" y1=\"255.4375\" y2=\"255.4375\"/></a><!--MD5=[b9389687b975829384b498ac4b7476b2]\n",
       "class E8--><a href=\"psysml:719c36a8-8fd6-40f5-b1aa-2a0e2714a310\" target=\"_top\" title=\"psysml:719c36a8-8fd6-40f5-b1aa-2a0e2714a310\" xlink:actuate=\"onRequest\" xlink:href=\"psysml:719c36a8-8fd6-40f5-b1aa-2a0e2714a310\" xlink:show=\"new\" xlink:title=\"psysml:719c36a8-8fd6-40f5-b1aa-2a0e2714a310\" xlink:type=\"simple\"><rect fill=\"#FEFECE\" filter=\"url(#fsn3uilnn6ozm)\" height=\"45.9375\" id=\"E8\" rx=\"10\" ry=\"10\" style=\"stroke: #A80036; stroke-width: 1.5;\" width=\"97\" x=\"84.5\" y=\"87.5\"/><ellipse cx=\"99.5\" cy=\"106.4688\" fill=\"#FFA500\" rx=\"11\" ry=\"11\" style=\"stroke: #A80036; stroke-width: 1.0;\"/><path d=\"M95.375,108.3906 L95.375,100.5781 L97.8281,100.5781 L97.8281,109.0156 Q97.8281,109.9375 98.2969,110.4688 Q98.7813,111 99.6094,111 Q100.4531,111 100.9219,110.4688 Q101.3906,109.9375 101.3906,109.0156 L101.3906,100.5781 L103.8438,100.5781 L103.8438,108.3906 Q103.8438,110.9219 102.8438,112.0625 Q101.8438,113.2031 99.6094,113.2031 Q97.3906,113.2031 96.375,112.0625 Q95.375,110.9219 95.375,108.3906 Z \"/><text fill=\"#000000\" font-family=\"sans-serif\" font-size=\"12\" font-style=\"italic\" lengthAdjust=\"spacingAndGlyphs\" textLength=\"69\" x=\"111.5\" y=\"103.6387\">«attribute»</text><text fill=\"#000000\" font-family=\"sans-serif\" font-size=\"12\" lengthAdjust=\"spacingAndGlyphs\" textLength=\"5\" x=\"143.5\" y=\"117.6074\">z</text><line style=\"stroke: #A80036; stroke-width: 1.5;\" x1=\"85.5\" x2=\"180.5\" y1=\"125.4375\" y2=\"125.4375\"/></a><a href=\"psysml:f4739741-a5ef-49a4-9e06-4bb8a722f77e\" target=\"_top\" title=\"psysml:f4739741-a5ef-49a4-9e06-4bb8a722f77e\" xlink:actuate=\"onRequest\" xlink:href=\"psysml:f4739741-a5ef-49a4-9e06-4bb8a722f77e\" xlink:show=\"new\" xlink:title=\"psysml:f4739741-a5ef-49a4-9e06-4bb8a722f77e\" xlink:type=\"simple\"><polygon fill=\"#FFFFFF\" filter=\"url(#fsn3uilnn6ozm)\" points=\"292,84,434,84,441,106.2969,448,106.2969,448,136.5938,292,136.5938,292,84\" style=\"stroke: #000000; stroke-width: 1.5;\"/><line style=\"stroke: #000000; stroke-width: 1.5;\" x1=\"292\" x2=\"441\" y1=\"106.2969\" y2=\"106.2969\"/><text fill=\"#000000\" font-family=\"sans-serif\" font-size=\"14\" font-weight=\"bold\" lengthAdjust=\"spacingAndGlyphs\" textLength=\"136\" x=\"296\" y=\"98.9951\">Application Layer</text></a><a href=\"psysml:e1090b77-2219-4e30-afea-75b6451d3a90\" target=\"_top\" title=\"psysml:e1090b77-2219-4e30-afea-75b6451d3a90\" xlink:actuate=\"onRequest\" xlink:href=\"psysml:e1090b77-2219-4e30-afea-75b6451d3a90\" xlink:show=\"new\" xlink:title=\"psysml:e1090b77-2219-4e30-afea-75b6451d3a90\" xlink:type=\"simple\"><polygon fill=\"#FFFFFF\" filter=\"url(#fsn3uilnn6ozm)\" points=\"306,214,420,214,427,236.2969,434,236.2969,434,266.5938,306,266.5938,306,214\" style=\"stroke: #000000; stroke-width: 1.5;\"/><line style=\"stroke: #000000; stroke-width: 1.5;\" x1=\"306\" x2=\"427\" y1=\"236.2969\" y2=\"236.2969\"/><text fill=\"#000000\" font-family=\"sans-serif\" font-size=\"14\" font-weight=\"bold\" lengthAdjust=\"spacingAndGlyphs\" textLength=\"108\" x=\"310\" y=\"228.9951\">Service Layer</text></a><a href=\"psysml:fe465764-9ab4-44bf-be91-bd692232f0a1\" target=\"_top\" title=\"psysml:fe465764-9ab4-44bf-be91-bd692232f0a1\" xlink:actuate=\"onRequest\" xlink:href=\"psysml:fe465764-9ab4-44bf-be91-bd692232f0a1\" xlink:show=\"new\" xlink:title=\"psysml:fe465764-9ab4-44bf-be91-bd692232f0a1\" xlink:type=\"simple\"><polygon fill=\"#FFFFFF\" filter=\"url(#fsn3uilnn6ozm)\" points=\"318,344,408,344,415,366.2969,422,366.2969,422,396.5938,318,396.5938,318,344\" style=\"stroke: #000000; stroke-width: 1.5;\"/><line style=\"stroke: #000000; stroke-width: 1.5;\" x1=\"318\" x2=\"415\" y1=\"366.2969\" y2=\"366.2969\"/><text fill=\"#000000\" font-family=\"sans-serif\" font-size=\"14\" font-weight=\"bold\" lengthAdjust=\"spacingAndGlyphs\" textLength=\"84\" x=\"322\" y=\"358.9951\">Data Layer</text></a><!--MD5=[af87c684e3b0d8be13c1a698a818ef1e]\n",
       "link E3 to E4--><a href=\"psysml:f18ad3d3-ddea-4435-b15e-701f5c4039de\" target=\"_top\" title=\"psysml:f18ad3d3-ddea-4435-b15e-701f5c4039de\" xlink:actuate=\"onRequest\" xlink:href=\"psysml:f18ad3d3-ddea-4435-b15e-701f5c4039de\" xlink:show=\"new\" xlink:title=\"psysml:f18ad3d3-ddea-4435-b15e-701f5c4039de\" xlink:type=\"simple\"><path d=\"M370,137.1 C370,156.8 370,184.22 370,205.73 \" fill=\"none\" id=\"E3-&gt;E4\" style=\"stroke: #A80036; stroke-width: 1.0; stroke-dasharray: 7.0,7.0;\"/><polygon fill=\"#A80036\" points=\"370,213.95,373,205.95,367,205.95,370,213.95\" style=\"stroke: #A80036; stroke-width: 1.0;\"/><text fill=\"#000000\" font-family=\"sans-serif\" font-size=\"13\" lengthAdjust=\"spacingAndGlyphs\" textLength=\"64\" x=\"371\" y=\"180.0669\">«depend»</text></a><!--MD5=[1b7591eae5389033d8d09a9d6721a717]\n",
       "link E4 to E5--><a href=\"psysml:22e4e023-3d64-4f1c-8411-ecdb932522c7\" target=\"_top\" title=\"psysml:22e4e023-3d64-4f1c-8411-ecdb932522c7\" xlink:actuate=\"onRequest\" xlink:href=\"psysml:22e4e023-3d64-4f1c-8411-ecdb932522c7\" xlink:show=\"new\" xlink:title=\"psysml:22e4e023-3d64-4f1c-8411-ecdb932522c7\" xlink:type=\"simple\"><path d=\"M370,267.1 C370,286.8 370,314.22 370,335.73 \" fill=\"none\" id=\"E4-&gt;E5\" style=\"stroke: #A80036; stroke-width: 1.0; stroke-dasharray: 7.0,7.0;\"/><polygon fill=\"#A80036\" points=\"370,343.95,373,335.95,367,335.95,370,343.95\" style=\"stroke: #A80036; stroke-width: 1.0;\"/><text fill=\"#000000\" font-family=\"sans-serif\" font-size=\"13\" lengthAdjust=\"spacingAndGlyphs\" textLength=\"64\" x=\"371\" y=\"310.0669\">«depend»</text></a><!--MD5=[c5e8897d989ce984f93528998a7150fe]\n",
       "link E8 to E6--><a href=\"psysml:01d1ab15-dda9-4157-a585-7877f2cc1d47\" target=\"_top\" title=\"psysml:01d1ab15-dda9-4157-a585-7877f2cc1d47\" xlink:actuate=\"onRequest\" xlink:href=\"psysml:01d1ab15-dda9-4157-a585-7877f2cc1d47\" xlink:show=\"new\" xlink:title=\"psysml:01d1ab15-dda9-4157-a585-7877f2cc1d47\" xlink:type=\"simple\"><path d=\"M106.44,133.76 C97.3,143.01 88.09,154.51 83,167 C77.6,180.23 76.4,195.98 76.73,209.41 \" fill=\"none\" id=\"E8-&gt;E6\" style=\"stroke: #A80036; stroke-width: 1.0; stroke-dasharray: 7.0,7.0;\"/><polygon fill=\"#A80036\" points=\"77.12,217.43,79.7306,209.2946,73.7375,209.584,77.12,217.43\" style=\"stroke: #A80036; stroke-width: 1.0;\"/><text fill=\"#000000\" font-family=\"sans-serif\" font-size=\"13\" lengthAdjust=\"spacingAndGlyphs\" textLength=\"64\" x=\"84\" y=\"180.0669\">«depend»</text></a><!--MD5=[bfa3c8b0d15052fdf50ae9310b491027]\n",
       "link E8 to E7--><a href=\"psysml:01d1ab15-dda9-4157-a585-7877f2cc1d47\" target=\"_top\" title=\"psysml:01d1ab15-dda9-4157-a585-7877f2cc1d47\" xlink:actuate=\"onRequest\" xlink:href=\"psysml:01d1ab15-dda9-4157-a585-7877f2cc1d47\" xlink:show=\"new\" xlink:title=\"psysml:01d1ab15-dda9-4157-a585-7877f2cc1d47\" xlink:type=\"simple\"><path d=\"M146.58,133.5 C159.69,154.75 179.63,187.05 194.05,210.41 \" fill=\"none\" id=\"E8-&gt;E7\" style=\"stroke: #A80036; stroke-width: 1.0; stroke-dasharray: 7.0,7.0;\"/><polygon fill=\"#A80036\" points=\"198.33,217.35,196.6785,208.9671,191.5737,212.1201,198.33,217.35\" style=\"stroke: #A80036; stroke-width: 1.0;\"/><text fill=\"#000000\" font-family=\"sans-serif\" font-size=\"13\" lengthAdjust=\"spacingAndGlyphs\" textLength=\"64\" x=\"178\" y=\"180.0669\">«depend»</text></a><!--MD5=[cdc1fe17f07e8362a3c85a15aab0270a]\n",
       "@startuml\r\n",
       " \r\n",
       "package \"DependencyTest\" as E1  [[psysml:a0e63dae-583d-42a3-9f46-6e6177e563b1 ]]  {\r\n",
       "package \"System\" as E2  [[psysml:90630542-d1db-4cfe-a426-6fd5a6b42885 ]]  {\r\n",
       "package \"Application Layer\" as E3  [[psysml:f4739741-a5ef-49a4-9e06-4bb8a722f77e ]]  {\r\n",
       "}\r\n",
       "package \"Service Layer\" as E4  [[psysml:e1090b77-2219-4e30-afea-75b6451d3a90 ]]  {\r\n",
       "}\r\n",
       "package \"Data Layer\" as E5  [[psysml:fe465764-9ab4-44bf-be91-bd692232f0a1 ]]  {\r\n",
       "}\r\n",
       "}\r\n",
       "comp usage \"x\" as E6  <<(U,orange)attribute>> [[psysml:7440b603-2b18-4efb-9bf4-7832c56b919b ]] {\r\n",
       "}\r\n",
       "comp usage \"y\" as E7  <<(U,orange)attribute>> [[psysml:d907cb85-580b-45cd-b69d-b597f081eb5c ]] {\r\n",
       "}\r\n",
       "comp usage \"z\" as E8  <<(U,orange)attribute>> [[psysml:719c36a8-8fd6-40f5-b1aa-2a0e2714a310 ]] {\r\n",
       "}\r\n",
       "E3 ..>> E4 [[psysml:f18ad3d3-ddea-4435-b15e-701f5c4039de ]] : <<depend>>\r\n",
       "E4 ..>> E5 [[psysml:22e4e023-3d64-4f1c-8411-ecdb932522c7 ]] : <<depend>>\r\n",
       "E8 ..>> E6 [[psysml:01d1ab15-dda9-4157-a585-7877f2cc1d47 ]] : <<depend>>\r\n",
       "E8 ..>> E7 [[psysml:01d1ab15-dda9-4157-a585-7877f2cc1d47 ]] : <<depend>>\r\n",
       "}\r\n",
       "@enduml\r\n",
       "\n",
       "PlantUML version 1.2020.13(Sat Jun 13 12:26:38 UTC 2020)\n",
       "(EPL source distribution)\n",
       "Java Runtime: OpenJDK Runtime Environment\n",
       "JVM: OpenJDK 64-Bit Server VM\n",
       "Default Encoding: UTF-8\n",
       "Language: en\n",
       "Country: null\n",
       "--></g></svg>"
      ]
     },
     "execution_count": 35,
     "metadata": {},
     "output_type": "execute_result"
    }
   ],
   "source": [
    "%viz --style=\"PLANTUML\" --view=\"Sequence\" \"DependencyTest\""
   ]
  },
  {
   "cell_type": "code",
   "execution_count": 36,
   "id": "5146e6d8",
   "metadata": {
    "execution": {
     "iopub.execute_input": "2021-04-21T20:26:07.523669Z",
     "iopub.status.busy": "2021-04-21T20:26:07.523294Z",
     "iopub.status.idle": "2021-04-21T20:26:07.559111Z",
     "shell.execute_reply": "2021-04-21T20:26:07.557391Z"
    }
   },
   "outputs": [
    {
     "data": {
      "image/svg+xml": [
       "<?xml version=\"1.0\" encoding=\"UTF-8\" standalone=\"no\"?><svg xmlns=\"http://www.w3.org/2000/svg\" xmlns:xlink=\"http://www.w3.org/1999/xlink\" contentScriptType=\"application/ecmascript\" contentStyleType=\"text/css\" height=\"449px\" preserveAspectRatio=\"none\" style=\"width:510px;height:449px;\" version=\"1.1\" viewBox=\"0 0 510 449\" width=\"510px\" zoomAndPan=\"magnify\"><defs><filter height=\"300%\" id=\"fsn3uilnn6ozm\" width=\"300%\" x=\"-1\" y=\"-1\"><feGaussianBlur result=\"blurOut\" stdDeviation=\"2.0\"/><feColorMatrix in=\"blurOut\" result=\"blurOut2\" type=\"matrix\" values=\"0 0 0 0 0 0 0 0 0 0 0 0 0 0 0 0 0 0 .4 0\"/><feOffset dx=\"4.0\" dy=\"4.0\" in=\"blurOut2\" result=\"blurOut3\"/><feBlend in=\"SourceGraphic\" in2=\"blurOut3\" mode=\"normal\"/></filter></defs><g><!--MD5=[fbc87193dbaf4d95561dea2c320d4a47]\n",
       "cluster E1--><a href=\"psysml:a0e63dae-583d-42a3-9f46-6e6177e563b1\" target=\"_top\" title=\"psysml:a0e63dae-583d-42a3-9f46-6e6177e563b1\" xlink:actuate=\"onRequest\" xlink:href=\"psysml:a0e63dae-583d-42a3-9f46-6e6177e563b1\" xlink:show=\"new\" xlink:title=\"psysml:a0e63dae-583d-42a3-9f46-6e6177e563b1\" xlink:type=\"simple\"><polygon fill=\"#FFFFFF\" filter=\"url(#fsn3uilnn6ozm)\" points=\"16,6,156,6,163,28.2969,488,28.2969,488,437,16,437,16,6\" style=\"stroke: #000000; stroke-width: 1.5;\"/><line style=\"stroke: #000000; stroke-width: 1.5;\" x1=\"16\" x2=\"163\" y1=\"28.2969\" y2=\"28.2969\"/><text fill=\"#000000\" font-family=\"sans-serif\" font-size=\"14\" font-weight=\"bold\" lengthAdjust=\"spacingAndGlyphs\" textLength=\"134\" x=\"20\" y=\"20.9951\">DependencyTest</text></a><!--MD5=[e4f7fae6ed58524ba242bb0b0d3be6b7]\n",
       "cluster E2--><a href=\"psysml:90630542-d1db-4cfe-a426-6fd5a6b42885\" target=\"_top\" title=\"psysml:90630542-d1db-4cfe-a426-6fd5a6b42885\" xlink:actuate=\"onRequest\" xlink:href=\"psysml:90630542-d1db-4cfe-a426-6fd5a6b42885\" xlink:show=\"new\" xlink:title=\"psysml:90630542-d1db-4cfe-a426-6fd5a6b42885\" xlink:type=\"simple\"><polygon fill=\"#FFFFFF\" filter=\"url(#fsn3uilnn6ozm)\" points=\"276,49,340,49,347,71.2969,464,71.2969,464,413,276,413,276,49\" style=\"stroke: #000000; stroke-width: 1.5;\"/><line style=\"stroke: #000000; stroke-width: 1.5;\" x1=\"276\" x2=\"347\" y1=\"71.2969\" y2=\"71.2969\"/><text fill=\"#000000\" font-family=\"sans-serif\" font-size=\"14\" font-weight=\"bold\" lengthAdjust=\"spacingAndGlyphs\" textLength=\"58\" x=\"280\" y=\"63.9951\">System</text></a><!--MD5=[60a26617385b1d2d0262a64233df1f8d]\n",
       "class E6--><a href=\"psysml:7440b603-2b18-4efb-9bf4-7832c56b919b\" target=\"_top\" title=\"psysml:7440b603-2b18-4efb-9bf4-7832c56b919b\" xlink:actuate=\"onRequest\" xlink:href=\"psysml:7440b603-2b18-4efb-9bf4-7832c56b919b\" xlink:show=\"new\" xlink:title=\"psysml:7440b603-2b18-4efb-9bf4-7832c56b919b\" xlink:type=\"simple\"><rect fill=\"#FEFECE\" filter=\"url(#fsn3uilnn6ozm)\" height=\"45.9375\" id=\"E6\" rx=\"10\" ry=\"10\" style=\"stroke: #A80036; stroke-width: 1.5;\" width=\"97\" x=\"31.5\" y=\"217.5\"/><ellipse cx=\"46.5\" cy=\"236.4688\" fill=\"#FFA500\" rx=\"11\" ry=\"11\" style=\"stroke: #A80036; stroke-width: 1.0;\"/><path d=\"M42.375,238.3906 L42.375,230.5781 L44.8281,230.5781 L44.8281,239.0156 Q44.8281,239.9375 45.2969,240.4688 Q45.7813,241 46.6094,241 Q47.4531,241 47.9219,240.4688 Q48.3906,239.9375 48.3906,239.0156 L48.3906,230.5781 L50.8438,230.5781 L50.8438,238.3906 Q50.8438,240.9219 49.8438,242.0625 Q48.8438,243.2031 46.6094,243.2031 Q44.3906,243.2031 43.375,242.0625 Q42.375,240.9219 42.375,238.3906 Z \"/><text fill=\"#000000\" font-family=\"sans-serif\" font-size=\"12\" font-style=\"italic\" lengthAdjust=\"spacingAndGlyphs\" textLength=\"69\" x=\"58.5\" y=\"233.6387\">«attribute»</text><text fill=\"#000000\" font-family=\"sans-serif\" font-size=\"12\" lengthAdjust=\"spacingAndGlyphs\" textLength=\"6\" x=\"90\" y=\"247.6074\">x</text><line style=\"stroke: #A80036; stroke-width: 1.5;\" x1=\"32.5\" x2=\"127.5\" y1=\"255.4375\" y2=\"255.4375\"/></a><!--MD5=[2156ba9850f5573cc1fc38a6a4b2f02b]\n",
       "class E7--><a href=\"psysml:d907cb85-580b-45cd-b69d-b597f081eb5c\" target=\"_top\" title=\"psysml:d907cb85-580b-45cd-b69d-b597f081eb5c\" xlink:actuate=\"onRequest\" xlink:href=\"psysml:d907cb85-580b-45cd-b69d-b597f081eb5c\" xlink:show=\"new\" xlink:title=\"psysml:d907cb85-580b-45cd-b69d-b597f081eb5c\" xlink:type=\"simple\"><rect fill=\"#FEFECE\" filter=\"url(#fsn3uilnn6ozm)\" height=\"45.9375\" id=\"E7\" rx=\"10\" ry=\"10\" style=\"stroke: #A80036; stroke-width: 1.5;\" width=\"97\" x=\"163.5\" y=\"217.5\"/><ellipse cx=\"178.5\" cy=\"236.4688\" fill=\"#FFA500\" rx=\"11\" ry=\"11\" style=\"stroke: #A80036; stroke-width: 1.0;\"/><path d=\"M174.375,238.3906 L174.375,230.5781 L176.8281,230.5781 L176.8281,239.0156 Q176.8281,239.9375 177.2969,240.4688 Q177.7813,241 178.6094,241 Q179.4531,241 179.9219,240.4688 Q180.3906,239.9375 180.3906,239.0156 L180.3906,230.5781 L182.8438,230.5781 L182.8438,238.3906 Q182.8438,240.9219 181.8438,242.0625 Q180.8438,243.2031 178.6094,243.2031 Q176.3906,243.2031 175.375,242.0625 Q174.375,240.9219 174.375,238.3906 Z \"/><text fill=\"#000000\" font-family=\"sans-serif\" font-size=\"12\" font-style=\"italic\" lengthAdjust=\"spacingAndGlyphs\" textLength=\"69\" x=\"190.5\" y=\"233.6387\">«attribute»</text><text fill=\"#000000\" font-family=\"sans-serif\" font-size=\"12\" lengthAdjust=\"spacingAndGlyphs\" textLength=\"6\" x=\"222\" y=\"247.6074\">y</text><line style=\"stroke: #A80036; stroke-width: 1.5;\" x1=\"164.5\" x2=\"259.5\" y1=\"255.4375\" y2=\"255.4375\"/></a><!--MD5=[b9389687b975829384b498ac4b7476b2]\n",
       "class E8--><a href=\"psysml:719c36a8-8fd6-40f5-b1aa-2a0e2714a310\" target=\"_top\" title=\"psysml:719c36a8-8fd6-40f5-b1aa-2a0e2714a310\" xlink:actuate=\"onRequest\" xlink:href=\"psysml:719c36a8-8fd6-40f5-b1aa-2a0e2714a310\" xlink:show=\"new\" xlink:title=\"psysml:719c36a8-8fd6-40f5-b1aa-2a0e2714a310\" xlink:type=\"simple\"><rect fill=\"#FEFECE\" filter=\"url(#fsn3uilnn6ozm)\" height=\"45.9375\" id=\"E8\" rx=\"10\" ry=\"10\" style=\"stroke: #A80036; stroke-width: 1.5;\" width=\"97\" x=\"84.5\" y=\"87.5\"/><ellipse cx=\"99.5\" cy=\"106.4688\" fill=\"#FFA500\" rx=\"11\" ry=\"11\" style=\"stroke: #A80036; stroke-width: 1.0;\"/><path d=\"M95.375,108.3906 L95.375,100.5781 L97.8281,100.5781 L97.8281,109.0156 Q97.8281,109.9375 98.2969,110.4688 Q98.7813,111 99.6094,111 Q100.4531,111 100.9219,110.4688 Q101.3906,109.9375 101.3906,109.0156 L101.3906,100.5781 L103.8438,100.5781 L103.8438,108.3906 Q103.8438,110.9219 102.8438,112.0625 Q101.8438,113.2031 99.6094,113.2031 Q97.3906,113.2031 96.375,112.0625 Q95.375,110.9219 95.375,108.3906 Z \"/><text fill=\"#000000\" font-family=\"sans-serif\" font-size=\"12\" font-style=\"italic\" lengthAdjust=\"spacingAndGlyphs\" textLength=\"69\" x=\"111.5\" y=\"103.6387\">«attribute»</text><text fill=\"#000000\" font-family=\"sans-serif\" font-size=\"12\" lengthAdjust=\"spacingAndGlyphs\" textLength=\"5\" x=\"143.5\" y=\"117.6074\">z</text><line style=\"stroke: #A80036; stroke-width: 1.5;\" x1=\"85.5\" x2=\"180.5\" y1=\"125.4375\" y2=\"125.4375\"/></a><a href=\"psysml:f4739741-a5ef-49a4-9e06-4bb8a722f77e\" target=\"_top\" title=\"psysml:f4739741-a5ef-49a4-9e06-4bb8a722f77e\" xlink:actuate=\"onRequest\" xlink:href=\"psysml:f4739741-a5ef-49a4-9e06-4bb8a722f77e\" xlink:show=\"new\" xlink:title=\"psysml:f4739741-a5ef-49a4-9e06-4bb8a722f77e\" xlink:type=\"simple\"><polygon fill=\"#FFFFFF\" filter=\"url(#fsn3uilnn6ozm)\" points=\"292,84,434,84,441,106.2969,448,106.2969,448,136.5938,292,136.5938,292,84\" style=\"stroke: #000000; stroke-width: 1.5;\"/><line style=\"stroke: #000000; stroke-width: 1.5;\" x1=\"292\" x2=\"441\" y1=\"106.2969\" y2=\"106.2969\"/><text fill=\"#000000\" font-family=\"sans-serif\" font-size=\"14\" font-weight=\"bold\" lengthAdjust=\"spacingAndGlyphs\" textLength=\"136\" x=\"296\" y=\"98.9951\">Application Layer</text></a><a href=\"psysml:e1090b77-2219-4e30-afea-75b6451d3a90\" target=\"_top\" title=\"psysml:e1090b77-2219-4e30-afea-75b6451d3a90\" xlink:actuate=\"onRequest\" xlink:href=\"psysml:e1090b77-2219-4e30-afea-75b6451d3a90\" xlink:show=\"new\" xlink:title=\"psysml:e1090b77-2219-4e30-afea-75b6451d3a90\" xlink:type=\"simple\"><polygon fill=\"#FFFFFF\" filter=\"url(#fsn3uilnn6ozm)\" points=\"306,214,420,214,427,236.2969,434,236.2969,434,266.5938,306,266.5938,306,214\" style=\"stroke: #000000; stroke-width: 1.5;\"/><line style=\"stroke: #000000; stroke-width: 1.5;\" x1=\"306\" x2=\"427\" y1=\"236.2969\" y2=\"236.2969\"/><text fill=\"#000000\" font-family=\"sans-serif\" font-size=\"14\" font-weight=\"bold\" lengthAdjust=\"spacingAndGlyphs\" textLength=\"108\" x=\"310\" y=\"228.9951\">Service Layer</text></a><a href=\"psysml:fe465764-9ab4-44bf-be91-bd692232f0a1\" target=\"_top\" title=\"psysml:fe465764-9ab4-44bf-be91-bd692232f0a1\" xlink:actuate=\"onRequest\" xlink:href=\"psysml:fe465764-9ab4-44bf-be91-bd692232f0a1\" xlink:show=\"new\" xlink:title=\"psysml:fe465764-9ab4-44bf-be91-bd692232f0a1\" xlink:type=\"simple\"><polygon fill=\"#FFFFFF\" filter=\"url(#fsn3uilnn6ozm)\" points=\"318,344,408,344,415,366.2969,422,366.2969,422,396.5938,318,396.5938,318,344\" style=\"stroke: #000000; stroke-width: 1.5;\"/><line style=\"stroke: #000000; stroke-width: 1.5;\" x1=\"318\" x2=\"415\" y1=\"366.2969\" y2=\"366.2969\"/><text fill=\"#000000\" font-family=\"sans-serif\" font-size=\"14\" font-weight=\"bold\" lengthAdjust=\"spacingAndGlyphs\" textLength=\"84\" x=\"322\" y=\"358.9951\">Data Layer</text></a><!--MD5=[af87c684e3b0d8be13c1a698a818ef1e]\n",
       "link E3 to E4--><a href=\"psysml:f18ad3d3-ddea-4435-b15e-701f5c4039de\" target=\"_top\" title=\"psysml:f18ad3d3-ddea-4435-b15e-701f5c4039de\" xlink:actuate=\"onRequest\" xlink:href=\"psysml:f18ad3d3-ddea-4435-b15e-701f5c4039de\" xlink:show=\"new\" xlink:title=\"psysml:f18ad3d3-ddea-4435-b15e-701f5c4039de\" xlink:type=\"simple\"><path d=\"M370,137.1 C370,156.8 370,184.22 370,205.73 \" fill=\"none\" id=\"E3-&gt;E4\" style=\"stroke: #A80036; stroke-width: 1.0; stroke-dasharray: 7.0,7.0;\"/><polygon fill=\"#A80036\" points=\"370,213.95,373,205.95,367,205.95,370,213.95\" style=\"stroke: #A80036; stroke-width: 1.0;\"/><text fill=\"#000000\" font-family=\"sans-serif\" font-size=\"13\" lengthAdjust=\"spacingAndGlyphs\" textLength=\"64\" x=\"371\" y=\"180.0669\">«depend»</text></a><!--MD5=[1b7591eae5389033d8d09a9d6721a717]\n",
       "link E4 to E5--><a href=\"psysml:22e4e023-3d64-4f1c-8411-ecdb932522c7\" target=\"_top\" title=\"psysml:22e4e023-3d64-4f1c-8411-ecdb932522c7\" xlink:actuate=\"onRequest\" xlink:href=\"psysml:22e4e023-3d64-4f1c-8411-ecdb932522c7\" xlink:show=\"new\" xlink:title=\"psysml:22e4e023-3d64-4f1c-8411-ecdb932522c7\" xlink:type=\"simple\"><path d=\"M370,267.1 C370,286.8 370,314.22 370,335.73 \" fill=\"none\" id=\"E4-&gt;E5\" style=\"stroke: #A80036; stroke-width: 1.0; stroke-dasharray: 7.0,7.0;\"/><polygon fill=\"#A80036\" points=\"370,343.95,373,335.95,367,335.95,370,343.95\" style=\"stroke: #A80036; stroke-width: 1.0;\"/><text fill=\"#000000\" font-family=\"sans-serif\" font-size=\"13\" lengthAdjust=\"spacingAndGlyphs\" textLength=\"64\" x=\"371\" y=\"310.0669\">«depend»</text></a><!--MD5=[c5e8897d989ce984f93528998a7150fe]\n",
       "link E8 to E6--><a href=\"psysml:01d1ab15-dda9-4157-a585-7877f2cc1d47\" target=\"_top\" title=\"psysml:01d1ab15-dda9-4157-a585-7877f2cc1d47\" xlink:actuate=\"onRequest\" xlink:href=\"psysml:01d1ab15-dda9-4157-a585-7877f2cc1d47\" xlink:show=\"new\" xlink:title=\"psysml:01d1ab15-dda9-4157-a585-7877f2cc1d47\" xlink:type=\"simple\"><path d=\"M106.44,133.76 C97.3,143.01 88.09,154.51 83,167 C77.6,180.23 76.4,195.98 76.73,209.41 \" fill=\"none\" id=\"E8-&gt;E6\" style=\"stroke: #A80036; stroke-width: 1.0; stroke-dasharray: 7.0,7.0;\"/><polygon fill=\"#A80036\" points=\"77.12,217.43,79.7306,209.2946,73.7375,209.584,77.12,217.43\" style=\"stroke: #A80036; stroke-width: 1.0;\"/><text fill=\"#000000\" font-family=\"sans-serif\" font-size=\"13\" lengthAdjust=\"spacingAndGlyphs\" textLength=\"64\" x=\"84\" y=\"180.0669\">«depend»</text></a><!--MD5=[bfa3c8b0d15052fdf50ae9310b491027]\n",
       "link E8 to E7--><a href=\"psysml:01d1ab15-dda9-4157-a585-7877f2cc1d47\" target=\"_top\" title=\"psysml:01d1ab15-dda9-4157-a585-7877f2cc1d47\" xlink:actuate=\"onRequest\" xlink:href=\"psysml:01d1ab15-dda9-4157-a585-7877f2cc1d47\" xlink:show=\"new\" xlink:title=\"psysml:01d1ab15-dda9-4157-a585-7877f2cc1d47\" xlink:type=\"simple\"><path d=\"M146.58,133.5 C159.69,154.75 179.63,187.05 194.05,210.41 \" fill=\"none\" id=\"E8-&gt;E7\" style=\"stroke: #A80036; stroke-width: 1.0; stroke-dasharray: 7.0,7.0;\"/><polygon fill=\"#A80036\" points=\"198.33,217.35,196.6785,208.9671,191.5737,212.1201,198.33,217.35\" style=\"stroke: #A80036; stroke-width: 1.0;\"/><text fill=\"#000000\" font-family=\"sans-serif\" font-size=\"13\" lengthAdjust=\"spacingAndGlyphs\" textLength=\"64\" x=\"178\" y=\"180.0669\">«depend»</text></a><!--MD5=[cdc1fe17f07e8362a3c85a15aab0270a]\n",
       "@startuml\r\n",
       " \r\n",
       "package \"DependencyTest\" as E1  [[psysml:a0e63dae-583d-42a3-9f46-6e6177e563b1 ]]  {\r\n",
       "package \"System\" as E2  [[psysml:90630542-d1db-4cfe-a426-6fd5a6b42885 ]]  {\r\n",
       "package \"Application Layer\" as E3  [[psysml:f4739741-a5ef-49a4-9e06-4bb8a722f77e ]]  {\r\n",
       "}\r\n",
       "package \"Service Layer\" as E4  [[psysml:e1090b77-2219-4e30-afea-75b6451d3a90 ]]  {\r\n",
       "}\r\n",
       "package \"Data Layer\" as E5  [[psysml:fe465764-9ab4-44bf-be91-bd692232f0a1 ]]  {\r\n",
       "}\r\n",
       "}\r\n",
       "comp usage \"x\" as E6  <<(U,orange)attribute>> [[psysml:7440b603-2b18-4efb-9bf4-7832c56b919b ]] {\r\n",
       "}\r\n",
       "comp usage \"y\" as E7  <<(U,orange)attribute>> [[psysml:d907cb85-580b-45cd-b69d-b597f081eb5c ]] {\r\n",
       "}\r\n",
       "comp usage \"z\" as E8  <<(U,orange)attribute>> [[psysml:719c36a8-8fd6-40f5-b1aa-2a0e2714a310 ]] {\r\n",
       "}\r\n",
       "E3 ..>> E4 [[psysml:f18ad3d3-ddea-4435-b15e-701f5c4039de ]] : <<depend>>\r\n",
       "E4 ..>> E5 [[psysml:22e4e023-3d64-4f1c-8411-ecdb932522c7 ]] : <<depend>>\r\n",
       "E8 ..>> E6 [[psysml:01d1ab15-dda9-4157-a585-7877f2cc1d47 ]] : <<depend>>\r\n",
       "E8 ..>> E7 [[psysml:01d1ab15-dda9-4157-a585-7877f2cc1d47 ]] : <<depend>>\r\n",
       "}\r\n",
       "@enduml\r\n",
       "\n",
       "PlantUML version 1.2020.13(Sat Jun 13 12:26:38 UTC 2020)\n",
       "(EPL source distribution)\n",
       "Java Runtime: OpenJDK Runtime Environment\n",
       "JVM: OpenJDK 64-Bit Server VM\n",
       "Default Encoding: UTF-8\n",
       "Language: en\n",
       "Country: null\n",
       "--></g></svg>"
      ]
     },
     "execution_count": 36,
     "metadata": {},
     "output_type": "execute_result"
    }
   ],
   "source": [
    "%viz --style=\"PLANTUML\" --view=\"MIXED\" \"DependencyTest\""
   ]
  },
  {
   "cell_type": "code",
   "execution_count": 37,
   "id": "a279aba1",
   "metadata": {
    "execution": {
     "iopub.execute_input": "2021-04-21T20:26:07.608741Z",
     "iopub.status.busy": "2021-04-21T20:26:07.608366Z",
     "iopub.status.idle": "2021-04-21T20:26:07.646904Z",
     "shell.execute_reply": "2021-04-21T20:26:07.644811Z"
    }
   },
   "outputs": [
    {
     "data": {
      "image/svg+xml": [
       "<?xml version=\"1.0\" encoding=\"UTF-8\" standalone=\"no\"?><svg xmlns=\"http://www.w3.org/2000/svg\" xmlns:xlink=\"http://www.w3.org/1999/xlink\" contentScriptType=\"application/ecmascript\" contentStyleType=\"text/css\" height=\"449px\" preserveAspectRatio=\"none\" style=\"width:489px;height:449px;\" version=\"1.1\" viewBox=\"0 0 489 449\" width=\"489px\" zoomAndPan=\"magnify\"><defs/><g><!--MD5=[fbc87193dbaf4d95561dea2c320d4a47]\n",
       "cluster E1--><a href=\"psysml:a0e63dae-583d-42a3-9f46-6e6177e563b1\" target=\"_top\" title=\"psysml:a0e63dae-583d-42a3-9f46-6e6177e563b1\" xlink:actuate=\"onRequest\" xlink:href=\"psysml:a0e63dae-583d-42a3-9f46-6e6177e563b1\" xlink:show=\"new\" xlink:title=\"psysml:a0e63dae-583d-42a3-9f46-6e6177e563b1\" xlink:type=\"simple\"><polygon fill=\"#FFFFFF\" points=\"16,6,156,6,163,28.2969,467,28.2969,467,437,16,437,16,6\" style=\"stroke: #000000; stroke-width: 1.5;\"/><line style=\"stroke: #000000; stroke-width: 1.5;\" x1=\"16\" x2=\"163\" y1=\"28.2969\" y2=\"28.2969\"/><text fill=\"#000000\" font-family=\"sans-serif\" font-size=\"14\" font-weight=\"bold\" lengthAdjust=\"spacingAndGlyphs\" textLength=\"134\" x=\"20\" y=\"20.9951\">DependencyTest</text></a><!--MD5=[e4f7fae6ed58524ba242bb0b0d3be6b7]\n",
       "cluster E2--><a href=\"psysml:90630542-d1db-4cfe-a426-6fd5a6b42885\" target=\"_top\" title=\"psysml:90630542-d1db-4cfe-a426-6fd5a6b42885\" xlink:actuate=\"onRequest\" xlink:href=\"psysml:90630542-d1db-4cfe-a426-6fd5a6b42885\" xlink:show=\"new\" xlink:title=\"psysml:90630542-d1db-4cfe-a426-6fd5a6b42885\" xlink:type=\"simple\"><polygon fill=\"#FFFFFF\" points=\"255,49,319,49,326,71.2969,443,71.2969,443,413,255,413,255,49\" style=\"stroke: #000000; stroke-width: 1.5;\"/><line style=\"stroke: #000000; stroke-width: 1.5;\" x1=\"255\" x2=\"326\" y1=\"71.2969\" y2=\"71.2969\"/><text fill=\"#000000\" font-family=\"sans-serif\" font-size=\"14\" font-weight=\"bold\" lengthAdjust=\"spacingAndGlyphs\" textLength=\"58\" x=\"259\" y=\"63.9951\">System</text></a><!--MD5=[60a26617385b1d2d0262a64233df1f8d]\n",
       "class E6--><a href=\"psysml:7440b603-2b18-4efb-9bf4-7832c56b919b\" target=\"_top\" title=\"psysml:7440b603-2b18-4efb-9bf4-7832c56b919b\" xlink:actuate=\"onRequest\" xlink:href=\"psysml:7440b603-2b18-4efb-9bf4-7832c56b919b\" xlink:show=\"new\" xlink:title=\"psysml:7440b603-2b18-4efb-9bf4-7832c56b919b\" xlink:type=\"simple\"><rect fill=\"#FFFFFF\" height=\"45.9375\" id=\"E6\" rx=\"10\" ry=\"10\" style=\"stroke: #383838; stroke-width: 1.5;\" width=\"71\" x=\"32.5\" y=\"217.5\"/><text fill=\"#000000\" font-family=\"sans-serif\" font-size=\"12\" font-style=\"italic\" lengthAdjust=\"spacingAndGlyphs\" textLength=\"69\" x=\"33.5\" y=\"233.6387\">«attribute»</text><text fill=\"#000000\" font-family=\"sans-serif\" font-size=\"12\" lengthAdjust=\"spacingAndGlyphs\" textLength=\"6\" x=\"65\" y=\"247.6074\">x</text><line style=\"stroke: #383838; stroke-width: 1.5;\" x1=\"33.5\" x2=\"102.5\" y1=\"255.4375\" y2=\"255.4375\"/></a><!--MD5=[2156ba9850f5573cc1fc38a6a4b2f02b]\n",
       "class E7--><a href=\"psysml:d907cb85-580b-45cd-b69d-b597f081eb5c\" target=\"_top\" title=\"psysml:d907cb85-580b-45cd-b69d-b597f081eb5c\" xlink:actuate=\"onRequest\" xlink:href=\"psysml:d907cb85-580b-45cd-b69d-b597f081eb5c\" xlink:show=\"new\" xlink:title=\"psysml:d907cb85-580b-45cd-b69d-b597f081eb5c\" xlink:type=\"simple\"><rect fill=\"#FFFFFF\" height=\"45.9375\" id=\"E7\" rx=\"10\" ry=\"10\" style=\"stroke: #383838; stroke-width: 1.5;\" width=\"71\" x=\"138.5\" y=\"217.5\"/><text fill=\"#000000\" font-family=\"sans-serif\" font-size=\"12\" font-style=\"italic\" lengthAdjust=\"spacingAndGlyphs\" textLength=\"69\" x=\"139.5\" y=\"233.6387\">«attribute»</text><text fill=\"#000000\" font-family=\"sans-serif\" font-size=\"12\" lengthAdjust=\"spacingAndGlyphs\" textLength=\"6\" x=\"171\" y=\"247.6074\">y</text><line style=\"stroke: #383838; stroke-width: 1.5;\" x1=\"139.5\" x2=\"208.5\" y1=\"255.4375\" y2=\"255.4375\"/></a><!--MD5=[b9389687b975829384b498ac4b7476b2]\n",
       "class E8--><a href=\"psysml:719c36a8-8fd6-40f5-b1aa-2a0e2714a310\" target=\"_top\" title=\"psysml:719c36a8-8fd6-40f5-b1aa-2a0e2714a310\" xlink:actuate=\"onRequest\" xlink:href=\"psysml:719c36a8-8fd6-40f5-b1aa-2a0e2714a310\" xlink:show=\"new\" xlink:title=\"psysml:719c36a8-8fd6-40f5-b1aa-2a0e2714a310\" xlink:type=\"simple\"><rect fill=\"#FFFFFF\" height=\"45.9375\" id=\"E8\" rx=\"10\" ry=\"10\" style=\"stroke: #383838; stroke-width: 1.5;\" width=\"71\" x=\"84.5\" y=\"87.5\"/><text fill=\"#000000\" font-family=\"sans-serif\" font-size=\"12\" font-style=\"italic\" lengthAdjust=\"spacingAndGlyphs\" textLength=\"69\" x=\"85.5\" y=\"103.6387\">«attribute»</text><text fill=\"#000000\" font-family=\"sans-serif\" font-size=\"12\" lengthAdjust=\"spacingAndGlyphs\" textLength=\"5\" x=\"117.5\" y=\"117.6074\">z</text><line style=\"stroke: #383838; stroke-width: 1.5;\" x1=\"85.5\" x2=\"154.5\" y1=\"125.4375\" y2=\"125.4375\"/></a><a href=\"psysml:f4739741-a5ef-49a4-9e06-4bb8a722f77e\" target=\"_top\" title=\"psysml:f4739741-a5ef-49a4-9e06-4bb8a722f77e\" xlink:actuate=\"onRequest\" xlink:href=\"psysml:f4739741-a5ef-49a4-9e06-4bb8a722f77e\" xlink:show=\"new\" xlink:title=\"psysml:f4739741-a5ef-49a4-9e06-4bb8a722f77e\" xlink:type=\"simple\"><polygon fill=\"#FFFFFF\" points=\"271,84,413,84,420,106.2969,427,106.2969,427,136.5938,271,136.5938,271,84\" style=\"stroke: #000000; stroke-width: 1.5;\"/><line style=\"stroke: #000000; stroke-width: 1.5;\" x1=\"271\" x2=\"420\" y1=\"106.2969\" y2=\"106.2969\"/><text fill=\"#000000\" font-family=\"sans-serif\" font-size=\"14\" font-weight=\"bold\" lengthAdjust=\"spacingAndGlyphs\" textLength=\"136\" x=\"275\" y=\"98.9951\">Application Layer</text></a><a href=\"psysml:e1090b77-2219-4e30-afea-75b6451d3a90\" target=\"_top\" title=\"psysml:e1090b77-2219-4e30-afea-75b6451d3a90\" xlink:actuate=\"onRequest\" xlink:href=\"psysml:e1090b77-2219-4e30-afea-75b6451d3a90\" xlink:show=\"new\" xlink:title=\"psysml:e1090b77-2219-4e30-afea-75b6451d3a90\" xlink:type=\"simple\"><polygon fill=\"#FFFFFF\" points=\"285,214,399,214,406,236.2969,413,236.2969,413,266.5938,285,266.5938,285,214\" style=\"stroke: #000000; stroke-width: 1.5;\"/><line style=\"stroke: #000000; stroke-width: 1.5;\" x1=\"285\" x2=\"406\" y1=\"236.2969\" y2=\"236.2969\"/><text fill=\"#000000\" font-family=\"sans-serif\" font-size=\"14\" font-weight=\"bold\" lengthAdjust=\"spacingAndGlyphs\" textLength=\"108\" x=\"289\" y=\"228.9951\">Service Layer</text></a><a href=\"psysml:fe465764-9ab4-44bf-be91-bd692232f0a1\" target=\"_top\" title=\"psysml:fe465764-9ab4-44bf-be91-bd692232f0a1\" xlink:actuate=\"onRequest\" xlink:href=\"psysml:fe465764-9ab4-44bf-be91-bd692232f0a1\" xlink:show=\"new\" xlink:title=\"psysml:fe465764-9ab4-44bf-be91-bd692232f0a1\" xlink:type=\"simple\"><polygon fill=\"#FFFFFF\" points=\"297,344,387,344,394,366.2969,401,366.2969,401,396.5938,297,396.5938,297,344\" style=\"stroke: #000000; stroke-width: 1.5;\"/><line style=\"stroke: #000000; stroke-width: 1.5;\" x1=\"297\" x2=\"394\" y1=\"366.2969\" y2=\"366.2969\"/><text fill=\"#000000\" font-family=\"sans-serif\" font-size=\"14\" font-weight=\"bold\" lengthAdjust=\"spacingAndGlyphs\" textLength=\"84\" x=\"301\" y=\"358.9951\">Data Layer</text></a><!--MD5=[af87c684e3b0d8be13c1a698a818ef1e]\n",
       "link E3 to E4--><a href=\"psysml:f18ad3d3-ddea-4435-b15e-701f5c4039de\" target=\"_top\" title=\"psysml:f18ad3d3-ddea-4435-b15e-701f5c4039de\" xlink:actuate=\"onRequest\" xlink:href=\"psysml:f18ad3d3-ddea-4435-b15e-701f5c4039de\" xlink:show=\"new\" xlink:title=\"psysml:f18ad3d3-ddea-4435-b15e-701f5c4039de\" xlink:type=\"simple\"><path d=\"M349,137.1 C349,156.8 349,184.22 349,205.73 \" fill=\"none\" id=\"E3-&gt;E4\" style=\"stroke: #383838; stroke-width: 1.0; stroke-dasharray: 7.0,7.0;\"/><polygon fill=\"#383838\" points=\"349,213.95,352,205.95,346,205.95,349,213.95\" style=\"stroke: #383838; stroke-width: 1.0;\"/><text fill=\"#000000\" font-family=\"sans-serif\" font-size=\"13\" lengthAdjust=\"spacingAndGlyphs\" textLength=\"64\" x=\"350\" y=\"180.0669\">«depend»</text></a><!--MD5=[1b7591eae5389033d8d09a9d6721a717]\n",
       "link E4 to E5--><a href=\"psysml:22e4e023-3d64-4f1c-8411-ecdb932522c7\" target=\"_top\" title=\"psysml:22e4e023-3d64-4f1c-8411-ecdb932522c7\" xlink:actuate=\"onRequest\" xlink:href=\"psysml:22e4e023-3d64-4f1c-8411-ecdb932522c7\" xlink:show=\"new\" xlink:title=\"psysml:22e4e023-3d64-4f1c-8411-ecdb932522c7\" xlink:type=\"simple\"><path d=\"M349,267.1 C349,286.8 349,314.22 349,335.73 \" fill=\"none\" id=\"E4-&gt;E5\" style=\"stroke: #383838; stroke-width: 1.0; stroke-dasharray: 7.0,7.0;\"/><polygon fill=\"#383838\" points=\"349,343.95,352,335.95,346,335.95,349,343.95\" style=\"stroke: #383838; stroke-width: 1.0;\"/><text fill=\"#000000\" font-family=\"sans-serif\" font-size=\"13\" lengthAdjust=\"spacingAndGlyphs\" textLength=\"64\" x=\"350\" y=\"310.0669\">«depend»</text></a><!--MD5=[c5e8897d989ce984f93528998a7150fe]\n",
       "link E8 to E6--><a href=\"psysml:01d1ab15-dda9-4157-a585-7877f2cc1d47\" target=\"_top\" title=\"psysml:01d1ab15-dda9-4157-a585-7877f2cc1d47\" xlink:actuate=\"onRequest\" xlink:href=\"psysml:01d1ab15-dda9-4157-a585-7877f2cc1d47\" xlink:show=\"new\" xlink:title=\"psysml:01d1ab15-dda9-4157-a585-7877f2cc1d47\" xlink:type=\"simple\"><path d=\"M89.42,133.6 C79.35,142.68 69.37,154.11 64,167 C58.5,180.2 58.66,195.94 60.54,209.38 \" fill=\"none\" id=\"E8-&gt;E6\" style=\"stroke: #383838; stroke-width: 1.0; stroke-dasharray: 7.0,7.0;\"/><polygon fill=\"#383838\" points=\"61.9,217.4,63.517,209.0104,57.6018,210.0159,61.9,217.4\" style=\"stroke: #383838; stroke-width: 1.0;\"/><text fill=\"#000000\" font-family=\"sans-serif\" font-size=\"13\" lengthAdjust=\"spacingAndGlyphs\" textLength=\"64\" x=\"65\" y=\"180.0669\">«depend»</text></a><!--MD5=[bfa3c8b0d15052fdf50ae9310b491027]\n",
       "link E8 to E7--><a href=\"psysml:01d1ab15-dda9-4157-a585-7877f2cc1d47\" target=\"_top\" title=\"psysml:01d1ab15-dda9-4157-a585-7877f2cc1d47\" xlink:actuate=\"onRequest\" xlink:href=\"psysml:01d1ab15-dda9-4157-a585-7877f2cc1d47\" xlink:show=\"new\" xlink:title=\"psysml:01d1ab15-dda9-4157-a585-7877f2cc1d47\" xlink:type=\"simple\"><path d=\"M129.28,133.5 C138.17,154.57 151.64,186.5 161.47,209.81 \" fill=\"none\" id=\"E8-&gt;E7\" style=\"stroke: #383838; stroke-width: 1.0; stroke-dasharray: 7.0,7.0;\"/><polygon fill=\"#383838\" points=\"164.66,217.35,164.3241,208.8126,158.7933,211.1385,164.66,217.35\" style=\"stroke: #383838; stroke-width: 1.0;\"/><text fill=\"#000000\" font-family=\"sans-serif\" font-size=\"13\" lengthAdjust=\"spacingAndGlyphs\" textLength=\"64\" x=\"151\" y=\"180.0669\">«depend»</text></a><!--MD5=[96fbd9287496dc092814a1aa07b7394b]\n",
       "@startuml\r\n",
       "skinparam monochrome true\r\n",
       "skinparam classbackgroundcolor white\r\n",
       "skinparam shadowing false\r\n",
       "skinparam wrapWidth 300\r\n",
       "hide circle\r\n",
       "\r\n",
       "package \"DependencyTest\" as E1  [[psysml:a0e63dae-583d-42a3-9f46-6e6177e563b1 ]]  {\r\n",
       "package \"System\" as E2  [[psysml:90630542-d1db-4cfe-a426-6fd5a6b42885 ]]  {\r\n",
       "package \"Application Layer\" as E3  [[psysml:f4739741-a5ef-49a4-9e06-4bb8a722f77e ]]  {\r\n",
       "}\r\n",
       "package \"Service Layer\" as E4  [[psysml:e1090b77-2219-4e30-afea-75b6451d3a90 ]]  {\r\n",
       "}\r\n",
       "package \"Data Layer\" as E5  [[psysml:fe465764-9ab4-44bf-be91-bd692232f0a1 ]]  {\r\n",
       "}\r\n",
       "}\r\n",
       "comp usage \"x\" as E6  <<(T,blue)attribute>> [[psysml:7440b603-2b18-4efb-9bf4-7832c56b919b ]] {\r\n",
       "}\r\n",
       "comp usage \"y\" as E7  <<(T,blue)attribute>> [[psysml:d907cb85-580b-45cd-b69d-b597f081eb5c ]] {\r\n",
       "}\r\n",
       "comp usage \"z\" as E8  <<(T,blue)attribute>> [[psysml:719c36a8-8fd6-40f5-b1aa-2a0e2714a310 ]] {\r\n",
       "}\r\n",
       "E3 ..>> E4 [[psysml:f18ad3d3-ddea-4435-b15e-701f5c4039de ]] : <<depend>>\r\n",
       "E4 ..>> E5 [[psysml:22e4e023-3d64-4f1c-8411-ecdb932522c7 ]] : <<depend>>\r\n",
       "E8 ..>> E6 [[psysml:01d1ab15-dda9-4157-a585-7877f2cc1d47 ]] : <<depend>>\r\n",
       "E8 ..>> E7 [[psysml:01d1ab15-dda9-4157-a585-7877f2cc1d47 ]] : <<depend>>\r\n",
       "}\r\n",
       "@enduml\r\n",
       "\n",
       "PlantUML version 1.2020.13(Sat Jun 13 12:26:38 UTC 2020)\n",
       "(EPL source distribution)\n",
       "Java Runtime: OpenJDK Runtime Environment\n",
       "JVM: OpenJDK 64-Bit Server VM\n",
       "Default Encoding: UTF-8\n",
       "Language: en\n",
       "Country: null\n",
       "--></g></svg>"
      ]
     },
     "execution_count": 37,
     "metadata": {},
     "output_type": "execute_result"
    }
   ],
   "source": [
    "%viz --style=\"DEFAULT\" --view=\"Default\" \"DependencyTest\""
   ]
  },
  {
   "cell_type": "code",
   "execution_count": 38,
   "id": "4717d00b",
   "metadata": {
    "execution": {
     "iopub.execute_input": "2021-04-21T20:26:07.696489Z",
     "iopub.status.busy": "2021-04-21T20:26:07.695692Z",
     "iopub.status.idle": "2021-04-21T20:26:07.739503Z",
     "shell.execute_reply": "2021-04-21T20:26:07.738033Z"
    }
   },
   "outputs": [
    {
     "data": {
      "image/svg+xml": [
       "<?xml version=\"1.0\" encoding=\"UTF-8\" standalone=\"no\"?><svg xmlns=\"http://www.w3.org/2000/svg\" xmlns:xlink=\"http://www.w3.org/1999/xlink\" contentScriptType=\"application/ecmascript\" contentStyleType=\"text/css\" height=\"449px\" preserveAspectRatio=\"none\" style=\"width:489px;height:449px;\" version=\"1.1\" viewBox=\"0 0 489 449\" width=\"489px\" zoomAndPan=\"magnify\"><defs/><g><!--MD5=[fbc87193dbaf4d95561dea2c320d4a47]\n",
       "cluster E1--><a href=\"psysml:a0e63dae-583d-42a3-9f46-6e6177e563b1\" target=\"_top\" title=\"psysml:a0e63dae-583d-42a3-9f46-6e6177e563b1\" xlink:actuate=\"onRequest\" xlink:href=\"psysml:a0e63dae-583d-42a3-9f46-6e6177e563b1\" xlink:show=\"new\" xlink:title=\"psysml:a0e63dae-583d-42a3-9f46-6e6177e563b1\" xlink:type=\"simple\"><polygon fill=\"#FFFFFF\" points=\"16,6,156,6,163,28.2969,467,28.2969,467,437,16,437,16,6\" style=\"stroke: #000000; stroke-width: 1.5;\"/><line style=\"stroke: #000000; stroke-width: 1.5;\" x1=\"16\" x2=\"163\" y1=\"28.2969\" y2=\"28.2969\"/><text fill=\"#000000\" font-family=\"sans-serif\" font-size=\"14\" font-weight=\"bold\" lengthAdjust=\"spacingAndGlyphs\" textLength=\"134\" x=\"20\" y=\"20.9951\">DependencyTest</text></a><!--MD5=[e4f7fae6ed58524ba242bb0b0d3be6b7]\n",
       "cluster E2--><a href=\"psysml:90630542-d1db-4cfe-a426-6fd5a6b42885\" target=\"_top\" title=\"psysml:90630542-d1db-4cfe-a426-6fd5a6b42885\" xlink:actuate=\"onRequest\" xlink:href=\"psysml:90630542-d1db-4cfe-a426-6fd5a6b42885\" xlink:show=\"new\" xlink:title=\"psysml:90630542-d1db-4cfe-a426-6fd5a6b42885\" xlink:type=\"simple\"><polygon fill=\"#FFFFFF\" points=\"255,49,319,49,326,71.2969,443,71.2969,443,413,255,413,255,49\" style=\"stroke: #000000; stroke-width: 1.5;\"/><line style=\"stroke: #000000; stroke-width: 1.5;\" x1=\"255\" x2=\"326\" y1=\"71.2969\" y2=\"71.2969\"/><text fill=\"#000000\" font-family=\"sans-serif\" font-size=\"14\" font-weight=\"bold\" lengthAdjust=\"spacingAndGlyphs\" textLength=\"58\" x=\"259\" y=\"63.9951\">System</text></a><!--MD5=[60a26617385b1d2d0262a64233df1f8d]\n",
       "class E6--><a href=\"psysml:7440b603-2b18-4efb-9bf4-7832c56b919b\" target=\"_top\" title=\"psysml:7440b603-2b18-4efb-9bf4-7832c56b919b\" xlink:actuate=\"onRequest\" xlink:href=\"psysml:7440b603-2b18-4efb-9bf4-7832c56b919b\" xlink:show=\"new\" xlink:title=\"psysml:7440b603-2b18-4efb-9bf4-7832c56b919b\" xlink:type=\"simple\"><rect fill=\"#FFFFFF\" height=\"45.9375\" id=\"E6\" rx=\"10\" ry=\"10\" style=\"stroke: #383838; stroke-width: 1.5;\" width=\"71\" x=\"32.5\" y=\"217.5\"/><text fill=\"#000000\" font-family=\"sans-serif\" font-size=\"12\" font-style=\"italic\" lengthAdjust=\"spacingAndGlyphs\" textLength=\"69\" x=\"33.5\" y=\"233.6387\">«attribute»</text><text fill=\"#000000\" font-family=\"sans-serif\" font-size=\"12\" lengthAdjust=\"spacingAndGlyphs\" textLength=\"6\" x=\"65\" y=\"247.6074\">x</text><line style=\"stroke: #383838; stroke-width: 1.5;\" x1=\"33.5\" x2=\"102.5\" y1=\"255.4375\" y2=\"255.4375\"/></a><!--MD5=[2156ba9850f5573cc1fc38a6a4b2f02b]\n",
       "class E7--><a href=\"psysml:d907cb85-580b-45cd-b69d-b597f081eb5c\" target=\"_top\" title=\"psysml:d907cb85-580b-45cd-b69d-b597f081eb5c\" xlink:actuate=\"onRequest\" xlink:href=\"psysml:d907cb85-580b-45cd-b69d-b597f081eb5c\" xlink:show=\"new\" xlink:title=\"psysml:d907cb85-580b-45cd-b69d-b597f081eb5c\" xlink:type=\"simple\"><rect fill=\"#FFFFFF\" height=\"45.9375\" id=\"E7\" rx=\"10\" ry=\"10\" style=\"stroke: #383838; stroke-width: 1.5;\" width=\"71\" x=\"138.5\" y=\"217.5\"/><text fill=\"#000000\" font-family=\"sans-serif\" font-size=\"12\" font-style=\"italic\" lengthAdjust=\"spacingAndGlyphs\" textLength=\"69\" x=\"139.5\" y=\"233.6387\">«attribute»</text><text fill=\"#000000\" font-family=\"sans-serif\" font-size=\"12\" lengthAdjust=\"spacingAndGlyphs\" textLength=\"6\" x=\"171\" y=\"247.6074\">y</text><line style=\"stroke: #383838; stroke-width: 1.5;\" x1=\"139.5\" x2=\"208.5\" y1=\"255.4375\" y2=\"255.4375\"/></a><!--MD5=[b9389687b975829384b498ac4b7476b2]\n",
       "class E8--><a href=\"psysml:719c36a8-8fd6-40f5-b1aa-2a0e2714a310\" target=\"_top\" title=\"psysml:719c36a8-8fd6-40f5-b1aa-2a0e2714a310\" xlink:actuate=\"onRequest\" xlink:href=\"psysml:719c36a8-8fd6-40f5-b1aa-2a0e2714a310\" xlink:show=\"new\" xlink:title=\"psysml:719c36a8-8fd6-40f5-b1aa-2a0e2714a310\" xlink:type=\"simple\"><rect fill=\"#FFFFFF\" height=\"45.9375\" id=\"E8\" rx=\"10\" ry=\"10\" style=\"stroke: #383838; stroke-width: 1.5;\" width=\"71\" x=\"84.5\" y=\"87.5\"/><text fill=\"#000000\" font-family=\"sans-serif\" font-size=\"12\" font-style=\"italic\" lengthAdjust=\"spacingAndGlyphs\" textLength=\"69\" x=\"85.5\" y=\"103.6387\">«attribute»</text><text fill=\"#000000\" font-family=\"sans-serif\" font-size=\"12\" lengthAdjust=\"spacingAndGlyphs\" textLength=\"5\" x=\"117.5\" y=\"117.6074\">z</text><line style=\"stroke: #383838; stroke-width: 1.5;\" x1=\"85.5\" x2=\"154.5\" y1=\"125.4375\" y2=\"125.4375\"/></a><a href=\"psysml:f4739741-a5ef-49a4-9e06-4bb8a722f77e\" target=\"_top\" title=\"psysml:f4739741-a5ef-49a4-9e06-4bb8a722f77e\" xlink:actuate=\"onRequest\" xlink:href=\"psysml:f4739741-a5ef-49a4-9e06-4bb8a722f77e\" xlink:show=\"new\" xlink:title=\"psysml:f4739741-a5ef-49a4-9e06-4bb8a722f77e\" xlink:type=\"simple\"><polygon fill=\"#FFFFFF\" points=\"271,84,413,84,420,106.2969,427,106.2969,427,136.5938,271,136.5938,271,84\" style=\"stroke: #000000; stroke-width: 1.5;\"/><line style=\"stroke: #000000; stroke-width: 1.5;\" x1=\"271\" x2=\"420\" y1=\"106.2969\" y2=\"106.2969\"/><text fill=\"#000000\" font-family=\"sans-serif\" font-size=\"14\" font-weight=\"bold\" lengthAdjust=\"spacingAndGlyphs\" textLength=\"136\" x=\"275\" y=\"98.9951\">Application Layer</text></a><a href=\"psysml:e1090b77-2219-4e30-afea-75b6451d3a90\" target=\"_top\" title=\"psysml:e1090b77-2219-4e30-afea-75b6451d3a90\" xlink:actuate=\"onRequest\" xlink:href=\"psysml:e1090b77-2219-4e30-afea-75b6451d3a90\" xlink:show=\"new\" xlink:title=\"psysml:e1090b77-2219-4e30-afea-75b6451d3a90\" xlink:type=\"simple\"><polygon fill=\"#FFFFFF\" points=\"285,214,399,214,406,236.2969,413,236.2969,413,266.5938,285,266.5938,285,214\" style=\"stroke: #000000; stroke-width: 1.5;\"/><line style=\"stroke: #000000; stroke-width: 1.5;\" x1=\"285\" x2=\"406\" y1=\"236.2969\" y2=\"236.2969\"/><text fill=\"#000000\" font-family=\"sans-serif\" font-size=\"14\" font-weight=\"bold\" lengthAdjust=\"spacingAndGlyphs\" textLength=\"108\" x=\"289\" y=\"228.9951\">Service Layer</text></a><a href=\"psysml:fe465764-9ab4-44bf-be91-bd692232f0a1\" target=\"_top\" title=\"psysml:fe465764-9ab4-44bf-be91-bd692232f0a1\" xlink:actuate=\"onRequest\" xlink:href=\"psysml:fe465764-9ab4-44bf-be91-bd692232f0a1\" xlink:show=\"new\" xlink:title=\"psysml:fe465764-9ab4-44bf-be91-bd692232f0a1\" xlink:type=\"simple\"><polygon fill=\"#FFFFFF\" points=\"297,344,387,344,394,366.2969,401,366.2969,401,396.5938,297,396.5938,297,344\" style=\"stroke: #000000; stroke-width: 1.5;\"/><line style=\"stroke: #000000; stroke-width: 1.5;\" x1=\"297\" x2=\"394\" y1=\"366.2969\" y2=\"366.2969\"/><text fill=\"#000000\" font-family=\"sans-serif\" font-size=\"14\" font-weight=\"bold\" lengthAdjust=\"spacingAndGlyphs\" textLength=\"84\" x=\"301\" y=\"358.9951\">Data Layer</text></a><!--MD5=[af87c684e3b0d8be13c1a698a818ef1e]\n",
       "link E3 to E4--><a href=\"psysml:f18ad3d3-ddea-4435-b15e-701f5c4039de\" target=\"_top\" title=\"psysml:f18ad3d3-ddea-4435-b15e-701f5c4039de\" xlink:actuate=\"onRequest\" xlink:href=\"psysml:f18ad3d3-ddea-4435-b15e-701f5c4039de\" xlink:show=\"new\" xlink:title=\"psysml:f18ad3d3-ddea-4435-b15e-701f5c4039de\" xlink:type=\"simple\"><path d=\"M349,137.1 C349,156.8 349,184.22 349,205.73 \" fill=\"none\" id=\"E3-&gt;E4\" style=\"stroke: #383838; stroke-width: 1.0; stroke-dasharray: 7.0,7.0;\"/><polygon fill=\"#383838\" points=\"349,213.95,352,205.95,346,205.95,349,213.95\" style=\"stroke: #383838; stroke-width: 1.0;\"/><text fill=\"#000000\" font-family=\"sans-serif\" font-size=\"13\" lengthAdjust=\"spacingAndGlyphs\" textLength=\"64\" x=\"350\" y=\"180.0669\">«depend»</text></a><!--MD5=[1b7591eae5389033d8d09a9d6721a717]\n",
       "link E4 to E5--><a href=\"psysml:22e4e023-3d64-4f1c-8411-ecdb932522c7\" target=\"_top\" title=\"psysml:22e4e023-3d64-4f1c-8411-ecdb932522c7\" xlink:actuate=\"onRequest\" xlink:href=\"psysml:22e4e023-3d64-4f1c-8411-ecdb932522c7\" xlink:show=\"new\" xlink:title=\"psysml:22e4e023-3d64-4f1c-8411-ecdb932522c7\" xlink:type=\"simple\"><path d=\"M349,267.1 C349,286.8 349,314.22 349,335.73 \" fill=\"none\" id=\"E4-&gt;E5\" style=\"stroke: #383838; stroke-width: 1.0; stroke-dasharray: 7.0,7.0;\"/><polygon fill=\"#383838\" points=\"349,343.95,352,335.95,346,335.95,349,343.95\" style=\"stroke: #383838; stroke-width: 1.0;\"/><text fill=\"#000000\" font-family=\"sans-serif\" font-size=\"13\" lengthAdjust=\"spacingAndGlyphs\" textLength=\"64\" x=\"350\" y=\"310.0669\">«depend»</text></a><!--MD5=[c5e8897d989ce984f93528998a7150fe]\n",
       "link E8 to E6--><a href=\"psysml:01d1ab15-dda9-4157-a585-7877f2cc1d47\" target=\"_top\" title=\"psysml:01d1ab15-dda9-4157-a585-7877f2cc1d47\" xlink:actuate=\"onRequest\" xlink:href=\"psysml:01d1ab15-dda9-4157-a585-7877f2cc1d47\" xlink:show=\"new\" xlink:title=\"psysml:01d1ab15-dda9-4157-a585-7877f2cc1d47\" xlink:type=\"simple\"><path d=\"M89.42,133.6 C79.35,142.68 69.37,154.11 64,167 C58.5,180.2 58.66,195.94 60.54,209.38 \" fill=\"none\" id=\"E8-&gt;E6\" style=\"stroke: #383838; stroke-width: 1.0; stroke-dasharray: 7.0,7.0;\"/><polygon fill=\"#383838\" points=\"61.9,217.4,63.517,209.0104,57.6018,210.0159,61.9,217.4\" style=\"stroke: #383838; stroke-width: 1.0;\"/><text fill=\"#000000\" font-family=\"sans-serif\" font-size=\"13\" lengthAdjust=\"spacingAndGlyphs\" textLength=\"64\" x=\"65\" y=\"180.0669\">«depend»</text></a><!--MD5=[bfa3c8b0d15052fdf50ae9310b491027]\n",
       "link E8 to E7--><a href=\"psysml:01d1ab15-dda9-4157-a585-7877f2cc1d47\" target=\"_top\" title=\"psysml:01d1ab15-dda9-4157-a585-7877f2cc1d47\" xlink:actuate=\"onRequest\" xlink:href=\"psysml:01d1ab15-dda9-4157-a585-7877f2cc1d47\" xlink:show=\"new\" xlink:title=\"psysml:01d1ab15-dda9-4157-a585-7877f2cc1d47\" xlink:type=\"simple\"><path d=\"M129.28,133.5 C138.17,154.57 151.64,186.5 161.47,209.81 \" fill=\"none\" id=\"E8-&gt;E7\" style=\"stroke: #383838; stroke-width: 1.0; stroke-dasharray: 7.0,7.0;\"/><polygon fill=\"#383838\" points=\"164.66,217.35,164.3241,208.8126,158.7933,211.1385,164.66,217.35\" style=\"stroke: #383838; stroke-width: 1.0;\"/><text fill=\"#000000\" font-family=\"sans-serif\" font-size=\"13\" lengthAdjust=\"spacingAndGlyphs\" textLength=\"64\" x=\"151\" y=\"180.0669\">«depend»</text></a><!--MD5=[96fbd9287496dc092814a1aa07b7394b]\n",
       "@startuml\r\n",
       "skinparam monochrome true\r\n",
       "skinparam classbackgroundcolor white\r\n",
       "skinparam shadowing false\r\n",
       "skinparam wrapWidth 300\r\n",
       "hide circle\r\n",
       "\r\n",
       "package \"DependencyTest\" as E1  [[psysml:a0e63dae-583d-42a3-9f46-6e6177e563b1 ]]  {\r\n",
       "package \"System\" as E2  [[psysml:90630542-d1db-4cfe-a426-6fd5a6b42885 ]]  {\r\n",
       "package \"Application Layer\" as E3  [[psysml:f4739741-a5ef-49a4-9e06-4bb8a722f77e ]]  {\r\n",
       "}\r\n",
       "package \"Service Layer\" as E4  [[psysml:e1090b77-2219-4e30-afea-75b6451d3a90 ]]  {\r\n",
       "}\r\n",
       "package \"Data Layer\" as E5  [[psysml:fe465764-9ab4-44bf-be91-bd692232f0a1 ]]  {\r\n",
       "}\r\n",
       "}\r\n",
       "comp usage \"x\" as E6  <<(T,blue)attribute>> [[psysml:7440b603-2b18-4efb-9bf4-7832c56b919b ]] {\r\n",
       "}\r\n",
       "comp usage \"y\" as E7  <<(T,blue)attribute>> [[psysml:d907cb85-580b-45cd-b69d-b597f081eb5c ]] {\r\n",
       "}\r\n",
       "comp usage \"z\" as E8  <<(T,blue)attribute>> [[psysml:719c36a8-8fd6-40f5-b1aa-2a0e2714a310 ]] {\r\n",
       "}\r\n",
       "E3 ..>> E4 [[psysml:f18ad3d3-ddea-4435-b15e-701f5c4039de ]] : <<depend>>\r\n",
       "E4 ..>> E5 [[psysml:22e4e023-3d64-4f1c-8411-ecdb932522c7 ]] : <<depend>>\r\n",
       "E8 ..>> E6 [[psysml:01d1ab15-dda9-4157-a585-7877f2cc1d47 ]] : <<depend>>\r\n",
       "E8 ..>> E7 [[psysml:01d1ab15-dda9-4157-a585-7877f2cc1d47 ]] : <<depend>>\r\n",
       "}\r\n",
       "@enduml\r\n",
       "\n",
       "PlantUML version 1.2020.13(Sat Jun 13 12:26:38 UTC 2020)\n",
       "(EPL source distribution)\n",
       "Java Runtime: OpenJDK Runtime Environment\n",
       "JVM: OpenJDK 64-Bit Server VM\n",
       "Default Encoding: UTF-8\n",
       "Language: en\n",
       "Country: null\n",
       "--></g></svg>"
      ]
     },
     "execution_count": 38,
     "metadata": {},
     "output_type": "execute_result"
    }
   ],
   "source": [
    "%viz --style=\"DEFAULT\" --view=\"Tree\" \"DependencyTest\""
   ]
  },
  {
   "cell_type": "code",
   "execution_count": 39,
   "id": "30e43362",
   "metadata": {
    "execution": {
     "iopub.execute_input": "2021-04-21T20:26:07.789397Z",
     "iopub.status.busy": "2021-04-21T20:26:07.788894Z",
     "iopub.status.idle": "2021-04-21T20:26:07.794681Z",
     "shell.execute_reply": "2021-04-21T20:26:07.794205Z"
    }
   },
   "outputs": [
    {
     "data": {
      "image/svg+xml": [
       "<?xml version=\"1.0\" encoding=\"UTF-8\" standalone=\"no\"?><svg xmlns=\"http://www.w3.org/2000/svg\" xmlns:xlink=\"http://www.w3.org/1999/xlink\" contentScriptType=\"application/ecmascript\" contentStyleType=\"text/css\" height=\"12px\" preserveAspectRatio=\"none\" style=\"width:12px;height:12px;\" version=\"1.1\" viewBox=\"0 0 12 12\" width=\"12px\" zoomAndPan=\"magnify\"><defs/><g><!--MD5=[c5f280e076d0d61ccf4b0f27871bda1d]\n",
       "@startuml\r\n",
       "skinparam monochrome true\r\n",
       "skinparam classbackgroundcolor white\r\n",
       "skinparam shadowing false\r\n",
       "skinparam wrapWidth 300\r\n",
       "hide circle\r\n",
       "\r\n",
       "@enduml\r\n",
       "\n",
       "PlantUML version 1.2020.13(Sat Jun 13 12:26:38 UTC 2020)\n",
       "(EPL source distribution)\n",
       "Java Runtime: OpenJDK Runtime Environment\n",
       "JVM: OpenJDK 64-Bit Server VM\n",
       "Default Encoding: UTF-8\n",
       "Language: en\n",
       "Country: null\n",
       "--></g></svg>"
      ]
     },
     "execution_count": 39,
     "metadata": {},
     "output_type": "execute_result"
    }
   ],
   "source": [
    "%viz --style=\"DEFAULT\" --view=\"State\" \"DependencyTest\""
   ]
  },
  {
   "cell_type": "code",
   "execution_count": 40,
   "id": "e97f43f8",
   "metadata": {
    "execution": {
     "iopub.execute_input": "2021-04-21T20:26:07.845841Z",
     "iopub.status.busy": "2021-04-21T20:26:07.845267Z",
     "iopub.status.idle": "2021-04-21T20:26:07.879503Z",
     "shell.execute_reply": "2021-04-21T20:26:07.879762Z"
    }
   },
   "outputs": [
    {
     "data": {
      "image/svg+xml": [
       "<?xml version=\"1.0\" encoding=\"UTF-8\" standalone=\"no\"?><svg xmlns=\"http://www.w3.org/2000/svg\" xmlns:xlink=\"http://www.w3.org/1999/xlink\" contentScriptType=\"application/ecmascript\" contentStyleType=\"text/css\" height=\"361px\" preserveAspectRatio=\"none\" style=\"width:489px;height:361px;\" version=\"1.1\" viewBox=\"0 0 489 361\" width=\"489px\" zoomAndPan=\"magnify\"><defs/><g><!--MD5=[fbc87193dbaf4d95561dea2c320d4a47]\n",
       "cluster E1--><a href=\"psysml:a0e63dae-583d-42a3-9f46-6e6177e563b1\" target=\"_top\" title=\"psysml:a0e63dae-583d-42a3-9f46-6e6177e563b1\" xlink:actuate=\"onRequest\" xlink:href=\"psysml:a0e63dae-583d-42a3-9f46-6e6177e563b1\" xlink:show=\"new\" xlink:title=\"psysml:a0e63dae-583d-42a3-9f46-6e6177e563b1\" xlink:type=\"simple\"><polygon fill=\"#FFFFFF\" points=\"16,6,156,6,163,28.2969,467,28.2969,467,349,16,349,16,6\" style=\"stroke: #000000; stroke-width: 1.5;\"/><line style=\"stroke: #000000; stroke-width: 1.5;\" x1=\"16\" x2=\"163\" y1=\"28.2969\" y2=\"28.2969\"/><text fill=\"#000000\" font-family=\"sans-serif\" font-size=\"14\" font-weight=\"bold\" lengthAdjust=\"spacingAndGlyphs\" textLength=\"134\" x=\"20\" y=\"20.9951\">DependencyTest</text></a><!--MD5=[e4f7fae6ed58524ba242bb0b0d3be6b7]\n",
       "cluster E2--><a href=\"psysml:90630542-d1db-4cfe-a426-6fd5a6b42885\" target=\"_top\" title=\"psysml:90630542-d1db-4cfe-a426-6fd5a6b42885\" xlink:actuate=\"onRequest\" xlink:href=\"psysml:90630542-d1db-4cfe-a426-6fd5a6b42885\" xlink:show=\"new\" xlink:title=\"psysml:90630542-d1db-4cfe-a426-6fd5a6b42885\" xlink:type=\"simple\"><polygon fill=\"#FFFFFF\" points=\"255,49,319,49,326,71.2969,443,71.2969,443,325,255,325,255,49\" style=\"stroke: #000000; stroke-width: 1.5;\"/><line style=\"stroke: #000000; stroke-width: 1.5;\" x1=\"255\" x2=\"326\" y1=\"71.2969\" y2=\"71.2969\"/><text fill=\"#000000\" font-family=\"sans-serif\" font-size=\"14\" font-weight=\"bold\" lengthAdjust=\"spacingAndGlyphs\" textLength=\"58\" x=\"259\" y=\"63.9951\">System</text></a><!--MD5=[60a26617385b1d2d0262a64233df1f8d]\n",
       "class E6--><a href=\"psysml:7440b603-2b18-4efb-9bf4-7832c56b919b\" target=\"_top\" title=\"psysml:7440b603-2b18-4efb-9bf4-7832c56b919b\" xlink:actuate=\"onRequest\" xlink:href=\"psysml:7440b603-2b18-4efb-9bf4-7832c56b919b\" xlink:show=\"new\" xlink:title=\"psysml:7440b603-2b18-4efb-9bf4-7832c56b919b\" xlink:type=\"simple\"><rect fill=\"#FFFFFF\" height=\"45.9375\" id=\"E6\" rx=\"10\" ry=\"10\" style=\"stroke: #383838; stroke-width: 1.5;\" width=\"71\" x=\"32.5\" y=\"173.5\"/><text fill=\"#000000\" font-family=\"sans-serif\" font-size=\"12\" font-style=\"italic\" lengthAdjust=\"spacingAndGlyphs\" textLength=\"69\" x=\"33.5\" y=\"189.6387\">«attribute»</text><text fill=\"#000000\" font-family=\"sans-serif\" font-size=\"12\" lengthAdjust=\"spacingAndGlyphs\" textLength=\"6\" x=\"65\" y=\"203.6074\">x</text><line style=\"stroke: #383838; stroke-width: 1.5;\" x1=\"33.5\" x2=\"102.5\" y1=\"211.4375\" y2=\"211.4375\"/></a><!--MD5=[2156ba9850f5573cc1fc38a6a4b2f02b]\n",
       "class E7--><a href=\"psysml:d907cb85-580b-45cd-b69d-b597f081eb5c\" target=\"_top\" title=\"psysml:d907cb85-580b-45cd-b69d-b597f081eb5c\" xlink:actuate=\"onRequest\" xlink:href=\"psysml:d907cb85-580b-45cd-b69d-b597f081eb5c\" xlink:show=\"new\" xlink:title=\"psysml:d907cb85-580b-45cd-b69d-b597f081eb5c\" xlink:type=\"simple\"><rect fill=\"#FFFFFF\" height=\"45.9375\" id=\"E7\" rx=\"10\" ry=\"10\" style=\"stroke: #383838; stroke-width: 1.5;\" width=\"71\" x=\"138.5\" y=\"173.5\"/><text fill=\"#000000\" font-family=\"sans-serif\" font-size=\"12\" font-style=\"italic\" lengthAdjust=\"spacingAndGlyphs\" textLength=\"69\" x=\"139.5\" y=\"189.6387\">«attribute»</text><text fill=\"#000000\" font-family=\"sans-serif\" font-size=\"12\" lengthAdjust=\"spacingAndGlyphs\" textLength=\"6\" x=\"171\" y=\"203.6074\">y</text><line style=\"stroke: #383838; stroke-width: 1.5;\" x1=\"139.5\" x2=\"208.5\" y1=\"211.4375\" y2=\"211.4375\"/></a><!--MD5=[b9389687b975829384b498ac4b7476b2]\n",
       "class E8--><a href=\"psysml:719c36a8-8fd6-40f5-b1aa-2a0e2714a310\" target=\"_top\" title=\"psysml:719c36a8-8fd6-40f5-b1aa-2a0e2714a310\" xlink:actuate=\"onRequest\" xlink:href=\"psysml:719c36a8-8fd6-40f5-b1aa-2a0e2714a310\" xlink:show=\"new\" xlink:title=\"psysml:719c36a8-8fd6-40f5-b1aa-2a0e2714a310\" xlink:type=\"simple\"><rect fill=\"#FFFFFF\" height=\"45.9375\" id=\"E8\" rx=\"10\" ry=\"10\" style=\"stroke: #383838; stroke-width: 1.5;\" width=\"71\" x=\"84.5\" y=\"87.5\"/><text fill=\"#000000\" font-family=\"sans-serif\" font-size=\"12\" font-style=\"italic\" lengthAdjust=\"spacingAndGlyphs\" textLength=\"69\" x=\"85.5\" y=\"103.6387\">«attribute»</text><text fill=\"#000000\" font-family=\"sans-serif\" font-size=\"12\" lengthAdjust=\"spacingAndGlyphs\" textLength=\"5\" x=\"117.5\" y=\"117.6074\">z</text><line style=\"stroke: #383838; stroke-width: 1.5;\" x1=\"85.5\" x2=\"154.5\" y1=\"125.4375\" y2=\"125.4375\"/></a><a href=\"psysml:f4739741-a5ef-49a4-9e06-4bb8a722f77e\" target=\"_top\" title=\"psysml:f4739741-a5ef-49a4-9e06-4bb8a722f77e\" xlink:actuate=\"onRequest\" xlink:href=\"psysml:f4739741-a5ef-49a4-9e06-4bb8a722f77e\" xlink:show=\"new\" xlink:title=\"psysml:f4739741-a5ef-49a4-9e06-4bb8a722f77e\" xlink:type=\"simple\"><polygon fill=\"#FFFFFF\" points=\"271,84,413,84,420,106.2969,427,106.2969,427,136.5938,271,136.5938,271,84\" style=\"stroke: #000000; stroke-width: 1.5;\"/><line style=\"stroke: #000000; stroke-width: 1.5;\" x1=\"271\" x2=\"420\" y1=\"106.2969\" y2=\"106.2969\"/><text fill=\"#000000\" font-family=\"sans-serif\" font-size=\"14\" font-weight=\"bold\" lengthAdjust=\"spacingAndGlyphs\" textLength=\"136\" x=\"275\" y=\"98.9951\">Application Layer</text></a><a href=\"psysml:e1090b77-2219-4e30-afea-75b6451d3a90\" target=\"_top\" title=\"psysml:e1090b77-2219-4e30-afea-75b6451d3a90\" xlink:actuate=\"onRequest\" xlink:href=\"psysml:e1090b77-2219-4e30-afea-75b6451d3a90\" xlink:show=\"new\" xlink:title=\"psysml:e1090b77-2219-4e30-afea-75b6451d3a90\" xlink:type=\"simple\"><polygon fill=\"#FFFFFF\" points=\"285,170,399,170,406,192.2969,413,192.2969,413,222.5938,285,222.5938,285,170\" style=\"stroke: #000000; stroke-width: 1.5;\"/><line style=\"stroke: #000000; stroke-width: 1.5;\" x1=\"285\" x2=\"406\" y1=\"192.2969\" y2=\"192.2969\"/><text fill=\"#000000\" font-family=\"sans-serif\" font-size=\"14\" font-weight=\"bold\" lengthAdjust=\"spacingAndGlyphs\" textLength=\"108\" x=\"289\" y=\"184.9951\">Service Layer</text></a><a href=\"psysml:fe465764-9ab4-44bf-be91-bd692232f0a1\" target=\"_top\" title=\"psysml:fe465764-9ab4-44bf-be91-bd692232f0a1\" xlink:actuate=\"onRequest\" xlink:href=\"psysml:fe465764-9ab4-44bf-be91-bd692232f0a1\" xlink:show=\"new\" xlink:title=\"psysml:fe465764-9ab4-44bf-be91-bd692232f0a1\" xlink:type=\"simple\"><polygon fill=\"#FFFFFF\" points=\"297,256,387,256,394,278.2969,401,278.2969,401,308.5938,297,308.5938,297,256\" style=\"stroke: #000000; stroke-width: 1.5;\"/><line style=\"stroke: #000000; stroke-width: 1.5;\" x1=\"297\" x2=\"394\" y1=\"278.2969\" y2=\"278.2969\"/><text fill=\"#000000\" font-family=\"sans-serif\" font-size=\"14\" font-weight=\"bold\" lengthAdjust=\"spacingAndGlyphs\" textLength=\"84\" x=\"301\" y=\"270.9951\">Data Layer</text></a><!--MD5=[af87c684e3b0d8be13c1a698a818ef1e]\n",
       "link E3 to E4--><a href=\"psysml:f18ad3d3-ddea-4435-b15e-701f5c4039de\" target=\"_top\" title=\"psysml:f18ad3d3-ddea-4435-b15e-701f5c4039de\" xlink:actuate=\"onRequest\" xlink:href=\"psysml:f18ad3d3-ddea-4435-b15e-701f5c4039de\" xlink:show=\"new\" xlink:title=\"psysml:f18ad3d3-ddea-4435-b15e-701f5c4039de\" xlink:type=\"simple\"><path d=\"M349,137.16 C349,144.98 349,153.69 349,161.94 \" fill=\"none\" id=\"E3-&gt;E4\" style=\"stroke: #383838; stroke-width: 1.0; stroke-dasharray: 7.0,7.0;\"/><polygon fill=\"#383838\" points=\"349,170,352,162,346,162,349,170\" style=\"stroke: #383838; stroke-width: 1.0;\"/><text fill=\"#000000\" font-family=\"sans-serif\" font-size=\"13\" lengthAdjust=\"spacingAndGlyphs\" textLength=\"64\" x=\"350\" y=\"158.0669\">«depend»</text></a><!--MD5=[1b7591eae5389033d8d09a9d6721a717]\n",
       "link E4 to E5--><a href=\"psysml:22e4e023-3d64-4f1c-8411-ecdb932522c7\" target=\"_top\" title=\"psysml:22e4e023-3d64-4f1c-8411-ecdb932522c7\" xlink:actuate=\"onRequest\" xlink:href=\"psysml:22e4e023-3d64-4f1c-8411-ecdb932522c7\" xlink:show=\"new\" xlink:title=\"psysml:22e4e023-3d64-4f1c-8411-ecdb932522c7\" xlink:type=\"simple\"><path d=\"M349,223.16 C349,230.98 349,239.69 349,247.94 \" fill=\"none\" id=\"E4-&gt;E5\" style=\"stroke: #383838; stroke-width: 1.0; stroke-dasharray: 7.0,7.0;\"/><polygon fill=\"#383838\" points=\"349,256,352,248,346,248,349,256\" style=\"stroke: #383838; stroke-width: 1.0;\"/><text fill=\"#000000\" font-family=\"sans-serif\" font-size=\"13\" lengthAdjust=\"spacingAndGlyphs\" textLength=\"64\" x=\"350\" y=\"244.0669\">«depend»</text></a><!--MD5=[c5e8897d989ce984f93528998a7150fe]\n",
       "link E8 to E6--><a href=\"psysml:01d1ab15-dda9-4157-a585-7877f2cc1d47\" target=\"_top\" title=\"psysml:01d1ab15-dda9-4157-a585-7877f2cc1d47\" xlink:actuate=\"onRequest\" xlink:href=\"psysml:01d1ab15-dda9-4157-a585-7877f2cc1d47\" xlink:show=\"new\" xlink:title=\"psysml:01d1ab15-dda9-4157-a585-7877f2cc1d47\" xlink:type=\"simple\"><path d=\"M84.49,125.34 C76.34,130.27 68.69,136.72 64,145 C60.54,151.1 59.62,158.31 60,165.33 \" fill=\"none\" id=\"E8-&gt;E6\" style=\"stroke: #383838; stroke-width: 1.0; stroke-dasharray: 7.0,7.0;\"/><polygon fill=\"#383838\" points=\"60.97,173.42,63.0061,165.1221,57.0479,165.8294,60.97,173.42\" style=\"stroke: #383838; stroke-width: 1.0;\"/><text fill=\"#000000\" font-family=\"sans-serif\" font-size=\"13\" lengthAdjust=\"spacingAndGlyphs\" textLength=\"64\" x=\"65\" y=\"158.0669\">«depend»</text></a><!--MD5=[bfa3c8b0d15052fdf50ae9310b491027]\n",
       "link E8 to E7--><a href=\"psysml:01d1ab15-dda9-4157-a585-7877f2cc1d47\" target=\"_top\" title=\"psysml:01d1ab15-dda9-4157-a585-7877f2cc1d47\" xlink:actuate=\"onRequest\" xlink:href=\"psysml:01d1ab15-dda9-4157-a585-7877f2cc1d47\" xlink:show=\"new\" xlink:title=\"psysml:01d1ab15-dda9-4157-a585-7877f2cc1d47\" xlink:type=\"simple\"><path d=\"M134.19,133.57 C140.65,143.62 148.38,155.65 155.31,166.42 \" fill=\"none\" id=\"E8-&gt;E7\" style=\"stroke: #383838; stroke-width: 1.0; stroke-dasharray: 7.0,7.0;\"/><polygon fill=\"#383838\" points=\"159.72,173.29,157.9148,164.9389,152.8688,168.185,159.72,173.29\" style=\"stroke: #383838; stroke-width: 1.0;\"/><text fill=\"#000000\" font-family=\"sans-serif\" font-size=\"13\" lengthAdjust=\"spacingAndGlyphs\" textLength=\"64\" x=\"152\" y=\"158.0669\">«depend»</text></a><!--MD5=[40f34e2b5f3dbd94bf91805d1143bacc]\n",
       "@startuml\r\n",
       "skinparam ranksep 10\r\n",
       "skinparam rectangle {\r\n",
       " backgroundColor<<block>> LightGreen\r\n",
       "}\r\n",
       "skinparam monochrome true\r\n",
       "skinparam classbackgroundcolor white\r\n",
       "skinparam shadowing false\r\n",
       "skinparam wrapWidth 300\r\n",
       "hide circle\r\n",
       "\r\n",
       "package \"DependencyTest\" as E1  [[psysml:a0e63dae-583d-42a3-9f46-6e6177e563b1 ]]  {\r\n",
       "package \"System\" as E2  [[psysml:90630542-d1db-4cfe-a426-6fd5a6b42885 ]]  {\r\n",
       "package \"Application Layer\" as E3  [[psysml:f4739741-a5ef-49a4-9e06-4bb8a722f77e ]]  {\r\n",
       "}\r\n",
       "package \"Service Layer\" as E4  [[psysml:e1090b77-2219-4e30-afea-75b6451d3a90 ]]  {\r\n",
       "}\r\n",
       "package \"Data Layer\" as E5  [[psysml:fe465764-9ab4-44bf-be91-bd692232f0a1 ]]  {\r\n",
       "}\r\n",
       "}\r\n",
       "comp usage \"x\" as E6  <<(T,blue)attribute>> [[psysml:7440b603-2b18-4efb-9bf4-7832c56b919b ]] {\r\n",
       "}\r\n",
       "comp usage \"y\" as E7  <<(T,blue)attribute>> [[psysml:d907cb85-580b-45cd-b69d-b597f081eb5c ]] {\r\n",
       "}\r\n",
       "comp usage \"z\" as E8  <<(T,blue)attribute>> [[psysml:719c36a8-8fd6-40f5-b1aa-2a0e2714a310 ]] {\r\n",
       "}\r\n",
       "E3 ..>> E4 [[psysml:f18ad3d3-ddea-4435-b15e-701f5c4039de ]] : <<depend>>\r\n",
       "E4 ..>> E5 [[psysml:22e4e023-3d64-4f1c-8411-ecdb932522c7 ]] : <<depend>>\r\n",
       "E8 ..>> E6 [[psysml:01d1ab15-dda9-4157-a585-7877f2cc1d47 ]] : <<depend>>\r\n",
       "E8 ..>> E7 [[psysml:01d1ab15-dda9-4157-a585-7877f2cc1d47 ]] : <<depend>>\r\n",
       "}\r\n",
       "@enduml\r\n",
       "\n",
       "PlantUML version 1.2020.13(Sat Jun 13 12:26:38 UTC 2020)\n",
       "(EPL source distribution)\n",
       "Java Runtime: OpenJDK Runtime Environment\n",
       "JVM: OpenJDK 64-Bit Server VM\n",
       "Default Encoding: UTF-8\n",
       "Language: en\n",
       "Country: null\n",
       "--></g></svg>"
      ]
     },
     "execution_count": 40,
     "metadata": {},
     "output_type": "execute_result"
    }
   ],
   "source": [
    "%viz --style=\"DEFAULT\" --view=\"Interconnection\" \"DependencyTest\""
   ]
  },
  {
   "cell_type": "code",
   "execution_count": 41,
   "id": "e4c18a2e",
   "metadata": {
    "execution": {
     "iopub.execute_input": "2021-04-21T20:26:07.931415Z",
     "iopub.status.busy": "2021-04-21T20:26:07.930916Z",
     "iopub.status.idle": "2021-04-21T20:26:07.934985Z",
     "shell.execute_reply": "2021-04-21T20:26:07.935229Z"
    }
   },
   "outputs": [
    {
     "data": {
      "image/svg+xml": [
       "<?xml version=\"1.0\" encoding=\"UTF-8\" standalone=\"no\"?><svg xmlns=\"http://www.w3.org/2000/svg\" xmlns:xlink=\"http://www.w3.org/1999/xlink\" contentScriptType=\"application/ecmascript\" contentStyleType=\"text/css\" height=\"12px\" preserveAspectRatio=\"none\" style=\"width:12px;height:12px;\" version=\"1.1\" viewBox=\"0 0 12 12\" width=\"12px\" zoomAndPan=\"magnify\"><defs/><g><!--MD5=[388f21188e31bfdd97050473b19af356]\n",
       "@startuml\r\n",
       "skinparam ranksep 8\r\n",
       "skinparam monochrome true\r\n",
       "skinparam classbackgroundcolor white\r\n",
       "skinparam shadowing false\r\n",
       "skinparam wrapWidth 300\r\n",
       "hide circle\r\n",
       "\r\n",
       "@enduml\r\n",
       "\n",
       "PlantUML version 1.2020.13(Sat Jun 13 12:26:38 UTC 2020)\n",
       "(EPL source distribution)\n",
       "Java Runtime: OpenJDK Runtime Environment\n",
       "JVM: OpenJDK 64-Bit Server VM\n",
       "Default Encoding: UTF-8\n",
       "Language: en\n",
       "Country: null\n",
       "--></g></svg>"
      ]
     },
     "execution_count": 41,
     "metadata": {},
     "output_type": "execute_result"
    }
   ],
   "source": [
    "%viz --style=\"DEFAULT\" --view=\"Action\" \"DependencyTest\""
   ]
  },
  {
   "cell_type": "code",
   "execution_count": 42,
   "id": "413d5016",
   "metadata": {
    "execution": {
     "iopub.execute_input": "2021-04-21T20:26:07.986509Z",
     "iopub.status.busy": "2021-04-21T20:26:07.986107Z",
     "iopub.status.idle": "2021-04-21T20:26:08.021422Z",
     "shell.execute_reply": "2021-04-21T20:26:08.020138Z"
    }
   },
   "outputs": [
    {
     "data": {
      "image/svg+xml": [
       "<?xml version=\"1.0\" encoding=\"UTF-8\" standalone=\"no\"?><svg xmlns=\"http://www.w3.org/2000/svg\" xmlns:xlink=\"http://www.w3.org/1999/xlink\" contentScriptType=\"application/ecmascript\" contentStyleType=\"text/css\" height=\"449px\" preserveAspectRatio=\"none\" style=\"width:489px;height:449px;\" version=\"1.1\" viewBox=\"0 0 489 449\" width=\"489px\" zoomAndPan=\"magnify\"><defs/><g><!--MD5=[fbc87193dbaf4d95561dea2c320d4a47]\n",
       "cluster E1--><a href=\"psysml:a0e63dae-583d-42a3-9f46-6e6177e563b1\" target=\"_top\" title=\"psysml:a0e63dae-583d-42a3-9f46-6e6177e563b1\" xlink:actuate=\"onRequest\" xlink:href=\"psysml:a0e63dae-583d-42a3-9f46-6e6177e563b1\" xlink:show=\"new\" xlink:title=\"psysml:a0e63dae-583d-42a3-9f46-6e6177e563b1\" xlink:type=\"simple\"><polygon fill=\"#FFFFFF\" points=\"16,6,156,6,163,28.2969,467,28.2969,467,437,16,437,16,6\" style=\"stroke: #000000; stroke-width: 1.5;\"/><line style=\"stroke: #000000; stroke-width: 1.5;\" x1=\"16\" x2=\"163\" y1=\"28.2969\" y2=\"28.2969\"/><text fill=\"#000000\" font-family=\"sans-serif\" font-size=\"14\" font-weight=\"bold\" lengthAdjust=\"spacingAndGlyphs\" textLength=\"134\" x=\"20\" y=\"20.9951\">DependencyTest</text></a><!--MD5=[e4f7fae6ed58524ba242bb0b0d3be6b7]\n",
       "cluster E2--><a href=\"psysml:90630542-d1db-4cfe-a426-6fd5a6b42885\" target=\"_top\" title=\"psysml:90630542-d1db-4cfe-a426-6fd5a6b42885\" xlink:actuate=\"onRequest\" xlink:href=\"psysml:90630542-d1db-4cfe-a426-6fd5a6b42885\" xlink:show=\"new\" xlink:title=\"psysml:90630542-d1db-4cfe-a426-6fd5a6b42885\" xlink:type=\"simple\"><polygon fill=\"#FFFFFF\" points=\"255,49,319,49,326,71.2969,443,71.2969,443,413,255,413,255,49\" style=\"stroke: #000000; stroke-width: 1.5;\"/><line style=\"stroke: #000000; stroke-width: 1.5;\" x1=\"255\" x2=\"326\" y1=\"71.2969\" y2=\"71.2969\"/><text fill=\"#000000\" font-family=\"sans-serif\" font-size=\"14\" font-weight=\"bold\" lengthAdjust=\"spacingAndGlyphs\" textLength=\"58\" x=\"259\" y=\"63.9951\">System</text></a><!--MD5=[60a26617385b1d2d0262a64233df1f8d]\n",
       "class E6--><a href=\"psysml:7440b603-2b18-4efb-9bf4-7832c56b919b\" target=\"_top\" title=\"psysml:7440b603-2b18-4efb-9bf4-7832c56b919b\" xlink:actuate=\"onRequest\" xlink:href=\"psysml:7440b603-2b18-4efb-9bf4-7832c56b919b\" xlink:show=\"new\" xlink:title=\"psysml:7440b603-2b18-4efb-9bf4-7832c56b919b\" xlink:type=\"simple\"><rect fill=\"#FFFFFF\" height=\"45.9375\" id=\"E6\" rx=\"10\" ry=\"10\" style=\"stroke: #383838; stroke-width: 1.5;\" width=\"71\" x=\"32.5\" y=\"217.5\"/><text fill=\"#000000\" font-family=\"sans-serif\" font-size=\"12\" font-style=\"italic\" lengthAdjust=\"spacingAndGlyphs\" textLength=\"69\" x=\"33.5\" y=\"233.6387\">«attribute»</text><text fill=\"#000000\" font-family=\"sans-serif\" font-size=\"12\" lengthAdjust=\"spacingAndGlyphs\" textLength=\"6\" x=\"65\" y=\"247.6074\">x</text><line style=\"stroke: #383838; stroke-width: 1.5;\" x1=\"33.5\" x2=\"102.5\" y1=\"255.4375\" y2=\"255.4375\"/></a><!--MD5=[2156ba9850f5573cc1fc38a6a4b2f02b]\n",
       "class E7--><a href=\"psysml:d907cb85-580b-45cd-b69d-b597f081eb5c\" target=\"_top\" title=\"psysml:d907cb85-580b-45cd-b69d-b597f081eb5c\" xlink:actuate=\"onRequest\" xlink:href=\"psysml:d907cb85-580b-45cd-b69d-b597f081eb5c\" xlink:show=\"new\" xlink:title=\"psysml:d907cb85-580b-45cd-b69d-b597f081eb5c\" xlink:type=\"simple\"><rect fill=\"#FFFFFF\" height=\"45.9375\" id=\"E7\" rx=\"10\" ry=\"10\" style=\"stroke: #383838; stroke-width: 1.5;\" width=\"71\" x=\"138.5\" y=\"217.5\"/><text fill=\"#000000\" font-family=\"sans-serif\" font-size=\"12\" font-style=\"italic\" lengthAdjust=\"spacingAndGlyphs\" textLength=\"69\" x=\"139.5\" y=\"233.6387\">«attribute»</text><text fill=\"#000000\" font-family=\"sans-serif\" font-size=\"12\" lengthAdjust=\"spacingAndGlyphs\" textLength=\"6\" x=\"171\" y=\"247.6074\">y</text><line style=\"stroke: #383838; stroke-width: 1.5;\" x1=\"139.5\" x2=\"208.5\" y1=\"255.4375\" y2=\"255.4375\"/></a><!--MD5=[b9389687b975829384b498ac4b7476b2]\n",
       "class E8--><a href=\"psysml:719c36a8-8fd6-40f5-b1aa-2a0e2714a310\" target=\"_top\" title=\"psysml:719c36a8-8fd6-40f5-b1aa-2a0e2714a310\" xlink:actuate=\"onRequest\" xlink:href=\"psysml:719c36a8-8fd6-40f5-b1aa-2a0e2714a310\" xlink:show=\"new\" xlink:title=\"psysml:719c36a8-8fd6-40f5-b1aa-2a0e2714a310\" xlink:type=\"simple\"><rect fill=\"#FFFFFF\" height=\"45.9375\" id=\"E8\" rx=\"10\" ry=\"10\" style=\"stroke: #383838; stroke-width: 1.5;\" width=\"71\" x=\"84.5\" y=\"87.5\"/><text fill=\"#000000\" font-family=\"sans-serif\" font-size=\"12\" font-style=\"italic\" lengthAdjust=\"spacingAndGlyphs\" textLength=\"69\" x=\"85.5\" y=\"103.6387\">«attribute»</text><text fill=\"#000000\" font-family=\"sans-serif\" font-size=\"12\" lengthAdjust=\"spacingAndGlyphs\" textLength=\"5\" x=\"117.5\" y=\"117.6074\">z</text><line style=\"stroke: #383838; stroke-width: 1.5;\" x1=\"85.5\" x2=\"154.5\" y1=\"125.4375\" y2=\"125.4375\"/></a><a href=\"psysml:f4739741-a5ef-49a4-9e06-4bb8a722f77e\" target=\"_top\" title=\"psysml:f4739741-a5ef-49a4-9e06-4bb8a722f77e\" xlink:actuate=\"onRequest\" xlink:href=\"psysml:f4739741-a5ef-49a4-9e06-4bb8a722f77e\" xlink:show=\"new\" xlink:title=\"psysml:f4739741-a5ef-49a4-9e06-4bb8a722f77e\" xlink:type=\"simple\"><polygon fill=\"#FFFFFF\" points=\"271,84,413,84,420,106.2969,427,106.2969,427,136.5938,271,136.5938,271,84\" style=\"stroke: #000000; stroke-width: 1.5;\"/><line style=\"stroke: #000000; stroke-width: 1.5;\" x1=\"271\" x2=\"420\" y1=\"106.2969\" y2=\"106.2969\"/><text fill=\"#000000\" font-family=\"sans-serif\" font-size=\"14\" font-weight=\"bold\" lengthAdjust=\"spacingAndGlyphs\" textLength=\"136\" x=\"275\" y=\"98.9951\">Application Layer</text></a><a href=\"psysml:e1090b77-2219-4e30-afea-75b6451d3a90\" target=\"_top\" title=\"psysml:e1090b77-2219-4e30-afea-75b6451d3a90\" xlink:actuate=\"onRequest\" xlink:href=\"psysml:e1090b77-2219-4e30-afea-75b6451d3a90\" xlink:show=\"new\" xlink:title=\"psysml:e1090b77-2219-4e30-afea-75b6451d3a90\" xlink:type=\"simple\"><polygon fill=\"#FFFFFF\" points=\"285,214,399,214,406,236.2969,413,236.2969,413,266.5938,285,266.5938,285,214\" style=\"stroke: #000000; stroke-width: 1.5;\"/><line style=\"stroke: #000000; stroke-width: 1.5;\" x1=\"285\" x2=\"406\" y1=\"236.2969\" y2=\"236.2969\"/><text fill=\"#000000\" font-family=\"sans-serif\" font-size=\"14\" font-weight=\"bold\" lengthAdjust=\"spacingAndGlyphs\" textLength=\"108\" x=\"289\" y=\"228.9951\">Service Layer</text></a><a href=\"psysml:fe465764-9ab4-44bf-be91-bd692232f0a1\" target=\"_top\" title=\"psysml:fe465764-9ab4-44bf-be91-bd692232f0a1\" xlink:actuate=\"onRequest\" xlink:href=\"psysml:fe465764-9ab4-44bf-be91-bd692232f0a1\" xlink:show=\"new\" xlink:title=\"psysml:fe465764-9ab4-44bf-be91-bd692232f0a1\" xlink:type=\"simple\"><polygon fill=\"#FFFFFF\" points=\"297,344,387,344,394,366.2969,401,366.2969,401,396.5938,297,396.5938,297,344\" style=\"stroke: #000000; stroke-width: 1.5;\"/><line style=\"stroke: #000000; stroke-width: 1.5;\" x1=\"297\" x2=\"394\" y1=\"366.2969\" y2=\"366.2969\"/><text fill=\"#000000\" font-family=\"sans-serif\" font-size=\"14\" font-weight=\"bold\" lengthAdjust=\"spacingAndGlyphs\" textLength=\"84\" x=\"301\" y=\"358.9951\">Data Layer</text></a><!--MD5=[af87c684e3b0d8be13c1a698a818ef1e]\n",
       "link E3 to E4--><a href=\"psysml:f18ad3d3-ddea-4435-b15e-701f5c4039de\" target=\"_top\" title=\"psysml:f18ad3d3-ddea-4435-b15e-701f5c4039de\" xlink:actuate=\"onRequest\" xlink:href=\"psysml:f18ad3d3-ddea-4435-b15e-701f5c4039de\" xlink:show=\"new\" xlink:title=\"psysml:f18ad3d3-ddea-4435-b15e-701f5c4039de\" xlink:type=\"simple\"><path d=\"M349,137.1 C349,156.8 349,184.22 349,205.73 \" fill=\"none\" id=\"E3-&gt;E4\" style=\"stroke: #383838; stroke-width: 1.0; stroke-dasharray: 7.0,7.0;\"/><polygon fill=\"#383838\" points=\"349,213.95,352,205.95,346,205.95,349,213.95\" style=\"stroke: #383838; stroke-width: 1.0;\"/><text fill=\"#000000\" font-family=\"sans-serif\" font-size=\"13\" lengthAdjust=\"spacingAndGlyphs\" textLength=\"64\" x=\"350\" y=\"180.0669\">«depend»</text></a><!--MD5=[1b7591eae5389033d8d09a9d6721a717]\n",
       "link E4 to E5--><a href=\"psysml:22e4e023-3d64-4f1c-8411-ecdb932522c7\" target=\"_top\" title=\"psysml:22e4e023-3d64-4f1c-8411-ecdb932522c7\" xlink:actuate=\"onRequest\" xlink:href=\"psysml:22e4e023-3d64-4f1c-8411-ecdb932522c7\" xlink:show=\"new\" xlink:title=\"psysml:22e4e023-3d64-4f1c-8411-ecdb932522c7\" xlink:type=\"simple\"><path d=\"M349,267.1 C349,286.8 349,314.22 349,335.73 \" fill=\"none\" id=\"E4-&gt;E5\" style=\"stroke: #383838; stroke-width: 1.0; stroke-dasharray: 7.0,7.0;\"/><polygon fill=\"#383838\" points=\"349,343.95,352,335.95,346,335.95,349,343.95\" style=\"stroke: #383838; stroke-width: 1.0;\"/><text fill=\"#000000\" font-family=\"sans-serif\" font-size=\"13\" lengthAdjust=\"spacingAndGlyphs\" textLength=\"64\" x=\"350\" y=\"310.0669\">«depend»</text></a><!--MD5=[c5e8897d989ce984f93528998a7150fe]\n",
       "link E8 to E6--><a href=\"psysml:01d1ab15-dda9-4157-a585-7877f2cc1d47\" target=\"_top\" title=\"psysml:01d1ab15-dda9-4157-a585-7877f2cc1d47\" xlink:actuate=\"onRequest\" xlink:href=\"psysml:01d1ab15-dda9-4157-a585-7877f2cc1d47\" xlink:show=\"new\" xlink:title=\"psysml:01d1ab15-dda9-4157-a585-7877f2cc1d47\" xlink:type=\"simple\"><path d=\"M89.42,133.6 C79.35,142.68 69.37,154.11 64,167 C58.5,180.2 58.66,195.94 60.54,209.38 \" fill=\"none\" id=\"E8-&gt;E6\" style=\"stroke: #383838; stroke-width: 1.0; stroke-dasharray: 7.0,7.0;\"/><polygon fill=\"#383838\" points=\"61.9,217.4,63.517,209.0104,57.6018,210.0159,61.9,217.4\" style=\"stroke: #383838; stroke-width: 1.0;\"/><text fill=\"#000000\" font-family=\"sans-serif\" font-size=\"13\" lengthAdjust=\"spacingAndGlyphs\" textLength=\"64\" x=\"65\" y=\"180.0669\">«depend»</text></a><!--MD5=[bfa3c8b0d15052fdf50ae9310b491027]\n",
       "link E8 to E7--><a href=\"psysml:01d1ab15-dda9-4157-a585-7877f2cc1d47\" target=\"_top\" title=\"psysml:01d1ab15-dda9-4157-a585-7877f2cc1d47\" xlink:actuate=\"onRequest\" xlink:href=\"psysml:01d1ab15-dda9-4157-a585-7877f2cc1d47\" xlink:show=\"new\" xlink:title=\"psysml:01d1ab15-dda9-4157-a585-7877f2cc1d47\" xlink:type=\"simple\"><path d=\"M129.28,133.5 C138.17,154.57 151.64,186.5 161.47,209.81 \" fill=\"none\" id=\"E8-&gt;E7\" style=\"stroke: #383838; stroke-width: 1.0; stroke-dasharray: 7.0,7.0;\"/><polygon fill=\"#383838\" points=\"164.66,217.35,164.3241,208.8126,158.7933,211.1385,164.66,217.35\" style=\"stroke: #383838; stroke-width: 1.0;\"/><text fill=\"#000000\" font-family=\"sans-serif\" font-size=\"13\" lengthAdjust=\"spacingAndGlyphs\" textLength=\"64\" x=\"151\" y=\"180.0669\">«depend»</text></a><!--MD5=[96fbd9287496dc092814a1aa07b7394b]\n",
       "@startuml\r\n",
       "skinparam monochrome true\r\n",
       "skinparam classbackgroundcolor white\r\n",
       "skinparam shadowing false\r\n",
       "skinparam wrapWidth 300\r\n",
       "hide circle\r\n",
       "\r\n",
       "package \"DependencyTest\" as E1  [[psysml:a0e63dae-583d-42a3-9f46-6e6177e563b1 ]]  {\r\n",
       "package \"System\" as E2  [[psysml:90630542-d1db-4cfe-a426-6fd5a6b42885 ]]  {\r\n",
       "package \"Application Layer\" as E3  [[psysml:f4739741-a5ef-49a4-9e06-4bb8a722f77e ]]  {\r\n",
       "}\r\n",
       "package \"Service Layer\" as E4  [[psysml:e1090b77-2219-4e30-afea-75b6451d3a90 ]]  {\r\n",
       "}\r\n",
       "package \"Data Layer\" as E5  [[psysml:fe465764-9ab4-44bf-be91-bd692232f0a1 ]]  {\r\n",
       "}\r\n",
       "}\r\n",
       "comp usage \"x\" as E6  <<(T,blue)attribute>> [[psysml:7440b603-2b18-4efb-9bf4-7832c56b919b ]] {\r\n",
       "}\r\n",
       "comp usage \"y\" as E7  <<(T,blue)attribute>> [[psysml:d907cb85-580b-45cd-b69d-b597f081eb5c ]] {\r\n",
       "}\r\n",
       "comp usage \"z\" as E8  <<(T,blue)attribute>> [[psysml:719c36a8-8fd6-40f5-b1aa-2a0e2714a310 ]] {\r\n",
       "}\r\n",
       "E3 ..>> E4 [[psysml:f18ad3d3-ddea-4435-b15e-701f5c4039de ]] : <<depend>>\r\n",
       "E4 ..>> E5 [[psysml:22e4e023-3d64-4f1c-8411-ecdb932522c7 ]] : <<depend>>\r\n",
       "E8 ..>> E6 [[psysml:01d1ab15-dda9-4157-a585-7877f2cc1d47 ]] : <<depend>>\r\n",
       "E8 ..>> E7 [[psysml:01d1ab15-dda9-4157-a585-7877f2cc1d47 ]] : <<depend>>\r\n",
       "}\r\n",
       "@enduml\r\n",
       "\n",
       "PlantUML version 1.2020.13(Sat Jun 13 12:26:38 UTC 2020)\n",
       "(EPL source distribution)\n",
       "Java Runtime: OpenJDK Runtime Environment\n",
       "JVM: OpenJDK 64-Bit Server VM\n",
       "Default Encoding: UTF-8\n",
       "Language: en\n",
       "Country: null\n",
       "--></g></svg>"
      ]
     },
     "execution_count": 42,
     "metadata": {},
     "output_type": "execute_result"
    }
   ],
   "source": [
    "%viz --style=\"DEFAULT\" --view=\"Sequence\" \"DependencyTest\""
   ]
  },
  {
   "cell_type": "code",
   "execution_count": 43,
   "id": "492d603f",
   "metadata": {
    "execution": {
     "iopub.execute_input": "2021-04-21T20:26:08.072385Z",
     "iopub.status.busy": "2021-04-21T20:26:08.071828Z",
     "iopub.status.idle": "2021-04-21T20:26:08.103169Z",
     "shell.execute_reply": "2021-04-21T20:26:08.101911Z"
    }
   },
   "outputs": [
    {
     "data": {
      "image/svg+xml": [
       "<?xml version=\"1.0\" encoding=\"UTF-8\" standalone=\"no\"?><svg xmlns=\"http://www.w3.org/2000/svg\" xmlns:xlink=\"http://www.w3.org/1999/xlink\" contentScriptType=\"application/ecmascript\" contentStyleType=\"text/css\" height=\"449px\" preserveAspectRatio=\"none\" style=\"width:489px;height:449px;\" version=\"1.1\" viewBox=\"0 0 489 449\" width=\"489px\" zoomAndPan=\"magnify\"><defs/><g><!--MD5=[fbc87193dbaf4d95561dea2c320d4a47]\n",
       "cluster E1--><a href=\"psysml:a0e63dae-583d-42a3-9f46-6e6177e563b1\" target=\"_top\" title=\"psysml:a0e63dae-583d-42a3-9f46-6e6177e563b1\" xlink:actuate=\"onRequest\" xlink:href=\"psysml:a0e63dae-583d-42a3-9f46-6e6177e563b1\" xlink:show=\"new\" xlink:title=\"psysml:a0e63dae-583d-42a3-9f46-6e6177e563b1\" xlink:type=\"simple\"><polygon fill=\"#FFFFFF\" points=\"16,6,156,6,163,28.2969,467,28.2969,467,437,16,437,16,6\" style=\"stroke: #000000; stroke-width: 1.5;\"/><line style=\"stroke: #000000; stroke-width: 1.5;\" x1=\"16\" x2=\"163\" y1=\"28.2969\" y2=\"28.2969\"/><text fill=\"#000000\" font-family=\"sans-serif\" font-size=\"14\" font-weight=\"bold\" lengthAdjust=\"spacingAndGlyphs\" textLength=\"134\" x=\"20\" y=\"20.9951\">DependencyTest</text></a><!--MD5=[e4f7fae6ed58524ba242bb0b0d3be6b7]\n",
       "cluster E2--><a href=\"psysml:90630542-d1db-4cfe-a426-6fd5a6b42885\" target=\"_top\" title=\"psysml:90630542-d1db-4cfe-a426-6fd5a6b42885\" xlink:actuate=\"onRequest\" xlink:href=\"psysml:90630542-d1db-4cfe-a426-6fd5a6b42885\" xlink:show=\"new\" xlink:title=\"psysml:90630542-d1db-4cfe-a426-6fd5a6b42885\" xlink:type=\"simple\"><polygon fill=\"#FFFFFF\" points=\"255,49,319,49,326,71.2969,443,71.2969,443,413,255,413,255,49\" style=\"stroke: #000000; stroke-width: 1.5;\"/><line style=\"stroke: #000000; stroke-width: 1.5;\" x1=\"255\" x2=\"326\" y1=\"71.2969\" y2=\"71.2969\"/><text fill=\"#000000\" font-family=\"sans-serif\" font-size=\"14\" font-weight=\"bold\" lengthAdjust=\"spacingAndGlyphs\" textLength=\"58\" x=\"259\" y=\"63.9951\">System</text></a><!--MD5=[60a26617385b1d2d0262a64233df1f8d]\n",
       "class E6--><a href=\"psysml:7440b603-2b18-4efb-9bf4-7832c56b919b\" target=\"_top\" title=\"psysml:7440b603-2b18-4efb-9bf4-7832c56b919b\" xlink:actuate=\"onRequest\" xlink:href=\"psysml:7440b603-2b18-4efb-9bf4-7832c56b919b\" xlink:show=\"new\" xlink:title=\"psysml:7440b603-2b18-4efb-9bf4-7832c56b919b\" xlink:type=\"simple\"><rect fill=\"#FFFFFF\" height=\"45.9375\" id=\"E6\" rx=\"10\" ry=\"10\" style=\"stroke: #383838; stroke-width: 1.5;\" width=\"71\" x=\"32.5\" y=\"217.5\"/><text fill=\"#000000\" font-family=\"sans-serif\" font-size=\"12\" font-style=\"italic\" lengthAdjust=\"spacingAndGlyphs\" textLength=\"69\" x=\"33.5\" y=\"233.6387\">«attribute»</text><text fill=\"#000000\" font-family=\"sans-serif\" font-size=\"12\" lengthAdjust=\"spacingAndGlyphs\" textLength=\"6\" x=\"65\" y=\"247.6074\">x</text><line style=\"stroke: #383838; stroke-width: 1.5;\" x1=\"33.5\" x2=\"102.5\" y1=\"255.4375\" y2=\"255.4375\"/></a><!--MD5=[2156ba9850f5573cc1fc38a6a4b2f02b]\n",
       "class E7--><a href=\"psysml:d907cb85-580b-45cd-b69d-b597f081eb5c\" target=\"_top\" title=\"psysml:d907cb85-580b-45cd-b69d-b597f081eb5c\" xlink:actuate=\"onRequest\" xlink:href=\"psysml:d907cb85-580b-45cd-b69d-b597f081eb5c\" xlink:show=\"new\" xlink:title=\"psysml:d907cb85-580b-45cd-b69d-b597f081eb5c\" xlink:type=\"simple\"><rect fill=\"#FFFFFF\" height=\"45.9375\" id=\"E7\" rx=\"10\" ry=\"10\" style=\"stroke: #383838; stroke-width: 1.5;\" width=\"71\" x=\"138.5\" y=\"217.5\"/><text fill=\"#000000\" font-family=\"sans-serif\" font-size=\"12\" font-style=\"italic\" lengthAdjust=\"spacingAndGlyphs\" textLength=\"69\" x=\"139.5\" y=\"233.6387\">«attribute»</text><text fill=\"#000000\" font-family=\"sans-serif\" font-size=\"12\" lengthAdjust=\"spacingAndGlyphs\" textLength=\"6\" x=\"171\" y=\"247.6074\">y</text><line style=\"stroke: #383838; stroke-width: 1.5;\" x1=\"139.5\" x2=\"208.5\" y1=\"255.4375\" y2=\"255.4375\"/></a><!--MD5=[b9389687b975829384b498ac4b7476b2]\n",
       "class E8--><a href=\"psysml:719c36a8-8fd6-40f5-b1aa-2a0e2714a310\" target=\"_top\" title=\"psysml:719c36a8-8fd6-40f5-b1aa-2a0e2714a310\" xlink:actuate=\"onRequest\" xlink:href=\"psysml:719c36a8-8fd6-40f5-b1aa-2a0e2714a310\" xlink:show=\"new\" xlink:title=\"psysml:719c36a8-8fd6-40f5-b1aa-2a0e2714a310\" xlink:type=\"simple\"><rect fill=\"#FFFFFF\" height=\"45.9375\" id=\"E8\" rx=\"10\" ry=\"10\" style=\"stroke: #383838; stroke-width: 1.5;\" width=\"71\" x=\"84.5\" y=\"87.5\"/><text fill=\"#000000\" font-family=\"sans-serif\" font-size=\"12\" font-style=\"italic\" lengthAdjust=\"spacingAndGlyphs\" textLength=\"69\" x=\"85.5\" y=\"103.6387\">«attribute»</text><text fill=\"#000000\" font-family=\"sans-serif\" font-size=\"12\" lengthAdjust=\"spacingAndGlyphs\" textLength=\"5\" x=\"117.5\" y=\"117.6074\">z</text><line style=\"stroke: #383838; stroke-width: 1.5;\" x1=\"85.5\" x2=\"154.5\" y1=\"125.4375\" y2=\"125.4375\"/></a><a href=\"psysml:f4739741-a5ef-49a4-9e06-4bb8a722f77e\" target=\"_top\" title=\"psysml:f4739741-a5ef-49a4-9e06-4bb8a722f77e\" xlink:actuate=\"onRequest\" xlink:href=\"psysml:f4739741-a5ef-49a4-9e06-4bb8a722f77e\" xlink:show=\"new\" xlink:title=\"psysml:f4739741-a5ef-49a4-9e06-4bb8a722f77e\" xlink:type=\"simple\"><polygon fill=\"#FFFFFF\" points=\"271,84,413,84,420,106.2969,427,106.2969,427,136.5938,271,136.5938,271,84\" style=\"stroke: #000000; stroke-width: 1.5;\"/><line style=\"stroke: #000000; stroke-width: 1.5;\" x1=\"271\" x2=\"420\" y1=\"106.2969\" y2=\"106.2969\"/><text fill=\"#000000\" font-family=\"sans-serif\" font-size=\"14\" font-weight=\"bold\" lengthAdjust=\"spacingAndGlyphs\" textLength=\"136\" x=\"275\" y=\"98.9951\">Application Layer</text></a><a href=\"psysml:e1090b77-2219-4e30-afea-75b6451d3a90\" target=\"_top\" title=\"psysml:e1090b77-2219-4e30-afea-75b6451d3a90\" xlink:actuate=\"onRequest\" xlink:href=\"psysml:e1090b77-2219-4e30-afea-75b6451d3a90\" xlink:show=\"new\" xlink:title=\"psysml:e1090b77-2219-4e30-afea-75b6451d3a90\" xlink:type=\"simple\"><polygon fill=\"#FFFFFF\" points=\"285,214,399,214,406,236.2969,413,236.2969,413,266.5938,285,266.5938,285,214\" style=\"stroke: #000000; stroke-width: 1.5;\"/><line style=\"stroke: #000000; stroke-width: 1.5;\" x1=\"285\" x2=\"406\" y1=\"236.2969\" y2=\"236.2969\"/><text fill=\"#000000\" font-family=\"sans-serif\" font-size=\"14\" font-weight=\"bold\" lengthAdjust=\"spacingAndGlyphs\" textLength=\"108\" x=\"289\" y=\"228.9951\">Service Layer</text></a><a href=\"psysml:fe465764-9ab4-44bf-be91-bd692232f0a1\" target=\"_top\" title=\"psysml:fe465764-9ab4-44bf-be91-bd692232f0a1\" xlink:actuate=\"onRequest\" xlink:href=\"psysml:fe465764-9ab4-44bf-be91-bd692232f0a1\" xlink:show=\"new\" xlink:title=\"psysml:fe465764-9ab4-44bf-be91-bd692232f0a1\" xlink:type=\"simple\"><polygon fill=\"#FFFFFF\" points=\"297,344,387,344,394,366.2969,401,366.2969,401,396.5938,297,396.5938,297,344\" style=\"stroke: #000000; stroke-width: 1.5;\"/><line style=\"stroke: #000000; stroke-width: 1.5;\" x1=\"297\" x2=\"394\" y1=\"366.2969\" y2=\"366.2969\"/><text fill=\"#000000\" font-family=\"sans-serif\" font-size=\"14\" font-weight=\"bold\" lengthAdjust=\"spacingAndGlyphs\" textLength=\"84\" x=\"301\" y=\"358.9951\">Data Layer</text></a><!--MD5=[af87c684e3b0d8be13c1a698a818ef1e]\n",
       "link E3 to E4--><a href=\"psysml:f18ad3d3-ddea-4435-b15e-701f5c4039de\" target=\"_top\" title=\"psysml:f18ad3d3-ddea-4435-b15e-701f5c4039de\" xlink:actuate=\"onRequest\" xlink:href=\"psysml:f18ad3d3-ddea-4435-b15e-701f5c4039de\" xlink:show=\"new\" xlink:title=\"psysml:f18ad3d3-ddea-4435-b15e-701f5c4039de\" xlink:type=\"simple\"><path d=\"M349,137.1 C349,156.8 349,184.22 349,205.73 \" fill=\"none\" id=\"E3-&gt;E4\" style=\"stroke: #383838; stroke-width: 1.0; stroke-dasharray: 7.0,7.0;\"/><polygon fill=\"#383838\" points=\"349,213.95,352,205.95,346,205.95,349,213.95\" style=\"stroke: #383838; stroke-width: 1.0;\"/><text fill=\"#000000\" font-family=\"sans-serif\" font-size=\"13\" lengthAdjust=\"spacingAndGlyphs\" textLength=\"64\" x=\"350\" y=\"180.0669\">«depend»</text></a><!--MD5=[1b7591eae5389033d8d09a9d6721a717]\n",
       "link E4 to E5--><a href=\"psysml:22e4e023-3d64-4f1c-8411-ecdb932522c7\" target=\"_top\" title=\"psysml:22e4e023-3d64-4f1c-8411-ecdb932522c7\" xlink:actuate=\"onRequest\" xlink:href=\"psysml:22e4e023-3d64-4f1c-8411-ecdb932522c7\" xlink:show=\"new\" xlink:title=\"psysml:22e4e023-3d64-4f1c-8411-ecdb932522c7\" xlink:type=\"simple\"><path d=\"M349,267.1 C349,286.8 349,314.22 349,335.73 \" fill=\"none\" id=\"E4-&gt;E5\" style=\"stroke: #383838; stroke-width: 1.0; stroke-dasharray: 7.0,7.0;\"/><polygon fill=\"#383838\" points=\"349,343.95,352,335.95,346,335.95,349,343.95\" style=\"stroke: #383838; stroke-width: 1.0;\"/><text fill=\"#000000\" font-family=\"sans-serif\" font-size=\"13\" lengthAdjust=\"spacingAndGlyphs\" textLength=\"64\" x=\"350\" y=\"310.0669\">«depend»</text></a><!--MD5=[c5e8897d989ce984f93528998a7150fe]\n",
       "link E8 to E6--><a href=\"psysml:01d1ab15-dda9-4157-a585-7877f2cc1d47\" target=\"_top\" title=\"psysml:01d1ab15-dda9-4157-a585-7877f2cc1d47\" xlink:actuate=\"onRequest\" xlink:href=\"psysml:01d1ab15-dda9-4157-a585-7877f2cc1d47\" xlink:show=\"new\" xlink:title=\"psysml:01d1ab15-dda9-4157-a585-7877f2cc1d47\" xlink:type=\"simple\"><path d=\"M89.42,133.6 C79.35,142.68 69.37,154.11 64,167 C58.5,180.2 58.66,195.94 60.54,209.38 \" fill=\"none\" id=\"E8-&gt;E6\" style=\"stroke: #383838; stroke-width: 1.0; stroke-dasharray: 7.0,7.0;\"/><polygon fill=\"#383838\" points=\"61.9,217.4,63.517,209.0104,57.6018,210.0159,61.9,217.4\" style=\"stroke: #383838; stroke-width: 1.0;\"/><text fill=\"#000000\" font-family=\"sans-serif\" font-size=\"13\" lengthAdjust=\"spacingAndGlyphs\" textLength=\"64\" x=\"65\" y=\"180.0669\">«depend»</text></a><!--MD5=[bfa3c8b0d15052fdf50ae9310b491027]\n",
       "link E8 to E7--><a href=\"psysml:01d1ab15-dda9-4157-a585-7877f2cc1d47\" target=\"_top\" title=\"psysml:01d1ab15-dda9-4157-a585-7877f2cc1d47\" xlink:actuate=\"onRequest\" xlink:href=\"psysml:01d1ab15-dda9-4157-a585-7877f2cc1d47\" xlink:show=\"new\" xlink:title=\"psysml:01d1ab15-dda9-4157-a585-7877f2cc1d47\" xlink:type=\"simple\"><path d=\"M129.28,133.5 C138.17,154.57 151.64,186.5 161.47,209.81 \" fill=\"none\" id=\"E8-&gt;E7\" style=\"stroke: #383838; stroke-width: 1.0; stroke-dasharray: 7.0,7.0;\"/><polygon fill=\"#383838\" points=\"164.66,217.35,164.3241,208.8126,158.7933,211.1385,164.66,217.35\" style=\"stroke: #383838; stroke-width: 1.0;\"/><text fill=\"#000000\" font-family=\"sans-serif\" font-size=\"13\" lengthAdjust=\"spacingAndGlyphs\" textLength=\"64\" x=\"151\" y=\"180.0669\">«depend»</text></a><!--MD5=[96fbd9287496dc092814a1aa07b7394b]\n",
       "@startuml\r\n",
       "skinparam monochrome true\r\n",
       "skinparam classbackgroundcolor white\r\n",
       "skinparam shadowing false\r\n",
       "skinparam wrapWidth 300\r\n",
       "hide circle\r\n",
       "\r\n",
       "package \"DependencyTest\" as E1  [[psysml:a0e63dae-583d-42a3-9f46-6e6177e563b1 ]]  {\r\n",
       "package \"System\" as E2  [[psysml:90630542-d1db-4cfe-a426-6fd5a6b42885 ]]  {\r\n",
       "package \"Application Layer\" as E3  [[psysml:f4739741-a5ef-49a4-9e06-4bb8a722f77e ]]  {\r\n",
       "}\r\n",
       "package \"Service Layer\" as E4  [[psysml:e1090b77-2219-4e30-afea-75b6451d3a90 ]]  {\r\n",
       "}\r\n",
       "package \"Data Layer\" as E5  [[psysml:fe465764-9ab4-44bf-be91-bd692232f0a1 ]]  {\r\n",
       "}\r\n",
       "}\r\n",
       "comp usage \"x\" as E6  <<(T,blue)attribute>> [[psysml:7440b603-2b18-4efb-9bf4-7832c56b919b ]] {\r\n",
       "}\r\n",
       "comp usage \"y\" as E7  <<(T,blue)attribute>> [[psysml:d907cb85-580b-45cd-b69d-b597f081eb5c ]] {\r\n",
       "}\r\n",
       "comp usage \"z\" as E8  <<(T,blue)attribute>> [[psysml:719c36a8-8fd6-40f5-b1aa-2a0e2714a310 ]] {\r\n",
       "}\r\n",
       "E3 ..>> E4 [[psysml:f18ad3d3-ddea-4435-b15e-701f5c4039de ]] : <<depend>>\r\n",
       "E4 ..>> E5 [[psysml:22e4e023-3d64-4f1c-8411-ecdb932522c7 ]] : <<depend>>\r\n",
       "E8 ..>> E6 [[psysml:01d1ab15-dda9-4157-a585-7877f2cc1d47 ]] : <<depend>>\r\n",
       "E8 ..>> E7 [[psysml:01d1ab15-dda9-4157-a585-7877f2cc1d47 ]] : <<depend>>\r\n",
       "}\r\n",
       "@enduml\r\n",
       "\n",
       "PlantUML version 1.2020.13(Sat Jun 13 12:26:38 UTC 2020)\n",
       "(EPL source distribution)\n",
       "Java Runtime: OpenJDK Runtime Environment\n",
       "JVM: OpenJDK 64-Bit Server VM\n",
       "Default Encoding: UTF-8\n",
       "Language: en\n",
       "Country: null\n",
       "--></g></svg>"
      ]
     },
     "execution_count": 43,
     "metadata": {},
     "output_type": "execute_result"
    }
   ],
   "source": [
    "%viz --style=\"DEFAULT\" --view=\"MIXED\" \"DependencyTest\""
   ]
  },
  {
   "cell_type": "code",
   "execution_count": 44,
   "id": "36c6bd68",
   "metadata": {
    "execution": {
     "iopub.execute_input": "2021-04-21T20:26:08.153006Z",
     "iopub.status.busy": "2021-04-21T20:26:08.152467Z",
     "iopub.status.idle": "2021-04-21T20:26:08.184160Z",
     "shell.execute_reply": "2021-04-21T20:26:08.183769Z"
    }
   },
   "outputs": [
    {
     "data": {
      "image/svg+xml": [
       "<?xml version=\"1.0\" encoding=\"UTF-8\" standalone=\"no\"?><svg xmlns=\"http://www.w3.org/2000/svg\" xmlns:xlink=\"http://www.w3.org/1999/xlink\" contentScriptType=\"application/ecmascript\" contentStyleType=\"text/css\" height=\"449px\" preserveAspectRatio=\"none\" style=\"width:489px;height:449px;\" version=\"1.1\" viewBox=\"0 0 489 449\" width=\"489px\" zoomAndPan=\"magnify\"><defs/><g><!--MD5=[fbc87193dbaf4d95561dea2c320d4a47]\n",
       "cluster E1--><a href=\"psysml:a0e63dae-583d-42a3-9f46-6e6177e563b1\" target=\"_top\" title=\"psysml:a0e63dae-583d-42a3-9f46-6e6177e563b1\" xlink:actuate=\"onRequest\" xlink:href=\"psysml:a0e63dae-583d-42a3-9f46-6e6177e563b1\" xlink:show=\"new\" xlink:title=\"psysml:a0e63dae-583d-42a3-9f46-6e6177e563b1\" xlink:type=\"simple\"><polygon fill=\"#FFFFFF\" points=\"16,6,156,6,163,28.2969,467,28.2969,467,437,16,437,16,6\" style=\"stroke: #000000; stroke-width: 1.5;\"/><line style=\"stroke: #000000; stroke-width: 1.5;\" x1=\"16\" x2=\"163\" y1=\"28.2969\" y2=\"28.2969\"/><text fill=\"#000000\" font-family=\"sans-serif\" font-size=\"14\" font-weight=\"bold\" lengthAdjust=\"spacingAndGlyphs\" textLength=\"134\" x=\"20\" y=\"20.9951\">DependencyTest</text></a><!--MD5=[e4f7fae6ed58524ba242bb0b0d3be6b7]\n",
       "cluster E2--><a href=\"psysml:90630542-d1db-4cfe-a426-6fd5a6b42885\" target=\"_top\" title=\"psysml:90630542-d1db-4cfe-a426-6fd5a6b42885\" xlink:actuate=\"onRequest\" xlink:href=\"psysml:90630542-d1db-4cfe-a426-6fd5a6b42885\" xlink:show=\"new\" xlink:title=\"psysml:90630542-d1db-4cfe-a426-6fd5a6b42885\" xlink:type=\"simple\"><polygon fill=\"#FFFFFF\" points=\"255,49,319,49,326,71.2969,443,71.2969,443,413,255,413,255,49\" style=\"stroke: #000000; stroke-width: 1.5;\"/><line style=\"stroke: #000000; stroke-width: 1.5;\" x1=\"255\" x2=\"326\" y1=\"71.2969\" y2=\"71.2969\"/><text fill=\"#000000\" font-family=\"sans-serif\" font-size=\"14\" font-weight=\"bold\" lengthAdjust=\"spacingAndGlyphs\" textLength=\"58\" x=\"259\" y=\"63.9951\">System</text></a><!--MD5=[60a26617385b1d2d0262a64233df1f8d]\n",
       "class E6--><a href=\"psysml:7440b603-2b18-4efb-9bf4-7832c56b919b\" target=\"_top\" title=\"psysml:7440b603-2b18-4efb-9bf4-7832c56b919b\" xlink:actuate=\"onRequest\" xlink:href=\"psysml:7440b603-2b18-4efb-9bf4-7832c56b919b\" xlink:show=\"new\" xlink:title=\"psysml:7440b603-2b18-4efb-9bf4-7832c56b919b\" xlink:type=\"simple\"><rect fill=\"#FFFFFF\" height=\"45.9375\" id=\"E6\" rx=\"10\" ry=\"10\" style=\"stroke: #383838; stroke-width: 1.5;\" width=\"71\" x=\"32.5\" y=\"217.5\"/><text fill=\"#000000\" font-family=\"sans-serif\" font-size=\"12\" font-style=\"italic\" lengthAdjust=\"spacingAndGlyphs\" textLength=\"69\" x=\"33.5\" y=\"233.6387\">«attribute»</text><text fill=\"#000000\" font-family=\"sans-serif\" font-size=\"12\" lengthAdjust=\"spacingAndGlyphs\" textLength=\"6\" x=\"65\" y=\"247.6074\">x</text><line style=\"stroke: #383838; stroke-width: 1.5;\" x1=\"33.5\" x2=\"102.5\" y1=\"255.4375\" y2=\"255.4375\"/></a><!--MD5=[2156ba9850f5573cc1fc38a6a4b2f02b]\n",
       "class E7--><a href=\"psysml:d907cb85-580b-45cd-b69d-b597f081eb5c\" target=\"_top\" title=\"psysml:d907cb85-580b-45cd-b69d-b597f081eb5c\" xlink:actuate=\"onRequest\" xlink:href=\"psysml:d907cb85-580b-45cd-b69d-b597f081eb5c\" xlink:show=\"new\" xlink:title=\"psysml:d907cb85-580b-45cd-b69d-b597f081eb5c\" xlink:type=\"simple\"><rect fill=\"#FFFFFF\" height=\"45.9375\" id=\"E7\" rx=\"10\" ry=\"10\" style=\"stroke: #383838; stroke-width: 1.5;\" width=\"71\" x=\"138.5\" y=\"217.5\"/><text fill=\"#000000\" font-family=\"sans-serif\" font-size=\"12\" font-style=\"italic\" lengthAdjust=\"spacingAndGlyphs\" textLength=\"69\" x=\"139.5\" y=\"233.6387\">«attribute»</text><text fill=\"#000000\" font-family=\"sans-serif\" font-size=\"12\" lengthAdjust=\"spacingAndGlyphs\" textLength=\"6\" x=\"171\" y=\"247.6074\">y</text><line style=\"stroke: #383838; stroke-width: 1.5;\" x1=\"139.5\" x2=\"208.5\" y1=\"255.4375\" y2=\"255.4375\"/></a><!--MD5=[b9389687b975829384b498ac4b7476b2]\n",
       "class E8--><a href=\"psysml:719c36a8-8fd6-40f5-b1aa-2a0e2714a310\" target=\"_top\" title=\"psysml:719c36a8-8fd6-40f5-b1aa-2a0e2714a310\" xlink:actuate=\"onRequest\" xlink:href=\"psysml:719c36a8-8fd6-40f5-b1aa-2a0e2714a310\" xlink:show=\"new\" xlink:title=\"psysml:719c36a8-8fd6-40f5-b1aa-2a0e2714a310\" xlink:type=\"simple\"><rect fill=\"#FFFFFF\" height=\"45.9375\" id=\"E8\" rx=\"10\" ry=\"10\" style=\"stroke: #383838; stroke-width: 1.5;\" width=\"71\" x=\"84.5\" y=\"87.5\"/><text fill=\"#000000\" font-family=\"sans-serif\" font-size=\"12\" font-style=\"italic\" lengthAdjust=\"spacingAndGlyphs\" textLength=\"69\" x=\"85.5\" y=\"103.6387\">«attribute»</text><text fill=\"#000000\" font-family=\"sans-serif\" font-size=\"12\" lengthAdjust=\"spacingAndGlyphs\" textLength=\"5\" x=\"117.5\" y=\"117.6074\">z</text><line style=\"stroke: #383838; stroke-width: 1.5;\" x1=\"85.5\" x2=\"154.5\" y1=\"125.4375\" y2=\"125.4375\"/></a><a href=\"psysml:f4739741-a5ef-49a4-9e06-4bb8a722f77e\" target=\"_top\" title=\"psysml:f4739741-a5ef-49a4-9e06-4bb8a722f77e\" xlink:actuate=\"onRequest\" xlink:href=\"psysml:f4739741-a5ef-49a4-9e06-4bb8a722f77e\" xlink:show=\"new\" xlink:title=\"psysml:f4739741-a5ef-49a4-9e06-4bb8a722f77e\" xlink:type=\"simple\"><polygon fill=\"#FFFFFF\" points=\"271,84,413,84,420,106.2969,427,106.2969,427,136.5938,271,136.5938,271,84\" style=\"stroke: #000000; stroke-width: 1.5;\"/><line style=\"stroke: #000000; stroke-width: 1.5;\" x1=\"271\" x2=\"420\" y1=\"106.2969\" y2=\"106.2969\"/><text fill=\"#000000\" font-family=\"sans-serif\" font-size=\"14\" font-weight=\"bold\" lengthAdjust=\"spacingAndGlyphs\" textLength=\"136\" x=\"275\" y=\"98.9951\">Application Layer</text></a><a href=\"psysml:e1090b77-2219-4e30-afea-75b6451d3a90\" target=\"_top\" title=\"psysml:e1090b77-2219-4e30-afea-75b6451d3a90\" xlink:actuate=\"onRequest\" xlink:href=\"psysml:e1090b77-2219-4e30-afea-75b6451d3a90\" xlink:show=\"new\" xlink:title=\"psysml:e1090b77-2219-4e30-afea-75b6451d3a90\" xlink:type=\"simple\"><polygon fill=\"#FFFFFF\" points=\"285,214,399,214,406,236.2969,413,236.2969,413,266.5938,285,266.5938,285,214\" style=\"stroke: #000000; stroke-width: 1.5;\"/><line style=\"stroke: #000000; stroke-width: 1.5;\" x1=\"285\" x2=\"406\" y1=\"236.2969\" y2=\"236.2969\"/><text fill=\"#000000\" font-family=\"sans-serif\" font-size=\"14\" font-weight=\"bold\" lengthAdjust=\"spacingAndGlyphs\" textLength=\"108\" x=\"289\" y=\"228.9951\">Service Layer</text></a><a href=\"psysml:fe465764-9ab4-44bf-be91-bd692232f0a1\" target=\"_top\" title=\"psysml:fe465764-9ab4-44bf-be91-bd692232f0a1\" xlink:actuate=\"onRequest\" xlink:href=\"psysml:fe465764-9ab4-44bf-be91-bd692232f0a1\" xlink:show=\"new\" xlink:title=\"psysml:fe465764-9ab4-44bf-be91-bd692232f0a1\" xlink:type=\"simple\"><polygon fill=\"#FFFFFF\" points=\"297,344,387,344,394,366.2969,401,366.2969,401,396.5938,297,396.5938,297,344\" style=\"stroke: #000000; stroke-width: 1.5;\"/><line style=\"stroke: #000000; stroke-width: 1.5;\" x1=\"297\" x2=\"394\" y1=\"366.2969\" y2=\"366.2969\"/><text fill=\"#000000\" font-family=\"sans-serif\" font-size=\"14\" font-weight=\"bold\" lengthAdjust=\"spacingAndGlyphs\" textLength=\"84\" x=\"301\" y=\"358.9951\">Data Layer</text></a><!--MD5=[af87c684e3b0d8be13c1a698a818ef1e]\n",
       "link E3 to E4--><a href=\"psysml:f18ad3d3-ddea-4435-b15e-701f5c4039de\" target=\"_top\" title=\"psysml:f18ad3d3-ddea-4435-b15e-701f5c4039de\" xlink:actuate=\"onRequest\" xlink:href=\"psysml:f18ad3d3-ddea-4435-b15e-701f5c4039de\" xlink:show=\"new\" xlink:title=\"psysml:f18ad3d3-ddea-4435-b15e-701f5c4039de\" xlink:type=\"simple\"><path d=\"M349,137.1 C349,156.8 349,184.22 349,205.73 \" fill=\"none\" id=\"E3-&gt;E4\" style=\"stroke: #383838; stroke-width: 1.0; stroke-dasharray: 7.0,7.0;\"/><polygon fill=\"#383838\" points=\"349,213.95,352,205.95,346,205.95,349,213.95\" style=\"stroke: #383838; stroke-width: 1.0;\"/><text fill=\"#000000\" font-family=\"sans-serif\" font-size=\"13\" lengthAdjust=\"spacingAndGlyphs\" textLength=\"64\" x=\"350\" y=\"180.0669\">«depend»</text></a><!--MD5=[1b7591eae5389033d8d09a9d6721a717]\n",
       "link E4 to E5--><a href=\"psysml:22e4e023-3d64-4f1c-8411-ecdb932522c7\" target=\"_top\" title=\"psysml:22e4e023-3d64-4f1c-8411-ecdb932522c7\" xlink:actuate=\"onRequest\" xlink:href=\"psysml:22e4e023-3d64-4f1c-8411-ecdb932522c7\" xlink:show=\"new\" xlink:title=\"psysml:22e4e023-3d64-4f1c-8411-ecdb932522c7\" xlink:type=\"simple\"><path d=\"M349,267.1 C349,286.8 349,314.22 349,335.73 \" fill=\"none\" id=\"E4-&gt;E5\" style=\"stroke: #383838; stroke-width: 1.0; stroke-dasharray: 7.0,7.0;\"/><polygon fill=\"#383838\" points=\"349,343.95,352,335.95,346,335.95,349,343.95\" style=\"stroke: #383838; stroke-width: 1.0;\"/><text fill=\"#000000\" font-family=\"sans-serif\" font-size=\"13\" lengthAdjust=\"spacingAndGlyphs\" textLength=\"64\" x=\"350\" y=\"310.0669\">«depend»</text></a><!--MD5=[c5e8897d989ce984f93528998a7150fe]\n",
       "link E8 to E6--><a href=\"psysml:01d1ab15-dda9-4157-a585-7877f2cc1d47\" target=\"_top\" title=\"psysml:01d1ab15-dda9-4157-a585-7877f2cc1d47\" xlink:actuate=\"onRequest\" xlink:href=\"psysml:01d1ab15-dda9-4157-a585-7877f2cc1d47\" xlink:show=\"new\" xlink:title=\"psysml:01d1ab15-dda9-4157-a585-7877f2cc1d47\" xlink:type=\"simple\"><path d=\"M89.42,133.6 C79.35,142.68 69.37,154.11 64,167 C58.5,180.2 58.66,195.94 60.54,209.38 \" fill=\"none\" id=\"E8-&gt;E6\" style=\"stroke: #383838; stroke-width: 1.0; stroke-dasharray: 7.0,7.0;\"/><polygon fill=\"#383838\" points=\"61.9,217.4,63.517,209.0104,57.6018,210.0159,61.9,217.4\" style=\"stroke: #383838; stroke-width: 1.0;\"/><text fill=\"#000000\" font-family=\"sans-serif\" font-size=\"13\" lengthAdjust=\"spacingAndGlyphs\" textLength=\"64\" x=\"65\" y=\"180.0669\">«depend»</text></a><!--MD5=[bfa3c8b0d15052fdf50ae9310b491027]\n",
       "link E8 to E7--><a href=\"psysml:01d1ab15-dda9-4157-a585-7877f2cc1d47\" target=\"_top\" title=\"psysml:01d1ab15-dda9-4157-a585-7877f2cc1d47\" xlink:actuate=\"onRequest\" xlink:href=\"psysml:01d1ab15-dda9-4157-a585-7877f2cc1d47\" xlink:show=\"new\" xlink:title=\"psysml:01d1ab15-dda9-4157-a585-7877f2cc1d47\" xlink:type=\"simple\"><path d=\"M129.28,133.5 C138.17,154.57 151.64,186.5 161.47,209.81 \" fill=\"none\" id=\"E8-&gt;E7\" style=\"stroke: #383838; stroke-width: 1.0; stroke-dasharray: 7.0,7.0;\"/><polygon fill=\"#383838\" points=\"164.66,217.35,164.3241,208.8126,158.7933,211.1385,164.66,217.35\" style=\"stroke: #383838; stroke-width: 1.0;\"/><text fill=\"#000000\" font-family=\"sans-serif\" font-size=\"13\" lengthAdjust=\"spacingAndGlyphs\" textLength=\"64\" x=\"151\" y=\"180.0669\">«depend»</text></a><!--MD5=[132d98177d6a22951d1fe07ee08f504f]\n",
       "@startuml\r\n",
       "top to bottom direction\r\n",
       "skinparam monochrome true\r\n",
       "skinparam classbackgroundcolor white\r\n",
       "skinparam shadowing false\r\n",
       "skinparam wrapWidth 300\r\n",
       "hide circle\r\n",
       "\r\n",
       "package \"DependencyTest\" as E1  [[psysml:a0e63dae-583d-42a3-9f46-6e6177e563b1 ]]  {\r\n",
       "package \"System\" as E2  [[psysml:90630542-d1db-4cfe-a426-6fd5a6b42885 ]]  {\r\n",
       "package \"Application Layer\" as E3  [[psysml:f4739741-a5ef-49a4-9e06-4bb8a722f77e ]]  {\r\n",
       "}\r\n",
       "package \"Service Layer\" as E4  [[psysml:e1090b77-2219-4e30-afea-75b6451d3a90 ]]  {\r\n",
       "}\r\n",
       "package \"Data Layer\" as E5  [[psysml:fe465764-9ab4-44bf-be91-bd692232f0a1 ]]  {\r\n",
       "}\r\n",
       "}\r\n",
       "comp usage \"x\" as E6  <<(T,blue)attribute>> [[psysml:7440b603-2b18-4efb-9bf4-7832c56b919b ]] {\r\n",
       "}\r\n",
       "comp usage \"y\" as E7  <<(T,blue)attribute>> [[psysml:d907cb85-580b-45cd-b69d-b597f081eb5c ]] {\r\n",
       "}\r\n",
       "comp usage \"z\" as E8  <<(T,blue)attribute>> [[psysml:719c36a8-8fd6-40f5-b1aa-2a0e2714a310 ]] {\r\n",
       "}\r\n",
       "E3 ..>> E4 [[psysml:f18ad3d3-ddea-4435-b15e-701f5c4039de ]] : <<depend>>\r\n",
       "E4 ..>> E5 [[psysml:22e4e023-3d64-4f1c-8411-ecdb932522c7 ]] : <<depend>>\r\n",
       "E8 ..>> E6 [[psysml:01d1ab15-dda9-4157-a585-7877f2cc1d47 ]] : <<depend>>\r\n",
       "E8 ..>> E7 [[psysml:01d1ab15-dda9-4157-a585-7877f2cc1d47 ]] : <<depend>>\r\n",
       "}\r\n",
       "@enduml\r\n",
       "\n",
       "PlantUML version 1.2020.13(Sat Jun 13 12:26:38 UTC 2020)\n",
       "(EPL source distribution)\n",
       "Java Runtime: OpenJDK Runtime Environment\n",
       "JVM: OpenJDK 64-Bit Server VM\n",
       "Default Encoding: UTF-8\n",
       "Language: en\n",
       "Country: null\n",
       "--></g></svg>"
      ]
     },
     "execution_count": 44,
     "metadata": {},
     "output_type": "execute_result"
    }
   ],
   "source": [
    "%viz --style=\"TB\" --view=\"Default\" \"DependencyTest\""
   ]
  },
  {
   "cell_type": "code",
   "execution_count": 45,
   "id": "5be85436",
   "metadata": {
    "execution": {
     "iopub.execute_input": "2021-04-21T20:26:08.234505Z",
     "iopub.status.busy": "2021-04-21T20:26:08.234094Z",
     "iopub.status.idle": "2021-04-21T20:26:08.266187Z",
     "shell.execute_reply": "2021-04-21T20:26:08.264124Z"
    }
   },
   "outputs": [
    {
     "data": {
      "image/svg+xml": [
       "<?xml version=\"1.0\" encoding=\"UTF-8\" standalone=\"no\"?><svg xmlns=\"http://www.w3.org/2000/svg\" xmlns:xlink=\"http://www.w3.org/1999/xlink\" contentScriptType=\"application/ecmascript\" contentStyleType=\"text/css\" height=\"449px\" preserveAspectRatio=\"none\" style=\"width:489px;height:449px;\" version=\"1.1\" viewBox=\"0 0 489 449\" width=\"489px\" zoomAndPan=\"magnify\"><defs/><g><!--MD5=[fbc87193dbaf4d95561dea2c320d4a47]\n",
       "cluster E1--><a href=\"psysml:a0e63dae-583d-42a3-9f46-6e6177e563b1\" target=\"_top\" title=\"psysml:a0e63dae-583d-42a3-9f46-6e6177e563b1\" xlink:actuate=\"onRequest\" xlink:href=\"psysml:a0e63dae-583d-42a3-9f46-6e6177e563b1\" xlink:show=\"new\" xlink:title=\"psysml:a0e63dae-583d-42a3-9f46-6e6177e563b1\" xlink:type=\"simple\"><polygon fill=\"#FFFFFF\" points=\"16,6,156,6,163,28.2969,467,28.2969,467,437,16,437,16,6\" style=\"stroke: #000000; stroke-width: 1.5;\"/><line style=\"stroke: #000000; stroke-width: 1.5;\" x1=\"16\" x2=\"163\" y1=\"28.2969\" y2=\"28.2969\"/><text fill=\"#000000\" font-family=\"sans-serif\" font-size=\"14\" font-weight=\"bold\" lengthAdjust=\"spacingAndGlyphs\" textLength=\"134\" x=\"20\" y=\"20.9951\">DependencyTest</text></a><!--MD5=[e4f7fae6ed58524ba242bb0b0d3be6b7]\n",
       "cluster E2--><a href=\"psysml:90630542-d1db-4cfe-a426-6fd5a6b42885\" target=\"_top\" title=\"psysml:90630542-d1db-4cfe-a426-6fd5a6b42885\" xlink:actuate=\"onRequest\" xlink:href=\"psysml:90630542-d1db-4cfe-a426-6fd5a6b42885\" xlink:show=\"new\" xlink:title=\"psysml:90630542-d1db-4cfe-a426-6fd5a6b42885\" xlink:type=\"simple\"><polygon fill=\"#FFFFFF\" points=\"255,49,319,49,326,71.2969,443,71.2969,443,413,255,413,255,49\" style=\"stroke: #000000; stroke-width: 1.5;\"/><line style=\"stroke: #000000; stroke-width: 1.5;\" x1=\"255\" x2=\"326\" y1=\"71.2969\" y2=\"71.2969\"/><text fill=\"#000000\" font-family=\"sans-serif\" font-size=\"14\" font-weight=\"bold\" lengthAdjust=\"spacingAndGlyphs\" textLength=\"58\" x=\"259\" y=\"63.9951\">System</text></a><!--MD5=[60a26617385b1d2d0262a64233df1f8d]\n",
       "class E6--><a href=\"psysml:7440b603-2b18-4efb-9bf4-7832c56b919b\" target=\"_top\" title=\"psysml:7440b603-2b18-4efb-9bf4-7832c56b919b\" xlink:actuate=\"onRequest\" xlink:href=\"psysml:7440b603-2b18-4efb-9bf4-7832c56b919b\" xlink:show=\"new\" xlink:title=\"psysml:7440b603-2b18-4efb-9bf4-7832c56b919b\" xlink:type=\"simple\"><rect fill=\"#FFFFFF\" height=\"45.9375\" id=\"E6\" rx=\"10\" ry=\"10\" style=\"stroke: #383838; stroke-width: 1.5;\" width=\"71\" x=\"32.5\" y=\"217.5\"/><text fill=\"#000000\" font-family=\"sans-serif\" font-size=\"12\" font-style=\"italic\" lengthAdjust=\"spacingAndGlyphs\" textLength=\"69\" x=\"33.5\" y=\"233.6387\">«attribute»</text><text fill=\"#000000\" font-family=\"sans-serif\" font-size=\"12\" lengthAdjust=\"spacingAndGlyphs\" textLength=\"6\" x=\"65\" y=\"247.6074\">x</text><line style=\"stroke: #383838; stroke-width: 1.5;\" x1=\"33.5\" x2=\"102.5\" y1=\"255.4375\" y2=\"255.4375\"/></a><!--MD5=[2156ba9850f5573cc1fc38a6a4b2f02b]\n",
       "class E7--><a href=\"psysml:d907cb85-580b-45cd-b69d-b597f081eb5c\" target=\"_top\" title=\"psysml:d907cb85-580b-45cd-b69d-b597f081eb5c\" xlink:actuate=\"onRequest\" xlink:href=\"psysml:d907cb85-580b-45cd-b69d-b597f081eb5c\" xlink:show=\"new\" xlink:title=\"psysml:d907cb85-580b-45cd-b69d-b597f081eb5c\" xlink:type=\"simple\"><rect fill=\"#FFFFFF\" height=\"45.9375\" id=\"E7\" rx=\"10\" ry=\"10\" style=\"stroke: #383838; stroke-width: 1.5;\" width=\"71\" x=\"138.5\" y=\"217.5\"/><text fill=\"#000000\" font-family=\"sans-serif\" font-size=\"12\" font-style=\"italic\" lengthAdjust=\"spacingAndGlyphs\" textLength=\"69\" x=\"139.5\" y=\"233.6387\">«attribute»</text><text fill=\"#000000\" font-family=\"sans-serif\" font-size=\"12\" lengthAdjust=\"spacingAndGlyphs\" textLength=\"6\" x=\"171\" y=\"247.6074\">y</text><line style=\"stroke: #383838; stroke-width: 1.5;\" x1=\"139.5\" x2=\"208.5\" y1=\"255.4375\" y2=\"255.4375\"/></a><!--MD5=[b9389687b975829384b498ac4b7476b2]\n",
       "class E8--><a href=\"psysml:719c36a8-8fd6-40f5-b1aa-2a0e2714a310\" target=\"_top\" title=\"psysml:719c36a8-8fd6-40f5-b1aa-2a0e2714a310\" xlink:actuate=\"onRequest\" xlink:href=\"psysml:719c36a8-8fd6-40f5-b1aa-2a0e2714a310\" xlink:show=\"new\" xlink:title=\"psysml:719c36a8-8fd6-40f5-b1aa-2a0e2714a310\" xlink:type=\"simple\"><rect fill=\"#FFFFFF\" height=\"45.9375\" id=\"E8\" rx=\"10\" ry=\"10\" style=\"stroke: #383838; stroke-width: 1.5;\" width=\"71\" x=\"84.5\" y=\"87.5\"/><text fill=\"#000000\" font-family=\"sans-serif\" font-size=\"12\" font-style=\"italic\" lengthAdjust=\"spacingAndGlyphs\" textLength=\"69\" x=\"85.5\" y=\"103.6387\">«attribute»</text><text fill=\"#000000\" font-family=\"sans-serif\" font-size=\"12\" lengthAdjust=\"spacingAndGlyphs\" textLength=\"5\" x=\"117.5\" y=\"117.6074\">z</text><line style=\"stroke: #383838; stroke-width: 1.5;\" x1=\"85.5\" x2=\"154.5\" y1=\"125.4375\" y2=\"125.4375\"/></a><a href=\"psysml:f4739741-a5ef-49a4-9e06-4bb8a722f77e\" target=\"_top\" title=\"psysml:f4739741-a5ef-49a4-9e06-4bb8a722f77e\" xlink:actuate=\"onRequest\" xlink:href=\"psysml:f4739741-a5ef-49a4-9e06-4bb8a722f77e\" xlink:show=\"new\" xlink:title=\"psysml:f4739741-a5ef-49a4-9e06-4bb8a722f77e\" xlink:type=\"simple\"><polygon fill=\"#FFFFFF\" points=\"271,84,413,84,420,106.2969,427,106.2969,427,136.5938,271,136.5938,271,84\" style=\"stroke: #000000; stroke-width: 1.5;\"/><line style=\"stroke: #000000; stroke-width: 1.5;\" x1=\"271\" x2=\"420\" y1=\"106.2969\" y2=\"106.2969\"/><text fill=\"#000000\" font-family=\"sans-serif\" font-size=\"14\" font-weight=\"bold\" lengthAdjust=\"spacingAndGlyphs\" textLength=\"136\" x=\"275\" y=\"98.9951\">Application Layer</text></a><a href=\"psysml:e1090b77-2219-4e30-afea-75b6451d3a90\" target=\"_top\" title=\"psysml:e1090b77-2219-4e30-afea-75b6451d3a90\" xlink:actuate=\"onRequest\" xlink:href=\"psysml:e1090b77-2219-4e30-afea-75b6451d3a90\" xlink:show=\"new\" xlink:title=\"psysml:e1090b77-2219-4e30-afea-75b6451d3a90\" xlink:type=\"simple\"><polygon fill=\"#FFFFFF\" points=\"285,214,399,214,406,236.2969,413,236.2969,413,266.5938,285,266.5938,285,214\" style=\"stroke: #000000; stroke-width: 1.5;\"/><line style=\"stroke: #000000; stroke-width: 1.5;\" x1=\"285\" x2=\"406\" y1=\"236.2969\" y2=\"236.2969\"/><text fill=\"#000000\" font-family=\"sans-serif\" font-size=\"14\" font-weight=\"bold\" lengthAdjust=\"spacingAndGlyphs\" textLength=\"108\" x=\"289\" y=\"228.9951\">Service Layer</text></a><a href=\"psysml:fe465764-9ab4-44bf-be91-bd692232f0a1\" target=\"_top\" title=\"psysml:fe465764-9ab4-44bf-be91-bd692232f0a1\" xlink:actuate=\"onRequest\" xlink:href=\"psysml:fe465764-9ab4-44bf-be91-bd692232f0a1\" xlink:show=\"new\" xlink:title=\"psysml:fe465764-9ab4-44bf-be91-bd692232f0a1\" xlink:type=\"simple\"><polygon fill=\"#FFFFFF\" points=\"297,344,387,344,394,366.2969,401,366.2969,401,396.5938,297,396.5938,297,344\" style=\"stroke: #000000; stroke-width: 1.5;\"/><line style=\"stroke: #000000; stroke-width: 1.5;\" x1=\"297\" x2=\"394\" y1=\"366.2969\" y2=\"366.2969\"/><text fill=\"#000000\" font-family=\"sans-serif\" font-size=\"14\" font-weight=\"bold\" lengthAdjust=\"spacingAndGlyphs\" textLength=\"84\" x=\"301\" y=\"358.9951\">Data Layer</text></a><!--MD5=[af87c684e3b0d8be13c1a698a818ef1e]\n",
       "link E3 to E4--><a href=\"psysml:f18ad3d3-ddea-4435-b15e-701f5c4039de\" target=\"_top\" title=\"psysml:f18ad3d3-ddea-4435-b15e-701f5c4039de\" xlink:actuate=\"onRequest\" xlink:href=\"psysml:f18ad3d3-ddea-4435-b15e-701f5c4039de\" xlink:show=\"new\" xlink:title=\"psysml:f18ad3d3-ddea-4435-b15e-701f5c4039de\" xlink:type=\"simple\"><path d=\"M349,137.1 C349,156.8 349,184.22 349,205.73 \" fill=\"none\" id=\"E3-&gt;E4\" style=\"stroke: #383838; stroke-width: 1.0; stroke-dasharray: 7.0,7.0;\"/><polygon fill=\"#383838\" points=\"349,213.95,352,205.95,346,205.95,349,213.95\" style=\"stroke: #383838; stroke-width: 1.0;\"/><text fill=\"#000000\" font-family=\"sans-serif\" font-size=\"13\" lengthAdjust=\"spacingAndGlyphs\" textLength=\"64\" x=\"350\" y=\"180.0669\">«depend»</text></a><!--MD5=[1b7591eae5389033d8d09a9d6721a717]\n",
       "link E4 to E5--><a href=\"psysml:22e4e023-3d64-4f1c-8411-ecdb932522c7\" target=\"_top\" title=\"psysml:22e4e023-3d64-4f1c-8411-ecdb932522c7\" xlink:actuate=\"onRequest\" xlink:href=\"psysml:22e4e023-3d64-4f1c-8411-ecdb932522c7\" xlink:show=\"new\" xlink:title=\"psysml:22e4e023-3d64-4f1c-8411-ecdb932522c7\" xlink:type=\"simple\"><path d=\"M349,267.1 C349,286.8 349,314.22 349,335.73 \" fill=\"none\" id=\"E4-&gt;E5\" style=\"stroke: #383838; stroke-width: 1.0; stroke-dasharray: 7.0,7.0;\"/><polygon fill=\"#383838\" points=\"349,343.95,352,335.95,346,335.95,349,343.95\" style=\"stroke: #383838; stroke-width: 1.0;\"/><text fill=\"#000000\" font-family=\"sans-serif\" font-size=\"13\" lengthAdjust=\"spacingAndGlyphs\" textLength=\"64\" x=\"350\" y=\"310.0669\">«depend»</text></a><!--MD5=[c5e8897d989ce984f93528998a7150fe]\n",
       "link E8 to E6--><a href=\"psysml:01d1ab15-dda9-4157-a585-7877f2cc1d47\" target=\"_top\" title=\"psysml:01d1ab15-dda9-4157-a585-7877f2cc1d47\" xlink:actuate=\"onRequest\" xlink:href=\"psysml:01d1ab15-dda9-4157-a585-7877f2cc1d47\" xlink:show=\"new\" xlink:title=\"psysml:01d1ab15-dda9-4157-a585-7877f2cc1d47\" xlink:type=\"simple\"><path d=\"M89.42,133.6 C79.35,142.68 69.37,154.11 64,167 C58.5,180.2 58.66,195.94 60.54,209.38 \" fill=\"none\" id=\"E8-&gt;E6\" style=\"stroke: #383838; stroke-width: 1.0; stroke-dasharray: 7.0,7.0;\"/><polygon fill=\"#383838\" points=\"61.9,217.4,63.517,209.0104,57.6018,210.0159,61.9,217.4\" style=\"stroke: #383838; stroke-width: 1.0;\"/><text fill=\"#000000\" font-family=\"sans-serif\" font-size=\"13\" lengthAdjust=\"spacingAndGlyphs\" textLength=\"64\" x=\"65\" y=\"180.0669\">«depend»</text></a><!--MD5=[bfa3c8b0d15052fdf50ae9310b491027]\n",
       "link E8 to E7--><a href=\"psysml:01d1ab15-dda9-4157-a585-7877f2cc1d47\" target=\"_top\" title=\"psysml:01d1ab15-dda9-4157-a585-7877f2cc1d47\" xlink:actuate=\"onRequest\" xlink:href=\"psysml:01d1ab15-dda9-4157-a585-7877f2cc1d47\" xlink:show=\"new\" xlink:title=\"psysml:01d1ab15-dda9-4157-a585-7877f2cc1d47\" xlink:type=\"simple\"><path d=\"M129.28,133.5 C138.17,154.57 151.64,186.5 161.47,209.81 \" fill=\"none\" id=\"E8-&gt;E7\" style=\"stroke: #383838; stroke-width: 1.0; stroke-dasharray: 7.0,7.0;\"/><polygon fill=\"#383838\" points=\"164.66,217.35,164.3241,208.8126,158.7933,211.1385,164.66,217.35\" style=\"stroke: #383838; stroke-width: 1.0;\"/><text fill=\"#000000\" font-family=\"sans-serif\" font-size=\"13\" lengthAdjust=\"spacingAndGlyphs\" textLength=\"64\" x=\"151\" y=\"180.0669\">«depend»</text></a><!--MD5=[132d98177d6a22951d1fe07ee08f504f]\n",
       "@startuml\r\n",
       "top to bottom direction\r\n",
       "skinparam monochrome true\r\n",
       "skinparam classbackgroundcolor white\r\n",
       "skinparam shadowing false\r\n",
       "skinparam wrapWidth 300\r\n",
       "hide circle\r\n",
       "\r\n",
       "package \"DependencyTest\" as E1  [[psysml:a0e63dae-583d-42a3-9f46-6e6177e563b1 ]]  {\r\n",
       "package \"System\" as E2  [[psysml:90630542-d1db-4cfe-a426-6fd5a6b42885 ]]  {\r\n",
       "package \"Application Layer\" as E3  [[psysml:f4739741-a5ef-49a4-9e06-4bb8a722f77e ]]  {\r\n",
       "}\r\n",
       "package \"Service Layer\" as E4  [[psysml:e1090b77-2219-4e30-afea-75b6451d3a90 ]]  {\r\n",
       "}\r\n",
       "package \"Data Layer\" as E5  [[psysml:fe465764-9ab4-44bf-be91-bd692232f0a1 ]]  {\r\n",
       "}\r\n",
       "}\r\n",
       "comp usage \"x\" as E6  <<(T,blue)attribute>> [[psysml:7440b603-2b18-4efb-9bf4-7832c56b919b ]] {\r\n",
       "}\r\n",
       "comp usage \"y\" as E7  <<(T,blue)attribute>> [[psysml:d907cb85-580b-45cd-b69d-b597f081eb5c ]] {\r\n",
       "}\r\n",
       "comp usage \"z\" as E8  <<(T,blue)attribute>> [[psysml:719c36a8-8fd6-40f5-b1aa-2a0e2714a310 ]] {\r\n",
       "}\r\n",
       "E3 ..>> E4 [[psysml:f18ad3d3-ddea-4435-b15e-701f5c4039de ]] : <<depend>>\r\n",
       "E4 ..>> E5 [[psysml:22e4e023-3d64-4f1c-8411-ecdb932522c7 ]] : <<depend>>\r\n",
       "E8 ..>> E6 [[psysml:01d1ab15-dda9-4157-a585-7877f2cc1d47 ]] : <<depend>>\r\n",
       "E8 ..>> E7 [[psysml:01d1ab15-dda9-4157-a585-7877f2cc1d47 ]] : <<depend>>\r\n",
       "}\r\n",
       "@enduml\r\n",
       "\n",
       "PlantUML version 1.2020.13(Sat Jun 13 12:26:38 UTC 2020)\n",
       "(EPL source distribution)\n",
       "Java Runtime: OpenJDK Runtime Environment\n",
       "JVM: OpenJDK 64-Bit Server VM\n",
       "Default Encoding: UTF-8\n",
       "Language: en\n",
       "Country: null\n",
       "--></g></svg>"
      ]
     },
     "execution_count": 45,
     "metadata": {},
     "output_type": "execute_result"
    }
   ],
   "source": [
    "%viz --style=\"TB\" --view=\"Tree\" \"DependencyTest\""
   ]
  },
  {
   "cell_type": "code",
   "execution_count": 46,
   "id": "949a6a24",
   "metadata": {
    "execution": {
     "iopub.execute_input": "2021-04-21T20:26:08.315792Z",
     "iopub.status.busy": "2021-04-21T20:26:08.315281Z",
     "iopub.status.idle": "2021-04-21T20:26:08.319748Z",
     "shell.execute_reply": "2021-04-21T20:26:08.319402Z"
    }
   },
   "outputs": [
    {
     "data": {
      "image/svg+xml": [
       "<?xml version=\"1.0\" encoding=\"UTF-8\" standalone=\"no\"?><svg xmlns=\"http://www.w3.org/2000/svg\" xmlns:xlink=\"http://www.w3.org/1999/xlink\" contentScriptType=\"application/ecmascript\" contentStyleType=\"text/css\" height=\"12px\" preserveAspectRatio=\"none\" style=\"width:12px;height:12px;\" version=\"1.1\" viewBox=\"0 0 12 12\" width=\"12px\" zoomAndPan=\"magnify\"><defs/><g><!--MD5=[f4ee21bc66e489b5061b7c3e9601fdef]\n",
       "@startuml\r\n",
       "top to bottom direction\r\n",
       "skinparam monochrome true\r\n",
       "skinparam classbackgroundcolor white\r\n",
       "skinparam shadowing false\r\n",
       "skinparam wrapWidth 300\r\n",
       "hide circle\r\n",
       "\r\n",
       "@enduml\r\n",
       "\n",
       "PlantUML version 1.2020.13(Sat Jun 13 12:26:38 UTC 2020)\n",
       "(EPL source distribution)\n",
       "Java Runtime: OpenJDK Runtime Environment\n",
       "JVM: OpenJDK 64-Bit Server VM\n",
       "Default Encoding: UTF-8\n",
       "Language: en\n",
       "Country: null\n",
       "--></g></svg>"
      ]
     },
     "execution_count": 46,
     "metadata": {},
     "output_type": "execute_result"
    }
   ],
   "source": [
    "%viz --style=\"TB\" --view=\"State\" \"DependencyTest\""
   ]
  },
  {
   "cell_type": "code",
   "execution_count": 47,
   "id": "5fdb687a",
   "metadata": {
    "execution": {
     "iopub.execute_input": "2021-04-21T20:26:08.371472Z",
     "iopub.status.busy": "2021-04-21T20:26:08.370841Z",
     "iopub.status.idle": "2021-04-21T20:26:08.407490Z",
     "shell.execute_reply": "2021-04-21T20:26:08.406103Z"
    }
   },
   "outputs": [
    {
     "data": {
      "image/svg+xml": [
       "<?xml version=\"1.0\" encoding=\"UTF-8\" standalone=\"no\"?><svg xmlns=\"http://www.w3.org/2000/svg\" xmlns:xlink=\"http://www.w3.org/1999/xlink\" contentScriptType=\"application/ecmascript\" contentStyleType=\"text/css\" height=\"361px\" preserveAspectRatio=\"none\" style=\"width:489px;height:361px;\" version=\"1.1\" viewBox=\"0 0 489 361\" width=\"489px\" zoomAndPan=\"magnify\"><defs/><g><!--MD5=[fbc87193dbaf4d95561dea2c320d4a47]\n",
       "cluster E1--><a href=\"psysml:a0e63dae-583d-42a3-9f46-6e6177e563b1\" target=\"_top\" title=\"psysml:a0e63dae-583d-42a3-9f46-6e6177e563b1\" xlink:actuate=\"onRequest\" xlink:href=\"psysml:a0e63dae-583d-42a3-9f46-6e6177e563b1\" xlink:show=\"new\" xlink:title=\"psysml:a0e63dae-583d-42a3-9f46-6e6177e563b1\" xlink:type=\"simple\"><polygon fill=\"#FFFFFF\" points=\"16,6,156,6,163,28.2969,467,28.2969,467,349,16,349,16,6\" style=\"stroke: #000000; stroke-width: 1.5;\"/><line style=\"stroke: #000000; stroke-width: 1.5;\" x1=\"16\" x2=\"163\" y1=\"28.2969\" y2=\"28.2969\"/><text fill=\"#000000\" font-family=\"sans-serif\" font-size=\"14\" font-weight=\"bold\" lengthAdjust=\"spacingAndGlyphs\" textLength=\"134\" x=\"20\" y=\"20.9951\">DependencyTest</text></a><!--MD5=[e4f7fae6ed58524ba242bb0b0d3be6b7]\n",
       "cluster E2--><a href=\"psysml:90630542-d1db-4cfe-a426-6fd5a6b42885\" target=\"_top\" title=\"psysml:90630542-d1db-4cfe-a426-6fd5a6b42885\" xlink:actuate=\"onRequest\" xlink:href=\"psysml:90630542-d1db-4cfe-a426-6fd5a6b42885\" xlink:show=\"new\" xlink:title=\"psysml:90630542-d1db-4cfe-a426-6fd5a6b42885\" xlink:type=\"simple\"><polygon fill=\"#FFFFFF\" points=\"255,49,319,49,326,71.2969,443,71.2969,443,325,255,325,255,49\" style=\"stroke: #000000; stroke-width: 1.5;\"/><line style=\"stroke: #000000; stroke-width: 1.5;\" x1=\"255\" x2=\"326\" y1=\"71.2969\" y2=\"71.2969\"/><text fill=\"#000000\" font-family=\"sans-serif\" font-size=\"14\" font-weight=\"bold\" lengthAdjust=\"spacingAndGlyphs\" textLength=\"58\" x=\"259\" y=\"63.9951\">System</text></a><!--MD5=[60a26617385b1d2d0262a64233df1f8d]\n",
       "class E6--><a href=\"psysml:7440b603-2b18-4efb-9bf4-7832c56b919b\" target=\"_top\" title=\"psysml:7440b603-2b18-4efb-9bf4-7832c56b919b\" xlink:actuate=\"onRequest\" xlink:href=\"psysml:7440b603-2b18-4efb-9bf4-7832c56b919b\" xlink:show=\"new\" xlink:title=\"psysml:7440b603-2b18-4efb-9bf4-7832c56b919b\" xlink:type=\"simple\"><rect fill=\"#FFFFFF\" height=\"45.9375\" id=\"E6\" rx=\"10\" ry=\"10\" style=\"stroke: #383838; stroke-width: 1.5;\" width=\"71\" x=\"32.5\" y=\"173.5\"/><text fill=\"#000000\" font-family=\"sans-serif\" font-size=\"12\" font-style=\"italic\" lengthAdjust=\"spacingAndGlyphs\" textLength=\"69\" x=\"33.5\" y=\"189.6387\">«attribute»</text><text fill=\"#000000\" font-family=\"sans-serif\" font-size=\"12\" lengthAdjust=\"spacingAndGlyphs\" textLength=\"6\" x=\"65\" y=\"203.6074\">x</text><line style=\"stroke: #383838; stroke-width: 1.5;\" x1=\"33.5\" x2=\"102.5\" y1=\"211.4375\" y2=\"211.4375\"/></a><!--MD5=[2156ba9850f5573cc1fc38a6a4b2f02b]\n",
       "class E7--><a href=\"psysml:d907cb85-580b-45cd-b69d-b597f081eb5c\" target=\"_top\" title=\"psysml:d907cb85-580b-45cd-b69d-b597f081eb5c\" xlink:actuate=\"onRequest\" xlink:href=\"psysml:d907cb85-580b-45cd-b69d-b597f081eb5c\" xlink:show=\"new\" xlink:title=\"psysml:d907cb85-580b-45cd-b69d-b597f081eb5c\" xlink:type=\"simple\"><rect fill=\"#FFFFFF\" height=\"45.9375\" id=\"E7\" rx=\"10\" ry=\"10\" style=\"stroke: #383838; stroke-width: 1.5;\" width=\"71\" x=\"138.5\" y=\"173.5\"/><text fill=\"#000000\" font-family=\"sans-serif\" font-size=\"12\" font-style=\"italic\" lengthAdjust=\"spacingAndGlyphs\" textLength=\"69\" x=\"139.5\" y=\"189.6387\">«attribute»</text><text fill=\"#000000\" font-family=\"sans-serif\" font-size=\"12\" lengthAdjust=\"spacingAndGlyphs\" textLength=\"6\" x=\"171\" y=\"203.6074\">y</text><line style=\"stroke: #383838; stroke-width: 1.5;\" x1=\"139.5\" x2=\"208.5\" y1=\"211.4375\" y2=\"211.4375\"/></a><!--MD5=[b9389687b975829384b498ac4b7476b2]\n",
       "class E8--><a href=\"psysml:719c36a8-8fd6-40f5-b1aa-2a0e2714a310\" target=\"_top\" title=\"psysml:719c36a8-8fd6-40f5-b1aa-2a0e2714a310\" xlink:actuate=\"onRequest\" xlink:href=\"psysml:719c36a8-8fd6-40f5-b1aa-2a0e2714a310\" xlink:show=\"new\" xlink:title=\"psysml:719c36a8-8fd6-40f5-b1aa-2a0e2714a310\" xlink:type=\"simple\"><rect fill=\"#FFFFFF\" height=\"45.9375\" id=\"E8\" rx=\"10\" ry=\"10\" style=\"stroke: #383838; stroke-width: 1.5;\" width=\"71\" x=\"84.5\" y=\"87.5\"/><text fill=\"#000000\" font-family=\"sans-serif\" font-size=\"12\" font-style=\"italic\" lengthAdjust=\"spacingAndGlyphs\" textLength=\"69\" x=\"85.5\" y=\"103.6387\">«attribute»</text><text fill=\"#000000\" font-family=\"sans-serif\" font-size=\"12\" lengthAdjust=\"spacingAndGlyphs\" textLength=\"5\" x=\"117.5\" y=\"117.6074\">z</text><line style=\"stroke: #383838; stroke-width: 1.5;\" x1=\"85.5\" x2=\"154.5\" y1=\"125.4375\" y2=\"125.4375\"/></a><a href=\"psysml:f4739741-a5ef-49a4-9e06-4bb8a722f77e\" target=\"_top\" title=\"psysml:f4739741-a5ef-49a4-9e06-4bb8a722f77e\" xlink:actuate=\"onRequest\" xlink:href=\"psysml:f4739741-a5ef-49a4-9e06-4bb8a722f77e\" xlink:show=\"new\" xlink:title=\"psysml:f4739741-a5ef-49a4-9e06-4bb8a722f77e\" xlink:type=\"simple\"><polygon fill=\"#FFFFFF\" points=\"271,84,413,84,420,106.2969,427,106.2969,427,136.5938,271,136.5938,271,84\" style=\"stroke: #000000; stroke-width: 1.5;\"/><line style=\"stroke: #000000; stroke-width: 1.5;\" x1=\"271\" x2=\"420\" y1=\"106.2969\" y2=\"106.2969\"/><text fill=\"#000000\" font-family=\"sans-serif\" font-size=\"14\" font-weight=\"bold\" lengthAdjust=\"spacingAndGlyphs\" textLength=\"136\" x=\"275\" y=\"98.9951\">Application Layer</text></a><a href=\"psysml:e1090b77-2219-4e30-afea-75b6451d3a90\" target=\"_top\" title=\"psysml:e1090b77-2219-4e30-afea-75b6451d3a90\" xlink:actuate=\"onRequest\" xlink:href=\"psysml:e1090b77-2219-4e30-afea-75b6451d3a90\" xlink:show=\"new\" xlink:title=\"psysml:e1090b77-2219-4e30-afea-75b6451d3a90\" xlink:type=\"simple\"><polygon fill=\"#FFFFFF\" points=\"285,170,399,170,406,192.2969,413,192.2969,413,222.5938,285,222.5938,285,170\" style=\"stroke: #000000; stroke-width: 1.5;\"/><line style=\"stroke: #000000; stroke-width: 1.5;\" x1=\"285\" x2=\"406\" y1=\"192.2969\" y2=\"192.2969\"/><text fill=\"#000000\" font-family=\"sans-serif\" font-size=\"14\" font-weight=\"bold\" lengthAdjust=\"spacingAndGlyphs\" textLength=\"108\" x=\"289\" y=\"184.9951\">Service Layer</text></a><a href=\"psysml:fe465764-9ab4-44bf-be91-bd692232f0a1\" target=\"_top\" title=\"psysml:fe465764-9ab4-44bf-be91-bd692232f0a1\" xlink:actuate=\"onRequest\" xlink:href=\"psysml:fe465764-9ab4-44bf-be91-bd692232f0a1\" xlink:show=\"new\" xlink:title=\"psysml:fe465764-9ab4-44bf-be91-bd692232f0a1\" xlink:type=\"simple\"><polygon fill=\"#FFFFFF\" points=\"297,256,387,256,394,278.2969,401,278.2969,401,308.5938,297,308.5938,297,256\" style=\"stroke: #000000; stroke-width: 1.5;\"/><line style=\"stroke: #000000; stroke-width: 1.5;\" x1=\"297\" x2=\"394\" y1=\"278.2969\" y2=\"278.2969\"/><text fill=\"#000000\" font-family=\"sans-serif\" font-size=\"14\" font-weight=\"bold\" lengthAdjust=\"spacingAndGlyphs\" textLength=\"84\" x=\"301\" y=\"270.9951\">Data Layer</text></a><!--MD5=[af87c684e3b0d8be13c1a698a818ef1e]\n",
       "link E3 to E4--><a href=\"psysml:f18ad3d3-ddea-4435-b15e-701f5c4039de\" target=\"_top\" title=\"psysml:f18ad3d3-ddea-4435-b15e-701f5c4039de\" xlink:actuate=\"onRequest\" xlink:href=\"psysml:f18ad3d3-ddea-4435-b15e-701f5c4039de\" xlink:show=\"new\" xlink:title=\"psysml:f18ad3d3-ddea-4435-b15e-701f5c4039de\" xlink:type=\"simple\"><path d=\"M349,137.16 C349,144.98 349,153.69 349,161.94 \" fill=\"none\" id=\"E3-&gt;E4\" style=\"stroke: #383838; stroke-width: 1.0; stroke-dasharray: 7.0,7.0;\"/><polygon fill=\"#383838\" points=\"349,170,352,162,346,162,349,170\" style=\"stroke: #383838; stroke-width: 1.0;\"/><text fill=\"#000000\" font-family=\"sans-serif\" font-size=\"13\" lengthAdjust=\"spacingAndGlyphs\" textLength=\"64\" x=\"350\" y=\"158.0669\">«depend»</text></a><!--MD5=[1b7591eae5389033d8d09a9d6721a717]\n",
       "link E4 to E5--><a href=\"psysml:22e4e023-3d64-4f1c-8411-ecdb932522c7\" target=\"_top\" title=\"psysml:22e4e023-3d64-4f1c-8411-ecdb932522c7\" xlink:actuate=\"onRequest\" xlink:href=\"psysml:22e4e023-3d64-4f1c-8411-ecdb932522c7\" xlink:show=\"new\" xlink:title=\"psysml:22e4e023-3d64-4f1c-8411-ecdb932522c7\" xlink:type=\"simple\"><path d=\"M349,223.16 C349,230.98 349,239.69 349,247.94 \" fill=\"none\" id=\"E4-&gt;E5\" style=\"stroke: #383838; stroke-width: 1.0; stroke-dasharray: 7.0,7.0;\"/><polygon fill=\"#383838\" points=\"349,256,352,248,346,248,349,256\" style=\"stroke: #383838; stroke-width: 1.0;\"/><text fill=\"#000000\" font-family=\"sans-serif\" font-size=\"13\" lengthAdjust=\"spacingAndGlyphs\" textLength=\"64\" x=\"350\" y=\"244.0669\">«depend»</text></a><!--MD5=[c5e8897d989ce984f93528998a7150fe]\n",
       "link E8 to E6--><a href=\"psysml:01d1ab15-dda9-4157-a585-7877f2cc1d47\" target=\"_top\" title=\"psysml:01d1ab15-dda9-4157-a585-7877f2cc1d47\" xlink:actuate=\"onRequest\" xlink:href=\"psysml:01d1ab15-dda9-4157-a585-7877f2cc1d47\" xlink:show=\"new\" xlink:title=\"psysml:01d1ab15-dda9-4157-a585-7877f2cc1d47\" xlink:type=\"simple\"><path d=\"M84.49,125.34 C76.34,130.27 68.69,136.72 64,145 C60.54,151.1 59.62,158.31 60,165.33 \" fill=\"none\" id=\"E8-&gt;E6\" style=\"stroke: #383838; stroke-width: 1.0; stroke-dasharray: 7.0,7.0;\"/><polygon fill=\"#383838\" points=\"60.97,173.42,63.0061,165.1221,57.0479,165.8294,60.97,173.42\" style=\"stroke: #383838; stroke-width: 1.0;\"/><text fill=\"#000000\" font-family=\"sans-serif\" font-size=\"13\" lengthAdjust=\"spacingAndGlyphs\" textLength=\"64\" x=\"65\" y=\"158.0669\">«depend»</text></a><!--MD5=[bfa3c8b0d15052fdf50ae9310b491027]\n",
       "link E8 to E7--><a href=\"psysml:01d1ab15-dda9-4157-a585-7877f2cc1d47\" target=\"_top\" title=\"psysml:01d1ab15-dda9-4157-a585-7877f2cc1d47\" xlink:actuate=\"onRequest\" xlink:href=\"psysml:01d1ab15-dda9-4157-a585-7877f2cc1d47\" xlink:show=\"new\" xlink:title=\"psysml:01d1ab15-dda9-4157-a585-7877f2cc1d47\" xlink:type=\"simple\"><path d=\"M134.19,133.57 C140.65,143.62 148.38,155.65 155.31,166.42 \" fill=\"none\" id=\"E8-&gt;E7\" style=\"stroke: #383838; stroke-width: 1.0; stroke-dasharray: 7.0,7.0;\"/><polygon fill=\"#383838\" points=\"159.72,173.29,157.9148,164.9389,152.8688,168.185,159.72,173.29\" style=\"stroke: #383838; stroke-width: 1.0;\"/><text fill=\"#000000\" font-family=\"sans-serif\" font-size=\"13\" lengthAdjust=\"spacingAndGlyphs\" textLength=\"64\" x=\"152\" y=\"158.0669\">«depend»</text></a><!--MD5=[48d75959ca7d5982a9e79e6fa22b04cd]\n",
       "@startuml\r\n",
       "skinparam ranksep 10\r\n",
       "skinparam rectangle {\r\n",
       " backgroundColor<<block>> LightGreen\r\n",
       "}\r\n",
       "top to bottom direction\r\n",
       "skinparam monochrome true\r\n",
       "skinparam classbackgroundcolor white\r\n",
       "skinparam shadowing false\r\n",
       "skinparam wrapWidth 300\r\n",
       "hide circle\r\n",
       "\r\n",
       "package \"DependencyTest\" as E1  [[psysml:a0e63dae-583d-42a3-9f46-6e6177e563b1 ]]  {\r\n",
       "package \"System\" as E2  [[psysml:90630542-d1db-4cfe-a426-6fd5a6b42885 ]]  {\r\n",
       "package \"Application Layer\" as E3  [[psysml:f4739741-a5ef-49a4-9e06-4bb8a722f77e ]]  {\r\n",
       "}\r\n",
       "package \"Service Layer\" as E4  [[psysml:e1090b77-2219-4e30-afea-75b6451d3a90 ]]  {\r\n",
       "}\r\n",
       "package \"Data Layer\" as E5  [[psysml:fe465764-9ab4-44bf-be91-bd692232f0a1 ]]  {\r\n",
       "}\r\n",
       "}\r\n",
       "comp usage \"x\" as E6  <<(T,blue)attribute>> [[psysml:7440b603-2b18-4efb-9bf4-7832c56b919b ]] {\r\n",
       "}\r\n",
       "comp usage \"y\" as E7  <<(T,blue)attribute>> [[psysml:d907cb85-580b-45cd-b69d-b597f081eb5c ]] {\r\n",
       "}\r\n",
       "comp usage \"z\" as E8  <<(T,blue)attribute>> [[psysml:719c36a8-8fd6-40f5-b1aa-2a0e2714a310 ]] {\r\n",
       "}\r\n",
       "E3 ..>> E4 [[psysml:f18ad3d3-ddea-4435-b15e-701f5c4039de ]] : <<depend>>\r\n",
       "E4 ..>> E5 [[psysml:22e4e023-3d64-4f1c-8411-ecdb932522c7 ]] : <<depend>>\r\n",
       "E8 ..>> E6 [[psysml:01d1ab15-dda9-4157-a585-7877f2cc1d47 ]] : <<depend>>\r\n",
       "E8 ..>> E7 [[psysml:01d1ab15-dda9-4157-a585-7877f2cc1d47 ]] : <<depend>>\r\n",
       "}\r\n",
       "@enduml\r\n",
       "\n",
       "PlantUML version 1.2020.13(Sat Jun 13 12:26:38 UTC 2020)\n",
       "(EPL source distribution)\n",
       "Java Runtime: OpenJDK Runtime Environment\n",
       "JVM: OpenJDK 64-Bit Server VM\n",
       "Default Encoding: UTF-8\n",
       "Language: en\n",
       "Country: null\n",
       "--></g></svg>"
      ]
     },
     "execution_count": 47,
     "metadata": {},
     "output_type": "execute_result"
    }
   ],
   "source": [
    "%viz --style=\"TB\" --view=\"Interconnection\" \"DependencyTest\""
   ]
  },
  {
   "cell_type": "code",
   "execution_count": 48,
   "id": "40adfa04",
   "metadata": {
    "execution": {
     "iopub.execute_input": "2021-04-21T20:26:08.454509Z",
     "iopub.status.busy": "2021-04-21T20:26:08.453962Z",
     "iopub.status.idle": "2021-04-21T20:26:08.463153Z",
     "shell.execute_reply": "2021-04-21T20:26:08.462828Z"
    }
   },
   "outputs": [
    {
     "data": {
      "image/svg+xml": [
       "<?xml version=\"1.0\" encoding=\"UTF-8\" standalone=\"no\"?><svg xmlns=\"http://www.w3.org/2000/svg\" xmlns:xlink=\"http://www.w3.org/1999/xlink\" contentScriptType=\"application/ecmascript\" contentStyleType=\"text/css\" height=\"12px\" preserveAspectRatio=\"none\" style=\"width:12px;height:12px;\" version=\"1.1\" viewBox=\"0 0 12 12\" width=\"12px\" zoomAndPan=\"magnify\"><defs/><g><!--MD5=[06afc254b03ac5e9d9fb7773b07d0800]\n",
       "@startuml\r\n",
       "skinparam ranksep 8\r\n",
       "top to bottom direction\r\n",
       "skinparam monochrome true\r\n",
       "skinparam classbackgroundcolor white\r\n",
       "skinparam shadowing false\r\n",
       "skinparam wrapWidth 300\r\n",
       "hide circle\r\n",
       "\r\n",
       "@enduml\r\n",
       "\n",
       "PlantUML version 1.2020.13(Sat Jun 13 12:26:38 UTC 2020)\n",
       "(EPL source distribution)\n",
       "Java Runtime: OpenJDK Runtime Environment\n",
       "JVM: OpenJDK 64-Bit Server VM\n",
       "Default Encoding: UTF-8\n",
       "Language: en\n",
       "Country: null\n",
       "--></g></svg>"
      ]
     },
     "execution_count": 48,
     "metadata": {},
     "output_type": "execute_result"
    }
   ],
   "source": [
    "%viz --style=\"TB\" --view=\"Action\" \"DependencyTest\""
   ]
  },
  {
   "cell_type": "code",
   "execution_count": 49,
   "id": "74adb312",
   "metadata": {
    "execution": {
     "iopub.execute_input": "2021-04-21T20:26:08.515861Z",
     "iopub.status.busy": "2021-04-21T20:26:08.515371Z",
     "iopub.status.idle": "2021-04-21T20:26:08.554671Z",
     "shell.execute_reply": "2021-04-21T20:26:08.553407Z"
    }
   },
   "outputs": [
    {
     "data": {
      "image/svg+xml": [
       "<?xml version=\"1.0\" encoding=\"UTF-8\" standalone=\"no\"?><svg xmlns=\"http://www.w3.org/2000/svg\" xmlns:xlink=\"http://www.w3.org/1999/xlink\" contentScriptType=\"application/ecmascript\" contentStyleType=\"text/css\" height=\"449px\" preserveAspectRatio=\"none\" style=\"width:489px;height:449px;\" version=\"1.1\" viewBox=\"0 0 489 449\" width=\"489px\" zoomAndPan=\"magnify\"><defs/><g><!--MD5=[fbc87193dbaf4d95561dea2c320d4a47]\n",
       "cluster E1--><a href=\"psysml:a0e63dae-583d-42a3-9f46-6e6177e563b1\" target=\"_top\" title=\"psysml:a0e63dae-583d-42a3-9f46-6e6177e563b1\" xlink:actuate=\"onRequest\" xlink:href=\"psysml:a0e63dae-583d-42a3-9f46-6e6177e563b1\" xlink:show=\"new\" xlink:title=\"psysml:a0e63dae-583d-42a3-9f46-6e6177e563b1\" xlink:type=\"simple\"><polygon fill=\"#FFFFFF\" points=\"16,6,156,6,163,28.2969,467,28.2969,467,437,16,437,16,6\" style=\"stroke: #000000; stroke-width: 1.5;\"/><line style=\"stroke: #000000; stroke-width: 1.5;\" x1=\"16\" x2=\"163\" y1=\"28.2969\" y2=\"28.2969\"/><text fill=\"#000000\" font-family=\"sans-serif\" font-size=\"14\" font-weight=\"bold\" lengthAdjust=\"spacingAndGlyphs\" textLength=\"134\" x=\"20\" y=\"20.9951\">DependencyTest</text></a><!--MD5=[e4f7fae6ed58524ba242bb0b0d3be6b7]\n",
       "cluster E2--><a href=\"psysml:90630542-d1db-4cfe-a426-6fd5a6b42885\" target=\"_top\" title=\"psysml:90630542-d1db-4cfe-a426-6fd5a6b42885\" xlink:actuate=\"onRequest\" xlink:href=\"psysml:90630542-d1db-4cfe-a426-6fd5a6b42885\" xlink:show=\"new\" xlink:title=\"psysml:90630542-d1db-4cfe-a426-6fd5a6b42885\" xlink:type=\"simple\"><polygon fill=\"#FFFFFF\" points=\"255,49,319,49,326,71.2969,443,71.2969,443,413,255,413,255,49\" style=\"stroke: #000000; stroke-width: 1.5;\"/><line style=\"stroke: #000000; stroke-width: 1.5;\" x1=\"255\" x2=\"326\" y1=\"71.2969\" y2=\"71.2969\"/><text fill=\"#000000\" font-family=\"sans-serif\" font-size=\"14\" font-weight=\"bold\" lengthAdjust=\"spacingAndGlyphs\" textLength=\"58\" x=\"259\" y=\"63.9951\">System</text></a><!--MD5=[60a26617385b1d2d0262a64233df1f8d]\n",
       "class E6--><a href=\"psysml:7440b603-2b18-4efb-9bf4-7832c56b919b\" target=\"_top\" title=\"psysml:7440b603-2b18-4efb-9bf4-7832c56b919b\" xlink:actuate=\"onRequest\" xlink:href=\"psysml:7440b603-2b18-4efb-9bf4-7832c56b919b\" xlink:show=\"new\" xlink:title=\"psysml:7440b603-2b18-4efb-9bf4-7832c56b919b\" xlink:type=\"simple\"><rect fill=\"#FFFFFF\" height=\"45.9375\" id=\"E6\" rx=\"10\" ry=\"10\" style=\"stroke: #383838; stroke-width: 1.5;\" width=\"71\" x=\"32.5\" y=\"217.5\"/><text fill=\"#000000\" font-family=\"sans-serif\" font-size=\"12\" font-style=\"italic\" lengthAdjust=\"spacingAndGlyphs\" textLength=\"69\" x=\"33.5\" y=\"233.6387\">«attribute»</text><text fill=\"#000000\" font-family=\"sans-serif\" font-size=\"12\" lengthAdjust=\"spacingAndGlyphs\" textLength=\"6\" x=\"65\" y=\"247.6074\">x</text><line style=\"stroke: #383838; stroke-width: 1.5;\" x1=\"33.5\" x2=\"102.5\" y1=\"255.4375\" y2=\"255.4375\"/></a><!--MD5=[2156ba9850f5573cc1fc38a6a4b2f02b]\n",
       "class E7--><a href=\"psysml:d907cb85-580b-45cd-b69d-b597f081eb5c\" target=\"_top\" title=\"psysml:d907cb85-580b-45cd-b69d-b597f081eb5c\" xlink:actuate=\"onRequest\" xlink:href=\"psysml:d907cb85-580b-45cd-b69d-b597f081eb5c\" xlink:show=\"new\" xlink:title=\"psysml:d907cb85-580b-45cd-b69d-b597f081eb5c\" xlink:type=\"simple\"><rect fill=\"#FFFFFF\" height=\"45.9375\" id=\"E7\" rx=\"10\" ry=\"10\" style=\"stroke: #383838; stroke-width: 1.5;\" width=\"71\" x=\"138.5\" y=\"217.5\"/><text fill=\"#000000\" font-family=\"sans-serif\" font-size=\"12\" font-style=\"italic\" lengthAdjust=\"spacingAndGlyphs\" textLength=\"69\" x=\"139.5\" y=\"233.6387\">«attribute»</text><text fill=\"#000000\" font-family=\"sans-serif\" font-size=\"12\" lengthAdjust=\"spacingAndGlyphs\" textLength=\"6\" x=\"171\" y=\"247.6074\">y</text><line style=\"stroke: #383838; stroke-width: 1.5;\" x1=\"139.5\" x2=\"208.5\" y1=\"255.4375\" y2=\"255.4375\"/></a><!--MD5=[b9389687b975829384b498ac4b7476b2]\n",
       "class E8--><a href=\"psysml:719c36a8-8fd6-40f5-b1aa-2a0e2714a310\" target=\"_top\" title=\"psysml:719c36a8-8fd6-40f5-b1aa-2a0e2714a310\" xlink:actuate=\"onRequest\" xlink:href=\"psysml:719c36a8-8fd6-40f5-b1aa-2a0e2714a310\" xlink:show=\"new\" xlink:title=\"psysml:719c36a8-8fd6-40f5-b1aa-2a0e2714a310\" xlink:type=\"simple\"><rect fill=\"#FFFFFF\" height=\"45.9375\" id=\"E8\" rx=\"10\" ry=\"10\" style=\"stroke: #383838; stroke-width: 1.5;\" width=\"71\" x=\"84.5\" y=\"87.5\"/><text fill=\"#000000\" font-family=\"sans-serif\" font-size=\"12\" font-style=\"italic\" lengthAdjust=\"spacingAndGlyphs\" textLength=\"69\" x=\"85.5\" y=\"103.6387\">«attribute»</text><text fill=\"#000000\" font-family=\"sans-serif\" font-size=\"12\" lengthAdjust=\"spacingAndGlyphs\" textLength=\"5\" x=\"117.5\" y=\"117.6074\">z</text><line style=\"stroke: #383838; stroke-width: 1.5;\" x1=\"85.5\" x2=\"154.5\" y1=\"125.4375\" y2=\"125.4375\"/></a><a href=\"psysml:f4739741-a5ef-49a4-9e06-4bb8a722f77e\" target=\"_top\" title=\"psysml:f4739741-a5ef-49a4-9e06-4bb8a722f77e\" xlink:actuate=\"onRequest\" xlink:href=\"psysml:f4739741-a5ef-49a4-9e06-4bb8a722f77e\" xlink:show=\"new\" xlink:title=\"psysml:f4739741-a5ef-49a4-9e06-4bb8a722f77e\" xlink:type=\"simple\"><polygon fill=\"#FFFFFF\" points=\"271,84,413,84,420,106.2969,427,106.2969,427,136.5938,271,136.5938,271,84\" style=\"stroke: #000000; stroke-width: 1.5;\"/><line style=\"stroke: #000000; stroke-width: 1.5;\" x1=\"271\" x2=\"420\" y1=\"106.2969\" y2=\"106.2969\"/><text fill=\"#000000\" font-family=\"sans-serif\" font-size=\"14\" font-weight=\"bold\" lengthAdjust=\"spacingAndGlyphs\" textLength=\"136\" x=\"275\" y=\"98.9951\">Application Layer</text></a><a href=\"psysml:e1090b77-2219-4e30-afea-75b6451d3a90\" target=\"_top\" title=\"psysml:e1090b77-2219-4e30-afea-75b6451d3a90\" xlink:actuate=\"onRequest\" xlink:href=\"psysml:e1090b77-2219-4e30-afea-75b6451d3a90\" xlink:show=\"new\" xlink:title=\"psysml:e1090b77-2219-4e30-afea-75b6451d3a90\" xlink:type=\"simple\"><polygon fill=\"#FFFFFF\" points=\"285,214,399,214,406,236.2969,413,236.2969,413,266.5938,285,266.5938,285,214\" style=\"stroke: #000000; stroke-width: 1.5;\"/><line style=\"stroke: #000000; stroke-width: 1.5;\" x1=\"285\" x2=\"406\" y1=\"236.2969\" y2=\"236.2969\"/><text fill=\"#000000\" font-family=\"sans-serif\" font-size=\"14\" font-weight=\"bold\" lengthAdjust=\"spacingAndGlyphs\" textLength=\"108\" x=\"289\" y=\"228.9951\">Service Layer</text></a><a href=\"psysml:fe465764-9ab4-44bf-be91-bd692232f0a1\" target=\"_top\" title=\"psysml:fe465764-9ab4-44bf-be91-bd692232f0a1\" xlink:actuate=\"onRequest\" xlink:href=\"psysml:fe465764-9ab4-44bf-be91-bd692232f0a1\" xlink:show=\"new\" xlink:title=\"psysml:fe465764-9ab4-44bf-be91-bd692232f0a1\" xlink:type=\"simple\"><polygon fill=\"#FFFFFF\" points=\"297,344,387,344,394,366.2969,401,366.2969,401,396.5938,297,396.5938,297,344\" style=\"stroke: #000000; stroke-width: 1.5;\"/><line style=\"stroke: #000000; stroke-width: 1.5;\" x1=\"297\" x2=\"394\" y1=\"366.2969\" y2=\"366.2969\"/><text fill=\"#000000\" font-family=\"sans-serif\" font-size=\"14\" font-weight=\"bold\" lengthAdjust=\"spacingAndGlyphs\" textLength=\"84\" x=\"301\" y=\"358.9951\">Data Layer</text></a><!--MD5=[af87c684e3b0d8be13c1a698a818ef1e]\n",
       "link E3 to E4--><a href=\"psysml:f18ad3d3-ddea-4435-b15e-701f5c4039de\" target=\"_top\" title=\"psysml:f18ad3d3-ddea-4435-b15e-701f5c4039de\" xlink:actuate=\"onRequest\" xlink:href=\"psysml:f18ad3d3-ddea-4435-b15e-701f5c4039de\" xlink:show=\"new\" xlink:title=\"psysml:f18ad3d3-ddea-4435-b15e-701f5c4039de\" xlink:type=\"simple\"><path d=\"M349,137.1 C349,156.8 349,184.22 349,205.73 \" fill=\"none\" id=\"E3-&gt;E4\" style=\"stroke: #383838; stroke-width: 1.0; stroke-dasharray: 7.0,7.0;\"/><polygon fill=\"#383838\" points=\"349,213.95,352,205.95,346,205.95,349,213.95\" style=\"stroke: #383838; stroke-width: 1.0;\"/><text fill=\"#000000\" font-family=\"sans-serif\" font-size=\"13\" lengthAdjust=\"spacingAndGlyphs\" textLength=\"64\" x=\"350\" y=\"180.0669\">«depend»</text></a><!--MD5=[1b7591eae5389033d8d09a9d6721a717]\n",
       "link E4 to E5--><a href=\"psysml:22e4e023-3d64-4f1c-8411-ecdb932522c7\" target=\"_top\" title=\"psysml:22e4e023-3d64-4f1c-8411-ecdb932522c7\" xlink:actuate=\"onRequest\" xlink:href=\"psysml:22e4e023-3d64-4f1c-8411-ecdb932522c7\" xlink:show=\"new\" xlink:title=\"psysml:22e4e023-3d64-4f1c-8411-ecdb932522c7\" xlink:type=\"simple\"><path d=\"M349,267.1 C349,286.8 349,314.22 349,335.73 \" fill=\"none\" id=\"E4-&gt;E5\" style=\"stroke: #383838; stroke-width: 1.0; stroke-dasharray: 7.0,7.0;\"/><polygon fill=\"#383838\" points=\"349,343.95,352,335.95,346,335.95,349,343.95\" style=\"stroke: #383838; stroke-width: 1.0;\"/><text fill=\"#000000\" font-family=\"sans-serif\" font-size=\"13\" lengthAdjust=\"spacingAndGlyphs\" textLength=\"64\" x=\"350\" y=\"310.0669\">«depend»</text></a><!--MD5=[c5e8897d989ce984f93528998a7150fe]\n",
       "link E8 to E6--><a href=\"psysml:01d1ab15-dda9-4157-a585-7877f2cc1d47\" target=\"_top\" title=\"psysml:01d1ab15-dda9-4157-a585-7877f2cc1d47\" xlink:actuate=\"onRequest\" xlink:href=\"psysml:01d1ab15-dda9-4157-a585-7877f2cc1d47\" xlink:show=\"new\" xlink:title=\"psysml:01d1ab15-dda9-4157-a585-7877f2cc1d47\" xlink:type=\"simple\"><path d=\"M89.42,133.6 C79.35,142.68 69.37,154.11 64,167 C58.5,180.2 58.66,195.94 60.54,209.38 \" fill=\"none\" id=\"E8-&gt;E6\" style=\"stroke: #383838; stroke-width: 1.0; stroke-dasharray: 7.0,7.0;\"/><polygon fill=\"#383838\" points=\"61.9,217.4,63.517,209.0104,57.6018,210.0159,61.9,217.4\" style=\"stroke: #383838; stroke-width: 1.0;\"/><text fill=\"#000000\" font-family=\"sans-serif\" font-size=\"13\" lengthAdjust=\"spacingAndGlyphs\" textLength=\"64\" x=\"65\" y=\"180.0669\">«depend»</text></a><!--MD5=[bfa3c8b0d15052fdf50ae9310b491027]\n",
       "link E8 to E7--><a href=\"psysml:01d1ab15-dda9-4157-a585-7877f2cc1d47\" target=\"_top\" title=\"psysml:01d1ab15-dda9-4157-a585-7877f2cc1d47\" xlink:actuate=\"onRequest\" xlink:href=\"psysml:01d1ab15-dda9-4157-a585-7877f2cc1d47\" xlink:show=\"new\" xlink:title=\"psysml:01d1ab15-dda9-4157-a585-7877f2cc1d47\" xlink:type=\"simple\"><path d=\"M129.28,133.5 C138.17,154.57 151.64,186.5 161.47,209.81 \" fill=\"none\" id=\"E8-&gt;E7\" style=\"stroke: #383838; stroke-width: 1.0; stroke-dasharray: 7.0,7.0;\"/><polygon fill=\"#383838\" points=\"164.66,217.35,164.3241,208.8126,158.7933,211.1385,164.66,217.35\" style=\"stroke: #383838; stroke-width: 1.0;\"/><text fill=\"#000000\" font-family=\"sans-serif\" font-size=\"13\" lengthAdjust=\"spacingAndGlyphs\" textLength=\"64\" x=\"151\" y=\"180.0669\">«depend»</text></a><!--MD5=[132d98177d6a22951d1fe07ee08f504f]\n",
       "@startuml\r\n",
       "top to bottom direction\r\n",
       "skinparam monochrome true\r\n",
       "skinparam classbackgroundcolor white\r\n",
       "skinparam shadowing false\r\n",
       "skinparam wrapWidth 300\r\n",
       "hide circle\r\n",
       "\r\n",
       "package \"DependencyTest\" as E1  [[psysml:a0e63dae-583d-42a3-9f46-6e6177e563b1 ]]  {\r\n",
       "package \"System\" as E2  [[psysml:90630542-d1db-4cfe-a426-6fd5a6b42885 ]]  {\r\n",
       "package \"Application Layer\" as E3  [[psysml:f4739741-a5ef-49a4-9e06-4bb8a722f77e ]]  {\r\n",
       "}\r\n",
       "package \"Service Layer\" as E4  [[psysml:e1090b77-2219-4e30-afea-75b6451d3a90 ]]  {\r\n",
       "}\r\n",
       "package \"Data Layer\" as E5  [[psysml:fe465764-9ab4-44bf-be91-bd692232f0a1 ]]  {\r\n",
       "}\r\n",
       "}\r\n",
       "comp usage \"x\" as E6  <<(T,blue)attribute>> [[psysml:7440b603-2b18-4efb-9bf4-7832c56b919b ]] {\r\n",
       "}\r\n",
       "comp usage \"y\" as E7  <<(T,blue)attribute>> [[psysml:d907cb85-580b-45cd-b69d-b597f081eb5c ]] {\r\n",
       "}\r\n",
       "comp usage \"z\" as E8  <<(T,blue)attribute>> [[psysml:719c36a8-8fd6-40f5-b1aa-2a0e2714a310 ]] {\r\n",
       "}\r\n",
       "E3 ..>> E4 [[psysml:f18ad3d3-ddea-4435-b15e-701f5c4039de ]] : <<depend>>\r\n",
       "E4 ..>> E5 [[psysml:22e4e023-3d64-4f1c-8411-ecdb932522c7 ]] : <<depend>>\r\n",
       "E8 ..>> E6 [[psysml:01d1ab15-dda9-4157-a585-7877f2cc1d47 ]] : <<depend>>\r\n",
       "E8 ..>> E7 [[psysml:01d1ab15-dda9-4157-a585-7877f2cc1d47 ]] : <<depend>>\r\n",
       "}\r\n",
       "@enduml\r\n",
       "\n",
       "PlantUML version 1.2020.13(Sat Jun 13 12:26:38 UTC 2020)\n",
       "(EPL source distribution)\n",
       "Java Runtime: OpenJDK Runtime Environment\n",
       "JVM: OpenJDK 64-Bit Server VM\n",
       "Default Encoding: UTF-8\n",
       "Language: en\n",
       "Country: null\n",
       "--></g></svg>"
      ]
     },
     "execution_count": 49,
     "metadata": {},
     "output_type": "execute_result"
    }
   ],
   "source": [
    "%viz --style=\"TB\" --view=\"Sequence\" \"DependencyTest\""
   ]
  },
  {
   "cell_type": "code",
   "execution_count": 50,
   "id": "2c9590dc",
   "metadata": {
    "execution": {
     "iopub.execute_input": "2021-04-21T20:26:08.605437Z",
     "iopub.status.busy": "2021-04-21T20:26:08.604759Z",
     "iopub.status.idle": "2021-04-21T20:26:08.636073Z",
     "shell.execute_reply": "2021-04-21T20:26:08.634716Z"
    }
   },
   "outputs": [
    {
     "data": {
      "image/svg+xml": [
       "<?xml version=\"1.0\" encoding=\"UTF-8\" standalone=\"no\"?><svg xmlns=\"http://www.w3.org/2000/svg\" xmlns:xlink=\"http://www.w3.org/1999/xlink\" contentScriptType=\"application/ecmascript\" contentStyleType=\"text/css\" height=\"449px\" preserveAspectRatio=\"none\" style=\"width:489px;height:449px;\" version=\"1.1\" viewBox=\"0 0 489 449\" width=\"489px\" zoomAndPan=\"magnify\"><defs/><g><!--MD5=[fbc87193dbaf4d95561dea2c320d4a47]\n",
       "cluster E1--><a href=\"psysml:a0e63dae-583d-42a3-9f46-6e6177e563b1\" target=\"_top\" title=\"psysml:a0e63dae-583d-42a3-9f46-6e6177e563b1\" xlink:actuate=\"onRequest\" xlink:href=\"psysml:a0e63dae-583d-42a3-9f46-6e6177e563b1\" xlink:show=\"new\" xlink:title=\"psysml:a0e63dae-583d-42a3-9f46-6e6177e563b1\" xlink:type=\"simple\"><polygon fill=\"#FFFFFF\" points=\"16,6,156,6,163,28.2969,467,28.2969,467,437,16,437,16,6\" style=\"stroke: #000000; stroke-width: 1.5;\"/><line style=\"stroke: #000000; stroke-width: 1.5;\" x1=\"16\" x2=\"163\" y1=\"28.2969\" y2=\"28.2969\"/><text fill=\"#000000\" font-family=\"sans-serif\" font-size=\"14\" font-weight=\"bold\" lengthAdjust=\"spacingAndGlyphs\" textLength=\"134\" x=\"20\" y=\"20.9951\">DependencyTest</text></a><!--MD5=[e4f7fae6ed58524ba242bb0b0d3be6b7]\n",
       "cluster E2--><a href=\"psysml:90630542-d1db-4cfe-a426-6fd5a6b42885\" target=\"_top\" title=\"psysml:90630542-d1db-4cfe-a426-6fd5a6b42885\" xlink:actuate=\"onRequest\" xlink:href=\"psysml:90630542-d1db-4cfe-a426-6fd5a6b42885\" xlink:show=\"new\" xlink:title=\"psysml:90630542-d1db-4cfe-a426-6fd5a6b42885\" xlink:type=\"simple\"><polygon fill=\"#FFFFFF\" points=\"255,49,319,49,326,71.2969,443,71.2969,443,413,255,413,255,49\" style=\"stroke: #000000; stroke-width: 1.5;\"/><line style=\"stroke: #000000; stroke-width: 1.5;\" x1=\"255\" x2=\"326\" y1=\"71.2969\" y2=\"71.2969\"/><text fill=\"#000000\" font-family=\"sans-serif\" font-size=\"14\" font-weight=\"bold\" lengthAdjust=\"spacingAndGlyphs\" textLength=\"58\" x=\"259\" y=\"63.9951\">System</text></a><!--MD5=[60a26617385b1d2d0262a64233df1f8d]\n",
       "class E6--><a href=\"psysml:7440b603-2b18-4efb-9bf4-7832c56b919b\" target=\"_top\" title=\"psysml:7440b603-2b18-4efb-9bf4-7832c56b919b\" xlink:actuate=\"onRequest\" xlink:href=\"psysml:7440b603-2b18-4efb-9bf4-7832c56b919b\" xlink:show=\"new\" xlink:title=\"psysml:7440b603-2b18-4efb-9bf4-7832c56b919b\" xlink:type=\"simple\"><rect fill=\"#FFFFFF\" height=\"45.9375\" id=\"E6\" rx=\"10\" ry=\"10\" style=\"stroke: #383838; stroke-width: 1.5;\" width=\"71\" x=\"32.5\" y=\"217.5\"/><text fill=\"#000000\" font-family=\"sans-serif\" font-size=\"12\" font-style=\"italic\" lengthAdjust=\"spacingAndGlyphs\" textLength=\"69\" x=\"33.5\" y=\"233.6387\">«attribute»</text><text fill=\"#000000\" font-family=\"sans-serif\" font-size=\"12\" lengthAdjust=\"spacingAndGlyphs\" textLength=\"6\" x=\"65\" y=\"247.6074\">x</text><line style=\"stroke: #383838; stroke-width: 1.5;\" x1=\"33.5\" x2=\"102.5\" y1=\"255.4375\" y2=\"255.4375\"/></a><!--MD5=[2156ba9850f5573cc1fc38a6a4b2f02b]\n",
       "class E7--><a href=\"psysml:d907cb85-580b-45cd-b69d-b597f081eb5c\" target=\"_top\" title=\"psysml:d907cb85-580b-45cd-b69d-b597f081eb5c\" xlink:actuate=\"onRequest\" xlink:href=\"psysml:d907cb85-580b-45cd-b69d-b597f081eb5c\" xlink:show=\"new\" xlink:title=\"psysml:d907cb85-580b-45cd-b69d-b597f081eb5c\" xlink:type=\"simple\"><rect fill=\"#FFFFFF\" height=\"45.9375\" id=\"E7\" rx=\"10\" ry=\"10\" style=\"stroke: #383838; stroke-width: 1.5;\" width=\"71\" x=\"138.5\" y=\"217.5\"/><text fill=\"#000000\" font-family=\"sans-serif\" font-size=\"12\" font-style=\"italic\" lengthAdjust=\"spacingAndGlyphs\" textLength=\"69\" x=\"139.5\" y=\"233.6387\">«attribute»</text><text fill=\"#000000\" font-family=\"sans-serif\" font-size=\"12\" lengthAdjust=\"spacingAndGlyphs\" textLength=\"6\" x=\"171\" y=\"247.6074\">y</text><line style=\"stroke: #383838; stroke-width: 1.5;\" x1=\"139.5\" x2=\"208.5\" y1=\"255.4375\" y2=\"255.4375\"/></a><!--MD5=[b9389687b975829384b498ac4b7476b2]\n",
       "class E8--><a href=\"psysml:719c36a8-8fd6-40f5-b1aa-2a0e2714a310\" target=\"_top\" title=\"psysml:719c36a8-8fd6-40f5-b1aa-2a0e2714a310\" xlink:actuate=\"onRequest\" xlink:href=\"psysml:719c36a8-8fd6-40f5-b1aa-2a0e2714a310\" xlink:show=\"new\" xlink:title=\"psysml:719c36a8-8fd6-40f5-b1aa-2a0e2714a310\" xlink:type=\"simple\"><rect fill=\"#FFFFFF\" height=\"45.9375\" id=\"E8\" rx=\"10\" ry=\"10\" style=\"stroke: #383838; stroke-width: 1.5;\" width=\"71\" x=\"84.5\" y=\"87.5\"/><text fill=\"#000000\" font-family=\"sans-serif\" font-size=\"12\" font-style=\"italic\" lengthAdjust=\"spacingAndGlyphs\" textLength=\"69\" x=\"85.5\" y=\"103.6387\">«attribute»</text><text fill=\"#000000\" font-family=\"sans-serif\" font-size=\"12\" lengthAdjust=\"spacingAndGlyphs\" textLength=\"5\" x=\"117.5\" y=\"117.6074\">z</text><line style=\"stroke: #383838; stroke-width: 1.5;\" x1=\"85.5\" x2=\"154.5\" y1=\"125.4375\" y2=\"125.4375\"/></a><a href=\"psysml:f4739741-a5ef-49a4-9e06-4bb8a722f77e\" target=\"_top\" title=\"psysml:f4739741-a5ef-49a4-9e06-4bb8a722f77e\" xlink:actuate=\"onRequest\" xlink:href=\"psysml:f4739741-a5ef-49a4-9e06-4bb8a722f77e\" xlink:show=\"new\" xlink:title=\"psysml:f4739741-a5ef-49a4-9e06-4bb8a722f77e\" xlink:type=\"simple\"><polygon fill=\"#FFFFFF\" points=\"271,84,413,84,420,106.2969,427,106.2969,427,136.5938,271,136.5938,271,84\" style=\"stroke: #000000; stroke-width: 1.5;\"/><line style=\"stroke: #000000; stroke-width: 1.5;\" x1=\"271\" x2=\"420\" y1=\"106.2969\" y2=\"106.2969\"/><text fill=\"#000000\" font-family=\"sans-serif\" font-size=\"14\" font-weight=\"bold\" lengthAdjust=\"spacingAndGlyphs\" textLength=\"136\" x=\"275\" y=\"98.9951\">Application Layer</text></a><a href=\"psysml:e1090b77-2219-4e30-afea-75b6451d3a90\" target=\"_top\" title=\"psysml:e1090b77-2219-4e30-afea-75b6451d3a90\" xlink:actuate=\"onRequest\" xlink:href=\"psysml:e1090b77-2219-4e30-afea-75b6451d3a90\" xlink:show=\"new\" xlink:title=\"psysml:e1090b77-2219-4e30-afea-75b6451d3a90\" xlink:type=\"simple\"><polygon fill=\"#FFFFFF\" points=\"285,214,399,214,406,236.2969,413,236.2969,413,266.5938,285,266.5938,285,214\" style=\"stroke: #000000; stroke-width: 1.5;\"/><line style=\"stroke: #000000; stroke-width: 1.5;\" x1=\"285\" x2=\"406\" y1=\"236.2969\" y2=\"236.2969\"/><text fill=\"#000000\" font-family=\"sans-serif\" font-size=\"14\" font-weight=\"bold\" lengthAdjust=\"spacingAndGlyphs\" textLength=\"108\" x=\"289\" y=\"228.9951\">Service Layer</text></a><a href=\"psysml:fe465764-9ab4-44bf-be91-bd692232f0a1\" target=\"_top\" title=\"psysml:fe465764-9ab4-44bf-be91-bd692232f0a1\" xlink:actuate=\"onRequest\" xlink:href=\"psysml:fe465764-9ab4-44bf-be91-bd692232f0a1\" xlink:show=\"new\" xlink:title=\"psysml:fe465764-9ab4-44bf-be91-bd692232f0a1\" xlink:type=\"simple\"><polygon fill=\"#FFFFFF\" points=\"297,344,387,344,394,366.2969,401,366.2969,401,396.5938,297,396.5938,297,344\" style=\"stroke: #000000; stroke-width: 1.5;\"/><line style=\"stroke: #000000; stroke-width: 1.5;\" x1=\"297\" x2=\"394\" y1=\"366.2969\" y2=\"366.2969\"/><text fill=\"#000000\" font-family=\"sans-serif\" font-size=\"14\" font-weight=\"bold\" lengthAdjust=\"spacingAndGlyphs\" textLength=\"84\" x=\"301\" y=\"358.9951\">Data Layer</text></a><!--MD5=[af87c684e3b0d8be13c1a698a818ef1e]\n",
       "link E3 to E4--><a href=\"psysml:f18ad3d3-ddea-4435-b15e-701f5c4039de\" target=\"_top\" title=\"psysml:f18ad3d3-ddea-4435-b15e-701f5c4039de\" xlink:actuate=\"onRequest\" xlink:href=\"psysml:f18ad3d3-ddea-4435-b15e-701f5c4039de\" xlink:show=\"new\" xlink:title=\"psysml:f18ad3d3-ddea-4435-b15e-701f5c4039de\" xlink:type=\"simple\"><path d=\"M349,137.1 C349,156.8 349,184.22 349,205.73 \" fill=\"none\" id=\"E3-&gt;E4\" style=\"stroke: #383838; stroke-width: 1.0; stroke-dasharray: 7.0,7.0;\"/><polygon fill=\"#383838\" points=\"349,213.95,352,205.95,346,205.95,349,213.95\" style=\"stroke: #383838; stroke-width: 1.0;\"/><text fill=\"#000000\" font-family=\"sans-serif\" font-size=\"13\" lengthAdjust=\"spacingAndGlyphs\" textLength=\"64\" x=\"350\" y=\"180.0669\">«depend»</text></a><!--MD5=[1b7591eae5389033d8d09a9d6721a717]\n",
       "link E4 to E5--><a href=\"psysml:22e4e023-3d64-4f1c-8411-ecdb932522c7\" target=\"_top\" title=\"psysml:22e4e023-3d64-4f1c-8411-ecdb932522c7\" xlink:actuate=\"onRequest\" xlink:href=\"psysml:22e4e023-3d64-4f1c-8411-ecdb932522c7\" xlink:show=\"new\" xlink:title=\"psysml:22e4e023-3d64-4f1c-8411-ecdb932522c7\" xlink:type=\"simple\"><path d=\"M349,267.1 C349,286.8 349,314.22 349,335.73 \" fill=\"none\" id=\"E4-&gt;E5\" style=\"stroke: #383838; stroke-width: 1.0; stroke-dasharray: 7.0,7.0;\"/><polygon fill=\"#383838\" points=\"349,343.95,352,335.95,346,335.95,349,343.95\" style=\"stroke: #383838; stroke-width: 1.0;\"/><text fill=\"#000000\" font-family=\"sans-serif\" font-size=\"13\" lengthAdjust=\"spacingAndGlyphs\" textLength=\"64\" x=\"350\" y=\"310.0669\">«depend»</text></a><!--MD5=[c5e8897d989ce984f93528998a7150fe]\n",
       "link E8 to E6--><a href=\"psysml:01d1ab15-dda9-4157-a585-7877f2cc1d47\" target=\"_top\" title=\"psysml:01d1ab15-dda9-4157-a585-7877f2cc1d47\" xlink:actuate=\"onRequest\" xlink:href=\"psysml:01d1ab15-dda9-4157-a585-7877f2cc1d47\" xlink:show=\"new\" xlink:title=\"psysml:01d1ab15-dda9-4157-a585-7877f2cc1d47\" xlink:type=\"simple\"><path d=\"M89.42,133.6 C79.35,142.68 69.37,154.11 64,167 C58.5,180.2 58.66,195.94 60.54,209.38 \" fill=\"none\" id=\"E8-&gt;E6\" style=\"stroke: #383838; stroke-width: 1.0; stroke-dasharray: 7.0,7.0;\"/><polygon fill=\"#383838\" points=\"61.9,217.4,63.517,209.0104,57.6018,210.0159,61.9,217.4\" style=\"stroke: #383838; stroke-width: 1.0;\"/><text fill=\"#000000\" font-family=\"sans-serif\" font-size=\"13\" lengthAdjust=\"spacingAndGlyphs\" textLength=\"64\" x=\"65\" y=\"180.0669\">«depend»</text></a><!--MD5=[bfa3c8b0d15052fdf50ae9310b491027]\n",
       "link E8 to E7--><a href=\"psysml:01d1ab15-dda9-4157-a585-7877f2cc1d47\" target=\"_top\" title=\"psysml:01d1ab15-dda9-4157-a585-7877f2cc1d47\" xlink:actuate=\"onRequest\" xlink:href=\"psysml:01d1ab15-dda9-4157-a585-7877f2cc1d47\" xlink:show=\"new\" xlink:title=\"psysml:01d1ab15-dda9-4157-a585-7877f2cc1d47\" xlink:type=\"simple\"><path d=\"M129.28,133.5 C138.17,154.57 151.64,186.5 161.47,209.81 \" fill=\"none\" id=\"E8-&gt;E7\" style=\"stroke: #383838; stroke-width: 1.0; stroke-dasharray: 7.0,7.0;\"/><polygon fill=\"#383838\" points=\"164.66,217.35,164.3241,208.8126,158.7933,211.1385,164.66,217.35\" style=\"stroke: #383838; stroke-width: 1.0;\"/><text fill=\"#000000\" font-family=\"sans-serif\" font-size=\"13\" lengthAdjust=\"spacingAndGlyphs\" textLength=\"64\" x=\"151\" y=\"180.0669\">«depend»</text></a><!--MD5=[132d98177d6a22951d1fe07ee08f504f]\n",
       "@startuml\r\n",
       "top to bottom direction\r\n",
       "skinparam monochrome true\r\n",
       "skinparam classbackgroundcolor white\r\n",
       "skinparam shadowing false\r\n",
       "skinparam wrapWidth 300\r\n",
       "hide circle\r\n",
       "\r\n",
       "package \"DependencyTest\" as E1  [[psysml:a0e63dae-583d-42a3-9f46-6e6177e563b1 ]]  {\r\n",
       "package \"System\" as E2  [[psysml:90630542-d1db-4cfe-a426-6fd5a6b42885 ]]  {\r\n",
       "package \"Application Layer\" as E3  [[psysml:f4739741-a5ef-49a4-9e06-4bb8a722f77e ]]  {\r\n",
       "}\r\n",
       "package \"Service Layer\" as E4  [[psysml:e1090b77-2219-4e30-afea-75b6451d3a90 ]]  {\r\n",
       "}\r\n",
       "package \"Data Layer\" as E5  [[psysml:fe465764-9ab4-44bf-be91-bd692232f0a1 ]]  {\r\n",
       "}\r\n",
       "}\r\n",
       "comp usage \"x\" as E6  <<(T,blue)attribute>> [[psysml:7440b603-2b18-4efb-9bf4-7832c56b919b ]] {\r\n",
       "}\r\n",
       "comp usage \"y\" as E7  <<(T,blue)attribute>> [[psysml:d907cb85-580b-45cd-b69d-b597f081eb5c ]] {\r\n",
       "}\r\n",
       "comp usage \"z\" as E8  <<(T,blue)attribute>> [[psysml:719c36a8-8fd6-40f5-b1aa-2a0e2714a310 ]] {\r\n",
       "}\r\n",
       "E3 ..>> E4 [[psysml:f18ad3d3-ddea-4435-b15e-701f5c4039de ]] : <<depend>>\r\n",
       "E4 ..>> E5 [[psysml:22e4e023-3d64-4f1c-8411-ecdb932522c7 ]] : <<depend>>\r\n",
       "E8 ..>> E6 [[psysml:01d1ab15-dda9-4157-a585-7877f2cc1d47 ]] : <<depend>>\r\n",
       "E8 ..>> E7 [[psysml:01d1ab15-dda9-4157-a585-7877f2cc1d47 ]] : <<depend>>\r\n",
       "}\r\n",
       "@enduml\r\n",
       "\n",
       "PlantUML version 1.2020.13(Sat Jun 13 12:26:38 UTC 2020)\n",
       "(EPL source distribution)\n",
       "Java Runtime: OpenJDK Runtime Environment\n",
       "JVM: OpenJDK 64-Bit Server VM\n",
       "Default Encoding: UTF-8\n",
       "Language: en\n",
       "Country: null\n",
       "--></g></svg>"
      ]
     },
     "execution_count": 50,
     "metadata": {},
     "output_type": "execute_result"
    }
   ],
   "source": [
    "%viz --style=\"TB\" --view=\"MIXED\" \"DependencyTest\""
   ]
  },
  {
   "cell_type": "code",
   "execution_count": 51,
   "id": "68b2c4c6",
   "metadata": {
    "execution": {
     "iopub.execute_input": "2021-04-21T20:26:08.687251Z",
     "iopub.status.busy": "2021-04-21T20:26:08.686487Z",
     "iopub.status.idle": "2021-04-21T20:26:08.729328Z",
     "shell.execute_reply": "2021-04-21T20:26:08.728013Z"
    }
   },
   "outputs": [
    {
     "data": {
      "image/svg+xml": [
       "<?xml version=\"1.0\" encoding=\"UTF-8\" standalone=\"no\"?><svg xmlns=\"http://www.w3.org/2000/svg\" xmlns:xlink=\"http://www.w3.org/1999/xlink\" contentScriptType=\"application/ecmascript\" contentStyleType=\"text/css\" height=\"449px\" preserveAspectRatio=\"none\" style=\"width:489px;height:449px;\" version=\"1.1\" viewBox=\"0 0 489 449\" width=\"489px\" zoomAndPan=\"magnify\"><defs/><g><!--MD5=[fbc87193dbaf4d95561dea2c320d4a47]\n",
       "cluster E1--><a href=\"psysml:a0e63dae-583d-42a3-9f46-6e6177e563b1\" target=\"_top\" title=\"psysml:a0e63dae-583d-42a3-9f46-6e6177e563b1\" xlink:actuate=\"onRequest\" xlink:href=\"psysml:a0e63dae-583d-42a3-9f46-6e6177e563b1\" xlink:show=\"new\" xlink:title=\"psysml:a0e63dae-583d-42a3-9f46-6e6177e563b1\" xlink:type=\"simple\"><polygon fill=\"#FFFFFF\" points=\"16,6,156,6,163,28.2969,467,28.2969,467,437,16,437,16,6\" style=\"stroke: #000000; stroke-width: 1.5;\"/><line style=\"stroke: #000000; stroke-width: 1.5;\" x1=\"16\" x2=\"163\" y1=\"28.2969\" y2=\"28.2969\"/><text fill=\"#000000\" font-family=\"sans-serif\" font-size=\"14\" font-weight=\"bold\" lengthAdjust=\"spacingAndGlyphs\" textLength=\"134\" x=\"20\" y=\"20.9951\">DependencyTest</text></a><!--MD5=[e4f7fae6ed58524ba242bb0b0d3be6b7]\n",
       "cluster E2--><a href=\"psysml:90630542-d1db-4cfe-a426-6fd5a6b42885\" target=\"_top\" title=\"psysml:90630542-d1db-4cfe-a426-6fd5a6b42885\" xlink:actuate=\"onRequest\" xlink:href=\"psysml:90630542-d1db-4cfe-a426-6fd5a6b42885\" xlink:show=\"new\" xlink:title=\"psysml:90630542-d1db-4cfe-a426-6fd5a6b42885\" xlink:type=\"simple\"><polygon fill=\"#FFFFFF\" points=\"255,49,319,49,326,71.2969,443,71.2969,443,413,255,413,255,49\" style=\"stroke: #000000; stroke-width: 1.5;\"/><line style=\"stroke: #000000; stroke-width: 1.5;\" x1=\"255\" x2=\"326\" y1=\"71.2969\" y2=\"71.2969\"/><text fill=\"#000000\" font-family=\"sans-serif\" font-size=\"14\" font-weight=\"bold\" lengthAdjust=\"spacingAndGlyphs\" textLength=\"58\" x=\"259\" y=\"63.9951\">System</text></a><!--MD5=[60a26617385b1d2d0262a64233df1f8d]\n",
       "class E6--><a href=\"psysml:7440b603-2b18-4efb-9bf4-7832c56b919b\" target=\"_top\" title=\"psysml:7440b603-2b18-4efb-9bf4-7832c56b919b\" xlink:actuate=\"onRequest\" xlink:href=\"psysml:7440b603-2b18-4efb-9bf4-7832c56b919b\" xlink:show=\"new\" xlink:title=\"psysml:7440b603-2b18-4efb-9bf4-7832c56b919b\" xlink:type=\"simple\"><rect fill=\"#FFFFFF\" height=\"45.9375\" id=\"E6\" rx=\"10\" ry=\"10\" style=\"stroke: #383838; stroke-width: 1.5;\" width=\"71\" x=\"32.5\" y=\"217.5\"/><text fill=\"#000000\" font-family=\"sans-serif\" font-size=\"12\" font-style=\"italic\" lengthAdjust=\"spacingAndGlyphs\" textLength=\"69\" x=\"33.5\" y=\"233.6387\">«attribute»</text><text fill=\"#000000\" font-family=\"sans-serif\" font-size=\"12\" lengthAdjust=\"spacingAndGlyphs\" textLength=\"6\" x=\"65\" y=\"247.6074\">x</text><line style=\"stroke: #383838; stroke-width: 1.5;\" x1=\"33.5\" x2=\"102.5\" y1=\"255.4375\" y2=\"255.4375\"/></a><!--MD5=[2156ba9850f5573cc1fc38a6a4b2f02b]\n",
       "class E7--><a href=\"psysml:d907cb85-580b-45cd-b69d-b597f081eb5c\" target=\"_top\" title=\"psysml:d907cb85-580b-45cd-b69d-b597f081eb5c\" xlink:actuate=\"onRequest\" xlink:href=\"psysml:d907cb85-580b-45cd-b69d-b597f081eb5c\" xlink:show=\"new\" xlink:title=\"psysml:d907cb85-580b-45cd-b69d-b597f081eb5c\" xlink:type=\"simple\"><rect fill=\"#FFFFFF\" height=\"45.9375\" id=\"E7\" rx=\"10\" ry=\"10\" style=\"stroke: #383838; stroke-width: 1.5;\" width=\"71\" x=\"138.5\" y=\"217.5\"/><text fill=\"#000000\" font-family=\"sans-serif\" font-size=\"12\" font-style=\"italic\" lengthAdjust=\"spacingAndGlyphs\" textLength=\"69\" x=\"139.5\" y=\"233.6387\">«attribute»</text><text fill=\"#000000\" font-family=\"sans-serif\" font-size=\"12\" lengthAdjust=\"spacingAndGlyphs\" textLength=\"6\" x=\"171\" y=\"247.6074\">y</text><line style=\"stroke: #383838; stroke-width: 1.5;\" x1=\"139.5\" x2=\"208.5\" y1=\"255.4375\" y2=\"255.4375\"/></a><!--MD5=[b9389687b975829384b498ac4b7476b2]\n",
       "class E8--><a href=\"psysml:719c36a8-8fd6-40f5-b1aa-2a0e2714a310\" target=\"_top\" title=\"psysml:719c36a8-8fd6-40f5-b1aa-2a0e2714a310\" xlink:actuate=\"onRequest\" xlink:href=\"psysml:719c36a8-8fd6-40f5-b1aa-2a0e2714a310\" xlink:show=\"new\" xlink:title=\"psysml:719c36a8-8fd6-40f5-b1aa-2a0e2714a310\" xlink:type=\"simple\"><rect fill=\"#FFFFFF\" height=\"45.9375\" id=\"E8\" rx=\"10\" ry=\"10\" style=\"stroke: #383838; stroke-width: 1.5;\" width=\"71\" x=\"84.5\" y=\"87.5\"/><text fill=\"#000000\" font-family=\"sans-serif\" font-size=\"12\" font-style=\"italic\" lengthAdjust=\"spacingAndGlyphs\" textLength=\"69\" x=\"85.5\" y=\"103.6387\">«attribute»</text><text fill=\"#000000\" font-family=\"sans-serif\" font-size=\"12\" lengthAdjust=\"spacingAndGlyphs\" textLength=\"5\" x=\"117.5\" y=\"117.6074\">z</text><line style=\"stroke: #383838; stroke-width: 1.5;\" x1=\"85.5\" x2=\"154.5\" y1=\"125.4375\" y2=\"125.4375\"/></a><a href=\"psysml:f4739741-a5ef-49a4-9e06-4bb8a722f77e\" target=\"_top\" title=\"psysml:f4739741-a5ef-49a4-9e06-4bb8a722f77e\" xlink:actuate=\"onRequest\" xlink:href=\"psysml:f4739741-a5ef-49a4-9e06-4bb8a722f77e\" xlink:show=\"new\" xlink:title=\"psysml:f4739741-a5ef-49a4-9e06-4bb8a722f77e\" xlink:type=\"simple\"><polygon fill=\"#FFFFFF\" points=\"271,84,413,84,420,106.2969,427,106.2969,427,136.5938,271,136.5938,271,84\" style=\"stroke: #000000; stroke-width: 1.5;\"/><line style=\"stroke: #000000; stroke-width: 1.5;\" x1=\"271\" x2=\"420\" y1=\"106.2969\" y2=\"106.2969\"/><text fill=\"#000000\" font-family=\"sans-serif\" font-size=\"14\" font-weight=\"bold\" lengthAdjust=\"spacingAndGlyphs\" textLength=\"136\" x=\"275\" y=\"98.9951\">Application Layer</text></a><a href=\"psysml:e1090b77-2219-4e30-afea-75b6451d3a90\" target=\"_top\" title=\"psysml:e1090b77-2219-4e30-afea-75b6451d3a90\" xlink:actuate=\"onRequest\" xlink:href=\"psysml:e1090b77-2219-4e30-afea-75b6451d3a90\" xlink:show=\"new\" xlink:title=\"psysml:e1090b77-2219-4e30-afea-75b6451d3a90\" xlink:type=\"simple\"><polygon fill=\"#FFFFFF\" points=\"285,214,399,214,406,236.2969,413,236.2969,413,266.5938,285,266.5938,285,214\" style=\"stroke: #000000; stroke-width: 1.5;\"/><line style=\"stroke: #000000; stroke-width: 1.5;\" x1=\"285\" x2=\"406\" y1=\"236.2969\" y2=\"236.2969\"/><text fill=\"#000000\" font-family=\"sans-serif\" font-size=\"14\" font-weight=\"bold\" lengthAdjust=\"spacingAndGlyphs\" textLength=\"108\" x=\"289\" y=\"228.9951\">Service Layer</text></a><a href=\"psysml:fe465764-9ab4-44bf-be91-bd692232f0a1\" target=\"_top\" title=\"psysml:fe465764-9ab4-44bf-be91-bd692232f0a1\" xlink:actuate=\"onRequest\" xlink:href=\"psysml:fe465764-9ab4-44bf-be91-bd692232f0a1\" xlink:show=\"new\" xlink:title=\"psysml:fe465764-9ab4-44bf-be91-bd692232f0a1\" xlink:type=\"simple\"><polygon fill=\"#FFFFFF\" points=\"297,344,387,344,394,366.2969,401,366.2969,401,396.5938,297,396.5938,297,344\" style=\"stroke: #000000; stroke-width: 1.5;\"/><line style=\"stroke: #000000; stroke-width: 1.5;\" x1=\"297\" x2=\"394\" y1=\"366.2969\" y2=\"366.2969\"/><text fill=\"#000000\" font-family=\"sans-serif\" font-size=\"14\" font-weight=\"bold\" lengthAdjust=\"spacingAndGlyphs\" textLength=\"84\" x=\"301\" y=\"358.9951\">Data Layer</text></a><!--MD5=[af87c684e3b0d8be13c1a698a818ef1e]\n",
       "link E3 to E4--><a href=\"psysml:f18ad3d3-ddea-4435-b15e-701f5c4039de\" target=\"_top\" title=\"psysml:f18ad3d3-ddea-4435-b15e-701f5c4039de\" xlink:actuate=\"onRequest\" xlink:href=\"psysml:f18ad3d3-ddea-4435-b15e-701f5c4039de\" xlink:show=\"new\" xlink:title=\"psysml:f18ad3d3-ddea-4435-b15e-701f5c4039de\" xlink:type=\"simple\"><path d=\"M349,137.12 C349,137.12 349,205.91 349,205.91 \" fill=\"none\" id=\"E3-&gt;E4\" style=\"stroke: #383838; stroke-width: 1.0; stroke-dasharray: 7.0,7.0;\"/><polygon fill=\"#383838\" points=\"349,213.91,352,205.91,346,205.91,349,213.91\" style=\"stroke: #383838; stroke-width: 1.0;\"/><text fill=\"#000000\" font-family=\"sans-serif\" font-size=\"13\" lengthAdjust=\"spacingAndGlyphs\" textLength=\"64\" x=\"350\" y=\"180.0669\">«depend»</text></a><!--MD5=[1b7591eae5389033d8d09a9d6721a717]\n",
       "link E4 to E5--><a href=\"psysml:22e4e023-3d64-4f1c-8411-ecdb932522c7\" target=\"_top\" title=\"psysml:22e4e023-3d64-4f1c-8411-ecdb932522c7\" xlink:actuate=\"onRequest\" xlink:href=\"psysml:22e4e023-3d64-4f1c-8411-ecdb932522c7\" xlink:show=\"new\" xlink:title=\"psysml:22e4e023-3d64-4f1c-8411-ecdb932522c7\" xlink:type=\"simple\"><path d=\"M349,267.12 C349,267.12 349,335.91 349,335.91 \" fill=\"none\" id=\"E4-&gt;E5\" style=\"stroke: #383838; stroke-width: 1.0; stroke-dasharray: 7.0,7.0;\"/><polygon fill=\"#383838\" points=\"349,343.91,352,335.91,346,335.91,349,343.91\" style=\"stroke: #383838; stroke-width: 1.0;\"/><text fill=\"#000000\" font-family=\"sans-serif\" font-size=\"13\" lengthAdjust=\"spacingAndGlyphs\" textLength=\"64\" x=\"350\" y=\"310.0669\">«depend»</text></a><!--MD5=[c5e8897d989ce984f93528998a7150fe]\n",
       "link E8 to E6--><a href=\"psysml:01d1ab15-dda9-4157-a585-7877f2cc1d47\" target=\"_top\" title=\"psysml:01d1ab15-dda9-4157-a585-7877f2cc1d47\" xlink:actuate=\"onRequest\" xlink:href=\"psysml:01d1ab15-dda9-4157-a585-7877f2cc1d47\" xlink:show=\"new\" xlink:title=\"psysml:01d1ab15-dda9-4157-a585-7877f2cc1d47\" xlink:type=\"simple\"><path d=\"M94,133.74 C94,133.74 94,209.46 94,209.46 \" fill=\"none\" id=\"E8-&gt;E6\" style=\"stroke: #383838; stroke-width: 1.0; stroke-dasharray: 7.0,7.0;\"/><polygon fill=\"#383838\" points=\"94,217.46,97,209.46,91,209.46,94,217.46\" style=\"stroke: #383838; stroke-width: 1.0;\"/><text fill=\"#000000\" font-family=\"sans-serif\" font-size=\"13\" lengthAdjust=\"spacingAndGlyphs\" textLength=\"64\" x=\"68\" y=\"180.0669\">«depend»</text></a><!--MD5=[bfa3c8b0d15052fdf50ae9310b491027]\n",
       "link E8 to E7--><a href=\"psysml:01d1ab15-dda9-4157-a585-7877f2cc1d47\" target=\"_top\" title=\"psysml:01d1ab15-dda9-4157-a585-7877f2cc1d47\" xlink:actuate=\"onRequest\" xlink:href=\"psysml:01d1ab15-dda9-4157-a585-7877f2cc1d47\" xlink:show=\"new\" xlink:title=\"psysml:01d1ab15-dda9-4157-a585-7877f2cc1d47\" xlink:type=\"simple\"><path d=\"M147,133.74 C147,133.74 147,209.46 147,209.46 \" fill=\"none\" id=\"E8-&gt;E7\" style=\"stroke: #383838; stroke-width: 1.0; stroke-dasharray: 7.0,7.0;\"/><polygon fill=\"#383838\" points=\"147,217.46,150,209.46,144,209.46,147,217.46\" style=\"stroke: #383838; stroke-width: 1.0;\"/><text fill=\"#000000\" font-family=\"sans-serif\" font-size=\"13\" lengthAdjust=\"spacingAndGlyphs\" textLength=\"64\" x=\"174\" y=\"180.0669\">«depend»</text></a><!--MD5=[a6a5b8b4cd04c01fe1990fed846b196a]\n",
       "@startuml\r\n",
       "skinparam linetype ortho\r\n",
       "skinparam monochrome true\r\n",
       "skinparam classbackgroundcolor white\r\n",
       "skinparam shadowing false\r\n",
       "skinparam wrapWidth 300\r\n",
       "hide circle\r\n",
       "\r\n",
       "package \"DependencyTest\" as E1  [[psysml:a0e63dae-583d-42a3-9f46-6e6177e563b1 ]]  {\r\n",
       "package \"System\" as E2  [[psysml:90630542-d1db-4cfe-a426-6fd5a6b42885 ]]  {\r\n",
       "package \"Application Layer\" as E3  [[psysml:f4739741-a5ef-49a4-9e06-4bb8a722f77e ]]  {\r\n",
       "}\r\n",
       "package \"Service Layer\" as E4  [[psysml:e1090b77-2219-4e30-afea-75b6451d3a90 ]]  {\r\n",
       "}\r\n",
       "package \"Data Layer\" as E5  [[psysml:fe465764-9ab4-44bf-be91-bd692232f0a1 ]]  {\r\n",
       "}\r\n",
       "}\r\n",
       "comp usage \"x\" as E6  <<(T,blue)attribute>> [[psysml:7440b603-2b18-4efb-9bf4-7832c56b919b ]] {\r\n",
       "}\r\n",
       "comp usage \"y\" as E7  <<(T,blue)attribute>> [[psysml:d907cb85-580b-45cd-b69d-b597f081eb5c ]] {\r\n",
       "}\r\n",
       "comp usage \"z\" as E8  <<(T,blue)attribute>> [[psysml:719c36a8-8fd6-40f5-b1aa-2a0e2714a310 ]] {\r\n",
       "}\r\n",
       "E3 ..>> E4 [[psysml:f18ad3d3-ddea-4435-b15e-701f5c4039de ]] : <<depend>>\r\n",
       "E4 ..>> E5 [[psysml:22e4e023-3d64-4f1c-8411-ecdb932522c7 ]] : <<depend>>\r\n",
       "E8 ..>> E6 [[psysml:01d1ab15-dda9-4157-a585-7877f2cc1d47 ]] : <<depend>>\r\n",
       "E8 ..>> E7 [[psysml:01d1ab15-dda9-4157-a585-7877f2cc1d47 ]] : <<depend>>\r\n",
       "}\r\n",
       "@enduml\r\n",
       "\n",
       "PlantUML version 1.2020.13(Sat Jun 13 12:26:38 UTC 2020)\n",
       "(EPL source distribution)\n",
       "Java Runtime: OpenJDK Runtime Environment\n",
       "JVM: OpenJDK 64-Bit Server VM\n",
       "Default Encoding: UTF-8\n",
       "Language: en\n",
       "Country: null\n",
       "--></g></svg>"
      ]
     },
     "execution_count": 51,
     "metadata": {},
     "output_type": "execute_result"
    }
   ],
   "source": [
    "%viz --style=\"ORTHOLINE\" --view=\"Default\" \"DependencyTest\""
   ]
  },
  {
   "cell_type": "code",
   "execution_count": 52,
   "id": "083420b8",
   "metadata": {
    "execution": {
     "iopub.execute_input": "2021-04-21T20:26:08.780390Z",
     "iopub.status.busy": "2021-04-21T20:26:08.779685Z",
     "iopub.status.idle": "2021-04-21T20:26:08.813492Z",
     "shell.execute_reply": "2021-04-21T20:26:08.812199Z"
    }
   },
   "outputs": [
    {
     "data": {
      "image/svg+xml": [
       "<?xml version=\"1.0\" encoding=\"UTF-8\" standalone=\"no\"?><svg xmlns=\"http://www.w3.org/2000/svg\" xmlns:xlink=\"http://www.w3.org/1999/xlink\" contentScriptType=\"application/ecmascript\" contentStyleType=\"text/css\" height=\"449px\" preserveAspectRatio=\"none\" style=\"width:489px;height:449px;\" version=\"1.1\" viewBox=\"0 0 489 449\" width=\"489px\" zoomAndPan=\"magnify\"><defs/><g><!--MD5=[fbc87193dbaf4d95561dea2c320d4a47]\n",
       "cluster E1--><a href=\"psysml:a0e63dae-583d-42a3-9f46-6e6177e563b1\" target=\"_top\" title=\"psysml:a0e63dae-583d-42a3-9f46-6e6177e563b1\" xlink:actuate=\"onRequest\" xlink:href=\"psysml:a0e63dae-583d-42a3-9f46-6e6177e563b1\" xlink:show=\"new\" xlink:title=\"psysml:a0e63dae-583d-42a3-9f46-6e6177e563b1\" xlink:type=\"simple\"><polygon fill=\"#FFFFFF\" points=\"16,6,156,6,163,28.2969,467,28.2969,467,437,16,437,16,6\" style=\"stroke: #000000; stroke-width: 1.5;\"/><line style=\"stroke: #000000; stroke-width: 1.5;\" x1=\"16\" x2=\"163\" y1=\"28.2969\" y2=\"28.2969\"/><text fill=\"#000000\" font-family=\"sans-serif\" font-size=\"14\" font-weight=\"bold\" lengthAdjust=\"spacingAndGlyphs\" textLength=\"134\" x=\"20\" y=\"20.9951\">DependencyTest</text></a><!--MD5=[e4f7fae6ed58524ba242bb0b0d3be6b7]\n",
       "cluster E2--><a href=\"psysml:90630542-d1db-4cfe-a426-6fd5a6b42885\" target=\"_top\" title=\"psysml:90630542-d1db-4cfe-a426-6fd5a6b42885\" xlink:actuate=\"onRequest\" xlink:href=\"psysml:90630542-d1db-4cfe-a426-6fd5a6b42885\" xlink:show=\"new\" xlink:title=\"psysml:90630542-d1db-4cfe-a426-6fd5a6b42885\" xlink:type=\"simple\"><polygon fill=\"#FFFFFF\" points=\"255,49,319,49,326,71.2969,443,71.2969,443,413,255,413,255,49\" style=\"stroke: #000000; stroke-width: 1.5;\"/><line style=\"stroke: #000000; stroke-width: 1.5;\" x1=\"255\" x2=\"326\" y1=\"71.2969\" y2=\"71.2969\"/><text fill=\"#000000\" font-family=\"sans-serif\" font-size=\"14\" font-weight=\"bold\" lengthAdjust=\"spacingAndGlyphs\" textLength=\"58\" x=\"259\" y=\"63.9951\">System</text></a><!--MD5=[60a26617385b1d2d0262a64233df1f8d]\n",
       "class E6--><a href=\"psysml:7440b603-2b18-4efb-9bf4-7832c56b919b\" target=\"_top\" title=\"psysml:7440b603-2b18-4efb-9bf4-7832c56b919b\" xlink:actuate=\"onRequest\" xlink:href=\"psysml:7440b603-2b18-4efb-9bf4-7832c56b919b\" xlink:show=\"new\" xlink:title=\"psysml:7440b603-2b18-4efb-9bf4-7832c56b919b\" xlink:type=\"simple\"><rect fill=\"#FFFFFF\" height=\"45.9375\" id=\"E6\" rx=\"10\" ry=\"10\" style=\"stroke: #383838; stroke-width: 1.5;\" width=\"71\" x=\"32.5\" y=\"217.5\"/><text fill=\"#000000\" font-family=\"sans-serif\" font-size=\"12\" font-style=\"italic\" lengthAdjust=\"spacingAndGlyphs\" textLength=\"69\" x=\"33.5\" y=\"233.6387\">«attribute»</text><text fill=\"#000000\" font-family=\"sans-serif\" font-size=\"12\" lengthAdjust=\"spacingAndGlyphs\" textLength=\"6\" x=\"65\" y=\"247.6074\">x</text><line style=\"stroke: #383838; stroke-width: 1.5;\" x1=\"33.5\" x2=\"102.5\" y1=\"255.4375\" y2=\"255.4375\"/></a><!--MD5=[2156ba9850f5573cc1fc38a6a4b2f02b]\n",
       "class E7--><a href=\"psysml:d907cb85-580b-45cd-b69d-b597f081eb5c\" target=\"_top\" title=\"psysml:d907cb85-580b-45cd-b69d-b597f081eb5c\" xlink:actuate=\"onRequest\" xlink:href=\"psysml:d907cb85-580b-45cd-b69d-b597f081eb5c\" xlink:show=\"new\" xlink:title=\"psysml:d907cb85-580b-45cd-b69d-b597f081eb5c\" xlink:type=\"simple\"><rect fill=\"#FFFFFF\" height=\"45.9375\" id=\"E7\" rx=\"10\" ry=\"10\" style=\"stroke: #383838; stroke-width: 1.5;\" width=\"71\" x=\"138.5\" y=\"217.5\"/><text fill=\"#000000\" font-family=\"sans-serif\" font-size=\"12\" font-style=\"italic\" lengthAdjust=\"spacingAndGlyphs\" textLength=\"69\" x=\"139.5\" y=\"233.6387\">«attribute»</text><text fill=\"#000000\" font-family=\"sans-serif\" font-size=\"12\" lengthAdjust=\"spacingAndGlyphs\" textLength=\"6\" x=\"171\" y=\"247.6074\">y</text><line style=\"stroke: #383838; stroke-width: 1.5;\" x1=\"139.5\" x2=\"208.5\" y1=\"255.4375\" y2=\"255.4375\"/></a><!--MD5=[b9389687b975829384b498ac4b7476b2]\n",
       "class E8--><a href=\"psysml:719c36a8-8fd6-40f5-b1aa-2a0e2714a310\" target=\"_top\" title=\"psysml:719c36a8-8fd6-40f5-b1aa-2a0e2714a310\" xlink:actuate=\"onRequest\" xlink:href=\"psysml:719c36a8-8fd6-40f5-b1aa-2a0e2714a310\" xlink:show=\"new\" xlink:title=\"psysml:719c36a8-8fd6-40f5-b1aa-2a0e2714a310\" xlink:type=\"simple\"><rect fill=\"#FFFFFF\" height=\"45.9375\" id=\"E8\" rx=\"10\" ry=\"10\" style=\"stroke: #383838; stroke-width: 1.5;\" width=\"71\" x=\"84.5\" y=\"87.5\"/><text fill=\"#000000\" font-family=\"sans-serif\" font-size=\"12\" font-style=\"italic\" lengthAdjust=\"spacingAndGlyphs\" textLength=\"69\" x=\"85.5\" y=\"103.6387\">«attribute»</text><text fill=\"#000000\" font-family=\"sans-serif\" font-size=\"12\" lengthAdjust=\"spacingAndGlyphs\" textLength=\"5\" x=\"117.5\" y=\"117.6074\">z</text><line style=\"stroke: #383838; stroke-width: 1.5;\" x1=\"85.5\" x2=\"154.5\" y1=\"125.4375\" y2=\"125.4375\"/></a><a href=\"psysml:f4739741-a5ef-49a4-9e06-4bb8a722f77e\" target=\"_top\" title=\"psysml:f4739741-a5ef-49a4-9e06-4bb8a722f77e\" xlink:actuate=\"onRequest\" xlink:href=\"psysml:f4739741-a5ef-49a4-9e06-4bb8a722f77e\" xlink:show=\"new\" xlink:title=\"psysml:f4739741-a5ef-49a4-9e06-4bb8a722f77e\" xlink:type=\"simple\"><polygon fill=\"#FFFFFF\" points=\"271,84,413,84,420,106.2969,427,106.2969,427,136.5938,271,136.5938,271,84\" style=\"stroke: #000000; stroke-width: 1.5;\"/><line style=\"stroke: #000000; stroke-width: 1.5;\" x1=\"271\" x2=\"420\" y1=\"106.2969\" y2=\"106.2969\"/><text fill=\"#000000\" font-family=\"sans-serif\" font-size=\"14\" font-weight=\"bold\" lengthAdjust=\"spacingAndGlyphs\" textLength=\"136\" x=\"275\" y=\"98.9951\">Application Layer</text></a><a href=\"psysml:e1090b77-2219-4e30-afea-75b6451d3a90\" target=\"_top\" title=\"psysml:e1090b77-2219-4e30-afea-75b6451d3a90\" xlink:actuate=\"onRequest\" xlink:href=\"psysml:e1090b77-2219-4e30-afea-75b6451d3a90\" xlink:show=\"new\" xlink:title=\"psysml:e1090b77-2219-4e30-afea-75b6451d3a90\" xlink:type=\"simple\"><polygon fill=\"#FFFFFF\" points=\"285,214,399,214,406,236.2969,413,236.2969,413,266.5938,285,266.5938,285,214\" style=\"stroke: #000000; stroke-width: 1.5;\"/><line style=\"stroke: #000000; stroke-width: 1.5;\" x1=\"285\" x2=\"406\" y1=\"236.2969\" y2=\"236.2969\"/><text fill=\"#000000\" font-family=\"sans-serif\" font-size=\"14\" font-weight=\"bold\" lengthAdjust=\"spacingAndGlyphs\" textLength=\"108\" x=\"289\" y=\"228.9951\">Service Layer</text></a><a href=\"psysml:fe465764-9ab4-44bf-be91-bd692232f0a1\" target=\"_top\" title=\"psysml:fe465764-9ab4-44bf-be91-bd692232f0a1\" xlink:actuate=\"onRequest\" xlink:href=\"psysml:fe465764-9ab4-44bf-be91-bd692232f0a1\" xlink:show=\"new\" xlink:title=\"psysml:fe465764-9ab4-44bf-be91-bd692232f0a1\" xlink:type=\"simple\"><polygon fill=\"#FFFFFF\" points=\"297,344,387,344,394,366.2969,401,366.2969,401,396.5938,297,396.5938,297,344\" style=\"stroke: #000000; stroke-width: 1.5;\"/><line style=\"stroke: #000000; stroke-width: 1.5;\" x1=\"297\" x2=\"394\" y1=\"366.2969\" y2=\"366.2969\"/><text fill=\"#000000\" font-family=\"sans-serif\" font-size=\"14\" font-weight=\"bold\" lengthAdjust=\"spacingAndGlyphs\" textLength=\"84\" x=\"301\" y=\"358.9951\">Data Layer</text></a><!--MD5=[af87c684e3b0d8be13c1a698a818ef1e]\n",
       "link E3 to E4--><a href=\"psysml:f18ad3d3-ddea-4435-b15e-701f5c4039de\" target=\"_top\" title=\"psysml:f18ad3d3-ddea-4435-b15e-701f5c4039de\" xlink:actuate=\"onRequest\" xlink:href=\"psysml:f18ad3d3-ddea-4435-b15e-701f5c4039de\" xlink:show=\"new\" xlink:title=\"psysml:f18ad3d3-ddea-4435-b15e-701f5c4039de\" xlink:type=\"simple\"><path d=\"M349,137.12 C349,137.12 349,205.91 349,205.91 \" fill=\"none\" id=\"E3-&gt;E4\" style=\"stroke: #383838; stroke-width: 1.0; stroke-dasharray: 7.0,7.0;\"/><polygon fill=\"#383838\" points=\"349,213.91,352,205.91,346,205.91,349,213.91\" style=\"stroke: #383838; stroke-width: 1.0;\"/><text fill=\"#000000\" font-family=\"sans-serif\" font-size=\"13\" lengthAdjust=\"spacingAndGlyphs\" textLength=\"64\" x=\"350\" y=\"180.0669\">«depend»</text></a><!--MD5=[1b7591eae5389033d8d09a9d6721a717]\n",
       "link E4 to E5--><a href=\"psysml:22e4e023-3d64-4f1c-8411-ecdb932522c7\" target=\"_top\" title=\"psysml:22e4e023-3d64-4f1c-8411-ecdb932522c7\" xlink:actuate=\"onRequest\" xlink:href=\"psysml:22e4e023-3d64-4f1c-8411-ecdb932522c7\" xlink:show=\"new\" xlink:title=\"psysml:22e4e023-3d64-4f1c-8411-ecdb932522c7\" xlink:type=\"simple\"><path d=\"M349,267.12 C349,267.12 349,335.91 349,335.91 \" fill=\"none\" id=\"E4-&gt;E5\" style=\"stroke: #383838; stroke-width: 1.0; stroke-dasharray: 7.0,7.0;\"/><polygon fill=\"#383838\" points=\"349,343.91,352,335.91,346,335.91,349,343.91\" style=\"stroke: #383838; stroke-width: 1.0;\"/><text fill=\"#000000\" font-family=\"sans-serif\" font-size=\"13\" lengthAdjust=\"spacingAndGlyphs\" textLength=\"64\" x=\"350\" y=\"310.0669\">«depend»</text></a><!--MD5=[c5e8897d989ce984f93528998a7150fe]\n",
       "link E8 to E6--><a href=\"psysml:01d1ab15-dda9-4157-a585-7877f2cc1d47\" target=\"_top\" title=\"psysml:01d1ab15-dda9-4157-a585-7877f2cc1d47\" xlink:actuate=\"onRequest\" xlink:href=\"psysml:01d1ab15-dda9-4157-a585-7877f2cc1d47\" xlink:show=\"new\" xlink:title=\"psysml:01d1ab15-dda9-4157-a585-7877f2cc1d47\" xlink:type=\"simple\"><path d=\"M94,133.74 C94,133.74 94,209.46 94,209.46 \" fill=\"none\" id=\"E8-&gt;E6\" style=\"stroke: #383838; stroke-width: 1.0; stroke-dasharray: 7.0,7.0;\"/><polygon fill=\"#383838\" points=\"94,217.46,97,209.46,91,209.46,94,217.46\" style=\"stroke: #383838; stroke-width: 1.0;\"/><text fill=\"#000000\" font-family=\"sans-serif\" font-size=\"13\" lengthAdjust=\"spacingAndGlyphs\" textLength=\"64\" x=\"68\" y=\"180.0669\">«depend»</text></a><!--MD5=[bfa3c8b0d15052fdf50ae9310b491027]\n",
       "link E8 to E7--><a href=\"psysml:01d1ab15-dda9-4157-a585-7877f2cc1d47\" target=\"_top\" title=\"psysml:01d1ab15-dda9-4157-a585-7877f2cc1d47\" xlink:actuate=\"onRequest\" xlink:href=\"psysml:01d1ab15-dda9-4157-a585-7877f2cc1d47\" xlink:show=\"new\" xlink:title=\"psysml:01d1ab15-dda9-4157-a585-7877f2cc1d47\" xlink:type=\"simple\"><path d=\"M147,133.74 C147,133.74 147,209.46 147,209.46 \" fill=\"none\" id=\"E8-&gt;E7\" style=\"stroke: #383838; stroke-width: 1.0; stroke-dasharray: 7.0,7.0;\"/><polygon fill=\"#383838\" points=\"147,217.46,150,209.46,144,209.46,147,217.46\" style=\"stroke: #383838; stroke-width: 1.0;\"/><text fill=\"#000000\" font-family=\"sans-serif\" font-size=\"13\" lengthAdjust=\"spacingAndGlyphs\" textLength=\"64\" x=\"174\" y=\"180.0669\">«depend»</text></a><!--MD5=[a6a5b8b4cd04c01fe1990fed846b196a]\n",
       "@startuml\r\n",
       "skinparam linetype ortho\r\n",
       "skinparam monochrome true\r\n",
       "skinparam classbackgroundcolor white\r\n",
       "skinparam shadowing false\r\n",
       "skinparam wrapWidth 300\r\n",
       "hide circle\r\n",
       "\r\n",
       "package \"DependencyTest\" as E1  [[psysml:a0e63dae-583d-42a3-9f46-6e6177e563b1 ]]  {\r\n",
       "package \"System\" as E2  [[psysml:90630542-d1db-4cfe-a426-6fd5a6b42885 ]]  {\r\n",
       "package \"Application Layer\" as E3  [[psysml:f4739741-a5ef-49a4-9e06-4bb8a722f77e ]]  {\r\n",
       "}\r\n",
       "package \"Service Layer\" as E4  [[psysml:e1090b77-2219-4e30-afea-75b6451d3a90 ]]  {\r\n",
       "}\r\n",
       "package \"Data Layer\" as E5  [[psysml:fe465764-9ab4-44bf-be91-bd692232f0a1 ]]  {\r\n",
       "}\r\n",
       "}\r\n",
       "comp usage \"x\" as E6  <<(T,blue)attribute>> [[psysml:7440b603-2b18-4efb-9bf4-7832c56b919b ]] {\r\n",
       "}\r\n",
       "comp usage \"y\" as E7  <<(T,blue)attribute>> [[psysml:d907cb85-580b-45cd-b69d-b597f081eb5c ]] {\r\n",
       "}\r\n",
       "comp usage \"z\" as E8  <<(T,blue)attribute>> [[psysml:719c36a8-8fd6-40f5-b1aa-2a0e2714a310 ]] {\r\n",
       "}\r\n",
       "E3 ..>> E4 [[psysml:f18ad3d3-ddea-4435-b15e-701f5c4039de ]] : <<depend>>\r\n",
       "E4 ..>> E5 [[psysml:22e4e023-3d64-4f1c-8411-ecdb932522c7 ]] : <<depend>>\r\n",
       "E8 ..>> E6 [[psysml:01d1ab15-dda9-4157-a585-7877f2cc1d47 ]] : <<depend>>\r\n",
       "E8 ..>> E7 [[psysml:01d1ab15-dda9-4157-a585-7877f2cc1d47 ]] : <<depend>>\r\n",
       "}\r\n",
       "@enduml\r\n",
       "\n",
       "PlantUML version 1.2020.13(Sat Jun 13 12:26:38 UTC 2020)\n",
       "(EPL source distribution)\n",
       "Java Runtime: OpenJDK Runtime Environment\n",
       "JVM: OpenJDK 64-Bit Server VM\n",
       "Default Encoding: UTF-8\n",
       "Language: en\n",
       "Country: null\n",
       "--></g></svg>"
      ]
     },
     "execution_count": 52,
     "metadata": {},
     "output_type": "execute_result"
    }
   ],
   "source": [
    "%viz --style=\"ORTHOLINE\" --view=\"Tree\" \"DependencyTest\""
   ]
  },
  {
   "cell_type": "code",
   "execution_count": 53,
   "id": "9f1190a6",
   "metadata": {
    "execution": {
     "iopub.execute_input": "2021-04-21T20:26:08.863894Z",
     "iopub.status.busy": "2021-04-21T20:26:08.863362Z",
     "iopub.status.idle": "2021-04-21T20:26:08.868543Z",
     "shell.execute_reply": "2021-04-21T20:26:08.868196Z"
    }
   },
   "outputs": [
    {
     "data": {
      "image/svg+xml": [
       "<?xml version=\"1.0\" encoding=\"UTF-8\" standalone=\"no\"?><svg xmlns=\"http://www.w3.org/2000/svg\" xmlns:xlink=\"http://www.w3.org/1999/xlink\" contentScriptType=\"application/ecmascript\" contentStyleType=\"text/css\" height=\"12px\" preserveAspectRatio=\"none\" style=\"width:12px;height:12px;\" version=\"1.1\" viewBox=\"0 0 12 12\" width=\"12px\" zoomAndPan=\"magnify\"><defs/><g><!--MD5=[97d6f38768b311333d388e66b2b27985]\n",
       "@startuml\r\n",
       "skinparam linetype ortho\r\n",
       "skinparam monochrome true\r\n",
       "skinparam classbackgroundcolor white\r\n",
       "skinparam shadowing false\r\n",
       "skinparam wrapWidth 300\r\n",
       "hide circle\r\n",
       "\r\n",
       "@enduml\r\n",
       "\n",
       "PlantUML version 1.2020.13(Sat Jun 13 12:26:38 UTC 2020)\n",
       "(EPL source distribution)\n",
       "Java Runtime: OpenJDK Runtime Environment\n",
       "JVM: OpenJDK 64-Bit Server VM\n",
       "Default Encoding: UTF-8\n",
       "Language: en\n",
       "Country: null\n",
       "--></g></svg>"
      ]
     },
     "execution_count": 53,
     "metadata": {},
     "output_type": "execute_result"
    }
   ],
   "source": [
    "%viz --style=\"ORTHOLINE\" --view=\"State\" \"DependencyTest\""
   ]
  },
  {
   "cell_type": "code",
   "execution_count": 54,
   "id": "4e9160bd",
   "metadata": {
    "execution": {
     "iopub.execute_input": "2021-04-21T20:26:08.919289Z",
     "iopub.status.busy": "2021-04-21T20:26:08.918816Z",
     "iopub.status.idle": "2021-04-21T20:26:08.959586Z",
     "shell.execute_reply": "2021-04-21T20:26:08.958119Z"
    }
   },
   "outputs": [
    {
     "data": {
      "image/svg+xml": [
       "<?xml version=\"1.0\" encoding=\"UTF-8\" standalone=\"no\"?><svg xmlns=\"http://www.w3.org/2000/svg\" xmlns:xlink=\"http://www.w3.org/1999/xlink\" contentScriptType=\"application/ecmascript\" contentStyleType=\"text/css\" height=\"361px\" preserveAspectRatio=\"none\" style=\"width:489px;height:361px;\" version=\"1.1\" viewBox=\"0 0 489 361\" width=\"489px\" zoomAndPan=\"magnify\"><defs/><g><!--MD5=[fbc87193dbaf4d95561dea2c320d4a47]\n",
       "cluster E1--><a href=\"psysml:a0e63dae-583d-42a3-9f46-6e6177e563b1\" target=\"_top\" title=\"psysml:a0e63dae-583d-42a3-9f46-6e6177e563b1\" xlink:actuate=\"onRequest\" xlink:href=\"psysml:a0e63dae-583d-42a3-9f46-6e6177e563b1\" xlink:show=\"new\" xlink:title=\"psysml:a0e63dae-583d-42a3-9f46-6e6177e563b1\" xlink:type=\"simple\"><polygon fill=\"#FFFFFF\" points=\"16,6,156,6,163,28.2969,467,28.2969,467,349,16,349,16,6\" style=\"stroke: #000000; stroke-width: 1.5;\"/><line style=\"stroke: #000000; stroke-width: 1.5;\" x1=\"16\" x2=\"163\" y1=\"28.2969\" y2=\"28.2969\"/><text fill=\"#000000\" font-family=\"sans-serif\" font-size=\"14\" font-weight=\"bold\" lengthAdjust=\"spacingAndGlyphs\" textLength=\"134\" x=\"20\" y=\"20.9951\">DependencyTest</text></a><!--MD5=[e4f7fae6ed58524ba242bb0b0d3be6b7]\n",
       "cluster E2--><a href=\"psysml:90630542-d1db-4cfe-a426-6fd5a6b42885\" target=\"_top\" title=\"psysml:90630542-d1db-4cfe-a426-6fd5a6b42885\" xlink:actuate=\"onRequest\" xlink:href=\"psysml:90630542-d1db-4cfe-a426-6fd5a6b42885\" xlink:show=\"new\" xlink:title=\"psysml:90630542-d1db-4cfe-a426-6fd5a6b42885\" xlink:type=\"simple\"><polygon fill=\"#FFFFFF\" points=\"255,49,319,49,326,71.2969,443,71.2969,443,325,255,325,255,49\" style=\"stroke: #000000; stroke-width: 1.5;\"/><line style=\"stroke: #000000; stroke-width: 1.5;\" x1=\"255\" x2=\"326\" y1=\"71.2969\" y2=\"71.2969\"/><text fill=\"#000000\" font-family=\"sans-serif\" font-size=\"14\" font-weight=\"bold\" lengthAdjust=\"spacingAndGlyphs\" textLength=\"58\" x=\"259\" y=\"63.9951\">System</text></a><!--MD5=[60a26617385b1d2d0262a64233df1f8d]\n",
       "class E6--><a href=\"psysml:7440b603-2b18-4efb-9bf4-7832c56b919b\" target=\"_top\" title=\"psysml:7440b603-2b18-4efb-9bf4-7832c56b919b\" xlink:actuate=\"onRequest\" xlink:href=\"psysml:7440b603-2b18-4efb-9bf4-7832c56b919b\" xlink:show=\"new\" xlink:title=\"psysml:7440b603-2b18-4efb-9bf4-7832c56b919b\" xlink:type=\"simple\"><rect fill=\"#FFFFFF\" height=\"45.9375\" id=\"E6\" rx=\"10\" ry=\"10\" style=\"stroke: #383838; stroke-width: 1.5;\" width=\"71\" x=\"32.5\" y=\"173.5\"/><text fill=\"#000000\" font-family=\"sans-serif\" font-size=\"12\" font-style=\"italic\" lengthAdjust=\"spacingAndGlyphs\" textLength=\"69\" x=\"33.5\" y=\"189.6387\">«attribute»</text><text fill=\"#000000\" font-family=\"sans-serif\" font-size=\"12\" lengthAdjust=\"spacingAndGlyphs\" textLength=\"6\" x=\"65\" y=\"203.6074\">x</text><line style=\"stroke: #383838; stroke-width: 1.5;\" x1=\"33.5\" x2=\"102.5\" y1=\"211.4375\" y2=\"211.4375\"/></a><!--MD5=[2156ba9850f5573cc1fc38a6a4b2f02b]\n",
       "class E7--><a href=\"psysml:d907cb85-580b-45cd-b69d-b597f081eb5c\" target=\"_top\" title=\"psysml:d907cb85-580b-45cd-b69d-b597f081eb5c\" xlink:actuate=\"onRequest\" xlink:href=\"psysml:d907cb85-580b-45cd-b69d-b597f081eb5c\" xlink:show=\"new\" xlink:title=\"psysml:d907cb85-580b-45cd-b69d-b597f081eb5c\" xlink:type=\"simple\"><rect fill=\"#FFFFFF\" height=\"45.9375\" id=\"E7\" rx=\"10\" ry=\"10\" style=\"stroke: #383838; stroke-width: 1.5;\" width=\"71\" x=\"138.5\" y=\"173.5\"/><text fill=\"#000000\" font-family=\"sans-serif\" font-size=\"12\" font-style=\"italic\" lengthAdjust=\"spacingAndGlyphs\" textLength=\"69\" x=\"139.5\" y=\"189.6387\">«attribute»</text><text fill=\"#000000\" font-family=\"sans-serif\" font-size=\"12\" lengthAdjust=\"spacingAndGlyphs\" textLength=\"6\" x=\"171\" y=\"203.6074\">y</text><line style=\"stroke: #383838; stroke-width: 1.5;\" x1=\"139.5\" x2=\"208.5\" y1=\"211.4375\" y2=\"211.4375\"/></a><!--MD5=[b9389687b975829384b498ac4b7476b2]\n",
       "class E8--><a href=\"psysml:719c36a8-8fd6-40f5-b1aa-2a0e2714a310\" target=\"_top\" title=\"psysml:719c36a8-8fd6-40f5-b1aa-2a0e2714a310\" xlink:actuate=\"onRequest\" xlink:href=\"psysml:719c36a8-8fd6-40f5-b1aa-2a0e2714a310\" xlink:show=\"new\" xlink:title=\"psysml:719c36a8-8fd6-40f5-b1aa-2a0e2714a310\" xlink:type=\"simple\"><rect fill=\"#FFFFFF\" height=\"45.9375\" id=\"E8\" rx=\"10\" ry=\"10\" style=\"stroke: #383838; stroke-width: 1.5;\" width=\"71\" x=\"84.5\" y=\"87.5\"/><text fill=\"#000000\" font-family=\"sans-serif\" font-size=\"12\" font-style=\"italic\" lengthAdjust=\"spacingAndGlyphs\" textLength=\"69\" x=\"85.5\" y=\"103.6387\">«attribute»</text><text fill=\"#000000\" font-family=\"sans-serif\" font-size=\"12\" lengthAdjust=\"spacingAndGlyphs\" textLength=\"5\" x=\"117.5\" y=\"117.6074\">z</text><line style=\"stroke: #383838; stroke-width: 1.5;\" x1=\"85.5\" x2=\"154.5\" y1=\"125.4375\" y2=\"125.4375\"/></a><a href=\"psysml:f4739741-a5ef-49a4-9e06-4bb8a722f77e\" target=\"_top\" title=\"psysml:f4739741-a5ef-49a4-9e06-4bb8a722f77e\" xlink:actuate=\"onRequest\" xlink:href=\"psysml:f4739741-a5ef-49a4-9e06-4bb8a722f77e\" xlink:show=\"new\" xlink:title=\"psysml:f4739741-a5ef-49a4-9e06-4bb8a722f77e\" xlink:type=\"simple\"><polygon fill=\"#FFFFFF\" points=\"271,84,413,84,420,106.2969,427,106.2969,427,136.5938,271,136.5938,271,84\" style=\"stroke: #000000; stroke-width: 1.5;\"/><line style=\"stroke: #000000; stroke-width: 1.5;\" x1=\"271\" x2=\"420\" y1=\"106.2969\" y2=\"106.2969\"/><text fill=\"#000000\" font-family=\"sans-serif\" font-size=\"14\" font-weight=\"bold\" lengthAdjust=\"spacingAndGlyphs\" textLength=\"136\" x=\"275\" y=\"98.9951\">Application Layer</text></a><a href=\"psysml:e1090b77-2219-4e30-afea-75b6451d3a90\" target=\"_top\" title=\"psysml:e1090b77-2219-4e30-afea-75b6451d3a90\" xlink:actuate=\"onRequest\" xlink:href=\"psysml:e1090b77-2219-4e30-afea-75b6451d3a90\" xlink:show=\"new\" xlink:title=\"psysml:e1090b77-2219-4e30-afea-75b6451d3a90\" xlink:type=\"simple\"><polygon fill=\"#FFFFFF\" points=\"285,170,399,170,406,192.2969,413,192.2969,413,222.5938,285,222.5938,285,170\" style=\"stroke: #000000; stroke-width: 1.5;\"/><line style=\"stroke: #000000; stroke-width: 1.5;\" x1=\"285\" x2=\"406\" y1=\"192.2969\" y2=\"192.2969\"/><text fill=\"#000000\" font-family=\"sans-serif\" font-size=\"14\" font-weight=\"bold\" lengthAdjust=\"spacingAndGlyphs\" textLength=\"108\" x=\"289\" y=\"184.9951\">Service Layer</text></a><a href=\"psysml:fe465764-9ab4-44bf-be91-bd692232f0a1\" target=\"_top\" title=\"psysml:fe465764-9ab4-44bf-be91-bd692232f0a1\" xlink:actuate=\"onRequest\" xlink:href=\"psysml:fe465764-9ab4-44bf-be91-bd692232f0a1\" xlink:show=\"new\" xlink:title=\"psysml:fe465764-9ab4-44bf-be91-bd692232f0a1\" xlink:type=\"simple\"><polygon fill=\"#FFFFFF\" points=\"297,256,387,256,394,278.2969,401,278.2969,401,308.5938,297,308.5938,297,256\" style=\"stroke: #000000; stroke-width: 1.5;\"/><line style=\"stroke: #000000; stroke-width: 1.5;\" x1=\"297\" x2=\"394\" y1=\"278.2969\" y2=\"278.2969\"/><text fill=\"#000000\" font-family=\"sans-serif\" font-size=\"14\" font-weight=\"bold\" lengthAdjust=\"spacingAndGlyphs\" textLength=\"84\" x=\"301\" y=\"270.9951\">Data Layer</text></a><!--MD5=[af87c684e3b0d8be13c1a698a818ef1e]\n",
       "link E3 to E4--><a href=\"psysml:f18ad3d3-ddea-4435-b15e-701f5c4039de\" target=\"_top\" title=\"psysml:f18ad3d3-ddea-4435-b15e-701f5c4039de\" xlink:actuate=\"onRequest\" xlink:href=\"psysml:f18ad3d3-ddea-4435-b15e-701f5c4039de\" xlink:show=\"new\" xlink:title=\"psysml:f18ad3d3-ddea-4435-b15e-701f5c4039de\" xlink:type=\"simple\"><path d=\"M349,137.24 C349,137.24 349,161.78 349,161.78 \" fill=\"none\" id=\"E3-&gt;E4\" style=\"stroke: #383838; stroke-width: 1.0; stroke-dasharray: 7.0,7.0;\"/><polygon fill=\"#383838\" points=\"349,169.78,352,161.78,346,161.78,349,169.78\" style=\"stroke: #383838; stroke-width: 1.0;\"/><text fill=\"#000000\" font-family=\"sans-serif\" font-size=\"13\" lengthAdjust=\"spacingAndGlyphs\" textLength=\"64\" x=\"350\" y=\"158.0669\">«depend»</text></a><!--MD5=[1b7591eae5389033d8d09a9d6721a717]\n",
       "link E4 to E5--><a href=\"psysml:22e4e023-3d64-4f1c-8411-ecdb932522c7\" target=\"_top\" title=\"psysml:22e4e023-3d64-4f1c-8411-ecdb932522c7\" xlink:actuate=\"onRequest\" xlink:href=\"psysml:22e4e023-3d64-4f1c-8411-ecdb932522c7\" xlink:show=\"new\" xlink:title=\"psysml:22e4e023-3d64-4f1c-8411-ecdb932522c7\" xlink:type=\"simple\"><path d=\"M349,223.24 C349,223.24 349,247.78 349,247.78 \" fill=\"none\" id=\"E4-&gt;E5\" style=\"stroke: #383838; stroke-width: 1.0; stroke-dasharray: 7.0,7.0;\"/><polygon fill=\"#383838\" points=\"349,255.78,352,247.78,346,247.78,349,255.78\" style=\"stroke: #383838; stroke-width: 1.0;\"/><text fill=\"#000000\" font-family=\"sans-serif\" font-size=\"13\" lengthAdjust=\"spacingAndGlyphs\" textLength=\"64\" x=\"350\" y=\"244.0669\">«depend»</text></a><!--MD5=[c5e8897d989ce984f93528998a7150fe]\n",
       "link E8 to E6--><a href=\"psysml:01d1ab15-dda9-4157-a585-7877f2cc1d47\" target=\"_top\" title=\"psysml:01d1ab15-dda9-4157-a585-7877f2cc1d47\" xlink:actuate=\"onRequest\" xlink:href=\"psysml:01d1ab15-dda9-4157-a585-7877f2cc1d47\" xlink:show=\"new\" xlink:title=\"psysml:01d1ab15-dda9-4157-a585-7877f2cc1d47\" xlink:type=\"simple\"><path d=\"M94,133.55 C94,133.55 94,165.39 94,165.39 \" fill=\"none\" id=\"E8-&gt;E6\" style=\"stroke: #383838; stroke-width: 1.0; stroke-dasharray: 7.0,7.0;\"/><polygon fill=\"#383838\" points=\"94,173.39,97,165.39,91,165.39,94,173.39\" style=\"stroke: #383838; stroke-width: 1.0;\"/><text fill=\"#000000\" font-family=\"sans-serif\" font-size=\"13\" lengthAdjust=\"spacingAndGlyphs\" textLength=\"64\" x=\"68\" y=\"158.0669\">«depend»</text></a><!--MD5=[bfa3c8b0d15052fdf50ae9310b491027]\n",
       "link E8 to E7--><a href=\"psysml:01d1ab15-dda9-4157-a585-7877f2cc1d47\" target=\"_top\" title=\"psysml:01d1ab15-dda9-4157-a585-7877f2cc1d47\" xlink:actuate=\"onRequest\" xlink:href=\"psysml:01d1ab15-dda9-4157-a585-7877f2cc1d47\" xlink:show=\"new\" xlink:title=\"psysml:01d1ab15-dda9-4157-a585-7877f2cc1d47\" xlink:type=\"simple\"><path d=\"M147,133.55 C147,133.55 147,165.39 147,165.39 \" fill=\"none\" id=\"E8-&gt;E7\" style=\"stroke: #383838; stroke-width: 1.0; stroke-dasharray: 7.0,7.0;\"/><polygon fill=\"#383838\" points=\"147,173.39,150,165.39,144,165.39,147,173.39\" style=\"stroke: #383838; stroke-width: 1.0;\"/><text fill=\"#000000\" font-family=\"sans-serif\" font-size=\"13\" lengthAdjust=\"spacingAndGlyphs\" textLength=\"64\" x=\"174\" y=\"158.0669\">«depend»</text></a><!--MD5=[e1872e15757325e584f40fcef0152cbf]\n",
       "@startuml\r\n",
       "skinparam ranksep 10\r\n",
       "skinparam rectangle {\r\n",
       " backgroundColor<<block>> LightGreen\r\n",
       "}\r\n",
       "skinparam linetype ortho\r\n",
       "skinparam monochrome true\r\n",
       "skinparam classbackgroundcolor white\r\n",
       "skinparam shadowing false\r\n",
       "skinparam wrapWidth 300\r\n",
       "hide circle\r\n",
       "\r\n",
       "package \"DependencyTest\" as E1  [[psysml:a0e63dae-583d-42a3-9f46-6e6177e563b1 ]]  {\r\n",
       "package \"System\" as E2  [[psysml:90630542-d1db-4cfe-a426-6fd5a6b42885 ]]  {\r\n",
       "package \"Application Layer\" as E3  [[psysml:f4739741-a5ef-49a4-9e06-4bb8a722f77e ]]  {\r\n",
       "}\r\n",
       "package \"Service Layer\" as E4  [[psysml:e1090b77-2219-4e30-afea-75b6451d3a90 ]]  {\r\n",
       "}\r\n",
       "package \"Data Layer\" as E5  [[psysml:fe465764-9ab4-44bf-be91-bd692232f0a1 ]]  {\r\n",
       "}\r\n",
       "}\r\n",
       "comp usage \"x\" as E6  <<(T,blue)attribute>> [[psysml:7440b603-2b18-4efb-9bf4-7832c56b919b ]] {\r\n",
       "}\r\n",
       "comp usage \"y\" as E7  <<(T,blue)attribute>> [[psysml:d907cb85-580b-45cd-b69d-b597f081eb5c ]] {\r\n",
       "}\r\n",
       "comp usage \"z\" as E8  <<(T,blue)attribute>> [[psysml:719c36a8-8fd6-40f5-b1aa-2a0e2714a310 ]] {\r\n",
       "}\r\n",
       "E3 ..>> E4 [[psysml:f18ad3d3-ddea-4435-b15e-701f5c4039de ]] : <<depend>>\r\n",
       "E4 ..>> E5 [[psysml:22e4e023-3d64-4f1c-8411-ecdb932522c7 ]] : <<depend>>\r\n",
       "E8 ..>> E6 [[psysml:01d1ab15-dda9-4157-a585-7877f2cc1d47 ]] : <<depend>>\r\n",
       "E8 ..>> E7 [[psysml:01d1ab15-dda9-4157-a585-7877f2cc1d47 ]] : <<depend>>\r\n",
       "}\r\n",
       "@enduml\r\n",
       "\n",
       "PlantUML version 1.2020.13(Sat Jun 13 12:26:38 UTC 2020)\n",
       "(EPL source distribution)\n",
       "Java Runtime: OpenJDK Runtime Environment\n",
       "JVM: OpenJDK 64-Bit Server VM\n",
       "Default Encoding: UTF-8\n",
       "Language: en\n",
       "Country: null\n",
       "--></g></svg>"
      ]
     },
     "execution_count": 54,
     "metadata": {},
     "output_type": "execute_result"
    }
   ],
   "source": [
    "%viz --style=\"ORTHOLINE\" --view=\"Interconnection\" \"DependencyTest\""
   ]
  },
  {
   "cell_type": "code",
   "execution_count": 55,
   "id": "3a216422",
   "metadata": {
    "execution": {
     "iopub.execute_input": "2021-04-21T20:26:09.009676Z",
     "iopub.status.busy": "2021-04-21T20:26:09.009284Z",
     "iopub.status.idle": "2021-04-21T20:26:09.014139Z",
     "shell.execute_reply": "2021-04-21T20:26:09.013592Z"
    }
   },
   "outputs": [
    {
     "data": {
      "image/svg+xml": [
       "<?xml version=\"1.0\" encoding=\"UTF-8\" standalone=\"no\"?><svg xmlns=\"http://www.w3.org/2000/svg\" xmlns:xlink=\"http://www.w3.org/1999/xlink\" contentScriptType=\"application/ecmascript\" contentStyleType=\"text/css\" height=\"12px\" preserveAspectRatio=\"none\" style=\"width:12px;height:12px;\" version=\"1.1\" viewBox=\"0 0 12 12\" width=\"12px\" zoomAndPan=\"magnify\"><defs/><g><!--MD5=[72934c63077099a26744516a776b4749]\n",
       "@startuml\r\n",
       "skinparam ranksep 8\r\n",
       "skinparam linetype ortho\r\n",
       "skinparam monochrome true\r\n",
       "skinparam classbackgroundcolor white\r\n",
       "skinparam shadowing false\r\n",
       "skinparam wrapWidth 300\r\n",
       "hide circle\r\n",
       "\r\n",
       "@enduml\r\n",
       "\n",
       "PlantUML version 1.2020.13(Sat Jun 13 12:26:38 UTC 2020)\n",
       "(EPL source distribution)\n",
       "Java Runtime: OpenJDK Runtime Environment\n",
       "JVM: OpenJDK 64-Bit Server VM\n",
       "Default Encoding: UTF-8\n",
       "Language: en\n",
       "Country: null\n",
       "--></g></svg>"
      ]
     },
     "execution_count": 55,
     "metadata": {},
     "output_type": "execute_result"
    }
   ],
   "source": [
    "%viz --style=\"ORTHOLINE\" --view=\"Action\" \"DependencyTest\""
   ]
  },
  {
   "cell_type": "code",
   "execution_count": 56,
   "id": "87d0e92a",
   "metadata": {
    "execution": {
     "iopub.execute_input": "2021-04-21T20:26:09.064425Z",
     "iopub.status.busy": "2021-04-21T20:26:09.063723Z",
     "iopub.status.idle": "2021-04-21T20:26:09.104989Z",
     "shell.execute_reply": "2021-04-21T20:26:09.104657Z"
    }
   },
   "outputs": [
    {
     "data": {
      "image/svg+xml": [
       "<?xml version=\"1.0\" encoding=\"UTF-8\" standalone=\"no\"?><svg xmlns=\"http://www.w3.org/2000/svg\" xmlns:xlink=\"http://www.w3.org/1999/xlink\" contentScriptType=\"application/ecmascript\" contentStyleType=\"text/css\" height=\"449px\" preserveAspectRatio=\"none\" style=\"width:489px;height:449px;\" version=\"1.1\" viewBox=\"0 0 489 449\" width=\"489px\" zoomAndPan=\"magnify\"><defs/><g><!--MD5=[fbc87193dbaf4d95561dea2c320d4a47]\n",
       "cluster E1--><a href=\"psysml:a0e63dae-583d-42a3-9f46-6e6177e563b1\" target=\"_top\" title=\"psysml:a0e63dae-583d-42a3-9f46-6e6177e563b1\" xlink:actuate=\"onRequest\" xlink:href=\"psysml:a0e63dae-583d-42a3-9f46-6e6177e563b1\" xlink:show=\"new\" xlink:title=\"psysml:a0e63dae-583d-42a3-9f46-6e6177e563b1\" xlink:type=\"simple\"><polygon fill=\"#FFFFFF\" points=\"16,6,156,6,163,28.2969,467,28.2969,467,437,16,437,16,6\" style=\"stroke: #000000; stroke-width: 1.5;\"/><line style=\"stroke: #000000; stroke-width: 1.5;\" x1=\"16\" x2=\"163\" y1=\"28.2969\" y2=\"28.2969\"/><text fill=\"#000000\" font-family=\"sans-serif\" font-size=\"14\" font-weight=\"bold\" lengthAdjust=\"spacingAndGlyphs\" textLength=\"134\" x=\"20\" y=\"20.9951\">DependencyTest</text></a><!--MD5=[e4f7fae6ed58524ba242bb0b0d3be6b7]\n",
       "cluster E2--><a href=\"psysml:90630542-d1db-4cfe-a426-6fd5a6b42885\" target=\"_top\" title=\"psysml:90630542-d1db-4cfe-a426-6fd5a6b42885\" xlink:actuate=\"onRequest\" xlink:href=\"psysml:90630542-d1db-4cfe-a426-6fd5a6b42885\" xlink:show=\"new\" xlink:title=\"psysml:90630542-d1db-4cfe-a426-6fd5a6b42885\" xlink:type=\"simple\"><polygon fill=\"#FFFFFF\" points=\"255,49,319,49,326,71.2969,443,71.2969,443,413,255,413,255,49\" style=\"stroke: #000000; stroke-width: 1.5;\"/><line style=\"stroke: #000000; stroke-width: 1.5;\" x1=\"255\" x2=\"326\" y1=\"71.2969\" y2=\"71.2969\"/><text fill=\"#000000\" font-family=\"sans-serif\" font-size=\"14\" font-weight=\"bold\" lengthAdjust=\"spacingAndGlyphs\" textLength=\"58\" x=\"259\" y=\"63.9951\">System</text></a><!--MD5=[60a26617385b1d2d0262a64233df1f8d]\n",
       "class E6--><a href=\"psysml:7440b603-2b18-4efb-9bf4-7832c56b919b\" target=\"_top\" title=\"psysml:7440b603-2b18-4efb-9bf4-7832c56b919b\" xlink:actuate=\"onRequest\" xlink:href=\"psysml:7440b603-2b18-4efb-9bf4-7832c56b919b\" xlink:show=\"new\" xlink:title=\"psysml:7440b603-2b18-4efb-9bf4-7832c56b919b\" xlink:type=\"simple\"><rect fill=\"#FFFFFF\" height=\"45.9375\" id=\"E6\" rx=\"10\" ry=\"10\" style=\"stroke: #383838; stroke-width: 1.5;\" width=\"71\" x=\"32.5\" y=\"217.5\"/><text fill=\"#000000\" font-family=\"sans-serif\" font-size=\"12\" font-style=\"italic\" lengthAdjust=\"spacingAndGlyphs\" textLength=\"69\" x=\"33.5\" y=\"233.6387\">«attribute»</text><text fill=\"#000000\" font-family=\"sans-serif\" font-size=\"12\" lengthAdjust=\"spacingAndGlyphs\" textLength=\"6\" x=\"65\" y=\"247.6074\">x</text><line style=\"stroke: #383838; stroke-width: 1.5;\" x1=\"33.5\" x2=\"102.5\" y1=\"255.4375\" y2=\"255.4375\"/></a><!--MD5=[2156ba9850f5573cc1fc38a6a4b2f02b]\n",
       "class E7--><a href=\"psysml:d907cb85-580b-45cd-b69d-b597f081eb5c\" target=\"_top\" title=\"psysml:d907cb85-580b-45cd-b69d-b597f081eb5c\" xlink:actuate=\"onRequest\" xlink:href=\"psysml:d907cb85-580b-45cd-b69d-b597f081eb5c\" xlink:show=\"new\" xlink:title=\"psysml:d907cb85-580b-45cd-b69d-b597f081eb5c\" xlink:type=\"simple\"><rect fill=\"#FFFFFF\" height=\"45.9375\" id=\"E7\" rx=\"10\" ry=\"10\" style=\"stroke: #383838; stroke-width: 1.5;\" width=\"71\" x=\"138.5\" y=\"217.5\"/><text fill=\"#000000\" font-family=\"sans-serif\" font-size=\"12\" font-style=\"italic\" lengthAdjust=\"spacingAndGlyphs\" textLength=\"69\" x=\"139.5\" y=\"233.6387\">«attribute»</text><text fill=\"#000000\" font-family=\"sans-serif\" font-size=\"12\" lengthAdjust=\"spacingAndGlyphs\" textLength=\"6\" x=\"171\" y=\"247.6074\">y</text><line style=\"stroke: #383838; stroke-width: 1.5;\" x1=\"139.5\" x2=\"208.5\" y1=\"255.4375\" y2=\"255.4375\"/></a><!--MD5=[b9389687b975829384b498ac4b7476b2]\n",
       "class E8--><a href=\"psysml:719c36a8-8fd6-40f5-b1aa-2a0e2714a310\" target=\"_top\" title=\"psysml:719c36a8-8fd6-40f5-b1aa-2a0e2714a310\" xlink:actuate=\"onRequest\" xlink:href=\"psysml:719c36a8-8fd6-40f5-b1aa-2a0e2714a310\" xlink:show=\"new\" xlink:title=\"psysml:719c36a8-8fd6-40f5-b1aa-2a0e2714a310\" xlink:type=\"simple\"><rect fill=\"#FFFFFF\" height=\"45.9375\" id=\"E8\" rx=\"10\" ry=\"10\" style=\"stroke: #383838; stroke-width: 1.5;\" width=\"71\" x=\"84.5\" y=\"87.5\"/><text fill=\"#000000\" font-family=\"sans-serif\" font-size=\"12\" font-style=\"italic\" lengthAdjust=\"spacingAndGlyphs\" textLength=\"69\" x=\"85.5\" y=\"103.6387\">«attribute»</text><text fill=\"#000000\" font-family=\"sans-serif\" font-size=\"12\" lengthAdjust=\"spacingAndGlyphs\" textLength=\"5\" x=\"117.5\" y=\"117.6074\">z</text><line style=\"stroke: #383838; stroke-width: 1.5;\" x1=\"85.5\" x2=\"154.5\" y1=\"125.4375\" y2=\"125.4375\"/></a><a href=\"psysml:f4739741-a5ef-49a4-9e06-4bb8a722f77e\" target=\"_top\" title=\"psysml:f4739741-a5ef-49a4-9e06-4bb8a722f77e\" xlink:actuate=\"onRequest\" xlink:href=\"psysml:f4739741-a5ef-49a4-9e06-4bb8a722f77e\" xlink:show=\"new\" xlink:title=\"psysml:f4739741-a5ef-49a4-9e06-4bb8a722f77e\" xlink:type=\"simple\"><polygon fill=\"#FFFFFF\" points=\"271,84,413,84,420,106.2969,427,106.2969,427,136.5938,271,136.5938,271,84\" style=\"stroke: #000000; stroke-width: 1.5;\"/><line style=\"stroke: #000000; stroke-width: 1.5;\" x1=\"271\" x2=\"420\" y1=\"106.2969\" y2=\"106.2969\"/><text fill=\"#000000\" font-family=\"sans-serif\" font-size=\"14\" font-weight=\"bold\" lengthAdjust=\"spacingAndGlyphs\" textLength=\"136\" x=\"275\" y=\"98.9951\">Application Layer</text></a><a href=\"psysml:e1090b77-2219-4e30-afea-75b6451d3a90\" target=\"_top\" title=\"psysml:e1090b77-2219-4e30-afea-75b6451d3a90\" xlink:actuate=\"onRequest\" xlink:href=\"psysml:e1090b77-2219-4e30-afea-75b6451d3a90\" xlink:show=\"new\" xlink:title=\"psysml:e1090b77-2219-4e30-afea-75b6451d3a90\" xlink:type=\"simple\"><polygon fill=\"#FFFFFF\" points=\"285,214,399,214,406,236.2969,413,236.2969,413,266.5938,285,266.5938,285,214\" style=\"stroke: #000000; stroke-width: 1.5;\"/><line style=\"stroke: #000000; stroke-width: 1.5;\" x1=\"285\" x2=\"406\" y1=\"236.2969\" y2=\"236.2969\"/><text fill=\"#000000\" font-family=\"sans-serif\" font-size=\"14\" font-weight=\"bold\" lengthAdjust=\"spacingAndGlyphs\" textLength=\"108\" x=\"289\" y=\"228.9951\">Service Layer</text></a><a href=\"psysml:fe465764-9ab4-44bf-be91-bd692232f0a1\" target=\"_top\" title=\"psysml:fe465764-9ab4-44bf-be91-bd692232f0a1\" xlink:actuate=\"onRequest\" xlink:href=\"psysml:fe465764-9ab4-44bf-be91-bd692232f0a1\" xlink:show=\"new\" xlink:title=\"psysml:fe465764-9ab4-44bf-be91-bd692232f0a1\" xlink:type=\"simple\"><polygon fill=\"#FFFFFF\" points=\"297,344,387,344,394,366.2969,401,366.2969,401,396.5938,297,396.5938,297,344\" style=\"stroke: #000000; stroke-width: 1.5;\"/><line style=\"stroke: #000000; stroke-width: 1.5;\" x1=\"297\" x2=\"394\" y1=\"366.2969\" y2=\"366.2969\"/><text fill=\"#000000\" font-family=\"sans-serif\" font-size=\"14\" font-weight=\"bold\" lengthAdjust=\"spacingAndGlyphs\" textLength=\"84\" x=\"301\" y=\"358.9951\">Data Layer</text></a><!--MD5=[af87c684e3b0d8be13c1a698a818ef1e]\n",
       "link E3 to E4--><a href=\"psysml:f18ad3d3-ddea-4435-b15e-701f5c4039de\" target=\"_top\" title=\"psysml:f18ad3d3-ddea-4435-b15e-701f5c4039de\" xlink:actuate=\"onRequest\" xlink:href=\"psysml:f18ad3d3-ddea-4435-b15e-701f5c4039de\" xlink:show=\"new\" xlink:title=\"psysml:f18ad3d3-ddea-4435-b15e-701f5c4039de\" xlink:type=\"simple\"><path d=\"M349,137.12 C349,137.12 349,205.91 349,205.91 \" fill=\"none\" id=\"E3-&gt;E4\" style=\"stroke: #383838; stroke-width: 1.0; stroke-dasharray: 7.0,7.0;\"/><polygon fill=\"#383838\" points=\"349,213.91,352,205.91,346,205.91,349,213.91\" style=\"stroke: #383838; stroke-width: 1.0;\"/><text fill=\"#000000\" font-family=\"sans-serif\" font-size=\"13\" lengthAdjust=\"spacingAndGlyphs\" textLength=\"64\" x=\"350\" y=\"180.0669\">«depend»</text></a><!--MD5=[1b7591eae5389033d8d09a9d6721a717]\n",
       "link E4 to E5--><a href=\"psysml:22e4e023-3d64-4f1c-8411-ecdb932522c7\" target=\"_top\" title=\"psysml:22e4e023-3d64-4f1c-8411-ecdb932522c7\" xlink:actuate=\"onRequest\" xlink:href=\"psysml:22e4e023-3d64-4f1c-8411-ecdb932522c7\" xlink:show=\"new\" xlink:title=\"psysml:22e4e023-3d64-4f1c-8411-ecdb932522c7\" xlink:type=\"simple\"><path d=\"M349,267.12 C349,267.12 349,335.91 349,335.91 \" fill=\"none\" id=\"E4-&gt;E5\" style=\"stroke: #383838; stroke-width: 1.0; stroke-dasharray: 7.0,7.0;\"/><polygon fill=\"#383838\" points=\"349,343.91,352,335.91,346,335.91,349,343.91\" style=\"stroke: #383838; stroke-width: 1.0;\"/><text fill=\"#000000\" font-family=\"sans-serif\" font-size=\"13\" lengthAdjust=\"spacingAndGlyphs\" textLength=\"64\" x=\"350\" y=\"310.0669\">«depend»</text></a><!--MD5=[c5e8897d989ce984f93528998a7150fe]\n",
       "link E8 to E6--><a href=\"psysml:01d1ab15-dda9-4157-a585-7877f2cc1d47\" target=\"_top\" title=\"psysml:01d1ab15-dda9-4157-a585-7877f2cc1d47\" xlink:actuate=\"onRequest\" xlink:href=\"psysml:01d1ab15-dda9-4157-a585-7877f2cc1d47\" xlink:show=\"new\" xlink:title=\"psysml:01d1ab15-dda9-4157-a585-7877f2cc1d47\" xlink:type=\"simple\"><path d=\"M94,133.74 C94,133.74 94,209.46 94,209.46 \" fill=\"none\" id=\"E8-&gt;E6\" style=\"stroke: #383838; stroke-width: 1.0; stroke-dasharray: 7.0,7.0;\"/><polygon fill=\"#383838\" points=\"94,217.46,97,209.46,91,209.46,94,217.46\" style=\"stroke: #383838; stroke-width: 1.0;\"/><text fill=\"#000000\" font-family=\"sans-serif\" font-size=\"13\" lengthAdjust=\"spacingAndGlyphs\" textLength=\"64\" x=\"68\" y=\"180.0669\">«depend»</text></a><!--MD5=[bfa3c8b0d15052fdf50ae9310b491027]\n",
       "link E8 to E7--><a href=\"psysml:01d1ab15-dda9-4157-a585-7877f2cc1d47\" target=\"_top\" title=\"psysml:01d1ab15-dda9-4157-a585-7877f2cc1d47\" xlink:actuate=\"onRequest\" xlink:href=\"psysml:01d1ab15-dda9-4157-a585-7877f2cc1d47\" xlink:show=\"new\" xlink:title=\"psysml:01d1ab15-dda9-4157-a585-7877f2cc1d47\" xlink:type=\"simple\"><path d=\"M147,133.74 C147,133.74 147,209.46 147,209.46 \" fill=\"none\" id=\"E8-&gt;E7\" style=\"stroke: #383838; stroke-width: 1.0; stroke-dasharray: 7.0,7.0;\"/><polygon fill=\"#383838\" points=\"147,217.46,150,209.46,144,209.46,147,217.46\" style=\"stroke: #383838; stroke-width: 1.0;\"/><text fill=\"#000000\" font-family=\"sans-serif\" font-size=\"13\" lengthAdjust=\"spacingAndGlyphs\" textLength=\"64\" x=\"174\" y=\"180.0669\">«depend»</text></a><!--MD5=[a6a5b8b4cd04c01fe1990fed846b196a]\n",
       "@startuml\r\n",
       "skinparam linetype ortho\r\n",
       "skinparam monochrome true\r\n",
       "skinparam classbackgroundcolor white\r\n",
       "skinparam shadowing false\r\n",
       "skinparam wrapWidth 300\r\n",
       "hide circle\r\n",
       "\r\n",
       "package \"DependencyTest\" as E1  [[psysml:a0e63dae-583d-42a3-9f46-6e6177e563b1 ]]  {\r\n",
       "package \"System\" as E2  [[psysml:90630542-d1db-4cfe-a426-6fd5a6b42885 ]]  {\r\n",
       "package \"Application Layer\" as E3  [[psysml:f4739741-a5ef-49a4-9e06-4bb8a722f77e ]]  {\r\n",
       "}\r\n",
       "package \"Service Layer\" as E4  [[psysml:e1090b77-2219-4e30-afea-75b6451d3a90 ]]  {\r\n",
       "}\r\n",
       "package \"Data Layer\" as E5  [[psysml:fe465764-9ab4-44bf-be91-bd692232f0a1 ]]  {\r\n",
       "}\r\n",
       "}\r\n",
       "comp usage \"x\" as E6  <<(T,blue)attribute>> [[psysml:7440b603-2b18-4efb-9bf4-7832c56b919b ]] {\r\n",
       "}\r\n",
       "comp usage \"y\" as E7  <<(T,blue)attribute>> [[psysml:d907cb85-580b-45cd-b69d-b597f081eb5c ]] {\r\n",
       "}\r\n",
       "comp usage \"z\" as E8  <<(T,blue)attribute>> [[psysml:719c36a8-8fd6-40f5-b1aa-2a0e2714a310 ]] {\r\n",
       "}\r\n",
       "E3 ..>> E4 [[psysml:f18ad3d3-ddea-4435-b15e-701f5c4039de ]] : <<depend>>\r\n",
       "E4 ..>> E5 [[psysml:22e4e023-3d64-4f1c-8411-ecdb932522c7 ]] : <<depend>>\r\n",
       "E8 ..>> E6 [[psysml:01d1ab15-dda9-4157-a585-7877f2cc1d47 ]] : <<depend>>\r\n",
       "E8 ..>> E7 [[psysml:01d1ab15-dda9-4157-a585-7877f2cc1d47 ]] : <<depend>>\r\n",
       "}\r\n",
       "@enduml\r\n",
       "\n",
       "PlantUML version 1.2020.13(Sat Jun 13 12:26:38 UTC 2020)\n",
       "(EPL source distribution)\n",
       "Java Runtime: OpenJDK Runtime Environment\n",
       "JVM: OpenJDK 64-Bit Server VM\n",
       "Default Encoding: UTF-8\n",
       "Language: en\n",
       "Country: null\n",
       "--></g></svg>"
      ]
     },
     "execution_count": 56,
     "metadata": {},
     "output_type": "execute_result"
    }
   ],
   "source": [
    "%viz --style=\"ORTHOLINE\" --view=\"Sequence\" \"DependencyTest\""
   ]
  },
  {
   "cell_type": "code",
   "execution_count": 57,
   "id": "54e802a9",
   "metadata": {
    "execution": {
     "iopub.execute_input": "2021-04-21T20:26:09.155029Z",
     "iopub.status.busy": "2021-04-21T20:26:09.154470Z",
     "iopub.status.idle": "2021-04-21T20:26:09.193296Z",
     "shell.execute_reply": "2021-04-21T20:26:09.192702Z"
    }
   },
   "outputs": [
    {
     "data": {
      "image/svg+xml": [
       "<?xml version=\"1.0\" encoding=\"UTF-8\" standalone=\"no\"?><svg xmlns=\"http://www.w3.org/2000/svg\" xmlns:xlink=\"http://www.w3.org/1999/xlink\" contentScriptType=\"application/ecmascript\" contentStyleType=\"text/css\" height=\"449px\" preserveAspectRatio=\"none\" style=\"width:489px;height:449px;\" version=\"1.1\" viewBox=\"0 0 489 449\" width=\"489px\" zoomAndPan=\"magnify\"><defs/><g><!--MD5=[fbc87193dbaf4d95561dea2c320d4a47]\n",
       "cluster E1--><a href=\"psysml:a0e63dae-583d-42a3-9f46-6e6177e563b1\" target=\"_top\" title=\"psysml:a0e63dae-583d-42a3-9f46-6e6177e563b1\" xlink:actuate=\"onRequest\" xlink:href=\"psysml:a0e63dae-583d-42a3-9f46-6e6177e563b1\" xlink:show=\"new\" xlink:title=\"psysml:a0e63dae-583d-42a3-9f46-6e6177e563b1\" xlink:type=\"simple\"><polygon fill=\"#FFFFFF\" points=\"16,6,156,6,163,28.2969,467,28.2969,467,437,16,437,16,6\" style=\"stroke: #000000; stroke-width: 1.5;\"/><line style=\"stroke: #000000; stroke-width: 1.5;\" x1=\"16\" x2=\"163\" y1=\"28.2969\" y2=\"28.2969\"/><text fill=\"#000000\" font-family=\"sans-serif\" font-size=\"14\" font-weight=\"bold\" lengthAdjust=\"spacingAndGlyphs\" textLength=\"134\" x=\"20\" y=\"20.9951\">DependencyTest</text></a><!--MD5=[e4f7fae6ed58524ba242bb0b0d3be6b7]\n",
       "cluster E2--><a href=\"psysml:90630542-d1db-4cfe-a426-6fd5a6b42885\" target=\"_top\" title=\"psysml:90630542-d1db-4cfe-a426-6fd5a6b42885\" xlink:actuate=\"onRequest\" xlink:href=\"psysml:90630542-d1db-4cfe-a426-6fd5a6b42885\" xlink:show=\"new\" xlink:title=\"psysml:90630542-d1db-4cfe-a426-6fd5a6b42885\" xlink:type=\"simple\"><polygon fill=\"#FFFFFF\" points=\"255,49,319,49,326,71.2969,443,71.2969,443,413,255,413,255,49\" style=\"stroke: #000000; stroke-width: 1.5;\"/><line style=\"stroke: #000000; stroke-width: 1.5;\" x1=\"255\" x2=\"326\" y1=\"71.2969\" y2=\"71.2969\"/><text fill=\"#000000\" font-family=\"sans-serif\" font-size=\"14\" font-weight=\"bold\" lengthAdjust=\"spacingAndGlyphs\" textLength=\"58\" x=\"259\" y=\"63.9951\">System</text></a><!--MD5=[60a26617385b1d2d0262a64233df1f8d]\n",
       "class E6--><a href=\"psysml:7440b603-2b18-4efb-9bf4-7832c56b919b\" target=\"_top\" title=\"psysml:7440b603-2b18-4efb-9bf4-7832c56b919b\" xlink:actuate=\"onRequest\" xlink:href=\"psysml:7440b603-2b18-4efb-9bf4-7832c56b919b\" xlink:show=\"new\" xlink:title=\"psysml:7440b603-2b18-4efb-9bf4-7832c56b919b\" xlink:type=\"simple\"><rect fill=\"#FFFFFF\" height=\"45.9375\" id=\"E6\" rx=\"10\" ry=\"10\" style=\"stroke: #383838; stroke-width: 1.5;\" width=\"71\" x=\"32.5\" y=\"217.5\"/><text fill=\"#000000\" font-family=\"sans-serif\" font-size=\"12\" font-style=\"italic\" lengthAdjust=\"spacingAndGlyphs\" textLength=\"69\" x=\"33.5\" y=\"233.6387\">«attribute»</text><text fill=\"#000000\" font-family=\"sans-serif\" font-size=\"12\" lengthAdjust=\"spacingAndGlyphs\" textLength=\"6\" x=\"65\" y=\"247.6074\">x</text><line style=\"stroke: #383838; stroke-width: 1.5;\" x1=\"33.5\" x2=\"102.5\" y1=\"255.4375\" y2=\"255.4375\"/></a><!--MD5=[2156ba9850f5573cc1fc38a6a4b2f02b]\n",
       "class E7--><a href=\"psysml:d907cb85-580b-45cd-b69d-b597f081eb5c\" target=\"_top\" title=\"psysml:d907cb85-580b-45cd-b69d-b597f081eb5c\" xlink:actuate=\"onRequest\" xlink:href=\"psysml:d907cb85-580b-45cd-b69d-b597f081eb5c\" xlink:show=\"new\" xlink:title=\"psysml:d907cb85-580b-45cd-b69d-b597f081eb5c\" xlink:type=\"simple\"><rect fill=\"#FFFFFF\" height=\"45.9375\" id=\"E7\" rx=\"10\" ry=\"10\" style=\"stroke: #383838; stroke-width: 1.5;\" width=\"71\" x=\"138.5\" y=\"217.5\"/><text fill=\"#000000\" font-family=\"sans-serif\" font-size=\"12\" font-style=\"italic\" lengthAdjust=\"spacingAndGlyphs\" textLength=\"69\" x=\"139.5\" y=\"233.6387\">«attribute»</text><text fill=\"#000000\" font-family=\"sans-serif\" font-size=\"12\" lengthAdjust=\"spacingAndGlyphs\" textLength=\"6\" x=\"171\" y=\"247.6074\">y</text><line style=\"stroke: #383838; stroke-width: 1.5;\" x1=\"139.5\" x2=\"208.5\" y1=\"255.4375\" y2=\"255.4375\"/></a><!--MD5=[b9389687b975829384b498ac4b7476b2]\n",
       "class E8--><a href=\"psysml:719c36a8-8fd6-40f5-b1aa-2a0e2714a310\" target=\"_top\" title=\"psysml:719c36a8-8fd6-40f5-b1aa-2a0e2714a310\" xlink:actuate=\"onRequest\" xlink:href=\"psysml:719c36a8-8fd6-40f5-b1aa-2a0e2714a310\" xlink:show=\"new\" xlink:title=\"psysml:719c36a8-8fd6-40f5-b1aa-2a0e2714a310\" xlink:type=\"simple\"><rect fill=\"#FFFFFF\" height=\"45.9375\" id=\"E8\" rx=\"10\" ry=\"10\" style=\"stroke: #383838; stroke-width: 1.5;\" width=\"71\" x=\"84.5\" y=\"87.5\"/><text fill=\"#000000\" font-family=\"sans-serif\" font-size=\"12\" font-style=\"italic\" lengthAdjust=\"spacingAndGlyphs\" textLength=\"69\" x=\"85.5\" y=\"103.6387\">«attribute»</text><text fill=\"#000000\" font-family=\"sans-serif\" font-size=\"12\" lengthAdjust=\"spacingAndGlyphs\" textLength=\"5\" x=\"117.5\" y=\"117.6074\">z</text><line style=\"stroke: #383838; stroke-width: 1.5;\" x1=\"85.5\" x2=\"154.5\" y1=\"125.4375\" y2=\"125.4375\"/></a><a href=\"psysml:f4739741-a5ef-49a4-9e06-4bb8a722f77e\" target=\"_top\" title=\"psysml:f4739741-a5ef-49a4-9e06-4bb8a722f77e\" xlink:actuate=\"onRequest\" xlink:href=\"psysml:f4739741-a5ef-49a4-9e06-4bb8a722f77e\" xlink:show=\"new\" xlink:title=\"psysml:f4739741-a5ef-49a4-9e06-4bb8a722f77e\" xlink:type=\"simple\"><polygon fill=\"#FFFFFF\" points=\"271,84,413,84,420,106.2969,427,106.2969,427,136.5938,271,136.5938,271,84\" style=\"stroke: #000000; stroke-width: 1.5;\"/><line style=\"stroke: #000000; stroke-width: 1.5;\" x1=\"271\" x2=\"420\" y1=\"106.2969\" y2=\"106.2969\"/><text fill=\"#000000\" font-family=\"sans-serif\" font-size=\"14\" font-weight=\"bold\" lengthAdjust=\"spacingAndGlyphs\" textLength=\"136\" x=\"275\" y=\"98.9951\">Application Layer</text></a><a href=\"psysml:e1090b77-2219-4e30-afea-75b6451d3a90\" target=\"_top\" title=\"psysml:e1090b77-2219-4e30-afea-75b6451d3a90\" xlink:actuate=\"onRequest\" xlink:href=\"psysml:e1090b77-2219-4e30-afea-75b6451d3a90\" xlink:show=\"new\" xlink:title=\"psysml:e1090b77-2219-4e30-afea-75b6451d3a90\" xlink:type=\"simple\"><polygon fill=\"#FFFFFF\" points=\"285,214,399,214,406,236.2969,413,236.2969,413,266.5938,285,266.5938,285,214\" style=\"stroke: #000000; stroke-width: 1.5;\"/><line style=\"stroke: #000000; stroke-width: 1.5;\" x1=\"285\" x2=\"406\" y1=\"236.2969\" y2=\"236.2969\"/><text fill=\"#000000\" font-family=\"sans-serif\" font-size=\"14\" font-weight=\"bold\" lengthAdjust=\"spacingAndGlyphs\" textLength=\"108\" x=\"289\" y=\"228.9951\">Service Layer</text></a><a href=\"psysml:fe465764-9ab4-44bf-be91-bd692232f0a1\" target=\"_top\" title=\"psysml:fe465764-9ab4-44bf-be91-bd692232f0a1\" xlink:actuate=\"onRequest\" xlink:href=\"psysml:fe465764-9ab4-44bf-be91-bd692232f0a1\" xlink:show=\"new\" xlink:title=\"psysml:fe465764-9ab4-44bf-be91-bd692232f0a1\" xlink:type=\"simple\"><polygon fill=\"#FFFFFF\" points=\"297,344,387,344,394,366.2969,401,366.2969,401,396.5938,297,396.5938,297,344\" style=\"stroke: #000000; stroke-width: 1.5;\"/><line style=\"stroke: #000000; stroke-width: 1.5;\" x1=\"297\" x2=\"394\" y1=\"366.2969\" y2=\"366.2969\"/><text fill=\"#000000\" font-family=\"sans-serif\" font-size=\"14\" font-weight=\"bold\" lengthAdjust=\"spacingAndGlyphs\" textLength=\"84\" x=\"301\" y=\"358.9951\">Data Layer</text></a><!--MD5=[af87c684e3b0d8be13c1a698a818ef1e]\n",
       "link E3 to E4--><a href=\"psysml:f18ad3d3-ddea-4435-b15e-701f5c4039de\" target=\"_top\" title=\"psysml:f18ad3d3-ddea-4435-b15e-701f5c4039de\" xlink:actuate=\"onRequest\" xlink:href=\"psysml:f18ad3d3-ddea-4435-b15e-701f5c4039de\" xlink:show=\"new\" xlink:title=\"psysml:f18ad3d3-ddea-4435-b15e-701f5c4039de\" xlink:type=\"simple\"><path d=\"M349,137.12 C349,137.12 349,205.91 349,205.91 \" fill=\"none\" id=\"E3-&gt;E4\" style=\"stroke: #383838; stroke-width: 1.0; stroke-dasharray: 7.0,7.0;\"/><polygon fill=\"#383838\" points=\"349,213.91,352,205.91,346,205.91,349,213.91\" style=\"stroke: #383838; stroke-width: 1.0;\"/><text fill=\"#000000\" font-family=\"sans-serif\" font-size=\"13\" lengthAdjust=\"spacingAndGlyphs\" textLength=\"64\" x=\"350\" y=\"180.0669\">«depend»</text></a><!--MD5=[1b7591eae5389033d8d09a9d6721a717]\n",
       "link E4 to E5--><a href=\"psysml:22e4e023-3d64-4f1c-8411-ecdb932522c7\" target=\"_top\" title=\"psysml:22e4e023-3d64-4f1c-8411-ecdb932522c7\" xlink:actuate=\"onRequest\" xlink:href=\"psysml:22e4e023-3d64-4f1c-8411-ecdb932522c7\" xlink:show=\"new\" xlink:title=\"psysml:22e4e023-3d64-4f1c-8411-ecdb932522c7\" xlink:type=\"simple\"><path d=\"M349,267.12 C349,267.12 349,335.91 349,335.91 \" fill=\"none\" id=\"E4-&gt;E5\" style=\"stroke: #383838; stroke-width: 1.0; stroke-dasharray: 7.0,7.0;\"/><polygon fill=\"#383838\" points=\"349,343.91,352,335.91,346,335.91,349,343.91\" style=\"stroke: #383838; stroke-width: 1.0;\"/><text fill=\"#000000\" font-family=\"sans-serif\" font-size=\"13\" lengthAdjust=\"spacingAndGlyphs\" textLength=\"64\" x=\"350\" y=\"310.0669\">«depend»</text></a><!--MD5=[c5e8897d989ce984f93528998a7150fe]\n",
       "link E8 to E6--><a href=\"psysml:01d1ab15-dda9-4157-a585-7877f2cc1d47\" target=\"_top\" title=\"psysml:01d1ab15-dda9-4157-a585-7877f2cc1d47\" xlink:actuate=\"onRequest\" xlink:href=\"psysml:01d1ab15-dda9-4157-a585-7877f2cc1d47\" xlink:show=\"new\" xlink:title=\"psysml:01d1ab15-dda9-4157-a585-7877f2cc1d47\" xlink:type=\"simple\"><path d=\"M94,133.74 C94,133.74 94,209.46 94,209.46 \" fill=\"none\" id=\"E8-&gt;E6\" style=\"stroke: #383838; stroke-width: 1.0; stroke-dasharray: 7.0,7.0;\"/><polygon fill=\"#383838\" points=\"94,217.46,97,209.46,91,209.46,94,217.46\" style=\"stroke: #383838; stroke-width: 1.0;\"/><text fill=\"#000000\" font-family=\"sans-serif\" font-size=\"13\" lengthAdjust=\"spacingAndGlyphs\" textLength=\"64\" x=\"68\" y=\"180.0669\">«depend»</text></a><!--MD5=[bfa3c8b0d15052fdf50ae9310b491027]\n",
       "link E8 to E7--><a href=\"psysml:01d1ab15-dda9-4157-a585-7877f2cc1d47\" target=\"_top\" title=\"psysml:01d1ab15-dda9-4157-a585-7877f2cc1d47\" xlink:actuate=\"onRequest\" xlink:href=\"psysml:01d1ab15-dda9-4157-a585-7877f2cc1d47\" xlink:show=\"new\" xlink:title=\"psysml:01d1ab15-dda9-4157-a585-7877f2cc1d47\" xlink:type=\"simple\"><path d=\"M147,133.74 C147,133.74 147,209.46 147,209.46 \" fill=\"none\" id=\"E8-&gt;E7\" style=\"stroke: #383838; stroke-width: 1.0; stroke-dasharray: 7.0,7.0;\"/><polygon fill=\"#383838\" points=\"147,217.46,150,209.46,144,209.46,147,217.46\" style=\"stroke: #383838; stroke-width: 1.0;\"/><text fill=\"#000000\" font-family=\"sans-serif\" font-size=\"13\" lengthAdjust=\"spacingAndGlyphs\" textLength=\"64\" x=\"174\" y=\"180.0669\">«depend»</text></a><!--MD5=[a6a5b8b4cd04c01fe1990fed846b196a]\n",
       "@startuml\r\n",
       "skinparam linetype ortho\r\n",
       "skinparam monochrome true\r\n",
       "skinparam classbackgroundcolor white\r\n",
       "skinparam shadowing false\r\n",
       "skinparam wrapWidth 300\r\n",
       "hide circle\r\n",
       "\r\n",
       "package \"DependencyTest\" as E1  [[psysml:a0e63dae-583d-42a3-9f46-6e6177e563b1 ]]  {\r\n",
       "package \"System\" as E2  [[psysml:90630542-d1db-4cfe-a426-6fd5a6b42885 ]]  {\r\n",
       "package \"Application Layer\" as E3  [[psysml:f4739741-a5ef-49a4-9e06-4bb8a722f77e ]]  {\r\n",
       "}\r\n",
       "package \"Service Layer\" as E4  [[psysml:e1090b77-2219-4e30-afea-75b6451d3a90 ]]  {\r\n",
       "}\r\n",
       "package \"Data Layer\" as E5  [[psysml:fe465764-9ab4-44bf-be91-bd692232f0a1 ]]  {\r\n",
       "}\r\n",
       "}\r\n",
       "comp usage \"x\" as E6  <<(T,blue)attribute>> [[psysml:7440b603-2b18-4efb-9bf4-7832c56b919b ]] {\r\n",
       "}\r\n",
       "comp usage \"y\" as E7  <<(T,blue)attribute>> [[psysml:d907cb85-580b-45cd-b69d-b597f081eb5c ]] {\r\n",
       "}\r\n",
       "comp usage \"z\" as E8  <<(T,blue)attribute>> [[psysml:719c36a8-8fd6-40f5-b1aa-2a0e2714a310 ]] {\r\n",
       "}\r\n",
       "E3 ..>> E4 [[psysml:f18ad3d3-ddea-4435-b15e-701f5c4039de ]] : <<depend>>\r\n",
       "E4 ..>> E5 [[psysml:22e4e023-3d64-4f1c-8411-ecdb932522c7 ]] : <<depend>>\r\n",
       "E8 ..>> E6 [[psysml:01d1ab15-dda9-4157-a585-7877f2cc1d47 ]] : <<depend>>\r\n",
       "E8 ..>> E7 [[psysml:01d1ab15-dda9-4157-a585-7877f2cc1d47 ]] : <<depend>>\r\n",
       "}\r\n",
       "@enduml\r\n",
       "\n",
       "PlantUML version 1.2020.13(Sat Jun 13 12:26:38 UTC 2020)\n",
       "(EPL source distribution)\n",
       "Java Runtime: OpenJDK Runtime Environment\n",
       "JVM: OpenJDK 64-Bit Server VM\n",
       "Default Encoding: UTF-8\n",
       "Language: en\n",
       "Country: null\n",
       "--></g></svg>"
      ]
     },
     "execution_count": 57,
     "metadata": {},
     "output_type": "execute_result"
    }
   ],
   "source": [
    "%viz --style=\"ORTHOLINE\" --view=\"MIXED\" \"DependencyTest\""
   ]
  }
 ],
 "metadata": {
  "kernelspec": {
   "display_name": "SysML",
   "language": "sysml",
   "name": "sysml"
  },
  "language_info": {
   "codemirror_mode": "sysml",
   "file_extension": ".sysml",
   "mimetype": "text/x-sysml",
   "name": "SysML",
   "pygments_lexer": "java",
   "version": "1.0.0"
  }
 },
 "nbformat": 4,
 "nbformat_minor": 5
}
