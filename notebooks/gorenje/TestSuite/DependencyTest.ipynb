{
 "cells": [
  {
   "cell_type": "markdown",
   "id": "assumed-monaco",
   "metadata": {},
   "source": [
    "# SysML v2 Test Suite\n",
    "\n",
    "This can notebook can be cleared using menu `Edit --> Clear All Outputs` and then all cells can be\n",
    "run using menu `Run --> Run All Cells`.\n",
    "\n",
    "**WARNING**: This file is generated, all modifications here will be ignored.\n"
   ]
  },
  {
   "cell_type": "markdown",
   "id": "laden-professional",
   "metadata": {},
   "source": [
    "## File: ../../sysml/src/examples/Simple Tests/DependencyTest.sysml"
   ]
  },
  {
   "cell_type": "code",
   "execution_count": 1,
   "id": "boolean-swiss",
   "metadata": {
    "execution": {
     "iopub.execute_input": "2021-03-25T13:26:13.153301Z",
     "iopub.status.busy": "2021-03-25T13:26:13.151835Z",
     "iopub.status.idle": "2021-03-25T13:26:13.230225Z",
     "shell.execute_reply": "2021-03-25T13:26:13.229646Z"
    }
   },
   "outputs": [
    {
     "data": {
      "text/plain": [
       "Package DependencyTest (79fec1ca-015c-4c17-926a-66c6fa9cdcb6)\n"
      ]
     },
     "execution_count": 1,
     "metadata": {},
     "output_type": "execute_result"
    }
   ],
   "source": [
    "package DependencyTest {\n",
    "\t\n",
    "\tpackage System {\n",
    "\t\tpackage 'Application Layer';\n",
    "\t\tpackage 'Service Layer';\n",
    "\t\tpackage 'Data Layer';\n",
    "\t}\n",
    "\t\n",
    "\timport System::*;\n",
    "\t\n",
    "\tdependency Use from 'Application Layer' to 'Service Layer';\n",
    "\tdependency from 'Service Layer' to 'Data Layer';\n",
    "\t\n",
    "\tattribute x;\n",
    "\tattribute y;\n",
    "\tattribute z;\n",
    "\t\n",
    "\tdependency z to x, y;\n",
    "\t\n",
    "}"
   ]
  },
  {
   "cell_type": "code",
   "execution_count": 2,
   "id": "consolidated-summit",
   "metadata": {
    "execution": {
     "iopub.execute_input": "2021-03-25T13:26:13.284410Z",
     "iopub.status.busy": "2021-03-25T13:26:13.283468Z",
     "iopub.status.idle": "2021-03-25T13:26:14.063884Z",
     "shell.execute_reply": "2021-03-25T13:26:14.064319Z"
    }
   },
   "outputs": [
    {
     "data": {
      "image/svg+xml": [
       "<?xml version=\"1.0\" encoding=\"UTF-8\" standalone=\"no\"?><svg xmlns=\"http://www.w3.org/2000/svg\" xmlns:xlink=\"http://www.w3.org/1999/xlink\" contentScriptType=\"application/ecmascript\" contentStyleType=\"text/css\" height=\"449px\" preserveAspectRatio=\"none\" style=\"width:489px;height:449px;\" version=\"1.1\" viewBox=\"0 0 489 449\" width=\"489px\" zoomAndPan=\"magnify\"><defs/><g><!--MD5=[fbc87193dbaf4d95561dea2c320d4a47]\n",
       "cluster E1--><a href=\"psysml:438e34af-3ce5-4e99-acf4-d3ecd205ea23\" target=\"_top\" title=\"psysml:438e34af-3ce5-4e99-acf4-d3ecd205ea23\" xlink:actuate=\"onRequest\" xlink:href=\"psysml:438e34af-3ce5-4e99-acf4-d3ecd205ea23\" xlink:show=\"new\" xlink:title=\"psysml:438e34af-3ce5-4e99-acf4-d3ecd205ea23\" xlink:type=\"simple\"><polygon fill=\"#FFFFFF\" points=\"16,6,156,6,163,28.2969,467,28.2969,467,437,16,437,16,6\" style=\"stroke: #000000; stroke-width: 1.5;\"/><line style=\"stroke: #000000; stroke-width: 1.5;\" x1=\"16\" x2=\"163\" y1=\"28.2969\" y2=\"28.2969\"/><text fill=\"#000000\" font-family=\"sans-serif\" font-size=\"14\" font-weight=\"bold\" lengthAdjust=\"spacingAndGlyphs\" textLength=\"134\" x=\"20\" y=\"20.9951\">DependencyTest</text></a><!--MD5=[e4f7fae6ed58524ba242bb0b0d3be6b7]\n",
       "cluster E2--><a href=\"psysml:33a226aa-95cf-4670-96e1-1bd6e94f796f\" target=\"_top\" title=\"psysml:33a226aa-95cf-4670-96e1-1bd6e94f796f\" xlink:actuate=\"onRequest\" xlink:href=\"psysml:33a226aa-95cf-4670-96e1-1bd6e94f796f\" xlink:show=\"new\" xlink:title=\"psysml:33a226aa-95cf-4670-96e1-1bd6e94f796f\" xlink:type=\"simple\"><polygon fill=\"#FFFFFF\" points=\"255,49,319,49,326,71.2969,443,71.2969,443,413,255,413,255,49\" style=\"stroke: #000000; stroke-width: 1.5;\"/><line style=\"stroke: #000000; stroke-width: 1.5;\" x1=\"255\" x2=\"326\" y1=\"71.2969\" y2=\"71.2969\"/><text fill=\"#000000\" font-family=\"sans-serif\" font-size=\"14\" font-weight=\"bold\" lengthAdjust=\"spacingAndGlyphs\" textLength=\"58\" x=\"259\" y=\"63.9951\">System</text></a><!--MD5=[60a26617385b1d2d0262a64233df1f8d]\n",
       "class E6--><a href=\"psysml:747ec202-6e4c-456d-855d-21470db0b7f2\" target=\"_top\" title=\"psysml:747ec202-6e4c-456d-855d-21470db0b7f2\" xlink:actuate=\"onRequest\" xlink:href=\"psysml:747ec202-6e4c-456d-855d-21470db0b7f2\" xlink:show=\"new\" xlink:title=\"psysml:747ec202-6e4c-456d-855d-21470db0b7f2\" xlink:type=\"simple\"><rect fill=\"#FFFFFF\" height=\"45.9375\" id=\"E6\" rx=\"10\" ry=\"10\" style=\"stroke: #383838; stroke-width: 1.5;\" width=\"71\" x=\"32.5\" y=\"217.5\"/><text fill=\"#000000\" font-family=\"sans-serif\" font-size=\"12\" font-style=\"italic\" lengthAdjust=\"spacingAndGlyphs\" textLength=\"69\" x=\"33.5\" y=\"233.6387\">«attribute»</text><text fill=\"#000000\" font-family=\"sans-serif\" font-size=\"12\" lengthAdjust=\"spacingAndGlyphs\" textLength=\"6\" x=\"65\" y=\"247.6074\">x</text><line style=\"stroke: #383838; stroke-width: 1.5;\" x1=\"33.5\" x2=\"102.5\" y1=\"255.4375\" y2=\"255.4375\"/></a><!--MD5=[2156ba9850f5573cc1fc38a6a4b2f02b]\n",
       "class E7--><a href=\"psysml:aee293b7-b915-4f4d-bf33-13d7af80ad07\" target=\"_top\" title=\"psysml:aee293b7-b915-4f4d-bf33-13d7af80ad07\" xlink:actuate=\"onRequest\" xlink:href=\"psysml:aee293b7-b915-4f4d-bf33-13d7af80ad07\" xlink:show=\"new\" xlink:title=\"psysml:aee293b7-b915-4f4d-bf33-13d7af80ad07\" xlink:type=\"simple\"><rect fill=\"#FFFFFF\" height=\"45.9375\" id=\"E7\" rx=\"10\" ry=\"10\" style=\"stroke: #383838; stroke-width: 1.5;\" width=\"71\" x=\"138.5\" y=\"217.5\"/><text fill=\"#000000\" font-family=\"sans-serif\" font-size=\"12\" font-style=\"italic\" lengthAdjust=\"spacingAndGlyphs\" textLength=\"69\" x=\"139.5\" y=\"233.6387\">«attribute»</text><text fill=\"#000000\" font-family=\"sans-serif\" font-size=\"12\" lengthAdjust=\"spacingAndGlyphs\" textLength=\"6\" x=\"171\" y=\"247.6074\">y</text><line style=\"stroke: #383838; stroke-width: 1.5;\" x1=\"139.5\" x2=\"208.5\" y1=\"255.4375\" y2=\"255.4375\"/></a><!--MD5=[b9389687b975829384b498ac4b7476b2]\n",
       "class E8--><a href=\"psysml:1c42907e-9ca4-4468-bbbb-1ea70701dab3\" target=\"_top\" title=\"psysml:1c42907e-9ca4-4468-bbbb-1ea70701dab3\" xlink:actuate=\"onRequest\" xlink:href=\"psysml:1c42907e-9ca4-4468-bbbb-1ea70701dab3\" xlink:show=\"new\" xlink:title=\"psysml:1c42907e-9ca4-4468-bbbb-1ea70701dab3\" xlink:type=\"simple\"><rect fill=\"#FFFFFF\" height=\"45.9375\" id=\"E8\" rx=\"10\" ry=\"10\" style=\"stroke: #383838; stroke-width: 1.5;\" width=\"71\" x=\"84.5\" y=\"87.5\"/><text fill=\"#000000\" font-family=\"sans-serif\" font-size=\"12\" font-style=\"italic\" lengthAdjust=\"spacingAndGlyphs\" textLength=\"69\" x=\"85.5\" y=\"103.6387\">«attribute»</text><text fill=\"#000000\" font-family=\"sans-serif\" font-size=\"12\" lengthAdjust=\"spacingAndGlyphs\" textLength=\"5\" x=\"117.5\" y=\"117.6074\">z</text><line style=\"stroke: #383838; stroke-width: 1.5;\" x1=\"85.5\" x2=\"154.5\" y1=\"125.4375\" y2=\"125.4375\"/></a><a href=\"psysml:add81eb6-248c-4298-8987-63cd174f8097\" target=\"_top\" title=\"psysml:add81eb6-248c-4298-8987-63cd174f8097\" xlink:actuate=\"onRequest\" xlink:href=\"psysml:add81eb6-248c-4298-8987-63cd174f8097\" xlink:show=\"new\" xlink:title=\"psysml:add81eb6-248c-4298-8987-63cd174f8097\" xlink:type=\"simple\"><polygon fill=\"#FFFFFF\" points=\"271,84,413,84,420,106.2969,427,106.2969,427,136.5938,271,136.5938,271,84\" style=\"stroke: #000000; stroke-width: 1.5;\"/><line style=\"stroke: #000000; stroke-width: 1.5;\" x1=\"271\" x2=\"420\" y1=\"106.2969\" y2=\"106.2969\"/><text fill=\"#000000\" font-family=\"sans-serif\" font-size=\"14\" font-weight=\"bold\" lengthAdjust=\"spacingAndGlyphs\" textLength=\"136\" x=\"275\" y=\"98.9951\">Application Layer</text></a><a href=\"psysml:95ba016d-ba70-4f40-a2b0-65410d9cce5b\" target=\"_top\" title=\"psysml:95ba016d-ba70-4f40-a2b0-65410d9cce5b\" xlink:actuate=\"onRequest\" xlink:href=\"psysml:95ba016d-ba70-4f40-a2b0-65410d9cce5b\" xlink:show=\"new\" xlink:title=\"psysml:95ba016d-ba70-4f40-a2b0-65410d9cce5b\" xlink:type=\"simple\"><polygon fill=\"#FFFFFF\" points=\"285,214,399,214,406,236.2969,413,236.2969,413,266.5938,285,266.5938,285,214\" style=\"stroke: #000000; stroke-width: 1.5;\"/><line style=\"stroke: #000000; stroke-width: 1.5;\" x1=\"285\" x2=\"406\" y1=\"236.2969\" y2=\"236.2969\"/><text fill=\"#000000\" font-family=\"sans-serif\" font-size=\"14\" font-weight=\"bold\" lengthAdjust=\"spacingAndGlyphs\" textLength=\"108\" x=\"289\" y=\"228.9951\">Service Layer</text></a><a href=\"psysml:ae80162e-06ca-4b24-a1f3-10c5d346ebc4\" target=\"_top\" title=\"psysml:ae80162e-06ca-4b24-a1f3-10c5d346ebc4\" xlink:actuate=\"onRequest\" xlink:href=\"psysml:ae80162e-06ca-4b24-a1f3-10c5d346ebc4\" xlink:show=\"new\" xlink:title=\"psysml:ae80162e-06ca-4b24-a1f3-10c5d346ebc4\" xlink:type=\"simple\"><polygon fill=\"#FFFFFF\" points=\"297,344,387,344,394,366.2969,401,366.2969,401,396.5938,297,396.5938,297,344\" style=\"stroke: #000000; stroke-width: 1.5;\"/><line style=\"stroke: #000000; stroke-width: 1.5;\" x1=\"297\" x2=\"394\" y1=\"366.2969\" y2=\"366.2969\"/><text fill=\"#000000\" font-family=\"sans-serif\" font-size=\"14\" font-weight=\"bold\" lengthAdjust=\"spacingAndGlyphs\" textLength=\"84\" x=\"301\" y=\"358.9951\">Data Layer</text></a><!--MD5=[af87c684e3b0d8be13c1a698a818ef1e]\n",
       "link E3 to E4--><a href=\"psysml:4c7b915e-320e-40c7-9399-584f1f84a9d7\" target=\"_top\" title=\"psysml:4c7b915e-320e-40c7-9399-584f1f84a9d7\" xlink:actuate=\"onRequest\" xlink:href=\"psysml:4c7b915e-320e-40c7-9399-584f1f84a9d7\" xlink:show=\"new\" xlink:title=\"psysml:4c7b915e-320e-40c7-9399-584f1f84a9d7\" xlink:type=\"simple\"><path d=\"M349,137.1 C349,156.8 349,184.22 349,205.73 \" fill=\"none\" id=\"E3-&gt;E4\" style=\"stroke: #383838; stroke-width: 1.0; stroke-dasharray: 7.0,7.0;\"/><polygon fill=\"#383838\" points=\"349,213.95,352,205.95,346,205.95,349,213.95\" style=\"stroke: #383838; stroke-width: 1.0;\"/><text fill=\"#000000\" font-family=\"sans-serif\" font-size=\"13\" lengthAdjust=\"spacingAndGlyphs\" textLength=\"64\" x=\"350\" y=\"180.0669\">«depend»</text></a><!--MD5=[1b7591eae5389033d8d09a9d6721a717]\n",
       "link E4 to E5--><a href=\"psysml:9be59ee3-60f5-4004-bc3e-00c0f7693956\" target=\"_top\" title=\"psysml:9be59ee3-60f5-4004-bc3e-00c0f7693956\" xlink:actuate=\"onRequest\" xlink:href=\"psysml:9be59ee3-60f5-4004-bc3e-00c0f7693956\" xlink:show=\"new\" xlink:title=\"psysml:9be59ee3-60f5-4004-bc3e-00c0f7693956\" xlink:type=\"simple\"><path d=\"M349,267.1 C349,286.8 349,314.22 349,335.73 \" fill=\"none\" id=\"E4-&gt;E5\" style=\"stroke: #383838; stroke-width: 1.0; stroke-dasharray: 7.0,7.0;\"/><polygon fill=\"#383838\" points=\"349,343.95,352,335.95,346,335.95,349,343.95\" style=\"stroke: #383838; stroke-width: 1.0;\"/><text fill=\"#000000\" font-family=\"sans-serif\" font-size=\"13\" lengthAdjust=\"spacingAndGlyphs\" textLength=\"64\" x=\"350\" y=\"310.0669\">«depend»</text></a><!--MD5=[c5e8897d989ce984f93528998a7150fe]\n",
       "link E8 to E6--><a href=\"psysml:80784242-98cb-449c-a51f-f2c7c1061d87\" target=\"_top\" title=\"psysml:80784242-98cb-449c-a51f-f2c7c1061d87\" xlink:actuate=\"onRequest\" xlink:href=\"psysml:80784242-98cb-449c-a51f-f2c7c1061d87\" xlink:show=\"new\" xlink:title=\"psysml:80784242-98cb-449c-a51f-f2c7c1061d87\" xlink:type=\"simple\"><path d=\"M89.42,133.6 C79.35,142.68 69.37,154.11 64,167 C58.5,180.2 58.66,195.94 60.54,209.38 \" fill=\"none\" id=\"E8-&gt;E6\" style=\"stroke: #383838; stroke-width: 1.0; stroke-dasharray: 7.0,7.0;\"/><polygon fill=\"#383838\" points=\"61.9,217.4,63.517,209.0104,57.6018,210.0159,61.9,217.4\" style=\"stroke: #383838; stroke-width: 1.0;\"/><text fill=\"#000000\" font-family=\"sans-serif\" font-size=\"13\" lengthAdjust=\"spacingAndGlyphs\" textLength=\"64\" x=\"65\" y=\"180.0669\">«depend»</text></a><!--MD5=[bfa3c8b0d15052fdf50ae9310b491027]\n",
       "link E8 to E7--><a href=\"psysml:80784242-98cb-449c-a51f-f2c7c1061d87\" target=\"_top\" title=\"psysml:80784242-98cb-449c-a51f-f2c7c1061d87\" xlink:actuate=\"onRequest\" xlink:href=\"psysml:80784242-98cb-449c-a51f-f2c7c1061d87\" xlink:show=\"new\" xlink:title=\"psysml:80784242-98cb-449c-a51f-f2c7c1061d87\" xlink:type=\"simple\"><path d=\"M129.28,133.5 C138.17,154.57 151.64,186.5 161.47,209.81 \" fill=\"none\" id=\"E8-&gt;E7\" style=\"stroke: #383838; stroke-width: 1.0; stroke-dasharray: 7.0,7.0;\"/><polygon fill=\"#383838\" points=\"164.66,217.35,164.3241,208.8126,158.7933,211.1385,164.66,217.35\" style=\"stroke: #383838; stroke-width: 1.0;\"/><text fill=\"#000000\" font-family=\"sans-serif\" font-size=\"13\" lengthAdjust=\"spacingAndGlyphs\" textLength=\"64\" x=\"151\" y=\"180.0669\">«depend»</text></a><!--MD5=[b3ae4539abd6fb10195ec82124aaf5ed]\n",
       "@startuml\r\n",
       " skinparam monochrome true\r\n",
       "skinparam classbackgroundcolor white\r\n",
       "skinparam shadowing false\r\n",
       "skinparam wrapWidth 300\r\n",
       "hide circle\r\n",
       "\r\n",
       "package \"DependencyTest\" as E1  [[psysml:438e34af-3ce5-4e99-acf4-d3ecd205ea23 ]]  {\r\n",
       "package \"System\" as E2  [[psysml:33a226aa-95cf-4670-96e1-1bd6e94f796f ]]  {\r\n",
       "package \"Application Layer\" as E3  [[psysml:add81eb6-248c-4298-8987-63cd174f8097 ]]  {\r\n",
       "}\r\n",
       "package \"Service Layer\" as E4  [[psysml:95ba016d-ba70-4f40-a2b0-65410d9cce5b ]]  {\r\n",
       "}\r\n",
       "package \"Data Layer\" as E5  [[psysml:ae80162e-06ca-4b24-a1f3-10c5d346ebc4 ]]  {\r\n",
       "}\r\n",
       "}\r\n",
       "comp usage \"x\" as E6  <<(T,blue)attribute>> [[psysml:747ec202-6e4c-456d-855d-21470db0b7f2 ]] {\r\n",
       "}\r\n",
       "comp usage \"y\" as E7  <<(T,blue)attribute>> [[psysml:aee293b7-b915-4f4d-bf33-13d7af80ad07 ]] {\r\n",
       "}\r\n",
       "comp usage \"z\" as E8  <<(T,blue)attribute>> [[psysml:1c42907e-9ca4-4468-bbbb-1ea70701dab3 ]] {\r\n",
       "}\r\n",
       "E3 ..>> E4 [[psysml:4c7b915e-320e-40c7-9399-584f1f84a9d7 ]] : <<depend>>\r\n",
       "E4 ..>> E5 [[psysml:9be59ee3-60f5-4004-bc3e-00c0f7693956 ]] : <<depend>>\r\n",
       "E8 ..>> E6 [[psysml:80784242-98cb-449c-a51f-f2c7c1061d87 ]] : <<depend>>\r\n",
       "E8 ..>> E7 [[psysml:80784242-98cb-449c-a51f-f2c7c1061d87 ]] : <<depend>>\r\n",
       "}\r\n",
       "@enduml\r\n",
       "\n",
       "PlantUML version 1.2020.13(Sat Jun 13 12:26:38 UTC 2020)\n",
       "(EPL source distribution)\n",
       "Java Runtime: OpenJDK Runtime Environment\n",
       "JVM: OpenJDK 64-Bit Server VM\n",
       "Default Encoding: UTF-8\n",
       "Language: en\n",
       "Country: null\n",
       "--></g></svg>"
      ]
     },
     "execution_count": 2,
     "metadata": {},
     "output_type": "execute_result"
    }
   ],
   "source": [
    "%viz --style=\"COMPTREE\" --view=\"Default\" \"DependencyTest\""
   ]
  },
  {
   "cell_type": "code",
   "execution_count": 3,
   "id": "activated-convergence",
   "metadata": {
    "execution": {
     "iopub.execute_input": "2021-03-25T13:26:14.114939Z",
     "iopub.status.busy": "2021-03-25T13:26:14.114258Z",
     "iopub.status.idle": "2021-03-25T13:26:14.250925Z",
     "shell.execute_reply": "2021-03-25T13:26:14.251395Z"
    }
   },
   "outputs": [
    {
     "data": {
      "image/svg+xml": [
       "<?xml version=\"1.0\" encoding=\"UTF-8\" standalone=\"no\"?><svg xmlns=\"http://www.w3.org/2000/svg\" xmlns:xlink=\"http://www.w3.org/1999/xlink\" contentScriptType=\"application/ecmascript\" contentStyleType=\"text/css\" height=\"449px\" preserveAspectRatio=\"none\" style=\"width:489px;height:449px;\" version=\"1.1\" viewBox=\"0 0 489 449\" width=\"489px\" zoomAndPan=\"magnify\"><defs/><g><!--MD5=[fbc87193dbaf4d95561dea2c320d4a47]\n",
       "cluster E1--><a href=\"psysml:438e34af-3ce5-4e99-acf4-d3ecd205ea23\" target=\"_top\" title=\"psysml:438e34af-3ce5-4e99-acf4-d3ecd205ea23\" xlink:actuate=\"onRequest\" xlink:href=\"psysml:438e34af-3ce5-4e99-acf4-d3ecd205ea23\" xlink:show=\"new\" xlink:title=\"psysml:438e34af-3ce5-4e99-acf4-d3ecd205ea23\" xlink:type=\"simple\"><polygon fill=\"#FFFFFF\" points=\"16,6,156,6,163,28.2969,467,28.2969,467,437,16,437,16,6\" style=\"stroke: #000000; stroke-width: 1.5;\"/><line style=\"stroke: #000000; stroke-width: 1.5;\" x1=\"16\" x2=\"163\" y1=\"28.2969\" y2=\"28.2969\"/><text fill=\"#000000\" font-family=\"sans-serif\" font-size=\"14\" font-weight=\"bold\" lengthAdjust=\"spacingAndGlyphs\" textLength=\"134\" x=\"20\" y=\"20.9951\">DependencyTest</text></a><!--MD5=[e4f7fae6ed58524ba242bb0b0d3be6b7]\n",
       "cluster E2--><a href=\"psysml:33a226aa-95cf-4670-96e1-1bd6e94f796f\" target=\"_top\" title=\"psysml:33a226aa-95cf-4670-96e1-1bd6e94f796f\" xlink:actuate=\"onRequest\" xlink:href=\"psysml:33a226aa-95cf-4670-96e1-1bd6e94f796f\" xlink:show=\"new\" xlink:title=\"psysml:33a226aa-95cf-4670-96e1-1bd6e94f796f\" xlink:type=\"simple\"><polygon fill=\"#FFFFFF\" points=\"255,49,319,49,326,71.2969,443,71.2969,443,413,255,413,255,49\" style=\"stroke: #000000; stroke-width: 1.5;\"/><line style=\"stroke: #000000; stroke-width: 1.5;\" x1=\"255\" x2=\"326\" y1=\"71.2969\" y2=\"71.2969\"/><text fill=\"#000000\" font-family=\"sans-serif\" font-size=\"14\" font-weight=\"bold\" lengthAdjust=\"spacingAndGlyphs\" textLength=\"58\" x=\"259\" y=\"63.9951\">System</text></a><!--MD5=[60a26617385b1d2d0262a64233df1f8d]\n",
       "class E6--><a href=\"psysml:747ec202-6e4c-456d-855d-21470db0b7f2\" target=\"_top\" title=\"psysml:747ec202-6e4c-456d-855d-21470db0b7f2\" xlink:actuate=\"onRequest\" xlink:href=\"psysml:747ec202-6e4c-456d-855d-21470db0b7f2\" xlink:show=\"new\" xlink:title=\"psysml:747ec202-6e4c-456d-855d-21470db0b7f2\" xlink:type=\"simple\"><rect fill=\"#FFFFFF\" height=\"45.9375\" id=\"E6\" rx=\"10\" ry=\"10\" style=\"stroke: #383838; stroke-width: 1.5;\" width=\"71\" x=\"32.5\" y=\"217.5\"/><text fill=\"#000000\" font-family=\"sans-serif\" font-size=\"12\" font-style=\"italic\" lengthAdjust=\"spacingAndGlyphs\" textLength=\"69\" x=\"33.5\" y=\"233.6387\">«attribute»</text><text fill=\"#000000\" font-family=\"sans-serif\" font-size=\"12\" lengthAdjust=\"spacingAndGlyphs\" textLength=\"6\" x=\"65\" y=\"247.6074\">x</text><line style=\"stroke: #383838; stroke-width: 1.5;\" x1=\"33.5\" x2=\"102.5\" y1=\"255.4375\" y2=\"255.4375\"/></a><!--MD5=[2156ba9850f5573cc1fc38a6a4b2f02b]\n",
       "class E7--><a href=\"psysml:aee293b7-b915-4f4d-bf33-13d7af80ad07\" target=\"_top\" title=\"psysml:aee293b7-b915-4f4d-bf33-13d7af80ad07\" xlink:actuate=\"onRequest\" xlink:href=\"psysml:aee293b7-b915-4f4d-bf33-13d7af80ad07\" xlink:show=\"new\" xlink:title=\"psysml:aee293b7-b915-4f4d-bf33-13d7af80ad07\" xlink:type=\"simple\"><rect fill=\"#FFFFFF\" height=\"45.9375\" id=\"E7\" rx=\"10\" ry=\"10\" style=\"stroke: #383838; stroke-width: 1.5;\" width=\"71\" x=\"138.5\" y=\"217.5\"/><text fill=\"#000000\" font-family=\"sans-serif\" font-size=\"12\" font-style=\"italic\" lengthAdjust=\"spacingAndGlyphs\" textLength=\"69\" x=\"139.5\" y=\"233.6387\">«attribute»</text><text fill=\"#000000\" font-family=\"sans-serif\" font-size=\"12\" lengthAdjust=\"spacingAndGlyphs\" textLength=\"6\" x=\"171\" y=\"247.6074\">y</text><line style=\"stroke: #383838; stroke-width: 1.5;\" x1=\"139.5\" x2=\"208.5\" y1=\"255.4375\" y2=\"255.4375\"/></a><!--MD5=[b9389687b975829384b498ac4b7476b2]\n",
       "class E8--><a href=\"psysml:1c42907e-9ca4-4468-bbbb-1ea70701dab3\" target=\"_top\" title=\"psysml:1c42907e-9ca4-4468-bbbb-1ea70701dab3\" xlink:actuate=\"onRequest\" xlink:href=\"psysml:1c42907e-9ca4-4468-bbbb-1ea70701dab3\" xlink:show=\"new\" xlink:title=\"psysml:1c42907e-9ca4-4468-bbbb-1ea70701dab3\" xlink:type=\"simple\"><rect fill=\"#FFFFFF\" height=\"45.9375\" id=\"E8\" rx=\"10\" ry=\"10\" style=\"stroke: #383838; stroke-width: 1.5;\" width=\"71\" x=\"84.5\" y=\"87.5\"/><text fill=\"#000000\" font-family=\"sans-serif\" font-size=\"12\" font-style=\"italic\" lengthAdjust=\"spacingAndGlyphs\" textLength=\"69\" x=\"85.5\" y=\"103.6387\">«attribute»</text><text fill=\"#000000\" font-family=\"sans-serif\" font-size=\"12\" lengthAdjust=\"spacingAndGlyphs\" textLength=\"5\" x=\"117.5\" y=\"117.6074\">z</text><line style=\"stroke: #383838; stroke-width: 1.5;\" x1=\"85.5\" x2=\"154.5\" y1=\"125.4375\" y2=\"125.4375\"/></a><a href=\"psysml:add81eb6-248c-4298-8987-63cd174f8097\" target=\"_top\" title=\"psysml:add81eb6-248c-4298-8987-63cd174f8097\" xlink:actuate=\"onRequest\" xlink:href=\"psysml:add81eb6-248c-4298-8987-63cd174f8097\" xlink:show=\"new\" xlink:title=\"psysml:add81eb6-248c-4298-8987-63cd174f8097\" xlink:type=\"simple\"><polygon fill=\"#FFFFFF\" points=\"271,84,413,84,420,106.2969,427,106.2969,427,136.5938,271,136.5938,271,84\" style=\"stroke: #000000; stroke-width: 1.5;\"/><line style=\"stroke: #000000; stroke-width: 1.5;\" x1=\"271\" x2=\"420\" y1=\"106.2969\" y2=\"106.2969\"/><text fill=\"#000000\" font-family=\"sans-serif\" font-size=\"14\" font-weight=\"bold\" lengthAdjust=\"spacingAndGlyphs\" textLength=\"136\" x=\"275\" y=\"98.9951\">Application Layer</text></a><a href=\"psysml:95ba016d-ba70-4f40-a2b0-65410d9cce5b\" target=\"_top\" title=\"psysml:95ba016d-ba70-4f40-a2b0-65410d9cce5b\" xlink:actuate=\"onRequest\" xlink:href=\"psysml:95ba016d-ba70-4f40-a2b0-65410d9cce5b\" xlink:show=\"new\" xlink:title=\"psysml:95ba016d-ba70-4f40-a2b0-65410d9cce5b\" xlink:type=\"simple\"><polygon fill=\"#FFFFFF\" points=\"285,214,399,214,406,236.2969,413,236.2969,413,266.5938,285,266.5938,285,214\" style=\"stroke: #000000; stroke-width: 1.5;\"/><line style=\"stroke: #000000; stroke-width: 1.5;\" x1=\"285\" x2=\"406\" y1=\"236.2969\" y2=\"236.2969\"/><text fill=\"#000000\" font-family=\"sans-serif\" font-size=\"14\" font-weight=\"bold\" lengthAdjust=\"spacingAndGlyphs\" textLength=\"108\" x=\"289\" y=\"228.9951\">Service Layer</text></a><a href=\"psysml:ae80162e-06ca-4b24-a1f3-10c5d346ebc4\" target=\"_top\" title=\"psysml:ae80162e-06ca-4b24-a1f3-10c5d346ebc4\" xlink:actuate=\"onRequest\" xlink:href=\"psysml:ae80162e-06ca-4b24-a1f3-10c5d346ebc4\" xlink:show=\"new\" xlink:title=\"psysml:ae80162e-06ca-4b24-a1f3-10c5d346ebc4\" xlink:type=\"simple\"><polygon fill=\"#FFFFFF\" points=\"297,344,387,344,394,366.2969,401,366.2969,401,396.5938,297,396.5938,297,344\" style=\"stroke: #000000; stroke-width: 1.5;\"/><line style=\"stroke: #000000; stroke-width: 1.5;\" x1=\"297\" x2=\"394\" y1=\"366.2969\" y2=\"366.2969\"/><text fill=\"#000000\" font-family=\"sans-serif\" font-size=\"14\" font-weight=\"bold\" lengthAdjust=\"spacingAndGlyphs\" textLength=\"84\" x=\"301\" y=\"358.9951\">Data Layer</text></a><!--MD5=[af87c684e3b0d8be13c1a698a818ef1e]\n",
       "link E3 to E4--><a href=\"psysml:4c7b915e-320e-40c7-9399-584f1f84a9d7\" target=\"_top\" title=\"psysml:4c7b915e-320e-40c7-9399-584f1f84a9d7\" xlink:actuate=\"onRequest\" xlink:href=\"psysml:4c7b915e-320e-40c7-9399-584f1f84a9d7\" xlink:show=\"new\" xlink:title=\"psysml:4c7b915e-320e-40c7-9399-584f1f84a9d7\" xlink:type=\"simple\"><path d=\"M349,137.1 C349,156.8 349,184.22 349,205.73 \" fill=\"none\" id=\"E3-&gt;E4\" style=\"stroke: #383838; stroke-width: 1.0; stroke-dasharray: 7.0,7.0;\"/><polygon fill=\"#383838\" points=\"349,213.95,352,205.95,346,205.95,349,213.95\" style=\"stroke: #383838; stroke-width: 1.0;\"/><text fill=\"#000000\" font-family=\"sans-serif\" font-size=\"13\" lengthAdjust=\"spacingAndGlyphs\" textLength=\"64\" x=\"350\" y=\"180.0669\">«depend»</text></a><!--MD5=[1b7591eae5389033d8d09a9d6721a717]\n",
       "link E4 to E5--><a href=\"psysml:9be59ee3-60f5-4004-bc3e-00c0f7693956\" target=\"_top\" title=\"psysml:9be59ee3-60f5-4004-bc3e-00c0f7693956\" xlink:actuate=\"onRequest\" xlink:href=\"psysml:9be59ee3-60f5-4004-bc3e-00c0f7693956\" xlink:show=\"new\" xlink:title=\"psysml:9be59ee3-60f5-4004-bc3e-00c0f7693956\" xlink:type=\"simple\"><path d=\"M349,267.1 C349,286.8 349,314.22 349,335.73 \" fill=\"none\" id=\"E4-&gt;E5\" style=\"stroke: #383838; stroke-width: 1.0; stroke-dasharray: 7.0,7.0;\"/><polygon fill=\"#383838\" points=\"349,343.95,352,335.95,346,335.95,349,343.95\" style=\"stroke: #383838; stroke-width: 1.0;\"/><text fill=\"#000000\" font-family=\"sans-serif\" font-size=\"13\" lengthAdjust=\"spacingAndGlyphs\" textLength=\"64\" x=\"350\" y=\"310.0669\">«depend»</text></a><!--MD5=[c5e8897d989ce984f93528998a7150fe]\n",
       "link E8 to E6--><a href=\"psysml:80784242-98cb-449c-a51f-f2c7c1061d87\" target=\"_top\" title=\"psysml:80784242-98cb-449c-a51f-f2c7c1061d87\" xlink:actuate=\"onRequest\" xlink:href=\"psysml:80784242-98cb-449c-a51f-f2c7c1061d87\" xlink:show=\"new\" xlink:title=\"psysml:80784242-98cb-449c-a51f-f2c7c1061d87\" xlink:type=\"simple\"><path d=\"M89.42,133.6 C79.35,142.68 69.37,154.11 64,167 C58.5,180.2 58.66,195.94 60.54,209.38 \" fill=\"none\" id=\"E8-&gt;E6\" style=\"stroke: #383838; stroke-width: 1.0; stroke-dasharray: 7.0,7.0;\"/><polygon fill=\"#383838\" points=\"61.9,217.4,63.517,209.0104,57.6018,210.0159,61.9,217.4\" style=\"stroke: #383838; stroke-width: 1.0;\"/><text fill=\"#000000\" font-family=\"sans-serif\" font-size=\"13\" lengthAdjust=\"spacingAndGlyphs\" textLength=\"64\" x=\"65\" y=\"180.0669\">«depend»</text></a><!--MD5=[bfa3c8b0d15052fdf50ae9310b491027]\n",
       "link E8 to E7--><a href=\"psysml:80784242-98cb-449c-a51f-f2c7c1061d87\" target=\"_top\" title=\"psysml:80784242-98cb-449c-a51f-f2c7c1061d87\" xlink:actuate=\"onRequest\" xlink:href=\"psysml:80784242-98cb-449c-a51f-f2c7c1061d87\" xlink:show=\"new\" xlink:title=\"psysml:80784242-98cb-449c-a51f-f2c7c1061d87\" xlink:type=\"simple\"><path d=\"M129.28,133.5 C138.17,154.57 151.64,186.5 161.47,209.81 \" fill=\"none\" id=\"E8-&gt;E7\" style=\"stroke: #383838; stroke-width: 1.0; stroke-dasharray: 7.0,7.0;\"/><polygon fill=\"#383838\" points=\"164.66,217.35,164.3241,208.8126,158.7933,211.1385,164.66,217.35\" style=\"stroke: #383838; stroke-width: 1.0;\"/><text fill=\"#000000\" font-family=\"sans-serif\" font-size=\"13\" lengthAdjust=\"spacingAndGlyphs\" textLength=\"64\" x=\"151\" y=\"180.0669\">«depend»</text></a><!--MD5=[b3ae4539abd6fb10195ec82124aaf5ed]\n",
       "@startuml\r\n",
       " skinparam monochrome true\r\n",
       "skinparam classbackgroundcolor white\r\n",
       "skinparam shadowing false\r\n",
       "skinparam wrapWidth 300\r\n",
       "hide circle\r\n",
       "\r\n",
       "package \"DependencyTest\" as E1  [[psysml:438e34af-3ce5-4e99-acf4-d3ecd205ea23 ]]  {\r\n",
       "package \"System\" as E2  [[psysml:33a226aa-95cf-4670-96e1-1bd6e94f796f ]]  {\r\n",
       "package \"Application Layer\" as E3  [[psysml:add81eb6-248c-4298-8987-63cd174f8097 ]]  {\r\n",
       "}\r\n",
       "package \"Service Layer\" as E4  [[psysml:95ba016d-ba70-4f40-a2b0-65410d9cce5b ]]  {\r\n",
       "}\r\n",
       "package \"Data Layer\" as E5  [[psysml:ae80162e-06ca-4b24-a1f3-10c5d346ebc4 ]]  {\r\n",
       "}\r\n",
       "}\r\n",
       "comp usage \"x\" as E6  <<(T,blue)attribute>> [[psysml:747ec202-6e4c-456d-855d-21470db0b7f2 ]] {\r\n",
       "}\r\n",
       "comp usage \"y\" as E7  <<(T,blue)attribute>> [[psysml:aee293b7-b915-4f4d-bf33-13d7af80ad07 ]] {\r\n",
       "}\r\n",
       "comp usage \"z\" as E8  <<(T,blue)attribute>> [[psysml:1c42907e-9ca4-4468-bbbb-1ea70701dab3 ]] {\r\n",
       "}\r\n",
       "E3 ..>> E4 [[psysml:4c7b915e-320e-40c7-9399-584f1f84a9d7 ]] : <<depend>>\r\n",
       "E4 ..>> E5 [[psysml:9be59ee3-60f5-4004-bc3e-00c0f7693956 ]] : <<depend>>\r\n",
       "E8 ..>> E6 [[psysml:80784242-98cb-449c-a51f-f2c7c1061d87 ]] : <<depend>>\r\n",
       "E8 ..>> E7 [[psysml:80784242-98cb-449c-a51f-f2c7c1061d87 ]] : <<depend>>\r\n",
       "}\r\n",
       "@enduml\r\n",
       "\n",
       "PlantUML version 1.2020.13(Sat Jun 13 12:26:38 UTC 2020)\n",
       "(EPL source distribution)\n",
       "Java Runtime: OpenJDK Runtime Environment\n",
       "JVM: OpenJDK 64-Bit Server VM\n",
       "Default Encoding: UTF-8\n",
       "Language: en\n",
       "Country: null\n",
       "--></g></svg>"
      ]
     },
     "execution_count": 3,
     "metadata": {},
     "output_type": "execute_result"
    }
   ],
   "source": [
    "%viz --style=\"COMPTREE\" --view=\"Tree\" \"DependencyTest\""
   ]
  },
  {
   "cell_type": "code",
   "execution_count": 4,
   "id": "dense-transport",
   "metadata": {
    "execution": {
     "iopub.execute_input": "2021-03-25T13:26:14.301761Z",
     "iopub.status.busy": "2021-03-25T13:26:14.301259Z",
     "iopub.status.idle": "2021-03-25T13:26:14.312221Z",
     "shell.execute_reply": "2021-03-25T13:26:14.312609Z"
    }
   },
   "outputs": [
    {
     "data": {
      "image/svg+xml": [
       "<?xml version=\"1.0\" encoding=\"UTF-8\" standalone=\"no\"?><svg xmlns=\"http://www.w3.org/2000/svg\" xmlns:xlink=\"http://www.w3.org/1999/xlink\" contentScriptType=\"application/ecmascript\" contentStyleType=\"text/css\" height=\"12px\" preserveAspectRatio=\"none\" style=\"width:12px;height:12px;\" version=\"1.1\" viewBox=\"0 0 12 12\" width=\"12px\" zoomAndPan=\"magnify\"><defs/><g><!--MD5=[f19188ef49e11757b5c46753f95d9edc]\n",
       "@startuml\r\n",
       " skinparam monochrome true\r\n",
       "skinparam classbackgroundcolor white\r\n",
       "skinparam shadowing false\r\n",
       "skinparam wrapWidth 300\r\n",
       "hide circle\r\n",
       "\r\n",
       "@enduml\r\n",
       "\n",
       "PlantUML version 1.2020.13(Sat Jun 13 12:26:38 UTC 2020)\n",
       "(EPL source distribution)\n",
       "Java Runtime: OpenJDK Runtime Environment\n",
       "JVM: OpenJDK 64-Bit Server VM\n",
       "Default Encoding: UTF-8\n",
       "Language: en\n",
       "Country: null\n",
       "--></g></svg>"
      ]
     },
     "execution_count": 4,
     "metadata": {},
     "output_type": "execute_result"
    }
   ],
   "source": [
    "%viz --style=\"COMPTREE\" --view=\"State\" \"DependencyTest\""
   ]
  },
  {
   "cell_type": "code",
   "execution_count": 5,
   "id": "fuzzy-termination",
   "metadata": {
    "execution": {
     "iopub.execute_input": "2021-03-25T13:26:14.365054Z",
     "iopub.status.busy": "2021-03-25T13:26:14.364421Z",
     "iopub.status.idle": "2021-03-25T13:26:14.501321Z",
     "shell.execute_reply": "2021-03-25T13:26:14.501814Z"
    }
   },
   "outputs": [
    {
     "data": {
      "image/svg+xml": [
       "<?xml version=\"1.0\" encoding=\"UTF-8\" standalone=\"no\"?><svg xmlns=\"http://www.w3.org/2000/svg\" xmlns:xlink=\"http://www.w3.org/1999/xlink\" contentScriptType=\"application/ecmascript\" contentStyleType=\"text/css\" height=\"361px\" preserveAspectRatio=\"none\" style=\"width:489px;height:361px;\" version=\"1.1\" viewBox=\"0 0 489 361\" width=\"489px\" zoomAndPan=\"magnify\"><defs/><g><!--MD5=[fbc87193dbaf4d95561dea2c320d4a47]\n",
       "cluster E1--><a href=\"psysml:438e34af-3ce5-4e99-acf4-d3ecd205ea23\" target=\"_top\" title=\"psysml:438e34af-3ce5-4e99-acf4-d3ecd205ea23\" xlink:actuate=\"onRequest\" xlink:href=\"psysml:438e34af-3ce5-4e99-acf4-d3ecd205ea23\" xlink:show=\"new\" xlink:title=\"psysml:438e34af-3ce5-4e99-acf4-d3ecd205ea23\" xlink:type=\"simple\"><polygon fill=\"#FFFFFF\" points=\"16,6,156,6,163,28.2969,467,28.2969,467,349,16,349,16,6\" style=\"stroke: #000000; stroke-width: 1.5;\"/><line style=\"stroke: #000000; stroke-width: 1.5;\" x1=\"16\" x2=\"163\" y1=\"28.2969\" y2=\"28.2969\"/><text fill=\"#000000\" font-family=\"sans-serif\" font-size=\"14\" font-weight=\"bold\" lengthAdjust=\"spacingAndGlyphs\" textLength=\"134\" x=\"20\" y=\"20.9951\">DependencyTest</text></a><!--MD5=[e4f7fae6ed58524ba242bb0b0d3be6b7]\n",
       "cluster E2--><a href=\"psysml:33a226aa-95cf-4670-96e1-1bd6e94f796f\" target=\"_top\" title=\"psysml:33a226aa-95cf-4670-96e1-1bd6e94f796f\" xlink:actuate=\"onRequest\" xlink:href=\"psysml:33a226aa-95cf-4670-96e1-1bd6e94f796f\" xlink:show=\"new\" xlink:title=\"psysml:33a226aa-95cf-4670-96e1-1bd6e94f796f\" xlink:type=\"simple\"><polygon fill=\"#FFFFFF\" points=\"255,49,319,49,326,71.2969,443,71.2969,443,325,255,325,255,49\" style=\"stroke: #000000; stroke-width: 1.5;\"/><line style=\"stroke: #000000; stroke-width: 1.5;\" x1=\"255\" x2=\"326\" y1=\"71.2969\" y2=\"71.2969\"/><text fill=\"#000000\" font-family=\"sans-serif\" font-size=\"14\" font-weight=\"bold\" lengthAdjust=\"spacingAndGlyphs\" textLength=\"58\" x=\"259\" y=\"63.9951\">System</text></a><a href=\"psysml:add81eb6-248c-4298-8987-63cd174f8097\" target=\"_top\" title=\"psysml:add81eb6-248c-4298-8987-63cd174f8097\" xlink:actuate=\"onRequest\" xlink:href=\"psysml:add81eb6-248c-4298-8987-63cd174f8097\" xlink:show=\"new\" xlink:title=\"psysml:add81eb6-248c-4298-8987-63cd174f8097\" xlink:type=\"simple\"><polygon fill=\"#FFFFFF\" points=\"271,84,413,84,420,106.2969,427,106.2969,427,136.5938,271,136.5938,271,84\" style=\"stroke: #000000; stroke-width: 1.5;\"/><line style=\"stroke: #000000; stroke-width: 1.5;\" x1=\"271\" x2=\"420\" y1=\"106.2969\" y2=\"106.2969\"/><text fill=\"#000000\" font-family=\"sans-serif\" font-size=\"14\" font-weight=\"bold\" lengthAdjust=\"spacingAndGlyphs\" textLength=\"136\" x=\"275\" y=\"98.9951\">Application Layer</text></a><a href=\"psysml:95ba016d-ba70-4f40-a2b0-65410d9cce5b\" target=\"_top\" title=\"psysml:95ba016d-ba70-4f40-a2b0-65410d9cce5b\" xlink:actuate=\"onRequest\" xlink:href=\"psysml:95ba016d-ba70-4f40-a2b0-65410d9cce5b\" xlink:show=\"new\" xlink:title=\"psysml:95ba016d-ba70-4f40-a2b0-65410d9cce5b\" xlink:type=\"simple\"><polygon fill=\"#FFFFFF\" points=\"285,170,399,170,406,192.2969,413,192.2969,413,222.5938,285,222.5938,285,170\" style=\"stroke: #000000; stroke-width: 1.5;\"/><line style=\"stroke: #000000; stroke-width: 1.5;\" x1=\"285\" x2=\"406\" y1=\"192.2969\" y2=\"192.2969\"/><text fill=\"#000000\" font-family=\"sans-serif\" font-size=\"14\" font-weight=\"bold\" lengthAdjust=\"spacingAndGlyphs\" textLength=\"108\" x=\"289\" y=\"184.9951\">Service Layer</text></a><a href=\"psysml:ae80162e-06ca-4b24-a1f3-10c5d346ebc4\" target=\"_top\" title=\"psysml:ae80162e-06ca-4b24-a1f3-10c5d346ebc4\" xlink:actuate=\"onRequest\" xlink:href=\"psysml:ae80162e-06ca-4b24-a1f3-10c5d346ebc4\" xlink:show=\"new\" xlink:title=\"psysml:ae80162e-06ca-4b24-a1f3-10c5d346ebc4\" xlink:type=\"simple\"><polygon fill=\"#FFFFFF\" points=\"297,256,387,256,394,278.2969,401,278.2969,401,308.5938,297,308.5938,297,256\" style=\"stroke: #000000; stroke-width: 1.5;\"/><line style=\"stroke: #000000; stroke-width: 1.5;\" x1=\"297\" x2=\"394\" y1=\"278.2969\" y2=\"278.2969\"/><text fill=\"#000000\" font-family=\"sans-serif\" font-size=\"14\" font-weight=\"bold\" lengthAdjust=\"spacingAndGlyphs\" textLength=\"84\" x=\"301\" y=\"270.9951\">Data Layer</text></a><g id=\"E1.E6\"><a href=\"psysml:747ec202-6e4c-456d-855d-21470db0b7f2\" target=\"_top\" title=\"psysml:747ec202-6e4c-456d-855d-21470db0b7f2\" xlink:actuate=\"onRequest\" xlink:href=\"psysml:747ec202-6e4c-456d-855d-21470db0b7f2\" xlink:show=\"new\" xlink:title=\"psysml:747ec202-6e4c-456d-855d-21470db0b7f2\" xlink:type=\"simple\"><rect fill=\"#FFFFFF\" height=\"42.9375\" id=\"E6\" rx=\"10\" ry=\"10\" style=\"stroke: #383838; stroke-width: 1.5;\" width=\"76\" x=\"32\" y=\"175\"/><rect fill=\"#F8F8F8\" height=\"37.9375\" rx=\"10\" ry=\"10\" style=\"stroke: #F8F8F8; stroke-width: 1.5;\" width=\"76\" x=\"32\" y=\"175\"/><rect fill=\"#F8F8F8\" height=\"10\" style=\"stroke: #F8F8F8; stroke-width: 1.5;\" width=\"76\" x=\"32\" y=\"202.9375\"/><rect fill=\"none\" height=\"42.9375\" id=\"E6\" rx=\"10\" ry=\"10\" style=\"stroke: #383838; stroke-width: 1.5;\" width=\"76\" x=\"32\" y=\"175\"/><text fill=\"#000000\" font-family=\"sans-serif\" font-size=\"12\" font-style=\"italic\" lengthAdjust=\"spacingAndGlyphs\" textLength=\"69\" x=\"35.5\" y=\"191.1387\">«attribute»</text><text fill=\"#000000\" font-family=\"sans-serif\" font-size=\"12\" lengthAdjust=\"spacingAndGlyphs\" textLength=\"6\" x=\"67\" y=\"205.1074\">x</text></a></g><g id=\"E1.E7\"><a href=\"psysml:aee293b7-b915-4f4d-bf33-13d7af80ad07\" target=\"_top\" title=\"psysml:aee293b7-b915-4f4d-bf33-13d7af80ad07\" xlink:actuate=\"onRequest\" xlink:href=\"psysml:aee293b7-b915-4f4d-bf33-13d7af80ad07\" xlink:show=\"new\" xlink:title=\"psysml:aee293b7-b915-4f4d-bf33-13d7af80ad07\" xlink:type=\"simple\"><rect fill=\"#FFFFFF\" height=\"42.9375\" id=\"E7\" rx=\"10\" ry=\"10\" style=\"stroke: #383838; stroke-width: 1.5;\" width=\"76\" x=\"143\" y=\"175\"/><rect fill=\"#F8F8F8\" height=\"37.9375\" rx=\"10\" ry=\"10\" style=\"stroke: #F8F8F8; stroke-width: 1.5;\" width=\"76\" x=\"143\" y=\"175\"/><rect fill=\"#F8F8F8\" height=\"10\" style=\"stroke: #F8F8F8; stroke-width: 1.5;\" width=\"76\" x=\"143\" y=\"202.9375\"/><rect fill=\"none\" height=\"42.9375\" id=\"E7\" rx=\"10\" ry=\"10\" style=\"stroke: #383838; stroke-width: 1.5;\" width=\"76\" x=\"143\" y=\"175\"/><text fill=\"#000000\" font-family=\"sans-serif\" font-size=\"12\" font-style=\"italic\" lengthAdjust=\"spacingAndGlyphs\" textLength=\"69\" x=\"146.5\" y=\"191.1387\">«attribute»</text><text fill=\"#000000\" font-family=\"sans-serif\" font-size=\"12\" lengthAdjust=\"spacingAndGlyphs\" textLength=\"6\" x=\"178\" y=\"205.1074\">y</text></a></g><g id=\"E1.E8\"><a href=\"psysml:1c42907e-9ca4-4468-bbbb-1ea70701dab3\" target=\"_top\" title=\"psysml:1c42907e-9ca4-4468-bbbb-1ea70701dab3\" xlink:actuate=\"onRequest\" xlink:href=\"psysml:1c42907e-9ca4-4468-bbbb-1ea70701dab3\" xlink:show=\"new\" xlink:title=\"psysml:1c42907e-9ca4-4468-bbbb-1ea70701dab3\" xlink:type=\"simple\"><rect fill=\"#FFFFFF\" height=\"42.9375\" id=\"E8\" rx=\"10\" ry=\"10\" style=\"stroke: #383838; stroke-width: 1.5;\" width=\"76\" x=\"83\" y=\"89\"/><rect fill=\"#F8F8F8\" height=\"37.9375\" rx=\"10\" ry=\"10\" style=\"stroke: #F8F8F8; stroke-width: 1.5;\" width=\"76\" x=\"83\" y=\"89\"/><rect fill=\"#F8F8F8\" height=\"10\" style=\"stroke: #F8F8F8; stroke-width: 1.5;\" width=\"76\" x=\"83\" y=\"116.9375\"/><rect fill=\"none\" height=\"42.9375\" id=\"E8\" rx=\"10\" ry=\"10\" style=\"stroke: #383838; stroke-width: 1.5;\" width=\"76\" x=\"83\" y=\"89\"/><text fill=\"#000000\" font-family=\"sans-serif\" font-size=\"12\" font-style=\"italic\" lengthAdjust=\"spacingAndGlyphs\" textLength=\"69\" x=\"86.5\" y=\"105.1387\">«attribute»</text><text fill=\"#000000\" font-family=\"sans-serif\" font-size=\"12\" lengthAdjust=\"spacingAndGlyphs\" textLength=\"5\" x=\"118.5\" y=\"119.1074\">z</text></a></g><!--MD5=[af87c684e3b0d8be13c1a698a818ef1e]\n",
       "link E3 to E4--><a href=\"psysml:4c7b915e-320e-40c7-9399-584f1f84a9d7\" target=\"_top\" title=\"psysml:4c7b915e-320e-40c7-9399-584f1f84a9d7\" xlink:actuate=\"onRequest\" xlink:href=\"psysml:4c7b915e-320e-40c7-9399-584f1f84a9d7\" xlink:show=\"new\" xlink:title=\"psysml:4c7b915e-320e-40c7-9399-584f1f84a9d7\" xlink:type=\"simple\"><path d=\"M349,137.16 C349,144.98 349,153.69 349,161.94 \" fill=\"none\" id=\"E3-&gt;E4\" style=\"stroke: #383838; stroke-width: 1.0; stroke-dasharray: 7.0,7.0;\"/><polygon fill=\"#383838\" points=\"349,170,352,162,346,162,349,170\" style=\"stroke: #383838; stroke-width: 1.0;\"/><text fill=\"#000000\" font-family=\"sans-serif\" font-size=\"13\" lengthAdjust=\"spacingAndGlyphs\" textLength=\"64\" x=\"350\" y=\"158.0669\">«depend»</text></a><!--MD5=[1b7591eae5389033d8d09a9d6721a717]\n",
       "link E4 to E5--><a href=\"psysml:9be59ee3-60f5-4004-bc3e-00c0f7693956\" target=\"_top\" title=\"psysml:9be59ee3-60f5-4004-bc3e-00c0f7693956\" xlink:actuate=\"onRequest\" xlink:href=\"psysml:9be59ee3-60f5-4004-bc3e-00c0f7693956\" xlink:show=\"new\" xlink:title=\"psysml:9be59ee3-60f5-4004-bc3e-00c0f7693956\" xlink:type=\"simple\"><path d=\"M349,223.16 C349,230.98 349,239.69 349,247.94 \" fill=\"none\" id=\"E4-&gt;E5\" style=\"stroke: #383838; stroke-width: 1.0; stroke-dasharray: 7.0,7.0;\"/><polygon fill=\"#383838\" points=\"349,256,352,248,346,248,349,256\" style=\"stroke: #383838; stroke-width: 1.0;\"/><text fill=\"#000000\" font-family=\"sans-serif\" font-size=\"13\" lengthAdjust=\"spacingAndGlyphs\" textLength=\"64\" x=\"350\" y=\"244.0669\">«depend»</text></a><!--MD5=[c5e8897d989ce984f93528998a7150fe]\n",
       "link E8 to E6--><a href=\"psysml:80784242-98cb-449c-a51f-f2c7c1061d87\" target=\"_top\" title=\"psysml:80784242-98cb-449c-a51f-f2c7c1061d87\" xlink:actuate=\"onRequest\" xlink:href=\"psysml:80784242-98cb-449c-a51f-f2c7c1061d87\" xlink:show=\"new\" xlink:title=\"psysml:80784242-98cb-449c-a51f-f2c7c1061d87\" xlink:type=\"simple\"><path d=\"M82.81,126.48 C75.3,131.24 68.39,137.33 64,145 C60.26,151.53 59.68,159.3 60.56,166.77 \" fill=\"none\" id=\"E8-&gt;E6\" style=\"stroke: #383838; stroke-width: 1.0; stroke-dasharray: 7.0,7.0;\"/><polygon fill=\"#383838\" points=\"62.02,174.69,63.5257,166.2797,57.6244,167.3634,62.02,174.69\" style=\"stroke: #383838; stroke-width: 1.0;\"/><text fill=\"#000000\" font-family=\"sans-serif\" font-size=\"13\" lengthAdjust=\"spacingAndGlyphs\" textLength=\"64\" x=\"65\" y=\"158.0669\">«depend»</text></a><!--MD5=[bfa3c8b0d15052fdf50ae9310b491027]\n",
       "link E8 to E7--><a href=\"psysml:80784242-98cb-449c-a51f-f2c7c1061d87\" target=\"_top\" title=\"psysml:80784242-98cb-449c-a51f-f2c7c1061d87\" xlink:actuate=\"onRequest\" xlink:href=\"psysml:80784242-98cb-449c-a51f-f2c7c1061d87\" xlink:show=\"new\" xlink:title=\"psysml:80784242-98cb-449c-a51f-f2c7c1061d87\" xlink:type=\"simple\"><path d=\"M135.83,132.26 C143.61,143.15 153.22,156.61 161.59,168.32 \" fill=\"none\" id=\"E8-&gt;E7\" style=\"stroke: #383838; stroke-width: 1.0; stroke-dasharray: 7.0,7.0;\"/><polygon fill=\"#383838\" points=\"166.34,174.97,164.1399,166.7141,159.2538,170.1965,166.34,174.97\" style=\"stroke: #383838; stroke-width: 1.0;\"/><text fill=\"#000000\" font-family=\"sans-serif\" font-size=\"13\" lengthAdjust=\"spacingAndGlyphs\" textLength=\"64\" x=\"157\" y=\"158.0669\">«depend»</text></a><!--MD5=[745f99d0f145bf36612145f51585e36c]\n",
       "@startuml\r\n",
       "skinparam ranksep 8\r\n",
       "skinparam rectangle {\r\n",
       " backgroundColor<<block>> LightGreen\r\n",
       "}\r\n",
       " skinparam monochrome true\r\n",
       "skinparam classbackgroundcolor white\r\n",
       "skinparam shadowing false\r\n",
       "skinparam wrapWidth 300\r\n",
       "hide circle\r\n",
       "\r\n",
       "package \"DependencyTest\" as E1  [[psysml:438e34af-3ce5-4e99-acf4-d3ecd205ea23 ]]  {\r\n",
       "package \"System\" as E2  [[psysml:33a226aa-95cf-4670-96e1-1bd6e94f796f ]]  {\r\n",
       "package \"Application Layer\" as E3  [[psysml:add81eb6-248c-4298-8987-63cd174f8097 ]]  {\r\n",
       "}\r\n",
       "package \"Service Layer\" as E4  [[psysml:95ba016d-ba70-4f40-a2b0-65410d9cce5b ]]  {\r\n",
       "}\r\n",
       "package \"Data Layer\" as E5  [[psysml:ae80162e-06ca-4b24-a1f3-10c5d346ebc4 ]]  {\r\n",
       "}\r\n",
       "}\r\n",
       "rec usage \"x\" as E6  <<(T,blue)attribute>> [[psysml:747ec202-6e4c-456d-855d-21470db0b7f2 ]] {\r\n",
       "}\r\n",
       "rec usage \"y\" as E7  <<(T,blue)attribute>> [[psysml:aee293b7-b915-4f4d-bf33-13d7af80ad07 ]] {\r\n",
       "}\r\n",
       "rec usage \"z\" as E8  <<(T,blue)attribute>> [[psysml:1c42907e-9ca4-4468-bbbb-1ea70701dab3 ]] {\r\n",
       "}\r\n",
       "E3 ..>> E4 [[psysml:4c7b915e-320e-40c7-9399-584f1f84a9d7 ]] : <<depend>>\r\n",
       "E4 ..>> E5 [[psysml:9be59ee3-60f5-4004-bc3e-00c0f7693956 ]] : <<depend>>\r\n",
       "E8 ..>> E6 [[psysml:80784242-98cb-449c-a51f-f2c7c1061d87 ]] : <<depend>>\r\n",
       "E8 ..>> E7 [[psysml:80784242-98cb-449c-a51f-f2c7c1061d87 ]] : <<depend>>\r\n",
       "}\r\n",
       "@enduml\r\n",
       "\n",
       "PlantUML version 1.2020.13(Sat Jun 13 12:26:38 UTC 2020)\n",
       "(EPL source distribution)\n",
       "Java Runtime: OpenJDK Runtime Environment\n",
       "JVM: OpenJDK 64-Bit Server VM\n",
       "Default Encoding: UTF-8\n",
       "Language: en\n",
       "Country: null\n",
       "--></g></svg>"
      ]
     },
     "execution_count": 5,
     "metadata": {},
     "output_type": "execute_result"
    }
   ],
   "source": [
    "%viz --style=\"COMPTREE\" --view=\"Interconnection\" \"DependencyTest\""
   ]
  },
  {
   "cell_type": "code",
   "execution_count": 6,
   "id": "sporting-yorkshire",
   "metadata": {
    "execution": {
     "iopub.execute_input": "2021-03-25T13:26:14.555062Z",
     "iopub.status.busy": "2021-03-25T13:26:14.553804Z",
     "iopub.status.idle": "2021-03-25T13:26:14.566456Z",
     "shell.execute_reply": "2021-03-25T13:26:14.566900Z"
    }
   },
   "outputs": [
    {
     "data": {
      "image/svg+xml": [
       "<?xml version=\"1.0\" encoding=\"UTF-8\" standalone=\"no\"?><svg xmlns=\"http://www.w3.org/2000/svg\" xmlns:xlink=\"http://www.w3.org/1999/xlink\" contentScriptType=\"application/ecmascript\" contentStyleType=\"text/css\" height=\"12px\" preserveAspectRatio=\"none\" style=\"width:12px;height:12px;\" version=\"1.1\" viewBox=\"0 0 12 12\" width=\"12px\" zoomAndPan=\"magnify\"><defs/><g><!--MD5=[655b888544ca4751ea36af1068543f84]\n",
       "@startuml\r\n",
       "skinparam ranksep 8\r\n",
       " skinparam monochrome true\r\n",
       "skinparam classbackgroundcolor white\r\n",
       "skinparam shadowing false\r\n",
       "skinparam wrapWidth 300\r\n",
       "hide circle\r\n",
       "\r\n",
       "@enduml\r\n",
       "\n",
       "PlantUML version 1.2020.13(Sat Jun 13 12:26:38 UTC 2020)\n",
       "(EPL source distribution)\n",
       "Java Runtime: OpenJDK Runtime Environment\n",
       "JVM: OpenJDK 64-Bit Server VM\n",
       "Default Encoding: UTF-8\n",
       "Language: en\n",
       "Country: null\n",
       "--></g></svg>"
      ]
     },
     "execution_count": 6,
     "metadata": {},
     "output_type": "execute_result"
    }
   ],
   "source": [
    "%viz --style=\"COMPTREE\" --view=\"Action\" \"DependencyTest\""
   ]
  },
  {
   "cell_type": "code",
   "execution_count": 7,
   "id": "reasonable-premiere",
   "metadata": {
    "execution": {
     "iopub.execute_input": "2021-03-25T13:26:14.618473Z",
     "iopub.status.busy": "2021-03-25T13:26:14.617637Z",
     "iopub.status.idle": "2021-03-25T13:26:14.739483Z",
     "shell.execute_reply": "2021-03-25T13:26:14.739936Z"
    }
   },
   "outputs": [
    {
     "data": {
      "image/svg+xml": [
       "<?xml version=\"1.0\" encoding=\"UTF-8\" standalone=\"no\"?><svg xmlns=\"http://www.w3.org/2000/svg\" xmlns:xlink=\"http://www.w3.org/1999/xlink\" contentScriptType=\"application/ecmascript\" contentStyleType=\"text/css\" height=\"449px\" preserveAspectRatio=\"none\" style=\"width:489px;height:449px;\" version=\"1.1\" viewBox=\"0 0 489 449\" width=\"489px\" zoomAndPan=\"magnify\"><defs/><g><!--MD5=[fbc87193dbaf4d95561dea2c320d4a47]\n",
       "cluster E1--><a href=\"psysml:438e34af-3ce5-4e99-acf4-d3ecd205ea23\" target=\"_top\" title=\"psysml:438e34af-3ce5-4e99-acf4-d3ecd205ea23\" xlink:actuate=\"onRequest\" xlink:href=\"psysml:438e34af-3ce5-4e99-acf4-d3ecd205ea23\" xlink:show=\"new\" xlink:title=\"psysml:438e34af-3ce5-4e99-acf4-d3ecd205ea23\" xlink:type=\"simple\"><polygon fill=\"#FFFFFF\" points=\"16,6,156,6,163,28.2969,467,28.2969,467,437,16,437,16,6\" style=\"stroke: #000000; stroke-width: 1.5;\"/><line style=\"stroke: #000000; stroke-width: 1.5;\" x1=\"16\" x2=\"163\" y1=\"28.2969\" y2=\"28.2969\"/><text fill=\"#000000\" font-family=\"sans-serif\" font-size=\"14\" font-weight=\"bold\" lengthAdjust=\"spacingAndGlyphs\" textLength=\"134\" x=\"20\" y=\"20.9951\">DependencyTest</text></a><!--MD5=[e4f7fae6ed58524ba242bb0b0d3be6b7]\n",
       "cluster E2--><a href=\"psysml:33a226aa-95cf-4670-96e1-1bd6e94f796f\" target=\"_top\" title=\"psysml:33a226aa-95cf-4670-96e1-1bd6e94f796f\" xlink:actuate=\"onRequest\" xlink:href=\"psysml:33a226aa-95cf-4670-96e1-1bd6e94f796f\" xlink:show=\"new\" xlink:title=\"psysml:33a226aa-95cf-4670-96e1-1bd6e94f796f\" xlink:type=\"simple\"><polygon fill=\"#FFFFFF\" points=\"255,49,319,49,326,71.2969,443,71.2969,443,413,255,413,255,49\" style=\"stroke: #000000; stroke-width: 1.5;\"/><line style=\"stroke: #000000; stroke-width: 1.5;\" x1=\"255\" x2=\"326\" y1=\"71.2969\" y2=\"71.2969\"/><text fill=\"#000000\" font-family=\"sans-serif\" font-size=\"14\" font-weight=\"bold\" lengthAdjust=\"spacingAndGlyphs\" textLength=\"58\" x=\"259\" y=\"63.9951\">System</text></a><!--MD5=[60a26617385b1d2d0262a64233df1f8d]\n",
       "class E6--><a href=\"psysml:747ec202-6e4c-456d-855d-21470db0b7f2\" target=\"_top\" title=\"psysml:747ec202-6e4c-456d-855d-21470db0b7f2\" xlink:actuate=\"onRequest\" xlink:href=\"psysml:747ec202-6e4c-456d-855d-21470db0b7f2\" xlink:show=\"new\" xlink:title=\"psysml:747ec202-6e4c-456d-855d-21470db0b7f2\" xlink:type=\"simple\"><rect fill=\"#FFFFFF\" height=\"45.9375\" id=\"E6\" rx=\"10\" ry=\"10\" style=\"stroke: #383838; stroke-width: 1.5;\" width=\"71\" x=\"32.5\" y=\"217.5\"/><text fill=\"#000000\" font-family=\"sans-serif\" font-size=\"12\" font-style=\"italic\" lengthAdjust=\"spacingAndGlyphs\" textLength=\"69\" x=\"33.5\" y=\"233.6387\">«attribute»</text><text fill=\"#000000\" font-family=\"sans-serif\" font-size=\"12\" lengthAdjust=\"spacingAndGlyphs\" textLength=\"6\" x=\"65\" y=\"247.6074\">x</text><line style=\"stroke: #383838; stroke-width: 1.5;\" x1=\"33.5\" x2=\"102.5\" y1=\"255.4375\" y2=\"255.4375\"/></a><!--MD5=[2156ba9850f5573cc1fc38a6a4b2f02b]\n",
       "class E7--><a href=\"psysml:aee293b7-b915-4f4d-bf33-13d7af80ad07\" target=\"_top\" title=\"psysml:aee293b7-b915-4f4d-bf33-13d7af80ad07\" xlink:actuate=\"onRequest\" xlink:href=\"psysml:aee293b7-b915-4f4d-bf33-13d7af80ad07\" xlink:show=\"new\" xlink:title=\"psysml:aee293b7-b915-4f4d-bf33-13d7af80ad07\" xlink:type=\"simple\"><rect fill=\"#FFFFFF\" height=\"45.9375\" id=\"E7\" rx=\"10\" ry=\"10\" style=\"stroke: #383838; stroke-width: 1.5;\" width=\"71\" x=\"138.5\" y=\"217.5\"/><text fill=\"#000000\" font-family=\"sans-serif\" font-size=\"12\" font-style=\"italic\" lengthAdjust=\"spacingAndGlyphs\" textLength=\"69\" x=\"139.5\" y=\"233.6387\">«attribute»</text><text fill=\"#000000\" font-family=\"sans-serif\" font-size=\"12\" lengthAdjust=\"spacingAndGlyphs\" textLength=\"6\" x=\"171\" y=\"247.6074\">y</text><line style=\"stroke: #383838; stroke-width: 1.5;\" x1=\"139.5\" x2=\"208.5\" y1=\"255.4375\" y2=\"255.4375\"/></a><!--MD5=[b9389687b975829384b498ac4b7476b2]\n",
       "class E8--><a href=\"psysml:1c42907e-9ca4-4468-bbbb-1ea70701dab3\" target=\"_top\" title=\"psysml:1c42907e-9ca4-4468-bbbb-1ea70701dab3\" xlink:actuate=\"onRequest\" xlink:href=\"psysml:1c42907e-9ca4-4468-bbbb-1ea70701dab3\" xlink:show=\"new\" xlink:title=\"psysml:1c42907e-9ca4-4468-bbbb-1ea70701dab3\" xlink:type=\"simple\"><rect fill=\"#FFFFFF\" height=\"45.9375\" id=\"E8\" rx=\"10\" ry=\"10\" style=\"stroke: #383838; stroke-width: 1.5;\" width=\"71\" x=\"84.5\" y=\"87.5\"/><text fill=\"#000000\" font-family=\"sans-serif\" font-size=\"12\" font-style=\"italic\" lengthAdjust=\"spacingAndGlyphs\" textLength=\"69\" x=\"85.5\" y=\"103.6387\">«attribute»</text><text fill=\"#000000\" font-family=\"sans-serif\" font-size=\"12\" lengthAdjust=\"spacingAndGlyphs\" textLength=\"5\" x=\"117.5\" y=\"117.6074\">z</text><line style=\"stroke: #383838; stroke-width: 1.5;\" x1=\"85.5\" x2=\"154.5\" y1=\"125.4375\" y2=\"125.4375\"/></a><a href=\"psysml:add81eb6-248c-4298-8987-63cd174f8097\" target=\"_top\" title=\"psysml:add81eb6-248c-4298-8987-63cd174f8097\" xlink:actuate=\"onRequest\" xlink:href=\"psysml:add81eb6-248c-4298-8987-63cd174f8097\" xlink:show=\"new\" xlink:title=\"psysml:add81eb6-248c-4298-8987-63cd174f8097\" xlink:type=\"simple\"><polygon fill=\"#FFFFFF\" points=\"271,84,413,84,420,106.2969,427,106.2969,427,136.5938,271,136.5938,271,84\" style=\"stroke: #000000; stroke-width: 1.5;\"/><line style=\"stroke: #000000; stroke-width: 1.5;\" x1=\"271\" x2=\"420\" y1=\"106.2969\" y2=\"106.2969\"/><text fill=\"#000000\" font-family=\"sans-serif\" font-size=\"14\" font-weight=\"bold\" lengthAdjust=\"spacingAndGlyphs\" textLength=\"136\" x=\"275\" y=\"98.9951\">Application Layer</text></a><a href=\"psysml:95ba016d-ba70-4f40-a2b0-65410d9cce5b\" target=\"_top\" title=\"psysml:95ba016d-ba70-4f40-a2b0-65410d9cce5b\" xlink:actuate=\"onRequest\" xlink:href=\"psysml:95ba016d-ba70-4f40-a2b0-65410d9cce5b\" xlink:show=\"new\" xlink:title=\"psysml:95ba016d-ba70-4f40-a2b0-65410d9cce5b\" xlink:type=\"simple\"><polygon fill=\"#FFFFFF\" points=\"285,214,399,214,406,236.2969,413,236.2969,413,266.5938,285,266.5938,285,214\" style=\"stroke: #000000; stroke-width: 1.5;\"/><line style=\"stroke: #000000; stroke-width: 1.5;\" x1=\"285\" x2=\"406\" y1=\"236.2969\" y2=\"236.2969\"/><text fill=\"#000000\" font-family=\"sans-serif\" font-size=\"14\" font-weight=\"bold\" lengthAdjust=\"spacingAndGlyphs\" textLength=\"108\" x=\"289\" y=\"228.9951\">Service Layer</text></a><a href=\"psysml:ae80162e-06ca-4b24-a1f3-10c5d346ebc4\" target=\"_top\" title=\"psysml:ae80162e-06ca-4b24-a1f3-10c5d346ebc4\" xlink:actuate=\"onRequest\" xlink:href=\"psysml:ae80162e-06ca-4b24-a1f3-10c5d346ebc4\" xlink:show=\"new\" xlink:title=\"psysml:ae80162e-06ca-4b24-a1f3-10c5d346ebc4\" xlink:type=\"simple\"><polygon fill=\"#FFFFFF\" points=\"297,344,387,344,394,366.2969,401,366.2969,401,396.5938,297,396.5938,297,344\" style=\"stroke: #000000; stroke-width: 1.5;\"/><line style=\"stroke: #000000; stroke-width: 1.5;\" x1=\"297\" x2=\"394\" y1=\"366.2969\" y2=\"366.2969\"/><text fill=\"#000000\" font-family=\"sans-serif\" font-size=\"14\" font-weight=\"bold\" lengthAdjust=\"spacingAndGlyphs\" textLength=\"84\" x=\"301\" y=\"358.9951\">Data Layer</text></a><!--MD5=[af87c684e3b0d8be13c1a698a818ef1e]\n",
       "link E3 to E4--><a href=\"psysml:4c7b915e-320e-40c7-9399-584f1f84a9d7\" target=\"_top\" title=\"psysml:4c7b915e-320e-40c7-9399-584f1f84a9d7\" xlink:actuate=\"onRequest\" xlink:href=\"psysml:4c7b915e-320e-40c7-9399-584f1f84a9d7\" xlink:show=\"new\" xlink:title=\"psysml:4c7b915e-320e-40c7-9399-584f1f84a9d7\" xlink:type=\"simple\"><path d=\"M349,137.1 C349,156.8 349,184.22 349,205.73 \" fill=\"none\" id=\"E3-&gt;E4\" style=\"stroke: #383838; stroke-width: 1.0; stroke-dasharray: 7.0,7.0;\"/><polygon fill=\"#383838\" points=\"349,213.95,352,205.95,346,205.95,349,213.95\" style=\"stroke: #383838; stroke-width: 1.0;\"/><text fill=\"#000000\" font-family=\"sans-serif\" font-size=\"13\" lengthAdjust=\"spacingAndGlyphs\" textLength=\"64\" x=\"350\" y=\"180.0669\">«depend»</text></a><!--MD5=[1b7591eae5389033d8d09a9d6721a717]\n",
       "link E4 to E5--><a href=\"psysml:9be59ee3-60f5-4004-bc3e-00c0f7693956\" target=\"_top\" title=\"psysml:9be59ee3-60f5-4004-bc3e-00c0f7693956\" xlink:actuate=\"onRequest\" xlink:href=\"psysml:9be59ee3-60f5-4004-bc3e-00c0f7693956\" xlink:show=\"new\" xlink:title=\"psysml:9be59ee3-60f5-4004-bc3e-00c0f7693956\" xlink:type=\"simple\"><path d=\"M349,267.1 C349,286.8 349,314.22 349,335.73 \" fill=\"none\" id=\"E4-&gt;E5\" style=\"stroke: #383838; stroke-width: 1.0; stroke-dasharray: 7.0,7.0;\"/><polygon fill=\"#383838\" points=\"349,343.95,352,335.95,346,335.95,349,343.95\" style=\"stroke: #383838; stroke-width: 1.0;\"/><text fill=\"#000000\" font-family=\"sans-serif\" font-size=\"13\" lengthAdjust=\"spacingAndGlyphs\" textLength=\"64\" x=\"350\" y=\"310.0669\">«depend»</text></a><!--MD5=[c5e8897d989ce984f93528998a7150fe]\n",
       "link E8 to E6--><a href=\"psysml:80784242-98cb-449c-a51f-f2c7c1061d87\" target=\"_top\" title=\"psysml:80784242-98cb-449c-a51f-f2c7c1061d87\" xlink:actuate=\"onRequest\" xlink:href=\"psysml:80784242-98cb-449c-a51f-f2c7c1061d87\" xlink:show=\"new\" xlink:title=\"psysml:80784242-98cb-449c-a51f-f2c7c1061d87\" xlink:type=\"simple\"><path d=\"M89.42,133.6 C79.35,142.68 69.37,154.11 64,167 C58.5,180.2 58.66,195.94 60.54,209.38 \" fill=\"none\" id=\"E8-&gt;E6\" style=\"stroke: #383838; stroke-width: 1.0; stroke-dasharray: 7.0,7.0;\"/><polygon fill=\"#383838\" points=\"61.9,217.4,63.517,209.0104,57.6018,210.0159,61.9,217.4\" style=\"stroke: #383838; stroke-width: 1.0;\"/><text fill=\"#000000\" font-family=\"sans-serif\" font-size=\"13\" lengthAdjust=\"spacingAndGlyphs\" textLength=\"64\" x=\"65\" y=\"180.0669\">«depend»</text></a><!--MD5=[bfa3c8b0d15052fdf50ae9310b491027]\n",
       "link E8 to E7--><a href=\"psysml:80784242-98cb-449c-a51f-f2c7c1061d87\" target=\"_top\" title=\"psysml:80784242-98cb-449c-a51f-f2c7c1061d87\" xlink:actuate=\"onRequest\" xlink:href=\"psysml:80784242-98cb-449c-a51f-f2c7c1061d87\" xlink:show=\"new\" xlink:title=\"psysml:80784242-98cb-449c-a51f-f2c7c1061d87\" xlink:type=\"simple\"><path d=\"M129.28,133.5 C138.17,154.57 151.64,186.5 161.47,209.81 \" fill=\"none\" id=\"E8-&gt;E7\" style=\"stroke: #383838; stroke-width: 1.0; stroke-dasharray: 7.0,7.0;\"/><polygon fill=\"#383838\" points=\"164.66,217.35,164.3241,208.8126,158.7933,211.1385,164.66,217.35\" style=\"stroke: #383838; stroke-width: 1.0;\"/><text fill=\"#000000\" font-family=\"sans-serif\" font-size=\"13\" lengthAdjust=\"spacingAndGlyphs\" textLength=\"64\" x=\"151\" y=\"180.0669\">«depend»</text></a><!--MD5=[b3ae4539abd6fb10195ec82124aaf5ed]\n",
       "@startuml\r\n",
       " skinparam monochrome true\r\n",
       "skinparam classbackgroundcolor white\r\n",
       "skinparam shadowing false\r\n",
       "skinparam wrapWidth 300\r\n",
       "hide circle\r\n",
       "\r\n",
       "package \"DependencyTest\" as E1  [[psysml:438e34af-3ce5-4e99-acf4-d3ecd205ea23 ]]  {\r\n",
       "package \"System\" as E2  [[psysml:33a226aa-95cf-4670-96e1-1bd6e94f796f ]]  {\r\n",
       "package \"Application Layer\" as E3  [[psysml:add81eb6-248c-4298-8987-63cd174f8097 ]]  {\r\n",
       "}\r\n",
       "package \"Service Layer\" as E4  [[psysml:95ba016d-ba70-4f40-a2b0-65410d9cce5b ]]  {\r\n",
       "}\r\n",
       "package \"Data Layer\" as E5  [[psysml:ae80162e-06ca-4b24-a1f3-10c5d346ebc4 ]]  {\r\n",
       "}\r\n",
       "}\r\n",
       "comp usage \"x\" as E6  <<(T,blue)attribute>> [[psysml:747ec202-6e4c-456d-855d-21470db0b7f2 ]] {\r\n",
       "}\r\n",
       "comp usage \"y\" as E7  <<(T,blue)attribute>> [[psysml:aee293b7-b915-4f4d-bf33-13d7af80ad07 ]] {\r\n",
       "}\r\n",
       "comp usage \"z\" as E8  <<(T,blue)attribute>> [[psysml:1c42907e-9ca4-4468-bbbb-1ea70701dab3 ]] {\r\n",
       "}\r\n",
       "E3 ..>> E4 [[psysml:4c7b915e-320e-40c7-9399-584f1f84a9d7 ]] : <<depend>>\r\n",
       "E4 ..>> E5 [[psysml:9be59ee3-60f5-4004-bc3e-00c0f7693956 ]] : <<depend>>\r\n",
       "E8 ..>> E6 [[psysml:80784242-98cb-449c-a51f-f2c7c1061d87 ]] : <<depend>>\r\n",
       "E8 ..>> E7 [[psysml:80784242-98cb-449c-a51f-f2c7c1061d87 ]] : <<depend>>\r\n",
       "}\r\n",
       "@enduml\r\n",
       "\n",
       "PlantUML version 1.2020.13(Sat Jun 13 12:26:38 UTC 2020)\n",
       "(EPL source distribution)\n",
       "Java Runtime: OpenJDK Runtime Environment\n",
       "JVM: OpenJDK 64-Bit Server VM\n",
       "Default Encoding: UTF-8\n",
       "Language: en\n",
       "Country: null\n",
       "--></g></svg>"
      ]
     },
     "execution_count": 7,
     "metadata": {},
     "output_type": "execute_result"
    }
   ],
   "source": [
    "%viz --style=\"COMPTREE\" --view=\"Sequence\" \"DependencyTest\""
   ]
  },
  {
   "cell_type": "code",
   "execution_count": 8,
   "id": "happy-douglas",
   "metadata": {
    "execution": {
     "iopub.execute_input": "2021-03-25T13:26:14.791300Z",
     "iopub.status.busy": "2021-03-25T13:26:14.790484Z",
     "iopub.status.idle": "2021-03-25T13:26:14.905681Z",
     "shell.execute_reply": "2021-03-25T13:26:14.903979Z"
    }
   },
   "outputs": [
    {
     "data": {
      "image/svg+xml": [
       "<?xml version=\"1.0\" encoding=\"UTF-8\" standalone=\"no\"?><svg xmlns=\"http://www.w3.org/2000/svg\" xmlns:xlink=\"http://www.w3.org/1999/xlink\" contentScriptType=\"application/ecmascript\" contentStyleType=\"text/css\" height=\"449px\" preserveAspectRatio=\"none\" style=\"width:489px;height:449px;\" version=\"1.1\" viewBox=\"0 0 489 449\" width=\"489px\" zoomAndPan=\"magnify\"><defs/><g><!--MD5=[fbc87193dbaf4d95561dea2c320d4a47]\n",
       "cluster E1--><a href=\"psysml:438e34af-3ce5-4e99-acf4-d3ecd205ea23\" target=\"_top\" title=\"psysml:438e34af-3ce5-4e99-acf4-d3ecd205ea23\" xlink:actuate=\"onRequest\" xlink:href=\"psysml:438e34af-3ce5-4e99-acf4-d3ecd205ea23\" xlink:show=\"new\" xlink:title=\"psysml:438e34af-3ce5-4e99-acf4-d3ecd205ea23\" xlink:type=\"simple\"><polygon fill=\"#FFFFFF\" points=\"16,6,156,6,163,28.2969,467,28.2969,467,437,16,437,16,6\" style=\"stroke: #000000; stroke-width: 1.5;\"/><line style=\"stroke: #000000; stroke-width: 1.5;\" x1=\"16\" x2=\"163\" y1=\"28.2969\" y2=\"28.2969\"/><text fill=\"#000000\" font-family=\"sans-serif\" font-size=\"14\" font-weight=\"bold\" lengthAdjust=\"spacingAndGlyphs\" textLength=\"134\" x=\"20\" y=\"20.9951\">DependencyTest</text></a><!--MD5=[e4f7fae6ed58524ba242bb0b0d3be6b7]\n",
       "cluster E2--><a href=\"psysml:33a226aa-95cf-4670-96e1-1bd6e94f796f\" target=\"_top\" title=\"psysml:33a226aa-95cf-4670-96e1-1bd6e94f796f\" xlink:actuate=\"onRequest\" xlink:href=\"psysml:33a226aa-95cf-4670-96e1-1bd6e94f796f\" xlink:show=\"new\" xlink:title=\"psysml:33a226aa-95cf-4670-96e1-1bd6e94f796f\" xlink:type=\"simple\"><polygon fill=\"#FFFFFF\" points=\"255,49,319,49,326,71.2969,443,71.2969,443,413,255,413,255,49\" style=\"stroke: #000000; stroke-width: 1.5;\"/><line style=\"stroke: #000000; stroke-width: 1.5;\" x1=\"255\" x2=\"326\" y1=\"71.2969\" y2=\"71.2969\"/><text fill=\"#000000\" font-family=\"sans-serif\" font-size=\"14\" font-weight=\"bold\" lengthAdjust=\"spacingAndGlyphs\" textLength=\"58\" x=\"259\" y=\"63.9951\">System</text></a><!--MD5=[60a26617385b1d2d0262a64233df1f8d]\n",
       "class E6--><a href=\"psysml:747ec202-6e4c-456d-855d-21470db0b7f2\" target=\"_top\" title=\"psysml:747ec202-6e4c-456d-855d-21470db0b7f2\" xlink:actuate=\"onRequest\" xlink:href=\"psysml:747ec202-6e4c-456d-855d-21470db0b7f2\" xlink:show=\"new\" xlink:title=\"psysml:747ec202-6e4c-456d-855d-21470db0b7f2\" xlink:type=\"simple\"><rect fill=\"#FFFFFF\" height=\"45.9375\" id=\"E6\" rx=\"10\" ry=\"10\" style=\"stroke: #383838; stroke-width: 1.5;\" width=\"71\" x=\"32.5\" y=\"217.5\"/><text fill=\"#000000\" font-family=\"sans-serif\" font-size=\"12\" font-style=\"italic\" lengthAdjust=\"spacingAndGlyphs\" textLength=\"69\" x=\"33.5\" y=\"233.6387\">«attribute»</text><text fill=\"#000000\" font-family=\"sans-serif\" font-size=\"12\" lengthAdjust=\"spacingAndGlyphs\" textLength=\"6\" x=\"65\" y=\"247.6074\">x</text><line style=\"stroke: #383838; stroke-width: 1.5;\" x1=\"33.5\" x2=\"102.5\" y1=\"255.4375\" y2=\"255.4375\"/></a><!--MD5=[2156ba9850f5573cc1fc38a6a4b2f02b]\n",
       "class E7--><a href=\"psysml:aee293b7-b915-4f4d-bf33-13d7af80ad07\" target=\"_top\" title=\"psysml:aee293b7-b915-4f4d-bf33-13d7af80ad07\" xlink:actuate=\"onRequest\" xlink:href=\"psysml:aee293b7-b915-4f4d-bf33-13d7af80ad07\" xlink:show=\"new\" xlink:title=\"psysml:aee293b7-b915-4f4d-bf33-13d7af80ad07\" xlink:type=\"simple\"><rect fill=\"#FFFFFF\" height=\"45.9375\" id=\"E7\" rx=\"10\" ry=\"10\" style=\"stroke: #383838; stroke-width: 1.5;\" width=\"71\" x=\"138.5\" y=\"217.5\"/><text fill=\"#000000\" font-family=\"sans-serif\" font-size=\"12\" font-style=\"italic\" lengthAdjust=\"spacingAndGlyphs\" textLength=\"69\" x=\"139.5\" y=\"233.6387\">«attribute»</text><text fill=\"#000000\" font-family=\"sans-serif\" font-size=\"12\" lengthAdjust=\"spacingAndGlyphs\" textLength=\"6\" x=\"171\" y=\"247.6074\">y</text><line style=\"stroke: #383838; stroke-width: 1.5;\" x1=\"139.5\" x2=\"208.5\" y1=\"255.4375\" y2=\"255.4375\"/></a><!--MD5=[b9389687b975829384b498ac4b7476b2]\n",
       "class E8--><a href=\"psysml:1c42907e-9ca4-4468-bbbb-1ea70701dab3\" target=\"_top\" title=\"psysml:1c42907e-9ca4-4468-bbbb-1ea70701dab3\" xlink:actuate=\"onRequest\" xlink:href=\"psysml:1c42907e-9ca4-4468-bbbb-1ea70701dab3\" xlink:show=\"new\" xlink:title=\"psysml:1c42907e-9ca4-4468-bbbb-1ea70701dab3\" xlink:type=\"simple\"><rect fill=\"#FFFFFF\" height=\"45.9375\" id=\"E8\" rx=\"10\" ry=\"10\" style=\"stroke: #383838; stroke-width: 1.5;\" width=\"71\" x=\"84.5\" y=\"87.5\"/><text fill=\"#000000\" font-family=\"sans-serif\" font-size=\"12\" font-style=\"italic\" lengthAdjust=\"spacingAndGlyphs\" textLength=\"69\" x=\"85.5\" y=\"103.6387\">«attribute»</text><text fill=\"#000000\" font-family=\"sans-serif\" font-size=\"12\" lengthAdjust=\"spacingAndGlyphs\" textLength=\"5\" x=\"117.5\" y=\"117.6074\">z</text><line style=\"stroke: #383838; stroke-width: 1.5;\" x1=\"85.5\" x2=\"154.5\" y1=\"125.4375\" y2=\"125.4375\"/></a><a href=\"psysml:add81eb6-248c-4298-8987-63cd174f8097\" target=\"_top\" title=\"psysml:add81eb6-248c-4298-8987-63cd174f8097\" xlink:actuate=\"onRequest\" xlink:href=\"psysml:add81eb6-248c-4298-8987-63cd174f8097\" xlink:show=\"new\" xlink:title=\"psysml:add81eb6-248c-4298-8987-63cd174f8097\" xlink:type=\"simple\"><polygon fill=\"#FFFFFF\" points=\"271,84,413,84,420,106.2969,427,106.2969,427,136.5938,271,136.5938,271,84\" style=\"stroke: #000000; stroke-width: 1.5;\"/><line style=\"stroke: #000000; stroke-width: 1.5;\" x1=\"271\" x2=\"420\" y1=\"106.2969\" y2=\"106.2969\"/><text fill=\"#000000\" font-family=\"sans-serif\" font-size=\"14\" font-weight=\"bold\" lengthAdjust=\"spacingAndGlyphs\" textLength=\"136\" x=\"275\" y=\"98.9951\">Application Layer</text></a><a href=\"psysml:95ba016d-ba70-4f40-a2b0-65410d9cce5b\" target=\"_top\" title=\"psysml:95ba016d-ba70-4f40-a2b0-65410d9cce5b\" xlink:actuate=\"onRequest\" xlink:href=\"psysml:95ba016d-ba70-4f40-a2b0-65410d9cce5b\" xlink:show=\"new\" xlink:title=\"psysml:95ba016d-ba70-4f40-a2b0-65410d9cce5b\" xlink:type=\"simple\"><polygon fill=\"#FFFFFF\" points=\"285,214,399,214,406,236.2969,413,236.2969,413,266.5938,285,266.5938,285,214\" style=\"stroke: #000000; stroke-width: 1.5;\"/><line style=\"stroke: #000000; stroke-width: 1.5;\" x1=\"285\" x2=\"406\" y1=\"236.2969\" y2=\"236.2969\"/><text fill=\"#000000\" font-family=\"sans-serif\" font-size=\"14\" font-weight=\"bold\" lengthAdjust=\"spacingAndGlyphs\" textLength=\"108\" x=\"289\" y=\"228.9951\">Service Layer</text></a><a href=\"psysml:ae80162e-06ca-4b24-a1f3-10c5d346ebc4\" target=\"_top\" title=\"psysml:ae80162e-06ca-4b24-a1f3-10c5d346ebc4\" xlink:actuate=\"onRequest\" xlink:href=\"psysml:ae80162e-06ca-4b24-a1f3-10c5d346ebc4\" xlink:show=\"new\" xlink:title=\"psysml:ae80162e-06ca-4b24-a1f3-10c5d346ebc4\" xlink:type=\"simple\"><polygon fill=\"#FFFFFF\" points=\"297,344,387,344,394,366.2969,401,366.2969,401,396.5938,297,396.5938,297,344\" style=\"stroke: #000000; stroke-width: 1.5;\"/><line style=\"stroke: #000000; stroke-width: 1.5;\" x1=\"297\" x2=\"394\" y1=\"366.2969\" y2=\"366.2969\"/><text fill=\"#000000\" font-family=\"sans-serif\" font-size=\"14\" font-weight=\"bold\" lengthAdjust=\"spacingAndGlyphs\" textLength=\"84\" x=\"301\" y=\"358.9951\">Data Layer</text></a><!--MD5=[af87c684e3b0d8be13c1a698a818ef1e]\n",
       "link E3 to E4--><a href=\"psysml:4c7b915e-320e-40c7-9399-584f1f84a9d7\" target=\"_top\" title=\"psysml:4c7b915e-320e-40c7-9399-584f1f84a9d7\" xlink:actuate=\"onRequest\" xlink:href=\"psysml:4c7b915e-320e-40c7-9399-584f1f84a9d7\" xlink:show=\"new\" xlink:title=\"psysml:4c7b915e-320e-40c7-9399-584f1f84a9d7\" xlink:type=\"simple\"><path d=\"M349,137.1 C349,156.8 349,184.22 349,205.73 \" fill=\"none\" id=\"E3-&gt;E4\" style=\"stroke: #383838; stroke-width: 1.0; stroke-dasharray: 7.0,7.0;\"/><polygon fill=\"#383838\" points=\"349,213.95,352,205.95,346,205.95,349,213.95\" style=\"stroke: #383838; stroke-width: 1.0;\"/><text fill=\"#000000\" font-family=\"sans-serif\" font-size=\"13\" lengthAdjust=\"spacingAndGlyphs\" textLength=\"64\" x=\"350\" y=\"180.0669\">«depend»</text></a><!--MD5=[1b7591eae5389033d8d09a9d6721a717]\n",
       "link E4 to E5--><a href=\"psysml:9be59ee3-60f5-4004-bc3e-00c0f7693956\" target=\"_top\" title=\"psysml:9be59ee3-60f5-4004-bc3e-00c0f7693956\" xlink:actuate=\"onRequest\" xlink:href=\"psysml:9be59ee3-60f5-4004-bc3e-00c0f7693956\" xlink:show=\"new\" xlink:title=\"psysml:9be59ee3-60f5-4004-bc3e-00c0f7693956\" xlink:type=\"simple\"><path d=\"M349,267.1 C349,286.8 349,314.22 349,335.73 \" fill=\"none\" id=\"E4-&gt;E5\" style=\"stroke: #383838; stroke-width: 1.0; stroke-dasharray: 7.0,7.0;\"/><polygon fill=\"#383838\" points=\"349,343.95,352,335.95,346,335.95,349,343.95\" style=\"stroke: #383838; stroke-width: 1.0;\"/><text fill=\"#000000\" font-family=\"sans-serif\" font-size=\"13\" lengthAdjust=\"spacingAndGlyphs\" textLength=\"64\" x=\"350\" y=\"310.0669\">«depend»</text></a><!--MD5=[c5e8897d989ce984f93528998a7150fe]\n",
       "link E8 to E6--><a href=\"psysml:80784242-98cb-449c-a51f-f2c7c1061d87\" target=\"_top\" title=\"psysml:80784242-98cb-449c-a51f-f2c7c1061d87\" xlink:actuate=\"onRequest\" xlink:href=\"psysml:80784242-98cb-449c-a51f-f2c7c1061d87\" xlink:show=\"new\" xlink:title=\"psysml:80784242-98cb-449c-a51f-f2c7c1061d87\" xlink:type=\"simple\"><path d=\"M89.42,133.6 C79.35,142.68 69.37,154.11 64,167 C58.5,180.2 58.66,195.94 60.54,209.38 \" fill=\"none\" id=\"E8-&gt;E6\" style=\"stroke: #383838; stroke-width: 1.0; stroke-dasharray: 7.0,7.0;\"/><polygon fill=\"#383838\" points=\"61.9,217.4,63.517,209.0104,57.6018,210.0159,61.9,217.4\" style=\"stroke: #383838; stroke-width: 1.0;\"/><text fill=\"#000000\" font-family=\"sans-serif\" font-size=\"13\" lengthAdjust=\"spacingAndGlyphs\" textLength=\"64\" x=\"65\" y=\"180.0669\">«depend»</text></a><!--MD5=[bfa3c8b0d15052fdf50ae9310b491027]\n",
       "link E8 to E7--><a href=\"psysml:80784242-98cb-449c-a51f-f2c7c1061d87\" target=\"_top\" title=\"psysml:80784242-98cb-449c-a51f-f2c7c1061d87\" xlink:actuate=\"onRequest\" xlink:href=\"psysml:80784242-98cb-449c-a51f-f2c7c1061d87\" xlink:show=\"new\" xlink:title=\"psysml:80784242-98cb-449c-a51f-f2c7c1061d87\" xlink:type=\"simple\"><path d=\"M129.28,133.5 C138.17,154.57 151.64,186.5 161.47,209.81 \" fill=\"none\" id=\"E8-&gt;E7\" style=\"stroke: #383838; stroke-width: 1.0; stroke-dasharray: 7.0,7.0;\"/><polygon fill=\"#383838\" points=\"164.66,217.35,164.3241,208.8126,158.7933,211.1385,164.66,217.35\" style=\"stroke: #383838; stroke-width: 1.0;\"/><text fill=\"#000000\" font-family=\"sans-serif\" font-size=\"13\" lengthAdjust=\"spacingAndGlyphs\" textLength=\"64\" x=\"151\" y=\"180.0669\">«depend»</text></a><!--MD5=[b3ae4539abd6fb10195ec82124aaf5ed]\n",
       "@startuml\r\n",
       " skinparam monochrome true\r\n",
       "skinparam classbackgroundcolor white\r\n",
       "skinparam shadowing false\r\n",
       "skinparam wrapWidth 300\r\n",
       "hide circle\r\n",
       "\r\n",
       "package \"DependencyTest\" as E1  [[psysml:438e34af-3ce5-4e99-acf4-d3ecd205ea23 ]]  {\r\n",
       "package \"System\" as E2  [[psysml:33a226aa-95cf-4670-96e1-1bd6e94f796f ]]  {\r\n",
       "package \"Application Layer\" as E3  [[psysml:add81eb6-248c-4298-8987-63cd174f8097 ]]  {\r\n",
       "}\r\n",
       "package \"Service Layer\" as E4  [[psysml:95ba016d-ba70-4f40-a2b0-65410d9cce5b ]]  {\r\n",
       "}\r\n",
       "package \"Data Layer\" as E5  [[psysml:ae80162e-06ca-4b24-a1f3-10c5d346ebc4 ]]  {\r\n",
       "}\r\n",
       "}\r\n",
       "comp usage \"x\" as E6  <<(T,blue)attribute>> [[psysml:747ec202-6e4c-456d-855d-21470db0b7f2 ]] {\r\n",
       "}\r\n",
       "comp usage \"y\" as E7  <<(T,blue)attribute>> [[psysml:aee293b7-b915-4f4d-bf33-13d7af80ad07 ]] {\r\n",
       "}\r\n",
       "comp usage \"z\" as E8  <<(T,blue)attribute>> [[psysml:1c42907e-9ca4-4468-bbbb-1ea70701dab3 ]] {\r\n",
       "}\r\n",
       "E3 ..>> E4 [[psysml:4c7b915e-320e-40c7-9399-584f1f84a9d7 ]] : <<depend>>\r\n",
       "E4 ..>> E5 [[psysml:9be59ee3-60f5-4004-bc3e-00c0f7693956 ]] : <<depend>>\r\n",
       "E8 ..>> E6 [[psysml:80784242-98cb-449c-a51f-f2c7c1061d87 ]] : <<depend>>\r\n",
       "E8 ..>> E7 [[psysml:80784242-98cb-449c-a51f-f2c7c1061d87 ]] : <<depend>>\r\n",
       "}\r\n",
       "@enduml\r\n",
       "\n",
       "PlantUML version 1.2020.13(Sat Jun 13 12:26:38 UTC 2020)\n",
       "(EPL source distribution)\n",
       "Java Runtime: OpenJDK Runtime Environment\n",
       "JVM: OpenJDK 64-Bit Server VM\n",
       "Default Encoding: UTF-8\n",
       "Language: en\n",
       "Country: null\n",
       "--></g></svg>"
      ]
     },
     "execution_count": 8,
     "metadata": {},
     "output_type": "execute_result"
    }
   ],
   "source": [
    "%viz --style=\"COMPTREE\" --view=\"MIXED\" \"DependencyTest\""
   ]
  },
  {
   "cell_type": "code",
   "execution_count": 9,
   "id": "geological-split",
   "metadata": {
    "execution": {
     "iopub.execute_input": "2021-03-25T13:26:14.958274Z",
     "iopub.status.busy": "2021-03-25T13:26:14.957590Z",
     "iopub.status.idle": "2021-03-25T13:26:15.070958Z",
     "shell.execute_reply": "2021-03-25T13:26:15.069329Z"
    }
   },
   "outputs": [
    {
     "data": {
      "image/svg+xml": [
       "<?xml version=\"1.0\" encoding=\"UTF-8\" standalone=\"no\"?><svg xmlns=\"http://www.w3.org/2000/svg\" xmlns:xlink=\"http://www.w3.org/1999/xlink\" contentScriptType=\"application/ecmascript\" contentStyleType=\"text/css\" height=\"449px\" preserveAspectRatio=\"none\" style=\"width:489px;height:449px;\" version=\"1.1\" viewBox=\"0 0 489 449\" width=\"489px\" zoomAndPan=\"magnify\"><defs/><g><!--MD5=[fbc87193dbaf4d95561dea2c320d4a47]\n",
       "cluster E1--><a href=\"psysml:438e34af-3ce5-4e99-acf4-d3ecd205ea23\" target=\"_top\" title=\"psysml:438e34af-3ce5-4e99-acf4-d3ecd205ea23\" xlink:actuate=\"onRequest\" xlink:href=\"psysml:438e34af-3ce5-4e99-acf4-d3ecd205ea23\" xlink:show=\"new\" xlink:title=\"psysml:438e34af-3ce5-4e99-acf4-d3ecd205ea23\" xlink:type=\"simple\"><polygon fill=\"#FFFFFF\" points=\"16,6,156,6,163,28.2969,467,28.2969,467,437,16,437,16,6\" style=\"stroke: #000000; stroke-width: 1.5;\"/><line style=\"stroke: #000000; stroke-width: 1.5;\" x1=\"16\" x2=\"163\" y1=\"28.2969\" y2=\"28.2969\"/><text fill=\"#000000\" font-family=\"sans-serif\" font-size=\"14\" font-weight=\"bold\" lengthAdjust=\"spacingAndGlyphs\" textLength=\"134\" x=\"20\" y=\"20.9951\">DependencyTest</text></a><!--MD5=[e4f7fae6ed58524ba242bb0b0d3be6b7]\n",
       "cluster E2--><a href=\"psysml:33a226aa-95cf-4670-96e1-1bd6e94f796f\" target=\"_top\" title=\"psysml:33a226aa-95cf-4670-96e1-1bd6e94f796f\" xlink:actuate=\"onRequest\" xlink:href=\"psysml:33a226aa-95cf-4670-96e1-1bd6e94f796f\" xlink:show=\"new\" xlink:title=\"psysml:33a226aa-95cf-4670-96e1-1bd6e94f796f\" xlink:type=\"simple\"><polygon fill=\"#FFFFFF\" points=\"255,49,319,49,326,71.2969,443,71.2969,443,413,255,413,255,49\" style=\"stroke: #000000; stroke-width: 1.5;\"/><line style=\"stroke: #000000; stroke-width: 1.5;\" x1=\"255\" x2=\"326\" y1=\"71.2969\" y2=\"71.2969\"/><text fill=\"#000000\" font-family=\"sans-serif\" font-size=\"14\" font-weight=\"bold\" lengthAdjust=\"spacingAndGlyphs\" textLength=\"58\" x=\"259\" y=\"63.9951\">System</text></a><!--MD5=[60a26617385b1d2d0262a64233df1f8d]\n",
       "class E6--><a href=\"psysml:747ec202-6e4c-456d-855d-21470db0b7f2\" target=\"_top\" title=\"psysml:747ec202-6e4c-456d-855d-21470db0b7f2\" xlink:actuate=\"onRequest\" xlink:href=\"psysml:747ec202-6e4c-456d-855d-21470db0b7f2\" xlink:show=\"new\" xlink:title=\"psysml:747ec202-6e4c-456d-855d-21470db0b7f2\" xlink:type=\"simple\"><rect fill=\"#FFFFFF\" height=\"45.9375\" id=\"E6\" rx=\"10\" ry=\"10\" style=\"stroke: #383838; stroke-width: 1.5;\" width=\"71\" x=\"32.5\" y=\"217.5\"/><text fill=\"#000000\" font-family=\"sans-serif\" font-size=\"12\" font-style=\"italic\" lengthAdjust=\"spacingAndGlyphs\" textLength=\"69\" x=\"33.5\" y=\"233.6387\">«attribute»</text><text fill=\"#000000\" font-family=\"sans-serif\" font-size=\"12\" lengthAdjust=\"spacingAndGlyphs\" textLength=\"6\" x=\"65\" y=\"247.6074\">x</text><line style=\"stroke: #383838; stroke-width: 1.5;\" x1=\"33.5\" x2=\"102.5\" y1=\"255.4375\" y2=\"255.4375\"/></a><!--MD5=[2156ba9850f5573cc1fc38a6a4b2f02b]\n",
       "class E7--><a href=\"psysml:aee293b7-b915-4f4d-bf33-13d7af80ad07\" target=\"_top\" title=\"psysml:aee293b7-b915-4f4d-bf33-13d7af80ad07\" xlink:actuate=\"onRequest\" xlink:href=\"psysml:aee293b7-b915-4f4d-bf33-13d7af80ad07\" xlink:show=\"new\" xlink:title=\"psysml:aee293b7-b915-4f4d-bf33-13d7af80ad07\" xlink:type=\"simple\"><rect fill=\"#FFFFFF\" height=\"45.9375\" id=\"E7\" rx=\"10\" ry=\"10\" style=\"stroke: #383838; stroke-width: 1.5;\" width=\"71\" x=\"138.5\" y=\"217.5\"/><text fill=\"#000000\" font-family=\"sans-serif\" font-size=\"12\" font-style=\"italic\" lengthAdjust=\"spacingAndGlyphs\" textLength=\"69\" x=\"139.5\" y=\"233.6387\">«attribute»</text><text fill=\"#000000\" font-family=\"sans-serif\" font-size=\"12\" lengthAdjust=\"spacingAndGlyphs\" textLength=\"6\" x=\"171\" y=\"247.6074\">y</text><line style=\"stroke: #383838; stroke-width: 1.5;\" x1=\"139.5\" x2=\"208.5\" y1=\"255.4375\" y2=\"255.4375\"/></a><!--MD5=[b9389687b975829384b498ac4b7476b2]\n",
       "class E8--><a href=\"psysml:1c42907e-9ca4-4468-bbbb-1ea70701dab3\" target=\"_top\" title=\"psysml:1c42907e-9ca4-4468-bbbb-1ea70701dab3\" xlink:actuate=\"onRequest\" xlink:href=\"psysml:1c42907e-9ca4-4468-bbbb-1ea70701dab3\" xlink:show=\"new\" xlink:title=\"psysml:1c42907e-9ca4-4468-bbbb-1ea70701dab3\" xlink:type=\"simple\"><rect fill=\"#FFFFFF\" height=\"45.9375\" id=\"E8\" rx=\"10\" ry=\"10\" style=\"stroke: #383838; stroke-width: 1.5;\" width=\"71\" x=\"84.5\" y=\"87.5\"/><text fill=\"#000000\" font-family=\"sans-serif\" font-size=\"12\" font-style=\"italic\" lengthAdjust=\"spacingAndGlyphs\" textLength=\"69\" x=\"85.5\" y=\"103.6387\">«attribute»</text><text fill=\"#000000\" font-family=\"sans-serif\" font-size=\"12\" lengthAdjust=\"spacingAndGlyphs\" textLength=\"5\" x=\"117.5\" y=\"117.6074\">z</text><line style=\"stroke: #383838; stroke-width: 1.5;\" x1=\"85.5\" x2=\"154.5\" y1=\"125.4375\" y2=\"125.4375\"/></a><a href=\"psysml:add81eb6-248c-4298-8987-63cd174f8097\" target=\"_top\" title=\"psysml:add81eb6-248c-4298-8987-63cd174f8097\" xlink:actuate=\"onRequest\" xlink:href=\"psysml:add81eb6-248c-4298-8987-63cd174f8097\" xlink:show=\"new\" xlink:title=\"psysml:add81eb6-248c-4298-8987-63cd174f8097\" xlink:type=\"simple\"><polygon fill=\"#FFFFFF\" points=\"271,84,413,84,420,106.2969,427,106.2969,427,136.5938,271,136.5938,271,84\" style=\"stroke: #000000; stroke-width: 1.5;\"/><line style=\"stroke: #000000; stroke-width: 1.5;\" x1=\"271\" x2=\"420\" y1=\"106.2969\" y2=\"106.2969\"/><text fill=\"#000000\" font-family=\"sans-serif\" font-size=\"14\" font-weight=\"bold\" lengthAdjust=\"spacingAndGlyphs\" textLength=\"136\" x=\"275\" y=\"98.9951\">Application Layer</text></a><a href=\"psysml:95ba016d-ba70-4f40-a2b0-65410d9cce5b\" target=\"_top\" title=\"psysml:95ba016d-ba70-4f40-a2b0-65410d9cce5b\" xlink:actuate=\"onRequest\" xlink:href=\"psysml:95ba016d-ba70-4f40-a2b0-65410d9cce5b\" xlink:show=\"new\" xlink:title=\"psysml:95ba016d-ba70-4f40-a2b0-65410d9cce5b\" xlink:type=\"simple\"><polygon fill=\"#FFFFFF\" points=\"285,214,399,214,406,236.2969,413,236.2969,413,266.5938,285,266.5938,285,214\" style=\"stroke: #000000; stroke-width: 1.5;\"/><line style=\"stroke: #000000; stroke-width: 1.5;\" x1=\"285\" x2=\"406\" y1=\"236.2969\" y2=\"236.2969\"/><text fill=\"#000000\" font-family=\"sans-serif\" font-size=\"14\" font-weight=\"bold\" lengthAdjust=\"spacingAndGlyphs\" textLength=\"108\" x=\"289\" y=\"228.9951\">Service Layer</text></a><a href=\"psysml:ae80162e-06ca-4b24-a1f3-10c5d346ebc4\" target=\"_top\" title=\"psysml:ae80162e-06ca-4b24-a1f3-10c5d346ebc4\" xlink:actuate=\"onRequest\" xlink:href=\"psysml:ae80162e-06ca-4b24-a1f3-10c5d346ebc4\" xlink:show=\"new\" xlink:title=\"psysml:ae80162e-06ca-4b24-a1f3-10c5d346ebc4\" xlink:type=\"simple\"><polygon fill=\"#FFFFFF\" points=\"297,344,387,344,394,366.2969,401,366.2969,401,396.5938,297,396.5938,297,344\" style=\"stroke: #000000; stroke-width: 1.5;\"/><line style=\"stroke: #000000; stroke-width: 1.5;\" x1=\"297\" x2=\"394\" y1=\"366.2969\" y2=\"366.2969\"/><text fill=\"#000000\" font-family=\"sans-serif\" font-size=\"14\" font-weight=\"bold\" lengthAdjust=\"spacingAndGlyphs\" textLength=\"84\" x=\"301\" y=\"358.9951\">Data Layer</text></a><!--MD5=[af87c684e3b0d8be13c1a698a818ef1e]\n",
       "link E3 to E4--><a href=\"psysml:4c7b915e-320e-40c7-9399-584f1f84a9d7\" target=\"_top\" title=\"psysml:4c7b915e-320e-40c7-9399-584f1f84a9d7\" xlink:actuate=\"onRequest\" xlink:href=\"psysml:4c7b915e-320e-40c7-9399-584f1f84a9d7\" xlink:show=\"new\" xlink:title=\"psysml:4c7b915e-320e-40c7-9399-584f1f84a9d7\" xlink:type=\"simple\"><path d=\"M349,137.1 C349,156.8 349,184.22 349,205.73 \" fill=\"none\" id=\"E3-&gt;E4\" style=\"stroke: #383838; stroke-width: 1.0; stroke-dasharray: 7.0,7.0;\"/><polygon fill=\"#383838\" points=\"349,213.95,352,205.95,346,205.95,349,213.95\" style=\"stroke: #383838; stroke-width: 1.0;\"/><text fill=\"#000000\" font-family=\"sans-serif\" font-size=\"13\" lengthAdjust=\"spacingAndGlyphs\" textLength=\"64\" x=\"350\" y=\"180.0669\">«depend»</text></a><!--MD5=[1b7591eae5389033d8d09a9d6721a717]\n",
       "link E4 to E5--><a href=\"psysml:9be59ee3-60f5-4004-bc3e-00c0f7693956\" target=\"_top\" title=\"psysml:9be59ee3-60f5-4004-bc3e-00c0f7693956\" xlink:actuate=\"onRequest\" xlink:href=\"psysml:9be59ee3-60f5-4004-bc3e-00c0f7693956\" xlink:show=\"new\" xlink:title=\"psysml:9be59ee3-60f5-4004-bc3e-00c0f7693956\" xlink:type=\"simple\"><path d=\"M349,267.1 C349,286.8 349,314.22 349,335.73 \" fill=\"none\" id=\"E4-&gt;E5\" style=\"stroke: #383838; stroke-width: 1.0; stroke-dasharray: 7.0,7.0;\"/><polygon fill=\"#383838\" points=\"349,343.95,352,335.95,346,335.95,349,343.95\" style=\"stroke: #383838; stroke-width: 1.0;\"/><text fill=\"#000000\" font-family=\"sans-serif\" font-size=\"13\" lengthAdjust=\"spacingAndGlyphs\" textLength=\"64\" x=\"350\" y=\"310.0669\">«depend»</text></a><!--MD5=[c5e8897d989ce984f93528998a7150fe]\n",
       "link E8 to E6--><a href=\"psysml:80784242-98cb-449c-a51f-f2c7c1061d87\" target=\"_top\" title=\"psysml:80784242-98cb-449c-a51f-f2c7c1061d87\" xlink:actuate=\"onRequest\" xlink:href=\"psysml:80784242-98cb-449c-a51f-f2c7c1061d87\" xlink:show=\"new\" xlink:title=\"psysml:80784242-98cb-449c-a51f-f2c7c1061d87\" xlink:type=\"simple\"><path d=\"M97.55,133.75 C81.97,149.19 64,167 64,167 C64,167 64,184 64,184 C64,184 64.88,196.21 65.81,209.18 \" fill=\"none\" id=\"E8-&gt;E6\" style=\"stroke: #383838; stroke-width: 1.0; stroke-dasharray: 7.0,7.0;\"/><polygon fill=\"#383838\" points=\"66.4,217.25,68.8203,209.056,62.8357,209.485,66.4,217.25\" style=\"stroke: #383838; stroke-width: 1.0;\"/><text fill=\"#000000\" font-family=\"sans-serif\" font-size=\"13\" lengthAdjust=\"spacingAndGlyphs\" textLength=\"64\" x=\"65\" y=\"180.0669\">«depend»</text></a><!--MD5=[bfa3c8b0d15052fdf50ae9310b491027]\n",
       "link E8 to E7--><a href=\"psysml:80784242-98cb-449c-a51f-f2c7c1061d87\" target=\"_top\" title=\"psysml:80784242-98cb-449c-a51f-f2c7c1061d87\" xlink:actuate=\"onRequest\" xlink:href=\"psysml:80784242-98cb-449c-a51f-f2c7c1061d87\" xlink:show=\"new\" xlink:title=\"psysml:80784242-98cb-449c-a51f-f2c7c1061d87\" xlink:type=\"simple\"><path d=\"M129.28,133.5 C138.17,154.57 151.64,186.5 161.47,209.81 \" fill=\"none\" id=\"E8-&gt;E7\" style=\"stroke: #383838; stroke-width: 1.0; stroke-dasharray: 7.0,7.0;\"/><polygon fill=\"#383838\" points=\"164.66,217.35,164.3241,208.8126,158.7933,211.1385,164.66,217.35\" style=\"stroke: #383838; stroke-width: 1.0;\"/><text fill=\"#000000\" font-family=\"sans-serif\" font-size=\"13\" lengthAdjust=\"spacingAndGlyphs\" textLength=\"64\" x=\"151\" y=\"180.0669\">«depend»</text></a><!--MD5=[1260b58724278963db9c38e6afbc9deb]\n",
       "@startuml\r\n",
       "skinparam linetype polyline\r\n",
       "skinparam monochrome true\r\n",
       "skinparam classbackgroundcolor white\r\n",
       "skinparam shadowing false\r\n",
       "skinparam wrapWidth 300\r\n",
       "hide circle\r\n",
       "\r\n",
       "package \"DependencyTest\" as E1  [[psysml:438e34af-3ce5-4e99-acf4-d3ecd205ea23 ]]  {\r\n",
       "package \"System\" as E2  [[psysml:33a226aa-95cf-4670-96e1-1bd6e94f796f ]]  {\r\n",
       "package \"Application Layer\" as E3  [[psysml:add81eb6-248c-4298-8987-63cd174f8097 ]]  {\r\n",
       "}\r\n",
       "package \"Service Layer\" as E4  [[psysml:95ba016d-ba70-4f40-a2b0-65410d9cce5b ]]  {\r\n",
       "}\r\n",
       "package \"Data Layer\" as E5  [[psysml:ae80162e-06ca-4b24-a1f3-10c5d346ebc4 ]]  {\r\n",
       "}\r\n",
       "}\r\n",
       "comp usage \"x\" as E6  <<(T,blue)attribute>> [[psysml:747ec202-6e4c-456d-855d-21470db0b7f2 ]] {\r\n",
       "}\r\n",
       "comp usage \"y\" as E7  <<(T,blue)attribute>> [[psysml:aee293b7-b915-4f4d-bf33-13d7af80ad07 ]] {\r\n",
       "}\r\n",
       "comp usage \"z\" as E8  <<(T,blue)attribute>> [[psysml:1c42907e-9ca4-4468-bbbb-1ea70701dab3 ]] {\r\n",
       "}\r\n",
       "E3 ..>> E4 [[psysml:4c7b915e-320e-40c7-9399-584f1f84a9d7 ]] : <<depend>>\r\n",
       "E4 ..>> E5 [[psysml:9be59ee3-60f5-4004-bc3e-00c0f7693956 ]] : <<depend>>\r\n",
       "E8 ..>> E6 [[psysml:80784242-98cb-449c-a51f-f2c7c1061d87 ]] : <<depend>>\r\n",
       "E8 ..>> E7 [[psysml:80784242-98cb-449c-a51f-f2c7c1061d87 ]] : <<depend>>\r\n",
       "}\r\n",
       "@enduml\r\n",
       "\n",
       "PlantUML version 1.2020.13(Sat Jun 13 12:26:38 UTC 2020)\n",
       "(EPL source distribution)\n",
       "Java Runtime: OpenJDK Runtime Environment\n",
       "JVM: OpenJDK 64-Bit Server VM\n",
       "Default Encoding: UTF-8\n",
       "Language: en\n",
       "Country: null\n",
       "--></g></svg>"
      ]
     },
     "execution_count": 9,
     "metadata": {},
     "output_type": "execute_result"
    }
   ],
   "source": [
    "%viz --style=\"POLYLINE\" --view=\"Default\" \"DependencyTest\""
   ]
  },
  {
   "cell_type": "code",
   "execution_count": 10,
   "id": "pleased-agency",
   "metadata": {
    "execution": {
     "iopub.execute_input": "2021-03-25T13:26:15.124025Z",
     "iopub.status.busy": "2021-03-25T13:26:15.122499Z",
     "iopub.status.idle": "2021-03-25T13:26:15.243061Z",
     "shell.execute_reply": "2021-03-25T13:26:15.243594Z"
    }
   },
   "outputs": [
    {
     "data": {
      "image/svg+xml": [
       "<?xml version=\"1.0\" encoding=\"UTF-8\" standalone=\"no\"?><svg xmlns=\"http://www.w3.org/2000/svg\" xmlns:xlink=\"http://www.w3.org/1999/xlink\" contentScriptType=\"application/ecmascript\" contentStyleType=\"text/css\" height=\"449px\" preserveAspectRatio=\"none\" style=\"width:489px;height:449px;\" version=\"1.1\" viewBox=\"0 0 489 449\" width=\"489px\" zoomAndPan=\"magnify\"><defs/><g><!--MD5=[fbc87193dbaf4d95561dea2c320d4a47]\n",
       "cluster E1--><a href=\"psysml:438e34af-3ce5-4e99-acf4-d3ecd205ea23\" target=\"_top\" title=\"psysml:438e34af-3ce5-4e99-acf4-d3ecd205ea23\" xlink:actuate=\"onRequest\" xlink:href=\"psysml:438e34af-3ce5-4e99-acf4-d3ecd205ea23\" xlink:show=\"new\" xlink:title=\"psysml:438e34af-3ce5-4e99-acf4-d3ecd205ea23\" xlink:type=\"simple\"><polygon fill=\"#FFFFFF\" points=\"16,6,156,6,163,28.2969,467,28.2969,467,437,16,437,16,6\" style=\"stroke: #000000; stroke-width: 1.5;\"/><line style=\"stroke: #000000; stroke-width: 1.5;\" x1=\"16\" x2=\"163\" y1=\"28.2969\" y2=\"28.2969\"/><text fill=\"#000000\" font-family=\"sans-serif\" font-size=\"14\" font-weight=\"bold\" lengthAdjust=\"spacingAndGlyphs\" textLength=\"134\" x=\"20\" y=\"20.9951\">DependencyTest</text></a><!--MD5=[e4f7fae6ed58524ba242bb0b0d3be6b7]\n",
       "cluster E2--><a href=\"psysml:33a226aa-95cf-4670-96e1-1bd6e94f796f\" target=\"_top\" title=\"psysml:33a226aa-95cf-4670-96e1-1bd6e94f796f\" xlink:actuate=\"onRequest\" xlink:href=\"psysml:33a226aa-95cf-4670-96e1-1bd6e94f796f\" xlink:show=\"new\" xlink:title=\"psysml:33a226aa-95cf-4670-96e1-1bd6e94f796f\" xlink:type=\"simple\"><polygon fill=\"#FFFFFF\" points=\"255,49,319,49,326,71.2969,443,71.2969,443,413,255,413,255,49\" style=\"stroke: #000000; stroke-width: 1.5;\"/><line style=\"stroke: #000000; stroke-width: 1.5;\" x1=\"255\" x2=\"326\" y1=\"71.2969\" y2=\"71.2969\"/><text fill=\"#000000\" font-family=\"sans-serif\" font-size=\"14\" font-weight=\"bold\" lengthAdjust=\"spacingAndGlyphs\" textLength=\"58\" x=\"259\" y=\"63.9951\">System</text></a><!--MD5=[60a26617385b1d2d0262a64233df1f8d]\n",
       "class E6--><a href=\"psysml:747ec202-6e4c-456d-855d-21470db0b7f2\" target=\"_top\" title=\"psysml:747ec202-6e4c-456d-855d-21470db0b7f2\" xlink:actuate=\"onRequest\" xlink:href=\"psysml:747ec202-6e4c-456d-855d-21470db0b7f2\" xlink:show=\"new\" xlink:title=\"psysml:747ec202-6e4c-456d-855d-21470db0b7f2\" xlink:type=\"simple\"><rect fill=\"#FFFFFF\" height=\"45.9375\" id=\"E6\" rx=\"10\" ry=\"10\" style=\"stroke: #383838; stroke-width: 1.5;\" width=\"71\" x=\"32.5\" y=\"217.5\"/><text fill=\"#000000\" font-family=\"sans-serif\" font-size=\"12\" font-style=\"italic\" lengthAdjust=\"spacingAndGlyphs\" textLength=\"69\" x=\"33.5\" y=\"233.6387\">«attribute»</text><text fill=\"#000000\" font-family=\"sans-serif\" font-size=\"12\" lengthAdjust=\"spacingAndGlyphs\" textLength=\"6\" x=\"65\" y=\"247.6074\">x</text><line style=\"stroke: #383838; stroke-width: 1.5;\" x1=\"33.5\" x2=\"102.5\" y1=\"255.4375\" y2=\"255.4375\"/></a><!--MD5=[2156ba9850f5573cc1fc38a6a4b2f02b]\n",
       "class E7--><a href=\"psysml:aee293b7-b915-4f4d-bf33-13d7af80ad07\" target=\"_top\" title=\"psysml:aee293b7-b915-4f4d-bf33-13d7af80ad07\" xlink:actuate=\"onRequest\" xlink:href=\"psysml:aee293b7-b915-4f4d-bf33-13d7af80ad07\" xlink:show=\"new\" xlink:title=\"psysml:aee293b7-b915-4f4d-bf33-13d7af80ad07\" xlink:type=\"simple\"><rect fill=\"#FFFFFF\" height=\"45.9375\" id=\"E7\" rx=\"10\" ry=\"10\" style=\"stroke: #383838; stroke-width: 1.5;\" width=\"71\" x=\"138.5\" y=\"217.5\"/><text fill=\"#000000\" font-family=\"sans-serif\" font-size=\"12\" font-style=\"italic\" lengthAdjust=\"spacingAndGlyphs\" textLength=\"69\" x=\"139.5\" y=\"233.6387\">«attribute»</text><text fill=\"#000000\" font-family=\"sans-serif\" font-size=\"12\" lengthAdjust=\"spacingAndGlyphs\" textLength=\"6\" x=\"171\" y=\"247.6074\">y</text><line style=\"stroke: #383838; stroke-width: 1.5;\" x1=\"139.5\" x2=\"208.5\" y1=\"255.4375\" y2=\"255.4375\"/></a><!--MD5=[b9389687b975829384b498ac4b7476b2]\n",
       "class E8--><a href=\"psysml:1c42907e-9ca4-4468-bbbb-1ea70701dab3\" target=\"_top\" title=\"psysml:1c42907e-9ca4-4468-bbbb-1ea70701dab3\" xlink:actuate=\"onRequest\" xlink:href=\"psysml:1c42907e-9ca4-4468-bbbb-1ea70701dab3\" xlink:show=\"new\" xlink:title=\"psysml:1c42907e-9ca4-4468-bbbb-1ea70701dab3\" xlink:type=\"simple\"><rect fill=\"#FFFFFF\" height=\"45.9375\" id=\"E8\" rx=\"10\" ry=\"10\" style=\"stroke: #383838; stroke-width: 1.5;\" width=\"71\" x=\"84.5\" y=\"87.5\"/><text fill=\"#000000\" font-family=\"sans-serif\" font-size=\"12\" font-style=\"italic\" lengthAdjust=\"spacingAndGlyphs\" textLength=\"69\" x=\"85.5\" y=\"103.6387\">«attribute»</text><text fill=\"#000000\" font-family=\"sans-serif\" font-size=\"12\" lengthAdjust=\"spacingAndGlyphs\" textLength=\"5\" x=\"117.5\" y=\"117.6074\">z</text><line style=\"stroke: #383838; stroke-width: 1.5;\" x1=\"85.5\" x2=\"154.5\" y1=\"125.4375\" y2=\"125.4375\"/></a><a href=\"psysml:add81eb6-248c-4298-8987-63cd174f8097\" target=\"_top\" title=\"psysml:add81eb6-248c-4298-8987-63cd174f8097\" xlink:actuate=\"onRequest\" xlink:href=\"psysml:add81eb6-248c-4298-8987-63cd174f8097\" xlink:show=\"new\" xlink:title=\"psysml:add81eb6-248c-4298-8987-63cd174f8097\" xlink:type=\"simple\"><polygon fill=\"#FFFFFF\" points=\"271,84,413,84,420,106.2969,427,106.2969,427,136.5938,271,136.5938,271,84\" style=\"stroke: #000000; stroke-width: 1.5;\"/><line style=\"stroke: #000000; stroke-width: 1.5;\" x1=\"271\" x2=\"420\" y1=\"106.2969\" y2=\"106.2969\"/><text fill=\"#000000\" font-family=\"sans-serif\" font-size=\"14\" font-weight=\"bold\" lengthAdjust=\"spacingAndGlyphs\" textLength=\"136\" x=\"275\" y=\"98.9951\">Application Layer</text></a><a href=\"psysml:95ba016d-ba70-4f40-a2b0-65410d9cce5b\" target=\"_top\" title=\"psysml:95ba016d-ba70-4f40-a2b0-65410d9cce5b\" xlink:actuate=\"onRequest\" xlink:href=\"psysml:95ba016d-ba70-4f40-a2b0-65410d9cce5b\" xlink:show=\"new\" xlink:title=\"psysml:95ba016d-ba70-4f40-a2b0-65410d9cce5b\" xlink:type=\"simple\"><polygon fill=\"#FFFFFF\" points=\"285,214,399,214,406,236.2969,413,236.2969,413,266.5938,285,266.5938,285,214\" style=\"stroke: #000000; stroke-width: 1.5;\"/><line style=\"stroke: #000000; stroke-width: 1.5;\" x1=\"285\" x2=\"406\" y1=\"236.2969\" y2=\"236.2969\"/><text fill=\"#000000\" font-family=\"sans-serif\" font-size=\"14\" font-weight=\"bold\" lengthAdjust=\"spacingAndGlyphs\" textLength=\"108\" x=\"289\" y=\"228.9951\">Service Layer</text></a><a href=\"psysml:ae80162e-06ca-4b24-a1f3-10c5d346ebc4\" target=\"_top\" title=\"psysml:ae80162e-06ca-4b24-a1f3-10c5d346ebc4\" xlink:actuate=\"onRequest\" xlink:href=\"psysml:ae80162e-06ca-4b24-a1f3-10c5d346ebc4\" xlink:show=\"new\" xlink:title=\"psysml:ae80162e-06ca-4b24-a1f3-10c5d346ebc4\" xlink:type=\"simple\"><polygon fill=\"#FFFFFF\" points=\"297,344,387,344,394,366.2969,401,366.2969,401,396.5938,297,396.5938,297,344\" style=\"stroke: #000000; stroke-width: 1.5;\"/><line style=\"stroke: #000000; stroke-width: 1.5;\" x1=\"297\" x2=\"394\" y1=\"366.2969\" y2=\"366.2969\"/><text fill=\"#000000\" font-family=\"sans-serif\" font-size=\"14\" font-weight=\"bold\" lengthAdjust=\"spacingAndGlyphs\" textLength=\"84\" x=\"301\" y=\"358.9951\">Data Layer</text></a><!--MD5=[af87c684e3b0d8be13c1a698a818ef1e]\n",
       "link E3 to E4--><a href=\"psysml:4c7b915e-320e-40c7-9399-584f1f84a9d7\" target=\"_top\" title=\"psysml:4c7b915e-320e-40c7-9399-584f1f84a9d7\" xlink:actuate=\"onRequest\" xlink:href=\"psysml:4c7b915e-320e-40c7-9399-584f1f84a9d7\" xlink:show=\"new\" xlink:title=\"psysml:4c7b915e-320e-40c7-9399-584f1f84a9d7\" xlink:type=\"simple\"><path d=\"M349,137.1 C349,156.8 349,184.22 349,205.73 \" fill=\"none\" id=\"E3-&gt;E4\" style=\"stroke: #383838; stroke-width: 1.0; stroke-dasharray: 7.0,7.0;\"/><polygon fill=\"#383838\" points=\"349,213.95,352,205.95,346,205.95,349,213.95\" style=\"stroke: #383838; stroke-width: 1.0;\"/><text fill=\"#000000\" font-family=\"sans-serif\" font-size=\"13\" lengthAdjust=\"spacingAndGlyphs\" textLength=\"64\" x=\"350\" y=\"180.0669\">«depend»</text></a><!--MD5=[1b7591eae5389033d8d09a9d6721a717]\n",
       "link E4 to E5--><a href=\"psysml:9be59ee3-60f5-4004-bc3e-00c0f7693956\" target=\"_top\" title=\"psysml:9be59ee3-60f5-4004-bc3e-00c0f7693956\" xlink:actuate=\"onRequest\" xlink:href=\"psysml:9be59ee3-60f5-4004-bc3e-00c0f7693956\" xlink:show=\"new\" xlink:title=\"psysml:9be59ee3-60f5-4004-bc3e-00c0f7693956\" xlink:type=\"simple\"><path d=\"M349,267.1 C349,286.8 349,314.22 349,335.73 \" fill=\"none\" id=\"E4-&gt;E5\" style=\"stroke: #383838; stroke-width: 1.0; stroke-dasharray: 7.0,7.0;\"/><polygon fill=\"#383838\" points=\"349,343.95,352,335.95,346,335.95,349,343.95\" style=\"stroke: #383838; stroke-width: 1.0;\"/><text fill=\"#000000\" font-family=\"sans-serif\" font-size=\"13\" lengthAdjust=\"spacingAndGlyphs\" textLength=\"64\" x=\"350\" y=\"310.0669\">«depend»</text></a><!--MD5=[c5e8897d989ce984f93528998a7150fe]\n",
       "link E8 to E6--><a href=\"psysml:80784242-98cb-449c-a51f-f2c7c1061d87\" target=\"_top\" title=\"psysml:80784242-98cb-449c-a51f-f2c7c1061d87\" xlink:actuate=\"onRequest\" xlink:href=\"psysml:80784242-98cb-449c-a51f-f2c7c1061d87\" xlink:show=\"new\" xlink:title=\"psysml:80784242-98cb-449c-a51f-f2c7c1061d87\" xlink:type=\"simple\"><path d=\"M97.55,133.75 C81.97,149.19 64,167 64,167 C64,167 64,184 64,184 C64,184 64.88,196.21 65.81,209.18 \" fill=\"none\" id=\"E8-&gt;E6\" style=\"stroke: #383838; stroke-width: 1.0; stroke-dasharray: 7.0,7.0;\"/><polygon fill=\"#383838\" points=\"66.4,217.25,68.8203,209.056,62.8357,209.485,66.4,217.25\" style=\"stroke: #383838; stroke-width: 1.0;\"/><text fill=\"#000000\" font-family=\"sans-serif\" font-size=\"13\" lengthAdjust=\"spacingAndGlyphs\" textLength=\"64\" x=\"65\" y=\"180.0669\">«depend»</text></a><!--MD5=[bfa3c8b0d15052fdf50ae9310b491027]\n",
       "link E8 to E7--><a href=\"psysml:80784242-98cb-449c-a51f-f2c7c1061d87\" target=\"_top\" title=\"psysml:80784242-98cb-449c-a51f-f2c7c1061d87\" xlink:actuate=\"onRequest\" xlink:href=\"psysml:80784242-98cb-449c-a51f-f2c7c1061d87\" xlink:show=\"new\" xlink:title=\"psysml:80784242-98cb-449c-a51f-f2c7c1061d87\" xlink:type=\"simple\"><path d=\"M129.28,133.5 C138.17,154.57 151.64,186.5 161.47,209.81 \" fill=\"none\" id=\"E8-&gt;E7\" style=\"stroke: #383838; stroke-width: 1.0; stroke-dasharray: 7.0,7.0;\"/><polygon fill=\"#383838\" points=\"164.66,217.35,164.3241,208.8126,158.7933,211.1385,164.66,217.35\" style=\"stroke: #383838; stroke-width: 1.0;\"/><text fill=\"#000000\" font-family=\"sans-serif\" font-size=\"13\" lengthAdjust=\"spacingAndGlyphs\" textLength=\"64\" x=\"151\" y=\"180.0669\">«depend»</text></a><!--MD5=[1260b58724278963db9c38e6afbc9deb]\n",
       "@startuml\r\n",
       "skinparam linetype polyline\r\n",
       "skinparam monochrome true\r\n",
       "skinparam classbackgroundcolor white\r\n",
       "skinparam shadowing false\r\n",
       "skinparam wrapWidth 300\r\n",
       "hide circle\r\n",
       "\r\n",
       "package \"DependencyTest\" as E1  [[psysml:438e34af-3ce5-4e99-acf4-d3ecd205ea23 ]]  {\r\n",
       "package \"System\" as E2  [[psysml:33a226aa-95cf-4670-96e1-1bd6e94f796f ]]  {\r\n",
       "package \"Application Layer\" as E3  [[psysml:add81eb6-248c-4298-8987-63cd174f8097 ]]  {\r\n",
       "}\r\n",
       "package \"Service Layer\" as E4  [[psysml:95ba016d-ba70-4f40-a2b0-65410d9cce5b ]]  {\r\n",
       "}\r\n",
       "package \"Data Layer\" as E5  [[psysml:ae80162e-06ca-4b24-a1f3-10c5d346ebc4 ]]  {\r\n",
       "}\r\n",
       "}\r\n",
       "comp usage \"x\" as E6  <<(T,blue)attribute>> [[psysml:747ec202-6e4c-456d-855d-21470db0b7f2 ]] {\r\n",
       "}\r\n",
       "comp usage \"y\" as E7  <<(T,blue)attribute>> [[psysml:aee293b7-b915-4f4d-bf33-13d7af80ad07 ]] {\r\n",
       "}\r\n",
       "comp usage \"z\" as E8  <<(T,blue)attribute>> [[psysml:1c42907e-9ca4-4468-bbbb-1ea70701dab3 ]] {\r\n",
       "}\r\n",
       "E3 ..>> E4 [[psysml:4c7b915e-320e-40c7-9399-584f1f84a9d7 ]] : <<depend>>\r\n",
       "E4 ..>> E5 [[psysml:9be59ee3-60f5-4004-bc3e-00c0f7693956 ]] : <<depend>>\r\n",
       "E8 ..>> E6 [[psysml:80784242-98cb-449c-a51f-f2c7c1061d87 ]] : <<depend>>\r\n",
       "E8 ..>> E7 [[psysml:80784242-98cb-449c-a51f-f2c7c1061d87 ]] : <<depend>>\r\n",
       "}\r\n",
       "@enduml\r\n",
       "\n",
       "PlantUML version 1.2020.13(Sat Jun 13 12:26:38 UTC 2020)\n",
       "(EPL source distribution)\n",
       "Java Runtime: OpenJDK Runtime Environment\n",
       "JVM: OpenJDK 64-Bit Server VM\n",
       "Default Encoding: UTF-8\n",
       "Language: en\n",
       "Country: null\n",
       "--></g></svg>"
      ]
     },
     "execution_count": 10,
     "metadata": {},
     "output_type": "execute_result"
    }
   ],
   "source": [
    "%viz --style=\"POLYLINE\" --view=\"Tree\" \"DependencyTest\""
   ]
  },
  {
   "cell_type": "code",
   "execution_count": 11,
   "id": "constitutional-fossil",
   "metadata": {
    "execution": {
     "iopub.execute_input": "2021-03-25T13:26:15.295261Z",
     "iopub.status.busy": "2021-03-25T13:26:15.294446Z",
     "iopub.status.idle": "2021-03-25T13:26:15.303333Z",
     "shell.execute_reply": "2021-03-25T13:26:15.303735Z"
    }
   },
   "outputs": [
    {
     "data": {
      "image/svg+xml": [
       "<?xml version=\"1.0\" encoding=\"UTF-8\" standalone=\"no\"?><svg xmlns=\"http://www.w3.org/2000/svg\" xmlns:xlink=\"http://www.w3.org/1999/xlink\" contentScriptType=\"application/ecmascript\" contentStyleType=\"text/css\" height=\"12px\" preserveAspectRatio=\"none\" style=\"width:12px;height:12px;\" version=\"1.1\" viewBox=\"0 0 12 12\" width=\"12px\" zoomAndPan=\"magnify\"><defs/><g><!--MD5=[896ac0e7a515d8dd7765a661cb4ee08b]\n",
       "@startuml\r\n",
       "skinparam linetype polyline\r\n",
       "skinparam monochrome true\r\n",
       "skinparam classbackgroundcolor white\r\n",
       "skinparam shadowing false\r\n",
       "skinparam wrapWidth 300\r\n",
       "hide circle\r\n",
       "\r\n",
       "@enduml\r\n",
       "\n",
       "PlantUML version 1.2020.13(Sat Jun 13 12:26:38 UTC 2020)\n",
       "(EPL source distribution)\n",
       "Java Runtime: OpenJDK Runtime Environment\n",
       "JVM: OpenJDK 64-Bit Server VM\n",
       "Default Encoding: UTF-8\n",
       "Language: en\n",
       "Country: null\n",
       "--></g></svg>"
      ]
     },
     "execution_count": 11,
     "metadata": {},
     "output_type": "execute_result"
    }
   ],
   "source": [
    "%viz --style=\"POLYLINE\" --view=\"State\" \"DependencyTest\""
   ]
  },
  {
   "cell_type": "code",
   "execution_count": 12,
   "id": "grand-retro",
   "metadata": {
    "execution": {
     "iopub.execute_input": "2021-03-25T13:26:15.357255Z",
     "iopub.status.busy": "2021-03-25T13:26:15.356166Z",
     "iopub.status.idle": "2021-03-25T13:26:15.465647Z",
     "shell.execute_reply": "2021-03-25T13:26:15.464019Z"
    }
   },
   "outputs": [
    {
     "data": {
      "image/svg+xml": [
       "<?xml version=\"1.0\" encoding=\"UTF-8\" standalone=\"no\"?><svg xmlns=\"http://www.w3.org/2000/svg\" xmlns:xlink=\"http://www.w3.org/1999/xlink\" contentScriptType=\"application/ecmascript\" contentStyleType=\"text/css\" height=\"361px\" preserveAspectRatio=\"none\" style=\"width:489px;height:361px;\" version=\"1.1\" viewBox=\"0 0 489 361\" width=\"489px\" zoomAndPan=\"magnify\"><defs/><g><!--MD5=[fbc87193dbaf4d95561dea2c320d4a47]\n",
       "cluster E1--><a href=\"psysml:438e34af-3ce5-4e99-acf4-d3ecd205ea23\" target=\"_top\" title=\"psysml:438e34af-3ce5-4e99-acf4-d3ecd205ea23\" xlink:actuate=\"onRequest\" xlink:href=\"psysml:438e34af-3ce5-4e99-acf4-d3ecd205ea23\" xlink:show=\"new\" xlink:title=\"psysml:438e34af-3ce5-4e99-acf4-d3ecd205ea23\" xlink:type=\"simple\"><polygon fill=\"#FFFFFF\" points=\"16,6,156,6,163,28.2969,467,28.2969,467,349,16,349,16,6\" style=\"stroke: #000000; stroke-width: 1.5;\"/><line style=\"stroke: #000000; stroke-width: 1.5;\" x1=\"16\" x2=\"163\" y1=\"28.2969\" y2=\"28.2969\"/><text fill=\"#000000\" font-family=\"sans-serif\" font-size=\"14\" font-weight=\"bold\" lengthAdjust=\"spacingAndGlyphs\" textLength=\"134\" x=\"20\" y=\"20.9951\">DependencyTest</text></a><!--MD5=[e4f7fae6ed58524ba242bb0b0d3be6b7]\n",
       "cluster E2--><a href=\"psysml:33a226aa-95cf-4670-96e1-1bd6e94f796f\" target=\"_top\" title=\"psysml:33a226aa-95cf-4670-96e1-1bd6e94f796f\" xlink:actuate=\"onRequest\" xlink:href=\"psysml:33a226aa-95cf-4670-96e1-1bd6e94f796f\" xlink:show=\"new\" xlink:title=\"psysml:33a226aa-95cf-4670-96e1-1bd6e94f796f\" xlink:type=\"simple\"><polygon fill=\"#FFFFFF\" points=\"255,49,319,49,326,71.2969,443,71.2969,443,325,255,325,255,49\" style=\"stroke: #000000; stroke-width: 1.5;\"/><line style=\"stroke: #000000; stroke-width: 1.5;\" x1=\"255\" x2=\"326\" y1=\"71.2969\" y2=\"71.2969\"/><text fill=\"#000000\" font-family=\"sans-serif\" font-size=\"14\" font-weight=\"bold\" lengthAdjust=\"spacingAndGlyphs\" textLength=\"58\" x=\"259\" y=\"63.9951\">System</text></a><a href=\"psysml:add81eb6-248c-4298-8987-63cd174f8097\" target=\"_top\" title=\"psysml:add81eb6-248c-4298-8987-63cd174f8097\" xlink:actuate=\"onRequest\" xlink:href=\"psysml:add81eb6-248c-4298-8987-63cd174f8097\" xlink:show=\"new\" xlink:title=\"psysml:add81eb6-248c-4298-8987-63cd174f8097\" xlink:type=\"simple\"><polygon fill=\"#FFFFFF\" points=\"271,84,413,84,420,106.2969,427,106.2969,427,136.5938,271,136.5938,271,84\" style=\"stroke: #000000; stroke-width: 1.5;\"/><line style=\"stroke: #000000; stroke-width: 1.5;\" x1=\"271\" x2=\"420\" y1=\"106.2969\" y2=\"106.2969\"/><text fill=\"#000000\" font-family=\"sans-serif\" font-size=\"14\" font-weight=\"bold\" lengthAdjust=\"spacingAndGlyphs\" textLength=\"136\" x=\"275\" y=\"98.9951\">Application Layer</text></a><a href=\"psysml:95ba016d-ba70-4f40-a2b0-65410d9cce5b\" target=\"_top\" title=\"psysml:95ba016d-ba70-4f40-a2b0-65410d9cce5b\" xlink:actuate=\"onRequest\" xlink:href=\"psysml:95ba016d-ba70-4f40-a2b0-65410d9cce5b\" xlink:show=\"new\" xlink:title=\"psysml:95ba016d-ba70-4f40-a2b0-65410d9cce5b\" xlink:type=\"simple\"><polygon fill=\"#FFFFFF\" points=\"285,170,399,170,406,192.2969,413,192.2969,413,222.5938,285,222.5938,285,170\" style=\"stroke: #000000; stroke-width: 1.5;\"/><line style=\"stroke: #000000; stroke-width: 1.5;\" x1=\"285\" x2=\"406\" y1=\"192.2969\" y2=\"192.2969\"/><text fill=\"#000000\" font-family=\"sans-serif\" font-size=\"14\" font-weight=\"bold\" lengthAdjust=\"spacingAndGlyphs\" textLength=\"108\" x=\"289\" y=\"184.9951\">Service Layer</text></a><a href=\"psysml:ae80162e-06ca-4b24-a1f3-10c5d346ebc4\" target=\"_top\" title=\"psysml:ae80162e-06ca-4b24-a1f3-10c5d346ebc4\" xlink:actuate=\"onRequest\" xlink:href=\"psysml:ae80162e-06ca-4b24-a1f3-10c5d346ebc4\" xlink:show=\"new\" xlink:title=\"psysml:ae80162e-06ca-4b24-a1f3-10c5d346ebc4\" xlink:type=\"simple\"><polygon fill=\"#FFFFFF\" points=\"297,256,387,256,394,278.2969,401,278.2969,401,308.5938,297,308.5938,297,256\" style=\"stroke: #000000; stroke-width: 1.5;\"/><line style=\"stroke: #000000; stroke-width: 1.5;\" x1=\"297\" x2=\"394\" y1=\"278.2969\" y2=\"278.2969\"/><text fill=\"#000000\" font-family=\"sans-serif\" font-size=\"14\" font-weight=\"bold\" lengthAdjust=\"spacingAndGlyphs\" textLength=\"84\" x=\"301\" y=\"270.9951\">Data Layer</text></a><g id=\"E1.E6\"><a href=\"psysml:747ec202-6e4c-456d-855d-21470db0b7f2\" target=\"_top\" title=\"psysml:747ec202-6e4c-456d-855d-21470db0b7f2\" xlink:actuate=\"onRequest\" xlink:href=\"psysml:747ec202-6e4c-456d-855d-21470db0b7f2\" xlink:show=\"new\" xlink:title=\"psysml:747ec202-6e4c-456d-855d-21470db0b7f2\" xlink:type=\"simple\"><rect fill=\"#FFFFFF\" height=\"42.9375\" id=\"E6\" rx=\"10\" ry=\"10\" style=\"stroke: #383838; stroke-width: 1.5;\" width=\"76\" x=\"32\" y=\"175\"/><rect fill=\"#F8F8F8\" height=\"37.9375\" rx=\"10\" ry=\"10\" style=\"stroke: #F8F8F8; stroke-width: 1.5;\" width=\"76\" x=\"32\" y=\"175\"/><rect fill=\"#F8F8F8\" height=\"10\" style=\"stroke: #F8F8F8; stroke-width: 1.5;\" width=\"76\" x=\"32\" y=\"202.9375\"/><rect fill=\"none\" height=\"42.9375\" id=\"E6\" rx=\"10\" ry=\"10\" style=\"stroke: #383838; stroke-width: 1.5;\" width=\"76\" x=\"32\" y=\"175\"/><text fill=\"#000000\" font-family=\"sans-serif\" font-size=\"12\" font-style=\"italic\" lengthAdjust=\"spacingAndGlyphs\" textLength=\"69\" x=\"35.5\" y=\"191.1387\">«attribute»</text><text fill=\"#000000\" font-family=\"sans-serif\" font-size=\"12\" lengthAdjust=\"spacingAndGlyphs\" textLength=\"6\" x=\"67\" y=\"205.1074\">x</text></a></g><g id=\"E1.E7\"><a href=\"psysml:aee293b7-b915-4f4d-bf33-13d7af80ad07\" target=\"_top\" title=\"psysml:aee293b7-b915-4f4d-bf33-13d7af80ad07\" xlink:actuate=\"onRequest\" xlink:href=\"psysml:aee293b7-b915-4f4d-bf33-13d7af80ad07\" xlink:show=\"new\" xlink:title=\"psysml:aee293b7-b915-4f4d-bf33-13d7af80ad07\" xlink:type=\"simple\"><rect fill=\"#FFFFFF\" height=\"42.9375\" id=\"E7\" rx=\"10\" ry=\"10\" style=\"stroke: #383838; stroke-width: 1.5;\" width=\"76\" x=\"143\" y=\"175\"/><rect fill=\"#F8F8F8\" height=\"37.9375\" rx=\"10\" ry=\"10\" style=\"stroke: #F8F8F8; stroke-width: 1.5;\" width=\"76\" x=\"143\" y=\"175\"/><rect fill=\"#F8F8F8\" height=\"10\" style=\"stroke: #F8F8F8; stroke-width: 1.5;\" width=\"76\" x=\"143\" y=\"202.9375\"/><rect fill=\"none\" height=\"42.9375\" id=\"E7\" rx=\"10\" ry=\"10\" style=\"stroke: #383838; stroke-width: 1.5;\" width=\"76\" x=\"143\" y=\"175\"/><text fill=\"#000000\" font-family=\"sans-serif\" font-size=\"12\" font-style=\"italic\" lengthAdjust=\"spacingAndGlyphs\" textLength=\"69\" x=\"146.5\" y=\"191.1387\">«attribute»</text><text fill=\"#000000\" font-family=\"sans-serif\" font-size=\"12\" lengthAdjust=\"spacingAndGlyphs\" textLength=\"6\" x=\"178\" y=\"205.1074\">y</text></a></g><g id=\"E1.E8\"><a href=\"psysml:1c42907e-9ca4-4468-bbbb-1ea70701dab3\" target=\"_top\" title=\"psysml:1c42907e-9ca4-4468-bbbb-1ea70701dab3\" xlink:actuate=\"onRequest\" xlink:href=\"psysml:1c42907e-9ca4-4468-bbbb-1ea70701dab3\" xlink:show=\"new\" xlink:title=\"psysml:1c42907e-9ca4-4468-bbbb-1ea70701dab3\" xlink:type=\"simple\"><rect fill=\"#FFFFFF\" height=\"42.9375\" id=\"E8\" rx=\"10\" ry=\"10\" style=\"stroke: #383838; stroke-width: 1.5;\" width=\"76\" x=\"83\" y=\"89\"/><rect fill=\"#F8F8F8\" height=\"37.9375\" rx=\"10\" ry=\"10\" style=\"stroke: #F8F8F8; stroke-width: 1.5;\" width=\"76\" x=\"83\" y=\"89\"/><rect fill=\"#F8F8F8\" height=\"10\" style=\"stroke: #F8F8F8; stroke-width: 1.5;\" width=\"76\" x=\"83\" y=\"116.9375\"/><rect fill=\"none\" height=\"42.9375\" id=\"E8\" rx=\"10\" ry=\"10\" style=\"stroke: #383838; stroke-width: 1.5;\" width=\"76\" x=\"83\" y=\"89\"/><text fill=\"#000000\" font-family=\"sans-serif\" font-size=\"12\" font-style=\"italic\" lengthAdjust=\"spacingAndGlyphs\" textLength=\"69\" x=\"86.5\" y=\"105.1387\">«attribute»</text><text fill=\"#000000\" font-family=\"sans-serif\" font-size=\"12\" lengthAdjust=\"spacingAndGlyphs\" textLength=\"5\" x=\"118.5\" y=\"119.1074\">z</text></a></g><!--MD5=[af87c684e3b0d8be13c1a698a818ef1e]\n",
       "link E3 to E4--><a href=\"psysml:4c7b915e-320e-40c7-9399-584f1f84a9d7\" target=\"_top\" title=\"psysml:4c7b915e-320e-40c7-9399-584f1f84a9d7\" xlink:actuate=\"onRequest\" xlink:href=\"psysml:4c7b915e-320e-40c7-9399-584f1f84a9d7\" xlink:show=\"new\" xlink:title=\"psysml:4c7b915e-320e-40c7-9399-584f1f84a9d7\" xlink:type=\"simple\"><path d=\"M349,137.16 C349,144.98 349,153.69 349,161.94 \" fill=\"none\" id=\"E3-&gt;E4\" style=\"stroke: #383838; stroke-width: 1.0; stroke-dasharray: 7.0,7.0;\"/><polygon fill=\"#383838\" points=\"349,170,352,162,346,162,349,170\" style=\"stroke: #383838; stroke-width: 1.0;\"/><text fill=\"#000000\" font-family=\"sans-serif\" font-size=\"13\" lengthAdjust=\"spacingAndGlyphs\" textLength=\"64\" x=\"350\" y=\"158.0669\">«depend»</text></a><!--MD5=[1b7591eae5389033d8d09a9d6721a717]\n",
       "link E4 to E5--><a href=\"psysml:9be59ee3-60f5-4004-bc3e-00c0f7693956\" target=\"_top\" title=\"psysml:9be59ee3-60f5-4004-bc3e-00c0f7693956\" xlink:actuate=\"onRequest\" xlink:href=\"psysml:9be59ee3-60f5-4004-bc3e-00c0f7693956\" xlink:show=\"new\" xlink:title=\"psysml:9be59ee3-60f5-4004-bc3e-00c0f7693956\" xlink:type=\"simple\"><path d=\"M349,223.16 C349,230.98 349,239.69 349,247.94 \" fill=\"none\" id=\"E4-&gt;E5\" style=\"stroke: #383838; stroke-width: 1.0; stroke-dasharray: 7.0,7.0;\"/><polygon fill=\"#383838\" points=\"349,256,352,248,346,248,349,256\" style=\"stroke: #383838; stroke-width: 1.0;\"/><text fill=\"#000000\" font-family=\"sans-serif\" font-size=\"13\" lengthAdjust=\"spacingAndGlyphs\" textLength=\"64\" x=\"350\" y=\"244.0669\">«depend»</text></a><!--MD5=[c5e8897d989ce984f93528998a7150fe]\n",
       "link E8 to E6--><a href=\"psysml:80784242-98cb-449c-a51f-f2c7c1061d87\" target=\"_top\" title=\"psysml:80784242-98cb-449c-a51f-f2c7c1061d87\" xlink:actuate=\"onRequest\" xlink:href=\"psysml:80784242-98cb-449c-a51f-f2c7c1061d87\" xlink:show=\"new\" xlink:title=\"psysml:80784242-98cb-449c-a51f-f2c7c1061d87\" xlink:type=\"simple\"><path d=\"M85.87,132.14 C74.14,139.04 64,145 64,145 C64,145 64,162 64,162 C64,162 64.34,163.89 64.85,166.76 \" fill=\"none\" id=\"E8-&gt;E6\" style=\"stroke: #383838; stroke-width: 1.0; stroke-dasharray: 7.0,7.0;\"/><polygon fill=\"#383838\" points=\"66.3,174.86,67.838,166.4556,61.9325,167.5166,66.3,174.86\" style=\"stroke: #383838; stroke-width: 1.0;\"/><text fill=\"#000000\" font-family=\"sans-serif\" font-size=\"13\" lengthAdjust=\"spacingAndGlyphs\" textLength=\"64\" x=\"65\" y=\"158.0669\">«depend»</text></a><!--MD5=[bfa3c8b0d15052fdf50ae9310b491027]\n",
       "link E8 to E7--><a href=\"psysml:80784242-98cb-449c-a51f-f2c7c1061d87\" target=\"_top\" title=\"psysml:80784242-98cb-449c-a51f-f2c7c1061d87\" xlink:actuate=\"onRequest\" xlink:href=\"psysml:80784242-98cb-449c-a51f-f2c7c1061d87\" xlink:show=\"new\" xlink:title=\"psysml:80784242-98cb-449c-a51f-f2c7c1061d87\" xlink:type=\"simple\"><path d=\"M135.83,132.26 C143.61,143.15 153.22,156.61 161.59,168.32 \" fill=\"none\" id=\"E8-&gt;E7\" style=\"stroke: #383838; stroke-width: 1.0; stroke-dasharray: 7.0,7.0;\"/><polygon fill=\"#383838\" points=\"166.34,174.97,164.1399,166.7141,159.2538,170.1965,166.34,174.97\" style=\"stroke: #383838; stroke-width: 1.0;\"/><text fill=\"#000000\" font-family=\"sans-serif\" font-size=\"13\" lengthAdjust=\"spacingAndGlyphs\" textLength=\"64\" x=\"157\" y=\"158.0669\">«depend»</text></a><!--MD5=[b32de7ddbab73ec96c528b3a2181f9dd]\n",
       "@startuml\r\n",
       "skinparam ranksep 8\r\n",
       "skinparam rectangle {\r\n",
       " backgroundColor<<block>> LightGreen\r\n",
       "}\r\n",
       "skinparam linetype polyline\r\n",
       "skinparam monochrome true\r\n",
       "skinparam classbackgroundcolor white\r\n",
       "skinparam shadowing false\r\n",
       "skinparam wrapWidth 300\r\n",
       "hide circle\r\n",
       "\r\n",
       "package \"DependencyTest\" as E1  [[psysml:438e34af-3ce5-4e99-acf4-d3ecd205ea23 ]]  {\r\n",
       "package \"System\" as E2  [[psysml:33a226aa-95cf-4670-96e1-1bd6e94f796f ]]  {\r\n",
       "package \"Application Layer\" as E3  [[psysml:add81eb6-248c-4298-8987-63cd174f8097 ]]  {\r\n",
       "}\r\n",
       "package \"Service Layer\" as E4  [[psysml:95ba016d-ba70-4f40-a2b0-65410d9cce5b ]]  {\r\n",
       "}\r\n",
       "package \"Data Layer\" as E5  [[psysml:ae80162e-06ca-4b24-a1f3-10c5d346ebc4 ]]  {\r\n",
       "}\r\n",
       "}\r\n",
       "rec usage \"x\" as E6  <<(T,blue)attribute>> [[psysml:747ec202-6e4c-456d-855d-21470db0b7f2 ]] {\r\n",
       "}\r\n",
       "rec usage \"y\" as E7  <<(T,blue)attribute>> [[psysml:aee293b7-b915-4f4d-bf33-13d7af80ad07 ]] {\r\n",
       "}\r\n",
       "rec usage \"z\" as E8  <<(T,blue)attribute>> [[psysml:1c42907e-9ca4-4468-bbbb-1ea70701dab3 ]] {\r\n",
       "}\r\n",
       "E3 ..>> E4 [[psysml:4c7b915e-320e-40c7-9399-584f1f84a9d7 ]] : <<depend>>\r\n",
       "E4 ..>> E5 [[psysml:9be59ee3-60f5-4004-bc3e-00c0f7693956 ]] : <<depend>>\r\n",
       "E8 ..>> E6 [[psysml:80784242-98cb-449c-a51f-f2c7c1061d87 ]] : <<depend>>\r\n",
       "E8 ..>> E7 [[psysml:80784242-98cb-449c-a51f-f2c7c1061d87 ]] : <<depend>>\r\n",
       "}\r\n",
       "@enduml\r\n",
       "\n",
       "PlantUML version 1.2020.13(Sat Jun 13 12:26:38 UTC 2020)\n",
       "(EPL source distribution)\n",
       "Java Runtime: OpenJDK Runtime Environment\n",
       "JVM: OpenJDK 64-Bit Server VM\n",
       "Default Encoding: UTF-8\n",
       "Language: en\n",
       "Country: null\n",
       "--></g></svg>"
      ]
     },
     "execution_count": 12,
     "metadata": {},
     "output_type": "execute_result"
    }
   ],
   "source": [
    "%viz --style=\"POLYLINE\" --view=\"Interconnection\" \"DependencyTest\""
   ]
  },
  {
   "cell_type": "code",
   "execution_count": 13,
   "id": "junior-gospel",
   "metadata": {
    "execution": {
     "iopub.execute_input": "2021-03-25T13:26:15.515318Z",
     "iopub.status.busy": "2021-03-25T13:26:15.514965Z",
     "iopub.status.idle": "2021-03-25T13:26:15.523310Z",
     "shell.execute_reply": "2021-03-25T13:26:15.522774Z"
    }
   },
   "outputs": [
    {
     "data": {
      "image/svg+xml": [
       "<?xml version=\"1.0\" encoding=\"UTF-8\" standalone=\"no\"?><svg xmlns=\"http://www.w3.org/2000/svg\" xmlns:xlink=\"http://www.w3.org/1999/xlink\" contentScriptType=\"application/ecmascript\" contentStyleType=\"text/css\" height=\"12px\" preserveAspectRatio=\"none\" style=\"width:12px;height:12px;\" version=\"1.1\" viewBox=\"0 0 12 12\" width=\"12px\" zoomAndPan=\"magnify\"><defs/><g><!--MD5=[97bbf32f66ccd50cbc40d92ea8f5a65e]\n",
       "@startuml\r\n",
       "skinparam ranksep 8\r\n",
       "skinparam linetype polyline\r\n",
       "skinparam monochrome true\r\n",
       "skinparam classbackgroundcolor white\r\n",
       "skinparam shadowing false\r\n",
       "skinparam wrapWidth 300\r\n",
       "hide circle\r\n",
       "\r\n",
       "@enduml\r\n",
       "\n",
       "PlantUML version 1.2020.13(Sat Jun 13 12:26:38 UTC 2020)\n",
       "(EPL source distribution)\n",
       "Java Runtime: OpenJDK Runtime Environment\n",
       "JVM: OpenJDK 64-Bit Server VM\n",
       "Default Encoding: UTF-8\n",
       "Language: en\n",
       "Country: null\n",
       "--></g></svg>"
      ]
     },
     "execution_count": 13,
     "metadata": {},
     "output_type": "execute_result"
    }
   ],
   "source": [
    "%viz --style=\"POLYLINE\" --view=\"Action\" \"DependencyTest\""
   ]
  },
  {
   "cell_type": "code",
   "execution_count": 14,
   "id": "adjacent-proof",
   "metadata": {
    "execution": {
     "iopub.execute_input": "2021-03-25T13:26:15.574374Z",
     "iopub.status.busy": "2021-03-25T13:26:15.573896Z",
     "iopub.status.idle": "2021-03-25T13:26:15.680261Z",
     "shell.execute_reply": "2021-03-25T13:26:15.680666Z"
    }
   },
   "outputs": [
    {
     "data": {
      "image/svg+xml": [
       "<?xml version=\"1.0\" encoding=\"UTF-8\" standalone=\"no\"?><svg xmlns=\"http://www.w3.org/2000/svg\" xmlns:xlink=\"http://www.w3.org/1999/xlink\" contentScriptType=\"application/ecmascript\" contentStyleType=\"text/css\" height=\"449px\" preserveAspectRatio=\"none\" style=\"width:489px;height:449px;\" version=\"1.1\" viewBox=\"0 0 489 449\" width=\"489px\" zoomAndPan=\"magnify\"><defs/><g><!--MD5=[fbc87193dbaf4d95561dea2c320d4a47]\n",
       "cluster E1--><a href=\"psysml:438e34af-3ce5-4e99-acf4-d3ecd205ea23\" target=\"_top\" title=\"psysml:438e34af-3ce5-4e99-acf4-d3ecd205ea23\" xlink:actuate=\"onRequest\" xlink:href=\"psysml:438e34af-3ce5-4e99-acf4-d3ecd205ea23\" xlink:show=\"new\" xlink:title=\"psysml:438e34af-3ce5-4e99-acf4-d3ecd205ea23\" xlink:type=\"simple\"><polygon fill=\"#FFFFFF\" points=\"16,6,156,6,163,28.2969,467,28.2969,467,437,16,437,16,6\" style=\"stroke: #000000; stroke-width: 1.5;\"/><line style=\"stroke: #000000; stroke-width: 1.5;\" x1=\"16\" x2=\"163\" y1=\"28.2969\" y2=\"28.2969\"/><text fill=\"#000000\" font-family=\"sans-serif\" font-size=\"14\" font-weight=\"bold\" lengthAdjust=\"spacingAndGlyphs\" textLength=\"134\" x=\"20\" y=\"20.9951\">DependencyTest</text></a><!--MD5=[e4f7fae6ed58524ba242bb0b0d3be6b7]\n",
       "cluster E2--><a href=\"psysml:33a226aa-95cf-4670-96e1-1bd6e94f796f\" target=\"_top\" title=\"psysml:33a226aa-95cf-4670-96e1-1bd6e94f796f\" xlink:actuate=\"onRequest\" xlink:href=\"psysml:33a226aa-95cf-4670-96e1-1bd6e94f796f\" xlink:show=\"new\" xlink:title=\"psysml:33a226aa-95cf-4670-96e1-1bd6e94f796f\" xlink:type=\"simple\"><polygon fill=\"#FFFFFF\" points=\"255,49,319,49,326,71.2969,443,71.2969,443,413,255,413,255,49\" style=\"stroke: #000000; stroke-width: 1.5;\"/><line style=\"stroke: #000000; stroke-width: 1.5;\" x1=\"255\" x2=\"326\" y1=\"71.2969\" y2=\"71.2969\"/><text fill=\"#000000\" font-family=\"sans-serif\" font-size=\"14\" font-weight=\"bold\" lengthAdjust=\"spacingAndGlyphs\" textLength=\"58\" x=\"259\" y=\"63.9951\">System</text></a><!--MD5=[60a26617385b1d2d0262a64233df1f8d]\n",
       "class E6--><a href=\"psysml:747ec202-6e4c-456d-855d-21470db0b7f2\" target=\"_top\" title=\"psysml:747ec202-6e4c-456d-855d-21470db0b7f2\" xlink:actuate=\"onRequest\" xlink:href=\"psysml:747ec202-6e4c-456d-855d-21470db0b7f2\" xlink:show=\"new\" xlink:title=\"psysml:747ec202-6e4c-456d-855d-21470db0b7f2\" xlink:type=\"simple\"><rect fill=\"#FFFFFF\" height=\"45.9375\" id=\"E6\" rx=\"10\" ry=\"10\" style=\"stroke: #383838; stroke-width: 1.5;\" width=\"71\" x=\"32.5\" y=\"217.5\"/><text fill=\"#000000\" font-family=\"sans-serif\" font-size=\"12\" font-style=\"italic\" lengthAdjust=\"spacingAndGlyphs\" textLength=\"69\" x=\"33.5\" y=\"233.6387\">«attribute»</text><text fill=\"#000000\" font-family=\"sans-serif\" font-size=\"12\" lengthAdjust=\"spacingAndGlyphs\" textLength=\"6\" x=\"65\" y=\"247.6074\">x</text><line style=\"stroke: #383838; stroke-width: 1.5;\" x1=\"33.5\" x2=\"102.5\" y1=\"255.4375\" y2=\"255.4375\"/></a><!--MD5=[2156ba9850f5573cc1fc38a6a4b2f02b]\n",
       "class E7--><a href=\"psysml:aee293b7-b915-4f4d-bf33-13d7af80ad07\" target=\"_top\" title=\"psysml:aee293b7-b915-4f4d-bf33-13d7af80ad07\" xlink:actuate=\"onRequest\" xlink:href=\"psysml:aee293b7-b915-4f4d-bf33-13d7af80ad07\" xlink:show=\"new\" xlink:title=\"psysml:aee293b7-b915-4f4d-bf33-13d7af80ad07\" xlink:type=\"simple\"><rect fill=\"#FFFFFF\" height=\"45.9375\" id=\"E7\" rx=\"10\" ry=\"10\" style=\"stroke: #383838; stroke-width: 1.5;\" width=\"71\" x=\"138.5\" y=\"217.5\"/><text fill=\"#000000\" font-family=\"sans-serif\" font-size=\"12\" font-style=\"italic\" lengthAdjust=\"spacingAndGlyphs\" textLength=\"69\" x=\"139.5\" y=\"233.6387\">«attribute»</text><text fill=\"#000000\" font-family=\"sans-serif\" font-size=\"12\" lengthAdjust=\"spacingAndGlyphs\" textLength=\"6\" x=\"171\" y=\"247.6074\">y</text><line style=\"stroke: #383838; stroke-width: 1.5;\" x1=\"139.5\" x2=\"208.5\" y1=\"255.4375\" y2=\"255.4375\"/></a><!--MD5=[b9389687b975829384b498ac4b7476b2]\n",
       "class E8--><a href=\"psysml:1c42907e-9ca4-4468-bbbb-1ea70701dab3\" target=\"_top\" title=\"psysml:1c42907e-9ca4-4468-bbbb-1ea70701dab3\" xlink:actuate=\"onRequest\" xlink:href=\"psysml:1c42907e-9ca4-4468-bbbb-1ea70701dab3\" xlink:show=\"new\" xlink:title=\"psysml:1c42907e-9ca4-4468-bbbb-1ea70701dab3\" xlink:type=\"simple\"><rect fill=\"#FFFFFF\" height=\"45.9375\" id=\"E8\" rx=\"10\" ry=\"10\" style=\"stroke: #383838; stroke-width: 1.5;\" width=\"71\" x=\"84.5\" y=\"87.5\"/><text fill=\"#000000\" font-family=\"sans-serif\" font-size=\"12\" font-style=\"italic\" lengthAdjust=\"spacingAndGlyphs\" textLength=\"69\" x=\"85.5\" y=\"103.6387\">«attribute»</text><text fill=\"#000000\" font-family=\"sans-serif\" font-size=\"12\" lengthAdjust=\"spacingAndGlyphs\" textLength=\"5\" x=\"117.5\" y=\"117.6074\">z</text><line style=\"stroke: #383838; stroke-width: 1.5;\" x1=\"85.5\" x2=\"154.5\" y1=\"125.4375\" y2=\"125.4375\"/></a><a href=\"psysml:add81eb6-248c-4298-8987-63cd174f8097\" target=\"_top\" title=\"psysml:add81eb6-248c-4298-8987-63cd174f8097\" xlink:actuate=\"onRequest\" xlink:href=\"psysml:add81eb6-248c-4298-8987-63cd174f8097\" xlink:show=\"new\" xlink:title=\"psysml:add81eb6-248c-4298-8987-63cd174f8097\" xlink:type=\"simple\"><polygon fill=\"#FFFFFF\" points=\"271,84,413,84,420,106.2969,427,106.2969,427,136.5938,271,136.5938,271,84\" style=\"stroke: #000000; stroke-width: 1.5;\"/><line style=\"stroke: #000000; stroke-width: 1.5;\" x1=\"271\" x2=\"420\" y1=\"106.2969\" y2=\"106.2969\"/><text fill=\"#000000\" font-family=\"sans-serif\" font-size=\"14\" font-weight=\"bold\" lengthAdjust=\"spacingAndGlyphs\" textLength=\"136\" x=\"275\" y=\"98.9951\">Application Layer</text></a><a href=\"psysml:95ba016d-ba70-4f40-a2b0-65410d9cce5b\" target=\"_top\" title=\"psysml:95ba016d-ba70-4f40-a2b0-65410d9cce5b\" xlink:actuate=\"onRequest\" xlink:href=\"psysml:95ba016d-ba70-4f40-a2b0-65410d9cce5b\" xlink:show=\"new\" xlink:title=\"psysml:95ba016d-ba70-4f40-a2b0-65410d9cce5b\" xlink:type=\"simple\"><polygon fill=\"#FFFFFF\" points=\"285,214,399,214,406,236.2969,413,236.2969,413,266.5938,285,266.5938,285,214\" style=\"stroke: #000000; stroke-width: 1.5;\"/><line style=\"stroke: #000000; stroke-width: 1.5;\" x1=\"285\" x2=\"406\" y1=\"236.2969\" y2=\"236.2969\"/><text fill=\"#000000\" font-family=\"sans-serif\" font-size=\"14\" font-weight=\"bold\" lengthAdjust=\"spacingAndGlyphs\" textLength=\"108\" x=\"289\" y=\"228.9951\">Service Layer</text></a><a href=\"psysml:ae80162e-06ca-4b24-a1f3-10c5d346ebc4\" target=\"_top\" title=\"psysml:ae80162e-06ca-4b24-a1f3-10c5d346ebc4\" xlink:actuate=\"onRequest\" xlink:href=\"psysml:ae80162e-06ca-4b24-a1f3-10c5d346ebc4\" xlink:show=\"new\" xlink:title=\"psysml:ae80162e-06ca-4b24-a1f3-10c5d346ebc4\" xlink:type=\"simple\"><polygon fill=\"#FFFFFF\" points=\"297,344,387,344,394,366.2969,401,366.2969,401,396.5938,297,396.5938,297,344\" style=\"stroke: #000000; stroke-width: 1.5;\"/><line style=\"stroke: #000000; stroke-width: 1.5;\" x1=\"297\" x2=\"394\" y1=\"366.2969\" y2=\"366.2969\"/><text fill=\"#000000\" font-family=\"sans-serif\" font-size=\"14\" font-weight=\"bold\" lengthAdjust=\"spacingAndGlyphs\" textLength=\"84\" x=\"301\" y=\"358.9951\">Data Layer</text></a><!--MD5=[af87c684e3b0d8be13c1a698a818ef1e]\n",
       "link E3 to E4--><a href=\"psysml:4c7b915e-320e-40c7-9399-584f1f84a9d7\" target=\"_top\" title=\"psysml:4c7b915e-320e-40c7-9399-584f1f84a9d7\" xlink:actuate=\"onRequest\" xlink:href=\"psysml:4c7b915e-320e-40c7-9399-584f1f84a9d7\" xlink:show=\"new\" xlink:title=\"psysml:4c7b915e-320e-40c7-9399-584f1f84a9d7\" xlink:type=\"simple\"><path d=\"M349,137.1 C349,156.8 349,184.22 349,205.73 \" fill=\"none\" id=\"E3-&gt;E4\" style=\"stroke: #383838; stroke-width: 1.0; stroke-dasharray: 7.0,7.0;\"/><polygon fill=\"#383838\" points=\"349,213.95,352,205.95,346,205.95,349,213.95\" style=\"stroke: #383838; stroke-width: 1.0;\"/><text fill=\"#000000\" font-family=\"sans-serif\" font-size=\"13\" lengthAdjust=\"spacingAndGlyphs\" textLength=\"64\" x=\"350\" y=\"180.0669\">«depend»</text></a><!--MD5=[1b7591eae5389033d8d09a9d6721a717]\n",
       "link E4 to E5--><a href=\"psysml:9be59ee3-60f5-4004-bc3e-00c0f7693956\" target=\"_top\" title=\"psysml:9be59ee3-60f5-4004-bc3e-00c0f7693956\" xlink:actuate=\"onRequest\" xlink:href=\"psysml:9be59ee3-60f5-4004-bc3e-00c0f7693956\" xlink:show=\"new\" xlink:title=\"psysml:9be59ee3-60f5-4004-bc3e-00c0f7693956\" xlink:type=\"simple\"><path d=\"M349,267.1 C349,286.8 349,314.22 349,335.73 \" fill=\"none\" id=\"E4-&gt;E5\" style=\"stroke: #383838; stroke-width: 1.0; stroke-dasharray: 7.0,7.0;\"/><polygon fill=\"#383838\" points=\"349,343.95,352,335.95,346,335.95,349,343.95\" style=\"stroke: #383838; stroke-width: 1.0;\"/><text fill=\"#000000\" font-family=\"sans-serif\" font-size=\"13\" lengthAdjust=\"spacingAndGlyphs\" textLength=\"64\" x=\"350\" y=\"310.0669\">«depend»</text></a><!--MD5=[c5e8897d989ce984f93528998a7150fe]\n",
       "link E8 to E6--><a href=\"psysml:80784242-98cb-449c-a51f-f2c7c1061d87\" target=\"_top\" title=\"psysml:80784242-98cb-449c-a51f-f2c7c1061d87\" xlink:actuate=\"onRequest\" xlink:href=\"psysml:80784242-98cb-449c-a51f-f2c7c1061d87\" xlink:show=\"new\" xlink:title=\"psysml:80784242-98cb-449c-a51f-f2c7c1061d87\" xlink:type=\"simple\"><path d=\"M97.55,133.75 C81.97,149.19 64,167 64,167 C64,167 64,184 64,184 C64,184 64.88,196.21 65.81,209.18 \" fill=\"none\" id=\"E8-&gt;E6\" style=\"stroke: #383838; stroke-width: 1.0; stroke-dasharray: 7.0,7.0;\"/><polygon fill=\"#383838\" points=\"66.4,217.25,68.8203,209.056,62.8357,209.485,66.4,217.25\" style=\"stroke: #383838; stroke-width: 1.0;\"/><text fill=\"#000000\" font-family=\"sans-serif\" font-size=\"13\" lengthAdjust=\"spacingAndGlyphs\" textLength=\"64\" x=\"65\" y=\"180.0669\">«depend»</text></a><!--MD5=[bfa3c8b0d15052fdf50ae9310b491027]\n",
       "link E8 to E7--><a href=\"psysml:80784242-98cb-449c-a51f-f2c7c1061d87\" target=\"_top\" title=\"psysml:80784242-98cb-449c-a51f-f2c7c1061d87\" xlink:actuate=\"onRequest\" xlink:href=\"psysml:80784242-98cb-449c-a51f-f2c7c1061d87\" xlink:show=\"new\" xlink:title=\"psysml:80784242-98cb-449c-a51f-f2c7c1061d87\" xlink:type=\"simple\"><path d=\"M129.28,133.5 C138.17,154.57 151.64,186.5 161.47,209.81 \" fill=\"none\" id=\"E8-&gt;E7\" style=\"stroke: #383838; stroke-width: 1.0; stroke-dasharray: 7.0,7.0;\"/><polygon fill=\"#383838\" points=\"164.66,217.35,164.3241,208.8126,158.7933,211.1385,164.66,217.35\" style=\"stroke: #383838; stroke-width: 1.0;\"/><text fill=\"#000000\" font-family=\"sans-serif\" font-size=\"13\" lengthAdjust=\"spacingAndGlyphs\" textLength=\"64\" x=\"151\" y=\"180.0669\">«depend»</text></a><!--MD5=[1260b58724278963db9c38e6afbc9deb]\n",
       "@startuml\r\n",
       "skinparam linetype polyline\r\n",
       "skinparam monochrome true\r\n",
       "skinparam classbackgroundcolor white\r\n",
       "skinparam shadowing false\r\n",
       "skinparam wrapWidth 300\r\n",
       "hide circle\r\n",
       "\r\n",
       "package \"DependencyTest\" as E1  [[psysml:438e34af-3ce5-4e99-acf4-d3ecd205ea23 ]]  {\r\n",
       "package \"System\" as E2  [[psysml:33a226aa-95cf-4670-96e1-1bd6e94f796f ]]  {\r\n",
       "package \"Application Layer\" as E3  [[psysml:add81eb6-248c-4298-8987-63cd174f8097 ]]  {\r\n",
       "}\r\n",
       "package \"Service Layer\" as E4  [[psysml:95ba016d-ba70-4f40-a2b0-65410d9cce5b ]]  {\r\n",
       "}\r\n",
       "package \"Data Layer\" as E5  [[psysml:ae80162e-06ca-4b24-a1f3-10c5d346ebc4 ]]  {\r\n",
       "}\r\n",
       "}\r\n",
       "comp usage \"x\" as E6  <<(T,blue)attribute>> [[psysml:747ec202-6e4c-456d-855d-21470db0b7f2 ]] {\r\n",
       "}\r\n",
       "comp usage \"y\" as E7  <<(T,blue)attribute>> [[psysml:aee293b7-b915-4f4d-bf33-13d7af80ad07 ]] {\r\n",
       "}\r\n",
       "comp usage \"z\" as E8  <<(T,blue)attribute>> [[psysml:1c42907e-9ca4-4468-bbbb-1ea70701dab3 ]] {\r\n",
       "}\r\n",
       "E3 ..>> E4 [[psysml:4c7b915e-320e-40c7-9399-584f1f84a9d7 ]] : <<depend>>\r\n",
       "E4 ..>> E5 [[psysml:9be59ee3-60f5-4004-bc3e-00c0f7693956 ]] : <<depend>>\r\n",
       "E8 ..>> E6 [[psysml:80784242-98cb-449c-a51f-f2c7c1061d87 ]] : <<depend>>\r\n",
       "E8 ..>> E7 [[psysml:80784242-98cb-449c-a51f-f2c7c1061d87 ]] : <<depend>>\r\n",
       "}\r\n",
       "@enduml\r\n",
       "\n",
       "PlantUML version 1.2020.13(Sat Jun 13 12:26:38 UTC 2020)\n",
       "(EPL source distribution)\n",
       "Java Runtime: OpenJDK Runtime Environment\n",
       "JVM: OpenJDK 64-Bit Server VM\n",
       "Default Encoding: UTF-8\n",
       "Language: en\n",
       "Country: null\n",
       "--></g></svg>"
      ]
     },
     "execution_count": 14,
     "metadata": {},
     "output_type": "execute_result"
    }
   ],
   "source": [
    "%viz --style=\"POLYLINE\" --view=\"Sequence\" \"DependencyTest\""
   ]
  },
  {
   "cell_type": "code",
   "execution_count": 15,
   "id": "representative-audio",
   "metadata": {
    "execution": {
     "iopub.execute_input": "2021-03-25T13:26:15.732359Z",
     "iopub.status.busy": "2021-03-25T13:26:15.731874Z",
     "iopub.status.idle": "2021-03-25T13:26:15.840335Z",
     "shell.execute_reply": "2021-03-25T13:26:15.840967Z"
    }
   },
   "outputs": [
    {
     "data": {
      "image/svg+xml": [
       "<?xml version=\"1.0\" encoding=\"UTF-8\" standalone=\"no\"?><svg xmlns=\"http://www.w3.org/2000/svg\" xmlns:xlink=\"http://www.w3.org/1999/xlink\" contentScriptType=\"application/ecmascript\" contentStyleType=\"text/css\" height=\"449px\" preserveAspectRatio=\"none\" style=\"width:489px;height:449px;\" version=\"1.1\" viewBox=\"0 0 489 449\" width=\"489px\" zoomAndPan=\"magnify\"><defs/><g><!--MD5=[fbc87193dbaf4d95561dea2c320d4a47]\n",
       "cluster E1--><a href=\"psysml:438e34af-3ce5-4e99-acf4-d3ecd205ea23\" target=\"_top\" title=\"psysml:438e34af-3ce5-4e99-acf4-d3ecd205ea23\" xlink:actuate=\"onRequest\" xlink:href=\"psysml:438e34af-3ce5-4e99-acf4-d3ecd205ea23\" xlink:show=\"new\" xlink:title=\"psysml:438e34af-3ce5-4e99-acf4-d3ecd205ea23\" xlink:type=\"simple\"><polygon fill=\"#FFFFFF\" points=\"16,6,156,6,163,28.2969,467,28.2969,467,437,16,437,16,6\" style=\"stroke: #000000; stroke-width: 1.5;\"/><line style=\"stroke: #000000; stroke-width: 1.5;\" x1=\"16\" x2=\"163\" y1=\"28.2969\" y2=\"28.2969\"/><text fill=\"#000000\" font-family=\"sans-serif\" font-size=\"14\" font-weight=\"bold\" lengthAdjust=\"spacingAndGlyphs\" textLength=\"134\" x=\"20\" y=\"20.9951\">DependencyTest</text></a><!--MD5=[e4f7fae6ed58524ba242bb0b0d3be6b7]\n",
       "cluster E2--><a href=\"psysml:33a226aa-95cf-4670-96e1-1bd6e94f796f\" target=\"_top\" title=\"psysml:33a226aa-95cf-4670-96e1-1bd6e94f796f\" xlink:actuate=\"onRequest\" xlink:href=\"psysml:33a226aa-95cf-4670-96e1-1bd6e94f796f\" xlink:show=\"new\" xlink:title=\"psysml:33a226aa-95cf-4670-96e1-1bd6e94f796f\" xlink:type=\"simple\"><polygon fill=\"#FFFFFF\" points=\"255,49,319,49,326,71.2969,443,71.2969,443,413,255,413,255,49\" style=\"stroke: #000000; stroke-width: 1.5;\"/><line style=\"stroke: #000000; stroke-width: 1.5;\" x1=\"255\" x2=\"326\" y1=\"71.2969\" y2=\"71.2969\"/><text fill=\"#000000\" font-family=\"sans-serif\" font-size=\"14\" font-weight=\"bold\" lengthAdjust=\"spacingAndGlyphs\" textLength=\"58\" x=\"259\" y=\"63.9951\">System</text></a><!--MD5=[60a26617385b1d2d0262a64233df1f8d]\n",
       "class E6--><a href=\"psysml:747ec202-6e4c-456d-855d-21470db0b7f2\" target=\"_top\" title=\"psysml:747ec202-6e4c-456d-855d-21470db0b7f2\" xlink:actuate=\"onRequest\" xlink:href=\"psysml:747ec202-6e4c-456d-855d-21470db0b7f2\" xlink:show=\"new\" xlink:title=\"psysml:747ec202-6e4c-456d-855d-21470db0b7f2\" xlink:type=\"simple\"><rect fill=\"#FFFFFF\" height=\"45.9375\" id=\"E6\" rx=\"10\" ry=\"10\" style=\"stroke: #383838; stroke-width: 1.5;\" width=\"71\" x=\"32.5\" y=\"217.5\"/><text fill=\"#000000\" font-family=\"sans-serif\" font-size=\"12\" font-style=\"italic\" lengthAdjust=\"spacingAndGlyphs\" textLength=\"69\" x=\"33.5\" y=\"233.6387\">«attribute»</text><text fill=\"#000000\" font-family=\"sans-serif\" font-size=\"12\" lengthAdjust=\"spacingAndGlyphs\" textLength=\"6\" x=\"65\" y=\"247.6074\">x</text><line style=\"stroke: #383838; stroke-width: 1.5;\" x1=\"33.5\" x2=\"102.5\" y1=\"255.4375\" y2=\"255.4375\"/></a><!--MD5=[2156ba9850f5573cc1fc38a6a4b2f02b]\n",
       "class E7--><a href=\"psysml:aee293b7-b915-4f4d-bf33-13d7af80ad07\" target=\"_top\" title=\"psysml:aee293b7-b915-4f4d-bf33-13d7af80ad07\" xlink:actuate=\"onRequest\" xlink:href=\"psysml:aee293b7-b915-4f4d-bf33-13d7af80ad07\" xlink:show=\"new\" xlink:title=\"psysml:aee293b7-b915-4f4d-bf33-13d7af80ad07\" xlink:type=\"simple\"><rect fill=\"#FFFFFF\" height=\"45.9375\" id=\"E7\" rx=\"10\" ry=\"10\" style=\"stroke: #383838; stroke-width: 1.5;\" width=\"71\" x=\"138.5\" y=\"217.5\"/><text fill=\"#000000\" font-family=\"sans-serif\" font-size=\"12\" font-style=\"italic\" lengthAdjust=\"spacingAndGlyphs\" textLength=\"69\" x=\"139.5\" y=\"233.6387\">«attribute»</text><text fill=\"#000000\" font-family=\"sans-serif\" font-size=\"12\" lengthAdjust=\"spacingAndGlyphs\" textLength=\"6\" x=\"171\" y=\"247.6074\">y</text><line style=\"stroke: #383838; stroke-width: 1.5;\" x1=\"139.5\" x2=\"208.5\" y1=\"255.4375\" y2=\"255.4375\"/></a><!--MD5=[b9389687b975829384b498ac4b7476b2]\n",
       "class E8--><a href=\"psysml:1c42907e-9ca4-4468-bbbb-1ea70701dab3\" target=\"_top\" title=\"psysml:1c42907e-9ca4-4468-bbbb-1ea70701dab3\" xlink:actuate=\"onRequest\" xlink:href=\"psysml:1c42907e-9ca4-4468-bbbb-1ea70701dab3\" xlink:show=\"new\" xlink:title=\"psysml:1c42907e-9ca4-4468-bbbb-1ea70701dab3\" xlink:type=\"simple\"><rect fill=\"#FFFFFF\" height=\"45.9375\" id=\"E8\" rx=\"10\" ry=\"10\" style=\"stroke: #383838; stroke-width: 1.5;\" width=\"71\" x=\"84.5\" y=\"87.5\"/><text fill=\"#000000\" font-family=\"sans-serif\" font-size=\"12\" font-style=\"italic\" lengthAdjust=\"spacingAndGlyphs\" textLength=\"69\" x=\"85.5\" y=\"103.6387\">«attribute»</text><text fill=\"#000000\" font-family=\"sans-serif\" font-size=\"12\" lengthAdjust=\"spacingAndGlyphs\" textLength=\"5\" x=\"117.5\" y=\"117.6074\">z</text><line style=\"stroke: #383838; stroke-width: 1.5;\" x1=\"85.5\" x2=\"154.5\" y1=\"125.4375\" y2=\"125.4375\"/></a><a href=\"psysml:add81eb6-248c-4298-8987-63cd174f8097\" target=\"_top\" title=\"psysml:add81eb6-248c-4298-8987-63cd174f8097\" xlink:actuate=\"onRequest\" xlink:href=\"psysml:add81eb6-248c-4298-8987-63cd174f8097\" xlink:show=\"new\" xlink:title=\"psysml:add81eb6-248c-4298-8987-63cd174f8097\" xlink:type=\"simple\"><polygon fill=\"#FFFFFF\" points=\"271,84,413,84,420,106.2969,427,106.2969,427,136.5938,271,136.5938,271,84\" style=\"stroke: #000000; stroke-width: 1.5;\"/><line style=\"stroke: #000000; stroke-width: 1.5;\" x1=\"271\" x2=\"420\" y1=\"106.2969\" y2=\"106.2969\"/><text fill=\"#000000\" font-family=\"sans-serif\" font-size=\"14\" font-weight=\"bold\" lengthAdjust=\"spacingAndGlyphs\" textLength=\"136\" x=\"275\" y=\"98.9951\">Application Layer</text></a><a href=\"psysml:95ba016d-ba70-4f40-a2b0-65410d9cce5b\" target=\"_top\" title=\"psysml:95ba016d-ba70-4f40-a2b0-65410d9cce5b\" xlink:actuate=\"onRequest\" xlink:href=\"psysml:95ba016d-ba70-4f40-a2b0-65410d9cce5b\" xlink:show=\"new\" xlink:title=\"psysml:95ba016d-ba70-4f40-a2b0-65410d9cce5b\" xlink:type=\"simple\"><polygon fill=\"#FFFFFF\" points=\"285,214,399,214,406,236.2969,413,236.2969,413,266.5938,285,266.5938,285,214\" style=\"stroke: #000000; stroke-width: 1.5;\"/><line style=\"stroke: #000000; stroke-width: 1.5;\" x1=\"285\" x2=\"406\" y1=\"236.2969\" y2=\"236.2969\"/><text fill=\"#000000\" font-family=\"sans-serif\" font-size=\"14\" font-weight=\"bold\" lengthAdjust=\"spacingAndGlyphs\" textLength=\"108\" x=\"289\" y=\"228.9951\">Service Layer</text></a><a href=\"psysml:ae80162e-06ca-4b24-a1f3-10c5d346ebc4\" target=\"_top\" title=\"psysml:ae80162e-06ca-4b24-a1f3-10c5d346ebc4\" xlink:actuate=\"onRequest\" xlink:href=\"psysml:ae80162e-06ca-4b24-a1f3-10c5d346ebc4\" xlink:show=\"new\" xlink:title=\"psysml:ae80162e-06ca-4b24-a1f3-10c5d346ebc4\" xlink:type=\"simple\"><polygon fill=\"#FFFFFF\" points=\"297,344,387,344,394,366.2969,401,366.2969,401,396.5938,297,396.5938,297,344\" style=\"stroke: #000000; stroke-width: 1.5;\"/><line style=\"stroke: #000000; stroke-width: 1.5;\" x1=\"297\" x2=\"394\" y1=\"366.2969\" y2=\"366.2969\"/><text fill=\"#000000\" font-family=\"sans-serif\" font-size=\"14\" font-weight=\"bold\" lengthAdjust=\"spacingAndGlyphs\" textLength=\"84\" x=\"301\" y=\"358.9951\">Data Layer</text></a><!--MD5=[af87c684e3b0d8be13c1a698a818ef1e]\n",
       "link E3 to E4--><a href=\"psysml:4c7b915e-320e-40c7-9399-584f1f84a9d7\" target=\"_top\" title=\"psysml:4c7b915e-320e-40c7-9399-584f1f84a9d7\" xlink:actuate=\"onRequest\" xlink:href=\"psysml:4c7b915e-320e-40c7-9399-584f1f84a9d7\" xlink:show=\"new\" xlink:title=\"psysml:4c7b915e-320e-40c7-9399-584f1f84a9d7\" xlink:type=\"simple\"><path d=\"M349,137.1 C349,156.8 349,184.22 349,205.73 \" fill=\"none\" id=\"E3-&gt;E4\" style=\"stroke: #383838; stroke-width: 1.0; stroke-dasharray: 7.0,7.0;\"/><polygon fill=\"#383838\" points=\"349,213.95,352,205.95,346,205.95,349,213.95\" style=\"stroke: #383838; stroke-width: 1.0;\"/><text fill=\"#000000\" font-family=\"sans-serif\" font-size=\"13\" lengthAdjust=\"spacingAndGlyphs\" textLength=\"64\" x=\"350\" y=\"180.0669\">«depend»</text></a><!--MD5=[1b7591eae5389033d8d09a9d6721a717]\n",
       "link E4 to E5--><a href=\"psysml:9be59ee3-60f5-4004-bc3e-00c0f7693956\" target=\"_top\" title=\"psysml:9be59ee3-60f5-4004-bc3e-00c0f7693956\" xlink:actuate=\"onRequest\" xlink:href=\"psysml:9be59ee3-60f5-4004-bc3e-00c0f7693956\" xlink:show=\"new\" xlink:title=\"psysml:9be59ee3-60f5-4004-bc3e-00c0f7693956\" xlink:type=\"simple\"><path d=\"M349,267.1 C349,286.8 349,314.22 349,335.73 \" fill=\"none\" id=\"E4-&gt;E5\" style=\"stroke: #383838; stroke-width: 1.0; stroke-dasharray: 7.0,7.0;\"/><polygon fill=\"#383838\" points=\"349,343.95,352,335.95,346,335.95,349,343.95\" style=\"stroke: #383838; stroke-width: 1.0;\"/><text fill=\"#000000\" font-family=\"sans-serif\" font-size=\"13\" lengthAdjust=\"spacingAndGlyphs\" textLength=\"64\" x=\"350\" y=\"310.0669\">«depend»</text></a><!--MD5=[c5e8897d989ce984f93528998a7150fe]\n",
       "link E8 to E6--><a href=\"psysml:80784242-98cb-449c-a51f-f2c7c1061d87\" target=\"_top\" title=\"psysml:80784242-98cb-449c-a51f-f2c7c1061d87\" xlink:actuate=\"onRequest\" xlink:href=\"psysml:80784242-98cb-449c-a51f-f2c7c1061d87\" xlink:show=\"new\" xlink:title=\"psysml:80784242-98cb-449c-a51f-f2c7c1061d87\" xlink:type=\"simple\"><path d=\"M97.55,133.75 C81.97,149.19 64,167 64,167 C64,167 64,184 64,184 C64,184 64.88,196.21 65.81,209.18 \" fill=\"none\" id=\"E8-&gt;E6\" style=\"stroke: #383838; stroke-width: 1.0; stroke-dasharray: 7.0,7.0;\"/><polygon fill=\"#383838\" points=\"66.4,217.25,68.8203,209.056,62.8357,209.485,66.4,217.25\" style=\"stroke: #383838; stroke-width: 1.0;\"/><text fill=\"#000000\" font-family=\"sans-serif\" font-size=\"13\" lengthAdjust=\"spacingAndGlyphs\" textLength=\"64\" x=\"65\" y=\"180.0669\">«depend»</text></a><!--MD5=[bfa3c8b0d15052fdf50ae9310b491027]\n",
       "link E8 to E7--><a href=\"psysml:80784242-98cb-449c-a51f-f2c7c1061d87\" target=\"_top\" title=\"psysml:80784242-98cb-449c-a51f-f2c7c1061d87\" xlink:actuate=\"onRequest\" xlink:href=\"psysml:80784242-98cb-449c-a51f-f2c7c1061d87\" xlink:show=\"new\" xlink:title=\"psysml:80784242-98cb-449c-a51f-f2c7c1061d87\" xlink:type=\"simple\"><path d=\"M129.28,133.5 C138.17,154.57 151.64,186.5 161.47,209.81 \" fill=\"none\" id=\"E8-&gt;E7\" style=\"stroke: #383838; stroke-width: 1.0; stroke-dasharray: 7.0,7.0;\"/><polygon fill=\"#383838\" points=\"164.66,217.35,164.3241,208.8126,158.7933,211.1385,164.66,217.35\" style=\"stroke: #383838; stroke-width: 1.0;\"/><text fill=\"#000000\" font-family=\"sans-serif\" font-size=\"13\" lengthAdjust=\"spacingAndGlyphs\" textLength=\"64\" x=\"151\" y=\"180.0669\">«depend»</text></a><!--MD5=[1260b58724278963db9c38e6afbc9deb]\n",
       "@startuml\r\n",
       "skinparam linetype polyline\r\n",
       "skinparam monochrome true\r\n",
       "skinparam classbackgroundcolor white\r\n",
       "skinparam shadowing false\r\n",
       "skinparam wrapWidth 300\r\n",
       "hide circle\r\n",
       "\r\n",
       "package \"DependencyTest\" as E1  [[psysml:438e34af-3ce5-4e99-acf4-d3ecd205ea23 ]]  {\r\n",
       "package \"System\" as E2  [[psysml:33a226aa-95cf-4670-96e1-1bd6e94f796f ]]  {\r\n",
       "package \"Application Layer\" as E3  [[psysml:add81eb6-248c-4298-8987-63cd174f8097 ]]  {\r\n",
       "}\r\n",
       "package \"Service Layer\" as E4  [[psysml:95ba016d-ba70-4f40-a2b0-65410d9cce5b ]]  {\r\n",
       "}\r\n",
       "package \"Data Layer\" as E5  [[psysml:ae80162e-06ca-4b24-a1f3-10c5d346ebc4 ]]  {\r\n",
       "}\r\n",
       "}\r\n",
       "comp usage \"x\" as E6  <<(T,blue)attribute>> [[psysml:747ec202-6e4c-456d-855d-21470db0b7f2 ]] {\r\n",
       "}\r\n",
       "comp usage \"y\" as E7  <<(T,blue)attribute>> [[psysml:aee293b7-b915-4f4d-bf33-13d7af80ad07 ]] {\r\n",
       "}\r\n",
       "comp usage \"z\" as E8  <<(T,blue)attribute>> [[psysml:1c42907e-9ca4-4468-bbbb-1ea70701dab3 ]] {\r\n",
       "}\r\n",
       "E3 ..>> E4 [[psysml:4c7b915e-320e-40c7-9399-584f1f84a9d7 ]] : <<depend>>\r\n",
       "E4 ..>> E5 [[psysml:9be59ee3-60f5-4004-bc3e-00c0f7693956 ]] : <<depend>>\r\n",
       "E8 ..>> E6 [[psysml:80784242-98cb-449c-a51f-f2c7c1061d87 ]] : <<depend>>\r\n",
       "E8 ..>> E7 [[psysml:80784242-98cb-449c-a51f-f2c7c1061d87 ]] : <<depend>>\r\n",
       "}\r\n",
       "@enduml\r\n",
       "\n",
       "PlantUML version 1.2020.13(Sat Jun 13 12:26:38 UTC 2020)\n",
       "(EPL source distribution)\n",
       "Java Runtime: OpenJDK Runtime Environment\n",
       "JVM: OpenJDK 64-Bit Server VM\n",
       "Default Encoding: UTF-8\n",
       "Language: en\n",
       "Country: null\n",
       "--></g></svg>"
      ]
     },
     "execution_count": 15,
     "metadata": {},
     "output_type": "execute_result"
    }
   ],
   "source": [
    "%viz --style=\"POLYLINE\" --view=\"MIXED\" \"DependencyTest\""
   ]
  },
  {
   "cell_type": "code",
   "execution_count": 16,
   "id": "disciplinary-anxiety",
   "metadata": {
    "execution": {
     "iopub.execute_input": "2021-03-25T13:26:15.894598Z",
     "iopub.status.busy": "2021-03-25T13:26:15.893748Z",
     "iopub.status.idle": "2021-03-25T13:26:15.998240Z",
     "shell.execute_reply": "2021-03-25T13:26:15.998654Z"
    }
   },
   "outputs": [
    {
     "data": {
      "image/svg+xml": [
       "<?xml version=\"1.0\" encoding=\"UTF-8\" standalone=\"no\"?><svg xmlns=\"http://www.w3.org/2000/svg\" xmlns:xlink=\"http://www.w3.org/1999/xlink\" contentScriptType=\"application/ecmascript\" contentStyleType=\"text/css\" height=\"328px\" preserveAspectRatio=\"none\" style=\"width:758px;height:328px;\" version=\"1.1\" viewBox=\"0 0 758 328\" width=\"758px\" zoomAndPan=\"magnify\"><defs/><g><!--MD5=[fbc87193dbaf4d95561dea2c320d4a47]\n",
       "cluster E1--><a href=\"psysml:438e34af-3ce5-4e99-acf4-d3ecd205ea23\" target=\"_top\" title=\"psysml:438e34af-3ce5-4e99-acf4-d3ecd205ea23\" xlink:actuate=\"onRequest\" xlink:href=\"psysml:438e34af-3ce5-4e99-acf4-d3ecd205ea23\" xlink:show=\"new\" xlink:title=\"psysml:438e34af-3ce5-4e99-acf4-d3ecd205ea23\" xlink:type=\"simple\"><polygon fill=\"#FFFFFF\" points=\"16,6,156,6,163,28.2969,736,28.2969,736,316,16,316,16,6\" style=\"stroke: #000000; stroke-width: 1.5;\"/><line style=\"stroke: #000000; stroke-width: 1.5;\" x1=\"16\" x2=\"163\" y1=\"28.2969\" y2=\"28.2969\"/><text fill=\"#000000\" font-family=\"sans-serif\" font-size=\"14\" font-weight=\"bold\" lengthAdjust=\"spacingAndGlyphs\" textLength=\"134\" x=\"20\" y=\"20.9951\">DependencyTest</text></a><!--MD5=[e4f7fae6ed58524ba242bb0b0d3be6b7]\n",
       "cluster E2--><a href=\"psysml:33a226aa-95cf-4670-96e1-1bd6e94f796f\" target=\"_top\" title=\"psysml:33a226aa-95cf-4670-96e1-1bd6e94f796f\" xlink:actuate=\"onRequest\" xlink:href=\"psysml:33a226aa-95cf-4670-96e1-1bd6e94f796f\" xlink:show=\"new\" xlink:title=\"psysml:33a226aa-95cf-4670-96e1-1bd6e94f796f\" xlink:type=\"simple\"><polygon fill=\"#FFFFFF\" points=\"40,49,104,49,111,71.2969,712,71.2969,712,154,40,154,40,49\" style=\"stroke: #000000; stroke-width: 1.5;\"/><line style=\"stroke: #000000; stroke-width: 1.5;\" x1=\"40\" x2=\"111\" y1=\"71.2969\" y2=\"71.2969\"/><text fill=\"#000000\" font-family=\"sans-serif\" font-size=\"14\" font-weight=\"bold\" lengthAdjust=\"spacingAndGlyphs\" textLength=\"58\" x=\"44\" y=\"63.9951\">System</text></a><!--MD5=[60a26617385b1d2d0262a64233df1f8d]\n",
       "class E6--><a href=\"psysml:747ec202-6e4c-456d-855d-21470db0b7f2\" target=\"_top\" title=\"psysml:747ec202-6e4c-456d-855d-21470db0b7f2\" xlink:actuate=\"onRequest\" xlink:href=\"psysml:747ec202-6e4c-456d-855d-21470db0b7f2\" xlink:show=\"new\" xlink:title=\"psysml:747ec202-6e4c-456d-855d-21470db0b7f2\" xlink:type=\"simple\"><rect fill=\"#FFFFFF\" height=\"45.9375\" id=\"E6\" rx=\"10\" ry=\"10\" style=\"stroke: #383838; stroke-width: 1.5;\" width=\"71\" x=\"366.5\" y=\"254\"/><text fill=\"#000000\" font-family=\"sans-serif\" font-size=\"12\" font-style=\"italic\" lengthAdjust=\"spacingAndGlyphs\" textLength=\"69\" x=\"367.5\" y=\"270.1387\">«attribute»</text><text fill=\"#000000\" font-family=\"sans-serif\" font-size=\"12\" lengthAdjust=\"spacingAndGlyphs\" textLength=\"6\" x=\"399\" y=\"284.1074\">x</text><line style=\"stroke: #383838; stroke-width: 1.5;\" x1=\"367.5\" x2=\"436.5\" y1=\"291.9375\" y2=\"291.9375\"/></a><!--MD5=[2156ba9850f5573cc1fc38a6a4b2f02b]\n",
       "class E7--><a href=\"psysml:aee293b7-b915-4f4d-bf33-13d7af80ad07\" target=\"_top\" title=\"psysml:aee293b7-b915-4f4d-bf33-13d7af80ad07\" xlink:actuate=\"onRequest\" xlink:href=\"psysml:aee293b7-b915-4f4d-bf33-13d7af80ad07\" xlink:show=\"new\" xlink:title=\"psysml:aee293b7-b915-4f4d-bf33-13d7af80ad07\" xlink:type=\"simple\"><rect fill=\"#FFFFFF\" height=\"45.9375\" id=\"E7\" rx=\"10\" ry=\"10\" style=\"stroke: #383838; stroke-width: 1.5;\" width=\"71\" x=\"366.5\" y=\"173\"/><text fill=\"#000000\" font-family=\"sans-serif\" font-size=\"12\" font-style=\"italic\" lengthAdjust=\"spacingAndGlyphs\" textLength=\"69\" x=\"367.5\" y=\"189.1387\">«attribute»</text><text fill=\"#000000\" font-family=\"sans-serif\" font-size=\"12\" lengthAdjust=\"spacingAndGlyphs\" textLength=\"6\" x=\"399\" y=\"203.1074\">y</text><line style=\"stroke: #383838; stroke-width: 1.5;\" x1=\"367.5\" x2=\"436.5\" y1=\"210.9375\" y2=\"210.9375\"/></a><!--MD5=[b9389687b975829384b498ac4b7476b2]\n",
       "class E8--><a href=\"psysml:1c42907e-9ca4-4468-bbbb-1ea70701dab3\" target=\"_top\" title=\"psysml:1c42907e-9ca4-4468-bbbb-1ea70701dab3\" xlink:actuate=\"onRequest\" xlink:href=\"psysml:1c42907e-9ca4-4468-bbbb-1ea70701dab3\" xlink:show=\"new\" xlink:title=\"psysml:1c42907e-9ca4-4468-bbbb-1ea70701dab3\" xlink:type=\"simple\"><rect fill=\"#FFFFFF\" height=\"45.9375\" id=\"E8\" rx=\"10\" ry=\"10\" style=\"stroke: #383838; stroke-width: 1.5;\" width=\"71\" x=\"98.5\" y=\"206\"/><text fill=\"#000000\" font-family=\"sans-serif\" font-size=\"12\" font-style=\"italic\" lengthAdjust=\"spacingAndGlyphs\" textLength=\"69\" x=\"99.5\" y=\"222.1387\">«attribute»</text><text fill=\"#000000\" font-family=\"sans-serif\" font-size=\"12\" lengthAdjust=\"spacingAndGlyphs\" textLength=\"5\" x=\"131.5\" y=\"236.1074\">z</text><line style=\"stroke: #383838; stroke-width: 1.5;\" x1=\"99.5\" x2=\"168.5\" y1=\"243.9375\" y2=\"243.9375\"/></a><a href=\"psysml:add81eb6-248c-4298-8987-63cd174f8097\" target=\"_top\" title=\"psysml:add81eb6-248c-4298-8987-63cd174f8097\" xlink:actuate=\"onRequest\" xlink:href=\"psysml:add81eb6-248c-4298-8987-63cd174f8097\" xlink:show=\"new\" xlink:title=\"psysml:add81eb6-248c-4298-8987-63cd174f8097\" xlink:type=\"simple\"><polygon fill=\"#FFFFFF\" points=\"56,84.5,198,84.5,205,106.7969,212,106.7969,212,137.0938,56,137.0938,56,84.5\" style=\"stroke: #000000; stroke-width: 1.5;\"/><line style=\"stroke: #000000; stroke-width: 1.5;\" x1=\"56\" x2=\"205\" y1=\"106.7969\" y2=\"106.7969\"/><text fill=\"#000000\" font-family=\"sans-serif\" font-size=\"14\" font-weight=\"bold\" lengthAdjust=\"spacingAndGlyphs\" textLength=\"136\" x=\"60\" y=\"99.4951\">Application Layer</text></a><a href=\"psysml:95ba016d-ba70-4f40-a2b0-65410d9cce5b\" target=\"_top\" title=\"psysml:95ba016d-ba70-4f40-a2b0-65410d9cce5b\" xlink:actuate=\"onRequest\" xlink:href=\"psysml:95ba016d-ba70-4f40-a2b0-65410d9cce5b\" xlink:show=\"new\" xlink:title=\"psysml:95ba016d-ba70-4f40-a2b0-65410d9cce5b\" xlink:type=\"simple\"><polygon fill=\"#FFFFFF\" points=\"338,84.5,452,84.5,459,106.7969,466,106.7969,466,137.0938,338,137.0938,338,84.5\" style=\"stroke: #000000; stroke-width: 1.5;\"/><line style=\"stroke: #000000; stroke-width: 1.5;\" x1=\"338\" x2=\"459\" y1=\"106.7969\" y2=\"106.7969\"/><text fill=\"#000000\" font-family=\"sans-serif\" font-size=\"14\" font-weight=\"bold\" lengthAdjust=\"spacingAndGlyphs\" textLength=\"108\" x=\"342\" y=\"99.4951\">Service Layer</text></a><a href=\"psysml:ae80162e-06ca-4b24-a1f3-10c5d346ebc4\" target=\"_top\" title=\"psysml:ae80162e-06ca-4b24-a1f3-10c5d346ebc4\" xlink:actuate=\"onRequest\" xlink:href=\"psysml:ae80162e-06ca-4b24-a1f3-10c5d346ebc4\" xlink:show=\"new\" xlink:title=\"psysml:ae80162e-06ca-4b24-a1f3-10c5d346ebc4\" xlink:type=\"simple\"><polygon fill=\"#FFFFFF\" points=\"592,84.5,682,84.5,689,106.7969,696,106.7969,696,137.0938,592,137.0938,592,84.5\" style=\"stroke: #000000; stroke-width: 1.5;\"/><line style=\"stroke: #000000; stroke-width: 1.5;\" x1=\"592\" x2=\"689\" y1=\"106.7969\" y2=\"106.7969\"/><text fill=\"#000000\" font-family=\"sans-serif\" font-size=\"14\" font-weight=\"bold\" lengthAdjust=\"spacingAndGlyphs\" textLength=\"84\" x=\"596\" y=\"99.4951\">Data Layer</text></a><!--MD5=[af87c684e3b0d8be13c1a698a818ef1e]\n",
       "link E3 to E4--><a href=\"psysml:4c7b915e-320e-40c7-9399-584f1f84a9d7\" target=\"_top\" title=\"psysml:4c7b915e-320e-40c7-9399-584f1f84a9d7\" xlink:actuate=\"onRequest\" xlink:href=\"psysml:4c7b915e-320e-40c7-9399-584f1f84a9d7\" xlink:show=\"new\" xlink:title=\"psysml:4c7b915e-320e-40c7-9399-584f1f84a9d7\" xlink:type=\"simple\"><path d=\"M212.3,111 C249.37,111 293.5,111 329.76,111 \" fill=\"none\" id=\"E3-&gt;E4\" style=\"stroke: #383838; stroke-width: 1.0; stroke-dasharray: 7.0,7.0;\"/><polygon fill=\"#383838\" points=\"337.84,111,329.84,108,329.84,114,337.84,111\" style=\"stroke: #383838; stroke-width: 1.0;\"/><text fill=\"#000000\" font-family=\"sans-serif\" font-size=\"13\" lengthAdjust=\"spacingAndGlyphs\" textLength=\"64\" x=\"243\" y=\"107.0669\">«depend»</text></a><!--MD5=[1b7591eae5389033d8d09a9d6721a717]\n",
       "link E4 to E5--><a href=\"psysml:9be59ee3-60f5-4004-bc3e-00c0f7693956\" target=\"_top\" title=\"psysml:9be59ee3-60f5-4004-bc3e-00c0f7693956\" xlink:actuate=\"onRequest\" xlink:href=\"psysml:9be59ee3-60f5-4004-bc3e-00c0f7693956\" xlink:show=\"new\" xlink:title=\"psysml:9be59ee3-60f5-4004-bc3e-00c0f7693956\" xlink:type=\"simple\"><path d=\"M466.06,111 C502.32,111 547.6,111 583.28,111 \" fill=\"none\" id=\"E4-&gt;E5\" style=\"stroke: #383838; stroke-width: 1.0; stroke-dasharray: 7.0,7.0;\"/><polygon fill=\"#383838\" points=\"591.67,111,583.67,108,583.67,114,591.67,111\" style=\"stroke: #383838; stroke-width: 1.0;\"/><text fill=\"#000000\" font-family=\"sans-serif\" font-size=\"13\" lengthAdjust=\"spacingAndGlyphs\" textLength=\"64\" x=\"497\" y=\"107.0669\">«depend»</text></a><!--MD5=[c5e8897d989ce984f93528998a7150fe]\n",
       "link E8 to E6--><a href=\"psysml:80784242-98cb-449c-a51f-f2c7c1061d87\" target=\"_top\" title=\"psysml:80784242-98cb-449c-a51f-f2c7c1061d87\" xlink:actuate=\"onRequest\" xlink:href=\"psysml:80784242-98cb-449c-a51f-f2c7c1061d87\" xlink:show=\"new\" xlink:title=\"psysml:80784242-98cb-449c-a51f-f2c7c1061d87\" xlink:type=\"simple\"><path d=\"M169.5,235.23 C217.81,243.94 305.54,259.77 358.03,269.25 \" fill=\"none\" id=\"E8-&gt;E6\" style=\"stroke: #383838; stroke-width: 1.0; stroke-dasharray: 7.0,7.0;\"/><polygon fill=\"#383838\" points=\"366.14,270.71,358.7966,266.3425,357.7356,272.248,366.14,270.71\" style=\"stroke: #383838; stroke-width: 1.0;\"/><text fill=\"#000000\" font-family=\"sans-serif\" font-size=\"13\" lengthAdjust=\"spacingAndGlyphs\" textLength=\"64\" x=\"243\" y=\"245.0669\">«depend»</text></a><!--MD5=[bfa3c8b0d15052fdf50ae9310b491027]\n",
       "link E8 to E7--><a href=\"psysml:80784242-98cb-449c-a51f-f2c7c1061d87\" target=\"_top\" title=\"psysml:80784242-98cb-449c-a51f-f2c7c1061d87\" xlink:actuate=\"onRequest\" xlink:href=\"psysml:80784242-98cb-449c-a51f-f2c7c1061d87\" xlink:show=\"new\" xlink:title=\"psysml:80784242-98cb-449c-a51f-f2c7c1061d87\" xlink:type=\"simple\"><path d=\"M169.5,224.72 C217.81,218.73 305.54,207.84 358.03,201.33 \" fill=\"none\" id=\"E8-&gt;E7\" style=\"stroke: #383838; stroke-width: 1.0; stroke-dasharray: 7.0,7.0;\"/><polygon fill=\"#383838\" points=\"366.14,200.33,357.8314,198.3381,358.5704,204.2924,366.14,200.33\" style=\"stroke: #383838; stroke-width: 1.0;\"/><text fill=\"#000000\" font-family=\"sans-serif\" font-size=\"13\" lengthAdjust=\"spacingAndGlyphs\" textLength=\"64\" x=\"243\" y=\"204.0669\">«depend»</text></a><!--MD5=[09233149d6e95d1509b2512a18abe9a1]\n",
       "@startuml\r\n",
       "left to right direction\r\n",
       "skinparam monochrome true\r\n",
       "skinparam classbackgroundcolor white\r\n",
       "skinparam shadowing false\r\n",
       "skinparam wrapWidth 300\r\n",
       "hide circle\r\n",
       "\r\n",
       "package \"DependencyTest\" as E1  [[psysml:438e34af-3ce5-4e99-acf4-d3ecd205ea23 ]]  {\r\n",
       "package \"System\" as E2  [[psysml:33a226aa-95cf-4670-96e1-1bd6e94f796f ]]  {\r\n",
       "package \"Application Layer\" as E3  [[psysml:add81eb6-248c-4298-8987-63cd174f8097 ]]  {\r\n",
       "}\r\n",
       "package \"Service Layer\" as E4  [[psysml:95ba016d-ba70-4f40-a2b0-65410d9cce5b ]]  {\r\n",
       "}\r\n",
       "package \"Data Layer\" as E5  [[psysml:ae80162e-06ca-4b24-a1f3-10c5d346ebc4 ]]  {\r\n",
       "}\r\n",
       "}\r\n",
       "comp usage \"x\" as E6  <<(T,blue)attribute>> [[psysml:747ec202-6e4c-456d-855d-21470db0b7f2 ]] {\r\n",
       "}\r\n",
       "comp usage \"y\" as E7  <<(T,blue)attribute>> [[psysml:aee293b7-b915-4f4d-bf33-13d7af80ad07 ]] {\r\n",
       "}\r\n",
       "comp usage \"z\" as E8  <<(T,blue)attribute>> [[psysml:1c42907e-9ca4-4468-bbbb-1ea70701dab3 ]] {\r\n",
       "}\r\n",
       "E3 ..>> E4 [[psysml:4c7b915e-320e-40c7-9399-584f1f84a9d7 ]] : <<depend>>\r\n",
       "E4 ..>> E5 [[psysml:9be59ee3-60f5-4004-bc3e-00c0f7693956 ]] : <<depend>>\r\n",
       "E8 ..>> E6 [[psysml:80784242-98cb-449c-a51f-f2c7c1061d87 ]] : <<depend>>\r\n",
       "E8 ..>> E7 [[psysml:80784242-98cb-449c-a51f-f2c7c1061d87 ]] : <<depend>>\r\n",
       "}\r\n",
       "@enduml\r\n",
       "\n",
       "PlantUML version 1.2020.13(Sat Jun 13 12:26:38 UTC 2020)\n",
       "(EPL source distribution)\n",
       "Java Runtime: OpenJDK Runtime Environment\n",
       "JVM: OpenJDK 64-Bit Server VM\n",
       "Default Encoding: UTF-8\n",
       "Language: en\n",
       "Country: null\n",
       "--></g></svg>"
      ]
     },
     "execution_count": 16,
     "metadata": {},
     "output_type": "execute_result"
    }
   ],
   "source": [
    "%viz --style=\"LR\" --view=\"Default\" \"DependencyTest\""
   ]
  },
  {
   "cell_type": "code",
   "execution_count": 17,
   "id": "expanded-tension",
   "metadata": {
    "execution": {
     "iopub.execute_input": "2021-03-25T13:26:16.051206Z",
     "iopub.status.busy": "2021-03-25T13:26:16.050517Z",
     "iopub.status.idle": "2021-03-25T13:26:16.157459Z",
     "shell.execute_reply": "2021-03-25T13:26:16.158196Z"
    }
   },
   "outputs": [
    {
     "data": {
      "image/svg+xml": [
       "<?xml version=\"1.0\" encoding=\"UTF-8\" standalone=\"no\"?><svg xmlns=\"http://www.w3.org/2000/svg\" xmlns:xlink=\"http://www.w3.org/1999/xlink\" contentScriptType=\"application/ecmascript\" contentStyleType=\"text/css\" height=\"328px\" preserveAspectRatio=\"none\" style=\"width:758px;height:328px;\" version=\"1.1\" viewBox=\"0 0 758 328\" width=\"758px\" zoomAndPan=\"magnify\"><defs/><g><!--MD5=[fbc87193dbaf4d95561dea2c320d4a47]\n",
       "cluster E1--><a href=\"psysml:438e34af-3ce5-4e99-acf4-d3ecd205ea23\" target=\"_top\" title=\"psysml:438e34af-3ce5-4e99-acf4-d3ecd205ea23\" xlink:actuate=\"onRequest\" xlink:href=\"psysml:438e34af-3ce5-4e99-acf4-d3ecd205ea23\" xlink:show=\"new\" xlink:title=\"psysml:438e34af-3ce5-4e99-acf4-d3ecd205ea23\" xlink:type=\"simple\"><polygon fill=\"#FFFFFF\" points=\"16,6,156,6,163,28.2969,736,28.2969,736,316,16,316,16,6\" style=\"stroke: #000000; stroke-width: 1.5;\"/><line style=\"stroke: #000000; stroke-width: 1.5;\" x1=\"16\" x2=\"163\" y1=\"28.2969\" y2=\"28.2969\"/><text fill=\"#000000\" font-family=\"sans-serif\" font-size=\"14\" font-weight=\"bold\" lengthAdjust=\"spacingAndGlyphs\" textLength=\"134\" x=\"20\" y=\"20.9951\">DependencyTest</text></a><!--MD5=[e4f7fae6ed58524ba242bb0b0d3be6b7]\n",
       "cluster E2--><a href=\"psysml:33a226aa-95cf-4670-96e1-1bd6e94f796f\" target=\"_top\" title=\"psysml:33a226aa-95cf-4670-96e1-1bd6e94f796f\" xlink:actuate=\"onRequest\" xlink:href=\"psysml:33a226aa-95cf-4670-96e1-1bd6e94f796f\" xlink:show=\"new\" xlink:title=\"psysml:33a226aa-95cf-4670-96e1-1bd6e94f796f\" xlink:type=\"simple\"><polygon fill=\"#FFFFFF\" points=\"40,49,104,49,111,71.2969,712,71.2969,712,154,40,154,40,49\" style=\"stroke: #000000; stroke-width: 1.5;\"/><line style=\"stroke: #000000; stroke-width: 1.5;\" x1=\"40\" x2=\"111\" y1=\"71.2969\" y2=\"71.2969\"/><text fill=\"#000000\" font-family=\"sans-serif\" font-size=\"14\" font-weight=\"bold\" lengthAdjust=\"spacingAndGlyphs\" textLength=\"58\" x=\"44\" y=\"63.9951\">System</text></a><!--MD5=[60a26617385b1d2d0262a64233df1f8d]\n",
       "class E6--><a href=\"psysml:747ec202-6e4c-456d-855d-21470db0b7f2\" target=\"_top\" title=\"psysml:747ec202-6e4c-456d-855d-21470db0b7f2\" xlink:actuate=\"onRequest\" xlink:href=\"psysml:747ec202-6e4c-456d-855d-21470db0b7f2\" xlink:show=\"new\" xlink:title=\"psysml:747ec202-6e4c-456d-855d-21470db0b7f2\" xlink:type=\"simple\"><rect fill=\"#FFFFFF\" height=\"45.9375\" id=\"E6\" rx=\"10\" ry=\"10\" style=\"stroke: #383838; stroke-width: 1.5;\" width=\"71\" x=\"366.5\" y=\"254\"/><text fill=\"#000000\" font-family=\"sans-serif\" font-size=\"12\" font-style=\"italic\" lengthAdjust=\"spacingAndGlyphs\" textLength=\"69\" x=\"367.5\" y=\"270.1387\">«attribute»</text><text fill=\"#000000\" font-family=\"sans-serif\" font-size=\"12\" lengthAdjust=\"spacingAndGlyphs\" textLength=\"6\" x=\"399\" y=\"284.1074\">x</text><line style=\"stroke: #383838; stroke-width: 1.5;\" x1=\"367.5\" x2=\"436.5\" y1=\"291.9375\" y2=\"291.9375\"/></a><!--MD5=[2156ba9850f5573cc1fc38a6a4b2f02b]\n",
       "class E7--><a href=\"psysml:aee293b7-b915-4f4d-bf33-13d7af80ad07\" target=\"_top\" title=\"psysml:aee293b7-b915-4f4d-bf33-13d7af80ad07\" xlink:actuate=\"onRequest\" xlink:href=\"psysml:aee293b7-b915-4f4d-bf33-13d7af80ad07\" xlink:show=\"new\" xlink:title=\"psysml:aee293b7-b915-4f4d-bf33-13d7af80ad07\" xlink:type=\"simple\"><rect fill=\"#FFFFFF\" height=\"45.9375\" id=\"E7\" rx=\"10\" ry=\"10\" style=\"stroke: #383838; stroke-width: 1.5;\" width=\"71\" x=\"366.5\" y=\"173\"/><text fill=\"#000000\" font-family=\"sans-serif\" font-size=\"12\" font-style=\"italic\" lengthAdjust=\"spacingAndGlyphs\" textLength=\"69\" x=\"367.5\" y=\"189.1387\">«attribute»</text><text fill=\"#000000\" font-family=\"sans-serif\" font-size=\"12\" lengthAdjust=\"spacingAndGlyphs\" textLength=\"6\" x=\"399\" y=\"203.1074\">y</text><line style=\"stroke: #383838; stroke-width: 1.5;\" x1=\"367.5\" x2=\"436.5\" y1=\"210.9375\" y2=\"210.9375\"/></a><!--MD5=[b9389687b975829384b498ac4b7476b2]\n",
       "class E8--><a href=\"psysml:1c42907e-9ca4-4468-bbbb-1ea70701dab3\" target=\"_top\" title=\"psysml:1c42907e-9ca4-4468-bbbb-1ea70701dab3\" xlink:actuate=\"onRequest\" xlink:href=\"psysml:1c42907e-9ca4-4468-bbbb-1ea70701dab3\" xlink:show=\"new\" xlink:title=\"psysml:1c42907e-9ca4-4468-bbbb-1ea70701dab3\" xlink:type=\"simple\"><rect fill=\"#FFFFFF\" height=\"45.9375\" id=\"E8\" rx=\"10\" ry=\"10\" style=\"stroke: #383838; stroke-width: 1.5;\" width=\"71\" x=\"98.5\" y=\"206\"/><text fill=\"#000000\" font-family=\"sans-serif\" font-size=\"12\" font-style=\"italic\" lengthAdjust=\"spacingAndGlyphs\" textLength=\"69\" x=\"99.5\" y=\"222.1387\">«attribute»</text><text fill=\"#000000\" font-family=\"sans-serif\" font-size=\"12\" lengthAdjust=\"spacingAndGlyphs\" textLength=\"5\" x=\"131.5\" y=\"236.1074\">z</text><line style=\"stroke: #383838; stroke-width: 1.5;\" x1=\"99.5\" x2=\"168.5\" y1=\"243.9375\" y2=\"243.9375\"/></a><a href=\"psysml:add81eb6-248c-4298-8987-63cd174f8097\" target=\"_top\" title=\"psysml:add81eb6-248c-4298-8987-63cd174f8097\" xlink:actuate=\"onRequest\" xlink:href=\"psysml:add81eb6-248c-4298-8987-63cd174f8097\" xlink:show=\"new\" xlink:title=\"psysml:add81eb6-248c-4298-8987-63cd174f8097\" xlink:type=\"simple\"><polygon fill=\"#FFFFFF\" points=\"56,84.5,198,84.5,205,106.7969,212,106.7969,212,137.0938,56,137.0938,56,84.5\" style=\"stroke: #000000; stroke-width: 1.5;\"/><line style=\"stroke: #000000; stroke-width: 1.5;\" x1=\"56\" x2=\"205\" y1=\"106.7969\" y2=\"106.7969\"/><text fill=\"#000000\" font-family=\"sans-serif\" font-size=\"14\" font-weight=\"bold\" lengthAdjust=\"spacingAndGlyphs\" textLength=\"136\" x=\"60\" y=\"99.4951\">Application Layer</text></a><a href=\"psysml:95ba016d-ba70-4f40-a2b0-65410d9cce5b\" target=\"_top\" title=\"psysml:95ba016d-ba70-4f40-a2b0-65410d9cce5b\" xlink:actuate=\"onRequest\" xlink:href=\"psysml:95ba016d-ba70-4f40-a2b0-65410d9cce5b\" xlink:show=\"new\" xlink:title=\"psysml:95ba016d-ba70-4f40-a2b0-65410d9cce5b\" xlink:type=\"simple\"><polygon fill=\"#FFFFFF\" points=\"338,84.5,452,84.5,459,106.7969,466,106.7969,466,137.0938,338,137.0938,338,84.5\" style=\"stroke: #000000; stroke-width: 1.5;\"/><line style=\"stroke: #000000; stroke-width: 1.5;\" x1=\"338\" x2=\"459\" y1=\"106.7969\" y2=\"106.7969\"/><text fill=\"#000000\" font-family=\"sans-serif\" font-size=\"14\" font-weight=\"bold\" lengthAdjust=\"spacingAndGlyphs\" textLength=\"108\" x=\"342\" y=\"99.4951\">Service Layer</text></a><a href=\"psysml:ae80162e-06ca-4b24-a1f3-10c5d346ebc4\" target=\"_top\" title=\"psysml:ae80162e-06ca-4b24-a1f3-10c5d346ebc4\" xlink:actuate=\"onRequest\" xlink:href=\"psysml:ae80162e-06ca-4b24-a1f3-10c5d346ebc4\" xlink:show=\"new\" xlink:title=\"psysml:ae80162e-06ca-4b24-a1f3-10c5d346ebc4\" xlink:type=\"simple\"><polygon fill=\"#FFFFFF\" points=\"592,84.5,682,84.5,689,106.7969,696,106.7969,696,137.0938,592,137.0938,592,84.5\" style=\"stroke: #000000; stroke-width: 1.5;\"/><line style=\"stroke: #000000; stroke-width: 1.5;\" x1=\"592\" x2=\"689\" y1=\"106.7969\" y2=\"106.7969\"/><text fill=\"#000000\" font-family=\"sans-serif\" font-size=\"14\" font-weight=\"bold\" lengthAdjust=\"spacingAndGlyphs\" textLength=\"84\" x=\"596\" y=\"99.4951\">Data Layer</text></a><!--MD5=[af87c684e3b0d8be13c1a698a818ef1e]\n",
       "link E3 to E4--><a href=\"psysml:4c7b915e-320e-40c7-9399-584f1f84a9d7\" target=\"_top\" title=\"psysml:4c7b915e-320e-40c7-9399-584f1f84a9d7\" xlink:actuate=\"onRequest\" xlink:href=\"psysml:4c7b915e-320e-40c7-9399-584f1f84a9d7\" xlink:show=\"new\" xlink:title=\"psysml:4c7b915e-320e-40c7-9399-584f1f84a9d7\" xlink:type=\"simple\"><path d=\"M212.3,111 C249.37,111 293.5,111 329.76,111 \" fill=\"none\" id=\"E3-&gt;E4\" style=\"stroke: #383838; stroke-width: 1.0; stroke-dasharray: 7.0,7.0;\"/><polygon fill=\"#383838\" points=\"337.84,111,329.84,108,329.84,114,337.84,111\" style=\"stroke: #383838; stroke-width: 1.0;\"/><text fill=\"#000000\" font-family=\"sans-serif\" font-size=\"13\" lengthAdjust=\"spacingAndGlyphs\" textLength=\"64\" x=\"243\" y=\"107.0669\">«depend»</text></a><!--MD5=[1b7591eae5389033d8d09a9d6721a717]\n",
       "link E4 to E5--><a href=\"psysml:9be59ee3-60f5-4004-bc3e-00c0f7693956\" target=\"_top\" title=\"psysml:9be59ee3-60f5-4004-bc3e-00c0f7693956\" xlink:actuate=\"onRequest\" xlink:href=\"psysml:9be59ee3-60f5-4004-bc3e-00c0f7693956\" xlink:show=\"new\" xlink:title=\"psysml:9be59ee3-60f5-4004-bc3e-00c0f7693956\" xlink:type=\"simple\"><path d=\"M466.06,111 C502.32,111 547.6,111 583.28,111 \" fill=\"none\" id=\"E4-&gt;E5\" style=\"stroke: #383838; stroke-width: 1.0; stroke-dasharray: 7.0,7.0;\"/><polygon fill=\"#383838\" points=\"591.67,111,583.67,108,583.67,114,591.67,111\" style=\"stroke: #383838; stroke-width: 1.0;\"/><text fill=\"#000000\" font-family=\"sans-serif\" font-size=\"13\" lengthAdjust=\"spacingAndGlyphs\" textLength=\"64\" x=\"497\" y=\"107.0669\">«depend»</text></a><!--MD5=[c5e8897d989ce984f93528998a7150fe]\n",
       "link E8 to E6--><a href=\"psysml:80784242-98cb-449c-a51f-f2c7c1061d87\" target=\"_top\" title=\"psysml:80784242-98cb-449c-a51f-f2c7c1061d87\" xlink:actuate=\"onRequest\" xlink:href=\"psysml:80784242-98cb-449c-a51f-f2c7c1061d87\" xlink:show=\"new\" xlink:title=\"psysml:80784242-98cb-449c-a51f-f2c7c1061d87\" xlink:type=\"simple\"><path d=\"M169.5,235.23 C217.81,243.94 305.54,259.77 358.03,269.25 \" fill=\"none\" id=\"E8-&gt;E6\" style=\"stroke: #383838; stroke-width: 1.0; stroke-dasharray: 7.0,7.0;\"/><polygon fill=\"#383838\" points=\"366.14,270.71,358.7966,266.3425,357.7356,272.248,366.14,270.71\" style=\"stroke: #383838; stroke-width: 1.0;\"/><text fill=\"#000000\" font-family=\"sans-serif\" font-size=\"13\" lengthAdjust=\"spacingAndGlyphs\" textLength=\"64\" x=\"243\" y=\"245.0669\">«depend»</text></a><!--MD5=[bfa3c8b0d15052fdf50ae9310b491027]\n",
       "link E8 to E7--><a href=\"psysml:80784242-98cb-449c-a51f-f2c7c1061d87\" target=\"_top\" title=\"psysml:80784242-98cb-449c-a51f-f2c7c1061d87\" xlink:actuate=\"onRequest\" xlink:href=\"psysml:80784242-98cb-449c-a51f-f2c7c1061d87\" xlink:show=\"new\" xlink:title=\"psysml:80784242-98cb-449c-a51f-f2c7c1061d87\" xlink:type=\"simple\"><path d=\"M169.5,224.72 C217.81,218.73 305.54,207.84 358.03,201.33 \" fill=\"none\" id=\"E8-&gt;E7\" style=\"stroke: #383838; stroke-width: 1.0; stroke-dasharray: 7.0,7.0;\"/><polygon fill=\"#383838\" points=\"366.14,200.33,357.8314,198.3381,358.5704,204.2924,366.14,200.33\" style=\"stroke: #383838; stroke-width: 1.0;\"/><text fill=\"#000000\" font-family=\"sans-serif\" font-size=\"13\" lengthAdjust=\"spacingAndGlyphs\" textLength=\"64\" x=\"243\" y=\"204.0669\">«depend»</text></a><!--MD5=[09233149d6e95d1509b2512a18abe9a1]\n",
       "@startuml\r\n",
       "left to right direction\r\n",
       "skinparam monochrome true\r\n",
       "skinparam classbackgroundcolor white\r\n",
       "skinparam shadowing false\r\n",
       "skinparam wrapWidth 300\r\n",
       "hide circle\r\n",
       "\r\n",
       "package \"DependencyTest\" as E1  [[psysml:438e34af-3ce5-4e99-acf4-d3ecd205ea23 ]]  {\r\n",
       "package \"System\" as E2  [[psysml:33a226aa-95cf-4670-96e1-1bd6e94f796f ]]  {\r\n",
       "package \"Application Layer\" as E3  [[psysml:add81eb6-248c-4298-8987-63cd174f8097 ]]  {\r\n",
       "}\r\n",
       "package \"Service Layer\" as E4  [[psysml:95ba016d-ba70-4f40-a2b0-65410d9cce5b ]]  {\r\n",
       "}\r\n",
       "package \"Data Layer\" as E5  [[psysml:ae80162e-06ca-4b24-a1f3-10c5d346ebc4 ]]  {\r\n",
       "}\r\n",
       "}\r\n",
       "comp usage \"x\" as E6  <<(T,blue)attribute>> [[psysml:747ec202-6e4c-456d-855d-21470db0b7f2 ]] {\r\n",
       "}\r\n",
       "comp usage \"y\" as E7  <<(T,blue)attribute>> [[psysml:aee293b7-b915-4f4d-bf33-13d7af80ad07 ]] {\r\n",
       "}\r\n",
       "comp usage \"z\" as E8  <<(T,blue)attribute>> [[psysml:1c42907e-9ca4-4468-bbbb-1ea70701dab3 ]] {\r\n",
       "}\r\n",
       "E3 ..>> E4 [[psysml:4c7b915e-320e-40c7-9399-584f1f84a9d7 ]] : <<depend>>\r\n",
       "E4 ..>> E5 [[psysml:9be59ee3-60f5-4004-bc3e-00c0f7693956 ]] : <<depend>>\r\n",
       "E8 ..>> E6 [[psysml:80784242-98cb-449c-a51f-f2c7c1061d87 ]] : <<depend>>\r\n",
       "E8 ..>> E7 [[psysml:80784242-98cb-449c-a51f-f2c7c1061d87 ]] : <<depend>>\r\n",
       "}\r\n",
       "@enduml\r\n",
       "\n",
       "PlantUML version 1.2020.13(Sat Jun 13 12:26:38 UTC 2020)\n",
       "(EPL source distribution)\n",
       "Java Runtime: OpenJDK Runtime Environment\n",
       "JVM: OpenJDK 64-Bit Server VM\n",
       "Default Encoding: UTF-8\n",
       "Language: en\n",
       "Country: null\n",
       "--></g></svg>"
      ]
     },
     "execution_count": 17,
     "metadata": {},
     "output_type": "execute_result"
    }
   ],
   "source": [
    "%viz --style=\"LR\" --view=\"Tree\" \"DependencyTest\""
   ]
  },
  {
   "cell_type": "code",
   "execution_count": 18,
   "id": "solved-possession",
   "metadata": {
    "execution": {
     "iopub.execute_input": "2021-03-25T13:26:16.207663Z",
     "iopub.status.busy": "2021-03-25T13:26:16.207264Z",
     "iopub.status.idle": "2021-03-25T13:26:16.214713Z",
     "shell.execute_reply": "2021-03-25T13:26:16.215229Z"
    }
   },
   "outputs": [
    {
     "data": {
      "image/svg+xml": [
       "<?xml version=\"1.0\" encoding=\"UTF-8\" standalone=\"no\"?><svg xmlns=\"http://www.w3.org/2000/svg\" xmlns:xlink=\"http://www.w3.org/1999/xlink\" contentScriptType=\"application/ecmascript\" contentStyleType=\"text/css\" height=\"12px\" preserveAspectRatio=\"none\" style=\"width:12px;height:12px;\" version=\"1.1\" viewBox=\"0 0 12 12\" width=\"12px\" zoomAndPan=\"magnify\"><defs/><g><!--MD5=[19d285c9d72a204eba4e2cd117d745e8]\n",
       "@startuml\r\n",
       "left to right direction\r\n",
       "skinparam monochrome true\r\n",
       "skinparam classbackgroundcolor white\r\n",
       "skinparam shadowing false\r\n",
       "skinparam wrapWidth 300\r\n",
       "hide circle\r\n",
       "\r\n",
       "@enduml\r\n",
       "\n",
       "PlantUML version 1.2020.13(Sat Jun 13 12:26:38 UTC 2020)\n",
       "(EPL source distribution)\n",
       "Java Runtime: OpenJDK Runtime Environment\n",
       "JVM: OpenJDK 64-Bit Server VM\n",
       "Default Encoding: UTF-8\n",
       "Language: en\n",
       "Country: null\n",
       "--></g></svg>"
      ]
     },
     "execution_count": 18,
     "metadata": {},
     "output_type": "execute_result"
    }
   ],
   "source": [
    "%viz --style=\"LR\" --view=\"State\" \"DependencyTest\""
   ]
  },
  {
   "cell_type": "code",
   "execution_count": 19,
   "id": "private-thomson",
   "metadata": {
    "execution": {
     "iopub.execute_input": "2021-03-25T13:26:16.265826Z",
     "iopub.status.busy": "2021-03-25T13:26:16.265354Z",
     "iopub.status.idle": "2021-03-25T13:26:16.375749Z",
     "shell.execute_reply": "2021-03-25T13:26:16.375335Z"
    }
   },
   "outputs": [
    {
     "data": {
      "image/svg+xml": [
       "<?xml version=\"1.0\" encoding=\"UTF-8\" standalone=\"no\"?><svg xmlns=\"http://www.w3.org/2000/svg\" xmlns:xlink=\"http://www.w3.org/1999/xlink\" contentScriptType=\"application/ecmascript\" contentStyleType=\"text/css\" height=\"322px\" preserveAspectRatio=\"none\" style=\"width:670px;height:322px;\" version=\"1.1\" viewBox=\"0 0 670 322\" width=\"670px\" zoomAndPan=\"magnify\"><defs/><g><!--MD5=[fbc87193dbaf4d95561dea2c320d4a47]\n",
       "cluster E1--><a href=\"psysml:438e34af-3ce5-4e99-acf4-d3ecd205ea23\" target=\"_top\" title=\"psysml:438e34af-3ce5-4e99-acf4-d3ecd205ea23\" xlink:actuate=\"onRequest\" xlink:href=\"psysml:438e34af-3ce5-4e99-acf4-d3ecd205ea23\" xlink:show=\"new\" xlink:title=\"psysml:438e34af-3ce5-4e99-acf4-d3ecd205ea23\" xlink:type=\"simple\"><polygon fill=\"#FFFFFF\" points=\"16,6,156,6,163,28.2969,648,28.2969,648,310,16,310,16,6\" style=\"stroke: #000000; stroke-width: 1.5;\"/><line style=\"stroke: #000000; stroke-width: 1.5;\" x1=\"16\" x2=\"163\" y1=\"28.2969\" y2=\"28.2969\"/><text fill=\"#000000\" font-family=\"sans-serif\" font-size=\"14\" font-weight=\"bold\" lengthAdjust=\"spacingAndGlyphs\" textLength=\"134\" x=\"20\" y=\"20.9951\">DependencyTest</text></a><!--MD5=[e4f7fae6ed58524ba242bb0b0d3be6b7]\n",
       "cluster E2--><a href=\"psysml:33a226aa-95cf-4670-96e1-1bd6e94f796f\" target=\"_top\" title=\"psysml:33a226aa-95cf-4670-96e1-1bd6e94f796f\" xlink:actuate=\"onRequest\" xlink:href=\"psysml:33a226aa-95cf-4670-96e1-1bd6e94f796f\" xlink:show=\"new\" xlink:title=\"psysml:33a226aa-95cf-4670-96e1-1bd6e94f796f\" xlink:type=\"simple\"><polygon fill=\"#FFFFFF\" points=\"40,49,104,49,111,71.2969,624,71.2969,624,154,40,154,40,49\" style=\"stroke: #000000; stroke-width: 1.5;\"/><line style=\"stroke: #000000; stroke-width: 1.5;\" x1=\"40\" x2=\"111\" y1=\"71.2969\" y2=\"71.2969\"/><text fill=\"#000000\" font-family=\"sans-serif\" font-size=\"14\" font-weight=\"bold\" lengthAdjust=\"spacingAndGlyphs\" textLength=\"58\" x=\"44\" y=\"63.9951\">System</text></a><a href=\"psysml:add81eb6-248c-4298-8987-63cd174f8097\" target=\"_top\" title=\"psysml:add81eb6-248c-4298-8987-63cd174f8097\" xlink:actuate=\"onRequest\" xlink:href=\"psysml:add81eb6-248c-4298-8987-63cd174f8097\" xlink:show=\"new\" xlink:title=\"psysml:add81eb6-248c-4298-8987-63cd174f8097\" xlink:type=\"simple\"><polygon fill=\"#FFFFFF\" points=\"56,84.5,198,84.5,205,106.7969,212,106.7969,212,137.0938,56,137.0938,56,84.5\" style=\"stroke: #000000; stroke-width: 1.5;\"/><line style=\"stroke: #000000; stroke-width: 1.5;\" x1=\"56\" x2=\"205\" y1=\"106.7969\" y2=\"106.7969\"/><text fill=\"#000000\" font-family=\"sans-serif\" font-size=\"14\" font-weight=\"bold\" lengthAdjust=\"spacingAndGlyphs\" textLength=\"136\" x=\"60\" y=\"99.4951\">Application Layer</text></a><a href=\"psysml:95ba016d-ba70-4f40-a2b0-65410d9cce5b\" target=\"_top\" title=\"psysml:95ba016d-ba70-4f40-a2b0-65410d9cce5b\" xlink:actuate=\"onRequest\" xlink:href=\"psysml:95ba016d-ba70-4f40-a2b0-65410d9cce5b\" xlink:show=\"new\" xlink:title=\"psysml:95ba016d-ba70-4f40-a2b0-65410d9cce5b\" xlink:type=\"simple\"><polygon fill=\"#FFFFFF\" points=\"294,84.5,408,84.5,415,106.7969,422,106.7969,422,137.0938,294,137.0938,294,84.5\" style=\"stroke: #000000; stroke-width: 1.5;\"/><line style=\"stroke: #000000; stroke-width: 1.5;\" x1=\"294\" x2=\"415\" y1=\"106.7969\" y2=\"106.7969\"/><text fill=\"#000000\" font-family=\"sans-serif\" font-size=\"14\" font-weight=\"bold\" lengthAdjust=\"spacingAndGlyphs\" textLength=\"108\" x=\"298\" y=\"99.4951\">Service Layer</text></a><a href=\"psysml:ae80162e-06ca-4b24-a1f3-10c5d346ebc4\" target=\"_top\" title=\"psysml:ae80162e-06ca-4b24-a1f3-10c5d346ebc4\" xlink:actuate=\"onRequest\" xlink:href=\"psysml:ae80162e-06ca-4b24-a1f3-10c5d346ebc4\" xlink:show=\"new\" xlink:title=\"psysml:ae80162e-06ca-4b24-a1f3-10c5d346ebc4\" xlink:type=\"simple\"><polygon fill=\"#FFFFFF\" points=\"504,84.5,594,84.5,601,106.7969,608,106.7969,608,137.0938,504,137.0938,504,84.5\" style=\"stroke: #000000; stroke-width: 1.5;\"/><line style=\"stroke: #000000; stroke-width: 1.5;\" x1=\"504\" x2=\"601\" y1=\"106.7969\" y2=\"106.7969\"/><text fill=\"#000000\" font-family=\"sans-serif\" font-size=\"14\" font-weight=\"bold\" lengthAdjust=\"spacingAndGlyphs\" textLength=\"84\" x=\"508\" y=\"99.4951\">Data Layer</text></a><g id=\"E1.E6\"><a href=\"psysml:747ec202-6e4c-456d-855d-21470db0b7f2\" target=\"_top\" title=\"psysml:747ec202-6e4c-456d-855d-21470db0b7f2\" xlink:actuate=\"onRequest\" xlink:href=\"psysml:747ec202-6e4c-456d-855d-21470db0b7f2\" xlink:show=\"new\" xlink:title=\"psysml:747ec202-6e4c-456d-855d-21470db0b7f2\" xlink:type=\"simple\"><rect fill=\"#FFFFFF\" height=\"42.9375\" id=\"E6\" rx=\"10\" ry=\"10\" style=\"stroke: #383838; stroke-width: 1.5;\" width=\"76\" x=\"320\" y=\"250.5\"/><rect fill=\"#F8F8F8\" height=\"37.9375\" rx=\"10\" ry=\"10\" style=\"stroke: #F8F8F8; stroke-width: 1.5;\" width=\"76\" x=\"320\" y=\"250.5\"/><rect fill=\"#F8F8F8\" height=\"10\" style=\"stroke: #F8F8F8; stroke-width: 1.5;\" width=\"76\" x=\"320\" y=\"278.4375\"/><rect fill=\"none\" height=\"42.9375\" id=\"E6\" rx=\"10\" ry=\"10\" style=\"stroke: #383838; stroke-width: 1.5;\" width=\"76\" x=\"320\" y=\"250.5\"/><text fill=\"#000000\" font-family=\"sans-serif\" font-size=\"12\" font-style=\"italic\" lengthAdjust=\"spacingAndGlyphs\" textLength=\"69\" x=\"323.5\" y=\"266.6387\">«attribute»</text><text fill=\"#000000\" font-family=\"sans-serif\" font-size=\"12\" lengthAdjust=\"spacingAndGlyphs\" textLength=\"6\" x=\"355\" y=\"280.6074\">x</text></a></g><g id=\"E1.E7\"><a href=\"psysml:aee293b7-b915-4f4d-bf33-13d7af80ad07\" target=\"_top\" title=\"psysml:aee293b7-b915-4f4d-bf33-13d7af80ad07\" xlink:actuate=\"onRequest\" xlink:href=\"psysml:aee293b7-b915-4f4d-bf33-13d7af80ad07\" xlink:show=\"new\" xlink:title=\"psysml:aee293b7-b915-4f4d-bf33-13d7af80ad07\" xlink:type=\"simple\"><rect fill=\"#FFFFFF\" height=\"42.9375\" id=\"E7\" rx=\"10\" ry=\"10\" style=\"stroke: #383838; stroke-width: 1.5;\" width=\"76\" x=\"320\" y=\"172.5\"/><rect fill=\"#F8F8F8\" height=\"37.9375\" rx=\"10\" ry=\"10\" style=\"stroke: #F8F8F8; stroke-width: 1.5;\" width=\"76\" x=\"320\" y=\"172.5\"/><rect fill=\"#F8F8F8\" height=\"10\" style=\"stroke: #F8F8F8; stroke-width: 1.5;\" width=\"76\" x=\"320\" y=\"200.4375\"/><rect fill=\"none\" height=\"42.9375\" id=\"E7\" rx=\"10\" ry=\"10\" style=\"stroke: #383838; stroke-width: 1.5;\" width=\"76\" x=\"320\" y=\"172.5\"/><text fill=\"#000000\" font-family=\"sans-serif\" font-size=\"12\" font-style=\"italic\" lengthAdjust=\"spacingAndGlyphs\" textLength=\"69\" x=\"323.5\" y=\"188.6387\">«attribute»</text><text fill=\"#000000\" font-family=\"sans-serif\" font-size=\"12\" lengthAdjust=\"spacingAndGlyphs\" textLength=\"6\" x=\"355\" y=\"202.6074\">y</text></a></g><g id=\"E1.E8\"><a href=\"psysml:1c42907e-9ca4-4468-bbbb-1ea70701dab3\" target=\"_top\" title=\"psysml:1c42907e-9ca4-4468-bbbb-1ea70701dab3\" xlink:actuate=\"onRequest\" xlink:href=\"psysml:1c42907e-9ca4-4468-bbbb-1ea70701dab3\" xlink:show=\"new\" xlink:title=\"psysml:1c42907e-9ca4-4468-bbbb-1ea70701dab3\" xlink:type=\"simple\"><rect fill=\"#FFFFFF\" height=\"42.9375\" id=\"E8\" rx=\"10\" ry=\"10\" style=\"stroke: #383838; stroke-width: 1.5;\" width=\"76\" x=\"96\" y=\"204.5\"/><rect fill=\"#F8F8F8\" height=\"37.9375\" rx=\"10\" ry=\"10\" style=\"stroke: #F8F8F8; stroke-width: 1.5;\" width=\"76\" x=\"96\" y=\"204.5\"/><rect fill=\"#F8F8F8\" height=\"10\" style=\"stroke: #F8F8F8; stroke-width: 1.5;\" width=\"76\" x=\"96\" y=\"232.4375\"/><rect fill=\"none\" height=\"42.9375\" id=\"E8\" rx=\"10\" ry=\"10\" style=\"stroke: #383838; stroke-width: 1.5;\" width=\"76\" x=\"96\" y=\"204.5\"/><text fill=\"#000000\" font-family=\"sans-serif\" font-size=\"12\" font-style=\"italic\" lengthAdjust=\"spacingAndGlyphs\" textLength=\"69\" x=\"99.5\" y=\"220.6387\">«attribute»</text><text fill=\"#000000\" font-family=\"sans-serif\" font-size=\"12\" lengthAdjust=\"spacingAndGlyphs\" textLength=\"5\" x=\"131.5\" y=\"234.6074\">z</text></a></g><!--MD5=[af87c684e3b0d8be13c1a698a818ef1e]\n",
       "link E3 to E4--><a href=\"psysml:4c7b915e-320e-40c7-9399-584f1f84a9d7\" target=\"_top\" title=\"psysml:4c7b915e-320e-40c7-9399-584f1f84a9d7\" xlink:actuate=\"onRequest\" xlink:href=\"psysml:4c7b915e-320e-40c7-9399-584f1f84a9d7\" xlink:show=\"new\" xlink:title=\"psysml:4c7b915e-320e-40c7-9399-584f1f84a9d7\" xlink:type=\"simple\"><path d=\"M212.02,111 C235.88,111 262.06,111 285.53,111 \" fill=\"none\" id=\"E3-&gt;E4\" style=\"stroke: #383838; stroke-width: 1.0; stroke-dasharray: 7.0,7.0;\"/><polygon fill=\"#383838\" points=\"293.71,111,285.71,108,285.71,114,293.71,111\" style=\"stroke: #383838; stroke-width: 1.0;\"/><text fill=\"#000000\" font-family=\"sans-serif\" font-size=\"13\" lengthAdjust=\"spacingAndGlyphs\" textLength=\"64\" x=\"221\" y=\"107.0669\">«depend»</text></a><!--MD5=[1b7591eae5389033d8d09a9d6721a717]\n",
       "link E4 to E5--><a href=\"psysml:9be59ee3-60f5-4004-bc3e-00c0f7693956\" target=\"_top\" title=\"psysml:9be59ee3-60f5-4004-bc3e-00c0f7693956\" xlink:actuate=\"onRequest\" xlink:href=\"psysml:9be59ee3-60f5-4004-bc3e-00c0f7693956\" xlink:show=\"new\" xlink:title=\"psysml:9be59ee3-60f5-4004-bc3e-00c0f7693956\" xlink:type=\"simple\"><path d=\"M422.09,111 C445.72,111 472.46,111 495.72,111 \" fill=\"none\" id=\"E4-&gt;E5\" style=\"stroke: #383838; stroke-width: 1.0; stroke-dasharray: 7.0,7.0;\"/><polygon fill=\"#383838\" points=\"503.8,111,495.8,108,495.8,114,503.8,111\" style=\"stroke: #383838; stroke-width: 1.0;\"/><text fill=\"#000000\" font-family=\"sans-serif\" font-size=\"13\" lengthAdjust=\"spacingAndGlyphs\" textLength=\"64\" x=\"431\" y=\"107.0669\">«depend»</text></a><!--MD5=[c5e8897d989ce984f93528998a7150fe]\n",
       "link E8 to E6--><a href=\"psysml:80784242-98cb-449c-a51f-f2c7c1061d87\" target=\"_top\" title=\"psysml:80784242-98cb-449c-a51f-f2c7c1061d87\" xlink:actuate=\"onRequest\" xlink:href=\"psysml:80784242-98cb-449c-a51f-f2c7c1061d87\" xlink:show=\"new\" xlink:title=\"psysml:80784242-98cb-449c-a51f-f2c7c1061d87\" xlink:type=\"simple\"><path d=\"M172.16,233.7 C210.58,241.66 270.59,254.1 311.75,262.62 \" fill=\"none\" id=\"E8-&gt;E6\" style=\"stroke: #383838; stroke-width: 1.0; stroke-dasharray: 7.0,7.0;\"/><polygon fill=\"#383838\" points=\"319.72,264.28,312.4987,259.7135,311.2767,265.5878,319.72,264.28\" style=\"stroke: #383838; stroke-width: 1.0;\"/><text fill=\"#000000\" font-family=\"sans-serif\" font-size=\"13\" lengthAdjust=\"spacingAndGlyphs\" textLength=\"64\" x=\"221\" y=\"241.0669\">«depend»</text></a><!--MD5=[bfa3c8b0d15052fdf50ae9310b491027]\n",
       "link E8 to E7--><a href=\"psysml:80784242-98cb-449c-a51f-f2c7c1061d87\" target=\"_top\" title=\"psysml:80784242-98cb-449c-a51f-f2c7c1061d87\" xlink:actuate=\"onRequest\" xlink:href=\"psysml:80784242-98cb-449c-a51f-f2c7c1061d87\" xlink:show=\"new\" xlink:title=\"psysml:80784242-98cb-449c-a51f-f2c7c1061d87\" xlink:type=\"simple\"><path d=\"M172.16,220.64 C210.58,215.11 270.59,206.45 311.75,200.52 \" fill=\"none\" id=\"E8-&gt;E7\" style=\"stroke: #383838; stroke-width: 1.0; stroke-dasharray: 7.0,7.0;\"/><polygon fill=\"#383838\" points=\"319.72,199.37,311.3738,197.542,312.2298,203.4807,319.72,199.37\" style=\"stroke: #383838; stroke-width: 1.0;\"/><text fill=\"#000000\" font-family=\"sans-serif\" font-size=\"13\" lengthAdjust=\"spacingAndGlyphs\" textLength=\"64\" x=\"221\" y=\"201.0669\">«depend»</text></a><!--MD5=[2b0b512712df9dce70674715da6a493d]\n",
       "@startuml\r\n",
       "skinparam ranksep 8\r\n",
       "skinparam rectangle {\r\n",
       " backgroundColor<<block>> LightGreen\r\n",
       "}\r\n",
       "left to right direction\r\n",
       "skinparam monochrome true\r\n",
       "skinparam classbackgroundcolor white\r\n",
       "skinparam shadowing false\r\n",
       "skinparam wrapWidth 300\r\n",
       "hide circle\r\n",
       "\r\n",
       "package \"DependencyTest\" as E1  [[psysml:438e34af-3ce5-4e99-acf4-d3ecd205ea23 ]]  {\r\n",
       "package \"System\" as E2  [[psysml:33a226aa-95cf-4670-96e1-1bd6e94f796f ]]  {\r\n",
       "package \"Application Layer\" as E3  [[psysml:add81eb6-248c-4298-8987-63cd174f8097 ]]  {\r\n",
       "}\r\n",
       "package \"Service Layer\" as E4  [[psysml:95ba016d-ba70-4f40-a2b0-65410d9cce5b ]]  {\r\n",
       "}\r\n",
       "package \"Data Layer\" as E5  [[psysml:ae80162e-06ca-4b24-a1f3-10c5d346ebc4 ]]  {\r\n",
       "}\r\n",
       "}\r\n",
       "rec usage \"x\" as E6  <<(T,blue)attribute>> [[psysml:747ec202-6e4c-456d-855d-21470db0b7f2 ]] {\r\n",
       "}\r\n",
       "rec usage \"y\" as E7  <<(T,blue)attribute>> [[psysml:aee293b7-b915-4f4d-bf33-13d7af80ad07 ]] {\r\n",
       "}\r\n",
       "rec usage \"z\" as E8  <<(T,blue)attribute>> [[psysml:1c42907e-9ca4-4468-bbbb-1ea70701dab3 ]] {\r\n",
       "}\r\n",
       "E3 ..>> E4 [[psysml:4c7b915e-320e-40c7-9399-584f1f84a9d7 ]] : <<depend>>\r\n",
       "E4 ..>> E5 [[psysml:9be59ee3-60f5-4004-bc3e-00c0f7693956 ]] : <<depend>>\r\n",
       "E8 ..>> E6 [[psysml:80784242-98cb-449c-a51f-f2c7c1061d87 ]] : <<depend>>\r\n",
       "E8 ..>> E7 [[psysml:80784242-98cb-449c-a51f-f2c7c1061d87 ]] : <<depend>>\r\n",
       "}\r\n",
       "@enduml\r\n",
       "\n",
       "PlantUML version 1.2020.13(Sat Jun 13 12:26:38 UTC 2020)\n",
       "(EPL source distribution)\n",
       "Java Runtime: OpenJDK Runtime Environment\n",
       "JVM: OpenJDK 64-Bit Server VM\n",
       "Default Encoding: UTF-8\n",
       "Language: en\n",
       "Country: null\n",
       "--></g></svg>"
      ]
     },
     "execution_count": 19,
     "metadata": {},
     "output_type": "execute_result"
    }
   ],
   "source": [
    "%viz --style=\"LR\" --view=\"Interconnection\" \"DependencyTest\""
   ]
  },
  {
   "cell_type": "code",
   "execution_count": 20,
   "id": "cordless-window",
   "metadata": {
    "execution": {
     "iopub.execute_input": "2021-03-25T13:26:16.426178Z",
     "iopub.status.busy": "2021-03-25T13:26:16.425577Z",
     "iopub.status.idle": "2021-03-25T13:26:16.433446Z",
     "shell.execute_reply": "2021-03-25T13:26:16.433867Z"
    }
   },
   "outputs": [
    {
     "data": {
      "image/svg+xml": [
       "<?xml version=\"1.0\" encoding=\"UTF-8\" standalone=\"no\"?><svg xmlns=\"http://www.w3.org/2000/svg\" xmlns:xlink=\"http://www.w3.org/1999/xlink\" contentScriptType=\"application/ecmascript\" contentStyleType=\"text/css\" height=\"12px\" preserveAspectRatio=\"none\" style=\"width:12px;height:12px;\" version=\"1.1\" viewBox=\"0 0 12 12\" width=\"12px\" zoomAndPan=\"magnify\"><defs/><g><!--MD5=[7aeb398939421629f6affaa4a1a7b125]\n",
       "@startuml\r\n",
       "skinparam ranksep 8\r\n",
       "left to right direction\r\n",
       "skinparam monochrome true\r\n",
       "skinparam classbackgroundcolor white\r\n",
       "skinparam shadowing false\r\n",
       "skinparam wrapWidth 300\r\n",
       "hide circle\r\n",
       "\r\n",
       "@enduml\r\n",
       "\n",
       "PlantUML version 1.2020.13(Sat Jun 13 12:26:38 UTC 2020)\n",
       "(EPL source distribution)\n",
       "Java Runtime: OpenJDK Runtime Environment\n",
       "JVM: OpenJDK 64-Bit Server VM\n",
       "Default Encoding: UTF-8\n",
       "Language: en\n",
       "Country: null\n",
       "--></g></svg>"
      ]
     },
     "execution_count": 20,
     "metadata": {},
     "output_type": "execute_result"
    }
   ],
   "source": [
    "%viz --style=\"LR\" --view=\"Action\" \"DependencyTest\""
   ]
  },
  {
   "cell_type": "code",
   "execution_count": 21,
   "id": "italic-perfume",
   "metadata": {
    "execution": {
     "iopub.execute_input": "2021-03-25T13:26:16.486530Z",
     "iopub.status.busy": "2021-03-25T13:26:16.485669Z",
     "iopub.status.idle": "2021-03-25T13:26:16.586227Z",
     "shell.execute_reply": "2021-03-25T13:26:16.586624Z"
    }
   },
   "outputs": [
    {
     "data": {
      "image/svg+xml": [
       "<?xml version=\"1.0\" encoding=\"UTF-8\" standalone=\"no\"?><svg xmlns=\"http://www.w3.org/2000/svg\" xmlns:xlink=\"http://www.w3.org/1999/xlink\" contentScriptType=\"application/ecmascript\" contentStyleType=\"text/css\" height=\"328px\" preserveAspectRatio=\"none\" style=\"width:758px;height:328px;\" version=\"1.1\" viewBox=\"0 0 758 328\" width=\"758px\" zoomAndPan=\"magnify\"><defs/><g><!--MD5=[fbc87193dbaf4d95561dea2c320d4a47]\n",
       "cluster E1--><a href=\"psysml:438e34af-3ce5-4e99-acf4-d3ecd205ea23\" target=\"_top\" title=\"psysml:438e34af-3ce5-4e99-acf4-d3ecd205ea23\" xlink:actuate=\"onRequest\" xlink:href=\"psysml:438e34af-3ce5-4e99-acf4-d3ecd205ea23\" xlink:show=\"new\" xlink:title=\"psysml:438e34af-3ce5-4e99-acf4-d3ecd205ea23\" xlink:type=\"simple\"><polygon fill=\"#FFFFFF\" points=\"16,6,156,6,163,28.2969,736,28.2969,736,316,16,316,16,6\" style=\"stroke: #000000; stroke-width: 1.5;\"/><line style=\"stroke: #000000; stroke-width: 1.5;\" x1=\"16\" x2=\"163\" y1=\"28.2969\" y2=\"28.2969\"/><text fill=\"#000000\" font-family=\"sans-serif\" font-size=\"14\" font-weight=\"bold\" lengthAdjust=\"spacingAndGlyphs\" textLength=\"134\" x=\"20\" y=\"20.9951\">DependencyTest</text></a><!--MD5=[e4f7fae6ed58524ba242bb0b0d3be6b7]\n",
       "cluster E2--><a href=\"psysml:33a226aa-95cf-4670-96e1-1bd6e94f796f\" target=\"_top\" title=\"psysml:33a226aa-95cf-4670-96e1-1bd6e94f796f\" xlink:actuate=\"onRequest\" xlink:href=\"psysml:33a226aa-95cf-4670-96e1-1bd6e94f796f\" xlink:show=\"new\" xlink:title=\"psysml:33a226aa-95cf-4670-96e1-1bd6e94f796f\" xlink:type=\"simple\"><polygon fill=\"#FFFFFF\" points=\"40,49,104,49,111,71.2969,712,71.2969,712,154,40,154,40,49\" style=\"stroke: #000000; stroke-width: 1.5;\"/><line style=\"stroke: #000000; stroke-width: 1.5;\" x1=\"40\" x2=\"111\" y1=\"71.2969\" y2=\"71.2969\"/><text fill=\"#000000\" font-family=\"sans-serif\" font-size=\"14\" font-weight=\"bold\" lengthAdjust=\"spacingAndGlyphs\" textLength=\"58\" x=\"44\" y=\"63.9951\">System</text></a><!--MD5=[60a26617385b1d2d0262a64233df1f8d]\n",
       "class E6--><a href=\"psysml:747ec202-6e4c-456d-855d-21470db0b7f2\" target=\"_top\" title=\"psysml:747ec202-6e4c-456d-855d-21470db0b7f2\" xlink:actuate=\"onRequest\" xlink:href=\"psysml:747ec202-6e4c-456d-855d-21470db0b7f2\" xlink:show=\"new\" xlink:title=\"psysml:747ec202-6e4c-456d-855d-21470db0b7f2\" xlink:type=\"simple\"><rect fill=\"#FFFFFF\" height=\"45.9375\" id=\"E6\" rx=\"10\" ry=\"10\" style=\"stroke: #383838; stroke-width: 1.5;\" width=\"71\" x=\"366.5\" y=\"254\"/><text fill=\"#000000\" font-family=\"sans-serif\" font-size=\"12\" font-style=\"italic\" lengthAdjust=\"spacingAndGlyphs\" textLength=\"69\" x=\"367.5\" y=\"270.1387\">«attribute»</text><text fill=\"#000000\" font-family=\"sans-serif\" font-size=\"12\" lengthAdjust=\"spacingAndGlyphs\" textLength=\"6\" x=\"399\" y=\"284.1074\">x</text><line style=\"stroke: #383838; stroke-width: 1.5;\" x1=\"367.5\" x2=\"436.5\" y1=\"291.9375\" y2=\"291.9375\"/></a><!--MD5=[2156ba9850f5573cc1fc38a6a4b2f02b]\n",
       "class E7--><a href=\"psysml:aee293b7-b915-4f4d-bf33-13d7af80ad07\" target=\"_top\" title=\"psysml:aee293b7-b915-4f4d-bf33-13d7af80ad07\" xlink:actuate=\"onRequest\" xlink:href=\"psysml:aee293b7-b915-4f4d-bf33-13d7af80ad07\" xlink:show=\"new\" xlink:title=\"psysml:aee293b7-b915-4f4d-bf33-13d7af80ad07\" xlink:type=\"simple\"><rect fill=\"#FFFFFF\" height=\"45.9375\" id=\"E7\" rx=\"10\" ry=\"10\" style=\"stroke: #383838; stroke-width: 1.5;\" width=\"71\" x=\"366.5\" y=\"173\"/><text fill=\"#000000\" font-family=\"sans-serif\" font-size=\"12\" font-style=\"italic\" lengthAdjust=\"spacingAndGlyphs\" textLength=\"69\" x=\"367.5\" y=\"189.1387\">«attribute»</text><text fill=\"#000000\" font-family=\"sans-serif\" font-size=\"12\" lengthAdjust=\"spacingAndGlyphs\" textLength=\"6\" x=\"399\" y=\"203.1074\">y</text><line style=\"stroke: #383838; stroke-width: 1.5;\" x1=\"367.5\" x2=\"436.5\" y1=\"210.9375\" y2=\"210.9375\"/></a><!--MD5=[b9389687b975829384b498ac4b7476b2]\n",
       "class E8--><a href=\"psysml:1c42907e-9ca4-4468-bbbb-1ea70701dab3\" target=\"_top\" title=\"psysml:1c42907e-9ca4-4468-bbbb-1ea70701dab3\" xlink:actuate=\"onRequest\" xlink:href=\"psysml:1c42907e-9ca4-4468-bbbb-1ea70701dab3\" xlink:show=\"new\" xlink:title=\"psysml:1c42907e-9ca4-4468-bbbb-1ea70701dab3\" xlink:type=\"simple\"><rect fill=\"#FFFFFF\" height=\"45.9375\" id=\"E8\" rx=\"10\" ry=\"10\" style=\"stroke: #383838; stroke-width: 1.5;\" width=\"71\" x=\"98.5\" y=\"206\"/><text fill=\"#000000\" font-family=\"sans-serif\" font-size=\"12\" font-style=\"italic\" lengthAdjust=\"spacingAndGlyphs\" textLength=\"69\" x=\"99.5\" y=\"222.1387\">«attribute»</text><text fill=\"#000000\" font-family=\"sans-serif\" font-size=\"12\" lengthAdjust=\"spacingAndGlyphs\" textLength=\"5\" x=\"131.5\" y=\"236.1074\">z</text><line style=\"stroke: #383838; stroke-width: 1.5;\" x1=\"99.5\" x2=\"168.5\" y1=\"243.9375\" y2=\"243.9375\"/></a><a href=\"psysml:add81eb6-248c-4298-8987-63cd174f8097\" target=\"_top\" title=\"psysml:add81eb6-248c-4298-8987-63cd174f8097\" xlink:actuate=\"onRequest\" xlink:href=\"psysml:add81eb6-248c-4298-8987-63cd174f8097\" xlink:show=\"new\" xlink:title=\"psysml:add81eb6-248c-4298-8987-63cd174f8097\" xlink:type=\"simple\"><polygon fill=\"#FFFFFF\" points=\"56,84.5,198,84.5,205,106.7969,212,106.7969,212,137.0938,56,137.0938,56,84.5\" style=\"stroke: #000000; stroke-width: 1.5;\"/><line style=\"stroke: #000000; stroke-width: 1.5;\" x1=\"56\" x2=\"205\" y1=\"106.7969\" y2=\"106.7969\"/><text fill=\"#000000\" font-family=\"sans-serif\" font-size=\"14\" font-weight=\"bold\" lengthAdjust=\"spacingAndGlyphs\" textLength=\"136\" x=\"60\" y=\"99.4951\">Application Layer</text></a><a href=\"psysml:95ba016d-ba70-4f40-a2b0-65410d9cce5b\" target=\"_top\" title=\"psysml:95ba016d-ba70-4f40-a2b0-65410d9cce5b\" xlink:actuate=\"onRequest\" xlink:href=\"psysml:95ba016d-ba70-4f40-a2b0-65410d9cce5b\" xlink:show=\"new\" xlink:title=\"psysml:95ba016d-ba70-4f40-a2b0-65410d9cce5b\" xlink:type=\"simple\"><polygon fill=\"#FFFFFF\" points=\"338,84.5,452,84.5,459,106.7969,466,106.7969,466,137.0938,338,137.0938,338,84.5\" style=\"stroke: #000000; stroke-width: 1.5;\"/><line style=\"stroke: #000000; stroke-width: 1.5;\" x1=\"338\" x2=\"459\" y1=\"106.7969\" y2=\"106.7969\"/><text fill=\"#000000\" font-family=\"sans-serif\" font-size=\"14\" font-weight=\"bold\" lengthAdjust=\"spacingAndGlyphs\" textLength=\"108\" x=\"342\" y=\"99.4951\">Service Layer</text></a><a href=\"psysml:ae80162e-06ca-4b24-a1f3-10c5d346ebc4\" target=\"_top\" title=\"psysml:ae80162e-06ca-4b24-a1f3-10c5d346ebc4\" xlink:actuate=\"onRequest\" xlink:href=\"psysml:ae80162e-06ca-4b24-a1f3-10c5d346ebc4\" xlink:show=\"new\" xlink:title=\"psysml:ae80162e-06ca-4b24-a1f3-10c5d346ebc4\" xlink:type=\"simple\"><polygon fill=\"#FFFFFF\" points=\"592,84.5,682,84.5,689,106.7969,696,106.7969,696,137.0938,592,137.0938,592,84.5\" style=\"stroke: #000000; stroke-width: 1.5;\"/><line style=\"stroke: #000000; stroke-width: 1.5;\" x1=\"592\" x2=\"689\" y1=\"106.7969\" y2=\"106.7969\"/><text fill=\"#000000\" font-family=\"sans-serif\" font-size=\"14\" font-weight=\"bold\" lengthAdjust=\"spacingAndGlyphs\" textLength=\"84\" x=\"596\" y=\"99.4951\">Data Layer</text></a><!--MD5=[af87c684e3b0d8be13c1a698a818ef1e]\n",
       "link E3 to E4--><a href=\"psysml:4c7b915e-320e-40c7-9399-584f1f84a9d7\" target=\"_top\" title=\"psysml:4c7b915e-320e-40c7-9399-584f1f84a9d7\" xlink:actuate=\"onRequest\" xlink:href=\"psysml:4c7b915e-320e-40c7-9399-584f1f84a9d7\" xlink:show=\"new\" xlink:title=\"psysml:4c7b915e-320e-40c7-9399-584f1f84a9d7\" xlink:type=\"simple\"><path d=\"M212.3,111 C249.37,111 293.5,111 329.76,111 \" fill=\"none\" id=\"E3-&gt;E4\" style=\"stroke: #383838; stroke-width: 1.0; stroke-dasharray: 7.0,7.0;\"/><polygon fill=\"#383838\" points=\"337.84,111,329.84,108,329.84,114,337.84,111\" style=\"stroke: #383838; stroke-width: 1.0;\"/><text fill=\"#000000\" font-family=\"sans-serif\" font-size=\"13\" lengthAdjust=\"spacingAndGlyphs\" textLength=\"64\" x=\"243\" y=\"107.0669\">«depend»</text></a><!--MD5=[1b7591eae5389033d8d09a9d6721a717]\n",
       "link E4 to E5--><a href=\"psysml:9be59ee3-60f5-4004-bc3e-00c0f7693956\" target=\"_top\" title=\"psysml:9be59ee3-60f5-4004-bc3e-00c0f7693956\" xlink:actuate=\"onRequest\" xlink:href=\"psysml:9be59ee3-60f5-4004-bc3e-00c0f7693956\" xlink:show=\"new\" xlink:title=\"psysml:9be59ee3-60f5-4004-bc3e-00c0f7693956\" xlink:type=\"simple\"><path d=\"M466.06,111 C502.32,111 547.6,111 583.28,111 \" fill=\"none\" id=\"E4-&gt;E5\" style=\"stroke: #383838; stroke-width: 1.0; stroke-dasharray: 7.0,7.0;\"/><polygon fill=\"#383838\" points=\"591.67,111,583.67,108,583.67,114,591.67,111\" style=\"stroke: #383838; stroke-width: 1.0;\"/><text fill=\"#000000\" font-family=\"sans-serif\" font-size=\"13\" lengthAdjust=\"spacingAndGlyphs\" textLength=\"64\" x=\"497\" y=\"107.0669\">«depend»</text></a><!--MD5=[c5e8897d989ce984f93528998a7150fe]\n",
       "link E8 to E6--><a href=\"psysml:80784242-98cb-449c-a51f-f2c7c1061d87\" target=\"_top\" title=\"psysml:80784242-98cb-449c-a51f-f2c7c1061d87\" xlink:actuate=\"onRequest\" xlink:href=\"psysml:80784242-98cb-449c-a51f-f2c7c1061d87\" xlink:show=\"new\" xlink:title=\"psysml:80784242-98cb-449c-a51f-f2c7c1061d87\" xlink:type=\"simple\"><path d=\"M169.5,235.23 C217.81,243.94 305.54,259.77 358.03,269.25 \" fill=\"none\" id=\"E8-&gt;E6\" style=\"stroke: #383838; stroke-width: 1.0; stroke-dasharray: 7.0,7.0;\"/><polygon fill=\"#383838\" points=\"366.14,270.71,358.7966,266.3425,357.7356,272.248,366.14,270.71\" style=\"stroke: #383838; stroke-width: 1.0;\"/><text fill=\"#000000\" font-family=\"sans-serif\" font-size=\"13\" lengthAdjust=\"spacingAndGlyphs\" textLength=\"64\" x=\"243\" y=\"245.0669\">«depend»</text></a><!--MD5=[bfa3c8b0d15052fdf50ae9310b491027]\n",
       "link E8 to E7--><a href=\"psysml:80784242-98cb-449c-a51f-f2c7c1061d87\" target=\"_top\" title=\"psysml:80784242-98cb-449c-a51f-f2c7c1061d87\" xlink:actuate=\"onRequest\" xlink:href=\"psysml:80784242-98cb-449c-a51f-f2c7c1061d87\" xlink:show=\"new\" xlink:title=\"psysml:80784242-98cb-449c-a51f-f2c7c1061d87\" xlink:type=\"simple\"><path d=\"M169.5,224.72 C217.81,218.73 305.54,207.84 358.03,201.33 \" fill=\"none\" id=\"E8-&gt;E7\" style=\"stroke: #383838; stroke-width: 1.0; stroke-dasharray: 7.0,7.0;\"/><polygon fill=\"#383838\" points=\"366.14,200.33,357.8314,198.3381,358.5704,204.2924,366.14,200.33\" style=\"stroke: #383838; stroke-width: 1.0;\"/><text fill=\"#000000\" font-family=\"sans-serif\" font-size=\"13\" lengthAdjust=\"spacingAndGlyphs\" textLength=\"64\" x=\"243\" y=\"204.0669\">«depend»</text></a><!--MD5=[09233149d6e95d1509b2512a18abe9a1]\n",
       "@startuml\r\n",
       "left to right direction\r\n",
       "skinparam monochrome true\r\n",
       "skinparam classbackgroundcolor white\r\n",
       "skinparam shadowing false\r\n",
       "skinparam wrapWidth 300\r\n",
       "hide circle\r\n",
       "\r\n",
       "package \"DependencyTest\" as E1  [[psysml:438e34af-3ce5-4e99-acf4-d3ecd205ea23 ]]  {\r\n",
       "package \"System\" as E2  [[psysml:33a226aa-95cf-4670-96e1-1bd6e94f796f ]]  {\r\n",
       "package \"Application Layer\" as E3  [[psysml:add81eb6-248c-4298-8987-63cd174f8097 ]]  {\r\n",
       "}\r\n",
       "package \"Service Layer\" as E4  [[psysml:95ba016d-ba70-4f40-a2b0-65410d9cce5b ]]  {\r\n",
       "}\r\n",
       "package \"Data Layer\" as E5  [[psysml:ae80162e-06ca-4b24-a1f3-10c5d346ebc4 ]]  {\r\n",
       "}\r\n",
       "}\r\n",
       "comp usage \"x\" as E6  <<(T,blue)attribute>> [[psysml:747ec202-6e4c-456d-855d-21470db0b7f2 ]] {\r\n",
       "}\r\n",
       "comp usage \"y\" as E7  <<(T,blue)attribute>> [[psysml:aee293b7-b915-4f4d-bf33-13d7af80ad07 ]] {\r\n",
       "}\r\n",
       "comp usage \"z\" as E8  <<(T,blue)attribute>> [[psysml:1c42907e-9ca4-4468-bbbb-1ea70701dab3 ]] {\r\n",
       "}\r\n",
       "E3 ..>> E4 [[psysml:4c7b915e-320e-40c7-9399-584f1f84a9d7 ]] : <<depend>>\r\n",
       "E4 ..>> E5 [[psysml:9be59ee3-60f5-4004-bc3e-00c0f7693956 ]] : <<depend>>\r\n",
       "E8 ..>> E6 [[psysml:80784242-98cb-449c-a51f-f2c7c1061d87 ]] : <<depend>>\r\n",
       "E8 ..>> E7 [[psysml:80784242-98cb-449c-a51f-f2c7c1061d87 ]] : <<depend>>\r\n",
       "}\r\n",
       "@enduml\r\n",
       "\n",
       "PlantUML version 1.2020.13(Sat Jun 13 12:26:38 UTC 2020)\n",
       "(EPL source distribution)\n",
       "Java Runtime: OpenJDK Runtime Environment\n",
       "JVM: OpenJDK 64-Bit Server VM\n",
       "Default Encoding: UTF-8\n",
       "Language: en\n",
       "Country: null\n",
       "--></g></svg>"
      ]
     },
     "execution_count": 21,
     "metadata": {},
     "output_type": "execute_result"
    }
   ],
   "source": [
    "%viz --style=\"LR\" --view=\"Sequence\" \"DependencyTest\""
   ]
  },
  {
   "cell_type": "code",
   "execution_count": 22,
   "id": "stupid-progress",
   "metadata": {
    "execution": {
     "iopub.execute_input": "2021-03-25T13:26:16.637660Z",
     "iopub.status.busy": "2021-03-25T13:26:16.636928Z",
     "iopub.status.idle": "2021-03-25T13:26:16.745405Z",
     "shell.execute_reply": "2021-03-25T13:26:16.743272Z"
    }
   },
   "outputs": [
    {
     "data": {
      "image/svg+xml": [
       "<?xml version=\"1.0\" encoding=\"UTF-8\" standalone=\"no\"?><svg xmlns=\"http://www.w3.org/2000/svg\" xmlns:xlink=\"http://www.w3.org/1999/xlink\" contentScriptType=\"application/ecmascript\" contentStyleType=\"text/css\" height=\"328px\" preserveAspectRatio=\"none\" style=\"width:758px;height:328px;\" version=\"1.1\" viewBox=\"0 0 758 328\" width=\"758px\" zoomAndPan=\"magnify\"><defs/><g><!--MD5=[fbc87193dbaf4d95561dea2c320d4a47]\n",
       "cluster E1--><a href=\"psysml:438e34af-3ce5-4e99-acf4-d3ecd205ea23\" target=\"_top\" title=\"psysml:438e34af-3ce5-4e99-acf4-d3ecd205ea23\" xlink:actuate=\"onRequest\" xlink:href=\"psysml:438e34af-3ce5-4e99-acf4-d3ecd205ea23\" xlink:show=\"new\" xlink:title=\"psysml:438e34af-3ce5-4e99-acf4-d3ecd205ea23\" xlink:type=\"simple\"><polygon fill=\"#FFFFFF\" points=\"16,6,156,6,163,28.2969,736,28.2969,736,316,16,316,16,6\" style=\"stroke: #000000; stroke-width: 1.5;\"/><line style=\"stroke: #000000; stroke-width: 1.5;\" x1=\"16\" x2=\"163\" y1=\"28.2969\" y2=\"28.2969\"/><text fill=\"#000000\" font-family=\"sans-serif\" font-size=\"14\" font-weight=\"bold\" lengthAdjust=\"spacingAndGlyphs\" textLength=\"134\" x=\"20\" y=\"20.9951\">DependencyTest</text></a><!--MD5=[e4f7fae6ed58524ba242bb0b0d3be6b7]\n",
       "cluster E2--><a href=\"psysml:33a226aa-95cf-4670-96e1-1bd6e94f796f\" target=\"_top\" title=\"psysml:33a226aa-95cf-4670-96e1-1bd6e94f796f\" xlink:actuate=\"onRequest\" xlink:href=\"psysml:33a226aa-95cf-4670-96e1-1bd6e94f796f\" xlink:show=\"new\" xlink:title=\"psysml:33a226aa-95cf-4670-96e1-1bd6e94f796f\" xlink:type=\"simple\"><polygon fill=\"#FFFFFF\" points=\"40,49,104,49,111,71.2969,712,71.2969,712,154,40,154,40,49\" style=\"stroke: #000000; stroke-width: 1.5;\"/><line style=\"stroke: #000000; stroke-width: 1.5;\" x1=\"40\" x2=\"111\" y1=\"71.2969\" y2=\"71.2969\"/><text fill=\"#000000\" font-family=\"sans-serif\" font-size=\"14\" font-weight=\"bold\" lengthAdjust=\"spacingAndGlyphs\" textLength=\"58\" x=\"44\" y=\"63.9951\">System</text></a><!--MD5=[60a26617385b1d2d0262a64233df1f8d]\n",
       "class E6--><a href=\"psysml:747ec202-6e4c-456d-855d-21470db0b7f2\" target=\"_top\" title=\"psysml:747ec202-6e4c-456d-855d-21470db0b7f2\" xlink:actuate=\"onRequest\" xlink:href=\"psysml:747ec202-6e4c-456d-855d-21470db0b7f2\" xlink:show=\"new\" xlink:title=\"psysml:747ec202-6e4c-456d-855d-21470db0b7f2\" xlink:type=\"simple\"><rect fill=\"#FFFFFF\" height=\"45.9375\" id=\"E6\" rx=\"10\" ry=\"10\" style=\"stroke: #383838; stroke-width: 1.5;\" width=\"71\" x=\"366.5\" y=\"254\"/><text fill=\"#000000\" font-family=\"sans-serif\" font-size=\"12\" font-style=\"italic\" lengthAdjust=\"spacingAndGlyphs\" textLength=\"69\" x=\"367.5\" y=\"270.1387\">«attribute»</text><text fill=\"#000000\" font-family=\"sans-serif\" font-size=\"12\" lengthAdjust=\"spacingAndGlyphs\" textLength=\"6\" x=\"399\" y=\"284.1074\">x</text><line style=\"stroke: #383838; stroke-width: 1.5;\" x1=\"367.5\" x2=\"436.5\" y1=\"291.9375\" y2=\"291.9375\"/></a><!--MD5=[2156ba9850f5573cc1fc38a6a4b2f02b]\n",
       "class E7--><a href=\"psysml:aee293b7-b915-4f4d-bf33-13d7af80ad07\" target=\"_top\" title=\"psysml:aee293b7-b915-4f4d-bf33-13d7af80ad07\" xlink:actuate=\"onRequest\" xlink:href=\"psysml:aee293b7-b915-4f4d-bf33-13d7af80ad07\" xlink:show=\"new\" xlink:title=\"psysml:aee293b7-b915-4f4d-bf33-13d7af80ad07\" xlink:type=\"simple\"><rect fill=\"#FFFFFF\" height=\"45.9375\" id=\"E7\" rx=\"10\" ry=\"10\" style=\"stroke: #383838; stroke-width: 1.5;\" width=\"71\" x=\"366.5\" y=\"173\"/><text fill=\"#000000\" font-family=\"sans-serif\" font-size=\"12\" font-style=\"italic\" lengthAdjust=\"spacingAndGlyphs\" textLength=\"69\" x=\"367.5\" y=\"189.1387\">«attribute»</text><text fill=\"#000000\" font-family=\"sans-serif\" font-size=\"12\" lengthAdjust=\"spacingAndGlyphs\" textLength=\"6\" x=\"399\" y=\"203.1074\">y</text><line style=\"stroke: #383838; stroke-width: 1.5;\" x1=\"367.5\" x2=\"436.5\" y1=\"210.9375\" y2=\"210.9375\"/></a><!--MD5=[b9389687b975829384b498ac4b7476b2]\n",
       "class E8--><a href=\"psysml:1c42907e-9ca4-4468-bbbb-1ea70701dab3\" target=\"_top\" title=\"psysml:1c42907e-9ca4-4468-bbbb-1ea70701dab3\" xlink:actuate=\"onRequest\" xlink:href=\"psysml:1c42907e-9ca4-4468-bbbb-1ea70701dab3\" xlink:show=\"new\" xlink:title=\"psysml:1c42907e-9ca4-4468-bbbb-1ea70701dab3\" xlink:type=\"simple\"><rect fill=\"#FFFFFF\" height=\"45.9375\" id=\"E8\" rx=\"10\" ry=\"10\" style=\"stroke: #383838; stroke-width: 1.5;\" width=\"71\" x=\"98.5\" y=\"206\"/><text fill=\"#000000\" font-family=\"sans-serif\" font-size=\"12\" font-style=\"italic\" lengthAdjust=\"spacingAndGlyphs\" textLength=\"69\" x=\"99.5\" y=\"222.1387\">«attribute»</text><text fill=\"#000000\" font-family=\"sans-serif\" font-size=\"12\" lengthAdjust=\"spacingAndGlyphs\" textLength=\"5\" x=\"131.5\" y=\"236.1074\">z</text><line style=\"stroke: #383838; stroke-width: 1.5;\" x1=\"99.5\" x2=\"168.5\" y1=\"243.9375\" y2=\"243.9375\"/></a><a href=\"psysml:add81eb6-248c-4298-8987-63cd174f8097\" target=\"_top\" title=\"psysml:add81eb6-248c-4298-8987-63cd174f8097\" xlink:actuate=\"onRequest\" xlink:href=\"psysml:add81eb6-248c-4298-8987-63cd174f8097\" xlink:show=\"new\" xlink:title=\"psysml:add81eb6-248c-4298-8987-63cd174f8097\" xlink:type=\"simple\"><polygon fill=\"#FFFFFF\" points=\"56,84.5,198,84.5,205,106.7969,212,106.7969,212,137.0938,56,137.0938,56,84.5\" style=\"stroke: #000000; stroke-width: 1.5;\"/><line style=\"stroke: #000000; stroke-width: 1.5;\" x1=\"56\" x2=\"205\" y1=\"106.7969\" y2=\"106.7969\"/><text fill=\"#000000\" font-family=\"sans-serif\" font-size=\"14\" font-weight=\"bold\" lengthAdjust=\"spacingAndGlyphs\" textLength=\"136\" x=\"60\" y=\"99.4951\">Application Layer</text></a><a href=\"psysml:95ba016d-ba70-4f40-a2b0-65410d9cce5b\" target=\"_top\" title=\"psysml:95ba016d-ba70-4f40-a2b0-65410d9cce5b\" xlink:actuate=\"onRequest\" xlink:href=\"psysml:95ba016d-ba70-4f40-a2b0-65410d9cce5b\" xlink:show=\"new\" xlink:title=\"psysml:95ba016d-ba70-4f40-a2b0-65410d9cce5b\" xlink:type=\"simple\"><polygon fill=\"#FFFFFF\" points=\"338,84.5,452,84.5,459,106.7969,466,106.7969,466,137.0938,338,137.0938,338,84.5\" style=\"stroke: #000000; stroke-width: 1.5;\"/><line style=\"stroke: #000000; stroke-width: 1.5;\" x1=\"338\" x2=\"459\" y1=\"106.7969\" y2=\"106.7969\"/><text fill=\"#000000\" font-family=\"sans-serif\" font-size=\"14\" font-weight=\"bold\" lengthAdjust=\"spacingAndGlyphs\" textLength=\"108\" x=\"342\" y=\"99.4951\">Service Layer</text></a><a href=\"psysml:ae80162e-06ca-4b24-a1f3-10c5d346ebc4\" target=\"_top\" title=\"psysml:ae80162e-06ca-4b24-a1f3-10c5d346ebc4\" xlink:actuate=\"onRequest\" xlink:href=\"psysml:ae80162e-06ca-4b24-a1f3-10c5d346ebc4\" xlink:show=\"new\" xlink:title=\"psysml:ae80162e-06ca-4b24-a1f3-10c5d346ebc4\" xlink:type=\"simple\"><polygon fill=\"#FFFFFF\" points=\"592,84.5,682,84.5,689,106.7969,696,106.7969,696,137.0938,592,137.0938,592,84.5\" style=\"stroke: #000000; stroke-width: 1.5;\"/><line style=\"stroke: #000000; stroke-width: 1.5;\" x1=\"592\" x2=\"689\" y1=\"106.7969\" y2=\"106.7969\"/><text fill=\"#000000\" font-family=\"sans-serif\" font-size=\"14\" font-weight=\"bold\" lengthAdjust=\"spacingAndGlyphs\" textLength=\"84\" x=\"596\" y=\"99.4951\">Data Layer</text></a><!--MD5=[af87c684e3b0d8be13c1a698a818ef1e]\n",
       "link E3 to E4--><a href=\"psysml:4c7b915e-320e-40c7-9399-584f1f84a9d7\" target=\"_top\" title=\"psysml:4c7b915e-320e-40c7-9399-584f1f84a9d7\" xlink:actuate=\"onRequest\" xlink:href=\"psysml:4c7b915e-320e-40c7-9399-584f1f84a9d7\" xlink:show=\"new\" xlink:title=\"psysml:4c7b915e-320e-40c7-9399-584f1f84a9d7\" xlink:type=\"simple\"><path d=\"M212.3,111 C249.37,111 293.5,111 329.76,111 \" fill=\"none\" id=\"E3-&gt;E4\" style=\"stroke: #383838; stroke-width: 1.0; stroke-dasharray: 7.0,7.0;\"/><polygon fill=\"#383838\" points=\"337.84,111,329.84,108,329.84,114,337.84,111\" style=\"stroke: #383838; stroke-width: 1.0;\"/><text fill=\"#000000\" font-family=\"sans-serif\" font-size=\"13\" lengthAdjust=\"spacingAndGlyphs\" textLength=\"64\" x=\"243\" y=\"107.0669\">«depend»</text></a><!--MD5=[1b7591eae5389033d8d09a9d6721a717]\n",
       "link E4 to E5--><a href=\"psysml:9be59ee3-60f5-4004-bc3e-00c0f7693956\" target=\"_top\" title=\"psysml:9be59ee3-60f5-4004-bc3e-00c0f7693956\" xlink:actuate=\"onRequest\" xlink:href=\"psysml:9be59ee3-60f5-4004-bc3e-00c0f7693956\" xlink:show=\"new\" xlink:title=\"psysml:9be59ee3-60f5-4004-bc3e-00c0f7693956\" xlink:type=\"simple\"><path d=\"M466.06,111 C502.32,111 547.6,111 583.28,111 \" fill=\"none\" id=\"E4-&gt;E5\" style=\"stroke: #383838; stroke-width: 1.0; stroke-dasharray: 7.0,7.0;\"/><polygon fill=\"#383838\" points=\"591.67,111,583.67,108,583.67,114,591.67,111\" style=\"stroke: #383838; stroke-width: 1.0;\"/><text fill=\"#000000\" font-family=\"sans-serif\" font-size=\"13\" lengthAdjust=\"spacingAndGlyphs\" textLength=\"64\" x=\"497\" y=\"107.0669\">«depend»</text></a><!--MD5=[c5e8897d989ce984f93528998a7150fe]\n",
       "link E8 to E6--><a href=\"psysml:80784242-98cb-449c-a51f-f2c7c1061d87\" target=\"_top\" title=\"psysml:80784242-98cb-449c-a51f-f2c7c1061d87\" xlink:actuate=\"onRequest\" xlink:href=\"psysml:80784242-98cb-449c-a51f-f2c7c1061d87\" xlink:show=\"new\" xlink:title=\"psysml:80784242-98cb-449c-a51f-f2c7c1061d87\" xlink:type=\"simple\"><path d=\"M169.5,235.23 C217.81,243.94 305.54,259.77 358.03,269.25 \" fill=\"none\" id=\"E8-&gt;E6\" style=\"stroke: #383838; stroke-width: 1.0; stroke-dasharray: 7.0,7.0;\"/><polygon fill=\"#383838\" points=\"366.14,270.71,358.7966,266.3425,357.7356,272.248,366.14,270.71\" style=\"stroke: #383838; stroke-width: 1.0;\"/><text fill=\"#000000\" font-family=\"sans-serif\" font-size=\"13\" lengthAdjust=\"spacingAndGlyphs\" textLength=\"64\" x=\"243\" y=\"245.0669\">«depend»</text></a><!--MD5=[bfa3c8b0d15052fdf50ae9310b491027]\n",
       "link E8 to E7--><a href=\"psysml:80784242-98cb-449c-a51f-f2c7c1061d87\" target=\"_top\" title=\"psysml:80784242-98cb-449c-a51f-f2c7c1061d87\" xlink:actuate=\"onRequest\" xlink:href=\"psysml:80784242-98cb-449c-a51f-f2c7c1061d87\" xlink:show=\"new\" xlink:title=\"psysml:80784242-98cb-449c-a51f-f2c7c1061d87\" xlink:type=\"simple\"><path d=\"M169.5,224.72 C217.81,218.73 305.54,207.84 358.03,201.33 \" fill=\"none\" id=\"E8-&gt;E7\" style=\"stroke: #383838; stroke-width: 1.0; stroke-dasharray: 7.0,7.0;\"/><polygon fill=\"#383838\" points=\"366.14,200.33,357.8314,198.3381,358.5704,204.2924,366.14,200.33\" style=\"stroke: #383838; stroke-width: 1.0;\"/><text fill=\"#000000\" font-family=\"sans-serif\" font-size=\"13\" lengthAdjust=\"spacingAndGlyphs\" textLength=\"64\" x=\"243\" y=\"204.0669\">«depend»</text></a><!--MD5=[09233149d6e95d1509b2512a18abe9a1]\n",
       "@startuml\r\n",
       "left to right direction\r\n",
       "skinparam monochrome true\r\n",
       "skinparam classbackgroundcolor white\r\n",
       "skinparam shadowing false\r\n",
       "skinparam wrapWidth 300\r\n",
       "hide circle\r\n",
       "\r\n",
       "package \"DependencyTest\" as E1  [[psysml:438e34af-3ce5-4e99-acf4-d3ecd205ea23 ]]  {\r\n",
       "package \"System\" as E2  [[psysml:33a226aa-95cf-4670-96e1-1bd6e94f796f ]]  {\r\n",
       "package \"Application Layer\" as E3  [[psysml:add81eb6-248c-4298-8987-63cd174f8097 ]]  {\r\n",
       "}\r\n",
       "package \"Service Layer\" as E4  [[psysml:95ba016d-ba70-4f40-a2b0-65410d9cce5b ]]  {\r\n",
       "}\r\n",
       "package \"Data Layer\" as E5  [[psysml:ae80162e-06ca-4b24-a1f3-10c5d346ebc4 ]]  {\r\n",
       "}\r\n",
       "}\r\n",
       "comp usage \"x\" as E6  <<(T,blue)attribute>> [[psysml:747ec202-6e4c-456d-855d-21470db0b7f2 ]] {\r\n",
       "}\r\n",
       "comp usage \"y\" as E7  <<(T,blue)attribute>> [[psysml:aee293b7-b915-4f4d-bf33-13d7af80ad07 ]] {\r\n",
       "}\r\n",
       "comp usage \"z\" as E8  <<(T,blue)attribute>> [[psysml:1c42907e-9ca4-4468-bbbb-1ea70701dab3 ]] {\r\n",
       "}\r\n",
       "E3 ..>> E4 [[psysml:4c7b915e-320e-40c7-9399-584f1f84a9d7 ]] : <<depend>>\r\n",
       "E4 ..>> E5 [[psysml:9be59ee3-60f5-4004-bc3e-00c0f7693956 ]] : <<depend>>\r\n",
       "E8 ..>> E6 [[psysml:80784242-98cb-449c-a51f-f2c7c1061d87 ]] : <<depend>>\r\n",
       "E8 ..>> E7 [[psysml:80784242-98cb-449c-a51f-f2c7c1061d87 ]] : <<depend>>\r\n",
       "}\r\n",
       "@enduml\r\n",
       "\n",
       "PlantUML version 1.2020.13(Sat Jun 13 12:26:38 UTC 2020)\n",
       "(EPL source distribution)\n",
       "Java Runtime: OpenJDK Runtime Environment\n",
       "JVM: OpenJDK 64-Bit Server VM\n",
       "Default Encoding: UTF-8\n",
       "Language: en\n",
       "Country: null\n",
       "--></g></svg>"
      ]
     },
     "execution_count": 22,
     "metadata": {},
     "output_type": "execute_result"
    }
   ],
   "source": [
    "%viz --style=\"LR\" --view=\"MIXED\" \"DependencyTest\""
   ]
  },
  {
   "cell_type": "code",
   "execution_count": 23,
   "id": "abandoned-penny",
   "metadata": {
    "execution": {
     "iopub.execute_input": "2021-03-25T13:26:16.798742Z",
     "iopub.status.busy": "2021-03-25T13:26:16.797851Z",
     "iopub.status.idle": "2021-03-25T13:26:16.916749Z",
     "shell.execute_reply": "2021-03-25T13:26:16.916282Z"
    }
   },
   "outputs": [
    {
     "data": {
      "image/svg+xml": [
       "<?xml version=\"1.0\" encoding=\"UTF-8\" standalone=\"no\"?><svg xmlns=\"http://www.w3.org/2000/svg\" xmlns:xlink=\"http://www.w3.org/1999/xlink\" contentScriptType=\"application/ecmascript\" contentStyleType=\"text/css\" height=\"449px\" preserveAspectRatio=\"none\" style=\"width:489px;height:449px;\" version=\"1.1\" viewBox=\"0 0 489 449\" width=\"489px\" zoomAndPan=\"magnify\"><defs><filter height=\"300%\" id=\"f1j9tzaevoy5pp\" width=\"300%\" x=\"-1\" y=\"-1\"><feGaussianBlur result=\"blurOut\" stdDeviation=\"2.0\"/><feColorMatrix in=\"blurOut\" result=\"blurOut2\" type=\"matrix\" values=\"0 0 0 0 0 0 0 0 0 0 0 0 0 0 0 0 0 0 .4 0\"/><feOffset dx=\"4.0\" dy=\"4.0\" in=\"blurOut2\" result=\"blurOut3\"/><feBlend in=\"SourceGraphic\" in2=\"blurOut3\" mode=\"normal\"/></filter></defs><g><!--MD5=[fbc87193dbaf4d95561dea2c320d4a47]\n",
       "cluster E1--><a href=\"psysml:438e34af-3ce5-4e99-acf4-d3ecd205ea23\" target=\"_top\" title=\"psysml:438e34af-3ce5-4e99-acf4-d3ecd205ea23\" xlink:actuate=\"onRequest\" xlink:href=\"psysml:438e34af-3ce5-4e99-acf4-d3ecd205ea23\" xlink:show=\"new\" xlink:title=\"psysml:438e34af-3ce5-4e99-acf4-d3ecd205ea23\" xlink:type=\"simple\"><polygon fill=\"#FFFFFF\" filter=\"url(#f1j9tzaevoy5pp)\" points=\"16,6,156,6,163,28.2969,467,28.2969,467,437,16,437,16,6\" style=\"stroke: #000000; stroke-width: 1.5;\"/><line style=\"stroke: #000000; stroke-width: 1.5;\" x1=\"16\" x2=\"163\" y1=\"28.2969\" y2=\"28.2969\"/><text fill=\"#000000\" font-family=\"sans-serif\" font-size=\"14\" font-weight=\"bold\" lengthAdjust=\"spacingAndGlyphs\" textLength=\"134\" x=\"20\" y=\"20.9951\">DependencyTest</text></a><!--MD5=[e4f7fae6ed58524ba242bb0b0d3be6b7]\n",
       "cluster E2--><a href=\"psysml:33a226aa-95cf-4670-96e1-1bd6e94f796f\" target=\"_top\" title=\"psysml:33a226aa-95cf-4670-96e1-1bd6e94f796f\" xlink:actuate=\"onRequest\" xlink:href=\"psysml:33a226aa-95cf-4670-96e1-1bd6e94f796f\" xlink:show=\"new\" xlink:title=\"psysml:33a226aa-95cf-4670-96e1-1bd6e94f796f\" xlink:type=\"simple\"><polygon fill=\"#FFFFFF\" filter=\"url(#f1j9tzaevoy5pp)\" points=\"255,49,319,49,326,71.2969,443,71.2969,443,413,255,413,255,49\" style=\"stroke: #000000; stroke-width: 1.5;\"/><line style=\"stroke: #000000; stroke-width: 1.5;\" x1=\"255\" x2=\"326\" y1=\"71.2969\" y2=\"71.2969\"/><text fill=\"#000000\" font-family=\"sans-serif\" font-size=\"14\" font-weight=\"bold\" lengthAdjust=\"spacingAndGlyphs\" textLength=\"58\" x=\"259\" y=\"63.9951\">System</text></a><!--MD5=[60a26617385b1d2d0262a64233df1f8d]\n",
       "class E6--><a href=\"psysml:747ec202-6e4c-456d-855d-21470db0b7f2\" target=\"_top\" title=\"psysml:747ec202-6e4c-456d-855d-21470db0b7f2\" xlink:actuate=\"onRequest\" xlink:href=\"psysml:747ec202-6e4c-456d-855d-21470db0b7f2\" xlink:show=\"new\" xlink:title=\"psysml:747ec202-6e4c-456d-855d-21470db0b7f2\" xlink:type=\"simple\"><rect fill=\"#FEFECE\" filter=\"url(#f1j9tzaevoy5pp)\" height=\"45.9375\" id=\"E6\" rx=\"10\" ry=\"10\" style=\"stroke: #A80036; stroke-width: 1.5;\" width=\"71\" x=\"32.5\" y=\"217.5\"/><text fill=\"#000000\" font-family=\"sans-serif\" font-size=\"12\" font-style=\"italic\" lengthAdjust=\"spacingAndGlyphs\" textLength=\"69\" x=\"33.5\" y=\"233.6387\">«attribute»</text><text fill=\"#000000\" font-family=\"sans-serif\" font-size=\"12\" lengthAdjust=\"spacingAndGlyphs\" textLength=\"6\" x=\"65\" y=\"247.6074\">x</text><line style=\"stroke: #A80036; stroke-width: 1.5;\" x1=\"33.5\" x2=\"102.5\" y1=\"255.4375\" y2=\"255.4375\"/></a><!--MD5=[2156ba9850f5573cc1fc38a6a4b2f02b]\n",
       "class E7--><a href=\"psysml:aee293b7-b915-4f4d-bf33-13d7af80ad07\" target=\"_top\" title=\"psysml:aee293b7-b915-4f4d-bf33-13d7af80ad07\" xlink:actuate=\"onRequest\" xlink:href=\"psysml:aee293b7-b915-4f4d-bf33-13d7af80ad07\" xlink:show=\"new\" xlink:title=\"psysml:aee293b7-b915-4f4d-bf33-13d7af80ad07\" xlink:type=\"simple\"><rect fill=\"#FEFECE\" filter=\"url(#f1j9tzaevoy5pp)\" height=\"45.9375\" id=\"E7\" rx=\"10\" ry=\"10\" style=\"stroke: #A80036; stroke-width: 1.5;\" width=\"71\" x=\"138.5\" y=\"217.5\"/><text fill=\"#000000\" font-family=\"sans-serif\" font-size=\"12\" font-style=\"italic\" lengthAdjust=\"spacingAndGlyphs\" textLength=\"69\" x=\"139.5\" y=\"233.6387\">«attribute»</text><text fill=\"#000000\" font-family=\"sans-serif\" font-size=\"12\" lengthAdjust=\"spacingAndGlyphs\" textLength=\"6\" x=\"171\" y=\"247.6074\">y</text><line style=\"stroke: #A80036; stroke-width: 1.5;\" x1=\"139.5\" x2=\"208.5\" y1=\"255.4375\" y2=\"255.4375\"/></a><!--MD5=[b9389687b975829384b498ac4b7476b2]\n",
       "class E8--><a href=\"psysml:1c42907e-9ca4-4468-bbbb-1ea70701dab3\" target=\"_top\" title=\"psysml:1c42907e-9ca4-4468-bbbb-1ea70701dab3\" xlink:actuate=\"onRequest\" xlink:href=\"psysml:1c42907e-9ca4-4468-bbbb-1ea70701dab3\" xlink:show=\"new\" xlink:title=\"psysml:1c42907e-9ca4-4468-bbbb-1ea70701dab3\" xlink:type=\"simple\"><rect fill=\"#FEFECE\" filter=\"url(#f1j9tzaevoy5pp)\" height=\"45.9375\" id=\"E8\" rx=\"10\" ry=\"10\" style=\"stroke: #A80036; stroke-width: 1.5;\" width=\"71\" x=\"84.5\" y=\"87.5\"/><text fill=\"#000000\" font-family=\"sans-serif\" font-size=\"12\" font-style=\"italic\" lengthAdjust=\"spacingAndGlyphs\" textLength=\"69\" x=\"85.5\" y=\"103.6387\">«attribute»</text><text fill=\"#000000\" font-family=\"sans-serif\" font-size=\"12\" lengthAdjust=\"spacingAndGlyphs\" textLength=\"5\" x=\"117.5\" y=\"117.6074\">z</text><line style=\"stroke: #A80036; stroke-width: 1.5;\" x1=\"85.5\" x2=\"154.5\" y1=\"125.4375\" y2=\"125.4375\"/></a><a href=\"psysml:add81eb6-248c-4298-8987-63cd174f8097\" target=\"_top\" title=\"psysml:add81eb6-248c-4298-8987-63cd174f8097\" xlink:actuate=\"onRequest\" xlink:href=\"psysml:add81eb6-248c-4298-8987-63cd174f8097\" xlink:show=\"new\" xlink:title=\"psysml:add81eb6-248c-4298-8987-63cd174f8097\" xlink:type=\"simple\"><polygon fill=\"#FFFFFF\" filter=\"url(#f1j9tzaevoy5pp)\" points=\"271,84,413,84,420,106.2969,427,106.2969,427,136.5938,271,136.5938,271,84\" style=\"stroke: #000000; stroke-width: 1.5;\"/><line style=\"stroke: #000000; stroke-width: 1.5;\" x1=\"271\" x2=\"420\" y1=\"106.2969\" y2=\"106.2969\"/><text fill=\"#000000\" font-family=\"sans-serif\" font-size=\"14\" font-weight=\"bold\" lengthAdjust=\"spacingAndGlyphs\" textLength=\"136\" x=\"275\" y=\"98.9951\">Application Layer</text></a><a href=\"psysml:95ba016d-ba70-4f40-a2b0-65410d9cce5b\" target=\"_top\" title=\"psysml:95ba016d-ba70-4f40-a2b0-65410d9cce5b\" xlink:actuate=\"onRequest\" xlink:href=\"psysml:95ba016d-ba70-4f40-a2b0-65410d9cce5b\" xlink:show=\"new\" xlink:title=\"psysml:95ba016d-ba70-4f40-a2b0-65410d9cce5b\" xlink:type=\"simple\"><polygon fill=\"#FFFFFF\" filter=\"url(#f1j9tzaevoy5pp)\" points=\"285,214,399,214,406,236.2969,413,236.2969,413,266.5938,285,266.5938,285,214\" style=\"stroke: #000000; stroke-width: 1.5;\"/><line style=\"stroke: #000000; stroke-width: 1.5;\" x1=\"285\" x2=\"406\" y1=\"236.2969\" y2=\"236.2969\"/><text fill=\"#000000\" font-family=\"sans-serif\" font-size=\"14\" font-weight=\"bold\" lengthAdjust=\"spacingAndGlyphs\" textLength=\"108\" x=\"289\" y=\"228.9951\">Service Layer</text></a><a href=\"psysml:ae80162e-06ca-4b24-a1f3-10c5d346ebc4\" target=\"_top\" title=\"psysml:ae80162e-06ca-4b24-a1f3-10c5d346ebc4\" xlink:actuate=\"onRequest\" xlink:href=\"psysml:ae80162e-06ca-4b24-a1f3-10c5d346ebc4\" xlink:show=\"new\" xlink:title=\"psysml:ae80162e-06ca-4b24-a1f3-10c5d346ebc4\" xlink:type=\"simple\"><polygon fill=\"#FFFFFF\" filter=\"url(#f1j9tzaevoy5pp)\" points=\"297,344,387,344,394,366.2969,401,366.2969,401,396.5938,297,396.5938,297,344\" style=\"stroke: #000000; stroke-width: 1.5;\"/><line style=\"stroke: #000000; stroke-width: 1.5;\" x1=\"297\" x2=\"394\" y1=\"366.2969\" y2=\"366.2969\"/><text fill=\"#000000\" font-family=\"sans-serif\" font-size=\"14\" font-weight=\"bold\" lengthAdjust=\"spacingAndGlyphs\" textLength=\"84\" x=\"301\" y=\"358.9951\">Data Layer</text></a><!--MD5=[af87c684e3b0d8be13c1a698a818ef1e]\n",
       "link E3 to E4--><a href=\"psysml:4c7b915e-320e-40c7-9399-584f1f84a9d7\" target=\"_top\" title=\"psysml:4c7b915e-320e-40c7-9399-584f1f84a9d7\" xlink:actuate=\"onRequest\" xlink:href=\"psysml:4c7b915e-320e-40c7-9399-584f1f84a9d7\" xlink:show=\"new\" xlink:title=\"psysml:4c7b915e-320e-40c7-9399-584f1f84a9d7\" xlink:type=\"simple\"><path d=\"M349,137.1 C349,156.8 349,184.22 349,205.73 \" fill=\"none\" id=\"E3-&gt;E4\" style=\"stroke: #A80036; stroke-width: 1.0; stroke-dasharray: 7.0,7.0;\"/><polygon fill=\"#A80036\" points=\"349,213.95,352,205.95,346,205.95,349,213.95\" style=\"stroke: #A80036; stroke-width: 1.0;\"/><text fill=\"#000000\" font-family=\"sans-serif\" font-size=\"13\" lengthAdjust=\"spacingAndGlyphs\" textLength=\"64\" x=\"350\" y=\"180.0669\">«depend»</text></a><!--MD5=[1b7591eae5389033d8d09a9d6721a717]\n",
       "link E4 to E5--><a href=\"psysml:9be59ee3-60f5-4004-bc3e-00c0f7693956\" target=\"_top\" title=\"psysml:9be59ee3-60f5-4004-bc3e-00c0f7693956\" xlink:actuate=\"onRequest\" xlink:href=\"psysml:9be59ee3-60f5-4004-bc3e-00c0f7693956\" xlink:show=\"new\" xlink:title=\"psysml:9be59ee3-60f5-4004-bc3e-00c0f7693956\" xlink:type=\"simple\"><path d=\"M349,267.1 C349,286.8 349,314.22 349,335.73 \" fill=\"none\" id=\"E4-&gt;E5\" style=\"stroke: #A80036; stroke-width: 1.0; stroke-dasharray: 7.0,7.0;\"/><polygon fill=\"#A80036\" points=\"349,343.95,352,335.95,346,335.95,349,343.95\" style=\"stroke: #A80036; stroke-width: 1.0;\"/><text fill=\"#000000\" font-family=\"sans-serif\" font-size=\"13\" lengthAdjust=\"spacingAndGlyphs\" textLength=\"64\" x=\"350\" y=\"310.0669\">«depend»</text></a><!--MD5=[c5e8897d989ce984f93528998a7150fe]\n",
       "link E8 to E6--><a href=\"psysml:80784242-98cb-449c-a51f-f2c7c1061d87\" target=\"_top\" title=\"psysml:80784242-98cb-449c-a51f-f2c7c1061d87\" xlink:actuate=\"onRequest\" xlink:href=\"psysml:80784242-98cb-449c-a51f-f2c7c1061d87\" xlink:show=\"new\" xlink:title=\"psysml:80784242-98cb-449c-a51f-f2c7c1061d87\" xlink:type=\"simple\"><path d=\"M89.42,133.6 C79.35,142.68 69.37,154.11 64,167 C58.5,180.2 58.66,195.94 60.54,209.38 \" fill=\"none\" id=\"E8-&gt;E6\" style=\"stroke: #A80036; stroke-width: 1.0; stroke-dasharray: 7.0,7.0;\"/><polygon fill=\"#A80036\" points=\"61.9,217.4,63.517,209.0104,57.6018,210.0159,61.9,217.4\" style=\"stroke: #A80036; stroke-width: 1.0;\"/><text fill=\"#000000\" font-family=\"sans-serif\" font-size=\"13\" lengthAdjust=\"spacingAndGlyphs\" textLength=\"64\" x=\"65\" y=\"180.0669\">«depend»</text></a><!--MD5=[bfa3c8b0d15052fdf50ae9310b491027]\n",
       "link E8 to E7--><a href=\"psysml:80784242-98cb-449c-a51f-f2c7c1061d87\" target=\"_top\" title=\"psysml:80784242-98cb-449c-a51f-f2c7c1061d87\" xlink:actuate=\"onRequest\" xlink:href=\"psysml:80784242-98cb-449c-a51f-f2c7c1061d87\" xlink:show=\"new\" xlink:title=\"psysml:80784242-98cb-449c-a51f-f2c7c1061d87\" xlink:type=\"simple\"><path d=\"M129.28,133.5 C138.17,154.57 151.64,186.5 161.47,209.81 \" fill=\"none\" id=\"E8-&gt;E7\" style=\"stroke: #A80036; stroke-width: 1.0; stroke-dasharray: 7.0,7.0;\"/><polygon fill=\"#A80036\" points=\"164.66,217.35,164.3241,208.8126,158.7933,211.1385,164.66,217.35\" style=\"stroke: #A80036; stroke-width: 1.0;\"/><text fill=\"#000000\" font-family=\"sans-serif\" font-size=\"13\" lengthAdjust=\"spacingAndGlyphs\" textLength=\"64\" x=\"151\" y=\"180.0669\">«depend»</text></a><!--MD5=[5e478d4b855a2d07d13d79e780b41d2d]\n",
       "@startuml\r\n",
       "skinparam wrapWidth 300\r\n",
       "hide circle\r\n",
       "\r\n",
       "package \"DependencyTest\" as E1  [[psysml:438e34af-3ce5-4e99-acf4-d3ecd205ea23 ]]  {\r\n",
       "package \"System\" as E2  [[psysml:33a226aa-95cf-4670-96e1-1bd6e94f796f ]]  {\r\n",
       "package \"Application Layer\" as E3  [[psysml:add81eb6-248c-4298-8987-63cd174f8097 ]]  {\r\n",
       "}\r\n",
       "package \"Service Layer\" as E4  [[psysml:95ba016d-ba70-4f40-a2b0-65410d9cce5b ]]  {\r\n",
       "}\r\n",
       "package \"Data Layer\" as E5  [[psysml:ae80162e-06ca-4b24-a1f3-10c5d346ebc4 ]]  {\r\n",
       "}\r\n",
       "}\r\n",
       "comp usage \"x\" as E6  <<(T,blue)attribute>> [[psysml:747ec202-6e4c-456d-855d-21470db0b7f2 ]] {\r\n",
       "}\r\n",
       "comp usage \"y\" as E7  <<(T,blue)attribute>> [[psysml:aee293b7-b915-4f4d-bf33-13d7af80ad07 ]] {\r\n",
       "}\r\n",
       "comp usage \"z\" as E8  <<(T,blue)attribute>> [[psysml:1c42907e-9ca4-4468-bbbb-1ea70701dab3 ]] {\r\n",
       "}\r\n",
       "E3 ..>> E4 [[psysml:4c7b915e-320e-40c7-9399-584f1f84a9d7 ]] : <<depend>>\r\n",
       "E4 ..>> E5 [[psysml:9be59ee3-60f5-4004-bc3e-00c0f7693956 ]] : <<depend>>\r\n",
       "E8 ..>> E6 [[psysml:80784242-98cb-449c-a51f-f2c7c1061d87 ]] : <<depend>>\r\n",
       "E8 ..>> E7 [[psysml:80784242-98cb-449c-a51f-f2c7c1061d87 ]] : <<depend>>\r\n",
       "}\r\n",
       "@enduml\r\n",
       "\n",
       "PlantUML version 1.2020.13(Sat Jun 13 12:26:38 UTC 2020)\n",
       "(EPL source distribution)\n",
       "Java Runtime: OpenJDK Runtime Environment\n",
       "JVM: OpenJDK 64-Bit Server VM\n",
       "Default Encoding: UTF-8\n",
       "Language: en\n",
       "Country: null\n",
       "--></g></svg>"
      ]
     },
     "execution_count": 23,
     "metadata": {},
     "output_type": "execute_result"
    }
   ],
   "source": [
    "%viz --style=\"STDCOLOR\" --view=\"Default\" \"DependencyTest\""
   ]
  },
  {
   "cell_type": "code",
   "execution_count": 24,
   "id": "living-discount",
   "metadata": {
    "execution": {
     "iopub.execute_input": "2021-03-25T13:26:16.968393Z",
     "iopub.status.busy": "2021-03-25T13:26:16.967979Z",
     "iopub.status.idle": "2021-03-25T13:26:17.065117Z",
     "shell.execute_reply": "2021-03-25T13:26:17.064616Z"
    }
   },
   "outputs": [
    {
     "data": {
      "image/svg+xml": [
       "<?xml version=\"1.0\" encoding=\"UTF-8\" standalone=\"no\"?><svg xmlns=\"http://www.w3.org/2000/svg\" xmlns:xlink=\"http://www.w3.org/1999/xlink\" contentScriptType=\"application/ecmascript\" contentStyleType=\"text/css\" height=\"449px\" preserveAspectRatio=\"none\" style=\"width:489px;height:449px;\" version=\"1.1\" viewBox=\"0 0 489 449\" width=\"489px\" zoomAndPan=\"magnify\"><defs><filter height=\"300%\" id=\"f1j9tzaevoy5pp\" width=\"300%\" x=\"-1\" y=\"-1\"><feGaussianBlur result=\"blurOut\" stdDeviation=\"2.0\"/><feColorMatrix in=\"blurOut\" result=\"blurOut2\" type=\"matrix\" values=\"0 0 0 0 0 0 0 0 0 0 0 0 0 0 0 0 0 0 .4 0\"/><feOffset dx=\"4.0\" dy=\"4.0\" in=\"blurOut2\" result=\"blurOut3\"/><feBlend in=\"SourceGraphic\" in2=\"blurOut3\" mode=\"normal\"/></filter></defs><g><!--MD5=[fbc87193dbaf4d95561dea2c320d4a47]\n",
       "cluster E1--><a href=\"psysml:438e34af-3ce5-4e99-acf4-d3ecd205ea23\" target=\"_top\" title=\"psysml:438e34af-3ce5-4e99-acf4-d3ecd205ea23\" xlink:actuate=\"onRequest\" xlink:href=\"psysml:438e34af-3ce5-4e99-acf4-d3ecd205ea23\" xlink:show=\"new\" xlink:title=\"psysml:438e34af-3ce5-4e99-acf4-d3ecd205ea23\" xlink:type=\"simple\"><polygon fill=\"#FFFFFF\" filter=\"url(#f1j9tzaevoy5pp)\" points=\"16,6,156,6,163,28.2969,467,28.2969,467,437,16,437,16,6\" style=\"stroke: #000000; stroke-width: 1.5;\"/><line style=\"stroke: #000000; stroke-width: 1.5;\" x1=\"16\" x2=\"163\" y1=\"28.2969\" y2=\"28.2969\"/><text fill=\"#000000\" font-family=\"sans-serif\" font-size=\"14\" font-weight=\"bold\" lengthAdjust=\"spacingAndGlyphs\" textLength=\"134\" x=\"20\" y=\"20.9951\">DependencyTest</text></a><!--MD5=[e4f7fae6ed58524ba242bb0b0d3be6b7]\n",
       "cluster E2--><a href=\"psysml:33a226aa-95cf-4670-96e1-1bd6e94f796f\" target=\"_top\" title=\"psysml:33a226aa-95cf-4670-96e1-1bd6e94f796f\" xlink:actuate=\"onRequest\" xlink:href=\"psysml:33a226aa-95cf-4670-96e1-1bd6e94f796f\" xlink:show=\"new\" xlink:title=\"psysml:33a226aa-95cf-4670-96e1-1bd6e94f796f\" xlink:type=\"simple\"><polygon fill=\"#FFFFFF\" filter=\"url(#f1j9tzaevoy5pp)\" points=\"255,49,319,49,326,71.2969,443,71.2969,443,413,255,413,255,49\" style=\"stroke: #000000; stroke-width: 1.5;\"/><line style=\"stroke: #000000; stroke-width: 1.5;\" x1=\"255\" x2=\"326\" y1=\"71.2969\" y2=\"71.2969\"/><text fill=\"#000000\" font-family=\"sans-serif\" font-size=\"14\" font-weight=\"bold\" lengthAdjust=\"spacingAndGlyphs\" textLength=\"58\" x=\"259\" y=\"63.9951\">System</text></a><!--MD5=[60a26617385b1d2d0262a64233df1f8d]\n",
       "class E6--><a href=\"psysml:747ec202-6e4c-456d-855d-21470db0b7f2\" target=\"_top\" title=\"psysml:747ec202-6e4c-456d-855d-21470db0b7f2\" xlink:actuate=\"onRequest\" xlink:href=\"psysml:747ec202-6e4c-456d-855d-21470db0b7f2\" xlink:show=\"new\" xlink:title=\"psysml:747ec202-6e4c-456d-855d-21470db0b7f2\" xlink:type=\"simple\"><rect fill=\"#FEFECE\" filter=\"url(#f1j9tzaevoy5pp)\" height=\"45.9375\" id=\"E6\" rx=\"10\" ry=\"10\" style=\"stroke: #A80036; stroke-width: 1.5;\" width=\"71\" x=\"32.5\" y=\"217.5\"/><text fill=\"#000000\" font-family=\"sans-serif\" font-size=\"12\" font-style=\"italic\" lengthAdjust=\"spacingAndGlyphs\" textLength=\"69\" x=\"33.5\" y=\"233.6387\">«attribute»</text><text fill=\"#000000\" font-family=\"sans-serif\" font-size=\"12\" lengthAdjust=\"spacingAndGlyphs\" textLength=\"6\" x=\"65\" y=\"247.6074\">x</text><line style=\"stroke: #A80036; stroke-width: 1.5;\" x1=\"33.5\" x2=\"102.5\" y1=\"255.4375\" y2=\"255.4375\"/></a><!--MD5=[2156ba9850f5573cc1fc38a6a4b2f02b]\n",
       "class E7--><a href=\"psysml:aee293b7-b915-4f4d-bf33-13d7af80ad07\" target=\"_top\" title=\"psysml:aee293b7-b915-4f4d-bf33-13d7af80ad07\" xlink:actuate=\"onRequest\" xlink:href=\"psysml:aee293b7-b915-4f4d-bf33-13d7af80ad07\" xlink:show=\"new\" xlink:title=\"psysml:aee293b7-b915-4f4d-bf33-13d7af80ad07\" xlink:type=\"simple\"><rect fill=\"#FEFECE\" filter=\"url(#f1j9tzaevoy5pp)\" height=\"45.9375\" id=\"E7\" rx=\"10\" ry=\"10\" style=\"stroke: #A80036; stroke-width: 1.5;\" width=\"71\" x=\"138.5\" y=\"217.5\"/><text fill=\"#000000\" font-family=\"sans-serif\" font-size=\"12\" font-style=\"italic\" lengthAdjust=\"spacingAndGlyphs\" textLength=\"69\" x=\"139.5\" y=\"233.6387\">«attribute»</text><text fill=\"#000000\" font-family=\"sans-serif\" font-size=\"12\" lengthAdjust=\"spacingAndGlyphs\" textLength=\"6\" x=\"171\" y=\"247.6074\">y</text><line style=\"stroke: #A80036; stroke-width: 1.5;\" x1=\"139.5\" x2=\"208.5\" y1=\"255.4375\" y2=\"255.4375\"/></a><!--MD5=[b9389687b975829384b498ac4b7476b2]\n",
       "class E8--><a href=\"psysml:1c42907e-9ca4-4468-bbbb-1ea70701dab3\" target=\"_top\" title=\"psysml:1c42907e-9ca4-4468-bbbb-1ea70701dab3\" xlink:actuate=\"onRequest\" xlink:href=\"psysml:1c42907e-9ca4-4468-bbbb-1ea70701dab3\" xlink:show=\"new\" xlink:title=\"psysml:1c42907e-9ca4-4468-bbbb-1ea70701dab3\" xlink:type=\"simple\"><rect fill=\"#FEFECE\" filter=\"url(#f1j9tzaevoy5pp)\" height=\"45.9375\" id=\"E8\" rx=\"10\" ry=\"10\" style=\"stroke: #A80036; stroke-width: 1.5;\" width=\"71\" x=\"84.5\" y=\"87.5\"/><text fill=\"#000000\" font-family=\"sans-serif\" font-size=\"12\" font-style=\"italic\" lengthAdjust=\"spacingAndGlyphs\" textLength=\"69\" x=\"85.5\" y=\"103.6387\">«attribute»</text><text fill=\"#000000\" font-family=\"sans-serif\" font-size=\"12\" lengthAdjust=\"spacingAndGlyphs\" textLength=\"5\" x=\"117.5\" y=\"117.6074\">z</text><line style=\"stroke: #A80036; stroke-width: 1.5;\" x1=\"85.5\" x2=\"154.5\" y1=\"125.4375\" y2=\"125.4375\"/></a><a href=\"psysml:add81eb6-248c-4298-8987-63cd174f8097\" target=\"_top\" title=\"psysml:add81eb6-248c-4298-8987-63cd174f8097\" xlink:actuate=\"onRequest\" xlink:href=\"psysml:add81eb6-248c-4298-8987-63cd174f8097\" xlink:show=\"new\" xlink:title=\"psysml:add81eb6-248c-4298-8987-63cd174f8097\" xlink:type=\"simple\"><polygon fill=\"#FFFFFF\" filter=\"url(#f1j9tzaevoy5pp)\" points=\"271,84,413,84,420,106.2969,427,106.2969,427,136.5938,271,136.5938,271,84\" style=\"stroke: #000000; stroke-width: 1.5;\"/><line style=\"stroke: #000000; stroke-width: 1.5;\" x1=\"271\" x2=\"420\" y1=\"106.2969\" y2=\"106.2969\"/><text fill=\"#000000\" font-family=\"sans-serif\" font-size=\"14\" font-weight=\"bold\" lengthAdjust=\"spacingAndGlyphs\" textLength=\"136\" x=\"275\" y=\"98.9951\">Application Layer</text></a><a href=\"psysml:95ba016d-ba70-4f40-a2b0-65410d9cce5b\" target=\"_top\" title=\"psysml:95ba016d-ba70-4f40-a2b0-65410d9cce5b\" xlink:actuate=\"onRequest\" xlink:href=\"psysml:95ba016d-ba70-4f40-a2b0-65410d9cce5b\" xlink:show=\"new\" xlink:title=\"psysml:95ba016d-ba70-4f40-a2b0-65410d9cce5b\" xlink:type=\"simple\"><polygon fill=\"#FFFFFF\" filter=\"url(#f1j9tzaevoy5pp)\" points=\"285,214,399,214,406,236.2969,413,236.2969,413,266.5938,285,266.5938,285,214\" style=\"stroke: #000000; stroke-width: 1.5;\"/><line style=\"stroke: #000000; stroke-width: 1.5;\" x1=\"285\" x2=\"406\" y1=\"236.2969\" y2=\"236.2969\"/><text fill=\"#000000\" font-family=\"sans-serif\" font-size=\"14\" font-weight=\"bold\" lengthAdjust=\"spacingAndGlyphs\" textLength=\"108\" x=\"289\" y=\"228.9951\">Service Layer</text></a><a href=\"psysml:ae80162e-06ca-4b24-a1f3-10c5d346ebc4\" target=\"_top\" title=\"psysml:ae80162e-06ca-4b24-a1f3-10c5d346ebc4\" xlink:actuate=\"onRequest\" xlink:href=\"psysml:ae80162e-06ca-4b24-a1f3-10c5d346ebc4\" xlink:show=\"new\" xlink:title=\"psysml:ae80162e-06ca-4b24-a1f3-10c5d346ebc4\" xlink:type=\"simple\"><polygon fill=\"#FFFFFF\" filter=\"url(#f1j9tzaevoy5pp)\" points=\"297,344,387,344,394,366.2969,401,366.2969,401,396.5938,297,396.5938,297,344\" style=\"stroke: #000000; stroke-width: 1.5;\"/><line style=\"stroke: #000000; stroke-width: 1.5;\" x1=\"297\" x2=\"394\" y1=\"366.2969\" y2=\"366.2969\"/><text fill=\"#000000\" font-family=\"sans-serif\" font-size=\"14\" font-weight=\"bold\" lengthAdjust=\"spacingAndGlyphs\" textLength=\"84\" x=\"301\" y=\"358.9951\">Data Layer</text></a><!--MD5=[af87c684e3b0d8be13c1a698a818ef1e]\n",
       "link E3 to E4--><a href=\"psysml:4c7b915e-320e-40c7-9399-584f1f84a9d7\" target=\"_top\" title=\"psysml:4c7b915e-320e-40c7-9399-584f1f84a9d7\" xlink:actuate=\"onRequest\" xlink:href=\"psysml:4c7b915e-320e-40c7-9399-584f1f84a9d7\" xlink:show=\"new\" xlink:title=\"psysml:4c7b915e-320e-40c7-9399-584f1f84a9d7\" xlink:type=\"simple\"><path d=\"M349,137.1 C349,156.8 349,184.22 349,205.73 \" fill=\"none\" id=\"E3-&gt;E4\" style=\"stroke: #A80036; stroke-width: 1.0; stroke-dasharray: 7.0,7.0;\"/><polygon fill=\"#A80036\" points=\"349,213.95,352,205.95,346,205.95,349,213.95\" style=\"stroke: #A80036; stroke-width: 1.0;\"/><text fill=\"#000000\" font-family=\"sans-serif\" font-size=\"13\" lengthAdjust=\"spacingAndGlyphs\" textLength=\"64\" x=\"350\" y=\"180.0669\">«depend»</text></a><!--MD5=[1b7591eae5389033d8d09a9d6721a717]\n",
       "link E4 to E5--><a href=\"psysml:9be59ee3-60f5-4004-bc3e-00c0f7693956\" target=\"_top\" title=\"psysml:9be59ee3-60f5-4004-bc3e-00c0f7693956\" xlink:actuate=\"onRequest\" xlink:href=\"psysml:9be59ee3-60f5-4004-bc3e-00c0f7693956\" xlink:show=\"new\" xlink:title=\"psysml:9be59ee3-60f5-4004-bc3e-00c0f7693956\" xlink:type=\"simple\"><path d=\"M349,267.1 C349,286.8 349,314.22 349,335.73 \" fill=\"none\" id=\"E4-&gt;E5\" style=\"stroke: #A80036; stroke-width: 1.0; stroke-dasharray: 7.0,7.0;\"/><polygon fill=\"#A80036\" points=\"349,343.95,352,335.95,346,335.95,349,343.95\" style=\"stroke: #A80036; stroke-width: 1.0;\"/><text fill=\"#000000\" font-family=\"sans-serif\" font-size=\"13\" lengthAdjust=\"spacingAndGlyphs\" textLength=\"64\" x=\"350\" y=\"310.0669\">«depend»</text></a><!--MD5=[c5e8897d989ce984f93528998a7150fe]\n",
       "link E8 to E6--><a href=\"psysml:80784242-98cb-449c-a51f-f2c7c1061d87\" target=\"_top\" title=\"psysml:80784242-98cb-449c-a51f-f2c7c1061d87\" xlink:actuate=\"onRequest\" xlink:href=\"psysml:80784242-98cb-449c-a51f-f2c7c1061d87\" xlink:show=\"new\" xlink:title=\"psysml:80784242-98cb-449c-a51f-f2c7c1061d87\" xlink:type=\"simple\"><path d=\"M89.42,133.6 C79.35,142.68 69.37,154.11 64,167 C58.5,180.2 58.66,195.94 60.54,209.38 \" fill=\"none\" id=\"E8-&gt;E6\" style=\"stroke: #A80036; stroke-width: 1.0; stroke-dasharray: 7.0,7.0;\"/><polygon fill=\"#A80036\" points=\"61.9,217.4,63.517,209.0104,57.6018,210.0159,61.9,217.4\" style=\"stroke: #A80036; stroke-width: 1.0;\"/><text fill=\"#000000\" font-family=\"sans-serif\" font-size=\"13\" lengthAdjust=\"spacingAndGlyphs\" textLength=\"64\" x=\"65\" y=\"180.0669\">«depend»</text></a><!--MD5=[bfa3c8b0d15052fdf50ae9310b491027]\n",
       "link E8 to E7--><a href=\"psysml:80784242-98cb-449c-a51f-f2c7c1061d87\" target=\"_top\" title=\"psysml:80784242-98cb-449c-a51f-f2c7c1061d87\" xlink:actuate=\"onRequest\" xlink:href=\"psysml:80784242-98cb-449c-a51f-f2c7c1061d87\" xlink:show=\"new\" xlink:title=\"psysml:80784242-98cb-449c-a51f-f2c7c1061d87\" xlink:type=\"simple\"><path d=\"M129.28,133.5 C138.17,154.57 151.64,186.5 161.47,209.81 \" fill=\"none\" id=\"E8-&gt;E7\" style=\"stroke: #A80036; stroke-width: 1.0; stroke-dasharray: 7.0,7.0;\"/><polygon fill=\"#A80036\" points=\"164.66,217.35,164.3241,208.8126,158.7933,211.1385,164.66,217.35\" style=\"stroke: #A80036; stroke-width: 1.0;\"/><text fill=\"#000000\" font-family=\"sans-serif\" font-size=\"13\" lengthAdjust=\"spacingAndGlyphs\" textLength=\"64\" x=\"151\" y=\"180.0669\">«depend»</text></a><!--MD5=[5e478d4b855a2d07d13d79e780b41d2d]\n",
       "@startuml\r\n",
       "skinparam wrapWidth 300\r\n",
       "hide circle\r\n",
       "\r\n",
       "package \"DependencyTest\" as E1  [[psysml:438e34af-3ce5-4e99-acf4-d3ecd205ea23 ]]  {\r\n",
       "package \"System\" as E2  [[psysml:33a226aa-95cf-4670-96e1-1bd6e94f796f ]]  {\r\n",
       "package \"Application Layer\" as E3  [[psysml:add81eb6-248c-4298-8987-63cd174f8097 ]]  {\r\n",
       "}\r\n",
       "package \"Service Layer\" as E4  [[psysml:95ba016d-ba70-4f40-a2b0-65410d9cce5b ]]  {\r\n",
       "}\r\n",
       "package \"Data Layer\" as E5  [[psysml:ae80162e-06ca-4b24-a1f3-10c5d346ebc4 ]]  {\r\n",
       "}\r\n",
       "}\r\n",
       "comp usage \"x\" as E6  <<(T,blue)attribute>> [[psysml:747ec202-6e4c-456d-855d-21470db0b7f2 ]] {\r\n",
       "}\r\n",
       "comp usage \"y\" as E7  <<(T,blue)attribute>> [[psysml:aee293b7-b915-4f4d-bf33-13d7af80ad07 ]] {\r\n",
       "}\r\n",
       "comp usage \"z\" as E8  <<(T,blue)attribute>> [[psysml:1c42907e-9ca4-4468-bbbb-1ea70701dab3 ]] {\r\n",
       "}\r\n",
       "E3 ..>> E4 [[psysml:4c7b915e-320e-40c7-9399-584f1f84a9d7 ]] : <<depend>>\r\n",
       "E4 ..>> E5 [[psysml:9be59ee3-60f5-4004-bc3e-00c0f7693956 ]] : <<depend>>\r\n",
       "E8 ..>> E6 [[psysml:80784242-98cb-449c-a51f-f2c7c1061d87 ]] : <<depend>>\r\n",
       "E8 ..>> E7 [[psysml:80784242-98cb-449c-a51f-f2c7c1061d87 ]] : <<depend>>\r\n",
       "}\r\n",
       "@enduml\r\n",
       "\n",
       "PlantUML version 1.2020.13(Sat Jun 13 12:26:38 UTC 2020)\n",
       "(EPL source distribution)\n",
       "Java Runtime: OpenJDK Runtime Environment\n",
       "JVM: OpenJDK 64-Bit Server VM\n",
       "Default Encoding: UTF-8\n",
       "Language: en\n",
       "Country: null\n",
       "--></g></svg>"
      ]
     },
     "execution_count": 24,
     "metadata": {},
     "output_type": "execute_result"
    }
   ],
   "source": [
    "%viz --style=\"STDCOLOR\" --view=\"Tree\" \"DependencyTest\""
   ]
  },
  {
   "cell_type": "code",
   "execution_count": 25,
   "id": "traditional-compact",
   "metadata": {
    "execution": {
     "iopub.execute_input": "2021-03-25T13:26:17.116106Z",
     "iopub.status.busy": "2021-03-25T13:26:17.115247Z",
     "iopub.status.idle": "2021-03-25T13:26:17.121285Z",
     "shell.execute_reply": "2021-03-25T13:26:17.120876Z"
    }
   },
   "outputs": [
    {
     "data": {
      "image/svg+xml": [
       "<?xml version=\"1.0\" encoding=\"UTF-8\" standalone=\"no\"?><svg xmlns=\"http://www.w3.org/2000/svg\" xmlns:xlink=\"http://www.w3.org/1999/xlink\" contentScriptType=\"application/ecmascript\" contentStyleType=\"text/css\" height=\"12px\" preserveAspectRatio=\"none\" style=\"width:12px;height:12px;\" version=\"1.1\" viewBox=\"0 0 12 12\" width=\"12px\" zoomAndPan=\"magnify\"><defs/><g><!--MD5=[aeeef50f102b80d730deb6443d14f702]\n",
       "@startuml\r\n",
       "skinparam wrapWidth 300\r\n",
       "hide circle\r\n",
       "\r\n",
       "@enduml\r\n",
       "\n",
       "PlantUML version 1.2020.13(Sat Jun 13 12:26:38 UTC 2020)\n",
       "(EPL source distribution)\n",
       "Java Runtime: OpenJDK Runtime Environment\n",
       "JVM: OpenJDK 64-Bit Server VM\n",
       "Default Encoding: UTF-8\n",
       "Language: en\n",
       "Country: null\n",
       "--></g></svg>"
      ]
     },
     "execution_count": 25,
     "metadata": {},
     "output_type": "execute_result"
    }
   ],
   "source": [
    "%viz --style=\"STDCOLOR\" --view=\"State\" \"DependencyTest\""
   ]
  },
  {
   "cell_type": "code",
   "execution_count": 26,
   "id": "short-domain",
   "metadata": {
    "execution": {
     "iopub.execute_input": "2021-03-25T13:26:17.172406Z",
     "iopub.status.busy": "2021-03-25T13:26:17.171931Z",
     "iopub.status.idle": "2021-03-25T13:26:17.272609Z",
     "shell.execute_reply": "2021-03-25T13:26:17.272258Z"
    }
   },
   "outputs": [
    {
     "data": {
      "image/svg+xml": [
       "<?xml version=\"1.0\" encoding=\"UTF-8\" standalone=\"no\"?><svg xmlns=\"http://www.w3.org/2000/svg\" xmlns:xlink=\"http://www.w3.org/1999/xlink\" contentScriptType=\"application/ecmascript\" contentStyleType=\"text/css\" height=\"361px\" preserveAspectRatio=\"none\" style=\"width:489px;height:361px;\" version=\"1.1\" viewBox=\"0 0 489 361\" width=\"489px\" zoomAndPan=\"magnify\"><defs><filter height=\"300%\" id=\"fu6iloda0usm0\" width=\"300%\" x=\"-1\" y=\"-1\"><feGaussianBlur result=\"blurOut\" stdDeviation=\"2.0\"/><feColorMatrix in=\"blurOut\" result=\"blurOut2\" type=\"matrix\" values=\"0 0 0 0 0 0 0 0 0 0 0 0 0 0 0 0 0 0 .4 0\"/><feOffset dx=\"4.0\" dy=\"4.0\" in=\"blurOut2\" result=\"blurOut3\"/><feBlend in=\"SourceGraphic\" in2=\"blurOut3\" mode=\"normal\"/></filter></defs><g><!--MD5=[fbc87193dbaf4d95561dea2c320d4a47]\n",
       "cluster E1--><a href=\"psysml:438e34af-3ce5-4e99-acf4-d3ecd205ea23\" target=\"_top\" title=\"psysml:438e34af-3ce5-4e99-acf4-d3ecd205ea23\" xlink:actuate=\"onRequest\" xlink:href=\"psysml:438e34af-3ce5-4e99-acf4-d3ecd205ea23\" xlink:show=\"new\" xlink:title=\"psysml:438e34af-3ce5-4e99-acf4-d3ecd205ea23\" xlink:type=\"simple\"><polygon fill=\"#FFFFFF\" filter=\"url(#fu6iloda0usm0)\" points=\"16,6,156,6,163,28.2969,467,28.2969,467,349,16,349,16,6\" style=\"stroke: #000000; stroke-width: 1.5;\"/><line style=\"stroke: #000000; stroke-width: 1.5;\" x1=\"16\" x2=\"163\" y1=\"28.2969\" y2=\"28.2969\"/><text fill=\"#000000\" font-family=\"sans-serif\" font-size=\"14\" font-weight=\"bold\" lengthAdjust=\"spacingAndGlyphs\" textLength=\"134\" x=\"20\" y=\"20.9951\">DependencyTest</text></a><!--MD5=[e4f7fae6ed58524ba242bb0b0d3be6b7]\n",
       "cluster E2--><a href=\"psysml:33a226aa-95cf-4670-96e1-1bd6e94f796f\" target=\"_top\" title=\"psysml:33a226aa-95cf-4670-96e1-1bd6e94f796f\" xlink:actuate=\"onRequest\" xlink:href=\"psysml:33a226aa-95cf-4670-96e1-1bd6e94f796f\" xlink:show=\"new\" xlink:title=\"psysml:33a226aa-95cf-4670-96e1-1bd6e94f796f\" xlink:type=\"simple\"><polygon fill=\"#FFFFFF\" filter=\"url(#fu6iloda0usm0)\" points=\"255,49,319,49,326,71.2969,443,71.2969,443,325,255,325,255,49\" style=\"stroke: #000000; stroke-width: 1.5;\"/><line style=\"stroke: #000000; stroke-width: 1.5;\" x1=\"255\" x2=\"326\" y1=\"71.2969\" y2=\"71.2969\"/><text fill=\"#000000\" font-family=\"sans-serif\" font-size=\"14\" font-weight=\"bold\" lengthAdjust=\"spacingAndGlyphs\" textLength=\"58\" x=\"259\" y=\"63.9951\">System</text></a><a href=\"psysml:add81eb6-248c-4298-8987-63cd174f8097\" target=\"_top\" title=\"psysml:add81eb6-248c-4298-8987-63cd174f8097\" xlink:actuate=\"onRequest\" xlink:href=\"psysml:add81eb6-248c-4298-8987-63cd174f8097\" xlink:show=\"new\" xlink:title=\"psysml:add81eb6-248c-4298-8987-63cd174f8097\" xlink:type=\"simple\"><polygon fill=\"#FFFFFF\" filter=\"url(#fu6iloda0usm0)\" points=\"271,84,413,84,420,106.2969,427,106.2969,427,136.5938,271,136.5938,271,84\" style=\"stroke: #000000; stroke-width: 1.5;\"/><line style=\"stroke: #000000; stroke-width: 1.5;\" x1=\"271\" x2=\"420\" y1=\"106.2969\" y2=\"106.2969\"/><text fill=\"#000000\" font-family=\"sans-serif\" font-size=\"14\" font-weight=\"bold\" lengthAdjust=\"spacingAndGlyphs\" textLength=\"136\" x=\"275\" y=\"98.9951\">Application Layer</text></a><a href=\"psysml:95ba016d-ba70-4f40-a2b0-65410d9cce5b\" target=\"_top\" title=\"psysml:95ba016d-ba70-4f40-a2b0-65410d9cce5b\" xlink:actuate=\"onRequest\" xlink:href=\"psysml:95ba016d-ba70-4f40-a2b0-65410d9cce5b\" xlink:show=\"new\" xlink:title=\"psysml:95ba016d-ba70-4f40-a2b0-65410d9cce5b\" xlink:type=\"simple\"><polygon fill=\"#FFFFFF\" filter=\"url(#fu6iloda0usm0)\" points=\"285,170,399,170,406,192.2969,413,192.2969,413,222.5938,285,222.5938,285,170\" style=\"stroke: #000000; stroke-width: 1.5;\"/><line style=\"stroke: #000000; stroke-width: 1.5;\" x1=\"285\" x2=\"406\" y1=\"192.2969\" y2=\"192.2969\"/><text fill=\"#000000\" font-family=\"sans-serif\" font-size=\"14\" font-weight=\"bold\" lengthAdjust=\"spacingAndGlyphs\" textLength=\"108\" x=\"289\" y=\"184.9951\">Service Layer</text></a><a href=\"psysml:ae80162e-06ca-4b24-a1f3-10c5d346ebc4\" target=\"_top\" title=\"psysml:ae80162e-06ca-4b24-a1f3-10c5d346ebc4\" xlink:actuate=\"onRequest\" xlink:href=\"psysml:ae80162e-06ca-4b24-a1f3-10c5d346ebc4\" xlink:show=\"new\" xlink:title=\"psysml:ae80162e-06ca-4b24-a1f3-10c5d346ebc4\" xlink:type=\"simple\"><polygon fill=\"#FFFFFF\" filter=\"url(#fu6iloda0usm0)\" points=\"297,256,387,256,394,278.2969,401,278.2969,401,308.5938,297,308.5938,297,256\" style=\"stroke: #000000; stroke-width: 1.5;\"/><line style=\"stroke: #000000; stroke-width: 1.5;\" x1=\"297\" x2=\"394\" y1=\"278.2969\" y2=\"278.2969\"/><text fill=\"#000000\" font-family=\"sans-serif\" font-size=\"14\" font-weight=\"bold\" lengthAdjust=\"spacingAndGlyphs\" textLength=\"84\" x=\"301\" y=\"270.9951\">Data Layer</text></a><g id=\"E1.E6\"><a href=\"psysml:747ec202-6e4c-456d-855d-21470db0b7f2\" target=\"_top\" title=\"psysml:747ec202-6e4c-456d-855d-21470db0b7f2\" xlink:actuate=\"onRequest\" xlink:href=\"psysml:747ec202-6e4c-456d-855d-21470db0b7f2\" xlink:show=\"new\" xlink:title=\"psysml:747ec202-6e4c-456d-855d-21470db0b7f2\" xlink:type=\"simple\"><rect fill=\"#FEFECE\" filter=\"url(#fu6iloda0usm0)\" height=\"42.9375\" id=\"E6\" rx=\"10\" ry=\"10\" style=\"stroke: #A80036; stroke-width: 1.5;\" width=\"76\" x=\"32\" y=\"175\"/><text fill=\"#000000\" font-family=\"sans-serif\" font-size=\"12\" font-style=\"italic\" lengthAdjust=\"spacingAndGlyphs\" textLength=\"69\" x=\"35.5\" y=\"191.1387\">«attribute»</text><text fill=\"#000000\" font-family=\"sans-serif\" font-size=\"12\" lengthAdjust=\"spacingAndGlyphs\" textLength=\"6\" x=\"67\" y=\"205.1074\">x</text></a></g><g id=\"E1.E7\"><a href=\"psysml:aee293b7-b915-4f4d-bf33-13d7af80ad07\" target=\"_top\" title=\"psysml:aee293b7-b915-4f4d-bf33-13d7af80ad07\" xlink:actuate=\"onRequest\" xlink:href=\"psysml:aee293b7-b915-4f4d-bf33-13d7af80ad07\" xlink:show=\"new\" xlink:title=\"psysml:aee293b7-b915-4f4d-bf33-13d7af80ad07\" xlink:type=\"simple\"><rect fill=\"#FEFECE\" filter=\"url(#fu6iloda0usm0)\" height=\"42.9375\" id=\"E7\" rx=\"10\" ry=\"10\" style=\"stroke: #A80036; stroke-width: 1.5;\" width=\"76\" x=\"143\" y=\"175\"/><text fill=\"#000000\" font-family=\"sans-serif\" font-size=\"12\" font-style=\"italic\" lengthAdjust=\"spacingAndGlyphs\" textLength=\"69\" x=\"146.5\" y=\"191.1387\">«attribute»</text><text fill=\"#000000\" font-family=\"sans-serif\" font-size=\"12\" lengthAdjust=\"spacingAndGlyphs\" textLength=\"6\" x=\"178\" y=\"205.1074\">y</text></a></g><g id=\"E1.E8\"><a href=\"psysml:1c42907e-9ca4-4468-bbbb-1ea70701dab3\" target=\"_top\" title=\"psysml:1c42907e-9ca4-4468-bbbb-1ea70701dab3\" xlink:actuate=\"onRequest\" xlink:href=\"psysml:1c42907e-9ca4-4468-bbbb-1ea70701dab3\" xlink:show=\"new\" xlink:title=\"psysml:1c42907e-9ca4-4468-bbbb-1ea70701dab3\" xlink:type=\"simple\"><rect fill=\"#FEFECE\" filter=\"url(#fu6iloda0usm0)\" height=\"42.9375\" id=\"E8\" rx=\"10\" ry=\"10\" style=\"stroke: #A80036; stroke-width: 1.5;\" width=\"76\" x=\"83\" y=\"89\"/><text fill=\"#000000\" font-family=\"sans-serif\" font-size=\"12\" font-style=\"italic\" lengthAdjust=\"spacingAndGlyphs\" textLength=\"69\" x=\"86.5\" y=\"105.1387\">«attribute»</text><text fill=\"#000000\" font-family=\"sans-serif\" font-size=\"12\" lengthAdjust=\"spacingAndGlyphs\" textLength=\"5\" x=\"118.5\" y=\"119.1074\">z</text></a></g><!--MD5=[af87c684e3b0d8be13c1a698a818ef1e]\n",
       "link E3 to E4--><a href=\"psysml:4c7b915e-320e-40c7-9399-584f1f84a9d7\" target=\"_top\" title=\"psysml:4c7b915e-320e-40c7-9399-584f1f84a9d7\" xlink:actuate=\"onRequest\" xlink:href=\"psysml:4c7b915e-320e-40c7-9399-584f1f84a9d7\" xlink:show=\"new\" xlink:title=\"psysml:4c7b915e-320e-40c7-9399-584f1f84a9d7\" xlink:type=\"simple\"><path d=\"M349,137.16 C349,144.98 349,153.69 349,161.94 \" fill=\"none\" id=\"E3-&gt;E4\" style=\"stroke: #A80036; stroke-width: 1.0; stroke-dasharray: 7.0,7.0;\"/><polygon fill=\"#A80036\" points=\"349,170,352,162,346,162,349,170\" style=\"stroke: #A80036; stroke-width: 1.0;\"/><text fill=\"#000000\" font-family=\"sans-serif\" font-size=\"13\" lengthAdjust=\"spacingAndGlyphs\" textLength=\"64\" x=\"350\" y=\"158.0669\">«depend»</text></a><!--MD5=[1b7591eae5389033d8d09a9d6721a717]\n",
       "link E4 to E5--><a href=\"psysml:9be59ee3-60f5-4004-bc3e-00c0f7693956\" target=\"_top\" title=\"psysml:9be59ee3-60f5-4004-bc3e-00c0f7693956\" xlink:actuate=\"onRequest\" xlink:href=\"psysml:9be59ee3-60f5-4004-bc3e-00c0f7693956\" xlink:show=\"new\" xlink:title=\"psysml:9be59ee3-60f5-4004-bc3e-00c0f7693956\" xlink:type=\"simple\"><path d=\"M349,223.16 C349,230.98 349,239.69 349,247.94 \" fill=\"none\" id=\"E4-&gt;E5\" style=\"stroke: #A80036; stroke-width: 1.0; stroke-dasharray: 7.0,7.0;\"/><polygon fill=\"#A80036\" points=\"349,256,352,248,346,248,349,256\" style=\"stroke: #A80036; stroke-width: 1.0;\"/><text fill=\"#000000\" font-family=\"sans-serif\" font-size=\"13\" lengthAdjust=\"spacingAndGlyphs\" textLength=\"64\" x=\"350\" y=\"244.0669\">«depend»</text></a><!--MD5=[c5e8897d989ce984f93528998a7150fe]\n",
       "link E8 to E6--><a href=\"psysml:80784242-98cb-449c-a51f-f2c7c1061d87\" target=\"_top\" title=\"psysml:80784242-98cb-449c-a51f-f2c7c1061d87\" xlink:actuate=\"onRequest\" xlink:href=\"psysml:80784242-98cb-449c-a51f-f2c7c1061d87\" xlink:show=\"new\" xlink:title=\"psysml:80784242-98cb-449c-a51f-f2c7c1061d87\" xlink:type=\"simple\"><path d=\"M82.81,126.48 C75.3,131.24 68.39,137.33 64,145 C60.26,151.53 59.68,159.3 60.56,166.77 \" fill=\"none\" id=\"E8-&gt;E6\" style=\"stroke: #A80036; stroke-width: 1.0; stroke-dasharray: 7.0,7.0;\"/><polygon fill=\"#A80036\" points=\"62.02,174.69,63.5257,166.2797,57.6244,167.3634,62.02,174.69\" style=\"stroke: #A80036; stroke-width: 1.0;\"/><text fill=\"#000000\" font-family=\"sans-serif\" font-size=\"13\" lengthAdjust=\"spacingAndGlyphs\" textLength=\"64\" x=\"65\" y=\"158.0669\">«depend»</text></a><!--MD5=[bfa3c8b0d15052fdf50ae9310b491027]\n",
       "link E8 to E7--><a href=\"psysml:80784242-98cb-449c-a51f-f2c7c1061d87\" target=\"_top\" title=\"psysml:80784242-98cb-449c-a51f-f2c7c1061d87\" xlink:actuate=\"onRequest\" xlink:href=\"psysml:80784242-98cb-449c-a51f-f2c7c1061d87\" xlink:show=\"new\" xlink:title=\"psysml:80784242-98cb-449c-a51f-f2c7c1061d87\" xlink:type=\"simple\"><path d=\"M135.83,132.26 C143.61,143.15 153.22,156.61 161.59,168.32 \" fill=\"none\" id=\"E8-&gt;E7\" style=\"stroke: #A80036; stroke-width: 1.0; stroke-dasharray: 7.0,7.0;\"/><polygon fill=\"#A80036\" points=\"166.34,174.97,164.1399,166.7141,159.2538,170.1965,166.34,174.97\" style=\"stroke: #A80036; stroke-width: 1.0;\"/><text fill=\"#000000\" font-family=\"sans-serif\" font-size=\"13\" lengthAdjust=\"spacingAndGlyphs\" textLength=\"64\" x=\"157\" y=\"158.0669\">«depend»</text></a><!--MD5=[8b01a1b9c226fdb4eb288df976f73f5e]\n",
       "@startuml\r\n",
       "skinparam ranksep 8\r\n",
       "skinparam rectangle {\r\n",
       " backgroundColor<<block>> LightGreen\r\n",
       "}\r\n",
       "skinparam wrapWidth 300\r\n",
       "hide circle\r\n",
       "\r\n",
       "package \"DependencyTest\" as E1  [[psysml:438e34af-3ce5-4e99-acf4-d3ecd205ea23 ]]  {\r\n",
       "package \"System\" as E2  [[psysml:33a226aa-95cf-4670-96e1-1bd6e94f796f ]]  {\r\n",
       "package \"Application Layer\" as E3  [[psysml:add81eb6-248c-4298-8987-63cd174f8097 ]]  {\r\n",
       "}\r\n",
       "package \"Service Layer\" as E4  [[psysml:95ba016d-ba70-4f40-a2b0-65410d9cce5b ]]  {\r\n",
       "}\r\n",
       "package \"Data Layer\" as E5  [[psysml:ae80162e-06ca-4b24-a1f3-10c5d346ebc4 ]]  {\r\n",
       "}\r\n",
       "}\r\n",
       "rec usage \"x\" as E6  <<(T,blue)attribute>> [[psysml:747ec202-6e4c-456d-855d-21470db0b7f2 ]] {\r\n",
       "}\r\n",
       "rec usage \"y\" as E7  <<(T,blue)attribute>> [[psysml:aee293b7-b915-4f4d-bf33-13d7af80ad07 ]] {\r\n",
       "}\r\n",
       "rec usage \"z\" as E8  <<(T,blue)attribute>> [[psysml:1c42907e-9ca4-4468-bbbb-1ea70701dab3 ]] {\r\n",
       "}\r\n",
       "E3 ..>> E4 [[psysml:4c7b915e-320e-40c7-9399-584f1f84a9d7 ]] : <<depend>>\r\n",
       "E4 ..>> E5 [[psysml:9be59ee3-60f5-4004-bc3e-00c0f7693956 ]] : <<depend>>\r\n",
       "E8 ..>> E6 [[psysml:80784242-98cb-449c-a51f-f2c7c1061d87 ]] : <<depend>>\r\n",
       "E8 ..>> E7 [[psysml:80784242-98cb-449c-a51f-f2c7c1061d87 ]] : <<depend>>\r\n",
       "}\r\n",
       "@enduml\r\n",
       "\n",
       "PlantUML version 1.2020.13(Sat Jun 13 12:26:38 UTC 2020)\n",
       "(EPL source distribution)\n",
       "Java Runtime: OpenJDK Runtime Environment\n",
       "JVM: OpenJDK 64-Bit Server VM\n",
       "Default Encoding: UTF-8\n",
       "Language: en\n",
       "Country: null\n",
       "--></g></svg>"
      ]
     },
     "execution_count": 26,
     "metadata": {},
     "output_type": "execute_result"
    }
   ],
   "source": [
    "%viz --style=\"STDCOLOR\" --view=\"Interconnection\" \"DependencyTest\""
   ]
  },
  {
   "cell_type": "code",
   "execution_count": 27,
   "id": "backed-twins",
   "metadata": {
    "execution": {
     "iopub.execute_input": "2021-03-25T13:26:17.323878Z",
     "iopub.status.busy": "2021-03-25T13:26:17.323249Z",
     "iopub.status.idle": "2021-03-25T13:26:17.330952Z",
     "shell.execute_reply": "2021-03-25T13:26:17.331359Z"
    }
   },
   "outputs": [
    {
     "data": {
      "image/svg+xml": [
       "<?xml version=\"1.0\" encoding=\"UTF-8\" standalone=\"no\"?><svg xmlns=\"http://www.w3.org/2000/svg\" xmlns:xlink=\"http://www.w3.org/1999/xlink\" contentScriptType=\"application/ecmascript\" contentStyleType=\"text/css\" height=\"12px\" preserveAspectRatio=\"none\" style=\"width:12px;height:12px;\" version=\"1.1\" viewBox=\"0 0 12 12\" width=\"12px\" zoomAndPan=\"magnify\"><defs/><g><!--MD5=[9863325348a96a77dacc89509d8ee65e]\n",
       "@startuml\r\n",
       "skinparam ranksep 8\r\n",
       "skinparam wrapWidth 300\r\n",
       "hide circle\r\n",
       "\r\n",
       "@enduml\r\n",
       "\n",
       "PlantUML version 1.2020.13(Sat Jun 13 12:26:38 UTC 2020)\n",
       "(EPL source distribution)\n",
       "Java Runtime: OpenJDK Runtime Environment\n",
       "JVM: OpenJDK 64-Bit Server VM\n",
       "Default Encoding: UTF-8\n",
       "Language: en\n",
       "Country: null\n",
       "--></g></svg>"
      ]
     },
     "execution_count": 27,
     "metadata": {},
     "output_type": "execute_result"
    }
   ],
   "source": [
    "%viz --style=\"STDCOLOR\" --view=\"Action\" \"DependencyTest\""
   ]
  },
  {
   "cell_type": "code",
   "execution_count": 28,
   "id": "eligible-trance",
   "metadata": {
    "execution": {
     "iopub.execute_input": "2021-03-25T13:26:17.382837Z",
     "iopub.status.busy": "2021-03-25T13:26:17.382048Z",
     "iopub.status.idle": "2021-03-25T13:26:17.480109Z",
     "shell.execute_reply": "2021-03-25T13:26:17.478550Z"
    }
   },
   "outputs": [
    {
     "data": {
      "image/svg+xml": [
       "<?xml version=\"1.0\" encoding=\"UTF-8\" standalone=\"no\"?><svg xmlns=\"http://www.w3.org/2000/svg\" xmlns:xlink=\"http://www.w3.org/1999/xlink\" contentScriptType=\"application/ecmascript\" contentStyleType=\"text/css\" height=\"449px\" preserveAspectRatio=\"none\" style=\"width:489px;height:449px;\" version=\"1.1\" viewBox=\"0 0 489 449\" width=\"489px\" zoomAndPan=\"magnify\"><defs><filter height=\"300%\" id=\"f1j9tzaevoy5pp\" width=\"300%\" x=\"-1\" y=\"-1\"><feGaussianBlur result=\"blurOut\" stdDeviation=\"2.0\"/><feColorMatrix in=\"blurOut\" result=\"blurOut2\" type=\"matrix\" values=\"0 0 0 0 0 0 0 0 0 0 0 0 0 0 0 0 0 0 .4 0\"/><feOffset dx=\"4.0\" dy=\"4.0\" in=\"blurOut2\" result=\"blurOut3\"/><feBlend in=\"SourceGraphic\" in2=\"blurOut3\" mode=\"normal\"/></filter></defs><g><!--MD5=[fbc87193dbaf4d95561dea2c320d4a47]\n",
       "cluster E1--><a href=\"psysml:438e34af-3ce5-4e99-acf4-d3ecd205ea23\" target=\"_top\" title=\"psysml:438e34af-3ce5-4e99-acf4-d3ecd205ea23\" xlink:actuate=\"onRequest\" xlink:href=\"psysml:438e34af-3ce5-4e99-acf4-d3ecd205ea23\" xlink:show=\"new\" xlink:title=\"psysml:438e34af-3ce5-4e99-acf4-d3ecd205ea23\" xlink:type=\"simple\"><polygon fill=\"#FFFFFF\" filter=\"url(#f1j9tzaevoy5pp)\" points=\"16,6,156,6,163,28.2969,467,28.2969,467,437,16,437,16,6\" style=\"stroke: #000000; stroke-width: 1.5;\"/><line style=\"stroke: #000000; stroke-width: 1.5;\" x1=\"16\" x2=\"163\" y1=\"28.2969\" y2=\"28.2969\"/><text fill=\"#000000\" font-family=\"sans-serif\" font-size=\"14\" font-weight=\"bold\" lengthAdjust=\"spacingAndGlyphs\" textLength=\"134\" x=\"20\" y=\"20.9951\">DependencyTest</text></a><!--MD5=[e4f7fae6ed58524ba242bb0b0d3be6b7]\n",
       "cluster E2--><a href=\"psysml:33a226aa-95cf-4670-96e1-1bd6e94f796f\" target=\"_top\" title=\"psysml:33a226aa-95cf-4670-96e1-1bd6e94f796f\" xlink:actuate=\"onRequest\" xlink:href=\"psysml:33a226aa-95cf-4670-96e1-1bd6e94f796f\" xlink:show=\"new\" xlink:title=\"psysml:33a226aa-95cf-4670-96e1-1bd6e94f796f\" xlink:type=\"simple\"><polygon fill=\"#FFFFFF\" filter=\"url(#f1j9tzaevoy5pp)\" points=\"255,49,319,49,326,71.2969,443,71.2969,443,413,255,413,255,49\" style=\"stroke: #000000; stroke-width: 1.5;\"/><line style=\"stroke: #000000; stroke-width: 1.5;\" x1=\"255\" x2=\"326\" y1=\"71.2969\" y2=\"71.2969\"/><text fill=\"#000000\" font-family=\"sans-serif\" font-size=\"14\" font-weight=\"bold\" lengthAdjust=\"spacingAndGlyphs\" textLength=\"58\" x=\"259\" y=\"63.9951\">System</text></a><!--MD5=[60a26617385b1d2d0262a64233df1f8d]\n",
       "class E6--><a href=\"psysml:747ec202-6e4c-456d-855d-21470db0b7f2\" target=\"_top\" title=\"psysml:747ec202-6e4c-456d-855d-21470db0b7f2\" xlink:actuate=\"onRequest\" xlink:href=\"psysml:747ec202-6e4c-456d-855d-21470db0b7f2\" xlink:show=\"new\" xlink:title=\"psysml:747ec202-6e4c-456d-855d-21470db0b7f2\" xlink:type=\"simple\"><rect fill=\"#FEFECE\" filter=\"url(#f1j9tzaevoy5pp)\" height=\"45.9375\" id=\"E6\" rx=\"10\" ry=\"10\" style=\"stroke: #A80036; stroke-width: 1.5;\" width=\"71\" x=\"32.5\" y=\"217.5\"/><text fill=\"#000000\" font-family=\"sans-serif\" font-size=\"12\" font-style=\"italic\" lengthAdjust=\"spacingAndGlyphs\" textLength=\"69\" x=\"33.5\" y=\"233.6387\">«attribute»</text><text fill=\"#000000\" font-family=\"sans-serif\" font-size=\"12\" lengthAdjust=\"spacingAndGlyphs\" textLength=\"6\" x=\"65\" y=\"247.6074\">x</text><line style=\"stroke: #A80036; stroke-width: 1.5;\" x1=\"33.5\" x2=\"102.5\" y1=\"255.4375\" y2=\"255.4375\"/></a><!--MD5=[2156ba9850f5573cc1fc38a6a4b2f02b]\n",
       "class E7--><a href=\"psysml:aee293b7-b915-4f4d-bf33-13d7af80ad07\" target=\"_top\" title=\"psysml:aee293b7-b915-4f4d-bf33-13d7af80ad07\" xlink:actuate=\"onRequest\" xlink:href=\"psysml:aee293b7-b915-4f4d-bf33-13d7af80ad07\" xlink:show=\"new\" xlink:title=\"psysml:aee293b7-b915-4f4d-bf33-13d7af80ad07\" xlink:type=\"simple\"><rect fill=\"#FEFECE\" filter=\"url(#f1j9tzaevoy5pp)\" height=\"45.9375\" id=\"E7\" rx=\"10\" ry=\"10\" style=\"stroke: #A80036; stroke-width: 1.5;\" width=\"71\" x=\"138.5\" y=\"217.5\"/><text fill=\"#000000\" font-family=\"sans-serif\" font-size=\"12\" font-style=\"italic\" lengthAdjust=\"spacingAndGlyphs\" textLength=\"69\" x=\"139.5\" y=\"233.6387\">«attribute»</text><text fill=\"#000000\" font-family=\"sans-serif\" font-size=\"12\" lengthAdjust=\"spacingAndGlyphs\" textLength=\"6\" x=\"171\" y=\"247.6074\">y</text><line style=\"stroke: #A80036; stroke-width: 1.5;\" x1=\"139.5\" x2=\"208.5\" y1=\"255.4375\" y2=\"255.4375\"/></a><!--MD5=[b9389687b975829384b498ac4b7476b2]\n",
       "class E8--><a href=\"psysml:1c42907e-9ca4-4468-bbbb-1ea70701dab3\" target=\"_top\" title=\"psysml:1c42907e-9ca4-4468-bbbb-1ea70701dab3\" xlink:actuate=\"onRequest\" xlink:href=\"psysml:1c42907e-9ca4-4468-bbbb-1ea70701dab3\" xlink:show=\"new\" xlink:title=\"psysml:1c42907e-9ca4-4468-bbbb-1ea70701dab3\" xlink:type=\"simple\"><rect fill=\"#FEFECE\" filter=\"url(#f1j9tzaevoy5pp)\" height=\"45.9375\" id=\"E8\" rx=\"10\" ry=\"10\" style=\"stroke: #A80036; stroke-width: 1.5;\" width=\"71\" x=\"84.5\" y=\"87.5\"/><text fill=\"#000000\" font-family=\"sans-serif\" font-size=\"12\" font-style=\"italic\" lengthAdjust=\"spacingAndGlyphs\" textLength=\"69\" x=\"85.5\" y=\"103.6387\">«attribute»</text><text fill=\"#000000\" font-family=\"sans-serif\" font-size=\"12\" lengthAdjust=\"spacingAndGlyphs\" textLength=\"5\" x=\"117.5\" y=\"117.6074\">z</text><line style=\"stroke: #A80036; stroke-width: 1.5;\" x1=\"85.5\" x2=\"154.5\" y1=\"125.4375\" y2=\"125.4375\"/></a><a href=\"psysml:add81eb6-248c-4298-8987-63cd174f8097\" target=\"_top\" title=\"psysml:add81eb6-248c-4298-8987-63cd174f8097\" xlink:actuate=\"onRequest\" xlink:href=\"psysml:add81eb6-248c-4298-8987-63cd174f8097\" xlink:show=\"new\" xlink:title=\"psysml:add81eb6-248c-4298-8987-63cd174f8097\" xlink:type=\"simple\"><polygon fill=\"#FFFFFF\" filter=\"url(#f1j9tzaevoy5pp)\" points=\"271,84,413,84,420,106.2969,427,106.2969,427,136.5938,271,136.5938,271,84\" style=\"stroke: #000000; stroke-width: 1.5;\"/><line style=\"stroke: #000000; stroke-width: 1.5;\" x1=\"271\" x2=\"420\" y1=\"106.2969\" y2=\"106.2969\"/><text fill=\"#000000\" font-family=\"sans-serif\" font-size=\"14\" font-weight=\"bold\" lengthAdjust=\"spacingAndGlyphs\" textLength=\"136\" x=\"275\" y=\"98.9951\">Application Layer</text></a><a href=\"psysml:95ba016d-ba70-4f40-a2b0-65410d9cce5b\" target=\"_top\" title=\"psysml:95ba016d-ba70-4f40-a2b0-65410d9cce5b\" xlink:actuate=\"onRequest\" xlink:href=\"psysml:95ba016d-ba70-4f40-a2b0-65410d9cce5b\" xlink:show=\"new\" xlink:title=\"psysml:95ba016d-ba70-4f40-a2b0-65410d9cce5b\" xlink:type=\"simple\"><polygon fill=\"#FFFFFF\" filter=\"url(#f1j9tzaevoy5pp)\" points=\"285,214,399,214,406,236.2969,413,236.2969,413,266.5938,285,266.5938,285,214\" style=\"stroke: #000000; stroke-width: 1.5;\"/><line style=\"stroke: #000000; stroke-width: 1.5;\" x1=\"285\" x2=\"406\" y1=\"236.2969\" y2=\"236.2969\"/><text fill=\"#000000\" font-family=\"sans-serif\" font-size=\"14\" font-weight=\"bold\" lengthAdjust=\"spacingAndGlyphs\" textLength=\"108\" x=\"289\" y=\"228.9951\">Service Layer</text></a><a href=\"psysml:ae80162e-06ca-4b24-a1f3-10c5d346ebc4\" target=\"_top\" title=\"psysml:ae80162e-06ca-4b24-a1f3-10c5d346ebc4\" xlink:actuate=\"onRequest\" xlink:href=\"psysml:ae80162e-06ca-4b24-a1f3-10c5d346ebc4\" xlink:show=\"new\" xlink:title=\"psysml:ae80162e-06ca-4b24-a1f3-10c5d346ebc4\" xlink:type=\"simple\"><polygon fill=\"#FFFFFF\" filter=\"url(#f1j9tzaevoy5pp)\" points=\"297,344,387,344,394,366.2969,401,366.2969,401,396.5938,297,396.5938,297,344\" style=\"stroke: #000000; stroke-width: 1.5;\"/><line style=\"stroke: #000000; stroke-width: 1.5;\" x1=\"297\" x2=\"394\" y1=\"366.2969\" y2=\"366.2969\"/><text fill=\"#000000\" font-family=\"sans-serif\" font-size=\"14\" font-weight=\"bold\" lengthAdjust=\"spacingAndGlyphs\" textLength=\"84\" x=\"301\" y=\"358.9951\">Data Layer</text></a><!--MD5=[af87c684e3b0d8be13c1a698a818ef1e]\n",
       "link E3 to E4--><a href=\"psysml:4c7b915e-320e-40c7-9399-584f1f84a9d7\" target=\"_top\" title=\"psysml:4c7b915e-320e-40c7-9399-584f1f84a9d7\" xlink:actuate=\"onRequest\" xlink:href=\"psysml:4c7b915e-320e-40c7-9399-584f1f84a9d7\" xlink:show=\"new\" xlink:title=\"psysml:4c7b915e-320e-40c7-9399-584f1f84a9d7\" xlink:type=\"simple\"><path d=\"M349,137.1 C349,156.8 349,184.22 349,205.73 \" fill=\"none\" id=\"E3-&gt;E4\" style=\"stroke: #A80036; stroke-width: 1.0; stroke-dasharray: 7.0,7.0;\"/><polygon fill=\"#A80036\" points=\"349,213.95,352,205.95,346,205.95,349,213.95\" style=\"stroke: #A80036; stroke-width: 1.0;\"/><text fill=\"#000000\" font-family=\"sans-serif\" font-size=\"13\" lengthAdjust=\"spacingAndGlyphs\" textLength=\"64\" x=\"350\" y=\"180.0669\">«depend»</text></a><!--MD5=[1b7591eae5389033d8d09a9d6721a717]\n",
       "link E4 to E5--><a href=\"psysml:9be59ee3-60f5-4004-bc3e-00c0f7693956\" target=\"_top\" title=\"psysml:9be59ee3-60f5-4004-bc3e-00c0f7693956\" xlink:actuate=\"onRequest\" xlink:href=\"psysml:9be59ee3-60f5-4004-bc3e-00c0f7693956\" xlink:show=\"new\" xlink:title=\"psysml:9be59ee3-60f5-4004-bc3e-00c0f7693956\" xlink:type=\"simple\"><path d=\"M349,267.1 C349,286.8 349,314.22 349,335.73 \" fill=\"none\" id=\"E4-&gt;E5\" style=\"stroke: #A80036; stroke-width: 1.0; stroke-dasharray: 7.0,7.0;\"/><polygon fill=\"#A80036\" points=\"349,343.95,352,335.95,346,335.95,349,343.95\" style=\"stroke: #A80036; stroke-width: 1.0;\"/><text fill=\"#000000\" font-family=\"sans-serif\" font-size=\"13\" lengthAdjust=\"spacingAndGlyphs\" textLength=\"64\" x=\"350\" y=\"310.0669\">«depend»</text></a><!--MD5=[c5e8897d989ce984f93528998a7150fe]\n",
       "link E8 to E6--><a href=\"psysml:80784242-98cb-449c-a51f-f2c7c1061d87\" target=\"_top\" title=\"psysml:80784242-98cb-449c-a51f-f2c7c1061d87\" xlink:actuate=\"onRequest\" xlink:href=\"psysml:80784242-98cb-449c-a51f-f2c7c1061d87\" xlink:show=\"new\" xlink:title=\"psysml:80784242-98cb-449c-a51f-f2c7c1061d87\" xlink:type=\"simple\"><path d=\"M89.42,133.6 C79.35,142.68 69.37,154.11 64,167 C58.5,180.2 58.66,195.94 60.54,209.38 \" fill=\"none\" id=\"E8-&gt;E6\" style=\"stroke: #A80036; stroke-width: 1.0; stroke-dasharray: 7.0,7.0;\"/><polygon fill=\"#A80036\" points=\"61.9,217.4,63.517,209.0104,57.6018,210.0159,61.9,217.4\" style=\"stroke: #A80036; stroke-width: 1.0;\"/><text fill=\"#000000\" font-family=\"sans-serif\" font-size=\"13\" lengthAdjust=\"spacingAndGlyphs\" textLength=\"64\" x=\"65\" y=\"180.0669\">«depend»</text></a><!--MD5=[bfa3c8b0d15052fdf50ae9310b491027]\n",
       "link E8 to E7--><a href=\"psysml:80784242-98cb-449c-a51f-f2c7c1061d87\" target=\"_top\" title=\"psysml:80784242-98cb-449c-a51f-f2c7c1061d87\" xlink:actuate=\"onRequest\" xlink:href=\"psysml:80784242-98cb-449c-a51f-f2c7c1061d87\" xlink:show=\"new\" xlink:title=\"psysml:80784242-98cb-449c-a51f-f2c7c1061d87\" xlink:type=\"simple\"><path d=\"M129.28,133.5 C138.17,154.57 151.64,186.5 161.47,209.81 \" fill=\"none\" id=\"E8-&gt;E7\" style=\"stroke: #A80036; stroke-width: 1.0; stroke-dasharray: 7.0,7.0;\"/><polygon fill=\"#A80036\" points=\"164.66,217.35,164.3241,208.8126,158.7933,211.1385,164.66,217.35\" style=\"stroke: #A80036; stroke-width: 1.0;\"/><text fill=\"#000000\" font-family=\"sans-serif\" font-size=\"13\" lengthAdjust=\"spacingAndGlyphs\" textLength=\"64\" x=\"151\" y=\"180.0669\">«depend»</text></a><!--MD5=[5e478d4b855a2d07d13d79e780b41d2d]\n",
       "@startuml\r\n",
       "skinparam wrapWidth 300\r\n",
       "hide circle\r\n",
       "\r\n",
       "package \"DependencyTest\" as E1  [[psysml:438e34af-3ce5-4e99-acf4-d3ecd205ea23 ]]  {\r\n",
       "package \"System\" as E2  [[psysml:33a226aa-95cf-4670-96e1-1bd6e94f796f ]]  {\r\n",
       "package \"Application Layer\" as E3  [[psysml:add81eb6-248c-4298-8987-63cd174f8097 ]]  {\r\n",
       "}\r\n",
       "package \"Service Layer\" as E4  [[psysml:95ba016d-ba70-4f40-a2b0-65410d9cce5b ]]  {\r\n",
       "}\r\n",
       "package \"Data Layer\" as E5  [[psysml:ae80162e-06ca-4b24-a1f3-10c5d346ebc4 ]]  {\r\n",
       "}\r\n",
       "}\r\n",
       "comp usage \"x\" as E6  <<(T,blue)attribute>> [[psysml:747ec202-6e4c-456d-855d-21470db0b7f2 ]] {\r\n",
       "}\r\n",
       "comp usage \"y\" as E7  <<(T,blue)attribute>> [[psysml:aee293b7-b915-4f4d-bf33-13d7af80ad07 ]] {\r\n",
       "}\r\n",
       "comp usage \"z\" as E8  <<(T,blue)attribute>> [[psysml:1c42907e-9ca4-4468-bbbb-1ea70701dab3 ]] {\r\n",
       "}\r\n",
       "E3 ..>> E4 [[psysml:4c7b915e-320e-40c7-9399-584f1f84a9d7 ]] : <<depend>>\r\n",
       "E4 ..>> E5 [[psysml:9be59ee3-60f5-4004-bc3e-00c0f7693956 ]] : <<depend>>\r\n",
       "E8 ..>> E6 [[psysml:80784242-98cb-449c-a51f-f2c7c1061d87 ]] : <<depend>>\r\n",
       "E8 ..>> E7 [[psysml:80784242-98cb-449c-a51f-f2c7c1061d87 ]] : <<depend>>\r\n",
       "}\r\n",
       "@enduml\r\n",
       "\n",
       "PlantUML version 1.2020.13(Sat Jun 13 12:26:38 UTC 2020)\n",
       "(EPL source distribution)\n",
       "Java Runtime: OpenJDK Runtime Environment\n",
       "JVM: OpenJDK 64-Bit Server VM\n",
       "Default Encoding: UTF-8\n",
       "Language: en\n",
       "Country: null\n",
       "--></g></svg>"
      ]
     },
     "execution_count": 28,
     "metadata": {},
     "output_type": "execute_result"
    }
   ],
   "source": [
    "%viz --style=\"STDCOLOR\" --view=\"Sequence\" \"DependencyTest\""
   ]
  },
  {
   "cell_type": "code",
   "execution_count": 29,
   "id": "ideal-firewall",
   "metadata": {
    "execution": {
     "iopub.execute_input": "2021-03-25T13:26:17.532253Z",
     "iopub.status.busy": "2021-03-25T13:26:17.531415Z",
     "iopub.status.idle": "2021-03-25T13:26:17.626247Z",
     "shell.execute_reply": "2021-03-25T13:26:17.624644Z"
    }
   },
   "outputs": [
    {
     "data": {
      "image/svg+xml": [
       "<?xml version=\"1.0\" encoding=\"UTF-8\" standalone=\"no\"?><svg xmlns=\"http://www.w3.org/2000/svg\" xmlns:xlink=\"http://www.w3.org/1999/xlink\" contentScriptType=\"application/ecmascript\" contentStyleType=\"text/css\" height=\"449px\" preserveAspectRatio=\"none\" style=\"width:489px;height:449px;\" version=\"1.1\" viewBox=\"0 0 489 449\" width=\"489px\" zoomAndPan=\"magnify\"><defs><filter height=\"300%\" id=\"f1j9tzaevoy5pp\" width=\"300%\" x=\"-1\" y=\"-1\"><feGaussianBlur result=\"blurOut\" stdDeviation=\"2.0\"/><feColorMatrix in=\"blurOut\" result=\"blurOut2\" type=\"matrix\" values=\"0 0 0 0 0 0 0 0 0 0 0 0 0 0 0 0 0 0 .4 0\"/><feOffset dx=\"4.0\" dy=\"4.0\" in=\"blurOut2\" result=\"blurOut3\"/><feBlend in=\"SourceGraphic\" in2=\"blurOut3\" mode=\"normal\"/></filter></defs><g><!--MD5=[fbc87193dbaf4d95561dea2c320d4a47]\n",
       "cluster E1--><a href=\"psysml:438e34af-3ce5-4e99-acf4-d3ecd205ea23\" target=\"_top\" title=\"psysml:438e34af-3ce5-4e99-acf4-d3ecd205ea23\" xlink:actuate=\"onRequest\" xlink:href=\"psysml:438e34af-3ce5-4e99-acf4-d3ecd205ea23\" xlink:show=\"new\" xlink:title=\"psysml:438e34af-3ce5-4e99-acf4-d3ecd205ea23\" xlink:type=\"simple\"><polygon fill=\"#FFFFFF\" filter=\"url(#f1j9tzaevoy5pp)\" points=\"16,6,156,6,163,28.2969,467,28.2969,467,437,16,437,16,6\" style=\"stroke: #000000; stroke-width: 1.5;\"/><line style=\"stroke: #000000; stroke-width: 1.5;\" x1=\"16\" x2=\"163\" y1=\"28.2969\" y2=\"28.2969\"/><text fill=\"#000000\" font-family=\"sans-serif\" font-size=\"14\" font-weight=\"bold\" lengthAdjust=\"spacingAndGlyphs\" textLength=\"134\" x=\"20\" y=\"20.9951\">DependencyTest</text></a><!--MD5=[e4f7fae6ed58524ba242bb0b0d3be6b7]\n",
       "cluster E2--><a href=\"psysml:33a226aa-95cf-4670-96e1-1bd6e94f796f\" target=\"_top\" title=\"psysml:33a226aa-95cf-4670-96e1-1bd6e94f796f\" xlink:actuate=\"onRequest\" xlink:href=\"psysml:33a226aa-95cf-4670-96e1-1bd6e94f796f\" xlink:show=\"new\" xlink:title=\"psysml:33a226aa-95cf-4670-96e1-1bd6e94f796f\" xlink:type=\"simple\"><polygon fill=\"#FFFFFF\" filter=\"url(#f1j9tzaevoy5pp)\" points=\"255,49,319,49,326,71.2969,443,71.2969,443,413,255,413,255,49\" style=\"stroke: #000000; stroke-width: 1.5;\"/><line style=\"stroke: #000000; stroke-width: 1.5;\" x1=\"255\" x2=\"326\" y1=\"71.2969\" y2=\"71.2969\"/><text fill=\"#000000\" font-family=\"sans-serif\" font-size=\"14\" font-weight=\"bold\" lengthAdjust=\"spacingAndGlyphs\" textLength=\"58\" x=\"259\" y=\"63.9951\">System</text></a><!--MD5=[60a26617385b1d2d0262a64233df1f8d]\n",
       "class E6--><a href=\"psysml:747ec202-6e4c-456d-855d-21470db0b7f2\" target=\"_top\" title=\"psysml:747ec202-6e4c-456d-855d-21470db0b7f2\" xlink:actuate=\"onRequest\" xlink:href=\"psysml:747ec202-6e4c-456d-855d-21470db0b7f2\" xlink:show=\"new\" xlink:title=\"psysml:747ec202-6e4c-456d-855d-21470db0b7f2\" xlink:type=\"simple\"><rect fill=\"#FEFECE\" filter=\"url(#f1j9tzaevoy5pp)\" height=\"45.9375\" id=\"E6\" rx=\"10\" ry=\"10\" style=\"stroke: #A80036; stroke-width: 1.5;\" width=\"71\" x=\"32.5\" y=\"217.5\"/><text fill=\"#000000\" font-family=\"sans-serif\" font-size=\"12\" font-style=\"italic\" lengthAdjust=\"spacingAndGlyphs\" textLength=\"69\" x=\"33.5\" y=\"233.6387\">«attribute»</text><text fill=\"#000000\" font-family=\"sans-serif\" font-size=\"12\" lengthAdjust=\"spacingAndGlyphs\" textLength=\"6\" x=\"65\" y=\"247.6074\">x</text><line style=\"stroke: #A80036; stroke-width: 1.5;\" x1=\"33.5\" x2=\"102.5\" y1=\"255.4375\" y2=\"255.4375\"/></a><!--MD5=[2156ba9850f5573cc1fc38a6a4b2f02b]\n",
       "class E7--><a href=\"psysml:aee293b7-b915-4f4d-bf33-13d7af80ad07\" target=\"_top\" title=\"psysml:aee293b7-b915-4f4d-bf33-13d7af80ad07\" xlink:actuate=\"onRequest\" xlink:href=\"psysml:aee293b7-b915-4f4d-bf33-13d7af80ad07\" xlink:show=\"new\" xlink:title=\"psysml:aee293b7-b915-4f4d-bf33-13d7af80ad07\" xlink:type=\"simple\"><rect fill=\"#FEFECE\" filter=\"url(#f1j9tzaevoy5pp)\" height=\"45.9375\" id=\"E7\" rx=\"10\" ry=\"10\" style=\"stroke: #A80036; stroke-width: 1.5;\" width=\"71\" x=\"138.5\" y=\"217.5\"/><text fill=\"#000000\" font-family=\"sans-serif\" font-size=\"12\" font-style=\"italic\" lengthAdjust=\"spacingAndGlyphs\" textLength=\"69\" x=\"139.5\" y=\"233.6387\">«attribute»</text><text fill=\"#000000\" font-family=\"sans-serif\" font-size=\"12\" lengthAdjust=\"spacingAndGlyphs\" textLength=\"6\" x=\"171\" y=\"247.6074\">y</text><line style=\"stroke: #A80036; stroke-width: 1.5;\" x1=\"139.5\" x2=\"208.5\" y1=\"255.4375\" y2=\"255.4375\"/></a><!--MD5=[b9389687b975829384b498ac4b7476b2]\n",
       "class E8--><a href=\"psysml:1c42907e-9ca4-4468-bbbb-1ea70701dab3\" target=\"_top\" title=\"psysml:1c42907e-9ca4-4468-bbbb-1ea70701dab3\" xlink:actuate=\"onRequest\" xlink:href=\"psysml:1c42907e-9ca4-4468-bbbb-1ea70701dab3\" xlink:show=\"new\" xlink:title=\"psysml:1c42907e-9ca4-4468-bbbb-1ea70701dab3\" xlink:type=\"simple\"><rect fill=\"#FEFECE\" filter=\"url(#f1j9tzaevoy5pp)\" height=\"45.9375\" id=\"E8\" rx=\"10\" ry=\"10\" style=\"stroke: #A80036; stroke-width: 1.5;\" width=\"71\" x=\"84.5\" y=\"87.5\"/><text fill=\"#000000\" font-family=\"sans-serif\" font-size=\"12\" font-style=\"italic\" lengthAdjust=\"spacingAndGlyphs\" textLength=\"69\" x=\"85.5\" y=\"103.6387\">«attribute»</text><text fill=\"#000000\" font-family=\"sans-serif\" font-size=\"12\" lengthAdjust=\"spacingAndGlyphs\" textLength=\"5\" x=\"117.5\" y=\"117.6074\">z</text><line style=\"stroke: #A80036; stroke-width: 1.5;\" x1=\"85.5\" x2=\"154.5\" y1=\"125.4375\" y2=\"125.4375\"/></a><a href=\"psysml:add81eb6-248c-4298-8987-63cd174f8097\" target=\"_top\" title=\"psysml:add81eb6-248c-4298-8987-63cd174f8097\" xlink:actuate=\"onRequest\" xlink:href=\"psysml:add81eb6-248c-4298-8987-63cd174f8097\" xlink:show=\"new\" xlink:title=\"psysml:add81eb6-248c-4298-8987-63cd174f8097\" xlink:type=\"simple\"><polygon fill=\"#FFFFFF\" filter=\"url(#f1j9tzaevoy5pp)\" points=\"271,84,413,84,420,106.2969,427,106.2969,427,136.5938,271,136.5938,271,84\" style=\"stroke: #000000; stroke-width: 1.5;\"/><line style=\"stroke: #000000; stroke-width: 1.5;\" x1=\"271\" x2=\"420\" y1=\"106.2969\" y2=\"106.2969\"/><text fill=\"#000000\" font-family=\"sans-serif\" font-size=\"14\" font-weight=\"bold\" lengthAdjust=\"spacingAndGlyphs\" textLength=\"136\" x=\"275\" y=\"98.9951\">Application Layer</text></a><a href=\"psysml:95ba016d-ba70-4f40-a2b0-65410d9cce5b\" target=\"_top\" title=\"psysml:95ba016d-ba70-4f40-a2b0-65410d9cce5b\" xlink:actuate=\"onRequest\" xlink:href=\"psysml:95ba016d-ba70-4f40-a2b0-65410d9cce5b\" xlink:show=\"new\" xlink:title=\"psysml:95ba016d-ba70-4f40-a2b0-65410d9cce5b\" xlink:type=\"simple\"><polygon fill=\"#FFFFFF\" filter=\"url(#f1j9tzaevoy5pp)\" points=\"285,214,399,214,406,236.2969,413,236.2969,413,266.5938,285,266.5938,285,214\" style=\"stroke: #000000; stroke-width: 1.5;\"/><line style=\"stroke: #000000; stroke-width: 1.5;\" x1=\"285\" x2=\"406\" y1=\"236.2969\" y2=\"236.2969\"/><text fill=\"#000000\" font-family=\"sans-serif\" font-size=\"14\" font-weight=\"bold\" lengthAdjust=\"spacingAndGlyphs\" textLength=\"108\" x=\"289\" y=\"228.9951\">Service Layer</text></a><a href=\"psysml:ae80162e-06ca-4b24-a1f3-10c5d346ebc4\" target=\"_top\" title=\"psysml:ae80162e-06ca-4b24-a1f3-10c5d346ebc4\" xlink:actuate=\"onRequest\" xlink:href=\"psysml:ae80162e-06ca-4b24-a1f3-10c5d346ebc4\" xlink:show=\"new\" xlink:title=\"psysml:ae80162e-06ca-4b24-a1f3-10c5d346ebc4\" xlink:type=\"simple\"><polygon fill=\"#FFFFFF\" filter=\"url(#f1j9tzaevoy5pp)\" points=\"297,344,387,344,394,366.2969,401,366.2969,401,396.5938,297,396.5938,297,344\" style=\"stroke: #000000; stroke-width: 1.5;\"/><line style=\"stroke: #000000; stroke-width: 1.5;\" x1=\"297\" x2=\"394\" y1=\"366.2969\" y2=\"366.2969\"/><text fill=\"#000000\" font-family=\"sans-serif\" font-size=\"14\" font-weight=\"bold\" lengthAdjust=\"spacingAndGlyphs\" textLength=\"84\" x=\"301\" y=\"358.9951\">Data Layer</text></a><!--MD5=[af87c684e3b0d8be13c1a698a818ef1e]\n",
       "link E3 to E4--><a href=\"psysml:4c7b915e-320e-40c7-9399-584f1f84a9d7\" target=\"_top\" title=\"psysml:4c7b915e-320e-40c7-9399-584f1f84a9d7\" xlink:actuate=\"onRequest\" xlink:href=\"psysml:4c7b915e-320e-40c7-9399-584f1f84a9d7\" xlink:show=\"new\" xlink:title=\"psysml:4c7b915e-320e-40c7-9399-584f1f84a9d7\" xlink:type=\"simple\"><path d=\"M349,137.1 C349,156.8 349,184.22 349,205.73 \" fill=\"none\" id=\"E3-&gt;E4\" style=\"stroke: #A80036; stroke-width: 1.0; stroke-dasharray: 7.0,7.0;\"/><polygon fill=\"#A80036\" points=\"349,213.95,352,205.95,346,205.95,349,213.95\" style=\"stroke: #A80036; stroke-width: 1.0;\"/><text fill=\"#000000\" font-family=\"sans-serif\" font-size=\"13\" lengthAdjust=\"spacingAndGlyphs\" textLength=\"64\" x=\"350\" y=\"180.0669\">«depend»</text></a><!--MD5=[1b7591eae5389033d8d09a9d6721a717]\n",
       "link E4 to E5--><a href=\"psysml:9be59ee3-60f5-4004-bc3e-00c0f7693956\" target=\"_top\" title=\"psysml:9be59ee3-60f5-4004-bc3e-00c0f7693956\" xlink:actuate=\"onRequest\" xlink:href=\"psysml:9be59ee3-60f5-4004-bc3e-00c0f7693956\" xlink:show=\"new\" xlink:title=\"psysml:9be59ee3-60f5-4004-bc3e-00c0f7693956\" xlink:type=\"simple\"><path d=\"M349,267.1 C349,286.8 349,314.22 349,335.73 \" fill=\"none\" id=\"E4-&gt;E5\" style=\"stroke: #A80036; stroke-width: 1.0; stroke-dasharray: 7.0,7.0;\"/><polygon fill=\"#A80036\" points=\"349,343.95,352,335.95,346,335.95,349,343.95\" style=\"stroke: #A80036; stroke-width: 1.0;\"/><text fill=\"#000000\" font-family=\"sans-serif\" font-size=\"13\" lengthAdjust=\"spacingAndGlyphs\" textLength=\"64\" x=\"350\" y=\"310.0669\">«depend»</text></a><!--MD5=[c5e8897d989ce984f93528998a7150fe]\n",
       "link E8 to E6--><a href=\"psysml:80784242-98cb-449c-a51f-f2c7c1061d87\" target=\"_top\" title=\"psysml:80784242-98cb-449c-a51f-f2c7c1061d87\" xlink:actuate=\"onRequest\" xlink:href=\"psysml:80784242-98cb-449c-a51f-f2c7c1061d87\" xlink:show=\"new\" xlink:title=\"psysml:80784242-98cb-449c-a51f-f2c7c1061d87\" xlink:type=\"simple\"><path d=\"M89.42,133.6 C79.35,142.68 69.37,154.11 64,167 C58.5,180.2 58.66,195.94 60.54,209.38 \" fill=\"none\" id=\"E8-&gt;E6\" style=\"stroke: #A80036; stroke-width: 1.0; stroke-dasharray: 7.0,7.0;\"/><polygon fill=\"#A80036\" points=\"61.9,217.4,63.517,209.0104,57.6018,210.0159,61.9,217.4\" style=\"stroke: #A80036; stroke-width: 1.0;\"/><text fill=\"#000000\" font-family=\"sans-serif\" font-size=\"13\" lengthAdjust=\"spacingAndGlyphs\" textLength=\"64\" x=\"65\" y=\"180.0669\">«depend»</text></a><!--MD5=[bfa3c8b0d15052fdf50ae9310b491027]\n",
       "link E8 to E7--><a href=\"psysml:80784242-98cb-449c-a51f-f2c7c1061d87\" target=\"_top\" title=\"psysml:80784242-98cb-449c-a51f-f2c7c1061d87\" xlink:actuate=\"onRequest\" xlink:href=\"psysml:80784242-98cb-449c-a51f-f2c7c1061d87\" xlink:show=\"new\" xlink:title=\"psysml:80784242-98cb-449c-a51f-f2c7c1061d87\" xlink:type=\"simple\"><path d=\"M129.28,133.5 C138.17,154.57 151.64,186.5 161.47,209.81 \" fill=\"none\" id=\"E8-&gt;E7\" style=\"stroke: #A80036; stroke-width: 1.0; stroke-dasharray: 7.0,7.0;\"/><polygon fill=\"#A80036\" points=\"164.66,217.35,164.3241,208.8126,158.7933,211.1385,164.66,217.35\" style=\"stroke: #A80036; stroke-width: 1.0;\"/><text fill=\"#000000\" font-family=\"sans-serif\" font-size=\"13\" lengthAdjust=\"spacingAndGlyphs\" textLength=\"64\" x=\"151\" y=\"180.0669\">«depend»</text></a><!--MD5=[5e478d4b855a2d07d13d79e780b41d2d]\n",
       "@startuml\r\n",
       "skinparam wrapWidth 300\r\n",
       "hide circle\r\n",
       "\r\n",
       "package \"DependencyTest\" as E1  [[psysml:438e34af-3ce5-4e99-acf4-d3ecd205ea23 ]]  {\r\n",
       "package \"System\" as E2  [[psysml:33a226aa-95cf-4670-96e1-1bd6e94f796f ]]  {\r\n",
       "package \"Application Layer\" as E3  [[psysml:add81eb6-248c-4298-8987-63cd174f8097 ]]  {\r\n",
       "}\r\n",
       "package \"Service Layer\" as E4  [[psysml:95ba016d-ba70-4f40-a2b0-65410d9cce5b ]]  {\r\n",
       "}\r\n",
       "package \"Data Layer\" as E5  [[psysml:ae80162e-06ca-4b24-a1f3-10c5d346ebc4 ]]  {\r\n",
       "}\r\n",
       "}\r\n",
       "comp usage \"x\" as E6  <<(T,blue)attribute>> [[psysml:747ec202-6e4c-456d-855d-21470db0b7f2 ]] {\r\n",
       "}\r\n",
       "comp usage \"y\" as E7  <<(T,blue)attribute>> [[psysml:aee293b7-b915-4f4d-bf33-13d7af80ad07 ]] {\r\n",
       "}\r\n",
       "comp usage \"z\" as E8  <<(T,blue)attribute>> [[psysml:1c42907e-9ca4-4468-bbbb-1ea70701dab3 ]] {\r\n",
       "}\r\n",
       "E3 ..>> E4 [[psysml:4c7b915e-320e-40c7-9399-584f1f84a9d7 ]] : <<depend>>\r\n",
       "E4 ..>> E5 [[psysml:9be59ee3-60f5-4004-bc3e-00c0f7693956 ]] : <<depend>>\r\n",
       "E8 ..>> E6 [[psysml:80784242-98cb-449c-a51f-f2c7c1061d87 ]] : <<depend>>\r\n",
       "E8 ..>> E7 [[psysml:80784242-98cb-449c-a51f-f2c7c1061d87 ]] : <<depend>>\r\n",
       "}\r\n",
       "@enduml\r\n",
       "\n",
       "PlantUML version 1.2020.13(Sat Jun 13 12:26:38 UTC 2020)\n",
       "(EPL source distribution)\n",
       "Java Runtime: OpenJDK Runtime Environment\n",
       "JVM: OpenJDK 64-Bit Server VM\n",
       "Default Encoding: UTF-8\n",
       "Language: en\n",
       "Country: null\n",
       "--></g></svg>"
      ]
     },
     "execution_count": 29,
     "metadata": {},
     "output_type": "execute_result"
    }
   ],
   "source": [
    "%viz --style=\"STDCOLOR\" --view=\"MIXED\" \"DependencyTest\""
   ]
  },
  {
   "cell_type": "code",
   "execution_count": 30,
   "id": "eastern-accuracy",
   "metadata": {
    "execution": {
     "iopub.execute_input": "2021-03-25T13:26:17.675994Z",
     "iopub.status.busy": "2021-03-25T13:26:17.675511Z",
     "iopub.status.idle": "2021-03-25T13:26:17.790545Z",
     "shell.execute_reply": "2021-03-25T13:26:17.790991Z"
    }
   },
   "outputs": [
    {
     "data": {
      "image/svg+xml": [
       "<?xml version=\"1.0\" encoding=\"UTF-8\" standalone=\"no\"?><svg xmlns=\"http://www.w3.org/2000/svg\" xmlns:xlink=\"http://www.w3.org/1999/xlink\" contentScriptType=\"application/ecmascript\" contentStyleType=\"text/css\" height=\"449px\" preserveAspectRatio=\"none\" style=\"width:510px;height:449px;\" version=\"1.1\" viewBox=\"0 0 510 449\" width=\"510px\" zoomAndPan=\"magnify\"><defs><filter height=\"300%\" id=\"fyo5b5pdgk6yl\" width=\"300%\" x=\"-1\" y=\"-1\"><feGaussianBlur result=\"blurOut\" stdDeviation=\"2.0\"/><feColorMatrix in=\"blurOut\" result=\"blurOut2\" type=\"matrix\" values=\"0 0 0 0 0 0 0 0 0 0 0 0 0 0 0 0 0 0 .4 0\"/><feOffset dx=\"4.0\" dy=\"4.0\" in=\"blurOut2\" result=\"blurOut3\"/><feBlend in=\"SourceGraphic\" in2=\"blurOut3\" mode=\"normal\"/></filter></defs><g><!--MD5=[fbc87193dbaf4d95561dea2c320d4a47]\n",
       "cluster E1--><a href=\"psysml:438e34af-3ce5-4e99-acf4-d3ecd205ea23\" target=\"_top\" title=\"psysml:438e34af-3ce5-4e99-acf4-d3ecd205ea23\" xlink:actuate=\"onRequest\" xlink:href=\"psysml:438e34af-3ce5-4e99-acf4-d3ecd205ea23\" xlink:show=\"new\" xlink:title=\"psysml:438e34af-3ce5-4e99-acf4-d3ecd205ea23\" xlink:type=\"simple\"><polygon fill=\"#FFFFFF\" filter=\"url(#fyo5b5pdgk6yl)\" points=\"16,6,156,6,163,28.2969,488,28.2969,488,437,16,437,16,6\" style=\"stroke: #000000; stroke-width: 1.5;\"/><line style=\"stroke: #000000; stroke-width: 1.5;\" x1=\"16\" x2=\"163\" y1=\"28.2969\" y2=\"28.2969\"/><text fill=\"#000000\" font-family=\"sans-serif\" font-size=\"14\" font-weight=\"bold\" lengthAdjust=\"spacingAndGlyphs\" textLength=\"134\" x=\"20\" y=\"20.9951\">DependencyTest</text></a><!--MD5=[e4f7fae6ed58524ba242bb0b0d3be6b7]\n",
       "cluster E2--><a href=\"psysml:33a226aa-95cf-4670-96e1-1bd6e94f796f\" target=\"_top\" title=\"psysml:33a226aa-95cf-4670-96e1-1bd6e94f796f\" xlink:actuate=\"onRequest\" xlink:href=\"psysml:33a226aa-95cf-4670-96e1-1bd6e94f796f\" xlink:show=\"new\" xlink:title=\"psysml:33a226aa-95cf-4670-96e1-1bd6e94f796f\" xlink:type=\"simple\"><polygon fill=\"#FFFFFF\" filter=\"url(#fyo5b5pdgk6yl)\" points=\"276,49,340,49,347,71.2969,464,71.2969,464,413,276,413,276,49\" style=\"stroke: #000000; stroke-width: 1.5;\"/><line style=\"stroke: #000000; stroke-width: 1.5;\" x1=\"276\" x2=\"347\" y1=\"71.2969\" y2=\"71.2969\"/><text fill=\"#000000\" font-family=\"sans-serif\" font-size=\"14\" font-weight=\"bold\" lengthAdjust=\"spacingAndGlyphs\" textLength=\"58\" x=\"280\" y=\"63.9951\">System</text></a><!--MD5=[60a26617385b1d2d0262a64233df1f8d]\n",
       "class E6--><a href=\"psysml:747ec202-6e4c-456d-855d-21470db0b7f2\" target=\"_top\" title=\"psysml:747ec202-6e4c-456d-855d-21470db0b7f2\" xlink:actuate=\"onRequest\" xlink:href=\"psysml:747ec202-6e4c-456d-855d-21470db0b7f2\" xlink:show=\"new\" xlink:title=\"psysml:747ec202-6e4c-456d-855d-21470db0b7f2\" xlink:type=\"simple\"><rect fill=\"#FEFECE\" filter=\"url(#fyo5b5pdgk6yl)\" height=\"45.9375\" id=\"E6\" rx=\"10\" ry=\"10\" style=\"stroke: #A80036; stroke-width: 1.5;\" width=\"97\" x=\"31.5\" y=\"217.5\"/><ellipse cx=\"46.5\" cy=\"236.4688\" fill=\"#FFA500\" rx=\"11\" ry=\"11\" style=\"stroke: #A80036; stroke-width: 1.0;\"/><path d=\"M42.375,238.3906 L42.375,230.5781 L44.8281,230.5781 L44.8281,239.0156 Q44.8281,239.9375 45.2969,240.4688 Q45.7813,241 46.6094,241 Q47.4531,241 47.9219,240.4688 Q48.3906,239.9375 48.3906,239.0156 L48.3906,230.5781 L50.8438,230.5781 L50.8438,238.3906 Q50.8438,240.9219 49.8438,242.0625 Q48.8438,243.2031 46.6094,243.2031 Q44.3906,243.2031 43.375,242.0625 Q42.375,240.9219 42.375,238.3906 Z \"/><text fill=\"#000000\" font-family=\"sans-serif\" font-size=\"12\" font-style=\"italic\" lengthAdjust=\"spacingAndGlyphs\" textLength=\"69\" x=\"58.5\" y=\"233.6387\">«attribute»</text><text fill=\"#000000\" font-family=\"sans-serif\" font-size=\"12\" lengthAdjust=\"spacingAndGlyphs\" textLength=\"6\" x=\"90\" y=\"247.6074\">x</text><line style=\"stroke: #A80036; stroke-width: 1.5;\" x1=\"32.5\" x2=\"127.5\" y1=\"255.4375\" y2=\"255.4375\"/></a><!--MD5=[2156ba9850f5573cc1fc38a6a4b2f02b]\n",
       "class E7--><a href=\"psysml:aee293b7-b915-4f4d-bf33-13d7af80ad07\" target=\"_top\" title=\"psysml:aee293b7-b915-4f4d-bf33-13d7af80ad07\" xlink:actuate=\"onRequest\" xlink:href=\"psysml:aee293b7-b915-4f4d-bf33-13d7af80ad07\" xlink:show=\"new\" xlink:title=\"psysml:aee293b7-b915-4f4d-bf33-13d7af80ad07\" xlink:type=\"simple\"><rect fill=\"#FEFECE\" filter=\"url(#fyo5b5pdgk6yl)\" height=\"45.9375\" id=\"E7\" rx=\"10\" ry=\"10\" style=\"stroke: #A80036; stroke-width: 1.5;\" width=\"97\" x=\"163.5\" y=\"217.5\"/><ellipse cx=\"178.5\" cy=\"236.4688\" fill=\"#FFA500\" rx=\"11\" ry=\"11\" style=\"stroke: #A80036; stroke-width: 1.0;\"/><path d=\"M174.375,238.3906 L174.375,230.5781 L176.8281,230.5781 L176.8281,239.0156 Q176.8281,239.9375 177.2969,240.4688 Q177.7813,241 178.6094,241 Q179.4531,241 179.9219,240.4688 Q180.3906,239.9375 180.3906,239.0156 L180.3906,230.5781 L182.8438,230.5781 L182.8438,238.3906 Q182.8438,240.9219 181.8438,242.0625 Q180.8438,243.2031 178.6094,243.2031 Q176.3906,243.2031 175.375,242.0625 Q174.375,240.9219 174.375,238.3906 Z \"/><text fill=\"#000000\" font-family=\"sans-serif\" font-size=\"12\" font-style=\"italic\" lengthAdjust=\"spacingAndGlyphs\" textLength=\"69\" x=\"190.5\" y=\"233.6387\">«attribute»</text><text fill=\"#000000\" font-family=\"sans-serif\" font-size=\"12\" lengthAdjust=\"spacingAndGlyphs\" textLength=\"6\" x=\"222\" y=\"247.6074\">y</text><line style=\"stroke: #A80036; stroke-width: 1.5;\" x1=\"164.5\" x2=\"259.5\" y1=\"255.4375\" y2=\"255.4375\"/></a><!--MD5=[b9389687b975829384b498ac4b7476b2]\n",
       "class E8--><a href=\"psysml:1c42907e-9ca4-4468-bbbb-1ea70701dab3\" target=\"_top\" title=\"psysml:1c42907e-9ca4-4468-bbbb-1ea70701dab3\" xlink:actuate=\"onRequest\" xlink:href=\"psysml:1c42907e-9ca4-4468-bbbb-1ea70701dab3\" xlink:show=\"new\" xlink:title=\"psysml:1c42907e-9ca4-4468-bbbb-1ea70701dab3\" xlink:type=\"simple\"><rect fill=\"#FEFECE\" filter=\"url(#fyo5b5pdgk6yl)\" height=\"45.9375\" id=\"E8\" rx=\"10\" ry=\"10\" style=\"stroke: #A80036; stroke-width: 1.5;\" width=\"97\" x=\"84.5\" y=\"87.5\"/><ellipse cx=\"99.5\" cy=\"106.4688\" fill=\"#FFA500\" rx=\"11\" ry=\"11\" style=\"stroke: #A80036; stroke-width: 1.0;\"/><path d=\"M95.375,108.3906 L95.375,100.5781 L97.8281,100.5781 L97.8281,109.0156 Q97.8281,109.9375 98.2969,110.4688 Q98.7813,111 99.6094,111 Q100.4531,111 100.9219,110.4688 Q101.3906,109.9375 101.3906,109.0156 L101.3906,100.5781 L103.8438,100.5781 L103.8438,108.3906 Q103.8438,110.9219 102.8438,112.0625 Q101.8438,113.2031 99.6094,113.2031 Q97.3906,113.2031 96.375,112.0625 Q95.375,110.9219 95.375,108.3906 Z \"/><text fill=\"#000000\" font-family=\"sans-serif\" font-size=\"12\" font-style=\"italic\" lengthAdjust=\"spacingAndGlyphs\" textLength=\"69\" x=\"111.5\" y=\"103.6387\">«attribute»</text><text fill=\"#000000\" font-family=\"sans-serif\" font-size=\"12\" lengthAdjust=\"spacingAndGlyphs\" textLength=\"5\" x=\"143.5\" y=\"117.6074\">z</text><line style=\"stroke: #A80036; stroke-width: 1.5;\" x1=\"85.5\" x2=\"180.5\" y1=\"125.4375\" y2=\"125.4375\"/></a><a href=\"psysml:add81eb6-248c-4298-8987-63cd174f8097\" target=\"_top\" title=\"psysml:add81eb6-248c-4298-8987-63cd174f8097\" xlink:actuate=\"onRequest\" xlink:href=\"psysml:add81eb6-248c-4298-8987-63cd174f8097\" xlink:show=\"new\" xlink:title=\"psysml:add81eb6-248c-4298-8987-63cd174f8097\" xlink:type=\"simple\"><polygon fill=\"#FFFFFF\" filter=\"url(#fyo5b5pdgk6yl)\" points=\"292,84,434,84,441,106.2969,448,106.2969,448,136.5938,292,136.5938,292,84\" style=\"stroke: #000000; stroke-width: 1.5;\"/><line style=\"stroke: #000000; stroke-width: 1.5;\" x1=\"292\" x2=\"441\" y1=\"106.2969\" y2=\"106.2969\"/><text fill=\"#000000\" font-family=\"sans-serif\" font-size=\"14\" font-weight=\"bold\" lengthAdjust=\"spacingAndGlyphs\" textLength=\"136\" x=\"296\" y=\"98.9951\">Application Layer</text></a><a href=\"psysml:95ba016d-ba70-4f40-a2b0-65410d9cce5b\" target=\"_top\" title=\"psysml:95ba016d-ba70-4f40-a2b0-65410d9cce5b\" xlink:actuate=\"onRequest\" xlink:href=\"psysml:95ba016d-ba70-4f40-a2b0-65410d9cce5b\" xlink:show=\"new\" xlink:title=\"psysml:95ba016d-ba70-4f40-a2b0-65410d9cce5b\" xlink:type=\"simple\"><polygon fill=\"#FFFFFF\" filter=\"url(#fyo5b5pdgk6yl)\" points=\"306,214,420,214,427,236.2969,434,236.2969,434,266.5938,306,266.5938,306,214\" style=\"stroke: #000000; stroke-width: 1.5;\"/><line style=\"stroke: #000000; stroke-width: 1.5;\" x1=\"306\" x2=\"427\" y1=\"236.2969\" y2=\"236.2969\"/><text fill=\"#000000\" font-family=\"sans-serif\" font-size=\"14\" font-weight=\"bold\" lengthAdjust=\"spacingAndGlyphs\" textLength=\"108\" x=\"310\" y=\"228.9951\">Service Layer</text></a><a href=\"psysml:ae80162e-06ca-4b24-a1f3-10c5d346ebc4\" target=\"_top\" title=\"psysml:ae80162e-06ca-4b24-a1f3-10c5d346ebc4\" xlink:actuate=\"onRequest\" xlink:href=\"psysml:ae80162e-06ca-4b24-a1f3-10c5d346ebc4\" xlink:show=\"new\" xlink:title=\"psysml:ae80162e-06ca-4b24-a1f3-10c5d346ebc4\" xlink:type=\"simple\"><polygon fill=\"#FFFFFF\" filter=\"url(#fyo5b5pdgk6yl)\" points=\"318,344,408,344,415,366.2969,422,366.2969,422,396.5938,318,396.5938,318,344\" style=\"stroke: #000000; stroke-width: 1.5;\"/><line style=\"stroke: #000000; stroke-width: 1.5;\" x1=\"318\" x2=\"415\" y1=\"366.2969\" y2=\"366.2969\"/><text fill=\"#000000\" font-family=\"sans-serif\" font-size=\"14\" font-weight=\"bold\" lengthAdjust=\"spacingAndGlyphs\" textLength=\"84\" x=\"322\" y=\"358.9951\">Data Layer</text></a><!--MD5=[af87c684e3b0d8be13c1a698a818ef1e]\n",
       "link E3 to E4--><a href=\"psysml:4c7b915e-320e-40c7-9399-584f1f84a9d7\" target=\"_top\" title=\"psysml:4c7b915e-320e-40c7-9399-584f1f84a9d7\" xlink:actuate=\"onRequest\" xlink:href=\"psysml:4c7b915e-320e-40c7-9399-584f1f84a9d7\" xlink:show=\"new\" xlink:title=\"psysml:4c7b915e-320e-40c7-9399-584f1f84a9d7\" xlink:type=\"simple\"><path d=\"M370,137.1 C370,156.8 370,184.22 370,205.73 \" fill=\"none\" id=\"E3-&gt;E4\" style=\"stroke: #A80036; stroke-width: 1.0; stroke-dasharray: 7.0,7.0;\"/><polygon fill=\"#A80036\" points=\"370,213.95,373,205.95,367,205.95,370,213.95\" style=\"stroke: #A80036; stroke-width: 1.0;\"/><text fill=\"#000000\" font-family=\"sans-serif\" font-size=\"13\" lengthAdjust=\"spacingAndGlyphs\" textLength=\"64\" x=\"371\" y=\"180.0669\">«depend»</text></a><!--MD5=[1b7591eae5389033d8d09a9d6721a717]\n",
       "link E4 to E5--><a href=\"psysml:9be59ee3-60f5-4004-bc3e-00c0f7693956\" target=\"_top\" title=\"psysml:9be59ee3-60f5-4004-bc3e-00c0f7693956\" xlink:actuate=\"onRequest\" xlink:href=\"psysml:9be59ee3-60f5-4004-bc3e-00c0f7693956\" xlink:show=\"new\" xlink:title=\"psysml:9be59ee3-60f5-4004-bc3e-00c0f7693956\" xlink:type=\"simple\"><path d=\"M370,267.1 C370,286.8 370,314.22 370,335.73 \" fill=\"none\" id=\"E4-&gt;E5\" style=\"stroke: #A80036; stroke-width: 1.0; stroke-dasharray: 7.0,7.0;\"/><polygon fill=\"#A80036\" points=\"370,343.95,373,335.95,367,335.95,370,343.95\" style=\"stroke: #A80036; stroke-width: 1.0;\"/><text fill=\"#000000\" font-family=\"sans-serif\" font-size=\"13\" lengthAdjust=\"spacingAndGlyphs\" textLength=\"64\" x=\"371\" y=\"310.0669\">«depend»</text></a><!--MD5=[c5e8897d989ce984f93528998a7150fe]\n",
       "link E8 to E6--><a href=\"psysml:80784242-98cb-449c-a51f-f2c7c1061d87\" target=\"_top\" title=\"psysml:80784242-98cb-449c-a51f-f2c7c1061d87\" xlink:actuate=\"onRequest\" xlink:href=\"psysml:80784242-98cb-449c-a51f-f2c7c1061d87\" xlink:show=\"new\" xlink:title=\"psysml:80784242-98cb-449c-a51f-f2c7c1061d87\" xlink:type=\"simple\"><path d=\"M106.44,133.76 C97.3,143.01 88.09,154.51 83,167 C77.6,180.23 76.4,195.98 76.73,209.41 \" fill=\"none\" id=\"E8-&gt;E6\" style=\"stroke: #A80036; stroke-width: 1.0; stroke-dasharray: 7.0,7.0;\"/><polygon fill=\"#A80036\" points=\"77.12,217.43,79.7306,209.2946,73.7375,209.584,77.12,217.43\" style=\"stroke: #A80036; stroke-width: 1.0;\"/><text fill=\"#000000\" font-family=\"sans-serif\" font-size=\"13\" lengthAdjust=\"spacingAndGlyphs\" textLength=\"64\" x=\"84\" y=\"180.0669\">«depend»</text></a><!--MD5=[bfa3c8b0d15052fdf50ae9310b491027]\n",
       "link E8 to E7--><a href=\"psysml:80784242-98cb-449c-a51f-f2c7c1061d87\" target=\"_top\" title=\"psysml:80784242-98cb-449c-a51f-f2c7c1061d87\" xlink:actuate=\"onRequest\" xlink:href=\"psysml:80784242-98cb-449c-a51f-f2c7c1061d87\" xlink:show=\"new\" xlink:title=\"psysml:80784242-98cb-449c-a51f-f2c7c1061d87\" xlink:type=\"simple\"><path d=\"M146.58,133.5 C159.69,154.75 179.63,187.05 194.05,210.41 \" fill=\"none\" id=\"E8-&gt;E7\" style=\"stroke: #A80036; stroke-width: 1.0; stroke-dasharray: 7.0,7.0;\"/><polygon fill=\"#A80036\" points=\"198.33,217.35,196.6785,208.9671,191.5737,212.1201,198.33,217.35\" style=\"stroke: #A80036; stroke-width: 1.0;\"/><text fill=\"#000000\" font-family=\"sans-serif\" font-size=\"13\" lengthAdjust=\"spacingAndGlyphs\" textLength=\"64\" x=\"178\" y=\"180.0669\">«depend»</text></a><!--MD5=[6034aab2394031c169369b8ebf51e88e]\n",
       "@startuml\r\n",
       " \r\n",
       "package \"DependencyTest\" as E1  [[psysml:438e34af-3ce5-4e99-acf4-d3ecd205ea23 ]]  {\r\n",
       "package \"System\" as E2  [[psysml:33a226aa-95cf-4670-96e1-1bd6e94f796f ]]  {\r\n",
       "package \"Application Layer\" as E3  [[psysml:add81eb6-248c-4298-8987-63cd174f8097 ]]  {\r\n",
       "}\r\n",
       "package \"Service Layer\" as E4  [[psysml:95ba016d-ba70-4f40-a2b0-65410d9cce5b ]]  {\r\n",
       "}\r\n",
       "package \"Data Layer\" as E5  [[psysml:ae80162e-06ca-4b24-a1f3-10c5d346ebc4 ]]  {\r\n",
       "}\r\n",
       "}\r\n",
       "comp usage \"x\" as E6  <<(U,orange)attribute>> [[psysml:747ec202-6e4c-456d-855d-21470db0b7f2 ]] {\r\n",
       "}\r\n",
       "comp usage \"y\" as E7  <<(U,orange)attribute>> [[psysml:aee293b7-b915-4f4d-bf33-13d7af80ad07 ]] {\r\n",
       "}\r\n",
       "comp usage \"z\" as E8  <<(U,orange)attribute>> [[psysml:1c42907e-9ca4-4468-bbbb-1ea70701dab3 ]] {\r\n",
       "}\r\n",
       "E3 ..>> E4 [[psysml:4c7b915e-320e-40c7-9399-584f1f84a9d7 ]] : <<depend>>\r\n",
       "E4 ..>> E5 [[psysml:9be59ee3-60f5-4004-bc3e-00c0f7693956 ]] : <<depend>>\r\n",
       "E8 ..>> E6 [[psysml:80784242-98cb-449c-a51f-f2c7c1061d87 ]] : <<depend>>\r\n",
       "E8 ..>> E7 [[psysml:80784242-98cb-449c-a51f-f2c7c1061d87 ]] : <<depend>>\r\n",
       "}\r\n",
       "@enduml\r\n",
       "\n",
       "PlantUML version 1.2020.13(Sat Jun 13 12:26:38 UTC 2020)\n",
       "(EPL source distribution)\n",
       "Java Runtime: OpenJDK Runtime Environment\n",
       "JVM: OpenJDK 64-Bit Server VM\n",
       "Default Encoding: UTF-8\n",
       "Language: en\n",
       "Country: null\n",
       "--></g></svg>"
      ]
     },
     "execution_count": 30,
     "metadata": {},
     "output_type": "execute_result"
    }
   ],
   "source": [
    "%viz --style=\"PLANTUML\" --view=\"Default\" \"DependencyTest\""
   ]
  },
  {
   "cell_type": "code",
   "execution_count": 31,
   "id": "received-sellers",
   "metadata": {
    "execution": {
     "iopub.execute_input": "2021-03-25T13:26:17.844397Z",
     "iopub.status.busy": "2021-03-25T13:26:17.843726Z",
     "iopub.status.idle": "2021-03-25T13:26:17.938003Z",
     "shell.execute_reply": "2021-03-25T13:26:17.938407Z"
    }
   },
   "outputs": [
    {
     "data": {
      "image/svg+xml": [
       "<?xml version=\"1.0\" encoding=\"UTF-8\" standalone=\"no\"?><svg xmlns=\"http://www.w3.org/2000/svg\" xmlns:xlink=\"http://www.w3.org/1999/xlink\" contentScriptType=\"application/ecmascript\" contentStyleType=\"text/css\" height=\"449px\" preserveAspectRatio=\"none\" style=\"width:510px;height:449px;\" version=\"1.1\" viewBox=\"0 0 510 449\" width=\"510px\" zoomAndPan=\"magnify\"><defs><filter height=\"300%\" id=\"fyo5b5pdgk6yl\" width=\"300%\" x=\"-1\" y=\"-1\"><feGaussianBlur result=\"blurOut\" stdDeviation=\"2.0\"/><feColorMatrix in=\"blurOut\" result=\"blurOut2\" type=\"matrix\" values=\"0 0 0 0 0 0 0 0 0 0 0 0 0 0 0 0 0 0 .4 0\"/><feOffset dx=\"4.0\" dy=\"4.0\" in=\"blurOut2\" result=\"blurOut3\"/><feBlend in=\"SourceGraphic\" in2=\"blurOut3\" mode=\"normal\"/></filter></defs><g><!--MD5=[fbc87193dbaf4d95561dea2c320d4a47]\n",
       "cluster E1--><a href=\"psysml:438e34af-3ce5-4e99-acf4-d3ecd205ea23\" target=\"_top\" title=\"psysml:438e34af-3ce5-4e99-acf4-d3ecd205ea23\" xlink:actuate=\"onRequest\" xlink:href=\"psysml:438e34af-3ce5-4e99-acf4-d3ecd205ea23\" xlink:show=\"new\" xlink:title=\"psysml:438e34af-3ce5-4e99-acf4-d3ecd205ea23\" xlink:type=\"simple\"><polygon fill=\"#FFFFFF\" filter=\"url(#fyo5b5pdgk6yl)\" points=\"16,6,156,6,163,28.2969,488,28.2969,488,437,16,437,16,6\" style=\"stroke: #000000; stroke-width: 1.5;\"/><line style=\"stroke: #000000; stroke-width: 1.5;\" x1=\"16\" x2=\"163\" y1=\"28.2969\" y2=\"28.2969\"/><text fill=\"#000000\" font-family=\"sans-serif\" font-size=\"14\" font-weight=\"bold\" lengthAdjust=\"spacingAndGlyphs\" textLength=\"134\" x=\"20\" y=\"20.9951\">DependencyTest</text></a><!--MD5=[e4f7fae6ed58524ba242bb0b0d3be6b7]\n",
       "cluster E2--><a href=\"psysml:33a226aa-95cf-4670-96e1-1bd6e94f796f\" target=\"_top\" title=\"psysml:33a226aa-95cf-4670-96e1-1bd6e94f796f\" xlink:actuate=\"onRequest\" xlink:href=\"psysml:33a226aa-95cf-4670-96e1-1bd6e94f796f\" xlink:show=\"new\" xlink:title=\"psysml:33a226aa-95cf-4670-96e1-1bd6e94f796f\" xlink:type=\"simple\"><polygon fill=\"#FFFFFF\" filter=\"url(#fyo5b5pdgk6yl)\" points=\"276,49,340,49,347,71.2969,464,71.2969,464,413,276,413,276,49\" style=\"stroke: #000000; stroke-width: 1.5;\"/><line style=\"stroke: #000000; stroke-width: 1.5;\" x1=\"276\" x2=\"347\" y1=\"71.2969\" y2=\"71.2969\"/><text fill=\"#000000\" font-family=\"sans-serif\" font-size=\"14\" font-weight=\"bold\" lengthAdjust=\"spacingAndGlyphs\" textLength=\"58\" x=\"280\" y=\"63.9951\">System</text></a><!--MD5=[60a26617385b1d2d0262a64233df1f8d]\n",
       "class E6--><a href=\"psysml:747ec202-6e4c-456d-855d-21470db0b7f2\" target=\"_top\" title=\"psysml:747ec202-6e4c-456d-855d-21470db0b7f2\" xlink:actuate=\"onRequest\" xlink:href=\"psysml:747ec202-6e4c-456d-855d-21470db0b7f2\" xlink:show=\"new\" xlink:title=\"psysml:747ec202-6e4c-456d-855d-21470db0b7f2\" xlink:type=\"simple\"><rect fill=\"#FEFECE\" filter=\"url(#fyo5b5pdgk6yl)\" height=\"45.9375\" id=\"E6\" rx=\"10\" ry=\"10\" style=\"stroke: #A80036; stroke-width: 1.5;\" width=\"97\" x=\"31.5\" y=\"217.5\"/><ellipse cx=\"46.5\" cy=\"236.4688\" fill=\"#FFA500\" rx=\"11\" ry=\"11\" style=\"stroke: #A80036; stroke-width: 1.0;\"/><path d=\"M42.375,238.3906 L42.375,230.5781 L44.8281,230.5781 L44.8281,239.0156 Q44.8281,239.9375 45.2969,240.4688 Q45.7813,241 46.6094,241 Q47.4531,241 47.9219,240.4688 Q48.3906,239.9375 48.3906,239.0156 L48.3906,230.5781 L50.8438,230.5781 L50.8438,238.3906 Q50.8438,240.9219 49.8438,242.0625 Q48.8438,243.2031 46.6094,243.2031 Q44.3906,243.2031 43.375,242.0625 Q42.375,240.9219 42.375,238.3906 Z \"/><text fill=\"#000000\" font-family=\"sans-serif\" font-size=\"12\" font-style=\"italic\" lengthAdjust=\"spacingAndGlyphs\" textLength=\"69\" x=\"58.5\" y=\"233.6387\">«attribute»</text><text fill=\"#000000\" font-family=\"sans-serif\" font-size=\"12\" lengthAdjust=\"spacingAndGlyphs\" textLength=\"6\" x=\"90\" y=\"247.6074\">x</text><line style=\"stroke: #A80036; stroke-width: 1.5;\" x1=\"32.5\" x2=\"127.5\" y1=\"255.4375\" y2=\"255.4375\"/></a><!--MD5=[2156ba9850f5573cc1fc38a6a4b2f02b]\n",
       "class E7--><a href=\"psysml:aee293b7-b915-4f4d-bf33-13d7af80ad07\" target=\"_top\" title=\"psysml:aee293b7-b915-4f4d-bf33-13d7af80ad07\" xlink:actuate=\"onRequest\" xlink:href=\"psysml:aee293b7-b915-4f4d-bf33-13d7af80ad07\" xlink:show=\"new\" xlink:title=\"psysml:aee293b7-b915-4f4d-bf33-13d7af80ad07\" xlink:type=\"simple\"><rect fill=\"#FEFECE\" filter=\"url(#fyo5b5pdgk6yl)\" height=\"45.9375\" id=\"E7\" rx=\"10\" ry=\"10\" style=\"stroke: #A80036; stroke-width: 1.5;\" width=\"97\" x=\"163.5\" y=\"217.5\"/><ellipse cx=\"178.5\" cy=\"236.4688\" fill=\"#FFA500\" rx=\"11\" ry=\"11\" style=\"stroke: #A80036; stroke-width: 1.0;\"/><path d=\"M174.375,238.3906 L174.375,230.5781 L176.8281,230.5781 L176.8281,239.0156 Q176.8281,239.9375 177.2969,240.4688 Q177.7813,241 178.6094,241 Q179.4531,241 179.9219,240.4688 Q180.3906,239.9375 180.3906,239.0156 L180.3906,230.5781 L182.8438,230.5781 L182.8438,238.3906 Q182.8438,240.9219 181.8438,242.0625 Q180.8438,243.2031 178.6094,243.2031 Q176.3906,243.2031 175.375,242.0625 Q174.375,240.9219 174.375,238.3906 Z \"/><text fill=\"#000000\" font-family=\"sans-serif\" font-size=\"12\" font-style=\"italic\" lengthAdjust=\"spacingAndGlyphs\" textLength=\"69\" x=\"190.5\" y=\"233.6387\">«attribute»</text><text fill=\"#000000\" font-family=\"sans-serif\" font-size=\"12\" lengthAdjust=\"spacingAndGlyphs\" textLength=\"6\" x=\"222\" y=\"247.6074\">y</text><line style=\"stroke: #A80036; stroke-width: 1.5;\" x1=\"164.5\" x2=\"259.5\" y1=\"255.4375\" y2=\"255.4375\"/></a><!--MD5=[b9389687b975829384b498ac4b7476b2]\n",
       "class E8--><a href=\"psysml:1c42907e-9ca4-4468-bbbb-1ea70701dab3\" target=\"_top\" title=\"psysml:1c42907e-9ca4-4468-bbbb-1ea70701dab3\" xlink:actuate=\"onRequest\" xlink:href=\"psysml:1c42907e-9ca4-4468-bbbb-1ea70701dab3\" xlink:show=\"new\" xlink:title=\"psysml:1c42907e-9ca4-4468-bbbb-1ea70701dab3\" xlink:type=\"simple\"><rect fill=\"#FEFECE\" filter=\"url(#fyo5b5pdgk6yl)\" height=\"45.9375\" id=\"E8\" rx=\"10\" ry=\"10\" style=\"stroke: #A80036; stroke-width: 1.5;\" width=\"97\" x=\"84.5\" y=\"87.5\"/><ellipse cx=\"99.5\" cy=\"106.4688\" fill=\"#FFA500\" rx=\"11\" ry=\"11\" style=\"stroke: #A80036; stroke-width: 1.0;\"/><path d=\"M95.375,108.3906 L95.375,100.5781 L97.8281,100.5781 L97.8281,109.0156 Q97.8281,109.9375 98.2969,110.4688 Q98.7813,111 99.6094,111 Q100.4531,111 100.9219,110.4688 Q101.3906,109.9375 101.3906,109.0156 L101.3906,100.5781 L103.8438,100.5781 L103.8438,108.3906 Q103.8438,110.9219 102.8438,112.0625 Q101.8438,113.2031 99.6094,113.2031 Q97.3906,113.2031 96.375,112.0625 Q95.375,110.9219 95.375,108.3906 Z \"/><text fill=\"#000000\" font-family=\"sans-serif\" font-size=\"12\" font-style=\"italic\" lengthAdjust=\"spacingAndGlyphs\" textLength=\"69\" x=\"111.5\" y=\"103.6387\">«attribute»</text><text fill=\"#000000\" font-family=\"sans-serif\" font-size=\"12\" lengthAdjust=\"spacingAndGlyphs\" textLength=\"5\" x=\"143.5\" y=\"117.6074\">z</text><line style=\"stroke: #A80036; stroke-width: 1.5;\" x1=\"85.5\" x2=\"180.5\" y1=\"125.4375\" y2=\"125.4375\"/></a><a href=\"psysml:add81eb6-248c-4298-8987-63cd174f8097\" target=\"_top\" title=\"psysml:add81eb6-248c-4298-8987-63cd174f8097\" xlink:actuate=\"onRequest\" xlink:href=\"psysml:add81eb6-248c-4298-8987-63cd174f8097\" xlink:show=\"new\" xlink:title=\"psysml:add81eb6-248c-4298-8987-63cd174f8097\" xlink:type=\"simple\"><polygon fill=\"#FFFFFF\" filter=\"url(#fyo5b5pdgk6yl)\" points=\"292,84,434,84,441,106.2969,448,106.2969,448,136.5938,292,136.5938,292,84\" style=\"stroke: #000000; stroke-width: 1.5;\"/><line style=\"stroke: #000000; stroke-width: 1.5;\" x1=\"292\" x2=\"441\" y1=\"106.2969\" y2=\"106.2969\"/><text fill=\"#000000\" font-family=\"sans-serif\" font-size=\"14\" font-weight=\"bold\" lengthAdjust=\"spacingAndGlyphs\" textLength=\"136\" x=\"296\" y=\"98.9951\">Application Layer</text></a><a href=\"psysml:95ba016d-ba70-4f40-a2b0-65410d9cce5b\" target=\"_top\" title=\"psysml:95ba016d-ba70-4f40-a2b0-65410d9cce5b\" xlink:actuate=\"onRequest\" xlink:href=\"psysml:95ba016d-ba70-4f40-a2b0-65410d9cce5b\" xlink:show=\"new\" xlink:title=\"psysml:95ba016d-ba70-4f40-a2b0-65410d9cce5b\" xlink:type=\"simple\"><polygon fill=\"#FFFFFF\" filter=\"url(#fyo5b5pdgk6yl)\" points=\"306,214,420,214,427,236.2969,434,236.2969,434,266.5938,306,266.5938,306,214\" style=\"stroke: #000000; stroke-width: 1.5;\"/><line style=\"stroke: #000000; stroke-width: 1.5;\" x1=\"306\" x2=\"427\" y1=\"236.2969\" y2=\"236.2969\"/><text fill=\"#000000\" font-family=\"sans-serif\" font-size=\"14\" font-weight=\"bold\" lengthAdjust=\"spacingAndGlyphs\" textLength=\"108\" x=\"310\" y=\"228.9951\">Service Layer</text></a><a href=\"psysml:ae80162e-06ca-4b24-a1f3-10c5d346ebc4\" target=\"_top\" title=\"psysml:ae80162e-06ca-4b24-a1f3-10c5d346ebc4\" xlink:actuate=\"onRequest\" xlink:href=\"psysml:ae80162e-06ca-4b24-a1f3-10c5d346ebc4\" xlink:show=\"new\" xlink:title=\"psysml:ae80162e-06ca-4b24-a1f3-10c5d346ebc4\" xlink:type=\"simple\"><polygon fill=\"#FFFFFF\" filter=\"url(#fyo5b5pdgk6yl)\" points=\"318,344,408,344,415,366.2969,422,366.2969,422,396.5938,318,396.5938,318,344\" style=\"stroke: #000000; stroke-width: 1.5;\"/><line style=\"stroke: #000000; stroke-width: 1.5;\" x1=\"318\" x2=\"415\" y1=\"366.2969\" y2=\"366.2969\"/><text fill=\"#000000\" font-family=\"sans-serif\" font-size=\"14\" font-weight=\"bold\" lengthAdjust=\"spacingAndGlyphs\" textLength=\"84\" x=\"322\" y=\"358.9951\">Data Layer</text></a><!--MD5=[af87c684e3b0d8be13c1a698a818ef1e]\n",
       "link E3 to E4--><a href=\"psysml:4c7b915e-320e-40c7-9399-584f1f84a9d7\" target=\"_top\" title=\"psysml:4c7b915e-320e-40c7-9399-584f1f84a9d7\" xlink:actuate=\"onRequest\" xlink:href=\"psysml:4c7b915e-320e-40c7-9399-584f1f84a9d7\" xlink:show=\"new\" xlink:title=\"psysml:4c7b915e-320e-40c7-9399-584f1f84a9d7\" xlink:type=\"simple\"><path d=\"M370,137.1 C370,156.8 370,184.22 370,205.73 \" fill=\"none\" id=\"E3-&gt;E4\" style=\"stroke: #A80036; stroke-width: 1.0; stroke-dasharray: 7.0,7.0;\"/><polygon fill=\"#A80036\" points=\"370,213.95,373,205.95,367,205.95,370,213.95\" style=\"stroke: #A80036; stroke-width: 1.0;\"/><text fill=\"#000000\" font-family=\"sans-serif\" font-size=\"13\" lengthAdjust=\"spacingAndGlyphs\" textLength=\"64\" x=\"371\" y=\"180.0669\">«depend»</text></a><!--MD5=[1b7591eae5389033d8d09a9d6721a717]\n",
       "link E4 to E5--><a href=\"psysml:9be59ee3-60f5-4004-bc3e-00c0f7693956\" target=\"_top\" title=\"psysml:9be59ee3-60f5-4004-bc3e-00c0f7693956\" xlink:actuate=\"onRequest\" xlink:href=\"psysml:9be59ee3-60f5-4004-bc3e-00c0f7693956\" xlink:show=\"new\" xlink:title=\"psysml:9be59ee3-60f5-4004-bc3e-00c0f7693956\" xlink:type=\"simple\"><path d=\"M370,267.1 C370,286.8 370,314.22 370,335.73 \" fill=\"none\" id=\"E4-&gt;E5\" style=\"stroke: #A80036; stroke-width: 1.0; stroke-dasharray: 7.0,7.0;\"/><polygon fill=\"#A80036\" points=\"370,343.95,373,335.95,367,335.95,370,343.95\" style=\"stroke: #A80036; stroke-width: 1.0;\"/><text fill=\"#000000\" font-family=\"sans-serif\" font-size=\"13\" lengthAdjust=\"spacingAndGlyphs\" textLength=\"64\" x=\"371\" y=\"310.0669\">«depend»</text></a><!--MD5=[c5e8897d989ce984f93528998a7150fe]\n",
       "link E8 to E6--><a href=\"psysml:80784242-98cb-449c-a51f-f2c7c1061d87\" target=\"_top\" title=\"psysml:80784242-98cb-449c-a51f-f2c7c1061d87\" xlink:actuate=\"onRequest\" xlink:href=\"psysml:80784242-98cb-449c-a51f-f2c7c1061d87\" xlink:show=\"new\" xlink:title=\"psysml:80784242-98cb-449c-a51f-f2c7c1061d87\" xlink:type=\"simple\"><path d=\"M106.44,133.76 C97.3,143.01 88.09,154.51 83,167 C77.6,180.23 76.4,195.98 76.73,209.41 \" fill=\"none\" id=\"E8-&gt;E6\" style=\"stroke: #A80036; stroke-width: 1.0; stroke-dasharray: 7.0,7.0;\"/><polygon fill=\"#A80036\" points=\"77.12,217.43,79.7306,209.2946,73.7375,209.584,77.12,217.43\" style=\"stroke: #A80036; stroke-width: 1.0;\"/><text fill=\"#000000\" font-family=\"sans-serif\" font-size=\"13\" lengthAdjust=\"spacingAndGlyphs\" textLength=\"64\" x=\"84\" y=\"180.0669\">«depend»</text></a><!--MD5=[bfa3c8b0d15052fdf50ae9310b491027]\n",
       "link E8 to E7--><a href=\"psysml:80784242-98cb-449c-a51f-f2c7c1061d87\" target=\"_top\" title=\"psysml:80784242-98cb-449c-a51f-f2c7c1061d87\" xlink:actuate=\"onRequest\" xlink:href=\"psysml:80784242-98cb-449c-a51f-f2c7c1061d87\" xlink:show=\"new\" xlink:title=\"psysml:80784242-98cb-449c-a51f-f2c7c1061d87\" xlink:type=\"simple\"><path d=\"M146.58,133.5 C159.69,154.75 179.63,187.05 194.05,210.41 \" fill=\"none\" id=\"E8-&gt;E7\" style=\"stroke: #A80036; stroke-width: 1.0; stroke-dasharray: 7.0,7.0;\"/><polygon fill=\"#A80036\" points=\"198.33,217.35,196.6785,208.9671,191.5737,212.1201,198.33,217.35\" style=\"stroke: #A80036; stroke-width: 1.0;\"/><text fill=\"#000000\" font-family=\"sans-serif\" font-size=\"13\" lengthAdjust=\"spacingAndGlyphs\" textLength=\"64\" x=\"178\" y=\"180.0669\">«depend»</text></a><!--MD5=[6034aab2394031c169369b8ebf51e88e]\n",
       "@startuml\r\n",
       " \r\n",
       "package \"DependencyTest\" as E1  [[psysml:438e34af-3ce5-4e99-acf4-d3ecd205ea23 ]]  {\r\n",
       "package \"System\" as E2  [[psysml:33a226aa-95cf-4670-96e1-1bd6e94f796f ]]  {\r\n",
       "package \"Application Layer\" as E3  [[psysml:add81eb6-248c-4298-8987-63cd174f8097 ]]  {\r\n",
       "}\r\n",
       "package \"Service Layer\" as E4  [[psysml:95ba016d-ba70-4f40-a2b0-65410d9cce5b ]]  {\r\n",
       "}\r\n",
       "package \"Data Layer\" as E5  [[psysml:ae80162e-06ca-4b24-a1f3-10c5d346ebc4 ]]  {\r\n",
       "}\r\n",
       "}\r\n",
       "comp usage \"x\" as E6  <<(U,orange)attribute>> [[psysml:747ec202-6e4c-456d-855d-21470db0b7f2 ]] {\r\n",
       "}\r\n",
       "comp usage \"y\" as E7  <<(U,orange)attribute>> [[psysml:aee293b7-b915-4f4d-bf33-13d7af80ad07 ]] {\r\n",
       "}\r\n",
       "comp usage \"z\" as E8  <<(U,orange)attribute>> [[psysml:1c42907e-9ca4-4468-bbbb-1ea70701dab3 ]] {\r\n",
       "}\r\n",
       "E3 ..>> E4 [[psysml:4c7b915e-320e-40c7-9399-584f1f84a9d7 ]] : <<depend>>\r\n",
       "E4 ..>> E5 [[psysml:9be59ee3-60f5-4004-bc3e-00c0f7693956 ]] : <<depend>>\r\n",
       "E8 ..>> E6 [[psysml:80784242-98cb-449c-a51f-f2c7c1061d87 ]] : <<depend>>\r\n",
       "E8 ..>> E7 [[psysml:80784242-98cb-449c-a51f-f2c7c1061d87 ]] : <<depend>>\r\n",
       "}\r\n",
       "@enduml\r\n",
       "\n",
       "PlantUML version 1.2020.13(Sat Jun 13 12:26:38 UTC 2020)\n",
       "(EPL source distribution)\n",
       "Java Runtime: OpenJDK Runtime Environment\n",
       "JVM: OpenJDK 64-Bit Server VM\n",
       "Default Encoding: UTF-8\n",
       "Language: en\n",
       "Country: null\n",
       "--></g></svg>"
      ]
     },
     "execution_count": 31,
     "metadata": {},
     "output_type": "execute_result"
    }
   ],
   "source": [
    "%viz --style=\"PLANTUML\" --view=\"Tree\" \"DependencyTest\""
   ]
  },
  {
   "cell_type": "code",
   "execution_count": 32,
   "id": "involved-member",
   "metadata": {
    "execution": {
     "iopub.execute_input": "2021-03-25T13:26:17.990030Z",
     "iopub.status.busy": "2021-03-25T13:26:17.989270Z",
     "iopub.status.idle": "2021-03-25T13:26:18.869198Z",
     "shell.execute_reply": "2021-03-25T13:26:18.867685Z"
    }
   },
   "outputs": [
    {
     "data": {
      "image/svg+xml": [
       "<?xml version=\"1.0\" encoding=\"UTF-8\" standalone=\"no\"?><svg xmlns=\"http://www.w3.org/2000/svg\" xmlns:xlink=\"http://www.w3.org/1999/xlink\" contentScriptType=\"application/ecmascript\" contentStyleType=\"text/css\" height=\"303px\" preserveAspectRatio=\"none\" style=\"width:603px;height:303px;background:#000000;\" version=\"1.1\" viewBox=\"0 0 603 303\" width=\"603px\" zoomAndPan=\"magnify\"><defs/><g><rect fill=\"#1C0310\" height=\"1\" style=\"stroke: #1C0310; stroke-width: 1.0;\" width=\"1\" x=\"0\" y=\"0\"/><rect fill=\"#FFFFFF\" height=\"205.5625\" style=\"stroke: #FFFFFF; stroke-width: 1.0;\" width=\"602\" x=\"0\" y=\"0\"/><text fill=\"#000000\" font-family=\"sans-serif\" font-size=\"12\" font-weight=\"bold\" lengthAdjust=\"spacingAndGlyphs\" textLength=\"159\" x=\"5\" y=\"16.1387\">Welcome to PlantUML!</text><text fill=\"#000000\" font-family=\"sans-serif\" font-size=\"12\" lengthAdjust=\"spacingAndGlyphs\" textLength=\"0\" x=\"9\" y=\"30.1074\"/><text fill=\"#000000\" font-family=\"sans-serif\" font-size=\"12\" lengthAdjust=\"spacingAndGlyphs\" textLength=\"293\" x=\"5\" y=\"44.0762\">If you use this software, you accept its license.</text><text fill=\"#000000\" font-family=\"sans-serif\" font-size=\"12\" lengthAdjust=\"spacingAndGlyphs\" textLength=\"107\" x=\"5\" y=\"58.0449\">(details by typing</text><text fill=\"#000000\" font-family=\"monospace\" font-size=\"12\" lengthAdjust=\"spacingAndGlyphs\" textLength=\"49\" x=\"116\" y=\"58.0449\">license</text><text fill=\"#000000\" font-family=\"sans-serif\" font-size=\"12\" lengthAdjust=\"spacingAndGlyphs\" textLength=\"56\" x=\"169\" y=\"58.0449\">keyword)</text><text fill=\"#000000\" font-family=\"sans-serif\" font-size=\"12\" lengthAdjust=\"spacingAndGlyphs\" textLength=\"0\" x=\"9\" y=\"72.0137\"/><text fill=\"#000000\" font-family=\"sans-serif\" font-size=\"12\" lengthAdjust=\"spacingAndGlyphs\" textLength=\"283\" x=\"5\" y=\"85.9824\">You can start with a simple UML Diagram like:</text><text fill=\"#000000\" font-family=\"sans-serif\" font-size=\"12\" lengthAdjust=\"spacingAndGlyphs\" textLength=\"0\" x=\"9\" y=\"99.9512\"/><text fill=\"#000000\" font-family=\"monospace\" font-size=\"12\" lengthAdjust=\"spacingAndGlyphs\" textLength=\"119\" x=\"5\" y=\"113.9199\">Bob-&gt;Alice: Hello</text><text fill=\"#000000\" font-family=\"sans-serif\" font-size=\"12\" lengthAdjust=\"spacingAndGlyphs\" textLength=\"0\" x=\"9\" y=\"127.8887\"/><text fill=\"#000000\" font-family=\"sans-serif\" font-size=\"12\" lengthAdjust=\"spacingAndGlyphs\" textLength=\"14\" x=\"5\" y=\"141.8574\">Or</text><text fill=\"#000000\" font-family=\"sans-serif\" font-size=\"12\" lengthAdjust=\"spacingAndGlyphs\" textLength=\"0\" x=\"9\" y=\"155.8262\"/><text fill=\"#000000\" font-family=\"monospace\" font-size=\"12\" lengthAdjust=\"spacingAndGlyphs\" textLength=\"91\" x=\"5\" y=\"169.7949\">class Example</text><text fill=\"#000000\" font-family=\"sans-serif\" font-size=\"12\" lengthAdjust=\"spacingAndGlyphs\" textLength=\"0\" x=\"9\" y=\"183.7637\"/><text fill=\"#000000\" font-family=\"sans-serif\" font-size=\"12\" lengthAdjust=\"spacingAndGlyphs\" textLength=\"349\" x=\"5\" y=\"197.7324\">You will find more information about PlantUML syntax on</text><text fill=\"#000000\" font-family=\"sans-serif\" font-size=\"12\" lengthAdjust=\"spacingAndGlyphs\" text-decoration=\"underline\" textLength=\"129\" x=\"358\" y=\"197.7324\">https://plantuml.com</text><image height=\"71\" width=\"80\" x=\"516\" xlink:href=\"data:image/png;base64,iVBORw0KGgoAAAANSUhEUgAAAFAAAABHCAMAAACnHDC8AAADAFBMVEX///+BpbvD3u/f7vfPz8+nz+g3ksuZEDkWADr/ujlvsdpTodLCwsOLwOEbg8T//v6pqamZETnLysvT09To5+jqLS4VATj9/f27u7vDw8MTfsK+v7/j4+SOweJprdjL4/KxsbEri8jk8PgXa57c29uUETez1utQoNJ1tNtEmc9cptWBut6ayOW/3O6YEDjY6vUfhcXBwcHs7Ozw9/v83t79uTn7+/vX19ehoaHx8fG2tLXHx8fuVlfrNTYaBjn/vUH5+fmko6WXl5f/+fn95ub+9PT+8PD3qKidmaMxIUrnqDWcFj7n5eX09PTu7u2SkpKfnZ6rq6z0lJTm4tzJrHUfDT339/eFGDn6tjcrEzOvrbBuZ3l4eomSMS7Hz9Smpqasu8SFiYuQETfa2du1m6OOM051J0NWTWL5xse4uLj6zc33r6/4vb7ydHXqLi/72dntTE3tR0ijbn5jW3C+u8NANVQrG0XFubqRVGZza4GQGT2VaS7a0NPJtI6IJj/zszrfqkXXzr/Hw8cgC0LUqltOQ2JsSC5bTGjOpFafSi2+iDGtyt14m7TJhTCPJUSwoIG/qa+ikHiIgpCRHjI9j8KXbnaQH0FLf6FGPlp0cnYyKE2rg49Wj7dFXHmcwtrp6uu+xMjvYWLvW1z97e3sPD3sP0DuUlP709PYzdDPmzqZWWySRVygfHHd1smWkZ+PgnibETqsl260q5fLuppJLC/dpj2HPFLTtHv/ujrTwJy5s6iWjIi0iD3joTTCmU3trjuvZS2zlFvjq0HSyLbYp0qRts10XGxEKC9yPVBQZIOPdlNvMk2NeYNqRlujtcCVrr3j5eY1gK9Qn9GLp7lbeJXRxrCkiZDaozyukoJ+H0B3rc+OYy+iprJkYXdhmr6ee0afs79xq9BikrGKjI3FomEiLFO0ay6nfIm4pZXRjTFuhZSZWm0zcZyJN0KNTk4eebNfdIGGlZ93h5kcED5nOVYyRWbziIk9dJ4kerE5ZYxRUnLG1d7p8PTvY2PtTk/1nZ1ycV/bAAAFx0lEQVR4Xu1Ye1BUVRg/e3dhl4csKyxqPlBJQVETF2icAY13GogkEFqizqRRpoBpTCIapaUOhWNjUdOMSBpqJYZTg4KigFKADzSIVZ4qD5VFluXhLgvbPee+r49R7v2z3+zcc77fOfPb7zvfPd85uwCIhwT4wPisANwPAuIKHnbHH1I+KwAXDA18ShDW58CneCEnXl8JGwmfHylCPSvlZ/FWxh8YIRIxTWkZAEofkTz8sNq7tAqE2gODOB6GYZobVaH20SVZ4oQcdmXV0L7c4b8OFvJHRoYwdVIoyPX3gxtFDA+V8e6mM8pBoCjij4wQiWo/ALzV/kpkifBi13p4waZuGrJEECycixcEVSbYgFwUozg4/qSraOxrP7O8Eogj2HDxyMWmzpk6823+yIjhvR7fLOpDsCuGhwC0WfbkjQq8A0MWC0EgIYzPCYMymM8Iwcvz6K4IWw8skTrgq3iPMIQnxdfKrvyedpyvbSsyBQt6zcH6OxXmjqYxg9PbgXBBveK6aRAXNEl1Ssc+hz7Bgntyohb/ggQlNrrdzfIuoYKSb79067PrRoLmGo25SeghJRn1yMrSbPTptZaoBlwtlWbBHspxiW+mW8+46ereVnMXGxbFQ+mjofiHZTrclJn5E14UEgdrO9tRVph0HDJlYlRsLv4XFA7RBA1kK5ogBb7gtn08AvxWymc2b+YzLHC3nnOCNHvdayUsZpnnwnPqGf+yGKcPKlv92vtJC209zGyRWJmgyd16sSGGT/AmM2rdKZKZHxwCz7KUodLzJOO8th4OBqxdo0c2tfUkNr3QlJkZQWWMBP0uwBHvmQQb3zRVCMnsMO6ATazf3f0kkza0HTaPCdIhpyTknqP61Te1eV2gRpr1FUn4xtxRT72pDHhj09/UnBLjiv72p4d8FEtlLibBd7Qg0xK5+XfS9q2AzxSVHPnNIMBS8BQPw8N1W4glQWj0mtp4+nSHhvKYOM4GL6vH1jGTcDQ3p1979AQPI5agXEDYwuS5awknJ73rHU56RyLAr6ACpO5iMRGvp3XykjImgs4Fgm2/7URc8dhbeD9jdhYVNon0mdFcAjTIXbmC75VrmVHcQ+JDIXbuNmYUYlZoYx6XcWjKTWavYXd1WzU9OEh9wLFfEVFza5PEhVhDAvfLx60cWM3ePMa9hyZG5DNr6DbQiCUcYU0AKGzGyYxlkf+wxnCk+wdwCbA/TkWH7Dbgoq8dcmKNssQQ3F/JmMxlIj/fzo/7s9OIwUMebbYzbh2zLfk7ehBGzIau6OeO+xzGKlBRwCGAXNaCFgYbRoKG+hMTfMff4M6h0LYxpmv/92ym9tIxc4uRzawynCEWGhum7odf9/75vh8zg0bKijX5AMxhMacsK8pBxaJihtnQqr1KG8yFMzq/dutJ2iKwNCbXA7Yamsm2Xn0XtgtowY3Xy8rpYc4NNqon8eM49k+NtzU55GtMleGAkNR6oldDMhH+e9EX0JB+UYKv4WgLZrLCjHV7wnyYlzJZvYV6A6d1w6xEph842UUyTkjGIbzwRA/JIOBJKSt88yglqND1h6TpiQqQV99wmJ7nknQcgIIHqd00EwSzgudigGYQUHE4qFMcGJb22kp7lNop8p6znStvg5S2e1TVRti56w/zj8fZzKLiDa317MqBQFbs+J3dcbSgo+H4D0kLOokJ82/NR8KZbp9eIZgllwKR8Ec1ejIX827POk/06HpYffGd5dkoZJXMqDAVXd1Nbhavlx4OyuAiPcyAF3Ick8faXAuE5WToApkMxykL1PbNRJ91SDkXOyymPFR1UMlw9GjRPKCrPsRSvUnbzbkELj2PSSRkQLiH1AvROTutlpryLHQAoCD+C2BBP4npMwd9zsIgzgaDsK+bctmVw3hetai5t9RS4PEqub4QnCvxteGzOZyQXxjscxkhHisWKMi72+T0p1dxGeGYkG0ez+eeG7In/n/oNOexC9fzIiLvPxVtKp84iza+AAAAAElFTkSuQmCC\" y=\"6\"/><rect fill=\"#000000\" height=\"96.4844\" style=\"stroke: #000000; stroke-width: 1.0;\" width=\"602\" x=\"0\" y=\"205.5625\"/><rect fill=\"#33FF02\" height=\"21.2969\" style=\"stroke: #33FF02; stroke-width: 1.0;\" width=\"170\" x=\"5\" y=\"210.5625\"/><text fill=\"#000000\" font-family=\"sans-serif\" font-size=\"14\" font-weight=\"bold\" lengthAdjust=\"spacingAndGlyphs\" textLength=\"168\" x=\"6\" y=\"225.5625\">[From string (line 2) ]</text><text fill=\"#33FF02\" font-family=\"sans-serif\" font-size=\"14\" font-weight=\"bold\" lengthAdjust=\"spacingAndGlyphs\" textLength=\"0\" x=\"10\" y=\"245.8594\"/><text fill=\"#33FF02\" font-family=\"sans-serif\" font-size=\"14\" font-weight=\"bold\" lengthAdjust=\"spacingAndGlyphs\" textLength=\"79\" x=\"5\" y=\"262.1563\">@startuml</text><text fill=\"#33FF02\" font-family=\"sans-serif\" font-size=\"14\" font-weight=\"bold\" lengthAdjust=\"spacingAndGlyphs\" textLength=\"0\" x=\"10\" y=\"278.4531\"/><text fill=\"#FF0000\" font-family=\"sans-serif\" font-size=\"14\" font-weight=\"bold\" lengthAdjust=\"spacingAndGlyphs\" textLength=\"142\" x=\"10\" y=\"294.75\">Empty description</text><!--MD5=[f59edd8218d337f74d0c332fc6737304]\n",
       "@startuml\r\n",
       " \r\n",
       "@enduml\r\n",
       "\n",
       "PlantUML version 1.2020.13(Sat Jun 13 12:26:38 UTC 2020)\n",
       "(EPL source distribution)\n",
       "Java Runtime: OpenJDK Runtime Environment\n",
       "JVM: OpenJDK 64-Bit Server VM\n",
       "Default Encoding: UTF-8\n",
       "Language: en\n",
       "Country: null\n",
       "--></g></svg>"
      ]
     },
     "execution_count": 32,
     "metadata": {},
     "output_type": "execute_result"
    }
   ],
   "source": [
    "%viz --style=\"PLANTUML\" --view=\"State\" \"DependencyTest\""
   ]
  },
  {
   "cell_type": "code",
   "execution_count": 33,
   "id": "mounted-trademark",
   "metadata": {
    "execution": {
     "iopub.execute_input": "2021-03-25T13:26:18.920693Z",
     "iopub.status.busy": "2021-03-25T13:26:18.920071Z",
     "iopub.status.idle": "2021-03-25T13:26:19.018704Z",
     "shell.execute_reply": "2021-03-25T13:26:19.019297Z"
    }
   },
   "outputs": [
    {
     "data": {
      "image/svg+xml": [
       "<?xml version=\"1.0\" encoding=\"UTF-8\" standalone=\"no\"?><svg xmlns=\"http://www.w3.org/2000/svg\" xmlns:xlink=\"http://www.w3.org/1999/xlink\" contentScriptType=\"application/ecmascript\" contentStyleType=\"text/css\" height=\"361px\" preserveAspectRatio=\"none\" style=\"width:521px;height:361px;\" version=\"1.1\" viewBox=\"0 0 521 361\" width=\"521px\" zoomAndPan=\"magnify\"><defs><filter height=\"300%\" id=\"f9lmvpj44da50\" width=\"300%\" x=\"-1\" y=\"-1\"><feGaussianBlur result=\"blurOut\" stdDeviation=\"2.0\"/><feColorMatrix in=\"blurOut\" result=\"blurOut2\" type=\"matrix\" values=\"0 0 0 0 0 0 0 0 0 0 0 0 0 0 0 0 0 0 .4 0\"/><feOffset dx=\"4.0\" dy=\"4.0\" in=\"blurOut2\" result=\"blurOut3\"/><feBlend in=\"SourceGraphic\" in2=\"blurOut3\" mode=\"normal\"/></filter></defs><g><!--MD5=[fbc87193dbaf4d95561dea2c320d4a47]\n",
       "cluster E1--><a href=\"psysml:438e34af-3ce5-4e99-acf4-d3ecd205ea23\" target=\"_top\" title=\"psysml:438e34af-3ce5-4e99-acf4-d3ecd205ea23\" xlink:actuate=\"onRequest\" xlink:href=\"psysml:438e34af-3ce5-4e99-acf4-d3ecd205ea23\" xlink:show=\"new\" xlink:title=\"psysml:438e34af-3ce5-4e99-acf4-d3ecd205ea23\" xlink:type=\"simple\"><polygon fill=\"#FFFFFF\" filter=\"url(#f9lmvpj44da50)\" points=\"16,6,156,6,163,28.2969,499,28.2969,499,349,16,349,16,6\" style=\"stroke: #000000; stroke-width: 1.5;\"/><line style=\"stroke: #000000; stroke-width: 1.5;\" x1=\"16\" x2=\"163\" y1=\"28.2969\" y2=\"28.2969\"/><text fill=\"#000000\" font-family=\"sans-serif\" font-size=\"14\" font-weight=\"bold\" lengthAdjust=\"spacingAndGlyphs\" textLength=\"134\" x=\"20\" y=\"20.9951\">DependencyTest</text></a><!--MD5=[e4f7fae6ed58524ba242bb0b0d3be6b7]\n",
       "cluster E2--><a href=\"psysml:33a226aa-95cf-4670-96e1-1bd6e94f796f\" target=\"_top\" title=\"psysml:33a226aa-95cf-4670-96e1-1bd6e94f796f\" xlink:actuate=\"onRequest\" xlink:href=\"psysml:33a226aa-95cf-4670-96e1-1bd6e94f796f\" xlink:show=\"new\" xlink:title=\"psysml:33a226aa-95cf-4670-96e1-1bd6e94f796f\" xlink:type=\"simple\"><polygon fill=\"#FFFFFF\" filter=\"url(#f9lmvpj44da50)\" points=\"287,49,351,49,358,71.2969,475,71.2969,475,325,287,325,287,49\" style=\"stroke: #000000; stroke-width: 1.5;\"/><line style=\"stroke: #000000; stroke-width: 1.5;\" x1=\"287\" x2=\"358\" y1=\"71.2969\" y2=\"71.2969\"/><text fill=\"#000000\" font-family=\"sans-serif\" font-size=\"14\" font-weight=\"bold\" lengthAdjust=\"spacingAndGlyphs\" textLength=\"58\" x=\"291\" y=\"63.9951\">System</text></a><a href=\"psysml:add81eb6-248c-4298-8987-63cd174f8097\" target=\"_top\" title=\"psysml:add81eb6-248c-4298-8987-63cd174f8097\" xlink:actuate=\"onRequest\" xlink:href=\"psysml:add81eb6-248c-4298-8987-63cd174f8097\" xlink:show=\"new\" xlink:title=\"psysml:add81eb6-248c-4298-8987-63cd174f8097\" xlink:type=\"simple\"><polygon fill=\"#FFFFFF\" filter=\"url(#f9lmvpj44da50)\" points=\"303,84,445,84,452,106.2969,459,106.2969,459,136.5938,303,136.5938,303,84\" style=\"stroke: #000000; stroke-width: 1.5;\"/><line style=\"stroke: #000000; stroke-width: 1.5;\" x1=\"303\" x2=\"452\" y1=\"106.2969\" y2=\"106.2969\"/><text fill=\"#000000\" font-family=\"sans-serif\" font-size=\"14\" font-weight=\"bold\" lengthAdjust=\"spacingAndGlyphs\" textLength=\"136\" x=\"307\" y=\"98.9951\">Application Layer</text></a><a href=\"psysml:95ba016d-ba70-4f40-a2b0-65410d9cce5b\" target=\"_top\" title=\"psysml:95ba016d-ba70-4f40-a2b0-65410d9cce5b\" xlink:actuate=\"onRequest\" xlink:href=\"psysml:95ba016d-ba70-4f40-a2b0-65410d9cce5b\" xlink:show=\"new\" xlink:title=\"psysml:95ba016d-ba70-4f40-a2b0-65410d9cce5b\" xlink:type=\"simple\"><polygon fill=\"#FFFFFF\" filter=\"url(#f9lmvpj44da50)\" points=\"317,170,431,170,438,192.2969,445,192.2969,445,222.5938,317,222.5938,317,170\" style=\"stroke: #000000; stroke-width: 1.5;\"/><line style=\"stroke: #000000; stroke-width: 1.5;\" x1=\"317\" x2=\"438\" y1=\"192.2969\" y2=\"192.2969\"/><text fill=\"#000000\" font-family=\"sans-serif\" font-size=\"14\" font-weight=\"bold\" lengthAdjust=\"spacingAndGlyphs\" textLength=\"108\" x=\"321\" y=\"184.9951\">Service Layer</text></a><a href=\"psysml:ae80162e-06ca-4b24-a1f3-10c5d346ebc4\" target=\"_top\" title=\"psysml:ae80162e-06ca-4b24-a1f3-10c5d346ebc4\" xlink:actuate=\"onRequest\" xlink:href=\"psysml:ae80162e-06ca-4b24-a1f3-10c5d346ebc4\" xlink:show=\"new\" xlink:title=\"psysml:ae80162e-06ca-4b24-a1f3-10c5d346ebc4\" xlink:type=\"simple\"><polygon fill=\"#FFFFFF\" filter=\"url(#f9lmvpj44da50)\" points=\"329,256,419,256,426,278.2969,433,278.2969,433,308.5938,329,308.5938,329,256\" style=\"stroke: #000000; stroke-width: 1.5;\"/><line style=\"stroke: #000000; stroke-width: 1.5;\" x1=\"329\" x2=\"426\" y1=\"278.2969\" y2=\"278.2969\"/><text fill=\"#000000\" font-family=\"sans-serif\" font-size=\"14\" font-weight=\"bold\" lengthAdjust=\"spacingAndGlyphs\" textLength=\"84\" x=\"333\" y=\"270.9951\">Data Layer</text></a><g id=\"E1.E6\"><a href=\"psysml:747ec202-6e4c-456d-855d-21470db0b7f2\" target=\"_top\" title=\"psysml:747ec202-6e4c-456d-855d-21470db0b7f2\" xlink:actuate=\"onRequest\" xlink:href=\"psysml:747ec202-6e4c-456d-855d-21470db0b7f2\" xlink:show=\"new\" xlink:title=\"psysml:747ec202-6e4c-456d-855d-21470db0b7f2\" xlink:type=\"simple\"><rect fill=\"#FEFECE\" filter=\"url(#f9lmvpj44da50)\" height=\"42.9375\" id=\"E6\" rx=\"10\" ry=\"10\" style=\"stroke: #A80036; stroke-width: 1.5;\" width=\"102\" x=\"32\" y=\"175\"/><ellipse cx=\"49.25\" cy=\"193.9688\" fill=\"#FFA500\" rx=\"11\" ry=\"11\" style=\"stroke: #A80036; stroke-width: 1.0;\"/><path d=\"M45.125,195.8906 L45.125,188.0781 L47.5781,188.0781 L47.5781,196.5156 Q47.5781,197.4375 48.0469,197.9688 Q48.5313,198.5 49.3594,198.5 Q50.2031,198.5 50.6719,197.9688 Q51.1406,197.4375 51.1406,196.5156 L51.1406,188.0781 L53.5938,188.0781 L53.5938,195.8906 Q53.5938,198.4219 52.5938,199.5625 Q51.5938,200.7031 49.3594,200.7031 Q47.1406,200.7031 46.125,199.5625 Q45.125,198.4219 45.125,195.8906 Z \"/><text fill=\"#000000\" font-family=\"sans-serif\" font-size=\"12\" font-style=\"italic\" lengthAdjust=\"spacingAndGlyphs\" textLength=\"69\" x=\"61.75\" y=\"191.1387\">«attribute»</text><text fill=\"#000000\" font-family=\"sans-serif\" font-size=\"12\" lengthAdjust=\"spacingAndGlyphs\" textLength=\"6\" x=\"93.25\" y=\"205.1074\">x</text></a></g><g id=\"E1.E7\"><a href=\"psysml:aee293b7-b915-4f4d-bf33-13d7af80ad07\" target=\"_top\" title=\"psysml:aee293b7-b915-4f4d-bf33-13d7af80ad07\" xlink:actuate=\"onRequest\" xlink:href=\"psysml:aee293b7-b915-4f4d-bf33-13d7af80ad07\" xlink:show=\"new\" xlink:title=\"psysml:aee293b7-b915-4f4d-bf33-13d7af80ad07\" xlink:type=\"simple\"><rect fill=\"#FEFECE\" filter=\"url(#f9lmvpj44da50)\" height=\"42.9375\" id=\"E7\" rx=\"10\" ry=\"10\" style=\"stroke: #A80036; stroke-width: 1.5;\" width=\"102\" x=\"169\" y=\"175\"/><ellipse cx=\"186.25\" cy=\"193.9688\" fill=\"#FFA500\" rx=\"11\" ry=\"11\" style=\"stroke: #A80036; stroke-width: 1.0;\"/><path d=\"M182.125,195.8906 L182.125,188.0781 L184.5781,188.0781 L184.5781,196.5156 Q184.5781,197.4375 185.0469,197.9688 Q185.5313,198.5 186.3594,198.5 Q187.2031,198.5 187.6719,197.9688 Q188.1406,197.4375 188.1406,196.5156 L188.1406,188.0781 L190.5938,188.0781 L190.5938,195.8906 Q190.5938,198.4219 189.5938,199.5625 Q188.5938,200.7031 186.3594,200.7031 Q184.1406,200.7031 183.125,199.5625 Q182.125,198.4219 182.125,195.8906 Z \"/><text fill=\"#000000\" font-family=\"sans-serif\" font-size=\"12\" font-style=\"italic\" lengthAdjust=\"spacingAndGlyphs\" textLength=\"69\" x=\"198.75\" y=\"191.1387\">«attribute»</text><text fill=\"#000000\" font-family=\"sans-serif\" font-size=\"12\" lengthAdjust=\"spacingAndGlyphs\" textLength=\"6\" x=\"230.25\" y=\"205.1074\">y</text></a></g><g id=\"E1.E8\"><a href=\"psysml:1c42907e-9ca4-4468-bbbb-1ea70701dab3\" target=\"_top\" title=\"psysml:1c42907e-9ca4-4468-bbbb-1ea70701dab3\" xlink:actuate=\"onRequest\" xlink:href=\"psysml:1c42907e-9ca4-4468-bbbb-1ea70701dab3\" xlink:show=\"new\" xlink:title=\"psysml:1c42907e-9ca4-4468-bbbb-1ea70701dab3\" xlink:type=\"simple\"><rect fill=\"#FEFECE\" filter=\"url(#f9lmvpj44da50)\" height=\"42.9375\" id=\"E8\" rx=\"10\" ry=\"10\" style=\"stroke: #A80036; stroke-width: 1.5;\" width=\"102\" x=\"85\" y=\"89\"/><ellipse cx=\"102.25\" cy=\"107.9688\" fill=\"#FFA500\" rx=\"11\" ry=\"11\" style=\"stroke: #A80036; stroke-width: 1.0;\"/><path d=\"M98.125,109.8906 L98.125,102.0781 L100.5781,102.0781 L100.5781,110.5156 Q100.5781,111.4375 101.0469,111.9688 Q101.5313,112.5 102.3594,112.5 Q103.2031,112.5 103.6719,111.9688 Q104.1406,111.4375 104.1406,110.5156 L104.1406,102.0781 L106.5938,102.0781 L106.5938,109.8906 Q106.5938,112.4219 105.5938,113.5625 Q104.5938,114.7031 102.3594,114.7031 Q100.1406,114.7031 99.125,113.5625 Q98.125,112.4219 98.125,109.8906 Z \"/><text fill=\"#000000\" font-family=\"sans-serif\" font-size=\"12\" font-style=\"italic\" lengthAdjust=\"spacingAndGlyphs\" textLength=\"69\" x=\"114.75\" y=\"105.1387\">«attribute»</text><text fill=\"#000000\" font-family=\"sans-serif\" font-size=\"12\" lengthAdjust=\"spacingAndGlyphs\" textLength=\"5\" x=\"146.75\" y=\"119.1074\">z</text></a></g><!--MD5=[af87c684e3b0d8be13c1a698a818ef1e]\n",
       "link E3 to E4--><a href=\"psysml:4c7b915e-320e-40c7-9399-584f1f84a9d7\" target=\"_top\" title=\"psysml:4c7b915e-320e-40c7-9399-584f1f84a9d7\" xlink:actuate=\"onRequest\" xlink:href=\"psysml:4c7b915e-320e-40c7-9399-584f1f84a9d7\" xlink:show=\"new\" xlink:title=\"psysml:4c7b915e-320e-40c7-9399-584f1f84a9d7\" xlink:type=\"simple\"><path d=\"M381,137.16 C381,144.98 381,153.69 381,161.94 \" fill=\"none\" id=\"E3-&gt;E4\" style=\"stroke: #A80036; stroke-width: 1.0; stroke-dasharray: 7.0,7.0;\"/><polygon fill=\"#A80036\" points=\"381,170,384,162,378,162,381,170\" style=\"stroke: #A80036; stroke-width: 1.0;\"/><text fill=\"#000000\" font-family=\"sans-serif\" font-size=\"13\" lengthAdjust=\"spacingAndGlyphs\" textLength=\"64\" x=\"382\" y=\"158.0669\">«depend»</text></a><!--MD5=[1b7591eae5389033d8d09a9d6721a717]\n",
       "link E4 to E5--><a href=\"psysml:9be59ee3-60f5-4004-bc3e-00c0f7693956\" target=\"_top\" title=\"psysml:9be59ee3-60f5-4004-bc3e-00c0f7693956\" xlink:actuate=\"onRequest\" xlink:href=\"psysml:9be59ee3-60f5-4004-bc3e-00c0f7693956\" xlink:show=\"new\" xlink:title=\"psysml:9be59ee3-60f5-4004-bc3e-00c0f7693956\" xlink:type=\"simple\"><path d=\"M381,223.16 C381,230.98 381,239.69 381,247.94 \" fill=\"none\" id=\"E4-&gt;E5\" style=\"stroke: #A80036; stroke-width: 1.0; stroke-dasharray: 7.0,7.0;\"/><polygon fill=\"#A80036\" points=\"381,256,384,248,378,248,381,256\" style=\"stroke: #A80036; stroke-width: 1.0;\"/><text fill=\"#000000\" font-family=\"sans-serif\" font-size=\"13\" lengthAdjust=\"spacingAndGlyphs\" textLength=\"64\" x=\"382\" y=\"244.0669\">«depend»</text></a><!--MD5=[c5e8897d989ce984f93528998a7150fe]\n",
       "link E8 to E6--><a href=\"psysml:80784242-98cb-449c-a51f-f2c7c1061d87\" target=\"_top\" title=\"psysml:80784242-98cb-449c-a51f-f2c7c1061d87\" xlink:actuate=\"onRequest\" xlink:href=\"psysml:80784242-98cb-449c-a51f-f2c7c1061d87\" xlink:show=\"new\" xlink:title=\"psysml:80784242-98cb-449c-a51f-f2c7c1061d87\" xlink:type=\"simple\"><path d=\"M102.96,132.09 C98.75,135.93 94.9,140.25 92,145 C88.13,151.34 85.83,158.9 84.48,166.22 \" fill=\"none\" id=\"E8-&gt;E6\" style=\"stroke: #A80036; stroke-width: 1.0; stroke-dasharray: 7.0,7.0;\"/><polygon fill=\"#A80036\" points=\"83.3,174.62,87.3842,167.1154,81.4426,166.2803,83.3,174.62\" style=\"stroke: #A80036; stroke-width: 1.0;\"/><text fill=\"#000000\" font-family=\"sans-serif\" font-size=\"13\" lengthAdjust=\"spacingAndGlyphs\" textLength=\"64\" x=\"93\" y=\"158.0669\">«depend»</text></a><!--MD5=[bfa3c8b0d15052fdf50ae9310b491027]\n",
       "link E8 to E7--><a href=\"psysml:80784242-98cb-449c-a51f-f2c7c1061d87\" target=\"_top\" title=\"psysml:80784242-98cb-449c-a51f-f2c7c1061d87\" xlink:actuate=\"onRequest\" xlink:href=\"psysml:80784242-98cb-449c-a51f-f2c7c1061d87\" xlink:show=\"new\" xlink:title=\"psysml:80784242-98cb-449c-a51f-f2c7c1061d87\" xlink:type=\"simple\"><path d=\"M156.76,132.26 C167.95,143.45 181.87,157.37 193.8,169.3 \" fill=\"none\" id=\"E8-&gt;E7\" style=\"stroke: #A80036; stroke-width: 1.0; stroke-dasharray: 7.0,7.0;\"/><polygon fill=\"#A80036\" points=\"199.47,174.97,195.9345,167.1918,191.6918,171.4345,199.47,174.97\" style=\"stroke: #A80036; stroke-width: 1.0;\"/><text fill=\"#000000\" font-family=\"sans-serif\" font-size=\"13\" lengthAdjust=\"spacingAndGlyphs\" textLength=\"64\" x=\"186\" y=\"158.0669\">«depend»</text></a><!--MD5=[1adc8a161abb53c4b6d0a4008e959f9e]\n",
       "@startuml\r\n",
       "skinparam ranksep 8\r\n",
       "skinparam rectangle {\r\n",
       " backgroundColor<<block>> LightGreen\r\n",
       "}\r\n",
       " \r\n",
       "package \"DependencyTest\" as E1  [[psysml:438e34af-3ce5-4e99-acf4-d3ecd205ea23 ]]  {\r\n",
       "package \"System\" as E2  [[psysml:33a226aa-95cf-4670-96e1-1bd6e94f796f ]]  {\r\n",
       "package \"Application Layer\" as E3  [[psysml:add81eb6-248c-4298-8987-63cd174f8097 ]]  {\r\n",
       "}\r\n",
       "package \"Service Layer\" as E4  [[psysml:95ba016d-ba70-4f40-a2b0-65410d9cce5b ]]  {\r\n",
       "}\r\n",
       "package \"Data Layer\" as E5  [[psysml:ae80162e-06ca-4b24-a1f3-10c5d346ebc4 ]]  {\r\n",
       "}\r\n",
       "}\r\n",
       "rec usage \"x\" as E6  <<(U,orange)attribute>> [[psysml:747ec202-6e4c-456d-855d-21470db0b7f2 ]] {\r\n",
       "}\r\n",
       "rec usage \"y\" as E7  <<(U,orange)attribute>> [[psysml:aee293b7-b915-4f4d-bf33-13d7af80ad07 ]] {\r\n",
       "}\r\n",
       "rec usage \"z\" as E8  <<(U,orange)attribute>> [[psysml:1c42907e-9ca4-4468-bbbb-1ea70701dab3 ]] {\r\n",
       "}\r\n",
       "E3 ..>> E4 [[psysml:4c7b915e-320e-40c7-9399-584f1f84a9d7 ]] : <<depend>>\r\n",
       "E4 ..>> E5 [[psysml:9be59ee3-60f5-4004-bc3e-00c0f7693956 ]] : <<depend>>\r\n",
       "E8 ..>> E6 [[psysml:80784242-98cb-449c-a51f-f2c7c1061d87 ]] : <<depend>>\r\n",
       "E8 ..>> E7 [[psysml:80784242-98cb-449c-a51f-f2c7c1061d87 ]] : <<depend>>\r\n",
       "}\r\n",
       "@enduml\r\n",
       "\n",
       "PlantUML version 1.2020.13(Sat Jun 13 12:26:38 UTC 2020)\n",
       "(EPL source distribution)\n",
       "Java Runtime: OpenJDK Runtime Environment\n",
       "JVM: OpenJDK 64-Bit Server VM\n",
       "Default Encoding: UTF-8\n",
       "Language: en\n",
       "Country: null\n",
       "--></g></svg>"
      ]
     },
     "execution_count": 33,
     "metadata": {},
     "output_type": "execute_result"
    }
   ],
   "source": [
    "%viz --style=\"PLANTUML\" --view=\"Interconnection\" \"DependencyTest\""
   ]
  },
  {
   "cell_type": "code",
   "execution_count": 34,
   "id": "consolidated-nursing",
   "metadata": {
    "execution": {
     "iopub.execute_input": "2021-03-25T13:26:19.071056Z",
     "iopub.status.busy": "2021-03-25T13:26:19.070182Z",
     "iopub.status.idle": "2021-03-25T13:26:19.076734Z",
     "shell.execute_reply": "2021-03-25T13:26:19.076349Z"
    }
   },
   "outputs": [
    {
     "data": {
      "image/svg+xml": [
       "<?xml version=\"1.0\" encoding=\"UTF-8\" standalone=\"no\"?><svg xmlns=\"http://www.w3.org/2000/svg\" xmlns:xlink=\"http://www.w3.org/1999/xlink\" contentScriptType=\"application/ecmascript\" contentStyleType=\"text/css\" height=\"12px\" preserveAspectRatio=\"none\" style=\"width:12px;height:12px;\" version=\"1.1\" viewBox=\"0 0 12 12\" width=\"12px\" zoomAndPan=\"magnify\"><defs/><g><!--MD5=[6a4cb978cab31700e1ce5529f947a75d]\n",
       "@startuml\r\n",
       "skinparam ranksep 8\r\n",
       " \r\n",
       "@enduml\r\n",
       "\n",
       "PlantUML version 1.2020.13(Sat Jun 13 12:26:38 UTC 2020)\n",
       "(EPL source distribution)\n",
       "Java Runtime: OpenJDK Runtime Environment\n",
       "JVM: OpenJDK 64-Bit Server VM\n",
       "Default Encoding: UTF-8\n",
       "Language: en\n",
       "Country: null\n",
       "--></g></svg>"
      ]
     },
     "execution_count": 34,
     "metadata": {},
     "output_type": "execute_result"
    }
   ],
   "source": [
    "%viz --style=\"PLANTUML\" --view=\"Action\" \"DependencyTest\""
   ]
  },
  {
   "cell_type": "code",
   "execution_count": 35,
   "id": "terminal-figure",
   "metadata": {
    "execution": {
     "iopub.execute_input": "2021-03-25T13:26:19.130247Z",
     "iopub.status.busy": "2021-03-25T13:26:19.129188Z",
     "iopub.status.idle": "2021-03-25T13:26:19.224440Z",
     "shell.execute_reply": "2021-03-25T13:26:19.222947Z"
    }
   },
   "outputs": [
    {
     "data": {
      "image/svg+xml": [
       "<?xml version=\"1.0\" encoding=\"UTF-8\" standalone=\"no\"?><svg xmlns=\"http://www.w3.org/2000/svg\" xmlns:xlink=\"http://www.w3.org/1999/xlink\" contentScriptType=\"application/ecmascript\" contentStyleType=\"text/css\" height=\"449px\" preserveAspectRatio=\"none\" style=\"width:510px;height:449px;\" version=\"1.1\" viewBox=\"0 0 510 449\" width=\"510px\" zoomAndPan=\"magnify\"><defs><filter height=\"300%\" id=\"fyo5b5pdgk6yl\" width=\"300%\" x=\"-1\" y=\"-1\"><feGaussianBlur result=\"blurOut\" stdDeviation=\"2.0\"/><feColorMatrix in=\"blurOut\" result=\"blurOut2\" type=\"matrix\" values=\"0 0 0 0 0 0 0 0 0 0 0 0 0 0 0 0 0 0 .4 0\"/><feOffset dx=\"4.0\" dy=\"4.0\" in=\"blurOut2\" result=\"blurOut3\"/><feBlend in=\"SourceGraphic\" in2=\"blurOut3\" mode=\"normal\"/></filter></defs><g><!--MD5=[fbc87193dbaf4d95561dea2c320d4a47]\n",
       "cluster E1--><a href=\"psysml:438e34af-3ce5-4e99-acf4-d3ecd205ea23\" target=\"_top\" title=\"psysml:438e34af-3ce5-4e99-acf4-d3ecd205ea23\" xlink:actuate=\"onRequest\" xlink:href=\"psysml:438e34af-3ce5-4e99-acf4-d3ecd205ea23\" xlink:show=\"new\" xlink:title=\"psysml:438e34af-3ce5-4e99-acf4-d3ecd205ea23\" xlink:type=\"simple\"><polygon fill=\"#FFFFFF\" filter=\"url(#fyo5b5pdgk6yl)\" points=\"16,6,156,6,163,28.2969,488,28.2969,488,437,16,437,16,6\" style=\"stroke: #000000; stroke-width: 1.5;\"/><line style=\"stroke: #000000; stroke-width: 1.5;\" x1=\"16\" x2=\"163\" y1=\"28.2969\" y2=\"28.2969\"/><text fill=\"#000000\" font-family=\"sans-serif\" font-size=\"14\" font-weight=\"bold\" lengthAdjust=\"spacingAndGlyphs\" textLength=\"134\" x=\"20\" y=\"20.9951\">DependencyTest</text></a><!--MD5=[e4f7fae6ed58524ba242bb0b0d3be6b7]\n",
       "cluster E2--><a href=\"psysml:33a226aa-95cf-4670-96e1-1bd6e94f796f\" target=\"_top\" title=\"psysml:33a226aa-95cf-4670-96e1-1bd6e94f796f\" xlink:actuate=\"onRequest\" xlink:href=\"psysml:33a226aa-95cf-4670-96e1-1bd6e94f796f\" xlink:show=\"new\" xlink:title=\"psysml:33a226aa-95cf-4670-96e1-1bd6e94f796f\" xlink:type=\"simple\"><polygon fill=\"#FFFFFF\" filter=\"url(#fyo5b5pdgk6yl)\" points=\"276,49,340,49,347,71.2969,464,71.2969,464,413,276,413,276,49\" style=\"stroke: #000000; stroke-width: 1.5;\"/><line style=\"stroke: #000000; stroke-width: 1.5;\" x1=\"276\" x2=\"347\" y1=\"71.2969\" y2=\"71.2969\"/><text fill=\"#000000\" font-family=\"sans-serif\" font-size=\"14\" font-weight=\"bold\" lengthAdjust=\"spacingAndGlyphs\" textLength=\"58\" x=\"280\" y=\"63.9951\">System</text></a><!--MD5=[60a26617385b1d2d0262a64233df1f8d]\n",
       "class E6--><a href=\"psysml:747ec202-6e4c-456d-855d-21470db0b7f2\" target=\"_top\" title=\"psysml:747ec202-6e4c-456d-855d-21470db0b7f2\" xlink:actuate=\"onRequest\" xlink:href=\"psysml:747ec202-6e4c-456d-855d-21470db0b7f2\" xlink:show=\"new\" xlink:title=\"psysml:747ec202-6e4c-456d-855d-21470db0b7f2\" xlink:type=\"simple\"><rect fill=\"#FEFECE\" filter=\"url(#fyo5b5pdgk6yl)\" height=\"45.9375\" id=\"E6\" rx=\"10\" ry=\"10\" style=\"stroke: #A80036; stroke-width: 1.5;\" width=\"97\" x=\"31.5\" y=\"217.5\"/><ellipse cx=\"46.5\" cy=\"236.4688\" fill=\"#FFA500\" rx=\"11\" ry=\"11\" style=\"stroke: #A80036; stroke-width: 1.0;\"/><path d=\"M42.375,238.3906 L42.375,230.5781 L44.8281,230.5781 L44.8281,239.0156 Q44.8281,239.9375 45.2969,240.4688 Q45.7813,241 46.6094,241 Q47.4531,241 47.9219,240.4688 Q48.3906,239.9375 48.3906,239.0156 L48.3906,230.5781 L50.8438,230.5781 L50.8438,238.3906 Q50.8438,240.9219 49.8438,242.0625 Q48.8438,243.2031 46.6094,243.2031 Q44.3906,243.2031 43.375,242.0625 Q42.375,240.9219 42.375,238.3906 Z \"/><text fill=\"#000000\" font-family=\"sans-serif\" font-size=\"12\" font-style=\"italic\" lengthAdjust=\"spacingAndGlyphs\" textLength=\"69\" x=\"58.5\" y=\"233.6387\">«attribute»</text><text fill=\"#000000\" font-family=\"sans-serif\" font-size=\"12\" lengthAdjust=\"spacingAndGlyphs\" textLength=\"6\" x=\"90\" y=\"247.6074\">x</text><line style=\"stroke: #A80036; stroke-width: 1.5;\" x1=\"32.5\" x2=\"127.5\" y1=\"255.4375\" y2=\"255.4375\"/></a><!--MD5=[2156ba9850f5573cc1fc38a6a4b2f02b]\n",
       "class E7--><a href=\"psysml:aee293b7-b915-4f4d-bf33-13d7af80ad07\" target=\"_top\" title=\"psysml:aee293b7-b915-4f4d-bf33-13d7af80ad07\" xlink:actuate=\"onRequest\" xlink:href=\"psysml:aee293b7-b915-4f4d-bf33-13d7af80ad07\" xlink:show=\"new\" xlink:title=\"psysml:aee293b7-b915-4f4d-bf33-13d7af80ad07\" xlink:type=\"simple\"><rect fill=\"#FEFECE\" filter=\"url(#fyo5b5pdgk6yl)\" height=\"45.9375\" id=\"E7\" rx=\"10\" ry=\"10\" style=\"stroke: #A80036; stroke-width: 1.5;\" width=\"97\" x=\"163.5\" y=\"217.5\"/><ellipse cx=\"178.5\" cy=\"236.4688\" fill=\"#FFA500\" rx=\"11\" ry=\"11\" style=\"stroke: #A80036; stroke-width: 1.0;\"/><path d=\"M174.375,238.3906 L174.375,230.5781 L176.8281,230.5781 L176.8281,239.0156 Q176.8281,239.9375 177.2969,240.4688 Q177.7813,241 178.6094,241 Q179.4531,241 179.9219,240.4688 Q180.3906,239.9375 180.3906,239.0156 L180.3906,230.5781 L182.8438,230.5781 L182.8438,238.3906 Q182.8438,240.9219 181.8438,242.0625 Q180.8438,243.2031 178.6094,243.2031 Q176.3906,243.2031 175.375,242.0625 Q174.375,240.9219 174.375,238.3906 Z \"/><text fill=\"#000000\" font-family=\"sans-serif\" font-size=\"12\" font-style=\"italic\" lengthAdjust=\"spacingAndGlyphs\" textLength=\"69\" x=\"190.5\" y=\"233.6387\">«attribute»</text><text fill=\"#000000\" font-family=\"sans-serif\" font-size=\"12\" lengthAdjust=\"spacingAndGlyphs\" textLength=\"6\" x=\"222\" y=\"247.6074\">y</text><line style=\"stroke: #A80036; stroke-width: 1.5;\" x1=\"164.5\" x2=\"259.5\" y1=\"255.4375\" y2=\"255.4375\"/></a><!--MD5=[b9389687b975829384b498ac4b7476b2]\n",
       "class E8--><a href=\"psysml:1c42907e-9ca4-4468-bbbb-1ea70701dab3\" target=\"_top\" title=\"psysml:1c42907e-9ca4-4468-bbbb-1ea70701dab3\" xlink:actuate=\"onRequest\" xlink:href=\"psysml:1c42907e-9ca4-4468-bbbb-1ea70701dab3\" xlink:show=\"new\" xlink:title=\"psysml:1c42907e-9ca4-4468-bbbb-1ea70701dab3\" xlink:type=\"simple\"><rect fill=\"#FEFECE\" filter=\"url(#fyo5b5pdgk6yl)\" height=\"45.9375\" id=\"E8\" rx=\"10\" ry=\"10\" style=\"stroke: #A80036; stroke-width: 1.5;\" width=\"97\" x=\"84.5\" y=\"87.5\"/><ellipse cx=\"99.5\" cy=\"106.4688\" fill=\"#FFA500\" rx=\"11\" ry=\"11\" style=\"stroke: #A80036; stroke-width: 1.0;\"/><path d=\"M95.375,108.3906 L95.375,100.5781 L97.8281,100.5781 L97.8281,109.0156 Q97.8281,109.9375 98.2969,110.4688 Q98.7813,111 99.6094,111 Q100.4531,111 100.9219,110.4688 Q101.3906,109.9375 101.3906,109.0156 L101.3906,100.5781 L103.8438,100.5781 L103.8438,108.3906 Q103.8438,110.9219 102.8438,112.0625 Q101.8438,113.2031 99.6094,113.2031 Q97.3906,113.2031 96.375,112.0625 Q95.375,110.9219 95.375,108.3906 Z \"/><text fill=\"#000000\" font-family=\"sans-serif\" font-size=\"12\" font-style=\"italic\" lengthAdjust=\"spacingAndGlyphs\" textLength=\"69\" x=\"111.5\" y=\"103.6387\">«attribute»</text><text fill=\"#000000\" font-family=\"sans-serif\" font-size=\"12\" lengthAdjust=\"spacingAndGlyphs\" textLength=\"5\" x=\"143.5\" y=\"117.6074\">z</text><line style=\"stroke: #A80036; stroke-width: 1.5;\" x1=\"85.5\" x2=\"180.5\" y1=\"125.4375\" y2=\"125.4375\"/></a><a href=\"psysml:add81eb6-248c-4298-8987-63cd174f8097\" target=\"_top\" title=\"psysml:add81eb6-248c-4298-8987-63cd174f8097\" xlink:actuate=\"onRequest\" xlink:href=\"psysml:add81eb6-248c-4298-8987-63cd174f8097\" xlink:show=\"new\" xlink:title=\"psysml:add81eb6-248c-4298-8987-63cd174f8097\" xlink:type=\"simple\"><polygon fill=\"#FFFFFF\" filter=\"url(#fyo5b5pdgk6yl)\" points=\"292,84,434,84,441,106.2969,448,106.2969,448,136.5938,292,136.5938,292,84\" style=\"stroke: #000000; stroke-width: 1.5;\"/><line style=\"stroke: #000000; stroke-width: 1.5;\" x1=\"292\" x2=\"441\" y1=\"106.2969\" y2=\"106.2969\"/><text fill=\"#000000\" font-family=\"sans-serif\" font-size=\"14\" font-weight=\"bold\" lengthAdjust=\"spacingAndGlyphs\" textLength=\"136\" x=\"296\" y=\"98.9951\">Application Layer</text></a><a href=\"psysml:95ba016d-ba70-4f40-a2b0-65410d9cce5b\" target=\"_top\" title=\"psysml:95ba016d-ba70-4f40-a2b0-65410d9cce5b\" xlink:actuate=\"onRequest\" xlink:href=\"psysml:95ba016d-ba70-4f40-a2b0-65410d9cce5b\" xlink:show=\"new\" xlink:title=\"psysml:95ba016d-ba70-4f40-a2b0-65410d9cce5b\" xlink:type=\"simple\"><polygon fill=\"#FFFFFF\" filter=\"url(#fyo5b5pdgk6yl)\" points=\"306,214,420,214,427,236.2969,434,236.2969,434,266.5938,306,266.5938,306,214\" style=\"stroke: #000000; stroke-width: 1.5;\"/><line style=\"stroke: #000000; stroke-width: 1.5;\" x1=\"306\" x2=\"427\" y1=\"236.2969\" y2=\"236.2969\"/><text fill=\"#000000\" font-family=\"sans-serif\" font-size=\"14\" font-weight=\"bold\" lengthAdjust=\"spacingAndGlyphs\" textLength=\"108\" x=\"310\" y=\"228.9951\">Service Layer</text></a><a href=\"psysml:ae80162e-06ca-4b24-a1f3-10c5d346ebc4\" target=\"_top\" title=\"psysml:ae80162e-06ca-4b24-a1f3-10c5d346ebc4\" xlink:actuate=\"onRequest\" xlink:href=\"psysml:ae80162e-06ca-4b24-a1f3-10c5d346ebc4\" xlink:show=\"new\" xlink:title=\"psysml:ae80162e-06ca-4b24-a1f3-10c5d346ebc4\" xlink:type=\"simple\"><polygon fill=\"#FFFFFF\" filter=\"url(#fyo5b5pdgk6yl)\" points=\"318,344,408,344,415,366.2969,422,366.2969,422,396.5938,318,396.5938,318,344\" style=\"stroke: #000000; stroke-width: 1.5;\"/><line style=\"stroke: #000000; stroke-width: 1.5;\" x1=\"318\" x2=\"415\" y1=\"366.2969\" y2=\"366.2969\"/><text fill=\"#000000\" font-family=\"sans-serif\" font-size=\"14\" font-weight=\"bold\" lengthAdjust=\"spacingAndGlyphs\" textLength=\"84\" x=\"322\" y=\"358.9951\">Data Layer</text></a><!--MD5=[af87c684e3b0d8be13c1a698a818ef1e]\n",
       "link E3 to E4--><a href=\"psysml:4c7b915e-320e-40c7-9399-584f1f84a9d7\" target=\"_top\" title=\"psysml:4c7b915e-320e-40c7-9399-584f1f84a9d7\" xlink:actuate=\"onRequest\" xlink:href=\"psysml:4c7b915e-320e-40c7-9399-584f1f84a9d7\" xlink:show=\"new\" xlink:title=\"psysml:4c7b915e-320e-40c7-9399-584f1f84a9d7\" xlink:type=\"simple\"><path d=\"M370,137.1 C370,156.8 370,184.22 370,205.73 \" fill=\"none\" id=\"E3-&gt;E4\" style=\"stroke: #A80036; stroke-width: 1.0; stroke-dasharray: 7.0,7.0;\"/><polygon fill=\"#A80036\" points=\"370,213.95,373,205.95,367,205.95,370,213.95\" style=\"stroke: #A80036; stroke-width: 1.0;\"/><text fill=\"#000000\" font-family=\"sans-serif\" font-size=\"13\" lengthAdjust=\"spacingAndGlyphs\" textLength=\"64\" x=\"371\" y=\"180.0669\">«depend»</text></a><!--MD5=[1b7591eae5389033d8d09a9d6721a717]\n",
       "link E4 to E5--><a href=\"psysml:9be59ee3-60f5-4004-bc3e-00c0f7693956\" target=\"_top\" title=\"psysml:9be59ee3-60f5-4004-bc3e-00c0f7693956\" xlink:actuate=\"onRequest\" xlink:href=\"psysml:9be59ee3-60f5-4004-bc3e-00c0f7693956\" xlink:show=\"new\" xlink:title=\"psysml:9be59ee3-60f5-4004-bc3e-00c0f7693956\" xlink:type=\"simple\"><path d=\"M370,267.1 C370,286.8 370,314.22 370,335.73 \" fill=\"none\" id=\"E4-&gt;E5\" style=\"stroke: #A80036; stroke-width: 1.0; stroke-dasharray: 7.0,7.0;\"/><polygon fill=\"#A80036\" points=\"370,343.95,373,335.95,367,335.95,370,343.95\" style=\"stroke: #A80036; stroke-width: 1.0;\"/><text fill=\"#000000\" font-family=\"sans-serif\" font-size=\"13\" lengthAdjust=\"spacingAndGlyphs\" textLength=\"64\" x=\"371\" y=\"310.0669\">«depend»</text></a><!--MD5=[c5e8897d989ce984f93528998a7150fe]\n",
       "link E8 to E6--><a href=\"psysml:80784242-98cb-449c-a51f-f2c7c1061d87\" target=\"_top\" title=\"psysml:80784242-98cb-449c-a51f-f2c7c1061d87\" xlink:actuate=\"onRequest\" xlink:href=\"psysml:80784242-98cb-449c-a51f-f2c7c1061d87\" xlink:show=\"new\" xlink:title=\"psysml:80784242-98cb-449c-a51f-f2c7c1061d87\" xlink:type=\"simple\"><path d=\"M106.44,133.76 C97.3,143.01 88.09,154.51 83,167 C77.6,180.23 76.4,195.98 76.73,209.41 \" fill=\"none\" id=\"E8-&gt;E6\" style=\"stroke: #A80036; stroke-width: 1.0; stroke-dasharray: 7.0,7.0;\"/><polygon fill=\"#A80036\" points=\"77.12,217.43,79.7306,209.2946,73.7375,209.584,77.12,217.43\" style=\"stroke: #A80036; stroke-width: 1.0;\"/><text fill=\"#000000\" font-family=\"sans-serif\" font-size=\"13\" lengthAdjust=\"spacingAndGlyphs\" textLength=\"64\" x=\"84\" y=\"180.0669\">«depend»</text></a><!--MD5=[bfa3c8b0d15052fdf50ae9310b491027]\n",
       "link E8 to E7--><a href=\"psysml:80784242-98cb-449c-a51f-f2c7c1061d87\" target=\"_top\" title=\"psysml:80784242-98cb-449c-a51f-f2c7c1061d87\" xlink:actuate=\"onRequest\" xlink:href=\"psysml:80784242-98cb-449c-a51f-f2c7c1061d87\" xlink:show=\"new\" xlink:title=\"psysml:80784242-98cb-449c-a51f-f2c7c1061d87\" xlink:type=\"simple\"><path d=\"M146.58,133.5 C159.69,154.75 179.63,187.05 194.05,210.41 \" fill=\"none\" id=\"E8-&gt;E7\" style=\"stroke: #A80036; stroke-width: 1.0; stroke-dasharray: 7.0,7.0;\"/><polygon fill=\"#A80036\" points=\"198.33,217.35,196.6785,208.9671,191.5737,212.1201,198.33,217.35\" style=\"stroke: #A80036; stroke-width: 1.0;\"/><text fill=\"#000000\" font-family=\"sans-serif\" font-size=\"13\" lengthAdjust=\"spacingAndGlyphs\" textLength=\"64\" x=\"178\" y=\"180.0669\">«depend»</text></a><!--MD5=[6034aab2394031c169369b8ebf51e88e]\n",
       "@startuml\r\n",
       " \r\n",
       "package \"DependencyTest\" as E1  [[psysml:438e34af-3ce5-4e99-acf4-d3ecd205ea23 ]]  {\r\n",
       "package \"System\" as E2  [[psysml:33a226aa-95cf-4670-96e1-1bd6e94f796f ]]  {\r\n",
       "package \"Application Layer\" as E3  [[psysml:add81eb6-248c-4298-8987-63cd174f8097 ]]  {\r\n",
       "}\r\n",
       "package \"Service Layer\" as E4  [[psysml:95ba016d-ba70-4f40-a2b0-65410d9cce5b ]]  {\r\n",
       "}\r\n",
       "package \"Data Layer\" as E5  [[psysml:ae80162e-06ca-4b24-a1f3-10c5d346ebc4 ]]  {\r\n",
       "}\r\n",
       "}\r\n",
       "comp usage \"x\" as E6  <<(U,orange)attribute>> [[psysml:747ec202-6e4c-456d-855d-21470db0b7f2 ]] {\r\n",
       "}\r\n",
       "comp usage \"y\" as E7  <<(U,orange)attribute>> [[psysml:aee293b7-b915-4f4d-bf33-13d7af80ad07 ]] {\r\n",
       "}\r\n",
       "comp usage \"z\" as E8  <<(U,orange)attribute>> [[psysml:1c42907e-9ca4-4468-bbbb-1ea70701dab3 ]] {\r\n",
       "}\r\n",
       "E3 ..>> E4 [[psysml:4c7b915e-320e-40c7-9399-584f1f84a9d7 ]] : <<depend>>\r\n",
       "E4 ..>> E5 [[psysml:9be59ee3-60f5-4004-bc3e-00c0f7693956 ]] : <<depend>>\r\n",
       "E8 ..>> E6 [[psysml:80784242-98cb-449c-a51f-f2c7c1061d87 ]] : <<depend>>\r\n",
       "E8 ..>> E7 [[psysml:80784242-98cb-449c-a51f-f2c7c1061d87 ]] : <<depend>>\r\n",
       "}\r\n",
       "@enduml\r\n",
       "\n",
       "PlantUML version 1.2020.13(Sat Jun 13 12:26:38 UTC 2020)\n",
       "(EPL source distribution)\n",
       "Java Runtime: OpenJDK Runtime Environment\n",
       "JVM: OpenJDK 64-Bit Server VM\n",
       "Default Encoding: UTF-8\n",
       "Language: en\n",
       "Country: null\n",
       "--></g></svg>"
      ]
     },
     "execution_count": 35,
     "metadata": {},
     "output_type": "execute_result"
    }
   ],
   "source": [
    "%viz --style=\"PLANTUML\" --view=\"Sequence\" \"DependencyTest\""
   ]
  },
  {
   "cell_type": "code",
   "execution_count": 36,
   "id": "stunning-denver",
   "metadata": {
    "execution": {
     "iopub.execute_input": "2021-03-25T13:26:19.274844Z",
     "iopub.status.busy": "2021-03-25T13:26:19.274331Z",
     "iopub.status.idle": "2021-03-25T13:26:19.364709Z",
     "shell.execute_reply": "2021-03-25T13:26:19.362623Z"
    }
   },
   "outputs": [
    {
     "data": {
      "image/svg+xml": [
       "<?xml version=\"1.0\" encoding=\"UTF-8\" standalone=\"no\"?><svg xmlns=\"http://www.w3.org/2000/svg\" xmlns:xlink=\"http://www.w3.org/1999/xlink\" contentScriptType=\"application/ecmascript\" contentStyleType=\"text/css\" height=\"449px\" preserveAspectRatio=\"none\" style=\"width:510px;height:449px;\" version=\"1.1\" viewBox=\"0 0 510 449\" width=\"510px\" zoomAndPan=\"magnify\"><defs><filter height=\"300%\" id=\"fyo5b5pdgk6yl\" width=\"300%\" x=\"-1\" y=\"-1\"><feGaussianBlur result=\"blurOut\" stdDeviation=\"2.0\"/><feColorMatrix in=\"blurOut\" result=\"blurOut2\" type=\"matrix\" values=\"0 0 0 0 0 0 0 0 0 0 0 0 0 0 0 0 0 0 .4 0\"/><feOffset dx=\"4.0\" dy=\"4.0\" in=\"blurOut2\" result=\"blurOut3\"/><feBlend in=\"SourceGraphic\" in2=\"blurOut3\" mode=\"normal\"/></filter></defs><g><!--MD5=[fbc87193dbaf4d95561dea2c320d4a47]\n",
       "cluster E1--><a href=\"psysml:438e34af-3ce5-4e99-acf4-d3ecd205ea23\" target=\"_top\" title=\"psysml:438e34af-3ce5-4e99-acf4-d3ecd205ea23\" xlink:actuate=\"onRequest\" xlink:href=\"psysml:438e34af-3ce5-4e99-acf4-d3ecd205ea23\" xlink:show=\"new\" xlink:title=\"psysml:438e34af-3ce5-4e99-acf4-d3ecd205ea23\" xlink:type=\"simple\"><polygon fill=\"#FFFFFF\" filter=\"url(#fyo5b5pdgk6yl)\" points=\"16,6,156,6,163,28.2969,488,28.2969,488,437,16,437,16,6\" style=\"stroke: #000000; stroke-width: 1.5;\"/><line style=\"stroke: #000000; stroke-width: 1.5;\" x1=\"16\" x2=\"163\" y1=\"28.2969\" y2=\"28.2969\"/><text fill=\"#000000\" font-family=\"sans-serif\" font-size=\"14\" font-weight=\"bold\" lengthAdjust=\"spacingAndGlyphs\" textLength=\"134\" x=\"20\" y=\"20.9951\">DependencyTest</text></a><!--MD5=[e4f7fae6ed58524ba242bb0b0d3be6b7]\n",
       "cluster E2--><a href=\"psysml:33a226aa-95cf-4670-96e1-1bd6e94f796f\" target=\"_top\" title=\"psysml:33a226aa-95cf-4670-96e1-1bd6e94f796f\" xlink:actuate=\"onRequest\" xlink:href=\"psysml:33a226aa-95cf-4670-96e1-1bd6e94f796f\" xlink:show=\"new\" xlink:title=\"psysml:33a226aa-95cf-4670-96e1-1bd6e94f796f\" xlink:type=\"simple\"><polygon fill=\"#FFFFFF\" filter=\"url(#fyo5b5pdgk6yl)\" points=\"276,49,340,49,347,71.2969,464,71.2969,464,413,276,413,276,49\" style=\"stroke: #000000; stroke-width: 1.5;\"/><line style=\"stroke: #000000; stroke-width: 1.5;\" x1=\"276\" x2=\"347\" y1=\"71.2969\" y2=\"71.2969\"/><text fill=\"#000000\" font-family=\"sans-serif\" font-size=\"14\" font-weight=\"bold\" lengthAdjust=\"spacingAndGlyphs\" textLength=\"58\" x=\"280\" y=\"63.9951\">System</text></a><!--MD5=[60a26617385b1d2d0262a64233df1f8d]\n",
       "class E6--><a href=\"psysml:747ec202-6e4c-456d-855d-21470db0b7f2\" target=\"_top\" title=\"psysml:747ec202-6e4c-456d-855d-21470db0b7f2\" xlink:actuate=\"onRequest\" xlink:href=\"psysml:747ec202-6e4c-456d-855d-21470db0b7f2\" xlink:show=\"new\" xlink:title=\"psysml:747ec202-6e4c-456d-855d-21470db0b7f2\" xlink:type=\"simple\"><rect fill=\"#FEFECE\" filter=\"url(#fyo5b5pdgk6yl)\" height=\"45.9375\" id=\"E6\" rx=\"10\" ry=\"10\" style=\"stroke: #A80036; stroke-width: 1.5;\" width=\"97\" x=\"31.5\" y=\"217.5\"/><ellipse cx=\"46.5\" cy=\"236.4688\" fill=\"#FFA500\" rx=\"11\" ry=\"11\" style=\"stroke: #A80036; stroke-width: 1.0;\"/><path d=\"M42.375,238.3906 L42.375,230.5781 L44.8281,230.5781 L44.8281,239.0156 Q44.8281,239.9375 45.2969,240.4688 Q45.7813,241 46.6094,241 Q47.4531,241 47.9219,240.4688 Q48.3906,239.9375 48.3906,239.0156 L48.3906,230.5781 L50.8438,230.5781 L50.8438,238.3906 Q50.8438,240.9219 49.8438,242.0625 Q48.8438,243.2031 46.6094,243.2031 Q44.3906,243.2031 43.375,242.0625 Q42.375,240.9219 42.375,238.3906 Z \"/><text fill=\"#000000\" font-family=\"sans-serif\" font-size=\"12\" font-style=\"italic\" lengthAdjust=\"spacingAndGlyphs\" textLength=\"69\" x=\"58.5\" y=\"233.6387\">«attribute»</text><text fill=\"#000000\" font-family=\"sans-serif\" font-size=\"12\" lengthAdjust=\"spacingAndGlyphs\" textLength=\"6\" x=\"90\" y=\"247.6074\">x</text><line style=\"stroke: #A80036; stroke-width: 1.5;\" x1=\"32.5\" x2=\"127.5\" y1=\"255.4375\" y2=\"255.4375\"/></a><!--MD5=[2156ba9850f5573cc1fc38a6a4b2f02b]\n",
       "class E7--><a href=\"psysml:aee293b7-b915-4f4d-bf33-13d7af80ad07\" target=\"_top\" title=\"psysml:aee293b7-b915-4f4d-bf33-13d7af80ad07\" xlink:actuate=\"onRequest\" xlink:href=\"psysml:aee293b7-b915-4f4d-bf33-13d7af80ad07\" xlink:show=\"new\" xlink:title=\"psysml:aee293b7-b915-4f4d-bf33-13d7af80ad07\" xlink:type=\"simple\"><rect fill=\"#FEFECE\" filter=\"url(#fyo5b5pdgk6yl)\" height=\"45.9375\" id=\"E7\" rx=\"10\" ry=\"10\" style=\"stroke: #A80036; stroke-width: 1.5;\" width=\"97\" x=\"163.5\" y=\"217.5\"/><ellipse cx=\"178.5\" cy=\"236.4688\" fill=\"#FFA500\" rx=\"11\" ry=\"11\" style=\"stroke: #A80036; stroke-width: 1.0;\"/><path d=\"M174.375,238.3906 L174.375,230.5781 L176.8281,230.5781 L176.8281,239.0156 Q176.8281,239.9375 177.2969,240.4688 Q177.7813,241 178.6094,241 Q179.4531,241 179.9219,240.4688 Q180.3906,239.9375 180.3906,239.0156 L180.3906,230.5781 L182.8438,230.5781 L182.8438,238.3906 Q182.8438,240.9219 181.8438,242.0625 Q180.8438,243.2031 178.6094,243.2031 Q176.3906,243.2031 175.375,242.0625 Q174.375,240.9219 174.375,238.3906 Z \"/><text fill=\"#000000\" font-family=\"sans-serif\" font-size=\"12\" font-style=\"italic\" lengthAdjust=\"spacingAndGlyphs\" textLength=\"69\" x=\"190.5\" y=\"233.6387\">«attribute»</text><text fill=\"#000000\" font-family=\"sans-serif\" font-size=\"12\" lengthAdjust=\"spacingAndGlyphs\" textLength=\"6\" x=\"222\" y=\"247.6074\">y</text><line style=\"stroke: #A80036; stroke-width: 1.5;\" x1=\"164.5\" x2=\"259.5\" y1=\"255.4375\" y2=\"255.4375\"/></a><!--MD5=[b9389687b975829384b498ac4b7476b2]\n",
       "class E8--><a href=\"psysml:1c42907e-9ca4-4468-bbbb-1ea70701dab3\" target=\"_top\" title=\"psysml:1c42907e-9ca4-4468-bbbb-1ea70701dab3\" xlink:actuate=\"onRequest\" xlink:href=\"psysml:1c42907e-9ca4-4468-bbbb-1ea70701dab3\" xlink:show=\"new\" xlink:title=\"psysml:1c42907e-9ca4-4468-bbbb-1ea70701dab3\" xlink:type=\"simple\"><rect fill=\"#FEFECE\" filter=\"url(#fyo5b5pdgk6yl)\" height=\"45.9375\" id=\"E8\" rx=\"10\" ry=\"10\" style=\"stroke: #A80036; stroke-width: 1.5;\" width=\"97\" x=\"84.5\" y=\"87.5\"/><ellipse cx=\"99.5\" cy=\"106.4688\" fill=\"#FFA500\" rx=\"11\" ry=\"11\" style=\"stroke: #A80036; stroke-width: 1.0;\"/><path d=\"M95.375,108.3906 L95.375,100.5781 L97.8281,100.5781 L97.8281,109.0156 Q97.8281,109.9375 98.2969,110.4688 Q98.7813,111 99.6094,111 Q100.4531,111 100.9219,110.4688 Q101.3906,109.9375 101.3906,109.0156 L101.3906,100.5781 L103.8438,100.5781 L103.8438,108.3906 Q103.8438,110.9219 102.8438,112.0625 Q101.8438,113.2031 99.6094,113.2031 Q97.3906,113.2031 96.375,112.0625 Q95.375,110.9219 95.375,108.3906 Z \"/><text fill=\"#000000\" font-family=\"sans-serif\" font-size=\"12\" font-style=\"italic\" lengthAdjust=\"spacingAndGlyphs\" textLength=\"69\" x=\"111.5\" y=\"103.6387\">«attribute»</text><text fill=\"#000000\" font-family=\"sans-serif\" font-size=\"12\" lengthAdjust=\"spacingAndGlyphs\" textLength=\"5\" x=\"143.5\" y=\"117.6074\">z</text><line style=\"stroke: #A80036; stroke-width: 1.5;\" x1=\"85.5\" x2=\"180.5\" y1=\"125.4375\" y2=\"125.4375\"/></a><a href=\"psysml:add81eb6-248c-4298-8987-63cd174f8097\" target=\"_top\" title=\"psysml:add81eb6-248c-4298-8987-63cd174f8097\" xlink:actuate=\"onRequest\" xlink:href=\"psysml:add81eb6-248c-4298-8987-63cd174f8097\" xlink:show=\"new\" xlink:title=\"psysml:add81eb6-248c-4298-8987-63cd174f8097\" xlink:type=\"simple\"><polygon fill=\"#FFFFFF\" filter=\"url(#fyo5b5pdgk6yl)\" points=\"292,84,434,84,441,106.2969,448,106.2969,448,136.5938,292,136.5938,292,84\" style=\"stroke: #000000; stroke-width: 1.5;\"/><line style=\"stroke: #000000; stroke-width: 1.5;\" x1=\"292\" x2=\"441\" y1=\"106.2969\" y2=\"106.2969\"/><text fill=\"#000000\" font-family=\"sans-serif\" font-size=\"14\" font-weight=\"bold\" lengthAdjust=\"spacingAndGlyphs\" textLength=\"136\" x=\"296\" y=\"98.9951\">Application Layer</text></a><a href=\"psysml:95ba016d-ba70-4f40-a2b0-65410d9cce5b\" target=\"_top\" title=\"psysml:95ba016d-ba70-4f40-a2b0-65410d9cce5b\" xlink:actuate=\"onRequest\" xlink:href=\"psysml:95ba016d-ba70-4f40-a2b0-65410d9cce5b\" xlink:show=\"new\" xlink:title=\"psysml:95ba016d-ba70-4f40-a2b0-65410d9cce5b\" xlink:type=\"simple\"><polygon fill=\"#FFFFFF\" filter=\"url(#fyo5b5pdgk6yl)\" points=\"306,214,420,214,427,236.2969,434,236.2969,434,266.5938,306,266.5938,306,214\" style=\"stroke: #000000; stroke-width: 1.5;\"/><line style=\"stroke: #000000; stroke-width: 1.5;\" x1=\"306\" x2=\"427\" y1=\"236.2969\" y2=\"236.2969\"/><text fill=\"#000000\" font-family=\"sans-serif\" font-size=\"14\" font-weight=\"bold\" lengthAdjust=\"spacingAndGlyphs\" textLength=\"108\" x=\"310\" y=\"228.9951\">Service Layer</text></a><a href=\"psysml:ae80162e-06ca-4b24-a1f3-10c5d346ebc4\" target=\"_top\" title=\"psysml:ae80162e-06ca-4b24-a1f3-10c5d346ebc4\" xlink:actuate=\"onRequest\" xlink:href=\"psysml:ae80162e-06ca-4b24-a1f3-10c5d346ebc4\" xlink:show=\"new\" xlink:title=\"psysml:ae80162e-06ca-4b24-a1f3-10c5d346ebc4\" xlink:type=\"simple\"><polygon fill=\"#FFFFFF\" filter=\"url(#fyo5b5pdgk6yl)\" points=\"318,344,408,344,415,366.2969,422,366.2969,422,396.5938,318,396.5938,318,344\" style=\"stroke: #000000; stroke-width: 1.5;\"/><line style=\"stroke: #000000; stroke-width: 1.5;\" x1=\"318\" x2=\"415\" y1=\"366.2969\" y2=\"366.2969\"/><text fill=\"#000000\" font-family=\"sans-serif\" font-size=\"14\" font-weight=\"bold\" lengthAdjust=\"spacingAndGlyphs\" textLength=\"84\" x=\"322\" y=\"358.9951\">Data Layer</text></a><!--MD5=[af87c684e3b0d8be13c1a698a818ef1e]\n",
       "link E3 to E4--><a href=\"psysml:4c7b915e-320e-40c7-9399-584f1f84a9d7\" target=\"_top\" title=\"psysml:4c7b915e-320e-40c7-9399-584f1f84a9d7\" xlink:actuate=\"onRequest\" xlink:href=\"psysml:4c7b915e-320e-40c7-9399-584f1f84a9d7\" xlink:show=\"new\" xlink:title=\"psysml:4c7b915e-320e-40c7-9399-584f1f84a9d7\" xlink:type=\"simple\"><path d=\"M370,137.1 C370,156.8 370,184.22 370,205.73 \" fill=\"none\" id=\"E3-&gt;E4\" style=\"stroke: #A80036; stroke-width: 1.0; stroke-dasharray: 7.0,7.0;\"/><polygon fill=\"#A80036\" points=\"370,213.95,373,205.95,367,205.95,370,213.95\" style=\"stroke: #A80036; stroke-width: 1.0;\"/><text fill=\"#000000\" font-family=\"sans-serif\" font-size=\"13\" lengthAdjust=\"spacingAndGlyphs\" textLength=\"64\" x=\"371\" y=\"180.0669\">«depend»</text></a><!--MD5=[1b7591eae5389033d8d09a9d6721a717]\n",
       "link E4 to E5--><a href=\"psysml:9be59ee3-60f5-4004-bc3e-00c0f7693956\" target=\"_top\" title=\"psysml:9be59ee3-60f5-4004-bc3e-00c0f7693956\" xlink:actuate=\"onRequest\" xlink:href=\"psysml:9be59ee3-60f5-4004-bc3e-00c0f7693956\" xlink:show=\"new\" xlink:title=\"psysml:9be59ee3-60f5-4004-bc3e-00c0f7693956\" xlink:type=\"simple\"><path d=\"M370,267.1 C370,286.8 370,314.22 370,335.73 \" fill=\"none\" id=\"E4-&gt;E5\" style=\"stroke: #A80036; stroke-width: 1.0; stroke-dasharray: 7.0,7.0;\"/><polygon fill=\"#A80036\" points=\"370,343.95,373,335.95,367,335.95,370,343.95\" style=\"stroke: #A80036; stroke-width: 1.0;\"/><text fill=\"#000000\" font-family=\"sans-serif\" font-size=\"13\" lengthAdjust=\"spacingAndGlyphs\" textLength=\"64\" x=\"371\" y=\"310.0669\">«depend»</text></a><!--MD5=[c5e8897d989ce984f93528998a7150fe]\n",
       "link E8 to E6--><a href=\"psysml:80784242-98cb-449c-a51f-f2c7c1061d87\" target=\"_top\" title=\"psysml:80784242-98cb-449c-a51f-f2c7c1061d87\" xlink:actuate=\"onRequest\" xlink:href=\"psysml:80784242-98cb-449c-a51f-f2c7c1061d87\" xlink:show=\"new\" xlink:title=\"psysml:80784242-98cb-449c-a51f-f2c7c1061d87\" xlink:type=\"simple\"><path d=\"M106.44,133.76 C97.3,143.01 88.09,154.51 83,167 C77.6,180.23 76.4,195.98 76.73,209.41 \" fill=\"none\" id=\"E8-&gt;E6\" style=\"stroke: #A80036; stroke-width: 1.0; stroke-dasharray: 7.0,7.0;\"/><polygon fill=\"#A80036\" points=\"77.12,217.43,79.7306,209.2946,73.7375,209.584,77.12,217.43\" style=\"stroke: #A80036; stroke-width: 1.0;\"/><text fill=\"#000000\" font-family=\"sans-serif\" font-size=\"13\" lengthAdjust=\"spacingAndGlyphs\" textLength=\"64\" x=\"84\" y=\"180.0669\">«depend»</text></a><!--MD5=[bfa3c8b0d15052fdf50ae9310b491027]\n",
       "link E8 to E7--><a href=\"psysml:80784242-98cb-449c-a51f-f2c7c1061d87\" target=\"_top\" title=\"psysml:80784242-98cb-449c-a51f-f2c7c1061d87\" xlink:actuate=\"onRequest\" xlink:href=\"psysml:80784242-98cb-449c-a51f-f2c7c1061d87\" xlink:show=\"new\" xlink:title=\"psysml:80784242-98cb-449c-a51f-f2c7c1061d87\" xlink:type=\"simple\"><path d=\"M146.58,133.5 C159.69,154.75 179.63,187.05 194.05,210.41 \" fill=\"none\" id=\"E8-&gt;E7\" style=\"stroke: #A80036; stroke-width: 1.0; stroke-dasharray: 7.0,7.0;\"/><polygon fill=\"#A80036\" points=\"198.33,217.35,196.6785,208.9671,191.5737,212.1201,198.33,217.35\" style=\"stroke: #A80036; stroke-width: 1.0;\"/><text fill=\"#000000\" font-family=\"sans-serif\" font-size=\"13\" lengthAdjust=\"spacingAndGlyphs\" textLength=\"64\" x=\"178\" y=\"180.0669\">«depend»</text></a><!--MD5=[6034aab2394031c169369b8ebf51e88e]\n",
       "@startuml\r\n",
       " \r\n",
       "package \"DependencyTest\" as E1  [[psysml:438e34af-3ce5-4e99-acf4-d3ecd205ea23 ]]  {\r\n",
       "package \"System\" as E2  [[psysml:33a226aa-95cf-4670-96e1-1bd6e94f796f ]]  {\r\n",
       "package \"Application Layer\" as E3  [[psysml:add81eb6-248c-4298-8987-63cd174f8097 ]]  {\r\n",
       "}\r\n",
       "package \"Service Layer\" as E4  [[psysml:95ba016d-ba70-4f40-a2b0-65410d9cce5b ]]  {\r\n",
       "}\r\n",
       "package \"Data Layer\" as E5  [[psysml:ae80162e-06ca-4b24-a1f3-10c5d346ebc4 ]]  {\r\n",
       "}\r\n",
       "}\r\n",
       "comp usage \"x\" as E6  <<(U,orange)attribute>> [[psysml:747ec202-6e4c-456d-855d-21470db0b7f2 ]] {\r\n",
       "}\r\n",
       "comp usage \"y\" as E7  <<(U,orange)attribute>> [[psysml:aee293b7-b915-4f4d-bf33-13d7af80ad07 ]] {\r\n",
       "}\r\n",
       "comp usage \"z\" as E8  <<(U,orange)attribute>> [[psysml:1c42907e-9ca4-4468-bbbb-1ea70701dab3 ]] {\r\n",
       "}\r\n",
       "E3 ..>> E4 [[psysml:4c7b915e-320e-40c7-9399-584f1f84a9d7 ]] : <<depend>>\r\n",
       "E4 ..>> E5 [[psysml:9be59ee3-60f5-4004-bc3e-00c0f7693956 ]] : <<depend>>\r\n",
       "E8 ..>> E6 [[psysml:80784242-98cb-449c-a51f-f2c7c1061d87 ]] : <<depend>>\r\n",
       "E8 ..>> E7 [[psysml:80784242-98cb-449c-a51f-f2c7c1061d87 ]] : <<depend>>\r\n",
       "}\r\n",
       "@enduml\r\n",
       "\n",
       "PlantUML version 1.2020.13(Sat Jun 13 12:26:38 UTC 2020)\n",
       "(EPL source distribution)\n",
       "Java Runtime: OpenJDK Runtime Environment\n",
       "JVM: OpenJDK 64-Bit Server VM\n",
       "Default Encoding: UTF-8\n",
       "Language: en\n",
       "Country: null\n",
       "--></g></svg>"
      ]
     },
     "execution_count": 36,
     "metadata": {},
     "output_type": "execute_result"
    }
   ],
   "source": [
    "%viz --style=\"PLANTUML\" --view=\"MIXED\" \"DependencyTest\""
   ]
  },
  {
   "cell_type": "code",
   "execution_count": 37,
   "id": "dependent-disney",
   "metadata": {
    "execution": {
     "iopub.execute_input": "2021-03-25T13:26:19.415136Z",
     "iopub.status.busy": "2021-03-25T13:26:19.414457Z",
     "iopub.status.idle": "2021-03-25T13:26:19.510093Z",
     "shell.execute_reply": "2021-03-25T13:26:19.508017Z"
    }
   },
   "outputs": [
    {
     "data": {
      "image/svg+xml": [
       "<?xml version=\"1.0\" encoding=\"UTF-8\" standalone=\"no\"?><svg xmlns=\"http://www.w3.org/2000/svg\" xmlns:xlink=\"http://www.w3.org/1999/xlink\" contentScriptType=\"application/ecmascript\" contentStyleType=\"text/css\" height=\"449px\" preserveAspectRatio=\"none\" style=\"width:489px;height:449px;\" version=\"1.1\" viewBox=\"0 0 489 449\" width=\"489px\" zoomAndPan=\"magnify\"><defs/><g><!--MD5=[fbc87193dbaf4d95561dea2c320d4a47]\n",
       "cluster E1--><a href=\"psysml:438e34af-3ce5-4e99-acf4-d3ecd205ea23\" target=\"_top\" title=\"psysml:438e34af-3ce5-4e99-acf4-d3ecd205ea23\" xlink:actuate=\"onRequest\" xlink:href=\"psysml:438e34af-3ce5-4e99-acf4-d3ecd205ea23\" xlink:show=\"new\" xlink:title=\"psysml:438e34af-3ce5-4e99-acf4-d3ecd205ea23\" xlink:type=\"simple\"><polygon fill=\"#FFFFFF\" points=\"16,6,156,6,163,28.2969,467,28.2969,467,437,16,437,16,6\" style=\"stroke: #000000; stroke-width: 1.5;\"/><line style=\"stroke: #000000; stroke-width: 1.5;\" x1=\"16\" x2=\"163\" y1=\"28.2969\" y2=\"28.2969\"/><text fill=\"#000000\" font-family=\"sans-serif\" font-size=\"14\" font-weight=\"bold\" lengthAdjust=\"spacingAndGlyphs\" textLength=\"134\" x=\"20\" y=\"20.9951\">DependencyTest</text></a><!--MD5=[e4f7fae6ed58524ba242bb0b0d3be6b7]\n",
       "cluster E2--><a href=\"psysml:33a226aa-95cf-4670-96e1-1bd6e94f796f\" target=\"_top\" title=\"psysml:33a226aa-95cf-4670-96e1-1bd6e94f796f\" xlink:actuate=\"onRequest\" xlink:href=\"psysml:33a226aa-95cf-4670-96e1-1bd6e94f796f\" xlink:show=\"new\" xlink:title=\"psysml:33a226aa-95cf-4670-96e1-1bd6e94f796f\" xlink:type=\"simple\"><polygon fill=\"#FFFFFF\" points=\"255,49,319,49,326,71.2969,443,71.2969,443,413,255,413,255,49\" style=\"stroke: #000000; stroke-width: 1.5;\"/><line style=\"stroke: #000000; stroke-width: 1.5;\" x1=\"255\" x2=\"326\" y1=\"71.2969\" y2=\"71.2969\"/><text fill=\"#000000\" font-family=\"sans-serif\" font-size=\"14\" font-weight=\"bold\" lengthAdjust=\"spacingAndGlyphs\" textLength=\"58\" x=\"259\" y=\"63.9951\">System</text></a><!--MD5=[60a26617385b1d2d0262a64233df1f8d]\n",
       "class E6--><a href=\"psysml:747ec202-6e4c-456d-855d-21470db0b7f2\" target=\"_top\" title=\"psysml:747ec202-6e4c-456d-855d-21470db0b7f2\" xlink:actuate=\"onRequest\" xlink:href=\"psysml:747ec202-6e4c-456d-855d-21470db0b7f2\" xlink:show=\"new\" xlink:title=\"psysml:747ec202-6e4c-456d-855d-21470db0b7f2\" xlink:type=\"simple\"><rect fill=\"#FFFFFF\" height=\"45.9375\" id=\"E6\" rx=\"10\" ry=\"10\" style=\"stroke: #383838; stroke-width: 1.5;\" width=\"71\" x=\"32.5\" y=\"217.5\"/><text fill=\"#000000\" font-family=\"sans-serif\" font-size=\"12\" font-style=\"italic\" lengthAdjust=\"spacingAndGlyphs\" textLength=\"69\" x=\"33.5\" y=\"233.6387\">«attribute»</text><text fill=\"#000000\" font-family=\"sans-serif\" font-size=\"12\" lengthAdjust=\"spacingAndGlyphs\" textLength=\"6\" x=\"65\" y=\"247.6074\">x</text><line style=\"stroke: #383838; stroke-width: 1.5;\" x1=\"33.5\" x2=\"102.5\" y1=\"255.4375\" y2=\"255.4375\"/></a><!--MD5=[2156ba9850f5573cc1fc38a6a4b2f02b]\n",
       "class E7--><a href=\"psysml:aee293b7-b915-4f4d-bf33-13d7af80ad07\" target=\"_top\" title=\"psysml:aee293b7-b915-4f4d-bf33-13d7af80ad07\" xlink:actuate=\"onRequest\" xlink:href=\"psysml:aee293b7-b915-4f4d-bf33-13d7af80ad07\" xlink:show=\"new\" xlink:title=\"psysml:aee293b7-b915-4f4d-bf33-13d7af80ad07\" xlink:type=\"simple\"><rect fill=\"#FFFFFF\" height=\"45.9375\" id=\"E7\" rx=\"10\" ry=\"10\" style=\"stroke: #383838; stroke-width: 1.5;\" width=\"71\" x=\"138.5\" y=\"217.5\"/><text fill=\"#000000\" font-family=\"sans-serif\" font-size=\"12\" font-style=\"italic\" lengthAdjust=\"spacingAndGlyphs\" textLength=\"69\" x=\"139.5\" y=\"233.6387\">«attribute»</text><text fill=\"#000000\" font-family=\"sans-serif\" font-size=\"12\" lengthAdjust=\"spacingAndGlyphs\" textLength=\"6\" x=\"171\" y=\"247.6074\">y</text><line style=\"stroke: #383838; stroke-width: 1.5;\" x1=\"139.5\" x2=\"208.5\" y1=\"255.4375\" y2=\"255.4375\"/></a><!--MD5=[b9389687b975829384b498ac4b7476b2]\n",
       "class E8--><a href=\"psysml:1c42907e-9ca4-4468-bbbb-1ea70701dab3\" target=\"_top\" title=\"psysml:1c42907e-9ca4-4468-bbbb-1ea70701dab3\" xlink:actuate=\"onRequest\" xlink:href=\"psysml:1c42907e-9ca4-4468-bbbb-1ea70701dab3\" xlink:show=\"new\" xlink:title=\"psysml:1c42907e-9ca4-4468-bbbb-1ea70701dab3\" xlink:type=\"simple\"><rect fill=\"#FFFFFF\" height=\"45.9375\" id=\"E8\" rx=\"10\" ry=\"10\" style=\"stroke: #383838; stroke-width: 1.5;\" width=\"71\" x=\"84.5\" y=\"87.5\"/><text fill=\"#000000\" font-family=\"sans-serif\" font-size=\"12\" font-style=\"italic\" lengthAdjust=\"spacingAndGlyphs\" textLength=\"69\" x=\"85.5\" y=\"103.6387\">«attribute»</text><text fill=\"#000000\" font-family=\"sans-serif\" font-size=\"12\" lengthAdjust=\"spacingAndGlyphs\" textLength=\"5\" x=\"117.5\" y=\"117.6074\">z</text><line style=\"stroke: #383838; stroke-width: 1.5;\" x1=\"85.5\" x2=\"154.5\" y1=\"125.4375\" y2=\"125.4375\"/></a><a href=\"psysml:add81eb6-248c-4298-8987-63cd174f8097\" target=\"_top\" title=\"psysml:add81eb6-248c-4298-8987-63cd174f8097\" xlink:actuate=\"onRequest\" xlink:href=\"psysml:add81eb6-248c-4298-8987-63cd174f8097\" xlink:show=\"new\" xlink:title=\"psysml:add81eb6-248c-4298-8987-63cd174f8097\" xlink:type=\"simple\"><polygon fill=\"#FFFFFF\" points=\"271,84,413,84,420,106.2969,427,106.2969,427,136.5938,271,136.5938,271,84\" style=\"stroke: #000000; stroke-width: 1.5;\"/><line style=\"stroke: #000000; stroke-width: 1.5;\" x1=\"271\" x2=\"420\" y1=\"106.2969\" y2=\"106.2969\"/><text fill=\"#000000\" font-family=\"sans-serif\" font-size=\"14\" font-weight=\"bold\" lengthAdjust=\"spacingAndGlyphs\" textLength=\"136\" x=\"275\" y=\"98.9951\">Application Layer</text></a><a href=\"psysml:95ba016d-ba70-4f40-a2b0-65410d9cce5b\" target=\"_top\" title=\"psysml:95ba016d-ba70-4f40-a2b0-65410d9cce5b\" xlink:actuate=\"onRequest\" xlink:href=\"psysml:95ba016d-ba70-4f40-a2b0-65410d9cce5b\" xlink:show=\"new\" xlink:title=\"psysml:95ba016d-ba70-4f40-a2b0-65410d9cce5b\" xlink:type=\"simple\"><polygon fill=\"#FFFFFF\" points=\"285,214,399,214,406,236.2969,413,236.2969,413,266.5938,285,266.5938,285,214\" style=\"stroke: #000000; stroke-width: 1.5;\"/><line style=\"stroke: #000000; stroke-width: 1.5;\" x1=\"285\" x2=\"406\" y1=\"236.2969\" y2=\"236.2969\"/><text fill=\"#000000\" font-family=\"sans-serif\" font-size=\"14\" font-weight=\"bold\" lengthAdjust=\"spacingAndGlyphs\" textLength=\"108\" x=\"289\" y=\"228.9951\">Service Layer</text></a><a href=\"psysml:ae80162e-06ca-4b24-a1f3-10c5d346ebc4\" target=\"_top\" title=\"psysml:ae80162e-06ca-4b24-a1f3-10c5d346ebc4\" xlink:actuate=\"onRequest\" xlink:href=\"psysml:ae80162e-06ca-4b24-a1f3-10c5d346ebc4\" xlink:show=\"new\" xlink:title=\"psysml:ae80162e-06ca-4b24-a1f3-10c5d346ebc4\" xlink:type=\"simple\"><polygon fill=\"#FFFFFF\" points=\"297,344,387,344,394,366.2969,401,366.2969,401,396.5938,297,396.5938,297,344\" style=\"stroke: #000000; stroke-width: 1.5;\"/><line style=\"stroke: #000000; stroke-width: 1.5;\" x1=\"297\" x2=\"394\" y1=\"366.2969\" y2=\"366.2969\"/><text fill=\"#000000\" font-family=\"sans-serif\" font-size=\"14\" font-weight=\"bold\" lengthAdjust=\"spacingAndGlyphs\" textLength=\"84\" x=\"301\" y=\"358.9951\">Data Layer</text></a><!--MD5=[af87c684e3b0d8be13c1a698a818ef1e]\n",
       "link E3 to E4--><a href=\"psysml:4c7b915e-320e-40c7-9399-584f1f84a9d7\" target=\"_top\" title=\"psysml:4c7b915e-320e-40c7-9399-584f1f84a9d7\" xlink:actuate=\"onRequest\" xlink:href=\"psysml:4c7b915e-320e-40c7-9399-584f1f84a9d7\" xlink:show=\"new\" xlink:title=\"psysml:4c7b915e-320e-40c7-9399-584f1f84a9d7\" xlink:type=\"simple\"><path d=\"M349,137.1 C349,156.8 349,184.22 349,205.73 \" fill=\"none\" id=\"E3-&gt;E4\" style=\"stroke: #383838; stroke-width: 1.0; stroke-dasharray: 7.0,7.0;\"/><polygon fill=\"#383838\" points=\"349,213.95,352,205.95,346,205.95,349,213.95\" style=\"stroke: #383838; stroke-width: 1.0;\"/><text fill=\"#000000\" font-family=\"sans-serif\" font-size=\"13\" lengthAdjust=\"spacingAndGlyphs\" textLength=\"64\" x=\"350\" y=\"180.0669\">«depend»</text></a><!--MD5=[1b7591eae5389033d8d09a9d6721a717]\n",
       "link E4 to E5--><a href=\"psysml:9be59ee3-60f5-4004-bc3e-00c0f7693956\" target=\"_top\" title=\"psysml:9be59ee3-60f5-4004-bc3e-00c0f7693956\" xlink:actuate=\"onRequest\" xlink:href=\"psysml:9be59ee3-60f5-4004-bc3e-00c0f7693956\" xlink:show=\"new\" xlink:title=\"psysml:9be59ee3-60f5-4004-bc3e-00c0f7693956\" xlink:type=\"simple\"><path d=\"M349,267.1 C349,286.8 349,314.22 349,335.73 \" fill=\"none\" id=\"E4-&gt;E5\" style=\"stroke: #383838; stroke-width: 1.0; stroke-dasharray: 7.0,7.0;\"/><polygon fill=\"#383838\" points=\"349,343.95,352,335.95,346,335.95,349,343.95\" style=\"stroke: #383838; stroke-width: 1.0;\"/><text fill=\"#000000\" font-family=\"sans-serif\" font-size=\"13\" lengthAdjust=\"spacingAndGlyphs\" textLength=\"64\" x=\"350\" y=\"310.0669\">«depend»</text></a><!--MD5=[c5e8897d989ce984f93528998a7150fe]\n",
       "link E8 to E6--><a href=\"psysml:80784242-98cb-449c-a51f-f2c7c1061d87\" target=\"_top\" title=\"psysml:80784242-98cb-449c-a51f-f2c7c1061d87\" xlink:actuate=\"onRequest\" xlink:href=\"psysml:80784242-98cb-449c-a51f-f2c7c1061d87\" xlink:show=\"new\" xlink:title=\"psysml:80784242-98cb-449c-a51f-f2c7c1061d87\" xlink:type=\"simple\"><path d=\"M89.42,133.6 C79.35,142.68 69.37,154.11 64,167 C58.5,180.2 58.66,195.94 60.54,209.38 \" fill=\"none\" id=\"E8-&gt;E6\" style=\"stroke: #383838; stroke-width: 1.0; stroke-dasharray: 7.0,7.0;\"/><polygon fill=\"#383838\" points=\"61.9,217.4,63.517,209.0104,57.6018,210.0159,61.9,217.4\" style=\"stroke: #383838; stroke-width: 1.0;\"/><text fill=\"#000000\" font-family=\"sans-serif\" font-size=\"13\" lengthAdjust=\"spacingAndGlyphs\" textLength=\"64\" x=\"65\" y=\"180.0669\">«depend»</text></a><!--MD5=[bfa3c8b0d15052fdf50ae9310b491027]\n",
       "link E8 to E7--><a href=\"psysml:80784242-98cb-449c-a51f-f2c7c1061d87\" target=\"_top\" title=\"psysml:80784242-98cb-449c-a51f-f2c7c1061d87\" xlink:actuate=\"onRequest\" xlink:href=\"psysml:80784242-98cb-449c-a51f-f2c7c1061d87\" xlink:show=\"new\" xlink:title=\"psysml:80784242-98cb-449c-a51f-f2c7c1061d87\" xlink:type=\"simple\"><path d=\"M129.28,133.5 C138.17,154.57 151.64,186.5 161.47,209.81 \" fill=\"none\" id=\"E8-&gt;E7\" style=\"stroke: #383838; stroke-width: 1.0; stroke-dasharray: 7.0,7.0;\"/><polygon fill=\"#383838\" points=\"164.66,217.35,164.3241,208.8126,158.7933,211.1385,164.66,217.35\" style=\"stroke: #383838; stroke-width: 1.0;\"/><text fill=\"#000000\" font-family=\"sans-serif\" font-size=\"13\" lengthAdjust=\"spacingAndGlyphs\" textLength=\"64\" x=\"151\" y=\"180.0669\">«depend»</text></a><!--MD5=[b97d98428df21037451298b8b6e1f35c]\n",
       "@startuml\r\n",
       "skinparam monochrome true\r\n",
       "skinparam classbackgroundcolor white\r\n",
       "skinparam shadowing false\r\n",
       "skinparam wrapWidth 300\r\n",
       "hide circle\r\n",
       "\r\n",
       "package \"DependencyTest\" as E1  [[psysml:438e34af-3ce5-4e99-acf4-d3ecd205ea23 ]]  {\r\n",
       "package \"System\" as E2  [[psysml:33a226aa-95cf-4670-96e1-1bd6e94f796f ]]  {\r\n",
       "package \"Application Layer\" as E3  [[psysml:add81eb6-248c-4298-8987-63cd174f8097 ]]  {\r\n",
       "}\r\n",
       "package \"Service Layer\" as E4  [[psysml:95ba016d-ba70-4f40-a2b0-65410d9cce5b ]]  {\r\n",
       "}\r\n",
       "package \"Data Layer\" as E5  [[psysml:ae80162e-06ca-4b24-a1f3-10c5d346ebc4 ]]  {\r\n",
       "}\r\n",
       "}\r\n",
       "comp usage \"x\" as E6  <<(T,blue)attribute>> [[psysml:747ec202-6e4c-456d-855d-21470db0b7f2 ]] {\r\n",
       "}\r\n",
       "comp usage \"y\" as E7  <<(T,blue)attribute>> [[psysml:aee293b7-b915-4f4d-bf33-13d7af80ad07 ]] {\r\n",
       "}\r\n",
       "comp usage \"z\" as E8  <<(T,blue)attribute>> [[psysml:1c42907e-9ca4-4468-bbbb-1ea70701dab3 ]] {\r\n",
       "}\r\n",
       "E3 ..>> E4 [[psysml:4c7b915e-320e-40c7-9399-584f1f84a9d7 ]] : <<depend>>\r\n",
       "E4 ..>> E5 [[psysml:9be59ee3-60f5-4004-bc3e-00c0f7693956 ]] : <<depend>>\r\n",
       "E8 ..>> E6 [[psysml:80784242-98cb-449c-a51f-f2c7c1061d87 ]] : <<depend>>\r\n",
       "E8 ..>> E7 [[psysml:80784242-98cb-449c-a51f-f2c7c1061d87 ]] : <<depend>>\r\n",
       "}\r\n",
       "@enduml\r\n",
       "\n",
       "PlantUML version 1.2020.13(Sat Jun 13 12:26:38 UTC 2020)\n",
       "(EPL source distribution)\n",
       "Java Runtime: OpenJDK Runtime Environment\n",
       "JVM: OpenJDK 64-Bit Server VM\n",
       "Default Encoding: UTF-8\n",
       "Language: en\n",
       "Country: null\n",
       "--></g></svg>"
      ]
     },
     "execution_count": 37,
     "metadata": {},
     "output_type": "execute_result"
    }
   ],
   "source": [
    "%viz --style=\"DEFAULT\" --view=\"Default\" \"DependencyTest\""
   ]
  },
  {
   "cell_type": "code",
   "execution_count": 38,
   "id": "noted-joyce",
   "metadata": {
    "execution": {
     "iopub.execute_input": "2021-03-25T13:26:19.561608Z",
     "iopub.status.busy": "2021-03-25T13:26:19.560888Z",
     "iopub.status.idle": "2021-03-25T13:26:19.665832Z",
     "shell.execute_reply": "2021-03-25T13:26:19.664826Z"
    }
   },
   "outputs": [
    {
     "data": {
      "image/svg+xml": [
       "<?xml version=\"1.0\" encoding=\"UTF-8\" standalone=\"no\"?><svg xmlns=\"http://www.w3.org/2000/svg\" xmlns:xlink=\"http://www.w3.org/1999/xlink\" contentScriptType=\"application/ecmascript\" contentStyleType=\"text/css\" height=\"449px\" preserveAspectRatio=\"none\" style=\"width:489px;height:449px;\" version=\"1.1\" viewBox=\"0 0 489 449\" width=\"489px\" zoomAndPan=\"magnify\"><defs/><g><!--MD5=[fbc87193dbaf4d95561dea2c320d4a47]\n",
       "cluster E1--><a href=\"psysml:438e34af-3ce5-4e99-acf4-d3ecd205ea23\" target=\"_top\" title=\"psysml:438e34af-3ce5-4e99-acf4-d3ecd205ea23\" xlink:actuate=\"onRequest\" xlink:href=\"psysml:438e34af-3ce5-4e99-acf4-d3ecd205ea23\" xlink:show=\"new\" xlink:title=\"psysml:438e34af-3ce5-4e99-acf4-d3ecd205ea23\" xlink:type=\"simple\"><polygon fill=\"#FFFFFF\" points=\"16,6,156,6,163,28.2969,467,28.2969,467,437,16,437,16,6\" style=\"stroke: #000000; stroke-width: 1.5;\"/><line style=\"stroke: #000000; stroke-width: 1.5;\" x1=\"16\" x2=\"163\" y1=\"28.2969\" y2=\"28.2969\"/><text fill=\"#000000\" font-family=\"sans-serif\" font-size=\"14\" font-weight=\"bold\" lengthAdjust=\"spacingAndGlyphs\" textLength=\"134\" x=\"20\" y=\"20.9951\">DependencyTest</text></a><!--MD5=[e4f7fae6ed58524ba242bb0b0d3be6b7]\n",
       "cluster E2--><a href=\"psysml:33a226aa-95cf-4670-96e1-1bd6e94f796f\" target=\"_top\" title=\"psysml:33a226aa-95cf-4670-96e1-1bd6e94f796f\" xlink:actuate=\"onRequest\" xlink:href=\"psysml:33a226aa-95cf-4670-96e1-1bd6e94f796f\" xlink:show=\"new\" xlink:title=\"psysml:33a226aa-95cf-4670-96e1-1bd6e94f796f\" xlink:type=\"simple\"><polygon fill=\"#FFFFFF\" points=\"255,49,319,49,326,71.2969,443,71.2969,443,413,255,413,255,49\" style=\"stroke: #000000; stroke-width: 1.5;\"/><line style=\"stroke: #000000; stroke-width: 1.5;\" x1=\"255\" x2=\"326\" y1=\"71.2969\" y2=\"71.2969\"/><text fill=\"#000000\" font-family=\"sans-serif\" font-size=\"14\" font-weight=\"bold\" lengthAdjust=\"spacingAndGlyphs\" textLength=\"58\" x=\"259\" y=\"63.9951\">System</text></a><!--MD5=[60a26617385b1d2d0262a64233df1f8d]\n",
       "class E6--><a href=\"psysml:747ec202-6e4c-456d-855d-21470db0b7f2\" target=\"_top\" title=\"psysml:747ec202-6e4c-456d-855d-21470db0b7f2\" xlink:actuate=\"onRequest\" xlink:href=\"psysml:747ec202-6e4c-456d-855d-21470db0b7f2\" xlink:show=\"new\" xlink:title=\"psysml:747ec202-6e4c-456d-855d-21470db0b7f2\" xlink:type=\"simple\"><rect fill=\"#FFFFFF\" height=\"45.9375\" id=\"E6\" rx=\"10\" ry=\"10\" style=\"stroke: #383838; stroke-width: 1.5;\" width=\"71\" x=\"32.5\" y=\"217.5\"/><text fill=\"#000000\" font-family=\"sans-serif\" font-size=\"12\" font-style=\"italic\" lengthAdjust=\"spacingAndGlyphs\" textLength=\"69\" x=\"33.5\" y=\"233.6387\">«attribute»</text><text fill=\"#000000\" font-family=\"sans-serif\" font-size=\"12\" lengthAdjust=\"spacingAndGlyphs\" textLength=\"6\" x=\"65\" y=\"247.6074\">x</text><line style=\"stroke: #383838; stroke-width: 1.5;\" x1=\"33.5\" x2=\"102.5\" y1=\"255.4375\" y2=\"255.4375\"/></a><!--MD5=[2156ba9850f5573cc1fc38a6a4b2f02b]\n",
       "class E7--><a href=\"psysml:aee293b7-b915-4f4d-bf33-13d7af80ad07\" target=\"_top\" title=\"psysml:aee293b7-b915-4f4d-bf33-13d7af80ad07\" xlink:actuate=\"onRequest\" xlink:href=\"psysml:aee293b7-b915-4f4d-bf33-13d7af80ad07\" xlink:show=\"new\" xlink:title=\"psysml:aee293b7-b915-4f4d-bf33-13d7af80ad07\" xlink:type=\"simple\"><rect fill=\"#FFFFFF\" height=\"45.9375\" id=\"E7\" rx=\"10\" ry=\"10\" style=\"stroke: #383838; stroke-width: 1.5;\" width=\"71\" x=\"138.5\" y=\"217.5\"/><text fill=\"#000000\" font-family=\"sans-serif\" font-size=\"12\" font-style=\"italic\" lengthAdjust=\"spacingAndGlyphs\" textLength=\"69\" x=\"139.5\" y=\"233.6387\">«attribute»</text><text fill=\"#000000\" font-family=\"sans-serif\" font-size=\"12\" lengthAdjust=\"spacingAndGlyphs\" textLength=\"6\" x=\"171\" y=\"247.6074\">y</text><line style=\"stroke: #383838; stroke-width: 1.5;\" x1=\"139.5\" x2=\"208.5\" y1=\"255.4375\" y2=\"255.4375\"/></a><!--MD5=[b9389687b975829384b498ac4b7476b2]\n",
       "class E8--><a href=\"psysml:1c42907e-9ca4-4468-bbbb-1ea70701dab3\" target=\"_top\" title=\"psysml:1c42907e-9ca4-4468-bbbb-1ea70701dab3\" xlink:actuate=\"onRequest\" xlink:href=\"psysml:1c42907e-9ca4-4468-bbbb-1ea70701dab3\" xlink:show=\"new\" xlink:title=\"psysml:1c42907e-9ca4-4468-bbbb-1ea70701dab3\" xlink:type=\"simple\"><rect fill=\"#FFFFFF\" height=\"45.9375\" id=\"E8\" rx=\"10\" ry=\"10\" style=\"stroke: #383838; stroke-width: 1.5;\" width=\"71\" x=\"84.5\" y=\"87.5\"/><text fill=\"#000000\" font-family=\"sans-serif\" font-size=\"12\" font-style=\"italic\" lengthAdjust=\"spacingAndGlyphs\" textLength=\"69\" x=\"85.5\" y=\"103.6387\">«attribute»</text><text fill=\"#000000\" font-family=\"sans-serif\" font-size=\"12\" lengthAdjust=\"spacingAndGlyphs\" textLength=\"5\" x=\"117.5\" y=\"117.6074\">z</text><line style=\"stroke: #383838; stroke-width: 1.5;\" x1=\"85.5\" x2=\"154.5\" y1=\"125.4375\" y2=\"125.4375\"/></a><a href=\"psysml:add81eb6-248c-4298-8987-63cd174f8097\" target=\"_top\" title=\"psysml:add81eb6-248c-4298-8987-63cd174f8097\" xlink:actuate=\"onRequest\" xlink:href=\"psysml:add81eb6-248c-4298-8987-63cd174f8097\" xlink:show=\"new\" xlink:title=\"psysml:add81eb6-248c-4298-8987-63cd174f8097\" xlink:type=\"simple\"><polygon fill=\"#FFFFFF\" points=\"271,84,413,84,420,106.2969,427,106.2969,427,136.5938,271,136.5938,271,84\" style=\"stroke: #000000; stroke-width: 1.5;\"/><line style=\"stroke: #000000; stroke-width: 1.5;\" x1=\"271\" x2=\"420\" y1=\"106.2969\" y2=\"106.2969\"/><text fill=\"#000000\" font-family=\"sans-serif\" font-size=\"14\" font-weight=\"bold\" lengthAdjust=\"spacingAndGlyphs\" textLength=\"136\" x=\"275\" y=\"98.9951\">Application Layer</text></a><a href=\"psysml:95ba016d-ba70-4f40-a2b0-65410d9cce5b\" target=\"_top\" title=\"psysml:95ba016d-ba70-4f40-a2b0-65410d9cce5b\" xlink:actuate=\"onRequest\" xlink:href=\"psysml:95ba016d-ba70-4f40-a2b0-65410d9cce5b\" xlink:show=\"new\" xlink:title=\"psysml:95ba016d-ba70-4f40-a2b0-65410d9cce5b\" xlink:type=\"simple\"><polygon fill=\"#FFFFFF\" points=\"285,214,399,214,406,236.2969,413,236.2969,413,266.5938,285,266.5938,285,214\" style=\"stroke: #000000; stroke-width: 1.5;\"/><line style=\"stroke: #000000; stroke-width: 1.5;\" x1=\"285\" x2=\"406\" y1=\"236.2969\" y2=\"236.2969\"/><text fill=\"#000000\" font-family=\"sans-serif\" font-size=\"14\" font-weight=\"bold\" lengthAdjust=\"spacingAndGlyphs\" textLength=\"108\" x=\"289\" y=\"228.9951\">Service Layer</text></a><a href=\"psysml:ae80162e-06ca-4b24-a1f3-10c5d346ebc4\" target=\"_top\" title=\"psysml:ae80162e-06ca-4b24-a1f3-10c5d346ebc4\" xlink:actuate=\"onRequest\" xlink:href=\"psysml:ae80162e-06ca-4b24-a1f3-10c5d346ebc4\" xlink:show=\"new\" xlink:title=\"psysml:ae80162e-06ca-4b24-a1f3-10c5d346ebc4\" xlink:type=\"simple\"><polygon fill=\"#FFFFFF\" points=\"297,344,387,344,394,366.2969,401,366.2969,401,396.5938,297,396.5938,297,344\" style=\"stroke: #000000; stroke-width: 1.5;\"/><line style=\"stroke: #000000; stroke-width: 1.5;\" x1=\"297\" x2=\"394\" y1=\"366.2969\" y2=\"366.2969\"/><text fill=\"#000000\" font-family=\"sans-serif\" font-size=\"14\" font-weight=\"bold\" lengthAdjust=\"spacingAndGlyphs\" textLength=\"84\" x=\"301\" y=\"358.9951\">Data Layer</text></a><!--MD5=[af87c684e3b0d8be13c1a698a818ef1e]\n",
       "link E3 to E4--><a href=\"psysml:4c7b915e-320e-40c7-9399-584f1f84a9d7\" target=\"_top\" title=\"psysml:4c7b915e-320e-40c7-9399-584f1f84a9d7\" xlink:actuate=\"onRequest\" xlink:href=\"psysml:4c7b915e-320e-40c7-9399-584f1f84a9d7\" xlink:show=\"new\" xlink:title=\"psysml:4c7b915e-320e-40c7-9399-584f1f84a9d7\" xlink:type=\"simple\"><path d=\"M349,137.1 C349,156.8 349,184.22 349,205.73 \" fill=\"none\" id=\"E3-&gt;E4\" style=\"stroke: #383838; stroke-width: 1.0; stroke-dasharray: 7.0,7.0;\"/><polygon fill=\"#383838\" points=\"349,213.95,352,205.95,346,205.95,349,213.95\" style=\"stroke: #383838; stroke-width: 1.0;\"/><text fill=\"#000000\" font-family=\"sans-serif\" font-size=\"13\" lengthAdjust=\"spacingAndGlyphs\" textLength=\"64\" x=\"350\" y=\"180.0669\">«depend»</text></a><!--MD5=[1b7591eae5389033d8d09a9d6721a717]\n",
       "link E4 to E5--><a href=\"psysml:9be59ee3-60f5-4004-bc3e-00c0f7693956\" target=\"_top\" title=\"psysml:9be59ee3-60f5-4004-bc3e-00c0f7693956\" xlink:actuate=\"onRequest\" xlink:href=\"psysml:9be59ee3-60f5-4004-bc3e-00c0f7693956\" xlink:show=\"new\" xlink:title=\"psysml:9be59ee3-60f5-4004-bc3e-00c0f7693956\" xlink:type=\"simple\"><path d=\"M349,267.1 C349,286.8 349,314.22 349,335.73 \" fill=\"none\" id=\"E4-&gt;E5\" style=\"stroke: #383838; stroke-width: 1.0; stroke-dasharray: 7.0,7.0;\"/><polygon fill=\"#383838\" points=\"349,343.95,352,335.95,346,335.95,349,343.95\" style=\"stroke: #383838; stroke-width: 1.0;\"/><text fill=\"#000000\" font-family=\"sans-serif\" font-size=\"13\" lengthAdjust=\"spacingAndGlyphs\" textLength=\"64\" x=\"350\" y=\"310.0669\">«depend»</text></a><!--MD5=[c5e8897d989ce984f93528998a7150fe]\n",
       "link E8 to E6--><a href=\"psysml:80784242-98cb-449c-a51f-f2c7c1061d87\" target=\"_top\" title=\"psysml:80784242-98cb-449c-a51f-f2c7c1061d87\" xlink:actuate=\"onRequest\" xlink:href=\"psysml:80784242-98cb-449c-a51f-f2c7c1061d87\" xlink:show=\"new\" xlink:title=\"psysml:80784242-98cb-449c-a51f-f2c7c1061d87\" xlink:type=\"simple\"><path d=\"M89.42,133.6 C79.35,142.68 69.37,154.11 64,167 C58.5,180.2 58.66,195.94 60.54,209.38 \" fill=\"none\" id=\"E8-&gt;E6\" style=\"stroke: #383838; stroke-width: 1.0; stroke-dasharray: 7.0,7.0;\"/><polygon fill=\"#383838\" points=\"61.9,217.4,63.517,209.0104,57.6018,210.0159,61.9,217.4\" style=\"stroke: #383838; stroke-width: 1.0;\"/><text fill=\"#000000\" font-family=\"sans-serif\" font-size=\"13\" lengthAdjust=\"spacingAndGlyphs\" textLength=\"64\" x=\"65\" y=\"180.0669\">«depend»</text></a><!--MD5=[bfa3c8b0d15052fdf50ae9310b491027]\n",
       "link E8 to E7--><a href=\"psysml:80784242-98cb-449c-a51f-f2c7c1061d87\" target=\"_top\" title=\"psysml:80784242-98cb-449c-a51f-f2c7c1061d87\" xlink:actuate=\"onRequest\" xlink:href=\"psysml:80784242-98cb-449c-a51f-f2c7c1061d87\" xlink:show=\"new\" xlink:title=\"psysml:80784242-98cb-449c-a51f-f2c7c1061d87\" xlink:type=\"simple\"><path d=\"M129.28,133.5 C138.17,154.57 151.64,186.5 161.47,209.81 \" fill=\"none\" id=\"E8-&gt;E7\" style=\"stroke: #383838; stroke-width: 1.0; stroke-dasharray: 7.0,7.0;\"/><polygon fill=\"#383838\" points=\"164.66,217.35,164.3241,208.8126,158.7933,211.1385,164.66,217.35\" style=\"stroke: #383838; stroke-width: 1.0;\"/><text fill=\"#000000\" font-family=\"sans-serif\" font-size=\"13\" lengthAdjust=\"spacingAndGlyphs\" textLength=\"64\" x=\"151\" y=\"180.0669\">«depend»</text></a><!--MD5=[b97d98428df21037451298b8b6e1f35c]\n",
       "@startuml\r\n",
       "skinparam monochrome true\r\n",
       "skinparam classbackgroundcolor white\r\n",
       "skinparam shadowing false\r\n",
       "skinparam wrapWidth 300\r\n",
       "hide circle\r\n",
       "\r\n",
       "package \"DependencyTest\" as E1  [[psysml:438e34af-3ce5-4e99-acf4-d3ecd205ea23 ]]  {\r\n",
       "package \"System\" as E2  [[psysml:33a226aa-95cf-4670-96e1-1bd6e94f796f ]]  {\r\n",
       "package \"Application Layer\" as E3  [[psysml:add81eb6-248c-4298-8987-63cd174f8097 ]]  {\r\n",
       "}\r\n",
       "package \"Service Layer\" as E4  [[psysml:95ba016d-ba70-4f40-a2b0-65410d9cce5b ]]  {\r\n",
       "}\r\n",
       "package \"Data Layer\" as E5  [[psysml:ae80162e-06ca-4b24-a1f3-10c5d346ebc4 ]]  {\r\n",
       "}\r\n",
       "}\r\n",
       "comp usage \"x\" as E6  <<(T,blue)attribute>> [[psysml:747ec202-6e4c-456d-855d-21470db0b7f2 ]] {\r\n",
       "}\r\n",
       "comp usage \"y\" as E7  <<(T,blue)attribute>> [[psysml:aee293b7-b915-4f4d-bf33-13d7af80ad07 ]] {\r\n",
       "}\r\n",
       "comp usage \"z\" as E8  <<(T,blue)attribute>> [[psysml:1c42907e-9ca4-4468-bbbb-1ea70701dab3 ]] {\r\n",
       "}\r\n",
       "E3 ..>> E4 [[psysml:4c7b915e-320e-40c7-9399-584f1f84a9d7 ]] : <<depend>>\r\n",
       "E4 ..>> E5 [[psysml:9be59ee3-60f5-4004-bc3e-00c0f7693956 ]] : <<depend>>\r\n",
       "E8 ..>> E6 [[psysml:80784242-98cb-449c-a51f-f2c7c1061d87 ]] : <<depend>>\r\n",
       "E8 ..>> E7 [[psysml:80784242-98cb-449c-a51f-f2c7c1061d87 ]] : <<depend>>\r\n",
       "}\r\n",
       "@enduml\r\n",
       "\n",
       "PlantUML version 1.2020.13(Sat Jun 13 12:26:38 UTC 2020)\n",
       "(EPL source distribution)\n",
       "Java Runtime: OpenJDK Runtime Environment\n",
       "JVM: OpenJDK 64-Bit Server VM\n",
       "Default Encoding: UTF-8\n",
       "Language: en\n",
       "Country: null\n",
       "--></g></svg>"
      ]
     },
     "execution_count": 38,
     "metadata": {},
     "output_type": "execute_result"
    }
   ],
   "source": [
    "%viz --style=\"DEFAULT\" --view=\"Tree\" \"DependencyTest\""
   ]
  },
  {
   "cell_type": "code",
   "execution_count": 39,
   "id": "aggregate-service",
   "metadata": {
    "execution": {
     "iopub.execute_input": "2021-03-25T13:26:19.715224Z",
     "iopub.status.busy": "2021-03-25T13:26:19.714682Z",
     "iopub.status.idle": "2021-03-25T13:26:19.722100Z",
     "shell.execute_reply": "2021-03-25T13:26:19.722498Z"
    }
   },
   "outputs": [
    {
     "data": {
      "image/svg+xml": [
       "<?xml version=\"1.0\" encoding=\"UTF-8\" standalone=\"no\"?><svg xmlns=\"http://www.w3.org/2000/svg\" xmlns:xlink=\"http://www.w3.org/1999/xlink\" contentScriptType=\"application/ecmascript\" contentStyleType=\"text/css\" height=\"12px\" preserveAspectRatio=\"none\" style=\"width:12px;height:12px;\" version=\"1.1\" viewBox=\"0 0 12 12\" width=\"12px\" zoomAndPan=\"magnify\"><defs/><g><!--MD5=[c5f280e076d0d61ccf4b0f27871bda1d]\n",
       "@startuml\r\n",
       "skinparam monochrome true\r\n",
       "skinparam classbackgroundcolor white\r\n",
       "skinparam shadowing false\r\n",
       "skinparam wrapWidth 300\r\n",
       "hide circle\r\n",
       "\r\n",
       "@enduml\r\n",
       "\n",
       "PlantUML version 1.2020.13(Sat Jun 13 12:26:38 UTC 2020)\n",
       "(EPL source distribution)\n",
       "Java Runtime: OpenJDK Runtime Environment\n",
       "JVM: OpenJDK 64-Bit Server VM\n",
       "Default Encoding: UTF-8\n",
       "Language: en\n",
       "Country: null\n",
       "--></g></svg>"
      ]
     },
     "execution_count": 39,
     "metadata": {},
     "output_type": "execute_result"
    }
   ],
   "source": [
    "%viz --style=\"DEFAULT\" --view=\"State\" \"DependencyTest\""
   ]
  },
  {
   "cell_type": "code",
   "execution_count": 40,
   "id": "certain-breeding",
   "metadata": {
    "execution": {
     "iopub.execute_input": "2021-03-25T13:26:19.774045Z",
     "iopub.status.busy": "2021-03-25T13:26:19.773199Z",
     "iopub.status.idle": "2021-03-25T13:26:19.866556Z",
     "shell.execute_reply": "2021-03-25T13:26:19.865147Z"
    }
   },
   "outputs": [
    {
     "data": {
      "image/svg+xml": [
       "<?xml version=\"1.0\" encoding=\"UTF-8\" standalone=\"no\"?><svg xmlns=\"http://www.w3.org/2000/svg\" xmlns:xlink=\"http://www.w3.org/1999/xlink\" contentScriptType=\"application/ecmascript\" contentStyleType=\"text/css\" height=\"361px\" preserveAspectRatio=\"none\" style=\"width:489px;height:361px;\" version=\"1.1\" viewBox=\"0 0 489 361\" width=\"489px\" zoomAndPan=\"magnify\"><defs/><g><!--MD5=[fbc87193dbaf4d95561dea2c320d4a47]\n",
       "cluster E1--><a href=\"psysml:438e34af-3ce5-4e99-acf4-d3ecd205ea23\" target=\"_top\" title=\"psysml:438e34af-3ce5-4e99-acf4-d3ecd205ea23\" xlink:actuate=\"onRequest\" xlink:href=\"psysml:438e34af-3ce5-4e99-acf4-d3ecd205ea23\" xlink:show=\"new\" xlink:title=\"psysml:438e34af-3ce5-4e99-acf4-d3ecd205ea23\" xlink:type=\"simple\"><polygon fill=\"#FFFFFF\" points=\"16,6,156,6,163,28.2969,467,28.2969,467,349,16,349,16,6\" style=\"stroke: #000000; stroke-width: 1.5;\"/><line style=\"stroke: #000000; stroke-width: 1.5;\" x1=\"16\" x2=\"163\" y1=\"28.2969\" y2=\"28.2969\"/><text fill=\"#000000\" font-family=\"sans-serif\" font-size=\"14\" font-weight=\"bold\" lengthAdjust=\"spacingAndGlyphs\" textLength=\"134\" x=\"20\" y=\"20.9951\">DependencyTest</text></a><!--MD5=[e4f7fae6ed58524ba242bb0b0d3be6b7]\n",
       "cluster E2--><a href=\"psysml:33a226aa-95cf-4670-96e1-1bd6e94f796f\" target=\"_top\" title=\"psysml:33a226aa-95cf-4670-96e1-1bd6e94f796f\" xlink:actuate=\"onRequest\" xlink:href=\"psysml:33a226aa-95cf-4670-96e1-1bd6e94f796f\" xlink:show=\"new\" xlink:title=\"psysml:33a226aa-95cf-4670-96e1-1bd6e94f796f\" xlink:type=\"simple\"><polygon fill=\"#FFFFFF\" points=\"255,49,319,49,326,71.2969,443,71.2969,443,325,255,325,255,49\" style=\"stroke: #000000; stroke-width: 1.5;\"/><line style=\"stroke: #000000; stroke-width: 1.5;\" x1=\"255\" x2=\"326\" y1=\"71.2969\" y2=\"71.2969\"/><text fill=\"#000000\" font-family=\"sans-serif\" font-size=\"14\" font-weight=\"bold\" lengthAdjust=\"spacingAndGlyphs\" textLength=\"58\" x=\"259\" y=\"63.9951\">System</text></a><a href=\"psysml:add81eb6-248c-4298-8987-63cd174f8097\" target=\"_top\" title=\"psysml:add81eb6-248c-4298-8987-63cd174f8097\" xlink:actuate=\"onRequest\" xlink:href=\"psysml:add81eb6-248c-4298-8987-63cd174f8097\" xlink:show=\"new\" xlink:title=\"psysml:add81eb6-248c-4298-8987-63cd174f8097\" xlink:type=\"simple\"><polygon fill=\"#FFFFFF\" points=\"271,84,413,84,420,106.2969,427,106.2969,427,136.5938,271,136.5938,271,84\" style=\"stroke: #000000; stroke-width: 1.5;\"/><line style=\"stroke: #000000; stroke-width: 1.5;\" x1=\"271\" x2=\"420\" y1=\"106.2969\" y2=\"106.2969\"/><text fill=\"#000000\" font-family=\"sans-serif\" font-size=\"14\" font-weight=\"bold\" lengthAdjust=\"spacingAndGlyphs\" textLength=\"136\" x=\"275\" y=\"98.9951\">Application Layer</text></a><a href=\"psysml:95ba016d-ba70-4f40-a2b0-65410d9cce5b\" target=\"_top\" title=\"psysml:95ba016d-ba70-4f40-a2b0-65410d9cce5b\" xlink:actuate=\"onRequest\" xlink:href=\"psysml:95ba016d-ba70-4f40-a2b0-65410d9cce5b\" xlink:show=\"new\" xlink:title=\"psysml:95ba016d-ba70-4f40-a2b0-65410d9cce5b\" xlink:type=\"simple\"><polygon fill=\"#FFFFFF\" points=\"285,170,399,170,406,192.2969,413,192.2969,413,222.5938,285,222.5938,285,170\" style=\"stroke: #000000; stroke-width: 1.5;\"/><line style=\"stroke: #000000; stroke-width: 1.5;\" x1=\"285\" x2=\"406\" y1=\"192.2969\" y2=\"192.2969\"/><text fill=\"#000000\" font-family=\"sans-serif\" font-size=\"14\" font-weight=\"bold\" lengthAdjust=\"spacingAndGlyphs\" textLength=\"108\" x=\"289\" y=\"184.9951\">Service Layer</text></a><a href=\"psysml:ae80162e-06ca-4b24-a1f3-10c5d346ebc4\" target=\"_top\" title=\"psysml:ae80162e-06ca-4b24-a1f3-10c5d346ebc4\" xlink:actuate=\"onRequest\" xlink:href=\"psysml:ae80162e-06ca-4b24-a1f3-10c5d346ebc4\" xlink:show=\"new\" xlink:title=\"psysml:ae80162e-06ca-4b24-a1f3-10c5d346ebc4\" xlink:type=\"simple\"><polygon fill=\"#FFFFFF\" points=\"297,256,387,256,394,278.2969,401,278.2969,401,308.5938,297,308.5938,297,256\" style=\"stroke: #000000; stroke-width: 1.5;\"/><line style=\"stroke: #000000; stroke-width: 1.5;\" x1=\"297\" x2=\"394\" y1=\"278.2969\" y2=\"278.2969\"/><text fill=\"#000000\" font-family=\"sans-serif\" font-size=\"14\" font-weight=\"bold\" lengthAdjust=\"spacingAndGlyphs\" textLength=\"84\" x=\"301\" y=\"270.9951\">Data Layer</text></a><g id=\"E1.E6\"><a href=\"psysml:747ec202-6e4c-456d-855d-21470db0b7f2\" target=\"_top\" title=\"psysml:747ec202-6e4c-456d-855d-21470db0b7f2\" xlink:actuate=\"onRequest\" xlink:href=\"psysml:747ec202-6e4c-456d-855d-21470db0b7f2\" xlink:show=\"new\" xlink:title=\"psysml:747ec202-6e4c-456d-855d-21470db0b7f2\" xlink:type=\"simple\"><rect fill=\"#FFFFFF\" height=\"42.9375\" id=\"E6\" rx=\"10\" ry=\"10\" style=\"stroke: #383838; stroke-width: 1.5;\" width=\"76\" x=\"32\" y=\"175\"/><rect fill=\"#F8F8F8\" height=\"37.9375\" rx=\"10\" ry=\"10\" style=\"stroke: #F8F8F8; stroke-width: 1.5;\" width=\"76\" x=\"32\" y=\"175\"/><rect fill=\"#F8F8F8\" height=\"10\" style=\"stroke: #F8F8F8; stroke-width: 1.5;\" width=\"76\" x=\"32\" y=\"202.9375\"/><rect fill=\"none\" height=\"42.9375\" id=\"E6\" rx=\"10\" ry=\"10\" style=\"stroke: #383838; stroke-width: 1.5;\" width=\"76\" x=\"32\" y=\"175\"/><text fill=\"#000000\" font-family=\"sans-serif\" font-size=\"12\" font-style=\"italic\" lengthAdjust=\"spacingAndGlyphs\" textLength=\"69\" x=\"35.5\" y=\"191.1387\">«attribute»</text><text fill=\"#000000\" font-family=\"sans-serif\" font-size=\"12\" lengthAdjust=\"spacingAndGlyphs\" textLength=\"6\" x=\"67\" y=\"205.1074\">x</text></a></g><g id=\"E1.E7\"><a href=\"psysml:aee293b7-b915-4f4d-bf33-13d7af80ad07\" target=\"_top\" title=\"psysml:aee293b7-b915-4f4d-bf33-13d7af80ad07\" xlink:actuate=\"onRequest\" xlink:href=\"psysml:aee293b7-b915-4f4d-bf33-13d7af80ad07\" xlink:show=\"new\" xlink:title=\"psysml:aee293b7-b915-4f4d-bf33-13d7af80ad07\" xlink:type=\"simple\"><rect fill=\"#FFFFFF\" height=\"42.9375\" id=\"E7\" rx=\"10\" ry=\"10\" style=\"stroke: #383838; stroke-width: 1.5;\" width=\"76\" x=\"143\" y=\"175\"/><rect fill=\"#F8F8F8\" height=\"37.9375\" rx=\"10\" ry=\"10\" style=\"stroke: #F8F8F8; stroke-width: 1.5;\" width=\"76\" x=\"143\" y=\"175\"/><rect fill=\"#F8F8F8\" height=\"10\" style=\"stroke: #F8F8F8; stroke-width: 1.5;\" width=\"76\" x=\"143\" y=\"202.9375\"/><rect fill=\"none\" height=\"42.9375\" id=\"E7\" rx=\"10\" ry=\"10\" style=\"stroke: #383838; stroke-width: 1.5;\" width=\"76\" x=\"143\" y=\"175\"/><text fill=\"#000000\" font-family=\"sans-serif\" font-size=\"12\" font-style=\"italic\" lengthAdjust=\"spacingAndGlyphs\" textLength=\"69\" x=\"146.5\" y=\"191.1387\">«attribute»</text><text fill=\"#000000\" font-family=\"sans-serif\" font-size=\"12\" lengthAdjust=\"spacingAndGlyphs\" textLength=\"6\" x=\"178\" y=\"205.1074\">y</text></a></g><g id=\"E1.E8\"><a href=\"psysml:1c42907e-9ca4-4468-bbbb-1ea70701dab3\" target=\"_top\" title=\"psysml:1c42907e-9ca4-4468-bbbb-1ea70701dab3\" xlink:actuate=\"onRequest\" xlink:href=\"psysml:1c42907e-9ca4-4468-bbbb-1ea70701dab3\" xlink:show=\"new\" xlink:title=\"psysml:1c42907e-9ca4-4468-bbbb-1ea70701dab3\" xlink:type=\"simple\"><rect fill=\"#FFFFFF\" height=\"42.9375\" id=\"E8\" rx=\"10\" ry=\"10\" style=\"stroke: #383838; stroke-width: 1.5;\" width=\"76\" x=\"83\" y=\"89\"/><rect fill=\"#F8F8F8\" height=\"37.9375\" rx=\"10\" ry=\"10\" style=\"stroke: #F8F8F8; stroke-width: 1.5;\" width=\"76\" x=\"83\" y=\"89\"/><rect fill=\"#F8F8F8\" height=\"10\" style=\"stroke: #F8F8F8; stroke-width: 1.5;\" width=\"76\" x=\"83\" y=\"116.9375\"/><rect fill=\"none\" height=\"42.9375\" id=\"E8\" rx=\"10\" ry=\"10\" style=\"stroke: #383838; stroke-width: 1.5;\" width=\"76\" x=\"83\" y=\"89\"/><text fill=\"#000000\" font-family=\"sans-serif\" font-size=\"12\" font-style=\"italic\" lengthAdjust=\"spacingAndGlyphs\" textLength=\"69\" x=\"86.5\" y=\"105.1387\">«attribute»</text><text fill=\"#000000\" font-family=\"sans-serif\" font-size=\"12\" lengthAdjust=\"spacingAndGlyphs\" textLength=\"5\" x=\"118.5\" y=\"119.1074\">z</text></a></g><!--MD5=[af87c684e3b0d8be13c1a698a818ef1e]\n",
       "link E3 to E4--><a href=\"psysml:4c7b915e-320e-40c7-9399-584f1f84a9d7\" target=\"_top\" title=\"psysml:4c7b915e-320e-40c7-9399-584f1f84a9d7\" xlink:actuate=\"onRequest\" xlink:href=\"psysml:4c7b915e-320e-40c7-9399-584f1f84a9d7\" xlink:show=\"new\" xlink:title=\"psysml:4c7b915e-320e-40c7-9399-584f1f84a9d7\" xlink:type=\"simple\"><path d=\"M349,137.16 C349,144.98 349,153.69 349,161.94 \" fill=\"none\" id=\"E3-&gt;E4\" style=\"stroke: #383838; stroke-width: 1.0; stroke-dasharray: 7.0,7.0;\"/><polygon fill=\"#383838\" points=\"349,170,352,162,346,162,349,170\" style=\"stroke: #383838; stroke-width: 1.0;\"/><text fill=\"#000000\" font-family=\"sans-serif\" font-size=\"13\" lengthAdjust=\"spacingAndGlyphs\" textLength=\"64\" x=\"350\" y=\"158.0669\">«depend»</text></a><!--MD5=[1b7591eae5389033d8d09a9d6721a717]\n",
       "link E4 to E5--><a href=\"psysml:9be59ee3-60f5-4004-bc3e-00c0f7693956\" target=\"_top\" title=\"psysml:9be59ee3-60f5-4004-bc3e-00c0f7693956\" xlink:actuate=\"onRequest\" xlink:href=\"psysml:9be59ee3-60f5-4004-bc3e-00c0f7693956\" xlink:show=\"new\" xlink:title=\"psysml:9be59ee3-60f5-4004-bc3e-00c0f7693956\" xlink:type=\"simple\"><path d=\"M349,223.16 C349,230.98 349,239.69 349,247.94 \" fill=\"none\" id=\"E4-&gt;E5\" style=\"stroke: #383838; stroke-width: 1.0; stroke-dasharray: 7.0,7.0;\"/><polygon fill=\"#383838\" points=\"349,256,352,248,346,248,349,256\" style=\"stroke: #383838; stroke-width: 1.0;\"/><text fill=\"#000000\" font-family=\"sans-serif\" font-size=\"13\" lengthAdjust=\"spacingAndGlyphs\" textLength=\"64\" x=\"350\" y=\"244.0669\">«depend»</text></a><!--MD5=[c5e8897d989ce984f93528998a7150fe]\n",
       "link E8 to E6--><a href=\"psysml:80784242-98cb-449c-a51f-f2c7c1061d87\" target=\"_top\" title=\"psysml:80784242-98cb-449c-a51f-f2c7c1061d87\" xlink:actuate=\"onRequest\" xlink:href=\"psysml:80784242-98cb-449c-a51f-f2c7c1061d87\" xlink:show=\"new\" xlink:title=\"psysml:80784242-98cb-449c-a51f-f2c7c1061d87\" xlink:type=\"simple\"><path d=\"M82.81,126.48 C75.3,131.24 68.39,137.33 64,145 C60.26,151.53 59.68,159.3 60.56,166.77 \" fill=\"none\" id=\"E8-&gt;E6\" style=\"stroke: #383838; stroke-width: 1.0; stroke-dasharray: 7.0,7.0;\"/><polygon fill=\"#383838\" points=\"62.02,174.69,63.5257,166.2797,57.6244,167.3634,62.02,174.69\" style=\"stroke: #383838; stroke-width: 1.0;\"/><text fill=\"#000000\" font-family=\"sans-serif\" font-size=\"13\" lengthAdjust=\"spacingAndGlyphs\" textLength=\"64\" x=\"65\" y=\"158.0669\">«depend»</text></a><!--MD5=[bfa3c8b0d15052fdf50ae9310b491027]\n",
       "link E8 to E7--><a href=\"psysml:80784242-98cb-449c-a51f-f2c7c1061d87\" target=\"_top\" title=\"psysml:80784242-98cb-449c-a51f-f2c7c1061d87\" xlink:actuate=\"onRequest\" xlink:href=\"psysml:80784242-98cb-449c-a51f-f2c7c1061d87\" xlink:show=\"new\" xlink:title=\"psysml:80784242-98cb-449c-a51f-f2c7c1061d87\" xlink:type=\"simple\"><path d=\"M135.83,132.26 C143.61,143.15 153.22,156.61 161.59,168.32 \" fill=\"none\" id=\"E8-&gt;E7\" style=\"stroke: #383838; stroke-width: 1.0; stroke-dasharray: 7.0,7.0;\"/><polygon fill=\"#383838\" points=\"166.34,174.97,164.1399,166.7141,159.2538,170.1965,166.34,174.97\" style=\"stroke: #383838; stroke-width: 1.0;\"/><text fill=\"#000000\" font-family=\"sans-serif\" font-size=\"13\" lengthAdjust=\"spacingAndGlyphs\" textLength=\"64\" x=\"157\" y=\"158.0669\">«depend»</text></a><!--MD5=[c4f73a04405c5f93da1432ebcd35506d]\n",
       "@startuml\r\n",
       "skinparam ranksep 8\r\n",
       "skinparam rectangle {\r\n",
       " backgroundColor<<block>> LightGreen\r\n",
       "}\r\n",
       "skinparam monochrome true\r\n",
       "skinparam classbackgroundcolor white\r\n",
       "skinparam shadowing false\r\n",
       "skinparam wrapWidth 300\r\n",
       "hide circle\r\n",
       "\r\n",
       "package \"DependencyTest\" as E1  [[psysml:438e34af-3ce5-4e99-acf4-d3ecd205ea23 ]]  {\r\n",
       "package \"System\" as E2  [[psysml:33a226aa-95cf-4670-96e1-1bd6e94f796f ]]  {\r\n",
       "package \"Application Layer\" as E3  [[psysml:add81eb6-248c-4298-8987-63cd174f8097 ]]  {\r\n",
       "}\r\n",
       "package \"Service Layer\" as E4  [[psysml:95ba016d-ba70-4f40-a2b0-65410d9cce5b ]]  {\r\n",
       "}\r\n",
       "package \"Data Layer\" as E5  [[psysml:ae80162e-06ca-4b24-a1f3-10c5d346ebc4 ]]  {\r\n",
       "}\r\n",
       "}\r\n",
       "rec usage \"x\" as E6  <<(T,blue)attribute>> [[psysml:747ec202-6e4c-456d-855d-21470db0b7f2 ]] {\r\n",
       "}\r\n",
       "rec usage \"y\" as E7  <<(T,blue)attribute>> [[psysml:aee293b7-b915-4f4d-bf33-13d7af80ad07 ]] {\r\n",
       "}\r\n",
       "rec usage \"z\" as E8  <<(T,blue)attribute>> [[psysml:1c42907e-9ca4-4468-bbbb-1ea70701dab3 ]] {\r\n",
       "}\r\n",
       "E3 ..>> E4 [[psysml:4c7b915e-320e-40c7-9399-584f1f84a9d7 ]] : <<depend>>\r\n",
       "E4 ..>> E5 [[psysml:9be59ee3-60f5-4004-bc3e-00c0f7693956 ]] : <<depend>>\r\n",
       "E8 ..>> E6 [[psysml:80784242-98cb-449c-a51f-f2c7c1061d87 ]] : <<depend>>\r\n",
       "E8 ..>> E7 [[psysml:80784242-98cb-449c-a51f-f2c7c1061d87 ]] : <<depend>>\r\n",
       "}\r\n",
       "@enduml\r\n",
       "\n",
       "PlantUML version 1.2020.13(Sat Jun 13 12:26:38 UTC 2020)\n",
       "(EPL source distribution)\n",
       "Java Runtime: OpenJDK Runtime Environment\n",
       "JVM: OpenJDK 64-Bit Server VM\n",
       "Default Encoding: UTF-8\n",
       "Language: en\n",
       "Country: null\n",
       "--></g></svg>"
      ]
     },
     "execution_count": 40,
     "metadata": {},
     "output_type": "execute_result"
    }
   ],
   "source": [
    "%viz --style=\"DEFAULT\" --view=\"Interconnection\" \"DependencyTest\""
   ]
  },
  {
   "cell_type": "code",
   "execution_count": 41,
   "id": "headed-geography",
   "metadata": {
    "execution": {
     "iopub.execute_input": "2021-03-25T13:26:19.921247Z",
     "iopub.status.busy": "2021-03-25T13:26:19.920479Z",
     "iopub.status.idle": "2021-03-25T13:26:19.926752Z",
     "shell.execute_reply": "2021-03-25T13:26:19.926370Z"
    }
   },
   "outputs": [
    {
     "data": {
      "image/svg+xml": [
       "<?xml version=\"1.0\" encoding=\"UTF-8\" standalone=\"no\"?><svg xmlns=\"http://www.w3.org/2000/svg\" xmlns:xlink=\"http://www.w3.org/1999/xlink\" contentScriptType=\"application/ecmascript\" contentStyleType=\"text/css\" height=\"12px\" preserveAspectRatio=\"none\" style=\"width:12px;height:12px;\" version=\"1.1\" viewBox=\"0 0 12 12\" width=\"12px\" zoomAndPan=\"magnify\"><defs/><g><!--MD5=[388f21188e31bfdd97050473b19af356]\n",
       "@startuml\r\n",
       "skinparam ranksep 8\r\n",
       "skinparam monochrome true\r\n",
       "skinparam classbackgroundcolor white\r\n",
       "skinparam shadowing false\r\n",
       "skinparam wrapWidth 300\r\n",
       "hide circle\r\n",
       "\r\n",
       "@enduml\r\n",
       "\n",
       "PlantUML version 1.2020.13(Sat Jun 13 12:26:38 UTC 2020)\n",
       "(EPL source distribution)\n",
       "Java Runtime: OpenJDK Runtime Environment\n",
       "JVM: OpenJDK 64-Bit Server VM\n",
       "Default Encoding: UTF-8\n",
       "Language: en\n",
       "Country: null\n",
       "--></g></svg>"
      ]
     },
     "execution_count": 41,
     "metadata": {},
     "output_type": "execute_result"
    }
   ],
   "source": [
    "%viz --style=\"DEFAULT\" --view=\"Action\" \"DependencyTest\""
   ]
  },
  {
   "cell_type": "code",
   "execution_count": 42,
   "id": "cleared-manor",
   "metadata": {
    "execution": {
     "iopub.execute_input": "2021-03-25T13:26:19.978499Z",
     "iopub.status.busy": "2021-03-25T13:26:19.977738Z",
     "iopub.status.idle": "2021-03-25T13:26:20.073663Z",
     "shell.execute_reply": "2021-03-25T13:26:20.072002Z"
    }
   },
   "outputs": [
    {
     "data": {
      "image/svg+xml": [
       "<?xml version=\"1.0\" encoding=\"UTF-8\" standalone=\"no\"?><svg xmlns=\"http://www.w3.org/2000/svg\" xmlns:xlink=\"http://www.w3.org/1999/xlink\" contentScriptType=\"application/ecmascript\" contentStyleType=\"text/css\" height=\"449px\" preserveAspectRatio=\"none\" style=\"width:489px;height:449px;\" version=\"1.1\" viewBox=\"0 0 489 449\" width=\"489px\" zoomAndPan=\"magnify\"><defs/><g><!--MD5=[fbc87193dbaf4d95561dea2c320d4a47]\n",
       "cluster E1--><a href=\"psysml:438e34af-3ce5-4e99-acf4-d3ecd205ea23\" target=\"_top\" title=\"psysml:438e34af-3ce5-4e99-acf4-d3ecd205ea23\" xlink:actuate=\"onRequest\" xlink:href=\"psysml:438e34af-3ce5-4e99-acf4-d3ecd205ea23\" xlink:show=\"new\" xlink:title=\"psysml:438e34af-3ce5-4e99-acf4-d3ecd205ea23\" xlink:type=\"simple\"><polygon fill=\"#FFFFFF\" points=\"16,6,156,6,163,28.2969,467,28.2969,467,437,16,437,16,6\" style=\"stroke: #000000; stroke-width: 1.5;\"/><line style=\"stroke: #000000; stroke-width: 1.5;\" x1=\"16\" x2=\"163\" y1=\"28.2969\" y2=\"28.2969\"/><text fill=\"#000000\" font-family=\"sans-serif\" font-size=\"14\" font-weight=\"bold\" lengthAdjust=\"spacingAndGlyphs\" textLength=\"134\" x=\"20\" y=\"20.9951\">DependencyTest</text></a><!--MD5=[e4f7fae6ed58524ba242bb0b0d3be6b7]\n",
       "cluster E2--><a href=\"psysml:33a226aa-95cf-4670-96e1-1bd6e94f796f\" target=\"_top\" title=\"psysml:33a226aa-95cf-4670-96e1-1bd6e94f796f\" xlink:actuate=\"onRequest\" xlink:href=\"psysml:33a226aa-95cf-4670-96e1-1bd6e94f796f\" xlink:show=\"new\" xlink:title=\"psysml:33a226aa-95cf-4670-96e1-1bd6e94f796f\" xlink:type=\"simple\"><polygon fill=\"#FFFFFF\" points=\"255,49,319,49,326,71.2969,443,71.2969,443,413,255,413,255,49\" style=\"stroke: #000000; stroke-width: 1.5;\"/><line style=\"stroke: #000000; stroke-width: 1.5;\" x1=\"255\" x2=\"326\" y1=\"71.2969\" y2=\"71.2969\"/><text fill=\"#000000\" font-family=\"sans-serif\" font-size=\"14\" font-weight=\"bold\" lengthAdjust=\"spacingAndGlyphs\" textLength=\"58\" x=\"259\" y=\"63.9951\">System</text></a><!--MD5=[60a26617385b1d2d0262a64233df1f8d]\n",
       "class E6--><a href=\"psysml:747ec202-6e4c-456d-855d-21470db0b7f2\" target=\"_top\" title=\"psysml:747ec202-6e4c-456d-855d-21470db0b7f2\" xlink:actuate=\"onRequest\" xlink:href=\"psysml:747ec202-6e4c-456d-855d-21470db0b7f2\" xlink:show=\"new\" xlink:title=\"psysml:747ec202-6e4c-456d-855d-21470db0b7f2\" xlink:type=\"simple\"><rect fill=\"#FFFFFF\" height=\"45.9375\" id=\"E6\" rx=\"10\" ry=\"10\" style=\"stroke: #383838; stroke-width: 1.5;\" width=\"71\" x=\"32.5\" y=\"217.5\"/><text fill=\"#000000\" font-family=\"sans-serif\" font-size=\"12\" font-style=\"italic\" lengthAdjust=\"spacingAndGlyphs\" textLength=\"69\" x=\"33.5\" y=\"233.6387\">«attribute»</text><text fill=\"#000000\" font-family=\"sans-serif\" font-size=\"12\" lengthAdjust=\"spacingAndGlyphs\" textLength=\"6\" x=\"65\" y=\"247.6074\">x</text><line style=\"stroke: #383838; stroke-width: 1.5;\" x1=\"33.5\" x2=\"102.5\" y1=\"255.4375\" y2=\"255.4375\"/></a><!--MD5=[2156ba9850f5573cc1fc38a6a4b2f02b]\n",
       "class E7--><a href=\"psysml:aee293b7-b915-4f4d-bf33-13d7af80ad07\" target=\"_top\" title=\"psysml:aee293b7-b915-4f4d-bf33-13d7af80ad07\" xlink:actuate=\"onRequest\" xlink:href=\"psysml:aee293b7-b915-4f4d-bf33-13d7af80ad07\" xlink:show=\"new\" xlink:title=\"psysml:aee293b7-b915-4f4d-bf33-13d7af80ad07\" xlink:type=\"simple\"><rect fill=\"#FFFFFF\" height=\"45.9375\" id=\"E7\" rx=\"10\" ry=\"10\" style=\"stroke: #383838; stroke-width: 1.5;\" width=\"71\" x=\"138.5\" y=\"217.5\"/><text fill=\"#000000\" font-family=\"sans-serif\" font-size=\"12\" font-style=\"italic\" lengthAdjust=\"spacingAndGlyphs\" textLength=\"69\" x=\"139.5\" y=\"233.6387\">«attribute»</text><text fill=\"#000000\" font-family=\"sans-serif\" font-size=\"12\" lengthAdjust=\"spacingAndGlyphs\" textLength=\"6\" x=\"171\" y=\"247.6074\">y</text><line style=\"stroke: #383838; stroke-width: 1.5;\" x1=\"139.5\" x2=\"208.5\" y1=\"255.4375\" y2=\"255.4375\"/></a><!--MD5=[b9389687b975829384b498ac4b7476b2]\n",
       "class E8--><a href=\"psysml:1c42907e-9ca4-4468-bbbb-1ea70701dab3\" target=\"_top\" title=\"psysml:1c42907e-9ca4-4468-bbbb-1ea70701dab3\" xlink:actuate=\"onRequest\" xlink:href=\"psysml:1c42907e-9ca4-4468-bbbb-1ea70701dab3\" xlink:show=\"new\" xlink:title=\"psysml:1c42907e-9ca4-4468-bbbb-1ea70701dab3\" xlink:type=\"simple\"><rect fill=\"#FFFFFF\" height=\"45.9375\" id=\"E8\" rx=\"10\" ry=\"10\" style=\"stroke: #383838; stroke-width: 1.5;\" width=\"71\" x=\"84.5\" y=\"87.5\"/><text fill=\"#000000\" font-family=\"sans-serif\" font-size=\"12\" font-style=\"italic\" lengthAdjust=\"spacingAndGlyphs\" textLength=\"69\" x=\"85.5\" y=\"103.6387\">«attribute»</text><text fill=\"#000000\" font-family=\"sans-serif\" font-size=\"12\" lengthAdjust=\"spacingAndGlyphs\" textLength=\"5\" x=\"117.5\" y=\"117.6074\">z</text><line style=\"stroke: #383838; stroke-width: 1.5;\" x1=\"85.5\" x2=\"154.5\" y1=\"125.4375\" y2=\"125.4375\"/></a><a href=\"psysml:add81eb6-248c-4298-8987-63cd174f8097\" target=\"_top\" title=\"psysml:add81eb6-248c-4298-8987-63cd174f8097\" xlink:actuate=\"onRequest\" xlink:href=\"psysml:add81eb6-248c-4298-8987-63cd174f8097\" xlink:show=\"new\" xlink:title=\"psysml:add81eb6-248c-4298-8987-63cd174f8097\" xlink:type=\"simple\"><polygon fill=\"#FFFFFF\" points=\"271,84,413,84,420,106.2969,427,106.2969,427,136.5938,271,136.5938,271,84\" style=\"stroke: #000000; stroke-width: 1.5;\"/><line style=\"stroke: #000000; stroke-width: 1.5;\" x1=\"271\" x2=\"420\" y1=\"106.2969\" y2=\"106.2969\"/><text fill=\"#000000\" font-family=\"sans-serif\" font-size=\"14\" font-weight=\"bold\" lengthAdjust=\"spacingAndGlyphs\" textLength=\"136\" x=\"275\" y=\"98.9951\">Application Layer</text></a><a href=\"psysml:95ba016d-ba70-4f40-a2b0-65410d9cce5b\" target=\"_top\" title=\"psysml:95ba016d-ba70-4f40-a2b0-65410d9cce5b\" xlink:actuate=\"onRequest\" xlink:href=\"psysml:95ba016d-ba70-4f40-a2b0-65410d9cce5b\" xlink:show=\"new\" xlink:title=\"psysml:95ba016d-ba70-4f40-a2b0-65410d9cce5b\" xlink:type=\"simple\"><polygon fill=\"#FFFFFF\" points=\"285,214,399,214,406,236.2969,413,236.2969,413,266.5938,285,266.5938,285,214\" style=\"stroke: #000000; stroke-width: 1.5;\"/><line style=\"stroke: #000000; stroke-width: 1.5;\" x1=\"285\" x2=\"406\" y1=\"236.2969\" y2=\"236.2969\"/><text fill=\"#000000\" font-family=\"sans-serif\" font-size=\"14\" font-weight=\"bold\" lengthAdjust=\"spacingAndGlyphs\" textLength=\"108\" x=\"289\" y=\"228.9951\">Service Layer</text></a><a href=\"psysml:ae80162e-06ca-4b24-a1f3-10c5d346ebc4\" target=\"_top\" title=\"psysml:ae80162e-06ca-4b24-a1f3-10c5d346ebc4\" xlink:actuate=\"onRequest\" xlink:href=\"psysml:ae80162e-06ca-4b24-a1f3-10c5d346ebc4\" xlink:show=\"new\" xlink:title=\"psysml:ae80162e-06ca-4b24-a1f3-10c5d346ebc4\" xlink:type=\"simple\"><polygon fill=\"#FFFFFF\" points=\"297,344,387,344,394,366.2969,401,366.2969,401,396.5938,297,396.5938,297,344\" style=\"stroke: #000000; stroke-width: 1.5;\"/><line style=\"stroke: #000000; stroke-width: 1.5;\" x1=\"297\" x2=\"394\" y1=\"366.2969\" y2=\"366.2969\"/><text fill=\"#000000\" font-family=\"sans-serif\" font-size=\"14\" font-weight=\"bold\" lengthAdjust=\"spacingAndGlyphs\" textLength=\"84\" x=\"301\" y=\"358.9951\">Data Layer</text></a><!--MD5=[af87c684e3b0d8be13c1a698a818ef1e]\n",
       "link E3 to E4--><a href=\"psysml:4c7b915e-320e-40c7-9399-584f1f84a9d7\" target=\"_top\" title=\"psysml:4c7b915e-320e-40c7-9399-584f1f84a9d7\" xlink:actuate=\"onRequest\" xlink:href=\"psysml:4c7b915e-320e-40c7-9399-584f1f84a9d7\" xlink:show=\"new\" xlink:title=\"psysml:4c7b915e-320e-40c7-9399-584f1f84a9d7\" xlink:type=\"simple\"><path d=\"M349,137.1 C349,156.8 349,184.22 349,205.73 \" fill=\"none\" id=\"E3-&gt;E4\" style=\"stroke: #383838; stroke-width: 1.0; stroke-dasharray: 7.0,7.0;\"/><polygon fill=\"#383838\" points=\"349,213.95,352,205.95,346,205.95,349,213.95\" style=\"stroke: #383838; stroke-width: 1.0;\"/><text fill=\"#000000\" font-family=\"sans-serif\" font-size=\"13\" lengthAdjust=\"spacingAndGlyphs\" textLength=\"64\" x=\"350\" y=\"180.0669\">«depend»</text></a><!--MD5=[1b7591eae5389033d8d09a9d6721a717]\n",
       "link E4 to E5--><a href=\"psysml:9be59ee3-60f5-4004-bc3e-00c0f7693956\" target=\"_top\" title=\"psysml:9be59ee3-60f5-4004-bc3e-00c0f7693956\" xlink:actuate=\"onRequest\" xlink:href=\"psysml:9be59ee3-60f5-4004-bc3e-00c0f7693956\" xlink:show=\"new\" xlink:title=\"psysml:9be59ee3-60f5-4004-bc3e-00c0f7693956\" xlink:type=\"simple\"><path d=\"M349,267.1 C349,286.8 349,314.22 349,335.73 \" fill=\"none\" id=\"E4-&gt;E5\" style=\"stroke: #383838; stroke-width: 1.0; stroke-dasharray: 7.0,7.0;\"/><polygon fill=\"#383838\" points=\"349,343.95,352,335.95,346,335.95,349,343.95\" style=\"stroke: #383838; stroke-width: 1.0;\"/><text fill=\"#000000\" font-family=\"sans-serif\" font-size=\"13\" lengthAdjust=\"spacingAndGlyphs\" textLength=\"64\" x=\"350\" y=\"310.0669\">«depend»</text></a><!--MD5=[c5e8897d989ce984f93528998a7150fe]\n",
       "link E8 to E6--><a href=\"psysml:80784242-98cb-449c-a51f-f2c7c1061d87\" target=\"_top\" title=\"psysml:80784242-98cb-449c-a51f-f2c7c1061d87\" xlink:actuate=\"onRequest\" xlink:href=\"psysml:80784242-98cb-449c-a51f-f2c7c1061d87\" xlink:show=\"new\" xlink:title=\"psysml:80784242-98cb-449c-a51f-f2c7c1061d87\" xlink:type=\"simple\"><path d=\"M89.42,133.6 C79.35,142.68 69.37,154.11 64,167 C58.5,180.2 58.66,195.94 60.54,209.38 \" fill=\"none\" id=\"E8-&gt;E6\" style=\"stroke: #383838; stroke-width: 1.0; stroke-dasharray: 7.0,7.0;\"/><polygon fill=\"#383838\" points=\"61.9,217.4,63.517,209.0104,57.6018,210.0159,61.9,217.4\" style=\"stroke: #383838; stroke-width: 1.0;\"/><text fill=\"#000000\" font-family=\"sans-serif\" font-size=\"13\" lengthAdjust=\"spacingAndGlyphs\" textLength=\"64\" x=\"65\" y=\"180.0669\">«depend»</text></a><!--MD5=[bfa3c8b0d15052fdf50ae9310b491027]\n",
       "link E8 to E7--><a href=\"psysml:80784242-98cb-449c-a51f-f2c7c1061d87\" target=\"_top\" title=\"psysml:80784242-98cb-449c-a51f-f2c7c1061d87\" xlink:actuate=\"onRequest\" xlink:href=\"psysml:80784242-98cb-449c-a51f-f2c7c1061d87\" xlink:show=\"new\" xlink:title=\"psysml:80784242-98cb-449c-a51f-f2c7c1061d87\" xlink:type=\"simple\"><path d=\"M129.28,133.5 C138.17,154.57 151.64,186.5 161.47,209.81 \" fill=\"none\" id=\"E8-&gt;E7\" style=\"stroke: #383838; stroke-width: 1.0; stroke-dasharray: 7.0,7.0;\"/><polygon fill=\"#383838\" points=\"164.66,217.35,164.3241,208.8126,158.7933,211.1385,164.66,217.35\" style=\"stroke: #383838; stroke-width: 1.0;\"/><text fill=\"#000000\" font-family=\"sans-serif\" font-size=\"13\" lengthAdjust=\"spacingAndGlyphs\" textLength=\"64\" x=\"151\" y=\"180.0669\">«depend»</text></a><!--MD5=[b97d98428df21037451298b8b6e1f35c]\n",
       "@startuml\r\n",
       "skinparam monochrome true\r\n",
       "skinparam classbackgroundcolor white\r\n",
       "skinparam shadowing false\r\n",
       "skinparam wrapWidth 300\r\n",
       "hide circle\r\n",
       "\r\n",
       "package \"DependencyTest\" as E1  [[psysml:438e34af-3ce5-4e99-acf4-d3ecd205ea23 ]]  {\r\n",
       "package \"System\" as E2  [[psysml:33a226aa-95cf-4670-96e1-1bd6e94f796f ]]  {\r\n",
       "package \"Application Layer\" as E3  [[psysml:add81eb6-248c-4298-8987-63cd174f8097 ]]  {\r\n",
       "}\r\n",
       "package \"Service Layer\" as E4  [[psysml:95ba016d-ba70-4f40-a2b0-65410d9cce5b ]]  {\r\n",
       "}\r\n",
       "package \"Data Layer\" as E5  [[psysml:ae80162e-06ca-4b24-a1f3-10c5d346ebc4 ]]  {\r\n",
       "}\r\n",
       "}\r\n",
       "comp usage \"x\" as E6  <<(T,blue)attribute>> [[psysml:747ec202-6e4c-456d-855d-21470db0b7f2 ]] {\r\n",
       "}\r\n",
       "comp usage \"y\" as E7  <<(T,blue)attribute>> [[psysml:aee293b7-b915-4f4d-bf33-13d7af80ad07 ]] {\r\n",
       "}\r\n",
       "comp usage \"z\" as E8  <<(T,blue)attribute>> [[psysml:1c42907e-9ca4-4468-bbbb-1ea70701dab3 ]] {\r\n",
       "}\r\n",
       "E3 ..>> E4 [[psysml:4c7b915e-320e-40c7-9399-584f1f84a9d7 ]] : <<depend>>\r\n",
       "E4 ..>> E5 [[psysml:9be59ee3-60f5-4004-bc3e-00c0f7693956 ]] : <<depend>>\r\n",
       "E8 ..>> E6 [[psysml:80784242-98cb-449c-a51f-f2c7c1061d87 ]] : <<depend>>\r\n",
       "E8 ..>> E7 [[psysml:80784242-98cb-449c-a51f-f2c7c1061d87 ]] : <<depend>>\r\n",
       "}\r\n",
       "@enduml\r\n",
       "\n",
       "PlantUML version 1.2020.13(Sat Jun 13 12:26:38 UTC 2020)\n",
       "(EPL source distribution)\n",
       "Java Runtime: OpenJDK Runtime Environment\n",
       "JVM: OpenJDK 64-Bit Server VM\n",
       "Default Encoding: UTF-8\n",
       "Language: en\n",
       "Country: null\n",
       "--></g></svg>"
      ]
     },
     "execution_count": 42,
     "metadata": {},
     "output_type": "execute_result"
    }
   ],
   "source": [
    "%viz --style=\"DEFAULT\" --view=\"Sequence\" \"DependencyTest\""
   ]
  },
  {
   "cell_type": "code",
   "execution_count": 43,
   "id": "cubic-magnitude",
   "metadata": {
    "execution": {
     "iopub.execute_input": "2021-03-25T13:26:20.125373Z",
     "iopub.status.busy": "2021-03-25T13:26:20.124551Z",
     "iopub.status.idle": "2021-03-25T13:26:20.219325Z",
     "shell.execute_reply": "2021-03-25T13:26:20.217386Z"
    }
   },
   "outputs": [
    {
     "data": {
      "image/svg+xml": [
       "<?xml version=\"1.0\" encoding=\"UTF-8\" standalone=\"no\"?><svg xmlns=\"http://www.w3.org/2000/svg\" xmlns:xlink=\"http://www.w3.org/1999/xlink\" contentScriptType=\"application/ecmascript\" contentStyleType=\"text/css\" height=\"449px\" preserveAspectRatio=\"none\" style=\"width:489px;height:449px;\" version=\"1.1\" viewBox=\"0 0 489 449\" width=\"489px\" zoomAndPan=\"magnify\"><defs/><g><!--MD5=[fbc87193dbaf4d95561dea2c320d4a47]\n",
       "cluster E1--><a href=\"psysml:438e34af-3ce5-4e99-acf4-d3ecd205ea23\" target=\"_top\" title=\"psysml:438e34af-3ce5-4e99-acf4-d3ecd205ea23\" xlink:actuate=\"onRequest\" xlink:href=\"psysml:438e34af-3ce5-4e99-acf4-d3ecd205ea23\" xlink:show=\"new\" xlink:title=\"psysml:438e34af-3ce5-4e99-acf4-d3ecd205ea23\" xlink:type=\"simple\"><polygon fill=\"#FFFFFF\" points=\"16,6,156,6,163,28.2969,467,28.2969,467,437,16,437,16,6\" style=\"stroke: #000000; stroke-width: 1.5;\"/><line style=\"stroke: #000000; stroke-width: 1.5;\" x1=\"16\" x2=\"163\" y1=\"28.2969\" y2=\"28.2969\"/><text fill=\"#000000\" font-family=\"sans-serif\" font-size=\"14\" font-weight=\"bold\" lengthAdjust=\"spacingAndGlyphs\" textLength=\"134\" x=\"20\" y=\"20.9951\">DependencyTest</text></a><!--MD5=[e4f7fae6ed58524ba242bb0b0d3be6b7]\n",
       "cluster E2--><a href=\"psysml:33a226aa-95cf-4670-96e1-1bd6e94f796f\" target=\"_top\" title=\"psysml:33a226aa-95cf-4670-96e1-1bd6e94f796f\" xlink:actuate=\"onRequest\" xlink:href=\"psysml:33a226aa-95cf-4670-96e1-1bd6e94f796f\" xlink:show=\"new\" xlink:title=\"psysml:33a226aa-95cf-4670-96e1-1bd6e94f796f\" xlink:type=\"simple\"><polygon fill=\"#FFFFFF\" points=\"255,49,319,49,326,71.2969,443,71.2969,443,413,255,413,255,49\" style=\"stroke: #000000; stroke-width: 1.5;\"/><line style=\"stroke: #000000; stroke-width: 1.5;\" x1=\"255\" x2=\"326\" y1=\"71.2969\" y2=\"71.2969\"/><text fill=\"#000000\" font-family=\"sans-serif\" font-size=\"14\" font-weight=\"bold\" lengthAdjust=\"spacingAndGlyphs\" textLength=\"58\" x=\"259\" y=\"63.9951\">System</text></a><!--MD5=[60a26617385b1d2d0262a64233df1f8d]\n",
       "class E6--><a href=\"psysml:747ec202-6e4c-456d-855d-21470db0b7f2\" target=\"_top\" title=\"psysml:747ec202-6e4c-456d-855d-21470db0b7f2\" xlink:actuate=\"onRequest\" xlink:href=\"psysml:747ec202-6e4c-456d-855d-21470db0b7f2\" xlink:show=\"new\" xlink:title=\"psysml:747ec202-6e4c-456d-855d-21470db0b7f2\" xlink:type=\"simple\"><rect fill=\"#FFFFFF\" height=\"45.9375\" id=\"E6\" rx=\"10\" ry=\"10\" style=\"stroke: #383838; stroke-width: 1.5;\" width=\"71\" x=\"32.5\" y=\"217.5\"/><text fill=\"#000000\" font-family=\"sans-serif\" font-size=\"12\" font-style=\"italic\" lengthAdjust=\"spacingAndGlyphs\" textLength=\"69\" x=\"33.5\" y=\"233.6387\">«attribute»</text><text fill=\"#000000\" font-family=\"sans-serif\" font-size=\"12\" lengthAdjust=\"spacingAndGlyphs\" textLength=\"6\" x=\"65\" y=\"247.6074\">x</text><line style=\"stroke: #383838; stroke-width: 1.5;\" x1=\"33.5\" x2=\"102.5\" y1=\"255.4375\" y2=\"255.4375\"/></a><!--MD5=[2156ba9850f5573cc1fc38a6a4b2f02b]\n",
       "class E7--><a href=\"psysml:aee293b7-b915-4f4d-bf33-13d7af80ad07\" target=\"_top\" title=\"psysml:aee293b7-b915-4f4d-bf33-13d7af80ad07\" xlink:actuate=\"onRequest\" xlink:href=\"psysml:aee293b7-b915-4f4d-bf33-13d7af80ad07\" xlink:show=\"new\" xlink:title=\"psysml:aee293b7-b915-4f4d-bf33-13d7af80ad07\" xlink:type=\"simple\"><rect fill=\"#FFFFFF\" height=\"45.9375\" id=\"E7\" rx=\"10\" ry=\"10\" style=\"stroke: #383838; stroke-width: 1.5;\" width=\"71\" x=\"138.5\" y=\"217.5\"/><text fill=\"#000000\" font-family=\"sans-serif\" font-size=\"12\" font-style=\"italic\" lengthAdjust=\"spacingAndGlyphs\" textLength=\"69\" x=\"139.5\" y=\"233.6387\">«attribute»</text><text fill=\"#000000\" font-family=\"sans-serif\" font-size=\"12\" lengthAdjust=\"spacingAndGlyphs\" textLength=\"6\" x=\"171\" y=\"247.6074\">y</text><line style=\"stroke: #383838; stroke-width: 1.5;\" x1=\"139.5\" x2=\"208.5\" y1=\"255.4375\" y2=\"255.4375\"/></a><!--MD5=[b9389687b975829384b498ac4b7476b2]\n",
       "class E8--><a href=\"psysml:1c42907e-9ca4-4468-bbbb-1ea70701dab3\" target=\"_top\" title=\"psysml:1c42907e-9ca4-4468-bbbb-1ea70701dab3\" xlink:actuate=\"onRequest\" xlink:href=\"psysml:1c42907e-9ca4-4468-bbbb-1ea70701dab3\" xlink:show=\"new\" xlink:title=\"psysml:1c42907e-9ca4-4468-bbbb-1ea70701dab3\" xlink:type=\"simple\"><rect fill=\"#FFFFFF\" height=\"45.9375\" id=\"E8\" rx=\"10\" ry=\"10\" style=\"stroke: #383838; stroke-width: 1.5;\" width=\"71\" x=\"84.5\" y=\"87.5\"/><text fill=\"#000000\" font-family=\"sans-serif\" font-size=\"12\" font-style=\"italic\" lengthAdjust=\"spacingAndGlyphs\" textLength=\"69\" x=\"85.5\" y=\"103.6387\">«attribute»</text><text fill=\"#000000\" font-family=\"sans-serif\" font-size=\"12\" lengthAdjust=\"spacingAndGlyphs\" textLength=\"5\" x=\"117.5\" y=\"117.6074\">z</text><line style=\"stroke: #383838; stroke-width: 1.5;\" x1=\"85.5\" x2=\"154.5\" y1=\"125.4375\" y2=\"125.4375\"/></a><a href=\"psysml:add81eb6-248c-4298-8987-63cd174f8097\" target=\"_top\" title=\"psysml:add81eb6-248c-4298-8987-63cd174f8097\" xlink:actuate=\"onRequest\" xlink:href=\"psysml:add81eb6-248c-4298-8987-63cd174f8097\" xlink:show=\"new\" xlink:title=\"psysml:add81eb6-248c-4298-8987-63cd174f8097\" xlink:type=\"simple\"><polygon fill=\"#FFFFFF\" points=\"271,84,413,84,420,106.2969,427,106.2969,427,136.5938,271,136.5938,271,84\" style=\"stroke: #000000; stroke-width: 1.5;\"/><line style=\"stroke: #000000; stroke-width: 1.5;\" x1=\"271\" x2=\"420\" y1=\"106.2969\" y2=\"106.2969\"/><text fill=\"#000000\" font-family=\"sans-serif\" font-size=\"14\" font-weight=\"bold\" lengthAdjust=\"spacingAndGlyphs\" textLength=\"136\" x=\"275\" y=\"98.9951\">Application Layer</text></a><a href=\"psysml:95ba016d-ba70-4f40-a2b0-65410d9cce5b\" target=\"_top\" title=\"psysml:95ba016d-ba70-4f40-a2b0-65410d9cce5b\" xlink:actuate=\"onRequest\" xlink:href=\"psysml:95ba016d-ba70-4f40-a2b0-65410d9cce5b\" xlink:show=\"new\" xlink:title=\"psysml:95ba016d-ba70-4f40-a2b0-65410d9cce5b\" xlink:type=\"simple\"><polygon fill=\"#FFFFFF\" points=\"285,214,399,214,406,236.2969,413,236.2969,413,266.5938,285,266.5938,285,214\" style=\"stroke: #000000; stroke-width: 1.5;\"/><line style=\"stroke: #000000; stroke-width: 1.5;\" x1=\"285\" x2=\"406\" y1=\"236.2969\" y2=\"236.2969\"/><text fill=\"#000000\" font-family=\"sans-serif\" font-size=\"14\" font-weight=\"bold\" lengthAdjust=\"spacingAndGlyphs\" textLength=\"108\" x=\"289\" y=\"228.9951\">Service Layer</text></a><a href=\"psysml:ae80162e-06ca-4b24-a1f3-10c5d346ebc4\" target=\"_top\" title=\"psysml:ae80162e-06ca-4b24-a1f3-10c5d346ebc4\" xlink:actuate=\"onRequest\" xlink:href=\"psysml:ae80162e-06ca-4b24-a1f3-10c5d346ebc4\" xlink:show=\"new\" xlink:title=\"psysml:ae80162e-06ca-4b24-a1f3-10c5d346ebc4\" xlink:type=\"simple\"><polygon fill=\"#FFFFFF\" points=\"297,344,387,344,394,366.2969,401,366.2969,401,396.5938,297,396.5938,297,344\" style=\"stroke: #000000; stroke-width: 1.5;\"/><line style=\"stroke: #000000; stroke-width: 1.5;\" x1=\"297\" x2=\"394\" y1=\"366.2969\" y2=\"366.2969\"/><text fill=\"#000000\" font-family=\"sans-serif\" font-size=\"14\" font-weight=\"bold\" lengthAdjust=\"spacingAndGlyphs\" textLength=\"84\" x=\"301\" y=\"358.9951\">Data Layer</text></a><!--MD5=[af87c684e3b0d8be13c1a698a818ef1e]\n",
       "link E3 to E4--><a href=\"psysml:4c7b915e-320e-40c7-9399-584f1f84a9d7\" target=\"_top\" title=\"psysml:4c7b915e-320e-40c7-9399-584f1f84a9d7\" xlink:actuate=\"onRequest\" xlink:href=\"psysml:4c7b915e-320e-40c7-9399-584f1f84a9d7\" xlink:show=\"new\" xlink:title=\"psysml:4c7b915e-320e-40c7-9399-584f1f84a9d7\" xlink:type=\"simple\"><path d=\"M349,137.1 C349,156.8 349,184.22 349,205.73 \" fill=\"none\" id=\"E3-&gt;E4\" style=\"stroke: #383838; stroke-width: 1.0; stroke-dasharray: 7.0,7.0;\"/><polygon fill=\"#383838\" points=\"349,213.95,352,205.95,346,205.95,349,213.95\" style=\"stroke: #383838; stroke-width: 1.0;\"/><text fill=\"#000000\" font-family=\"sans-serif\" font-size=\"13\" lengthAdjust=\"spacingAndGlyphs\" textLength=\"64\" x=\"350\" y=\"180.0669\">«depend»</text></a><!--MD5=[1b7591eae5389033d8d09a9d6721a717]\n",
       "link E4 to E5--><a href=\"psysml:9be59ee3-60f5-4004-bc3e-00c0f7693956\" target=\"_top\" title=\"psysml:9be59ee3-60f5-4004-bc3e-00c0f7693956\" xlink:actuate=\"onRequest\" xlink:href=\"psysml:9be59ee3-60f5-4004-bc3e-00c0f7693956\" xlink:show=\"new\" xlink:title=\"psysml:9be59ee3-60f5-4004-bc3e-00c0f7693956\" xlink:type=\"simple\"><path d=\"M349,267.1 C349,286.8 349,314.22 349,335.73 \" fill=\"none\" id=\"E4-&gt;E5\" style=\"stroke: #383838; stroke-width: 1.0; stroke-dasharray: 7.0,7.0;\"/><polygon fill=\"#383838\" points=\"349,343.95,352,335.95,346,335.95,349,343.95\" style=\"stroke: #383838; stroke-width: 1.0;\"/><text fill=\"#000000\" font-family=\"sans-serif\" font-size=\"13\" lengthAdjust=\"spacingAndGlyphs\" textLength=\"64\" x=\"350\" y=\"310.0669\">«depend»</text></a><!--MD5=[c5e8897d989ce984f93528998a7150fe]\n",
       "link E8 to E6--><a href=\"psysml:80784242-98cb-449c-a51f-f2c7c1061d87\" target=\"_top\" title=\"psysml:80784242-98cb-449c-a51f-f2c7c1061d87\" xlink:actuate=\"onRequest\" xlink:href=\"psysml:80784242-98cb-449c-a51f-f2c7c1061d87\" xlink:show=\"new\" xlink:title=\"psysml:80784242-98cb-449c-a51f-f2c7c1061d87\" xlink:type=\"simple\"><path d=\"M89.42,133.6 C79.35,142.68 69.37,154.11 64,167 C58.5,180.2 58.66,195.94 60.54,209.38 \" fill=\"none\" id=\"E8-&gt;E6\" style=\"stroke: #383838; stroke-width: 1.0; stroke-dasharray: 7.0,7.0;\"/><polygon fill=\"#383838\" points=\"61.9,217.4,63.517,209.0104,57.6018,210.0159,61.9,217.4\" style=\"stroke: #383838; stroke-width: 1.0;\"/><text fill=\"#000000\" font-family=\"sans-serif\" font-size=\"13\" lengthAdjust=\"spacingAndGlyphs\" textLength=\"64\" x=\"65\" y=\"180.0669\">«depend»</text></a><!--MD5=[bfa3c8b0d15052fdf50ae9310b491027]\n",
       "link E8 to E7--><a href=\"psysml:80784242-98cb-449c-a51f-f2c7c1061d87\" target=\"_top\" title=\"psysml:80784242-98cb-449c-a51f-f2c7c1061d87\" xlink:actuate=\"onRequest\" xlink:href=\"psysml:80784242-98cb-449c-a51f-f2c7c1061d87\" xlink:show=\"new\" xlink:title=\"psysml:80784242-98cb-449c-a51f-f2c7c1061d87\" xlink:type=\"simple\"><path d=\"M129.28,133.5 C138.17,154.57 151.64,186.5 161.47,209.81 \" fill=\"none\" id=\"E8-&gt;E7\" style=\"stroke: #383838; stroke-width: 1.0; stroke-dasharray: 7.0,7.0;\"/><polygon fill=\"#383838\" points=\"164.66,217.35,164.3241,208.8126,158.7933,211.1385,164.66,217.35\" style=\"stroke: #383838; stroke-width: 1.0;\"/><text fill=\"#000000\" font-family=\"sans-serif\" font-size=\"13\" lengthAdjust=\"spacingAndGlyphs\" textLength=\"64\" x=\"151\" y=\"180.0669\">«depend»</text></a><!--MD5=[b97d98428df21037451298b8b6e1f35c]\n",
       "@startuml\r\n",
       "skinparam monochrome true\r\n",
       "skinparam classbackgroundcolor white\r\n",
       "skinparam shadowing false\r\n",
       "skinparam wrapWidth 300\r\n",
       "hide circle\r\n",
       "\r\n",
       "package \"DependencyTest\" as E1  [[psysml:438e34af-3ce5-4e99-acf4-d3ecd205ea23 ]]  {\r\n",
       "package \"System\" as E2  [[psysml:33a226aa-95cf-4670-96e1-1bd6e94f796f ]]  {\r\n",
       "package \"Application Layer\" as E3  [[psysml:add81eb6-248c-4298-8987-63cd174f8097 ]]  {\r\n",
       "}\r\n",
       "package \"Service Layer\" as E4  [[psysml:95ba016d-ba70-4f40-a2b0-65410d9cce5b ]]  {\r\n",
       "}\r\n",
       "package \"Data Layer\" as E5  [[psysml:ae80162e-06ca-4b24-a1f3-10c5d346ebc4 ]]  {\r\n",
       "}\r\n",
       "}\r\n",
       "comp usage \"x\" as E6  <<(T,blue)attribute>> [[psysml:747ec202-6e4c-456d-855d-21470db0b7f2 ]] {\r\n",
       "}\r\n",
       "comp usage \"y\" as E7  <<(T,blue)attribute>> [[psysml:aee293b7-b915-4f4d-bf33-13d7af80ad07 ]] {\r\n",
       "}\r\n",
       "comp usage \"z\" as E8  <<(T,blue)attribute>> [[psysml:1c42907e-9ca4-4468-bbbb-1ea70701dab3 ]] {\r\n",
       "}\r\n",
       "E3 ..>> E4 [[psysml:4c7b915e-320e-40c7-9399-584f1f84a9d7 ]] : <<depend>>\r\n",
       "E4 ..>> E5 [[psysml:9be59ee3-60f5-4004-bc3e-00c0f7693956 ]] : <<depend>>\r\n",
       "E8 ..>> E6 [[psysml:80784242-98cb-449c-a51f-f2c7c1061d87 ]] : <<depend>>\r\n",
       "E8 ..>> E7 [[psysml:80784242-98cb-449c-a51f-f2c7c1061d87 ]] : <<depend>>\r\n",
       "}\r\n",
       "@enduml\r\n",
       "\n",
       "PlantUML version 1.2020.13(Sat Jun 13 12:26:38 UTC 2020)\n",
       "(EPL source distribution)\n",
       "Java Runtime: OpenJDK Runtime Environment\n",
       "JVM: OpenJDK 64-Bit Server VM\n",
       "Default Encoding: UTF-8\n",
       "Language: en\n",
       "Country: null\n",
       "--></g></svg>"
      ]
     },
     "execution_count": 43,
     "metadata": {},
     "output_type": "execute_result"
    }
   ],
   "source": [
    "%viz --style=\"DEFAULT\" --view=\"MIXED\" \"DependencyTest\""
   ]
  },
  {
   "cell_type": "code",
   "execution_count": 44,
   "id": "billion-fourth",
   "metadata": {
    "execution": {
     "iopub.execute_input": "2021-03-25T13:26:20.270669Z",
     "iopub.status.busy": "2021-03-25T13:26:20.267609Z",
     "iopub.status.idle": "2021-03-25T13:26:20.359422Z",
     "shell.execute_reply": "2021-03-25T13:26:20.357685Z"
    }
   },
   "outputs": [
    {
     "data": {
      "image/svg+xml": [
       "<?xml version=\"1.0\" encoding=\"UTF-8\" standalone=\"no\"?><svg xmlns=\"http://www.w3.org/2000/svg\" xmlns:xlink=\"http://www.w3.org/1999/xlink\" contentScriptType=\"application/ecmascript\" contentStyleType=\"text/css\" height=\"449px\" preserveAspectRatio=\"none\" style=\"width:489px;height:449px;\" version=\"1.1\" viewBox=\"0 0 489 449\" width=\"489px\" zoomAndPan=\"magnify\"><defs/><g><!--MD5=[fbc87193dbaf4d95561dea2c320d4a47]\n",
       "cluster E1--><a href=\"psysml:438e34af-3ce5-4e99-acf4-d3ecd205ea23\" target=\"_top\" title=\"psysml:438e34af-3ce5-4e99-acf4-d3ecd205ea23\" xlink:actuate=\"onRequest\" xlink:href=\"psysml:438e34af-3ce5-4e99-acf4-d3ecd205ea23\" xlink:show=\"new\" xlink:title=\"psysml:438e34af-3ce5-4e99-acf4-d3ecd205ea23\" xlink:type=\"simple\"><polygon fill=\"#FFFFFF\" points=\"16,6,156,6,163,28.2969,467,28.2969,467,437,16,437,16,6\" style=\"stroke: #000000; stroke-width: 1.5;\"/><line style=\"stroke: #000000; stroke-width: 1.5;\" x1=\"16\" x2=\"163\" y1=\"28.2969\" y2=\"28.2969\"/><text fill=\"#000000\" font-family=\"sans-serif\" font-size=\"14\" font-weight=\"bold\" lengthAdjust=\"spacingAndGlyphs\" textLength=\"134\" x=\"20\" y=\"20.9951\">DependencyTest</text></a><!--MD5=[e4f7fae6ed58524ba242bb0b0d3be6b7]\n",
       "cluster E2--><a href=\"psysml:33a226aa-95cf-4670-96e1-1bd6e94f796f\" target=\"_top\" title=\"psysml:33a226aa-95cf-4670-96e1-1bd6e94f796f\" xlink:actuate=\"onRequest\" xlink:href=\"psysml:33a226aa-95cf-4670-96e1-1bd6e94f796f\" xlink:show=\"new\" xlink:title=\"psysml:33a226aa-95cf-4670-96e1-1bd6e94f796f\" xlink:type=\"simple\"><polygon fill=\"#FFFFFF\" points=\"255,49,319,49,326,71.2969,443,71.2969,443,413,255,413,255,49\" style=\"stroke: #000000; stroke-width: 1.5;\"/><line style=\"stroke: #000000; stroke-width: 1.5;\" x1=\"255\" x2=\"326\" y1=\"71.2969\" y2=\"71.2969\"/><text fill=\"#000000\" font-family=\"sans-serif\" font-size=\"14\" font-weight=\"bold\" lengthAdjust=\"spacingAndGlyphs\" textLength=\"58\" x=\"259\" y=\"63.9951\">System</text></a><!--MD5=[60a26617385b1d2d0262a64233df1f8d]\n",
       "class E6--><a href=\"psysml:747ec202-6e4c-456d-855d-21470db0b7f2\" target=\"_top\" title=\"psysml:747ec202-6e4c-456d-855d-21470db0b7f2\" xlink:actuate=\"onRequest\" xlink:href=\"psysml:747ec202-6e4c-456d-855d-21470db0b7f2\" xlink:show=\"new\" xlink:title=\"psysml:747ec202-6e4c-456d-855d-21470db0b7f2\" xlink:type=\"simple\"><rect fill=\"#FFFFFF\" height=\"45.9375\" id=\"E6\" rx=\"10\" ry=\"10\" style=\"stroke: #383838; stroke-width: 1.5;\" width=\"71\" x=\"32.5\" y=\"217.5\"/><text fill=\"#000000\" font-family=\"sans-serif\" font-size=\"12\" font-style=\"italic\" lengthAdjust=\"spacingAndGlyphs\" textLength=\"69\" x=\"33.5\" y=\"233.6387\">«attribute»</text><text fill=\"#000000\" font-family=\"sans-serif\" font-size=\"12\" lengthAdjust=\"spacingAndGlyphs\" textLength=\"6\" x=\"65\" y=\"247.6074\">x</text><line style=\"stroke: #383838; stroke-width: 1.5;\" x1=\"33.5\" x2=\"102.5\" y1=\"255.4375\" y2=\"255.4375\"/></a><!--MD5=[2156ba9850f5573cc1fc38a6a4b2f02b]\n",
       "class E7--><a href=\"psysml:aee293b7-b915-4f4d-bf33-13d7af80ad07\" target=\"_top\" title=\"psysml:aee293b7-b915-4f4d-bf33-13d7af80ad07\" xlink:actuate=\"onRequest\" xlink:href=\"psysml:aee293b7-b915-4f4d-bf33-13d7af80ad07\" xlink:show=\"new\" xlink:title=\"psysml:aee293b7-b915-4f4d-bf33-13d7af80ad07\" xlink:type=\"simple\"><rect fill=\"#FFFFFF\" height=\"45.9375\" id=\"E7\" rx=\"10\" ry=\"10\" style=\"stroke: #383838; stroke-width: 1.5;\" width=\"71\" x=\"138.5\" y=\"217.5\"/><text fill=\"#000000\" font-family=\"sans-serif\" font-size=\"12\" font-style=\"italic\" lengthAdjust=\"spacingAndGlyphs\" textLength=\"69\" x=\"139.5\" y=\"233.6387\">«attribute»</text><text fill=\"#000000\" font-family=\"sans-serif\" font-size=\"12\" lengthAdjust=\"spacingAndGlyphs\" textLength=\"6\" x=\"171\" y=\"247.6074\">y</text><line style=\"stroke: #383838; stroke-width: 1.5;\" x1=\"139.5\" x2=\"208.5\" y1=\"255.4375\" y2=\"255.4375\"/></a><!--MD5=[b9389687b975829384b498ac4b7476b2]\n",
       "class E8--><a href=\"psysml:1c42907e-9ca4-4468-bbbb-1ea70701dab3\" target=\"_top\" title=\"psysml:1c42907e-9ca4-4468-bbbb-1ea70701dab3\" xlink:actuate=\"onRequest\" xlink:href=\"psysml:1c42907e-9ca4-4468-bbbb-1ea70701dab3\" xlink:show=\"new\" xlink:title=\"psysml:1c42907e-9ca4-4468-bbbb-1ea70701dab3\" xlink:type=\"simple\"><rect fill=\"#FFFFFF\" height=\"45.9375\" id=\"E8\" rx=\"10\" ry=\"10\" style=\"stroke: #383838; stroke-width: 1.5;\" width=\"71\" x=\"84.5\" y=\"87.5\"/><text fill=\"#000000\" font-family=\"sans-serif\" font-size=\"12\" font-style=\"italic\" lengthAdjust=\"spacingAndGlyphs\" textLength=\"69\" x=\"85.5\" y=\"103.6387\">«attribute»</text><text fill=\"#000000\" font-family=\"sans-serif\" font-size=\"12\" lengthAdjust=\"spacingAndGlyphs\" textLength=\"5\" x=\"117.5\" y=\"117.6074\">z</text><line style=\"stroke: #383838; stroke-width: 1.5;\" x1=\"85.5\" x2=\"154.5\" y1=\"125.4375\" y2=\"125.4375\"/></a><a href=\"psysml:add81eb6-248c-4298-8987-63cd174f8097\" target=\"_top\" title=\"psysml:add81eb6-248c-4298-8987-63cd174f8097\" xlink:actuate=\"onRequest\" xlink:href=\"psysml:add81eb6-248c-4298-8987-63cd174f8097\" xlink:show=\"new\" xlink:title=\"psysml:add81eb6-248c-4298-8987-63cd174f8097\" xlink:type=\"simple\"><polygon fill=\"#FFFFFF\" points=\"271,84,413,84,420,106.2969,427,106.2969,427,136.5938,271,136.5938,271,84\" style=\"stroke: #000000; stroke-width: 1.5;\"/><line style=\"stroke: #000000; stroke-width: 1.5;\" x1=\"271\" x2=\"420\" y1=\"106.2969\" y2=\"106.2969\"/><text fill=\"#000000\" font-family=\"sans-serif\" font-size=\"14\" font-weight=\"bold\" lengthAdjust=\"spacingAndGlyphs\" textLength=\"136\" x=\"275\" y=\"98.9951\">Application Layer</text></a><a href=\"psysml:95ba016d-ba70-4f40-a2b0-65410d9cce5b\" target=\"_top\" title=\"psysml:95ba016d-ba70-4f40-a2b0-65410d9cce5b\" xlink:actuate=\"onRequest\" xlink:href=\"psysml:95ba016d-ba70-4f40-a2b0-65410d9cce5b\" xlink:show=\"new\" xlink:title=\"psysml:95ba016d-ba70-4f40-a2b0-65410d9cce5b\" xlink:type=\"simple\"><polygon fill=\"#FFFFFF\" points=\"285,214,399,214,406,236.2969,413,236.2969,413,266.5938,285,266.5938,285,214\" style=\"stroke: #000000; stroke-width: 1.5;\"/><line style=\"stroke: #000000; stroke-width: 1.5;\" x1=\"285\" x2=\"406\" y1=\"236.2969\" y2=\"236.2969\"/><text fill=\"#000000\" font-family=\"sans-serif\" font-size=\"14\" font-weight=\"bold\" lengthAdjust=\"spacingAndGlyphs\" textLength=\"108\" x=\"289\" y=\"228.9951\">Service Layer</text></a><a href=\"psysml:ae80162e-06ca-4b24-a1f3-10c5d346ebc4\" target=\"_top\" title=\"psysml:ae80162e-06ca-4b24-a1f3-10c5d346ebc4\" xlink:actuate=\"onRequest\" xlink:href=\"psysml:ae80162e-06ca-4b24-a1f3-10c5d346ebc4\" xlink:show=\"new\" xlink:title=\"psysml:ae80162e-06ca-4b24-a1f3-10c5d346ebc4\" xlink:type=\"simple\"><polygon fill=\"#FFFFFF\" points=\"297,344,387,344,394,366.2969,401,366.2969,401,396.5938,297,396.5938,297,344\" style=\"stroke: #000000; stroke-width: 1.5;\"/><line style=\"stroke: #000000; stroke-width: 1.5;\" x1=\"297\" x2=\"394\" y1=\"366.2969\" y2=\"366.2969\"/><text fill=\"#000000\" font-family=\"sans-serif\" font-size=\"14\" font-weight=\"bold\" lengthAdjust=\"spacingAndGlyphs\" textLength=\"84\" x=\"301\" y=\"358.9951\">Data Layer</text></a><!--MD5=[af87c684e3b0d8be13c1a698a818ef1e]\n",
       "link E3 to E4--><a href=\"psysml:4c7b915e-320e-40c7-9399-584f1f84a9d7\" target=\"_top\" title=\"psysml:4c7b915e-320e-40c7-9399-584f1f84a9d7\" xlink:actuate=\"onRequest\" xlink:href=\"psysml:4c7b915e-320e-40c7-9399-584f1f84a9d7\" xlink:show=\"new\" xlink:title=\"psysml:4c7b915e-320e-40c7-9399-584f1f84a9d7\" xlink:type=\"simple\"><path d=\"M349,137.1 C349,156.8 349,184.22 349,205.73 \" fill=\"none\" id=\"E3-&gt;E4\" style=\"stroke: #383838; stroke-width: 1.0; stroke-dasharray: 7.0,7.0;\"/><polygon fill=\"#383838\" points=\"349,213.95,352,205.95,346,205.95,349,213.95\" style=\"stroke: #383838; stroke-width: 1.0;\"/><text fill=\"#000000\" font-family=\"sans-serif\" font-size=\"13\" lengthAdjust=\"spacingAndGlyphs\" textLength=\"64\" x=\"350\" y=\"180.0669\">«depend»</text></a><!--MD5=[1b7591eae5389033d8d09a9d6721a717]\n",
       "link E4 to E5--><a href=\"psysml:9be59ee3-60f5-4004-bc3e-00c0f7693956\" target=\"_top\" title=\"psysml:9be59ee3-60f5-4004-bc3e-00c0f7693956\" xlink:actuate=\"onRequest\" xlink:href=\"psysml:9be59ee3-60f5-4004-bc3e-00c0f7693956\" xlink:show=\"new\" xlink:title=\"psysml:9be59ee3-60f5-4004-bc3e-00c0f7693956\" xlink:type=\"simple\"><path d=\"M349,267.1 C349,286.8 349,314.22 349,335.73 \" fill=\"none\" id=\"E4-&gt;E5\" style=\"stroke: #383838; stroke-width: 1.0; stroke-dasharray: 7.0,7.0;\"/><polygon fill=\"#383838\" points=\"349,343.95,352,335.95,346,335.95,349,343.95\" style=\"stroke: #383838; stroke-width: 1.0;\"/><text fill=\"#000000\" font-family=\"sans-serif\" font-size=\"13\" lengthAdjust=\"spacingAndGlyphs\" textLength=\"64\" x=\"350\" y=\"310.0669\">«depend»</text></a><!--MD5=[c5e8897d989ce984f93528998a7150fe]\n",
       "link E8 to E6--><a href=\"psysml:80784242-98cb-449c-a51f-f2c7c1061d87\" target=\"_top\" title=\"psysml:80784242-98cb-449c-a51f-f2c7c1061d87\" xlink:actuate=\"onRequest\" xlink:href=\"psysml:80784242-98cb-449c-a51f-f2c7c1061d87\" xlink:show=\"new\" xlink:title=\"psysml:80784242-98cb-449c-a51f-f2c7c1061d87\" xlink:type=\"simple\"><path d=\"M89.42,133.6 C79.35,142.68 69.37,154.11 64,167 C58.5,180.2 58.66,195.94 60.54,209.38 \" fill=\"none\" id=\"E8-&gt;E6\" style=\"stroke: #383838; stroke-width: 1.0; stroke-dasharray: 7.0,7.0;\"/><polygon fill=\"#383838\" points=\"61.9,217.4,63.517,209.0104,57.6018,210.0159,61.9,217.4\" style=\"stroke: #383838; stroke-width: 1.0;\"/><text fill=\"#000000\" font-family=\"sans-serif\" font-size=\"13\" lengthAdjust=\"spacingAndGlyphs\" textLength=\"64\" x=\"65\" y=\"180.0669\">«depend»</text></a><!--MD5=[bfa3c8b0d15052fdf50ae9310b491027]\n",
       "link E8 to E7--><a href=\"psysml:80784242-98cb-449c-a51f-f2c7c1061d87\" target=\"_top\" title=\"psysml:80784242-98cb-449c-a51f-f2c7c1061d87\" xlink:actuate=\"onRequest\" xlink:href=\"psysml:80784242-98cb-449c-a51f-f2c7c1061d87\" xlink:show=\"new\" xlink:title=\"psysml:80784242-98cb-449c-a51f-f2c7c1061d87\" xlink:type=\"simple\"><path d=\"M129.28,133.5 C138.17,154.57 151.64,186.5 161.47,209.81 \" fill=\"none\" id=\"E8-&gt;E7\" style=\"stroke: #383838; stroke-width: 1.0; stroke-dasharray: 7.0,7.0;\"/><polygon fill=\"#383838\" points=\"164.66,217.35,164.3241,208.8126,158.7933,211.1385,164.66,217.35\" style=\"stroke: #383838; stroke-width: 1.0;\"/><text fill=\"#000000\" font-family=\"sans-serif\" font-size=\"13\" lengthAdjust=\"spacingAndGlyphs\" textLength=\"64\" x=\"151\" y=\"180.0669\">«depend»</text></a><!--MD5=[efa95c2bbc99cd10b4c4005024125535]\n",
       "@startuml\r\n",
       "top to bottom direction\r\n",
       "skinparam monochrome true\r\n",
       "skinparam classbackgroundcolor white\r\n",
       "skinparam shadowing false\r\n",
       "skinparam wrapWidth 300\r\n",
       "hide circle\r\n",
       "\r\n",
       "package \"DependencyTest\" as E1  [[psysml:438e34af-3ce5-4e99-acf4-d3ecd205ea23 ]]  {\r\n",
       "package \"System\" as E2  [[psysml:33a226aa-95cf-4670-96e1-1bd6e94f796f ]]  {\r\n",
       "package \"Application Layer\" as E3  [[psysml:add81eb6-248c-4298-8987-63cd174f8097 ]]  {\r\n",
       "}\r\n",
       "package \"Service Layer\" as E4  [[psysml:95ba016d-ba70-4f40-a2b0-65410d9cce5b ]]  {\r\n",
       "}\r\n",
       "package \"Data Layer\" as E5  [[psysml:ae80162e-06ca-4b24-a1f3-10c5d346ebc4 ]]  {\r\n",
       "}\r\n",
       "}\r\n",
       "comp usage \"x\" as E6  <<(T,blue)attribute>> [[psysml:747ec202-6e4c-456d-855d-21470db0b7f2 ]] {\r\n",
       "}\r\n",
       "comp usage \"y\" as E7  <<(T,blue)attribute>> [[psysml:aee293b7-b915-4f4d-bf33-13d7af80ad07 ]] {\r\n",
       "}\r\n",
       "comp usage \"z\" as E8  <<(T,blue)attribute>> [[psysml:1c42907e-9ca4-4468-bbbb-1ea70701dab3 ]] {\r\n",
       "}\r\n",
       "E3 ..>> E4 [[psysml:4c7b915e-320e-40c7-9399-584f1f84a9d7 ]] : <<depend>>\r\n",
       "E4 ..>> E5 [[psysml:9be59ee3-60f5-4004-bc3e-00c0f7693956 ]] : <<depend>>\r\n",
       "E8 ..>> E6 [[psysml:80784242-98cb-449c-a51f-f2c7c1061d87 ]] : <<depend>>\r\n",
       "E8 ..>> E7 [[psysml:80784242-98cb-449c-a51f-f2c7c1061d87 ]] : <<depend>>\r\n",
       "}\r\n",
       "@enduml\r\n",
       "\n",
       "PlantUML version 1.2020.13(Sat Jun 13 12:26:38 UTC 2020)\n",
       "(EPL source distribution)\n",
       "Java Runtime: OpenJDK Runtime Environment\n",
       "JVM: OpenJDK 64-Bit Server VM\n",
       "Default Encoding: UTF-8\n",
       "Language: en\n",
       "Country: null\n",
       "--></g></svg>"
      ]
     },
     "execution_count": 44,
     "metadata": {},
     "output_type": "execute_result"
    }
   ],
   "source": [
    "%viz --style=\"TB\" --view=\"Default\" \"DependencyTest\""
   ]
  },
  {
   "cell_type": "code",
   "execution_count": 45,
   "id": "japanese-island",
   "metadata": {
    "execution": {
     "iopub.execute_input": "2021-03-25T13:26:20.410470Z",
     "iopub.status.busy": "2021-03-25T13:26:20.409889Z",
     "iopub.status.idle": "2021-03-25T13:26:20.505529Z",
     "shell.execute_reply": "2021-03-25T13:26:20.503819Z"
    }
   },
   "outputs": [
    {
     "data": {
      "image/svg+xml": [
       "<?xml version=\"1.0\" encoding=\"UTF-8\" standalone=\"no\"?><svg xmlns=\"http://www.w3.org/2000/svg\" xmlns:xlink=\"http://www.w3.org/1999/xlink\" contentScriptType=\"application/ecmascript\" contentStyleType=\"text/css\" height=\"449px\" preserveAspectRatio=\"none\" style=\"width:489px;height:449px;\" version=\"1.1\" viewBox=\"0 0 489 449\" width=\"489px\" zoomAndPan=\"magnify\"><defs/><g><!--MD5=[fbc87193dbaf4d95561dea2c320d4a47]\n",
       "cluster E1--><a href=\"psysml:438e34af-3ce5-4e99-acf4-d3ecd205ea23\" target=\"_top\" title=\"psysml:438e34af-3ce5-4e99-acf4-d3ecd205ea23\" xlink:actuate=\"onRequest\" xlink:href=\"psysml:438e34af-3ce5-4e99-acf4-d3ecd205ea23\" xlink:show=\"new\" xlink:title=\"psysml:438e34af-3ce5-4e99-acf4-d3ecd205ea23\" xlink:type=\"simple\"><polygon fill=\"#FFFFFF\" points=\"16,6,156,6,163,28.2969,467,28.2969,467,437,16,437,16,6\" style=\"stroke: #000000; stroke-width: 1.5;\"/><line style=\"stroke: #000000; stroke-width: 1.5;\" x1=\"16\" x2=\"163\" y1=\"28.2969\" y2=\"28.2969\"/><text fill=\"#000000\" font-family=\"sans-serif\" font-size=\"14\" font-weight=\"bold\" lengthAdjust=\"spacingAndGlyphs\" textLength=\"134\" x=\"20\" y=\"20.9951\">DependencyTest</text></a><!--MD5=[e4f7fae6ed58524ba242bb0b0d3be6b7]\n",
       "cluster E2--><a href=\"psysml:33a226aa-95cf-4670-96e1-1bd6e94f796f\" target=\"_top\" title=\"psysml:33a226aa-95cf-4670-96e1-1bd6e94f796f\" xlink:actuate=\"onRequest\" xlink:href=\"psysml:33a226aa-95cf-4670-96e1-1bd6e94f796f\" xlink:show=\"new\" xlink:title=\"psysml:33a226aa-95cf-4670-96e1-1bd6e94f796f\" xlink:type=\"simple\"><polygon fill=\"#FFFFFF\" points=\"255,49,319,49,326,71.2969,443,71.2969,443,413,255,413,255,49\" style=\"stroke: #000000; stroke-width: 1.5;\"/><line style=\"stroke: #000000; stroke-width: 1.5;\" x1=\"255\" x2=\"326\" y1=\"71.2969\" y2=\"71.2969\"/><text fill=\"#000000\" font-family=\"sans-serif\" font-size=\"14\" font-weight=\"bold\" lengthAdjust=\"spacingAndGlyphs\" textLength=\"58\" x=\"259\" y=\"63.9951\">System</text></a><!--MD5=[60a26617385b1d2d0262a64233df1f8d]\n",
       "class E6--><a href=\"psysml:747ec202-6e4c-456d-855d-21470db0b7f2\" target=\"_top\" title=\"psysml:747ec202-6e4c-456d-855d-21470db0b7f2\" xlink:actuate=\"onRequest\" xlink:href=\"psysml:747ec202-6e4c-456d-855d-21470db0b7f2\" xlink:show=\"new\" xlink:title=\"psysml:747ec202-6e4c-456d-855d-21470db0b7f2\" xlink:type=\"simple\"><rect fill=\"#FFFFFF\" height=\"45.9375\" id=\"E6\" rx=\"10\" ry=\"10\" style=\"stroke: #383838; stroke-width: 1.5;\" width=\"71\" x=\"32.5\" y=\"217.5\"/><text fill=\"#000000\" font-family=\"sans-serif\" font-size=\"12\" font-style=\"italic\" lengthAdjust=\"spacingAndGlyphs\" textLength=\"69\" x=\"33.5\" y=\"233.6387\">«attribute»</text><text fill=\"#000000\" font-family=\"sans-serif\" font-size=\"12\" lengthAdjust=\"spacingAndGlyphs\" textLength=\"6\" x=\"65\" y=\"247.6074\">x</text><line style=\"stroke: #383838; stroke-width: 1.5;\" x1=\"33.5\" x2=\"102.5\" y1=\"255.4375\" y2=\"255.4375\"/></a><!--MD5=[2156ba9850f5573cc1fc38a6a4b2f02b]\n",
       "class E7--><a href=\"psysml:aee293b7-b915-4f4d-bf33-13d7af80ad07\" target=\"_top\" title=\"psysml:aee293b7-b915-4f4d-bf33-13d7af80ad07\" xlink:actuate=\"onRequest\" xlink:href=\"psysml:aee293b7-b915-4f4d-bf33-13d7af80ad07\" xlink:show=\"new\" xlink:title=\"psysml:aee293b7-b915-4f4d-bf33-13d7af80ad07\" xlink:type=\"simple\"><rect fill=\"#FFFFFF\" height=\"45.9375\" id=\"E7\" rx=\"10\" ry=\"10\" style=\"stroke: #383838; stroke-width: 1.5;\" width=\"71\" x=\"138.5\" y=\"217.5\"/><text fill=\"#000000\" font-family=\"sans-serif\" font-size=\"12\" font-style=\"italic\" lengthAdjust=\"spacingAndGlyphs\" textLength=\"69\" x=\"139.5\" y=\"233.6387\">«attribute»</text><text fill=\"#000000\" font-family=\"sans-serif\" font-size=\"12\" lengthAdjust=\"spacingAndGlyphs\" textLength=\"6\" x=\"171\" y=\"247.6074\">y</text><line style=\"stroke: #383838; stroke-width: 1.5;\" x1=\"139.5\" x2=\"208.5\" y1=\"255.4375\" y2=\"255.4375\"/></a><!--MD5=[b9389687b975829384b498ac4b7476b2]\n",
       "class E8--><a href=\"psysml:1c42907e-9ca4-4468-bbbb-1ea70701dab3\" target=\"_top\" title=\"psysml:1c42907e-9ca4-4468-bbbb-1ea70701dab3\" xlink:actuate=\"onRequest\" xlink:href=\"psysml:1c42907e-9ca4-4468-bbbb-1ea70701dab3\" xlink:show=\"new\" xlink:title=\"psysml:1c42907e-9ca4-4468-bbbb-1ea70701dab3\" xlink:type=\"simple\"><rect fill=\"#FFFFFF\" height=\"45.9375\" id=\"E8\" rx=\"10\" ry=\"10\" style=\"stroke: #383838; stroke-width: 1.5;\" width=\"71\" x=\"84.5\" y=\"87.5\"/><text fill=\"#000000\" font-family=\"sans-serif\" font-size=\"12\" font-style=\"italic\" lengthAdjust=\"spacingAndGlyphs\" textLength=\"69\" x=\"85.5\" y=\"103.6387\">«attribute»</text><text fill=\"#000000\" font-family=\"sans-serif\" font-size=\"12\" lengthAdjust=\"spacingAndGlyphs\" textLength=\"5\" x=\"117.5\" y=\"117.6074\">z</text><line style=\"stroke: #383838; stroke-width: 1.5;\" x1=\"85.5\" x2=\"154.5\" y1=\"125.4375\" y2=\"125.4375\"/></a><a href=\"psysml:add81eb6-248c-4298-8987-63cd174f8097\" target=\"_top\" title=\"psysml:add81eb6-248c-4298-8987-63cd174f8097\" xlink:actuate=\"onRequest\" xlink:href=\"psysml:add81eb6-248c-4298-8987-63cd174f8097\" xlink:show=\"new\" xlink:title=\"psysml:add81eb6-248c-4298-8987-63cd174f8097\" xlink:type=\"simple\"><polygon fill=\"#FFFFFF\" points=\"271,84,413,84,420,106.2969,427,106.2969,427,136.5938,271,136.5938,271,84\" style=\"stroke: #000000; stroke-width: 1.5;\"/><line style=\"stroke: #000000; stroke-width: 1.5;\" x1=\"271\" x2=\"420\" y1=\"106.2969\" y2=\"106.2969\"/><text fill=\"#000000\" font-family=\"sans-serif\" font-size=\"14\" font-weight=\"bold\" lengthAdjust=\"spacingAndGlyphs\" textLength=\"136\" x=\"275\" y=\"98.9951\">Application Layer</text></a><a href=\"psysml:95ba016d-ba70-4f40-a2b0-65410d9cce5b\" target=\"_top\" title=\"psysml:95ba016d-ba70-4f40-a2b0-65410d9cce5b\" xlink:actuate=\"onRequest\" xlink:href=\"psysml:95ba016d-ba70-4f40-a2b0-65410d9cce5b\" xlink:show=\"new\" xlink:title=\"psysml:95ba016d-ba70-4f40-a2b0-65410d9cce5b\" xlink:type=\"simple\"><polygon fill=\"#FFFFFF\" points=\"285,214,399,214,406,236.2969,413,236.2969,413,266.5938,285,266.5938,285,214\" style=\"stroke: #000000; stroke-width: 1.5;\"/><line style=\"stroke: #000000; stroke-width: 1.5;\" x1=\"285\" x2=\"406\" y1=\"236.2969\" y2=\"236.2969\"/><text fill=\"#000000\" font-family=\"sans-serif\" font-size=\"14\" font-weight=\"bold\" lengthAdjust=\"spacingAndGlyphs\" textLength=\"108\" x=\"289\" y=\"228.9951\">Service Layer</text></a><a href=\"psysml:ae80162e-06ca-4b24-a1f3-10c5d346ebc4\" target=\"_top\" title=\"psysml:ae80162e-06ca-4b24-a1f3-10c5d346ebc4\" xlink:actuate=\"onRequest\" xlink:href=\"psysml:ae80162e-06ca-4b24-a1f3-10c5d346ebc4\" xlink:show=\"new\" xlink:title=\"psysml:ae80162e-06ca-4b24-a1f3-10c5d346ebc4\" xlink:type=\"simple\"><polygon fill=\"#FFFFFF\" points=\"297,344,387,344,394,366.2969,401,366.2969,401,396.5938,297,396.5938,297,344\" style=\"stroke: #000000; stroke-width: 1.5;\"/><line style=\"stroke: #000000; stroke-width: 1.5;\" x1=\"297\" x2=\"394\" y1=\"366.2969\" y2=\"366.2969\"/><text fill=\"#000000\" font-family=\"sans-serif\" font-size=\"14\" font-weight=\"bold\" lengthAdjust=\"spacingAndGlyphs\" textLength=\"84\" x=\"301\" y=\"358.9951\">Data Layer</text></a><!--MD5=[af87c684e3b0d8be13c1a698a818ef1e]\n",
       "link E3 to E4--><a href=\"psysml:4c7b915e-320e-40c7-9399-584f1f84a9d7\" target=\"_top\" title=\"psysml:4c7b915e-320e-40c7-9399-584f1f84a9d7\" xlink:actuate=\"onRequest\" xlink:href=\"psysml:4c7b915e-320e-40c7-9399-584f1f84a9d7\" xlink:show=\"new\" xlink:title=\"psysml:4c7b915e-320e-40c7-9399-584f1f84a9d7\" xlink:type=\"simple\"><path d=\"M349,137.1 C349,156.8 349,184.22 349,205.73 \" fill=\"none\" id=\"E3-&gt;E4\" style=\"stroke: #383838; stroke-width: 1.0; stroke-dasharray: 7.0,7.0;\"/><polygon fill=\"#383838\" points=\"349,213.95,352,205.95,346,205.95,349,213.95\" style=\"stroke: #383838; stroke-width: 1.0;\"/><text fill=\"#000000\" font-family=\"sans-serif\" font-size=\"13\" lengthAdjust=\"spacingAndGlyphs\" textLength=\"64\" x=\"350\" y=\"180.0669\">«depend»</text></a><!--MD5=[1b7591eae5389033d8d09a9d6721a717]\n",
       "link E4 to E5--><a href=\"psysml:9be59ee3-60f5-4004-bc3e-00c0f7693956\" target=\"_top\" title=\"psysml:9be59ee3-60f5-4004-bc3e-00c0f7693956\" xlink:actuate=\"onRequest\" xlink:href=\"psysml:9be59ee3-60f5-4004-bc3e-00c0f7693956\" xlink:show=\"new\" xlink:title=\"psysml:9be59ee3-60f5-4004-bc3e-00c0f7693956\" xlink:type=\"simple\"><path d=\"M349,267.1 C349,286.8 349,314.22 349,335.73 \" fill=\"none\" id=\"E4-&gt;E5\" style=\"stroke: #383838; stroke-width: 1.0; stroke-dasharray: 7.0,7.0;\"/><polygon fill=\"#383838\" points=\"349,343.95,352,335.95,346,335.95,349,343.95\" style=\"stroke: #383838; stroke-width: 1.0;\"/><text fill=\"#000000\" font-family=\"sans-serif\" font-size=\"13\" lengthAdjust=\"spacingAndGlyphs\" textLength=\"64\" x=\"350\" y=\"310.0669\">«depend»</text></a><!--MD5=[c5e8897d989ce984f93528998a7150fe]\n",
       "link E8 to E6--><a href=\"psysml:80784242-98cb-449c-a51f-f2c7c1061d87\" target=\"_top\" title=\"psysml:80784242-98cb-449c-a51f-f2c7c1061d87\" xlink:actuate=\"onRequest\" xlink:href=\"psysml:80784242-98cb-449c-a51f-f2c7c1061d87\" xlink:show=\"new\" xlink:title=\"psysml:80784242-98cb-449c-a51f-f2c7c1061d87\" xlink:type=\"simple\"><path d=\"M89.42,133.6 C79.35,142.68 69.37,154.11 64,167 C58.5,180.2 58.66,195.94 60.54,209.38 \" fill=\"none\" id=\"E8-&gt;E6\" style=\"stroke: #383838; stroke-width: 1.0; stroke-dasharray: 7.0,7.0;\"/><polygon fill=\"#383838\" points=\"61.9,217.4,63.517,209.0104,57.6018,210.0159,61.9,217.4\" style=\"stroke: #383838; stroke-width: 1.0;\"/><text fill=\"#000000\" font-family=\"sans-serif\" font-size=\"13\" lengthAdjust=\"spacingAndGlyphs\" textLength=\"64\" x=\"65\" y=\"180.0669\">«depend»</text></a><!--MD5=[bfa3c8b0d15052fdf50ae9310b491027]\n",
       "link E8 to E7--><a href=\"psysml:80784242-98cb-449c-a51f-f2c7c1061d87\" target=\"_top\" title=\"psysml:80784242-98cb-449c-a51f-f2c7c1061d87\" xlink:actuate=\"onRequest\" xlink:href=\"psysml:80784242-98cb-449c-a51f-f2c7c1061d87\" xlink:show=\"new\" xlink:title=\"psysml:80784242-98cb-449c-a51f-f2c7c1061d87\" xlink:type=\"simple\"><path d=\"M129.28,133.5 C138.17,154.57 151.64,186.5 161.47,209.81 \" fill=\"none\" id=\"E8-&gt;E7\" style=\"stroke: #383838; stroke-width: 1.0; stroke-dasharray: 7.0,7.0;\"/><polygon fill=\"#383838\" points=\"164.66,217.35,164.3241,208.8126,158.7933,211.1385,164.66,217.35\" style=\"stroke: #383838; stroke-width: 1.0;\"/><text fill=\"#000000\" font-family=\"sans-serif\" font-size=\"13\" lengthAdjust=\"spacingAndGlyphs\" textLength=\"64\" x=\"151\" y=\"180.0669\">«depend»</text></a><!--MD5=[efa95c2bbc99cd10b4c4005024125535]\n",
       "@startuml\r\n",
       "top to bottom direction\r\n",
       "skinparam monochrome true\r\n",
       "skinparam classbackgroundcolor white\r\n",
       "skinparam shadowing false\r\n",
       "skinparam wrapWidth 300\r\n",
       "hide circle\r\n",
       "\r\n",
       "package \"DependencyTest\" as E1  [[psysml:438e34af-3ce5-4e99-acf4-d3ecd205ea23 ]]  {\r\n",
       "package \"System\" as E2  [[psysml:33a226aa-95cf-4670-96e1-1bd6e94f796f ]]  {\r\n",
       "package \"Application Layer\" as E3  [[psysml:add81eb6-248c-4298-8987-63cd174f8097 ]]  {\r\n",
       "}\r\n",
       "package \"Service Layer\" as E4  [[psysml:95ba016d-ba70-4f40-a2b0-65410d9cce5b ]]  {\r\n",
       "}\r\n",
       "package \"Data Layer\" as E5  [[psysml:ae80162e-06ca-4b24-a1f3-10c5d346ebc4 ]]  {\r\n",
       "}\r\n",
       "}\r\n",
       "comp usage \"x\" as E6  <<(T,blue)attribute>> [[psysml:747ec202-6e4c-456d-855d-21470db0b7f2 ]] {\r\n",
       "}\r\n",
       "comp usage \"y\" as E7  <<(T,blue)attribute>> [[psysml:aee293b7-b915-4f4d-bf33-13d7af80ad07 ]] {\r\n",
       "}\r\n",
       "comp usage \"z\" as E8  <<(T,blue)attribute>> [[psysml:1c42907e-9ca4-4468-bbbb-1ea70701dab3 ]] {\r\n",
       "}\r\n",
       "E3 ..>> E4 [[psysml:4c7b915e-320e-40c7-9399-584f1f84a9d7 ]] : <<depend>>\r\n",
       "E4 ..>> E5 [[psysml:9be59ee3-60f5-4004-bc3e-00c0f7693956 ]] : <<depend>>\r\n",
       "E8 ..>> E6 [[psysml:80784242-98cb-449c-a51f-f2c7c1061d87 ]] : <<depend>>\r\n",
       "E8 ..>> E7 [[psysml:80784242-98cb-449c-a51f-f2c7c1061d87 ]] : <<depend>>\r\n",
       "}\r\n",
       "@enduml\r\n",
       "\n",
       "PlantUML version 1.2020.13(Sat Jun 13 12:26:38 UTC 2020)\n",
       "(EPL source distribution)\n",
       "Java Runtime: OpenJDK Runtime Environment\n",
       "JVM: OpenJDK 64-Bit Server VM\n",
       "Default Encoding: UTF-8\n",
       "Language: en\n",
       "Country: null\n",
       "--></g></svg>"
      ]
     },
     "execution_count": 45,
     "metadata": {},
     "output_type": "execute_result"
    }
   ],
   "source": [
    "%viz --style=\"TB\" --view=\"Tree\" \"DependencyTest\""
   ]
  },
  {
   "cell_type": "code",
   "execution_count": 46,
   "id": "automatic-dynamics",
   "metadata": {
    "execution": {
     "iopub.execute_input": "2021-03-25T13:26:20.556514Z",
     "iopub.status.busy": "2021-03-25T13:26:20.555873Z",
     "iopub.status.idle": "2021-03-25T13:26:20.562344Z",
     "shell.execute_reply": "2021-03-25T13:26:20.562803Z"
    }
   },
   "outputs": [
    {
     "data": {
      "image/svg+xml": [
       "<?xml version=\"1.0\" encoding=\"UTF-8\" standalone=\"no\"?><svg xmlns=\"http://www.w3.org/2000/svg\" xmlns:xlink=\"http://www.w3.org/1999/xlink\" contentScriptType=\"application/ecmascript\" contentStyleType=\"text/css\" height=\"12px\" preserveAspectRatio=\"none\" style=\"width:12px;height:12px;\" version=\"1.1\" viewBox=\"0 0 12 12\" width=\"12px\" zoomAndPan=\"magnify\"><defs/><g><!--MD5=[f4ee21bc66e489b5061b7c3e9601fdef]\n",
       "@startuml\r\n",
       "top to bottom direction\r\n",
       "skinparam monochrome true\r\n",
       "skinparam classbackgroundcolor white\r\n",
       "skinparam shadowing false\r\n",
       "skinparam wrapWidth 300\r\n",
       "hide circle\r\n",
       "\r\n",
       "@enduml\r\n",
       "\n",
       "PlantUML version 1.2020.13(Sat Jun 13 12:26:38 UTC 2020)\n",
       "(EPL source distribution)\n",
       "Java Runtime: OpenJDK Runtime Environment\n",
       "JVM: OpenJDK 64-Bit Server VM\n",
       "Default Encoding: UTF-8\n",
       "Language: en\n",
       "Country: null\n",
       "--></g></svg>"
      ]
     },
     "execution_count": 46,
     "metadata": {},
     "output_type": "execute_result"
    }
   ],
   "source": [
    "%viz --style=\"TB\" --view=\"State\" \"DependencyTest\""
   ]
  },
  {
   "cell_type": "code",
   "execution_count": 47,
   "id": "verbal-junction",
   "metadata": {
    "execution": {
     "iopub.execute_input": "2021-03-25T13:26:20.613591Z",
     "iopub.status.busy": "2021-03-25T13:26:20.613181Z",
     "iopub.status.idle": "2021-03-25T13:26:20.707779Z",
     "shell.execute_reply": "2021-03-25T13:26:20.707237Z"
    }
   },
   "outputs": [
    {
     "data": {
      "image/svg+xml": [
       "<?xml version=\"1.0\" encoding=\"UTF-8\" standalone=\"no\"?><svg xmlns=\"http://www.w3.org/2000/svg\" xmlns:xlink=\"http://www.w3.org/1999/xlink\" contentScriptType=\"application/ecmascript\" contentStyleType=\"text/css\" height=\"361px\" preserveAspectRatio=\"none\" style=\"width:489px;height:361px;\" version=\"1.1\" viewBox=\"0 0 489 361\" width=\"489px\" zoomAndPan=\"magnify\"><defs/><g><!--MD5=[fbc87193dbaf4d95561dea2c320d4a47]\n",
       "cluster E1--><a href=\"psysml:438e34af-3ce5-4e99-acf4-d3ecd205ea23\" target=\"_top\" title=\"psysml:438e34af-3ce5-4e99-acf4-d3ecd205ea23\" xlink:actuate=\"onRequest\" xlink:href=\"psysml:438e34af-3ce5-4e99-acf4-d3ecd205ea23\" xlink:show=\"new\" xlink:title=\"psysml:438e34af-3ce5-4e99-acf4-d3ecd205ea23\" xlink:type=\"simple\"><polygon fill=\"#FFFFFF\" points=\"16,6,156,6,163,28.2969,467,28.2969,467,349,16,349,16,6\" style=\"stroke: #000000; stroke-width: 1.5;\"/><line style=\"stroke: #000000; stroke-width: 1.5;\" x1=\"16\" x2=\"163\" y1=\"28.2969\" y2=\"28.2969\"/><text fill=\"#000000\" font-family=\"sans-serif\" font-size=\"14\" font-weight=\"bold\" lengthAdjust=\"spacingAndGlyphs\" textLength=\"134\" x=\"20\" y=\"20.9951\">DependencyTest</text></a><!--MD5=[e4f7fae6ed58524ba242bb0b0d3be6b7]\n",
       "cluster E2--><a href=\"psysml:33a226aa-95cf-4670-96e1-1bd6e94f796f\" target=\"_top\" title=\"psysml:33a226aa-95cf-4670-96e1-1bd6e94f796f\" xlink:actuate=\"onRequest\" xlink:href=\"psysml:33a226aa-95cf-4670-96e1-1bd6e94f796f\" xlink:show=\"new\" xlink:title=\"psysml:33a226aa-95cf-4670-96e1-1bd6e94f796f\" xlink:type=\"simple\"><polygon fill=\"#FFFFFF\" points=\"255,49,319,49,326,71.2969,443,71.2969,443,325,255,325,255,49\" style=\"stroke: #000000; stroke-width: 1.5;\"/><line style=\"stroke: #000000; stroke-width: 1.5;\" x1=\"255\" x2=\"326\" y1=\"71.2969\" y2=\"71.2969\"/><text fill=\"#000000\" font-family=\"sans-serif\" font-size=\"14\" font-weight=\"bold\" lengthAdjust=\"spacingAndGlyphs\" textLength=\"58\" x=\"259\" y=\"63.9951\">System</text></a><a href=\"psysml:add81eb6-248c-4298-8987-63cd174f8097\" target=\"_top\" title=\"psysml:add81eb6-248c-4298-8987-63cd174f8097\" xlink:actuate=\"onRequest\" xlink:href=\"psysml:add81eb6-248c-4298-8987-63cd174f8097\" xlink:show=\"new\" xlink:title=\"psysml:add81eb6-248c-4298-8987-63cd174f8097\" xlink:type=\"simple\"><polygon fill=\"#FFFFFF\" points=\"271,84,413,84,420,106.2969,427,106.2969,427,136.5938,271,136.5938,271,84\" style=\"stroke: #000000; stroke-width: 1.5;\"/><line style=\"stroke: #000000; stroke-width: 1.5;\" x1=\"271\" x2=\"420\" y1=\"106.2969\" y2=\"106.2969\"/><text fill=\"#000000\" font-family=\"sans-serif\" font-size=\"14\" font-weight=\"bold\" lengthAdjust=\"spacingAndGlyphs\" textLength=\"136\" x=\"275\" y=\"98.9951\">Application Layer</text></a><a href=\"psysml:95ba016d-ba70-4f40-a2b0-65410d9cce5b\" target=\"_top\" title=\"psysml:95ba016d-ba70-4f40-a2b0-65410d9cce5b\" xlink:actuate=\"onRequest\" xlink:href=\"psysml:95ba016d-ba70-4f40-a2b0-65410d9cce5b\" xlink:show=\"new\" xlink:title=\"psysml:95ba016d-ba70-4f40-a2b0-65410d9cce5b\" xlink:type=\"simple\"><polygon fill=\"#FFFFFF\" points=\"285,170,399,170,406,192.2969,413,192.2969,413,222.5938,285,222.5938,285,170\" style=\"stroke: #000000; stroke-width: 1.5;\"/><line style=\"stroke: #000000; stroke-width: 1.5;\" x1=\"285\" x2=\"406\" y1=\"192.2969\" y2=\"192.2969\"/><text fill=\"#000000\" font-family=\"sans-serif\" font-size=\"14\" font-weight=\"bold\" lengthAdjust=\"spacingAndGlyphs\" textLength=\"108\" x=\"289\" y=\"184.9951\">Service Layer</text></a><a href=\"psysml:ae80162e-06ca-4b24-a1f3-10c5d346ebc4\" target=\"_top\" title=\"psysml:ae80162e-06ca-4b24-a1f3-10c5d346ebc4\" xlink:actuate=\"onRequest\" xlink:href=\"psysml:ae80162e-06ca-4b24-a1f3-10c5d346ebc4\" xlink:show=\"new\" xlink:title=\"psysml:ae80162e-06ca-4b24-a1f3-10c5d346ebc4\" xlink:type=\"simple\"><polygon fill=\"#FFFFFF\" points=\"297,256,387,256,394,278.2969,401,278.2969,401,308.5938,297,308.5938,297,256\" style=\"stroke: #000000; stroke-width: 1.5;\"/><line style=\"stroke: #000000; stroke-width: 1.5;\" x1=\"297\" x2=\"394\" y1=\"278.2969\" y2=\"278.2969\"/><text fill=\"#000000\" font-family=\"sans-serif\" font-size=\"14\" font-weight=\"bold\" lengthAdjust=\"spacingAndGlyphs\" textLength=\"84\" x=\"301\" y=\"270.9951\">Data Layer</text></a><g id=\"E1.E6\"><a href=\"psysml:747ec202-6e4c-456d-855d-21470db0b7f2\" target=\"_top\" title=\"psysml:747ec202-6e4c-456d-855d-21470db0b7f2\" xlink:actuate=\"onRequest\" xlink:href=\"psysml:747ec202-6e4c-456d-855d-21470db0b7f2\" xlink:show=\"new\" xlink:title=\"psysml:747ec202-6e4c-456d-855d-21470db0b7f2\" xlink:type=\"simple\"><rect fill=\"#FFFFFF\" height=\"42.9375\" id=\"E6\" rx=\"10\" ry=\"10\" style=\"stroke: #383838; stroke-width: 1.5;\" width=\"76\" x=\"32\" y=\"175\"/><rect fill=\"#F8F8F8\" height=\"37.9375\" rx=\"10\" ry=\"10\" style=\"stroke: #F8F8F8; stroke-width: 1.5;\" width=\"76\" x=\"32\" y=\"175\"/><rect fill=\"#F8F8F8\" height=\"10\" style=\"stroke: #F8F8F8; stroke-width: 1.5;\" width=\"76\" x=\"32\" y=\"202.9375\"/><rect fill=\"none\" height=\"42.9375\" id=\"E6\" rx=\"10\" ry=\"10\" style=\"stroke: #383838; stroke-width: 1.5;\" width=\"76\" x=\"32\" y=\"175\"/><text fill=\"#000000\" font-family=\"sans-serif\" font-size=\"12\" font-style=\"italic\" lengthAdjust=\"spacingAndGlyphs\" textLength=\"69\" x=\"35.5\" y=\"191.1387\">«attribute»</text><text fill=\"#000000\" font-family=\"sans-serif\" font-size=\"12\" lengthAdjust=\"spacingAndGlyphs\" textLength=\"6\" x=\"67\" y=\"205.1074\">x</text></a></g><g id=\"E1.E7\"><a href=\"psysml:aee293b7-b915-4f4d-bf33-13d7af80ad07\" target=\"_top\" title=\"psysml:aee293b7-b915-4f4d-bf33-13d7af80ad07\" xlink:actuate=\"onRequest\" xlink:href=\"psysml:aee293b7-b915-4f4d-bf33-13d7af80ad07\" xlink:show=\"new\" xlink:title=\"psysml:aee293b7-b915-4f4d-bf33-13d7af80ad07\" xlink:type=\"simple\"><rect fill=\"#FFFFFF\" height=\"42.9375\" id=\"E7\" rx=\"10\" ry=\"10\" style=\"stroke: #383838; stroke-width: 1.5;\" width=\"76\" x=\"143\" y=\"175\"/><rect fill=\"#F8F8F8\" height=\"37.9375\" rx=\"10\" ry=\"10\" style=\"stroke: #F8F8F8; stroke-width: 1.5;\" width=\"76\" x=\"143\" y=\"175\"/><rect fill=\"#F8F8F8\" height=\"10\" style=\"stroke: #F8F8F8; stroke-width: 1.5;\" width=\"76\" x=\"143\" y=\"202.9375\"/><rect fill=\"none\" height=\"42.9375\" id=\"E7\" rx=\"10\" ry=\"10\" style=\"stroke: #383838; stroke-width: 1.5;\" width=\"76\" x=\"143\" y=\"175\"/><text fill=\"#000000\" font-family=\"sans-serif\" font-size=\"12\" font-style=\"italic\" lengthAdjust=\"spacingAndGlyphs\" textLength=\"69\" x=\"146.5\" y=\"191.1387\">«attribute»</text><text fill=\"#000000\" font-family=\"sans-serif\" font-size=\"12\" lengthAdjust=\"spacingAndGlyphs\" textLength=\"6\" x=\"178\" y=\"205.1074\">y</text></a></g><g id=\"E1.E8\"><a href=\"psysml:1c42907e-9ca4-4468-bbbb-1ea70701dab3\" target=\"_top\" title=\"psysml:1c42907e-9ca4-4468-bbbb-1ea70701dab3\" xlink:actuate=\"onRequest\" xlink:href=\"psysml:1c42907e-9ca4-4468-bbbb-1ea70701dab3\" xlink:show=\"new\" xlink:title=\"psysml:1c42907e-9ca4-4468-bbbb-1ea70701dab3\" xlink:type=\"simple\"><rect fill=\"#FFFFFF\" height=\"42.9375\" id=\"E8\" rx=\"10\" ry=\"10\" style=\"stroke: #383838; stroke-width: 1.5;\" width=\"76\" x=\"83\" y=\"89\"/><rect fill=\"#F8F8F8\" height=\"37.9375\" rx=\"10\" ry=\"10\" style=\"stroke: #F8F8F8; stroke-width: 1.5;\" width=\"76\" x=\"83\" y=\"89\"/><rect fill=\"#F8F8F8\" height=\"10\" style=\"stroke: #F8F8F8; stroke-width: 1.5;\" width=\"76\" x=\"83\" y=\"116.9375\"/><rect fill=\"none\" height=\"42.9375\" id=\"E8\" rx=\"10\" ry=\"10\" style=\"stroke: #383838; stroke-width: 1.5;\" width=\"76\" x=\"83\" y=\"89\"/><text fill=\"#000000\" font-family=\"sans-serif\" font-size=\"12\" font-style=\"italic\" lengthAdjust=\"spacingAndGlyphs\" textLength=\"69\" x=\"86.5\" y=\"105.1387\">«attribute»</text><text fill=\"#000000\" font-family=\"sans-serif\" font-size=\"12\" lengthAdjust=\"spacingAndGlyphs\" textLength=\"5\" x=\"118.5\" y=\"119.1074\">z</text></a></g><!--MD5=[af87c684e3b0d8be13c1a698a818ef1e]\n",
       "link E3 to E4--><a href=\"psysml:4c7b915e-320e-40c7-9399-584f1f84a9d7\" target=\"_top\" title=\"psysml:4c7b915e-320e-40c7-9399-584f1f84a9d7\" xlink:actuate=\"onRequest\" xlink:href=\"psysml:4c7b915e-320e-40c7-9399-584f1f84a9d7\" xlink:show=\"new\" xlink:title=\"psysml:4c7b915e-320e-40c7-9399-584f1f84a9d7\" xlink:type=\"simple\"><path d=\"M349,137.16 C349,144.98 349,153.69 349,161.94 \" fill=\"none\" id=\"E3-&gt;E4\" style=\"stroke: #383838; stroke-width: 1.0; stroke-dasharray: 7.0,7.0;\"/><polygon fill=\"#383838\" points=\"349,170,352,162,346,162,349,170\" style=\"stroke: #383838; stroke-width: 1.0;\"/><text fill=\"#000000\" font-family=\"sans-serif\" font-size=\"13\" lengthAdjust=\"spacingAndGlyphs\" textLength=\"64\" x=\"350\" y=\"158.0669\">«depend»</text></a><!--MD5=[1b7591eae5389033d8d09a9d6721a717]\n",
       "link E4 to E5--><a href=\"psysml:9be59ee3-60f5-4004-bc3e-00c0f7693956\" target=\"_top\" title=\"psysml:9be59ee3-60f5-4004-bc3e-00c0f7693956\" xlink:actuate=\"onRequest\" xlink:href=\"psysml:9be59ee3-60f5-4004-bc3e-00c0f7693956\" xlink:show=\"new\" xlink:title=\"psysml:9be59ee3-60f5-4004-bc3e-00c0f7693956\" xlink:type=\"simple\"><path d=\"M349,223.16 C349,230.98 349,239.69 349,247.94 \" fill=\"none\" id=\"E4-&gt;E5\" style=\"stroke: #383838; stroke-width: 1.0; stroke-dasharray: 7.0,7.0;\"/><polygon fill=\"#383838\" points=\"349,256,352,248,346,248,349,256\" style=\"stroke: #383838; stroke-width: 1.0;\"/><text fill=\"#000000\" font-family=\"sans-serif\" font-size=\"13\" lengthAdjust=\"spacingAndGlyphs\" textLength=\"64\" x=\"350\" y=\"244.0669\">«depend»</text></a><!--MD5=[c5e8897d989ce984f93528998a7150fe]\n",
       "link E8 to E6--><a href=\"psysml:80784242-98cb-449c-a51f-f2c7c1061d87\" target=\"_top\" title=\"psysml:80784242-98cb-449c-a51f-f2c7c1061d87\" xlink:actuate=\"onRequest\" xlink:href=\"psysml:80784242-98cb-449c-a51f-f2c7c1061d87\" xlink:show=\"new\" xlink:title=\"psysml:80784242-98cb-449c-a51f-f2c7c1061d87\" xlink:type=\"simple\"><path d=\"M82.81,126.48 C75.3,131.24 68.39,137.33 64,145 C60.26,151.53 59.68,159.3 60.56,166.77 \" fill=\"none\" id=\"E8-&gt;E6\" style=\"stroke: #383838; stroke-width: 1.0; stroke-dasharray: 7.0,7.0;\"/><polygon fill=\"#383838\" points=\"62.02,174.69,63.5257,166.2797,57.6244,167.3634,62.02,174.69\" style=\"stroke: #383838; stroke-width: 1.0;\"/><text fill=\"#000000\" font-family=\"sans-serif\" font-size=\"13\" lengthAdjust=\"spacingAndGlyphs\" textLength=\"64\" x=\"65\" y=\"158.0669\">«depend»</text></a><!--MD5=[bfa3c8b0d15052fdf50ae9310b491027]\n",
       "link E8 to E7--><a href=\"psysml:80784242-98cb-449c-a51f-f2c7c1061d87\" target=\"_top\" title=\"psysml:80784242-98cb-449c-a51f-f2c7c1061d87\" xlink:actuate=\"onRequest\" xlink:href=\"psysml:80784242-98cb-449c-a51f-f2c7c1061d87\" xlink:show=\"new\" xlink:title=\"psysml:80784242-98cb-449c-a51f-f2c7c1061d87\" xlink:type=\"simple\"><path d=\"M135.83,132.26 C143.61,143.15 153.22,156.61 161.59,168.32 \" fill=\"none\" id=\"E8-&gt;E7\" style=\"stroke: #383838; stroke-width: 1.0; stroke-dasharray: 7.0,7.0;\"/><polygon fill=\"#383838\" points=\"166.34,174.97,164.1399,166.7141,159.2538,170.1965,166.34,174.97\" style=\"stroke: #383838; stroke-width: 1.0;\"/><text fill=\"#000000\" font-family=\"sans-serif\" font-size=\"13\" lengthAdjust=\"spacingAndGlyphs\" textLength=\"64\" x=\"157\" y=\"158.0669\">«depend»</text></a><!--MD5=[2aaeff8eeaef0486b5fed2bb0764f530]\n",
       "@startuml\r\n",
       "skinparam ranksep 8\r\n",
       "skinparam rectangle {\r\n",
       " backgroundColor<<block>> LightGreen\r\n",
       "}\r\n",
       "top to bottom direction\r\n",
       "skinparam monochrome true\r\n",
       "skinparam classbackgroundcolor white\r\n",
       "skinparam shadowing false\r\n",
       "skinparam wrapWidth 300\r\n",
       "hide circle\r\n",
       "\r\n",
       "package \"DependencyTest\" as E1  [[psysml:438e34af-3ce5-4e99-acf4-d3ecd205ea23 ]]  {\r\n",
       "package \"System\" as E2  [[psysml:33a226aa-95cf-4670-96e1-1bd6e94f796f ]]  {\r\n",
       "package \"Application Layer\" as E3  [[psysml:add81eb6-248c-4298-8987-63cd174f8097 ]]  {\r\n",
       "}\r\n",
       "package \"Service Layer\" as E4  [[psysml:95ba016d-ba70-4f40-a2b0-65410d9cce5b ]]  {\r\n",
       "}\r\n",
       "package \"Data Layer\" as E5  [[psysml:ae80162e-06ca-4b24-a1f3-10c5d346ebc4 ]]  {\r\n",
       "}\r\n",
       "}\r\n",
       "rec usage \"x\" as E6  <<(T,blue)attribute>> [[psysml:747ec202-6e4c-456d-855d-21470db0b7f2 ]] {\r\n",
       "}\r\n",
       "rec usage \"y\" as E7  <<(T,blue)attribute>> [[psysml:aee293b7-b915-4f4d-bf33-13d7af80ad07 ]] {\r\n",
       "}\r\n",
       "rec usage \"z\" as E8  <<(T,blue)attribute>> [[psysml:1c42907e-9ca4-4468-bbbb-1ea70701dab3 ]] {\r\n",
       "}\r\n",
       "E3 ..>> E4 [[psysml:4c7b915e-320e-40c7-9399-584f1f84a9d7 ]] : <<depend>>\r\n",
       "E4 ..>> E5 [[psysml:9be59ee3-60f5-4004-bc3e-00c0f7693956 ]] : <<depend>>\r\n",
       "E8 ..>> E6 [[psysml:80784242-98cb-449c-a51f-f2c7c1061d87 ]] : <<depend>>\r\n",
       "E8 ..>> E7 [[psysml:80784242-98cb-449c-a51f-f2c7c1061d87 ]] : <<depend>>\r\n",
       "}\r\n",
       "@enduml\r\n",
       "\n",
       "PlantUML version 1.2020.13(Sat Jun 13 12:26:38 UTC 2020)\n",
       "(EPL source distribution)\n",
       "Java Runtime: OpenJDK Runtime Environment\n",
       "JVM: OpenJDK 64-Bit Server VM\n",
       "Default Encoding: UTF-8\n",
       "Language: en\n",
       "Country: null\n",
       "--></g></svg>"
      ]
     },
     "execution_count": 47,
     "metadata": {},
     "output_type": "execute_result"
    }
   ],
   "source": [
    "%viz --style=\"TB\" --view=\"Interconnection\" \"DependencyTest\""
   ]
  },
  {
   "cell_type": "code",
   "execution_count": 48,
   "id": "swiss-printer",
   "metadata": {
    "execution": {
     "iopub.execute_input": "2021-03-25T13:26:20.756633Z",
     "iopub.status.busy": "2021-03-25T13:26:20.756237Z",
     "iopub.status.idle": "2021-03-25T13:26:20.762609Z",
     "shell.execute_reply": "2021-03-25T13:26:20.762260Z"
    }
   },
   "outputs": [
    {
     "data": {
      "image/svg+xml": [
       "<?xml version=\"1.0\" encoding=\"UTF-8\" standalone=\"no\"?><svg xmlns=\"http://www.w3.org/2000/svg\" xmlns:xlink=\"http://www.w3.org/1999/xlink\" contentScriptType=\"application/ecmascript\" contentStyleType=\"text/css\" height=\"12px\" preserveAspectRatio=\"none\" style=\"width:12px;height:12px;\" version=\"1.1\" viewBox=\"0 0 12 12\" width=\"12px\" zoomAndPan=\"magnify\"><defs/><g><!--MD5=[06afc254b03ac5e9d9fb7773b07d0800]\n",
       "@startuml\r\n",
       "skinparam ranksep 8\r\n",
       "top to bottom direction\r\n",
       "skinparam monochrome true\r\n",
       "skinparam classbackgroundcolor white\r\n",
       "skinparam shadowing false\r\n",
       "skinparam wrapWidth 300\r\n",
       "hide circle\r\n",
       "\r\n",
       "@enduml\r\n",
       "\n",
       "PlantUML version 1.2020.13(Sat Jun 13 12:26:38 UTC 2020)\n",
       "(EPL source distribution)\n",
       "Java Runtime: OpenJDK Runtime Environment\n",
       "JVM: OpenJDK 64-Bit Server VM\n",
       "Default Encoding: UTF-8\n",
       "Language: en\n",
       "Country: null\n",
       "--></g></svg>"
      ]
     },
     "execution_count": 48,
     "metadata": {},
     "output_type": "execute_result"
    }
   ],
   "source": [
    "%viz --style=\"TB\" --view=\"Action\" \"DependencyTest\""
   ]
  },
  {
   "cell_type": "code",
   "execution_count": 49,
   "id": "fossil-bacon",
   "metadata": {
    "execution": {
     "iopub.execute_input": "2021-03-25T13:26:20.814261Z",
     "iopub.status.busy": "2021-03-25T13:26:20.813553Z",
     "iopub.status.idle": "2021-03-25T13:26:20.912981Z",
     "shell.execute_reply": "2021-03-25T13:26:20.912523Z"
    }
   },
   "outputs": [
    {
     "data": {
      "image/svg+xml": [
       "<?xml version=\"1.0\" encoding=\"UTF-8\" standalone=\"no\"?><svg xmlns=\"http://www.w3.org/2000/svg\" xmlns:xlink=\"http://www.w3.org/1999/xlink\" contentScriptType=\"application/ecmascript\" contentStyleType=\"text/css\" height=\"449px\" preserveAspectRatio=\"none\" style=\"width:489px;height:449px;\" version=\"1.1\" viewBox=\"0 0 489 449\" width=\"489px\" zoomAndPan=\"magnify\"><defs/><g><!--MD5=[fbc87193dbaf4d95561dea2c320d4a47]\n",
       "cluster E1--><a href=\"psysml:438e34af-3ce5-4e99-acf4-d3ecd205ea23\" target=\"_top\" title=\"psysml:438e34af-3ce5-4e99-acf4-d3ecd205ea23\" xlink:actuate=\"onRequest\" xlink:href=\"psysml:438e34af-3ce5-4e99-acf4-d3ecd205ea23\" xlink:show=\"new\" xlink:title=\"psysml:438e34af-3ce5-4e99-acf4-d3ecd205ea23\" xlink:type=\"simple\"><polygon fill=\"#FFFFFF\" points=\"16,6,156,6,163,28.2969,467,28.2969,467,437,16,437,16,6\" style=\"stroke: #000000; stroke-width: 1.5;\"/><line style=\"stroke: #000000; stroke-width: 1.5;\" x1=\"16\" x2=\"163\" y1=\"28.2969\" y2=\"28.2969\"/><text fill=\"#000000\" font-family=\"sans-serif\" font-size=\"14\" font-weight=\"bold\" lengthAdjust=\"spacingAndGlyphs\" textLength=\"134\" x=\"20\" y=\"20.9951\">DependencyTest</text></a><!--MD5=[e4f7fae6ed58524ba242bb0b0d3be6b7]\n",
       "cluster E2--><a href=\"psysml:33a226aa-95cf-4670-96e1-1bd6e94f796f\" target=\"_top\" title=\"psysml:33a226aa-95cf-4670-96e1-1bd6e94f796f\" xlink:actuate=\"onRequest\" xlink:href=\"psysml:33a226aa-95cf-4670-96e1-1bd6e94f796f\" xlink:show=\"new\" xlink:title=\"psysml:33a226aa-95cf-4670-96e1-1bd6e94f796f\" xlink:type=\"simple\"><polygon fill=\"#FFFFFF\" points=\"255,49,319,49,326,71.2969,443,71.2969,443,413,255,413,255,49\" style=\"stroke: #000000; stroke-width: 1.5;\"/><line style=\"stroke: #000000; stroke-width: 1.5;\" x1=\"255\" x2=\"326\" y1=\"71.2969\" y2=\"71.2969\"/><text fill=\"#000000\" font-family=\"sans-serif\" font-size=\"14\" font-weight=\"bold\" lengthAdjust=\"spacingAndGlyphs\" textLength=\"58\" x=\"259\" y=\"63.9951\">System</text></a><!--MD5=[60a26617385b1d2d0262a64233df1f8d]\n",
       "class E6--><a href=\"psysml:747ec202-6e4c-456d-855d-21470db0b7f2\" target=\"_top\" title=\"psysml:747ec202-6e4c-456d-855d-21470db0b7f2\" xlink:actuate=\"onRequest\" xlink:href=\"psysml:747ec202-6e4c-456d-855d-21470db0b7f2\" xlink:show=\"new\" xlink:title=\"psysml:747ec202-6e4c-456d-855d-21470db0b7f2\" xlink:type=\"simple\"><rect fill=\"#FFFFFF\" height=\"45.9375\" id=\"E6\" rx=\"10\" ry=\"10\" style=\"stroke: #383838; stroke-width: 1.5;\" width=\"71\" x=\"32.5\" y=\"217.5\"/><text fill=\"#000000\" font-family=\"sans-serif\" font-size=\"12\" font-style=\"italic\" lengthAdjust=\"spacingAndGlyphs\" textLength=\"69\" x=\"33.5\" y=\"233.6387\">«attribute»</text><text fill=\"#000000\" font-family=\"sans-serif\" font-size=\"12\" lengthAdjust=\"spacingAndGlyphs\" textLength=\"6\" x=\"65\" y=\"247.6074\">x</text><line style=\"stroke: #383838; stroke-width: 1.5;\" x1=\"33.5\" x2=\"102.5\" y1=\"255.4375\" y2=\"255.4375\"/></a><!--MD5=[2156ba9850f5573cc1fc38a6a4b2f02b]\n",
       "class E7--><a href=\"psysml:aee293b7-b915-4f4d-bf33-13d7af80ad07\" target=\"_top\" title=\"psysml:aee293b7-b915-4f4d-bf33-13d7af80ad07\" xlink:actuate=\"onRequest\" xlink:href=\"psysml:aee293b7-b915-4f4d-bf33-13d7af80ad07\" xlink:show=\"new\" xlink:title=\"psysml:aee293b7-b915-4f4d-bf33-13d7af80ad07\" xlink:type=\"simple\"><rect fill=\"#FFFFFF\" height=\"45.9375\" id=\"E7\" rx=\"10\" ry=\"10\" style=\"stroke: #383838; stroke-width: 1.5;\" width=\"71\" x=\"138.5\" y=\"217.5\"/><text fill=\"#000000\" font-family=\"sans-serif\" font-size=\"12\" font-style=\"italic\" lengthAdjust=\"spacingAndGlyphs\" textLength=\"69\" x=\"139.5\" y=\"233.6387\">«attribute»</text><text fill=\"#000000\" font-family=\"sans-serif\" font-size=\"12\" lengthAdjust=\"spacingAndGlyphs\" textLength=\"6\" x=\"171\" y=\"247.6074\">y</text><line style=\"stroke: #383838; stroke-width: 1.5;\" x1=\"139.5\" x2=\"208.5\" y1=\"255.4375\" y2=\"255.4375\"/></a><!--MD5=[b9389687b975829384b498ac4b7476b2]\n",
       "class E8--><a href=\"psysml:1c42907e-9ca4-4468-bbbb-1ea70701dab3\" target=\"_top\" title=\"psysml:1c42907e-9ca4-4468-bbbb-1ea70701dab3\" xlink:actuate=\"onRequest\" xlink:href=\"psysml:1c42907e-9ca4-4468-bbbb-1ea70701dab3\" xlink:show=\"new\" xlink:title=\"psysml:1c42907e-9ca4-4468-bbbb-1ea70701dab3\" xlink:type=\"simple\"><rect fill=\"#FFFFFF\" height=\"45.9375\" id=\"E8\" rx=\"10\" ry=\"10\" style=\"stroke: #383838; stroke-width: 1.5;\" width=\"71\" x=\"84.5\" y=\"87.5\"/><text fill=\"#000000\" font-family=\"sans-serif\" font-size=\"12\" font-style=\"italic\" lengthAdjust=\"spacingAndGlyphs\" textLength=\"69\" x=\"85.5\" y=\"103.6387\">«attribute»</text><text fill=\"#000000\" font-family=\"sans-serif\" font-size=\"12\" lengthAdjust=\"spacingAndGlyphs\" textLength=\"5\" x=\"117.5\" y=\"117.6074\">z</text><line style=\"stroke: #383838; stroke-width: 1.5;\" x1=\"85.5\" x2=\"154.5\" y1=\"125.4375\" y2=\"125.4375\"/></a><a href=\"psysml:add81eb6-248c-4298-8987-63cd174f8097\" target=\"_top\" title=\"psysml:add81eb6-248c-4298-8987-63cd174f8097\" xlink:actuate=\"onRequest\" xlink:href=\"psysml:add81eb6-248c-4298-8987-63cd174f8097\" xlink:show=\"new\" xlink:title=\"psysml:add81eb6-248c-4298-8987-63cd174f8097\" xlink:type=\"simple\"><polygon fill=\"#FFFFFF\" points=\"271,84,413,84,420,106.2969,427,106.2969,427,136.5938,271,136.5938,271,84\" style=\"stroke: #000000; stroke-width: 1.5;\"/><line style=\"stroke: #000000; stroke-width: 1.5;\" x1=\"271\" x2=\"420\" y1=\"106.2969\" y2=\"106.2969\"/><text fill=\"#000000\" font-family=\"sans-serif\" font-size=\"14\" font-weight=\"bold\" lengthAdjust=\"spacingAndGlyphs\" textLength=\"136\" x=\"275\" y=\"98.9951\">Application Layer</text></a><a href=\"psysml:95ba016d-ba70-4f40-a2b0-65410d9cce5b\" target=\"_top\" title=\"psysml:95ba016d-ba70-4f40-a2b0-65410d9cce5b\" xlink:actuate=\"onRequest\" xlink:href=\"psysml:95ba016d-ba70-4f40-a2b0-65410d9cce5b\" xlink:show=\"new\" xlink:title=\"psysml:95ba016d-ba70-4f40-a2b0-65410d9cce5b\" xlink:type=\"simple\"><polygon fill=\"#FFFFFF\" points=\"285,214,399,214,406,236.2969,413,236.2969,413,266.5938,285,266.5938,285,214\" style=\"stroke: #000000; stroke-width: 1.5;\"/><line style=\"stroke: #000000; stroke-width: 1.5;\" x1=\"285\" x2=\"406\" y1=\"236.2969\" y2=\"236.2969\"/><text fill=\"#000000\" font-family=\"sans-serif\" font-size=\"14\" font-weight=\"bold\" lengthAdjust=\"spacingAndGlyphs\" textLength=\"108\" x=\"289\" y=\"228.9951\">Service Layer</text></a><a href=\"psysml:ae80162e-06ca-4b24-a1f3-10c5d346ebc4\" target=\"_top\" title=\"psysml:ae80162e-06ca-4b24-a1f3-10c5d346ebc4\" xlink:actuate=\"onRequest\" xlink:href=\"psysml:ae80162e-06ca-4b24-a1f3-10c5d346ebc4\" xlink:show=\"new\" xlink:title=\"psysml:ae80162e-06ca-4b24-a1f3-10c5d346ebc4\" xlink:type=\"simple\"><polygon fill=\"#FFFFFF\" points=\"297,344,387,344,394,366.2969,401,366.2969,401,396.5938,297,396.5938,297,344\" style=\"stroke: #000000; stroke-width: 1.5;\"/><line style=\"stroke: #000000; stroke-width: 1.5;\" x1=\"297\" x2=\"394\" y1=\"366.2969\" y2=\"366.2969\"/><text fill=\"#000000\" font-family=\"sans-serif\" font-size=\"14\" font-weight=\"bold\" lengthAdjust=\"spacingAndGlyphs\" textLength=\"84\" x=\"301\" y=\"358.9951\">Data Layer</text></a><!--MD5=[af87c684e3b0d8be13c1a698a818ef1e]\n",
       "link E3 to E4--><a href=\"psysml:4c7b915e-320e-40c7-9399-584f1f84a9d7\" target=\"_top\" title=\"psysml:4c7b915e-320e-40c7-9399-584f1f84a9d7\" xlink:actuate=\"onRequest\" xlink:href=\"psysml:4c7b915e-320e-40c7-9399-584f1f84a9d7\" xlink:show=\"new\" xlink:title=\"psysml:4c7b915e-320e-40c7-9399-584f1f84a9d7\" xlink:type=\"simple\"><path d=\"M349,137.1 C349,156.8 349,184.22 349,205.73 \" fill=\"none\" id=\"E3-&gt;E4\" style=\"stroke: #383838; stroke-width: 1.0; stroke-dasharray: 7.0,7.0;\"/><polygon fill=\"#383838\" points=\"349,213.95,352,205.95,346,205.95,349,213.95\" style=\"stroke: #383838; stroke-width: 1.0;\"/><text fill=\"#000000\" font-family=\"sans-serif\" font-size=\"13\" lengthAdjust=\"spacingAndGlyphs\" textLength=\"64\" x=\"350\" y=\"180.0669\">«depend»</text></a><!--MD5=[1b7591eae5389033d8d09a9d6721a717]\n",
       "link E4 to E5--><a href=\"psysml:9be59ee3-60f5-4004-bc3e-00c0f7693956\" target=\"_top\" title=\"psysml:9be59ee3-60f5-4004-bc3e-00c0f7693956\" xlink:actuate=\"onRequest\" xlink:href=\"psysml:9be59ee3-60f5-4004-bc3e-00c0f7693956\" xlink:show=\"new\" xlink:title=\"psysml:9be59ee3-60f5-4004-bc3e-00c0f7693956\" xlink:type=\"simple\"><path d=\"M349,267.1 C349,286.8 349,314.22 349,335.73 \" fill=\"none\" id=\"E4-&gt;E5\" style=\"stroke: #383838; stroke-width: 1.0; stroke-dasharray: 7.0,7.0;\"/><polygon fill=\"#383838\" points=\"349,343.95,352,335.95,346,335.95,349,343.95\" style=\"stroke: #383838; stroke-width: 1.0;\"/><text fill=\"#000000\" font-family=\"sans-serif\" font-size=\"13\" lengthAdjust=\"spacingAndGlyphs\" textLength=\"64\" x=\"350\" y=\"310.0669\">«depend»</text></a><!--MD5=[c5e8897d989ce984f93528998a7150fe]\n",
       "link E8 to E6--><a href=\"psysml:80784242-98cb-449c-a51f-f2c7c1061d87\" target=\"_top\" title=\"psysml:80784242-98cb-449c-a51f-f2c7c1061d87\" xlink:actuate=\"onRequest\" xlink:href=\"psysml:80784242-98cb-449c-a51f-f2c7c1061d87\" xlink:show=\"new\" xlink:title=\"psysml:80784242-98cb-449c-a51f-f2c7c1061d87\" xlink:type=\"simple\"><path d=\"M89.42,133.6 C79.35,142.68 69.37,154.11 64,167 C58.5,180.2 58.66,195.94 60.54,209.38 \" fill=\"none\" id=\"E8-&gt;E6\" style=\"stroke: #383838; stroke-width: 1.0; stroke-dasharray: 7.0,7.0;\"/><polygon fill=\"#383838\" points=\"61.9,217.4,63.517,209.0104,57.6018,210.0159,61.9,217.4\" style=\"stroke: #383838; stroke-width: 1.0;\"/><text fill=\"#000000\" font-family=\"sans-serif\" font-size=\"13\" lengthAdjust=\"spacingAndGlyphs\" textLength=\"64\" x=\"65\" y=\"180.0669\">«depend»</text></a><!--MD5=[bfa3c8b0d15052fdf50ae9310b491027]\n",
       "link E8 to E7--><a href=\"psysml:80784242-98cb-449c-a51f-f2c7c1061d87\" target=\"_top\" title=\"psysml:80784242-98cb-449c-a51f-f2c7c1061d87\" xlink:actuate=\"onRequest\" xlink:href=\"psysml:80784242-98cb-449c-a51f-f2c7c1061d87\" xlink:show=\"new\" xlink:title=\"psysml:80784242-98cb-449c-a51f-f2c7c1061d87\" xlink:type=\"simple\"><path d=\"M129.28,133.5 C138.17,154.57 151.64,186.5 161.47,209.81 \" fill=\"none\" id=\"E8-&gt;E7\" style=\"stroke: #383838; stroke-width: 1.0; stroke-dasharray: 7.0,7.0;\"/><polygon fill=\"#383838\" points=\"164.66,217.35,164.3241,208.8126,158.7933,211.1385,164.66,217.35\" style=\"stroke: #383838; stroke-width: 1.0;\"/><text fill=\"#000000\" font-family=\"sans-serif\" font-size=\"13\" lengthAdjust=\"spacingAndGlyphs\" textLength=\"64\" x=\"151\" y=\"180.0669\">«depend»</text></a><!--MD5=[efa95c2bbc99cd10b4c4005024125535]\n",
       "@startuml\r\n",
       "top to bottom direction\r\n",
       "skinparam monochrome true\r\n",
       "skinparam classbackgroundcolor white\r\n",
       "skinparam shadowing false\r\n",
       "skinparam wrapWidth 300\r\n",
       "hide circle\r\n",
       "\r\n",
       "package \"DependencyTest\" as E1  [[psysml:438e34af-3ce5-4e99-acf4-d3ecd205ea23 ]]  {\r\n",
       "package \"System\" as E2  [[psysml:33a226aa-95cf-4670-96e1-1bd6e94f796f ]]  {\r\n",
       "package \"Application Layer\" as E3  [[psysml:add81eb6-248c-4298-8987-63cd174f8097 ]]  {\r\n",
       "}\r\n",
       "package \"Service Layer\" as E4  [[psysml:95ba016d-ba70-4f40-a2b0-65410d9cce5b ]]  {\r\n",
       "}\r\n",
       "package \"Data Layer\" as E5  [[psysml:ae80162e-06ca-4b24-a1f3-10c5d346ebc4 ]]  {\r\n",
       "}\r\n",
       "}\r\n",
       "comp usage \"x\" as E6  <<(T,blue)attribute>> [[psysml:747ec202-6e4c-456d-855d-21470db0b7f2 ]] {\r\n",
       "}\r\n",
       "comp usage \"y\" as E7  <<(T,blue)attribute>> [[psysml:aee293b7-b915-4f4d-bf33-13d7af80ad07 ]] {\r\n",
       "}\r\n",
       "comp usage \"z\" as E8  <<(T,blue)attribute>> [[psysml:1c42907e-9ca4-4468-bbbb-1ea70701dab3 ]] {\r\n",
       "}\r\n",
       "E3 ..>> E4 [[psysml:4c7b915e-320e-40c7-9399-584f1f84a9d7 ]] : <<depend>>\r\n",
       "E4 ..>> E5 [[psysml:9be59ee3-60f5-4004-bc3e-00c0f7693956 ]] : <<depend>>\r\n",
       "E8 ..>> E6 [[psysml:80784242-98cb-449c-a51f-f2c7c1061d87 ]] : <<depend>>\r\n",
       "E8 ..>> E7 [[psysml:80784242-98cb-449c-a51f-f2c7c1061d87 ]] : <<depend>>\r\n",
       "}\r\n",
       "@enduml\r\n",
       "\n",
       "PlantUML version 1.2020.13(Sat Jun 13 12:26:38 UTC 2020)\n",
       "(EPL source distribution)\n",
       "Java Runtime: OpenJDK Runtime Environment\n",
       "JVM: OpenJDK 64-Bit Server VM\n",
       "Default Encoding: UTF-8\n",
       "Language: en\n",
       "Country: null\n",
       "--></g></svg>"
      ]
     },
     "execution_count": 49,
     "metadata": {},
     "output_type": "execute_result"
    }
   ],
   "source": [
    "%viz --style=\"TB\" --view=\"Sequence\" \"DependencyTest\""
   ]
  },
  {
   "cell_type": "code",
   "execution_count": 50,
   "id": "veterinary-duplicate",
   "metadata": {
    "execution": {
     "iopub.execute_input": "2021-03-25T13:26:20.963918Z",
     "iopub.status.busy": "2021-03-25T13:26:20.963074Z",
     "iopub.status.idle": "2021-03-25T13:26:21.065963Z",
     "shell.execute_reply": "2021-03-25T13:26:21.063952Z"
    }
   },
   "outputs": [
    {
     "data": {
      "image/svg+xml": [
       "<?xml version=\"1.0\" encoding=\"UTF-8\" standalone=\"no\"?><svg xmlns=\"http://www.w3.org/2000/svg\" xmlns:xlink=\"http://www.w3.org/1999/xlink\" contentScriptType=\"application/ecmascript\" contentStyleType=\"text/css\" height=\"449px\" preserveAspectRatio=\"none\" style=\"width:489px;height:449px;\" version=\"1.1\" viewBox=\"0 0 489 449\" width=\"489px\" zoomAndPan=\"magnify\"><defs/><g><!--MD5=[fbc87193dbaf4d95561dea2c320d4a47]\n",
       "cluster E1--><a href=\"psysml:438e34af-3ce5-4e99-acf4-d3ecd205ea23\" target=\"_top\" title=\"psysml:438e34af-3ce5-4e99-acf4-d3ecd205ea23\" xlink:actuate=\"onRequest\" xlink:href=\"psysml:438e34af-3ce5-4e99-acf4-d3ecd205ea23\" xlink:show=\"new\" xlink:title=\"psysml:438e34af-3ce5-4e99-acf4-d3ecd205ea23\" xlink:type=\"simple\"><polygon fill=\"#FFFFFF\" points=\"16,6,156,6,163,28.2969,467,28.2969,467,437,16,437,16,6\" style=\"stroke: #000000; stroke-width: 1.5;\"/><line style=\"stroke: #000000; stroke-width: 1.5;\" x1=\"16\" x2=\"163\" y1=\"28.2969\" y2=\"28.2969\"/><text fill=\"#000000\" font-family=\"sans-serif\" font-size=\"14\" font-weight=\"bold\" lengthAdjust=\"spacingAndGlyphs\" textLength=\"134\" x=\"20\" y=\"20.9951\">DependencyTest</text></a><!--MD5=[e4f7fae6ed58524ba242bb0b0d3be6b7]\n",
       "cluster E2--><a href=\"psysml:33a226aa-95cf-4670-96e1-1bd6e94f796f\" target=\"_top\" title=\"psysml:33a226aa-95cf-4670-96e1-1bd6e94f796f\" xlink:actuate=\"onRequest\" xlink:href=\"psysml:33a226aa-95cf-4670-96e1-1bd6e94f796f\" xlink:show=\"new\" xlink:title=\"psysml:33a226aa-95cf-4670-96e1-1bd6e94f796f\" xlink:type=\"simple\"><polygon fill=\"#FFFFFF\" points=\"255,49,319,49,326,71.2969,443,71.2969,443,413,255,413,255,49\" style=\"stroke: #000000; stroke-width: 1.5;\"/><line style=\"stroke: #000000; stroke-width: 1.5;\" x1=\"255\" x2=\"326\" y1=\"71.2969\" y2=\"71.2969\"/><text fill=\"#000000\" font-family=\"sans-serif\" font-size=\"14\" font-weight=\"bold\" lengthAdjust=\"spacingAndGlyphs\" textLength=\"58\" x=\"259\" y=\"63.9951\">System</text></a><!--MD5=[60a26617385b1d2d0262a64233df1f8d]\n",
       "class E6--><a href=\"psysml:747ec202-6e4c-456d-855d-21470db0b7f2\" target=\"_top\" title=\"psysml:747ec202-6e4c-456d-855d-21470db0b7f2\" xlink:actuate=\"onRequest\" xlink:href=\"psysml:747ec202-6e4c-456d-855d-21470db0b7f2\" xlink:show=\"new\" xlink:title=\"psysml:747ec202-6e4c-456d-855d-21470db0b7f2\" xlink:type=\"simple\"><rect fill=\"#FFFFFF\" height=\"45.9375\" id=\"E6\" rx=\"10\" ry=\"10\" style=\"stroke: #383838; stroke-width: 1.5;\" width=\"71\" x=\"32.5\" y=\"217.5\"/><text fill=\"#000000\" font-family=\"sans-serif\" font-size=\"12\" font-style=\"italic\" lengthAdjust=\"spacingAndGlyphs\" textLength=\"69\" x=\"33.5\" y=\"233.6387\">«attribute»</text><text fill=\"#000000\" font-family=\"sans-serif\" font-size=\"12\" lengthAdjust=\"spacingAndGlyphs\" textLength=\"6\" x=\"65\" y=\"247.6074\">x</text><line style=\"stroke: #383838; stroke-width: 1.5;\" x1=\"33.5\" x2=\"102.5\" y1=\"255.4375\" y2=\"255.4375\"/></a><!--MD5=[2156ba9850f5573cc1fc38a6a4b2f02b]\n",
       "class E7--><a href=\"psysml:aee293b7-b915-4f4d-bf33-13d7af80ad07\" target=\"_top\" title=\"psysml:aee293b7-b915-4f4d-bf33-13d7af80ad07\" xlink:actuate=\"onRequest\" xlink:href=\"psysml:aee293b7-b915-4f4d-bf33-13d7af80ad07\" xlink:show=\"new\" xlink:title=\"psysml:aee293b7-b915-4f4d-bf33-13d7af80ad07\" xlink:type=\"simple\"><rect fill=\"#FFFFFF\" height=\"45.9375\" id=\"E7\" rx=\"10\" ry=\"10\" style=\"stroke: #383838; stroke-width: 1.5;\" width=\"71\" x=\"138.5\" y=\"217.5\"/><text fill=\"#000000\" font-family=\"sans-serif\" font-size=\"12\" font-style=\"italic\" lengthAdjust=\"spacingAndGlyphs\" textLength=\"69\" x=\"139.5\" y=\"233.6387\">«attribute»</text><text fill=\"#000000\" font-family=\"sans-serif\" font-size=\"12\" lengthAdjust=\"spacingAndGlyphs\" textLength=\"6\" x=\"171\" y=\"247.6074\">y</text><line style=\"stroke: #383838; stroke-width: 1.5;\" x1=\"139.5\" x2=\"208.5\" y1=\"255.4375\" y2=\"255.4375\"/></a><!--MD5=[b9389687b975829384b498ac4b7476b2]\n",
       "class E8--><a href=\"psysml:1c42907e-9ca4-4468-bbbb-1ea70701dab3\" target=\"_top\" title=\"psysml:1c42907e-9ca4-4468-bbbb-1ea70701dab3\" xlink:actuate=\"onRequest\" xlink:href=\"psysml:1c42907e-9ca4-4468-bbbb-1ea70701dab3\" xlink:show=\"new\" xlink:title=\"psysml:1c42907e-9ca4-4468-bbbb-1ea70701dab3\" xlink:type=\"simple\"><rect fill=\"#FFFFFF\" height=\"45.9375\" id=\"E8\" rx=\"10\" ry=\"10\" style=\"stroke: #383838; stroke-width: 1.5;\" width=\"71\" x=\"84.5\" y=\"87.5\"/><text fill=\"#000000\" font-family=\"sans-serif\" font-size=\"12\" font-style=\"italic\" lengthAdjust=\"spacingAndGlyphs\" textLength=\"69\" x=\"85.5\" y=\"103.6387\">«attribute»</text><text fill=\"#000000\" font-family=\"sans-serif\" font-size=\"12\" lengthAdjust=\"spacingAndGlyphs\" textLength=\"5\" x=\"117.5\" y=\"117.6074\">z</text><line style=\"stroke: #383838; stroke-width: 1.5;\" x1=\"85.5\" x2=\"154.5\" y1=\"125.4375\" y2=\"125.4375\"/></a><a href=\"psysml:add81eb6-248c-4298-8987-63cd174f8097\" target=\"_top\" title=\"psysml:add81eb6-248c-4298-8987-63cd174f8097\" xlink:actuate=\"onRequest\" xlink:href=\"psysml:add81eb6-248c-4298-8987-63cd174f8097\" xlink:show=\"new\" xlink:title=\"psysml:add81eb6-248c-4298-8987-63cd174f8097\" xlink:type=\"simple\"><polygon fill=\"#FFFFFF\" points=\"271,84,413,84,420,106.2969,427,106.2969,427,136.5938,271,136.5938,271,84\" style=\"stroke: #000000; stroke-width: 1.5;\"/><line style=\"stroke: #000000; stroke-width: 1.5;\" x1=\"271\" x2=\"420\" y1=\"106.2969\" y2=\"106.2969\"/><text fill=\"#000000\" font-family=\"sans-serif\" font-size=\"14\" font-weight=\"bold\" lengthAdjust=\"spacingAndGlyphs\" textLength=\"136\" x=\"275\" y=\"98.9951\">Application Layer</text></a><a href=\"psysml:95ba016d-ba70-4f40-a2b0-65410d9cce5b\" target=\"_top\" title=\"psysml:95ba016d-ba70-4f40-a2b0-65410d9cce5b\" xlink:actuate=\"onRequest\" xlink:href=\"psysml:95ba016d-ba70-4f40-a2b0-65410d9cce5b\" xlink:show=\"new\" xlink:title=\"psysml:95ba016d-ba70-4f40-a2b0-65410d9cce5b\" xlink:type=\"simple\"><polygon fill=\"#FFFFFF\" points=\"285,214,399,214,406,236.2969,413,236.2969,413,266.5938,285,266.5938,285,214\" style=\"stroke: #000000; stroke-width: 1.5;\"/><line style=\"stroke: #000000; stroke-width: 1.5;\" x1=\"285\" x2=\"406\" y1=\"236.2969\" y2=\"236.2969\"/><text fill=\"#000000\" font-family=\"sans-serif\" font-size=\"14\" font-weight=\"bold\" lengthAdjust=\"spacingAndGlyphs\" textLength=\"108\" x=\"289\" y=\"228.9951\">Service Layer</text></a><a href=\"psysml:ae80162e-06ca-4b24-a1f3-10c5d346ebc4\" target=\"_top\" title=\"psysml:ae80162e-06ca-4b24-a1f3-10c5d346ebc4\" xlink:actuate=\"onRequest\" xlink:href=\"psysml:ae80162e-06ca-4b24-a1f3-10c5d346ebc4\" xlink:show=\"new\" xlink:title=\"psysml:ae80162e-06ca-4b24-a1f3-10c5d346ebc4\" xlink:type=\"simple\"><polygon fill=\"#FFFFFF\" points=\"297,344,387,344,394,366.2969,401,366.2969,401,396.5938,297,396.5938,297,344\" style=\"stroke: #000000; stroke-width: 1.5;\"/><line style=\"stroke: #000000; stroke-width: 1.5;\" x1=\"297\" x2=\"394\" y1=\"366.2969\" y2=\"366.2969\"/><text fill=\"#000000\" font-family=\"sans-serif\" font-size=\"14\" font-weight=\"bold\" lengthAdjust=\"spacingAndGlyphs\" textLength=\"84\" x=\"301\" y=\"358.9951\">Data Layer</text></a><!--MD5=[af87c684e3b0d8be13c1a698a818ef1e]\n",
       "link E3 to E4--><a href=\"psysml:4c7b915e-320e-40c7-9399-584f1f84a9d7\" target=\"_top\" title=\"psysml:4c7b915e-320e-40c7-9399-584f1f84a9d7\" xlink:actuate=\"onRequest\" xlink:href=\"psysml:4c7b915e-320e-40c7-9399-584f1f84a9d7\" xlink:show=\"new\" xlink:title=\"psysml:4c7b915e-320e-40c7-9399-584f1f84a9d7\" xlink:type=\"simple\"><path d=\"M349,137.1 C349,156.8 349,184.22 349,205.73 \" fill=\"none\" id=\"E3-&gt;E4\" style=\"stroke: #383838; stroke-width: 1.0; stroke-dasharray: 7.0,7.0;\"/><polygon fill=\"#383838\" points=\"349,213.95,352,205.95,346,205.95,349,213.95\" style=\"stroke: #383838; stroke-width: 1.0;\"/><text fill=\"#000000\" font-family=\"sans-serif\" font-size=\"13\" lengthAdjust=\"spacingAndGlyphs\" textLength=\"64\" x=\"350\" y=\"180.0669\">«depend»</text></a><!--MD5=[1b7591eae5389033d8d09a9d6721a717]\n",
       "link E4 to E5--><a href=\"psysml:9be59ee3-60f5-4004-bc3e-00c0f7693956\" target=\"_top\" title=\"psysml:9be59ee3-60f5-4004-bc3e-00c0f7693956\" xlink:actuate=\"onRequest\" xlink:href=\"psysml:9be59ee3-60f5-4004-bc3e-00c0f7693956\" xlink:show=\"new\" xlink:title=\"psysml:9be59ee3-60f5-4004-bc3e-00c0f7693956\" xlink:type=\"simple\"><path d=\"M349,267.1 C349,286.8 349,314.22 349,335.73 \" fill=\"none\" id=\"E4-&gt;E5\" style=\"stroke: #383838; stroke-width: 1.0; stroke-dasharray: 7.0,7.0;\"/><polygon fill=\"#383838\" points=\"349,343.95,352,335.95,346,335.95,349,343.95\" style=\"stroke: #383838; stroke-width: 1.0;\"/><text fill=\"#000000\" font-family=\"sans-serif\" font-size=\"13\" lengthAdjust=\"spacingAndGlyphs\" textLength=\"64\" x=\"350\" y=\"310.0669\">«depend»</text></a><!--MD5=[c5e8897d989ce984f93528998a7150fe]\n",
       "link E8 to E6--><a href=\"psysml:80784242-98cb-449c-a51f-f2c7c1061d87\" target=\"_top\" title=\"psysml:80784242-98cb-449c-a51f-f2c7c1061d87\" xlink:actuate=\"onRequest\" xlink:href=\"psysml:80784242-98cb-449c-a51f-f2c7c1061d87\" xlink:show=\"new\" xlink:title=\"psysml:80784242-98cb-449c-a51f-f2c7c1061d87\" xlink:type=\"simple\"><path d=\"M89.42,133.6 C79.35,142.68 69.37,154.11 64,167 C58.5,180.2 58.66,195.94 60.54,209.38 \" fill=\"none\" id=\"E8-&gt;E6\" style=\"stroke: #383838; stroke-width: 1.0; stroke-dasharray: 7.0,7.0;\"/><polygon fill=\"#383838\" points=\"61.9,217.4,63.517,209.0104,57.6018,210.0159,61.9,217.4\" style=\"stroke: #383838; stroke-width: 1.0;\"/><text fill=\"#000000\" font-family=\"sans-serif\" font-size=\"13\" lengthAdjust=\"spacingAndGlyphs\" textLength=\"64\" x=\"65\" y=\"180.0669\">«depend»</text></a><!--MD5=[bfa3c8b0d15052fdf50ae9310b491027]\n",
       "link E8 to E7--><a href=\"psysml:80784242-98cb-449c-a51f-f2c7c1061d87\" target=\"_top\" title=\"psysml:80784242-98cb-449c-a51f-f2c7c1061d87\" xlink:actuate=\"onRequest\" xlink:href=\"psysml:80784242-98cb-449c-a51f-f2c7c1061d87\" xlink:show=\"new\" xlink:title=\"psysml:80784242-98cb-449c-a51f-f2c7c1061d87\" xlink:type=\"simple\"><path d=\"M129.28,133.5 C138.17,154.57 151.64,186.5 161.47,209.81 \" fill=\"none\" id=\"E8-&gt;E7\" style=\"stroke: #383838; stroke-width: 1.0; stroke-dasharray: 7.0,7.0;\"/><polygon fill=\"#383838\" points=\"164.66,217.35,164.3241,208.8126,158.7933,211.1385,164.66,217.35\" style=\"stroke: #383838; stroke-width: 1.0;\"/><text fill=\"#000000\" font-family=\"sans-serif\" font-size=\"13\" lengthAdjust=\"spacingAndGlyphs\" textLength=\"64\" x=\"151\" y=\"180.0669\">«depend»</text></a><!--MD5=[efa95c2bbc99cd10b4c4005024125535]\n",
       "@startuml\r\n",
       "top to bottom direction\r\n",
       "skinparam monochrome true\r\n",
       "skinparam classbackgroundcolor white\r\n",
       "skinparam shadowing false\r\n",
       "skinparam wrapWidth 300\r\n",
       "hide circle\r\n",
       "\r\n",
       "package \"DependencyTest\" as E1  [[psysml:438e34af-3ce5-4e99-acf4-d3ecd205ea23 ]]  {\r\n",
       "package \"System\" as E2  [[psysml:33a226aa-95cf-4670-96e1-1bd6e94f796f ]]  {\r\n",
       "package \"Application Layer\" as E3  [[psysml:add81eb6-248c-4298-8987-63cd174f8097 ]]  {\r\n",
       "}\r\n",
       "package \"Service Layer\" as E4  [[psysml:95ba016d-ba70-4f40-a2b0-65410d9cce5b ]]  {\r\n",
       "}\r\n",
       "package \"Data Layer\" as E5  [[psysml:ae80162e-06ca-4b24-a1f3-10c5d346ebc4 ]]  {\r\n",
       "}\r\n",
       "}\r\n",
       "comp usage \"x\" as E6  <<(T,blue)attribute>> [[psysml:747ec202-6e4c-456d-855d-21470db0b7f2 ]] {\r\n",
       "}\r\n",
       "comp usage \"y\" as E7  <<(T,blue)attribute>> [[psysml:aee293b7-b915-4f4d-bf33-13d7af80ad07 ]] {\r\n",
       "}\r\n",
       "comp usage \"z\" as E8  <<(T,blue)attribute>> [[psysml:1c42907e-9ca4-4468-bbbb-1ea70701dab3 ]] {\r\n",
       "}\r\n",
       "E3 ..>> E4 [[psysml:4c7b915e-320e-40c7-9399-584f1f84a9d7 ]] : <<depend>>\r\n",
       "E4 ..>> E5 [[psysml:9be59ee3-60f5-4004-bc3e-00c0f7693956 ]] : <<depend>>\r\n",
       "E8 ..>> E6 [[psysml:80784242-98cb-449c-a51f-f2c7c1061d87 ]] : <<depend>>\r\n",
       "E8 ..>> E7 [[psysml:80784242-98cb-449c-a51f-f2c7c1061d87 ]] : <<depend>>\r\n",
       "}\r\n",
       "@enduml\r\n",
       "\n",
       "PlantUML version 1.2020.13(Sat Jun 13 12:26:38 UTC 2020)\n",
       "(EPL source distribution)\n",
       "Java Runtime: OpenJDK Runtime Environment\n",
       "JVM: OpenJDK 64-Bit Server VM\n",
       "Default Encoding: UTF-8\n",
       "Language: en\n",
       "Country: null\n",
       "--></g></svg>"
      ]
     },
     "execution_count": 50,
     "metadata": {},
     "output_type": "execute_result"
    }
   ],
   "source": [
    "%viz --style=\"TB\" --view=\"MIXED\" \"DependencyTest\""
   ]
  },
  {
   "cell_type": "code",
   "execution_count": 51,
   "id": "criminal-nylon",
   "metadata": {
    "execution": {
     "iopub.execute_input": "2021-03-25T13:26:21.118463Z",
     "iopub.status.busy": "2021-03-25T13:26:21.117831Z",
     "iopub.status.idle": "2021-03-25T13:26:21.219908Z",
     "shell.execute_reply": "2021-03-25T13:26:21.218124Z"
    }
   },
   "outputs": [
    {
     "data": {
      "image/svg+xml": [
       "<?xml version=\"1.0\" encoding=\"UTF-8\" standalone=\"no\"?><svg xmlns=\"http://www.w3.org/2000/svg\" xmlns:xlink=\"http://www.w3.org/1999/xlink\" contentScriptType=\"application/ecmascript\" contentStyleType=\"text/css\" height=\"449px\" preserveAspectRatio=\"none\" style=\"width:489px;height:449px;\" version=\"1.1\" viewBox=\"0 0 489 449\" width=\"489px\" zoomAndPan=\"magnify\"><defs/><g><!--MD5=[fbc87193dbaf4d95561dea2c320d4a47]\n",
       "cluster E1--><a href=\"psysml:438e34af-3ce5-4e99-acf4-d3ecd205ea23\" target=\"_top\" title=\"psysml:438e34af-3ce5-4e99-acf4-d3ecd205ea23\" xlink:actuate=\"onRequest\" xlink:href=\"psysml:438e34af-3ce5-4e99-acf4-d3ecd205ea23\" xlink:show=\"new\" xlink:title=\"psysml:438e34af-3ce5-4e99-acf4-d3ecd205ea23\" xlink:type=\"simple\"><polygon fill=\"#FFFFFF\" points=\"16,6,156,6,163,28.2969,467,28.2969,467,437,16,437,16,6\" style=\"stroke: #000000; stroke-width: 1.5;\"/><line style=\"stroke: #000000; stroke-width: 1.5;\" x1=\"16\" x2=\"163\" y1=\"28.2969\" y2=\"28.2969\"/><text fill=\"#000000\" font-family=\"sans-serif\" font-size=\"14\" font-weight=\"bold\" lengthAdjust=\"spacingAndGlyphs\" textLength=\"134\" x=\"20\" y=\"20.9951\">DependencyTest</text></a><!--MD5=[e4f7fae6ed58524ba242bb0b0d3be6b7]\n",
       "cluster E2--><a href=\"psysml:33a226aa-95cf-4670-96e1-1bd6e94f796f\" target=\"_top\" title=\"psysml:33a226aa-95cf-4670-96e1-1bd6e94f796f\" xlink:actuate=\"onRequest\" xlink:href=\"psysml:33a226aa-95cf-4670-96e1-1bd6e94f796f\" xlink:show=\"new\" xlink:title=\"psysml:33a226aa-95cf-4670-96e1-1bd6e94f796f\" xlink:type=\"simple\"><polygon fill=\"#FFFFFF\" points=\"255,49,319,49,326,71.2969,443,71.2969,443,413,255,413,255,49\" style=\"stroke: #000000; stroke-width: 1.5;\"/><line style=\"stroke: #000000; stroke-width: 1.5;\" x1=\"255\" x2=\"326\" y1=\"71.2969\" y2=\"71.2969\"/><text fill=\"#000000\" font-family=\"sans-serif\" font-size=\"14\" font-weight=\"bold\" lengthAdjust=\"spacingAndGlyphs\" textLength=\"58\" x=\"259\" y=\"63.9951\">System</text></a><!--MD5=[60a26617385b1d2d0262a64233df1f8d]\n",
       "class E6--><a href=\"psysml:747ec202-6e4c-456d-855d-21470db0b7f2\" target=\"_top\" title=\"psysml:747ec202-6e4c-456d-855d-21470db0b7f2\" xlink:actuate=\"onRequest\" xlink:href=\"psysml:747ec202-6e4c-456d-855d-21470db0b7f2\" xlink:show=\"new\" xlink:title=\"psysml:747ec202-6e4c-456d-855d-21470db0b7f2\" xlink:type=\"simple\"><rect fill=\"#FFFFFF\" height=\"45.9375\" id=\"E6\" rx=\"10\" ry=\"10\" style=\"stroke: #383838; stroke-width: 1.5;\" width=\"71\" x=\"32.5\" y=\"217.5\"/><text fill=\"#000000\" font-family=\"sans-serif\" font-size=\"12\" font-style=\"italic\" lengthAdjust=\"spacingAndGlyphs\" textLength=\"69\" x=\"33.5\" y=\"233.6387\">«attribute»</text><text fill=\"#000000\" font-family=\"sans-serif\" font-size=\"12\" lengthAdjust=\"spacingAndGlyphs\" textLength=\"6\" x=\"65\" y=\"247.6074\">x</text><line style=\"stroke: #383838; stroke-width: 1.5;\" x1=\"33.5\" x2=\"102.5\" y1=\"255.4375\" y2=\"255.4375\"/></a><!--MD5=[2156ba9850f5573cc1fc38a6a4b2f02b]\n",
       "class E7--><a href=\"psysml:aee293b7-b915-4f4d-bf33-13d7af80ad07\" target=\"_top\" title=\"psysml:aee293b7-b915-4f4d-bf33-13d7af80ad07\" xlink:actuate=\"onRequest\" xlink:href=\"psysml:aee293b7-b915-4f4d-bf33-13d7af80ad07\" xlink:show=\"new\" xlink:title=\"psysml:aee293b7-b915-4f4d-bf33-13d7af80ad07\" xlink:type=\"simple\"><rect fill=\"#FFFFFF\" height=\"45.9375\" id=\"E7\" rx=\"10\" ry=\"10\" style=\"stroke: #383838; stroke-width: 1.5;\" width=\"71\" x=\"138.5\" y=\"217.5\"/><text fill=\"#000000\" font-family=\"sans-serif\" font-size=\"12\" font-style=\"italic\" lengthAdjust=\"spacingAndGlyphs\" textLength=\"69\" x=\"139.5\" y=\"233.6387\">«attribute»</text><text fill=\"#000000\" font-family=\"sans-serif\" font-size=\"12\" lengthAdjust=\"spacingAndGlyphs\" textLength=\"6\" x=\"171\" y=\"247.6074\">y</text><line style=\"stroke: #383838; stroke-width: 1.5;\" x1=\"139.5\" x2=\"208.5\" y1=\"255.4375\" y2=\"255.4375\"/></a><!--MD5=[b9389687b975829384b498ac4b7476b2]\n",
       "class E8--><a href=\"psysml:1c42907e-9ca4-4468-bbbb-1ea70701dab3\" target=\"_top\" title=\"psysml:1c42907e-9ca4-4468-bbbb-1ea70701dab3\" xlink:actuate=\"onRequest\" xlink:href=\"psysml:1c42907e-9ca4-4468-bbbb-1ea70701dab3\" xlink:show=\"new\" xlink:title=\"psysml:1c42907e-9ca4-4468-bbbb-1ea70701dab3\" xlink:type=\"simple\"><rect fill=\"#FFFFFF\" height=\"45.9375\" id=\"E8\" rx=\"10\" ry=\"10\" style=\"stroke: #383838; stroke-width: 1.5;\" width=\"71\" x=\"84.5\" y=\"87.5\"/><text fill=\"#000000\" font-family=\"sans-serif\" font-size=\"12\" font-style=\"italic\" lengthAdjust=\"spacingAndGlyphs\" textLength=\"69\" x=\"85.5\" y=\"103.6387\">«attribute»</text><text fill=\"#000000\" font-family=\"sans-serif\" font-size=\"12\" lengthAdjust=\"spacingAndGlyphs\" textLength=\"5\" x=\"117.5\" y=\"117.6074\">z</text><line style=\"stroke: #383838; stroke-width: 1.5;\" x1=\"85.5\" x2=\"154.5\" y1=\"125.4375\" y2=\"125.4375\"/></a><a href=\"psysml:add81eb6-248c-4298-8987-63cd174f8097\" target=\"_top\" title=\"psysml:add81eb6-248c-4298-8987-63cd174f8097\" xlink:actuate=\"onRequest\" xlink:href=\"psysml:add81eb6-248c-4298-8987-63cd174f8097\" xlink:show=\"new\" xlink:title=\"psysml:add81eb6-248c-4298-8987-63cd174f8097\" xlink:type=\"simple\"><polygon fill=\"#FFFFFF\" points=\"271,84,413,84,420,106.2969,427,106.2969,427,136.5938,271,136.5938,271,84\" style=\"stroke: #000000; stroke-width: 1.5;\"/><line style=\"stroke: #000000; stroke-width: 1.5;\" x1=\"271\" x2=\"420\" y1=\"106.2969\" y2=\"106.2969\"/><text fill=\"#000000\" font-family=\"sans-serif\" font-size=\"14\" font-weight=\"bold\" lengthAdjust=\"spacingAndGlyphs\" textLength=\"136\" x=\"275\" y=\"98.9951\">Application Layer</text></a><a href=\"psysml:95ba016d-ba70-4f40-a2b0-65410d9cce5b\" target=\"_top\" title=\"psysml:95ba016d-ba70-4f40-a2b0-65410d9cce5b\" xlink:actuate=\"onRequest\" xlink:href=\"psysml:95ba016d-ba70-4f40-a2b0-65410d9cce5b\" xlink:show=\"new\" xlink:title=\"psysml:95ba016d-ba70-4f40-a2b0-65410d9cce5b\" xlink:type=\"simple\"><polygon fill=\"#FFFFFF\" points=\"285,214,399,214,406,236.2969,413,236.2969,413,266.5938,285,266.5938,285,214\" style=\"stroke: #000000; stroke-width: 1.5;\"/><line style=\"stroke: #000000; stroke-width: 1.5;\" x1=\"285\" x2=\"406\" y1=\"236.2969\" y2=\"236.2969\"/><text fill=\"#000000\" font-family=\"sans-serif\" font-size=\"14\" font-weight=\"bold\" lengthAdjust=\"spacingAndGlyphs\" textLength=\"108\" x=\"289\" y=\"228.9951\">Service Layer</text></a><a href=\"psysml:ae80162e-06ca-4b24-a1f3-10c5d346ebc4\" target=\"_top\" title=\"psysml:ae80162e-06ca-4b24-a1f3-10c5d346ebc4\" xlink:actuate=\"onRequest\" xlink:href=\"psysml:ae80162e-06ca-4b24-a1f3-10c5d346ebc4\" xlink:show=\"new\" xlink:title=\"psysml:ae80162e-06ca-4b24-a1f3-10c5d346ebc4\" xlink:type=\"simple\"><polygon fill=\"#FFFFFF\" points=\"297,344,387,344,394,366.2969,401,366.2969,401,396.5938,297,396.5938,297,344\" style=\"stroke: #000000; stroke-width: 1.5;\"/><line style=\"stroke: #000000; stroke-width: 1.5;\" x1=\"297\" x2=\"394\" y1=\"366.2969\" y2=\"366.2969\"/><text fill=\"#000000\" font-family=\"sans-serif\" font-size=\"14\" font-weight=\"bold\" lengthAdjust=\"spacingAndGlyphs\" textLength=\"84\" x=\"301\" y=\"358.9951\">Data Layer</text></a><!--MD5=[af87c684e3b0d8be13c1a698a818ef1e]\n",
       "link E3 to E4--><a href=\"psysml:4c7b915e-320e-40c7-9399-584f1f84a9d7\" target=\"_top\" title=\"psysml:4c7b915e-320e-40c7-9399-584f1f84a9d7\" xlink:actuate=\"onRequest\" xlink:href=\"psysml:4c7b915e-320e-40c7-9399-584f1f84a9d7\" xlink:show=\"new\" xlink:title=\"psysml:4c7b915e-320e-40c7-9399-584f1f84a9d7\" xlink:type=\"simple\"><path d=\"M349,137.12 C349,137.12 349,205.91 349,205.91 \" fill=\"none\" id=\"E3-&gt;E4\" style=\"stroke: #383838; stroke-width: 1.0; stroke-dasharray: 7.0,7.0;\"/><polygon fill=\"#383838\" points=\"349,213.91,352,205.91,346,205.91,349,213.91\" style=\"stroke: #383838; stroke-width: 1.0;\"/><text fill=\"#000000\" font-family=\"sans-serif\" font-size=\"13\" lengthAdjust=\"spacingAndGlyphs\" textLength=\"64\" x=\"350\" y=\"180.0669\">«depend»</text></a><!--MD5=[1b7591eae5389033d8d09a9d6721a717]\n",
       "link E4 to E5--><a href=\"psysml:9be59ee3-60f5-4004-bc3e-00c0f7693956\" target=\"_top\" title=\"psysml:9be59ee3-60f5-4004-bc3e-00c0f7693956\" xlink:actuate=\"onRequest\" xlink:href=\"psysml:9be59ee3-60f5-4004-bc3e-00c0f7693956\" xlink:show=\"new\" xlink:title=\"psysml:9be59ee3-60f5-4004-bc3e-00c0f7693956\" xlink:type=\"simple\"><path d=\"M349,267.12 C349,267.12 349,335.91 349,335.91 \" fill=\"none\" id=\"E4-&gt;E5\" style=\"stroke: #383838; stroke-width: 1.0; stroke-dasharray: 7.0,7.0;\"/><polygon fill=\"#383838\" points=\"349,343.91,352,335.91,346,335.91,349,343.91\" style=\"stroke: #383838; stroke-width: 1.0;\"/><text fill=\"#000000\" font-family=\"sans-serif\" font-size=\"13\" lengthAdjust=\"spacingAndGlyphs\" textLength=\"64\" x=\"350\" y=\"310.0669\">«depend»</text></a><!--MD5=[c5e8897d989ce984f93528998a7150fe]\n",
       "link E8 to E6--><a href=\"psysml:80784242-98cb-449c-a51f-f2c7c1061d87\" target=\"_top\" title=\"psysml:80784242-98cb-449c-a51f-f2c7c1061d87\" xlink:actuate=\"onRequest\" xlink:href=\"psysml:80784242-98cb-449c-a51f-f2c7c1061d87\" xlink:show=\"new\" xlink:title=\"psysml:80784242-98cb-449c-a51f-f2c7c1061d87\" xlink:type=\"simple\"><path d=\"M94,133.74 C94,133.74 94,209.46 94,209.46 \" fill=\"none\" id=\"E8-&gt;E6\" style=\"stroke: #383838; stroke-width: 1.0; stroke-dasharray: 7.0,7.0;\"/><polygon fill=\"#383838\" points=\"94,217.46,97,209.46,91,209.46,94,217.46\" style=\"stroke: #383838; stroke-width: 1.0;\"/><text fill=\"#000000\" font-family=\"sans-serif\" font-size=\"13\" lengthAdjust=\"spacingAndGlyphs\" textLength=\"64\" x=\"68\" y=\"180.0669\">«depend»</text></a><!--MD5=[bfa3c8b0d15052fdf50ae9310b491027]\n",
       "link E8 to E7--><a href=\"psysml:80784242-98cb-449c-a51f-f2c7c1061d87\" target=\"_top\" title=\"psysml:80784242-98cb-449c-a51f-f2c7c1061d87\" xlink:actuate=\"onRequest\" xlink:href=\"psysml:80784242-98cb-449c-a51f-f2c7c1061d87\" xlink:show=\"new\" xlink:title=\"psysml:80784242-98cb-449c-a51f-f2c7c1061d87\" xlink:type=\"simple\"><path d=\"M147,133.74 C147,133.74 147,209.46 147,209.46 \" fill=\"none\" id=\"E8-&gt;E7\" style=\"stroke: #383838; stroke-width: 1.0; stroke-dasharray: 7.0,7.0;\"/><polygon fill=\"#383838\" points=\"147,217.46,150,209.46,144,209.46,147,217.46\" style=\"stroke: #383838; stroke-width: 1.0;\"/><text fill=\"#000000\" font-family=\"sans-serif\" font-size=\"13\" lengthAdjust=\"spacingAndGlyphs\" textLength=\"64\" x=\"174\" y=\"180.0669\">«depend»</text></a><!--MD5=[19ab6bff16258473884bfb29d3427912]\n",
       "@startuml\r\n",
       "skinparam linetype ortho\r\n",
       "skinparam monochrome true\r\n",
       "skinparam classbackgroundcolor white\r\n",
       "skinparam shadowing false\r\n",
       "skinparam wrapWidth 300\r\n",
       "hide circle\r\n",
       "\r\n",
       "package \"DependencyTest\" as E1  [[psysml:438e34af-3ce5-4e99-acf4-d3ecd205ea23 ]]  {\r\n",
       "package \"System\" as E2  [[psysml:33a226aa-95cf-4670-96e1-1bd6e94f796f ]]  {\r\n",
       "package \"Application Layer\" as E3  [[psysml:add81eb6-248c-4298-8987-63cd174f8097 ]]  {\r\n",
       "}\r\n",
       "package \"Service Layer\" as E4  [[psysml:95ba016d-ba70-4f40-a2b0-65410d9cce5b ]]  {\r\n",
       "}\r\n",
       "package \"Data Layer\" as E5  [[psysml:ae80162e-06ca-4b24-a1f3-10c5d346ebc4 ]]  {\r\n",
       "}\r\n",
       "}\r\n",
       "comp usage \"x\" as E6  <<(T,blue)attribute>> [[psysml:747ec202-6e4c-456d-855d-21470db0b7f2 ]] {\r\n",
       "}\r\n",
       "comp usage \"y\" as E7  <<(T,blue)attribute>> [[psysml:aee293b7-b915-4f4d-bf33-13d7af80ad07 ]] {\r\n",
       "}\r\n",
       "comp usage \"z\" as E8  <<(T,blue)attribute>> [[psysml:1c42907e-9ca4-4468-bbbb-1ea70701dab3 ]] {\r\n",
       "}\r\n",
       "E3 ..>> E4 [[psysml:4c7b915e-320e-40c7-9399-584f1f84a9d7 ]] : <<depend>>\r\n",
       "E4 ..>> E5 [[psysml:9be59ee3-60f5-4004-bc3e-00c0f7693956 ]] : <<depend>>\r\n",
       "E8 ..>> E6 [[psysml:80784242-98cb-449c-a51f-f2c7c1061d87 ]] : <<depend>>\r\n",
       "E8 ..>> E7 [[psysml:80784242-98cb-449c-a51f-f2c7c1061d87 ]] : <<depend>>\r\n",
       "}\r\n",
       "@enduml\r\n",
       "\n",
       "PlantUML version 1.2020.13(Sat Jun 13 12:26:38 UTC 2020)\n",
       "(EPL source distribution)\n",
       "Java Runtime: OpenJDK Runtime Environment\n",
       "JVM: OpenJDK 64-Bit Server VM\n",
       "Default Encoding: UTF-8\n",
       "Language: en\n",
       "Country: null\n",
       "--></g></svg>"
      ]
     },
     "execution_count": 51,
     "metadata": {},
     "output_type": "execute_result"
    }
   ],
   "source": [
    "%viz --style=\"ORTHOLINE\" --view=\"Default\" \"DependencyTest\""
   ]
  },
  {
   "cell_type": "code",
   "execution_count": 52,
   "id": "general-external",
   "metadata": {
    "execution": {
     "iopub.execute_input": "2021-03-25T13:26:21.271448Z",
     "iopub.status.busy": "2021-03-25T13:26:21.270986Z",
     "iopub.status.idle": "2021-03-25T13:26:21.362910Z",
     "shell.execute_reply": "2021-03-25T13:26:21.361401Z"
    }
   },
   "outputs": [
    {
     "data": {
      "image/svg+xml": [
       "<?xml version=\"1.0\" encoding=\"UTF-8\" standalone=\"no\"?><svg xmlns=\"http://www.w3.org/2000/svg\" xmlns:xlink=\"http://www.w3.org/1999/xlink\" contentScriptType=\"application/ecmascript\" contentStyleType=\"text/css\" height=\"449px\" preserveAspectRatio=\"none\" style=\"width:489px;height:449px;\" version=\"1.1\" viewBox=\"0 0 489 449\" width=\"489px\" zoomAndPan=\"magnify\"><defs/><g><!--MD5=[fbc87193dbaf4d95561dea2c320d4a47]\n",
       "cluster E1--><a href=\"psysml:438e34af-3ce5-4e99-acf4-d3ecd205ea23\" target=\"_top\" title=\"psysml:438e34af-3ce5-4e99-acf4-d3ecd205ea23\" xlink:actuate=\"onRequest\" xlink:href=\"psysml:438e34af-3ce5-4e99-acf4-d3ecd205ea23\" xlink:show=\"new\" xlink:title=\"psysml:438e34af-3ce5-4e99-acf4-d3ecd205ea23\" xlink:type=\"simple\"><polygon fill=\"#FFFFFF\" points=\"16,6,156,6,163,28.2969,467,28.2969,467,437,16,437,16,6\" style=\"stroke: #000000; stroke-width: 1.5;\"/><line style=\"stroke: #000000; stroke-width: 1.5;\" x1=\"16\" x2=\"163\" y1=\"28.2969\" y2=\"28.2969\"/><text fill=\"#000000\" font-family=\"sans-serif\" font-size=\"14\" font-weight=\"bold\" lengthAdjust=\"spacingAndGlyphs\" textLength=\"134\" x=\"20\" y=\"20.9951\">DependencyTest</text></a><!--MD5=[e4f7fae6ed58524ba242bb0b0d3be6b7]\n",
       "cluster E2--><a href=\"psysml:33a226aa-95cf-4670-96e1-1bd6e94f796f\" target=\"_top\" title=\"psysml:33a226aa-95cf-4670-96e1-1bd6e94f796f\" xlink:actuate=\"onRequest\" xlink:href=\"psysml:33a226aa-95cf-4670-96e1-1bd6e94f796f\" xlink:show=\"new\" xlink:title=\"psysml:33a226aa-95cf-4670-96e1-1bd6e94f796f\" xlink:type=\"simple\"><polygon fill=\"#FFFFFF\" points=\"255,49,319,49,326,71.2969,443,71.2969,443,413,255,413,255,49\" style=\"stroke: #000000; stroke-width: 1.5;\"/><line style=\"stroke: #000000; stroke-width: 1.5;\" x1=\"255\" x2=\"326\" y1=\"71.2969\" y2=\"71.2969\"/><text fill=\"#000000\" font-family=\"sans-serif\" font-size=\"14\" font-weight=\"bold\" lengthAdjust=\"spacingAndGlyphs\" textLength=\"58\" x=\"259\" y=\"63.9951\">System</text></a><!--MD5=[60a26617385b1d2d0262a64233df1f8d]\n",
       "class E6--><a href=\"psysml:747ec202-6e4c-456d-855d-21470db0b7f2\" target=\"_top\" title=\"psysml:747ec202-6e4c-456d-855d-21470db0b7f2\" xlink:actuate=\"onRequest\" xlink:href=\"psysml:747ec202-6e4c-456d-855d-21470db0b7f2\" xlink:show=\"new\" xlink:title=\"psysml:747ec202-6e4c-456d-855d-21470db0b7f2\" xlink:type=\"simple\"><rect fill=\"#FFFFFF\" height=\"45.9375\" id=\"E6\" rx=\"10\" ry=\"10\" style=\"stroke: #383838; stroke-width: 1.5;\" width=\"71\" x=\"32.5\" y=\"217.5\"/><text fill=\"#000000\" font-family=\"sans-serif\" font-size=\"12\" font-style=\"italic\" lengthAdjust=\"spacingAndGlyphs\" textLength=\"69\" x=\"33.5\" y=\"233.6387\">«attribute»</text><text fill=\"#000000\" font-family=\"sans-serif\" font-size=\"12\" lengthAdjust=\"spacingAndGlyphs\" textLength=\"6\" x=\"65\" y=\"247.6074\">x</text><line style=\"stroke: #383838; stroke-width: 1.5;\" x1=\"33.5\" x2=\"102.5\" y1=\"255.4375\" y2=\"255.4375\"/></a><!--MD5=[2156ba9850f5573cc1fc38a6a4b2f02b]\n",
       "class E7--><a href=\"psysml:aee293b7-b915-4f4d-bf33-13d7af80ad07\" target=\"_top\" title=\"psysml:aee293b7-b915-4f4d-bf33-13d7af80ad07\" xlink:actuate=\"onRequest\" xlink:href=\"psysml:aee293b7-b915-4f4d-bf33-13d7af80ad07\" xlink:show=\"new\" xlink:title=\"psysml:aee293b7-b915-4f4d-bf33-13d7af80ad07\" xlink:type=\"simple\"><rect fill=\"#FFFFFF\" height=\"45.9375\" id=\"E7\" rx=\"10\" ry=\"10\" style=\"stroke: #383838; stroke-width: 1.5;\" width=\"71\" x=\"138.5\" y=\"217.5\"/><text fill=\"#000000\" font-family=\"sans-serif\" font-size=\"12\" font-style=\"italic\" lengthAdjust=\"spacingAndGlyphs\" textLength=\"69\" x=\"139.5\" y=\"233.6387\">«attribute»</text><text fill=\"#000000\" font-family=\"sans-serif\" font-size=\"12\" lengthAdjust=\"spacingAndGlyphs\" textLength=\"6\" x=\"171\" y=\"247.6074\">y</text><line style=\"stroke: #383838; stroke-width: 1.5;\" x1=\"139.5\" x2=\"208.5\" y1=\"255.4375\" y2=\"255.4375\"/></a><!--MD5=[b9389687b975829384b498ac4b7476b2]\n",
       "class E8--><a href=\"psysml:1c42907e-9ca4-4468-bbbb-1ea70701dab3\" target=\"_top\" title=\"psysml:1c42907e-9ca4-4468-bbbb-1ea70701dab3\" xlink:actuate=\"onRequest\" xlink:href=\"psysml:1c42907e-9ca4-4468-bbbb-1ea70701dab3\" xlink:show=\"new\" xlink:title=\"psysml:1c42907e-9ca4-4468-bbbb-1ea70701dab3\" xlink:type=\"simple\"><rect fill=\"#FFFFFF\" height=\"45.9375\" id=\"E8\" rx=\"10\" ry=\"10\" style=\"stroke: #383838; stroke-width: 1.5;\" width=\"71\" x=\"84.5\" y=\"87.5\"/><text fill=\"#000000\" font-family=\"sans-serif\" font-size=\"12\" font-style=\"italic\" lengthAdjust=\"spacingAndGlyphs\" textLength=\"69\" x=\"85.5\" y=\"103.6387\">«attribute»</text><text fill=\"#000000\" font-family=\"sans-serif\" font-size=\"12\" lengthAdjust=\"spacingAndGlyphs\" textLength=\"5\" x=\"117.5\" y=\"117.6074\">z</text><line style=\"stroke: #383838; stroke-width: 1.5;\" x1=\"85.5\" x2=\"154.5\" y1=\"125.4375\" y2=\"125.4375\"/></a><a href=\"psysml:add81eb6-248c-4298-8987-63cd174f8097\" target=\"_top\" title=\"psysml:add81eb6-248c-4298-8987-63cd174f8097\" xlink:actuate=\"onRequest\" xlink:href=\"psysml:add81eb6-248c-4298-8987-63cd174f8097\" xlink:show=\"new\" xlink:title=\"psysml:add81eb6-248c-4298-8987-63cd174f8097\" xlink:type=\"simple\"><polygon fill=\"#FFFFFF\" points=\"271,84,413,84,420,106.2969,427,106.2969,427,136.5938,271,136.5938,271,84\" style=\"stroke: #000000; stroke-width: 1.5;\"/><line style=\"stroke: #000000; stroke-width: 1.5;\" x1=\"271\" x2=\"420\" y1=\"106.2969\" y2=\"106.2969\"/><text fill=\"#000000\" font-family=\"sans-serif\" font-size=\"14\" font-weight=\"bold\" lengthAdjust=\"spacingAndGlyphs\" textLength=\"136\" x=\"275\" y=\"98.9951\">Application Layer</text></a><a href=\"psysml:95ba016d-ba70-4f40-a2b0-65410d9cce5b\" target=\"_top\" title=\"psysml:95ba016d-ba70-4f40-a2b0-65410d9cce5b\" xlink:actuate=\"onRequest\" xlink:href=\"psysml:95ba016d-ba70-4f40-a2b0-65410d9cce5b\" xlink:show=\"new\" xlink:title=\"psysml:95ba016d-ba70-4f40-a2b0-65410d9cce5b\" xlink:type=\"simple\"><polygon fill=\"#FFFFFF\" points=\"285,214,399,214,406,236.2969,413,236.2969,413,266.5938,285,266.5938,285,214\" style=\"stroke: #000000; stroke-width: 1.5;\"/><line style=\"stroke: #000000; stroke-width: 1.5;\" x1=\"285\" x2=\"406\" y1=\"236.2969\" y2=\"236.2969\"/><text fill=\"#000000\" font-family=\"sans-serif\" font-size=\"14\" font-weight=\"bold\" lengthAdjust=\"spacingAndGlyphs\" textLength=\"108\" x=\"289\" y=\"228.9951\">Service Layer</text></a><a href=\"psysml:ae80162e-06ca-4b24-a1f3-10c5d346ebc4\" target=\"_top\" title=\"psysml:ae80162e-06ca-4b24-a1f3-10c5d346ebc4\" xlink:actuate=\"onRequest\" xlink:href=\"psysml:ae80162e-06ca-4b24-a1f3-10c5d346ebc4\" xlink:show=\"new\" xlink:title=\"psysml:ae80162e-06ca-4b24-a1f3-10c5d346ebc4\" xlink:type=\"simple\"><polygon fill=\"#FFFFFF\" points=\"297,344,387,344,394,366.2969,401,366.2969,401,396.5938,297,396.5938,297,344\" style=\"stroke: #000000; stroke-width: 1.5;\"/><line style=\"stroke: #000000; stroke-width: 1.5;\" x1=\"297\" x2=\"394\" y1=\"366.2969\" y2=\"366.2969\"/><text fill=\"#000000\" font-family=\"sans-serif\" font-size=\"14\" font-weight=\"bold\" lengthAdjust=\"spacingAndGlyphs\" textLength=\"84\" x=\"301\" y=\"358.9951\">Data Layer</text></a><!--MD5=[af87c684e3b0d8be13c1a698a818ef1e]\n",
       "link E3 to E4--><a href=\"psysml:4c7b915e-320e-40c7-9399-584f1f84a9d7\" target=\"_top\" title=\"psysml:4c7b915e-320e-40c7-9399-584f1f84a9d7\" xlink:actuate=\"onRequest\" xlink:href=\"psysml:4c7b915e-320e-40c7-9399-584f1f84a9d7\" xlink:show=\"new\" xlink:title=\"psysml:4c7b915e-320e-40c7-9399-584f1f84a9d7\" xlink:type=\"simple\"><path d=\"M349,137.12 C349,137.12 349,205.91 349,205.91 \" fill=\"none\" id=\"E3-&gt;E4\" style=\"stroke: #383838; stroke-width: 1.0; stroke-dasharray: 7.0,7.0;\"/><polygon fill=\"#383838\" points=\"349,213.91,352,205.91,346,205.91,349,213.91\" style=\"stroke: #383838; stroke-width: 1.0;\"/><text fill=\"#000000\" font-family=\"sans-serif\" font-size=\"13\" lengthAdjust=\"spacingAndGlyphs\" textLength=\"64\" x=\"350\" y=\"180.0669\">«depend»</text></a><!--MD5=[1b7591eae5389033d8d09a9d6721a717]\n",
       "link E4 to E5--><a href=\"psysml:9be59ee3-60f5-4004-bc3e-00c0f7693956\" target=\"_top\" title=\"psysml:9be59ee3-60f5-4004-bc3e-00c0f7693956\" xlink:actuate=\"onRequest\" xlink:href=\"psysml:9be59ee3-60f5-4004-bc3e-00c0f7693956\" xlink:show=\"new\" xlink:title=\"psysml:9be59ee3-60f5-4004-bc3e-00c0f7693956\" xlink:type=\"simple\"><path d=\"M349,267.12 C349,267.12 349,335.91 349,335.91 \" fill=\"none\" id=\"E4-&gt;E5\" style=\"stroke: #383838; stroke-width: 1.0; stroke-dasharray: 7.0,7.0;\"/><polygon fill=\"#383838\" points=\"349,343.91,352,335.91,346,335.91,349,343.91\" style=\"stroke: #383838; stroke-width: 1.0;\"/><text fill=\"#000000\" font-family=\"sans-serif\" font-size=\"13\" lengthAdjust=\"spacingAndGlyphs\" textLength=\"64\" x=\"350\" y=\"310.0669\">«depend»</text></a><!--MD5=[c5e8897d989ce984f93528998a7150fe]\n",
       "link E8 to E6--><a href=\"psysml:80784242-98cb-449c-a51f-f2c7c1061d87\" target=\"_top\" title=\"psysml:80784242-98cb-449c-a51f-f2c7c1061d87\" xlink:actuate=\"onRequest\" xlink:href=\"psysml:80784242-98cb-449c-a51f-f2c7c1061d87\" xlink:show=\"new\" xlink:title=\"psysml:80784242-98cb-449c-a51f-f2c7c1061d87\" xlink:type=\"simple\"><path d=\"M94,133.74 C94,133.74 94,209.46 94,209.46 \" fill=\"none\" id=\"E8-&gt;E6\" style=\"stroke: #383838; stroke-width: 1.0; stroke-dasharray: 7.0,7.0;\"/><polygon fill=\"#383838\" points=\"94,217.46,97,209.46,91,209.46,94,217.46\" style=\"stroke: #383838; stroke-width: 1.0;\"/><text fill=\"#000000\" font-family=\"sans-serif\" font-size=\"13\" lengthAdjust=\"spacingAndGlyphs\" textLength=\"64\" x=\"68\" y=\"180.0669\">«depend»</text></a><!--MD5=[bfa3c8b0d15052fdf50ae9310b491027]\n",
       "link E8 to E7--><a href=\"psysml:80784242-98cb-449c-a51f-f2c7c1061d87\" target=\"_top\" title=\"psysml:80784242-98cb-449c-a51f-f2c7c1061d87\" xlink:actuate=\"onRequest\" xlink:href=\"psysml:80784242-98cb-449c-a51f-f2c7c1061d87\" xlink:show=\"new\" xlink:title=\"psysml:80784242-98cb-449c-a51f-f2c7c1061d87\" xlink:type=\"simple\"><path d=\"M147,133.74 C147,133.74 147,209.46 147,209.46 \" fill=\"none\" id=\"E8-&gt;E7\" style=\"stroke: #383838; stroke-width: 1.0; stroke-dasharray: 7.0,7.0;\"/><polygon fill=\"#383838\" points=\"147,217.46,150,209.46,144,209.46,147,217.46\" style=\"stroke: #383838; stroke-width: 1.0;\"/><text fill=\"#000000\" font-family=\"sans-serif\" font-size=\"13\" lengthAdjust=\"spacingAndGlyphs\" textLength=\"64\" x=\"174\" y=\"180.0669\">«depend»</text></a><!--MD5=[19ab6bff16258473884bfb29d3427912]\n",
       "@startuml\r\n",
       "skinparam linetype ortho\r\n",
       "skinparam monochrome true\r\n",
       "skinparam classbackgroundcolor white\r\n",
       "skinparam shadowing false\r\n",
       "skinparam wrapWidth 300\r\n",
       "hide circle\r\n",
       "\r\n",
       "package \"DependencyTest\" as E1  [[psysml:438e34af-3ce5-4e99-acf4-d3ecd205ea23 ]]  {\r\n",
       "package \"System\" as E2  [[psysml:33a226aa-95cf-4670-96e1-1bd6e94f796f ]]  {\r\n",
       "package \"Application Layer\" as E3  [[psysml:add81eb6-248c-4298-8987-63cd174f8097 ]]  {\r\n",
       "}\r\n",
       "package \"Service Layer\" as E4  [[psysml:95ba016d-ba70-4f40-a2b0-65410d9cce5b ]]  {\r\n",
       "}\r\n",
       "package \"Data Layer\" as E5  [[psysml:ae80162e-06ca-4b24-a1f3-10c5d346ebc4 ]]  {\r\n",
       "}\r\n",
       "}\r\n",
       "comp usage \"x\" as E6  <<(T,blue)attribute>> [[psysml:747ec202-6e4c-456d-855d-21470db0b7f2 ]] {\r\n",
       "}\r\n",
       "comp usage \"y\" as E7  <<(T,blue)attribute>> [[psysml:aee293b7-b915-4f4d-bf33-13d7af80ad07 ]] {\r\n",
       "}\r\n",
       "comp usage \"z\" as E8  <<(T,blue)attribute>> [[psysml:1c42907e-9ca4-4468-bbbb-1ea70701dab3 ]] {\r\n",
       "}\r\n",
       "E3 ..>> E4 [[psysml:4c7b915e-320e-40c7-9399-584f1f84a9d7 ]] : <<depend>>\r\n",
       "E4 ..>> E5 [[psysml:9be59ee3-60f5-4004-bc3e-00c0f7693956 ]] : <<depend>>\r\n",
       "E8 ..>> E6 [[psysml:80784242-98cb-449c-a51f-f2c7c1061d87 ]] : <<depend>>\r\n",
       "E8 ..>> E7 [[psysml:80784242-98cb-449c-a51f-f2c7c1061d87 ]] : <<depend>>\r\n",
       "}\r\n",
       "@enduml\r\n",
       "\n",
       "PlantUML version 1.2020.13(Sat Jun 13 12:26:38 UTC 2020)\n",
       "(EPL source distribution)\n",
       "Java Runtime: OpenJDK Runtime Environment\n",
       "JVM: OpenJDK 64-Bit Server VM\n",
       "Default Encoding: UTF-8\n",
       "Language: en\n",
       "Country: null\n",
       "--></g></svg>"
      ]
     },
     "execution_count": 52,
     "metadata": {},
     "output_type": "execute_result"
    }
   ],
   "source": [
    "%viz --style=\"ORTHOLINE\" --view=\"Tree\" \"DependencyTest\""
   ]
  },
  {
   "cell_type": "code",
   "execution_count": 53,
   "id": "disturbed-toner",
   "metadata": {
    "execution": {
     "iopub.execute_input": "2021-03-25T13:26:21.413687Z",
     "iopub.status.busy": "2021-03-25T13:26:21.413091Z",
     "iopub.status.idle": "2021-03-25T13:26:21.421204Z",
     "shell.execute_reply": "2021-03-25T13:26:21.420831Z"
    }
   },
   "outputs": [
    {
     "data": {
      "image/svg+xml": [
       "<?xml version=\"1.0\" encoding=\"UTF-8\" standalone=\"no\"?><svg xmlns=\"http://www.w3.org/2000/svg\" xmlns:xlink=\"http://www.w3.org/1999/xlink\" contentScriptType=\"application/ecmascript\" contentStyleType=\"text/css\" height=\"12px\" preserveAspectRatio=\"none\" style=\"width:12px;height:12px;\" version=\"1.1\" viewBox=\"0 0 12 12\" width=\"12px\" zoomAndPan=\"magnify\"><defs/><g><!--MD5=[97d6f38768b311333d388e66b2b27985]\n",
       "@startuml\r\n",
       "skinparam linetype ortho\r\n",
       "skinparam monochrome true\r\n",
       "skinparam classbackgroundcolor white\r\n",
       "skinparam shadowing false\r\n",
       "skinparam wrapWidth 300\r\n",
       "hide circle\r\n",
       "\r\n",
       "@enduml\r\n",
       "\n",
       "PlantUML version 1.2020.13(Sat Jun 13 12:26:38 UTC 2020)\n",
       "(EPL source distribution)\n",
       "Java Runtime: OpenJDK Runtime Environment\n",
       "JVM: OpenJDK 64-Bit Server VM\n",
       "Default Encoding: UTF-8\n",
       "Language: en\n",
       "Country: null\n",
       "--></g></svg>"
      ]
     },
     "execution_count": 53,
     "metadata": {},
     "output_type": "execute_result"
    }
   ],
   "source": [
    "%viz --style=\"ORTHOLINE\" --view=\"State\" \"DependencyTest\""
   ]
  },
  {
   "cell_type": "code",
   "execution_count": 54,
   "id": "colonial-current",
   "metadata": {
    "execution": {
     "iopub.execute_input": "2021-03-25T13:26:21.473009Z",
     "iopub.status.busy": "2021-03-25T13:26:21.472191Z",
     "iopub.status.idle": "2021-03-25T13:26:21.565920Z",
     "shell.execute_reply": "2021-03-25T13:26:21.564263Z"
    }
   },
   "outputs": [
    {
     "data": {
      "image/svg+xml": [
       "<?xml version=\"1.0\" encoding=\"UTF-8\" standalone=\"no\"?><svg xmlns=\"http://www.w3.org/2000/svg\" xmlns:xlink=\"http://www.w3.org/1999/xlink\" contentScriptType=\"application/ecmascript\" contentStyleType=\"text/css\" height=\"361px\" preserveAspectRatio=\"none\" style=\"width:489px;height:361px;\" version=\"1.1\" viewBox=\"0 0 489 361\" width=\"489px\" zoomAndPan=\"magnify\"><defs/><g><!--MD5=[fbc87193dbaf4d95561dea2c320d4a47]\n",
       "cluster E1--><a href=\"psysml:438e34af-3ce5-4e99-acf4-d3ecd205ea23\" target=\"_top\" title=\"psysml:438e34af-3ce5-4e99-acf4-d3ecd205ea23\" xlink:actuate=\"onRequest\" xlink:href=\"psysml:438e34af-3ce5-4e99-acf4-d3ecd205ea23\" xlink:show=\"new\" xlink:title=\"psysml:438e34af-3ce5-4e99-acf4-d3ecd205ea23\" xlink:type=\"simple\"><polygon fill=\"#FFFFFF\" points=\"16,6,156,6,163,28.2969,467,28.2969,467,349,16,349,16,6\" style=\"stroke: #000000; stroke-width: 1.5;\"/><line style=\"stroke: #000000; stroke-width: 1.5;\" x1=\"16\" x2=\"163\" y1=\"28.2969\" y2=\"28.2969\"/><text fill=\"#000000\" font-family=\"sans-serif\" font-size=\"14\" font-weight=\"bold\" lengthAdjust=\"spacingAndGlyphs\" textLength=\"134\" x=\"20\" y=\"20.9951\">DependencyTest</text></a><!--MD5=[e4f7fae6ed58524ba242bb0b0d3be6b7]\n",
       "cluster E2--><a href=\"psysml:33a226aa-95cf-4670-96e1-1bd6e94f796f\" target=\"_top\" title=\"psysml:33a226aa-95cf-4670-96e1-1bd6e94f796f\" xlink:actuate=\"onRequest\" xlink:href=\"psysml:33a226aa-95cf-4670-96e1-1bd6e94f796f\" xlink:show=\"new\" xlink:title=\"psysml:33a226aa-95cf-4670-96e1-1bd6e94f796f\" xlink:type=\"simple\"><polygon fill=\"#FFFFFF\" points=\"255,49,319,49,326,71.2969,443,71.2969,443,325,255,325,255,49\" style=\"stroke: #000000; stroke-width: 1.5;\"/><line style=\"stroke: #000000; stroke-width: 1.5;\" x1=\"255\" x2=\"326\" y1=\"71.2969\" y2=\"71.2969\"/><text fill=\"#000000\" font-family=\"sans-serif\" font-size=\"14\" font-weight=\"bold\" lengthAdjust=\"spacingAndGlyphs\" textLength=\"58\" x=\"259\" y=\"63.9951\">System</text></a><a href=\"psysml:add81eb6-248c-4298-8987-63cd174f8097\" target=\"_top\" title=\"psysml:add81eb6-248c-4298-8987-63cd174f8097\" xlink:actuate=\"onRequest\" xlink:href=\"psysml:add81eb6-248c-4298-8987-63cd174f8097\" xlink:show=\"new\" xlink:title=\"psysml:add81eb6-248c-4298-8987-63cd174f8097\" xlink:type=\"simple\"><polygon fill=\"#FFFFFF\" points=\"271,84,413,84,420,106.2969,427,106.2969,427,136.5938,271,136.5938,271,84\" style=\"stroke: #000000; stroke-width: 1.5;\"/><line style=\"stroke: #000000; stroke-width: 1.5;\" x1=\"271\" x2=\"420\" y1=\"106.2969\" y2=\"106.2969\"/><text fill=\"#000000\" font-family=\"sans-serif\" font-size=\"14\" font-weight=\"bold\" lengthAdjust=\"spacingAndGlyphs\" textLength=\"136\" x=\"275\" y=\"98.9951\">Application Layer</text></a><a href=\"psysml:95ba016d-ba70-4f40-a2b0-65410d9cce5b\" target=\"_top\" title=\"psysml:95ba016d-ba70-4f40-a2b0-65410d9cce5b\" xlink:actuate=\"onRequest\" xlink:href=\"psysml:95ba016d-ba70-4f40-a2b0-65410d9cce5b\" xlink:show=\"new\" xlink:title=\"psysml:95ba016d-ba70-4f40-a2b0-65410d9cce5b\" xlink:type=\"simple\"><polygon fill=\"#FFFFFF\" points=\"285,170,399,170,406,192.2969,413,192.2969,413,222.5938,285,222.5938,285,170\" style=\"stroke: #000000; stroke-width: 1.5;\"/><line style=\"stroke: #000000; stroke-width: 1.5;\" x1=\"285\" x2=\"406\" y1=\"192.2969\" y2=\"192.2969\"/><text fill=\"#000000\" font-family=\"sans-serif\" font-size=\"14\" font-weight=\"bold\" lengthAdjust=\"spacingAndGlyphs\" textLength=\"108\" x=\"289\" y=\"184.9951\">Service Layer</text></a><a href=\"psysml:ae80162e-06ca-4b24-a1f3-10c5d346ebc4\" target=\"_top\" title=\"psysml:ae80162e-06ca-4b24-a1f3-10c5d346ebc4\" xlink:actuate=\"onRequest\" xlink:href=\"psysml:ae80162e-06ca-4b24-a1f3-10c5d346ebc4\" xlink:show=\"new\" xlink:title=\"psysml:ae80162e-06ca-4b24-a1f3-10c5d346ebc4\" xlink:type=\"simple\"><polygon fill=\"#FFFFFF\" points=\"297,256,387,256,394,278.2969,401,278.2969,401,308.5938,297,308.5938,297,256\" style=\"stroke: #000000; stroke-width: 1.5;\"/><line style=\"stroke: #000000; stroke-width: 1.5;\" x1=\"297\" x2=\"394\" y1=\"278.2969\" y2=\"278.2969\"/><text fill=\"#000000\" font-family=\"sans-serif\" font-size=\"14\" font-weight=\"bold\" lengthAdjust=\"spacingAndGlyphs\" textLength=\"84\" x=\"301\" y=\"270.9951\">Data Layer</text></a><g id=\"E1.E6\"><a href=\"psysml:747ec202-6e4c-456d-855d-21470db0b7f2\" target=\"_top\" title=\"psysml:747ec202-6e4c-456d-855d-21470db0b7f2\" xlink:actuate=\"onRequest\" xlink:href=\"psysml:747ec202-6e4c-456d-855d-21470db0b7f2\" xlink:show=\"new\" xlink:title=\"psysml:747ec202-6e4c-456d-855d-21470db0b7f2\" xlink:type=\"simple\"><rect fill=\"#FFFFFF\" height=\"42.9375\" id=\"E6\" rx=\"10\" ry=\"10\" style=\"stroke: #383838; stroke-width: 1.5;\" width=\"76\" x=\"32\" y=\"175\"/><rect fill=\"#F8F8F8\" height=\"37.9375\" rx=\"10\" ry=\"10\" style=\"stroke: #F8F8F8; stroke-width: 1.5;\" width=\"76\" x=\"32\" y=\"175\"/><rect fill=\"#F8F8F8\" height=\"10\" style=\"stroke: #F8F8F8; stroke-width: 1.5;\" width=\"76\" x=\"32\" y=\"202.9375\"/><rect fill=\"none\" height=\"42.9375\" id=\"E6\" rx=\"10\" ry=\"10\" style=\"stroke: #383838; stroke-width: 1.5;\" width=\"76\" x=\"32\" y=\"175\"/><text fill=\"#000000\" font-family=\"sans-serif\" font-size=\"12\" font-style=\"italic\" lengthAdjust=\"spacingAndGlyphs\" textLength=\"69\" x=\"35.5\" y=\"191.1387\">«attribute»</text><text fill=\"#000000\" font-family=\"sans-serif\" font-size=\"12\" lengthAdjust=\"spacingAndGlyphs\" textLength=\"6\" x=\"67\" y=\"205.1074\">x</text></a></g><g id=\"E1.E7\"><a href=\"psysml:aee293b7-b915-4f4d-bf33-13d7af80ad07\" target=\"_top\" title=\"psysml:aee293b7-b915-4f4d-bf33-13d7af80ad07\" xlink:actuate=\"onRequest\" xlink:href=\"psysml:aee293b7-b915-4f4d-bf33-13d7af80ad07\" xlink:show=\"new\" xlink:title=\"psysml:aee293b7-b915-4f4d-bf33-13d7af80ad07\" xlink:type=\"simple\"><rect fill=\"#FFFFFF\" height=\"42.9375\" id=\"E7\" rx=\"10\" ry=\"10\" style=\"stroke: #383838; stroke-width: 1.5;\" width=\"76\" x=\"143\" y=\"175\"/><rect fill=\"#F8F8F8\" height=\"37.9375\" rx=\"10\" ry=\"10\" style=\"stroke: #F8F8F8; stroke-width: 1.5;\" width=\"76\" x=\"143\" y=\"175\"/><rect fill=\"#F8F8F8\" height=\"10\" style=\"stroke: #F8F8F8; stroke-width: 1.5;\" width=\"76\" x=\"143\" y=\"202.9375\"/><rect fill=\"none\" height=\"42.9375\" id=\"E7\" rx=\"10\" ry=\"10\" style=\"stroke: #383838; stroke-width: 1.5;\" width=\"76\" x=\"143\" y=\"175\"/><text fill=\"#000000\" font-family=\"sans-serif\" font-size=\"12\" font-style=\"italic\" lengthAdjust=\"spacingAndGlyphs\" textLength=\"69\" x=\"146.5\" y=\"191.1387\">«attribute»</text><text fill=\"#000000\" font-family=\"sans-serif\" font-size=\"12\" lengthAdjust=\"spacingAndGlyphs\" textLength=\"6\" x=\"178\" y=\"205.1074\">y</text></a></g><g id=\"E1.E8\"><a href=\"psysml:1c42907e-9ca4-4468-bbbb-1ea70701dab3\" target=\"_top\" title=\"psysml:1c42907e-9ca4-4468-bbbb-1ea70701dab3\" xlink:actuate=\"onRequest\" xlink:href=\"psysml:1c42907e-9ca4-4468-bbbb-1ea70701dab3\" xlink:show=\"new\" xlink:title=\"psysml:1c42907e-9ca4-4468-bbbb-1ea70701dab3\" xlink:type=\"simple\"><rect fill=\"#FFFFFF\" height=\"42.9375\" id=\"E8\" rx=\"10\" ry=\"10\" style=\"stroke: #383838; stroke-width: 1.5;\" width=\"76\" x=\"83\" y=\"89\"/><rect fill=\"#F8F8F8\" height=\"37.9375\" rx=\"10\" ry=\"10\" style=\"stroke: #F8F8F8; stroke-width: 1.5;\" width=\"76\" x=\"83\" y=\"89\"/><rect fill=\"#F8F8F8\" height=\"10\" style=\"stroke: #F8F8F8; stroke-width: 1.5;\" width=\"76\" x=\"83\" y=\"116.9375\"/><rect fill=\"none\" height=\"42.9375\" id=\"E8\" rx=\"10\" ry=\"10\" style=\"stroke: #383838; stroke-width: 1.5;\" width=\"76\" x=\"83\" y=\"89\"/><text fill=\"#000000\" font-family=\"sans-serif\" font-size=\"12\" font-style=\"italic\" lengthAdjust=\"spacingAndGlyphs\" textLength=\"69\" x=\"86.5\" y=\"105.1387\">«attribute»</text><text fill=\"#000000\" font-family=\"sans-serif\" font-size=\"12\" lengthAdjust=\"spacingAndGlyphs\" textLength=\"5\" x=\"118.5\" y=\"119.1074\">z</text></a></g><!--MD5=[af87c684e3b0d8be13c1a698a818ef1e]\n",
       "link E3 to E4--><a href=\"psysml:4c7b915e-320e-40c7-9399-584f1f84a9d7\" target=\"_top\" title=\"psysml:4c7b915e-320e-40c7-9399-584f1f84a9d7\" xlink:actuate=\"onRequest\" xlink:href=\"psysml:4c7b915e-320e-40c7-9399-584f1f84a9d7\" xlink:show=\"new\" xlink:title=\"psysml:4c7b915e-320e-40c7-9399-584f1f84a9d7\" xlink:type=\"simple\"><path d=\"M349,137.24 C349,137.24 349,161.78 349,161.78 \" fill=\"none\" id=\"E3-&gt;E4\" style=\"stroke: #383838; stroke-width: 1.0; stroke-dasharray: 7.0,7.0;\"/><polygon fill=\"#383838\" points=\"349,169.78,352,161.78,346,161.78,349,169.78\" style=\"stroke: #383838; stroke-width: 1.0;\"/><text fill=\"#000000\" font-family=\"sans-serif\" font-size=\"13\" lengthAdjust=\"spacingAndGlyphs\" textLength=\"64\" x=\"350\" y=\"158.0669\">«depend»</text></a><!--MD5=[1b7591eae5389033d8d09a9d6721a717]\n",
       "link E4 to E5--><a href=\"psysml:9be59ee3-60f5-4004-bc3e-00c0f7693956\" target=\"_top\" title=\"psysml:9be59ee3-60f5-4004-bc3e-00c0f7693956\" xlink:actuate=\"onRequest\" xlink:href=\"psysml:9be59ee3-60f5-4004-bc3e-00c0f7693956\" xlink:show=\"new\" xlink:title=\"psysml:9be59ee3-60f5-4004-bc3e-00c0f7693956\" xlink:type=\"simple\"><path d=\"M349,223.24 C349,223.24 349,247.78 349,247.78 \" fill=\"none\" id=\"E4-&gt;E5\" style=\"stroke: #383838; stroke-width: 1.0; stroke-dasharray: 7.0,7.0;\"/><polygon fill=\"#383838\" points=\"349,255.78,352,247.78,346,247.78,349,255.78\" style=\"stroke: #383838; stroke-width: 1.0;\"/><text fill=\"#000000\" font-family=\"sans-serif\" font-size=\"13\" lengthAdjust=\"spacingAndGlyphs\" textLength=\"64\" x=\"350\" y=\"244.0669\">«depend»</text></a><!--MD5=[c5e8897d989ce984f93528998a7150fe]\n",
       "link E8 to E6--><a href=\"psysml:80784242-98cb-449c-a51f-f2c7c1061d87\" target=\"_top\" title=\"psysml:80784242-98cb-449c-a51f-f2c7c1061d87\" xlink:actuate=\"onRequest\" xlink:href=\"psysml:80784242-98cb-449c-a51f-f2c7c1061d87\" xlink:show=\"new\" xlink:title=\"psysml:80784242-98cb-449c-a51f-f2c7c1061d87\" xlink:type=\"simple\"><path d=\"M95.5,132.2 C95.5,132.2 95.5,166.81 95.5,166.81 \" fill=\"none\" id=\"E8-&gt;E6\" style=\"stroke: #383838; stroke-width: 1.0; stroke-dasharray: 7.0,7.0;\"/><polygon fill=\"#383838\" points=\"95.5,174.81,98.5,166.81,92.5,166.81,95.5,174.81\" style=\"stroke: #383838; stroke-width: 1.0;\"/><text fill=\"#000000\" font-family=\"sans-serif\" font-size=\"13\" lengthAdjust=\"spacingAndGlyphs\" textLength=\"64\" x=\"68\" y=\"158.0669\">«depend»</text></a><!--MD5=[bfa3c8b0d15052fdf50ae9310b491027]\n",
       "link E8 to E7--><a href=\"psysml:80784242-98cb-449c-a51f-f2c7c1061d87\" target=\"_top\" title=\"psysml:80784242-98cb-449c-a51f-f2c7c1061d87\" xlink:actuate=\"onRequest\" xlink:href=\"psysml:80784242-98cb-449c-a51f-f2c7c1061d87\" xlink:show=\"new\" xlink:title=\"psysml:80784242-98cb-449c-a51f-f2c7c1061d87\" xlink:type=\"simple\"><path d=\"M151,132.2 C151,132.2 151,166.81 151,166.81 \" fill=\"none\" id=\"E8-&gt;E7\" style=\"stroke: #383838; stroke-width: 1.0; stroke-dasharray: 7.0,7.0;\"/><polygon fill=\"#383838\" points=\"151,174.81,154,166.81,148,166.81,151,174.81\" style=\"stroke: #383838; stroke-width: 1.0;\"/><text fill=\"#000000\" font-family=\"sans-serif\" font-size=\"13\" lengthAdjust=\"spacingAndGlyphs\" textLength=\"64\" x=\"174\" y=\"158.0669\">«depend»</text></a><!--MD5=[b7ec0fffd28d971ab0403327128d7848]\n",
       "@startuml\r\n",
       "skinparam ranksep 8\r\n",
       "skinparam rectangle {\r\n",
       " backgroundColor<<block>> LightGreen\r\n",
       "}\r\n",
       "skinparam linetype ortho\r\n",
       "skinparam monochrome true\r\n",
       "skinparam classbackgroundcolor white\r\n",
       "skinparam shadowing false\r\n",
       "skinparam wrapWidth 300\r\n",
       "hide circle\r\n",
       "\r\n",
       "package \"DependencyTest\" as E1  [[psysml:438e34af-3ce5-4e99-acf4-d3ecd205ea23 ]]  {\r\n",
       "package \"System\" as E2  [[psysml:33a226aa-95cf-4670-96e1-1bd6e94f796f ]]  {\r\n",
       "package \"Application Layer\" as E3  [[psysml:add81eb6-248c-4298-8987-63cd174f8097 ]]  {\r\n",
       "}\r\n",
       "package \"Service Layer\" as E4  [[psysml:95ba016d-ba70-4f40-a2b0-65410d9cce5b ]]  {\r\n",
       "}\r\n",
       "package \"Data Layer\" as E5  [[psysml:ae80162e-06ca-4b24-a1f3-10c5d346ebc4 ]]  {\r\n",
       "}\r\n",
       "}\r\n",
       "rec usage \"x\" as E6  <<(T,blue)attribute>> [[psysml:747ec202-6e4c-456d-855d-21470db0b7f2 ]] {\r\n",
       "}\r\n",
       "rec usage \"y\" as E7  <<(T,blue)attribute>> [[psysml:aee293b7-b915-4f4d-bf33-13d7af80ad07 ]] {\r\n",
       "}\r\n",
       "rec usage \"z\" as E8  <<(T,blue)attribute>> [[psysml:1c42907e-9ca4-4468-bbbb-1ea70701dab3 ]] {\r\n",
       "}\r\n",
       "E3 ..>> E4 [[psysml:4c7b915e-320e-40c7-9399-584f1f84a9d7 ]] : <<depend>>\r\n",
       "E4 ..>> E5 [[psysml:9be59ee3-60f5-4004-bc3e-00c0f7693956 ]] : <<depend>>\r\n",
       "E8 ..>> E6 [[psysml:80784242-98cb-449c-a51f-f2c7c1061d87 ]] : <<depend>>\r\n",
       "E8 ..>> E7 [[psysml:80784242-98cb-449c-a51f-f2c7c1061d87 ]] : <<depend>>\r\n",
       "}\r\n",
       "@enduml\r\n",
       "\n",
       "PlantUML version 1.2020.13(Sat Jun 13 12:26:38 UTC 2020)\n",
       "(EPL source distribution)\n",
       "Java Runtime: OpenJDK Runtime Environment\n",
       "JVM: OpenJDK 64-Bit Server VM\n",
       "Default Encoding: UTF-8\n",
       "Language: en\n",
       "Country: null\n",
       "--></g></svg>"
      ]
     },
     "execution_count": 54,
     "metadata": {},
     "output_type": "execute_result"
    }
   ],
   "source": [
    "%viz --style=\"ORTHOLINE\" --view=\"Interconnection\" \"DependencyTest\""
   ]
  },
  {
   "cell_type": "code",
   "execution_count": 55,
   "id": "polish-boating",
   "metadata": {
    "execution": {
     "iopub.execute_input": "2021-03-25T13:26:21.617758Z",
     "iopub.status.busy": "2021-03-25T13:26:21.617074Z",
     "iopub.status.idle": "2021-03-25T13:26:21.626138Z",
     "shell.execute_reply": "2021-03-25T13:26:21.625596Z"
    }
   },
   "outputs": [
    {
     "data": {
      "image/svg+xml": [
       "<?xml version=\"1.0\" encoding=\"UTF-8\" standalone=\"no\"?><svg xmlns=\"http://www.w3.org/2000/svg\" xmlns:xlink=\"http://www.w3.org/1999/xlink\" contentScriptType=\"application/ecmascript\" contentStyleType=\"text/css\" height=\"12px\" preserveAspectRatio=\"none\" style=\"width:12px;height:12px;\" version=\"1.1\" viewBox=\"0 0 12 12\" width=\"12px\" zoomAndPan=\"magnify\"><defs/><g><!--MD5=[72934c63077099a26744516a776b4749]\n",
       "@startuml\r\n",
       "skinparam ranksep 8\r\n",
       "skinparam linetype ortho\r\n",
       "skinparam monochrome true\r\n",
       "skinparam classbackgroundcolor white\r\n",
       "skinparam shadowing false\r\n",
       "skinparam wrapWidth 300\r\n",
       "hide circle\r\n",
       "\r\n",
       "@enduml\r\n",
       "\n",
       "PlantUML version 1.2020.13(Sat Jun 13 12:26:38 UTC 2020)\n",
       "(EPL source distribution)\n",
       "Java Runtime: OpenJDK Runtime Environment\n",
       "JVM: OpenJDK 64-Bit Server VM\n",
       "Default Encoding: UTF-8\n",
       "Language: en\n",
       "Country: null\n",
       "--></g></svg>"
      ]
     },
     "execution_count": 55,
     "metadata": {},
     "output_type": "execute_result"
    }
   ],
   "source": [
    "%viz --style=\"ORTHOLINE\" --view=\"Action\" \"DependencyTest\""
   ]
  },
  {
   "cell_type": "code",
   "execution_count": 56,
   "id": "ancient-monroe",
   "metadata": {
    "execution": {
     "iopub.execute_input": "2021-03-25T13:26:21.677288Z",
     "iopub.status.busy": "2021-03-25T13:26:21.676578Z",
     "iopub.status.idle": "2021-03-25T13:26:21.770183Z",
     "shell.execute_reply": "2021-03-25T13:26:21.768601Z"
    }
   },
   "outputs": [
    {
     "data": {
      "image/svg+xml": [
       "<?xml version=\"1.0\" encoding=\"UTF-8\" standalone=\"no\"?><svg xmlns=\"http://www.w3.org/2000/svg\" xmlns:xlink=\"http://www.w3.org/1999/xlink\" contentScriptType=\"application/ecmascript\" contentStyleType=\"text/css\" height=\"449px\" preserveAspectRatio=\"none\" style=\"width:489px;height:449px;\" version=\"1.1\" viewBox=\"0 0 489 449\" width=\"489px\" zoomAndPan=\"magnify\"><defs/><g><!--MD5=[fbc87193dbaf4d95561dea2c320d4a47]\n",
       "cluster E1--><a href=\"psysml:438e34af-3ce5-4e99-acf4-d3ecd205ea23\" target=\"_top\" title=\"psysml:438e34af-3ce5-4e99-acf4-d3ecd205ea23\" xlink:actuate=\"onRequest\" xlink:href=\"psysml:438e34af-3ce5-4e99-acf4-d3ecd205ea23\" xlink:show=\"new\" xlink:title=\"psysml:438e34af-3ce5-4e99-acf4-d3ecd205ea23\" xlink:type=\"simple\"><polygon fill=\"#FFFFFF\" points=\"16,6,156,6,163,28.2969,467,28.2969,467,437,16,437,16,6\" style=\"stroke: #000000; stroke-width: 1.5;\"/><line style=\"stroke: #000000; stroke-width: 1.5;\" x1=\"16\" x2=\"163\" y1=\"28.2969\" y2=\"28.2969\"/><text fill=\"#000000\" font-family=\"sans-serif\" font-size=\"14\" font-weight=\"bold\" lengthAdjust=\"spacingAndGlyphs\" textLength=\"134\" x=\"20\" y=\"20.9951\">DependencyTest</text></a><!--MD5=[e4f7fae6ed58524ba242bb0b0d3be6b7]\n",
       "cluster E2--><a href=\"psysml:33a226aa-95cf-4670-96e1-1bd6e94f796f\" target=\"_top\" title=\"psysml:33a226aa-95cf-4670-96e1-1bd6e94f796f\" xlink:actuate=\"onRequest\" xlink:href=\"psysml:33a226aa-95cf-4670-96e1-1bd6e94f796f\" xlink:show=\"new\" xlink:title=\"psysml:33a226aa-95cf-4670-96e1-1bd6e94f796f\" xlink:type=\"simple\"><polygon fill=\"#FFFFFF\" points=\"255,49,319,49,326,71.2969,443,71.2969,443,413,255,413,255,49\" style=\"stroke: #000000; stroke-width: 1.5;\"/><line style=\"stroke: #000000; stroke-width: 1.5;\" x1=\"255\" x2=\"326\" y1=\"71.2969\" y2=\"71.2969\"/><text fill=\"#000000\" font-family=\"sans-serif\" font-size=\"14\" font-weight=\"bold\" lengthAdjust=\"spacingAndGlyphs\" textLength=\"58\" x=\"259\" y=\"63.9951\">System</text></a><!--MD5=[60a26617385b1d2d0262a64233df1f8d]\n",
       "class E6--><a href=\"psysml:747ec202-6e4c-456d-855d-21470db0b7f2\" target=\"_top\" title=\"psysml:747ec202-6e4c-456d-855d-21470db0b7f2\" xlink:actuate=\"onRequest\" xlink:href=\"psysml:747ec202-6e4c-456d-855d-21470db0b7f2\" xlink:show=\"new\" xlink:title=\"psysml:747ec202-6e4c-456d-855d-21470db0b7f2\" xlink:type=\"simple\"><rect fill=\"#FFFFFF\" height=\"45.9375\" id=\"E6\" rx=\"10\" ry=\"10\" style=\"stroke: #383838; stroke-width: 1.5;\" width=\"71\" x=\"32.5\" y=\"217.5\"/><text fill=\"#000000\" font-family=\"sans-serif\" font-size=\"12\" font-style=\"italic\" lengthAdjust=\"spacingAndGlyphs\" textLength=\"69\" x=\"33.5\" y=\"233.6387\">«attribute»</text><text fill=\"#000000\" font-family=\"sans-serif\" font-size=\"12\" lengthAdjust=\"spacingAndGlyphs\" textLength=\"6\" x=\"65\" y=\"247.6074\">x</text><line style=\"stroke: #383838; stroke-width: 1.5;\" x1=\"33.5\" x2=\"102.5\" y1=\"255.4375\" y2=\"255.4375\"/></a><!--MD5=[2156ba9850f5573cc1fc38a6a4b2f02b]\n",
       "class E7--><a href=\"psysml:aee293b7-b915-4f4d-bf33-13d7af80ad07\" target=\"_top\" title=\"psysml:aee293b7-b915-4f4d-bf33-13d7af80ad07\" xlink:actuate=\"onRequest\" xlink:href=\"psysml:aee293b7-b915-4f4d-bf33-13d7af80ad07\" xlink:show=\"new\" xlink:title=\"psysml:aee293b7-b915-4f4d-bf33-13d7af80ad07\" xlink:type=\"simple\"><rect fill=\"#FFFFFF\" height=\"45.9375\" id=\"E7\" rx=\"10\" ry=\"10\" style=\"stroke: #383838; stroke-width: 1.5;\" width=\"71\" x=\"138.5\" y=\"217.5\"/><text fill=\"#000000\" font-family=\"sans-serif\" font-size=\"12\" font-style=\"italic\" lengthAdjust=\"spacingAndGlyphs\" textLength=\"69\" x=\"139.5\" y=\"233.6387\">«attribute»</text><text fill=\"#000000\" font-family=\"sans-serif\" font-size=\"12\" lengthAdjust=\"spacingAndGlyphs\" textLength=\"6\" x=\"171\" y=\"247.6074\">y</text><line style=\"stroke: #383838; stroke-width: 1.5;\" x1=\"139.5\" x2=\"208.5\" y1=\"255.4375\" y2=\"255.4375\"/></a><!--MD5=[b9389687b975829384b498ac4b7476b2]\n",
       "class E8--><a href=\"psysml:1c42907e-9ca4-4468-bbbb-1ea70701dab3\" target=\"_top\" title=\"psysml:1c42907e-9ca4-4468-bbbb-1ea70701dab3\" xlink:actuate=\"onRequest\" xlink:href=\"psysml:1c42907e-9ca4-4468-bbbb-1ea70701dab3\" xlink:show=\"new\" xlink:title=\"psysml:1c42907e-9ca4-4468-bbbb-1ea70701dab3\" xlink:type=\"simple\"><rect fill=\"#FFFFFF\" height=\"45.9375\" id=\"E8\" rx=\"10\" ry=\"10\" style=\"stroke: #383838; stroke-width: 1.5;\" width=\"71\" x=\"84.5\" y=\"87.5\"/><text fill=\"#000000\" font-family=\"sans-serif\" font-size=\"12\" font-style=\"italic\" lengthAdjust=\"spacingAndGlyphs\" textLength=\"69\" x=\"85.5\" y=\"103.6387\">«attribute»</text><text fill=\"#000000\" font-family=\"sans-serif\" font-size=\"12\" lengthAdjust=\"spacingAndGlyphs\" textLength=\"5\" x=\"117.5\" y=\"117.6074\">z</text><line style=\"stroke: #383838; stroke-width: 1.5;\" x1=\"85.5\" x2=\"154.5\" y1=\"125.4375\" y2=\"125.4375\"/></a><a href=\"psysml:add81eb6-248c-4298-8987-63cd174f8097\" target=\"_top\" title=\"psysml:add81eb6-248c-4298-8987-63cd174f8097\" xlink:actuate=\"onRequest\" xlink:href=\"psysml:add81eb6-248c-4298-8987-63cd174f8097\" xlink:show=\"new\" xlink:title=\"psysml:add81eb6-248c-4298-8987-63cd174f8097\" xlink:type=\"simple\"><polygon fill=\"#FFFFFF\" points=\"271,84,413,84,420,106.2969,427,106.2969,427,136.5938,271,136.5938,271,84\" style=\"stroke: #000000; stroke-width: 1.5;\"/><line style=\"stroke: #000000; stroke-width: 1.5;\" x1=\"271\" x2=\"420\" y1=\"106.2969\" y2=\"106.2969\"/><text fill=\"#000000\" font-family=\"sans-serif\" font-size=\"14\" font-weight=\"bold\" lengthAdjust=\"spacingAndGlyphs\" textLength=\"136\" x=\"275\" y=\"98.9951\">Application Layer</text></a><a href=\"psysml:95ba016d-ba70-4f40-a2b0-65410d9cce5b\" target=\"_top\" title=\"psysml:95ba016d-ba70-4f40-a2b0-65410d9cce5b\" xlink:actuate=\"onRequest\" xlink:href=\"psysml:95ba016d-ba70-4f40-a2b0-65410d9cce5b\" xlink:show=\"new\" xlink:title=\"psysml:95ba016d-ba70-4f40-a2b0-65410d9cce5b\" xlink:type=\"simple\"><polygon fill=\"#FFFFFF\" points=\"285,214,399,214,406,236.2969,413,236.2969,413,266.5938,285,266.5938,285,214\" style=\"stroke: #000000; stroke-width: 1.5;\"/><line style=\"stroke: #000000; stroke-width: 1.5;\" x1=\"285\" x2=\"406\" y1=\"236.2969\" y2=\"236.2969\"/><text fill=\"#000000\" font-family=\"sans-serif\" font-size=\"14\" font-weight=\"bold\" lengthAdjust=\"spacingAndGlyphs\" textLength=\"108\" x=\"289\" y=\"228.9951\">Service Layer</text></a><a href=\"psysml:ae80162e-06ca-4b24-a1f3-10c5d346ebc4\" target=\"_top\" title=\"psysml:ae80162e-06ca-4b24-a1f3-10c5d346ebc4\" xlink:actuate=\"onRequest\" xlink:href=\"psysml:ae80162e-06ca-4b24-a1f3-10c5d346ebc4\" xlink:show=\"new\" xlink:title=\"psysml:ae80162e-06ca-4b24-a1f3-10c5d346ebc4\" xlink:type=\"simple\"><polygon fill=\"#FFFFFF\" points=\"297,344,387,344,394,366.2969,401,366.2969,401,396.5938,297,396.5938,297,344\" style=\"stroke: #000000; stroke-width: 1.5;\"/><line style=\"stroke: #000000; stroke-width: 1.5;\" x1=\"297\" x2=\"394\" y1=\"366.2969\" y2=\"366.2969\"/><text fill=\"#000000\" font-family=\"sans-serif\" font-size=\"14\" font-weight=\"bold\" lengthAdjust=\"spacingAndGlyphs\" textLength=\"84\" x=\"301\" y=\"358.9951\">Data Layer</text></a><!--MD5=[af87c684e3b0d8be13c1a698a818ef1e]\n",
       "link E3 to E4--><a href=\"psysml:4c7b915e-320e-40c7-9399-584f1f84a9d7\" target=\"_top\" title=\"psysml:4c7b915e-320e-40c7-9399-584f1f84a9d7\" xlink:actuate=\"onRequest\" xlink:href=\"psysml:4c7b915e-320e-40c7-9399-584f1f84a9d7\" xlink:show=\"new\" xlink:title=\"psysml:4c7b915e-320e-40c7-9399-584f1f84a9d7\" xlink:type=\"simple\"><path d=\"M349,137.12 C349,137.12 349,205.91 349,205.91 \" fill=\"none\" id=\"E3-&gt;E4\" style=\"stroke: #383838; stroke-width: 1.0; stroke-dasharray: 7.0,7.0;\"/><polygon fill=\"#383838\" points=\"349,213.91,352,205.91,346,205.91,349,213.91\" style=\"stroke: #383838; stroke-width: 1.0;\"/><text fill=\"#000000\" font-family=\"sans-serif\" font-size=\"13\" lengthAdjust=\"spacingAndGlyphs\" textLength=\"64\" x=\"350\" y=\"180.0669\">«depend»</text></a><!--MD5=[1b7591eae5389033d8d09a9d6721a717]\n",
       "link E4 to E5--><a href=\"psysml:9be59ee3-60f5-4004-bc3e-00c0f7693956\" target=\"_top\" title=\"psysml:9be59ee3-60f5-4004-bc3e-00c0f7693956\" xlink:actuate=\"onRequest\" xlink:href=\"psysml:9be59ee3-60f5-4004-bc3e-00c0f7693956\" xlink:show=\"new\" xlink:title=\"psysml:9be59ee3-60f5-4004-bc3e-00c0f7693956\" xlink:type=\"simple\"><path d=\"M349,267.12 C349,267.12 349,335.91 349,335.91 \" fill=\"none\" id=\"E4-&gt;E5\" style=\"stroke: #383838; stroke-width: 1.0; stroke-dasharray: 7.0,7.0;\"/><polygon fill=\"#383838\" points=\"349,343.91,352,335.91,346,335.91,349,343.91\" style=\"stroke: #383838; stroke-width: 1.0;\"/><text fill=\"#000000\" font-family=\"sans-serif\" font-size=\"13\" lengthAdjust=\"spacingAndGlyphs\" textLength=\"64\" x=\"350\" y=\"310.0669\">«depend»</text></a><!--MD5=[c5e8897d989ce984f93528998a7150fe]\n",
       "link E8 to E6--><a href=\"psysml:80784242-98cb-449c-a51f-f2c7c1061d87\" target=\"_top\" title=\"psysml:80784242-98cb-449c-a51f-f2c7c1061d87\" xlink:actuate=\"onRequest\" xlink:href=\"psysml:80784242-98cb-449c-a51f-f2c7c1061d87\" xlink:show=\"new\" xlink:title=\"psysml:80784242-98cb-449c-a51f-f2c7c1061d87\" xlink:type=\"simple\"><path d=\"M94,133.74 C94,133.74 94,209.46 94,209.46 \" fill=\"none\" id=\"E8-&gt;E6\" style=\"stroke: #383838; stroke-width: 1.0; stroke-dasharray: 7.0,7.0;\"/><polygon fill=\"#383838\" points=\"94,217.46,97,209.46,91,209.46,94,217.46\" style=\"stroke: #383838; stroke-width: 1.0;\"/><text fill=\"#000000\" font-family=\"sans-serif\" font-size=\"13\" lengthAdjust=\"spacingAndGlyphs\" textLength=\"64\" x=\"68\" y=\"180.0669\">«depend»</text></a><!--MD5=[bfa3c8b0d15052fdf50ae9310b491027]\n",
       "link E8 to E7--><a href=\"psysml:80784242-98cb-449c-a51f-f2c7c1061d87\" target=\"_top\" title=\"psysml:80784242-98cb-449c-a51f-f2c7c1061d87\" xlink:actuate=\"onRequest\" xlink:href=\"psysml:80784242-98cb-449c-a51f-f2c7c1061d87\" xlink:show=\"new\" xlink:title=\"psysml:80784242-98cb-449c-a51f-f2c7c1061d87\" xlink:type=\"simple\"><path d=\"M147,133.74 C147,133.74 147,209.46 147,209.46 \" fill=\"none\" id=\"E8-&gt;E7\" style=\"stroke: #383838; stroke-width: 1.0; stroke-dasharray: 7.0,7.0;\"/><polygon fill=\"#383838\" points=\"147,217.46,150,209.46,144,209.46,147,217.46\" style=\"stroke: #383838; stroke-width: 1.0;\"/><text fill=\"#000000\" font-family=\"sans-serif\" font-size=\"13\" lengthAdjust=\"spacingAndGlyphs\" textLength=\"64\" x=\"174\" y=\"180.0669\">«depend»</text></a><!--MD5=[19ab6bff16258473884bfb29d3427912]\n",
       "@startuml\r\n",
       "skinparam linetype ortho\r\n",
       "skinparam monochrome true\r\n",
       "skinparam classbackgroundcolor white\r\n",
       "skinparam shadowing false\r\n",
       "skinparam wrapWidth 300\r\n",
       "hide circle\r\n",
       "\r\n",
       "package \"DependencyTest\" as E1  [[psysml:438e34af-3ce5-4e99-acf4-d3ecd205ea23 ]]  {\r\n",
       "package \"System\" as E2  [[psysml:33a226aa-95cf-4670-96e1-1bd6e94f796f ]]  {\r\n",
       "package \"Application Layer\" as E3  [[psysml:add81eb6-248c-4298-8987-63cd174f8097 ]]  {\r\n",
       "}\r\n",
       "package \"Service Layer\" as E4  [[psysml:95ba016d-ba70-4f40-a2b0-65410d9cce5b ]]  {\r\n",
       "}\r\n",
       "package \"Data Layer\" as E5  [[psysml:ae80162e-06ca-4b24-a1f3-10c5d346ebc4 ]]  {\r\n",
       "}\r\n",
       "}\r\n",
       "comp usage \"x\" as E6  <<(T,blue)attribute>> [[psysml:747ec202-6e4c-456d-855d-21470db0b7f2 ]] {\r\n",
       "}\r\n",
       "comp usage \"y\" as E7  <<(T,blue)attribute>> [[psysml:aee293b7-b915-4f4d-bf33-13d7af80ad07 ]] {\r\n",
       "}\r\n",
       "comp usage \"z\" as E8  <<(T,blue)attribute>> [[psysml:1c42907e-9ca4-4468-bbbb-1ea70701dab3 ]] {\r\n",
       "}\r\n",
       "E3 ..>> E4 [[psysml:4c7b915e-320e-40c7-9399-584f1f84a9d7 ]] : <<depend>>\r\n",
       "E4 ..>> E5 [[psysml:9be59ee3-60f5-4004-bc3e-00c0f7693956 ]] : <<depend>>\r\n",
       "E8 ..>> E6 [[psysml:80784242-98cb-449c-a51f-f2c7c1061d87 ]] : <<depend>>\r\n",
       "E8 ..>> E7 [[psysml:80784242-98cb-449c-a51f-f2c7c1061d87 ]] : <<depend>>\r\n",
       "}\r\n",
       "@enduml\r\n",
       "\n",
       "PlantUML version 1.2020.13(Sat Jun 13 12:26:38 UTC 2020)\n",
       "(EPL source distribution)\n",
       "Java Runtime: OpenJDK Runtime Environment\n",
       "JVM: OpenJDK 64-Bit Server VM\n",
       "Default Encoding: UTF-8\n",
       "Language: en\n",
       "Country: null\n",
       "--></g></svg>"
      ]
     },
     "execution_count": 56,
     "metadata": {},
     "output_type": "execute_result"
    }
   ],
   "source": [
    "%viz --style=\"ORTHOLINE\" --view=\"Sequence\" \"DependencyTest\""
   ]
  },
  {
   "cell_type": "code",
   "execution_count": 57,
   "id": "sudden-aaron",
   "metadata": {
    "execution": {
     "iopub.execute_input": "2021-03-25T13:26:21.820287Z",
     "iopub.status.busy": "2021-03-25T13:26:21.819839Z",
     "iopub.status.idle": "2021-03-25T13:26:21.910348Z",
     "shell.execute_reply": "2021-03-25T13:26:21.908892Z"
    }
   },
   "outputs": [
    {
     "data": {
      "image/svg+xml": [
       "<?xml version=\"1.0\" encoding=\"UTF-8\" standalone=\"no\"?><svg xmlns=\"http://www.w3.org/2000/svg\" xmlns:xlink=\"http://www.w3.org/1999/xlink\" contentScriptType=\"application/ecmascript\" contentStyleType=\"text/css\" height=\"449px\" preserveAspectRatio=\"none\" style=\"width:489px;height:449px;\" version=\"1.1\" viewBox=\"0 0 489 449\" width=\"489px\" zoomAndPan=\"magnify\"><defs/><g><!--MD5=[fbc87193dbaf4d95561dea2c320d4a47]\n",
       "cluster E1--><a href=\"psysml:438e34af-3ce5-4e99-acf4-d3ecd205ea23\" target=\"_top\" title=\"psysml:438e34af-3ce5-4e99-acf4-d3ecd205ea23\" xlink:actuate=\"onRequest\" xlink:href=\"psysml:438e34af-3ce5-4e99-acf4-d3ecd205ea23\" xlink:show=\"new\" xlink:title=\"psysml:438e34af-3ce5-4e99-acf4-d3ecd205ea23\" xlink:type=\"simple\"><polygon fill=\"#FFFFFF\" points=\"16,6,156,6,163,28.2969,467,28.2969,467,437,16,437,16,6\" style=\"stroke: #000000; stroke-width: 1.5;\"/><line style=\"stroke: #000000; stroke-width: 1.5;\" x1=\"16\" x2=\"163\" y1=\"28.2969\" y2=\"28.2969\"/><text fill=\"#000000\" font-family=\"sans-serif\" font-size=\"14\" font-weight=\"bold\" lengthAdjust=\"spacingAndGlyphs\" textLength=\"134\" x=\"20\" y=\"20.9951\">DependencyTest</text></a><!--MD5=[e4f7fae6ed58524ba242bb0b0d3be6b7]\n",
       "cluster E2--><a href=\"psysml:33a226aa-95cf-4670-96e1-1bd6e94f796f\" target=\"_top\" title=\"psysml:33a226aa-95cf-4670-96e1-1bd6e94f796f\" xlink:actuate=\"onRequest\" xlink:href=\"psysml:33a226aa-95cf-4670-96e1-1bd6e94f796f\" xlink:show=\"new\" xlink:title=\"psysml:33a226aa-95cf-4670-96e1-1bd6e94f796f\" xlink:type=\"simple\"><polygon fill=\"#FFFFFF\" points=\"255,49,319,49,326,71.2969,443,71.2969,443,413,255,413,255,49\" style=\"stroke: #000000; stroke-width: 1.5;\"/><line style=\"stroke: #000000; stroke-width: 1.5;\" x1=\"255\" x2=\"326\" y1=\"71.2969\" y2=\"71.2969\"/><text fill=\"#000000\" font-family=\"sans-serif\" font-size=\"14\" font-weight=\"bold\" lengthAdjust=\"spacingAndGlyphs\" textLength=\"58\" x=\"259\" y=\"63.9951\">System</text></a><!--MD5=[60a26617385b1d2d0262a64233df1f8d]\n",
       "class E6--><a href=\"psysml:747ec202-6e4c-456d-855d-21470db0b7f2\" target=\"_top\" title=\"psysml:747ec202-6e4c-456d-855d-21470db0b7f2\" xlink:actuate=\"onRequest\" xlink:href=\"psysml:747ec202-6e4c-456d-855d-21470db0b7f2\" xlink:show=\"new\" xlink:title=\"psysml:747ec202-6e4c-456d-855d-21470db0b7f2\" xlink:type=\"simple\"><rect fill=\"#FFFFFF\" height=\"45.9375\" id=\"E6\" rx=\"10\" ry=\"10\" style=\"stroke: #383838; stroke-width: 1.5;\" width=\"71\" x=\"32.5\" y=\"217.5\"/><text fill=\"#000000\" font-family=\"sans-serif\" font-size=\"12\" font-style=\"italic\" lengthAdjust=\"spacingAndGlyphs\" textLength=\"69\" x=\"33.5\" y=\"233.6387\">«attribute»</text><text fill=\"#000000\" font-family=\"sans-serif\" font-size=\"12\" lengthAdjust=\"spacingAndGlyphs\" textLength=\"6\" x=\"65\" y=\"247.6074\">x</text><line style=\"stroke: #383838; stroke-width: 1.5;\" x1=\"33.5\" x2=\"102.5\" y1=\"255.4375\" y2=\"255.4375\"/></a><!--MD5=[2156ba9850f5573cc1fc38a6a4b2f02b]\n",
       "class E7--><a href=\"psysml:aee293b7-b915-4f4d-bf33-13d7af80ad07\" target=\"_top\" title=\"psysml:aee293b7-b915-4f4d-bf33-13d7af80ad07\" xlink:actuate=\"onRequest\" xlink:href=\"psysml:aee293b7-b915-4f4d-bf33-13d7af80ad07\" xlink:show=\"new\" xlink:title=\"psysml:aee293b7-b915-4f4d-bf33-13d7af80ad07\" xlink:type=\"simple\"><rect fill=\"#FFFFFF\" height=\"45.9375\" id=\"E7\" rx=\"10\" ry=\"10\" style=\"stroke: #383838; stroke-width: 1.5;\" width=\"71\" x=\"138.5\" y=\"217.5\"/><text fill=\"#000000\" font-family=\"sans-serif\" font-size=\"12\" font-style=\"italic\" lengthAdjust=\"spacingAndGlyphs\" textLength=\"69\" x=\"139.5\" y=\"233.6387\">«attribute»</text><text fill=\"#000000\" font-family=\"sans-serif\" font-size=\"12\" lengthAdjust=\"spacingAndGlyphs\" textLength=\"6\" x=\"171\" y=\"247.6074\">y</text><line style=\"stroke: #383838; stroke-width: 1.5;\" x1=\"139.5\" x2=\"208.5\" y1=\"255.4375\" y2=\"255.4375\"/></a><!--MD5=[b9389687b975829384b498ac4b7476b2]\n",
       "class E8--><a href=\"psysml:1c42907e-9ca4-4468-bbbb-1ea70701dab3\" target=\"_top\" title=\"psysml:1c42907e-9ca4-4468-bbbb-1ea70701dab3\" xlink:actuate=\"onRequest\" xlink:href=\"psysml:1c42907e-9ca4-4468-bbbb-1ea70701dab3\" xlink:show=\"new\" xlink:title=\"psysml:1c42907e-9ca4-4468-bbbb-1ea70701dab3\" xlink:type=\"simple\"><rect fill=\"#FFFFFF\" height=\"45.9375\" id=\"E8\" rx=\"10\" ry=\"10\" style=\"stroke: #383838; stroke-width: 1.5;\" width=\"71\" x=\"84.5\" y=\"87.5\"/><text fill=\"#000000\" font-family=\"sans-serif\" font-size=\"12\" font-style=\"italic\" lengthAdjust=\"spacingAndGlyphs\" textLength=\"69\" x=\"85.5\" y=\"103.6387\">«attribute»</text><text fill=\"#000000\" font-family=\"sans-serif\" font-size=\"12\" lengthAdjust=\"spacingAndGlyphs\" textLength=\"5\" x=\"117.5\" y=\"117.6074\">z</text><line style=\"stroke: #383838; stroke-width: 1.5;\" x1=\"85.5\" x2=\"154.5\" y1=\"125.4375\" y2=\"125.4375\"/></a><a href=\"psysml:add81eb6-248c-4298-8987-63cd174f8097\" target=\"_top\" title=\"psysml:add81eb6-248c-4298-8987-63cd174f8097\" xlink:actuate=\"onRequest\" xlink:href=\"psysml:add81eb6-248c-4298-8987-63cd174f8097\" xlink:show=\"new\" xlink:title=\"psysml:add81eb6-248c-4298-8987-63cd174f8097\" xlink:type=\"simple\"><polygon fill=\"#FFFFFF\" points=\"271,84,413,84,420,106.2969,427,106.2969,427,136.5938,271,136.5938,271,84\" style=\"stroke: #000000; stroke-width: 1.5;\"/><line style=\"stroke: #000000; stroke-width: 1.5;\" x1=\"271\" x2=\"420\" y1=\"106.2969\" y2=\"106.2969\"/><text fill=\"#000000\" font-family=\"sans-serif\" font-size=\"14\" font-weight=\"bold\" lengthAdjust=\"spacingAndGlyphs\" textLength=\"136\" x=\"275\" y=\"98.9951\">Application Layer</text></a><a href=\"psysml:95ba016d-ba70-4f40-a2b0-65410d9cce5b\" target=\"_top\" title=\"psysml:95ba016d-ba70-4f40-a2b0-65410d9cce5b\" xlink:actuate=\"onRequest\" xlink:href=\"psysml:95ba016d-ba70-4f40-a2b0-65410d9cce5b\" xlink:show=\"new\" xlink:title=\"psysml:95ba016d-ba70-4f40-a2b0-65410d9cce5b\" xlink:type=\"simple\"><polygon fill=\"#FFFFFF\" points=\"285,214,399,214,406,236.2969,413,236.2969,413,266.5938,285,266.5938,285,214\" style=\"stroke: #000000; stroke-width: 1.5;\"/><line style=\"stroke: #000000; stroke-width: 1.5;\" x1=\"285\" x2=\"406\" y1=\"236.2969\" y2=\"236.2969\"/><text fill=\"#000000\" font-family=\"sans-serif\" font-size=\"14\" font-weight=\"bold\" lengthAdjust=\"spacingAndGlyphs\" textLength=\"108\" x=\"289\" y=\"228.9951\">Service Layer</text></a><a href=\"psysml:ae80162e-06ca-4b24-a1f3-10c5d346ebc4\" target=\"_top\" title=\"psysml:ae80162e-06ca-4b24-a1f3-10c5d346ebc4\" xlink:actuate=\"onRequest\" xlink:href=\"psysml:ae80162e-06ca-4b24-a1f3-10c5d346ebc4\" xlink:show=\"new\" xlink:title=\"psysml:ae80162e-06ca-4b24-a1f3-10c5d346ebc4\" xlink:type=\"simple\"><polygon fill=\"#FFFFFF\" points=\"297,344,387,344,394,366.2969,401,366.2969,401,396.5938,297,396.5938,297,344\" style=\"stroke: #000000; stroke-width: 1.5;\"/><line style=\"stroke: #000000; stroke-width: 1.5;\" x1=\"297\" x2=\"394\" y1=\"366.2969\" y2=\"366.2969\"/><text fill=\"#000000\" font-family=\"sans-serif\" font-size=\"14\" font-weight=\"bold\" lengthAdjust=\"spacingAndGlyphs\" textLength=\"84\" x=\"301\" y=\"358.9951\">Data Layer</text></a><!--MD5=[af87c684e3b0d8be13c1a698a818ef1e]\n",
       "link E3 to E4--><a href=\"psysml:4c7b915e-320e-40c7-9399-584f1f84a9d7\" target=\"_top\" title=\"psysml:4c7b915e-320e-40c7-9399-584f1f84a9d7\" xlink:actuate=\"onRequest\" xlink:href=\"psysml:4c7b915e-320e-40c7-9399-584f1f84a9d7\" xlink:show=\"new\" xlink:title=\"psysml:4c7b915e-320e-40c7-9399-584f1f84a9d7\" xlink:type=\"simple\"><path d=\"M349,137.12 C349,137.12 349,205.91 349,205.91 \" fill=\"none\" id=\"E3-&gt;E4\" style=\"stroke: #383838; stroke-width: 1.0; stroke-dasharray: 7.0,7.0;\"/><polygon fill=\"#383838\" points=\"349,213.91,352,205.91,346,205.91,349,213.91\" style=\"stroke: #383838; stroke-width: 1.0;\"/><text fill=\"#000000\" font-family=\"sans-serif\" font-size=\"13\" lengthAdjust=\"spacingAndGlyphs\" textLength=\"64\" x=\"350\" y=\"180.0669\">«depend»</text></a><!--MD5=[1b7591eae5389033d8d09a9d6721a717]\n",
       "link E4 to E5--><a href=\"psysml:9be59ee3-60f5-4004-bc3e-00c0f7693956\" target=\"_top\" title=\"psysml:9be59ee3-60f5-4004-bc3e-00c0f7693956\" xlink:actuate=\"onRequest\" xlink:href=\"psysml:9be59ee3-60f5-4004-bc3e-00c0f7693956\" xlink:show=\"new\" xlink:title=\"psysml:9be59ee3-60f5-4004-bc3e-00c0f7693956\" xlink:type=\"simple\"><path d=\"M349,267.12 C349,267.12 349,335.91 349,335.91 \" fill=\"none\" id=\"E4-&gt;E5\" style=\"stroke: #383838; stroke-width: 1.0; stroke-dasharray: 7.0,7.0;\"/><polygon fill=\"#383838\" points=\"349,343.91,352,335.91,346,335.91,349,343.91\" style=\"stroke: #383838; stroke-width: 1.0;\"/><text fill=\"#000000\" font-family=\"sans-serif\" font-size=\"13\" lengthAdjust=\"spacingAndGlyphs\" textLength=\"64\" x=\"350\" y=\"310.0669\">«depend»</text></a><!--MD5=[c5e8897d989ce984f93528998a7150fe]\n",
       "link E8 to E6--><a href=\"psysml:80784242-98cb-449c-a51f-f2c7c1061d87\" target=\"_top\" title=\"psysml:80784242-98cb-449c-a51f-f2c7c1061d87\" xlink:actuate=\"onRequest\" xlink:href=\"psysml:80784242-98cb-449c-a51f-f2c7c1061d87\" xlink:show=\"new\" xlink:title=\"psysml:80784242-98cb-449c-a51f-f2c7c1061d87\" xlink:type=\"simple\"><path d=\"M94,133.74 C94,133.74 94,209.46 94,209.46 \" fill=\"none\" id=\"E8-&gt;E6\" style=\"stroke: #383838; stroke-width: 1.0; stroke-dasharray: 7.0,7.0;\"/><polygon fill=\"#383838\" points=\"94,217.46,97,209.46,91,209.46,94,217.46\" style=\"stroke: #383838; stroke-width: 1.0;\"/><text fill=\"#000000\" font-family=\"sans-serif\" font-size=\"13\" lengthAdjust=\"spacingAndGlyphs\" textLength=\"64\" x=\"68\" y=\"180.0669\">«depend»</text></a><!--MD5=[bfa3c8b0d15052fdf50ae9310b491027]\n",
       "link E8 to E7--><a href=\"psysml:80784242-98cb-449c-a51f-f2c7c1061d87\" target=\"_top\" title=\"psysml:80784242-98cb-449c-a51f-f2c7c1061d87\" xlink:actuate=\"onRequest\" xlink:href=\"psysml:80784242-98cb-449c-a51f-f2c7c1061d87\" xlink:show=\"new\" xlink:title=\"psysml:80784242-98cb-449c-a51f-f2c7c1061d87\" xlink:type=\"simple\"><path d=\"M147,133.74 C147,133.74 147,209.46 147,209.46 \" fill=\"none\" id=\"E8-&gt;E7\" style=\"stroke: #383838; stroke-width: 1.0; stroke-dasharray: 7.0,7.0;\"/><polygon fill=\"#383838\" points=\"147,217.46,150,209.46,144,209.46,147,217.46\" style=\"stroke: #383838; stroke-width: 1.0;\"/><text fill=\"#000000\" font-family=\"sans-serif\" font-size=\"13\" lengthAdjust=\"spacingAndGlyphs\" textLength=\"64\" x=\"174\" y=\"180.0669\">«depend»</text></a><!--MD5=[19ab6bff16258473884bfb29d3427912]\n",
       "@startuml\r\n",
       "skinparam linetype ortho\r\n",
       "skinparam monochrome true\r\n",
       "skinparam classbackgroundcolor white\r\n",
       "skinparam shadowing false\r\n",
       "skinparam wrapWidth 300\r\n",
       "hide circle\r\n",
       "\r\n",
       "package \"DependencyTest\" as E1  [[psysml:438e34af-3ce5-4e99-acf4-d3ecd205ea23 ]]  {\r\n",
       "package \"System\" as E2  [[psysml:33a226aa-95cf-4670-96e1-1bd6e94f796f ]]  {\r\n",
       "package \"Application Layer\" as E3  [[psysml:add81eb6-248c-4298-8987-63cd174f8097 ]]  {\r\n",
       "}\r\n",
       "package \"Service Layer\" as E4  [[psysml:95ba016d-ba70-4f40-a2b0-65410d9cce5b ]]  {\r\n",
       "}\r\n",
       "package \"Data Layer\" as E5  [[psysml:ae80162e-06ca-4b24-a1f3-10c5d346ebc4 ]]  {\r\n",
       "}\r\n",
       "}\r\n",
       "comp usage \"x\" as E6  <<(T,blue)attribute>> [[psysml:747ec202-6e4c-456d-855d-21470db0b7f2 ]] {\r\n",
       "}\r\n",
       "comp usage \"y\" as E7  <<(T,blue)attribute>> [[psysml:aee293b7-b915-4f4d-bf33-13d7af80ad07 ]] {\r\n",
       "}\r\n",
       "comp usage \"z\" as E8  <<(T,blue)attribute>> [[psysml:1c42907e-9ca4-4468-bbbb-1ea70701dab3 ]] {\r\n",
       "}\r\n",
       "E3 ..>> E4 [[psysml:4c7b915e-320e-40c7-9399-584f1f84a9d7 ]] : <<depend>>\r\n",
       "E4 ..>> E5 [[psysml:9be59ee3-60f5-4004-bc3e-00c0f7693956 ]] : <<depend>>\r\n",
       "E8 ..>> E6 [[psysml:80784242-98cb-449c-a51f-f2c7c1061d87 ]] : <<depend>>\r\n",
       "E8 ..>> E7 [[psysml:80784242-98cb-449c-a51f-f2c7c1061d87 ]] : <<depend>>\r\n",
       "}\r\n",
       "@enduml\r\n",
       "\n",
       "PlantUML version 1.2020.13(Sat Jun 13 12:26:38 UTC 2020)\n",
       "(EPL source distribution)\n",
       "Java Runtime: OpenJDK Runtime Environment\n",
       "JVM: OpenJDK 64-Bit Server VM\n",
       "Default Encoding: UTF-8\n",
       "Language: en\n",
       "Country: null\n",
       "--></g></svg>"
      ]
     },
     "execution_count": 57,
     "metadata": {},
     "output_type": "execute_result"
    }
   ],
   "source": [
    "%viz --style=\"ORTHOLINE\" --view=\"MIXED\" \"DependencyTest\""
   ]
  }
 ],
 "metadata": {
  "kernelspec": {
   "display_name": "SysML",
   "language": "sysml",
   "name": "sysml"
  },
  "language_info": {
   "codemirror_mode": "sysml",
   "file_extension": ".sysml",
   "mimetype": "text/x-sysml",
   "name": "SysML",
   "pygments_lexer": "java",
   "version": "1.0.0"
  }
 },
 "nbformat": 4,
 "nbformat_minor": 5
}
