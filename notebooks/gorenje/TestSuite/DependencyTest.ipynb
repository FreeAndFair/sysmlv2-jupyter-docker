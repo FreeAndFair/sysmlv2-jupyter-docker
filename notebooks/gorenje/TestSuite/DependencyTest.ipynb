{
 "cells": [
  {
   "cell_type": "markdown",
   "id": "4db0bcde",
   "metadata": {},
   "source": [
    "# SysML v2 Test Suite\n",
    "\n",
    "This can notebook can be cleared using menu `Edit --> Clear All Outputs` and then all cells can be\n",
    "run using menu `Run --> Run All Cells`.\n",
    "\n",
    "**WARNING**: This file is generated, all modifications here will be ignored.\n"
   ]
  },
  {
   "cell_type": "markdown",
   "id": "e4589246",
   "metadata": {},
   "source": [
    "## File: ../../sysml/src/examples/Simple Tests/DependencyTest.sysml"
   ]
  },
  {
   "cell_type": "code",
   "execution_count": 1,
   "id": "f3e3604c",
   "metadata": {
    "execution": {
     "iopub.execute_input": "2021-05-28T10:49:35.375114Z",
     "iopub.status.busy": "2021-05-28T10:49:35.374441Z",
     "iopub.status.idle": "2021-05-28T10:49:35.471901Z",
     "shell.execute_reply": "2021-05-28T10:49:35.471340Z"
    }
   },
   "outputs": [
    {
     "data": {
      "text/plain": [
       "Package DependencyTest (066faece-756d-49db-a95e-9cfb614b7485)\n"
      ]
     },
     "execution_count": 1,
     "metadata": {},
     "output_type": "execute_result"
    }
   ],
   "source": [
    "package DependencyTest {\n",
    "\t\n",
    "\tpackage System {\n",
    "\t\tpackage 'Application Layer';\n",
    "\t\tpackage 'Service Layer';\n",
    "\t\tpackage 'Data Layer';\n",
    "\t}\n",
    "\t\n",
    "\timport System::*;\n",
    "\t\n",
    "\tdependency Use from 'Application Layer' to 'Service Layer';\n",
    "\tdependency from 'Service Layer' to 'Data Layer';\n",
    "\t\n",
    "\tattribute x;\n",
    "\tattribute y;\n",
    "\tattribute z;\n",
    "\t\n",
    "\tdependency z to x, y;\n",
    "\t\n",
    "}"
   ]
  },
  {
   "cell_type": "code",
   "execution_count": 2,
   "id": "f70687f6",
   "metadata": {
    "execution": {
     "iopub.execute_input": "2021-05-28T10:49:35.527007Z",
     "iopub.status.busy": "2021-05-28T10:49:35.526574Z",
     "iopub.status.idle": "2021-05-28T10:49:36.110858Z",
     "shell.execute_reply": "2021-05-28T10:49:36.110551Z"
    }
   },
   "outputs": [
    {
     "data": {
      "image/svg+xml": [
       "<?xml version=\"1.0\" encoding=\"UTF-8\" standalone=\"no\"?><svg xmlns=\"http://www.w3.org/2000/svg\" xmlns:xlink=\"http://www.w3.org/1999/xlink\" contentScriptType=\"application/ecmascript\" contentStyleType=\"text/css\" height=\"449px\" preserveAspectRatio=\"none\" style=\"width:489px;height:449px;\" version=\"1.1\" viewBox=\"0 0 489 449\" width=\"489px\" zoomAndPan=\"magnify\"><defs/><g><!--MD5=[fbc87193dbaf4d95561dea2c320d4a47]\n",
       "cluster E1--><a href=\"psysml:cce2acdd-5299-4277-a359-760a7748f1a5\" target=\"_top\" title=\"psysml:cce2acdd-5299-4277-a359-760a7748f1a5\" xlink:actuate=\"onRequest\" xlink:href=\"psysml:cce2acdd-5299-4277-a359-760a7748f1a5\" xlink:show=\"new\" xlink:title=\"psysml:cce2acdd-5299-4277-a359-760a7748f1a5\" xlink:type=\"simple\"><polygon fill=\"#FFFFFF\" points=\"16,6,156,6,163,28.2969,467,28.2969,467,437,16,437,16,6\" style=\"stroke: #000000; stroke-width: 1.5;\"/><line style=\"stroke: #000000; stroke-width: 1.5;\" x1=\"16\" x2=\"163\" y1=\"28.2969\" y2=\"28.2969\"/><text fill=\"#000000\" font-family=\"sans-serif\" font-size=\"14\" font-weight=\"bold\" lengthAdjust=\"spacingAndGlyphs\" textLength=\"134\" x=\"20\" y=\"20.9951\">DependencyTest</text></a><!--MD5=[e4f7fae6ed58524ba242bb0b0d3be6b7]\n",
       "cluster E2--><a href=\"psysml:fe0450d0-807d-48bf-914f-f99eea0aac67\" target=\"_top\" title=\"psysml:fe0450d0-807d-48bf-914f-f99eea0aac67\" xlink:actuate=\"onRequest\" xlink:href=\"psysml:fe0450d0-807d-48bf-914f-f99eea0aac67\" xlink:show=\"new\" xlink:title=\"psysml:fe0450d0-807d-48bf-914f-f99eea0aac67\" xlink:type=\"simple\"><polygon fill=\"#FFFFFF\" points=\"255,49,319,49,326,71.2969,443,71.2969,443,413,255,413,255,49\" style=\"stroke: #000000; stroke-width: 1.5;\"/><line style=\"stroke: #000000; stroke-width: 1.5;\" x1=\"255\" x2=\"326\" y1=\"71.2969\" y2=\"71.2969\"/><text fill=\"#000000\" font-family=\"sans-serif\" font-size=\"14\" font-weight=\"bold\" lengthAdjust=\"spacingAndGlyphs\" textLength=\"58\" x=\"259\" y=\"63.9951\">System</text></a><!--MD5=[60a26617385b1d2d0262a64233df1f8d]\n",
       "class E6--><a href=\"psysml:627607da-451a-45ac-bf2e-8d18d85231b1\" target=\"_top\" title=\"psysml:627607da-451a-45ac-bf2e-8d18d85231b1\" xlink:actuate=\"onRequest\" xlink:href=\"psysml:627607da-451a-45ac-bf2e-8d18d85231b1\" xlink:show=\"new\" xlink:title=\"psysml:627607da-451a-45ac-bf2e-8d18d85231b1\" xlink:type=\"simple\"><rect fill=\"#FFFFFF\" height=\"45.9375\" id=\"E6\" rx=\"10\" ry=\"10\" style=\"stroke: #383838; stroke-width: 1.5;\" width=\"71\" x=\"32.5\" y=\"217.5\"/><text fill=\"#000000\" font-family=\"sans-serif\" font-size=\"12\" font-style=\"italic\" lengthAdjust=\"spacingAndGlyphs\" textLength=\"69\" x=\"33.5\" y=\"233.6387\">«attribute»</text><text fill=\"#000000\" font-family=\"sans-serif\" font-size=\"12\" lengthAdjust=\"spacingAndGlyphs\" textLength=\"6\" x=\"65\" y=\"247.6074\">x</text><line style=\"stroke: #383838; stroke-width: 1.5;\" x1=\"33.5\" x2=\"102.5\" y1=\"255.4375\" y2=\"255.4375\"/></a><!--MD5=[2156ba9850f5573cc1fc38a6a4b2f02b]\n",
       "class E7--><a href=\"psysml:b8e81d8b-4779-47a3-b21f-b5cec6a6f06b\" target=\"_top\" title=\"psysml:b8e81d8b-4779-47a3-b21f-b5cec6a6f06b\" xlink:actuate=\"onRequest\" xlink:href=\"psysml:b8e81d8b-4779-47a3-b21f-b5cec6a6f06b\" xlink:show=\"new\" xlink:title=\"psysml:b8e81d8b-4779-47a3-b21f-b5cec6a6f06b\" xlink:type=\"simple\"><rect fill=\"#FFFFFF\" height=\"45.9375\" id=\"E7\" rx=\"10\" ry=\"10\" style=\"stroke: #383838; stroke-width: 1.5;\" width=\"71\" x=\"138.5\" y=\"217.5\"/><text fill=\"#000000\" font-family=\"sans-serif\" font-size=\"12\" font-style=\"italic\" lengthAdjust=\"spacingAndGlyphs\" textLength=\"69\" x=\"139.5\" y=\"233.6387\">«attribute»</text><text fill=\"#000000\" font-family=\"sans-serif\" font-size=\"12\" lengthAdjust=\"spacingAndGlyphs\" textLength=\"6\" x=\"171\" y=\"247.6074\">y</text><line style=\"stroke: #383838; stroke-width: 1.5;\" x1=\"139.5\" x2=\"208.5\" y1=\"255.4375\" y2=\"255.4375\"/></a><!--MD5=[b9389687b975829384b498ac4b7476b2]\n",
       "class E8--><a href=\"psysml:ff5b6b09-567c-4f7f-ac5d-5252b0115c49\" target=\"_top\" title=\"psysml:ff5b6b09-567c-4f7f-ac5d-5252b0115c49\" xlink:actuate=\"onRequest\" xlink:href=\"psysml:ff5b6b09-567c-4f7f-ac5d-5252b0115c49\" xlink:show=\"new\" xlink:title=\"psysml:ff5b6b09-567c-4f7f-ac5d-5252b0115c49\" xlink:type=\"simple\"><rect fill=\"#FFFFFF\" height=\"45.9375\" id=\"E8\" rx=\"10\" ry=\"10\" style=\"stroke: #383838; stroke-width: 1.5;\" width=\"71\" x=\"84.5\" y=\"87.5\"/><text fill=\"#000000\" font-family=\"sans-serif\" font-size=\"12\" font-style=\"italic\" lengthAdjust=\"spacingAndGlyphs\" textLength=\"69\" x=\"85.5\" y=\"103.6387\">«attribute»</text><text fill=\"#000000\" font-family=\"sans-serif\" font-size=\"12\" lengthAdjust=\"spacingAndGlyphs\" textLength=\"5\" x=\"117.5\" y=\"117.6074\">z</text><line style=\"stroke: #383838; stroke-width: 1.5;\" x1=\"85.5\" x2=\"154.5\" y1=\"125.4375\" y2=\"125.4375\"/></a><a href=\"psysml:b4c6803f-b500-4ed2-a89b-7b27b2a9486d\" target=\"_top\" title=\"psysml:b4c6803f-b500-4ed2-a89b-7b27b2a9486d\" xlink:actuate=\"onRequest\" xlink:href=\"psysml:b4c6803f-b500-4ed2-a89b-7b27b2a9486d\" xlink:show=\"new\" xlink:title=\"psysml:b4c6803f-b500-4ed2-a89b-7b27b2a9486d\" xlink:type=\"simple\"><polygon fill=\"#FFFFFF\" points=\"271,84,413,84,420,106.2969,427,106.2969,427,136.5938,271,136.5938,271,84\" style=\"stroke: #000000; stroke-width: 1.5;\"/><line style=\"stroke: #000000; stroke-width: 1.5;\" x1=\"271\" x2=\"420\" y1=\"106.2969\" y2=\"106.2969\"/><text fill=\"#000000\" font-family=\"sans-serif\" font-size=\"14\" font-weight=\"bold\" lengthAdjust=\"spacingAndGlyphs\" textLength=\"136\" x=\"275\" y=\"98.9951\">Application Layer</text></a><a href=\"psysml:66b88940-ae34-45ae-8eaf-0df380551b61\" target=\"_top\" title=\"psysml:66b88940-ae34-45ae-8eaf-0df380551b61\" xlink:actuate=\"onRequest\" xlink:href=\"psysml:66b88940-ae34-45ae-8eaf-0df380551b61\" xlink:show=\"new\" xlink:title=\"psysml:66b88940-ae34-45ae-8eaf-0df380551b61\" xlink:type=\"simple\"><polygon fill=\"#FFFFFF\" points=\"285,214,399,214,406,236.2969,413,236.2969,413,266.5938,285,266.5938,285,214\" style=\"stroke: #000000; stroke-width: 1.5;\"/><line style=\"stroke: #000000; stroke-width: 1.5;\" x1=\"285\" x2=\"406\" y1=\"236.2969\" y2=\"236.2969\"/><text fill=\"#000000\" font-family=\"sans-serif\" font-size=\"14\" font-weight=\"bold\" lengthAdjust=\"spacingAndGlyphs\" textLength=\"108\" x=\"289\" y=\"228.9951\">Service Layer</text></a><a href=\"psysml:2f9cfad3-e6e2-4672-a52e-eac3ac1cc3fa\" target=\"_top\" title=\"psysml:2f9cfad3-e6e2-4672-a52e-eac3ac1cc3fa\" xlink:actuate=\"onRequest\" xlink:href=\"psysml:2f9cfad3-e6e2-4672-a52e-eac3ac1cc3fa\" xlink:show=\"new\" xlink:title=\"psysml:2f9cfad3-e6e2-4672-a52e-eac3ac1cc3fa\" xlink:type=\"simple\"><polygon fill=\"#FFFFFF\" points=\"297,344,387,344,394,366.2969,401,366.2969,401,396.5938,297,396.5938,297,344\" style=\"stroke: #000000; stroke-width: 1.5;\"/><line style=\"stroke: #000000; stroke-width: 1.5;\" x1=\"297\" x2=\"394\" y1=\"366.2969\" y2=\"366.2969\"/><text fill=\"#000000\" font-family=\"sans-serif\" font-size=\"14\" font-weight=\"bold\" lengthAdjust=\"spacingAndGlyphs\" textLength=\"84\" x=\"301\" y=\"358.9951\">Data Layer</text></a><!--MD5=[af87c684e3b0d8be13c1a698a818ef1e]\n",
       "link E3 to E4--><a href=\"psysml:dea4bf7d-7df0-4a98-b0a8-ad3094fe796e\" target=\"_top\" title=\"psysml:dea4bf7d-7df0-4a98-b0a8-ad3094fe796e\" xlink:actuate=\"onRequest\" xlink:href=\"psysml:dea4bf7d-7df0-4a98-b0a8-ad3094fe796e\" xlink:show=\"new\" xlink:title=\"psysml:dea4bf7d-7df0-4a98-b0a8-ad3094fe796e\" xlink:type=\"simple\"><path d=\"M349,137.1 C349,156.8 349,184.22 349,205.73 \" fill=\"none\" id=\"E3-&gt;E4\" style=\"stroke: #383838; stroke-width: 1.0; stroke-dasharray: 7.0,7.0;\"/><polygon fill=\"#383838\" points=\"349,213.95,352,205.95,346,205.95,349,213.95\" style=\"stroke: #383838; stroke-width: 1.0;\"/><text fill=\"#000000\" font-family=\"sans-serif\" font-size=\"13\" lengthAdjust=\"spacingAndGlyphs\" textLength=\"64\" x=\"350\" y=\"180.0669\">«depend»</text></a><!--MD5=[1b7591eae5389033d8d09a9d6721a717]\n",
       "link E4 to E5--><a href=\"psysml:6c12c767-a343-4222-b71b-448a215deadc\" target=\"_top\" title=\"psysml:6c12c767-a343-4222-b71b-448a215deadc\" xlink:actuate=\"onRequest\" xlink:href=\"psysml:6c12c767-a343-4222-b71b-448a215deadc\" xlink:show=\"new\" xlink:title=\"psysml:6c12c767-a343-4222-b71b-448a215deadc\" xlink:type=\"simple\"><path d=\"M349,267.1 C349,286.8 349,314.22 349,335.73 \" fill=\"none\" id=\"E4-&gt;E5\" style=\"stroke: #383838; stroke-width: 1.0; stroke-dasharray: 7.0,7.0;\"/><polygon fill=\"#383838\" points=\"349,343.95,352,335.95,346,335.95,349,343.95\" style=\"stroke: #383838; stroke-width: 1.0;\"/><text fill=\"#000000\" font-family=\"sans-serif\" font-size=\"13\" lengthAdjust=\"spacingAndGlyphs\" textLength=\"64\" x=\"350\" y=\"310.0669\">«depend»</text></a><!--MD5=[c5e8897d989ce984f93528998a7150fe]\n",
       "link E8 to E6--><a href=\"psysml:2c14e4ca-efb9-4e12-a147-b41b8d65befc\" target=\"_top\" title=\"psysml:2c14e4ca-efb9-4e12-a147-b41b8d65befc\" xlink:actuate=\"onRequest\" xlink:href=\"psysml:2c14e4ca-efb9-4e12-a147-b41b8d65befc\" xlink:show=\"new\" xlink:title=\"psysml:2c14e4ca-efb9-4e12-a147-b41b8d65befc\" xlink:type=\"simple\"><path d=\"M89.42,133.6 C79.35,142.68 69.37,154.11 64,167 C58.5,180.2 58.66,195.94 60.54,209.38 \" fill=\"none\" id=\"E8-&gt;E6\" style=\"stroke: #383838; stroke-width: 1.0; stroke-dasharray: 7.0,7.0;\"/><polygon fill=\"#383838\" points=\"61.9,217.4,63.517,209.0104,57.6018,210.0159,61.9,217.4\" style=\"stroke: #383838; stroke-width: 1.0;\"/><text fill=\"#000000\" font-family=\"sans-serif\" font-size=\"13\" lengthAdjust=\"spacingAndGlyphs\" textLength=\"64\" x=\"65\" y=\"180.0669\">«depend»</text></a><!--MD5=[bfa3c8b0d15052fdf50ae9310b491027]\n",
       "link E8 to E7--><a href=\"psysml:2c14e4ca-efb9-4e12-a147-b41b8d65befc\" target=\"_top\" title=\"psysml:2c14e4ca-efb9-4e12-a147-b41b8d65befc\" xlink:actuate=\"onRequest\" xlink:href=\"psysml:2c14e4ca-efb9-4e12-a147-b41b8d65befc\" xlink:show=\"new\" xlink:title=\"psysml:2c14e4ca-efb9-4e12-a147-b41b8d65befc\" xlink:type=\"simple\"><path d=\"M129.28,133.5 C138.17,154.57 151.64,186.5 161.47,209.81 \" fill=\"none\" id=\"E8-&gt;E7\" style=\"stroke: #383838; stroke-width: 1.0; stroke-dasharray: 7.0,7.0;\"/><polygon fill=\"#383838\" points=\"164.66,217.35,164.3241,208.8126,158.7933,211.1385,164.66,217.35\" style=\"stroke: #383838; stroke-width: 1.0;\"/><text fill=\"#000000\" font-family=\"sans-serif\" font-size=\"13\" lengthAdjust=\"spacingAndGlyphs\" textLength=\"64\" x=\"151\" y=\"180.0669\">«depend»</text></a><!--MD5=[cccab57dafe6c42a1ad2b2d0a54baaa7]\n",
       "@startuml\r\n",
       " skinparam monochrome true\r\n",
       "skinparam classbackgroundcolor white\r\n",
       "skinparam shadowing false\r\n",
       "skinparam wrapWidth 300\r\n",
       "hide circle\r\n",
       "\r\n",
       "package \"DependencyTest\" as E1  [[psysml:cce2acdd-5299-4277-a359-760a7748f1a5 ]]  {\r\n",
       "package \"System\" as E2  [[psysml:fe0450d0-807d-48bf-914f-f99eea0aac67 ]]  {\r\n",
       "package \"Application Layer\" as E3  [[psysml:b4c6803f-b500-4ed2-a89b-7b27b2a9486d ]]  {\r\n",
       "}\r\n",
       "package \"Service Layer\" as E4  [[psysml:66b88940-ae34-45ae-8eaf-0df380551b61 ]]  {\r\n",
       "}\r\n",
       "package \"Data Layer\" as E5  [[psysml:2f9cfad3-e6e2-4672-a52e-eac3ac1cc3fa ]]  {\r\n",
       "}\r\n",
       "}\r\n",
       "comp usage \"x\" as E6  <<(T,blue)attribute>> [[psysml:627607da-451a-45ac-bf2e-8d18d85231b1 ]] {\r\n",
       "}\r\n",
       "comp usage \"y\" as E7  <<(T,blue)attribute>> [[psysml:b8e81d8b-4779-47a3-b21f-b5cec6a6f06b ]] {\r\n",
       "}\r\n",
       "comp usage \"z\" as E8  <<(T,blue)attribute>> [[psysml:ff5b6b09-567c-4f7f-ac5d-5252b0115c49 ]] {\r\n",
       "}\r\n",
       "E3 ..>> E4 [[psysml:dea4bf7d-7df0-4a98-b0a8-ad3094fe796e ]] : <<depend>>\r\n",
       "E4 ..>> E5 [[psysml:6c12c767-a343-4222-b71b-448a215deadc ]] : <<depend>>\r\n",
       "E8 ..>> E6 [[psysml:2c14e4ca-efb9-4e12-a147-b41b8d65befc ]] : <<depend>>\r\n",
       "E8 ..>> E7 [[psysml:2c14e4ca-efb9-4e12-a147-b41b8d65befc ]] : <<depend>>\r\n",
       "}\r\n",
       "@enduml\r\n",
       "\n",
       "PlantUML version 1.2020.13(Sat Jun 13 12:26:38 UTC 2020)\n",
       "(EPL source distribution)\n",
       "Java Runtime: OpenJDK Runtime Environment\n",
       "JVM: OpenJDK 64-Bit Server VM\n",
       "Default Encoding: UTF-8\n",
       "Language: en\n",
       "Country: null\n",
       "--></g></svg>"
      ]
     },
     "execution_count": 2,
     "metadata": {},
     "output_type": "execute_result"
    }
   ],
   "source": [
    "%viz --style=\"COMPTREE\" --view=\"Default\" \"DependencyTest\""
   ]
  },
  {
   "cell_type": "code",
   "execution_count": 3,
   "id": "c8f4f79b",
   "metadata": {
    "execution": {
     "iopub.execute_input": "2021-05-28T10:49:36.162252Z",
     "iopub.status.busy": "2021-05-28T10:49:36.161572Z",
     "iopub.status.idle": "2021-05-28T10:49:36.237388Z",
     "shell.execute_reply": "2021-05-28T10:49:36.237029Z"
    }
   },
   "outputs": [
    {
     "data": {
      "image/svg+xml": [
       "<?xml version=\"1.0\" encoding=\"UTF-8\" standalone=\"no\"?><svg xmlns=\"http://www.w3.org/2000/svg\" xmlns:xlink=\"http://www.w3.org/1999/xlink\" contentScriptType=\"application/ecmascript\" contentStyleType=\"text/css\" height=\"449px\" preserveAspectRatio=\"none\" style=\"width:489px;height:449px;\" version=\"1.1\" viewBox=\"0 0 489 449\" width=\"489px\" zoomAndPan=\"magnify\"><defs/><g><!--MD5=[fbc87193dbaf4d95561dea2c320d4a47]\n",
       "cluster E1--><a href=\"psysml:cce2acdd-5299-4277-a359-760a7748f1a5\" target=\"_top\" title=\"psysml:cce2acdd-5299-4277-a359-760a7748f1a5\" xlink:actuate=\"onRequest\" xlink:href=\"psysml:cce2acdd-5299-4277-a359-760a7748f1a5\" xlink:show=\"new\" xlink:title=\"psysml:cce2acdd-5299-4277-a359-760a7748f1a5\" xlink:type=\"simple\"><polygon fill=\"#FFFFFF\" points=\"16,6,156,6,163,28.2969,467,28.2969,467,437,16,437,16,6\" style=\"stroke: #000000; stroke-width: 1.5;\"/><line style=\"stroke: #000000; stroke-width: 1.5;\" x1=\"16\" x2=\"163\" y1=\"28.2969\" y2=\"28.2969\"/><text fill=\"#000000\" font-family=\"sans-serif\" font-size=\"14\" font-weight=\"bold\" lengthAdjust=\"spacingAndGlyphs\" textLength=\"134\" x=\"20\" y=\"20.9951\">DependencyTest</text></a><!--MD5=[e4f7fae6ed58524ba242bb0b0d3be6b7]\n",
       "cluster E2--><a href=\"psysml:fe0450d0-807d-48bf-914f-f99eea0aac67\" target=\"_top\" title=\"psysml:fe0450d0-807d-48bf-914f-f99eea0aac67\" xlink:actuate=\"onRequest\" xlink:href=\"psysml:fe0450d0-807d-48bf-914f-f99eea0aac67\" xlink:show=\"new\" xlink:title=\"psysml:fe0450d0-807d-48bf-914f-f99eea0aac67\" xlink:type=\"simple\"><polygon fill=\"#FFFFFF\" points=\"255,49,319,49,326,71.2969,443,71.2969,443,413,255,413,255,49\" style=\"stroke: #000000; stroke-width: 1.5;\"/><line style=\"stroke: #000000; stroke-width: 1.5;\" x1=\"255\" x2=\"326\" y1=\"71.2969\" y2=\"71.2969\"/><text fill=\"#000000\" font-family=\"sans-serif\" font-size=\"14\" font-weight=\"bold\" lengthAdjust=\"spacingAndGlyphs\" textLength=\"58\" x=\"259\" y=\"63.9951\">System</text></a><!--MD5=[60a26617385b1d2d0262a64233df1f8d]\n",
       "class E6--><a href=\"psysml:627607da-451a-45ac-bf2e-8d18d85231b1\" target=\"_top\" title=\"psysml:627607da-451a-45ac-bf2e-8d18d85231b1\" xlink:actuate=\"onRequest\" xlink:href=\"psysml:627607da-451a-45ac-bf2e-8d18d85231b1\" xlink:show=\"new\" xlink:title=\"psysml:627607da-451a-45ac-bf2e-8d18d85231b1\" xlink:type=\"simple\"><rect fill=\"#FFFFFF\" height=\"45.9375\" id=\"E6\" rx=\"10\" ry=\"10\" style=\"stroke: #383838; stroke-width: 1.5;\" width=\"71\" x=\"32.5\" y=\"217.5\"/><text fill=\"#000000\" font-family=\"sans-serif\" font-size=\"12\" font-style=\"italic\" lengthAdjust=\"spacingAndGlyphs\" textLength=\"69\" x=\"33.5\" y=\"233.6387\">«attribute»</text><text fill=\"#000000\" font-family=\"sans-serif\" font-size=\"12\" lengthAdjust=\"spacingAndGlyphs\" textLength=\"6\" x=\"65\" y=\"247.6074\">x</text><line style=\"stroke: #383838; stroke-width: 1.5;\" x1=\"33.5\" x2=\"102.5\" y1=\"255.4375\" y2=\"255.4375\"/></a><!--MD5=[2156ba9850f5573cc1fc38a6a4b2f02b]\n",
       "class E7--><a href=\"psysml:b8e81d8b-4779-47a3-b21f-b5cec6a6f06b\" target=\"_top\" title=\"psysml:b8e81d8b-4779-47a3-b21f-b5cec6a6f06b\" xlink:actuate=\"onRequest\" xlink:href=\"psysml:b8e81d8b-4779-47a3-b21f-b5cec6a6f06b\" xlink:show=\"new\" xlink:title=\"psysml:b8e81d8b-4779-47a3-b21f-b5cec6a6f06b\" xlink:type=\"simple\"><rect fill=\"#FFFFFF\" height=\"45.9375\" id=\"E7\" rx=\"10\" ry=\"10\" style=\"stroke: #383838; stroke-width: 1.5;\" width=\"71\" x=\"138.5\" y=\"217.5\"/><text fill=\"#000000\" font-family=\"sans-serif\" font-size=\"12\" font-style=\"italic\" lengthAdjust=\"spacingAndGlyphs\" textLength=\"69\" x=\"139.5\" y=\"233.6387\">«attribute»</text><text fill=\"#000000\" font-family=\"sans-serif\" font-size=\"12\" lengthAdjust=\"spacingAndGlyphs\" textLength=\"6\" x=\"171\" y=\"247.6074\">y</text><line style=\"stroke: #383838; stroke-width: 1.5;\" x1=\"139.5\" x2=\"208.5\" y1=\"255.4375\" y2=\"255.4375\"/></a><!--MD5=[b9389687b975829384b498ac4b7476b2]\n",
       "class E8--><a href=\"psysml:ff5b6b09-567c-4f7f-ac5d-5252b0115c49\" target=\"_top\" title=\"psysml:ff5b6b09-567c-4f7f-ac5d-5252b0115c49\" xlink:actuate=\"onRequest\" xlink:href=\"psysml:ff5b6b09-567c-4f7f-ac5d-5252b0115c49\" xlink:show=\"new\" xlink:title=\"psysml:ff5b6b09-567c-4f7f-ac5d-5252b0115c49\" xlink:type=\"simple\"><rect fill=\"#FFFFFF\" height=\"45.9375\" id=\"E8\" rx=\"10\" ry=\"10\" style=\"stroke: #383838; stroke-width: 1.5;\" width=\"71\" x=\"84.5\" y=\"87.5\"/><text fill=\"#000000\" font-family=\"sans-serif\" font-size=\"12\" font-style=\"italic\" lengthAdjust=\"spacingAndGlyphs\" textLength=\"69\" x=\"85.5\" y=\"103.6387\">«attribute»</text><text fill=\"#000000\" font-family=\"sans-serif\" font-size=\"12\" lengthAdjust=\"spacingAndGlyphs\" textLength=\"5\" x=\"117.5\" y=\"117.6074\">z</text><line style=\"stroke: #383838; stroke-width: 1.5;\" x1=\"85.5\" x2=\"154.5\" y1=\"125.4375\" y2=\"125.4375\"/></a><a href=\"psysml:b4c6803f-b500-4ed2-a89b-7b27b2a9486d\" target=\"_top\" title=\"psysml:b4c6803f-b500-4ed2-a89b-7b27b2a9486d\" xlink:actuate=\"onRequest\" xlink:href=\"psysml:b4c6803f-b500-4ed2-a89b-7b27b2a9486d\" xlink:show=\"new\" xlink:title=\"psysml:b4c6803f-b500-4ed2-a89b-7b27b2a9486d\" xlink:type=\"simple\"><polygon fill=\"#FFFFFF\" points=\"271,84,413,84,420,106.2969,427,106.2969,427,136.5938,271,136.5938,271,84\" style=\"stroke: #000000; stroke-width: 1.5;\"/><line style=\"stroke: #000000; stroke-width: 1.5;\" x1=\"271\" x2=\"420\" y1=\"106.2969\" y2=\"106.2969\"/><text fill=\"#000000\" font-family=\"sans-serif\" font-size=\"14\" font-weight=\"bold\" lengthAdjust=\"spacingAndGlyphs\" textLength=\"136\" x=\"275\" y=\"98.9951\">Application Layer</text></a><a href=\"psysml:66b88940-ae34-45ae-8eaf-0df380551b61\" target=\"_top\" title=\"psysml:66b88940-ae34-45ae-8eaf-0df380551b61\" xlink:actuate=\"onRequest\" xlink:href=\"psysml:66b88940-ae34-45ae-8eaf-0df380551b61\" xlink:show=\"new\" xlink:title=\"psysml:66b88940-ae34-45ae-8eaf-0df380551b61\" xlink:type=\"simple\"><polygon fill=\"#FFFFFF\" points=\"285,214,399,214,406,236.2969,413,236.2969,413,266.5938,285,266.5938,285,214\" style=\"stroke: #000000; stroke-width: 1.5;\"/><line style=\"stroke: #000000; stroke-width: 1.5;\" x1=\"285\" x2=\"406\" y1=\"236.2969\" y2=\"236.2969\"/><text fill=\"#000000\" font-family=\"sans-serif\" font-size=\"14\" font-weight=\"bold\" lengthAdjust=\"spacingAndGlyphs\" textLength=\"108\" x=\"289\" y=\"228.9951\">Service Layer</text></a><a href=\"psysml:2f9cfad3-e6e2-4672-a52e-eac3ac1cc3fa\" target=\"_top\" title=\"psysml:2f9cfad3-e6e2-4672-a52e-eac3ac1cc3fa\" xlink:actuate=\"onRequest\" xlink:href=\"psysml:2f9cfad3-e6e2-4672-a52e-eac3ac1cc3fa\" xlink:show=\"new\" xlink:title=\"psysml:2f9cfad3-e6e2-4672-a52e-eac3ac1cc3fa\" xlink:type=\"simple\"><polygon fill=\"#FFFFFF\" points=\"297,344,387,344,394,366.2969,401,366.2969,401,396.5938,297,396.5938,297,344\" style=\"stroke: #000000; stroke-width: 1.5;\"/><line style=\"stroke: #000000; stroke-width: 1.5;\" x1=\"297\" x2=\"394\" y1=\"366.2969\" y2=\"366.2969\"/><text fill=\"#000000\" font-family=\"sans-serif\" font-size=\"14\" font-weight=\"bold\" lengthAdjust=\"spacingAndGlyphs\" textLength=\"84\" x=\"301\" y=\"358.9951\">Data Layer</text></a><!--MD5=[af87c684e3b0d8be13c1a698a818ef1e]\n",
       "link E3 to E4--><a href=\"psysml:dea4bf7d-7df0-4a98-b0a8-ad3094fe796e\" target=\"_top\" title=\"psysml:dea4bf7d-7df0-4a98-b0a8-ad3094fe796e\" xlink:actuate=\"onRequest\" xlink:href=\"psysml:dea4bf7d-7df0-4a98-b0a8-ad3094fe796e\" xlink:show=\"new\" xlink:title=\"psysml:dea4bf7d-7df0-4a98-b0a8-ad3094fe796e\" xlink:type=\"simple\"><path d=\"M349,137.1 C349,156.8 349,184.22 349,205.73 \" fill=\"none\" id=\"E3-&gt;E4\" style=\"stroke: #383838; stroke-width: 1.0; stroke-dasharray: 7.0,7.0;\"/><polygon fill=\"#383838\" points=\"349,213.95,352,205.95,346,205.95,349,213.95\" style=\"stroke: #383838; stroke-width: 1.0;\"/><text fill=\"#000000\" font-family=\"sans-serif\" font-size=\"13\" lengthAdjust=\"spacingAndGlyphs\" textLength=\"64\" x=\"350\" y=\"180.0669\">«depend»</text></a><!--MD5=[1b7591eae5389033d8d09a9d6721a717]\n",
       "link E4 to E5--><a href=\"psysml:6c12c767-a343-4222-b71b-448a215deadc\" target=\"_top\" title=\"psysml:6c12c767-a343-4222-b71b-448a215deadc\" xlink:actuate=\"onRequest\" xlink:href=\"psysml:6c12c767-a343-4222-b71b-448a215deadc\" xlink:show=\"new\" xlink:title=\"psysml:6c12c767-a343-4222-b71b-448a215deadc\" xlink:type=\"simple\"><path d=\"M349,267.1 C349,286.8 349,314.22 349,335.73 \" fill=\"none\" id=\"E4-&gt;E5\" style=\"stroke: #383838; stroke-width: 1.0; stroke-dasharray: 7.0,7.0;\"/><polygon fill=\"#383838\" points=\"349,343.95,352,335.95,346,335.95,349,343.95\" style=\"stroke: #383838; stroke-width: 1.0;\"/><text fill=\"#000000\" font-family=\"sans-serif\" font-size=\"13\" lengthAdjust=\"spacingAndGlyphs\" textLength=\"64\" x=\"350\" y=\"310.0669\">«depend»</text></a><!--MD5=[c5e8897d989ce984f93528998a7150fe]\n",
       "link E8 to E6--><a href=\"psysml:2c14e4ca-efb9-4e12-a147-b41b8d65befc\" target=\"_top\" title=\"psysml:2c14e4ca-efb9-4e12-a147-b41b8d65befc\" xlink:actuate=\"onRequest\" xlink:href=\"psysml:2c14e4ca-efb9-4e12-a147-b41b8d65befc\" xlink:show=\"new\" xlink:title=\"psysml:2c14e4ca-efb9-4e12-a147-b41b8d65befc\" xlink:type=\"simple\"><path d=\"M89.42,133.6 C79.35,142.68 69.37,154.11 64,167 C58.5,180.2 58.66,195.94 60.54,209.38 \" fill=\"none\" id=\"E8-&gt;E6\" style=\"stroke: #383838; stroke-width: 1.0; stroke-dasharray: 7.0,7.0;\"/><polygon fill=\"#383838\" points=\"61.9,217.4,63.517,209.0104,57.6018,210.0159,61.9,217.4\" style=\"stroke: #383838; stroke-width: 1.0;\"/><text fill=\"#000000\" font-family=\"sans-serif\" font-size=\"13\" lengthAdjust=\"spacingAndGlyphs\" textLength=\"64\" x=\"65\" y=\"180.0669\">«depend»</text></a><!--MD5=[bfa3c8b0d15052fdf50ae9310b491027]\n",
       "link E8 to E7--><a href=\"psysml:2c14e4ca-efb9-4e12-a147-b41b8d65befc\" target=\"_top\" title=\"psysml:2c14e4ca-efb9-4e12-a147-b41b8d65befc\" xlink:actuate=\"onRequest\" xlink:href=\"psysml:2c14e4ca-efb9-4e12-a147-b41b8d65befc\" xlink:show=\"new\" xlink:title=\"psysml:2c14e4ca-efb9-4e12-a147-b41b8d65befc\" xlink:type=\"simple\"><path d=\"M129.28,133.5 C138.17,154.57 151.64,186.5 161.47,209.81 \" fill=\"none\" id=\"E8-&gt;E7\" style=\"stroke: #383838; stroke-width: 1.0; stroke-dasharray: 7.0,7.0;\"/><polygon fill=\"#383838\" points=\"164.66,217.35,164.3241,208.8126,158.7933,211.1385,164.66,217.35\" style=\"stroke: #383838; stroke-width: 1.0;\"/><text fill=\"#000000\" font-family=\"sans-serif\" font-size=\"13\" lengthAdjust=\"spacingAndGlyphs\" textLength=\"64\" x=\"151\" y=\"180.0669\">«depend»</text></a><!--MD5=[cccab57dafe6c42a1ad2b2d0a54baaa7]\n",
       "@startuml\r\n",
       " skinparam monochrome true\r\n",
       "skinparam classbackgroundcolor white\r\n",
       "skinparam shadowing false\r\n",
       "skinparam wrapWidth 300\r\n",
       "hide circle\r\n",
       "\r\n",
       "package \"DependencyTest\" as E1  [[psysml:cce2acdd-5299-4277-a359-760a7748f1a5 ]]  {\r\n",
       "package \"System\" as E2  [[psysml:fe0450d0-807d-48bf-914f-f99eea0aac67 ]]  {\r\n",
       "package \"Application Layer\" as E3  [[psysml:b4c6803f-b500-4ed2-a89b-7b27b2a9486d ]]  {\r\n",
       "}\r\n",
       "package \"Service Layer\" as E4  [[psysml:66b88940-ae34-45ae-8eaf-0df380551b61 ]]  {\r\n",
       "}\r\n",
       "package \"Data Layer\" as E5  [[psysml:2f9cfad3-e6e2-4672-a52e-eac3ac1cc3fa ]]  {\r\n",
       "}\r\n",
       "}\r\n",
       "comp usage \"x\" as E6  <<(T,blue)attribute>> [[psysml:627607da-451a-45ac-bf2e-8d18d85231b1 ]] {\r\n",
       "}\r\n",
       "comp usage \"y\" as E7  <<(T,blue)attribute>> [[psysml:b8e81d8b-4779-47a3-b21f-b5cec6a6f06b ]] {\r\n",
       "}\r\n",
       "comp usage \"z\" as E8  <<(T,blue)attribute>> [[psysml:ff5b6b09-567c-4f7f-ac5d-5252b0115c49 ]] {\r\n",
       "}\r\n",
       "E3 ..>> E4 [[psysml:dea4bf7d-7df0-4a98-b0a8-ad3094fe796e ]] : <<depend>>\r\n",
       "E4 ..>> E5 [[psysml:6c12c767-a343-4222-b71b-448a215deadc ]] : <<depend>>\r\n",
       "E8 ..>> E6 [[psysml:2c14e4ca-efb9-4e12-a147-b41b8d65befc ]] : <<depend>>\r\n",
       "E8 ..>> E7 [[psysml:2c14e4ca-efb9-4e12-a147-b41b8d65befc ]] : <<depend>>\r\n",
       "}\r\n",
       "@enduml\r\n",
       "\n",
       "PlantUML version 1.2020.13(Sat Jun 13 12:26:38 UTC 2020)\n",
       "(EPL source distribution)\n",
       "Java Runtime: OpenJDK Runtime Environment\n",
       "JVM: OpenJDK 64-Bit Server VM\n",
       "Default Encoding: UTF-8\n",
       "Language: en\n",
       "Country: null\n",
       "--></g></svg>"
      ]
     },
     "execution_count": 3,
     "metadata": {},
     "output_type": "execute_result"
    }
   ],
   "source": [
    "%viz --style=\"COMPTREE\" --view=\"Tree\" \"DependencyTest\""
   ]
  },
  {
   "cell_type": "code",
   "execution_count": 4,
   "id": "abe01b96",
   "metadata": {
    "execution": {
     "iopub.execute_input": "2021-05-28T10:49:36.288500Z",
     "iopub.status.busy": "2021-05-28T10:49:36.287997Z",
     "iopub.status.idle": "2021-05-28T10:49:36.297236Z",
     "shell.execute_reply": "2021-05-28T10:49:36.296959Z"
    }
   },
   "outputs": [
    {
     "data": {
      "image/svg+xml": [
       "<?xml version=\"1.0\" encoding=\"UTF-8\" standalone=\"no\"?><svg xmlns=\"http://www.w3.org/2000/svg\" xmlns:xlink=\"http://www.w3.org/1999/xlink\" contentScriptType=\"application/ecmascript\" contentStyleType=\"text/css\" height=\"12px\" preserveAspectRatio=\"none\" style=\"width:12px;height:12px;\" version=\"1.1\" viewBox=\"0 0 12 12\" width=\"12px\" zoomAndPan=\"magnify\"><defs/><g><!--MD5=[f19188ef49e11757b5c46753f95d9edc]\n",
       "@startuml\r\n",
       " skinparam monochrome true\r\n",
       "skinparam classbackgroundcolor white\r\n",
       "skinparam shadowing false\r\n",
       "skinparam wrapWidth 300\r\n",
       "hide circle\r\n",
       "\r\n",
       "@enduml\r\n",
       "\n",
       "PlantUML version 1.2020.13(Sat Jun 13 12:26:38 UTC 2020)\n",
       "(EPL source distribution)\n",
       "Java Runtime: OpenJDK Runtime Environment\n",
       "JVM: OpenJDK 64-Bit Server VM\n",
       "Default Encoding: UTF-8\n",
       "Language: en\n",
       "Country: null\n",
       "--></g></svg>"
      ]
     },
     "execution_count": 4,
     "metadata": {},
     "output_type": "execute_result"
    }
   ],
   "source": [
    "%viz --style=\"COMPTREE\" --view=\"State\" \"DependencyTest\""
   ]
  },
  {
   "cell_type": "code",
   "execution_count": 5,
   "id": "b99e30ce",
   "metadata": {
    "execution": {
     "iopub.execute_input": "2021-05-28T10:49:36.350982Z",
     "iopub.status.busy": "2021-05-28T10:49:36.350329Z",
     "iopub.status.idle": "2021-05-28T10:49:36.411630Z",
     "shell.execute_reply": "2021-05-28T10:49:36.411352Z"
    }
   },
   "outputs": [
    {
     "data": {
      "image/svg+xml": [
       "<?xml version=\"1.0\" encoding=\"UTF-8\" standalone=\"no\"?><svg xmlns=\"http://www.w3.org/2000/svg\" xmlns:xlink=\"http://www.w3.org/1999/xlink\" contentScriptType=\"application/ecmascript\" contentStyleType=\"text/css\" height=\"361px\" preserveAspectRatio=\"none\" style=\"width:489px;height:361px;\" version=\"1.1\" viewBox=\"0 0 489 361\" width=\"489px\" zoomAndPan=\"magnify\"><defs/><g><!--MD5=[fbc87193dbaf4d95561dea2c320d4a47]\n",
       "cluster E1--><a href=\"psysml:cce2acdd-5299-4277-a359-760a7748f1a5\" target=\"_top\" title=\"psysml:cce2acdd-5299-4277-a359-760a7748f1a5\" xlink:actuate=\"onRequest\" xlink:href=\"psysml:cce2acdd-5299-4277-a359-760a7748f1a5\" xlink:show=\"new\" xlink:title=\"psysml:cce2acdd-5299-4277-a359-760a7748f1a5\" xlink:type=\"simple\"><polygon fill=\"#FFFFFF\" points=\"16,6,156,6,163,28.2969,467,28.2969,467,349,16,349,16,6\" style=\"stroke: #000000; stroke-width: 1.5;\"/><line style=\"stroke: #000000; stroke-width: 1.5;\" x1=\"16\" x2=\"163\" y1=\"28.2969\" y2=\"28.2969\"/><text fill=\"#000000\" font-family=\"sans-serif\" font-size=\"14\" font-weight=\"bold\" lengthAdjust=\"spacingAndGlyphs\" textLength=\"134\" x=\"20\" y=\"20.9951\">DependencyTest</text></a><!--MD5=[e4f7fae6ed58524ba242bb0b0d3be6b7]\n",
       "cluster E2--><a href=\"psysml:fe0450d0-807d-48bf-914f-f99eea0aac67\" target=\"_top\" title=\"psysml:fe0450d0-807d-48bf-914f-f99eea0aac67\" xlink:actuate=\"onRequest\" xlink:href=\"psysml:fe0450d0-807d-48bf-914f-f99eea0aac67\" xlink:show=\"new\" xlink:title=\"psysml:fe0450d0-807d-48bf-914f-f99eea0aac67\" xlink:type=\"simple\"><polygon fill=\"#FFFFFF\" points=\"255,49,319,49,326,71.2969,443,71.2969,443,325,255,325,255,49\" style=\"stroke: #000000; stroke-width: 1.5;\"/><line style=\"stroke: #000000; stroke-width: 1.5;\" x1=\"255\" x2=\"326\" y1=\"71.2969\" y2=\"71.2969\"/><text fill=\"#000000\" font-family=\"sans-serif\" font-size=\"14\" font-weight=\"bold\" lengthAdjust=\"spacingAndGlyphs\" textLength=\"58\" x=\"259\" y=\"63.9951\">System</text></a><!--MD5=[60a26617385b1d2d0262a64233df1f8d]\n",
       "class E6--><a href=\"psysml:627607da-451a-45ac-bf2e-8d18d85231b1\" target=\"_top\" title=\"psysml:627607da-451a-45ac-bf2e-8d18d85231b1\" xlink:actuate=\"onRequest\" xlink:href=\"psysml:627607da-451a-45ac-bf2e-8d18d85231b1\" xlink:show=\"new\" xlink:title=\"psysml:627607da-451a-45ac-bf2e-8d18d85231b1\" xlink:type=\"simple\"><rect fill=\"#FFFFFF\" height=\"45.9375\" id=\"E6\" rx=\"10\" ry=\"10\" style=\"stroke: #383838; stroke-width: 1.5;\" width=\"71\" x=\"32.5\" y=\"173.5\"/><text fill=\"#000000\" font-family=\"sans-serif\" font-size=\"12\" font-style=\"italic\" lengthAdjust=\"spacingAndGlyphs\" textLength=\"69\" x=\"33.5\" y=\"189.6387\">«attribute»</text><text fill=\"#000000\" font-family=\"sans-serif\" font-size=\"12\" lengthAdjust=\"spacingAndGlyphs\" textLength=\"6\" x=\"65\" y=\"203.6074\">x</text><line style=\"stroke: #383838; stroke-width: 1.5;\" x1=\"33.5\" x2=\"102.5\" y1=\"211.4375\" y2=\"211.4375\"/></a><!--MD5=[2156ba9850f5573cc1fc38a6a4b2f02b]\n",
       "class E7--><a href=\"psysml:b8e81d8b-4779-47a3-b21f-b5cec6a6f06b\" target=\"_top\" title=\"psysml:b8e81d8b-4779-47a3-b21f-b5cec6a6f06b\" xlink:actuate=\"onRequest\" xlink:href=\"psysml:b8e81d8b-4779-47a3-b21f-b5cec6a6f06b\" xlink:show=\"new\" xlink:title=\"psysml:b8e81d8b-4779-47a3-b21f-b5cec6a6f06b\" xlink:type=\"simple\"><rect fill=\"#FFFFFF\" height=\"45.9375\" id=\"E7\" rx=\"10\" ry=\"10\" style=\"stroke: #383838; stroke-width: 1.5;\" width=\"71\" x=\"138.5\" y=\"173.5\"/><text fill=\"#000000\" font-family=\"sans-serif\" font-size=\"12\" font-style=\"italic\" lengthAdjust=\"spacingAndGlyphs\" textLength=\"69\" x=\"139.5\" y=\"189.6387\">«attribute»</text><text fill=\"#000000\" font-family=\"sans-serif\" font-size=\"12\" lengthAdjust=\"spacingAndGlyphs\" textLength=\"6\" x=\"171\" y=\"203.6074\">y</text><line style=\"stroke: #383838; stroke-width: 1.5;\" x1=\"139.5\" x2=\"208.5\" y1=\"211.4375\" y2=\"211.4375\"/></a><!--MD5=[b9389687b975829384b498ac4b7476b2]\n",
       "class E8--><a href=\"psysml:ff5b6b09-567c-4f7f-ac5d-5252b0115c49\" target=\"_top\" title=\"psysml:ff5b6b09-567c-4f7f-ac5d-5252b0115c49\" xlink:actuate=\"onRequest\" xlink:href=\"psysml:ff5b6b09-567c-4f7f-ac5d-5252b0115c49\" xlink:show=\"new\" xlink:title=\"psysml:ff5b6b09-567c-4f7f-ac5d-5252b0115c49\" xlink:type=\"simple\"><rect fill=\"#FFFFFF\" height=\"45.9375\" id=\"E8\" rx=\"10\" ry=\"10\" style=\"stroke: #383838; stroke-width: 1.5;\" width=\"71\" x=\"84.5\" y=\"87.5\"/><text fill=\"#000000\" font-family=\"sans-serif\" font-size=\"12\" font-style=\"italic\" lengthAdjust=\"spacingAndGlyphs\" textLength=\"69\" x=\"85.5\" y=\"103.6387\">«attribute»</text><text fill=\"#000000\" font-family=\"sans-serif\" font-size=\"12\" lengthAdjust=\"spacingAndGlyphs\" textLength=\"5\" x=\"117.5\" y=\"117.6074\">z</text><line style=\"stroke: #383838; stroke-width: 1.5;\" x1=\"85.5\" x2=\"154.5\" y1=\"125.4375\" y2=\"125.4375\"/></a><a href=\"psysml:b4c6803f-b500-4ed2-a89b-7b27b2a9486d\" target=\"_top\" title=\"psysml:b4c6803f-b500-4ed2-a89b-7b27b2a9486d\" xlink:actuate=\"onRequest\" xlink:href=\"psysml:b4c6803f-b500-4ed2-a89b-7b27b2a9486d\" xlink:show=\"new\" xlink:title=\"psysml:b4c6803f-b500-4ed2-a89b-7b27b2a9486d\" xlink:type=\"simple\"><polygon fill=\"#FFFFFF\" points=\"271,84,413,84,420,106.2969,427,106.2969,427,136.5938,271,136.5938,271,84\" style=\"stroke: #000000; stroke-width: 1.5;\"/><line style=\"stroke: #000000; stroke-width: 1.5;\" x1=\"271\" x2=\"420\" y1=\"106.2969\" y2=\"106.2969\"/><text fill=\"#000000\" font-family=\"sans-serif\" font-size=\"14\" font-weight=\"bold\" lengthAdjust=\"spacingAndGlyphs\" textLength=\"136\" x=\"275\" y=\"98.9951\">Application Layer</text></a><a href=\"psysml:66b88940-ae34-45ae-8eaf-0df380551b61\" target=\"_top\" title=\"psysml:66b88940-ae34-45ae-8eaf-0df380551b61\" xlink:actuate=\"onRequest\" xlink:href=\"psysml:66b88940-ae34-45ae-8eaf-0df380551b61\" xlink:show=\"new\" xlink:title=\"psysml:66b88940-ae34-45ae-8eaf-0df380551b61\" xlink:type=\"simple\"><polygon fill=\"#FFFFFF\" points=\"285,170,399,170,406,192.2969,413,192.2969,413,222.5938,285,222.5938,285,170\" style=\"stroke: #000000; stroke-width: 1.5;\"/><line style=\"stroke: #000000; stroke-width: 1.5;\" x1=\"285\" x2=\"406\" y1=\"192.2969\" y2=\"192.2969\"/><text fill=\"#000000\" font-family=\"sans-serif\" font-size=\"14\" font-weight=\"bold\" lengthAdjust=\"spacingAndGlyphs\" textLength=\"108\" x=\"289\" y=\"184.9951\">Service Layer</text></a><a href=\"psysml:2f9cfad3-e6e2-4672-a52e-eac3ac1cc3fa\" target=\"_top\" title=\"psysml:2f9cfad3-e6e2-4672-a52e-eac3ac1cc3fa\" xlink:actuate=\"onRequest\" xlink:href=\"psysml:2f9cfad3-e6e2-4672-a52e-eac3ac1cc3fa\" xlink:show=\"new\" xlink:title=\"psysml:2f9cfad3-e6e2-4672-a52e-eac3ac1cc3fa\" xlink:type=\"simple\"><polygon fill=\"#FFFFFF\" points=\"297,256,387,256,394,278.2969,401,278.2969,401,308.5938,297,308.5938,297,256\" style=\"stroke: #000000; stroke-width: 1.5;\"/><line style=\"stroke: #000000; stroke-width: 1.5;\" x1=\"297\" x2=\"394\" y1=\"278.2969\" y2=\"278.2969\"/><text fill=\"#000000\" font-family=\"sans-serif\" font-size=\"14\" font-weight=\"bold\" lengthAdjust=\"spacingAndGlyphs\" textLength=\"84\" x=\"301\" y=\"270.9951\">Data Layer</text></a><!--MD5=[af87c684e3b0d8be13c1a698a818ef1e]\n",
       "link E3 to E4--><a href=\"psysml:dea4bf7d-7df0-4a98-b0a8-ad3094fe796e\" target=\"_top\" title=\"psysml:dea4bf7d-7df0-4a98-b0a8-ad3094fe796e\" xlink:actuate=\"onRequest\" xlink:href=\"psysml:dea4bf7d-7df0-4a98-b0a8-ad3094fe796e\" xlink:show=\"new\" xlink:title=\"psysml:dea4bf7d-7df0-4a98-b0a8-ad3094fe796e\" xlink:type=\"simple\"><path d=\"M349,137.16 C349,144.98 349,153.69 349,161.94 \" fill=\"none\" id=\"E3-&gt;E4\" style=\"stroke: #383838; stroke-width: 1.0; stroke-dasharray: 7.0,7.0;\"/><polygon fill=\"#383838\" points=\"349,170,352,162,346,162,349,170\" style=\"stroke: #383838; stroke-width: 1.0;\"/><text fill=\"#000000\" font-family=\"sans-serif\" font-size=\"13\" lengthAdjust=\"spacingAndGlyphs\" textLength=\"64\" x=\"350\" y=\"158.0669\">«depend»</text></a><!--MD5=[1b7591eae5389033d8d09a9d6721a717]\n",
       "link E4 to E5--><a href=\"psysml:6c12c767-a343-4222-b71b-448a215deadc\" target=\"_top\" title=\"psysml:6c12c767-a343-4222-b71b-448a215deadc\" xlink:actuate=\"onRequest\" xlink:href=\"psysml:6c12c767-a343-4222-b71b-448a215deadc\" xlink:show=\"new\" xlink:title=\"psysml:6c12c767-a343-4222-b71b-448a215deadc\" xlink:type=\"simple\"><path d=\"M349,223.16 C349,230.98 349,239.69 349,247.94 \" fill=\"none\" id=\"E4-&gt;E5\" style=\"stroke: #383838; stroke-width: 1.0; stroke-dasharray: 7.0,7.0;\"/><polygon fill=\"#383838\" points=\"349,256,352,248,346,248,349,256\" style=\"stroke: #383838; stroke-width: 1.0;\"/><text fill=\"#000000\" font-family=\"sans-serif\" font-size=\"13\" lengthAdjust=\"spacingAndGlyphs\" textLength=\"64\" x=\"350\" y=\"244.0669\">«depend»</text></a><!--MD5=[c5e8897d989ce984f93528998a7150fe]\n",
       "link E8 to E6--><a href=\"psysml:2c14e4ca-efb9-4e12-a147-b41b8d65befc\" target=\"_top\" title=\"psysml:2c14e4ca-efb9-4e12-a147-b41b8d65befc\" xlink:actuate=\"onRequest\" xlink:href=\"psysml:2c14e4ca-efb9-4e12-a147-b41b8d65befc\" xlink:show=\"new\" xlink:title=\"psysml:2c14e4ca-efb9-4e12-a147-b41b8d65befc\" xlink:type=\"simple\"><path d=\"M84.49,125.34 C76.34,130.27 68.69,136.72 64,145 C60.54,151.1 59.62,158.31 60,165.33 \" fill=\"none\" id=\"E8-&gt;E6\" style=\"stroke: #383838; stroke-width: 1.0; stroke-dasharray: 7.0,7.0;\"/><polygon fill=\"#383838\" points=\"60.97,173.42,63.0061,165.1221,57.0479,165.8294,60.97,173.42\" style=\"stroke: #383838; stroke-width: 1.0;\"/><text fill=\"#000000\" font-family=\"sans-serif\" font-size=\"13\" lengthAdjust=\"spacingAndGlyphs\" textLength=\"64\" x=\"65\" y=\"158.0669\">«depend»</text></a><!--MD5=[bfa3c8b0d15052fdf50ae9310b491027]\n",
       "link E8 to E7--><a href=\"psysml:2c14e4ca-efb9-4e12-a147-b41b8d65befc\" target=\"_top\" title=\"psysml:2c14e4ca-efb9-4e12-a147-b41b8d65befc\" xlink:actuate=\"onRequest\" xlink:href=\"psysml:2c14e4ca-efb9-4e12-a147-b41b8d65befc\" xlink:show=\"new\" xlink:title=\"psysml:2c14e4ca-efb9-4e12-a147-b41b8d65befc\" xlink:type=\"simple\"><path d=\"M134.19,133.57 C140.65,143.62 148.38,155.65 155.31,166.42 \" fill=\"none\" id=\"E8-&gt;E7\" style=\"stroke: #383838; stroke-width: 1.0; stroke-dasharray: 7.0,7.0;\"/><polygon fill=\"#383838\" points=\"159.72,173.29,157.9148,164.9389,152.8688,168.185,159.72,173.29\" style=\"stroke: #383838; stroke-width: 1.0;\"/><text fill=\"#000000\" font-family=\"sans-serif\" font-size=\"13\" lengthAdjust=\"spacingAndGlyphs\" textLength=\"64\" x=\"152\" y=\"158.0669\">«depend»</text></a><!--MD5=[cddd84bbd820156211ceb497607a4cc2]\n",
       "@startuml\r\n",
       "skinparam ranksep 10\r\n",
       "skinparam rectangle {\r\n",
       " backgroundColor<<block>> LightGreen\r\n",
       "}\r\n",
       " skinparam monochrome true\r\n",
       "skinparam classbackgroundcolor white\r\n",
       "skinparam shadowing false\r\n",
       "skinparam wrapWidth 300\r\n",
       "hide circle\r\n",
       "\r\n",
       "package \"DependencyTest\" as E1  [[psysml:cce2acdd-5299-4277-a359-760a7748f1a5 ]]  {\r\n",
       "package \"System\" as E2  [[psysml:fe0450d0-807d-48bf-914f-f99eea0aac67 ]]  {\r\n",
       "package \"Application Layer\" as E3  [[psysml:b4c6803f-b500-4ed2-a89b-7b27b2a9486d ]]  {\r\n",
       "}\r\n",
       "package \"Service Layer\" as E4  [[psysml:66b88940-ae34-45ae-8eaf-0df380551b61 ]]  {\r\n",
       "}\r\n",
       "package \"Data Layer\" as E5  [[psysml:2f9cfad3-e6e2-4672-a52e-eac3ac1cc3fa ]]  {\r\n",
       "}\r\n",
       "}\r\n",
       "comp usage \"x\" as E6  <<(T,blue)attribute>> [[psysml:627607da-451a-45ac-bf2e-8d18d85231b1 ]] {\r\n",
       "}\r\n",
       "comp usage \"y\" as E7  <<(T,blue)attribute>> [[psysml:b8e81d8b-4779-47a3-b21f-b5cec6a6f06b ]] {\r\n",
       "}\r\n",
       "comp usage \"z\" as E8  <<(T,blue)attribute>> [[psysml:ff5b6b09-567c-4f7f-ac5d-5252b0115c49 ]] {\r\n",
       "}\r\n",
       "E3 ..>> E4 [[psysml:dea4bf7d-7df0-4a98-b0a8-ad3094fe796e ]] : <<depend>>\r\n",
       "E4 ..>> E5 [[psysml:6c12c767-a343-4222-b71b-448a215deadc ]] : <<depend>>\r\n",
       "E8 ..>> E6 [[psysml:2c14e4ca-efb9-4e12-a147-b41b8d65befc ]] : <<depend>>\r\n",
       "E8 ..>> E7 [[psysml:2c14e4ca-efb9-4e12-a147-b41b8d65befc ]] : <<depend>>\r\n",
       "}\r\n",
       "@enduml\r\n",
       "\n",
       "PlantUML version 1.2020.13(Sat Jun 13 12:26:38 UTC 2020)\n",
       "(EPL source distribution)\n",
       "Java Runtime: OpenJDK Runtime Environment\n",
       "JVM: OpenJDK 64-Bit Server VM\n",
       "Default Encoding: UTF-8\n",
       "Language: en\n",
       "Country: null\n",
       "--></g></svg>"
      ]
     },
     "execution_count": 5,
     "metadata": {},
     "output_type": "execute_result"
    }
   ],
   "source": [
    "%viz --style=\"COMPTREE\" --view=\"Interconnection\" \"DependencyTest\""
   ]
  },
  {
   "cell_type": "code",
   "execution_count": 6,
   "id": "4ff1c111",
   "metadata": {
    "execution": {
     "iopub.execute_input": "2021-05-28T10:49:36.461706Z",
     "iopub.status.busy": "2021-05-28T10:49:36.461250Z",
     "iopub.status.idle": "2021-05-28T10:49:36.468576Z",
     "shell.execute_reply": "2021-05-28T10:49:36.468310Z"
    }
   },
   "outputs": [
    {
     "data": {
      "image/svg+xml": [
       "<?xml version=\"1.0\" encoding=\"UTF-8\" standalone=\"no\"?><svg xmlns=\"http://www.w3.org/2000/svg\" xmlns:xlink=\"http://www.w3.org/1999/xlink\" contentScriptType=\"application/ecmascript\" contentStyleType=\"text/css\" height=\"12px\" preserveAspectRatio=\"none\" style=\"width:12px;height:12px;\" version=\"1.1\" viewBox=\"0 0 12 12\" width=\"12px\" zoomAndPan=\"magnify\"><defs/><g><!--MD5=[655b888544ca4751ea36af1068543f84]\n",
       "@startuml\r\n",
       "skinparam ranksep 8\r\n",
       " skinparam monochrome true\r\n",
       "skinparam classbackgroundcolor white\r\n",
       "skinparam shadowing false\r\n",
       "skinparam wrapWidth 300\r\n",
       "hide circle\r\n",
       "\r\n",
       "@enduml\r\n",
       "\n",
       "PlantUML version 1.2020.13(Sat Jun 13 12:26:38 UTC 2020)\n",
       "(EPL source distribution)\n",
       "Java Runtime: OpenJDK Runtime Environment\n",
       "JVM: OpenJDK 64-Bit Server VM\n",
       "Default Encoding: UTF-8\n",
       "Language: en\n",
       "Country: null\n",
       "--></g></svg>"
      ]
     },
     "execution_count": 6,
     "metadata": {},
     "output_type": "execute_result"
    }
   ],
   "source": [
    "%viz --style=\"COMPTREE\" --view=\"Action\" \"DependencyTest\""
   ]
  },
  {
   "cell_type": "code",
   "execution_count": 7,
   "id": "3415eeb9",
   "metadata": {
    "execution": {
     "iopub.execute_input": "2021-05-28T10:49:36.520111Z",
     "iopub.status.busy": "2021-05-28T10:49:36.519471Z",
     "iopub.status.idle": "2021-05-28T10:49:36.573785Z",
     "shell.execute_reply": "2021-05-28T10:49:36.573063Z"
    }
   },
   "outputs": [
    {
     "data": {
      "image/svg+xml": [
       "<?xml version=\"1.0\" encoding=\"UTF-8\" standalone=\"no\"?><svg xmlns=\"http://www.w3.org/2000/svg\" xmlns:xlink=\"http://www.w3.org/1999/xlink\" contentScriptType=\"application/ecmascript\" contentStyleType=\"text/css\" height=\"449px\" preserveAspectRatio=\"none\" style=\"width:489px;height:449px;\" version=\"1.1\" viewBox=\"0 0 489 449\" width=\"489px\" zoomAndPan=\"magnify\"><defs/><g><!--MD5=[fbc87193dbaf4d95561dea2c320d4a47]\n",
       "cluster E1--><a href=\"psysml:cce2acdd-5299-4277-a359-760a7748f1a5\" target=\"_top\" title=\"psysml:cce2acdd-5299-4277-a359-760a7748f1a5\" xlink:actuate=\"onRequest\" xlink:href=\"psysml:cce2acdd-5299-4277-a359-760a7748f1a5\" xlink:show=\"new\" xlink:title=\"psysml:cce2acdd-5299-4277-a359-760a7748f1a5\" xlink:type=\"simple\"><polygon fill=\"#FFFFFF\" points=\"16,6,156,6,163,28.2969,467,28.2969,467,437,16,437,16,6\" style=\"stroke: #000000; stroke-width: 1.5;\"/><line style=\"stroke: #000000; stroke-width: 1.5;\" x1=\"16\" x2=\"163\" y1=\"28.2969\" y2=\"28.2969\"/><text fill=\"#000000\" font-family=\"sans-serif\" font-size=\"14\" font-weight=\"bold\" lengthAdjust=\"spacingAndGlyphs\" textLength=\"134\" x=\"20\" y=\"20.9951\">DependencyTest</text></a><!--MD5=[e4f7fae6ed58524ba242bb0b0d3be6b7]\n",
       "cluster E2--><a href=\"psysml:fe0450d0-807d-48bf-914f-f99eea0aac67\" target=\"_top\" title=\"psysml:fe0450d0-807d-48bf-914f-f99eea0aac67\" xlink:actuate=\"onRequest\" xlink:href=\"psysml:fe0450d0-807d-48bf-914f-f99eea0aac67\" xlink:show=\"new\" xlink:title=\"psysml:fe0450d0-807d-48bf-914f-f99eea0aac67\" xlink:type=\"simple\"><polygon fill=\"#FFFFFF\" points=\"255,49,319,49,326,71.2969,443,71.2969,443,413,255,413,255,49\" style=\"stroke: #000000; stroke-width: 1.5;\"/><line style=\"stroke: #000000; stroke-width: 1.5;\" x1=\"255\" x2=\"326\" y1=\"71.2969\" y2=\"71.2969\"/><text fill=\"#000000\" font-family=\"sans-serif\" font-size=\"14\" font-weight=\"bold\" lengthAdjust=\"spacingAndGlyphs\" textLength=\"58\" x=\"259\" y=\"63.9951\">System</text></a><!--MD5=[60a26617385b1d2d0262a64233df1f8d]\n",
       "class E6--><a href=\"psysml:627607da-451a-45ac-bf2e-8d18d85231b1\" target=\"_top\" title=\"psysml:627607da-451a-45ac-bf2e-8d18d85231b1\" xlink:actuate=\"onRequest\" xlink:href=\"psysml:627607da-451a-45ac-bf2e-8d18d85231b1\" xlink:show=\"new\" xlink:title=\"psysml:627607da-451a-45ac-bf2e-8d18d85231b1\" xlink:type=\"simple\"><rect fill=\"#FFFFFF\" height=\"45.9375\" id=\"E6\" rx=\"10\" ry=\"10\" style=\"stroke: #383838; stroke-width: 1.5;\" width=\"71\" x=\"32.5\" y=\"217.5\"/><text fill=\"#000000\" font-family=\"sans-serif\" font-size=\"12\" font-style=\"italic\" lengthAdjust=\"spacingAndGlyphs\" textLength=\"69\" x=\"33.5\" y=\"233.6387\">«attribute»</text><text fill=\"#000000\" font-family=\"sans-serif\" font-size=\"12\" lengthAdjust=\"spacingAndGlyphs\" textLength=\"6\" x=\"65\" y=\"247.6074\">x</text><line style=\"stroke: #383838; stroke-width: 1.5;\" x1=\"33.5\" x2=\"102.5\" y1=\"255.4375\" y2=\"255.4375\"/></a><!--MD5=[2156ba9850f5573cc1fc38a6a4b2f02b]\n",
       "class E7--><a href=\"psysml:b8e81d8b-4779-47a3-b21f-b5cec6a6f06b\" target=\"_top\" title=\"psysml:b8e81d8b-4779-47a3-b21f-b5cec6a6f06b\" xlink:actuate=\"onRequest\" xlink:href=\"psysml:b8e81d8b-4779-47a3-b21f-b5cec6a6f06b\" xlink:show=\"new\" xlink:title=\"psysml:b8e81d8b-4779-47a3-b21f-b5cec6a6f06b\" xlink:type=\"simple\"><rect fill=\"#FFFFFF\" height=\"45.9375\" id=\"E7\" rx=\"10\" ry=\"10\" style=\"stroke: #383838; stroke-width: 1.5;\" width=\"71\" x=\"138.5\" y=\"217.5\"/><text fill=\"#000000\" font-family=\"sans-serif\" font-size=\"12\" font-style=\"italic\" lengthAdjust=\"spacingAndGlyphs\" textLength=\"69\" x=\"139.5\" y=\"233.6387\">«attribute»</text><text fill=\"#000000\" font-family=\"sans-serif\" font-size=\"12\" lengthAdjust=\"spacingAndGlyphs\" textLength=\"6\" x=\"171\" y=\"247.6074\">y</text><line style=\"stroke: #383838; stroke-width: 1.5;\" x1=\"139.5\" x2=\"208.5\" y1=\"255.4375\" y2=\"255.4375\"/></a><!--MD5=[b9389687b975829384b498ac4b7476b2]\n",
       "class E8--><a href=\"psysml:ff5b6b09-567c-4f7f-ac5d-5252b0115c49\" target=\"_top\" title=\"psysml:ff5b6b09-567c-4f7f-ac5d-5252b0115c49\" xlink:actuate=\"onRequest\" xlink:href=\"psysml:ff5b6b09-567c-4f7f-ac5d-5252b0115c49\" xlink:show=\"new\" xlink:title=\"psysml:ff5b6b09-567c-4f7f-ac5d-5252b0115c49\" xlink:type=\"simple\"><rect fill=\"#FFFFFF\" height=\"45.9375\" id=\"E8\" rx=\"10\" ry=\"10\" style=\"stroke: #383838; stroke-width: 1.5;\" width=\"71\" x=\"84.5\" y=\"87.5\"/><text fill=\"#000000\" font-family=\"sans-serif\" font-size=\"12\" font-style=\"italic\" lengthAdjust=\"spacingAndGlyphs\" textLength=\"69\" x=\"85.5\" y=\"103.6387\">«attribute»</text><text fill=\"#000000\" font-family=\"sans-serif\" font-size=\"12\" lengthAdjust=\"spacingAndGlyphs\" textLength=\"5\" x=\"117.5\" y=\"117.6074\">z</text><line style=\"stroke: #383838; stroke-width: 1.5;\" x1=\"85.5\" x2=\"154.5\" y1=\"125.4375\" y2=\"125.4375\"/></a><a href=\"psysml:b4c6803f-b500-4ed2-a89b-7b27b2a9486d\" target=\"_top\" title=\"psysml:b4c6803f-b500-4ed2-a89b-7b27b2a9486d\" xlink:actuate=\"onRequest\" xlink:href=\"psysml:b4c6803f-b500-4ed2-a89b-7b27b2a9486d\" xlink:show=\"new\" xlink:title=\"psysml:b4c6803f-b500-4ed2-a89b-7b27b2a9486d\" xlink:type=\"simple\"><polygon fill=\"#FFFFFF\" points=\"271,84,413,84,420,106.2969,427,106.2969,427,136.5938,271,136.5938,271,84\" style=\"stroke: #000000; stroke-width: 1.5;\"/><line style=\"stroke: #000000; stroke-width: 1.5;\" x1=\"271\" x2=\"420\" y1=\"106.2969\" y2=\"106.2969\"/><text fill=\"#000000\" font-family=\"sans-serif\" font-size=\"14\" font-weight=\"bold\" lengthAdjust=\"spacingAndGlyphs\" textLength=\"136\" x=\"275\" y=\"98.9951\">Application Layer</text></a><a href=\"psysml:66b88940-ae34-45ae-8eaf-0df380551b61\" target=\"_top\" title=\"psysml:66b88940-ae34-45ae-8eaf-0df380551b61\" xlink:actuate=\"onRequest\" xlink:href=\"psysml:66b88940-ae34-45ae-8eaf-0df380551b61\" xlink:show=\"new\" xlink:title=\"psysml:66b88940-ae34-45ae-8eaf-0df380551b61\" xlink:type=\"simple\"><polygon fill=\"#FFFFFF\" points=\"285,214,399,214,406,236.2969,413,236.2969,413,266.5938,285,266.5938,285,214\" style=\"stroke: #000000; stroke-width: 1.5;\"/><line style=\"stroke: #000000; stroke-width: 1.5;\" x1=\"285\" x2=\"406\" y1=\"236.2969\" y2=\"236.2969\"/><text fill=\"#000000\" font-family=\"sans-serif\" font-size=\"14\" font-weight=\"bold\" lengthAdjust=\"spacingAndGlyphs\" textLength=\"108\" x=\"289\" y=\"228.9951\">Service Layer</text></a><a href=\"psysml:2f9cfad3-e6e2-4672-a52e-eac3ac1cc3fa\" target=\"_top\" title=\"psysml:2f9cfad3-e6e2-4672-a52e-eac3ac1cc3fa\" xlink:actuate=\"onRequest\" xlink:href=\"psysml:2f9cfad3-e6e2-4672-a52e-eac3ac1cc3fa\" xlink:show=\"new\" xlink:title=\"psysml:2f9cfad3-e6e2-4672-a52e-eac3ac1cc3fa\" xlink:type=\"simple\"><polygon fill=\"#FFFFFF\" points=\"297,344,387,344,394,366.2969,401,366.2969,401,396.5938,297,396.5938,297,344\" style=\"stroke: #000000; stroke-width: 1.5;\"/><line style=\"stroke: #000000; stroke-width: 1.5;\" x1=\"297\" x2=\"394\" y1=\"366.2969\" y2=\"366.2969\"/><text fill=\"#000000\" font-family=\"sans-serif\" font-size=\"14\" font-weight=\"bold\" lengthAdjust=\"spacingAndGlyphs\" textLength=\"84\" x=\"301\" y=\"358.9951\">Data Layer</text></a><!--MD5=[af87c684e3b0d8be13c1a698a818ef1e]\n",
       "link E3 to E4--><a href=\"psysml:dea4bf7d-7df0-4a98-b0a8-ad3094fe796e\" target=\"_top\" title=\"psysml:dea4bf7d-7df0-4a98-b0a8-ad3094fe796e\" xlink:actuate=\"onRequest\" xlink:href=\"psysml:dea4bf7d-7df0-4a98-b0a8-ad3094fe796e\" xlink:show=\"new\" xlink:title=\"psysml:dea4bf7d-7df0-4a98-b0a8-ad3094fe796e\" xlink:type=\"simple\"><path d=\"M349,137.1 C349,156.8 349,184.22 349,205.73 \" fill=\"none\" id=\"E3-&gt;E4\" style=\"stroke: #383838; stroke-width: 1.0; stroke-dasharray: 7.0,7.0;\"/><polygon fill=\"#383838\" points=\"349,213.95,352,205.95,346,205.95,349,213.95\" style=\"stroke: #383838; stroke-width: 1.0;\"/><text fill=\"#000000\" font-family=\"sans-serif\" font-size=\"13\" lengthAdjust=\"spacingAndGlyphs\" textLength=\"64\" x=\"350\" y=\"180.0669\">«depend»</text></a><!--MD5=[1b7591eae5389033d8d09a9d6721a717]\n",
       "link E4 to E5--><a href=\"psysml:6c12c767-a343-4222-b71b-448a215deadc\" target=\"_top\" title=\"psysml:6c12c767-a343-4222-b71b-448a215deadc\" xlink:actuate=\"onRequest\" xlink:href=\"psysml:6c12c767-a343-4222-b71b-448a215deadc\" xlink:show=\"new\" xlink:title=\"psysml:6c12c767-a343-4222-b71b-448a215deadc\" xlink:type=\"simple\"><path d=\"M349,267.1 C349,286.8 349,314.22 349,335.73 \" fill=\"none\" id=\"E4-&gt;E5\" style=\"stroke: #383838; stroke-width: 1.0; stroke-dasharray: 7.0,7.0;\"/><polygon fill=\"#383838\" points=\"349,343.95,352,335.95,346,335.95,349,343.95\" style=\"stroke: #383838; stroke-width: 1.0;\"/><text fill=\"#000000\" font-family=\"sans-serif\" font-size=\"13\" lengthAdjust=\"spacingAndGlyphs\" textLength=\"64\" x=\"350\" y=\"310.0669\">«depend»</text></a><!--MD5=[c5e8897d989ce984f93528998a7150fe]\n",
       "link E8 to E6--><a href=\"psysml:2c14e4ca-efb9-4e12-a147-b41b8d65befc\" target=\"_top\" title=\"psysml:2c14e4ca-efb9-4e12-a147-b41b8d65befc\" xlink:actuate=\"onRequest\" xlink:href=\"psysml:2c14e4ca-efb9-4e12-a147-b41b8d65befc\" xlink:show=\"new\" xlink:title=\"psysml:2c14e4ca-efb9-4e12-a147-b41b8d65befc\" xlink:type=\"simple\"><path d=\"M89.42,133.6 C79.35,142.68 69.37,154.11 64,167 C58.5,180.2 58.66,195.94 60.54,209.38 \" fill=\"none\" id=\"E8-&gt;E6\" style=\"stroke: #383838; stroke-width: 1.0; stroke-dasharray: 7.0,7.0;\"/><polygon fill=\"#383838\" points=\"61.9,217.4,63.517,209.0104,57.6018,210.0159,61.9,217.4\" style=\"stroke: #383838; stroke-width: 1.0;\"/><text fill=\"#000000\" font-family=\"sans-serif\" font-size=\"13\" lengthAdjust=\"spacingAndGlyphs\" textLength=\"64\" x=\"65\" y=\"180.0669\">«depend»</text></a><!--MD5=[bfa3c8b0d15052fdf50ae9310b491027]\n",
       "link E8 to E7--><a href=\"psysml:2c14e4ca-efb9-4e12-a147-b41b8d65befc\" target=\"_top\" title=\"psysml:2c14e4ca-efb9-4e12-a147-b41b8d65befc\" xlink:actuate=\"onRequest\" xlink:href=\"psysml:2c14e4ca-efb9-4e12-a147-b41b8d65befc\" xlink:show=\"new\" xlink:title=\"psysml:2c14e4ca-efb9-4e12-a147-b41b8d65befc\" xlink:type=\"simple\"><path d=\"M129.28,133.5 C138.17,154.57 151.64,186.5 161.47,209.81 \" fill=\"none\" id=\"E8-&gt;E7\" style=\"stroke: #383838; stroke-width: 1.0; stroke-dasharray: 7.0,7.0;\"/><polygon fill=\"#383838\" points=\"164.66,217.35,164.3241,208.8126,158.7933,211.1385,164.66,217.35\" style=\"stroke: #383838; stroke-width: 1.0;\"/><text fill=\"#000000\" font-family=\"sans-serif\" font-size=\"13\" lengthAdjust=\"spacingAndGlyphs\" textLength=\"64\" x=\"151\" y=\"180.0669\">«depend»</text></a><!--MD5=[cccab57dafe6c42a1ad2b2d0a54baaa7]\n",
       "@startuml\r\n",
       " skinparam monochrome true\r\n",
       "skinparam classbackgroundcolor white\r\n",
       "skinparam shadowing false\r\n",
       "skinparam wrapWidth 300\r\n",
       "hide circle\r\n",
       "\r\n",
       "package \"DependencyTest\" as E1  [[psysml:cce2acdd-5299-4277-a359-760a7748f1a5 ]]  {\r\n",
       "package \"System\" as E2  [[psysml:fe0450d0-807d-48bf-914f-f99eea0aac67 ]]  {\r\n",
       "package \"Application Layer\" as E3  [[psysml:b4c6803f-b500-4ed2-a89b-7b27b2a9486d ]]  {\r\n",
       "}\r\n",
       "package \"Service Layer\" as E4  [[psysml:66b88940-ae34-45ae-8eaf-0df380551b61 ]]  {\r\n",
       "}\r\n",
       "package \"Data Layer\" as E5  [[psysml:2f9cfad3-e6e2-4672-a52e-eac3ac1cc3fa ]]  {\r\n",
       "}\r\n",
       "}\r\n",
       "comp usage \"x\" as E6  <<(T,blue)attribute>> [[psysml:627607da-451a-45ac-bf2e-8d18d85231b1 ]] {\r\n",
       "}\r\n",
       "comp usage \"y\" as E7  <<(T,blue)attribute>> [[psysml:b8e81d8b-4779-47a3-b21f-b5cec6a6f06b ]] {\r\n",
       "}\r\n",
       "comp usage \"z\" as E8  <<(T,blue)attribute>> [[psysml:ff5b6b09-567c-4f7f-ac5d-5252b0115c49 ]] {\r\n",
       "}\r\n",
       "E3 ..>> E4 [[psysml:dea4bf7d-7df0-4a98-b0a8-ad3094fe796e ]] : <<depend>>\r\n",
       "E4 ..>> E5 [[psysml:6c12c767-a343-4222-b71b-448a215deadc ]] : <<depend>>\r\n",
       "E8 ..>> E6 [[psysml:2c14e4ca-efb9-4e12-a147-b41b8d65befc ]] : <<depend>>\r\n",
       "E8 ..>> E7 [[psysml:2c14e4ca-efb9-4e12-a147-b41b8d65befc ]] : <<depend>>\r\n",
       "}\r\n",
       "@enduml\r\n",
       "\n",
       "PlantUML version 1.2020.13(Sat Jun 13 12:26:38 UTC 2020)\n",
       "(EPL source distribution)\n",
       "Java Runtime: OpenJDK Runtime Environment\n",
       "JVM: OpenJDK 64-Bit Server VM\n",
       "Default Encoding: UTF-8\n",
       "Language: en\n",
       "Country: null\n",
       "--></g></svg>"
      ]
     },
     "execution_count": 7,
     "metadata": {},
     "output_type": "execute_result"
    }
   ],
   "source": [
    "%viz --style=\"COMPTREE\" --view=\"Sequence\" \"DependencyTest\""
   ]
  },
  {
   "cell_type": "code",
   "execution_count": 8,
   "id": "c3865917",
   "metadata": {
    "execution": {
     "iopub.execute_input": "2021-05-28T10:49:36.628836Z",
     "iopub.status.busy": "2021-05-28T10:49:36.627382Z",
     "iopub.status.idle": "2021-05-28T10:49:36.679361Z",
     "shell.execute_reply": "2021-05-28T10:49:36.678411Z"
    }
   },
   "outputs": [
    {
     "data": {
      "image/svg+xml": [
       "<?xml version=\"1.0\" encoding=\"UTF-8\" standalone=\"no\"?><svg xmlns=\"http://www.w3.org/2000/svg\" xmlns:xlink=\"http://www.w3.org/1999/xlink\" contentScriptType=\"application/ecmascript\" contentStyleType=\"text/css\" height=\"449px\" preserveAspectRatio=\"none\" style=\"width:489px;height:449px;\" version=\"1.1\" viewBox=\"0 0 489 449\" width=\"489px\" zoomAndPan=\"magnify\"><defs/><g><!--MD5=[fbc87193dbaf4d95561dea2c320d4a47]\n",
       "cluster E1--><a href=\"psysml:cce2acdd-5299-4277-a359-760a7748f1a5\" target=\"_top\" title=\"psysml:cce2acdd-5299-4277-a359-760a7748f1a5\" xlink:actuate=\"onRequest\" xlink:href=\"psysml:cce2acdd-5299-4277-a359-760a7748f1a5\" xlink:show=\"new\" xlink:title=\"psysml:cce2acdd-5299-4277-a359-760a7748f1a5\" xlink:type=\"simple\"><polygon fill=\"#FFFFFF\" points=\"16,6,156,6,163,28.2969,467,28.2969,467,437,16,437,16,6\" style=\"stroke: #000000; stroke-width: 1.5;\"/><line style=\"stroke: #000000; stroke-width: 1.5;\" x1=\"16\" x2=\"163\" y1=\"28.2969\" y2=\"28.2969\"/><text fill=\"#000000\" font-family=\"sans-serif\" font-size=\"14\" font-weight=\"bold\" lengthAdjust=\"spacingAndGlyphs\" textLength=\"134\" x=\"20\" y=\"20.9951\">DependencyTest</text></a><!--MD5=[e4f7fae6ed58524ba242bb0b0d3be6b7]\n",
       "cluster E2--><a href=\"psysml:fe0450d0-807d-48bf-914f-f99eea0aac67\" target=\"_top\" title=\"psysml:fe0450d0-807d-48bf-914f-f99eea0aac67\" xlink:actuate=\"onRequest\" xlink:href=\"psysml:fe0450d0-807d-48bf-914f-f99eea0aac67\" xlink:show=\"new\" xlink:title=\"psysml:fe0450d0-807d-48bf-914f-f99eea0aac67\" xlink:type=\"simple\"><polygon fill=\"#FFFFFF\" points=\"255,49,319,49,326,71.2969,443,71.2969,443,413,255,413,255,49\" style=\"stroke: #000000; stroke-width: 1.5;\"/><line style=\"stroke: #000000; stroke-width: 1.5;\" x1=\"255\" x2=\"326\" y1=\"71.2969\" y2=\"71.2969\"/><text fill=\"#000000\" font-family=\"sans-serif\" font-size=\"14\" font-weight=\"bold\" lengthAdjust=\"spacingAndGlyphs\" textLength=\"58\" x=\"259\" y=\"63.9951\">System</text></a><!--MD5=[60a26617385b1d2d0262a64233df1f8d]\n",
       "class E6--><a href=\"psysml:627607da-451a-45ac-bf2e-8d18d85231b1\" target=\"_top\" title=\"psysml:627607da-451a-45ac-bf2e-8d18d85231b1\" xlink:actuate=\"onRequest\" xlink:href=\"psysml:627607da-451a-45ac-bf2e-8d18d85231b1\" xlink:show=\"new\" xlink:title=\"psysml:627607da-451a-45ac-bf2e-8d18d85231b1\" xlink:type=\"simple\"><rect fill=\"#FFFFFF\" height=\"45.9375\" id=\"E6\" rx=\"10\" ry=\"10\" style=\"stroke: #383838; stroke-width: 1.5;\" width=\"71\" x=\"32.5\" y=\"217.5\"/><text fill=\"#000000\" font-family=\"sans-serif\" font-size=\"12\" font-style=\"italic\" lengthAdjust=\"spacingAndGlyphs\" textLength=\"69\" x=\"33.5\" y=\"233.6387\">«attribute»</text><text fill=\"#000000\" font-family=\"sans-serif\" font-size=\"12\" lengthAdjust=\"spacingAndGlyphs\" textLength=\"6\" x=\"65\" y=\"247.6074\">x</text><line style=\"stroke: #383838; stroke-width: 1.5;\" x1=\"33.5\" x2=\"102.5\" y1=\"255.4375\" y2=\"255.4375\"/></a><!--MD5=[2156ba9850f5573cc1fc38a6a4b2f02b]\n",
       "class E7--><a href=\"psysml:b8e81d8b-4779-47a3-b21f-b5cec6a6f06b\" target=\"_top\" title=\"psysml:b8e81d8b-4779-47a3-b21f-b5cec6a6f06b\" xlink:actuate=\"onRequest\" xlink:href=\"psysml:b8e81d8b-4779-47a3-b21f-b5cec6a6f06b\" xlink:show=\"new\" xlink:title=\"psysml:b8e81d8b-4779-47a3-b21f-b5cec6a6f06b\" xlink:type=\"simple\"><rect fill=\"#FFFFFF\" height=\"45.9375\" id=\"E7\" rx=\"10\" ry=\"10\" style=\"stroke: #383838; stroke-width: 1.5;\" width=\"71\" x=\"138.5\" y=\"217.5\"/><text fill=\"#000000\" font-family=\"sans-serif\" font-size=\"12\" font-style=\"italic\" lengthAdjust=\"spacingAndGlyphs\" textLength=\"69\" x=\"139.5\" y=\"233.6387\">«attribute»</text><text fill=\"#000000\" font-family=\"sans-serif\" font-size=\"12\" lengthAdjust=\"spacingAndGlyphs\" textLength=\"6\" x=\"171\" y=\"247.6074\">y</text><line style=\"stroke: #383838; stroke-width: 1.5;\" x1=\"139.5\" x2=\"208.5\" y1=\"255.4375\" y2=\"255.4375\"/></a><!--MD5=[b9389687b975829384b498ac4b7476b2]\n",
       "class E8--><a href=\"psysml:ff5b6b09-567c-4f7f-ac5d-5252b0115c49\" target=\"_top\" title=\"psysml:ff5b6b09-567c-4f7f-ac5d-5252b0115c49\" xlink:actuate=\"onRequest\" xlink:href=\"psysml:ff5b6b09-567c-4f7f-ac5d-5252b0115c49\" xlink:show=\"new\" xlink:title=\"psysml:ff5b6b09-567c-4f7f-ac5d-5252b0115c49\" xlink:type=\"simple\"><rect fill=\"#FFFFFF\" height=\"45.9375\" id=\"E8\" rx=\"10\" ry=\"10\" style=\"stroke: #383838; stroke-width: 1.5;\" width=\"71\" x=\"84.5\" y=\"87.5\"/><text fill=\"#000000\" font-family=\"sans-serif\" font-size=\"12\" font-style=\"italic\" lengthAdjust=\"spacingAndGlyphs\" textLength=\"69\" x=\"85.5\" y=\"103.6387\">«attribute»</text><text fill=\"#000000\" font-family=\"sans-serif\" font-size=\"12\" lengthAdjust=\"spacingAndGlyphs\" textLength=\"5\" x=\"117.5\" y=\"117.6074\">z</text><line style=\"stroke: #383838; stroke-width: 1.5;\" x1=\"85.5\" x2=\"154.5\" y1=\"125.4375\" y2=\"125.4375\"/></a><a href=\"psysml:b4c6803f-b500-4ed2-a89b-7b27b2a9486d\" target=\"_top\" title=\"psysml:b4c6803f-b500-4ed2-a89b-7b27b2a9486d\" xlink:actuate=\"onRequest\" xlink:href=\"psysml:b4c6803f-b500-4ed2-a89b-7b27b2a9486d\" xlink:show=\"new\" xlink:title=\"psysml:b4c6803f-b500-4ed2-a89b-7b27b2a9486d\" xlink:type=\"simple\"><polygon fill=\"#FFFFFF\" points=\"271,84,413,84,420,106.2969,427,106.2969,427,136.5938,271,136.5938,271,84\" style=\"stroke: #000000; stroke-width: 1.5;\"/><line style=\"stroke: #000000; stroke-width: 1.5;\" x1=\"271\" x2=\"420\" y1=\"106.2969\" y2=\"106.2969\"/><text fill=\"#000000\" font-family=\"sans-serif\" font-size=\"14\" font-weight=\"bold\" lengthAdjust=\"spacingAndGlyphs\" textLength=\"136\" x=\"275\" y=\"98.9951\">Application Layer</text></a><a href=\"psysml:66b88940-ae34-45ae-8eaf-0df380551b61\" target=\"_top\" title=\"psysml:66b88940-ae34-45ae-8eaf-0df380551b61\" xlink:actuate=\"onRequest\" xlink:href=\"psysml:66b88940-ae34-45ae-8eaf-0df380551b61\" xlink:show=\"new\" xlink:title=\"psysml:66b88940-ae34-45ae-8eaf-0df380551b61\" xlink:type=\"simple\"><polygon fill=\"#FFFFFF\" points=\"285,214,399,214,406,236.2969,413,236.2969,413,266.5938,285,266.5938,285,214\" style=\"stroke: #000000; stroke-width: 1.5;\"/><line style=\"stroke: #000000; stroke-width: 1.5;\" x1=\"285\" x2=\"406\" y1=\"236.2969\" y2=\"236.2969\"/><text fill=\"#000000\" font-family=\"sans-serif\" font-size=\"14\" font-weight=\"bold\" lengthAdjust=\"spacingAndGlyphs\" textLength=\"108\" x=\"289\" y=\"228.9951\">Service Layer</text></a><a href=\"psysml:2f9cfad3-e6e2-4672-a52e-eac3ac1cc3fa\" target=\"_top\" title=\"psysml:2f9cfad3-e6e2-4672-a52e-eac3ac1cc3fa\" xlink:actuate=\"onRequest\" xlink:href=\"psysml:2f9cfad3-e6e2-4672-a52e-eac3ac1cc3fa\" xlink:show=\"new\" xlink:title=\"psysml:2f9cfad3-e6e2-4672-a52e-eac3ac1cc3fa\" xlink:type=\"simple\"><polygon fill=\"#FFFFFF\" points=\"297,344,387,344,394,366.2969,401,366.2969,401,396.5938,297,396.5938,297,344\" style=\"stroke: #000000; stroke-width: 1.5;\"/><line style=\"stroke: #000000; stroke-width: 1.5;\" x1=\"297\" x2=\"394\" y1=\"366.2969\" y2=\"366.2969\"/><text fill=\"#000000\" font-family=\"sans-serif\" font-size=\"14\" font-weight=\"bold\" lengthAdjust=\"spacingAndGlyphs\" textLength=\"84\" x=\"301\" y=\"358.9951\">Data Layer</text></a><!--MD5=[af87c684e3b0d8be13c1a698a818ef1e]\n",
       "link E3 to E4--><a href=\"psysml:dea4bf7d-7df0-4a98-b0a8-ad3094fe796e\" target=\"_top\" title=\"psysml:dea4bf7d-7df0-4a98-b0a8-ad3094fe796e\" xlink:actuate=\"onRequest\" xlink:href=\"psysml:dea4bf7d-7df0-4a98-b0a8-ad3094fe796e\" xlink:show=\"new\" xlink:title=\"psysml:dea4bf7d-7df0-4a98-b0a8-ad3094fe796e\" xlink:type=\"simple\"><path d=\"M349,137.1 C349,156.8 349,184.22 349,205.73 \" fill=\"none\" id=\"E3-&gt;E4\" style=\"stroke: #383838; stroke-width: 1.0; stroke-dasharray: 7.0,7.0;\"/><polygon fill=\"#383838\" points=\"349,213.95,352,205.95,346,205.95,349,213.95\" style=\"stroke: #383838; stroke-width: 1.0;\"/><text fill=\"#000000\" font-family=\"sans-serif\" font-size=\"13\" lengthAdjust=\"spacingAndGlyphs\" textLength=\"64\" x=\"350\" y=\"180.0669\">«depend»</text></a><!--MD5=[1b7591eae5389033d8d09a9d6721a717]\n",
       "link E4 to E5--><a href=\"psysml:6c12c767-a343-4222-b71b-448a215deadc\" target=\"_top\" title=\"psysml:6c12c767-a343-4222-b71b-448a215deadc\" xlink:actuate=\"onRequest\" xlink:href=\"psysml:6c12c767-a343-4222-b71b-448a215deadc\" xlink:show=\"new\" xlink:title=\"psysml:6c12c767-a343-4222-b71b-448a215deadc\" xlink:type=\"simple\"><path d=\"M349,267.1 C349,286.8 349,314.22 349,335.73 \" fill=\"none\" id=\"E4-&gt;E5\" style=\"stroke: #383838; stroke-width: 1.0; stroke-dasharray: 7.0,7.0;\"/><polygon fill=\"#383838\" points=\"349,343.95,352,335.95,346,335.95,349,343.95\" style=\"stroke: #383838; stroke-width: 1.0;\"/><text fill=\"#000000\" font-family=\"sans-serif\" font-size=\"13\" lengthAdjust=\"spacingAndGlyphs\" textLength=\"64\" x=\"350\" y=\"310.0669\">«depend»</text></a><!--MD5=[c5e8897d989ce984f93528998a7150fe]\n",
       "link E8 to E6--><a href=\"psysml:2c14e4ca-efb9-4e12-a147-b41b8d65befc\" target=\"_top\" title=\"psysml:2c14e4ca-efb9-4e12-a147-b41b8d65befc\" xlink:actuate=\"onRequest\" xlink:href=\"psysml:2c14e4ca-efb9-4e12-a147-b41b8d65befc\" xlink:show=\"new\" xlink:title=\"psysml:2c14e4ca-efb9-4e12-a147-b41b8d65befc\" xlink:type=\"simple\"><path d=\"M89.42,133.6 C79.35,142.68 69.37,154.11 64,167 C58.5,180.2 58.66,195.94 60.54,209.38 \" fill=\"none\" id=\"E8-&gt;E6\" style=\"stroke: #383838; stroke-width: 1.0; stroke-dasharray: 7.0,7.0;\"/><polygon fill=\"#383838\" points=\"61.9,217.4,63.517,209.0104,57.6018,210.0159,61.9,217.4\" style=\"stroke: #383838; stroke-width: 1.0;\"/><text fill=\"#000000\" font-family=\"sans-serif\" font-size=\"13\" lengthAdjust=\"spacingAndGlyphs\" textLength=\"64\" x=\"65\" y=\"180.0669\">«depend»</text></a><!--MD5=[bfa3c8b0d15052fdf50ae9310b491027]\n",
       "link E8 to E7--><a href=\"psysml:2c14e4ca-efb9-4e12-a147-b41b8d65befc\" target=\"_top\" title=\"psysml:2c14e4ca-efb9-4e12-a147-b41b8d65befc\" xlink:actuate=\"onRequest\" xlink:href=\"psysml:2c14e4ca-efb9-4e12-a147-b41b8d65befc\" xlink:show=\"new\" xlink:title=\"psysml:2c14e4ca-efb9-4e12-a147-b41b8d65befc\" xlink:type=\"simple\"><path d=\"M129.28,133.5 C138.17,154.57 151.64,186.5 161.47,209.81 \" fill=\"none\" id=\"E8-&gt;E7\" style=\"stroke: #383838; stroke-width: 1.0; stroke-dasharray: 7.0,7.0;\"/><polygon fill=\"#383838\" points=\"164.66,217.35,164.3241,208.8126,158.7933,211.1385,164.66,217.35\" style=\"stroke: #383838; stroke-width: 1.0;\"/><text fill=\"#000000\" font-family=\"sans-serif\" font-size=\"13\" lengthAdjust=\"spacingAndGlyphs\" textLength=\"64\" x=\"151\" y=\"180.0669\">«depend»</text></a><!--MD5=[cccab57dafe6c42a1ad2b2d0a54baaa7]\n",
       "@startuml\r\n",
       " skinparam monochrome true\r\n",
       "skinparam classbackgroundcolor white\r\n",
       "skinparam shadowing false\r\n",
       "skinparam wrapWidth 300\r\n",
       "hide circle\r\n",
       "\r\n",
       "package \"DependencyTest\" as E1  [[psysml:cce2acdd-5299-4277-a359-760a7748f1a5 ]]  {\r\n",
       "package \"System\" as E2  [[psysml:fe0450d0-807d-48bf-914f-f99eea0aac67 ]]  {\r\n",
       "package \"Application Layer\" as E3  [[psysml:b4c6803f-b500-4ed2-a89b-7b27b2a9486d ]]  {\r\n",
       "}\r\n",
       "package \"Service Layer\" as E4  [[psysml:66b88940-ae34-45ae-8eaf-0df380551b61 ]]  {\r\n",
       "}\r\n",
       "package \"Data Layer\" as E5  [[psysml:2f9cfad3-e6e2-4672-a52e-eac3ac1cc3fa ]]  {\r\n",
       "}\r\n",
       "}\r\n",
       "comp usage \"x\" as E6  <<(T,blue)attribute>> [[psysml:627607da-451a-45ac-bf2e-8d18d85231b1 ]] {\r\n",
       "}\r\n",
       "comp usage \"y\" as E7  <<(T,blue)attribute>> [[psysml:b8e81d8b-4779-47a3-b21f-b5cec6a6f06b ]] {\r\n",
       "}\r\n",
       "comp usage \"z\" as E8  <<(T,blue)attribute>> [[psysml:ff5b6b09-567c-4f7f-ac5d-5252b0115c49 ]] {\r\n",
       "}\r\n",
       "E3 ..>> E4 [[psysml:dea4bf7d-7df0-4a98-b0a8-ad3094fe796e ]] : <<depend>>\r\n",
       "E4 ..>> E5 [[psysml:6c12c767-a343-4222-b71b-448a215deadc ]] : <<depend>>\r\n",
       "E8 ..>> E6 [[psysml:2c14e4ca-efb9-4e12-a147-b41b8d65befc ]] : <<depend>>\r\n",
       "E8 ..>> E7 [[psysml:2c14e4ca-efb9-4e12-a147-b41b8d65befc ]] : <<depend>>\r\n",
       "}\r\n",
       "@enduml\r\n",
       "\n",
       "PlantUML version 1.2020.13(Sat Jun 13 12:26:38 UTC 2020)\n",
       "(EPL source distribution)\n",
       "Java Runtime: OpenJDK Runtime Environment\n",
       "JVM: OpenJDK 64-Bit Server VM\n",
       "Default Encoding: UTF-8\n",
       "Language: en\n",
       "Country: null\n",
       "--></g></svg>"
      ]
     },
     "execution_count": 8,
     "metadata": {},
     "output_type": "execute_result"
    }
   ],
   "source": [
    "%viz --style=\"COMPTREE\" --view=\"MIXED\" \"DependencyTest\""
   ]
  },
  {
   "cell_type": "code",
   "execution_count": 9,
   "id": "a1d0ddb2",
   "metadata": {
    "execution": {
     "iopub.execute_input": "2021-05-28T10:49:36.730893Z",
     "iopub.status.busy": "2021-05-28T10:49:36.730123Z",
     "iopub.status.idle": "2021-05-28T10:49:36.774451Z",
     "shell.execute_reply": "2021-05-28T10:49:36.773583Z"
    }
   },
   "outputs": [
    {
     "data": {
      "image/svg+xml": [
       "<?xml version=\"1.0\" encoding=\"UTF-8\" standalone=\"no\"?><svg xmlns=\"http://www.w3.org/2000/svg\" xmlns:xlink=\"http://www.w3.org/1999/xlink\" contentScriptType=\"application/ecmascript\" contentStyleType=\"text/css\" height=\"449px\" preserveAspectRatio=\"none\" style=\"width:489px;height:449px;\" version=\"1.1\" viewBox=\"0 0 489 449\" width=\"489px\" zoomAndPan=\"magnify\"><defs/><g><!--MD5=[fbc87193dbaf4d95561dea2c320d4a47]\n",
       "cluster E1--><a href=\"psysml:cce2acdd-5299-4277-a359-760a7748f1a5\" target=\"_top\" title=\"psysml:cce2acdd-5299-4277-a359-760a7748f1a5\" xlink:actuate=\"onRequest\" xlink:href=\"psysml:cce2acdd-5299-4277-a359-760a7748f1a5\" xlink:show=\"new\" xlink:title=\"psysml:cce2acdd-5299-4277-a359-760a7748f1a5\" xlink:type=\"simple\"><polygon fill=\"#FFFFFF\" points=\"16,6,156,6,163,28.2969,467,28.2969,467,437,16,437,16,6\" style=\"stroke: #000000; stroke-width: 1.5;\"/><line style=\"stroke: #000000; stroke-width: 1.5;\" x1=\"16\" x2=\"163\" y1=\"28.2969\" y2=\"28.2969\"/><text fill=\"#000000\" font-family=\"sans-serif\" font-size=\"14\" font-weight=\"bold\" lengthAdjust=\"spacingAndGlyphs\" textLength=\"134\" x=\"20\" y=\"20.9951\">DependencyTest</text></a><!--MD5=[e4f7fae6ed58524ba242bb0b0d3be6b7]\n",
       "cluster E2--><a href=\"psysml:fe0450d0-807d-48bf-914f-f99eea0aac67\" target=\"_top\" title=\"psysml:fe0450d0-807d-48bf-914f-f99eea0aac67\" xlink:actuate=\"onRequest\" xlink:href=\"psysml:fe0450d0-807d-48bf-914f-f99eea0aac67\" xlink:show=\"new\" xlink:title=\"psysml:fe0450d0-807d-48bf-914f-f99eea0aac67\" xlink:type=\"simple\"><polygon fill=\"#FFFFFF\" points=\"255,49,319,49,326,71.2969,443,71.2969,443,413,255,413,255,49\" style=\"stroke: #000000; stroke-width: 1.5;\"/><line style=\"stroke: #000000; stroke-width: 1.5;\" x1=\"255\" x2=\"326\" y1=\"71.2969\" y2=\"71.2969\"/><text fill=\"#000000\" font-family=\"sans-serif\" font-size=\"14\" font-weight=\"bold\" lengthAdjust=\"spacingAndGlyphs\" textLength=\"58\" x=\"259\" y=\"63.9951\">System</text></a><!--MD5=[60a26617385b1d2d0262a64233df1f8d]\n",
       "class E6--><a href=\"psysml:627607da-451a-45ac-bf2e-8d18d85231b1\" target=\"_top\" title=\"psysml:627607da-451a-45ac-bf2e-8d18d85231b1\" xlink:actuate=\"onRequest\" xlink:href=\"psysml:627607da-451a-45ac-bf2e-8d18d85231b1\" xlink:show=\"new\" xlink:title=\"psysml:627607da-451a-45ac-bf2e-8d18d85231b1\" xlink:type=\"simple\"><rect fill=\"#FFFFFF\" height=\"45.9375\" id=\"E6\" rx=\"10\" ry=\"10\" style=\"stroke: #383838; stroke-width: 1.5;\" width=\"71\" x=\"32.5\" y=\"217.5\"/><text fill=\"#000000\" font-family=\"sans-serif\" font-size=\"12\" font-style=\"italic\" lengthAdjust=\"spacingAndGlyphs\" textLength=\"69\" x=\"33.5\" y=\"233.6387\">«attribute»</text><text fill=\"#000000\" font-family=\"sans-serif\" font-size=\"12\" lengthAdjust=\"spacingAndGlyphs\" textLength=\"6\" x=\"65\" y=\"247.6074\">x</text><line style=\"stroke: #383838; stroke-width: 1.5;\" x1=\"33.5\" x2=\"102.5\" y1=\"255.4375\" y2=\"255.4375\"/></a><!--MD5=[2156ba9850f5573cc1fc38a6a4b2f02b]\n",
       "class E7--><a href=\"psysml:b8e81d8b-4779-47a3-b21f-b5cec6a6f06b\" target=\"_top\" title=\"psysml:b8e81d8b-4779-47a3-b21f-b5cec6a6f06b\" xlink:actuate=\"onRequest\" xlink:href=\"psysml:b8e81d8b-4779-47a3-b21f-b5cec6a6f06b\" xlink:show=\"new\" xlink:title=\"psysml:b8e81d8b-4779-47a3-b21f-b5cec6a6f06b\" xlink:type=\"simple\"><rect fill=\"#FFFFFF\" height=\"45.9375\" id=\"E7\" rx=\"10\" ry=\"10\" style=\"stroke: #383838; stroke-width: 1.5;\" width=\"71\" x=\"138.5\" y=\"217.5\"/><text fill=\"#000000\" font-family=\"sans-serif\" font-size=\"12\" font-style=\"italic\" lengthAdjust=\"spacingAndGlyphs\" textLength=\"69\" x=\"139.5\" y=\"233.6387\">«attribute»</text><text fill=\"#000000\" font-family=\"sans-serif\" font-size=\"12\" lengthAdjust=\"spacingAndGlyphs\" textLength=\"6\" x=\"171\" y=\"247.6074\">y</text><line style=\"stroke: #383838; stroke-width: 1.5;\" x1=\"139.5\" x2=\"208.5\" y1=\"255.4375\" y2=\"255.4375\"/></a><!--MD5=[b9389687b975829384b498ac4b7476b2]\n",
       "class E8--><a href=\"psysml:ff5b6b09-567c-4f7f-ac5d-5252b0115c49\" target=\"_top\" title=\"psysml:ff5b6b09-567c-4f7f-ac5d-5252b0115c49\" xlink:actuate=\"onRequest\" xlink:href=\"psysml:ff5b6b09-567c-4f7f-ac5d-5252b0115c49\" xlink:show=\"new\" xlink:title=\"psysml:ff5b6b09-567c-4f7f-ac5d-5252b0115c49\" xlink:type=\"simple\"><rect fill=\"#FFFFFF\" height=\"45.9375\" id=\"E8\" rx=\"10\" ry=\"10\" style=\"stroke: #383838; stroke-width: 1.5;\" width=\"71\" x=\"84.5\" y=\"87.5\"/><text fill=\"#000000\" font-family=\"sans-serif\" font-size=\"12\" font-style=\"italic\" lengthAdjust=\"spacingAndGlyphs\" textLength=\"69\" x=\"85.5\" y=\"103.6387\">«attribute»</text><text fill=\"#000000\" font-family=\"sans-serif\" font-size=\"12\" lengthAdjust=\"spacingAndGlyphs\" textLength=\"5\" x=\"117.5\" y=\"117.6074\">z</text><line style=\"stroke: #383838; stroke-width: 1.5;\" x1=\"85.5\" x2=\"154.5\" y1=\"125.4375\" y2=\"125.4375\"/></a><a href=\"psysml:b4c6803f-b500-4ed2-a89b-7b27b2a9486d\" target=\"_top\" title=\"psysml:b4c6803f-b500-4ed2-a89b-7b27b2a9486d\" xlink:actuate=\"onRequest\" xlink:href=\"psysml:b4c6803f-b500-4ed2-a89b-7b27b2a9486d\" xlink:show=\"new\" xlink:title=\"psysml:b4c6803f-b500-4ed2-a89b-7b27b2a9486d\" xlink:type=\"simple\"><polygon fill=\"#FFFFFF\" points=\"271,84,413,84,420,106.2969,427,106.2969,427,136.5938,271,136.5938,271,84\" style=\"stroke: #000000; stroke-width: 1.5;\"/><line style=\"stroke: #000000; stroke-width: 1.5;\" x1=\"271\" x2=\"420\" y1=\"106.2969\" y2=\"106.2969\"/><text fill=\"#000000\" font-family=\"sans-serif\" font-size=\"14\" font-weight=\"bold\" lengthAdjust=\"spacingAndGlyphs\" textLength=\"136\" x=\"275\" y=\"98.9951\">Application Layer</text></a><a href=\"psysml:66b88940-ae34-45ae-8eaf-0df380551b61\" target=\"_top\" title=\"psysml:66b88940-ae34-45ae-8eaf-0df380551b61\" xlink:actuate=\"onRequest\" xlink:href=\"psysml:66b88940-ae34-45ae-8eaf-0df380551b61\" xlink:show=\"new\" xlink:title=\"psysml:66b88940-ae34-45ae-8eaf-0df380551b61\" xlink:type=\"simple\"><polygon fill=\"#FFFFFF\" points=\"285,214,399,214,406,236.2969,413,236.2969,413,266.5938,285,266.5938,285,214\" style=\"stroke: #000000; stroke-width: 1.5;\"/><line style=\"stroke: #000000; stroke-width: 1.5;\" x1=\"285\" x2=\"406\" y1=\"236.2969\" y2=\"236.2969\"/><text fill=\"#000000\" font-family=\"sans-serif\" font-size=\"14\" font-weight=\"bold\" lengthAdjust=\"spacingAndGlyphs\" textLength=\"108\" x=\"289\" y=\"228.9951\">Service Layer</text></a><a href=\"psysml:2f9cfad3-e6e2-4672-a52e-eac3ac1cc3fa\" target=\"_top\" title=\"psysml:2f9cfad3-e6e2-4672-a52e-eac3ac1cc3fa\" xlink:actuate=\"onRequest\" xlink:href=\"psysml:2f9cfad3-e6e2-4672-a52e-eac3ac1cc3fa\" xlink:show=\"new\" xlink:title=\"psysml:2f9cfad3-e6e2-4672-a52e-eac3ac1cc3fa\" xlink:type=\"simple\"><polygon fill=\"#FFFFFF\" points=\"297,344,387,344,394,366.2969,401,366.2969,401,396.5938,297,396.5938,297,344\" style=\"stroke: #000000; stroke-width: 1.5;\"/><line style=\"stroke: #000000; stroke-width: 1.5;\" x1=\"297\" x2=\"394\" y1=\"366.2969\" y2=\"366.2969\"/><text fill=\"#000000\" font-family=\"sans-serif\" font-size=\"14\" font-weight=\"bold\" lengthAdjust=\"spacingAndGlyphs\" textLength=\"84\" x=\"301\" y=\"358.9951\">Data Layer</text></a><!--MD5=[af87c684e3b0d8be13c1a698a818ef1e]\n",
       "link E3 to E4--><a href=\"psysml:dea4bf7d-7df0-4a98-b0a8-ad3094fe796e\" target=\"_top\" title=\"psysml:dea4bf7d-7df0-4a98-b0a8-ad3094fe796e\" xlink:actuate=\"onRequest\" xlink:href=\"psysml:dea4bf7d-7df0-4a98-b0a8-ad3094fe796e\" xlink:show=\"new\" xlink:title=\"psysml:dea4bf7d-7df0-4a98-b0a8-ad3094fe796e\" xlink:type=\"simple\"><path d=\"M349,137.1 C349,156.8 349,184.22 349,205.73 \" fill=\"none\" id=\"E3-&gt;E4\" style=\"stroke: #383838; stroke-width: 1.0; stroke-dasharray: 7.0,7.0;\"/><polygon fill=\"#383838\" points=\"349,213.95,352,205.95,346,205.95,349,213.95\" style=\"stroke: #383838; stroke-width: 1.0;\"/><text fill=\"#000000\" font-family=\"sans-serif\" font-size=\"13\" lengthAdjust=\"spacingAndGlyphs\" textLength=\"64\" x=\"350\" y=\"180.0669\">«depend»</text></a><!--MD5=[1b7591eae5389033d8d09a9d6721a717]\n",
       "link E4 to E5--><a href=\"psysml:6c12c767-a343-4222-b71b-448a215deadc\" target=\"_top\" title=\"psysml:6c12c767-a343-4222-b71b-448a215deadc\" xlink:actuate=\"onRequest\" xlink:href=\"psysml:6c12c767-a343-4222-b71b-448a215deadc\" xlink:show=\"new\" xlink:title=\"psysml:6c12c767-a343-4222-b71b-448a215deadc\" xlink:type=\"simple\"><path d=\"M349,267.1 C349,286.8 349,314.22 349,335.73 \" fill=\"none\" id=\"E4-&gt;E5\" style=\"stroke: #383838; stroke-width: 1.0; stroke-dasharray: 7.0,7.0;\"/><polygon fill=\"#383838\" points=\"349,343.95,352,335.95,346,335.95,349,343.95\" style=\"stroke: #383838; stroke-width: 1.0;\"/><text fill=\"#000000\" font-family=\"sans-serif\" font-size=\"13\" lengthAdjust=\"spacingAndGlyphs\" textLength=\"64\" x=\"350\" y=\"310.0669\">«depend»</text></a><!--MD5=[c5e8897d989ce984f93528998a7150fe]\n",
       "link E8 to E6--><a href=\"psysml:2c14e4ca-efb9-4e12-a147-b41b8d65befc\" target=\"_top\" title=\"psysml:2c14e4ca-efb9-4e12-a147-b41b8d65befc\" xlink:actuate=\"onRequest\" xlink:href=\"psysml:2c14e4ca-efb9-4e12-a147-b41b8d65befc\" xlink:show=\"new\" xlink:title=\"psysml:2c14e4ca-efb9-4e12-a147-b41b8d65befc\" xlink:type=\"simple\"><path d=\"M97.55,133.75 C81.97,149.19 64,167 64,167 C64,167 64,184 64,184 C64,184 64.88,196.21 65.81,209.18 \" fill=\"none\" id=\"E8-&gt;E6\" style=\"stroke: #383838; stroke-width: 1.0; stroke-dasharray: 7.0,7.0;\"/><polygon fill=\"#383838\" points=\"66.4,217.25,68.8203,209.056,62.8357,209.485,66.4,217.25\" style=\"stroke: #383838; stroke-width: 1.0;\"/><text fill=\"#000000\" font-family=\"sans-serif\" font-size=\"13\" lengthAdjust=\"spacingAndGlyphs\" textLength=\"64\" x=\"65\" y=\"180.0669\">«depend»</text></a><!--MD5=[bfa3c8b0d15052fdf50ae9310b491027]\n",
       "link E8 to E7--><a href=\"psysml:2c14e4ca-efb9-4e12-a147-b41b8d65befc\" target=\"_top\" title=\"psysml:2c14e4ca-efb9-4e12-a147-b41b8d65befc\" xlink:actuate=\"onRequest\" xlink:href=\"psysml:2c14e4ca-efb9-4e12-a147-b41b8d65befc\" xlink:show=\"new\" xlink:title=\"psysml:2c14e4ca-efb9-4e12-a147-b41b8d65befc\" xlink:type=\"simple\"><path d=\"M129.28,133.5 C138.17,154.57 151.64,186.5 161.47,209.81 \" fill=\"none\" id=\"E8-&gt;E7\" style=\"stroke: #383838; stroke-width: 1.0; stroke-dasharray: 7.0,7.0;\"/><polygon fill=\"#383838\" points=\"164.66,217.35,164.3241,208.8126,158.7933,211.1385,164.66,217.35\" style=\"stroke: #383838; stroke-width: 1.0;\"/><text fill=\"#000000\" font-family=\"sans-serif\" font-size=\"13\" lengthAdjust=\"spacingAndGlyphs\" textLength=\"64\" x=\"151\" y=\"180.0669\">«depend»</text></a><!--MD5=[f07c909c73742da67d94a6b6f0e3846a]\n",
       "@startuml\r\n",
       "skinparam linetype polyline\r\n",
       "skinparam monochrome true\r\n",
       "skinparam classbackgroundcolor white\r\n",
       "skinparam shadowing false\r\n",
       "skinparam wrapWidth 300\r\n",
       "hide circle\r\n",
       "\r\n",
       "package \"DependencyTest\" as E1  [[psysml:cce2acdd-5299-4277-a359-760a7748f1a5 ]]  {\r\n",
       "package \"System\" as E2  [[psysml:fe0450d0-807d-48bf-914f-f99eea0aac67 ]]  {\r\n",
       "package \"Application Layer\" as E3  [[psysml:b4c6803f-b500-4ed2-a89b-7b27b2a9486d ]]  {\r\n",
       "}\r\n",
       "package \"Service Layer\" as E4  [[psysml:66b88940-ae34-45ae-8eaf-0df380551b61 ]]  {\r\n",
       "}\r\n",
       "package \"Data Layer\" as E5  [[psysml:2f9cfad3-e6e2-4672-a52e-eac3ac1cc3fa ]]  {\r\n",
       "}\r\n",
       "}\r\n",
       "comp usage \"x\" as E6  <<(T,blue)attribute>> [[psysml:627607da-451a-45ac-bf2e-8d18d85231b1 ]] {\r\n",
       "}\r\n",
       "comp usage \"y\" as E7  <<(T,blue)attribute>> [[psysml:b8e81d8b-4779-47a3-b21f-b5cec6a6f06b ]] {\r\n",
       "}\r\n",
       "comp usage \"z\" as E8  <<(T,blue)attribute>> [[psysml:ff5b6b09-567c-4f7f-ac5d-5252b0115c49 ]] {\r\n",
       "}\r\n",
       "E3 ..>> E4 [[psysml:dea4bf7d-7df0-4a98-b0a8-ad3094fe796e ]] : <<depend>>\r\n",
       "E4 ..>> E5 [[psysml:6c12c767-a343-4222-b71b-448a215deadc ]] : <<depend>>\r\n",
       "E8 ..>> E6 [[psysml:2c14e4ca-efb9-4e12-a147-b41b8d65befc ]] : <<depend>>\r\n",
       "E8 ..>> E7 [[psysml:2c14e4ca-efb9-4e12-a147-b41b8d65befc ]] : <<depend>>\r\n",
       "}\r\n",
       "@enduml\r\n",
       "\n",
       "PlantUML version 1.2020.13(Sat Jun 13 12:26:38 UTC 2020)\n",
       "(EPL source distribution)\n",
       "Java Runtime: OpenJDK Runtime Environment\n",
       "JVM: OpenJDK 64-Bit Server VM\n",
       "Default Encoding: UTF-8\n",
       "Language: en\n",
       "Country: null\n",
       "--></g></svg>"
      ]
     },
     "execution_count": 9,
     "metadata": {},
     "output_type": "execute_result"
    }
   ],
   "source": [
    "%viz --style=\"POLYLINE\" --view=\"Default\" \"DependencyTest\""
   ]
  },
  {
   "cell_type": "code",
   "execution_count": 10,
   "id": "3090fbd7",
   "metadata": {
    "execution": {
     "iopub.execute_input": "2021-05-28T10:49:36.832311Z",
     "iopub.status.busy": "2021-05-28T10:49:36.829778Z",
     "iopub.status.idle": "2021-05-28T10:49:36.927888Z",
     "shell.execute_reply": "2021-05-28T10:49:36.927245Z"
    }
   },
   "outputs": [
    {
     "data": {
      "image/svg+xml": [
       "<?xml version=\"1.0\" encoding=\"UTF-8\" standalone=\"no\"?><svg xmlns=\"http://www.w3.org/2000/svg\" xmlns:xlink=\"http://www.w3.org/1999/xlink\" contentScriptType=\"application/ecmascript\" contentStyleType=\"text/css\" height=\"449px\" preserveAspectRatio=\"none\" style=\"width:489px;height:449px;\" version=\"1.1\" viewBox=\"0 0 489 449\" width=\"489px\" zoomAndPan=\"magnify\"><defs/><g><!--MD5=[fbc87193dbaf4d95561dea2c320d4a47]\n",
       "cluster E1--><a href=\"psysml:cce2acdd-5299-4277-a359-760a7748f1a5\" target=\"_top\" title=\"psysml:cce2acdd-5299-4277-a359-760a7748f1a5\" xlink:actuate=\"onRequest\" xlink:href=\"psysml:cce2acdd-5299-4277-a359-760a7748f1a5\" xlink:show=\"new\" xlink:title=\"psysml:cce2acdd-5299-4277-a359-760a7748f1a5\" xlink:type=\"simple\"><polygon fill=\"#FFFFFF\" points=\"16,6,156,6,163,28.2969,467,28.2969,467,437,16,437,16,6\" style=\"stroke: #000000; stroke-width: 1.5;\"/><line style=\"stroke: #000000; stroke-width: 1.5;\" x1=\"16\" x2=\"163\" y1=\"28.2969\" y2=\"28.2969\"/><text fill=\"#000000\" font-family=\"sans-serif\" font-size=\"14\" font-weight=\"bold\" lengthAdjust=\"spacingAndGlyphs\" textLength=\"134\" x=\"20\" y=\"20.9951\">DependencyTest</text></a><!--MD5=[e4f7fae6ed58524ba242bb0b0d3be6b7]\n",
       "cluster E2--><a href=\"psysml:fe0450d0-807d-48bf-914f-f99eea0aac67\" target=\"_top\" title=\"psysml:fe0450d0-807d-48bf-914f-f99eea0aac67\" xlink:actuate=\"onRequest\" xlink:href=\"psysml:fe0450d0-807d-48bf-914f-f99eea0aac67\" xlink:show=\"new\" xlink:title=\"psysml:fe0450d0-807d-48bf-914f-f99eea0aac67\" xlink:type=\"simple\"><polygon fill=\"#FFFFFF\" points=\"255,49,319,49,326,71.2969,443,71.2969,443,413,255,413,255,49\" style=\"stroke: #000000; stroke-width: 1.5;\"/><line style=\"stroke: #000000; stroke-width: 1.5;\" x1=\"255\" x2=\"326\" y1=\"71.2969\" y2=\"71.2969\"/><text fill=\"#000000\" font-family=\"sans-serif\" font-size=\"14\" font-weight=\"bold\" lengthAdjust=\"spacingAndGlyphs\" textLength=\"58\" x=\"259\" y=\"63.9951\">System</text></a><!--MD5=[60a26617385b1d2d0262a64233df1f8d]\n",
       "class E6--><a href=\"psysml:627607da-451a-45ac-bf2e-8d18d85231b1\" target=\"_top\" title=\"psysml:627607da-451a-45ac-bf2e-8d18d85231b1\" xlink:actuate=\"onRequest\" xlink:href=\"psysml:627607da-451a-45ac-bf2e-8d18d85231b1\" xlink:show=\"new\" xlink:title=\"psysml:627607da-451a-45ac-bf2e-8d18d85231b1\" xlink:type=\"simple\"><rect fill=\"#FFFFFF\" height=\"45.9375\" id=\"E6\" rx=\"10\" ry=\"10\" style=\"stroke: #383838; stroke-width: 1.5;\" width=\"71\" x=\"32.5\" y=\"217.5\"/><text fill=\"#000000\" font-family=\"sans-serif\" font-size=\"12\" font-style=\"italic\" lengthAdjust=\"spacingAndGlyphs\" textLength=\"69\" x=\"33.5\" y=\"233.6387\">«attribute»</text><text fill=\"#000000\" font-family=\"sans-serif\" font-size=\"12\" lengthAdjust=\"spacingAndGlyphs\" textLength=\"6\" x=\"65\" y=\"247.6074\">x</text><line style=\"stroke: #383838; stroke-width: 1.5;\" x1=\"33.5\" x2=\"102.5\" y1=\"255.4375\" y2=\"255.4375\"/></a><!--MD5=[2156ba9850f5573cc1fc38a6a4b2f02b]\n",
       "class E7--><a href=\"psysml:b8e81d8b-4779-47a3-b21f-b5cec6a6f06b\" target=\"_top\" title=\"psysml:b8e81d8b-4779-47a3-b21f-b5cec6a6f06b\" xlink:actuate=\"onRequest\" xlink:href=\"psysml:b8e81d8b-4779-47a3-b21f-b5cec6a6f06b\" xlink:show=\"new\" xlink:title=\"psysml:b8e81d8b-4779-47a3-b21f-b5cec6a6f06b\" xlink:type=\"simple\"><rect fill=\"#FFFFFF\" height=\"45.9375\" id=\"E7\" rx=\"10\" ry=\"10\" style=\"stroke: #383838; stroke-width: 1.5;\" width=\"71\" x=\"138.5\" y=\"217.5\"/><text fill=\"#000000\" font-family=\"sans-serif\" font-size=\"12\" font-style=\"italic\" lengthAdjust=\"spacingAndGlyphs\" textLength=\"69\" x=\"139.5\" y=\"233.6387\">«attribute»</text><text fill=\"#000000\" font-family=\"sans-serif\" font-size=\"12\" lengthAdjust=\"spacingAndGlyphs\" textLength=\"6\" x=\"171\" y=\"247.6074\">y</text><line style=\"stroke: #383838; stroke-width: 1.5;\" x1=\"139.5\" x2=\"208.5\" y1=\"255.4375\" y2=\"255.4375\"/></a><!--MD5=[b9389687b975829384b498ac4b7476b2]\n",
       "class E8--><a href=\"psysml:ff5b6b09-567c-4f7f-ac5d-5252b0115c49\" target=\"_top\" title=\"psysml:ff5b6b09-567c-4f7f-ac5d-5252b0115c49\" xlink:actuate=\"onRequest\" xlink:href=\"psysml:ff5b6b09-567c-4f7f-ac5d-5252b0115c49\" xlink:show=\"new\" xlink:title=\"psysml:ff5b6b09-567c-4f7f-ac5d-5252b0115c49\" xlink:type=\"simple\"><rect fill=\"#FFFFFF\" height=\"45.9375\" id=\"E8\" rx=\"10\" ry=\"10\" style=\"stroke: #383838; stroke-width: 1.5;\" width=\"71\" x=\"84.5\" y=\"87.5\"/><text fill=\"#000000\" font-family=\"sans-serif\" font-size=\"12\" font-style=\"italic\" lengthAdjust=\"spacingAndGlyphs\" textLength=\"69\" x=\"85.5\" y=\"103.6387\">«attribute»</text><text fill=\"#000000\" font-family=\"sans-serif\" font-size=\"12\" lengthAdjust=\"spacingAndGlyphs\" textLength=\"5\" x=\"117.5\" y=\"117.6074\">z</text><line style=\"stroke: #383838; stroke-width: 1.5;\" x1=\"85.5\" x2=\"154.5\" y1=\"125.4375\" y2=\"125.4375\"/></a><a href=\"psysml:b4c6803f-b500-4ed2-a89b-7b27b2a9486d\" target=\"_top\" title=\"psysml:b4c6803f-b500-4ed2-a89b-7b27b2a9486d\" xlink:actuate=\"onRequest\" xlink:href=\"psysml:b4c6803f-b500-4ed2-a89b-7b27b2a9486d\" xlink:show=\"new\" xlink:title=\"psysml:b4c6803f-b500-4ed2-a89b-7b27b2a9486d\" xlink:type=\"simple\"><polygon fill=\"#FFFFFF\" points=\"271,84,413,84,420,106.2969,427,106.2969,427,136.5938,271,136.5938,271,84\" style=\"stroke: #000000; stroke-width: 1.5;\"/><line style=\"stroke: #000000; stroke-width: 1.5;\" x1=\"271\" x2=\"420\" y1=\"106.2969\" y2=\"106.2969\"/><text fill=\"#000000\" font-family=\"sans-serif\" font-size=\"14\" font-weight=\"bold\" lengthAdjust=\"spacingAndGlyphs\" textLength=\"136\" x=\"275\" y=\"98.9951\">Application Layer</text></a><a href=\"psysml:66b88940-ae34-45ae-8eaf-0df380551b61\" target=\"_top\" title=\"psysml:66b88940-ae34-45ae-8eaf-0df380551b61\" xlink:actuate=\"onRequest\" xlink:href=\"psysml:66b88940-ae34-45ae-8eaf-0df380551b61\" xlink:show=\"new\" xlink:title=\"psysml:66b88940-ae34-45ae-8eaf-0df380551b61\" xlink:type=\"simple\"><polygon fill=\"#FFFFFF\" points=\"285,214,399,214,406,236.2969,413,236.2969,413,266.5938,285,266.5938,285,214\" style=\"stroke: #000000; stroke-width: 1.5;\"/><line style=\"stroke: #000000; stroke-width: 1.5;\" x1=\"285\" x2=\"406\" y1=\"236.2969\" y2=\"236.2969\"/><text fill=\"#000000\" font-family=\"sans-serif\" font-size=\"14\" font-weight=\"bold\" lengthAdjust=\"spacingAndGlyphs\" textLength=\"108\" x=\"289\" y=\"228.9951\">Service Layer</text></a><a href=\"psysml:2f9cfad3-e6e2-4672-a52e-eac3ac1cc3fa\" target=\"_top\" title=\"psysml:2f9cfad3-e6e2-4672-a52e-eac3ac1cc3fa\" xlink:actuate=\"onRequest\" xlink:href=\"psysml:2f9cfad3-e6e2-4672-a52e-eac3ac1cc3fa\" xlink:show=\"new\" xlink:title=\"psysml:2f9cfad3-e6e2-4672-a52e-eac3ac1cc3fa\" xlink:type=\"simple\"><polygon fill=\"#FFFFFF\" points=\"297,344,387,344,394,366.2969,401,366.2969,401,396.5938,297,396.5938,297,344\" style=\"stroke: #000000; stroke-width: 1.5;\"/><line style=\"stroke: #000000; stroke-width: 1.5;\" x1=\"297\" x2=\"394\" y1=\"366.2969\" y2=\"366.2969\"/><text fill=\"#000000\" font-family=\"sans-serif\" font-size=\"14\" font-weight=\"bold\" lengthAdjust=\"spacingAndGlyphs\" textLength=\"84\" x=\"301\" y=\"358.9951\">Data Layer</text></a><!--MD5=[af87c684e3b0d8be13c1a698a818ef1e]\n",
       "link E3 to E4--><a href=\"psysml:dea4bf7d-7df0-4a98-b0a8-ad3094fe796e\" target=\"_top\" title=\"psysml:dea4bf7d-7df0-4a98-b0a8-ad3094fe796e\" xlink:actuate=\"onRequest\" xlink:href=\"psysml:dea4bf7d-7df0-4a98-b0a8-ad3094fe796e\" xlink:show=\"new\" xlink:title=\"psysml:dea4bf7d-7df0-4a98-b0a8-ad3094fe796e\" xlink:type=\"simple\"><path d=\"M349,137.1 C349,156.8 349,184.22 349,205.73 \" fill=\"none\" id=\"E3-&gt;E4\" style=\"stroke: #383838; stroke-width: 1.0; stroke-dasharray: 7.0,7.0;\"/><polygon fill=\"#383838\" points=\"349,213.95,352,205.95,346,205.95,349,213.95\" style=\"stroke: #383838; stroke-width: 1.0;\"/><text fill=\"#000000\" font-family=\"sans-serif\" font-size=\"13\" lengthAdjust=\"spacingAndGlyphs\" textLength=\"64\" x=\"350\" y=\"180.0669\">«depend»</text></a><!--MD5=[1b7591eae5389033d8d09a9d6721a717]\n",
       "link E4 to E5--><a href=\"psysml:6c12c767-a343-4222-b71b-448a215deadc\" target=\"_top\" title=\"psysml:6c12c767-a343-4222-b71b-448a215deadc\" xlink:actuate=\"onRequest\" xlink:href=\"psysml:6c12c767-a343-4222-b71b-448a215deadc\" xlink:show=\"new\" xlink:title=\"psysml:6c12c767-a343-4222-b71b-448a215deadc\" xlink:type=\"simple\"><path d=\"M349,267.1 C349,286.8 349,314.22 349,335.73 \" fill=\"none\" id=\"E4-&gt;E5\" style=\"stroke: #383838; stroke-width: 1.0; stroke-dasharray: 7.0,7.0;\"/><polygon fill=\"#383838\" points=\"349,343.95,352,335.95,346,335.95,349,343.95\" style=\"stroke: #383838; stroke-width: 1.0;\"/><text fill=\"#000000\" font-family=\"sans-serif\" font-size=\"13\" lengthAdjust=\"spacingAndGlyphs\" textLength=\"64\" x=\"350\" y=\"310.0669\">«depend»</text></a><!--MD5=[c5e8897d989ce984f93528998a7150fe]\n",
       "link E8 to E6--><a href=\"psysml:2c14e4ca-efb9-4e12-a147-b41b8d65befc\" target=\"_top\" title=\"psysml:2c14e4ca-efb9-4e12-a147-b41b8d65befc\" xlink:actuate=\"onRequest\" xlink:href=\"psysml:2c14e4ca-efb9-4e12-a147-b41b8d65befc\" xlink:show=\"new\" xlink:title=\"psysml:2c14e4ca-efb9-4e12-a147-b41b8d65befc\" xlink:type=\"simple\"><path d=\"M97.55,133.75 C81.97,149.19 64,167 64,167 C64,167 64,184 64,184 C64,184 64.88,196.21 65.81,209.18 \" fill=\"none\" id=\"E8-&gt;E6\" style=\"stroke: #383838; stroke-width: 1.0; stroke-dasharray: 7.0,7.0;\"/><polygon fill=\"#383838\" points=\"66.4,217.25,68.8203,209.056,62.8357,209.485,66.4,217.25\" style=\"stroke: #383838; stroke-width: 1.0;\"/><text fill=\"#000000\" font-family=\"sans-serif\" font-size=\"13\" lengthAdjust=\"spacingAndGlyphs\" textLength=\"64\" x=\"65\" y=\"180.0669\">«depend»</text></a><!--MD5=[bfa3c8b0d15052fdf50ae9310b491027]\n",
       "link E8 to E7--><a href=\"psysml:2c14e4ca-efb9-4e12-a147-b41b8d65befc\" target=\"_top\" title=\"psysml:2c14e4ca-efb9-4e12-a147-b41b8d65befc\" xlink:actuate=\"onRequest\" xlink:href=\"psysml:2c14e4ca-efb9-4e12-a147-b41b8d65befc\" xlink:show=\"new\" xlink:title=\"psysml:2c14e4ca-efb9-4e12-a147-b41b8d65befc\" xlink:type=\"simple\"><path d=\"M129.28,133.5 C138.17,154.57 151.64,186.5 161.47,209.81 \" fill=\"none\" id=\"E8-&gt;E7\" style=\"stroke: #383838; stroke-width: 1.0; stroke-dasharray: 7.0,7.0;\"/><polygon fill=\"#383838\" points=\"164.66,217.35,164.3241,208.8126,158.7933,211.1385,164.66,217.35\" style=\"stroke: #383838; stroke-width: 1.0;\"/><text fill=\"#000000\" font-family=\"sans-serif\" font-size=\"13\" lengthAdjust=\"spacingAndGlyphs\" textLength=\"64\" x=\"151\" y=\"180.0669\">«depend»</text></a><!--MD5=[f07c909c73742da67d94a6b6f0e3846a]\n",
       "@startuml\r\n",
       "skinparam linetype polyline\r\n",
       "skinparam monochrome true\r\n",
       "skinparam classbackgroundcolor white\r\n",
       "skinparam shadowing false\r\n",
       "skinparam wrapWidth 300\r\n",
       "hide circle\r\n",
       "\r\n",
       "package \"DependencyTest\" as E1  [[psysml:cce2acdd-5299-4277-a359-760a7748f1a5 ]]  {\r\n",
       "package \"System\" as E2  [[psysml:fe0450d0-807d-48bf-914f-f99eea0aac67 ]]  {\r\n",
       "package \"Application Layer\" as E3  [[psysml:b4c6803f-b500-4ed2-a89b-7b27b2a9486d ]]  {\r\n",
       "}\r\n",
       "package \"Service Layer\" as E4  [[psysml:66b88940-ae34-45ae-8eaf-0df380551b61 ]]  {\r\n",
       "}\r\n",
       "package \"Data Layer\" as E5  [[psysml:2f9cfad3-e6e2-4672-a52e-eac3ac1cc3fa ]]  {\r\n",
       "}\r\n",
       "}\r\n",
       "comp usage \"x\" as E6  <<(T,blue)attribute>> [[psysml:627607da-451a-45ac-bf2e-8d18d85231b1 ]] {\r\n",
       "}\r\n",
       "comp usage \"y\" as E7  <<(T,blue)attribute>> [[psysml:b8e81d8b-4779-47a3-b21f-b5cec6a6f06b ]] {\r\n",
       "}\r\n",
       "comp usage \"z\" as E8  <<(T,blue)attribute>> [[psysml:ff5b6b09-567c-4f7f-ac5d-5252b0115c49 ]] {\r\n",
       "}\r\n",
       "E3 ..>> E4 [[psysml:dea4bf7d-7df0-4a98-b0a8-ad3094fe796e ]] : <<depend>>\r\n",
       "E4 ..>> E5 [[psysml:6c12c767-a343-4222-b71b-448a215deadc ]] : <<depend>>\r\n",
       "E8 ..>> E6 [[psysml:2c14e4ca-efb9-4e12-a147-b41b8d65befc ]] : <<depend>>\r\n",
       "E8 ..>> E7 [[psysml:2c14e4ca-efb9-4e12-a147-b41b8d65befc ]] : <<depend>>\r\n",
       "}\r\n",
       "@enduml\r\n",
       "\n",
       "PlantUML version 1.2020.13(Sat Jun 13 12:26:38 UTC 2020)\n",
       "(EPL source distribution)\n",
       "Java Runtime: OpenJDK Runtime Environment\n",
       "JVM: OpenJDK 64-Bit Server VM\n",
       "Default Encoding: UTF-8\n",
       "Language: en\n",
       "Country: null\n",
       "--></g></svg>"
      ]
     },
     "execution_count": 10,
     "metadata": {},
     "output_type": "execute_result"
    }
   ],
   "source": [
    "%viz --style=\"POLYLINE\" --view=\"Tree\" \"DependencyTest\""
   ]
  },
  {
   "cell_type": "code",
   "execution_count": 11,
   "id": "b0f8dc7c",
   "metadata": {
    "execution": {
     "iopub.execute_input": "2021-05-28T10:49:36.977585Z",
     "iopub.status.busy": "2021-05-28T10:49:36.977118Z",
     "iopub.status.idle": "2021-05-28T10:49:36.983332Z",
     "shell.execute_reply": "2021-05-28T10:49:36.982993Z"
    }
   },
   "outputs": [
    {
     "data": {
      "image/svg+xml": [
       "<?xml version=\"1.0\" encoding=\"UTF-8\" standalone=\"no\"?><svg xmlns=\"http://www.w3.org/2000/svg\" xmlns:xlink=\"http://www.w3.org/1999/xlink\" contentScriptType=\"application/ecmascript\" contentStyleType=\"text/css\" height=\"12px\" preserveAspectRatio=\"none\" style=\"width:12px;height:12px;\" version=\"1.1\" viewBox=\"0 0 12 12\" width=\"12px\" zoomAndPan=\"magnify\"><defs/><g><!--MD5=[896ac0e7a515d8dd7765a661cb4ee08b]\n",
       "@startuml\r\n",
       "skinparam linetype polyline\r\n",
       "skinparam monochrome true\r\n",
       "skinparam classbackgroundcolor white\r\n",
       "skinparam shadowing false\r\n",
       "skinparam wrapWidth 300\r\n",
       "hide circle\r\n",
       "\r\n",
       "@enduml\r\n",
       "\n",
       "PlantUML version 1.2020.13(Sat Jun 13 12:26:38 UTC 2020)\n",
       "(EPL source distribution)\n",
       "Java Runtime: OpenJDK Runtime Environment\n",
       "JVM: OpenJDK 64-Bit Server VM\n",
       "Default Encoding: UTF-8\n",
       "Language: en\n",
       "Country: null\n",
       "--></g></svg>"
      ]
     },
     "execution_count": 11,
     "metadata": {},
     "output_type": "execute_result"
    }
   ],
   "source": [
    "%viz --style=\"POLYLINE\" --view=\"State\" \"DependencyTest\""
   ]
  },
  {
   "cell_type": "code",
   "execution_count": 12,
   "id": "595a5155",
   "metadata": {
    "execution": {
     "iopub.execute_input": "2021-05-28T10:49:37.036276Z",
     "iopub.status.busy": "2021-05-28T10:49:37.035731Z",
     "iopub.status.idle": "2021-05-28T10:49:37.077203Z",
     "shell.execute_reply": "2021-05-28T10:49:37.076660Z"
    }
   },
   "outputs": [
    {
     "data": {
      "image/svg+xml": [
       "<?xml version=\"1.0\" encoding=\"UTF-8\" standalone=\"no\"?><svg xmlns=\"http://www.w3.org/2000/svg\" xmlns:xlink=\"http://www.w3.org/1999/xlink\" contentScriptType=\"application/ecmascript\" contentStyleType=\"text/css\" height=\"361px\" preserveAspectRatio=\"none\" style=\"width:489px;height:361px;\" version=\"1.1\" viewBox=\"0 0 489 361\" width=\"489px\" zoomAndPan=\"magnify\"><defs/><g><!--MD5=[fbc87193dbaf4d95561dea2c320d4a47]\n",
       "cluster E1--><a href=\"psysml:cce2acdd-5299-4277-a359-760a7748f1a5\" target=\"_top\" title=\"psysml:cce2acdd-5299-4277-a359-760a7748f1a5\" xlink:actuate=\"onRequest\" xlink:href=\"psysml:cce2acdd-5299-4277-a359-760a7748f1a5\" xlink:show=\"new\" xlink:title=\"psysml:cce2acdd-5299-4277-a359-760a7748f1a5\" xlink:type=\"simple\"><polygon fill=\"#FFFFFF\" points=\"16,6,156,6,163,28.2969,467,28.2969,467,349,16,349,16,6\" style=\"stroke: #000000; stroke-width: 1.5;\"/><line style=\"stroke: #000000; stroke-width: 1.5;\" x1=\"16\" x2=\"163\" y1=\"28.2969\" y2=\"28.2969\"/><text fill=\"#000000\" font-family=\"sans-serif\" font-size=\"14\" font-weight=\"bold\" lengthAdjust=\"spacingAndGlyphs\" textLength=\"134\" x=\"20\" y=\"20.9951\">DependencyTest</text></a><!--MD5=[e4f7fae6ed58524ba242bb0b0d3be6b7]\n",
       "cluster E2--><a href=\"psysml:fe0450d0-807d-48bf-914f-f99eea0aac67\" target=\"_top\" title=\"psysml:fe0450d0-807d-48bf-914f-f99eea0aac67\" xlink:actuate=\"onRequest\" xlink:href=\"psysml:fe0450d0-807d-48bf-914f-f99eea0aac67\" xlink:show=\"new\" xlink:title=\"psysml:fe0450d0-807d-48bf-914f-f99eea0aac67\" xlink:type=\"simple\"><polygon fill=\"#FFFFFF\" points=\"255,49,319,49,326,71.2969,443,71.2969,443,325,255,325,255,49\" style=\"stroke: #000000; stroke-width: 1.5;\"/><line style=\"stroke: #000000; stroke-width: 1.5;\" x1=\"255\" x2=\"326\" y1=\"71.2969\" y2=\"71.2969\"/><text fill=\"#000000\" font-family=\"sans-serif\" font-size=\"14\" font-weight=\"bold\" lengthAdjust=\"spacingAndGlyphs\" textLength=\"58\" x=\"259\" y=\"63.9951\">System</text></a><!--MD5=[60a26617385b1d2d0262a64233df1f8d]\n",
       "class E6--><a href=\"psysml:627607da-451a-45ac-bf2e-8d18d85231b1\" target=\"_top\" title=\"psysml:627607da-451a-45ac-bf2e-8d18d85231b1\" xlink:actuate=\"onRequest\" xlink:href=\"psysml:627607da-451a-45ac-bf2e-8d18d85231b1\" xlink:show=\"new\" xlink:title=\"psysml:627607da-451a-45ac-bf2e-8d18d85231b1\" xlink:type=\"simple\"><rect fill=\"#FFFFFF\" height=\"45.9375\" id=\"E6\" rx=\"10\" ry=\"10\" style=\"stroke: #383838; stroke-width: 1.5;\" width=\"71\" x=\"32.5\" y=\"173.5\"/><text fill=\"#000000\" font-family=\"sans-serif\" font-size=\"12\" font-style=\"italic\" lengthAdjust=\"spacingAndGlyphs\" textLength=\"69\" x=\"33.5\" y=\"189.6387\">«attribute»</text><text fill=\"#000000\" font-family=\"sans-serif\" font-size=\"12\" lengthAdjust=\"spacingAndGlyphs\" textLength=\"6\" x=\"65\" y=\"203.6074\">x</text><line style=\"stroke: #383838; stroke-width: 1.5;\" x1=\"33.5\" x2=\"102.5\" y1=\"211.4375\" y2=\"211.4375\"/></a><!--MD5=[2156ba9850f5573cc1fc38a6a4b2f02b]\n",
       "class E7--><a href=\"psysml:b8e81d8b-4779-47a3-b21f-b5cec6a6f06b\" target=\"_top\" title=\"psysml:b8e81d8b-4779-47a3-b21f-b5cec6a6f06b\" xlink:actuate=\"onRequest\" xlink:href=\"psysml:b8e81d8b-4779-47a3-b21f-b5cec6a6f06b\" xlink:show=\"new\" xlink:title=\"psysml:b8e81d8b-4779-47a3-b21f-b5cec6a6f06b\" xlink:type=\"simple\"><rect fill=\"#FFFFFF\" height=\"45.9375\" id=\"E7\" rx=\"10\" ry=\"10\" style=\"stroke: #383838; stroke-width: 1.5;\" width=\"71\" x=\"138.5\" y=\"173.5\"/><text fill=\"#000000\" font-family=\"sans-serif\" font-size=\"12\" font-style=\"italic\" lengthAdjust=\"spacingAndGlyphs\" textLength=\"69\" x=\"139.5\" y=\"189.6387\">«attribute»</text><text fill=\"#000000\" font-family=\"sans-serif\" font-size=\"12\" lengthAdjust=\"spacingAndGlyphs\" textLength=\"6\" x=\"171\" y=\"203.6074\">y</text><line style=\"stroke: #383838; stroke-width: 1.5;\" x1=\"139.5\" x2=\"208.5\" y1=\"211.4375\" y2=\"211.4375\"/></a><!--MD5=[b9389687b975829384b498ac4b7476b2]\n",
       "class E8--><a href=\"psysml:ff5b6b09-567c-4f7f-ac5d-5252b0115c49\" target=\"_top\" title=\"psysml:ff5b6b09-567c-4f7f-ac5d-5252b0115c49\" xlink:actuate=\"onRequest\" xlink:href=\"psysml:ff5b6b09-567c-4f7f-ac5d-5252b0115c49\" xlink:show=\"new\" xlink:title=\"psysml:ff5b6b09-567c-4f7f-ac5d-5252b0115c49\" xlink:type=\"simple\"><rect fill=\"#FFFFFF\" height=\"45.9375\" id=\"E8\" rx=\"10\" ry=\"10\" style=\"stroke: #383838; stroke-width: 1.5;\" width=\"71\" x=\"84.5\" y=\"87.5\"/><text fill=\"#000000\" font-family=\"sans-serif\" font-size=\"12\" font-style=\"italic\" lengthAdjust=\"spacingAndGlyphs\" textLength=\"69\" x=\"85.5\" y=\"103.6387\">«attribute»</text><text fill=\"#000000\" font-family=\"sans-serif\" font-size=\"12\" lengthAdjust=\"spacingAndGlyphs\" textLength=\"5\" x=\"117.5\" y=\"117.6074\">z</text><line style=\"stroke: #383838; stroke-width: 1.5;\" x1=\"85.5\" x2=\"154.5\" y1=\"125.4375\" y2=\"125.4375\"/></a><a href=\"psysml:b4c6803f-b500-4ed2-a89b-7b27b2a9486d\" target=\"_top\" title=\"psysml:b4c6803f-b500-4ed2-a89b-7b27b2a9486d\" xlink:actuate=\"onRequest\" xlink:href=\"psysml:b4c6803f-b500-4ed2-a89b-7b27b2a9486d\" xlink:show=\"new\" xlink:title=\"psysml:b4c6803f-b500-4ed2-a89b-7b27b2a9486d\" xlink:type=\"simple\"><polygon fill=\"#FFFFFF\" points=\"271,84,413,84,420,106.2969,427,106.2969,427,136.5938,271,136.5938,271,84\" style=\"stroke: #000000; stroke-width: 1.5;\"/><line style=\"stroke: #000000; stroke-width: 1.5;\" x1=\"271\" x2=\"420\" y1=\"106.2969\" y2=\"106.2969\"/><text fill=\"#000000\" font-family=\"sans-serif\" font-size=\"14\" font-weight=\"bold\" lengthAdjust=\"spacingAndGlyphs\" textLength=\"136\" x=\"275\" y=\"98.9951\">Application Layer</text></a><a href=\"psysml:66b88940-ae34-45ae-8eaf-0df380551b61\" target=\"_top\" title=\"psysml:66b88940-ae34-45ae-8eaf-0df380551b61\" xlink:actuate=\"onRequest\" xlink:href=\"psysml:66b88940-ae34-45ae-8eaf-0df380551b61\" xlink:show=\"new\" xlink:title=\"psysml:66b88940-ae34-45ae-8eaf-0df380551b61\" xlink:type=\"simple\"><polygon fill=\"#FFFFFF\" points=\"285,170,399,170,406,192.2969,413,192.2969,413,222.5938,285,222.5938,285,170\" style=\"stroke: #000000; stroke-width: 1.5;\"/><line style=\"stroke: #000000; stroke-width: 1.5;\" x1=\"285\" x2=\"406\" y1=\"192.2969\" y2=\"192.2969\"/><text fill=\"#000000\" font-family=\"sans-serif\" font-size=\"14\" font-weight=\"bold\" lengthAdjust=\"spacingAndGlyphs\" textLength=\"108\" x=\"289\" y=\"184.9951\">Service Layer</text></a><a href=\"psysml:2f9cfad3-e6e2-4672-a52e-eac3ac1cc3fa\" target=\"_top\" title=\"psysml:2f9cfad3-e6e2-4672-a52e-eac3ac1cc3fa\" xlink:actuate=\"onRequest\" xlink:href=\"psysml:2f9cfad3-e6e2-4672-a52e-eac3ac1cc3fa\" xlink:show=\"new\" xlink:title=\"psysml:2f9cfad3-e6e2-4672-a52e-eac3ac1cc3fa\" xlink:type=\"simple\"><polygon fill=\"#FFFFFF\" points=\"297,256,387,256,394,278.2969,401,278.2969,401,308.5938,297,308.5938,297,256\" style=\"stroke: #000000; stroke-width: 1.5;\"/><line style=\"stroke: #000000; stroke-width: 1.5;\" x1=\"297\" x2=\"394\" y1=\"278.2969\" y2=\"278.2969\"/><text fill=\"#000000\" font-family=\"sans-serif\" font-size=\"14\" font-weight=\"bold\" lengthAdjust=\"spacingAndGlyphs\" textLength=\"84\" x=\"301\" y=\"270.9951\">Data Layer</text></a><!--MD5=[af87c684e3b0d8be13c1a698a818ef1e]\n",
       "link E3 to E4--><a href=\"psysml:dea4bf7d-7df0-4a98-b0a8-ad3094fe796e\" target=\"_top\" title=\"psysml:dea4bf7d-7df0-4a98-b0a8-ad3094fe796e\" xlink:actuate=\"onRequest\" xlink:href=\"psysml:dea4bf7d-7df0-4a98-b0a8-ad3094fe796e\" xlink:show=\"new\" xlink:title=\"psysml:dea4bf7d-7df0-4a98-b0a8-ad3094fe796e\" xlink:type=\"simple\"><path d=\"M349,137.16 C349,144.98 349,153.69 349,161.94 \" fill=\"none\" id=\"E3-&gt;E4\" style=\"stroke: #383838; stroke-width: 1.0; stroke-dasharray: 7.0,7.0;\"/><polygon fill=\"#383838\" points=\"349,170,352,162,346,162,349,170\" style=\"stroke: #383838; stroke-width: 1.0;\"/><text fill=\"#000000\" font-family=\"sans-serif\" font-size=\"13\" lengthAdjust=\"spacingAndGlyphs\" textLength=\"64\" x=\"350\" y=\"158.0669\">«depend»</text></a><!--MD5=[1b7591eae5389033d8d09a9d6721a717]\n",
       "link E4 to E5--><a href=\"psysml:6c12c767-a343-4222-b71b-448a215deadc\" target=\"_top\" title=\"psysml:6c12c767-a343-4222-b71b-448a215deadc\" xlink:actuate=\"onRequest\" xlink:href=\"psysml:6c12c767-a343-4222-b71b-448a215deadc\" xlink:show=\"new\" xlink:title=\"psysml:6c12c767-a343-4222-b71b-448a215deadc\" xlink:type=\"simple\"><path d=\"M349,223.16 C349,230.98 349,239.69 349,247.94 \" fill=\"none\" id=\"E4-&gt;E5\" style=\"stroke: #383838; stroke-width: 1.0; stroke-dasharray: 7.0,7.0;\"/><polygon fill=\"#383838\" points=\"349,256,352,248,346,248,349,256\" style=\"stroke: #383838; stroke-width: 1.0;\"/><text fill=\"#000000\" font-family=\"sans-serif\" font-size=\"13\" lengthAdjust=\"spacingAndGlyphs\" textLength=\"64\" x=\"350\" y=\"244.0669\">«depend»</text></a><!--MD5=[c5e8897d989ce984f93528998a7150fe]\n",
       "link E8 to E6--><a href=\"psysml:2c14e4ca-efb9-4e12-a147-b41b8d65befc\" target=\"_top\" title=\"psysml:2c14e4ca-efb9-4e12-a147-b41b8d65befc\" xlink:actuate=\"onRequest\" xlink:href=\"psysml:2c14e4ca-efb9-4e12-a147-b41b8d65befc\" xlink:show=\"new\" xlink:title=\"psysml:2c14e4ca-efb9-4e12-a147-b41b8d65befc\" xlink:type=\"simple\"><path d=\"M84.22,132.91 C73.24,139.47 64,145 64,145 C64,145 64,162 64,162 C64,162 64.15,163.28 64.4,165.33 \" fill=\"none\" id=\"E8-&gt;E6\" style=\"stroke: #383838; stroke-width: 1.0; stroke-dasharray: 7.0,7.0;\"/><polygon fill=\"#383838\" points=\"65.35,173.34,67.3861,165.0421,61.4279,165.7494,65.35,173.34\" style=\"stroke: #383838; stroke-width: 1.0;\"/><text fill=\"#000000\" font-family=\"sans-serif\" font-size=\"13\" lengthAdjust=\"spacingAndGlyphs\" textLength=\"64\" x=\"65\" y=\"158.0669\">«depend»</text></a><!--MD5=[bfa3c8b0d15052fdf50ae9310b491027]\n",
       "link E8 to E7--><a href=\"psysml:2c14e4ca-efb9-4e12-a147-b41b8d65befc\" target=\"_top\" title=\"psysml:2c14e4ca-efb9-4e12-a147-b41b8d65befc\" xlink:actuate=\"onRequest\" xlink:href=\"psysml:2c14e4ca-efb9-4e12-a147-b41b8d65befc\" xlink:show=\"new\" xlink:title=\"psysml:2c14e4ca-efb9-4e12-a147-b41b8d65befc\" xlink:type=\"simple\"><path d=\"M134.19,133.57 C140.65,143.62 148.38,155.65 155.31,166.42 \" fill=\"none\" id=\"E8-&gt;E7\" style=\"stroke: #383838; stroke-width: 1.0; stroke-dasharray: 7.0,7.0;\"/><polygon fill=\"#383838\" points=\"159.72,173.29,157.9148,164.9389,152.8688,168.185,159.72,173.29\" style=\"stroke: #383838; stroke-width: 1.0;\"/><text fill=\"#000000\" font-family=\"sans-serif\" font-size=\"13\" lengthAdjust=\"spacingAndGlyphs\" textLength=\"64\" x=\"152\" y=\"158.0669\">«depend»</text></a><!--MD5=[c8570863789f7f36db8ca3e24b5bb9b2]\n",
       "@startuml\r\n",
       "skinparam ranksep 10\r\n",
       "skinparam rectangle {\r\n",
       " backgroundColor<<block>> LightGreen\r\n",
       "}\r\n",
       "skinparam linetype polyline\r\n",
       "skinparam monochrome true\r\n",
       "skinparam classbackgroundcolor white\r\n",
       "skinparam shadowing false\r\n",
       "skinparam wrapWidth 300\r\n",
       "hide circle\r\n",
       "\r\n",
       "package \"DependencyTest\" as E1  [[psysml:cce2acdd-5299-4277-a359-760a7748f1a5 ]]  {\r\n",
       "package \"System\" as E2  [[psysml:fe0450d0-807d-48bf-914f-f99eea0aac67 ]]  {\r\n",
       "package \"Application Layer\" as E3  [[psysml:b4c6803f-b500-4ed2-a89b-7b27b2a9486d ]]  {\r\n",
       "}\r\n",
       "package \"Service Layer\" as E4  [[psysml:66b88940-ae34-45ae-8eaf-0df380551b61 ]]  {\r\n",
       "}\r\n",
       "package \"Data Layer\" as E5  [[psysml:2f9cfad3-e6e2-4672-a52e-eac3ac1cc3fa ]]  {\r\n",
       "}\r\n",
       "}\r\n",
       "comp usage \"x\" as E6  <<(T,blue)attribute>> [[psysml:627607da-451a-45ac-bf2e-8d18d85231b1 ]] {\r\n",
       "}\r\n",
       "comp usage \"y\" as E7  <<(T,blue)attribute>> [[psysml:b8e81d8b-4779-47a3-b21f-b5cec6a6f06b ]] {\r\n",
       "}\r\n",
       "comp usage \"z\" as E8  <<(T,blue)attribute>> [[psysml:ff5b6b09-567c-4f7f-ac5d-5252b0115c49 ]] {\r\n",
       "}\r\n",
       "E3 ..>> E4 [[psysml:dea4bf7d-7df0-4a98-b0a8-ad3094fe796e ]] : <<depend>>\r\n",
       "E4 ..>> E5 [[psysml:6c12c767-a343-4222-b71b-448a215deadc ]] : <<depend>>\r\n",
       "E8 ..>> E6 [[psysml:2c14e4ca-efb9-4e12-a147-b41b8d65befc ]] : <<depend>>\r\n",
       "E8 ..>> E7 [[psysml:2c14e4ca-efb9-4e12-a147-b41b8d65befc ]] : <<depend>>\r\n",
       "}\r\n",
       "@enduml\r\n",
       "\n",
       "PlantUML version 1.2020.13(Sat Jun 13 12:26:38 UTC 2020)\n",
       "(EPL source distribution)\n",
       "Java Runtime: OpenJDK Runtime Environment\n",
       "JVM: OpenJDK 64-Bit Server VM\n",
       "Default Encoding: UTF-8\n",
       "Language: en\n",
       "Country: null\n",
       "--></g></svg>"
      ]
     },
     "execution_count": 12,
     "metadata": {},
     "output_type": "execute_result"
    }
   ],
   "source": [
    "%viz --style=\"POLYLINE\" --view=\"Interconnection\" \"DependencyTest\""
   ]
  },
  {
   "cell_type": "code",
   "execution_count": 13,
   "id": "ed3ff542",
   "metadata": {
    "execution": {
     "iopub.execute_input": "2021-05-28T10:49:37.127765Z",
     "iopub.status.busy": "2021-05-28T10:49:37.127202Z",
     "iopub.status.idle": "2021-05-28T10:49:37.134094Z",
     "shell.execute_reply": "2021-05-28T10:49:37.134411Z"
    }
   },
   "outputs": [
    {
     "data": {
      "image/svg+xml": [
       "<?xml version=\"1.0\" encoding=\"UTF-8\" standalone=\"no\"?><svg xmlns=\"http://www.w3.org/2000/svg\" xmlns:xlink=\"http://www.w3.org/1999/xlink\" contentScriptType=\"application/ecmascript\" contentStyleType=\"text/css\" height=\"12px\" preserveAspectRatio=\"none\" style=\"width:12px;height:12px;\" version=\"1.1\" viewBox=\"0 0 12 12\" width=\"12px\" zoomAndPan=\"magnify\"><defs/><g><!--MD5=[97bbf32f66ccd50cbc40d92ea8f5a65e]\n",
       "@startuml\r\n",
       "skinparam ranksep 8\r\n",
       "skinparam linetype polyline\r\n",
       "skinparam monochrome true\r\n",
       "skinparam classbackgroundcolor white\r\n",
       "skinparam shadowing false\r\n",
       "skinparam wrapWidth 300\r\n",
       "hide circle\r\n",
       "\r\n",
       "@enduml\r\n",
       "\n",
       "PlantUML version 1.2020.13(Sat Jun 13 12:26:38 UTC 2020)\n",
       "(EPL source distribution)\n",
       "Java Runtime: OpenJDK Runtime Environment\n",
       "JVM: OpenJDK 64-Bit Server VM\n",
       "Default Encoding: UTF-8\n",
       "Language: en\n",
       "Country: null\n",
       "--></g></svg>"
      ]
     },
     "execution_count": 13,
     "metadata": {},
     "output_type": "execute_result"
    }
   ],
   "source": [
    "%viz --style=\"POLYLINE\" --view=\"Action\" \"DependencyTest\""
   ]
  },
  {
   "cell_type": "code",
   "execution_count": 14,
   "id": "014dc06a",
   "metadata": {
    "execution": {
     "iopub.execute_input": "2021-05-28T10:49:37.186381Z",
     "iopub.status.busy": "2021-05-28T10:49:37.185727Z",
     "iopub.status.idle": "2021-05-28T10:49:37.226620Z",
     "shell.execute_reply": "2021-05-28T10:49:37.226242Z"
    }
   },
   "outputs": [
    {
     "data": {
      "image/svg+xml": [
       "<?xml version=\"1.0\" encoding=\"UTF-8\" standalone=\"no\"?><svg xmlns=\"http://www.w3.org/2000/svg\" xmlns:xlink=\"http://www.w3.org/1999/xlink\" contentScriptType=\"application/ecmascript\" contentStyleType=\"text/css\" height=\"449px\" preserveAspectRatio=\"none\" style=\"width:489px;height:449px;\" version=\"1.1\" viewBox=\"0 0 489 449\" width=\"489px\" zoomAndPan=\"magnify\"><defs/><g><!--MD5=[fbc87193dbaf4d95561dea2c320d4a47]\n",
       "cluster E1--><a href=\"psysml:cce2acdd-5299-4277-a359-760a7748f1a5\" target=\"_top\" title=\"psysml:cce2acdd-5299-4277-a359-760a7748f1a5\" xlink:actuate=\"onRequest\" xlink:href=\"psysml:cce2acdd-5299-4277-a359-760a7748f1a5\" xlink:show=\"new\" xlink:title=\"psysml:cce2acdd-5299-4277-a359-760a7748f1a5\" xlink:type=\"simple\"><polygon fill=\"#FFFFFF\" points=\"16,6,156,6,163,28.2969,467,28.2969,467,437,16,437,16,6\" style=\"stroke: #000000; stroke-width: 1.5;\"/><line style=\"stroke: #000000; stroke-width: 1.5;\" x1=\"16\" x2=\"163\" y1=\"28.2969\" y2=\"28.2969\"/><text fill=\"#000000\" font-family=\"sans-serif\" font-size=\"14\" font-weight=\"bold\" lengthAdjust=\"spacingAndGlyphs\" textLength=\"134\" x=\"20\" y=\"20.9951\">DependencyTest</text></a><!--MD5=[e4f7fae6ed58524ba242bb0b0d3be6b7]\n",
       "cluster E2--><a href=\"psysml:fe0450d0-807d-48bf-914f-f99eea0aac67\" target=\"_top\" title=\"psysml:fe0450d0-807d-48bf-914f-f99eea0aac67\" xlink:actuate=\"onRequest\" xlink:href=\"psysml:fe0450d0-807d-48bf-914f-f99eea0aac67\" xlink:show=\"new\" xlink:title=\"psysml:fe0450d0-807d-48bf-914f-f99eea0aac67\" xlink:type=\"simple\"><polygon fill=\"#FFFFFF\" points=\"255,49,319,49,326,71.2969,443,71.2969,443,413,255,413,255,49\" style=\"stroke: #000000; stroke-width: 1.5;\"/><line style=\"stroke: #000000; stroke-width: 1.5;\" x1=\"255\" x2=\"326\" y1=\"71.2969\" y2=\"71.2969\"/><text fill=\"#000000\" font-family=\"sans-serif\" font-size=\"14\" font-weight=\"bold\" lengthAdjust=\"spacingAndGlyphs\" textLength=\"58\" x=\"259\" y=\"63.9951\">System</text></a><!--MD5=[60a26617385b1d2d0262a64233df1f8d]\n",
       "class E6--><a href=\"psysml:627607da-451a-45ac-bf2e-8d18d85231b1\" target=\"_top\" title=\"psysml:627607da-451a-45ac-bf2e-8d18d85231b1\" xlink:actuate=\"onRequest\" xlink:href=\"psysml:627607da-451a-45ac-bf2e-8d18d85231b1\" xlink:show=\"new\" xlink:title=\"psysml:627607da-451a-45ac-bf2e-8d18d85231b1\" xlink:type=\"simple\"><rect fill=\"#FFFFFF\" height=\"45.9375\" id=\"E6\" rx=\"10\" ry=\"10\" style=\"stroke: #383838; stroke-width: 1.5;\" width=\"71\" x=\"32.5\" y=\"217.5\"/><text fill=\"#000000\" font-family=\"sans-serif\" font-size=\"12\" font-style=\"italic\" lengthAdjust=\"spacingAndGlyphs\" textLength=\"69\" x=\"33.5\" y=\"233.6387\">«attribute»</text><text fill=\"#000000\" font-family=\"sans-serif\" font-size=\"12\" lengthAdjust=\"spacingAndGlyphs\" textLength=\"6\" x=\"65\" y=\"247.6074\">x</text><line style=\"stroke: #383838; stroke-width: 1.5;\" x1=\"33.5\" x2=\"102.5\" y1=\"255.4375\" y2=\"255.4375\"/></a><!--MD5=[2156ba9850f5573cc1fc38a6a4b2f02b]\n",
       "class E7--><a href=\"psysml:b8e81d8b-4779-47a3-b21f-b5cec6a6f06b\" target=\"_top\" title=\"psysml:b8e81d8b-4779-47a3-b21f-b5cec6a6f06b\" xlink:actuate=\"onRequest\" xlink:href=\"psysml:b8e81d8b-4779-47a3-b21f-b5cec6a6f06b\" xlink:show=\"new\" xlink:title=\"psysml:b8e81d8b-4779-47a3-b21f-b5cec6a6f06b\" xlink:type=\"simple\"><rect fill=\"#FFFFFF\" height=\"45.9375\" id=\"E7\" rx=\"10\" ry=\"10\" style=\"stroke: #383838; stroke-width: 1.5;\" width=\"71\" x=\"138.5\" y=\"217.5\"/><text fill=\"#000000\" font-family=\"sans-serif\" font-size=\"12\" font-style=\"italic\" lengthAdjust=\"spacingAndGlyphs\" textLength=\"69\" x=\"139.5\" y=\"233.6387\">«attribute»</text><text fill=\"#000000\" font-family=\"sans-serif\" font-size=\"12\" lengthAdjust=\"spacingAndGlyphs\" textLength=\"6\" x=\"171\" y=\"247.6074\">y</text><line style=\"stroke: #383838; stroke-width: 1.5;\" x1=\"139.5\" x2=\"208.5\" y1=\"255.4375\" y2=\"255.4375\"/></a><!--MD5=[b9389687b975829384b498ac4b7476b2]\n",
       "class E8--><a href=\"psysml:ff5b6b09-567c-4f7f-ac5d-5252b0115c49\" target=\"_top\" title=\"psysml:ff5b6b09-567c-4f7f-ac5d-5252b0115c49\" xlink:actuate=\"onRequest\" xlink:href=\"psysml:ff5b6b09-567c-4f7f-ac5d-5252b0115c49\" xlink:show=\"new\" xlink:title=\"psysml:ff5b6b09-567c-4f7f-ac5d-5252b0115c49\" xlink:type=\"simple\"><rect fill=\"#FFFFFF\" height=\"45.9375\" id=\"E8\" rx=\"10\" ry=\"10\" style=\"stroke: #383838; stroke-width: 1.5;\" width=\"71\" x=\"84.5\" y=\"87.5\"/><text fill=\"#000000\" font-family=\"sans-serif\" font-size=\"12\" font-style=\"italic\" lengthAdjust=\"spacingAndGlyphs\" textLength=\"69\" x=\"85.5\" y=\"103.6387\">«attribute»</text><text fill=\"#000000\" font-family=\"sans-serif\" font-size=\"12\" lengthAdjust=\"spacingAndGlyphs\" textLength=\"5\" x=\"117.5\" y=\"117.6074\">z</text><line style=\"stroke: #383838; stroke-width: 1.5;\" x1=\"85.5\" x2=\"154.5\" y1=\"125.4375\" y2=\"125.4375\"/></a><a href=\"psysml:b4c6803f-b500-4ed2-a89b-7b27b2a9486d\" target=\"_top\" title=\"psysml:b4c6803f-b500-4ed2-a89b-7b27b2a9486d\" xlink:actuate=\"onRequest\" xlink:href=\"psysml:b4c6803f-b500-4ed2-a89b-7b27b2a9486d\" xlink:show=\"new\" xlink:title=\"psysml:b4c6803f-b500-4ed2-a89b-7b27b2a9486d\" xlink:type=\"simple\"><polygon fill=\"#FFFFFF\" points=\"271,84,413,84,420,106.2969,427,106.2969,427,136.5938,271,136.5938,271,84\" style=\"stroke: #000000; stroke-width: 1.5;\"/><line style=\"stroke: #000000; stroke-width: 1.5;\" x1=\"271\" x2=\"420\" y1=\"106.2969\" y2=\"106.2969\"/><text fill=\"#000000\" font-family=\"sans-serif\" font-size=\"14\" font-weight=\"bold\" lengthAdjust=\"spacingAndGlyphs\" textLength=\"136\" x=\"275\" y=\"98.9951\">Application Layer</text></a><a href=\"psysml:66b88940-ae34-45ae-8eaf-0df380551b61\" target=\"_top\" title=\"psysml:66b88940-ae34-45ae-8eaf-0df380551b61\" xlink:actuate=\"onRequest\" xlink:href=\"psysml:66b88940-ae34-45ae-8eaf-0df380551b61\" xlink:show=\"new\" xlink:title=\"psysml:66b88940-ae34-45ae-8eaf-0df380551b61\" xlink:type=\"simple\"><polygon fill=\"#FFFFFF\" points=\"285,214,399,214,406,236.2969,413,236.2969,413,266.5938,285,266.5938,285,214\" style=\"stroke: #000000; stroke-width: 1.5;\"/><line style=\"stroke: #000000; stroke-width: 1.5;\" x1=\"285\" x2=\"406\" y1=\"236.2969\" y2=\"236.2969\"/><text fill=\"#000000\" font-family=\"sans-serif\" font-size=\"14\" font-weight=\"bold\" lengthAdjust=\"spacingAndGlyphs\" textLength=\"108\" x=\"289\" y=\"228.9951\">Service Layer</text></a><a href=\"psysml:2f9cfad3-e6e2-4672-a52e-eac3ac1cc3fa\" target=\"_top\" title=\"psysml:2f9cfad3-e6e2-4672-a52e-eac3ac1cc3fa\" xlink:actuate=\"onRequest\" xlink:href=\"psysml:2f9cfad3-e6e2-4672-a52e-eac3ac1cc3fa\" xlink:show=\"new\" xlink:title=\"psysml:2f9cfad3-e6e2-4672-a52e-eac3ac1cc3fa\" xlink:type=\"simple\"><polygon fill=\"#FFFFFF\" points=\"297,344,387,344,394,366.2969,401,366.2969,401,396.5938,297,396.5938,297,344\" style=\"stroke: #000000; stroke-width: 1.5;\"/><line style=\"stroke: #000000; stroke-width: 1.5;\" x1=\"297\" x2=\"394\" y1=\"366.2969\" y2=\"366.2969\"/><text fill=\"#000000\" font-family=\"sans-serif\" font-size=\"14\" font-weight=\"bold\" lengthAdjust=\"spacingAndGlyphs\" textLength=\"84\" x=\"301\" y=\"358.9951\">Data Layer</text></a><!--MD5=[af87c684e3b0d8be13c1a698a818ef1e]\n",
       "link E3 to E4--><a href=\"psysml:dea4bf7d-7df0-4a98-b0a8-ad3094fe796e\" target=\"_top\" title=\"psysml:dea4bf7d-7df0-4a98-b0a8-ad3094fe796e\" xlink:actuate=\"onRequest\" xlink:href=\"psysml:dea4bf7d-7df0-4a98-b0a8-ad3094fe796e\" xlink:show=\"new\" xlink:title=\"psysml:dea4bf7d-7df0-4a98-b0a8-ad3094fe796e\" xlink:type=\"simple\"><path d=\"M349,137.1 C349,156.8 349,184.22 349,205.73 \" fill=\"none\" id=\"E3-&gt;E4\" style=\"stroke: #383838; stroke-width: 1.0; stroke-dasharray: 7.0,7.0;\"/><polygon fill=\"#383838\" points=\"349,213.95,352,205.95,346,205.95,349,213.95\" style=\"stroke: #383838; stroke-width: 1.0;\"/><text fill=\"#000000\" font-family=\"sans-serif\" font-size=\"13\" lengthAdjust=\"spacingAndGlyphs\" textLength=\"64\" x=\"350\" y=\"180.0669\">«depend»</text></a><!--MD5=[1b7591eae5389033d8d09a9d6721a717]\n",
       "link E4 to E5--><a href=\"psysml:6c12c767-a343-4222-b71b-448a215deadc\" target=\"_top\" title=\"psysml:6c12c767-a343-4222-b71b-448a215deadc\" xlink:actuate=\"onRequest\" xlink:href=\"psysml:6c12c767-a343-4222-b71b-448a215deadc\" xlink:show=\"new\" xlink:title=\"psysml:6c12c767-a343-4222-b71b-448a215deadc\" xlink:type=\"simple\"><path d=\"M349,267.1 C349,286.8 349,314.22 349,335.73 \" fill=\"none\" id=\"E4-&gt;E5\" style=\"stroke: #383838; stroke-width: 1.0; stroke-dasharray: 7.0,7.0;\"/><polygon fill=\"#383838\" points=\"349,343.95,352,335.95,346,335.95,349,343.95\" style=\"stroke: #383838; stroke-width: 1.0;\"/><text fill=\"#000000\" font-family=\"sans-serif\" font-size=\"13\" lengthAdjust=\"spacingAndGlyphs\" textLength=\"64\" x=\"350\" y=\"310.0669\">«depend»</text></a><!--MD5=[c5e8897d989ce984f93528998a7150fe]\n",
       "link E8 to E6--><a href=\"psysml:2c14e4ca-efb9-4e12-a147-b41b8d65befc\" target=\"_top\" title=\"psysml:2c14e4ca-efb9-4e12-a147-b41b8d65befc\" xlink:actuate=\"onRequest\" xlink:href=\"psysml:2c14e4ca-efb9-4e12-a147-b41b8d65befc\" xlink:show=\"new\" xlink:title=\"psysml:2c14e4ca-efb9-4e12-a147-b41b8d65befc\" xlink:type=\"simple\"><path d=\"M97.55,133.75 C81.97,149.19 64,167 64,167 C64,167 64,184 64,184 C64,184 64.88,196.21 65.81,209.18 \" fill=\"none\" id=\"E8-&gt;E6\" style=\"stroke: #383838; stroke-width: 1.0; stroke-dasharray: 7.0,7.0;\"/><polygon fill=\"#383838\" points=\"66.4,217.25,68.8203,209.056,62.8357,209.485,66.4,217.25\" style=\"stroke: #383838; stroke-width: 1.0;\"/><text fill=\"#000000\" font-family=\"sans-serif\" font-size=\"13\" lengthAdjust=\"spacingAndGlyphs\" textLength=\"64\" x=\"65\" y=\"180.0669\">«depend»</text></a><!--MD5=[bfa3c8b0d15052fdf50ae9310b491027]\n",
       "link E8 to E7--><a href=\"psysml:2c14e4ca-efb9-4e12-a147-b41b8d65befc\" target=\"_top\" title=\"psysml:2c14e4ca-efb9-4e12-a147-b41b8d65befc\" xlink:actuate=\"onRequest\" xlink:href=\"psysml:2c14e4ca-efb9-4e12-a147-b41b8d65befc\" xlink:show=\"new\" xlink:title=\"psysml:2c14e4ca-efb9-4e12-a147-b41b8d65befc\" xlink:type=\"simple\"><path d=\"M129.28,133.5 C138.17,154.57 151.64,186.5 161.47,209.81 \" fill=\"none\" id=\"E8-&gt;E7\" style=\"stroke: #383838; stroke-width: 1.0; stroke-dasharray: 7.0,7.0;\"/><polygon fill=\"#383838\" points=\"164.66,217.35,164.3241,208.8126,158.7933,211.1385,164.66,217.35\" style=\"stroke: #383838; stroke-width: 1.0;\"/><text fill=\"#000000\" font-family=\"sans-serif\" font-size=\"13\" lengthAdjust=\"spacingAndGlyphs\" textLength=\"64\" x=\"151\" y=\"180.0669\">«depend»</text></a><!--MD5=[f07c909c73742da67d94a6b6f0e3846a]\n",
       "@startuml\r\n",
       "skinparam linetype polyline\r\n",
       "skinparam monochrome true\r\n",
       "skinparam classbackgroundcolor white\r\n",
       "skinparam shadowing false\r\n",
       "skinparam wrapWidth 300\r\n",
       "hide circle\r\n",
       "\r\n",
       "package \"DependencyTest\" as E1  [[psysml:cce2acdd-5299-4277-a359-760a7748f1a5 ]]  {\r\n",
       "package \"System\" as E2  [[psysml:fe0450d0-807d-48bf-914f-f99eea0aac67 ]]  {\r\n",
       "package \"Application Layer\" as E3  [[psysml:b4c6803f-b500-4ed2-a89b-7b27b2a9486d ]]  {\r\n",
       "}\r\n",
       "package \"Service Layer\" as E4  [[psysml:66b88940-ae34-45ae-8eaf-0df380551b61 ]]  {\r\n",
       "}\r\n",
       "package \"Data Layer\" as E5  [[psysml:2f9cfad3-e6e2-4672-a52e-eac3ac1cc3fa ]]  {\r\n",
       "}\r\n",
       "}\r\n",
       "comp usage \"x\" as E6  <<(T,blue)attribute>> [[psysml:627607da-451a-45ac-bf2e-8d18d85231b1 ]] {\r\n",
       "}\r\n",
       "comp usage \"y\" as E7  <<(T,blue)attribute>> [[psysml:b8e81d8b-4779-47a3-b21f-b5cec6a6f06b ]] {\r\n",
       "}\r\n",
       "comp usage \"z\" as E8  <<(T,blue)attribute>> [[psysml:ff5b6b09-567c-4f7f-ac5d-5252b0115c49 ]] {\r\n",
       "}\r\n",
       "E3 ..>> E4 [[psysml:dea4bf7d-7df0-4a98-b0a8-ad3094fe796e ]] : <<depend>>\r\n",
       "E4 ..>> E5 [[psysml:6c12c767-a343-4222-b71b-448a215deadc ]] : <<depend>>\r\n",
       "E8 ..>> E6 [[psysml:2c14e4ca-efb9-4e12-a147-b41b8d65befc ]] : <<depend>>\r\n",
       "E8 ..>> E7 [[psysml:2c14e4ca-efb9-4e12-a147-b41b8d65befc ]] : <<depend>>\r\n",
       "}\r\n",
       "@enduml\r\n",
       "\n",
       "PlantUML version 1.2020.13(Sat Jun 13 12:26:38 UTC 2020)\n",
       "(EPL source distribution)\n",
       "Java Runtime: OpenJDK Runtime Environment\n",
       "JVM: OpenJDK 64-Bit Server VM\n",
       "Default Encoding: UTF-8\n",
       "Language: en\n",
       "Country: null\n",
       "--></g></svg>"
      ]
     },
     "execution_count": 14,
     "metadata": {},
     "output_type": "execute_result"
    }
   ],
   "source": [
    "%viz --style=\"POLYLINE\" --view=\"Sequence\" \"DependencyTest\""
   ]
  },
  {
   "cell_type": "code",
   "execution_count": 15,
   "id": "1491b168",
   "metadata": {
    "execution": {
     "iopub.execute_input": "2021-05-28T10:49:37.277062Z",
     "iopub.status.busy": "2021-05-28T10:49:37.276563Z",
     "iopub.status.idle": "2021-05-28T10:49:37.357511Z",
     "shell.execute_reply": "2021-05-28T10:49:37.356086Z"
    }
   },
   "outputs": [
    {
     "data": {
      "image/svg+xml": [
       "<?xml version=\"1.0\" encoding=\"UTF-8\" standalone=\"no\"?><svg xmlns=\"http://www.w3.org/2000/svg\" xmlns:xlink=\"http://www.w3.org/1999/xlink\" contentScriptType=\"application/ecmascript\" contentStyleType=\"text/css\" height=\"449px\" preserveAspectRatio=\"none\" style=\"width:489px;height:449px;\" version=\"1.1\" viewBox=\"0 0 489 449\" width=\"489px\" zoomAndPan=\"magnify\"><defs/><g><!--MD5=[fbc87193dbaf4d95561dea2c320d4a47]\n",
       "cluster E1--><a href=\"psysml:cce2acdd-5299-4277-a359-760a7748f1a5\" target=\"_top\" title=\"psysml:cce2acdd-5299-4277-a359-760a7748f1a5\" xlink:actuate=\"onRequest\" xlink:href=\"psysml:cce2acdd-5299-4277-a359-760a7748f1a5\" xlink:show=\"new\" xlink:title=\"psysml:cce2acdd-5299-4277-a359-760a7748f1a5\" xlink:type=\"simple\"><polygon fill=\"#FFFFFF\" points=\"16,6,156,6,163,28.2969,467,28.2969,467,437,16,437,16,6\" style=\"stroke: #000000; stroke-width: 1.5;\"/><line style=\"stroke: #000000; stroke-width: 1.5;\" x1=\"16\" x2=\"163\" y1=\"28.2969\" y2=\"28.2969\"/><text fill=\"#000000\" font-family=\"sans-serif\" font-size=\"14\" font-weight=\"bold\" lengthAdjust=\"spacingAndGlyphs\" textLength=\"134\" x=\"20\" y=\"20.9951\">DependencyTest</text></a><!--MD5=[e4f7fae6ed58524ba242bb0b0d3be6b7]\n",
       "cluster E2--><a href=\"psysml:fe0450d0-807d-48bf-914f-f99eea0aac67\" target=\"_top\" title=\"psysml:fe0450d0-807d-48bf-914f-f99eea0aac67\" xlink:actuate=\"onRequest\" xlink:href=\"psysml:fe0450d0-807d-48bf-914f-f99eea0aac67\" xlink:show=\"new\" xlink:title=\"psysml:fe0450d0-807d-48bf-914f-f99eea0aac67\" xlink:type=\"simple\"><polygon fill=\"#FFFFFF\" points=\"255,49,319,49,326,71.2969,443,71.2969,443,413,255,413,255,49\" style=\"stroke: #000000; stroke-width: 1.5;\"/><line style=\"stroke: #000000; stroke-width: 1.5;\" x1=\"255\" x2=\"326\" y1=\"71.2969\" y2=\"71.2969\"/><text fill=\"#000000\" font-family=\"sans-serif\" font-size=\"14\" font-weight=\"bold\" lengthAdjust=\"spacingAndGlyphs\" textLength=\"58\" x=\"259\" y=\"63.9951\">System</text></a><!--MD5=[60a26617385b1d2d0262a64233df1f8d]\n",
       "class E6--><a href=\"psysml:627607da-451a-45ac-bf2e-8d18d85231b1\" target=\"_top\" title=\"psysml:627607da-451a-45ac-bf2e-8d18d85231b1\" xlink:actuate=\"onRequest\" xlink:href=\"psysml:627607da-451a-45ac-bf2e-8d18d85231b1\" xlink:show=\"new\" xlink:title=\"psysml:627607da-451a-45ac-bf2e-8d18d85231b1\" xlink:type=\"simple\"><rect fill=\"#FFFFFF\" height=\"45.9375\" id=\"E6\" rx=\"10\" ry=\"10\" style=\"stroke: #383838; stroke-width: 1.5;\" width=\"71\" x=\"32.5\" y=\"217.5\"/><text fill=\"#000000\" font-family=\"sans-serif\" font-size=\"12\" font-style=\"italic\" lengthAdjust=\"spacingAndGlyphs\" textLength=\"69\" x=\"33.5\" y=\"233.6387\">«attribute»</text><text fill=\"#000000\" font-family=\"sans-serif\" font-size=\"12\" lengthAdjust=\"spacingAndGlyphs\" textLength=\"6\" x=\"65\" y=\"247.6074\">x</text><line style=\"stroke: #383838; stroke-width: 1.5;\" x1=\"33.5\" x2=\"102.5\" y1=\"255.4375\" y2=\"255.4375\"/></a><!--MD5=[2156ba9850f5573cc1fc38a6a4b2f02b]\n",
       "class E7--><a href=\"psysml:b8e81d8b-4779-47a3-b21f-b5cec6a6f06b\" target=\"_top\" title=\"psysml:b8e81d8b-4779-47a3-b21f-b5cec6a6f06b\" xlink:actuate=\"onRequest\" xlink:href=\"psysml:b8e81d8b-4779-47a3-b21f-b5cec6a6f06b\" xlink:show=\"new\" xlink:title=\"psysml:b8e81d8b-4779-47a3-b21f-b5cec6a6f06b\" xlink:type=\"simple\"><rect fill=\"#FFFFFF\" height=\"45.9375\" id=\"E7\" rx=\"10\" ry=\"10\" style=\"stroke: #383838; stroke-width: 1.5;\" width=\"71\" x=\"138.5\" y=\"217.5\"/><text fill=\"#000000\" font-family=\"sans-serif\" font-size=\"12\" font-style=\"italic\" lengthAdjust=\"spacingAndGlyphs\" textLength=\"69\" x=\"139.5\" y=\"233.6387\">«attribute»</text><text fill=\"#000000\" font-family=\"sans-serif\" font-size=\"12\" lengthAdjust=\"spacingAndGlyphs\" textLength=\"6\" x=\"171\" y=\"247.6074\">y</text><line style=\"stroke: #383838; stroke-width: 1.5;\" x1=\"139.5\" x2=\"208.5\" y1=\"255.4375\" y2=\"255.4375\"/></a><!--MD5=[b9389687b975829384b498ac4b7476b2]\n",
       "class E8--><a href=\"psysml:ff5b6b09-567c-4f7f-ac5d-5252b0115c49\" target=\"_top\" title=\"psysml:ff5b6b09-567c-4f7f-ac5d-5252b0115c49\" xlink:actuate=\"onRequest\" xlink:href=\"psysml:ff5b6b09-567c-4f7f-ac5d-5252b0115c49\" xlink:show=\"new\" xlink:title=\"psysml:ff5b6b09-567c-4f7f-ac5d-5252b0115c49\" xlink:type=\"simple\"><rect fill=\"#FFFFFF\" height=\"45.9375\" id=\"E8\" rx=\"10\" ry=\"10\" style=\"stroke: #383838; stroke-width: 1.5;\" width=\"71\" x=\"84.5\" y=\"87.5\"/><text fill=\"#000000\" font-family=\"sans-serif\" font-size=\"12\" font-style=\"italic\" lengthAdjust=\"spacingAndGlyphs\" textLength=\"69\" x=\"85.5\" y=\"103.6387\">«attribute»</text><text fill=\"#000000\" font-family=\"sans-serif\" font-size=\"12\" lengthAdjust=\"spacingAndGlyphs\" textLength=\"5\" x=\"117.5\" y=\"117.6074\">z</text><line style=\"stroke: #383838; stroke-width: 1.5;\" x1=\"85.5\" x2=\"154.5\" y1=\"125.4375\" y2=\"125.4375\"/></a><a href=\"psysml:b4c6803f-b500-4ed2-a89b-7b27b2a9486d\" target=\"_top\" title=\"psysml:b4c6803f-b500-4ed2-a89b-7b27b2a9486d\" xlink:actuate=\"onRequest\" xlink:href=\"psysml:b4c6803f-b500-4ed2-a89b-7b27b2a9486d\" xlink:show=\"new\" xlink:title=\"psysml:b4c6803f-b500-4ed2-a89b-7b27b2a9486d\" xlink:type=\"simple\"><polygon fill=\"#FFFFFF\" points=\"271,84,413,84,420,106.2969,427,106.2969,427,136.5938,271,136.5938,271,84\" style=\"stroke: #000000; stroke-width: 1.5;\"/><line style=\"stroke: #000000; stroke-width: 1.5;\" x1=\"271\" x2=\"420\" y1=\"106.2969\" y2=\"106.2969\"/><text fill=\"#000000\" font-family=\"sans-serif\" font-size=\"14\" font-weight=\"bold\" lengthAdjust=\"spacingAndGlyphs\" textLength=\"136\" x=\"275\" y=\"98.9951\">Application Layer</text></a><a href=\"psysml:66b88940-ae34-45ae-8eaf-0df380551b61\" target=\"_top\" title=\"psysml:66b88940-ae34-45ae-8eaf-0df380551b61\" xlink:actuate=\"onRequest\" xlink:href=\"psysml:66b88940-ae34-45ae-8eaf-0df380551b61\" xlink:show=\"new\" xlink:title=\"psysml:66b88940-ae34-45ae-8eaf-0df380551b61\" xlink:type=\"simple\"><polygon fill=\"#FFFFFF\" points=\"285,214,399,214,406,236.2969,413,236.2969,413,266.5938,285,266.5938,285,214\" style=\"stroke: #000000; stroke-width: 1.5;\"/><line style=\"stroke: #000000; stroke-width: 1.5;\" x1=\"285\" x2=\"406\" y1=\"236.2969\" y2=\"236.2969\"/><text fill=\"#000000\" font-family=\"sans-serif\" font-size=\"14\" font-weight=\"bold\" lengthAdjust=\"spacingAndGlyphs\" textLength=\"108\" x=\"289\" y=\"228.9951\">Service Layer</text></a><a href=\"psysml:2f9cfad3-e6e2-4672-a52e-eac3ac1cc3fa\" target=\"_top\" title=\"psysml:2f9cfad3-e6e2-4672-a52e-eac3ac1cc3fa\" xlink:actuate=\"onRequest\" xlink:href=\"psysml:2f9cfad3-e6e2-4672-a52e-eac3ac1cc3fa\" xlink:show=\"new\" xlink:title=\"psysml:2f9cfad3-e6e2-4672-a52e-eac3ac1cc3fa\" xlink:type=\"simple\"><polygon fill=\"#FFFFFF\" points=\"297,344,387,344,394,366.2969,401,366.2969,401,396.5938,297,396.5938,297,344\" style=\"stroke: #000000; stroke-width: 1.5;\"/><line style=\"stroke: #000000; stroke-width: 1.5;\" x1=\"297\" x2=\"394\" y1=\"366.2969\" y2=\"366.2969\"/><text fill=\"#000000\" font-family=\"sans-serif\" font-size=\"14\" font-weight=\"bold\" lengthAdjust=\"spacingAndGlyphs\" textLength=\"84\" x=\"301\" y=\"358.9951\">Data Layer</text></a><!--MD5=[af87c684e3b0d8be13c1a698a818ef1e]\n",
       "link E3 to E4--><a href=\"psysml:dea4bf7d-7df0-4a98-b0a8-ad3094fe796e\" target=\"_top\" title=\"psysml:dea4bf7d-7df0-4a98-b0a8-ad3094fe796e\" xlink:actuate=\"onRequest\" xlink:href=\"psysml:dea4bf7d-7df0-4a98-b0a8-ad3094fe796e\" xlink:show=\"new\" xlink:title=\"psysml:dea4bf7d-7df0-4a98-b0a8-ad3094fe796e\" xlink:type=\"simple\"><path d=\"M349,137.1 C349,156.8 349,184.22 349,205.73 \" fill=\"none\" id=\"E3-&gt;E4\" style=\"stroke: #383838; stroke-width: 1.0; stroke-dasharray: 7.0,7.0;\"/><polygon fill=\"#383838\" points=\"349,213.95,352,205.95,346,205.95,349,213.95\" style=\"stroke: #383838; stroke-width: 1.0;\"/><text fill=\"#000000\" font-family=\"sans-serif\" font-size=\"13\" lengthAdjust=\"spacingAndGlyphs\" textLength=\"64\" x=\"350\" y=\"180.0669\">«depend»</text></a><!--MD5=[1b7591eae5389033d8d09a9d6721a717]\n",
       "link E4 to E5--><a href=\"psysml:6c12c767-a343-4222-b71b-448a215deadc\" target=\"_top\" title=\"psysml:6c12c767-a343-4222-b71b-448a215deadc\" xlink:actuate=\"onRequest\" xlink:href=\"psysml:6c12c767-a343-4222-b71b-448a215deadc\" xlink:show=\"new\" xlink:title=\"psysml:6c12c767-a343-4222-b71b-448a215deadc\" xlink:type=\"simple\"><path d=\"M349,267.1 C349,286.8 349,314.22 349,335.73 \" fill=\"none\" id=\"E4-&gt;E5\" style=\"stroke: #383838; stroke-width: 1.0; stroke-dasharray: 7.0,7.0;\"/><polygon fill=\"#383838\" points=\"349,343.95,352,335.95,346,335.95,349,343.95\" style=\"stroke: #383838; stroke-width: 1.0;\"/><text fill=\"#000000\" font-family=\"sans-serif\" font-size=\"13\" lengthAdjust=\"spacingAndGlyphs\" textLength=\"64\" x=\"350\" y=\"310.0669\">«depend»</text></a><!--MD5=[c5e8897d989ce984f93528998a7150fe]\n",
       "link E8 to E6--><a href=\"psysml:2c14e4ca-efb9-4e12-a147-b41b8d65befc\" target=\"_top\" title=\"psysml:2c14e4ca-efb9-4e12-a147-b41b8d65befc\" xlink:actuate=\"onRequest\" xlink:href=\"psysml:2c14e4ca-efb9-4e12-a147-b41b8d65befc\" xlink:show=\"new\" xlink:title=\"psysml:2c14e4ca-efb9-4e12-a147-b41b8d65befc\" xlink:type=\"simple\"><path d=\"M97.55,133.75 C81.97,149.19 64,167 64,167 C64,167 64,184 64,184 C64,184 64.88,196.21 65.81,209.18 \" fill=\"none\" id=\"E8-&gt;E6\" style=\"stroke: #383838; stroke-width: 1.0; stroke-dasharray: 7.0,7.0;\"/><polygon fill=\"#383838\" points=\"66.4,217.25,68.8203,209.056,62.8357,209.485,66.4,217.25\" style=\"stroke: #383838; stroke-width: 1.0;\"/><text fill=\"#000000\" font-family=\"sans-serif\" font-size=\"13\" lengthAdjust=\"spacingAndGlyphs\" textLength=\"64\" x=\"65\" y=\"180.0669\">«depend»</text></a><!--MD5=[bfa3c8b0d15052fdf50ae9310b491027]\n",
       "link E8 to E7--><a href=\"psysml:2c14e4ca-efb9-4e12-a147-b41b8d65befc\" target=\"_top\" title=\"psysml:2c14e4ca-efb9-4e12-a147-b41b8d65befc\" xlink:actuate=\"onRequest\" xlink:href=\"psysml:2c14e4ca-efb9-4e12-a147-b41b8d65befc\" xlink:show=\"new\" xlink:title=\"psysml:2c14e4ca-efb9-4e12-a147-b41b8d65befc\" xlink:type=\"simple\"><path d=\"M129.28,133.5 C138.17,154.57 151.64,186.5 161.47,209.81 \" fill=\"none\" id=\"E8-&gt;E7\" style=\"stroke: #383838; stroke-width: 1.0; stroke-dasharray: 7.0,7.0;\"/><polygon fill=\"#383838\" points=\"164.66,217.35,164.3241,208.8126,158.7933,211.1385,164.66,217.35\" style=\"stroke: #383838; stroke-width: 1.0;\"/><text fill=\"#000000\" font-family=\"sans-serif\" font-size=\"13\" lengthAdjust=\"spacingAndGlyphs\" textLength=\"64\" x=\"151\" y=\"180.0669\">«depend»</text></a><!--MD5=[f07c909c73742da67d94a6b6f0e3846a]\n",
       "@startuml\r\n",
       "skinparam linetype polyline\r\n",
       "skinparam monochrome true\r\n",
       "skinparam classbackgroundcolor white\r\n",
       "skinparam shadowing false\r\n",
       "skinparam wrapWidth 300\r\n",
       "hide circle\r\n",
       "\r\n",
       "package \"DependencyTest\" as E1  [[psysml:cce2acdd-5299-4277-a359-760a7748f1a5 ]]  {\r\n",
       "package \"System\" as E2  [[psysml:fe0450d0-807d-48bf-914f-f99eea0aac67 ]]  {\r\n",
       "package \"Application Layer\" as E3  [[psysml:b4c6803f-b500-4ed2-a89b-7b27b2a9486d ]]  {\r\n",
       "}\r\n",
       "package \"Service Layer\" as E4  [[psysml:66b88940-ae34-45ae-8eaf-0df380551b61 ]]  {\r\n",
       "}\r\n",
       "package \"Data Layer\" as E5  [[psysml:2f9cfad3-e6e2-4672-a52e-eac3ac1cc3fa ]]  {\r\n",
       "}\r\n",
       "}\r\n",
       "comp usage \"x\" as E6  <<(T,blue)attribute>> [[psysml:627607da-451a-45ac-bf2e-8d18d85231b1 ]] {\r\n",
       "}\r\n",
       "comp usage \"y\" as E7  <<(T,blue)attribute>> [[psysml:b8e81d8b-4779-47a3-b21f-b5cec6a6f06b ]] {\r\n",
       "}\r\n",
       "comp usage \"z\" as E8  <<(T,blue)attribute>> [[psysml:ff5b6b09-567c-4f7f-ac5d-5252b0115c49 ]] {\r\n",
       "}\r\n",
       "E3 ..>> E4 [[psysml:dea4bf7d-7df0-4a98-b0a8-ad3094fe796e ]] : <<depend>>\r\n",
       "E4 ..>> E5 [[psysml:6c12c767-a343-4222-b71b-448a215deadc ]] : <<depend>>\r\n",
       "E8 ..>> E6 [[psysml:2c14e4ca-efb9-4e12-a147-b41b8d65befc ]] : <<depend>>\r\n",
       "E8 ..>> E7 [[psysml:2c14e4ca-efb9-4e12-a147-b41b8d65befc ]] : <<depend>>\r\n",
       "}\r\n",
       "@enduml\r\n",
       "\n",
       "PlantUML version 1.2020.13(Sat Jun 13 12:26:38 UTC 2020)\n",
       "(EPL source distribution)\n",
       "Java Runtime: OpenJDK Runtime Environment\n",
       "JVM: OpenJDK 64-Bit Server VM\n",
       "Default Encoding: UTF-8\n",
       "Language: en\n",
       "Country: null\n",
       "--></g></svg>"
      ]
     },
     "execution_count": 15,
     "metadata": {},
     "output_type": "execute_result"
    }
   ],
   "source": [
    "%viz --style=\"POLYLINE\" --view=\"MIXED\" \"DependencyTest\""
   ]
  },
  {
   "cell_type": "code",
   "execution_count": 16,
   "id": "829b1e55",
   "metadata": {
    "execution": {
     "iopub.execute_input": "2021-05-28T10:49:37.404180Z",
     "iopub.status.busy": "2021-05-28T10:49:37.403653Z",
     "iopub.status.idle": "2021-05-28T10:49:37.441476Z",
     "shell.execute_reply": "2021-05-28T10:49:37.441101Z"
    }
   },
   "outputs": [
    {
     "data": {
      "image/svg+xml": [
       "<?xml version=\"1.0\" encoding=\"UTF-8\" standalone=\"no\"?><svg xmlns=\"http://www.w3.org/2000/svg\" xmlns:xlink=\"http://www.w3.org/1999/xlink\" contentScriptType=\"application/ecmascript\" contentStyleType=\"text/css\" height=\"328px\" preserveAspectRatio=\"none\" style=\"width:758px;height:328px;\" version=\"1.1\" viewBox=\"0 0 758 328\" width=\"758px\" zoomAndPan=\"magnify\"><defs/><g><!--MD5=[fbc87193dbaf4d95561dea2c320d4a47]\n",
       "cluster E1--><a href=\"psysml:cce2acdd-5299-4277-a359-760a7748f1a5\" target=\"_top\" title=\"psysml:cce2acdd-5299-4277-a359-760a7748f1a5\" xlink:actuate=\"onRequest\" xlink:href=\"psysml:cce2acdd-5299-4277-a359-760a7748f1a5\" xlink:show=\"new\" xlink:title=\"psysml:cce2acdd-5299-4277-a359-760a7748f1a5\" xlink:type=\"simple\"><polygon fill=\"#FFFFFF\" points=\"16,6,156,6,163,28.2969,736,28.2969,736,316,16,316,16,6\" style=\"stroke: #000000; stroke-width: 1.5;\"/><line style=\"stroke: #000000; stroke-width: 1.5;\" x1=\"16\" x2=\"163\" y1=\"28.2969\" y2=\"28.2969\"/><text fill=\"#000000\" font-family=\"sans-serif\" font-size=\"14\" font-weight=\"bold\" lengthAdjust=\"spacingAndGlyphs\" textLength=\"134\" x=\"20\" y=\"20.9951\">DependencyTest</text></a><!--MD5=[e4f7fae6ed58524ba242bb0b0d3be6b7]\n",
       "cluster E2--><a href=\"psysml:fe0450d0-807d-48bf-914f-f99eea0aac67\" target=\"_top\" title=\"psysml:fe0450d0-807d-48bf-914f-f99eea0aac67\" xlink:actuate=\"onRequest\" xlink:href=\"psysml:fe0450d0-807d-48bf-914f-f99eea0aac67\" xlink:show=\"new\" xlink:title=\"psysml:fe0450d0-807d-48bf-914f-f99eea0aac67\" xlink:type=\"simple\"><polygon fill=\"#FFFFFF\" points=\"40,49,104,49,111,71.2969,712,71.2969,712,154,40,154,40,49\" style=\"stroke: #000000; stroke-width: 1.5;\"/><line style=\"stroke: #000000; stroke-width: 1.5;\" x1=\"40\" x2=\"111\" y1=\"71.2969\" y2=\"71.2969\"/><text fill=\"#000000\" font-family=\"sans-serif\" font-size=\"14\" font-weight=\"bold\" lengthAdjust=\"spacingAndGlyphs\" textLength=\"58\" x=\"44\" y=\"63.9951\">System</text></a><!--MD5=[60a26617385b1d2d0262a64233df1f8d]\n",
       "class E6--><a href=\"psysml:627607da-451a-45ac-bf2e-8d18d85231b1\" target=\"_top\" title=\"psysml:627607da-451a-45ac-bf2e-8d18d85231b1\" xlink:actuate=\"onRequest\" xlink:href=\"psysml:627607da-451a-45ac-bf2e-8d18d85231b1\" xlink:show=\"new\" xlink:title=\"psysml:627607da-451a-45ac-bf2e-8d18d85231b1\" xlink:type=\"simple\"><rect fill=\"#FFFFFF\" height=\"45.9375\" id=\"E6\" rx=\"10\" ry=\"10\" style=\"stroke: #383838; stroke-width: 1.5;\" width=\"71\" x=\"366.5\" y=\"254\"/><text fill=\"#000000\" font-family=\"sans-serif\" font-size=\"12\" font-style=\"italic\" lengthAdjust=\"spacingAndGlyphs\" textLength=\"69\" x=\"367.5\" y=\"270.1387\">«attribute»</text><text fill=\"#000000\" font-family=\"sans-serif\" font-size=\"12\" lengthAdjust=\"spacingAndGlyphs\" textLength=\"6\" x=\"399\" y=\"284.1074\">x</text><line style=\"stroke: #383838; stroke-width: 1.5;\" x1=\"367.5\" x2=\"436.5\" y1=\"291.9375\" y2=\"291.9375\"/></a><!--MD5=[2156ba9850f5573cc1fc38a6a4b2f02b]\n",
       "class E7--><a href=\"psysml:b8e81d8b-4779-47a3-b21f-b5cec6a6f06b\" target=\"_top\" title=\"psysml:b8e81d8b-4779-47a3-b21f-b5cec6a6f06b\" xlink:actuate=\"onRequest\" xlink:href=\"psysml:b8e81d8b-4779-47a3-b21f-b5cec6a6f06b\" xlink:show=\"new\" xlink:title=\"psysml:b8e81d8b-4779-47a3-b21f-b5cec6a6f06b\" xlink:type=\"simple\"><rect fill=\"#FFFFFF\" height=\"45.9375\" id=\"E7\" rx=\"10\" ry=\"10\" style=\"stroke: #383838; stroke-width: 1.5;\" width=\"71\" x=\"366.5\" y=\"173\"/><text fill=\"#000000\" font-family=\"sans-serif\" font-size=\"12\" font-style=\"italic\" lengthAdjust=\"spacingAndGlyphs\" textLength=\"69\" x=\"367.5\" y=\"189.1387\">«attribute»</text><text fill=\"#000000\" font-family=\"sans-serif\" font-size=\"12\" lengthAdjust=\"spacingAndGlyphs\" textLength=\"6\" x=\"399\" y=\"203.1074\">y</text><line style=\"stroke: #383838; stroke-width: 1.5;\" x1=\"367.5\" x2=\"436.5\" y1=\"210.9375\" y2=\"210.9375\"/></a><!--MD5=[b9389687b975829384b498ac4b7476b2]\n",
       "class E8--><a href=\"psysml:ff5b6b09-567c-4f7f-ac5d-5252b0115c49\" target=\"_top\" title=\"psysml:ff5b6b09-567c-4f7f-ac5d-5252b0115c49\" xlink:actuate=\"onRequest\" xlink:href=\"psysml:ff5b6b09-567c-4f7f-ac5d-5252b0115c49\" xlink:show=\"new\" xlink:title=\"psysml:ff5b6b09-567c-4f7f-ac5d-5252b0115c49\" xlink:type=\"simple\"><rect fill=\"#FFFFFF\" height=\"45.9375\" id=\"E8\" rx=\"10\" ry=\"10\" style=\"stroke: #383838; stroke-width: 1.5;\" width=\"71\" x=\"98.5\" y=\"206\"/><text fill=\"#000000\" font-family=\"sans-serif\" font-size=\"12\" font-style=\"italic\" lengthAdjust=\"spacingAndGlyphs\" textLength=\"69\" x=\"99.5\" y=\"222.1387\">«attribute»</text><text fill=\"#000000\" font-family=\"sans-serif\" font-size=\"12\" lengthAdjust=\"spacingAndGlyphs\" textLength=\"5\" x=\"131.5\" y=\"236.1074\">z</text><line style=\"stroke: #383838; stroke-width: 1.5;\" x1=\"99.5\" x2=\"168.5\" y1=\"243.9375\" y2=\"243.9375\"/></a><a href=\"psysml:b4c6803f-b500-4ed2-a89b-7b27b2a9486d\" target=\"_top\" title=\"psysml:b4c6803f-b500-4ed2-a89b-7b27b2a9486d\" xlink:actuate=\"onRequest\" xlink:href=\"psysml:b4c6803f-b500-4ed2-a89b-7b27b2a9486d\" xlink:show=\"new\" xlink:title=\"psysml:b4c6803f-b500-4ed2-a89b-7b27b2a9486d\" xlink:type=\"simple\"><polygon fill=\"#FFFFFF\" points=\"56,84.5,198,84.5,205,106.7969,212,106.7969,212,137.0938,56,137.0938,56,84.5\" style=\"stroke: #000000; stroke-width: 1.5;\"/><line style=\"stroke: #000000; stroke-width: 1.5;\" x1=\"56\" x2=\"205\" y1=\"106.7969\" y2=\"106.7969\"/><text fill=\"#000000\" font-family=\"sans-serif\" font-size=\"14\" font-weight=\"bold\" lengthAdjust=\"spacingAndGlyphs\" textLength=\"136\" x=\"60\" y=\"99.4951\">Application Layer</text></a><a href=\"psysml:66b88940-ae34-45ae-8eaf-0df380551b61\" target=\"_top\" title=\"psysml:66b88940-ae34-45ae-8eaf-0df380551b61\" xlink:actuate=\"onRequest\" xlink:href=\"psysml:66b88940-ae34-45ae-8eaf-0df380551b61\" xlink:show=\"new\" xlink:title=\"psysml:66b88940-ae34-45ae-8eaf-0df380551b61\" xlink:type=\"simple\"><polygon fill=\"#FFFFFF\" points=\"338,84.5,452,84.5,459,106.7969,466,106.7969,466,137.0938,338,137.0938,338,84.5\" style=\"stroke: #000000; stroke-width: 1.5;\"/><line style=\"stroke: #000000; stroke-width: 1.5;\" x1=\"338\" x2=\"459\" y1=\"106.7969\" y2=\"106.7969\"/><text fill=\"#000000\" font-family=\"sans-serif\" font-size=\"14\" font-weight=\"bold\" lengthAdjust=\"spacingAndGlyphs\" textLength=\"108\" x=\"342\" y=\"99.4951\">Service Layer</text></a><a href=\"psysml:2f9cfad3-e6e2-4672-a52e-eac3ac1cc3fa\" target=\"_top\" title=\"psysml:2f9cfad3-e6e2-4672-a52e-eac3ac1cc3fa\" xlink:actuate=\"onRequest\" xlink:href=\"psysml:2f9cfad3-e6e2-4672-a52e-eac3ac1cc3fa\" xlink:show=\"new\" xlink:title=\"psysml:2f9cfad3-e6e2-4672-a52e-eac3ac1cc3fa\" xlink:type=\"simple\"><polygon fill=\"#FFFFFF\" points=\"592,84.5,682,84.5,689,106.7969,696,106.7969,696,137.0938,592,137.0938,592,84.5\" style=\"stroke: #000000; stroke-width: 1.5;\"/><line style=\"stroke: #000000; stroke-width: 1.5;\" x1=\"592\" x2=\"689\" y1=\"106.7969\" y2=\"106.7969\"/><text fill=\"#000000\" font-family=\"sans-serif\" font-size=\"14\" font-weight=\"bold\" lengthAdjust=\"spacingAndGlyphs\" textLength=\"84\" x=\"596\" y=\"99.4951\">Data Layer</text></a><!--MD5=[af87c684e3b0d8be13c1a698a818ef1e]\n",
       "link E3 to E4--><a href=\"psysml:dea4bf7d-7df0-4a98-b0a8-ad3094fe796e\" target=\"_top\" title=\"psysml:dea4bf7d-7df0-4a98-b0a8-ad3094fe796e\" xlink:actuate=\"onRequest\" xlink:href=\"psysml:dea4bf7d-7df0-4a98-b0a8-ad3094fe796e\" xlink:show=\"new\" xlink:title=\"psysml:dea4bf7d-7df0-4a98-b0a8-ad3094fe796e\" xlink:type=\"simple\"><path d=\"M212.3,111 C249.37,111 293.5,111 329.76,111 \" fill=\"none\" id=\"E3-&gt;E4\" style=\"stroke: #383838; stroke-width: 1.0; stroke-dasharray: 7.0,7.0;\"/><polygon fill=\"#383838\" points=\"337.84,111,329.84,108,329.84,114,337.84,111\" style=\"stroke: #383838; stroke-width: 1.0;\"/><text fill=\"#000000\" font-family=\"sans-serif\" font-size=\"13\" lengthAdjust=\"spacingAndGlyphs\" textLength=\"64\" x=\"243\" y=\"107.0669\">«depend»</text></a><!--MD5=[1b7591eae5389033d8d09a9d6721a717]\n",
       "link E4 to E5--><a href=\"psysml:6c12c767-a343-4222-b71b-448a215deadc\" target=\"_top\" title=\"psysml:6c12c767-a343-4222-b71b-448a215deadc\" xlink:actuate=\"onRequest\" xlink:href=\"psysml:6c12c767-a343-4222-b71b-448a215deadc\" xlink:show=\"new\" xlink:title=\"psysml:6c12c767-a343-4222-b71b-448a215deadc\" xlink:type=\"simple\"><path d=\"M466.06,111 C502.32,111 547.6,111 583.28,111 \" fill=\"none\" id=\"E4-&gt;E5\" style=\"stroke: #383838; stroke-width: 1.0; stroke-dasharray: 7.0,7.0;\"/><polygon fill=\"#383838\" points=\"591.67,111,583.67,108,583.67,114,591.67,111\" style=\"stroke: #383838; stroke-width: 1.0;\"/><text fill=\"#000000\" font-family=\"sans-serif\" font-size=\"13\" lengthAdjust=\"spacingAndGlyphs\" textLength=\"64\" x=\"497\" y=\"107.0669\">«depend»</text></a><!--MD5=[c5e8897d989ce984f93528998a7150fe]\n",
       "link E8 to E6--><a href=\"psysml:2c14e4ca-efb9-4e12-a147-b41b8d65befc\" target=\"_top\" title=\"psysml:2c14e4ca-efb9-4e12-a147-b41b8d65befc\" xlink:actuate=\"onRequest\" xlink:href=\"psysml:2c14e4ca-efb9-4e12-a147-b41b8d65befc\" xlink:show=\"new\" xlink:title=\"psysml:2c14e4ca-efb9-4e12-a147-b41b8d65befc\" xlink:type=\"simple\"><path d=\"M169.5,235.23 C217.81,243.94 305.54,259.77 358.03,269.25 \" fill=\"none\" id=\"E8-&gt;E6\" style=\"stroke: #383838; stroke-width: 1.0; stroke-dasharray: 7.0,7.0;\"/><polygon fill=\"#383838\" points=\"366.14,270.71,358.7966,266.3425,357.7356,272.248,366.14,270.71\" style=\"stroke: #383838; stroke-width: 1.0;\"/><text fill=\"#000000\" font-family=\"sans-serif\" font-size=\"13\" lengthAdjust=\"spacingAndGlyphs\" textLength=\"64\" x=\"243\" y=\"245.0669\">«depend»</text></a><!--MD5=[bfa3c8b0d15052fdf50ae9310b491027]\n",
       "link E8 to E7--><a href=\"psysml:2c14e4ca-efb9-4e12-a147-b41b8d65befc\" target=\"_top\" title=\"psysml:2c14e4ca-efb9-4e12-a147-b41b8d65befc\" xlink:actuate=\"onRequest\" xlink:href=\"psysml:2c14e4ca-efb9-4e12-a147-b41b8d65befc\" xlink:show=\"new\" xlink:title=\"psysml:2c14e4ca-efb9-4e12-a147-b41b8d65befc\" xlink:type=\"simple\"><path d=\"M169.5,224.72 C217.81,218.73 305.54,207.84 358.03,201.33 \" fill=\"none\" id=\"E8-&gt;E7\" style=\"stroke: #383838; stroke-width: 1.0; stroke-dasharray: 7.0,7.0;\"/><polygon fill=\"#383838\" points=\"366.14,200.33,357.8314,198.3381,358.5704,204.2924,366.14,200.33\" style=\"stroke: #383838; stroke-width: 1.0;\"/><text fill=\"#000000\" font-family=\"sans-serif\" font-size=\"13\" lengthAdjust=\"spacingAndGlyphs\" textLength=\"64\" x=\"243\" y=\"204.0669\">«depend»</text></a><!--MD5=[6fdb15e1d37d28f6f5d7e4600fd07851]\n",
       "@startuml\r\n",
       "left to right direction\r\n",
       "skinparam monochrome true\r\n",
       "skinparam classbackgroundcolor white\r\n",
       "skinparam shadowing false\r\n",
       "skinparam wrapWidth 300\r\n",
       "hide circle\r\n",
       "\r\n",
       "package \"DependencyTest\" as E1  [[psysml:cce2acdd-5299-4277-a359-760a7748f1a5 ]]  {\r\n",
       "package \"System\" as E2  [[psysml:fe0450d0-807d-48bf-914f-f99eea0aac67 ]]  {\r\n",
       "package \"Application Layer\" as E3  [[psysml:b4c6803f-b500-4ed2-a89b-7b27b2a9486d ]]  {\r\n",
       "}\r\n",
       "package \"Service Layer\" as E4  [[psysml:66b88940-ae34-45ae-8eaf-0df380551b61 ]]  {\r\n",
       "}\r\n",
       "package \"Data Layer\" as E5  [[psysml:2f9cfad3-e6e2-4672-a52e-eac3ac1cc3fa ]]  {\r\n",
       "}\r\n",
       "}\r\n",
       "comp usage \"x\" as E6  <<(T,blue)attribute>> [[psysml:627607da-451a-45ac-bf2e-8d18d85231b1 ]] {\r\n",
       "}\r\n",
       "comp usage \"y\" as E7  <<(T,blue)attribute>> [[psysml:b8e81d8b-4779-47a3-b21f-b5cec6a6f06b ]] {\r\n",
       "}\r\n",
       "comp usage \"z\" as E8  <<(T,blue)attribute>> [[psysml:ff5b6b09-567c-4f7f-ac5d-5252b0115c49 ]] {\r\n",
       "}\r\n",
       "E3 ..>> E4 [[psysml:dea4bf7d-7df0-4a98-b0a8-ad3094fe796e ]] : <<depend>>\r\n",
       "E4 ..>> E5 [[psysml:6c12c767-a343-4222-b71b-448a215deadc ]] : <<depend>>\r\n",
       "E8 ..>> E6 [[psysml:2c14e4ca-efb9-4e12-a147-b41b8d65befc ]] : <<depend>>\r\n",
       "E8 ..>> E7 [[psysml:2c14e4ca-efb9-4e12-a147-b41b8d65befc ]] : <<depend>>\r\n",
       "}\r\n",
       "@enduml\r\n",
       "\n",
       "PlantUML version 1.2020.13(Sat Jun 13 12:26:38 UTC 2020)\n",
       "(EPL source distribution)\n",
       "Java Runtime: OpenJDK Runtime Environment\n",
       "JVM: OpenJDK 64-Bit Server VM\n",
       "Default Encoding: UTF-8\n",
       "Language: en\n",
       "Country: null\n",
       "--></g></svg>"
      ]
     },
     "execution_count": 16,
     "metadata": {},
     "output_type": "execute_result"
    }
   ],
   "source": [
    "%viz --style=\"LR\" --view=\"Default\" \"DependencyTest\""
   ]
  },
  {
   "cell_type": "code",
   "execution_count": 17,
   "id": "1450bfdd",
   "metadata": {
    "execution": {
     "iopub.execute_input": "2021-05-28T10:49:37.491632Z",
     "iopub.status.busy": "2021-05-28T10:49:37.491089Z",
     "iopub.status.idle": "2021-05-28T10:49:37.528815Z",
     "shell.execute_reply": "2021-05-28T10:49:37.528496Z"
    }
   },
   "outputs": [
    {
     "data": {
      "image/svg+xml": [
       "<?xml version=\"1.0\" encoding=\"UTF-8\" standalone=\"no\"?><svg xmlns=\"http://www.w3.org/2000/svg\" xmlns:xlink=\"http://www.w3.org/1999/xlink\" contentScriptType=\"application/ecmascript\" contentStyleType=\"text/css\" height=\"328px\" preserveAspectRatio=\"none\" style=\"width:758px;height:328px;\" version=\"1.1\" viewBox=\"0 0 758 328\" width=\"758px\" zoomAndPan=\"magnify\"><defs/><g><!--MD5=[fbc87193dbaf4d95561dea2c320d4a47]\n",
       "cluster E1--><a href=\"psysml:cce2acdd-5299-4277-a359-760a7748f1a5\" target=\"_top\" title=\"psysml:cce2acdd-5299-4277-a359-760a7748f1a5\" xlink:actuate=\"onRequest\" xlink:href=\"psysml:cce2acdd-5299-4277-a359-760a7748f1a5\" xlink:show=\"new\" xlink:title=\"psysml:cce2acdd-5299-4277-a359-760a7748f1a5\" xlink:type=\"simple\"><polygon fill=\"#FFFFFF\" points=\"16,6,156,6,163,28.2969,736,28.2969,736,316,16,316,16,6\" style=\"stroke: #000000; stroke-width: 1.5;\"/><line style=\"stroke: #000000; stroke-width: 1.5;\" x1=\"16\" x2=\"163\" y1=\"28.2969\" y2=\"28.2969\"/><text fill=\"#000000\" font-family=\"sans-serif\" font-size=\"14\" font-weight=\"bold\" lengthAdjust=\"spacingAndGlyphs\" textLength=\"134\" x=\"20\" y=\"20.9951\">DependencyTest</text></a><!--MD5=[e4f7fae6ed58524ba242bb0b0d3be6b7]\n",
       "cluster E2--><a href=\"psysml:fe0450d0-807d-48bf-914f-f99eea0aac67\" target=\"_top\" title=\"psysml:fe0450d0-807d-48bf-914f-f99eea0aac67\" xlink:actuate=\"onRequest\" xlink:href=\"psysml:fe0450d0-807d-48bf-914f-f99eea0aac67\" xlink:show=\"new\" xlink:title=\"psysml:fe0450d0-807d-48bf-914f-f99eea0aac67\" xlink:type=\"simple\"><polygon fill=\"#FFFFFF\" points=\"40,49,104,49,111,71.2969,712,71.2969,712,154,40,154,40,49\" style=\"stroke: #000000; stroke-width: 1.5;\"/><line style=\"stroke: #000000; stroke-width: 1.5;\" x1=\"40\" x2=\"111\" y1=\"71.2969\" y2=\"71.2969\"/><text fill=\"#000000\" font-family=\"sans-serif\" font-size=\"14\" font-weight=\"bold\" lengthAdjust=\"spacingAndGlyphs\" textLength=\"58\" x=\"44\" y=\"63.9951\">System</text></a><!--MD5=[60a26617385b1d2d0262a64233df1f8d]\n",
       "class E6--><a href=\"psysml:627607da-451a-45ac-bf2e-8d18d85231b1\" target=\"_top\" title=\"psysml:627607da-451a-45ac-bf2e-8d18d85231b1\" xlink:actuate=\"onRequest\" xlink:href=\"psysml:627607da-451a-45ac-bf2e-8d18d85231b1\" xlink:show=\"new\" xlink:title=\"psysml:627607da-451a-45ac-bf2e-8d18d85231b1\" xlink:type=\"simple\"><rect fill=\"#FFFFFF\" height=\"45.9375\" id=\"E6\" rx=\"10\" ry=\"10\" style=\"stroke: #383838; stroke-width: 1.5;\" width=\"71\" x=\"366.5\" y=\"254\"/><text fill=\"#000000\" font-family=\"sans-serif\" font-size=\"12\" font-style=\"italic\" lengthAdjust=\"spacingAndGlyphs\" textLength=\"69\" x=\"367.5\" y=\"270.1387\">«attribute»</text><text fill=\"#000000\" font-family=\"sans-serif\" font-size=\"12\" lengthAdjust=\"spacingAndGlyphs\" textLength=\"6\" x=\"399\" y=\"284.1074\">x</text><line style=\"stroke: #383838; stroke-width: 1.5;\" x1=\"367.5\" x2=\"436.5\" y1=\"291.9375\" y2=\"291.9375\"/></a><!--MD5=[2156ba9850f5573cc1fc38a6a4b2f02b]\n",
       "class E7--><a href=\"psysml:b8e81d8b-4779-47a3-b21f-b5cec6a6f06b\" target=\"_top\" title=\"psysml:b8e81d8b-4779-47a3-b21f-b5cec6a6f06b\" xlink:actuate=\"onRequest\" xlink:href=\"psysml:b8e81d8b-4779-47a3-b21f-b5cec6a6f06b\" xlink:show=\"new\" xlink:title=\"psysml:b8e81d8b-4779-47a3-b21f-b5cec6a6f06b\" xlink:type=\"simple\"><rect fill=\"#FFFFFF\" height=\"45.9375\" id=\"E7\" rx=\"10\" ry=\"10\" style=\"stroke: #383838; stroke-width: 1.5;\" width=\"71\" x=\"366.5\" y=\"173\"/><text fill=\"#000000\" font-family=\"sans-serif\" font-size=\"12\" font-style=\"italic\" lengthAdjust=\"spacingAndGlyphs\" textLength=\"69\" x=\"367.5\" y=\"189.1387\">«attribute»</text><text fill=\"#000000\" font-family=\"sans-serif\" font-size=\"12\" lengthAdjust=\"spacingAndGlyphs\" textLength=\"6\" x=\"399\" y=\"203.1074\">y</text><line style=\"stroke: #383838; stroke-width: 1.5;\" x1=\"367.5\" x2=\"436.5\" y1=\"210.9375\" y2=\"210.9375\"/></a><!--MD5=[b9389687b975829384b498ac4b7476b2]\n",
       "class E8--><a href=\"psysml:ff5b6b09-567c-4f7f-ac5d-5252b0115c49\" target=\"_top\" title=\"psysml:ff5b6b09-567c-4f7f-ac5d-5252b0115c49\" xlink:actuate=\"onRequest\" xlink:href=\"psysml:ff5b6b09-567c-4f7f-ac5d-5252b0115c49\" xlink:show=\"new\" xlink:title=\"psysml:ff5b6b09-567c-4f7f-ac5d-5252b0115c49\" xlink:type=\"simple\"><rect fill=\"#FFFFFF\" height=\"45.9375\" id=\"E8\" rx=\"10\" ry=\"10\" style=\"stroke: #383838; stroke-width: 1.5;\" width=\"71\" x=\"98.5\" y=\"206\"/><text fill=\"#000000\" font-family=\"sans-serif\" font-size=\"12\" font-style=\"italic\" lengthAdjust=\"spacingAndGlyphs\" textLength=\"69\" x=\"99.5\" y=\"222.1387\">«attribute»</text><text fill=\"#000000\" font-family=\"sans-serif\" font-size=\"12\" lengthAdjust=\"spacingAndGlyphs\" textLength=\"5\" x=\"131.5\" y=\"236.1074\">z</text><line style=\"stroke: #383838; stroke-width: 1.5;\" x1=\"99.5\" x2=\"168.5\" y1=\"243.9375\" y2=\"243.9375\"/></a><a href=\"psysml:b4c6803f-b500-4ed2-a89b-7b27b2a9486d\" target=\"_top\" title=\"psysml:b4c6803f-b500-4ed2-a89b-7b27b2a9486d\" xlink:actuate=\"onRequest\" xlink:href=\"psysml:b4c6803f-b500-4ed2-a89b-7b27b2a9486d\" xlink:show=\"new\" xlink:title=\"psysml:b4c6803f-b500-4ed2-a89b-7b27b2a9486d\" xlink:type=\"simple\"><polygon fill=\"#FFFFFF\" points=\"56,84.5,198,84.5,205,106.7969,212,106.7969,212,137.0938,56,137.0938,56,84.5\" style=\"stroke: #000000; stroke-width: 1.5;\"/><line style=\"stroke: #000000; stroke-width: 1.5;\" x1=\"56\" x2=\"205\" y1=\"106.7969\" y2=\"106.7969\"/><text fill=\"#000000\" font-family=\"sans-serif\" font-size=\"14\" font-weight=\"bold\" lengthAdjust=\"spacingAndGlyphs\" textLength=\"136\" x=\"60\" y=\"99.4951\">Application Layer</text></a><a href=\"psysml:66b88940-ae34-45ae-8eaf-0df380551b61\" target=\"_top\" title=\"psysml:66b88940-ae34-45ae-8eaf-0df380551b61\" xlink:actuate=\"onRequest\" xlink:href=\"psysml:66b88940-ae34-45ae-8eaf-0df380551b61\" xlink:show=\"new\" xlink:title=\"psysml:66b88940-ae34-45ae-8eaf-0df380551b61\" xlink:type=\"simple\"><polygon fill=\"#FFFFFF\" points=\"338,84.5,452,84.5,459,106.7969,466,106.7969,466,137.0938,338,137.0938,338,84.5\" style=\"stroke: #000000; stroke-width: 1.5;\"/><line style=\"stroke: #000000; stroke-width: 1.5;\" x1=\"338\" x2=\"459\" y1=\"106.7969\" y2=\"106.7969\"/><text fill=\"#000000\" font-family=\"sans-serif\" font-size=\"14\" font-weight=\"bold\" lengthAdjust=\"spacingAndGlyphs\" textLength=\"108\" x=\"342\" y=\"99.4951\">Service Layer</text></a><a href=\"psysml:2f9cfad3-e6e2-4672-a52e-eac3ac1cc3fa\" target=\"_top\" title=\"psysml:2f9cfad3-e6e2-4672-a52e-eac3ac1cc3fa\" xlink:actuate=\"onRequest\" xlink:href=\"psysml:2f9cfad3-e6e2-4672-a52e-eac3ac1cc3fa\" xlink:show=\"new\" xlink:title=\"psysml:2f9cfad3-e6e2-4672-a52e-eac3ac1cc3fa\" xlink:type=\"simple\"><polygon fill=\"#FFFFFF\" points=\"592,84.5,682,84.5,689,106.7969,696,106.7969,696,137.0938,592,137.0938,592,84.5\" style=\"stroke: #000000; stroke-width: 1.5;\"/><line style=\"stroke: #000000; stroke-width: 1.5;\" x1=\"592\" x2=\"689\" y1=\"106.7969\" y2=\"106.7969\"/><text fill=\"#000000\" font-family=\"sans-serif\" font-size=\"14\" font-weight=\"bold\" lengthAdjust=\"spacingAndGlyphs\" textLength=\"84\" x=\"596\" y=\"99.4951\">Data Layer</text></a><!--MD5=[af87c684e3b0d8be13c1a698a818ef1e]\n",
       "link E3 to E4--><a href=\"psysml:dea4bf7d-7df0-4a98-b0a8-ad3094fe796e\" target=\"_top\" title=\"psysml:dea4bf7d-7df0-4a98-b0a8-ad3094fe796e\" xlink:actuate=\"onRequest\" xlink:href=\"psysml:dea4bf7d-7df0-4a98-b0a8-ad3094fe796e\" xlink:show=\"new\" xlink:title=\"psysml:dea4bf7d-7df0-4a98-b0a8-ad3094fe796e\" xlink:type=\"simple\"><path d=\"M212.3,111 C249.37,111 293.5,111 329.76,111 \" fill=\"none\" id=\"E3-&gt;E4\" style=\"stroke: #383838; stroke-width: 1.0; stroke-dasharray: 7.0,7.0;\"/><polygon fill=\"#383838\" points=\"337.84,111,329.84,108,329.84,114,337.84,111\" style=\"stroke: #383838; stroke-width: 1.0;\"/><text fill=\"#000000\" font-family=\"sans-serif\" font-size=\"13\" lengthAdjust=\"spacingAndGlyphs\" textLength=\"64\" x=\"243\" y=\"107.0669\">«depend»</text></a><!--MD5=[1b7591eae5389033d8d09a9d6721a717]\n",
       "link E4 to E5--><a href=\"psysml:6c12c767-a343-4222-b71b-448a215deadc\" target=\"_top\" title=\"psysml:6c12c767-a343-4222-b71b-448a215deadc\" xlink:actuate=\"onRequest\" xlink:href=\"psysml:6c12c767-a343-4222-b71b-448a215deadc\" xlink:show=\"new\" xlink:title=\"psysml:6c12c767-a343-4222-b71b-448a215deadc\" xlink:type=\"simple\"><path d=\"M466.06,111 C502.32,111 547.6,111 583.28,111 \" fill=\"none\" id=\"E4-&gt;E5\" style=\"stroke: #383838; stroke-width: 1.0; stroke-dasharray: 7.0,7.0;\"/><polygon fill=\"#383838\" points=\"591.67,111,583.67,108,583.67,114,591.67,111\" style=\"stroke: #383838; stroke-width: 1.0;\"/><text fill=\"#000000\" font-family=\"sans-serif\" font-size=\"13\" lengthAdjust=\"spacingAndGlyphs\" textLength=\"64\" x=\"497\" y=\"107.0669\">«depend»</text></a><!--MD5=[c5e8897d989ce984f93528998a7150fe]\n",
       "link E8 to E6--><a href=\"psysml:2c14e4ca-efb9-4e12-a147-b41b8d65befc\" target=\"_top\" title=\"psysml:2c14e4ca-efb9-4e12-a147-b41b8d65befc\" xlink:actuate=\"onRequest\" xlink:href=\"psysml:2c14e4ca-efb9-4e12-a147-b41b8d65befc\" xlink:show=\"new\" xlink:title=\"psysml:2c14e4ca-efb9-4e12-a147-b41b8d65befc\" xlink:type=\"simple\"><path d=\"M169.5,235.23 C217.81,243.94 305.54,259.77 358.03,269.25 \" fill=\"none\" id=\"E8-&gt;E6\" style=\"stroke: #383838; stroke-width: 1.0; stroke-dasharray: 7.0,7.0;\"/><polygon fill=\"#383838\" points=\"366.14,270.71,358.7966,266.3425,357.7356,272.248,366.14,270.71\" style=\"stroke: #383838; stroke-width: 1.0;\"/><text fill=\"#000000\" font-family=\"sans-serif\" font-size=\"13\" lengthAdjust=\"spacingAndGlyphs\" textLength=\"64\" x=\"243\" y=\"245.0669\">«depend»</text></a><!--MD5=[bfa3c8b0d15052fdf50ae9310b491027]\n",
       "link E8 to E7--><a href=\"psysml:2c14e4ca-efb9-4e12-a147-b41b8d65befc\" target=\"_top\" title=\"psysml:2c14e4ca-efb9-4e12-a147-b41b8d65befc\" xlink:actuate=\"onRequest\" xlink:href=\"psysml:2c14e4ca-efb9-4e12-a147-b41b8d65befc\" xlink:show=\"new\" xlink:title=\"psysml:2c14e4ca-efb9-4e12-a147-b41b8d65befc\" xlink:type=\"simple\"><path d=\"M169.5,224.72 C217.81,218.73 305.54,207.84 358.03,201.33 \" fill=\"none\" id=\"E8-&gt;E7\" style=\"stroke: #383838; stroke-width: 1.0; stroke-dasharray: 7.0,7.0;\"/><polygon fill=\"#383838\" points=\"366.14,200.33,357.8314,198.3381,358.5704,204.2924,366.14,200.33\" style=\"stroke: #383838; stroke-width: 1.0;\"/><text fill=\"#000000\" font-family=\"sans-serif\" font-size=\"13\" lengthAdjust=\"spacingAndGlyphs\" textLength=\"64\" x=\"243\" y=\"204.0669\">«depend»</text></a><!--MD5=[6fdb15e1d37d28f6f5d7e4600fd07851]\n",
       "@startuml\r\n",
       "left to right direction\r\n",
       "skinparam monochrome true\r\n",
       "skinparam classbackgroundcolor white\r\n",
       "skinparam shadowing false\r\n",
       "skinparam wrapWidth 300\r\n",
       "hide circle\r\n",
       "\r\n",
       "package \"DependencyTest\" as E1  [[psysml:cce2acdd-5299-4277-a359-760a7748f1a5 ]]  {\r\n",
       "package \"System\" as E2  [[psysml:fe0450d0-807d-48bf-914f-f99eea0aac67 ]]  {\r\n",
       "package \"Application Layer\" as E3  [[psysml:b4c6803f-b500-4ed2-a89b-7b27b2a9486d ]]  {\r\n",
       "}\r\n",
       "package \"Service Layer\" as E4  [[psysml:66b88940-ae34-45ae-8eaf-0df380551b61 ]]  {\r\n",
       "}\r\n",
       "package \"Data Layer\" as E5  [[psysml:2f9cfad3-e6e2-4672-a52e-eac3ac1cc3fa ]]  {\r\n",
       "}\r\n",
       "}\r\n",
       "comp usage \"x\" as E6  <<(T,blue)attribute>> [[psysml:627607da-451a-45ac-bf2e-8d18d85231b1 ]] {\r\n",
       "}\r\n",
       "comp usage \"y\" as E7  <<(T,blue)attribute>> [[psysml:b8e81d8b-4779-47a3-b21f-b5cec6a6f06b ]] {\r\n",
       "}\r\n",
       "comp usage \"z\" as E8  <<(T,blue)attribute>> [[psysml:ff5b6b09-567c-4f7f-ac5d-5252b0115c49 ]] {\r\n",
       "}\r\n",
       "E3 ..>> E4 [[psysml:dea4bf7d-7df0-4a98-b0a8-ad3094fe796e ]] : <<depend>>\r\n",
       "E4 ..>> E5 [[psysml:6c12c767-a343-4222-b71b-448a215deadc ]] : <<depend>>\r\n",
       "E8 ..>> E6 [[psysml:2c14e4ca-efb9-4e12-a147-b41b8d65befc ]] : <<depend>>\r\n",
       "E8 ..>> E7 [[psysml:2c14e4ca-efb9-4e12-a147-b41b8d65befc ]] : <<depend>>\r\n",
       "}\r\n",
       "@enduml\r\n",
       "\n",
       "PlantUML version 1.2020.13(Sat Jun 13 12:26:38 UTC 2020)\n",
       "(EPL source distribution)\n",
       "Java Runtime: OpenJDK Runtime Environment\n",
       "JVM: OpenJDK 64-Bit Server VM\n",
       "Default Encoding: UTF-8\n",
       "Language: en\n",
       "Country: null\n",
       "--></g></svg>"
      ]
     },
     "execution_count": 17,
     "metadata": {},
     "output_type": "execute_result"
    }
   ],
   "source": [
    "%viz --style=\"LR\" --view=\"Tree\" \"DependencyTest\""
   ]
  },
  {
   "cell_type": "code",
   "execution_count": 18,
   "id": "e7a20b6e",
   "metadata": {
    "execution": {
     "iopub.execute_input": "2021-05-28T10:49:37.581484Z",
     "iopub.status.busy": "2021-05-28T10:49:37.580906Z",
     "iopub.status.idle": "2021-05-28T10:49:37.586901Z",
     "shell.execute_reply": "2021-05-28T10:49:37.587217Z"
    }
   },
   "outputs": [
    {
     "data": {
      "image/svg+xml": [
       "<?xml version=\"1.0\" encoding=\"UTF-8\" standalone=\"no\"?><svg xmlns=\"http://www.w3.org/2000/svg\" xmlns:xlink=\"http://www.w3.org/1999/xlink\" contentScriptType=\"application/ecmascript\" contentStyleType=\"text/css\" height=\"12px\" preserveAspectRatio=\"none\" style=\"width:12px;height:12px;\" version=\"1.1\" viewBox=\"0 0 12 12\" width=\"12px\" zoomAndPan=\"magnify\"><defs/><g><!--MD5=[19d285c9d72a204eba4e2cd117d745e8]\n",
       "@startuml\r\n",
       "left to right direction\r\n",
       "skinparam monochrome true\r\n",
       "skinparam classbackgroundcolor white\r\n",
       "skinparam shadowing false\r\n",
       "skinparam wrapWidth 300\r\n",
       "hide circle\r\n",
       "\r\n",
       "@enduml\r\n",
       "\n",
       "PlantUML version 1.2020.13(Sat Jun 13 12:26:38 UTC 2020)\n",
       "(EPL source distribution)\n",
       "Java Runtime: OpenJDK Runtime Environment\n",
       "JVM: OpenJDK 64-Bit Server VM\n",
       "Default Encoding: UTF-8\n",
       "Language: en\n",
       "Country: null\n",
       "--></g></svg>"
      ]
     },
     "execution_count": 18,
     "metadata": {},
     "output_type": "execute_result"
    }
   ],
   "source": [
    "%viz --style=\"LR\" --view=\"State\" \"DependencyTest\""
   ]
  },
  {
   "cell_type": "code",
   "execution_count": 19,
   "id": "75c91212",
   "metadata": {
    "execution": {
     "iopub.execute_input": "2021-05-28T10:49:37.638700Z",
     "iopub.status.busy": "2021-05-28T10:49:37.638086Z",
     "iopub.status.idle": "2021-05-28T10:49:37.679466Z",
     "shell.execute_reply": "2021-05-28T10:49:37.679152Z"
    }
   },
   "outputs": [
    {
     "data": {
      "image/svg+xml": [
       "<?xml version=\"1.0\" encoding=\"UTF-8\" standalone=\"no\"?><svg xmlns=\"http://www.w3.org/2000/svg\" xmlns:xlink=\"http://www.w3.org/1999/xlink\" contentScriptType=\"application/ecmascript\" contentStyleType=\"text/css\" height=\"328px\" preserveAspectRatio=\"none\" style=\"width:670px;height:328px;\" version=\"1.1\" viewBox=\"0 0 670 328\" width=\"670px\" zoomAndPan=\"magnify\"><defs/><g><!--MD5=[fbc87193dbaf4d95561dea2c320d4a47]\n",
       "cluster E1--><a href=\"psysml:cce2acdd-5299-4277-a359-760a7748f1a5\" target=\"_top\" title=\"psysml:cce2acdd-5299-4277-a359-760a7748f1a5\" xlink:actuate=\"onRequest\" xlink:href=\"psysml:cce2acdd-5299-4277-a359-760a7748f1a5\" xlink:show=\"new\" xlink:title=\"psysml:cce2acdd-5299-4277-a359-760a7748f1a5\" xlink:type=\"simple\"><polygon fill=\"#FFFFFF\" points=\"16,6,156,6,163,28.2969,648,28.2969,648,316,16,316,16,6\" style=\"stroke: #000000; stroke-width: 1.5;\"/><line style=\"stroke: #000000; stroke-width: 1.5;\" x1=\"16\" x2=\"163\" y1=\"28.2969\" y2=\"28.2969\"/><text fill=\"#000000\" font-family=\"sans-serif\" font-size=\"14\" font-weight=\"bold\" lengthAdjust=\"spacingAndGlyphs\" textLength=\"134\" x=\"20\" y=\"20.9951\">DependencyTest</text></a><!--MD5=[e4f7fae6ed58524ba242bb0b0d3be6b7]\n",
       "cluster E2--><a href=\"psysml:fe0450d0-807d-48bf-914f-f99eea0aac67\" target=\"_top\" title=\"psysml:fe0450d0-807d-48bf-914f-f99eea0aac67\" xlink:actuate=\"onRequest\" xlink:href=\"psysml:fe0450d0-807d-48bf-914f-f99eea0aac67\" xlink:show=\"new\" xlink:title=\"psysml:fe0450d0-807d-48bf-914f-f99eea0aac67\" xlink:type=\"simple\"><polygon fill=\"#FFFFFF\" points=\"40,49,104,49,111,71.2969,624,71.2969,624,154,40,154,40,49\" style=\"stroke: #000000; stroke-width: 1.5;\"/><line style=\"stroke: #000000; stroke-width: 1.5;\" x1=\"40\" x2=\"111\" y1=\"71.2969\" y2=\"71.2969\"/><text fill=\"#000000\" font-family=\"sans-serif\" font-size=\"14\" font-weight=\"bold\" lengthAdjust=\"spacingAndGlyphs\" textLength=\"58\" x=\"44\" y=\"63.9951\">System</text></a><!--MD5=[60a26617385b1d2d0262a64233df1f8d]\n",
       "class E6--><a href=\"psysml:627607da-451a-45ac-bf2e-8d18d85231b1\" target=\"_top\" title=\"psysml:627607da-451a-45ac-bf2e-8d18d85231b1\" xlink:actuate=\"onRequest\" xlink:href=\"psysml:627607da-451a-45ac-bf2e-8d18d85231b1\" xlink:show=\"new\" xlink:title=\"psysml:627607da-451a-45ac-bf2e-8d18d85231b1\" xlink:type=\"simple\"><rect fill=\"#FFFFFF\" height=\"45.9375\" id=\"E6\" rx=\"10\" ry=\"10\" style=\"stroke: #383838; stroke-width: 1.5;\" width=\"71\" x=\"322.5\" y=\"254\"/><text fill=\"#000000\" font-family=\"sans-serif\" font-size=\"12\" font-style=\"italic\" lengthAdjust=\"spacingAndGlyphs\" textLength=\"69\" x=\"323.5\" y=\"270.1387\">«attribute»</text><text fill=\"#000000\" font-family=\"sans-serif\" font-size=\"12\" lengthAdjust=\"spacingAndGlyphs\" textLength=\"6\" x=\"355\" y=\"284.1074\">x</text><line style=\"stroke: #383838; stroke-width: 1.5;\" x1=\"323.5\" x2=\"392.5\" y1=\"291.9375\" y2=\"291.9375\"/></a><!--MD5=[2156ba9850f5573cc1fc38a6a4b2f02b]\n",
       "class E7--><a href=\"psysml:b8e81d8b-4779-47a3-b21f-b5cec6a6f06b\" target=\"_top\" title=\"psysml:b8e81d8b-4779-47a3-b21f-b5cec6a6f06b\" xlink:actuate=\"onRequest\" xlink:href=\"psysml:b8e81d8b-4779-47a3-b21f-b5cec6a6f06b\" xlink:show=\"new\" xlink:title=\"psysml:b8e81d8b-4779-47a3-b21f-b5cec6a6f06b\" xlink:type=\"simple\"><rect fill=\"#FFFFFF\" height=\"45.9375\" id=\"E7\" rx=\"10\" ry=\"10\" style=\"stroke: #383838; stroke-width: 1.5;\" width=\"71\" x=\"322.5\" y=\"173\"/><text fill=\"#000000\" font-family=\"sans-serif\" font-size=\"12\" font-style=\"italic\" lengthAdjust=\"spacingAndGlyphs\" textLength=\"69\" x=\"323.5\" y=\"189.1387\">«attribute»</text><text fill=\"#000000\" font-family=\"sans-serif\" font-size=\"12\" lengthAdjust=\"spacingAndGlyphs\" textLength=\"6\" x=\"355\" y=\"203.1074\">y</text><line style=\"stroke: #383838; stroke-width: 1.5;\" x1=\"323.5\" x2=\"392.5\" y1=\"210.9375\" y2=\"210.9375\"/></a><!--MD5=[b9389687b975829384b498ac4b7476b2]\n",
       "class E8--><a href=\"psysml:ff5b6b09-567c-4f7f-ac5d-5252b0115c49\" target=\"_top\" title=\"psysml:ff5b6b09-567c-4f7f-ac5d-5252b0115c49\" xlink:actuate=\"onRequest\" xlink:href=\"psysml:ff5b6b09-567c-4f7f-ac5d-5252b0115c49\" xlink:show=\"new\" xlink:title=\"psysml:ff5b6b09-567c-4f7f-ac5d-5252b0115c49\" xlink:type=\"simple\"><rect fill=\"#FFFFFF\" height=\"45.9375\" id=\"E8\" rx=\"10\" ry=\"10\" style=\"stroke: #383838; stroke-width: 1.5;\" width=\"71\" x=\"98.5\" y=\"206\"/><text fill=\"#000000\" font-family=\"sans-serif\" font-size=\"12\" font-style=\"italic\" lengthAdjust=\"spacingAndGlyphs\" textLength=\"69\" x=\"99.5\" y=\"222.1387\">«attribute»</text><text fill=\"#000000\" font-family=\"sans-serif\" font-size=\"12\" lengthAdjust=\"spacingAndGlyphs\" textLength=\"5\" x=\"131.5\" y=\"236.1074\">z</text><line style=\"stroke: #383838; stroke-width: 1.5;\" x1=\"99.5\" x2=\"168.5\" y1=\"243.9375\" y2=\"243.9375\"/></a><a href=\"psysml:b4c6803f-b500-4ed2-a89b-7b27b2a9486d\" target=\"_top\" title=\"psysml:b4c6803f-b500-4ed2-a89b-7b27b2a9486d\" xlink:actuate=\"onRequest\" xlink:href=\"psysml:b4c6803f-b500-4ed2-a89b-7b27b2a9486d\" xlink:show=\"new\" xlink:title=\"psysml:b4c6803f-b500-4ed2-a89b-7b27b2a9486d\" xlink:type=\"simple\"><polygon fill=\"#FFFFFF\" points=\"56,84.5,198,84.5,205,106.7969,212,106.7969,212,137.0938,56,137.0938,56,84.5\" style=\"stroke: #000000; stroke-width: 1.5;\"/><line style=\"stroke: #000000; stroke-width: 1.5;\" x1=\"56\" x2=\"205\" y1=\"106.7969\" y2=\"106.7969\"/><text fill=\"#000000\" font-family=\"sans-serif\" font-size=\"14\" font-weight=\"bold\" lengthAdjust=\"spacingAndGlyphs\" textLength=\"136\" x=\"60\" y=\"99.4951\">Application Layer</text></a><a href=\"psysml:66b88940-ae34-45ae-8eaf-0df380551b61\" target=\"_top\" title=\"psysml:66b88940-ae34-45ae-8eaf-0df380551b61\" xlink:actuate=\"onRequest\" xlink:href=\"psysml:66b88940-ae34-45ae-8eaf-0df380551b61\" xlink:show=\"new\" xlink:title=\"psysml:66b88940-ae34-45ae-8eaf-0df380551b61\" xlink:type=\"simple\"><polygon fill=\"#FFFFFF\" points=\"294,84.5,408,84.5,415,106.7969,422,106.7969,422,137.0938,294,137.0938,294,84.5\" style=\"stroke: #000000; stroke-width: 1.5;\"/><line style=\"stroke: #000000; stroke-width: 1.5;\" x1=\"294\" x2=\"415\" y1=\"106.7969\" y2=\"106.7969\"/><text fill=\"#000000\" font-family=\"sans-serif\" font-size=\"14\" font-weight=\"bold\" lengthAdjust=\"spacingAndGlyphs\" textLength=\"108\" x=\"298\" y=\"99.4951\">Service Layer</text></a><a href=\"psysml:2f9cfad3-e6e2-4672-a52e-eac3ac1cc3fa\" target=\"_top\" title=\"psysml:2f9cfad3-e6e2-4672-a52e-eac3ac1cc3fa\" xlink:actuate=\"onRequest\" xlink:href=\"psysml:2f9cfad3-e6e2-4672-a52e-eac3ac1cc3fa\" xlink:show=\"new\" xlink:title=\"psysml:2f9cfad3-e6e2-4672-a52e-eac3ac1cc3fa\" xlink:type=\"simple\"><polygon fill=\"#FFFFFF\" points=\"504,84.5,594,84.5,601,106.7969,608,106.7969,608,137.0938,504,137.0938,504,84.5\" style=\"stroke: #000000; stroke-width: 1.5;\"/><line style=\"stroke: #000000; stroke-width: 1.5;\" x1=\"504\" x2=\"601\" y1=\"106.7969\" y2=\"106.7969\"/><text fill=\"#000000\" font-family=\"sans-serif\" font-size=\"14\" font-weight=\"bold\" lengthAdjust=\"spacingAndGlyphs\" textLength=\"84\" x=\"508\" y=\"99.4951\">Data Layer</text></a><!--MD5=[af87c684e3b0d8be13c1a698a818ef1e]\n",
       "link E3 to E4--><a href=\"psysml:dea4bf7d-7df0-4a98-b0a8-ad3094fe796e\" target=\"_top\" title=\"psysml:dea4bf7d-7df0-4a98-b0a8-ad3094fe796e\" xlink:actuate=\"onRequest\" xlink:href=\"psysml:dea4bf7d-7df0-4a98-b0a8-ad3094fe796e\" xlink:show=\"new\" xlink:title=\"psysml:dea4bf7d-7df0-4a98-b0a8-ad3094fe796e\" xlink:type=\"simple\"><path d=\"M212.02,111 C235.88,111 262.06,111 285.53,111 \" fill=\"none\" id=\"E3-&gt;E4\" style=\"stroke: #383838; stroke-width: 1.0; stroke-dasharray: 7.0,7.0;\"/><polygon fill=\"#383838\" points=\"293.71,111,285.71,108,285.71,114,293.71,111\" style=\"stroke: #383838; stroke-width: 1.0;\"/><text fill=\"#000000\" font-family=\"sans-serif\" font-size=\"13\" lengthAdjust=\"spacingAndGlyphs\" textLength=\"64\" x=\"221\" y=\"107.0669\">«depend»</text></a><!--MD5=[1b7591eae5389033d8d09a9d6721a717]\n",
       "link E4 to E5--><a href=\"psysml:6c12c767-a343-4222-b71b-448a215deadc\" target=\"_top\" title=\"psysml:6c12c767-a343-4222-b71b-448a215deadc\" xlink:actuate=\"onRequest\" xlink:href=\"psysml:6c12c767-a343-4222-b71b-448a215deadc\" xlink:show=\"new\" xlink:title=\"psysml:6c12c767-a343-4222-b71b-448a215deadc\" xlink:type=\"simple\"><path d=\"M422.09,111 C445.72,111 472.46,111 495.72,111 \" fill=\"none\" id=\"E4-&gt;E5\" style=\"stroke: #383838; stroke-width: 1.0; stroke-dasharray: 7.0,7.0;\"/><polygon fill=\"#383838\" points=\"503.8,111,495.8,108,495.8,114,503.8,111\" style=\"stroke: #383838; stroke-width: 1.0;\"/><text fill=\"#000000\" font-family=\"sans-serif\" font-size=\"13\" lengthAdjust=\"spacingAndGlyphs\" textLength=\"64\" x=\"431\" y=\"107.0669\">«depend»</text></a><!--MD5=[c5e8897d989ce984f93528998a7150fe]\n",
       "link E8 to E6--><a href=\"psysml:2c14e4ca-efb9-4e12-a147-b41b8d65befc\" target=\"_top\" title=\"psysml:2c14e4ca-efb9-4e12-a147-b41b8d65befc\" xlink:actuate=\"onRequest\" xlink:href=\"psysml:2c14e4ca-efb9-4e12-a147-b41b8d65befc\" xlink:show=\"new\" xlink:title=\"psysml:2c14e4ca-efb9-4e12-a147-b41b8d65befc\" xlink:type=\"simple\"><path d=\"M169.69,236.5 C208.75,244.95 272.26,258.68 314.34,267.78 \" fill=\"none\" id=\"E8-&gt;E6\" style=\"stroke: #383838; stroke-width: 1.0; stroke-dasharray: 7.0,7.0;\"/><polygon fill=\"#383838\" points=\"322.19,269.47,315.0025,264.8505,313.7373,270.7156,322.19,269.47\" style=\"stroke: #383838; stroke-width: 1.0;\"/><text fill=\"#000000\" font-family=\"sans-serif\" font-size=\"13\" lengthAdjust=\"spacingAndGlyphs\" textLength=\"64\" x=\"221\" y=\"245.0669\">«depend»</text></a><!--MD5=[bfa3c8b0d15052fdf50ae9310b491027]\n",
       "link E8 to E7--><a href=\"psysml:2c14e4ca-efb9-4e12-a147-b41b8d65befc\" target=\"_top\" title=\"psysml:2c14e4ca-efb9-4e12-a147-b41b8d65befc\" xlink:actuate=\"onRequest\" xlink:href=\"psysml:2c14e4ca-efb9-4e12-a147-b41b8d65befc\" xlink:show=\"new\" xlink:title=\"psysml:2c14e4ca-efb9-4e12-a147-b41b8d65befc\" xlink:type=\"simple\"><path d=\"M169.69,223.84 C208.67,218.05 272,208.64 314.07,202.38 \" fill=\"none\" id=\"E8-&gt;E7\" style=\"stroke: #383838; stroke-width: 1.0; stroke-dasharray: 7.0,7.0;\"/><polygon fill=\"#383838\" points=\"322.19,201.17,313.837,199.3737,314.7155,205.309,322.19,201.17\" style=\"stroke: #383838; stroke-width: 1.0;\"/><text fill=\"#000000\" font-family=\"sans-serif\" font-size=\"13\" lengthAdjust=\"spacingAndGlyphs\" textLength=\"64\" x=\"221\" y=\"203.0669\">«depend»</text></a><!--MD5=[ab48c4845947f3cce5fb44e8e2bd84f2]\n",
       "@startuml\r\n",
       "skinparam ranksep 10\r\n",
       "skinparam rectangle {\r\n",
       " backgroundColor<<block>> LightGreen\r\n",
       "}\r\n",
       "left to right direction\r\n",
       "skinparam monochrome true\r\n",
       "skinparam classbackgroundcolor white\r\n",
       "skinparam shadowing false\r\n",
       "skinparam wrapWidth 300\r\n",
       "hide circle\r\n",
       "\r\n",
       "package \"DependencyTest\" as E1  [[psysml:cce2acdd-5299-4277-a359-760a7748f1a5 ]]  {\r\n",
       "package \"System\" as E2  [[psysml:fe0450d0-807d-48bf-914f-f99eea0aac67 ]]  {\r\n",
       "package \"Application Layer\" as E3  [[psysml:b4c6803f-b500-4ed2-a89b-7b27b2a9486d ]]  {\r\n",
       "}\r\n",
       "package \"Service Layer\" as E4  [[psysml:66b88940-ae34-45ae-8eaf-0df380551b61 ]]  {\r\n",
       "}\r\n",
       "package \"Data Layer\" as E5  [[psysml:2f9cfad3-e6e2-4672-a52e-eac3ac1cc3fa ]]  {\r\n",
       "}\r\n",
       "}\r\n",
       "comp usage \"x\" as E6  <<(T,blue)attribute>> [[psysml:627607da-451a-45ac-bf2e-8d18d85231b1 ]] {\r\n",
       "}\r\n",
       "comp usage \"y\" as E7  <<(T,blue)attribute>> [[psysml:b8e81d8b-4779-47a3-b21f-b5cec6a6f06b ]] {\r\n",
       "}\r\n",
       "comp usage \"z\" as E8  <<(T,blue)attribute>> [[psysml:ff5b6b09-567c-4f7f-ac5d-5252b0115c49 ]] {\r\n",
       "}\r\n",
       "E3 ..>> E4 [[psysml:dea4bf7d-7df0-4a98-b0a8-ad3094fe796e ]] : <<depend>>\r\n",
       "E4 ..>> E5 [[psysml:6c12c767-a343-4222-b71b-448a215deadc ]] : <<depend>>\r\n",
       "E8 ..>> E6 [[psysml:2c14e4ca-efb9-4e12-a147-b41b8d65befc ]] : <<depend>>\r\n",
       "E8 ..>> E7 [[psysml:2c14e4ca-efb9-4e12-a147-b41b8d65befc ]] : <<depend>>\r\n",
       "}\r\n",
       "@enduml\r\n",
       "\n",
       "PlantUML version 1.2020.13(Sat Jun 13 12:26:38 UTC 2020)\n",
       "(EPL source distribution)\n",
       "Java Runtime: OpenJDK Runtime Environment\n",
       "JVM: OpenJDK 64-Bit Server VM\n",
       "Default Encoding: UTF-8\n",
       "Language: en\n",
       "Country: null\n",
       "--></g></svg>"
      ]
     },
     "execution_count": 19,
     "metadata": {},
     "output_type": "execute_result"
    }
   ],
   "source": [
    "%viz --style=\"LR\" --view=\"Interconnection\" \"DependencyTest\""
   ]
  },
  {
   "cell_type": "code",
   "execution_count": 20,
   "id": "1020dbee",
   "metadata": {
    "execution": {
     "iopub.execute_input": "2021-05-28T10:49:37.731823Z",
     "iopub.status.busy": "2021-05-28T10:49:37.731161Z",
     "iopub.status.idle": "2021-05-28T10:49:37.737474Z",
     "shell.execute_reply": "2021-05-28T10:49:37.737734Z"
    }
   },
   "outputs": [
    {
     "data": {
      "image/svg+xml": [
       "<?xml version=\"1.0\" encoding=\"UTF-8\" standalone=\"no\"?><svg xmlns=\"http://www.w3.org/2000/svg\" xmlns:xlink=\"http://www.w3.org/1999/xlink\" contentScriptType=\"application/ecmascript\" contentStyleType=\"text/css\" height=\"12px\" preserveAspectRatio=\"none\" style=\"width:12px;height:12px;\" version=\"1.1\" viewBox=\"0 0 12 12\" width=\"12px\" zoomAndPan=\"magnify\"><defs/><g><!--MD5=[7aeb398939421629f6affaa4a1a7b125]\n",
       "@startuml\r\n",
       "skinparam ranksep 8\r\n",
       "left to right direction\r\n",
       "skinparam monochrome true\r\n",
       "skinparam classbackgroundcolor white\r\n",
       "skinparam shadowing false\r\n",
       "skinparam wrapWidth 300\r\n",
       "hide circle\r\n",
       "\r\n",
       "@enduml\r\n",
       "\n",
       "PlantUML version 1.2020.13(Sat Jun 13 12:26:38 UTC 2020)\n",
       "(EPL source distribution)\n",
       "Java Runtime: OpenJDK Runtime Environment\n",
       "JVM: OpenJDK 64-Bit Server VM\n",
       "Default Encoding: UTF-8\n",
       "Language: en\n",
       "Country: null\n",
       "--></g></svg>"
      ]
     },
     "execution_count": 20,
     "metadata": {},
     "output_type": "execute_result"
    }
   ],
   "source": [
    "%viz --style=\"LR\" --view=\"Action\" \"DependencyTest\""
   ]
  },
  {
   "cell_type": "code",
   "execution_count": 21,
   "id": "ae21d94c",
   "metadata": {
    "execution": {
     "iopub.execute_input": "2021-05-28T10:49:37.788930Z",
     "iopub.status.busy": "2021-05-28T10:49:37.788530Z",
     "iopub.status.idle": "2021-05-28T10:49:37.821609Z",
     "shell.execute_reply": "2021-05-28T10:49:37.821320Z"
    }
   },
   "outputs": [
    {
     "data": {
      "image/svg+xml": [
       "<?xml version=\"1.0\" encoding=\"UTF-8\" standalone=\"no\"?><svg xmlns=\"http://www.w3.org/2000/svg\" xmlns:xlink=\"http://www.w3.org/1999/xlink\" contentScriptType=\"application/ecmascript\" contentStyleType=\"text/css\" height=\"328px\" preserveAspectRatio=\"none\" style=\"width:758px;height:328px;\" version=\"1.1\" viewBox=\"0 0 758 328\" width=\"758px\" zoomAndPan=\"magnify\"><defs/><g><!--MD5=[fbc87193dbaf4d95561dea2c320d4a47]\n",
       "cluster E1--><a href=\"psysml:cce2acdd-5299-4277-a359-760a7748f1a5\" target=\"_top\" title=\"psysml:cce2acdd-5299-4277-a359-760a7748f1a5\" xlink:actuate=\"onRequest\" xlink:href=\"psysml:cce2acdd-5299-4277-a359-760a7748f1a5\" xlink:show=\"new\" xlink:title=\"psysml:cce2acdd-5299-4277-a359-760a7748f1a5\" xlink:type=\"simple\"><polygon fill=\"#FFFFFF\" points=\"16,6,156,6,163,28.2969,736,28.2969,736,316,16,316,16,6\" style=\"stroke: #000000; stroke-width: 1.5;\"/><line style=\"stroke: #000000; stroke-width: 1.5;\" x1=\"16\" x2=\"163\" y1=\"28.2969\" y2=\"28.2969\"/><text fill=\"#000000\" font-family=\"sans-serif\" font-size=\"14\" font-weight=\"bold\" lengthAdjust=\"spacingAndGlyphs\" textLength=\"134\" x=\"20\" y=\"20.9951\">DependencyTest</text></a><!--MD5=[e4f7fae6ed58524ba242bb0b0d3be6b7]\n",
       "cluster E2--><a href=\"psysml:fe0450d0-807d-48bf-914f-f99eea0aac67\" target=\"_top\" title=\"psysml:fe0450d0-807d-48bf-914f-f99eea0aac67\" xlink:actuate=\"onRequest\" xlink:href=\"psysml:fe0450d0-807d-48bf-914f-f99eea0aac67\" xlink:show=\"new\" xlink:title=\"psysml:fe0450d0-807d-48bf-914f-f99eea0aac67\" xlink:type=\"simple\"><polygon fill=\"#FFFFFF\" points=\"40,49,104,49,111,71.2969,712,71.2969,712,154,40,154,40,49\" style=\"stroke: #000000; stroke-width: 1.5;\"/><line style=\"stroke: #000000; stroke-width: 1.5;\" x1=\"40\" x2=\"111\" y1=\"71.2969\" y2=\"71.2969\"/><text fill=\"#000000\" font-family=\"sans-serif\" font-size=\"14\" font-weight=\"bold\" lengthAdjust=\"spacingAndGlyphs\" textLength=\"58\" x=\"44\" y=\"63.9951\">System</text></a><!--MD5=[60a26617385b1d2d0262a64233df1f8d]\n",
       "class E6--><a href=\"psysml:627607da-451a-45ac-bf2e-8d18d85231b1\" target=\"_top\" title=\"psysml:627607da-451a-45ac-bf2e-8d18d85231b1\" xlink:actuate=\"onRequest\" xlink:href=\"psysml:627607da-451a-45ac-bf2e-8d18d85231b1\" xlink:show=\"new\" xlink:title=\"psysml:627607da-451a-45ac-bf2e-8d18d85231b1\" xlink:type=\"simple\"><rect fill=\"#FFFFFF\" height=\"45.9375\" id=\"E6\" rx=\"10\" ry=\"10\" style=\"stroke: #383838; stroke-width: 1.5;\" width=\"71\" x=\"366.5\" y=\"254\"/><text fill=\"#000000\" font-family=\"sans-serif\" font-size=\"12\" font-style=\"italic\" lengthAdjust=\"spacingAndGlyphs\" textLength=\"69\" x=\"367.5\" y=\"270.1387\">«attribute»</text><text fill=\"#000000\" font-family=\"sans-serif\" font-size=\"12\" lengthAdjust=\"spacingAndGlyphs\" textLength=\"6\" x=\"399\" y=\"284.1074\">x</text><line style=\"stroke: #383838; stroke-width: 1.5;\" x1=\"367.5\" x2=\"436.5\" y1=\"291.9375\" y2=\"291.9375\"/></a><!--MD5=[2156ba9850f5573cc1fc38a6a4b2f02b]\n",
       "class E7--><a href=\"psysml:b8e81d8b-4779-47a3-b21f-b5cec6a6f06b\" target=\"_top\" title=\"psysml:b8e81d8b-4779-47a3-b21f-b5cec6a6f06b\" xlink:actuate=\"onRequest\" xlink:href=\"psysml:b8e81d8b-4779-47a3-b21f-b5cec6a6f06b\" xlink:show=\"new\" xlink:title=\"psysml:b8e81d8b-4779-47a3-b21f-b5cec6a6f06b\" xlink:type=\"simple\"><rect fill=\"#FFFFFF\" height=\"45.9375\" id=\"E7\" rx=\"10\" ry=\"10\" style=\"stroke: #383838; stroke-width: 1.5;\" width=\"71\" x=\"366.5\" y=\"173\"/><text fill=\"#000000\" font-family=\"sans-serif\" font-size=\"12\" font-style=\"italic\" lengthAdjust=\"spacingAndGlyphs\" textLength=\"69\" x=\"367.5\" y=\"189.1387\">«attribute»</text><text fill=\"#000000\" font-family=\"sans-serif\" font-size=\"12\" lengthAdjust=\"spacingAndGlyphs\" textLength=\"6\" x=\"399\" y=\"203.1074\">y</text><line style=\"stroke: #383838; stroke-width: 1.5;\" x1=\"367.5\" x2=\"436.5\" y1=\"210.9375\" y2=\"210.9375\"/></a><!--MD5=[b9389687b975829384b498ac4b7476b2]\n",
       "class E8--><a href=\"psysml:ff5b6b09-567c-4f7f-ac5d-5252b0115c49\" target=\"_top\" title=\"psysml:ff5b6b09-567c-4f7f-ac5d-5252b0115c49\" xlink:actuate=\"onRequest\" xlink:href=\"psysml:ff5b6b09-567c-4f7f-ac5d-5252b0115c49\" xlink:show=\"new\" xlink:title=\"psysml:ff5b6b09-567c-4f7f-ac5d-5252b0115c49\" xlink:type=\"simple\"><rect fill=\"#FFFFFF\" height=\"45.9375\" id=\"E8\" rx=\"10\" ry=\"10\" style=\"stroke: #383838; stroke-width: 1.5;\" width=\"71\" x=\"98.5\" y=\"206\"/><text fill=\"#000000\" font-family=\"sans-serif\" font-size=\"12\" font-style=\"italic\" lengthAdjust=\"spacingAndGlyphs\" textLength=\"69\" x=\"99.5\" y=\"222.1387\">«attribute»</text><text fill=\"#000000\" font-family=\"sans-serif\" font-size=\"12\" lengthAdjust=\"spacingAndGlyphs\" textLength=\"5\" x=\"131.5\" y=\"236.1074\">z</text><line style=\"stroke: #383838; stroke-width: 1.5;\" x1=\"99.5\" x2=\"168.5\" y1=\"243.9375\" y2=\"243.9375\"/></a><a href=\"psysml:b4c6803f-b500-4ed2-a89b-7b27b2a9486d\" target=\"_top\" title=\"psysml:b4c6803f-b500-4ed2-a89b-7b27b2a9486d\" xlink:actuate=\"onRequest\" xlink:href=\"psysml:b4c6803f-b500-4ed2-a89b-7b27b2a9486d\" xlink:show=\"new\" xlink:title=\"psysml:b4c6803f-b500-4ed2-a89b-7b27b2a9486d\" xlink:type=\"simple\"><polygon fill=\"#FFFFFF\" points=\"56,84.5,198,84.5,205,106.7969,212,106.7969,212,137.0938,56,137.0938,56,84.5\" style=\"stroke: #000000; stroke-width: 1.5;\"/><line style=\"stroke: #000000; stroke-width: 1.5;\" x1=\"56\" x2=\"205\" y1=\"106.7969\" y2=\"106.7969\"/><text fill=\"#000000\" font-family=\"sans-serif\" font-size=\"14\" font-weight=\"bold\" lengthAdjust=\"spacingAndGlyphs\" textLength=\"136\" x=\"60\" y=\"99.4951\">Application Layer</text></a><a href=\"psysml:66b88940-ae34-45ae-8eaf-0df380551b61\" target=\"_top\" title=\"psysml:66b88940-ae34-45ae-8eaf-0df380551b61\" xlink:actuate=\"onRequest\" xlink:href=\"psysml:66b88940-ae34-45ae-8eaf-0df380551b61\" xlink:show=\"new\" xlink:title=\"psysml:66b88940-ae34-45ae-8eaf-0df380551b61\" xlink:type=\"simple\"><polygon fill=\"#FFFFFF\" points=\"338,84.5,452,84.5,459,106.7969,466,106.7969,466,137.0938,338,137.0938,338,84.5\" style=\"stroke: #000000; stroke-width: 1.5;\"/><line style=\"stroke: #000000; stroke-width: 1.5;\" x1=\"338\" x2=\"459\" y1=\"106.7969\" y2=\"106.7969\"/><text fill=\"#000000\" font-family=\"sans-serif\" font-size=\"14\" font-weight=\"bold\" lengthAdjust=\"spacingAndGlyphs\" textLength=\"108\" x=\"342\" y=\"99.4951\">Service Layer</text></a><a href=\"psysml:2f9cfad3-e6e2-4672-a52e-eac3ac1cc3fa\" target=\"_top\" title=\"psysml:2f9cfad3-e6e2-4672-a52e-eac3ac1cc3fa\" xlink:actuate=\"onRequest\" xlink:href=\"psysml:2f9cfad3-e6e2-4672-a52e-eac3ac1cc3fa\" xlink:show=\"new\" xlink:title=\"psysml:2f9cfad3-e6e2-4672-a52e-eac3ac1cc3fa\" xlink:type=\"simple\"><polygon fill=\"#FFFFFF\" points=\"592,84.5,682,84.5,689,106.7969,696,106.7969,696,137.0938,592,137.0938,592,84.5\" style=\"stroke: #000000; stroke-width: 1.5;\"/><line style=\"stroke: #000000; stroke-width: 1.5;\" x1=\"592\" x2=\"689\" y1=\"106.7969\" y2=\"106.7969\"/><text fill=\"#000000\" font-family=\"sans-serif\" font-size=\"14\" font-weight=\"bold\" lengthAdjust=\"spacingAndGlyphs\" textLength=\"84\" x=\"596\" y=\"99.4951\">Data Layer</text></a><!--MD5=[af87c684e3b0d8be13c1a698a818ef1e]\n",
       "link E3 to E4--><a href=\"psysml:dea4bf7d-7df0-4a98-b0a8-ad3094fe796e\" target=\"_top\" title=\"psysml:dea4bf7d-7df0-4a98-b0a8-ad3094fe796e\" xlink:actuate=\"onRequest\" xlink:href=\"psysml:dea4bf7d-7df0-4a98-b0a8-ad3094fe796e\" xlink:show=\"new\" xlink:title=\"psysml:dea4bf7d-7df0-4a98-b0a8-ad3094fe796e\" xlink:type=\"simple\"><path d=\"M212.3,111 C249.37,111 293.5,111 329.76,111 \" fill=\"none\" id=\"E3-&gt;E4\" style=\"stroke: #383838; stroke-width: 1.0; stroke-dasharray: 7.0,7.0;\"/><polygon fill=\"#383838\" points=\"337.84,111,329.84,108,329.84,114,337.84,111\" style=\"stroke: #383838; stroke-width: 1.0;\"/><text fill=\"#000000\" font-family=\"sans-serif\" font-size=\"13\" lengthAdjust=\"spacingAndGlyphs\" textLength=\"64\" x=\"243\" y=\"107.0669\">«depend»</text></a><!--MD5=[1b7591eae5389033d8d09a9d6721a717]\n",
       "link E4 to E5--><a href=\"psysml:6c12c767-a343-4222-b71b-448a215deadc\" target=\"_top\" title=\"psysml:6c12c767-a343-4222-b71b-448a215deadc\" xlink:actuate=\"onRequest\" xlink:href=\"psysml:6c12c767-a343-4222-b71b-448a215deadc\" xlink:show=\"new\" xlink:title=\"psysml:6c12c767-a343-4222-b71b-448a215deadc\" xlink:type=\"simple\"><path d=\"M466.06,111 C502.32,111 547.6,111 583.28,111 \" fill=\"none\" id=\"E4-&gt;E5\" style=\"stroke: #383838; stroke-width: 1.0; stroke-dasharray: 7.0,7.0;\"/><polygon fill=\"#383838\" points=\"591.67,111,583.67,108,583.67,114,591.67,111\" style=\"stroke: #383838; stroke-width: 1.0;\"/><text fill=\"#000000\" font-family=\"sans-serif\" font-size=\"13\" lengthAdjust=\"spacingAndGlyphs\" textLength=\"64\" x=\"497\" y=\"107.0669\">«depend»</text></a><!--MD5=[c5e8897d989ce984f93528998a7150fe]\n",
       "link E8 to E6--><a href=\"psysml:2c14e4ca-efb9-4e12-a147-b41b8d65befc\" target=\"_top\" title=\"psysml:2c14e4ca-efb9-4e12-a147-b41b8d65befc\" xlink:actuate=\"onRequest\" xlink:href=\"psysml:2c14e4ca-efb9-4e12-a147-b41b8d65befc\" xlink:show=\"new\" xlink:title=\"psysml:2c14e4ca-efb9-4e12-a147-b41b8d65befc\" xlink:type=\"simple\"><path d=\"M169.5,235.23 C217.81,243.94 305.54,259.77 358.03,269.25 \" fill=\"none\" id=\"E8-&gt;E6\" style=\"stroke: #383838; stroke-width: 1.0; stroke-dasharray: 7.0,7.0;\"/><polygon fill=\"#383838\" points=\"366.14,270.71,358.7966,266.3425,357.7356,272.248,366.14,270.71\" style=\"stroke: #383838; stroke-width: 1.0;\"/><text fill=\"#000000\" font-family=\"sans-serif\" font-size=\"13\" lengthAdjust=\"spacingAndGlyphs\" textLength=\"64\" x=\"243\" y=\"245.0669\">«depend»</text></a><!--MD5=[bfa3c8b0d15052fdf50ae9310b491027]\n",
       "link E8 to E7--><a href=\"psysml:2c14e4ca-efb9-4e12-a147-b41b8d65befc\" target=\"_top\" title=\"psysml:2c14e4ca-efb9-4e12-a147-b41b8d65befc\" xlink:actuate=\"onRequest\" xlink:href=\"psysml:2c14e4ca-efb9-4e12-a147-b41b8d65befc\" xlink:show=\"new\" xlink:title=\"psysml:2c14e4ca-efb9-4e12-a147-b41b8d65befc\" xlink:type=\"simple\"><path d=\"M169.5,224.72 C217.81,218.73 305.54,207.84 358.03,201.33 \" fill=\"none\" id=\"E8-&gt;E7\" style=\"stroke: #383838; stroke-width: 1.0; stroke-dasharray: 7.0,7.0;\"/><polygon fill=\"#383838\" points=\"366.14,200.33,357.8314,198.3381,358.5704,204.2924,366.14,200.33\" style=\"stroke: #383838; stroke-width: 1.0;\"/><text fill=\"#000000\" font-family=\"sans-serif\" font-size=\"13\" lengthAdjust=\"spacingAndGlyphs\" textLength=\"64\" x=\"243\" y=\"204.0669\">«depend»</text></a><!--MD5=[6fdb15e1d37d28f6f5d7e4600fd07851]\n",
       "@startuml\r\n",
       "left to right direction\r\n",
       "skinparam monochrome true\r\n",
       "skinparam classbackgroundcolor white\r\n",
       "skinparam shadowing false\r\n",
       "skinparam wrapWidth 300\r\n",
       "hide circle\r\n",
       "\r\n",
       "package \"DependencyTest\" as E1  [[psysml:cce2acdd-5299-4277-a359-760a7748f1a5 ]]  {\r\n",
       "package \"System\" as E2  [[psysml:fe0450d0-807d-48bf-914f-f99eea0aac67 ]]  {\r\n",
       "package \"Application Layer\" as E3  [[psysml:b4c6803f-b500-4ed2-a89b-7b27b2a9486d ]]  {\r\n",
       "}\r\n",
       "package \"Service Layer\" as E4  [[psysml:66b88940-ae34-45ae-8eaf-0df380551b61 ]]  {\r\n",
       "}\r\n",
       "package \"Data Layer\" as E5  [[psysml:2f9cfad3-e6e2-4672-a52e-eac3ac1cc3fa ]]  {\r\n",
       "}\r\n",
       "}\r\n",
       "comp usage \"x\" as E6  <<(T,blue)attribute>> [[psysml:627607da-451a-45ac-bf2e-8d18d85231b1 ]] {\r\n",
       "}\r\n",
       "comp usage \"y\" as E7  <<(T,blue)attribute>> [[psysml:b8e81d8b-4779-47a3-b21f-b5cec6a6f06b ]] {\r\n",
       "}\r\n",
       "comp usage \"z\" as E8  <<(T,blue)attribute>> [[psysml:ff5b6b09-567c-4f7f-ac5d-5252b0115c49 ]] {\r\n",
       "}\r\n",
       "E3 ..>> E4 [[psysml:dea4bf7d-7df0-4a98-b0a8-ad3094fe796e ]] : <<depend>>\r\n",
       "E4 ..>> E5 [[psysml:6c12c767-a343-4222-b71b-448a215deadc ]] : <<depend>>\r\n",
       "E8 ..>> E6 [[psysml:2c14e4ca-efb9-4e12-a147-b41b8d65befc ]] : <<depend>>\r\n",
       "E8 ..>> E7 [[psysml:2c14e4ca-efb9-4e12-a147-b41b8d65befc ]] : <<depend>>\r\n",
       "}\r\n",
       "@enduml\r\n",
       "\n",
       "PlantUML version 1.2020.13(Sat Jun 13 12:26:38 UTC 2020)\n",
       "(EPL source distribution)\n",
       "Java Runtime: OpenJDK Runtime Environment\n",
       "JVM: OpenJDK 64-Bit Server VM\n",
       "Default Encoding: UTF-8\n",
       "Language: en\n",
       "Country: null\n",
       "--></g></svg>"
      ]
     },
     "execution_count": 21,
     "metadata": {},
     "output_type": "execute_result"
    }
   ],
   "source": [
    "%viz --style=\"LR\" --view=\"Sequence\" \"DependencyTest\""
   ]
  },
  {
   "cell_type": "code",
   "execution_count": 22,
   "id": "a485b33f",
   "metadata": {
    "execution": {
     "iopub.execute_input": "2021-05-28T10:49:37.871944Z",
     "iopub.status.busy": "2021-05-28T10:49:37.871542Z",
     "iopub.status.idle": "2021-05-28T10:49:37.916716Z",
     "shell.execute_reply": "2021-05-28T10:49:37.915099Z"
    }
   },
   "outputs": [
    {
     "data": {
      "image/svg+xml": [
       "<?xml version=\"1.0\" encoding=\"UTF-8\" standalone=\"no\"?><svg xmlns=\"http://www.w3.org/2000/svg\" xmlns:xlink=\"http://www.w3.org/1999/xlink\" contentScriptType=\"application/ecmascript\" contentStyleType=\"text/css\" height=\"328px\" preserveAspectRatio=\"none\" style=\"width:758px;height:328px;\" version=\"1.1\" viewBox=\"0 0 758 328\" width=\"758px\" zoomAndPan=\"magnify\"><defs/><g><!--MD5=[fbc87193dbaf4d95561dea2c320d4a47]\n",
       "cluster E1--><a href=\"psysml:cce2acdd-5299-4277-a359-760a7748f1a5\" target=\"_top\" title=\"psysml:cce2acdd-5299-4277-a359-760a7748f1a5\" xlink:actuate=\"onRequest\" xlink:href=\"psysml:cce2acdd-5299-4277-a359-760a7748f1a5\" xlink:show=\"new\" xlink:title=\"psysml:cce2acdd-5299-4277-a359-760a7748f1a5\" xlink:type=\"simple\"><polygon fill=\"#FFFFFF\" points=\"16,6,156,6,163,28.2969,736,28.2969,736,316,16,316,16,6\" style=\"stroke: #000000; stroke-width: 1.5;\"/><line style=\"stroke: #000000; stroke-width: 1.5;\" x1=\"16\" x2=\"163\" y1=\"28.2969\" y2=\"28.2969\"/><text fill=\"#000000\" font-family=\"sans-serif\" font-size=\"14\" font-weight=\"bold\" lengthAdjust=\"spacingAndGlyphs\" textLength=\"134\" x=\"20\" y=\"20.9951\">DependencyTest</text></a><!--MD5=[e4f7fae6ed58524ba242bb0b0d3be6b7]\n",
       "cluster E2--><a href=\"psysml:fe0450d0-807d-48bf-914f-f99eea0aac67\" target=\"_top\" title=\"psysml:fe0450d0-807d-48bf-914f-f99eea0aac67\" xlink:actuate=\"onRequest\" xlink:href=\"psysml:fe0450d0-807d-48bf-914f-f99eea0aac67\" xlink:show=\"new\" xlink:title=\"psysml:fe0450d0-807d-48bf-914f-f99eea0aac67\" xlink:type=\"simple\"><polygon fill=\"#FFFFFF\" points=\"40,49,104,49,111,71.2969,712,71.2969,712,154,40,154,40,49\" style=\"stroke: #000000; stroke-width: 1.5;\"/><line style=\"stroke: #000000; stroke-width: 1.5;\" x1=\"40\" x2=\"111\" y1=\"71.2969\" y2=\"71.2969\"/><text fill=\"#000000\" font-family=\"sans-serif\" font-size=\"14\" font-weight=\"bold\" lengthAdjust=\"spacingAndGlyphs\" textLength=\"58\" x=\"44\" y=\"63.9951\">System</text></a><!--MD5=[60a26617385b1d2d0262a64233df1f8d]\n",
       "class E6--><a href=\"psysml:627607da-451a-45ac-bf2e-8d18d85231b1\" target=\"_top\" title=\"psysml:627607da-451a-45ac-bf2e-8d18d85231b1\" xlink:actuate=\"onRequest\" xlink:href=\"psysml:627607da-451a-45ac-bf2e-8d18d85231b1\" xlink:show=\"new\" xlink:title=\"psysml:627607da-451a-45ac-bf2e-8d18d85231b1\" xlink:type=\"simple\"><rect fill=\"#FFFFFF\" height=\"45.9375\" id=\"E6\" rx=\"10\" ry=\"10\" style=\"stroke: #383838; stroke-width: 1.5;\" width=\"71\" x=\"366.5\" y=\"254\"/><text fill=\"#000000\" font-family=\"sans-serif\" font-size=\"12\" font-style=\"italic\" lengthAdjust=\"spacingAndGlyphs\" textLength=\"69\" x=\"367.5\" y=\"270.1387\">«attribute»</text><text fill=\"#000000\" font-family=\"sans-serif\" font-size=\"12\" lengthAdjust=\"spacingAndGlyphs\" textLength=\"6\" x=\"399\" y=\"284.1074\">x</text><line style=\"stroke: #383838; stroke-width: 1.5;\" x1=\"367.5\" x2=\"436.5\" y1=\"291.9375\" y2=\"291.9375\"/></a><!--MD5=[2156ba9850f5573cc1fc38a6a4b2f02b]\n",
       "class E7--><a href=\"psysml:b8e81d8b-4779-47a3-b21f-b5cec6a6f06b\" target=\"_top\" title=\"psysml:b8e81d8b-4779-47a3-b21f-b5cec6a6f06b\" xlink:actuate=\"onRequest\" xlink:href=\"psysml:b8e81d8b-4779-47a3-b21f-b5cec6a6f06b\" xlink:show=\"new\" xlink:title=\"psysml:b8e81d8b-4779-47a3-b21f-b5cec6a6f06b\" xlink:type=\"simple\"><rect fill=\"#FFFFFF\" height=\"45.9375\" id=\"E7\" rx=\"10\" ry=\"10\" style=\"stroke: #383838; stroke-width: 1.5;\" width=\"71\" x=\"366.5\" y=\"173\"/><text fill=\"#000000\" font-family=\"sans-serif\" font-size=\"12\" font-style=\"italic\" lengthAdjust=\"spacingAndGlyphs\" textLength=\"69\" x=\"367.5\" y=\"189.1387\">«attribute»</text><text fill=\"#000000\" font-family=\"sans-serif\" font-size=\"12\" lengthAdjust=\"spacingAndGlyphs\" textLength=\"6\" x=\"399\" y=\"203.1074\">y</text><line style=\"stroke: #383838; stroke-width: 1.5;\" x1=\"367.5\" x2=\"436.5\" y1=\"210.9375\" y2=\"210.9375\"/></a><!--MD5=[b9389687b975829384b498ac4b7476b2]\n",
       "class E8--><a href=\"psysml:ff5b6b09-567c-4f7f-ac5d-5252b0115c49\" target=\"_top\" title=\"psysml:ff5b6b09-567c-4f7f-ac5d-5252b0115c49\" xlink:actuate=\"onRequest\" xlink:href=\"psysml:ff5b6b09-567c-4f7f-ac5d-5252b0115c49\" xlink:show=\"new\" xlink:title=\"psysml:ff5b6b09-567c-4f7f-ac5d-5252b0115c49\" xlink:type=\"simple\"><rect fill=\"#FFFFFF\" height=\"45.9375\" id=\"E8\" rx=\"10\" ry=\"10\" style=\"stroke: #383838; stroke-width: 1.5;\" width=\"71\" x=\"98.5\" y=\"206\"/><text fill=\"#000000\" font-family=\"sans-serif\" font-size=\"12\" font-style=\"italic\" lengthAdjust=\"spacingAndGlyphs\" textLength=\"69\" x=\"99.5\" y=\"222.1387\">«attribute»</text><text fill=\"#000000\" font-family=\"sans-serif\" font-size=\"12\" lengthAdjust=\"spacingAndGlyphs\" textLength=\"5\" x=\"131.5\" y=\"236.1074\">z</text><line style=\"stroke: #383838; stroke-width: 1.5;\" x1=\"99.5\" x2=\"168.5\" y1=\"243.9375\" y2=\"243.9375\"/></a><a href=\"psysml:b4c6803f-b500-4ed2-a89b-7b27b2a9486d\" target=\"_top\" title=\"psysml:b4c6803f-b500-4ed2-a89b-7b27b2a9486d\" xlink:actuate=\"onRequest\" xlink:href=\"psysml:b4c6803f-b500-4ed2-a89b-7b27b2a9486d\" xlink:show=\"new\" xlink:title=\"psysml:b4c6803f-b500-4ed2-a89b-7b27b2a9486d\" xlink:type=\"simple\"><polygon fill=\"#FFFFFF\" points=\"56,84.5,198,84.5,205,106.7969,212,106.7969,212,137.0938,56,137.0938,56,84.5\" style=\"stroke: #000000; stroke-width: 1.5;\"/><line style=\"stroke: #000000; stroke-width: 1.5;\" x1=\"56\" x2=\"205\" y1=\"106.7969\" y2=\"106.7969\"/><text fill=\"#000000\" font-family=\"sans-serif\" font-size=\"14\" font-weight=\"bold\" lengthAdjust=\"spacingAndGlyphs\" textLength=\"136\" x=\"60\" y=\"99.4951\">Application Layer</text></a><a href=\"psysml:66b88940-ae34-45ae-8eaf-0df380551b61\" target=\"_top\" title=\"psysml:66b88940-ae34-45ae-8eaf-0df380551b61\" xlink:actuate=\"onRequest\" xlink:href=\"psysml:66b88940-ae34-45ae-8eaf-0df380551b61\" xlink:show=\"new\" xlink:title=\"psysml:66b88940-ae34-45ae-8eaf-0df380551b61\" xlink:type=\"simple\"><polygon fill=\"#FFFFFF\" points=\"338,84.5,452,84.5,459,106.7969,466,106.7969,466,137.0938,338,137.0938,338,84.5\" style=\"stroke: #000000; stroke-width: 1.5;\"/><line style=\"stroke: #000000; stroke-width: 1.5;\" x1=\"338\" x2=\"459\" y1=\"106.7969\" y2=\"106.7969\"/><text fill=\"#000000\" font-family=\"sans-serif\" font-size=\"14\" font-weight=\"bold\" lengthAdjust=\"spacingAndGlyphs\" textLength=\"108\" x=\"342\" y=\"99.4951\">Service Layer</text></a><a href=\"psysml:2f9cfad3-e6e2-4672-a52e-eac3ac1cc3fa\" target=\"_top\" title=\"psysml:2f9cfad3-e6e2-4672-a52e-eac3ac1cc3fa\" xlink:actuate=\"onRequest\" xlink:href=\"psysml:2f9cfad3-e6e2-4672-a52e-eac3ac1cc3fa\" xlink:show=\"new\" xlink:title=\"psysml:2f9cfad3-e6e2-4672-a52e-eac3ac1cc3fa\" xlink:type=\"simple\"><polygon fill=\"#FFFFFF\" points=\"592,84.5,682,84.5,689,106.7969,696,106.7969,696,137.0938,592,137.0938,592,84.5\" style=\"stroke: #000000; stroke-width: 1.5;\"/><line style=\"stroke: #000000; stroke-width: 1.5;\" x1=\"592\" x2=\"689\" y1=\"106.7969\" y2=\"106.7969\"/><text fill=\"#000000\" font-family=\"sans-serif\" font-size=\"14\" font-weight=\"bold\" lengthAdjust=\"spacingAndGlyphs\" textLength=\"84\" x=\"596\" y=\"99.4951\">Data Layer</text></a><!--MD5=[af87c684e3b0d8be13c1a698a818ef1e]\n",
       "link E3 to E4--><a href=\"psysml:dea4bf7d-7df0-4a98-b0a8-ad3094fe796e\" target=\"_top\" title=\"psysml:dea4bf7d-7df0-4a98-b0a8-ad3094fe796e\" xlink:actuate=\"onRequest\" xlink:href=\"psysml:dea4bf7d-7df0-4a98-b0a8-ad3094fe796e\" xlink:show=\"new\" xlink:title=\"psysml:dea4bf7d-7df0-4a98-b0a8-ad3094fe796e\" xlink:type=\"simple\"><path d=\"M212.3,111 C249.37,111 293.5,111 329.76,111 \" fill=\"none\" id=\"E3-&gt;E4\" style=\"stroke: #383838; stroke-width: 1.0; stroke-dasharray: 7.0,7.0;\"/><polygon fill=\"#383838\" points=\"337.84,111,329.84,108,329.84,114,337.84,111\" style=\"stroke: #383838; stroke-width: 1.0;\"/><text fill=\"#000000\" font-family=\"sans-serif\" font-size=\"13\" lengthAdjust=\"spacingAndGlyphs\" textLength=\"64\" x=\"243\" y=\"107.0669\">«depend»</text></a><!--MD5=[1b7591eae5389033d8d09a9d6721a717]\n",
       "link E4 to E5--><a href=\"psysml:6c12c767-a343-4222-b71b-448a215deadc\" target=\"_top\" title=\"psysml:6c12c767-a343-4222-b71b-448a215deadc\" xlink:actuate=\"onRequest\" xlink:href=\"psysml:6c12c767-a343-4222-b71b-448a215deadc\" xlink:show=\"new\" xlink:title=\"psysml:6c12c767-a343-4222-b71b-448a215deadc\" xlink:type=\"simple\"><path d=\"M466.06,111 C502.32,111 547.6,111 583.28,111 \" fill=\"none\" id=\"E4-&gt;E5\" style=\"stroke: #383838; stroke-width: 1.0; stroke-dasharray: 7.0,7.0;\"/><polygon fill=\"#383838\" points=\"591.67,111,583.67,108,583.67,114,591.67,111\" style=\"stroke: #383838; stroke-width: 1.0;\"/><text fill=\"#000000\" font-family=\"sans-serif\" font-size=\"13\" lengthAdjust=\"spacingAndGlyphs\" textLength=\"64\" x=\"497\" y=\"107.0669\">«depend»</text></a><!--MD5=[c5e8897d989ce984f93528998a7150fe]\n",
       "link E8 to E6--><a href=\"psysml:2c14e4ca-efb9-4e12-a147-b41b8d65befc\" target=\"_top\" title=\"psysml:2c14e4ca-efb9-4e12-a147-b41b8d65befc\" xlink:actuate=\"onRequest\" xlink:href=\"psysml:2c14e4ca-efb9-4e12-a147-b41b8d65befc\" xlink:show=\"new\" xlink:title=\"psysml:2c14e4ca-efb9-4e12-a147-b41b8d65befc\" xlink:type=\"simple\"><path d=\"M169.5,235.23 C217.81,243.94 305.54,259.77 358.03,269.25 \" fill=\"none\" id=\"E8-&gt;E6\" style=\"stroke: #383838; stroke-width: 1.0; stroke-dasharray: 7.0,7.0;\"/><polygon fill=\"#383838\" points=\"366.14,270.71,358.7966,266.3425,357.7356,272.248,366.14,270.71\" style=\"stroke: #383838; stroke-width: 1.0;\"/><text fill=\"#000000\" font-family=\"sans-serif\" font-size=\"13\" lengthAdjust=\"spacingAndGlyphs\" textLength=\"64\" x=\"243\" y=\"245.0669\">«depend»</text></a><!--MD5=[bfa3c8b0d15052fdf50ae9310b491027]\n",
       "link E8 to E7--><a href=\"psysml:2c14e4ca-efb9-4e12-a147-b41b8d65befc\" target=\"_top\" title=\"psysml:2c14e4ca-efb9-4e12-a147-b41b8d65befc\" xlink:actuate=\"onRequest\" xlink:href=\"psysml:2c14e4ca-efb9-4e12-a147-b41b8d65befc\" xlink:show=\"new\" xlink:title=\"psysml:2c14e4ca-efb9-4e12-a147-b41b8d65befc\" xlink:type=\"simple\"><path d=\"M169.5,224.72 C217.81,218.73 305.54,207.84 358.03,201.33 \" fill=\"none\" id=\"E8-&gt;E7\" style=\"stroke: #383838; stroke-width: 1.0; stroke-dasharray: 7.0,7.0;\"/><polygon fill=\"#383838\" points=\"366.14,200.33,357.8314,198.3381,358.5704,204.2924,366.14,200.33\" style=\"stroke: #383838; stroke-width: 1.0;\"/><text fill=\"#000000\" font-family=\"sans-serif\" font-size=\"13\" lengthAdjust=\"spacingAndGlyphs\" textLength=\"64\" x=\"243\" y=\"204.0669\">«depend»</text></a><!--MD5=[6fdb15e1d37d28f6f5d7e4600fd07851]\n",
       "@startuml\r\n",
       "left to right direction\r\n",
       "skinparam monochrome true\r\n",
       "skinparam classbackgroundcolor white\r\n",
       "skinparam shadowing false\r\n",
       "skinparam wrapWidth 300\r\n",
       "hide circle\r\n",
       "\r\n",
       "package \"DependencyTest\" as E1  [[psysml:cce2acdd-5299-4277-a359-760a7748f1a5 ]]  {\r\n",
       "package \"System\" as E2  [[psysml:fe0450d0-807d-48bf-914f-f99eea0aac67 ]]  {\r\n",
       "package \"Application Layer\" as E3  [[psysml:b4c6803f-b500-4ed2-a89b-7b27b2a9486d ]]  {\r\n",
       "}\r\n",
       "package \"Service Layer\" as E4  [[psysml:66b88940-ae34-45ae-8eaf-0df380551b61 ]]  {\r\n",
       "}\r\n",
       "package \"Data Layer\" as E5  [[psysml:2f9cfad3-e6e2-4672-a52e-eac3ac1cc3fa ]]  {\r\n",
       "}\r\n",
       "}\r\n",
       "comp usage \"x\" as E6  <<(T,blue)attribute>> [[psysml:627607da-451a-45ac-bf2e-8d18d85231b1 ]] {\r\n",
       "}\r\n",
       "comp usage \"y\" as E7  <<(T,blue)attribute>> [[psysml:b8e81d8b-4779-47a3-b21f-b5cec6a6f06b ]] {\r\n",
       "}\r\n",
       "comp usage \"z\" as E8  <<(T,blue)attribute>> [[psysml:ff5b6b09-567c-4f7f-ac5d-5252b0115c49 ]] {\r\n",
       "}\r\n",
       "E3 ..>> E4 [[psysml:dea4bf7d-7df0-4a98-b0a8-ad3094fe796e ]] : <<depend>>\r\n",
       "E4 ..>> E5 [[psysml:6c12c767-a343-4222-b71b-448a215deadc ]] : <<depend>>\r\n",
       "E8 ..>> E6 [[psysml:2c14e4ca-efb9-4e12-a147-b41b8d65befc ]] : <<depend>>\r\n",
       "E8 ..>> E7 [[psysml:2c14e4ca-efb9-4e12-a147-b41b8d65befc ]] : <<depend>>\r\n",
       "}\r\n",
       "@enduml\r\n",
       "\n",
       "PlantUML version 1.2020.13(Sat Jun 13 12:26:38 UTC 2020)\n",
       "(EPL source distribution)\n",
       "Java Runtime: OpenJDK Runtime Environment\n",
       "JVM: OpenJDK 64-Bit Server VM\n",
       "Default Encoding: UTF-8\n",
       "Language: en\n",
       "Country: null\n",
       "--></g></svg>"
      ]
     },
     "execution_count": 22,
     "metadata": {},
     "output_type": "execute_result"
    }
   ],
   "source": [
    "%viz --style=\"LR\" --view=\"MIXED\" \"DependencyTest\""
   ]
  },
  {
   "cell_type": "code",
   "execution_count": 23,
   "id": "fe8d1fdb",
   "metadata": {
    "execution": {
     "iopub.execute_input": "2021-05-28T10:49:37.968440Z",
     "iopub.status.busy": "2021-05-28T10:49:37.967411Z",
     "iopub.status.idle": "2021-05-28T10:49:38.008363Z",
     "shell.execute_reply": "2021-05-28T10:49:38.006989Z"
    }
   },
   "outputs": [
    {
     "data": {
      "image/svg+xml": [
       "<?xml version=\"1.0\" encoding=\"UTF-8\" standalone=\"no\"?><svg xmlns=\"http://www.w3.org/2000/svg\" xmlns:xlink=\"http://www.w3.org/1999/xlink\" contentScriptType=\"application/ecmascript\" contentStyleType=\"text/css\" height=\"449px\" preserveAspectRatio=\"none\" style=\"width:489px;height:449px;\" version=\"1.1\" viewBox=\"0 0 489 449\" width=\"489px\" zoomAndPan=\"magnify\"><defs><filter height=\"300%\" id=\"f1dj7kvp44czk6\" width=\"300%\" x=\"-1\" y=\"-1\"><feGaussianBlur result=\"blurOut\" stdDeviation=\"2.0\"/><feColorMatrix in=\"blurOut\" result=\"blurOut2\" type=\"matrix\" values=\"0 0 0 0 0 0 0 0 0 0 0 0 0 0 0 0 0 0 .4 0\"/><feOffset dx=\"4.0\" dy=\"4.0\" in=\"blurOut2\" result=\"blurOut3\"/><feBlend in=\"SourceGraphic\" in2=\"blurOut3\" mode=\"normal\"/></filter></defs><g><!--MD5=[fbc87193dbaf4d95561dea2c320d4a47]\n",
       "cluster E1--><a href=\"psysml:cce2acdd-5299-4277-a359-760a7748f1a5\" target=\"_top\" title=\"psysml:cce2acdd-5299-4277-a359-760a7748f1a5\" xlink:actuate=\"onRequest\" xlink:href=\"psysml:cce2acdd-5299-4277-a359-760a7748f1a5\" xlink:show=\"new\" xlink:title=\"psysml:cce2acdd-5299-4277-a359-760a7748f1a5\" xlink:type=\"simple\"><polygon fill=\"#FFFFFF\" filter=\"url(#f1dj7kvp44czk6)\" points=\"16,6,156,6,163,28.2969,467,28.2969,467,437,16,437,16,6\" style=\"stroke: #000000; stroke-width: 1.5;\"/><line style=\"stroke: #000000; stroke-width: 1.5;\" x1=\"16\" x2=\"163\" y1=\"28.2969\" y2=\"28.2969\"/><text fill=\"#000000\" font-family=\"sans-serif\" font-size=\"14\" font-weight=\"bold\" lengthAdjust=\"spacingAndGlyphs\" textLength=\"134\" x=\"20\" y=\"20.9951\">DependencyTest</text></a><!--MD5=[e4f7fae6ed58524ba242bb0b0d3be6b7]\n",
       "cluster E2--><a href=\"psysml:fe0450d0-807d-48bf-914f-f99eea0aac67\" target=\"_top\" title=\"psysml:fe0450d0-807d-48bf-914f-f99eea0aac67\" xlink:actuate=\"onRequest\" xlink:href=\"psysml:fe0450d0-807d-48bf-914f-f99eea0aac67\" xlink:show=\"new\" xlink:title=\"psysml:fe0450d0-807d-48bf-914f-f99eea0aac67\" xlink:type=\"simple\"><polygon fill=\"#FFFFFF\" filter=\"url(#f1dj7kvp44czk6)\" points=\"255,49,319,49,326,71.2969,443,71.2969,443,413,255,413,255,49\" style=\"stroke: #000000; stroke-width: 1.5;\"/><line style=\"stroke: #000000; stroke-width: 1.5;\" x1=\"255\" x2=\"326\" y1=\"71.2969\" y2=\"71.2969\"/><text fill=\"#000000\" font-family=\"sans-serif\" font-size=\"14\" font-weight=\"bold\" lengthAdjust=\"spacingAndGlyphs\" textLength=\"58\" x=\"259\" y=\"63.9951\">System</text></a><!--MD5=[60a26617385b1d2d0262a64233df1f8d]\n",
       "class E6--><a href=\"psysml:627607da-451a-45ac-bf2e-8d18d85231b1\" target=\"_top\" title=\"psysml:627607da-451a-45ac-bf2e-8d18d85231b1\" xlink:actuate=\"onRequest\" xlink:href=\"psysml:627607da-451a-45ac-bf2e-8d18d85231b1\" xlink:show=\"new\" xlink:title=\"psysml:627607da-451a-45ac-bf2e-8d18d85231b1\" xlink:type=\"simple\"><rect fill=\"#FEFECE\" filter=\"url(#f1dj7kvp44czk6)\" height=\"45.9375\" id=\"E6\" rx=\"10\" ry=\"10\" style=\"stroke: #A80036; stroke-width: 1.5;\" width=\"71\" x=\"32.5\" y=\"217.5\"/><text fill=\"#000000\" font-family=\"sans-serif\" font-size=\"12\" font-style=\"italic\" lengthAdjust=\"spacingAndGlyphs\" textLength=\"69\" x=\"33.5\" y=\"233.6387\">«attribute»</text><text fill=\"#000000\" font-family=\"sans-serif\" font-size=\"12\" lengthAdjust=\"spacingAndGlyphs\" textLength=\"6\" x=\"65\" y=\"247.6074\">x</text><line style=\"stroke: #A80036; stroke-width: 1.5;\" x1=\"33.5\" x2=\"102.5\" y1=\"255.4375\" y2=\"255.4375\"/></a><!--MD5=[2156ba9850f5573cc1fc38a6a4b2f02b]\n",
       "class E7--><a href=\"psysml:b8e81d8b-4779-47a3-b21f-b5cec6a6f06b\" target=\"_top\" title=\"psysml:b8e81d8b-4779-47a3-b21f-b5cec6a6f06b\" xlink:actuate=\"onRequest\" xlink:href=\"psysml:b8e81d8b-4779-47a3-b21f-b5cec6a6f06b\" xlink:show=\"new\" xlink:title=\"psysml:b8e81d8b-4779-47a3-b21f-b5cec6a6f06b\" xlink:type=\"simple\"><rect fill=\"#FEFECE\" filter=\"url(#f1dj7kvp44czk6)\" height=\"45.9375\" id=\"E7\" rx=\"10\" ry=\"10\" style=\"stroke: #A80036; stroke-width: 1.5;\" width=\"71\" x=\"138.5\" y=\"217.5\"/><text fill=\"#000000\" font-family=\"sans-serif\" font-size=\"12\" font-style=\"italic\" lengthAdjust=\"spacingAndGlyphs\" textLength=\"69\" x=\"139.5\" y=\"233.6387\">«attribute»</text><text fill=\"#000000\" font-family=\"sans-serif\" font-size=\"12\" lengthAdjust=\"spacingAndGlyphs\" textLength=\"6\" x=\"171\" y=\"247.6074\">y</text><line style=\"stroke: #A80036; stroke-width: 1.5;\" x1=\"139.5\" x2=\"208.5\" y1=\"255.4375\" y2=\"255.4375\"/></a><!--MD5=[b9389687b975829384b498ac4b7476b2]\n",
       "class E8--><a href=\"psysml:ff5b6b09-567c-4f7f-ac5d-5252b0115c49\" target=\"_top\" title=\"psysml:ff5b6b09-567c-4f7f-ac5d-5252b0115c49\" xlink:actuate=\"onRequest\" xlink:href=\"psysml:ff5b6b09-567c-4f7f-ac5d-5252b0115c49\" xlink:show=\"new\" xlink:title=\"psysml:ff5b6b09-567c-4f7f-ac5d-5252b0115c49\" xlink:type=\"simple\"><rect fill=\"#FEFECE\" filter=\"url(#f1dj7kvp44czk6)\" height=\"45.9375\" id=\"E8\" rx=\"10\" ry=\"10\" style=\"stroke: #A80036; stroke-width: 1.5;\" width=\"71\" x=\"84.5\" y=\"87.5\"/><text fill=\"#000000\" font-family=\"sans-serif\" font-size=\"12\" font-style=\"italic\" lengthAdjust=\"spacingAndGlyphs\" textLength=\"69\" x=\"85.5\" y=\"103.6387\">«attribute»</text><text fill=\"#000000\" font-family=\"sans-serif\" font-size=\"12\" lengthAdjust=\"spacingAndGlyphs\" textLength=\"5\" x=\"117.5\" y=\"117.6074\">z</text><line style=\"stroke: #A80036; stroke-width: 1.5;\" x1=\"85.5\" x2=\"154.5\" y1=\"125.4375\" y2=\"125.4375\"/></a><a href=\"psysml:b4c6803f-b500-4ed2-a89b-7b27b2a9486d\" target=\"_top\" title=\"psysml:b4c6803f-b500-4ed2-a89b-7b27b2a9486d\" xlink:actuate=\"onRequest\" xlink:href=\"psysml:b4c6803f-b500-4ed2-a89b-7b27b2a9486d\" xlink:show=\"new\" xlink:title=\"psysml:b4c6803f-b500-4ed2-a89b-7b27b2a9486d\" xlink:type=\"simple\"><polygon fill=\"#FFFFFF\" filter=\"url(#f1dj7kvp44czk6)\" points=\"271,84,413,84,420,106.2969,427,106.2969,427,136.5938,271,136.5938,271,84\" style=\"stroke: #000000; stroke-width: 1.5;\"/><line style=\"stroke: #000000; stroke-width: 1.5;\" x1=\"271\" x2=\"420\" y1=\"106.2969\" y2=\"106.2969\"/><text fill=\"#000000\" font-family=\"sans-serif\" font-size=\"14\" font-weight=\"bold\" lengthAdjust=\"spacingAndGlyphs\" textLength=\"136\" x=\"275\" y=\"98.9951\">Application Layer</text></a><a href=\"psysml:66b88940-ae34-45ae-8eaf-0df380551b61\" target=\"_top\" title=\"psysml:66b88940-ae34-45ae-8eaf-0df380551b61\" xlink:actuate=\"onRequest\" xlink:href=\"psysml:66b88940-ae34-45ae-8eaf-0df380551b61\" xlink:show=\"new\" xlink:title=\"psysml:66b88940-ae34-45ae-8eaf-0df380551b61\" xlink:type=\"simple\"><polygon fill=\"#FFFFFF\" filter=\"url(#f1dj7kvp44czk6)\" points=\"285,214,399,214,406,236.2969,413,236.2969,413,266.5938,285,266.5938,285,214\" style=\"stroke: #000000; stroke-width: 1.5;\"/><line style=\"stroke: #000000; stroke-width: 1.5;\" x1=\"285\" x2=\"406\" y1=\"236.2969\" y2=\"236.2969\"/><text fill=\"#000000\" font-family=\"sans-serif\" font-size=\"14\" font-weight=\"bold\" lengthAdjust=\"spacingAndGlyphs\" textLength=\"108\" x=\"289\" y=\"228.9951\">Service Layer</text></a><a href=\"psysml:2f9cfad3-e6e2-4672-a52e-eac3ac1cc3fa\" target=\"_top\" title=\"psysml:2f9cfad3-e6e2-4672-a52e-eac3ac1cc3fa\" xlink:actuate=\"onRequest\" xlink:href=\"psysml:2f9cfad3-e6e2-4672-a52e-eac3ac1cc3fa\" xlink:show=\"new\" xlink:title=\"psysml:2f9cfad3-e6e2-4672-a52e-eac3ac1cc3fa\" xlink:type=\"simple\"><polygon fill=\"#FFFFFF\" filter=\"url(#f1dj7kvp44czk6)\" points=\"297,344,387,344,394,366.2969,401,366.2969,401,396.5938,297,396.5938,297,344\" style=\"stroke: #000000; stroke-width: 1.5;\"/><line style=\"stroke: #000000; stroke-width: 1.5;\" x1=\"297\" x2=\"394\" y1=\"366.2969\" y2=\"366.2969\"/><text fill=\"#000000\" font-family=\"sans-serif\" font-size=\"14\" font-weight=\"bold\" lengthAdjust=\"spacingAndGlyphs\" textLength=\"84\" x=\"301\" y=\"358.9951\">Data Layer</text></a><!--MD5=[af87c684e3b0d8be13c1a698a818ef1e]\n",
       "link E3 to E4--><a href=\"psysml:dea4bf7d-7df0-4a98-b0a8-ad3094fe796e\" target=\"_top\" title=\"psysml:dea4bf7d-7df0-4a98-b0a8-ad3094fe796e\" xlink:actuate=\"onRequest\" xlink:href=\"psysml:dea4bf7d-7df0-4a98-b0a8-ad3094fe796e\" xlink:show=\"new\" xlink:title=\"psysml:dea4bf7d-7df0-4a98-b0a8-ad3094fe796e\" xlink:type=\"simple\"><path d=\"M349,137.1 C349,156.8 349,184.22 349,205.73 \" fill=\"none\" id=\"E3-&gt;E4\" style=\"stroke: #A80036; stroke-width: 1.0; stroke-dasharray: 7.0,7.0;\"/><polygon fill=\"#A80036\" points=\"349,213.95,352,205.95,346,205.95,349,213.95\" style=\"stroke: #A80036; stroke-width: 1.0;\"/><text fill=\"#000000\" font-family=\"sans-serif\" font-size=\"13\" lengthAdjust=\"spacingAndGlyphs\" textLength=\"64\" x=\"350\" y=\"180.0669\">«depend»</text></a><!--MD5=[1b7591eae5389033d8d09a9d6721a717]\n",
       "link E4 to E5--><a href=\"psysml:6c12c767-a343-4222-b71b-448a215deadc\" target=\"_top\" title=\"psysml:6c12c767-a343-4222-b71b-448a215deadc\" xlink:actuate=\"onRequest\" xlink:href=\"psysml:6c12c767-a343-4222-b71b-448a215deadc\" xlink:show=\"new\" xlink:title=\"psysml:6c12c767-a343-4222-b71b-448a215deadc\" xlink:type=\"simple\"><path d=\"M349,267.1 C349,286.8 349,314.22 349,335.73 \" fill=\"none\" id=\"E4-&gt;E5\" style=\"stroke: #A80036; stroke-width: 1.0; stroke-dasharray: 7.0,7.0;\"/><polygon fill=\"#A80036\" points=\"349,343.95,352,335.95,346,335.95,349,343.95\" style=\"stroke: #A80036; stroke-width: 1.0;\"/><text fill=\"#000000\" font-family=\"sans-serif\" font-size=\"13\" lengthAdjust=\"spacingAndGlyphs\" textLength=\"64\" x=\"350\" y=\"310.0669\">«depend»</text></a><!--MD5=[c5e8897d989ce984f93528998a7150fe]\n",
       "link E8 to E6--><a href=\"psysml:2c14e4ca-efb9-4e12-a147-b41b8d65befc\" target=\"_top\" title=\"psysml:2c14e4ca-efb9-4e12-a147-b41b8d65befc\" xlink:actuate=\"onRequest\" xlink:href=\"psysml:2c14e4ca-efb9-4e12-a147-b41b8d65befc\" xlink:show=\"new\" xlink:title=\"psysml:2c14e4ca-efb9-4e12-a147-b41b8d65befc\" xlink:type=\"simple\"><path d=\"M89.42,133.6 C79.35,142.68 69.37,154.11 64,167 C58.5,180.2 58.66,195.94 60.54,209.38 \" fill=\"none\" id=\"E8-&gt;E6\" style=\"stroke: #A80036; stroke-width: 1.0; stroke-dasharray: 7.0,7.0;\"/><polygon fill=\"#A80036\" points=\"61.9,217.4,63.517,209.0104,57.6018,210.0159,61.9,217.4\" style=\"stroke: #A80036; stroke-width: 1.0;\"/><text fill=\"#000000\" font-family=\"sans-serif\" font-size=\"13\" lengthAdjust=\"spacingAndGlyphs\" textLength=\"64\" x=\"65\" y=\"180.0669\">«depend»</text></a><!--MD5=[bfa3c8b0d15052fdf50ae9310b491027]\n",
       "link E8 to E7--><a href=\"psysml:2c14e4ca-efb9-4e12-a147-b41b8d65befc\" target=\"_top\" title=\"psysml:2c14e4ca-efb9-4e12-a147-b41b8d65befc\" xlink:actuate=\"onRequest\" xlink:href=\"psysml:2c14e4ca-efb9-4e12-a147-b41b8d65befc\" xlink:show=\"new\" xlink:title=\"psysml:2c14e4ca-efb9-4e12-a147-b41b8d65befc\" xlink:type=\"simple\"><path d=\"M129.28,133.5 C138.17,154.57 151.64,186.5 161.47,209.81 \" fill=\"none\" id=\"E8-&gt;E7\" style=\"stroke: #A80036; stroke-width: 1.0; stroke-dasharray: 7.0,7.0;\"/><polygon fill=\"#A80036\" points=\"164.66,217.35,164.3241,208.8126,158.7933,211.1385,164.66,217.35\" style=\"stroke: #A80036; stroke-width: 1.0;\"/><text fill=\"#000000\" font-family=\"sans-serif\" font-size=\"13\" lengthAdjust=\"spacingAndGlyphs\" textLength=\"64\" x=\"151\" y=\"180.0669\">«depend»</text></a><!--MD5=[501bbe579f49eb8a0ff12459d2d98347]\n",
       "@startuml\r\n",
       "skinparam wrapWidth 300\r\n",
       "hide circle\r\n",
       "\r\n",
       "package \"DependencyTest\" as E1  [[psysml:cce2acdd-5299-4277-a359-760a7748f1a5 ]]  {\r\n",
       "package \"System\" as E2  [[psysml:fe0450d0-807d-48bf-914f-f99eea0aac67 ]]  {\r\n",
       "package \"Application Layer\" as E3  [[psysml:b4c6803f-b500-4ed2-a89b-7b27b2a9486d ]]  {\r\n",
       "}\r\n",
       "package \"Service Layer\" as E4  [[psysml:66b88940-ae34-45ae-8eaf-0df380551b61 ]]  {\r\n",
       "}\r\n",
       "package \"Data Layer\" as E5  [[psysml:2f9cfad3-e6e2-4672-a52e-eac3ac1cc3fa ]]  {\r\n",
       "}\r\n",
       "}\r\n",
       "comp usage \"x\" as E6  <<(T,blue)attribute>> [[psysml:627607da-451a-45ac-bf2e-8d18d85231b1 ]] {\r\n",
       "}\r\n",
       "comp usage \"y\" as E7  <<(T,blue)attribute>> [[psysml:b8e81d8b-4779-47a3-b21f-b5cec6a6f06b ]] {\r\n",
       "}\r\n",
       "comp usage \"z\" as E8  <<(T,blue)attribute>> [[psysml:ff5b6b09-567c-4f7f-ac5d-5252b0115c49 ]] {\r\n",
       "}\r\n",
       "E3 ..>> E4 [[psysml:dea4bf7d-7df0-4a98-b0a8-ad3094fe796e ]] : <<depend>>\r\n",
       "E4 ..>> E5 [[psysml:6c12c767-a343-4222-b71b-448a215deadc ]] : <<depend>>\r\n",
       "E8 ..>> E6 [[psysml:2c14e4ca-efb9-4e12-a147-b41b8d65befc ]] : <<depend>>\r\n",
       "E8 ..>> E7 [[psysml:2c14e4ca-efb9-4e12-a147-b41b8d65befc ]] : <<depend>>\r\n",
       "}\r\n",
       "@enduml\r\n",
       "\n",
       "PlantUML version 1.2020.13(Sat Jun 13 12:26:38 UTC 2020)\n",
       "(EPL source distribution)\n",
       "Java Runtime: OpenJDK Runtime Environment\n",
       "JVM: OpenJDK 64-Bit Server VM\n",
       "Default Encoding: UTF-8\n",
       "Language: en\n",
       "Country: null\n",
       "--></g></svg>"
      ]
     },
     "execution_count": 23,
     "metadata": {},
     "output_type": "execute_result"
    }
   ],
   "source": [
    "%viz --style=\"STDCOLOR\" --view=\"Default\" \"DependencyTest\""
   ]
  },
  {
   "cell_type": "code",
   "execution_count": 24,
   "id": "2010e0df",
   "metadata": {
    "execution": {
     "iopub.execute_input": "2021-05-28T10:49:38.060340Z",
     "iopub.status.busy": "2021-05-28T10:49:38.059665Z",
     "iopub.status.idle": "2021-05-28T10:49:38.093257Z",
     "shell.execute_reply": "2021-05-28T10:49:38.092844Z"
    }
   },
   "outputs": [
    {
     "data": {
      "image/svg+xml": [
       "<?xml version=\"1.0\" encoding=\"UTF-8\" standalone=\"no\"?><svg xmlns=\"http://www.w3.org/2000/svg\" xmlns:xlink=\"http://www.w3.org/1999/xlink\" contentScriptType=\"application/ecmascript\" contentStyleType=\"text/css\" height=\"449px\" preserveAspectRatio=\"none\" style=\"width:489px;height:449px;\" version=\"1.1\" viewBox=\"0 0 489 449\" width=\"489px\" zoomAndPan=\"magnify\"><defs><filter height=\"300%\" id=\"f1dj7kvp44czk6\" width=\"300%\" x=\"-1\" y=\"-1\"><feGaussianBlur result=\"blurOut\" stdDeviation=\"2.0\"/><feColorMatrix in=\"blurOut\" result=\"blurOut2\" type=\"matrix\" values=\"0 0 0 0 0 0 0 0 0 0 0 0 0 0 0 0 0 0 .4 0\"/><feOffset dx=\"4.0\" dy=\"4.0\" in=\"blurOut2\" result=\"blurOut3\"/><feBlend in=\"SourceGraphic\" in2=\"blurOut3\" mode=\"normal\"/></filter></defs><g><!--MD5=[fbc87193dbaf4d95561dea2c320d4a47]\n",
       "cluster E1--><a href=\"psysml:cce2acdd-5299-4277-a359-760a7748f1a5\" target=\"_top\" title=\"psysml:cce2acdd-5299-4277-a359-760a7748f1a5\" xlink:actuate=\"onRequest\" xlink:href=\"psysml:cce2acdd-5299-4277-a359-760a7748f1a5\" xlink:show=\"new\" xlink:title=\"psysml:cce2acdd-5299-4277-a359-760a7748f1a5\" xlink:type=\"simple\"><polygon fill=\"#FFFFFF\" filter=\"url(#f1dj7kvp44czk6)\" points=\"16,6,156,6,163,28.2969,467,28.2969,467,437,16,437,16,6\" style=\"stroke: #000000; stroke-width: 1.5;\"/><line style=\"stroke: #000000; stroke-width: 1.5;\" x1=\"16\" x2=\"163\" y1=\"28.2969\" y2=\"28.2969\"/><text fill=\"#000000\" font-family=\"sans-serif\" font-size=\"14\" font-weight=\"bold\" lengthAdjust=\"spacingAndGlyphs\" textLength=\"134\" x=\"20\" y=\"20.9951\">DependencyTest</text></a><!--MD5=[e4f7fae6ed58524ba242bb0b0d3be6b7]\n",
       "cluster E2--><a href=\"psysml:fe0450d0-807d-48bf-914f-f99eea0aac67\" target=\"_top\" title=\"psysml:fe0450d0-807d-48bf-914f-f99eea0aac67\" xlink:actuate=\"onRequest\" xlink:href=\"psysml:fe0450d0-807d-48bf-914f-f99eea0aac67\" xlink:show=\"new\" xlink:title=\"psysml:fe0450d0-807d-48bf-914f-f99eea0aac67\" xlink:type=\"simple\"><polygon fill=\"#FFFFFF\" filter=\"url(#f1dj7kvp44czk6)\" points=\"255,49,319,49,326,71.2969,443,71.2969,443,413,255,413,255,49\" style=\"stroke: #000000; stroke-width: 1.5;\"/><line style=\"stroke: #000000; stroke-width: 1.5;\" x1=\"255\" x2=\"326\" y1=\"71.2969\" y2=\"71.2969\"/><text fill=\"#000000\" font-family=\"sans-serif\" font-size=\"14\" font-weight=\"bold\" lengthAdjust=\"spacingAndGlyphs\" textLength=\"58\" x=\"259\" y=\"63.9951\">System</text></a><!--MD5=[60a26617385b1d2d0262a64233df1f8d]\n",
       "class E6--><a href=\"psysml:627607da-451a-45ac-bf2e-8d18d85231b1\" target=\"_top\" title=\"psysml:627607da-451a-45ac-bf2e-8d18d85231b1\" xlink:actuate=\"onRequest\" xlink:href=\"psysml:627607da-451a-45ac-bf2e-8d18d85231b1\" xlink:show=\"new\" xlink:title=\"psysml:627607da-451a-45ac-bf2e-8d18d85231b1\" xlink:type=\"simple\"><rect fill=\"#FEFECE\" filter=\"url(#f1dj7kvp44czk6)\" height=\"45.9375\" id=\"E6\" rx=\"10\" ry=\"10\" style=\"stroke: #A80036; stroke-width: 1.5;\" width=\"71\" x=\"32.5\" y=\"217.5\"/><text fill=\"#000000\" font-family=\"sans-serif\" font-size=\"12\" font-style=\"italic\" lengthAdjust=\"spacingAndGlyphs\" textLength=\"69\" x=\"33.5\" y=\"233.6387\">«attribute»</text><text fill=\"#000000\" font-family=\"sans-serif\" font-size=\"12\" lengthAdjust=\"spacingAndGlyphs\" textLength=\"6\" x=\"65\" y=\"247.6074\">x</text><line style=\"stroke: #A80036; stroke-width: 1.5;\" x1=\"33.5\" x2=\"102.5\" y1=\"255.4375\" y2=\"255.4375\"/></a><!--MD5=[2156ba9850f5573cc1fc38a6a4b2f02b]\n",
       "class E7--><a href=\"psysml:b8e81d8b-4779-47a3-b21f-b5cec6a6f06b\" target=\"_top\" title=\"psysml:b8e81d8b-4779-47a3-b21f-b5cec6a6f06b\" xlink:actuate=\"onRequest\" xlink:href=\"psysml:b8e81d8b-4779-47a3-b21f-b5cec6a6f06b\" xlink:show=\"new\" xlink:title=\"psysml:b8e81d8b-4779-47a3-b21f-b5cec6a6f06b\" xlink:type=\"simple\"><rect fill=\"#FEFECE\" filter=\"url(#f1dj7kvp44czk6)\" height=\"45.9375\" id=\"E7\" rx=\"10\" ry=\"10\" style=\"stroke: #A80036; stroke-width: 1.5;\" width=\"71\" x=\"138.5\" y=\"217.5\"/><text fill=\"#000000\" font-family=\"sans-serif\" font-size=\"12\" font-style=\"italic\" lengthAdjust=\"spacingAndGlyphs\" textLength=\"69\" x=\"139.5\" y=\"233.6387\">«attribute»</text><text fill=\"#000000\" font-family=\"sans-serif\" font-size=\"12\" lengthAdjust=\"spacingAndGlyphs\" textLength=\"6\" x=\"171\" y=\"247.6074\">y</text><line style=\"stroke: #A80036; stroke-width: 1.5;\" x1=\"139.5\" x2=\"208.5\" y1=\"255.4375\" y2=\"255.4375\"/></a><!--MD5=[b9389687b975829384b498ac4b7476b2]\n",
       "class E8--><a href=\"psysml:ff5b6b09-567c-4f7f-ac5d-5252b0115c49\" target=\"_top\" title=\"psysml:ff5b6b09-567c-4f7f-ac5d-5252b0115c49\" xlink:actuate=\"onRequest\" xlink:href=\"psysml:ff5b6b09-567c-4f7f-ac5d-5252b0115c49\" xlink:show=\"new\" xlink:title=\"psysml:ff5b6b09-567c-4f7f-ac5d-5252b0115c49\" xlink:type=\"simple\"><rect fill=\"#FEFECE\" filter=\"url(#f1dj7kvp44czk6)\" height=\"45.9375\" id=\"E8\" rx=\"10\" ry=\"10\" style=\"stroke: #A80036; stroke-width: 1.5;\" width=\"71\" x=\"84.5\" y=\"87.5\"/><text fill=\"#000000\" font-family=\"sans-serif\" font-size=\"12\" font-style=\"italic\" lengthAdjust=\"spacingAndGlyphs\" textLength=\"69\" x=\"85.5\" y=\"103.6387\">«attribute»</text><text fill=\"#000000\" font-family=\"sans-serif\" font-size=\"12\" lengthAdjust=\"spacingAndGlyphs\" textLength=\"5\" x=\"117.5\" y=\"117.6074\">z</text><line style=\"stroke: #A80036; stroke-width: 1.5;\" x1=\"85.5\" x2=\"154.5\" y1=\"125.4375\" y2=\"125.4375\"/></a><a href=\"psysml:b4c6803f-b500-4ed2-a89b-7b27b2a9486d\" target=\"_top\" title=\"psysml:b4c6803f-b500-4ed2-a89b-7b27b2a9486d\" xlink:actuate=\"onRequest\" xlink:href=\"psysml:b4c6803f-b500-4ed2-a89b-7b27b2a9486d\" xlink:show=\"new\" xlink:title=\"psysml:b4c6803f-b500-4ed2-a89b-7b27b2a9486d\" xlink:type=\"simple\"><polygon fill=\"#FFFFFF\" filter=\"url(#f1dj7kvp44czk6)\" points=\"271,84,413,84,420,106.2969,427,106.2969,427,136.5938,271,136.5938,271,84\" style=\"stroke: #000000; stroke-width: 1.5;\"/><line style=\"stroke: #000000; stroke-width: 1.5;\" x1=\"271\" x2=\"420\" y1=\"106.2969\" y2=\"106.2969\"/><text fill=\"#000000\" font-family=\"sans-serif\" font-size=\"14\" font-weight=\"bold\" lengthAdjust=\"spacingAndGlyphs\" textLength=\"136\" x=\"275\" y=\"98.9951\">Application Layer</text></a><a href=\"psysml:66b88940-ae34-45ae-8eaf-0df380551b61\" target=\"_top\" title=\"psysml:66b88940-ae34-45ae-8eaf-0df380551b61\" xlink:actuate=\"onRequest\" xlink:href=\"psysml:66b88940-ae34-45ae-8eaf-0df380551b61\" xlink:show=\"new\" xlink:title=\"psysml:66b88940-ae34-45ae-8eaf-0df380551b61\" xlink:type=\"simple\"><polygon fill=\"#FFFFFF\" filter=\"url(#f1dj7kvp44czk6)\" points=\"285,214,399,214,406,236.2969,413,236.2969,413,266.5938,285,266.5938,285,214\" style=\"stroke: #000000; stroke-width: 1.5;\"/><line style=\"stroke: #000000; stroke-width: 1.5;\" x1=\"285\" x2=\"406\" y1=\"236.2969\" y2=\"236.2969\"/><text fill=\"#000000\" font-family=\"sans-serif\" font-size=\"14\" font-weight=\"bold\" lengthAdjust=\"spacingAndGlyphs\" textLength=\"108\" x=\"289\" y=\"228.9951\">Service Layer</text></a><a href=\"psysml:2f9cfad3-e6e2-4672-a52e-eac3ac1cc3fa\" target=\"_top\" title=\"psysml:2f9cfad3-e6e2-4672-a52e-eac3ac1cc3fa\" xlink:actuate=\"onRequest\" xlink:href=\"psysml:2f9cfad3-e6e2-4672-a52e-eac3ac1cc3fa\" xlink:show=\"new\" xlink:title=\"psysml:2f9cfad3-e6e2-4672-a52e-eac3ac1cc3fa\" xlink:type=\"simple\"><polygon fill=\"#FFFFFF\" filter=\"url(#f1dj7kvp44czk6)\" points=\"297,344,387,344,394,366.2969,401,366.2969,401,396.5938,297,396.5938,297,344\" style=\"stroke: #000000; stroke-width: 1.5;\"/><line style=\"stroke: #000000; stroke-width: 1.5;\" x1=\"297\" x2=\"394\" y1=\"366.2969\" y2=\"366.2969\"/><text fill=\"#000000\" font-family=\"sans-serif\" font-size=\"14\" font-weight=\"bold\" lengthAdjust=\"spacingAndGlyphs\" textLength=\"84\" x=\"301\" y=\"358.9951\">Data Layer</text></a><!--MD5=[af87c684e3b0d8be13c1a698a818ef1e]\n",
       "link E3 to E4--><a href=\"psysml:dea4bf7d-7df0-4a98-b0a8-ad3094fe796e\" target=\"_top\" title=\"psysml:dea4bf7d-7df0-4a98-b0a8-ad3094fe796e\" xlink:actuate=\"onRequest\" xlink:href=\"psysml:dea4bf7d-7df0-4a98-b0a8-ad3094fe796e\" xlink:show=\"new\" xlink:title=\"psysml:dea4bf7d-7df0-4a98-b0a8-ad3094fe796e\" xlink:type=\"simple\"><path d=\"M349,137.1 C349,156.8 349,184.22 349,205.73 \" fill=\"none\" id=\"E3-&gt;E4\" style=\"stroke: #A80036; stroke-width: 1.0; stroke-dasharray: 7.0,7.0;\"/><polygon fill=\"#A80036\" points=\"349,213.95,352,205.95,346,205.95,349,213.95\" style=\"stroke: #A80036; stroke-width: 1.0;\"/><text fill=\"#000000\" font-family=\"sans-serif\" font-size=\"13\" lengthAdjust=\"spacingAndGlyphs\" textLength=\"64\" x=\"350\" y=\"180.0669\">«depend»</text></a><!--MD5=[1b7591eae5389033d8d09a9d6721a717]\n",
       "link E4 to E5--><a href=\"psysml:6c12c767-a343-4222-b71b-448a215deadc\" target=\"_top\" title=\"psysml:6c12c767-a343-4222-b71b-448a215deadc\" xlink:actuate=\"onRequest\" xlink:href=\"psysml:6c12c767-a343-4222-b71b-448a215deadc\" xlink:show=\"new\" xlink:title=\"psysml:6c12c767-a343-4222-b71b-448a215deadc\" xlink:type=\"simple\"><path d=\"M349,267.1 C349,286.8 349,314.22 349,335.73 \" fill=\"none\" id=\"E4-&gt;E5\" style=\"stroke: #A80036; stroke-width: 1.0; stroke-dasharray: 7.0,7.0;\"/><polygon fill=\"#A80036\" points=\"349,343.95,352,335.95,346,335.95,349,343.95\" style=\"stroke: #A80036; stroke-width: 1.0;\"/><text fill=\"#000000\" font-family=\"sans-serif\" font-size=\"13\" lengthAdjust=\"spacingAndGlyphs\" textLength=\"64\" x=\"350\" y=\"310.0669\">«depend»</text></a><!--MD5=[c5e8897d989ce984f93528998a7150fe]\n",
       "link E8 to E6--><a href=\"psysml:2c14e4ca-efb9-4e12-a147-b41b8d65befc\" target=\"_top\" title=\"psysml:2c14e4ca-efb9-4e12-a147-b41b8d65befc\" xlink:actuate=\"onRequest\" xlink:href=\"psysml:2c14e4ca-efb9-4e12-a147-b41b8d65befc\" xlink:show=\"new\" xlink:title=\"psysml:2c14e4ca-efb9-4e12-a147-b41b8d65befc\" xlink:type=\"simple\"><path d=\"M89.42,133.6 C79.35,142.68 69.37,154.11 64,167 C58.5,180.2 58.66,195.94 60.54,209.38 \" fill=\"none\" id=\"E8-&gt;E6\" style=\"stroke: #A80036; stroke-width: 1.0; stroke-dasharray: 7.0,7.0;\"/><polygon fill=\"#A80036\" points=\"61.9,217.4,63.517,209.0104,57.6018,210.0159,61.9,217.4\" style=\"stroke: #A80036; stroke-width: 1.0;\"/><text fill=\"#000000\" font-family=\"sans-serif\" font-size=\"13\" lengthAdjust=\"spacingAndGlyphs\" textLength=\"64\" x=\"65\" y=\"180.0669\">«depend»</text></a><!--MD5=[bfa3c8b0d15052fdf50ae9310b491027]\n",
       "link E8 to E7--><a href=\"psysml:2c14e4ca-efb9-4e12-a147-b41b8d65befc\" target=\"_top\" title=\"psysml:2c14e4ca-efb9-4e12-a147-b41b8d65befc\" xlink:actuate=\"onRequest\" xlink:href=\"psysml:2c14e4ca-efb9-4e12-a147-b41b8d65befc\" xlink:show=\"new\" xlink:title=\"psysml:2c14e4ca-efb9-4e12-a147-b41b8d65befc\" xlink:type=\"simple\"><path d=\"M129.28,133.5 C138.17,154.57 151.64,186.5 161.47,209.81 \" fill=\"none\" id=\"E8-&gt;E7\" style=\"stroke: #A80036; stroke-width: 1.0; stroke-dasharray: 7.0,7.0;\"/><polygon fill=\"#A80036\" points=\"164.66,217.35,164.3241,208.8126,158.7933,211.1385,164.66,217.35\" style=\"stroke: #A80036; stroke-width: 1.0;\"/><text fill=\"#000000\" font-family=\"sans-serif\" font-size=\"13\" lengthAdjust=\"spacingAndGlyphs\" textLength=\"64\" x=\"151\" y=\"180.0669\">«depend»</text></a><!--MD5=[501bbe579f49eb8a0ff12459d2d98347]\n",
       "@startuml\r\n",
       "skinparam wrapWidth 300\r\n",
       "hide circle\r\n",
       "\r\n",
       "package \"DependencyTest\" as E1  [[psysml:cce2acdd-5299-4277-a359-760a7748f1a5 ]]  {\r\n",
       "package \"System\" as E2  [[psysml:fe0450d0-807d-48bf-914f-f99eea0aac67 ]]  {\r\n",
       "package \"Application Layer\" as E3  [[psysml:b4c6803f-b500-4ed2-a89b-7b27b2a9486d ]]  {\r\n",
       "}\r\n",
       "package \"Service Layer\" as E4  [[psysml:66b88940-ae34-45ae-8eaf-0df380551b61 ]]  {\r\n",
       "}\r\n",
       "package \"Data Layer\" as E5  [[psysml:2f9cfad3-e6e2-4672-a52e-eac3ac1cc3fa ]]  {\r\n",
       "}\r\n",
       "}\r\n",
       "comp usage \"x\" as E6  <<(T,blue)attribute>> [[psysml:627607da-451a-45ac-bf2e-8d18d85231b1 ]] {\r\n",
       "}\r\n",
       "comp usage \"y\" as E7  <<(T,blue)attribute>> [[psysml:b8e81d8b-4779-47a3-b21f-b5cec6a6f06b ]] {\r\n",
       "}\r\n",
       "comp usage \"z\" as E8  <<(T,blue)attribute>> [[psysml:ff5b6b09-567c-4f7f-ac5d-5252b0115c49 ]] {\r\n",
       "}\r\n",
       "E3 ..>> E4 [[psysml:dea4bf7d-7df0-4a98-b0a8-ad3094fe796e ]] : <<depend>>\r\n",
       "E4 ..>> E5 [[psysml:6c12c767-a343-4222-b71b-448a215deadc ]] : <<depend>>\r\n",
       "E8 ..>> E6 [[psysml:2c14e4ca-efb9-4e12-a147-b41b8d65befc ]] : <<depend>>\r\n",
       "E8 ..>> E7 [[psysml:2c14e4ca-efb9-4e12-a147-b41b8d65befc ]] : <<depend>>\r\n",
       "}\r\n",
       "@enduml\r\n",
       "\n",
       "PlantUML version 1.2020.13(Sat Jun 13 12:26:38 UTC 2020)\n",
       "(EPL source distribution)\n",
       "Java Runtime: OpenJDK Runtime Environment\n",
       "JVM: OpenJDK 64-Bit Server VM\n",
       "Default Encoding: UTF-8\n",
       "Language: en\n",
       "Country: null\n",
       "--></g></svg>"
      ]
     },
     "execution_count": 24,
     "metadata": {},
     "output_type": "execute_result"
    }
   ],
   "source": [
    "%viz --style=\"STDCOLOR\" --view=\"Tree\" \"DependencyTest\""
   ]
  },
  {
   "cell_type": "code",
   "execution_count": 25,
   "id": "1a896529",
   "metadata": {
    "execution": {
     "iopub.execute_input": "2021-05-28T10:49:38.145260Z",
     "iopub.status.busy": "2021-05-28T10:49:38.144292Z",
     "iopub.status.idle": "2021-05-28T10:49:38.149879Z",
     "shell.execute_reply": "2021-05-28T10:49:38.149576Z"
    }
   },
   "outputs": [
    {
     "data": {
      "image/svg+xml": [
       "<?xml version=\"1.0\" encoding=\"UTF-8\" standalone=\"no\"?><svg xmlns=\"http://www.w3.org/2000/svg\" xmlns:xlink=\"http://www.w3.org/1999/xlink\" contentScriptType=\"application/ecmascript\" contentStyleType=\"text/css\" height=\"12px\" preserveAspectRatio=\"none\" style=\"width:12px;height:12px;\" version=\"1.1\" viewBox=\"0 0 12 12\" width=\"12px\" zoomAndPan=\"magnify\"><defs/><g><!--MD5=[aeeef50f102b80d730deb6443d14f702]\n",
       "@startuml\r\n",
       "skinparam wrapWidth 300\r\n",
       "hide circle\r\n",
       "\r\n",
       "@enduml\r\n",
       "\n",
       "PlantUML version 1.2020.13(Sat Jun 13 12:26:38 UTC 2020)\n",
       "(EPL source distribution)\n",
       "Java Runtime: OpenJDK Runtime Environment\n",
       "JVM: OpenJDK 64-Bit Server VM\n",
       "Default Encoding: UTF-8\n",
       "Language: en\n",
       "Country: null\n",
       "--></g></svg>"
      ]
     },
     "execution_count": 25,
     "metadata": {},
     "output_type": "execute_result"
    }
   ],
   "source": [
    "%viz --style=\"STDCOLOR\" --view=\"State\" \"DependencyTest\""
   ]
  },
  {
   "cell_type": "code",
   "execution_count": 26,
   "id": "1dc3333e",
   "metadata": {
    "execution": {
     "iopub.execute_input": "2021-05-28T10:49:38.207115Z",
     "iopub.status.busy": "2021-05-28T10:49:38.201603Z",
     "iopub.status.idle": "2021-05-28T10:49:38.249639Z",
     "shell.execute_reply": "2021-05-28T10:49:38.247684Z"
    }
   },
   "outputs": [
    {
     "data": {
      "image/svg+xml": [
       "<?xml version=\"1.0\" encoding=\"UTF-8\" standalone=\"no\"?><svg xmlns=\"http://www.w3.org/2000/svg\" xmlns:xlink=\"http://www.w3.org/1999/xlink\" contentScriptType=\"application/ecmascript\" contentStyleType=\"text/css\" height=\"361px\" preserveAspectRatio=\"none\" style=\"width:489px;height:361px;\" version=\"1.1\" viewBox=\"0 0 489 361\" width=\"489px\" zoomAndPan=\"magnify\"><defs><filter height=\"300%\" id=\"fk939lqy6ana3\" width=\"300%\" x=\"-1\" y=\"-1\"><feGaussianBlur result=\"blurOut\" stdDeviation=\"2.0\"/><feColorMatrix in=\"blurOut\" result=\"blurOut2\" type=\"matrix\" values=\"0 0 0 0 0 0 0 0 0 0 0 0 0 0 0 0 0 0 .4 0\"/><feOffset dx=\"4.0\" dy=\"4.0\" in=\"blurOut2\" result=\"blurOut3\"/><feBlend in=\"SourceGraphic\" in2=\"blurOut3\" mode=\"normal\"/></filter></defs><g><!--MD5=[fbc87193dbaf4d95561dea2c320d4a47]\n",
       "cluster E1--><a href=\"psysml:cce2acdd-5299-4277-a359-760a7748f1a5\" target=\"_top\" title=\"psysml:cce2acdd-5299-4277-a359-760a7748f1a5\" xlink:actuate=\"onRequest\" xlink:href=\"psysml:cce2acdd-5299-4277-a359-760a7748f1a5\" xlink:show=\"new\" xlink:title=\"psysml:cce2acdd-5299-4277-a359-760a7748f1a5\" xlink:type=\"simple\"><polygon fill=\"#FFFFFF\" filter=\"url(#fk939lqy6ana3)\" points=\"16,6,156,6,163,28.2969,467,28.2969,467,349,16,349,16,6\" style=\"stroke: #000000; stroke-width: 1.5;\"/><line style=\"stroke: #000000; stroke-width: 1.5;\" x1=\"16\" x2=\"163\" y1=\"28.2969\" y2=\"28.2969\"/><text fill=\"#000000\" font-family=\"sans-serif\" font-size=\"14\" font-weight=\"bold\" lengthAdjust=\"spacingAndGlyphs\" textLength=\"134\" x=\"20\" y=\"20.9951\">DependencyTest</text></a><!--MD5=[e4f7fae6ed58524ba242bb0b0d3be6b7]\n",
       "cluster E2--><a href=\"psysml:fe0450d0-807d-48bf-914f-f99eea0aac67\" target=\"_top\" title=\"psysml:fe0450d0-807d-48bf-914f-f99eea0aac67\" xlink:actuate=\"onRequest\" xlink:href=\"psysml:fe0450d0-807d-48bf-914f-f99eea0aac67\" xlink:show=\"new\" xlink:title=\"psysml:fe0450d0-807d-48bf-914f-f99eea0aac67\" xlink:type=\"simple\"><polygon fill=\"#FFFFFF\" filter=\"url(#fk939lqy6ana3)\" points=\"255,49,319,49,326,71.2969,443,71.2969,443,325,255,325,255,49\" style=\"stroke: #000000; stroke-width: 1.5;\"/><line style=\"stroke: #000000; stroke-width: 1.5;\" x1=\"255\" x2=\"326\" y1=\"71.2969\" y2=\"71.2969\"/><text fill=\"#000000\" font-family=\"sans-serif\" font-size=\"14\" font-weight=\"bold\" lengthAdjust=\"spacingAndGlyphs\" textLength=\"58\" x=\"259\" y=\"63.9951\">System</text></a><!--MD5=[60a26617385b1d2d0262a64233df1f8d]\n",
       "class E6--><a href=\"psysml:627607da-451a-45ac-bf2e-8d18d85231b1\" target=\"_top\" title=\"psysml:627607da-451a-45ac-bf2e-8d18d85231b1\" xlink:actuate=\"onRequest\" xlink:href=\"psysml:627607da-451a-45ac-bf2e-8d18d85231b1\" xlink:show=\"new\" xlink:title=\"psysml:627607da-451a-45ac-bf2e-8d18d85231b1\" xlink:type=\"simple\"><rect fill=\"#FEFECE\" filter=\"url(#fk939lqy6ana3)\" height=\"45.9375\" id=\"E6\" rx=\"10\" ry=\"10\" style=\"stroke: #A80036; stroke-width: 1.5;\" width=\"71\" x=\"32.5\" y=\"173.5\"/><text fill=\"#000000\" font-family=\"sans-serif\" font-size=\"12\" font-style=\"italic\" lengthAdjust=\"spacingAndGlyphs\" textLength=\"69\" x=\"33.5\" y=\"189.6387\">«attribute»</text><text fill=\"#000000\" font-family=\"sans-serif\" font-size=\"12\" lengthAdjust=\"spacingAndGlyphs\" textLength=\"6\" x=\"65\" y=\"203.6074\">x</text><line style=\"stroke: #A80036; stroke-width: 1.5;\" x1=\"33.5\" x2=\"102.5\" y1=\"211.4375\" y2=\"211.4375\"/></a><!--MD5=[2156ba9850f5573cc1fc38a6a4b2f02b]\n",
       "class E7--><a href=\"psysml:b8e81d8b-4779-47a3-b21f-b5cec6a6f06b\" target=\"_top\" title=\"psysml:b8e81d8b-4779-47a3-b21f-b5cec6a6f06b\" xlink:actuate=\"onRequest\" xlink:href=\"psysml:b8e81d8b-4779-47a3-b21f-b5cec6a6f06b\" xlink:show=\"new\" xlink:title=\"psysml:b8e81d8b-4779-47a3-b21f-b5cec6a6f06b\" xlink:type=\"simple\"><rect fill=\"#FEFECE\" filter=\"url(#fk939lqy6ana3)\" height=\"45.9375\" id=\"E7\" rx=\"10\" ry=\"10\" style=\"stroke: #A80036; stroke-width: 1.5;\" width=\"71\" x=\"138.5\" y=\"173.5\"/><text fill=\"#000000\" font-family=\"sans-serif\" font-size=\"12\" font-style=\"italic\" lengthAdjust=\"spacingAndGlyphs\" textLength=\"69\" x=\"139.5\" y=\"189.6387\">«attribute»</text><text fill=\"#000000\" font-family=\"sans-serif\" font-size=\"12\" lengthAdjust=\"spacingAndGlyphs\" textLength=\"6\" x=\"171\" y=\"203.6074\">y</text><line style=\"stroke: #A80036; stroke-width: 1.5;\" x1=\"139.5\" x2=\"208.5\" y1=\"211.4375\" y2=\"211.4375\"/></a><!--MD5=[b9389687b975829384b498ac4b7476b2]\n",
       "class E8--><a href=\"psysml:ff5b6b09-567c-4f7f-ac5d-5252b0115c49\" target=\"_top\" title=\"psysml:ff5b6b09-567c-4f7f-ac5d-5252b0115c49\" xlink:actuate=\"onRequest\" xlink:href=\"psysml:ff5b6b09-567c-4f7f-ac5d-5252b0115c49\" xlink:show=\"new\" xlink:title=\"psysml:ff5b6b09-567c-4f7f-ac5d-5252b0115c49\" xlink:type=\"simple\"><rect fill=\"#FEFECE\" filter=\"url(#fk939lqy6ana3)\" height=\"45.9375\" id=\"E8\" rx=\"10\" ry=\"10\" style=\"stroke: #A80036; stroke-width: 1.5;\" width=\"71\" x=\"84.5\" y=\"87.5\"/><text fill=\"#000000\" font-family=\"sans-serif\" font-size=\"12\" font-style=\"italic\" lengthAdjust=\"spacingAndGlyphs\" textLength=\"69\" x=\"85.5\" y=\"103.6387\">«attribute»</text><text fill=\"#000000\" font-family=\"sans-serif\" font-size=\"12\" lengthAdjust=\"spacingAndGlyphs\" textLength=\"5\" x=\"117.5\" y=\"117.6074\">z</text><line style=\"stroke: #A80036; stroke-width: 1.5;\" x1=\"85.5\" x2=\"154.5\" y1=\"125.4375\" y2=\"125.4375\"/></a><a href=\"psysml:b4c6803f-b500-4ed2-a89b-7b27b2a9486d\" target=\"_top\" title=\"psysml:b4c6803f-b500-4ed2-a89b-7b27b2a9486d\" xlink:actuate=\"onRequest\" xlink:href=\"psysml:b4c6803f-b500-4ed2-a89b-7b27b2a9486d\" xlink:show=\"new\" xlink:title=\"psysml:b4c6803f-b500-4ed2-a89b-7b27b2a9486d\" xlink:type=\"simple\"><polygon fill=\"#FFFFFF\" filter=\"url(#fk939lqy6ana3)\" points=\"271,84,413,84,420,106.2969,427,106.2969,427,136.5938,271,136.5938,271,84\" style=\"stroke: #000000; stroke-width: 1.5;\"/><line style=\"stroke: #000000; stroke-width: 1.5;\" x1=\"271\" x2=\"420\" y1=\"106.2969\" y2=\"106.2969\"/><text fill=\"#000000\" font-family=\"sans-serif\" font-size=\"14\" font-weight=\"bold\" lengthAdjust=\"spacingAndGlyphs\" textLength=\"136\" x=\"275\" y=\"98.9951\">Application Layer</text></a><a href=\"psysml:66b88940-ae34-45ae-8eaf-0df380551b61\" target=\"_top\" title=\"psysml:66b88940-ae34-45ae-8eaf-0df380551b61\" xlink:actuate=\"onRequest\" xlink:href=\"psysml:66b88940-ae34-45ae-8eaf-0df380551b61\" xlink:show=\"new\" xlink:title=\"psysml:66b88940-ae34-45ae-8eaf-0df380551b61\" xlink:type=\"simple\"><polygon fill=\"#FFFFFF\" filter=\"url(#fk939lqy6ana3)\" points=\"285,170,399,170,406,192.2969,413,192.2969,413,222.5938,285,222.5938,285,170\" style=\"stroke: #000000; stroke-width: 1.5;\"/><line style=\"stroke: #000000; stroke-width: 1.5;\" x1=\"285\" x2=\"406\" y1=\"192.2969\" y2=\"192.2969\"/><text fill=\"#000000\" font-family=\"sans-serif\" font-size=\"14\" font-weight=\"bold\" lengthAdjust=\"spacingAndGlyphs\" textLength=\"108\" x=\"289\" y=\"184.9951\">Service Layer</text></a><a href=\"psysml:2f9cfad3-e6e2-4672-a52e-eac3ac1cc3fa\" target=\"_top\" title=\"psysml:2f9cfad3-e6e2-4672-a52e-eac3ac1cc3fa\" xlink:actuate=\"onRequest\" xlink:href=\"psysml:2f9cfad3-e6e2-4672-a52e-eac3ac1cc3fa\" xlink:show=\"new\" xlink:title=\"psysml:2f9cfad3-e6e2-4672-a52e-eac3ac1cc3fa\" xlink:type=\"simple\"><polygon fill=\"#FFFFFF\" filter=\"url(#fk939lqy6ana3)\" points=\"297,256,387,256,394,278.2969,401,278.2969,401,308.5938,297,308.5938,297,256\" style=\"stroke: #000000; stroke-width: 1.5;\"/><line style=\"stroke: #000000; stroke-width: 1.5;\" x1=\"297\" x2=\"394\" y1=\"278.2969\" y2=\"278.2969\"/><text fill=\"#000000\" font-family=\"sans-serif\" font-size=\"14\" font-weight=\"bold\" lengthAdjust=\"spacingAndGlyphs\" textLength=\"84\" x=\"301\" y=\"270.9951\">Data Layer</text></a><!--MD5=[af87c684e3b0d8be13c1a698a818ef1e]\n",
       "link E3 to E4--><a href=\"psysml:dea4bf7d-7df0-4a98-b0a8-ad3094fe796e\" target=\"_top\" title=\"psysml:dea4bf7d-7df0-4a98-b0a8-ad3094fe796e\" xlink:actuate=\"onRequest\" xlink:href=\"psysml:dea4bf7d-7df0-4a98-b0a8-ad3094fe796e\" xlink:show=\"new\" xlink:title=\"psysml:dea4bf7d-7df0-4a98-b0a8-ad3094fe796e\" xlink:type=\"simple\"><path d=\"M349,137.16 C349,144.98 349,153.69 349,161.94 \" fill=\"none\" id=\"E3-&gt;E4\" style=\"stroke: #A80036; stroke-width: 1.0; stroke-dasharray: 7.0,7.0;\"/><polygon fill=\"#A80036\" points=\"349,170,352,162,346,162,349,170\" style=\"stroke: #A80036; stroke-width: 1.0;\"/><text fill=\"#000000\" font-family=\"sans-serif\" font-size=\"13\" lengthAdjust=\"spacingAndGlyphs\" textLength=\"64\" x=\"350\" y=\"158.0669\">«depend»</text></a><!--MD5=[1b7591eae5389033d8d09a9d6721a717]\n",
       "link E4 to E5--><a href=\"psysml:6c12c767-a343-4222-b71b-448a215deadc\" target=\"_top\" title=\"psysml:6c12c767-a343-4222-b71b-448a215deadc\" xlink:actuate=\"onRequest\" xlink:href=\"psysml:6c12c767-a343-4222-b71b-448a215deadc\" xlink:show=\"new\" xlink:title=\"psysml:6c12c767-a343-4222-b71b-448a215deadc\" xlink:type=\"simple\"><path d=\"M349,223.16 C349,230.98 349,239.69 349,247.94 \" fill=\"none\" id=\"E4-&gt;E5\" style=\"stroke: #A80036; stroke-width: 1.0; stroke-dasharray: 7.0,7.0;\"/><polygon fill=\"#A80036\" points=\"349,256,352,248,346,248,349,256\" style=\"stroke: #A80036; stroke-width: 1.0;\"/><text fill=\"#000000\" font-family=\"sans-serif\" font-size=\"13\" lengthAdjust=\"spacingAndGlyphs\" textLength=\"64\" x=\"350\" y=\"244.0669\">«depend»</text></a><!--MD5=[c5e8897d989ce984f93528998a7150fe]\n",
       "link E8 to E6--><a href=\"psysml:2c14e4ca-efb9-4e12-a147-b41b8d65befc\" target=\"_top\" title=\"psysml:2c14e4ca-efb9-4e12-a147-b41b8d65befc\" xlink:actuate=\"onRequest\" xlink:href=\"psysml:2c14e4ca-efb9-4e12-a147-b41b8d65befc\" xlink:show=\"new\" xlink:title=\"psysml:2c14e4ca-efb9-4e12-a147-b41b8d65befc\" xlink:type=\"simple\"><path d=\"M84.49,125.34 C76.34,130.27 68.69,136.72 64,145 C60.54,151.1 59.62,158.31 60,165.33 \" fill=\"none\" id=\"E8-&gt;E6\" style=\"stroke: #A80036; stroke-width: 1.0; stroke-dasharray: 7.0,7.0;\"/><polygon fill=\"#A80036\" points=\"60.97,173.42,63.0061,165.1221,57.0479,165.8294,60.97,173.42\" style=\"stroke: #A80036; stroke-width: 1.0;\"/><text fill=\"#000000\" font-family=\"sans-serif\" font-size=\"13\" lengthAdjust=\"spacingAndGlyphs\" textLength=\"64\" x=\"65\" y=\"158.0669\">«depend»</text></a><!--MD5=[bfa3c8b0d15052fdf50ae9310b491027]\n",
       "link E8 to E7--><a href=\"psysml:2c14e4ca-efb9-4e12-a147-b41b8d65befc\" target=\"_top\" title=\"psysml:2c14e4ca-efb9-4e12-a147-b41b8d65befc\" xlink:actuate=\"onRequest\" xlink:href=\"psysml:2c14e4ca-efb9-4e12-a147-b41b8d65befc\" xlink:show=\"new\" xlink:title=\"psysml:2c14e4ca-efb9-4e12-a147-b41b8d65befc\" xlink:type=\"simple\"><path d=\"M134.19,133.57 C140.65,143.62 148.38,155.65 155.31,166.42 \" fill=\"none\" id=\"E8-&gt;E7\" style=\"stroke: #A80036; stroke-width: 1.0; stroke-dasharray: 7.0,7.0;\"/><polygon fill=\"#A80036\" points=\"159.72,173.29,157.9148,164.9389,152.8688,168.185,159.72,173.29\" style=\"stroke: #A80036; stroke-width: 1.0;\"/><text fill=\"#000000\" font-family=\"sans-serif\" font-size=\"13\" lengthAdjust=\"spacingAndGlyphs\" textLength=\"64\" x=\"152\" y=\"158.0669\">«depend»</text></a><!--MD5=[e124222cdbaa02a989e71af41ea4a59c]\n",
       "@startuml\r\n",
       "skinparam ranksep 10\r\n",
       "skinparam rectangle {\r\n",
       " backgroundColor<<block>> LightGreen\r\n",
       "}\r\n",
       "skinparam wrapWidth 300\r\n",
       "hide circle\r\n",
       "\r\n",
       "package \"DependencyTest\" as E1  [[psysml:cce2acdd-5299-4277-a359-760a7748f1a5 ]]  {\r\n",
       "package \"System\" as E2  [[psysml:fe0450d0-807d-48bf-914f-f99eea0aac67 ]]  {\r\n",
       "package \"Application Layer\" as E3  [[psysml:b4c6803f-b500-4ed2-a89b-7b27b2a9486d ]]  {\r\n",
       "}\r\n",
       "package \"Service Layer\" as E4  [[psysml:66b88940-ae34-45ae-8eaf-0df380551b61 ]]  {\r\n",
       "}\r\n",
       "package \"Data Layer\" as E5  [[psysml:2f9cfad3-e6e2-4672-a52e-eac3ac1cc3fa ]]  {\r\n",
       "}\r\n",
       "}\r\n",
       "comp usage \"x\" as E6  <<(T,blue)attribute>> [[psysml:627607da-451a-45ac-bf2e-8d18d85231b1 ]] {\r\n",
       "}\r\n",
       "comp usage \"y\" as E7  <<(T,blue)attribute>> [[psysml:b8e81d8b-4779-47a3-b21f-b5cec6a6f06b ]] {\r\n",
       "}\r\n",
       "comp usage \"z\" as E8  <<(T,blue)attribute>> [[psysml:ff5b6b09-567c-4f7f-ac5d-5252b0115c49 ]] {\r\n",
       "}\r\n",
       "E3 ..>> E4 [[psysml:dea4bf7d-7df0-4a98-b0a8-ad3094fe796e ]] : <<depend>>\r\n",
       "E4 ..>> E5 [[psysml:6c12c767-a343-4222-b71b-448a215deadc ]] : <<depend>>\r\n",
       "E8 ..>> E6 [[psysml:2c14e4ca-efb9-4e12-a147-b41b8d65befc ]] : <<depend>>\r\n",
       "E8 ..>> E7 [[psysml:2c14e4ca-efb9-4e12-a147-b41b8d65befc ]] : <<depend>>\r\n",
       "}\r\n",
       "@enduml\r\n",
       "\n",
       "PlantUML version 1.2020.13(Sat Jun 13 12:26:38 UTC 2020)\n",
       "(EPL source distribution)\n",
       "Java Runtime: OpenJDK Runtime Environment\n",
       "JVM: OpenJDK 64-Bit Server VM\n",
       "Default Encoding: UTF-8\n",
       "Language: en\n",
       "Country: null\n",
       "--></g></svg>"
      ]
     },
     "execution_count": 26,
     "metadata": {},
     "output_type": "execute_result"
    }
   ],
   "source": [
    "%viz --style=\"STDCOLOR\" --view=\"Interconnection\" \"DependencyTest\""
   ]
  },
  {
   "cell_type": "code",
   "execution_count": 27,
   "id": "8fcedb05",
   "metadata": {
    "execution": {
     "iopub.execute_input": "2021-05-28T10:49:38.301873Z",
     "iopub.status.busy": "2021-05-28T10:49:38.301271Z",
     "iopub.status.idle": "2021-05-28T10:49:38.302982Z",
     "shell.execute_reply": "2021-05-28T10:49:38.301586Z"
    }
   },
   "outputs": [
    {
     "data": {
      "image/svg+xml": [
       "<?xml version=\"1.0\" encoding=\"UTF-8\" standalone=\"no\"?><svg xmlns=\"http://www.w3.org/2000/svg\" xmlns:xlink=\"http://www.w3.org/1999/xlink\" contentScriptType=\"application/ecmascript\" contentStyleType=\"text/css\" height=\"12px\" preserveAspectRatio=\"none\" style=\"width:12px;height:12px;\" version=\"1.1\" viewBox=\"0 0 12 12\" width=\"12px\" zoomAndPan=\"magnify\"><defs/><g><!--MD5=[9863325348a96a77dacc89509d8ee65e]\n",
       "@startuml\r\n",
       "skinparam ranksep 8\r\n",
       "skinparam wrapWidth 300\r\n",
       "hide circle\r\n",
       "\r\n",
       "@enduml\r\n",
       "\n",
       "PlantUML version 1.2020.13(Sat Jun 13 12:26:38 UTC 2020)\n",
       "(EPL source distribution)\n",
       "Java Runtime: OpenJDK Runtime Environment\n",
       "JVM: OpenJDK 64-Bit Server VM\n",
       "Default Encoding: UTF-8\n",
       "Language: en\n",
       "Country: null\n",
       "--></g></svg>"
      ]
     },
     "execution_count": 27,
     "metadata": {},
     "output_type": "execute_result"
    }
   ],
   "source": [
    "%viz --style=\"STDCOLOR\" --view=\"Action\" \"DependencyTest\""
   ]
  },
  {
   "cell_type": "code",
   "execution_count": 28,
   "id": "f4982f0e",
   "metadata": {
    "execution": {
     "iopub.execute_input": "2021-05-28T10:49:38.375085Z",
     "iopub.status.busy": "2021-05-28T10:49:38.358464Z",
     "iopub.status.idle": "2021-05-28T10:49:38.402041Z",
     "shell.execute_reply": "2021-05-28T10:49:38.401686Z"
    }
   },
   "outputs": [
    {
     "data": {
      "image/svg+xml": [
       "<?xml version=\"1.0\" encoding=\"UTF-8\" standalone=\"no\"?><svg xmlns=\"http://www.w3.org/2000/svg\" xmlns:xlink=\"http://www.w3.org/1999/xlink\" contentScriptType=\"application/ecmascript\" contentStyleType=\"text/css\" height=\"449px\" preserveAspectRatio=\"none\" style=\"width:489px;height:449px;\" version=\"1.1\" viewBox=\"0 0 489 449\" width=\"489px\" zoomAndPan=\"magnify\"><defs><filter height=\"300%\" id=\"f1dj7kvp44czk6\" width=\"300%\" x=\"-1\" y=\"-1\"><feGaussianBlur result=\"blurOut\" stdDeviation=\"2.0\"/><feColorMatrix in=\"blurOut\" result=\"blurOut2\" type=\"matrix\" values=\"0 0 0 0 0 0 0 0 0 0 0 0 0 0 0 0 0 0 .4 0\"/><feOffset dx=\"4.0\" dy=\"4.0\" in=\"blurOut2\" result=\"blurOut3\"/><feBlend in=\"SourceGraphic\" in2=\"blurOut3\" mode=\"normal\"/></filter></defs><g><!--MD5=[fbc87193dbaf4d95561dea2c320d4a47]\n",
       "cluster E1--><a href=\"psysml:cce2acdd-5299-4277-a359-760a7748f1a5\" target=\"_top\" title=\"psysml:cce2acdd-5299-4277-a359-760a7748f1a5\" xlink:actuate=\"onRequest\" xlink:href=\"psysml:cce2acdd-5299-4277-a359-760a7748f1a5\" xlink:show=\"new\" xlink:title=\"psysml:cce2acdd-5299-4277-a359-760a7748f1a5\" xlink:type=\"simple\"><polygon fill=\"#FFFFFF\" filter=\"url(#f1dj7kvp44czk6)\" points=\"16,6,156,6,163,28.2969,467,28.2969,467,437,16,437,16,6\" style=\"stroke: #000000; stroke-width: 1.5;\"/><line style=\"stroke: #000000; stroke-width: 1.5;\" x1=\"16\" x2=\"163\" y1=\"28.2969\" y2=\"28.2969\"/><text fill=\"#000000\" font-family=\"sans-serif\" font-size=\"14\" font-weight=\"bold\" lengthAdjust=\"spacingAndGlyphs\" textLength=\"134\" x=\"20\" y=\"20.9951\">DependencyTest</text></a><!--MD5=[e4f7fae6ed58524ba242bb0b0d3be6b7]\n",
       "cluster E2--><a href=\"psysml:fe0450d0-807d-48bf-914f-f99eea0aac67\" target=\"_top\" title=\"psysml:fe0450d0-807d-48bf-914f-f99eea0aac67\" xlink:actuate=\"onRequest\" xlink:href=\"psysml:fe0450d0-807d-48bf-914f-f99eea0aac67\" xlink:show=\"new\" xlink:title=\"psysml:fe0450d0-807d-48bf-914f-f99eea0aac67\" xlink:type=\"simple\"><polygon fill=\"#FFFFFF\" filter=\"url(#f1dj7kvp44czk6)\" points=\"255,49,319,49,326,71.2969,443,71.2969,443,413,255,413,255,49\" style=\"stroke: #000000; stroke-width: 1.5;\"/><line style=\"stroke: #000000; stroke-width: 1.5;\" x1=\"255\" x2=\"326\" y1=\"71.2969\" y2=\"71.2969\"/><text fill=\"#000000\" font-family=\"sans-serif\" font-size=\"14\" font-weight=\"bold\" lengthAdjust=\"spacingAndGlyphs\" textLength=\"58\" x=\"259\" y=\"63.9951\">System</text></a><!--MD5=[60a26617385b1d2d0262a64233df1f8d]\n",
       "class E6--><a href=\"psysml:627607da-451a-45ac-bf2e-8d18d85231b1\" target=\"_top\" title=\"psysml:627607da-451a-45ac-bf2e-8d18d85231b1\" xlink:actuate=\"onRequest\" xlink:href=\"psysml:627607da-451a-45ac-bf2e-8d18d85231b1\" xlink:show=\"new\" xlink:title=\"psysml:627607da-451a-45ac-bf2e-8d18d85231b1\" xlink:type=\"simple\"><rect fill=\"#FEFECE\" filter=\"url(#f1dj7kvp44czk6)\" height=\"45.9375\" id=\"E6\" rx=\"10\" ry=\"10\" style=\"stroke: #A80036; stroke-width: 1.5;\" width=\"71\" x=\"32.5\" y=\"217.5\"/><text fill=\"#000000\" font-family=\"sans-serif\" font-size=\"12\" font-style=\"italic\" lengthAdjust=\"spacingAndGlyphs\" textLength=\"69\" x=\"33.5\" y=\"233.6387\">«attribute»</text><text fill=\"#000000\" font-family=\"sans-serif\" font-size=\"12\" lengthAdjust=\"spacingAndGlyphs\" textLength=\"6\" x=\"65\" y=\"247.6074\">x</text><line style=\"stroke: #A80036; stroke-width: 1.5;\" x1=\"33.5\" x2=\"102.5\" y1=\"255.4375\" y2=\"255.4375\"/></a><!--MD5=[2156ba9850f5573cc1fc38a6a4b2f02b]\n",
       "class E7--><a href=\"psysml:b8e81d8b-4779-47a3-b21f-b5cec6a6f06b\" target=\"_top\" title=\"psysml:b8e81d8b-4779-47a3-b21f-b5cec6a6f06b\" xlink:actuate=\"onRequest\" xlink:href=\"psysml:b8e81d8b-4779-47a3-b21f-b5cec6a6f06b\" xlink:show=\"new\" xlink:title=\"psysml:b8e81d8b-4779-47a3-b21f-b5cec6a6f06b\" xlink:type=\"simple\"><rect fill=\"#FEFECE\" filter=\"url(#f1dj7kvp44czk6)\" height=\"45.9375\" id=\"E7\" rx=\"10\" ry=\"10\" style=\"stroke: #A80036; stroke-width: 1.5;\" width=\"71\" x=\"138.5\" y=\"217.5\"/><text fill=\"#000000\" font-family=\"sans-serif\" font-size=\"12\" font-style=\"italic\" lengthAdjust=\"spacingAndGlyphs\" textLength=\"69\" x=\"139.5\" y=\"233.6387\">«attribute»</text><text fill=\"#000000\" font-family=\"sans-serif\" font-size=\"12\" lengthAdjust=\"spacingAndGlyphs\" textLength=\"6\" x=\"171\" y=\"247.6074\">y</text><line style=\"stroke: #A80036; stroke-width: 1.5;\" x1=\"139.5\" x2=\"208.5\" y1=\"255.4375\" y2=\"255.4375\"/></a><!--MD5=[b9389687b975829384b498ac4b7476b2]\n",
       "class E8--><a href=\"psysml:ff5b6b09-567c-4f7f-ac5d-5252b0115c49\" target=\"_top\" title=\"psysml:ff5b6b09-567c-4f7f-ac5d-5252b0115c49\" xlink:actuate=\"onRequest\" xlink:href=\"psysml:ff5b6b09-567c-4f7f-ac5d-5252b0115c49\" xlink:show=\"new\" xlink:title=\"psysml:ff5b6b09-567c-4f7f-ac5d-5252b0115c49\" xlink:type=\"simple\"><rect fill=\"#FEFECE\" filter=\"url(#f1dj7kvp44czk6)\" height=\"45.9375\" id=\"E8\" rx=\"10\" ry=\"10\" style=\"stroke: #A80036; stroke-width: 1.5;\" width=\"71\" x=\"84.5\" y=\"87.5\"/><text fill=\"#000000\" font-family=\"sans-serif\" font-size=\"12\" font-style=\"italic\" lengthAdjust=\"spacingAndGlyphs\" textLength=\"69\" x=\"85.5\" y=\"103.6387\">«attribute»</text><text fill=\"#000000\" font-family=\"sans-serif\" font-size=\"12\" lengthAdjust=\"spacingAndGlyphs\" textLength=\"5\" x=\"117.5\" y=\"117.6074\">z</text><line style=\"stroke: #A80036; stroke-width: 1.5;\" x1=\"85.5\" x2=\"154.5\" y1=\"125.4375\" y2=\"125.4375\"/></a><a href=\"psysml:b4c6803f-b500-4ed2-a89b-7b27b2a9486d\" target=\"_top\" title=\"psysml:b4c6803f-b500-4ed2-a89b-7b27b2a9486d\" xlink:actuate=\"onRequest\" xlink:href=\"psysml:b4c6803f-b500-4ed2-a89b-7b27b2a9486d\" xlink:show=\"new\" xlink:title=\"psysml:b4c6803f-b500-4ed2-a89b-7b27b2a9486d\" xlink:type=\"simple\"><polygon fill=\"#FFFFFF\" filter=\"url(#f1dj7kvp44czk6)\" points=\"271,84,413,84,420,106.2969,427,106.2969,427,136.5938,271,136.5938,271,84\" style=\"stroke: #000000; stroke-width: 1.5;\"/><line style=\"stroke: #000000; stroke-width: 1.5;\" x1=\"271\" x2=\"420\" y1=\"106.2969\" y2=\"106.2969\"/><text fill=\"#000000\" font-family=\"sans-serif\" font-size=\"14\" font-weight=\"bold\" lengthAdjust=\"spacingAndGlyphs\" textLength=\"136\" x=\"275\" y=\"98.9951\">Application Layer</text></a><a href=\"psysml:66b88940-ae34-45ae-8eaf-0df380551b61\" target=\"_top\" title=\"psysml:66b88940-ae34-45ae-8eaf-0df380551b61\" xlink:actuate=\"onRequest\" xlink:href=\"psysml:66b88940-ae34-45ae-8eaf-0df380551b61\" xlink:show=\"new\" xlink:title=\"psysml:66b88940-ae34-45ae-8eaf-0df380551b61\" xlink:type=\"simple\"><polygon fill=\"#FFFFFF\" filter=\"url(#f1dj7kvp44czk6)\" points=\"285,214,399,214,406,236.2969,413,236.2969,413,266.5938,285,266.5938,285,214\" style=\"stroke: #000000; stroke-width: 1.5;\"/><line style=\"stroke: #000000; stroke-width: 1.5;\" x1=\"285\" x2=\"406\" y1=\"236.2969\" y2=\"236.2969\"/><text fill=\"#000000\" font-family=\"sans-serif\" font-size=\"14\" font-weight=\"bold\" lengthAdjust=\"spacingAndGlyphs\" textLength=\"108\" x=\"289\" y=\"228.9951\">Service Layer</text></a><a href=\"psysml:2f9cfad3-e6e2-4672-a52e-eac3ac1cc3fa\" target=\"_top\" title=\"psysml:2f9cfad3-e6e2-4672-a52e-eac3ac1cc3fa\" xlink:actuate=\"onRequest\" xlink:href=\"psysml:2f9cfad3-e6e2-4672-a52e-eac3ac1cc3fa\" xlink:show=\"new\" xlink:title=\"psysml:2f9cfad3-e6e2-4672-a52e-eac3ac1cc3fa\" xlink:type=\"simple\"><polygon fill=\"#FFFFFF\" filter=\"url(#f1dj7kvp44czk6)\" points=\"297,344,387,344,394,366.2969,401,366.2969,401,396.5938,297,396.5938,297,344\" style=\"stroke: #000000; stroke-width: 1.5;\"/><line style=\"stroke: #000000; stroke-width: 1.5;\" x1=\"297\" x2=\"394\" y1=\"366.2969\" y2=\"366.2969\"/><text fill=\"#000000\" font-family=\"sans-serif\" font-size=\"14\" font-weight=\"bold\" lengthAdjust=\"spacingAndGlyphs\" textLength=\"84\" x=\"301\" y=\"358.9951\">Data Layer</text></a><!--MD5=[af87c684e3b0d8be13c1a698a818ef1e]\n",
       "link E3 to E4--><a href=\"psysml:dea4bf7d-7df0-4a98-b0a8-ad3094fe796e\" target=\"_top\" title=\"psysml:dea4bf7d-7df0-4a98-b0a8-ad3094fe796e\" xlink:actuate=\"onRequest\" xlink:href=\"psysml:dea4bf7d-7df0-4a98-b0a8-ad3094fe796e\" xlink:show=\"new\" xlink:title=\"psysml:dea4bf7d-7df0-4a98-b0a8-ad3094fe796e\" xlink:type=\"simple\"><path d=\"M349,137.1 C349,156.8 349,184.22 349,205.73 \" fill=\"none\" id=\"E3-&gt;E4\" style=\"stroke: #A80036; stroke-width: 1.0; stroke-dasharray: 7.0,7.0;\"/><polygon fill=\"#A80036\" points=\"349,213.95,352,205.95,346,205.95,349,213.95\" style=\"stroke: #A80036; stroke-width: 1.0;\"/><text fill=\"#000000\" font-family=\"sans-serif\" font-size=\"13\" lengthAdjust=\"spacingAndGlyphs\" textLength=\"64\" x=\"350\" y=\"180.0669\">«depend»</text></a><!--MD5=[1b7591eae5389033d8d09a9d6721a717]\n",
       "link E4 to E5--><a href=\"psysml:6c12c767-a343-4222-b71b-448a215deadc\" target=\"_top\" title=\"psysml:6c12c767-a343-4222-b71b-448a215deadc\" xlink:actuate=\"onRequest\" xlink:href=\"psysml:6c12c767-a343-4222-b71b-448a215deadc\" xlink:show=\"new\" xlink:title=\"psysml:6c12c767-a343-4222-b71b-448a215deadc\" xlink:type=\"simple\"><path d=\"M349,267.1 C349,286.8 349,314.22 349,335.73 \" fill=\"none\" id=\"E4-&gt;E5\" style=\"stroke: #A80036; stroke-width: 1.0; stroke-dasharray: 7.0,7.0;\"/><polygon fill=\"#A80036\" points=\"349,343.95,352,335.95,346,335.95,349,343.95\" style=\"stroke: #A80036; stroke-width: 1.0;\"/><text fill=\"#000000\" font-family=\"sans-serif\" font-size=\"13\" lengthAdjust=\"spacingAndGlyphs\" textLength=\"64\" x=\"350\" y=\"310.0669\">«depend»</text></a><!--MD5=[c5e8897d989ce984f93528998a7150fe]\n",
       "link E8 to E6--><a href=\"psysml:2c14e4ca-efb9-4e12-a147-b41b8d65befc\" target=\"_top\" title=\"psysml:2c14e4ca-efb9-4e12-a147-b41b8d65befc\" xlink:actuate=\"onRequest\" xlink:href=\"psysml:2c14e4ca-efb9-4e12-a147-b41b8d65befc\" xlink:show=\"new\" xlink:title=\"psysml:2c14e4ca-efb9-4e12-a147-b41b8d65befc\" xlink:type=\"simple\"><path d=\"M89.42,133.6 C79.35,142.68 69.37,154.11 64,167 C58.5,180.2 58.66,195.94 60.54,209.38 \" fill=\"none\" id=\"E8-&gt;E6\" style=\"stroke: #A80036; stroke-width: 1.0; stroke-dasharray: 7.0,7.0;\"/><polygon fill=\"#A80036\" points=\"61.9,217.4,63.517,209.0104,57.6018,210.0159,61.9,217.4\" style=\"stroke: #A80036; stroke-width: 1.0;\"/><text fill=\"#000000\" font-family=\"sans-serif\" font-size=\"13\" lengthAdjust=\"spacingAndGlyphs\" textLength=\"64\" x=\"65\" y=\"180.0669\">«depend»</text></a><!--MD5=[bfa3c8b0d15052fdf50ae9310b491027]\n",
       "link E8 to E7--><a href=\"psysml:2c14e4ca-efb9-4e12-a147-b41b8d65befc\" target=\"_top\" title=\"psysml:2c14e4ca-efb9-4e12-a147-b41b8d65befc\" xlink:actuate=\"onRequest\" xlink:href=\"psysml:2c14e4ca-efb9-4e12-a147-b41b8d65befc\" xlink:show=\"new\" xlink:title=\"psysml:2c14e4ca-efb9-4e12-a147-b41b8d65befc\" xlink:type=\"simple\"><path d=\"M129.28,133.5 C138.17,154.57 151.64,186.5 161.47,209.81 \" fill=\"none\" id=\"E8-&gt;E7\" style=\"stroke: #A80036; stroke-width: 1.0; stroke-dasharray: 7.0,7.0;\"/><polygon fill=\"#A80036\" points=\"164.66,217.35,164.3241,208.8126,158.7933,211.1385,164.66,217.35\" style=\"stroke: #A80036; stroke-width: 1.0;\"/><text fill=\"#000000\" font-family=\"sans-serif\" font-size=\"13\" lengthAdjust=\"spacingAndGlyphs\" textLength=\"64\" x=\"151\" y=\"180.0669\">«depend»</text></a><!--MD5=[501bbe579f49eb8a0ff12459d2d98347]\n",
       "@startuml\r\n",
       "skinparam wrapWidth 300\r\n",
       "hide circle\r\n",
       "\r\n",
       "package \"DependencyTest\" as E1  [[psysml:cce2acdd-5299-4277-a359-760a7748f1a5 ]]  {\r\n",
       "package \"System\" as E2  [[psysml:fe0450d0-807d-48bf-914f-f99eea0aac67 ]]  {\r\n",
       "package \"Application Layer\" as E3  [[psysml:b4c6803f-b500-4ed2-a89b-7b27b2a9486d ]]  {\r\n",
       "}\r\n",
       "package \"Service Layer\" as E4  [[psysml:66b88940-ae34-45ae-8eaf-0df380551b61 ]]  {\r\n",
       "}\r\n",
       "package \"Data Layer\" as E5  [[psysml:2f9cfad3-e6e2-4672-a52e-eac3ac1cc3fa ]]  {\r\n",
       "}\r\n",
       "}\r\n",
       "comp usage \"x\" as E6  <<(T,blue)attribute>> [[psysml:627607da-451a-45ac-bf2e-8d18d85231b1 ]] {\r\n",
       "}\r\n",
       "comp usage \"y\" as E7  <<(T,blue)attribute>> [[psysml:b8e81d8b-4779-47a3-b21f-b5cec6a6f06b ]] {\r\n",
       "}\r\n",
       "comp usage \"z\" as E8  <<(T,blue)attribute>> [[psysml:ff5b6b09-567c-4f7f-ac5d-5252b0115c49 ]] {\r\n",
       "}\r\n",
       "E3 ..>> E4 [[psysml:dea4bf7d-7df0-4a98-b0a8-ad3094fe796e ]] : <<depend>>\r\n",
       "E4 ..>> E5 [[psysml:6c12c767-a343-4222-b71b-448a215deadc ]] : <<depend>>\r\n",
       "E8 ..>> E6 [[psysml:2c14e4ca-efb9-4e12-a147-b41b8d65befc ]] : <<depend>>\r\n",
       "E8 ..>> E7 [[psysml:2c14e4ca-efb9-4e12-a147-b41b8d65befc ]] : <<depend>>\r\n",
       "}\r\n",
       "@enduml\r\n",
       "\n",
       "PlantUML version 1.2020.13(Sat Jun 13 12:26:38 UTC 2020)\n",
       "(EPL source distribution)\n",
       "Java Runtime: OpenJDK Runtime Environment\n",
       "JVM: OpenJDK 64-Bit Server VM\n",
       "Default Encoding: UTF-8\n",
       "Language: en\n",
       "Country: null\n",
       "--></g></svg>"
      ]
     },
     "execution_count": 28,
     "metadata": {},
     "output_type": "execute_result"
    }
   ],
   "source": [
    "%viz --style=\"STDCOLOR\" --view=\"Sequence\" \"DependencyTest\""
   ]
  },
  {
   "cell_type": "code",
   "execution_count": 29,
   "id": "3705d837",
   "metadata": {
    "execution": {
     "iopub.execute_input": "2021-05-28T10:49:38.453136Z",
     "iopub.status.busy": "2021-05-28T10:49:38.452604Z",
     "iopub.status.idle": "2021-05-28T10:49:38.486300Z",
     "shell.execute_reply": "2021-05-28T10:49:38.484695Z"
    }
   },
   "outputs": [
    {
     "data": {
      "image/svg+xml": [
       "<?xml version=\"1.0\" encoding=\"UTF-8\" standalone=\"no\"?><svg xmlns=\"http://www.w3.org/2000/svg\" xmlns:xlink=\"http://www.w3.org/1999/xlink\" contentScriptType=\"application/ecmascript\" contentStyleType=\"text/css\" height=\"449px\" preserveAspectRatio=\"none\" style=\"width:489px;height:449px;\" version=\"1.1\" viewBox=\"0 0 489 449\" width=\"489px\" zoomAndPan=\"magnify\"><defs><filter height=\"300%\" id=\"f1dj7kvp44czk6\" width=\"300%\" x=\"-1\" y=\"-1\"><feGaussianBlur result=\"blurOut\" stdDeviation=\"2.0\"/><feColorMatrix in=\"blurOut\" result=\"blurOut2\" type=\"matrix\" values=\"0 0 0 0 0 0 0 0 0 0 0 0 0 0 0 0 0 0 .4 0\"/><feOffset dx=\"4.0\" dy=\"4.0\" in=\"blurOut2\" result=\"blurOut3\"/><feBlend in=\"SourceGraphic\" in2=\"blurOut3\" mode=\"normal\"/></filter></defs><g><!--MD5=[fbc87193dbaf4d95561dea2c320d4a47]\n",
       "cluster E1--><a href=\"psysml:cce2acdd-5299-4277-a359-760a7748f1a5\" target=\"_top\" title=\"psysml:cce2acdd-5299-4277-a359-760a7748f1a5\" xlink:actuate=\"onRequest\" xlink:href=\"psysml:cce2acdd-5299-4277-a359-760a7748f1a5\" xlink:show=\"new\" xlink:title=\"psysml:cce2acdd-5299-4277-a359-760a7748f1a5\" xlink:type=\"simple\"><polygon fill=\"#FFFFFF\" filter=\"url(#f1dj7kvp44czk6)\" points=\"16,6,156,6,163,28.2969,467,28.2969,467,437,16,437,16,6\" style=\"stroke: #000000; stroke-width: 1.5;\"/><line style=\"stroke: #000000; stroke-width: 1.5;\" x1=\"16\" x2=\"163\" y1=\"28.2969\" y2=\"28.2969\"/><text fill=\"#000000\" font-family=\"sans-serif\" font-size=\"14\" font-weight=\"bold\" lengthAdjust=\"spacingAndGlyphs\" textLength=\"134\" x=\"20\" y=\"20.9951\">DependencyTest</text></a><!--MD5=[e4f7fae6ed58524ba242bb0b0d3be6b7]\n",
       "cluster E2--><a href=\"psysml:fe0450d0-807d-48bf-914f-f99eea0aac67\" target=\"_top\" title=\"psysml:fe0450d0-807d-48bf-914f-f99eea0aac67\" xlink:actuate=\"onRequest\" xlink:href=\"psysml:fe0450d0-807d-48bf-914f-f99eea0aac67\" xlink:show=\"new\" xlink:title=\"psysml:fe0450d0-807d-48bf-914f-f99eea0aac67\" xlink:type=\"simple\"><polygon fill=\"#FFFFFF\" filter=\"url(#f1dj7kvp44czk6)\" points=\"255,49,319,49,326,71.2969,443,71.2969,443,413,255,413,255,49\" style=\"stroke: #000000; stroke-width: 1.5;\"/><line style=\"stroke: #000000; stroke-width: 1.5;\" x1=\"255\" x2=\"326\" y1=\"71.2969\" y2=\"71.2969\"/><text fill=\"#000000\" font-family=\"sans-serif\" font-size=\"14\" font-weight=\"bold\" lengthAdjust=\"spacingAndGlyphs\" textLength=\"58\" x=\"259\" y=\"63.9951\">System</text></a><!--MD5=[60a26617385b1d2d0262a64233df1f8d]\n",
       "class E6--><a href=\"psysml:627607da-451a-45ac-bf2e-8d18d85231b1\" target=\"_top\" title=\"psysml:627607da-451a-45ac-bf2e-8d18d85231b1\" xlink:actuate=\"onRequest\" xlink:href=\"psysml:627607da-451a-45ac-bf2e-8d18d85231b1\" xlink:show=\"new\" xlink:title=\"psysml:627607da-451a-45ac-bf2e-8d18d85231b1\" xlink:type=\"simple\"><rect fill=\"#FEFECE\" filter=\"url(#f1dj7kvp44czk6)\" height=\"45.9375\" id=\"E6\" rx=\"10\" ry=\"10\" style=\"stroke: #A80036; stroke-width: 1.5;\" width=\"71\" x=\"32.5\" y=\"217.5\"/><text fill=\"#000000\" font-family=\"sans-serif\" font-size=\"12\" font-style=\"italic\" lengthAdjust=\"spacingAndGlyphs\" textLength=\"69\" x=\"33.5\" y=\"233.6387\">«attribute»</text><text fill=\"#000000\" font-family=\"sans-serif\" font-size=\"12\" lengthAdjust=\"spacingAndGlyphs\" textLength=\"6\" x=\"65\" y=\"247.6074\">x</text><line style=\"stroke: #A80036; stroke-width: 1.5;\" x1=\"33.5\" x2=\"102.5\" y1=\"255.4375\" y2=\"255.4375\"/></a><!--MD5=[2156ba9850f5573cc1fc38a6a4b2f02b]\n",
       "class E7--><a href=\"psysml:b8e81d8b-4779-47a3-b21f-b5cec6a6f06b\" target=\"_top\" title=\"psysml:b8e81d8b-4779-47a3-b21f-b5cec6a6f06b\" xlink:actuate=\"onRequest\" xlink:href=\"psysml:b8e81d8b-4779-47a3-b21f-b5cec6a6f06b\" xlink:show=\"new\" xlink:title=\"psysml:b8e81d8b-4779-47a3-b21f-b5cec6a6f06b\" xlink:type=\"simple\"><rect fill=\"#FEFECE\" filter=\"url(#f1dj7kvp44czk6)\" height=\"45.9375\" id=\"E7\" rx=\"10\" ry=\"10\" style=\"stroke: #A80036; stroke-width: 1.5;\" width=\"71\" x=\"138.5\" y=\"217.5\"/><text fill=\"#000000\" font-family=\"sans-serif\" font-size=\"12\" font-style=\"italic\" lengthAdjust=\"spacingAndGlyphs\" textLength=\"69\" x=\"139.5\" y=\"233.6387\">«attribute»</text><text fill=\"#000000\" font-family=\"sans-serif\" font-size=\"12\" lengthAdjust=\"spacingAndGlyphs\" textLength=\"6\" x=\"171\" y=\"247.6074\">y</text><line style=\"stroke: #A80036; stroke-width: 1.5;\" x1=\"139.5\" x2=\"208.5\" y1=\"255.4375\" y2=\"255.4375\"/></a><!--MD5=[b9389687b975829384b498ac4b7476b2]\n",
       "class E8--><a href=\"psysml:ff5b6b09-567c-4f7f-ac5d-5252b0115c49\" target=\"_top\" title=\"psysml:ff5b6b09-567c-4f7f-ac5d-5252b0115c49\" xlink:actuate=\"onRequest\" xlink:href=\"psysml:ff5b6b09-567c-4f7f-ac5d-5252b0115c49\" xlink:show=\"new\" xlink:title=\"psysml:ff5b6b09-567c-4f7f-ac5d-5252b0115c49\" xlink:type=\"simple\"><rect fill=\"#FEFECE\" filter=\"url(#f1dj7kvp44czk6)\" height=\"45.9375\" id=\"E8\" rx=\"10\" ry=\"10\" style=\"stroke: #A80036; stroke-width: 1.5;\" width=\"71\" x=\"84.5\" y=\"87.5\"/><text fill=\"#000000\" font-family=\"sans-serif\" font-size=\"12\" font-style=\"italic\" lengthAdjust=\"spacingAndGlyphs\" textLength=\"69\" x=\"85.5\" y=\"103.6387\">«attribute»</text><text fill=\"#000000\" font-family=\"sans-serif\" font-size=\"12\" lengthAdjust=\"spacingAndGlyphs\" textLength=\"5\" x=\"117.5\" y=\"117.6074\">z</text><line style=\"stroke: #A80036; stroke-width: 1.5;\" x1=\"85.5\" x2=\"154.5\" y1=\"125.4375\" y2=\"125.4375\"/></a><a href=\"psysml:b4c6803f-b500-4ed2-a89b-7b27b2a9486d\" target=\"_top\" title=\"psysml:b4c6803f-b500-4ed2-a89b-7b27b2a9486d\" xlink:actuate=\"onRequest\" xlink:href=\"psysml:b4c6803f-b500-4ed2-a89b-7b27b2a9486d\" xlink:show=\"new\" xlink:title=\"psysml:b4c6803f-b500-4ed2-a89b-7b27b2a9486d\" xlink:type=\"simple\"><polygon fill=\"#FFFFFF\" filter=\"url(#f1dj7kvp44czk6)\" points=\"271,84,413,84,420,106.2969,427,106.2969,427,136.5938,271,136.5938,271,84\" style=\"stroke: #000000; stroke-width: 1.5;\"/><line style=\"stroke: #000000; stroke-width: 1.5;\" x1=\"271\" x2=\"420\" y1=\"106.2969\" y2=\"106.2969\"/><text fill=\"#000000\" font-family=\"sans-serif\" font-size=\"14\" font-weight=\"bold\" lengthAdjust=\"spacingAndGlyphs\" textLength=\"136\" x=\"275\" y=\"98.9951\">Application Layer</text></a><a href=\"psysml:66b88940-ae34-45ae-8eaf-0df380551b61\" target=\"_top\" title=\"psysml:66b88940-ae34-45ae-8eaf-0df380551b61\" xlink:actuate=\"onRequest\" xlink:href=\"psysml:66b88940-ae34-45ae-8eaf-0df380551b61\" xlink:show=\"new\" xlink:title=\"psysml:66b88940-ae34-45ae-8eaf-0df380551b61\" xlink:type=\"simple\"><polygon fill=\"#FFFFFF\" filter=\"url(#f1dj7kvp44czk6)\" points=\"285,214,399,214,406,236.2969,413,236.2969,413,266.5938,285,266.5938,285,214\" style=\"stroke: #000000; stroke-width: 1.5;\"/><line style=\"stroke: #000000; stroke-width: 1.5;\" x1=\"285\" x2=\"406\" y1=\"236.2969\" y2=\"236.2969\"/><text fill=\"#000000\" font-family=\"sans-serif\" font-size=\"14\" font-weight=\"bold\" lengthAdjust=\"spacingAndGlyphs\" textLength=\"108\" x=\"289\" y=\"228.9951\">Service Layer</text></a><a href=\"psysml:2f9cfad3-e6e2-4672-a52e-eac3ac1cc3fa\" target=\"_top\" title=\"psysml:2f9cfad3-e6e2-4672-a52e-eac3ac1cc3fa\" xlink:actuate=\"onRequest\" xlink:href=\"psysml:2f9cfad3-e6e2-4672-a52e-eac3ac1cc3fa\" xlink:show=\"new\" xlink:title=\"psysml:2f9cfad3-e6e2-4672-a52e-eac3ac1cc3fa\" xlink:type=\"simple\"><polygon fill=\"#FFFFFF\" filter=\"url(#f1dj7kvp44czk6)\" points=\"297,344,387,344,394,366.2969,401,366.2969,401,396.5938,297,396.5938,297,344\" style=\"stroke: #000000; stroke-width: 1.5;\"/><line style=\"stroke: #000000; stroke-width: 1.5;\" x1=\"297\" x2=\"394\" y1=\"366.2969\" y2=\"366.2969\"/><text fill=\"#000000\" font-family=\"sans-serif\" font-size=\"14\" font-weight=\"bold\" lengthAdjust=\"spacingAndGlyphs\" textLength=\"84\" x=\"301\" y=\"358.9951\">Data Layer</text></a><!--MD5=[af87c684e3b0d8be13c1a698a818ef1e]\n",
       "link E3 to E4--><a href=\"psysml:dea4bf7d-7df0-4a98-b0a8-ad3094fe796e\" target=\"_top\" title=\"psysml:dea4bf7d-7df0-4a98-b0a8-ad3094fe796e\" xlink:actuate=\"onRequest\" xlink:href=\"psysml:dea4bf7d-7df0-4a98-b0a8-ad3094fe796e\" xlink:show=\"new\" xlink:title=\"psysml:dea4bf7d-7df0-4a98-b0a8-ad3094fe796e\" xlink:type=\"simple\"><path d=\"M349,137.1 C349,156.8 349,184.22 349,205.73 \" fill=\"none\" id=\"E3-&gt;E4\" style=\"stroke: #A80036; stroke-width: 1.0; stroke-dasharray: 7.0,7.0;\"/><polygon fill=\"#A80036\" points=\"349,213.95,352,205.95,346,205.95,349,213.95\" style=\"stroke: #A80036; stroke-width: 1.0;\"/><text fill=\"#000000\" font-family=\"sans-serif\" font-size=\"13\" lengthAdjust=\"spacingAndGlyphs\" textLength=\"64\" x=\"350\" y=\"180.0669\">«depend»</text></a><!--MD5=[1b7591eae5389033d8d09a9d6721a717]\n",
       "link E4 to E5--><a href=\"psysml:6c12c767-a343-4222-b71b-448a215deadc\" target=\"_top\" title=\"psysml:6c12c767-a343-4222-b71b-448a215deadc\" xlink:actuate=\"onRequest\" xlink:href=\"psysml:6c12c767-a343-4222-b71b-448a215deadc\" xlink:show=\"new\" xlink:title=\"psysml:6c12c767-a343-4222-b71b-448a215deadc\" xlink:type=\"simple\"><path d=\"M349,267.1 C349,286.8 349,314.22 349,335.73 \" fill=\"none\" id=\"E4-&gt;E5\" style=\"stroke: #A80036; stroke-width: 1.0; stroke-dasharray: 7.0,7.0;\"/><polygon fill=\"#A80036\" points=\"349,343.95,352,335.95,346,335.95,349,343.95\" style=\"stroke: #A80036; stroke-width: 1.0;\"/><text fill=\"#000000\" font-family=\"sans-serif\" font-size=\"13\" lengthAdjust=\"spacingAndGlyphs\" textLength=\"64\" x=\"350\" y=\"310.0669\">«depend»</text></a><!--MD5=[c5e8897d989ce984f93528998a7150fe]\n",
       "link E8 to E6--><a href=\"psysml:2c14e4ca-efb9-4e12-a147-b41b8d65befc\" target=\"_top\" title=\"psysml:2c14e4ca-efb9-4e12-a147-b41b8d65befc\" xlink:actuate=\"onRequest\" xlink:href=\"psysml:2c14e4ca-efb9-4e12-a147-b41b8d65befc\" xlink:show=\"new\" xlink:title=\"psysml:2c14e4ca-efb9-4e12-a147-b41b8d65befc\" xlink:type=\"simple\"><path d=\"M89.42,133.6 C79.35,142.68 69.37,154.11 64,167 C58.5,180.2 58.66,195.94 60.54,209.38 \" fill=\"none\" id=\"E8-&gt;E6\" style=\"stroke: #A80036; stroke-width: 1.0; stroke-dasharray: 7.0,7.0;\"/><polygon fill=\"#A80036\" points=\"61.9,217.4,63.517,209.0104,57.6018,210.0159,61.9,217.4\" style=\"stroke: #A80036; stroke-width: 1.0;\"/><text fill=\"#000000\" font-family=\"sans-serif\" font-size=\"13\" lengthAdjust=\"spacingAndGlyphs\" textLength=\"64\" x=\"65\" y=\"180.0669\">«depend»</text></a><!--MD5=[bfa3c8b0d15052fdf50ae9310b491027]\n",
       "link E8 to E7--><a href=\"psysml:2c14e4ca-efb9-4e12-a147-b41b8d65befc\" target=\"_top\" title=\"psysml:2c14e4ca-efb9-4e12-a147-b41b8d65befc\" xlink:actuate=\"onRequest\" xlink:href=\"psysml:2c14e4ca-efb9-4e12-a147-b41b8d65befc\" xlink:show=\"new\" xlink:title=\"psysml:2c14e4ca-efb9-4e12-a147-b41b8d65befc\" xlink:type=\"simple\"><path d=\"M129.28,133.5 C138.17,154.57 151.64,186.5 161.47,209.81 \" fill=\"none\" id=\"E8-&gt;E7\" style=\"stroke: #A80036; stroke-width: 1.0; stroke-dasharray: 7.0,7.0;\"/><polygon fill=\"#A80036\" points=\"164.66,217.35,164.3241,208.8126,158.7933,211.1385,164.66,217.35\" style=\"stroke: #A80036; stroke-width: 1.0;\"/><text fill=\"#000000\" font-family=\"sans-serif\" font-size=\"13\" lengthAdjust=\"spacingAndGlyphs\" textLength=\"64\" x=\"151\" y=\"180.0669\">«depend»</text></a><!--MD5=[501bbe579f49eb8a0ff12459d2d98347]\n",
       "@startuml\r\n",
       "skinparam wrapWidth 300\r\n",
       "hide circle\r\n",
       "\r\n",
       "package \"DependencyTest\" as E1  [[psysml:cce2acdd-5299-4277-a359-760a7748f1a5 ]]  {\r\n",
       "package \"System\" as E2  [[psysml:fe0450d0-807d-48bf-914f-f99eea0aac67 ]]  {\r\n",
       "package \"Application Layer\" as E3  [[psysml:b4c6803f-b500-4ed2-a89b-7b27b2a9486d ]]  {\r\n",
       "}\r\n",
       "package \"Service Layer\" as E4  [[psysml:66b88940-ae34-45ae-8eaf-0df380551b61 ]]  {\r\n",
       "}\r\n",
       "package \"Data Layer\" as E5  [[psysml:2f9cfad3-e6e2-4672-a52e-eac3ac1cc3fa ]]  {\r\n",
       "}\r\n",
       "}\r\n",
       "comp usage \"x\" as E6  <<(T,blue)attribute>> [[psysml:627607da-451a-45ac-bf2e-8d18d85231b1 ]] {\r\n",
       "}\r\n",
       "comp usage \"y\" as E7  <<(T,blue)attribute>> [[psysml:b8e81d8b-4779-47a3-b21f-b5cec6a6f06b ]] {\r\n",
       "}\r\n",
       "comp usage \"z\" as E8  <<(T,blue)attribute>> [[psysml:ff5b6b09-567c-4f7f-ac5d-5252b0115c49 ]] {\r\n",
       "}\r\n",
       "E3 ..>> E4 [[psysml:dea4bf7d-7df0-4a98-b0a8-ad3094fe796e ]] : <<depend>>\r\n",
       "E4 ..>> E5 [[psysml:6c12c767-a343-4222-b71b-448a215deadc ]] : <<depend>>\r\n",
       "E8 ..>> E6 [[psysml:2c14e4ca-efb9-4e12-a147-b41b8d65befc ]] : <<depend>>\r\n",
       "E8 ..>> E7 [[psysml:2c14e4ca-efb9-4e12-a147-b41b8d65befc ]] : <<depend>>\r\n",
       "}\r\n",
       "@enduml\r\n",
       "\n",
       "PlantUML version 1.2020.13(Sat Jun 13 12:26:38 UTC 2020)\n",
       "(EPL source distribution)\n",
       "Java Runtime: OpenJDK Runtime Environment\n",
       "JVM: OpenJDK 64-Bit Server VM\n",
       "Default Encoding: UTF-8\n",
       "Language: en\n",
       "Country: null\n",
       "--></g></svg>"
      ]
     },
     "execution_count": 29,
     "metadata": {},
     "output_type": "execute_result"
    }
   ],
   "source": [
    "%viz --style=\"STDCOLOR\" --view=\"MIXED\" \"DependencyTest\""
   ]
  },
  {
   "cell_type": "code",
   "execution_count": 30,
   "id": "3e0c0f05",
   "metadata": {
    "execution": {
     "iopub.execute_input": "2021-05-28T10:49:38.538092Z",
     "iopub.status.busy": "2021-05-28T10:49:38.537177Z",
     "iopub.status.idle": "2021-05-28T10:49:38.588875Z",
     "shell.execute_reply": "2021-05-28T10:49:38.586211Z"
    }
   },
   "outputs": [
    {
     "data": {
      "image/svg+xml": [
       "<?xml version=\"1.0\" encoding=\"UTF-8\" standalone=\"no\"?><svg xmlns=\"http://www.w3.org/2000/svg\" xmlns:xlink=\"http://www.w3.org/1999/xlink\" contentScriptType=\"application/ecmascript\" contentStyleType=\"text/css\" height=\"449px\" preserveAspectRatio=\"none\" style=\"width:510px;height:449px;\" version=\"1.1\" viewBox=\"0 0 510 449\" width=\"510px\" zoomAndPan=\"magnify\"><defs><filter height=\"300%\" id=\"fwyj0bu6mbh7a\" width=\"300%\" x=\"-1\" y=\"-1\"><feGaussianBlur result=\"blurOut\" stdDeviation=\"2.0\"/><feColorMatrix in=\"blurOut\" result=\"blurOut2\" type=\"matrix\" values=\"0 0 0 0 0 0 0 0 0 0 0 0 0 0 0 0 0 0 .4 0\"/><feOffset dx=\"4.0\" dy=\"4.0\" in=\"blurOut2\" result=\"blurOut3\"/><feBlend in=\"SourceGraphic\" in2=\"blurOut3\" mode=\"normal\"/></filter></defs><g><!--MD5=[fbc87193dbaf4d95561dea2c320d4a47]\n",
       "cluster E1--><a href=\"psysml:cce2acdd-5299-4277-a359-760a7748f1a5\" target=\"_top\" title=\"psysml:cce2acdd-5299-4277-a359-760a7748f1a5\" xlink:actuate=\"onRequest\" xlink:href=\"psysml:cce2acdd-5299-4277-a359-760a7748f1a5\" xlink:show=\"new\" xlink:title=\"psysml:cce2acdd-5299-4277-a359-760a7748f1a5\" xlink:type=\"simple\"><polygon fill=\"#FFFFFF\" filter=\"url(#fwyj0bu6mbh7a)\" points=\"16,6,156,6,163,28.2969,488,28.2969,488,437,16,437,16,6\" style=\"stroke: #000000; stroke-width: 1.5;\"/><line style=\"stroke: #000000; stroke-width: 1.5;\" x1=\"16\" x2=\"163\" y1=\"28.2969\" y2=\"28.2969\"/><text fill=\"#000000\" font-family=\"sans-serif\" font-size=\"14\" font-weight=\"bold\" lengthAdjust=\"spacingAndGlyphs\" textLength=\"134\" x=\"20\" y=\"20.9951\">DependencyTest</text></a><!--MD5=[e4f7fae6ed58524ba242bb0b0d3be6b7]\n",
       "cluster E2--><a href=\"psysml:fe0450d0-807d-48bf-914f-f99eea0aac67\" target=\"_top\" title=\"psysml:fe0450d0-807d-48bf-914f-f99eea0aac67\" xlink:actuate=\"onRequest\" xlink:href=\"psysml:fe0450d0-807d-48bf-914f-f99eea0aac67\" xlink:show=\"new\" xlink:title=\"psysml:fe0450d0-807d-48bf-914f-f99eea0aac67\" xlink:type=\"simple\"><polygon fill=\"#FFFFFF\" filter=\"url(#fwyj0bu6mbh7a)\" points=\"276,49,340,49,347,71.2969,464,71.2969,464,413,276,413,276,49\" style=\"stroke: #000000; stroke-width: 1.5;\"/><line style=\"stroke: #000000; stroke-width: 1.5;\" x1=\"276\" x2=\"347\" y1=\"71.2969\" y2=\"71.2969\"/><text fill=\"#000000\" font-family=\"sans-serif\" font-size=\"14\" font-weight=\"bold\" lengthAdjust=\"spacingAndGlyphs\" textLength=\"58\" x=\"280\" y=\"63.9951\">System</text></a><!--MD5=[60a26617385b1d2d0262a64233df1f8d]\n",
       "class E6--><a href=\"psysml:627607da-451a-45ac-bf2e-8d18d85231b1\" target=\"_top\" title=\"psysml:627607da-451a-45ac-bf2e-8d18d85231b1\" xlink:actuate=\"onRequest\" xlink:href=\"psysml:627607da-451a-45ac-bf2e-8d18d85231b1\" xlink:show=\"new\" xlink:title=\"psysml:627607da-451a-45ac-bf2e-8d18d85231b1\" xlink:type=\"simple\"><rect fill=\"#FEFECE\" filter=\"url(#fwyj0bu6mbh7a)\" height=\"45.9375\" id=\"E6\" rx=\"10\" ry=\"10\" style=\"stroke: #A80036; stroke-width: 1.5;\" width=\"97\" x=\"31.5\" y=\"217.5\"/><ellipse cx=\"46.5\" cy=\"236.4688\" fill=\"#FFA500\" rx=\"11\" ry=\"11\" style=\"stroke: #A80036; stroke-width: 1.0;\"/><path d=\"M42.375,238.3906 L42.375,230.5781 L44.8281,230.5781 L44.8281,239.0156 Q44.8281,239.9375 45.2969,240.4688 Q45.7813,241 46.6094,241 Q47.4531,241 47.9219,240.4688 Q48.3906,239.9375 48.3906,239.0156 L48.3906,230.5781 L50.8438,230.5781 L50.8438,238.3906 Q50.8438,240.9219 49.8438,242.0625 Q48.8438,243.2031 46.6094,243.2031 Q44.3906,243.2031 43.375,242.0625 Q42.375,240.9219 42.375,238.3906 Z \"/><text fill=\"#000000\" font-family=\"sans-serif\" font-size=\"12\" font-style=\"italic\" lengthAdjust=\"spacingAndGlyphs\" textLength=\"69\" x=\"58.5\" y=\"233.6387\">«attribute»</text><text fill=\"#000000\" font-family=\"sans-serif\" font-size=\"12\" lengthAdjust=\"spacingAndGlyphs\" textLength=\"6\" x=\"90\" y=\"247.6074\">x</text><line style=\"stroke: #A80036; stroke-width: 1.5;\" x1=\"32.5\" x2=\"127.5\" y1=\"255.4375\" y2=\"255.4375\"/></a><!--MD5=[2156ba9850f5573cc1fc38a6a4b2f02b]\n",
       "class E7--><a href=\"psysml:b8e81d8b-4779-47a3-b21f-b5cec6a6f06b\" target=\"_top\" title=\"psysml:b8e81d8b-4779-47a3-b21f-b5cec6a6f06b\" xlink:actuate=\"onRequest\" xlink:href=\"psysml:b8e81d8b-4779-47a3-b21f-b5cec6a6f06b\" xlink:show=\"new\" xlink:title=\"psysml:b8e81d8b-4779-47a3-b21f-b5cec6a6f06b\" xlink:type=\"simple\"><rect fill=\"#FEFECE\" filter=\"url(#fwyj0bu6mbh7a)\" height=\"45.9375\" id=\"E7\" rx=\"10\" ry=\"10\" style=\"stroke: #A80036; stroke-width: 1.5;\" width=\"97\" x=\"163.5\" y=\"217.5\"/><ellipse cx=\"178.5\" cy=\"236.4688\" fill=\"#FFA500\" rx=\"11\" ry=\"11\" style=\"stroke: #A80036; stroke-width: 1.0;\"/><path d=\"M174.375,238.3906 L174.375,230.5781 L176.8281,230.5781 L176.8281,239.0156 Q176.8281,239.9375 177.2969,240.4688 Q177.7813,241 178.6094,241 Q179.4531,241 179.9219,240.4688 Q180.3906,239.9375 180.3906,239.0156 L180.3906,230.5781 L182.8438,230.5781 L182.8438,238.3906 Q182.8438,240.9219 181.8438,242.0625 Q180.8438,243.2031 178.6094,243.2031 Q176.3906,243.2031 175.375,242.0625 Q174.375,240.9219 174.375,238.3906 Z \"/><text fill=\"#000000\" font-family=\"sans-serif\" font-size=\"12\" font-style=\"italic\" lengthAdjust=\"spacingAndGlyphs\" textLength=\"69\" x=\"190.5\" y=\"233.6387\">«attribute»</text><text fill=\"#000000\" font-family=\"sans-serif\" font-size=\"12\" lengthAdjust=\"spacingAndGlyphs\" textLength=\"6\" x=\"222\" y=\"247.6074\">y</text><line style=\"stroke: #A80036; stroke-width: 1.5;\" x1=\"164.5\" x2=\"259.5\" y1=\"255.4375\" y2=\"255.4375\"/></a><!--MD5=[b9389687b975829384b498ac4b7476b2]\n",
       "class E8--><a href=\"psysml:ff5b6b09-567c-4f7f-ac5d-5252b0115c49\" target=\"_top\" title=\"psysml:ff5b6b09-567c-4f7f-ac5d-5252b0115c49\" xlink:actuate=\"onRequest\" xlink:href=\"psysml:ff5b6b09-567c-4f7f-ac5d-5252b0115c49\" xlink:show=\"new\" xlink:title=\"psysml:ff5b6b09-567c-4f7f-ac5d-5252b0115c49\" xlink:type=\"simple\"><rect fill=\"#FEFECE\" filter=\"url(#fwyj0bu6mbh7a)\" height=\"45.9375\" id=\"E8\" rx=\"10\" ry=\"10\" style=\"stroke: #A80036; stroke-width: 1.5;\" width=\"97\" x=\"84.5\" y=\"87.5\"/><ellipse cx=\"99.5\" cy=\"106.4688\" fill=\"#FFA500\" rx=\"11\" ry=\"11\" style=\"stroke: #A80036; stroke-width: 1.0;\"/><path d=\"M95.375,108.3906 L95.375,100.5781 L97.8281,100.5781 L97.8281,109.0156 Q97.8281,109.9375 98.2969,110.4688 Q98.7813,111 99.6094,111 Q100.4531,111 100.9219,110.4688 Q101.3906,109.9375 101.3906,109.0156 L101.3906,100.5781 L103.8438,100.5781 L103.8438,108.3906 Q103.8438,110.9219 102.8438,112.0625 Q101.8438,113.2031 99.6094,113.2031 Q97.3906,113.2031 96.375,112.0625 Q95.375,110.9219 95.375,108.3906 Z \"/><text fill=\"#000000\" font-family=\"sans-serif\" font-size=\"12\" font-style=\"italic\" lengthAdjust=\"spacingAndGlyphs\" textLength=\"69\" x=\"111.5\" y=\"103.6387\">«attribute»</text><text fill=\"#000000\" font-family=\"sans-serif\" font-size=\"12\" lengthAdjust=\"spacingAndGlyphs\" textLength=\"5\" x=\"143.5\" y=\"117.6074\">z</text><line style=\"stroke: #A80036; stroke-width: 1.5;\" x1=\"85.5\" x2=\"180.5\" y1=\"125.4375\" y2=\"125.4375\"/></a><a href=\"psysml:b4c6803f-b500-4ed2-a89b-7b27b2a9486d\" target=\"_top\" title=\"psysml:b4c6803f-b500-4ed2-a89b-7b27b2a9486d\" xlink:actuate=\"onRequest\" xlink:href=\"psysml:b4c6803f-b500-4ed2-a89b-7b27b2a9486d\" xlink:show=\"new\" xlink:title=\"psysml:b4c6803f-b500-4ed2-a89b-7b27b2a9486d\" xlink:type=\"simple\"><polygon fill=\"#FFFFFF\" filter=\"url(#fwyj0bu6mbh7a)\" points=\"292,84,434,84,441,106.2969,448,106.2969,448,136.5938,292,136.5938,292,84\" style=\"stroke: #000000; stroke-width: 1.5;\"/><line style=\"stroke: #000000; stroke-width: 1.5;\" x1=\"292\" x2=\"441\" y1=\"106.2969\" y2=\"106.2969\"/><text fill=\"#000000\" font-family=\"sans-serif\" font-size=\"14\" font-weight=\"bold\" lengthAdjust=\"spacingAndGlyphs\" textLength=\"136\" x=\"296\" y=\"98.9951\">Application Layer</text></a><a href=\"psysml:66b88940-ae34-45ae-8eaf-0df380551b61\" target=\"_top\" title=\"psysml:66b88940-ae34-45ae-8eaf-0df380551b61\" xlink:actuate=\"onRequest\" xlink:href=\"psysml:66b88940-ae34-45ae-8eaf-0df380551b61\" xlink:show=\"new\" xlink:title=\"psysml:66b88940-ae34-45ae-8eaf-0df380551b61\" xlink:type=\"simple\"><polygon fill=\"#FFFFFF\" filter=\"url(#fwyj0bu6mbh7a)\" points=\"306,214,420,214,427,236.2969,434,236.2969,434,266.5938,306,266.5938,306,214\" style=\"stroke: #000000; stroke-width: 1.5;\"/><line style=\"stroke: #000000; stroke-width: 1.5;\" x1=\"306\" x2=\"427\" y1=\"236.2969\" y2=\"236.2969\"/><text fill=\"#000000\" font-family=\"sans-serif\" font-size=\"14\" font-weight=\"bold\" lengthAdjust=\"spacingAndGlyphs\" textLength=\"108\" x=\"310\" y=\"228.9951\">Service Layer</text></a><a href=\"psysml:2f9cfad3-e6e2-4672-a52e-eac3ac1cc3fa\" target=\"_top\" title=\"psysml:2f9cfad3-e6e2-4672-a52e-eac3ac1cc3fa\" xlink:actuate=\"onRequest\" xlink:href=\"psysml:2f9cfad3-e6e2-4672-a52e-eac3ac1cc3fa\" xlink:show=\"new\" xlink:title=\"psysml:2f9cfad3-e6e2-4672-a52e-eac3ac1cc3fa\" xlink:type=\"simple\"><polygon fill=\"#FFFFFF\" filter=\"url(#fwyj0bu6mbh7a)\" points=\"318,344,408,344,415,366.2969,422,366.2969,422,396.5938,318,396.5938,318,344\" style=\"stroke: #000000; stroke-width: 1.5;\"/><line style=\"stroke: #000000; stroke-width: 1.5;\" x1=\"318\" x2=\"415\" y1=\"366.2969\" y2=\"366.2969\"/><text fill=\"#000000\" font-family=\"sans-serif\" font-size=\"14\" font-weight=\"bold\" lengthAdjust=\"spacingAndGlyphs\" textLength=\"84\" x=\"322\" y=\"358.9951\">Data Layer</text></a><!--MD5=[af87c684e3b0d8be13c1a698a818ef1e]\n",
       "link E3 to E4--><a href=\"psysml:dea4bf7d-7df0-4a98-b0a8-ad3094fe796e\" target=\"_top\" title=\"psysml:dea4bf7d-7df0-4a98-b0a8-ad3094fe796e\" xlink:actuate=\"onRequest\" xlink:href=\"psysml:dea4bf7d-7df0-4a98-b0a8-ad3094fe796e\" xlink:show=\"new\" xlink:title=\"psysml:dea4bf7d-7df0-4a98-b0a8-ad3094fe796e\" xlink:type=\"simple\"><path d=\"M370,137.1 C370,156.8 370,184.22 370,205.73 \" fill=\"none\" id=\"E3-&gt;E4\" style=\"stroke: #A80036; stroke-width: 1.0; stroke-dasharray: 7.0,7.0;\"/><polygon fill=\"#A80036\" points=\"370,213.95,373,205.95,367,205.95,370,213.95\" style=\"stroke: #A80036; stroke-width: 1.0;\"/><text fill=\"#000000\" font-family=\"sans-serif\" font-size=\"13\" lengthAdjust=\"spacingAndGlyphs\" textLength=\"64\" x=\"371\" y=\"180.0669\">«depend»</text></a><!--MD5=[1b7591eae5389033d8d09a9d6721a717]\n",
       "link E4 to E5--><a href=\"psysml:6c12c767-a343-4222-b71b-448a215deadc\" target=\"_top\" title=\"psysml:6c12c767-a343-4222-b71b-448a215deadc\" xlink:actuate=\"onRequest\" xlink:href=\"psysml:6c12c767-a343-4222-b71b-448a215deadc\" xlink:show=\"new\" xlink:title=\"psysml:6c12c767-a343-4222-b71b-448a215deadc\" xlink:type=\"simple\"><path d=\"M370,267.1 C370,286.8 370,314.22 370,335.73 \" fill=\"none\" id=\"E4-&gt;E5\" style=\"stroke: #A80036; stroke-width: 1.0; stroke-dasharray: 7.0,7.0;\"/><polygon fill=\"#A80036\" points=\"370,343.95,373,335.95,367,335.95,370,343.95\" style=\"stroke: #A80036; stroke-width: 1.0;\"/><text fill=\"#000000\" font-family=\"sans-serif\" font-size=\"13\" lengthAdjust=\"spacingAndGlyphs\" textLength=\"64\" x=\"371\" y=\"310.0669\">«depend»</text></a><!--MD5=[c5e8897d989ce984f93528998a7150fe]\n",
       "link E8 to E6--><a href=\"psysml:2c14e4ca-efb9-4e12-a147-b41b8d65befc\" target=\"_top\" title=\"psysml:2c14e4ca-efb9-4e12-a147-b41b8d65befc\" xlink:actuate=\"onRequest\" xlink:href=\"psysml:2c14e4ca-efb9-4e12-a147-b41b8d65befc\" xlink:show=\"new\" xlink:title=\"psysml:2c14e4ca-efb9-4e12-a147-b41b8d65befc\" xlink:type=\"simple\"><path d=\"M106.44,133.76 C97.3,143.01 88.09,154.51 83,167 C77.6,180.23 76.4,195.98 76.73,209.41 \" fill=\"none\" id=\"E8-&gt;E6\" style=\"stroke: #A80036; stroke-width: 1.0; stroke-dasharray: 7.0,7.0;\"/><polygon fill=\"#A80036\" points=\"77.12,217.43,79.7306,209.2946,73.7375,209.584,77.12,217.43\" style=\"stroke: #A80036; stroke-width: 1.0;\"/><text fill=\"#000000\" font-family=\"sans-serif\" font-size=\"13\" lengthAdjust=\"spacingAndGlyphs\" textLength=\"64\" x=\"84\" y=\"180.0669\">«depend»</text></a><!--MD5=[bfa3c8b0d15052fdf50ae9310b491027]\n",
       "link E8 to E7--><a href=\"psysml:2c14e4ca-efb9-4e12-a147-b41b8d65befc\" target=\"_top\" title=\"psysml:2c14e4ca-efb9-4e12-a147-b41b8d65befc\" xlink:actuate=\"onRequest\" xlink:href=\"psysml:2c14e4ca-efb9-4e12-a147-b41b8d65befc\" xlink:show=\"new\" xlink:title=\"psysml:2c14e4ca-efb9-4e12-a147-b41b8d65befc\" xlink:type=\"simple\"><path d=\"M146.58,133.5 C159.69,154.75 179.63,187.05 194.05,210.41 \" fill=\"none\" id=\"E8-&gt;E7\" style=\"stroke: #A80036; stroke-width: 1.0; stroke-dasharray: 7.0,7.0;\"/><polygon fill=\"#A80036\" points=\"198.33,217.35,196.6785,208.9671,191.5737,212.1201,198.33,217.35\" style=\"stroke: #A80036; stroke-width: 1.0;\"/><text fill=\"#000000\" font-family=\"sans-serif\" font-size=\"13\" lengthAdjust=\"spacingAndGlyphs\" textLength=\"64\" x=\"178\" y=\"180.0669\">«depend»</text></a><!--MD5=[71f45a0c1e5090cc2b365f8e0a8b57b7]\n",
       "@startuml\r\n",
       " \r\n",
       "package \"DependencyTest\" as E1  [[psysml:cce2acdd-5299-4277-a359-760a7748f1a5 ]]  {\r\n",
       "package \"System\" as E2  [[psysml:fe0450d0-807d-48bf-914f-f99eea0aac67 ]]  {\r\n",
       "package \"Application Layer\" as E3  [[psysml:b4c6803f-b500-4ed2-a89b-7b27b2a9486d ]]  {\r\n",
       "}\r\n",
       "package \"Service Layer\" as E4  [[psysml:66b88940-ae34-45ae-8eaf-0df380551b61 ]]  {\r\n",
       "}\r\n",
       "package \"Data Layer\" as E5  [[psysml:2f9cfad3-e6e2-4672-a52e-eac3ac1cc3fa ]]  {\r\n",
       "}\r\n",
       "}\r\n",
       "comp usage \"x\" as E6  <<(U,orange)attribute>> [[psysml:627607da-451a-45ac-bf2e-8d18d85231b1 ]] {\r\n",
       "}\r\n",
       "comp usage \"y\" as E7  <<(U,orange)attribute>> [[psysml:b8e81d8b-4779-47a3-b21f-b5cec6a6f06b ]] {\r\n",
       "}\r\n",
       "comp usage \"z\" as E8  <<(U,orange)attribute>> [[psysml:ff5b6b09-567c-4f7f-ac5d-5252b0115c49 ]] {\r\n",
       "}\r\n",
       "E3 ..>> E4 [[psysml:dea4bf7d-7df0-4a98-b0a8-ad3094fe796e ]] : <<depend>>\r\n",
       "E4 ..>> E5 [[psysml:6c12c767-a343-4222-b71b-448a215deadc ]] : <<depend>>\r\n",
       "E8 ..>> E6 [[psysml:2c14e4ca-efb9-4e12-a147-b41b8d65befc ]] : <<depend>>\r\n",
       "E8 ..>> E7 [[psysml:2c14e4ca-efb9-4e12-a147-b41b8d65befc ]] : <<depend>>\r\n",
       "}\r\n",
       "@enduml\r\n",
       "\n",
       "PlantUML version 1.2020.13(Sat Jun 13 12:26:38 UTC 2020)\n",
       "(EPL source distribution)\n",
       "Java Runtime: OpenJDK Runtime Environment\n",
       "JVM: OpenJDK 64-Bit Server VM\n",
       "Default Encoding: UTF-8\n",
       "Language: en\n",
       "Country: null\n",
       "--></g></svg>"
      ]
     },
     "execution_count": 30,
     "metadata": {},
     "output_type": "execute_result"
    }
   ],
   "source": [
    "%viz --style=\"PLANTUML\" --view=\"Default\" \"DependencyTest\""
   ]
  },
  {
   "cell_type": "code",
   "execution_count": 31,
   "id": "7796b567",
   "metadata": {
    "execution": {
     "iopub.execute_input": "2021-05-28T10:49:38.639563Z",
     "iopub.status.busy": "2021-05-28T10:49:38.639083Z",
     "iopub.status.idle": "2021-05-28T10:49:38.680143Z",
     "shell.execute_reply": "2021-05-28T10:49:38.679396Z"
    }
   },
   "outputs": [
    {
     "data": {
      "image/svg+xml": [
       "<?xml version=\"1.0\" encoding=\"UTF-8\" standalone=\"no\"?><svg xmlns=\"http://www.w3.org/2000/svg\" xmlns:xlink=\"http://www.w3.org/1999/xlink\" contentScriptType=\"application/ecmascript\" contentStyleType=\"text/css\" height=\"449px\" preserveAspectRatio=\"none\" style=\"width:510px;height:449px;\" version=\"1.1\" viewBox=\"0 0 510 449\" width=\"510px\" zoomAndPan=\"magnify\"><defs><filter height=\"300%\" id=\"fwyj0bu6mbh7a\" width=\"300%\" x=\"-1\" y=\"-1\"><feGaussianBlur result=\"blurOut\" stdDeviation=\"2.0\"/><feColorMatrix in=\"blurOut\" result=\"blurOut2\" type=\"matrix\" values=\"0 0 0 0 0 0 0 0 0 0 0 0 0 0 0 0 0 0 .4 0\"/><feOffset dx=\"4.0\" dy=\"4.0\" in=\"blurOut2\" result=\"blurOut3\"/><feBlend in=\"SourceGraphic\" in2=\"blurOut3\" mode=\"normal\"/></filter></defs><g><!--MD5=[fbc87193dbaf4d95561dea2c320d4a47]\n",
       "cluster E1--><a href=\"psysml:cce2acdd-5299-4277-a359-760a7748f1a5\" target=\"_top\" title=\"psysml:cce2acdd-5299-4277-a359-760a7748f1a5\" xlink:actuate=\"onRequest\" xlink:href=\"psysml:cce2acdd-5299-4277-a359-760a7748f1a5\" xlink:show=\"new\" xlink:title=\"psysml:cce2acdd-5299-4277-a359-760a7748f1a5\" xlink:type=\"simple\"><polygon fill=\"#FFFFFF\" filter=\"url(#fwyj0bu6mbh7a)\" points=\"16,6,156,6,163,28.2969,488,28.2969,488,437,16,437,16,6\" style=\"stroke: #000000; stroke-width: 1.5;\"/><line style=\"stroke: #000000; stroke-width: 1.5;\" x1=\"16\" x2=\"163\" y1=\"28.2969\" y2=\"28.2969\"/><text fill=\"#000000\" font-family=\"sans-serif\" font-size=\"14\" font-weight=\"bold\" lengthAdjust=\"spacingAndGlyphs\" textLength=\"134\" x=\"20\" y=\"20.9951\">DependencyTest</text></a><!--MD5=[e4f7fae6ed58524ba242bb0b0d3be6b7]\n",
       "cluster E2--><a href=\"psysml:fe0450d0-807d-48bf-914f-f99eea0aac67\" target=\"_top\" title=\"psysml:fe0450d0-807d-48bf-914f-f99eea0aac67\" xlink:actuate=\"onRequest\" xlink:href=\"psysml:fe0450d0-807d-48bf-914f-f99eea0aac67\" xlink:show=\"new\" xlink:title=\"psysml:fe0450d0-807d-48bf-914f-f99eea0aac67\" xlink:type=\"simple\"><polygon fill=\"#FFFFFF\" filter=\"url(#fwyj0bu6mbh7a)\" points=\"276,49,340,49,347,71.2969,464,71.2969,464,413,276,413,276,49\" style=\"stroke: #000000; stroke-width: 1.5;\"/><line style=\"stroke: #000000; stroke-width: 1.5;\" x1=\"276\" x2=\"347\" y1=\"71.2969\" y2=\"71.2969\"/><text fill=\"#000000\" font-family=\"sans-serif\" font-size=\"14\" font-weight=\"bold\" lengthAdjust=\"spacingAndGlyphs\" textLength=\"58\" x=\"280\" y=\"63.9951\">System</text></a><!--MD5=[60a26617385b1d2d0262a64233df1f8d]\n",
       "class E6--><a href=\"psysml:627607da-451a-45ac-bf2e-8d18d85231b1\" target=\"_top\" title=\"psysml:627607da-451a-45ac-bf2e-8d18d85231b1\" xlink:actuate=\"onRequest\" xlink:href=\"psysml:627607da-451a-45ac-bf2e-8d18d85231b1\" xlink:show=\"new\" xlink:title=\"psysml:627607da-451a-45ac-bf2e-8d18d85231b1\" xlink:type=\"simple\"><rect fill=\"#FEFECE\" filter=\"url(#fwyj0bu6mbh7a)\" height=\"45.9375\" id=\"E6\" rx=\"10\" ry=\"10\" style=\"stroke: #A80036; stroke-width: 1.5;\" width=\"97\" x=\"31.5\" y=\"217.5\"/><ellipse cx=\"46.5\" cy=\"236.4688\" fill=\"#FFA500\" rx=\"11\" ry=\"11\" style=\"stroke: #A80036; stroke-width: 1.0;\"/><path d=\"M42.375,238.3906 L42.375,230.5781 L44.8281,230.5781 L44.8281,239.0156 Q44.8281,239.9375 45.2969,240.4688 Q45.7813,241 46.6094,241 Q47.4531,241 47.9219,240.4688 Q48.3906,239.9375 48.3906,239.0156 L48.3906,230.5781 L50.8438,230.5781 L50.8438,238.3906 Q50.8438,240.9219 49.8438,242.0625 Q48.8438,243.2031 46.6094,243.2031 Q44.3906,243.2031 43.375,242.0625 Q42.375,240.9219 42.375,238.3906 Z \"/><text fill=\"#000000\" font-family=\"sans-serif\" font-size=\"12\" font-style=\"italic\" lengthAdjust=\"spacingAndGlyphs\" textLength=\"69\" x=\"58.5\" y=\"233.6387\">«attribute»</text><text fill=\"#000000\" font-family=\"sans-serif\" font-size=\"12\" lengthAdjust=\"spacingAndGlyphs\" textLength=\"6\" x=\"90\" y=\"247.6074\">x</text><line style=\"stroke: #A80036; stroke-width: 1.5;\" x1=\"32.5\" x2=\"127.5\" y1=\"255.4375\" y2=\"255.4375\"/></a><!--MD5=[2156ba9850f5573cc1fc38a6a4b2f02b]\n",
       "class E7--><a href=\"psysml:b8e81d8b-4779-47a3-b21f-b5cec6a6f06b\" target=\"_top\" title=\"psysml:b8e81d8b-4779-47a3-b21f-b5cec6a6f06b\" xlink:actuate=\"onRequest\" xlink:href=\"psysml:b8e81d8b-4779-47a3-b21f-b5cec6a6f06b\" xlink:show=\"new\" xlink:title=\"psysml:b8e81d8b-4779-47a3-b21f-b5cec6a6f06b\" xlink:type=\"simple\"><rect fill=\"#FEFECE\" filter=\"url(#fwyj0bu6mbh7a)\" height=\"45.9375\" id=\"E7\" rx=\"10\" ry=\"10\" style=\"stroke: #A80036; stroke-width: 1.5;\" width=\"97\" x=\"163.5\" y=\"217.5\"/><ellipse cx=\"178.5\" cy=\"236.4688\" fill=\"#FFA500\" rx=\"11\" ry=\"11\" style=\"stroke: #A80036; stroke-width: 1.0;\"/><path d=\"M174.375,238.3906 L174.375,230.5781 L176.8281,230.5781 L176.8281,239.0156 Q176.8281,239.9375 177.2969,240.4688 Q177.7813,241 178.6094,241 Q179.4531,241 179.9219,240.4688 Q180.3906,239.9375 180.3906,239.0156 L180.3906,230.5781 L182.8438,230.5781 L182.8438,238.3906 Q182.8438,240.9219 181.8438,242.0625 Q180.8438,243.2031 178.6094,243.2031 Q176.3906,243.2031 175.375,242.0625 Q174.375,240.9219 174.375,238.3906 Z \"/><text fill=\"#000000\" font-family=\"sans-serif\" font-size=\"12\" font-style=\"italic\" lengthAdjust=\"spacingAndGlyphs\" textLength=\"69\" x=\"190.5\" y=\"233.6387\">«attribute»</text><text fill=\"#000000\" font-family=\"sans-serif\" font-size=\"12\" lengthAdjust=\"spacingAndGlyphs\" textLength=\"6\" x=\"222\" y=\"247.6074\">y</text><line style=\"stroke: #A80036; stroke-width: 1.5;\" x1=\"164.5\" x2=\"259.5\" y1=\"255.4375\" y2=\"255.4375\"/></a><!--MD5=[b9389687b975829384b498ac4b7476b2]\n",
       "class E8--><a href=\"psysml:ff5b6b09-567c-4f7f-ac5d-5252b0115c49\" target=\"_top\" title=\"psysml:ff5b6b09-567c-4f7f-ac5d-5252b0115c49\" xlink:actuate=\"onRequest\" xlink:href=\"psysml:ff5b6b09-567c-4f7f-ac5d-5252b0115c49\" xlink:show=\"new\" xlink:title=\"psysml:ff5b6b09-567c-4f7f-ac5d-5252b0115c49\" xlink:type=\"simple\"><rect fill=\"#FEFECE\" filter=\"url(#fwyj0bu6mbh7a)\" height=\"45.9375\" id=\"E8\" rx=\"10\" ry=\"10\" style=\"stroke: #A80036; stroke-width: 1.5;\" width=\"97\" x=\"84.5\" y=\"87.5\"/><ellipse cx=\"99.5\" cy=\"106.4688\" fill=\"#FFA500\" rx=\"11\" ry=\"11\" style=\"stroke: #A80036; stroke-width: 1.0;\"/><path d=\"M95.375,108.3906 L95.375,100.5781 L97.8281,100.5781 L97.8281,109.0156 Q97.8281,109.9375 98.2969,110.4688 Q98.7813,111 99.6094,111 Q100.4531,111 100.9219,110.4688 Q101.3906,109.9375 101.3906,109.0156 L101.3906,100.5781 L103.8438,100.5781 L103.8438,108.3906 Q103.8438,110.9219 102.8438,112.0625 Q101.8438,113.2031 99.6094,113.2031 Q97.3906,113.2031 96.375,112.0625 Q95.375,110.9219 95.375,108.3906 Z \"/><text fill=\"#000000\" font-family=\"sans-serif\" font-size=\"12\" font-style=\"italic\" lengthAdjust=\"spacingAndGlyphs\" textLength=\"69\" x=\"111.5\" y=\"103.6387\">«attribute»</text><text fill=\"#000000\" font-family=\"sans-serif\" font-size=\"12\" lengthAdjust=\"spacingAndGlyphs\" textLength=\"5\" x=\"143.5\" y=\"117.6074\">z</text><line style=\"stroke: #A80036; stroke-width: 1.5;\" x1=\"85.5\" x2=\"180.5\" y1=\"125.4375\" y2=\"125.4375\"/></a><a href=\"psysml:b4c6803f-b500-4ed2-a89b-7b27b2a9486d\" target=\"_top\" title=\"psysml:b4c6803f-b500-4ed2-a89b-7b27b2a9486d\" xlink:actuate=\"onRequest\" xlink:href=\"psysml:b4c6803f-b500-4ed2-a89b-7b27b2a9486d\" xlink:show=\"new\" xlink:title=\"psysml:b4c6803f-b500-4ed2-a89b-7b27b2a9486d\" xlink:type=\"simple\"><polygon fill=\"#FFFFFF\" filter=\"url(#fwyj0bu6mbh7a)\" points=\"292,84,434,84,441,106.2969,448,106.2969,448,136.5938,292,136.5938,292,84\" style=\"stroke: #000000; stroke-width: 1.5;\"/><line style=\"stroke: #000000; stroke-width: 1.5;\" x1=\"292\" x2=\"441\" y1=\"106.2969\" y2=\"106.2969\"/><text fill=\"#000000\" font-family=\"sans-serif\" font-size=\"14\" font-weight=\"bold\" lengthAdjust=\"spacingAndGlyphs\" textLength=\"136\" x=\"296\" y=\"98.9951\">Application Layer</text></a><a href=\"psysml:66b88940-ae34-45ae-8eaf-0df380551b61\" target=\"_top\" title=\"psysml:66b88940-ae34-45ae-8eaf-0df380551b61\" xlink:actuate=\"onRequest\" xlink:href=\"psysml:66b88940-ae34-45ae-8eaf-0df380551b61\" xlink:show=\"new\" xlink:title=\"psysml:66b88940-ae34-45ae-8eaf-0df380551b61\" xlink:type=\"simple\"><polygon fill=\"#FFFFFF\" filter=\"url(#fwyj0bu6mbh7a)\" points=\"306,214,420,214,427,236.2969,434,236.2969,434,266.5938,306,266.5938,306,214\" style=\"stroke: #000000; stroke-width: 1.5;\"/><line style=\"stroke: #000000; stroke-width: 1.5;\" x1=\"306\" x2=\"427\" y1=\"236.2969\" y2=\"236.2969\"/><text fill=\"#000000\" font-family=\"sans-serif\" font-size=\"14\" font-weight=\"bold\" lengthAdjust=\"spacingAndGlyphs\" textLength=\"108\" x=\"310\" y=\"228.9951\">Service Layer</text></a><a href=\"psysml:2f9cfad3-e6e2-4672-a52e-eac3ac1cc3fa\" target=\"_top\" title=\"psysml:2f9cfad3-e6e2-4672-a52e-eac3ac1cc3fa\" xlink:actuate=\"onRequest\" xlink:href=\"psysml:2f9cfad3-e6e2-4672-a52e-eac3ac1cc3fa\" xlink:show=\"new\" xlink:title=\"psysml:2f9cfad3-e6e2-4672-a52e-eac3ac1cc3fa\" xlink:type=\"simple\"><polygon fill=\"#FFFFFF\" filter=\"url(#fwyj0bu6mbh7a)\" points=\"318,344,408,344,415,366.2969,422,366.2969,422,396.5938,318,396.5938,318,344\" style=\"stroke: #000000; stroke-width: 1.5;\"/><line style=\"stroke: #000000; stroke-width: 1.5;\" x1=\"318\" x2=\"415\" y1=\"366.2969\" y2=\"366.2969\"/><text fill=\"#000000\" font-family=\"sans-serif\" font-size=\"14\" font-weight=\"bold\" lengthAdjust=\"spacingAndGlyphs\" textLength=\"84\" x=\"322\" y=\"358.9951\">Data Layer</text></a><!--MD5=[af87c684e3b0d8be13c1a698a818ef1e]\n",
       "link E3 to E4--><a href=\"psysml:dea4bf7d-7df0-4a98-b0a8-ad3094fe796e\" target=\"_top\" title=\"psysml:dea4bf7d-7df0-4a98-b0a8-ad3094fe796e\" xlink:actuate=\"onRequest\" xlink:href=\"psysml:dea4bf7d-7df0-4a98-b0a8-ad3094fe796e\" xlink:show=\"new\" xlink:title=\"psysml:dea4bf7d-7df0-4a98-b0a8-ad3094fe796e\" xlink:type=\"simple\"><path d=\"M370,137.1 C370,156.8 370,184.22 370,205.73 \" fill=\"none\" id=\"E3-&gt;E4\" style=\"stroke: #A80036; stroke-width: 1.0; stroke-dasharray: 7.0,7.0;\"/><polygon fill=\"#A80036\" points=\"370,213.95,373,205.95,367,205.95,370,213.95\" style=\"stroke: #A80036; stroke-width: 1.0;\"/><text fill=\"#000000\" font-family=\"sans-serif\" font-size=\"13\" lengthAdjust=\"spacingAndGlyphs\" textLength=\"64\" x=\"371\" y=\"180.0669\">«depend»</text></a><!--MD5=[1b7591eae5389033d8d09a9d6721a717]\n",
       "link E4 to E5--><a href=\"psysml:6c12c767-a343-4222-b71b-448a215deadc\" target=\"_top\" title=\"psysml:6c12c767-a343-4222-b71b-448a215deadc\" xlink:actuate=\"onRequest\" xlink:href=\"psysml:6c12c767-a343-4222-b71b-448a215deadc\" xlink:show=\"new\" xlink:title=\"psysml:6c12c767-a343-4222-b71b-448a215deadc\" xlink:type=\"simple\"><path d=\"M370,267.1 C370,286.8 370,314.22 370,335.73 \" fill=\"none\" id=\"E4-&gt;E5\" style=\"stroke: #A80036; stroke-width: 1.0; stroke-dasharray: 7.0,7.0;\"/><polygon fill=\"#A80036\" points=\"370,343.95,373,335.95,367,335.95,370,343.95\" style=\"stroke: #A80036; stroke-width: 1.0;\"/><text fill=\"#000000\" font-family=\"sans-serif\" font-size=\"13\" lengthAdjust=\"spacingAndGlyphs\" textLength=\"64\" x=\"371\" y=\"310.0669\">«depend»</text></a><!--MD5=[c5e8897d989ce984f93528998a7150fe]\n",
       "link E8 to E6--><a href=\"psysml:2c14e4ca-efb9-4e12-a147-b41b8d65befc\" target=\"_top\" title=\"psysml:2c14e4ca-efb9-4e12-a147-b41b8d65befc\" xlink:actuate=\"onRequest\" xlink:href=\"psysml:2c14e4ca-efb9-4e12-a147-b41b8d65befc\" xlink:show=\"new\" xlink:title=\"psysml:2c14e4ca-efb9-4e12-a147-b41b8d65befc\" xlink:type=\"simple\"><path d=\"M106.44,133.76 C97.3,143.01 88.09,154.51 83,167 C77.6,180.23 76.4,195.98 76.73,209.41 \" fill=\"none\" id=\"E8-&gt;E6\" style=\"stroke: #A80036; stroke-width: 1.0; stroke-dasharray: 7.0,7.0;\"/><polygon fill=\"#A80036\" points=\"77.12,217.43,79.7306,209.2946,73.7375,209.584,77.12,217.43\" style=\"stroke: #A80036; stroke-width: 1.0;\"/><text fill=\"#000000\" font-family=\"sans-serif\" font-size=\"13\" lengthAdjust=\"spacingAndGlyphs\" textLength=\"64\" x=\"84\" y=\"180.0669\">«depend»</text></a><!--MD5=[bfa3c8b0d15052fdf50ae9310b491027]\n",
       "link E8 to E7--><a href=\"psysml:2c14e4ca-efb9-4e12-a147-b41b8d65befc\" target=\"_top\" title=\"psysml:2c14e4ca-efb9-4e12-a147-b41b8d65befc\" xlink:actuate=\"onRequest\" xlink:href=\"psysml:2c14e4ca-efb9-4e12-a147-b41b8d65befc\" xlink:show=\"new\" xlink:title=\"psysml:2c14e4ca-efb9-4e12-a147-b41b8d65befc\" xlink:type=\"simple\"><path d=\"M146.58,133.5 C159.69,154.75 179.63,187.05 194.05,210.41 \" fill=\"none\" id=\"E8-&gt;E7\" style=\"stroke: #A80036; stroke-width: 1.0; stroke-dasharray: 7.0,7.0;\"/><polygon fill=\"#A80036\" points=\"198.33,217.35,196.6785,208.9671,191.5737,212.1201,198.33,217.35\" style=\"stroke: #A80036; stroke-width: 1.0;\"/><text fill=\"#000000\" font-family=\"sans-serif\" font-size=\"13\" lengthAdjust=\"spacingAndGlyphs\" textLength=\"64\" x=\"178\" y=\"180.0669\">«depend»</text></a><!--MD5=[71f45a0c1e5090cc2b365f8e0a8b57b7]\n",
       "@startuml\r\n",
       " \r\n",
       "package \"DependencyTest\" as E1  [[psysml:cce2acdd-5299-4277-a359-760a7748f1a5 ]]  {\r\n",
       "package \"System\" as E2  [[psysml:fe0450d0-807d-48bf-914f-f99eea0aac67 ]]  {\r\n",
       "package \"Application Layer\" as E3  [[psysml:b4c6803f-b500-4ed2-a89b-7b27b2a9486d ]]  {\r\n",
       "}\r\n",
       "package \"Service Layer\" as E4  [[psysml:66b88940-ae34-45ae-8eaf-0df380551b61 ]]  {\r\n",
       "}\r\n",
       "package \"Data Layer\" as E5  [[psysml:2f9cfad3-e6e2-4672-a52e-eac3ac1cc3fa ]]  {\r\n",
       "}\r\n",
       "}\r\n",
       "comp usage \"x\" as E6  <<(U,orange)attribute>> [[psysml:627607da-451a-45ac-bf2e-8d18d85231b1 ]] {\r\n",
       "}\r\n",
       "comp usage \"y\" as E7  <<(U,orange)attribute>> [[psysml:b8e81d8b-4779-47a3-b21f-b5cec6a6f06b ]] {\r\n",
       "}\r\n",
       "comp usage \"z\" as E8  <<(U,orange)attribute>> [[psysml:ff5b6b09-567c-4f7f-ac5d-5252b0115c49 ]] {\r\n",
       "}\r\n",
       "E3 ..>> E4 [[psysml:dea4bf7d-7df0-4a98-b0a8-ad3094fe796e ]] : <<depend>>\r\n",
       "E4 ..>> E5 [[psysml:6c12c767-a343-4222-b71b-448a215deadc ]] : <<depend>>\r\n",
       "E8 ..>> E6 [[psysml:2c14e4ca-efb9-4e12-a147-b41b8d65befc ]] : <<depend>>\r\n",
       "E8 ..>> E7 [[psysml:2c14e4ca-efb9-4e12-a147-b41b8d65befc ]] : <<depend>>\r\n",
       "}\r\n",
       "@enduml\r\n",
       "\n",
       "PlantUML version 1.2020.13(Sat Jun 13 12:26:38 UTC 2020)\n",
       "(EPL source distribution)\n",
       "Java Runtime: OpenJDK Runtime Environment\n",
       "JVM: OpenJDK 64-Bit Server VM\n",
       "Default Encoding: UTF-8\n",
       "Language: en\n",
       "Country: null\n",
       "--></g></svg>"
      ]
     },
     "execution_count": 31,
     "metadata": {},
     "output_type": "execute_result"
    }
   ],
   "source": [
    "%viz --style=\"PLANTUML\" --view=\"Tree\" \"DependencyTest\""
   ]
  },
  {
   "cell_type": "code",
   "execution_count": 32,
   "id": "15432a5d",
   "metadata": {
    "execution": {
     "iopub.execute_input": "2021-05-28T10:49:38.733905Z",
     "iopub.status.busy": "2021-05-28T10:49:38.733219Z",
     "iopub.status.idle": "2021-05-28T10:49:38.813473Z",
     "shell.execute_reply": "2021-05-28T10:49:38.812173Z"
    }
   },
   "outputs": [
    {
     "data": {
      "image/svg+xml": [
       "<?xml version=\"1.0\" encoding=\"UTF-8\" standalone=\"no\"?><svg xmlns=\"http://www.w3.org/2000/svg\" xmlns:xlink=\"http://www.w3.org/1999/xlink\" contentScriptType=\"application/ecmascript\" contentStyleType=\"text/css\" height=\"303px\" preserveAspectRatio=\"none\" style=\"width:603px;height:303px;background:#000000;\" version=\"1.1\" viewBox=\"0 0 603 303\" width=\"603px\" zoomAndPan=\"magnify\"><defs/><g><rect fill=\"#110618\" height=\"1\" style=\"stroke: #110618; stroke-width: 1.0;\" width=\"1\" x=\"0\" y=\"0\"/><rect fill=\"#FFFFFF\" height=\"205.5625\" style=\"stroke: #FFFFFF; stroke-width: 1.0;\" width=\"602\" x=\"0\" y=\"0\"/><text fill=\"#000000\" font-family=\"sans-serif\" font-size=\"12\" font-weight=\"bold\" lengthAdjust=\"spacingAndGlyphs\" textLength=\"159\" x=\"5\" y=\"16.1387\">Welcome to PlantUML!</text><text fill=\"#000000\" font-family=\"sans-serif\" font-size=\"12\" lengthAdjust=\"spacingAndGlyphs\" textLength=\"0\" x=\"9\" y=\"30.1074\"/><text fill=\"#000000\" font-family=\"sans-serif\" font-size=\"12\" lengthAdjust=\"spacingAndGlyphs\" textLength=\"293\" x=\"5\" y=\"44.0762\">If you use this software, you accept its license.</text><text fill=\"#000000\" font-family=\"sans-serif\" font-size=\"12\" lengthAdjust=\"spacingAndGlyphs\" textLength=\"107\" x=\"5\" y=\"58.0449\">(details by typing</text><text fill=\"#000000\" font-family=\"monospace\" font-size=\"12\" lengthAdjust=\"spacingAndGlyphs\" textLength=\"49\" x=\"116\" y=\"58.0449\">license</text><text fill=\"#000000\" font-family=\"sans-serif\" font-size=\"12\" lengthAdjust=\"spacingAndGlyphs\" textLength=\"56\" x=\"169\" y=\"58.0449\">keyword)</text><text fill=\"#000000\" font-family=\"sans-serif\" font-size=\"12\" lengthAdjust=\"spacingAndGlyphs\" textLength=\"0\" x=\"9\" y=\"72.0137\"/><text fill=\"#000000\" font-family=\"sans-serif\" font-size=\"12\" lengthAdjust=\"spacingAndGlyphs\" textLength=\"283\" x=\"5\" y=\"85.9824\">You can start with a simple UML Diagram like:</text><text fill=\"#000000\" font-family=\"sans-serif\" font-size=\"12\" lengthAdjust=\"spacingAndGlyphs\" textLength=\"0\" x=\"9\" y=\"99.9512\"/><text fill=\"#000000\" font-family=\"monospace\" font-size=\"12\" lengthAdjust=\"spacingAndGlyphs\" textLength=\"119\" x=\"5\" y=\"113.9199\">Bob-&gt;Alice: Hello</text><text fill=\"#000000\" font-family=\"sans-serif\" font-size=\"12\" lengthAdjust=\"spacingAndGlyphs\" textLength=\"0\" x=\"9\" y=\"127.8887\"/><text fill=\"#000000\" font-family=\"sans-serif\" font-size=\"12\" lengthAdjust=\"spacingAndGlyphs\" textLength=\"14\" x=\"5\" y=\"141.8574\">Or</text><text fill=\"#000000\" font-family=\"sans-serif\" font-size=\"12\" lengthAdjust=\"spacingAndGlyphs\" textLength=\"0\" x=\"9\" y=\"155.8262\"/><text fill=\"#000000\" font-family=\"monospace\" font-size=\"12\" lengthAdjust=\"spacingAndGlyphs\" textLength=\"91\" x=\"5\" y=\"169.7949\">class Example</text><text fill=\"#000000\" font-family=\"sans-serif\" font-size=\"12\" lengthAdjust=\"spacingAndGlyphs\" textLength=\"0\" x=\"9\" y=\"183.7637\"/><text fill=\"#000000\" font-family=\"sans-serif\" font-size=\"12\" lengthAdjust=\"spacingAndGlyphs\" textLength=\"349\" x=\"5\" y=\"197.7324\">You will find more information about PlantUML syntax on</text><text fill=\"#000000\" font-family=\"sans-serif\" font-size=\"12\" lengthAdjust=\"spacingAndGlyphs\" text-decoration=\"underline\" textLength=\"129\" x=\"358\" y=\"197.7324\">https://plantuml.com</text><image height=\"71\" width=\"80\" x=\"516\" xlink:href=\"data:image/png;base64,iVBORw0KGgoAAAANSUhEUgAAAFAAAABHCAMAAACnHDC8AAADAFBMVEX///+BpbvD3u/f7vfPz8+nz+g3ksuZEDkWADr/ujlvsdpTodLCwsOLwOEbg8T//v6pqamZETnLysvT09To5+jqLS4VATj9/f27u7vDw8MTfsK+v7/j4+SOweJprdjL4/KxsbEri8jk8PgXa57c29uUETez1utQoNJ1tNtEmc9cptWBut6ayOW/3O6YEDjY6vUfhcXBwcHs7Ozw9/v83t79uTn7+/vX19ehoaHx8fG2tLXHx8fuVlfrNTYaBjn/vUH5+fmko6WXl5f/+fn95ub+9PT+8PD3qKidmaMxIUrnqDWcFj7n5eX09PTu7u2SkpKfnZ6rq6z0lJTm4tzJrHUfDT339/eFGDn6tjcrEzOvrbBuZ3l4eomSMS7Hz9Smpqasu8SFiYuQETfa2du1m6OOM051J0NWTWL5xse4uLj6zc33r6/4vb7ydHXqLi/72dntTE3tR0ijbn5jW3C+u8NANVQrG0XFubqRVGZza4GQGT2VaS7a0NPJtI6IJj/zszrfqkXXzr/Hw8cgC0LUqltOQ2JsSC5bTGjOpFafSi2+iDGtyt14m7TJhTCPJUSwoIG/qa+ikHiIgpCRHjI9j8KXbnaQH0FLf6FGPlp0cnYyKE2rg49Wj7dFXHmcwtrp6uu+xMjvYWLvW1z97e3sPD3sP0DuUlP709PYzdDPmzqZWWySRVygfHHd1smWkZ+PgnibETqsl260q5fLuppJLC/dpj2HPFLTtHv/ujrTwJy5s6iWjIi0iD3joTTCmU3trjuvZS2zlFvjq0HSyLbYp0qRts10XGxEKC9yPVBQZIOPdlNvMk2NeYNqRlujtcCVrr3j5eY1gK9Qn9GLp7lbeJXRxrCkiZDaozyukoJ+H0B3rc+OYy+iprJkYXdhmr6ee0afs79xq9BikrGKjI3FomEiLFO0ay6nfIm4pZXRjTFuhZSZWm0zcZyJN0KNTk4eebNfdIGGlZ93h5kcED5nOVYyRWbziIk9dJ4kerE5ZYxRUnLG1d7p8PTvY2PtTk/1nZ1ycV/bAAAFx0lEQVR4Xu1Ye1BUVRg/e3dhl4csKyxqPlBJQVETF2icAY13GogkEFqizqRRpoBpTCIapaUOhWNjUdOMSBpqJYZTg4KigFKADzSIVZ4qD5VFluXhLgvbPee+r49R7v2z3+zcc77fOfPb7zvfPd85uwCIhwT4wPisANwPAuIKHnbHH1I+KwAXDA18ShDW58CneCEnXl8JGwmfHylCPSvlZ/FWxh8YIRIxTWkZAEofkTz8sNq7tAqE2gODOB6GYZobVaH20SVZ4oQcdmXV0L7c4b8OFvJHRoYwdVIoyPX3gxtFDA+V8e6mM8pBoCjij4wQiWo/ALzV/kpkifBi13p4waZuGrJEECycixcEVSbYgFwUozg4/qSraOxrP7O8Eogj2HDxyMWmzpk6823+yIjhvR7fLOpDsCuGhwC0WfbkjQq8A0MWC0EgIYzPCYMymM8Iwcvz6K4IWw8skTrgq3iPMIQnxdfKrvyedpyvbSsyBQt6zcH6OxXmjqYxg9PbgXBBveK6aRAXNEl1Ssc+hz7Bgntyohb/ggQlNrrdzfIuoYKSb79067PrRoLmGo25SeghJRn1yMrSbPTptZaoBlwtlWbBHspxiW+mW8+46ereVnMXGxbFQ+mjofiHZTrclJn5E14UEgdrO9tRVph0HDJlYlRsLv4XFA7RBA1kK5ogBb7gtn08AvxWymc2b+YzLHC3nnOCNHvdayUsZpnnwnPqGf+yGKcPKlv92vtJC209zGyRWJmgyd16sSGGT/AmM2rdKZKZHxwCz7KUodLzJOO8th4OBqxdo0c2tfUkNr3QlJkZQWWMBP0uwBHvmQQb3zRVCMnsMO6ATazf3f0kkza0HTaPCdIhpyTknqP61Te1eV2gRpr1FUn4xtxRT72pDHhj09/UnBLjiv72p4d8FEtlLibBd7Qg0xK5+XfS9q2AzxSVHPnNIMBS8BQPw8N1W4glQWj0mtp4+nSHhvKYOM4GL6vH1jGTcDQ3p1979AQPI5agXEDYwuS5awknJ73rHU56RyLAr6ACpO5iMRGvp3XykjImgs4Fgm2/7URc8dhbeD9jdhYVNon0mdFcAjTIXbmC75VrmVHcQ+JDIXbuNmYUYlZoYx6XcWjKTWavYXd1WzU9OEh9wLFfEVFza5PEhVhDAvfLx60cWM3ePMa9hyZG5DNr6DbQiCUcYU0AKGzGyYxlkf+wxnCk+wdwCbA/TkWH7Dbgoq8dcmKNssQQ3F/JmMxlIj/fzo/7s9OIwUMebbYzbh2zLfk7ehBGzIau6OeO+xzGKlBRwCGAXNaCFgYbRoKG+hMTfMff4M6h0LYxpmv/92ym9tIxc4uRzawynCEWGhum7odf9/75vh8zg0bKijX5AMxhMacsK8pBxaJihtnQqr1KG8yFMzq/dutJ2iKwNCbXA7Yamsm2Xn0XtgtowY3Xy8rpYc4NNqon8eM49k+NtzU55GtMleGAkNR6oldDMhH+e9EX0JB+UYKv4WgLZrLCjHV7wnyYlzJZvYV6A6d1w6xEph842UUyTkjGIbzwRA/JIOBJKSt88yglqND1h6TpiQqQV99wmJ7nknQcgIIHqd00EwSzgudigGYQUHE4qFMcGJb22kp7lNop8p6znStvg5S2e1TVRti56w/zj8fZzKLiDa317MqBQFbs+J3dcbSgo+H4D0kLOokJ82/NR8KZbp9eIZgllwKR8Ec1ejIX827POk/06HpYffGd5dkoZJXMqDAVXd1Nbhavlx4OyuAiPcyAF3Ick8faXAuE5WToApkMxykL1PbNRJ91SDkXOyymPFR1UMlw9GjRPKCrPsRSvUnbzbkELj2PSSRkQLiH1AvROTutlpryLHQAoCD+C2BBP4npMwd9zsIgzgaDsK+bctmVw3hetai5t9RS4PEqub4QnCvxteGzOZyQXxjscxkhHisWKMi72+T0p1dxGeGYkG0ez+eeG7In/n/oNOexC9fzIiLvPxVtKp84iza+AAAAAElFTkSuQmCC\" y=\"6\"/><rect fill=\"#000000\" height=\"96.4844\" style=\"stroke: #000000; stroke-width: 1.0;\" width=\"602\" x=\"0\" y=\"205.5625\"/><rect fill=\"#33FF02\" height=\"21.2969\" style=\"stroke: #33FF02; stroke-width: 1.0;\" width=\"170\" x=\"5\" y=\"210.5625\"/><text fill=\"#000000\" font-family=\"sans-serif\" font-size=\"14\" font-weight=\"bold\" lengthAdjust=\"spacingAndGlyphs\" textLength=\"168\" x=\"6\" y=\"225.5625\">[From string (line 2) ]</text><text fill=\"#33FF02\" font-family=\"sans-serif\" font-size=\"14\" font-weight=\"bold\" lengthAdjust=\"spacingAndGlyphs\" textLength=\"0\" x=\"10\" y=\"245.8594\"/><text fill=\"#33FF02\" font-family=\"sans-serif\" font-size=\"14\" font-weight=\"bold\" lengthAdjust=\"spacingAndGlyphs\" textLength=\"79\" x=\"5\" y=\"262.1563\">@startuml</text><text fill=\"#33FF02\" font-family=\"sans-serif\" font-size=\"14\" font-weight=\"bold\" lengthAdjust=\"spacingAndGlyphs\" textLength=\"0\" x=\"10\" y=\"278.4531\"/><text fill=\"#FF0000\" font-family=\"sans-serif\" font-size=\"14\" font-weight=\"bold\" lengthAdjust=\"spacingAndGlyphs\" textLength=\"142\" x=\"10\" y=\"294.75\">Empty description</text><!--MD5=[f59edd8218d337f74d0c332fc6737304]\n",
       "@startuml\r\n",
       " \r\n",
       "@enduml\r\n",
       "\n",
       "PlantUML version 1.2020.13(Sat Jun 13 12:26:38 UTC 2020)\n",
       "(EPL source distribution)\n",
       "Java Runtime: OpenJDK Runtime Environment\n",
       "JVM: OpenJDK 64-Bit Server VM\n",
       "Default Encoding: UTF-8\n",
       "Language: en\n",
       "Country: null\n",
       "--></g></svg>"
      ]
     },
     "execution_count": 32,
     "metadata": {},
     "output_type": "execute_result"
    }
   ],
   "source": [
    "%viz --style=\"PLANTUML\" --view=\"State\" \"DependencyTest\""
   ]
  },
  {
   "cell_type": "code",
   "execution_count": 33,
   "id": "7f1912cd",
   "metadata": {
    "execution": {
     "iopub.execute_input": "2021-05-28T10:49:38.865443Z",
     "iopub.status.busy": "2021-05-28T10:49:38.864770Z",
     "iopub.status.idle": "2021-05-28T10:49:38.901829Z",
     "shell.execute_reply": "2021-05-28T10:49:38.900495Z"
    }
   },
   "outputs": [
    {
     "data": {
      "image/svg+xml": [
       "<?xml version=\"1.0\" encoding=\"UTF-8\" standalone=\"no\"?><svg xmlns=\"http://www.w3.org/2000/svg\" xmlns:xlink=\"http://www.w3.org/1999/xlink\" contentScriptType=\"application/ecmascript\" contentStyleType=\"text/css\" height=\"361px\" preserveAspectRatio=\"none\" style=\"width:510px;height:361px;\" version=\"1.1\" viewBox=\"0 0 510 361\" width=\"510px\" zoomAndPan=\"magnify\"><defs><filter height=\"300%\" id=\"f7r3wtuz9jajl\" width=\"300%\" x=\"-1\" y=\"-1\"><feGaussianBlur result=\"blurOut\" stdDeviation=\"2.0\"/><feColorMatrix in=\"blurOut\" result=\"blurOut2\" type=\"matrix\" values=\"0 0 0 0 0 0 0 0 0 0 0 0 0 0 0 0 0 0 .4 0\"/><feOffset dx=\"4.0\" dy=\"4.0\" in=\"blurOut2\" result=\"blurOut3\"/><feBlend in=\"SourceGraphic\" in2=\"blurOut3\" mode=\"normal\"/></filter></defs><g><!--MD5=[fbc87193dbaf4d95561dea2c320d4a47]\n",
       "cluster E1--><a href=\"psysml:cce2acdd-5299-4277-a359-760a7748f1a5\" target=\"_top\" title=\"psysml:cce2acdd-5299-4277-a359-760a7748f1a5\" xlink:actuate=\"onRequest\" xlink:href=\"psysml:cce2acdd-5299-4277-a359-760a7748f1a5\" xlink:show=\"new\" xlink:title=\"psysml:cce2acdd-5299-4277-a359-760a7748f1a5\" xlink:type=\"simple\"><polygon fill=\"#FFFFFF\" filter=\"url(#f7r3wtuz9jajl)\" points=\"16,6,156,6,163,28.2969,488,28.2969,488,349,16,349,16,6\" style=\"stroke: #000000; stroke-width: 1.5;\"/><line style=\"stroke: #000000; stroke-width: 1.5;\" x1=\"16\" x2=\"163\" y1=\"28.2969\" y2=\"28.2969\"/><text fill=\"#000000\" font-family=\"sans-serif\" font-size=\"14\" font-weight=\"bold\" lengthAdjust=\"spacingAndGlyphs\" textLength=\"134\" x=\"20\" y=\"20.9951\">DependencyTest</text></a><!--MD5=[e4f7fae6ed58524ba242bb0b0d3be6b7]\n",
       "cluster E2--><a href=\"psysml:fe0450d0-807d-48bf-914f-f99eea0aac67\" target=\"_top\" title=\"psysml:fe0450d0-807d-48bf-914f-f99eea0aac67\" xlink:actuate=\"onRequest\" xlink:href=\"psysml:fe0450d0-807d-48bf-914f-f99eea0aac67\" xlink:show=\"new\" xlink:title=\"psysml:fe0450d0-807d-48bf-914f-f99eea0aac67\" xlink:type=\"simple\"><polygon fill=\"#FFFFFF\" filter=\"url(#f7r3wtuz9jajl)\" points=\"276,49,340,49,347,71.2969,464,71.2969,464,325,276,325,276,49\" style=\"stroke: #000000; stroke-width: 1.5;\"/><line style=\"stroke: #000000; stroke-width: 1.5;\" x1=\"276\" x2=\"347\" y1=\"71.2969\" y2=\"71.2969\"/><text fill=\"#000000\" font-family=\"sans-serif\" font-size=\"14\" font-weight=\"bold\" lengthAdjust=\"spacingAndGlyphs\" textLength=\"58\" x=\"280\" y=\"63.9951\">System</text></a><!--MD5=[60a26617385b1d2d0262a64233df1f8d]\n",
       "class E6--><a href=\"psysml:627607da-451a-45ac-bf2e-8d18d85231b1\" target=\"_top\" title=\"psysml:627607da-451a-45ac-bf2e-8d18d85231b1\" xlink:actuate=\"onRequest\" xlink:href=\"psysml:627607da-451a-45ac-bf2e-8d18d85231b1\" xlink:show=\"new\" xlink:title=\"psysml:627607da-451a-45ac-bf2e-8d18d85231b1\" xlink:type=\"simple\"><rect fill=\"#FEFECE\" filter=\"url(#f7r3wtuz9jajl)\" height=\"45.9375\" id=\"E6\" rx=\"10\" ry=\"10\" style=\"stroke: #A80036; stroke-width: 1.5;\" width=\"97\" x=\"31.5\" y=\"173.5\"/><ellipse cx=\"46.5\" cy=\"192.4688\" fill=\"#FFA500\" rx=\"11\" ry=\"11\" style=\"stroke: #A80036; stroke-width: 1.0;\"/><path d=\"M42.375,194.3906 L42.375,186.5781 L44.8281,186.5781 L44.8281,195.0156 Q44.8281,195.9375 45.2969,196.4688 Q45.7813,197 46.6094,197 Q47.4531,197 47.9219,196.4688 Q48.3906,195.9375 48.3906,195.0156 L48.3906,186.5781 L50.8438,186.5781 L50.8438,194.3906 Q50.8438,196.9219 49.8438,198.0625 Q48.8438,199.2031 46.6094,199.2031 Q44.3906,199.2031 43.375,198.0625 Q42.375,196.9219 42.375,194.3906 Z \"/><text fill=\"#000000\" font-family=\"sans-serif\" font-size=\"12\" font-style=\"italic\" lengthAdjust=\"spacingAndGlyphs\" textLength=\"69\" x=\"58.5\" y=\"189.6387\">«attribute»</text><text fill=\"#000000\" font-family=\"sans-serif\" font-size=\"12\" lengthAdjust=\"spacingAndGlyphs\" textLength=\"6\" x=\"90\" y=\"203.6074\">x</text><line style=\"stroke: #A80036; stroke-width: 1.5;\" x1=\"32.5\" x2=\"127.5\" y1=\"211.4375\" y2=\"211.4375\"/></a><!--MD5=[2156ba9850f5573cc1fc38a6a4b2f02b]\n",
       "class E7--><a href=\"psysml:b8e81d8b-4779-47a3-b21f-b5cec6a6f06b\" target=\"_top\" title=\"psysml:b8e81d8b-4779-47a3-b21f-b5cec6a6f06b\" xlink:actuate=\"onRequest\" xlink:href=\"psysml:b8e81d8b-4779-47a3-b21f-b5cec6a6f06b\" xlink:show=\"new\" xlink:title=\"psysml:b8e81d8b-4779-47a3-b21f-b5cec6a6f06b\" xlink:type=\"simple\"><rect fill=\"#FEFECE\" filter=\"url(#f7r3wtuz9jajl)\" height=\"45.9375\" id=\"E7\" rx=\"10\" ry=\"10\" style=\"stroke: #A80036; stroke-width: 1.5;\" width=\"97\" x=\"163.5\" y=\"173.5\"/><ellipse cx=\"178.5\" cy=\"192.4688\" fill=\"#FFA500\" rx=\"11\" ry=\"11\" style=\"stroke: #A80036; stroke-width: 1.0;\"/><path d=\"M174.375,194.3906 L174.375,186.5781 L176.8281,186.5781 L176.8281,195.0156 Q176.8281,195.9375 177.2969,196.4688 Q177.7813,197 178.6094,197 Q179.4531,197 179.9219,196.4688 Q180.3906,195.9375 180.3906,195.0156 L180.3906,186.5781 L182.8438,186.5781 L182.8438,194.3906 Q182.8438,196.9219 181.8438,198.0625 Q180.8438,199.2031 178.6094,199.2031 Q176.3906,199.2031 175.375,198.0625 Q174.375,196.9219 174.375,194.3906 Z \"/><text fill=\"#000000\" font-family=\"sans-serif\" font-size=\"12\" font-style=\"italic\" lengthAdjust=\"spacingAndGlyphs\" textLength=\"69\" x=\"190.5\" y=\"189.6387\">«attribute»</text><text fill=\"#000000\" font-family=\"sans-serif\" font-size=\"12\" lengthAdjust=\"spacingAndGlyphs\" textLength=\"6\" x=\"222\" y=\"203.6074\">y</text><line style=\"stroke: #A80036; stroke-width: 1.5;\" x1=\"164.5\" x2=\"259.5\" y1=\"211.4375\" y2=\"211.4375\"/></a><!--MD5=[b9389687b975829384b498ac4b7476b2]\n",
       "class E8--><a href=\"psysml:ff5b6b09-567c-4f7f-ac5d-5252b0115c49\" target=\"_top\" title=\"psysml:ff5b6b09-567c-4f7f-ac5d-5252b0115c49\" xlink:actuate=\"onRequest\" xlink:href=\"psysml:ff5b6b09-567c-4f7f-ac5d-5252b0115c49\" xlink:show=\"new\" xlink:title=\"psysml:ff5b6b09-567c-4f7f-ac5d-5252b0115c49\" xlink:type=\"simple\"><rect fill=\"#FEFECE\" filter=\"url(#f7r3wtuz9jajl)\" height=\"45.9375\" id=\"E8\" rx=\"10\" ry=\"10\" style=\"stroke: #A80036; stroke-width: 1.5;\" width=\"97\" x=\"84.5\" y=\"87.5\"/><ellipse cx=\"99.5\" cy=\"106.4688\" fill=\"#FFA500\" rx=\"11\" ry=\"11\" style=\"stroke: #A80036; stroke-width: 1.0;\"/><path d=\"M95.375,108.3906 L95.375,100.5781 L97.8281,100.5781 L97.8281,109.0156 Q97.8281,109.9375 98.2969,110.4688 Q98.7813,111 99.6094,111 Q100.4531,111 100.9219,110.4688 Q101.3906,109.9375 101.3906,109.0156 L101.3906,100.5781 L103.8438,100.5781 L103.8438,108.3906 Q103.8438,110.9219 102.8438,112.0625 Q101.8438,113.2031 99.6094,113.2031 Q97.3906,113.2031 96.375,112.0625 Q95.375,110.9219 95.375,108.3906 Z \"/><text fill=\"#000000\" font-family=\"sans-serif\" font-size=\"12\" font-style=\"italic\" lengthAdjust=\"spacingAndGlyphs\" textLength=\"69\" x=\"111.5\" y=\"103.6387\">«attribute»</text><text fill=\"#000000\" font-family=\"sans-serif\" font-size=\"12\" lengthAdjust=\"spacingAndGlyphs\" textLength=\"5\" x=\"143.5\" y=\"117.6074\">z</text><line style=\"stroke: #A80036; stroke-width: 1.5;\" x1=\"85.5\" x2=\"180.5\" y1=\"125.4375\" y2=\"125.4375\"/></a><a href=\"psysml:b4c6803f-b500-4ed2-a89b-7b27b2a9486d\" target=\"_top\" title=\"psysml:b4c6803f-b500-4ed2-a89b-7b27b2a9486d\" xlink:actuate=\"onRequest\" xlink:href=\"psysml:b4c6803f-b500-4ed2-a89b-7b27b2a9486d\" xlink:show=\"new\" xlink:title=\"psysml:b4c6803f-b500-4ed2-a89b-7b27b2a9486d\" xlink:type=\"simple\"><polygon fill=\"#FFFFFF\" filter=\"url(#f7r3wtuz9jajl)\" points=\"292,84,434,84,441,106.2969,448,106.2969,448,136.5938,292,136.5938,292,84\" style=\"stroke: #000000; stroke-width: 1.5;\"/><line style=\"stroke: #000000; stroke-width: 1.5;\" x1=\"292\" x2=\"441\" y1=\"106.2969\" y2=\"106.2969\"/><text fill=\"#000000\" font-family=\"sans-serif\" font-size=\"14\" font-weight=\"bold\" lengthAdjust=\"spacingAndGlyphs\" textLength=\"136\" x=\"296\" y=\"98.9951\">Application Layer</text></a><a href=\"psysml:66b88940-ae34-45ae-8eaf-0df380551b61\" target=\"_top\" title=\"psysml:66b88940-ae34-45ae-8eaf-0df380551b61\" xlink:actuate=\"onRequest\" xlink:href=\"psysml:66b88940-ae34-45ae-8eaf-0df380551b61\" xlink:show=\"new\" xlink:title=\"psysml:66b88940-ae34-45ae-8eaf-0df380551b61\" xlink:type=\"simple\"><polygon fill=\"#FFFFFF\" filter=\"url(#f7r3wtuz9jajl)\" points=\"306,170,420,170,427,192.2969,434,192.2969,434,222.5938,306,222.5938,306,170\" style=\"stroke: #000000; stroke-width: 1.5;\"/><line style=\"stroke: #000000; stroke-width: 1.5;\" x1=\"306\" x2=\"427\" y1=\"192.2969\" y2=\"192.2969\"/><text fill=\"#000000\" font-family=\"sans-serif\" font-size=\"14\" font-weight=\"bold\" lengthAdjust=\"spacingAndGlyphs\" textLength=\"108\" x=\"310\" y=\"184.9951\">Service Layer</text></a><a href=\"psysml:2f9cfad3-e6e2-4672-a52e-eac3ac1cc3fa\" target=\"_top\" title=\"psysml:2f9cfad3-e6e2-4672-a52e-eac3ac1cc3fa\" xlink:actuate=\"onRequest\" xlink:href=\"psysml:2f9cfad3-e6e2-4672-a52e-eac3ac1cc3fa\" xlink:show=\"new\" xlink:title=\"psysml:2f9cfad3-e6e2-4672-a52e-eac3ac1cc3fa\" xlink:type=\"simple\"><polygon fill=\"#FFFFFF\" filter=\"url(#f7r3wtuz9jajl)\" points=\"318,256,408,256,415,278.2969,422,278.2969,422,308.5938,318,308.5938,318,256\" style=\"stroke: #000000; stroke-width: 1.5;\"/><line style=\"stroke: #000000; stroke-width: 1.5;\" x1=\"318\" x2=\"415\" y1=\"278.2969\" y2=\"278.2969\"/><text fill=\"#000000\" font-family=\"sans-serif\" font-size=\"14\" font-weight=\"bold\" lengthAdjust=\"spacingAndGlyphs\" textLength=\"84\" x=\"322\" y=\"270.9951\">Data Layer</text></a><!--MD5=[af87c684e3b0d8be13c1a698a818ef1e]\n",
       "link E3 to E4--><a href=\"psysml:dea4bf7d-7df0-4a98-b0a8-ad3094fe796e\" target=\"_top\" title=\"psysml:dea4bf7d-7df0-4a98-b0a8-ad3094fe796e\" xlink:actuate=\"onRequest\" xlink:href=\"psysml:dea4bf7d-7df0-4a98-b0a8-ad3094fe796e\" xlink:show=\"new\" xlink:title=\"psysml:dea4bf7d-7df0-4a98-b0a8-ad3094fe796e\" xlink:type=\"simple\"><path d=\"M370,137.16 C370,144.98 370,153.69 370,161.94 \" fill=\"none\" id=\"E3-&gt;E4\" style=\"stroke: #A80036; stroke-width: 1.0; stroke-dasharray: 7.0,7.0;\"/><polygon fill=\"#A80036\" points=\"370,170,373,162,367,162,370,170\" style=\"stroke: #A80036; stroke-width: 1.0;\"/><text fill=\"#000000\" font-family=\"sans-serif\" font-size=\"13\" lengthAdjust=\"spacingAndGlyphs\" textLength=\"64\" x=\"371\" y=\"158.0669\">«depend»</text></a><!--MD5=[1b7591eae5389033d8d09a9d6721a717]\n",
       "link E4 to E5--><a href=\"psysml:6c12c767-a343-4222-b71b-448a215deadc\" target=\"_top\" title=\"psysml:6c12c767-a343-4222-b71b-448a215deadc\" xlink:actuate=\"onRequest\" xlink:href=\"psysml:6c12c767-a343-4222-b71b-448a215deadc\" xlink:show=\"new\" xlink:title=\"psysml:6c12c767-a343-4222-b71b-448a215deadc\" xlink:type=\"simple\"><path d=\"M370,223.16 C370,230.98 370,239.69 370,247.94 \" fill=\"none\" id=\"E4-&gt;E5\" style=\"stroke: #A80036; stroke-width: 1.0; stroke-dasharray: 7.0,7.0;\"/><polygon fill=\"#A80036\" points=\"370,256,373,248,367,248,370,256\" style=\"stroke: #A80036; stroke-width: 1.0;\"/><text fill=\"#000000\" font-family=\"sans-serif\" font-size=\"13\" lengthAdjust=\"spacingAndGlyphs\" textLength=\"64\" x=\"371\" y=\"244.0669\">«depend»</text></a><!--MD5=[c5e8897d989ce984f93528998a7150fe]\n",
       "link E8 to E6--><a href=\"psysml:2c14e4ca-efb9-4e12-a147-b41b8d65befc\" target=\"_top\" title=\"psysml:2c14e4ca-efb9-4e12-a147-b41b8d65befc\" xlink:actuate=\"onRequest\" xlink:href=\"psysml:2c14e4ca-efb9-4e12-a147-b41b8d65befc\" xlink:show=\"new\" xlink:title=\"psysml:2c14e4ca-efb9-4e12-a147-b41b8d65befc\" xlink:type=\"simple\"><path d=\"M92.08,133.72 C88.53,137.07 85.39,140.83 83,145 C79.52,151.08 77.92,158.28 77.36,165.3 \" fill=\"none\" id=\"E8-&gt;E6\" style=\"stroke: #A80036; stroke-width: 1.0; stroke-dasharray: 7.0,7.0;\"/><polygon fill=\"#A80036\" points=\"77.14,173.39,80.3531,165.4732,74.3553,165.3125,77.14,173.39\" style=\"stroke: #A80036; stroke-width: 1.0;\"/><text fill=\"#000000\" font-family=\"sans-serif\" font-size=\"13\" lengthAdjust=\"spacingAndGlyphs\" textLength=\"64\" x=\"84\" y=\"158.0669\">«depend»</text></a><!--MD5=[bfa3c8b0d15052fdf50ae9310b491027]\n",
       "link E8 to E7--><a href=\"psysml:2c14e4ca-efb9-4e12-a147-b41b8d65befc\" target=\"_top\" title=\"psysml:2c14e4ca-efb9-4e12-a147-b41b8d65befc\" xlink:actuate=\"onRequest\" xlink:href=\"psysml:2c14e4ca-efb9-4e12-a147-b41b8d65befc\" xlink:show=\"new\" xlink:title=\"psysml:2c14e4ca-efb9-4e12-a147-b41b8d65befc\" xlink:type=\"simple\"><path d=\"M153.76,133.57 C163.48,143.91 175.17,156.34 185.52,167.34 \" fill=\"none\" id=\"E8-&gt;E7\" style=\"stroke: #A80036; stroke-width: 1.0; stroke-dasharray: 7.0,7.0;\"/><polygon fill=\"#A80036\" points=\"191.11,173.29,187.8117,165.4083,183.4425,169.5205,191.11,173.29\" style=\"stroke: #A80036; stroke-width: 1.0;\"/><text fill=\"#000000\" font-family=\"sans-serif\" font-size=\"13\" lengthAdjust=\"spacingAndGlyphs\" textLength=\"64\" x=\"180\" y=\"158.0669\">«depend»</text></a><!--MD5=[eddeff7ffba8444333d3251615ca7198]\n",
       "@startuml\r\n",
       "skinparam ranksep 10\r\n",
       "skinparam rectangle {\r\n",
       " backgroundColor<<block>> LightGreen\r\n",
       "}\r\n",
       " \r\n",
       "package \"DependencyTest\" as E1  [[psysml:cce2acdd-5299-4277-a359-760a7748f1a5 ]]  {\r\n",
       "package \"System\" as E2  [[psysml:fe0450d0-807d-48bf-914f-f99eea0aac67 ]]  {\r\n",
       "package \"Application Layer\" as E3  [[psysml:b4c6803f-b500-4ed2-a89b-7b27b2a9486d ]]  {\r\n",
       "}\r\n",
       "package \"Service Layer\" as E4  [[psysml:66b88940-ae34-45ae-8eaf-0df380551b61 ]]  {\r\n",
       "}\r\n",
       "package \"Data Layer\" as E5  [[psysml:2f9cfad3-e6e2-4672-a52e-eac3ac1cc3fa ]]  {\r\n",
       "}\r\n",
       "}\r\n",
       "comp usage \"x\" as E6  <<(U,orange)attribute>> [[psysml:627607da-451a-45ac-bf2e-8d18d85231b1 ]] {\r\n",
       "}\r\n",
       "comp usage \"y\" as E7  <<(U,orange)attribute>> [[psysml:b8e81d8b-4779-47a3-b21f-b5cec6a6f06b ]] {\r\n",
       "}\r\n",
       "comp usage \"z\" as E8  <<(U,orange)attribute>> [[psysml:ff5b6b09-567c-4f7f-ac5d-5252b0115c49 ]] {\r\n",
       "}\r\n",
       "E3 ..>> E4 [[psysml:dea4bf7d-7df0-4a98-b0a8-ad3094fe796e ]] : <<depend>>\r\n",
       "E4 ..>> E5 [[psysml:6c12c767-a343-4222-b71b-448a215deadc ]] : <<depend>>\r\n",
       "E8 ..>> E6 [[psysml:2c14e4ca-efb9-4e12-a147-b41b8d65befc ]] : <<depend>>\r\n",
       "E8 ..>> E7 [[psysml:2c14e4ca-efb9-4e12-a147-b41b8d65befc ]] : <<depend>>\r\n",
       "}\r\n",
       "@enduml\r\n",
       "\n",
       "PlantUML version 1.2020.13(Sat Jun 13 12:26:38 UTC 2020)\n",
       "(EPL source distribution)\n",
       "Java Runtime: OpenJDK Runtime Environment\n",
       "JVM: OpenJDK 64-Bit Server VM\n",
       "Default Encoding: UTF-8\n",
       "Language: en\n",
       "Country: null\n",
       "--></g></svg>"
      ]
     },
     "execution_count": 33,
     "metadata": {},
     "output_type": "execute_result"
    }
   ],
   "source": [
    "%viz --style=\"PLANTUML\" --view=\"Interconnection\" \"DependencyTest\""
   ]
  },
  {
   "cell_type": "code",
   "execution_count": 34,
   "id": "58b278ba",
   "metadata": {
    "execution": {
     "iopub.execute_input": "2021-05-28T10:49:38.955739Z",
     "iopub.status.busy": "2021-05-28T10:49:38.955040Z",
     "iopub.status.idle": "2021-05-28T10:49:38.956662Z",
     "shell.execute_reply": "2021-05-28T10:49:38.955349Z"
    }
   },
   "outputs": [
    {
     "data": {
      "image/svg+xml": [
       "<?xml version=\"1.0\" encoding=\"UTF-8\" standalone=\"no\"?><svg xmlns=\"http://www.w3.org/2000/svg\" xmlns:xlink=\"http://www.w3.org/1999/xlink\" contentScriptType=\"application/ecmascript\" contentStyleType=\"text/css\" height=\"12px\" preserveAspectRatio=\"none\" style=\"width:12px;height:12px;\" version=\"1.1\" viewBox=\"0 0 12 12\" width=\"12px\" zoomAndPan=\"magnify\"><defs/><g><!--MD5=[6a4cb978cab31700e1ce5529f947a75d]\n",
       "@startuml\r\n",
       "skinparam ranksep 8\r\n",
       " \r\n",
       "@enduml\r\n",
       "\n",
       "PlantUML version 1.2020.13(Sat Jun 13 12:26:38 UTC 2020)\n",
       "(EPL source distribution)\n",
       "Java Runtime: OpenJDK Runtime Environment\n",
       "JVM: OpenJDK 64-Bit Server VM\n",
       "Default Encoding: UTF-8\n",
       "Language: en\n",
       "Country: null\n",
       "--></g></svg>"
      ]
     },
     "execution_count": 34,
     "metadata": {},
     "output_type": "execute_result"
    }
   ],
   "source": [
    "%viz --style=\"PLANTUML\" --view=\"Action\" \"DependencyTest\""
   ]
  },
  {
   "cell_type": "code",
   "execution_count": 35,
   "id": "f251096b",
   "metadata": {
    "execution": {
     "iopub.execute_input": "2021-05-28T10:49:39.009707Z",
     "iopub.status.busy": "2021-05-28T10:49:39.009117Z",
     "iopub.status.idle": "2021-05-28T10:49:39.044302Z",
     "shell.execute_reply": "2021-05-28T10:49:39.042936Z"
    }
   },
   "outputs": [
    {
     "data": {
      "image/svg+xml": [
       "<?xml version=\"1.0\" encoding=\"UTF-8\" standalone=\"no\"?><svg xmlns=\"http://www.w3.org/2000/svg\" xmlns:xlink=\"http://www.w3.org/1999/xlink\" contentScriptType=\"application/ecmascript\" contentStyleType=\"text/css\" height=\"449px\" preserveAspectRatio=\"none\" style=\"width:510px;height:449px;\" version=\"1.1\" viewBox=\"0 0 510 449\" width=\"510px\" zoomAndPan=\"magnify\"><defs><filter height=\"300%\" id=\"fwyj0bu6mbh7a\" width=\"300%\" x=\"-1\" y=\"-1\"><feGaussianBlur result=\"blurOut\" stdDeviation=\"2.0\"/><feColorMatrix in=\"blurOut\" result=\"blurOut2\" type=\"matrix\" values=\"0 0 0 0 0 0 0 0 0 0 0 0 0 0 0 0 0 0 .4 0\"/><feOffset dx=\"4.0\" dy=\"4.0\" in=\"blurOut2\" result=\"blurOut3\"/><feBlend in=\"SourceGraphic\" in2=\"blurOut3\" mode=\"normal\"/></filter></defs><g><!--MD5=[fbc87193dbaf4d95561dea2c320d4a47]\n",
       "cluster E1--><a href=\"psysml:cce2acdd-5299-4277-a359-760a7748f1a5\" target=\"_top\" title=\"psysml:cce2acdd-5299-4277-a359-760a7748f1a5\" xlink:actuate=\"onRequest\" xlink:href=\"psysml:cce2acdd-5299-4277-a359-760a7748f1a5\" xlink:show=\"new\" xlink:title=\"psysml:cce2acdd-5299-4277-a359-760a7748f1a5\" xlink:type=\"simple\"><polygon fill=\"#FFFFFF\" filter=\"url(#fwyj0bu6mbh7a)\" points=\"16,6,156,6,163,28.2969,488,28.2969,488,437,16,437,16,6\" style=\"stroke: #000000; stroke-width: 1.5;\"/><line style=\"stroke: #000000; stroke-width: 1.5;\" x1=\"16\" x2=\"163\" y1=\"28.2969\" y2=\"28.2969\"/><text fill=\"#000000\" font-family=\"sans-serif\" font-size=\"14\" font-weight=\"bold\" lengthAdjust=\"spacingAndGlyphs\" textLength=\"134\" x=\"20\" y=\"20.9951\">DependencyTest</text></a><!--MD5=[e4f7fae6ed58524ba242bb0b0d3be6b7]\n",
       "cluster E2--><a href=\"psysml:fe0450d0-807d-48bf-914f-f99eea0aac67\" target=\"_top\" title=\"psysml:fe0450d0-807d-48bf-914f-f99eea0aac67\" xlink:actuate=\"onRequest\" xlink:href=\"psysml:fe0450d0-807d-48bf-914f-f99eea0aac67\" xlink:show=\"new\" xlink:title=\"psysml:fe0450d0-807d-48bf-914f-f99eea0aac67\" xlink:type=\"simple\"><polygon fill=\"#FFFFFF\" filter=\"url(#fwyj0bu6mbh7a)\" points=\"276,49,340,49,347,71.2969,464,71.2969,464,413,276,413,276,49\" style=\"stroke: #000000; stroke-width: 1.5;\"/><line style=\"stroke: #000000; stroke-width: 1.5;\" x1=\"276\" x2=\"347\" y1=\"71.2969\" y2=\"71.2969\"/><text fill=\"#000000\" font-family=\"sans-serif\" font-size=\"14\" font-weight=\"bold\" lengthAdjust=\"spacingAndGlyphs\" textLength=\"58\" x=\"280\" y=\"63.9951\">System</text></a><!--MD5=[60a26617385b1d2d0262a64233df1f8d]\n",
       "class E6--><a href=\"psysml:627607da-451a-45ac-bf2e-8d18d85231b1\" target=\"_top\" title=\"psysml:627607da-451a-45ac-bf2e-8d18d85231b1\" xlink:actuate=\"onRequest\" xlink:href=\"psysml:627607da-451a-45ac-bf2e-8d18d85231b1\" xlink:show=\"new\" xlink:title=\"psysml:627607da-451a-45ac-bf2e-8d18d85231b1\" xlink:type=\"simple\"><rect fill=\"#FEFECE\" filter=\"url(#fwyj0bu6mbh7a)\" height=\"45.9375\" id=\"E6\" rx=\"10\" ry=\"10\" style=\"stroke: #A80036; stroke-width: 1.5;\" width=\"97\" x=\"31.5\" y=\"217.5\"/><ellipse cx=\"46.5\" cy=\"236.4688\" fill=\"#FFA500\" rx=\"11\" ry=\"11\" style=\"stroke: #A80036; stroke-width: 1.0;\"/><path d=\"M42.375,238.3906 L42.375,230.5781 L44.8281,230.5781 L44.8281,239.0156 Q44.8281,239.9375 45.2969,240.4688 Q45.7813,241 46.6094,241 Q47.4531,241 47.9219,240.4688 Q48.3906,239.9375 48.3906,239.0156 L48.3906,230.5781 L50.8438,230.5781 L50.8438,238.3906 Q50.8438,240.9219 49.8438,242.0625 Q48.8438,243.2031 46.6094,243.2031 Q44.3906,243.2031 43.375,242.0625 Q42.375,240.9219 42.375,238.3906 Z \"/><text fill=\"#000000\" font-family=\"sans-serif\" font-size=\"12\" font-style=\"italic\" lengthAdjust=\"spacingAndGlyphs\" textLength=\"69\" x=\"58.5\" y=\"233.6387\">«attribute»</text><text fill=\"#000000\" font-family=\"sans-serif\" font-size=\"12\" lengthAdjust=\"spacingAndGlyphs\" textLength=\"6\" x=\"90\" y=\"247.6074\">x</text><line style=\"stroke: #A80036; stroke-width: 1.5;\" x1=\"32.5\" x2=\"127.5\" y1=\"255.4375\" y2=\"255.4375\"/></a><!--MD5=[2156ba9850f5573cc1fc38a6a4b2f02b]\n",
       "class E7--><a href=\"psysml:b8e81d8b-4779-47a3-b21f-b5cec6a6f06b\" target=\"_top\" title=\"psysml:b8e81d8b-4779-47a3-b21f-b5cec6a6f06b\" xlink:actuate=\"onRequest\" xlink:href=\"psysml:b8e81d8b-4779-47a3-b21f-b5cec6a6f06b\" xlink:show=\"new\" xlink:title=\"psysml:b8e81d8b-4779-47a3-b21f-b5cec6a6f06b\" xlink:type=\"simple\"><rect fill=\"#FEFECE\" filter=\"url(#fwyj0bu6mbh7a)\" height=\"45.9375\" id=\"E7\" rx=\"10\" ry=\"10\" style=\"stroke: #A80036; stroke-width: 1.5;\" width=\"97\" x=\"163.5\" y=\"217.5\"/><ellipse cx=\"178.5\" cy=\"236.4688\" fill=\"#FFA500\" rx=\"11\" ry=\"11\" style=\"stroke: #A80036; stroke-width: 1.0;\"/><path d=\"M174.375,238.3906 L174.375,230.5781 L176.8281,230.5781 L176.8281,239.0156 Q176.8281,239.9375 177.2969,240.4688 Q177.7813,241 178.6094,241 Q179.4531,241 179.9219,240.4688 Q180.3906,239.9375 180.3906,239.0156 L180.3906,230.5781 L182.8438,230.5781 L182.8438,238.3906 Q182.8438,240.9219 181.8438,242.0625 Q180.8438,243.2031 178.6094,243.2031 Q176.3906,243.2031 175.375,242.0625 Q174.375,240.9219 174.375,238.3906 Z \"/><text fill=\"#000000\" font-family=\"sans-serif\" font-size=\"12\" font-style=\"italic\" lengthAdjust=\"spacingAndGlyphs\" textLength=\"69\" x=\"190.5\" y=\"233.6387\">«attribute»</text><text fill=\"#000000\" font-family=\"sans-serif\" font-size=\"12\" lengthAdjust=\"spacingAndGlyphs\" textLength=\"6\" x=\"222\" y=\"247.6074\">y</text><line style=\"stroke: #A80036; stroke-width: 1.5;\" x1=\"164.5\" x2=\"259.5\" y1=\"255.4375\" y2=\"255.4375\"/></a><!--MD5=[b9389687b975829384b498ac4b7476b2]\n",
       "class E8--><a href=\"psysml:ff5b6b09-567c-4f7f-ac5d-5252b0115c49\" target=\"_top\" title=\"psysml:ff5b6b09-567c-4f7f-ac5d-5252b0115c49\" xlink:actuate=\"onRequest\" xlink:href=\"psysml:ff5b6b09-567c-4f7f-ac5d-5252b0115c49\" xlink:show=\"new\" xlink:title=\"psysml:ff5b6b09-567c-4f7f-ac5d-5252b0115c49\" xlink:type=\"simple\"><rect fill=\"#FEFECE\" filter=\"url(#fwyj0bu6mbh7a)\" height=\"45.9375\" id=\"E8\" rx=\"10\" ry=\"10\" style=\"stroke: #A80036; stroke-width: 1.5;\" width=\"97\" x=\"84.5\" y=\"87.5\"/><ellipse cx=\"99.5\" cy=\"106.4688\" fill=\"#FFA500\" rx=\"11\" ry=\"11\" style=\"stroke: #A80036; stroke-width: 1.0;\"/><path d=\"M95.375,108.3906 L95.375,100.5781 L97.8281,100.5781 L97.8281,109.0156 Q97.8281,109.9375 98.2969,110.4688 Q98.7813,111 99.6094,111 Q100.4531,111 100.9219,110.4688 Q101.3906,109.9375 101.3906,109.0156 L101.3906,100.5781 L103.8438,100.5781 L103.8438,108.3906 Q103.8438,110.9219 102.8438,112.0625 Q101.8438,113.2031 99.6094,113.2031 Q97.3906,113.2031 96.375,112.0625 Q95.375,110.9219 95.375,108.3906 Z \"/><text fill=\"#000000\" font-family=\"sans-serif\" font-size=\"12\" font-style=\"italic\" lengthAdjust=\"spacingAndGlyphs\" textLength=\"69\" x=\"111.5\" y=\"103.6387\">«attribute»</text><text fill=\"#000000\" font-family=\"sans-serif\" font-size=\"12\" lengthAdjust=\"spacingAndGlyphs\" textLength=\"5\" x=\"143.5\" y=\"117.6074\">z</text><line style=\"stroke: #A80036; stroke-width: 1.5;\" x1=\"85.5\" x2=\"180.5\" y1=\"125.4375\" y2=\"125.4375\"/></a><a href=\"psysml:b4c6803f-b500-4ed2-a89b-7b27b2a9486d\" target=\"_top\" title=\"psysml:b4c6803f-b500-4ed2-a89b-7b27b2a9486d\" xlink:actuate=\"onRequest\" xlink:href=\"psysml:b4c6803f-b500-4ed2-a89b-7b27b2a9486d\" xlink:show=\"new\" xlink:title=\"psysml:b4c6803f-b500-4ed2-a89b-7b27b2a9486d\" xlink:type=\"simple\"><polygon fill=\"#FFFFFF\" filter=\"url(#fwyj0bu6mbh7a)\" points=\"292,84,434,84,441,106.2969,448,106.2969,448,136.5938,292,136.5938,292,84\" style=\"stroke: #000000; stroke-width: 1.5;\"/><line style=\"stroke: #000000; stroke-width: 1.5;\" x1=\"292\" x2=\"441\" y1=\"106.2969\" y2=\"106.2969\"/><text fill=\"#000000\" font-family=\"sans-serif\" font-size=\"14\" font-weight=\"bold\" lengthAdjust=\"spacingAndGlyphs\" textLength=\"136\" x=\"296\" y=\"98.9951\">Application Layer</text></a><a href=\"psysml:66b88940-ae34-45ae-8eaf-0df380551b61\" target=\"_top\" title=\"psysml:66b88940-ae34-45ae-8eaf-0df380551b61\" xlink:actuate=\"onRequest\" xlink:href=\"psysml:66b88940-ae34-45ae-8eaf-0df380551b61\" xlink:show=\"new\" xlink:title=\"psysml:66b88940-ae34-45ae-8eaf-0df380551b61\" xlink:type=\"simple\"><polygon fill=\"#FFFFFF\" filter=\"url(#fwyj0bu6mbh7a)\" points=\"306,214,420,214,427,236.2969,434,236.2969,434,266.5938,306,266.5938,306,214\" style=\"stroke: #000000; stroke-width: 1.5;\"/><line style=\"stroke: #000000; stroke-width: 1.5;\" x1=\"306\" x2=\"427\" y1=\"236.2969\" y2=\"236.2969\"/><text fill=\"#000000\" font-family=\"sans-serif\" font-size=\"14\" font-weight=\"bold\" lengthAdjust=\"spacingAndGlyphs\" textLength=\"108\" x=\"310\" y=\"228.9951\">Service Layer</text></a><a href=\"psysml:2f9cfad3-e6e2-4672-a52e-eac3ac1cc3fa\" target=\"_top\" title=\"psysml:2f9cfad3-e6e2-4672-a52e-eac3ac1cc3fa\" xlink:actuate=\"onRequest\" xlink:href=\"psysml:2f9cfad3-e6e2-4672-a52e-eac3ac1cc3fa\" xlink:show=\"new\" xlink:title=\"psysml:2f9cfad3-e6e2-4672-a52e-eac3ac1cc3fa\" xlink:type=\"simple\"><polygon fill=\"#FFFFFF\" filter=\"url(#fwyj0bu6mbh7a)\" points=\"318,344,408,344,415,366.2969,422,366.2969,422,396.5938,318,396.5938,318,344\" style=\"stroke: #000000; stroke-width: 1.5;\"/><line style=\"stroke: #000000; stroke-width: 1.5;\" x1=\"318\" x2=\"415\" y1=\"366.2969\" y2=\"366.2969\"/><text fill=\"#000000\" font-family=\"sans-serif\" font-size=\"14\" font-weight=\"bold\" lengthAdjust=\"spacingAndGlyphs\" textLength=\"84\" x=\"322\" y=\"358.9951\">Data Layer</text></a><!--MD5=[af87c684e3b0d8be13c1a698a818ef1e]\n",
       "link E3 to E4--><a href=\"psysml:dea4bf7d-7df0-4a98-b0a8-ad3094fe796e\" target=\"_top\" title=\"psysml:dea4bf7d-7df0-4a98-b0a8-ad3094fe796e\" xlink:actuate=\"onRequest\" xlink:href=\"psysml:dea4bf7d-7df0-4a98-b0a8-ad3094fe796e\" xlink:show=\"new\" xlink:title=\"psysml:dea4bf7d-7df0-4a98-b0a8-ad3094fe796e\" xlink:type=\"simple\"><path d=\"M370,137.1 C370,156.8 370,184.22 370,205.73 \" fill=\"none\" id=\"E3-&gt;E4\" style=\"stroke: #A80036; stroke-width: 1.0; stroke-dasharray: 7.0,7.0;\"/><polygon fill=\"#A80036\" points=\"370,213.95,373,205.95,367,205.95,370,213.95\" style=\"stroke: #A80036; stroke-width: 1.0;\"/><text fill=\"#000000\" font-family=\"sans-serif\" font-size=\"13\" lengthAdjust=\"spacingAndGlyphs\" textLength=\"64\" x=\"371\" y=\"180.0669\">«depend»</text></a><!--MD5=[1b7591eae5389033d8d09a9d6721a717]\n",
       "link E4 to E5--><a href=\"psysml:6c12c767-a343-4222-b71b-448a215deadc\" target=\"_top\" title=\"psysml:6c12c767-a343-4222-b71b-448a215deadc\" xlink:actuate=\"onRequest\" xlink:href=\"psysml:6c12c767-a343-4222-b71b-448a215deadc\" xlink:show=\"new\" xlink:title=\"psysml:6c12c767-a343-4222-b71b-448a215deadc\" xlink:type=\"simple\"><path d=\"M370,267.1 C370,286.8 370,314.22 370,335.73 \" fill=\"none\" id=\"E4-&gt;E5\" style=\"stroke: #A80036; stroke-width: 1.0; stroke-dasharray: 7.0,7.0;\"/><polygon fill=\"#A80036\" points=\"370,343.95,373,335.95,367,335.95,370,343.95\" style=\"stroke: #A80036; stroke-width: 1.0;\"/><text fill=\"#000000\" font-family=\"sans-serif\" font-size=\"13\" lengthAdjust=\"spacingAndGlyphs\" textLength=\"64\" x=\"371\" y=\"310.0669\">«depend»</text></a><!--MD5=[c5e8897d989ce984f93528998a7150fe]\n",
       "link E8 to E6--><a href=\"psysml:2c14e4ca-efb9-4e12-a147-b41b8d65befc\" target=\"_top\" title=\"psysml:2c14e4ca-efb9-4e12-a147-b41b8d65befc\" xlink:actuate=\"onRequest\" xlink:href=\"psysml:2c14e4ca-efb9-4e12-a147-b41b8d65befc\" xlink:show=\"new\" xlink:title=\"psysml:2c14e4ca-efb9-4e12-a147-b41b8d65befc\" xlink:type=\"simple\"><path d=\"M106.44,133.76 C97.3,143.01 88.09,154.51 83,167 C77.6,180.23 76.4,195.98 76.73,209.41 \" fill=\"none\" id=\"E8-&gt;E6\" style=\"stroke: #A80036; stroke-width: 1.0; stroke-dasharray: 7.0,7.0;\"/><polygon fill=\"#A80036\" points=\"77.12,217.43,79.7306,209.2946,73.7375,209.584,77.12,217.43\" style=\"stroke: #A80036; stroke-width: 1.0;\"/><text fill=\"#000000\" font-family=\"sans-serif\" font-size=\"13\" lengthAdjust=\"spacingAndGlyphs\" textLength=\"64\" x=\"84\" y=\"180.0669\">«depend»</text></a><!--MD5=[bfa3c8b0d15052fdf50ae9310b491027]\n",
       "link E8 to E7--><a href=\"psysml:2c14e4ca-efb9-4e12-a147-b41b8d65befc\" target=\"_top\" title=\"psysml:2c14e4ca-efb9-4e12-a147-b41b8d65befc\" xlink:actuate=\"onRequest\" xlink:href=\"psysml:2c14e4ca-efb9-4e12-a147-b41b8d65befc\" xlink:show=\"new\" xlink:title=\"psysml:2c14e4ca-efb9-4e12-a147-b41b8d65befc\" xlink:type=\"simple\"><path d=\"M146.58,133.5 C159.69,154.75 179.63,187.05 194.05,210.41 \" fill=\"none\" id=\"E8-&gt;E7\" style=\"stroke: #A80036; stroke-width: 1.0; stroke-dasharray: 7.0,7.0;\"/><polygon fill=\"#A80036\" points=\"198.33,217.35,196.6785,208.9671,191.5737,212.1201,198.33,217.35\" style=\"stroke: #A80036; stroke-width: 1.0;\"/><text fill=\"#000000\" font-family=\"sans-serif\" font-size=\"13\" lengthAdjust=\"spacingAndGlyphs\" textLength=\"64\" x=\"178\" y=\"180.0669\">«depend»</text></a><!--MD5=[71f45a0c1e5090cc2b365f8e0a8b57b7]\n",
       "@startuml\r\n",
       " \r\n",
       "package \"DependencyTest\" as E1  [[psysml:cce2acdd-5299-4277-a359-760a7748f1a5 ]]  {\r\n",
       "package \"System\" as E2  [[psysml:fe0450d0-807d-48bf-914f-f99eea0aac67 ]]  {\r\n",
       "package \"Application Layer\" as E3  [[psysml:b4c6803f-b500-4ed2-a89b-7b27b2a9486d ]]  {\r\n",
       "}\r\n",
       "package \"Service Layer\" as E4  [[psysml:66b88940-ae34-45ae-8eaf-0df380551b61 ]]  {\r\n",
       "}\r\n",
       "package \"Data Layer\" as E5  [[psysml:2f9cfad3-e6e2-4672-a52e-eac3ac1cc3fa ]]  {\r\n",
       "}\r\n",
       "}\r\n",
       "comp usage \"x\" as E6  <<(U,orange)attribute>> [[psysml:627607da-451a-45ac-bf2e-8d18d85231b1 ]] {\r\n",
       "}\r\n",
       "comp usage \"y\" as E7  <<(U,orange)attribute>> [[psysml:b8e81d8b-4779-47a3-b21f-b5cec6a6f06b ]] {\r\n",
       "}\r\n",
       "comp usage \"z\" as E8  <<(U,orange)attribute>> [[psysml:ff5b6b09-567c-4f7f-ac5d-5252b0115c49 ]] {\r\n",
       "}\r\n",
       "E3 ..>> E4 [[psysml:dea4bf7d-7df0-4a98-b0a8-ad3094fe796e ]] : <<depend>>\r\n",
       "E4 ..>> E5 [[psysml:6c12c767-a343-4222-b71b-448a215deadc ]] : <<depend>>\r\n",
       "E8 ..>> E6 [[psysml:2c14e4ca-efb9-4e12-a147-b41b8d65befc ]] : <<depend>>\r\n",
       "E8 ..>> E7 [[psysml:2c14e4ca-efb9-4e12-a147-b41b8d65befc ]] : <<depend>>\r\n",
       "}\r\n",
       "@enduml\r\n",
       "\n",
       "PlantUML version 1.2020.13(Sat Jun 13 12:26:38 UTC 2020)\n",
       "(EPL source distribution)\n",
       "Java Runtime: OpenJDK Runtime Environment\n",
       "JVM: OpenJDK 64-Bit Server VM\n",
       "Default Encoding: UTF-8\n",
       "Language: en\n",
       "Country: null\n",
       "--></g></svg>"
      ]
     },
     "execution_count": 35,
     "metadata": {},
     "output_type": "execute_result"
    }
   ],
   "source": [
    "%viz --style=\"PLANTUML\" --view=\"Sequence\" \"DependencyTest\""
   ]
  },
  {
   "cell_type": "code",
   "execution_count": 36,
   "id": "8d86eaed",
   "metadata": {
    "execution": {
     "iopub.execute_input": "2021-05-28T10:49:39.096308Z",
     "iopub.status.busy": "2021-05-28T10:49:39.095462Z",
     "iopub.status.idle": "2021-05-28T10:49:39.126562Z",
     "shell.execute_reply": "2021-05-28T10:49:39.125270Z"
    }
   },
   "outputs": [
    {
     "data": {
      "image/svg+xml": [
       "<?xml version=\"1.0\" encoding=\"UTF-8\" standalone=\"no\"?><svg xmlns=\"http://www.w3.org/2000/svg\" xmlns:xlink=\"http://www.w3.org/1999/xlink\" contentScriptType=\"application/ecmascript\" contentStyleType=\"text/css\" height=\"449px\" preserveAspectRatio=\"none\" style=\"width:510px;height:449px;\" version=\"1.1\" viewBox=\"0 0 510 449\" width=\"510px\" zoomAndPan=\"magnify\"><defs><filter height=\"300%\" id=\"fwyj0bu6mbh7a\" width=\"300%\" x=\"-1\" y=\"-1\"><feGaussianBlur result=\"blurOut\" stdDeviation=\"2.0\"/><feColorMatrix in=\"blurOut\" result=\"blurOut2\" type=\"matrix\" values=\"0 0 0 0 0 0 0 0 0 0 0 0 0 0 0 0 0 0 .4 0\"/><feOffset dx=\"4.0\" dy=\"4.0\" in=\"blurOut2\" result=\"blurOut3\"/><feBlend in=\"SourceGraphic\" in2=\"blurOut3\" mode=\"normal\"/></filter></defs><g><!--MD5=[fbc87193dbaf4d95561dea2c320d4a47]\n",
       "cluster E1--><a href=\"psysml:cce2acdd-5299-4277-a359-760a7748f1a5\" target=\"_top\" title=\"psysml:cce2acdd-5299-4277-a359-760a7748f1a5\" xlink:actuate=\"onRequest\" xlink:href=\"psysml:cce2acdd-5299-4277-a359-760a7748f1a5\" xlink:show=\"new\" xlink:title=\"psysml:cce2acdd-5299-4277-a359-760a7748f1a5\" xlink:type=\"simple\"><polygon fill=\"#FFFFFF\" filter=\"url(#fwyj0bu6mbh7a)\" points=\"16,6,156,6,163,28.2969,488,28.2969,488,437,16,437,16,6\" style=\"stroke: #000000; stroke-width: 1.5;\"/><line style=\"stroke: #000000; stroke-width: 1.5;\" x1=\"16\" x2=\"163\" y1=\"28.2969\" y2=\"28.2969\"/><text fill=\"#000000\" font-family=\"sans-serif\" font-size=\"14\" font-weight=\"bold\" lengthAdjust=\"spacingAndGlyphs\" textLength=\"134\" x=\"20\" y=\"20.9951\">DependencyTest</text></a><!--MD5=[e4f7fae6ed58524ba242bb0b0d3be6b7]\n",
       "cluster E2--><a href=\"psysml:fe0450d0-807d-48bf-914f-f99eea0aac67\" target=\"_top\" title=\"psysml:fe0450d0-807d-48bf-914f-f99eea0aac67\" xlink:actuate=\"onRequest\" xlink:href=\"psysml:fe0450d0-807d-48bf-914f-f99eea0aac67\" xlink:show=\"new\" xlink:title=\"psysml:fe0450d0-807d-48bf-914f-f99eea0aac67\" xlink:type=\"simple\"><polygon fill=\"#FFFFFF\" filter=\"url(#fwyj0bu6mbh7a)\" points=\"276,49,340,49,347,71.2969,464,71.2969,464,413,276,413,276,49\" style=\"stroke: #000000; stroke-width: 1.5;\"/><line style=\"stroke: #000000; stroke-width: 1.5;\" x1=\"276\" x2=\"347\" y1=\"71.2969\" y2=\"71.2969\"/><text fill=\"#000000\" font-family=\"sans-serif\" font-size=\"14\" font-weight=\"bold\" lengthAdjust=\"spacingAndGlyphs\" textLength=\"58\" x=\"280\" y=\"63.9951\">System</text></a><!--MD5=[60a26617385b1d2d0262a64233df1f8d]\n",
       "class E6--><a href=\"psysml:627607da-451a-45ac-bf2e-8d18d85231b1\" target=\"_top\" title=\"psysml:627607da-451a-45ac-bf2e-8d18d85231b1\" xlink:actuate=\"onRequest\" xlink:href=\"psysml:627607da-451a-45ac-bf2e-8d18d85231b1\" xlink:show=\"new\" xlink:title=\"psysml:627607da-451a-45ac-bf2e-8d18d85231b1\" xlink:type=\"simple\"><rect fill=\"#FEFECE\" filter=\"url(#fwyj0bu6mbh7a)\" height=\"45.9375\" id=\"E6\" rx=\"10\" ry=\"10\" style=\"stroke: #A80036; stroke-width: 1.5;\" width=\"97\" x=\"31.5\" y=\"217.5\"/><ellipse cx=\"46.5\" cy=\"236.4688\" fill=\"#FFA500\" rx=\"11\" ry=\"11\" style=\"stroke: #A80036; stroke-width: 1.0;\"/><path d=\"M42.375,238.3906 L42.375,230.5781 L44.8281,230.5781 L44.8281,239.0156 Q44.8281,239.9375 45.2969,240.4688 Q45.7813,241 46.6094,241 Q47.4531,241 47.9219,240.4688 Q48.3906,239.9375 48.3906,239.0156 L48.3906,230.5781 L50.8438,230.5781 L50.8438,238.3906 Q50.8438,240.9219 49.8438,242.0625 Q48.8438,243.2031 46.6094,243.2031 Q44.3906,243.2031 43.375,242.0625 Q42.375,240.9219 42.375,238.3906 Z \"/><text fill=\"#000000\" font-family=\"sans-serif\" font-size=\"12\" font-style=\"italic\" lengthAdjust=\"spacingAndGlyphs\" textLength=\"69\" x=\"58.5\" y=\"233.6387\">«attribute»</text><text fill=\"#000000\" font-family=\"sans-serif\" font-size=\"12\" lengthAdjust=\"spacingAndGlyphs\" textLength=\"6\" x=\"90\" y=\"247.6074\">x</text><line style=\"stroke: #A80036; stroke-width: 1.5;\" x1=\"32.5\" x2=\"127.5\" y1=\"255.4375\" y2=\"255.4375\"/></a><!--MD5=[2156ba9850f5573cc1fc38a6a4b2f02b]\n",
       "class E7--><a href=\"psysml:b8e81d8b-4779-47a3-b21f-b5cec6a6f06b\" target=\"_top\" title=\"psysml:b8e81d8b-4779-47a3-b21f-b5cec6a6f06b\" xlink:actuate=\"onRequest\" xlink:href=\"psysml:b8e81d8b-4779-47a3-b21f-b5cec6a6f06b\" xlink:show=\"new\" xlink:title=\"psysml:b8e81d8b-4779-47a3-b21f-b5cec6a6f06b\" xlink:type=\"simple\"><rect fill=\"#FEFECE\" filter=\"url(#fwyj0bu6mbh7a)\" height=\"45.9375\" id=\"E7\" rx=\"10\" ry=\"10\" style=\"stroke: #A80036; stroke-width: 1.5;\" width=\"97\" x=\"163.5\" y=\"217.5\"/><ellipse cx=\"178.5\" cy=\"236.4688\" fill=\"#FFA500\" rx=\"11\" ry=\"11\" style=\"stroke: #A80036; stroke-width: 1.0;\"/><path d=\"M174.375,238.3906 L174.375,230.5781 L176.8281,230.5781 L176.8281,239.0156 Q176.8281,239.9375 177.2969,240.4688 Q177.7813,241 178.6094,241 Q179.4531,241 179.9219,240.4688 Q180.3906,239.9375 180.3906,239.0156 L180.3906,230.5781 L182.8438,230.5781 L182.8438,238.3906 Q182.8438,240.9219 181.8438,242.0625 Q180.8438,243.2031 178.6094,243.2031 Q176.3906,243.2031 175.375,242.0625 Q174.375,240.9219 174.375,238.3906 Z \"/><text fill=\"#000000\" font-family=\"sans-serif\" font-size=\"12\" font-style=\"italic\" lengthAdjust=\"spacingAndGlyphs\" textLength=\"69\" x=\"190.5\" y=\"233.6387\">«attribute»</text><text fill=\"#000000\" font-family=\"sans-serif\" font-size=\"12\" lengthAdjust=\"spacingAndGlyphs\" textLength=\"6\" x=\"222\" y=\"247.6074\">y</text><line style=\"stroke: #A80036; stroke-width: 1.5;\" x1=\"164.5\" x2=\"259.5\" y1=\"255.4375\" y2=\"255.4375\"/></a><!--MD5=[b9389687b975829384b498ac4b7476b2]\n",
       "class E8--><a href=\"psysml:ff5b6b09-567c-4f7f-ac5d-5252b0115c49\" target=\"_top\" title=\"psysml:ff5b6b09-567c-4f7f-ac5d-5252b0115c49\" xlink:actuate=\"onRequest\" xlink:href=\"psysml:ff5b6b09-567c-4f7f-ac5d-5252b0115c49\" xlink:show=\"new\" xlink:title=\"psysml:ff5b6b09-567c-4f7f-ac5d-5252b0115c49\" xlink:type=\"simple\"><rect fill=\"#FEFECE\" filter=\"url(#fwyj0bu6mbh7a)\" height=\"45.9375\" id=\"E8\" rx=\"10\" ry=\"10\" style=\"stroke: #A80036; stroke-width: 1.5;\" width=\"97\" x=\"84.5\" y=\"87.5\"/><ellipse cx=\"99.5\" cy=\"106.4688\" fill=\"#FFA500\" rx=\"11\" ry=\"11\" style=\"stroke: #A80036; stroke-width: 1.0;\"/><path d=\"M95.375,108.3906 L95.375,100.5781 L97.8281,100.5781 L97.8281,109.0156 Q97.8281,109.9375 98.2969,110.4688 Q98.7813,111 99.6094,111 Q100.4531,111 100.9219,110.4688 Q101.3906,109.9375 101.3906,109.0156 L101.3906,100.5781 L103.8438,100.5781 L103.8438,108.3906 Q103.8438,110.9219 102.8438,112.0625 Q101.8438,113.2031 99.6094,113.2031 Q97.3906,113.2031 96.375,112.0625 Q95.375,110.9219 95.375,108.3906 Z \"/><text fill=\"#000000\" font-family=\"sans-serif\" font-size=\"12\" font-style=\"italic\" lengthAdjust=\"spacingAndGlyphs\" textLength=\"69\" x=\"111.5\" y=\"103.6387\">«attribute»</text><text fill=\"#000000\" font-family=\"sans-serif\" font-size=\"12\" lengthAdjust=\"spacingAndGlyphs\" textLength=\"5\" x=\"143.5\" y=\"117.6074\">z</text><line style=\"stroke: #A80036; stroke-width: 1.5;\" x1=\"85.5\" x2=\"180.5\" y1=\"125.4375\" y2=\"125.4375\"/></a><a href=\"psysml:b4c6803f-b500-4ed2-a89b-7b27b2a9486d\" target=\"_top\" title=\"psysml:b4c6803f-b500-4ed2-a89b-7b27b2a9486d\" xlink:actuate=\"onRequest\" xlink:href=\"psysml:b4c6803f-b500-4ed2-a89b-7b27b2a9486d\" xlink:show=\"new\" xlink:title=\"psysml:b4c6803f-b500-4ed2-a89b-7b27b2a9486d\" xlink:type=\"simple\"><polygon fill=\"#FFFFFF\" filter=\"url(#fwyj0bu6mbh7a)\" points=\"292,84,434,84,441,106.2969,448,106.2969,448,136.5938,292,136.5938,292,84\" style=\"stroke: #000000; stroke-width: 1.5;\"/><line style=\"stroke: #000000; stroke-width: 1.5;\" x1=\"292\" x2=\"441\" y1=\"106.2969\" y2=\"106.2969\"/><text fill=\"#000000\" font-family=\"sans-serif\" font-size=\"14\" font-weight=\"bold\" lengthAdjust=\"spacingAndGlyphs\" textLength=\"136\" x=\"296\" y=\"98.9951\">Application Layer</text></a><a href=\"psysml:66b88940-ae34-45ae-8eaf-0df380551b61\" target=\"_top\" title=\"psysml:66b88940-ae34-45ae-8eaf-0df380551b61\" xlink:actuate=\"onRequest\" xlink:href=\"psysml:66b88940-ae34-45ae-8eaf-0df380551b61\" xlink:show=\"new\" xlink:title=\"psysml:66b88940-ae34-45ae-8eaf-0df380551b61\" xlink:type=\"simple\"><polygon fill=\"#FFFFFF\" filter=\"url(#fwyj0bu6mbh7a)\" points=\"306,214,420,214,427,236.2969,434,236.2969,434,266.5938,306,266.5938,306,214\" style=\"stroke: #000000; stroke-width: 1.5;\"/><line style=\"stroke: #000000; stroke-width: 1.5;\" x1=\"306\" x2=\"427\" y1=\"236.2969\" y2=\"236.2969\"/><text fill=\"#000000\" font-family=\"sans-serif\" font-size=\"14\" font-weight=\"bold\" lengthAdjust=\"spacingAndGlyphs\" textLength=\"108\" x=\"310\" y=\"228.9951\">Service Layer</text></a><a href=\"psysml:2f9cfad3-e6e2-4672-a52e-eac3ac1cc3fa\" target=\"_top\" title=\"psysml:2f9cfad3-e6e2-4672-a52e-eac3ac1cc3fa\" xlink:actuate=\"onRequest\" xlink:href=\"psysml:2f9cfad3-e6e2-4672-a52e-eac3ac1cc3fa\" xlink:show=\"new\" xlink:title=\"psysml:2f9cfad3-e6e2-4672-a52e-eac3ac1cc3fa\" xlink:type=\"simple\"><polygon fill=\"#FFFFFF\" filter=\"url(#fwyj0bu6mbh7a)\" points=\"318,344,408,344,415,366.2969,422,366.2969,422,396.5938,318,396.5938,318,344\" style=\"stroke: #000000; stroke-width: 1.5;\"/><line style=\"stroke: #000000; stroke-width: 1.5;\" x1=\"318\" x2=\"415\" y1=\"366.2969\" y2=\"366.2969\"/><text fill=\"#000000\" font-family=\"sans-serif\" font-size=\"14\" font-weight=\"bold\" lengthAdjust=\"spacingAndGlyphs\" textLength=\"84\" x=\"322\" y=\"358.9951\">Data Layer</text></a><!--MD5=[af87c684e3b0d8be13c1a698a818ef1e]\n",
       "link E3 to E4--><a href=\"psysml:dea4bf7d-7df0-4a98-b0a8-ad3094fe796e\" target=\"_top\" title=\"psysml:dea4bf7d-7df0-4a98-b0a8-ad3094fe796e\" xlink:actuate=\"onRequest\" xlink:href=\"psysml:dea4bf7d-7df0-4a98-b0a8-ad3094fe796e\" xlink:show=\"new\" xlink:title=\"psysml:dea4bf7d-7df0-4a98-b0a8-ad3094fe796e\" xlink:type=\"simple\"><path d=\"M370,137.1 C370,156.8 370,184.22 370,205.73 \" fill=\"none\" id=\"E3-&gt;E4\" style=\"stroke: #A80036; stroke-width: 1.0; stroke-dasharray: 7.0,7.0;\"/><polygon fill=\"#A80036\" points=\"370,213.95,373,205.95,367,205.95,370,213.95\" style=\"stroke: #A80036; stroke-width: 1.0;\"/><text fill=\"#000000\" font-family=\"sans-serif\" font-size=\"13\" lengthAdjust=\"spacingAndGlyphs\" textLength=\"64\" x=\"371\" y=\"180.0669\">«depend»</text></a><!--MD5=[1b7591eae5389033d8d09a9d6721a717]\n",
       "link E4 to E5--><a href=\"psysml:6c12c767-a343-4222-b71b-448a215deadc\" target=\"_top\" title=\"psysml:6c12c767-a343-4222-b71b-448a215deadc\" xlink:actuate=\"onRequest\" xlink:href=\"psysml:6c12c767-a343-4222-b71b-448a215deadc\" xlink:show=\"new\" xlink:title=\"psysml:6c12c767-a343-4222-b71b-448a215deadc\" xlink:type=\"simple\"><path d=\"M370,267.1 C370,286.8 370,314.22 370,335.73 \" fill=\"none\" id=\"E4-&gt;E5\" style=\"stroke: #A80036; stroke-width: 1.0; stroke-dasharray: 7.0,7.0;\"/><polygon fill=\"#A80036\" points=\"370,343.95,373,335.95,367,335.95,370,343.95\" style=\"stroke: #A80036; stroke-width: 1.0;\"/><text fill=\"#000000\" font-family=\"sans-serif\" font-size=\"13\" lengthAdjust=\"spacingAndGlyphs\" textLength=\"64\" x=\"371\" y=\"310.0669\">«depend»</text></a><!--MD5=[c5e8897d989ce984f93528998a7150fe]\n",
       "link E8 to E6--><a href=\"psysml:2c14e4ca-efb9-4e12-a147-b41b8d65befc\" target=\"_top\" title=\"psysml:2c14e4ca-efb9-4e12-a147-b41b8d65befc\" xlink:actuate=\"onRequest\" xlink:href=\"psysml:2c14e4ca-efb9-4e12-a147-b41b8d65befc\" xlink:show=\"new\" xlink:title=\"psysml:2c14e4ca-efb9-4e12-a147-b41b8d65befc\" xlink:type=\"simple\"><path d=\"M106.44,133.76 C97.3,143.01 88.09,154.51 83,167 C77.6,180.23 76.4,195.98 76.73,209.41 \" fill=\"none\" id=\"E8-&gt;E6\" style=\"stroke: #A80036; stroke-width: 1.0; stroke-dasharray: 7.0,7.0;\"/><polygon fill=\"#A80036\" points=\"77.12,217.43,79.7306,209.2946,73.7375,209.584,77.12,217.43\" style=\"stroke: #A80036; stroke-width: 1.0;\"/><text fill=\"#000000\" font-family=\"sans-serif\" font-size=\"13\" lengthAdjust=\"spacingAndGlyphs\" textLength=\"64\" x=\"84\" y=\"180.0669\">«depend»</text></a><!--MD5=[bfa3c8b0d15052fdf50ae9310b491027]\n",
       "link E8 to E7--><a href=\"psysml:2c14e4ca-efb9-4e12-a147-b41b8d65befc\" target=\"_top\" title=\"psysml:2c14e4ca-efb9-4e12-a147-b41b8d65befc\" xlink:actuate=\"onRequest\" xlink:href=\"psysml:2c14e4ca-efb9-4e12-a147-b41b8d65befc\" xlink:show=\"new\" xlink:title=\"psysml:2c14e4ca-efb9-4e12-a147-b41b8d65befc\" xlink:type=\"simple\"><path d=\"M146.58,133.5 C159.69,154.75 179.63,187.05 194.05,210.41 \" fill=\"none\" id=\"E8-&gt;E7\" style=\"stroke: #A80036; stroke-width: 1.0; stroke-dasharray: 7.0,7.0;\"/><polygon fill=\"#A80036\" points=\"198.33,217.35,196.6785,208.9671,191.5737,212.1201,198.33,217.35\" style=\"stroke: #A80036; stroke-width: 1.0;\"/><text fill=\"#000000\" font-family=\"sans-serif\" font-size=\"13\" lengthAdjust=\"spacingAndGlyphs\" textLength=\"64\" x=\"178\" y=\"180.0669\">«depend»</text></a><!--MD5=[71f45a0c1e5090cc2b365f8e0a8b57b7]\n",
       "@startuml\r\n",
       " \r\n",
       "package \"DependencyTest\" as E1  [[psysml:cce2acdd-5299-4277-a359-760a7748f1a5 ]]  {\r\n",
       "package \"System\" as E2  [[psysml:fe0450d0-807d-48bf-914f-f99eea0aac67 ]]  {\r\n",
       "package \"Application Layer\" as E3  [[psysml:b4c6803f-b500-4ed2-a89b-7b27b2a9486d ]]  {\r\n",
       "}\r\n",
       "package \"Service Layer\" as E4  [[psysml:66b88940-ae34-45ae-8eaf-0df380551b61 ]]  {\r\n",
       "}\r\n",
       "package \"Data Layer\" as E5  [[psysml:2f9cfad3-e6e2-4672-a52e-eac3ac1cc3fa ]]  {\r\n",
       "}\r\n",
       "}\r\n",
       "comp usage \"x\" as E6  <<(U,orange)attribute>> [[psysml:627607da-451a-45ac-bf2e-8d18d85231b1 ]] {\r\n",
       "}\r\n",
       "comp usage \"y\" as E7  <<(U,orange)attribute>> [[psysml:b8e81d8b-4779-47a3-b21f-b5cec6a6f06b ]] {\r\n",
       "}\r\n",
       "comp usage \"z\" as E8  <<(U,orange)attribute>> [[psysml:ff5b6b09-567c-4f7f-ac5d-5252b0115c49 ]] {\r\n",
       "}\r\n",
       "E3 ..>> E4 [[psysml:dea4bf7d-7df0-4a98-b0a8-ad3094fe796e ]] : <<depend>>\r\n",
       "E4 ..>> E5 [[psysml:6c12c767-a343-4222-b71b-448a215deadc ]] : <<depend>>\r\n",
       "E8 ..>> E6 [[psysml:2c14e4ca-efb9-4e12-a147-b41b8d65befc ]] : <<depend>>\r\n",
       "E8 ..>> E7 [[psysml:2c14e4ca-efb9-4e12-a147-b41b8d65befc ]] : <<depend>>\r\n",
       "}\r\n",
       "@enduml\r\n",
       "\n",
       "PlantUML version 1.2020.13(Sat Jun 13 12:26:38 UTC 2020)\n",
       "(EPL source distribution)\n",
       "Java Runtime: OpenJDK Runtime Environment\n",
       "JVM: OpenJDK 64-Bit Server VM\n",
       "Default Encoding: UTF-8\n",
       "Language: en\n",
       "Country: null\n",
       "--></g></svg>"
      ]
     },
     "execution_count": 36,
     "metadata": {},
     "output_type": "execute_result"
    }
   ],
   "source": [
    "%viz --style=\"PLANTUML\" --view=\"MIXED\" \"DependencyTest\""
   ]
  },
  {
   "cell_type": "code",
   "execution_count": 37,
   "id": "f83ec36d",
   "metadata": {
    "execution": {
     "iopub.execute_input": "2021-05-28T10:49:39.176806Z",
     "iopub.status.busy": "2021-05-28T10:49:39.176457Z",
     "iopub.status.idle": "2021-05-28T10:49:39.207012Z",
     "shell.execute_reply": "2021-05-28T10:49:39.206648Z"
    }
   },
   "outputs": [
    {
     "data": {
      "image/svg+xml": [
       "<?xml version=\"1.0\" encoding=\"UTF-8\" standalone=\"no\"?><svg xmlns=\"http://www.w3.org/2000/svg\" xmlns:xlink=\"http://www.w3.org/1999/xlink\" contentScriptType=\"application/ecmascript\" contentStyleType=\"text/css\" height=\"449px\" preserveAspectRatio=\"none\" style=\"width:489px;height:449px;\" version=\"1.1\" viewBox=\"0 0 489 449\" width=\"489px\" zoomAndPan=\"magnify\"><defs/><g><!--MD5=[fbc87193dbaf4d95561dea2c320d4a47]\n",
       "cluster E1--><a href=\"psysml:cce2acdd-5299-4277-a359-760a7748f1a5\" target=\"_top\" title=\"psysml:cce2acdd-5299-4277-a359-760a7748f1a5\" xlink:actuate=\"onRequest\" xlink:href=\"psysml:cce2acdd-5299-4277-a359-760a7748f1a5\" xlink:show=\"new\" xlink:title=\"psysml:cce2acdd-5299-4277-a359-760a7748f1a5\" xlink:type=\"simple\"><polygon fill=\"#FFFFFF\" points=\"16,6,156,6,163,28.2969,467,28.2969,467,437,16,437,16,6\" style=\"stroke: #000000; stroke-width: 1.5;\"/><line style=\"stroke: #000000; stroke-width: 1.5;\" x1=\"16\" x2=\"163\" y1=\"28.2969\" y2=\"28.2969\"/><text fill=\"#000000\" font-family=\"sans-serif\" font-size=\"14\" font-weight=\"bold\" lengthAdjust=\"spacingAndGlyphs\" textLength=\"134\" x=\"20\" y=\"20.9951\">DependencyTest</text></a><!--MD5=[e4f7fae6ed58524ba242bb0b0d3be6b7]\n",
       "cluster E2--><a href=\"psysml:fe0450d0-807d-48bf-914f-f99eea0aac67\" target=\"_top\" title=\"psysml:fe0450d0-807d-48bf-914f-f99eea0aac67\" xlink:actuate=\"onRequest\" xlink:href=\"psysml:fe0450d0-807d-48bf-914f-f99eea0aac67\" xlink:show=\"new\" xlink:title=\"psysml:fe0450d0-807d-48bf-914f-f99eea0aac67\" xlink:type=\"simple\"><polygon fill=\"#FFFFFF\" points=\"255,49,319,49,326,71.2969,443,71.2969,443,413,255,413,255,49\" style=\"stroke: #000000; stroke-width: 1.5;\"/><line style=\"stroke: #000000; stroke-width: 1.5;\" x1=\"255\" x2=\"326\" y1=\"71.2969\" y2=\"71.2969\"/><text fill=\"#000000\" font-family=\"sans-serif\" font-size=\"14\" font-weight=\"bold\" lengthAdjust=\"spacingAndGlyphs\" textLength=\"58\" x=\"259\" y=\"63.9951\">System</text></a><!--MD5=[60a26617385b1d2d0262a64233df1f8d]\n",
       "class E6--><a href=\"psysml:627607da-451a-45ac-bf2e-8d18d85231b1\" target=\"_top\" title=\"psysml:627607da-451a-45ac-bf2e-8d18d85231b1\" xlink:actuate=\"onRequest\" xlink:href=\"psysml:627607da-451a-45ac-bf2e-8d18d85231b1\" xlink:show=\"new\" xlink:title=\"psysml:627607da-451a-45ac-bf2e-8d18d85231b1\" xlink:type=\"simple\"><rect fill=\"#FFFFFF\" height=\"45.9375\" id=\"E6\" rx=\"10\" ry=\"10\" style=\"stroke: #383838; stroke-width: 1.5;\" width=\"71\" x=\"32.5\" y=\"217.5\"/><text fill=\"#000000\" font-family=\"sans-serif\" font-size=\"12\" font-style=\"italic\" lengthAdjust=\"spacingAndGlyphs\" textLength=\"69\" x=\"33.5\" y=\"233.6387\">«attribute»</text><text fill=\"#000000\" font-family=\"sans-serif\" font-size=\"12\" lengthAdjust=\"spacingAndGlyphs\" textLength=\"6\" x=\"65\" y=\"247.6074\">x</text><line style=\"stroke: #383838; stroke-width: 1.5;\" x1=\"33.5\" x2=\"102.5\" y1=\"255.4375\" y2=\"255.4375\"/></a><!--MD5=[2156ba9850f5573cc1fc38a6a4b2f02b]\n",
       "class E7--><a href=\"psysml:b8e81d8b-4779-47a3-b21f-b5cec6a6f06b\" target=\"_top\" title=\"psysml:b8e81d8b-4779-47a3-b21f-b5cec6a6f06b\" xlink:actuate=\"onRequest\" xlink:href=\"psysml:b8e81d8b-4779-47a3-b21f-b5cec6a6f06b\" xlink:show=\"new\" xlink:title=\"psysml:b8e81d8b-4779-47a3-b21f-b5cec6a6f06b\" xlink:type=\"simple\"><rect fill=\"#FFFFFF\" height=\"45.9375\" id=\"E7\" rx=\"10\" ry=\"10\" style=\"stroke: #383838; stroke-width: 1.5;\" width=\"71\" x=\"138.5\" y=\"217.5\"/><text fill=\"#000000\" font-family=\"sans-serif\" font-size=\"12\" font-style=\"italic\" lengthAdjust=\"spacingAndGlyphs\" textLength=\"69\" x=\"139.5\" y=\"233.6387\">«attribute»</text><text fill=\"#000000\" font-family=\"sans-serif\" font-size=\"12\" lengthAdjust=\"spacingAndGlyphs\" textLength=\"6\" x=\"171\" y=\"247.6074\">y</text><line style=\"stroke: #383838; stroke-width: 1.5;\" x1=\"139.5\" x2=\"208.5\" y1=\"255.4375\" y2=\"255.4375\"/></a><!--MD5=[b9389687b975829384b498ac4b7476b2]\n",
       "class E8--><a href=\"psysml:ff5b6b09-567c-4f7f-ac5d-5252b0115c49\" target=\"_top\" title=\"psysml:ff5b6b09-567c-4f7f-ac5d-5252b0115c49\" xlink:actuate=\"onRequest\" xlink:href=\"psysml:ff5b6b09-567c-4f7f-ac5d-5252b0115c49\" xlink:show=\"new\" xlink:title=\"psysml:ff5b6b09-567c-4f7f-ac5d-5252b0115c49\" xlink:type=\"simple\"><rect fill=\"#FFFFFF\" height=\"45.9375\" id=\"E8\" rx=\"10\" ry=\"10\" style=\"stroke: #383838; stroke-width: 1.5;\" width=\"71\" x=\"84.5\" y=\"87.5\"/><text fill=\"#000000\" font-family=\"sans-serif\" font-size=\"12\" font-style=\"italic\" lengthAdjust=\"spacingAndGlyphs\" textLength=\"69\" x=\"85.5\" y=\"103.6387\">«attribute»</text><text fill=\"#000000\" font-family=\"sans-serif\" font-size=\"12\" lengthAdjust=\"spacingAndGlyphs\" textLength=\"5\" x=\"117.5\" y=\"117.6074\">z</text><line style=\"stroke: #383838; stroke-width: 1.5;\" x1=\"85.5\" x2=\"154.5\" y1=\"125.4375\" y2=\"125.4375\"/></a><a href=\"psysml:b4c6803f-b500-4ed2-a89b-7b27b2a9486d\" target=\"_top\" title=\"psysml:b4c6803f-b500-4ed2-a89b-7b27b2a9486d\" xlink:actuate=\"onRequest\" xlink:href=\"psysml:b4c6803f-b500-4ed2-a89b-7b27b2a9486d\" xlink:show=\"new\" xlink:title=\"psysml:b4c6803f-b500-4ed2-a89b-7b27b2a9486d\" xlink:type=\"simple\"><polygon fill=\"#FFFFFF\" points=\"271,84,413,84,420,106.2969,427,106.2969,427,136.5938,271,136.5938,271,84\" style=\"stroke: #000000; stroke-width: 1.5;\"/><line style=\"stroke: #000000; stroke-width: 1.5;\" x1=\"271\" x2=\"420\" y1=\"106.2969\" y2=\"106.2969\"/><text fill=\"#000000\" font-family=\"sans-serif\" font-size=\"14\" font-weight=\"bold\" lengthAdjust=\"spacingAndGlyphs\" textLength=\"136\" x=\"275\" y=\"98.9951\">Application Layer</text></a><a href=\"psysml:66b88940-ae34-45ae-8eaf-0df380551b61\" target=\"_top\" title=\"psysml:66b88940-ae34-45ae-8eaf-0df380551b61\" xlink:actuate=\"onRequest\" xlink:href=\"psysml:66b88940-ae34-45ae-8eaf-0df380551b61\" xlink:show=\"new\" xlink:title=\"psysml:66b88940-ae34-45ae-8eaf-0df380551b61\" xlink:type=\"simple\"><polygon fill=\"#FFFFFF\" points=\"285,214,399,214,406,236.2969,413,236.2969,413,266.5938,285,266.5938,285,214\" style=\"stroke: #000000; stroke-width: 1.5;\"/><line style=\"stroke: #000000; stroke-width: 1.5;\" x1=\"285\" x2=\"406\" y1=\"236.2969\" y2=\"236.2969\"/><text fill=\"#000000\" font-family=\"sans-serif\" font-size=\"14\" font-weight=\"bold\" lengthAdjust=\"spacingAndGlyphs\" textLength=\"108\" x=\"289\" y=\"228.9951\">Service Layer</text></a><a href=\"psysml:2f9cfad3-e6e2-4672-a52e-eac3ac1cc3fa\" target=\"_top\" title=\"psysml:2f9cfad3-e6e2-4672-a52e-eac3ac1cc3fa\" xlink:actuate=\"onRequest\" xlink:href=\"psysml:2f9cfad3-e6e2-4672-a52e-eac3ac1cc3fa\" xlink:show=\"new\" xlink:title=\"psysml:2f9cfad3-e6e2-4672-a52e-eac3ac1cc3fa\" xlink:type=\"simple\"><polygon fill=\"#FFFFFF\" points=\"297,344,387,344,394,366.2969,401,366.2969,401,396.5938,297,396.5938,297,344\" style=\"stroke: #000000; stroke-width: 1.5;\"/><line style=\"stroke: #000000; stroke-width: 1.5;\" x1=\"297\" x2=\"394\" y1=\"366.2969\" y2=\"366.2969\"/><text fill=\"#000000\" font-family=\"sans-serif\" font-size=\"14\" font-weight=\"bold\" lengthAdjust=\"spacingAndGlyphs\" textLength=\"84\" x=\"301\" y=\"358.9951\">Data Layer</text></a><!--MD5=[af87c684e3b0d8be13c1a698a818ef1e]\n",
       "link E3 to E4--><a href=\"psysml:dea4bf7d-7df0-4a98-b0a8-ad3094fe796e\" target=\"_top\" title=\"psysml:dea4bf7d-7df0-4a98-b0a8-ad3094fe796e\" xlink:actuate=\"onRequest\" xlink:href=\"psysml:dea4bf7d-7df0-4a98-b0a8-ad3094fe796e\" xlink:show=\"new\" xlink:title=\"psysml:dea4bf7d-7df0-4a98-b0a8-ad3094fe796e\" xlink:type=\"simple\"><path d=\"M349,137.1 C349,156.8 349,184.22 349,205.73 \" fill=\"none\" id=\"E3-&gt;E4\" style=\"stroke: #383838; stroke-width: 1.0; stroke-dasharray: 7.0,7.0;\"/><polygon fill=\"#383838\" points=\"349,213.95,352,205.95,346,205.95,349,213.95\" style=\"stroke: #383838; stroke-width: 1.0;\"/><text fill=\"#000000\" font-family=\"sans-serif\" font-size=\"13\" lengthAdjust=\"spacingAndGlyphs\" textLength=\"64\" x=\"350\" y=\"180.0669\">«depend»</text></a><!--MD5=[1b7591eae5389033d8d09a9d6721a717]\n",
       "link E4 to E5--><a href=\"psysml:6c12c767-a343-4222-b71b-448a215deadc\" target=\"_top\" title=\"psysml:6c12c767-a343-4222-b71b-448a215deadc\" xlink:actuate=\"onRequest\" xlink:href=\"psysml:6c12c767-a343-4222-b71b-448a215deadc\" xlink:show=\"new\" xlink:title=\"psysml:6c12c767-a343-4222-b71b-448a215deadc\" xlink:type=\"simple\"><path d=\"M349,267.1 C349,286.8 349,314.22 349,335.73 \" fill=\"none\" id=\"E4-&gt;E5\" style=\"stroke: #383838; stroke-width: 1.0; stroke-dasharray: 7.0,7.0;\"/><polygon fill=\"#383838\" points=\"349,343.95,352,335.95,346,335.95,349,343.95\" style=\"stroke: #383838; stroke-width: 1.0;\"/><text fill=\"#000000\" font-family=\"sans-serif\" font-size=\"13\" lengthAdjust=\"spacingAndGlyphs\" textLength=\"64\" x=\"350\" y=\"310.0669\">«depend»</text></a><!--MD5=[c5e8897d989ce984f93528998a7150fe]\n",
       "link E8 to E6--><a href=\"psysml:2c14e4ca-efb9-4e12-a147-b41b8d65befc\" target=\"_top\" title=\"psysml:2c14e4ca-efb9-4e12-a147-b41b8d65befc\" xlink:actuate=\"onRequest\" xlink:href=\"psysml:2c14e4ca-efb9-4e12-a147-b41b8d65befc\" xlink:show=\"new\" xlink:title=\"psysml:2c14e4ca-efb9-4e12-a147-b41b8d65befc\" xlink:type=\"simple\"><path d=\"M89.42,133.6 C79.35,142.68 69.37,154.11 64,167 C58.5,180.2 58.66,195.94 60.54,209.38 \" fill=\"none\" id=\"E8-&gt;E6\" style=\"stroke: #383838; stroke-width: 1.0; stroke-dasharray: 7.0,7.0;\"/><polygon fill=\"#383838\" points=\"61.9,217.4,63.517,209.0104,57.6018,210.0159,61.9,217.4\" style=\"stroke: #383838; stroke-width: 1.0;\"/><text fill=\"#000000\" font-family=\"sans-serif\" font-size=\"13\" lengthAdjust=\"spacingAndGlyphs\" textLength=\"64\" x=\"65\" y=\"180.0669\">«depend»</text></a><!--MD5=[bfa3c8b0d15052fdf50ae9310b491027]\n",
       "link E8 to E7--><a href=\"psysml:2c14e4ca-efb9-4e12-a147-b41b8d65befc\" target=\"_top\" title=\"psysml:2c14e4ca-efb9-4e12-a147-b41b8d65befc\" xlink:actuate=\"onRequest\" xlink:href=\"psysml:2c14e4ca-efb9-4e12-a147-b41b8d65befc\" xlink:show=\"new\" xlink:title=\"psysml:2c14e4ca-efb9-4e12-a147-b41b8d65befc\" xlink:type=\"simple\"><path d=\"M129.28,133.5 C138.17,154.57 151.64,186.5 161.47,209.81 \" fill=\"none\" id=\"E8-&gt;E7\" style=\"stroke: #383838; stroke-width: 1.0; stroke-dasharray: 7.0,7.0;\"/><polygon fill=\"#383838\" points=\"164.66,217.35,164.3241,208.8126,158.7933,211.1385,164.66,217.35\" style=\"stroke: #383838; stroke-width: 1.0;\"/><text fill=\"#000000\" font-family=\"sans-serif\" font-size=\"13\" lengthAdjust=\"spacingAndGlyphs\" textLength=\"64\" x=\"151\" y=\"180.0669\">«depend»</text></a><!--MD5=[9afb7894bee97cda37fadcb127cab295]\n",
       "@startuml\r\n",
       "skinparam monochrome true\r\n",
       "skinparam classbackgroundcolor white\r\n",
       "skinparam shadowing false\r\n",
       "skinparam wrapWidth 300\r\n",
       "hide circle\r\n",
       "\r\n",
       "package \"DependencyTest\" as E1  [[psysml:cce2acdd-5299-4277-a359-760a7748f1a5 ]]  {\r\n",
       "package \"System\" as E2  [[psysml:fe0450d0-807d-48bf-914f-f99eea0aac67 ]]  {\r\n",
       "package \"Application Layer\" as E3  [[psysml:b4c6803f-b500-4ed2-a89b-7b27b2a9486d ]]  {\r\n",
       "}\r\n",
       "package \"Service Layer\" as E4  [[psysml:66b88940-ae34-45ae-8eaf-0df380551b61 ]]  {\r\n",
       "}\r\n",
       "package \"Data Layer\" as E5  [[psysml:2f9cfad3-e6e2-4672-a52e-eac3ac1cc3fa ]]  {\r\n",
       "}\r\n",
       "}\r\n",
       "comp usage \"x\" as E6  <<(T,blue)attribute>> [[psysml:627607da-451a-45ac-bf2e-8d18d85231b1 ]] {\r\n",
       "}\r\n",
       "comp usage \"y\" as E7  <<(T,blue)attribute>> [[psysml:b8e81d8b-4779-47a3-b21f-b5cec6a6f06b ]] {\r\n",
       "}\r\n",
       "comp usage \"z\" as E8  <<(T,blue)attribute>> [[psysml:ff5b6b09-567c-4f7f-ac5d-5252b0115c49 ]] {\r\n",
       "}\r\n",
       "E3 ..>> E4 [[psysml:dea4bf7d-7df0-4a98-b0a8-ad3094fe796e ]] : <<depend>>\r\n",
       "E4 ..>> E5 [[psysml:6c12c767-a343-4222-b71b-448a215deadc ]] : <<depend>>\r\n",
       "E8 ..>> E6 [[psysml:2c14e4ca-efb9-4e12-a147-b41b8d65befc ]] : <<depend>>\r\n",
       "E8 ..>> E7 [[psysml:2c14e4ca-efb9-4e12-a147-b41b8d65befc ]] : <<depend>>\r\n",
       "}\r\n",
       "@enduml\r\n",
       "\n",
       "PlantUML version 1.2020.13(Sat Jun 13 12:26:38 UTC 2020)\n",
       "(EPL source distribution)\n",
       "Java Runtime: OpenJDK Runtime Environment\n",
       "JVM: OpenJDK 64-Bit Server VM\n",
       "Default Encoding: UTF-8\n",
       "Language: en\n",
       "Country: null\n",
       "--></g></svg>"
      ]
     },
     "execution_count": 37,
     "metadata": {},
     "output_type": "execute_result"
    }
   ],
   "source": [
    "%viz --style=\"DEFAULT\" --view=\"Default\" \"DependencyTest\""
   ]
  },
  {
   "cell_type": "code",
   "execution_count": 38,
   "id": "c19ef14e",
   "metadata": {
    "execution": {
     "iopub.execute_input": "2021-05-28T10:49:39.258167Z",
     "iopub.status.busy": "2021-05-28T10:49:39.257622Z",
     "iopub.status.idle": "2021-05-28T10:49:39.306420Z",
     "shell.execute_reply": "2021-05-28T10:49:39.305547Z"
    }
   },
   "outputs": [
    {
     "data": {
      "image/svg+xml": [
       "<?xml version=\"1.0\" encoding=\"UTF-8\" standalone=\"no\"?><svg xmlns=\"http://www.w3.org/2000/svg\" xmlns:xlink=\"http://www.w3.org/1999/xlink\" contentScriptType=\"application/ecmascript\" contentStyleType=\"text/css\" height=\"449px\" preserveAspectRatio=\"none\" style=\"width:489px;height:449px;\" version=\"1.1\" viewBox=\"0 0 489 449\" width=\"489px\" zoomAndPan=\"magnify\"><defs/><g><!--MD5=[fbc87193dbaf4d95561dea2c320d4a47]\n",
       "cluster E1--><a href=\"psysml:cce2acdd-5299-4277-a359-760a7748f1a5\" target=\"_top\" title=\"psysml:cce2acdd-5299-4277-a359-760a7748f1a5\" xlink:actuate=\"onRequest\" xlink:href=\"psysml:cce2acdd-5299-4277-a359-760a7748f1a5\" xlink:show=\"new\" xlink:title=\"psysml:cce2acdd-5299-4277-a359-760a7748f1a5\" xlink:type=\"simple\"><polygon fill=\"#FFFFFF\" points=\"16,6,156,6,163,28.2969,467,28.2969,467,437,16,437,16,6\" style=\"stroke: #000000; stroke-width: 1.5;\"/><line style=\"stroke: #000000; stroke-width: 1.5;\" x1=\"16\" x2=\"163\" y1=\"28.2969\" y2=\"28.2969\"/><text fill=\"#000000\" font-family=\"sans-serif\" font-size=\"14\" font-weight=\"bold\" lengthAdjust=\"spacingAndGlyphs\" textLength=\"134\" x=\"20\" y=\"20.9951\">DependencyTest</text></a><!--MD5=[e4f7fae6ed58524ba242bb0b0d3be6b7]\n",
       "cluster E2--><a href=\"psysml:fe0450d0-807d-48bf-914f-f99eea0aac67\" target=\"_top\" title=\"psysml:fe0450d0-807d-48bf-914f-f99eea0aac67\" xlink:actuate=\"onRequest\" xlink:href=\"psysml:fe0450d0-807d-48bf-914f-f99eea0aac67\" xlink:show=\"new\" xlink:title=\"psysml:fe0450d0-807d-48bf-914f-f99eea0aac67\" xlink:type=\"simple\"><polygon fill=\"#FFFFFF\" points=\"255,49,319,49,326,71.2969,443,71.2969,443,413,255,413,255,49\" style=\"stroke: #000000; stroke-width: 1.5;\"/><line style=\"stroke: #000000; stroke-width: 1.5;\" x1=\"255\" x2=\"326\" y1=\"71.2969\" y2=\"71.2969\"/><text fill=\"#000000\" font-family=\"sans-serif\" font-size=\"14\" font-weight=\"bold\" lengthAdjust=\"spacingAndGlyphs\" textLength=\"58\" x=\"259\" y=\"63.9951\">System</text></a><!--MD5=[60a26617385b1d2d0262a64233df1f8d]\n",
       "class E6--><a href=\"psysml:627607da-451a-45ac-bf2e-8d18d85231b1\" target=\"_top\" title=\"psysml:627607da-451a-45ac-bf2e-8d18d85231b1\" xlink:actuate=\"onRequest\" xlink:href=\"psysml:627607da-451a-45ac-bf2e-8d18d85231b1\" xlink:show=\"new\" xlink:title=\"psysml:627607da-451a-45ac-bf2e-8d18d85231b1\" xlink:type=\"simple\"><rect fill=\"#FFFFFF\" height=\"45.9375\" id=\"E6\" rx=\"10\" ry=\"10\" style=\"stroke: #383838; stroke-width: 1.5;\" width=\"71\" x=\"32.5\" y=\"217.5\"/><text fill=\"#000000\" font-family=\"sans-serif\" font-size=\"12\" font-style=\"italic\" lengthAdjust=\"spacingAndGlyphs\" textLength=\"69\" x=\"33.5\" y=\"233.6387\">«attribute»</text><text fill=\"#000000\" font-family=\"sans-serif\" font-size=\"12\" lengthAdjust=\"spacingAndGlyphs\" textLength=\"6\" x=\"65\" y=\"247.6074\">x</text><line style=\"stroke: #383838; stroke-width: 1.5;\" x1=\"33.5\" x2=\"102.5\" y1=\"255.4375\" y2=\"255.4375\"/></a><!--MD5=[2156ba9850f5573cc1fc38a6a4b2f02b]\n",
       "class E7--><a href=\"psysml:b8e81d8b-4779-47a3-b21f-b5cec6a6f06b\" target=\"_top\" title=\"psysml:b8e81d8b-4779-47a3-b21f-b5cec6a6f06b\" xlink:actuate=\"onRequest\" xlink:href=\"psysml:b8e81d8b-4779-47a3-b21f-b5cec6a6f06b\" xlink:show=\"new\" xlink:title=\"psysml:b8e81d8b-4779-47a3-b21f-b5cec6a6f06b\" xlink:type=\"simple\"><rect fill=\"#FFFFFF\" height=\"45.9375\" id=\"E7\" rx=\"10\" ry=\"10\" style=\"stroke: #383838; stroke-width: 1.5;\" width=\"71\" x=\"138.5\" y=\"217.5\"/><text fill=\"#000000\" font-family=\"sans-serif\" font-size=\"12\" font-style=\"italic\" lengthAdjust=\"spacingAndGlyphs\" textLength=\"69\" x=\"139.5\" y=\"233.6387\">«attribute»</text><text fill=\"#000000\" font-family=\"sans-serif\" font-size=\"12\" lengthAdjust=\"spacingAndGlyphs\" textLength=\"6\" x=\"171\" y=\"247.6074\">y</text><line style=\"stroke: #383838; stroke-width: 1.5;\" x1=\"139.5\" x2=\"208.5\" y1=\"255.4375\" y2=\"255.4375\"/></a><!--MD5=[b9389687b975829384b498ac4b7476b2]\n",
       "class E8--><a href=\"psysml:ff5b6b09-567c-4f7f-ac5d-5252b0115c49\" target=\"_top\" title=\"psysml:ff5b6b09-567c-4f7f-ac5d-5252b0115c49\" xlink:actuate=\"onRequest\" xlink:href=\"psysml:ff5b6b09-567c-4f7f-ac5d-5252b0115c49\" xlink:show=\"new\" xlink:title=\"psysml:ff5b6b09-567c-4f7f-ac5d-5252b0115c49\" xlink:type=\"simple\"><rect fill=\"#FFFFFF\" height=\"45.9375\" id=\"E8\" rx=\"10\" ry=\"10\" style=\"stroke: #383838; stroke-width: 1.5;\" width=\"71\" x=\"84.5\" y=\"87.5\"/><text fill=\"#000000\" font-family=\"sans-serif\" font-size=\"12\" font-style=\"italic\" lengthAdjust=\"spacingAndGlyphs\" textLength=\"69\" x=\"85.5\" y=\"103.6387\">«attribute»</text><text fill=\"#000000\" font-family=\"sans-serif\" font-size=\"12\" lengthAdjust=\"spacingAndGlyphs\" textLength=\"5\" x=\"117.5\" y=\"117.6074\">z</text><line style=\"stroke: #383838; stroke-width: 1.5;\" x1=\"85.5\" x2=\"154.5\" y1=\"125.4375\" y2=\"125.4375\"/></a><a href=\"psysml:b4c6803f-b500-4ed2-a89b-7b27b2a9486d\" target=\"_top\" title=\"psysml:b4c6803f-b500-4ed2-a89b-7b27b2a9486d\" xlink:actuate=\"onRequest\" xlink:href=\"psysml:b4c6803f-b500-4ed2-a89b-7b27b2a9486d\" xlink:show=\"new\" xlink:title=\"psysml:b4c6803f-b500-4ed2-a89b-7b27b2a9486d\" xlink:type=\"simple\"><polygon fill=\"#FFFFFF\" points=\"271,84,413,84,420,106.2969,427,106.2969,427,136.5938,271,136.5938,271,84\" style=\"stroke: #000000; stroke-width: 1.5;\"/><line style=\"stroke: #000000; stroke-width: 1.5;\" x1=\"271\" x2=\"420\" y1=\"106.2969\" y2=\"106.2969\"/><text fill=\"#000000\" font-family=\"sans-serif\" font-size=\"14\" font-weight=\"bold\" lengthAdjust=\"spacingAndGlyphs\" textLength=\"136\" x=\"275\" y=\"98.9951\">Application Layer</text></a><a href=\"psysml:66b88940-ae34-45ae-8eaf-0df380551b61\" target=\"_top\" title=\"psysml:66b88940-ae34-45ae-8eaf-0df380551b61\" xlink:actuate=\"onRequest\" xlink:href=\"psysml:66b88940-ae34-45ae-8eaf-0df380551b61\" xlink:show=\"new\" xlink:title=\"psysml:66b88940-ae34-45ae-8eaf-0df380551b61\" xlink:type=\"simple\"><polygon fill=\"#FFFFFF\" points=\"285,214,399,214,406,236.2969,413,236.2969,413,266.5938,285,266.5938,285,214\" style=\"stroke: #000000; stroke-width: 1.5;\"/><line style=\"stroke: #000000; stroke-width: 1.5;\" x1=\"285\" x2=\"406\" y1=\"236.2969\" y2=\"236.2969\"/><text fill=\"#000000\" font-family=\"sans-serif\" font-size=\"14\" font-weight=\"bold\" lengthAdjust=\"spacingAndGlyphs\" textLength=\"108\" x=\"289\" y=\"228.9951\">Service Layer</text></a><a href=\"psysml:2f9cfad3-e6e2-4672-a52e-eac3ac1cc3fa\" target=\"_top\" title=\"psysml:2f9cfad3-e6e2-4672-a52e-eac3ac1cc3fa\" xlink:actuate=\"onRequest\" xlink:href=\"psysml:2f9cfad3-e6e2-4672-a52e-eac3ac1cc3fa\" xlink:show=\"new\" xlink:title=\"psysml:2f9cfad3-e6e2-4672-a52e-eac3ac1cc3fa\" xlink:type=\"simple\"><polygon fill=\"#FFFFFF\" points=\"297,344,387,344,394,366.2969,401,366.2969,401,396.5938,297,396.5938,297,344\" style=\"stroke: #000000; stroke-width: 1.5;\"/><line style=\"stroke: #000000; stroke-width: 1.5;\" x1=\"297\" x2=\"394\" y1=\"366.2969\" y2=\"366.2969\"/><text fill=\"#000000\" font-family=\"sans-serif\" font-size=\"14\" font-weight=\"bold\" lengthAdjust=\"spacingAndGlyphs\" textLength=\"84\" x=\"301\" y=\"358.9951\">Data Layer</text></a><!--MD5=[af87c684e3b0d8be13c1a698a818ef1e]\n",
       "link E3 to E4--><a href=\"psysml:dea4bf7d-7df0-4a98-b0a8-ad3094fe796e\" target=\"_top\" title=\"psysml:dea4bf7d-7df0-4a98-b0a8-ad3094fe796e\" xlink:actuate=\"onRequest\" xlink:href=\"psysml:dea4bf7d-7df0-4a98-b0a8-ad3094fe796e\" xlink:show=\"new\" xlink:title=\"psysml:dea4bf7d-7df0-4a98-b0a8-ad3094fe796e\" xlink:type=\"simple\"><path d=\"M349,137.1 C349,156.8 349,184.22 349,205.73 \" fill=\"none\" id=\"E3-&gt;E4\" style=\"stroke: #383838; stroke-width: 1.0; stroke-dasharray: 7.0,7.0;\"/><polygon fill=\"#383838\" points=\"349,213.95,352,205.95,346,205.95,349,213.95\" style=\"stroke: #383838; stroke-width: 1.0;\"/><text fill=\"#000000\" font-family=\"sans-serif\" font-size=\"13\" lengthAdjust=\"spacingAndGlyphs\" textLength=\"64\" x=\"350\" y=\"180.0669\">«depend»</text></a><!--MD5=[1b7591eae5389033d8d09a9d6721a717]\n",
       "link E4 to E5--><a href=\"psysml:6c12c767-a343-4222-b71b-448a215deadc\" target=\"_top\" title=\"psysml:6c12c767-a343-4222-b71b-448a215deadc\" xlink:actuate=\"onRequest\" xlink:href=\"psysml:6c12c767-a343-4222-b71b-448a215deadc\" xlink:show=\"new\" xlink:title=\"psysml:6c12c767-a343-4222-b71b-448a215deadc\" xlink:type=\"simple\"><path d=\"M349,267.1 C349,286.8 349,314.22 349,335.73 \" fill=\"none\" id=\"E4-&gt;E5\" style=\"stroke: #383838; stroke-width: 1.0; stroke-dasharray: 7.0,7.0;\"/><polygon fill=\"#383838\" points=\"349,343.95,352,335.95,346,335.95,349,343.95\" style=\"stroke: #383838; stroke-width: 1.0;\"/><text fill=\"#000000\" font-family=\"sans-serif\" font-size=\"13\" lengthAdjust=\"spacingAndGlyphs\" textLength=\"64\" x=\"350\" y=\"310.0669\">«depend»</text></a><!--MD5=[c5e8897d989ce984f93528998a7150fe]\n",
       "link E8 to E6--><a href=\"psysml:2c14e4ca-efb9-4e12-a147-b41b8d65befc\" target=\"_top\" title=\"psysml:2c14e4ca-efb9-4e12-a147-b41b8d65befc\" xlink:actuate=\"onRequest\" xlink:href=\"psysml:2c14e4ca-efb9-4e12-a147-b41b8d65befc\" xlink:show=\"new\" xlink:title=\"psysml:2c14e4ca-efb9-4e12-a147-b41b8d65befc\" xlink:type=\"simple\"><path d=\"M89.42,133.6 C79.35,142.68 69.37,154.11 64,167 C58.5,180.2 58.66,195.94 60.54,209.38 \" fill=\"none\" id=\"E8-&gt;E6\" style=\"stroke: #383838; stroke-width: 1.0; stroke-dasharray: 7.0,7.0;\"/><polygon fill=\"#383838\" points=\"61.9,217.4,63.517,209.0104,57.6018,210.0159,61.9,217.4\" style=\"stroke: #383838; stroke-width: 1.0;\"/><text fill=\"#000000\" font-family=\"sans-serif\" font-size=\"13\" lengthAdjust=\"spacingAndGlyphs\" textLength=\"64\" x=\"65\" y=\"180.0669\">«depend»</text></a><!--MD5=[bfa3c8b0d15052fdf50ae9310b491027]\n",
       "link E8 to E7--><a href=\"psysml:2c14e4ca-efb9-4e12-a147-b41b8d65befc\" target=\"_top\" title=\"psysml:2c14e4ca-efb9-4e12-a147-b41b8d65befc\" xlink:actuate=\"onRequest\" xlink:href=\"psysml:2c14e4ca-efb9-4e12-a147-b41b8d65befc\" xlink:show=\"new\" xlink:title=\"psysml:2c14e4ca-efb9-4e12-a147-b41b8d65befc\" xlink:type=\"simple\"><path d=\"M129.28,133.5 C138.17,154.57 151.64,186.5 161.47,209.81 \" fill=\"none\" id=\"E8-&gt;E7\" style=\"stroke: #383838; stroke-width: 1.0; stroke-dasharray: 7.0,7.0;\"/><polygon fill=\"#383838\" points=\"164.66,217.35,164.3241,208.8126,158.7933,211.1385,164.66,217.35\" style=\"stroke: #383838; stroke-width: 1.0;\"/><text fill=\"#000000\" font-family=\"sans-serif\" font-size=\"13\" lengthAdjust=\"spacingAndGlyphs\" textLength=\"64\" x=\"151\" y=\"180.0669\">«depend»</text></a><!--MD5=[9afb7894bee97cda37fadcb127cab295]\n",
       "@startuml\r\n",
       "skinparam monochrome true\r\n",
       "skinparam classbackgroundcolor white\r\n",
       "skinparam shadowing false\r\n",
       "skinparam wrapWidth 300\r\n",
       "hide circle\r\n",
       "\r\n",
       "package \"DependencyTest\" as E1  [[psysml:cce2acdd-5299-4277-a359-760a7748f1a5 ]]  {\r\n",
       "package \"System\" as E2  [[psysml:fe0450d0-807d-48bf-914f-f99eea0aac67 ]]  {\r\n",
       "package \"Application Layer\" as E3  [[psysml:b4c6803f-b500-4ed2-a89b-7b27b2a9486d ]]  {\r\n",
       "}\r\n",
       "package \"Service Layer\" as E4  [[psysml:66b88940-ae34-45ae-8eaf-0df380551b61 ]]  {\r\n",
       "}\r\n",
       "package \"Data Layer\" as E5  [[psysml:2f9cfad3-e6e2-4672-a52e-eac3ac1cc3fa ]]  {\r\n",
       "}\r\n",
       "}\r\n",
       "comp usage \"x\" as E6  <<(T,blue)attribute>> [[psysml:627607da-451a-45ac-bf2e-8d18d85231b1 ]] {\r\n",
       "}\r\n",
       "comp usage \"y\" as E7  <<(T,blue)attribute>> [[psysml:b8e81d8b-4779-47a3-b21f-b5cec6a6f06b ]] {\r\n",
       "}\r\n",
       "comp usage \"z\" as E8  <<(T,blue)attribute>> [[psysml:ff5b6b09-567c-4f7f-ac5d-5252b0115c49 ]] {\r\n",
       "}\r\n",
       "E3 ..>> E4 [[psysml:dea4bf7d-7df0-4a98-b0a8-ad3094fe796e ]] : <<depend>>\r\n",
       "E4 ..>> E5 [[psysml:6c12c767-a343-4222-b71b-448a215deadc ]] : <<depend>>\r\n",
       "E8 ..>> E6 [[psysml:2c14e4ca-efb9-4e12-a147-b41b8d65befc ]] : <<depend>>\r\n",
       "E8 ..>> E7 [[psysml:2c14e4ca-efb9-4e12-a147-b41b8d65befc ]] : <<depend>>\r\n",
       "}\r\n",
       "@enduml\r\n",
       "\n",
       "PlantUML version 1.2020.13(Sat Jun 13 12:26:38 UTC 2020)\n",
       "(EPL source distribution)\n",
       "Java Runtime: OpenJDK Runtime Environment\n",
       "JVM: OpenJDK 64-Bit Server VM\n",
       "Default Encoding: UTF-8\n",
       "Language: en\n",
       "Country: null\n",
       "--></g></svg>"
      ]
     },
     "execution_count": 38,
     "metadata": {},
     "output_type": "execute_result"
    }
   ],
   "source": [
    "%viz --style=\"DEFAULT\" --view=\"Tree\" \"DependencyTest\""
   ]
  },
  {
   "cell_type": "code",
   "execution_count": 39,
   "id": "3ef1c7d3",
   "metadata": {
    "execution": {
     "iopub.execute_input": "2021-05-28T10:49:39.360234Z",
     "iopub.status.busy": "2021-05-28T10:49:39.358805Z",
     "iopub.status.idle": "2021-05-28T10:49:39.367281Z",
     "shell.execute_reply": "2021-05-28T10:49:39.366940Z"
    }
   },
   "outputs": [
    {
     "data": {
      "image/svg+xml": [
       "<?xml version=\"1.0\" encoding=\"UTF-8\" standalone=\"no\"?><svg xmlns=\"http://www.w3.org/2000/svg\" xmlns:xlink=\"http://www.w3.org/1999/xlink\" contentScriptType=\"application/ecmascript\" contentStyleType=\"text/css\" height=\"12px\" preserveAspectRatio=\"none\" style=\"width:12px;height:12px;\" version=\"1.1\" viewBox=\"0 0 12 12\" width=\"12px\" zoomAndPan=\"magnify\"><defs/><g><!--MD5=[c5f280e076d0d61ccf4b0f27871bda1d]\n",
       "@startuml\r\n",
       "skinparam monochrome true\r\n",
       "skinparam classbackgroundcolor white\r\n",
       "skinparam shadowing false\r\n",
       "skinparam wrapWidth 300\r\n",
       "hide circle\r\n",
       "\r\n",
       "@enduml\r\n",
       "\n",
       "PlantUML version 1.2020.13(Sat Jun 13 12:26:38 UTC 2020)\n",
       "(EPL source distribution)\n",
       "Java Runtime: OpenJDK Runtime Environment\n",
       "JVM: OpenJDK 64-Bit Server VM\n",
       "Default Encoding: UTF-8\n",
       "Language: en\n",
       "Country: null\n",
       "--></g></svg>"
      ]
     },
     "execution_count": 39,
     "metadata": {},
     "output_type": "execute_result"
    }
   ],
   "source": [
    "%viz --style=\"DEFAULT\" --view=\"State\" \"DependencyTest\""
   ]
  },
  {
   "cell_type": "code",
   "execution_count": 40,
   "id": "c0416d41",
   "metadata": {
    "execution": {
     "iopub.execute_input": "2021-05-28T10:49:39.420296Z",
     "iopub.status.busy": "2021-05-28T10:49:39.419789Z",
     "iopub.status.idle": "2021-05-28T10:49:39.471883Z",
     "shell.execute_reply": "2021-05-28T10:49:39.472388Z"
    }
   },
   "outputs": [
    {
     "data": {
      "image/svg+xml": [
       "<?xml version=\"1.0\" encoding=\"UTF-8\" standalone=\"no\"?><svg xmlns=\"http://www.w3.org/2000/svg\" xmlns:xlink=\"http://www.w3.org/1999/xlink\" contentScriptType=\"application/ecmascript\" contentStyleType=\"text/css\" height=\"361px\" preserveAspectRatio=\"none\" style=\"width:489px;height:361px;\" version=\"1.1\" viewBox=\"0 0 489 361\" width=\"489px\" zoomAndPan=\"magnify\"><defs/><g><!--MD5=[fbc87193dbaf4d95561dea2c320d4a47]\n",
       "cluster E1--><a href=\"psysml:cce2acdd-5299-4277-a359-760a7748f1a5\" target=\"_top\" title=\"psysml:cce2acdd-5299-4277-a359-760a7748f1a5\" xlink:actuate=\"onRequest\" xlink:href=\"psysml:cce2acdd-5299-4277-a359-760a7748f1a5\" xlink:show=\"new\" xlink:title=\"psysml:cce2acdd-5299-4277-a359-760a7748f1a5\" xlink:type=\"simple\"><polygon fill=\"#FFFFFF\" points=\"16,6,156,6,163,28.2969,467,28.2969,467,349,16,349,16,6\" style=\"stroke: #000000; stroke-width: 1.5;\"/><line style=\"stroke: #000000; stroke-width: 1.5;\" x1=\"16\" x2=\"163\" y1=\"28.2969\" y2=\"28.2969\"/><text fill=\"#000000\" font-family=\"sans-serif\" font-size=\"14\" font-weight=\"bold\" lengthAdjust=\"spacingAndGlyphs\" textLength=\"134\" x=\"20\" y=\"20.9951\">DependencyTest</text></a><!--MD5=[e4f7fae6ed58524ba242bb0b0d3be6b7]\n",
       "cluster E2--><a href=\"psysml:fe0450d0-807d-48bf-914f-f99eea0aac67\" target=\"_top\" title=\"psysml:fe0450d0-807d-48bf-914f-f99eea0aac67\" xlink:actuate=\"onRequest\" xlink:href=\"psysml:fe0450d0-807d-48bf-914f-f99eea0aac67\" xlink:show=\"new\" xlink:title=\"psysml:fe0450d0-807d-48bf-914f-f99eea0aac67\" xlink:type=\"simple\"><polygon fill=\"#FFFFFF\" points=\"255,49,319,49,326,71.2969,443,71.2969,443,325,255,325,255,49\" style=\"stroke: #000000; stroke-width: 1.5;\"/><line style=\"stroke: #000000; stroke-width: 1.5;\" x1=\"255\" x2=\"326\" y1=\"71.2969\" y2=\"71.2969\"/><text fill=\"#000000\" font-family=\"sans-serif\" font-size=\"14\" font-weight=\"bold\" lengthAdjust=\"spacingAndGlyphs\" textLength=\"58\" x=\"259\" y=\"63.9951\">System</text></a><!--MD5=[60a26617385b1d2d0262a64233df1f8d]\n",
       "class E6--><a href=\"psysml:627607da-451a-45ac-bf2e-8d18d85231b1\" target=\"_top\" title=\"psysml:627607da-451a-45ac-bf2e-8d18d85231b1\" xlink:actuate=\"onRequest\" xlink:href=\"psysml:627607da-451a-45ac-bf2e-8d18d85231b1\" xlink:show=\"new\" xlink:title=\"psysml:627607da-451a-45ac-bf2e-8d18d85231b1\" xlink:type=\"simple\"><rect fill=\"#FFFFFF\" height=\"45.9375\" id=\"E6\" rx=\"10\" ry=\"10\" style=\"stroke: #383838; stroke-width: 1.5;\" width=\"71\" x=\"32.5\" y=\"173.5\"/><text fill=\"#000000\" font-family=\"sans-serif\" font-size=\"12\" font-style=\"italic\" lengthAdjust=\"spacingAndGlyphs\" textLength=\"69\" x=\"33.5\" y=\"189.6387\">«attribute»</text><text fill=\"#000000\" font-family=\"sans-serif\" font-size=\"12\" lengthAdjust=\"spacingAndGlyphs\" textLength=\"6\" x=\"65\" y=\"203.6074\">x</text><line style=\"stroke: #383838; stroke-width: 1.5;\" x1=\"33.5\" x2=\"102.5\" y1=\"211.4375\" y2=\"211.4375\"/></a><!--MD5=[2156ba9850f5573cc1fc38a6a4b2f02b]\n",
       "class E7--><a href=\"psysml:b8e81d8b-4779-47a3-b21f-b5cec6a6f06b\" target=\"_top\" title=\"psysml:b8e81d8b-4779-47a3-b21f-b5cec6a6f06b\" xlink:actuate=\"onRequest\" xlink:href=\"psysml:b8e81d8b-4779-47a3-b21f-b5cec6a6f06b\" xlink:show=\"new\" xlink:title=\"psysml:b8e81d8b-4779-47a3-b21f-b5cec6a6f06b\" xlink:type=\"simple\"><rect fill=\"#FFFFFF\" height=\"45.9375\" id=\"E7\" rx=\"10\" ry=\"10\" style=\"stroke: #383838; stroke-width: 1.5;\" width=\"71\" x=\"138.5\" y=\"173.5\"/><text fill=\"#000000\" font-family=\"sans-serif\" font-size=\"12\" font-style=\"italic\" lengthAdjust=\"spacingAndGlyphs\" textLength=\"69\" x=\"139.5\" y=\"189.6387\">«attribute»</text><text fill=\"#000000\" font-family=\"sans-serif\" font-size=\"12\" lengthAdjust=\"spacingAndGlyphs\" textLength=\"6\" x=\"171\" y=\"203.6074\">y</text><line style=\"stroke: #383838; stroke-width: 1.5;\" x1=\"139.5\" x2=\"208.5\" y1=\"211.4375\" y2=\"211.4375\"/></a><!--MD5=[b9389687b975829384b498ac4b7476b2]\n",
       "class E8--><a href=\"psysml:ff5b6b09-567c-4f7f-ac5d-5252b0115c49\" target=\"_top\" title=\"psysml:ff5b6b09-567c-4f7f-ac5d-5252b0115c49\" xlink:actuate=\"onRequest\" xlink:href=\"psysml:ff5b6b09-567c-4f7f-ac5d-5252b0115c49\" xlink:show=\"new\" xlink:title=\"psysml:ff5b6b09-567c-4f7f-ac5d-5252b0115c49\" xlink:type=\"simple\"><rect fill=\"#FFFFFF\" height=\"45.9375\" id=\"E8\" rx=\"10\" ry=\"10\" style=\"stroke: #383838; stroke-width: 1.5;\" width=\"71\" x=\"84.5\" y=\"87.5\"/><text fill=\"#000000\" font-family=\"sans-serif\" font-size=\"12\" font-style=\"italic\" lengthAdjust=\"spacingAndGlyphs\" textLength=\"69\" x=\"85.5\" y=\"103.6387\">«attribute»</text><text fill=\"#000000\" font-family=\"sans-serif\" font-size=\"12\" lengthAdjust=\"spacingAndGlyphs\" textLength=\"5\" x=\"117.5\" y=\"117.6074\">z</text><line style=\"stroke: #383838; stroke-width: 1.5;\" x1=\"85.5\" x2=\"154.5\" y1=\"125.4375\" y2=\"125.4375\"/></a><a href=\"psysml:b4c6803f-b500-4ed2-a89b-7b27b2a9486d\" target=\"_top\" title=\"psysml:b4c6803f-b500-4ed2-a89b-7b27b2a9486d\" xlink:actuate=\"onRequest\" xlink:href=\"psysml:b4c6803f-b500-4ed2-a89b-7b27b2a9486d\" xlink:show=\"new\" xlink:title=\"psysml:b4c6803f-b500-4ed2-a89b-7b27b2a9486d\" xlink:type=\"simple\"><polygon fill=\"#FFFFFF\" points=\"271,84,413,84,420,106.2969,427,106.2969,427,136.5938,271,136.5938,271,84\" style=\"stroke: #000000; stroke-width: 1.5;\"/><line style=\"stroke: #000000; stroke-width: 1.5;\" x1=\"271\" x2=\"420\" y1=\"106.2969\" y2=\"106.2969\"/><text fill=\"#000000\" font-family=\"sans-serif\" font-size=\"14\" font-weight=\"bold\" lengthAdjust=\"spacingAndGlyphs\" textLength=\"136\" x=\"275\" y=\"98.9951\">Application Layer</text></a><a href=\"psysml:66b88940-ae34-45ae-8eaf-0df380551b61\" target=\"_top\" title=\"psysml:66b88940-ae34-45ae-8eaf-0df380551b61\" xlink:actuate=\"onRequest\" xlink:href=\"psysml:66b88940-ae34-45ae-8eaf-0df380551b61\" xlink:show=\"new\" xlink:title=\"psysml:66b88940-ae34-45ae-8eaf-0df380551b61\" xlink:type=\"simple\"><polygon fill=\"#FFFFFF\" points=\"285,170,399,170,406,192.2969,413,192.2969,413,222.5938,285,222.5938,285,170\" style=\"stroke: #000000; stroke-width: 1.5;\"/><line style=\"stroke: #000000; stroke-width: 1.5;\" x1=\"285\" x2=\"406\" y1=\"192.2969\" y2=\"192.2969\"/><text fill=\"#000000\" font-family=\"sans-serif\" font-size=\"14\" font-weight=\"bold\" lengthAdjust=\"spacingAndGlyphs\" textLength=\"108\" x=\"289\" y=\"184.9951\">Service Layer</text></a><a href=\"psysml:2f9cfad3-e6e2-4672-a52e-eac3ac1cc3fa\" target=\"_top\" title=\"psysml:2f9cfad3-e6e2-4672-a52e-eac3ac1cc3fa\" xlink:actuate=\"onRequest\" xlink:href=\"psysml:2f9cfad3-e6e2-4672-a52e-eac3ac1cc3fa\" xlink:show=\"new\" xlink:title=\"psysml:2f9cfad3-e6e2-4672-a52e-eac3ac1cc3fa\" xlink:type=\"simple\"><polygon fill=\"#FFFFFF\" points=\"297,256,387,256,394,278.2969,401,278.2969,401,308.5938,297,308.5938,297,256\" style=\"stroke: #000000; stroke-width: 1.5;\"/><line style=\"stroke: #000000; stroke-width: 1.5;\" x1=\"297\" x2=\"394\" y1=\"278.2969\" y2=\"278.2969\"/><text fill=\"#000000\" font-family=\"sans-serif\" font-size=\"14\" font-weight=\"bold\" lengthAdjust=\"spacingAndGlyphs\" textLength=\"84\" x=\"301\" y=\"270.9951\">Data Layer</text></a><!--MD5=[af87c684e3b0d8be13c1a698a818ef1e]\n",
       "link E3 to E4--><a href=\"psysml:dea4bf7d-7df0-4a98-b0a8-ad3094fe796e\" target=\"_top\" title=\"psysml:dea4bf7d-7df0-4a98-b0a8-ad3094fe796e\" xlink:actuate=\"onRequest\" xlink:href=\"psysml:dea4bf7d-7df0-4a98-b0a8-ad3094fe796e\" xlink:show=\"new\" xlink:title=\"psysml:dea4bf7d-7df0-4a98-b0a8-ad3094fe796e\" xlink:type=\"simple\"><path d=\"M349,137.16 C349,144.98 349,153.69 349,161.94 \" fill=\"none\" id=\"E3-&gt;E4\" style=\"stroke: #383838; stroke-width: 1.0; stroke-dasharray: 7.0,7.0;\"/><polygon fill=\"#383838\" points=\"349,170,352,162,346,162,349,170\" style=\"stroke: #383838; stroke-width: 1.0;\"/><text fill=\"#000000\" font-family=\"sans-serif\" font-size=\"13\" lengthAdjust=\"spacingAndGlyphs\" textLength=\"64\" x=\"350\" y=\"158.0669\">«depend»</text></a><!--MD5=[1b7591eae5389033d8d09a9d6721a717]\n",
       "link E4 to E5--><a href=\"psysml:6c12c767-a343-4222-b71b-448a215deadc\" target=\"_top\" title=\"psysml:6c12c767-a343-4222-b71b-448a215deadc\" xlink:actuate=\"onRequest\" xlink:href=\"psysml:6c12c767-a343-4222-b71b-448a215deadc\" xlink:show=\"new\" xlink:title=\"psysml:6c12c767-a343-4222-b71b-448a215deadc\" xlink:type=\"simple\"><path d=\"M349,223.16 C349,230.98 349,239.69 349,247.94 \" fill=\"none\" id=\"E4-&gt;E5\" style=\"stroke: #383838; stroke-width: 1.0; stroke-dasharray: 7.0,7.0;\"/><polygon fill=\"#383838\" points=\"349,256,352,248,346,248,349,256\" style=\"stroke: #383838; stroke-width: 1.0;\"/><text fill=\"#000000\" font-family=\"sans-serif\" font-size=\"13\" lengthAdjust=\"spacingAndGlyphs\" textLength=\"64\" x=\"350\" y=\"244.0669\">«depend»</text></a><!--MD5=[c5e8897d989ce984f93528998a7150fe]\n",
       "link E8 to E6--><a href=\"psysml:2c14e4ca-efb9-4e12-a147-b41b8d65befc\" target=\"_top\" title=\"psysml:2c14e4ca-efb9-4e12-a147-b41b8d65befc\" xlink:actuate=\"onRequest\" xlink:href=\"psysml:2c14e4ca-efb9-4e12-a147-b41b8d65befc\" xlink:show=\"new\" xlink:title=\"psysml:2c14e4ca-efb9-4e12-a147-b41b8d65befc\" xlink:type=\"simple\"><path d=\"M84.49,125.34 C76.34,130.27 68.69,136.72 64,145 C60.54,151.1 59.62,158.31 60,165.33 \" fill=\"none\" id=\"E8-&gt;E6\" style=\"stroke: #383838; stroke-width: 1.0; stroke-dasharray: 7.0,7.0;\"/><polygon fill=\"#383838\" points=\"60.97,173.42,63.0061,165.1221,57.0479,165.8294,60.97,173.42\" style=\"stroke: #383838; stroke-width: 1.0;\"/><text fill=\"#000000\" font-family=\"sans-serif\" font-size=\"13\" lengthAdjust=\"spacingAndGlyphs\" textLength=\"64\" x=\"65\" y=\"158.0669\">«depend»</text></a><!--MD5=[bfa3c8b0d15052fdf50ae9310b491027]\n",
       "link E8 to E7--><a href=\"psysml:2c14e4ca-efb9-4e12-a147-b41b8d65befc\" target=\"_top\" title=\"psysml:2c14e4ca-efb9-4e12-a147-b41b8d65befc\" xlink:actuate=\"onRequest\" xlink:href=\"psysml:2c14e4ca-efb9-4e12-a147-b41b8d65befc\" xlink:show=\"new\" xlink:title=\"psysml:2c14e4ca-efb9-4e12-a147-b41b8d65befc\" xlink:type=\"simple\"><path d=\"M134.19,133.57 C140.65,143.62 148.38,155.65 155.31,166.42 \" fill=\"none\" id=\"E8-&gt;E7\" style=\"stroke: #383838; stroke-width: 1.0; stroke-dasharray: 7.0,7.0;\"/><polygon fill=\"#383838\" points=\"159.72,173.29,157.9148,164.9389,152.8688,168.185,159.72,173.29\" style=\"stroke: #383838; stroke-width: 1.0;\"/><text fill=\"#000000\" font-family=\"sans-serif\" font-size=\"13\" lengthAdjust=\"spacingAndGlyphs\" textLength=\"64\" x=\"152\" y=\"158.0669\">«depend»</text></a><!--MD5=[2e1c76d25a11f4eea62538f87f73a9d9]\n",
       "@startuml\r\n",
       "skinparam ranksep 10\r\n",
       "skinparam rectangle {\r\n",
       " backgroundColor<<block>> LightGreen\r\n",
       "}\r\n",
       "skinparam monochrome true\r\n",
       "skinparam classbackgroundcolor white\r\n",
       "skinparam shadowing false\r\n",
       "skinparam wrapWidth 300\r\n",
       "hide circle\r\n",
       "\r\n",
       "package \"DependencyTest\" as E1  [[psysml:cce2acdd-5299-4277-a359-760a7748f1a5 ]]  {\r\n",
       "package \"System\" as E2  [[psysml:fe0450d0-807d-48bf-914f-f99eea0aac67 ]]  {\r\n",
       "package \"Application Layer\" as E3  [[psysml:b4c6803f-b500-4ed2-a89b-7b27b2a9486d ]]  {\r\n",
       "}\r\n",
       "package \"Service Layer\" as E4  [[psysml:66b88940-ae34-45ae-8eaf-0df380551b61 ]]  {\r\n",
       "}\r\n",
       "package \"Data Layer\" as E5  [[psysml:2f9cfad3-e6e2-4672-a52e-eac3ac1cc3fa ]]  {\r\n",
       "}\r\n",
       "}\r\n",
       "comp usage \"x\" as E6  <<(T,blue)attribute>> [[psysml:627607da-451a-45ac-bf2e-8d18d85231b1 ]] {\r\n",
       "}\r\n",
       "comp usage \"y\" as E7  <<(T,blue)attribute>> [[psysml:b8e81d8b-4779-47a3-b21f-b5cec6a6f06b ]] {\r\n",
       "}\r\n",
       "comp usage \"z\" as E8  <<(T,blue)attribute>> [[psysml:ff5b6b09-567c-4f7f-ac5d-5252b0115c49 ]] {\r\n",
       "}\r\n",
       "E3 ..>> E4 [[psysml:dea4bf7d-7df0-4a98-b0a8-ad3094fe796e ]] : <<depend>>\r\n",
       "E4 ..>> E5 [[psysml:6c12c767-a343-4222-b71b-448a215deadc ]] : <<depend>>\r\n",
       "E8 ..>> E6 [[psysml:2c14e4ca-efb9-4e12-a147-b41b8d65befc ]] : <<depend>>\r\n",
       "E8 ..>> E7 [[psysml:2c14e4ca-efb9-4e12-a147-b41b8d65befc ]] : <<depend>>\r\n",
       "}\r\n",
       "@enduml\r\n",
       "\n",
       "PlantUML version 1.2020.13(Sat Jun 13 12:26:38 UTC 2020)\n",
       "(EPL source distribution)\n",
       "Java Runtime: OpenJDK Runtime Environment\n",
       "JVM: OpenJDK 64-Bit Server VM\n",
       "Default Encoding: UTF-8\n",
       "Language: en\n",
       "Country: null\n",
       "--></g></svg>"
      ]
     },
     "execution_count": 40,
     "metadata": {},
     "output_type": "execute_result"
    }
   ],
   "source": [
    "%viz --style=\"DEFAULT\" --view=\"Interconnection\" \"DependencyTest\""
   ]
  },
  {
   "cell_type": "code",
   "execution_count": 41,
   "id": "bf365c50",
   "metadata": {
    "execution": {
     "iopub.execute_input": "2021-05-28T10:49:39.529664Z",
     "iopub.status.busy": "2021-05-28T10:49:39.528822Z",
     "iopub.status.idle": "2021-05-28T10:49:39.532846Z",
     "shell.execute_reply": "2021-05-28T10:49:39.529159Z"
    }
   },
   "outputs": [
    {
     "data": {
      "image/svg+xml": [
       "<?xml version=\"1.0\" encoding=\"UTF-8\" standalone=\"no\"?><svg xmlns=\"http://www.w3.org/2000/svg\" xmlns:xlink=\"http://www.w3.org/1999/xlink\" contentScriptType=\"application/ecmascript\" contentStyleType=\"text/css\" height=\"12px\" preserveAspectRatio=\"none\" style=\"width:12px;height:12px;\" version=\"1.1\" viewBox=\"0 0 12 12\" width=\"12px\" zoomAndPan=\"magnify\"><defs/><g><!--MD5=[388f21188e31bfdd97050473b19af356]\n",
       "@startuml\r\n",
       "skinparam ranksep 8\r\n",
       "skinparam monochrome true\r\n",
       "skinparam classbackgroundcolor white\r\n",
       "skinparam shadowing false\r\n",
       "skinparam wrapWidth 300\r\n",
       "hide circle\r\n",
       "\r\n",
       "@enduml\r\n",
       "\n",
       "PlantUML version 1.2020.13(Sat Jun 13 12:26:38 UTC 2020)\n",
       "(EPL source distribution)\n",
       "Java Runtime: OpenJDK Runtime Environment\n",
       "JVM: OpenJDK 64-Bit Server VM\n",
       "Default Encoding: UTF-8\n",
       "Language: en\n",
       "Country: null\n",
       "--></g></svg>"
      ]
     },
     "execution_count": 41,
     "metadata": {},
     "output_type": "execute_result"
    }
   ],
   "source": [
    "%viz --style=\"DEFAULT\" --view=\"Action\" \"DependencyTest\""
   ]
  },
  {
   "cell_type": "code",
   "execution_count": 42,
   "id": "0b1521c4",
   "metadata": {
    "execution": {
     "iopub.execute_input": "2021-05-28T10:49:39.580286Z",
     "iopub.status.busy": "2021-05-28T10:49:39.579921Z",
     "iopub.status.idle": "2021-05-28T10:49:39.613518Z",
     "shell.execute_reply": "2021-05-28T10:49:39.613196Z"
    }
   },
   "outputs": [
    {
     "data": {
      "image/svg+xml": [
       "<?xml version=\"1.0\" encoding=\"UTF-8\" standalone=\"no\"?><svg xmlns=\"http://www.w3.org/2000/svg\" xmlns:xlink=\"http://www.w3.org/1999/xlink\" contentScriptType=\"application/ecmascript\" contentStyleType=\"text/css\" height=\"449px\" preserveAspectRatio=\"none\" style=\"width:489px;height:449px;\" version=\"1.1\" viewBox=\"0 0 489 449\" width=\"489px\" zoomAndPan=\"magnify\"><defs/><g><!--MD5=[fbc87193dbaf4d95561dea2c320d4a47]\n",
       "cluster E1--><a href=\"psysml:cce2acdd-5299-4277-a359-760a7748f1a5\" target=\"_top\" title=\"psysml:cce2acdd-5299-4277-a359-760a7748f1a5\" xlink:actuate=\"onRequest\" xlink:href=\"psysml:cce2acdd-5299-4277-a359-760a7748f1a5\" xlink:show=\"new\" xlink:title=\"psysml:cce2acdd-5299-4277-a359-760a7748f1a5\" xlink:type=\"simple\"><polygon fill=\"#FFFFFF\" points=\"16,6,156,6,163,28.2969,467,28.2969,467,437,16,437,16,6\" style=\"stroke: #000000; stroke-width: 1.5;\"/><line style=\"stroke: #000000; stroke-width: 1.5;\" x1=\"16\" x2=\"163\" y1=\"28.2969\" y2=\"28.2969\"/><text fill=\"#000000\" font-family=\"sans-serif\" font-size=\"14\" font-weight=\"bold\" lengthAdjust=\"spacingAndGlyphs\" textLength=\"134\" x=\"20\" y=\"20.9951\">DependencyTest</text></a><!--MD5=[e4f7fae6ed58524ba242bb0b0d3be6b7]\n",
       "cluster E2--><a href=\"psysml:fe0450d0-807d-48bf-914f-f99eea0aac67\" target=\"_top\" title=\"psysml:fe0450d0-807d-48bf-914f-f99eea0aac67\" xlink:actuate=\"onRequest\" xlink:href=\"psysml:fe0450d0-807d-48bf-914f-f99eea0aac67\" xlink:show=\"new\" xlink:title=\"psysml:fe0450d0-807d-48bf-914f-f99eea0aac67\" xlink:type=\"simple\"><polygon fill=\"#FFFFFF\" points=\"255,49,319,49,326,71.2969,443,71.2969,443,413,255,413,255,49\" style=\"stroke: #000000; stroke-width: 1.5;\"/><line style=\"stroke: #000000; stroke-width: 1.5;\" x1=\"255\" x2=\"326\" y1=\"71.2969\" y2=\"71.2969\"/><text fill=\"#000000\" font-family=\"sans-serif\" font-size=\"14\" font-weight=\"bold\" lengthAdjust=\"spacingAndGlyphs\" textLength=\"58\" x=\"259\" y=\"63.9951\">System</text></a><!--MD5=[60a26617385b1d2d0262a64233df1f8d]\n",
       "class E6--><a href=\"psysml:627607da-451a-45ac-bf2e-8d18d85231b1\" target=\"_top\" title=\"psysml:627607da-451a-45ac-bf2e-8d18d85231b1\" xlink:actuate=\"onRequest\" xlink:href=\"psysml:627607da-451a-45ac-bf2e-8d18d85231b1\" xlink:show=\"new\" xlink:title=\"psysml:627607da-451a-45ac-bf2e-8d18d85231b1\" xlink:type=\"simple\"><rect fill=\"#FFFFFF\" height=\"45.9375\" id=\"E6\" rx=\"10\" ry=\"10\" style=\"stroke: #383838; stroke-width: 1.5;\" width=\"71\" x=\"32.5\" y=\"217.5\"/><text fill=\"#000000\" font-family=\"sans-serif\" font-size=\"12\" font-style=\"italic\" lengthAdjust=\"spacingAndGlyphs\" textLength=\"69\" x=\"33.5\" y=\"233.6387\">«attribute»</text><text fill=\"#000000\" font-family=\"sans-serif\" font-size=\"12\" lengthAdjust=\"spacingAndGlyphs\" textLength=\"6\" x=\"65\" y=\"247.6074\">x</text><line style=\"stroke: #383838; stroke-width: 1.5;\" x1=\"33.5\" x2=\"102.5\" y1=\"255.4375\" y2=\"255.4375\"/></a><!--MD5=[2156ba9850f5573cc1fc38a6a4b2f02b]\n",
       "class E7--><a href=\"psysml:b8e81d8b-4779-47a3-b21f-b5cec6a6f06b\" target=\"_top\" title=\"psysml:b8e81d8b-4779-47a3-b21f-b5cec6a6f06b\" xlink:actuate=\"onRequest\" xlink:href=\"psysml:b8e81d8b-4779-47a3-b21f-b5cec6a6f06b\" xlink:show=\"new\" xlink:title=\"psysml:b8e81d8b-4779-47a3-b21f-b5cec6a6f06b\" xlink:type=\"simple\"><rect fill=\"#FFFFFF\" height=\"45.9375\" id=\"E7\" rx=\"10\" ry=\"10\" style=\"stroke: #383838; stroke-width: 1.5;\" width=\"71\" x=\"138.5\" y=\"217.5\"/><text fill=\"#000000\" font-family=\"sans-serif\" font-size=\"12\" font-style=\"italic\" lengthAdjust=\"spacingAndGlyphs\" textLength=\"69\" x=\"139.5\" y=\"233.6387\">«attribute»</text><text fill=\"#000000\" font-family=\"sans-serif\" font-size=\"12\" lengthAdjust=\"spacingAndGlyphs\" textLength=\"6\" x=\"171\" y=\"247.6074\">y</text><line style=\"stroke: #383838; stroke-width: 1.5;\" x1=\"139.5\" x2=\"208.5\" y1=\"255.4375\" y2=\"255.4375\"/></a><!--MD5=[b9389687b975829384b498ac4b7476b2]\n",
       "class E8--><a href=\"psysml:ff5b6b09-567c-4f7f-ac5d-5252b0115c49\" target=\"_top\" title=\"psysml:ff5b6b09-567c-4f7f-ac5d-5252b0115c49\" xlink:actuate=\"onRequest\" xlink:href=\"psysml:ff5b6b09-567c-4f7f-ac5d-5252b0115c49\" xlink:show=\"new\" xlink:title=\"psysml:ff5b6b09-567c-4f7f-ac5d-5252b0115c49\" xlink:type=\"simple\"><rect fill=\"#FFFFFF\" height=\"45.9375\" id=\"E8\" rx=\"10\" ry=\"10\" style=\"stroke: #383838; stroke-width: 1.5;\" width=\"71\" x=\"84.5\" y=\"87.5\"/><text fill=\"#000000\" font-family=\"sans-serif\" font-size=\"12\" font-style=\"italic\" lengthAdjust=\"spacingAndGlyphs\" textLength=\"69\" x=\"85.5\" y=\"103.6387\">«attribute»</text><text fill=\"#000000\" font-family=\"sans-serif\" font-size=\"12\" lengthAdjust=\"spacingAndGlyphs\" textLength=\"5\" x=\"117.5\" y=\"117.6074\">z</text><line style=\"stroke: #383838; stroke-width: 1.5;\" x1=\"85.5\" x2=\"154.5\" y1=\"125.4375\" y2=\"125.4375\"/></a><a href=\"psysml:b4c6803f-b500-4ed2-a89b-7b27b2a9486d\" target=\"_top\" title=\"psysml:b4c6803f-b500-4ed2-a89b-7b27b2a9486d\" xlink:actuate=\"onRequest\" xlink:href=\"psysml:b4c6803f-b500-4ed2-a89b-7b27b2a9486d\" xlink:show=\"new\" xlink:title=\"psysml:b4c6803f-b500-4ed2-a89b-7b27b2a9486d\" xlink:type=\"simple\"><polygon fill=\"#FFFFFF\" points=\"271,84,413,84,420,106.2969,427,106.2969,427,136.5938,271,136.5938,271,84\" style=\"stroke: #000000; stroke-width: 1.5;\"/><line style=\"stroke: #000000; stroke-width: 1.5;\" x1=\"271\" x2=\"420\" y1=\"106.2969\" y2=\"106.2969\"/><text fill=\"#000000\" font-family=\"sans-serif\" font-size=\"14\" font-weight=\"bold\" lengthAdjust=\"spacingAndGlyphs\" textLength=\"136\" x=\"275\" y=\"98.9951\">Application Layer</text></a><a href=\"psysml:66b88940-ae34-45ae-8eaf-0df380551b61\" target=\"_top\" title=\"psysml:66b88940-ae34-45ae-8eaf-0df380551b61\" xlink:actuate=\"onRequest\" xlink:href=\"psysml:66b88940-ae34-45ae-8eaf-0df380551b61\" xlink:show=\"new\" xlink:title=\"psysml:66b88940-ae34-45ae-8eaf-0df380551b61\" xlink:type=\"simple\"><polygon fill=\"#FFFFFF\" points=\"285,214,399,214,406,236.2969,413,236.2969,413,266.5938,285,266.5938,285,214\" style=\"stroke: #000000; stroke-width: 1.5;\"/><line style=\"stroke: #000000; stroke-width: 1.5;\" x1=\"285\" x2=\"406\" y1=\"236.2969\" y2=\"236.2969\"/><text fill=\"#000000\" font-family=\"sans-serif\" font-size=\"14\" font-weight=\"bold\" lengthAdjust=\"spacingAndGlyphs\" textLength=\"108\" x=\"289\" y=\"228.9951\">Service Layer</text></a><a href=\"psysml:2f9cfad3-e6e2-4672-a52e-eac3ac1cc3fa\" target=\"_top\" title=\"psysml:2f9cfad3-e6e2-4672-a52e-eac3ac1cc3fa\" xlink:actuate=\"onRequest\" xlink:href=\"psysml:2f9cfad3-e6e2-4672-a52e-eac3ac1cc3fa\" xlink:show=\"new\" xlink:title=\"psysml:2f9cfad3-e6e2-4672-a52e-eac3ac1cc3fa\" xlink:type=\"simple\"><polygon fill=\"#FFFFFF\" points=\"297,344,387,344,394,366.2969,401,366.2969,401,396.5938,297,396.5938,297,344\" style=\"stroke: #000000; stroke-width: 1.5;\"/><line style=\"stroke: #000000; stroke-width: 1.5;\" x1=\"297\" x2=\"394\" y1=\"366.2969\" y2=\"366.2969\"/><text fill=\"#000000\" font-family=\"sans-serif\" font-size=\"14\" font-weight=\"bold\" lengthAdjust=\"spacingAndGlyphs\" textLength=\"84\" x=\"301\" y=\"358.9951\">Data Layer</text></a><!--MD5=[af87c684e3b0d8be13c1a698a818ef1e]\n",
       "link E3 to E4--><a href=\"psysml:dea4bf7d-7df0-4a98-b0a8-ad3094fe796e\" target=\"_top\" title=\"psysml:dea4bf7d-7df0-4a98-b0a8-ad3094fe796e\" xlink:actuate=\"onRequest\" xlink:href=\"psysml:dea4bf7d-7df0-4a98-b0a8-ad3094fe796e\" xlink:show=\"new\" xlink:title=\"psysml:dea4bf7d-7df0-4a98-b0a8-ad3094fe796e\" xlink:type=\"simple\"><path d=\"M349,137.1 C349,156.8 349,184.22 349,205.73 \" fill=\"none\" id=\"E3-&gt;E4\" style=\"stroke: #383838; stroke-width: 1.0; stroke-dasharray: 7.0,7.0;\"/><polygon fill=\"#383838\" points=\"349,213.95,352,205.95,346,205.95,349,213.95\" style=\"stroke: #383838; stroke-width: 1.0;\"/><text fill=\"#000000\" font-family=\"sans-serif\" font-size=\"13\" lengthAdjust=\"spacingAndGlyphs\" textLength=\"64\" x=\"350\" y=\"180.0669\">«depend»</text></a><!--MD5=[1b7591eae5389033d8d09a9d6721a717]\n",
       "link E4 to E5--><a href=\"psysml:6c12c767-a343-4222-b71b-448a215deadc\" target=\"_top\" title=\"psysml:6c12c767-a343-4222-b71b-448a215deadc\" xlink:actuate=\"onRequest\" xlink:href=\"psysml:6c12c767-a343-4222-b71b-448a215deadc\" xlink:show=\"new\" xlink:title=\"psysml:6c12c767-a343-4222-b71b-448a215deadc\" xlink:type=\"simple\"><path d=\"M349,267.1 C349,286.8 349,314.22 349,335.73 \" fill=\"none\" id=\"E4-&gt;E5\" style=\"stroke: #383838; stroke-width: 1.0; stroke-dasharray: 7.0,7.0;\"/><polygon fill=\"#383838\" points=\"349,343.95,352,335.95,346,335.95,349,343.95\" style=\"stroke: #383838; stroke-width: 1.0;\"/><text fill=\"#000000\" font-family=\"sans-serif\" font-size=\"13\" lengthAdjust=\"spacingAndGlyphs\" textLength=\"64\" x=\"350\" y=\"310.0669\">«depend»</text></a><!--MD5=[c5e8897d989ce984f93528998a7150fe]\n",
       "link E8 to E6--><a href=\"psysml:2c14e4ca-efb9-4e12-a147-b41b8d65befc\" target=\"_top\" title=\"psysml:2c14e4ca-efb9-4e12-a147-b41b8d65befc\" xlink:actuate=\"onRequest\" xlink:href=\"psysml:2c14e4ca-efb9-4e12-a147-b41b8d65befc\" xlink:show=\"new\" xlink:title=\"psysml:2c14e4ca-efb9-4e12-a147-b41b8d65befc\" xlink:type=\"simple\"><path d=\"M89.42,133.6 C79.35,142.68 69.37,154.11 64,167 C58.5,180.2 58.66,195.94 60.54,209.38 \" fill=\"none\" id=\"E8-&gt;E6\" style=\"stroke: #383838; stroke-width: 1.0; stroke-dasharray: 7.0,7.0;\"/><polygon fill=\"#383838\" points=\"61.9,217.4,63.517,209.0104,57.6018,210.0159,61.9,217.4\" style=\"stroke: #383838; stroke-width: 1.0;\"/><text fill=\"#000000\" font-family=\"sans-serif\" font-size=\"13\" lengthAdjust=\"spacingAndGlyphs\" textLength=\"64\" x=\"65\" y=\"180.0669\">«depend»</text></a><!--MD5=[bfa3c8b0d15052fdf50ae9310b491027]\n",
       "link E8 to E7--><a href=\"psysml:2c14e4ca-efb9-4e12-a147-b41b8d65befc\" target=\"_top\" title=\"psysml:2c14e4ca-efb9-4e12-a147-b41b8d65befc\" xlink:actuate=\"onRequest\" xlink:href=\"psysml:2c14e4ca-efb9-4e12-a147-b41b8d65befc\" xlink:show=\"new\" xlink:title=\"psysml:2c14e4ca-efb9-4e12-a147-b41b8d65befc\" xlink:type=\"simple\"><path d=\"M129.28,133.5 C138.17,154.57 151.64,186.5 161.47,209.81 \" fill=\"none\" id=\"E8-&gt;E7\" style=\"stroke: #383838; stroke-width: 1.0; stroke-dasharray: 7.0,7.0;\"/><polygon fill=\"#383838\" points=\"164.66,217.35,164.3241,208.8126,158.7933,211.1385,164.66,217.35\" style=\"stroke: #383838; stroke-width: 1.0;\"/><text fill=\"#000000\" font-family=\"sans-serif\" font-size=\"13\" lengthAdjust=\"spacingAndGlyphs\" textLength=\"64\" x=\"151\" y=\"180.0669\">«depend»</text></a><!--MD5=[9afb7894bee97cda37fadcb127cab295]\n",
       "@startuml\r\n",
       "skinparam monochrome true\r\n",
       "skinparam classbackgroundcolor white\r\n",
       "skinparam shadowing false\r\n",
       "skinparam wrapWidth 300\r\n",
       "hide circle\r\n",
       "\r\n",
       "package \"DependencyTest\" as E1  [[psysml:cce2acdd-5299-4277-a359-760a7748f1a5 ]]  {\r\n",
       "package \"System\" as E2  [[psysml:fe0450d0-807d-48bf-914f-f99eea0aac67 ]]  {\r\n",
       "package \"Application Layer\" as E3  [[psysml:b4c6803f-b500-4ed2-a89b-7b27b2a9486d ]]  {\r\n",
       "}\r\n",
       "package \"Service Layer\" as E4  [[psysml:66b88940-ae34-45ae-8eaf-0df380551b61 ]]  {\r\n",
       "}\r\n",
       "package \"Data Layer\" as E5  [[psysml:2f9cfad3-e6e2-4672-a52e-eac3ac1cc3fa ]]  {\r\n",
       "}\r\n",
       "}\r\n",
       "comp usage \"x\" as E6  <<(T,blue)attribute>> [[psysml:627607da-451a-45ac-bf2e-8d18d85231b1 ]] {\r\n",
       "}\r\n",
       "comp usage \"y\" as E7  <<(T,blue)attribute>> [[psysml:b8e81d8b-4779-47a3-b21f-b5cec6a6f06b ]] {\r\n",
       "}\r\n",
       "comp usage \"z\" as E8  <<(T,blue)attribute>> [[psysml:ff5b6b09-567c-4f7f-ac5d-5252b0115c49 ]] {\r\n",
       "}\r\n",
       "E3 ..>> E4 [[psysml:dea4bf7d-7df0-4a98-b0a8-ad3094fe796e ]] : <<depend>>\r\n",
       "E4 ..>> E5 [[psysml:6c12c767-a343-4222-b71b-448a215deadc ]] : <<depend>>\r\n",
       "E8 ..>> E6 [[psysml:2c14e4ca-efb9-4e12-a147-b41b8d65befc ]] : <<depend>>\r\n",
       "E8 ..>> E7 [[psysml:2c14e4ca-efb9-4e12-a147-b41b8d65befc ]] : <<depend>>\r\n",
       "}\r\n",
       "@enduml\r\n",
       "\n",
       "PlantUML version 1.2020.13(Sat Jun 13 12:26:38 UTC 2020)\n",
       "(EPL source distribution)\n",
       "Java Runtime: OpenJDK Runtime Environment\n",
       "JVM: OpenJDK 64-Bit Server VM\n",
       "Default Encoding: UTF-8\n",
       "Language: en\n",
       "Country: null\n",
       "--></g></svg>"
      ]
     },
     "execution_count": 42,
     "metadata": {},
     "output_type": "execute_result"
    }
   ],
   "source": [
    "%viz --style=\"DEFAULT\" --view=\"Sequence\" \"DependencyTest\""
   ]
  },
  {
   "cell_type": "code",
   "execution_count": 43,
   "id": "59bc095d",
   "metadata": {
    "execution": {
     "iopub.execute_input": "2021-05-28T10:49:39.664233Z",
     "iopub.status.busy": "2021-05-28T10:49:39.663759Z",
     "iopub.status.idle": "2021-05-28T10:49:39.702315Z",
     "shell.execute_reply": "2021-05-28T10:49:39.701265Z"
    }
   },
   "outputs": [
    {
     "data": {
      "image/svg+xml": [
       "<?xml version=\"1.0\" encoding=\"UTF-8\" standalone=\"no\"?><svg xmlns=\"http://www.w3.org/2000/svg\" xmlns:xlink=\"http://www.w3.org/1999/xlink\" contentScriptType=\"application/ecmascript\" contentStyleType=\"text/css\" height=\"449px\" preserveAspectRatio=\"none\" style=\"width:489px;height:449px;\" version=\"1.1\" viewBox=\"0 0 489 449\" width=\"489px\" zoomAndPan=\"magnify\"><defs/><g><!--MD5=[fbc87193dbaf4d95561dea2c320d4a47]\n",
       "cluster E1--><a href=\"psysml:cce2acdd-5299-4277-a359-760a7748f1a5\" target=\"_top\" title=\"psysml:cce2acdd-5299-4277-a359-760a7748f1a5\" xlink:actuate=\"onRequest\" xlink:href=\"psysml:cce2acdd-5299-4277-a359-760a7748f1a5\" xlink:show=\"new\" xlink:title=\"psysml:cce2acdd-5299-4277-a359-760a7748f1a5\" xlink:type=\"simple\"><polygon fill=\"#FFFFFF\" points=\"16,6,156,6,163,28.2969,467,28.2969,467,437,16,437,16,6\" style=\"stroke: #000000; stroke-width: 1.5;\"/><line style=\"stroke: #000000; stroke-width: 1.5;\" x1=\"16\" x2=\"163\" y1=\"28.2969\" y2=\"28.2969\"/><text fill=\"#000000\" font-family=\"sans-serif\" font-size=\"14\" font-weight=\"bold\" lengthAdjust=\"spacingAndGlyphs\" textLength=\"134\" x=\"20\" y=\"20.9951\">DependencyTest</text></a><!--MD5=[e4f7fae6ed58524ba242bb0b0d3be6b7]\n",
       "cluster E2--><a href=\"psysml:fe0450d0-807d-48bf-914f-f99eea0aac67\" target=\"_top\" title=\"psysml:fe0450d0-807d-48bf-914f-f99eea0aac67\" xlink:actuate=\"onRequest\" xlink:href=\"psysml:fe0450d0-807d-48bf-914f-f99eea0aac67\" xlink:show=\"new\" xlink:title=\"psysml:fe0450d0-807d-48bf-914f-f99eea0aac67\" xlink:type=\"simple\"><polygon fill=\"#FFFFFF\" points=\"255,49,319,49,326,71.2969,443,71.2969,443,413,255,413,255,49\" style=\"stroke: #000000; stroke-width: 1.5;\"/><line style=\"stroke: #000000; stroke-width: 1.5;\" x1=\"255\" x2=\"326\" y1=\"71.2969\" y2=\"71.2969\"/><text fill=\"#000000\" font-family=\"sans-serif\" font-size=\"14\" font-weight=\"bold\" lengthAdjust=\"spacingAndGlyphs\" textLength=\"58\" x=\"259\" y=\"63.9951\">System</text></a><!--MD5=[60a26617385b1d2d0262a64233df1f8d]\n",
       "class E6--><a href=\"psysml:627607da-451a-45ac-bf2e-8d18d85231b1\" target=\"_top\" title=\"psysml:627607da-451a-45ac-bf2e-8d18d85231b1\" xlink:actuate=\"onRequest\" xlink:href=\"psysml:627607da-451a-45ac-bf2e-8d18d85231b1\" xlink:show=\"new\" xlink:title=\"psysml:627607da-451a-45ac-bf2e-8d18d85231b1\" xlink:type=\"simple\"><rect fill=\"#FFFFFF\" height=\"45.9375\" id=\"E6\" rx=\"10\" ry=\"10\" style=\"stroke: #383838; stroke-width: 1.5;\" width=\"71\" x=\"32.5\" y=\"217.5\"/><text fill=\"#000000\" font-family=\"sans-serif\" font-size=\"12\" font-style=\"italic\" lengthAdjust=\"spacingAndGlyphs\" textLength=\"69\" x=\"33.5\" y=\"233.6387\">«attribute»</text><text fill=\"#000000\" font-family=\"sans-serif\" font-size=\"12\" lengthAdjust=\"spacingAndGlyphs\" textLength=\"6\" x=\"65\" y=\"247.6074\">x</text><line style=\"stroke: #383838; stroke-width: 1.5;\" x1=\"33.5\" x2=\"102.5\" y1=\"255.4375\" y2=\"255.4375\"/></a><!--MD5=[2156ba9850f5573cc1fc38a6a4b2f02b]\n",
       "class E7--><a href=\"psysml:b8e81d8b-4779-47a3-b21f-b5cec6a6f06b\" target=\"_top\" title=\"psysml:b8e81d8b-4779-47a3-b21f-b5cec6a6f06b\" xlink:actuate=\"onRequest\" xlink:href=\"psysml:b8e81d8b-4779-47a3-b21f-b5cec6a6f06b\" xlink:show=\"new\" xlink:title=\"psysml:b8e81d8b-4779-47a3-b21f-b5cec6a6f06b\" xlink:type=\"simple\"><rect fill=\"#FFFFFF\" height=\"45.9375\" id=\"E7\" rx=\"10\" ry=\"10\" style=\"stroke: #383838; stroke-width: 1.5;\" width=\"71\" x=\"138.5\" y=\"217.5\"/><text fill=\"#000000\" font-family=\"sans-serif\" font-size=\"12\" font-style=\"italic\" lengthAdjust=\"spacingAndGlyphs\" textLength=\"69\" x=\"139.5\" y=\"233.6387\">«attribute»</text><text fill=\"#000000\" font-family=\"sans-serif\" font-size=\"12\" lengthAdjust=\"spacingAndGlyphs\" textLength=\"6\" x=\"171\" y=\"247.6074\">y</text><line style=\"stroke: #383838; stroke-width: 1.5;\" x1=\"139.5\" x2=\"208.5\" y1=\"255.4375\" y2=\"255.4375\"/></a><!--MD5=[b9389687b975829384b498ac4b7476b2]\n",
       "class E8--><a href=\"psysml:ff5b6b09-567c-4f7f-ac5d-5252b0115c49\" target=\"_top\" title=\"psysml:ff5b6b09-567c-4f7f-ac5d-5252b0115c49\" xlink:actuate=\"onRequest\" xlink:href=\"psysml:ff5b6b09-567c-4f7f-ac5d-5252b0115c49\" xlink:show=\"new\" xlink:title=\"psysml:ff5b6b09-567c-4f7f-ac5d-5252b0115c49\" xlink:type=\"simple\"><rect fill=\"#FFFFFF\" height=\"45.9375\" id=\"E8\" rx=\"10\" ry=\"10\" style=\"stroke: #383838; stroke-width: 1.5;\" width=\"71\" x=\"84.5\" y=\"87.5\"/><text fill=\"#000000\" font-family=\"sans-serif\" font-size=\"12\" font-style=\"italic\" lengthAdjust=\"spacingAndGlyphs\" textLength=\"69\" x=\"85.5\" y=\"103.6387\">«attribute»</text><text fill=\"#000000\" font-family=\"sans-serif\" font-size=\"12\" lengthAdjust=\"spacingAndGlyphs\" textLength=\"5\" x=\"117.5\" y=\"117.6074\">z</text><line style=\"stroke: #383838; stroke-width: 1.5;\" x1=\"85.5\" x2=\"154.5\" y1=\"125.4375\" y2=\"125.4375\"/></a><a href=\"psysml:b4c6803f-b500-4ed2-a89b-7b27b2a9486d\" target=\"_top\" title=\"psysml:b4c6803f-b500-4ed2-a89b-7b27b2a9486d\" xlink:actuate=\"onRequest\" xlink:href=\"psysml:b4c6803f-b500-4ed2-a89b-7b27b2a9486d\" xlink:show=\"new\" xlink:title=\"psysml:b4c6803f-b500-4ed2-a89b-7b27b2a9486d\" xlink:type=\"simple\"><polygon fill=\"#FFFFFF\" points=\"271,84,413,84,420,106.2969,427,106.2969,427,136.5938,271,136.5938,271,84\" style=\"stroke: #000000; stroke-width: 1.5;\"/><line style=\"stroke: #000000; stroke-width: 1.5;\" x1=\"271\" x2=\"420\" y1=\"106.2969\" y2=\"106.2969\"/><text fill=\"#000000\" font-family=\"sans-serif\" font-size=\"14\" font-weight=\"bold\" lengthAdjust=\"spacingAndGlyphs\" textLength=\"136\" x=\"275\" y=\"98.9951\">Application Layer</text></a><a href=\"psysml:66b88940-ae34-45ae-8eaf-0df380551b61\" target=\"_top\" title=\"psysml:66b88940-ae34-45ae-8eaf-0df380551b61\" xlink:actuate=\"onRequest\" xlink:href=\"psysml:66b88940-ae34-45ae-8eaf-0df380551b61\" xlink:show=\"new\" xlink:title=\"psysml:66b88940-ae34-45ae-8eaf-0df380551b61\" xlink:type=\"simple\"><polygon fill=\"#FFFFFF\" points=\"285,214,399,214,406,236.2969,413,236.2969,413,266.5938,285,266.5938,285,214\" style=\"stroke: #000000; stroke-width: 1.5;\"/><line style=\"stroke: #000000; stroke-width: 1.5;\" x1=\"285\" x2=\"406\" y1=\"236.2969\" y2=\"236.2969\"/><text fill=\"#000000\" font-family=\"sans-serif\" font-size=\"14\" font-weight=\"bold\" lengthAdjust=\"spacingAndGlyphs\" textLength=\"108\" x=\"289\" y=\"228.9951\">Service Layer</text></a><a href=\"psysml:2f9cfad3-e6e2-4672-a52e-eac3ac1cc3fa\" target=\"_top\" title=\"psysml:2f9cfad3-e6e2-4672-a52e-eac3ac1cc3fa\" xlink:actuate=\"onRequest\" xlink:href=\"psysml:2f9cfad3-e6e2-4672-a52e-eac3ac1cc3fa\" xlink:show=\"new\" xlink:title=\"psysml:2f9cfad3-e6e2-4672-a52e-eac3ac1cc3fa\" xlink:type=\"simple\"><polygon fill=\"#FFFFFF\" points=\"297,344,387,344,394,366.2969,401,366.2969,401,396.5938,297,396.5938,297,344\" style=\"stroke: #000000; stroke-width: 1.5;\"/><line style=\"stroke: #000000; stroke-width: 1.5;\" x1=\"297\" x2=\"394\" y1=\"366.2969\" y2=\"366.2969\"/><text fill=\"#000000\" font-family=\"sans-serif\" font-size=\"14\" font-weight=\"bold\" lengthAdjust=\"spacingAndGlyphs\" textLength=\"84\" x=\"301\" y=\"358.9951\">Data Layer</text></a><!--MD5=[af87c684e3b0d8be13c1a698a818ef1e]\n",
       "link E3 to E4--><a href=\"psysml:dea4bf7d-7df0-4a98-b0a8-ad3094fe796e\" target=\"_top\" title=\"psysml:dea4bf7d-7df0-4a98-b0a8-ad3094fe796e\" xlink:actuate=\"onRequest\" xlink:href=\"psysml:dea4bf7d-7df0-4a98-b0a8-ad3094fe796e\" xlink:show=\"new\" xlink:title=\"psysml:dea4bf7d-7df0-4a98-b0a8-ad3094fe796e\" xlink:type=\"simple\"><path d=\"M349,137.1 C349,156.8 349,184.22 349,205.73 \" fill=\"none\" id=\"E3-&gt;E4\" style=\"stroke: #383838; stroke-width: 1.0; stroke-dasharray: 7.0,7.0;\"/><polygon fill=\"#383838\" points=\"349,213.95,352,205.95,346,205.95,349,213.95\" style=\"stroke: #383838; stroke-width: 1.0;\"/><text fill=\"#000000\" font-family=\"sans-serif\" font-size=\"13\" lengthAdjust=\"spacingAndGlyphs\" textLength=\"64\" x=\"350\" y=\"180.0669\">«depend»</text></a><!--MD5=[1b7591eae5389033d8d09a9d6721a717]\n",
       "link E4 to E5--><a href=\"psysml:6c12c767-a343-4222-b71b-448a215deadc\" target=\"_top\" title=\"psysml:6c12c767-a343-4222-b71b-448a215deadc\" xlink:actuate=\"onRequest\" xlink:href=\"psysml:6c12c767-a343-4222-b71b-448a215deadc\" xlink:show=\"new\" xlink:title=\"psysml:6c12c767-a343-4222-b71b-448a215deadc\" xlink:type=\"simple\"><path d=\"M349,267.1 C349,286.8 349,314.22 349,335.73 \" fill=\"none\" id=\"E4-&gt;E5\" style=\"stroke: #383838; stroke-width: 1.0; stroke-dasharray: 7.0,7.0;\"/><polygon fill=\"#383838\" points=\"349,343.95,352,335.95,346,335.95,349,343.95\" style=\"stroke: #383838; stroke-width: 1.0;\"/><text fill=\"#000000\" font-family=\"sans-serif\" font-size=\"13\" lengthAdjust=\"spacingAndGlyphs\" textLength=\"64\" x=\"350\" y=\"310.0669\">«depend»</text></a><!--MD5=[c5e8897d989ce984f93528998a7150fe]\n",
       "link E8 to E6--><a href=\"psysml:2c14e4ca-efb9-4e12-a147-b41b8d65befc\" target=\"_top\" title=\"psysml:2c14e4ca-efb9-4e12-a147-b41b8d65befc\" xlink:actuate=\"onRequest\" xlink:href=\"psysml:2c14e4ca-efb9-4e12-a147-b41b8d65befc\" xlink:show=\"new\" xlink:title=\"psysml:2c14e4ca-efb9-4e12-a147-b41b8d65befc\" xlink:type=\"simple\"><path d=\"M89.42,133.6 C79.35,142.68 69.37,154.11 64,167 C58.5,180.2 58.66,195.94 60.54,209.38 \" fill=\"none\" id=\"E8-&gt;E6\" style=\"stroke: #383838; stroke-width: 1.0; stroke-dasharray: 7.0,7.0;\"/><polygon fill=\"#383838\" points=\"61.9,217.4,63.517,209.0104,57.6018,210.0159,61.9,217.4\" style=\"stroke: #383838; stroke-width: 1.0;\"/><text fill=\"#000000\" font-family=\"sans-serif\" font-size=\"13\" lengthAdjust=\"spacingAndGlyphs\" textLength=\"64\" x=\"65\" y=\"180.0669\">«depend»</text></a><!--MD5=[bfa3c8b0d15052fdf50ae9310b491027]\n",
       "link E8 to E7--><a href=\"psysml:2c14e4ca-efb9-4e12-a147-b41b8d65befc\" target=\"_top\" title=\"psysml:2c14e4ca-efb9-4e12-a147-b41b8d65befc\" xlink:actuate=\"onRequest\" xlink:href=\"psysml:2c14e4ca-efb9-4e12-a147-b41b8d65befc\" xlink:show=\"new\" xlink:title=\"psysml:2c14e4ca-efb9-4e12-a147-b41b8d65befc\" xlink:type=\"simple\"><path d=\"M129.28,133.5 C138.17,154.57 151.64,186.5 161.47,209.81 \" fill=\"none\" id=\"E8-&gt;E7\" style=\"stroke: #383838; stroke-width: 1.0; stroke-dasharray: 7.0,7.0;\"/><polygon fill=\"#383838\" points=\"164.66,217.35,164.3241,208.8126,158.7933,211.1385,164.66,217.35\" style=\"stroke: #383838; stroke-width: 1.0;\"/><text fill=\"#000000\" font-family=\"sans-serif\" font-size=\"13\" lengthAdjust=\"spacingAndGlyphs\" textLength=\"64\" x=\"151\" y=\"180.0669\">«depend»</text></a><!--MD5=[9afb7894bee97cda37fadcb127cab295]\n",
       "@startuml\r\n",
       "skinparam monochrome true\r\n",
       "skinparam classbackgroundcolor white\r\n",
       "skinparam shadowing false\r\n",
       "skinparam wrapWidth 300\r\n",
       "hide circle\r\n",
       "\r\n",
       "package \"DependencyTest\" as E1  [[psysml:cce2acdd-5299-4277-a359-760a7748f1a5 ]]  {\r\n",
       "package \"System\" as E2  [[psysml:fe0450d0-807d-48bf-914f-f99eea0aac67 ]]  {\r\n",
       "package \"Application Layer\" as E3  [[psysml:b4c6803f-b500-4ed2-a89b-7b27b2a9486d ]]  {\r\n",
       "}\r\n",
       "package \"Service Layer\" as E4  [[psysml:66b88940-ae34-45ae-8eaf-0df380551b61 ]]  {\r\n",
       "}\r\n",
       "package \"Data Layer\" as E5  [[psysml:2f9cfad3-e6e2-4672-a52e-eac3ac1cc3fa ]]  {\r\n",
       "}\r\n",
       "}\r\n",
       "comp usage \"x\" as E6  <<(T,blue)attribute>> [[psysml:627607da-451a-45ac-bf2e-8d18d85231b1 ]] {\r\n",
       "}\r\n",
       "comp usage \"y\" as E7  <<(T,blue)attribute>> [[psysml:b8e81d8b-4779-47a3-b21f-b5cec6a6f06b ]] {\r\n",
       "}\r\n",
       "comp usage \"z\" as E8  <<(T,blue)attribute>> [[psysml:ff5b6b09-567c-4f7f-ac5d-5252b0115c49 ]] {\r\n",
       "}\r\n",
       "E3 ..>> E4 [[psysml:dea4bf7d-7df0-4a98-b0a8-ad3094fe796e ]] : <<depend>>\r\n",
       "E4 ..>> E5 [[psysml:6c12c767-a343-4222-b71b-448a215deadc ]] : <<depend>>\r\n",
       "E8 ..>> E6 [[psysml:2c14e4ca-efb9-4e12-a147-b41b8d65befc ]] : <<depend>>\r\n",
       "E8 ..>> E7 [[psysml:2c14e4ca-efb9-4e12-a147-b41b8d65befc ]] : <<depend>>\r\n",
       "}\r\n",
       "@enduml\r\n",
       "\n",
       "PlantUML version 1.2020.13(Sat Jun 13 12:26:38 UTC 2020)\n",
       "(EPL source distribution)\n",
       "Java Runtime: OpenJDK Runtime Environment\n",
       "JVM: OpenJDK 64-Bit Server VM\n",
       "Default Encoding: UTF-8\n",
       "Language: en\n",
       "Country: null\n",
       "--></g></svg>"
      ]
     },
     "execution_count": 43,
     "metadata": {},
     "output_type": "execute_result"
    }
   ],
   "source": [
    "%viz --style=\"DEFAULT\" --view=\"MIXED\" \"DependencyTest\""
   ]
  },
  {
   "cell_type": "code",
   "execution_count": 44,
   "id": "a7df1f72",
   "metadata": {
    "execution": {
     "iopub.execute_input": "2021-05-28T10:49:39.750829Z",
     "iopub.status.busy": "2021-05-28T10:49:39.750334Z",
     "iopub.status.idle": "2021-05-28T10:49:39.783965Z",
     "shell.execute_reply": "2021-05-28T10:49:39.782541Z"
    }
   },
   "outputs": [
    {
     "data": {
      "image/svg+xml": [
       "<?xml version=\"1.0\" encoding=\"UTF-8\" standalone=\"no\"?><svg xmlns=\"http://www.w3.org/2000/svg\" xmlns:xlink=\"http://www.w3.org/1999/xlink\" contentScriptType=\"application/ecmascript\" contentStyleType=\"text/css\" height=\"449px\" preserveAspectRatio=\"none\" style=\"width:489px;height:449px;\" version=\"1.1\" viewBox=\"0 0 489 449\" width=\"489px\" zoomAndPan=\"magnify\"><defs/><g><!--MD5=[fbc87193dbaf4d95561dea2c320d4a47]\n",
       "cluster E1--><a href=\"psysml:cce2acdd-5299-4277-a359-760a7748f1a5\" target=\"_top\" title=\"psysml:cce2acdd-5299-4277-a359-760a7748f1a5\" xlink:actuate=\"onRequest\" xlink:href=\"psysml:cce2acdd-5299-4277-a359-760a7748f1a5\" xlink:show=\"new\" xlink:title=\"psysml:cce2acdd-5299-4277-a359-760a7748f1a5\" xlink:type=\"simple\"><polygon fill=\"#FFFFFF\" points=\"16,6,156,6,163,28.2969,467,28.2969,467,437,16,437,16,6\" style=\"stroke: #000000; stroke-width: 1.5;\"/><line style=\"stroke: #000000; stroke-width: 1.5;\" x1=\"16\" x2=\"163\" y1=\"28.2969\" y2=\"28.2969\"/><text fill=\"#000000\" font-family=\"sans-serif\" font-size=\"14\" font-weight=\"bold\" lengthAdjust=\"spacingAndGlyphs\" textLength=\"134\" x=\"20\" y=\"20.9951\">DependencyTest</text></a><!--MD5=[e4f7fae6ed58524ba242bb0b0d3be6b7]\n",
       "cluster E2--><a href=\"psysml:fe0450d0-807d-48bf-914f-f99eea0aac67\" target=\"_top\" title=\"psysml:fe0450d0-807d-48bf-914f-f99eea0aac67\" xlink:actuate=\"onRequest\" xlink:href=\"psysml:fe0450d0-807d-48bf-914f-f99eea0aac67\" xlink:show=\"new\" xlink:title=\"psysml:fe0450d0-807d-48bf-914f-f99eea0aac67\" xlink:type=\"simple\"><polygon fill=\"#FFFFFF\" points=\"255,49,319,49,326,71.2969,443,71.2969,443,413,255,413,255,49\" style=\"stroke: #000000; stroke-width: 1.5;\"/><line style=\"stroke: #000000; stroke-width: 1.5;\" x1=\"255\" x2=\"326\" y1=\"71.2969\" y2=\"71.2969\"/><text fill=\"#000000\" font-family=\"sans-serif\" font-size=\"14\" font-weight=\"bold\" lengthAdjust=\"spacingAndGlyphs\" textLength=\"58\" x=\"259\" y=\"63.9951\">System</text></a><!--MD5=[60a26617385b1d2d0262a64233df1f8d]\n",
       "class E6--><a href=\"psysml:627607da-451a-45ac-bf2e-8d18d85231b1\" target=\"_top\" title=\"psysml:627607da-451a-45ac-bf2e-8d18d85231b1\" xlink:actuate=\"onRequest\" xlink:href=\"psysml:627607da-451a-45ac-bf2e-8d18d85231b1\" xlink:show=\"new\" xlink:title=\"psysml:627607da-451a-45ac-bf2e-8d18d85231b1\" xlink:type=\"simple\"><rect fill=\"#FFFFFF\" height=\"45.9375\" id=\"E6\" rx=\"10\" ry=\"10\" style=\"stroke: #383838; stroke-width: 1.5;\" width=\"71\" x=\"32.5\" y=\"217.5\"/><text fill=\"#000000\" font-family=\"sans-serif\" font-size=\"12\" font-style=\"italic\" lengthAdjust=\"spacingAndGlyphs\" textLength=\"69\" x=\"33.5\" y=\"233.6387\">«attribute»</text><text fill=\"#000000\" font-family=\"sans-serif\" font-size=\"12\" lengthAdjust=\"spacingAndGlyphs\" textLength=\"6\" x=\"65\" y=\"247.6074\">x</text><line style=\"stroke: #383838; stroke-width: 1.5;\" x1=\"33.5\" x2=\"102.5\" y1=\"255.4375\" y2=\"255.4375\"/></a><!--MD5=[2156ba9850f5573cc1fc38a6a4b2f02b]\n",
       "class E7--><a href=\"psysml:b8e81d8b-4779-47a3-b21f-b5cec6a6f06b\" target=\"_top\" title=\"psysml:b8e81d8b-4779-47a3-b21f-b5cec6a6f06b\" xlink:actuate=\"onRequest\" xlink:href=\"psysml:b8e81d8b-4779-47a3-b21f-b5cec6a6f06b\" xlink:show=\"new\" xlink:title=\"psysml:b8e81d8b-4779-47a3-b21f-b5cec6a6f06b\" xlink:type=\"simple\"><rect fill=\"#FFFFFF\" height=\"45.9375\" id=\"E7\" rx=\"10\" ry=\"10\" style=\"stroke: #383838; stroke-width: 1.5;\" width=\"71\" x=\"138.5\" y=\"217.5\"/><text fill=\"#000000\" font-family=\"sans-serif\" font-size=\"12\" font-style=\"italic\" lengthAdjust=\"spacingAndGlyphs\" textLength=\"69\" x=\"139.5\" y=\"233.6387\">«attribute»</text><text fill=\"#000000\" font-family=\"sans-serif\" font-size=\"12\" lengthAdjust=\"spacingAndGlyphs\" textLength=\"6\" x=\"171\" y=\"247.6074\">y</text><line style=\"stroke: #383838; stroke-width: 1.5;\" x1=\"139.5\" x2=\"208.5\" y1=\"255.4375\" y2=\"255.4375\"/></a><!--MD5=[b9389687b975829384b498ac4b7476b2]\n",
       "class E8--><a href=\"psysml:ff5b6b09-567c-4f7f-ac5d-5252b0115c49\" target=\"_top\" title=\"psysml:ff5b6b09-567c-4f7f-ac5d-5252b0115c49\" xlink:actuate=\"onRequest\" xlink:href=\"psysml:ff5b6b09-567c-4f7f-ac5d-5252b0115c49\" xlink:show=\"new\" xlink:title=\"psysml:ff5b6b09-567c-4f7f-ac5d-5252b0115c49\" xlink:type=\"simple\"><rect fill=\"#FFFFFF\" height=\"45.9375\" id=\"E8\" rx=\"10\" ry=\"10\" style=\"stroke: #383838; stroke-width: 1.5;\" width=\"71\" x=\"84.5\" y=\"87.5\"/><text fill=\"#000000\" font-family=\"sans-serif\" font-size=\"12\" font-style=\"italic\" lengthAdjust=\"spacingAndGlyphs\" textLength=\"69\" x=\"85.5\" y=\"103.6387\">«attribute»</text><text fill=\"#000000\" font-family=\"sans-serif\" font-size=\"12\" lengthAdjust=\"spacingAndGlyphs\" textLength=\"5\" x=\"117.5\" y=\"117.6074\">z</text><line style=\"stroke: #383838; stroke-width: 1.5;\" x1=\"85.5\" x2=\"154.5\" y1=\"125.4375\" y2=\"125.4375\"/></a><a href=\"psysml:b4c6803f-b500-4ed2-a89b-7b27b2a9486d\" target=\"_top\" title=\"psysml:b4c6803f-b500-4ed2-a89b-7b27b2a9486d\" xlink:actuate=\"onRequest\" xlink:href=\"psysml:b4c6803f-b500-4ed2-a89b-7b27b2a9486d\" xlink:show=\"new\" xlink:title=\"psysml:b4c6803f-b500-4ed2-a89b-7b27b2a9486d\" xlink:type=\"simple\"><polygon fill=\"#FFFFFF\" points=\"271,84,413,84,420,106.2969,427,106.2969,427,136.5938,271,136.5938,271,84\" style=\"stroke: #000000; stroke-width: 1.5;\"/><line style=\"stroke: #000000; stroke-width: 1.5;\" x1=\"271\" x2=\"420\" y1=\"106.2969\" y2=\"106.2969\"/><text fill=\"#000000\" font-family=\"sans-serif\" font-size=\"14\" font-weight=\"bold\" lengthAdjust=\"spacingAndGlyphs\" textLength=\"136\" x=\"275\" y=\"98.9951\">Application Layer</text></a><a href=\"psysml:66b88940-ae34-45ae-8eaf-0df380551b61\" target=\"_top\" title=\"psysml:66b88940-ae34-45ae-8eaf-0df380551b61\" xlink:actuate=\"onRequest\" xlink:href=\"psysml:66b88940-ae34-45ae-8eaf-0df380551b61\" xlink:show=\"new\" xlink:title=\"psysml:66b88940-ae34-45ae-8eaf-0df380551b61\" xlink:type=\"simple\"><polygon fill=\"#FFFFFF\" points=\"285,214,399,214,406,236.2969,413,236.2969,413,266.5938,285,266.5938,285,214\" style=\"stroke: #000000; stroke-width: 1.5;\"/><line style=\"stroke: #000000; stroke-width: 1.5;\" x1=\"285\" x2=\"406\" y1=\"236.2969\" y2=\"236.2969\"/><text fill=\"#000000\" font-family=\"sans-serif\" font-size=\"14\" font-weight=\"bold\" lengthAdjust=\"spacingAndGlyphs\" textLength=\"108\" x=\"289\" y=\"228.9951\">Service Layer</text></a><a href=\"psysml:2f9cfad3-e6e2-4672-a52e-eac3ac1cc3fa\" target=\"_top\" title=\"psysml:2f9cfad3-e6e2-4672-a52e-eac3ac1cc3fa\" xlink:actuate=\"onRequest\" xlink:href=\"psysml:2f9cfad3-e6e2-4672-a52e-eac3ac1cc3fa\" xlink:show=\"new\" xlink:title=\"psysml:2f9cfad3-e6e2-4672-a52e-eac3ac1cc3fa\" xlink:type=\"simple\"><polygon fill=\"#FFFFFF\" points=\"297,344,387,344,394,366.2969,401,366.2969,401,396.5938,297,396.5938,297,344\" style=\"stroke: #000000; stroke-width: 1.5;\"/><line style=\"stroke: #000000; stroke-width: 1.5;\" x1=\"297\" x2=\"394\" y1=\"366.2969\" y2=\"366.2969\"/><text fill=\"#000000\" font-family=\"sans-serif\" font-size=\"14\" font-weight=\"bold\" lengthAdjust=\"spacingAndGlyphs\" textLength=\"84\" x=\"301\" y=\"358.9951\">Data Layer</text></a><!--MD5=[af87c684e3b0d8be13c1a698a818ef1e]\n",
       "link E3 to E4--><a href=\"psysml:dea4bf7d-7df0-4a98-b0a8-ad3094fe796e\" target=\"_top\" title=\"psysml:dea4bf7d-7df0-4a98-b0a8-ad3094fe796e\" xlink:actuate=\"onRequest\" xlink:href=\"psysml:dea4bf7d-7df0-4a98-b0a8-ad3094fe796e\" xlink:show=\"new\" xlink:title=\"psysml:dea4bf7d-7df0-4a98-b0a8-ad3094fe796e\" xlink:type=\"simple\"><path d=\"M349,137.1 C349,156.8 349,184.22 349,205.73 \" fill=\"none\" id=\"E3-&gt;E4\" style=\"stroke: #383838; stroke-width: 1.0; stroke-dasharray: 7.0,7.0;\"/><polygon fill=\"#383838\" points=\"349,213.95,352,205.95,346,205.95,349,213.95\" style=\"stroke: #383838; stroke-width: 1.0;\"/><text fill=\"#000000\" font-family=\"sans-serif\" font-size=\"13\" lengthAdjust=\"spacingAndGlyphs\" textLength=\"64\" x=\"350\" y=\"180.0669\">«depend»</text></a><!--MD5=[1b7591eae5389033d8d09a9d6721a717]\n",
       "link E4 to E5--><a href=\"psysml:6c12c767-a343-4222-b71b-448a215deadc\" target=\"_top\" title=\"psysml:6c12c767-a343-4222-b71b-448a215deadc\" xlink:actuate=\"onRequest\" xlink:href=\"psysml:6c12c767-a343-4222-b71b-448a215deadc\" xlink:show=\"new\" xlink:title=\"psysml:6c12c767-a343-4222-b71b-448a215deadc\" xlink:type=\"simple\"><path d=\"M349,267.1 C349,286.8 349,314.22 349,335.73 \" fill=\"none\" id=\"E4-&gt;E5\" style=\"stroke: #383838; stroke-width: 1.0; stroke-dasharray: 7.0,7.0;\"/><polygon fill=\"#383838\" points=\"349,343.95,352,335.95,346,335.95,349,343.95\" style=\"stroke: #383838; stroke-width: 1.0;\"/><text fill=\"#000000\" font-family=\"sans-serif\" font-size=\"13\" lengthAdjust=\"spacingAndGlyphs\" textLength=\"64\" x=\"350\" y=\"310.0669\">«depend»</text></a><!--MD5=[c5e8897d989ce984f93528998a7150fe]\n",
       "link E8 to E6--><a href=\"psysml:2c14e4ca-efb9-4e12-a147-b41b8d65befc\" target=\"_top\" title=\"psysml:2c14e4ca-efb9-4e12-a147-b41b8d65befc\" xlink:actuate=\"onRequest\" xlink:href=\"psysml:2c14e4ca-efb9-4e12-a147-b41b8d65befc\" xlink:show=\"new\" xlink:title=\"psysml:2c14e4ca-efb9-4e12-a147-b41b8d65befc\" xlink:type=\"simple\"><path d=\"M89.42,133.6 C79.35,142.68 69.37,154.11 64,167 C58.5,180.2 58.66,195.94 60.54,209.38 \" fill=\"none\" id=\"E8-&gt;E6\" style=\"stroke: #383838; stroke-width: 1.0; stroke-dasharray: 7.0,7.0;\"/><polygon fill=\"#383838\" points=\"61.9,217.4,63.517,209.0104,57.6018,210.0159,61.9,217.4\" style=\"stroke: #383838; stroke-width: 1.0;\"/><text fill=\"#000000\" font-family=\"sans-serif\" font-size=\"13\" lengthAdjust=\"spacingAndGlyphs\" textLength=\"64\" x=\"65\" y=\"180.0669\">«depend»</text></a><!--MD5=[bfa3c8b0d15052fdf50ae9310b491027]\n",
       "link E8 to E7--><a href=\"psysml:2c14e4ca-efb9-4e12-a147-b41b8d65befc\" target=\"_top\" title=\"psysml:2c14e4ca-efb9-4e12-a147-b41b8d65befc\" xlink:actuate=\"onRequest\" xlink:href=\"psysml:2c14e4ca-efb9-4e12-a147-b41b8d65befc\" xlink:show=\"new\" xlink:title=\"psysml:2c14e4ca-efb9-4e12-a147-b41b8d65befc\" xlink:type=\"simple\"><path d=\"M129.28,133.5 C138.17,154.57 151.64,186.5 161.47,209.81 \" fill=\"none\" id=\"E8-&gt;E7\" style=\"stroke: #383838; stroke-width: 1.0; stroke-dasharray: 7.0,7.0;\"/><polygon fill=\"#383838\" points=\"164.66,217.35,164.3241,208.8126,158.7933,211.1385,164.66,217.35\" style=\"stroke: #383838; stroke-width: 1.0;\"/><text fill=\"#000000\" font-family=\"sans-serif\" font-size=\"13\" lengthAdjust=\"spacingAndGlyphs\" textLength=\"64\" x=\"151\" y=\"180.0669\">«depend»</text></a><!--MD5=[53e2909a0bd842ea1c985762237ea315]\n",
       "@startuml\r\n",
       "top to bottom direction\r\n",
       "skinparam monochrome true\r\n",
       "skinparam classbackgroundcolor white\r\n",
       "skinparam shadowing false\r\n",
       "skinparam wrapWidth 300\r\n",
       "hide circle\r\n",
       "\r\n",
       "package \"DependencyTest\" as E1  [[psysml:cce2acdd-5299-4277-a359-760a7748f1a5 ]]  {\r\n",
       "package \"System\" as E2  [[psysml:fe0450d0-807d-48bf-914f-f99eea0aac67 ]]  {\r\n",
       "package \"Application Layer\" as E3  [[psysml:b4c6803f-b500-4ed2-a89b-7b27b2a9486d ]]  {\r\n",
       "}\r\n",
       "package \"Service Layer\" as E4  [[psysml:66b88940-ae34-45ae-8eaf-0df380551b61 ]]  {\r\n",
       "}\r\n",
       "package \"Data Layer\" as E5  [[psysml:2f9cfad3-e6e2-4672-a52e-eac3ac1cc3fa ]]  {\r\n",
       "}\r\n",
       "}\r\n",
       "comp usage \"x\" as E6  <<(T,blue)attribute>> [[psysml:627607da-451a-45ac-bf2e-8d18d85231b1 ]] {\r\n",
       "}\r\n",
       "comp usage \"y\" as E7  <<(T,blue)attribute>> [[psysml:b8e81d8b-4779-47a3-b21f-b5cec6a6f06b ]] {\r\n",
       "}\r\n",
       "comp usage \"z\" as E8  <<(T,blue)attribute>> [[psysml:ff5b6b09-567c-4f7f-ac5d-5252b0115c49 ]] {\r\n",
       "}\r\n",
       "E3 ..>> E4 [[psysml:dea4bf7d-7df0-4a98-b0a8-ad3094fe796e ]] : <<depend>>\r\n",
       "E4 ..>> E5 [[psysml:6c12c767-a343-4222-b71b-448a215deadc ]] : <<depend>>\r\n",
       "E8 ..>> E6 [[psysml:2c14e4ca-efb9-4e12-a147-b41b8d65befc ]] : <<depend>>\r\n",
       "E8 ..>> E7 [[psysml:2c14e4ca-efb9-4e12-a147-b41b8d65befc ]] : <<depend>>\r\n",
       "}\r\n",
       "@enduml\r\n",
       "\n",
       "PlantUML version 1.2020.13(Sat Jun 13 12:26:38 UTC 2020)\n",
       "(EPL source distribution)\n",
       "Java Runtime: OpenJDK Runtime Environment\n",
       "JVM: OpenJDK 64-Bit Server VM\n",
       "Default Encoding: UTF-8\n",
       "Language: en\n",
       "Country: null\n",
       "--></g></svg>"
      ]
     },
     "execution_count": 44,
     "metadata": {},
     "output_type": "execute_result"
    }
   ],
   "source": [
    "%viz --style=\"TB\" --view=\"Default\" \"DependencyTest\""
   ]
  },
  {
   "cell_type": "code",
   "execution_count": 45,
   "id": "90330848",
   "metadata": {
    "execution": {
     "iopub.execute_input": "2021-05-28T10:49:39.835043Z",
     "iopub.status.busy": "2021-05-28T10:49:39.834371Z",
     "iopub.status.idle": "2021-05-28T10:49:39.872741Z",
     "shell.execute_reply": "2021-05-28T10:49:39.871099Z"
    }
   },
   "outputs": [
    {
     "data": {
      "image/svg+xml": [
       "<?xml version=\"1.0\" encoding=\"UTF-8\" standalone=\"no\"?><svg xmlns=\"http://www.w3.org/2000/svg\" xmlns:xlink=\"http://www.w3.org/1999/xlink\" contentScriptType=\"application/ecmascript\" contentStyleType=\"text/css\" height=\"449px\" preserveAspectRatio=\"none\" style=\"width:489px;height:449px;\" version=\"1.1\" viewBox=\"0 0 489 449\" width=\"489px\" zoomAndPan=\"magnify\"><defs/><g><!--MD5=[fbc87193dbaf4d95561dea2c320d4a47]\n",
       "cluster E1--><a href=\"psysml:cce2acdd-5299-4277-a359-760a7748f1a5\" target=\"_top\" title=\"psysml:cce2acdd-5299-4277-a359-760a7748f1a5\" xlink:actuate=\"onRequest\" xlink:href=\"psysml:cce2acdd-5299-4277-a359-760a7748f1a5\" xlink:show=\"new\" xlink:title=\"psysml:cce2acdd-5299-4277-a359-760a7748f1a5\" xlink:type=\"simple\"><polygon fill=\"#FFFFFF\" points=\"16,6,156,6,163,28.2969,467,28.2969,467,437,16,437,16,6\" style=\"stroke: #000000; stroke-width: 1.5;\"/><line style=\"stroke: #000000; stroke-width: 1.5;\" x1=\"16\" x2=\"163\" y1=\"28.2969\" y2=\"28.2969\"/><text fill=\"#000000\" font-family=\"sans-serif\" font-size=\"14\" font-weight=\"bold\" lengthAdjust=\"spacingAndGlyphs\" textLength=\"134\" x=\"20\" y=\"20.9951\">DependencyTest</text></a><!--MD5=[e4f7fae6ed58524ba242bb0b0d3be6b7]\n",
       "cluster E2--><a href=\"psysml:fe0450d0-807d-48bf-914f-f99eea0aac67\" target=\"_top\" title=\"psysml:fe0450d0-807d-48bf-914f-f99eea0aac67\" xlink:actuate=\"onRequest\" xlink:href=\"psysml:fe0450d0-807d-48bf-914f-f99eea0aac67\" xlink:show=\"new\" xlink:title=\"psysml:fe0450d0-807d-48bf-914f-f99eea0aac67\" xlink:type=\"simple\"><polygon fill=\"#FFFFFF\" points=\"255,49,319,49,326,71.2969,443,71.2969,443,413,255,413,255,49\" style=\"stroke: #000000; stroke-width: 1.5;\"/><line style=\"stroke: #000000; stroke-width: 1.5;\" x1=\"255\" x2=\"326\" y1=\"71.2969\" y2=\"71.2969\"/><text fill=\"#000000\" font-family=\"sans-serif\" font-size=\"14\" font-weight=\"bold\" lengthAdjust=\"spacingAndGlyphs\" textLength=\"58\" x=\"259\" y=\"63.9951\">System</text></a><!--MD5=[60a26617385b1d2d0262a64233df1f8d]\n",
       "class E6--><a href=\"psysml:627607da-451a-45ac-bf2e-8d18d85231b1\" target=\"_top\" title=\"psysml:627607da-451a-45ac-bf2e-8d18d85231b1\" xlink:actuate=\"onRequest\" xlink:href=\"psysml:627607da-451a-45ac-bf2e-8d18d85231b1\" xlink:show=\"new\" xlink:title=\"psysml:627607da-451a-45ac-bf2e-8d18d85231b1\" xlink:type=\"simple\"><rect fill=\"#FFFFFF\" height=\"45.9375\" id=\"E6\" rx=\"10\" ry=\"10\" style=\"stroke: #383838; stroke-width: 1.5;\" width=\"71\" x=\"32.5\" y=\"217.5\"/><text fill=\"#000000\" font-family=\"sans-serif\" font-size=\"12\" font-style=\"italic\" lengthAdjust=\"spacingAndGlyphs\" textLength=\"69\" x=\"33.5\" y=\"233.6387\">«attribute»</text><text fill=\"#000000\" font-family=\"sans-serif\" font-size=\"12\" lengthAdjust=\"spacingAndGlyphs\" textLength=\"6\" x=\"65\" y=\"247.6074\">x</text><line style=\"stroke: #383838; stroke-width: 1.5;\" x1=\"33.5\" x2=\"102.5\" y1=\"255.4375\" y2=\"255.4375\"/></a><!--MD5=[2156ba9850f5573cc1fc38a6a4b2f02b]\n",
       "class E7--><a href=\"psysml:b8e81d8b-4779-47a3-b21f-b5cec6a6f06b\" target=\"_top\" title=\"psysml:b8e81d8b-4779-47a3-b21f-b5cec6a6f06b\" xlink:actuate=\"onRequest\" xlink:href=\"psysml:b8e81d8b-4779-47a3-b21f-b5cec6a6f06b\" xlink:show=\"new\" xlink:title=\"psysml:b8e81d8b-4779-47a3-b21f-b5cec6a6f06b\" xlink:type=\"simple\"><rect fill=\"#FFFFFF\" height=\"45.9375\" id=\"E7\" rx=\"10\" ry=\"10\" style=\"stroke: #383838; stroke-width: 1.5;\" width=\"71\" x=\"138.5\" y=\"217.5\"/><text fill=\"#000000\" font-family=\"sans-serif\" font-size=\"12\" font-style=\"italic\" lengthAdjust=\"spacingAndGlyphs\" textLength=\"69\" x=\"139.5\" y=\"233.6387\">«attribute»</text><text fill=\"#000000\" font-family=\"sans-serif\" font-size=\"12\" lengthAdjust=\"spacingAndGlyphs\" textLength=\"6\" x=\"171\" y=\"247.6074\">y</text><line style=\"stroke: #383838; stroke-width: 1.5;\" x1=\"139.5\" x2=\"208.5\" y1=\"255.4375\" y2=\"255.4375\"/></a><!--MD5=[b9389687b975829384b498ac4b7476b2]\n",
       "class E8--><a href=\"psysml:ff5b6b09-567c-4f7f-ac5d-5252b0115c49\" target=\"_top\" title=\"psysml:ff5b6b09-567c-4f7f-ac5d-5252b0115c49\" xlink:actuate=\"onRequest\" xlink:href=\"psysml:ff5b6b09-567c-4f7f-ac5d-5252b0115c49\" xlink:show=\"new\" xlink:title=\"psysml:ff5b6b09-567c-4f7f-ac5d-5252b0115c49\" xlink:type=\"simple\"><rect fill=\"#FFFFFF\" height=\"45.9375\" id=\"E8\" rx=\"10\" ry=\"10\" style=\"stroke: #383838; stroke-width: 1.5;\" width=\"71\" x=\"84.5\" y=\"87.5\"/><text fill=\"#000000\" font-family=\"sans-serif\" font-size=\"12\" font-style=\"italic\" lengthAdjust=\"spacingAndGlyphs\" textLength=\"69\" x=\"85.5\" y=\"103.6387\">«attribute»</text><text fill=\"#000000\" font-family=\"sans-serif\" font-size=\"12\" lengthAdjust=\"spacingAndGlyphs\" textLength=\"5\" x=\"117.5\" y=\"117.6074\">z</text><line style=\"stroke: #383838; stroke-width: 1.5;\" x1=\"85.5\" x2=\"154.5\" y1=\"125.4375\" y2=\"125.4375\"/></a><a href=\"psysml:b4c6803f-b500-4ed2-a89b-7b27b2a9486d\" target=\"_top\" title=\"psysml:b4c6803f-b500-4ed2-a89b-7b27b2a9486d\" xlink:actuate=\"onRequest\" xlink:href=\"psysml:b4c6803f-b500-4ed2-a89b-7b27b2a9486d\" xlink:show=\"new\" xlink:title=\"psysml:b4c6803f-b500-4ed2-a89b-7b27b2a9486d\" xlink:type=\"simple\"><polygon fill=\"#FFFFFF\" points=\"271,84,413,84,420,106.2969,427,106.2969,427,136.5938,271,136.5938,271,84\" style=\"stroke: #000000; stroke-width: 1.5;\"/><line style=\"stroke: #000000; stroke-width: 1.5;\" x1=\"271\" x2=\"420\" y1=\"106.2969\" y2=\"106.2969\"/><text fill=\"#000000\" font-family=\"sans-serif\" font-size=\"14\" font-weight=\"bold\" lengthAdjust=\"spacingAndGlyphs\" textLength=\"136\" x=\"275\" y=\"98.9951\">Application Layer</text></a><a href=\"psysml:66b88940-ae34-45ae-8eaf-0df380551b61\" target=\"_top\" title=\"psysml:66b88940-ae34-45ae-8eaf-0df380551b61\" xlink:actuate=\"onRequest\" xlink:href=\"psysml:66b88940-ae34-45ae-8eaf-0df380551b61\" xlink:show=\"new\" xlink:title=\"psysml:66b88940-ae34-45ae-8eaf-0df380551b61\" xlink:type=\"simple\"><polygon fill=\"#FFFFFF\" points=\"285,214,399,214,406,236.2969,413,236.2969,413,266.5938,285,266.5938,285,214\" style=\"stroke: #000000; stroke-width: 1.5;\"/><line style=\"stroke: #000000; stroke-width: 1.5;\" x1=\"285\" x2=\"406\" y1=\"236.2969\" y2=\"236.2969\"/><text fill=\"#000000\" font-family=\"sans-serif\" font-size=\"14\" font-weight=\"bold\" lengthAdjust=\"spacingAndGlyphs\" textLength=\"108\" x=\"289\" y=\"228.9951\">Service Layer</text></a><a href=\"psysml:2f9cfad3-e6e2-4672-a52e-eac3ac1cc3fa\" target=\"_top\" title=\"psysml:2f9cfad3-e6e2-4672-a52e-eac3ac1cc3fa\" xlink:actuate=\"onRequest\" xlink:href=\"psysml:2f9cfad3-e6e2-4672-a52e-eac3ac1cc3fa\" xlink:show=\"new\" xlink:title=\"psysml:2f9cfad3-e6e2-4672-a52e-eac3ac1cc3fa\" xlink:type=\"simple\"><polygon fill=\"#FFFFFF\" points=\"297,344,387,344,394,366.2969,401,366.2969,401,396.5938,297,396.5938,297,344\" style=\"stroke: #000000; stroke-width: 1.5;\"/><line style=\"stroke: #000000; stroke-width: 1.5;\" x1=\"297\" x2=\"394\" y1=\"366.2969\" y2=\"366.2969\"/><text fill=\"#000000\" font-family=\"sans-serif\" font-size=\"14\" font-weight=\"bold\" lengthAdjust=\"spacingAndGlyphs\" textLength=\"84\" x=\"301\" y=\"358.9951\">Data Layer</text></a><!--MD5=[af87c684e3b0d8be13c1a698a818ef1e]\n",
       "link E3 to E4--><a href=\"psysml:dea4bf7d-7df0-4a98-b0a8-ad3094fe796e\" target=\"_top\" title=\"psysml:dea4bf7d-7df0-4a98-b0a8-ad3094fe796e\" xlink:actuate=\"onRequest\" xlink:href=\"psysml:dea4bf7d-7df0-4a98-b0a8-ad3094fe796e\" xlink:show=\"new\" xlink:title=\"psysml:dea4bf7d-7df0-4a98-b0a8-ad3094fe796e\" xlink:type=\"simple\"><path d=\"M349,137.1 C349,156.8 349,184.22 349,205.73 \" fill=\"none\" id=\"E3-&gt;E4\" style=\"stroke: #383838; stroke-width: 1.0; stroke-dasharray: 7.0,7.0;\"/><polygon fill=\"#383838\" points=\"349,213.95,352,205.95,346,205.95,349,213.95\" style=\"stroke: #383838; stroke-width: 1.0;\"/><text fill=\"#000000\" font-family=\"sans-serif\" font-size=\"13\" lengthAdjust=\"spacingAndGlyphs\" textLength=\"64\" x=\"350\" y=\"180.0669\">«depend»</text></a><!--MD5=[1b7591eae5389033d8d09a9d6721a717]\n",
       "link E4 to E5--><a href=\"psysml:6c12c767-a343-4222-b71b-448a215deadc\" target=\"_top\" title=\"psysml:6c12c767-a343-4222-b71b-448a215deadc\" xlink:actuate=\"onRequest\" xlink:href=\"psysml:6c12c767-a343-4222-b71b-448a215deadc\" xlink:show=\"new\" xlink:title=\"psysml:6c12c767-a343-4222-b71b-448a215deadc\" xlink:type=\"simple\"><path d=\"M349,267.1 C349,286.8 349,314.22 349,335.73 \" fill=\"none\" id=\"E4-&gt;E5\" style=\"stroke: #383838; stroke-width: 1.0; stroke-dasharray: 7.0,7.0;\"/><polygon fill=\"#383838\" points=\"349,343.95,352,335.95,346,335.95,349,343.95\" style=\"stroke: #383838; stroke-width: 1.0;\"/><text fill=\"#000000\" font-family=\"sans-serif\" font-size=\"13\" lengthAdjust=\"spacingAndGlyphs\" textLength=\"64\" x=\"350\" y=\"310.0669\">«depend»</text></a><!--MD5=[c5e8897d989ce984f93528998a7150fe]\n",
       "link E8 to E6--><a href=\"psysml:2c14e4ca-efb9-4e12-a147-b41b8d65befc\" target=\"_top\" title=\"psysml:2c14e4ca-efb9-4e12-a147-b41b8d65befc\" xlink:actuate=\"onRequest\" xlink:href=\"psysml:2c14e4ca-efb9-4e12-a147-b41b8d65befc\" xlink:show=\"new\" xlink:title=\"psysml:2c14e4ca-efb9-4e12-a147-b41b8d65befc\" xlink:type=\"simple\"><path d=\"M89.42,133.6 C79.35,142.68 69.37,154.11 64,167 C58.5,180.2 58.66,195.94 60.54,209.38 \" fill=\"none\" id=\"E8-&gt;E6\" style=\"stroke: #383838; stroke-width: 1.0; stroke-dasharray: 7.0,7.0;\"/><polygon fill=\"#383838\" points=\"61.9,217.4,63.517,209.0104,57.6018,210.0159,61.9,217.4\" style=\"stroke: #383838; stroke-width: 1.0;\"/><text fill=\"#000000\" font-family=\"sans-serif\" font-size=\"13\" lengthAdjust=\"spacingAndGlyphs\" textLength=\"64\" x=\"65\" y=\"180.0669\">«depend»</text></a><!--MD5=[bfa3c8b0d15052fdf50ae9310b491027]\n",
       "link E8 to E7--><a href=\"psysml:2c14e4ca-efb9-4e12-a147-b41b8d65befc\" target=\"_top\" title=\"psysml:2c14e4ca-efb9-4e12-a147-b41b8d65befc\" xlink:actuate=\"onRequest\" xlink:href=\"psysml:2c14e4ca-efb9-4e12-a147-b41b8d65befc\" xlink:show=\"new\" xlink:title=\"psysml:2c14e4ca-efb9-4e12-a147-b41b8d65befc\" xlink:type=\"simple\"><path d=\"M129.28,133.5 C138.17,154.57 151.64,186.5 161.47,209.81 \" fill=\"none\" id=\"E8-&gt;E7\" style=\"stroke: #383838; stroke-width: 1.0; stroke-dasharray: 7.0,7.0;\"/><polygon fill=\"#383838\" points=\"164.66,217.35,164.3241,208.8126,158.7933,211.1385,164.66,217.35\" style=\"stroke: #383838; stroke-width: 1.0;\"/><text fill=\"#000000\" font-family=\"sans-serif\" font-size=\"13\" lengthAdjust=\"spacingAndGlyphs\" textLength=\"64\" x=\"151\" y=\"180.0669\">«depend»</text></a><!--MD5=[53e2909a0bd842ea1c985762237ea315]\n",
       "@startuml\r\n",
       "top to bottom direction\r\n",
       "skinparam monochrome true\r\n",
       "skinparam classbackgroundcolor white\r\n",
       "skinparam shadowing false\r\n",
       "skinparam wrapWidth 300\r\n",
       "hide circle\r\n",
       "\r\n",
       "package \"DependencyTest\" as E1  [[psysml:cce2acdd-5299-4277-a359-760a7748f1a5 ]]  {\r\n",
       "package \"System\" as E2  [[psysml:fe0450d0-807d-48bf-914f-f99eea0aac67 ]]  {\r\n",
       "package \"Application Layer\" as E3  [[psysml:b4c6803f-b500-4ed2-a89b-7b27b2a9486d ]]  {\r\n",
       "}\r\n",
       "package \"Service Layer\" as E4  [[psysml:66b88940-ae34-45ae-8eaf-0df380551b61 ]]  {\r\n",
       "}\r\n",
       "package \"Data Layer\" as E5  [[psysml:2f9cfad3-e6e2-4672-a52e-eac3ac1cc3fa ]]  {\r\n",
       "}\r\n",
       "}\r\n",
       "comp usage \"x\" as E6  <<(T,blue)attribute>> [[psysml:627607da-451a-45ac-bf2e-8d18d85231b1 ]] {\r\n",
       "}\r\n",
       "comp usage \"y\" as E7  <<(T,blue)attribute>> [[psysml:b8e81d8b-4779-47a3-b21f-b5cec6a6f06b ]] {\r\n",
       "}\r\n",
       "comp usage \"z\" as E8  <<(T,blue)attribute>> [[psysml:ff5b6b09-567c-4f7f-ac5d-5252b0115c49 ]] {\r\n",
       "}\r\n",
       "E3 ..>> E4 [[psysml:dea4bf7d-7df0-4a98-b0a8-ad3094fe796e ]] : <<depend>>\r\n",
       "E4 ..>> E5 [[psysml:6c12c767-a343-4222-b71b-448a215deadc ]] : <<depend>>\r\n",
       "E8 ..>> E6 [[psysml:2c14e4ca-efb9-4e12-a147-b41b8d65befc ]] : <<depend>>\r\n",
       "E8 ..>> E7 [[psysml:2c14e4ca-efb9-4e12-a147-b41b8d65befc ]] : <<depend>>\r\n",
       "}\r\n",
       "@enduml\r\n",
       "\n",
       "PlantUML version 1.2020.13(Sat Jun 13 12:26:38 UTC 2020)\n",
       "(EPL source distribution)\n",
       "Java Runtime: OpenJDK Runtime Environment\n",
       "JVM: OpenJDK 64-Bit Server VM\n",
       "Default Encoding: UTF-8\n",
       "Language: en\n",
       "Country: null\n",
       "--></g></svg>"
      ]
     },
     "execution_count": 45,
     "metadata": {},
     "output_type": "execute_result"
    }
   ],
   "source": [
    "%viz --style=\"TB\" --view=\"Tree\" \"DependencyTest\""
   ]
  },
  {
   "cell_type": "code",
   "execution_count": 46,
   "id": "43025245",
   "metadata": {
    "execution": {
     "iopub.execute_input": "2021-05-28T10:49:39.924548Z",
     "iopub.status.busy": "2021-05-28T10:49:39.924074Z",
     "iopub.status.idle": "2021-05-28T10:49:39.931320Z",
     "shell.execute_reply": "2021-05-28T10:49:39.930556Z"
    }
   },
   "outputs": [
    {
     "data": {
      "image/svg+xml": [
       "<?xml version=\"1.0\" encoding=\"UTF-8\" standalone=\"no\"?><svg xmlns=\"http://www.w3.org/2000/svg\" xmlns:xlink=\"http://www.w3.org/1999/xlink\" contentScriptType=\"application/ecmascript\" contentStyleType=\"text/css\" height=\"12px\" preserveAspectRatio=\"none\" style=\"width:12px;height:12px;\" version=\"1.1\" viewBox=\"0 0 12 12\" width=\"12px\" zoomAndPan=\"magnify\"><defs/><g><!--MD5=[f4ee21bc66e489b5061b7c3e9601fdef]\n",
       "@startuml\r\n",
       "top to bottom direction\r\n",
       "skinparam monochrome true\r\n",
       "skinparam classbackgroundcolor white\r\n",
       "skinparam shadowing false\r\n",
       "skinparam wrapWidth 300\r\n",
       "hide circle\r\n",
       "\r\n",
       "@enduml\r\n",
       "\n",
       "PlantUML version 1.2020.13(Sat Jun 13 12:26:38 UTC 2020)\n",
       "(EPL source distribution)\n",
       "Java Runtime: OpenJDK Runtime Environment\n",
       "JVM: OpenJDK 64-Bit Server VM\n",
       "Default Encoding: UTF-8\n",
       "Language: en\n",
       "Country: null\n",
       "--></g></svg>"
      ]
     },
     "execution_count": 46,
     "metadata": {},
     "output_type": "execute_result"
    }
   ],
   "source": [
    "%viz --style=\"TB\" --view=\"State\" \"DependencyTest\""
   ]
  },
  {
   "cell_type": "code",
   "execution_count": 47,
   "id": "9ae5a76c",
   "metadata": {
    "execution": {
     "iopub.execute_input": "2021-05-28T10:49:39.983560Z",
     "iopub.status.busy": "2021-05-28T10:49:39.983097Z",
     "iopub.status.idle": "2021-05-28T10:49:40.016856Z",
     "shell.execute_reply": "2021-05-28T10:49:40.015795Z"
    }
   },
   "outputs": [
    {
     "data": {
      "image/svg+xml": [
       "<?xml version=\"1.0\" encoding=\"UTF-8\" standalone=\"no\"?><svg xmlns=\"http://www.w3.org/2000/svg\" xmlns:xlink=\"http://www.w3.org/1999/xlink\" contentScriptType=\"application/ecmascript\" contentStyleType=\"text/css\" height=\"361px\" preserveAspectRatio=\"none\" style=\"width:489px;height:361px;\" version=\"1.1\" viewBox=\"0 0 489 361\" width=\"489px\" zoomAndPan=\"magnify\"><defs/><g><!--MD5=[fbc87193dbaf4d95561dea2c320d4a47]\n",
       "cluster E1--><a href=\"psysml:cce2acdd-5299-4277-a359-760a7748f1a5\" target=\"_top\" title=\"psysml:cce2acdd-5299-4277-a359-760a7748f1a5\" xlink:actuate=\"onRequest\" xlink:href=\"psysml:cce2acdd-5299-4277-a359-760a7748f1a5\" xlink:show=\"new\" xlink:title=\"psysml:cce2acdd-5299-4277-a359-760a7748f1a5\" xlink:type=\"simple\"><polygon fill=\"#FFFFFF\" points=\"16,6,156,6,163,28.2969,467,28.2969,467,349,16,349,16,6\" style=\"stroke: #000000; stroke-width: 1.5;\"/><line style=\"stroke: #000000; stroke-width: 1.5;\" x1=\"16\" x2=\"163\" y1=\"28.2969\" y2=\"28.2969\"/><text fill=\"#000000\" font-family=\"sans-serif\" font-size=\"14\" font-weight=\"bold\" lengthAdjust=\"spacingAndGlyphs\" textLength=\"134\" x=\"20\" y=\"20.9951\">DependencyTest</text></a><!--MD5=[e4f7fae6ed58524ba242bb0b0d3be6b7]\n",
       "cluster E2--><a href=\"psysml:fe0450d0-807d-48bf-914f-f99eea0aac67\" target=\"_top\" title=\"psysml:fe0450d0-807d-48bf-914f-f99eea0aac67\" xlink:actuate=\"onRequest\" xlink:href=\"psysml:fe0450d0-807d-48bf-914f-f99eea0aac67\" xlink:show=\"new\" xlink:title=\"psysml:fe0450d0-807d-48bf-914f-f99eea0aac67\" xlink:type=\"simple\"><polygon fill=\"#FFFFFF\" points=\"255,49,319,49,326,71.2969,443,71.2969,443,325,255,325,255,49\" style=\"stroke: #000000; stroke-width: 1.5;\"/><line style=\"stroke: #000000; stroke-width: 1.5;\" x1=\"255\" x2=\"326\" y1=\"71.2969\" y2=\"71.2969\"/><text fill=\"#000000\" font-family=\"sans-serif\" font-size=\"14\" font-weight=\"bold\" lengthAdjust=\"spacingAndGlyphs\" textLength=\"58\" x=\"259\" y=\"63.9951\">System</text></a><!--MD5=[60a26617385b1d2d0262a64233df1f8d]\n",
       "class E6--><a href=\"psysml:627607da-451a-45ac-bf2e-8d18d85231b1\" target=\"_top\" title=\"psysml:627607da-451a-45ac-bf2e-8d18d85231b1\" xlink:actuate=\"onRequest\" xlink:href=\"psysml:627607da-451a-45ac-bf2e-8d18d85231b1\" xlink:show=\"new\" xlink:title=\"psysml:627607da-451a-45ac-bf2e-8d18d85231b1\" xlink:type=\"simple\"><rect fill=\"#FFFFFF\" height=\"45.9375\" id=\"E6\" rx=\"10\" ry=\"10\" style=\"stroke: #383838; stroke-width: 1.5;\" width=\"71\" x=\"32.5\" y=\"173.5\"/><text fill=\"#000000\" font-family=\"sans-serif\" font-size=\"12\" font-style=\"italic\" lengthAdjust=\"spacingAndGlyphs\" textLength=\"69\" x=\"33.5\" y=\"189.6387\">«attribute»</text><text fill=\"#000000\" font-family=\"sans-serif\" font-size=\"12\" lengthAdjust=\"spacingAndGlyphs\" textLength=\"6\" x=\"65\" y=\"203.6074\">x</text><line style=\"stroke: #383838; stroke-width: 1.5;\" x1=\"33.5\" x2=\"102.5\" y1=\"211.4375\" y2=\"211.4375\"/></a><!--MD5=[2156ba9850f5573cc1fc38a6a4b2f02b]\n",
       "class E7--><a href=\"psysml:b8e81d8b-4779-47a3-b21f-b5cec6a6f06b\" target=\"_top\" title=\"psysml:b8e81d8b-4779-47a3-b21f-b5cec6a6f06b\" xlink:actuate=\"onRequest\" xlink:href=\"psysml:b8e81d8b-4779-47a3-b21f-b5cec6a6f06b\" xlink:show=\"new\" xlink:title=\"psysml:b8e81d8b-4779-47a3-b21f-b5cec6a6f06b\" xlink:type=\"simple\"><rect fill=\"#FFFFFF\" height=\"45.9375\" id=\"E7\" rx=\"10\" ry=\"10\" style=\"stroke: #383838; stroke-width: 1.5;\" width=\"71\" x=\"138.5\" y=\"173.5\"/><text fill=\"#000000\" font-family=\"sans-serif\" font-size=\"12\" font-style=\"italic\" lengthAdjust=\"spacingAndGlyphs\" textLength=\"69\" x=\"139.5\" y=\"189.6387\">«attribute»</text><text fill=\"#000000\" font-family=\"sans-serif\" font-size=\"12\" lengthAdjust=\"spacingAndGlyphs\" textLength=\"6\" x=\"171\" y=\"203.6074\">y</text><line style=\"stroke: #383838; stroke-width: 1.5;\" x1=\"139.5\" x2=\"208.5\" y1=\"211.4375\" y2=\"211.4375\"/></a><!--MD5=[b9389687b975829384b498ac4b7476b2]\n",
       "class E8--><a href=\"psysml:ff5b6b09-567c-4f7f-ac5d-5252b0115c49\" target=\"_top\" title=\"psysml:ff5b6b09-567c-4f7f-ac5d-5252b0115c49\" xlink:actuate=\"onRequest\" xlink:href=\"psysml:ff5b6b09-567c-4f7f-ac5d-5252b0115c49\" xlink:show=\"new\" xlink:title=\"psysml:ff5b6b09-567c-4f7f-ac5d-5252b0115c49\" xlink:type=\"simple\"><rect fill=\"#FFFFFF\" height=\"45.9375\" id=\"E8\" rx=\"10\" ry=\"10\" style=\"stroke: #383838; stroke-width: 1.5;\" width=\"71\" x=\"84.5\" y=\"87.5\"/><text fill=\"#000000\" font-family=\"sans-serif\" font-size=\"12\" font-style=\"italic\" lengthAdjust=\"spacingAndGlyphs\" textLength=\"69\" x=\"85.5\" y=\"103.6387\">«attribute»</text><text fill=\"#000000\" font-family=\"sans-serif\" font-size=\"12\" lengthAdjust=\"spacingAndGlyphs\" textLength=\"5\" x=\"117.5\" y=\"117.6074\">z</text><line style=\"stroke: #383838; stroke-width: 1.5;\" x1=\"85.5\" x2=\"154.5\" y1=\"125.4375\" y2=\"125.4375\"/></a><a href=\"psysml:b4c6803f-b500-4ed2-a89b-7b27b2a9486d\" target=\"_top\" title=\"psysml:b4c6803f-b500-4ed2-a89b-7b27b2a9486d\" xlink:actuate=\"onRequest\" xlink:href=\"psysml:b4c6803f-b500-4ed2-a89b-7b27b2a9486d\" xlink:show=\"new\" xlink:title=\"psysml:b4c6803f-b500-4ed2-a89b-7b27b2a9486d\" xlink:type=\"simple\"><polygon fill=\"#FFFFFF\" points=\"271,84,413,84,420,106.2969,427,106.2969,427,136.5938,271,136.5938,271,84\" style=\"stroke: #000000; stroke-width: 1.5;\"/><line style=\"stroke: #000000; stroke-width: 1.5;\" x1=\"271\" x2=\"420\" y1=\"106.2969\" y2=\"106.2969\"/><text fill=\"#000000\" font-family=\"sans-serif\" font-size=\"14\" font-weight=\"bold\" lengthAdjust=\"spacingAndGlyphs\" textLength=\"136\" x=\"275\" y=\"98.9951\">Application Layer</text></a><a href=\"psysml:66b88940-ae34-45ae-8eaf-0df380551b61\" target=\"_top\" title=\"psysml:66b88940-ae34-45ae-8eaf-0df380551b61\" xlink:actuate=\"onRequest\" xlink:href=\"psysml:66b88940-ae34-45ae-8eaf-0df380551b61\" xlink:show=\"new\" xlink:title=\"psysml:66b88940-ae34-45ae-8eaf-0df380551b61\" xlink:type=\"simple\"><polygon fill=\"#FFFFFF\" points=\"285,170,399,170,406,192.2969,413,192.2969,413,222.5938,285,222.5938,285,170\" style=\"stroke: #000000; stroke-width: 1.5;\"/><line style=\"stroke: #000000; stroke-width: 1.5;\" x1=\"285\" x2=\"406\" y1=\"192.2969\" y2=\"192.2969\"/><text fill=\"#000000\" font-family=\"sans-serif\" font-size=\"14\" font-weight=\"bold\" lengthAdjust=\"spacingAndGlyphs\" textLength=\"108\" x=\"289\" y=\"184.9951\">Service Layer</text></a><a href=\"psysml:2f9cfad3-e6e2-4672-a52e-eac3ac1cc3fa\" target=\"_top\" title=\"psysml:2f9cfad3-e6e2-4672-a52e-eac3ac1cc3fa\" xlink:actuate=\"onRequest\" xlink:href=\"psysml:2f9cfad3-e6e2-4672-a52e-eac3ac1cc3fa\" xlink:show=\"new\" xlink:title=\"psysml:2f9cfad3-e6e2-4672-a52e-eac3ac1cc3fa\" xlink:type=\"simple\"><polygon fill=\"#FFFFFF\" points=\"297,256,387,256,394,278.2969,401,278.2969,401,308.5938,297,308.5938,297,256\" style=\"stroke: #000000; stroke-width: 1.5;\"/><line style=\"stroke: #000000; stroke-width: 1.5;\" x1=\"297\" x2=\"394\" y1=\"278.2969\" y2=\"278.2969\"/><text fill=\"#000000\" font-family=\"sans-serif\" font-size=\"14\" font-weight=\"bold\" lengthAdjust=\"spacingAndGlyphs\" textLength=\"84\" x=\"301\" y=\"270.9951\">Data Layer</text></a><!--MD5=[af87c684e3b0d8be13c1a698a818ef1e]\n",
       "link E3 to E4--><a href=\"psysml:dea4bf7d-7df0-4a98-b0a8-ad3094fe796e\" target=\"_top\" title=\"psysml:dea4bf7d-7df0-4a98-b0a8-ad3094fe796e\" xlink:actuate=\"onRequest\" xlink:href=\"psysml:dea4bf7d-7df0-4a98-b0a8-ad3094fe796e\" xlink:show=\"new\" xlink:title=\"psysml:dea4bf7d-7df0-4a98-b0a8-ad3094fe796e\" xlink:type=\"simple\"><path d=\"M349,137.16 C349,144.98 349,153.69 349,161.94 \" fill=\"none\" id=\"E3-&gt;E4\" style=\"stroke: #383838; stroke-width: 1.0; stroke-dasharray: 7.0,7.0;\"/><polygon fill=\"#383838\" points=\"349,170,352,162,346,162,349,170\" style=\"stroke: #383838; stroke-width: 1.0;\"/><text fill=\"#000000\" font-family=\"sans-serif\" font-size=\"13\" lengthAdjust=\"spacingAndGlyphs\" textLength=\"64\" x=\"350\" y=\"158.0669\">«depend»</text></a><!--MD5=[1b7591eae5389033d8d09a9d6721a717]\n",
       "link E4 to E5--><a href=\"psysml:6c12c767-a343-4222-b71b-448a215deadc\" target=\"_top\" title=\"psysml:6c12c767-a343-4222-b71b-448a215deadc\" xlink:actuate=\"onRequest\" xlink:href=\"psysml:6c12c767-a343-4222-b71b-448a215deadc\" xlink:show=\"new\" xlink:title=\"psysml:6c12c767-a343-4222-b71b-448a215deadc\" xlink:type=\"simple\"><path d=\"M349,223.16 C349,230.98 349,239.69 349,247.94 \" fill=\"none\" id=\"E4-&gt;E5\" style=\"stroke: #383838; stroke-width: 1.0; stroke-dasharray: 7.0,7.0;\"/><polygon fill=\"#383838\" points=\"349,256,352,248,346,248,349,256\" style=\"stroke: #383838; stroke-width: 1.0;\"/><text fill=\"#000000\" font-family=\"sans-serif\" font-size=\"13\" lengthAdjust=\"spacingAndGlyphs\" textLength=\"64\" x=\"350\" y=\"244.0669\">«depend»</text></a><!--MD5=[c5e8897d989ce984f93528998a7150fe]\n",
       "link E8 to E6--><a href=\"psysml:2c14e4ca-efb9-4e12-a147-b41b8d65befc\" target=\"_top\" title=\"psysml:2c14e4ca-efb9-4e12-a147-b41b8d65befc\" xlink:actuate=\"onRequest\" xlink:href=\"psysml:2c14e4ca-efb9-4e12-a147-b41b8d65befc\" xlink:show=\"new\" xlink:title=\"psysml:2c14e4ca-efb9-4e12-a147-b41b8d65befc\" xlink:type=\"simple\"><path d=\"M84.49,125.34 C76.34,130.27 68.69,136.72 64,145 C60.54,151.1 59.62,158.31 60,165.33 \" fill=\"none\" id=\"E8-&gt;E6\" style=\"stroke: #383838; stroke-width: 1.0; stroke-dasharray: 7.0,7.0;\"/><polygon fill=\"#383838\" points=\"60.97,173.42,63.0061,165.1221,57.0479,165.8294,60.97,173.42\" style=\"stroke: #383838; stroke-width: 1.0;\"/><text fill=\"#000000\" font-family=\"sans-serif\" font-size=\"13\" lengthAdjust=\"spacingAndGlyphs\" textLength=\"64\" x=\"65\" y=\"158.0669\">«depend»</text></a><!--MD5=[bfa3c8b0d15052fdf50ae9310b491027]\n",
       "link E8 to E7--><a href=\"psysml:2c14e4ca-efb9-4e12-a147-b41b8d65befc\" target=\"_top\" title=\"psysml:2c14e4ca-efb9-4e12-a147-b41b8d65befc\" xlink:actuate=\"onRequest\" xlink:href=\"psysml:2c14e4ca-efb9-4e12-a147-b41b8d65befc\" xlink:show=\"new\" xlink:title=\"psysml:2c14e4ca-efb9-4e12-a147-b41b8d65befc\" xlink:type=\"simple\"><path d=\"M134.19,133.57 C140.65,143.62 148.38,155.65 155.31,166.42 \" fill=\"none\" id=\"E8-&gt;E7\" style=\"stroke: #383838; stroke-width: 1.0; stroke-dasharray: 7.0,7.0;\"/><polygon fill=\"#383838\" points=\"159.72,173.29,157.9148,164.9389,152.8688,168.185,159.72,173.29\" style=\"stroke: #383838; stroke-width: 1.0;\"/><text fill=\"#000000\" font-family=\"sans-serif\" font-size=\"13\" lengthAdjust=\"spacingAndGlyphs\" textLength=\"64\" x=\"152\" y=\"158.0669\">«depend»</text></a><!--MD5=[b2f5c0cb2db197dc4eaf0b27ebdd8a48]\n",
       "@startuml\r\n",
       "skinparam ranksep 10\r\n",
       "skinparam rectangle {\r\n",
       " backgroundColor<<block>> LightGreen\r\n",
       "}\r\n",
       "top to bottom direction\r\n",
       "skinparam monochrome true\r\n",
       "skinparam classbackgroundcolor white\r\n",
       "skinparam shadowing false\r\n",
       "skinparam wrapWidth 300\r\n",
       "hide circle\r\n",
       "\r\n",
       "package \"DependencyTest\" as E1  [[psysml:cce2acdd-5299-4277-a359-760a7748f1a5 ]]  {\r\n",
       "package \"System\" as E2  [[psysml:fe0450d0-807d-48bf-914f-f99eea0aac67 ]]  {\r\n",
       "package \"Application Layer\" as E3  [[psysml:b4c6803f-b500-4ed2-a89b-7b27b2a9486d ]]  {\r\n",
       "}\r\n",
       "package \"Service Layer\" as E4  [[psysml:66b88940-ae34-45ae-8eaf-0df380551b61 ]]  {\r\n",
       "}\r\n",
       "package \"Data Layer\" as E5  [[psysml:2f9cfad3-e6e2-4672-a52e-eac3ac1cc3fa ]]  {\r\n",
       "}\r\n",
       "}\r\n",
       "comp usage \"x\" as E6  <<(T,blue)attribute>> [[psysml:627607da-451a-45ac-bf2e-8d18d85231b1 ]] {\r\n",
       "}\r\n",
       "comp usage \"y\" as E7  <<(T,blue)attribute>> [[psysml:b8e81d8b-4779-47a3-b21f-b5cec6a6f06b ]] {\r\n",
       "}\r\n",
       "comp usage \"z\" as E8  <<(T,blue)attribute>> [[psysml:ff5b6b09-567c-4f7f-ac5d-5252b0115c49 ]] {\r\n",
       "}\r\n",
       "E3 ..>> E4 [[psysml:dea4bf7d-7df0-4a98-b0a8-ad3094fe796e ]] : <<depend>>\r\n",
       "E4 ..>> E5 [[psysml:6c12c767-a343-4222-b71b-448a215deadc ]] : <<depend>>\r\n",
       "E8 ..>> E6 [[psysml:2c14e4ca-efb9-4e12-a147-b41b8d65befc ]] : <<depend>>\r\n",
       "E8 ..>> E7 [[psysml:2c14e4ca-efb9-4e12-a147-b41b8d65befc ]] : <<depend>>\r\n",
       "}\r\n",
       "@enduml\r\n",
       "\n",
       "PlantUML version 1.2020.13(Sat Jun 13 12:26:38 UTC 2020)\n",
       "(EPL source distribution)\n",
       "Java Runtime: OpenJDK Runtime Environment\n",
       "JVM: OpenJDK 64-Bit Server VM\n",
       "Default Encoding: UTF-8\n",
       "Language: en\n",
       "Country: null\n",
       "--></g></svg>"
      ]
     },
     "execution_count": 47,
     "metadata": {},
     "output_type": "execute_result"
    }
   ],
   "source": [
    "%viz --style=\"TB\" --view=\"Interconnection\" \"DependencyTest\""
   ]
  },
  {
   "cell_type": "code",
   "execution_count": 48,
   "id": "ce3a09e5",
   "metadata": {
    "execution": {
     "iopub.execute_input": "2021-05-28T10:49:40.068975Z",
     "iopub.status.busy": "2021-05-28T10:49:40.068192Z",
     "iopub.status.idle": "2021-05-28T10:49:40.074333Z",
     "shell.execute_reply": "2021-05-28T10:49:40.073849Z"
    }
   },
   "outputs": [
    {
     "data": {
      "image/svg+xml": [
       "<?xml version=\"1.0\" encoding=\"UTF-8\" standalone=\"no\"?><svg xmlns=\"http://www.w3.org/2000/svg\" xmlns:xlink=\"http://www.w3.org/1999/xlink\" contentScriptType=\"application/ecmascript\" contentStyleType=\"text/css\" height=\"12px\" preserveAspectRatio=\"none\" style=\"width:12px;height:12px;\" version=\"1.1\" viewBox=\"0 0 12 12\" width=\"12px\" zoomAndPan=\"magnify\"><defs/><g><!--MD5=[06afc254b03ac5e9d9fb7773b07d0800]\n",
       "@startuml\r\n",
       "skinparam ranksep 8\r\n",
       "top to bottom direction\r\n",
       "skinparam monochrome true\r\n",
       "skinparam classbackgroundcolor white\r\n",
       "skinparam shadowing false\r\n",
       "skinparam wrapWidth 300\r\n",
       "hide circle\r\n",
       "\r\n",
       "@enduml\r\n",
       "\n",
       "PlantUML version 1.2020.13(Sat Jun 13 12:26:38 UTC 2020)\n",
       "(EPL source distribution)\n",
       "Java Runtime: OpenJDK Runtime Environment\n",
       "JVM: OpenJDK 64-Bit Server VM\n",
       "Default Encoding: UTF-8\n",
       "Language: en\n",
       "Country: null\n",
       "--></g></svg>"
      ]
     },
     "execution_count": 48,
     "metadata": {},
     "output_type": "execute_result"
    }
   ],
   "source": [
    "%viz --style=\"TB\" --view=\"Action\" \"DependencyTest\""
   ]
  },
  {
   "cell_type": "code",
   "execution_count": 49,
   "id": "b3d3ec4c",
   "metadata": {
    "execution": {
     "iopub.execute_input": "2021-05-28T10:49:40.124604Z",
     "iopub.status.busy": "2021-05-28T10:49:40.124234Z",
     "iopub.status.idle": "2021-05-28T10:49:40.158733Z",
     "shell.execute_reply": "2021-05-28T10:49:40.157412Z"
    }
   },
   "outputs": [
    {
     "data": {
      "image/svg+xml": [
       "<?xml version=\"1.0\" encoding=\"UTF-8\" standalone=\"no\"?><svg xmlns=\"http://www.w3.org/2000/svg\" xmlns:xlink=\"http://www.w3.org/1999/xlink\" contentScriptType=\"application/ecmascript\" contentStyleType=\"text/css\" height=\"449px\" preserveAspectRatio=\"none\" style=\"width:489px;height:449px;\" version=\"1.1\" viewBox=\"0 0 489 449\" width=\"489px\" zoomAndPan=\"magnify\"><defs/><g><!--MD5=[fbc87193dbaf4d95561dea2c320d4a47]\n",
       "cluster E1--><a href=\"psysml:cce2acdd-5299-4277-a359-760a7748f1a5\" target=\"_top\" title=\"psysml:cce2acdd-5299-4277-a359-760a7748f1a5\" xlink:actuate=\"onRequest\" xlink:href=\"psysml:cce2acdd-5299-4277-a359-760a7748f1a5\" xlink:show=\"new\" xlink:title=\"psysml:cce2acdd-5299-4277-a359-760a7748f1a5\" xlink:type=\"simple\"><polygon fill=\"#FFFFFF\" points=\"16,6,156,6,163,28.2969,467,28.2969,467,437,16,437,16,6\" style=\"stroke: #000000; stroke-width: 1.5;\"/><line style=\"stroke: #000000; stroke-width: 1.5;\" x1=\"16\" x2=\"163\" y1=\"28.2969\" y2=\"28.2969\"/><text fill=\"#000000\" font-family=\"sans-serif\" font-size=\"14\" font-weight=\"bold\" lengthAdjust=\"spacingAndGlyphs\" textLength=\"134\" x=\"20\" y=\"20.9951\">DependencyTest</text></a><!--MD5=[e4f7fae6ed58524ba242bb0b0d3be6b7]\n",
       "cluster E2--><a href=\"psysml:fe0450d0-807d-48bf-914f-f99eea0aac67\" target=\"_top\" title=\"psysml:fe0450d0-807d-48bf-914f-f99eea0aac67\" xlink:actuate=\"onRequest\" xlink:href=\"psysml:fe0450d0-807d-48bf-914f-f99eea0aac67\" xlink:show=\"new\" xlink:title=\"psysml:fe0450d0-807d-48bf-914f-f99eea0aac67\" xlink:type=\"simple\"><polygon fill=\"#FFFFFF\" points=\"255,49,319,49,326,71.2969,443,71.2969,443,413,255,413,255,49\" style=\"stroke: #000000; stroke-width: 1.5;\"/><line style=\"stroke: #000000; stroke-width: 1.5;\" x1=\"255\" x2=\"326\" y1=\"71.2969\" y2=\"71.2969\"/><text fill=\"#000000\" font-family=\"sans-serif\" font-size=\"14\" font-weight=\"bold\" lengthAdjust=\"spacingAndGlyphs\" textLength=\"58\" x=\"259\" y=\"63.9951\">System</text></a><!--MD5=[60a26617385b1d2d0262a64233df1f8d]\n",
       "class E6--><a href=\"psysml:627607da-451a-45ac-bf2e-8d18d85231b1\" target=\"_top\" title=\"psysml:627607da-451a-45ac-bf2e-8d18d85231b1\" xlink:actuate=\"onRequest\" xlink:href=\"psysml:627607da-451a-45ac-bf2e-8d18d85231b1\" xlink:show=\"new\" xlink:title=\"psysml:627607da-451a-45ac-bf2e-8d18d85231b1\" xlink:type=\"simple\"><rect fill=\"#FFFFFF\" height=\"45.9375\" id=\"E6\" rx=\"10\" ry=\"10\" style=\"stroke: #383838; stroke-width: 1.5;\" width=\"71\" x=\"32.5\" y=\"217.5\"/><text fill=\"#000000\" font-family=\"sans-serif\" font-size=\"12\" font-style=\"italic\" lengthAdjust=\"spacingAndGlyphs\" textLength=\"69\" x=\"33.5\" y=\"233.6387\">«attribute»</text><text fill=\"#000000\" font-family=\"sans-serif\" font-size=\"12\" lengthAdjust=\"spacingAndGlyphs\" textLength=\"6\" x=\"65\" y=\"247.6074\">x</text><line style=\"stroke: #383838; stroke-width: 1.5;\" x1=\"33.5\" x2=\"102.5\" y1=\"255.4375\" y2=\"255.4375\"/></a><!--MD5=[2156ba9850f5573cc1fc38a6a4b2f02b]\n",
       "class E7--><a href=\"psysml:b8e81d8b-4779-47a3-b21f-b5cec6a6f06b\" target=\"_top\" title=\"psysml:b8e81d8b-4779-47a3-b21f-b5cec6a6f06b\" xlink:actuate=\"onRequest\" xlink:href=\"psysml:b8e81d8b-4779-47a3-b21f-b5cec6a6f06b\" xlink:show=\"new\" xlink:title=\"psysml:b8e81d8b-4779-47a3-b21f-b5cec6a6f06b\" xlink:type=\"simple\"><rect fill=\"#FFFFFF\" height=\"45.9375\" id=\"E7\" rx=\"10\" ry=\"10\" style=\"stroke: #383838; stroke-width: 1.5;\" width=\"71\" x=\"138.5\" y=\"217.5\"/><text fill=\"#000000\" font-family=\"sans-serif\" font-size=\"12\" font-style=\"italic\" lengthAdjust=\"spacingAndGlyphs\" textLength=\"69\" x=\"139.5\" y=\"233.6387\">«attribute»</text><text fill=\"#000000\" font-family=\"sans-serif\" font-size=\"12\" lengthAdjust=\"spacingAndGlyphs\" textLength=\"6\" x=\"171\" y=\"247.6074\">y</text><line style=\"stroke: #383838; stroke-width: 1.5;\" x1=\"139.5\" x2=\"208.5\" y1=\"255.4375\" y2=\"255.4375\"/></a><!--MD5=[b9389687b975829384b498ac4b7476b2]\n",
       "class E8--><a href=\"psysml:ff5b6b09-567c-4f7f-ac5d-5252b0115c49\" target=\"_top\" title=\"psysml:ff5b6b09-567c-4f7f-ac5d-5252b0115c49\" xlink:actuate=\"onRequest\" xlink:href=\"psysml:ff5b6b09-567c-4f7f-ac5d-5252b0115c49\" xlink:show=\"new\" xlink:title=\"psysml:ff5b6b09-567c-4f7f-ac5d-5252b0115c49\" xlink:type=\"simple\"><rect fill=\"#FFFFFF\" height=\"45.9375\" id=\"E8\" rx=\"10\" ry=\"10\" style=\"stroke: #383838; stroke-width: 1.5;\" width=\"71\" x=\"84.5\" y=\"87.5\"/><text fill=\"#000000\" font-family=\"sans-serif\" font-size=\"12\" font-style=\"italic\" lengthAdjust=\"spacingAndGlyphs\" textLength=\"69\" x=\"85.5\" y=\"103.6387\">«attribute»</text><text fill=\"#000000\" font-family=\"sans-serif\" font-size=\"12\" lengthAdjust=\"spacingAndGlyphs\" textLength=\"5\" x=\"117.5\" y=\"117.6074\">z</text><line style=\"stroke: #383838; stroke-width: 1.5;\" x1=\"85.5\" x2=\"154.5\" y1=\"125.4375\" y2=\"125.4375\"/></a><a href=\"psysml:b4c6803f-b500-4ed2-a89b-7b27b2a9486d\" target=\"_top\" title=\"psysml:b4c6803f-b500-4ed2-a89b-7b27b2a9486d\" xlink:actuate=\"onRequest\" xlink:href=\"psysml:b4c6803f-b500-4ed2-a89b-7b27b2a9486d\" xlink:show=\"new\" xlink:title=\"psysml:b4c6803f-b500-4ed2-a89b-7b27b2a9486d\" xlink:type=\"simple\"><polygon fill=\"#FFFFFF\" points=\"271,84,413,84,420,106.2969,427,106.2969,427,136.5938,271,136.5938,271,84\" style=\"stroke: #000000; stroke-width: 1.5;\"/><line style=\"stroke: #000000; stroke-width: 1.5;\" x1=\"271\" x2=\"420\" y1=\"106.2969\" y2=\"106.2969\"/><text fill=\"#000000\" font-family=\"sans-serif\" font-size=\"14\" font-weight=\"bold\" lengthAdjust=\"spacingAndGlyphs\" textLength=\"136\" x=\"275\" y=\"98.9951\">Application Layer</text></a><a href=\"psysml:66b88940-ae34-45ae-8eaf-0df380551b61\" target=\"_top\" title=\"psysml:66b88940-ae34-45ae-8eaf-0df380551b61\" xlink:actuate=\"onRequest\" xlink:href=\"psysml:66b88940-ae34-45ae-8eaf-0df380551b61\" xlink:show=\"new\" xlink:title=\"psysml:66b88940-ae34-45ae-8eaf-0df380551b61\" xlink:type=\"simple\"><polygon fill=\"#FFFFFF\" points=\"285,214,399,214,406,236.2969,413,236.2969,413,266.5938,285,266.5938,285,214\" style=\"stroke: #000000; stroke-width: 1.5;\"/><line style=\"stroke: #000000; stroke-width: 1.5;\" x1=\"285\" x2=\"406\" y1=\"236.2969\" y2=\"236.2969\"/><text fill=\"#000000\" font-family=\"sans-serif\" font-size=\"14\" font-weight=\"bold\" lengthAdjust=\"spacingAndGlyphs\" textLength=\"108\" x=\"289\" y=\"228.9951\">Service Layer</text></a><a href=\"psysml:2f9cfad3-e6e2-4672-a52e-eac3ac1cc3fa\" target=\"_top\" title=\"psysml:2f9cfad3-e6e2-4672-a52e-eac3ac1cc3fa\" xlink:actuate=\"onRequest\" xlink:href=\"psysml:2f9cfad3-e6e2-4672-a52e-eac3ac1cc3fa\" xlink:show=\"new\" xlink:title=\"psysml:2f9cfad3-e6e2-4672-a52e-eac3ac1cc3fa\" xlink:type=\"simple\"><polygon fill=\"#FFFFFF\" points=\"297,344,387,344,394,366.2969,401,366.2969,401,396.5938,297,396.5938,297,344\" style=\"stroke: #000000; stroke-width: 1.5;\"/><line style=\"stroke: #000000; stroke-width: 1.5;\" x1=\"297\" x2=\"394\" y1=\"366.2969\" y2=\"366.2969\"/><text fill=\"#000000\" font-family=\"sans-serif\" font-size=\"14\" font-weight=\"bold\" lengthAdjust=\"spacingAndGlyphs\" textLength=\"84\" x=\"301\" y=\"358.9951\">Data Layer</text></a><!--MD5=[af87c684e3b0d8be13c1a698a818ef1e]\n",
       "link E3 to E4--><a href=\"psysml:dea4bf7d-7df0-4a98-b0a8-ad3094fe796e\" target=\"_top\" title=\"psysml:dea4bf7d-7df0-4a98-b0a8-ad3094fe796e\" xlink:actuate=\"onRequest\" xlink:href=\"psysml:dea4bf7d-7df0-4a98-b0a8-ad3094fe796e\" xlink:show=\"new\" xlink:title=\"psysml:dea4bf7d-7df0-4a98-b0a8-ad3094fe796e\" xlink:type=\"simple\"><path d=\"M349,137.1 C349,156.8 349,184.22 349,205.73 \" fill=\"none\" id=\"E3-&gt;E4\" style=\"stroke: #383838; stroke-width: 1.0; stroke-dasharray: 7.0,7.0;\"/><polygon fill=\"#383838\" points=\"349,213.95,352,205.95,346,205.95,349,213.95\" style=\"stroke: #383838; stroke-width: 1.0;\"/><text fill=\"#000000\" font-family=\"sans-serif\" font-size=\"13\" lengthAdjust=\"spacingAndGlyphs\" textLength=\"64\" x=\"350\" y=\"180.0669\">«depend»</text></a><!--MD5=[1b7591eae5389033d8d09a9d6721a717]\n",
       "link E4 to E5--><a href=\"psysml:6c12c767-a343-4222-b71b-448a215deadc\" target=\"_top\" title=\"psysml:6c12c767-a343-4222-b71b-448a215deadc\" xlink:actuate=\"onRequest\" xlink:href=\"psysml:6c12c767-a343-4222-b71b-448a215deadc\" xlink:show=\"new\" xlink:title=\"psysml:6c12c767-a343-4222-b71b-448a215deadc\" xlink:type=\"simple\"><path d=\"M349,267.1 C349,286.8 349,314.22 349,335.73 \" fill=\"none\" id=\"E4-&gt;E5\" style=\"stroke: #383838; stroke-width: 1.0; stroke-dasharray: 7.0,7.0;\"/><polygon fill=\"#383838\" points=\"349,343.95,352,335.95,346,335.95,349,343.95\" style=\"stroke: #383838; stroke-width: 1.0;\"/><text fill=\"#000000\" font-family=\"sans-serif\" font-size=\"13\" lengthAdjust=\"spacingAndGlyphs\" textLength=\"64\" x=\"350\" y=\"310.0669\">«depend»</text></a><!--MD5=[c5e8897d989ce984f93528998a7150fe]\n",
       "link E8 to E6--><a href=\"psysml:2c14e4ca-efb9-4e12-a147-b41b8d65befc\" target=\"_top\" title=\"psysml:2c14e4ca-efb9-4e12-a147-b41b8d65befc\" xlink:actuate=\"onRequest\" xlink:href=\"psysml:2c14e4ca-efb9-4e12-a147-b41b8d65befc\" xlink:show=\"new\" xlink:title=\"psysml:2c14e4ca-efb9-4e12-a147-b41b8d65befc\" xlink:type=\"simple\"><path d=\"M89.42,133.6 C79.35,142.68 69.37,154.11 64,167 C58.5,180.2 58.66,195.94 60.54,209.38 \" fill=\"none\" id=\"E8-&gt;E6\" style=\"stroke: #383838; stroke-width: 1.0; stroke-dasharray: 7.0,7.0;\"/><polygon fill=\"#383838\" points=\"61.9,217.4,63.517,209.0104,57.6018,210.0159,61.9,217.4\" style=\"stroke: #383838; stroke-width: 1.0;\"/><text fill=\"#000000\" font-family=\"sans-serif\" font-size=\"13\" lengthAdjust=\"spacingAndGlyphs\" textLength=\"64\" x=\"65\" y=\"180.0669\">«depend»</text></a><!--MD5=[bfa3c8b0d15052fdf50ae9310b491027]\n",
       "link E8 to E7--><a href=\"psysml:2c14e4ca-efb9-4e12-a147-b41b8d65befc\" target=\"_top\" title=\"psysml:2c14e4ca-efb9-4e12-a147-b41b8d65befc\" xlink:actuate=\"onRequest\" xlink:href=\"psysml:2c14e4ca-efb9-4e12-a147-b41b8d65befc\" xlink:show=\"new\" xlink:title=\"psysml:2c14e4ca-efb9-4e12-a147-b41b8d65befc\" xlink:type=\"simple\"><path d=\"M129.28,133.5 C138.17,154.57 151.64,186.5 161.47,209.81 \" fill=\"none\" id=\"E8-&gt;E7\" style=\"stroke: #383838; stroke-width: 1.0; stroke-dasharray: 7.0,7.0;\"/><polygon fill=\"#383838\" points=\"164.66,217.35,164.3241,208.8126,158.7933,211.1385,164.66,217.35\" style=\"stroke: #383838; stroke-width: 1.0;\"/><text fill=\"#000000\" font-family=\"sans-serif\" font-size=\"13\" lengthAdjust=\"spacingAndGlyphs\" textLength=\"64\" x=\"151\" y=\"180.0669\">«depend»</text></a><!--MD5=[53e2909a0bd842ea1c985762237ea315]\n",
       "@startuml\r\n",
       "top to bottom direction\r\n",
       "skinparam monochrome true\r\n",
       "skinparam classbackgroundcolor white\r\n",
       "skinparam shadowing false\r\n",
       "skinparam wrapWidth 300\r\n",
       "hide circle\r\n",
       "\r\n",
       "package \"DependencyTest\" as E1  [[psysml:cce2acdd-5299-4277-a359-760a7748f1a5 ]]  {\r\n",
       "package \"System\" as E2  [[psysml:fe0450d0-807d-48bf-914f-f99eea0aac67 ]]  {\r\n",
       "package \"Application Layer\" as E3  [[psysml:b4c6803f-b500-4ed2-a89b-7b27b2a9486d ]]  {\r\n",
       "}\r\n",
       "package \"Service Layer\" as E4  [[psysml:66b88940-ae34-45ae-8eaf-0df380551b61 ]]  {\r\n",
       "}\r\n",
       "package \"Data Layer\" as E5  [[psysml:2f9cfad3-e6e2-4672-a52e-eac3ac1cc3fa ]]  {\r\n",
       "}\r\n",
       "}\r\n",
       "comp usage \"x\" as E6  <<(T,blue)attribute>> [[psysml:627607da-451a-45ac-bf2e-8d18d85231b1 ]] {\r\n",
       "}\r\n",
       "comp usage \"y\" as E7  <<(T,blue)attribute>> [[psysml:b8e81d8b-4779-47a3-b21f-b5cec6a6f06b ]] {\r\n",
       "}\r\n",
       "comp usage \"z\" as E8  <<(T,blue)attribute>> [[psysml:ff5b6b09-567c-4f7f-ac5d-5252b0115c49 ]] {\r\n",
       "}\r\n",
       "E3 ..>> E4 [[psysml:dea4bf7d-7df0-4a98-b0a8-ad3094fe796e ]] : <<depend>>\r\n",
       "E4 ..>> E5 [[psysml:6c12c767-a343-4222-b71b-448a215deadc ]] : <<depend>>\r\n",
       "E8 ..>> E6 [[psysml:2c14e4ca-efb9-4e12-a147-b41b8d65befc ]] : <<depend>>\r\n",
       "E8 ..>> E7 [[psysml:2c14e4ca-efb9-4e12-a147-b41b8d65befc ]] : <<depend>>\r\n",
       "}\r\n",
       "@enduml\r\n",
       "\n",
       "PlantUML version 1.2020.13(Sat Jun 13 12:26:38 UTC 2020)\n",
       "(EPL source distribution)\n",
       "Java Runtime: OpenJDK Runtime Environment\n",
       "JVM: OpenJDK 64-Bit Server VM\n",
       "Default Encoding: UTF-8\n",
       "Language: en\n",
       "Country: null\n",
       "--></g></svg>"
      ]
     },
     "execution_count": 49,
     "metadata": {},
     "output_type": "execute_result"
    }
   ],
   "source": [
    "%viz --style=\"TB\" --view=\"Sequence\" \"DependencyTest\""
   ]
  },
  {
   "cell_type": "code",
   "execution_count": 50,
   "id": "700c662d",
   "metadata": {
    "execution": {
     "iopub.execute_input": "2021-05-28T10:49:40.209747Z",
     "iopub.status.busy": "2021-05-28T10:49:40.208881Z",
     "iopub.status.idle": "2021-05-28T10:49:40.245878Z",
     "shell.execute_reply": "2021-05-28T10:49:40.244542Z"
    }
   },
   "outputs": [
    {
     "data": {
      "image/svg+xml": [
       "<?xml version=\"1.0\" encoding=\"UTF-8\" standalone=\"no\"?><svg xmlns=\"http://www.w3.org/2000/svg\" xmlns:xlink=\"http://www.w3.org/1999/xlink\" contentScriptType=\"application/ecmascript\" contentStyleType=\"text/css\" height=\"449px\" preserveAspectRatio=\"none\" style=\"width:489px;height:449px;\" version=\"1.1\" viewBox=\"0 0 489 449\" width=\"489px\" zoomAndPan=\"magnify\"><defs/><g><!--MD5=[fbc87193dbaf4d95561dea2c320d4a47]\n",
       "cluster E1--><a href=\"psysml:cce2acdd-5299-4277-a359-760a7748f1a5\" target=\"_top\" title=\"psysml:cce2acdd-5299-4277-a359-760a7748f1a5\" xlink:actuate=\"onRequest\" xlink:href=\"psysml:cce2acdd-5299-4277-a359-760a7748f1a5\" xlink:show=\"new\" xlink:title=\"psysml:cce2acdd-5299-4277-a359-760a7748f1a5\" xlink:type=\"simple\"><polygon fill=\"#FFFFFF\" points=\"16,6,156,6,163,28.2969,467,28.2969,467,437,16,437,16,6\" style=\"stroke: #000000; stroke-width: 1.5;\"/><line style=\"stroke: #000000; stroke-width: 1.5;\" x1=\"16\" x2=\"163\" y1=\"28.2969\" y2=\"28.2969\"/><text fill=\"#000000\" font-family=\"sans-serif\" font-size=\"14\" font-weight=\"bold\" lengthAdjust=\"spacingAndGlyphs\" textLength=\"134\" x=\"20\" y=\"20.9951\">DependencyTest</text></a><!--MD5=[e4f7fae6ed58524ba242bb0b0d3be6b7]\n",
       "cluster E2--><a href=\"psysml:fe0450d0-807d-48bf-914f-f99eea0aac67\" target=\"_top\" title=\"psysml:fe0450d0-807d-48bf-914f-f99eea0aac67\" xlink:actuate=\"onRequest\" xlink:href=\"psysml:fe0450d0-807d-48bf-914f-f99eea0aac67\" xlink:show=\"new\" xlink:title=\"psysml:fe0450d0-807d-48bf-914f-f99eea0aac67\" xlink:type=\"simple\"><polygon fill=\"#FFFFFF\" points=\"255,49,319,49,326,71.2969,443,71.2969,443,413,255,413,255,49\" style=\"stroke: #000000; stroke-width: 1.5;\"/><line style=\"stroke: #000000; stroke-width: 1.5;\" x1=\"255\" x2=\"326\" y1=\"71.2969\" y2=\"71.2969\"/><text fill=\"#000000\" font-family=\"sans-serif\" font-size=\"14\" font-weight=\"bold\" lengthAdjust=\"spacingAndGlyphs\" textLength=\"58\" x=\"259\" y=\"63.9951\">System</text></a><!--MD5=[60a26617385b1d2d0262a64233df1f8d]\n",
       "class E6--><a href=\"psysml:627607da-451a-45ac-bf2e-8d18d85231b1\" target=\"_top\" title=\"psysml:627607da-451a-45ac-bf2e-8d18d85231b1\" xlink:actuate=\"onRequest\" xlink:href=\"psysml:627607da-451a-45ac-bf2e-8d18d85231b1\" xlink:show=\"new\" xlink:title=\"psysml:627607da-451a-45ac-bf2e-8d18d85231b1\" xlink:type=\"simple\"><rect fill=\"#FFFFFF\" height=\"45.9375\" id=\"E6\" rx=\"10\" ry=\"10\" style=\"stroke: #383838; stroke-width: 1.5;\" width=\"71\" x=\"32.5\" y=\"217.5\"/><text fill=\"#000000\" font-family=\"sans-serif\" font-size=\"12\" font-style=\"italic\" lengthAdjust=\"spacingAndGlyphs\" textLength=\"69\" x=\"33.5\" y=\"233.6387\">«attribute»</text><text fill=\"#000000\" font-family=\"sans-serif\" font-size=\"12\" lengthAdjust=\"spacingAndGlyphs\" textLength=\"6\" x=\"65\" y=\"247.6074\">x</text><line style=\"stroke: #383838; stroke-width: 1.5;\" x1=\"33.5\" x2=\"102.5\" y1=\"255.4375\" y2=\"255.4375\"/></a><!--MD5=[2156ba9850f5573cc1fc38a6a4b2f02b]\n",
       "class E7--><a href=\"psysml:b8e81d8b-4779-47a3-b21f-b5cec6a6f06b\" target=\"_top\" title=\"psysml:b8e81d8b-4779-47a3-b21f-b5cec6a6f06b\" xlink:actuate=\"onRequest\" xlink:href=\"psysml:b8e81d8b-4779-47a3-b21f-b5cec6a6f06b\" xlink:show=\"new\" xlink:title=\"psysml:b8e81d8b-4779-47a3-b21f-b5cec6a6f06b\" xlink:type=\"simple\"><rect fill=\"#FFFFFF\" height=\"45.9375\" id=\"E7\" rx=\"10\" ry=\"10\" style=\"stroke: #383838; stroke-width: 1.5;\" width=\"71\" x=\"138.5\" y=\"217.5\"/><text fill=\"#000000\" font-family=\"sans-serif\" font-size=\"12\" font-style=\"italic\" lengthAdjust=\"spacingAndGlyphs\" textLength=\"69\" x=\"139.5\" y=\"233.6387\">«attribute»</text><text fill=\"#000000\" font-family=\"sans-serif\" font-size=\"12\" lengthAdjust=\"spacingAndGlyphs\" textLength=\"6\" x=\"171\" y=\"247.6074\">y</text><line style=\"stroke: #383838; stroke-width: 1.5;\" x1=\"139.5\" x2=\"208.5\" y1=\"255.4375\" y2=\"255.4375\"/></a><!--MD5=[b9389687b975829384b498ac4b7476b2]\n",
       "class E8--><a href=\"psysml:ff5b6b09-567c-4f7f-ac5d-5252b0115c49\" target=\"_top\" title=\"psysml:ff5b6b09-567c-4f7f-ac5d-5252b0115c49\" xlink:actuate=\"onRequest\" xlink:href=\"psysml:ff5b6b09-567c-4f7f-ac5d-5252b0115c49\" xlink:show=\"new\" xlink:title=\"psysml:ff5b6b09-567c-4f7f-ac5d-5252b0115c49\" xlink:type=\"simple\"><rect fill=\"#FFFFFF\" height=\"45.9375\" id=\"E8\" rx=\"10\" ry=\"10\" style=\"stroke: #383838; stroke-width: 1.5;\" width=\"71\" x=\"84.5\" y=\"87.5\"/><text fill=\"#000000\" font-family=\"sans-serif\" font-size=\"12\" font-style=\"italic\" lengthAdjust=\"spacingAndGlyphs\" textLength=\"69\" x=\"85.5\" y=\"103.6387\">«attribute»</text><text fill=\"#000000\" font-family=\"sans-serif\" font-size=\"12\" lengthAdjust=\"spacingAndGlyphs\" textLength=\"5\" x=\"117.5\" y=\"117.6074\">z</text><line style=\"stroke: #383838; stroke-width: 1.5;\" x1=\"85.5\" x2=\"154.5\" y1=\"125.4375\" y2=\"125.4375\"/></a><a href=\"psysml:b4c6803f-b500-4ed2-a89b-7b27b2a9486d\" target=\"_top\" title=\"psysml:b4c6803f-b500-4ed2-a89b-7b27b2a9486d\" xlink:actuate=\"onRequest\" xlink:href=\"psysml:b4c6803f-b500-4ed2-a89b-7b27b2a9486d\" xlink:show=\"new\" xlink:title=\"psysml:b4c6803f-b500-4ed2-a89b-7b27b2a9486d\" xlink:type=\"simple\"><polygon fill=\"#FFFFFF\" points=\"271,84,413,84,420,106.2969,427,106.2969,427,136.5938,271,136.5938,271,84\" style=\"stroke: #000000; stroke-width: 1.5;\"/><line style=\"stroke: #000000; stroke-width: 1.5;\" x1=\"271\" x2=\"420\" y1=\"106.2969\" y2=\"106.2969\"/><text fill=\"#000000\" font-family=\"sans-serif\" font-size=\"14\" font-weight=\"bold\" lengthAdjust=\"spacingAndGlyphs\" textLength=\"136\" x=\"275\" y=\"98.9951\">Application Layer</text></a><a href=\"psysml:66b88940-ae34-45ae-8eaf-0df380551b61\" target=\"_top\" title=\"psysml:66b88940-ae34-45ae-8eaf-0df380551b61\" xlink:actuate=\"onRequest\" xlink:href=\"psysml:66b88940-ae34-45ae-8eaf-0df380551b61\" xlink:show=\"new\" xlink:title=\"psysml:66b88940-ae34-45ae-8eaf-0df380551b61\" xlink:type=\"simple\"><polygon fill=\"#FFFFFF\" points=\"285,214,399,214,406,236.2969,413,236.2969,413,266.5938,285,266.5938,285,214\" style=\"stroke: #000000; stroke-width: 1.5;\"/><line style=\"stroke: #000000; stroke-width: 1.5;\" x1=\"285\" x2=\"406\" y1=\"236.2969\" y2=\"236.2969\"/><text fill=\"#000000\" font-family=\"sans-serif\" font-size=\"14\" font-weight=\"bold\" lengthAdjust=\"spacingAndGlyphs\" textLength=\"108\" x=\"289\" y=\"228.9951\">Service Layer</text></a><a href=\"psysml:2f9cfad3-e6e2-4672-a52e-eac3ac1cc3fa\" target=\"_top\" title=\"psysml:2f9cfad3-e6e2-4672-a52e-eac3ac1cc3fa\" xlink:actuate=\"onRequest\" xlink:href=\"psysml:2f9cfad3-e6e2-4672-a52e-eac3ac1cc3fa\" xlink:show=\"new\" xlink:title=\"psysml:2f9cfad3-e6e2-4672-a52e-eac3ac1cc3fa\" xlink:type=\"simple\"><polygon fill=\"#FFFFFF\" points=\"297,344,387,344,394,366.2969,401,366.2969,401,396.5938,297,396.5938,297,344\" style=\"stroke: #000000; stroke-width: 1.5;\"/><line style=\"stroke: #000000; stroke-width: 1.5;\" x1=\"297\" x2=\"394\" y1=\"366.2969\" y2=\"366.2969\"/><text fill=\"#000000\" font-family=\"sans-serif\" font-size=\"14\" font-weight=\"bold\" lengthAdjust=\"spacingAndGlyphs\" textLength=\"84\" x=\"301\" y=\"358.9951\">Data Layer</text></a><!--MD5=[af87c684e3b0d8be13c1a698a818ef1e]\n",
       "link E3 to E4--><a href=\"psysml:dea4bf7d-7df0-4a98-b0a8-ad3094fe796e\" target=\"_top\" title=\"psysml:dea4bf7d-7df0-4a98-b0a8-ad3094fe796e\" xlink:actuate=\"onRequest\" xlink:href=\"psysml:dea4bf7d-7df0-4a98-b0a8-ad3094fe796e\" xlink:show=\"new\" xlink:title=\"psysml:dea4bf7d-7df0-4a98-b0a8-ad3094fe796e\" xlink:type=\"simple\"><path d=\"M349,137.1 C349,156.8 349,184.22 349,205.73 \" fill=\"none\" id=\"E3-&gt;E4\" style=\"stroke: #383838; stroke-width: 1.0; stroke-dasharray: 7.0,7.0;\"/><polygon fill=\"#383838\" points=\"349,213.95,352,205.95,346,205.95,349,213.95\" style=\"stroke: #383838; stroke-width: 1.0;\"/><text fill=\"#000000\" font-family=\"sans-serif\" font-size=\"13\" lengthAdjust=\"spacingAndGlyphs\" textLength=\"64\" x=\"350\" y=\"180.0669\">«depend»</text></a><!--MD5=[1b7591eae5389033d8d09a9d6721a717]\n",
       "link E4 to E5--><a href=\"psysml:6c12c767-a343-4222-b71b-448a215deadc\" target=\"_top\" title=\"psysml:6c12c767-a343-4222-b71b-448a215deadc\" xlink:actuate=\"onRequest\" xlink:href=\"psysml:6c12c767-a343-4222-b71b-448a215deadc\" xlink:show=\"new\" xlink:title=\"psysml:6c12c767-a343-4222-b71b-448a215deadc\" xlink:type=\"simple\"><path d=\"M349,267.1 C349,286.8 349,314.22 349,335.73 \" fill=\"none\" id=\"E4-&gt;E5\" style=\"stroke: #383838; stroke-width: 1.0; stroke-dasharray: 7.0,7.0;\"/><polygon fill=\"#383838\" points=\"349,343.95,352,335.95,346,335.95,349,343.95\" style=\"stroke: #383838; stroke-width: 1.0;\"/><text fill=\"#000000\" font-family=\"sans-serif\" font-size=\"13\" lengthAdjust=\"spacingAndGlyphs\" textLength=\"64\" x=\"350\" y=\"310.0669\">«depend»</text></a><!--MD5=[c5e8897d989ce984f93528998a7150fe]\n",
       "link E8 to E6--><a href=\"psysml:2c14e4ca-efb9-4e12-a147-b41b8d65befc\" target=\"_top\" title=\"psysml:2c14e4ca-efb9-4e12-a147-b41b8d65befc\" xlink:actuate=\"onRequest\" xlink:href=\"psysml:2c14e4ca-efb9-4e12-a147-b41b8d65befc\" xlink:show=\"new\" xlink:title=\"psysml:2c14e4ca-efb9-4e12-a147-b41b8d65befc\" xlink:type=\"simple\"><path d=\"M89.42,133.6 C79.35,142.68 69.37,154.11 64,167 C58.5,180.2 58.66,195.94 60.54,209.38 \" fill=\"none\" id=\"E8-&gt;E6\" style=\"stroke: #383838; stroke-width: 1.0; stroke-dasharray: 7.0,7.0;\"/><polygon fill=\"#383838\" points=\"61.9,217.4,63.517,209.0104,57.6018,210.0159,61.9,217.4\" style=\"stroke: #383838; stroke-width: 1.0;\"/><text fill=\"#000000\" font-family=\"sans-serif\" font-size=\"13\" lengthAdjust=\"spacingAndGlyphs\" textLength=\"64\" x=\"65\" y=\"180.0669\">«depend»</text></a><!--MD5=[bfa3c8b0d15052fdf50ae9310b491027]\n",
       "link E8 to E7--><a href=\"psysml:2c14e4ca-efb9-4e12-a147-b41b8d65befc\" target=\"_top\" title=\"psysml:2c14e4ca-efb9-4e12-a147-b41b8d65befc\" xlink:actuate=\"onRequest\" xlink:href=\"psysml:2c14e4ca-efb9-4e12-a147-b41b8d65befc\" xlink:show=\"new\" xlink:title=\"psysml:2c14e4ca-efb9-4e12-a147-b41b8d65befc\" xlink:type=\"simple\"><path d=\"M129.28,133.5 C138.17,154.57 151.64,186.5 161.47,209.81 \" fill=\"none\" id=\"E8-&gt;E7\" style=\"stroke: #383838; stroke-width: 1.0; stroke-dasharray: 7.0,7.0;\"/><polygon fill=\"#383838\" points=\"164.66,217.35,164.3241,208.8126,158.7933,211.1385,164.66,217.35\" style=\"stroke: #383838; stroke-width: 1.0;\"/><text fill=\"#000000\" font-family=\"sans-serif\" font-size=\"13\" lengthAdjust=\"spacingAndGlyphs\" textLength=\"64\" x=\"151\" y=\"180.0669\">«depend»</text></a><!--MD5=[53e2909a0bd842ea1c985762237ea315]\n",
       "@startuml\r\n",
       "top to bottom direction\r\n",
       "skinparam monochrome true\r\n",
       "skinparam classbackgroundcolor white\r\n",
       "skinparam shadowing false\r\n",
       "skinparam wrapWidth 300\r\n",
       "hide circle\r\n",
       "\r\n",
       "package \"DependencyTest\" as E1  [[psysml:cce2acdd-5299-4277-a359-760a7748f1a5 ]]  {\r\n",
       "package \"System\" as E2  [[psysml:fe0450d0-807d-48bf-914f-f99eea0aac67 ]]  {\r\n",
       "package \"Application Layer\" as E3  [[psysml:b4c6803f-b500-4ed2-a89b-7b27b2a9486d ]]  {\r\n",
       "}\r\n",
       "package \"Service Layer\" as E4  [[psysml:66b88940-ae34-45ae-8eaf-0df380551b61 ]]  {\r\n",
       "}\r\n",
       "package \"Data Layer\" as E5  [[psysml:2f9cfad3-e6e2-4672-a52e-eac3ac1cc3fa ]]  {\r\n",
       "}\r\n",
       "}\r\n",
       "comp usage \"x\" as E6  <<(T,blue)attribute>> [[psysml:627607da-451a-45ac-bf2e-8d18d85231b1 ]] {\r\n",
       "}\r\n",
       "comp usage \"y\" as E7  <<(T,blue)attribute>> [[psysml:b8e81d8b-4779-47a3-b21f-b5cec6a6f06b ]] {\r\n",
       "}\r\n",
       "comp usage \"z\" as E8  <<(T,blue)attribute>> [[psysml:ff5b6b09-567c-4f7f-ac5d-5252b0115c49 ]] {\r\n",
       "}\r\n",
       "E3 ..>> E4 [[psysml:dea4bf7d-7df0-4a98-b0a8-ad3094fe796e ]] : <<depend>>\r\n",
       "E4 ..>> E5 [[psysml:6c12c767-a343-4222-b71b-448a215deadc ]] : <<depend>>\r\n",
       "E8 ..>> E6 [[psysml:2c14e4ca-efb9-4e12-a147-b41b8d65befc ]] : <<depend>>\r\n",
       "E8 ..>> E7 [[psysml:2c14e4ca-efb9-4e12-a147-b41b8d65befc ]] : <<depend>>\r\n",
       "}\r\n",
       "@enduml\r\n",
       "\n",
       "PlantUML version 1.2020.13(Sat Jun 13 12:26:38 UTC 2020)\n",
       "(EPL source distribution)\n",
       "Java Runtime: OpenJDK Runtime Environment\n",
       "JVM: OpenJDK 64-Bit Server VM\n",
       "Default Encoding: UTF-8\n",
       "Language: en\n",
       "Country: null\n",
       "--></g></svg>"
      ]
     },
     "execution_count": 50,
     "metadata": {},
     "output_type": "execute_result"
    }
   ],
   "source": [
    "%viz --style=\"TB\" --view=\"MIXED\" \"DependencyTest\""
   ]
  },
  {
   "cell_type": "code",
   "execution_count": 51,
   "id": "d6c3fca8",
   "metadata": {
    "execution": {
     "iopub.execute_input": "2021-05-28T10:49:40.296086Z",
     "iopub.status.busy": "2021-05-28T10:49:40.295518Z",
     "iopub.status.idle": "2021-05-28T10:49:40.324025Z",
     "shell.execute_reply": "2021-05-28T10:49:40.322731Z"
    }
   },
   "outputs": [
    {
     "data": {
      "image/svg+xml": [
       "<?xml version=\"1.0\" encoding=\"UTF-8\" standalone=\"no\"?><svg xmlns=\"http://www.w3.org/2000/svg\" xmlns:xlink=\"http://www.w3.org/1999/xlink\" contentScriptType=\"application/ecmascript\" contentStyleType=\"text/css\" height=\"449px\" preserveAspectRatio=\"none\" style=\"width:489px;height:449px;\" version=\"1.1\" viewBox=\"0 0 489 449\" width=\"489px\" zoomAndPan=\"magnify\"><defs/><g><!--MD5=[fbc87193dbaf4d95561dea2c320d4a47]\n",
       "cluster E1--><a href=\"psysml:cce2acdd-5299-4277-a359-760a7748f1a5\" target=\"_top\" title=\"psysml:cce2acdd-5299-4277-a359-760a7748f1a5\" xlink:actuate=\"onRequest\" xlink:href=\"psysml:cce2acdd-5299-4277-a359-760a7748f1a5\" xlink:show=\"new\" xlink:title=\"psysml:cce2acdd-5299-4277-a359-760a7748f1a5\" xlink:type=\"simple\"><polygon fill=\"#FFFFFF\" points=\"16,6,156,6,163,28.2969,467,28.2969,467,437,16,437,16,6\" style=\"stroke: #000000; stroke-width: 1.5;\"/><line style=\"stroke: #000000; stroke-width: 1.5;\" x1=\"16\" x2=\"163\" y1=\"28.2969\" y2=\"28.2969\"/><text fill=\"#000000\" font-family=\"sans-serif\" font-size=\"14\" font-weight=\"bold\" lengthAdjust=\"spacingAndGlyphs\" textLength=\"134\" x=\"20\" y=\"20.9951\">DependencyTest</text></a><!--MD5=[e4f7fae6ed58524ba242bb0b0d3be6b7]\n",
       "cluster E2--><a href=\"psysml:fe0450d0-807d-48bf-914f-f99eea0aac67\" target=\"_top\" title=\"psysml:fe0450d0-807d-48bf-914f-f99eea0aac67\" xlink:actuate=\"onRequest\" xlink:href=\"psysml:fe0450d0-807d-48bf-914f-f99eea0aac67\" xlink:show=\"new\" xlink:title=\"psysml:fe0450d0-807d-48bf-914f-f99eea0aac67\" xlink:type=\"simple\"><polygon fill=\"#FFFFFF\" points=\"255,49,319,49,326,71.2969,443,71.2969,443,413,255,413,255,49\" style=\"stroke: #000000; stroke-width: 1.5;\"/><line style=\"stroke: #000000; stroke-width: 1.5;\" x1=\"255\" x2=\"326\" y1=\"71.2969\" y2=\"71.2969\"/><text fill=\"#000000\" font-family=\"sans-serif\" font-size=\"14\" font-weight=\"bold\" lengthAdjust=\"spacingAndGlyphs\" textLength=\"58\" x=\"259\" y=\"63.9951\">System</text></a><!--MD5=[60a26617385b1d2d0262a64233df1f8d]\n",
       "class E6--><a href=\"psysml:627607da-451a-45ac-bf2e-8d18d85231b1\" target=\"_top\" title=\"psysml:627607da-451a-45ac-bf2e-8d18d85231b1\" xlink:actuate=\"onRequest\" xlink:href=\"psysml:627607da-451a-45ac-bf2e-8d18d85231b1\" xlink:show=\"new\" xlink:title=\"psysml:627607da-451a-45ac-bf2e-8d18d85231b1\" xlink:type=\"simple\"><rect fill=\"#FFFFFF\" height=\"45.9375\" id=\"E6\" rx=\"10\" ry=\"10\" style=\"stroke: #383838; stroke-width: 1.5;\" width=\"71\" x=\"32.5\" y=\"217.5\"/><text fill=\"#000000\" font-family=\"sans-serif\" font-size=\"12\" font-style=\"italic\" lengthAdjust=\"spacingAndGlyphs\" textLength=\"69\" x=\"33.5\" y=\"233.6387\">«attribute»</text><text fill=\"#000000\" font-family=\"sans-serif\" font-size=\"12\" lengthAdjust=\"spacingAndGlyphs\" textLength=\"6\" x=\"65\" y=\"247.6074\">x</text><line style=\"stroke: #383838; stroke-width: 1.5;\" x1=\"33.5\" x2=\"102.5\" y1=\"255.4375\" y2=\"255.4375\"/></a><!--MD5=[2156ba9850f5573cc1fc38a6a4b2f02b]\n",
       "class E7--><a href=\"psysml:b8e81d8b-4779-47a3-b21f-b5cec6a6f06b\" target=\"_top\" title=\"psysml:b8e81d8b-4779-47a3-b21f-b5cec6a6f06b\" xlink:actuate=\"onRequest\" xlink:href=\"psysml:b8e81d8b-4779-47a3-b21f-b5cec6a6f06b\" xlink:show=\"new\" xlink:title=\"psysml:b8e81d8b-4779-47a3-b21f-b5cec6a6f06b\" xlink:type=\"simple\"><rect fill=\"#FFFFFF\" height=\"45.9375\" id=\"E7\" rx=\"10\" ry=\"10\" style=\"stroke: #383838; stroke-width: 1.5;\" width=\"71\" x=\"138.5\" y=\"217.5\"/><text fill=\"#000000\" font-family=\"sans-serif\" font-size=\"12\" font-style=\"italic\" lengthAdjust=\"spacingAndGlyphs\" textLength=\"69\" x=\"139.5\" y=\"233.6387\">«attribute»</text><text fill=\"#000000\" font-family=\"sans-serif\" font-size=\"12\" lengthAdjust=\"spacingAndGlyphs\" textLength=\"6\" x=\"171\" y=\"247.6074\">y</text><line style=\"stroke: #383838; stroke-width: 1.5;\" x1=\"139.5\" x2=\"208.5\" y1=\"255.4375\" y2=\"255.4375\"/></a><!--MD5=[b9389687b975829384b498ac4b7476b2]\n",
       "class E8--><a href=\"psysml:ff5b6b09-567c-4f7f-ac5d-5252b0115c49\" target=\"_top\" title=\"psysml:ff5b6b09-567c-4f7f-ac5d-5252b0115c49\" xlink:actuate=\"onRequest\" xlink:href=\"psysml:ff5b6b09-567c-4f7f-ac5d-5252b0115c49\" xlink:show=\"new\" xlink:title=\"psysml:ff5b6b09-567c-4f7f-ac5d-5252b0115c49\" xlink:type=\"simple\"><rect fill=\"#FFFFFF\" height=\"45.9375\" id=\"E8\" rx=\"10\" ry=\"10\" style=\"stroke: #383838; stroke-width: 1.5;\" width=\"71\" x=\"84.5\" y=\"87.5\"/><text fill=\"#000000\" font-family=\"sans-serif\" font-size=\"12\" font-style=\"italic\" lengthAdjust=\"spacingAndGlyphs\" textLength=\"69\" x=\"85.5\" y=\"103.6387\">«attribute»</text><text fill=\"#000000\" font-family=\"sans-serif\" font-size=\"12\" lengthAdjust=\"spacingAndGlyphs\" textLength=\"5\" x=\"117.5\" y=\"117.6074\">z</text><line style=\"stroke: #383838; stroke-width: 1.5;\" x1=\"85.5\" x2=\"154.5\" y1=\"125.4375\" y2=\"125.4375\"/></a><a href=\"psysml:b4c6803f-b500-4ed2-a89b-7b27b2a9486d\" target=\"_top\" title=\"psysml:b4c6803f-b500-4ed2-a89b-7b27b2a9486d\" xlink:actuate=\"onRequest\" xlink:href=\"psysml:b4c6803f-b500-4ed2-a89b-7b27b2a9486d\" xlink:show=\"new\" xlink:title=\"psysml:b4c6803f-b500-4ed2-a89b-7b27b2a9486d\" xlink:type=\"simple\"><polygon fill=\"#FFFFFF\" points=\"271,84,413,84,420,106.2969,427,106.2969,427,136.5938,271,136.5938,271,84\" style=\"stroke: #000000; stroke-width: 1.5;\"/><line style=\"stroke: #000000; stroke-width: 1.5;\" x1=\"271\" x2=\"420\" y1=\"106.2969\" y2=\"106.2969\"/><text fill=\"#000000\" font-family=\"sans-serif\" font-size=\"14\" font-weight=\"bold\" lengthAdjust=\"spacingAndGlyphs\" textLength=\"136\" x=\"275\" y=\"98.9951\">Application Layer</text></a><a href=\"psysml:66b88940-ae34-45ae-8eaf-0df380551b61\" target=\"_top\" title=\"psysml:66b88940-ae34-45ae-8eaf-0df380551b61\" xlink:actuate=\"onRequest\" xlink:href=\"psysml:66b88940-ae34-45ae-8eaf-0df380551b61\" xlink:show=\"new\" xlink:title=\"psysml:66b88940-ae34-45ae-8eaf-0df380551b61\" xlink:type=\"simple\"><polygon fill=\"#FFFFFF\" points=\"285,214,399,214,406,236.2969,413,236.2969,413,266.5938,285,266.5938,285,214\" style=\"stroke: #000000; stroke-width: 1.5;\"/><line style=\"stroke: #000000; stroke-width: 1.5;\" x1=\"285\" x2=\"406\" y1=\"236.2969\" y2=\"236.2969\"/><text fill=\"#000000\" font-family=\"sans-serif\" font-size=\"14\" font-weight=\"bold\" lengthAdjust=\"spacingAndGlyphs\" textLength=\"108\" x=\"289\" y=\"228.9951\">Service Layer</text></a><a href=\"psysml:2f9cfad3-e6e2-4672-a52e-eac3ac1cc3fa\" target=\"_top\" title=\"psysml:2f9cfad3-e6e2-4672-a52e-eac3ac1cc3fa\" xlink:actuate=\"onRequest\" xlink:href=\"psysml:2f9cfad3-e6e2-4672-a52e-eac3ac1cc3fa\" xlink:show=\"new\" xlink:title=\"psysml:2f9cfad3-e6e2-4672-a52e-eac3ac1cc3fa\" xlink:type=\"simple\"><polygon fill=\"#FFFFFF\" points=\"297,344,387,344,394,366.2969,401,366.2969,401,396.5938,297,396.5938,297,344\" style=\"stroke: #000000; stroke-width: 1.5;\"/><line style=\"stroke: #000000; stroke-width: 1.5;\" x1=\"297\" x2=\"394\" y1=\"366.2969\" y2=\"366.2969\"/><text fill=\"#000000\" font-family=\"sans-serif\" font-size=\"14\" font-weight=\"bold\" lengthAdjust=\"spacingAndGlyphs\" textLength=\"84\" x=\"301\" y=\"358.9951\">Data Layer</text></a><!--MD5=[af87c684e3b0d8be13c1a698a818ef1e]\n",
       "link E3 to E4--><a href=\"psysml:dea4bf7d-7df0-4a98-b0a8-ad3094fe796e\" target=\"_top\" title=\"psysml:dea4bf7d-7df0-4a98-b0a8-ad3094fe796e\" xlink:actuate=\"onRequest\" xlink:href=\"psysml:dea4bf7d-7df0-4a98-b0a8-ad3094fe796e\" xlink:show=\"new\" xlink:title=\"psysml:dea4bf7d-7df0-4a98-b0a8-ad3094fe796e\" xlink:type=\"simple\"><path d=\"M349,137.12 C349,137.12 349,205.91 349,205.91 \" fill=\"none\" id=\"E3-&gt;E4\" style=\"stroke: #383838; stroke-width: 1.0; stroke-dasharray: 7.0,7.0;\"/><polygon fill=\"#383838\" points=\"349,213.91,352,205.91,346,205.91,349,213.91\" style=\"stroke: #383838; stroke-width: 1.0;\"/><text fill=\"#000000\" font-family=\"sans-serif\" font-size=\"13\" lengthAdjust=\"spacingAndGlyphs\" textLength=\"64\" x=\"350\" y=\"180.0669\">«depend»</text></a><!--MD5=[1b7591eae5389033d8d09a9d6721a717]\n",
       "link E4 to E5--><a href=\"psysml:6c12c767-a343-4222-b71b-448a215deadc\" target=\"_top\" title=\"psysml:6c12c767-a343-4222-b71b-448a215deadc\" xlink:actuate=\"onRequest\" xlink:href=\"psysml:6c12c767-a343-4222-b71b-448a215deadc\" xlink:show=\"new\" xlink:title=\"psysml:6c12c767-a343-4222-b71b-448a215deadc\" xlink:type=\"simple\"><path d=\"M349,267.12 C349,267.12 349,335.91 349,335.91 \" fill=\"none\" id=\"E4-&gt;E5\" style=\"stroke: #383838; stroke-width: 1.0; stroke-dasharray: 7.0,7.0;\"/><polygon fill=\"#383838\" points=\"349,343.91,352,335.91,346,335.91,349,343.91\" style=\"stroke: #383838; stroke-width: 1.0;\"/><text fill=\"#000000\" font-family=\"sans-serif\" font-size=\"13\" lengthAdjust=\"spacingAndGlyphs\" textLength=\"64\" x=\"350\" y=\"310.0669\">«depend»</text></a><!--MD5=[c5e8897d989ce984f93528998a7150fe]\n",
       "link E8 to E6--><a href=\"psysml:2c14e4ca-efb9-4e12-a147-b41b8d65befc\" target=\"_top\" title=\"psysml:2c14e4ca-efb9-4e12-a147-b41b8d65befc\" xlink:actuate=\"onRequest\" xlink:href=\"psysml:2c14e4ca-efb9-4e12-a147-b41b8d65befc\" xlink:show=\"new\" xlink:title=\"psysml:2c14e4ca-efb9-4e12-a147-b41b8d65befc\" xlink:type=\"simple\"><path d=\"M94,133.74 C94,133.74 94,209.46 94,209.46 \" fill=\"none\" id=\"E8-&gt;E6\" style=\"stroke: #383838; stroke-width: 1.0; stroke-dasharray: 7.0,7.0;\"/><polygon fill=\"#383838\" points=\"94,217.46,97,209.46,91,209.46,94,217.46\" style=\"stroke: #383838; stroke-width: 1.0;\"/><text fill=\"#000000\" font-family=\"sans-serif\" font-size=\"13\" lengthAdjust=\"spacingAndGlyphs\" textLength=\"64\" x=\"68\" y=\"180.0669\">«depend»</text></a><!--MD5=[bfa3c8b0d15052fdf50ae9310b491027]\n",
       "link E8 to E7--><a href=\"psysml:2c14e4ca-efb9-4e12-a147-b41b8d65befc\" target=\"_top\" title=\"psysml:2c14e4ca-efb9-4e12-a147-b41b8d65befc\" xlink:actuate=\"onRequest\" xlink:href=\"psysml:2c14e4ca-efb9-4e12-a147-b41b8d65befc\" xlink:show=\"new\" xlink:title=\"psysml:2c14e4ca-efb9-4e12-a147-b41b8d65befc\" xlink:type=\"simple\"><path d=\"M147,133.74 C147,133.74 147,209.46 147,209.46 \" fill=\"none\" id=\"E8-&gt;E7\" style=\"stroke: #383838; stroke-width: 1.0; stroke-dasharray: 7.0,7.0;\"/><polygon fill=\"#383838\" points=\"147,217.46,150,209.46,144,209.46,147,217.46\" style=\"stroke: #383838; stroke-width: 1.0;\"/><text fill=\"#000000\" font-family=\"sans-serif\" font-size=\"13\" lengthAdjust=\"spacingAndGlyphs\" textLength=\"64\" x=\"174\" y=\"180.0669\">«depend»</text></a><!--MD5=[1c96597f8f78da635c23b6ca5a02a4b4]\n",
       "@startuml\r\n",
       "skinparam linetype ortho\r\n",
       "skinparam monochrome true\r\n",
       "skinparam classbackgroundcolor white\r\n",
       "skinparam shadowing false\r\n",
       "skinparam wrapWidth 300\r\n",
       "hide circle\r\n",
       "\r\n",
       "package \"DependencyTest\" as E1  [[psysml:cce2acdd-5299-4277-a359-760a7748f1a5 ]]  {\r\n",
       "package \"System\" as E2  [[psysml:fe0450d0-807d-48bf-914f-f99eea0aac67 ]]  {\r\n",
       "package \"Application Layer\" as E3  [[psysml:b4c6803f-b500-4ed2-a89b-7b27b2a9486d ]]  {\r\n",
       "}\r\n",
       "package \"Service Layer\" as E4  [[psysml:66b88940-ae34-45ae-8eaf-0df380551b61 ]]  {\r\n",
       "}\r\n",
       "package \"Data Layer\" as E5  [[psysml:2f9cfad3-e6e2-4672-a52e-eac3ac1cc3fa ]]  {\r\n",
       "}\r\n",
       "}\r\n",
       "comp usage \"x\" as E6  <<(T,blue)attribute>> [[psysml:627607da-451a-45ac-bf2e-8d18d85231b1 ]] {\r\n",
       "}\r\n",
       "comp usage \"y\" as E7  <<(T,blue)attribute>> [[psysml:b8e81d8b-4779-47a3-b21f-b5cec6a6f06b ]] {\r\n",
       "}\r\n",
       "comp usage \"z\" as E8  <<(T,blue)attribute>> [[psysml:ff5b6b09-567c-4f7f-ac5d-5252b0115c49 ]] {\r\n",
       "}\r\n",
       "E3 ..>> E4 [[psysml:dea4bf7d-7df0-4a98-b0a8-ad3094fe796e ]] : <<depend>>\r\n",
       "E4 ..>> E5 [[psysml:6c12c767-a343-4222-b71b-448a215deadc ]] : <<depend>>\r\n",
       "E8 ..>> E6 [[psysml:2c14e4ca-efb9-4e12-a147-b41b8d65befc ]] : <<depend>>\r\n",
       "E8 ..>> E7 [[psysml:2c14e4ca-efb9-4e12-a147-b41b8d65befc ]] : <<depend>>\r\n",
       "}\r\n",
       "@enduml\r\n",
       "\n",
       "PlantUML version 1.2020.13(Sat Jun 13 12:26:38 UTC 2020)\n",
       "(EPL source distribution)\n",
       "Java Runtime: OpenJDK Runtime Environment\n",
       "JVM: OpenJDK 64-Bit Server VM\n",
       "Default Encoding: UTF-8\n",
       "Language: en\n",
       "Country: null\n",
       "--></g></svg>"
      ]
     },
     "execution_count": 51,
     "metadata": {},
     "output_type": "execute_result"
    }
   ],
   "source": [
    "%viz --style=\"ORTHOLINE\" --view=\"Default\" \"DependencyTest\""
   ]
  },
  {
   "cell_type": "code",
   "execution_count": 52,
   "id": "e2c50b17",
   "metadata": {
    "execution": {
     "iopub.execute_input": "2021-05-28T10:49:40.378639Z",
     "iopub.status.busy": "2021-05-28T10:49:40.378100Z",
     "iopub.status.idle": "2021-05-28T10:49:40.407255Z",
     "shell.execute_reply": "2021-05-28T10:49:40.405506Z"
    }
   },
   "outputs": [
    {
     "data": {
      "image/svg+xml": [
       "<?xml version=\"1.0\" encoding=\"UTF-8\" standalone=\"no\"?><svg xmlns=\"http://www.w3.org/2000/svg\" xmlns:xlink=\"http://www.w3.org/1999/xlink\" contentScriptType=\"application/ecmascript\" contentStyleType=\"text/css\" height=\"449px\" preserveAspectRatio=\"none\" style=\"width:489px;height:449px;\" version=\"1.1\" viewBox=\"0 0 489 449\" width=\"489px\" zoomAndPan=\"magnify\"><defs/><g><!--MD5=[fbc87193dbaf4d95561dea2c320d4a47]\n",
       "cluster E1--><a href=\"psysml:cce2acdd-5299-4277-a359-760a7748f1a5\" target=\"_top\" title=\"psysml:cce2acdd-5299-4277-a359-760a7748f1a5\" xlink:actuate=\"onRequest\" xlink:href=\"psysml:cce2acdd-5299-4277-a359-760a7748f1a5\" xlink:show=\"new\" xlink:title=\"psysml:cce2acdd-5299-4277-a359-760a7748f1a5\" xlink:type=\"simple\"><polygon fill=\"#FFFFFF\" points=\"16,6,156,6,163,28.2969,467,28.2969,467,437,16,437,16,6\" style=\"stroke: #000000; stroke-width: 1.5;\"/><line style=\"stroke: #000000; stroke-width: 1.5;\" x1=\"16\" x2=\"163\" y1=\"28.2969\" y2=\"28.2969\"/><text fill=\"#000000\" font-family=\"sans-serif\" font-size=\"14\" font-weight=\"bold\" lengthAdjust=\"spacingAndGlyphs\" textLength=\"134\" x=\"20\" y=\"20.9951\">DependencyTest</text></a><!--MD5=[e4f7fae6ed58524ba242bb0b0d3be6b7]\n",
       "cluster E2--><a href=\"psysml:fe0450d0-807d-48bf-914f-f99eea0aac67\" target=\"_top\" title=\"psysml:fe0450d0-807d-48bf-914f-f99eea0aac67\" xlink:actuate=\"onRequest\" xlink:href=\"psysml:fe0450d0-807d-48bf-914f-f99eea0aac67\" xlink:show=\"new\" xlink:title=\"psysml:fe0450d0-807d-48bf-914f-f99eea0aac67\" xlink:type=\"simple\"><polygon fill=\"#FFFFFF\" points=\"255,49,319,49,326,71.2969,443,71.2969,443,413,255,413,255,49\" style=\"stroke: #000000; stroke-width: 1.5;\"/><line style=\"stroke: #000000; stroke-width: 1.5;\" x1=\"255\" x2=\"326\" y1=\"71.2969\" y2=\"71.2969\"/><text fill=\"#000000\" font-family=\"sans-serif\" font-size=\"14\" font-weight=\"bold\" lengthAdjust=\"spacingAndGlyphs\" textLength=\"58\" x=\"259\" y=\"63.9951\">System</text></a><!--MD5=[60a26617385b1d2d0262a64233df1f8d]\n",
       "class E6--><a href=\"psysml:627607da-451a-45ac-bf2e-8d18d85231b1\" target=\"_top\" title=\"psysml:627607da-451a-45ac-bf2e-8d18d85231b1\" xlink:actuate=\"onRequest\" xlink:href=\"psysml:627607da-451a-45ac-bf2e-8d18d85231b1\" xlink:show=\"new\" xlink:title=\"psysml:627607da-451a-45ac-bf2e-8d18d85231b1\" xlink:type=\"simple\"><rect fill=\"#FFFFFF\" height=\"45.9375\" id=\"E6\" rx=\"10\" ry=\"10\" style=\"stroke: #383838; stroke-width: 1.5;\" width=\"71\" x=\"32.5\" y=\"217.5\"/><text fill=\"#000000\" font-family=\"sans-serif\" font-size=\"12\" font-style=\"italic\" lengthAdjust=\"spacingAndGlyphs\" textLength=\"69\" x=\"33.5\" y=\"233.6387\">«attribute»</text><text fill=\"#000000\" font-family=\"sans-serif\" font-size=\"12\" lengthAdjust=\"spacingAndGlyphs\" textLength=\"6\" x=\"65\" y=\"247.6074\">x</text><line style=\"stroke: #383838; stroke-width: 1.5;\" x1=\"33.5\" x2=\"102.5\" y1=\"255.4375\" y2=\"255.4375\"/></a><!--MD5=[2156ba9850f5573cc1fc38a6a4b2f02b]\n",
       "class E7--><a href=\"psysml:b8e81d8b-4779-47a3-b21f-b5cec6a6f06b\" target=\"_top\" title=\"psysml:b8e81d8b-4779-47a3-b21f-b5cec6a6f06b\" xlink:actuate=\"onRequest\" xlink:href=\"psysml:b8e81d8b-4779-47a3-b21f-b5cec6a6f06b\" xlink:show=\"new\" xlink:title=\"psysml:b8e81d8b-4779-47a3-b21f-b5cec6a6f06b\" xlink:type=\"simple\"><rect fill=\"#FFFFFF\" height=\"45.9375\" id=\"E7\" rx=\"10\" ry=\"10\" style=\"stroke: #383838; stroke-width: 1.5;\" width=\"71\" x=\"138.5\" y=\"217.5\"/><text fill=\"#000000\" font-family=\"sans-serif\" font-size=\"12\" font-style=\"italic\" lengthAdjust=\"spacingAndGlyphs\" textLength=\"69\" x=\"139.5\" y=\"233.6387\">«attribute»</text><text fill=\"#000000\" font-family=\"sans-serif\" font-size=\"12\" lengthAdjust=\"spacingAndGlyphs\" textLength=\"6\" x=\"171\" y=\"247.6074\">y</text><line style=\"stroke: #383838; stroke-width: 1.5;\" x1=\"139.5\" x2=\"208.5\" y1=\"255.4375\" y2=\"255.4375\"/></a><!--MD5=[b9389687b975829384b498ac4b7476b2]\n",
       "class E8--><a href=\"psysml:ff5b6b09-567c-4f7f-ac5d-5252b0115c49\" target=\"_top\" title=\"psysml:ff5b6b09-567c-4f7f-ac5d-5252b0115c49\" xlink:actuate=\"onRequest\" xlink:href=\"psysml:ff5b6b09-567c-4f7f-ac5d-5252b0115c49\" xlink:show=\"new\" xlink:title=\"psysml:ff5b6b09-567c-4f7f-ac5d-5252b0115c49\" xlink:type=\"simple\"><rect fill=\"#FFFFFF\" height=\"45.9375\" id=\"E8\" rx=\"10\" ry=\"10\" style=\"stroke: #383838; stroke-width: 1.5;\" width=\"71\" x=\"84.5\" y=\"87.5\"/><text fill=\"#000000\" font-family=\"sans-serif\" font-size=\"12\" font-style=\"italic\" lengthAdjust=\"spacingAndGlyphs\" textLength=\"69\" x=\"85.5\" y=\"103.6387\">«attribute»</text><text fill=\"#000000\" font-family=\"sans-serif\" font-size=\"12\" lengthAdjust=\"spacingAndGlyphs\" textLength=\"5\" x=\"117.5\" y=\"117.6074\">z</text><line style=\"stroke: #383838; stroke-width: 1.5;\" x1=\"85.5\" x2=\"154.5\" y1=\"125.4375\" y2=\"125.4375\"/></a><a href=\"psysml:b4c6803f-b500-4ed2-a89b-7b27b2a9486d\" target=\"_top\" title=\"psysml:b4c6803f-b500-4ed2-a89b-7b27b2a9486d\" xlink:actuate=\"onRequest\" xlink:href=\"psysml:b4c6803f-b500-4ed2-a89b-7b27b2a9486d\" xlink:show=\"new\" xlink:title=\"psysml:b4c6803f-b500-4ed2-a89b-7b27b2a9486d\" xlink:type=\"simple\"><polygon fill=\"#FFFFFF\" points=\"271,84,413,84,420,106.2969,427,106.2969,427,136.5938,271,136.5938,271,84\" style=\"stroke: #000000; stroke-width: 1.5;\"/><line style=\"stroke: #000000; stroke-width: 1.5;\" x1=\"271\" x2=\"420\" y1=\"106.2969\" y2=\"106.2969\"/><text fill=\"#000000\" font-family=\"sans-serif\" font-size=\"14\" font-weight=\"bold\" lengthAdjust=\"spacingAndGlyphs\" textLength=\"136\" x=\"275\" y=\"98.9951\">Application Layer</text></a><a href=\"psysml:66b88940-ae34-45ae-8eaf-0df380551b61\" target=\"_top\" title=\"psysml:66b88940-ae34-45ae-8eaf-0df380551b61\" xlink:actuate=\"onRequest\" xlink:href=\"psysml:66b88940-ae34-45ae-8eaf-0df380551b61\" xlink:show=\"new\" xlink:title=\"psysml:66b88940-ae34-45ae-8eaf-0df380551b61\" xlink:type=\"simple\"><polygon fill=\"#FFFFFF\" points=\"285,214,399,214,406,236.2969,413,236.2969,413,266.5938,285,266.5938,285,214\" style=\"stroke: #000000; stroke-width: 1.5;\"/><line style=\"stroke: #000000; stroke-width: 1.5;\" x1=\"285\" x2=\"406\" y1=\"236.2969\" y2=\"236.2969\"/><text fill=\"#000000\" font-family=\"sans-serif\" font-size=\"14\" font-weight=\"bold\" lengthAdjust=\"spacingAndGlyphs\" textLength=\"108\" x=\"289\" y=\"228.9951\">Service Layer</text></a><a href=\"psysml:2f9cfad3-e6e2-4672-a52e-eac3ac1cc3fa\" target=\"_top\" title=\"psysml:2f9cfad3-e6e2-4672-a52e-eac3ac1cc3fa\" xlink:actuate=\"onRequest\" xlink:href=\"psysml:2f9cfad3-e6e2-4672-a52e-eac3ac1cc3fa\" xlink:show=\"new\" xlink:title=\"psysml:2f9cfad3-e6e2-4672-a52e-eac3ac1cc3fa\" xlink:type=\"simple\"><polygon fill=\"#FFFFFF\" points=\"297,344,387,344,394,366.2969,401,366.2969,401,396.5938,297,396.5938,297,344\" style=\"stroke: #000000; stroke-width: 1.5;\"/><line style=\"stroke: #000000; stroke-width: 1.5;\" x1=\"297\" x2=\"394\" y1=\"366.2969\" y2=\"366.2969\"/><text fill=\"#000000\" font-family=\"sans-serif\" font-size=\"14\" font-weight=\"bold\" lengthAdjust=\"spacingAndGlyphs\" textLength=\"84\" x=\"301\" y=\"358.9951\">Data Layer</text></a><!--MD5=[af87c684e3b0d8be13c1a698a818ef1e]\n",
       "link E3 to E4--><a href=\"psysml:dea4bf7d-7df0-4a98-b0a8-ad3094fe796e\" target=\"_top\" title=\"psysml:dea4bf7d-7df0-4a98-b0a8-ad3094fe796e\" xlink:actuate=\"onRequest\" xlink:href=\"psysml:dea4bf7d-7df0-4a98-b0a8-ad3094fe796e\" xlink:show=\"new\" xlink:title=\"psysml:dea4bf7d-7df0-4a98-b0a8-ad3094fe796e\" xlink:type=\"simple\"><path d=\"M349,137.12 C349,137.12 349,205.91 349,205.91 \" fill=\"none\" id=\"E3-&gt;E4\" style=\"stroke: #383838; stroke-width: 1.0; stroke-dasharray: 7.0,7.0;\"/><polygon fill=\"#383838\" points=\"349,213.91,352,205.91,346,205.91,349,213.91\" style=\"stroke: #383838; stroke-width: 1.0;\"/><text fill=\"#000000\" font-family=\"sans-serif\" font-size=\"13\" lengthAdjust=\"spacingAndGlyphs\" textLength=\"64\" x=\"350\" y=\"180.0669\">«depend»</text></a><!--MD5=[1b7591eae5389033d8d09a9d6721a717]\n",
       "link E4 to E5--><a href=\"psysml:6c12c767-a343-4222-b71b-448a215deadc\" target=\"_top\" title=\"psysml:6c12c767-a343-4222-b71b-448a215deadc\" xlink:actuate=\"onRequest\" xlink:href=\"psysml:6c12c767-a343-4222-b71b-448a215deadc\" xlink:show=\"new\" xlink:title=\"psysml:6c12c767-a343-4222-b71b-448a215deadc\" xlink:type=\"simple\"><path d=\"M349,267.12 C349,267.12 349,335.91 349,335.91 \" fill=\"none\" id=\"E4-&gt;E5\" style=\"stroke: #383838; stroke-width: 1.0; stroke-dasharray: 7.0,7.0;\"/><polygon fill=\"#383838\" points=\"349,343.91,352,335.91,346,335.91,349,343.91\" style=\"stroke: #383838; stroke-width: 1.0;\"/><text fill=\"#000000\" font-family=\"sans-serif\" font-size=\"13\" lengthAdjust=\"spacingAndGlyphs\" textLength=\"64\" x=\"350\" y=\"310.0669\">«depend»</text></a><!--MD5=[c5e8897d989ce984f93528998a7150fe]\n",
       "link E8 to E6--><a href=\"psysml:2c14e4ca-efb9-4e12-a147-b41b8d65befc\" target=\"_top\" title=\"psysml:2c14e4ca-efb9-4e12-a147-b41b8d65befc\" xlink:actuate=\"onRequest\" xlink:href=\"psysml:2c14e4ca-efb9-4e12-a147-b41b8d65befc\" xlink:show=\"new\" xlink:title=\"psysml:2c14e4ca-efb9-4e12-a147-b41b8d65befc\" xlink:type=\"simple\"><path d=\"M94,133.74 C94,133.74 94,209.46 94,209.46 \" fill=\"none\" id=\"E8-&gt;E6\" style=\"stroke: #383838; stroke-width: 1.0; stroke-dasharray: 7.0,7.0;\"/><polygon fill=\"#383838\" points=\"94,217.46,97,209.46,91,209.46,94,217.46\" style=\"stroke: #383838; stroke-width: 1.0;\"/><text fill=\"#000000\" font-family=\"sans-serif\" font-size=\"13\" lengthAdjust=\"spacingAndGlyphs\" textLength=\"64\" x=\"68\" y=\"180.0669\">«depend»</text></a><!--MD5=[bfa3c8b0d15052fdf50ae9310b491027]\n",
       "link E8 to E7--><a href=\"psysml:2c14e4ca-efb9-4e12-a147-b41b8d65befc\" target=\"_top\" title=\"psysml:2c14e4ca-efb9-4e12-a147-b41b8d65befc\" xlink:actuate=\"onRequest\" xlink:href=\"psysml:2c14e4ca-efb9-4e12-a147-b41b8d65befc\" xlink:show=\"new\" xlink:title=\"psysml:2c14e4ca-efb9-4e12-a147-b41b8d65befc\" xlink:type=\"simple\"><path d=\"M147,133.74 C147,133.74 147,209.46 147,209.46 \" fill=\"none\" id=\"E8-&gt;E7\" style=\"stroke: #383838; stroke-width: 1.0; stroke-dasharray: 7.0,7.0;\"/><polygon fill=\"#383838\" points=\"147,217.46,150,209.46,144,209.46,147,217.46\" style=\"stroke: #383838; stroke-width: 1.0;\"/><text fill=\"#000000\" font-family=\"sans-serif\" font-size=\"13\" lengthAdjust=\"spacingAndGlyphs\" textLength=\"64\" x=\"174\" y=\"180.0669\">«depend»</text></a><!--MD5=[1c96597f8f78da635c23b6ca5a02a4b4]\n",
       "@startuml\r\n",
       "skinparam linetype ortho\r\n",
       "skinparam monochrome true\r\n",
       "skinparam classbackgroundcolor white\r\n",
       "skinparam shadowing false\r\n",
       "skinparam wrapWidth 300\r\n",
       "hide circle\r\n",
       "\r\n",
       "package \"DependencyTest\" as E1  [[psysml:cce2acdd-5299-4277-a359-760a7748f1a5 ]]  {\r\n",
       "package \"System\" as E2  [[psysml:fe0450d0-807d-48bf-914f-f99eea0aac67 ]]  {\r\n",
       "package \"Application Layer\" as E3  [[psysml:b4c6803f-b500-4ed2-a89b-7b27b2a9486d ]]  {\r\n",
       "}\r\n",
       "package \"Service Layer\" as E4  [[psysml:66b88940-ae34-45ae-8eaf-0df380551b61 ]]  {\r\n",
       "}\r\n",
       "package \"Data Layer\" as E5  [[psysml:2f9cfad3-e6e2-4672-a52e-eac3ac1cc3fa ]]  {\r\n",
       "}\r\n",
       "}\r\n",
       "comp usage \"x\" as E6  <<(T,blue)attribute>> [[psysml:627607da-451a-45ac-bf2e-8d18d85231b1 ]] {\r\n",
       "}\r\n",
       "comp usage \"y\" as E7  <<(T,blue)attribute>> [[psysml:b8e81d8b-4779-47a3-b21f-b5cec6a6f06b ]] {\r\n",
       "}\r\n",
       "comp usage \"z\" as E8  <<(T,blue)attribute>> [[psysml:ff5b6b09-567c-4f7f-ac5d-5252b0115c49 ]] {\r\n",
       "}\r\n",
       "E3 ..>> E4 [[psysml:dea4bf7d-7df0-4a98-b0a8-ad3094fe796e ]] : <<depend>>\r\n",
       "E4 ..>> E5 [[psysml:6c12c767-a343-4222-b71b-448a215deadc ]] : <<depend>>\r\n",
       "E8 ..>> E6 [[psysml:2c14e4ca-efb9-4e12-a147-b41b8d65befc ]] : <<depend>>\r\n",
       "E8 ..>> E7 [[psysml:2c14e4ca-efb9-4e12-a147-b41b8d65befc ]] : <<depend>>\r\n",
       "}\r\n",
       "@enduml\r\n",
       "\n",
       "PlantUML version 1.2020.13(Sat Jun 13 12:26:38 UTC 2020)\n",
       "(EPL source distribution)\n",
       "Java Runtime: OpenJDK Runtime Environment\n",
       "JVM: OpenJDK 64-Bit Server VM\n",
       "Default Encoding: UTF-8\n",
       "Language: en\n",
       "Country: null\n",
       "--></g></svg>"
      ]
     },
     "execution_count": 52,
     "metadata": {},
     "output_type": "execute_result"
    }
   ],
   "source": [
    "%viz --style=\"ORTHOLINE\" --view=\"Tree\" \"DependencyTest\""
   ]
  },
  {
   "cell_type": "code",
   "execution_count": 53,
   "id": "463471a4",
   "metadata": {
    "execution": {
     "iopub.execute_input": "2021-05-28T10:49:40.457140Z",
     "iopub.status.busy": "2021-05-28T10:49:40.456601Z",
     "iopub.status.idle": "2021-05-28T10:49:40.461720Z",
     "shell.execute_reply": "2021-05-28T10:49:40.461366Z"
    }
   },
   "outputs": [
    {
     "data": {
      "image/svg+xml": [
       "<?xml version=\"1.0\" encoding=\"UTF-8\" standalone=\"no\"?><svg xmlns=\"http://www.w3.org/2000/svg\" xmlns:xlink=\"http://www.w3.org/1999/xlink\" contentScriptType=\"application/ecmascript\" contentStyleType=\"text/css\" height=\"12px\" preserveAspectRatio=\"none\" style=\"width:12px;height:12px;\" version=\"1.1\" viewBox=\"0 0 12 12\" width=\"12px\" zoomAndPan=\"magnify\"><defs/><g><!--MD5=[97d6f38768b311333d388e66b2b27985]\n",
       "@startuml\r\n",
       "skinparam linetype ortho\r\n",
       "skinparam monochrome true\r\n",
       "skinparam classbackgroundcolor white\r\n",
       "skinparam shadowing false\r\n",
       "skinparam wrapWidth 300\r\n",
       "hide circle\r\n",
       "\r\n",
       "@enduml\r\n",
       "\n",
       "PlantUML version 1.2020.13(Sat Jun 13 12:26:38 UTC 2020)\n",
       "(EPL source distribution)\n",
       "Java Runtime: OpenJDK Runtime Environment\n",
       "JVM: OpenJDK 64-Bit Server VM\n",
       "Default Encoding: UTF-8\n",
       "Language: en\n",
       "Country: null\n",
       "--></g></svg>"
      ]
     },
     "execution_count": 53,
     "metadata": {},
     "output_type": "execute_result"
    }
   ],
   "source": [
    "%viz --style=\"ORTHOLINE\" --view=\"State\" \"DependencyTest\""
   ]
  },
  {
   "cell_type": "code",
   "execution_count": 54,
   "id": "3bad4d9c",
   "metadata": {
    "execution": {
     "iopub.execute_input": "2021-05-28T10:49:40.514334Z",
     "iopub.status.busy": "2021-05-28T10:49:40.513477Z",
     "iopub.status.idle": "2021-05-28T10:49:40.544774Z",
     "shell.execute_reply": "2021-05-28T10:49:40.543499Z"
    }
   },
   "outputs": [
    {
     "data": {
      "image/svg+xml": [
       "<?xml version=\"1.0\" encoding=\"UTF-8\" standalone=\"no\"?><svg xmlns=\"http://www.w3.org/2000/svg\" xmlns:xlink=\"http://www.w3.org/1999/xlink\" contentScriptType=\"application/ecmascript\" contentStyleType=\"text/css\" height=\"361px\" preserveAspectRatio=\"none\" style=\"width:489px;height:361px;\" version=\"1.1\" viewBox=\"0 0 489 361\" width=\"489px\" zoomAndPan=\"magnify\"><defs/><g><!--MD5=[fbc87193dbaf4d95561dea2c320d4a47]\n",
       "cluster E1--><a href=\"psysml:cce2acdd-5299-4277-a359-760a7748f1a5\" target=\"_top\" title=\"psysml:cce2acdd-5299-4277-a359-760a7748f1a5\" xlink:actuate=\"onRequest\" xlink:href=\"psysml:cce2acdd-5299-4277-a359-760a7748f1a5\" xlink:show=\"new\" xlink:title=\"psysml:cce2acdd-5299-4277-a359-760a7748f1a5\" xlink:type=\"simple\"><polygon fill=\"#FFFFFF\" points=\"16,6,156,6,163,28.2969,467,28.2969,467,349,16,349,16,6\" style=\"stroke: #000000; stroke-width: 1.5;\"/><line style=\"stroke: #000000; stroke-width: 1.5;\" x1=\"16\" x2=\"163\" y1=\"28.2969\" y2=\"28.2969\"/><text fill=\"#000000\" font-family=\"sans-serif\" font-size=\"14\" font-weight=\"bold\" lengthAdjust=\"spacingAndGlyphs\" textLength=\"134\" x=\"20\" y=\"20.9951\">DependencyTest</text></a><!--MD5=[e4f7fae6ed58524ba242bb0b0d3be6b7]\n",
       "cluster E2--><a href=\"psysml:fe0450d0-807d-48bf-914f-f99eea0aac67\" target=\"_top\" title=\"psysml:fe0450d0-807d-48bf-914f-f99eea0aac67\" xlink:actuate=\"onRequest\" xlink:href=\"psysml:fe0450d0-807d-48bf-914f-f99eea0aac67\" xlink:show=\"new\" xlink:title=\"psysml:fe0450d0-807d-48bf-914f-f99eea0aac67\" xlink:type=\"simple\"><polygon fill=\"#FFFFFF\" points=\"255,49,319,49,326,71.2969,443,71.2969,443,325,255,325,255,49\" style=\"stroke: #000000; stroke-width: 1.5;\"/><line style=\"stroke: #000000; stroke-width: 1.5;\" x1=\"255\" x2=\"326\" y1=\"71.2969\" y2=\"71.2969\"/><text fill=\"#000000\" font-family=\"sans-serif\" font-size=\"14\" font-weight=\"bold\" lengthAdjust=\"spacingAndGlyphs\" textLength=\"58\" x=\"259\" y=\"63.9951\">System</text></a><!--MD5=[60a26617385b1d2d0262a64233df1f8d]\n",
       "class E6--><a href=\"psysml:627607da-451a-45ac-bf2e-8d18d85231b1\" target=\"_top\" title=\"psysml:627607da-451a-45ac-bf2e-8d18d85231b1\" xlink:actuate=\"onRequest\" xlink:href=\"psysml:627607da-451a-45ac-bf2e-8d18d85231b1\" xlink:show=\"new\" xlink:title=\"psysml:627607da-451a-45ac-bf2e-8d18d85231b1\" xlink:type=\"simple\"><rect fill=\"#FFFFFF\" height=\"45.9375\" id=\"E6\" rx=\"10\" ry=\"10\" style=\"stroke: #383838; stroke-width: 1.5;\" width=\"71\" x=\"32.5\" y=\"173.5\"/><text fill=\"#000000\" font-family=\"sans-serif\" font-size=\"12\" font-style=\"italic\" lengthAdjust=\"spacingAndGlyphs\" textLength=\"69\" x=\"33.5\" y=\"189.6387\">«attribute»</text><text fill=\"#000000\" font-family=\"sans-serif\" font-size=\"12\" lengthAdjust=\"spacingAndGlyphs\" textLength=\"6\" x=\"65\" y=\"203.6074\">x</text><line style=\"stroke: #383838; stroke-width: 1.5;\" x1=\"33.5\" x2=\"102.5\" y1=\"211.4375\" y2=\"211.4375\"/></a><!--MD5=[2156ba9850f5573cc1fc38a6a4b2f02b]\n",
       "class E7--><a href=\"psysml:b8e81d8b-4779-47a3-b21f-b5cec6a6f06b\" target=\"_top\" title=\"psysml:b8e81d8b-4779-47a3-b21f-b5cec6a6f06b\" xlink:actuate=\"onRequest\" xlink:href=\"psysml:b8e81d8b-4779-47a3-b21f-b5cec6a6f06b\" xlink:show=\"new\" xlink:title=\"psysml:b8e81d8b-4779-47a3-b21f-b5cec6a6f06b\" xlink:type=\"simple\"><rect fill=\"#FFFFFF\" height=\"45.9375\" id=\"E7\" rx=\"10\" ry=\"10\" style=\"stroke: #383838; stroke-width: 1.5;\" width=\"71\" x=\"138.5\" y=\"173.5\"/><text fill=\"#000000\" font-family=\"sans-serif\" font-size=\"12\" font-style=\"italic\" lengthAdjust=\"spacingAndGlyphs\" textLength=\"69\" x=\"139.5\" y=\"189.6387\">«attribute»</text><text fill=\"#000000\" font-family=\"sans-serif\" font-size=\"12\" lengthAdjust=\"spacingAndGlyphs\" textLength=\"6\" x=\"171\" y=\"203.6074\">y</text><line style=\"stroke: #383838; stroke-width: 1.5;\" x1=\"139.5\" x2=\"208.5\" y1=\"211.4375\" y2=\"211.4375\"/></a><!--MD5=[b9389687b975829384b498ac4b7476b2]\n",
       "class E8--><a href=\"psysml:ff5b6b09-567c-4f7f-ac5d-5252b0115c49\" target=\"_top\" title=\"psysml:ff5b6b09-567c-4f7f-ac5d-5252b0115c49\" xlink:actuate=\"onRequest\" xlink:href=\"psysml:ff5b6b09-567c-4f7f-ac5d-5252b0115c49\" xlink:show=\"new\" xlink:title=\"psysml:ff5b6b09-567c-4f7f-ac5d-5252b0115c49\" xlink:type=\"simple\"><rect fill=\"#FFFFFF\" height=\"45.9375\" id=\"E8\" rx=\"10\" ry=\"10\" style=\"stroke: #383838; stroke-width: 1.5;\" width=\"71\" x=\"84.5\" y=\"87.5\"/><text fill=\"#000000\" font-family=\"sans-serif\" font-size=\"12\" font-style=\"italic\" lengthAdjust=\"spacingAndGlyphs\" textLength=\"69\" x=\"85.5\" y=\"103.6387\">«attribute»</text><text fill=\"#000000\" font-family=\"sans-serif\" font-size=\"12\" lengthAdjust=\"spacingAndGlyphs\" textLength=\"5\" x=\"117.5\" y=\"117.6074\">z</text><line style=\"stroke: #383838; stroke-width: 1.5;\" x1=\"85.5\" x2=\"154.5\" y1=\"125.4375\" y2=\"125.4375\"/></a><a href=\"psysml:b4c6803f-b500-4ed2-a89b-7b27b2a9486d\" target=\"_top\" title=\"psysml:b4c6803f-b500-4ed2-a89b-7b27b2a9486d\" xlink:actuate=\"onRequest\" xlink:href=\"psysml:b4c6803f-b500-4ed2-a89b-7b27b2a9486d\" xlink:show=\"new\" xlink:title=\"psysml:b4c6803f-b500-4ed2-a89b-7b27b2a9486d\" xlink:type=\"simple\"><polygon fill=\"#FFFFFF\" points=\"271,84,413,84,420,106.2969,427,106.2969,427,136.5938,271,136.5938,271,84\" style=\"stroke: #000000; stroke-width: 1.5;\"/><line style=\"stroke: #000000; stroke-width: 1.5;\" x1=\"271\" x2=\"420\" y1=\"106.2969\" y2=\"106.2969\"/><text fill=\"#000000\" font-family=\"sans-serif\" font-size=\"14\" font-weight=\"bold\" lengthAdjust=\"spacingAndGlyphs\" textLength=\"136\" x=\"275\" y=\"98.9951\">Application Layer</text></a><a href=\"psysml:66b88940-ae34-45ae-8eaf-0df380551b61\" target=\"_top\" title=\"psysml:66b88940-ae34-45ae-8eaf-0df380551b61\" xlink:actuate=\"onRequest\" xlink:href=\"psysml:66b88940-ae34-45ae-8eaf-0df380551b61\" xlink:show=\"new\" xlink:title=\"psysml:66b88940-ae34-45ae-8eaf-0df380551b61\" xlink:type=\"simple\"><polygon fill=\"#FFFFFF\" points=\"285,170,399,170,406,192.2969,413,192.2969,413,222.5938,285,222.5938,285,170\" style=\"stroke: #000000; stroke-width: 1.5;\"/><line style=\"stroke: #000000; stroke-width: 1.5;\" x1=\"285\" x2=\"406\" y1=\"192.2969\" y2=\"192.2969\"/><text fill=\"#000000\" font-family=\"sans-serif\" font-size=\"14\" font-weight=\"bold\" lengthAdjust=\"spacingAndGlyphs\" textLength=\"108\" x=\"289\" y=\"184.9951\">Service Layer</text></a><a href=\"psysml:2f9cfad3-e6e2-4672-a52e-eac3ac1cc3fa\" target=\"_top\" title=\"psysml:2f9cfad3-e6e2-4672-a52e-eac3ac1cc3fa\" xlink:actuate=\"onRequest\" xlink:href=\"psysml:2f9cfad3-e6e2-4672-a52e-eac3ac1cc3fa\" xlink:show=\"new\" xlink:title=\"psysml:2f9cfad3-e6e2-4672-a52e-eac3ac1cc3fa\" xlink:type=\"simple\"><polygon fill=\"#FFFFFF\" points=\"297,256,387,256,394,278.2969,401,278.2969,401,308.5938,297,308.5938,297,256\" style=\"stroke: #000000; stroke-width: 1.5;\"/><line style=\"stroke: #000000; stroke-width: 1.5;\" x1=\"297\" x2=\"394\" y1=\"278.2969\" y2=\"278.2969\"/><text fill=\"#000000\" font-family=\"sans-serif\" font-size=\"14\" font-weight=\"bold\" lengthAdjust=\"spacingAndGlyphs\" textLength=\"84\" x=\"301\" y=\"270.9951\">Data Layer</text></a><!--MD5=[af87c684e3b0d8be13c1a698a818ef1e]\n",
       "link E3 to E4--><a href=\"psysml:dea4bf7d-7df0-4a98-b0a8-ad3094fe796e\" target=\"_top\" title=\"psysml:dea4bf7d-7df0-4a98-b0a8-ad3094fe796e\" xlink:actuate=\"onRequest\" xlink:href=\"psysml:dea4bf7d-7df0-4a98-b0a8-ad3094fe796e\" xlink:show=\"new\" xlink:title=\"psysml:dea4bf7d-7df0-4a98-b0a8-ad3094fe796e\" xlink:type=\"simple\"><path d=\"M349,137.24 C349,137.24 349,161.78 349,161.78 \" fill=\"none\" id=\"E3-&gt;E4\" style=\"stroke: #383838; stroke-width: 1.0; stroke-dasharray: 7.0,7.0;\"/><polygon fill=\"#383838\" points=\"349,169.78,352,161.78,346,161.78,349,169.78\" style=\"stroke: #383838; stroke-width: 1.0;\"/><text fill=\"#000000\" font-family=\"sans-serif\" font-size=\"13\" lengthAdjust=\"spacingAndGlyphs\" textLength=\"64\" x=\"350\" y=\"158.0669\">«depend»</text></a><!--MD5=[1b7591eae5389033d8d09a9d6721a717]\n",
       "link E4 to E5--><a href=\"psysml:6c12c767-a343-4222-b71b-448a215deadc\" target=\"_top\" title=\"psysml:6c12c767-a343-4222-b71b-448a215deadc\" xlink:actuate=\"onRequest\" xlink:href=\"psysml:6c12c767-a343-4222-b71b-448a215deadc\" xlink:show=\"new\" xlink:title=\"psysml:6c12c767-a343-4222-b71b-448a215deadc\" xlink:type=\"simple\"><path d=\"M349,223.24 C349,223.24 349,247.78 349,247.78 \" fill=\"none\" id=\"E4-&gt;E5\" style=\"stroke: #383838; stroke-width: 1.0; stroke-dasharray: 7.0,7.0;\"/><polygon fill=\"#383838\" points=\"349,255.78,352,247.78,346,247.78,349,255.78\" style=\"stroke: #383838; stroke-width: 1.0;\"/><text fill=\"#000000\" font-family=\"sans-serif\" font-size=\"13\" lengthAdjust=\"spacingAndGlyphs\" textLength=\"64\" x=\"350\" y=\"244.0669\">«depend»</text></a><!--MD5=[c5e8897d989ce984f93528998a7150fe]\n",
       "link E8 to E6--><a href=\"psysml:2c14e4ca-efb9-4e12-a147-b41b8d65befc\" target=\"_top\" title=\"psysml:2c14e4ca-efb9-4e12-a147-b41b8d65befc\" xlink:actuate=\"onRequest\" xlink:href=\"psysml:2c14e4ca-efb9-4e12-a147-b41b8d65befc\" xlink:show=\"new\" xlink:title=\"psysml:2c14e4ca-efb9-4e12-a147-b41b8d65befc\" xlink:type=\"simple\"><path d=\"M94,133.55 C94,133.55 94,165.39 94,165.39 \" fill=\"none\" id=\"E8-&gt;E6\" style=\"stroke: #383838; stroke-width: 1.0; stroke-dasharray: 7.0,7.0;\"/><polygon fill=\"#383838\" points=\"94,173.39,97,165.39,91,165.39,94,173.39\" style=\"stroke: #383838; stroke-width: 1.0;\"/><text fill=\"#000000\" font-family=\"sans-serif\" font-size=\"13\" lengthAdjust=\"spacingAndGlyphs\" textLength=\"64\" x=\"68\" y=\"158.0669\">«depend»</text></a><!--MD5=[bfa3c8b0d15052fdf50ae9310b491027]\n",
       "link E8 to E7--><a href=\"psysml:2c14e4ca-efb9-4e12-a147-b41b8d65befc\" target=\"_top\" title=\"psysml:2c14e4ca-efb9-4e12-a147-b41b8d65befc\" xlink:actuate=\"onRequest\" xlink:href=\"psysml:2c14e4ca-efb9-4e12-a147-b41b8d65befc\" xlink:show=\"new\" xlink:title=\"psysml:2c14e4ca-efb9-4e12-a147-b41b8d65befc\" xlink:type=\"simple\"><path d=\"M147,133.55 C147,133.55 147,165.39 147,165.39 \" fill=\"none\" id=\"E8-&gt;E7\" style=\"stroke: #383838; stroke-width: 1.0; stroke-dasharray: 7.0,7.0;\"/><polygon fill=\"#383838\" points=\"147,173.39,150,165.39,144,165.39,147,173.39\" style=\"stroke: #383838; stroke-width: 1.0;\"/><text fill=\"#000000\" font-family=\"sans-serif\" font-size=\"13\" lengthAdjust=\"spacingAndGlyphs\" textLength=\"64\" x=\"174\" y=\"158.0669\">«depend»</text></a><!--MD5=[57ed08016ddd7f4452b29fdd68eab837]\n",
       "@startuml\r\n",
       "skinparam ranksep 10\r\n",
       "skinparam rectangle {\r\n",
       " backgroundColor<<block>> LightGreen\r\n",
       "}\r\n",
       "skinparam linetype ortho\r\n",
       "skinparam monochrome true\r\n",
       "skinparam classbackgroundcolor white\r\n",
       "skinparam shadowing false\r\n",
       "skinparam wrapWidth 300\r\n",
       "hide circle\r\n",
       "\r\n",
       "package \"DependencyTest\" as E1  [[psysml:cce2acdd-5299-4277-a359-760a7748f1a5 ]]  {\r\n",
       "package \"System\" as E2  [[psysml:fe0450d0-807d-48bf-914f-f99eea0aac67 ]]  {\r\n",
       "package \"Application Layer\" as E3  [[psysml:b4c6803f-b500-4ed2-a89b-7b27b2a9486d ]]  {\r\n",
       "}\r\n",
       "package \"Service Layer\" as E4  [[psysml:66b88940-ae34-45ae-8eaf-0df380551b61 ]]  {\r\n",
       "}\r\n",
       "package \"Data Layer\" as E5  [[psysml:2f9cfad3-e6e2-4672-a52e-eac3ac1cc3fa ]]  {\r\n",
       "}\r\n",
       "}\r\n",
       "comp usage \"x\" as E6  <<(T,blue)attribute>> [[psysml:627607da-451a-45ac-bf2e-8d18d85231b1 ]] {\r\n",
       "}\r\n",
       "comp usage \"y\" as E7  <<(T,blue)attribute>> [[psysml:b8e81d8b-4779-47a3-b21f-b5cec6a6f06b ]] {\r\n",
       "}\r\n",
       "comp usage \"z\" as E8  <<(T,blue)attribute>> [[psysml:ff5b6b09-567c-4f7f-ac5d-5252b0115c49 ]] {\r\n",
       "}\r\n",
       "E3 ..>> E4 [[psysml:dea4bf7d-7df0-4a98-b0a8-ad3094fe796e ]] : <<depend>>\r\n",
       "E4 ..>> E5 [[psysml:6c12c767-a343-4222-b71b-448a215deadc ]] : <<depend>>\r\n",
       "E8 ..>> E6 [[psysml:2c14e4ca-efb9-4e12-a147-b41b8d65befc ]] : <<depend>>\r\n",
       "E8 ..>> E7 [[psysml:2c14e4ca-efb9-4e12-a147-b41b8d65befc ]] : <<depend>>\r\n",
       "}\r\n",
       "@enduml\r\n",
       "\n",
       "PlantUML version 1.2020.13(Sat Jun 13 12:26:38 UTC 2020)\n",
       "(EPL source distribution)\n",
       "Java Runtime: OpenJDK Runtime Environment\n",
       "JVM: OpenJDK 64-Bit Server VM\n",
       "Default Encoding: UTF-8\n",
       "Language: en\n",
       "Country: null\n",
       "--></g></svg>"
      ]
     },
     "execution_count": 54,
     "metadata": {},
     "output_type": "execute_result"
    }
   ],
   "source": [
    "%viz --style=\"ORTHOLINE\" --view=\"Interconnection\" \"DependencyTest\""
   ]
  },
  {
   "cell_type": "code",
   "execution_count": 55,
   "id": "e482085c",
   "metadata": {
    "execution": {
     "iopub.execute_input": "2021-05-28T10:49:40.600915Z",
     "iopub.status.busy": "2021-05-28T10:49:40.600536Z",
     "iopub.status.idle": "2021-05-28T10:49:40.605211Z",
     "shell.execute_reply": "2021-05-28T10:49:40.604903Z"
    }
   },
   "outputs": [
    {
     "data": {
      "image/svg+xml": [
       "<?xml version=\"1.0\" encoding=\"UTF-8\" standalone=\"no\"?><svg xmlns=\"http://www.w3.org/2000/svg\" xmlns:xlink=\"http://www.w3.org/1999/xlink\" contentScriptType=\"application/ecmascript\" contentStyleType=\"text/css\" height=\"12px\" preserveAspectRatio=\"none\" style=\"width:12px;height:12px;\" version=\"1.1\" viewBox=\"0 0 12 12\" width=\"12px\" zoomAndPan=\"magnify\"><defs/><g><!--MD5=[72934c63077099a26744516a776b4749]\n",
       "@startuml\r\n",
       "skinparam ranksep 8\r\n",
       "skinparam linetype ortho\r\n",
       "skinparam monochrome true\r\n",
       "skinparam classbackgroundcolor white\r\n",
       "skinparam shadowing false\r\n",
       "skinparam wrapWidth 300\r\n",
       "hide circle\r\n",
       "\r\n",
       "@enduml\r\n",
       "\n",
       "PlantUML version 1.2020.13(Sat Jun 13 12:26:38 UTC 2020)\n",
       "(EPL source distribution)\n",
       "Java Runtime: OpenJDK Runtime Environment\n",
       "JVM: OpenJDK 64-Bit Server VM\n",
       "Default Encoding: UTF-8\n",
       "Language: en\n",
       "Country: null\n",
       "--></g></svg>"
      ]
     },
     "execution_count": 55,
     "metadata": {},
     "output_type": "execute_result"
    }
   ],
   "source": [
    "%viz --style=\"ORTHOLINE\" --view=\"Action\" \"DependencyTest\""
   ]
  },
  {
   "cell_type": "code",
   "execution_count": 56,
   "id": "c827e774",
   "metadata": {
    "execution": {
     "iopub.execute_input": "2021-05-28T10:49:40.657232Z",
     "iopub.status.busy": "2021-05-28T10:49:40.656665Z",
     "iopub.status.idle": "2021-05-28T10:49:40.689764Z",
     "shell.execute_reply": "2021-05-28T10:49:40.688550Z"
    }
   },
   "outputs": [
    {
     "data": {
      "image/svg+xml": [
       "<?xml version=\"1.0\" encoding=\"UTF-8\" standalone=\"no\"?><svg xmlns=\"http://www.w3.org/2000/svg\" xmlns:xlink=\"http://www.w3.org/1999/xlink\" contentScriptType=\"application/ecmascript\" contentStyleType=\"text/css\" height=\"449px\" preserveAspectRatio=\"none\" style=\"width:489px;height:449px;\" version=\"1.1\" viewBox=\"0 0 489 449\" width=\"489px\" zoomAndPan=\"magnify\"><defs/><g><!--MD5=[fbc87193dbaf4d95561dea2c320d4a47]\n",
       "cluster E1--><a href=\"psysml:cce2acdd-5299-4277-a359-760a7748f1a5\" target=\"_top\" title=\"psysml:cce2acdd-5299-4277-a359-760a7748f1a5\" xlink:actuate=\"onRequest\" xlink:href=\"psysml:cce2acdd-5299-4277-a359-760a7748f1a5\" xlink:show=\"new\" xlink:title=\"psysml:cce2acdd-5299-4277-a359-760a7748f1a5\" xlink:type=\"simple\"><polygon fill=\"#FFFFFF\" points=\"16,6,156,6,163,28.2969,467,28.2969,467,437,16,437,16,6\" style=\"stroke: #000000; stroke-width: 1.5;\"/><line style=\"stroke: #000000; stroke-width: 1.5;\" x1=\"16\" x2=\"163\" y1=\"28.2969\" y2=\"28.2969\"/><text fill=\"#000000\" font-family=\"sans-serif\" font-size=\"14\" font-weight=\"bold\" lengthAdjust=\"spacingAndGlyphs\" textLength=\"134\" x=\"20\" y=\"20.9951\">DependencyTest</text></a><!--MD5=[e4f7fae6ed58524ba242bb0b0d3be6b7]\n",
       "cluster E2--><a href=\"psysml:fe0450d0-807d-48bf-914f-f99eea0aac67\" target=\"_top\" title=\"psysml:fe0450d0-807d-48bf-914f-f99eea0aac67\" xlink:actuate=\"onRequest\" xlink:href=\"psysml:fe0450d0-807d-48bf-914f-f99eea0aac67\" xlink:show=\"new\" xlink:title=\"psysml:fe0450d0-807d-48bf-914f-f99eea0aac67\" xlink:type=\"simple\"><polygon fill=\"#FFFFFF\" points=\"255,49,319,49,326,71.2969,443,71.2969,443,413,255,413,255,49\" style=\"stroke: #000000; stroke-width: 1.5;\"/><line style=\"stroke: #000000; stroke-width: 1.5;\" x1=\"255\" x2=\"326\" y1=\"71.2969\" y2=\"71.2969\"/><text fill=\"#000000\" font-family=\"sans-serif\" font-size=\"14\" font-weight=\"bold\" lengthAdjust=\"spacingAndGlyphs\" textLength=\"58\" x=\"259\" y=\"63.9951\">System</text></a><!--MD5=[60a26617385b1d2d0262a64233df1f8d]\n",
       "class E6--><a href=\"psysml:627607da-451a-45ac-bf2e-8d18d85231b1\" target=\"_top\" title=\"psysml:627607da-451a-45ac-bf2e-8d18d85231b1\" xlink:actuate=\"onRequest\" xlink:href=\"psysml:627607da-451a-45ac-bf2e-8d18d85231b1\" xlink:show=\"new\" xlink:title=\"psysml:627607da-451a-45ac-bf2e-8d18d85231b1\" xlink:type=\"simple\"><rect fill=\"#FFFFFF\" height=\"45.9375\" id=\"E6\" rx=\"10\" ry=\"10\" style=\"stroke: #383838; stroke-width: 1.5;\" width=\"71\" x=\"32.5\" y=\"217.5\"/><text fill=\"#000000\" font-family=\"sans-serif\" font-size=\"12\" font-style=\"italic\" lengthAdjust=\"spacingAndGlyphs\" textLength=\"69\" x=\"33.5\" y=\"233.6387\">«attribute»</text><text fill=\"#000000\" font-family=\"sans-serif\" font-size=\"12\" lengthAdjust=\"spacingAndGlyphs\" textLength=\"6\" x=\"65\" y=\"247.6074\">x</text><line style=\"stroke: #383838; stroke-width: 1.5;\" x1=\"33.5\" x2=\"102.5\" y1=\"255.4375\" y2=\"255.4375\"/></a><!--MD5=[2156ba9850f5573cc1fc38a6a4b2f02b]\n",
       "class E7--><a href=\"psysml:b8e81d8b-4779-47a3-b21f-b5cec6a6f06b\" target=\"_top\" title=\"psysml:b8e81d8b-4779-47a3-b21f-b5cec6a6f06b\" xlink:actuate=\"onRequest\" xlink:href=\"psysml:b8e81d8b-4779-47a3-b21f-b5cec6a6f06b\" xlink:show=\"new\" xlink:title=\"psysml:b8e81d8b-4779-47a3-b21f-b5cec6a6f06b\" xlink:type=\"simple\"><rect fill=\"#FFFFFF\" height=\"45.9375\" id=\"E7\" rx=\"10\" ry=\"10\" style=\"stroke: #383838; stroke-width: 1.5;\" width=\"71\" x=\"138.5\" y=\"217.5\"/><text fill=\"#000000\" font-family=\"sans-serif\" font-size=\"12\" font-style=\"italic\" lengthAdjust=\"spacingAndGlyphs\" textLength=\"69\" x=\"139.5\" y=\"233.6387\">«attribute»</text><text fill=\"#000000\" font-family=\"sans-serif\" font-size=\"12\" lengthAdjust=\"spacingAndGlyphs\" textLength=\"6\" x=\"171\" y=\"247.6074\">y</text><line style=\"stroke: #383838; stroke-width: 1.5;\" x1=\"139.5\" x2=\"208.5\" y1=\"255.4375\" y2=\"255.4375\"/></a><!--MD5=[b9389687b975829384b498ac4b7476b2]\n",
       "class E8--><a href=\"psysml:ff5b6b09-567c-4f7f-ac5d-5252b0115c49\" target=\"_top\" title=\"psysml:ff5b6b09-567c-4f7f-ac5d-5252b0115c49\" xlink:actuate=\"onRequest\" xlink:href=\"psysml:ff5b6b09-567c-4f7f-ac5d-5252b0115c49\" xlink:show=\"new\" xlink:title=\"psysml:ff5b6b09-567c-4f7f-ac5d-5252b0115c49\" xlink:type=\"simple\"><rect fill=\"#FFFFFF\" height=\"45.9375\" id=\"E8\" rx=\"10\" ry=\"10\" style=\"stroke: #383838; stroke-width: 1.5;\" width=\"71\" x=\"84.5\" y=\"87.5\"/><text fill=\"#000000\" font-family=\"sans-serif\" font-size=\"12\" font-style=\"italic\" lengthAdjust=\"spacingAndGlyphs\" textLength=\"69\" x=\"85.5\" y=\"103.6387\">«attribute»</text><text fill=\"#000000\" font-family=\"sans-serif\" font-size=\"12\" lengthAdjust=\"spacingAndGlyphs\" textLength=\"5\" x=\"117.5\" y=\"117.6074\">z</text><line style=\"stroke: #383838; stroke-width: 1.5;\" x1=\"85.5\" x2=\"154.5\" y1=\"125.4375\" y2=\"125.4375\"/></a><a href=\"psysml:b4c6803f-b500-4ed2-a89b-7b27b2a9486d\" target=\"_top\" title=\"psysml:b4c6803f-b500-4ed2-a89b-7b27b2a9486d\" xlink:actuate=\"onRequest\" xlink:href=\"psysml:b4c6803f-b500-4ed2-a89b-7b27b2a9486d\" xlink:show=\"new\" xlink:title=\"psysml:b4c6803f-b500-4ed2-a89b-7b27b2a9486d\" xlink:type=\"simple\"><polygon fill=\"#FFFFFF\" points=\"271,84,413,84,420,106.2969,427,106.2969,427,136.5938,271,136.5938,271,84\" style=\"stroke: #000000; stroke-width: 1.5;\"/><line style=\"stroke: #000000; stroke-width: 1.5;\" x1=\"271\" x2=\"420\" y1=\"106.2969\" y2=\"106.2969\"/><text fill=\"#000000\" font-family=\"sans-serif\" font-size=\"14\" font-weight=\"bold\" lengthAdjust=\"spacingAndGlyphs\" textLength=\"136\" x=\"275\" y=\"98.9951\">Application Layer</text></a><a href=\"psysml:66b88940-ae34-45ae-8eaf-0df380551b61\" target=\"_top\" title=\"psysml:66b88940-ae34-45ae-8eaf-0df380551b61\" xlink:actuate=\"onRequest\" xlink:href=\"psysml:66b88940-ae34-45ae-8eaf-0df380551b61\" xlink:show=\"new\" xlink:title=\"psysml:66b88940-ae34-45ae-8eaf-0df380551b61\" xlink:type=\"simple\"><polygon fill=\"#FFFFFF\" points=\"285,214,399,214,406,236.2969,413,236.2969,413,266.5938,285,266.5938,285,214\" style=\"stroke: #000000; stroke-width: 1.5;\"/><line style=\"stroke: #000000; stroke-width: 1.5;\" x1=\"285\" x2=\"406\" y1=\"236.2969\" y2=\"236.2969\"/><text fill=\"#000000\" font-family=\"sans-serif\" font-size=\"14\" font-weight=\"bold\" lengthAdjust=\"spacingAndGlyphs\" textLength=\"108\" x=\"289\" y=\"228.9951\">Service Layer</text></a><a href=\"psysml:2f9cfad3-e6e2-4672-a52e-eac3ac1cc3fa\" target=\"_top\" title=\"psysml:2f9cfad3-e6e2-4672-a52e-eac3ac1cc3fa\" xlink:actuate=\"onRequest\" xlink:href=\"psysml:2f9cfad3-e6e2-4672-a52e-eac3ac1cc3fa\" xlink:show=\"new\" xlink:title=\"psysml:2f9cfad3-e6e2-4672-a52e-eac3ac1cc3fa\" xlink:type=\"simple\"><polygon fill=\"#FFFFFF\" points=\"297,344,387,344,394,366.2969,401,366.2969,401,396.5938,297,396.5938,297,344\" style=\"stroke: #000000; stroke-width: 1.5;\"/><line style=\"stroke: #000000; stroke-width: 1.5;\" x1=\"297\" x2=\"394\" y1=\"366.2969\" y2=\"366.2969\"/><text fill=\"#000000\" font-family=\"sans-serif\" font-size=\"14\" font-weight=\"bold\" lengthAdjust=\"spacingAndGlyphs\" textLength=\"84\" x=\"301\" y=\"358.9951\">Data Layer</text></a><!--MD5=[af87c684e3b0d8be13c1a698a818ef1e]\n",
       "link E3 to E4--><a href=\"psysml:dea4bf7d-7df0-4a98-b0a8-ad3094fe796e\" target=\"_top\" title=\"psysml:dea4bf7d-7df0-4a98-b0a8-ad3094fe796e\" xlink:actuate=\"onRequest\" xlink:href=\"psysml:dea4bf7d-7df0-4a98-b0a8-ad3094fe796e\" xlink:show=\"new\" xlink:title=\"psysml:dea4bf7d-7df0-4a98-b0a8-ad3094fe796e\" xlink:type=\"simple\"><path d=\"M349,137.12 C349,137.12 349,205.91 349,205.91 \" fill=\"none\" id=\"E3-&gt;E4\" style=\"stroke: #383838; stroke-width: 1.0; stroke-dasharray: 7.0,7.0;\"/><polygon fill=\"#383838\" points=\"349,213.91,352,205.91,346,205.91,349,213.91\" style=\"stroke: #383838; stroke-width: 1.0;\"/><text fill=\"#000000\" font-family=\"sans-serif\" font-size=\"13\" lengthAdjust=\"spacingAndGlyphs\" textLength=\"64\" x=\"350\" y=\"180.0669\">«depend»</text></a><!--MD5=[1b7591eae5389033d8d09a9d6721a717]\n",
       "link E4 to E5--><a href=\"psysml:6c12c767-a343-4222-b71b-448a215deadc\" target=\"_top\" title=\"psysml:6c12c767-a343-4222-b71b-448a215deadc\" xlink:actuate=\"onRequest\" xlink:href=\"psysml:6c12c767-a343-4222-b71b-448a215deadc\" xlink:show=\"new\" xlink:title=\"psysml:6c12c767-a343-4222-b71b-448a215deadc\" xlink:type=\"simple\"><path d=\"M349,267.12 C349,267.12 349,335.91 349,335.91 \" fill=\"none\" id=\"E4-&gt;E5\" style=\"stroke: #383838; stroke-width: 1.0; stroke-dasharray: 7.0,7.0;\"/><polygon fill=\"#383838\" points=\"349,343.91,352,335.91,346,335.91,349,343.91\" style=\"stroke: #383838; stroke-width: 1.0;\"/><text fill=\"#000000\" font-family=\"sans-serif\" font-size=\"13\" lengthAdjust=\"spacingAndGlyphs\" textLength=\"64\" x=\"350\" y=\"310.0669\">«depend»</text></a><!--MD5=[c5e8897d989ce984f93528998a7150fe]\n",
       "link E8 to E6--><a href=\"psysml:2c14e4ca-efb9-4e12-a147-b41b8d65befc\" target=\"_top\" title=\"psysml:2c14e4ca-efb9-4e12-a147-b41b8d65befc\" xlink:actuate=\"onRequest\" xlink:href=\"psysml:2c14e4ca-efb9-4e12-a147-b41b8d65befc\" xlink:show=\"new\" xlink:title=\"psysml:2c14e4ca-efb9-4e12-a147-b41b8d65befc\" xlink:type=\"simple\"><path d=\"M94,133.74 C94,133.74 94,209.46 94,209.46 \" fill=\"none\" id=\"E8-&gt;E6\" style=\"stroke: #383838; stroke-width: 1.0; stroke-dasharray: 7.0,7.0;\"/><polygon fill=\"#383838\" points=\"94,217.46,97,209.46,91,209.46,94,217.46\" style=\"stroke: #383838; stroke-width: 1.0;\"/><text fill=\"#000000\" font-family=\"sans-serif\" font-size=\"13\" lengthAdjust=\"spacingAndGlyphs\" textLength=\"64\" x=\"68\" y=\"180.0669\">«depend»</text></a><!--MD5=[bfa3c8b0d15052fdf50ae9310b491027]\n",
       "link E8 to E7--><a href=\"psysml:2c14e4ca-efb9-4e12-a147-b41b8d65befc\" target=\"_top\" title=\"psysml:2c14e4ca-efb9-4e12-a147-b41b8d65befc\" xlink:actuate=\"onRequest\" xlink:href=\"psysml:2c14e4ca-efb9-4e12-a147-b41b8d65befc\" xlink:show=\"new\" xlink:title=\"psysml:2c14e4ca-efb9-4e12-a147-b41b8d65befc\" xlink:type=\"simple\"><path d=\"M147,133.74 C147,133.74 147,209.46 147,209.46 \" fill=\"none\" id=\"E8-&gt;E7\" style=\"stroke: #383838; stroke-width: 1.0; stroke-dasharray: 7.0,7.0;\"/><polygon fill=\"#383838\" points=\"147,217.46,150,209.46,144,209.46,147,217.46\" style=\"stroke: #383838; stroke-width: 1.0;\"/><text fill=\"#000000\" font-family=\"sans-serif\" font-size=\"13\" lengthAdjust=\"spacingAndGlyphs\" textLength=\"64\" x=\"174\" y=\"180.0669\">«depend»</text></a><!--MD5=[1c96597f8f78da635c23b6ca5a02a4b4]\n",
       "@startuml\r\n",
       "skinparam linetype ortho\r\n",
       "skinparam monochrome true\r\n",
       "skinparam classbackgroundcolor white\r\n",
       "skinparam shadowing false\r\n",
       "skinparam wrapWidth 300\r\n",
       "hide circle\r\n",
       "\r\n",
       "package \"DependencyTest\" as E1  [[psysml:cce2acdd-5299-4277-a359-760a7748f1a5 ]]  {\r\n",
       "package \"System\" as E2  [[psysml:fe0450d0-807d-48bf-914f-f99eea0aac67 ]]  {\r\n",
       "package \"Application Layer\" as E3  [[psysml:b4c6803f-b500-4ed2-a89b-7b27b2a9486d ]]  {\r\n",
       "}\r\n",
       "package \"Service Layer\" as E4  [[psysml:66b88940-ae34-45ae-8eaf-0df380551b61 ]]  {\r\n",
       "}\r\n",
       "package \"Data Layer\" as E5  [[psysml:2f9cfad3-e6e2-4672-a52e-eac3ac1cc3fa ]]  {\r\n",
       "}\r\n",
       "}\r\n",
       "comp usage \"x\" as E6  <<(T,blue)attribute>> [[psysml:627607da-451a-45ac-bf2e-8d18d85231b1 ]] {\r\n",
       "}\r\n",
       "comp usage \"y\" as E7  <<(T,blue)attribute>> [[psysml:b8e81d8b-4779-47a3-b21f-b5cec6a6f06b ]] {\r\n",
       "}\r\n",
       "comp usage \"z\" as E8  <<(T,blue)attribute>> [[psysml:ff5b6b09-567c-4f7f-ac5d-5252b0115c49 ]] {\r\n",
       "}\r\n",
       "E3 ..>> E4 [[psysml:dea4bf7d-7df0-4a98-b0a8-ad3094fe796e ]] : <<depend>>\r\n",
       "E4 ..>> E5 [[psysml:6c12c767-a343-4222-b71b-448a215deadc ]] : <<depend>>\r\n",
       "E8 ..>> E6 [[psysml:2c14e4ca-efb9-4e12-a147-b41b8d65befc ]] : <<depend>>\r\n",
       "E8 ..>> E7 [[psysml:2c14e4ca-efb9-4e12-a147-b41b8d65befc ]] : <<depend>>\r\n",
       "}\r\n",
       "@enduml\r\n",
       "\n",
       "PlantUML version 1.2020.13(Sat Jun 13 12:26:38 UTC 2020)\n",
       "(EPL source distribution)\n",
       "Java Runtime: OpenJDK Runtime Environment\n",
       "JVM: OpenJDK 64-Bit Server VM\n",
       "Default Encoding: UTF-8\n",
       "Language: en\n",
       "Country: null\n",
       "--></g></svg>"
      ]
     },
     "execution_count": 56,
     "metadata": {},
     "output_type": "execute_result"
    }
   ],
   "source": [
    "%viz --style=\"ORTHOLINE\" --view=\"Sequence\" \"DependencyTest\""
   ]
  },
  {
   "cell_type": "code",
   "execution_count": 57,
   "id": "bd003e14",
   "metadata": {
    "execution": {
     "iopub.execute_input": "2021-05-28T10:49:40.744940Z",
     "iopub.status.busy": "2021-05-28T10:49:40.744487Z",
     "iopub.status.idle": "2021-05-28T10:49:40.772465Z",
     "shell.execute_reply": "2021-05-28T10:49:40.770741Z"
    }
   },
   "outputs": [
    {
     "data": {
      "image/svg+xml": [
       "<?xml version=\"1.0\" encoding=\"UTF-8\" standalone=\"no\"?><svg xmlns=\"http://www.w3.org/2000/svg\" xmlns:xlink=\"http://www.w3.org/1999/xlink\" contentScriptType=\"application/ecmascript\" contentStyleType=\"text/css\" height=\"449px\" preserveAspectRatio=\"none\" style=\"width:489px;height:449px;\" version=\"1.1\" viewBox=\"0 0 489 449\" width=\"489px\" zoomAndPan=\"magnify\"><defs/><g><!--MD5=[fbc87193dbaf4d95561dea2c320d4a47]\n",
       "cluster E1--><a href=\"psysml:cce2acdd-5299-4277-a359-760a7748f1a5\" target=\"_top\" title=\"psysml:cce2acdd-5299-4277-a359-760a7748f1a5\" xlink:actuate=\"onRequest\" xlink:href=\"psysml:cce2acdd-5299-4277-a359-760a7748f1a5\" xlink:show=\"new\" xlink:title=\"psysml:cce2acdd-5299-4277-a359-760a7748f1a5\" xlink:type=\"simple\"><polygon fill=\"#FFFFFF\" points=\"16,6,156,6,163,28.2969,467,28.2969,467,437,16,437,16,6\" style=\"stroke: #000000; stroke-width: 1.5;\"/><line style=\"stroke: #000000; stroke-width: 1.5;\" x1=\"16\" x2=\"163\" y1=\"28.2969\" y2=\"28.2969\"/><text fill=\"#000000\" font-family=\"sans-serif\" font-size=\"14\" font-weight=\"bold\" lengthAdjust=\"spacingAndGlyphs\" textLength=\"134\" x=\"20\" y=\"20.9951\">DependencyTest</text></a><!--MD5=[e4f7fae6ed58524ba242bb0b0d3be6b7]\n",
       "cluster E2--><a href=\"psysml:fe0450d0-807d-48bf-914f-f99eea0aac67\" target=\"_top\" title=\"psysml:fe0450d0-807d-48bf-914f-f99eea0aac67\" xlink:actuate=\"onRequest\" xlink:href=\"psysml:fe0450d0-807d-48bf-914f-f99eea0aac67\" xlink:show=\"new\" xlink:title=\"psysml:fe0450d0-807d-48bf-914f-f99eea0aac67\" xlink:type=\"simple\"><polygon fill=\"#FFFFFF\" points=\"255,49,319,49,326,71.2969,443,71.2969,443,413,255,413,255,49\" style=\"stroke: #000000; stroke-width: 1.5;\"/><line style=\"stroke: #000000; stroke-width: 1.5;\" x1=\"255\" x2=\"326\" y1=\"71.2969\" y2=\"71.2969\"/><text fill=\"#000000\" font-family=\"sans-serif\" font-size=\"14\" font-weight=\"bold\" lengthAdjust=\"spacingAndGlyphs\" textLength=\"58\" x=\"259\" y=\"63.9951\">System</text></a><!--MD5=[60a26617385b1d2d0262a64233df1f8d]\n",
       "class E6--><a href=\"psysml:627607da-451a-45ac-bf2e-8d18d85231b1\" target=\"_top\" title=\"psysml:627607da-451a-45ac-bf2e-8d18d85231b1\" xlink:actuate=\"onRequest\" xlink:href=\"psysml:627607da-451a-45ac-bf2e-8d18d85231b1\" xlink:show=\"new\" xlink:title=\"psysml:627607da-451a-45ac-bf2e-8d18d85231b1\" xlink:type=\"simple\"><rect fill=\"#FFFFFF\" height=\"45.9375\" id=\"E6\" rx=\"10\" ry=\"10\" style=\"stroke: #383838; stroke-width: 1.5;\" width=\"71\" x=\"32.5\" y=\"217.5\"/><text fill=\"#000000\" font-family=\"sans-serif\" font-size=\"12\" font-style=\"italic\" lengthAdjust=\"spacingAndGlyphs\" textLength=\"69\" x=\"33.5\" y=\"233.6387\">«attribute»</text><text fill=\"#000000\" font-family=\"sans-serif\" font-size=\"12\" lengthAdjust=\"spacingAndGlyphs\" textLength=\"6\" x=\"65\" y=\"247.6074\">x</text><line style=\"stroke: #383838; stroke-width: 1.5;\" x1=\"33.5\" x2=\"102.5\" y1=\"255.4375\" y2=\"255.4375\"/></a><!--MD5=[2156ba9850f5573cc1fc38a6a4b2f02b]\n",
       "class E7--><a href=\"psysml:b8e81d8b-4779-47a3-b21f-b5cec6a6f06b\" target=\"_top\" title=\"psysml:b8e81d8b-4779-47a3-b21f-b5cec6a6f06b\" xlink:actuate=\"onRequest\" xlink:href=\"psysml:b8e81d8b-4779-47a3-b21f-b5cec6a6f06b\" xlink:show=\"new\" xlink:title=\"psysml:b8e81d8b-4779-47a3-b21f-b5cec6a6f06b\" xlink:type=\"simple\"><rect fill=\"#FFFFFF\" height=\"45.9375\" id=\"E7\" rx=\"10\" ry=\"10\" style=\"stroke: #383838; stroke-width: 1.5;\" width=\"71\" x=\"138.5\" y=\"217.5\"/><text fill=\"#000000\" font-family=\"sans-serif\" font-size=\"12\" font-style=\"italic\" lengthAdjust=\"spacingAndGlyphs\" textLength=\"69\" x=\"139.5\" y=\"233.6387\">«attribute»</text><text fill=\"#000000\" font-family=\"sans-serif\" font-size=\"12\" lengthAdjust=\"spacingAndGlyphs\" textLength=\"6\" x=\"171\" y=\"247.6074\">y</text><line style=\"stroke: #383838; stroke-width: 1.5;\" x1=\"139.5\" x2=\"208.5\" y1=\"255.4375\" y2=\"255.4375\"/></a><!--MD5=[b9389687b975829384b498ac4b7476b2]\n",
       "class E8--><a href=\"psysml:ff5b6b09-567c-4f7f-ac5d-5252b0115c49\" target=\"_top\" title=\"psysml:ff5b6b09-567c-4f7f-ac5d-5252b0115c49\" xlink:actuate=\"onRequest\" xlink:href=\"psysml:ff5b6b09-567c-4f7f-ac5d-5252b0115c49\" xlink:show=\"new\" xlink:title=\"psysml:ff5b6b09-567c-4f7f-ac5d-5252b0115c49\" xlink:type=\"simple\"><rect fill=\"#FFFFFF\" height=\"45.9375\" id=\"E8\" rx=\"10\" ry=\"10\" style=\"stroke: #383838; stroke-width: 1.5;\" width=\"71\" x=\"84.5\" y=\"87.5\"/><text fill=\"#000000\" font-family=\"sans-serif\" font-size=\"12\" font-style=\"italic\" lengthAdjust=\"spacingAndGlyphs\" textLength=\"69\" x=\"85.5\" y=\"103.6387\">«attribute»</text><text fill=\"#000000\" font-family=\"sans-serif\" font-size=\"12\" lengthAdjust=\"spacingAndGlyphs\" textLength=\"5\" x=\"117.5\" y=\"117.6074\">z</text><line style=\"stroke: #383838; stroke-width: 1.5;\" x1=\"85.5\" x2=\"154.5\" y1=\"125.4375\" y2=\"125.4375\"/></a><a href=\"psysml:b4c6803f-b500-4ed2-a89b-7b27b2a9486d\" target=\"_top\" title=\"psysml:b4c6803f-b500-4ed2-a89b-7b27b2a9486d\" xlink:actuate=\"onRequest\" xlink:href=\"psysml:b4c6803f-b500-4ed2-a89b-7b27b2a9486d\" xlink:show=\"new\" xlink:title=\"psysml:b4c6803f-b500-4ed2-a89b-7b27b2a9486d\" xlink:type=\"simple\"><polygon fill=\"#FFFFFF\" points=\"271,84,413,84,420,106.2969,427,106.2969,427,136.5938,271,136.5938,271,84\" style=\"stroke: #000000; stroke-width: 1.5;\"/><line style=\"stroke: #000000; stroke-width: 1.5;\" x1=\"271\" x2=\"420\" y1=\"106.2969\" y2=\"106.2969\"/><text fill=\"#000000\" font-family=\"sans-serif\" font-size=\"14\" font-weight=\"bold\" lengthAdjust=\"spacingAndGlyphs\" textLength=\"136\" x=\"275\" y=\"98.9951\">Application Layer</text></a><a href=\"psysml:66b88940-ae34-45ae-8eaf-0df380551b61\" target=\"_top\" title=\"psysml:66b88940-ae34-45ae-8eaf-0df380551b61\" xlink:actuate=\"onRequest\" xlink:href=\"psysml:66b88940-ae34-45ae-8eaf-0df380551b61\" xlink:show=\"new\" xlink:title=\"psysml:66b88940-ae34-45ae-8eaf-0df380551b61\" xlink:type=\"simple\"><polygon fill=\"#FFFFFF\" points=\"285,214,399,214,406,236.2969,413,236.2969,413,266.5938,285,266.5938,285,214\" style=\"stroke: #000000; stroke-width: 1.5;\"/><line style=\"stroke: #000000; stroke-width: 1.5;\" x1=\"285\" x2=\"406\" y1=\"236.2969\" y2=\"236.2969\"/><text fill=\"#000000\" font-family=\"sans-serif\" font-size=\"14\" font-weight=\"bold\" lengthAdjust=\"spacingAndGlyphs\" textLength=\"108\" x=\"289\" y=\"228.9951\">Service Layer</text></a><a href=\"psysml:2f9cfad3-e6e2-4672-a52e-eac3ac1cc3fa\" target=\"_top\" title=\"psysml:2f9cfad3-e6e2-4672-a52e-eac3ac1cc3fa\" xlink:actuate=\"onRequest\" xlink:href=\"psysml:2f9cfad3-e6e2-4672-a52e-eac3ac1cc3fa\" xlink:show=\"new\" xlink:title=\"psysml:2f9cfad3-e6e2-4672-a52e-eac3ac1cc3fa\" xlink:type=\"simple\"><polygon fill=\"#FFFFFF\" points=\"297,344,387,344,394,366.2969,401,366.2969,401,396.5938,297,396.5938,297,344\" style=\"stroke: #000000; stroke-width: 1.5;\"/><line style=\"stroke: #000000; stroke-width: 1.5;\" x1=\"297\" x2=\"394\" y1=\"366.2969\" y2=\"366.2969\"/><text fill=\"#000000\" font-family=\"sans-serif\" font-size=\"14\" font-weight=\"bold\" lengthAdjust=\"spacingAndGlyphs\" textLength=\"84\" x=\"301\" y=\"358.9951\">Data Layer</text></a><!--MD5=[af87c684e3b0d8be13c1a698a818ef1e]\n",
       "link E3 to E4--><a href=\"psysml:dea4bf7d-7df0-4a98-b0a8-ad3094fe796e\" target=\"_top\" title=\"psysml:dea4bf7d-7df0-4a98-b0a8-ad3094fe796e\" xlink:actuate=\"onRequest\" xlink:href=\"psysml:dea4bf7d-7df0-4a98-b0a8-ad3094fe796e\" xlink:show=\"new\" xlink:title=\"psysml:dea4bf7d-7df0-4a98-b0a8-ad3094fe796e\" xlink:type=\"simple\"><path d=\"M349,137.12 C349,137.12 349,205.91 349,205.91 \" fill=\"none\" id=\"E3-&gt;E4\" style=\"stroke: #383838; stroke-width: 1.0; stroke-dasharray: 7.0,7.0;\"/><polygon fill=\"#383838\" points=\"349,213.91,352,205.91,346,205.91,349,213.91\" style=\"stroke: #383838; stroke-width: 1.0;\"/><text fill=\"#000000\" font-family=\"sans-serif\" font-size=\"13\" lengthAdjust=\"spacingAndGlyphs\" textLength=\"64\" x=\"350\" y=\"180.0669\">«depend»</text></a><!--MD5=[1b7591eae5389033d8d09a9d6721a717]\n",
       "link E4 to E5--><a href=\"psysml:6c12c767-a343-4222-b71b-448a215deadc\" target=\"_top\" title=\"psysml:6c12c767-a343-4222-b71b-448a215deadc\" xlink:actuate=\"onRequest\" xlink:href=\"psysml:6c12c767-a343-4222-b71b-448a215deadc\" xlink:show=\"new\" xlink:title=\"psysml:6c12c767-a343-4222-b71b-448a215deadc\" xlink:type=\"simple\"><path d=\"M349,267.12 C349,267.12 349,335.91 349,335.91 \" fill=\"none\" id=\"E4-&gt;E5\" style=\"stroke: #383838; stroke-width: 1.0; stroke-dasharray: 7.0,7.0;\"/><polygon fill=\"#383838\" points=\"349,343.91,352,335.91,346,335.91,349,343.91\" style=\"stroke: #383838; stroke-width: 1.0;\"/><text fill=\"#000000\" font-family=\"sans-serif\" font-size=\"13\" lengthAdjust=\"spacingAndGlyphs\" textLength=\"64\" x=\"350\" y=\"310.0669\">«depend»</text></a><!--MD5=[c5e8897d989ce984f93528998a7150fe]\n",
       "link E8 to E6--><a href=\"psysml:2c14e4ca-efb9-4e12-a147-b41b8d65befc\" target=\"_top\" title=\"psysml:2c14e4ca-efb9-4e12-a147-b41b8d65befc\" xlink:actuate=\"onRequest\" xlink:href=\"psysml:2c14e4ca-efb9-4e12-a147-b41b8d65befc\" xlink:show=\"new\" xlink:title=\"psysml:2c14e4ca-efb9-4e12-a147-b41b8d65befc\" xlink:type=\"simple\"><path d=\"M94,133.74 C94,133.74 94,209.46 94,209.46 \" fill=\"none\" id=\"E8-&gt;E6\" style=\"stroke: #383838; stroke-width: 1.0; stroke-dasharray: 7.0,7.0;\"/><polygon fill=\"#383838\" points=\"94,217.46,97,209.46,91,209.46,94,217.46\" style=\"stroke: #383838; stroke-width: 1.0;\"/><text fill=\"#000000\" font-family=\"sans-serif\" font-size=\"13\" lengthAdjust=\"spacingAndGlyphs\" textLength=\"64\" x=\"68\" y=\"180.0669\">«depend»</text></a><!--MD5=[bfa3c8b0d15052fdf50ae9310b491027]\n",
       "link E8 to E7--><a href=\"psysml:2c14e4ca-efb9-4e12-a147-b41b8d65befc\" target=\"_top\" title=\"psysml:2c14e4ca-efb9-4e12-a147-b41b8d65befc\" xlink:actuate=\"onRequest\" xlink:href=\"psysml:2c14e4ca-efb9-4e12-a147-b41b8d65befc\" xlink:show=\"new\" xlink:title=\"psysml:2c14e4ca-efb9-4e12-a147-b41b8d65befc\" xlink:type=\"simple\"><path d=\"M147,133.74 C147,133.74 147,209.46 147,209.46 \" fill=\"none\" id=\"E8-&gt;E7\" style=\"stroke: #383838; stroke-width: 1.0; stroke-dasharray: 7.0,7.0;\"/><polygon fill=\"#383838\" points=\"147,217.46,150,209.46,144,209.46,147,217.46\" style=\"stroke: #383838; stroke-width: 1.0;\"/><text fill=\"#000000\" font-family=\"sans-serif\" font-size=\"13\" lengthAdjust=\"spacingAndGlyphs\" textLength=\"64\" x=\"174\" y=\"180.0669\">«depend»</text></a><!--MD5=[1c96597f8f78da635c23b6ca5a02a4b4]\n",
       "@startuml\r\n",
       "skinparam linetype ortho\r\n",
       "skinparam monochrome true\r\n",
       "skinparam classbackgroundcolor white\r\n",
       "skinparam shadowing false\r\n",
       "skinparam wrapWidth 300\r\n",
       "hide circle\r\n",
       "\r\n",
       "package \"DependencyTest\" as E1  [[psysml:cce2acdd-5299-4277-a359-760a7748f1a5 ]]  {\r\n",
       "package \"System\" as E2  [[psysml:fe0450d0-807d-48bf-914f-f99eea0aac67 ]]  {\r\n",
       "package \"Application Layer\" as E3  [[psysml:b4c6803f-b500-4ed2-a89b-7b27b2a9486d ]]  {\r\n",
       "}\r\n",
       "package \"Service Layer\" as E4  [[psysml:66b88940-ae34-45ae-8eaf-0df380551b61 ]]  {\r\n",
       "}\r\n",
       "package \"Data Layer\" as E5  [[psysml:2f9cfad3-e6e2-4672-a52e-eac3ac1cc3fa ]]  {\r\n",
       "}\r\n",
       "}\r\n",
       "comp usage \"x\" as E6  <<(T,blue)attribute>> [[psysml:627607da-451a-45ac-bf2e-8d18d85231b1 ]] {\r\n",
       "}\r\n",
       "comp usage \"y\" as E7  <<(T,blue)attribute>> [[psysml:b8e81d8b-4779-47a3-b21f-b5cec6a6f06b ]] {\r\n",
       "}\r\n",
       "comp usage \"z\" as E8  <<(T,blue)attribute>> [[psysml:ff5b6b09-567c-4f7f-ac5d-5252b0115c49 ]] {\r\n",
       "}\r\n",
       "E3 ..>> E4 [[psysml:dea4bf7d-7df0-4a98-b0a8-ad3094fe796e ]] : <<depend>>\r\n",
       "E4 ..>> E5 [[psysml:6c12c767-a343-4222-b71b-448a215deadc ]] : <<depend>>\r\n",
       "E8 ..>> E6 [[psysml:2c14e4ca-efb9-4e12-a147-b41b8d65befc ]] : <<depend>>\r\n",
       "E8 ..>> E7 [[psysml:2c14e4ca-efb9-4e12-a147-b41b8d65befc ]] : <<depend>>\r\n",
       "}\r\n",
       "@enduml\r\n",
       "\n",
       "PlantUML version 1.2020.13(Sat Jun 13 12:26:38 UTC 2020)\n",
       "(EPL source distribution)\n",
       "Java Runtime: OpenJDK Runtime Environment\n",
       "JVM: OpenJDK 64-Bit Server VM\n",
       "Default Encoding: UTF-8\n",
       "Language: en\n",
       "Country: null\n",
       "--></g></svg>"
      ]
     },
     "execution_count": 57,
     "metadata": {},
     "output_type": "execute_result"
    }
   ],
   "source": [
    "%viz --style=\"ORTHOLINE\" --view=\"MIXED\" \"DependencyTest\""
   ]
  }
 ],
 "metadata": {
  "kernelspec": {
   "display_name": "SysML",
   "language": "sysml",
   "name": "sysml"
  },
  "language_info": {
   "codemirror_mode": "sysml",
   "file_extension": ".sysml",
   "mimetype": "text/x-sysml",
   "name": "SysML",
   "pygments_lexer": "java",
   "version": "1.0.0"
  }
 },
 "nbformat": 4,
 "nbformat_minor": 5
}
