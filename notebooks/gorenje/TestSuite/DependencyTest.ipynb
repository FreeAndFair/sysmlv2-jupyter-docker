{
 "cells": [
  {
   "cell_type": "markdown",
   "id": "square-oklahoma",
   "metadata": {},
   "source": [
    "# SysML v2 Test Suite\n",
    "\n",
    "This can notebook can be cleared using menu `Edit --> Clear All Outputs` and then all cells can be\n",
    "run using menu `Run --> Run All Cells`.\n",
    "\n",
    "**WARNING**: This file is generated, all modifications here will be ignored.\n"
   ]
  },
  {
   "cell_type": "markdown",
   "id": "affecting-candidate",
   "metadata": {},
   "source": [
    "## File: ../../sysml/src/examples/Simple Tests/DependencyTest.sysml"
   ]
  },
  {
   "cell_type": "code",
   "execution_count": 1,
   "id": "decent-equality",
   "metadata": {
    "execution": {
     "iopub.execute_input": "2021-03-25T13:51:39.444509Z",
     "iopub.status.busy": "2021-03-25T13:51:39.443499Z",
     "iopub.status.idle": "2021-03-25T13:51:39.534161Z",
     "shell.execute_reply": "2021-03-25T13:51:39.533554Z"
    }
   },
   "outputs": [
    {
     "data": {
      "text/plain": [
       "Package DependencyTest (c6fef172-b028-4a66-ab8d-0b003199e698)\n"
      ]
     },
     "execution_count": 1,
     "metadata": {},
     "output_type": "execute_result"
    }
   ],
   "source": [
    "package DependencyTest {\n",
    "\t\n",
    "\tpackage System {\n",
    "\t\tpackage 'Application Layer';\n",
    "\t\tpackage 'Service Layer';\n",
    "\t\tpackage 'Data Layer';\n",
    "\t}\n",
    "\t\n",
    "\timport System::*;\n",
    "\t\n",
    "\tdependency Use from 'Application Layer' to 'Service Layer';\n",
    "\tdependency from 'Service Layer' to 'Data Layer';\n",
    "\t\n",
    "\tattribute x;\n",
    "\tattribute y;\n",
    "\tattribute z;\n",
    "\t\n",
    "\tdependency z to x, y;\n",
    "\t\n",
    "}"
   ]
  },
  {
   "cell_type": "code",
   "execution_count": 2,
   "id": "manufactured-bernard",
   "metadata": {
    "execution": {
     "iopub.execute_input": "2021-03-25T13:51:39.587675Z",
     "iopub.status.busy": "2021-03-25T13:51:39.587064Z",
     "iopub.status.idle": "2021-03-25T13:51:40.436735Z",
     "shell.execute_reply": "2021-03-25T13:51:40.436116Z"
    }
   },
   "outputs": [
    {
     "data": {
      "image/svg+xml": [
       "<?xml version=\"1.0\" encoding=\"UTF-8\" standalone=\"no\"?><svg xmlns=\"http://www.w3.org/2000/svg\" xmlns:xlink=\"http://www.w3.org/1999/xlink\" contentScriptType=\"application/ecmascript\" contentStyleType=\"text/css\" height=\"449px\" preserveAspectRatio=\"none\" style=\"width:489px;height:449px;\" version=\"1.1\" viewBox=\"0 0 489 449\" width=\"489px\" zoomAndPan=\"magnify\"><defs/><g><!--MD5=[fbc87193dbaf4d95561dea2c320d4a47]\n",
       "cluster E1--><a href=\"psysml:430f5b70-8499-4207-b78a-0a401723d15c\" target=\"_top\" title=\"psysml:430f5b70-8499-4207-b78a-0a401723d15c\" xlink:actuate=\"onRequest\" xlink:href=\"psysml:430f5b70-8499-4207-b78a-0a401723d15c\" xlink:show=\"new\" xlink:title=\"psysml:430f5b70-8499-4207-b78a-0a401723d15c\" xlink:type=\"simple\"><polygon fill=\"#FFFFFF\" points=\"16,6,156,6,163,28.2969,467,28.2969,467,437,16,437,16,6\" style=\"stroke: #000000; stroke-width: 1.5;\"/><line style=\"stroke: #000000; stroke-width: 1.5;\" x1=\"16\" x2=\"163\" y1=\"28.2969\" y2=\"28.2969\"/><text fill=\"#000000\" font-family=\"sans-serif\" font-size=\"14\" font-weight=\"bold\" lengthAdjust=\"spacingAndGlyphs\" textLength=\"134\" x=\"20\" y=\"20.9951\">DependencyTest</text></a><!--MD5=[e4f7fae6ed58524ba242bb0b0d3be6b7]\n",
       "cluster E2--><a href=\"psysml:ef80acf8-3bbf-43fc-abea-40efc458e2ed\" target=\"_top\" title=\"psysml:ef80acf8-3bbf-43fc-abea-40efc458e2ed\" xlink:actuate=\"onRequest\" xlink:href=\"psysml:ef80acf8-3bbf-43fc-abea-40efc458e2ed\" xlink:show=\"new\" xlink:title=\"psysml:ef80acf8-3bbf-43fc-abea-40efc458e2ed\" xlink:type=\"simple\"><polygon fill=\"#FFFFFF\" points=\"255,49,319,49,326,71.2969,443,71.2969,443,413,255,413,255,49\" style=\"stroke: #000000; stroke-width: 1.5;\"/><line style=\"stroke: #000000; stroke-width: 1.5;\" x1=\"255\" x2=\"326\" y1=\"71.2969\" y2=\"71.2969\"/><text fill=\"#000000\" font-family=\"sans-serif\" font-size=\"14\" font-weight=\"bold\" lengthAdjust=\"spacingAndGlyphs\" textLength=\"58\" x=\"259\" y=\"63.9951\">System</text></a><!--MD5=[60a26617385b1d2d0262a64233df1f8d]\n",
       "class E6--><a href=\"psysml:f9adf18b-8dbf-4490-b33d-e9e2045e17b2\" target=\"_top\" title=\"psysml:f9adf18b-8dbf-4490-b33d-e9e2045e17b2\" xlink:actuate=\"onRequest\" xlink:href=\"psysml:f9adf18b-8dbf-4490-b33d-e9e2045e17b2\" xlink:show=\"new\" xlink:title=\"psysml:f9adf18b-8dbf-4490-b33d-e9e2045e17b2\" xlink:type=\"simple\"><rect fill=\"#FFFFFF\" height=\"45.9375\" id=\"E6\" rx=\"10\" ry=\"10\" style=\"stroke: #383838; stroke-width: 1.5;\" width=\"71\" x=\"32.5\" y=\"217.5\"/><text fill=\"#000000\" font-family=\"sans-serif\" font-size=\"12\" font-style=\"italic\" lengthAdjust=\"spacingAndGlyphs\" textLength=\"69\" x=\"33.5\" y=\"233.6387\">«attribute»</text><text fill=\"#000000\" font-family=\"sans-serif\" font-size=\"12\" lengthAdjust=\"spacingAndGlyphs\" textLength=\"6\" x=\"65\" y=\"247.6074\">x</text><line style=\"stroke: #383838; stroke-width: 1.5;\" x1=\"33.5\" x2=\"102.5\" y1=\"255.4375\" y2=\"255.4375\"/></a><!--MD5=[2156ba9850f5573cc1fc38a6a4b2f02b]\n",
       "class E7--><a href=\"psysml:b3547f0d-a84a-43aa-aeb1-8f3416005562\" target=\"_top\" title=\"psysml:b3547f0d-a84a-43aa-aeb1-8f3416005562\" xlink:actuate=\"onRequest\" xlink:href=\"psysml:b3547f0d-a84a-43aa-aeb1-8f3416005562\" xlink:show=\"new\" xlink:title=\"psysml:b3547f0d-a84a-43aa-aeb1-8f3416005562\" xlink:type=\"simple\"><rect fill=\"#FFFFFF\" height=\"45.9375\" id=\"E7\" rx=\"10\" ry=\"10\" style=\"stroke: #383838; stroke-width: 1.5;\" width=\"71\" x=\"138.5\" y=\"217.5\"/><text fill=\"#000000\" font-family=\"sans-serif\" font-size=\"12\" font-style=\"italic\" lengthAdjust=\"spacingAndGlyphs\" textLength=\"69\" x=\"139.5\" y=\"233.6387\">«attribute»</text><text fill=\"#000000\" font-family=\"sans-serif\" font-size=\"12\" lengthAdjust=\"spacingAndGlyphs\" textLength=\"6\" x=\"171\" y=\"247.6074\">y</text><line style=\"stroke: #383838; stroke-width: 1.5;\" x1=\"139.5\" x2=\"208.5\" y1=\"255.4375\" y2=\"255.4375\"/></a><!--MD5=[b9389687b975829384b498ac4b7476b2]\n",
       "class E8--><a href=\"psysml:06d3944d-d8a9-41b6-a7dc-ea1875e321b3\" target=\"_top\" title=\"psysml:06d3944d-d8a9-41b6-a7dc-ea1875e321b3\" xlink:actuate=\"onRequest\" xlink:href=\"psysml:06d3944d-d8a9-41b6-a7dc-ea1875e321b3\" xlink:show=\"new\" xlink:title=\"psysml:06d3944d-d8a9-41b6-a7dc-ea1875e321b3\" xlink:type=\"simple\"><rect fill=\"#FFFFFF\" height=\"45.9375\" id=\"E8\" rx=\"10\" ry=\"10\" style=\"stroke: #383838; stroke-width: 1.5;\" width=\"71\" x=\"84.5\" y=\"87.5\"/><text fill=\"#000000\" font-family=\"sans-serif\" font-size=\"12\" font-style=\"italic\" lengthAdjust=\"spacingAndGlyphs\" textLength=\"69\" x=\"85.5\" y=\"103.6387\">«attribute»</text><text fill=\"#000000\" font-family=\"sans-serif\" font-size=\"12\" lengthAdjust=\"spacingAndGlyphs\" textLength=\"5\" x=\"117.5\" y=\"117.6074\">z</text><line style=\"stroke: #383838; stroke-width: 1.5;\" x1=\"85.5\" x2=\"154.5\" y1=\"125.4375\" y2=\"125.4375\"/></a><a href=\"psysml:cb2f8149-aa3e-4482-91f3-ed1f7789b4f6\" target=\"_top\" title=\"psysml:cb2f8149-aa3e-4482-91f3-ed1f7789b4f6\" xlink:actuate=\"onRequest\" xlink:href=\"psysml:cb2f8149-aa3e-4482-91f3-ed1f7789b4f6\" xlink:show=\"new\" xlink:title=\"psysml:cb2f8149-aa3e-4482-91f3-ed1f7789b4f6\" xlink:type=\"simple\"><polygon fill=\"#FFFFFF\" points=\"271,84,413,84,420,106.2969,427,106.2969,427,136.5938,271,136.5938,271,84\" style=\"stroke: #000000; stroke-width: 1.5;\"/><line style=\"stroke: #000000; stroke-width: 1.5;\" x1=\"271\" x2=\"420\" y1=\"106.2969\" y2=\"106.2969\"/><text fill=\"#000000\" font-family=\"sans-serif\" font-size=\"14\" font-weight=\"bold\" lengthAdjust=\"spacingAndGlyphs\" textLength=\"136\" x=\"275\" y=\"98.9951\">Application Layer</text></a><a href=\"psysml:c90fac5e-4b06-46df-8524-0f31fe17b625\" target=\"_top\" title=\"psysml:c90fac5e-4b06-46df-8524-0f31fe17b625\" xlink:actuate=\"onRequest\" xlink:href=\"psysml:c90fac5e-4b06-46df-8524-0f31fe17b625\" xlink:show=\"new\" xlink:title=\"psysml:c90fac5e-4b06-46df-8524-0f31fe17b625\" xlink:type=\"simple\"><polygon fill=\"#FFFFFF\" points=\"285,214,399,214,406,236.2969,413,236.2969,413,266.5938,285,266.5938,285,214\" style=\"stroke: #000000; stroke-width: 1.5;\"/><line style=\"stroke: #000000; stroke-width: 1.5;\" x1=\"285\" x2=\"406\" y1=\"236.2969\" y2=\"236.2969\"/><text fill=\"#000000\" font-family=\"sans-serif\" font-size=\"14\" font-weight=\"bold\" lengthAdjust=\"spacingAndGlyphs\" textLength=\"108\" x=\"289\" y=\"228.9951\">Service Layer</text></a><a href=\"psysml:5945f028-85af-4284-8707-6581cfe8107d\" target=\"_top\" title=\"psysml:5945f028-85af-4284-8707-6581cfe8107d\" xlink:actuate=\"onRequest\" xlink:href=\"psysml:5945f028-85af-4284-8707-6581cfe8107d\" xlink:show=\"new\" xlink:title=\"psysml:5945f028-85af-4284-8707-6581cfe8107d\" xlink:type=\"simple\"><polygon fill=\"#FFFFFF\" points=\"297,344,387,344,394,366.2969,401,366.2969,401,396.5938,297,396.5938,297,344\" style=\"stroke: #000000; stroke-width: 1.5;\"/><line style=\"stroke: #000000; stroke-width: 1.5;\" x1=\"297\" x2=\"394\" y1=\"366.2969\" y2=\"366.2969\"/><text fill=\"#000000\" font-family=\"sans-serif\" font-size=\"14\" font-weight=\"bold\" lengthAdjust=\"spacingAndGlyphs\" textLength=\"84\" x=\"301\" y=\"358.9951\">Data Layer</text></a><!--MD5=[af87c684e3b0d8be13c1a698a818ef1e]\n",
       "link E3 to E4--><a href=\"psysml:71e7e357-685b-41cb-afa1-92571af689f5\" target=\"_top\" title=\"psysml:71e7e357-685b-41cb-afa1-92571af689f5\" xlink:actuate=\"onRequest\" xlink:href=\"psysml:71e7e357-685b-41cb-afa1-92571af689f5\" xlink:show=\"new\" xlink:title=\"psysml:71e7e357-685b-41cb-afa1-92571af689f5\" xlink:type=\"simple\"><path d=\"M349,137.1 C349,156.8 349,184.22 349,205.73 \" fill=\"none\" id=\"E3-&gt;E4\" style=\"stroke: #383838; stroke-width: 1.0; stroke-dasharray: 7.0,7.0;\"/><polygon fill=\"#383838\" points=\"349,213.95,352,205.95,346,205.95,349,213.95\" style=\"stroke: #383838; stroke-width: 1.0;\"/><text fill=\"#000000\" font-family=\"sans-serif\" font-size=\"13\" lengthAdjust=\"spacingAndGlyphs\" textLength=\"64\" x=\"350\" y=\"180.0669\">«depend»</text></a><!--MD5=[1b7591eae5389033d8d09a9d6721a717]\n",
       "link E4 to E5--><a href=\"psysml:1107382a-37f6-4d52-8c17-003f9fc0676e\" target=\"_top\" title=\"psysml:1107382a-37f6-4d52-8c17-003f9fc0676e\" xlink:actuate=\"onRequest\" xlink:href=\"psysml:1107382a-37f6-4d52-8c17-003f9fc0676e\" xlink:show=\"new\" xlink:title=\"psysml:1107382a-37f6-4d52-8c17-003f9fc0676e\" xlink:type=\"simple\"><path d=\"M349,267.1 C349,286.8 349,314.22 349,335.73 \" fill=\"none\" id=\"E4-&gt;E5\" style=\"stroke: #383838; stroke-width: 1.0; stroke-dasharray: 7.0,7.0;\"/><polygon fill=\"#383838\" points=\"349,343.95,352,335.95,346,335.95,349,343.95\" style=\"stroke: #383838; stroke-width: 1.0;\"/><text fill=\"#000000\" font-family=\"sans-serif\" font-size=\"13\" lengthAdjust=\"spacingAndGlyphs\" textLength=\"64\" x=\"350\" y=\"310.0669\">«depend»</text></a><!--MD5=[c5e8897d989ce984f93528998a7150fe]\n",
       "link E8 to E6--><a href=\"psysml:a975d936-bb91-4b85-9c47-7632192c23c3\" target=\"_top\" title=\"psysml:a975d936-bb91-4b85-9c47-7632192c23c3\" xlink:actuate=\"onRequest\" xlink:href=\"psysml:a975d936-bb91-4b85-9c47-7632192c23c3\" xlink:show=\"new\" xlink:title=\"psysml:a975d936-bb91-4b85-9c47-7632192c23c3\" xlink:type=\"simple\"><path d=\"M89.42,133.6 C79.35,142.68 69.37,154.11 64,167 C58.5,180.2 58.66,195.94 60.54,209.38 \" fill=\"none\" id=\"E8-&gt;E6\" style=\"stroke: #383838; stroke-width: 1.0; stroke-dasharray: 7.0,7.0;\"/><polygon fill=\"#383838\" points=\"61.9,217.4,63.517,209.0104,57.6018,210.0159,61.9,217.4\" style=\"stroke: #383838; stroke-width: 1.0;\"/><text fill=\"#000000\" font-family=\"sans-serif\" font-size=\"13\" lengthAdjust=\"spacingAndGlyphs\" textLength=\"64\" x=\"65\" y=\"180.0669\">«depend»</text></a><!--MD5=[bfa3c8b0d15052fdf50ae9310b491027]\n",
       "link E8 to E7--><a href=\"psysml:a975d936-bb91-4b85-9c47-7632192c23c3\" target=\"_top\" title=\"psysml:a975d936-bb91-4b85-9c47-7632192c23c3\" xlink:actuate=\"onRequest\" xlink:href=\"psysml:a975d936-bb91-4b85-9c47-7632192c23c3\" xlink:show=\"new\" xlink:title=\"psysml:a975d936-bb91-4b85-9c47-7632192c23c3\" xlink:type=\"simple\"><path d=\"M129.28,133.5 C138.17,154.57 151.64,186.5 161.47,209.81 \" fill=\"none\" id=\"E8-&gt;E7\" style=\"stroke: #383838; stroke-width: 1.0; stroke-dasharray: 7.0,7.0;\"/><polygon fill=\"#383838\" points=\"164.66,217.35,164.3241,208.8126,158.7933,211.1385,164.66,217.35\" style=\"stroke: #383838; stroke-width: 1.0;\"/><text fill=\"#000000\" font-family=\"sans-serif\" font-size=\"13\" lengthAdjust=\"spacingAndGlyphs\" textLength=\"64\" x=\"151\" y=\"180.0669\">«depend»</text></a><!--MD5=[2ab7e1154488afb24dbdd2f6c54bc815]\n",
       "@startuml\r\n",
       " skinparam monochrome true\r\n",
       "skinparam classbackgroundcolor white\r\n",
       "skinparam shadowing false\r\n",
       "skinparam wrapWidth 300\r\n",
       "hide circle\r\n",
       "\r\n",
       "package \"DependencyTest\" as E1  [[psysml:430f5b70-8499-4207-b78a-0a401723d15c ]]  {\r\n",
       "package \"System\" as E2  [[psysml:ef80acf8-3bbf-43fc-abea-40efc458e2ed ]]  {\r\n",
       "package \"Application Layer\" as E3  [[psysml:cb2f8149-aa3e-4482-91f3-ed1f7789b4f6 ]]  {\r\n",
       "}\r\n",
       "package \"Service Layer\" as E4  [[psysml:c90fac5e-4b06-46df-8524-0f31fe17b625 ]]  {\r\n",
       "}\r\n",
       "package \"Data Layer\" as E5  [[psysml:5945f028-85af-4284-8707-6581cfe8107d ]]  {\r\n",
       "}\r\n",
       "}\r\n",
       "comp usage \"x\" as E6  <<(T,blue)attribute>> [[psysml:f9adf18b-8dbf-4490-b33d-e9e2045e17b2 ]] {\r\n",
       "}\r\n",
       "comp usage \"y\" as E7  <<(T,blue)attribute>> [[psysml:b3547f0d-a84a-43aa-aeb1-8f3416005562 ]] {\r\n",
       "}\r\n",
       "comp usage \"z\" as E8  <<(T,blue)attribute>> [[psysml:06d3944d-d8a9-41b6-a7dc-ea1875e321b3 ]] {\r\n",
       "}\r\n",
       "E3 ..>> E4 [[psysml:71e7e357-685b-41cb-afa1-92571af689f5 ]] : <<depend>>\r\n",
       "E4 ..>> E5 [[psysml:1107382a-37f6-4d52-8c17-003f9fc0676e ]] : <<depend>>\r\n",
       "E8 ..>> E6 [[psysml:a975d936-bb91-4b85-9c47-7632192c23c3 ]] : <<depend>>\r\n",
       "E8 ..>> E7 [[psysml:a975d936-bb91-4b85-9c47-7632192c23c3 ]] : <<depend>>\r\n",
       "}\r\n",
       "@enduml\r\n",
       "\n",
       "PlantUML version 1.2020.13(Sat Jun 13 12:26:38 UTC 2020)\n",
       "(EPL source distribution)\n",
       "Java Runtime: OpenJDK Runtime Environment\n",
       "JVM: OpenJDK 64-Bit Server VM\n",
       "Default Encoding: UTF-8\n",
       "Language: en\n",
       "Country: null\n",
       "--></g></svg>"
      ]
     },
     "execution_count": 2,
     "metadata": {},
     "output_type": "execute_result"
    }
   ],
   "source": [
    "%viz --style=\"COMPTREE\" --view=\"Default\" \"DependencyTest\""
   ]
  },
  {
   "cell_type": "code",
   "execution_count": 3,
   "id": "internal-korean",
   "metadata": {
    "execution": {
     "iopub.execute_input": "2021-03-25T13:51:40.488258Z",
     "iopub.status.busy": "2021-03-25T13:51:40.487855Z",
     "iopub.status.idle": "2021-03-25T13:51:40.646411Z",
     "shell.execute_reply": "2021-03-25T13:51:40.646879Z"
    }
   },
   "outputs": [
    {
     "data": {
      "image/svg+xml": [
       "<?xml version=\"1.0\" encoding=\"UTF-8\" standalone=\"no\"?><svg xmlns=\"http://www.w3.org/2000/svg\" xmlns:xlink=\"http://www.w3.org/1999/xlink\" contentScriptType=\"application/ecmascript\" contentStyleType=\"text/css\" height=\"449px\" preserveAspectRatio=\"none\" style=\"width:489px;height:449px;\" version=\"1.1\" viewBox=\"0 0 489 449\" width=\"489px\" zoomAndPan=\"magnify\"><defs/><g><!--MD5=[fbc87193dbaf4d95561dea2c320d4a47]\n",
       "cluster E1--><a href=\"psysml:430f5b70-8499-4207-b78a-0a401723d15c\" target=\"_top\" title=\"psysml:430f5b70-8499-4207-b78a-0a401723d15c\" xlink:actuate=\"onRequest\" xlink:href=\"psysml:430f5b70-8499-4207-b78a-0a401723d15c\" xlink:show=\"new\" xlink:title=\"psysml:430f5b70-8499-4207-b78a-0a401723d15c\" xlink:type=\"simple\"><polygon fill=\"#FFFFFF\" points=\"16,6,156,6,163,28.2969,467,28.2969,467,437,16,437,16,6\" style=\"stroke: #000000; stroke-width: 1.5;\"/><line style=\"stroke: #000000; stroke-width: 1.5;\" x1=\"16\" x2=\"163\" y1=\"28.2969\" y2=\"28.2969\"/><text fill=\"#000000\" font-family=\"sans-serif\" font-size=\"14\" font-weight=\"bold\" lengthAdjust=\"spacingAndGlyphs\" textLength=\"134\" x=\"20\" y=\"20.9951\">DependencyTest</text></a><!--MD5=[e4f7fae6ed58524ba242bb0b0d3be6b7]\n",
       "cluster E2--><a href=\"psysml:ef80acf8-3bbf-43fc-abea-40efc458e2ed\" target=\"_top\" title=\"psysml:ef80acf8-3bbf-43fc-abea-40efc458e2ed\" xlink:actuate=\"onRequest\" xlink:href=\"psysml:ef80acf8-3bbf-43fc-abea-40efc458e2ed\" xlink:show=\"new\" xlink:title=\"psysml:ef80acf8-3bbf-43fc-abea-40efc458e2ed\" xlink:type=\"simple\"><polygon fill=\"#FFFFFF\" points=\"255,49,319,49,326,71.2969,443,71.2969,443,413,255,413,255,49\" style=\"stroke: #000000; stroke-width: 1.5;\"/><line style=\"stroke: #000000; stroke-width: 1.5;\" x1=\"255\" x2=\"326\" y1=\"71.2969\" y2=\"71.2969\"/><text fill=\"#000000\" font-family=\"sans-serif\" font-size=\"14\" font-weight=\"bold\" lengthAdjust=\"spacingAndGlyphs\" textLength=\"58\" x=\"259\" y=\"63.9951\">System</text></a><!--MD5=[60a26617385b1d2d0262a64233df1f8d]\n",
       "class E6--><a href=\"psysml:f9adf18b-8dbf-4490-b33d-e9e2045e17b2\" target=\"_top\" title=\"psysml:f9adf18b-8dbf-4490-b33d-e9e2045e17b2\" xlink:actuate=\"onRequest\" xlink:href=\"psysml:f9adf18b-8dbf-4490-b33d-e9e2045e17b2\" xlink:show=\"new\" xlink:title=\"psysml:f9adf18b-8dbf-4490-b33d-e9e2045e17b2\" xlink:type=\"simple\"><rect fill=\"#FFFFFF\" height=\"45.9375\" id=\"E6\" rx=\"10\" ry=\"10\" style=\"stroke: #383838; stroke-width: 1.5;\" width=\"71\" x=\"32.5\" y=\"217.5\"/><text fill=\"#000000\" font-family=\"sans-serif\" font-size=\"12\" font-style=\"italic\" lengthAdjust=\"spacingAndGlyphs\" textLength=\"69\" x=\"33.5\" y=\"233.6387\">«attribute»</text><text fill=\"#000000\" font-family=\"sans-serif\" font-size=\"12\" lengthAdjust=\"spacingAndGlyphs\" textLength=\"6\" x=\"65\" y=\"247.6074\">x</text><line style=\"stroke: #383838; stroke-width: 1.5;\" x1=\"33.5\" x2=\"102.5\" y1=\"255.4375\" y2=\"255.4375\"/></a><!--MD5=[2156ba9850f5573cc1fc38a6a4b2f02b]\n",
       "class E7--><a href=\"psysml:b3547f0d-a84a-43aa-aeb1-8f3416005562\" target=\"_top\" title=\"psysml:b3547f0d-a84a-43aa-aeb1-8f3416005562\" xlink:actuate=\"onRequest\" xlink:href=\"psysml:b3547f0d-a84a-43aa-aeb1-8f3416005562\" xlink:show=\"new\" xlink:title=\"psysml:b3547f0d-a84a-43aa-aeb1-8f3416005562\" xlink:type=\"simple\"><rect fill=\"#FFFFFF\" height=\"45.9375\" id=\"E7\" rx=\"10\" ry=\"10\" style=\"stroke: #383838; stroke-width: 1.5;\" width=\"71\" x=\"138.5\" y=\"217.5\"/><text fill=\"#000000\" font-family=\"sans-serif\" font-size=\"12\" font-style=\"italic\" lengthAdjust=\"spacingAndGlyphs\" textLength=\"69\" x=\"139.5\" y=\"233.6387\">«attribute»</text><text fill=\"#000000\" font-family=\"sans-serif\" font-size=\"12\" lengthAdjust=\"spacingAndGlyphs\" textLength=\"6\" x=\"171\" y=\"247.6074\">y</text><line style=\"stroke: #383838; stroke-width: 1.5;\" x1=\"139.5\" x2=\"208.5\" y1=\"255.4375\" y2=\"255.4375\"/></a><!--MD5=[b9389687b975829384b498ac4b7476b2]\n",
       "class E8--><a href=\"psysml:06d3944d-d8a9-41b6-a7dc-ea1875e321b3\" target=\"_top\" title=\"psysml:06d3944d-d8a9-41b6-a7dc-ea1875e321b3\" xlink:actuate=\"onRequest\" xlink:href=\"psysml:06d3944d-d8a9-41b6-a7dc-ea1875e321b3\" xlink:show=\"new\" xlink:title=\"psysml:06d3944d-d8a9-41b6-a7dc-ea1875e321b3\" xlink:type=\"simple\"><rect fill=\"#FFFFFF\" height=\"45.9375\" id=\"E8\" rx=\"10\" ry=\"10\" style=\"stroke: #383838; stroke-width: 1.5;\" width=\"71\" x=\"84.5\" y=\"87.5\"/><text fill=\"#000000\" font-family=\"sans-serif\" font-size=\"12\" font-style=\"italic\" lengthAdjust=\"spacingAndGlyphs\" textLength=\"69\" x=\"85.5\" y=\"103.6387\">«attribute»</text><text fill=\"#000000\" font-family=\"sans-serif\" font-size=\"12\" lengthAdjust=\"spacingAndGlyphs\" textLength=\"5\" x=\"117.5\" y=\"117.6074\">z</text><line style=\"stroke: #383838; stroke-width: 1.5;\" x1=\"85.5\" x2=\"154.5\" y1=\"125.4375\" y2=\"125.4375\"/></a><a href=\"psysml:cb2f8149-aa3e-4482-91f3-ed1f7789b4f6\" target=\"_top\" title=\"psysml:cb2f8149-aa3e-4482-91f3-ed1f7789b4f6\" xlink:actuate=\"onRequest\" xlink:href=\"psysml:cb2f8149-aa3e-4482-91f3-ed1f7789b4f6\" xlink:show=\"new\" xlink:title=\"psysml:cb2f8149-aa3e-4482-91f3-ed1f7789b4f6\" xlink:type=\"simple\"><polygon fill=\"#FFFFFF\" points=\"271,84,413,84,420,106.2969,427,106.2969,427,136.5938,271,136.5938,271,84\" style=\"stroke: #000000; stroke-width: 1.5;\"/><line style=\"stroke: #000000; stroke-width: 1.5;\" x1=\"271\" x2=\"420\" y1=\"106.2969\" y2=\"106.2969\"/><text fill=\"#000000\" font-family=\"sans-serif\" font-size=\"14\" font-weight=\"bold\" lengthAdjust=\"spacingAndGlyphs\" textLength=\"136\" x=\"275\" y=\"98.9951\">Application Layer</text></a><a href=\"psysml:c90fac5e-4b06-46df-8524-0f31fe17b625\" target=\"_top\" title=\"psysml:c90fac5e-4b06-46df-8524-0f31fe17b625\" xlink:actuate=\"onRequest\" xlink:href=\"psysml:c90fac5e-4b06-46df-8524-0f31fe17b625\" xlink:show=\"new\" xlink:title=\"psysml:c90fac5e-4b06-46df-8524-0f31fe17b625\" xlink:type=\"simple\"><polygon fill=\"#FFFFFF\" points=\"285,214,399,214,406,236.2969,413,236.2969,413,266.5938,285,266.5938,285,214\" style=\"stroke: #000000; stroke-width: 1.5;\"/><line style=\"stroke: #000000; stroke-width: 1.5;\" x1=\"285\" x2=\"406\" y1=\"236.2969\" y2=\"236.2969\"/><text fill=\"#000000\" font-family=\"sans-serif\" font-size=\"14\" font-weight=\"bold\" lengthAdjust=\"spacingAndGlyphs\" textLength=\"108\" x=\"289\" y=\"228.9951\">Service Layer</text></a><a href=\"psysml:5945f028-85af-4284-8707-6581cfe8107d\" target=\"_top\" title=\"psysml:5945f028-85af-4284-8707-6581cfe8107d\" xlink:actuate=\"onRequest\" xlink:href=\"psysml:5945f028-85af-4284-8707-6581cfe8107d\" xlink:show=\"new\" xlink:title=\"psysml:5945f028-85af-4284-8707-6581cfe8107d\" xlink:type=\"simple\"><polygon fill=\"#FFFFFF\" points=\"297,344,387,344,394,366.2969,401,366.2969,401,396.5938,297,396.5938,297,344\" style=\"stroke: #000000; stroke-width: 1.5;\"/><line style=\"stroke: #000000; stroke-width: 1.5;\" x1=\"297\" x2=\"394\" y1=\"366.2969\" y2=\"366.2969\"/><text fill=\"#000000\" font-family=\"sans-serif\" font-size=\"14\" font-weight=\"bold\" lengthAdjust=\"spacingAndGlyphs\" textLength=\"84\" x=\"301\" y=\"358.9951\">Data Layer</text></a><!--MD5=[af87c684e3b0d8be13c1a698a818ef1e]\n",
       "link E3 to E4--><a href=\"psysml:71e7e357-685b-41cb-afa1-92571af689f5\" target=\"_top\" title=\"psysml:71e7e357-685b-41cb-afa1-92571af689f5\" xlink:actuate=\"onRequest\" xlink:href=\"psysml:71e7e357-685b-41cb-afa1-92571af689f5\" xlink:show=\"new\" xlink:title=\"psysml:71e7e357-685b-41cb-afa1-92571af689f5\" xlink:type=\"simple\"><path d=\"M349,137.1 C349,156.8 349,184.22 349,205.73 \" fill=\"none\" id=\"E3-&gt;E4\" style=\"stroke: #383838; stroke-width: 1.0; stroke-dasharray: 7.0,7.0;\"/><polygon fill=\"#383838\" points=\"349,213.95,352,205.95,346,205.95,349,213.95\" style=\"stroke: #383838; stroke-width: 1.0;\"/><text fill=\"#000000\" font-family=\"sans-serif\" font-size=\"13\" lengthAdjust=\"spacingAndGlyphs\" textLength=\"64\" x=\"350\" y=\"180.0669\">«depend»</text></a><!--MD5=[1b7591eae5389033d8d09a9d6721a717]\n",
       "link E4 to E5--><a href=\"psysml:1107382a-37f6-4d52-8c17-003f9fc0676e\" target=\"_top\" title=\"psysml:1107382a-37f6-4d52-8c17-003f9fc0676e\" xlink:actuate=\"onRequest\" xlink:href=\"psysml:1107382a-37f6-4d52-8c17-003f9fc0676e\" xlink:show=\"new\" xlink:title=\"psysml:1107382a-37f6-4d52-8c17-003f9fc0676e\" xlink:type=\"simple\"><path d=\"M349,267.1 C349,286.8 349,314.22 349,335.73 \" fill=\"none\" id=\"E4-&gt;E5\" style=\"stroke: #383838; stroke-width: 1.0; stroke-dasharray: 7.0,7.0;\"/><polygon fill=\"#383838\" points=\"349,343.95,352,335.95,346,335.95,349,343.95\" style=\"stroke: #383838; stroke-width: 1.0;\"/><text fill=\"#000000\" font-family=\"sans-serif\" font-size=\"13\" lengthAdjust=\"spacingAndGlyphs\" textLength=\"64\" x=\"350\" y=\"310.0669\">«depend»</text></a><!--MD5=[c5e8897d989ce984f93528998a7150fe]\n",
       "link E8 to E6--><a href=\"psysml:a975d936-bb91-4b85-9c47-7632192c23c3\" target=\"_top\" title=\"psysml:a975d936-bb91-4b85-9c47-7632192c23c3\" xlink:actuate=\"onRequest\" xlink:href=\"psysml:a975d936-bb91-4b85-9c47-7632192c23c3\" xlink:show=\"new\" xlink:title=\"psysml:a975d936-bb91-4b85-9c47-7632192c23c3\" xlink:type=\"simple\"><path d=\"M89.42,133.6 C79.35,142.68 69.37,154.11 64,167 C58.5,180.2 58.66,195.94 60.54,209.38 \" fill=\"none\" id=\"E8-&gt;E6\" style=\"stroke: #383838; stroke-width: 1.0; stroke-dasharray: 7.0,7.0;\"/><polygon fill=\"#383838\" points=\"61.9,217.4,63.517,209.0104,57.6018,210.0159,61.9,217.4\" style=\"stroke: #383838; stroke-width: 1.0;\"/><text fill=\"#000000\" font-family=\"sans-serif\" font-size=\"13\" lengthAdjust=\"spacingAndGlyphs\" textLength=\"64\" x=\"65\" y=\"180.0669\">«depend»</text></a><!--MD5=[bfa3c8b0d15052fdf50ae9310b491027]\n",
       "link E8 to E7--><a href=\"psysml:a975d936-bb91-4b85-9c47-7632192c23c3\" target=\"_top\" title=\"psysml:a975d936-bb91-4b85-9c47-7632192c23c3\" xlink:actuate=\"onRequest\" xlink:href=\"psysml:a975d936-bb91-4b85-9c47-7632192c23c3\" xlink:show=\"new\" xlink:title=\"psysml:a975d936-bb91-4b85-9c47-7632192c23c3\" xlink:type=\"simple\"><path d=\"M129.28,133.5 C138.17,154.57 151.64,186.5 161.47,209.81 \" fill=\"none\" id=\"E8-&gt;E7\" style=\"stroke: #383838; stroke-width: 1.0; stroke-dasharray: 7.0,7.0;\"/><polygon fill=\"#383838\" points=\"164.66,217.35,164.3241,208.8126,158.7933,211.1385,164.66,217.35\" style=\"stroke: #383838; stroke-width: 1.0;\"/><text fill=\"#000000\" font-family=\"sans-serif\" font-size=\"13\" lengthAdjust=\"spacingAndGlyphs\" textLength=\"64\" x=\"151\" y=\"180.0669\">«depend»</text></a><!--MD5=[2ab7e1154488afb24dbdd2f6c54bc815]\n",
       "@startuml\r\n",
       " skinparam monochrome true\r\n",
       "skinparam classbackgroundcolor white\r\n",
       "skinparam shadowing false\r\n",
       "skinparam wrapWidth 300\r\n",
       "hide circle\r\n",
       "\r\n",
       "package \"DependencyTest\" as E1  [[psysml:430f5b70-8499-4207-b78a-0a401723d15c ]]  {\r\n",
       "package \"System\" as E2  [[psysml:ef80acf8-3bbf-43fc-abea-40efc458e2ed ]]  {\r\n",
       "package \"Application Layer\" as E3  [[psysml:cb2f8149-aa3e-4482-91f3-ed1f7789b4f6 ]]  {\r\n",
       "}\r\n",
       "package \"Service Layer\" as E4  [[psysml:c90fac5e-4b06-46df-8524-0f31fe17b625 ]]  {\r\n",
       "}\r\n",
       "package \"Data Layer\" as E5  [[psysml:5945f028-85af-4284-8707-6581cfe8107d ]]  {\r\n",
       "}\r\n",
       "}\r\n",
       "comp usage \"x\" as E6  <<(T,blue)attribute>> [[psysml:f9adf18b-8dbf-4490-b33d-e9e2045e17b2 ]] {\r\n",
       "}\r\n",
       "comp usage \"y\" as E7  <<(T,blue)attribute>> [[psysml:b3547f0d-a84a-43aa-aeb1-8f3416005562 ]] {\r\n",
       "}\r\n",
       "comp usage \"z\" as E8  <<(T,blue)attribute>> [[psysml:06d3944d-d8a9-41b6-a7dc-ea1875e321b3 ]] {\r\n",
       "}\r\n",
       "E3 ..>> E4 [[psysml:71e7e357-685b-41cb-afa1-92571af689f5 ]] : <<depend>>\r\n",
       "E4 ..>> E5 [[psysml:1107382a-37f6-4d52-8c17-003f9fc0676e ]] : <<depend>>\r\n",
       "E8 ..>> E6 [[psysml:a975d936-bb91-4b85-9c47-7632192c23c3 ]] : <<depend>>\r\n",
       "E8 ..>> E7 [[psysml:a975d936-bb91-4b85-9c47-7632192c23c3 ]] : <<depend>>\r\n",
       "}\r\n",
       "@enduml\r\n",
       "\n",
       "PlantUML version 1.2020.13(Sat Jun 13 12:26:38 UTC 2020)\n",
       "(EPL source distribution)\n",
       "Java Runtime: OpenJDK Runtime Environment\n",
       "JVM: OpenJDK 64-Bit Server VM\n",
       "Default Encoding: UTF-8\n",
       "Language: en\n",
       "Country: null\n",
       "--></g></svg>"
      ]
     },
     "execution_count": 3,
     "metadata": {},
     "output_type": "execute_result"
    }
   ],
   "source": [
    "%viz --style=\"COMPTREE\" --view=\"Tree\" \"DependencyTest\""
   ]
  },
  {
   "cell_type": "code",
   "execution_count": 4,
   "id": "younger-composer",
   "metadata": {
    "execution": {
     "iopub.execute_input": "2021-03-25T13:51:40.696898Z",
     "iopub.status.busy": "2021-03-25T13:51:40.696492Z",
     "iopub.status.idle": "2021-03-25T13:51:40.707373Z",
     "shell.execute_reply": "2021-03-25T13:51:40.707785Z"
    }
   },
   "outputs": [
    {
     "data": {
      "image/svg+xml": [
       "<?xml version=\"1.0\" encoding=\"UTF-8\" standalone=\"no\"?><svg xmlns=\"http://www.w3.org/2000/svg\" xmlns:xlink=\"http://www.w3.org/1999/xlink\" contentScriptType=\"application/ecmascript\" contentStyleType=\"text/css\" height=\"12px\" preserveAspectRatio=\"none\" style=\"width:12px;height:12px;\" version=\"1.1\" viewBox=\"0 0 12 12\" width=\"12px\" zoomAndPan=\"magnify\"><defs/><g><!--MD5=[f19188ef49e11757b5c46753f95d9edc]\n",
       "@startuml\r\n",
       " skinparam monochrome true\r\n",
       "skinparam classbackgroundcolor white\r\n",
       "skinparam shadowing false\r\n",
       "skinparam wrapWidth 300\r\n",
       "hide circle\r\n",
       "\r\n",
       "@enduml\r\n",
       "\n",
       "PlantUML version 1.2020.13(Sat Jun 13 12:26:38 UTC 2020)\n",
       "(EPL source distribution)\n",
       "Java Runtime: OpenJDK Runtime Environment\n",
       "JVM: OpenJDK 64-Bit Server VM\n",
       "Default Encoding: UTF-8\n",
       "Language: en\n",
       "Country: null\n",
       "--></g></svg>"
      ]
     },
     "execution_count": 4,
     "metadata": {},
     "output_type": "execute_result"
    }
   ],
   "source": [
    "%viz --style=\"COMPTREE\" --view=\"State\" \"DependencyTest\""
   ]
  },
  {
   "cell_type": "code",
   "execution_count": 5,
   "id": "deluxe-stage",
   "metadata": {
    "execution": {
     "iopub.execute_input": "2021-03-25T13:51:40.759851Z",
     "iopub.status.busy": "2021-03-25T13:51:40.758896Z",
     "iopub.status.idle": "2021-03-25T13:51:40.908363Z",
     "shell.execute_reply": "2021-03-25T13:51:40.909010Z"
    }
   },
   "outputs": [
    {
     "data": {
      "image/svg+xml": [
       "<?xml version=\"1.0\" encoding=\"UTF-8\" standalone=\"no\"?><svg xmlns=\"http://www.w3.org/2000/svg\" xmlns:xlink=\"http://www.w3.org/1999/xlink\" contentScriptType=\"application/ecmascript\" contentStyleType=\"text/css\" height=\"361px\" preserveAspectRatio=\"none\" style=\"width:489px;height:361px;\" version=\"1.1\" viewBox=\"0 0 489 361\" width=\"489px\" zoomAndPan=\"magnify\"><defs/><g><!--MD5=[fbc87193dbaf4d95561dea2c320d4a47]\n",
       "cluster E1--><a href=\"psysml:430f5b70-8499-4207-b78a-0a401723d15c\" target=\"_top\" title=\"psysml:430f5b70-8499-4207-b78a-0a401723d15c\" xlink:actuate=\"onRequest\" xlink:href=\"psysml:430f5b70-8499-4207-b78a-0a401723d15c\" xlink:show=\"new\" xlink:title=\"psysml:430f5b70-8499-4207-b78a-0a401723d15c\" xlink:type=\"simple\"><polygon fill=\"#FFFFFF\" points=\"16,6,156,6,163,28.2969,467,28.2969,467,349,16,349,16,6\" style=\"stroke: #000000; stroke-width: 1.5;\"/><line style=\"stroke: #000000; stroke-width: 1.5;\" x1=\"16\" x2=\"163\" y1=\"28.2969\" y2=\"28.2969\"/><text fill=\"#000000\" font-family=\"sans-serif\" font-size=\"14\" font-weight=\"bold\" lengthAdjust=\"spacingAndGlyphs\" textLength=\"134\" x=\"20\" y=\"20.9951\">DependencyTest</text></a><!--MD5=[e4f7fae6ed58524ba242bb0b0d3be6b7]\n",
       "cluster E2--><a href=\"psysml:ef80acf8-3bbf-43fc-abea-40efc458e2ed\" target=\"_top\" title=\"psysml:ef80acf8-3bbf-43fc-abea-40efc458e2ed\" xlink:actuate=\"onRequest\" xlink:href=\"psysml:ef80acf8-3bbf-43fc-abea-40efc458e2ed\" xlink:show=\"new\" xlink:title=\"psysml:ef80acf8-3bbf-43fc-abea-40efc458e2ed\" xlink:type=\"simple\"><polygon fill=\"#FFFFFF\" points=\"255,49,319,49,326,71.2969,443,71.2969,443,325,255,325,255,49\" style=\"stroke: #000000; stroke-width: 1.5;\"/><line style=\"stroke: #000000; stroke-width: 1.5;\" x1=\"255\" x2=\"326\" y1=\"71.2969\" y2=\"71.2969\"/><text fill=\"#000000\" font-family=\"sans-serif\" font-size=\"14\" font-weight=\"bold\" lengthAdjust=\"spacingAndGlyphs\" textLength=\"58\" x=\"259\" y=\"63.9951\">System</text></a><a href=\"psysml:cb2f8149-aa3e-4482-91f3-ed1f7789b4f6\" target=\"_top\" title=\"psysml:cb2f8149-aa3e-4482-91f3-ed1f7789b4f6\" xlink:actuate=\"onRequest\" xlink:href=\"psysml:cb2f8149-aa3e-4482-91f3-ed1f7789b4f6\" xlink:show=\"new\" xlink:title=\"psysml:cb2f8149-aa3e-4482-91f3-ed1f7789b4f6\" xlink:type=\"simple\"><polygon fill=\"#FFFFFF\" points=\"271,84,413,84,420,106.2969,427,106.2969,427,136.5938,271,136.5938,271,84\" style=\"stroke: #000000; stroke-width: 1.5;\"/><line style=\"stroke: #000000; stroke-width: 1.5;\" x1=\"271\" x2=\"420\" y1=\"106.2969\" y2=\"106.2969\"/><text fill=\"#000000\" font-family=\"sans-serif\" font-size=\"14\" font-weight=\"bold\" lengthAdjust=\"spacingAndGlyphs\" textLength=\"136\" x=\"275\" y=\"98.9951\">Application Layer</text></a><a href=\"psysml:c90fac5e-4b06-46df-8524-0f31fe17b625\" target=\"_top\" title=\"psysml:c90fac5e-4b06-46df-8524-0f31fe17b625\" xlink:actuate=\"onRequest\" xlink:href=\"psysml:c90fac5e-4b06-46df-8524-0f31fe17b625\" xlink:show=\"new\" xlink:title=\"psysml:c90fac5e-4b06-46df-8524-0f31fe17b625\" xlink:type=\"simple\"><polygon fill=\"#FFFFFF\" points=\"285,170,399,170,406,192.2969,413,192.2969,413,222.5938,285,222.5938,285,170\" style=\"stroke: #000000; stroke-width: 1.5;\"/><line style=\"stroke: #000000; stroke-width: 1.5;\" x1=\"285\" x2=\"406\" y1=\"192.2969\" y2=\"192.2969\"/><text fill=\"#000000\" font-family=\"sans-serif\" font-size=\"14\" font-weight=\"bold\" lengthAdjust=\"spacingAndGlyphs\" textLength=\"108\" x=\"289\" y=\"184.9951\">Service Layer</text></a><a href=\"psysml:5945f028-85af-4284-8707-6581cfe8107d\" target=\"_top\" title=\"psysml:5945f028-85af-4284-8707-6581cfe8107d\" xlink:actuate=\"onRequest\" xlink:href=\"psysml:5945f028-85af-4284-8707-6581cfe8107d\" xlink:show=\"new\" xlink:title=\"psysml:5945f028-85af-4284-8707-6581cfe8107d\" xlink:type=\"simple\"><polygon fill=\"#FFFFFF\" points=\"297,256,387,256,394,278.2969,401,278.2969,401,308.5938,297,308.5938,297,256\" style=\"stroke: #000000; stroke-width: 1.5;\"/><line style=\"stroke: #000000; stroke-width: 1.5;\" x1=\"297\" x2=\"394\" y1=\"278.2969\" y2=\"278.2969\"/><text fill=\"#000000\" font-family=\"sans-serif\" font-size=\"14\" font-weight=\"bold\" lengthAdjust=\"spacingAndGlyphs\" textLength=\"84\" x=\"301\" y=\"270.9951\">Data Layer</text></a><g id=\"E1.E6\"><a href=\"psysml:f9adf18b-8dbf-4490-b33d-e9e2045e17b2\" target=\"_top\" title=\"psysml:f9adf18b-8dbf-4490-b33d-e9e2045e17b2\" xlink:actuate=\"onRequest\" xlink:href=\"psysml:f9adf18b-8dbf-4490-b33d-e9e2045e17b2\" xlink:show=\"new\" xlink:title=\"psysml:f9adf18b-8dbf-4490-b33d-e9e2045e17b2\" xlink:type=\"simple\"><rect fill=\"#FFFFFF\" height=\"42.9375\" id=\"E6\" rx=\"10\" ry=\"10\" style=\"stroke: #383838; stroke-width: 1.5;\" width=\"76\" x=\"32\" y=\"175\"/><rect fill=\"#F8F8F8\" height=\"37.9375\" rx=\"10\" ry=\"10\" style=\"stroke: #F8F8F8; stroke-width: 1.5;\" width=\"76\" x=\"32\" y=\"175\"/><rect fill=\"#F8F8F8\" height=\"10\" style=\"stroke: #F8F8F8; stroke-width: 1.5;\" width=\"76\" x=\"32\" y=\"202.9375\"/><rect fill=\"none\" height=\"42.9375\" id=\"E6\" rx=\"10\" ry=\"10\" style=\"stroke: #383838; stroke-width: 1.5;\" width=\"76\" x=\"32\" y=\"175\"/><text fill=\"#000000\" font-family=\"sans-serif\" font-size=\"12\" font-style=\"italic\" lengthAdjust=\"spacingAndGlyphs\" textLength=\"69\" x=\"35.5\" y=\"191.1387\">«attribute»</text><text fill=\"#000000\" font-family=\"sans-serif\" font-size=\"12\" lengthAdjust=\"spacingAndGlyphs\" textLength=\"6\" x=\"67\" y=\"205.1074\">x</text></a></g><g id=\"E1.E7\"><a href=\"psysml:b3547f0d-a84a-43aa-aeb1-8f3416005562\" target=\"_top\" title=\"psysml:b3547f0d-a84a-43aa-aeb1-8f3416005562\" xlink:actuate=\"onRequest\" xlink:href=\"psysml:b3547f0d-a84a-43aa-aeb1-8f3416005562\" xlink:show=\"new\" xlink:title=\"psysml:b3547f0d-a84a-43aa-aeb1-8f3416005562\" xlink:type=\"simple\"><rect fill=\"#FFFFFF\" height=\"42.9375\" id=\"E7\" rx=\"10\" ry=\"10\" style=\"stroke: #383838; stroke-width: 1.5;\" width=\"76\" x=\"143\" y=\"175\"/><rect fill=\"#F8F8F8\" height=\"37.9375\" rx=\"10\" ry=\"10\" style=\"stroke: #F8F8F8; stroke-width: 1.5;\" width=\"76\" x=\"143\" y=\"175\"/><rect fill=\"#F8F8F8\" height=\"10\" style=\"stroke: #F8F8F8; stroke-width: 1.5;\" width=\"76\" x=\"143\" y=\"202.9375\"/><rect fill=\"none\" height=\"42.9375\" id=\"E7\" rx=\"10\" ry=\"10\" style=\"stroke: #383838; stroke-width: 1.5;\" width=\"76\" x=\"143\" y=\"175\"/><text fill=\"#000000\" font-family=\"sans-serif\" font-size=\"12\" font-style=\"italic\" lengthAdjust=\"spacingAndGlyphs\" textLength=\"69\" x=\"146.5\" y=\"191.1387\">«attribute»</text><text fill=\"#000000\" font-family=\"sans-serif\" font-size=\"12\" lengthAdjust=\"spacingAndGlyphs\" textLength=\"6\" x=\"178\" y=\"205.1074\">y</text></a></g><g id=\"E1.E8\"><a href=\"psysml:06d3944d-d8a9-41b6-a7dc-ea1875e321b3\" target=\"_top\" title=\"psysml:06d3944d-d8a9-41b6-a7dc-ea1875e321b3\" xlink:actuate=\"onRequest\" xlink:href=\"psysml:06d3944d-d8a9-41b6-a7dc-ea1875e321b3\" xlink:show=\"new\" xlink:title=\"psysml:06d3944d-d8a9-41b6-a7dc-ea1875e321b3\" xlink:type=\"simple\"><rect fill=\"#FFFFFF\" height=\"42.9375\" id=\"E8\" rx=\"10\" ry=\"10\" style=\"stroke: #383838; stroke-width: 1.5;\" width=\"76\" x=\"83\" y=\"89\"/><rect fill=\"#F8F8F8\" height=\"37.9375\" rx=\"10\" ry=\"10\" style=\"stroke: #F8F8F8; stroke-width: 1.5;\" width=\"76\" x=\"83\" y=\"89\"/><rect fill=\"#F8F8F8\" height=\"10\" style=\"stroke: #F8F8F8; stroke-width: 1.5;\" width=\"76\" x=\"83\" y=\"116.9375\"/><rect fill=\"none\" height=\"42.9375\" id=\"E8\" rx=\"10\" ry=\"10\" style=\"stroke: #383838; stroke-width: 1.5;\" width=\"76\" x=\"83\" y=\"89\"/><text fill=\"#000000\" font-family=\"sans-serif\" font-size=\"12\" font-style=\"italic\" lengthAdjust=\"spacingAndGlyphs\" textLength=\"69\" x=\"86.5\" y=\"105.1387\">«attribute»</text><text fill=\"#000000\" font-family=\"sans-serif\" font-size=\"12\" lengthAdjust=\"spacingAndGlyphs\" textLength=\"5\" x=\"118.5\" y=\"119.1074\">z</text></a></g><!--MD5=[af87c684e3b0d8be13c1a698a818ef1e]\n",
       "link E3 to E4--><a href=\"psysml:71e7e357-685b-41cb-afa1-92571af689f5\" target=\"_top\" title=\"psysml:71e7e357-685b-41cb-afa1-92571af689f5\" xlink:actuate=\"onRequest\" xlink:href=\"psysml:71e7e357-685b-41cb-afa1-92571af689f5\" xlink:show=\"new\" xlink:title=\"psysml:71e7e357-685b-41cb-afa1-92571af689f5\" xlink:type=\"simple\"><path d=\"M349,137.16 C349,144.98 349,153.69 349,161.94 \" fill=\"none\" id=\"E3-&gt;E4\" style=\"stroke: #383838; stroke-width: 1.0; stroke-dasharray: 7.0,7.0;\"/><polygon fill=\"#383838\" points=\"349,170,352,162,346,162,349,170\" style=\"stroke: #383838; stroke-width: 1.0;\"/><text fill=\"#000000\" font-family=\"sans-serif\" font-size=\"13\" lengthAdjust=\"spacingAndGlyphs\" textLength=\"64\" x=\"350\" y=\"158.0669\">«depend»</text></a><!--MD5=[1b7591eae5389033d8d09a9d6721a717]\n",
       "link E4 to E5--><a href=\"psysml:1107382a-37f6-4d52-8c17-003f9fc0676e\" target=\"_top\" title=\"psysml:1107382a-37f6-4d52-8c17-003f9fc0676e\" xlink:actuate=\"onRequest\" xlink:href=\"psysml:1107382a-37f6-4d52-8c17-003f9fc0676e\" xlink:show=\"new\" xlink:title=\"psysml:1107382a-37f6-4d52-8c17-003f9fc0676e\" xlink:type=\"simple\"><path d=\"M349,223.16 C349,230.98 349,239.69 349,247.94 \" fill=\"none\" id=\"E4-&gt;E5\" style=\"stroke: #383838; stroke-width: 1.0; stroke-dasharray: 7.0,7.0;\"/><polygon fill=\"#383838\" points=\"349,256,352,248,346,248,349,256\" style=\"stroke: #383838; stroke-width: 1.0;\"/><text fill=\"#000000\" font-family=\"sans-serif\" font-size=\"13\" lengthAdjust=\"spacingAndGlyphs\" textLength=\"64\" x=\"350\" y=\"244.0669\">«depend»</text></a><!--MD5=[c5e8897d989ce984f93528998a7150fe]\n",
       "link E8 to E6--><a href=\"psysml:a975d936-bb91-4b85-9c47-7632192c23c3\" target=\"_top\" title=\"psysml:a975d936-bb91-4b85-9c47-7632192c23c3\" xlink:actuate=\"onRequest\" xlink:href=\"psysml:a975d936-bb91-4b85-9c47-7632192c23c3\" xlink:show=\"new\" xlink:title=\"psysml:a975d936-bb91-4b85-9c47-7632192c23c3\" xlink:type=\"simple\"><path d=\"M82.81,126.48 C75.3,131.24 68.39,137.33 64,145 C60.26,151.53 59.68,159.3 60.56,166.77 \" fill=\"none\" id=\"E8-&gt;E6\" style=\"stroke: #383838; stroke-width: 1.0; stroke-dasharray: 7.0,7.0;\"/><polygon fill=\"#383838\" points=\"62.02,174.69,63.5257,166.2797,57.6244,167.3634,62.02,174.69\" style=\"stroke: #383838; stroke-width: 1.0;\"/><text fill=\"#000000\" font-family=\"sans-serif\" font-size=\"13\" lengthAdjust=\"spacingAndGlyphs\" textLength=\"64\" x=\"65\" y=\"158.0669\">«depend»</text></a><!--MD5=[bfa3c8b0d15052fdf50ae9310b491027]\n",
       "link E8 to E7--><a href=\"psysml:a975d936-bb91-4b85-9c47-7632192c23c3\" target=\"_top\" title=\"psysml:a975d936-bb91-4b85-9c47-7632192c23c3\" xlink:actuate=\"onRequest\" xlink:href=\"psysml:a975d936-bb91-4b85-9c47-7632192c23c3\" xlink:show=\"new\" xlink:title=\"psysml:a975d936-bb91-4b85-9c47-7632192c23c3\" xlink:type=\"simple\"><path d=\"M135.83,132.26 C143.61,143.15 153.22,156.61 161.59,168.32 \" fill=\"none\" id=\"E8-&gt;E7\" style=\"stroke: #383838; stroke-width: 1.0; stroke-dasharray: 7.0,7.0;\"/><polygon fill=\"#383838\" points=\"166.34,174.97,164.1399,166.7141,159.2538,170.1965,166.34,174.97\" style=\"stroke: #383838; stroke-width: 1.0;\"/><text fill=\"#000000\" font-family=\"sans-serif\" font-size=\"13\" lengthAdjust=\"spacingAndGlyphs\" textLength=\"64\" x=\"157\" y=\"158.0669\">«depend»</text></a><!--MD5=[f9cf3b1604a39bcf15406b65e9f7858b]\n",
       "@startuml\r\n",
       "skinparam ranksep 8\r\n",
       "skinparam rectangle {\r\n",
       " backgroundColor<<block>> LightGreen\r\n",
       "}\r\n",
       " skinparam monochrome true\r\n",
       "skinparam classbackgroundcolor white\r\n",
       "skinparam shadowing false\r\n",
       "skinparam wrapWidth 300\r\n",
       "hide circle\r\n",
       "\r\n",
       "package \"DependencyTest\" as E1  [[psysml:430f5b70-8499-4207-b78a-0a401723d15c ]]  {\r\n",
       "package \"System\" as E2  [[psysml:ef80acf8-3bbf-43fc-abea-40efc458e2ed ]]  {\r\n",
       "package \"Application Layer\" as E3  [[psysml:cb2f8149-aa3e-4482-91f3-ed1f7789b4f6 ]]  {\r\n",
       "}\r\n",
       "package \"Service Layer\" as E4  [[psysml:c90fac5e-4b06-46df-8524-0f31fe17b625 ]]  {\r\n",
       "}\r\n",
       "package \"Data Layer\" as E5  [[psysml:5945f028-85af-4284-8707-6581cfe8107d ]]  {\r\n",
       "}\r\n",
       "}\r\n",
       "rec usage \"x\" as E6  <<(T,blue)attribute>> [[psysml:f9adf18b-8dbf-4490-b33d-e9e2045e17b2 ]] {\r\n",
       "}\r\n",
       "rec usage \"y\" as E7  <<(T,blue)attribute>> [[psysml:b3547f0d-a84a-43aa-aeb1-8f3416005562 ]] {\r\n",
       "}\r\n",
       "rec usage \"z\" as E8  <<(T,blue)attribute>> [[psysml:06d3944d-d8a9-41b6-a7dc-ea1875e321b3 ]] {\r\n",
       "}\r\n",
       "E3 ..>> E4 [[psysml:71e7e357-685b-41cb-afa1-92571af689f5 ]] : <<depend>>\r\n",
       "E4 ..>> E5 [[psysml:1107382a-37f6-4d52-8c17-003f9fc0676e ]] : <<depend>>\r\n",
       "E8 ..>> E6 [[psysml:a975d936-bb91-4b85-9c47-7632192c23c3 ]] : <<depend>>\r\n",
       "E8 ..>> E7 [[psysml:a975d936-bb91-4b85-9c47-7632192c23c3 ]] : <<depend>>\r\n",
       "}\r\n",
       "@enduml\r\n",
       "\n",
       "PlantUML version 1.2020.13(Sat Jun 13 12:26:38 UTC 2020)\n",
       "(EPL source distribution)\n",
       "Java Runtime: OpenJDK Runtime Environment\n",
       "JVM: OpenJDK 64-Bit Server VM\n",
       "Default Encoding: UTF-8\n",
       "Language: en\n",
       "Country: null\n",
       "--></g></svg>"
      ]
     },
     "execution_count": 5,
     "metadata": {},
     "output_type": "execute_result"
    }
   ],
   "source": [
    "%viz --style=\"COMPTREE\" --view=\"Interconnection\" \"DependencyTest\""
   ]
  },
  {
   "cell_type": "code",
   "execution_count": 6,
   "id": "married-reception",
   "metadata": {
    "execution": {
     "iopub.execute_input": "2021-03-25T13:51:40.959943Z",
     "iopub.status.busy": "2021-03-25T13:51:40.958841Z",
     "iopub.status.idle": "2021-03-25T13:51:40.972592Z",
     "shell.execute_reply": "2021-03-25T13:51:40.972988Z"
    }
   },
   "outputs": [
    {
     "data": {
      "image/svg+xml": [
       "<?xml version=\"1.0\" encoding=\"UTF-8\" standalone=\"no\"?><svg xmlns=\"http://www.w3.org/2000/svg\" xmlns:xlink=\"http://www.w3.org/1999/xlink\" contentScriptType=\"application/ecmascript\" contentStyleType=\"text/css\" height=\"12px\" preserveAspectRatio=\"none\" style=\"width:12px;height:12px;\" version=\"1.1\" viewBox=\"0 0 12 12\" width=\"12px\" zoomAndPan=\"magnify\"><defs/><g><!--MD5=[655b888544ca4751ea36af1068543f84]\n",
       "@startuml\r\n",
       "skinparam ranksep 8\r\n",
       " skinparam monochrome true\r\n",
       "skinparam classbackgroundcolor white\r\n",
       "skinparam shadowing false\r\n",
       "skinparam wrapWidth 300\r\n",
       "hide circle\r\n",
       "\r\n",
       "@enduml\r\n",
       "\n",
       "PlantUML version 1.2020.13(Sat Jun 13 12:26:38 UTC 2020)\n",
       "(EPL source distribution)\n",
       "Java Runtime: OpenJDK Runtime Environment\n",
       "JVM: OpenJDK 64-Bit Server VM\n",
       "Default Encoding: UTF-8\n",
       "Language: en\n",
       "Country: null\n",
       "--></g></svg>"
      ]
     },
     "execution_count": 6,
     "metadata": {},
     "output_type": "execute_result"
    }
   ],
   "source": [
    "%viz --style=\"COMPTREE\" --view=\"Action\" \"DependencyTest\""
   ]
  },
  {
   "cell_type": "code",
   "execution_count": 7,
   "id": "unnecessary-material",
   "metadata": {
    "execution": {
     "iopub.execute_input": "2021-03-25T13:51:41.024562Z",
     "iopub.status.busy": "2021-03-25T13:51:41.023875Z",
     "iopub.status.idle": "2021-03-25T13:51:41.154429Z",
     "shell.execute_reply": "2021-03-25T13:51:41.154844Z"
    }
   },
   "outputs": [
    {
     "data": {
      "image/svg+xml": [
       "<?xml version=\"1.0\" encoding=\"UTF-8\" standalone=\"no\"?><svg xmlns=\"http://www.w3.org/2000/svg\" xmlns:xlink=\"http://www.w3.org/1999/xlink\" contentScriptType=\"application/ecmascript\" contentStyleType=\"text/css\" height=\"449px\" preserveAspectRatio=\"none\" style=\"width:489px;height:449px;\" version=\"1.1\" viewBox=\"0 0 489 449\" width=\"489px\" zoomAndPan=\"magnify\"><defs/><g><!--MD5=[fbc87193dbaf4d95561dea2c320d4a47]\n",
       "cluster E1--><a href=\"psysml:430f5b70-8499-4207-b78a-0a401723d15c\" target=\"_top\" title=\"psysml:430f5b70-8499-4207-b78a-0a401723d15c\" xlink:actuate=\"onRequest\" xlink:href=\"psysml:430f5b70-8499-4207-b78a-0a401723d15c\" xlink:show=\"new\" xlink:title=\"psysml:430f5b70-8499-4207-b78a-0a401723d15c\" xlink:type=\"simple\"><polygon fill=\"#FFFFFF\" points=\"16,6,156,6,163,28.2969,467,28.2969,467,437,16,437,16,6\" style=\"stroke: #000000; stroke-width: 1.5;\"/><line style=\"stroke: #000000; stroke-width: 1.5;\" x1=\"16\" x2=\"163\" y1=\"28.2969\" y2=\"28.2969\"/><text fill=\"#000000\" font-family=\"sans-serif\" font-size=\"14\" font-weight=\"bold\" lengthAdjust=\"spacingAndGlyphs\" textLength=\"134\" x=\"20\" y=\"20.9951\">DependencyTest</text></a><!--MD5=[e4f7fae6ed58524ba242bb0b0d3be6b7]\n",
       "cluster E2--><a href=\"psysml:ef80acf8-3bbf-43fc-abea-40efc458e2ed\" target=\"_top\" title=\"psysml:ef80acf8-3bbf-43fc-abea-40efc458e2ed\" xlink:actuate=\"onRequest\" xlink:href=\"psysml:ef80acf8-3bbf-43fc-abea-40efc458e2ed\" xlink:show=\"new\" xlink:title=\"psysml:ef80acf8-3bbf-43fc-abea-40efc458e2ed\" xlink:type=\"simple\"><polygon fill=\"#FFFFFF\" points=\"255,49,319,49,326,71.2969,443,71.2969,443,413,255,413,255,49\" style=\"stroke: #000000; stroke-width: 1.5;\"/><line style=\"stroke: #000000; stroke-width: 1.5;\" x1=\"255\" x2=\"326\" y1=\"71.2969\" y2=\"71.2969\"/><text fill=\"#000000\" font-family=\"sans-serif\" font-size=\"14\" font-weight=\"bold\" lengthAdjust=\"spacingAndGlyphs\" textLength=\"58\" x=\"259\" y=\"63.9951\">System</text></a><!--MD5=[60a26617385b1d2d0262a64233df1f8d]\n",
       "class E6--><a href=\"psysml:f9adf18b-8dbf-4490-b33d-e9e2045e17b2\" target=\"_top\" title=\"psysml:f9adf18b-8dbf-4490-b33d-e9e2045e17b2\" xlink:actuate=\"onRequest\" xlink:href=\"psysml:f9adf18b-8dbf-4490-b33d-e9e2045e17b2\" xlink:show=\"new\" xlink:title=\"psysml:f9adf18b-8dbf-4490-b33d-e9e2045e17b2\" xlink:type=\"simple\"><rect fill=\"#FFFFFF\" height=\"45.9375\" id=\"E6\" rx=\"10\" ry=\"10\" style=\"stroke: #383838; stroke-width: 1.5;\" width=\"71\" x=\"32.5\" y=\"217.5\"/><text fill=\"#000000\" font-family=\"sans-serif\" font-size=\"12\" font-style=\"italic\" lengthAdjust=\"spacingAndGlyphs\" textLength=\"69\" x=\"33.5\" y=\"233.6387\">«attribute»</text><text fill=\"#000000\" font-family=\"sans-serif\" font-size=\"12\" lengthAdjust=\"spacingAndGlyphs\" textLength=\"6\" x=\"65\" y=\"247.6074\">x</text><line style=\"stroke: #383838; stroke-width: 1.5;\" x1=\"33.5\" x2=\"102.5\" y1=\"255.4375\" y2=\"255.4375\"/></a><!--MD5=[2156ba9850f5573cc1fc38a6a4b2f02b]\n",
       "class E7--><a href=\"psysml:b3547f0d-a84a-43aa-aeb1-8f3416005562\" target=\"_top\" title=\"psysml:b3547f0d-a84a-43aa-aeb1-8f3416005562\" xlink:actuate=\"onRequest\" xlink:href=\"psysml:b3547f0d-a84a-43aa-aeb1-8f3416005562\" xlink:show=\"new\" xlink:title=\"psysml:b3547f0d-a84a-43aa-aeb1-8f3416005562\" xlink:type=\"simple\"><rect fill=\"#FFFFFF\" height=\"45.9375\" id=\"E7\" rx=\"10\" ry=\"10\" style=\"stroke: #383838; stroke-width: 1.5;\" width=\"71\" x=\"138.5\" y=\"217.5\"/><text fill=\"#000000\" font-family=\"sans-serif\" font-size=\"12\" font-style=\"italic\" lengthAdjust=\"spacingAndGlyphs\" textLength=\"69\" x=\"139.5\" y=\"233.6387\">«attribute»</text><text fill=\"#000000\" font-family=\"sans-serif\" font-size=\"12\" lengthAdjust=\"spacingAndGlyphs\" textLength=\"6\" x=\"171\" y=\"247.6074\">y</text><line style=\"stroke: #383838; stroke-width: 1.5;\" x1=\"139.5\" x2=\"208.5\" y1=\"255.4375\" y2=\"255.4375\"/></a><!--MD5=[b9389687b975829384b498ac4b7476b2]\n",
       "class E8--><a href=\"psysml:06d3944d-d8a9-41b6-a7dc-ea1875e321b3\" target=\"_top\" title=\"psysml:06d3944d-d8a9-41b6-a7dc-ea1875e321b3\" xlink:actuate=\"onRequest\" xlink:href=\"psysml:06d3944d-d8a9-41b6-a7dc-ea1875e321b3\" xlink:show=\"new\" xlink:title=\"psysml:06d3944d-d8a9-41b6-a7dc-ea1875e321b3\" xlink:type=\"simple\"><rect fill=\"#FFFFFF\" height=\"45.9375\" id=\"E8\" rx=\"10\" ry=\"10\" style=\"stroke: #383838; stroke-width: 1.5;\" width=\"71\" x=\"84.5\" y=\"87.5\"/><text fill=\"#000000\" font-family=\"sans-serif\" font-size=\"12\" font-style=\"italic\" lengthAdjust=\"spacingAndGlyphs\" textLength=\"69\" x=\"85.5\" y=\"103.6387\">«attribute»</text><text fill=\"#000000\" font-family=\"sans-serif\" font-size=\"12\" lengthAdjust=\"spacingAndGlyphs\" textLength=\"5\" x=\"117.5\" y=\"117.6074\">z</text><line style=\"stroke: #383838; stroke-width: 1.5;\" x1=\"85.5\" x2=\"154.5\" y1=\"125.4375\" y2=\"125.4375\"/></a><a href=\"psysml:cb2f8149-aa3e-4482-91f3-ed1f7789b4f6\" target=\"_top\" title=\"psysml:cb2f8149-aa3e-4482-91f3-ed1f7789b4f6\" xlink:actuate=\"onRequest\" xlink:href=\"psysml:cb2f8149-aa3e-4482-91f3-ed1f7789b4f6\" xlink:show=\"new\" xlink:title=\"psysml:cb2f8149-aa3e-4482-91f3-ed1f7789b4f6\" xlink:type=\"simple\"><polygon fill=\"#FFFFFF\" points=\"271,84,413,84,420,106.2969,427,106.2969,427,136.5938,271,136.5938,271,84\" style=\"stroke: #000000; stroke-width: 1.5;\"/><line style=\"stroke: #000000; stroke-width: 1.5;\" x1=\"271\" x2=\"420\" y1=\"106.2969\" y2=\"106.2969\"/><text fill=\"#000000\" font-family=\"sans-serif\" font-size=\"14\" font-weight=\"bold\" lengthAdjust=\"spacingAndGlyphs\" textLength=\"136\" x=\"275\" y=\"98.9951\">Application Layer</text></a><a href=\"psysml:c90fac5e-4b06-46df-8524-0f31fe17b625\" target=\"_top\" title=\"psysml:c90fac5e-4b06-46df-8524-0f31fe17b625\" xlink:actuate=\"onRequest\" xlink:href=\"psysml:c90fac5e-4b06-46df-8524-0f31fe17b625\" xlink:show=\"new\" xlink:title=\"psysml:c90fac5e-4b06-46df-8524-0f31fe17b625\" xlink:type=\"simple\"><polygon fill=\"#FFFFFF\" points=\"285,214,399,214,406,236.2969,413,236.2969,413,266.5938,285,266.5938,285,214\" style=\"stroke: #000000; stroke-width: 1.5;\"/><line style=\"stroke: #000000; stroke-width: 1.5;\" x1=\"285\" x2=\"406\" y1=\"236.2969\" y2=\"236.2969\"/><text fill=\"#000000\" font-family=\"sans-serif\" font-size=\"14\" font-weight=\"bold\" lengthAdjust=\"spacingAndGlyphs\" textLength=\"108\" x=\"289\" y=\"228.9951\">Service Layer</text></a><a href=\"psysml:5945f028-85af-4284-8707-6581cfe8107d\" target=\"_top\" title=\"psysml:5945f028-85af-4284-8707-6581cfe8107d\" xlink:actuate=\"onRequest\" xlink:href=\"psysml:5945f028-85af-4284-8707-6581cfe8107d\" xlink:show=\"new\" xlink:title=\"psysml:5945f028-85af-4284-8707-6581cfe8107d\" xlink:type=\"simple\"><polygon fill=\"#FFFFFF\" points=\"297,344,387,344,394,366.2969,401,366.2969,401,396.5938,297,396.5938,297,344\" style=\"stroke: #000000; stroke-width: 1.5;\"/><line style=\"stroke: #000000; stroke-width: 1.5;\" x1=\"297\" x2=\"394\" y1=\"366.2969\" y2=\"366.2969\"/><text fill=\"#000000\" font-family=\"sans-serif\" font-size=\"14\" font-weight=\"bold\" lengthAdjust=\"spacingAndGlyphs\" textLength=\"84\" x=\"301\" y=\"358.9951\">Data Layer</text></a><!--MD5=[af87c684e3b0d8be13c1a698a818ef1e]\n",
       "link E3 to E4--><a href=\"psysml:71e7e357-685b-41cb-afa1-92571af689f5\" target=\"_top\" title=\"psysml:71e7e357-685b-41cb-afa1-92571af689f5\" xlink:actuate=\"onRequest\" xlink:href=\"psysml:71e7e357-685b-41cb-afa1-92571af689f5\" xlink:show=\"new\" xlink:title=\"psysml:71e7e357-685b-41cb-afa1-92571af689f5\" xlink:type=\"simple\"><path d=\"M349,137.1 C349,156.8 349,184.22 349,205.73 \" fill=\"none\" id=\"E3-&gt;E4\" style=\"stroke: #383838; stroke-width: 1.0; stroke-dasharray: 7.0,7.0;\"/><polygon fill=\"#383838\" points=\"349,213.95,352,205.95,346,205.95,349,213.95\" style=\"stroke: #383838; stroke-width: 1.0;\"/><text fill=\"#000000\" font-family=\"sans-serif\" font-size=\"13\" lengthAdjust=\"spacingAndGlyphs\" textLength=\"64\" x=\"350\" y=\"180.0669\">«depend»</text></a><!--MD5=[1b7591eae5389033d8d09a9d6721a717]\n",
       "link E4 to E5--><a href=\"psysml:1107382a-37f6-4d52-8c17-003f9fc0676e\" target=\"_top\" title=\"psysml:1107382a-37f6-4d52-8c17-003f9fc0676e\" xlink:actuate=\"onRequest\" xlink:href=\"psysml:1107382a-37f6-4d52-8c17-003f9fc0676e\" xlink:show=\"new\" xlink:title=\"psysml:1107382a-37f6-4d52-8c17-003f9fc0676e\" xlink:type=\"simple\"><path d=\"M349,267.1 C349,286.8 349,314.22 349,335.73 \" fill=\"none\" id=\"E4-&gt;E5\" style=\"stroke: #383838; stroke-width: 1.0; stroke-dasharray: 7.0,7.0;\"/><polygon fill=\"#383838\" points=\"349,343.95,352,335.95,346,335.95,349,343.95\" style=\"stroke: #383838; stroke-width: 1.0;\"/><text fill=\"#000000\" font-family=\"sans-serif\" font-size=\"13\" lengthAdjust=\"spacingAndGlyphs\" textLength=\"64\" x=\"350\" y=\"310.0669\">«depend»</text></a><!--MD5=[c5e8897d989ce984f93528998a7150fe]\n",
       "link E8 to E6--><a href=\"psysml:a975d936-bb91-4b85-9c47-7632192c23c3\" target=\"_top\" title=\"psysml:a975d936-bb91-4b85-9c47-7632192c23c3\" xlink:actuate=\"onRequest\" xlink:href=\"psysml:a975d936-bb91-4b85-9c47-7632192c23c3\" xlink:show=\"new\" xlink:title=\"psysml:a975d936-bb91-4b85-9c47-7632192c23c3\" xlink:type=\"simple\"><path d=\"M89.42,133.6 C79.35,142.68 69.37,154.11 64,167 C58.5,180.2 58.66,195.94 60.54,209.38 \" fill=\"none\" id=\"E8-&gt;E6\" style=\"stroke: #383838; stroke-width: 1.0; stroke-dasharray: 7.0,7.0;\"/><polygon fill=\"#383838\" points=\"61.9,217.4,63.517,209.0104,57.6018,210.0159,61.9,217.4\" style=\"stroke: #383838; stroke-width: 1.0;\"/><text fill=\"#000000\" font-family=\"sans-serif\" font-size=\"13\" lengthAdjust=\"spacingAndGlyphs\" textLength=\"64\" x=\"65\" y=\"180.0669\">«depend»</text></a><!--MD5=[bfa3c8b0d15052fdf50ae9310b491027]\n",
       "link E8 to E7--><a href=\"psysml:a975d936-bb91-4b85-9c47-7632192c23c3\" target=\"_top\" title=\"psysml:a975d936-bb91-4b85-9c47-7632192c23c3\" xlink:actuate=\"onRequest\" xlink:href=\"psysml:a975d936-bb91-4b85-9c47-7632192c23c3\" xlink:show=\"new\" xlink:title=\"psysml:a975d936-bb91-4b85-9c47-7632192c23c3\" xlink:type=\"simple\"><path d=\"M129.28,133.5 C138.17,154.57 151.64,186.5 161.47,209.81 \" fill=\"none\" id=\"E8-&gt;E7\" style=\"stroke: #383838; stroke-width: 1.0; stroke-dasharray: 7.0,7.0;\"/><polygon fill=\"#383838\" points=\"164.66,217.35,164.3241,208.8126,158.7933,211.1385,164.66,217.35\" style=\"stroke: #383838; stroke-width: 1.0;\"/><text fill=\"#000000\" font-family=\"sans-serif\" font-size=\"13\" lengthAdjust=\"spacingAndGlyphs\" textLength=\"64\" x=\"151\" y=\"180.0669\">«depend»</text></a><!--MD5=[2ab7e1154488afb24dbdd2f6c54bc815]\n",
       "@startuml\r\n",
       " skinparam monochrome true\r\n",
       "skinparam classbackgroundcolor white\r\n",
       "skinparam shadowing false\r\n",
       "skinparam wrapWidth 300\r\n",
       "hide circle\r\n",
       "\r\n",
       "package \"DependencyTest\" as E1  [[psysml:430f5b70-8499-4207-b78a-0a401723d15c ]]  {\r\n",
       "package \"System\" as E2  [[psysml:ef80acf8-3bbf-43fc-abea-40efc458e2ed ]]  {\r\n",
       "package \"Application Layer\" as E3  [[psysml:cb2f8149-aa3e-4482-91f3-ed1f7789b4f6 ]]  {\r\n",
       "}\r\n",
       "package \"Service Layer\" as E4  [[psysml:c90fac5e-4b06-46df-8524-0f31fe17b625 ]]  {\r\n",
       "}\r\n",
       "package \"Data Layer\" as E5  [[psysml:5945f028-85af-4284-8707-6581cfe8107d ]]  {\r\n",
       "}\r\n",
       "}\r\n",
       "comp usage \"x\" as E6  <<(T,blue)attribute>> [[psysml:f9adf18b-8dbf-4490-b33d-e9e2045e17b2 ]] {\r\n",
       "}\r\n",
       "comp usage \"y\" as E7  <<(T,blue)attribute>> [[psysml:b3547f0d-a84a-43aa-aeb1-8f3416005562 ]] {\r\n",
       "}\r\n",
       "comp usage \"z\" as E8  <<(T,blue)attribute>> [[psysml:06d3944d-d8a9-41b6-a7dc-ea1875e321b3 ]] {\r\n",
       "}\r\n",
       "E3 ..>> E4 [[psysml:71e7e357-685b-41cb-afa1-92571af689f5 ]] : <<depend>>\r\n",
       "E4 ..>> E5 [[psysml:1107382a-37f6-4d52-8c17-003f9fc0676e ]] : <<depend>>\r\n",
       "E8 ..>> E6 [[psysml:a975d936-bb91-4b85-9c47-7632192c23c3 ]] : <<depend>>\r\n",
       "E8 ..>> E7 [[psysml:a975d936-bb91-4b85-9c47-7632192c23c3 ]] : <<depend>>\r\n",
       "}\r\n",
       "@enduml\r\n",
       "\n",
       "PlantUML version 1.2020.13(Sat Jun 13 12:26:38 UTC 2020)\n",
       "(EPL source distribution)\n",
       "Java Runtime: OpenJDK Runtime Environment\n",
       "JVM: OpenJDK 64-Bit Server VM\n",
       "Default Encoding: UTF-8\n",
       "Language: en\n",
       "Country: null\n",
       "--></g></svg>"
      ]
     },
     "execution_count": 7,
     "metadata": {},
     "output_type": "execute_result"
    }
   ],
   "source": [
    "%viz --style=\"COMPTREE\" --view=\"Sequence\" \"DependencyTest\""
   ]
  },
  {
   "cell_type": "code",
   "execution_count": 8,
   "id": "homeless-bunch",
   "metadata": {
    "execution": {
     "iopub.execute_input": "2021-03-25T13:51:41.205830Z",
     "iopub.status.busy": "2021-03-25T13:51:41.205368Z",
     "iopub.status.idle": "2021-03-25T13:51:41.330649Z",
     "shell.execute_reply": "2021-03-25T13:51:41.330074Z"
    }
   },
   "outputs": [
    {
     "data": {
      "image/svg+xml": [
       "<?xml version=\"1.0\" encoding=\"UTF-8\" standalone=\"no\"?><svg xmlns=\"http://www.w3.org/2000/svg\" xmlns:xlink=\"http://www.w3.org/1999/xlink\" contentScriptType=\"application/ecmascript\" contentStyleType=\"text/css\" height=\"449px\" preserveAspectRatio=\"none\" style=\"width:489px;height:449px;\" version=\"1.1\" viewBox=\"0 0 489 449\" width=\"489px\" zoomAndPan=\"magnify\"><defs/><g><!--MD5=[fbc87193dbaf4d95561dea2c320d4a47]\n",
       "cluster E1--><a href=\"psysml:430f5b70-8499-4207-b78a-0a401723d15c\" target=\"_top\" title=\"psysml:430f5b70-8499-4207-b78a-0a401723d15c\" xlink:actuate=\"onRequest\" xlink:href=\"psysml:430f5b70-8499-4207-b78a-0a401723d15c\" xlink:show=\"new\" xlink:title=\"psysml:430f5b70-8499-4207-b78a-0a401723d15c\" xlink:type=\"simple\"><polygon fill=\"#FFFFFF\" points=\"16,6,156,6,163,28.2969,467,28.2969,467,437,16,437,16,6\" style=\"stroke: #000000; stroke-width: 1.5;\"/><line style=\"stroke: #000000; stroke-width: 1.5;\" x1=\"16\" x2=\"163\" y1=\"28.2969\" y2=\"28.2969\"/><text fill=\"#000000\" font-family=\"sans-serif\" font-size=\"14\" font-weight=\"bold\" lengthAdjust=\"spacingAndGlyphs\" textLength=\"134\" x=\"20\" y=\"20.9951\">DependencyTest</text></a><!--MD5=[e4f7fae6ed58524ba242bb0b0d3be6b7]\n",
       "cluster E2--><a href=\"psysml:ef80acf8-3bbf-43fc-abea-40efc458e2ed\" target=\"_top\" title=\"psysml:ef80acf8-3bbf-43fc-abea-40efc458e2ed\" xlink:actuate=\"onRequest\" xlink:href=\"psysml:ef80acf8-3bbf-43fc-abea-40efc458e2ed\" xlink:show=\"new\" xlink:title=\"psysml:ef80acf8-3bbf-43fc-abea-40efc458e2ed\" xlink:type=\"simple\"><polygon fill=\"#FFFFFF\" points=\"255,49,319,49,326,71.2969,443,71.2969,443,413,255,413,255,49\" style=\"stroke: #000000; stroke-width: 1.5;\"/><line style=\"stroke: #000000; stroke-width: 1.5;\" x1=\"255\" x2=\"326\" y1=\"71.2969\" y2=\"71.2969\"/><text fill=\"#000000\" font-family=\"sans-serif\" font-size=\"14\" font-weight=\"bold\" lengthAdjust=\"spacingAndGlyphs\" textLength=\"58\" x=\"259\" y=\"63.9951\">System</text></a><!--MD5=[60a26617385b1d2d0262a64233df1f8d]\n",
       "class E6--><a href=\"psysml:f9adf18b-8dbf-4490-b33d-e9e2045e17b2\" target=\"_top\" title=\"psysml:f9adf18b-8dbf-4490-b33d-e9e2045e17b2\" xlink:actuate=\"onRequest\" xlink:href=\"psysml:f9adf18b-8dbf-4490-b33d-e9e2045e17b2\" xlink:show=\"new\" xlink:title=\"psysml:f9adf18b-8dbf-4490-b33d-e9e2045e17b2\" xlink:type=\"simple\"><rect fill=\"#FFFFFF\" height=\"45.9375\" id=\"E6\" rx=\"10\" ry=\"10\" style=\"stroke: #383838; stroke-width: 1.5;\" width=\"71\" x=\"32.5\" y=\"217.5\"/><text fill=\"#000000\" font-family=\"sans-serif\" font-size=\"12\" font-style=\"italic\" lengthAdjust=\"spacingAndGlyphs\" textLength=\"69\" x=\"33.5\" y=\"233.6387\">«attribute»</text><text fill=\"#000000\" font-family=\"sans-serif\" font-size=\"12\" lengthAdjust=\"spacingAndGlyphs\" textLength=\"6\" x=\"65\" y=\"247.6074\">x</text><line style=\"stroke: #383838; stroke-width: 1.5;\" x1=\"33.5\" x2=\"102.5\" y1=\"255.4375\" y2=\"255.4375\"/></a><!--MD5=[2156ba9850f5573cc1fc38a6a4b2f02b]\n",
       "class E7--><a href=\"psysml:b3547f0d-a84a-43aa-aeb1-8f3416005562\" target=\"_top\" title=\"psysml:b3547f0d-a84a-43aa-aeb1-8f3416005562\" xlink:actuate=\"onRequest\" xlink:href=\"psysml:b3547f0d-a84a-43aa-aeb1-8f3416005562\" xlink:show=\"new\" xlink:title=\"psysml:b3547f0d-a84a-43aa-aeb1-8f3416005562\" xlink:type=\"simple\"><rect fill=\"#FFFFFF\" height=\"45.9375\" id=\"E7\" rx=\"10\" ry=\"10\" style=\"stroke: #383838; stroke-width: 1.5;\" width=\"71\" x=\"138.5\" y=\"217.5\"/><text fill=\"#000000\" font-family=\"sans-serif\" font-size=\"12\" font-style=\"italic\" lengthAdjust=\"spacingAndGlyphs\" textLength=\"69\" x=\"139.5\" y=\"233.6387\">«attribute»</text><text fill=\"#000000\" font-family=\"sans-serif\" font-size=\"12\" lengthAdjust=\"spacingAndGlyphs\" textLength=\"6\" x=\"171\" y=\"247.6074\">y</text><line style=\"stroke: #383838; stroke-width: 1.5;\" x1=\"139.5\" x2=\"208.5\" y1=\"255.4375\" y2=\"255.4375\"/></a><!--MD5=[b9389687b975829384b498ac4b7476b2]\n",
       "class E8--><a href=\"psysml:06d3944d-d8a9-41b6-a7dc-ea1875e321b3\" target=\"_top\" title=\"psysml:06d3944d-d8a9-41b6-a7dc-ea1875e321b3\" xlink:actuate=\"onRequest\" xlink:href=\"psysml:06d3944d-d8a9-41b6-a7dc-ea1875e321b3\" xlink:show=\"new\" xlink:title=\"psysml:06d3944d-d8a9-41b6-a7dc-ea1875e321b3\" xlink:type=\"simple\"><rect fill=\"#FFFFFF\" height=\"45.9375\" id=\"E8\" rx=\"10\" ry=\"10\" style=\"stroke: #383838; stroke-width: 1.5;\" width=\"71\" x=\"84.5\" y=\"87.5\"/><text fill=\"#000000\" font-family=\"sans-serif\" font-size=\"12\" font-style=\"italic\" lengthAdjust=\"spacingAndGlyphs\" textLength=\"69\" x=\"85.5\" y=\"103.6387\">«attribute»</text><text fill=\"#000000\" font-family=\"sans-serif\" font-size=\"12\" lengthAdjust=\"spacingAndGlyphs\" textLength=\"5\" x=\"117.5\" y=\"117.6074\">z</text><line style=\"stroke: #383838; stroke-width: 1.5;\" x1=\"85.5\" x2=\"154.5\" y1=\"125.4375\" y2=\"125.4375\"/></a><a href=\"psysml:cb2f8149-aa3e-4482-91f3-ed1f7789b4f6\" target=\"_top\" title=\"psysml:cb2f8149-aa3e-4482-91f3-ed1f7789b4f6\" xlink:actuate=\"onRequest\" xlink:href=\"psysml:cb2f8149-aa3e-4482-91f3-ed1f7789b4f6\" xlink:show=\"new\" xlink:title=\"psysml:cb2f8149-aa3e-4482-91f3-ed1f7789b4f6\" xlink:type=\"simple\"><polygon fill=\"#FFFFFF\" points=\"271,84,413,84,420,106.2969,427,106.2969,427,136.5938,271,136.5938,271,84\" style=\"stroke: #000000; stroke-width: 1.5;\"/><line style=\"stroke: #000000; stroke-width: 1.5;\" x1=\"271\" x2=\"420\" y1=\"106.2969\" y2=\"106.2969\"/><text fill=\"#000000\" font-family=\"sans-serif\" font-size=\"14\" font-weight=\"bold\" lengthAdjust=\"spacingAndGlyphs\" textLength=\"136\" x=\"275\" y=\"98.9951\">Application Layer</text></a><a href=\"psysml:c90fac5e-4b06-46df-8524-0f31fe17b625\" target=\"_top\" title=\"psysml:c90fac5e-4b06-46df-8524-0f31fe17b625\" xlink:actuate=\"onRequest\" xlink:href=\"psysml:c90fac5e-4b06-46df-8524-0f31fe17b625\" xlink:show=\"new\" xlink:title=\"psysml:c90fac5e-4b06-46df-8524-0f31fe17b625\" xlink:type=\"simple\"><polygon fill=\"#FFFFFF\" points=\"285,214,399,214,406,236.2969,413,236.2969,413,266.5938,285,266.5938,285,214\" style=\"stroke: #000000; stroke-width: 1.5;\"/><line style=\"stroke: #000000; stroke-width: 1.5;\" x1=\"285\" x2=\"406\" y1=\"236.2969\" y2=\"236.2969\"/><text fill=\"#000000\" font-family=\"sans-serif\" font-size=\"14\" font-weight=\"bold\" lengthAdjust=\"spacingAndGlyphs\" textLength=\"108\" x=\"289\" y=\"228.9951\">Service Layer</text></a><a href=\"psysml:5945f028-85af-4284-8707-6581cfe8107d\" target=\"_top\" title=\"psysml:5945f028-85af-4284-8707-6581cfe8107d\" xlink:actuate=\"onRequest\" xlink:href=\"psysml:5945f028-85af-4284-8707-6581cfe8107d\" xlink:show=\"new\" xlink:title=\"psysml:5945f028-85af-4284-8707-6581cfe8107d\" xlink:type=\"simple\"><polygon fill=\"#FFFFFF\" points=\"297,344,387,344,394,366.2969,401,366.2969,401,396.5938,297,396.5938,297,344\" style=\"stroke: #000000; stroke-width: 1.5;\"/><line style=\"stroke: #000000; stroke-width: 1.5;\" x1=\"297\" x2=\"394\" y1=\"366.2969\" y2=\"366.2969\"/><text fill=\"#000000\" font-family=\"sans-serif\" font-size=\"14\" font-weight=\"bold\" lengthAdjust=\"spacingAndGlyphs\" textLength=\"84\" x=\"301\" y=\"358.9951\">Data Layer</text></a><!--MD5=[af87c684e3b0d8be13c1a698a818ef1e]\n",
       "link E3 to E4--><a href=\"psysml:71e7e357-685b-41cb-afa1-92571af689f5\" target=\"_top\" title=\"psysml:71e7e357-685b-41cb-afa1-92571af689f5\" xlink:actuate=\"onRequest\" xlink:href=\"psysml:71e7e357-685b-41cb-afa1-92571af689f5\" xlink:show=\"new\" xlink:title=\"psysml:71e7e357-685b-41cb-afa1-92571af689f5\" xlink:type=\"simple\"><path d=\"M349,137.1 C349,156.8 349,184.22 349,205.73 \" fill=\"none\" id=\"E3-&gt;E4\" style=\"stroke: #383838; stroke-width: 1.0; stroke-dasharray: 7.0,7.0;\"/><polygon fill=\"#383838\" points=\"349,213.95,352,205.95,346,205.95,349,213.95\" style=\"stroke: #383838; stroke-width: 1.0;\"/><text fill=\"#000000\" font-family=\"sans-serif\" font-size=\"13\" lengthAdjust=\"spacingAndGlyphs\" textLength=\"64\" x=\"350\" y=\"180.0669\">«depend»</text></a><!--MD5=[1b7591eae5389033d8d09a9d6721a717]\n",
       "link E4 to E5--><a href=\"psysml:1107382a-37f6-4d52-8c17-003f9fc0676e\" target=\"_top\" title=\"psysml:1107382a-37f6-4d52-8c17-003f9fc0676e\" xlink:actuate=\"onRequest\" xlink:href=\"psysml:1107382a-37f6-4d52-8c17-003f9fc0676e\" xlink:show=\"new\" xlink:title=\"psysml:1107382a-37f6-4d52-8c17-003f9fc0676e\" xlink:type=\"simple\"><path d=\"M349,267.1 C349,286.8 349,314.22 349,335.73 \" fill=\"none\" id=\"E4-&gt;E5\" style=\"stroke: #383838; stroke-width: 1.0; stroke-dasharray: 7.0,7.0;\"/><polygon fill=\"#383838\" points=\"349,343.95,352,335.95,346,335.95,349,343.95\" style=\"stroke: #383838; stroke-width: 1.0;\"/><text fill=\"#000000\" font-family=\"sans-serif\" font-size=\"13\" lengthAdjust=\"spacingAndGlyphs\" textLength=\"64\" x=\"350\" y=\"310.0669\">«depend»</text></a><!--MD5=[c5e8897d989ce984f93528998a7150fe]\n",
       "link E8 to E6--><a href=\"psysml:a975d936-bb91-4b85-9c47-7632192c23c3\" target=\"_top\" title=\"psysml:a975d936-bb91-4b85-9c47-7632192c23c3\" xlink:actuate=\"onRequest\" xlink:href=\"psysml:a975d936-bb91-4b85-9c47-7632192c23c3\" xlink:show=\"new\" xlink:title=\"psysml:a975d936-bb91-4b85-9c47-7632192c23c3\" xlink:type=\"simple\"><path d=\"M89.42,133.6 C79.35,142.68 69.37,154.11 64,167 C58.5,180.2 58.66,195.94 60.54,209.38 \" fill=\"none\" id=\"E8-&gt;E6\" style=\"stroke: #383838; stroke-width: 1.0; stroke-dasharray: 7.0,7.0;\"/><polygon fill=\"#383838\" points=\"61.9,217.4,63.517,209.0104,57.6018,210.0159,61.9,217.4\" style=\"stroke: #383838; stroke-width: 1.0;\"/><text fill=\"#000000\" font-family=\"sans-serif\" font-size=\"13\" lengthAdjust=\"spacingAndGlyphs\" textLength=\"64\" x=\"65\" y=\"180.0669\">«depend»</text></a><!--MD5=[bfa3c8b0d15052fdf50ae9310b491027]\n",
       "link E8 to E7--><a href=\"psysml:a975d936-bb91-4b85-9c47-7632192c23c3\" target=\"_top\" title=\"psysml:a975d936-bb91-4b85-9c47-7632192c23c3\" xlink:actuate=\"onRequest\" xlink:href=\"psysml:a975d936-bb91-4b85-9c47-7632192c23c3\" xlink:show=\"new\" xlink:title=\"psysml:a975d936-bb91-4b85-9c47-7632192c23c3\" xlink:type=\"simple\"><path d=\"M129.28,133.5 C138.17,154.57 151.64,186.5 161.47,209.81 \" fill=\"none\" id=\"E8-&gt;E7\" style=\"stroke: #383838; stroke-width: 1.0; stroke-dasharray: 7.0,7.0;\"/><polygon fill=\"#383838\" points=\"164.66,217.35,164.3241,208.8126,158.7933,211.1385,164.66,217.35\" style=\"stroke: #383838; stroke-width: 1.0;\"/><text fill=\"#000000\" font-family=\"sans-serif\" font-size=\"13\" lengthAdjust=\"spacingAndGlyphs\" textLength=\"64\" x=\"151\" y=\"180.0669\">«depend»</text></a><!--MD5=[2ab7e1154488afb24dbdd2f6c54bc815]\n",
       "@startuml\r\n",
       " skinparam monochrome true\r\n",
       "skinparam classbackgroundcolor white\r\n",
       "skinparam shadowing false\r\n",
       "skinparam wrapWidth 300\r\n",
       "hide circle\r\n",
       "\r\n",
       "package \"DependencyTest\" as E1  [[psysml:430f5b70-8499-4207-b78a-0a401723d15c ]]  {\r\n",
       "package \"System\" as E2  [[psysml:ef80acf8-3bbf-43fc-abea-40efc458e2ed ]]  {\r\n",
       "package \"Application Layer\" as E3  [[psysml:cb2f8149-aa3e-4482-91f3-ed1f7789b4f6 ]]  {\r\n",
       "}\r\n",
       "package \"Service Layer\" as E4  [[psysml:c90fac5e-4b06-46df-8524-0f31fe17b625 ]]  {\r\n",
       "}\r\n",
       "package \"Data Layer\" as E5  [[psysml:5945f028-85af-4284-8707-6581cfe8107d ]]  {\r\n",
       "}\r\n",
       "}\r\n",
       "comp usage \"x\" as E6  <<(T,blue)attribute>> [[psysml:f9adf18b-8dbf-4490-b33d-e9e2045e17b2 ]] {\r\n",
       "}\r\n",
       "comp usage \"y\" as E7  <<(T,blue)attribute>> [[psysml:b3547f0d-a84a-43aa-aeb1-8f3416005562 ]] {\r\n",
       "}\r\n",
       "comp usage \"z\" as E8  <<(T,blue)attribute>> [[psysml:06d3944d-d8a9-41b6-a7dc-ea1875e321b3 ]] {\r\n",
       "}\r\n",
       "E3 ..>> E4 [[psysml:71e7e357-685b-41cb-afa1-92571af689f5 ]] : <<depend>>\r\n",
       "E4 ..>> E5 [[psysml:1107382a-37f6-4d52-8c17-003f9fc0676e ]] : <<depend>>\r\n",
       "E8 ..>> E6 [[psysml:a975d936-bb91-4b85-9c47-7632192c23c3 ]] : <<depend>>\r\n",
       "E8 ..>> E7 [[psysml:a975d936-bb91-4b85-9c47-7632192c23c3 ]] : <<depend>>\r\n",
       "}\r\n",
       "@enduml\r\n",
       "\n",
       "PlantUML version 1.2020.13(Sat Jun 13 12:26:38 UTC 2020)\n",
       "(EPL source distribution)\n",
       "Java Runtime: OpenJDK Runtime Environment\n",
       "JVM: OpenJDK 64-Bit Server VM\n",
       "Default Encoding: UTF-8\n",
       "Language: en\n",
       "Country: null\n",
       "--></g></svg>"
      ]
     },
     "execution_count": 8,
     "metadata": {},
     "output_type": "execute_result"
    }
   ],
   "source": [
    "%viz --style=\"COMPTREE\" --view=\"MIXED\" \"DependencyTest\""
   ]
  },
  {
   "cell_type": "code",
   "execution_count": 9,
   "id": "czech-persian",
   "metadata": {
    "execution": {
     "iopub.execute_input": "2021-03-25T13:51:41.383463Z",
     "iopub.status.busy": "2021-03-25T13:51:41.382204Z",
     "iopub.status.idle": "2021-03-25T13:51:41.502725Z",
     "shell.execute_reply": "2021-03-25T13:51:41.500805Z"
    }
   },
   "outputs": [
    {
     "data": {
      "image/svg+xml": [
       "<?xml version=\"1.0\" encoding=\"UTF-8\" standalone=\"no\"?><svg xmlns=\"http://www.w3.org/2000/svg\" xmlns:xlink=\"http://www.w3.org/1999/xlink\" contentScriptType=\"application/ecmascript\" contentStyleType=\"text/css\" height=\"449px\" preserveAspectRatio=\"none\" style=\"width:489px;height:449px;\" version=\"1.1\" viewBox=\"0 0 489 449\" width=\"489px\" zoomAndPan=\"magnify\"><defs/><g><!--MD5=[fbc87193dbaf4d95561dea2c320d4a47]\n",
       "cluster E1--><a href=\"psysml:430f5b70-8499-4207-b78a-0a401723d15c\" target=\"_top\" title=\"psysml:430f5b70-8499-4207-b78a-0a401723d15c\" xlink:actuate=\"onRequest\" xlink:href=\"psysml:430f5b70-8499-4207-b78a-0a401723d15c\" xlink:show=\"new\" xlink:title=\"psysml:430f5b70-8499-4207-b78a-0a401723d15c\" xlink:type=\"simple\"><polygon fill=\"#FFFFFF\" points=\"16,6,156,6,163,28.2969,467,28.2969,467,437,16,437,16,6\" style=\"stroke: #000000; stroke-width: 1.5;\"/><line style=\"stroke: #000000; stroke-width: 1.5;\" x1=\"16\" x2=\"163\" y1=\"28.2969\" y2=\"28.2969\"/><text fill=\"#000000\" font-family=\"sans-serif\" font-size=\"14\" font-weight=\"bold\" lengthAdjust=\"spacingAndGlyphs\" textLength=\"134\" x=\"20\" y=\"20.9951\">DependencyTest</text></a><!--MD5=[e4f7fae6ed58524ba242bb0b0d3be6b7]\n",
       "cluster E2--><a href=\"psysml:ef80acf8-3bbf-43fc-abea-40efc458e2ed\" target=\"_top\" title=\"psysml:ef80acf8-3bbf-43fc-abea-40efc458e2ed\" xlink:actuate=\"onRequest\" xlink:href=\"psysml:ef80acf8-3bbf-43fc-abea-40efc458e2ed\" xlink:show=\"new\" xlink:title=\"psysml:ef80acf8-3bbf-43fc-abea-40efc458e2ed\" xlink:type=\"simple\"><polygon fill=\"#FFFFFF\" points=\"255,49,319,49,326,71.2969,443,71.2969,443,413,255,413,255,49\" style=\"stroke: #000000; stroke-width: 1.5;\"/><line style=\"stroke: #000000; stroke-width: 1.5;\" x1=\"255\" x2=\"326\" y1=\"71.2969\" y2=\"71.2969\"/><text fill=\"#000000\" font-family=\"sans-serif\" font-size=\"14\" font-weight=\"bold\" lengthAdjust=\"spacingAndGlyphs\" textLength=\"58\" x=\"259\" y=\"63.9951\">System</text></a><!--MD5=[60a26617385b1d2d0262a64233df1f8d]\n",
       "class E6--><a href=\"psysml:f9adf18b-8dbf-4490-b33d-e9e2045e17b2\" target=\"_top\" title=\"psysml:f9adf18b-8dbf-4490-b33d-e9e2045e17b2\" xlink:actuate=\"onRequest\" xlink:href=\"psysml:f9adf18b-8dbf-4490-b33d-e9e2045e17b2\" xlink:show=\"new\" xlink:title=\"psysml:f9adf18b-8dbf-4490-b33d-e9e2045e17b2\" xlink:type=\"simple\"><rect fill=\"#FFFFFF\" height=\"45.9375\" id=\"E6\" rx=\"10\" ry=\"10\" style=\"stroke: #383838; stroke-width: 1.5;\" width=\"71\" x=\"32.5\" y=\"217.5\"/><text fill=\"#000000\" font-family=\"sans-serif\" font-size=\"12\" font-style=\"italic\" lengthAdjust=\"spacingAndGlyphs\" textLength=\"69\" x=\"33.5\" y=\"233.6387\">«attribute»</text><text fill=\"#000000\" font-family=\"sans-serif\" font-size=\"12\" lengthAdjust=\"spacingAndGlyphs\" textLength=\"6\" x=\"65\" y=\"247.6074\">x</text><line style=\"stroke: #383838; stroke-width: 1.5;\" x1=\"33.5\" x2=\"102.5\" y1=\"255.4375\" y2=\"255.4375\"/></a><!--MD5=[2156ba9850f5573cc1fc38a6a4b2f02b]\n",
       "class E7--><a href=\"psysml:b3547f0d-a84a-43aa-aeb1-8f3416005562\" target=\"_top\" title=\"psysml:b3547f0d-a84a-43aa-aeb1-8f3416005562\" xlink:actuate=\"onRequest\" xlink:href=\"psysml:b3547f0d-a84a-43aa-aeb1-8f3416005562\" xlink:show=\"new\" xlink:title=\"psysml:b3547f0d-a84a-43aa-aeb1-8f3416005562\" xlink:type=\"simple\"><rect fill=\"#FFFFFF\" height=\"45.9375\" id=\"E7\" rx=\"10\" ry=\"10\" style=\"stroke: #383838; stroke-width: 1.5;\" width=\"71\" x=\"138.5\" y=\"217.5\"/><text fill=\"#000000\" font-family=\"sans-serif\" font-size=\"12\" font-style=\"italic\" lengthAdjust=\"spacingAndGlyphs\" textLength=\"69\" x=\"139.5\" y=\"233.6387\">«attribute»</text><text fill=\"#000000\" font-family=\"sans-serif\" font-size=\"12\" lengthAdjust=\"spacingAndGlyphs\" textLength=\"6\" x=\"171\" y=\"247.6074\">y</text><line style=\"stroke: #383838; stroke-width: 1.5;\" x1=\"139.5\" x2=\"208.5\" y1=\"255.4375\" y2=\"255.4375\"/></a><!--MD5=[b9389687b975829384b498ac4b7476b2]\n",
       "class E8--><a href=\"psysml:06d3944d-d8a9-41b6-a7dc-ea1875e321b3\" target=\"_top\" title=\"psysml:06d3944d-d8a9-41b6-a7dc-ea1875e321b3\" xlink:actuate=\"onRequest\" xlink:href=\"psysml:06d3944d-d8a9-41b6-a7dc-ea1875e321b3\" xlink:show=\"new\" xlink:title=\"psysml:06d3944d-d8a9-41b6-a7dc-ea1875e321b3\" xlink:type=\"simple\"><rect fill=\"#FFFFFF\" height=\"45.9375\" id=\"E8\" rx=\"10\" ry=\"10\" style=\"stroke: #383838; stroke-width: 1.5;\" width=\"71\" x=\"84.5\" y=\"87.5\"/><text fill=\"#000000\" font-family=\"sans-serif\" font-size=\"12\" font-style=\"italic\" lengthAdjust=\"spacingAndGlyphs\" textLength=\"69\" x=\"85.5\" y=\"103.6387\">«attribute»</text><text fill=\"#000000\" font-family=\"sans-serif\" font-size=\"12\" lengthAdjust=\"spacingAndGlyphs\" textLength=\"5\" x=\"117.5\" y=\"117.6074\">z</text><line style=\"stroke: #383838; stroke-width: 1.5;\" x1=\"85.5\" x2=\"154.5\" y1=\"125.4375\" y2=\"125.4375\"/></a><a href=\"psysml:cb2f8149-aa3e-4482-91f3-ed1f7789b4f6\" target=\"_top\" title=\"psysml:cb2f8149-aa3e-4482-91f3-ed1f7789b4f6\" xlink:actuate=\"onRequest\" xlink:href=\"psysml:cb2f8149-aa3e-4482-91f3-ed1f7789b4f6\" xlink:show=\"new\" xlink:title=\"psysml:cb2f8149-aa3e-4482-91f3-ed1f7789b4f6\" xlink:type=\"simple\"><polygon fill=\"#FFFFFF\" points=\"271,84,413,84,420,106.2969,427,106.2969,427,136.5938,271,136.5938,271,84\" style=\"stroke: #000000; stroke-width: 1.5;\"/><line style=\"stroke: #000000; stroke-width: 1.5;\" x1=\"271\" x2=\"420\" y1=\"106.2969\" y2=\"106.2969\"/><text fill=\"#000000\" font-family=\"sans-serif\" font-size=\"14\" font-weight=\"bold\" lengthAdjust=\"spacingAndGlyphs\" textLength=\"136\" x=\"275\" y=\"98.9951\">Application Layer</text></a><a href=\"psysml:c90fac5e-4b06-46df-8524-0f31fe17b625\" target=\"_top\" title=\"psysml:c90fac5e-4b06-46df-8524-0f31fe17b625\" xlink:actuate=\"onRequest\" xlink:href=\"psysml:c90fac5e-4b06-46df-8524-0f31fe17b625\" xlink:show=\"new\" xlink:title=\"psysml:c90fac5e-4b06-46df-8524-0f31fe17b625\" xlink:type=\"simple\"><polygon fill=\"#FFFFFF\" points=\"285,214,399,214,406,236.2969,413,236.2969,413,266.5938,285,266.5938,285,214\" style=\"stroke: #000000; stroke-width: 1.5;\"/><line style=\"stroke: #000000; stroke-width: 1.5;\" x1=\"285\" x2=\"406\" y1=\"236.2969\" y2=\"236.2969\"/><text fill=\"#000000\" font-family=\"sans-serif\" font-size=\"14\" font-weight=\"bold\" lengthAdjust=\"spacingAndGlyphs\" textLength=\"108\" x=\"289\" y=\"228.9951\">Service Layer</text></a><a href=\"psysml:5945f028-85af-4284-8707-6581cfe8107d\" target=\"_top\" title=\"psysml:5945f028-85af-4284-8707-6581cfe8107d\" xlink:actuate=\"onRequest\" xlink:href=\"psysml:5945f028-85af-4284-8707-6581cfe8107d\" xlink:show=\"new\" xlink:title=\"psysml:5945f028-85af-4284-8707-6581cfe8107d\" xlink:type=\"simple\"><polygon fill=\"#FFFFFF\" points=\"297,344,387,344,394,366.2969,401,366.2969,401,396.5938,297,396.5938,297,344\" style=\"stroke: #000000; stroke-width: 1.5;\"/><line style=\"stroke: #000000; stroke-width: 1.5;\" x1=\"297\" x2=\"394\" y1=\"366.2969\" y2=\"366.2969\"/><text fill=\"#000000\" font-family=\"sans-serif\" font-size=\"14\" font-weight=\"bold\" lengthAdjust=\"spacingAndGlyphs\" textLength=\"84\" x=\"301\" y=\"358.9951\">Data Layer</text></a><!--MD5=[af87c684e3b0d8be13c1a698a818ef1e]\n",
       "link E3 to E4--><a href=\"psysml:71e7e357-685b-41cb-afa1-92571af689f5\" target=\"_top\" title=\"psysml:71e7e357-685b-41cb-afa1-92571af689f5\" xlink:actuate=\"onRequest\" xlink:href=\"psysml:71e7e357-685b-41cb-afa1-92571af689f5\" xlink:show=\"new\" xlink:title=\"psysml:71e7e357-685b-41cb-afa1-92571af689f5\" xlink:type=\"simple\"><path d=\"M349,137.1 C349,156.8 349,184.22 349,205.73 \" fill=\"none\" id=\"E3-&gt;E4\" style=\"stroke: #383838; stroke-width: 1.0; stroke-dasharray: 7.0,7.0;\"/><polygon fill=\"#383838\" points=\"349,213.95,352,205.95,346,205.95,349,213.95\" style=\"stroke: #383838; stroke-width: 1.0;\"/><text fill=\"#000000\" font-family=\"sans-serif\" font-size=\"13\" lengthAdjust=\"spacingAndGlyphs\" textLength=\"64\" x=\"350\" y=\"180.0669\">«depend»</text></a><!--MD5=[1b7591eae5389033d8d09a9d6721a717]\n",
       "link E4 to E5--><a href=\"psysml:1107382a-37f6-4d52-8c17-003f9fc0676e\" target=\"_top\" title=\"psysml:1107382a-37f6-4d52-8c17-003f9fc0676e\" xlink:actuate=\"onRequest\" xlink:href=\"psysml:1107382a-37f6-4d52-8c17-003f9fc0676e\" xlink:show=\"new\" xlink:title=\"psysml:1107382a-37f6-4d52-8c17-003f9fc0676e\" xlink:type=\"simple\"><path d=\"M349,267.1 C349,286.8 349,314.22 349,335.73 \" fill=\"none\" id=\"E4-&gt;E5\" style=\"stroke: #383838; stroke-width: 1.0; stroke-dasharray: 7.0,7.0;\"/><polygon fill=\"#383838\" points=\"349,343.95,352,335.95,346,335.95,349,343.95\" style=\"stroke: #383838; stroke-width: 1.0;\"/><text fill=\"#000000\" font-family=\"sans-serif\" font-size=\"13\" lengthAdjust=\"spacingAndGlyphs\" textLength=\"64\" x=\"350\" y=\"310.0669\">«depend»</text></a><!--MD5=[c5e8897d989ce984f93528998a7150fe]\n",
       "link E8 to E6--><a href=\"psysml:a975d936-bb91-4b85-9c47-7632192c23c3\" target=\"_top\" title=\"psysml:a975d936-bb91-4b85-9c47-7632192c23c3\" xlink:actuate=\"onRequest\" xlink:href=\"psysml:a975d936-bb91-4b85-9c47-7632192c23c3\" xlink:show=\"new\" xlink:title=\"psysml:a975d936-bb91-4b85-9c47-7632192c23c3\" xlink:type=\"simple\"><path d=\"M97.55,133.75 C81.97,149.19 64,167 64,167 C64,167 64,184 64,184 C64,184 64.88,196.21 65.81,209.18 \" fill=\"none\" id=\"E8-&gt;E6\" style=\"stroke: #383838; stroke-width: 1.0; stroke-dasharray: 7.0,7.0;\"/><polygon fill=\"#383838\" points=\"66.4,217.25,68.8203,209.056,62.8357,209.485,66.4,217.25\" style=\"stroke: #383838; stroke-width: 1.0;\"/><text fill=\"#000000\" font-family=\"sans-serif\" font-size=\"13\" lengthAdjust=\"spacingAndGlyphs\" textLength=\"64\" x=\"65\" y=\"180.0669\">«depend»</text></a><!--MD5=[bfa3c8b0d15052fdf50ae9310b491027]\n",
       "link E8 to E7--><a href=\"psysml:a975d936-bb91-4b85-9c47-7632192c23c3\" target=\"_top\" title=\"psysml:a975d936-bb91-4b85-9c47-7632192c23c3\" xlink:actuate=\"onRequest\" xlink:href=\"psysml:a975d936-bb91-4b85-9c47-7632192c23c3\" xlink:show=\"new\" xlink:title=\"psysml:a975d936-bb91-4b85-9c47-7632192c23c3\" xlink:type=\"simple\"><path d=\"M129.28,133.5 C138.17,154.57 151.64,186.5 161.47,209.81 \" fill=\"none\" id=\"E8-&gt;E7\" style=\"stroke: #383838; stroke-width: 1.0; stroke-dasharray: 7.0,7.0;\"/><polygon fill=\"#383838\" points=\"164.66,217.35,164.3241,208.8126,158.7933,211.1385,164.66,217.35\" style=\"stroke: #383838; stroke-width: 1.0;\"/><text fill=\"#000000\" font-family=\"sans-serif\" font-size=\"13\" lengthAdjust=\"spacingAndGlyphs\" textLength=\"64\" x=\"151\" y=\"180.0669\">«depend»</text></a><!--MD5=[6fd2500ad82e3bebee0e478c251e7150]\n",
       "@startuml\r\n",
       "skinparam linetype polyline\r\n",
       "skinparam monochrome true\r\n",
       "skinparam classbackgroundcolor white\r\n",
       "skinparam shadowing false\r\n",
       "skinparam wrapWidth 300\r\n",
       "hide circle\r\n",
       "\r\n",
       "package \"DependencyTest\" as E1  [[psysml:430f5b70-8499-4207-b78a-0a401723d15c ]]  {\r\n",
       "package \"System\" as E2  [[psysml:ef80acf8-3bbf-43fc-abea-40efc458e2ed ]]  {\r\n",
       "package \"Application Layer\" as E3  [[psysml:cb2f8149-aa3e-4482-91f3-ed1f7789b4f6 ]]  {\r\n",
       "}\r\n",
       "package \"Service Layer\" as E4  [[psysml:c90fac5e-4b06-46df-8524-0f31fe17b625 ]]  {\r\n",
       "}\r\n",
       "package \"Data Layer\" as E5  [[psysml:5945f028-85af-4284-8707-6581cfe8107d ]]  {\r\n",
       "}\r\n",
       "}\r\n",
       "comp usage \"x\" as E6  <<(T,blue)attribute>> [[psysml:f9adf18b-8dbf-4490-b33d-e9e2045e17b2 ]] {\r\n",
       "}\r\n",
       "comp usage \"y\" as E7  <<(T,blue)attribute>> [[psysml:b3547f0d-a84a-43aa-aeb1-8f3416005562 ]] {\r\n",
       "}\r\n",
       "comp usage \"z\" as E8  <<(T,blue)attribute>> [[psysml:06d3944d-d8a9-41b6-a7dc-ea1875e321b3 ]] {\r\n",
       "}\r\n",
       "E3 ..>> E4 [[psysml:71e7e357-685b-41cb-afa1-92571af689f5 ]] : <<depend>>\r\n",
       "E4 ..>> E5 [[psysml:1107382a-37f6-4d52-8c17-003f9fc0676e ]] : <<depend>>\r\n",
       "E8 ..>> E6 [[psysml:a975d936-bb91-4b85-9c47-7632192c23c3 ]] : <<depend>>\r\n",
       "E8 ..>> E7 [[psysml:a975d936-bb91-4b85-9c47-7632192c23c3 ]] : <<depend>>\r\n",
       "}\r\n",
       "@enduml\r\n",
       "\n",
       "PlantUML version 1.2020.13(Sat Jun 13 12:26:38 UTC 2020)\n",
       "(EPL source distribution)\n",
       "Java Runtime: OpenJDK Runtime Environment\n",
       "JVM: OpenJDK 64-Bit Server VM\n",
       "Default Encoding: UTF-8\n",
       "Language: en\n",
       "Country: null\n",
       "--></g></svg>"
      ]
     },
     "execution_count": 9,
     "metadata": {},
     "output_type": "execute_result"
    }
   ],
   "source": [
    "%viz --style=\"POLYLINE\" --view=\"Default\" \"DependencyTest\""
   ]
  },
  {
   "cell_type": "code",
   "execution_count": 10,
   "id": "identified-assault",
   "metadata": {
    "execution": {
     "iopub.execute_input": "2021-03-25T13:51:41.553947Z",
     "iopub.status.busy": "2021-03-25T13:51:41.553413Z",
     "iopub.status.idle": "2021-03-25T13:51:41.673626Z",
     "shell.execute_reply": "2021-03-25T13:51:41.673176Z"
    }
   },
   "outputs": [
    {
     "data": {
      "image/svg+xml": [
       "<?xml version=\"1.0\" encoding=\"UTF-8\" standalone=\"no\"?><svg xmlns=\"http://www.w3.org/2000/svg\" xmlns:xlink=\"http://www.w3.org/1999/xlink\" contentScriptType=\"application/ecmascript\" contentStyleType=\"text/css\" height=\"449px\" preserveAspectRatio=\"none\" style=\"width:489px;height:449px;\" version=\"1.1\" viewBox=\"0 0 489 449\" width=\"489px\" zoomAndPan=\"magnify\"><defs/><g><!--MD5=[fbc87193dbaf4d95561dea2c320d4a47]\n",
       "cluster E1--><a href=\"psysml:430f5b70-8499-4207-b78a-0a401723d15c\" target=\"_top\" title=\"psysml:430f5b70-8499-4207-b78a-0a401723d15c\" xlink:actuate=\"onRequest\" xlink:href=\"psysml:430f5b70-8499-4207-b78a-0a401723d15c\" xlink:show=\"new\" xlink:title=\"psysml:430f5b70-8499-4207-b78a-0a401723d15c\" xlink:type=\"simple\"><polygon fill=\"#FFFFFF\" points=\"16,6,156,6,163,28.2969,467,28.2969,467,437,16,437,16,6\" style=\"stroke: #000000; stroke-width: 1.5;\"/><line style=\"stroke: #000000; stroke-width: 1.5;\" x1=\"16\" x2=\"163\" y1=\"28.2969\" y2=\"28.2969\"/><text fill=\"#000000\" font-family=\"sans-serif\" font-size=\"14\" font-weight=\"bold\" lengthAdjust=\"spacingAndGlyphs\" textLength=\"134\" x=\"20\" y=\"20.9951\">DependencyTest</text></a><!--MD5=[e4f7fae6ed58524ba242bb0b0d3be6b7]\n",
       "cluster E2--><a href=\"psysml:ef80acf8-3bbf-43fc-abea-40efc458e2ed\" target=\"_top\" title=\"psysml:ef80acf8-3bbf-43fc-abea-40efc458e2ed\" xlink:actuate=\"onRequest\" xlink:href=\"psysml:ef80acf8-3bbf-43fc-abea-40efc458e2ed\" xlink:show=\"new\" xlink:title=\"psysml:ef80acf8-3bbf-43fc-abea-40efc458e2ed\" xlink:type=\"simple\"><polygon fill=\"#FFFFFF\" points=\"255,49,319,49,326,71.2969,443,71.2969,443,413,255,413,255,49\" style=\"stroke: #000000; stroke-width: 1.5;\"/><line style=\"stroke: #000000; stroke-width: 1.5;\" x1=\"255\" x2=\"326\" y1=\"71.2969\" y2=\"71.2969\"/><text fill=\"#000000\" font-family=\"sans-serif\" font-size=\"14\" font-weight=\"bold\" lengthAdjust=\"spacingAndGlyphs\" textLength=\"58\" x=\"259\" y=\"63.9951\">System</text></a><!--MD5=[60a26617385b1d2d0262a64233df1f8d]\n",
       "class E6--><a href=\"psysml:f9adf18b-8dbf-4490-b33d-e9e2045e17b2\" target=\"_top\" title=\"psysml:f9adf18b-8dbf-4490-b33d-e9e2045e17b2\" xlink:actuate=\"onRequest\" xlink:href=\"psysml:f9adf18b-8dbf-4490-b33d-e9e2045e17b2\" xlink:show=\"new\" xlink:title=\"psysml:f9adf18b-8dbf-4490-b33d-e9e2045e17b2\" xlink:type=\"simple\"><rect fill=\"#FFFFFF\" height=\"45.9375\" id=\"E6\" rx=\"10\" ry=\"10\" style=\"stroke: #383838; stroke-width: 1.5;\" width=\"71\" x=\"32.5\" y=\"217.5\"/><text fill=\"#000000\" font-family=\"sans-serif\" font-size=\"12\" font-style=\"italic\" lengthAdjust=\"spacingAndGlyphs\" textLength=\"69\" x=\"33.5\" y=\"233.6387\">«attribute»</text><text fill=\"#000000\" font-family=\"sans-serif\" font-size=\"12\" lengthAdjust=\"spacingAndGlyphs\" textLength=\"6\" x=\"65\" y=\"247.6074\">x</text><line style=\"stroke: #383838; stroke-width: 1.5;\" x1=\"33.5\" x2=\"102.5\" y1=\"255.4375\" y2=\"255.4375\"/></a><!--MD5=[2156ba9850f5573cc1fc38a6a4b2f02b]\n",
       "class E7--><a href=\"psysml:b3547f0d-a84a-43aa-aeb1-8f3416005562\" target=\"_top\" title=\"psysml:b3547f0d-a84a-43aa-aeb1-8f3416005562\" xlink:actuate=\"onRequest\" xlink:href=\"psysml:b3547f0d-a84a-43aa-aeb1-8f3416005562\" xlink:show=\"new\" xlink:title=\"psysml:b3547f0d-a84a-43aa-aeb1-8f3416005562\" xlink:type=\"simple\"><rect fill=\"#FFFFFF\" height=\"45.9375\" id=\"E7\" rx=\"10\" ry=\"10\" style=\"stroke: #383838; stroke-width: 1.5;\" width=\"71\" x=\"138.5\" y=\"217.5\"/><text fill=\"#000000\" font-family=\"sans-serif\" font-size=\"12\" font-style=\"italic\" lengthAdjust=\"spacingAndGlyphs\" textLength=\"69\" x=\"139.5\" y=\"233.6387\">«attribute»</text><text fill=\"#000000\" font-family=\"sans-serif\" font-size=\"12\" lengthAdjust=\"spacingAndGlyphs\" textLength=\"6\" x=\"171\" y=\"247.6074\">y</text><line style=\"stroke: #383838; stroke-width: 1.5;\" x1=\"139.5\" x2=\"208.5\" y1=\"255.4375\" y2=\"255.4375\"/></a><!--MD5=[b9389687b975829384b498ac4b7476b2]\n",
       "class E8--><a href=\"psysml:06d3944d-d8a9-41b6-a7dc-ea1875e321b3\" target=\"_top\" title=\"psysml:06d3944d-d8a9-41b6-a7dc-ea1875e321b3\" xlink:actuate=\"onRequest\" xlink:href=\"psysml:06d3944d-d8a9-41b6-a7dc-ea1875e321b3\" xlink:show=\"new\" xlink:title=\"psysml:06d3944d-d8a9-41b6-a7dc-ea1875e321b3\" xlink:type=\"simple\"><rect fill=\"#FFFFFF\" height=\"45.9375\" id=\"E8\" rx=\"10\" ry=\"10\" style=\"stroke: #383838; stroke-width: 1.5;\" width=\"71\" x=\"84.5\" y=\"87.5\"/><text fill=\"#000000\" font-family=\"sans-serif\" font-size=\"12\" font-style=\"italic\" lengthAdjust=\"spacingAndGlyphs\" textLength=\"69\" x=\"85.5\" y=\"103.6387\">«attribute»</text><text fill=\"#000000\" font-family=\"sans-serif\" font-size=\"12\" lengthAdjust=\"spacingAndGlyphs\" textLength=\"5\" x=\"117.5\" y=\"117.6074\">z</text><line style=\"stroke: #383838; stroke-width: 1.5;\" x1=\"85.5\" x2=\"154.5\" y1=\"125.4375\" y2=\"125.4375\"/></a><a href=\"psysml:cb2f8149-aa3e-4482-91f3-ed1f7789b4f6\" target=\"_top\" title=\"psysml:cb2f8149-aa3e-4482-91f3-ed1f7789b4f6\" xlink:actuate=\"onRequest\" xlink:href=\"psysml:cb2f8149-aa3e-4482-91f3-ed1f7789b4f6\" xlink:show=\"new\" xlink:title=\"psysml:cb2f8149-aa3e-4482-91f3-ed1f7789b4f6\" xlink:type=\"simple\"><polygon fill=\"#FFFFFF\" points=\"271,84,413,84,420,106.2969,427,106.2969,427,136.5938,271,136.5938,271,84\" style=\"stroke: #000000; stroke-width: 1.5;\"/><line style=\"stroke: #000000; stroke-width: 1.5;\" x1=\"271\" x2=\"420\" y1=\"106.2969\" y2=\"106.2969\"/><text fill=\"#000000\" font-family=\"sans-serif\" font-size=\"14\" font-weight=\"bold\" lengthAdjust=\"spacingAndGlyphs\" textLength=\"136\" x=\"275\" y=\"98.9951\">Application Layer</text></a><a href=\"psysml:c90fac5e-4b06-46df-8524-0f31fe17b625\" target=\"_top\" title=\"psysml:c90fac5e-4b06-46df-8524-0f31fe17b625\" xlink:actuate=\"onRequest\" xlink:href=\"psysml:c90fac5e-4b06-46df-8524-0f31fe17b625\" xlink:show=\"new\" xlink:title=\"psysml:c90fac5e-4b06-46df-8524-0f31fe17b625\" xlink:type=\"simple\"><polygon fill=\"#FFFFFF\" points=\"285,214,399,214,406,236.2969,413,236.2969,413,266.5938,285,266.5938,285,214\" style=\"stroke: #000000; stroke-width: 1.5;\"/><line style=\"stroke: #000000; stroke-width: 1.5;\" x1=\"285\" x2=\"406\" y1=\"236.2969\" y2=\"236.2969\"/><text fill=\"#000000\" font-family=\"sans-serif\" font-size=\"14\" font-weight=\"bold\" lengthAdjust=\"spacingAndGlyphs\" textLength=\"108\" x=\"289\" y=\"228.9951\">Service Layer</text></a><a href=\"psysml:5945f028-85af-4284-8707-6581cfe8107d\" target=\"_top\" title=\"psysml:5945f028-85af-4284-8707-6581cfe8107d\" xlink:actuate=\"onRequest\" xlink:href=\"psysml:5945f028-85af-4284-8707-6581cfe8107d\" xlink:show=\"new\" xlink:title=\"psysml:5945f028-85af-4284-8707-6581cfe8107d\" xlink:type=\"simple\"><polygon fill=\"#FFFFFF\" points=\"297,344,387,344,394,366.2969,401,366.2969,401,396.5938,297,396.5938,297,344\" style=\"stroke: #000000; stroke-width: 1.5;\"/><line style=\"stroke: #000000; stroke-width: 1.5;\" x1=\"297\" x2=\"394\" y1=\"366.2969\" y2=\"366.2969\"/><text fill=\"#000000\" font-family=\"sans-serif\" font-size=\"14\" font-weight=\"bold\" lengthAdjust=\"spacingAndGlyphs\" textLength=\"84\" x=\"301\" y=\"358.9951\">Data Layer</text></a><!--MD5=[af87c684e3b0d8be13c1a698a818ef1e]\n",
       "link E3 to E4--><a href=\"psysml:71e7e357-685b-41cb-afa1-92571af689f5\" target=\"_top\" title=\"psysml:71e7e357-685b-41cb-afa1-92571af689f5\" xlink:actuate=\"onRequest\" xlink:href=\"psysml:71e7e357-685b-41cb-afa1-92571af689f5\" xlink:show=\"new\" xlink:title=\"psysml:71e7e357-685b-41cb-afa1-92571af689f5\" xlink:type=\"simple\"><path d=\"M349,137.1 C349,156.8 349,184.22 349,205.73 \" fill=\"none\" id=\"E3-&gt;E4\" style=\"stroke: #383838; stroke-width: 1.0; stroke-dasharray: 7.0,7.0;\"/><polygon fill=\"#383838\" points=\"349,213.95,352,205.95,346,205.95,349,213.95\" style=\"stroke: #383838; stroke-width: 1.0;\"/><text fill=\"#000000\" font-family=\"sans-serif\" font-size=\"13\" lengthAdjust=\"spacingAndGlyphs\" textLength=\"64\" x=\"350\" y=\"180.0669\">«depend»</text></a><!--MD5=[1b7591eae5389033d8d09a9d6721a717]\n",
       "link E4 to E5--><a href=\"psysml:1107382a-37f6-4d52-8c17-003f9fc0676e\" target=\"_top\" title=\"psysml:1107382a-37f6-4d52-8c17-003f9fc0676e\" xlink:actuate=\"onRequest\" xlink:href=\"psysml:1107382a-37f6-4d52-8c17-003f9fc0676e\" xlink:show=\"new\" xlink:title=\"psysml:1107382a-37f6-4d52-8c17-003f9fc0676e\" xlink:type=\"simple\"><path d=\"M349,267.1 C349,286.8 349,314.22 349,335.73 \" fill=\"none\" id=\"E4-&gt;E5\" style=\"stroke: #383838; stroke-width: 1.0; stroke-dasharray: 7.0,7.0;\"/><polygon fill=\"#383838\" points=\"349,343.95,352,335.95,346,335.95,349,343.95\" style=\"stroke: #383838; stroke-width: 1.0;\"/><text fill=\"#000000\" font-family=\"sans-serif\" font-size=\"13\" lengthAdjust=\"spacingAndGlyphs\" textLength=\"64\" x=\"350\" y=\"310.0669\">«depend»</text></a><!--MD5=[c5e8897d989ce984f93528998a7150fe]\n",
       "link E8 to E6--><a href=\"psysml:a975d936-bb91-4b85-9c47-7632192c23c3\" target=\"_top\" title=\"psysml:a975d936-bb91-4b85-9c47-7632192c23c3\" xlink:actuate=\"onRequest\" xlink:href=\"psysml:a975d936-bb91-4b85-9c47-7632192c23c3\" xlink:show=\"new\" xlink:title=\"psysml:a975d936-bb91-4b85-9c47-7632192c23c3\" xlink:type=\"simple\"><path d=\"M97.55,133.75 C81.97,149.19 64,167 64,167 C64,167 64,184 64,184 C64,184 64.88,196.21 65.81,209.18 \" fill=\"none\" id=\"E8-&gt;E6\" style=\"stroke: #383838; stroke-width: 1.0; stroke-dasharray: 7.0,7.0;\"/><polygon fill=\"#383838\" points=\"66.4,217.25,68.8203,209.056,62.8357,209.485,66.4,217.25\" style=\"stroke: #383838; stroke-width: 1.0;\"/><text fill=\"#000000\" font-family=\"sans-serif\" font-size=\"13\" lengthAdjust=\"spacingAndGlyphs\" textLength=\"64\" x=\"65\" y=\"180.0669\">«depend»</text></a><!--MD5=[bfa3c8b0d15052fdf50ae9310b491027]\n",
       "link E8 to E7--><a href=\"psysml:a975d936-bb91-4b85-9c47-7632192c23c3\" target=\"_top\" title=\"psysml:a975d936-bb91-4b85-9c47-7632192c23c3\" xlink:actuate=\"onRequest\" xlink:href=\"psysml:a975d936-bb91-4b85-9c47-7632192c23c3\" xlink:show=\"new\" xlink:title=\"psysml:a975d936-bb91-4b85-9c47-7632192c23c3\" xlink:type=\"simple\"><path d=\"M129.28,133.5 C138.17,154.57 151.64,186.5 161.47,209.81 \" fill=\"none\" id=\"E8-&gt;E7\" style=\"stroke: #383838; stroke-width: 1.0; stroke-dasharray: 7.0,7.0;\"/><polygon fill=\"#383838\" points=\"164.66,217.35,164.3241,208.8126,158.7933,211.1385,164.66,217.35\" style=\"stroke: #383838; stroke-width: 1.0;\"/><text fill=\"#000000\" font-family=\"sans-serif\" font-size=\"13\" lengthAdjust=\"spacingAndGlyphs\" textLength=\"64\" x=\"151\" y=\"180.0669\">«depend»</text></a><!--MD5=[6fd2500ad82e3bebee0e478c251e7150]\n",
       "@startuml\r\n",
       "skinparam linetype polyline\r\n",
       "skinparam monochrome true\r\n",
       "skinparam classbackgroundcolor white\r\n",
       "skinparam shadowing false\r\n",
       "skinparam wrapWidth 300\r\n",
       "hide circle\r\n",
       "\r\n",
       "package \"DependencyTest\" as E1  [[psysml:430f5b70-8499-4207-b78a-0a401723d15c ]]  {\r\n",
       "package \"System\" as E2  [[psysml:ef80acf8-3bbf-43fc-abea-40efc458e2ed ]]  {\r\n",
       "package \"Application Layer\" as E3  [[psysml:cb2f8149-aa3e-4482-91f3-ed1f7789b4f6 ]]  {\r\n",
       "}\r\n",
       "package \"Service Layer\" as E4  [[psysml:c90fac5e-4b06-46df-8524-0f31fe17b625 ]]  {\r\n",
       "}\r\n",
       "package \"Data Layer\" as E5  [[psysml:5945f028-85af-4284-8707-6581cfe8107d ]]  {\r\n",
       "}\r\n",
       "}\r\n",
       "comp usage \"x\" as E6  <<(T,blue)attribute>> [[psysml:f9adf18b-8dbf-4490-b33d-e9e2045e17b2 ]] {\r\n",
       "}\r\n",
       "comp usage \"y\" as E7  <<(T,blue)attribute>> [[psysml:b3547f0d-a84a-43aa-aeb1-8f3416005562 ]] {\r\n",
       "}\r\n",
       "comp usage \"z\" as E8  <<(T,blue)attribute>> [[psysml:06d3944d-d8a9-41b6-a7dc-ea1875e321b3 ]] {\r\n",
       "}\r\n",
       "E3 ..>> E4 [[psysml:71e7e357-685b-41cb-afa1-92571af689f5 ]] : <<depend>>\r\n",
       "E4 ..>> E5 [[psysml:1107382a-37f6-4d52-8c17-003f9fc0676e ]] : <<depend>>\r\n",
       "E8 ..>> E6 [[psysml:a975d936-bb91-4b85-9c47-7632192c23c3 ]] : <<depend>>\r\n",
       "E8 ..>> E7 [[psysml:a975d936-bb91-4b85-9c47-7632192c23c3 ]] : <<depend>>\r\n",
       "}\r\n",
       "@enduml\r\n",
       "\n",
       "PlantUML version 1.2020.13(Sat Jun 13 12:26:38 UTC 2020)\n",
       "(EPL source distribution)\n",
       "Java Runtime: OpenJDK Runtime Environment\n",
       "JVM: OpenJDK 64-Bit Server VM\n",
       "Default Encoding: UTF-8\n",
       "Language: en\n",
       "Country: null\n",
       "--></g></svg>"
      ]
     },
     "execution_count": 10,
     "metadata": {},
     "output_type": "execute_result"
    }
   ],
   "source": [
    "%viz --style=\"POLYLINE\" --view=\"Tree\" \"DependencyTest\""
   ]
  },
  {
   "cell_type": "code",
   "execution_count": 11,
   "id": "little-malta",
   "metadata": {
    "execution": {
     "iopub.execute_input": "2021-03-25T13:51:41.723312Z",
     "iopub.status.busy": "2021-03-25T13:51:41.722438Z",
     "iopub.status.idle": "2021-03-25T13:51:41.732502Z",
     "shell.execute_reply": "2021-03-25T13:51:41.732890Z"
    }
   },
   "outputs": [
    {
     "data": {
      "image/svg+xml": [
       "<?xml version=\"1.0\" encoding=\"UTF-8\" standalone=\"no\"?><svg xmlns=\"http://www.w3.org/2000/svg\" xmlns:xlink=\"http://www.w3.org/1999/xlink\" contentScriptType=\"application/ecmascript\" contentStyleType=\"text/css\" height=\"12px\" preserveAspectRatio=\"none\" style=\"width:12px;height:12px;\" version=\"1.1\" viewBox=\"0 0 12 12\" width=\"12px\" zoomAndPan=\"magnify\"><defs/><g><!--MD5=[896ac0e7a515d8dd7765a661cb4ee08b]\n",
       "@startuml\r\n",
       "skinparam linetype polyline\r\n",
       "skinparam monochrome true\r\n",
       "skinparam classbackgroundcolor white\r\n",
       "skinparam shadowing false\r\n",
       "skinparam wrapWidth 300\r\n",
       "hide circle\r\n",
       "\r\n",
       "@enduml\r\n",
       "\n",
       "PlantUML version 1.2020.13(Sat Jun 13 12:26:38 UTC 2020)\n",
       "(EPL source distribution)\n",
       "Java Runtime: OpenJDK Runtime Environment\n",
       "JVM: OpenJDK 64-Bit Server VM\n",
       "Default Encoding: UTF-8\n",
       "Language: en\n",
       "Country: null\n",
       "--></g></svg>"
      ]
     },
     "execution_count": 11,
     "metadata": {},
     "output_type": "execute_result"
    }
   ],
   "source": [
    "%viz --style=\"POLYLINE\" --view=\"State\" \"DependencyTest\""
   ]
  },
  {
   "cell_type": "code",
   "execution_count": 12,
   "id": "standard-notice",
   "metadata": {
    "execution": {
     "iopub.execute_input": "2021-03-25T13:51:41.785935Z",
     "iopub.status.busy": "2021-03-25T13:51:41.784527Z",
     "iopub.status.idle": "2021-03-25T13:51:41.908194Z",
     "shell.execute_reply": "2021-03-25T13:51:41.908681Z"
    }
   },
   "outputs": [
    {
     "data": {
      "image/svg+xml": [
       "<?xml version=\"1.0\" encoding=\"UTF-8\" standalone=\"no\"?><svg xmlns=\"http://www.w3.org/2000/svg\" xmlns:xlink=\"http://www.w3.org/1999/xlink\" contentScriptType=\"application/ecmascript\" contentStyleType=\"text/css\" height=\"361px\" preserveAspectRatio=\"none\" style=\"width:489px;height:361px;\" version=\"1.1\" viewBox=\"0 0 489 361\" width=\"489px\" zoomAndPan=\"magnify\"><defs/><g><!--MD5=[fbc87193dbaf4d95561dea2c320d4a47]\n",
       "cluster E1--><a href=\"psysml:430f5b70-8499-4207-b78a-0a401723d15c\" target=\"_top\" title=\"psysml:430f5b70-8499-4207-b78a-0a401723d15c\" xlink:actuate=\"onRequest\" xlink:href=\"psysml:430f5b70-8499-4207-b78a-0a401723d15c\" xlink:show=\"new\" xlink:title=\"psysml:430f5b70-8499-4207-b78a-0a401723d15c\" xlink:type=\"simple\"><polygon fill=\"#FFFFFF\" points=\"16,6,156,6,163,28.2969,467,28.2969,467,349,16,349,16,6\" style=\"stroke: #000000; stroke-width: 1.5;\"/><line style=\"stroke: #000000; stroke-width: 1.5;\" x1=\"16\" x2=\"163\" y1=\"28.2969\" y2=\"28.2969\"/><text fill=\"#000000\" font-family=\"sans-serif\" font-size=\"14\" font-weight=\"bold\" lengthAdjust=\"spacingAndGlyphs\" textLength=\"134\" x=\"20\" y=\"20.9951\">DependencyTest</text></a><!--MD5=[e4f7fae6ed58524ba242bb0b0d3be6b7]\n",
       "cluster E2--><a href=\"psysml:ef80acf8-3bbf-43fc-abea-40efc458e2ed\" target=\"_top\" title=\"psysml:ef80acf8-3bbf-43fc-abea-40efc458e2ed\" xlink:actuate=\"onRequest\" xlink:href=\"psysml:ef80acf8-3bbf-43fc-abea-40efc458e2ed\" xlink:show=\"new\" xlink:title=\"psysml:ef80acf8-3bbf-43fc-abea-40efc458e2ed\" xlink:type=\"simple\"><polygon fill=\"#FFFFFF\" points=\"255,49,319,49,326,71.2969,443,71.2969,443,325,255,325,255,49\" style=\"stroke: #000000; stroke-width: 1.5;\"/><line style=\"stroke: #000000; stroke-width: 1.5;\" x1=\"255\" x2=\"326\" y1=\"71.2969\" y2=\"71.2969\"/><text fill=\"#000000\" font-family=\"sans-serif\" font-size=\"14\" font-weight=\"bold\" lengthAdjust=\"spacingAndGlyphs\" textLength=\"58\" x=\"259\" y=\"63.9951\">System</text></a><a href=\"psysml:cb2f8149-aa3e-4482-91f3-ed1f7789b4f6\" target=\"_top\" title=\"psysml:cb2f8149-aa3e-4482-91f3-ed1f7789b4f6\" xlink:actuate=\"onRequest\" xlink:href=\"psysml:cb2f8149-aa3e-4482-91f3-ed1f7789b4f6\" xlink:show=\"new\" xlink:title=\"psysml:cb2f8149-aa3e-4482-91f3-ed1f7789b4f6\" xlink:type=\"simple\"><polygon fill=\"#FFFFFF\" points=\"271,84,413,84,420,106.2969,427,106.2969,427,136.5938,271,136.5938,271,84\" style=\"stroke: #000000; stroke-width: 1.5;\"/><line style=\"stroke: #000000; stroke-width: 1.5;\" x1=\"271\" x2=\"420\" y1=\"106.2969\" y2=\"106.2969\"/><text fill=\"#000000\" font-family=\"sans-serif\" font-size=\"14\" font-weight=\"bold\" lengthAdjust=\"spacingAndGlyphs\" textLength=\"136\" x=\"275\" y=\"98.9951\">Application Layer</text></a><a href=\"psysml:c90fac5e-4b06-46df-8524-0f31fe17b625\" target=\"_top\" title=\"psysml:c90fac5e-4b06-46df-8524-0f31fe17b625\" xlink:actuate=\"onRequest\" xlink:href=\"psysml:c90fac5e-4b06-46df-8524-0f31fe17b625\" xlink:show=\"new\" xlink:title=\"psysml:c90fac5e-4b06-46df-8524-0f31fe17b625\" xlink:type=\"simple\"><polygon fill=\"#FFFFFF\" points=\"285,170,399,170,406,192.2969,413,192.2969,413,222.5938,285,222.5938,285,170\" style=\"stroke: #000000; stroke-width: 1.5;\"/><line style=\"stroke: #000000; stroke-width: 1.5;\" x1=\"285\" x2=\"406\" y1=\"192.2969\" y2=\"192.2969\"/><text fill=\"#000000\" font-family=\"sans-serif\" font-size=\"14\" font-weight=\"bold\" lengthAdjust=\"spacingAndGlyphs\" textLength=\"108\" x=\"289\" y=\"184.9951\">Service Layer</text></a><a href=\"psysml:5945f028-85af-4284-8707-6581cfe8107d\" target=\"_top\" title=\"psysml:5945f028-85af-4284-8707-6581cfe8107d\" xlink:actuate=\"onRequest\" xlink:href=\"psysml:5945f028-85af-4284-8707-6581cfe8107d\" xlink:show=\"new\" xlink:title=\"psysml:5945f028-85af-4284-8707-6581cfe8107d\" xlink:type=\"simple\"><polygon fill=\"#FFFFFF\" points=\"297,256,387,256,394,278.2969,401,278.2969,401,308.5938,297,308.5938,297,256\" style=\"stroke: #000000; stroke-width: 1.5;\"/><line style=\"stroke: #000000; stroke-width: 1.5;\" x1=\"297\" x2=\"394\" y1=\"278.2969\" y2=\"278.2969\"/><text fill=\"#000000\" font-family=\"sans-serif\" font-size=\"14\" font-weight=\"bold\" lengthAdjust=\"spacingAndGlyphs\" textLength=\"84\" x=\"301\" y=\"270.9951\">Data Layer</text></a><g id=\"E1.E6\"><a href=\"psysml:f9adf18b-8dbf-4490-b33d-e9e2045e17b2\" target=\"_top\" title=\"psysml:f9adf18b-8dbf-4490-b33d-e9e2045e17b2\" xlink:actuate=\"onRequest\" xlink:href=\"psysml:f9adf18b-8dbf-4490-b33d-e9e2045e17b2\" xlink:show=\"new\" xlink:title=\"psysml:f9adf18b-8dbf-4490-b33d-e9e2045e17b2\" xlink:type=\"simple\"><rect fill=\"#FFFFFF\" height=\"42.9375\" id=\"E6\" rx=\"10\" ry=\"10\" style=\"stroke: #383838; stroke-width: 1.5;\" width=\"76\" x=\"32\" y=\"175\"/><rect fill=\"#F8F8F8\" height=\"37.9375\" rx=\"10\" ry=\"10\" style=\"stroke: #F8F8F8; stroke-width: 1.5;\" width=\"76\" x=\"32\" y=\"175\"/><rect fill=\"#F8F8F8\" height=\"10\" style=\"stroke: #F8F8F8; stroke-width: 1.5;\" width=\"76\" x=\"32\" y=\"202.9375\"/><rect fill=\"none\" height=\"42.9375\" id=\"E6\" rx=\"10\" ry=\"10\" style=\"stroke: #383838; stroke-width: 1.5;\" width=\"76\" x=\"32\" y=\"175\"/><text fill=\"#000000\" font-family=\"sans-serif\" font-size=\"12\" font-style=\"italic\" lengthAdjust=\"spacingAndGlyphs\" textLength=\"69\" x=\"35.5\" y=\"191.1387\">«attribute»</text><text fill=\"#000000\" font-family=\"sans-serif\" font-size=\"12\" lengthAdjust=\"spacingAndGlyphs\" textLength=\"6\" x=\"67\" y=\"205.1074\">x</text></a></g><g id=\"E1.E7\"><a href=\"psysml:b3547f0d-a84a-43aa-aeb1-8f3416005562\" target=\"_top\" title=\"psysml:b3547f0d-a84a-43aa-aeb1-8f3416005562\" xlink:actuate=\"onRequest\" xlink:href=\"psysml:b3547f0d-a84a-43aa-aeb1-8f3416005562\" xlink:show=\"new\" xlink:title=\"psysml:b3547f0d-a84a-43aa-aeb1-8f3416005562\" xlink:type=\"simple\"><rect fill=\"#FFFFFF\" height=\"42.9375\" id=\"E7\" rx=\"10\" ry=\"10\" style=\"stroke: #383838; stroke-width: 1.5;\" width=\"76\" x=\"143\" y=\"175\"/><rect fill=\"#F8F8F8\" height=\"37.9375\" rx=\"10\" ry=\"10\" style=\"stroke: #F8F8F8; stroke-width: 1.5;\" width=\"76\" x=\"143\" y=\"175\"/><rect fill=\"#F8F8F8\" height=\"10\" style=\"stroke: #F8F8F8; stroke-width: 1.5;\" width=\"76\" x=\"143\" y=\"202.9375\"/><rect fill=\"none\" height=\"42.9375\" id=\"E7\" rx=\"10\" ry=\"10\" style=\"stroke: #383838; stroke-width: 1.5;\" width=\"76\" x=\"143\" y=\"175\"/><text fill=\"#000000\" font-family=\"sans-serif\" font-size=\"12\" font-style=\"italic\" lengthAdjust=\"spacingAndGlyphs\" textLength=\"69\" x=\"146.5\" y=\"191.1387\">«attribute»</text><text fill=\"#000000\" font-family=\"sans-serif\" font-size=\"12\" lengthAdjust=\"spacingAndGlyphs\" textLength=\"6\" x=\"178\" y=\"205.1074\">y</text></a></g><g id=\"E1.E8\"><a href=\"psysml:06d3944d-d8a9-41b6-a7dc-ea1875e321b3\" target=\"_top\" title=\"psysml:06d3944d-d8a9-41b6-a7dc-ea1875e321b3\" xlink:actuate=\"onRequest\" xlink:href=\"psysml:06d3944d-d8a9-41b6-a7dc-ea1875e321b3\" xlink:show=\"new\" xlink:title=\"psysml:06d3944d-d8a9-41b6-a7dc-ea1875e321b3\" xlink:type=\"simple\"><rect fill=\"#FFFFFF\" height=\"42.9375\" id=\"E8\" rx=\"10\" ry=\"10\" style=\"stroke: #383838; stroke-width: 1.5;\" width=\"76\" x=\"83\" y=\"89\"/><rect fill=\"#F8F8F8\" height=\"37.9375\" rx=\"10\" ry=\"10\" style=\"stroke: #F8F8F8; stroke-width: 1.5;\" width=\"76\" x=\"83\" y=\"89\"/><rect fill=\"#F8F8F8\" height=\"10\" style=\"stroke: #F8F8F8; stroke-width: 1.5;\" width=\"76\" x=\"83\" y=\"116.9375\"/><rect fill=\"none\" height=\"42.9375\" id=\"E8\" rx=\"10\" ry=\"10\" style=\"stroke: #383838; stroke-width: 1.5;\" width=\"76\" x=\"83\" y=\"89\"/><text fill=\"#000000\" font-family=\"sans-serif\" font-size=\"12\" font-style=\"italic\" lengthAdjust=\"spacingAndGlyphs\" textLength=\"69\" x=\"86.5\" y=\"105.1387\">«attribute»</text><text fill=\"#000000\" font-family=\"sans-serif\" font-size=\"12\" lengthAdjust=\"spacingAndGlyphs\" textLength=\"5\" x=\"118.5\" y=\"119.1074\">z</text></a></g><!--MD5=[af87c684e3b0d8be13c1a698a818ef1e]\n",
       "link E3 to E4--><a href=\"psysml:71e7e357-685b-41cb-afa1-92571af689f5\" target=\"_top\" title=\"psysml:71e7e357-685b-41cb-afa1-92571af689f5\" xlink:actuate=\"onRequest\" xlink:href=\"psysml:71e7e357-685b-41cb-afa1-92571af689f5\" xlink:show=\"new\" xlink:title=\"psysml:71e7e357-685b-41cb-afa1-92571af689f5\" xlink:type=\"simple\"><path d=\"M349,137.16 C349,144.98 349,153.69 349,161.94 \" fill=\"none\" id=\"E3-&gt;E4\" style=\"stroke: #383838; stroke-width: 1.0; stroke-dasharray: 7.0,7.0;\"/><polygon fill=\"#383838\" points=\"349,170,352,162,346,162,349,170\" style=\"stroke: #383838; stroke-width: 1.0;\"/><text fill=\"#000000\" font-family=\"sans-serif\" font-size=\"13\" lengthAdjust=\"spacingAndGlyphs\" textLength=\"64\" x=\"350\" y=\"158.0669\">«depend»</text></a><!--MD5=[1b7591eae5389033d8d09a9d6721a717]\n",
       "link E4 to E5--><a href=\"psysml:1107382a-37f6-4d52-8c17-003f9fc0676e\" target=\"_top\" title=\"psysml:1107382a-37f6-4d52-8c17-003f9fc0676e\" xlink:actuate=\"onRequest\" xlink:href=\"psysml:1107382a-37f6-4d52-8c17-003f9fc0676e\" xlink:show=\"new\" xlink:title=\"psysml:1107382a-37f6-4d52-8c17-003f9fc0676e\" xlink:type=\"simple\"><path d=\"M349,223.16 C349,230.98 349,239.69 349,247.94 \" fill=\"none\" id=\"E4-&gt;E5\" style=\"stroke: #383838; stroke-width: 1.0; stroke-dasharray: 7.0,7.0;\"/><polygon fill=\"#383838\" points=\"349,256,352,248,346,248,349,256\" style=\"stroke: #383838; stroke-width: 1.0;\"/><text fill=\"#000000\" font-family=\"sans-serif\" font-size=\"13\" lengthAdjust=\"spacingAndGlyphs\" textLength=\"64\" x=\"350\" y=\"244.0669\">«depend»</text></a><!--MD5=[c5e8897d989ce984f93528998a7150fe]\n",
       "link E8 to E6--><a href=\"psysml:a975d936-bb91-4b85-9c47-7632192c23c3\" target=\"_top\" title=\"psysml:a975d936-bb91-4b85-9c47-7632192c23c3\" xlink:actuate=\"onRequest\" xlink:href=\"psysml:a975d936-bb91-4b85-9c47-7632192c23c3\" xlink:show=\"new\" xlink:title=\"psysml:a975d936-bb91-4b85-9c47-7632192c23c3\" xlink:type=\"simple\"><path d=\"M85.87,132.14 C74.14,139.04 64,145 64,145 C64,145 64,162 64,162 C64,162 64.34,163.89 64.85,166.76 \" fill=\"none\" id=\"E8-&gt;E6\" style=\"stroke: #383838; stroke-width: 1.0; stroke-dasharray: 7.0,7.0;\"/><polygon fill=\"#383838\" points=\"66.3,174.86,67.838,166.4556,61.9325,167.5166,66.3,174.86\" style=\"stroke: #383838; stroke-width: 1.0;\"/><text fill=\"#000000\" font-family=\"sans-serif\" font-size=\"13\" lengthAdjust=\"spacingAndGlyphs\" textLength=\"64\" x=\"65\" y=\"158.0669\">«depend»</text></a><!--MD5=[bfa3c8b0d15052fdf50ae9310b491027]\n",
       "link E8 to E7--><a href=\"psysml:a975d936-bb91-4b85-9c47-7632192c23c3\" target=\"_top\" title=\"psysml:a975d936-bb91-4b85-9c47-7632192c23c3\" xlink:actuate=\"onRequest\" xlink:href=\"psysml:a975d936-bb91-4b85-9c47-7632192c23c3\" xlink:show=\"new\" xlink:title=\"psysml:a975d936-bb91-4b85-9c47-7632192c23c3\" xlink:type=\"simple\"><path d=\"M135.83,132.26 C143.61,143.15 153.22,156.61 161.59,168.32 \" fill=\"none\" id=\"E8-&gt;E7\" style=\"stroke: #383838; stroke-width: 1.0; stroke-dasharray: 7.0,7.0;\"/><polygon fill=\"#383838\" points=\"166.34,174.97,164.1399,166.7141,159.2538,170.1965,166.34,174.97\" style=\"stroke: #383838; stroke-width: 1.0;\"/><text fill=\"#000000\" font-family=\"sans-serif\" font-size=\"13\" lengthAdjust=\"spacingAndGlyphs\" textLength=\"64\" x=\"157\" y=\"158.0669\">«depend»</text></a><!--MD5=[5873c26c5e434540433894b263fc218a]\n",
       "@startuml\r\n",
       "skinparam ranksep 8\r\n",
       "skinparam rectangle {\r\n",
       " backgroundColor<<block>> LightGreen\r\n",
       "}\r\n",
       "skinparam linetype polyline\r\n",
       "skinparam monochrome true\r\n",
       "skinparam classbackgroundcolor white\r\n",
       "skinparam shadowing false\r\n",
       "skinparam wrapWidth 300\r\n",
       "hide circle\r\n",
       "\r\n",
       "package \"DependencyTest\" as E1  [[psysml:430f5b70-8499-4207-b78a-0a401723d15c ]]  {\r\n",
       "package \"System\" as E2  [[psysml:ef80acf8-3bbf-43fc-abea-40efc458e2ed ]]  {\r\n",
       "package \"Application Layer\" as E3  [[psysml:cb2f8149-aa3e-4482-91f3-ed1f7789b4f6 ]]  {\r\n",
       "}\r\n",
       "package \"Service Layer\" as E4  [[psysml:c90fac5e-4b06-46df-8524-0f31fe17b625 ]]  {\r\n",
       "}\r\n",
       "package \"Data Layer\" as E5  [[psysml:5945f028-85af-4284-8707-6581cfe8107d ]]  {\r\n",
       "}\r\n",
       "}\r\n",
       "rec usage \"x\" as E6  <<(T,blue)attribute>> [[psysml:f9adf18b-8dbf-4490-b33d-e9e2045e17b2 ]] {\r\n",
       "}\r\n",
       "rec usage \"y\" as E7  <<(T,blue)attribute>> [[psysml:b3547f0d-a84a-43aa-aeb1-8f3416005562 ]] {\r\n",
       "}\r\n",
       "rec usage \"z\" as E8  <<(T,blue)attribute>> [[psysml:06d3944d-d8a9-41b6-a7dc-ea1875e321b3 ]] {\r\n",
       "}\r\n",
       "E3 ..>> E4 [[psysml:71e7e357-685b-41cb-afa1-92571af689f5 ]] : <<depend>>\r\n",
       "E4 ..>> E5 [[psysml:1107382a-37f6-4d52-8c17-003f9fc0676e ]] : <<depend>>\r\n",
       "E8 ..>> E6 [[psysml:a975d936-bb91-4b85-9c47-7632192c23c3 ]] : <<depend>>\r\n",
       "E8 ..>> E7 [[psysml:a975d936-bb91-4b85-9c47-7632192c23c3 ]] : <<depend>>\r\n",
       "}\r\n",
       "@enduml\r\n",
       "\n",
       "PlantUML version 1.2020.13(Sat Jun 13 12:26:38 UTC 2020)\n",
       "(EPL source distribution)\n",
       "Java Runtime: OpenJDK Runtime Environment\n",
       "JVM: OpenJDK 64-Bit Server VM\n",
       "Default Encoding: UTF-8\n",
       "Language: en\n",
       "Country: null\n",
       "--></g></svg>"
      ]
     },
     "execution_count": 12,
     "metadata": {},
     "output_type": "execute_result"
    }
   ],
   "source": [
    "%viz --style=\"POLYLINE\" --view=\"Interconnection\" \"DependencyTest\""
   ]
  },
  {
   "cell_type": "code",
   "execution_count": 13,
   "id": "applied-newcastle",
   "metadata": {
    "execution": {
     "iopub.execute_input": "2021-03-25T13:51:41.958553Z",
     "iopub.status.busy": "2021-03-25T13:51:41.958063Z",
     "iopub.status.idle": "2021-03-25T13:51:41.967501Z",
     "shell.execute_reply": "2021-03-25T13:51:41.967937Z"
    }
   },
   "outputs": [
    {
     "data": {
      "image/svg+xml": [
       "<?xml version=\"1.0\" encoding=\"UTF-8\" standalone=\"no\"?><svg xmlns=\"http://www.w3.org/2000/svg\" xmlns:xlink=\"http://www.w3.org/1999/xlink\" contentScriptType=\"application/ecmascript\" contentStyleType=\"text/css\" height=\"12px\" preserveAspectRatio=\"none\" style=\"width:12px;height:12px;\" version=\"1.1\" viewBox=\"0 0 12 12\" width=\"12px\" zoomAndPan=\"magnify\"><defs/><g><!--MD5=[97bbf32f66ccd50cbc40d92ea8f5a65e]\n",
       "@startuml\r\n",
       "skinparam ranksep 8\r\n",
       "skinparam linetype polyline\r\n",
       "skinparam monochrome true\r\n",
       "skinparam classbackgroundcolor white\r\n",
       "skinparam shadowing false\r\n",
       "skinparam wrapWidth 300\r\n",
       "hide circle\r\n",
       "\r\n",
       "@enduml\r\n",
       "\n",
       "PlantUML version 1.2020.13(Sat Jun 13 12:26:38 UTC 2020)\n",
       "(EPL source distribution)\n",
       "Java Runtime: OpenJDK Runtime Environment\n",
       "JVM: OpenJDK 64-Bit Server VM\n",
       "Default Encoding: UTF-8\n",
       "Language: en\n",
       "Country: null\n",
       "--></g></svg>"
      ]
     },
     "execution_count": 13,
     "metadata": {},
     "output_type": "execute_result"
    }
   ],
   "source": [
    "%viz --style=\"POLYLINE\" --view=\"Action\" \"DependencyTest\""
   ]
  },
  {
   "cell_type": "code",
   "execution_count": 14,
   "id": "olympic-colonial",
   "metadata": {
    "execution": {
     "iopub.execute_input": "2021-03-25T13:51:42.020198Z",
     "iopub.status.busy": "2021-03-25T13:51:42.019536Z",
     "iopub.status.idle": "2021-03-25T13:51:42.127052Z",
     "shell.execute_reply": "2021-03-25T13:51:42.127518Z"
    }
   },
   "outputs": [
    {
     "data": {
      "image/svg+xml": [
       "<?xml version=\"1.0\" encoding=\"UTF-8\" standalone=\"no\"?><svg xmlns=\"http://www.w3.org/2000/svg\" xmlns:xlink=\"http://www.w3.org/1999/xlink\" contentScriptType=\"application/ecmascript\" contentStyleType=\"text/css\" height=\"449px\" preserveAspectRatio=\"none\" style=\"width:489px;height:449px;\" version=\"1.1\" viewBox=\"0 0 489 449\" width=\"489px\" zoomAndPan=\"magnify\"><defs/><g><!--MD5=[fbc87193dbaf4d95561dea2c320d4a47]\n",
       "cluster E1--><a href=\"psysml:430f5b70-8499-4207-b78a-0a401723d15c\" target=\"_top\" title=\"psysml:430f5b70-8499-4207-b78a-0a401723d15c\" xlink:actuate=\"onRequest\" xlink:href=\"psysml:430f5b70-8499-4207-b78a-0a401723d15c\" xlink:show=\"new\" xlink:title=\"psysml:430f5b70-8499-4207-b78a-0a401723d15c\" xlink:type=\"simple\"><polygon fill=\"#FFFFFF\" points=\"16,6,156,6,163,28.2969,467,28.2969,467,437,16,437,16,6\" style=\"stroke: #000000; stroke-width: 1.5;\"/><line style=\"stroke: #000000; stroke-width: 1.5;\" x1=\"16\" x2=\"163\" y1=\"28.2969\" y2=\"28.2969\"/><text fill=\"#000000\" font-family=\"sans-serif\" font-size=\"14\" font-weight=\"bold\" lengthAdjust=\"spacingAndGlyphs\" textLength=\"134\" x=\"20\" y=\"20.9951\">DependencyTest</text></a><!--MD5=[e4f7fae6ed58524ba242bb0b0d3be6b7]\n",
       "cluster E2--><a href=\"psysml:ef80acf8-3bbf-43fc-abea-40efc458e2ed\" target=\"_top\" title=\"psysml:ef80acf8-3bbf-43fc-abea-40efc458e2ed\" xlink:actuate=\"onRequest\" xlink:href=\"psysml:ef80acf8-3bbf-43fc-abea-40efc458e2ed\" xlink:show=\"new\" xlink:title=\"psysml:ef80acf8-3bbf-43fc-abea-40efc458e2ed\" xlink:type=\"simple\"><polygon fill=\"#FFFFFF\" points=\"255,49,319,49,326,71.2969,443,71.2969,443,413,255,413,255,49\" style=\"stroke: #000000; stroke-width: 1.5;\"/><line style=\"stroke: #000000; stroke-width: 1.5;\" x1=\"255\" x2=\"326\" y1=\"71.2969\" y2=\"71.2969\"/><text fill=\"#000000\" font-family=\"sans-serif\" font-size=\"14\" font-weight=\"bold\" lengthAdjust=\"spacingAndGlyphs\" textLength=\"58\" x=\"259\" y=\"63.9951\">System</text></a><!--MD5=[60a26617385b1d2d0262a64233df1f8d]\n",
       "class E6--><a href=\"psysml:f9adf18b-8dbf-4490-b33d-e9e2045e17b2\" target=\"_top\" title=\"psysml:f9adf18b-8dbf-4490-b33d-e9e2045e17b2\" xlink:actuate=\"onRequest\" xlink:href=\"psysml:f9adf18b-8dbf-4490-b33d-e9e2045e17b2\" xlink:show=\"new\" xlink:title=\"psysml:f9adf18b-8dbf-4490-b33d-e9e2045e17b2\" xlink:type=\"simple\"><rect fill=\"#FFFFFF\" height=\"45.9375\" id=\"E6\" rx=\"10\" ry=\"10\" style=\"stroke: #383838; stroke-width: 1.5;\" width=\"71\" x=\"32.5\" y=\"217.5\"/><text fill=\"#000000\" font-family=\"sans-serif\" font-size=\"12\" font-style=\"italic\" lengthAdjust=\"spacingAndGlyphs\" textLength=\"69\" x=\"33.5\" y=\"233.6387\">«attribute»</text><text fill=\"#000000\" font-family=\"sans-serif\" font-size=\"12\" lengthAdjust=\"spacingAndGlyphs\" textLength=\"6\" x=\"65\" y=\"247.6074\">x</text><line style=\"stroke: #383838; stroke-width: 1.5;\" x1=\"33.5\" x2=\"102.5\" y1=\"255.4375\" y2=\"255.4375\"/></a><!--MD5=[2156ba9850f5573cc1fc38a6a4b2f02b]\n",
       "class E7--><a href=\"psysml:b3547f0d-a84a-43aa-aeb1-8f3416005562\" target=\"_top\" title=\"psysml:b3547f0d-a84a-43aa-aeb1-8f3416005562\" xlink:actuate=\"onRequest\" xlink:href=\"psysml:b3547f0d-a84a-43aa-aeb1-8f3416005562\" xlink:show=\"new\" xlink:title=\"psysml:b3547f0d-a84a-43aa-aeb1-8f3416005562\" xlink:type=\"simple\"><rect fill=\"#FFFFFF\" height=\"45.9375\" id=\"E7\" rx=\"10\" ry=\"10\" style=\"stroke: #383838; stroke-width: 1.5;\" width=\"71\" x=\"138.5\" y=\"217.5\"/><text fill=\"#000000\" font-family=\"sans-serif\" font-size=\"12\" font-style=\"italic\" lengthAdjust=\"spacingAndGlyphs\" textLength=\"69\" x=\"139.5\" y=\"233.6387\">«attribute»</text><text fill=\"#000000\" font-family=\"sans-serif\" font-size=\"12\" lengthAdjust=\"spacingAndGlyphs\" textLength=\"6\" x=\"171\" y=\"247.6074\">y</text><line style=\"stroke: #383838; stroke-width: 1.5;\" x1=\"139.5\" x2=\"208.5\" y1=\"255.4375\" y2=\"255.4375\"/></a><!--MD5=[b9389687b975829384b498ac4b7476b2]\n",
       "class E8--><a href=\"psysml:06d3944d-d8a9-41b6-a7dc-ea1875e321b3\" target=\"_top\" title=\"psysml:06d3944d-d8a9-41b6-a7dc-ea1875e321b3\" xlink:actuate=\"onRequest\" xlink:href=\"psysml:06d3944d-d8a9-41b6-a7dc-ea1875e321b3\" xlink:show=\"new\" xlink:title=\"psysml:06d3944d-d8a9-41b6-a7dc-ea1875e321b3\" xlink:type=\"simple\"><rect fill=\"#FFFFFF\" height=\"45.9375\" id=\"E8\" rx=\"10\" ry=\"10\" style=\"stroke: #383838; stroke-width: 1.5;\" width=\"71\" x=\"84.5\" y=\"87.5\"/><text fill=\"#000000\" font-family=\"sans-serif\" font-size=\"12\" font-style=\"italic\" lengthAdjust=\"spacingAndGlyphs\" textLength=\"69\" x=\"85.5\" y=\"103.6387\">«attribute»</text><text fill=\"#000000\" font-family=\"sans-serif\" font-size=\"12\" lengthAdjust=\"spacingAndGlyphs\" textLength=\"5\" x=\"117.5\" y=\"117.6074\">z</text><line style=\"stroke: #383838; stroke-width: 1.5;\" x1=\"85.5\" x2=\"154.5\" y1=\"125.4375\" y2=\"125.4375\"/></a><a href=\"psysml:cb2f8149-aa3e-4482-91f3-ed1f7789b4f6\" target=\"_top\" title=\"psysml:cb2f8149-aa3e-4482-91f3-ed1f7789b4f6\" xlink:actuate=\"onRequest\" xlink:href=\"psysml:cb2f8149-aa3e-4482-91f3-ed1f7789b4f6\" xlink:show=\"new\" xlink:title=\"psysml:cb2f8149-aa3e-4482-91f3-ed1f7789b4f6\" xlink:type=\"simple\"><polygon fill=\"#FFFFFF\" points=\"271,84,413,84,420,106.2969,427,106.2969,427,136.5938,271,136.5938,271,84\" style=\"stroke: #000000; stroke-width: 1.5;\"/><line style=\"stroke: #000000; stroke-width: 1.5;\" x1=\"271\" x2=\"420\" y1=\"106.2969\" y2=\"106.2969\"/><text fill=\"#000000\" font-family=\"sans-serif\" font-size=\"14\" font-weight=\"bold\" lengthAdjust=\"spacingAndGlyphs\" textLength=\"136\" x=\"275\" y=\"98.9951\">Application Layer</text></a><a href=\"psysml:c90fac5e-4b06-46df-8524-0f31fe17b625\" target=\"_top\" title=\"psysml:c90fac5e-4b06-46df-8524-0f31fe17b625\" xlink:actuate=\"onRequest\" xlink:href=\"psysml:c90fac5e-4b06-46df-8524-0f31fe17b625\" xlink:show=\"new\" xlink:title=\"psysml:c90fac5e-4b06-46df-8524-0f31fe17b625\" xlink:type=\"simple\"><polygon fill=\"#FFFFFF\" points=\"285,214,399,214,406,236.2969,413,236.2969,413,266.5938,285,266.5938,285,214\" style=\"stroke: #000000; stroke-width: 1.5;\"/><line style=\"stroke: #000000; stroke-width: 1.5;\" x1=\"285\" x2=\"406\" y1=\"236.2969\" y2=\"236.2969\"/><text fill=\"#000000\" font-family=\"sans-serif\" font-size=\"14\" font-weight=\"bold\" lengthAdjust=\"spacingAndGlyphs\" textLength=\"108\" x=\"289\" y=\"228.9951\">Service Layer</text></a><a href=\"psysml:5945f028-85af-4284-8707-6581cfe8107d\" target=\"_top\" title=\"psysml:5945f028-85af-4284-8707-6581cfe8107d\" xlink:actuate=\"onRequest\" xlink:href=\"psysml:5945f028-85af-4284-8707-6581cfe8107d\" xlink:show=\"new\" xlink:title=\"psysml:5945f028-85af-4284-8707-6581cfe8107d\" xlink:type=\"simple\"><polygon fill=\"#FFFFFF\" points=\"297,344,387,344,394,366.2969,401,366.2969,401,396.5938,297,396.5938,297,344\" style=\"stroke: #000000; stroke-width: 1.5;\"/><line style=\"stroke: #000000; stroke-width: 1.5;\" x1=\"297\" x2=\"394\" y1=\"366.2969\" y2=\"366.2969\"/><text fill=\"#000000\" font-family=\"sans-serif\" font-size=\"14\" font-weight=\"bold\" lengthAdjust=\"spacingAndGlyphs\" textLength=\"84\" x=\"301\" y=\"358.9951\">Data Layer</text></a><!--MD5=[af87c684e3b0d8be13c1a698a818ef1e]\n",
       "link E3 to E4--><a href=\"psysml:71e7e357-685b-41cb-afa1-92571af689f5\" target=\"_top\" title=\"psysml:71e7e357-685b-41cb-afa1-92571af689f5\" xlink:actuate=\"onRequest\" xlink:href=\"psysml:71e7e357-685b-41cb-afa1-92571af689f5\" xlink:show=\"new\" xlink:title=\"psysml:71e7e357-685b-41cb-afa1-92571af689f5\" xlink:type=\"simple\"><path d=\"M349,137.1 C349,156.8 349,184.22 349,205.73 \" fill=\"none\" id=\"E3-&gt;E4\" style=\"stroke: #383838; stroke-width: 1.0; stroke-dasharray: 7.0,7.0;\"/><polygon fill=\"#383838\" points=\"349,213.95,352,205.95,346,205.95,349,213.95\" style=\"stroke: #383838; stroke-width: 1.0;\"/><text fill=\"#000000\" font-family=\"sans-serif\" font-size=\"13\" lengthAdjust=\"spacingAndGlyphs\" textLength=\"64\" x=\"350\" y=\"180.0669\">«depend»</text></a><!--MD5=[1b7591eae5389033d8d09a9d6721a717]\n",
       "link E4 to E5--><a href=\"psysml:1107382a-37f6-4d52-8c17-003f9fc0676e\" target=\"_top\" title=\"psysml:1107382a-37f6-4d52-8c17-003f9fc0676e\" xlink:actuate=\"onRequest\" xlink:href=\"psysml:1107382a-37f6-4d52-8c17-003f9fc0676e\" xlink:show=\"new\" xlink:title=\"psysml:1107382a-37f6-4d52-8c17-003f9fc0676e\" xlink:type=\"simple\"><path d=\"M349,267.1 C349,286.8 349,314.22 349,335.73 \" fill=\"none\" id=\"E4-&gt;E5\" style=\"stroke: #383838; stroke-width: 1.0; stroke-dasharray: 7.0,7.0;\"/><polygon fill=\"#383838\" points=\"349,343.95,352,335.95,346,335.95,349,343.95\" style=\"stroke: #383838; stroke-width: 1.0;\"/><text fill=\"#000000\" font-family=\"sans-serif\" font-size=\"13\" lengthAdjust=\"spacingAndGlyphs\" textLength=\"64\" x=\"350\" y=\"310.0669\">«depend»</text></a><!--MD5=[c5e8897d989ce984f93528998a7150fe]\n",
       "link E8 to E6--><a href=\"psysml:a975d936-bb91-4b85-9c47-7632192c23c3\" target=\"_top\" title=\"psysml:a975d936-bb91-4b85-9c47-7632192c23c3\" xlink:actuate=\"onRequest\" xlink:href=\"psysml:a975d936-bb91-4b85-9c47-7632192c23c3\" xlink:show=\"new\" xlink:title=\"psysml:a975d936-bb91-4b85-9c47-7632192c23c3\" xlink:type=\"simple\"><path d=\"M97.55,133.75 C81.97,149.19 64,167 64,167 C64,167 64,184 64,184 C64,184 64.88,196.21 65.81,209.18 \" fill=\"none\" id=\"E8-&gt;E6\" style=\"stroke: #383838; stroke-width: 1.0; stroke-dasharray: 7.0,7.0;\"/><polygon fill=\"#383838\" points=\"66.4,217.25,68.8203,209.056,62.8357,209.485,66.4,217.25\" style=\"stroke: #383838; stroke-width: 1.0;\"/><text fill=\"#000000\" font-family=\"sans-serif\" font-size=\"13\" lengthAdjust=\"spacingAndGlyphs\" textLength=\"64\" x=\"65\" y=\"180.0669\">«depend»</text></a><!--MD5=[bfa3c8b0d15052fdf50ae9310b491027]\n",
       "link E8 to E7--><a href=\"psysml:a975d936-bb91-4b85-9c47-7632192c23c3\" target=\"_top\" title=\"psysml:a975d936-bb91-4b85-9c47-7632192c23c3\" xlink:actuate=\"onRequest\" xlink:href=\"psysml:a975d936-bb91-4b85-9c47-7632192c23c3\" xlink:show=\"new\" xlink:title=\"psysml:a975d936-bb91-4b85-9c47-7632192c23c3\" xlink:type=\"simple\"><path d=\"M129.28,133.5 C138.17,154.57 151.64,186.5 161.47,209.81 \" fill=\"none\" id=\"E8-&gt;E7\" style=\"stroke: #383838; stroke-width: 1.0; stroke-dasharray: 7.0,7.0;\"/><polygon fill=\"#383838\" points=\"164.66,217.35,164.3241,208.8126,158.7933,211.1385,164.66,217.35\" style=\"stroke: #383838; stroke-width: 1.0;\"/><text fill=\"#000000\" font-family=\"sans-serif\" font-size=\"13\" lengthAdjust=\"spacingAndGlyphs\" textLength=\"64\" x=\"151\" y=\"180.0669\">«depend»</text></a><!--MD5=[6fd2500ad82e3bebee0e478c251e7150]\n",
       "@startuml\r\n",
       "skinparam linetype polyline\r\n",
       "skinparam monochrome true\r\n",
       "skinparam classbackgroundcolor white\r\n",
       "skinparam shadowing false\r\n",
       "skinparam wrapWidth 300\r\n",
       "hide circle\r\n",
       "\r\n",
       "package \"DependencyTest\" as E1  [[psysml:430f5b70-8499-4207-b78a-0a401723d15c ]]  {\r\n",
       "package \"System\" as E2  [[psysml:ef80acf8-3bbf-43fc-abea-40efc458e2ed ]]  {\r\n",
       "package \"Application Layer\" as E3  [[psysml:cb2f8149-aa3e-4482-91f3-ed1f7789b4f6 ]]  {\r\n",
       "}\r\n",
       "package \"Service Layer\" as E4  [[psysml:c90fac5e-4b06-46df-8524-0f31fe17b625 ]]  {\r\n",
       "}\r\n",
       "package \"Data Layer\" as E5  [[psysml:5945f028-85af-4284-8707-6581cfe8107d ]]  {\r\n",
       "}\r\n",
       "}\r\n",
       "comp usage \"x\" as E6  <<(T,blue)attribute>> [[psysml:f9adf18b-8dbf-4490-b33d-e9e2045e17b2 ]] {\r\n",
       "}\r\n",
       "comp usage \"y\" as E7  <<(T,blue)attribute>> [[psysml:b3547f0d-a84a-43aa-aeb1-8f3416005562 ]] {\r\n",
       "}\r\n",
       "comp usage \"z\" as E8  <<(T,blue)attribute>> [[psysml:06d3944d-d8a9-41b6-a7dc-ea1875e321b3 ]] {\r\n",
       "}\r\n",
       "E3 ..>> E4 [[psysml:71e7e357-685b-41cb-afa1-92571af689f5 ]] : <<depend>>\r\n",
       "E4 ..>> E5 [[psysml:1107382a-37f6-4d52-8c17-003f9fc0676e ]] : <<depend>>\r\n",
       "E8 ..>> E6 [[psysml:a975d936-bb91-4b85-9c47-7632192c23c3 ]] : <<depend>>\r\n",
       "E8 ..>> E7 [[psysml:a975d936-bb91-4b85-9c47-7632192c23c3 ]] : <<depend>>\r\n",
       "}\r\n",
       "@enduml\r\n",
       "\n",
       "PlantUML version 1.2020.13(Sat Jun 13 12:26:38 UTC 2020)\n",
       "(EPL source distribution)\n",
       "Java Runtime: OpenJDK Runtime Environment\n",
       "JVM: OpenJDK 64-Bit Server VM\n",
       "Default Encoding: UTF-8\n",
       "Language: en\n",
       "Country: null\n",
       "--></g></svg>"
      ]
     },
     "execution_count": 14,
     "metadata": {},
     "output_type": "execute_result"
    }
   ],
   "source": [
    "%viz --style=\"POLYLINE\" --view=\"Sequence\" \"DependencyTest\""
   ]
  },
  {
   "cell_type": "code",
   "execution_count": 15,
   "id": "catholic-nickel",
   "metadata": {
    "execution": {
     "iopub.execute_input": "2021-03-25T13:51:42.181376Z",
     "iopub.status.busy": "2021-03-25T13:51:42.179682Z",
     "iopub.status.idle": "2021-03-25T13:51:42.287432Z",
     "shell.execute_reply": "2021-03-25T13:51:42.285878Z"
    }
   },
   "outputs": [
    {
     "data": {
      "image/svg+xml": [
       "<?xml version=\"1.0\" encoding=\"UTF-8\" standalone=\"no\"?><svg xmlns=\"http://www.w3.org/2000/svg\" xmlns:xlink=\"http://www.w3.org/1999/xlink\" contentScriptType=\"application/ecmascript\" contentStyleType=\"text/css\" height=\"449px\" preserveAspectRatio=\"none\" style=\"width:489px;height:449px;\" version=\"1.1\" viewBox=\"0 0 489 449\" width=\"489px\" zoomAndPan=\"magnify\"><defs/><g><!--MD5=[fbc87193dbaf4d95561dea2c320d4a47]\n",
       "cluster E1--><a href=\"psysml:430f5b70-8499-4207-b78a-0a401723d15c\" target=\"_top\" title=\"psysml:430f5b70-8499-4207-b78a-0a401723d15c\" xlink:actuate=\"onRequest\" xlink:href=\"psysml:430f5b70-8499-4207-b78a-0a401723d15c\" xlink:show=\"new\" xlink:title=\"psysml:430f5b70-8499-4207-b78a-0a401723d15c\" xlink:type=\"simple\"><polygon fill=\"#FFFFFF\" points=\"16,6,156,6,163,28.2969,467,28.2969,467,437,16,437,16,6\" style=\"stroke: #000000; stroke-width: 1.5;\"/><line style=\"stroke: #000000; stroke-width: 1.5;\" x1=\"16\" x2=\"163\" y1=\"28.2969\" y2=\"28.2969\"/><text fill=\"#000000\" font-family=\"sans-serif\" font-size=\"14\" font-weight=\"bold\" lengthAdjust=\"spacingAndGlyphs\" textLength=\"134\" x=\"20\" y=\"20.9951\">DependencyTest</text></a><!--MD5=[e4f7fae6ed58524ba242bb0b0d3be6b7]\n",
       "cluster E2--><a href=\"psysml:ef80acf8-3bbf-43fc-abea-40efc458e2ed\" target=\"_top\" title=\"psysml:ef80acf8-3bbf-43fc-abea-40efc458e2ed\" xlink:actuate=\"onRequest\" xlink:href=\"psysml:ef80acf8-3bbf-43fc-abea-40efc458e2ed\" xlink:show=\"new\" xlink:title=\"psysml:ef80acf8-3bbf-43fc-abea-40efc458e2ed\" xlink:type=\"simple\"><polygon fill=\"#FFFFFF\" points=\"255,49,319,49,326,71.2969,443,71.2969,443,413,255,413,255,49\" style=\"stroke: #000000; stroke-width: 1.5;\"/><line style=\"stroke: #000000; stroke-width: 1.5;\" x1=\"255\" x2=\"326\" y1=\"71.2969\" y2=\"71.2969\"/><text fill=\"#000000\" font-family=\"sans-serif\" font-size=\"14\" font-weight=\"bold\" lengthAdjust=\"spacingAndGlyphs\" textLength=\"58\" x=\"259\" y=\"63.9951\">System</text></a><!--MD5=[60a26617385b1d2d0262a64233df1f8d]\n",
       "class E6--><a href=\"psysml:f9adf18b-8dbf-4490-b33d-e9e2045e17b2\" target=\"_top\" title=\"psysml:f9adf18b-8dbf-4490-b33d-e9e2045e17b2\" xlink:actuate=\"onRequest\" xlink:href=\"psysml:f9adf18b-8dbf-4490-b33d-e9e2045e17b2\" xlink:show=\"new\" xlink:title=\"psysml:f9adf18b-8dbf-4490-b33d-e9e2045e17b2\" xlink:type=\"simple\"><rect fill=\"#FFFFFF\" height=\"45.9375\" id=\"E6\" rx=\"10\" ry=\"10\" style=\"stroke: #383838; stroke-width: 1.5;\" width=\"71\" x=\"32.5\" y=\"217.5\"/><text fill=\"#000000\" font-family=\"sans-serif\" font-size=\"12\" font-style=\"italic\" lengthAdjust=\"spacingAndGlyphs\" textLength=\"69\" x=\"33.5\" y=\"233.6387\">«attribute»</text><text fill=\"#000000\" font-family=\"sans-serif\" font-size=\"12\" lengthAdjust=\"spacingAndGlyphs\" textLength=\"6\" x=\"65\" y=\"247.6074\">x</text><line style=\"stroke: #383838; stroke-width: 1.5;\" x1=\"33.5\" x2=\"102.5\" y1=\"255.4375\" y2=\"255.4375\"/></a><!--MD5=[2156ba9850f5573cc1fc38a6a4b2f02b]\n",
       "class E7--><a href=\"psysml:b3547f0d-a84a-43aa-aeb1-8f3416005562\" target=\"_top\" title=\"psysml:b3547f0d-a84a-43aa-aeb1-8f3416005562\" xlink:actuate=\"onRequest\" xlink:href=\"psysml:b3547f0d-a84a-43aa-aeb1-8f3416005562\" xlink:show=\"new\" xlink:title=\"psysml:b3547f0d-a84a-43aa-aeb1-8f3416005562\" xlink:type=\"simple\"><rect fill=\"#FFFFFF\" height=\"45.9375\" id=\"E7\" rx=\"10\" ry=\"10\" style=\"stroke: #383838; stroke-width: 1.5;\" width=\"71\" x=\"138.5\" y=\"217.5\"/><text fill=\"#000000\" font-family=\"sans-serif\" font-size=\"12\" font-style=\"italic\" lengthAdjust=\"spacingAndGlyphs\" textLength=\"69\" x=\"139.5\" y=\"233.6387\">«attribute»</text><text fill=\"#000000\" font-family=\"sans-serif\" font-size=\"12\" lengthAdjust=\"spacingAndGlyphs\" textLength=\"6\" x=\"171\" y=\"247.6074\">y</text><line style=\"stroke: #383838; stroke-width: 1.5;\" x1=\"139.5\" x2=\"208.5\" y1=\"255.4375\" y2=\"255.4375\"/></a><!--MD5=[b9389687b975829384b498ac4b7476b2]\n",
       "class E8--><a href=\"psysml:06d3944d-d8a9-41b6-a7dc-ea1875e321b3\" target=\"_top\" title=\"psysml:06d3944d-d8a9-41b6-a7dc-ea1875e321b3\" xlink:actuate=\"onRequest\" xlink:href=\"psysml:06d3944d-d8a9-41b6-a7dc-ea1875e321b3\" xlink:show=\"new\" xlink:title=\"psysml:06d3944d-d8a9-41b6-a7dc-ea1875e321b3\" xlink:type=\"simple\"><rect fill=\"#FFFFFF\" height=\"45.9375\" id=\"E8\" rx=\"10\" ry=\"10\" style=\"stroke: #383838; stroke-width: 1.5;\" width=\"71\" x=\"84.5\" y=\"87.5\"/><text fill=\"#000000\" font-family=\"sans-serif\" font-size=\"12\" font-style=\"italic\" lengthAdjust=\"spacingAndGlyphs\" textLength=\"69\" x=\"85.5\" y=\"103.6387\">«attribute»</text><text fill=\"#000000\" font-family=\"sans-serif\" font-size=\"12\" lengthAdjust=\"spacingAndGlyphs\" textLength=\"5\" x=\"117.5\" y=\"117.6074\">z</text><line style=\"stroke: #383838; stroke-width: 1.5;\" x1=\"85.5\" x2=\"154.5\" y1=\"125.4375\" y2=\"125.4375\"/></a><a href=\"psysml:cb2f8149-aa3e-4482-91f3-ed1f7789b4f6\" target=\"_top\" title=\"psysml:cb2f8149-aa3e-4482-91f3-ed1f7789b4f6\" xlink:actuate=\"onRequest\" xlink:href=\"psysml:cb2f8149-aa3e-4482-91f3-ed1f7789b4f6\" xlink:show=\"new\" xlink:title=\"psysml:cb2f8149-aa3e-4482-91f3-ed1f7789b4f6\" xlink:type=\"simple\"><polygon fill=\"#FFFFFF\" points=\"271,84,413,84,420,106.2969,427,106.2969,427,136.5938,271,136.5938,271,84\" style=\"stroke: #000000; stroke-width: 1.5;\"/><line style=\"stroke: #000000; stroke-width: 1.5;\" x1=\"271\" x2=\"420\" y1=\"106.2969\" y2=\"106.2969\"/><text fill=\"#000000\" font-family=\"sans-serif\" font-size=\"14\" font-weight=\"bold\" lengthAdjust=\"spacingAndGlyphs\" textLength=\"136\" x=\"275\" y=\"98.9951\">Application Layer</text></a><a href=\"psysml:c90fac5e-4b06-46df-8524-0f31fe17b625\" target=\"_top\" title=\"psysml:c90fac5e-4b06-46df-8524-0f31fe17b625\" xlink:actuate=\"onRequest\" xlink:href=\"psysml:c90fac5e-4b06-46df-8524-0f31fe17b625\" xlink:show=\"new\" xlink:title=\"psysml:c90fac5e-4b06-46df-8524-0f31fe17b625\" xlink:type=\"simple\"><polygon fill=\"#FFFFFF\" points=\"285,214,399,214,406,236.2969,413,236.2969,413,266.5938,285,266.5938,285,214\" style=\"stroke: #000000; stroke-width: 1.5;\"/><line style=\"stroke: #000000; stroke-width: 1.5;\" x1=\"285\" x2=\"406\" y1=\"236.2969\" y2=\"236.2969\"/><text fill=\"#000000\" font-family=\"sans-serif\" font-size=\"14\" font-weight=\"bold\" lengthAdjust=\"spacingAndGlyphs\" textLength=\"108\" x=\"289\" y=\"228.9951\">Service Layer</text></a><a href=\"psysml:5945f028-85af-4284-8707-6581cfe8107d\" target=\"_top\" title=\"psysml:5945f028-85af-4284-8707-6581cfe8107d\" xlink:actuate=\"onRequest\" xlink:href=\"psysml:5945f028-85af-4284-8707-6581cfe8107d\" xlink:show=\"new\" xlink:title=\"psysml:5945f028-85af-4284-8707-6581cfe8107d\" xlink:type=\"simple\"><polygon fill=\"#FFFFFF\" points=\"297,344,387,344,394,366.2969,401,366.2969,401,396.5938,297,396.5938,297,344\" style=\"stroke: #000000; stroke-width: 1.5;\"/><line style=\"stroke: #000000; stroke-width: 1.5;\" x1=\"297\" x2=\"394\" y1=\"366.2969\" y2=\"366.2969\"/><text fill=\"#000000\" font-family=\"sans-serif\" font-size=\"14\" font-weight=\"bold\" lengthAdjust=\"spacingAndGlyphs\" textLength=\"84\" x=\"301\" y=\"358.9951\">Data Layer</text></a><!--MD5=[af87c684e3b0d8be13c1a698a818ef1e]\n",
       "link E3 to E4--><a href=\"psysml:71e7e357-685b-41cb-afa1-92571af689f5\" target=\"_top\" title=\"psysml:71e7e357-685b-41cb-afa1-92571af689f5\" xlink:actuate=\"onRequest\" xlink:href=\"psysml:71e7e357-685b-41cb-afa1-92571af689f5\" xlink:show=\"new\" xlink:title=\"psysml:71e7e357-685b-41cb-afa1-92571af689f5\" xlink:type=\"simple\"><path d=\"M349,137.1 C349,156.8 349,184.22 349,205.73 \" fill=\"none\" id=\"E3-&gt;E4\" style=\"stroke: #383838; stroke-width: 1.0; stroke-dasharray: 7.0,7.0;\"/><polygon fill=\"#383838\" points=\"349,213.95,352,205.95,346,205.95,349,213.95\" style=\"stroke: #383838; stroke-width: 1.0;\"/><text fill=\"#000000\" font-family=\"sans-serif\" font-size=\"13\" lengthAdjust=\"spacingAndGlyphs\" textLength=\"64\" x=\"350\" y=\"180.0669\">«depend»</text></a><!--MD5=[1b7591eae5389033d8d09a9d6721a717]\n",
       "link E4 to E5--><a href=\"psysml:1107382a-37f6-4d52-8c17-003f9fc0676e\" target=\"_top\" title=\"psysml:1107382a-37f6-4d52-8c17-003f9fc0676e\" xlink:actuate=\"onRequest\" xlink:href=\"psysml:1107382a-37f6-4d52-8c17-003f9fc0676e\" xlink:show=\"new\" xlink:title=\"psysml:1107382a-37f6-4d52-8c17-003f9fc0676e\" xlink:type=\"simple\"><path d=\"M349,267.1 C349,286.8 349,314.22 349,335.73 \" fill=\"none\" id=\"E4-&gt;E5\" style=\"stroke: #383838; stroke-width: 1.0; stroke-dasharray: 7.0,7.0;\"/><polygon fill=\"#383838\" points=\"349,343.95,352,335.95,346,335.95,349,343.95\" style=\"stroke: #383838; stroke-width: 1.0;\"/><text fill=\"#000000\" font-family=\"sans-serif\" font-size=\"13\" lengthAdjust=\"spacingAndGlyphs\" textLength=\"64\" x=\"350\" y=\"310.0669\">«depend»</text></a><!--MD5=[c5e8897d989ce984f93528998a7150fe]\n",
       "link E8 to E6--><a href=\"psysml:a975d936-bb91-4b85-9c47-7632192c23c3\" target=\"_top\" title=\"psysml:a975d936-bb91-4b85-9c47-7632192c23c3\" xlink:actuate=\"onRequest\" xlink:href=\"psysml:a975d936-bb91-4b85-9c47-7632192c23c3\" xlink:show=\"new\" xlink:title=\"psysml:a975d936-bb91-4b85-9c47-7632192c23c3\" xlink:type=\"simple\"><path d=\"M97.55,133.75 C81.97,149.19 64,167 64,167 C64,167 64,184 64,184 C64,184 64.88,196.21 65.81,209.18 \" fill=\"none\" id=\"E8-&gt;E6\" style=\"stroke: #383838; stroke-width: 1.0; stroke-dasharray: 7.0,7.0;\"/><polygon fill=\"#383838\" points=\"66.4,217.25,68.8203,209.056,62.8357,209.485,66.4,217.25\" style=\"stroke: #383838; stroke-width: 1.0;\"/><text fill=\"#000000\" font-family=\"sans-serif\" font-size=\"13\" lengthAdjust=\"spacingAndGlyphs\" textLength=\"64\" x=\"65\" y=\"180.0669\">«depend»</text></a><!--MD5=[bfa3c8b0d15052fdf50ae9310b491027]\n",
       "link E8 to E7--><a href=\"psysml:a975d936-bb91-4b85-9c47-7632192c23c3\" target=\"_top\" title=\"psysml:a975d936-bb91-4b85-9c47-7632192c23c3\" xlink:actuate=\"onRequest\" xlink:href=\"psysml:a975d936-bb91-4b85-9c47-7632192c23c3\" xlink:show=\"new\" xlink:title=\"psysml:a975d936-bb91-4b85-9c47-7632192c23c3\" xlink:type=\"simple\"><path d=\"M129.28,133.5 C138.17,154.57 151.64,186.5 161.47,209.81 \" fill=\"none\" id=\"E8-&gt;E7\" style=\"stroke: #383838; stroke-width: 1.0; stroke-dasharray: 7.0,7.0;\"/><polygon fill=\"#383838\" points=\"164.66,217.35,164.3241,208.8126,158.7933,211.1385,164.66,217.35\" style=\"stroke: #383838; stroke-width: 1.0;\"/><text fill=\"#000000\" font-family=\"sans-serif\" font-size=\"13\" lengthAdjust=\"spacingAndGlyphs\" textLength=\"64\" x=\"151\" y=\"180.0669\">«depend»</text></a><!--MD5=[6fd2500ad82e3bebee0e478c251e7150]\n",
       "@startuml\r\n",
       "skinparam linetype polyline\r\n",
       "skinparam monochrome true\r\n",
       "skinparam classbackgroundcolor white\r\n",
       "skinparam shadowing false\r\n",
       "skinparam wrapWidth 300\r\n",
       "hide circle\r\n",
       "\r\n",
       "package \"DependencyTest\" as E1  [[psysml:430f5b70-8499-4207-b78a-0a401723d15c ]]  {\r\n",
       "package \"System\" as E2  [[psysml:ef80acf8-3bbf-43fc-abea-40efc458e2ed ]]  {\r\n",
       "package \"Application Layer\" as E3  [[psysml:cb2f8149-aa3e-4482-91f3-ed1f7789b4f6 ]]  {\r\n",
       "}\r\n",
       "package \"Service Layer\" as E4  [[psysml:c90fac5e-4b06-46df-8524-0f31fe17b625 ]]  {\r\n",
       "}\r\n",
       "package \"Data Layer\" as E5  [[psysml:5945f028-85af-4284-8707-6581cfe8107d ]]  {\r\n",
       "}\r\n",
       "}\r\n",
       "comp usage \"x\" as E6  <<(T,blue)attribute>> [[psysml:f9adf18b-8dbf-4490-b33d-e9e2045e17b2 ]] {\r\n",
       "}\r\n",
       "comp usage \"y\" as E7  <<(T,blue)attribute>> [[psysml:b3547f0d-a84a-43aa-aeb1-8f3416005562 ]] {\r\n",
       "}\r\n",
       "comp usage \"z\" as E8  <<(T,blue)attribute>> [[psysml:06d3944d-d8a9-41b6-a7dc-ea1875e321b3 ]] {\r\n",
       "}\r\n",
       "E3 ..>> E4 [[psysml:71e7e357-685b-41cb-afa1-92571af689f5 ]] : <<depend>>\r\n",
       "E4 ..>> E5 [[psysml:1107382a-37f6-4d52-8c17-003f9fc0676e ]] : <<depend>>\r\n",
       "E8 ..>> E6 [[psysml:a975d936-bb91-4b85-9c47-7632192c23c3 ]] : <<depend>>\r\n",
       "E8 ..>> E7 [[psysml:a975d936-bb91-4b85-9c47-7632192c23c3 ]] : <<depend>>\r\n",
       "}\r\n",
       "@enduml\r\n",
       "\n",
       "PlantUML version 1.2020.13(Sat Jun 13 12:26:38 UTC 2020)\n",
       "(EPL source distribution)\n",
       "Java Runtime: OpenJDK Runtime Environment\n",
       "JVM: OpenJDK 64-Bit Server VM\n",
       "Default Encoding: UTF-8\n",
       "Language: en\n",
       "Country: null\n",
       "--></g></svg>"
      ]
     },
     "execution_count": 15,
     "metadata": {},
     "output_type": "execute_result"
    }
   ],
   "source": [
    "%viz --style=\"POLYLINE\" --view=\"MIXED\" \"DependencyTest\""
   ]
  },
  {
   "cell_type": "code",
   "execution_count": 16,
   "id": "prospective-priority",
   "metadata": {
    "execution": {
     "iopub.execute_input": "2021-03-25T13:51:42.341675Z",
     "iopub.status.busy": "2021-03-25T13:51:42.340862Z",
     "iopub.status.idle": "2021-03-25T13:51:42.444323Z",
     "shell.execute_reply": "2021-03-25T13:51:42.443668Z"
    }
   },
   "outputs": [
    {
     "data": {
      "image/svg+xml": [
       "<?xml version=\"1.0\" encoding=\"UTF-8\" standalone=\"no\"?><svg xmlns=\"http://www.w3.org/2000/svg\" xmlns:xlink=\"http://www.w3.org/1999/xlink\" contentScriptType=\"application/ecmascript\" contentStyleType=\"text/css\" height=\"328px\" preserveAspectRatio=\"none\" style=\"width:758px;height:328px;\" version=\"1.1\" viewBox=\"0 0 758 328\" width=\"758px\" zoomAndPan=\"magnify\"><defs/><g><!--MD5=[fbc87193dbaf4d95561dea2c320d4a47]\n",
       "cluster E1--><a href=\"psysml:430f5b70-8499-4207-b78a-0a401723d15c\" target=\"_top\" title=\"psysml:430f5b70-8499-4207-b78a-0a401723d15c\" xlink:actuate=\"onRequest\" xlink:href=\"psysml:430f5b70-8499-4207-b78a-0a401723d15c\" xlink:show=\"new\" xlink:title=\"psysml:430f5b70-8499-4207-b78a-0a401723d15c\" xlink:type=\"simple\"><polygon fill=\"#FFFFFF\" points=\"16,6,156,6,163,28.2969,736,28.2969,736,316,16,316,16,6\" style=\"stroke: #000000; stroke-width: 1.5;\"/><line style=\"stroke: #000000; stroke-width: 1.5;\" x1=\"16\" x2=\"163\" y1=\"28.2969\" y2=\"28.2969\"/><text fill=\"#000000\" font-family=\"sans-serif\" font-size=\"14\" font-weight=\"bold\" lengthAdjust=\"spacingAndGlyphs\" textLength=\"134\" x=\"20\" y=\"20.9951\">DependencyTest</text></a><!--MD5=[e4f7fae6ed58524ba242bb0b0d3be6b7]\n",
       "cluster E2--><a href=\"psysml:ef80acf8-3bbf-43fc-abea-40efc458e2ed\" target=\"_top\" title=\"psysml:ef80acf8-3bbf-43fc-abea-40efc458e2ed\" xlink:actuate=\"onRequest\" xlink:href=\"psysml:ef80acf8-3bbf-43fc-abea-40efc458e2ed\" xlink:show=\"new\" xlink:title=\"psysml:ef80acf8-3bbf-43fc-abea-40efc458e2ed\" xlink:type=\"simple\"><polygon fill=\"#FFFFFF\" points=\"40,49,104,49,111,71.2969,712,71.2969,712,154,40,154,40,49\" style=\"stroke: #000000; stroke-width: 1.5;\"/><line style=\"stroke: #000000; stroke-width: 1.5;\" x1=\"40\" x2=\"111\" y1=\"71.2969\" y2=\"71.2969\"/><text fill=\"#000000\" font-family=\"sans-serif\" font-size=\"14\" font-weight=\"bold\" lengthAdjust=\"spacingAndGlyphs\" textLength=\"58\" x=\"44\" y=\"63.9951\">System</text></a><!--MD5=[60a26617385b1d2d0262a64233df1f8d]\n",
       "class E6--><a href=\"psysml:f9adf18b-8dbf-4490-b33d-e9e2045e17b2\" target=\"_top\" title=\"psysml:f9adf18b-8dbf-4490-b33d-e9e2045e17b2\" xlink:actuate=\"onRequest\" xlink:href=\"psysml:f9adf18b-8dbf-4490-b33d-e9e2045e17b2\" xlink:show=\"new\" xlink:title=\"psysml:f9adf18b-8dbf-4490-b33d-e9e2045e17b2\" xlink:type=\"simple\"><rect fill=\"#FFFFFF\" height=\"45.9375\" id=\"E6\" rx=\"10\" ry=\"10\" style=\"stroke: #383838; stroke-width: 1.5;\" width=\"71\" x=\"366.5\" y=\"254\"/><text fill=\"#000000\" font-family=\"sans-serif\" font-size=\"12\" font-style=\"italic\" lengthAdjust=\"spacingAndGlyphs\" textLength=\"69\" x=\"367.5\" y=\"270.1387\">«attribute»</text><text fill=\"#000000\" font-family=\"sans-serif\" font-size=\"12\" lengthAdjust=\"spacingAndGlyphs\" textLength=\"6\" x=\"399\" y=\"284.1074\">x</text><line style=\"stroke: #383838; stroke-width: 1.5;\" x1=\"367.5\" x2=\"436.5\" y1=\"291.9375\" y2=\"291.9375\"/></a><!--MD5=[2156ba9850f5573cc1fc38a6a4b2f02b]\n",
       "class E7--><a href=\"psysml:b3547f0d-a84a-43aa-aeb1-8f3416005562\" target=\"_top\" title=\"psysml:b3547f0d-a84a-43aa-aeb1-8f3416005562\" xlink:actuate=\"onRequest\" xlink:href=\"psysml:b3547f0d-a84a-43aa-aeb1-8f3416005562\" xlink:show=\"new\" xlink:title=\"psysml:b3547f0d-a84a-43aa-aeb1-8f3416005562\" xlink:type=\"simple\"><rect fill=\"#FFFFFF\" height=\"45.9375\" id=\"E7\" rx=\"10\" ry=\"10\" style=\"stroke: #383838; stroke-width: 1.5;\" width=\"71\" x=\"366.5\" y=\"173\"/><text fill=\"#000000\" font-family=\"sans-serif\" font-size=\"12\" font-style=\"italic\" lengthAdjust=\"spacingAndGlyphs\" textLength=\"69\" x=\"367.5\" y=\"189.1387\">«attribute»</text><text fill=\"#000000\" font-family=\"sans-serif\" font-size=\"12\" lengthAdjust=\"spacingAndGlyphs\" textLength=\"6\" x=\"399\" y=\"203.1074\">y</text><line style=\"stroke: #383838; stroke-width: 1.5;\" x1=\"367.5\" x2=\"436.5\" y1=\"210.9375\" y2=\"210.9375\"/></a><!--MD5=[b9389687b975829384b498ac4b7476b2]\n",
       "class E8--><a href=\"psysml:06d3944d-d8a9-41b6-a7dc-ea1875e321b3\" target=\"_top\" title=\"psysml:06d3944d-d8a9-41b6-a7dc-ea1875e321b3\" xlink:actuate=\"onRequest\" xlink:href=\"psysml:06d3944d-d8a9-41b6-a7dc-ea1875e321b3\" xlink:show=\"new\" xlink:title=\"psysml:06d3944d-d8a9-41b6-a7dc-ea1875e321b3\" xlink:type=\"simple\"><rect fill=\"#FFFFFF\" height=\"45.9375\" id=\"E8\" rx=\"10\" ry=\"10\" style=\"stroke: #383838; stroke-width: 1.5;\" width=\"71\" x=\"98.5\" y=\"206\"/><text fill=\"#000000\" font-family=\"sans-serif\" font-size=\"12\" font-style=\"italic\" lengthAdjust=\"spacingAndGlyphs\" textLength=\"69\" x=\"99.5\" y=\"222.1387\">«attribute»</text><text fill=\"#000000\" font-family=\"sans-serif\" font-size=\"12\" lengthAdjust=\"spacingAndGlyphs\" textLength=\"5\" x=\"131.5\" y=\"236.1074\">z</text><line style=\"stroke: #383838; stroke-width: 1.5;\" x1=\"99.5\" x2=\"168.5\" y1=\"243.9375\" y2=\"243.9375\"/></a><a href=\"psysml:cb2f8149-aa3e-4482-91f3-ed1f7789b4f6\" target=\"_top\" title=\"psysml:cb2f8149-aa3e-4482-91f3-ed1f7789b4f6\" xlink:actuate=\"onRequest\" xlink:href=\"psysml:cb2f8149-aa3e-4482-91f3-ed1f7789b4f6\" xlink:show=\"new\" xlink:title=\"psysml:cb2f8149-aa3e-4482-91f3-ed1f7789b4f6\" xlink:type=\"simple\"><polygon fill=\"#FFFFFF\" points=\"56,84.5,198,84.5,205,106.7969,212,106.7969,212,137.0938,56,137.0938,56,84.5\" style=\"stroke: #000000; stroke-width: 1.5;\"/><line style=\"stroke: #000000; stroke-width: 1.5;\" x1=\"56\" x2=\"205\" y1=\"106.7969\" y2=\"106.7969\"/><text fill=\"#000000\" font-family=\"sans-serif\" font-size=\"14\" font-weight=\"bold\" lengthAdjust=\"spacingAndGlyphs\" textLength=\"136\" x=\"60\" y=\"99.4951\">Application Layer</text></a><a href=\"psysml:c90fac5e-4b06-46df-8524-0f31fe17b625\" target=\"_top\" title=\"psysml:c90fac5e-4b06-46df-8524-0f31fe17b625\" xlink:actuate=\"onRequest\" xlink:href=\"psysml:c90fac5e-4b06-46df-8524-0f31fe17b625\" xlink:show=\"new\" xlink:title=\"psysml:c90fac5e-4b06-46df-8524-0f31fe17b625\" xlink:type=\"simple\"><polygon fill=\"#FFFFFF\" points=\"338,84.5,452,84.5,459,106.7969,466,106.7969,466,137.0938,338,137.0938,338,84.5\" style=\"stroke: #000000; stroke-width: 1.5;\"/><line style=\"stroke: #000000; stroke-width: 1.5;\" x1=\"338\" x2=\"459\" y1=\"106.7969\" y2=\"106.7969\"/><text fill=\"#000000\" font-family=\"sans-serif\" font-size=\"14\" font-weight=\"bold\" lengthAdjust=\"spacingAndGlyphs\" textLength=\"108\" x=\"342\" y=\"99.4951\">Service Layer</text></a><a href=\"psysml:5945f028-85af-4284-8707-6581cfe8107d\" target=\"_top\" title=\"psysml:5945f028-85af-4284-8707-6581cfe8107d\" xlink:actuate=\"onRequest\" xlink:href=\"psysml:5945f028-85af-4284-8707-6581cfe8107d\" xlink:show=\"new\" xlink:title=\"psysml:5945f028-85af-4284-8707-6581cfe8107d\" xlink:type=\"simple\"><polygon fill=\"#FFFFFF\" points=\"592,84.5,682,84.5,689,106.7969,696,106.7969,696,137.0938,592,137.0938,592,84.5\" style=\"stroke: #000000; stroke-width: 1.5;\"/><line style=\"stroke: #000000; stroke-width: 1.5;\" x1=\"592\" x2=\"689\" y1=\"106.7969\" y2=\"106.7969\"/><text fill=\"#000000\" font-family=\"sans-serif\" font-size=\"14\" font-weight=\"bold\" lengthAdjust=\"spacingAndGlyphs\" textLength=\"84\" x=\"596\" y=\"99.4951\">Data Layer</text></a><!--MD5=[af87c684e3b0d8be13c1a698a818ef1e]\n",
       "link E3 to E4--><a href=\"psysml:71e7e357-685b-41cb-afa1-92571af689f5\" target=\"_top\" title=\"psysml:71e7e357-685b-41cb-afa1-92571af689f5\" xlink:actuate=\"onRequest\" xlink:href=\"psysml:71e7e357-685b-41cb-afa1-92571af689f5\" xlink:show=\"new\" xlink:title=\"psysml:71e7e357-685b-41cb-afa1-92571af689f5\" xlink:type=\"simple\"><path d=\"M212.3,111 C249.37,111 293.5,111 329.76,111 \" fill=\"none\" id=\"E3-&gt;E4\" style=\"stroke: #383838; stroke-width: 1.0; stroke-dasharray: 7.0,7.0;\"/><polygon fill=\"#383838\" points=\"337.84,111,329.84,108,329.84,114,337.84,111\" style=\"stroke: #383838; stroke-width: 1.0;\"/><text fill=\"#000000\" font-family=\"sans-serif\" font-size=\"13\" lengthAdjust=\"spacingAndGlyphs\" textLength=\"64\" x=\"243\" y=\"107.0669\">«depend»</text></a><!--MD5=[1b7591eae5389033d8d09a9d6721a717]\n",
       "link E4 to E5--><a href=\"psysml:1107382a-37f6-4d52-8c17-003f9fc0676e\" target=\"_top\" title=\"psysml:1107382a-37f6-4d52-8c17-003f9fc0676e\" xlink:actuate=\"onRequest\" xlink:href=\"psysml:1107382a-37f6-4d52-8c17-003f9fc0676e\" xlink:show=\"new\" xlink:title=\"psysml:1107382a-37f6-4d52-8c17-003f9fc0676e\" xlink:type=\"simple\"><path d=\"M466.06,111 C502.32,111 547.6,111 583.28,111 \" fill=\"none\" id=\"E4-&gt;E5\" style=\"stroke: #383838; stroke-width: 1.0; stroke-dasharray: 7.0,7.0;\"/><polygon fill=\"#383838\" points=\"591.67,111,583.67,108,583.67,114,591.67,111\" style=\"stroke: #383838; stroke-width: 1.0;\"/><text fill=\"#000000\" font-family=\"sans-serif\" font-size=\"13\" lengthAdjust=\"spacingAndGlyphs\" textLength=\"64\" x=\"497\" y=\"107.0669\">«depend»</text></a><!--MD5=[c5e8897d989ce984f93528998a7150fe]\n",
       "link E8 to E6--><a href=\"psysml:a975d936-bb91-4b85-9c47-7632192c23c3\" target=\"_top\" title=\"psysml:a975d936-bb91-4b85-9c47-7632192c23c3\" xlink:actuate=\"onRequest\" xlink:href=\"psysml:a975d936-bb91-4b85-9c47-7632192c23c3\" xlink:show=\"new\" xlink:title=\"psysml:a975d936-bb91-4b85-9c47-7632192c23c3\" xlink:type=\"simple\"><path d=\"M169.5,235.23 C217.81,243.94 305.54,259.77 358.03,269.25 \" fill=\"none\" id=\"E8-&gt;E6\" style=\"stroke: #383838; stroke-width: 1.0; stroke-dasharray: 7.0,7.0;\"/><polygon fill=\"#383838\" points=\"366.14,270.71,358.7966,266.3425,357.7356,272.248,366.14,270.71\" style=\"stroke: #383838; stroke-width: 1.0;\"/><text fill=\"#000000\" font-family=\"sans-serif\" font-size=\"13\" lengthAdjust=\"spacingAndGlyphs\" textLength=\"64\" x=\"243\" y=\"245.0669\">«depend»</text></a><!--MD5=[bfa3c8b0d15052fdf50ae9310b491027]\n",
       "link E8 to E7--><a href=\"psysml:a975d936-bb91-4b85-9c47-7632192c23c3\" target=\"_top\" title=\"psysml:a975d936-bb91-4b85-9c47-7632192c23c3\" xlink:actuate=\"onRequest\" xlink:href=\"psysml:a975d936-bb91-4b85-9c47-7632192c23c3\" xlink:show=\"new\" xlink:title=\"psysml:a975d936-bb91-4b85-9c47-7632192c23c3\" xlink:type=\"simple\"><path d=\"M169.5,224.72 C217.81,218.73 305.54,207.84 358.03,201.33 \" fill=\"none\" id=\"E8-&gt;E7\" style=\"stroke: #383838; stroke-width: 1.0; stroke-dasharray: 7.0,7.0;\"/><polygon fill=\"#383838\" points=\"366.14,200.33,357.8314,198.3381,358.5704,204.2924,366.14,200.33\" style=\"stroke: #383838; stroke-width: 1.0;\"/><text fill=\"#000000\" font-family=\"sans-serif\" font-size=\"13\" lengthAdjust=\"spacingAndGlyphs\" textLength=\"64\" x=\"243\" y=\"204.0669\">«depend»</text></a><!--MD5=[689ddd6642d7f7c77f5373a5e2d35cb2]\n",
       "@startuml\r\n",
       "left to right direction\r\n",
       "skinparam monochrome true\r\n",
       "skinparam classbackgroundcolor white\r\n",
       "skinparam shadowing false\r\n",
       "skinparam wrapWidth 300\r\n",
       "hide circle\r\n",
       "\r\n",
       "package \"DependencyTest\" as E1  [[psysml:430f5b70-8499-4207-b78a-0a401723d15c ]]  {\r\n",
       "package \"System\" as E2  [[psysml:ef80acf8-3bbf-43fc-abea-40efc458e2ed ]]  {\r\n",
       "package \"Application Layer\" as E3  [[psysml:cb2f8149-aa3e-4482-91f3-ed1f7789b4f6 ]]  {\r\n",
       "}\r\n",
       "package \"Service Layer\" as E4  [[psysml:c90fac5e-4b06-46df-8524-0f31fe17b625 ]]  {\r\n",
       "}\r\n",
       "package \"Data Layer\" as E5  [[psysml:5945f028-85af-4284-8707-6581cfe8107d ]]  {\r\n",
       "}\r\n",
       "}\r\n",
       "comp usage \"x\" as E6  <<(T,blue)attribute>> [[psysml:f9adf18b-8dbf-4490-b33d-e9e2045e17b2 ]] {\r\n",
       "}\r\n",
       "comp usage \"y\" as E7  <<(T,blue)attribute>> [[psysml:b3547f0d-a84a-43aa-aeb1-8f3416005562 ]] {\r\n",
       "}\r\n",
       "comp usage \"z\" as E8  <<(T,blue)attribute>> [[psysml:06d3944d-d8a9-41b6-a7dc-ea1875e321b3 ]] {\r\n",
       "}\r\n",
       "E3 ..>> E4 [[psysml:71e7e357-685b-41cb-afa1-92571af689f5 ]] : <<depend>>\r\n",
       "E4 ..>> E5 [[psysml:1107382a-37f6-4d52-8c17-003f9fc0676e ]] : <<depend>>\r\n",
       "E8 ..>> E6 [[psysml:a975d936-bb91-4b85-9c47-7632192c23c3 ]] : <<depend>>\r\n",
       "E8 ..>> E7 [[psysml:a975d936-bb91-4b85-9c47-7632192c23c3 ]] : <<depend>>\r\n",
       "}\r\n",
       "@enduml\r\n",
       "\n",
       "PlantUML version 1.2020.13(Sat Jun 13 12:26:38 UTC 2020)\n",
       "(EPL source distribution)\n",
       "Java Runtime: OpenJDK Runtime Environment\n",
       "JVM: OpenJDK 64-Bit Server VM\n",
       "Default Encoding: UTF-8\n",
       "Language: en\n",
       "Country: null\n",
       "--></g></svg>"
      ]
     },
     "execution_count": 16,
     "metadata": {},
     "output_type": "execute_result"
    }
   ],
   "source": [
    "%viz --style=\"LR\" --view=\"Default\" \"DependencyTest\""
   ]
  },
  {
   "cell_type": "code",
   "execution_count": 17,
   "id": "immune-johnston",
   "metadata": {
    "execution": {
     "iopub.execute_input": "2021-03-25T13:51:42.495389Z",
     "iopub.status.busy": "2021-03-25T13:51:42.494514Z",
     "iopub.status.idle": "2021-03-25T13:51:42.597877Z",
     "shell.execute_reply": "2021-03-25T13:51:42.598517Z"
    }
   },
   "outputs": [
    {
     "data": {
      "image/svg+xml": [
       "<?xml version=\"1.0\" encoding=\"UTF-8\" standalone=\"no\"?><svg xmlns=\"http://www.w3.org/2000/svg\" xmlns:xlink=\"http://www.w3.org/1999/xlink\" contentScriptType=\"application/ecmascript\" contentStyleType=\"text/css\" height=\"328px\" preserveAspectRatio=\"none\" style=\"width:758px;height:328px;\" version=\"1.1\" viewBox=\"0 0 758 328\" width=\"758px\" zoomAndPan=\"magnify\"><defs/><g><!--MD5=[fbc87193dbaf4d95561dea2c320d4a47]\n",
       "cluster E1--><a href=\"psysml:430f5b70-8499-4207-b78a-0a401723d15c\" target=\"_top\" title=\"psysml:430f5b70-8499-4207-b78a-0a401723d15c\" xlink:actuate=\"onRequest\" xlink:href=\"psysml:430f5b70-8499-4207-b78a-0a401723d15c\" xlink:show=\"new\" xlink:title=\"psysml:430f5b70-8499-4207-b78a-0a401723d15c\" xlink:type=\"simple\"><polygon fill=\"#FFFFFF\" points=\"16,6,156,6,163,28.2969,736,28.2969,736,316,16,316,16,6\" style=\"stroke: #000000; stroke-width: 1.5;\"/><line style=\"stroke: #000000; stroke-width: 1.5;\" x1=\"16\" x2=\"163\" y1=\"28.2969\" y2=\"28.2969\"/><text fill=\"#000000\" font-family=\"sans-serif\" font-size=\"14\" font-weight=\"bold\" lengthAdjust=\"spacingAndGlyphs\" textLength=\"134\" x=\"20\" y=\"20.9951\">DependencyTest</text></a><!--MD5=[e4f7fae6ed58524ba242bb0b0d3be6b7]\n",
       "cluster E2--><a href=\"psysml:ef80acf8-3bbf-43fc-abea-40efc458e2ed\" target=\"_top\" title=\"psysml:ef80acf8-3bbf-43fc-abea-40efc458e2ed\" xlink:actuate=\"onRequest\" xlink:href=\"psysml:ef80acf8-3bbf-43fc-abea-40efc458e2ed\" xlink:show=\"new\" xlink:title=\"psysml:ef80acf8-3bbf-43fc-abea-40efc458e2ed\" xlink:type=\"simple\"><polygon fill=\"#FFFFFF\" points=\"40,49,104,49,111,71.2969,712,71.2969,712,154,40,154,40,49\" style=\"stroke: #000000; stroke-width: 1.5;\"/><line style=\"stroke: #000000; stroke-width: 1.5;\" x1=\"40\" x2=\"111\" y1=\"71.2969\" y2=\"71.2969\"/><text fill=\"#000000\" font-family=\"sans-serif\" font-size=\"14\" font-weight=\"bold\" lengthAdjust=\"spacingAndGlyphs\" textLength=\"58\" x=\"44\" y=\"63.9951\">System</text></a><!--MD5=[60a26617385b1d2d0262a64233df1f8d]\n",
       "class E6--><a href=\"psysml:f9adf18b-8dbf-4490-b33d-e9e2045e17b2\" target=\"_top\" title=\"psysml:f9adf18b-8dbf-4490-b33d-e9e2045e17b2\" xlink:actuate=\"onRequest\" xlink:href=\"psysml:f9adf18b-8dbf-4490-b33d-e9e2045e17b2\" xlink:show=\"new\" xlink:title=\"psysml:f9adf18b-8dbf-4490-b33d-e9e2045e17b2\" xlink:type=\"simple\"><rect fill=\"#FFFFFF\" height=\"45.9375\" id=\"E6\" rx=\"10\" ry=\"10\" style=\"stroke: #383838; stroke-width: 1.5;\" width=\"71\" x=\"366.5\" y=\"254\"/><text fill=\"#000000\" font-family=\"sans-serif\" font-size=\"12\" font-style=\"italic\" lengthAdjust=\"spacingAndGlyphs\" textLength=\"69\" x=\"367.5\" y=\"270.1387\">«attribute»</text><text fill=\"#000000\" font-family=\"sans-serif\" font-size=\"12\" lengthAdjust=\"spacingAndGlyphs\" textLength=\"6\" x=\"399\" y=\"284.1074\">x</text><line style=\"stroke: #383838; stroke-width: 1.5;\" x1=\"367.5\" x2=\"436.5\" y1=\"291.9375\" y2=\"291.9375\"/></a><!--MD5=[2156ba9850f5573cc1fc38a6a4b2f02b]\n",
       "class E7--><a href=\"psysml:b3547f0d-a84a-43aa-aeb1-8f3416005562\" target=\"_top\" title=\"psysml:b3547f0d-a84a-43aa-aeb1-8f3416005562\" xlink:actuate=\"onRequest\" xlink:href=\"psysml:b3547f0d-a84a-43aa-aeb1-8f3416005562\" xlink:show=\"new\" xlink:title=\"psysml:b3547f0d-a84a-43aa-aeb1-8f3416005562\" xlink:type=\"simple\"><rect fill=\"#FFFFFF\" height=\"45.9375\" id=\"E7\" rx=\"10\" ry=\"10\" style=\"stroke: #383838; stroke-width: 1.5;\" width=\"71\" x=\"366.5\" y=\"173\"/><text fill=\"#000000\" font-family=\"sans-serif\" font-size=\"12\" font-style=\"italic\" lengthAdjust=\"spacingAndGlyphs\" textLength=\"69\" x=\"367.5\" y=\"189.1387\">«attribute»</text><text fill=\"#000000\" font-family=\"sans-serif\" font-size=\"12\" lengthAdjust=\"spacingAndGlyphs\" textLength=\"6\" x=\"399\" y=\"203.1074\">y</text><line style=\"stroke: #383838; stroke-width: 1.5;\" x1=\"367.5\" x2=\"436.5\" y1=\"210.9375\" y2=\"210.9375\"/></a><!--MD5=[b9389687b975829384b498ac4b7476b2]\n",
       "class E8--><a href=\"psysml:06d3944d-d8a9-41b6-a7dc-ea1875e321b3\" target=\"_top\" title=\"psysml:06d3944d-d8a9-41b6-a7dc-ea1875e321b3\" xlink:actuate=\"onRequest\" xlink:href=\"psysml:06d3944d-d8a9-41b6-a7dc-ea1875e321b3\" xlink:show=\"new\" xlink:title=\"psysml:06d3944d-d8a9-41b6-a7dc-ea1875e321b3\" xlink:type=\"simple\"><rect fill=\"#FFFFFF\" height=\"45.9375\" id=\"E8\" rx=\"10\" ry=\"10\" style=\"stroke: #383838; stroke-width: 1.5;\" width=\"71\" x=\"98.5\" y=\"206\"/><text fill=\"#000000\" font-family=\"sans-serif\" font-size=\"12\" font-style=\"italic\" lengthAdjust=\"spacingAndGlyphs\" textLength=\"69\" x=\"99.5\" y=\"222.1387\">«attribute»</text><text fill=\"#000000\" font-family=\"sans-serif\" font-size=\"12\" lengthAdjust=\"spacingAndGlyphs\" textLength=\"5\" x=\"131.5\" y=\"236.1074\">z</text><line style=\"stroke: #383838; stroke-width: 1.5;\" x1=\"99.5\" x2=\"168.5\" y1=\"243.9375\" y2=\"243.9375\"/></a><a href=\"psysml:cb2f8149-aa3e-4482-91f3-ed1f7789b4f6\" target=\"_top\" title=\"psysml:cb2f8149-aa3e-4482-91f3-ed1f7789b4f6\" xlink:actuate=\"onRequest\" xlink:href=\"psysml:cb2f8149-aa3e-4482-91f3-ed1f7789b4f6\" xlink:show=\"new\" xlink:title=\"psysml:cb2f8149-aa3e-4482-91f3-ed1f7789b4f6\" xlink:type=\"simple\"><polygon fill=\"#FFFFFF\" points=\"56,84.5,198,84.5,205,106.7969,212,106.7969,212,137.0938,56,137.0938,56,84.5\" style=\"stroke: #000000; stroke-width: 1.5;\"/><line style=\"stroke: #000000; stroke-width: 1.5;\" x1=\"56\" x2=\"205\" y1=\"106.7969\" y2=\"106.7969\"/><text fill=\"#000000\" font-family=\"sans-serif\" font-size=\"14\" font-weight=\"bold\" lengthAdjust=\"spacingAndGlyphs\" textLength=\"136\" x=\"60\" y=\"99.4951\">Application Layer</text></a><a href=\"psysml:c90fac5e-4b06-46df-8524-0f31fe17b625\" target=\"_top\" title=\"psysml:c90fac5e-4b06-46df-8524-0f31fe17b625\" xlink:actuate=\"onRequest\" xlink:href=\"psysml:c90fac5e-4b06-46df-8524-0f31fe17b625\" xlink:show=\"new\" xlink:title=\"psysml:c90fac5e-4b06-46df-8524-0f31fe17b625\" xlink:type=\"simple\"><polygon fill=\"#FFFFFF\" points=\"338,84.5,452,84.5,459,106.7969,466,106.7969,466,137.0938,338,137.0938,338,84.5\" style=\"stroke: #000000; stroke-width: 1.5;\"/><line style=\"stroke: #000000; stroke-width: 1.5;\" x1=\"338\" x2=\"459\" y1=\"106.7969\" y2=\"106.7969\"/><text fill=\"#000000\" font-family=\"sans-serif\" font-size=\"14\" font-weight=\"bold\" lengthAdjust=\"spacingAndGlyphs\" textLength=\"108\" x=\"342\" y=\"99.4951\">Service Layer</text></a><a href=\"psysml:5945f028-85af-4284-8707-6581cfe8107d\" target=\"_top\" title=\"psysml:5945f028-85af-4284-8707-6581cfe8107d\" xlink:actuate=\"onRequest\" xlink:href=\"psysml:5945f028-85af-4284-8707-6581cfe8107d\" xlink:show=\"new\" xlink:title=\"psysml:5945f028-85af-4284-8707-6581cfe8107d\" xlink:type=\"simple\"><polygon fill=\"#FFFFFF\" points=\"592,84.5,682,84.5,689,106.7969,696,106.7969,696,137.0938,592,137.0938,592,84.5\" style=\"stroke: #000000; stroke-width: 1.5;\"/><line style=\"stroke: #000000; stroke-width: 1.5;\" x1=\"592\" x2=\"689\" y1=\"106.7969\" y2=\"106.7969\"/><text fill=\"#000000\" font-family=\"sans-serif\" font-size=\"14\" font-weight=\"bold\" lengthAdjust=\"spacingAndGlyphs\" textLength=\"84\" x=\"596\" y=\"99.4951\">Data Layer</text></a><!--MD5=[af87c684e3b0d8be13c1a698a818ef1e]\n",
       "link E3 to E4--><a href=\"psysml:71e7e357-685b-41cb-afa1-92571af689f5\" target=\"_top\" title=\"psysml:71e7e357-685b-41cb-afa1-92571af689f5\" xlink:actuate=\"onRequest\" xlink:href=\"psysml:71e7e357-685b-41cb-afa1-92571af689f5\" xlink:show=\"new\" xlink:title=\"psysml:71e7e357-685b-41cb-afa1-92571af689f5\" xlink:type=\"simple\"><path d=\"M212.3,111 C249.37,111 293.5,111 329.76,111 \" fill=\"none\" id=\"E3-&gt;E4\" style=\"stroke: #383838; stroke-width: 1.0; stroke-dasharray: 7.0,7.0;\"/><polygon fill=\"#383838\" points=\"337.84,111,329.84,108,329.84,114,337.84,111\" style=\"stroke: #383838; stroke-width: 1.0;\"/><text fill=\"#000000\" font-family=\"sans-serif\" font-size=\"13\" lengthAdjust=\"spacingAndGlyphs\" textLength=\"64\" x=\"243\" y=\"107.0669\">«depend»</text></a><!--MD5=[1b7591eae5389033d8d09a9d6721a717]\n",
       "link E4 to E5--><a href=\"psysml:1107382a-37f6-4d52-8c17-003f9fc0676e\" target=\"_top\" title=\"psysml:1107382a-37f6-4d52-8c17-003f9fc0676e\" xlink:actuate=\"onRequest\" xlink:href=\"psysml:1107382a-37f6-4d52-8c17-003f9fc0676e\" xlink:show=\"new\" xlink:title=\"psysml:1107382a-37f6-4d52-8c17-003f9fc0676e\" xlink:type=\"simple\"><path d=\"M466.06,111 C502.32,111 547.6,111 583.28,111 \" fill=\"none\" id=\"E4-&gt;E5\" style=\"stroke: #383838; stroke-width: 1.0; stroke-dasharray: 7.0,7.0;\"/><polygon fill=\"#383838\" points=\"591.67,111,583.67,108,583.67,114,591.67,111\" style=\"stroke: #383838; stroke-width: 1.0;\"/><text fill=\"#000000\" font-family=\"sans-serif\" font-size=\"13\" lengthAdjust=\"spacingAndGlyphs\" textLength=\"64\" x=\"497\" y=\"107.0669\">«depend»</text></a><!--MD5=[c5e8897d989ce984f93528998a7150fe]\n",
       "link E8 to E6--><a href=\"psysml:a975d936-bb91-4b85-9c47-7632192c23c3\" target=\"_top\" title=\"psysml:a975d936-bb91-4b85-9c47-7632192c23c3\" xlink:actuate=\"onRequest\" xlink:href=\"psysml:a975d936-bb91-4b85-9c47-7632192c23c3\" xlink:show=\"new\" xlink:title=\"psysml:a975d936-bb91-4b85-9c47-7632192c23c3\" xlink:type=\"simple\"><path d=\"M169.5,235.23 C217.81,243.94 305.54,259.77 358.03,269.25 \" fill=\"none\" id=\"E8-&gt;E6\" style=\"stroke: #383838; stroke-width: 1.0; stroke-dasharray: 7.0,7.0;\"/><polygon fill=\"#383838\" points=\"366.14,270.71,358.7966,266.3425,357.7356,272.248,366.14,270.71\" style=\"stroke: #383838; stroke-width: 1.0;\"/><text fill=\"#000000\" font-family=\"sans-serif\" font-size=\"13\" lengthAdjust=\"spacingAndGlyphs\" textLength=\"64\" x=\"243\" y=\"245.0669\">«depend»</text></a><!--MD5=[bfa3c8b0d15052fdf50ae9310b491027]\n",
       "link E8 to E7--><a href=\"psysml:a975d936-bb91-4b85-9c47-7632192c23c3\" target=\"_top\" title=\"psysml:a975d936-bb91-4b85-9c47-7632192c23c3\" xlink:actuate=\"onRequest\" xlink:href=\"psysml:a975d936-bb91-4b85-9c47-7632192c23c3\" xlink:show=\"new\" xlink:title=\"psysml:a975d936-bb91-4b85-9c47-7632192c23c3\" xlink:type=\"simple\"><path d=\"M169.5,224.72 C217.81,218.73 305.54,207.84 358.03,201.33 \" fill=\"none\" id=\"E8-&gt;E7\" style=\"stroke: #383838; stroke-width: 1.0; stroke-dasharray: 7.0,7.0;\"/><polygon fill=\"#383838\" points=\"366.14,200.33,357.8314,198.3381,358.5704,204.2924,366.14,200.33\" style=\"stroke: #383838; stroke-width: 1.0;\"/><text fill=\"#000000\" font-family=\"sans-serif\" font-size=\"13\" lengthAdjust=\"spacingAndGlyphs\" textLength=\"64\" x=\"243\" y=\"204.0669\">«depend»</text></a><!--MD5=[689ddd6642d7f7c77f5373a5e2d35cb2]\n",
       "@startuml\r\n",
       "left to right direction\r\n",
       "skinparam monochrome true\r\n",
       "skinparam classbackgroundcolor white\r\n",
       "skinparam shadowing false\r\n",
       "skinparam wrapWidth 300\r\n",
       "hide circle\r\n",
       "\r\n",
       "package \"DependencyTest\" as E1  [[psysml:430f5b70-8499-4207-b78a-0a401723d15c ]]  {\r\n",
       "package \"System\" as E2  [[psysml:ef80acf8-3bbf-43fc-abea-40efc458e2ed ]]  {\r\n",
       "package \"Application Layer\" as E3  [[psysml:cb2f8149-aa3e-4482-91f3-ed1f7789b4f6 ]]  {\r\n",
       "}\r\n",
       "package \"Service Layer\" as E4  [[psysml:c90fac5e-4b06-46df-8524-0f31fe17b625 ]]  {\r\n",
       "}\r\n",
       "package \"Data Layer\" as E5  [[psysml:5945f028-85af-4284-8707-6581cfe8107d ]]  {\r\n",
       "}\r\n",
       "}\r\n",
       "comp usage \"x\" as E6  <<(T,blue)attribute>> [[psysml:f9adf18b-8dbf-4490-b33d-e9e2045e17b2 ]] {\r\n",
       "}\r\n",
       "comp usage \"y\" as E7  <<(T,blue)attribute>> [[psysml:b3547f0d-a84a-43aa-aeb1-8f3416005562 ]] {\r\n",
       "}\r\n",
       "comp usage \"z\" as E8  <<(T,blue)attribute>> [[psysml:06d3944d-d8a9-41b6-a7dc-ea1875e321b3 ]] {\r\n",
       "}\r\n",
       "E3 ..>> E4 [[psysml:71e7e357-685b-41cb-afa1-92571af689f5 ]] : <<depend>>\r\n",
       "E4 ..>> E5 [[psysml:1107382a-37f6-4d52-8c17-003f9fc0676e ]] : <<depend>>\r\n",
       "E8 ..>> E6 [[psysml:a975d936-bb91-4b85-9c47-7632192c23c3 ]] : <<depend>>\r\n",
       "E8 ..>> E7 [[psysml:a975d936-bb91-4b85-9c47-7632192c23c3 ]] : <<depend>>\r\n",
       "}\r\n",
       "@enduml\r\n",
       "\n",
       "PlantUML version 1.2020.13(Sat Jun 13 12:26:38 UTC 2020)\n",
       "(EPL source distribution)\n",
       "Java Runtime: OpenJDK Runtime Environment\n",
       "JVM: OpenJDK 64-Bit Server VM\n",
       "Default Encoding: UTF-8\n",
       "Language: en\n",
       "Country: null\n",
       "--></g></svg>"
      ]
     },
     "execution_count": 17,
     "metadata": {},
     "output_type": "execute_result"
    }
   ],
   "source": [
    "%viz --style=\"LR\" --view=\"Tree\" \"DependencyTest\""
   ]
  },
  {
   "cell_type": "code",
   "execution_count": 18,
   "id": "major-orientation",
   "metadata": {
    "execution": {
     "iopub.execute_input": "2021-03-25T13:51:42.649830Z",
     "iopub.status.busy": "2021-03-25T13:51:42.648959Z",
     "iopub.status.idle": "2021-03-25T13:51:42.656333Z",
     "shell.execute_reply": "2021-03-25T13:51:42.656746Z"
    }
   },
   "outputs": [
    {
     "data": {
      "image/svg+xml": [
       "<?xml version=\"1.0\" encoding=\"UTF-8\" standalone=\"no\"?><svg xmlns=\"http://www.w3.org/2000/svg\" xmlns:xlink=\"http://www.w3.org/1999/xlink\" contentScriptType=\"application/ecmascript\" contentStyleType=\"text/css\" height=\"12px\" preserveAspectRatio=\"none\" style=\"width:12px;height:12px;\" version=\"1.1\" viewBox=\"0 0 12 12\" width=\"12px\" zoomAndPan=\"magnify\"><defs/><g><!--MD5=[19d285c9d72a204eba4e2cd117d745e8]\n",
       "@startuml\r\n",
       "left to right direction\r\n",
       "skinparam monochrome true\r\n",
       "skinparam classbackgroundcolor white\r\n",
       "skinparam shadowing false\r\n",
       "skinparam wrapWidth 300\r\n",
       "hide circle\r\n",
       "\r\n",
       "@enduml\r\n",
       "\n",
       "PlantUML version 1.2020.13(Sat Jun 13 12:26:38 UTC 2020)\n",
       "(EPL source distribution)\n",
       "Java Runtime: OpenJDK Runtime Environment\n",
       "JVM: OpenJDK 64-Bit Server VM\n",
       "Default Encoding: UTF-8\n",
       "Language: en\n",
       "Country: null\n",
       "--></g></svg>"
      ]
     },
     "execution_count": 18,
     "metadata": {},
     "output_type": "execute_result"
    }
   ],
   "source": [
    "%viz --style=\"LR\" --view=\"State\" \"DependencyTest\""
   ]
  },
  {
   "cell_type": "code",
   "execution_count": 19,
   "id": "narrow-football",
   "metadata": {
    "execution": {
     "iopub.execute_input": "2021-03-25T13:51:42.708782Z",
     "iopub.status.busy": "2021-03-25T13:51:42.708096Z",
     "iopub.status.idle": "2021-03-25T13:51:42.812075Z",
     "shell.execute_reply": "2021-03-25T13:51:42.810213Z"
    }
   },
   "outputs": [
    {
     "data": {
      "image/svg+xml": [
       "<?xml version=\"1.0\" encoding=\"UTF-8\" standalone=\"no\"?><svg xmlns=\"http://www.w3.org/2000/svg\" xmlns:xlink=\"http://www.w3.org/1999/xlink\" contentScriptType=\"application/ecmascript\" contentStyleType=\"text/css\" height=\"322px\" preserveAspectRatio=\"none\" style=\"width:670px;height:322px;\" version=\"1.1\" viewBox=\"0 0 670 322\" width=\"670px\" zoomAndPan=\"magnify\"><defs/><g><!--MD5=[fbc87193dbaf4d95561dea2c320d4a47]\n",
       "cluster E1--><a href=\"psysml:430f5b70-8499-4207-b78a-0a401723d15c\" target=\"_top\" title=\"psysml:430f5b70-8499-4207-b78a-0a401723d15c\" xlink:actuate=\"onRequest\" xlink:href=\"psysml:430f5b70-8499-4207-b78a-0a401723d15c\" xlink:show=\"new\" xlink:title=\"psysml:430f5b70-8499-4207-b78a-0a401723d15c\" xlink:type=\"simple\"><polygon fill=\"#FFFFFF\" points=\"16,6,156,6,163,28.2969,648,28.2969,648,310,16,310,16,6\" style=\"stroke: #000000; stroke-width: 1.5;\"/><line style=\"stroke: #000000; stroke-width: 1.5;\" x1=\"16\" x2=\"163\" y1=\"28.2969\" y2=\"28.2969\"/><text fill=\"#000000\" font-family=\"sans-serif\" font-size=\"14\" font-weight=\"bold\" lengthAdjust=\"spacingAndGlyphs\" textLength=\"134\" x=\"20\" y=\"20.9951\">DependencyTest</text></a><!--MD5=[e4f7fae6ed58524ba242bb0b0d3be6b7]\n",
       "cluster E2--><a href=\"psysml:ef80acf8-3bbf-43fc-abea-40efc458e2ed\" target=\"_top\" title=\"psysml:ef80acf8-3bbf-43fc-abea-40efc458e2ed\" xlink:actuate=\"onRequest\" xlink:href=\"psysml:ef80acf8-3bbf-43fc-abea-40efc458e2ed\" xlink:show=\"new\" xlink:title=\"psysml:ef80acf8-3bbf-43fc-abea-40efc458e2ed\" xlink:type=\"simple\"><polygon fill=\"#FFFFFF\" points=\"40,49,104,49,111,71.2969,624,71.2969,624,154,40,154,40,49\" style=\"stroke: #000000; stroke-width: 1.5;\"/><line style=\"stroke: #000000; stroke-width: 1.5;\" x1=\"40\" x2=\"111\" y1=\"71.2969\" y2=\"71.2969\"/><text fill=\"#000000\" font-family=\"sans-serif\" font-size=\"14\" font-weight=\"bold\" lengthAdjust=\"spacingAndGlyphs\" textLength=\"58\" x=\"44\" y=\"63.9951\">System</text></a><a href=\"psysml:cb2f8149-aa3e-4482-91f3-ed1f7789b4f6\" target=\"_top\" title=\"psysml:cb2f8149-aa3e-4482-91f3-ed1f7789b4f6\" xlink:actuate=\"onRequest\" xlink:href=\"psysml:cb2f8149-aa3e-4482-91f3-ed1f7789b4f6\" xlink:show=\"new\" xlink:title=\"psysml:cb2f8149-aa3e-4482-91f3-ed1f7789b4f6\" xlink:type=\"simple\"><polygon fill=\"#FFFFFF\" points=\"56,84.5,198,84.5,205,106.7969,212,106.7969,212,137.0938,56,137.0938,56,84.5\" style=\"stroke: #000000; stroke-width: 1.5;\"/><line style=\"stroke: #000000; stroke-width: 1.5;\" x1=\"56\" x2=\"205\" y1=\"106.7969\" y2=\"106.7969\"/><text fill=\"#000000\" font-family=\"sans-serif\" font-size=\"14\" font-weight=\"bold\" lengthAdjust=\"spacingAndGlyphs\" textLength=\"136\" x=\"60\" y=\"99.4951\">Application Layer</text></a><a href=\"psysml:c90fac5e-4b06-46df-8524-0f31fe17b625\" target=\"_top\" title=\"psysml:c90fac5e-4b06-46df-8524-0f31fe17b625\" xlink:actuate=\"onRequest\" xlink:href=\"psysml:c90fac5e-4b06-46df-8524-0f31fe17b625\" xlink:show=\"new\" xlink:title=\"psysml:c90fac5e-4b06-46df-8524-0f31fe17b625\" xlink:type=\"simple\"><polygon fill=\"#FFFFFF\" points=\"294,84.5,408,84.5,415,106.7969,422,106.7969,422,137.0938,294,137.0938,294,84.5\" style=\"stroke: #000000; stroke-width: 1.5;\"/><line style=\"stroke: #000000; stroke-width: 1.5;\" x1=\"294\" x2=\"415\" y1=\"106.7969\" y2=\"106.7969\"/><text fill=\"#000000\" font-family=\"sans-serif\" font-size=\"14\" font-weight=\"bold\" lengthAdjust=\"spacingAndGlyphs\" textLength=\"108\" x=\"298\" y=\"99.4951\">Service Layer</text></a><a href=\"psysml:5945f028-85af-4284-8707-6581cfe8107d\" target=\"_top\" title=\"psysml:5945f028-85af-4284-8707-6581cfe8107d\" xlink:actuate=\"onRequest\" xlink:href=\"psysml:5945f028-85af-4284-8707-6581cfe8107d\" xlink:show=\"new\" xlink:title=\"psysml:5945f028-85af-4284-8707-6581cfe8107d\" xlink:type=\"simple\"><polygon fill=\"#FFFFFF\" points=\"504,84.5,594,84.5,601,106.7969,608,106.7969,608,137.0938,504,137.0938,504,84.5\" style=\"stroke: #000000; stroke-width: 1.5;\"/><line style=\"stroke: #000000; stroke-width: 1.5;\" x1=\"504\" x2=\"601\" y1=\"106.7969\" y2=\"106.7969\"/><text fill=\"#000000\" font-family=\"sans-serif\" font-size=\"14\" font-weight=\"bold\" lengthAdjust=\"spacingAndGlyphs\" textLength=\"84\" x=\"508\" y=\"99.4951\">Data Layer</text></a><g id=\"E1.E6\"><a href=\"psysml:f9adf18b-8dbf-4490-b33d-e9e2045e17b2\" target=\"_top\" title=\"psysml:f9adf18b-8dbf-4490-b33d-e9e2045e17b2\" xlink:actuate=\"onRequest\" xlink:href=\"psysml:f9adf18b-8dbf-4490-b33d-e9e2045e17b2\" xlink:show=\"new\" xlink:title=\"psysml:f9adf18b-8dbf-4490-b33d-e9e2045e17b2\" xlink:type=\"simple\"><rect fill=\"#FFFFFF\" height=\"42.9375\" id=\"E6\" rx=\"10\" ry=\"10\" style=\"stroke: #383838; stroke-width: 1.5;\" width=\"76\" x=\"320\" y=\"250.5\"/><rect fill=\"#F8F8F8\" height=\"37.9375\" rx=\"10\" ry=\"10\" style=\"stroke: #F8F8F8; stroke-width: 1.5;\" width=\"76\" x=\"320\" y=\"250.5\"/><rect fill=\"#F8F8F8\" height=\"10\" style=\"stroke: #F8F8F8; stroke-width: 1.5;\" width=\"76\" x=\"320\" y=\"278.4375\"/><rect fill=\"none\" height=\"42.9375\" id=\"E6\" rx=\"10\" ry=\"10\" style=\"stroke: #383838; stroke-width: 1.5;\" width=\"76\" x=\"320\" y=\"250.5\"/><text fill=\"#000000\" font-family=\"sans-serif\" font-size=\"12\" font-style=\"italic\" lengthAdjust=\"spacingAndGlyphs\" textLength=\"69\" x=\"323.5\" y=\"266.6387\">«attribute»</text><text fill=\"#000000\" font-family=\"sans-serif\" font-size=\"12\" lengthAdjust=\"spacingAndGlyphs\" textLength=\"6\" x=\"355\" y=\"280.6074\">x</text></a></g><g id=\"E1.E7\"><a href=\"psysml:b3547f0d-a84a-43aa-aeb1-8f3416005562\" target=\"_top\" title=\"psysml:b3547f0d-a84a-43aa-aeb1-8f3416005562\" xlink:actuate=\"onRequest\" xlink:href=\"psysml:b3547f0d-a84a-43aa-aeb1-8f3416005562\" xlink:show=\"new\" xlink:title=\"psysml:b3547f0d-a84a-43aa-aeb1-8f3416005562\" xlink:type=\"simple\"><rect fill=\"#FFFFFF\" height=\"42.9375\" id=\"E7\" rx=\"10\" ry=\"10\" style=\"stroke: #383838; stroke-width: 1.5;\" width=\"76\" x=\"320\" y=\"172.5\"/><rect fill=\"#F8F8F8\" height=\"37.9375\" rx=\"10\" ry=\"10\" style=\"stroke: #F8F8F8; stroke-width: 1.5;\" width=\"76\" x=\"320\" y=\"172.5\"/><rect fill=\"#F8F8F8\" height=\"10\" style=\"stroke: #F8F8F8; stroke-width: 1.5;\" width=\"76\" x=\"320\" y=\"200.4375\"/><rect fill=\"none\" height=\"42.9375\" id=\"E7\" rx=\"10\" ry=\"10\" style=\"stroke: #383838; stroke-width: 1.5;\" width=\"76\" x=\"320\" y=\"172.5\"/><text fill=\"#000000\" font-family=\"sans-serif\" font-size=\"12\" font-style=\"italic\" lengthAdjust=\"spacingAndGlyphs\" textLength=\"69\" x=\"323.5\" y=\"188.6387\">«attribute»</text><text fill=\"#000000\" font-family=\"sans-serif\" font-size=\"12\" lengthAdjust=\"spacingAndGlyphs\" textLength=\"6\" x=\"355\" y=\"202.6074\">y</text></a></g><g id=\"E1.E8\"><a href=\"psysml:06d3944d-d8a9-41b6-a7dc-ea1875e321b3\" target=\"_top\" title=\"psysml:06d3944d-d8a9-41b6-a7dc-ea1875e321b3\" xlink:actuate=\"onRequest\" xlink:href=\"psysml:06d3944d-d8a9-41b6-a7dc-ea1875e321b3\" xlink:show=\"new\" xlink:title=\"psysml:06d3944d-d8a9-41b6-a7dc-ea1875e321b3\" xlink:type=\"simple\"><rect fill=\"#FFFFFF\" height=\"42.9375\" id=\"E8\" rx=\"10\" ry=\"10\" style=\"stroke: #383838; stroke-width: 1.5;\" width=\"76\" x=\"96\" y=\"204.5\"/><rect fill=\"#F8F8F8\" height=\"37.9375\" rx=\"10\" ry=\"10\" style=\"stroke: #F8F8F8; stroke-width: 1.5;\" width=\"76\" x=\"96\" y=\"204.5\"/><rect fill=\"#F8F8F8\" height=\"10\" style=\"stroke: #F8F8F8; stroke-width: 1.5;\" width=\"76\" x=\"96\" y=\"232.4375\"/><rect fill=\"none\" height=\"42.9375\" id=\"E8\" rx=\"10\" ry=\"10\" style=\"stroke: #383838; stroke-width: 1.5;\" width=\"76\" x=\"96\" y=\"204.5\"/><text fill=\"#000000\" font-family=\"sans-serif\" font-size=\"12\" font-style=\"italic\" lengthAdjust=\"spacingAndGlyphs\" textLength=\"69\" x=\"99.5\" y=\"220.6387\">«attribute»</text><text fill=\"#000000\" font-family=\"sans-serif\" font-size=\"12\" lengthAdjust=\"spacingAndGlyphs\" textLength=\"5\" x=\"131.5\" y=\"234.6074\">z</text></a></g><!--MD5=[af87c684e3b0d8be13c1a698a818ef1e]\n",
       "link E3 to E4--><a href=\"psysml:71e7e357-685b-41cb-afa1-92571af689f5\" target=\"_top\" title=\"psysml:71e7e357-685b-41cb-afa1-92571af689f5\" xlink:actuate=\"onRequest\" xlink:href=\"psysml:71e7e357-685b-41cb-afa1-92571af689f5\" xlink:show=\"new\" xlink:title=\"psysml:71e7e357-685b-41cb-afa1-92571af689f5\" xlink:type=\"simple\"><path d=\"M212.02,111 C235.88,111 262.06,111 285.53,111 \" fill=\"none\" id=\"E3-&gt;E4\" style=\"stroke: #383838; stroke-width: 1.0; stroke-dasharray: 7.0,7.0;\"/><polygon fill=\"#383838\" points=\"293.71,111,285.71,108,285.71,114,293.71,111\" style=\"stroke: #383838; stroke-width: 1.0;\"/><text fill=\"#000000\" font-family=\"sans-serif\" font-size=\"13\" lengthAdjust=\"spacingAndGlyphs\" textLength=\"64\" x=\"221\" y=\"107.0669\">«depend»</text></a><!--MD5=[1b7591eae5389033d8d09a9d6721a717]\n",
       "link E4 to E5--><a href=\"psysml:1107382a-37f6-4d52-8c17-003f9fc0676e\" target=\"_top\" title=\"psysml:1107382a-37f6-4d52-8c17-003f9fc0676e\" xlink:actuate=\"onRequest\" xlink:href=\"psysml:1107382a-37f6-4d52-8c17-003f9fc0676e\" xlink:show=\"new\" xlink:title=\"psysml:1107382a-37f6-4d52-8c17-003f9fc0676e\" xlink:type=\"simple\"><path d=\"M422.09,111 C445.72,111 472.46,111 495.72,111 \" fill=\"none\" id=\"E4-&gt;E5\" style=\"stroke: #383838; stroke-width: 1.0; stroke-dasharray: 7.0,7.0;\"/><polygon fill=\"#383838\" points=\"503.8,111,495.8,108,495.8,114,503.8,111\" style=\"stroke: #383838; stroke-width: 1.0;\"/><text fill=\"#000000\" font-family=\"sans-serif\" font-size=\"13\" lengthAdjust=\"spacingAndGlyphs\" textLength=\"64\" x=\"431\" y=\"107.0669\">«depend»</text></a><!--MD5=[c5e8897d989ce984f93528998a7150fe]\n",
       "link E8 to E6--><a href=\"psysml:a975d936-bb91-4b85-9c47-7632192c23c3\" target=\"_top\" title=\"psysml:a975d936-bb91-4b85-9c47-7632192c23c3\" xlink:actuate=\"onRequest\" xlink:href=\"psysml:a975d936-bb91-4b85-9c47-7632192c23c3\" xlink:show=\"new\" xlink:title=\"psysml:a975d936-bb91-4b85-9c47-7632192c23c3\" xlink:type=\"simple\"><path d=\"M172.16,233.7 C210.58,241.66 270.59,254.1 311.75,262.62 \" fill=\"none\" id=\"E8-&gt;E6\" style=\"stroke: #383838; stroke-width: 1.0; stroke-dasharray: 7.0,7.0;\"/><polygon fill=\"#383838\" points=\"319.72,264.28,312.4987,259.7135,311.2767,265.5878,319.72,264.28\" style=\"stroke: #383838; stroke-width: 1.0;\"/><text fill=\"#000000\" font-family=\"sans-serif\" font-size=\"13\" lengthAdjust=\"spacingAndGlyphs\" textLength=\"64\" x=\"221\" y=\"241.0669\">«depend»</text></a><!--MD5=[bfa3c8b0d15052fdf50ae9310b491027]\n",
       "link E8 to E7--><a href=\"psysml:a975d936-bb91-4b85-9c47-7632192c23c3\" target=\"_top\" title=\"psysml:a975d936-bb91-4b85-9c47-7632192c23c3\" xlink:actuate=\"onRequest\" xlink:href=\"psysml:a975d936-bb91-4b85-9c47-7632192c23c3\" xlink:show=\"new\" xlink:title=\"psysml:a975d936-bb91-4b85-9c47-7632192c23c3\" xlink:type=\"simple\"><path d=\"M172.16,220.64 C210.58,215.11 270.59,206.45 311.75,200.52 \" fill=\"none\" id=\"E8-&gt;E7\" style=\"stroke: #383838; stroke-width: 1.0; stroke-dasharray: 7.0,7.0;\"/><polygon fill=\"#383838\" points=\"319.72,199.37,311.3738,197.542,312.2298,203.4807,319.72,199.37\" style=\"stroke: #383838; stroke-width: 1.0;\"/><text fill=\"#000000\" font-family=\"sans-serif\" font-size=\"13\" lengthAdjust=\"spacingAndGlyphs\" textLength=\"64\" x=\"221\" y=\"201.0669\">«depend»</text></a><!--MD5=[e34ced668ebb319bf0a4c257c8d7bf0a]\n",
       "@startuml\r\n",
       "skinparam ranksep 8\r\n",
       "skinparam rectangle {\r\n",
       " backgroundColor<<block>> LightGreen\r\n",
       "}\r\n",
       "left to right direction\r\n",
       "skinparam monochrome true\r\n",
       "skinparam classbackgroundcolor white\r\n",
       "skinparam shadowing false\r\n",
       "skinparam wrapWidth 300\r\n",
       "hide circle\r\n",
       "\r\n",
       "package \"DependencyTest\" as E1  [[psysml:430f5b70-8499-4207-b78a-0a401723d15c ]]  {\r\n",
       "package \"System\" as E2  [[psysml:ef80acf8-3bbf-43fc-abea-40efc458e2ed ]]  {\r\n",
       "package \"Application Layer\" as E3  [[psysml:cb2f8149-aa3e-4482-91f3-ed1f7789b4f6 ]]  {\r\n",
       "}\r\n",
       "package \"Service Layer\" as E4  [[psysml:c90fac5e-4b06-46df-8524-0f31fe17b625 ]]  {\r\n",
       "}\r\n",
       "package \"Data Layer\" as E5  [[psysml:5945f028-85af-4284-8707-6581cfe8107d ]]  {\r\n",
       "}\r\n",
       "}\r\n",
       "rec usage \"x\" as E6  <<(T,blue)attribute>> [[psysml:f9adf18b-8dbf-4490-b33d-e9e2045e17b2 ]] {\r\n",
       "}\r\n",
       "rec usage \"y\" as E7  <<(T,blue)attribute>> [[psysml:b3547f0d-a84a-43aa-aeb1-8f3416005562 ]] {\r\n",
       "}\r\n",
       "rec usage \"z\" as E8  <<(T,blue)attribute>> [[psysml:06d3944d-d8a9-41b6-a7dc-ea1875e321b3 ]] {\r\n",
       "}\r\n",
       "E3 ..>> E4 [[psysml:71e7e357-685b-41cb-afa1-92571af689f5 ]] : <<depend>>\r\n",
       "E4 ..>> E5 [[psysml:1107382a-37f6-4d52-8c17-003f9fc0676e ]] : <<depend>>\r\n",
       "E8 ..>> E6 [[psysml:a975d936-bb91-4b85-9c47-7632192c23c3 ]] : <<depend>>\r\n",
       "E8 ..>> E7 [[psysml:a975d936-bb91-4b85-9c47-7632192c23c3 ]] : <<depend>>\r\n",
       "}\r\n",
       "@enduml\r\n",
       "\n",
       "PlantUML version 1.2020.13(Sat Jun 13 12:26:38 UTC 2020)\n",
       "(EPL source distribution)\n",
       "Java Runtime: OpenJDK Runtime Environment\n",
       "JVM: OpenJDK 64-Bit Server VM\n",
       "Default Encoding: UTF-8\n",
       "Language: en\n",
       "Country: null\n",
       "--></g></svg>"
      ]
     },
     "execution_count": 19,
     "metadata": {},
     "output_type": "execute_result"
    }
   ],
   "source": [
    "%viz --style=\"LR\" --view=\"Interconnection\" \"DependencyTest\""
   ]
  },
  {
   "cell_type": "code",
   "execution_count": 20,
   "id": "desirable-shadow",
   "metadata": {
    "execution": {
     "iopub.execute_input": "2021-03-25T13:51:42.862162Z",
     "iopub.status.busy": "2021-03-25T13:51:42.861411Z",
     "iopub.status.idle": "2021-03-25T13:51:42.868348Z",
     "shell.execute_reply": "2021-03-25T13:51:42.868752Z"
    }
   },
   "outputs": [
    {
     "data": {
      "image/svg+xml": [
       "<?xml version=\"1.0\" encoding=\"UTF-8\" standalone=\"no\"?><svg xmlns=\"http://www.w3.org/2000/svg\" xmlns:xlink=\"http://www.w3.org/1999/xlink\" contentScriptType=\"application/ecmascript\" contentStyleType=\"text/css\" height=\"12px\" preserveAspectRatio=\"none\" style=\"width:12px;height:12px;\" version=\"1.1\" viewBox=\"0 0 12 12\" width=\"12px\" zoomAndPan=\"magnify\"><defs/><g><!--MD5=[7aeb398939421629f6affaa4a1a7b125]\n",
       "@startuml\r\n",
       "skinparam ranksep 8\r\n",
       "left to right direction\r\n",
       "skinparam monochrome true\r\n",
       "skinparam classbackgroundcolor white\r\n",
       "skinparam shadowing false\r\n",
       "skinparam wrapWidth 300\r\n",
       "hide circle\r\n",
       "\r\n",
       "@enduml\r\n",
       "\n",
       "PlantUML version 1.2020.13(Sat Jun 13 12:26:38 UTC 2020)\n",
       "(EPL source distribution)\n",
       "Java Runtime: OpenJDK Runtime Environment\n",
       "JVM: OpenJDK 64-Bit Server VM\n",
       "Default Encoding: UTF-8\n",
       "Language: en\n",
       "Country: null\n",
       "--></g></svg>"
      ]
     },
     "execution_count": 20,
     "metadata": {},
     "output_type": "execute_result"
    }
   ],
   "source": [
    "%viz --style=\"LR\" --view=\"Action\" \"DependencyTest\""
   ]
  },
  {
   "cell_type": "code",
   "execution_count": 21,
   "id": "virtual-brand",
   "metadata": {
    "execution": {
     "iopub.execute_input": "2021-03-25T13:51:42.920067Z",
     "iopub.status.busy": "2021-03-25T13:51:42.919604Z",
     "iopub.status.idle": "2021-03-25T13:51:43.027556Z",
     "shell.execute_reply": "2021-03-25T13:51:43.027159Z"
    }
   },
   "outputs": [
    {
     "data": {
      "image/svg+xml": [
       "<?xml version=\"1.0\" encoding=\"UTF-8\" standalone=\"no\"?><svg xmlns=\"http://www.w3.org/2000/svg\" xmlns:xlink=\"http://www.w3.org/1999/xlink\" contentScriptType=\"application/ecmascript\" contentStyleType=\"text/css\" height=\"328px\" preserveAspectRatio=\"none\" style=\"width:758px;height:328px;\" version=\"1.1\" viewBox=\"0 0 758 328\" width=\"758px\" zoomAndPan=\"magnify\"><defs/><g><!--MD5=[fbc87193dbaf4d95561dea2c320d4a47]\n",
       "cluster E1--><a href=\"psysml:430f5b70-8499-4207-b78a-0a401723d15c\" target=\"_top\" title=\"psysml:430f5b70-8499-4207-b78a-0a401723d15c\" xlink:actuate=\"onRequest\" xlink:href=\"psysml:430f5b70-8499-4207-b78a-0a401723d15c\" xlink:show=\"new\" xlink:title=\"psysml:430f5b70-8499-4207-b78a-0a401723d15c\" xlink:type=\"simple\"><polygon fill=\"#FFFFFF\" points=\"16,6,156,6,163,28.2969,736,28.2969,736,316,16,316,16,6\" style=\"stroke: #000000; stroke-width: 1.5;\"/><line style=\"stroke: #000000; stroke-width: 1.5;\" x1=\"16\" x2=\"163\" y1=\"28.2969\" y2=\"28.2969\"/><text fill=\"#000000\" font-family=\"sans-serif\" font-size=\"14\" font-weight=\"bold\" lengthAdjust=\"spacingAndGlyphs\" textLength=\"134\" x=\"20\" y=\"20.9951\">DependencyTest</text></a><!--MD5=[e4f7fae6ed58524ba242bb0b0d3be6b7]\n",
       "cluster E2--><a href=\"psysml:ef80acf8-3bbf-43fc-abea-40efc458e2ed\" target=\"_top\" title=\"psysml:ef80acf8-3bbf-43fc-abea-40efc458e2ed\" xlink:actuate=\"onRequest\" xlink:href=\"psysml:ef80acf8-3bbf-43fc-abea-40efc458e2ed\" xlink:show=\"new\" xlink:title=\"psysml:ef80acf8-3bbf-43fc-abea-40efc458e2ed\" xlink:type=\"simple\"><polygon fill=\"#FFFFFF\" points=\"40,49,104,49,111,71.2969,712,71.2969,712,154,40,154,40,49\" style=\"stroke: #000000; stroke-width: 1.5;\"/><line style=\"stroke: #000000; stroke-width: 1.5;\" x1=\"40\" x2=\"111\" y1=\"71.2969\" y2=\"71.2969\"/><text fill=\"#000000\" font-family=\"sans-serif\" font-size=\"14\" font-weight=\"bold\" lengthAdjust=\"spacingAndGlyphs\" textLength=\"58\" x=\"44\" y=\"63.9951\">System</text></a><!--MD5=[60a26617385b1d2d0262a64233df1f8d]\n",
       "class E6--><a href=\"psysml:f9adf18b-8dbf-4490-b33d-e9e2045e17b2\" target=\"_top\" title=\"psysml:f9adf18b-8dbf-4490-b33d-e9e2045e17b2\" xlink:actuate=\"onRequest\" xlink:href=\"psysml:f9adf18b-8dbf-4490-b33d-e9e2045e17b2\" xlink:show=\"new\" xlink:title=\"psysml:f9adf18b-8dbf-4490-b33d-e9e2045e17b2\" xlink:type=\"simple\"><rect fill=\"#FFFFFF\" height=\"45.9375\" id=\"E6\" rx=\"10\" ry=\"10\" style=\"stroke: #383838; stroke-width: 1.5;\" width=\"71\" x=\"366.5\" y=\"254\"/><text fill=\"#000000\" font-family=\"sans-serif\" font-size=\"12\" font-style=\"italic\" lengthAdjust=\"spacingAndGlyphs\" textLength=\"69\" x=\"367.5\" y=\"270.1387\">«attribute»</text><text fill=\"#000000\" font-family=\"sans-serif\" font-size=\"12\" lengthAdjust=\"spacingAndGlyphs\" textLength=\"6\" x=\"399\" y=\"284.1074\">x</text><line style=\"stroke: #383838; stroke-width: 1.5;\" x1=\"367.5\" x2=\"436.5\" y1=\"291.9375\" y2=\"291.9375\"/></a><!--MD5=[2156ba9850f5573cc1fc38a6a4b2f02b]\n",
       "class E7--><a href=\"psysml:b3547f0d-a84a-43aa-aeb1-8f3416005562\" target=\"_top\" title=\"psysml:b3547f0d-a84a-43aa-aeb1-8f3416005562\" xlink:actuate=\"onRequest\" xlink:href=\"psysml:b3547f0d-a84a-43aa-aeb1-8f3416005562\" xlink:show=\"new\" xlink:title=\"psysml:b3547f0d-a84a-43aa-aeb1-8f3416005562\" xlink:type=\"simple\"><rect fill=\"#FFFFFF\" height=\"45.9375\" id=\"E7\" rx=\"10\" ry=\"10\" style=\"stroke: #383838; stroke-width: 1.5;\" width=\"71\" x=\"366.5\" y=\"173\"/><text fill=\"#000000\" font-family=\"sans-serif\" font-size=\"12\" font-style=\"italic\" lengthAdjust=\"spacingAndGlyphs\" textLength=\"69\" x=\"367.5\" y=\"189.1387\">«attribute»</text><text fill=\"#000000\" font-family=\"sans-serif\" font-size=\"12\" lengthAdjust=\"spacingAndGlyphs\" textLength=\"6\" x=\"399\" y=\"203.1074\">y</text><line style=\"stroke: #383838; stroke-width: 1.5;\" x1=\"367.5\" x2=\"436.5\" y1=\"210.9375\" y2=\"210.9375\"/></a><!--MD5=[b9389687b975829384b498ac4b7476b2]\n",
       "class E8--><a href=\"psysml:06d3944d-d8a9-41b6-a7dc-ea1875e321b3\" target=\"_top\" title=\"psysml:06d3944d-d8a9-41b6-a7dc-ea1875e321b3\" xlink:actuate=\"onRequest\" xlink:href=\"psysml:06d3944d-d8a9-41b6-a7dc-ea1875e321b3\" xlink:show=\"new\" xlink:title=\"psysml:06d3944d-d8a9-41b6-a7dc-ea1875e321b3\" xlink:type=\"simple\"><rect fill=\"#FFFFFF\" height=\"45.9375\" id=\"E8\" rx=\"10\" ry=\"10\" style=\"stroke: #383838; stroke-width: 1.5;\" width=\"71\" x=\"98.5\" y=\"206\"/><text fill=\"#000000\" font-family=\"sans-serif\" font-size=\"12\" font-style=\"italic\" lengthAdjust=\"spacingAndGlyphs\" textLength=\"69\" x=\"99.5\" y=\"222.1387\">«attribute»</text><text fill=\"#000000\" font-family=\"sans-serif\" font-size=\"12\" lengthAdjust=\"spacingAndGlyphs\" textLength=\"5\" x=\"131.5\" y=\"236.1074\">z</text><line style=\"stroke: #383838; stroke-width: 1.5;\" x1=\"99.5\" x2=\"168.5\" y1=\"243.9375\" y2=\"243.9375\"/></a><a href=\"psysml:cb2f8149-aa3e-4482-91f3-ed1f7789b4f6\" target=\"_top\" title=\"psysml:cb2f8149-aa3e-4482-91f3-ed1f7789b4f6\" xlink:actuate=\"onRequest\" xlink:href=\"psysml:cb2f8149-aa3e-4482-91f3-ed1f7789b4f6\" xlink:show=\"new\" xlink:title=\"psysml:cb2f8149-aa3e-4482-91f3-ed1f7789b4f6\" xlink:type=\"simple\"><polygon fill=\"#FFFFFF\" points=\"56,84.5,198,84.5,205,106.7969,212,106.7969,212,137.0938,56,137.0938,56,84.5\" style=\"stroke: #000000; stroke-width: 1.5;\"/><line style=\"stroke: #000000; stroke-width: 1.5;\" x1=\"56\" x2=\"205\" y1=\"106.7969\" y2=\"106.7969\"/><text fill=\"#000000\" font-family=\"sans-serif\" font-size=\"14\" font-weight=\"bold\" lengthAdjust=\"spacingAndGlyphs\" textLength=\"136\" x=\"60\" y=\"99.4951\">Application Layer</text></a><a href=\"psysml:c90fac5e-4b06-46df-8524-0f31fe17b625\" target=\"_top\" title=\"psysml:c90fac5e-4b06-46df-8524-0f31fe17b625\" xlink:actuate=\"onRequest\" xlink:href=\"psysml:c90fac5e-4b06-46df-8524-0f31fe17b625\" xlink:show=\"new\" xlink:title=\"psysml:c90fac5e-4b06-46df-8524-0f31fe17b625\" xlink:type=\"simple\"><polygon fill=\"#FFFFFF\" points=\"338,84.5,452,84.5,459,106.7969,466,106.7969,466,137.0938,338,137.0938,338,84.5\" style=\"stroke: #000000; stroke-width: 1.5;\"/><line style=\"stroke: #000000; stroke-width: 1.5;\" x1=\"338\" x2=\"459\" y1=\"106.7969\" y2=\"106.7969\"/><text fill=\"#000000\" font-family=\"sans-serif\" font-size=\"14\" font-weight=\"bold\" lengthAdjust=\"spacingAndGlyphs\" textLength=\"108\" x=\"342\" y=\"99.4951\">Service Layer</text></a><a href=\"psysml:5945f028-85af-4284-8707-6581cfe8107d\" target=\"_top\" title=\"psysml:5945f028-85af-4284-8707-6581cfe8107d\" xlink:actuate=\"onRequest\" xlink:href=\"psysml:5945f028-85af-4284-8707-6581cfe8107d\" xlink:show=\"new\" xlink:title=\"psysml:5945f028-85af-4284-8707-6581cfe8107d\" xlink:type=\"simple\"><polygon fill=\"#FFFFFF\" points=\"592,84.5,682,84.5,689,106.7969,696,106.7969,696,137.0938,592,137.0938,592,84.5\" style=\"stroke: #000000; stroke-width: 1.5;\"/><line style=\"stroke: #000000; stroke-width: 1.5;\" x1=\"592\" x2=\"689\" y1=\"106.7969\" y2=\"106.7969\"/><text fill=\"#000000\" font-family=\"sans-serif\" font-size=\"14\" font-weight=\"bold\" lengthAdjust=\"spacingAndGlyphs\" textLength=\"84\" x=\"596\" y=\"99.4951\">Data Layer</text></a><!--MD5=[af87c684e3b0d8be13c1a698a818ef1e]\n",
       "link E3 to E4--><a href=\"psysml:71e7e357-685b-41cb-afa1-92571af689f5\" target=\"_top\" title=\"psysml:71e7e357-685b-41cb-afa1-92571af689f5\" xlink:actuate=\"onRequest\" xlink:href=\"psysml:71e7e357-685b-41cb-afa1-92571af689f5\" xlink:show=\"new\" xlink:title=\"psysml:71e7e357-685b-41cb-afa1-92571af689f5\" xlink:type=\"simple\"><path d=\"M212.3,111 C249.37,111 293.5,111 329.76,111 \" fill=\"none\" id=\"E3-&gt;E4\" style=\"stroke: #383838; stroke-width: 1.0; stroke-dasharray: 7.0,7.0;\"/><polygon fill=\"#383838\" points=\"337.84,111,329.84,108,329.84,114,337.84,111\" style=\"stroke: #383838; stroke-width: 1.0;\"/><text fill=\"#000000\" font-family=\"sans-serif\" font-size=\"13\" lengthAdjust=\"spacingAndGlyphs\" textLength=\"64\" x=\"243\" y=\"107.0669\">«depend»</text></a><!--MD5=[1b7591eae5389033d8d09a9d6721a717]\n",
       "link E4 to E5--><a href=\"psysml:1107382a-37f6-4d52-8c17-003f9fc0676e\" target=\"_top\" title=\"psysml:1107382a-37f6-4d52-8c17-003f9fc0676e\" xlink:actuate=\"onRequest\" xlink:href=\"psysml:1107382a-37f6-4d52-8c17-003f9fc0676e\" xlink:show=\"new\" xlink:title=\"psysml:1107382a-37f6-4d52-8c17-003f9fc0676e\" xlink:type=\"simple\"><path d=\"M466.06,111 C502.32,111 547.6,111 583.28,111 \" fill=\"none\" id=\"E4-&gt;E5\" style=\"stroke: #383838; stroke-width: 1.0; stroke-dasharray: 7.0,7.0;\"/><polygon fill=\"#383838\" points=\"591.67,111,583.67,108,583.67,114,591.67,111\" style=\"stroke: #383838; stroke-width: 1.0;\"/><text fill=\"#000000\" font-family=\"sans-serif\" font-size=\"13\" lengthAdjust=\"spacingAndGlyphs\" textLength=\"64\" x=\"497\" y=\"107.0669\">«depend»</text></a><!--MD5=[c5e8897d989ce984f93528998a7150fe]\n",
       "link E8 to E6--><a href=\"psysml:a975d936-bb91-4b85-9c47-7632192c23c3\" target=\"_top\" title=\"psysml:a975d936-bb91-4b85-9c47-7632192c23c3\" xlink:actuate=\"onRequest\" xlink:href=\"psysml:a975d936-bb91-4b85-9c47-7632192c23c3\" xlink:show=\"new\" xlink:title=\"psysml:a975d936-bb91-4b85-9c47-7632192c23c3\" xlink:type=\"simple\"><path d=\"M169.5,235.23 C217.81,243.94 305.54,259.77 358.03,269.25 \" fill=\"none\" id=\"E8-&gt;E6\" style=\"stroke: #383838; stroke-width: 1.0; stroke-dasharray: 7.0,7.0;\"/><polygon fill=\"#383838\" points=\"366.14,270.71,358.7966,266.3425,357.7356,272.248,366.14,270.71\" style=\"stroke: #383838; stroke-width: 1.0;\"/><text fill=\"#000000\" font-family=\"sans-serif\" font-size=\"13\" lengthAdjust=\"spacingAndGlyphs\" textLength=\"64\" x=\"243\" y=\"245.0669\">«depend»</text></a><!--MD5=[bfa3c8b0d15052fdf50ae9310b491027]\n",
       "link E8 to E7--><a href=\"psysml:a975d936-bb91-4b85-9c47-7632192c23c3\" target=\"_top\" title=\"psysml:a975d936-bb91-4b85-9c47-7632192c23c3\" xlink:actuate=\"onRequest\" xlink:href=\"psysml:a975d936-bb91-4b85-9c47-7632192c23c3\" xlink:show=\"new\" xlink:title=\"psysml:a975d936-bb91-4b85-9c47-7632192c23c3\" xlink:type=\"simple\"><path d=\"M169.5,224.72 C217.81,218.73 305.54,207.84 358.03,201.33 \" fill=\"none\" id=\"E8-&gt;E7\" style=\"stroke: #383838; stroke-width: 1.0; stroke-dasharray: 7.0,7.0;\"/><polygon fill=\"#383838\" points=\"366.14,200.33,357.8314,198.3381,358.5704,204.2924,366.14,200.33\" style=\"stroke: #383838; stroke-width: 1.0;\"/><text fill=\"#000000\" font-family=\"sans-serif\" font-size=\"13\" lengthAdjust=\"spacingAndGlyphs\" textLength=\"64\" x=\"243\" y=\"204.0669\">«depend»</text></a><!--MD5=[689ddd6642d7f7c77f5373a5e2d35cb2]\n",
       "@startuml\r\n",
       "left to right direction\r\n",
       "skinparam monochrome true\r\n",
       "skinparam classbackgroundcolor white\r\n",
       "skinparam shadowing false\r\n",
       "skinparam wrapWidth 300\r\n",
       "hide circle\r\n",
       "\r\n",
       "package \"DependencyTest\" as E1  [[psysml:430f5b70-8499-4207-b78a-0a401723d15c ]]  {\r\n",
       "package \"System\" as E2  [[psysml:ef80acf8-3bbf-43fc-abea-40efc458e2ed ]]  {\r\n",
       "package \"Application Layer\" as E3  [[psysml:cb2f8149-aa3e-4482-91f3-ed1f7789b4f6 ]]  {\r\n",
       "}\r\n",
       "package \"Service Layer\" as E4  [[psysml:c90fac5e-4b06-46df-8524-0f31fe17b625 ]]  {\r\n",
       "}\r\n",
       "package \"Data Layer\" as E5  [[psysml:5945f028-85af-4284-8707-6581cfe8107d ]]  {\r\n",
       "}\r\n",
       "}\r\n",
       "comp usage \"x\" as E6  <<(T,blue)attribute>> [[psysml:f9adf18b-8dbf-4490-b33d-e9e2045e17b2 ]] {\r\n",
       "}\r\n",
       "comp usage \"y\" as E7  <<(T,blue)attribute>> [[psysml:b3547f0d-a84a-43aa-aeb1-8f3416005562 ]] {\r\n",
       "}\r\n",
       "comp usage \"z\" as E8  <<(T,blue)attribute>> [[psysml:06d3944d-d8a9-41b6-a7dc-ea1875e321b3 ]] {\r\n",
       "}\r\n",
       "E3 ..>> E4 [[psysml:71e7e357-685b-41cb-afa1-92571af689f5 ]] : <<depend>>\r\n",
       "E4 ..>> E5 [[psysml:1107382a-37f6-4d52-8c17-003f9fc0676e ]] : <<depend>>\r\n",
       "E8 ..>> E6 [[psysml:a975d936-bb91-4b85-9c47-7632192c23c3 ]] : <<depend>>\r\n",
       "E8 ..>> E7 [[psysml:a975d936-bb91-4b85-9c47-7632192c23c3 ]] : <<depend>>\r\n",
       "}\r\n",
       "@enduml\r\n",
       "\n",
       "PlantUML version 1.2020.13(Sat Jun 13 12:26:38 UTC 2020)\n",
       "(EPL source distribution)\n",
       "Java Runtime: OpenJDK Runtime Environment\n",
       "JVM: OpenJDK 64-Bit Server VM\n",
       "Default Encoding: UTF-8\n",
       "Language: en\n",
       "Country: null\n",
       "--></g></svg>"
      ]
     },
     "execution_count": 21,
     "metadata": {},
     "output_type": "execute_result"
    }
   ],
   "source": [
    "%viz --style=\"LR\" --view=\"Sequence\" \"DependencyTest\""
   ]
  },
  {
   "cell_type": "code",
   "execution_count": 22,
   "id": "compact-carry",
   "metadata": {
    "execution": {
     "iopub.execute_input": "2021-03-25T13:51:43.079008Z",
     "iopub.status.busy": "2021-03-25T13:51:43.078402Z",
     "iopub.status.idle": "2021-03-25T13:51:43.175811Z",
     "shell.execute_reply": "2021-03-25T13:51:43.174368Z"
    }
   },
   "outputs": [
    {
     "data": {
      "image/svg+xml": [
       "<?xml version=\"1.0\" encoding=\"UTF-8\" standalone=\"no\"?><svg xmlns=\"http://www.w3.org/2000/svg\" xmlns:xlink=\"http://www.w3.org/1999/xlink\" contentScriptType=\"application/ecmascript\" contentStyleType=\"text/css\" height=\"328px\" preserveAspectRatio=\"none\" style=\"width:758px;height:328px;\" version=\"1.1\" viewBox=\"0 0 758 328\" width=\"758px\" zoomAndPan=\"magnify\"><defs/><g><!--MD5=[fbc87193dbaf4d95561dea2c320d4a47]\n",
       "cluster E1--><a href=\"psysml:430f5b70-8499-4207-b78a-0a401723d15c\" target=\"_top\" title=\"psysml:430f5b70-8499-4207-b78a-0a401723d15c\" xlink:actuate=\"onRequest\" xlink:href=\"psysml:430f5b70-8499-4207-b78a-0a401723d15c\" xlink:show=\"new\" xlink:title=\"psysml:430f5b70-8499-4207-b78a-0a401723d15c\" xlink:type=\"simple\"><polygon fill=\"#FFFFFF\" points=\"16,6,156,6,163,28.2969,736,28.2969,736,316,16,316,16,6\" style=\"stroke: #000000; stroke-width: 1.5;\"/><line style=\"stroke: #000000; stroke-width: 1.5;\" x1=\"16\" x2=\"163\" y1=\"28.2969\" y2=\"28.2969\"/><text fill=\"#000000\" font-family=\"sans-serif\" font-size=\"14\" font-weight=\"bold\" lengthAdjust=\"spacingAndGlyphs\" textLength=\"134\" x=\"20\" y=\"20.9951\">DependencyTest</text></a><!--MD5=[e4f7fae6ed58524ba242bb0b0d3be6b7]\n",
       "cluster E2--><a href=\"psysml:ef80acf8-3bbf-43fc-abea-40efc458e2ed\" target=\"_top\" title=\"psysml:ef80acf8-3bbf-43fc-abea-40efc458e2ed\" xlink:actuate=\"onRequest\" xlink:href=\"psysml:ef80acf8-3bbf-43fc-abea-40efc458e2ed\" xlink:show=\"new\" xlink:title=\"psysml:ef80acf8-3bbf-43fc-abea-40efc458e2ed\" xlink:type=\"simple\"><polygon fill=\"#FFFFFF\" points=\"40,49,104,49,111,71.2969,712,71.2969,712,154,40,154,40,49\" style=\"stroke: #000000; stroke-width: 1.5;\"/><line style=\"stroke: #000000; stroke-width: 1.5;\" x1=\"40\" x2=\"111\" y1=\"71.2969\" y2=\"71.2969\"/><text fill=\"#000000\" font-family=\"sans-serif\" font-size=\"14\" font-weight=\"bold\" lengthAdjust=\"spacingAndGlyphs\" textLength=\"58\" x=\"44\" y=\"63.9951\">System</text></a><!--MD5=[60a26617385b1d2d0262a64233df1f8d]\n",
       "class E6--><a href=\"psysml:f9adf18b-8dbf-4490-b33d-e9e2045e17b2\" target=\"_top\" title=\"psysml:f9adf18b-8dbf-4490-b33d-e9e2045e17b2\" xlink:actuate=\"onRequest\" xlink:href=\"psysml:f9adf18b-8dbf-4490-b33d-e9e2045e17b2\" xlink:show=\"new\" xlink:title=\"psysml:f9adf18b-8dbf-4490-b33d-e9e2045e17b2\" xlink:type=\"simple\"><rect fill=\"#FFFFFF\" height=\"45.9375\" id=\"E6\" rx=\"10\" ry=\"10\" style=\"stroke: #383838; stroke-width: 1.5;\" width=\"71\" x=\"366.5\" y=\"254\"/><text fill=\"#000000\" font-family=\"sans-serif\" font-size=\"12\" font-style=\"italic\" lengthAdjust=\"spacingAndGlyphs\" textLength=\"69\" x=\"367.5\" y=\"270.1387\">«attribute»</text><text fill=\"#000000\" font-family=\"sans-serif\" font-size=\"12\" lengthAdjust=\"spacingAndGlyphs\" textLength=\"6\" x=\"399\" y=\"284.1074\">x</text><line style=\"stroke: #383838; stroke-width: 1.5;\" x1=\"367.5\" x2=\"436.5\" y1=\"291.9375\" y2=\"291.9375\"/></a><!--MD5=[2156ba9850f5573cc1fc38a6a4b2f02b]\n",
       "class E7--><a href=\"psysml:b3547f0d-a84a-43aa-aeb1-8f3416005562\" target=\"_top\" title=\"psysml:b3547f0d-a84a-43aa-aeb1-8f3416005562\" xlink:actuate=\"onRequest\" xlink:href=\"psysml:b3547f0d-a84a-43aa-aeb1-8f3416005562\" xlink:show=\"new\" xlink:title=\"psysml:b3547f0d-a84a-43aa-aeb1-8f3416005562\" xlink:type=\"simple\"><rect fill=\"#FFFFFF\" height=\"45.9375\" id=\"E7\" rx=\"10\" ry=\"10\" style=\"stroke: #383838; stroke-width: 1.5;\" width=\"71\" x=\"366.5\" y=\"173\"/><text fill=\"#000000\" font-family=\"sans-serif\" font-size=\"12\" font-style=\"italic\" lengthAdjust=\"spacingAndGlyphs\" textLength=\"69\" x=\"367.5\" y=\"189.1387\">«attribute»</text><text fill=\"#000000\" font-family=\"sans-serif\" font-size=\"12\" lengthAdjust=\"spacingAndGlyphs\" textLength=\"6\" x=\"399\" y=\"203.1074\">y</text><line style=\"stroke: #383838; stroke-width: 1.5;\" x1=\"367.5\" x2=\"436.5\" y1=\"210.9375\" y2=\"210.9375\"/></a><!--MD5=[b9389687b975829384b498ac4b7476b2]\n",
       "class E8--><a href=\"psysml:06d3944d-d8a9-41b6-a7dc-ea1875e321b3\" target=\"_top\" title=\"psysml:06d3944d-d8a9-41b6-a7dc-ea1875e321b3\" xlink:actuate=\"onRequest\" xlink:href=\"psysml:06d3944d-d8a9-41b6-a7dc-ea1875e321b3\" xlink:show=\"new\" xlink:title=\"psysml:06d3944d-d8a9-41b6-a7dc-ea1875e321b3\" xlink:type=\"simple\"><rect fill=\"#FFFFFF\" height=\"45.9375\" id=\"E8\" rx=\"10\" ry=\"10\" style=\"stroke: #383838; stroke-width: 1.5;\" width=\"71\" x=\"98.5\" y=\"206\"/><text fill=\"#000000\" font-family=\"sans-serif\" font-size=\"12\" font-style=\"italic\" lengthAdjust=\"spacingAndGlyphs\" textLength=\"69\" x=\"99.5\" y=\"222.1387\">«attribute»</text><text fill=\"#000000\" font-family=\"sans-serif\" font-size=\"12\" lengthAdjust=\"spacingAndGlyphs\" textLength=\"5\" x=\"131.5\" y=\"236.1074\">z</text><line style=\"stroke: #383838; stroke-width: 1.5;\" x1=\"99.5\" x2=\"168.5\" y1=\"243.9375\" y2=\"243.9375\"/></a><a href=\"psysml:cb2f8149-aa3e-4482-91f3-ed1f7789b4f6\" target=\"_top\" title=\"psysml:cb2f8149-aa3e-4482-91f3-ed1f7789b4f6\" xlink:actuate=\"onRequest\" xlink:href=\"psysml:cb2f8149-aa3e-4482-91f3-ed1f7789b4f6\" xlink:show=\"new\" xlink:title=\"psysml:cb2f8149-aa3e-4482-91f3-ed1f7789b4f6\" xlink:type=\"simple\"><polygon fill=\"#FFFFFF\" points=\"56,84.5,198,84.5,205,106.7969,212,106.7969,212,137.0938,56,137.0938,56,84.5\" style=\"stroke: #000000; stroke-width: 1.5;\"/><line style=\"stroke: #000000; stroke-width: 1.5;\" x1=\"56\" x2=\"205\" y1=\"106.7969\" y2=\"106.7969\"/><text fill=\"#000000\" font-family=\"sans-serif\" font-size=\"14\" font-weight=\"bold\" lengthAdjust=\"spacingAndGlyphs\" textLength=\"136\" x=\"60\" y=\"99.4951\">Application Layer</text></a><a href=\"psysml:c90fac5e-4b06-46df-8524-0f31fe17b625\" target=\"_top\" title=\"psysml:c90fac5e-4b06-46df-8524-0f31fe17b625\" xlink:actuate=\"onRequest\" xlink:href=\"psysml:c90fac5e-4b06-46df-8524-0f31fe17b625\" xlink:show=\"new\" xlink:title=\"psysml:c90fac5e-4b06-46df-8524-0f31fe17b625\" xlink:type=\"simple\"><polygon fill=\"#FFFFFF\" points=\"338,84.5,452,84.5,459,106.7969,466,106.7969,466,137.0938,338,137.0938,338,84.5\" style=\"stroke: #000000; stroke-width: 1.5;\"/><line style=\"stroke: #000000; stroke-width: 1.5;\" x1=\"338\" x2=\"459\" y1=\"106.7969\" y2=\"106.7969\"/><text fill=\"#000000\" font-family=\"sans-serif\" font-size=\"14\" font-weight=\"bold\" lengthAdjust=\"spacingAndGlyphs\" textLength=\"108\" x=\"342\" y=\"99.4951\">Service Layer</text></a><a href=\"psysml:5945f028-85af-4284-8707-6581cfe8107d\" target=\"_top\" title=\"psysml:5945f028-85af-4284-8707-6581cfe8107d\" xlink:actuate=\"onRequest\" xlink:href=\"psysml:5945f028-85af-4284-8707-6581cfe8107d\" xlink:show=\"new\" xlink:title=\"psysml:5945f028-85af-4284-8707-6581cfe8107d\" xlink:type=\"simple\"><polygon fill=\"#FFFFFF\" points=\"592,84.5,682,84.5,689,106.7969,696,106.7969,696,137.0938,592,137.0938,592,84.5\" style=\"stroke: #000000; stroke-width: 1.5;\"/><line style=\"stroke: #000000; stroke-width: 1.5;\" x1=\"592\" x2=\"689\" y1=\"106.7969\" y2=\"106.7969\"/><text fill=\"#000000\" font-family=\"sans-serif\" font-size=\"14\" font-weight=\"bold\" lengthAdjust=\"spacingAndGlyphs\" textLength=\"84\" x=\"596\" y=\"99.4951\">Data Layer</text></a><!--MD5=[af87c684e3b0d8be13c1a698a818ef1e]\n",
       "link E3 to E4--><a href=\"psysml:71e7e357-685b-41cb-afa1-92571af689f5\" target=\"_top\" title=\"psysml:71e7e357-685b-41cb-afa1-92571af689f5\" xlink:actuate=\"onRequest\" xlink:href=\"psysml:71e7e357-685b-41cb-afa1-92571af689f5\" xlink:show=\"new\" xlink:title=\"psysml:71e7e357-685b-41cb-afa1-92571af689f5\" xlink:type=\"simple\"><path d=\"M212.3,111 C249.37,111 293.5,111 329.76,111 \" fill=\"none\" id=\"E3-&gt;E4\" style=\"stroke: #383838; stroke-width: 1.0; stroke-dasharray: 7.0,7.0;\"/><polygon fill=\"#383838\" points=\"337.84,111,329.84,108,329.84,114,337.84,111\" style=\"stroke: #383838; stroke-width: 1.0;\"/><text fill=\"#000000\" font-family=\"sans-serif\" font-size=\"13\" lengthAdjust=\"spacingAndGlyphs\" textLength=\"64\" x=\"243\" y=\"107.0669\">«depend»</text></a><!--MD5=[1b7591eae5389033d8d09a9d6721a717]\n",
       "link E4 to E5--><a href=\"psysml:1107382a-37f6-4d52-8c17-003f9fc0676e\" target=\"_top\" title=\"psysml:1107382a-37f6-4d52-8c17-003f9fc0676e\" xlink:actuate=\"onRequest\" xlink:href=\"psysml:1107382a-37f6-4d52-8c17-003f9fc0676e\" xlink:show=\"new\" xlink:title=\"psysml:1107382a-37f6-4d52-8c17-003f9fc0676e\" xlink:type=\"simple\"><path d=\"M466.06,111 C502.32,111 547.6,111 583.28,111 \" fill=\"none\" id=\"E4-&gt;E5\" style=\"stroke: #383838; stroke-width: 1.0; stroke-dasharray: 7.0,7.0;\"/><polygon fill=\"#383838\" points=\"591.67,111,583.67,108,583.67,114,591.67,111\" style=\"stroke: #383838; stroke-width: 1.0;\"/><text fill=\"#000000\" font-family=\"sans-serif\" font-size=\"13\" lengthAdjust=\"spacingAndGlyphs\" textLength=\"64\" x=\"497\" y=\"107.0669\">«depend»</text></a><!--MD5=[c5e8897d989ce984f93528998a7150fe]\n",
       "link E8 to E6--><a href=\"psysml:a975d936-bb91-4b85-9c47-7632192c23c3\" target=\"_top\" title=\"psysml:a975d936-bb91-4b85-9c47-7632192c23c3\" xlink:actuate=\"onRequest\" xlink:href=\"psysml:a975d936-bb91-4b85-9c47-7632192c23c3\" xlink:show=\"new\" xlink:title=\"psysml:a975d936-bb91-4b85-9c47-7632192c23c3\" xlink:type=\"simple\"><path d=\"M169.5,235.23 C217.81,243.94 305.54,259.77 358.03,269.25 \" fill=\"none\" id=\"E8-&gt;E6\" style=\"stroke: #383838; stroke-width: 1.0; stroke-dasharray: 7.0,7.0;\"/><polygon fill=\"#383838\" points=\"366.14,270.71,358.7966,266.3425,357.7356,272.248,366.14,270.71\" style=\"stroke: #383838; stroke-width: 1.0;\"/><text fill=\"#000000\" font-family=\"sans-serif\" font-size=\"13\" lengthAdjust=\"spacingAndGlyphs\" textLength=\"64\" x=\"243\" y=\"245.0669\">«depend»</text></a><!--MD5=[bfa3c8b0d15052fdf50ae9310b491027]\n",
       "link E8 to E7--><a href=\"psysml:a975d936-bb91-4b85-9c47-7632192c23c3\" target=\"_top\" title=\"psysml:a975d936-bb91-4b85-9c47-7632192c23c3\" xlink:actuate=\"onRequest\" xlink:href=\"psysml:a975d936-bb91-4b85-9c47-7632192c23c3\" xlink:show=\"new\" xlink:title=\"psysml:a975d936-bb91-4b85-9c47-7632192c23c3\" xlink:type=\"simple\"><path d=\"M169.5,224.72 C217.81,218.73 305.54,207.84 358.03,201.33 \" fill=\"none\" id=\"E8-&gt;E7\" style=\"stroke: #383838; stroke-width: 1.0; stroke-dasharray: 7.0,7.0;\"/><polygon fill=\"#383838\" points=\"366.14,200.33,357.8314,198.3381,358.5704,204.2924,366.14,200.33\" style=\"stroke: #383838; stroke-width: 1.0;\"/><text fill=\"#000000\" font-family=\"sans-serif\" font-size=\"13\" lengthAdjust=\"spacingAndGlyphs\" textLength=\"64\" x=\"243\" y=\"204.0669\">«depend»</text></a><!--MD5=[689ddd6642d7f7c77f5373a5e2d35cb2]\n",
       "@startuml\r\n",
       "left to right direction\r\n",
       "skinparam monochrome true\r\n",
       "skinparam classbackgroundcolor white\r\n",
       "skinparam shadowing false\r\n",
       "skinparam wrapWidth 300\r\n",
       "hide circle\r\n",
       "\r\n",
       "package \"DependencyTest\" as E1  [[psysml:430f5b70-8499-4207-b78a-0a401723d15c ]]  {\r\n",
       "package \"System\" as E2  [[psysml:ef80acf8-3bbf-43fc-abea-40efc458e2ed ]]  {\r\n",
       "package \"Application Layer\" as E3  [[psysml:cb2f8149-aa3e-4482-91f3-ed1f7789b4f6 ]]  {\r\n",
       "}\r\n",
       "package \"Service Layer\" as E4  [[psysml:c90fac5e-4b06-46df-8524-0f31fe17b625 ]]  {\r\n",
       "}\r\n",
       "package \"Data Layer\" as E5  [[psysml:5945f028-85af-4284-8707-6581cfe8107d ]]  {\r\n",
       "}\r\n",
       "}\r\n",
       "comp usage \"x\" as E6  <<(T,blue)attribute>> [[psysml:f9adf18b-8dbf-4490-b33d-e9e2045e17b2 ]] {\r\n",
       "}\r\n",
       "comp usage \"y\" as E7  <<(T,blue)attribute>> [[psysml:b3547f0d-a84a-43aa-aeb1-8f3416005562 ]] {\r\n",
       "}\r\n",
       "comp usage \"z\" as E8  <<(T,blue)attribute>> [[psysml:06d3944d-d8a9-41b6-a7dc-ea1875e321b3 ]] {\r\n",
       "}\r\n",
       "E3 ..>> E4 [[psysml:71e7e357-685b-41cb-afa1-92571af689f5 ]] : <<depend>>\r\n",
       "E4 ..>> E5 [[psysml:1107382a-37f6-4d52-8c17-003f9fc0676e ]] : <<depend>>\r\n",
       "E8 ..>> E6 [[psysml:a975d936-bb91-4b85-9c47-7632192c23c3 ]] : <<depend>>\r\n",
       "E8 ..>> E7 [[psysml:a975d936-bb91-4b85-9c47-7632192c23c3 ]] : <<depend>>\r\n",
       "}\r\n",
       "@enduml\r\n",
       "\n",
       "PlantUML version 1.2020.13(Sat Jun 13 12:26:38 UTC 2020)\n",
       "(EPL source distribution)\n",
       "Java Runtime: OpenJDK Runtime Environment\n",
       "JVM: OpenJDK 64-Bit Server VM\n",
       "Default Encoding: UTF-8\n",
       "Language: en\n",
       "Country: null\n",
       "--></g></svg>"
      ]
     },
     "execution_count": 22,
     "metadata": {},
     "output_type": "execute_result"
    }
   ],
   "source": [
    "%viz --style=\"LR\" --view=\"MIXED\" \"DependencyTest\""
   ]
  },
  {
   "cell_type": "code",
   "execution_count": 23,
   "id": "alive-exploration",
   "metadata": {
    "execution": {
     "iopub.execute_input": "2021-03-25T13:51:43.225971Z",
     "iopub.status.busy": "2021-03-25T13:51:43.225512Z",
     "iopub.status.idle": "2021-03-25T13:51:43.322275Z",
     "shell.execute_reply": "2021-03-25T13:51:43.320590Z"
    }
   },
   "outputs": [
    {
     "data": {
      "image/svg+xml": [
       "<?xml version=\"1.0\" encoding=\"UTF-8\" standalone=\"no\"?><svg xmlns=\"http://www.w3.org/2000/svg\" xmlns:xlink=\"http://www.w3.org/1999/xlink\" contentScriptType=\"application/ecmascript\" contentStyleType=\"text/css\" height=\"449px\" preserveAspectRatio=\"none\" style=\"width:489px;height:449px;\" version=\"1.1\" viewBox=\"0 0 489 449\" width=\"489px\" zoomAndPan=\"magnify\"><defs><filter height=\"300%\" id=\"f1dfi20ymm8sj1\" width=\"300%\" x=\"-1\" y=\"-1\"><feGaussianBlur result=\"blurOut\" stdDeviation=\"2.0\"/><feColorMatrix in=\"blurOut\" result=\"blurOut2\" type=\"matrix\" values=\"0 0 0 0 0 0 0 0 0 0 0 0 0 0 0 0 0 0 .4 0\"/><feOffset dx=\"4.0\" dy=\"4.0\" in=\"blurOut2\" result=\"blurOut3\"/><feBlend in=\"SourceGraphic\" in2=\"blurOut3\" mode=\"normal\"/></filter></defs><g><!--MD5=[fbc87193dbaf4d95561dea2c320d4a47]\n",
       "cluster E1--><a href=\"psysml:430f5b70-8499-4207-b78a-0a401723d15c\" target=\"_top\" title=\"psysml:430f5b70-8499-4207-b78a-0a401723d15c\" xlink:actuate=\"onRequest\" xlink:href=\"psysml:430f5b70-8499-4207-b78a-0a401723d15c\" xlink:show=\"new\" xlink:title=\"psysml:430f5b70-8499-4207-b78a-0a401723d15c\" xlink:type=\"simple\"><polygon fill=\"#FFFFFF\" filter=\"url(#f1dfi20ymm8sj1)\" points=\"16,6,156,6,163,28.2969,467,28.2969,467,437,16,437,16,6\" style=\"stroke: #000000; stroke-width: 1.5;\"/><line style=\"stroke: #000000; stroke-width: 1.5;\" x1=\"16\" x2=\"163\" y1=\"28.2969\" y2=\"28.2969\"/><text fill=\"#000000\" font-family=\"sans-serif\" font-size=\"14\" font-weight=\"bold\" lengthAdjust=\"spacingAndGlyphs\" textLength=\"134\" x=\"20\" y=\"20.9951\">DependencyTest</text></a><!--MD5=[e4f7fae6ed58524ba242bb0b0d3be6b7]\n",
       "cluster E2--><a href=\"psysml:ef80acf8-3bbf-43fc-abea-40efc458e2ed\" target=\"_top\" title=\"psysml:ef80acf8-3bbf-43fc-abea-40efc458e2ed\" xlink:actuate=\"onRequest\" xlink:href=\"psysml:ef80acf8-3bbf-43fc-abea-40efc458e2ed\" xlink:show=\"new\" xlink:title=\"psysml:ef80acf8-3bbf-43fc-abea-40efc458e2ed\" xlink:type=\"simple\"><polygon fill=\"#FFFFFF\" filter=\"url(#f1dfi20ymm8sj1)\" points=\"255,49,319,49,326,71.2969,443,71.2969,443,413,255,413,255,49\" style=\"stroke: #000000; stroke-width: 1.5;\"/><line style=\"stroke: #000000; stroke-width: 1.5;\" x1=\"255\" x2=\"326\" y1=\"71.2969\" y2=\"71.2969\"/><text fill=\"#000000\" font-family=\"sans-serif\" font-size=\"14\" font-weight=\"bold\" lengthAdjust=\"spacingAndGlyphs\" textLength=\"58\" x=\"259\" y=\"63.9951\">System</text></a><!--MD5=[60a26617385b1d2d0262a64233df1f8d]\n",
       "class E6--><a href=\"psysml:f9adf18b-8dbf-4490-b33d-e9e2045e17b2\" target=\"_top\" title=\"psysml:f9adf18b-8dbf-4490-b33d-e9e2045e17b2\" xlink:actuate=\"onRequest\" xlink:href=\"psysml:f9adf18b-8dbf-4490-b33d-e9e2045e17b2\" xlink:show=\"new\" xlink:title=\"psysml:f9adf18b-8dbf-4490-b33d-e9e2045e17b2\" xlink:type=\"simple\"><rect fill=\"#FEFECE\" filter=\"url(#f1dfi20ymm8sj1)\" height=\"45.9375\" id=\"E6\" rx=\"10\" ry=\"10\" style=\"stroke: #A80036; stroke-width: 1.5;\" width=\"71\" x=\"32.5\" y=\"217.5\"/><text fill=\"#000000\" font-family=\"sans-serif\" font-size=\"12\" font-style=\"italic\" lengthAdjust=\"spacingAndGlyphs\" textLength=\"69\" x=\"33.5\" y=\"233.6387\">«attribute»</text><text fill=\"#000000\" font-family=\"sans-serif\" font-size=\"12\" lengthAdjust=\"spacingAndGlyphs\" textLength=\"6\" x=\"65\" y=\"247.6074\">x</text><line style=\"stroke: #A80036; stroke-width: 1.5;\" x1=\"33.5\" x2=\"102.5\" y1=\"255.4375\" y2=\"255.4375\"/></a><!--MD5=[2156ba9850f5573cc1fc38a6a4b2f02b]\n",
       "class E7--><a href=\"psysml:b3547f0d-a84a-43aa-aeb1-8f3416005562\" target=\"_top\" title=\"psysml:b3547f0d-a84a-43aa-aeb1-8f3416005562\" xlink:actuate=\"onRequest\" xlink:href=\"psysml:b3547f0d-a84a-43aa-aeb1-8f3416005562\" xlink:show=\"new\" xlink:title=\"psysml:b3547f0d-a84a-43aa-aeb1-8f3416005562\" xlink:type=\"simple\"><rect fill=\"#FEFECE\" filter=\"url(#f1dfi20ymm8sj1)\" height=\"45.9375\" id=\"E7\" rx=\"10\" ry=\"10\" style=\"stroke: #A80036; stroke-width: 1.5;\" width=\"71\" x=\"138.5\" y=\"217.5\"/><text fill=\"#000000\" font-family=\"sans-serif\" font-size=\"12\" font-style=\"italic\" lengthAdjust=\"spacingAndGlyphs\" textLength=\"69\" x=\"139.5\" y=\"233.6387\">«attribute»</text><text fill=\"#000000\" font-family=\"sans-serif\" font-size=\"12\" lengthAdjust=\"spacingAndGlyphs\" textLength=\"6\" x=\"171\" y=\"247.6074\">y</text><line style=\"stroke: #A80036; stroke-width: 1.5;\" x1=\"139.5\" x2=\"208.5\" y1=\"255.4375\" y2=\"255.4375\"/></a><!--MD5=[b9389687b975829384b498ac4b7476b2]\n",
       "class E8--><a href=\"psysml:06d3944d-d8a9-41b6-a7dc-ea1875e321b3\" target=\"_top\" title=\"psysml:06d3944d-d8a9-41b6-a7dc-ea1875e321b3\" xlink:actuate=\"onRequest\" xlink:href=\"psysml:06d3944d-d8a9-41b6-a7dc-ea1875e321b3\" xlink:show=\"new\" xlink:title=\"psysml:06d3944d-d8a9-41b6-a7dc-ea1875e321b3\" xlink:type=\"simple\"><rect fill=\"#FEFECE\" filter=\"url(#f1dfi20ymm8sj1)\" height=\"45.9375\" id=\"E8\" rx=\"10\" ry=\"10\" style=\"stroke: #A80036; stroke-width: 1.5;\" width=\"71\" x=\"84.5\" y=\"87.5\"/><text fill=\"#000000\" font-family=\"sans-serif\" font-size=\"12\" font-style=\"italic\" lengthAdjust=\"spacingAndGlyphs\" textLength=\"69\" x=\"85.5\" y=\"103.6387\">«attribute»</text><text fill=\"#000000\" font-family=\"sans-serif\" font-size=\"12\" lengthAdjust=\"spacingAndGlyphs\" textLength=\"5\" x=\"117.5\" y=\"117.6074\">z</text><line style=\"stroke: #A80036; stroke-width: 1.5;\" x1=\"85.5\" x2=\"154.5\" y1=\"125.4375\" y2=\"125.4375\"/></a><a href=\"psysml:cb2f8149-aa3e-4482-91f3-ed1f7789b4f6\" target=\"_top\" title=\"psysml:cb2f8149-aa3e-4482-91f3-ed1f7789b4f6\" xlink:actuate=\"onRequest\" xlink:href=\"psysml:cb2f8149-aa3e-4482-91f3-ed1f7789b4f6\" xlink:show=\"new\" xlink:title=\"psysml:cb2f8149-aa3e-4482-91f3-ed1f7789b4f6\" xlink:type=\"simple\"><polygon fill=\"#FFFFFF\" filter=\"url(#f1dfi20ymm8sj1)\" points=\"271,84,413,84,420,106.2969,427,106.2969,427,136.5938,271,136.5938,271,84\" style=\"stroke: #000000; stroke-width: 1.5;\"/><line style=\"stroke: #000000; stroke-width: 1.5;\" x1=\"271\" x2=\"420\" y1=\"106.2969\" y2=\"106.2969\"/><text fill=\"#000000\" font-family=\"sans-serif\" font-size=\"14\" font-weight=\"bold\" lengthAdjust=\"spacingAndGlyphs\" textLength=\"136\" x=\"275\" y=\"98.9951\">Application Layer</text></a><a href=\"psysml:c90fac5e-4b06-46df-8524-0f31fe17b625\" target=\"_top\" title=\"psysml:c90fac5e-4b06-46df-8524-0f31fe17b625\" xlink:actuate=\"onRequest\" xlink:href=\"psysml:c90fac5e-4b06-46df-8524-0f31fe17b625\" xlink:show=\"new\" xlink:title=\"psysml:c90fac5e-4b06-46df-8524-0f31fe17b625\" xlink:type=\"simple\"><polygon fill=\"#FFFFFF\" filter=\"url(#f1dfi20ymm8sj1)\" points=\"285,214,399,214,406,236.2969,413,236.2969,413,266.5938,285,266.5938,285,214\" style=\"stroke: #000000; stroke-width: 1.5;\"/><line style=\"stroke: #000000; stroke-width: 1.5;\" x1=\"285\" x2=\"406\" y1=\"236.2969\" y2=\"236.2969\"/><text fill=\"#000000\" font-family=\"sans-serif\" font-size=\"14\" font-weight=\"bold\" lengthAdjust=\"spacingAndGlyphs\" textLength=\"108\" x=\"289\" y=\"228.9951\">Service Layer</text></a><a href=\"psysml:5945f028-85af-4284-8707-6581cfe8107d\" target=\"_top\" title=\"psysml:5945f028-85af-4284-8707-6581cfe8107d\" xlink:actuate=\"onRequest\" xlink:href=\"psysml:5945f028-85af-4284-8707-6581cfe8107d\" xlink:show=\"new\" xlink:title=\"psysml:5945f028-85af-4284-8707-6581cfe8107d\" xlink:type=\"simple\"><polygon fill=\"#FFFFFF\" filter=\"url(#f1dfi20ymm8sj1)\" points=\"297,344,387,344,394,366.2969,401,366.2969,401,396.5938,297,396.5938,297,344\" style=\"stroke: #000000; stroke-width: 1.5;\"/><line style=\"stroke: #000000; stroke-width: 1.5;\" x1=\"297\" x2=\"394\" y1=\"366.2969\" y2=\"366.2969\"/><text fill=\"#000000\" font-family=\"sans-serif\" font-size=\"14\" font-weight=\"bold\" lengthAdjust=\"spacingAndGlyphs\" textLength=\"84\" x=\"301\" y=\"358.9951\">Data Layer</text></a><!--MD5=[af87c684e3b0d8be13c1a698a818ef1e]\n",
       "link E3 to E4--><a href=\"psysml:71e7e357-685b-41cb-afa1-92571af689f5\" target=\"_top\" title=\"psysml:71e7e357-685b-41cb-afa1-92571af689f5\" xlink:actuate=\"onRequest\" xlink:href=\"psysml:71e7e357-685b-41cb-afa1-92571af689f5\" xlink:show=\"new\" xlink:title=\"psysml:71e7e357-685b-41cb-afa1-92571af689f5\" xlink:type=\"simple\"><path d=\"M349,137.1 C349,156.8 349,184.22 349,205.73 \" fill=\"none\" id=\"E3-&gt;E4\" style=\"stroke: #A80036; stroke-width: 1.0; stroke-dasharray: 7.0,7.0;\"/><polygon fill=\"#A80036\" points=\"349,213.95,352,205.95,346,205.95,349,213.95\" style=\"stroke: #A80036; stroke-width: 1.0;\"/><text fill=\"#000000\" font-family=\"sans-serif\" font-size=\"13\" lengthAdjust=\"spacingAndGlyphs\" textLength=\"64\" x=\"350\" y=\"180.0669\">«depend»</text></a><!--MD5=[1b7591eae5389033d8d09a9d6721a717]\n",
       "link E4 to E5--><a href=\"psysml:1107382a-37f6-4d52-8c17-003f9fc0676e\" target=\"_top\" title=\"psysml:1107382a-37f6-4d52-8c17-003f9fc0676e\" xlink:actuate=\"onRequest\" xlink:href=\"psysml:1107382a-37f6-4d52-8c17-003f9fc0676e\" xlink:show=\"new\" xlink:title=\"psysml:1107382a-37f6-4d52-8c17-003f9fc0676e\" xlink:type=\"simple\"><path d=\"M349,267.1 C349,286.8 349,314.22 349,335.73 \" fill=\"none\" id=\"E4-&gt;E5\" style=\"stroke: #A80036; stroke-width: 1.0; stroke-dasharray: 7.0,7.0;\"/><polygon fill=\"#A80036\" points=\"349,343.95,352,335.95,346,335.95,349,343.95\" style=\"stroke: #A80036; stroke-width: 1.0;\"/><text fill=\"#000000\" font-family=\"sans-serif\" font-size=\"13\" lengthAdjust=\"spacingAndGlyphs\" textLength=\"64\" x=\"350\" y=\"310.0669\">«depend»</text></a><!--MD5=[c5e8897d989ce984f93528998a7150fe]\n",
       "link E8 to E6--><a href=\"psysml:a975d936-bb91-4b85-9c47-7632192c23c3\" target=\"_top\" title=\"psysml:a975d936-bb91-4b85-9c47-7632192c23c3\" xlink:actuate=\"onRequest\" xlink:href=\"psysml:a975d936-bb91-4b85-9c47-7632192c23c3\" xlink:show=\"new\" xlink:title=\"psysml:a975d936-bb91-4b85-9c47-7632192c23c3\" xlink:type=\"simple\"><path d=\"M89.42,133.6 C79.35,142.68 69.37,154.11 64,167 C58.5,180.2 58.66,195.94 60.54,209.38 \" fill=\"none\" id=\"E8-&gt;E6\" style=\"stroke: #A80036; stroke-width: 1.0; stroke-dasharray: 7.0,7.0;\"/><polygon fill=\"#A80036\" points=\"61.9,217.4,63.517,209.0104,57.6018,210.0159,61.9,217.4\" style=\"stroke: #A80036; stroke-width: 1.0;\"/><text fill=\"#000000\" font-family=\"sans-serif\" font-size=\"13\" lengthAdjust=\"spacingAndGlyphs\" textLength=\"64\" x=\"65\" y=\"180.0669\">«depend»</text></a><!--MD5=[bfa3c8b0d15052fdf50ae9310b491027]\n",
       "link E8 to E7--><a href=\"psysml:a975d936-bb91-4b85-9c47-7632192c23c3\" target=\"_top\" title=\"psysml:a975d936-bb91-4b85-9c47-7632192c23c3\" xlink:actuate=\"onRequest\" xlink:href=\"psysml:a975d936-bb91-4b85-9c47-7632192c23c3\" xlink:show=\"new\" xlink:title=\"psysml:a975d936-bb91-4b85-9c47-7632192c23c3\" xlink:type=\"simple\"><path d=\"M129.28,133.5 C138.17,154.57 151.64,186.5 161.47,209.81 \" fill=\"none\" id=\"E8-&gt;E7\" style=\"stroke: #A80036; stroke-width: 1.0; stroke-dasharray: 7.0,7.0;\"/><polygon fill=\"#A80036\" points=\"164.66,217.35,164.3241,208.8126,158.7933,211.1385,164.66,217.35\" style=\"stroke: #A80036; stroke-width: 1.0;\"/><text fill=\"#000000\" font-family=\"sans-serif\" font-size=\"13\" lengthAdjust=\"spacingAndGlyphs\" textLength=\"64\" x=\"151\" y=\"180.0669\">«depend»</text></a><!--MD5=[dc94b5db9987564daf6170d21c96b800]\n",
       "@startuml\r\n",
       "skinparam wrapWidth 300\r\n",
       "hide circle\r\n",
       "\r\n",
       "package \"DependencyTest\" as E1  [[psysml:430f5b70-8499-4207-b78a-0a401723d15c ]]  {\r\n",
       "package \"System\" as E2  [[psysml:ef80acf8-3bbf-43fc-abea-40efc458e2ed ]]  {\r\n",
       "package \"Application Layer\" as E3  [[psysml:cb2f8149-aa3e-4482-91f3-ed1f7789b4f6 ]]  {\r\n",
       "}\r\n",
       "package \"Service Layer\" as E4  [[psysml:c90fac5e-4b06-46df-8524-0f31fe17b625 ]]  {\r\n",
       "}\r\n",
       "package \"Data Layer\" as E5  [[psysml:5945f028-85af-4284-8707-6581cfe8107d ]]  {\r\n",
       "}\r\n",
       "}\r\n",
       "comp usage \"x\" as E6  <<(T,blue)attribute>> [[psysml:f9adf18b-8dbf-4490-b33d-e9e2045e17b2 ]] {\r\n",
       "}\r\n",
       "comp usage \"y\" as E7  <<(T,blue)attribute>> [[psysml:b3547f0d-a84a-43aa-aeb1-8f3416005562 ]] {\r\n",
       "}\r\n",
       "comp usage \"z\" as E8  <<(T,blue)attribute>> [[psysml:06d3944d-d8a9-41b6-a7dc-ea1875e321b3 ]] {\r\n",
       "}\r\n",
       "E3 ..>> E4 [[psysml:71e7e357-685b-41cb-afa1-92571af689f5 ]] : <<depend>>\r\n",
       "E4 ..>> E5 [[psysml:1107382a-37f6-4d52-8c17-003f9fc0676e ]] : <<depend>>\r\n",
       "E8 ..>> E6 [[psysml:a975d936-bb91-4b85-9c47-7632192c23c3 ]] : <<depend>>\r\n",
       "E8 ..>> E7 [[psysml:a975d936-bb91-4b85-9c47-7632192c23c3 ]] : <<depend>>\r\n",
       "}\r\n",
       "@enduml\r\n",
       "\n",
       "PlantUML version 1.2020.13(Sat Jun 13 12:26:38 UTC 2020)\n",
       "(EPL source distribution)\n",
       "Java Runtime: OpenJDK Runtime Environment\n",
       "JVM: OpenJDK 64-Bit Server VM\n",
       "Default Encoding: UTF-8\n",
       "Language: en\n",
       "Country: null\n",
       "--></g></svg>"
      ]
     },
     "execution_count": 23,
     "metadata": {},
     "output_type": "execute_result"
    }
   ],
   "source": [
    "%viz --style=\"STDCOLOR\" --view=\"Default\" \"DependencyTest\""
   ]
  },
  {
   "cell_type": "code",
   "execution_count": 24,
   "id": "postal-clearance",
   "metadata": {
    "execution": {
     "iopub.execute_input": "2021-03-25T13:51:43.376048Z",
     "iopub.status.busy": "2021-03-25T13:51:43.375366Z",
     "iopub.status.idle": "2021-03-25T13:51:43.472045Z",
     "shell.execute_reply": "2021-03-25T13:51:43.470570Z"
    }
   },
   "outputs": [
    {
     "data": {
      "image/svg+xml": [
       "<?xml version=\"1.0\" encoding=\"UTF-8\" standalone=\"no\"?><svg xmlns=\"http://www.w3.org/2000/svg\" xmlns:xlink=\"http://www.w3.org/1999/xlink\" contentScriptType=\"application/ecmascript\" contentStyleType=\"text/css\" height=\"449px\" preserveAspectRatio=\"none\" style=\"width:489px;height:449px;\" version=\"1.1\" viewBox=\"0 0 489 449\" width=\"489px\" zoomAndPan=\"magnify\"><defs><filter height=\"300%\" id=\"f1dfi20ymm8sj1\" width=\"300%\" x=\"-1\" y=\"-1\"><feGaussianBlur result=\"blurOut\" stdDeviation=\"2.0\"/><feColorMatrix in=\"blurOut\" result=\"blurOut2\" type=\"matrix\" values=\"0 0 0 0 0 0 0 0 0 0 0 0 0 0 0 0 0 0 .4 0\"/><feOffset dx=\"4.0\" dy=\"4.0\" in=\"blurOut2\" result=\"blurOut3\"/><feBlend in=\"SourceGraphic\" in2=\"blurOut3\" mode=\"normal\"/></filter></defs><g><!--MD5=[fbc87193dbaf4d95561dea2c320d4a47]\n",
       "cluster E1--><a href=\"psysml:430f5b70-8499-4207-b78a-0a401723d15c\" target=\"_top\" title=\"psysml:430f5b70-8499-4207-b78a-0a401723d15c\" xlink:actuate=\"onRequest\" xlink:href=\"psysml:430f5b70-8499-4207-b78a-0a401723d15c\" xlink:show=\"new\" xlink:title=\"psysml:430f5b70-8499-4207-b78a-0a401723d15c\" xlink:type=\"simple\"><polygon fill=\"#FFFFFF\" filter=\"url(#f1dfi20ymm8sj1)\" points=\"16,6,156,6,163,28.2969,467,28.2969,467,437,16,437,16,6\" style=\"stroke: #000000; stroke-width: 1.5;\"/><line style=\"stroke: #000000; stroke-width: 1.5;\" x1=\"16\" x2=\"163\" y1=\"28.2969\" y2=\"28.2969\"/><text fill=\"#000000\" font-family=\"sans-serif\" font-size=\"14\" font-weight=\"bold\" lengthAdjust=\"spacingAndGlyphs\" textLength=\"134\" x=\"20\" y=\"20.9951\">DependencyTest</text></a><!--MD5=[e4f7fae6ed58524ba242bb0b0d3be6b7]\n",
       "cluster E2--><a href=\"psysml:ef80acf8-3bbf-43fc-abea-40efc458e2ed\" target=\"_top\" title=\"psysml:ef80acf8-3bbf-43fc-abea-40efc458e2ed\" xlink:actuate=\"onRequest\" xlink:href=\"psysml:ef80acf8-3bbf-43fc-abea-40efc458e2ed\" xlink:show=\"new\" xlink:title=\"psysml:ef80acf8-3bbf-43fc-abea-40efc458e2ed\" xlink:type=\"simple\"><polygon fill=\"#FFFFFF\" filter=\"url(#f1dfi20ymm8sj1)\" points=\"255,49,319,49,326,71.2969,443,71.2969,443,413,255,413,255,49\" style=\"stroke: #000000; stroke-width: 1.5;\"/><line style=\"stroke: #000000; stroke-width: 1.5;\" x1=\"255\" x2=\"326\" y1=\"71.2969\" y2=\"71.2969\"/><text fill=\"#000000\" font-family=\"sans-serif\" font-size=\"14\" font-weight=\"bold\" lengthAdjust=\"spacingAndGlyphs\" textLength=\"58\" x=\"259\" y=\"63.9951\">System</text></a><!--MD5=[60a26617385b1d2d0262a64233df1f8d]\n",
       "class E6--><a href=\"psysml:f9adf18b-8dbf-4490-b33d-e9e2045e17b2\" target=\"_top\" title=\"psysml:f9adf18b-8dbf-4490-b33d-e9e2045e17b2\" xlink:actuate=\"onRequest\" xlink:href=\"psysml:f9adf18b-8dbf-4490-b33d-e9e2045e17b2\" xlink:show=\"new\" xlink:title=\"psysml:f9adf18b-8dbf-4490-b33d-e9e2045e17b2\" xlink:type=\"simple\"><rect fill=\"#FEFECE\" filter=\"url(#f1dfi20ymm8sj1)\" height=\"45.9375\" id=\"E6\" rx=\"10\" ry=\"10\" style=\"stroke: #A80036; stroke-width: 1.5;\" width=\"71\" x=\"32.5\" y=\"217.5\"/><text fill=\"#000000\" font-family=\"sans-serif\" font-size=\"12\" font-style=\"italic\" lengthAdjust=\"spacingAndGlyphs\" textLength=\"69\" x=\"33.5\" y=\"233.6387\">«attribute»</text><text fill=\"#000000\" font-family=\"sans-serif\" font-size=\"12\" lengthAdjust=\"spacingAndGlyphs\" textLength=\"6\" x=\"65\" y=\"247.6074\">x</text><line style=\"stroke: #A80036; stroke-width: 1.5;\" x1=\"33.5\" x2=\"102.5\" y1=\"255.4375\" y2=\"255.4375\"/></a><!--MD5=[2156ba9850f5573cc1fc38a6a4b2f02b]\n",
       "class E7--><a href=\"psysml:b3547f0d-a84a-43aa-aeb1-8f3416005562\" target=\"_top\" title=\"psysml:b3547f0d-a84a-43aa-aeb1-8f3416005562\" xlink:actuate=\"onRequest\" xlink:href=\"psysml:b3547f0d-a84a-43aa-aeb1-8f3416005562\" xlink:show=\"new\" xlink:title=\"psysml:b3547f0d-a84a-43aa-aeb1-8f3416005562\" xlink:type=\"simple\"><rect fill=\"#FEFECE\" filter=\"url(#f1dfi20ymm8sj1)\" height=\"45.9375\" id=\"E7\" rx=\"10\" ry=\"10\" style=\"stroke: #A80036; stroke-width: 1.5;\" width=\"71\" x=\"138.5\" y=\"217.5\"/><text fill=\"#000000\" font-family=\"sans-serif\" font-size=\"12\" font-style=\"italic\" lengthAdjust=\"spacingAndGlyphs\" textLength=\"69\" x=\"139.5\" y=\"233.6387\">«attribute»</text><text fill=\"#000000\" font-family=\"sans-serif\" font-size=\"12\" lengthAdjust=\"spacingAndGlyphs\" textLength=\"6\" x=\"171\" y=\"247.6074\">y</text><line style=\"stroke: #A80036; stroke-width: 1.5;\" x1=\"139.5\" x2=\"208.5\" y1=\"255.4375\" y2=\"255.4375\"/></a><!--MD5=[b9389687b975829384b498ac4b7476b2]\n",
       "class E8--><a href=\"psysml:06d3944d-d8a9-41b6-a7dc-ea1875e321b3\" target=\"_top\" title=\"psysml:06d3944d-d8a9-41b6-a7dc-ea1875e321b3\" xlink:actuate=\"onRequest\" xlink:href=\"psysml:06d3944d-d8a9-41b6-a7dc-ea1875e321b3\" xlink:show=\"new\" xlink:title=\"psysml:06d3944d-d8a9-41b6-a7dc-ea1875e321b3\" xlink:type=\"simple\"><rect fill=\"#FEFECE\" filter=\"url(#f1dfi20ymm8sj1)\" height=\"45.9375\" id=\"E8\" rx=\"10\" ry=\"10\" style=\"stroke: #A80036; stroke-width: 1.5;\" width=\"71\" x=\"84.5\" y=\"87.5\"/><text fill=\"#000000\" font-family=\"sans-serif\" font-size=\"12\" font-style=\"italic\" lengthAdjust=\"spacingAndGlyphs\" textLength=\"69\" x=\"85.5\" y=\"103.6387\">«attribute»</text><text fill=\"#000000\" font-family=\"sans-serif\" font-size=\"12\" lengthAdjust=\"spacingAndGlyphs\" textLength=\"5\" x=\"117.5\" y=\"117.6074\">z</text><line style=\"stroke: #A80036; stroke-width: 1.5;\" x1=\"85.5\" x2=\"154.5\" y1=\"125.4375\" y2=\"125.4375\"/></a><a href=\"psysml:cb2f8149-aa3e-4482-91f3-ed1f7789b4f6\" target=\"_top\" title=\"psysml:cb2f8149-aa3e-4482-91f3-ed1f7789b4f6\" xlink:actuate=\"onRequest\" xlink:href=\"psysml:cb2f8149-aa3e-4482-91f3-ed1f7789b4f6\" xlink:show=\"new\" xlink:title=\"psysml:cb2f8149-aa3e-4482-91f3-ed1f7789b4f6\" xlink:type=\"simple\"><polygon fill=\"#FFFFFF\" filter=\"url(#f1dfi20ymm8sj1)\" points=\"271,84,413,84,420,106.2969,427,106.2969,427,136.5938,271,136.5938,271,84\" style=\"stroke: #000000; stroke-width: 1.5;\"/><line style=\"stroke: #000000; stroke-width: 1.5;\" x1=\"271\" x2=\"420\" y1=\"106.2969\" y2=\"106.2969\"/><text fill=\"#000000\" font-family=\"sans-serif\" font-size=\"14\" font-weight=\"bold\" lengthAdjust=\"spacingAndGlyphs\" textLength=\"136\" x=\"275\" y=\"98.9951\">Application Layer</text></a><a href=\"psysml:c90fac5e-4b06-46df-8524-0f31fe17b625\" target=\"_top\" title=\"psysml:c90fac5e-4b06-46df-8524-0f31fe17b625\" xlink:actuate=\"onRequest\" xlink:href=\"psysml:c90fac5e-4b06-46df-8524-0f31fe17b625\" xlink:show=\"new\" xlink:title=\"psysml:c90fac5e-4b06-46df-8524-0f31fe17b625\" xlink:type=\"simple\"><polygon fill=\"#FFFFFF\" filter=\"url(#f1dfi20ymm8sj1)\" points=\"285,214,399,214,406,236.2969,413,236.2969,413,266.5938,285,266.5938,285,214\" style=\"stroke: #000000; stroke-width: 1.5;\"/><line style=\"stroke: #000000; stroke-width: 1.5;\" x1=\"285\" x2=\"406\" y1=\"236.2969\" y2=\"236.2969\"/><text fill=\"#000000\" font-family=\"sans-serif\" font-size=\"14\" font-weight=\"bold\" lengthAdjust=\"spacingAndGlyphs\" textLength=\"108\" x=\"289\" y=\"228.9951\">Service Layer</text></a><a href=\"psysml:5945f028-85af-4284-8707-6581cfe8107d\" target=\"_top\" title=\"psysml:5945f028-85af-4284-8707-6581cfe8107d\" xlink:actuate=\"onRequest\" xlink:href=\"psysml:5945f028-85af-4284-8707-6581cfe8107d\" xlink:show=\"new\" xlink:title=\"psysml:5945f028-85af-4284-8707-6581cfe8107d\" xlink:type=\"simple\"><polygon fill=\"#FFFFFF\" filter=\"url(#f1dfi20ymm8sj1)\" points=\"297,344,387,344,394,366.2969,401,366.2969,401,396.5938,297,396.5938,297,344\" style=\"stroke: #000000; stroke-width: 1.5;\"/><line style=\"stroke: #000000; stroke-width: 1.5;\" x1=\"297\" x2=\"394\" y1=\"366.2969\" y2=\"366.2969\"/><text fill=\"#000000\" font-family=\"sans-serif\" font-size=\"14\" font-weight=\"bold\" lengthAdjust=\"spacingAndGlyphs\" textLength=\"84\" x=\"301\" y=\"358.9951\">Data Layer</text></a><!--MD5=[af87c684e3b0d8be13c1a698a818ef1e]\n",
       "link E3 to E4--><a href=\"psysml:71e7e357-685b-41cb-afa1-92571af689f5\" target=\"_top\" title=\"psysml:71e7e357-685b-41cb-afa1-92571af689f5\" xlink:actuate=\"onRequest\" xlink:href=\"psysml:71e7e357-685b-41cb-afa1-92571af689f5\" xlink:show=\"new\" xlink:title=\"psysml:71e7e357-685b-41cb-afa1-92571af689f5\" xlink:type=\"simple\"><path d=\"M349,137.1 C349,156.8 349,184.22 349,205.73 \" fill=\"none\" id=\"E3-&gt;E4\" style=\"stroke: #A80036; stroke-width: 1.0; stroke-dasharray: 7.0,7.0;\"/><polygon fill=\"#A80036\" points=\"349,213.95,352,205.95,346,205.95,349,213.95\" style=\"stroke: #A80036; stroke-width: 1.0;\"/><text fill=\"#000000\" font-family=\"sans-serif\" font-size=\"13\" lengthAdjust=\"spacingAndGlyphs\" textLength=\"64\" x=\"350\" y=\"180.0669\">«depend»</text></a><!--MD5=[1b7591eae5389033d8d09a9d6721a717]\n",
       "link E4 to E5--><a href=\"psysml:1107382a-37f6-4d52-8c17-003f9fc0676e\" target=\"_top\" title=\"psysml:1107382a-37f6-4d52-8c17-003f9fc0676e\" xlink:actuate=\"onRequest\" xlink:href=\"psysml:1107382a-37f6-4d52-8c17-003f9fc0676e\" xlink:show=\"new\" xlink:title=\"psysml:1107382a-37f6-4d52-8c17-003f9fc0676e\" xlink:type=\"simple\"><path d=\"M349,267.1 C349,286.8 349,314.22 349,335.73 \" fill=\"none\" id=\"E4-&gt;E5\" style=\"stroke: #A80036; stroke-width: 1.0; stroke-dasharray: 7.0,7.0;\"/><polygon fill=\"#A80036\" points=\"349,343.95,352,335.95,346,335.95,349,343.95\" style=\"stroke: #A80036; stroke-width: 1.0;\"/><text fill=\"#000000\" font-family=\"sans-serif\" font-size=\"13\" lengthAdjust=\"spacingAndGlyphs\" textLength=\"64\" x=\"350\" y=\"310.0669\">«depend»</text></a><!--MD5=[c5e8897d989ce984f93528998a7150fe]\n",
       "link E8 to E6--><a href=\"psysml:a975d936-bb91-4b85-9c47-7632192c23c3\" target=\"_top\" title=\"psysml:a975d936-bb91-4b85-9c47-7632192c23c3\" xlink:actuate=\"onRequest\" xlink:href=\"psysml:a975d936-bb91-4b85-9c47-7632192c23c3\" xlink:show=\"new\" xlink:title=\"psysml:a975d936-bb91-4b85-9c47-7632192c23c3\" xlink:type=\"simple\"><path d=\"M89.42,133.6 C79.35,142.68 69.37,154.11 64,167 C58.5,180.2 58.66,195.94 60.54,209.38 \" fill=\"none\" id=\"E8-&gt;E6\" style=\"stroke: #A80036; stroke-width: 1.0; stroke-dasharray: 7.0,7.0;\"/><polygon fill=\"#A80036\" points=\"61.9,217.4,63.517,209.0104,57.6018,210.0159,61.9,217.4\" style=\"stroke: #A80036; stroke-width: 1.0;\"/><text fill=\"#000000\" font-family=\"sans-serif\" font-size=\"13\" lengthAdjust=\"spacingAndGlyphs\" textLength=\"64\" x=\"65\" y=\"180.0669\">«depend»</text></a><!--MD5=[bfa3c8b0d15052fdf50ae9310b491027]\n",
       "link E8 to E7--><a href=\"psysml:a975d936-bb91-4b85-9c47-7632192c23c3\" target=\"_top\" title=\"psysml:a975d936-bb91-4b85-9c47-7632192c23c3\" xlink:actuate=\"onRequest\" xlink:href=\"psysml:a975d936-bb91-4b85-9c47-7632192c23c3\" xlink:show=\"new\" xlink:title=\"psysml:a975d936-bb91-4b85-9c47-7632192c23c3\" xlink:type=\"simple\"><path d=\"M129.28,133.5 C138.17,154.57 151.64,186.5 161.47,209.81 \" fill=\"none\" id=\"E8-&gt;E7\" style=\"stroke: #A80036; stroke-width: 1.0; stroke-dasharray: 7.0,7.0;\"/><polygon fill=\"#A80036\" points=\"164.66,217.35,164.3241,208.8126,158.7933,211.1385,164.66,217.35\" style=\"stroke: #A80036; stroke-width: 1.0;\"/><text fill=\"#000000\" font-family=\"sans-serif\" font-size=\"13\" lengthAdjust=\"spacingAndGlyphs\" textLength=\"64\" x=\"151\" y=\"180.0669\">«depend»</text></a><!--MD5=[dc94b5db9987564daf6170d21c96b800]\n",
       "@startuml\r\n",
       "skinparam wrapWidth 300\r\n",
       "hide circle\r\n",
       "\r\n",
       "package \"DependencyTest\" as E1  [[psysml:430f5b70-8499-4207-b78a-0a401723d15c ]]  {\r\n",
       "package \"System\" as E2  [[psysml:ef80acf8-3bbf-43fc-abea-40efc458e2ed ]]  {\r\n",
       "package \"Application Layer\" as E3  [[psysml:cb2f8149-aa3e-4482-91f3-ed1f7789b4f6 ]]  {\r\n",
       "}\r\n",
       "package \"Service Layer\" as E4  [[psysml:c90fac5e-4b06-46df-8524-0f31fe17b625 ]]  {\r\n",
       "}\r\n",
       "package \"Data Layer\" as E5  [[psysml:5945f028-85af-4284-8707-6581cfe8107d ]]  {\r\n",
       "}\r\n",
       "}\r\n",
       "comp usage \"x\" as E6  <<(T,blue)attribute>> [[psysml:f9adf18b-8dbf-4490-b33d-e9e2045e17b2 ]] {\r\n",
       "}\r\n",
       "comp usage \"y\" as E7  <<(T,blue)attribute>> [[psysml:b3547f0d-a84a-43aa-aeb1-8f3416005562 ]] {\r\n",
       "}\r\n",
       "comp usage \"z\" as E8  <<(T,blue)attribute>> [[psysml:06d3944d-d8a9-41b6-a7dc-ea1875e321b3 ]] {\r\n",
       "}\r\n",
       "E3 ..>> E4 [[psysml:71e7e357-685b-41cb-afa1-92571af689f5 ]] : <<depend>>\r\n",
       "E4 ..>> E5 [[psysml:1107382a-37f6-4d52-8c17-003f9fc0676e ]] : <<depend>>\r\n",
       "E8 ..>> E6 [[psysml:a975d936-bb91-4b85-9c47-7632192c23c3 ]] : <<depend>>\r\n",
       "E8 ..>> E7 [[psysml:a975d936-bb91-4b85-9c47-7632192c23c3 ]] : <<depend>>\r\n",
       "}\r\n",
       "@enduml\r\n",
       "\n",
       "PlantUML version 1.2020.13(Sat Jun 13 12:26:38 UTC 2020)\n",
       "(EPL source distribution)\n",
       "Java Runtime: OpenJDK Runtime Environment\n",
       "JVM: OpenJDK 64-Bit Server VM\n",
       "Default Encoding: UTF-8\n",
       "Language: en\n",
       "Country: null\n",
       "--></g></svg>"
      ]
     },
     "execution_count": 24,
     "metadata": {},
     "output_type": "execute_result"
    }
   ],
   "source": [
    "%viz --style=\"STDCOLOR\" --view=\"Tree\" \"DependencyTest\""
   ]
  },
  {
   "cell_type": "code",
   "execution_count": 25,
   "id": "immune-pantyhose",
   "metadata": {
    "execution": {
     "iopub.execute_input": "2021-03-25T13:51:43.524055Z",
     "iopub.status.busy": "2021-03-25T13:51:43.523340Z",
     "iopub.status.idle": "2021-03-25T13:51:43.530091Z",
     "shell.execute_reply": "2021-03-25T13:51:43.530668Z"
    }
   },
   "outputs": [
    {
     "data": {
      "image/svg+xml": [
       "<?xml version=\"1.0\" encoding=\"UTF-8\" standalone=\"no\"?><svg xmlns=\"http://www.w3.org/2000/svg\" xmlns:xlink=\"http://www.w3.org/1999/xlink\" contentScriptType=\"application/ecmascript\" contentStyleType=\"text/css\" height=\"12px\" preserveAspectRatio=\"none\" style=\"width:12px;height:12px;\" version=\"1.1\" viewBox=\"0 0 12 12\" width=\"12px\" zoomAndPan=\"magnify\"><defs/><g><!--MD5=[aeeef50f102b80d730deb6443d14f702]\n",
       "@startuml\r\n",
       "skinparam wrapWidth 300\r\n",
       "hide circle\r\n",
       "\r\n",
       "@enduml\r\n",
       "\n",
       "PlantUML version 1.2020.13(Sat Jun 13 12:26:38 UTC 2020)\n",
       "(EPL source distribution)\n",
       "Java Runtime: OpenJDK Runtime Environment\n",
       "JVM: OpenJDK 64-Bit Server VM\n",
       "Default Encoding: UTF-8\n",
       "Language: en\n",
       "Country: null\n",
       "--></g></svg>"
      ]
     },
     "execution_count": 25,
     "metadata": {},
     "output_type": "execute_result"
    }
   ],
   "source": [
    "%viz --style=\"STDCOLOR\" --view=\"State\" \"DependencyTest\""
   ]
  },
  {
   "cell_type": "code",
   "execution_count": 26,
   "id": "identified-visibility",
   "metadata": {
    "execution": {
     "iopub.execute_input": "2021-03-25T13:51:43.583074Z",
     "iopub.status.busy": "2021-03-25T13:51:43.582301Z",
     "iopub.status.idle": "2021-03-25T13:51:43.681551Z",
     "shell.execute_reply": "2021-03-25T13:51:43.681078Z"
    }
   },
   "outputs": [
    {
     "data": {
      "image/svg+xml": [
       "<?xml version=\"1.0\" encoding=\"UTF-8\" standalone=\"no\"?><svg xmlns=\"http://www.w3.org/2000/svg\" xmlns:xlink=\"http://www.w3.org/1999/xlink\" contentScriptType=\"application/ecmascript\" contentStyleType=\"text/css\" height=\"361px\" preserveAspectRatio=\"none\" style=\"width:489px;height:361px;\" version=\"1.1\" viewBox=\"0 0 489 361\" width=\"489px\" zoomAndPan=\"magnify\"><defs><filter height=\"300%\" id=\"f1gs7dic0iqgkq\" width=\"300%\" x=\"-1\" y=\"-1\"><feGaussianBlur result=\"blurOut\" stdDeviation=\"2.0\"/><feColorMatrix in=\"blurOut\" result=\"blurOut2\" type=\"matrix\" values=\"0 0 0 0 0 0 0 0 0 0 0 0 0 0 0 0 0 0 .4 0\"/><feOffset dx=\"4.0\" dy=\"4.0\" in=\"blurOut2\" result=\"blurOut3\"/><feBlend in=\"SourceGraphic\" in2=\"blurOut3\" mode=\"normal\"/></filter></defs><g><!--MD5=[fbc87193dbaf4d95561dea2c320d4a47]\n",
       "cluster E1--><a href=\"psysml:430f5b70-8499-4207-b78a-0a401723d15c\" target=\"_top\" title=\"psysml:430f5b70-8499-4207-b78a-0a401723d15c\" xlink:actuate=\"onRequest\" xlink:href=\"psysml:430f5b70-8499-4207-b78a-0a401723d15c\" xlink:show=\"new\" xlink:title=\"psysml:430f5b70-8499-4207-b78a-0a401723d15c\" xlink:type=\"simple\"><polygon fill=\"#FFFFFF\" filter=\"url(#f1gs7dic0iqgkq)\" points=\"16,6,156,6,163,28.2969,467,28.2969,467,349,16,349,16,6\" style=\"stroke: #000000; stroke-width: 1.5;\"/><line style=\"stroke: #000000; stroke-width: 1.5;\" x1=\"16\" x2=\"163\" y1=\"28.2969\" y2=\"28.2969\"/><text fill=\"#000000\" font-family=\"sans-serif\" font-size=\"14\" font-weight=\"bold\" lengthAdjust=\"spacingAndGlyphs\" textLength=\"134\" x=\"20\" y=\"20.9951\">DependencyTest</text></a><!--MD5=[e4f7fae6ed58524ba242bb0b0d3be6b7]\n",
       "cluster E2--><a href=\"psysml:ef80acf8-3bbf-43fc-abea-40efc458e2ed\" target=\"_top\" title=\"psysml:ef80acf8-3bbf-43fc-abea-40efc458e2ed\" xlink:actuate=\"onRequest\" xlink:href=\"psysml:ef80acf8-3bbf-43fc-abea-40efc458e2ed\" xlink:show=\"new\" xlink:title=\"psysml:ef80acf8-3bbf-43fc-abea-40efc458e2ed\" xlink:type=\"simple\"><polygon fill=\"#FFFFFF\" filter=\"url(#f1gs7dic0iqgkq)\" points=\"255,49,319,49,326,71.2969,443,71.2969,443,325,255,325,255,49\" style=\"stroke: #000000; stroke-width: 1.5;\"/><line style=\"stroke: #000000; stroke-width: 1.5;\" x1=\"255\" x2=\"326\" y1=\"71.2969\" y2=\"71.2969\"/><text fill=\"#000000\" font-family=\"sans-serif\" font-size=\"14\" font-weight=\"bold\" lengthAdjust=\"spacingAndGlyphs\" textLength=\"58\" x=\"259\" y=\"63.9951\">System</text></a><a href=\"psysml:cb2f8149-aa3e-4482-91f3-ed1f7789b4f6\" target=\"_top\" title=\"psysml:cb2f8149-aa3e-4482-91f3-ed1f7789b4f6\" xlink:actuate=\"onRequest\" xlink:href=\"psysml:cb2f8149-aa3e-4482-91f3-ed1f7789b4f6\" xlink:show=\"new\" xlink:title=\"psysml:cb2f8149-aa3e-4482-91f3-ed1f7789b4f6\" xlink:type=\"simple\"><polygon fill=\"#FFFFFF\" filter=\"url(#f1gs7dic0iqgkq)\" points=\"271,84,413,84,420,106.2969,427,106.2969,427,136.5938,271,136.5938,271,84\" style=\"stroke: #000000; stroke-width: 1.5;\"/><line style=\"stroke: #000000; stroke-width: 1.5;\" x1=\"271\" x2=\"420\" y1=\"106.2969\" y2=\"106.2969\"/><text fill=\"#000000\" font-family=\"sans-serif\" font-size=\"14\" font-weight=\"bold\" lengthAdjust=\"spacingAndGlyphs\" textLength=\"136\" x=\"275\" y=\"98.9951\">Application Layer</text></a><a href=\"psysml:c90fac5e-4b06-46df-8524-0f31fe17b625\" target=\"_top\" title=\"psysml:c90fac5e-4b06-46df-8524-0f31fe17b625\" xlink:actuate=\"onRequest\" xlink:href=\"psysml:c90fac5e-4b06-46df-8524-0f31fe17b625\" xlink:show=\"new\" xlink:title=\"psysml:c90fac5e-4b06-46df-8524-0f31fe17b625\" xlink:type=\"simple\"><polygon fill=\"#FFFFFF\" filter=\"url(#f1gs7dic0iqgkq)\" points=\"285,170,399,170,406,192.2969,413,192.2969,413,222.5938,285,222.5938,285,170\" style=\"stroke: #000000; stroke-width: 1.5;\"/><line style=\"stroke: #000000; stroke-width: 1.5;\" x1=\"285\" x2=\"406\" y1=\"192.2969\" y2=\"192.2969\"/><text fill=\"#000000\" font-family=\"sans-serif\" font-size=\"14\" font-weight=\"bold\" lengthAdjust=\"spacingAndGlyphs\" textLength=\"108\" x=\"289\" y=\"184.9951\">Service Layer</text></a><a href=\"psysml:5945f028-85af-4284-8707-6581cfe8107d\" target=\"_top\" title=\"psysml:5945f028-85af-4284-8707-6581cfe8107d\" xlink:actuate=\"onRequest\" xlink:href=\"psysml:5945f028-85af-4284-8707-6581cfe8107d\" xlink:show=\"new\" xlink:title=\"psysml:5945f028-85af-4284-8707-6581cfe8107d\" xlink:type=\"simple\"><polygon fill=\"#FFFFFF\" filter=\"url(#f1gs7dic0iqgkq)\" points=\"297,256,387,256,394,278.2969,401,278.2969,401,308.5938,297,308.5938,297,256\" style=\"stroke: #000000; stroke-width: 1.5;\"/><line style=\"stroke: #000000; stroke-width: 1.5;\" x1=\"297\" x2=\"394\" y1=\"278.2969\" y2=\"278.2969\"/><text fill=\"#000000\" font-family=\"sans-serif\" font-size=\"14\" font-weight=\"bold\" lengthAdjust=\"spacingAndGlyphs\" textLength=\"84\" x=\"301\" y=\"270.9951\">Data Layer</text></a><g id=\"E1.E6\"><a href=\"psysml:f9adf18b-8dbf-4490-b33d-e9e2045e17b2\" target=\"_top\" title=\"psysml:f9adf18b-8dbf-4490-b33d-e9e2045e17b2\" xlink:actuate=\"onRequest\" xlink:href=\"psysml:f9adf18b-8dbf-4490-b33d-e9e2045e17b2\" xlink:show=\"new\" xlink:title=\"psysml:f9adf18b-8dbf-4490-b33d-e9e2045e17b2\" xlink:type=\"simple\"><rect fill=\"#FEFECE\" filter=\"url(#f1gs7dic0iqgkq)\" height=\"42.9375\" id=\"E6\" rx=\"10\" ry=\"10\" style=\"stroke: #A80036; stroke-width: 1.5;\" width=\"76\" x=\"32\" y=\"175\"/><text fill=\"#000000\" font-family=\"sans-serif\" font-size=\"12\" font-style=\"italic\" lengthAdjust=\"spacingAndGlyphs\" textLength=\"69\" x=\"35.5\" y=\"191.1387\">«attribute»</text><text fill=\"#000000\" font-family=\"sans-serif\" font-size=\"12\" lengthAdjust=\"spacingAndGlyphs\" textLength=\"6\" x=\"67\" y=\"205.1074\">x</text></a></g><g id=\"E1.E7\"><a href=\"psysml:b3547f0d-a84a-43aa-aeb1-8f3416005562\" target=\"_top\" title=\"psysml:b3547f0d-a84a-43aa-aeb1-8f3416005562\" xlink:actuate=\"onRequest\" xlink:href=\"psysml:b3547f0d-a84a-43aa-aeb1-8f3416005562\" xlink:show=\"new\" xlink:title=\"psysml:b3547f0d-a84a-43aa-aeb1-8f3416005562\" xlink:type=\"simple\"><rect fill=\"#FEFECE\" filter=\"url(#f1gs7dic0iqgkq)\" height=\"42.9375\" id=\"E7\" rx=\"10\" ry=\"10\" style=\"stroke: #A80036; stroke-width: 1.5;\" width=\"76\" x=\"143\" y=\"175\"/><text fill=\"#000000\" font-family=\"sans-serif\" font-size=\"12\" font-style=\"italic\" lengthAdjust=\"spacingAndGlyphs\" textLength=\"69\" x=\"146.5\" y=\"191.1387\">«attribute»</text><text fill=\"#000000\" font-family=\"sans-serif\" font-size=\"12\" lengthAdjust=\"spacingAndGlyphs\" textLength=\"6\" x=\"178\" y=\"205.1074\">y</text></a></g><g id=\"E1.E8\"><a href=\"psysml:06d3944d-d8a9-41b6-a7dc-ea1875e321b3\" target=\"_top\" title=\"psysml:06d3944d-d8a9-41b6-a7dc-ea1875e321b3\" xlink:actuate=\"onRequest\" xlink:href=\"psysml:06d3944d-d8a9-41b6-a7dc-ea1875e321b3\" xlink:show=\"new\" xlink:title=\"psysml:06d3944d-d8a9-41b6-a7dc-ea1875e321b3\" xlink:type=\"simple\"><rect fill=\"#FEFECE\" filter=\"url(#f1gs7dic0iqgkq)\" height=\"42.9375\" id=\"E8\" rx=\"10\" ry=\"10\" style=\"stroke: #A80036; stroke-width: 1.5;\" width=\"76\" x=\"83\" y=\"89\"/><text fill=\"#000000\" font-family=\"sans-serif\" font-size=\"12\" font-style=\"italic\" lengthAdjust=\"spacingAndGlyphs\" textLength=\"69\" x=\"86.5\" y=\"105.1387\">«attribute»</text><text fill=\"#000000\" font-family=\"sans-serif\" font-size=\"12\" lengthAdjust=\"spacingAndGlyphs\" textLength=\"5\" x=\"118.5\" y=\"119.1074\">z</text></a></g><!--MD5=[af87c684e3b0d8be13c1a698a818ef1e]\n",
       "link E3 to E4--><a href=\"psysml:71e7e357-685b-41cb-afa1-92571af689f5\" target=\"_top\" title=\"psysml:71e7e357-685b-41cb-afa1-92571af689f5\" xlink:actuate=\"onRequest\" xlink:href=\"psysml:71e7e357-685b-41cb-afa1-92571af689f5\" xlink:show=\"new\" xlink:title=\"psysml:71e7e357-685b-41cb-afa1-92571af689f5\" xlink:type=\"simple\"><path d=\"M349,137.16 C349,144.98 349,153.69 349,161.94 \" fill=\"none\" id=\"E3-&gt;E4\" style=\"stroke: #A80036; stroke-width: 1.0; stroke-dasharray: 7.0,7.0;\"/><polygon fill=\"#A80036\" points=\"349,170,352,162,346,162,349,170\" style=\"stroke: #A80036; stroke-width: 1.0;\"/><text fill=\"#000000\" font-family=\"sans-serif\" font-size=\"13\" lengthAdjust=\"spacingAndGlyphs\" textLength=\"64\" x=\"350\" y=\"158.0669\">«depend»</text></a><!--MD5=[1b7591eae5389033d8d09a9d6721a717]\n",
       "link E4 to E5--><a href=\"psysml:1107382a-37f6-4d52-8c17-003f9fc0676e\" target=\"_top\" title=\"psysml:1107382a-37f6-4d52-8c17-003f9fc0676e\" xlink:actuate=\"onRequest\" xlink:href=\"psysml:1107382a-37f6-4d52-8c17-003f9fc0676e\" xlink:show=\"new\" xlink:title=\"psysml:1107382a-37f6-4d52-8c17-003f9fc0676e\" xlink:type=\"simple\"><path d=\"M349,223.16 C349,230.98 349,239.69 349,247.94 \" fill=\"none\" id=\"E4-&gt;E5\" style=\"stroke: #A80036; stroke-width: 1.0; stroke-dasharray: 7.0,7.0;\"/><polygon fill=\"#A80036\" points=\"349,256,352,248,346,248,349,256\" style=\"stroke: #A80036; stroke-width: 1.0;\"/><text fill=\"#000000\" font-family=\"sans-serif\" font-size=\"13\" lengthAdjust=\"spacingAndGlyphs\" textLength=\"64\" x=\"350\" y=\"244.0669\">«depend»</text></a><!--MD5=[c5e8897d989ce984f93528998a7150fe]\n",
       "link E8 to E6--><a href=\"psysml:a975d936-bb91-4b85-9c47-7632192c23c3\" target=\"_top\" title=\"psysml:a975d936-bb91-4b85-9c47-7632192c23c3\" xlink:actuate=\"onRequest\" xlink:href=\"psysml:a975d936-bb91-4b85-9c47-7632192c23c3\" xlink:show=\"new\" xlink:title=\"psysml:a975d936-bb91-4b85-9c47-7632192c23c3\" xlink:type=\"simple\"><path d=\"M82.81,126.48 C75.3,131.24 68.39,137.33 64,145 C60.26,151.53 59.68,159.3 60.56,166.77 \" fill=\"none\" id=\"E8-&gt;E6\" style=\"stroke: #A80036; stroke-width: 1.0; stroke-dasharray: 7.0,7.0;\"/><polygon fill=\"#A80036\" points=\"62.02,174.69,63.5257,166.2797,57.6244,167.3634,62.02,174.69\" style=\"stroke: #A80036; stroke-width: 1.0;\"/><text fill=\"#000000\" font-family=\"sans-serif\" font-size=\"13\" lengthAdjust=\"spacingAndGlyphs\" textLength=\"64\" x=\"65\" y=\"158.0669\">«depend»</text></a><!--MD5=[bfa3c8b0d15052fdf50ae9310b491027]\n",
       "link E8 to E7--><a href=\"psysml:a975d936-bb91-4b85-9c47-7632192c23c3\" target=\"_top\" title=\"psysml:a975d936-bb91-4b85-9c47-7632192c23c3\" xlink:actuate=\"onRequest\" xlink:href=\"psysml:a975d936-bb91-4b85-9c47-7632192c23c3\" xlink:show=\"new\" xlink:title=\"psysml:a975d936-bb91-4b85-9c47-7632192c23c3\" xlink:type=\"simple\"><path d=\"M135.83,132.26 C143.61,143.15 153.22,156.61 161.59,168.32 \" fill=\"none\" id=\"E8-&gt;E7\" style=\"stroke: #A80036; stroke-width: 1.0; stroke-dasharray: 7.0,7.0;\"/><polygon fill=\"#A80036\" points=\"166.34,174.97,164.1399,166.7141,159.2538,170.1965,166.34,174.97\" style=\"stroke: #A80036; stroke-width: 1.0;\"/><text fill=\"#000000\" font-family=\"sans-serif\" font-size=\"13\" lengthAdjust=\"spacingAndGlyphs\" textLength=\"64\" x=\"157\" y=\"158.0669\">«depend»</text></a><!--MD5=[1b63b427f74ca4ce4f41d9cf2f2297d3]\n",
       "@startuml\r\n",
       "skinparam ranksep 8\r\n",
       "skinparam rectangle {\r\n",
       " backgroundColor<<block>> LightGreen\r\n",
       "}\r\n",
       "skinparam wrapWidth 300\r\n",
       "hide circle\r\n",
       "\r\n",
       "package \"DependencyTest\" as E1  [[psysml:430f5b70-8499-4207-b78a-0a401723d15c ]]  {\r\n",
       "package \"System\" as E2  [[psysml:ef80acf8-3bbf-43fc-abea-40efc458e2ed ]]  {\r\n",
       "package \"Application Layer\" as E3  [[psysml:cb2f8149-aa3e-4482-91f3-ed1f7789b4f6 ]]  {\r\n",
       "}\r\n",
       "package \"Service Layer\" as E4  [[psysml:c90fac5e-4b06-46df-8524-0f31fe17b625 ]]  {\r\n",
       "}\r\n",
       "package \"Data Layer\" as E5  [[psysml:5945f028-85af-4284-8707-6581cfe8107d ]]  {\r\n",
       "}\r\n",
       "}\r\n",
       "rec usage \"x\" as E6  <<(T,blue)attribute>> [[psysml:f9adf18b-8dbf-4490-b33d-e9e2045e17b2 ]] {\r\n",
       "}\r\n",
       "rec usage \"y\" as E7  <<(T,blue)attribute>> [[psysml:b3547f0d-a84a-43aa-aeb1-8f3416005562 ]] {\r\n",
       "}\r\n",
       "rec usage \"z\" as E8  <<(T,blue)attribute>> [[psysml:06d3944d-d8a9-41b6-a7dc-ea1875e321b3 ]] {\r\n",
       "}\r\n",
       "E3 ..>> E4 [[psysml:71e7e357-685b-41cb-afa1-92571af689f5 ]] : <<depend>>\r\n",
       "E4 ..>> E5 [[psysml:1107382a-37f6-4d52-8c17-003f9fc0676e ]] : <<depend>>\r\n",
       "E8 ..>> E6 [[psysml:a975d936-bb91-4b85-9c47-7632192c23c3 ]] : <<depend>>\r\n",
       "E8 ..>> E7 [[psysml:a975d936-bb91-4b85-9c47-7632192c23c3 ]] : <<depend>>\r\n",
       "}\r\n",
       "@enduml\r\n",
       "\n",
       "PlantUML version 1.2020.13(Sat Jun 13 12:26:38 UTC 2020)\n",
       "(EPL source distribution)\n",
       "Java Runtime: OpenJDK Runtime Environment\n",
       "JVM: OpenJDK 64-Bit Server VM\n",
       "Default Encoding: UTF-8\n",
       "Language: en\n",
       "Country: null\n",
       "--></g></svg>"
      ]
     },
     "execution_count": 26,
     "metadata": {},
     "output_type": "execute_result"
    }
   ],
   "source": [
    "%viz --style=\"STDCOLOR\" --view=\"Interconnection\" \"DependencyTest\""
   ]
  },
  {
   "cell_type": "code",
   "execution_count": 27,
   "id": "sunrise-triumph",
   "metadata": {
    "execution": {
     "iopub.execute_input": "2021-03-25T13:51:43.732132Z",
     "iopub.status.busy": "2021-03-25T13:51:43.731600Z",
     "iopub.status.idle": "2021-03-25T13:51:43.738224Z",
     "shell.execute_reply": "2021-03-25T13:51:43.737858Z"
    }
   },
   "outputs": [
    {
     "data": {
      "image/svg+xml": [
       "<?xml version=\"1.0\" encoding=\"UTF-8\" standalone=\"no\"?><svg xmlns=\"http://www.w3.org/2000/svg\" xmlns:xlink=\"http://www.w3.org/1999/xlink\" contentScriptType=\"application/ecmascript\" contentStyleType=\"text/css\" height=\"12px\" preserveAspectRatio=\"none\" style=\"width:12px;height:12px;\" version=\"1.1\" viewBox=\"0 0 12 12\" width=\"12px\" zoomAndPan=\"magnify\"><defs/><g><!--MD5=[9863325348a96a77dacc89509d8ee65e]\n",
       "@startuml\r\n",
       "skinparam ranksep 8\r\n",
       "skinparam wrapWidth 300\r\n",
       "hide circle\r\n",
       "\r\n",
       "@enduml\r\n",
       "\n",
       "PlantUML version 1.2020.13(Sat Jun 13 12:26:38 UTC 2020)\n",
       "(EPL source distribution)\n",
       "Java Runtime: OpenJDK Runtime Environment\n",
       "JVM: OpenJDK 64-Bit Server VM\n",
       "Default Encoding: UTF-8\n",
       "Language: en\n",
       "Country: null\n",
       "--></g></svg>"
      ]
     },
     "execution_count": 27,
     "metadata": {},
     "output_type": "execute_result"
    }
   ],
   "source": [
    "%viz --style=\"STDCOLOR\" --view=\"Action\" \"DependencyTest\""
   ]
  },
  {
   "cell_type": "code",
   "execution_count": 28,
   "id": "proud-prince",
   "metadata": {
    "execution": {
     "iopub.execute_input": "2021-03-25T13:51:43.789492Z",
     "iopub.status.busy": "2021-03-25T13:51:43.788888Z",
     "iopub.status.idle": "2021-03-25T13:51:43.881361Z",
     "shell.execute_reply": "2021-03-25T13:51:43.882329Z"
    }
   },
   "outputs": [
    {
     "data": {
      "image/svg+xml": [
       "<?xml version=\"1.0\" encoding=\"UTF-8\" standalone=\"no\"?><svg xmlns=\"http://www.w3.org/2000/svg\" xmlns:xlink=\"http://www.w3.org/1999/xlink\" contentScriptType=\"application/ecmascript\" contentStyleType=\"text/css\" height=\"449px\" preserveAspectRatio=\"none\" style=\"width:489px;height:449px;\" version=\"1.1\" viewBox=\"0 0 489 449\" width=\"489px\" zoomAndPan=\"magnify\"><defs><filter height=\"300%\" id=\"f1dfi20ymm8sj1\" width=\"300%\" x=\"-1\" y=\"-1\"><feGaussianBlur result=\"blurOut\" stdDeviation=\"2.0\"/><feColorMatrix in=\"blurOut\" result=\"blurOut2\" type=\"matrix\" values=\"0 0 0 0 0 0 0 0 0 0 0 0 0 0 0 0 0 0 .4 0\"/><feOffset dx=\"4.0\" dy=\"4.0\" in=\"blurOut2\" result=\"blurOut3\"/><feBlend in=\"SourceGraphic\" in2=\"blurOut3\" mode=\"normal\"/></filter></defs><g><!--MD5=[fbc87193dbaf4d95561dea2c320d4a47]\n",
       "cluster E1--><a href=\"psysml:430f5b70-8499-4207-b78a-0a401723d15c\" target=\"_top\" title=\"psysml:430f5b70-8499-4207-b78a-0a401723d15c\" xlink:actuate=\"onRequest\" xlink:href=\"psysml:430f5b70-8499-4207-b78a-0a401723d15c\" xlink:show=\"new\" xlink:title=\"psysml:430f5b70-8499-4207-b78a-0a401723d15c\" xlink:type=\"simple\"><polygon fill=\"#FFFFFF\" filter=\"url(#f1dfi20ymm8sj1)\" points=\"16,6,156,6,163,28.2969,467,28.2969,467,437,16,437,16,6\" style=\"stroke: #000000; stroke-width: 1.5;\"/><line style=\"stroke: #000000; stroke-width: 1.5;\" x1=\"16\" x2=\"163\" y1=\"28.2969\" y2=\"28.2969\"/><text fill=\"#000000\" font-family=\"sans-serif\" font-size=\"14\" font-weight=\"bold\" lengthAdjust=\"spacingAndGlyphs\" textLength=\"134\" x=\"20\" y=\"20.9951\">DependencyTest</text></a><!--MD5=[e4f7fae6ed58524ba242bb0b0d3be6b7]\n",
       "cluster E2--><a href=\"psysml:ef80acf8-3bbf-43fc-abea-40efc458e2ed\" target=\"_top\" title=\"psysml:ef80acf8-3bbf-43fc-abea-40efc458e2ed\" xlink:actuate=\"onRequest\" xlink:href=\"psysml:ef80acf8-3bbf-43fc-abea-40efc458e2ed\" xlink:show=\"new\" xlink:title=\"psysml:ef80acf8-3bbf-43fc-abea-40efc458e2ed\" xlink:type=\"simple\"><polygon fill=\"#FFFFFF\" filter=\"url(#f1dfi20ymm8sj1)\" points=\"255,49,319,49,326,71.2969,443,71.2969,443,413,255,413,255,49\" style=\"stroke: #000000; stroke-width: 1.5;\"/><line style=\"stroke: #000000; stroke-width: 1.5;\" x1=\"255\" x2=\"326\" y1=\"71.2969\" y2=\"71.2969\"/><text fill=\"#000000\" font-family=\"sans-serif\" font-size=\"14\" font-weight=\"bold\" lengthAdjust=\"spacingAndGlyphs\" textLength=\"58\" x=\"259\" y=\"63.9951\">System</text></a><!--MD5=[60a26617385b1d2d0262a64233df1f8d]\n",
       "class E6--><a href=\"psysml:f9adf18b-8dbf-4490-b33d-e9e2045e17b2\" target=\"_top\" title=\"psysml:f9adf18b-8dbf-4490-b33d-e9e2045e17b2\" xlink:actuate=\"onRequest\" xlink:href=\"psysml:f9adf18b-8dbf-4490-b33d-e9e2045e17b2\" xlink:show=\"new\" xlink:title=\"psysml:f9adf18b-8dbf-4490-b33d-e9e2045e17b2\" xlink:type=\"simple\"><rect fill=\"#FEFECE\" filter=\"url(#f1dfi20ymm8sj1)\" height=\"45.9375\" id=\"E6\" rx=\"10\" ry=\"10\" style=\"stroke: #A80036; stroke-width: 1.5;\" width=\"71\" x=\"32.5\" y=\"217.5\"/><text fill=\"#000000\" font-family=\"sans-serif\" font-size=\"12\" font-style=\"italic\" lengthAdjust=\"spacingAndGlyphs\" textLength=\"69\" x=\"33.5\" y=\"233.6387\">«attribute»</text><text fill=\"#000000\" font-family=\"sans-serif\" font-size=\"12\" lengthAdjust=\"spacingAndGlyphs\" textLength=\"6\" x=\"65\" y=\"247.6074\">x</text><line style=\"stroke: #A80036; stroke-width: 1.5;\" x1=\"33.5\" x2=\"102.5\" y1=\"255.4375\" y2=\"255.4375\"/></a><!--MD5=[2156ba9850f5573cc1fc38a6a4b2f02b]\n",
       "class E7--><a href=\"psysml:b3547f0d-a84a-43aa-aeb1-8f3416005562\" target=\"_top\" title=\"psysml:b3547f0d-a84a-43aa-aeb1-8f3416005562\" xlink:actuate=\"onRequest\" xlink:href=\"psysml:b3547f0d-a84a-43aa-aeb1-8f3416005562\" xlink:show=\"new\" xlink:title=\"psysml:b3547f0d-a84a-43aa-aeb1-8f3416005562\" xlink:type=\"simple\"><rect fill=\"#FEFECE\" filter=\"url(#f1dfi20ymm8sj1)\" height=\"45.9375\" id=\"E7\" rx=\"10\" ry=\"10\" style=\"stroke: #A80036; stroke-width: 1.5;\" width=\"71\" x=\"138.5\" y=\"217.5\"/><text fill=\"#000000\" font-family=\"sans-serif\" font-size=\"12\" font-style=\"italic\" lengthAdjust=\"spacingAndGlyphs\" textLength=\"69\" x=\"139.5\" y=\"233.6387\">«attribute»</text><text fill=\"#000000\" font-family=\"sans-serif\" font-size=\"12\" lengthAdjust=\"spacingAndGlyphs\" textLength=\"6\" x=\"171\" y=\"247.6074\">y</text><line style=\"stroke: #A80036; stroke-width: 1.5;\" x1=\"139.5\" x2=\"208.5\" y1=\"255.4375\" y2=\"255.4375\"/></a><!--MD5=[b9389687b975829384b498ac4b7476b2]\n",
       "class E8--><a href=\"psysml:06d3944d-d8a9-41b6-a7dc-ea1875e321b3\" target=\"_top\" title=\"psysml:06d3944d-d8a9-41b6-a7dc-ea1875e321b3\" xlink:actuate=\"onRequest\" xlink:href=\"psysml:06d3944d-d8a9-41b6-a7dc-ea1875e321b3\" xlink:show=\"new\" xlink:title=\"psysml:06d3944d-d8a9-41b6-a7dc-ea1875e321b3\" xlink:type=\"simple\"><rect fill=\"#FEFECE\" filter=\"url(#f1dfi20ymm8sj1)\" height=\"45.9375\" id=\"E8\" rx=\"10\" ry=\"10\" style=\"stroke: #A80036; stroke-width: 1.5;\" width=\"71\" x=\"84.5\" y=\"87.5\"/><text fill=\"#000000\" font-family=\"sans-serif\" font-size=\"12\" font-style=\"italic\" lengthAdjust=\"spacingAndGlyphs\" textLength=\"69\" x=\"85.5\" y=\"103.6387\">«attribute»</text><text fill=\"#000000\" font-family=\"sans-serif\" font-size=\"12\" lengthAdjust=\"spacingAndGlyphs\" textLength=\"5\" x=\"117.5\" y=\"117.6074\">z</text><line style=\"stroke: #A80036; stroke-width: 1.5;\" x1=\"85.5\" x2=\"154.5\" y1=\"125.4375\" y2=\"125.4375\"/></a><a href=\"psysml:cb2f8149-aa3e-4482-91f3-ed1f7789b4f6\" target=\"_top\" title=\"psysml:cb2f8149-aa3e-4482-91f3-ed1f7789b4f6\" xlink:actuate=\"onRequest\" xlink:href=\"psysml:cb2f8149-aa3e-4482-91f3-ed1f7789b4f6\" xlink:show=\"new\" xlink:title=\"psysml:cb2f8149-aa3e-4482-91f3-ed1f7789b4f6\" xlink:type=\"simple\"><polygon fill=\"#FFFFFF\" filter=\"url(#f1dfi20ymm8sj1)\" points=\"271,84,413,84,420,106.2969,427,106.2969,427,136.5938,271,136.5938,271,84\" style=\"stroke: #000000; stroke-width: 1.5;\"/><line style=\"stroke: #000000; stroke-width: 1.5;\" x1=\"271\" x2=\"420\" y1=\"106.2969\" y2=\"106.2969\"/><text fill=\"#000000\" font-family=\"sans-serif\" font-size=\"14\" font-weight=\"bold\" lengthAdjust=\"spacingAndGlyphs\" textLength=\"136\" x=\"275\" y=\"98.9951\">Application Layer</text></a><a href=\"psysml:c90fac5e-4b06-46df-8524-0f31fe17b625\" target=\"_top\" title=\"psysml:c90fac5e-4b06-46df-8524-0f31fe17b625\" xlink:actuate=\"onRequest\" xlink:href=\"psysml:c90fac5e-4b06-46df-8524-0f31fe17b625\" xlink:show=\"new\" xlink:title=\"psysml:c90fac5e-4b06-46df-8524-0f31fe17b625\" xlink:type=\"simple\"><polygon fill=\"#FFFFFF\" filter=\"url(#f1dfi20ymm8sj1)\" points=\"285,214,399,214,406,236.2969,413,236.2969,413,266.5938,285,266.5938,285,214\" style=\"stroke: #000000; stroke-width: 1.5;\"/><line style=\"stroke: #000000; stroke-width: 1.5;\" x1=\"285\" x2=\"406\" y1=\"236.2969\" y2=\"236.2969\"/><text fill=\"#000000\" font-family=\"sans-serif\" font-size=\"14\" font-weight=\"bold\" lengthAdjust=\"spacingAndGlyphs\" textLength=\"108\" x=\"289\" y=\"228.9951\">Service Layer</text></a><a href=\"psysml:5945f028-85af-4284-8707-6581cfe8107d\" target=\"_top\" title=\"psysml:5945f028-85af-4284-8707-6581cfe8107d\" xlink:actuate=\"onRequest\" xlink:href=\"psysml:5945f028-85af-4284-8707-6581cfe8107d\" xlink:show=\"new\" xlink:title=\"psysml:5945f028-85af-4284-8707-6581cfe8107d\" xlink:type=\"simple\"><polygon fill=\"#FFFFFF\" filter=\"url(#f1dfi20ymm8sj1)\" points=\"297,344,387,344,394,366.2969,401,366.2969,401,396.5938,297,396.5938,297,344\" style=\"stroke: #000000; stroke-width: 1.5;\"/><line style=\"stroke: #000000; stroke-width: 1.5;\" x1=\"297\" x2=\"394\" y1=\"366.2969\" y2=\"366.2969\"/><text fill=\"#000000\" font-family=\"sans-serif\" font-size=\"14\" font-weight=\"bold\" lengthAdjust=\"spacingAndGlyphs\" textLength=\"84\" x=\"301\" y=\"358.9951\">Data Layer</text></a><!--MD5=[af87c684e3b0d8be13c1a698a818ef1e]\n",
       "link E3 to E4--><a href=\"psysml:71e7e357-685b-41cb-afa1-92571af689f5\" target=\"_top\" title=\"psysml:71e7e357-685b-41cb-afa1-92571af689f5\" xlink:actuate=\"onRequest\" xlink:href=\"psysml:71e7e357-685b-41cb-afa1-92571af689f5\" xlink:show=\"new\" xlink:title=\"psysml:71e7e357-685b-41cb-afa1-92571af689f5\" xlink:type=\"simple\"><path d=\"M349,137.1 C349,156.8 349,184.22 349,205.73 \" fill=\"none\" id=\"E3-&gt;E4\" style=\"stroke: #A80036; stroke-width: 1.0; stroke-dasharray: 7.0,7.0;\"/><polygon fill=\"#A80036\" points=\"349,213.95,352,205.95,346,205.95,349,213.95\" style=\"stroke: #A80036; stroke-width: 1.0;\"/><text fill=\"#000000\" font-family=\"sans-serif\" font-size=\"13\" lengthAdjust=\"spacingAndGlyphs\" textLength=\"64\" x=\"350\" y=\"180.0669\">«depend»</text></a><!--MD5=[1b7591eae5389033d8d09a9d6721a717]\n",
       "link E4 to E5--><a href=\"psysml:1107382a-37f6-4d52-8c17-003f9fc0676e\" target=\"_top\" title=\"psysml:1107382a-37f6-4d52-8c17-003f9fc0676e\" xlink:actuate=\"onRequest\" xlink:href=\"psysml:1107382a-37f6-4d52-8c17-003f9fc0676e\" xlink:show=\"new\" xlink:title=\"psysml:1107382a-37f6-4d52-8c17-003f9fc0676e\" xlink:type=\"simple\"><path d=\"M349,267.1 C349,286.8 349,314.22 349,335.73 \" fill=\"none\" id=\"E4-&gt;E5\" style=\"stroke: #A80036; stroke-width: 1.0; stroke-dasharray: 7.0,7.0;\"/><polygon fill=\"#A80036\" points=\"349,343.95,352,335.95,346,335.95,349,343.95\" style=\"stroke: #A80036; stroke-width: 1.0;\"/><text fill=\"#000000\" font-family=\"sans-serif\" font-size=\"13\" lengthAdjust=\"spacingAndGlyphs\" textLength=\"64\" x=\"350\" y=\"310.0669\">«depend»</text></a><!--MD5=[c5e8897d989ce984f93528998a7150fe]\n",
       "link E8 to E6--><a href=\"psysml:a975d936-bb91-4b85-9c47-7632192c23c3\" target=\"_top\" title=\"psysml:a975d936-bb91-4b85-9c47-7632192c23c3\" xlink:actuate=\"onRequest\" xlink:href=\"psysml:a975d936-bb91-4b85-9c47-7632192c23c3\" xlink:show=\"new\" xlink:title=\"psysml:a975d936-bb91-4b85-9c47-7632192c23c3\" xlink:type=\"simple\"><path d=\"M89.42,133.6 C79.35,142.68 69.37,154.11 64,167 C58.5,180.2 58.66,195.94 60.54,209.38 \" fill=\"none\" id=\"E8-&gt;E6\" style=\"stroke: #A80036; stroke-width: 1.0; stroke-dasharray: 7.0,7.0;\"/><polygon fill=\"#A80036\" points=\"61.9,217.4,63.517,209.0104,57.6018,210.0159,61.9,217.4\" style=\"stroke: #A80036; stroke-width: 1.0;\"/><text fill=\"#000000\" font-family=\"sans-serif\" font-size=\"13\" lengthAdjust=\"spacingAndGlyphs\" textLength=\"64\" x=\"65\" y=\"180.0669\">«depend»</text></a><!--MD5=[bfa3c8b0d15052fdf50ae9310b491027]\n",
       "link E8 to E7--><a href=\"psysml:a975d936-bb91-4b85-9c47-7632192c23c3\" target=\"_top\" title=\"psysml:a975d936-bb91-4b85-9c47-7632192c23c3\" xlink:actuate=\"onRequest\" xlink:href=\"psysml:a975d936-bb91-4b85-9c47-7632192c23c3\" xlink:show=\"new\" xlink:title=\"psysml:a975d936-bb91-4b85-9c47-7632192c23c3\" xlink:type=\"simple\"><path d=\"M129.28,133.5 C138.17,154.57 151.64,186.5 161.47,209.81 \" fill=\"none\" id=\"E8-&gt;E7\" style=\"stroke: #A80036; stroke-width: 1.0; stroke-dasharray: 7.0,7.0;\"/><polygon fill=\"#A80036\" points=\"164.66,217.35,164.3241,208.8126,158.7933,211.1385,164.66,217.35\" style=\"stroke: #A80036; stroke-width: 1.0;\"/><text fill=\"#000000\" font-family=\"sans-serif\" font-size=\"13\" lengthAdjust=\"spacingAndGlyphs\" textLength=\"64\" x=\"151\" y=\"180.0669\">«depend»</text></a><!--MD5=[dc94b5db9987564daf6170d21c96b800]\n",
       "@startuml\r\n",
       "skinparam wrapWidth 300\r\n",
       "hide circle\r\n",
       "\r\n",
       "package \"DependencyTest\" as E1  [[psysml:430f5b70-8499-4207-b78a-0a401723d15c ]]  {\r\n",
       "package \"System\" as E2  [[psysml:ef80acf8-3bbf-43fc-abea-40efc458e2ed ]]  {\r\n",
       "package \"Application Layer\" as E3  [[psysml:cb2f8149-aa3e-4482-91f3-ed1f7789b4f6 ]]  {\r\n",
       "}\r\n",
       "package \"Service Layer\" as E4  [[psysml:c90fac5e-4b06-46df-8524-0f31fe17b625 ]]  {\r\n",
       "}\r\n",
       "package \"Data Layer\" as E5  [[psysml:5945f028-85af-4284-8707-6581cfe8107d ]]  {\r\n",
       "}\r\n",
       "}\r\n",
       "comp usage \"x\" as E6  <<(T,blue)attribute>> [[psysml:f9adf18b-8dbf-4490-b33d-e9e2045e17b2 ]] {\r\n",
       "}\r\n",
       "comp usage \"y\" as E7  <<(T,blue)attribute>> [[psysml:b3547f0d-a84a-43aa-aeb1-8f3416005562 ]] {\r\n",
       "}\r\n",
       "comp usage \"z\" as E8  <<(T,blue)attribute>> [[psysml:06d3944d-d8a9-41b6-a7dc-ea1875e321b3 ]] {\r\n",
       "}\r\n",
       "E3 ..>> E4 [[psysml:71e7e357-685b-41cb-afa1-92571af689f5 ]] : <<depend>>\r\n",
       "E4 ..>> E5 [[psysml:1107382a-37f6-4d52-8c17-003f9fc0676e ]] : <<depend>>\r\n",
       "E8 ..>> E6 [[psysml:a975d936-bb91-4b85-9c47-7632192c23c3 ]] : <<depend>>\r\n",
       "E8 ..>> E7 [[psysml:a975d936-bb91-4b85-9c47-7632192c23c3 ]] : <<depend>>\r\n",
       "}\r\n",
       "@enduml\r\n",
       "\n",
       "PlantUML version 1.2020.13(Sat Jun 13 12:26:38 UTC 2020)\n",
       "(EPL source distribution)\n",
       "Java Runtime: OpenJDK Runtime Environment\n",
       "JVM: OpenJDK 64-Bit Server VM\n",
       "Default Encoding: UTF-8\n",
       "Language: en\n",
       "Country: null\n",
       "--></g></svg>"
      ]
     },
     "execution_count": 28,
     "metadata": {},
     "output_type": "execute_result"
    }
   ],
   "source": [
    "%viz --style=\"STDCOLOR\" --view=\"Sequence\" \"DependencyTest\""
   ]
  },
  {
   "cell_type": "code",
   "execution_count": 29,
   "id": "alien-finnish",
   "metadata": {
    "execution": {
     "iopub.execute_input": "2021-03-25T13:51:43.930722Z",
     "iopub.status.busy": "2021-03-25T13:51:43.930108Z",
     "iopub.status.idle": "2021-03-25T13:51:44.023196Z",
     "shell.execute_reply": "2021-03-25T13:51:44.022760Z"
    }
   },
   "outputs": [
    {
     "data": {
      "image/svg+xml": [
       "<?xml version=\"1.0\" encoding=\"UTF-8\" standalone=\"no\"?><svg xmlns=\"http://www.w3.org/2000/svg\" xmlns:xlink=\"http://www.w3.org/1999/xlink\" contentScriptType=\"application/ecmascript\" contentStyleType=\"text/css\" height=\"449px\" preserveAspectRatio=\"none\" style=\"width:489px;height:449px;\" version=\"1.1\" viewBox=\"0 0 489 449\" width=\"489px\" zoomAndPan=\"magnify\"><defs><filter height=\"300%\" id=\"f1dfi20ymm8sj1\" width=\"300%\" x=\"-1\" y=\"-1\"><feGaussianBlur result=\"blurOut\" stdDeviation=\"2.0\"/><feColorMatrix in=\"blurOut\" result=\"blurOut2\" type=\"matrix\" values=\"0 0 0 0 0 0 0 0 0 0 0 0 0 0 0 0 0 0 .4 0\"/><feOffset dx=\"4.0\" dy=\"4.0\" in=\"blurOut2\" result=\"blurOut3\"/><feBlend in=\"SourceGraphic\" in2=\"blurOut3\" mode=\"normal\"/></filter></defs><g><!--MD5=[fbc87193dbaf4d95561dea2c320d4a47]\n",
       "cluster E1--><a href=\"psysml:430f5b70-8499-4207-b78a-0a401723d15c\" target=\"_top\" title=\"psysml:430f5b70-8499-4207-b78a-0a401723d15c\" xlink:actuate=\"onRequest\" xlink:href=\"psysml:430f5b70-8499-4207-b78a-0a401723d15c\" xlink:show=\"new\" xlink:title=\"psysml:430f5b70-8499-4207-b78a-0a401723d15c\" xlink:type=\"simple\"><polygon fill=\"#FFFFFF\" filter=\"url(#f1dfi20ymm8sj1)\" points=\"16,6,156,6,163,28.2969,467,28.2969,467,437,16,437,16,6\" style=\"stroke: #000000; stroke-width: 1.5;\"/><line style=\"stroke: #000000; stroke-width: 1.5;\" x1=\"16\" x2=\"163\" y1=\"28.2969\" y2=\"28.2969\"/><text fill=\"#000000\" font-family=\"sans-serif\" font-size=\"14\" font-weight=\"bold\" lengthAdjust=\"spacingAndGlyphs\" textLength=\"134\" x=\"20\" y=\"20.9951\">DependencyTest</text></a><!--MD5=[e4f7fae6ed58524ba242bb0b0d3be6b7]\n",
       "cluster E2--><a href=\"psysml:ef80acf8-3bbf-43fc-abea-40efc458e2ed\" target=\"_top\" title=\"psysml:ef80acf8-3bbf-43fc-abea-40efc458e2ed\" xlink:actuate=\"onRequest\" xlink:href=\"psysml:ef80acf8-3bbf-43fc-abea-40efc458e2ed\" xlink:show=\"new\" xlink:title=\"psysml:ef80acf8-3bbf-43fc-abea-40efc458e2ed\" xlink:type=\"simple\"><polygon fill=\"#FFFFFF\" filter=\"url(#f1dfi20ymm8sj1)\" points=\"255,49,319,49,326,71.2969,443,71.2969,443,413,255,413,255,49\" style=\"stroke: #000000; stroke-width: 1.5;\"/><line style=\"stroke: #000000; stroke-width: 1.5;\" x1=\"255\" x2=\"326\" y1=\"71.2969\" y2=\"71.2969\"/><text fill=\"#000000\" font-family=\"sans-serif\" font-size=\"14\" font-weight=\"bold\" lengthAdjust=\"spacingAndGlyphs\" textLength=\"58\" x=\"259\" y=\"63.9951\">System</text></a><!--MD5=[60a26617385b1d2d0262a64233df1f8d]\n",
       "class E6--><a href=\"psysml:f9adf18b-8dbf-4490-b33d-e9e2045e17b2\" target=\"_top\" title=\"psysml:f9adf18b-8dbf-4490-b33d-e9e2045e17b2\" xlink:actuate=\"onRequest\" xlink:href=\"psysml:f9adf18b-8dbf-4490-b33d-e9e2045e17b2\" xlink:show=\"new\" xlink:title=\"psysml:f9adf18b-8dbf-4490-b33d-e9e2045e17b2\" xlink:type=\"simple\"><rect fill=\"#FEFECE\" filter=\"url(#f1dfi20ymm8sj1)\" height=\"45.9375\" id=\"E6\" rx=\"10\" ry=\"10\" style=\"stroke: #A80036; stroke-width: 1.5;\" width=\"71\" x=\"32.5\" y=\"217.5\"/><text fill=\"#000000\" font-family=\"sans-serif\" font-size=\"12\" font-style=\"italic\" lengthAdjust=\"spacingAndGlyphs\" textLength=\"69\" x=\"33.5\" y=\"233.6387\">«attribute»</text><text fill=\"#000000\" font-family=\"sans-serif\" font-size=\"12\" lengthAdjust=\"spacingAndGlyphs\" textLength=\"6\" x=\"65\" y=\"247.6074\">x</text><line style=\"stroke: #A80036; stroke-width: 1.5;\" x1=\"33.5\" x2=\"102.5\" y1=\"255.4375\" y2=\"255.4375\"/></a><!--MD5=[2156ba9850f5573cc1fc38a6a4b2f02b]\n",
       "class E7--><a href=\"psysml:b3547f0d-a84a-43aa-aeb1-8f3416005562\" target=\"_top\" title=\"psysml:b3547f0d-a84a-43aa-aeb1-8f3416005562\" xlink:actuate=\"onRequest\" xlink:href=\"psysml:b3547f0d-a84a-43aa-aeb1-8f3416005562\" xlink:show=\"new\" xlink:title=\"psysml:b3547f0d-a84a-43aa-aeb1-8f3416005562\" xlink:type=\"simple\"><rect fill=\"#FEFECE\" filter=\"url(#f1dfi20ymm8sj1)\" height=\"45.9375\" id=\"E7\" rx=\"10\" ry=\"10\" style=\"stroke: #A80036; stroke-width: 1.5;\" width=\"71\" x=\"138.5\" y=\"217.5\"/><text fill=\"#000000\" font-family=\"sans-serif\" font-size=\"12\" font-style=\"italic\" lengthAdjust=\"spacingAndGlyphs\" textLength=\"69\" x=\"139.5\" y=\"233.6387\">«attribute»</text><text fill=\"#000000\" font-family=\"sans-serif\" font-size=\"12\" lengthAdjust=\"spacingAndGlyphs\" textLength=\"6\" x=\"171\" y=\"247.6074\">y</text><line style=\"stroke: #A80036; stroke-width: 1.5;\" x1=\"139.5\" x2=\"208.5\" y1=\"255.4375\" y2=\"255.4375\"/></a><!--MD5=[b9389687b975829384b498ac4b7476b2]\n",
       "class E8--><a href=\"psysml:06d3944d-d8a9-41b6-a7dc-ea1875e321b3\" target=\"_top\" title=\"psysml:06d3944d-d8a9-41b6-a7dc-ea1875e321b3\" xlink:actuate=\"onRequest\" xlink:href=\"psysml:06d3944d-d8a9-41b6-a7dc-ea1875e321b3\" xlink:show=\"new\" xlink:title=\"psysml:06d3944d-d8a9-41b6-a7dc-ea1875e321b3\" xlink:type=\"simple\"><rect fill=\"#FEFECE\" filter=\"url(#f1dfi20ymm8sj1)\" height=\"45.9375\" id=\"E8\" rx=\"10\" ry=\"10\" style=\"stroke: #A80036; stroke-width: 1.5;\" width=\"71\" x=\"84.5\" y=\"87.5\"/><text fill=\"#000000\" font-family=\"sans-serif\" font-size=\"12\" font-style=\"italic\" lengthAdjust=\"spacingAndGlyphs\" textLength=\"69\" x=\"85.5\" y=\"103.6387\">«attribute»</text><text fill=\"#000000\" font-family=\"sans-serif\" font-size=\"12\" lengthAdjust=\"spacingAndGlyphs\" textLength=\"5\" x=\"117.5\" y=\"117.6074\">z</text><line style=\"stroke: #A80036; stroke-width: 1.5;\" x1=\"85.5\" x2=\"154.5\" y1=\"125.4375\" y2=\"125.4375\"/></a><a href=\"psysml:cb2f8149-aa3e-4482-91f3-ed1f7789b4f6\" target=\"_top\" title=\"psysml:cb2f8149-aa3e-4482-91f3-ed1f7789b4f6\" xlink:actuate=\"onRequest\" xlink:href=\"psysml:cb2f8149-aa3e-4482-91f3-ed1f7789b4f6\" xlink:show=\"new\" xlink:title=\"psysml:cb2f8149-aa3e-4482-91f3-ed1f7789b4f6\" xlink:type=\"simple\"><polygon fill=\"#FFFFFF\" filter=\"url(#f1dfi20ymm8sj1)\" points=\"271,84,413,84,420,106.2969,427,106.2969,427,136.5938,271,136.5938,271,84\" style=\"stroke: #000000; stroke-width: 1.5;\"/><line style=\"stroke: #000000; stroke-width: 1.5;\" x1=\"271\" x2=\"420\" y1=\"106.2969\" y2=\"106.2969\"/><text fill=\"#000000\" font-family=\"sans-serif\" font-size=\"14\" font-weight=\"bold\" lengthAdjust=\"spacingAndGlyphs\" textLength=\"136\" x=\"275\" y=\"98.9951\">Application Layer</text></a><a href=\"psysml:c90fac5e-4b06-46df-8524-0f31fe17b625\" target=\"_top\" title=\"psysml:c90fac5e-4b06-46df-8524-0f31fe17b625\" xlink:actuate=\"onRequest\" xlink:href=\"psysml:c90fac5e-4b06-46df-8524-0f31fe17b625\" xlink:show=\"new\" xlink:title=\"psysml:c90fac5e-4b06-46df-8524-0f31fe17b625\" xlink:type=\"simple\"><polygon fill=\"#FFFFFF\" filter=\"url(#f1dfi20ymm8sj1)\" points=\"285,214,399,214,406,236.2969,413,236.2969,413,266.5938,285,266.5938,285,214\" style=\"stroke: #000000; stroke-width: 1.5;\"/><line style=\"stroke: #000000; stroke-width: 1.5;\" x1=\"285\" x2=\"406\" y1=\"236.2969\" y2=\"236.2969\"/><text fill=\"#000000\" font-family=\"sans-serif\" font-size=\"14\" font-weight=\"bold\" lengthAdjust=\"spacingAndGlyphs\" textLength=\"108\" x=\"289\" y=\"228.9951\">Service Layer</text></a><a href=\"psysml:5945f028-85af-4284-8707-6581cfe8107d\" target=\"_top\" title=\"psysml:5945f028-85af-4284-8707-6581cfe8107d\" xlink:actuate=\"onRequest\" xlink:href=\"psysml:5945f028-85af-4284-8707-6581cfe8107d\" xlink:show=\"new\" xlink:title=\"psysml:5945f028-85af-4284-8707-6581cfe8107d\" xlink:type=\"simple\"><polygon fill=\"#FFFFFF\" filter=\"url(#f1dfi20ymm8sj1)\" points=\"297,344,387,344,394,366.2969,401,366.2969,401,396.5938,297,396.5938,297,344\" style=\"stroke: #000000; stroke-width: 1.5;\"/><line style=\"stroke: #000000; stroke-width: 1.5;\" x1=\"297\" x2=\"394\" y1=\"366.2969\" y2=\"366.2969\"/><text fill=\"#000000\" font-family=\"sans-serif\" font-size=\"14\" font-weight=\"bold\" lengthAdjust=\"spacingAndGlyphs\" textLength=\"84\" x=\"301\" y=\"358.9951\">Data Layer</text></a><!--MD5=[af87c684e3b0d8be13c1a698a818ef1e]\n",
       "link E3 to E4--><a href=\"psysml:71e7e357-685b-41cb-afa1-92571af689f5\" target=\"_top\" title=\"psysml:71e7e357-685b-41cb-afa1-92571af689f5\" xlink:actuate=\"onRequest\" xlink:href=\"psysml:71e7e357-685b-41cb-afa1-92571af689f5\" xlink:show=\"new\" xlink:title=\"psysml:71e7e357-685b-41cb-afa1-92571af689f5\" xlink:type=\"simple\"><path d=\"M349,137.1 C349,156.8 349,184.22 349,205.73 \" fill=\"none\" id=\"E3-&gt;E4\" style=\"stroke: #A80036; stroke-width: 1.0; stroke-dasharray: 7.0,7.0;\"/><polygon fill=\"#A80036\" points=\"349,213.95,352,205.95,346,205.95,349,213.95\" style=\"stroke: #A80036; stroke-width: 1.0;\"/><text fill=\"#000000\" font-family=\"sans-serif\" font-size=\"13\" lengthAdjust=\"spacingAndGlyphs\" textLength=\"64\" x=\"350\" y=\"180.0669\">«depend»</text></a><!--MD5=[1b7591eae5389033d8d09a9d6721a717]\n",
       "link E4 to E5--><a href=\"psysml:1107382a-37f6-4d52-8c17-003f9fc0676e\" target=\"_top\" title=\"psysml:1107382a-37f6-4d52-8c17-003f9fc0676e\" xlink:actuate=\"onRequest\" xlink:href=\"psysml:1107382a-37f6-4d52-8c17-003f9fc0676e\" xlink:show=\"new\" xlink:title=\"psysml:1107382a-37f6-4d52-8c17-003f9fc0676e\" xlink:type=\"simple\"><path d=\"M349,267.1 C349,286.8 349,314.22 349,335.73 \" fill=\"none\" id=\"E4-&gt;E5\" style=\"stroke: #A80036; stroke-width: 1.0; stroke-dasharray: 7.0,7.0;\"/><polygon fill=\"#A80036\" points=\"349,343.95,352,335.95,346,335.95,349,343.95\" style=\"stroke: #A80036; stroke-width: 1.0;\"/><text fill=\"#000000\" font-family=\"sans-serif\" font-size=\"13\" lengthAdjust=\"spacingAndGlyphs\" textLength=\"64\" x=\"350\" y=\"310.0669\">«depend»</text></a><!--MD5=[c5e8897d989ce984f93528998a7150fe]\n",
       "link E8 to E6--><a href=\"psysml:a975d936-bb91-4b85-9c47-7632192c23c3\" target=\"_top\" title=\"psysml:a975d936-bb91-4b85-9c47-7632192c23c3\" xlink:actuate=\"onRequest\" xlink:href=\"psysml:a975d936-bb91-4b85-9c47-7632192c23c3\" xlink:show=\"new\" xlink:title=\"psysml:a975d936-bb91-4b85-9c47-7632192c23c3\" xlink:type=\"simple\"><path d=\"M89.42,133.6 C79.35,142.68 69.37,154.11 64,167 C58.5,180.2 58.66,195.94 60.54,209.38 \" fill=\"none\" id=\"E8-&gt;E6\" style=\"stroke: #A80036; stroke-width: 1.0; stroke-dasharray: 7.0,7.0;\"/><polygon fill=\"#A80036\" points=\"61.9,217.4,63.517,209.0104,57.6018,210.0159,61.9,217.4\" style=\"stroke: #A80036; stroke-width: 1.0;\"/><text fill=\"#000000\" font-family=\"sans-serif\" font-size=\"13\" lengthAdjust=\"spacingAndGlyphs\" textLength=\"64\" x=\"65\" y=\"180.0669\">«depend»</text></a><!--MD5=[bfa3c8b0d15052fdf50ae9310b491027]\n",
       "link E8 to E7--><a href=\"psysml:a975d936-bb91-4b85-9c47-7632192c23c3\" target=\"_top\" title=\"psysml:a975d936-bb91-4b85-9c47-7632192c23c3\" xlink:actuate=\"onRequest\" xlink:href=\"psysml:a975d936-bb91-4b85-9c47-7632192c23c3\" xlink:show=\"new\" xlink:title=\"psysml:a975d936-bb91-4b85-9c47-7632192c23c3\" xlink:type=\"simple\"><path d=\"M129.28,133.5 C138.17,154.57 151.64,186.5 161.47,209.81 \" fill=\"none\" id=\"E8-&gt;E7\" style=\"stroke: #A80036; stroke-width: 1.0; stroke-dasharray: 7.0,7.0;\"/><polygon fill=\"#A80036\" points=\"164.66,217.35,164.3241,208.8126,158.7933,211.1385,164.66,217.35\" style=\"stroke: #A80036; stroke-width: 1.0;\"/><text fill=\"#000000\" font-family=\"sans-serif\" font-size=\"13\" lengthAdjust=\"spacingAndGlyphs\" textLength=\"64\" x=\"151\" y=\"180.0669\">«depend»</text></a><!--MD5=[dc94b5db9987564daf6170d21c96b800]\n",
       "@startuml\r\n",
       "skinparam wrapWidth 300\r\n",
       "hide circle\r\n",
       "\r\n",
       "package \"DependencyTest\" as E1  [[psysml:430f5b70-8499-4207-b78a-0a401723d15c ]]  {\r\n",
       "package \"System\" as E2  [[psysml:ef80acf8-3bbf-43fc-abea-40efc458e2ed ]]  {\r\n",
       "package \"Application Layer\" as E3  [[psysml:cb2f8149-aa3e-4482-91f3-ed1f7789b4f6 ]]  {\r\n",
       "}\r\n",
       "package \"Service Layer\" as E4  [[psysml:c90fac5e-4b06-46df-8524-0f31fe17b625 ]]  {\r\n",
       "}\r\n",
       "package \"Data Layer\" as E5  [[psysml:5945f028-85af-4284-8707-6581cfe8107d ]]  {\r\n",
       "}\r\n",
       "}\r\n",
       "comp usage \"x\" as E6  <<(T,blue)attribute>> [[psysml:f9adf18b-8dbf-4490-b33d-e9e2045e17b2 ]] {\r\n",
       "}\r\n",
       "comp usage \"y\" as E7  <<(T,blue)attribute>> [[psysml:b3547f0d-a84a-43aa-aeb1-8f3416005562 ]] {\r\n",
       "}\r\n",
       "comp usage \"z\" as E8  <<(T,blue)attribute>> [[psysml:06d3944d-d8a9-41b6-a7dc-ea1875e321b3 ]] {\r\n",
       "}\r\n",
       "E3 ..>> E4 [[psysml:71e7e357-685b-41cb-afa1-92571af689f5 ]] : <<depend>>\r\n",
       "E4 ..>> E5 [[psysml:1107382a-37f6-4d52-8c17-003f9fc0676e ]] : <<depend>>\r\n",
       "E8 ..>> E6 [[psysml:a975d936-bb91-4b85-9c47-7632192c23c3 ]] : <<depend>>\r\n",
       "E8 ..>> E7 [[psysml:a975d936-bb91-4b85-9c47-7632192c23c3 ]] : <<depend>>\r\n",
       "}\r\n",
       "@enduml\r\n",
       "\n",
       "PlantUML version 1.2020.13(Sat Jun 13 12:26:38 UTC 2020)\n",
       "(EPL source distribution)\n",
       "Java Runtime: OpenJDK Runtime Environment\n",
       "JVM: OpenJDK 64-Bit Server VM\n",
       "Default Encoding: UTF-8\n",
       "Language: en\n",
       "Country: null\n",
       "--></g></svg>"
      ]
     },
     "execution_count": 29,
     "metadata": {},
     "output_type": "execute_result"
    }
   ],
   "source": [
    "%viz --style=\"STDCOLOR\" --view=\"MIXED\" \"DependencyTest\""
   ]
  },
  {
   "cell_type": "code",
   "execution_count": 30,
   "id": "familiar-motion",
   "metadata": {
    "execution": {
     "iopub.execute_input": "2021-03-25T13:51:44.073599Z",
     "iopub.status.busy": "2021-03-25T13:51:44.073088Z",
     "iopub.status.idle": "2021-03-25T13:51:44.194350Z",
     "shell.execute_reply": "2021-03-25T13:51:44.194732Z"
    }
   },
   "outputs": [
    {
     "data": {
      "image/svg+xml": [
       "<?xml version=\"1.0\" encoding=\"UTF-8\" standalone=\"no\"?><svg xmlns=\"http://www.w3.org/2000/svg\" xmlns:xlink=\"http://www.w3.org/1999/xlink\" contentScriptType=\"application/ecmascript\" contentStyleType=\"text/css\" height=\"449px\" preserveAspectRatio=\"none\" style=\"width:510px;height:449px;\" version=\"1.1\" viewBox=\"0 0 510 449\" width=\"510px\" zoomAndPan=\"magnify\"><defs><filter height=\"300%\" id=\"f1d7owfem8rvnn\" width=\"300%\" x=\"-1\" y=\"-1\"><feGaussianBlur result=\"blurOut\" stdDeviation=\"2.0\"/><feColorMatrix in=\"blurOut\" result=\"blurOut2\" type=\"matrix\" values=\"0 0 0 0 0 0 0 0 0 0 0 0 0 0 0 0 0 0 .4 0\"/><feOffset dx=\"4.0\" dy=\"4.0\" in=\"blurOut2\" result=\"blurOut3\"/><feBlend in=\"SourceGraphic\" in2=\"blurOut3\" mode=\"normal\"/></filter></defs><g><!--MD5=[fbc87193dbaf4d95561dea2c320d4a47]\n",
       "cluster E1--><a href=\"psysml:430f5b70-8499-4207-b78a-0a401723d15c\" target=\"_top\" title=\"psysml:430f5b70-8499-4207-b78a-0a401723d15c\" xlink:actuate=\"onRequest\" xlink:href=\"psysml:430f5b70-8499-4207-b78a-0a401723d15c\" xlink:show=\"new\" xlink:title=\"psysml:430f5b70-8499-4207-b78a-0a401723d15c\" xlink:type=\"simple\"><polygon fill=\"#FFFFFF\" filter=\"url(#f1d7owfem8rvnn)\" points=\"16,6,156,6,163,28.2969,488,28.2969,488,437,16,437,16,6\" style=\"stroke: #000000; stroke-width: 1.5;\"/><line style=\"stroke: #000000; stroke-width: 1.5;\" x1=\"16\" x2=\"163\" y1=\"28.2969\" y2=\"28.2969\"/><text fill=\"#000000\" font-family=\"sans-serif\" font-size=\"14\" font-weight=\"bold\" lengthAdjust=\"spacingAndGlyphs\" textLength=\"134\" x=\"20\" y=\"20.9951\">DependencyTest</text></a><!--MD5=[e4f7fae6ed58524ba242bb0b0d3be6b7]\n",
       "cluster E2--><a href=\"psysml:ef80acf8-3bbf-43fc-abea-40efc458e2ed\" target=\"_top\" title=\"psysml:ef80acf8-3bbf-43fc-abea-40efc458e2ed\" xlink:actuate=\"onRequest\" xlink:href=\"psysml:ef80acf8-3bbf-43fc-abea-40efc458e2ed\" xlink:show=\"new\" xlink:title=\"psysml:ef80acf8-3bbf-43fc-abea-40efc458e2ed\" xlink:type=\"simple\"><polygon fill=\"#FFFFFF\" filter=\"url(#f1d7owfem8rvnn)\" points=\"276,49,340,49,347,71.2969,464,71.2969,464,413,276,413,276,49\" style=\"stroke: #000000; stroke-width: 1.5;\"/><line style=\"stroke: #000000; stroke-width: 1.5;\" x1=\"276\" x2=\"347\" y1=\"71.2969\" y2=\"71.2969\"/><text fill=\"#000000\" font-family=\"sans-serif\" font-size=\"14\" font-weight=\"bold\" lengthAdjust=\"spacingAndGlyphs\" textLength=\"58\" x=\"280\" y=\"63.9951\">System</text></a><!--MD5=[60a26617385b1d2d0262a64233df1f8d]\n",
       "class E6--><a href=\"psysml:f9adf18b-8dbf-4490-b33d-e9e2045e17b2\" target=\"_top\" title=\"psysml:f9adf18b-8dbf-4490-b33d-e9e2045e17b2\" xlink:actuate=\"onRequest\" xlink:href=\"psysml:f9adf18b-8dbf-4490-b33d-e9e2045e17b2\" xlink:show=\"new\" xlink:title=\"psysml:f9adf18b-8dbf-4490-b33d-e9e2045e17b2\" xlink:type=\"simple\"><rect fill=\"#FEFECE\" filter=\"url(#f1d7owfem8rvnn)\" height=\"45.9375\" id=\"E6\" rx=\"10\" ry=\"10\" style=\"stroke: #A80036; stroke-width: 1.5;\" width=\"97\" x=\"31.5\" y=\"217.5\"/><ellipse cx=\"46.5\" cy=\"236.4688\" fill=\"#FFA500\" rx=\"11\" ry=\"11\" style=\"stroke: #A80036; stroke-width: 1.0;\"/><path d=\"M42.375,238.3906 L42.375,230.5781 L44.8281,230.5781 L44.8281,239.0156 Q44.8281,239.9375 45.2969,240.4688 Q45.7813,241 46.6094,241 Q47.4531,241 47.9219,240.4688 Q48.3906,239.9375 48.3906,239.0156 L48.3906,230.5781 L50.8438,230.5781 L50.8438,238.3906 Q50.8438,240.9219 49.8438,242.0625 Q48.8438,243.2031 46.6094,243.2031 Q44.3906,243.2031 43.375,242.0625 Q42.375,240.9219 42.375,238.3906 Z \"/><text fill=\"#000000\" font-family=\"sans-serif\" font-size=\"12\" font-style=\"italic\" lengthAdjust=\"spacingAndGlyphs\" textLength=\"69\" x=\"58.5\" y=\"233.6387\">«attribute»</text><text fill=\"#000000\" font-family=\"sans-serif\" font-size=\"12\" lengthAdjust=\"spacingAndGlyphs\" textLength=\"6\" x=\"90\" y=\"247.6074\">x</text><line style=\"stroke: #A80036; stroke-width: 1.5;\" x1=\"32.5\" x2=\"127.5\" y1=\"255.4375\" y2=\"255.4375\"/></a><!--MD5=[2156ba9850f5573cc1fc38a6a4b2f02b]\n",
       "class E7--><a href=\"psysml:b3547f0d-a84a-43aa-aeb1-8f3416005562\" target=\"_top\" title=\"psysml:b3547f0d-a84a-43aa-aeb1-8f3416005562\" xlink:actuate=\"onRequest\" xlink:href=\"psysml:b3547f0d-a84a-43aa-aeb1-8f3416005562\" xlink:show=\"new\" xlink:title=\"psysml:b3547f0d-a84a-43aa-aeb1-8f3416005562\" xlink:type=\"simple\"><rect fill=\"#FEFECE\" filter=\"url(#f1d7owfem8rvnn)\" height=\"45.9375\" id=\"E7\" rx=\"10\" ry=\"10\" style=\"stroke: #A80036; stroke-width: 1.5;\" width=\"97\" x=\"163.5\" y=\"217.5\"/><ellipse cx=\"178.5\" cy=\"236.4688\" fill=\"#FFA500\" rx=\"11\" ry=\"11\" style=\"stroke: #A80036; stroke-width: 1.0;\"/><path d=\"M174.375,238.3906 L174.375,230.5781 L176.8281,230.5781 L176.8281,239.0156 Q176.8281,239.9375 177.2969,240.4688 Q177.7813,241 178.6094,241 Q179.4531,241 179.9219,240.4688 Q180.3906,239.9375 180.3906,239.0156 L180.3906,230.5781 L182.8438,230.5781 L182.8438,238.3906 Q182.8438,240.9219 181.8438,242.0625 Q180.8438,243.2031 178.6094,243.2031 Q176.3906,243.2031 175.375,242.0625 Q174.375,240.9219 174.375,238.3906 Z \"/><text fill=\"#000000\" font-family=\"sans-serif\" font-size=\"12\" font-style=\"italic\" lengthAdjust=\"spacingAndGlyphs\" textLength=\"69\" x=\"190.5\" y=\"233.6387\">«attribute»</text><text fill=\"#000000\" font-family=\"sans-serif\" font-size=\"12\" lengthAdjust=\"spacingAndGlyphs\" textLength=\"6\" x=\"222\" y=\"247.6074\">y</text><line style=\"stroke: #A80036; stroke-width: 1.5;\" x1=\"164.5\" x2=\"259.5\" y1=\"255.4375\" y2=\"255.4375\"/></a><!--MD5=[b9389687b975829384b498ac4b7476b2]\n",
       "class E8--><a href=\"psysml:06d3944d-d8a9-41b6-a7dc-ea1875e321b3\" target=\"_top\" title=\"psysml:06d3944d-d8a9-41b6-a7dc-ea1875e321b3\" xlink:actuate=\"onRequest\" xlink:href=\"psysml:06d3944d-d8a9-41b6-a7dc-ea1875e321b3\" xlink:show=\"new\" xlink:title=\"psysml:06d3944d-d8a9-41b6-a7dc-ea1875e321b3\" xlink:type=\"simple\"><rect fill=\"#FEFECE\" filter=\"url(#f1d7owfem8rvnn)\" height=\"45.9375\" id=\"E8\" rx=\"10\" ry=\"10\" style=\"stroke: #A80036; stroke-width: 1.5;\" width=\"97\" x=\"84.5\" y=\"87.5\"/><ellipse cx=\"99.5\" cy=\"106.4688\" fill=\"#FFA500\" rx=\"11\" ry=\"11\" style=\"stroke: #A80036; stroke-width: 1.0;\"/><path d=\"M95.375,108.3906 L95.375,100.5781 L97.8281,100.5781 L97.8281,109.0156 Q97.8281,109.9375 98.2969,110.4688 Q98.7813,111 99.6094,111 Q100.4531,111 100.9219,110.4688 Q101.3906,109.9375 101.3906,109.0156 L101.3906,100.5781 L103.8438,100.5781 L103.8438,108.3906 Q103.8438,110.9219 102.8438,112.0625 Q101.8438,113.2031 99.6094,113.2031 Q97.3906,113.2031 96.375,112.0625 Q95.375,110.9219 95.375,108.3906 Z \"/><text fill=\"#000000\" font-family=\"sans-serif\" font-size=\"12\" font-style=\"italic\" lengthAdjust=\"spacingAndGlyphs\" textLength=\"69\" x=\"111.5\" y=\"103.6387\">«attribute»</text><text fill=\"#000000\" font-family=\"sans-serif\" font-size=\"12\" lengthAdjust=\"spacingAndGlyphs\" textLength=\"5\" x=\"143.5\" y=\"117.6074\">z</text><line style=\"stroke: #A80036; stroke-width: 1.5;\" x1=\"85.5\" x2=\"180.5\" y1=\"125.4375\" y2=\"125.4375\"/></a><a href=\"psysml:cb2f8149-aa3e-4482-91f3-ed1f7789b4f6\" target=\"_top\" title=\"psysml:cb2f8149-aa3e-4482-91f3-ed1f7789b4f6\" xlink:actuate=\"onRequest\" xlink:href=\"psysml:cb2f8149-aa3e-4482-91f3-ed1f7789b4f6\" xlink:show=\"new\" xlink:title=\"psysml:cb2f8149-aa3e-4482-91f3-ed1f7789b4f6\" xlink:type=\"simple\"><polygon fill=\"#FFFFFF\" filter=\"url(#f1d7owfem8rvnn)\" points=\"292,84,434,84,441,106.2969,448,106.2969,448,136.5938,292,136.5938,292,84\" style=\"stroke: #000000; stroke-width: 1.5;\"/><line style=\"stroke: #000000; stroke-width: 1.5;\" x1=\"292\" x2=\"441\" y1=\"106.2969\" y2=\"106.2969\"/><text fill=\"#000000\" font-family=\"sans-serif\" font-size=\"14\" font-weight=\"bold\" lengthAdjust=\"spacingAndGlyphs\" textLength=\"136\" x=\"296\" y=\"98.9951\">Application Layer</text></a><a href=\"psysml:c90fac5e-4b06-46df-8524-0f31fe17b625\" target=\"_top\" title=\"psysml:c90fac5e-4b06-46df-8524-0f31fe17b625\" xlink:actuate=\"onRequest\" xlink:href=\"psysml:c90fac5e-4b06-46df-8524-0f31fe17b625\" xlink:show=\"new\" xlink:title=\"psysml:c90fac5e-4b06-46df-8524-0f31fe17b625\" xlink:type=\"simple\"><polygon fill=\"#FFFFFF\" filter=\"url(#f1d7owfem8rvnn)\" points=\"306,214,420,214,427,236.2969,434,236.2969,434,266.5938,306,266.5938,306,214\" style=\"stroke: #000000; stroke-width: 1.5;\"/><line style=\"stroke: #000000; stroke-width: 1.5;\" x1=\"306\" x2=\"427\" y1=\"236.2969\" y2=\"236.2969\"/><text fill=\"#000000\" font-family=\"sans-serif\" font-size=\"14\" font-weight=\"bold\" lengthAdjust=\"spacingAndGlyphs\" textLength=\"108\" x=\"310\" y=\"228.9951\">Service Layer</text></a><a href=\"psysml:5945f028-85af-4284-8707-6581cfe8107d\" target=\"_top\" title=\"psysml:5945f028-85af-4284-8707-6581cfe8107d\" xlink:actuate=\"onRequest\" xlink:href=\"psysml:5945f028-85af-4284-8707-6581cfe8107d\" xlink:show=\"new\" xlink:title=\"psysml:5945f028-85af-4284-8707-6581cfe8107d\" xlink:type=\"simple\"><polygon fill=\"#FFFFFF\" filter=\"url(#f1d7owfem8rvnn)\" points=\"318,344,408,344,415,366.2969,422,366.2969,422,396.5938,318,396.5938,318,344\" style=\"stroke: #000000; stroke-width: 1.5;\"/><line style=\"stroke: #000000; stroke-width: 1.5;\" x1=\"318\" x2=\"415\" y1=\"366.2969\" y2=\"366.2969\"/><text fill=\"#000000\" font-family=\"sans-serif\" font-size=\"14\" font-weight=\"bold\" lengthAdjust=\"spacingAndGlyphs\" textLength=\"84\" x=\"322\" y=\"358.9951\">Data Layer</text></a><!--MD5=[af87c684e3b0d8be13c1a698a818ef1e]\n",
       "link E3 to E4--><a href=\"psysml:71e7e357-685b-41cb-afa1-92571af689f5\" target=\"_top\" title=\"psysml:71e7e357-685b-41cb-afa1-92571af689f5\" xlink:actuate=\"onRequest\" xlink:href=\"psysml:71e7e357-685b-41cb-afa1-92571af689f5\" xlink:show=\"new\" xlink:title=\"psysml:71e7e357-685b-41cb-afa1-92571af689f5\" xlink:type=\"simple\"><path d=\"M370,137.1 C370,156.8 370,184.22 370,205.73 \" fill=\"none\" id=\"E3-&gt;E4\" style=\"stroke: #A80036; stroke-width: 1.0; stroke-dasharray: 7.0,7.0;\"/><polygon fill=\"#A80036\" points=\"370,213.95,373,205.95,367,205.95,370,213.95\" style=\"stroke: #A80036; stroke-width: 1.0;\"/><text fill=\"#000000\" font-family=\"sans-serif\" font-size=\"13\" lengthAdjust=\"spacingAndGlyphs\" textLength=\"64\" x=\"371\" y=\"180.0669\">«depend»</text></a><!--MD5=[1b7591eae5389033d8d09a9d6721a717]\n",
       "link E4 to E5--><a href=\"psysml:1107382a-37f6-4d52-8c17-003f9fc0676e\" target=\"_top\" title=\"psysml:1107382a-37f6-4d52-8c17-003f9fc0676e\" xlink:actuate=\"onRequest\" xlink:href=\"psysml:1107382a-37f6-4d52-8c17-003f9fc0676e\" xlink:show=\"new\" xlink:title=\"psysml:1107382a-37f6-4d52-8c17-003f9fc0676e\" xlink:type=\"simple\"><path d=\"M370,267.1 C370,286.8 370,314.22 370,335.73 \" fill=\"none\" id=\"E4-&gt;E5\" style=\"stroke: #A80036; stroke-width: 1.0; stroke-dasharray: 7.0,7.0;\"/><polygon fill=\"#A80036\" points=\"370,343.95,373,335.95,367,335.95,370,343.95\" style=\"stroke: #A80036; stroke-width: 1.0;\"/><text fill=\"#000000\" font-family=\"sans-serif\" font-size=\"13\" lengthAdjust=\"spacingAndGlyphs\" textLength=\"64\" x=\"371\" y=\"310.0669\">«depend»</text></a><!--MD5=[c5e8897d989ce984f93528998a7150fe]\n",
       "link E8 to E6--><a href=\"psysml:a975d936-bb91-4b85-9c47-7632192c23c3\" target=\"_top\" title=\"psysml:a975d936-bb91-4b85-9c47-7632192c23c3\" xlink:actuate=\"onRequest\" xlink:href=\"psysml:a975d936-bb91-4b85-9c47-7632192c23c3\" xlink:show=\"new\" xlink:title=\"psysml:a975d936-bb91-4b85-9c47-7632192c23c3\" xlink:type=\"simple\"><path d=\"M106.44,133.76 C97.3,143.01 88.09,154.51 83,167 C77.6,180.23 76.4,195.98 76.73,209.41 \" fill=\"none\" id=\"E8-&gt;E6\" style=\"stroke: #A80036; stroke-width: 1.0; stroke-dasharray: 7.0,7.0;\"/><polygon fill=\"#A80036\" points=\"77.12,217.43,79.7306,209.2946,73.7375,209.584,77.12,217.43\" style=\"stroke: #A80036; stroke-width: 1.0;\"/><text fill=\"#000000\" font-family=\"sans-serif\" font-size=\"13\" lengthAdjust=\"spacingAndGlyphs\" textLength=\"64\" x=\"84\" y=\"180.0669\">«depend»</text></a><!--MD5=[bfa3c8b0d15052fdf50ae9310b491027]\n",
       "link E8 to E7--><a href=\"psysml:a975d936-bb91-4b85-9c47-7632192c23c3\" target=\"_top\" title=\"psysml:a975d936-bb91-4b85-9c47-7632192c23c3\" xlink:actuate=\"onRequest\" xlink:href=\"psysml:a975d936-bb91-4b85-9c47-7632192c23c3\" xlink:show=\"new\" xlink:title=\"psysml:a975d936-bb91-4b85-9c47-7632192c23c3\" xlink:type=\"simple\"><path d=\"M146.58,133.5 C159.69,154.75 179.63,187.05 194.05,210.41 \" fill=\"none\" id=\"E8-&gt;E7\" style=\"stroke: #A80036; stroke-width: 1.0; stroke-dasharray: 7.0,7.0;\"/><polygon fill=\"#A80036\" points=\"198.33,217.35,196.6785,208.9671,191.5737,212.1201,198.33,217.35\" style=\"stroke: #A80036; stroke-width: 1.0;\"/><text fill=\"#000000\" font-family=\"sans-serif\" font-size=\"13\" lengthAdjust=\"spacingAndGlyphs\" textLength=\"64\" x=\"178\" y=\"180.0669\">«depend»</text></a><!--MD5=[550f7b8ee8cb61989fccc8dc6c004f6d]\n",
       "@startuml\r\n",
       " \r\n",
       "package \"DependencyTest\" as E1  [[psysml:430f5b70-8499-4207-b78a-0a401723d15c ]]  {\r\n",
       "package \"System\" as E2  [[psysml:ef80acf8-3bbf-43fc-abea-40efc458e2ed ]]  {\r\n",
       "package \"Application Layer\" as E3  [[psysml:cb2f8149-aa3e-4482-91f3-ed1f7789b4f6 ]]  {\r\n",
       "}\r\n",
       "package \"Service Layer\" as E4  [[psysml:c90fac5e-4b06-46df-8524-0f31fe17b625 ]]  {\r\n",
       "}\r\n",
       "package \"Data Layer\" as E5  [[psysml:5945f028-85af-4284-8707-6581cfe8107d ]]  {\r\n",
       "}\r\n",
       "}\r\n",
       "comp usage \"x\" as E6  <<(U,orange)attribute>> [[psysml:f9adf18b-8dbf-4490-b33d-e9e2045e17b2 ]] {\r\n",
       "}\r\n",
       "comp usage \"y\" as E7  <<(U,orange)attribute>> [[psysml:b3547f0d-a84a-43aa-aeb1-8f3416005562 ]] {\r\n",
       "}\r\n",
       "comp usage \"z\" as E8  <<(U,orange)attribute>> [[psysml:06d3944d-d8a9-41b6-a7dc-ea1875e321b3 ]] {\r\n",
       "}\r\n",
       "E3 ..>> E4 [[psysml:71e7e357-685b-41cb-afa1-92571af689f5 ]] : <<depend>>\r\n",
       "E4 ..>> E5 [[psysml:1107382a-37f6-4d52-8c17-003f9fc0676e ]] : <<depend>>\r\n",
       "E8 ..>> E6 [[psysml:a975d936-bb91-4b85-9c47-7632192c23c3 ]] : <<depend>>\r\n",
       "E8 ..>> E7 [[psysml:a975d936-bb91-4b85-9c47-7632192c23c3 ]] : <<depend>>\r\n",
       "}\r\n",
       "@enduml\r\n",
       "\n",
       "PlantUML version 1.2020.13(Sat Jun 13 12:26:38 UTC 2020)\n",
       "(EPL source distribution)\n",
       "Java Runtime: OpenJDK Runtime Environment\n",
       "JVM: OpenJDK 64-Bit Server VM\n",
       "Default Encoding: UTF-8\n",
       "Language: en\n",
       "Country: null\n",
       "--></g></svg>"
      ]
     },
     "execution_count": 30,
     "metadata": {},
     "output_type": "execute_result"
    }
   ],
   "source": [
    "%viz --style=\"PLANTUML\" --view=\"Default\" \"DependencyTest\""
   ]
  },
  {
   "cell_type": "code",
   "execution_count": 31,
   "id": "electronic-buddy",
   "metadata": {
    "execution": {
     "iopub.execute_input": "2021-03-25T13:51:44.245500Z",
     "iopub.status.busy": "2021-03-25T13:51:44.244909Z",
     "iopub.status.idle": "2021-03-25T13:51:44.339443Z",
     "shell.execute_reply": "2021-03-25T13:51:44.337774Z"
    }
   },
   "outputs": [
    {
     "data": {
      "image/svg+xml": [
       "<?xml version=\"1.0\" encoding=\"UTF-8\" standalone=\"no\"?><svg xmlns=\"http://www.w3.org/2000/svg\" xmlns:xlink=\"http://www.w3.org/1999/xlink\" contentScriptType=\"application/ecmascript\" contentStyleType=\"text/css\" height=\"449px\" preserveAspectRatio=\"none\" style=\"width:510px;height:449px;\" version=\"1.1\" viewBox=\"0 0 510 449\" width=\"510px\" zoomAndPan=\"magnify\"><defs><filter height=\"300%\" id=\"f1d7owfem8rvnn\" width=\"300%\" x=\"-1\" y=\"-1\"><feGaussianBlur result=\"blurOut\" stdDeviation=\"2.0\"/><feColorMatrix in=\"blurOut\" result=\"blurOut2\" type=\"matrix\" values=\"0 0 0 0 0 0 0 0 0 0 0 0 0 0 0 0 0 0 .4 0\"/><feOffset dx=\"4.0\" dy=\"4.0\" in=\"blurOut2\" result=\"blurOut3\"/><feBlend in=\"SourceGraphic\" in2=\"blurOut3\" mode=\"normal\"/></filter></defs><g><!--MD5=[fbc87193dbaf4d95561dea2c320d4a47]\n",
       "cluster E1--><a href=\"psysml:430f5b70-8499-4207-b78a-0a401723d15c\" target=\"_top\" title=\"psysml:430f5b70-8499-4207-b78a-0a401723d15c\" xlink:actuate=\"onRequest\" xlink:href=\"psysml:430f5b70-8499-4207-b78a-0a401723d15c\" xlink:show=\"new\" xlink:title=\"psysml:430f5b70-8499-4207-b78a-0a401723d15c\" xlink:type=\"simple\"><polygon fill=\"#FFFFFF\" filter=\"url(#f1d7owfem8rvnn)\" points=\"16,6,156,6,163,28.2969,488,28.2969,488,437,16,437,16,6\" style=\"stroke: #000000; stroke-width: 1.5;\"/><line style=\"stroke: #000000; stroke-width: 1.5;\" x1=\"16\" x2=\"163\" y1=\"28.2969\" y2=\"28.2969\"/><text fill=\"#000000\" font-family=\"sans-serif\" font-size=\"14\" font-weight=\"bold\" lengthAdjust=\"spacingAndGlyphs\" textLength=\"134\" x=\"20\" y=\"20.9951\">DependencyTest</text></a><!--MD5=[e4f7fae6ed58524ba242bb0b0d3be6b7]\n",
       "cluster E2--><a href=\"psysml:ef80acf8-3bbf-43fc-abea-40efc458e2ed\" target=\"_top\" title=\"psysml:ef80acf8-3bbf-43fc-abea-40efc458e2ed\" xlink:actuate=\"onRequest\" xlink:href=\"psysml:ef80acf8-3bbf-43fc-abea-40efc458e2ed\" xlink:show=\"new\" xlink:title=\"psysml:ef80acf8-3bbf-43fc-abea-40efc458e2ed\" xlink:type=\"simple\"><polygon fill=\"#FFFFFF\" filter=\"url(#f1d7owfem8rvnn)\" points=\"276,49,340,49,347,71.2969,464,71.2969,464,413,276,413,276,49\" style=\"stroke: #000000; stroke-width: 1.5;\"/><line style=\"stroke: #000000; stroke-width: 1.5;\" x1=\"276\" x2=\"347\" y1=\"71.2969\" y2=\"71.2969\"/><text fill=\"#000000\" font-family=\"sans-serif\" font-size=\"14\" font-weight=\"bold\" lengthAdjust=\"spacingAndGlyphs\" textLength=\"58\" x=\"280\" y=\"63.9951\">System</text></a><!--MD5=[60a26617385b1d2d0262a64233df1f8d]\n",
       "class E6--><a href=\"psysml:f9adf18b-8dbf-4490-b33d-e9e2045e17b2\" target=\"_top\" title=\"psysml:f9adf18b-8dbf-4490-b33d-e9e2045e17b2\" xlink:actuate=\"onRequest\" xlink:href=\"psysml:f9adf18b-8dbf-4490-b33d-e9e2045e17b2\" xlink:show=\"new\" xlink:title=\"psysml:f9adf18b-8dbf-4490-b33d-e9e2045e17b2\" xlink:type=\"simple\"><rect fill=\"#FEFECE\" filter=\"url(#f1d7owfem8rvnn)\" height=\"45.9375\" id=\"E6\" rx=\"10\" ry=\"10\" style=\"stroke: #A80036; stroke-width: 1.5;\" width=\"97\" x=\"31.5\" y=\"217.5\"/><ellipse cx=\"46.5\" cy=\"236.4688\" fill=\"#FFA500\" rx=\"11\" ry=\"11\" style=\"stroke: #A80036; stroke-width: 1.0;\"/><path d=\"M42.375,238.3906 L42.375,230.5781 L44.8281,230.5781 L44.8281,239.0156 Q44.8281,239.9375 45.2969,240.4688 Q45.7813,241 46.6094,241 Q47.4531,241 47.9219,240.4688 Q48.3906,239.9375 48.3906,239.0156 L48.3906,230.5781 L50.8438,230.5781 L50.8438,238.3906 Q50.8438,240.9219 49.8438,242.0625 Q48.8438,243.2031 46.6094,243.2031 Q44.3906,243.2031 43.375,242.0625 Q42.375,240.9219 42.375,238.3906 Z \"/><text fill=\"#000000\" font-family=\"sans-serif\" font-size=\"12\" font-style=\"italic\" lengthAdjust=\"spacingAndGlyphs\" textLength=\"69\" x=\"58.5\" y=\"233.6387\">«attribute»</text><text fill=\"#000000\" font-family=\"sans-serif\" font-size=\"12\" lengthAdjust=\"spacingAndGlyphs\" textLength=\"6\" x=\"90\" y=\"247.6074\">x</text><line style=\"stroke: #A80036; stroke-width: 1.5;\" x1=\"32.5\" x2=\"127.5\" y1=\"255.4375\" y2=\"255.4375\"/></a><!--MD5=[2156ba9850f5573cc1fc38a6a4b2f02b]\n",
       "class E7--><a href=\"psysml:b3547f0d-a84a-43aa-aeb1-8f3416005562\" target=\"_top\" title=\"psysml:b3547f0d-a84a-43aa-aeb1-8f3416005562\" xlink:actuate=\"onRequest\" xlink:href=\"psysml:b3547f0d-a84a-43aa-aeb1-8f3416005562\" xlink:show=\"new\" xlink:title=\"psysml:b3547f0d-a84a-43aa-aeb1-8f3416005562\" xlink:type=\"simple\"><rect fill=\"#FEFECE\" filter=\"url(#f1d7owfem8rvnn)\" height=\"45.9375\" id=\"E7\" rx=\"10\" ry=\"10\" style=\"stroke: #A80036; stroke-width: 1.5;\" width=\"97\" x=\"163.5\" y=\"217.5\"/><ellipse cx=\"178.5\" cy=\"236.4688\" fill=\"#FFA500\" rx=\"11\" ry=\"11\" style=\"stroke: #A80036; stroke-width: 1.0;\"/><path d=\"M174.375,238.3906 L174.375,230.5781 L176.8281,230.5781 L176.8281,239.0156 Q176.8281,239.9375 177.2969,240.4688 Q177.7813,241 178.6094,241 Q179.4531,241 179.9219,240.4688 Q180.3906,239.9375 180.3906,239.0156 L180.3906,230.5781 L182.8438,230.5781 L182.8438,238.3906 Q182.8438,240.9219 181.8438,242.0625 Q180.8438,243.2031 178.6094,243.2031 Q176.3906,243.2031 175.375,242.0625 Q174.375,240.9219 174.375,238.3906 Z \"/><text fill=\"#000000\" font-family=\"sans-serif\" font-size=\"12\" font-style=\"italic\" lengthAdjust=\"spacingAndGlyphs\" textLength=\"69\" x=\"190.5\" y=\"233.6387\">«attribute»</text><text fill=\"#000000\" font-family=\"sans-serif\" font-size=\"12\" lengthAdjust=\"spacingAndGlyphs\" textLength=\"6\" x=\"222\" y=\"247.6074\">y</text><line style=\"stroke: #A80036; stroke-width: 1.5;\" x1=\"164.5\" x2=\"259.5\" y1=\"255.4375\" y2=\"255.4375\"/></a><!--MD5=[b9389687b975829384b498ac4b7476b2]\n",
       "class E8--><a href=\"psysml:06d3944d-d8a9-41b6-a7dc-ea1875e321b3\" target=\"_top\" title=\"psysml:06d3944d-d8a9-41b6-a7dc-ea1875e321b3\" xlink:actuate=\"onRequest\" xlink:href=\"psysml:06d3944d-d8a9-41b6-a7dc-ea1875e321b3\" xlink:show=\"new\" xlink:title=\"psysml:06d3944d-d8a9-41b6-a7dc-ea1875e321b3\" xlink:type=\"simple\"><rect fill=\"#FEFECE\" filter=\"url(#f1d7owfem8rvnn)\" height=\"45.9375\" id=\"E8\" rx=\"10\" ry=\"10\" style=\"stroke: #A80036; stroke-width: 1.5;\" width=\"97\" x=\"84.5\" y=\"87.5\"/><ellipse cx=\"99.5\" cy=\"106.4688\" fill=\"#FFA500\" rx=\"11\" ry=\"11\" style=\"stroke: #A80036; stroke-width: 1.0;\"/><path d=\"M95.375,108.3906 L95.375,100.5781 L97.8281,100.5781 L97.8281,109.0156 Q97.8281,109.9375 98.2969,110.4688 Q98.7813,111 99.6094,111 Q100.4531,111 100.9219,110.4688 Q101.3906,109.9375 101.3906,109.0156 L101.3906,100.5781 L103.8438,100.5781 L103.8438,108.3906 Q103.8438,110.9219 102.8438,112.0625 Q101.8438,113.2031 99.6094,113.2031 Q97.3906,113.2031 96.375,112.0625 Q95.375,110.9219 95.375,108.3906 Z \"/><text fill=\"#000000\" font-family=\"sans-serif\" font-size=\"12\" font-style=\"italic\" lengthAdjust=\"spacingAndGlyphs\" textLength=\"69\" x=\"111.5\" y=\"103.6387\">«attribute»</text><text fill=\"#000000\" font-family=\"sans-serif\" font-size=\"12\" lengthAdjust=\"spacingAndGlyphs\" textLength=\"5\" x=\"143.5\" y=\"117.6074\">z</text><line style=\"stroke: #A80036; stroke-width: 1.5;\" x1=\"85.5\" x2=\"180.5\" y1=\"125.4375\" y2=\"125.4375\"/></a><a href=\"psysml:cb2f8149-aa3e-4482-91f3-ed1f7789b4f6\" target=\"_top\" title=\"psysml:cb2f8149-aa3e-4482-91f3-ed1f7789b4f6\" xlink:actuate=\"onRequest\" xlink:href=\"psysml:cb2f8149-aa3e-4482-91f3-ed1f7789b4f6\" xlink:show=\"new\" xlink:title=\"psysml:cb2f8149-aa3e-4482-91f3-ed1f7789b4f6\" xlink:type=\"simple\"><polygon fill=\"#FFFFFF\" filter=\"url(#f1d7owfem8rvnn)\" points=\"292,84,434,84,441,106.2969,448,106.2969,448,136.5938,292,136.5938,292,84\" style=\"stroke: #000000; stroke-width: 1.5;\"/><line style=\"stroke: #000000; stroke-width: 1.5;\" x1=\"292\" x2=\"441\" y1=\"106.2969\" y2=\"106.2969\"/><text fill=\"#000000\" font-family=\"sans-serif\" font-size=\"14\" font-weight=\"bold\" lengthAdjust=\"spacingAndGlyphs\" textLength=\"136\" x=\"296\" y=\"98.9951\">Application Layer</text></a><a href=\"psysml:c90fac5e-4b06-46df-8524-0f31fe17b625\" target=\"_top\" title=\"psysml:c90fac5e-4b06-46df-8524-0f31fe17b625\" xlink:actuate=\"onRequest\" xlink:href=\"psysml:c90fac5e-4b06-46df-8524-0f31fe17b625\" xlink:show=\"new\" xlink:title=\"psysml:c90fac5e-4b06-46df-8524-0f31fe17b625\" xlink:type=\"simple\"><polygon fill=\"#FFFFFF\" filter=\"url(#f1d7owfem8rvnn)\" points=\"306,214,420,214,427,236.2969,434,236.2969,434,266.5938,306,266.5938,306,214\" style=\"stroke: #000000; stroke-width: 1.5;\"/><line style=\"stroke: #000000; stroke-width: 1.5;\" x1=\"306\" x2=\"427\" y1=\"236.2969\" y2=\"236.2969\"/><text fill=\"#000000\" font-family=\"sans-serif\" font-size=\"14\" font-weight=\"bold\" lengthAdjust=\"spacingAndGlyphs\" textLength=\"108\" x=\"310\" y=\"228.9951\">Service Layer</text></a><a href=\"psysml:5945f028-85af-4284-8707-6581cfe8107d\" target=\"_top\" title=\"psysml:5945f028-85af-4284-8707-6581cfe8107d\" xlink:actuate=\"onRequest\" xlink:href=\"psysml:5945f028-85af-4284-8707-6581cfe8107d\" xlink:show=\"new\" xlink:title=\"psysml:5945f028-85af-4284-8707-6581cfe8107d\" xlink:type=\"simple\"><polygon fill=\"#FFFFFF\" filter=\"url(#f1d7owfem8rvnn)\" points=\"318,344,408,344,415,366.2969,422,366.2969,422,396.5938,318,396.5938,318,344\" style=\"stroke: #000000; stroke-width: 1.5;\"/><line style=\"stroke: #000000; stroke-width: 1.5;\" x1=\"318\" x2=\"415\" y1=\"366.2969\" y2=\"366.2969\"/><text fill=\"#000000\" font-family=\"sans-serif\" font-size=\"14\" font-weight=\"bold\" lengthAdjust=\"spacingAndGlyphs\" textLength=\"84\" x=\"322\" y=\"358.9951\">Data Layer</text></a><!--MD5=[af87c684e3b0d8be13c1a698a818ef1e]\n",
       "link E3 to E4--><a href=\"psysml:71e7e357-685b-41cb-afa1-92571af689f5\" target=\"_top\" title=\"psysml:71e7e357-685b-41cb-afa1-92571af689f5\" xlink:actuate=\"onRequest\" xlink:href=\"psysml:71e7e357-685b-41cb-afa1-92571af689f5\" xlink:show=\"new\" xlink:title=\"psysml:71e7e357-685b-41cb-afa1-92571af689f5\" xlink:type=\"simple\"><path d=\"M370,137.1 C370,156.8 370,184.22 370,205.73 \" fill=\"none\" id=\"E3-&gt;E4\" style=\"stroke: #A80036; stroke-width: 1.0; stroke-dasharray: 7.0,7.0;\"/><polygon fill=\"#A80036\" points=\"370,213.95,373,205.95,367,205.95,370,213.95\" style=\"stroke: #A80036; stroke-width: 1.0;\"/><text fill=\"#000000\" font-family=\"sans-serif\" font-size=\"13\" lengthAdjust=\"spacingAndGlyphs\" textLength=\"64\" x=\"371\" y=\"180.0669\">«depend»</text></a><!--MD5=[1b7591eae5389033d8d09a9d6721a717]\n",
       "link E4 to E5--><a href=\"psysml:1107382a-37f6-4d52-8c17-003f9fc0676e\" target=\"_top\" title=\"psysml:1107382a-37f6-4d52-8c17-003f9fc0676e\" xlink:actuate=\"onRequest\" xlink:href=\"psysml:1107382a-37f6-4d52-8c17-003f9fc0676e\" xlink:show=\"new\" xlink:title=\"psysml:1107382a-37f6-4d52-8c17-003f9fc0676e\" xlink:type=\"simple\"><path d=\"M370,267.1 C370,286.8 370,314.22 370,335.73 \" fill=\"none\" id=\"E4-&gt;E5\" style=\"stroke: #A80036; stroke-width: 1.0; stroke-dasharray: 7.0,7.0;\"/><polygon fill=\"#A80036\" points=\"370,343.95,373,335.95,367,335.95,370,343.95\" style=\"stroke: #A80036; stroke-width: 1.0;\"/><text fill=\"#000000\" font-family=\"sans-serif\" font-size=\"13\" lengthAdjust=\"spacingAndGlyphs\" textLength=\"64\" x=\"371\" y=\"310.0669\">«depend»</text></a><!--MD5=[c5e8897d989ce984f93528998a7150fe]\n",
       "link E8 to E6--><a href=\"psysml:a975d936-bb91-4b85-9c47-7632192c23c3\" target=\"_top\" title=\"psysml:a975d936-bb91-4b85-9c47-7632192c23c3\" xlink:actuate=\"onRequest\" xlink:href=\"psysml:a975d936-bb91-4b85-9c47-7632192c23c3\" xlink:show=\"new\" xlink:title=\"psysml:a975d936-bb91-4b85-9c47-7632192c23c3\" xlink:type=\"simple\"><path d=\"M106.44,133.76 C97.3,143.01 88.09,154.51 83,167 C77.6,180.23 76.4,195.98 76.73,209.41 \" fill=\"none\" id=\"E8-&gt;E6\" style=\"stroke: #A80036; stroke-width: 1.0; stroke-dasharray: 7.0,7.0;\"/><polygon fill=\"#A80036\" points=\"77.12,217.43,79.7306,209.2946,73.7375,209.584,77.12,217.43\" style=\"stroke: #A80036; stroke-width: 1.0;\"/><text fill=\"#000000\" font-family=\"sans-serif\" font-size=\"13\" lengthAdjust=\"spacingAndGlyphs\" textLength=\"64\" x=\"84\" y=\"180.0669\">«depend»</text></a><!--MD5=[bfa3c8b0d15052fdf50ae9310b491027]\n",
       "link E8 to E7--><a href=\"psysml:a975d936-bb91-4b85-9c47-7632192c23c3\" target=\"_top\" title=\"psysml:a975d936-bb91-4b85-9c47-7632192c23c3\" xlink:actuate=\"onRequest\" xlink:href=\"psysml:a975d936-bb91-4b85-9c47-7632192c23c3\" xlink:show=\"new\" xlink:title=\"psysml:a975d936-bb91-4b85-9c47-7632192c23c3\" xlink:type=\"simple\"><path d=\"M146.58,133.5 C159.69,154.75 179.63,187.05 194.05,210.41 \" fill=\"none\" id=\"E8-&gt;E7\" style=\"stroke: #A80036; stroke-width: 1.0; stroke-dasharray: 7.0,7.0;\"/><polygon fill=\"#A80036\" points=\"198.33,217.35,196.6785,208.9671,191.5737,212.1201,198.33,217.35\" style=\"stroke: #A80036; stroke-width: 1.0;\"/><text fill=\"#000000\" font-family=\"sans-serif\" font-size=\"13\" lengthAdjust=\"spacingAndGlyphs\" textLength=\"64\" x=\"178\" y=\"180.0669\">«depend»</text></a><!--MD5=[550f7b8ee8cb61989fccc8dc6c004f6d]\n",
       "@startuml\r\n",
       " \r\n",
       "package \"DependencyTest\" as E1  [[psysml:430f5b70-8499-4207-b78a-0a401723d15c ]]  {\r\n",
       "package \"System\" as E2  [[psysml:ef80acf8-3bbf-43fc-abea-40efc458e2ed ]]  {\r\n",
       "package \"Application Layer\" as E3  [[psysml:cb2f8149-aa3e-4482-91f3-ed1f7789b4f6 ]]  {\r\n",
       "}\r\n",
       "package \"Service Layer\" as E4  [[psysml:c90fac5e-4b06-46df-8524-0f31fe17b625 ]]  {\r\n",
       "}\r\n",
       "package \"Data Layer\" as E5  [[psysml:5945f028-85af-4284-8707-6581cfe8107d ]]  {\r\n",
       "}\r\n",
       "}\r\n",
       "comp usage \"x\" as E6  <<(U,orange)attribute>> [[psysml:f9adf18b-8dbf-4490-b33d-e9e2045e17b2 ]] {\r\n",
       "}\r\n",
       "comp usage \"y\" as E7  <<(U,orange)attribute>> [[psysml:b3547f0d-a84a-43aa-aeb1-8f3416005562 ]] {\r\n",
       "}\r\n",
       "comp usage \"z\" as E8  <<(U,orange)attribute>> [[psysml:06d3944d-d8a9-41b6-a7dc-ea1875e321b3 ]] {\r\n",
       "}\r\n",
       "E3 ..>> E4 [[psysml:71e7e357-685b-41cb-afa1-92571af689f5 ]] : <<depend>>\r\n",
       "E4 ..>> E5 [[psysml:1107382a-37f6-4d52-8c17-003f9fc0676e ]] : <<depend>>\r\n",
       "E8 ..>> E6 [[psysml:a975d936-bb91-4b85-9c47-7632192c23c3 ]] : <<depend>>\r\n",
       "E8 ..>> E7 [[psysml:a975d936-bb91-4b85-9c47-7632192c23c3 ]] : <<depend>>\r\n",
       "}\r\n",
       "@enduml\r\n",
       "\n",
       "PlantUML version 1.2020.13(Sat Jun 13 12:26:38 UTC 2020)\n",
       "(EPL source distribution)\n",
       "Java Runtime: OpenJDK Runtime Environment\n",
       "JVM: OpenJDK 64-Bit Server VM\n",
       "Default Encoding: UTF-8\n",
       "Language: en\n",
       "Country: null\n",
       "--></g></svg>"
      ]
     },
     "execution_count": 31,
     "metadata": {},
     "output_type": "execute_result"
    }
   ],
   "source": [
    "%viz --style=\"PLANTUML\" --view=\"Tree\" \"DependencyTest\""
   ]
  },
  {
   "cell_type": "code",
   "execution_count": 32,
   "id": "documentary-keyboard",
   "metadata": {
    "execution": {
     "iopub.execute_input": "2021-03-25T13:51:44.389714Z",
     "iopub.status.busy": "2021-03-25T13:51:44.389136Z",
     "iopub.status.idle": "2021-03-25T13:51:45.282267Z",
     "shell.execute_reply": "2021-03-25T13:51:45.282822Z"
    }
   },
   "outputs": [
    {
     "data": {
      "image/svg+xml": [
       "<?xml version=\"1.0\" encoding=\"UTF-8\" standalone=\"no\"?><svg xmlns=\"http://www.w3.org/2000/svg\" xmlns:xlink=\"http://www.w3.org/1999/xlink\" contentScriptType=\"application/ecmascript\" contentStyleType=\"text/css\" height=\"303px\" preserveAspectRatio=\"none\" style=\"width:603px;height:303px;background:#000000;\" version=\"1.1\" viewBox=\"0 0 603 303\" width=\"603px\" zoomAndPan=\"magnify\"><defs/><g><rect fill=\"#140A12\" height=\"1\" style=\"stroke: #140A12; stroke-width: 1.0;\" width=\"1\" x=\"0\" y=\"0\"/><rect fill=\"#FFFFFF\" height=\"205.5625\" style=\"stroke: #FFFFFF; stroke-width: 1.0;\" width=\"602\" x=\"0\" y=\"0\"/><text fill=\"#000000\" font-family=\"sans-serif\" font-size=\"12\" font-weight=\"bold\" lengthAdjust=\"spacingAndGlyphs\" textLength=\"159\" x=\"5\" y=\"16.1387\">Welcome to PlantUML!</text><text fill=\"#000000\" font-family=\"sans-serif\" font-size=\"12\" lengthAdjust=\"spacingAndGlyphs\" textLength=\"0\" x=\"9\" y=\"30.1074\"/><text fill=\"#000000\" font-family=\"sans-serif\" font-size=\"12\" lengthAdjust=\"spacingAndGlyphs\" textLength=\"293\" x=\"5\" y=\"44.0762\">If you use this software, you accept its license.</text><text fill=\"#000000\" font-family=\"sans-serif\" font-size=\"12\" lengthAdjust=\"spacingAndGlyphs\" textLength=\"107\" x=\"5\" y=\"58.0449\">(details by typing</text><text fill=\"#000000\" font-family=\"monospace\" font-size=\"12\" lengthAdjust=\"spacingAndGlyphs\" textLength=\"49\" x=\"116\" y=\"58.0449\">license</text><text fill=\"#000000\" font-family=\"sans-serif\" font-size=\"12\" lengthAdjust=\"spacingAndGlyphs\" textLength=\"56\" x=\"169\" y=\"58.0449\">keyword)</text><text fill=\"#000000\" font-family=\"sans-serif\" font-size=\"12\" lengthAdjust=\"spacingAndGlyphs\" textLength=\"0\" x=\"9\" y=\"72.0137\"/><text fill=\"#000000\" font-family=\"sans-serif\" font-size=\"12\" lengthAdjust=\"spacingAndGlyphs\" textLength=\"283\" x=\"5\" y=\"85.9824\">You can start with a simple UML Diagram like:</text><text fill=\"#000000\" font-family=\"sans-serif\" font-size=\"12\" lengthAdjust=\"spacingAndGlyphs\" textLength=\"0\" x=\"9\" y=\"99.9512\"/><text fill=\"#000000\" font-family=\"monospace\" font-size=\"12\" lengthAdjust=\"spacingAndGlyphs\" textLength=\"119\" x=\"5\" y=\"113.9199\">Bob-&gt;Alice: Hello</text><text fill=\"#000000\" font-family=\"sans-serif\" font-size=\"12\" lengthAdjust=\"spacingAndGlyphs\" textLength=\"0\" x=\"9\" y=\"127.8887\"/><text fill=\"#000000\" font-family=\"sans-serif\" font-size=\"12\" lengthAdjust=\"spacingAndGlyphs\" textLength=\"14\" x=\"5\" y=\"141.8574\">Or</text><text fill=\"#000000\" font-family=\"sans-serif\" font-size=\"12\" lengthAdjust=\"spacingAndGlyphs\" textLength=\"0\" x=\"9\" y=\"155.8262\"/><text fill=\"#000000\" font-family=\"monospace\" font-size=\"12\" lengthAdjust=\"spacingAndGlyphs\" textLength=\"91\" x=\"5\" y=\"169.7949\">class Example</text><text fill=\"#000000\" font-family=\"sans-serif\" font-size=\"12\" lengthAdjust=\"spacingAndGlyphs\" textLength=\"0\" x=\"9\" y=\"183.7637\"/><text fill=\"#000000\" font-family=\"sans-serif\" font-size=\"12\" lengthAdjust=\"spacingAndGlyphs\" textLength=\"349\" x=\"5\" y=\"197.7324\">You will find more information about PlantUML syntax on</text><text fill=\"#000000\" font-family=\"sans-serif\" font-size=\"12\" lengthAdjust=\"spacingAndGlyphs\" text-decoration=\"underline\" textLength=\"129\" x=\"358\" y=\"197.7324\">https://plantuml.com</text><image height=\"71\" width=\"80\" x=\"516\" xlink:href=\"data:image/png;base64,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\" y=\"6\"/><rect fill=\"#000000\" height=\"96.4844\" style=\"stroke: #000000; stroke-width: 1.0;\" width=\"602\" x=\"0\" y=\"205.5625\"/><rect fill=\"#33FF02\" height=\"21.2969\" style=\"stroke: #33FF02; stroke-width: 1.0;\" width=\"170\" x=\"5\" y=\"210.5625\"/><text fill=\"#000000\" font-family=\"sans-serif\" font-size=\"14\" font-weight=\"bold\" lengthAdjust=\"spacingAndGlyphs\" textLength=\"168\" x=\"6\" y=\"225.5625\">[From string (line 2) ]</text><text fill=\"#33FF02\" font-family=\"sans-serif\" font-size=\"14\" font-weight=\"bold\" lengthAdjust=\"spacingAndGlyphs\" textLength=\"0\" x=\"10\" y=\"245.8594\"/><text fill=\"#33FF02\" font-family=\"sans-serif\" font-size=\"14\" font-weight=\"bold\" lengthAdjust=\"spacingAndGlyphs\" textLength=\"79\" x=\"5\" y=\"262.1563\">@startuml</text><text fill=\"#33FF02\" font-family=\"sans-serif\" font-size=\"14\" font-weight=\"bold\" lengthAdjust=\"spacingAndGlyphs\" textLength=\"0\" x=\"10\" y=\"278.4531\"/><text fill=\"#FF0000\" font-family=\"sans-serif\" font-size=\"14\" font-weight=\"bold\" lengthAdjust=\"spacingAndGlyphs\" textLength=\"142\" x=\"10\" y=\"294.75\">Empty description</text><!--MD5=[f59edd8218d337f74d0c332fc6737304]\n",
       "@startuml\r\n",
       " \r\n",
       "@enduml\r\n",
       "\n",
       "PlantUML version 1.2020.13(Sat Jun 13 12:26:38 UTC 2020)\n",
       "(EPL source distribution)\n",
       "Java Runtime: OpenJDK Runtime Environment\n",
       "JVM: OpenJDK 64-Bit Server VM\n",
       "Default Encoding: UTF-8\n",
       "Language: en\n",
       "Country: null\n",
       "--></g></svg>"
      ]
     },
     "execution_count": 32,
     "metadata": {},
     "output_type": "execute_result"
    }
   ],
   "source": [
    "%viz --style=\"PLANTUML\" --view=\"State\" \"DependencyTest\""
   ]
  },
  {
   "cell_type": "code",
   "execution_count": 33,
   "id": "acute-mentor",
   "metadata": {
    "execution": {
     "iopub.execute_input": "2021-03-25T13:51:45.334079Z",
     "iopub.status.busy": "2021-03-25T13:51:45.333286Z",
     "iopub.status.idle": "2021-03-25T13:51:45.431968Z",
     "shell.execute_reply": "2021-03-25T13:51:45.430182Z"
    }
   },
   "outputs": [
    {
     "data": {
      "image/svg+xml": [
       "<?xml version=\"1.0\" encoding=\"UTF-8\" standalone=\"no\"?><svg xmlns=\"http://www.w3.org/2000/svg\" xmlns:xlink=\"http://www.w3.org/1999/xlink\" contentScriptType=\"application/ecmascript\" contentStyleType=\"text/css\" height=\"361px\" preserveAspectRatio=\"none\" style=\"width:521px;height:361px;\" version=\"1.1\" viewBox=\"0 0 521 361\" width=\"521px\" zoomAndPan=\"magnify\"><defs><filter height=\"300%\" id=\"fkfdt5owtbp5e\" width=\"300%\" x=\"-1\" y=\"-1\"><feGaussianBlur result=\"blurOut\" stdDeviation=\"2.0\"/><feColorMatrix in=\"blurOut\" result=\"blurOut2\" type=\"matrix\" values=\"0 0 0 0 0 0 0 0 0 0 0 0 0 0 0 0 0 0 .4 0\"/><feOffset dx=\"4.0\" dy=\"4.0\" in=\"blurOut2\" result=\"blurOut3\"/><feBlend in=\"SourceGraphic\" in2=\"blurOut3\" mode=\"normal\"/></filter></defs><g><!--MD5=[fbc87193dbaf4d95561dea2c320d4a47]\n",
       "cluster E1--><a href=\"psysml:430f5b70-8499-4207-b78a-0a401723d15c\" target=\"_top\" title=\"psysml:430f5b70-8499-4207-b78a-0a401723d15c\" xlink:actuate=\"onRequest\" xlink:href=\"psysml:430f5b70-8499-4207-b78a-0a401723d15c\" xlink:show=\"new\" xlink:title=\"psysml:430f5b70-8499-4207-b78a-0a401723d15c\" xlink:type=\"simple\"><polygon fill=\"#FFFFFF\" filter=\"url(#fkfdt5owtbp5e)\" points=\"16,6,156,6,163,28.2969,499,28.2969,499,349,16,349,16,6\" style=\"stroke: #000000; stroke-width: 1.5;\"/><line style=\"stroke: #000000; stroke-width: 1.5;\" x1=\"16\" x2=\"163\" y1=\"28.2969\" y2=\"28.2969\"/><text fill=\"#000000\" font-family=\"sans-serif\" font-size=\"14\" font-weight=\"bold\" lengthAdjust=\"spacingAndGlyphs\" textLength=\"134\" x=\"20\" y=\"20.9951\">DependencyTest</text></a><!--MD5=[e4f7fae6ed58524ba242bb0b0d3be6b7]\n",
       "cluster E2--><a href=\"psysml:ef80acf8-3bbf-43fc-abea-40efc458e2ed\" target=\"_top\" title=\"psysml:ef80acf8-3bbf-43fc-abea-40efc458e2ed\" xlink:actuate=\"onRequest\" xlink:href=\"psysml:ef80acf8-3bbf-43fc-abea-40efc458e2ed\" xlink:show=\"new\" xlink:title=\"psysml:ef80acf8-3bbf-43fc-abea-40efc458e2ed\" xlink:type=\"simple\"><polygon fill=\"#FFFFFF\" filter=\"url(#fkfdt5owtbp5e)\" points=\"287,49,351,49,358,71.2969,475,71.2969,475,325,287,325,287,49\" style=\"stroke: #000000; stroke-width: 1.5;\"/><line style=\"stroke: #000000; stroke-width: 1.5;\" x1=\"287\" x2=\"358\" y1=\"71.2969\" y2=\"71.2969\"/><text fill=\"#000000\" font-family=\"sans-serif\" font-size=\"14\" font-weight=\"bold\" lengthAdjust=\"spacingAndGlyphs\" textLength=\"58\" x=\"291\" y=\"63.9951\">System</text></a><a href=\"psysml:cb2f8149-aa3e-4482-91f3-ed1f7789b4f6\" target=\"_top\" title=\"psysml:cb2f8149-aa3e-4482-91f3-ed1f7789b4f6\" xlink:actuate=\"onRequest\" xlink:href=\"psysml:cb2f8149-aa3e-4482-91f3-ed1f7789b4f6\" xlink:show=\"new\" xlink:title=\"psysml:cb2f8149-aa3e-4482-91f3-ed1f7789b4f6\" xlink:type=\"simple\"><polygon fill=\"#FFFFFF\" filter=\"url(#fkfdt5owtbp5e)\" points=\"303,84,445,84,452,106.2969,459,106.2969,459,136.5938,303,136.5938,303,84\" style=\"stroke: #000000; stroke-width: 1.5;\"/><line style=\"stroke: #000000; stroke-width: 1.5;\" x1=\"303\" x2=\"452\" y1=\"106.2969\" y2=\"106.2969\"/><text fill=\"#000000\" font-family=\"sans-serif\" font-size=\"14\" font-weight=\"bold\" lengthAdjust=\"spacingAndGlyphs\" textLength=\"136\" x=\"307\" y=\"98.9951\">Application Layer</text></a><a href=\"psysml:c90fac5e-4b06-46df-8524-0f31fe17b625\" target=\"_top\" title=\"psysml:c90fac5e-4b06-46df-8524-0f31fe17b625\" xlink:actuate=\"onRequest\" xlink:href=\"psysml:c90fac5e-4b06-46df-8524-0f31fe17b625\" xlink:show=\"new\" xlink:title=\"psysml:c90fac5e-4b06-46df-8524-0f31fe17b625\" xlink:type=\"simple\"><polygon fill=\"#FFFFFF\" filter=\"url(#fkfdt5owtbp5e)\" points=\"317,170,431,170,438,192.2969,445,192.2969,445,222.5938,317,222.5938,317,170\" style=\"stroke: #000000; stroke-width: 1.5;\"/><line style=\"stroke: #000000; stroke-width: 1.5;\" x1=\"317\" x2=\"438\" y1=\"192.2969\" y2=\"192.2969\"/><text fill=\"#000000\" font-family=\"sans-serif\" font-size=\"14\" font-weight=\"bold\" lengthAdjust=\"spacingAndGlyphs\" textLength=\"108\" x=\"321\" y=\"184.9951\">Service Layer</text></a><a href=\"psysml:5945f028-85af-4284-8707-6581cfe8107d\" target=\"_top\" title=\"psysml:5945f028-85af-4284-8707-6581cfe8107d\" xlink:actuate=\"onRequest\" xlink:href=\"psysml:5945f028-85af-4284-8707-6581cfe8107d\" xlink:show=\"new\" xlink:title=\"psysml:5945f028-85af-4284-8707-6581cfe8107d\" xlink:type=\"simple\"><polygon fill=\"#FFFFFF\" filter=\"url(#fkfdt5owtbp5e)\" points=\"329,256,419,256,426,278.2969,433,278.2969,433,308.5938,329,308.5938,329,256\" style=\"stroke: #000000; stroke-width: 1.5;\"/><line style=\"stroke: #000000; stroke-width: 1.5;\" x1=\"329\" x2=\"426\" y1=\"278.2969\" y2=\"278.2969\"/><text fill=\"#000000\" font-family=\"sans-serif\" font-size=\"14\" font-weight=\"bold\" lengthAdjust=\"spacingAndGlyphs\" textLength=\"84\" x=\"333\" y=\"270.9951\">Data Layer</text></a><g id=\"E1.E6\"><a href=\"psysml:f9adf18b-8dbf-4490-b33d-e9e2045e17b2\" target=\"_top\" title=\"psysml:f9adf18b-8dbf-4490-b33d-e9e2045e17b2\" xlink:actuate=\"onRequest\" xlink:href=\"psysml:f9adf18b-8dbf-4490-b33d-e9e2045e17b2\" xlink:show=\"new\" xlink:title=\"psysml:f9adf18b-8dbf-4490-b33d-e9e2045e17b2\" xlink:type=\"simple\"><rect fill=\"#FEFECE\" filter=\"url(#fkfdt5owtbp5e)\" height=\"42.9375\" id=\"E6\" rx=\"10\" ry=\"10\" style=\"stroke: #A80036; stroke-width: 1.5;\" width=\"102\" x=\"32\" y=\"175\"/><ellipse cx=\"49.25\" cy=\"193.9688\" fill=\"#FFA500\" rx=\"11\" ry=\"11\" style=\"stroke: #A80036; stroke-width: 1.0;\"/><path d=\"M45.125,195.8906 L45.125,188.0781 L47.5781,188.0781 L47.5781,196.5156 Q47.5781,197.4375 48.0469,197.9688 Q48.5313,198.5 49.3594,198.5 Q50.2031,198.5 50.6719,197.9688 Q51.1406,197.4375 51.1406,196.5156 L51.1406,188.0781 L53.5938,188.0781 L53.5938,195.8906 Q53.5938,198.4219 52.5938,199.5625 Q51.5938,200.7031 49.3594,200.7031 Q47.1406,200.7031 46.125,199.5625 Q45.125,198.4219 45.125,195.8906 Z \"/><text fill=\"#000000\" font-family=\"sans-serif\" font-size=\"12\" font-style=\"italic\" lengthAdjust=\"spacingAndGlyphs\" textLength=\"69\" x=\"61.75\" y=\"191.1387\">«attribute»</text><text fill=\"#000000\" font-family=\"sans-serif\" font-size=\"12\" lengthAdjust=\"spacingAndGlyphs\" textLength=\"6\" x=\"93.25\" y=\"205.1074\">x</text></a></g><g id=\"E1.E7\"><a href=\"psysml:b3547f0d-a84a-43aa-aeb1-8f3416005562\" target=\"_top\" title=\"psysml:b3547f0d-a84a-43aa-aeb1-8f3416005562\" xlink:actuate=\"onRequest\" xlink:href=\"psysml:b3547f0d-a84a-43aa-aeb1-8f3416005562\" xlink:show=\"new\" xlink:title=\"psysml:b3547f0d-a84a-43aa-aeb1-8f3416005562\" xlink:type=\"simple\"><rect fill=\"#FEFECE\" filter=\"url(#fkfdt5owtbp5e)\" height=\"42.9375\" id=\"E7\" rx=\"10\" ry=\"10\" style=\"stroke: #A80036; stroke-width: 1.5;\" width=\"102\" x=\"169\" y=\"175\"/><ellipse cx=\"186.25\" cy=\"193.9688\" fill=\"#FFA500\" rx=\"11\" ry=\"11\" style=\"stroke: #A80036; stroke-width: 1.0;\"/><path d=\"M182.125,195.8906 L182.125,188.0781 L184.5781,188.0781 L184.5781,196.5156 Q184.5781,197.4375 185.0469,197.9688 Q185.5313,198.5 186.3594,198.5 Q187.2031,198.5 187.6719,197.9688 Q188.1406,197.4375 188.1406,196.5156 L188.1406,188.0781 L190.5938,188.0781 L190.5938,195.8906 Q190.5938,198.4219 189.5938,199.5625 Q188.5938,200.7031 186.3594,200.7031 Q184.1406,200.7031 183.125,199.5625 Q182.125,198.4219 182.125,195.8906 Z \"/><text fill=\"#000000\" font-family=\"sans-serif\" font-size=\"12\" font-style=\"italic\" lengthAdjust=\"spacingAndGlyphs\" textLength=\"69\" x=\"198.75\" y=\"191.1387\">«attribute»</text><text fill=\"#000000\" font-family=\"sans-serif\" font-size=\"12\" lengthAdjust=\"spacingAndGlyphs\" textLength=\"6\" x=\"230.25\" y=\"205.1074\">y</text></a></g><g id=\"E1.E8\"><a href=\"psysml:06d3944d-d8a9-41b6-a7dc-ea1875e321b3\" target=\"_top\" title=\"psysml:06d3944d-d8a9-41b6-a7dc-ea1875e321b3\" xlink:actuate=\"onRequest\" xlink:href=\"psysml:06d3944d-d8a9-41b6-a7dc-ea1875e321b3\" xlink:show=\"new\" xlink:title=\"psysml:06d3944d-d8a9-41b6-a7dc-ea1875e321b3\" xlink:type=\"simple\"><rect fill=\"#FEFECE\" filter=\"url(#fkfdt5owtbp5e)\" height=\"42.9375\" id=\"E8\" rx=\"10\" ry=\"10\" style=\"stroke: #A80036; stroke-width: 1.5;\" width=\"102\" x=\"85\" y=\"89\"/><ellipse cx=\"102.25\" cy=\"107.9688\" fill=\"#FFA500\" rx=\"11\" ry=\"11\" style=\"stroke: #A80036; stroke-width: 1.0;\"/><path d=\"M98.125,109.8906 L98.125,102.0781 L100.5781,102.0781 L100.5781,110.5156 Q100.5781,111.4375 101.0469,111.9688 Q101.5313,112.5 102.3594,112.5 Q103.2031,112.5 103.6719,111.9688 Q104.1406,111.4375 104.1406,110.5156 L104.1406,102.0781 L106.5938,102.0781 L106.5938,109.8906 Q106.5938,112.4219 105.5938,113.5625 Q104.5938,114.7031 102.3594,114.7031 Q100.1406,114.7031 99.125,113.5625 Q98.125,112.4219 98.125,109.8906 Z \"/><text fill=\"#000000\" font-family=\"sans-serif\" font-size=\"12\" font-style=\"italic\" lengthAdjust=\"spacingAndGlyphs\" textLength=\"69\" x=\"114.75\" y=\"105.1387\">«attribute»</text><text fill=\"#000000\" font-family=\"sans-serif\" font-size=\"12\" lengthAdjust=\"spacingAndGlyphs\" textLength=\"5\" x=\"146.75\" y=\"119.1074\">z</text></a></g><!--MD5=[af87c684e3b0d8be13c1a698a818ef1e]\n",
       "link E3 to E4--><a href=\"psysml:71e7e357-685b-41cb-afa1-92571af689f5\" target=\"_top\" title=\"psysml:71e7e357-685b-41cb-afa1-92571af689f5\" xlink:actuate=\"onRequest\" xlink:href=\"psysml:71e7e357-685b-41cb-afa1-92571af689f5\" xlink:show=\"new\" xlink:title=\"psysml:71e7e357-685b-41cb-afa1-92571af689f5\" xlink:type=\"simple\"><path d=\"M381,137.16 C381,144.98 381,153.69 381,161.94 \" fill=\"none\" id=\"E3-&gt;E4\" style=\"stroke: #A80036; stroke-width: 1.0; stroke-dasharray: 7.0,7.0;\"/><polygon fill=\"#A80036\" points=\"381,170,384,162,378,162,381,170\" style=\"stroke: #A80036; stroke-width: 1.0;\"/><text fill=\"#000000\" font-family=\"sans-serif\" font-size=\"13\" lengthAdjust=\"spacingAndGlyphs\" textLength=\"64\" x=\"382\" y=\"158.0669\">«depend»</text></a><!--MD5=[1b7591eae5389033d8d09a9d6721a717]\n",
       "link E4 to E5--><a href=\"psysml:1107382a-37f6-4d52-8c17-003f9fc0676e\" target=\"_top\" title=\"psysml:1107382a-37f6-4d52-8c17-003f9fc0676e\" xlink:actuate=\"onRequest\" xlink:href=\"psysml:1107382a-37f6-4d52-8c17-003f9fc0676e\" xlink:show=\"new\" xlink:title=\"psysml:1107382a-37f6-4d52-8c17-003f9fc0676e\" xlink:type=\"simple\"><path d=\"M381,223.16 C381,230.98 381,239.69 381,247.94 \" fill=\"none\" id=\"E4-&gt;E5\" style=\"stroke: #A80036; stroke-width: 1.0; stroke-dasharray: 7.0,7.0;\"/><polygon fill=\"#A80036\" points=\"381,256,384,248,378,248,381,256\" style=\"stroke: #A80036; stroke-width: 1.0;\"/><text fill=\"#000000\" font-family=\"sans-serif\" font-size=\"13\" lengthAdjust=\"spacingAndGlyphs\" textLength=\"64\" x=\"382\" y=\"244.0669\">«depend»</text></a><!--MD5=[c5e8897d989ce984f93528998a7150fe]\n",
       "link E8 to E6--><a href=\"psysml:a975d936-bb91-4b85-9c47-7632192c23c3\" target=\"_top\" title=\"psysml:a975d936-bb91-4b85-9c47-7632192c23c3\" xlink:actuate=\"onRequest\" xlink:href=\"psysml:a975d936-bb91-4b85-9c47-7632192c23c3\" xlink:show=\"new\" xlink:title=\"psysml:a975d936-bb91-4b85-9c47-7632192c23c3\" xlink:type=\"simple\"><path d=\"M102.96,132.09 C98.75,135.93 94.9,140.25 92,145 C88.13,151.34 85.83,158.9 84.48,166.22 \" fill=\"none\" id=\"E8-&gt;E6\" style=\"stroke: #A80036; stroke-width: 1.0; stroke-dasharray: 7.0,7.0;\"/><polygon fill=\"#A80036\" points=\"83.3,174.62,87.3842,167.1154,81.4426,166.2803,83.3,174.62\" style=\"stroke: #A80036; stroke-width: 1.0;\"/><text fill=\"#000000\" font-family=\"sans-serif\" font-size=\"13\" lengthAdjust=\"spacingAndGlyphs\" textLength=\"64\" x=\"93\" y=\"158.0669\">«depend»</text></a><!--MD5=[bfa3c8b0d15052fdf50ae9310b491027]\n",
       "link E8 to E7--><a href=\"psysml:a975d936-bb91-4b85-9c47-7632192c23c3\" target=\"_top\" title=\"psysml:a975d936-bb91-4b85-9c47-7632192c23c3\" xlink:actuate=\"onRequest\" xlink:href=\"psysml:a975d936-bb91-4b85-9c47-7632192c23c3\" xlink:show=\"new\" xlink:title=\"psysml:a975d936-bb91-4b85-9c47-7632192c23c3\" xlink:type=\"simple\"><path d=\"M156.76,132.26 C167.95,143.45 181.87,157.37 193.8,169.3 \" fill=\"none\" id=\"E8-&gt;E7\" style=\"stroke: #A80036; stroke-width: 1.0; stroke-dasharray: 7.0,7.0;\"/><polygon fill=\"#A80036\" points=\"199.47,174.97,195.9345,167.1918,191.6918,171.4345,199.47,174.97\" style=\"stroke: #A80036; stroke-width: 1.0;\"/><text fill=\"#000000\" font-family=\"sans-serif\" font-size=\"13\" lengthAdjust=\"spacingAndGlyphs\" textLength=\"64\" x=\"186\" y=\"158.0669\">«depend»</text></a><!--MD5=[4c441b55edcd5baae6fe5136455a166b]\n",
       "@startuml\r\n",
       "skinparam ranksep 8\r\n",
       "skinparam rectangle {\r\n",
       " backgroundColor<<block>> LightGreen\r\n",
       "}\r\n",
       " \r\n",
       "package \"DependencyTest\" as E1  [[psysml:430f5b70-8499-4207-b78a-0a401723d15c ]]  {\r\n",
       "package \"System\" as E2  [[psysml:ef80acf8-3bbf-43fc-abea-40efc458e2ed ]]  {\r\n",
       "package \"Application Layer\" as E3  [[psysml:cb2f8149-aa3e-4482-91f3-ed1f7789b4f6 ]]  {\r\n",
       "}\r\n",
       "package \"Service Layer\" as E4  [[psysml:c90fac5e-4b06-46df-8524-0f31fe17b625 ]]  {\r\n",
       "}\r\n",
       "package \"Data Layer\" as E5  [[psysml:5945f028-85af-4284-8707-6581cfe8107d ]]  {\r\n",
       "}\r\n",
       "}\r\n",
       "rec usage \"x\" as E6  <<(U,orange)attribute>> [[psysml:f9adf18b-8dbf-4490-b33d-e9e2045e17b2 ]] {\r\n",
       "}\r\n",
       "rec usage \"y\" as E7  <<(U,orange)attribute>> [[psysml:b3547f0d-a84a-43aa-aeb1-8f3416005562 ]] {\r\n",
       "}\r\n",
       "rec usage \"z\" as E8  <<(U,orange)attribute>> [[psysml:06d3944d-d8a9-41b6-a7dc-ea1875e321b3 ]] {\r\n",
       "}\r\n",
       "E3 ..>> E4 [[psysml:71e7e357-685b-41cb-afa1-92571af689f5 ]] : <<depend>>\r\n",
       "E4 ..>> E5 [[psysml:1107382a-37f6-4d52-8c17-003f9fc0676e ]] : <<depend>>\r\n",
       "E8 ..>> E6 [[psysml:a975d936-bb91-4b85-9c47-7632192c23c3 ]] : <<depend>>\r\n",
       "E8 ..>> E7 [[psysml:a975d936-bb91-4b85-9c47-7632192c23c3 ]] : <<depend>>\r\n",
       "}\r\n",
       "@enduml\r\n",
       "\n",
       "PlantUML version 1.2020.13(Sat Jun 13 12:26:38 UTC 2020)\n",
       "(EPL source distribution)\n",
       "Java Runtime: OpenJDK Runtime Environment\n",
       "JVM: OpenJDK 64-Bit Server VM\n",
       "Default Encoding: UTF-8\n",
       "Language: en\n",
       "Country: null\n",
       "--></g></svg>"
      ]
     },
     "execution_count": 33,
     "metadata": {},
     "output_type": "execute_result"
    }
   ],
   "source": [
    "%viz --style=\"PLANTUML\" --view=\"Interconnection\" \"DependencyTest\""
   ]
  },
  {
   "cell_type": "code",
   "execution_count": 34,
   "id": "stretch-eclipse",
   "metadata": {
    "execution": {
     "iopub.execute_input": "2021-03-25T13:51:45.485596Z",
     "iopub.status.busy": "2021-03-25T13:51:45.484820Z",
     "iopub.status.idle": "2021-03-25T13:51:45.491880Z",
     "shell.execute_reply": "2021-03-25T13:51:45.491497Z"
    }
   },
   "outputs": [
    {
     "data": {
      "image/svg+xml": [
       "<?xml version=\"1.0\" encoding=\"UTF-8\" standalone=\"no\"?><svg xmlns=\"http://www.w3.org/2000/svg\" xmlns:xlink=\"http://www.w3.org/1999/xlink\" contentScriptType=\"application/ecmascript\" contentStyleType=\"text/css\" height=\"12px\" preserveAspectRatio=\"none\" style=\"width:12px;height:12px;\" version=\"1.1\" viewBox=\"0 0 12 12\" width=\"12px\" zoomAndPan=\"magnify\"><defs/><g><!--MD5=[6a4cb978cab31700e1ce5529f947a75d]\n",
       "@startuml\r\n",
       "skinparam ranksep 8\r\n",
       " \r\n",
       "@enduml\r\n",
       "\n",
       "PlantUML version 1.2020.13(Sat Jun 13 12:26:38 UTC 2020)\n",
       "(EPL source distribution)\n",
       "Java Runtime: OpenJDK Runtime Environment\n",
       "JVM: OpenJDK 64-Bit Server VM\n",
       "Default Encoding: UTF-8\n",
       "Language: en\n",
       "Country: null\n",
       "--></g></svg>"
      ]
     },
     "execution_count": 34,
     "metadata": {},
     "output_type": "execute_result"
    }
   ],
   "source": [
    "%viz --style=\"PLANTUML\" --view=\"Action\" \"DependencyTest\""
   ]
  },
  {
   "cell_type": "code",
   "execution_count": 35,
   "id": "square-temperature",
   "metadata": {
    "execution": {
     "iopub.execute_input": "2021-03-25T13:51:45.543825Z",
     "iopub.status.busy": "2021-03-25T13:51:45.542932Z",
     "iopub.status.idle": "2021-03-25T13:51:45.654467Z",
     "shell.execute_reply": "2021-03-25T13:51:45.654900Z"
    }
   },
   "outputs": [
    {
     "data": {
      "image/svg+xml": [
       "<?xml version=\"1.0\" encoding=\"UTF-8\" standalone=\"no\"?><svg xmlns=\"http://www.w3.org/2000/svg\" xmlns:xlink=\"http://www.w3.org/1999/xlink\" contentScriptType=\"application/ecmascript\" contentStyleType=\"text/css\" height=\"449px\" preserveAspectRatio=\"none\" style=\"width:510px;height:449px;\" version=\"1.1\" viewBox=\"0 0 510 449\" width=\"510px\" zoomAndPan=\"magnify\"><defs><filter height=\"300%\" id=\"f1d7owfem8rvnn\" width=\"300%\" x=\"-1\" y=\"-1\"><feGaussianBlur result=\"blurOut\" stdDeviation=\"2.0\"/><feColorMatrix in=\"blurOut\" result=\"blurOut2\" type=\"matrix\" values=\"0 0 0 0 0 0 0 0 0 0 0 0 0 0 0 0 0 0 .4 0\"/><feOffset dx=\"4.0\" dy=\"4.0\" in=\"blurOut2\" result=\"blurOut3\"/><feBlend in=\"SourceGraphic\" in2=\"blurOut3\" mode=\"normal\"/></filter></defs><g><!--MD5=[fbc87193dbaf4d95561dea2c320d4a47]\n",
       "cluster E1--><a href=\"psysml:430f5b70-8499-4207-b78a-0a401723d15c\" target=\"_top\" title=\"psysml:430f5b70-8499-4207-b78a-0a401723d15c\" xlink:actuate=\"onRequest\" xlink:href=\"psysml:430f5b70-8499-4207-b78a-0a401723d15c\" xlink:show=\"new\" xlink:title=\"psysml:430f5b70-8499-4207-b78a-0a401723d15c\" xlink:type=\"simple\"><polygon fill=\"#FFFFFF\" filter=\"url(#f1d7owfem8rvnn)\" points=\"16,6,156,6,163,28.2969,488,28.2969,488,437,16,437,16,6\" style=\"stroke: #000000; stroke-width: 1.5;\"/><line style=\"stroke: #000000; stroke-width: 1.5;\" x1=\"16\" x2=\"163\" y1=\"28.2969\" y2=\"28.2969\"/><text fill=\"#000000\" font-family=\"sans-serif\" font-size=\"14\" font-weight=\"bold\" lengthAdjust=\"spacingAndGlyphs\" textLength=\"134\" x=\"20\" y=\"20.9951\">DependencyTest</text></a><!--MD5=[e4f7fae6ed58524ba242bb0b0d3be6b7]\n",
       "cluster E2--><a href=\"psysml:ef80acf8-3bbf-43fc-abea-40efc458e2ed\" target=\"_top\" title=\"psysml:ef80acf8-3bbf-43fc-abea-40efc458e2ed\" xlink:actuate=\"onRequest\" xlink:href=\"psysml:ef80acf8-3bbf-43fc-abea-40efc458e2ed\" xlink:show=\"new\" xlink:title=\"psysml:ef80acf8-3bbf-43fc-abea-40efc458e2ed\" xlink:type=\"simple\"><polygon fill=\"#FFFFFF\" filter=\"url(#f1d7owfem8rvnn)\" points=\"276,49,340,49,347,71.2969,464,71.2969,464,413,276,413,276,49\" style=\"stroke: #000000; stroke-width: 1.5;\"/><line style=\"stroke: #000000; stroke-width: 1.5;\" x1=\"276\" x2=\"347\" y1=\"71.2969\" y2=\"71.2969\"/><text fill=\"#000000\" font-family=\"sans-serif\" font-size=\"14\" font-weight=\"bold\" lengthAdjust=\"spacingAndGlyphs\" textLength=\"58\" x=\"280\" y=\"63.9951\">System</text></a><!--MD5=[60a26617385b1d2d0262a64233df1f8d]\n",
       "class E6--><a href=\"psysml:f9adf18b-8dbf-4490-b33d-e9e2045e17b2\" target=\"_top\" title=\"psysml:f9adf18b-8dbf-4490-b33d-e9e2045e17b2\" xlink:actuate=\"onRequest\" xlink:href=\"psysml:f9adf18b-8dbf-4490-b33d-e9e2045e17b2\" xlink:show=\"new\" xlink:title=\"psysml:f9adf18b-8dbf-4490-b33d-e9e2045e17b2\" xlink:type=\"simple\"><rect fill=\"#FEFECE\" filter=\"url(#f1d7owfem8rvnn)\" height=\"45.9375\" id=\"E6\" rx=\"10\" ry=\"10\" style=\"stroke: #A80036; stroke-width: 1.5;\" width=\"97\" x=\"31.5\" y=\"217.5\"/><ellipse cx=\"46.5\" cy=\"236.4688\" fill=\"#FFA500\" rx=\"11\" ry=\"11\" style=\"stroke: #A80036; stroke-width: 1.0;\"/><path d=\"M42.375,238.3906 L42.375,230.5781 L44.8281,230.5781 L44.8281,239.0156 Q44.8281,239.9375 45.2969,240.4688 Q45.7813,241 46.6094,241 Q47.4531,241 47.9219,240.4688 Q48.3906,239.9375 48.3906,239.0156 L48.3906,230.5781 L50.8438,230.5781 L50.8438,238.3906 Q50.8438,240.9219 49.8438,242.0625 Q48.8438,243.2031 46.6094,243.2031 Q44.3906,243.2031 43.375,242.0625 Q42.375,240.9219 42.375,238.3906 Z \"/><text fill=\"#000000\" font-family=\"sans-serif\" font-size=\"12\" font-style=\"italic\" lengthAdjust=\"spacingAndGlyphs\" textLength=\"69\" x=\"58.5\" y=\"233.6387\">«attribute»</text><text fill=\"#000000\" font-family=\"sans-serif\" font-size=\"12\" lengthAdjust=\"spacingAndGlyphs\" textLength=\"6\" x=\"90\" y=\"247.6074\">x</text><line style=\"stroke: #A80036; stroke-width: 1.5;\" x1=\"32.5\" x2=\"127.5\" y1=\"255.4375\" y2=\"255.4375\"/></a><!--MD5=[2156ba9850f5573cc1fc38a6a4b2f02b]\n",
       "class E7--><a href=\"psysml:b3547f0d-a84a-43aa-aeb1-8f3416005562\" target=\"_top\" title=\"psysml:b3547f0d-a84a-43aa-aeb1-8f3416005562\" xlink:actuate=\"onRequest\" xlink:href=\"psysml:b3547f0d-a84a-43aa-aeb1-8f3416005562\" xlink:show=\"new\" xlink:title=\"psysml:b3547f0d-a84a-43aa-aeb1-8f3416005562\" xlink:type=\"simple\"><rect fill=\"#FEFECE\" filter=\"url(#f1d7owfem8rvnn)\" height=\"45.9375\" id=\"E7\" rx=\"10\" ry=\"10\" style=\"stroke: #A80036; stroke-width: 1.5;\" width=\"97\" x=\"163.5\" y=\"217.5\"/><ellipse cx=\"178.5\" cy=\"236.4688\" fill=\"#FFA500\" rx=\"11\" ry=\"11\" style=\"stroke: #A80036; stroke-width: 1.0;\"/><path d=\"M174.375,238.3906 L174.375,230.5781 L176.8281,230.5781 L176.8281,239.0156 Q176.8281,239.9375 177.2969,240.4688 Q177.7813,241 178.6094,241 Q179.4531,241 179.9219,240.4688 Q180.3906,239.9375 180.3906,239.0156 L180.3906,230.5781 L182.8438,230.5781 L182.8438,238.3906 Q182.8438,240.9219 181.8438,242.0625 Q180.8438,243.2031 178.6094,243.2031 Q176.3906,243.2031 175.375,242.0625 Q174.375,240.9219 174.375,238.3906 Z \"/><text fill=\"#000000\" font-family=\"sans-serif\" font-size=\"12\" font-style=\"italic\" lengthAdjust=\"spacingAndGlyphs\" textLength=\"69\" x=\"190.5\" y=\"233.6387\">«attribute»</text><text fill=\"#000000\" font-family=\"sans-serif\" font-size=\"12\" lengthAdjust=\"spacingAndGlyphs\" textLength=\"6\" x=\"222\" y=\"247.6074\">y</text><line style=\"stroke: #A80036; stroke-width: 1.5;\" x1=\"164.5\" x2=\"259.5\" y1=\"255.4375\" y2=\"255.4375\"/></a><!--MD5=[b9389687b975829384b498ac4b7476b2]\n",
       "class E8--><a href=\"psysml:06d3944d-d8a9-41b6-a7dc-ea1875e321b3\" target=\"_top\" title=\"psysml:06d3944d-d8a9-41b6-a7dc-ea1875e321b3\" xlink:actuate=\"onRequest\" xlink:href=\"psysml:06d3944d-d8a9-41b6-a7dc-ea1875e321b3\" xlink:show=\"new\" xlink:title=\"psysml:06d3944d-d8a9-41b6-a7dc-ea1875e321b3\" xlink:type=\"simple\"><rect fill=\"#FEFECE\" filter=\"url(#f1d7owfem8rvnn)\" height=\"45.9375\" id=\"E8\" rx=\"10\" ry=\"10\" style=\"stroke: #A80036; stroke-width: 1.5;\" width=\"97\" x=\"84.5\" y=\"87.5\"/><ellipse cx=\"99.5\" cy=\"106.4688\" fill=\"#FFA500\" rx=\"11\" ry=\"11\" style=\"stroke: #A80036; stroke-width: 1.0;\"/><path d=\"M95.375,108.3906 L95.375,100.5781 L97.8281,100.5781 L97.8281,109.0156 Q97.8281,109.9375 98.2969,110.4688 Q98.7813,111 99.6094,111 Q100.4531,111 100.9219,110.4688 Q101.3906,109.9375 101.3906,109.0156 L101.3906,100.5781 L103.8438,100.5781 L103.8438,108.3906 Q103.8438,110.9219 102.8438,112.0625 Q101.8438,113.2031 99.6094,113.2031 Q97.3906,113.2031 96.375,112.0625 Q95.375,110.9219 95.375,108.3906 Z \"/><text fill=\"#000000\" font-family=\"sans-serif\" font-size=\"12\" font-style=\"italic\" lengthAdjust=\"spacingAndGlyphs\" textLength=\"69\" x=\"111.5\" y=\"103.6387\">«attribute»</text><text fill=\"#000000\" font-family=\"sans-serif\" font-size=\"12\" lengthAdjust=\"spacingAndGlyphs\" textLength=\"5\" x=\"143.5\" y=\"117.6074\">z</text><line style=\"stroke: #A80036; stroke-width: 1.5;\" x1=\"85.5\" x2=\"180.5\" y1=\"125.4375\" y2=\"125.4375\"/></a><a href=\"psysml:cb2f8149-aa3e-4482-91f3-ed1f7789b4f6\" target=\"_top\" title=\"psysml:cb2f8149-aa3e-4482-91f3-ed1f7789b4f6\" xlink:actuate=\"onRequest\" xlink:href=\"psysml:cb2f8149-aa3e-4482-91f3-ed1f7789b4f6\" xlink:show=\"new\" xlink:title=\"psysml:cb2f8149-aa3e-4482-91f3-ed1f7789b4f6\" xlink:type=\"simple\"><polygon fill=\"#FFFFFF\" filter=\"url(#f1d7owfem8rvnn)\" points=\"292,84,434,84,441,106.2969,448,106.2969,448,136.5938,292,136.5938,292,84\" style=\"stroke: #000000; stroke-width: 1.5;\"/><line style=\"stroke: #000000; stroke-width: 1.5;\" x1=\"292\" x2=\"441\" y1=\"106.2969\" y2=\"106.2969\"/><text fill=\"#000000\" font-family=\"sans-serif\" font-size=\"14\" font-weight=\"bold\" lengthAdjust=\"spacingAndGlyphs\" textLength=\"136\" x=\"296\" y=\"98.9951\">Application Layer</text></a><a href=\"psysml:c90fac5e-4b06-46df-8524-0f31fe17b625\" target=\"_top\" title=\"psysml:c90fac5e-4b06-46df-8524-0f31fe17b625\" xlink:actuate=\"onRequest\" xlink:href=\"psysml:c90fac5e-4b06-46df-8524-0f31fe17b625\" xlink:show=\"new\" xlink:title=\"psysml:c90fac5e-4b06-46df-8524-0f31fe17b625\" xlink:type=\"simple\"><polygon fill=\"#FFFFFF\" filter=\"url(#f1d7owfem8rvnn)\" points=\"306,214,420,214,427,236.2969,434,236.2969,434,266.5938,306,266.5938,306,214\" style=\"stroke: #000000; stroke-width: 1.5;\"/><line style=\"stroke: #000000; stroke-width: 1.5;\" x1=\"306\" x2=\"427\" y1=\"236.2969\" y2=\"236.2969\"/><text fill=\"#000000\" font-family=\"sans-serif\" font-size=\"14\" font-weight=\"bold\" lengthAdjust=\"spacingAndGlyphs\" textLength=\"108\" x=\"310\" y=\"228.9951\">Service Layer</text></a><a href=\"psysml:5945f028-85af-4284-8707-6581cfe8107d\" target=\"_top\" title=\"psysml:5945f028-85af-4284-8707-6581cfe8107d\" xlink:actuate=\"onRequest\" xlink:href=\"psysml:5945f028-85af-4284-8707-6581cfe8107d\" xlink:show=\"new\" xlink:title=\"psysml:5945f028-85af-4284-8707-6581cfe8107d\" xlink:type=\"simple\"><polygon fill=\"#FFFFFF\" filter=\"url(#f1d7owfem8rvnn)\" points=\"318,344,408,344,415,366.2969,422,366.2969,422,396.5938,318,396.5938,318,344\" style=\"stroke: #000000; stroke-width: 1.5;\"/><line style=\"stroke: #000000; stroke-width: 1.5;\" x1=\"318\" x2=\"415\" y1=\"366.2969\" y2=\"366.2969\"/><text fill=\"#000000\" font-family=\"sans-serif\" font-size=\"14\" font-weight=\"bold\" lengthAdjust=\"spacingAndGlyphs\" textLength=\"84\" x=\"322\" y=\"358.9951\">Data Layer</text></a><!--MD5=[af87c684e3b0d8be13c1a698a818ef1e]\n",
       "link E3 to E4--><a href=\"psysml:71e7e357-685b-41cb-afa1-92571af689f5\" target=\"_top\" title=\"psysml:71e7e357-685b-41cb-afa1-92571af689f5\" xlink:actuate=\"onRequest\" xlink:href=\"psysml:71e7e357-685b-41cb-afa1-92571af689f5\" xlink:show=\"new\" xlink:title=\"psysml:71e7e357-685b-41cb-afa1-92571af689f5\" xlink:type=\"simple\"><path d=\"M370,137.1 C370,156.8 370,184.22 370,205.73 \" fill=\"none\" id=\"E3-&gt;E4\" style=\"stroke: #A80036; stroke-width: 1.0; stroke-dasharray: 7.0,7.0;\"/><polygon fill=\"#A80036\" points=\"370,213.95,373,205.95,367,205.95,370,213.95\" style=\"stroke: #A80036; stroke-width: 1.0;\"/><text fill=\"#000000\" font-family=\"sans-serif\" font-size=\"13\" lengthAdjust=\"spacingAndGlyphs\" textLength=\"64\" x=\"371\" y=\"180.0669\">«depend»</text></a><!--MD5=[1b7591eae5389033d8d09a9d6721a717]\n",
       "link E4 to E5--><a href=\"psysml:1107382a-37f6-4d52-8c17-003f9fc0676e\" target=\"_top\" title=\"psysml:1107382a-37f6-4d52-8c17-003f9fc0676e\" xlink:actuate=\"onRequest\" xlink:href=\"psysml:1107382a-37f6-4d52-8c17-003f9fc0676e\" xlink:show=\"new\" xlink:title=\"psysml:1107382a-37f6-4d52-8c17-003f9fc0676e\" xlink:type=\"simple\"><path d=\"M370,267.1 C370,286.8 370,314.22 370,335.73 \" fill=\"none\" id=\"E4-&gt;E5\" style=\"stroke: #A80036; stroke-width: 1.0; stroke-dasharray: 7.0,7.0;\"/><polygon fill=\"#A80036\" points=\"370,343.95,373,335.95,367,335.95,370,343.95\" style=\"stroke: #A80036; stroke-width: 1.0;\"/><text fill=\"#000000\" font-family=\"sans-serif\" font-size=\"13\" lengthAdjust=\"spacingAndGlyphs\" textLength=\"64\" x=\"371\" y=\"310.0669\">«depend»</text></a><!--MD5=[c5e8897d989ce984f93528998a7150fe]\n",
       "link E8 to E6--><a href=\"psysml:a975d936-bb91-4b85-9c47-7632192c23c3\" target=\"_top\" title=\"psysml:a975d936-bb91-4b85-9c47-7632192c23c3\" xlink:actuate=\"onRequest\" xlink:href=\"psysml:a975d936-bb91-4b85-9c47-7632192c23c3\" xlink:show=\"new\" xlink:title=\"psysml:a975d936-bb91-4b85-9c47-7632192c23c3\" xlink:type=\"simple\"><path d=\"M106.44,133.76 C97.3,143.01 88.09,154.51 83,167 C77.6,180.23 76.4,195.98 76.73,209.41 \" fill=\"none\" id=\"E8-&gt;E6\" style=\"stroke: #A80036; stroke-width: 1.0; stroke-dasharray: 7.0,7.0;\"/><polygon fill=\"#A80036\" points=\"77.12,217.43,79.7306,209.2946,73.7375,209.584,77.12,217.43\" style=\"stroke: #A80036; stroke-width: 1.0;\"/><text fill=\"#000000\" font-family=\"sans-serif\" font-size=\"13\" lengthAdjust=\"spacingAndGlyphs\" textLength=\"64\" x=\"84\" y=\"180.0669\">«depend»</text></a><!--MD5=[bfa3c8b0d15052fdf50ae9310b491027]\n",
       "link E8 to E7--><a href=\"psysml:a975d936-bb91-4b85-9c47-7632192c23c3\" target=\"_top\" title=\"psysml:a975d936-bb91-4b85-9c47-7632192c23c3\" xlink:actuate=\"onRequest\" xlink:href=\"psysml:a975d936-bb91-4b85-9c47-7632192c23c3\" xlink:show=\"new\" xlink:title=\"psysml:a975d936-bb91-4b85-9c47-7632192c23c3\" xlink:type=\"simple\"><path d=\"M146.58,133.5 C159.69,154.75 179.63,187.05 194.05,210.41 \" fill=\"none\" id=\"E8-&gt;E7\" style=\"stroke: #A80036; stroke-width: 1.0; stroke-dasharray: 7.0,7.0;\"/><polygon fill=\"#A80036\" points=\"198.33,217.35,196.6785,208.9671,191.5737,212.1201,198.33,217.35\" style=\"stroke: #A80036; stroke-width: 1.0;\"/><text fill=\"#000000\" font-family=\"sans-serif\" font-size=\"13\" lengthAdjust=\"spacingAndGlyphs\" textLength=\"64\" x=\"178\" y=\"180.0669\">«depend»</text></a><!--MD5=[550f7b8ee8cb61989fccc8dc6c004f6d]\n",
       "@startuml\r\n",
       " \r\n",
       "package \"DependencyTest\" as E1  [[psysml:430f5b70-8499-4207-b78a-0a401723d15c ]]  {\r\n",
       "package \"System\" as E2  [[psysml:ef80acf8-3bbf-43fc-abea-40efc458e2ed ]]  {\r\n",
       "package \"Application Layer\" as E3  [[psysml:cb2f8149-aa3e-4482-91f3-ed1f7789b4f6 ]]  {\r\n",
       "}\r\n",
       "package \"Service Layer\" as E4  [[psysml:c90fac5e-4b06-46df-8524-0f31fe17b625 ]]  {\r\n",
       "}\r\n",
       "package \"Data Layer\" as E5  [[psysml:5945f028-85af-4284-8707-6581cfe8107d ]]  {\r\n",
       "}\r\n",
       "}\r\n",
       "comp usage \"x\" as E6  <<(U,orange)attribute>> [[psysml:f9adf18b-8dbf-4490-b33d-e9e2045e17b2 ]] {\r\n",
       "}\r\n",
       "comp usage \"y\" as E7  <<(U,orange)attribute>> [[psysml:b3547f0d-a84a-43aa-aeb1-8f3416005562 ]] {\r\n",
       "}\r\n",
       "comp usage \"z\" as E8  <<(U,orange)attribute>> [[psysml:06d3944d-d8a9-41b6-a7dc-ea1875e321b3 ]] {\r\n",
       "}\r\n",
       "E3 ..>> E4 [[psysml:71e7e357-685b-41cb-afa1-92571af689f5 ]] : <<depend>>\r\n",
       "E4 ..>> E5 [[psysml:1107382a-37f6-4d52-8c17-003f9fc0676e ]] : <<depend>>\r\n",
       "E8 ..>> E6 [[psysml:a975d936-bb91-4b85-9c47-7632192c23c3 ]] : <<depend>>\r\n",
       "E8 ..>> E7 [[psysml:a975d936-bb91-4b85-9c47-7632192c23c3 ]] : <<depend>>\r\n",
       "}\r\n",
       "@enduml\r\n",
       "\n",
       "PlantUML version 1.2020.13(Sat Jun 13 12:26:38 UTC 2020)\n",
       "(EPL source distribution)\n",
       "Java Runtime: OpenJDK Runtime Environment\n",
       "JVM: OpenJDK 64-Bit Server VM\n",
       "Default Encoding: UTF-8\n",
       "Language: en\n",
       "Country: null\n",
       "--></g></svg>"
      ]
     },
     "execution_count": 35,
     "metadata": {},
     "output_type": "execute_result"
    }
   ],
   "source": [
    "%viz --style=\"PLANTUML\" --view=\"Sequence\" \"DependencyTest\""
   ]
  },
  {
   "cell_type": "code",
   "execution_count": 36,
   "id": "powerful-universe",
   "metadata": {
    "execution": {
     "iopub.execute_input": "2021-03-25T13:51:45.707970Z",
     "iopub.status.busy": "2021-03-25T13:51:45.707013Z",
     "iopub.status.idle": "2021-03-25T13:51:45.802296Z",
     "shell.execute_reply": "2021-03-25T13:51:45.801592Z"
    }
   },
   "outputs": [
    {
     "data": {
      "image/svg+xml": [
       "<?xml version=\"1.0\" encoding=\"UTF-8\" standalone=\"no\"?><svg xmlns=\"http://www.w3.org/2000/svg\" xmlns:xlink=\"http://www.w3.org/1999/xlink\" contentScriptType=\"application/ecmascript\" contentStyleType=\"text/css\" height=\"449px\" preserveAspectRatio=\"none\" style=\"width:510px;height:449px;\" version=\"1.1\" viewBox=\"0 0 510 449\" width=\"510px\" zoomAndPan=\"magnify\"><defs><filter height=\"300%\" id=\"f1d7owfem8rvnn\" width=\"300%\" x=\"-1\" y=\"-1\"><feGaussianBlur result=\"blurOut\" stdDeviation=\"2.0\"/><feColorMatrix in=\"blurOut\" result=\"blurOut2\" type=\"matrix\" values=\"0 0 0 0 0 0 0 0 0 0 0 0 0 0 0 0 0 0 .4 0\"/><feOffset dx=\"4.0\" dy=\"4.0\" in=\"blurOut2\" result=\"blurOut3\"/><feBlend in=\"SourceGraphic\" in2=\"blurOut3\" mode=\"normal\"/></filter></defs><g><!--MD5=[fbc87193dbaf4d95561dea2c320d4a47]\n",
       "cluster E1--><a href=\"psysml:430f5b70-8499-4207-b78a-0a401723d15c\" target=\"_top\" title=\"psysml:430f5b70-8499-4207-b78a-0a401723d15c\" xlink:actuate=\"onRequest\" xlink:href=\"psysml:430f5b70-8499-4207-b78a-0a401723d15c\" xlink:show=\"new\" xlink:title=\"psysml:430f5b70-8499-4207-b78a-0a401723d15c\" xlink:type=\"simple\"><polygon fill=\"#FFFFFF\" filter=\"url(#f1d7owfem8rvnn)\" points=\"16,6,156,6,163,28.2969,488,28.2969,488,437,16,437,16,6\" style=\"stroke: #000000; stroke-width: 1.5;\"/><line style=\"stroke: #000000; stroke-width: 1.5;\" x1=\"16\" x2=\"163\" y1=\"28.2969\" y2=\"28.2969\"/><text fill=\"#000000\" font-family=\"sans-serif\" font-size=\"14\" font-weight=\"bold\" lengthAdjust=\"spacingAndGlyphs\" textLength=\"134\" x=\"20\" y=\"20.9951\">DependencyTest</text></a><!--MD5=[e4f7fae6ed58524ba242bb0b0d3be6b7]\n",
       "cluster E2--><a href=\"psysml:ef80acf8-3bbf-43fc-abea-40efc458e2ed\" target=\"_top\" title=\"psysml:ef80acf8-3bbf-43fc-abea-40efc458e2ed\" xlink:actuate=\"onRequest\" xlink:href=\"psysml:ef80acf8-3bbf-43fc-abea-40efc458e2ed\" xlink:show=\"new\" xlink:title=\"psysml:ef80acf8-3bbf-43fc-abea-40efc458e2ed\" xlink:type=\"simple\"><polygon fill=\"#FFFFFF\" filter=\"url(#f1d7owfem8rvnn)\" points=\"276,49,340,49,347,71.2969,464,71.2969,464,413,276,413,276,49\" style=\"stroke: #000000; stroke-width: 1.5;\"/><line style=\"stroke: #000000; stroke-width: 1.5;\" x1=\"276\" x2=\"347\" y1=\"71.2969\" y2=\"71.2969\"/><text fill=\"#000000\" font-family=\"sans-serif\" font-size=\"14\" font-weight=\"bold\" lengthAdjust=\"spacingAndGlyphs\" textLength=\"58\" x=\"280\" y=\"63.9951\">System</text></a><!--MD5=[60a26617385b1d2d0262a64233df1f8d]\n",
       "class E6--><a href=\"psysml:f9adf18b-8dbf-4490-b33d-e9e2045e17b2\" target=\"_top\" title=\"psysml:f9adf18b-8dbf-4490-b33d-e9e2045e17b2\" xlink:actuate=\"onRequest\" xlink:href=\"psysml:f9adf18b-8dbf-4490-b33d-e9e2045e17b2\" xlink:show=\"new\" xlink:title=\"psysml:f9adf18b-8dbf-4490-b33d-e9e2045e17b2\" xlink:type=\"simple\"><rect fill=\"#FEFECE\" filter=\"url(#f1d7owfem8rvnn)\" height=\"45.9375\" id=\"E6\" rx=\"10\" ry=\"10\" style=\"stroke: #A80036; stroke-width: 1.5;\" width=\"97\" x=\"31.5\" y=\"217.5\"/><ellipse cx=\"46.5\" cy=\"236.4688\" fill=\"#FFA500\" rx=\"11\" ry=\"11\" style=\"stroke: #A80036; stroke-width: 1.0;\"/><path d=\"M42.375,238.3906 L42.375,230.5781 L44.8281,230.5781 L44.8281,239.0156 Q44.8281,239.9375 45.2969,240.4688 Q45.7813,241 46.6094,241 Q47.4531,241 47.9219,240.4688 Q48.3906,239.9375 48.3906,239.0156 L48.3906,230.5781 L50.8438,230.5781 L50.8438,238.3906 Q50.8438,240.9219 49.8438,242.0625 Q48.8438,243.2031 46.6094,243.2031 Q44.3906,243.2031 43.375,242.0625 Q42.375,240.9219 42.375,238.3906 Z \"/><text fill=\"#000000\" font-family=\"sans-serif\" font-size=\"12\" font-style=\"italic\" lengthAdjust=\"spacingAndGlyphs\" textLength=\"69\" x=\"58.5\" y=\"233.6387\">«attribute»</text><text fill=\"#000000\" font-family=\"sans-serif\" font-size=\"12\" lengthAdjust=\"spacingAndGlyphs\" textLength=\"6\" x=\"90\" y=\"247.6074\">x</text><line style=\"stroke: #A80036; stroke-width: 1.5;\" x1=\"32.5\" x2=\"127.5\" y1=\"255.4375\" y2=\"255.4375\"/></a><!--MD5=[2156ba9850f5573cc1fc38a6a4b2f02b]\n",
       "class E7--><a href=\"psysml:b3547f0d-a84a-43aa-aeb1-8f3416005562\" target=\"_top\" title=\"psysml:b3547f0d-a84a-43aa-aeb1-8f3416005562\" xlink:actuate=\"onRequest\" xlink:href=\"psysml:b3547f0d-a84a-43aa-aeb1-8f3416005562\" xlink:show=\"new\" xlink:title=\"psysml:b3547f0d-a84a-43aa-aeb1-8f3416005562\" xlink:type=\"simple\"><rect fill=\"#FEFECE\" filter=\"url(#f1d7owfem8rvnn)\" height=\"45.9375\" id=\"E7\" rx=\"10\" ry=\"10\" style=\"stroke: #A80036; stroke-width: 1.5;\" width=\"97\" x=\"163.5\" y=\"217.5\"/><ellipse cx=\"178.5\" cy=\"236.4688\" fill=\"#FFA500\" rx=\"11\" ry=\"11\" style=\"stroke: #A80036; stroke-width: 1.0;\"/><path d=\"M174.375,238.3906 L174.375,230.5781 L176.8281,230.5781 L176.8281,239.0156 Q176.8281,239.9375 177.2969,240.4688 Q177.7813,241 178.6094,241 Q179.4531,241 179.9219,240.4688 Q180.3906,239.9375 180.3906,239.0156 L180.3906,230.5781 L182.8438,230.5781 L182.8438,238.3906 Q182.8438,240.9219 181.8438,242.0625 Q180.8438,243.2031 178.6094,243.2031 Q176.3906,243.2031 175.375,242.0625 Q174.375,240.9219 174.375,238.3906 Z \"/><text fill=\"#000000\" font-family=\"sans-serif\" font-size=\"12\" font-style=\"italic\" lengthAdjust=\"spacingAndGlyphs\" textLength=\"69\" x=\"190.5\" y=\"233.6387\">«attribute»</text><text fill=\"#000000\" font-family=\"sans-serif\" font-size=\"12\" lengthAdjust=\"spacingAndGlyphs\" textLength=\"6\" x=\"222\" y=\"247.6074\">y</text><line style=\"stroke: #A80036; stroke-width: 1.5;\" x1=\"164.5\" x2=\"259.5\" y1=\"255.4375\" y2=\"255.4375\"/></a><!--MD5=[b9389687b975829384b498ac4b7476b2]\n",
       "class E8--><a href=\"psysml:06d3944d-d8a9-41b6-a7dc-ea1875e321b3\" target=\"_top\" title=\"psysml:06d3944d-d8a9-41b6-a7dc-ea1875e321b3\" xlink:actuate=\"onRequest\" xlink:href=\"psysml:06d3944d-d8a9-41b6-a7dc-ea1875e321b3\" xlink:show=\"new\" xlink:title=\"psysml:06d3944d-d8a9-41b6-a7dc-ea1875e321b3\" xlink:type=\"simple\"><rect fill=\"#FEFECE\" filter=\"url(#f1d7owfem8rvnn)\" height=\"45.9375\" id=\"E8\" rx=\"10\" ry=\"10\" style=\"stroke: #A80036; stroke-width: 1.5;\" width=\"97\" x=\"84.5\" y=\"87.5\"/><ellipse cx=\"99.5\" cy=\"106.4688\" fill=\"#FFA500\" rx=\"11\" ry=\"11\" style=\"stroke: #A80036; stroke-width: 1.0;\"/><path d=\"M95.375,108.3906 L95.375,100.5781 L97.8281,100.5781 L97.8281,109.0156 Q97.8281,109.9375 98.2969,110.4688 Q98.7813,111 99.6094,111 Q100.4531,111 100.9219,110.4688 Q101.3906,109.9375 101.3906,109.0156 L101.3906,100.5781 L103.8438,100.5781 L103.8438,108.3906 Q103.8438,110.9219 102.8438,112.0625 Q101.8438,113.2031 99.6094,113.2031 Q97.3906,113.2031 96.375,112.0625 Q95.375,110.9219 95.375,108.3906 Z \"/><text fill=\"#000000\" font-family=\"sans-serif\" font-size=\"12\" font-style=\"italic\" lengthAdjust=\"spacingAndGlyphs\" textLength=\"69\" x=\"111.5\" y=\"103.6387\">«attribute»</text><text fill=\"#000000\" font-family=\"sans-serif\" font-size=\"12\" lengthAdjust=\"spacingAndGlyphs\" textLength=\"5\" x=\"143.5\" y=\"117.6074\">z</text><line style=\"stroke: #A80036; stroke-width: 1.5;\" x1=\"85.5\" x2=\"180.5\" y1=\"125.4375\" y2=\"125.4375\"/></a><a href=\"psysml:cb2f8149-aa3e-4482-91f3-ed1f7789b4f6\" target=\"_top\" title=\"psysml:cb2f8149-aa3e-4482-91f3-ed1f7789b4f6\" xlink:actuate=\"onRequest\" xlink:href=\"psysml:cb2f8149-aa3e-4482-91f3-ed1f7789b4f6\" xlink:show=\"new\" xlink:title=\"psysml:cb2f8149-aa3e-4482-91f3-ed1f7789b4f6\" xlink:type=\"simple\"><polygon fill=\"#FFFFFF\" filter=\"url(#f1d7owfem8rvnn)\" points=\"292,84,434,84,441,106.2969,448,106.2969,448,136.5938,292,136.5938,292,84\" style=\"stroke: #000000; stroke-width: 1.5;\"/><line style=\"stroke: #000000; stroke-width: 1.5;\" x1=\"292\" x2=\"441\" y1=\"106.2969\" y2=\"106.2969\"/><text fill=\"#000000\" font-family=\"sans-serif\" font-size=\"14\" font-weight=\"bold\" lengthAdjust=\"spacingAndGlyphs\" textLength=\"136\" x=\"296\" y=\"98.9951\">Application Layer</text></a><a href=\"psysml:c90fac5e-4b06-46df-8524-0f31fe17b625\" target=\"_top\" title=\"psysml:c90fac5e-4b06-46df-8524-0f31fe17b625\" xlink:actuate=\"onRequest\" xlink:href=\"psysml:c90fac5e-4b06-46df-8524-0f31fe17b625\" xlink:show=\"new\" xlink:title=\"psysml:c90fac5e-4b06-46df-8524-0f31fe17b625\" xlink:type=\"simple\"><polygon fill=\"#FFFFFF\" filter=\"url(#f1d7owfem8rvnn)\" points=\"306,214,420,214,427,236.2969,434,236.2969,434,266.5938,306,266.5938,306,214\" style=\"stroke: #000000; stroke-width: 1.5;\"/><line style=\"stroke: #000000; stroke-width: 1.5;\" x1=\"306\" x2=\"427\" y1=\"236.2969\" y2=\"236.2969\"/><text fill=\"#000000\" font-family=\"sans-serif\" font-size=\"14\" font-weight=\"bold\" lengthAdjust=\"spacingAndGlyphs\" textLength=\"108\" x=\"310\" y=\"228.9951\">Service Layer</text></a><a href=\"psysml:5945f028-85af-4284-8707-6581cfe8107d\" target=\"_top\" title=\"psysml:5945f028-85af-4284-8707-6581cfe8107d\" xlink:actuate=\"onRequest\" xlink:href=\"psysml:5945f028-85af-4284-8707-6581cfe8107d\" xlink:show=\"new\" xlink:title=\"psysml:5945f028-85af-4284-8707-6581cfe8107d\" xlink:type=\"simple\"><polygon fill=\"#FFFFFF\" filter=\"url(#f1d7owfem8rvnn)\" points=\"318,344,408,344,415,366.2969,422,366.2969,422,396.5938,318,396.5938,318,344\" style=\"stroke: #000000; stroke-width: 1.5;\"/><line style=\"stroke: #000000; stroke-width: 1.5;\" x1=\"318\" x2=\"415\" y1=\"366.2969\" y2=\"366.2969\"/><text fill=\"#000000\" font-family=\"sans-serif\" font-size=\"14\" font-weight=\"bold\" lengthAdjust=\"spacingAndGlyphs\" textLength=\"84\" x=\"322\" y=\"358.9951\">Data Layer</text></a><!--MD5=[af87c684e3b0d8be13c1a698a818ef1e]\n",
       "link E3 to E4--><a href=\"psysml:71e7e357-685b-41cb-afa1-92571af689f5\" target=\"_top\" title=\"psysml:71e7e357-685b-41cb-afa1-92571af689f5\" xlink:actuate=\"onRequest\" xlink:href=\"psysml:71e7e357-685b-41cb-afa1-92571af689f5\" xlink:show=\"new\" xlink:title=\"psysml:71e7e357-685b-41cb-afa1-92571af689f5\" xlink:type=\"simple\"><path d=\"M370,137.1 C370,156.8 370,184.22 370,205.73 \" fill=\"none\" id=\"E3-&gt;E4\" style=\"stroke: #A80036; stroke-width: 1.0; stroke-dasharray: 7.0,7.0;\"/><polygon fill=\"#A80036\" points=\"370,213.95,373,205.95,367,205.95,370,213.95\" style=\"stroke: #A80036; stroke-width: 1.0;\"/><text fill=\"#000000\" font-family=\"sans-serif\" font-size=\"13\" lengthAdjust=\"spacingAndGlyphs\" textLength=\"64\" x=\"371\" y=\"180.0669\">«depend»</text></a><!--MD5=[1b7591eae5389033d8d09a9d6721a717]\n",
       "link E4 to E5--><a href=\"psysml:1107382a-37f6-4d52-8c17-003f9fc0676e\" target=\"_top\" title=\"psysml:1107382a-37f6-4d52-8c17-003f9fc0676e\" xlink:actuate=\"onRequest\" xlink:href=\"psysml:1107382a-37f6-4d52-8c17-003f9fc0676e\" xlink:show=\"new\" xlink:title=\"psysml:1107382a-37f6-4d52-8c17-003f9fc0676e\" xlink:type=\"simple\"><path d=\"M370,267.1 C370,286.8 370,314.22 370,335.73 \" fill=\"none\" id=\"E4-&gt;E5\" style=\"stroke: #A80036; stroke-width: 1.0; stroke-dasharray: 7.0,7.0;\"/><polygon fill=\"#A80036\" points=\"370,343.95,373,335.95,367,335.95,370,343.95\" style=\"stroke: #A80036; stroke-width: 1.0;\"/><text fill=\"#000000\" font-family=\"sans-serif\" font-size=\"13\" lengthAdjust=\"spacingAndGlyphs\" textLength=\"64\" x=\"371\" y=\"310.0669\">«depend»</text></a><!--MD5=[c5e8897d989ce984f93528998a7150fe]\n",
       "link E8 to E6--><a href=\"psysml:a975d936-bb91-4b85-9c47-7632192c23c3\" target=\"_top\" title=\"psysml:a975d936-bb91-4b85-9c47-7632192c23c3\" xlink:actuate=\"onRequest\" xlink:href=\"psysml:a975d936-bb91-4b85-9c47-7632192c23c3\" xlink:show=\"new\" xlink:title=\"psysml:a975d936-bb91-4b85-9c47-7632192c23c3\" xlink:type=\"simple\"><path d=\"M106.44,133.76 C97.3,143.01 88.09,154.51 83,167 C77.6,180.23 76.4,195.98 76.73,209.41 \" fill=\"none\" id=\"E8-&gt;E6\" style=\"stroke: #A80036; stroke-width: 1.0; stroke-dasharray: 7.0,7.0;\"/><polygon fill=\"#A80036\" points=\"77.12,217.43,79.7306,209.2946,73.7375,209.584,77.12,217.43\" style=\"stroke: #A80036; stroke-width: 1.0;\"/><text fill=\"#000000\" font-family=\"sans-serif\" font-size=\"13\" lengthAdjust=\"spacingAndGlyphs\" textLength=\"64\" x=\"84\" y=\"180.0669\">«depend»</text></a><!--MD5=[bfa3c8b0d15052fdf50ae9310b491027]\n",
       "link E8 to E7--><a href=\"psysml:a975d936-bb91-4b85-9c47-7632192c23c3\" target=\"_top\" title=\"psysml:a975d936-bb91-4b85-9c47-7632192c23c3\" xlink:actuate=\"onRequest\" xlink:href=\"psysml:a975d936-bb91-4b85-9c47-7632192c23c3\" xlink:show=\"new\" xlink:title=\"psysml:a975d936-bb91-4b85-9c47-7632192c23c3\" xlink:type=\"simple\"><path d=\"M146.58,133.5 C159.69,154.75 179.63,187.05 194.05,210.41 \" fill=\"none\" id=\"E8-&gt;E7\" style=\"stroke: #A80036; stroke-width: 1.0; stroke-dasharray: 7.0,7.0;\"/><polygon fill=\"#A80036\" points=\"198.33,217.35,196.6785,208.9671,191.5737,212.1201,198.33,217.35\" style=\"stroke: #A80036; stroke-width: 1.0;\"/><text fill=\"#000000\" font-family=\"sans-serif\" font-size=\"13\" lengthAdjust=\"spacingAndGlyphs\" textLength=\"64\" x=\"178\" y=\"180.0669\">«depend»</text></a><!--MD5=[550f7b8ee8cb61989fccc8dc6c004f6d]\n",
       "@startuml\r\n",
       " \r\n",
       "package \"DependencyTest\" as E1  [[psysml:430f5b70-8499-4207-b78a-0a401723d15c ]]  {\r\n",
       "package \"System\" as E2  [[psysml:ef80acf8-3bbf-43fc-abea-40efc458e2ed ]]  {\r\n",
       "package \"Application Layer\" as E3  [[psysml:cb2f8149-aa3e-4482-91f3-ed1f7789b4f6 ]]  {\r\n",
       "}\r\n",
       "package \"Service Layer\" as E4  [[psysml:c90fac5e-4b06-46df-8524-0f31fe17b625 ]]  {\r\n",
       "}\r\n",
       "package \"Data Layer\" as E5  [[psysml:5945f028-85af-4284-8707-6581cfe8107d ]]  {\r\n",
       "}\r\n",
       "}\r\n",
       "comp usage \"x\" as E6  <<(U,orange)attribute>> [[psysml:f9adf18b-8dbf-4490-b33d-e9e2045e17b2 ]] {\r\n",
       "}\r\n",
       "comp usage \"y\" as E7  <<(U,orange)attribute>> [[psysml:b3547f0d-a84a-43aa-aeb1-8f3416005562 ]] {\r\n",
       "}\r\n",
       "comp usage \"z\" as E8  <<(U,orange)attribute>> [[psysml:06d3944d-d8a9-41b6-a7dc-ea1875e321b3 ]] {\r\n",
       "}\r\n",
       "E3 ..>> E4 [[psysml:71e7e357-685b-41cb-afa1-92571af689f5 ]] : <<depend>>\r\n",
       "E4 ..>> E5 [[psysml:1107382a-37f6-4d52-8c17-003f9fc0676e ]] : <<depend>>\r\n",
       "E8 ..>> E6 [[psysml:a975d936-bb91-4b85-9c47-7632192c23c3 ]] : <<depend>>\r\n",
       "E8 ..>> E7 [[psysml:a975d936-bb91-4b85-9c47-7632192c23c3 ]] : <<depend>>\r\n",
       "}\r\n",
       "@enduml\r\n",
       "\n",
       "PlantUML version 1.2020.13(Sat Jun 13 12:26:38 UTC 2020)\n",
       "(EPL source distribution)\n",
       "Java Runtime: OpenJDK Runtime Environment\n",
       "JVM: OpenJDK 64-Bit Server VM\n",
       "Default Encoding: UTF-8\n",
       "Language: en\n",
       "Country: null\n",
       "--></g></svg>"
      ]
     },
     "execution_count": 36,
     "metadata": {},
     "output_type": "execute_result"
    }
   ],
   "source": [
    "%viz --style=\"PLANTUML\" --view=\"MIXED\" \"DependencyTest\""
   ]
  },
  {
   "cell_type": "code",
   "execution_count": 37,
   "id": "several-murder",
   "metadata": {
    "execution": {
     "iopub.execute_input": "2021-03-25T13:51:45.853883Z",
     "iopub.status.busy": "2021-03-25T13:51:45.853349Z",
     "iopub.status.idle": "2021-03-25T13:51:45.949694Z",
     "shell.execute_reply": "2021-03-25T13:51:45.948087Z"
    }
   },
   "outputs": [
    {
     "data": {
      "image/svg+xml": [
       "<?xml version=\"1.0\" encoding=\"UTF-8\" standalone=\"no\"?><svg xmlns=\"http://www.w3.org/2000/svg\" xmlns:xlink=\"http://www.w3.org/1999/xlink\" contentScriptType=\"application/ecmascript\" contentStyleType=\"text/css\" height=\"449px\" preserveAspectRatio=\"none\" style=\"width:489px;height:449px;\" version=\"1.1\" viewBox=\"0 0 489 449\" width=\"489px\" zoomAndPan=\"magnify\"><defs/><g><!--MD5=[fbc87193dbaf4d95561dea2c320d4a47]\n",
       "cluster E1--><a href=\"psysml:430f5b70-8499-4207-b78a-0a401723d15c\" target=\"_top\" title=\"psysml:430f5b70-8499-4207-b78a-0a401723d15c\" xlink:actuate=\"onRequest\" xlink:href=\"psysml:430f5b70-8499-4207-b78a-0a401723d15c\" xlink:show=\"new\" xlink:title=\"psysml:430f5b70-8499-4207-b78a-0a401723d15c\" xlink:type=\"simple\"><polygon fill=\"#FFFFFF\" points=\"16,6,156,6,163,28.2969,467,28.2969,467,437,16,437,16,6\" style=\"stroke: #000000; stroke-width: 1.5;\"/><line style=\"stroke: #000000; stroke-width: 1.5;\" x1=\"16\" x2=\"163\" y1=\"28.2969\" y2=\"28.2969\"/><text fill=\"#000000\" font-family=\"sans-serif\" font-size=\"14\" font-weight=\"bold\" lengthAdjust=\"spacingAndGlyphs\" textLength=\"134\" x=\"20\" y=\"20.9951\">DependencyTest</text></a><!--MD5=[e4f7fae6ed58524ba242bb0b0d3be6b7]\n",
       "cluster E2--><a href=\"psysml:ef80acf8-3bbf-43fc-abea-40efc458e2ed\" target=\"_top\" title=\"psysml:ef80acf8-3bbf-43fc-abea-40efc458e2ed\" xlink:actuate=\"onRequest\" xlink:href=\"psysml:ef80acf8-3bbf-43fc-abea-40efc458e2ed\" xlink:show=\"new\" xlink:title=\"psysml:ef80acf8-3bbf-43fc-abea-40efc458e2ed\" xlink:type=\"simple\"><polygon fill=\"#FFFFFF\" points=\"255,49,319,49,326,71.2969,443,71.2969,443,413,255,413,255,49\" style=\"stroke: #000000; stroke-width: 1.5;\"/><line style=\"stroke: #000000; stroke-width: 1.5;\" x1=\"255\" x2=\"326\" y1=\"71.2969\" y2=\"71.2969\"/><text fill=\"#000000\" font-family=\"sans-serif\" font-size=\"14\" font-weight=\"bold\" lengthAdjust=\"spacingAndGlyphs\" textLength=\"58\" x=\"259\" y=\"63.9951\">System</text></a><!--MD5=[60a26617385b1d2d0262a64233df1f8d]\n",
       "class E6--><a href=\"psysml:f9adf18b-8dbf-4490-b33d-e9e2045e17b2\" target=\"_top\" title=\"psysml:f9adf18b-8dbf-4490-b33d-e9e2045e17b2\" xlink:actuate=\"onRequest\" xlink:href=\"psysml:f9adf18b-8dbf-4490-b33d-e9e2045e17b2\" xlink:show=\"new\" xlink:title=\"psysml:f9adf18b-8dbf-4490-b33d-e9e2045e17b2\" xlink:type=\"simple\"><rect fill=\"#FFFFFF\" height=\"45.9375\" id=\"E6\" rx=\"10\" ry=\"10\" style=\"stroke: #383838; stroke-width: 1.5;\" width=\"71\" x=\"32.5\" y=\"217.5\"/><text fill=\"#000000\" font-family=\"sans-serif\" font-size=\"12\" font-style=\"italic\" lengthAdjust=\"spacingAndGlyphs\" textLength=\"69\" x=\"33.5\" y=\"233.6387\">«attribute»</text><text fill=\"#000000\" font-family=\"sans-serif\" font-size=\"12\" lengthAdjust=\"spacingAndGlyphs\" textLength=\"6\" x=\"65\" y=\"247.6074\">x</text><line style=\"stroke: #383838; stroke-width: 1.5;\" x1=\"33.5\" x2=\"102.5\" y1=\"255.4375\" y2=\"255.4375\"/></a><!--MD5=[2156ba9850f5573cc1fc38a6a4b2f02b]\n",
       "class E7--><a href=\"psysml:b3547f0d-a84a-43aa-aeb1-8f3416005562\" target=\"_top\" title=\"psysml:b3547f0d-a84a-43aa-aeb1-8f3416005562\" xlink:actuate=\"onRequest\" xlink:href=\"psysml:b3547f0d-a84a-43aa-aeb1-8f3416005562\" xlink:show=\"new\" xlink:title=\"psysml:b3547f0d-a84a-43aa-aeb1-8f3416005562\" xlink:type=\"simple\"><rect fill=\"#FFFFFF\" height=\"45.9375\" id=\"E7\" rx=\"10\" ry=\"10\" style=\"stroke: #383838; stroke-width: 1.5;\" width=\"71\" x=\"138.5\" y=\"217.5\"/><text fill=\"#000000\" font-family=\"sans-serif\" font-size=\"12\" font-style=\"italic\" lengthAdjust=\"spacingAndGlyphs\" textLength=\"69\" x=\"139.5\" y=\"233.6387\">«attribute»</text><text fill=\"#000000\" font-family=\"sans-serif\" font-size=\"12\" lengthAdjust=\"spacingAndGlyphs\" textLength=\"6\" x=\"171\" y=\"247.6074\">y</text><line style=\"stroke: #383838; stroke-width: 1.5;\" x1=\"139.5\" x2=\"208.5\" y1=\"255.4375\" y2=\"255.4375\"/></a><!--MD5=[b9389687b975829384b498ac4b7476b2]\n",
       "class E8--><a href=\"psysml:06d3944d-d8a9-41b6-a7dc-ea1875e321b3\" target=\"_top\" title=\"psysml:06d3944d-d8a9-41b6-a7dc-ea1875e321b3\" xlink:actuate=\"onRequest\" xlink:href=\"psysml:06d3944d-d8a9-41b6-a7dc-ea1875e321b3\" xlink:show=\"new\" xlink:title=\"psysml:06d3944d-d8a9-41b6-a7dc-ea1875e321b3\" xlink:type=\"simple\"><rect fill=\"#FFFFFF\" height=\"45.9375\" id=\"E8\" rx=\"10\" ry=\"10\" style=\"stroke: #383838; stroke-width: 1.5;\" width=\"71\" x=\"84.5\" y=\"87.5\"/><text fill=\"#000000\" font-family=\"sans-serif\" font-size=\"12\" font-style=\"italic\" lengthAdjust=\"spacingAndGlyphs\" textLength=\"69\" x=\"85.5\" y=\"103.6387\">«attribute»</text><text fill=\"#000000\" font-family=\"sans-serif\" font-size=\"12\" lengthAdjust=\"spacingAndGlyphs\" textLength=\"5\" x=\"117.5\" y=\"117.6074\">z</text><line style=\"stroke: #383838; stroke-width: 1.5;\" x1=\"85.5\" x2=\"154.5\" y1=\"125.4375\" y2=\"125.4375\"/></a><a href=\"psysml:cb2f8149-aa3e-4482-91f3-ed1f7789b4f6\" target=\"_top\" title=\"psysml:cb2f8149-aa3e-4482-91f3-ed1f7789b4f6\" xlink:actuate=\"onRequest\" xlink:href=\"psysml:cb2f8149-aa3e-4482-91f3-ed1f7789b4f6\" xlink:show=\"new\" xlink:title=\"psysml:cb2f8149-aa3e-4482-91f3-ed1f7789b4f6\" xlink:type=\"simple\"><polygon fill=\"#FFFFFF\" points=\"271,84,413,84,420,106.2969,427,106.2969,427,136.5938,271,136.5938,271,84\" style=\"stroke: #000000; stroke-width: 1.5;\"/><line style=\"stroke: #000000; stroke-width: 1.5;\" x1=\"271\" x2=\"420\" y1=\"106.2969\" y2=\"106.2969\"/><text fill=\"#000000\" font-family=\"sans-serif\" font-size=\"14\" font-weight=\"bold\" lengthAdjust=\"spacingAndGlyphs\" textLength=\"136\" x=\"275\" y=\"98.9951\">Application Layer</text></a><a href=\"psysml:c90fac5e-4b06-46df-8524-0f31fe17b625\" target=\"_top\" title=\"psysml:c90fac5e-4b06-46df-8524-0f31fe17b625\" xlink:actuate=\"onRequest\" xlink:href=\"psysml:c90fac5e-4b06-46df-8524-0f31fe17b625\" xlink:show=\"new\" xlink:title=\"psysml:c90fac5e-4b06-46df-8524-0f31fe17b625\" xlink:type=\"simple\"><polygon fill=\"#FFFFFF\" points=\"285,214,399,214,406,236.2969,413,236.2969,413,266.5938,285,266.5938,285,214\" style=\"stroke: #000000; stroke-width: 1.5;\"/><line style=\"stroke: #000000; stroke-width: 1.5;\" x1=\"285\" x2=\"406\" y1=\"236.2969\" y2=\"236.2969\"/><text fill=\"#000000\" font-family=\"sans-serif\" font-size=\"14\" font-weight=\"bold\" lengthAdjust=\"spacingAndGlyphs\" textLength=\"108\" x=\"289\" y=\"228.9951\">Service Layer</text></a><a href=\"psysml:5945f028-85af-4284-8707-6581cfe8107d\" target=\"_top\" title=\"psysml:5945f028-85af-4284-8707-6581cfe8107d\" xlink:actuate=\"onRequest\" xlink:href=\"psysml:5945f028-85af-4284-8707-6581cfe8107d\" xlink:show=\"new\" xlink:title=\"psysml:5945f028-85af-4284-8707-6581cfe8107d\" xlink:type=\"simple\"><polygon fill=\"#FFFFFF\" points=\"297,344,387,344,394,366.2969,401,366.2969,401,396.5938,297,396.5938,297,344\" style=\"stroke: #000000; stroke-width: 1.5;\"/><line style=\"stroke: #000000; stroke-width: 1.5;\" x1=\"297\" x2=\"394\" y1=\"366.2969\" y2=\"366.2969\"/><text fill=\"#000000\" font-family=\"sans-serif\" font-size=\"14\" font-weight=\"bold\" lengthAdjust=\"spacingAndGlyphs\" textLength=\"84\" x=\"301\" y=\"358.9951\">Data Layer</text></a><!--MD5=[af87c684e3b0d8be13c1a698a818ef1e]\n",
       "link E3 to E4--><a href=\"psysml:71e7e357-685b-41cb-afa1-92571af689f5\" target=\"_top\" title=\"psysml:71e7e357-685b-41cb-afa1-92571af689f5\" xlink:actuate=\"onRequest\" xlink:href=\"psysml:71e7e357-685b-41cb-afa1-92571af689f5\" xlink:show=\"new\" xlink:title=\"psysml:71e7e357-685b-41cb-afa1-92571af689f5\" xlink:type=\"simple\"><path d=\"M349,137.1 C349,156.8 349,184.22 349,205.73 \" fill=\"none\" id=\"E3-&gt;E4\" style=\"stroke: #383838; stroke-width: 1.0; stroke-dasharray: 7.0,7.0;\"/><polygon fill=\"#383838\" points=\"349,213.95,352,205.95,346,205.95,349,213.95\" style=\"stroke: #383838; stroke-width: 1.0;\"/><text fill=\"#000000\" font-family=\"sans-serif\" font-size=\"13\" lengthAdjust=\"spacingAndGlyphs\" textLength=\"64\" x=\"350\" y=\"180.0669\">«depend»</text></a><!--MD5=[1b7591eae5389033d8d09a9d6721a717]\n",
       "link E4 to E5--><a href=\"psysml:1107382a-37f6-4d52-8c17-003f9fc0676e\" target=\"_top\" title=\"psysml:1107382a-37f6-4d52-8c17-003f9fc0676e\" xlink:actuate=\"onRequest\" xlink:href=\"psysml:1107382a-37f6-4d52-8c17-003f9fc0676e\" xlink:show=\"new\" xlink:title=\"psysml:1107382a-37f6-4d52-8c17-003f9fc0676e\" xlink:type=\"simple\"><path d=\"M349,267.1 C349,286.8 349,314.22 349,335.73 \" fill=\"none\" id=\"E4-&gt;E5\" style=\"stroke: #383838; stroke-width: 1.0; stroke-dasharray: 7.0,7.0;\"/><polygon fill=\"#383838\" points=\"349,343.95,352,335.95,346,335.95,349,343.95\" style=\"stroke: #383838; stroke-width: 1.0;\"/><text fill=\"#000000\" font-family=\"sans-serif\" font-size=\"13\" lengthAdjust=\"spacingAndGlyphs\" textLength=\"64\" x=\"350\" y=\"310.0669\">«depend»</text></a><!--MD5=[c5e8897d989ce984f93528998a7150fe]\n",
       "link E8 to E6--><a href=\"psysml:a975d936-bb91-4b85-9c47-7632192c23c3\" target=\"_top\" title=\"psysml:a975d936-bb91-4b85-9c47-7632192c23c3\" xlink:actuate=\"onRequest\" xlink:href=\"psysml:a975d936-bb91-4b85-9c47-7632192c23c3\" xlink:show=\"new\" xlink:title=\"psysml:a975d936-bb91-4b85-9c47-7632192c23c3\" xlink:type=\"simple\"><path d=\"M89.42,133.6 C79.35,142.68 69.37,154.11 64,167 C58.5,180.2 58.66,195.94 60.54,209.38 \" fill=\"none\" id=\"E8-&gt;E6\" style=\"stroke: #383838; stroke-width: 1.0; stroke-dasharray: 7.0,7.0;\"/><polygon fill=\"#383838\" points=\"61.9,217.4,63.517,209.0104,57.6018,210.0159,61.9,217.4\" style=\"stroke: #383838; stroke-width: 1.0;\"/><text fill=\"#000000\" font-family=\"sans-serif\" font-size=\"13\" lengthAdjust=\"spacingAndGlyphs\" textLength=\"64\" x=\"65\" y=\"180.0669\">«depend»</text></a><!--MD5=[bfa3c8b0d15052fdf50ae9310b491027]\n",
       "link E8 to E7--><a href=\"psysml:a975d936-bb91-4b85-9c47-7632192c23c3\" target=\"_top\" title=\"psysml:a975d936-bb91-4b85-9c47-7632192c23c3\" xlink:actuate=\"onRequest\" xlink:href=\"psysml:a975d936-bb91-4b85-9c47-7632192c23c3\" xlink:show=\"new\" xlink:title=\"psysml:a975d936-bb91-4b85-9c47-7632192c23c3\" xlink:type=\"simple\"><path d=\"M129.28,133.5 C138.17,154.57 151.64,186.5 161.47,209.81 \" fill=\"none\" id=\"E8-&gt;E7\" style=\"stroke: #383838; stroke-width: 1.0; stroke-dasharray: 7.0,7.0;\"/><polygon fill=\"#383838\" points=\"164.66,217.35,164.3241,208.8126,158.7933,211.1385,164.66,217.35\" style=\"stroke: #383838; stroke-width: 1.0;\"/><text fill=\"#000000\" font-family=\"sans-serif\" font-size=\"13\" lengthAdjust=\"spacingAndGlyphs\" textLength=\"64\" x=\"151\" y=\"180.0669\">«depend»</text></a><!--MD5=[18e516a5b6a41a63527782b3fa4af72e]\n",
       "@startuml\r\n",
       "skinparam monochrome true\r\n",
       "skinparam classbackgroundcolor white\r\n",
       "skinparam shadowing false\r\n",
       "skinparam wrapWidth 300\r\n",
       "hide circle\r\n",
       "\r\n",
       "package \"DependencyTest\" as E1  [[psysml:430f5b70-8499-4207-b78a-0a401723d15c ]]  {\r\n",
       "package \"System\" as E2  [[psysml:ef80acf8-3bbf-43fc-abea-40efc458e2ed ]]  {\r\n",
       "package \"Application Layer\" as E3  [[psysml:cb2f8149-aa3e-4482-91f3-ed1f7789b4f6 ]]  {\r\n",
       "}\r\n",
       "package \"Service Layer\" as E4  [[psysml:c90fac5e-4b06-46df-8524-0f31fe17b625 ]]  {\r\n",
       "}\r\n",
       "package \"Data Layer\" as E5  [[psysml:5945f028-85af-4284-8707-6581cfe8107d ]]  {\r\n",
       "}\r\n",
       "}\r\n",
       "comp usage \"x\" as E6  <<(T,blue)attribute>> [[psysml:f9adf18b-8dbf-4490-b33d-e9e2045e17b2 ]] {\r\n",
       "}\r\n",
       "comp usage \"y\" as E7  <<(T,blue)attribute>> [[psysml:b3547f0d-a84a-43aa-aeb1-8f3416005562 ]] {\r\n",
       "}\r\n",
       "comp usage \"z\" as E8  <<(T,blue)attribute>> [[psysml:06d3944d-d8a9-41b6-a7dc-ea1875e321b3 ]] {\r\n",
       "}\r\n",
       "E3 ..>> E4 [[psysml:71e7e357-685b-41cb-afa1-92571af689f5 ]] : <<depend>>\r\n",
       "E4 ..>> E5 [[psysml:1107382a-37f6-4d52-8c17-003f9fc0676e ]] : <<depend>>\r\n",
       "E8 ..>> E6 [[psysml:a975d936-bb91-4b85-9c47-7632192c23c3 ]] : <<depend>>\r\n",
       "E8 ..>> E7 [[psysml:a975d936-bb91-4b85-9c47-7632192c23c3 ]] : <<depend>>\r\n",
       "}\r\n",
       "@enduml\r\n",
       "\n",
       "PlantUML version 1.2020.13(Sat Jun 13 12:26:38 UTC 2020)\n",
       "(EPL source distribution)\n",
       "Java Runtime: OpenJDK Runtime Environment\n",
       "JVM: OpenJDK 64-Bit Server VM\n",
       "Default Encoding: UTF-8\n",
       "Language: en\n",
       "Country: null\n",
       "--></g></svg>"
      ]
     },
     "execution_count": 37,
     "metadata": {},
     "output_type": "execute_result"
    }
   ],
   "source": [
    "%viz --style=\"DEFAULT\" --view=\"Default\" \"DependencyTest\""
   ]
  },
  {
   "cell_type": "code",
   "execution_count": 38,
   "id": "skilled-courtesy",
   "metadata": {
    "execution": {
     "iopub.execute_input": "2021-03-25T13:51:46.001644Z",
     "iopub.status.busy": "2021-03-25T13:51:46.000950Z",
     "iopub.status.idle": "2021-03-25T13:51:46.098591Z",
     "shell.execute_reply": "2021-03-25T13:51:46.096927Z"
    }
   },
   "outputs": [
    {
     "data": {
      "image/svg+xml": [
       "<?xml version=\"1.0\" encoding=\"UTF-8\" standalone=\"no\"?><svg xmlns=\"http://www.w3.org/2000/svg\" xmlns:xlink=\"http://www.w3.org/1999/xlink\" contentScriptType=\"application/ecmascript\" contentStyleType=\"text/css\" height=\"449px\" preserveAspectRatio=\"none\" style=\"width:489px;height:449px;\" version=\"1.1\" viewBox=\"0 0 489 449\" width=\"489px\" zoomAndPan=\"magnify\"><defs/><g><!--MD5=[fbc87193dbaf4d95561dea2c320d4a47]\n",
       "cluster E1--><a href=\"psysml:430f5b70-8499-4207-b78a-0a401723d15c\" target=\"_top\" title=\"psysml:430f5b70-8499-4207-b78a-0a401723d15c\" xlink:actuate=\"onRequest\" xlink:href=\"psysml:430f5b70-8499-4207-b78a-0a401723d15c\" xlink:show=\"new\" xlink:title=\"psysml:430f5b70-8499-4207-b78a-0a401723d15c\" xlink:type=\"simple\"><polygon fill=\"#FFFFFF\" points=\"16,6,156,6,163,28.2969,467,28.2969,467,437,16,437,16,6\" style=\"stroke: #000000; stroke-width: 1.5;\"/><line style=\"stroke: #000000; stroke-width: 1.5;\" x1=\"16\" x2=\"163\" y1=\"28.2969\" y2=\"28.2969\"/><text fill=\"#000000\" font-family=\"sans-serif\" font-size=\"14\" font-weight=\"bold\" lengthAdjust=\"spacingAndGlyphs\" textLength=\"134\" x=\"20\" y=\"20.9951\">DependencyTest</text></a><!--MD5=[e4f7fae6ed58524ba242bb0b0d3be6b7]\n",
       "cluster E2--><a href=\"psysml:ef80acf8-3bbf-43fc-abea-40efc458e2ed\" target=\"_top\" title=\"psysml:ef80acf8-3bbf-43fc-abea-40efc458e2ed\" xlink:actuate=\"onRequest\" xlink:href=\"psysml:ef80acf8-3bbf-43fc-abea-40efc458e2ed\" xlink:show=\"new\" xlink:title=\"psysml:ef80acf8-3bbf-43fc-abea-40efc458e2ed\" xlink:type=\"simple\"><polygon fill=\"#FFFFFF\" points=\"255,49,319,49,326,71.2969,443,71.2969,443,413,255,413,255,49\" style=\"stroke: #000000; stroke-width: 1.5;\"/><line style=\"stroke: #000000; stroke-width: 1.5;\" x1=\"255\" x2=\"326\" y1=\"71.2969\" y2=\"71.2969\"/><text fill=\"#000000\" font-family=\"sans-serif\" font-size=\"14\" font-weight=\"bold\" lengthAdjust=\"spacingAndGlyphs\" textLength=\"58\" x=\"259\" y=\"63.9951\">System</text></a><!--MD5=[60a26617385b1d2d0262a64233df1f8d]\n",
       "class E6--><a href=\"psysml:f9adf18b-8dbf-4490-b33d-e9e2045e17b2\" target=\"_top\" title=\"psysml:f9adf18b-8dbf-4490-b33d-e9e2045e17b2\" xlink:actuate=\"onRequest\" xlink:href=\"psysml:f9adf18b-8dbf-4490-b33d-e9e2045e17b2\" xlink:show=\"new\" xlink:title=\"psysml:f9adf18b-8dbf-4490-b33d-e9e2045e17b2\" xlink:type=\"simple\"><rect fill=\"#FFFFFF\" height=\"45.9375\" id=\"E6\" rx=\"10\" ry=\"10\" style=\"stroke: #383838; stroke-width: 1.5;\" width=\"71\" x=\"32.5\" y=\"217.5\"/><text fill=\"#000000\" font-family=\"sans-serif\" font-size=\"12\" font-style=\"italic\" lengthAdjust=\"spacingAndGlyphs\" textLength=\"69\" x=\"33.5\" y=\"233.6387\">«attribute»</text><text fill=\"#000000\" font-family=\"sans-serif\" font-size=\"12\" lengthAdjust=\"spacingAndGlyphs\" textLength=\"6\" x=\"65\" y=\"247.6074\">x</text><line style=\"stroke: #383838; stroke-width: 1.5;\" x1=\"33.5\" x2=\"102.5\" y1=\"255.4375\" y2=\"255.4375\"/></a><!--MD5=[2156ba9850f5573cc1fc38a6a4b2f02b]\n",
       "class E7--><a href=\"psysml:b3547f0d-a84a-43aa-aeb1-8f3416005562\" target=\"_top\" title=\"psysml:b3547f0d-a84a-43aa-aeb1-8f3416005562\" xlink:actuate=\"onRequest\" xlink:href=\"psysml:b3547f0d-a84a-43aa-aeb1-8f3416005562\" xlink:show=\"new\" xlink:title=\"psysml:b3547f0d-a84a-43aa-aeb1-8f3416005562\" xlink:type=\"simple\"><rect fill=\"#FFFFFF\" height=\"45.9375\" id=\"E7\" rx=\"10\" ry=\"10\" style=\"stroke: #383838; stroke-width: 1.5;\" width=\"71\" x=\"138.5\" y=\"217.5\"/><text fill=\"#000000\" font-family=\"sans-serif\" font-size=\"12\" font-style=\"italic\" lengthAdjust=\"spacingAndGlyphs\" textLength=\"69\" x=\"139.5\" y=\"233.6387\">«attribute»</text><text fill=\"#000000\" font-family=\"sans-serif\" font-size=\"12\" lengthAdjust=\"spacingAndGlyphs\" textLength=\"6\" x=\"171\" y=\"247.6074\">y</text><line style=\"stroke: #383838; stroke-width: 1.5;\" x1=\"139.5\" x2=\"208.5\" y1=\"255.4375\" y2=\"255.4375\"/></a><!--MD5=[b9389687b975829384b498ac4b7476b2]\n",
       "class E8--><a href=\"psysml:06d3944d-d8a9-41b6-a7dc-ea1875e321b3\" target=\"_top\" title=\"psysml:06d3944d-d8a9-41b6-a7dc-ea1875e321b3\" xlink:actuate=\"onRequest\" xlink:href=\"psysml:06d3944d-d8a9-41b6-a7dc-ea1875e321b3\" xlink:show=\"new\" xlink:title=\"psysml:06d3944d-d8a9-41b6-a7dc-ea1875e321b3\" xlink:type=\"simple\"><rect fill=\"#FFFFFF\" height=\"45.9375\" id=\"E8\" rx=\"10\" ry=\"10\" style=\"stroke: #383838; stroke-width: 1.5;\" width=\"71\" x=\"84.5\" y=\"87.5\"/><text fill=\"#000000\" font-family=\"sans-serif\" font-size=\"12\" font-style=\"italic\" lengthAdjust=\"spacingAndGlyphs\" textLength=\"69\" x=\"85.5\" y=\"103.6387\">«attribute»</text><text fill=\"#000000\" font-family=\"sans-serif\" font-size=\"12\" lengthAdjust=\"spacingAndGlyphs\" textLength=\"5\" x=\"117.5\" y=\"117.6074\">z</text><line style=\"stroke: #383838; stroke-width: 1.5;\" x1=\"85.5\" x2=\"154.5\" y1=\"125.4375\" y2=\"125.4375\"/></a><a href=\"psysml:cb2f8149-aa3e-4482-91f3-ed1f7789b4f6\" target=\"_top\" title=\"psysml:cb2f8149-aa3e-4482-91f3-ed1f7789b4f6\" xlink:actuate=\"onRequest\" xlink:href=\"psysml:cb2f8149-aa3e-4482-91f3-ed1f7789b4f6\" xlink:show=\"new\" xlink:title=\"psysml:cb2f8149-aa3e-4482-91f3-ed1f7789b4f6\" xlink:type=\"simple\"><polygon fill=\"#FFFFFF\" points=\"271,84,413,84,420,106.2969,427,106.2969,427,136.5938,271,136.5938,271,84\" style=\"stroke: #000000; stroke-width: 1.5;\"/><line style=\"stroke: #000000; stroke-width: 1.5;\" x1=\"271\" x2=\"420\" y1=\"106.2969\" y2=\"106.2969\"/><text fill=\"#000000\" font-family=\"sans-serif\" font-size=\"14\" font-weight=\"bold\" lengthAdjust=\"spacingAndGlyphs\" textLength=\"136\" x=\"275\" y=\"98.9951\">Application Layer</text></a><a href=\"psysml:c90fac5e-4b06-46df-8524-0f31fe17b625\" target=\"_top\" title=\"psysml:c90fac5e-4b06-46df-8524-0f31fe17b625\" xlink:actuate=\"onRequest\" xlink:href=\"psysml:c90fac5e-4b06-46df-8524-0f31fe17b625\" xlink:show=\"new\" xlink:title=\"psysml:c90fac5e-4b06-46df-8524-0f31fe17b625\" xlink:type=\"simple\"><polygon fill=\"#FFFFFF\" points=\"285,214,399,214,406,236.2969,413,236.2969,413,266.5938,285,266.5938,285,214\" style=\"stroke: #000000; stroke-width: 1.5;\"/><line style=\"stroke: #000000; stroke-width: 1.5;\" x1=\"285\" x2=\"406\" y1=\"236.2969\" y2=\"236.2969\"/><text fill=\"#000000\" font-family=\"sans-serif\" font-size=\"14\" font-weight=\"bold\" lengthAdjust=\"spacingAndGlyphs\" textLength=\"108\" x=\"289\" y=\"228.9951\">Service Layer</text></a><a href=\"psysml:5945f028-85af-4284-8707-6581cfe8107d\" target=\"_top\" title=\"psysml:5945f028-85af-4284-8707-6581cfe8107d\" xlink:actuate=\"onRequest\" xlink:href=\"psysml:5945f028-85af-4284-8707-6581cfe8107d\" xlink:show=\"new\" xlink:title=\"psysml:5945f028-85af-4284-8707-6581cfe8107d\" xlink:type=\"simple\"><polygon fill=\"#FFFFFF\" points=\"297,344,387,344,394,366.2969,401,366.2969,401,396.5938,297,396.5938,297,344\" style=\"stroke: #000000; stroke-width: 1.5;\"/><line style=\"stroke: #000000; stroke-width: 1.5;\" x1=\"297\" x2=\"394\" y1=\"366.2969\" y2=\"366.2969\"/><text fill=\"#000000\" font-family=\"sans-serif\" font-size=\"14\" font-weight=\"bold\" lengthAdjust=\"spacingAndGlyphs\" textLength=\"84\" x=\"301\" y=\"358.9951\">Data Layer</text></a><!--MD5=[af87c684e3b0d8be13c1a698a818ef1e]\n",
       "link E3 to E4--><a href=\"psysml:71e7e357-685b-41cb-afa1-92571af689f5\" target=\"_top\" title=\"psysml:71e7e357-685b-41cb-afa1-92571af689f5\" xlink:actuate=\"onRequest\" xlink:href=\"psysml:71e7e357-685b-41cb-afa1-92571af689f5\" xlink:show=\"new\" xlink:title=\"psysml:71e7e357-685b-41cb-afa1-92571af689f5\" xlink:type=\"simple\"><path d=\"M349,137.1 C349,156.8 349,184.22 349,205.73 \" fill=\"none\" id=\"E3-&gt;E4\" style=\"stroke: #383838; stroke-width: 1.0; stroke-dasharray: 7.0,7.0;\"/><polygon fill=\"#383838\" points=\"349,213.95,352,205.95,346,205.95,349,213.95\" style=\"stroke: #383838; stroke-width: 1.0;\"/><text fill=\"#000000\" font-family=\"sans-serif\" font-size=\"13\" lengthAdjust=\"spacingAndGlyphs\" textLength=\"64\" x=\"350\" y=\"180.0669\">«depend»</text></a><!--MD5=[1b7591eae5389033d8d09a9d6721a717]\n",
       "link E4 to E5--><a href=\"psysml:1107382a-37f6-4d52-8c17-003f9fc0676e\" target=\"_top\" title=\"psysml:1107382a-37f6-4d52-8c17-003f9fc0676e\" xlink:actuate=\"onRequest\" xlink:href=\"psysml:1107382a-37f6-4d52-8c17-003f9fc0676e\" xlink:show=\"new\" xlink:title=\"psysml:1107382a-37f6-4d52-8c17-003f9fc0676e\" xlink:type=\"simple\"><path d=\"M349,267.1 C349,286.8 349,314.22 349,335.73 \" fill=\"none\" id=\"E4-&gt;E5\" style=\"stroke: #383838; stroke-width: 1.0; stroke-dasharray: 7.0,7.0;\"/><polygon fill=\"#383838\" points=\"349,343.95,352,335.95,346,335.95,349,343.95\" style=\"stroke: #383838; stroke-width: 1.0;\"/><text fill=\"#000000\" font-family=\"sans-serif\" font-size=\"13\" lengthAdjust=\"spacingAndGlyphs\" textLength=\"64\" x=\"350\" y=\"310.0669\">«depend»</text></a><!--MD5=[c5e8897d989ce984f93528998a7150fe]\n",
       "link E8 to E6--><a href=\"psysml:a975d936-bb91-4b85-9c47-7632192c23c3\" target=\"_top\" title=\"psysml:a975d936-bb91-4b85-9c47-7632192c23c3\" xlink:actuate=\"onRequest\" xlink:href=\"psysml:a975d936-bb91-4b85-9c47-7632192c23c3\" xlink:show=\"new\" xlink:title=\"psysml:a975d936-bb91-4b85-9c47-7632192c23c3\" xlink:type=\"simple\"><path d=\"M89.42,133.6 C79.35,142.68 69.37,154.11 64,167 C58.5,180.2 58.66,195.94 60.54,209.38 \" fill=\"none\" id=\"E8-&gt;E6\" style=\"stroke: #383838; stroke-width: 1.0; stroke-dasharray: 7.0,7.0;\"/><polygon fill=\"#383838\" points=\"61.9,217.4,63.517,209.0104,57.6018,210.0159,61.9,217.4\" style=\"stroke: #383838; stroke-width: 1.0;\"/><text fill=\"#000000\" font-family=\"sans-serif\" font-size=\"13\" lengthAdjust=\"spacingAndGlyphs\" textLength=\"64\" x=\"65\" y=\"180.0669\">«depend»</text></a><!--MD5=[bfa3c8b0d15052fdf50ae9310b491027]\n",
       "link E8 to E7--><a href=\"psysml:a975d936-bb91-4b85-9c47-7632192c23c3\" target=\"_top\" title=\"psysml:a975d936-bb91-4b85-9c47-7632192c23c3\" xlink:actuate=\"onRequest\" xlink:href=\"psysml:a975d936-bb91-4b85-9c47-7632192c23c3\" xlink:show=\"new\" xlink:title=\"psysml:a975d936-bb91-4b85-9c47-7632192c23c3\" xlink:type=\"simple\"><path d=\"M129.28,133.5 C138.17,154.57 151.64,186.5 161.47,209.81 \" fill=\"none\" id=\"E8-&gt;E7\" style=\"stroke: #383838; stroke-width: 1.0; stroke-dasharray: 7.0,7.0;\"/><polygon fill=\"#383838\" points=\"164.66,217.35,164.3241,208.8126,158.7933,211.1385,164.66,217.35\" style=\"stroke: #383838; stroke-width: 1.0;\"/><text fill=\"#000000\" font-family=\"sans-serif\" font-size=\"13\" lengthAdjust=\"spacingAndGlyphs\" textLength=\"64\" x=\"151\" y=\"180.0669\">«depend»</text></a><!--MD5=[18e516a5b6a41a63527782b3fa4af72e]\n",
       "@startuml\r\n",
       "skinparam monochrome true\r\n",
       "skinparam classbackgroundcolor white\r\n",
       "skinparam shadowing false\r\n",
       "skinparam wrapWidth 300\r\n",
       "hide circle\r\n",
       "\r\n",
       "package \"DependencyTest\" as E1  [[psysml:430f5b70-8499-4207-b78a-0a401723d15c ]]  {\r\n",
       "package \"System\" as E2  [[psysml:ef80acf8-3bbf-43fc-abea-40efc458e2ed ]]  {\r\n",
       "package \"Application Layer\" as E3  [[psysml:cb2f8149-aa3e-4482-91f3-ed1f7789b4f6 ]]  {\r\n",
       "}\r\n",
       "package \"Service Layer\" as E4  [[psysml:c90fac5e-4b06-46df-8524-0f31fe17b625 ]]  {\r\n",
       "}\r\n",
       "package \"Data Layer\" as E5  [[psysml:5945f028-85af-4284-8707-6581cfe8107d ]]  {\r\n",
       "}\r\n",
       "}\r\n",
       "comp usage \"x\" as E6  <<(T,blue)attribute>> [[psysml:f9adf18b-8dbf-4490-b33d-e9e2045e17b2 ]] {\r\n",
       "}\r\n",
       "comp usage \"y\" as E7  <<(T,blue)attribute>> [[psysml:b3547f0d-a84a-43aa-aeb1-8f3416005562 ]] {\r\n",
       "}\r\n",
       "comp usage \"z\" as E8  <<(T,blue)attribute>> [[psysml:06d3944d-d8a9-41b6-a7dc-ea1875e321b3 ]] {\r\n",
       "}\r\n",
       "E3 ..>> E4 [[psysml:71e7e357-685b-41cb-afa1-92571af689f5 ]] : <<depend>>\r\n",
       "E4 ..>> E5 [[psysml:1107382a-37f6-4d52-8c17-003f9fc0676e ]] : <<depend>>\r\n",
       "E8 ..>> E6 [[psysml:a975d936-bb91-4b85-9c47-7632192c23c3 ]] : <<depend>>\r\n",
       "E8 ..>> E7 [[psysml:a975d936-bb91-4b85-9c47-7632192c23c3 ]] : <<depend>>\r\n",
       "}\r\n",
       "@enduml\r\n",
       "\n",
       "PlantUML version 1.2020.13(Sat Jun 13 12:26:38 UTC 2020)\n",
       "(EPL source distribution)\n",
       "Java Runtime: OpenJDK Runtime Environment\n",
       "JVM: OpenJDK 64-Bit Server VM\n",
       "Default Encoding: UTF-8\n",
       "Language: en\n",
       "Country: null\n",
       "--></g></svg>"
      ]
     },
     "execution_count": 38,
     "metadata": {},
     "output_type": "execute_result"
    }
   ],
   "source": [
    "%viz --style=\"DEFAULT\" --view=\"Tree\" \"DependencyTest\""
   ]
  },
  {
   "cell_type": "code",
   "execution_count": 39,
   "id": "invalid-smart",
   "metadata": {
    "execution": {
     "iopub.execute_input": "2021-03-25T13:51:46.148624Z",
     "iopub.status.busy": "2021-03-25T13:51:46.148041Z",
     "iopub.status.idle": "2021-03-25T13:51:46.155149Z",
     "shell.execute_reply": "2021-03-25T13:51:46.154775Z"
    }
   },
   "outputs": [
    {
     "data": {
      "image/svg+xml": [
       "<?xml version=\"1.0\" encoding=\"UTF-8\" standalone=\"no\"?><svg xmlns=\"http://www.w3.org/2000/svg\" xmlns:xlink=\"http://www.w3.org/1999/xlink\" contentScriptType=\"application/ecmascript\" contentStyleType=\"text/css\" height=\"12px\" preserveAspectRatio=\"none\" style=\"width:12px;height:12px;\" version=\"1.1\" viewBox=\"0 0 12 12\" width=\"12px\" zoomAndPan=\"magnify\"><defs/><g><!--MD5=[c5f280e076d0d61ccf4b0f27871bda1d]\n",
       "@startuml\r\n",
       "skinparam monochrome true\r\n",
       "skinparam classbackgroundcolor white\r\n",
       "skinparam shadowing false\r\n",
       "skinparam wrapWidth 300\r\n",
       "hide circle\r\n",
       "\r\n",
       "@enduml\r\n",
       "\n",
       "PlantUML version 1.2020.13(Sat Jun 13 12:26:38 UTC 2020)\n",
       "(EPL source distribution)\n",
       "Java Runtime: OpenJDK Runtime Environment\n",
       "JVM: OpenJDK 64-Bit Server VM\n",
       "Default Encoding: UTF-8\n",
       "Language: en\n",
       "Country: null\n",
       "--></g></svg>"
      ]
     },
     "execution_count": 39,
     "metadata": {},
     "output_type": "execute_result"
    }
   ],
   "source": [
    "%viz --style=\"DEFAULT\" --view=\"State\" \"DependencyTest\""
   ]
  },
  {
   "cell_type": "code",
   "execution_count": 40,
   "id": "surprised-newspaper",
   "metadata": {
    "execution": {
     "iopub.execute_input": "2021-03-25T13:51:46.205716Z",
     "iopub.status.busy": "2021-03-25T13:51:46.205256Z",
     "iopub.status.idle": "2021-03-25T13:51:46.302516Z",
     "shell.execute_reply": "2021-03-25T13:51:46.303037Z"
    }
   },
   "outputs": [
    {
     "data": {
      "image/svg+xml": [
       "<?xml version=\"1.0\" encoding=\"UTF-8\" standalone=\"no\"?><svg xmlns=\"http://www.w3.org/2000/svg\" xmlns:xlink=\"http://www.w3.org/1999/xlink\" contentScriptType=\"application/ecmascript\" contentStyleType=\"text/css\" height=\"361px\" preserveAspectRatio=\"none\" style=\"width:489px;height:361px;\" version=\"1.1\" viewBox=\"0 0 489 361\" width=\"489px\" zoomAndPan=\"magnify\"><defs/><g><!--MD5=[fbc87193dbaf4d95561dea2c320d4a47]\n",
       "cluster E1--><a href=\"psysml:430f5b70-8499-4207-b78a-0a401723d15c\" target=\"_top\" title=\"psysml:430f5b70-8499-4207-b78a-0a401723d15c\" xlink:actuate=\"onRequest\" xlink:href=\"psysml:430f5b70-8499-4207-b78a-0a401723d15c\" xlink:show=\"new\" xlink:title=\"psysml:430f5b70-8499-4207-b78a-0a401723d15c\" xlink:type=\"simple\"><polygon fill=\"#FFFFFF\" points=\"16,6,156,6,163,28.2969,467,28.2969,467,349,16,349,16,6\" style=\"stroke: #000000; stroke-width: 1.5;\"/><line style=\"stroke: #000000; stroke-width: 1.5;\" x1=\"16\" x2=\"163\" y1=\"28.2969\" y2=\"28.2969\"/><text fill=\"#000000\" font-family=\"sans-serif\" font-size=\"14\" font-weight=\"bold\" lengthAdjust=\"spacingAndGlyphs\" textLength=\"134\" x=\"20\" y=\"20.9951\">DependencyTest</text></a><!--MD5=[e4f7fae6ed58524ba242bb0b0d3be6b7]\n",
       "cluster E2--><a href=\"psysml:ef80acf8-3bbf-43fc-abea-40efc458e2ed\" target=\"_top\" title=\"psysml:ef80acf8-3bbf-43fc-abea-40efc458e2ed\" xlink:actuate=\"onRequest\" xlink:href=\"psysml:ef80acf8-3bbf-43fc-abea-40efc458e2ed\" xlink:show=\"new\" xlink:title=\"psysml:ef80acf8-3bbf-43fc-abea-40efc458e2ed\" xlink:type=\"simple\"><polygon fill=\"#FFFFFF\" points=\"255,49,319,49,326,71.2969,443,71.2969,443,325,255,325,255,49\" style=\"stroke: #000000; stroke-width: 1.5;\"/><line style=\"stroke: #000000; stroke-width: 1.5;\" x1=\"255\" x2=\"326\" y1=\"71.2969\" y2=\"71.2969\"/><text fill=\"#000000\" font-family=\"sans-serif\" font-size=\"14\" font-weight=\"bold\" lengthAdjust=\"spacingAndGlyphs\" textLength=\"58\" x=\"259\" y=\"63.9951\">System</text></a><a href=\"psysml:cb2f8149-aa3e-4482-91f3-ed1f7789b4f6\" target=\"_top\" title=\"psysml:cb2f8149-aa3e-4482-91f3-ed1f7789b4f6\" xlink:actuate=\"onRequest\" xlink:href=\"psysml:cb2f8149-aa3e-4482-91f3-ed1f7789b4f6\" xlink:show=\"new\" xlink:title=\"psysml:cb2f8149-aa3e-4482-91f3-ed1f7789b4f6\" xlink:type=\"simple\"><polygon fill=\"#FFFFFF\" points=\"271,84,413,84,420,106.2969,427,106.2969,427,136.5938,271,136.5938,271,84\" style=\"stroke: #000000; stroke-width: 1.5;\"/><line style=\"stroke: #000000; stroke-width: 1.5;\" x1=\"271\" x2=\"420\" y1=\"106.2969\" y2=\"106.2969\"/><text fill=\"#000000\" font-family=\"sans-serif\" font-size=\"14\" font-weight=\"bold\" lengthAdjust=\"spacingAndGlyphs\" textLength=\"136\" x=\"275\" y=\"98.9951\">Application Layer</text></a><a href=\"psysml:c90fac5e-4b06-46df-8524-0f31fe17b625\" target=\"_top\" title=\"psysml:c90fac5e-4b06-46df-8524-0f31fe17b625\" xlink:actuate=\"onRequest\" xlink:href=\"psysml:c90fac5e-4b06-46df-8524-0f31fe17b625\" xlink:show=\"new\" xlink:title=\"psysml:c90fac5e-4b06-46df-8524-0f31fe17b625\" xlink:type=\"simple\"><polygon fill=\"#FFFFFF\" points=\"285,170,399,170,406,192.2969,413,192.2969,413,222.5938,285,222.5938,285,170\" style=\"stroke: #000000; stroke-width: 1.5;\"/><line style=\"stroke: #000000; stroke-width: 1.5;\" x1=\"285\" x2=\"406\" y1=\"192.2969\" y2=\"192.2969\"/><text fill=\"#000000\" font-family=\"sans-serif\" font-size=\"14\" font-weight=\"bold\" lengthAdjust=\"spacingAndGlyphs\" textLength=\"108\" x=\"289\" y=\"184.9951\">Service Layer</text></a><a href=\"psysml:5945f028-85af-4284-8707-6581cfe8107d\" target=\"_top\" title=\"psysml:5945f028-85af-4284-8707-6581cfe8107d\" xlink:actuate=\"onRequest\" xlink:href=\"psysml:5945f028-85af-4284-8707-6581cfe8107d\" xlink:show=\"new\" xlink:title=\"psysml:5945f028-85af-4284-8707-6581cfe8107d\" xlink:type=\"simple\"><polygon fill=\"#FFFFFF\" points=\"297,256,387,256,394,278.2969,401,278.2969,401,308.5938,297,308.5938,297,256\" style=\"stroke: #000000; stroke-width: 1.5;\"/><line style=\"stroke: #000000; stroke-width: 1.5;\" x1=\"297\" x2=\"394\" y1=\"278.2969\" y2=\"278.2969\"/><text fill=\"#000000\" font-family=\"sans-serif\" font-size=\"14\" font-weight=\"bold\" lengthAdjust=\"spacingAndGlyphs\" textLength=\"84\" x=\"301\" y=\"270.9951\">Data Layer</text></a><g id=\"E1.E6\"><a href=\"psysml:f9adf18b-8dbf-4490-b33d-e9e2045e17b2\" target=\"_top\" title=\"psysml:f9adf18b-8dbf-4490-b33d-e9e2045e17b2\" xlink:actuate=\"onRequest\" xlink:href=\"psysml:f9adf18b-8dbf-4490-b33d-e9e2045e17b2\" xlink:show=\"new\" xlink:title=\"psysml:f9adf18b-8dbf-4490-b33d-e9e2045e17b2\" xlink:type=\"simple\"><rect fill=\"#FFFFFF\" height=\"42.9375\" id=\"E6\" rx=\"10\" ry=\"10\" style=\"stroke: #383838; stroke-width: 1.5;\" width=\"76\" x=\"32\" y=\"175\"/><rect fill=\"#F8F8F8\" height=\"37.9375\" rx=\"10\" ry=\"10\" style=\"stroke: #F8F8F8; stroke-width: 1.5;\" width=\"76\" x=\"32\" y=\"175\"/><rect fill=\"#F8F8F8\" height=\"10\" style=\"stroke: #F8F8F8; stroke-width: 1.5;\" width=\"76\" x=\"32\" y=\"202.9375\"/><rect fill=\"none\" height=\"42.9375\" id=\"E6\" rx=\"10\" ry=\"10\" style=\"stroke: #383838; stroke-width: 1.5;\" width=\"76\" x=\"32\" y=\"175\"/><text fill=\"#000000\" font-family=\"sans-serif\" font-size=\"12\" font-style=\"italic\" lengthAdjust=\"spacingAndGlyphs\" textLength=\"69\" x=\"35.5\" y=\"191.1387\">«attribute»</text><text fill=\"#000000\" font-family=\"sans-serif\" font-size=\"12\" lengthAdjust=\"spacingAndGlyphs\" textLength=\"6\" x=\"67\" y=\"205.1074\">x</text></a></g><g id=\"E1.E7\"><a href=\"psysml:b3547f0d-a84a-43aa-aeb1-8f3416005562\" target=\"_top\" title=\"psysml:b3547f0d-a84a-43aa-aeb1-8f3416005562\" xlink:actuate=\"onRequest\" xlink:href=\"psysml:b3547f0d-a84a-43aa-aeb1-8f3416005562\" xlink:show=\"new\" xlink:title=\"psysml:b3547f0d-a84a-43aa-aeb1-8f3416005562\" xlink:type=\"simple\"><rect fill=\"#FFFFFF\" height=\"42.9375\" id=\"E7\" rx=\"10\" ry=\"10\" style=\"stroke: #383838; stroke-width: 1.5;\" width=\"76\" x=\"143\" y=\"175\"/><rect fill=\"#F8F8F8\" height=\"37.9375\" rx=\"10\" ry=\"10\" style=\"stroke: #F8F8F8; stroke-width: 1.5;\" width=\"76\" x=\"143\" y=\"175\"/><rect fill=\"#F8F8F8\" height=\"10\" style=\"stroke: #F8F8F8; stroke-width: 1.5;\" width=\"76\" x=\"143\" y=\"202.9375\"/><rect fill=\"none\" height=\"42.9375\" id=\"E7\" rx=\"10\" ry=\"10\" style=\"stroke: #383838; stroke-width: 1.5;\" width=\"76\" x=\"143\" y=\"175\"/><text fill=\"#000000\" font-family=\"sans-serif\" font-size=\"12\" font-style=\"italic\" lengthAdjust=\"spacingAndGlyphs\" textLength=\"69\" x=\"146.5\" y=\"191.1387\">«attribute»</text><text fill=\"#000000\" font-family=\"sans-serif\" font-size=\"12\" lengthAdjust=\"spacingAndGlyphs\" textLength=\"6\" x=\"178\" y=\"205.1074\">y</text></a></g><g id=\"E1.E8\"><a href=\"psysml:06d3944d-d8a9-41b6-a7dc-ea1875e321b3\" target=\"_top\" title=\"psysml:06d3944d-d8a9-41b6-a7dc-ea1875e321b3\" xlink:actuate=\"onRequest\" xlink:href=\"psysml:06d3944d-d8a9-41b6-a7dc-ea1875e321b3\" xlink:show=\"new\" xlink:title=\"psysml:06d3944d-d8a9-41b6-a7dc-ea1875e321b3\" xlink:type=\"simple\"><rect fill=\"#FFFFFF\" height=\"42.9375\" id=\"E8\" rx=\"10\" ry=\"10\" style=\"stroke: #383838; stroke-width: 1.5;\" width=\"76\" x=\"83\" y=\"89\"/><rect fill=\"#F8F8F8\" height=\"37.9375\" rx=\"10\" ry=\"10\" style=\"stroke: #F8F8F8; stroke-width: 1.5;\" width=\"76\" x=\"83\" y=\"89\"/><rect fill=\"#F8F8F8\" height=\"10\" style=\"stroke: #F8F8F8; stroke-width: 1.5;\" width=\"76\" x=\"83\" y=\"116.9375\"/><rect fill=\"none\" height=\"42.9375\" id=\"E8\" rx=\"10\" ry=\"10\" style=\"stroke: #383838; stroke-width: 1.5;\" width=\"76\" x=\"83\" y=\"89\"/><text fill=\"#000000\" font-family=\"sans-serif\" font-size=\"12\" font-style=\"italic\" lengthAdjust=\"spacingAndGlyphs\" textLength=\"69\" x=\"86.5\" y=\"105.1387\">«attribute»</text><text fill=\"#000000\" font-family=\"sans-serif\" font-size=\"12\" lengthAdjust=\"spacingAndGlyphs\" textLength=\"5\" x=\"118.5\" y=\"119.1074\">z</text></a></g><!--MD5=[af87c684e3b0d8be13c1a698a818ef1e]\n",
       "link E3 to E4--><a href=\"psysml:71e7e357-685b-41cb-afa1-92571af689f5\" target=\"_top\" title=\"psysml:71e7e357-685b-41cb-afa1-92571af689f5\" xlink:actuate=\"onRequest\" xlink:href=\"psysml:71e7e357-685b-41cb-afa1-92571af689f5\" xlink:show=\"new\" xlink:title=\"psysml:71e7e357-685b-41cb-afa1-92571af689f5\" xlink:type=\"simple\"><path d=\"M349,137.16 C349,144.98 349,153.69 349,161.94 \" fill=\"none\" id=\"E3-&gt;E4\" style=\"stroke: #383838; stroke-width: 1.0; stroke-dasharray: 7.0,7.0;\"/><polygon fill=\"#383838\" points=\"349,170,352,162,346,162,349,170\" style=\"stroke: #383838; stroke-width: 1.0;\"/><text fill=\"#000000\" font-family=\"sans-serif\" font-size=\"13\" lengthAdjust=\"spacingAndGlyphs\" textLength=\"64\" x=\"350\" y=\"158.0669\">«depend»</text></a><!--MD5=[1b7591eae5389033d8d09a9d6721a717]\n",
       "link E4 to E5--><a href=\"psysml:1107382a-37f6-4d52-8c17-003f9fc0676e\" target=\"_top\" title=\"psysml:1107382a-37f6-4d52-8c17-003f9fc0676e\" xlink:actuate=\"onRequest\" xlink:href=\"psysml:1107382a-37f6-4d52-8c17-003f9fc0676e\" xlink:show=\"new\" xlink:title=\"psysml:1107382a-37f6-4d52-8c17-003f9fc0676e\" xlink:type=\"simple\"><path d=\"M349,223.16 C349,230.98 349,239.69 349,247.94 \" fill=\"none\" id=\"E4-&gt;E5\" style=\"stroke: #383838; stroke-width: 1.0; stroke-dasharray: 7.0,7.0;\"/><polygon fill=\"#383838\" points=\"349,256,352,248,346,248,349,256\" style=\"stroke: #383838; stroke-width: 1.0;\"/><text fill=\"#000000\" font-family=\"sans-serif\" font-size=\"13\" lengthAdjust=\"spacingAndGlyphs\" textLength=\"64\" x=\"350\" y=\"244.0669\">«depend»</text></a><!--MD5=[c5e8897d989ce984f93528998a7150fe]\n",
       "link E8 to E6--><a href=\"psysml:a975d936-bb91-4b85-9c47-7632192c23c3\" target=\"_top\" title=\"psysml:a975d936-bb91-4b85-9c47-7632192c23c3\" xlink:actuate=\"onRequest\" xlink:href=\"psysml:a975d936-bb91-4b85-9c47-7632192c23c3\" xlink:show=\"new\" xlink:title=\"psysml:a975d936-bb91-4b85-9c47-7632192c23c3\" xlink:type=\"simple\"><path d=\"M82.81,126.48 C75.3,131.24 68.39,137.33 64,145 C60.26,151.53 59.68,159.3 60.56,166.77 \" fill=\"none\" id=\"E8-&gt;E6\" style=\"stroke: #383838; stroke-width: 1.0; stroke-dasharray: 7.0,7.0;\"/><polygon fill=\"#383838\" points=\"62.02,174.69,63.5257,166.2797,57.6244,167.3634,62.02,174.69\" style=\"stroke: #383838; stroke-width: 1.0;\"/><text fill=\"#000000\" font-family=\"sans-serif\" font-size=\"13\" lengthAdjust=\"spacingAndGlyphs\" textLength=\"64\" x=\"65\" y=\"158.0669\">«depend»</text></a><!--MD5=[bfa3c8b0d15052fdf50ae9310b491027]\n",
       "link E8 to E7--><a href=\"psysml:a975d936-bb91-4b85-9c47-7632192c23c3\" target=\"_top\" title=\"psysml:a975d936-bb91-4b85-9c47-7632192c23c3\" xlink:actuate=\"onRequest\" xlink:href=\"psysml:a975d936-bb91-4b85-9c47-7632192c23c3\" xlink:show=\"new\" xlink:title=\"psysml:a975d936-bb91-4b85-9c47-7632192c23c3\" xlink:type=\"simple\"><path d=\"M135.83,132.26 C143.61,143.15 153.22,156.61 161.59,168.32 \" fill=\"none\" id=\"E8-&gt;E7\" style=\"stroke: #383838; stroke-width: 1.0; stroke-dasharray: 7.0,7.0;\"/><polygon fill=\"#383838\" points=\"166.34,174.97,164.1399,166.7141,159.2538,170.1965,166.34,174.97\" style=\"stroke: #383838; stroke-width: 1.0;\"/><text fill=\"#000000\" font-family=\"sans-serif\" font-size=\"13\" lengthAdjust=\"spacingAndGlyphs\" textLength=\"64\" x=\"157\" y=\"158.0669\">«depend»</text></a><!--MD5=[1ae797c21e65b0238b6fc542f91275d4]\n",
       "@startuml\r\n",
       "skinparam ranksep 8\r\n",
       "skinparam rectangle {\r\n",
       " backgroundColor<<block>> LightGreen\r\n",
       "}\r\n",
       "skinparam monochrome true\r\n",
       "skinparam classbackgroundcolor white\r\n",
       "skinparam shadowing false\r\n",
       "skinparam wrapWidth 300\r\n",
       "hide circle\r\n",
       "\r\n",
       "package \"DependencyTest\" as E1  [[psysml:430f5b70-8499-4207-b78a-0a401723d15c ]]  {\r\n",
       "package \"System\" as E2  [[psysml:ef80acf8-3bbf-43fc-abea-40efc458e2ed ]]  {\r\n",
       "package \"Application Layer\" as E3  [[psysml:cb2f8149-aa3e-4482-91f3-ed1f7789b4f6 ]]  {\r\n",
       "}\r\n",
       "package \"Service Layer\" as E4  [[psysml:c90fac5e-4b06-46df-8524-0f31fe17b625 ]]  {\r\n",
       "}\r\n",
       "package \"Data Layer\" as E5  [[psysml:5945f028-85af-4284-8707-6581cfe8107d ]]  {\r\n",
       "}\r\n",
       "}\r\n",
       "rec usage \"x\" as E6  <<(T,blue)attribute>> [[psysml:f9adf18b-8dbf-4490-b33d-e9e2045e17b2 ]] {\r\n",
       "}\r\n",
       "rec usage \"y\" as E7  <<(T,blue)attribute>> [[psysml:b3547f0d-a84a-43aa-aeb1-8f3416005562 ]] {\r\n",
       "}\r\n",
       "rec usage \"z\" as E8  <<(T,blue)attribute>> [[psysml:06d3944d-d8a9-41b6-a7dc-ea1875e321b3 ]] {\r\n",
       "}\r\n",
       "E3 ..>> E4 [[psysml:71e7e357-685b-41cb-afa1-92571af689f5 ]] : <<depend>>\r\n",
       "E4 ..>> E5 [[psysml:1107382a-37f6-4d52-8c17-003f9fc0676e ]] : <<depend>>\r\n",
       "E8 ..>> E6 [[psysml:a975d936-bb91-4b85-9c47-7632192c23c3 ]] : <<depend>>\r\n",
       "E8 ..>> E7 [[psysml:a975d936-bb91-4b85-9c47-7632192c23c3 ]] : <<depend>>\r\n",
       "}\r\n",
       "@enduml\r\n",
       "\n",
       "PlantUML version 1.2020.13(Sat Jun 13 12:26:38 UTC 2020)\n",
       "(EPL source distribution)\n",
       "Java Runtime: OpenJDK Runtime Environment\n",
       "JVM: OpenJDK 64-Bit Server VM\n",
       "Default Encoding: UTF-8\n",
       "Language: en\n",
       "Country: null\n",
       "--></g></svg>"
      ]
     },
     "execution_count": 40,
     "metadata": {},
     "output_type": "execute_result"
    }
   ],
   "source": [
    "%viz --style=\"DEFAULT\" --view=\"Interconnection\" \"DependencyTest\""
   ]
  },
  {
   "cell_type": "code",
   "execution_count": 41,
   "id": "professional-bulgaria",
   "metadata": {
    "execution": {
     "iopub.execute_input": "2021-03-25T13:51:46.354100Z",
     "iopub.status.busy": "2021-03-25T13:51:46.353412Z",
     "iopub.status.idle": "2021-03-25T13:51:46.361687Z",
     "shell.execute_reply": "2021-03-25T13:51:46.362033Z"
    }
   },
   "outputs": [
    {
     "data": {
      "image/svg+xml": [
       "<?xml version=\"1.0\" encoding=\"UTF-8\" standalone=\"no\"?><svg xmlns=\"http://www.w3.org/2000/svg\" xmlns:xlink=\"http://www.w3.org/1999/xlink\" contentScriptType=\"application/ecmascript\" contentStyleType=\"text/css\" height=\"12px\" preserveAspectRatio=\"none\" style=\"width:12px;height:12px;\" version=\"1.1\" viewBox=\"0 0 12 12\" width=\"12px\" zoomAndPan=\"magnify\"><defs/><g><!--MD5=[388f21188e31bfdd97050473b19af356]\n",
       "@startuml\r\n",
       "skinparam ranksep 8\r\n",
       "skinparam monochrome true\r\n",
       "skinparam classbackgroundcolor white\r\n",
       "skinparam shadowing false\r\n",
       "skinparam wrapWidth 300\r\n",
       "hide circle\r\n",
       "\r\n",
       "@enduml\r\n",
       "\n",
       "PlantUML version 1.2020.13(Sat Jun 13 12:26:38 UTC 2020)\n",
       "(EPL source distribution)\n",
       "Java Runtime: OpenJDK Runtime Environment\n",
       "JVM: OpenJDK 64-Bit Server VM\n",
       "Default Encoding: UTF-8\n",
       "Language: en\n",
       "Country: null\n",
       "--></g></svg>"
      ]
     },
     "execution_count": 41,
     "metadata": {},
     "output_type": "execute_result"
    }
   ],
   "source": [
    "%viz --style=\"DEFAULT\" --view=\"Action\" \"DependencyTest\""
   ]
  },
  {
   "cell_type": "code",
   "execution_count": 42,
   "id": "intermediate-haiti",
   "metadata": {
    "execution": {
     "iopub.execute_input": "2021-03-25T13:51:46.412960Z",
     "iopub.status.busy": "2021-03-25T13:51:46.412532Z",
     "iopub.status.idle": "2021-03-25T13:51:46.508488Z",
     "shell.execute_reply": "2021-03-25T13:51:46.506887Z"
    }
   },
   "outputs": [
    {
     "data": {
      "image/svg+xml": [
       "<?xml version=\"1.0\" encoding=\"UTF-8\" standalone=\"no\"?><svg xmlns=\"http://www.w3.org/2000/svg\" xmlns:xlink=\"http://www.w3.org/1999/xlink\" contentScriptType=\"application/ecmascript\" contentStyleType=\"text/css\" height=\"449px\" preserveAspectRatio=\"none\" style=\"width:489px;height:449px;\" version=\"1.1\" viewBox=\"0 0 489 449\" width=\"489px\" zoomAndPan=\"magnify\"><defs/><g><!--MD5=[fbc87193dbaf4d95561dea2c320d4a47]\n",
       "cluster E1--><a href=\"psysml:430f5b70-8499-4207-b78a-0a401723d15c\" target=\"_top\" title=\"psysml:430f5b70-8499-4207-b78a-0a401723d15c\" xlink:actuate=\"onRequest\" xlink:href=\"psysml:430f5b70-8499-4207-b78a-0a401723d15c\" xlink:show=\"new\" xlink:title=\"psysml:430f5b70-8499-4207-b78a-0a401723d15c\" xlink:type=\"simple\"><polygon fill=\"#FFFFFF\" points=\"16,6,156,6,163,28.2969,467,28.2969,467,437,16,437,16,6\" style=\"stroke: #000000; stroke-width: 1.5;\"/><line style=\"stroke: #000000; stroke-width: 1.5;\" x1=\"16\" x2=\"163\" y1=\"28.2969\" y2=\"28.2969\"/><text fill=\"#000000\" font-family=\"sans-serif\" font-size=\"14\" font-weight=\"bold\" lengthAdjust=\"spacingAndGlyphs\" textLength=\"134\" x=\"20\" y=\"20.9951\">DependencyTest</text></a><!--MD5=[e4f7fae6ed58524ba242bb0b0d3be6b7]\n",
       "cluster E2--><a href=\"psysml:ef80acf8-3bbf-43fc-abea-40efc458e2ed\" target=\"_top\" title=\"psysml:ef80acf8-3bbf-43fc-abea-40efc458e2ed\" xlink:actuate=\"onRequest\" xlink:href=\"psysml:ef80acf8-3bbf-43fc-abea-40efc458e2ed\" xlink:show=\"new\" xlink:title=\"psysml:ef80acf8-3bbf-43fc-abea-40efc458e2ed\" xlink:type=\"simple\"><polygon fill=\"#FFFFFF\" points=\"255,49,319,49,326,71.2969,443,71.2969,443,413,255,413,255,49\" style=\"stroke: #000000; stroke-width: 1.5;\"/><line style=\"stroke: #000000; stroke-width: 1.5;\" x1=\"255\" x2=\"326\" y1=\"71.2969\" y2=\"71.2969\"/><text fill=\"#000000\" font-family=\"sans-serif\" font-size=\"14\" font-weight=\"bold\" lengthAdjust=\"spacingAndGlyphs\" textLength=\"58\" x=\"259\" y=\"63.9951\">System</text></a><!--MD5=[60a26617385b1d2d0262a64233df1f8d]\n",
       "class E6--><a href=\"psysml:f9adf18b-8dbf-4490-b33d-e9e2045e17b2\" target=\"_top\" title=\"psysml:f9adf18b-8dbf-4490-b33d-e9e2045e17b2\" xlink:actuate=\"onRequest\" xlink:href=\"psysml:f9adf18b-8dbf-4490-b33d-e9e2045e17b2\" xlink:show=\"new\" xlink:title=\"psysml:f9adf18b-8dbf-4490-b33d-e9e2045e17b2\" xlink:type=\"simple\"><rect fill=\"#FFFFFF\" height=\"45.9375\" id=\"E6\" rx=\"10\" ry=\"10\" style=\"stroke: #383838; stroke-width: 1.5;\" width=\"71\" x=\"32.5\" y=\"217.5\"/><text fill=\"#000000\" font-family=\"sans-serif\" font-size=\"12\" font-style=\"italic\" lengthAdjust=\"spacingAndGlyphs\" textLength=\"69\" x=\"33.5\" y=\"233.6387\">«attribute»</text><text fill=\"#000000\" font-family=\"sans-serif\" font-size=\"12\" lengthAdjust=\"spacingAndGlyphs\" textLength=\"6\" x=\"65\" y=\"247.6074\">x</text><line style=\"stroke: #383838; stroke-width: 1.5;\" x1=\"33.5\" x2=\"102.5\" y1=\"255.4375\" y2=\"255.4375\"/></a><!--MD5=[2156ba9850f5573cc1fc38a6a4b2f02b]\n",
       "class E7--><a href=\"psysml:b3547f0d-a84a-43aa-aeb1-8f3416005562\" target=\"_top\" title=\"psysml:b3547f0d-a84a-43aa-aeb1-8f3416005562\" xlink:actuate=\"onRequest\" xlink:href=\"psysml:b3547f0d-a84a-43aa-aeb1-8f3416005562\" xlink:show=\"new\" xlink:title=\"psysml:b3547f0d-a84a-43aa-aeb1-8f3416005562\" xlink:type=\"simple\"><rect fill=\"#FFFFFF\" height=\"45.9375\" id=\"E7\" rx=\"10\" ry=\"10\" style=\"stroke: #383838; stroke-width: 1.5;\" width=\"71\" x=\"138.5\" y=\"217.5\"/><text fill=\"#000000\" font-family=\"sans-serif\" font-size=\"12\" font-style=\"italic\" lengthAdjust=\"spacingAndGlyphs\" textLength=\"69\" x=\"139.5\" y=\"233.6387\">«attribute»</text><text fill=\"#000000\" font-family=\"sans-serif\" font-size=\"12\" lengthAdjust=\"spacingAndGlyphs\" textLength=\"6\" x=\"171\" y=\"247.6074\">y</text><line style=\"stroke: #383838; stroke-width: 1.5;\" x1=\"139.5\" x2=\"208.5\" y1=\"255.4375\" y2=\"255.4375\"/></a><!--MD5=[b9389687b975829384b498ac4b7476b2]\n",
       "class E8--><a href=\"psysml:06d3944d-d8a9-41b6-a7dc-ea1875e321b3\" target=\"_top\" title=\"psysml:06d3944d-d8a9-41b6-a7dc-ea1875e321b3\" xlink:actuate=\"onRequest\" xlink:href=\"psysml:06d3944d-d8a9-41b6-a7dc-ea1875e321b3\" xlink:show=\"new\" xlink:title=\"psysml:06d3944d-d8a9-41b6-a7dc-ea1875e321b3\" xlink:type=\"simple\"><rect fill=\"#FFFFFF\" height=\"45.9375\" id=\"E8\" rx=\"10\" ry=\"10\" style=\"stroke: #383838; stroke-width: 1.5;\" width=\"71\" x=\"84.5\" y=\"87.5\"/><text fill=\"#000000\" font-family=\"sans-serif\" font-size=\"12\" font-style=\"italic\" lengthAdjust=\"spacingAndGlyphs\" textLength=\"69\" x=\"85.5\" y=\"103.6387\">«attribute»</text><text fill=\"#000000\" font-family=\"sans-serif\" font-size=\"12\" lengthAdjust=\"spacingAndGlyphs\" textLength=\"5\" x=\"117.5\" y=\"117.6074\">z</text><line style=\"stroke: #383838; stroke-width: 1.5;\" x1=\"85.5\" x2=\"154.5\" y1=\"125.4375\" y2=\"125.4375\"/></a><a href=\"psysml:cb2f8149-aa3e-4482-91f3-ed1f7789b4f6\" target=\"_top\" title=\"psysml:cb2f8149-aa3e-4482-91f3-ed1f7789b4f6\" xlink:actuate=\"onRequest\" xlink:href=\"psysml:cb2f8149-aa3e-4482-91f3-ed1f7789b4f6\" xlink:show=\"new\" xlink:title=\"psysml:cb2f8149-aa3e-4482-91f3-ed1f7789b4f6\" xlink:type=\"simple\"><polygon fill=\"#FFFFFF\" points=\"271,84,413,84,420,106.2969,427,106.2969,427,136.5938,271,136.5938,271,84\" style=\"stroke: #000000; stroke-width: 1.5;\"/><line style=\"stroke: #000000; stroke-width: 1.5;\" x1=\"271\" x2=\"420\" y1=\"106.2969\" y2=\"106.2969\"/><text fill=\"#000000\" font-family=\"sans-serif\" font-size=\"14\" font-weight=\"bold\" lengthAdjust=\"spacingAndGlyphs\" textLength=\"136\" x=\"275\" y=\"98.9951\">Application Layer</text></a><a href=\"psysml:c90fac5e-4b06-46df-8524-0f31fe17b625\" target=\"_top\" title=\"psysml:c90fac5e-4b06-46df-8524-0f31fe17b625\" xlink:actuate=\"onRequest\" xlink:href=\"psysml:c90fac5e-4b06-46df-8524-0f31fe17b625\" xlink:show=\"new\" xlink:title=\"psysml:c90fac5e-4b06-46df-8524-0f31fe17b625\" xlink:type=\"simple\"><polygon fill=\"#FFFFFF\" points=\"285,214,399,214,406,236.2969,413,236.2969,413,266.5938,285,266.5938,285,214\" style=\"stroke: #000000; stroke-width: 1.5;\"/><line style=\"stroke: #000000; stroke-width: 1.5;\" x1=\"285\" x2=\"406\" y1=\"236.2969\" y2=\"236.2969\"/><text fill=\"#000000\" font-family=\"sans-serif\" font-size=\"14\" font-weight=\"bold\" lengthAdjust=\"spacingAndGlyphs\" textLength=\"108\" x=\"289\" y=\"228.9951\">Service Layer</text></a><a href=\"psysml:5945f028-85af-4284-8707-6581cfe8107d\" target=\"_top\" title=\"psysml:5945f028-85af-4284-8707-6581cfe8107d\" xlink:actuate=\"onRequest\" xlink:href=\"psysml:5945f028-85af-4284-8707-6581cfe8107d\" xlink:show=\"new\" xlink:title=\"psysml:5945f028-85af-4284-8707-6581cfe8107d\" xlink:type=\"simple\"><polygon fill=\"#FFFFFF\" points=\"297,344,387,344,394,366.2969,401,366.2969,401,396.5938,297,396.5938,297,344\" style=\"stroke: #000000; stroke-width: 1.5;\"/><line style=\"stroke: #000000; stroke-width: 1.5;\" x1=\"297\" x2=\"394\" y1=\"366.2969\" y2=\"366.2969\"/><text fill=\"#000000\" font-family=\"sans-serif\" font-size=\"14\" font-weight=\"bold\" lengthAdjust=\"spacingAndGlyphs\" textLength=\"84\" x=\"301\" y=\"358.9951\">Data Layer</text></a><!--MD5=[af87c684e3b0d8be13c1a698a818ef1e]\n",
       "link E3 to E4--><a href=\"psysml:71e7e357-685b-41cb-afa1-92571af689f5\" target=\"_top\" title=\"psysml:71e7e357-685b-41cb-afa1-92571af689f5\" xlink:actuate=\"onRequest\" xlink:href=\"psysml:71e7e357-685b-41cb-afa1-92571af689f5\" xlink:show=\"new\" xlink:title=\"psysml:71e7e357-685b-41cb-afa1-92571af689f5\" xlink:type=\"simple\"><path d=\"M349,137.1 C349,156.8 349,184.22 349,205.73 \" fill=\"none\" id=\"E3-&gt;E4\" style=\"stroke: #383838; stroke-width: 1.0; stroke-dasharray: 7.0,7.0;\"/><polygon fill=\"#383838\" points=\"349,213.95,352,205.95,346,205.95,349,213.95\" style=\"stroke: #383838; stroke-width: 1.0;\"/><text fill=\"#000000\" font-family=\"sans-serif\" font-size=\"13\" lengthAdjust=\"spacingAndGlyphs\" textLength=\"64\" x=\"350\" y=\"180.0669\">«depend»</text></a><!--MD5=[1b7591eae5389033d8d09a9d6721a717]\n",
       "link E4 to E5--><a href=\"psysml:1107382a-37f6-4d52-8c17-003f9fc0676e\" target=\"_top\" title=\"psysml:1107382a-37f6-4d52-8c17-003f9fc0676e\" xlink:actuate=\"onRequest\" xlink:href=\"psysml:1107382a-37f6-4d52-8c17-003f9fc0676e\" xlink:show=\"new\" xlink:title=\"psysml:1107382a-37f6-4d52-8c17-003f9fc0676e\" xlink:type=\"simple\"><path d=\"M349,267.1 C349,286.8 349,314.22 349,335.73 \" fill=\"none\" id=\"E4-&gt;E5\" style=\"stroke: #383838; stroke-width: 1.0; stroke-dasharray: 7.0,7.0;\"/><polygon fill=\"#383838\" points=\"349,343.95,352,335.95,346,335.95,349,343.95\" style=\"stroke: #383838; stroke-width: 1.0;\"/><text fill=\"#000000\" font-family=\"sans-serif\" font-size=\"13\" lengthAdjust=\"spacingAndGlyphs\" textLength=\"64\" x=\"350\" y=\"310.0669\">«depend»</text></a><!--MD5=[c5e8897d989ce984f93528998a7150fe]\n",
       "link E8 to E6--><a href=\"psysml:a975d936-bb91-4b85-9c47-7632192c23c3\" target=\"_top\" title=\"psysml:a975d936-bb91-4b85-9c47-7632192c23c3\" xlink:actuate=\"onRequest\" xlink:href=\"psysml:a975d936-bb91-4b85-9c47-7632192c23c3\" xlink:show=\"new\" xlink:title=\"psysml:a975d936-bb91-4b85-9c47-7632192c23c3\" xlink:type=\"simple\"><path d=\"M89.42,133.6 C79.35,142.68 69.37,154.11 64,167 C58.5,180.2 58.66,195.94 60.54,209.38 \" fill=\"none\" id=\"E8-&gt;E6\" style=\"stroke: #383838; stroke-width: 1.0; stroke-dasharray: 7.0,7.0;\"/><polygon fill=\"#383838\" points=\"61.9,217.4,63.517,209.0104,57.6018,210.0159,61.9,217.4\" style=\"stroke: #383838; stroke-width: 1.0;\"/><text fill=\"#000000\" font-family=\"sans-serif\" font-size=\"13\" lengthAdjust=\"spacingAndGlyphs\" textLength=\"64\" x=\"65\" y=\"180.0669\">«depend»</text></a><!--MD5=[bfa3c8b0d15052fdf50ae9310b491027]\n",
       "link E8 to E7--><a href=\"psysml:a975d936-bb91-4b85-9c47-7632192c23c3\" target=\"_top\" title=\"psysml:a975d936-bb91-4b85-9c47-7632192c23c3\" xlink:actuate=\"onRequest\" xlink:href=\"psysml:a975d936-bb91-4b85-9c47-7632192c23c3\" xlink:show=\"new\" xlink:title=\"psysml:a975d936-bb91-4b85-9c47-7632192c23c3\" xlink:type=\"simple\"><path d=\"M129.28,133.5 C138.17,154.57 151.64,186.5 161.47,209.81 \" fill=\"none\" id=\"E8-&gt;E7\" style=\"stroke: #383838; stroke-width: 1.0; stroke-dasharray: 7.0,7.0;\"/><polygon fill=\"#383838\" points=\"164.66,217.35,164.3241,208.8126,158.7933,211.1385,164.66,217.35\" style=\"stroke: #383838; stroke-width: 1.0;\"/><text fill=\"#000000\" font-family=\"sans-serif\" font-size=\"13\" lengthAdjust=\"spacingAndGlyphs\" textLength=\"64\" x=\"151\" y=\"180.0669\">«depend»</text></a><!--MD5=[18e516a5b6a41a63527782b3fa4af72e]\n",
       "@startuml\r\n",
       "skinparam monochrome true\r\n",
       "skinparam classbackgroundcolor white\r\n",
       "skinparam shadowing false\r\n",
       "skinparam wrapWidth 300\r\n",
       "hide circle\r\n",
       "\r\n",
       "package \"DependencyTest\" as E1  [[psysml:430f5b70-8499-4207-b78a-0a401723d15c ]]  {\r\n",
       "package \"System\" as E2  [[psysml:ef80acf8-3bbf-43fc-abea-40efc458e2ed ]]  {\r\n",
       "package \"Application Layer\" as E3  [[psysml:cb2f8149-aa3e-4482-91f3-ed1f7789b4f6 ]]  {\r\n",
       "}\r\n",
       "package \"Service Layer\" as E4  [[psysml:c90fac5e-4b06-46df-8524-0f31fe17b625 ]]  {\r\n",
       "}\r\n",
       "package \"Data Layer\" as E5  [[psysml:5945f028-85af-4284-8707-6581cfe8107d ]]  {\r\n",
       "}\r\n",
       "}\r\n",
       "comp usage \"x\" as E6  <<(T,blue)attribute>> [[psysml:f9adf18b-8dbf-4490-b33d-e9e2045e17b2 ]] {\r\n",
       "}\r\n",
       "comp usage \"y\" as E7  <<(T,blue)attribute>> [[psysml:b3547f0d-a84a-43aa-aeb1-8f3416005562 ]] {\r\n",
       "}\r\n",
       "comp usage \"z\" as E8  <<(T,blue)attribute>> [[psysml:06d3944d-d8a9-41b6-a7dc-ea1875e321b3 ]] {\r\n",
       "}\r\n",
       "E3 ..>> E4 [[psysml:71e7e357-685b-41cb-afa1-92571af689f5 ]] : <<depend>>\r\n",
       "E4 ..>> E5 [[psysml:1107382a-37f6-4d52-8c17-003f9fc0676e ]] : <<depend>>\r\n",
       "E8 ..>> E6 [[psysml:a975d936-bb91-4b85-9c47-7632192c23c3 ]] : <<depend>>\r\n",
       "E8 ..>> E7 [[psysml:a975d936-bb91-4b85-9c47-7632192c23c3 ]] : <<depend>>\r\n",
       "}\r\n",
       "@enduml\r\n",
       "\n",
       "PlantUML version 1.2020.13(Sat Jun 13 12:26:38 UTC 2020)\n",
       "(EPL source distribution)\n",
       "Java Runtime: OpenJDK Runtime Environment\n",
       "JVM: OpenJDK 64-Bit Server VM\n",
       "Default Encoding: UTF-8\n",
       "Language: en\n",
       "Country: null\n",
       "--></g></svg>"
      ]
     },
     "execution_count": 42,
     "metadata": {},
     "output_type": "execute_result"
    }
   ],
   "source": [
    "%viz --style=\"DEFAULT\" --view=\"Sequence\" \"DependencyTest\""
   ]
  },
  {
   "cell_type": "code",
   "execution_count": 43,
   "id": "danish-money",
   "metadata": {
    "execution": {
     "iopub.execute_input": "2021-03-25T13:51:46.560572Z",
     "iopub.status.busy": "2021-03-25T13:51:46.559550Z",
     "iopub.status.idle": "2021-03-25T13:51:46.657036Z",
     "shell.execute_reply": "2021-03-25T13:51:46.655510Z"
    }
   },
   "outputs": [
    {
     "data": {
      "image/svg+xml": [
       "<?xml version=\"1.0\" encoding=\"UTF-8\" standalone=\"no\"?><svg xmlns=\"http://www.w3.org/2000/svg\" xmlns:xlink=\"http://www.w3.org/1999/xlink\" contentScriptType=\"application/ecmascript\" contentStyleType=\"text/css\" height=\"449px\" preserveAspectRatio=\"none\" style=\"width:489px;height:449px;\" version=\"1.1\" viewBox=\"0 0 489 449\" width=\"489px\" zoomAndPan=\"magnify\"><defs/><g><!--MD5=[fbc87193dbaf4d95561dea2c320d4a47]\n",
       "cluster E1--><a href=\"psysml:430f5b70-8499-4207-b78a-0a401723d15c\" target=\"_top\" title=\"psysml:430f5b70-8499-4207-b78a-0a401723d15c\" xlink:actuate=\"onRequest\" xlink:href=\"psysml:430f5b70-8499-4207-b78a-0a401723d15c\" xlink:show=\"new\" xlink:title=\"psysml:430f5b70-8499-4207-b78a-0a401723d15c\" xlink:type=\"simple\"><polygon fill=\"#FFFFFF\" points=\"16,6,156,6,163,28.2969,467,28.2969,467,437,16,437,16,6\" style=\"stroke: #000000; stroke-width: 1.5;\"/><line style=\"stroke: #000000; stroke-width: 1.5;\" x1=\"16\" x2=\"163\" y1=\"28.2969\" y2=\"28.2969\"/><text fill=\"#000000\" font-family=\"sans-serif\" font-size=\"14\" font-weight=\"bold\" lengthAdjust=\"spacingAndGlyphs\" textLength=\"134\" x=\"20\" y=\"20.9951\">DependencyTest</text></a><!--MD5=[e4f7fae6ed58524ba242bb0b0d3be6b7]\n",
       "cluster E2--><a href=\"psysml:ef80acf8-3bbf-43fc-abea-40efc458e2ed\" target=\"_top\" title=\"psysml:ef80acf8-3bbf-43fc-abea-40efc458e2ed\" xlink:actuate=\"onRequest\" xlink:href=\"psysml:ef80acf8-3bbf-43fc-abea-40efc458e2ed\" xlink:show=\"new\" xlink:title=\"psysml:ef80acf8-3bbf-43fc-abea-40efc458e2ed\" xlink:type=\"simple\"><polygon fill=\"#FFFFFF\" points=\"255,49,319,49,326,71.2969,443,71.2969,443,413,255,413,255,49\" style=\"stroke: #000000; stroke-width: 1.5;\"/><line style=\"stroke: #000000; stroke-width: 1.5;\" x1=\"255\" x2=\"326\" y1=\"71.2969\" y2=\"71.2969\"/><text fill=\"#000000\" font-family=\"sans-serif\" font-size=\"14\" font-weight=\"bold\" lengthAdjust=\"spacingAndGlyphs\" textLength=\"58\" x=\"259\" y=\"63.9951\">System</text></a><!--MD5=[60a26617385b1d2d0262a64233df1f8d]\n",
       "class E6--><a href=\"psysml:f9adf18b-8dbf-4490-b33d-e9e2045e17b2\" target=\"_top\" title=\"psysml:f9adf18b-8dbf-4490-b33d-e9e2045e17b2\" xlink:actuate=\"onRequest\" xlink:href=\"psysml:f9adf18b-8dbf-4490-b33d-e9e2045e17b2\" xlink:show=\"new\" xlink:title=\"psysml:f9adf18b-8dbf-4490-b33d-e9e2045e17b2\" xlink:type=\"simple\"><rect fill=\"#FFFFFF\" height=\"45.9375\" id=\"E6\" rx=\"10\" ry=\"10\" style=\"stroke: #383838; stroke-width: 1.5;\" width=\"71\" x=\"32.5\" y=\"217.5\"/><text fill=\"#000000\" font-family=\"sans-serif\" font-size=\"12\" font-style=\"italic\" lengthAdjust=\"spacingAndGlyphs\" textLength=\"69\" x=\"33.5\" y=\"233.6387\">«attribute»</text><text fill=\"#000000\" font-family=\"sans-serif\" font-size=\"12\" lengthAdjust=\"spacingAndGlyphs\" textLength=\"6\" x=\"65\" y=\"247.6074\">x</text><line style=\"stroke: #383838; stroke-width: 1.5;\" x1=\"33.5\" x2=\"102.5\" y1=\"255.4375\" y2=\"255.4375\"/></a><!--MD5=[2156ba9850f5573cc1fc38a6a4b2f02b]\n",
       "class E7--><a href=\"psysml:b3547f0d-a84a-43aa-aeb1-8f3416005562\" target=\"_top\" title=\"psysml:b3547f0d-a84a-43aa-aeb1-8f3416005562\" xlink:actuate=\"onRequest\" xlink:href=\"psysml:b3547f0d-a84a-43aa-aeb1-8f3416005562\" xlink:show=\"new\" xlink:title=\"psysml:b3547f0d-a84a-43aa-aeb1-8f3416005562\" xlink:type=\"simple\"><rect fill=\"#FFFFFF\" height=\"45.9375\" id=\"E7\" rx=\"10\" ry=\"10\" style=\"stroke: #383838; stroke-width: 1.5;\" width=\"71\" x=\"138.5\" y=\"217.5\"/><text fill=\"#000000\" font-family=\"sans-serif\" font-size=\"12\" font-style=\"italic\" lengthAdjust=\"spacingAndGlyphs\" textLength=\"69\" x=\"139.5\" y=\"233.6387\">«attribute»</text><text fill=\"#000000\" font-family=\"sans-serif\" font-size=\"12\" lengthAdjust=\"spacingAndGlyphs\" textLength=\"6\" x=\"171\" y=\"247.6074\">y</text><line style=\"stroke: #383838; stroke-width: 1.5;\" x1=\"139.5\" x2=\"208.5\" y1=\"255.4375\" y2=\"255.4375\"/></a><!--MD5=[b9389687b975829384b498ac4b7476b2]\n",
       "class E8--><a href=\"psysml:06d3944d-d8a9-41b6-a7dc-ea1875e321b3\" target=\"_top\" title=\"psysml:06d3944d-d8a9-41b6-a7dc-ea1875e321b3\" xlink:actuate=\"onRequest\" xlink:href=\"psysml:06d3944d-d8a9-41b6-a7dc-ea1875e321b3\" xlink:show=\"new\" xlink:title=\"psysml:06d3944d-d8a9-41b6-a7dc-ea1875e321b3\" xlink:type=\"simple\"><rect fill=\"#FFFFFF\" height=\"45.9375\" id=\"E8\" rx=\"10\" ry=\"10\" style=\"stroke: #383838; stroke-width: 1.5;\" width=\"71\" x=\"84.5\" y=\"87.5\"/><text fill=\"#000000\" font-family=\"sans-serif\" font-size=\"12\" font-style=\"italic\" lengthAdjust=\"spacingAndGlyphs\" textLength=\"69\" x=\"85.5\" y=\"103.6387\">«attribute»</text><text fill=\"#000000\" font-family=\"sans-serif\" font-size=\"12\" lengthAdjust=\"spacingAndGlyphs\" textLength=\"5\" x=\"117.5\" y=\"117.6074\">z</text><line style=\"stroke: #383838; stroke-width: 1.5;\" x1=\"85.5\" x2=\"154.5\" y1=\"125.4375\" y2=\"125.4375\"/></a><a href=\"psysml:cb2f8149-aa3e-4482-91f3-ed1f7789b4f6\" target=\"_top\" title=\"psysml:cb2f8149-aa3e-4482-91f3-ed1f7789b4f6\" xlink:actuate=\"onRequest\" xlink:href=\"psysml:cb2f8149-aa3e-4482-91f3-ed1f7789b4f6\" xlink:show=\"new\" xlink:title=\"psysml:cb2f8149-aa3e-4482-91f3-ed1f7789b4f6\" xlink:type=\"simple\"><polygon fill=\"#FFFFFF\" points=\"271,84,413,84,420,106.2969,427,106.2969,427,136.5938,271,136.5938,271,84\" style=\"stroke: #000000; stroke-width: 1.5;\"/><line style=\"stroke: #000000; stroke-width: 1.5;\" x1=\"271\" x2=\"420\" y1=\"106.2969\" y2=\"106.2969\"/><text fill=\"#000000\" font-family=\"sans-serif\" font-size=\"14\" font-weight=\"bold\" lengthAdjust=\"spacingAndGlyphs\" textLength=\"136\" x=\"275\" y=\"98.9951\">Application Layer</text></a><a href=\"psysml:c90fac5e-4b06-46df-8524-0f31fe17b625\" target=\"_top\" title=\"psysml:c90fac5e-4b06-46df-8524-0f31fe17b625\" xlink:actuate=\"onRequest\" xlink:href=\"psysml:c90fac5e-4b06-46df-8524-0f31fe17b625\" xlink:show=\"new\" xlink:title=\"psysml:c90fac5e-4b06-46df-8524-0f31fe17b625\" xlink:type=\"simple\"><polygon fill=\"#FFFFFF\" points=\"285,214,399,214,406,236.2969,413,236.2969,413,266.5938,285,266.5938,285,214\" style=\"stroke: #000000; stroke-width: 1.5;\"/><line style=\"stroke: #000000; stroke-width: 1.5;\" x1=\"285\" x2=\"406\" y1=\"236.2969\" y2=\"236.2969\"/><text fill=\"#000000\" font-family=\"sans-serif\" font-size=\"14\" font-weight=\"bold\" lengthAdjust=\"spacingAndGlyphs\" textLength=\"108\" x=\"289\" y=\"228.9951\">Service Layer</text></a><a href=\"psysml:5945f028-85af-4284-8707-6581cfe8107d\" target=\"_top\" title=\"psysml:5945f028-85af-4284-8707-6581cfe8107d\" xlink:actuate=\"onRequest\" xlink:href=\"psysml:5945f028-85af-4284-8707-6581cfe8107d\" xlink:show=\"new\" xlink:title=\"psysml:5945f028-85af-4284-8707-6581cfe8107d\" xlink:type=\"simple\"><polygon fill=\"#FFFFFF\" points=\"297,344,387,344,394,366.2969,401,366.2969,401,396.5938,297,396.5938,297,344\" style=\"stroke: #000000; stroke-width: 1.5;\"/><line style=\"stroke: #000000; stroke-width: 1.5;\" x1=\"297\" x2=\"394\" y1=\"366.2969\" y2=\"366.2969\"/><text fill=\"#000000\" font-family=\"sans-serif\" font-size=\"14\" font-weight=\"bold\" lengthAdjust=\"spacingAndGlyphs\" textLength=\"84\" x=\"301\" y=\"358.9951\">Data Layer</text></a><!--MD5=[af87c684e3b0d8be13c1a698a818ef1e]\n",
       "link E3 to E4--><a href=\"psysml:71e7e357-685b-41cb-afa1-92571af689f5\" target=\"_top\" title=\"psysml:71e7e357-685b-41cb-afa1-92571af689f5\" xlink:actuate=\"onRequest\" xlink:href=\"psysml:71e7e357-685b-41cb-afa1-92571af689f5\" xlink:show=\"new\" xlink:title=\"psysml:71e7e357-685b-41cb-afa1-92571af689f5\" xlink:type=\"simple\"><path d=\"M349,137.1 C349,156.8 349,184.22 349,205.73 \" fill=\"none\" id=\"E3-&gt;E4\" style=\"stroke: #383838; stroke-width: 1.0; stroke-dasharray: 7.0,7.0;\"/><polygon fill=\"#383838\" points=\"349,213.95,352,205.95,346,205.95,349,213.95\" style=\"stroke: #383838; stroke-width: 1.0;\"/><text fill=\"#000000\" font-family=\"sans-serif\" font-size=\"13\" lengthAdjust=\"spacingAndGlyphs\" textLength=\"64\" x=\"350\" y=\"180.0669\">«depend»</text></a><!--MD5=[1b7591eae5389033d8d09a9d6721a717]\n",
       "link E4 to E5--><a href=\"psysml:1107382a-37f6-4d52-8c17-003f9fc0676e\" target=\"_top\" title=\"psysml:1107382a-37f6-4d52-8c17-003f9fc0676e\" xlink:actuate=\"onRequest\" xlink:href=\"psysml:1107382a-37f6-4d52-8c17-003f9fc0676e\" xlink:show=\"new\" xlink:title=\"psysml:1107382a-37f6-4d52-8c17-003f9fc0676e\" xlink:type=\"simple\"><path d=\"M349,267.1 C349,286.8 349,314.22 349,335.73 \" fill=\"none\" id=\"E4-&gt;E5\" style=\"stroke: #383838; stroke-width: 1.0; stroke-dasharray: 7.0,7.0;\"/><polygon fill=\"#383838\" points=\"349,343.95,352,335.95,346,335.95,349,343.95\" style=\"stroke: #383838; stroke-width: 1.0;\"/><text fill=\"#000000\" font-family=\"sans-serif\" font-size=\"13\" lengthAdjust=\"spacingAndGlyphs\" textLength=\"64\" x=\"350\" y=\"310.0669\">«depend»</text></a><!--MD5=[c5e8897d989ce984f93528998a7150fe]\n",
       "link E8 to E6--><a href=\"psysml:a975d936-bb91-4b85-9c47-7632192c23c3\" target=\"_top\" title=\"psysml:a975d936-bb91-4b85-9c47-7632192c23c3\" xlink:actuate=\"onRequest\" xlink:href=\"psysml:a975d936-bb91-4b85-9c47-7632192c23c3\" xlink:show=\"new\" xlink:title=\"psysml:a975d936-bb91-4b85-9c47-7632192c23c3\" xlink:type=\"simple\"><path d=\"M89.42,133.6 C79.35,142.68 69.37,154.11 64,167 C58.5,180.2 58.66,195.94 60.54,209.38 \" fill=\"none\" id=\"E8-&gt;E6\" style=\"stroke: #383838; stroke-width: 1.0; stroke-dasharray: 7.0,7.0;\"/><polygon fill=\"#383838\" points=\"61.9,217.4,63.517,209.0104,57.6018,210.0159,61.9,217.4\" style=\"stroke: #383838; stroke-width: 1.0;\"/><text fill=\"#000000\" font-family=\"sans-serif\" font-size=\"13\" lengthAdjust=\"spacingAndGlyphs\" textLength=\"64\" x=\"65\" y=\"180.0669\">«depend»</text></a><!--MD5=[bfa3c8b0d15052fdf50ae9310b491027]\n",
       "link E8 to E7--><a href=\"psysml:a975d936-bb91-4b85-9c47-7632192c23c3\" target=\"_top\" title=\"psysml:a975d936-bb91-4b85-9c47-7632192c23c3\" xlink:actuate=\"onRequest\" xlink:href=\"psysml:a975d936-bb91-4b85-9c47-7632192c23c3\" xlink:show=\"new\" xlink:title=\"psysml:a975d936-bb91-4b85-9c47-7632192c23c3\" xlink:type=\"simple\"><path d=\"M129.28,133.5 C138.17,154.57 151.64,186.5 161.47,209.81 \" fill=\"none\" id=\"E8-&gt;E7\" style=\"stroke: #383838; stroke-width: 1.0; stroke-dasharray: 7.0,7.0;\"/><polygon fill=\"#383838\" points=\"164.66,217.35,164.3241,208.8126,158.7933,211.1385,164.66,217.35\" style=\"stroke: #383838; stroke-width: 1.0;\"/><text fill=\"#000000\" font-family=\"sans-serif\" font-size=\"13\" lengthAdjust=\"spacingAndGlyphs\" textLength=\"64\" x=\"151\" y=\"180.0669\">«depend»</text></a><!--MD5=[18e516a5b6a41a63527782b3fa4af72e]\n",
       "@startuml\r\n",
       "skinparam monochrome true\r\n",
       "skinparam classbackgroundcolor white\r\n",
       "skinparam shadowing false\r\n",
       "skinparam wrapWidth 300\r\n",
       "hide circle\r\n",
       "\r\n",
       "package \"DependencyTest\" as E1  [[psysml:430f5b70-8499-4207-b78a-0a401723d15c ]]  {\r\n",
       "package \"System\" as E2  [[psysml:ef80acf8-3bbf-43fc-abea-40efc458e2ed ]]  {\r\n",
       "package \"Application Layer\" as E3  [[psysml:cb2f8149-aa3e-4482-91f3-ed1f7789b4f6 ]]  {\r\n",
       "}\r\n",
       "package \"Service Layer\" as E4  [[psysml:c90fac5e-4b06-46df-8524-0f31fe17b625 ]]  {\r\n",
       "}\r\n",
       "package \"Data Layer\" as E5  [[psysml:5945f028-85af-4284-8707-6581cfe8107d ]]  {\r\n",
       "}\r\n",
       "}\r\n",
       "comp usage \"x\" as E6  <<(T,blue)attribute>> [[psysml:f9adf18b-8dbf-4490-b33d-e9e2045e17b2 ]] {\r\n",
       "}\r\n",
       "comp usage \"y\" as E7  <<(T,blue)attribute>> [[psysml:b3547f0d-a84a-43aa-aeb1-8f3416005562 ]] {\r\n",
       "}\r\n",
       "comp usage \"z\" as E8  <<(T,blue)attribute>> [[psysml:06d3944d-d8a9-41b6-a7dc-ea1875e321b3 ]] {\r\n",
       "}\r\n",
       "E3 ..>> E4 [[psysml:71e7e357-685b-41cb-afa1-92571af689f5 ]] : <<depend>>\r\n",
       "E4 ..>> E5 [[psysml:1107382a-37f6-4d52-8c17-003f9fc0676e ]] : <<depend>>\r\n",
       "E8 ..>> E6 [[psysml:a975d936-bb91-4b85-9c47-7632192c23c3 ]] : <<depend>>\r\n",
       "E8 ..>> E7 [[psysml:a975d936-bb91-4b85-9c47-7632192c23c3 ]] : <<depend>>\r\n",
       "}\r\n",
       "@enduml\r\n",
       "\n",
       "PlantUML version 1.2020.13(Sat Jun 13 12:26:38 UTC 2020)\n",
       "(EPL source distribution)\n",
       "Java Runtime: OpenJDK Runtime Environment\n",
       "JVM: OpenJDK 64-Bit Server VM\n",
       "Default Encoding: UTF-8\n",
       "Language: en\n",
       "Country: null\n",
       "--></g></svg>"
      ]
     },
     "execution_count": 43,
     "metadata": {},
     "output_type": "execute_result"
    }
   ],
   "source": [
    "%viz --style=\"DEFAULT\" --view=\"MIXED\" \"DependencyTest\""
   ]
  },
  {
   "cell_type": "code",
   "execution_count": 44,
   "id": "conditional-spank",
   "metadata": {
    "execution": {
     "iopub.execute_input": "2021-03-25T13:51:46.707000Z",
     "iopub.status.busy": "2021-03-25T13:51:46.706432Z",
     "iopub.status.idle": "2021-03-25T13:51:46.800280Z",
     "shell.execute_reply": "2021-03-25T13:51:46.798325Z"
    }
   },
   "outputs": [
    {
     "data": {
      "image/svg+xml": [
       "<?xml version=\"1.0\" encoding=\"UTF-8\" standalone=\"no\"?><svg xmlns=\"http://www.w3.org/2000/svg\" xmlns:xlink=\"http://www.w3.org/1999/xlink\" contentScriptType=\"application/ecmascript\" contentStyleType=\"text/css\" height=\"449px\" preserveAspectRatio=\"none\" style=\"width:489px;height:449px;\" version=\"1.1\" viewBox=\"0 0 489 449\" width=\"489px\" zoomAndPan=\"magnify\"><defs/><g><!--MD5=[fbc87193dbaf4d95561dea2c320d4a47]\n",
       "cluster E1--><a href=\"psysml:430f5b70-8499-4207-b78a-0a401723d15c\" target=\"_top\" title=\"psysml:430f5b70-8499-4207-b78a-0a401723d15c\" xlink:actuate=\"onRequest\" xlink:href=\"psysml:430f5b70-8499-4207-b78a-0a401723d15c\" xlink:show=\"new\" xlink:title=\"psysml:430f5b70-8499-4207-b78a-0a401723d15c\" xlink:type=\"simple\"><polygon fill=\"#FFFFFF\" points=\"16,6,156,6,163,28.2969,467,28.2969,467,437,16,437,16,6\" style=\"stroke: #000000; stroke-width: 1.5;\"/><line style=\"stroke: #000000; stroke-width: 1.5;\" x1=\"16\" x2=\"163\" y1=\"28.2969\" y2=\"28.2969\"/><text fill=\"#000000\" font-family=\"sans-serif\" font-size=\"14\" font-weight=\"bold\" lengthAdjust=\"spacingAndGlyphs\" textLength=\"134\" x=\"20\" y=\"20.9951\">DependencyTest</text></a><!--MD5=[e4f7fae6ed58524ba242bb0b0d3be6b7]\n",
       "cluster E2--><a href=\"psysml:ef80acf8-3bbf-43fc-abea-40efc458e2ed\" target=\"_top\" title=\"psysml:ef80acf8-3bbf-43fc-abea-40efc458e2ed\" xlink:actuate=\"onRequest\" xlink:href=\"psysml:ef80acf8-3bbf-43fc-abea-40efc458e2ed\" xlink:show=\"new\" xlink:title=\"psysml:ef80acf8-3bbf-43fc-abea-40efc458e2ed\" xlink:type=\"simple\"><polygon fill=\"#FFFFFF\" points=\"255,49,319,49,326,71.2969,443,71.2969,443,413,255,413,255,49\" style=\"stroke: #000000; stroke-width: 1.5;\"/><line style=\"stroke: #000000; stroke-width: 1.5;\" x1=\"255\" x2=\"326\" y1=\"71.2969\" y2=\"71.2969\"/><text fill=\"#000000\" font-family=\"sans-serif\" font-size=\"14\" font-weight=\"bold\" lengthAdjust=\"spacingAndGlyphs\" textLength=\"58\" x=\"259\" y=\"63.9951\">System</text></a><!--MD5=[60a26617385b1d2d0262a64233df1f8d]\n",
       "class E6--><a href=\"psysml:f9adf18b-8dbf-4490-b33d-e9e2045e17b2\" target=\"_top\" title=\"psysml:f9adf18b-8dbf-4490-b33d-e9e2045e17b2\" xlink:actuate=\"onRequest\" xlink:href=\"psysml:f9adf18b-8dbf-4490-b33d-e9e2045e17b2\" xlink:show=\"new\" xlink:title=\"psysml:f9adf18b-8dbf-4490-b33d-e9e2045e17b2\" xlink:type=\"simple\"><rect fill=\"#FFFFFF\" height=\"45.9375\" id=\"E6\" rx=\"10\" ry=\"10\" style=\"stroke: #383838; stroke-width: 1.5;\" width=\"71\" x=\"32.5\" y=\"217.5\"/><text fill=\"#000000\" font-family=\"sans-serif\" font-size=\"12\" font-style=\"italic\" lengthAdjust=\"spacingAndGlyphs\" textLength=\"69\" x=\"33.5\" y=\"233.6387\">«attribute»</text><text fill=\"#000000\" font-family=\"sans-serif\" font-size=\"12\" lengthAdjust=\"spacingAndGlyphs\" textLength=\"6\" x=\"65\" y=\"247.6074\">x</text><line style=\"stroke: #383838; stroke-width: 1.5;\" x1=\"33.5\" x2=\"102.5\" y1=\"255.4375\" y2=\"255.4375\"/></a><!--MD5=[2156ba9850f5573cc1fc38a6a4b2f02b]\n",
       "class E7--><a href=\"psysml:b3547f0d-a84a-43aa-aeb1-8f3416005562\" target=\"_top\" title=\"psysml:b3547f0d-a84a-43aa-aeb1-8f3416005562\" xlink:actuate=\"onRequest\" xlink:href=\"psysml:b3547f0d-a84a-43aa-aeb1-8f3416005562\" xlink:show=\"new\" xlink:title=\"psysml:b3547f0d-a84a-43aa-aeb1-8f3416005562\" xlink:type=\"simple\"><rect fill=\"#FFFFFF\" height=\"45.9375\" id=\"E7\" rx=\"10\" ry=\"10\" style=\"stroke: #383838; stroke-width: 1.5;\" width=\"71\" x=\"138.5\" y=\"217.5\"/><text fill=\"#000000\" font-family=\"sans-serif\" font-size=\"12\" font-style=\"italic\" lengthAdjust=\"spacingAndGlyphs\" textLength=\"69\" x=\"139.5\" y=\"233.6387\">«attribute»</text><text fill=\"#000000\" font-family=\"sans-serif\" font-size=\"12\" lengthAdjust=\"spacingAndGlyphs\" textLength=\"6\" x=\"171\" y=\"247.6074\">y</text><line style=\"stroke: #383838; stroke-width: 1.5;\" x1=\"139.5\" x2=\"208.5\" y1=\"255.4375\" y2=\"255.4375\"/></a><!--MD5=[b9389687b975829384b498ac4b7476b2]\n",
       "class E8--><a href=\"psysml:06d3944d-d8a9-41b6-a7dc-ea1875e321b3\" target=\"_top\" title=\"psysml:06d3944d-d8a9-41b6-a7dc-ea1875e321b3\" xlink:actuate=\"onRequest\" xlink:href=\"psysml:06d3944d-d8a9-41b6-a7dc-ea1875e321b3\" xlink:show=\"new\" xlink:title=\"psysml:06d3944d-d8a9-41b6-a7dc-ea1875e321b3\" xlink:type=\"simple\"><rect fill=\"#FFFFFF\" height=\"45.9375\" id=\"E8\" rx=\"10\" ry=\"10\" style=\"stroke: #383838; stroke-width: 1.5;\" width=\"71\" x=\"84.5\" y=\"87.5\"/><text fill=\"#000000\" font-family=\"sans-serif\" font-size=\"12\" font-style=\"italic\" lengthAdjust=\"spacingAndGlyphs\" textLength=\"69\" x=\"85.5\" y=\"103.6387\">«attribute»</text><text fill=\"#000000\" font-family=\"sans-serif\" font-size=\"12\" lengthAdjust=\"spacingAndGlyphs\" textLength=\"5\" x=\"117.5\" y=\"117.6074\">z</text><line style=\"stroke: #383838; stroke-width: 1.5;\" x1=\"85.5\" x2=\"154.5\" y1=\"125.4375\" y2=\"125.4375\"/></a><a href=\"psysml:cb2f8149-aa3e-4482-91f3-ed1f7789b4f6\" target=\"_top\" title=\"psysml:cb2f8149-aa3e-4482-91f3-ed1f7789b4f6\" xlink:actuate=\"onRequest\" xlink:href=\"psysml:cb2f8149-aa3e-4482-91f3-ed1f7789b4f6\" xlink:show=\"new\" xlink:title=\"psysml:cb2f8149-aa3e-4482-91f3-ed1f7789b4f6\" xlink:type=\"simple\"><polygon fill=\"#FFFFFF\" points=\"271,84,413,84,420,106.2969,427,106.2969,427,136.5938,271,136.5938,271,84\" style=\"stroke: #000000; stroke-width: 1.5;\"/><line style=\"stroke: #000000; stroke-width: 1.5;\" x1=\"271\" x2=\"420\" y1=\"106.2969\" y2=\"106.2969\"/><text fill=\"#000000\" font-family=\"sans-serif\" font-size=\"14\" font-weight=\"bold\" lengthAdjust=\"spacingAndGlyphs\" textLength=\"136\" x=\"275\" y=\"98.9951\">Application Layer</text></a><a href=\"psysml:c90fac5e-4b06-46df-8524-0f31fe17b625\" target=\"_top\" title=\"psysml:c90fac5e-4b06-46df-8524-0f31fe17b625\" xlink:actuate=\"onRequest\" xlink:href=\"psysml:c90fac5e-4b06-46df-8524-0f31fe17b625\" xlink:show=\"new\" xlink:title=\"psysml:c90fac5e-4b06-46df-8524-0f31fe17b625\" xlink:type=\"simple\"><polygon fill=\"#FFFFFF\" points=\"285,214,399,214,406,236.2969,413,236.2969,413,266.5938,285,266.5938,285,214\" style=\"stroke: #000000; stroke-width: 1.5;\"/><line style=\"stroke: #000000; stroke-width: 1.5;\" x1=\"285\" x2=\"406\" y1=\"236.2969\" y2=\"236.2969\"/><text fill=\"#000000\" font-family=\"sans-serif\" font-size=\"14\" font-weight=\"bold\" lengthAdjust=\"spacingAndGlyphs\" textLength=\"108\" x=\"289\" y=\"228.9951\">Service Layer</text></a><a href=\"psysml:5945f028-85af-4284-8707-6581cfe8107d\" target=\"_top\" title=\"psysml:5945f028-85af-4284-8707-6581cfe8107d\" xlink:actuate=\"onRequest\" xlink:href=\"psysml:5945f028-85af-4284-8707-6581cfe8107d\" xlink:show=\"new\" xlink:title=\"psysml:5945f028-85af-4284-8707-6581cfe8107d\" xlink:type=\"simple\"><polygon fill=\"#FFFFFF\" points=\"297,344,387,344,394,366.2969,401,366.2969,401,396.5938,297,396.5938,297,344\" style=\"stroke: #000000; stroke-width: 1.5;\"/><line style=\"stroke: #000000; stroke-width: 1.5;\" x1=\"297\" x2=\"394\" y1=\"366.2969\" y2=\"366.2969\"/><text fill=\"#000000\" font-family=\"sans-serif\" font-size=\"14\" font-weight=\"bold\" lengthAdjust=\"spacingAndGlyphs\" textLength=\"84\" x=\"301\" y=\"358.9951\">Data Layer</text></a><!--MD5=[af87c684e3b0d8be13c1a698a818ef1e]\n",
       "link E3 to E4--><a href=\"psysml:71e7e357-685b-41cb-afa1-92571af689f5\" target=\"_top\" title=\"psysml:71e7e357-685b-41cb-afa1-92571af689f5\" xlink:actuate=\"onRequest\" xlink:href=\"psysml:71e7e357-685b-41cb-afa1-92571af689f5\" xlink:show=\"new\" xlink:title=\"psysml:71e7e357-685b-41cb-afa1-92571af689f5\" xlink:type=\"simple\"><path d=\"M349,137.1 C349,156.8 349,184.22 349,205.73 \" fill=\"none\" id=\"E3-&gt;E4\" style=\"stroke: #383838; stroke-width: 1.0; stroke-dasharray: 7.0,7.0;\"/><polygon fill=\"#383838\" points=\"349,213.95,352,205.95,346,205.95,349,213.95\" style=\"stroke: #383838; stroke-width: 1.0;\"/><text fill=\"#000000\" font-family=\"sans-serif\" font-size=\"13\" lengthAdjust=\"spacingAndGlyphs\" textLength=\"64\" x=\"350\" y=\"180.0669\">«depend»</text></a><!--MD5=[1b7591eae5389033d8d09a9d6721a717]\n",
       "link E4 to E5--><a href=\"psysml:1107382a-37f6-4d52-8c17-003f9fc0676e\" target=\"_top\" title=\"psysml:1107382a-37f6-4d52-8c17-003f9fc0676e\" xlink:actuate=\"onRequest\" xlink:href=\"psysml:1107382a-37f6-4d52-8c17-003f9fc0676e\" xlink:show=\"new\" xlink:title=\"psysml:1107382a-37f6-4d52-8c17-003f9fc0676e\" xlink:type=\"simple\"><path d=\"M349,267.1 C349,286.8 349,314.22 349,335.73 \" fill=\"none\" id=\"E4-&gt;E5\" style=\"stroke: #383838; stroke-width: 1.0; stroke-dasharray: 7.0,7.0;\"/><polygon fill=\"#383838\" points=\"349,343.95,352,335.95,346,335.95,349,343.95\" style=\"stroke: #383838; stroke-width: 1.0;\"/><text fill=\"#000000\" font-family=\"sans-serif\" font-size=\"13\" lengthAdjust=\"spacingAndGlyphs\" textLength=\"64\" x=\"350\" y=\"310.0669\">«depend»</text></a><!--MD5=[c5e8897d989ce984f93528998a7150fe]\n",
       "link E8 to E6--><a href=\"psysml:a975d936-bb91-4b85-9c47-7632192c23c3\" target=\"_top\" title=\"psysml:a975d936-bb91-4b85-9c47-7632192c23c3\" xlink:actuate=\"onRequest\" xlink:href=\"psysml:a975d936-bb91-4b85-9c47-7632192c23c3\" xlink:show=\"new\" xlink:title=\"psysml:a975d936-bb91-4b85-9c47-7632192c23c3\" xlink:type=\"simple\"><path d=\"M89.42,133.6 C79.35,142.68 69.37,154.11 64,167 C58.5,180.2 58.66,195.94 60.54,209.38 \" fill=\"none\" id=\"E8-&gt;E6\" style=\"stroke: #383838; stroke-width: 1.0; stroke-dasharray: 7.0,7.0;\"/><polygon fill=\"#383838\" points=\"61.9,217.4,63.517,209.0104,57.6018,210.0159,61.9,217.4\" style=\"stroke: #383838; stroke-width: 1.0;\"/><text fill=\"#000000\" font-family=\"sans-serif\" font-size=\"13\" lengthAdjust=\"spacingAndGlyphs\" textLength=\"64\" x=\"65\" y=\"180.0669\">«depend»</text></a><!--MD5=[bfa3c8b0d15052fdf50ae9310b491027]\n",
       "link E8 to E7--><a href=\"psysml:a975d936-bb91-4b85-9c47-7632192c23c3\" target=\"_top\" title=\"psysml:a975d936-bb91-4b85-9c47-7632192c23c3\" xlink:actuate=\"onRequest\" xlink:href=\"psysml:a975d936-bb91-4b85-9c47-7632192c23c3\" xlink:show=\"new\" xlink:title=\"psysml:a975d936-bb91-4b85-9c47-7632192c23c3\" xlink:type=\"simple\"><path d=\"M129.28,133.5 C138.17,154.57 151.64,186.5 161.47,209.81 \" fill=\"none\" id=\"E8-&gt;E7\" style=\"stroke: #383838; stroke-width: 1.0; stroke-dasharray: 7.0,7.0;\"/><polygon fill=\"#383838\" points=\"164.66,217.35,164.3241,208.8126,158.7933,211.1385,164.66,217.35\" style=\"stroke: #383838; stroke-width: 1.0;\"/><text fill=\"#000000\" font-family=\"sans-serif\" font-size=\"13\" lengthAdjust=\"spacingAndGlyphs\" textLength=\"64\" x=\"151\" y=\"180.0669\">«depend»</text></a><!--MD5=[4dd408ea6768746ba5775eaf911586dc]\n",
       "@startuml\r\n",
       "top to bottom direction\r\n",
       "skinparam monochrome true\r\n",
       "skinparam classbackgroundcolor white\r\n",
       "skinparam shadowing false\r\n",
       "skinparam wrapWidth 300\r\n",
       "hide circle\r\n",
       "\r\n",
       "package \"DependencyTest\" as E1  [[psysml:430f5b70-8499-4207-b78a-0a401723d15c ]]  {\r\n",
       "package \"System\" as E2  [[psysml:ef80acf8-3bbf-43fc-abea-40efc458e2ed ]]  {\r\n",
       "package \"Application Layer\" as E3  [[psysml:cb2f8149-aa3e-4482-91f3-ed1f7789b4f6 ]]  {\r\n",
       "}\r\n",
       "package \"Service Layer\" as E4  [[psysml:c90fac5e-4b06-46df-8524-0f31fe17b625 ]]  {\r\n",
       "}\r\n",
       "package \"Data Layer\" as E5  [[psysml:5945f028-85af-4284-8707-6581cfe8107d ]]  {\r\n",
       "}\r\n",
       "}\r\n",
       "comp usage \"x\" as E6  <<(T,blue)attribute>> [[psysml:f9adf18b-8dbf-4490-b33d-e9e2045e17b2 ]] {\r\n",
       "}\r\n",
       "comp usage \"y\" as E7  <<(T,blue)attribute>> [[psysml:b3547f0d-a84a-43aa-aeb1-8f3416005562 ]] {\r\n",
       "}\r\n",
       "comp usage \"z\" as E8  <<(T,blue)attribute>> [[psysml:06d3944d-d8a9-41b6-a7dc-ea1875e321b3 ]] {\r\n",
       "}\r\n",
       "E3 ..>> E4 [[psysml:71e7e357-685b-41cb-afa1-92571af689f5 ]] : <<depend>>\r\n",
       "E4 ..>> E5 [[psysml:1107382a-37f6-4d52-8c17-003f9fc0676e ]] : <<depend>>\r\n",
       "E8 ..>> E6 [[psysml:a975d936-bb91-4b85-9c47-7632192c23c3 ]] : <<depend>>\r\n",
       "E8 ..>> E7 [[psysml:a975d936-bb91-4b85-9c47-7632192c23c3 ]] : <<depend>>\r\n",
       "}\r\n",
       "@enduml\r\n",
       "\n",
       "PlantUML version 1.2020.13(Sat Jun 13 12:26:38 UTC 2020)\n",
       "(EPL source distribution)\n",
       "Java Runtime: OpenJDK Runtime Environment\n",
       "JVM: OpenJDK 64-Bit Server VM\n",
       "Default Encoding: UTF-8\n",
       "Language: en\n",
       "Country: null\n",
       "--></g></svg>"
      ]
     },
     "execution_count": 44,
     "metadata": {},
     "output_type": "execute_result"
    }
   ],
   "source": [
    "%viz --style=\"TB\" --view=\"Default\" \"DependencyTest\""
   ]
  },
  {
   "cell_type": "code",
   "execution_count": 45,
   "id": "serial-calvin",
   "metadata": {
    "execution": {
     "iopub.execute_input": "2021-03-25T13:51:46.849817Z",
     "iopub.status.busy": "2021-03-25T13:51:46.849252Z",
     "iopub.status.idle": "2021-03-25T13:51:46.954194Z",
     "shell.execute_reply": "2021-03-25T13:51:46.951446Z"
    }
   },
   "outputs": [
    {
     "data": {
      "image/svg+xml": [
       "<?xml version=\"1.0\" encoding=\"UTF-8\" standalone=\"no\"?><svg xmlns=\"http://www.w3.org/2000/svg\" xmlns:xlink=\"http://www.w3.org/1999/xlink\" contentScriptType=\"application/ecmascript\" contentStyleType=\"text/css\" height=\"449px\" preserveAspectRatio=\"none\" style=\"width:489px;height:449px;\" version=\"1.1\" viewBox=\"0 0 489 449\" width=\"489px\" zoomAndPan=\"magnify\"><defs/><g><!--MD5=[fbc87193dbaf4d95561dea2c320d4a47]\n",
       "cluster E1--><a href=\"psysml:430f5b70-8499-4207-b78a-0a401723d15c\" target=\"_top\" title=\"psysml:430f5b70-8499-4207-b78a-0a401723d15c\" xlink:actuate=\"onRequest\" xlink:href=\"psysml:430f5b70-8499-4207-b78a-0a401723d15c\" xlink:show=\"new\" xlink:title=\"psysml:430f5b70-8499-4207-b78a-0a401723d15c\" xlink:type=\"simple\"><polygon fill=\"#FFFFFF\" points=\"16,6,156,6,163,28.2969,467,28.2969,467,437,16,437,16,6\" style=\"stroke: #000000; stroke-width: 1.5;\"/><line style=\"stroke: #000000; stroke-width: 1.5;\" x1=\"16\" x2=\"163\" y1=\"28.2969\" y2=\"28.2969\"/><text fill=\"#000000\" font-family=\"sans-serif\" font-size=\"14\" font-weight=\"bold\" lengthAdjust=\"spacingAndGlyphs\" textLength=\"134\" x=\"20\" y=\"20.9951\">DependencyTest</text></a><!--MD5=[e4f7fae6ed58524ba242bb0b0d3be6b7]\n",
       "cluster E2--><a href=\"psysml:ef80acf8-3bbf-43fc-abea-40efc458e2ed\" target=\"_top\" title=\"psysml:ef80acf8-3bbf-43fc-abea-40efc458e2ed\" xlink:actuate=\"onRequest\" xlink:href=\"psysml:ef80acf8-3bbf-43fc-abea-40efc458e2ed\" xlink:show=\"new\" xlink:title=\"psysml:ef80acf8-3bbf-43fc-abea-40efc458e2ed\" xlink:type=\"simple\"><polygon fill=\"#FFFFFF\" points=\"255,49,319,49,326,71.2969,443,71.2969,443,413,255,413,255,49\" style=\"stroke: #000000; stroke-width: 1.5;\"/><line style=\"stroke: #000000; stroke-width: 1.5;\" x1=\"255\" x2=\"326\" y1=\"71.2969\" y2=\"71.2969\"/><text fill=\"#000000\" font-family=\"sans-serif\" font-size=\"14\" font-weight=\"bold\" lengthAdjust=\"spacingAndGlyphs\" textLength=\"58\" x=\"259\" y=\"63.9951\">System</text></a><!--MD5=[60a26617385b1d2d0262a64233df1f8d]\n",
       "class E6--><a href=\"psysml:f9adf18b-8dbf-4490-b33d-e9e2045e17b2\" target=\"_top\" title=\"psysml:f9adf18b-8dbf-4490-b33d-e9e2045e17b2\" xlink:actuate=\"onRequest\" xlink:href=\"psysml:f9adf18b-8dbf-4490-b33d-e9e2045e17b2\" xlink:show=\"new\" xlink:title=\"psysml:f9adf18b-8dbf-4490-b33d-e9e2045e17b2\" xlink:type=\"simple\"><rect fill=\"#FFFFFF\" height=\"45.9375\" id=\"E6\" rx=\"10\" ry=\"10\" style=\"stroke: #383838; stroke-width: 1.5;\" width=\"71\" x=\"32.5\" y=\"217.5\"/><text fill=\"#000000\" font-family=\"sans-serif\" font-size=\"12\" font-style=\"italic\" lengthAdjust=\"spacingAndGlyphs\" textLength=\"69\" x=\"33.5\" y=\"233.6387\">«attribute»</text><text fill=\"#000000\" font-family=\"sans-serif\" font-size=\"12\" lengthAdjust=\"spacingAndGlyphs\" textLength=\"6\" x=\"65\" y=\"247.6074\">x</text><line style=\"stroke: #383838; stroke-width: 1.5;\" x1=\"33.5\" x2=\"102.5\" y1=\"255.4375\" y2=\"255.4375\"/></a><!--MD5=[2156ba9850f5573cc1fc38a6a4b2f02b]\n",
       "class E7--><a href=\"psysml:b3547f0d-a84a-43aa-aeb1-8f3416005562\" target=\"_top\" title=\"psysml:b3547f0d-a84a-43aa-aeb1-8f3416005562\" xlink:actuate=\"onRequest\" xlink:href=\"psysml:b3547f0d-a84a-43aa-aeb1-8f3416005562\" xlink:show=\"new\" xlink:title=\"psysml:b3547f0d-a84a-43aa-aeb1-8f3416005562\" xlink:type=\"simple\"><rect fill=\"#FFFFFF\" height=\"45.9375\" id=\"E7\" rx=\"10\" ry=\"10\" style=\"stroke: #383838; stroke-width: 1.5;\" width=\"71\" x=\"138.5\" y=\"217.5\"/><text fill=\"#000000\" font-family=\"sans-serif\" font-size=\"12\" font-style=\"italic\" lengthAdjust=\"spacingAndGlyphs\" textLength=\"69\" x=\"139.5\" y=\"233.6387\">«attribute»</text><text fill=\"#000000\" font-family=\"sans-serif\" font-size=\"12\" lengthAdjust=\"spacingAndGlyphs\" textLength=\"6\" x=\"171\" y=\"247.6074\">y</text><line style=\"stroke: #383838; stroke-width: 1.5;\" x1=\"139.5\" x2=\"208.5\" y1=\"255.4375\" y2=\"255.4375\"/></a><!--MD5=[b9389687b975829384b498ac4b7476b2]\n",
       "class E8--><a href=\"psysml:06d3944d-d8a9-41b6-a7dc-ea1875e321b3\" target=\"_top\" title=\"psysml:06d3944d-d8a9-41b6-a7dc-ea1875e321b3\" xlink:actuate=\"onRequest\" xlink:href=\"psysml:06d3944d-d8a9-41b6-a7dc-ea1875e321b3\" xlink:show=\"new\" xlink:title=\"psysml:06d3944d-d8a9-41b6-a7dc-ea1875e321b3\" xlink:type=\"simple\"><rect fill=\"#FFFFFF\" height=\"45.9375\" id=\"E8\" rx=\"10\" ry=\"10\" style=\"stroke: #383838; stroke-width: 1.5;\" width=\"71\" x=\"84.5\" y=\"87.5\"/><text fill=\"#000000\" font-family=\"sans-serif\" font-size=\"12\" font-style=\"italic\" lengthAdjust=\"spacingAndGlyphs\" textLength=\"69\" x=\"85.5\" y=\"103.6387\">«attribute»</text><text fill=\"#000000\" font-family=\"sans-serif\" font-size=\"12\" lengthAdjust=\"spacingAndGlyphs\" textLength=\"5\" x=\"117.5\" y=\"117.6074\">z</text><line style=\"stroke: #383838; stroke-width: 1.5;\" x1=\"85.5\" x2=\"154.5\" y1=\"125.4375\" y2=\"125.4375\"/></a><a href=\"psysml:cb2f8149-aa3e-4482-91f3-ed1f7789b4f6\" target=\"_top\" title=\"psysml:cb2f8149-aa3e-4482-91f3-ed1f7789b4f6\" xlink:actuate=\"onRequest\" xlink:href=\"psysml:cb2f8149-aa3e-4482-91f3-ed1f7789b4f6\" xlink:show=\"new\" xlink:title=\"psysml:cb2f8149-aa3e-4482-91f3-ed1f7789b4f6\" xlink:type=\"simple\"><polygon fill=\"#FFFFFF\" points=\"271,84,413,84,420,106.2969,427,106.2969,427,136.5938,271,136.5938,271,84\" style=\"stroke: #000000; stroke-width: 1.5;\"/><line style=\"stroke: #000000; stroke-width: 1.5;\" x1=\"271\" x2=\"420\" y1=\"106.2969\" y2=\"106.2969\"/><text fill=\"#000000\" font-family=\"sans-serif\" font-size=\"14\" font-weight=\"bold\" lengthAdjust=\"spacingAndGlyphs\" textLength=\"136\" x=\"275\" y=\"98.9951\">Application Layer</text></a><a href=\"psysml:c90fac5e-4b06-46df-8524-0f31fe17b625\" target=\"_top\" title=\"psysml:c90fac5e-4b06-46df-8524-0f31fe17b625\" xlink:actuate=\"onRequest\" xlink:href=\"psysml:c90fac5e-4b06-46df-8524-0f31fe17b625\" xlink:show=\"new\" xlink:title=\"psysml:c90fac5e-4b06-46df-8524-0f31fe17b625\" xlink:type=\"simple\"><polygon fill=\"#FFFFFF\" points=\"285,214,399,214,406,236.2969,413,236.2969,413,266.5938,285,266.5938,285,214\" style=\"stroke: #000000; stroke-width: 1.5;\"/><line style=\"stroke: #000000; stroke-width: 1.5;\" x1=\"285\" x2=\"406\" y1=\"236.2969\" y2=\"236.2969\"/><text fill=\"#000000\" font-family=\"sans-serif\" font-size=\"14\" font-weight=\"bold\" lengthAdjust=\"spacingAndGlyphs\" textLength=\"108\" x=\"289\" y=\"228.9951\">Service Layer</text></a><a href=\"psysml:5945f028-85af-4284-8707-6581cfe8107d\" target=\"_top\" title=\"psysml:5945f028-85af-4284-8707-6581cfe8107d\" xlink:actuate=\"onRequest\" xlink:href=\"psysml:5945f028-85af-4284-8707-6581cfe8107d\" xlink:show=\"new\" xlink:title=\"psysml:5945f028-85af-4284-8707-6581cfe8107d\" xlink:type=\"simple\"><polygon fill=\"#FFFFFF\" points=\"297,344,387,344,394,366.2969,401,366.2969,401,396.5938,297,396.5938,297,344\" style=\"stroke: #000000; stroke-width: 1.5;\"/><line style=\"stroke: #000000; stroke-width: 1.5;\" x1=\"297\" x2=\"394\" y1=\"366.2969\" y2=\"366.2969\"/><text fill=\"#000000\" font-family=\"sans-serif\" font-size=\"14\" font-weight=\"bold\" lengthAdjust=\"spacingAndGlyphs\" textLength=\"84\" x=\"301\" y=\"358.9951\">Data Layer</text></a><!--MD5=[af87c684e3b0d8be13c1a698a818ef1e]\n",
       "link E3 to E4--><a href=\"psysml:71e7e357-685b-41cb-afa1-92571af689f5\" target=\"_top\" title=\"psysml:71e7e357-685b-41cb-afa1-92571af689f5\" xlink:actuate=\"onRequest\" xlink:href=\"psysml:71e7e357-685b-41cb-afa1-92571af689f5\" xlink:show=\"new\" xlink:title=\"psysml:71e7e357-685b-41cb-afa1-92571af689f5\" xlink:type=\"simple\"><path d=\"M349,137.1 C349,156.8 349,184.22 349,205.73 \" fill=\"none\" id=\"E3-&gt;E4\" style=\"stroke: #383838; stroke-width: 1.0; stroke-dasharray: 7.0,7.0;\"/><polygon fill=\"#383838\" points=\"349,213.95,352,205.95,346,205.95,349,213.95\" style=\"stroke: #383838; stroke-width: 1.0;\"/><text fill=\"#000000\" font-family=\"sans-serif\" font-size=\"13\" lengthAdjust=\"spacingAndGlyphs\" textLength=\"64\" x=\"350\" y=\"180.0669\">«depend»</text></a><!--MD5=[1b7591eae5389033d8d09a9d6721a717]\n",
       "link E4 to E5--><a href=\"psysml:1107382a-37f6-4d52-8c17-003f9fc0676e\" target=\"_top\" title=\"psysml:1107382a-37f6-4d52-8c17-003f9fc0676e\" xlink:actuate=\"onRequest\" xlink:href=\"psysml:1107382a-37f6-4d52-8c17-003f9fc0676e\" xlink:show=\"new\" xlink:title=\"psysml:1107382a-37f6-4d52-8c17-003f9fc0676e\" xlink:type=\"simple\"><path d=\"M349,267.1 C349,286.8 349,314.22 349,335.73 \" fill=\"none\" id=\"E4-&gt;E5\" style=\"stroke: #383838; stroke-width: 1.0; stroke-dasharray: 7.0,7.0;\"/><polygon fill=\"#383838\" points=\"349,343.95,352,335.95,346,335.95,349,343.95\" style=\"stroke: #383838; stroke-width: 1.0;\"/><text fill=\"#000000\" font-family=\"sans-serif\" font-size=\"13\" lengthAdjust=\"spacingAndGlyphs\" textLength=\"64\" x=\"350\" y=\"310.0669\">«depend»</text></a><!--MD5=[c5e8897d989ce984f93528998a7150fe]\n",
       "link E8 to E6--><a href=\"psysml:a975d936-bb91-4b85-9c47-7632192c23c3\" target=\"_top\" title=\"psysml:a975d936-bb91-4b85-9c47-7632192c23c3\" xlink:actuate=\"onRequest\" xlink:href=\"psysml:a975d936-bb91-4b85-9c47-7632192c23c3\" xlink:show=\"new\" xlink:title=\"psysml:a975d936-bb91-4b85-9c47-7632192c23c3\" xlink:type=\"simple\"><path d=\"M89.42,133.6 C79.35,142.68 69.37,154.11 64,167 C58.5,180.2 58.66,195.94 60.54,209.38 \" fill=\"none\" id=\"E8-&gt;E6\" style=\"stroke: #383838; stroke-width: 1.0; stroke-dasharray: 7.0,7.0;\"/><polygon fill=\"#383838\" points=\"61.9,217.4,63.517,209.0104,57.6018,210.0159,61.9,217.4\" style=\"stroke: #383838; stroke-width: 1.0;\"/><text fill=\"#000000\" font-family=\"sans-serif\" font-size=\"13\" lengthAdjust=\"spacingAndGlyphs\" textLength=\"64\" x=\"65\" y=\"180.0669\">«depend»</text></a><!--MD5=[bfa3c8b0d15052fdf50ae9310b491027]\n",
       "link E8 to E7--><a href=\"psysml:a975d936-bb91-4b85-9c47-7632192c23c3\" target=\"_top\" title=\"psysml:a975d936-bb91-4b85-9c47-7632192c23c3\" xlink:actuate=\"onRequest\" xlink:href=\"psysml:a975d936-bb91-4b85-9c47-7632192c23c3\" xlink:show=\"new\" xlink:title=\"psysml:a975d936-bb91-4b85-9c47-7632192c23c3\" xlink:type=\"simple\"><path d=\"M129.28,133.5 C138.17,154.57 151.64,186.5 161.47,209.81 \" fill=\"none\" id=\"E8-&gt;E7\" style=\"stroke: #383838; stroke-width: 1.0; stroke-dasharray: 7.0,7.0;\"/><polygon fill=\"#383838\" points=\"164.66,217.35,164.3241,208.8126,158.7933,211.1385,164.66,217.35\" style=\"stroke: #383838; stroke-width: 1.0;\"/><text fill=\"#000000\" font-family=\"sans-serif\" font-size=\"13\" lengthAdjust=\"spacingAndGlyphs\" textLength=\"64\" x=\"151\" y=\"180.0669\">«depend»</text></a><!--MD5=[4dd408ea6768746ba5775eaf911586dc]\n",
       "@startuml\r\n",
       "top to bottom direction\r\n",
       "skinparam monochrome true\r\n",
       "skinparam classbackgroundcolor white\r\n",
       "skinparam shadowing false\r\n",
       "skinparam wrapWidth 300\r\n",
       "hide circle\r\n",
       "\r\n",
       "package \"DependencyTest\" as E1  [[psysml:430f5b70-8499-4207-b78a-0a401723d15c ]]  {\r\n",
       "package \"System\" as E2  [[psysml:ef80acf8-3bbf-43fc-abea-40efc458e2ed ]]  {\r\n",
       "package \"Application Layer\" as E3  [[psysml:cb2f8149-aa3e-4482-91f3-ed1f7789b4f6 ]]  {\r\n",
       "}\r\n",
       "package \"Service Layer\" as E4  [[psysml:c90fac5e-4b06-46df-8524-0f31fe17b625 ]]  {\r\n",
       "}\r\n",
       "package \"Data Layer\" as E5  [[psysml:5945f028-85af-4284-8707-6581cfe8107d ]]  {\r\n",
       "}\r\n",
       "}\r\n",
       "comp usage \"x\" as E6  <<(T,blue)attribute>> [[psysml:f9adf18b-8dbf-4490-b33d-e9e2045e17b2 ]] {\r\n",
       "}\r\n",
       "comp usage \"y\" as E7  <<(T,blue)attribute>> [[psysml:b3547f0d-a84a-43aa-aeb1-8f3416005562 ]] {\r\n",
       "}\r\n",
       "comp usage \"z\" as E8  <<(T,blue)attribute>> [[psysml:06d3944d-d8a9-41b6-a7dc-ea1875e321b3 ]] {\r\n",
       "}\r\n",
       "E3 ..>> E4 [[psysml:71e7e357-685b-41cb-afa1-92571af689f5 ]] : <<depend>>\r\n",
       "E4 ..>> E5 [[psysml:1107382a-37f6-4d52-8c17-003f9fc0676e ]] : <<depend>>\r\n",
       "E8 ..>> E6 [[psysml:a975d936-bb91-4b85-9c47-7632192c23c3 ]] : <<depend>>\r\n",
       "E8 ..>> E7 [[psysml:a975d936-bb91-4b85-9c47-7632192c23c3 ]] : <<depend>>\r\n",
       "}\r\n",
       "@enduml\r\n",
       "\n",
       "PlantUML version 1.2020.13(Sat Jun 13 12:26:38 UTC 2020)\n",
       "(EPL source distribution)\n",
       "Java Runtime: OpenJDK Runtime Environment\n",
       "JVM: OpenJDK 64-Bit Server VM\n",
       "Default Encoding: UTF-8\n",
       "Language: en\n",
       "Country: null\n",
       "--></g></svg>"
      ]
     },
     "execution_count": 45,
     "metadata": {},
     "output_type": "execute_result"
    }
   ],
   "source": [
    "%viz --style=\"TB\" --view=\"Tree\" \"DependencyTest\""
   ]
  },
  {
   "cell_type": "code",
   "execution_count": 46,
   "id": "reported-destination",
   "metadata": {
    "execution": {
     "iopub.execute_input": "2021-03-25T13:51:47.003561Z",
     "iopub.status.busy": "2021-03-25T13:51:47.002887Z",
     "iopub.status.idle": "2021-03-25T13:51:47.009525Z",
     "shell.execute_reply": "2021-03-25T13:51:47.009128Z"
    }
   },
   "outputs": [
    {
     "data": {
      "image/svg+xml": [
       "<?xml version=\"1.0\" encoding=\"UTF-8\" standalone=\"no\"?><svg xmlns=\"http://www.w3.org/2000/svg\" xmlns:xlink=\"http://www.w3.org/1999/xlink\" contentScriptType=\"application/ecmascript\" contentStyleType=\"text/css\" height=\"12px\" preserveAspectRatio=\"none\" style=\"width:12px;height:12px;\" version=\"1.1\" viewBox=\"0 0 12 12\" width=\"12px\" zoomAndPan=\"magnify\"><defs/><g><!--MD5=[f4ee21bc66e489b5061b7c3e9601fdef]\n",
       "@startuml\r\n",
       "top to bottom direction\r\n",
       "skinparam monochrome true\r\n",
       "skinparam classbackgroundcolor white\r\n",
       "skinparam shadowing false\r\n",
       "skinparam wrapWidth 300\r\n",
       "hide circle\r\n",
       "\r\n",
       "@enduml\r\n",
       "\n",
       "PlantUML version 1.2020.13(Sat Jun 13 12:26:38 UTC 2020)\n",
       "(EPL source distribution)\n",
       "Java Runtime: OpenJDK Runtime Environment\n",
       "JVM: OpenJDK 64-Bit Server VM\n",
       "Default Encoding: UTF-8\n",
       "Language: en\n",
       "Country: null\n",
       "--></g></svg>"
      ]
     },
     "execution_count": 46,
     "metadata": {},
     "output_type": "execute_result"
    }
   ],
   "source": [
    "%viz --style=\"TB\" --view=\"State\" \"DependencyTest\""
   ]
  },
  {
   "cell_type": "code",
   "execution_count": 47,
   "id": "congressional-pantyhose",
   "metadata": {
    "execution": {
     "iopub.execute_input": "2021-03-25T13:51:47.061389Z",
     "iopub.status.busy": "2021-03-25T13:51:47.060563Z",
     "iopub.status.idle": "2021-03-25T13:51:47.156327Z",
     "shell.execute_reply": "2021-03-25T13:51:47.154588Z"
    }
   },
   "outputs": [
    {
     "data": {
      "image/svg+xml": [
       "<?xml version=\"1.0\" encoding=\"UTF-8\" standalone=\"no\"?><svg xmlns=\"http://www.w3.org/2000/svg\" xmlns:xlink=\"http://www.w3.org/1999/xlink\" contentScriptType=\"application/ecmascript\" contentStyleType=\"text/css\" height=\"361px\" preserveAspectRatio=\"none\" style=\"width:489px;height:361px;\" version=\"1.1\" viewBox=\"0 0 489 361\" width=\"489px\" zoomAndPan=\"magnify\"><defs/><g><!--MD5=[fbc87193dbaf4d95561dea2c320d4a47]\n",
       "cluster E1--><a href=\"psysml:430f5b70-8499-4207-b78a-0a401723d15c\" target=\"_top\" title=\"psysml:430f5b70-8499-4207-b78a-0a401723d15c\" xlink:actuate=\"onRequest\" xlink:href=\"psysml:430f5b70-8499-4207-b78a-0a401723d15c\" xlink:show=\"new\" xlink:title=\"psysml:430f5b70-8499-4207-b78a-0a401723d15c\" xlink:type=\"simple\"><polygon fill=\"#FFFFFF\" points=\"16,6,156,6,163,28.2969,467,28.2969,467,349,16,349,16,6\" style=\"stroke: #000000; stroke-width: 1.5;\"/><line style=\"stroke: #000000; stroke-width: 1.5;\" x1=\"16\" x2=\"163\" y1=\"28.2969\" y2=\"28.2969\"/><text fill=\"#000000\" font-family=\"sans-serif\" font-size=\"14\" font-weight=\"bold\" lengthAdjust=\"spacingAndGlyphs\" textLength=\"134\" x=\"20\" y=\"20.9951\">DependencyTest</text></a><!--MD5=[e4f7fae6ed58524ba242bb0b0d3be6b7]\n",
       "cluster E2--><a href=\"psysml:ef80acf8-3bbf-43fc-abea-40efc458e2ed\" target=\"_top\" title=\"psysml:ef80acf8-3bbf-43fc-abea-40efc458e2ed\" xlink:actuate=\"onRequest\" xlink:href=\"psysml:ef80acf8-3bbf-43fc-abea-40efc458e2ed\" xlink:show=\"new\" xlink:title=\"psysml:ef80acf8-3bbf-43fc-abea-40efc458e2ed\" xlink:type=\"simple\"><polygon fill=\"#FFFFFF\" points=\"255,49,319,49,326,71.2969,443,71.2969,443,325,255,325,255,49\" style=\"stroke: #000000; stroke-width: 1.5;\"/><line style=\"stroke: #000000; stroke-width: 1.5;\" x1=\"255\" x2=\"326\" y1=\"71.2969\" y2=\"71.2969\"/><text fill=\"#000000\" font-family=\"sans-serif\" font-size=\"14\" font-weight=\"bold\" lengthAdjust=\"spacingAndGlyphs\" textLength=\"58\" x=\"259\" y=\"63.9951\">System</text></a><a href=\"psysml:cb2f8149-aa3e-4482-91f3-ed1f7789b4f6\" target=\"_top\" title=\"psysml:cb2f8149-aa3e-4482-91f3-ed1f7789b4f6\" xlink:actuate=\"onRequest\" xlink:href=\"psysml:cb2f8149-aa3e-4482-91f3-ed1f7789b4f6\" xlink:show=\"new\" xlink:title=\"psysml:cb2f8149-aa3e-4482-91f3-ed1f7789b4f6\" xlink:type=\"simple\"><polygon fill=\"#FFFFFF\" points=\"271,84,413,84,420,106.2969,427,106.2969,427,136.5938,271,136.5938,271,84\" style=\"stroke: #000000; stroke-width: 1.5;\"/><line style=\"stroke: #000000; stroke-width: 1.5;\" x1=\"271\" x2=\"420\" y1=\"106.2969\" y2=\"106.2969\"/><text fill=\"#000000\" font-family=\"sans-serif\" font-size=\"14\" font-weight=\"bold\" lengthAdjust=\"spacingAndGlyphs\" textLength=\"136\" x=\"275\" y=\"98.9951\">Application Layer</text></a><a href=\"psysml:c90fac5e-4b06-46df-8524-0f31fe17b625\" target=\"_top\" title=\"psysml:c90fac5e-4b06-46df-8524-0f31fe17b625\" xlink:actuate=\"onRequest\" xlink:href=\"psysml:c90fac5e-4b06-46df-8524-0f31fe17b625\" xlink:show=\"new\" xlink:title=\"psysml:c90fac5e-4b06-46df-8524-0f31fe17b625\" xlink:type=\"simple\"><polygon fill=\"#FFFFFF\" points=\"285,170,399,170,406,192.2969,413,192.2969,413,222.5938,285,222.5938,285,170\" style=\"stroke: #000000; stroke-width: 1.5;\"/><line style=\"stroke: #000000; stroke-width: 1.5;\" x1=\"285\" x2=\"406\" y1=\"192.2969\" y2=\"192.2969\"/><text fill=\"#000000\" font-family=\"sans-serif\" font-size=\"14\" font-weight=\"bold\" lengthAdjust=\"spacingAndGlyphs\" textLength=\"108\" x=\"289\" y=\"184.9951\">Service Layer</text></a><a href=\"psysml:5945f028-85af-4284-8707-6581cfe8107d\" target=\"_top\" title=\"psysml:5945f028-85af-4284-8707-6581cfe8107d\" xlink:actuate=\"onRequest\" xlink:href=\"psysml:5945f028-85af-4284-8707-6581cfe8107d\" xlink:show=\"new\" xlink:title=\"psysml:5945f028-85af-4284-8707-6581cfe8107d\" xlink:type=\"simple\"><polygon fill=\"#FFFFFF\" points=\"297,256,387,256,394,278.2969,401,278.2969,401,308.5938,297,308.5938,297,256\" style=\"stroke: #000000; stroke-width: 1.5;\"/><line style=\"stroke: #000000; stroke-width: 1.5;\" x1=\"297\" x2=\"394\" y1=\"278.2969\" y2=\"278.2969\"/><text fill=\"#000000\" font-family=\"sans-serif\" font-size=\"14\" font-weight=\"bold\" lengthAdjust=\"spacingAndGlyphs\" textLength=\"84\" x=\"301\" y=\"270.9951\">Data Layer</text></a><g id=\"E1.E6\"><a href=\"psysml:f9adf18b-8dbf-4490-b33d-e9e2045e17b2\" target=\"_top\" title=\"psysml:f9adf18b-8dbf-4490-b33d-e9e2045e17b2\" xlink:actuate=\"onRequest\" xlink:href=\"psysml:f9adf18b-8dbf-4490-b33d-e9e2045e17b2\" xlink:show=\"new\" xlink:title=\"psysml:f9adf18b-8dbf-4490-b33d-e9e2045e17b2\" xlink:type=\"simple\"><rect fill=\"#FFFFFF\" height=\"42.9375\" id=\"E6\" rx=\"10\" ry=\"10\" style=\"stroke: #383838; stroke-width: 1.5;\" width=\"76\" x=\"32\" y=\"175\"/><rect fill=\"#F8F8F8\" height=\"37.9375\" rx=\"10\" ry=\"10\" style=\"stroke: #F8F8F8; stroke-width: 1.5;\" width=\"76\" x=\"32\" y=\"175\"/><rect fill=\"#F8F8F8\" height=\"10\" style=\"stroke: #F8F8F8; stroke-width: 1.5;\" width=\"76\" x=\"32\" y=\"202.9375\"/><rect fill=\"none\" height=\"42.9375\" id=\"E6\" rx=\"10\" ry=\"10\" style=\"stroke: #383838; stroke-width: 1.5;\" width=\"76\" x=\"32\" y=\"175\"/><text fill=\"#000000\" font-family=\"sans-serif\" font-size=\"12\" font-style=\"italic\" lengthAdjust=\"spacingAndGlyphs\" textLength=\"69\" x=\"35.5\" y=\"191.1387\">«attribute»</text><text fill=\"#000000\" font-family=\"sans-serif\" font-size=\"12\" lengthAdjust=\"spacingAndGlyphs\" textLength=\"6\" x=\"67\" y=\"205.1074\">x</text></a></g><g id=\"E1.E7\"><a href=\"psysml:b3547f0d-a84a-43aa-aeb1-8f3416005562\" target=\"_top\" title=\"psysml:b3547f0d-a84a-43aa-aeb1-8f3416005562\" xlink:actuate=\"onRequest\" xlink:href=\"psysml:b3547f0d-a84a-43aa-aeb1-8f3416005562\" xlink:show=\"new\" xlink:title=\"psysml:b3547f0d-a84a-43aa-aeb1-8f3416005562\" xlink:type=\"simple\"><rect fill=\"#FFFFFF\" height=\"42.9375\" id=\"E7\" rx=\"10\" ry=\"10\" style=\"stroke: #383838; stroke-width: 1.5;\" width=\"76\" x=\"143\" y=\"175\"/><rect fill=\"#F8F8F8\" height=\"37.9375\" rx=\"10\" ry=\"10\" style=\"stroke: #F8F8F8; stroke-width: 1.5;\" width=\"76\" x=\"143\" y=\"175\"/><rect fill=\"#F8F8F8\" height=\"10\" style=\"stroke: #F8F8F8; stroke-width: 1.5;\" width=\"76\" x=\"143\" y=\"202.9375\"/><rect fill=\"none\" height=\"42.9375\" id=\"E7\" rx=\"10\" ry=\"10\" style=\"stroke: #383838; stroke-width: 1.5;\" width=\"76\" x=\"143\" y=\"175\"/><text fill=\"#000000\" font-family=\"sans-serif\" font-size=\"12\" font-style=\"italic\" lengthAdjust=\"spacingAndGlyphs\" textLength=\"69\" x=\"146.5\" y=\"191.1387\">«attribute»</text><text fill=\"#000000\" font-family=\"sans-serif\" font-size=\"12\" lengthAdjust=\"spacingAndGlyphs\" textLength=\"6\" x=\"178\" y=\"205.1074\">y</text></a></g><g id=\"E1.E8\"><a href=\"psysml:06d3944d-d8a9-41b6-a7dc-ea1875e321b3\" target=\"_top\" title=\"psysml:06d3944d-d8a9-41b6-a7dc-ea1875e321b3\" xlink:actuate=\"onRequest\" xlink:href=\"psysml:06d3944d-d8a9-41b6-a7dc-ea1875e321b3\" xlink:show=\"new\" xlink:title=\"psysml:06d3944d-d8a9-41b6-a7dc-ea1875e321b3\" xlink:type=\"simple\"><rect fill=\"#FFFFFF\" height=\"42.9375\" id=\"E8\" rx=\"10\" ry=\"10\" style=\"stroke: #383838; stroke-width: 1.5;\" width=\"76\" x=\"83\" y=\"89\"/><rect fill=\"#F8F8F8\" height=\"37.9375\" rx=\"10\" ry=\"10\" style=\"stroke: #F8F8F8; stroke-width: 1.5;\" width=\"76\" x=\"83\" y=\"89\"/><rect fill=\"#F8F8F8\" height=\"10\" style=\"stroke: #F8F8F8; stroke-width: 1.5;\" width=\"76\" x=\"83\" y=\"116.9375\"/><rect fill=\"none\" height=\"42.9375\" id=\"E8\" rx=\"10\" ry=\"10\" style=\"stroke: #383838; stroke-width: 1.5;\" width=\"76\" x=\"83\" y=\"89\"/><text fill=\"#000000\" font-family=\"sans-serif\" font-size=\"12\" font-style=\"italic\" lengthAdjust=\"spacingAndGlyphs\" textLength=\"69\" x=\"86.5\" y=\"105.1387\">«attribute»</text><text fill=\"#000000\" font-family=\"sans-serif\" font-size=\"12\" lengthAdjust=\"spacingAndGlyphs\" textLength=\"5\" x=\"118.5\" y=\"119.1074\">z</text></a></g><!--MD5=[af87c684e3b0d8be13c1a698a818ef1e]\n",
       "link E3 to E4--><a href=\"psysml:71e7e357-685b-41cb-afa1-92571af689f5\" target=\"_top\" title=\"psysml:71e7e357-685b-41cb-afa1-92571af689f5\" xlink:actuate=\"onRequest\" xlink:href=\"psysml:71e7e357-685b-41cb-afa1-92571af689f5\" xlink:show=\"new\" xlink:title=\"psysml:71e7e357-685b-41cb-afa1-92571af689f5\" xlink:type=\"simple\"><path d=\"M349,137.16 C349,144.98 349,153.69 349,161.94 \" fill=\"none\" id=\"E3-&gt;E4\" style=\"stroke: #383838; stroke-width: 1.0; stroke-dasharray: 7.0,7.0;\"/><polygon fill=\"#383838\" points=\"349,170,352,162,346,162,349,170\" style=\"stroke: #383838; stroke-width: 1.0;\"/><text fill=\"#000000\" font-family=\"sans-serif\" font-size=\"13\" lengthAdjust=\"spacingAndGlyphs\" textLength=\"64\" x=\"350\" y=\"158.0669\">«depend»</text></a><!--MD5=[1b7591eae5389033d8d09a9d6721a717]\n",
       "link E4 to E5--><a href=\"psysml:1107382a-37f6-4d52-8c17-003f9fc0676e\" target=\"_top\" title=\"psysml:1107382a-37f6-4d52-8c17-003f9fc0676e\" xlink:actuate=\"onRequest\" xlink:href=\"psysml:1107382a-37f6-4d52-8c17-003f9fc0676e\" xlink:show=\"new\" xlink:title=\"psysml:1107382a-37f6-4d52-8c17-003f9fc0676e\" xlink:type=\"simple\"><path d=\"M349,223.16 C349,230.98 349,239.69 349,247.94 \" fill=\"none\" id=\"E4-&gt;E5\" style=\"stroke: #383838; stroke-width: 1.0; stroke-dasharray: 7.0,7.0;\"/><polygon fill=\"#383838\" points=\"349,256,352,248,346,248,349,256\" style=\"stroke: #383838; stroke-width: 1.0;\"/><text fill=\"#000000\" font-family=\"sans-serif\" font-size=\"13\" lengthAdjust=\"spacingAndGlyphs\" textLength=\"64\" x=\"350\" y=\"244.0669\">«depend»</text></a><!--MD5=[c5e8897d989ce984f93528998a7150fe]\n",
       "link E8 to E6--><a href=\"psysml:a975d936-bb91-4b85-9c47-7632192c23c3\" target=\"_top\" title=\"psysml:a975d936-bb91-4b85-9c47-7632192c23c3\" xlink:actuate=\"onRequest\" xlink:href=\"psysml:a975d936-bb91-4b85-9c47-7632192c23c3\" xlink:show=\"new\" xlink:title=\"psysml:a975d936-bb91-4b85-9c47-7632192c23c3\" xlink:type=\"simple\"><path d=\"M82.81,126.48 C75.3,131.24 68.39,137.33 64,145 C60.26,151.53 59.68,159.3 60.56,166.77 \" fill=\"none\" id=\"E8-&gt;E6\" style=\"stroke: #383838; stroke-width: 1.0; stroke-dasharray: 7.0,7.0;\"/><polygon fill=\"#383838\" points=\"62.02,174.69,63.5257,166.2797,57.6244,167.3634,62.02,174.69\" style=\"stroke: #383838; stroke-width: 1.0;\"/><text fill=\"#000000\" font-family=\"sans-serif\" font-size=\"13\" lengthAdjust=\"spacingAndGlyphs\" textLength=\"64\" x=\"65\" y=\"158.0669\">«depend»</text></a><!--MD5=[bfa3c8b0d15052fdf50ae9310b491027]\n",
       "link E8 to E7--><a href=\"psysml:a975d936-bb91-4b85-9c47-7632192c23c3\" target=\"_top\" title=\"psysml:a975d936-bb91-4b85-9c47-7632192c23c3\" xlink:actuate=\"onRequest\" xlink:href=\"psysml:a975d936-bb91-4b85-9c47-7632192c23c3\" xlink:show=\"new\" xlink:title=\"psysml:a975d936-bb91-4b85-9c47-7632192c23c3\" xlink:type=\"simple\"><path d=\"M135.83,132.26 C143.61,143.15 153.22,156.61 161.59,168.32 \" fill=\"none\" id=\"E8-&gt;E7\" style=\"stroke: #383838; stroke-width: 1.0; stroke-dasharray: 7.0,7.0;\"/><polygon fill=\"#383838\" points=\"166.34,174.97,164.1399,166.7141,159.2538,170.1965,166.34,174.97\" style=\"stroke: #383838; stroke-width: 1.0;\"/><text fill=\"#000000\" font-family=\"sans-serif\" font-size=\"13\" lengthAdjust=\"spacingAndGlyphs\" textLength=\"64\" x=\"157\" y=\"158.0669\">«depend»</text></a><!--MD5=[239d265134ab3b3ee61db29cf28ebcbc]\n",
       "@startuml\r\n",
       "skinparam ranksep 8\r\n",
       "skinparam rectangle {\r\n",
       " backgroundColor<<block>> LightGreen\r\n",
       "}\r\n",
       "top to bottom direction\r\n",
       "skinparam monochrome true\r\n",
       "skinparam classbackgroundcolor white\r\n",
       "skinparam shadowing false\r\n",
       "skinparam wrapWidth 300\r\n",
       "hide circle\r\n",
       "\r\n",
       "package \"DependencyTest\" as E1  [[psysml:430f5b70-8499-4207-b78a-0a401723d15c ]]  {\r\n",
       "package \"System\" as E2  [[psysml:ef80acf8-3bbf-43fc-abea-40efc458e2ed ]]  {\r\n",
       "package \"Application Layer\" as E3  [[psysml:cb2f8149-aa3e-4482-91f3-ed1f7789b4f6 ]]  {\r\n",
       "}\r\n",
       "package \"Service Layer\" as E4  [[psysml:c90fac5e-4b06-46df-8524-0f31fe17b625 ]]  {\r\n",
       "}\r\n",
       "package \"Data Layer\" as E5  [[psysml:5945f028-85af-4284-8707-6581cfe8107d ]]  {\r\n",
       "}\r\n",
       "}\r\n",
       "rec usage \"x\" as E6  <<(T,blue)attribute>> [[psysml:f9adf18b-8dbf-4490-b33d-e9e2045e17b2 ]] {\r\n",
       "}\r\n",
       "rec usage \"y\" as E7  <<(T,blue)attribute>> [[psysml:b3547f0d-a84a-43aa-aeb1-8f3416005562 ]] {\r\n",
       "}\r\n",
       "rec usage \"z\" as E8  <<(T,blue)attribute>> [[psysml:06d3944d-d8a9-41b6-a7dc-ea1875e321b3 ]] {\r\n",
       "}\r\n",
       "E3 ..>> E4 [[psysml:71e7e357-685b-41cb-afa1-92571af689f5 ]] : <<depend>>\r\n",
       "E4 ..>> E5 [[psysml:1107382a-37f6-4d52-8c17-003f9fc0676e ]] : <<depend>>\r\n",
       "E8 ..>> E6 [[psysml:a975d936-bb91-4b85-9c47-7632192c23c3 ]] : <<depend>>\r\n",
       "E8 ..>> E7 [[psysml:a975d936-bb91-4b85-9c47-7632192c23c3 ]] : <<depend>>\r\n",
       "}\r\n",
       "@enduml\r\n",
       "\n",
       "PlantUML version 1.2020.13(Sat Jun 13 12:26:38 UTC 2020)\n",
       "(EPL source distribution)\n",
       "Java Runtime: OpenJDK Runtime Environment\n",
       "JVM: OpenJDK 64-Bit Server VM\n",
       "Default Encoding: UTF-8\n",
       "Language: en\n",
       "Country: null\n",
       "--></g></svg>"
      ]
     },
     "execution_count": 47,
     "metadata": {},
     "output_type": "execute_result"
    }
   ],
   "source": [
    "%viz --style=\"TB\" --view=\"Interconnection\" \"DependencyTest\""
   ]
  },
  {
   "cell_type": "code",
   "execution_count": 48,
   "id": "medium-abortion",
   "metadata": {
    "execution": {
     "iopub.execute_input": "2021-03-25T13:51:47.206563Z",
     "iopub.status.busy": "2021-03-25T13:51:47.205972Z",
     "iopub.status.idle": "2021-03-25T13:51:47.213447Z",
     "shell.execute_reply": "2021-03-25T13:51:47.213030Z"
    }
   },
   "outputs": [
    {
     "data": {
      "image/svg+xml": [
       "<?xml version=\"1.0\" encoding=\"UTF-8\" standalone=\"no\"?><svg xmlns=\"http://www.w3.org/2000/svg\" xmlns:xlink=\"http://www.w3.org/1999/xlink\" contentScriptType=\"application/ecmascript\" contentStyleType=\"text/css\" height=\"12px\" preserveAspectRatio=\"none\" style=\"width:12px;height:12px;\" version=\"1.1\" viewBox=\"0 0 12 12\" width=\"12px\" zoomAndPan=\"magnify\"><defs/><g><!--MD5=[06afc254b03ac5e9d9fb7773b07d0800]\n",
       "@startuml\r\n",
       "skinparam ranksep 8\r\n",
       "top to bottom direction\r\n",
       "skinparam monochrome true\r\n",
       "skinparam classbackgroundcolor white\r\n",
       "skinparam shadowing false\r\n",
       "skinparam wrapWidth 300\r\n",
       "hide circle\r\n",
       "\r\n",
       "@enduml\r\n",
       "\n",
       "PlantUML version 1.2020.13(Sat Jun 13 12:26:38 UTC 2020)\n",
       "(EPL source distribution)\n",
       "Java Runtime: OpenJDK Runtime Environment\n",
       "JVM: OpenJDK 64-Bit Server VM\n",
       "Default Encoding: UTF-8\n",
       "Language: en\n",
       "Country: null\n",
       "--></g></svg>"
      ]
     },
     "execution_count": 48,
     "metadata": {},
     "output_type": "execute_result"
    }
   ],
   "source": [
    "%viz --style=\"TB\" --view=\"Action\" \"DependencyTest\""
   ]
  },
  {
   "cell_type": "code",
   "execution_count": 49,
   "id": "equal-software",
   "metadata": {
    "execution": {
     "iopub.execute_input": "2021-03-25T13:51:47.264062Z",
     "iopub.status.busy": "2021-03-25T13:51:47.263627Z",
     "iopub.status.idle": "2021-03-25T13:51:47.357226Z",
     "shell.execute_reply": "2021-03-25T13:51:47.355927Z"
    }
   },
   "outputs": [
    {
     "data": {
      "image/svg+xml": [
       "<?xml version=\"1.0\" encoding=\"UTF-8\" standalone=\"no\"?><svg xmlns=\"http://www.w3.org/2000/svg\" xmlns:xlink=\"http://www.w3.org/1999/xlink\" contentScriptType=\"application/ecmascript\" contentStyleType=\"text/css\" height=\"449px\" preserveAspectRatio=\"none\" style=\"width:489px;height:449px;\" version=\"1.1\" viewBox=\"0 0 489 449\" width=\"489px\" zoomAndPan=\"magnify\"><defs/><g><!--MD5=[fbc87193dbaf4d95561dea2c320d4a47]\n",
       "cluster E1--><a href=\"psysml:430f5b70-8499-4207-b78a-0a401723d15c\" target=\"_top\" title=\"psysml:430f5b70-8499-4207-b78a-0a401723d15c\" xlink:actuate=\"onRequest\" xlink:href=\"psysml:430f5b70-8499-4207-b78a-0a401723d15c\" xlink:show=\"new\" xlink:title=\"psysml:430f5b70-8499-4207-b78a-0a401723d15c\" xlink:type=\"simple\"><polygon fill=\"#FFFFFF\" points=\"16,6,156,6,163,28.2969,467,28.2969,467,437,16,437,16,6\" style=\"stroke: #000000; stroke-width: 1.5;\"/><line style=\"stroke: #000000; stroke-width: 1.5;\" x1=\"16\" x2=\"163\" y1=\"28.2969\" y2=\"28.2969\"/><text fill=\"#000000\" font-family=\"sans-serif\" font-size=\"14\" font-weight=\"bold\" lengthAdjust=\"spacingAndGlyphs\" textLength=\"134\" x=\"20\" y=\"20.9951\">DependencyTest</text></a><!--MD5=[e4f7fae6ed58524ba242bb0b0d3be6b7]\n",
       "cluster E2--><a href=\"psysml:ef80acf8-3bbf-43fc-abea-40efc458e2ed\" target=\"_top\" title=\"psysml:ef80acf8-3bbf-43fc-abea-40efc458e2ed\" xlink:actuate=\"onRequest\" xlink:href=\"psysml:ef80acf8-3bbf-43fc-abea-40efc458e2ed\" xlink:show=\"new\" xlink:title=\"psysml:ef80acf8-3bbf-43fc-abea-40efc458e2ed\" xlink:type=\"simple\"><polygon fill=\"#FFFFFF\" points=\"255,49,319,49,326,71.2969,443,71.2969,443,413,255,413,255,49\" style=\"stroke: #000000; stroke-width: 1.5;\"/><line style=\"stroke: #000000; stroke-width: 1.5;\" x1=\"255\" x2=\"326\" y1=\"71.2969\" y2=\"71.2969\"/><text fill=\"#000000\" font-family=\"sans-serif\" font-size=\"14\" font-weight=\"bold\" lengthAdjust=\"spacingAndGlyphs\" textLength=\"58\" x=\"259\" y=\"63.9951\">System</text></a><!--MD5=[60a26617385b1d2d0262a64233df1f8d]\n",
       "class E6--><a href=\"psysml:f9adf18b-8dbf-4490-b33d-e9e2045e17b2\" target=\"_top\" title=\"psysml:f9adf18b-8dbf-4490-b33d-e9e2045e17b2\" xlink:actuate=\"onRequest\" xlink:href=\"psysml:f9adf18b-8dbf-4490-b33d-e9e2045e17b2\" xlink:show=\"new\" xlink:title=\"psysml:f9adf18b-8dbf-4490-b33d-e9e2045e17b2\" xlink:type=\"simple\"><rect fill=\"#FFFFFF\" height=\"45.9375\" id=\"E6\" rx=\"10\" ry=\"10\" style=\"stroke: #383838; stroke-width: 1.5;\" width=\"71\" x=\"32.5\" y=\"217.5\"/><text fill=\"#000000\" font-family=\"sans-serif\" font-size=\"12\" font-style=\"italic\" lengthAdjust=\"spacingAndGlyphs\" textLength=\"69\" x=\"33.5\" y=\"233.6387\">«attribute»</text><text fill=\"#000000\" font-family=\"sans-serif\" font-size=\"12\" lengthAdjust=\"spacingAndGlyphs\" textLength=\"6\" x=\"65\" y=\"247.6074\">x</text><line style=\"stroke: #383838; stroke-width: 1.5;\" x1=\"33.5\" x2=\"102.5\" y1=\"255.4375\" y2=\"255.4375\"/></a><!--MD5=[2156ba9850f5573cc1fc38a6a4b2f02b]\n",
       "class E7--><a href=\"psysml:b3547f0d-a84a-43aa-aeb1-8f3416005562\" target=\"_top\" title=\"psysml:b3547f0d-a84a-43aa-aeb1-8f3416005562\" xlink:actuate=\"onRequest\" xlink:href=\"psysml:b3547f0d-a84a-43aa-aeb1-8f3416005562\" xlink:show=\"new\" xlink:title=\"psysml:b3547f0d-a84a-43aa-aeb1-8f3416005562\" xlink:type=\"simple\"><rect fill=\"#FFFFFF\" height=\"45.9375\" id=\"E7\" rx=\"10\" ry=\"10\" style=\"stroke: #383838; stroke-width: 1.5;\" width=\"71\" x=\"138.5\" y=\"217.5\"/><text fill=\"#000000\" font-family=\"sans-serif\" font-size=\"12\" font-style=\"italic\" lengthAdjust=\"spacingAndGlyphs\" textLength=\"69\" x=\"139.5\" y=\"233.6387\">«attribute»</text><text fill=\"#000000\" font-family=\"sans-serif\" font-size=\"12\" lengthAdjust=\"spacingAndGlyphs\" textLength=\"6\" x=\"171\" y=\"247.6074\">y</text><line style=\"stroke: #383838; stroke-width: 1.5;\" x1=\"139.5\" x2=\"208.5\" y1=\"255.4375\" y2=\"255.4375\"/></a><!--MD5=[b9389687b975829384b498ac4b7476b2]\n",
       "class E8--><a href=\"psysml:06d3944d-d8a9-41b6-a7dc-ea1875e321b3\" target=\"_top\" title=\"psysml:06d3944d-d8a9-41b6-a7dc-ea1875e321b3\" xlink:actuate=\"onRequest\" xlink:href=\"psysml:06d3944d-d8a9-41b6-a7dc-ea1875e321b3\" xlink:show=\"new\" xlink:title=\"psysml:06d3944d-d8a9-41b6-a7dc-ea1875e321b3\" xlink:type=\"simple\"><rect fill=\"#FFFFFF\" height=\"45.9375\" id=\"E8\" rx=\"10\" ry=\"10\" style=\"stroke: #383838; stroke-width: 1.5;\" width=\"71\" x=\"84.5\" y=\"87.5\"/><text fill=\"#000000\" font-family=\"sans-serif\" font-size=\"12\" font-style=\"italic\" lengthAdjust=\"spacingAndGlyphs\" textLength=\"69\" x=\"85.5\" y=\"103.6387\">«attribute»</text><text fill=\"#000000\" font-family=\"sans-serif\" font-size=\"12\" lengthAdjust=\"spacingAndGlyphs\" textLength=\"5\" x=\"117.5\" y=\"117.6074\">z</text><line style=\"stroke: #383838; stroke-width: 1.5;\" x1=\"85.5\" x2=\"154.5\" y1=\"125.4375\" y2=\"125.4375\"/></a><a href=\"psysml:cb2f8149-aa3e-4482-91f3-ed1f7789b4f6\" target=\"_top\" title=\"psysml:cb2f8149-aa3e-4482-91f3-ed1f7789b4f6\" xlink:actuate=\"onRequest\" xlink:href=\"psysml:cb2f8149-aa3e-4482-91f3-ed1f7789b4f6\" xlink:show=\"new\" xlink:title=\"psysml:cb2f8149-aa3e-4482-91f3-ed1f7789b4f6\" xlink:type=\"simple\"><polygon fill=\"#FFFFFF\" points=\"271,84,413,84,420,106.2969,427,106.2969,427,136.5938,271,136.5938,271,84\" style=\"stroke: #000000; stroke-width: 1.5;\"/><line style=\"stroke: #000000; stroke-width: 1.5;\" x1=\"271\" x2=\"420\" y1=\"106.2969\" y2=\"106.2969\"/><text fill=\"#000000\" font-family=\"sans-serif\" font-size=\"14\" font-weight=\"bold\" lengthAdjust=\"spacingAndGlyphs\" textLength=\"136\" x=\"275\" y=\"98.9951\">Application Layer</text></a><a href=\"psysml:c90fac5e-4b06-46df-8524-0f31fe17b625\" target=\"_top\" title=\"psysml:c90fac5e-4b06-46df-8524-0f31fe17b625\" xlink:actuate=\"onRequest\" xlink:href=\"psysml:c90fac5e-4b06-46df-8524-0f31fe17b625\" xlink:show=\"new\" xlink:title=\"psysml:c90fac5e-4b06-46df-8524-0f31fe17b625\" xlink:type=\"simple\"><polygon fill=\"#FFFFFF\" points=\"285,214,399,214,406,236.2969,413,236.2969,413,266.5938,285,266.5938,285,214\" style=\"stroke: #000000; stroke-width: 1.5;\"/><line style=\"stroke: #000000; stroke-width: 1.5;\" x1=\"285\" x2=\"406\" y1=\"236.2969\" y2=\"236.2969\"/><text fill=\"#000000\" font-family=\"sans-serif\" font-size=\"14\" font-weight=\"bold\" lengthAdjust=\"spacingAndGlyphs\" textLength=\"108\" x=\"289\" y=\"228.9951\">Service Layer</text></a><a href=\"psysml:5945f028-85af-4284-8707-6581cfe8107d\" target=\"_top\" title=\"psysml:5945f028-85af-4284-8707-6581cfe8107d\" xlink:actuate=\"onRequest\" xlink:href=\"psysml:5945f028-85af-4284-8707-6581cfe8107d\" xlink:show=\"new\" xlink:title=\"psysml:5945f028-85af-4284-8707-6581cfe8107d\" xlink:type=\"simple\"><polygon fill=\"#FFFFFF\" points=\"297,344,387,344,394,366.2969,401,366.2969,401,396.5938,297,396.5938,297,344\" style=\"stroke: #000000; stroke-width: 1.5;\"/><line style=\"stroke: #000000; stroke-width: 1.5;\" x1=\"297\" x2=\"394\" y1=\"366.2969\" y2=\"366.2969\"/><text fill=\"#000000\" font-family=\"sans-serif\" font-size=\"14\" font-weight=\"bold\" lengthAdjust=\"spacingAndGlyphs\" textLength=\"84\" x=\"301\" y=\"358.9951\">Data Layer</text></a><!--MD5=[af87c684e3b0d8be13c1a698a818ef1e]\n",
       "link E3 to E4--><a href=\"psysml:71e7e357-685b-41cb-afa1-92571af689f5\" target=\"_top\" title=\"psysml:71e7e357-685b-41cb-afa1-92571af689f5\" xlink:actuate=\"onRequest\" xlink:href=\"psysml:71e7e357-685b-41cb-afa1-92571af689f5\" xlink:show=\"new\" xlink:title=\"psysml:71e7e357-685b-41cb-afa1-92571af689f5\" xlink:type=\"simple\"><path d=\"M349,137.1 C349,156.8 349,184.22 349,205.73 \" fill=\"none\" id=\"E3-&gt;E4\" style=\"stroke: #383838; stroke-width: 1.0; stroke-dasharray: 7.0,7.0;\"/><polygon fill=\"#383838\" points=\"349,213.95,352,205.95,346,205.95,349,213.95\" style=\"stroke: #383838; stroke-width: 1.0;\"/><text fill=\"#000000\" font-family=\"sans-serif\" font-size=\"13\" lengthAdjust=\"spacingAndGlyphs\" textLength=\"64\" x=\"350\" y=\"180.0669\">«depend»</text></a><!--MD5=[1b7591eae5389033d8d09a9d6721a717]\n",
       "link E4 to E5--><a href=\"psysml:1107382a-37f6-4d52-8c17-003f9fc0676e\" target=\"_top\" title=\"psysml:1107382a-37f6-4d52-8c17-003f9fc0676e\" xlink:actuate=\"onRequest\" xlink:href=\"psysml:1107382a-37f6-4d52-8c17-003f9fc0676e\" xlink:show=\"new\" xlink:title=\"psysml:1107382a-37f6-4d52-8c17-003f9fc0676e\" xlink:type=\"simple\"><path d=\"M349,267.1 C349,286.8 349,314.22 349,335.73 \" fill=\"none\" id=\"E4-&gt;E5\" style=\"stroke: #383838; stroke-width: 1.0; stroke-dasharray: 7.0,7.0;\"/><polygon fill=\"#383838\" points=\"349,343.95,352,335.95,346,335.95,349,343.95\" style=\"stroke: #383838; stroke-width: 1.0;\"/><text fill=\"#000000\" font-family=\"sans-serif\" font-size=\"13\" lengthAdjust=\"spacingAndGlyphs\" textLength=\"64\" x=\"350\" y=\"310.0669\">«depend»</text></a><!--MD5=[c5e8897d989ce984f93528998a7150fe]\n",
       "link E8 to E6--><a href=\"psysml:a975d936-bb91-4b85-9c47-7632192c23c3\" target=\"_top\" title=\"psysml:a975d936-bb91-4b85-9c47-7632192c23c3\" xlink:actuate=\"onRequest\" xlink:href=\"psysml:a975d936-bb91-4b85-9c47-7632192c23c3\" xlink:show=\"new\" xlink:title=\"psysml:a975d936-bb91-4b85-9c47-7632192c23c3\" xlink:type=\"simple\"><path d=\"M89.42,133.6 C79.35,142.68 69.37,154.11 64,167 C58.5,180.2 58.66,195.94 60.54,209.38 \" fill=\"none\" id=\"E8-&gt;E6\" style=\"stroke: #383838; stroke-width: 1.0; stroke-dasharray: 7.0,7.0;\"/><polygon fill=\"#383838\" points=\"61.9,217.4,63.517,209.0104,57.6018,210.0159,61.9,217.4\" style=\"stroke: #383838; stroke-width: 1.0;\"/><text fill=\"#000000\" font-family=\"sans-serif\" font-size=\"13\" lengthAdjust=\"spacingAndGlyphs\" textLength=\"64\" x=\"65\" y=\"180.0669\">«depend»</text></a><!--MD5=[bfa3c8b0d15052fdf50ae9310b491027]\n",
       "link E8 to E7--><a href=\"psysml:a975d936-bb91-4b85-9c47-7632192c23c3\" target=\"_top\" title=\"psysml:a975d936-bb91-4b85-9c47-7632192c23c3\" xlink:actuate=\"onRequest\" xlink:href=\"psysml:a975d936-bb91-4b85-9c47-7632192c23c3\" xlink:show=\"new\" xlink:title=\"psysml:a975d936-bb91-4b85-9c47-7632192c23c3\" xlink:type=\"simple\"><path d=\"M129.28,133.5 C138.17,154.57 151.64,186.5 161.47,209.81 \" fill=\"none\" id=\"E8-&gt;E7\" style=\"stroke: #383838; stroke-width: 1.0; stroke-dasharray: 7.0,7.0;\"/><polygon fill=\"#383838\" points=\"164.66,217.35,164.3241,208.8126,158.7933,211.1385,164.66,217.35\" style=\"stroke: #383838; stroke-width: 1.0;\"/><text fill=\"#000000\" font-family=\"sans-serif\" font-size=\"13\" lengthAdjust=\"spacingAndGlyphs\" textLength=\"64\" x=\"151\" y=\"180.0669\">«depend»</text></a><!--MD5=[4dd408ea6768746ba5775eaf911586dc]\n",
       "@startuml\r\n",
       "top to bottom direction\r\n",
       "skinparam monochrome true\r\n",
       "skinparam classbackgroundcolor white\r\n",
       "skinparam shadowing false\r\n",
       "skinparam wrapWidth 300\r\n",
       "hide circle\r\n",
       "\r\n",
       "package \"DependencyTest\" as E1  [[psysml:430f5b70-8499-4207-b78a-0a401723d15c ]]  {\r\n",
       "package \"System\" as E2  [[psysml:ef80acf8-3bbf-43fc-abea-40efc458e2ed ]]  {\r\n",
       "package \"Application Layer\" as E3  [[psysml:cb2f8149-aa3e-4482-91f3-ed1f7789b4f6 ]]  {\r\n",
       "}\r\n",
       "package \"Service Layer\" as E4  [[psysml:c90fac5e-4b06-46df-8524-0f31fe17b625 ]]  {\r\n",
       "}\r\n",
       "package \"Data Layer\" as E5  [[psysml:5945f028-85af-4284-8707-6581cfe8107d ]]  {\r\n",
       "}\r\n",
       "}\r\n",
       "comp usage \"x\" as E6  <<(T,blue)attribute>> [[psysml:f9adf18b-8dbf-4490-b33d-e9e2045e17b2 ]] {\r\n",
       "}\r\n",
       "comp usage \"y\" as E7  <<(T,blue)attribute>> [[psysml:b3547f0d-a84a-43aa-aeb1-8f3416005562 ]] {\r\n",
       "}\r\n",
       "comp usage \"z\" as E8  <<(T,blue)attribute>> [[psysml:06d3944d-d8a9-41b6-a7dc-ea1875e321b3 ]] {\r\n",
       "}\r\n",
       "E3 ..>> E4 [[psysml:71e7e357-685b-41cb-afa1-92571af689f5 ]] : <<depend>>\r\n",
       "E4 ..>> E5 [[psysml:1107382a-37f6-4d52-8c17-003f9fc0676e ]] : <<depend>>\r\n",
       "E8 ..>> E6 [[psysml:a975d936-bb91-4b85-9c47-7632192c23c3 ]] : <<depend>>\r\n",
       "E8 ..>> E7 [[psysml:a975d936-bb91-4b85-9c47-7632192c23c3 ]] : <<depend>>\r\n",
       "}\r\n",
       "@enduml\r\n",
       "\n",
       "PlantUML version 1.2020.13(Sat Jun 13 12:26:38 UTC 2020)\n",
       "(EPL source distribution)\n",
       "Java Runtime: OpenJDK Runtime Environment\n",
       "JVM: OpenJDK 64-Bit Server VM\n",
       "Default Encoding: UTF-8\n",
       "Language: en\n",
       "Country: null\n",
       "--></g></svg>"
      ]
     },
     "execution_count": 49,
     "metadata": {},
     "output_type": "execute_result"
    }
   ],
   "source": [
    "%viz --style=\"TB\" --view=\"Sequence\" \"DependencyTest\""
   ]
  },
  {
   "cell_type": "code",
   "execution_count": 50,
   "id": "limiting-trinity",
   "metadata": {
    "execution": {
     "iopub.execute_input": "2021-03-25T13:51:47.408774Z",
     "iopub.status.busy": "2021-03-25T13:51:47.408223Z",
     "iopub.status.idle": "2021-03-25T13:51:47.500699Z",
     "shell.execute_reply": "2021-03-25T13:51:47.498870Z"
    }
   },
   "outputs": [
    {
     "data": {
      "image/svg+xml": [
       "<?xml version=\"1.0\" encoding=\"UTF-8\" standalone=\"no\"?><svg xmlns=\"http://www.w3.org/2000/svg\" xmlns:xlink=\"http://www.w3.org/1999/xlink\" contentScriptType=\"application/ecmascript\" contentStyleType=\"text/css\" height=\"449px\" preserveAspectRatio=\"none\" style=\"width:489px;height:449px;\" version=\"1.1\" viewBox=\"0 0 489 449\" width=\"489px\" zoomAndPan=\"magnify\"><defs/><g><!--MD5=[fbc87193dbaf4d95561dea2c320d4a47]\n",
       "cluster E1--><a href=\"psysml:430f5b70-8499-4207-b78a-0a401723d15c\" target=\"_top\" title=\"psysml:430f5b70-8499-4207-b78a-0a401723d15c\" xlink:actuate=\"onRequest\" xlink:href=\"psysml:430f5b70-8499-4207-b78a-0a401723d15c\" xlink:show=\"new\" xlink:title=\"psysml:430f5b70-8499-4207-b78a-0a401723d15c\" xlink:type=\"simple\"><polygon fill=\"#FFFFFF\" points=\"16,6,156,6,163,28.2969,467,28.2969,467,437,16,437,16,6\" style=\"stroke: #000000; stroke-width: 1.5;\"/><line style=\"stroke: #000000; stroke-width: 1.5;\" x1=\"16\" x2=\"163\" y1=\"28.2969\" y2=\"28.2969\"/><text fill=\"#000000\" font-family=\"sans-serif\" font-size=\"14\" font-weight=\"bold\" lengthAdjust=\"spacingAndGlyphs\" textLength=\"134\" x=\"20\" y=\"20.9951\">DependencyTest</text></a><!--MD5=[e4f7fae6ed58524ba242bb0b0d3be6b7]\n",
       "cluster E2--><a href=\"psysml:ef80acf8-3bbf-43fc-abea-40efc458e2ed\" target=\"_top\" title=\"psysml:ef80acf8-3bbf-43fc-abea-40efc458e2ed\" xlink:actuate=\"onRequest\" xlink:href=\"psysml:ef80acf8-3bbf-43fc-abea-40efc458e2ed\" xlink:show=\"new\" xlink:title=\"psysml:ef80acf8-3bbf-43fc-abea-40efc458e2ed\" xlink:type=\"simple\"><polygon fill=\"#FFFFFF\" points=\"255,49,319,49,326,71.2969,443,71.2969,443,413,255,413,255,49\" style=\"stroke: #000000; stroke-width: 1.5;\"/><line style=\"stroke: #000000; stroke-width: 1.5;\" x1=\"255\" x2=\"326\" y1=\"71.2969\" y2=\"71.2969\"/><text fill=\"#000000\" font-family=\"sans-serif\" font-size=\"14\" font-weight=\"bold\" lengthAdjust=\"spacingAndGlyphs\" textLength=\"58\" x=\"259\" y=\"63.9951\">System</text></a><!--MD5=[60a26617385b1d2d0262a64233df1f8d]\n",
       "class E6--><a href=\"psysml:f9adf18b-8dbf-4490-b33d-e9e2045e17b2\" target=\"_top\" title=\"psysml:f9adf18b-8dbf-4490-b33d-e9e2045e17b2\" xlink:actuate=\"onRequest\" xlink:href=\"psysml:f9adf18b-8dbf-4490-b33d-e9e2045e17b2\" xlink:show=\"new\" xlink:title=\"psysml:f9adf18b-8dbf-4490-b33d-e9e2045e17b2\" xlink:type=\"simple\"><rect fill=\"#FFFFFF\" height=\"45.9375\" id=\"E6\" rx=\"10\" ry=\"10\" style=\"stroke: #383838; stroke-width: 1.5;\" width=\"71\" x=\"32.5\" y=\"217.5\"/><text fill=\"#000000\" font-family=\"sans-serif\" font-size=\"12\" font-style=\"italic\" lengthAdjust=\"spacingAndGlyphs\" textLength=\"69\" x=\"33.5\" y=\"233.6387\">«attribute»</text><text fill=\"#000000\" font-family=\"sans-serif\" font-size=\"12\" lengthAdjust=\"spacingAndGlyphs\" textLength=\"6\" x=\"65\" y=\"247.6074\">x</text><line style=\"stroke: #383838; stroke-width: 1.5;\" x1=\"33.5\" x2=\"102.5\" y1=\"255.4375\" y2=\"255.4375\"/></a><!--MD5=[2156ba9850f5573cc1fc38a6a4b2f02b]\n",
       "class E7--><a href=\"psysml:b3547f0d-a84a-43aa-aeb1-8f3416005562\" target=\"_top\" title=\"psysml:b3547f0d-a84a-43aa-aeb1-8f3416005562\" xlink:actuate=\"onRequest\" xlink:href=\"psysml:b3547f0d-a84a-43aa-aeb1-8f3416005562\" xlink:show=\"new\" xlink:title=\"psysml:b3547f0d-a84a-43aa-aeb1-8f3416005562\" xlink:type=\"simple\"><rect fill=\"#FFFFFF\" height=\"45.9375\" id=\"E7\" rx=\"10\" ry=\"10\" style=\"stroke: #383838; stroke-width: 1.5;\" width=\"71\" x=\"138.5\" y=\"217.5\"/><text fill=\"#000000\" font-family=\"sans-serif\" font-size=\"12\" font-style=\"italic\" lengthAdjust=\"spacingAndGlyphs\" textLength=\"69\" x=\"139.5\" y=\"233.6387\">«attribute»</text><text fill=\"#000000\" font-family=\"sans-serif\" font-size=\"12\" lengthAdjust=\"spacingAndGlyphs\" textLength=\"6\" x=\"171\" y=\"247.6074\">y</text><line style=\"stroke: #383838; stroke-width: 1.5;\" x1=\"139.5\" x2=\"208.5\" y1=\"255.4375\" y2=\"255.4375\"/></a><!--MD5=[b9389687b975829384b498ac4b7476b2]\n",
       "class E8--><a href=\"psysml:06d3944d-d8a9-41b6-a7dc-ea1875e321b3\" target=\"_top\" title=\"psysml:06d3944d-d8a9-41b6-a7dc-ea1875e321b3\" xlink:actuate=\"onRequest\" xlink:href=\"psysml:06d3944d-d8a9-41b6-a7dc-ea1875e321b3\" xlink:show=\"new\" xlink:title=\"psysml:06d3944d-d8a9-41b6-a7dc-ea1875e321b3\" xlink:type=\"simple\"><rect fill=\"#FFFFFF\" height=\"45.9375\" id=\"E8\" rx=\"10\" ry=\"10\" style=\"stroke: #383838; stroke-width: 1.5;\" width=\"71\" x=\"84.5\" y=\"87.5\"/><text fill=\"#000000\" font-family=\"sans-serif\" font-size=\"12\" font-style=\"italic\" lengthAdjust=\"spacingAndGlyphs\" textLength=\"69\" x=\"85.5\" y=\"103.6387\">«attribute»</text><text fill=\"#000000\" font-family=\"sans-serif\" font-size=\"12\" lengthAdjust=\"spacingAndGlyphs\" textLength=\"5\" x=\"117.5\" y=\"117.6074\">z</text><line style=\"stroke: #383838; stroke-width: 1.5;\" x1=\"85.5\" x2=\"154.5\" y1=\"125.4375\" y2=\"125.4375\"/></a><a href=\"psysml:cb2f8149-aa3e-4482-91f3-ed1f7789b4f6\" target=\"_top\" title=\"psysml:cb2f8149-aa3e-4482-91f3-ed1f7789b4f6\" xlink:actuate=\"onRequest\" xlink:href=\"psysml:cb2f8149-aa3e-4482-91f3-ed1f7789b4f6\" xlink:show=\"new\" xlink:title=\"psysml:cb2f8149-aa3e-4482-91f3-ed1f7789b4f6\" xlink:type=\"simple\"><polygon fill=\"#FFFFFF\" points=\"271,84,413,84,420,106.2969,427,106.2969,427,136.5938,271,136.5938,271,84\" style=\"stroke: #000000; stroke-width: 1.5;\"/><line style=\"stroke: #000000; stroke-width: 1.5;\" x1=\"271\" x2=\"420\" y1=\"106.2969\" y2=\"106.2969\"/><text fill=\"#000000\" font-family=\"sans-serif\" font-size=\"14\" font-weight=\"bold\" lengthAdjust=\"spacingAndGlyphs\" textLength=\"136\" x=\"275\" y=\"98.9951\">Application Layer</text></a><a href=\"psysml:c90fac5e-4b06-46df-8524-0f31fe17b625\" target=\"_top\" title=\"psysml:c90fac5e-4b06-46df-8524-0f31fe17b625\" xlink:actuate=\"onRequest\" xlink:href=\"psysml:c90fac5e-4b06-46df-8524-0f31fe17b625\" xlink:show=\"new\" xlink:title=\"psysml:c90fac5e-4b06-46df-8524-0f31fe17b625\" xlink:type=\"simple\"><polygon fill=\"#FFFFFF\" points=\"285,214,399,214,406,236.2969,413,236.2969,413,266.5938,285,266.5938,285,214\" style=\"stroke: #000000; stroke-width: 1.5;\"/><line style=\"stroke: #000000; stroke-width: 1.5;\" x1=\"285\" x2=\"406\" y1=\"236.2969\" y2=\"236.2969\"/><text fill=\"#000000\" font-family=\"sans-serif\" font-size=\"14\" font-weight=\"bold\" lengthAdjust=\"spacingAndGlyphs\" textLength=\"108\" x=\"289\" y=\"228.9951\">Service Layer</text></a><a href=\"psysml:5945f028-85af-4284-8707-6581cfe8107d\" target=\"_top\" title=\"psysml:5945f028-85af-4284-8707-6581cfe8107d\" xlink:actuate=\"onRequest\" xlink:href=\"psysml:5945f028-85af-4284-8707-6581cfe8107d\" xlink:show=\"new\" xlink:title=\"psysml:5945f028-85af-4284-8707-6581cfe8107d\" xlink:type=\"simple\"><polygon fill=\"#FFFFFF\" points=\"297,344,387,344,394,366.2969,401,366.2969,401,396.5938,297,396.5938,297,344\" style=\"stroke: #000000; stroke-width: 1.5;\"/><line style=\"stroke: #000000; stroke-width: 1.5;\" x1=\"297\" x2=\"394\" y1=\"366.2969\" y2=\"366.2969\"/><text fill=\"#000000\" font-family=\"sans-serif\" font-size=\"14\" font-weight=\"bold\" lengthAdjust=\"spacingAndGlyphs\" textLength=\"84\" x=\"301\" y=\"358.9951\">Data Layer</text></a><!--MD5=[af87c684e3b0d8be13c1a698a818ef1e]\n",
       "link E3 to E4--><a href=\"psysml:71e7e357-685b-41cb-afa1-92571af689f5\" target=\"_top\" title=\"psysml:71e7e357-685b-41cb-afa1-92571af689f5\" xlink:actuate=\"onRequest\" xlink:href=\"psysml:71e7e357-685b-41cb-afa1-92571af689f5\" xlink:show=\"new\" xlink:title=\"psysml:71e7e357-685b-41cb-afa1-92571af689f5\" xlink:type=\"simple\"><path d=\"M349,137.1 C349,156.8 349,184.22 349,205.73 \" fill=\"none\" id=\"E3-&gt;E4\" style=\"stroke: #383838; stroke-width: 1.0; stroke-dasharray: 7.0,7.0;\"/><polygon fill=\"#383838\" points=\"349,213.95,352,205.95,346,205.95,349,213.95\" style=\"stroke: #383838; stroke-width: 1.0;\"/><text fill=\"#000000\" font-family=\"sans-serif\" font-size=\"13\" lengthAdjust=\"spacingAndGlyphs\" textLength=\"64\" x=\"350\" y=\"180.0669\">«depend»</text></a><!--MD5=[1b7591eae5389033d8d09a9d6721a717]\n",
       "link E4 to E5--><a href=\"psysml:1107382a-37f6-4d52-8c17-003f9fc0676e\" target=\"_top\" title=\"psysml:1107382a-37f6-4d52-8c17-003f9fc0676e\" xlink:actuate=\"onRequest\" xlink:href=\"psysml:1107382a-37f6-4d52-8c17-003f9fc0676e\" xlink:show=\"new\" xlink:title=\"psysml:1107382a-37f6-4d52-8c17-003f9fc0676e\" xlink:type=\"simple\"><path d=\"M349,267.1 C349,286.8 349,314.22 349,335.73 \" fill=\"none\" id=\"E4-&gt;E5\" style=\"stroke: #383838; stroke-width: 1.0; stroke-dasharray: 7.0,7.0;\"/><polygon fill=\"#383838\" points=\"349,343.95,352,335.95,346,335.95,349,343.95\" style=\"stroke: #383838; stroke-width: 1.0;\"/><text fill=\"#000000\" font-family=\"sans-serif\" font-size=\"13\" lengthAdjust=\"spacingAndGlyphs\" textLength=\"64\" x=\"350\" y=\"310.0669\">«depend»</text></a><!--MD5=[c5e8897d989ce984f93528998a7150fe]\n",
       "link E8 to E6--><a href=\"psysml:a975d936-bb91-4b85-9c47-7632192c23c3\" target=\"_top\" title=\"psysml:a975d936-bb91-4b85-9c47-7632192c23c3\" xlink:actuate=\"onRequest\" xlink:href=\"psysml:a975d936-bb91-4b85-9c47-7632192c23c3\" xlink:show=\"new\" xlink:title=\"psysml:a975d936-bb91-4b85-9c47-7632192c23c3\" xlink:type=\"simple\"><path d=\"M89.42,133.6 C79.35,142.68 69.37,154.11 64,167 C58.5,180.2 58.66,195.94 60.54,209.38 \" fill=\"none\" id=\"E8-&gt;E6\" style=\"stroke: #383838; stroke-width: 1.0; stroke-dasharray: 7.0,7.0;\"/><polygon fill=\"#383838\" points=\"61.9,217.4,63.517,209.0104,57.6018,210.0159,61.9,217.4\" style=\"stroke: #383838; stroke-width: 1.0;\"/><text fill=\"#000000\" font-family=\"sans-serif\" font-size=\"13\" lengthAdjust=\"spacingAndGlyphs\" textLength=\"64\" x=\"65\" y=\"180.0669\">«depend»</text></a><!--MD5=[bfa3c8b0d15052fdf50ae9310b491027]\n",
       "link E8 to E7--><a href=\"psysml:a975d936-bb91-4b85-9c47-7632192c23c3\" target=\"_top\" title=\"psysml:a975d936-bb91-4b85-9c47-7632192c23c3\" xlink:actuate=\"onRequest\" xlink:href=\"psysml:a975d936-bb91-4b85-9c47-7632192c23c3\" xlink:show=\"new\" xlink:title=\"psysml:a975d936-bb91-4b85-9c47-7632192c23c3\" xlink:type=\"simple\"><path d=\"M129.28,133.5 C138.17,154.57 151.64,186.5 161.47,209.81 \" fill=\"none\" id=\"E8-&gt;E7\" style=\"stroke: #383838; stroke-width: 1.0; stroke-dasharray: 7.0,7.0;\"/><polygon fill=\"#383838\" points=\"164.66,217.35,164.3241,208.8126,158.7933,211.1385,164.66,217.35\" style=\"stroke: #383838; stroke-width: 1.0;\"/><text fill=\"#000000\" font-family=\"sans-serif\" font-size=\"13\" lengthAdjust=\"spacingAndGlyphs\" textLength=\"64\" x=\"151\" y=\"180.0669\">«depend»</text></a><!--MD5=[4dd408ea6768746ba5775eaf911586dc]\n",
       "@startuml\r\n",
       "top to bottom direction\r\n",
       "skinparam monochrome true\r\n",
       "skinparam classbackgroundcolor white\r\n",
       "skinparam shadowing false\r\n",
       "skinparam wrapWidth 300\r\n",
       "hide circle\r\n",
       "\r\n",
       "package \"DependencyTest\" as E1  [[psysml:430f5b70-8499-4207-b78a-0a401723d15c ]]  {\r\n",
       "package \"System\" as E2  [[psysml:ef80acf8-3bbf-43fc-abea-40efc458e2ed ]]  {\r\n",
       "package \"Application Layer\" as E3  [[psysml:cb2f8149-aa3e-4482-91f3-ed1f7789b4f6 ]]  {\r\n",
       "}\r\n",
       "package \"Service Layer\" as E4  [[psysml:c90fac5e-4b06-46df-8524-0f31fe17b625 ]]  {\r\n",
       "}\r\n",
       "package \"Data Layer\" as E5  [[psysml:5945f028-85af-4284-8707-6581cfe8107d ]]  {\r\n",
       "}\r\n",
       "}\r\n",
       "comp usage \"x\" as E6  <<(T,blue)attribute>> [[psysml:f9adf18b-8dbf-4490-b33d-e9e2045e17b2 ]] {\r\n",
       "}\r\n",
       "comp usage \"y\" as E7  <<(T,blue)attribute>> [[psysml:b3547f0d-a84a-43aa-aeb1-8f3416005562 ]] {\r\n",
       "}\r\n",
       "comp usage \"z\" as E8  <<(T,blue)attribute>> [[psysml:06d3944d-d8a9-41b6-a7dc-ea1875e321b3 ]] {\r\n",
       "}\r\n",
       "E3 ..>> E4 [[psysml:71e7e357-685b-41cb-afa1-92571af689f5 ]] : <<depend>>\r\n",
       "E4 ..>> E5 [[psysml:1107382a-37f6-4d52-8c17-003f9fc0676e ]] : <<depend>>\r\n",
       "E8 ..>> E6 [[psysml:a975d936-bb91-4b85-9c47-7632192c23c3 ]] : <<depend>>\r\n",
       "E8 ..>> E7 [[psysml:a975d936-bb91-4b85-9c47-7632192c23c3 ]] : <<depend>>\r\n",
       "}\r\n",
       "@enduml\r\n",
       "\n",
       "PlantUML version 1.2020.13(Sat Jun 13 12:26:38 UTC 2020)\n",
       "(EPL source distribution)\n",
       "Java Runtime: OpenJDK Runtime Environment\n",
       "JVM: OpenJDK 64-Bit Server VM\n",
       "Default Encoding: UTF-8\n",
       "Language: en\n",
       "Country: null\n",
       "--></g></svg>"
      ]
     },
     "execution_count": 50,
     "metadata": {},
     "output_type": "execute_result"
    }
   ],
   "source": [
    "%viz --style=\"TB\" --view=\"MIXED\" \"DependencyTest\""
   ]
  },
  {
   "cell_type": "code",
   "execution_count": 51,
   "id": "literary-profile",
   "metadata": {
    "execution": {
     "iopub.execute_input": "2021-03-25T13:51:47.553509Z",
     "iopub.status.busy": "2021-03-25T13:51:47.552577Z",
     "iopub.status.idle": "2021-03-25T13:51:47.647846Z",
     "shell.execute_reply": "2021-03-25T13:51:47.646307Z"
    }
   },
   "outputs": [
    {
     "data": {
      "image/svg+xml": [
       "<?xml version=\"1.0\" encoding=\"UTF-8\" standalone=\"no\"?><svg xmlns=\"http://www.w3.org/2000/svg\" xmlns:xlink=\"http://www.w3.org/1999/xlink\" contentScriptType=\"application/ecmascript\" contentStyleType=\"text/css\" height=\"449px\" preserveAspectRatio=\"none\" style=\"width:489px;height:449px;\" version=\"1.1\" viewBox=\"0 0 489 449\" width=\"489px\" zoomAndPan=\"magnify\"><defs/><g><!--MD5=[fbc87193dbaf4d95561dea2c320d4a47]\n",
       "cluster E1--><a href=\"psysml:430f5b70-8499-4207-b78a-0a401723d15c\" target=\"_top\" title=\"psysml:430f5b70-8499-4207-b78a-0a401723d15c\" xlink:actuate=\"onRequest\" xlink:href=\"psysml:430f5b70-8499-4207-b78a-0a401723d15c\" xlink:show=\"new\" xlink:title=\"psysml:430f5b70-8499-4207-b78a-0a401723d15c\" xlink:type=\"simple\"><polygon fill=\"#FFFFFF\" points=\"16,6,156,6,163,28.2969,467,28.2969,467,437,16,437,16,6\" style=\"stroke: #000000; stroke-width: 1.5;\"/><line style=\"stroke: #000000; stroke-width: 1.5;\" x1=\"16\" x2=\"163\" y1=\"28.2969\" y2=\"28.2969\"/><text fill=\"#000000\" font-family=\"sans-serif\" font-size=\"14\" font-weight=\"bold\" lengthAdjust=\"spacingAndGlyphs\" textLength=\"134\" x=\"20\" y=\"20.9951\">DependencyTest</text></a><!--MD5=[e4f7fae6ed58524ba242bb0b0d3be6b7]\n",
       "cluster E2--><a href=\"psysml:ef80acf8-3bbf-43fc-abea-40efc458e2ed\" target=\"_top\" title=\"psysml:ef80acf8-3bbf-43fc-abea-40efc458e2ed\" xlink:actuate=\"onRequest\" xlink:href=\"psysml:ef80acf8-3bbf-43fc-abea-40efc458e2ed\" xlink:show=\"new\" xlink:title=\"psysml:ef80acf8-3bbf-43fc-abea-40efc458e2ed\" xlink:type=\"simple\"><polygon fill=\"#FFFFFF\" points=\"255,49,319,49,326,71.2969,443,71.2969,443,413,255,413,255,49\" style=\"stroke: #000000; stroke-width: 1.5;\"/><line style=\"stroke: #000000; stroke-width: 1.5;\" x1=\"255\" x2=\"326\" y1=\"71.2969\" y2=\"71.2969\"/><text fill=\"#000000\" font-family=\"sans-serif\" font-size=\"14\" font-weight=\"bold\" lengthAdjust=\"spacingAndGlyphs\" textLength=\"58\" x=\"259\" y=\"63.9951\">System</text></a><!--MD5=[60a26617385b1d2d0262a64233df1f8d]\n",
       "class E6--><a href=\"psysml:f9adf18b-8dbf-4490-b33d-e9e2045e17b2\" target=\"_top\" title=\"psysml:f9adf18b-8dbf-4490-b33d-e9e2045e17b2\" xlink:actuate=\"onRequest\" xlink:href=\"psysml:f9adf18b-8dbf-4490-b33d-e9e2045e17b2\" xlink:show=\"new\" xlink:title=\"psysml:f9adf18b-8dbf-4490-b33d-e9e2045e17b2\" xlink:type=\"simple\"><rect fill=\"#FFFFFF\" height=\"45.9375\" id=\"E6\" rx=\"10\" ry=\"10\" style=\"stroke: #383838; stroke-width: 1.5;\" width=\"71\" x=\"32.5\" y=\"217.5\"/><text fill=\"#000000\" font-family=\"sans-serif\" font-size=\"12\" font-style=\"italic\" lengthAdjust=\"spacingAndGlyphs\" textLength=\"69\" x=\"33.5\" y=\"233.6387\">«attribute»</text><text fill=\"#000000\" font-family=\"sans-serif\" font-size=\"12\" lengthAdjust=\"spacingAndGlyphs\" textLength=\"6\" x=\"65\" y=\"247.6074\">x</text><line style=\"stroke: #383838; stroke-width: 1.5;\" x1=\"33.5\" x2=\"102.5\" y1=\"255.4375\" y2=\"255.4375\"/></a><!--MD5=[2156ba9850f5573cc1fc38a6a4b2f02b]\n",
       "class E7--><a href=\"psysml:b3547f0d-a84a-43aa-aeb1-8f3416005562\" target=\"_top\" title=\"psysml:b3547f0d-a84a-43aa-aeb1-8f3416005562\" xlink:actuate=\"onRequest\" xlink:href=\"psysml:b3547f0d-a84a-43aa-aeb1-8f3416005562\" xlink:show=\"new\" xlink:title=\"psysml:b3547f0d-a84a-43aa-aeb1-8f3416005562\" xlink:type=\"simple\"><rect fill=\"#FFFFFF\" height=\"45.9375\" id=\"E7\" rx=\"10\" ry=\"10\" style=\"stroke: #383838; stroke-width: 1.5;\" width=\"71\" x=\"138.5\" y=\"217.5\"/><text fill=\"#000000\" font-family=\"sans-serif\" font-size=\"12\" font-style=\"italic\" lengthAdjust=\"spacingAndGlyphs\" textLength=\"69\" x=\"139.5\" y=\"233.6387\">«attribute»</text><text fill=\"#000000\" font-family=\"sans-serif\" font-size=\"12\" lengthAdjust=\"spacingAndGlyphs\" textLength=\"6\" x=\"171\" y=\"247.6074\">y</text><line style=\"stroke: #383838; stroke-width: 1.5;\" x1=\"139.5\" x2=\"208.5\" y1=\"255.4375\" y2=\"255.4375\"/></a><!--MD5=[b9389687b975829384b498ac4b7476b2]\n",
       "class E8--><a href=\"psysml:06d3944d-d8a9-41b6-a7dc-ea1875e321b3\" target=\"_top\" title=\"psysml:06d3944d-d8a9-41b6-a7dc-ea1875e321b3\" xlink:actuate=\"onRequest\" xlink:href=\"psysml:06d3944d-d8a9-41b6-a7dc-ea1875e321b3\" xlink:show=\"new\" xlink:title=\"psysml:06d3944d-d8a9-41b6-a7dc-ea1875e321b3\" xlink:type=\"simple\"><rect fill=\"#FFFFFF\" height=\"45.9375\" id=\"E8\" rx=\"10\" ry=\"10\" style=\"stroke: #383838; stroke-width: 1.5;\" width=\"71\" x=\"84.5\" y=\"87.5\"/><text fill=\"#000000\" font-family=\"sans-serif\" font-size=\"12\" font-style=\"italic\" lengthAdjust=\"spacingAndGlyphs\" textLength=\"69\" x=\"85.5\" y=\"103.6387\">«attribute»</text><text fill=\"#000000\" font-family=\"sans-serif\" font-size=\"12\" lengthAdjust=\"spacingAndGlyphs\" textLength=\"5\" x=\"117.5\" y=\"117.6074\">z</text><line style=\"stroke: #383838; stroke-width: 1.5;\" x1=\"85.5\" x2=\"154.5\" y1=\"125.4375\" y2=\"125.4375\"/></a><a href=\"psysml:cb2f8149-aa3e-4482-91f3-ed1f7789b4f6\" target=\"_top\" title=\"psysml:cb2f8149-aa3e-4482-91f3-ed1f7789b4f6\" xlink:actuate=\"onRequest\" xlink:href=\"psysml:cb2f8149-aa3e-4482-91f3-ed1f7789b4f6\" xlink:show=\"new\" xlink:title=\"psysml:cb2f8149-aa3e-4482-91f3-ed1f7789b4f6\" xlink:type=\"simple\"><polygon fill=\"#FFFFFF\" points=\"271,84,413,84,420,106.2969,427,106.2969,427,136.5938,271,136.5938,271,84\" style=\"stroke: #000000; stroke-width: 1.5;\"/><line style=\"stroke: #000000; stroke-width: 1.5;\" x1=\"271\" x2=\"420\" y1=\"106.2969\" y2=\"106.2969\"/><text fill=\"#000000\" font-family=\"sans-serif\" font-size=\"14\" font-weight=\"bold\" lengthAdjust=\"spacingAndGlyphs\" textLength=\"136\" x=\"275\" y=\"98.9951\">Application Layer</text></a><a href=\"psysml:c90fac5e-4b06-46df-8524-0f31fe17b625\" target=\"_top\" title=\"psysml:c90fac5e-4b06-46df-8524-0f31fe17b625\" xlink:actuate=\"onRequest\" xlink:href=\"psysml:c90fac5e-4b06-46df-8524-0f31fe17b625\" xlink:show=\"new\" xlink:title=\"psysml:c90fac5e-4b06-46df-8524-0f31fe17b625\" xlink:type=\"simple\"><polygon fill=\"#FFFFFF\" points=\"285,214,399,214,406,236.2969,413,236.2969,413,266.5938,285,266.5938,285,214\" style=\"stroke: #000000; stroke-width: 1.5;\"/><line style=\"stroke: #000000; stroke-width: 1.5;\" x1=\"285\" x2=\"406\" y1=\"236.2969\" y2=\"236.2969\"/><text fill=\"#000000\" font-family=\"sans-serif\" font-size=\"14\" font-weight=\"bold\" lengthAdjust=\"spacingAndGlyphs\" textLength=\"108\" x=\"289\" y=\"228.9951\">Service Layer</text></a><a href=\"psysml:5945f028-85af-4284-8707-6581cfe8107d\" target=\"_top\" title=\"psysml:5945f028-85af-4284-8707-6581cfe8107d\" xlink:actuate=\"onRequest\" xlink:href=\"psysml:5945f028-85af-4284-8707-6581cfe8107d\" xlink:show=\"new\" xlink:title=\"psysml:5945f028-85af-4284-8707-6581cfe8107d\" xlink:type=\"simple\"><polygon fill=\"#FFFFFF\" points=\"297,344,387,344,394,366.2969,401,366.2969,401,396.5938,297,396.5938,297,344\" style=\"stroke: #000000; stroke-width: 1.5;\"/><line style=\"stroke: #000000; stroke-width: 1.5;\" x1=\"297\" x2=\"394\" y1=\"366.2969\" y2=\"366.2969\"/><text fill=\"#000000\" font-family=\"sans-serif\" font-size=\"14\" font-weight=\"bold\" lengthAdjust=\"spacingAndGlyphs\" textLength=\"84\" x=\"301\" y=\"358.9951\">Data Layer</text></a><!--MD5=[af87c684e3b0d8be13c1a698a818ef1e]\n",
       "link E3 to E4--><a href=\"psysml:71e7e357-685b-41cb-afa1-92571af689f5\" target=\"_top\" title=\"psysml:71e7e357-685b-41cb-afa1-92571af689f5\" xlink:actuate=\"onRequest\" xlink:href=\"psysml:71e7e357-685b-41cb-afa1-92571af689f5\" xlink:show=\"new\" xlink:title=\"psysml:71e7e357-685b-41cb-afa1-92571af689f5\" xlink:type=\"simple\"><path d=\"M349,137.12 C349,137.12 349,205.91 349,205.91 \" fill=\"none\" id=\"E3-&gt;E4\" style=\"stroke: #383838; stroke-width: 1.0; stroke-dasharray: 7.0,7.0;\"/><polygon fill=\"#383838\" points=\"349,213.91,352,205.91,346,205.91,349,213.91\" style=\"stroke: #383838; stroke-width: 1.0;\"/><text fill=\"#000000\" font-family=\"sans-serif\" font-size=\"13\" lengthAdjust=\"spacingAndGlyphs\" textLength=\"64\" x=\"350\" y=\"180.0669\">«depend»</text></a><!--MD5=[1b7591eae5389033d8d09a9d6721a717]\n",
       "link E4 to E5--><a href=\"psysml:1107382a-37f6-4d52-8c17-003f9fc0676e\" target=\"_top\" title=\"psysml:1107382a-37f6-4d52-8c17-003f9fc0676e\" xlink:actuate=\"onRequest\" xlink:href=\"psysml:1107382a-37f6-4d52-8c17-003f9fc0676e\" xlink:show=\"new\" xlink:title=\"psysml:1107382a-37f6-4d52-8c17-003f9fc0676e\" xlink:type=\"simple\"><path d=\"M349,267.12 C349,267.12 349,335.91 349,335.91 \" fill=\"none\" id=\"E4-&gt;E5\" style=\"stroke: #383838; stroke-width: 1.0; stroke-dasharray: 7.0,7.0;\"/><polygon fill=\"#383838\" points=\"349,343.91,352,335.91,346,335.91,349,343.91\" style=\"stroke: #383838; stroke-width: 1.0;\"/><text fill=\"#000000\" font-family=\"sans-serif\" font-size=\"13\" lengthAdjust=\"spacingAndGlyphs\" textLength=\"64\" x=\"350\" y=\"310.0669\">«depend»</text></a><!--MD5=[c5e8897d989ce984f93528998a7150fe]\n",
       "link E8 to E6--><a href=\"psysml:a975d936-bb91-4b85-9c47-7632192c23c3\" target=\"_top\" title=\"psysml:a975d936-bb91-4b85-9c47-7632192c23c3\" xlink:actuate=\"onRequest\" xlink:href=\"psysml:a975d936-bb91-4b85-9c47-7632192c23c3\" xlink:show=\"new\" xlink:title=\"psysml:a975d936-bb91-4b85-9c47-7632192c23c3\" xlink:type=\"simple\"><path d=\"M94,133.74 C94,133.74 94,209.46 94,209.46 \" fill=\"none\" id=\"E8-&gt;E6\" style=\"stroke: #383838; stroke-width: 1.0; stroke-dasharray: 7.0,7.0;\"/><polygon fill=\"#383838\" points=\"94,217.46,97,209.46,91,209.46,94,217.46\" style=\"stroke: #383838; stroke-width: 1.0;\"/><text fill=\"#000000\" font-family=\"sans-serif\" font-size=\"13\" lengthAdjust=\"spacingAndGlyphs\" textLength=\"64\" x=\"68\" y=\"180.0669\">«depend»</text></a><!--MD5=[bfa3c8b0d15052fdf50ae9310b491027]\n",
       "link E8 to E7--><a href=\"psysml:a975d936-bb91-4b85-9c47-7632192c23c3\" target=\"_top\" title=\"psysml:a975d936-bb91-4b85-9c47-7632192c23c3\" xlink:actuate=\"onRequest\" xlink:href=\"psysml:a975d936-bb91-4b85-9c47-7632192c23c3\" xlink:show=\"new\" xlink:title=\"psysml:a975d936-bb91-4b85-9c47-7632192c23c3\" xlink:type=\"simple\"><path d=\"M147,133.74 C147,133.74 147,209.46 147,209.46 \" fill=\"none\" id=\"E8-&gt;E7\" style=\"stroke: #383838; stroke-width: 1.0; stroke-dasharray: 7.0,7.0;\"/><polygon fill=\"#383838\" points=\"147,217.46,150,209.46,144,209.46,147,217.46\" style=\"stroke: #383838; stroke-width: 1.0;\"/><text fill=\"#000000\" font-family=\"sans-serif\" font-size=\"13\" lengthAdjust=\"spacingAndGlyphs\" textLength=\"64\" x=\"174\" y=\"180.0669\">«depend»</text></a><!--MD5=[906eabc3851d7108bb4d564d05a54ab0]\n",
       "@startuml\r\n",
       "skinparam linetype ortho\r\n",
       "skinparam monochrome true\r\n",
       "skinparam classbackgroundcolor white\r\n",
       "skinparam shadowing false\r\n",
       "skinparam wrapWidth 300\r\n",
       "hide circle\r\n",
       "\r\n",
       "package \"DependencyTest\" as E1  [[psysml:430f5b70-8499-4207-b78a-0a401723d15c ]]  {\r\n",
       "package \"System\" as E2  [[psysml:ef80acf8-3bbf-43fc-abea-40efc458e2ed ]]  {\r\n",
       "package \"Application Layer\" as E3  [[psysml:cb2f8149-aa3e-4482-91f3-ed1f7789b4f6 ]]  {\r\n",
       "}\r\n",
       "package \"Service Layer\" as E4  [[psysml:c90fac5e-4b06-46df-8524-0f31fe17b625 ]]  {\r\n",
       "}\r\n",
       "package \"Data Layer\" as E5  [[psysml:5945f028-85af-4284-8707-6581cfe8107d ]]  {\r\n",
       "}\r\n",
       "}\r\n",
       "comp usage \"x\" as E6  <<(T,blue)attribute>> [[psysml:f9adf18b-8dbf-4490-b33d-e9e2045e17b2 ]] {\r\n",
       "}\r\n",
       "comp usage \"y\" as E7  <<(T,blue)attribute>> [[psysml:b3547f0d-a84a-43aa-aeb1-8f3416005562 ]] {\r\n",
       "}\r\n",
       "comp usage \"z\" as E8  <<(T,blue)attribute>> [[psysml:06d3944d-d8a9-41b6-a7dc-ea1875e321b3 ]] {\r\n",
       "}\r\n",
       "E3 ..>> E4 [[psysml:71e7e357-685b-41cb-afa1-92571af689f5 ]] : <<depend>>\r\n",
       "E4 ..>> E5 [[psysml:1107382a-37f6-4d52-8c17-003f9fc0676e ]] : <<depend>>\r\n",
       "E8 ..>> E6 [[psysml:a975d936-bb91-4b85-9c47-7632192c23c3 ]] : <<depend>>\r\n",
       "E8 ..>> E7 [[psysml:a975d936-bb91-4b85-9c47-7632192c23c3 ]] : <<depend>>\r\n",
       "}\r\n",
       "@enduml\r\n",
       "\n",
       "PlantUML version 1.2020.13(Sat Jun 13 12:26:38 UTC 2020)\n",
       "(EPL source distribution)\n",
       "Java Runtime: OpenJDK Runtime Environment\n",
       "JVM: OpenJDK 64-Bit Server VM\n",
       "Default Encoding: UTF-8\n",
       "Language: en\n",
       "Country: null\n",
       "--></g></svg>"
      ]
     },
     "execution_count": 51,
     "metadata": {},
     "output_type": "execute_result"
    }
   ],
   "source": [
    "%viz --style=\"ORTHOLINE\" --view=\"Default\" \"DependencyTest\""
   ]
  },
  {
   "cell_type": "code",
   "execution_count": 52,
   "id": "accessible-magazine",
   "metadata": {
    "execution": {
     "iopub.execute_input": "2021-03-25T13:51:47.698880Z",
     "iopub.status.busy": "2021-03-25T13:51:47.698184Z",
     "iopub.status.idle": "2021-03-25T13:51:47.793353Z",
     "shell.execute_reply": "2021-03-25T13:51:47.791755Z"
    }
   },
   "outputs": [
    {
     "data": {
      "image/svg+xml": [
       "<?xml version=\"1.0\" encoding=\"UTF-8\" standalone=\"no\"?><svg xmlns=\"http://www.w3.org/2000/svg\" xmlns:xlink=\"http://www.w3.org/1999/xlink\" contentScriptType=\"application/ecmascript\" contentStyleType=\"text/css\" height=\"449px\" preserveAspectRatio=\"none\" style=\"width:489px;height:449px;\" version=\"1.1\" viewBox=\"0 0 489 449\" width=\"489px\" zoomAndPan=\"magnify\"><defs/><g><!--MD5=[fbc87193dbaf4d95561dea2c320d4a47]\n",
       "cluster E1--><a href=\"psysml:430f5b70-8499-4207-b78a-0a401723d15c\" target=\"_top\" title=\"psysml:430f5b70-8499-4207-b78a-0a401723d15c\" xlink:actuate=\"onRequest\" xlink:href=\"psysml:430f5b70-8499-4207-b78a-0a401723d15c\" xlink:show=\"new\" xlink:title=\"psysml:430f5b70-8499-4207-b78a-0a401723d15c\" xlink:type=\"simple\"><polygon fill=\"#FFFFFF\" points=\"16,6,156,6,163,28.2969,467,28.2969,467,437,16,437,16,6\" style=\"stroke: #000000; stroke-width: 1.5;\"/><line style=\"stroke: #000000; stroke-width: 1.5;\" x1=\"16\" x2=\"163\" y1=\"28.2969\" y2=\"28.2969\"/><text fill=\"#000000\" font-family=\"sans-serif\" font-size=\"14\" font-weight=\"bold\" lengthAdjust=\"spacingAndGlyphs\" textLength=\"134\" x=\"20\" y=\"20.9951\">DependencyTest</text></a><!--MD5=[e4f7fae6ed58524ba242bb0b0d3be6b7]\n",
       "cluster E2--><a href=\"psysml:ef80acf8-3bbf-43fc-abea-40efc458e2ed\" target=\"_top\" title=\"psysml:ef80acf8-3bbf-43fc-abea-40efc458e2ed\" xlink:actuate=\"onRequest\" xlink:href=\"psysml:ef80acf8-3bbf-43fc-abea-40efc458e2ed\" xlink:show=\"new\" xlink:title=\"psysml:ef80acf8-3bbf-43fc-abea-40efc458e2ed\" xlink:type=\"simple\"><polygon fill=\"#FFFFFF\" points=\"255,49,319,49,326,71.2969,443,71.2969,443,413,255,413,255,49\" style=\"stroke: #000000; stroke-width: 1.5;\"/><line style=\"stroke: #000000; stroke-width: 1.5;\" x1=\"255\" x2=\"326\" y1=\"71.2969\" y2=\"71.2969\"/><text fill=\"#000000\" font-family=\"sans-serif\" font-size=\"14\" font-weight=\"bold\" lengthAdjust=\"spacingAndGlyphs\" textLength=\"58\" x=\"259\" y=\"63.9951\">System</text></a><!--MD5=[60a26617385b1d2d0262a64233df1f8d]\n",
       "class E6--><a href=\"psysml:f9adf18b-8dbf-4490-b33d-e9e2045e17b2\" target=\"_top\" title=\"psysml:f9adf18b-8dbf-4490-b33d-e9e2045e17b2\" xlink:actuate=\"onRequest\" xlink:href=\"psysml:f9adf18b-8dbf-4490-b33d-e9e2045e17b2\" xlink:show=\"new\" xlink:title=\"psysml:f9adf18b-8dbf-4490-b33d-e9e2045e17b2\" xlink:type=\"simple\"><rect fill=\"#FFFFFF\" height=\"45.9375\" id=\"E6\" rx=\"10\" ry=\"10\" style=\"stroke: #383838; stroke-width: 1.5;\" width=\"71\" x=\"32.5\" y=\"217.5\"/><text fill=\"#000000\" font-family=\"sans-serif\" font-size=\"12\" font-style=\"italic\" lengthAdjust=\"spacingAndGlyphs\" textLength=\"69\" x=\"33.5\" y=\"233.6387\">«attribute»</text><text fill=\"#000000\" font-family=\"sans-serif\" font-size=\"12\" lengthAdjust=\"spacingAndGlyphs\" textLength=\"6\" x=\"65\" y=\"247.6074\">x</text><line style=\"stroke: #383838; stroke-width: 1.5;\" x1=\"33.5\" x2=\"102.5\" y1=\"255.4375\" y2=\"255.4375\"/></a><!--MD5=[2156ba9850f5573cc1fc38a6a4b2f02b]\n",
       "class E7--><a href=\"psysml:b3547f0d-a84a-43aa-aeb1-8f3416005562\" target=\"_top\" title=\"psysml:b3547f0d-a84a-43aa-aeb1-8f3416005562\" xlink:actuate=\"onRequest\" xlink:href=\"psysml:b3547f0d-a84a-43aa-aeb1-8f3416005562\" xlink:show=\"new\" xlink:title=\"psysml:b3547f0d-a84a-43aa-aeb1-8f3416005562\" xlink:type=\"simple\"><rect fill=\"#FFFFFF\" height=\"45.9375\" id=\"E7\" rx=\"10\" ry=\"10\" style=\"stroke: #383838; stroke-width: 1.5;\" width=\"71\" x=\"138.5\" y=\"217.5\"/><text fill=\"#000000\" font-family=\"sans-serif\" font-size=\"12\" font-style=\"italic\" lengthAdjust=\"spacingAndGlyphs\" textLength=\"69\" x=\"139.5\" y=\"233.6387\">«attribute»</text><text fill=\"#000000\" font-family=\"sans-serif\" font-size=\"12\" lengthAdjust=\"spacingAndGlyphs\" textLength=\"6\" x=\"171\" y=\"247.6074\">y</text><line style=\"stroke: #383838; stroke-width: 1.5;\" x1=\"139.5\" x2=\"208.5\" y1=\"255.4375\" y2=\"255.4375\"/></a><!--MD5=[b9389687b975829384b498ac4b7476b2]\n",
       "class E8--><a href=\"psysml:06d3944d-d8a9-41b6-a7dc-ea1875e321b3\" target=\"_top\" title=\"psysml:06d3944d-d8a9-41b6-a7dc-ea1875e321b3\" xlink:actuate=\"onRequest\" xlink:href=\"psysml:06d3944d-d8a9-41b6-a7dc-ea1875e321b3\" xlink:show=\"new\" xlink:title=\"psysml:06d3944d-d8a9-41b6-a7dc-ea1875e321b3\" xlink:type=\"simple\"><rect fill=\"#FFFFFF\" height=\"45.9375\" id=\"E8\" rx=\"10\" ry=\"10\" style=\"stroke: #383838; stroke-width: 1.5;\" width=\"71\" x=\"84.5\" y=\"87.5\"/><text fill=\"#000000\" font-family=\"sans-serif\" font-size=\"12\" font-style=\"italic\" lengthAdjust=\"spacingAndGlyphs\" textLength=\"69\" x=\"85.5\" y=\"103.6387\">«attribute»</text><text fill=\"#000000\" font-family=\"sans-serif\" font-size=\"12\" lengthAdjust=\"spacingAndGlyphs\" textLength=\"5\" x=\"117.5\" y=\"117.6074\">z</text><line style=\"stroke: #383838; stroke-width: 1.5;\" x1=\"85.5\" x2=\"154.5\" y1=\"125.4375\" y2=\"125.4375\"/></a><a href=\"psysml:cb2f8149-aa3e-4482-91f3-ed1f7789b4f6\" target=\"_top\" title=\"psysml:cb2f8149-aa3e-4482-91f3-ed1f7789b4f6\" xlink:actuate=\"onRequest\" xlink:href=\"psysml:cb2f8149-aa3e-4482-91f3-ed1f7789b4f6\" xlink:show=\"new\" xlink:title=\"psysml:cb2f8149-aa3e-4482-91f3-ed1f7789b4f6\" xlink:type=\"simple\"><polygon fill=\"#FFFFFF\" points=\"271,84,413,84,420,106.2969,427,106.2969,427,136.5938,271,136.5938,271,84\" style=\"stroke: #000000; stroke-width: 1.5;\"/><line style=\"stroke: #000000; stroke-width: 1.5;\" x1=\"271\" x2=\"420\" y1=\"106.2969\" y2=\"106.2969\"/><text fill=\"#000000\" font-family=\"sans-serif\" font-size=\"14\" font-weight=\"bold\" lengthAdjust=\"spacingAndGlyphs\" textLength=\"136\" x=\"275\" y=\"98.9951\">Application Layer</text></a><a href=\"psysml:c90fac5e-4b06-46df-8524-0f31fe17b625\" target=\"_top\" title=\"psysml:c90fac5e-4b06-46df-8524-0f31fe17b625\" xlink:actuate=\"onRequest\" xlink:href=\"psysml:c90fac5e-4b06-46df-8524-0f31fe17b625\" xlink:show=\"new\" xlink:title=\"psysml:c90fac5e-4b06-46df-8524-0f31fe17b625\" xlink:type=\"simple\"><polygon fill=\"#FFFFFF\" points=\"285,214,399,214,406,236.2969,413,236.2969,413,266.5938,285,266.5938,285,214\" style=\"stroke: #000000; stroke-width: 1.5;\"/><line style=\"stroke: #000000; stroke-width: 1.5;\" x1=\"285\" x2=\"406\" y1=\"236.2969\" y2=\"236.2969\"/><text fill=\"#000000\" font-family=\"sans-serif\" font-size=\"14\" font-weight=\"bold\" lengthAdjust=\"spacingAndGlyphs\" textLength=\"108\" x=\"289\" y=\"228.9951\">Service Layer</text></a><a href=\"psysml:5945f028-85af-4284-8707-6581cfe8107d\" target=\"_top\" title=\"psysml:5945f028-85af-4284-8707-6581cfe8107d\" xlink:actuate=\"onRequest\" xlink:href=\"psysml:5945f028-85af-4284-8707-6581cfe8107d\" xlink:show=\"new\" xlink:title=\"psysml:5945f028-85af-4284-8707-6581cfe8107d\" xlink:type=\"simple\"><polygon fill=\"#FFFFFF\" points=\"297,344,387,344,394,366.2969,401,366.2969,401,396.5938,297,396.5938,297,344\" style=\"stroke: #000000; stroke-width: 1.5;\"/><line style=\"stroke: #000000; stroke-width: 1.5;\" x1=\"297\" x2=\"394\" y1=\"366.2969\" y2=\"366.2969\"/><text fill=\"#000000\" font-family=\"sans-serif\" font-size=\"14\" font-weight=\"bold\" lengthAdjust=\"spacingAndGlyphs\" textLength=\"84\" x=\"301\" y=\"358.9951\">Data Layer</text></a><!--MD5=[af87c684e3b0d8be13c1a698a818ef1e]\n",
       "link E3 to E4--><a href=\"psysml:71e7e357-685b-41cb-afa1-92571af689f5\" target=\"_top\" title=\"psysml:71e7e357-685b-41cb-afa1-92571af689f5\" xlink:actuate=\"onRequest\" xlink:href=\"psysml:71e7e357-685b-41cb-afa1-92571af689f5\" xlink:show=\"new\" xlink:title=\"psysml:71e7e357-685b-41cb-afa1-92571af689f5\" xlink:type=\"simple\"><path d=\"M349,137.12 C349,137.12 349,205.91 349,205.91 \" fill=\"none\" id=\"E3-&gt;E4\" style=\"stroke: #383838; stroke-width: 1.0; stroke-dasharray: 7.0,7.0;\"/><polygon fill=\"#383838\" points=\"349,213.91,352,205.91,346,205.91,349,213.91\" style=\"stroke: #383838; stroke-width: 1.0;\"/><text fill=\"#000000\" font-family=\"sans-serif\" font-size=\"13\" lengthAdjust=\"spacingAndGlyphs\" textLength=\"64\" x=\"350\" y=\"180.0669\">«depend»</text></a><!--MD5=[1b7591eae5389033d8d09a9d6721a717]\n",
       "link E4 to E5--><a href=\"psysml:1107382a-37f6-4d52-8c17-003f9fc0676e\" target=\"_top\" title=\"psysml:1107382a-37f6-4d52-8c17-003f9fc0676e\" xlink:actuate=\"onRequest\" xlink:href=\"psysml:1107382a-37f6-4d52-8c17-003f9fc0676e\" xlink:show=\"new\" xlink:title=\"psysml:1107382a-37f6-4d52-8c17-003f9fc0676e\" xlink:type=\"simple\"><path d=\"M349,267.12 C349,267.12 349,335.91 349,335.91 \" fill=\"none\" id=\"E4-&gt;E5\" style=\"stroke: #383838; stroke-width: 1.0; stroke-dasharray: 7.0,7.0;\"/><polygon fill=\"#383838\" points=\"349,343.91,352,335.91,346,335.91,349,343.91\" style=\"stroke: #383838; stroke-width: 1.0;\"/><text fill=\"#000000\" font-family=\"sans-serif\" font-size=\"13\" lengthAdjust=\"spacingAndGlyphs\" textLength=\"64\" x=\"350\" y=\"310.0669\">«depend»</text></a><!--MD5=[c5e8897d989ce984f93528998a7150fe]\n",
       "link E8 to E6--><a href=\"psysml:a975d936-bb91-4b85-9c47-7632192c23c3\" target=\"_top\" title=\"psysml:a975d936-bb91-4b85-9c47-7632192c23c3\" xlink:actuate=\"onRequest\" xlink:href=\"psysml:a975d936-bb91-4b85-9c47-7632192c23c3\" xlink:show=\"new\" xlink:title=\"psysml:a975d936-bb91-4b85-9c47-7632192c23c3\" xlink:type=\"simple\"><path d=\"M94,133.74 C94,133.74 94,209.46 94,209.46 \" fill=\"none\" id=\"E8-&gt;E6\" style=\"stroke: #383838; stroke-width: 1.0; stroke-dasharray: 7.0,7.0;\"/><polygon fill=\"#383838\" points=\"94,217.46,97,209.46,91,209.46,94,217.46\" style=\"stroke: #383838; stroke-width: 1.0;\"/><text fill=\"#000000\" font-family=\"sans-serif\" font-size=\"13\" lengthAdjust=\"spacingAndGlyphs\" textLength=\"64\" x=\"68\" y=\"180.0669\">«depend»</text></a><!--MD5=[bfa3c8b0d15052fdf50ae9310b491027]\n",
       "link E8 to E7--><a href=\"psysml:a975d936-bb91-4b85-9c47-7632192c23c3\" target=\"_top\" title=\"psysml:a975d936-bb91-4b85-9c47-7632192c23c3\" xlink:actuate=\"onRequest\" xlink:href=\"psysml:a975d936-bb91-4b85-9c47-7632192c23c3\" xlink:show=\"new\" xlink:title=\"psysml:a975d936-bb91-4b85-9c47-7632192c23c3\" xlink:type=\"simple\"><path d=\"M147,133.74 C147,133.74 147,209.46 147,209.46 \" fill=\"none\" id=\"E8-&gt;E7\" style=\"stroke: #383838; stroke-width: 1.0; stroke-dasharray: 7.0,7.0;\"/><polygon fill=\"#383838\" points=\"147,217.46,150,209.46,144,209.46,147,217.46\" style=\"stroke: #383838; stroke-width: 1.0;\"/><text fill=\"#000000\" font-family=\"sans-serif\" font-size=\"13\" lengthAdjust=\"spacingAndGlyphs\" textLength=\"64\" x=\"174\" y=\"180.0669\">«depend»</text></a><!--MD5=[906eabc3851d7108bb4d564d05a54ab0]\n",
       "@startuml\r\n",
       "skinparam linetype ortho\r\n",
       "skinparam monochrome true\r\n",
       "skinparam classbackgroundcolor white\r\n",
       "skinparam shadowing false\r\n",
       "skinparam wrapWidth 300\r\n",
       "hide circle\r\n",
       "\r\n",
       "package \"DependencyTest\" as E1  [[psysml:430f5b70-8499-4207-b78a-0a401723d15c ]]  {\r\n",
       "package \"System\" as E2  [[psysml:ef80acf8-3bbf-43fc-abea-40efc458e2ed ]]  {\r\n",
       "package \"Application Layer\" as E3  [[psysml:cb2f8149-aa3e-4482-91f3-ed1f7789b4f6 ]]  {\r\n",
       "}\r\n",
       "package \"Service Layer\" as E4  [[psysml:c90fac5e-4b06-46df-8524-0f31fe17b625 ]]  {\r\n",
       "}\r\n",
       "package \"Data Layer\" as E5  [[psysml:5945f028-85af-4284-8707-6581cfe8107d ]]  {\r\n",
       "}\r\n",
       "}\r\n",
       "comp usage \"x\" as E6  <<(T,blue)attribute>> [[psysml:f9adf18b-8dbf-4490-b33d-e9e2045e17b2 ]] {\r\n",
       "}\r\n",
       "comp usage \"y\" as E7  <<(T,blue)attribute>> [[psysml:b3547f0d-a84a-43aa-aeb1-8f3416005562 ]] {\r\n",
       "}\r\n",
       "comp usage \"z\" as E8  <<(T,blue)attribute>> [[psysml:06d3944d-d8a9-41b6-a7dc-ea1875e321b3 ]] {\r\n",
       "}\r\n",
       "E3 ..>> E4 [[psysml:71e7e357-685b-41cb-afa1-92571af689f5 ]] : <<depend>>\r\n",
       "E4 ..>> E5 [[psysml:1107382a-37f6-4d52-8c17-003f9fc0676e ]] : <<depend>>\r\n",
       "E8 ..>> E6 [[psysml:a975d936-bb91-4b85-9c47-7632192c23c3 ]] : <<depend>>\r\n",
       "E8 ..>> E7 [[psysml:a975d936-bb91-4b85-9c47-7632192c23c3 ]] : <<depend>>\r\n",
       "}\r\n",
       "@enduml\r\n",
       "\n",
       "PlantUML version 1.2020.13(Sat Jun 13 12:26:38 UTC 2020)\n",
       "(EPL source distribution)\n",
       "Java Runtime: OpenJDK Runtime Environment\n",
       "JVM: OpenJDK 64-Bit Server VM\n",
       "Default Encoding: UTF-8\n",
       "Language: en\n",
       "Country: null\n",
       "--></g></svg>"
      ]
     },
     "execution_count": 52,
     "metadata": {},
     "output_type": "execute_result"
    }
   ],
   "source": [
    "%viz --style=\"ORTHOLINE\" --view=\"Tree\" \"DependencyTest\""
   ]
  },
  {
   "cell_type": "code",
   "execution_count": 53,
   "id": "superior-rapid",
   "metadata": {
    "execution": {
     "iopub.execute_input": "2021-03-25T13:51:47.843933Z",
     "iopub.status.busy": "2021-03-25T13:51:47.843257Z",
     "iopub.status.idle": "2021-03-25T13:51:47.850924Z",
     "shell.execute_reply": "2021-03-25T13:51:47.850473Z"
    }
   },
   "outputs": [
    {
     "data": {
      "image/svg+xml": [
       "<?xml version=\"1.0\" encoding=\"UTF-8\" standalone=\"no\"?><svg xmlns=\"http://www.w3.org/2000/svg\" xmlns:xlink=\"http://www.w3.org/1999/xlink\" contentScriptType=\"application/ecmascript\" contentStyleType=\"text/css\" height=\"12px\" preserveAspectRatio=\"none\" style=\"width:12px;height:12px;\" version=\"1.1\" viewBox=\"0 0 12 12\" width=\"12px\" zoomAndPan=\"magnify\"><defs/><g><!--MD5=[97d6f38768b311333d388e66b2b27985]\n",
       "@startuml\r\n",
       "skinparam linetype ortho\r\n",
       "skinparam monochrome true\r\n",
       "skinparam classbackgroundcolor white\r\n",
       "skinparam shadowing false\r\n",
       "skinparam wrapWidth 300\r\n",
       "hide circle\r\n",
       "\r\n",
       "@enduml\r\n",
       "\n",
       "PlantUML version 1.2020.13(Sat Jun 13 12:26:38 UTC 2020)\n",
       "(EPL source distribution)\n",
       "Java Runtime: OpenJDK Runtime Environment\n",
       "JVM: OpenJDK 64-Bit Server VM\n",
       "Default Encoding: UTF-8\n",
       "Language: en\n",
       "Country: null\n",
       "--></g></svg>"
      ]
     },
     "execution_count": 53,
     "metadata": {},
     "output_type": "execute_result"
    }
   ],
   "source": [
    "%viz --style=\"ORTHOLINE\" --view=\"State\" \"DependencyTest\""
   ]
  },
  {
   "cell_type": "code",
   "execution_count": 54,
   "id": "polished-trinity",
   "metadata": {
    "execution": {
     "iopub.execute_input": "2021-03-25T13:51:47.902622Z",
     "iopub.status.busy": "2021-03-25T13:51:47.901881Z",
     "iopub.status.idle": "2021-03-25T13:51:48.000290Z",
     "shell.execute_reply": "2021-03-25T13:51:47.998770Z"
    }
   },
   "outputs": [
    {
     "data": {
      "image/svg+xml": [
       "<?xml version=\"1.0\" encoding=\"UTF-8\" standalone=\"no\"?><svg xmlns=\"http://www.w3.org/2000/svg\" xmlns:xlink=\"http://www.w3.org/1999/xlink\" contentScriptType=\"application/ecmascript\" contentStyleType=\"text/css\" height=\"361px\" preserveAspectRatio=\"none\" style=\"width:489px;height:361px;\" version=\"1.1\" viewBox=\"0 0 489 361\" width=\"489px\" zoomAndPan=\"magnify\"><defs/><g><!--MD5=[fbc87193dbaf4d95561dea2c320d4a47]\n",
       "cluster E1--><a href=\"psysml:430f5b70-8499-4207-b78a-0a401723d15c\" target=\"_top\" title=\"psysml:430f5b70-8499-4207-b78a-0a401723d15c\" xlink:actuate=\"onRequest\" xlink:href=\"psysml:430f5b70-8499-4207-b78a-0a401723d15c\" xlink:show=\"new\" xlink:title=\"psysml:430f5b70-8499-4207-b78a-0a401723d15c\" xlink:type=\"simple\"><polygon fill=\"#FFFFFF\" points=\"16,6,156,6,163,28.2969,467,28.2969,467,349,16,349,16,6\" style=\"stroke: #000000; stroke-width: 1.5;\"/><line style=\"stroke: #000000; stroke-width: 1.5;\" x1=\"16\" x2=\"163\" y1=\"28.2969\" y2=\"28.2969\"/><text fill=\"#000000\" font-family=\"sans-serif\" font-size=\"14\" font-weight=\"bold\" lengthAdjust=\"spacingAndGlyphs\" textLength=\"134\" x=\"20\" y=\"20.9951\">DependencyTest</text></a><!--MD5=[e4f7fae6ed58524ba242bb0b0d3be6b7]\n",
       "cluster E2--><a href=\"psysml:ef80acf8-3bbf-43fc-abea-40efc458e2ed\" target=\"_top\" title=\"psysml:ef80acf8-3bbf-43fc-abea-40efc458e2ed\" xlink:actuate=\"onRequest\" xlink:href=\"psysml:ef80acf8-3bbf-43fc-abea-40efc458e2ed\" xlink:show=\"new\" xlink:title=\"psysml:ef80acf8-3bbf-43fc-abea-40efc458e2ed\" xlink:type=\"simple\"><polygon fill=\"#FFFFFF\" points=\"255,49,319,49,326,71.2969,443,71.2969,443,325,255,325,255,49\" style=\"stroke: #000000; stroke-width: 1.5;\"/><line style=\"stroke: #000000; stroke-width: 1.5;\" x1=\"255\" x2=\"326\" y1=\"71.2969\" y2=\"71.2969\"/><text fill=\"#000000\" font-family=\"sans-serif\" font-size=\"14\" font-weight=\"bold\" lengthAdjust=\"spacingAndGlyphs\" textLength=\"58\" x=\"259\" y=\"63.9951\">System</text></a><a href=\"psysml:cb2f8149-aa3e-4482-91f3-ed1f7789b4f6\" target=\"_top\" title=\"psysml:cb2f8149-aa3e-4482-91f3-ed1f7789b4f6\" xlink:actuate=\"onRequest\" xlink:href=\"psysml:cb2f8149-aa3e-4482-91f3-ed1f7789b4f6\" xlink:show=\"new\" xlink:title=\"psysml:cb2f8149-aa3e-4482-91f3-ed1f7789b4f6\" xlink:type=\"simple\"><polygon fill=\"#FFFFFF\" points=\"271,84,413,84,420,106.2969,427,106.2969,427,136.5938,271,136.5938,271,84\" style=\"stroke: #000000; stroke-width: 1.5;\"/><line style=\"stroke: #000000; stroke-width: 1.5;\" x1=\"271\" x2=\"420\" y1=\"106.2969\" y2=\"106.2969\"/><text fill=\"#000000\" font-family=\"sans-serif\" font-size=\"14\" font-weight=\"bold\" lengthAdjust=\"spacingAndGlyphs\" textLength=\"136\" x=\"275\" y=\"98.9951\">Application Layer</text></a><a href=\"psysml:c90fac5e-4b06-46df-8524-0f31fe17b625\" target=\"_top\" title=\"psysml:c90fac5e-4b06-46df-8524-0f31fe17b625\" xlink:actuate=\"onRequest\" xlink:href=\"psysml:c90fac5e-4b06-46df-8524-0f31fe17b625\" xlink:show=\"new\" xlink:title=\"psysml:c90fac5e-4b06-46df-8524-0f31fe17b625\" xlink:type=\"simple\"><polygon fill=\"#FFFFFF\" points=\"285,170,399,170,406,192.2969,413,192.2969,413,222.5938,285,222.5938,285,170\" style=\"stroke: #000000; stroke-width: 1.5;\"/><line style=\"stroke: #000000; stroke-width: 1.5;\" x1=\"285\" x2=\"406\" y1=\"192.2969\" y2=\"192.2969\"/><text fill=\"#000000\" font-family=\"sans-serif\" font-size=\"14\" font-weight=\"bold\" lengthAdjust=\"spacingAndGlyphs\" textLength=\"108\" x=\"289\" y=\"184.9951\">Service Layer</text></a><a href=\"psysml:5945f028-85af-4284-8707-6581cfe8107d\" target=\"_top\" title=\"psysml:5945f028-85af-4284-8707-6581cfe8107d\" xlink:actuate=\"onRequest\" xlink:href=\"psysml:5945f028-85af-4284-8707-6581cfe8107d\" xlink:show=\"new\" xlink:title=\"psysml:5945f028-85af-4284-8707-6581cfe8107d\" xlink:type=\"simple\"><polygon fill=\"#FFFFFF\" points=\"297,256,387,256,394,278.2969,401,278.2969,401,308.5938,297,308.5938,297,256\" style=\"stroke: #000000; stroke-width: 1.5;\"/><line style=\"stroke: #000000; stroke-width: 1.5;\" x1=\"297\" x2=\"394\" y1=\"278.2969\" y2=\"278.2969\"/><text fill=\"#000000\" font-family=\"sans-serif\" font-size=\"14\" font-weight=\"bold\" lengthAdjust=\"spacingAndGlyphs\" textLength=\"84\" x=\"301\" y=\"270.9951\">Data Layer</text></a><g id=\"E1.E6\"><a href=\"psysml:f9adf18b-8dbf-4490-b33d-e9e2045e17b2\" target=\"_top\" title=\"psysml:f9adf18b-8dbf-4490-b33d-e9e2045e17b2\" xlink:actuate=\"onRequest\" xlink:href=\"psysml:f9adf18b-8dbf-4490-b33d-e9e2045e17b2\" xlink:show=\"new\" xlink:title=\"psysml:f9adf18b-8dbf-4490-b33d-e9e2045e17b2\" xlink:type=\"simple\"><rect fill=\"#FFFFFF\" height=\"42.9375\" id=\"E6\" rx=\"10\" ry=\"10\" style=\"stroke: #383838; stroke-width: 1.5;\" width=\"76\" x=\"32\" y=\"175\"/><rect fill=\"#F8F8F8\" height=\"37.9375\" rx=\"10\" ry=\"10\" style=\"stroke: #F8F8F8; stroke-width: 1.5;\" width=\"76\" x=\"32\" y=\"175\"/><rect fill=\"#F8F8F8\" height=\"10\" style=\"stroke: #F8F8F8; stroke-width: 1.5;\" width=\"76\" x=\"32\" y=\"202.9375\"/><rect fill=\"none\" height=\"42.9375\" id=\"E6\" rx=\"10\" ry=\"10\" style=\"stroke: #383838; stroke-width: 1.5;\" width=\"76\" x=\"32\" y=\"175\"/><text fill=\"#000000\" font-family=\"sans-serif\" font-size=\"12\" font-style=\"italic\" lengthAdjust=\"spacingAndGlyphs\" textLength=\"69\" x=\"35.5\" y=\"191.1387\">«attribute»</text><text fill=\"#000000\" font-family=\"sans-serif\" font-size=\"12\" lengthAdjust=\"spacingAndGlyphs\" textLength=\"6\" x=\"67\" y=\"205.1074\">x</text></a></g><g id=\"E1.E7\"><a href=\"psysml:b3547f0d-a84a-43aa-aeb1-8f3416005562\" target=\"_top\" title=\"psysml:b3547f0d-a84a-43aa-aeb1-8f3416005562\" xlink:actuate=\"onRequest\" xlink:href=\"psysml:b3547f0d-a84a-43aa-aeb1-8f3416005562\" xlink:show=\"new\" xlink:title=\"psysml:b3547f0d-a84a-43aa-aeb1-8f3416005562\" xlink:type=\"simple\"><rect fill=\"#FFFFFF\" height=\"42.9375\" id=\"E7\" rx=\"10\" ry=\"10\" style=\"stroke: #383838; stroke-width: 1.5;\" width=\"76\" x=\"143\" y=\"175\"/><rect fill=\"#F8F8F8\" height=\"37.9375\" rx=\"10\" ry=\"10\" style=\"stroke: #F8F8F8; stroke-width: 1.5;\" width=\"76\" x=\"143\" y=\"175\"/><rect fill=\"#F8F8F8\" height=\"10\" style=\"stroke: #F8F8F8; stroke-width: 1.5;\" width=\"76\" x=\"143\" y=\"202.9375\"/><rect fill=\"none\" height=\"42.9375\" id=\"E7\" rx=\"10\" ry=\"10\" style=\"stroke: #383838; stroke-width: 1.5;\" width=\"76\" x=\"143\" y=\"175\"/><text fill=\"#000000\" font-family=\"sans-serif\" font-size=\"12\" font-style=\"italic\" lengthAdjust=\"spacingAndGlyphs\" textLength=\"69\" x=\"146.5\" y=\"191.1387\">«attribute»</text><text fill=\"#000000\" font-family=\"sans-serif\" font-size=\"12\" lengthAdjust=\"spacingAndGlyphs\" textLength=\"6\" x=\"178\" y=\"205.1074\">y</text></a></g><g id=\"E1.E8\"><a href=\"psysml:06d3944d-d8a9-41b6-a7dc-ea1875e321b3\" target=\"_top\" title=\"psysml:06d3944d-d8a9-41b6-a7dc-ea1875e321b3\" xlink:actuate=\"onRequest\" xlink:href=\"psysml:06d3944d-d8a9-41b6-a7dc-ea1875e321b3\" xlink:show=\"new\" xlink:title=\"psysml:06d3944d-d8a9-41b6-a7dc-ea1875e321b3\" xlink:type=\"simple\"><rect fill=\"#FFFFFF\" height=\"42.9375\" id=\"E8\" rx=\"10\" ry=\"10\" style=\"stroke: #383838; stroke-width: 1.5;\" width=\"76\" x=\"83\" y=\"89\"/><rect fill=\"#F8F8F8\" height=\"37.9375\" rx=\"10\" ry=\"10\" style=\"stroke: #F8F8F8; stroke-width: 1.5;\" width=\"76\" x=\"83\" y=\"89\"/><rect fill=\"#F8F8F8\" height=\"10\" style=\"stroke: #F8F8F8; stroke-width: 1.5;\" width=\"76\" x=\"83\" y=\"116.9375\"/><rect fill=\"none\" height=\"42.9375\" id=\"E8\" rx=\"10\" ry=\"10\" style=\"stroke: #383838; stroke-width: 1.5;\" width=\"76\" x=\"83\" y=\"89\"/><text fill=\"#000000\" font-family=\"sans-serif\" font-size=\"12\" font-style=\"italic\" lengthAdjust=\"spacingAndGlyphs\" textLength=\"69\" x=\"86.5\" y=\"105.1387\">«attribute»</text><text fill=\"#000000\" font-family=\"sans-serif\" font-size=\"12\" lengthAdjust=\"spacingAndGlyphs\" textLength=\"5\" x=\"118.5\" y=\"119.1074\">z</text></a></g><!--MD5=[af87c684e3b0d8be13c1a698a818ef1e]\n",
       "link E3 to E4--><a href=\"psysml:71e7e357-685b-41cb-afa1-92571af689f5\" target=\"_top\" title=\"psysml:71e7e357-685b-41cb-afa1-92571af689f5\" xlink:actuate=\"onRequest\" xlink:href=\"psysml:71e7e357-685b-41cb-afa1-92571af689f5\" xlink:show=\"new\" xlink:title=\"psysml:71e7e357-685b-41cb-afa1-92571af689f5\" xlink:type=\"simple\"><path d=\"M349,137.24 C349,137.24 349,161.78 349,161.78 \" fill=\"none\" id=\"E3-&gt;E4\" style=\"stroke: #383838; stroke-width: 1.0; stroke-dasharray: 7.0,7.0;\"/><polygon fill=\"#383838\" points=\"349,169.78,352,161.78,346,161.78,349,169.78\" style=\"stroke: #383838; stroke-width: 1.0;\"/><text fill=\"#000000\" font-family=\"sans-serif\" font-size=\"13\" lengthAdjust=\"spacingAndGlyphs\" textLength=\"64\" x=\"350\" y=\"158.0669\">«depend»</text></a><!--MD5=[1b7591eae5389033d8d09a9d6721a717]\n",
       "link E4 to E5--><a href=\"psysml:1107382a-37f6-4d52-8c17-003f9fc0676e\" target=\"_top\" title=\"psysml:1107382a-37f6-4d52-8c17-003f9fc0676e\" xlink:actuate=\"onRequest\" xlink:href=\"psysml:1107382a-37f6-4d52-8c17-003f9fc0676e\" xlink:show=\"new\" xlink:title=\"psysml:1107382a-37f6-4d52-8c17-003f9fc0676e\" xlink:type=\"simple\"><path d=\"M349,223.24 C349,223.24 349,247.78 349,247.78 \" fill=\"none\" id=\"E4-&gt;E5\" style=\"stroke: #383838; stroke-width: 1.0; stroke-dasharray: 7.0,7.0;\"/><polygon fill=\"#383838\" points=\"349,255.78,352,247.78,346,247.78,349,255.78\" style=\"stroke: #383838; stroke-width: 1.0;\"/><text fill=\"#000000\" font-family=\"sans-serif\" font-size=\"13\" lengthAdjust=\"spacingAndGlyphs\" textLength=\"64\" x=\"350\" y=\"244.0669\">«depend»</text></a><!--MD5=[c5e8897d989ce984f93528998a7150fe]\n",
       "link E8 to E6--><a href=\"psysml:a975d936-bb91-4b85-9c47-7632192c23c3\" target=\"_top\" title=\"psysml:a975d936-bb91-4b85-9c47-7632192c23c3\" xlink:actuate=\"onRequest\" xlink:href=\"psysml:a975d936-bb91-4b85-9c47-7632192c23c3\" xlink:show=\"new\" xlink:title=\"psysml:a975d936-bb91-4b85-9c47-7632192c23c3\" xlink:type=\"simple\"><path d=\"M95.5,132.2 C95.5,132.2 95.5,166.81 95.5,166.81 \" fill=\"none\" id=\"E8-&gt;E6\" style=\"stroke: #383838; stroke-width: 1.0; stroke-dasharray: 7.0,7.0;\"/><polygon fill=\"#383838\" points=\"95.5,174.81,98.5,166.81,92.5,166.81,95.5,174.81\" style=\"stroke: #383838; stroke-width: 1.0;\"/><text fill=\"#000000\" font-family=\"sans-serif\" font-size=\"13\" lengthAdjust=\"spacingAndGlyphs\" textLength=\"64\" x=\"68\" y=\"158.0669\">«depend»</text></a><!--MD5=[bfa3c8b0d15052fdf50ae9310b491027]\n",
       "link E8 to E7--><a href=\"psysml:a975d936-bb91-4b85-9c47-7632192c23c3\" target=\"_top\" title=\"psysml:a975d936-bb91-4b85-9c47-7632192c23c3\" xlink:actuate=\"onRequest\" xlink:href=\"psysml:a975d936-bb91-4b85-9c47-7632192c23c3\" xlink:show=\"new\" xlink:title=\"psysml:a975d936-bb91-4b85-9c47-7632192c23c3\" xlink:type=\"simple\"><path d=\"M151,132.2 C151,132.2 151,166.81 151,166.81 \" fill=\"none\" id=\"E8-&gt;E7\" style=\"stroke: #383838; stroke-width: 1.0; stroke-dasharray: 7.0,7.0;\"/><polygon fill=\"#383838\" points=\"151,174.81,154,166.81,148,166.81,151,174.81\" style=\"stroke: #383838; stroke-width: 1.0;\"/><text fill=\"#000000\" font-family=\"sans-serif\" font-size=\"13\" lengthAdjust=\"spacingAndGlyphs\" textLength=\"64\" x=\"174\" y=\"158.0669\">«depend»</text></a><!--MD5=[a444a6a77adbbc02fc36b2ac072d8c90]\n",
       "@startuml\r\n",
       "skinparam ranksep 8\r\n",
       "skinparam rectangle {\r\n",
       " backgroundColor<<block>> LightGreen\r\n",
       "}\r\n",
       "skinparam linetype ortho\r\n",
       "skinparam monochrome true\r\n",
       "skinparam classbackgroundcolor white\r\n",
       "skinparam shadowing false\r\n",
       "skinparam wrapWidth 300\r\n",
       "hide circle\r\n",
       "\r\n",
       "package \"DependencyTest\" as E1  [[psysml:430f5b70-8499-4207-b78a-0a401723d15c ]]  {\r\n",
       "package \"System\" as E2  [[psysml:ef80acf8-3bbf-43fc-abea-40efc458e2ed ]]  {\r\n",
       "package \"Application Layer\" as E3  [[psysml:cb2f8149-aa3e-4482-91f3-ed1f7789b4f6 ]]  {\r\n",
       "}\r\n",
       "package \"Service Layer\" as E4  [[psysml:c90fac5e-4b06-46df-8524-0f31fe17b625 ]]  {\r\n",
       "}\r\n",
       "package \"Data Layer\" as E5  [[psysml:5945f028-85af-4284-8707-6581cfe8107d ]]  {\r\n",
       "}\r\n",
       "}\r\n",
       "rec usage \"x\" as E6  <<(T,blue)attribute>> [[psysml:f9adf18b-8dbf-4490-b33d-e9e2045e17b2 ]] {\r\n",
       "}\r\n",
       "rec usage \"y\" as E7  <<(T,blue)attribute>> [[psysml:b3547f0d-a84a-43aa-aeb1-8f3416005562 ]] {\r\n",
       "}\r\n",
       "rec usage \"z\" as E8  <<(T,blue)attribute>> [[psysml:06d3944d-d8a9-41b6-a7dc-ea1875e321b3 ]] {\r\n",
       "}\r\n",
       "E3 ..>> E4 [[psysml:71e7e357-685b-41cb-afa1-92571af689f5 ]] : <<depend>>\r\n",
       "E4 ..>> E5 [[psysml:1107382a-37f6-4d52-8c17-003f9fc0676e ]] : <<depend>>\r\n",
       "E8 ..>> E6 [[psysml:a975d936-bb91-4b85-9c47-7632192c23c3 ]] : <<depend>>\r\n",
       "E8 ..>> E7 [[psysml:a975d936-bb91-4b85-9c47-7632192c23c3 ]] : <<depend>>\r\n",
       "}\r\n",
       "@enduml\r\n",
       "\n",
       "PlantUML version 1.2020.13(Sat Jun 13 12:26:38 UTC 2020)\n",
       "(EPL source distribution)\n",
       "Java Runtime: OpenJDK Runtime Environment\n",
       "JVM: OpenJDK 64-Bit Server VM\n",
       "Default Encoding: UTF-8\n",
       "Language: en\n",
       "Country: null\n",
       "--></g></svg>"
      ]
     },
     "execution_count": 54,
     "metadata": {},
     "output_type": "execute_result"
    }
   ],
   "source": [
    "%viz --style=\"ORTHOLINE\" --view=\"Interconnection\" \"DependencyTest\""
   ]
  },
  {
   "cell_type": "code",
   "execution_count": 55,
   "id": "sought-scanner",
   "metadata": {
    "execution": {
     "iopub.execute_input": "2021-03-25T13:51:48.050340Z",
     "iopub.status.busy": "2021-03-25T13:51:48.049922Z",
     "iopub.status.idle": "2021-03-25T13:51:48.057682Z",
     "shell.execute_reply": "2021-03-25T13:51:48.057311Z"
    }
   },
   "outputs": [
    {
     "data": {
      "image/svg+xml": [
       "<?xml version=\"1.0\" encoding=\"UTF-8\" standalone=\"no\"?><svg xmlns=\"http://www.w3.org/2000/svg\" xmlns:xlink=\"http://www.w3.org/1999/xlink\" contentScriptType=\"application/ecmascript\" contentStyleType=\"text/css\" height=\"12px\" preserveAspectRatio=\"none\" style=\"width:12px;height:12px;\" version=\"1.1\" viewBox=\"0 0 12 12\" width=\"12px\" zoomAndPan=\"magnify\"><defs/><g><!--MD5=[72934c63077099a26744516a776b4749]\n",
       "@startuml\r\n",
       "skinparam ranksep 8\r\n",
       "skinparam linetype ortho\r\n",
       "skinparam monochrome true\r\n",
       "skinparam classbackgroundcolor white\r\n",
       "skinparam shadowing false\r\n",
       "skinparam wrapWidth 300\r\n",
       "hide circle\r\n",
       "\r\n",
       "@enduml\r\n",
       "\n",
       "PlantUML version 1.2020.13(Sat Jun 13 12:26:38 UTC 2020)\n",
       "(EPL source distribution)\n",
       "Java Runtime: OpenJDK Runtime Environment\n",
       "JVM: OpenJDK 64-Bit Server VM\n",
       "Default Encoding: UTF-8\n",
       "Language: en\n",
       "Country: null\n",
       "--></g></svg>"
      ]
     },
     "execution_count": 55,
     "metadata": {},
     "output_type": "execute_result"
    }
   ],
   "source": [
    "%viz --style=\"ORTHOLINE\" --view=\"Action\" \"DependencyTest\""
   ]
  },
  {
   "cell_type": "code",
   "execution_count": 56,
   "id": "pleased-circle",
   "metadata": {
    "execution": {
     "iopub.execute_input": "2021-03-25T13:51:48.109099Z",
     "iopub.status.busy": "2021-03-25T13:51:48.108538Z",
     "iopub.status.idle": "2021-03-25T13:51:48.211788Z",
     "shell.execute_reply": "2021-03-25T13:51:48.210062Z"
    }
   },
   "outputs": [
    {
     "data": {
      "image/svg+xml": [
       "<?xml version=\"1.0\" encoding=\"UTF-8\" standalone=\"no\"?><svg xmlns=\"http://www.w3.org/2000/svg\" xmlns:xlink=\"http://www.w3.org/1999/xlink\" contentScriptType=\"application/ecmascript\" contentStyleType=\"text/css\" height=\"449px\" preserveAspectRatio=\"none\" style=\"width:489px;height:449px;\" version=\"1.1\" viewBox=\"0 0 489 449\" width=\"489px\" zoomAndPan=\"magnify\"><defs/><g><!--MD5=[fbc87193dbaf4d95561dea2c320d4a47]\n",
       "cluster E1--><a href=\"psysml:430f5b70-8499-4207-b78a-0a401723d15c\" target=\"_top\" title=\"psysml:430f5b70-8499-4207-b78a-0a401723d15c\" xlink:actuate=\"onRequest\" xlink:href=\"psysml:430f5b70-8499-4207-b78a-0a401723d15c\" xlink:show=\"new\" xlink:title=\"psysml:430f5b70-8499-4207-b78a-0a401723d15c\" xlink:type=\"simple\"><polygon fill=\"#FFFFFF\" points=\"16,6,156,6,163,28.2969,467,28.2969,467,437,16,437,16,6\" style=\"stroke: #000000; stroke-width: 1.5;\"/><line style=\"stroke: #000000; stroke-width: 1.5;\" x1=\"16\" x2=\"163\" y1=\"28.2969\" y2=\"28.2969\"/><text fill=\"#000000\" font-family=\"sans-serif\" font-size=\"14\" font-weight=\"bold\" lengthAdjust=\"spacingAndGlyphs\" textLength=\"134\" x=\"20\" y=\"20.9951\">DependencyTest</text></a><!--MD5=[e4f7fae6ed58524ba242bb0b0d3be6b7]\n",
       "cluster E2--><a href=\"psysml:ef80acf8-3bbf-43fc-abea-40efc458e2ed\" target=\"_top\" title=\"psysml:ef80acf8-3bbf-43fc-abea-40efc458e2ed\" xlink:actuate=\"onRequest\" xlink:href=\"psysml:ef80acf8-3bbf-43fc-abea-40efc458e2ed\" xlink:show=\"new\" xlink:title=\"psysml:ef80acf8-3bbf-43fc-abea-40efc458e2ed\" xlink:type=\"simple\"><polygon fill=\"#FFFFFF\" points=\"255,49,319,49,326,71.2969,443,71.2969,443,413,255,413,255,49\" style=\"stroke: #000000; stroke-width: 1.5;\"/><line style=\"stroke: #000000; stroke-width: 1.5;\" x1=\"255\" x2=\"326\" y1=\"71.2969\" y2=\"71.2969\"/><text fill=\"#000000\" font-family=\"sans-serif\" font-size=\"14\" font-weight=\"bold\" lengthAdjust=\"spacingAndGlyphs\" textLength=\"58\" x=\"259\" y=\"63.9951\">System</text></a><!--MD5=[60a26617385b1d2d0262a64233df1f8d]\n",
       "class E6--><a href=\"psysml:f9adf18b-8dbf-4490-b33d-e9e2045e17b2\" target=\"_top\" title=\"psysml:f9adf18b-8dbf-4490-b33d-e9e2045e17b2\" xlink:actuate=\"onRequest\" xlink:href=\"psysml:f9adf18b-8dbf-4490-b33d-e9e2045e17b2\" xlink:show=\"new\" xlink:title=\"psysml:f9adf18b-8dbf-4490-b33d-e9e2045e17b2\" xlink:type=\"simple\"><rect fill=\"#FFFFFF\" height=\"45.9375\" id=\"E6\" rx=\"10\" ry=\"10\" style=\"stroke: #383838; stroke-width: 1.5;\" width=\"71\" x=\"32.5\" y=\"217.5\"/><text fill=\"#000000\" font-family=\"sans-serif\" font-size=\"12\" font-style=\"italic\" lengthAdjust=\"spacingAndGlyphs\" textLength=\"69\" x=\"33.5\" y=\"233.6387\">«attribute»</text><text fill=\"#000000\" font-family=\"sans-serif\" font-size=\"12\" lengthAdjust=\"spacingAndGlyphs\" textLength=\"6\" x=\"65\" y=\"247.6074\">x</text><line style=\"stroke: #383838; stroke-width: 1.5;\" x1=\"33.5\" x2=\"102.5\" y1=\"255.4375\" y2=\"255.4375\"/></a><!--MD5=[2156ba9850f5573cc1fc38a6a4b2f02b]\n",
       "class E7--><a href=\"psysml:b3547f0d-a84a-43aa-aeb1-8f3416005562\" target=\"_top\" title=\"psysml:b3547f0d-a84a-43aa-aeb1-8f3416005562\" xlink:actuate=\"onRequest\" xlink:href=\"psysml:b3547f0d-a84a-43aa-aeb1-8f3416005562\" xlink:show=\"new\" xlink:title=\"psysml:b3547f0d-a84a-43aa-aeb1-8f3416005562\" xlink:type=\"simple\"><rect fill=\"#FFFFFF\" height=\"45.9375\" id=\"E7\" rx=\"10\" ry=\"10\" style=\"stroke: #383838; stroke-width: 1.5;\" width=\"71\" x=\"138.5\" y=\"217.5\"/><text fill=\"#000000\" font-family=\"sans-serif\" font-size=\"12\" font-style=\"italic\" lengthAdjust=\"spacingAndGlyphs\" textLength=\"69\" x=\"139.5\" y=\"233.6387\">«attribute»</text><text fill=\"#000000\" font-family=\"sans-serif\" font-size=\"12\" lengthAdjust=\"spacingAndGlyphs\" textLength=\"6\" x=\"171\" y=\"247.6074\">y</text><line style=\"stroke: #383838; stroke-width: 1.5;\" x1=\"139.5\" x2=\"208.5\" y1=\"255.4375\" y2=\"255.4375\"/></a><!--MD5=[b9389687b975829384b498ac4b7476b2]\n",
       "class E8--><a href=\"psysml:06d3944d-d8a9-41b6-a7dc-ea1875e321b3\" target=\"_top\" title=\"psysml:06d3944d-d8a9-41b6-a7dc-ea1875e321b3\" xlink:actuate=\"onRequest\" xlink:href=\"psysml:06d3944d-d8a9-41b6-a7dc-ea1875e321b3\" xlink:show=\"new\" xlink:title=\"psysml:06d3944d-d8a9-41b6-a7dc-ea1875e321b3\" xlink:type=\"simple\"><rect fill=\"#FFFFFF\" height=\"45.9375\" id=\"E8\" rx=\"10\" ry=\"10\" style=\"stroke: #383838; stroke-width: 1.5;\" width=\"71\" x=\"84.5\" y=\"87.5\"/><text fill=\"#000000\" font-family=\"sans-serif\" font-size=\"12\" font-style=\"italic\" lengthAdjust=\"spacingAndGlyphs\" textLength=\"69\" x=\"85.5\" y=\"103.6387\">«attribute»</text><text fill=\"#000000\" font-family=\"sans-serif\" font-size=\"12\" lengthAdjust=\"spacingAndGlyphs\" textLength=\"5\" x=\"117.5\" y=\"117.6074\">z</text><line style=\"stroke: #383838; stroke-width: 1.5;\" x1=\"85.5\" x2=\"154.5\" y1=\"125.4375\" y2=\"125.4375\"/></a><a href=\"psysml:cb2f8149-aa3e-4482-91f3-ed1f7789b4f6\" target=\"_top\" title=\"psysml:cb2f8149-aa3e-4482-91f3-ed1f7789b4f6\" xlink:actuate=\"onRequest\" xlink:href=\"psysml:cb2f8149-aa3e-4482-91f3-ed1f7789b4f6\" xlink:show=\"new\" xlink:title=\"psysml:cb2f8149-aa3e-4482-91f3-ed1f7789b4f6\" xlink:type=\"simple\"><polygon fill=\"#FFFFFF\" points=\"271,84,413,84,420,106.2969,427,106.2969,427,136.5938,271,136.5938,271,84\" style=\"stroke: #000000; stroke-width: 1.5;\"/><line style=\"stroke: #000000; stroke-width: 1.5;\" x1=\"271\" x2=\"420\" y1=\"106.2969\" y2=\"106.2969\"/><text fill=\"#000000\" font-family=\"sans-serif\" font-size=\"14\" font-weight=\"bold\" lengthAdjust=\"spacingAndGlyphs\" textLength=\"136\" x=\"275\" y=\"98.9951\">Application Layer</text></a><a href=\"psysml:c90fac5e-4b06-46df-8524-0f31fe17b625\" target=\"_top\" title=\"psysml:c90fac5e-4b06-46df-8524-0f31fe17b625\" xlink:actuate=\"onRequest\" xlink:href=\"psysml:c90fac5e-4b06-46df-8524-0f31fe17b625\" xlink:show=\"new\" xlink:title=\"psysml:c90fac5e-4b06-46df-8524-0f31fe17b625\" xlink:type=\"simple\"><polygon fill=\"#FFFFFF\" points=\"285,214,399,214,406,236.2969,413,236.2969,413,266.5938,285,266.5938,285,214\" style=\"stroke: #000000; stroke-width: 1.5;\"/><line style=\"stroke: #000000; stroke-width: 1.5;\" x1=\"285\" x2=\"406\" y1=\"236.2969\" y2=\"236.2969\"/><text fill=\"#000000\" font-family=\"sans-serif\" font-size=\"14\" font-weight=\"bold\" lengthAdjust=\"spacingAndGlyphs\" textLength=\"108\" x=\"289\" y=\"228.9951\">Service Layer</text></a><a href=\"psysml:5945f028-85af-4284-8707-6581cfe8107d\" target=\"_top\" title=\"psysml:5945f028-85af-4284-8707-6581cfe8107d\" xlink:actuate=\"onRequest\" xlink:href=\"psysml:5945f028-85af-4284-8707-6581cfe8107d\" xlink:show=\"new\" xlink:title=\"psysml:5945f028-85af-4284-8707-6581cfe8107d\" xlink:type=\"simple\"><polygon fill=\"#FFFFFF\" points=\"297,344,387,344,394,366.2969,401,366.2969,401,396.5938,297,396.5938,297,344\" style=\"stroke: #000000; stroke-width: 1.5;\"/><line style=\"stroke: #000000; stroke-width: 1.5;\" x1=\"297\" x2=\"394\" y1=\"366.2969\" y2=\"366.2969\"/><text fill=\"#000000\" font-family=\"sans-serif\" font-size=\"14\" font-weight=\"bold\" lengthAdjust=\"spacingAndGlyphs\" textLength=\"84\" x=\"301\" y=\"358.9951\">Data Layer</text></a><!--MD5=[af87c684e3b0d8be13c1a698a818ef1e]\n",
       "link E3 to E4--><a href=\"psysml:71e7e357-685b-41cb-afa1-92571af689f5\" target=\"_top\" title=\"psysml:71e7e357-685b-41cb-afa1-92571af689f5\" xlink:actuate=\"onRequest\" xlink:href=\"psysml:71e7e357-685b-41cb-afa1-92571af689f5\" xlink:show=\"new\" xlink:title=\"psysml:71e7e357-685b-41cb-afa1-92571af689f5\" xlink:type=\"simple\"><path d=\"M349,137.12 C349,137.12 349,205.91 349,205.91 \" fill=\"none\" id=\"E3-&gt;E4\" style=\"stroke: #383838; stroke-width: 1.0; stroke-dasharray: 7.0,7.0;\"/><polygon fill=\"#383838\" points=\"349,213.91,352,205.91,346,205.91,349,213.91\" style=\"stroke: #383838; stroke-width: 1.0;\"/><text fill=\"#000000\" font-family=\"sans-serif\" font-size=\"13\" lengthAdjust=\"spacingAndGlyphs\" textLength=\"64\" x=\"350\" y=\"180.0669\">«depend»</text></a><!--MD5=[1b7591eae5389033d8d09a9d6721a717]\n",
       "link E4 to E5--><a href=\"psysml:1107382a-37f6-4d52-8c17-003f9fc0676e\" target=\"_top\" title=\"psysml:1107382a-37f6-4d52-8c17-003f9fc0676e\" xlink:actuate=\"onRequest\" xlink:href=\"psysml:1107382a-37f6-4d52-8c17-003f9fc0676e\" xlink:show=\"new\" xlink:title=\"psysml:1107382a-37f6-4d52-8c17-003f9fc0676e\" xlink:type=\"simple\"><path d=\"M349,267.12 C349,267.12 349,335.91 349,335.91 \" fill=\"none\" id=\"E4-&gt;E5\" style=\"stroke: #383838; stroke-width: 1.0; stroke-dasharray: 7.0,7.0;\"/><polygon fill=\"#383838\" points=\"349,343.91,352,335.91,346,335.91,349,343.91\" style=\"stroke: #383838; stroke-width: 1.0;\"/><text fill=\"#000000\" font-family=\"sans-serif\" font-size=\"13\" lengthAdjust=\"spacingAndGlyphs\" textLength=\"64\" x=\"350\" y=\"310.0669\">«depend»</text></a><!--MD5=[c5e8897d989ce984f93528998a7150fe]\n",
       "link E8 to E6--><a href=\"psysml:a975d936-bb91-4b85-9c47-7632192c23c3\" target=\"_top\" title=\"psysml:a975d936-bb91-4b85-9c47-7632192c23c3\" xlink:actuate=\"onRequest\" xlink:href=\"psysml:a975d936-bb91-4b85-9c47-7632192c23c3\" xlink:show=\"new\" xlink:title=\"psysml:a975d936-bb91-4b85-9c47-7632192c23c3\" xlink:type=\"simple\"><path d=\"M94,133.74 C94,133.74 94,209.46 94,209.46 \" fill=\"none\" id=\"E8-&gt;E6\" style=\"stroke: #383838; stroke-width: 1.0; stroke-dasharray: 7.0,7.0;\"/><polygon fill=\"#383838\" points=\"94,217.46,97,209.46,91,209.46,94,217.46\" style=\"stroke: #383838; stroke-width: 1.0;\"/><text fill=\"#000000\" font-family=\"sans-serif\" font-size=\"13\" lengthAdjust=\"spacingAndGlyphs\" textLength=\"64\" x=\"68\" y=\"180.0669\">«depend»</text></a><!--MD5=[bfa3c8b0d15052fdf50ae9310b491027]\n",
       "link E8 to E7--><a href=\"psysml:a975d936-bb91-4b85-9c47-7632192c23c3\" target=\"_top\" title=\"psysml:a975d936-bb91-4b85-9c47-7632192c23c3\" xlink:actuate=\"onRequest\" xlink:href=\"psysml:a975d936-bb91-4b85-9c47-7632192c23c3\" xlink:show=\"new\" xlink:title=\"psysml:a975d936-bb91-4b85-9c47-7632192c23c3\" xlink:type=\"simple\"><path d=\"M147,133.74 C147,133.74 147,209.46 147,209.46 \" fill=\"none\" id=\"E8-&gt;E7\" style=\"stroke: #383838; stroke-width: 1.0; stroke-dasharray: 7.0,7.0;\"/><polygon fill=\"#383838\" points=\"147,217.46,150,209.46,144,209.46,147,217.46\" style=\"stroke: #383838; stroke-width: 1.0;\"/><text fill=\"#000000\" font-family=\"sans-serif\" font-size=\"13\" lengthAdjust=\"spacingAndGlyphs\" textLength=\"64\" x=\"174\" y=\"180.0669\">«depend»</text></a><!--MD5=[906eabc3851d7108bb4d564d05a54ab0]\n",
       "@startuml\r\n",
       "skinparam linetype ortho\r\n",
       "skinparam monochrome true\r\n",
       "skinparam classbackgroundcolor white\r\n",
       "skinparam shadowing false\r\n",
       "skinparam wrapWidth 300\r\n",
       "hide circle\r\n",
       "\r\n",
       "package \"DependencyTest\" as E1  [[psysml:430f5b70-8499-4207-b78a-0a401723d15c ]]  {\r\n",
       "package \"System\" as E2  [[psysml:ef80acf8-3bbf-43fc-abea-40efc458e2ed ]]  {\r\n",
       "package \"Application Layer\" as E3  [[psysml:cb2f8149-aa3e-4482-91f3-ed1f7789b4f6 ]]  {\r\n",
       "}\r\n",
       "package \"Service Layer\" as E4  [[psysml:c90fac5e-4b06-46df-8524-0f31fe17b625 ]]  {\r\n",
       "}\r\n",
       "package \"Data Layer\" as E5  [[psysml:5945f028-85af-4284-8707-6581cfe8107d ]]  {\r\n",
       "}\r\n",
       "}\r\n",
       "comp usage \"x\" as E6  <<(T,blue)attribute>> [[psysml:f9adf18b-8dbf-4490-b33d-e9e2045e17b2 ]] {\r\n",
       "}\r\n",
       "comp usage \"y\" as E7  <<(T,blue)attribute>> [[psysml:b3547f0d-a84a-43aa-aeb1-8f3416005562 ]] {\r\n",
       "}\r\n",
       "comp usage \"z\" as E8  <<(T,blue)attribute>> [[psysml:06d3944d-d8a9-41b6-a7dc-ea1875e321b3 ]] {\r\n",
       "}\r\n",
       "E3 ..>> E4 [[psysml:71e7e357-685b-41cb-afa1-92571af689f5 ]] : <<depend>>\r\n",
       "E4 ..>> E5 [[psysml:1107382a-37f6-4d52-8c17-003f9fc0676e ]] : <<depend>>\r\n",
       "E8 ..>> E6 [[psysml:a975d936-bb91-4b85-9c47-7632192c23c3 ]] : <<depend>>\r\n",
       "E8 ..>> E7 [[psysml:a975d936-bb91-4b85-9c47-7632192c23c3 ]] : <<depend>>\r\n",
       "}\r\n",
       "@enduml\r\n",
       "\n",
       "PlantUML version 1.2020.13(Sat Jun 13 12:26:38 UTC 2020)\n",
       "(EPL source distribution)\n",
       "Java Runtime: OpenJDK Runtime Environment\n",
       "JVM: OpenJDK 64-Bit Server VM\n",
       "Default Encoding: UTF-8\n",
       "Language: en\n",
       "Country: null\n",
       "--></g></svg>"
      ]
     },
     "execution_count": 56,
     "metadata": {},
     "output_type": "execute_result"
    }
   ],
   "source": [
    "%viz --style=\"ORTHOLINE\" --view=\"Sequence\" \"DependencyTest\""
   ]
  },
  {
   "cell_type": "code",
   "execution_count": 57,
   "id": "japanese-spring",
   "metadata": {
    "execution": {
     "iopub.execute_input": "2021-03-25T13:51:48.265784Z",
     "iopub.status.busy": "2021-03-25T13:51:48.265109Z",
     "iopub.status.idle": "2021-03-25T13:51:48.359140Z",
     "shell.execute_reply": "2021-03-25T13:51:48.358722Z"
    }
   },
   "outputs": [
    {
     "data": {
      "image/svg+xml": [
       "<?xml version=\"1.0\" encoding=\"UTF-8\" standalone=\"no\"?><svg xmlns=\"http://www.w3.org/2000/svg\" xmlns:xlink=\"http://www.w3.org/1999/xlink\" contentScriptType=\"application/ecmascript\" contentStyleType=\"text/css\" height=\"449px\" preserveAspectRatio=\"none\" style=\"width:489px;height:449px;\" version=\"1.1\" viewBox=\"0 0 489 449\" width=\"489px\" zoomAndPan=\"magnify\"><defs/><g><!--MD5=[fbc87193dbaf4d95561dea2c320d4a47]\n",
       "cluster E1--><a href=\"psysml:430f5b70-8499-4207-b78a-0a401723d15c\" target=\"_top\" title=\"psysml:430f5b70-8499-4207-b78a-0a401723d15c\" xlink:actuate=\"onRequest\" xlink:href=\"psysml:430f5b70-8499-4207-b78a-0a401723d15c\" xlink:show=\"new\" xlink:title=\"psysml:430f5b70-8499-4207-b78a-0a401723d15c\" xlink:type=\"simple\"><polygon fill=\"#FFFFFF\" points=\"16,6,156,6,163,28.2969,467,28.2969,467,437,16,437,16,6\" style=\"stroke: #000000; stroke-width: 1.5;\"/><line style=\"stroke: #000000; stroke-width: 1.5;\" x1=\"16\" x2=\"163\" y1=\"28.2969\" y2=\"28.2969\"/><text fill=\"#000000\" font-family=\"sans-serif\" font-size=\"14\" font-weight=\"bold\" lengthAdjust=\"spacingAndGlyphs\" textLength=\"134\" x=\"20\" y=\"20.9951\">DependencyTest</text></a><!--MD5=[e4f7fae6ed58524ba242bb0b0d3be6b7]\n",
       "cluster E2--><a href=\"psysml:ef80acf8-3bbf-43fc-abea-40efc458e2ed\" target=\"_top\" title=\"psysml:ef80acf8-3bbf-43fc-abea-40efc458e2ed\" xlink:actuate=\"onRequest\" xlink:href=\"psysml:ef80acf8-3bbf-43fc-abea-40efc458e2ed\" xlink:show=\"new\" xlink:title=\"psysml:ef80acf8-3bbf-43fc-abea-40efc458e2ed\" xlink:type=\"simple\"><polygon fill=\"#FFFFFF\" points=\"255,49,319,49,326,71.2969,443,71.2969,443,413,255,413,255,49\" style=\"stroke: #000000; stroke-width: 1.5;\"/><line style=\"stroke: #000000; stroke-width: 1.5;\" x1=\"255\" x2=\"326\" y1=\"71.2969\" y2=\"71.2969\"/><text fill=\"#000000\" font-family=\"sans-serif\" font-size=\"14\" font-weight=\"bold\" lengthAdjust=\"spacingAndGlyphs\" textLength=\"58\" x=\"259\" y=\"63.9951\">System</text></a><!--MD5=[60a26617385b1d2d0262a64233df1f8d]\n",
       "class E6--><a href=\"psysml:f9adf18b-8dbf-4490-b33d-e9e2045e17b2\" target=\"_top\" title=\"psysml:f9adf18b-8dbf-4490-b33d-e9e2045e17b2\" xlink:actuate=\"onRequest\" xlink:href=\"psysml:f9adf18b-8dbf-4490-b33d-e9e2045e17b2\" xlink:show=\"new\" xlink:title=\"psysml:f9adf18b-8dbf-4490-b33d-e9e2045e17b2\" xlink:type=\"simple\"><rect fill=\"#FFFFFF\" height=\"45.9375\" id=\"E6\" rx=\"10\" ry=\"10\" style=\"stroke: #383838; stroke-width: 1.5;\" width=\"71\" x=\"32.5\" y=\"217.5\"/><text fill=\"#000000\" font-family=\"sans-serif\" font-size=\"12\" font-style=\"italic\" lengthAdjust=\"spacingAndGlyphs\" textLength=\"69\" x=\"33.5\" y=\"233.6387\">«attribute»</text><text fill=\"#000000\" font-family=\"sans-serif\" font-size=\"12\" lengthAdjust=\"spacingAndGlyphs\" textLength=\"6\" x=\"65\" y=\"247.6074\">x</text><line style=\"stroke: #383838; stroke-width: 1.5;\" x1=\"33.5\" x2=\"102.5\" y1=\"255.4375\" y2=\"255.4375\"/></a><!--MD5=[2156ba9850f5573cc1fc38a6a4b2f02b]\n",
       "class E7--><a href=\"psysml:b3547f0d-a84a-43aa-aeb1-8f3416005562\" target=\"_top\" title=\"psysml:b3547f0d-a84a-43aa-aeb1-8f3416005562\" xlink:actuate=\"onRequest\" xlink:href=\"psysml:b3547f0d-a84a-43aa-aeb1-8f3416005562\" xlink:show=\"new\" xlink:title=\"psysml:b3547f0d-a84a-43aa-aeb1-8f3416005562\" xlink:type=\"simple\"><rect fill=\"#FFFFFF\" height=\"45.9375\" id=\"E7\" rx=\"10\" ry=\"10\" style=\"stroke: #383838; stroke-width: 1.5;\" width=\"71\" x=\"138.5\" y=\"217.5\"/><text fill=\"#000000\" font-family=\"sans-serif\" font-size=\"12\" font-style=\"italic\" lengthAdjust=\"spacingAndGlyphs\" textLength=\"69\" x=\"139.5\" y=\"233.6387\">«attribute»</text><text fill=\"#000000\" font-family=\"sans-serif\" font-size=\"12\" lengthAdjust=\"spacingAndGlyphs\" textLength=\"6\" x=\"171\" y=\"247.6074\">y</text><line style=\"stroke: #383838; stroke-width: 1.5;\" x1=\"139.5\" x2=\"208.5\" y1=\"255.4375\" y2=\"255.4375\"/></a><!--MD5=[b9389687b975829384b498ac4b7476b2]\n",
       "class E8--><a href=\"psysml:06d3944d-d8a9-41b6-a7dc-ea1875e321b3\" target=\"_top\" title=\"psysml:06d3944d-d8a9-41b6-a7dc-ea1875e321b3\" xlink:actuate=\"onRequest\" xlink:href=\"psysml:06d3944d-d8a9-41b6-a7dc-ea1875e321b3\" xlink:show=\"new\" xlink:title=\"psysml:06d3944d-d8a9-41b6-a7dc-ea1875e321b3\" xlink:type=\"simple\"><rect fill=\"#FFFFFF\" height=\"45.9375\" id=\"E8\" rx=\"10\" ry=\"10\" style=\"stroke: #383838; stroke-width: 1.5;\" width=\"71\" x=\"84.5\" y=\"87.5\"/><text fill=\"#000000\" font-family=\"sans-serif\" font-size=\"12\" font-style=\"italic\" lengthAdjust=\"spacingAndGlyphs\" textLength=\"69\" x=\"85.5\" y=\"103.6387\">«attribute»</text><text fill=\"#000000\" font-family=\"sans-serif\" font-size=\"12\" lengthAdjust=\"spacingAndGlyphs\" textLength=\"5\" x=\"117.5\" y=\"117.6074\">z</text><line style=\"stroke: #383838; stroke-width: 1.5;\" x1=\"85.5\" x2=\"154.5\" y1=\"125.4375\" y2=\"125.4375\"/></a><a href=\"psysml:cb2f8149-aa3e-4482-91f3-ed1f7789b4f6\" target=\"_top\" title=\"psysml:cb2f8149-aa3e-4482-91f3-ed1f7789b4f6\" xlink:actuate=\"onRequest\" xlink:href=\"psysml:cb2f8149-aa3e-4482-91f3-ed1f7789b4f6\" xlink:show=\"new\" xlink:title=\"psysml:cb2f8149-aa3e-4482-91f3-ed1f7789b4f6\" xlink:type=\"simple\"><polygon fill=\"#FFFFFF\" points=\"271,84,413,84,420,106.2969,427,106.2969,427,136.5938,271,136.5938,271,84\" style=\"stroke: #000000; stroke-width: 1.5;\"/><line style=\"stroke: #000000; stroke-width: 1.5;\" x1=\"271\" x2=\"420\" y1=\"106.2969\" y2=\"106.2969\"/><text fill=\"#000000\" font-family=\"sans-serif\" font-size=\"14\" font-weight=\"bold\" lengthAdjust=\"spacingAndGlyphs\" textLength=\"136\" x=\"275\" y=\"98.9951\">Application Layer</text></a><a href=\"psysml:c90fac5e-4b06-46df-8524-0f31fe17b625\" target=\"_top\" title=\"psysml:c90fac5e-4b06-46df-8524-0f31fe17b625\" xlink:actuate=\"onRequest\" xlink:href=\"psysml:c90fac5e-4b06-46df-8524-0f31fe17b625\" xlink:show=\"new\" xlink:title=\"psysml:c90fac5e-4b06-46df-8524-0f31fe17b625\" xlink:type=\"simple\"><polygon fill=\"#FFFFFF\" points=\"285,214,399,214,406,236.2969,413,236.2969,413,266.5938,285,266.5938,285,214\" style=\"stroke: #000000; stroke-width: 1.5;\"/><line style=\"stroke: #000000; stroke-width: 1.5;\" x1=\"285\" x2=\"406\" y1=\"236.2969\" y2=\"236.2969\"/><text fill=\"#000000\" font-family=\"sans-serif\" font-size=\"14\" font-weight=\"bold\" lengthAdjust=\"spacingAndGlyphs\" textLength=\"108\" x=\"289\" y=\"228.9951\">Service Layer</text></a><a href=\"psysml:5945f028-85af-4284-8707-6581cfe8107d\" target=\"_top\" title=\"psysml:5945f028-85af-4284-8707-6581cfe8107d\" xlink:actuate=\"onRequest\" xlink:href=\"psysml:5945f028-85af-4284-8707-6581cfe8107d\" xlink:show=\"new\" xlink:title=\"psysml:5945f028-85af-4284-8707-6581cfe8107d\" xlink:type=\"simple\"><polygon fill=\"#FFFFFF\" points=\"297,344,387,344,394,366.2969,401,366.2969,401,396.5938,297,396.5938,297,344\" style=\"stroke: #000000; stroke-width: 1.5;\"/><line style=\"stroke: #000000; stroke-width: 1.5;\" x1=\"297\" x2=\"394\" y1=\"366.2969\" y2=\"366.2969\"/><text fill=\"#000000\" font-family=\"sans-serif\" font-size=\"14\" font-weight=\"bold\" lengthAdjust=\"spacingAndGlyphs\" textLength=\"84\" x=\"301\" y=\"358.9951\">Data Layer</text></a><!--MD5=[af87c684e3b0d8be13c1a698a818ef1e]\n",
       "link E3 to E4--><a href=\"psysml:71e7e357-685b-41cb-afa1-92571af689f5\" target=\"_top\" title=\"psysml:71e7e357-685b-41cb-afa1-92571af689f5\" xlink:actuate=\"onRequest\" xlink:href=\"psysml:71e7e357-685b-41cb-afa1-92571af689f5\" xlink:show=\"new\" xlink:title=\"psysml:71e7e357-685b-41cb-afa1-92571af689f5\" xlink:type=\"simple\"><path d=\"M349,137.12 C349,137.12 349,205.91 349,205.91 \" fill=\"none\" id=\"E3-&gt;E4\" style=\"stroke: #383838; stroke-width: 1.0; stroke-dasharray: 7.0,7.0;\"/><polygon fill=\"#383838\" points=\"349,213.91,352,205.91,346,205.91,349,213.91\" style=\"stroke: #383838; stroke-width: 1.0;\"/><text fill=\"#000000\" font-family=\"sans-serif\" font-size=\"13\" lengthAdjust=\"spacingAndGlyphs\" textLength=\"64\" x=\"350\" y=\"180.0669\">«depend»</text></a><!--MD5=[1b7591eae5389033d8d09a9d6721a717]\n",
       "link E4 to E5--><a href=\"psysml:1107382a-37f6-4d52-8c17-003f9fc0676e\" target=\"_top\" title=\"psysml:1107382a-37f6-4d52-8c17-003f9fc0676e\" xlink:actuate=\"onRequest\" xlink:href=\"psysml:1107382a-37f6-4d52-8c17-003f9fc0676e\" xlink:show=\"new\" xlink:title=\"psysml:1107382a-37f6-4d52-8c17-003f9fc0676e\" xlink:type=\"simple\"><path d=\"M349,267.12 C349,267.12 349,335.91 349,335.91 \" fill=\"none\" id=\"E4-&gt;E5\" style=\"stroke: #383838; stroke-width: 1.0; stroke-dasharray: 7.0,7.0;\"/><polygon fill=\"#383838\" points=\"349,343.91,352,335.91,346,335.91,349,343.91\" style=\"stroke: #383838; stroke-width: 1.0;\"/><text fill=\"#000000\" font-family=\"sans-serif\" font-size=\"13\" lengthAdjust=\"spacingAndGlyphs\" textLength=\"64\" x=\"350\" y=\"310.0669\">«depend»</text></a><!--MD5=[c5e8897d989ce984f93528998a7150fe]\n",
       "link E8 to E6--><a href=\"psysml:a975d936-bb91-4b85-9c47-7632192c23c3\" target=\"_top\" title=\"psysml:a975d936-bb91-4b85-9c47-7632192c23c3\" xlink:actuate=\"onRequest\" xlink:href=\"psysml:a975d936-bb91-4b85-9c47-7632192c23c3\" xlink:show=\"new\" xlink:title=\"psysml:a975d936-bb91-4b85-9c47-7632192c23c3\" xlink:type=\"simple\"><path d=\"M94,133.74 C94,133.74 94,209.46 94,209.46 \" fill=\"none\" id=\"E8-&gt;E6\" style=\"stroke: #383838; stroke-width: 1.0; stroke-dasharray: 7.0,7.0;\"/><polygon fill=\"#383838\" points=\"94,217.46,97,209.46,91,209.46,94,217.46\" style=\"stroke: #383838; stroke-width: 1.0;\"/><text fill=\"#000000\" font-family=\"sans-serif\" font-size=\"13\" lengthAdjust=\"spacingAndGlyphs\" textLength=\"64\" x=\"68\" y=\"180.0669\">«depend»</text></a><!--MD5=[bfa3c8b0d15052fdf50ae9310b491027]\n",
       "link E8 to E7--><a href=\"psysml:a975d936-bb91-4b85-9c47-7632192c23c3\" target=\"_top\" title=\"psysml:a975d936-bb91-4b85-9c47-7632192c23c3\" xlink:actuate=\"onRequest\" xlink:href=\"psysml:a975d936-bb91-4b85-9c47-7632192c23c3\" xlink:show=\"new\" xlink:title=\"psysml:a975d936-bb91-4b85-9c47-7632192c23c3\" xlink:type=\"simple\"><path d=\"M147,133.74 C147,133.74 147,209.46 147,209.46 \" fill=\"none\" id=\"E8-&gt;E7\" style=\"stroke: #383838; stroke-width: 1.0; stroke-dasharray: 7.0,7.0;\"/><polygon fill=\"#383838\" points=\"147,217.46,150,209.46,144,209.46,147,217.46\" style=\"stroke: #383838; stroke-width: 1.0;\"/><text fill=\"#000000\" font-family=\"sans-serif\" font-size=\"13\" lengthAdjust=\"spacingAndGlyphs\" textLength=\"64\" x=\"174\" y=\"180.0669\">«depend»</text></a><!--MD5=[906eabc3851d7108bb4d564d05a54ab0]\n",
       "@startuml\r\n",
       "skinparam linetype ortho\r\n",
       "skinparam monochrome true\r\n",
       "skinparam classbackgroundcolor white\r\n",
       "skinparam shadowing false\r\n",
       "skinparam wrapWidth 300\r\n",
       "hide circle\r\n",
       "\r\n",
       "package \"DependencyTest\" as E1  [[psysml:430f5b70-8499-4207-b78a-0a401723d15c ]]  {\r\n",
       "package \"System\" as E2  [[psysml:ef80acf8-3bbf-43fc-abea-40efc458e2ed ]]  {\r\n",
       "package \"Application Layer\" as E3  [[psysml:cb2f8149-aa3e-4482-91f3-ed1f7789b4f6 ]]  {\r\n",
       "}\r\n",
       "package \"Service Layer\" as E4  [[psysml:c90fac5e-4b06-46df-8524-0f31fe17b625 ]]  {\r\n",
       "}\r\n",
       "package \"Data Layer\" as E5  [[psysml:5945f028-85af-4284-8707-6581cfe8107d ]]  {\r\n",
       "}\r\n",
       "}\r\n",
       "comp usage \"x\" as E6  <<(T,blue)attribute>> [[psysml:f9adf18b-8dbf-4490-b33d-e9e2045e17b2 ]] {\r\n",
       "}\r\n",
       "comp usage \"y\" as E7  <<(T,blue)attribute>> [[psysml:b3547f0d-a84a-43aa-aeb1-8f3416005562 ]] {\r\n",
       "}\r\n",
       "comp usage \"z\" as E8  <<(T,blue)attribute>> [[psysml:06d3944d-d8a9-41b6-a7dc-ea1875e321b3 ]] {\r\n",
       "}\r\n",
       "E3 ..>> E4 [[psysml:71e7e357-685b-41cb-afa1-92571af689f5 ]] : <<depend>>\r\n",
       "E4 ..>> E5 [[psysml:1107382a-37f6-4d52-8c17-003f9fc0676e ]] : <<depend>>\r\n",
       "E8 ..>> E6 [[psysml:a975d936-bb91-4b85-9c47-7632192c23c3 ]] : <<depend>>\r\n",
       "E8 ..>> E7 [[psysml:a975d936-bb91-4b85-9c47-7632192c23c3 ]] : <<depend>>\r\n",
       "}\r\n",
       "@enduml\r\n",
       "\n",
       "PlantUML version 1.2020.13(Sat Jun 13 12:26:38 UTC 2020)\n",
       "(EPL source distribution)\n",
       "Java Runtime: OpenJDK Runtime Environment\n",
       "JVM: OpenJDK 64-Bit Server VM\n",
       "Default Encoding: UTF-8\n",
       "Language: en\n",
       "Country: null\n",
       "--></g></svg>"
      ]
     },
     "execution_count": 57,
     "metadata": {},
     "output_type": "execute_result"
    }
   ],
   "source": [
    "%viz --style=\"ORTHOLINE\" --view=\"MIXED\" \"DependencyTest\""
   ]
  }
 ],
 "metadata": {
  "kernelspec": {
   "display_name": "SysML",
   "language": "sysml",
   "name": "sysml"
  },
  "language_info": {
   "codemirror_mode": "sysml",
   "file_extension": ".sysml",
   "mimetype": "text/x-sysml",
   "name": "SysML",
   "pygments_lexer": "java",
   "version": "1.0.0"
  }
 },
 "nbformat": 4,
 "nbformat_minor": 5
}
