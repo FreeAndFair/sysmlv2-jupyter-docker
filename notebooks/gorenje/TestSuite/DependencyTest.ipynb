{
 "cells": [
  {
   "cell_type": "markdown",
   "id": "b6dac742",
   "metadata": {},
   "source": [
    "# SysML v2 Test Suite\n",
    "\n",
    "This can notebook can be cleared using menu `Edit --> Clear All Outputs` and then all cells can be\n",
    "run using menu `Run --> Run All Cells`.\n",
    "\n",
    "**WARNING**: This file is generated, all modifications here will be ignored.\n"
   ]
  },
  {
   "cell_type": "markdown",
   "id": "9b1530e7",
   "metadata": {},
   "source": [
    "## File: ../../sysml/src/examples/Simple Tests/DependencyTest.sysml"
   ]
  },
  {
   "cell_type": "code",
   "execution_count": 1,
   "id": "654d23e4",
   "metadata": {
    "execution": {
     "iopub.execute_input": "2022-02-18T10:46:48.669061Z",
     "iopub.status.busy": "2022-02-18T10:46:48.667732Z",
     "iopub.status.idle": "2022-02-18T10:46:48.753959Z",
     "shell.execute_reply": "2022-02-18T10:46:48.753436Z"
    }
   },
   "outputs": [
    {
     "data": {
      "text/plain": [
       "Package DependencyTest (3ff1d619-6332-4b77-bac6-5415d257265a)\n"
      ]
     },
     "execution_count": 1,
     "metadata": {},
     "output_type": "execute_result"
    }
   ],
   "source": [
    "package DependencyTest {\n",
    "\t\n",
    "\tpackage System {\n",
    "\t\tpackage 'Application Layer';\n",
    "\t\tpackage 'Service Layer';\n",
    "\t\tpackage 'Data Layer';\n",
    "\t}\n",
    "\t\n",
    "\timport System::*;\n",
    "\t\n",
    "\tdependency Use from 'Application Layer' to 'Service Layer';\n",
    "\tdependency from 'Service Layer' to 'Data Layer';\n",
    "\t\n",
    "\tattribute x;\n",
    "\tattribute y;\n",
    "\tattribute z;\n",
    "\t\n",
    "\tdependency z to x, y;\n",
    "\t\n",
    "}"
   ]
  },
  {
   "cell_type": "code",
   "execution_count": 2,
   "id": "934c32c4",
   "metadata": {
    "execution": {
     "iopub.execute_input": "2022-02-18T10:46:48.805604Z",
     "iopub.status.busy": "2022-02-18T10:46:48.805175Z",
     "iopub.status.idle": "2022-02-18T10:46:49.279409Z",
     "shell.execute_reply": "2022-02-18T10:46:49.277479Z"
    }
   },
   "outputs": [
    {
     "data": {
      "image/svg+xml": [
       "<?xml version=\"1.0\" encoding=\"UTF-8\" standalone=\"no\"?><svg xmlns=\"http://www.w3.org/2000/svg\" xmlns:xlink=\"http://www.w3.org/1999/xlink\" contentScriptType=\"application/ecmascript\" contentStyleType=\"text/css\" height=\"552px\" preserveAspectRatio=\"none\" style=\"width:536px;height:552px;\" version=\"1.1\" viewBox=\"0 0 536 552\" width=\"536px\" zoomAndPan=\"magnify\"><defs/><g><!--MD5=[fbc87193dbaf4d95561dea2c320d4a47]\n",
       "cluster E1--><a href=\"psysml:30c793ee-6e7c-4739-835e-bebdfc5bf1ce\" target=\"_top\" title=\"psysml:30c793ee-6e7c-4739-835e-bebdfc5bf1ce\" xlink:actuate=\"onRequest\" xlink:href=\"psysml:30c793ee-6e7c-4739-835e-bebdfc5bf1ce\" xlink:show=\"new\" xlink:title=\"psysml:30c793ee-6e7c-4739-835e-bebdfc5bf1ce\" xlink:type=\"simple\"><polygon fill=\"#FFFFFF\" points=\"16,6,142,6,149,28.2969,514,28.2969,514,540.72,16,540.72,16,6\" style=\"stroke: #000000; stroke-width: 1.5;\"/><line style=\"stroke: #000000; stroke-width: 1.5;\" x1=\"16\" x2=\"149\" y1=\"28.2969\" y2=\"28.2969\"/><text fill=\"#000000\" font-family=\"sans-serif\" font-size=\"14\" font-weight=\"bold\" lengthAdjust=\"spacingAndGlyphs\" textLength=\"120\" x=\"20\" y=\"20.9951\">DependencyTest</text></a><!--MD5=[e4f7fae6ed58524ba242bb0b0d3be6b7]\n",
       "cluster E2--><a href=\"psysml:db7b2f1b-03d7-4942-9142-e18d7a555d76\" target=\"_top\" title=\"psysml:db7b2f1b-03d7-4942-9142-e18d7a555d76\" xlink:actuate=\"onRequest\" xlink:href=\"psysml:db7b2f1b-03d7-4942-9142-e18d7a555d76\" xlink:show=\"new\" xlink:title=\"psysml:db7b2f1b-03d7-4942-9142-e18d7a555d76\" xlink:type=\"simple\"><polygon fill=\"#FFFFFF\" points=\"271,120.72,328,120.72,335,143.0169,474,143.0169,474,500.72,271,500.72,271,120.72\" style=\"stroke: #000000; stroke-width: 1.5;\"/><line style=\"stroke: #000000; stroke-width: 1.5;\" x1=\"271\" x2=\"335\" y1=\"143.0169\" y2=\"143.0169\"/><text fill=\"#000000\" font-family=\"sans-serif\" font-size=\"14\" font-weight=\"bold\" lengthAdjust=\"spacingAndGlyphs\" textLength=\"51\" x=\"275\" y=\"135.7151\">System</text></a><!--MD5=[60a26617385b1d2d0262a64233df1f8d]\n",
       "class E6--><a href=\"psysml:d66666e9-9ac5-42c6-8412-5d0a1bea61ed\" target=\"_top\" title=\"psysml:d66666e9-9ac5-42c6-8412-5d0a1bea61ed\" xlink:actuate=\"onRequest\" xlink:href=\"psysml:d66666e9-9ac5-42c6-8412-5d0a1bea61ed\" xlink:show=\"new\" xlink:title=\"psysml:d66666e9-9ac5-42c6-8412-5d0a1bea61ed\" xlink:type=\"simple\"><rect fill=\"#FFFFFF\" height=\"45.9375\" id=\"E6\" rx=\"10\" ry=\"10\" style=\"stroke: #383838; stroke-width: 1.5;\" width=\"71\" x=\"40.5\" y=\"297.22\"/><text fill=\"#000000\" font-family=\"sans-serif\" font-size=\"12\" font-style=\"italic\" lengthAdjust=\"spacingAndGlyphs\" textLength=\"69\" x=\"41.5\" y=\"313.3587\">«attribute»</text><text fill=\"#000000\" font-family=\"sans-serif\" font-size=\"12\" lengthAdjust=\"spacingAndGlyphs\" textLength=\"6\" x=\"71\" y=\"327.3274\">x</text><line style=\"stroke: #383838; stroke-width: 1.5;\" x1=\"41.5\" x2=\"110.5\" y1=\"335.1575\" y2=\"335.1575\"/></a><!--MD5=[2156ba9850f5573cc1fc38a6a4b2f02b]\n",
       "class E7--><a href=\"psysml:4c5b6854-1a08-45b4-8136-d30683a500ef\" target=\"_top\" title=\"psysml:4c5b6854-1a08-45b4-8136-d30683a500ef\" xlink:actuate=\"onRequest\" xlink:href=\"psysml:4c5b6854-1a08-45b4-8136-d30683a500ef\" xlink:show=\"new\" xlink:title=\"psysml:4c5b6854-1a08-45b4-8136-d30683a500ef\" xlink:type=\"simple\"><rect fill=\"#FFFFFF\" height=\"45.9375\" id=\"E7\" rx=\"10\" ry=\"10\" style=\"stroke: #383838; stroke-width: 1.5;\" width=\"71\" x=\"146.5\" y=\"297.22\"/><text fill=\"#000000\" font-family=\"sans-serif\" font-size=\"12\" font-style=\"italic\" lengthAdjust=\"spacingAndGlyphs\" textLength=\"69\" x=\"147.5\" y=\"313.3587\">«attribute»</text><text fill=\"#000000\" font-family=\"sans-serif\" font-size=\"12\" lengthAdjust=\"spacingAndGlyphs\" textLength=\"6\" x=\"177\" y=\"327.3274\">y</text><line style=\"stroke: #383838; stroke-width: 1.5;\" x1=\"147.5\" x2=\"216.5\" y1=\"335.1575\" y2=\"335.1575\"/></a><!--MD5=[b9389687b975829384b498ac4b7476b2]\n",
       "class E8--><a href=\"psysml:e4676a73-900e-4cfc-90aa-035aeedcaeac\" target=\"_top\" title=\"psysml:e4676a73-900e-4cfc-90aa-035aeedcaeac\" xlink:actuate=\"onRequest\" xlink:href=\"psysml:e4676a73-900e-4cfc-90aa-035aeedcaeac\" xlink:show=\"new\" xlink:title=\"psysml:e4676a73-900e-4cfc-90aa-035aeedcaeac\" xlink:type=\"simple\"><rect fill=\"#FFFFFF\" height=\"45.9375\" id=\"E8\" rx=\"10\" ry=\"10\" style=\"stroke: #383838; stroke-width: 1.5;\" width=\"71\" x=\"92.5\" y=\"167.22\"/><text fill=\"#000000\" font-family=\"sans-serif\" font-size=\"12\" font-style=\"italic\" lengthAdjust=\"spacingAndGlyphs\" textLength=\"69\" x=\"93.5\" y=\"183.3587\">«attribute»</text><text fill=\"#000000\" font-family=\"sans-serif\" font-size=\"12\" lengthAdjust=\"spacingAndGlyphs\" textLength=\"5\" x=\"123.5\" y=\"197.3274\">z</text><line style=\"stroke: #383838; stroke-width: 1.5;\" x1=\"93.5\" x2=\"162.5\" y1=\"205.1575\" y2=\"205.1575\"/></a><a href=\"psysml:7d470368-8955-499f-8cd6-0162cc61b017\" target=\"_top\" title=\"psysml:7d470368-8955-499f-8cd6-0162cc61b017\" xlink:actuate=\"onRequest\" xlink:href=\"psysml:7d470368-8955-499f-8cd6-0162cc61b017\" xlink:show=\"new\" xlink:title=\"psysml:7d470368-8955-499f-8cd6-0162cc61b017\" xlink:type=\"simple\"><polygon fill=\"#FFFFFF\" points=\"314.5,163.72,435.5,163.72,442.5,186.0169,449.5,186.0169,449.5,216.3138,314.5,216.3138,314.5,163.72\" style=\"stroke: #000000; stroke-width: 1.5;\"/><line style=\"stroke: #000000; stroke-width: 1.5;\" x1=\"314.5\" x2=\"442.5\" y1=\"186.0169\" y2=\"186.0169\"/><text fill=\"#000000\" font-family=\"sans-serif\" font-size=\"14\" font-weight=\"bold\" lengthAdjust=\"spacingAndGlyphs\" textLength=\"115\" x=\"318.5\" y=\"178.7151\">Application Layer</text></a><a href=\"psysml:db30598f-7650-4b69-b852-4feea02efbf5\" target=\"_top\" title=\"psysml:db30598f-7650-4b69-b852-4feea02efbf5\" xlink:actuate=\"onRequest\" xlink:href=\"psysml:db30598f-7650-4b69-b852-4feea02efbf5\" xlink:show=\"new\" xlink:title=\"psysml:db30598f-7650-4b69-b852-4feea02efbf5\" xlink:type=\"simple\"><polygon fill=\"#FFFFFF\" points=\"327,293.72,423,293.72,430,316.0169,437,316.0169,437,346.3138,327,346.3138,327,293.72\" style=\"stroke: #000000; stroke-width: 1.5;\"/><line style=\"stroke: #000000; stroke-width: 1.5;\" x1=\"327\" x2=\"430\" y1=\"316.0169\" y2=\"316.0169\"/><text fill=\"#000000\" font-family=\"sans-serif\" font-size=\"14\" font-weight=\"bold\" lengthAdjust=\"spacingAndGlyphs\" textLength=\"90\" x=\"331\" y=\"308.7151\">Service Layer</text></a><a href=\"psysml:f08d8e27-e89d-40a2-8de2-c51098f76f95\" target=\"_top\" title=\"psysml:f08d8e27-e89d-40a2-8de2-c51098f76f95\" xlink:actuate=\"onRequest\" xlink:href=\"psysml:f08d8e27-e89d-40a2-8de2-c51098f76f95\" xlink:show=\"new\" xlink:title=\"psysml:f08d8e27-e89d-40a2-8de2-c51098f76f95\" xlink:type=\"simple\"><polygon fill=\"#FFFFFF\" points=\"336,423.72,414,423.72,421,446.0169,428,446.0169,428,476.3138,336,476.3138,336,423.72\" style=\"stroke: #000000; stroke-width: 1.5;\"/><line style=\"stroke: #000000; stroke-width: 1.5;\" x1=\"336\" x2=\"421\" y1=\"446.0169\" y2=\"446.0169\"/><text fill=\"#000000\" font-family=\"sans-serif\" font-size=\"14\" font-weight=\"bold\" lengthAdjust=\"spacingAndGlyphs\" textLength=\"72\" x=\"340\" y=\"438.7151\">Data Layer</text></a><!--MD5=[1f1cd8e6dd4c1b2ca2aaccc9b9bcea6e]\n",
       "link E1 to E2--><a href=\"psysml:2cdf9aea-584d-4dc5-87f2-78933b91772a\" target=\"_top\" title=\"psysml:2cdf9aea-584d-4dc5-87f2-78933b91772a\" xlink:actuate=\"onRequest\" xlink:href=\"psysml:2cdf9aea-584d-4dc5-87f2-78933b91772a\" xlink:show=\"new\" xlink:title=\"psysml:2cdf9aea-584d-4dc5-87f2-78933b91772a\" xlink:type=\"simple\"><path d=\"M279,33.83 C279,36.15 279,73.83 279,111.5 C279,113.8544 279,116.2087 279,118.5544 C279,119.1408 279,119.7267 279,120.3119 \" fill=\"none\" id=\"E1-&gt;E2\" style=\"stroke: #383838; stroke-width: 1.0; stroke-dasharray: 7.0,7.0;\"/><polygon fill=\"#383838\" points=\"279,120.3119,283,111.3119,279,115.3119,275,111.3119,279,120.3119\" style=\"stroke: #383838; stroke-width: 1.0;\"/><text fill=\"#000000\" font-family=\"sans-serif\" font-size=\"13\" lengthAdjust=\"spacingAndGlyphs\" textLength=\"65\" x=\"280\" y=\"76.7869\">«import»*</text></a><!--MD5=[af87c684e3b0d8be13c1a698a818ef1e]\n",
       "link E3 to E4--><a href=\"psysml:ef543251-f685-45ef-999a-4058d8fef1e9\" target=\"_top\" title=\"psysml:ef543251-f685-45ef-999a-4058d8fef1e9\" xlink:actuate=\"onRequest\" xlink:href=\"psysml:ef543251-f685-45ef-999a-4058d8fef1e9\" xlink:show=\"new\" xlink:title=\"psysml:ef543251-f685-45ef-999a-4058d8fef1e9\" xlink:type=\"simple\"><path d=\"M382,216.82 C382,236.52 382,263.94 382,285.45 \" fill=\"none\" id=\"E3-&gt;E4\" style=\"stroke: #383838; stroke-width: 1.0; stroke-dasharray: 7.0,7.0;\"/><polygon fill=\"#383838\" points=\"382,293.67,385,285.67,379,285.67,382,293.67\" style=\"stroke: #383838; stroke-width: 1.0;\"/><text fill=\"#000000\" font-family=\"sans-serif\" font-size=\"13\" lengthAdjust=\"spacingAndGlyphs\" textLength=\"64\" x=\"383\" y=\"259.7869\">«depend»</text></a><!--MD5=[1b7591eae5389033d8d09a9d6721a717]\n",
       "link E4 to E5--><a href=\"psysml:f939ae72-3488-4da6-b797-5f4561198517\" target=\"_top\" title=\"psysml:f939ae72-3488-4da6-b797-5f4561198517\" xlink:actuate=\"onRequest\" xlink:href=\"psysml:f939ae72-3488-4da6-b797-5f4561198517\" xlink:show=\"new\" xlink:title=\"psysml:f939ae72-3488-4da6-b797-5f4561198517\" xlink:type=\"simple\"><path d=\"M382,346.82 C382,366.52 382,393.94 382,415.45 \" fill=\"none\" id=\"E4-&gt;E5\" style=\"stroke: #383838; stroke-width: 1.0; stroke-dasharray: 7.0,7.0;\"/><polygon fill=\"#383838\" points=\"382,423.67,385,415.67,379,415.67,382,423.67\" style=\"stroke: #383838; stroke-width: 1.0;\"/><text fill=\"#000000\" font-family=\"sans-serif\" font-size=\"13\" lengthAdjust=\"spacingAndGlyphs\" textLength=\"64\" x=\"383\" y=\"389.7869\">«depend»</text></a><!--MD5=[c5e8897d989ce984f93528998a7150fe]\n",
       "link E8 to E6--><a href=\"psysml:2a73c336-1214-4cbc-85e1-1f3a30fc1732\" target=\"_top\" title=\"psysml:2a73c336-1214-4cbc-85e1-1f3a30fc1732\" xlink:actuate=\"onRequest\" xlink:href=\"psysml:2a73c336-1214-4cbc-85e1-1f3a30fc1732\" xlink:show=\"new\" xlink:title=\"psysml:2a73c336-1214-4cbc-85e1-1f3a30fc1732\" xlink:type=\"simple\"><path d=\"M97.42,213.32 C87.35,222.4 77.37,233.83 72,246.72 C66.5,259.92 66.66,275.66 68.54,289.1 \" fill=\"none\" id=\"E8-&gt;E6\" style=\"stroke: #383838; stroke-width: 1.0; stroke-dasharray: 7.0,7.0;\"/><polygon fill=\"#383838\" points=\"69.9,297.12,71.517,288.7304,65.6018,289.7359,69.9,297.12\" style=\"stroke: #383838; stroke-width: 1.0;\"/><text fill=\"#000000\" font-family=\"sans-serif\" font-size=\"13\" lengthAdjust=\"spacingAndGlyphs\" textLength=\"64\" x=\"73\" y=\"259.7869\">«depend»</text></a><!--MD5=[bfa3c8b0d15052fdf50ae9310b491027]\n",
       "link E8 to E7--><a href=\"psysml:2a73c336-1214-4cbc-85e1-1f3a30fc1732\" target=\"_top\" title=\"psysml:2a73c336-1214-4cbc-85e1-1f3a30fc1732\" xlink:actuate=\"onRequest\" xlink:href=\"psysml:2a73c336-1214-4cbc-85e1-1f3a30fc1732\" xlink:show=\"new\" xlink:title=\"psysml:2a73c336-1214-4cbc-85e1-1f3a30fc1732\" xlink:type=\"simple\"><path d=\"M137.28,213.22 C146.17,234.29 159.64,266.22 169.47,289.53 \" fill=\"none\" id=\"E8-&gt;E7\" style=\"stroke: #383838; stroke-width: 1.0; stroke-dasharray: 7.0,7.0;\"/><polygon fill=\"#383838\" points=\"172.66,297.07,172.3241,288.5326,166.7933,290.8585,172.66,297.07\" style=\"stroke: #383838; stroke-width: 1.0;\"/><text fill=\"#000000\" font-family=\"sans-serif\" font-size=\"13\" lengthAdjust=\"spacingAndGlyphs\" textLength=\"64\" x=\"159\" y=\"259.7869\">«depend»</text></a><!--MD5=[74f5b6e51ea4e39db8986ad3fe608ca4]\n",
       "@startuml\r\n",
       " skinparam monochrome true\r\n",
       "skinparam classbackgroundcolor white\r\n",
       "skinparam shadowing false\r\n",
       "skinparam wrapWidth 300\r\n",
       "hide circle\r\n",
       "\r\n",
       "package \"DependencyTest\" as E1  [[psysml:30c793ee-6e7c-4739-835e-bebdfc5bf1ce ]]  {\r\n",
       "package \"System\" as E2  [[psysml:db7b2f1b-03d7-4942-9142-e18d7a555d76 ]]  {\r\n",
       "package \"Application Layer\" as E3  [[psysml:7d470368-8955-499f-8cd6-0162cc61b017 ]]  {\r\n",
       "}\r\n",
       "package \"Service Layer\" as E4  [[psysml:db30598f-7650-4b69-b852-4feea02efbf5 ]]  {\r\n",
       "}\r\n",
       "package \"Data Layer\" as E5  [[psysml:f08d8e27-e89d-40a2-8de2-c51098f76f95 ]]  {\r\n",
       "}\r\n",
       "}\r\n",
       "comp usage \"x \" as E6  <<(T,blue) attribute>> [[psysml:d66666e9-9ac5-42c6-8412-5d0a1bea61ed ]] {\r\n",
       "}\r\n",
       "comp usage \"y \" as E7  <<(T,blue) attribute>> [[psysml:4c5b6854-1a08-45b4-8136-d30683a500ef ]] {\r\n",
       "}\r\n",
       "comp usage \"z \" as E8  <<(T,blue) attribute>> [[psysml:e4676a73-900e-4cfc-90aa-035aeedcaeac ]] {\r\n",
       "}\r\n",
       "}\r\n",
       "E1 ..> E2 [[psysml:2cdf9aea-584d-4dc5-87f2-78933b91772a ]] : <<import>>*\r\n",
       "E3 ..>> E4 [[psysml:ef543251-f685-45ef-999a-4058d8fef1e9 ]] : <<depend>>\r\n",
       "E4 ..>> E5 [[psysml:f939ae72-3488-4da6-b797-5f4561198517 ]] : <<depend>>\r\n",
       "E8 ..>> E6 [[psysml:2a73c336-1214-4cbc-85e1-1f3a30fc1732 ]] : <<depend>>\r\n",
       "E8 ..>> E7 [[psysml:2a73c336-1214-4cbc-85e1-1f3a30fc1732 ]] : <<depend>>\r\n",
       "@enduml\r\n",
       "\n",
       "PlantUML version 1.2020.13(Sat Jun 13 12:26:38 UTC 2020)\n",
       "(EPL source distribution)\n",
       "Java Runtime: OpenJDK Runtime Environment\n",
       "JVM: OpenJDK 64-Bit Server VM\n",
       "Default Encoding: UTF-8\n",
       "Language: en\n",
       "Country: null\n",
       "--></g></svg>"
      ]
     },
     "execution_count": 2,
     "metadata": {},
     "output_type": "execute_result"
    }
   ],
   "source": [
    "%viz --style=\"COMPTREE\" --view=\"Default\" \"DependencyTest\""
   ]
  },
  {
   "cell_type": "code",
   "execution_count": 3,
   "id": "170ff210",
   "metadata": {
    "execution": {
     "iopub.execute_input": "2022-02-18T10:46:49.328106Z",
     "iopub.status.busy": "2022-02-18T10:46:49.327865Z",
     "iopub.status.idle": "2022-02-18T10:46:49.395259Z",
     "shell.execute_reply": "2022-02-18T10:46:49.395566Z"
    }
   },
   "outputs": [
    {
     "data": {
      "image/svg+xml": [
       "<?xml version=\"1.0\" encoding=\"UTF-8\" standalone=\"no\"?><svg xmlns=\"http://www.w3.org/2000/svg\" xmlns:xlink=\"http://www.w3.org/1999/xlink\" contentScriptType=\"application/ecmascript\" contentStyleType=\"text/css\" height=\"552px\" preserveAspectRatio=\"none\" style=\"width:536px;height:552px;\" version=\"1.1\" viewBox=\"0 0 536 552\" width=\"536px\" zoomAndPan=\"magnify\"><defs/><g><!--MD5=[fbc87193dbaf4d95561dea2c320d4a47]\n",
       "cluster E1--><a href=\"psysml:30c793ee-6e7c-4739-835e-bebdfc5bf1ce\" target=\"_top\" title=\"psysml:30c793ee-6e7c-4739-835e-bebdfc5bf1ce\" xlink:actuate=\"onRequest\" xlink:href=\"psysml:30c793ee-6e7c-4739-835e-bebdfc5bf1ce\" xlink:show=\"new\" xlink:title=\"psysml:30c793ee-6e7c-4739-835e-bebdfc5bf1ce\" xlink:type=\"simple\"><polygon fill=\"#FFFFFF\" points=\"16,6,142,6,149,28.2969,514,28.2969,514,540.72,16,540.72,16,6\" style=\"stroke: #000000; stroke-width: 1.5;\"/><line style=\"stroke: #000000; stroke-width: 1.5;\" x1=\"16\" x2=\"149\" y1=\"28.2969\" y2=\"28.2969\"/><text fill=\"#000000\" font-family=\"sans-serif\" font-size=\"14\" font-weight=\"bold\" lengthAdjust=\"spacingAndGlyphs\" textLength=\"120\" x=\"20\" y=\"20.9951\">DependencyTest</text></a><!--MD5=[e4f7fae6ed58524ba242bb0b0d3be6b7]\n",
       "cluster E2--><a href=\"psysml:db7b2f1b-03d7-4942-9142-e18d7a555d76\" target=\"_top\" title=\"psysml:db7b2f1b-03d7-4942-9142-e18d7a555d76\" xlink:actuate=\"onRequest\" xlink:href=\"psysml:db7b2f1b-03d7-4942-9142-e18d7a555d76\" xlink:show=\"new\" xlink:title=\"psysml:db7b2f1b-03d7-4942-9142-e18d7a555d76\" xlink:type=\"simple\"><polygon fill=\"#FFFFFF\" points=\"271,120.72,328,120.72,335,143.0169,474,143.0169,474,500.72,271,500.72,271,120.72\" style=\"stroke: #000000; stroke-width: 1.5;\"/><line style=\"stroke: #000000; stroke-width: 1.5;\" x1=\"271\" x2=\"335\" y1=\"143.0169\" y2=\"143.0169\"/><text fill=\"#000000\" font-family=\"sans-serif\" font-size=\"14\" font-weight=\"bold\" lengthAdjust=\"spacingAndGlyphs\" textLength=\"51\" x=\"275\" y=\"135.7151\">System</text></a><!--MD5=[60a26617385b1d2d0262a64233df1f8d]\n",
       "class E6--><a href=\"psysml:d66666e9-9ac5-42c6-8412-5d0a1bea61ed\" target=\"_top\" title=\"psysml:d66666e9-9ac5-42c6-8412-5d0a1bea61ed\" xlink:actuate=\"onRequest\" xlink:href=\"psysml:d66666e9-9ac5-42c6-8412-5d0a1bea61ed\" xlink:show=\"new\" xlink:title=\"psysml:d66666e9-9ac5-42c6-8412-5d0a1bea61ed\" xlink:type=\"simple\"><rect fill=\"#FFFFFF\" height=\"45.9375\" id=\"E6\" rx=\"10\" ry=\"10\" style=\"stroke: #383838; stroke-width: 1.5;\" width=\"71\" x=\"40.5\" y=\"297.22\"/><text fill=\"#000000\" font-family=\"sans-serif\" font-size=\"12\" font-style=\"italic\" lengthAdjust=\"spacingAndGlyphs\" textLength=\"69\" x=\"41.5\" y=\"313.3587\">«attribute»</text><text fill=\"#000000\" font-family=\"sans-serif\" font-size=\"12\" lengthAdjust=\"spacingAndGlyphs\" textLength=\"6\" x=\"71\" y=\"327.3274\">x</text><line style=\"stroke: #383838; stroke-width: 1.5;\" x1=\"41.5\" x2=\"110.5\" y1=\"335.1575\" y2=\"335.1575\"/></a><!--MD5=[2156ba9850f5573cc1fc38a6a4b2f02b]\n",
       "class E7--><a href=\"psysml:4c5b6854-1a08-45b4-8136-d30683a500ef\" target=\"_top\" title=\"psysml:4c5b6854-1a08-45b4-8136-d30683a500ef\" xlink:actuate=\"onRequest\" xlink:href=\"psysml:4c5b6854-1a08-45b4-8136-d30683a500ef\" xlink:show=\"new\" xlink:title=\"psysml:4c5b6854-1a08-45b4-8136-d30683a500ef\" xlink:type=\"simple\"><rect fill=\"#FFFFFF\" height=\"45.9375\" id=\"E7\" rx=\"10\" ry=\"10\" style=\"stroke: #383838; stroke-width: 1.5;\" width=\"71\" x=\"146.5\" y=\"297.22\"/><text fill=\"#000000\" font-family=\"sans-serif\" font-size=\"12\" font-style=\"italic\" lengthAdjust=\"spacingAndGlyphs\" textLength=\"69\" x=\"147.5\" y=\"313.3587\">«attribute»</text><text fill=\"#000000\" font-family=\"sans-serif\" font-size=\"12\" lengthAdjust=\"spacingAndGlyphs\" textLength=\"6\" x=\"177\" y=\"327.3274\">y</text><line style=\"stroke: #383838; stroke-width: 1.5;\" x1=\"147.5\" x2=\"216.5\" y1=\"335.1575\" y2=\"335.1575\"/></a><!--MD5=[b9389687b975829384b498ac4b7476b2]\n",
       "class E8--><a href=\"psysml:e4676a73-900e-4cfc-90aa-035aeedcaeac\" target=\"_top\" title=\"psysml:e4676a73-900e-4cfc-90aa-035aeedcaeac\" xlink:actuate=\"onRequest\" xlink:href=\"psysml:e4676a73-900e-4cfc-90aa-035aeedcaeac\" xlink:show=\"new\" xlink:title=\"psysml:e4676a73-900e-4cfc-90aa-035aeedcaeac\" xlink:type=\"simple\"><rect fill=\"#FFFFFF\" height=\"45.9375\" id=\"E8\" rx=\"10\" ry=\"10\" style=\"stroke: #383838; stroke-width: 1.5;\" width=\"71\" x=\"92.5\" y=\"167.22\"/><text fill=\"#000000\" font-family=\"sans-serif\" font-size=\"12\" font-style=\"italic\" lengthAdjust=\"spacingAndGlyphs\" textLength=\"69\" x=\"93.5\" y=\"183.3587\">«attribute»</text><text fill=\"#000000\" font-family=\"sans-serif\" font-size=\"12\" lengthAdjust=\"spacingAndGlyphs\" textLength=\"5\" x=\"123.5\" y=\"197.3274\">z</text><line style=\"stroke: #383838; stroke-width: 1.5;\" x1=\"93.5\" x2=\"162.5\" y1=\"205.1575\" y2=\"205.1575\"/></a><a href=\"psysml:7d470368-8955-499f-8cd6-0162cc61b017\" target=\"_top\" title=\"psysml:7d470368-8955-499f-8cd6-0162cc61b017\" xlink:actuate=\"onRequest\" xlink:href=\"psysml:7d470368-8955-499f-8cd6-0162cc61b017\" xlink:show=\"new\" xlink:title=\"psysml:7d470368-8955-499f-8cd6-0162cc61b017\" xlink:type=\"simple\"><polygon fill=\"#FFFFFF\" points=\"314.5,163.72,435.5,163.72,442.5,186.0169,449.5,186.0169,449.5,216.3138,314.5,216.3138,314.5,163.72\" style=\"stroke: #000000; stroke-width: 1.5;\"/><line style=\"stroke: #000000; stroke-width: 1.5;\" x1=\"314.5\" x2=\"442.5\" y1=\"186.0169\" y2=\"186.0169\"/><text fill=\"#000000\" font-family=\"sans-serif\" font-size=\"14\" font-weight=\"bold\" lengthAdjust=\"spacingAndGlyphs\" textLength=\"115\" x=\"318.5\" y=\"178.7151\">Application Layer</text></a><a href=\"psysml:db30598f-7650-4b69-b852-4feea02efbf5\" target=\"_top\" title=\"psysml:db30598f-7650-4b69-b852-4feea02efbf5\" xlink:actuate=\"onRequest\" xlink:href=\"psysml:db30598f-7650-4b69-b852-4feea02efbf5\" xlink:show=\"new\" xlink:title=\"psysml:db30598f-7650-4b69-b852-4feea02efbf5\" xlink:type=\"simple\"><polygon fill=\"#FFFFFF\" points=\"327,293.72,423,293.72,430,316.0169,437,316.0169,437,346.3138,327,346.3138,327,293.72\" style=\"stroke: #000000; stroke-width: 1.5;\"/><line style=\"stroke: #000000; stroke-width: 1.5;\" x1=\"327\" x2=\"430\" y1=\"316.0169\" y2=\"316.0169\"/><text fill=\"#000000\" font-family=\"sans-serif\" font-size=\"14\" font-weight=\"bold\" lengthAdjust=\"spacingAndGlyphs\" textLength=\"90\" x=\"331\" y=\"308.7151\">Service Layer</text></a><a href=\"psysml:f08d8e27-e89d-40a2-8de2-c51098f76f95\" target=\"_top\" title=\"psysml:f08d8e27-e89d-40a2-8de2-c51098f76f95\" xlink:actuate=\"onRequest\" xlink:href=\"psysml:f08d8e27-e89d-40a2-8de2-c51098f76f95\" xlink:show=\"new\" xlink:title=\"psysml:f08d8e27-e89d-40a2-8de2-c51098f76f95\" xlink:type=\"simple\"><polygon fill=\"#FFFFFF\" points=\"336,423.72,414,423.72,421,446.0169,428,446.0169,428,476.3138,336,476.3138,336,423.72\" style=\"stroke: #000000; stroke-width: 1.5;\"/><line style=\"stroke: #000000; stroke-width: 1.5;\" x1=\"336\" x2=\"421\" y1=\"446.0169\" y2=\"446.0169\"/><text fill=\"#000000\" font-family=\"sans-serif\" font-size=\"14\" font-weight=\"bold\" lengthAdjust=\"spacingAndGlyphs\" textLength=\"72\" x=\"340\" y=\"438.7151\">Data Layer</text></a><!--MD5=[1f1cd8e6dd4c1b2ca2aaccc9b9bcea6e]\n",
       "link E1 to E2--><a href=\"psysml:2cdf9aea-584d-4dc5-87f2-78933b91772a\" target=\"_top\" title=\"psysml:2cdf9aea-584d-4dc5-87f2-78933b91772a\" xlink:actuate=\"onRequest\" xlink:href=\"psysml:2cdf9aea-584d-4dc5-87f2-78933b91772a\" xlink:show=\"new\" xlink:title=\"psysml:2cdf9aea-584d-4dc5-87f2-78933b91772a\" xlink:type=\"simple\"><path d=\"M279,33.83 C279,36.15 279,73.83 279,111.5 C279,113.8544 279,116.2087 279,118.5544 C279,119.1408 279,119.7267 279,120.3119 \" fill=\"none\" id=\"E1-&gt;E2\" style=\"stroke: #383838; stroke-width: 1.0; stroke-dasharray: 7.0,7.0;\"/><polygon fill=\"#383838\" points=\"279,120.3119,283,111.3119,279,115.3119,275,111.3119,279,120.3119\" style=\"stroke: #383838; stroke-width: 1.0;\"/><text fill=\"#000000\" font-family=\"sans-serif\" font-size=\"13\" lengthAdjust=\"spacingAndGlyphs\" textLength=\"65\" x=\"280\" y=\"76.7869\">«import»*</text></a><!--MD5=[af87c684e3b0d8be13c1a698a818ef1e]\n",
       "link E3 to E4--><a href=\"psysml:ef543251-f685-45ef-999a-4058d8fef1e9\" target=\"_top\" title=\"psysml:ef543251-f685-45ef-999a-4058d8fef1e9\" xlink:actuate=\"onRequest\" xlink:href=\"psysml:ef543251-f685-45ef-999a-4058d8fef1e9\" xlink:show=\"new\" xlink:title=\"psysml:ef543251-f685-45ef-999a-4058d8fef1e9\" xlink:type=\"simple\"><path d=\"M382,216.82 C382,236.52 382,263.94 382,285.45 \" fill=\"none\" id=\"E3-&gt;E4\" style=\"stroke: #383838; stroke-width: 1.0; stroke-dasharray: 7.0,7.0;\"/><polygon fill=\"#383838\" points=\"382,293.67,385,285.67,379,285.67,382,293.67\" style=\"stroke: #383838; stroke-width: 1.0;\"/><text fill=\"#000000\" font-family=\"sans-serif\" font-size=\"13\" lengthAdjust=\"spacingAndGlyphs\" textLength=\"64\" x=\"383\" y=\"259.7869\">«depend»</text></a><!--MD5=[1b7591eae5389033d8d09a9d6721a717]\n",
       "link E4 to E5--><a href=\"psysml:f939ae72-3488-4da6-b797-5f4561198517\" target=\"_top\" title=\"psysml:f939ae72-3488-4da6-b797-5f4561198517\" xlink:actuate=\"onRequest\" xlink:href=\"psysml:f939ae72-3488-4da6-b797-5f4561198517\" xlink:show=\"new\" xlink:title=\"psysml:f939ae72-3488-4da6-b797-5f4561198517\" xlink:type=\"simple\"><path d=\"M382,346.82 C382,366.52 382,393.94 382,415.45 \" fill=\"none\" id=\"E4-&gt;E5\" style=\"stroke: #383838; stroke-width: 1.0; stroke-dasharray: 7.0,7.0;\"/><polygon fill=\"#383838\" points=\"382,423.67,385,415.67,379,415.67,382,423.67\" style=\"stroke: #383838; stroke-width: 1.0;\"/><text fill=\"#000000\" font-family=\"sans-serif\" font-size=\"13\" lengthAdjust=\"spacingAndGlyphs\" textLength=\"64\" x=\"383\" y=\"389.7869\">«depend»</text></a><!--MD5=[c5e8897d989ce984f93528998a7150fe]\n",
       "link E8 to E6--><a href=\"psysml:2a73c336-1214-4cbc-85e1-1f3a30fc1732\" target=\"_top\" title=\"psysml:2a73c336-1214-4cbc-85e1-1f3a30fc1732\" xlink:actuate=\"onRequest\" xlink:href=\"psysml:2a73c336-1214-4cbc-85e1-1f3a30fc1732\" xlink:show=\"new\" xlink:title=\"psysml:2a73c336-1214-4cbc-85e1-1f3a30fc1732\" xlink:type=\"simple\"><path d=\"M97.42,213.32 C87.35,222.4 77.37,233.83 72,246.72 C66.5,259.92 66.66,275.66 68.54,289.1 \" fill=\"none\" id=\"E8-&gt;E6\" style=\"stroke: #383838; stroke-width: 1.0; stroke-dasharray: 7.0,7.0;\"/><polygon fill=\"#383838\" points=\"69.9,297.12,71.517,288.7304,65.6018,289.7359,69.9,297.12\" style=\"stroke: #383838; stroke-width: 1.0;\"/><text fill=\"#000000\" font-family=\"sans-serif\" font-size=\"13\" lengthAdjust=\"spacingAndGlyphs\" textLength=\"64\" x=\"73\" y=\"259.7869\">«depend»</text></a><!--MD5=[bfa3c8b0d15052fdf50ae9310b491027]\n",
       "link E8 to E7--><a href=\"psysml:2a73c336-1214-4cbc-85e1-1f3a30fc1732\" target=\"_top\" title=\"psysml:2a73c336-1214-4cbc-85e1-1f3a30fc1732\" xlink:actuate=\"onRequest\" xlink:href=\"psysml:2a73c336-1214-4cbc-85e1-1f3a30fc1732\" xlink:show=\"new\" xlink:title=\"psysml:2a73c336-1214-4cbc-85e1-1f3a30fc1732\" xlink:type=\"simple\"><path d=\"M137.28,213.22 C146.17,234.29 159.64,266.22 169.47,289.53 \" fill=\"none\" id=\"E8-&gt;E7\" style=\"stroke: #383838; stroke-width: 1.0; stroke-dasharray: 7.0,7.0;\"/><polygon fill=\"#383838\" points=\"172.66,297.07,172.3241,288.5326,166.7933,290.8585,172.66,297.07\" style=\"stroke: #383838; stroke-width: 1.0;\"/><text fill=\"#000000\" font-family=\"sans-serif\" font-size=\"13\" lengthAdjust=\"spacingAndGlyphs\" textLength=\"64\" x=\"159\" y=\"259.7869\">«depend»</text></a><!--MD5=[74f5b6e51ea4e39db8986ad3fe608ca4]\n",
       "@startuml\r\n",
       " skinparam monochrome true\r\n",
       "skinparam classbackgroundcolor white\r\n",
       "skinparam shadowing false\r\n",
       "skinparam wrapWidth 300\r\n",
       "hide circle\r\n",
       "\r\n",
       "package \"DependencyTest\" as E1  [[psysml:30c793ee-6e7c-4739-835e-bebdfc5bf1ce ]]  {\r\n",
       "package \"System\" as E2  [[psysml:db7b2f1b-03d7-4942-9142-e18d7a555d76 ]]  {\r\n",
       "package \"Application Layer\" as E3  [[psysml:7d470368-8955-499f-8cd6-0162cc61b017 ]]  {\r\n",
       "}\r\n",
       "package \"Service Layer\" as E4  [[psysml:db30598f-7650-4b69-b852-4feea02efbf5 ]]  {\r\n",
       "}\r\n",
       "package \"Data Layer\" as E5  [[psysml:f08d8e27-e89d-40a2-8de2-c51098f76f95 ]]  {\r\n",
       "}\r\n",
       "}\r\n",
       "comp usage \"x \" as E6  <<(T,blue) attribute>> [[psysml:d66666e9-9ac5-42c6-8412-5d0a1bea61ed ]] {\r\n",
       "}\r\n",
       "comp usage \"y \" as E7  <<(T,blue) attribute>> [[psysml:4c5b6854-1a08-45b4-8136-d30683a500ef ]] {\r\n",
       "}\r\n",
       "comp usage \"z \" as E8  <<(T,blue) attribute>> [[psysml:e4676a73-900e-4cfc-90aa-035aeedcaeac ]] {\r\n",
       "}\r\n",
       "}\r\n",
       "E1 ..> E2 [[psysml:2cdf9aea-584d-4dc5-87f2-78933b91772a ]] : <<import>>*\r\n",
       "E3 ..>> E4 [[psysml:ef543251-f685-45ef-999a-4058d8fef1e9 ]] : <<depend>>\r\n",
       "E4 ..>> E5 [[psysml:f939ae72-3488-4da6-b797-5f4561198517 ]] : <<depend>>\r\n",
       "E8 ..>> E6 [[psysml:2a73c336-1214-4cbc-85e1-1f3a30fc1732 ]] : <<depend>>\r\n",
       "E8 ..>> E7 [[psysml:2a73c336-1214-4cbc-85e1-1f3a30fc1732 ]] : <<depend>>\r\n",
       "@enduml\r\n",
       "\n",
       "PlantUML version 1.2020.13(Sat Jun 13 12:26:38 UTC 2020)\n",
       "(EPL source distribution)\n",
       "Java Runtime: OpenJDK Runtime Environment\n",
       "JVM: OpenJDK 64-Bit Server VM\n",
       "Default Encoding: UTF-8\n",
       "Language: en\n",
       "Country: null\n",
       "--></g></svg>"
      ]
     },
     "execution_count": 3,
     "metadata": {},
     "output_type": "execute_result"
    }
   ],
   "source": [
    "%viz --style=\"COMPTREE\" --view=\"Tree\" \"DependencyTest\""
   ]
  },
  {
   "cell_type": "code",
   "execution_count": 4,
   "id": "c95a8bba",
   "metadata": {
    "execution": {
     "iopub.execute_input": "2022-02-18T10:46:49.445951Z",
     "iopub.status.busy": "2022-02-18T10:46:49.445521Z",
     "iopub.status.idle": "2022-02-18T10:46:49.453442Z",
     "shell.execute_reply": "2022-02-18T10:46:49.453763Z"
    }
   },
   "outputs": [
    {
     "data": {
      "image/svg+xml": [
       "<?xml version=\"1.0\" encoding=\"UTF-8\" standalone=\"no\"?><svg xmlns=\"http://www.w3.org/2000/svg\" xmlns:xlink=\"http://www.w3.org/1999/xlink\" contentScriptType=\"application/ecmascript\" contentStyleType=\"text/css\" height=\"12px\" preserveAspectRatio=\"none\" style=\"width:12px;height:12px;\" version=\"1.1\" viewBox=\"0 0 12 12\" width=\"12px\" zoomAndPan=\"magnify\"><defs/><g><!--MD5=[f19188ef49e11757b5c46753f95d9edc]\n",
       "@startuml\r\n",
       " skinparam monochrome true\r\n",
       "skinparam classbackgroundcolor white\r\n",
       "skinparam shadowing false\r\n",
       "skinparam wrapWidth 300\r\n",
       "hide circle\r\n",
       "\r\n",
       "@enduml\r\n",
       "\n",
       "PlantUML version 1.2020.13(Sat Jun 13 12:26:38 UTC 2020)\n",
       "(EPL source distribution)\n",
       "Java Runtime: OpenJDK Runtime Environment\n",
       "JVM: OpenJDK 64-Bit Server VM\n",
       "Default Encoding: UTF-8\n",
       "Language: en\n",
       "Country: null\n",
       "--></g></svg>"
      ]
     },
     "execution_count": 4,
     "metadata": {},
     "output_type": "execute_result"
    }
   ],
   "source": [
    "%viz --style=\"COMPTREE\" --view=\"State\" \"DependencyTest\""
   ]
  },
  {
   "cell_type": "code",
   "execution_count": 5,
   "id": "4d1ac2d4",
   "metadata": {
    "execution": {
     "iopub.execute_input": "2022-02-18T10:46:49.504319Z",
     "iopub.status.busy": "2022-02-18T10:46:49.503909Z",
     "iopub.status.idle": "2022-02-18T10:46:49.562641Z",
     "shell.execute_reply": "2022-02-18T10:46:49.562278Z"
    }
   },
   "outputs": [
    {
     "data": {
      "image/svg+xml": [
       "<?xml version=\"1.0\" encoding=\"UTF-8\" standalone=\"no\"?><svg xmlns=\"http://www.w3.org/2000/svg\" xmlns:xlink=\"http://www.w3.org/1999/xlink\" contentScriptType=\"application/ecmascript\" contentStyleType=\"text/css\" height=\"442px\" preserveAspectRatio=\"none\" style=\"width:536px;height:442px;\" version=\"1.1\" viewBox=\"0 0 536 442\" width=\"536px\" zoomAndPan=\"magnify\"><defs/><g><!--MD5=[fbc87193dbaf4d95561dea2c320d4a47]\n",
       "cluster E1--><a href=\"psysml:30c793ee-6e7c-4739-835e-bebdfc5bf1ce\" target=\"_top\" title=\"psysml:30c793ee-6e7c-4739-835e-bebdfc5bf1ce\" xlink:actuate=\"onRequest\" xlink:href=\"psysml:30c793ee-6e7c-4739-835e-bebdfc5bf1ce\" xlink:show=\"new\" xlink:title=\"psysml:30c793ee-6e7c-4739-835e-bebdfc5bf1ce\" xlink:type=\"simple\"><polygon fill=\"#FFFFFF\" points=\"16,6,142,6,149,28.2969,514,28.2969,514,430.72,16,430.72,16,6\" style=\"stroke: #000000; stroke-width: 1.5;\"/><line style=\"stroke: #000000; stroke-width: 1.5;\" x1=\"16\" x2=\"149\" y1=\"28.2969\" y2=\"28.2969\"/><text fill=\"#000000\" font-family=\"sans-serif\" font-size=\"14\" font-weight=\"bold\" lengthAdjust=\"spacingAndGlyphs\" textLength=\"120\" x=\"20\" y=\"20.9951\">DependencyTest</text></a><!--MD5=[e4f7fae6ed58524ba242bb0b0d3be6b7]\n",
       "cluster E2--><a href=\"psysml:db7b2f1b-03d7-4942-9142-e18d7a555d76\" target=\"_top\" title=\"psysml:db7b2f1b-03d7-4942-9142-e18d7a555d76\" xlink:actuate=\"onRequest\" xlink:href=\"psysml:db7b2f1b-03d7-4942-9142-e18d7a555d76\" xlink:show=\"new\" xlink:title=\"psysml:db7b2f1b-03d7-4942-9142-e18d7a555d76\" xlink:type=\"simple\"><polygon fill=\"#FFFFFF\" points=\"271,98.72,328,98.72,335,121.0169,474,121.0169,474,390.72,271,390.72,271,98.72\" style=\"stroke: #000000; stroke-width: 1.5;\"/><line style=\"stroke: #000000; stroke-width: 1.5;\" x1=\"271\" x2=\"335\" y1=\"121.0169\" y2=\"121.0169\"/><text fill=\"#000000\" font-family=\"sans-serif\" font-size=\"14\" font-weight=\"bold\" lengthAdjust=\"spacingAndGlyphs\" textLength=\"51\" x=\"275\" y=\"113.7151\">System</text></a><!--MD5=[60a26617385b1d2d0262a64233df1f8d]\n",
       "class E6--><a href=\"psysml:d66666e9-9ac5-42c6-8412-5d0a1bea61ed\" target=\"_top\" title=\"psysml:d66666e9-9ac5-42c6-8412-5d0a1bea61ed\" xlink:actuate=\"onRequest\" xlink:href=\"psysml:d66666e9-9ac5-42c6-8412-5d0a1bea61ed\" xlink:show=\"new\" xlink:title=\"psysml:d66666e9-9ac5-42c6-8412-5d0a1bea61ed\" xlink:type=\"simple\"><rect fill=\"#FFFFFF\" height=\"45.9375\" id=\"E6\" rx=\"10\" ry=\"10\" style=\"stroke: #383838; stroke-width: 1.5;\" width=\"71\" x=\"40.5\" y=\"231.22\"/><text fill=\"#000000\" font-family=\"sans-serif\" font-size=\"12\" font-style=\"italic\" lengthAdjust=\"spacingAndGlyphs\" textLength=\"69\" x=\"41.5\" y=\"247.3587\">«attribute»</text><text fill=\"#000000\" font-family=\"sans-serif\" font-size=\"12\" lengthAdjust=\"spacingAndGlyphs\" textLength=\"6\" x=\"71\" y=\"261.3274\">x</text><line style=\"stroke: #383838; stroke-width: 1.5;\" x1=\"41.5\" x2=\"110.5\" y1=\"269.1575\" y2=\"269.1575\"/></a><!--MD5=[2156ba9850f5573cc1fc38a6a4b2f02b]\n",
       "class E7--><a href=\"psysml:4c5b6854-1a08-45b4-8136-d30683a500ef\" target=\"_top\" title=\"psysml:4c5b6854-1a08-45b4-8136-d30683a500ef\" xlink:actuate=\"onRequest\" xlink:href=\"psysml:4c5b6854-1a08-45b4-8136-d30683a500ef\" xlink:show=\"new\" xlink:title=\"psysml:4c5b6854-1a08-45b4-8136-d30683a500ef\" xlink:type=\"simple\"><rect fill=\"#FFFFFF\" height=\"45.9375\" id=\"E7\" rx=\"10\" ry=\"10\" style=\"stroke: #383838; stroke-width: 1.5;\" width=\"71\" x=\"146.5\" y=\"231.22\"/><text fill=\"#000000\" font-family=\"sans-serif\" font-size=\"12\" font-style=\"italic\" lengthAdjust=\"spacingAndGlyphs\" textLength=\"69\" x=\"147.5\" y=\"247.3587\">«attribute»</text><text fill=\"#000000\" font-family=\"sans-serif\" font-size=\"12\" lengthAdjust=\"spacingAndGlyphs\" textLength=\"6\" x=\"177\" y=\"261.3274\">y</text><line style=\"stroke: #383838; stroke-width: 1.5;\" x1=\"147.5\" x2=\"216.5\" y1=\"269.1575\" y2=\"269.1575\"/></a><!--MD5=[b9389687b975829384b498ac4b7476b2]\n",
       "class E8--><a href=\"psysml:e4676a73-900e-4cfc-90aa-035aeedcaeac\" target=\"_top\" title=\"psysml:e4676a73-900e-4cfc-90aa-035aeedcaeac\" xlink:actuate=\"onRequest\" xlink:href=\"psysml:e4676a73-900e-4cfc-90aa-035aeedcaeac\" xlink:show=\"new\" xlink:title=\"psysml:e4676a73-900e-4cfc-90aa-035aeedcaeac\" xlink:type=\"simple\"><rect fill=\"#FFFFFF\" height=\"45.9375\" id=\"E8\" rx=\"10\" ry=\"10\" style=\"stroke: #383838; stroke-width: 1.5;\" width=\"71\" x=\"92.5\" y=\"145.22\"/><text fill=\"#000000\" font-family=\"sans-serif\" font-size=\"12\" font-style=\"italic\" lengthAdjust=\"spacingAndGlyphs\" textLength=\"69\" x=\"93.5\" y=\"161.3587\">«attribute»</text><text fill=\"#000000\" font-family=\"sans-serif\" font-size=\"12\" lengthAdjust=\"spacingAndGlyphs\" textLength=\"5\" x=\"123.5\" y=\"175.3274\">z</text><line style=\"stroke: #383838; stroke-width: 1.5;\" x1=\"93.5\" x2=\"162.5\" y1=\"183.1575\" y2=\"183.1575\"/></a><a href=\"psysml:7d470368-8955-499f-8cd6-0162cc61b017\" target=\"_top\" title=\"psysml:7d470368-8955-499f-8cd6-0162cc61b017\" xlink:actuate=\"onRequest\" xlink:href=\"psysml:7d470368-8955-499f-8cd6-0162cc61b017\" xlink:show=\"new\" xlink:title=\"psysml:7d470368-8955-499f-8cd6-0162cc61b017\" xlink:type=\"simple\"><polygon fill=\"#FFFFFF\" points=\"314.5,141.72,435.5,141.72,442.5,164.0169,449.5,164.0169,449.5,194.3138,314.5,194.3138,314.5,141.72\" style=\"stroke: #000000; stroke-width: 1.5;\"/><line style=\"stroke: #000000; stroke-width: 1.5;\" x1=\"314.5\" x2=\"442.5\" y1=\"164.0169\" y2=\"164.0169\"/><text fill=\"#000000\" font-family=\"sans-serif\" font-size=\"14\" font-weight=\"bold\" lengthAdjust=\"spacingAndGlyphs\" textLength=\"115\" x=\"318.5\" y=\"156.7151\">Application Layer</text></a><a href=\"psysml:db30598f-7650-4b69-b852-4feea02efbf5\" target=\"_top\" title=\"psysml:db30598f-7650-4b69-b852-4feea02efbf5\" xlink:actuate=\"onRequest\" xlink:href=\"psysml:db30598f-7650-4b69-b852-4feea02efbf5\" xlink:show=\"new\" xlink:title=\"psysml:db30598f-7650-4b69-b852-4feea02efbf5\" xlink:type=\"simple\"><polygon fill=\"#FFFFFF\" points=\"327,227.72,423,227.72,430,250.0169,437,250.0169,437,280.3138,327,280.3138,327,227.72\" style=\"stroke: #000000; stroke-width: 1.5;\"/><line style=\"stroke: #000000; stroke-width: 1.5;\" x1=\"327\" x2=\"430\" y1=\"250.0169\" y2=\"250.0169\"/><text fill=\"#000000\" font-family=\"sans-serif\" font-size=\"14\" font-weight=\"bold\" lengthAdjust=\"spacingAndGlyphs\" textLength=\"90\" x=\"331\" y=\"242.7151\">Service Layer</text></a><a href=\"psysml:f08d8e27-e89d-40a2-8de2-c51098f76f95\" target=\"_top\" title=\"psysml:f08d8e27-e89d-40a2-8de2-c51098f76f95\" xlink:actuate=\"onRequest\" xlink:href=\"psysml:f08d8e27-e89d-40a2-8de2-c51098f76f95\" xlink:show=\"new\" xlink:title=\"psysml:f08d8e27-e89d-40a2-8de2-c51098f76f95\" xlink:type=\"simple\"><polygon fill=\"#FFFFFF\" points=\"336,313.72,414,313.72,421,336.0169,428,336.0169,428,366.3138,336,366.3138,336,313.72\" style=\"stroke: #000000; stroke-width: 1.5;\"/><line style=\"stroke: #000000; stroke-width: 1.5;\" x1=\"336\" x2=\"421\" y1=\"336.0169\" y2=\"336.0169\"/><text fill=\"#000000\" font-family=\"sans-serif\" font-size=\"14\" font-weight=\"bold\" lengthAdjust=\"spacingAndGlyphs\" textLength=\"72\" x=\"340\" y=\"328.7151\">Data Layer</text></a><!--MD5=[1f1cd8e6dd4c1b2ca2aaccc9b9bcea6e]\n",
       "link E1 to E2--><a href=\"psysml:2cdf9aea-584d-4dc5-87f2-78933b91772a\" target=\"_top\" title=\"psysml:2cdf9aea-584d-4dc5-87f2-78933b91772a\" xlink:actuate=\"onRequest\" xlink:href=\"psysml:2cdf9aea-584d-4dc5-87f2-78933b91772a\" xlink:show=\"new\" xlink:title=\"psysml:2cdf9aea-584d-4dc5-87f2-78933b91772a\" xlink:type=\"simple\"><path d=\"M279,33.82 C279,34.815 279,43.3994 279,55.7775 C279,61.9666 279,69.1041 279,76.7155 C279,80.5213 279,84.4455 279,88.429 C279,90.4207 279,92.4272 279,94.4411 C279,95.448 279,96.4568 279,97.4665 C279,97.719 279,97.9714 279,98.224 \" fill=\"none\" id=\"E1-&gt;E2\" style=\"stroke: #383838; stroke-width: 1.0; stroke-dasharray: 7.0,7.0;\"/><polygon fill=\"#383838\" points=\"279,98.224,283,89.224,279,93.224,275,89.224,279,98.224\" style=\"stroke: #383838; stroke-width: 1.0;\"/><text fill=\"#000000\" font-family=\"sans-serif\" font-size=\"13\" lengthAdjust=\"spacingAndGlyphs\" textLength=\"65\" x=\"280\" y=\"54.7869\">«import»*</text></a><!--MD5=[af87c684e3b0d8be13c1a698a818ef1e]\n",
       "link E3 to E4--><a href=\"psysml:ef543251-f685-45ef-999a-4058d8fef1e9\" target=\"_top\" title=\"psysml:ef543251-f685-45ef-999a-4058d8fef1e9\" xlink:actuate=\"onRequest\" xlink:href=\"psysml:ef543251-f685-45ef-999a-4058d8fef1e9\" xlink:show=\"new\" xlink:title=\"psysml:ef543251-f685-45ef-999a-4058d8fef1e9\" xlink:type=\"simple\"><path d=\"M382,194.88 C382,202.7 382,211.41 382,219.66 \" fill=\"none\" id=\"E3-&gt;E4\" style=\"stroke: #383838; stroke-width: 1.0; stroke-dasharray: 7.0,7.0;\"/><polygon fill=\"#383838\" points=\"382,227.72,385,219.72,379,219.72,382,227.72\" style=\"stroke: #383838; stroke-width: 1.0;\"/><text fill=\"#000000\" font-family=\"sans-serif\" font-size=\"13\" lengthAdjust=\"spacingAndGlyphs\" textLength=\"64\" x=\"383\" y=\"215.7869\">«depend»</text></a><!--MD5=[1b7591eae5389033d8d09a9d6721a717]\n",
       "link E4 to E5--><a href=\"psysml:f939ae72-3488-4da6-b797-5f4561198517\" target=\"_top\" title=\"psysml:f939ae72-3488-4da6-b797-5f4561198517\" xlink:actuate=\"onRequest\" xlink:href=\"psysml:f939ae72-3488-4da6-b797-5f4561198517\" xlink:show=\"new\" xlink:title=\"psysml:f939ae72-3488-4da6-b797-5f4561198517\" xlink:type=\"simple\"><path d=\"M382,280.88 C382,288.7 382,297.41 382,305.66 \" fill=\"none\" id=\"E4-&gt;E5\" style=\"stroke: #383838; stroke-width: 1.0; stroke-dasharray: 7.0,7.0;\"/><polygon fill=\"#383838\" points=\"382,313.72,385,305.72,379,305.72,382,313.72\" style=\"stroke: #383838; stroke-width: 1.0;\"/><text fill=\"#000000\" font-family=\"sans-serif\" font-size=\"13\" lengthAdjust=\"spacingAndGlyphs\" textLength=\"64\" x=\"383\" y=\"301.7869\">«depend»</text></a><!--MD5=[c5e8897d989ce984f93528998a7150fe]\n",
       "link E8 to E6--><a href=\"psysml:2a73c336-1214-4cbc-85e1-1f3a30fc1732\" target=\"_top\" title=\"psysml:2a73c336-1214-4cbc-85e1-1f3a30fc1732\" xlink:actuate=\"onRequest\" xlink:href=\"psysml:2a73c336-1214-4cbc-85e1-1f3a30fc1732\" xlink:show=\"new\" xlink:title=\"psysml:2a73c336-1214-4cbc-85e1-1f3a30fc1732\" xlink:type=\"simple\"><path d=\"M92.49,183.06 C84.34,187.99 76.69,194.44 72,202.72 C68.54,208.82 67.62,216.03 68,223.05 \" fill=\"none\" id=\"E8-&gt;E6\" style=\"stroke: #383838; stroke-width: 1.0; stroke-dasharray: 7.0,7.0;\"/><polygon fill=\"#383838\" points=\"68.97,231.14,71.0061,222.8421,65.0479,223.5494,68.97,231.14\" style=\"stroke: #383838; stroke-width: 1.0;\"/><text fill=\"#000000\" font-family=\"sans-serif\" font-size=\"13\" lengthAdjust=\"spacingAndGlyphs\" textLength=\"64\" x=\"73\" y=\"215.7869\">«depend»</text></a><!--MD5=[bfa3c8b0d15052fdf50ae9310b491027]\n",
       "link E8 to E7--><a href=\"psysml:2a73c336-1214-4cbc-85e1-1f3a30fc1732\" target=\"_top\" title=\"psysml:2a73c336-1214-4cbc-85e1-1f3a30fc1732\" xlink:actuate=\"onRequest\" xlink:href=\"psysml:2a73c336-1214-4cbc-85e1-1f3a30fc1732\" xlink:show=\"new\" xlink:title=\"psysml:2a73c336-1214-4cbc-85e1-1f3a30fc1732\" xlink:type=\"simple\"><path d=\"M142.19,191.29 C148.65,201.34 156.38,213.37 163.31,224.14 \" fill=\"none\" id=\"E8-&gt;E7\" style=\"stroke: #383838; stroke-width: 1.0; stroke-dasharray: 7.0,7.0;\"/><polygon fill=\"#383838\" points=\"167.72,231.01,165.9148,222.6589,160.8688,225.905,167.72,231.01\" style=\"stroke: #383838; stroke-width: 1.0;\"/><text fill=\"#000000\" font-family=\"sans-serif\" font-size=\"13\" lengthAdjust=\"spacingAndGlyphs\" textLength=\"64\" x=\"160\" y=\"215.7869\">«depend»</text></a><!--MD5=[53170cc8babcd9f8107de6d7cb54c125]\n",
       "@startuml\r\n",
       "skinparam ranksep 10\r\n",
       "skinparam rectangle {\r\n",
       " backgroundColor<<block>> LightGreen\r\n",
       "}\r\n",
       " skinparam monochrome true\r\n",
       "skinparam classbackgroundcolor white\r\n",
       "skinparam shadowing false\r\n",
       "skinparam wrapWidth 300\r\n",
       "hide circle\r\n",
       "\r\n",
       "package \"DependencyTest\" as E1  [[psysml:30c793ee-6e7c-4739-835e-bebdfc5bf1ce ]]  {\r\n",
       "package \"System\" as E2  [[psysml:db7b2f1b-03d7-4942-9142-e18d7a555d76 ]]  {\r\n",
       "package \"Application Layer\" as E3  [[psysml:7d470368-8955-499f-8cd6-0162cc61b017 ]]  {\r\n",
       "}\r\n",
       "package \"Service Layer\" as E4  [[psysml:db30598f-7650-4b69-b852-4feea02efbf5 ]]  {\r\n",
       "}\r\n",
       "package \"Data Layer\" as E5  [[psysml:f08d8e27-e89d-40a2-8de2-c51098f76f95 ]]  {\r\n",
       "}\r\n",
       "}\r\n",
       "comp usage \"x \" as E6  <<(T,blue) attribute>> [[psysml:d66666e9-9ac5-42c6-8412-5d0a1bea61ed ]] {\r\n",
       "}\r\n",
       "comp usage \"y \" as E7  <<(T,blue) attribute>> [[psysml:4c5b6854-1a08-45b4-8136-d30683a500ef ]] {\r\n",
       "}\r\n",
       "comp usage \"z \" as E8  <<(T,blue) attribute>> [[psysml:e4676a73-900e-4cfc-90aa-035aeedcaeac ]] {\r\n",
       "}\r\n",
       "}\r\n",
       "E1 ..> E2 [[psysml:2cdf9aea-584d-4dc5-87f2-78933b91772a ]] : <<import>>*\r\n",
       "E3 ..>> E4 [[psysml:ef543251-f685-45ef-999a-4058d8fef1e9 ]] : <<depend>>\r\n",
       "E4 ..>> E5 [[psysml:f939ae72-3488-4da6-b797-5f4561198517 ]] : <<depend>>\r\n",
       "E8 ..>> E6 [[psysml:2a73c336-1214-4cbc-85e1-1f3a30fc1732 ]] : <<depend>>\r\n",
       "E8 ..>> E7 [[psysml:2a73c336-1214-4cbc-85e1-1f3a30fc1732 ]] : <<depend>>\r\n",
       "@enduml\r\n",
       "\n",
       "PlantUML version 1.2020.13(Sat Jun 13 12:26:38 UTC 2020)\n",
       "(EPL source distribution)\n",
       "Java Runtime: OpenJDK Runtime Environment\n",
       "JVM: OpenJDK 64-Bit Server VM\n",
       "Default Encoding: UTF-8\n",
       "Language: en\n",
       "Country: null\n",
       "--></g></svg>"
      ]
     },
     "execution_count": 5,
     "metadata": {},
     "output_type": "execute_result"
    }
   ],
   "source": [
    "%viz --style=\"COMPTREE\" --view=\"Interconnection\" \"DependencyTest\""
   ]
  },
  {
   "cell_type": "code",
   "execution_count": 6,
   "id": "4c7747fb",
   "metadata": {
    "execution": {
     "iopub.execute_input": "2022-02-18T10:46:49.612603Z",
     "iopub.status.busy": "2022-02-18T10:46:49.612187Z",
     "iopub.status.idle": "2022-02-18T10:46:49.619091Z",
     "shell.execute_reply": "2022-02-18T10:46:49.619409Z"
    }
   },
   "outputs": [
    {
     "data": {
      "image/svg+xml": [
       "<?xml version=\"1.0\" encoding=\"UTF-8\" standalone=\"no\"?><svg xmlns=\"http://www.w3.org/2000/svg\" xmlns:xlink=\"http://www.w3.org/1999/xlink\" contentScriptType=\"application/ecmascript\" contentStyleType=\"text/css\" height=\"12px\" preserveAspectRatio=\"none\" style=\"width:12px;height:12px;\" version=\"1.1\" viewBox=\"0 0 12 12\" width=\"12px\" zoomAndPan=\"magnify\"><defs/><g><!--MD5=[655b888544ca4751ea36af1068543f84]\n",
       "@startuml\r\n",
       "skinparam ranksep 8\r\n",
       " skinparam monochrome true\r\n",
       "skinparam classbackgroundcolor white\r\n",
       "skinparam shadowing false\r\n",
       "skinparam wrapWidth 300\r\n",
       "hide circle\r\n",
       "\r\n",
       "@enduml\r\n",
       "\n",
       "PlantUML version 1.2020.13(Sat Jun 13 12:26:38 UTC 2020)\n",
       "(EPL source distribution)\n",
       "Java Runtime: OpenJDK Runtime Environment\n",
       "JVM: OpenJDK 64-Bit Server VM\n",
       "Default Encoding: UTF-8\n",
       "Language: en\n",
       "Country: null\n",
       "--></g></svg>"
      ]
     },
     "execution_count": 6,
     "metadata": {},
     "output_type": "execute_result"
    }
   ],
   "source": [
    "%viz --style=\"COMPTREE\" --view=\"Action\" \"DependencyTest\""
   ]
  },
  {
   "cell_type": "code",
   "execution_count": 7,
   "id": "599ae4d8",
   "metadata": {
    "execution": {
     "iopub.execute_input": "2022-02-18T10:46:49.669831Z",
     "iopub.status.busy": "2022-02-18T10:46:49.669430Z",
     "iopub.status.idle": "2022-02-18T10:46:49.681680Z",
     "shell.execute_reply": "2022-02-18T10:46:49.682145Z"
    }
   },
   "outputs": [
    {
     "data": {
      "image/svg+xml": [
       "<?xml version=\"1.0\" encoding=\"UTF-8\" standalone=\"no\"?><svg xmlns=\"http://www.w3.org/2000/svg\" xmlns:xlink=\"http://www.w3.org/1999/xlink\" contentScriptType=\"application/ecmascript\" contentStyleType=\"text/css\" height=\"12px\" preserveAspectRatio=\"none\" style=\"width:12px;height:12px;\" version=\"1.1\" viewBox=\"0 0 12 12\" width=\"12px\" zoomAndPan=\"magnify\"><defs/><g><!--MD5=[803fc46c337be7a5c8a9831e35356779]\n",
       "@startuml\r\n",
       "skinparam roundcorner 20\r\n",
       "skinparam BoxPadding 20\r\n",
       "skinparam SequenceBoxBackgroundColor #white\r\n",
       "skinparam style strictuml\r\n",
       "skinparam maxMessageSize 100\r\n",
       " skinparam monochrome true\r\n",
       "skinparam classbackgroundcolor white\r\n",
       "skinparam shadowing false\r\n",
       "skinparam wrapWidth 300\r\n",
       "hide circle\r\n",
       "\r\n",
       "@enduml\r\n",
       "\n",
       "PlantUML version 1.2020.13(Sat Jun 13 12:26:38 UTC 2020)\n",
       "(EPL source distribution)\n",
       "Java Runtime: OpenJDK Runtime Environment\n",
       "JVM: OpenJDK 64-Bit Server VM\n",
       "Default Encoding: UTF-8\n",
       "Language: en\n",
       "Country: null\n",
       "--></g></svg>"
      ]
     },
     "execution_count": 7,
     "metadata": {},
     "output_type": "execute_result"
    }
   ],
   "source": [
    "%viz --style=\"COMPTREE\" --view=\"Sequence\" \"DependencyTest\""
   ]
  },
  {
   "cell_type": "code",
   "execution_count": 8,
   "id": "852d701d",
   "metadata": {
    "execution": {
     "iopub.execute_input": "2022-02-18T10:46:49.732529Z",
     "iopub.status.busy": "2022-02-18T10:46:49.731928Z",
     "iopub.status.idle": "2022-02-18T10:46:49.797400Z",
     "shell.execute_reply": "2022-02-18T10:46:49.797121Z"
    }
   },
   "outputs": [
    {
     "data": {
      "image/svg+xml": [
       "<?xml version=\"1.0\" encoding=\"UTF-8\" standalone=\"no\"?><svg xmlns=\"http://www.w3.org/2000/svg\" xmlns:xlink=\"http://www.w3.org/1999/xlink\" contentScriptType=\"application/ecmascript\" contentStyleType=\"text/css\" height=\"552px\" preserveAspectRatio=\"none\" style=\"width:536px;height:552px;\" version=\"1.1\" viewBox=\"0 0 536 552\" width=\"536px\" zoomAndPan=\"magnify\"><defs/><g><!--MD5=[fbc87193dbaf4d95561dea2c320d4a47]\n",
       "cluster E1--><a href=\"psysml:30c793ee-6e7c-4739-835e-bebdfc5bf1ce\" target=\"_top\" title=\"psysml:30c793ee-6e7c-4739-835e-bebdfc5bf1ce\" xlink:actuate=\"onRequest\" xlink:href=\"psysml:30c793ee-6e7c-4739-835e-bebdfc5bf1ce\" xlink:show=\"new\" xlink:title=\"psysml:30c793ee-6e7c-4739-835e-bebdfc5bf1ce\" xlink:type=\"simple\"><polygon fill=\"#FFFFFF\" points=\"16,6,142,6,149,28.2969,514,28.2969,514,540.72,16,540.72,16,6\" style=\"stroke: #000000; stroke-width: 1.5;\"/><line style=\"stroke: #000000; stroke-width: 1.5;\" x1=\"16\" x2=\"149\" y1=\"28.2969\" y2=\"28.2969\"/><text fill=\"#000000\" font-family=\"sans-serif\" font-size=\"14\" font-weight=\"bold\" lengthAdjust=\"spacingAndGlyphs\" textLength=\"120\" x=\"20\" y=\"20.9951\">DependencyTest</text></a><!--MD5=[e4f7fae6ed58524ba242bb0b0d3be6b7]\n",
       "cluster E2--><a href=\"psysml:db7b2f1b-03d7-4942-9142-e18d7a555d76\" target=\"_top\" title=\"psysml:db7b2f1b-03d7-4942-9142-e18d7a555d76\" xlink:actuate=\"onRequest\" xlink:href=\"psysml:db7b2f1b-03d7-4942-9142-e18d7a555d76\" xlink:show=\"new\" xlink:title=\"psysml:db7b2f1b-03d7-4942-9142-e18d7a555d76\" xlink:type=\"simple\"><polygon fill=\"#FFFFFF\" points=\"271,120.72,328,120.72,335,143.0169,474,143.0169,474,500.72,271,500.72,271,120.72\" style=\"stroke: #000000; stroke-width: 1.5;\"/><line style=\"stroke: #000000; stroke-width: 1.5;\" x1=\"271\" x2=\"335\" y1=\"143.0169\" y2=\"143.0169\"/><text fill=\"#000000\" font-family=\"sans-serif\" font-size=\"14\" font-weight=\"bold\" lengthAdjust=\"spacingAndGlyphs\" textLength=\"51\" x=\"275\" y=\"135.7151\">System</text></a><!--MD5=[60a26617385b1d2d0262a64233df1f8d]\n",
       "class E6--><a href=\"psysml:d66666e9-9ac5-42c6-8412-5d0a1bea61ed\" target=\"_top\" title=\"psysml:d66666e9-9ac5-42c6-8412-5d0a1bea61ed\" xlink:actuate=\"onRequest\" xlink:href=\"psysml:d66666e9-9ac5-42c6-8412-5d0a1bea61ed\" xlink:show=\"new\" xlink:title=\"psysml:d66666e9-9ac5-42c6-8412-5d0a1bea61ed\" xlink:type=\"simple\"><rect fill=\"#FFFFFF\" height=\"45.9375\" id=\"E6\" rx=\"10\" ry=\"10\" style=\"stroke: #383838; stroke-width: 1.5;\" width=\"71\" x=\"40.5\" y=\"297.22\"/><text fill=\"#000000\" font-family=\"sans-serif\" font-size=\"12\" font-style=\"italic\" lengthAdjust=\"spacingAndGlyphs\" textLength=\"69\" x=\"41.5\" y=\"313.3587\">«attribute»</text><text fill=\"#000000\" font-family=\"sans-serif\" font-size=\"12\" lengthAdjust=\"spacingAndGlyphs\" textLength=\"6\" x=\"71\" y=\"327.3274\">x</text><line style=\"stroke: #383838; stroke-width: 1.5;\" x1=\"41.5\" x2=\"110.5\" y1=\"335.1575\" y2=\"335.1575\"/></a><!--MD5=[2156ba9850f5573cc1fc38a6a4b2f02b]\n",
       "class E7--><a href=\"psysml:4c5b6854-1a08-45b4-8136-d30683a500ef\" target=\"_top\" title=\"psysml:4c5b6854-1a08-45b4-8136-d30683a500ef\" xlink:actuate=\"onRequest\" xlink:href=\"psysml:4c5b6854-1a08-45b4-8136-d30683a500ef\" xlink:show=\"new\" xlink:title=\"psysml:4c5b6854-1a08-45b4-8136-d30683a500ef\" xlink:type=\"simple\"><rect fill=\"#FFFFFF\" height=\"45.9375\" id=\"E7\" rx=\"10\" ry=\"10\" style=\"stroke: #383838; stroke-width: 1.5;\" width=\"71\" x=\"146.5\" y=\"297.22\"/><text fill=\"#000000\" font-family=\"sans-serif\" font-size=\"12\" font-style=\"italic\" lengthAdjust=\"spacingAndGlyphs\" textLength=\"69\" x=\"147.5\" y=\"313.3587\">«attribute»</text><text fill=\"#000000\" font-family=\"sans-serif\" font-size=\"12\" lengthAdjust=\"spacingAndGlyphs\" textLength=\"6\" x=\"177\" y=\"327.3274\">y</text><line style=\"stroke: #383838; stroke-width: 1.5;\" x1=\"147.5\" x2=\"216.5\" y1=\"335.1575\" y2=\"335.1575\"/></a><!--MD5=[b9389687b975829384b498ac4b7476b2]\n",
       "class E8--><a href=\"psysml:e4676a73-900e-4cfc-90aa-035aeedcaeac\" target=\"_top\" title=\"psysml:e4676a73-900e-4cfc-90aa-035aeedcaeac\" xlink:actuate=\"onRequest\" xlink:href=\"psysml:e4676a73-900e-4cfc-90aa-035aeedcaeac\" xlink:show=\"new\" xlink:title=\"psysml:e4676a73-900e-4cfc-90aa-035aeedcaeac\" xlink:type=\"simple\"><rect fill=\"#FFFFFF\" height=\"45.9375\" id=\"E8\" rx=\"10\" ry=\"10\" style=\"stroke: #383838; stroke-width: 1.5;\" width=\"71\" x=\"92.5\" y=\"167.22\"/><text fill=\"#000000\" font-family=\"sans-serif\" font-size=\"12\" font-style=\"italic\" lengthAdjust=\"spacingAndGlyphs\" textLength=\"69\" x=\"93.5\" y=\"183.3587\">«attribute»</text><text fill=\"#000000\" font-family=\"sans-serif\" font-size=\"12\" lengthAdjust=\"spacingAndGlyphs\" textLength=\"5\" x=\"123.5\" y=\"197.3274\">z</text><line style=\"stroke: #383838; stroke-width: 1.5;\" x1=\"93.5\" x2=\"162.5\" y1=\"205.1575\" y2=\"205.1575\"/></a><a href=\"psysml:7d470368-8955-499f-8cd6-0162cc61b017\" target=\"_top\" title=\"psysml:7d470368-8955-499f-8cd6-0162cc61b017\" xlink:actuate=\"onRequest\" xlink:href=\"psysml:7d470368-8955-499f-8cd6-0162cc61b017\" xlink:show=\"new\" xlink:title=\"psysml:7d470368-8955-499f-8cd6-0162cc61b017\" xlink:type=\"simple\"><polygon fill=\"#FFFFFF\" points=\"314.5,163.72,435.5,163.72,442.5,186.0169,449.5,186.0169,449.5,216.3138,314.5,216.3138,314.5,163.72\" style=\"stroke: #000000; stroke-width: 1.5;\"/><line style=\"stroke: #000000; stroke-width: 1.5;\" x1=\"314.5\" x2=\"442.5\" y1=\"186.0169\" y2=\"186.0169\"/><text fill=\"#000000\" font-family=\"sans-serif\" font-size=\"14\" font-weight=\"bold\" lengthAdjust=\"spacingAndGlyphs\" textLength=\"115\" x=\"318.5\" y=\"178.7151\">Application Layer</text></a><a href=\"psysml:db30598f-7650-4b69-b852-4feea02efbf5\" target=\"_top\" title=\"psysml:db30598f-7650-4b69-b852-4feea02efbf5\" xlink:actuate=\"onRequest\" xlink:href=\"psysml:db30598f-7650-4b69-b852-4feea02efbf5\" xlink:show=\"new\" xlink:title=\"psysml:db30598f-7650-4b69-b852-4feea02efbf5\" xlink:type=\"simple\"><polygon fill=\"#FFFFFF\" points=\"327,293.72,423,293.72,430,316.0169,437,316.0169,437,346.3138,327,346.3138,327,293.72\" style=\"stroke: #000000; stroke-width: 1.5;\"/><line style=\"stroke: #000000; stroke-width: 1.5;\" x1=\"327\" x2=\"430\" y1=\"316.0169\" y2=\"316.0169\"/><text fill=\"#000000\" font-family=\"sans-serif\" font-size=\"14\" font-weight=\"bold\" lengthAdjust=\"spacingAndGlyphs\" textLength=\"90\" x=\"331\" y=\"308.7151\">Service Layer</text></a><a href=\"psysml:f08d8e27-e89d-40a2-8de2-c51098f76f95\" target=\"_top\" title=\"psysml:f08d8e27-e89d-40a2-8de2-c51098f76f95\" xlink:actuate=\"onRequest\" xlink:href=\"psysml:f08d8e27-e89d-40a2-8de2-c51098f76f95\" xlink:show=\"new\" xlink:title=\"psysml:f08d8e27-e89d-40a2-8de2-c51098f76f95\" xlink:type=\"simple\"><polygon fill=\"#FFFFFF\" points=\"336,423.72,414,423.72,421,446.0169,428,446.0169,428,476.3138,336,476.3138,336,423.72\" style=\"stroke: #000000; stroke-width: 1.5;\"/><line style=\"stroke: #000000; stroke-width: 1.5;\" x1=\"336\" x2=\"421\" y1=\"446.0169\" y2=\"446.0169\"/><text fill=\"#000000\" font-family=\"sans-serif\" font-size=\"14\" font-weight=\"bold\" lengthAdjust=\"spacingAndGlyphs\" textLength=\"72\" x=\"340\" y=\"438.7151\">Data Layer</text></a><!--MD5=[1f1cd8e6dd4c1b2ca2aaccc9b9bcea6e]\n",
       "link E1 to E2--><a href=\"psysml:2cdf9aea-584d-4dc5-87f2-78933b91772a\" target=\"_top\" title=\"psysml:2cdf9aea-584d-4dc5-87f2-78933b91772a\" xlink:actuate=\"onRequest\" xlink:href=\"psysml:2cdf9aea-584d-4dc5-87f2-78933b91772a\" xlink:show=\"new\" xlink:title=\"psysml:2cdf9aea-584d-4dc5-87f2-78933b91772a\" xlink:type=\"simple\"><path d=\"M279,33.83 C279,36.15 279,73.83 279,111.5 C279,113.8544 279,116.2087 279,118.5544 C279,119.1408 279,119.7267 279,120.3119 \" fill=\"none\" id=\"E1-&gt;E2\" style=\"stroke: #383838; stroke-width: 1.0; stroke-dasharray: 7.0,7.0;\"/><polygon fill=\"#383838\" points=\"279,120.3119,283,111.3119,279,115.3119,275,111.3119,279,120.3119\" style=\"stroke: #383838; stroke-width: 1.0;\"/><text fill=\"#000000\" font-family=\"sans-serif\" font-size=\"13\" lengthAdjust=\"spacingAndGlyphs\" textLength=\"65\" x=\"280\" y=\"76.7869\">«import»*</text></a><!--MD5=[af87c684e3b0d8be13c1a698a818ef1e]\n",
       "link E3 to E4--><a href=\"psysml:ef543251-f685-45ef-999a-4058d8fef1e9\" target=\"_top\" title=\"psysml:ef543251-f685-45ef-999a-4058d8fef1e9\" xlink:actuate=\"onRequest\" xlink:href=\"psysml:ef543251-f685-45ef-999a-4058d8fef1e9\" xlink:show=\"new\" xlink:title=\"psysml:ef543251-f685-45ef-999a-4058d8fef1e9\" xlink:type=\"simple\"><path d=\"M382,216.82 C382,236.52 382,263.94 382,285.45 \" fill=\"none\" id=\"E3-&gt;E4\" style=\"stroke: #383838; stroke-width: 1.0; stroke-dasharray: 7.0,7.0;\"/><polygon fill=\"#383838\" points=\"382,293.67,385,285.67,379,285.67,382,293.67\" style=\"stroke: #383838; stroke-width: 1.0;\"/><text fill=\"#000000\" font-family=\"sans-serif\" font-size=\"13\" lengthAdjust=\"spacingAndGlyphs\" textLength=\"64\" x=\"383\" y=\"259.7869\">«depend»</text></a><!--MD5=[1b7591eae5389033d8d09a9d6721a717]\n",
       "link E4 to E5--><a href=\"psysml:f939ae72-3488-4da6-b797-5f4561198517\" target=\"_top\" title=\"psysml:f939ae72-3488-4da6-b797-5f4561198517\" xlink:actuate=\"onRequest\" xlink:href=\"psysml:f939ae72-3488-4da6-b797-5f4561198517\" xlink:show=\"new\" xlink:title=\"psysml:f939ae72-3488-4da6-b797-5f4561198517\" xlink:type=\"simple\"><path d=\"M382,346.82 C382,366.52 382,393.94 382,415.45 \" fill=\"none\" id=\"E4-&gt;E5\" style=\"stroke: #383838; stroke-width: 1.0; stroke-dasharray: 7.0,7.0;\"/><polygon fill=\"#383838\" points=\"382,423.67,385,415.67,379,415.67,382,423.67\" style=\"stroke: #383838; stroke-width: 1.0;\"/><text fill=\"#000000\" font-family=\"sans-serif\" font-size=\"13\" lengthAdjust=\"spacingAndGlyphs\" textLength=\"64\" x=\"383\" y=\"389.7869\">«depend»</text></a><!--MD5=[c5e8897d989ce984f93528998a7150fe]\n",
       "link E8 to E6--><a href=\"psysml:2a73c336-1214-4cbc-85e1-1f3a30fc1732\" target=\"_top\" title=\"psysml:2a73c336-1214-4cbc-85e1-1f3a30fc1732\" xlink:actuate=\"onRequest\" xlink:href=\"psysml:2a73c336-1214-4cbc-85e1-1f3a30fc1732\" xlink:show=\"new\" xlink:title=\"psysml:2a73c336-1214-4cbc-85e1-1f3a30fc1732\" xlink:type=\"simple\"><path d=\"M97.42,213.32 C87.35,222.4 77.37,233.83 72,246.72 C66.5,259.92 66.66,275.66 68.54,289.1 \" fill=\"none\" id=\"E8-&gt;E6\" style=\"stroke: #383838; stroke-width: 1.0; stroke-dasharray: 7.0,7.0;\"/><polygon fill=\"#383838\" points=\"69.9,297.12,71.517,288.7304,65.6018,289.7359,69.9,297.12\" style=\"stroke: #383838; stroke-width: 1.0;\"/><text fill=\"#000000\" font-family=\"sans-serif\" font-size=\"13\" lengthAdjust=\"spacingAndGlyphs\" textLength=\"64\" x=\"73\" y=\"259.7869\">«depend»</text></a><!--MD5=[bfa3c8b0d15052fdf50ae9310b491027]\n",
       "link E8 to E7--><a href=\"psysml:2a73c336-1214-4cbc-85e1-1f3a30fc1732\" target=\"_top\" title=\"psysml:2a73c336-1214-4cbc-85e1-1f3a30fc1732\" xlink:actuate=\"onRequest\" xlink:href=\"psysml:2a73c336-1214-4cbc-85e1-1f3a30fc1732\" xlink:show=\"new\" xlink:title=\"psysml:2a73c336-1214-4cbc-85e1-1f3a30fc1732\" xlink:type=\"simple\"><path d=\"M137.28,213.22 C146.17,234.29 159.64,266.22 169.47,289.53 \" fill=\"none\" id=\"E8-&gt;E7\" style=\"stroke: #383838; stroke-width: 1.0; stroke-dasharray: 7.0,7.0;\"/><polygon fill=\"#383838\" points=\"172.66,297.07,172.3241,288.5326,166.7933,290.8585,172.66,297.07\" style=\"stroke: #383838; stroke-width: 1.0;\"/><text fill=\"#000000\" font-family=\"sans-serif\" font-size=\"13\" lengthAdjust=\"spacingAndGlyphs\" textLength=\"64\" x=\"159\" y=\"259.7869\">«depend»</text></a><!--MD5=[74f5b6e51ea4e39db8986ad3fe608ca4]\n",
       "@startuml\r\n",
       " skinparam monochrome true\r\n",
       "skinparam classbackgroundcolor white\r\n",
       "skinparam shadowing false\r\n",
       "skinparam wrapWidth 300\r\n",
       "hide circle\r\n",
       "\r\n",
       "package \"DependencyTest\" as E1  [[psysml:30c793ee-6e7c-4739-835e-bebdfc5bf1ce ]]  {\r\n",
       "package \"System\" as E2  [[psysml:db7b2f1b-03d7-4942-9142-e18d7a555d76 ]]  {\r\n",
       "package \"Application Layer\" as E3  [[psysml:7d470368-8955-499f-8cd6-0162cc61b017 ]]  {\r\n",
       "}\r\n",
       "package \"Service Layer\" as E4  [[psysml:db30598f-7650-4b69-b852-4feea02efbf5 ]]  {\r\n",
       "}\r\n",
       "package \"Data Layer\" as E5  [[psysml:f08d8e27-e89d-40a2-8de2-c51098f76f95 ]]  {\r\n",
       "}\r\n",
       "}\r\n",
       "comp usage \"x \" as E6  <<(T,blue) attribute>> [[psysml:d66666e9-9ac5-42c6-8412-5d0a1bea61ed ]] {\r\n",
       "}\r\n",
       "comp usage \"y \" as E7  <<(T,blue) attribute>> [[psysml:4c5b6854-1a08-45b4-8136-d30683a500ef ]] {\r\n",
       "}\r\n",
       "comp usage \"z \" as E8  <<(T,blue) attribute>> [[psysml:e4676a73-900e-4cfc-90aa-035aeedcaeac ]] {\r\n",
       "}\r\n",
       "}\r\n",
       "E1 ..> E2 [[psysml:2cdf9aea-584d-4dc5-87f2-78933b91772a ]] : <<import>>*\r\n",
       "E3 ..>> E4 [[psysml:ef543251-f685-45ef-999a-4058d8fef1e9 ]] : <<depend>>\r\n",
       "E4 ..>> E5 [[psysml:f939ae72-3488-4da6-b797-5f4561198517 ]] : <<depend>>\r\n",
       "E8 ..>> E6 [[psysml:2a73c336-1214-4cbc-85e1-1f3a30fc1732 ]] : <<depend>>\r\n",
       "E8 ..>> E7 [[psysml:2a73c336-1214-4cbc-85e1-1f3a30fc1732 ]] : <<depend>>\r\n",
       "@enduml\r\n",
       "\n",
       "PlantUML version 1.2020.13(Sat Jun 13 12:26:38 UTC 2020)\n",
       "(EPL source distribution)\n",
       "Java Runtime: OpenJDK Runtime Environment\n",
       "JVM: OpenJDK 64-Bit Server VM\n",
       "Default Encoding: UTF-8\n",
       "Language: en\n",
       "Country: null\n",
       "--></g></svg>"
      ]
     },
     "execution_count": 8,
     "metadata": {},
     "output_type": "execute_result"
    }
   ],
   "source": [
    "%viz --style=\"COMPTREE\" --view=\"MIXED\" \"DependencyTest\""
   ]
  },
  {
   "cell_type": "code",
   "execution_count": 9,
   "id": "5e098be4",
   "metadata": {
    "execution": {
     "iopub.execute_input": "2022-02-18T10:46:49.847508Z",
     "iopub.status.busy": "2022-02-18T10:46:49.847264Z",
     "iopub.status.idle": "2022-02-18T10:46:49.897463Z",
     "shell.execute_reply": "2022-02-18T10:46:49.897068Z"
    }
   },
   "outputs": [
    {
     "data": {
      "image/svg+xml": [
       "<?xml version=\"1.0\" encoding=\"UTF-8\" standalone=\"no\"?><svg xmlns=\"http://www.w3.org/2000/svg\" xmlns:xlink=\"http://www.w3.org/1999/xlink\" contentScriptType=\"application/ecmascript\" contentStyleType=\"text/css\" height=\"552px\" preserveAspectRatio=\"none\" style=\"width:536px;height:552px;\" version=\"1.1\" viewBox=\"0 0 536 552\" width=\"536px\" zoomAndPan=\"magnify\"><defs/><g><!--MD5=[fbc87193dbaf4d95561dea2c320d4a47]\n",
       "cluster E1--><a href=\"psysml:30c793ee-6e7c-4739-835e-bebdfc5bf1ce\" target=\"_top\" title=\"psysml:30c793ee-6e7c-4739-835e-bebdfc5bf1ce\" xlink:actuate=\"onRequest\" xlink:href=\"psysml:30c793ee-6e7c-4739-835e-bebdfc5bf1ce\" xlink:show=\"new\" xlink:title=\"psysml:30c793ee-6e7c-4739-835e-bebdfc5bf1ce\" xlink:type=\"simple\"><polygon fill=\"#FFFFFF\" points=\"16,6,142,6,149,28.2969,514,28.2969,514,540.72,16,540.72,16,6\" style=\"stroke: #000000; stroke-width: 1.5;\"/><line style=\"stroke: #000000; stroke-width: 1.5;\" x1=\"16\" x2=\"149\" y1=\"28.2969\" y2=\"28.2969\"/><text fill=\"#000000\" font-family=\"sans-serif\" font-size=\"14\" font-weight=\"bold\" lengthAdjust=\"spacingAndGlyphs\" textLength=\"120\" x=\"20\" y=\"20.9951\">DependencyTest</text></a><!--MD5=[e4f7fae6ed58524ba242bb0b0d3be6b7]\n",
       "cluster E2--><a href=\"psysml:db7b2f1b-03d7-4942-9142-e18d7a555d76\" target=\"_top\" title=\"psysml:db7b2f1b-03d7-4942-9142-e18d7a555d76\" xlink:actuate=\"onRequest\" xlink:href=\"psysml:db7b2f1b-03d7-4942-9142-e18d7a555d76\" xlink:show=\"new\" xlink:title=\"psysml:db7b2f1b-03d7-4942-9142-e18d7a555d76\" xlink:type=\"simple\"><polygon fill=\"#FFFFFF\" points=\"271,120.72,328,120.72,335,143.0169,474,143.0169,474,500.72,271,500.72,271,120.72\" style=\"stroke: #000000; stroke-width: 1.5;\"/><line style=\"stroke: #000000; stroke-width: 1.5;\" x1=\"271\" x2=\"335\" y1=\"143.0169\" y2=\"143.0169\"/><text fill=\"#000000\" font-family=\"sans-serif\" font-size=\"14\" font-weight=\"bold\" lengthAdjust=\"spacingAndGlyphs\" textLength=\"51\" x=\"275\" y=\"135.7151\">System</text></a><!--MD5=[60a26617385b1d2d0262a64233df1f8d]\n",
       "class E6--><a href=\"psysml:d66666e9-9ac5-42c6-8412-5d0a1bea61ed\" target=\"_top\" title=\"psysml:d66666e9-9ac5-42c6-8412-5d0a1bea61ed\" xlink:actuate=\"onRequest\" xlink:href=\"psysml:d66666e9-9ac5-42c6-8412-5d0a1bea61ed\" xlink:show=\"new\" xlink:title=\"psysml:d66666e9-9ac5-42c6-8412-5d0a1bea61ed\" xlink:type=\"simple\"><rect fill=\"#FFFFFF\" height=\"45.9375\" id=\"E6\" rx=\"10\" ry=\"10\" style=\"stroke: #383838; stroke-width: 1.5;\" width=\"71\" x=\"40.5\" y=\"297.22\"/><text fill=\"#000000\" font-family=\"sans-serif\" font-size=\"12\" font-style=\"italic\" lengthAdjust=\"spacingAndGlyphs\" textLength=\"69\" x=\"41.5\" y=\"313.3587\">«attribute»</text><text fill=\"#000000\" font-family=\"sans-serif\" font-size=\"12\" lengthAdjust=\"spacingAndGlyphs\" textLength=\"6\" x=\"71\" y=\"327.3274\">x</text><line style=\"stroke: #383838; stroke-width: 1.5;\" x1=\"41.5\" x2=\"110.5\" y1=\"335.1575\" y2=\"335.1575\"/></a><!--MD5=[2156ba9850f5573cc1fc38a6a4b2f02b]\n",
       "class E7--><a href=\"psysml:4c5b6854-1a08-45b4-8136-d30683a500ef\" target=\"_top\" title=\"psysml:4c5b6854-1a08-45b4-8136-d30683a500ef\" xlink:actuate=\"onRequest\" xlink:href=\"psysml:4c5b6854-1a08-45b4-8136-d30683a500ef\" xlink:show=\"new\" xlink:title=\"psysml:4c5b6854-1a08-45b4-8136-d30683a500ef\" xlink:type=\"simple\"><rect fill=\"#FFFFFF\" height=\"45.9375\" id=\"E7\" rx=\"10\" ry=\"10\" style=\"stroke: #383838; stroke-width: 1.5;\" width=\"71\" x=\"146.5\" y=\"297.22\"/><text fill=\"#000000\" font-family=\"sans-serif\" font-size=\"12\" font-style=\"italic\" lengthAdjust=\"spacingAndGlyphs\" textLength=\"69\" x=\"147.5\" y=\"313.3587\">«attribute»</text><text fill=\"#000000\" font-family=\"sans-serif\" font-size=\"12\" lengthAdjust=\"spacingAndGlyphs\" textLength=\"6\" x=\"177\" y=\"327.3274\">y</text><line style=\"stroke: #383838; stroke-width: 1.5;\" x1=\"147.5\" x2=\"216.5\" y1=\"335.1575\" y2=\"335.1575\"/></a><!--MD5=[b9389687b975829384b498ac4b7476b2]\n",
       "class E8--><a href=\"psysml:e4676a73-900e-4cfc-90aa-035aeedcaeac\" target=\"_top\" title=\"psysml:e4676a73-900e-4cfc-90aa-035aeedcaeac\" xlink:actuate=\"onRequest\" xlink:href=\"psysml:e4676a73-900e-4cfc-90aa-035aeedcaeac\" xlink:show=\"new\" xlink:title=\"psysml:e4676a73-900e-4cfc-90aa-035aeedcaeac\" xlink:type=\"simple\"><rect fill=\"#FFFFFF\" height=\"45.9375\" id=\"E8\" rx=\"10\" ry=\"10\" style=\"stroke: #383838; stroke-width: 1.5;\" width=\"71\" x=\"92.5\" y=\"167.22\"/><text fill=\"#000000\" font-family=\"sans-serif\" font-size=\"12\" font-style=\"italic\" lengthAdjust=\"spacingAndGlyphs\" textLength=\"69\" x=\"93.5\" y=\"183.3587\">«attribute»</text><text fill=\"#000000\" font-family=\"sans-serif\" font-size=\"12\" lengthAdjust=\"spacingAndGlyphs\" textLength=\"5\" x=\"123.5\" y=\"197.3274\">z</text><line style=\"stroke: #383838; stroke-width: 1.5;\" x1=\"93.5\" x2=\"162.5\" y1=\"205.1575\" y2=\"205.1575\"/></a><a href=\"psysml:7d470368-8955-499f-8cd6-0162cc61b017\" target=\"_top\" title=\"psysml:7d470368-8955-499f-8cd6-0162cc61b017\" xlink:actuate=\"onRequest\" xlink:href=\"psysml:7d470368-8955-499f-8cd6-0162cc61b017\" xlink:show=\"new\" xlink:title=\"psysml:7d470368-8955-499f-8cd6-0162cc61b017\" xlink:type=\"simple\"><polygon fill=\"#FFFFFF\" points=\"314.5,163.72,435.5,163.72,442.5,186.0169,449.5,186.0169,449.5,216.3138,314.5,216.3138,314.5,163.72\" style=\"stroke: #000000; stroke-width: 1.5;\"/><line style=\"stroke: #000000; stroke-width: 1.5;\" x1=\"314.5\" x2=\"442.5\" y1=\"186.0169\" y2=\"186.0169\"/><text fill=\"#000000\" font-family=\"sans-serif\" font-size=\"14\" font-weight=\"bold\" lengthAdjust=\"spacingAndGlyphs\" textLength=\"115\" x=\"318.5\" y=\"178.7151\">Application Layer</text></a><a href=\"psysml:db30598f-7650-4b69-b852-4feea02efbf5\" target=\"_top\" title=\"psysml:db30598f-7650-4b69-b852-4feea02efbf5\" xlink:actuate=\"onRequest\" xlink:href=\"psysml:db30598f-7650-4b69-b852-4feea02efbf5\" xlink:show=\"new\" xlink:title=\"psysml:db30598f-7650-4b69-b852-4feea02efbf5\" xlink:type=\"simple\"><polygon fill=\"#FFFFFF\" points=\"327,293.72,423,293.72,430,316.0169,437,316.0169,437,346.3138,327,346.3138,327,293.72\" style=\"stroke: #000000; stroke-width: 1.5;\"/><line style=\"stroke: #000000; stroke-width: 1.5;\" x1=\"327\" x2=\"430\" y1=\"316.0169\" y2=\"316.0169\"/><text fill=\"#000000\" font-family=\"sans-serif\" font-size=\"14\" font-weight=\"bold\" lengthAdjust=\"spacingAndGlyphs\" textLength=\"90\" x=\"331\" y=\"308.7151\">Service Layer</text></a><a href=\"psysml:f08d8e27-e89d-40a2-8de2-c51098f76f95\" target=\"_top\" title=\"psysml:f08d8e27-e89d-40a2-8de2-c51098f76f95\" xlink:actuate=\"onRequest\" xlink:href=\"psysml:f08d8e27-e89d-40a2-8de2-c51098f76f95\" xlink:show=\"new\" xlink:title=\"psysml:f08d8e27-e89d-40a2-8de2-c51098f76f95\" xlink:type=\"simple\"><polygon fill=\"#FFFFFF\" points=\"336,423.72,414,423.72,421,446.0169,428,446.0169,428,476.3138,336,476.3138,336,423.72\" style=\"stroke: #000000; stroke-width: 1.5;\"/><line style=\"stroke: #000000; stroke-width: 1.5;\" x1=\"336\" x2=\"421\" y1=\"446.0169\" y2=\"446.0169\"/><text fill=\"#000000\" font-family=\"sans-serif\" font-size=\"14\" font-weight=\"bold\" lengthAdjust=\"spacingAndGlyphs\" textLength=\"72\" x=\"340\" y=\"438.7151\">Data Layer</text></a><!--MD5=[1f1cd8e6dd4c1b2ca2aaccc9b9bcea6e]\n",
       "link E1 to E2--><a href=\"psysml:2cdf9aea-584d-4dc5-87f2-78933b91772a\" target=\"_top\" title=\"psysml:2cdf9aea-584d-4dc5-87f2-78933b91772a\" xlink:actuate=\"onRequest\" xlink:href=\"psysml:2cdf9aea-584d-4dc5-87f2-78933b91772a\" xlink:show=\"new\" xlink:title=\"psysml:2cdf9aea-584d-4dc5-87f2-78933b91772a\" xlink:type=\"simple\"><path d=\"M279,33.83 C279,36.15 279,73.83 279,111.5 C279,113.8544 279,116.2087 279,118.5544 C279,119.1408 279,119.7267 279,120.3119 \" fill=\"none\" id=\"E1-&gt;E2\" style=\"stroke: #383838; stroke-width: 1.0; stroke-dasharray: 7.0,7.0;\"/><polygon fill=\"#383838\" points=\"279,120.3119,283,111.3119,279,115.3119,275,111.3119,279,120.3119\" style=\"stroke: #383838; stroke-width: 1.0;\"/><text fill=\"#000000\" font-family=\"sans-serif\" font-size=\"13\" lengthAdjust=\"spacingAndGlyphs\" textLength=\"65\" x=\"280\" y=\"76.7869\">«import»*</text></a><!--MD5=[af87c684e3b0d8be13c1a698a818ef1e]\n",
       "link E3 to E4--><a href=\"psysml:ef543251-f685-45ef-999a-4058d8fef1e9\" target=\"_top\" title=\"psysml:ef543251-f685-45ef-999a-4058d8fef1e9\" xlink:actuate=\"onRequest\" xlink:href=\"psysml:ef543251-f685-45ef-999a-4058d8fef1e9\" xlink:show=\"new\" xlink:title=\"psysml:ef543251-f685-45ef-999a-4058d8fef1e9\" xlink:type=\"simple\"><path d=\"M382,216.82 C382,236.52 382,263.94 382,285.45 \" fill=\"none\" id=\"E3-&gt;E4\" style=\"stroke: #383838; stroke-width: 1.0; stroke-dasharray: 7.0,7.0;\"/><polygon fill=\"#383838\" points=\"382,293.67,385,285.67,379,285.67,382,293.67\" style=\"stroke: #383838; stroke-width: 1.0;\"/><text fill=\"#000000\" font-family=\"sans-serif\" font-size=\"13\" lengthAdjust=\"spacingAndGlyphs\" textLength=\"64\" x=\"383\" y=\"259.7869\">«depend»</text></a><!--MD5=[1b7591eae5389033d8d09a9d6721a717]\n",
       "link E4 to E5--><a href=\"psysml:f939ae72-3488-4da6-b797-5f4561198517\" target=\"_top\" title=\"psysml:f939ae72-3488-4da6-b797-5f4561198517\" xlink:actuate=\"onRequest\" xlink:href=\"psysml:f939ae72-3488-4da6-b797-5f4561198517\" xlink:show=\"new\" xlink:title=\"psysml:f939ae72-3488-4da6-b797-5f4561198517\" xlink:type=\"simple\"><path d=\"M382,346.82 C382,366.52 382,393.94 382,415.45 \" fill=\"none\" id=\"E4-&gt;E5\" style=\"stroke: #383838; stroke-width: 1.0; stroke-dasharray: 7.0,7.0;\"/><polygon fill=\"#383838\" points=\"382,423.67,385,415.67,379,415.67,382,423.67\" style=\"stroke: #383838; stroke-width: 1.0;\"/><text fill=\"#000000\" font-family=\"sans-serif\" font-size=\"13\" lengthAdjust=\"spacingAndGlyphs\" textLength=\"64\" x=\"383\" y=\"389.7869\">«depend»</text></a><!--MD5=[c5e8897d989ce984f93528998a7150fe]\n",
       "link E8 to E6--><a href=\"psysml:2a73c336-1214-4cbc-85e1-1f3a30fc1732\" target=\"_top\" title=\"psysml:2a73c336-1214-4cbc-85e1-1f3a30fc1732\" xlink:actuate=\"onRequest\" xlink:href=\"psysml:2a73c336-1214-4cbc-85e1-1f3a30fc1732\" xlink:show=\"new\" xlink:title=\"psysml:2a73c336-1214-4cbc-85e1-1f3a30fc1732\" xlink:type=\"simple\"><path d=\"M105.55,213.47 C89.97,228.91 72,246.72 72,246.72 C72,246.72 72,263.72 72,263.72 C72,263.72 72.88,275.93 73.81,288.9 \" fill=\"none\" id=\"E8-&gt;E6\" style=\"stroke: #383838; stroke-width: 1.0; stroke-dasharray: 7.0,7.0;\"/><polygon fill=\"#383838\" points=\"74.4,296.97,76.8203,288.776,70.8357,289.205,74.4,296.97\" style=\"stroke: #383838; stroke-width: 1.0;\"/><text fill=\"#000000\" font-family=\"sans-serif\" font-size=\"13\" lengthAdjust=\"spacingAndGlyphs\" textLength=\"64\" x=\"73\" y=\"259.7869\">«depend»</text></a><!--MD5=[bfa3c8b0d15052fdf50ae9310b491027]\n",
       "link E8 to E7--><a href=\"psysml:2a73c336-1214-4cbc-85e1-1f3a30fc1732\" target=\"_top\" title=\"psysml:2a73c336-1214-4cbc-85e1-1f3a30fc1732\" xlink:actuate=\"onRequest\" xlink:href=\"psysml:2a73c336-1214-4cbc-85e1-1f3a30fc1732\" xlink:show=\"new\" xlink:title=\"psysml:2a73c336-1214-4cbc-85e1-1f3a30fc1732\" xlink:type=\"simple\"><path d=\"M137.28,213.22 C146.17,234.29 159.64,266.22 169.47,289.53 \" fill=\"none\" id=\"E8-&gt;E7\" style=\"stroke: #383838; stroke-width: 1.0; stroke-dasharray: 7.0,7.0;\"/><polygon fill=\"#383838\" points=\"172.66,297.07,172.3241,288.5326,166.7933,290.8585,172.66,297.07\" style=\"stroke: #383838; stroke-width: 1.0;\"/><text fill=\"#000000\" font-family=\"sans-serif\" font-size=\"13\" lengthAdjust=\"spacingAndGlyphs\" textLength=\"64\" x=\"159\" y=\"259.7869\">«depend»</text></a><!--MD5=[d0aa47ccf14b02ff6a8f53a851d145a3]\n",
       "@startuml\r\n",
       "skinparam linetype polyline\r\n",
       "skinparam monochrome true\r\n",
       "skinparam classbackgroundcolor white\r\n",
       "skinparam shadowing false\r\n",
       "skinparam wrapWidth 300\r\n",
       "hide circle\r\n",
       "\r\n",
       "package \"DependencyTest\" as E1  [[psysml:30c793ee-6e7c-4739-835e-bebdfc5bf1ce ]]  {\r\n",
       "package \"System\" as E2  [[psysml:db7b2f1b-03d7-4942-9142-e18d7a555d76 ]]  {\r\n",
       "package \"Application Layer\" as E3  [[psysml:7d470368-8955-499f-8cd6-0162cc61b017 ]]  {\r\n",
       "}\r\n",
       "package \"Service Layer\" as E4  [[psysml:db30598f-7650-4b69-b852-4feea02efbf5 ]]  {\r\n",
       "}\r\n",
       "package \"Data Layer\" as E5  [[psysml:f08d8e27-e89d-40a2-8de2-c51098f76f95 ]]  {\r\n",
       "}\r\n",
       "}\r\n",
       "comp usage \"x \" as E6  <<(T,blue) attribute>> [[psysml:d66666e9-9ac5-42c6-8412-5d0a1bea61ed ]] {\r\n",
       "}\r\n",
       "comp usage \"y \" as E7  <<(T,blue) attribute>> [[psysml:4c5b6854-1a08-45b4-8136-d30683a500ef ]] {\r\n",
       "}\r\n",
       "comp usage \"z \" as E8  <<(T,blue) attribute>> [[psysml:e4676a73-900e-4cfc-90aa-035aeedcaeac ]] {\r\n",
       "}\r\n",
       "}\r\n",
       "E1 ..> E2 [[psysml:2cdf9aea-584d-4dc5-87f2-78933b91772a ]] : <<import>>*\r\n",
       "E3 ..>> E4 [[psysml:ef543251-f685-45ef-999a-4058d8fef1e9 ]] : <<depend>>\r\n",
       "E4 ..>> E5 [[psysml:f939ae72-3488-4da6-b797-5f4561198517 ]] : <<depend>>\r\n",
       "E8 ..>> E6 [[psysml:2a73c336-1214-4cbc-85e1-1f3a30fc1732 ]] : <<depend>>\r\n",
       "E8 ..>> E7 [[psysml:2a73c336-1214-4cbc-85e1-1f3a30fc1732 ]] : <<depend>>\r\n",
       "@enduml\r\n",
       "\n",
       "PlantUML version 1.2020.13(Sat Jun 13 12:26:38 UTC 2020)\n",
       "(EPL source distribution)\n",
       "Java Runtime: OpenJDK Runtime Environment\n",
       "JVM: OpenJDK 64-Bit Server VM\n",
       "Default Encoding: UTF-8\n",
       "Language: en\n",
       "Country: null\n",
       "--></g></svg>"
      ]
     },
     "execution_count": 9,
     "metadata": {},
     "output_type": "execute_result"
    }
   ],
   "source": [
    "%viz --style=\"POLYLINE\" --view=\"Default\" \"DependencyTest\""
   ]
  },
  {
   "cell_type": "code",
   "execution_count": 10,
   "id": "2cf44edd",
   "metadata": {
    "execution": {
     "iopub.execute_input": "2022-02-18T10:46:49.947242Z",
     "iopub.status.busy": "2022-02-18T10:46:49.946832Z",
     "iopub.status.idle": "2022-02-18T10:46:49.992026Z",
     "shell.execute_reply": "2022-02-18T10:46:49.991670Z"
    }
   },
   "outputs": [
    {
     "data": {
      "image/svg+xml": [
       "<?xml version=\"1.0\" encoding=\"UTF-8\" standalone=\"no\"?><svg xmlns=\"http://www.w3.org/2000/svg\" xmlns:xlink=\"http://www.w3.org/1999/xlink\" contentScriptType=\"application/ecmascript\" contentStyleType=\"text/css\" height=\"552px\" preserveAspectRatio=\"none\" style=\"width:536px;height:552px;\" version=\"1.1\" viewBox=\"0 0 536 552\" width=\"536px\" zoomAndPan=\"magnify\"><defs/><g><!--MD5=[fbc87193dbaf4d95561dea2c320d4a47]\n",
       "cluster E1--><a href=\"psysml:30c793ee-6e7c-4739-835e-bebdfc5bf1ce\" target=\"_top\" title=\"psysml:30c793ee-6e7c-4739-835e-bebdfc5bf1ce\" xlink:actuate=\"onRequest\" xlink:href=\"psysml:30c793ee-6e7c-4739-835e-bebdfc5bf1ce\" xlink:show=\"new\" xlink:title=\"psysml:30c793ee-6e7c-4739-835e-bebdfc5bf1ce\" xlink:type=\"simple\"><polygon fill=\"#FFFFFF\" points=\"16,6,142,6,149,28.2969,514,28.2969,514,540.72,16,540.72,16,6\" style=\"stroke: #000000; stroke-width: 1.5;\"/><line style=\"stroke: #000000; stroke-width: 1.5;\" x1=\"16\" x2=\"149\" y1=\"28.2969\" y2=\"28.2969\"/><text fill=\"#000000\" font-family=\"sans-serif\" font-size=\"14\" font-weight=\"bold\" lengthAdjust=\"spacingAndGlyphs\" textLength=\"120\" x=\"20\" y=\"20.9951\">DependencyTest</text></a><!--MD5=[e4f7fae6ed58524ba242bb0b0d3be6b7]\n",
       "cluster E2--><a href=\"psysml:db7b2f1b-03d7-4942-9142-e18d7a555d76\" target=\"_top\" title=\"psysml:db7b2f1b-03d7-4942-9142-e18d7a555d76\" xlink:actuate=\"onRequest\" xlink:href=\"psysml:db7b2f1b-03d7-4942-9142-e18d7a555d76\" xlink:show=\"new\" xlink:title=\"psysml:db7b2f1b-03d7-4942-9142-e18d7a555d76\" xlink:type=\"simple\"><polygon fill=\"#FFFFFF\" points=\"271,120.72,328,120.72,335,143.0169,474,143.0169,474,500.72,271,500.72,271,120.72\" style=\"stroke: #000000; stroke-width: 1.5;\"/><line style=\"stroke: #000000; stroke-width: 1.5;\" x1=\"271\" x2=\"335\" y1=\"143.0169\" y2=\"143.0169\"/><text fill=\"#000000\" font-family=\"sans-serif\" font-size=\"14\" font-weight=\"bold\" lengthAdjust=\"spacingAndGlyphs\" textLength=\"51\" x=\"275\" y=\"135.7151\">System</text></a><!--MD5=[60a26617385b1d2d0262a64233df1f8d]\n",
       "class E6--><a href=\"psysml:d66666e9-9ac5-42c6-8412-5d0a1bea61ed\" target=\"_top\" title=\"psysml:d66666e9-9ac5-42c6-8412-5d0a1bea61ed\" xlink:actuate=\"onRequest\" xlink:href=\"psysml:d66666e9-9ac5-42c6-8412-5d0a1bea61ed\" xlink:show=\"new\" xlink:title=\"psysml:d66666e9-9ac5-42c6-8412-5d0a1bea61ed\" xlink:type=\"simple\"><rect fill=\"#FFFFFF\" height=\"45.9375\" id=\"E6\" rx=\"10\" ry=\"10\" style=\"stroke: #383838; stroke-width: 1.5;\" width=\"71\" x=\"40.5\" y=\"297.22\"/><text fill=\"#000000\" font-family=\"sans-serif\" font-size=\"12\" font-style=\"italic\" lengthAdjust=\"spacingAndGlyphs\" textLength=\"69\" x=\"41.5\" y=\"313.3587\">«attribute»</text><text fill=\"#000000\" font-family=\"sans-serif\" font-size=\"12\" lengthAdjust=\"spacingAndGlyphs\" textLength=\"6\" x=\"71\" y=\"327.3274\">x</text><line style=\"stroke: #383838; stroke-width: 1.5;\" x1=\"41.5\" x2=\"110.5\" y1=\"335.1575\" y2=\"335.1575\"/></a><!--MD5=[2156ba9850f5573cc1fc38a6a4b2f02b]\n",
       "class E7--><a href=\"psysml:4c5b6854-1a08-45b4-8136-d30683a500ef\" target=\"_top\" title=\"psysml:4c5b6854-1a08-45b4-8136-d30683a500ef\" xlink:actuate=\"onRequest\" xlink:href=\"psysml:4c5b6854-1a08-45b4-8136-d30683a500ef\" xlink:show=\"new\" xlink:title=\"psysml:4c5b6854-1a08-45b4-8136-d30683a500ef\" xlink:type=\"simple\"><rect fill=\"#FFFFFF\" height=\"45.9375\" id=\"E7\" rx=\"10\" ry=\"10\" style=\"stroke: #383838; stroke-width: 1.5;\" width=\"71\" x=\"146.5\" y=\"297.22\"/><text fill=\"#000000\" font-family=\"sans-serif\" font-size=\"12\" font-style=\"italic\" lengthAdjust=\"spacingAndGlyphs\" textLength=\"69\" x=\"147.5\" y=\"313.3587\">«attribute»</text><text fill=\"#000000\" font-family=\"sans-serif\" font-size=\"12\" lengthAdjust=\"spacingAndGlyphs\" textLength=\"6\" x=\"177\" y=\"327.3274\">y</text><line style=\"stroke: #383838; stroke-width: 1.5;\" x1=\"147.5\" x2=\"216.5\" y1=\"335.1575\" y2=\"335.1575\"/></a><!--MD5=[b9389687b975829384b498ac4b7476b2]\n",
       "class E8--><a href=\"psysml:e4676a73-900e-4cfc-90aa-035aeedcaeac\" target=\"_top\" title=\"psysml:e4676a73-900e-4cfc-90aa-035aeedcaeac\" xlink:actuate=\"onRequest\" xlink:href=\"psysml:e4676a73-900e-4cfc-90aa-035aeedcaeac\" xlink:show=\"new\" xlink:title=\"psysml:e4676a73-900e-4cfc-90aa-035aeedcaeac\" xlink:type=\"simple\"><rect fill=\"#FFFFFF\" height=\"45.9375\" id=\"E8\" rx=\"10\" ry=\"10\" style=\"stroke: #383838; stroke-width: 1.5;\" width=\"71\" x=\"92.5\" y=\"167.22\"/><text fill=\"#000000\" font-family=\"sans-serif\" font-size=\"12\" font-style=\"italic\" lengthAdjust=\"spacingAndGlyphs\" textLength=\"69\" x=\"93.5\" y=\"183.3587\">«attribute»</text><text fill=\"#000000\" font-family=\"sans-serif\" font-size=\"12\" lengthAdjust=\"spacingAndGlyphs\" textLength=\"5\" x=\"123.5\" y=\"197.3274\">z</text><line style=\"stroke: #383838; stroke-width: 1.5;\" x1=\"93.5\" x2=\"162.5\" y1=\"205.1575\" y2=\"205.1575\"/></a><a href=\"psysml:7d470368-8955-499f-8cd6-0162cc61b017\" target=\"_top\" title=\"psysml:7d470368-8955-499f-8cd6-0162cc61b017\" xlink:actuate=\"onRequest\" xlink:href=\"psysml:7d470368-8955-499f-8cd6-0162cc61b017\" xlink:show=\"new\" xlink:title=\"psysml:7d470368-8955-499f-8cd6-0162cc61b017\" xlink:type=\"simple\"><polygon fill=\"#FFFFFF\" points=\"314.5,163.72,435.5,163.72,442.5,186.0169,449.5,186.0169,449.5,216.3138,314.5,216.3138,314.5,163.72\" style=\"stroke: #000000; stroke-width: 1.5;\"/><line style=\"stroke: #000000; stroke-width: 1.5;\" x1=\"314.5\" x2=\"442.5\" y1=\"186.0169\" y2=\"186.0169\"/><text fill=\"#000000\" font-family=\"sans-serif\" font-size=\"14\" font-weight=\"bold\" lengthAdjust=\"spacingAndGlyphs\" textLength=\"115\" x=\"318.5\" y=\"178.7151\">Application Layer</text></a><a href=\"psysml:db30598f-7650-4b69-b852-4feea02efbf5\" target=\"_top\" title=\"psysml:db30598f-7650-4b69-b852-4feea02efbf5\" xlink:actuate=\"onRequest\" xlink:href=\"psysml:db30598f-7650-4b69-b852-4feea02efbf5\" xlink:show=\"new\" xlink:title=\"psysml:db30598f-7650-4b69-b852-4feea02efbf5\" xlink:type=\"simple\"><polygon fill=\"#FFFFFF\" points=\"327,293.72,423,293.72,430,316.0169,437,316.0169,437,346.3138,327,346.3138,327,293.72\" style=\"stroke: #000000; stroke-width: 1.5;\"/><line style=\"stroke: #000000; stroke-width: 1.5;\" x1=\"327\" x2=\"430\" y1=\"316.0169\" y2=\"316.0169\"/><text fill=\"#000000\" font-family=\"sans-serif\" font-size=\"14\" font-weight=\"bold\" lengthAdjust=\"spacingAndGlyphs\" textLength=\"90\" x=\"331\" y=\"308.7151\">Service Layer</text></a><a href=\"psysml:f08d8e27-e89d-40a2-8de2-c51098f76f95\" target=\"_top\" title=\"psysml:f08d8e27-e89d-40a2-8de2-c51098f76f95\" xlink:actuate=\"onRequest\" xlink:href=\"psysml:f08d8e27-e89d-40a2-8de2-c51098f76f95\" xlink:show=\"new\" xlink:title=\"psysml:f08d8e27-e89d-40a2-8de2-c51098f76f95\" xlink:type=\"simple\"><polygon fill=\"#FFFFFF\" points=\"336,423.72,414,423.72,421,446.0169,428,446.0169,428,476.3138,336,476.3138,336,423.72\" style=\"stroke: #000000; stroke-width: 1.5;\"/><line style=\"stroke: #000000; stroke-width: 1.5;\" x1=\"336\" x2=\"421\" y1=\"446.0169\" y2=\"446.0169\"/><text fill=\"#000000\" font-family=\"sans-serif\" font-size=\"14\" font-weight=\"bold\" lengthAdjust=\"spacingAndGlyphs\" textLength=\"72\" x=\"340\" y=\"438.7151\">Data Layer</text></a><!--MD5=[1f1cd8e6dd4c1b2ca2aaccc9b9bcea6e]\n",
       "link E1 to E2--><a href=\"psysml:2cdf9aea-584d-4dc5-87f2-78933b91772a\" target=\"_top\" title=\"psysml:2cdf9aea-584d-4dc5-87f2-78933b91772a\" xlink:actuate=\"onRequest\" xlink:href=\"psysml:2cdf9aea-584d-4dc5-87f2-78933b91772a\" xlink:show=\"new\" xlink:title=\"psysml:2cdf9aea-584d-4dc5-87f2-78933b91772a\" xlink:type=\"simple\"><path d=\"M279,33.83 C279,36.15 279,73.83 279,111.5 C279,113.8544 279,116.2087 279,118.5544 C279,119.1408 279,119.7267 279,120.3119 \" fill=\"none\" id=\"E1-&gt;E2\" style=\"stroke: #383838; stroke-width: 1.0; stroke-dasharray: 7.0,7.0;\"/><polygon fill=\"#383838\" points=\"279,120.3119,283,111.3119,279,115.3119,275,111.3119,279,120.3119\" style=\"stroke: #383838; stroke-width: 1.0;\"/><text fill=\"#000000\" font-family=\"sans-serif\" font-size=\"13\" lengthAdjust=\"spacingAndGlyphs\" textLength=\"65\" x=\"280\" y=\"76.7869\">«import»*</text></a><!--MD5=[af87c684e3b0d8be13c1a698a818ef1e]\n",
       "link E3 to E4--><a href=\"psysml:ef543251-f685-45ef-999a-4058d8fef1e9\" target=\"_top\" title=\"psysml:ef543251-f685-45ef-999a-4058d8fef1e9\" xlink:actuate=\"onRequest\" xlink:href=\"psysml:ef543251-f685-45ef-999a-4058d8fef1e9\" xlink:show=\"new\" xlink:title=\"psysml:ef543251-f685-45ef-999a-4058d8fef1e9\" xlink:type=\"simple\"><path d=\"M382,216.82 C382,236.52 382,263.94 382,285.45 \" fill=\"none\" id=\"E3-&gt;E4\" style=\"stroke: #383838; stroke-width: 1.0; stroke-dasharray: 7.0,7.0;\"/><polygon fill=\"#383838\" points=\"382,293.67,385,285.67,379,285.67,382,293.67\" style=\"stroke: #383838; stroke-width: 1.0;\"/><text fill=\"#000000\" font-family=\"sans-serif\" font-size=\"13\" lengthAdjust=\"spacingAndGlyphs\" textLength=\"64\" x=\"383\" y=\"259.7869\">«depend»</text></a><!--MD5=[1b7591eae5389033d8d09a9d6721a717]\n",
       "link E4 to E5--><a href=\"psysml:f939ae72-3488-4da6-b797-5f4561198517\" target=\"_top\" title=\"psysml:f939ae72-3488-4da6-b797-5f4561198517\" xlink:actuate=\"onRequest\" xlink:href=\"psysml:f939ae72-3488-4da6-b797-5f4561198517\" xlink:show=\"new\" xlink:title=\"psysml:f939ae72-3488-4da6-b797-5f4561198517\" xlink:type=\"simple\"><path d=\"M382,346.82 C382,366.52 382,393.94 382,415.45 \" fill=\"none\" id=\"E4-&gt;E5\" style=\"stroke: #383838; stroke-width: 1.0; stroke-dasharray: 7.0,7.0;\"/><polygon fill=\"#383838\" points=\"382,423.67,385,415.67,379,415.67,382,423.67\" style=\"stroke: #383838; stroke-width: 1.0;\"/><text fill=\"#000000\" font-family=\"sans-serif\" font-size=\"13\" lengthAdjust=\"spacingAndGlyphs\" textLength=\"64\" x=\"383\" y=\"389.7869\">«depend»</text></a><!--MD5=[c5e8897d989ce984f93528998a7150fe]\n",
       "link E8 to E6--><a href=\"psysml:2a73c336-1214-4cbc-85e1-1f3a30fc1732\" target=\"_top\" title=\"psysml:2a73c336-1214-4cbc-85e1-1f3a30fc1732\" xlink:actuate=\"onRequest\" xlink:href=\"psysml:2a73c336-1214-4cbc-85e1-1f3a30fc1732\" xlink:show=\"new\" xlink:title=\"psysml:2a73c336-1214-4cbc-85e1-1f3a30fc1732\" xlink:type=\"simple\"><path d=\"M105.55,213.47 C89.97,228.91 72,246.72 72,246.72 C72,246.72 72,263.72 72,263.72 C72,263.72 72.88,275.93 73.81,288.9 \" fill=\"none\" id=\"E8-&gt;E6\" style=\"stroke: #383838; stroke-width: 1.0; stroke-dasharray: 7.0,7.0;\"/><polygon fill=\"#383838\" points=\"74.4,296.97,76.8203,288.776,70.8357,289.205,74.4,296.97\" style=\"stroke: #383838; stroke-width: 1.0;\"/><text fill=\"#000000\" font-family=\"sans-serif\" font-size=\"13\" lengthAdjust=\"spacingAndGlyphs\" textLength=\"64\" x=\"73\" y=\"259.7869\">«depend»</text></a><!--MD5=[bfa3c8b0d15052fdf50ae9310b491027]\n",
       "link E8 to E7--><a href=\"psysml:2a73c336-1214-4cbc-85e1-1f3a30fc1732\" target=\"_top\" title=\"psysml:2a73c336-1214-4cbc-85e1-1f3a30fc1732\" xlink:actuate=\"onRequest\" xlink:href=\"psysml:2a73c336-1214-4cbc-85e1-1f3a30fc1732\" xlink:show=\"new\" xlink:title=\"psysml:2a73c336-1214-4cbc-85e1-1f3a30fc1732\" xlink:type=\"simple\"><path d=\"M137.28,213.22 C146.17,234.29 159.64,266.22 169.47,289.53 \" fill=\"none\" id=\"E8-&gt;E7\" style=\"stroke: #383838; stroke-width: 1.0; stroke-dasharray: 7.0,7.0;\"/><polygon fill=\"#383838\" points=\"172.66,297.07,172.3241,288.5326,166.7933,290.8585,172.66,297.07\" style=\"stroke: #383838; stroke-width: 1.0;\"/><text fill=\"#000000\" font-family=\"sans-serif\" font-size=\"13\" lengthAdjust=\"spacingAndGlyphs\" textLength=\"64\" x=\"159\" y=\"259.7869\">«depend»</text></a><!--MD5=[d0aa47ccf14b02ff6a8f53a851d145a3]\n",
       "@startuml\r\n",
       "skinparam linetype polyline\r\n",
       "skinparam monochrome true\r\n",
       "skinparam classbackgroundcolor white\r\n",
       "skinparam shadowing false\r\n",
       "skinparam wrapWidth 300\r\n",
       "hide circle\r\n",
       "\r\n",
       "package \"DependencyTest\" as E1  [[psysml:30c793ee-6e7c-4739-835e-bebdfc5bf1ce ]]  {\r\n",
       "package \"System\" as E2  [[psysml:db7b2f1b-03d7-4942-9142-e18d7a555d76 ]]  {\r\n",
       "package \"Application Layer\" as E3  [[psysml:7d470368-8955-499f-8cd6-0162cc61b017 ]]  {\r\n",
       "}\r\n",
       "package \"Service Layer\" as E4  [[psysml:db30598f-7650-4b69-b852-4feea02efbf5 ]]  {\r\n",
       "}\r\n",
       "package \"Data Layer\" as E5  [[psysml:f08d8e27-e89d-40a2-8de2-c51098f76f95 ]]  {\r\n",
       "}\r\n",
       "}\r\n",
       "comp usage \"x \" as E6  <<(T,blue) attribute>> [[psysml:d66666e9-9ac5-42c6-8412-5d0a1bea61ed ]] {\r\n",
       "}\r\n",
       "comp usage \"y \" as E7  <<(T,blue) attribute>> [[psysml:4c5b6854-1a08-45b4-8136-d30683a500ef ]] {\r\n",
       "}\r\n",
       "comp usage \"z \" as E8  <<(T,blue) attribute>> [[psysml:e4676a73-900e-4cfc-90aa-035aeedcaeac ]] {\r\n",
       "}\r\n",
       "}\r\n",
       "E1 ..> E2 [[psysml:2cdf9aea-584d-4dc5-87f2-78933b91772a ]] : <<import>>*\r\n",
       "E3 ..>> E4 [[psysml:ef543251-f685-45ef-999a-4058d8fef1e9 ]] : <<depend>>\r\n",
       "E4 ..>> E5 [[psysml:f939ae72-3488-4da6-b797-5f4561198517 ]] : <<depend>>\r\n",
       "E8 ..>> E6 [[psysml:2a73c336-1214-4cbc-85e1-1f3a30fc1732 ]] : <<depend>>\r\n",
       "E8 ..>> E7 [[psysml:2a73c336-1214-4cbc-85e1-1f3a30fc1732 ]] : <<depend>>\r\n",
       "@enduml\r\n",
       "\n",
       "PlantUML version 1.2020.13(Sat Jun 13 12:26:38 UTC 2020)\n",
       "(EPL source distribution)\n",
       "Java Runtime: OpenJDK Runtime Environment\n",
       "JVM: OpenJDK 64-Bit Server VM\n",
       "Default Encoding: UTF-8\n",
       "Language: en\n",
       "Country: null\n",
       "--></g></svg>"
      ]
     },
     "execution_count": 10,
     "metadata": {},
     "output_type": "execute_result"
    }
   ],
   "source": [
    "%viz --style=\"POLYLINE\" --view=\"Tree\" \"DependencyTest\""
   ]
  },
  {
   "cell_type": "code",
   "execution_count": 11,
   "id": "3c4f4cc1",
   "metadata": {
    "execution": {
     "iopub.execute_input": "2022-02-18T10:46:50.042057Z",
     "iopub.status.busy": "2022-02-18T10:46:50.041535Z",
     "iopub.status.idle": "2022-02-18T10:46:50.048014Z",
     "shell.execute_reply": "2022-02-18T10:46:50.048343Z"
    }
   },
   "outputs": [
    {
     "data": {
      "image/svg+xml": [
       "<?xml version=\"1.0\" encoding=\"UTF-8\" standalone=\"no\"?><svg xmlns=\"http://www.w3.org/2000/svg\" xmlns:xlink=\"http://www.w3.org/1999/xlink\" contentScriptType=\"application/ecmascript\" contentStyleType=\"text/css\" height=\"12px\" preserveAspectRatio=\"none\" style=\"width:12px;height:12px;\" version=\"1.1\" viewBox=\"0 0 12 12\" width=\"12px\" zoomAndPan=\"magnify\"><defs/><g><!--MD5=[896ac0e7a515d8dd7765a661cb4ee08b]\n",
       "@startuml\r\n",
       "skinparam linetype polyline\r\n",
       "skinparam monochrome true\r\n",
       "skinparam classbackgroundcolor white\r\n",
       "skinparam shadowing false\r\n",
       "skinparam wrapWidth 300\r\n",
       "hide circle\r\n",
       "\r\n",
       "@enduml\r\n",
       "\n",
       "PlantUML version 1.2020.13(Sat Jun 13 12:26:38 UTC 2020)\n",
       "(EPL source distribution)\n",
       "Java Runtime: OpenJDK Runtime Environment\n",
       "JVM: OpenJDK 64-Bit Server VM\n",
       "Default Encoding: UTF-8\n",
       "Language: en\n",
       "Country: null\n",
       "--></g></svg>"
      ]
     },
     "execution_count": 11,
     "metadata": {},
     "output_type": "execute_result"
    }
   ],
   "source": [
    "%viz --style=\"POLYLINE\" --view=\"State\" \"DependencyTest\""
   ]
  },
  {
   "cell_type": "code",
   "execution_count": 12,
   "id": "2873499e",
   "metadata": {
    "execution": {
     "iopub.execute_input": "2022-02-18T10:46:50.098594Z",
     "iopub.status.busy": "2022-02-18T10:46:50.098192Z",
     "iopub.status.idle": "2022-02-18T10:46:50.144399Z",
     "shell.execute_reply": "2022-02-18T10:46:50.143888Z"
    }
   },
   "outputs": [
    {
     "data": {
      "image/svg+xml": [
       "<?xml version=\"1.0\" encoding=\"UTF-8\" standalone=\"no\"?><svg xmlns=\"http://www.w3.org/2000/svg\" xmlns:xlink=\"http://www.w3.org/1999/xlink\" contentScriptType=\"application/ecmascript\" contentStyleType=\"text/css\" height=\"442px\" preserveAspectRatio=\"none\" style=\"width:536px;height:442px;\" version=\"1.1\" viewBox=\"0 0 536 442\" width=\"536px\" zoomAndPan=\"magnify\"><defs/><g><!--MD5=[fbc87193dbaf4d95561dea2c320d4a47]\n",
       "cluster E1--><a href=\"psysml:30c793ee-6e7c-4739-835e-bebdfc5bf1ce\" target=\"_top\" title=\"psysml:30c793ee-6e7c-4739-835e-bebdfc5bf1ce\" xlink:actuate=\"onRequest\" xlink:href=\"psysml:30c793ee-6e7c-4739-835e-bebdfc5bf1ce\" xlink:show=\"new\" xlink:title=\"psysml:30c793ee-6e7c-4739-835e-bebdfc5bf1ce\" xlink:type=\"simple\"><polygon fill=\"#FFFFFF\" points=\"16,6,142,6,149,28.2969,514,28.2969,514,430.72,16,430.72,16,6\" style=\"stroke: #000000; stroke-width: 1.5;\"/><line style=\"stroke: #000000; stroke-width: 1.5;\" x1=\"16\" x2=\"149\" y1=\"28.2969\" y2=\"28.2969\"/><text fill=\"#000000\" font-family=\"sans-serif\" font-size=\"14\" font-weight=\"bold\" lengthAdjust=\"spacingAndGlyphs\" textLength=\"120\" x=\"20\" y=\"20.9951\">DependencyTest</text></a><!--MD5=[e4f7fae6ed58524ba242bb0b0d3be6b7]\n",
       "cluster E2--><a href=\"psysml:db7b2f1b-03d7-4942-9142-e18d7a555d76\" target=\"_top\" title=\"psysml:db7b2f1b-03d7-4942-9142-e18d7a555d76\" xlink:actuate=\"onRequest\" xlink:href=\"psysml:db7b2f1b-03d7-4942-9142-e18d7a555d76\" xlink:show=\"new\" xlink:title=\"psysml:db7b2f1b-03d7-4942-9142-e18d7a555d76\" xlink:type=\"simple\"><polygon fill=\"#FFFFFF\" points=\"271,98.72,328,98.72,335,121.0169,474,121.0169,474,390.72,271,390.72,271,98.72\" style=\"stroke: #000000; stroke-width: 1.5;\"/><line style=\"stroke: #000000; stroke-width: 1.5;\" x1=\"271\" x2=\"335\" y1=\"121.0169\" y2=\"121.0169\"/><text fill=\"#000000\" font-family=\"sans-serif\" font-size=\"14\" font-weight=\"bold\" lengthAdjust=\"spacingAndGlyphs\" textLength=\"51\" x=\"275\" y=\"113.7151\">System</text></a><!--MD5=[60a26617385b1d2d0262a64233df1f8d]\n",
       "class E6--><a href=\"psysml:d66666e9-9ac5-42c6-8412-5d0a1bea61ed\" target=\"_top\" title=\"psysml:d66666e9-9ac5-42c6-8412-5d0a1bea61ed\" xlink:actuate=\"onRequest\" xlink:href=\"psysml:d66666e9-9ac5-42c6-8412-5d0a1bea61ed\" xlink:show=\"new\" xlink:title=\"psysml:d66666e9-9ac5-42c6-8412-5d0a1bea61ed\" xlink:type=\"simple\"><rect fill=\"#FFFFFF\" height=\"45.9375\" id=\"E6\" rx=\"10\" ry=\"10\" style=\"stroke: #383838; stroke-width: 1.5;\" width=\"71\" x=\"40.5\" y=\"231.22\"/><text fill=\"#000000\" font-family=\"sans-serif\" font-size=\"12\" font-style=\"italic\" lengthAdjust=\"spacingAndGlyphs\" textLength=\"69\" x=\"41.5\" y=\"247.3587\">«attribute»</text><text fill=\"#000000\" font-family=\"sans-serif\" font-size=\"12\" lengthAdjust=\"spacingAndGlyphs\" textLength=\"6\" x=\"71\" y=\"261.3274\">x</text><line style=\"stroke: #383838; stroke-width: 1.5;\" x1=\"41.5\" x2=\"110.5\" y1=\"269.1575\" y2=\"269.1575\"/></a><!--MD5=[2156ba9850f5573cc1fc38a6a4b2f02b]\n",
       "class E7--><a href=\"psysml:4c5b6854-1a08-45b4-8136-d30683a500ef\" target=\"_top\" title=\"psysml:4c5b6854-1a08-45b4-8136-d30683a500ef\" xlink:actuate=\"onRequest\" xlink:href=\"psysml:4c5b6854-1a08-45b4-8136-d30683a500ef\" xlink:show=\"new\" xlink:title=\"psysml:4c5b6854-1a08-45b4-8136-d30683a500ef\" xlink:type=\"simple\"><rect fill=\"#FFFFFF\" height=\"45.9375\" id=\"E7\" rx=\"10\" ry=\"10\" style=\"stroke: #383838; stroke-width: 1.5;\" width=\"71\" x=\"146.5\" y=\"231.22\"/><text fill=\"#000000\" font-family=\"sans-serif\" font-size=\"12\" font-style=\"italic\" lengthAdjust=\"spacingAndGlyphs\" textLength=\"69\" x=\"147.5\" y=\"247.3587\">«attribute»</text><text fill=\"#000000\" font-family=\"sans-serif\" font-size=\"12\" lengthAdjust=\"spacingAndGlyphs\" textLength=\"6\" x=\"177\" y=\"261.3274\">y</text><line style=\"stroke: #383838; stroke-width: 1.5;\" x1=\"147.5\" x2=\"216.5\" y1=\"269.1575\" y2=\"269.1575\"/></a><!--MD5=[b9389687b975829384b498ac4b7476b2]\n",
       "class E8--><a href=\"psysml:e4676a73-900e-4cfc-90aa-035aeedcaeac\" target=\"_top\" title=\"psysml:e4676a73-900e-4cfc-90aa-035aeedcaeac\" xlink:actuate=\"onRequest\" xlink:href=\"psysml:e4676a73-900e-4cfc-90aa-035aeedcaeac\" xlink:show=\"new\" xlink:title=\"psysml:e4676a73-900e-4cfc-90aa-035aeedcaeac\" xlink:type=\"simple\"><rect fill=\"#FFFFFF\" height=\"45.9375\" id=\"E8\" rx=\"10\" ry=\"10\" style=\"stroke: #383838; stroke-width: 1.5;\" width=\"71\" x=\"92.5\" y=\"145.22\"/><text fill=\"#000000\" font-family=\"sans-serif\" font-size=\"12\" font-style=\"italic\" lengthAdjust=\"spacingAndGlyphs\" textLength=\"69\" x=\"93.5\" y=\"161.3587\">«attribute»</text><text fill=\"#000000\" font-family=\"sans-serif\" font-size=\"12\" lengthAdjust=\"spacingAndGlyphs\" textLength=\"5\" x=\"123.5\" y=\"175.3274\">z</text><line style=\"stroke: #383838; stroke-width: 1.5;\" x1=\"93.5\" x2=\"162.5\" y1=\"183.1575\" y2=\"183.1575\"/></a><a href=\"psysml:7d470368-8955-499f-8cd6-0162cc61b017\" target=\"_top\" title=\"psysml:7d470368-8955-499f-8cd6-0162cc61b017\" xlink:actuate=\"onRequest\" xlink:href=\"psysml:7d470368-8955-499f-8cd6-0162cc61b017\" xlink:show=\"new\" xlink:title=\"psysml:7d470368-8955-499f-8cd6-0162cc61b017\" xlink:type=\"simple\"><polygon fill=\"#FFFFFF\" points=\"314.5,141.72,435.5,141.72,442.5,164.0169,449.5,164.0169,449.5,194.3138,314.5,194.3138,314.5,141.72\" style=\"stroke: #000000; stroke-width: 1.5;\"/><line style=\"stroke: #000000; stroke-width: 1.5;\" x1=\"314.5\" x2=\"442.5\" y1=\"164.0169\" y2=\"164.0169\"/><text fill=\"#000000\" font-family=\"sans-serif\" font-size=\"14\" font-weight=\"bold\" lengthAdjust=\"spacingAndGlyphs\" textLength=\"115\" x=\"318.5\" y=\"156.7151\">Application Layer</text></a><a href=\"psysml:db30598f-7650-4b69-b852-4feea02efbf5\" target=\"_top\" title=\"psysml:db30598f-7650-4b69-b852-4feea02efbf5\" xlink:actuate=\"onRequest\" xlink:href=\"psysml:db30598f-7650-4b69-b852-4feea02efbf5\" xlink:show=\"new\" xlink:title=\"psysml:db30598f-7650-4b69-b852-4feea02efbf5\" xlink:type=\"simple\"><polygon fill=\"#FFFFFF\" points=\"327,227.72,423,227.72,430,250.0169,437,250.0169,437,280.3138,327,280.3138,327,227.72\" style=\"stroke: #000000; stroke-width: 1.5;\"/><line style=\"stroke: #000000; stroke-width: 1.5;\" x1=\"327\" x2=\"430\" y1=\"250.0169\" y2=\"250.0169\"/><text fill=\"#000000\" font-family=\"sans-serif\" font-size=\"14\" font-weight=\"bold\" lengthAdjust=\"spacingAndGlyphs\" textLength=\"90\" x=\"331\" y=\"242.7151\">Service Layer</text></a><a href=\"psysml:f08d8e27-e89d-40a2-8de2-c51098f76f95\" target=\"_top\" title=\"psysml:f08d8e27-e89d-40a2-8de2-c51098f76f95\" xlink:actuate=\"onRequest\" xlink:href=\"psysml:f08d8e27-e89d-40a2-8de2-c51098f76f95\" xlink:show=\"new\" xlink:title=\"psysml:f08d8e27-e89d-40a2-8de2-c51098f76f95\" xlink:type=\"simple\"><polygon fill=\"#FFFFFF\" points=\"336,313.72,414,313.72,421,336.0169,428,336.0169,428,366.3138,336,366.3138,336,313.72\" style=\"stroke: #000000; stroke-width: 1.5;\"/><line style=\"stroke: #000000; stroke-width: 1.5;\" x1=\"336\" x2=\"421\" y1=\"336.0169\" y2=\"336.0169\"/><text fill=\"#000000\" font-family=\"sans-serif\" font-size=\"14\" font-weight=\"bold\" lengthAdjust=\"spacingAndGlyphs\" textLength=\"72\" x=\"340\" y=\"328.7151\">Data Layer</text></a><!--MD5=[1f1cd8e6dd4c1b2ca2aaccc9b9bcea6e]\n",
       "link E1 to E2--><a href=\"psysml:2cdf9aea-584d-4dc5-87f2-78933b91772a\" target=\"_top\" title=\"psysml:2cdf9aea-584d-4dc5-87f2-78933b91772a\" xlink:actuate=\"onRequest\" xlink:href=\"psysml:2cdf9aea-584d-4dc5-87f2-78933b91772a\" xlink:show=\"new\" xlink:title=\"psysml:2cdf9aea-584d-4dc5-87f2-78933b91772a\" xlink:type=\"simple\"><path d=\"M279,33.82 C279,34.815 279,43.3994 279,55.7775 C279,61.9666 279,69.1041 279,76.7155 C279,80.5213 279,84.4455 279,88.429 C279,90.4207 279,92.4272 279,94.4411 C279,95.448 279,96.4568 279,97.4665 C279,97.719 279,97.9714 279,98.224 \" fill=\"none\" id=\"E1-&gt;E2\" style=\"stroke: #383838; stroke-width: 1.0; stroke-dasharray: 7.0,7.0;\"/><polygon fill=\"#383838\" points=\"279,98.224,283,89.224,279,93.224,275,89.224,279,98.224\" style=\"stroke: #383838; stroke-width: 1.0;\"/><text fill=\"#000000\" font-family=\"sans-serif\" font-size=\"13\" lengthAdjust=\"spacingAndGlyphs\" textLength=\"65\" x=\"280\" y=\"54.7869\">«import»*</text></a><!--MD5=[af87c684e3b0d8be13c1a698a818ef1e]\n",
       "link E3 to E4--><a href=\"psysml:ef543251-f685-45ef-999a-4058d8fef1e9\" target=\"_top\" title=\"psysml:ef543251-f685-45ef-999a-4058d8fef1e9\" xlink:actuate=\"onRequest\" xlink:href=\"psysml:ef543251-f685-45ef-999a-4058d8fef1e9\" xlink:show=\"new\" xlink:title=\"psysml:ef543251-f685-45ef-999a-4058d8fef1e9\" xlink:type=\"simple\"><path d=\"M382,194.88 C382,202.7 382,211.41 382,219.66 \" fill=\"none\" id=\"E3-&gt;E4\" style=\"stroke: #383838; stroke-width: 1.0; stroke-dasharray: 7.0,7.0;\"/><polygon fill=\"#383838\" points=\"382,227.72,385,219.72,379,219.72,382,227.72\" style=\"stroke: #383838; stroke-width: 1.0;\"/><text fill=\"#000000\" font-family=\"sans-serif\" font-size=\"13\" lengthAdjust=\"spacingAndGlyphs\" textLength=\"64\" x=\"383\" y=\"215.7869\">«depend»</text></a><!--MD5=[1b7591eae5389033d8d09a9d6721a717]\n",
       "link E4 to E5--><a href=\"psysml:f939ae72-3488-4da6-b797-5f4561198517\" target=\"_top\" title=\"psysml:f939ae72-3488-4da6-b797-5f4561198517\" xlink:actuate=\"onRequest\" xlink:href=\"psysml:f939ae72-3488-4da6-b797-5f4561198517\" xlink:show=\"new\" xlink:title=\"psysml:f939ae72-3488-4da6-b797-5f4561198517\" xlink:type=\"simple\"><path d=\"M382,280.88 C382,288.7 382,297.41 382,305.66 \" fill=\"none\" id=\"E4-&gt;E5\" style=\"stroke: #383838; stroke-width: 1.0; stroke-dasharray: 7.0,7.0;\"/><polygon fill=\"#383838\" points=\"382,313.72,385,305.72,379,305.72,382,313.72\" style=\"stroke: #383838; stroke-width: 1.0;\"/><text fill=\"#000000\" font-family=\"sans-serif\" font-size=\"13\" lengthAdjust=\"spacingAndGlyphs\" textLength=\"64\" x=\"383\" y=\"301.7869\">«depend»</text></a><!--MD5=[c5e8897d989ce984f93528998a7150fe]\n",
       "link E8 to E6--><a href=\"psysml:2a73c336-1214-4cbc-85e1-1f3a30fc1732\" target=\"_top\" title=\"psysml:2a73c336-1214-4cbc-85e1-1f3a30fc1732\" xlink:actuate=\"onRequest\" xlink:href=\"psysml:2a73c336-1214-4cbc-85e1-1f3a30fc1732\" xlink:show=\"new\" xlink:title=\"psysml:2a73c336-1214-4cbc-85e1-1f3a30fc1732\" xlink:type=\"simple\"><path d=\"M92.22,190.63 C81.24,197.19 72,202.72 72,202.72 C72,202.72 72,219.72 72,219.72 C72,219.72 72.15,221 72.4,223.05 \" fill=\"none\" id=\"E8-&gt;E6\" style=\"stroke: #383838; stroke-width: 1.0; stroke-dasharray: 7.0,7.0;\"/><polygon fill=\"#383838\" points=\"73.35,231.06,75.3861,222.7621,69.4279,223.4694,73.35,231.06\" style=\"stroke: #383838; stroke-width: 1.0;\"/><text fill=\"#000000\" font-family=\"sans-serif\" font-size=\"13\" lengthAdjust=\"spacingAndGlyphs\" textLength=\"64\" x=\"73\" y=\"215.7869\">«depend»</text></a><!--MD5=[bfa3c8b0d15052fdf50ae9310b491027]\n",
       "link E8 to E7--><a href=\"psysml:2a73c336-1214-4cbc-85e1-1f3a30fc1732\" target=\"_top\" title=\"psysml:2a73c336-1214-4cbc-85e1-1f3a30fc1732\" xlink:actuate=\"onRequest\" xlink:href=\"psysml:2a73c336-1214-4cbc-85e1-1f3a30fc1732\" xlink:show=\"new\" xlink:title=\"psysml:2a73c336-1214-4cbc-85e1-1f3a30fc1732\" xlink:type=\"simple\"><path d=\"M142.19,191.29 C148.65,201.34 156.38,213.37 163.31,224.14 \" fill=\"none\" id=\"E8-&gt;E7\" style=\"stroke: #383838; stroke-width: 1.0; stroke-dasharray: 7.0,7.0;\"/><polygon fill=\"#383838\" points=\"167.72,231.01,165.9148,222.6589,160.8688,225.905,167.72,231.01\" style=\"stroke: #383838; stroke-width: 1.0;\"/><text fill=\"#000000\" font-family=\"sans-serif\" font-size=\"13\" lengthAdjust=\"spacingAndGlyphs\" textLength=\"64\" x=\"160\" y=\"215.7869\">«depend»</text></a><!--MD5=[d2a58826096f96f7a05156ac4c27e402]\n",
       "@startuml\r\n",
       "skinparam ranksep 10\r\n",
       "skinparam rectangle {\r\n",
       " backgroundColor<<block>> LightGreen\r\n",
       "}\r\n",
       "skinparam linetype polyline\r\n",
       "skinparam monochrome true\r\n",
       "skinparam classbackgroundcolor white\r\n",
       "skinparam shadowing false\r\n",
       "skinparam wrapWidth 300\r\n",
       "hide circle\r\n",
       "\r\n",
       "package \"DependencyTest\" as E1  [[psysml:30c793ee-6e7c-4739-835e-bebdfc5bf1ce ]]  {\r\n",
       "package \"System\" as E2  [[psysml:db7b2f1b-03d7-4942-9142-e18d7a555d76 ]]  {\r\n",
       "package \"Application Layer\" as E3  [[psysml:7d470368-8955-499f-8cd6-0162cc61b017 ]]  {\r\n",
       "}\r\n",
       "package \"Service Layer\" as E4  [[psysml:db30598f-7650-4b69-b852-4feea02efbf5 ]]  {\r\n",
       "}\r\n",
       "package \"Data Layer\" as E5  [[psysml:f08d8e27-e89d-40a2-8de2-c51098f76f95 ]]  {\r\n",
       "}\r\n",
       "}\r\n",
       "comp usage \"x \" as E6  <<(T,blue) attribute>> [[psysml:d66666e9-9ac5-42c6-8412-5d0a1bea61ed ]] {\r\n",
       "}\r\n",
       "comp usage \"y \" as E7  <<(T,blue) attribute>> [[psysml:4c5b6854-1a08-45b4-8136-d30683a500ef ]] {\r\n",
       "}\r\n",
       "comp usage \"z \" as E8  <<(T,blue) attribute>> [[psysml:e4676a73-900e-4cfc-90aa-035aeedcaeac ]] {\r\n",
       "}\r\n",
       "}\r\n",
       "E1 ..> E2 [[psysml:2cdf9aea-584d-4dc5-87f2-78933b91772a ]] : <<import>>*\r\n",
       "E3 ..>> E4 [[psysml:ef543251-f685-45ef-999a-4058d8fef1e9 ]] : <<depend>>\r\n",
       "E4 ..>> E5 [[psysml:f939ae72-3488-4da6-b797-5f4561198517 ]] : <<depend>>\r\n",
       "E8 ..>> E6 [[psysml:2a73c336-1214-4cbc-85e1-1f3a30fc1732 ]] : <<depend>>\r\n",
       "E8 ..>> E7 [[psysml:2a73c336-1214-4cbc-85e1-1f3a30fc1732 ]] : <<depend>>\r\n",
       "@enduml\r\n",
       "\n",
       "PlantUML version 1.2020.13(Sat Jun 13 12:26:38 UTC 2020)\n",
       "(EPL source distribution)\n",
       "Java Runtime: OpenJDK Runtime Environment\n",
       "JVM: OpenJDK 64-Bit Server VM\n",
       "Default Encoding: UTF-8\n",
       "Language: en\n",
       "Country: null\n",
       "--></g></svg>"
      ]
     },
     "execution_count": 12,
     "metadata": {},
     "output_type": "execute_result"
    }
   ],
   "source": [
    "%viz --style=\"POLYLINE\" --view=\"Interconnection\" \"DependencyTest\""
   ]
  },
  {
   "cell_type": "code",
   "execution_count": 13,
   "id": "a9d90fab",
   "metadata": {
    "execution": {
     "iopub.execute_input": "2022-02-18T10:46:50.193664Z",
     "iopub.status.busy": "2022-02-18T10:46:50.193242Z",
     "iopub.status.idle": "2022-02-18T10:46:50.198697Z",
     "shell.execute_reply": "2022-02-18T10:46:50.199027Z"
    }
   },
   "outputs": [
    {
     "data": {
      "image/svg+xml": [
       "<?xml version=\"1.0\" encoding=\"UTF-8\" standalone=\"no\"?><svg xmlns=\"http://www.w3.org/2000/svg\" xmlns:xlink=\"http://www.w3.org/1999/xlink\" contentScriptType=\"application/ecmascript\" contentStyleType=\"text/css\" height=\"12px\" preserveAspectRatio=\"none\" style=\"width:12px;height:12px;\" version=\"1.1\" viewBox=\"0 0 12 12\" width=\"12px\" zoomAndPan=\"magnify\"><defs/><g><!--MD5=[97bbf32f66ccd50cbc40d92ea8f5a65e]\n",
       "@startuml\r\n",
       "skinparam ranksep 8\r\n",
       "skinparam linetype polyline\r\n",
       "skinparam monochrome true\r\n",
       "skinparam classbackgroundcolor white\r\n",
       "skinparam shadowing false\r\n",
       "skinparam wrapWidth 300\r\n",
       "hide circle\r\n",
       "\r\n",
       "@enduml\r\n",
       "\n",
       "PlantUML version 1.2020.13(Sat Jun 13 12:26:38 UTC 2020)\n",
       "(EPL source distribution)\n",
       "Java Runtime: OpenJDK Runtime Environment\n",
       "JVM: OpenJDK 64-Bit Server VM\n",
       "Default Encoding: UTF-8\n",
       "Language: en\n",
       "Country: null\n",
       "--></g></svg>"
      ]
     },
     "execution_count": 13,
     "metadata": {},
     "output_type": "execute_result"
    }
   ],
   "source": [
    "%viz --style=\"POLYLINE\" --view=\"Action\" \"DependencyTest\""
   ]
  },
  {
   "cell_type": "code",
   "execution_count": 14,
   "id": "77f2ff1b",
   "metadata": {
    "execution": {
     "iopub.execute_input": "2022-02-18T10:46:50.249263Z",
     "iopub.status.busy": "2022-02-18T10:46:50.248836Z",
     "iopub.status.idle": "2022-02-18T10:46:50.254490Z",
     "shell.execute_reply": "2022-02-18T10:46:50.254806Z"
    }
   },
   "outputs": [
    {
     "data": {
      "image/svg+xml": [
       "<?xml version=\"1.0\" encoding=\"UTF-8\" standalone=\"no\"?><svg xmlns=\"http://www.w3.org/2000/svg\" xmlns:xlink=\"http://www.w3.org/1999/xlink\" contentScriptType=\"application/ecmascript\" contentStyleType=\"text/css\" height=\"12px\" preserveAspectRatio=\"none\" style=\"width:12px;height:12px;\" version=\"1.1\" viewBox=\"0 0 12 12\" width=\"12px\" zoomAndPan=\"magnify\"><defs/><g><!--MD5=[dc938048236c351797870c36b62f92ad]\n",
       "@startuml\r\n",
       "skinparam roundcorner 20\r\n",
       "skinparam BoxPadding 20\r\n",
       "skinparam SequenceBoxBackgroundColor #white\r\n",
       "skinparam style strictuml\r\n",
       "skinparam maxMessageSize 100\r\n",
       "skinparam linetype polyline\r\n",
       "skinparam monochrome true\r\n",
       "skinparam classbackgroundcolor white\r\n",
       "skinparam shadowing false\r\n",
       "skinparam wrapWidth 300\r\n",
       "hide circle\r\n",
       "\r\n",
       "@enduml\r\n",
       "\n",
       "PlantUML version 1.2020.13(Sat Jun 13 12:26:38 UTC 2020)\n",
       "(EPL source distribution)\n",
       "Java Runtime: OpenJDK Runtime Environment\n",
       "JVM: OpenJDK 64-Bit Server VM\n",
       "Default Encoding: UTF-8\n",
       "Language: en\n",
       "Country: null\n",
       "--></g></svg>"
      ]
     },
     "execution_count": 14,
     "metadata": {},
     "output_type": "execute_result"
    }
   ],
   "source": [
    "%viz --style=\"POLYLINE\" --view=\"Sequence\" \"DependencyTest\""
   ]
  },
  {
   "cell_type": "code",
   "execution_count": 15,
   "id": "9d50ec2e",
   "metadata": {
    "execution": {
     "iopub.execute_input": "2022-02-18T10:46:50.305045Z",
     "iopub.status.busy": "2022-02-18T10:46:50.304646Z",
     "iopub.status.idle": "2022-02-18T10:46:50.347923Z",
     "shell.execute_reply": "2022-02-18T10:46:50.347422Z"
    }
   },
   "outputs": [
    {
     "data": {
      "image/svg+xml": [
       "<?xml version=\"1.0\" encoding=\"UTF-8\" standalone=\"no\"?><svg xmlns=\"http://www.w3.org/2000/svg\" xmlns:xlink=\"http://www.w3.org/1999/xlink\" contentScriptType=\"application/ecmascript\" contentStyleType=\"text/css\" height=\"552px\" preserveAspectRatio=\"none\" style=\"width:536px;height:552px;\" version=\"1.1\" viewBox=\"0 0 536 552\" width=\"536px\" zoomAndPan=\"magnify\"><defs/><g><!--MD5=[fbc87193dbaf4d95561dea2c320d4a47]\n",
       "cluster E1--><a href=\"psysml:30c793ee-6e7c-4739-835e-bebdfc5bf1ce\" target=\"_top\" title=\"psysml:30c793ee-6e7c-4739-835e-bebdfc5bf1ce\" xlink:actuate=\"onRequest\" xlink:href=\"psysml:30c793ee-6e7c-4739-835e-bebdfc5bf1ce\" xlink:show=\"new\" xlink:title=\"psysml:30c793ee-6e7c-4739-835e-bebdfc5bf1ce\" xlink:type=\"simple\"><polygon fill=\"#FFFFFF\" points=\"16,6,142,6,149,28.2969,514,28.2969,514,540.72,16,540.72,16,6\" style=\"stroke: #000000; stroke-width: 1.5;\"/><line style=\"stroke: #000000; stroke-width: 1.5;\" x1=\"16\" x2=\"149\" y1=\"28.2969\" y2=\"28.2969\"/><text fill=\"#000000\" font-family=\"sans-serif\" font-size=\"14\" font-weight=\"bold\" lengthAdjust=\"spacingAndGlyphs\" textLength=\"120\" x=\"20\" y=\"20.9951\">DependencyTest</text></a><!--MD5=[e4f7fae6ed58524ba242bb0b0d3be6b7]\n",
       "cluster E2--><a href=\"psysml:db7b2f1b-03d7-4942-9142-e18d7a555d76\" target=\"_top\" title=\"psysml:db7b2f1b-03d7-4942-9142-e18d7a555d76\" xlink:actuate=\"onRequest\" xlink:href=\"psysml:db7b2f1b-03d7-4942-9142-e18d7a555d76\" xlink:show=\"new\" xlink:title=\"psysml:db7b2f1b-03d7-4942-9142-e18d7a555d76\" xlink:type=\"simple\"><polygon fill=\"#FFFFFF\" points=\"271,120.72,328,120.72,335,143.0169,474,143.0169,474,500.72,271,500.72,271,120.72\" style=\"stroke: #000000; stroke-width: 1.5;\"/><line style=\"stroke: #000000; stroke-width: 1.5;\" x1=\"271\" x2=\"335\" y1=\"143.0169\" y2=\"143.0169\"/><text fill=\"#000000\" font-family=\"sans-serif\" font-size=\"14\" font-weight=\"bold\" lengthAdjust=\"spacingAndGlyphs\" textLength=\"51\" x=\"275\" y=\"135.7151\">System</text></a><!--MD5=[60a26617385b1d2d0262a64233df1f8d]\n",
       "class E6--><a href=\"psysml:d66666e9-9ac5-42c6-8412-5d0a1bea61ed\" target=\"_top\" title=\"psysml:d66666e9-9ac5-42c6-8412-5d0a1bea61ed\" xlink:actuate=\"onRequest\" xlink:href=\"psysml:d66666e9-9ac5-42c6-8412-5d0a1bea61ed\" xlink:show=\"new\" xlink:title=\"psysml:d66666e9-9ac5-42c6-8412-5d0a1bea61ed\" xlink:type=\"simple\"><rect fill=\"#FFFFFF\" height=\"45.9375\" id=\"E6\" rx=\"10\" ry=\"10\" style=\"stroke: #383838; stroke-width: 1.5;\" width=\"71\" x=\"40.5\" y=\"297.22\"/><text fill=\"#000000\" font-family=\"sans-serif\" font-size=\"12\" font-style=\"italic\" lengthAdjust=\"spacingAndGlyphs\" textLength=\"69\" x=\"41.5\" y=\"313.3587\">«attribute»</text><text fill=\"#000000\" font-family=\"sans-serif\" font-size=\"12\" lengthAdjust=\"spacingAndGlyphs\" textLength=\"6\" x=\"71\" y=\"327.3274\">x</text><line style=\"stroke: #383838; stroke-width: 1.5;\" x1=\"41.5\" x2=\"110.5\" y1=\"335.1575\" y2=\"335.1575\"/></a><!--MD5=[2156ba9850f5573cc1fc38a6a4b2f02b]\n",
       "class E7--><a href=\"psysml:4c5b6854-1a08-45b4-8136-d30683a500ef\" target=\"_top\" title=\"psysml:4c5b6854-1a08-45b4-8136-d30683a500ef\" xlink:actuate=\"onRequest\" xlink:href=\"psysml:4c5b6854-1a08-45b4-8136-d30683a500ef\" xlink:show=\"new\" xlink:title=\"psysml:4c5b6854-1a08-45b4-8136-d30683a500ef\" xlink:type=\"simple\"><rect fill=\"#FFFFFF\" height=\"45.9375\" id=\"E7\" rx=\"10\" ry=\"10\" style=\"stroke: #383838; stroke-width: 1.5;\" width=\"71\" x=\"146.5\" y=\"297.22\"/><text fill=\"#000000\" font-family=\"sans-serif\" font-size=\"12\" font-style=\"italic\" lengthAdjust=\"spacingAndGlyphs\" textLength=\"69\" x=\"147.5\" y=\"313.3587\">«attribute»</text><text fill=\"#000000\" font-family=\"sans-serif\" font-size=\"12\" lengthAdjust=\"spacingAndGlyphs\" textLength=\"6\" x=\"177\" y=\"327.3274\">y</text><line style=\"stroke: #383838; stroke-width: 1.5;\" x1=\"147.5\" x2=\"216.5\" y1=\"335.1575\" y2=\"335.1575\"/></a><!--MD5=[b9389687b975829384b498ac4b7476b2]\n",
       "class E8--><a href=\"psysml:e4676a73-900e-4cfc-90aa-035aeedcaeac\" target=\"_top\" title=\"psysml:e4676a73-900e-4cfc-90aa-035aeedcaeac\" xlink:actuate=\"onRequest\" xlink:href=\"psysml:e4676a73-900e-4cfc-90aa-035aeedcaeac\" xlink:show=\"new\" xlink:title=\"psysml:e4676a73-900e-4cfc-90aa-035aeedcaeac\" xlink:type=\"simple\"><rect fill=\"#FFFFFF\" height=\"45.9375\" id=\"E8\" rx=\"10\" ry=\"10\" style=\"stroke: #383838; stroke-width: 1.5;\" width=\"71\" x=\"92.5\" y=\"167.22\"/><text fill=\"#000000\" font-family=\"sans-serif\" font-size=\"12\" font-style=\"italic\" lengthAdjust=\"spacingAndGlyphs\" textLength=\"69\" x=\"93.5\" y=\"183.3587\">«attribute»</text><text fill=\"#000000\" font-family=\"sans-serif\" font-size=\"12\" lengthAdjust=\"spacingAndGlyphs\" textLength=\"5\" x=\"123.5\" y=\"197.3274\">z</text><line style=\"stroke: #383838; stroke-width: 1.5;\" x1=\"93.5\" x2=\"162.5\" y1=\"205.1575\" y2=\"205.1575\"/></a><a href=\"psysml:7d470368-8955-499f-8cd6-0162cc61b017\" target=\"_top\" title=\"psysml:7d470368-8955-499f-8cd6-0162cc61b017\" xlink:actuate=\"onRequest\" xlink:href=\"psysml:7d470368-8955-499f-8cd6-0162cc61b017\" xlink:show=\"new\" xlink:title=\"psysml:7d470368-8955-499f-8cd6-0162cc61b017\" xlink:type=\"simple\"><polygon fill=\"#FFFFFF\" points=\"314.5,163.72,435.5,163.72,442.5,186.0169,449.5,186.0169,449.5,216.3138,314.5,216.3138,314.5,163.72\" style=\"stroke: #000000; stroke-width: 1.5;\"/><line style=\"stroke: #000000; stroke-width: 1.5;\" x1=\"314.5\" x2=\"442.5\" y1=\"186.0169\" y2=\"186.0169\"/><text fill=\"#000000\" font-family=\"sans-serif\" font-size=\"14\" font-weight=\"bold\" lengthAdjust=\"spacingAndGlyphs\" textLength=\"115\" x=\"318.5\" y=\"178.7151\">Application Layer</text></a><a href=\"psysml:db30598f-7650-4b69-b852-4feea02efbf5\" target=\"_top\" title=\"psysml:db30598f-7650-4b69-b852-4feea02efbf5\" xlink:actuate=\"onRequest\" xlink:href=\"psysml:db30598f-7650-4b69-b852-4feea02efbf5\" xlink:show=\"new\" xlink:title=\"psysml:db30598f-7650-4b69-b852-4feea02efbf5\" xlink:type=\"simple\"><polygon fill=\"#FFFFFF\" points=\"327,293.72,423,293.72,430,316.0169,437,316.0169,437,346.3138,327,346.3138,327,293.72\" style=\"stroke: #000000; stroke-width: 1.5;\"/><line style=\"stroke: #000000; stroke-width: 1.5;\" x1=\"327\" x2=\"430\" y1=\"316.0169\" y2=\"316.0169\"/><text fill=\"#000000\" font-family=\"sans-serif\" font-size=\"14\" font-weight=\"bold\" lengthAdjust=\"spacingAndGlyphs\" textLength=\"90\" x=\"331\" y=\"308.7151\">Service Layer</text></a><a href=\"psysml:f08d8e27-e89d-40a2-8de2-c51098f76f95\" target=\"_top\" title=\"psysml:f08d8e27-e89d-40a2-8de2-c51098f76f95\" xlink:actuate=\"onRequest\" xlink:href=\"psysml:f08d8e27-e89d-40a2-8de2-c51098f76f95\" xlink:show=\"new\" xlink:title=\"psysml:f08d8e27-e89d-40a2-8de2-c51098f76f95\" xlink:type=\"simple\"><polygon fill=\"#FFFFFF\" points=\"336,423.72,414,423.72,421,446.0169,428,446.0169,428,476.3138,336,476.3138,336,423.72\" style=\"stroke: #000000; stroke-width: 1.5;\"/><line style=\"stroke: #000000; stroke-width: 1.5;\" x1=\"336\" x2=\"421\" y1=\"446.0169\" y2=\"446.0169\"/><text fill=\"#000000\" font-family=\"sans-serif\" font-size=\"14\" font-weight=\"bold\" lengthAdjust=\"spacingAndGlyphs\" textLength=\"72\" x=\"340\" y=\"438.7151\">Data Layer</text></a><!--MD5=[1f1cd8e6dd4c1b2ca2aaccc9b9bcea6e]\n",
       "link E1 to E2--><a href=\"psysml:2cdf9aea-584d-4dc5-87f2-78933b91772a\" target=\"_top\" title=\"psysml:2cdf9aea-584d-4dc5-87f2-78933b91772a\" xlink:actuate=\"onRequest\" xlink:href=\"psysml:2cdf9aea-584d-4dc5-87f2-78933b91772a\" xlink:show=\"new\" xlink:title=\"psysml:2cdf9aea-584d-4dc5-87f2-78933b91772a\" xlink:type=\"simple\"><path d=\"M279,33.83 C279,36.15 279,73.83 279,111.5 C279,113.8544 279,116.2087 279,118.5544 C279,119.1408 279,119.7267 279,120.3119 \" fill=\"none\" id=\"E1-&gt;E2\" style=\"stroke: #383838; stroke-width: 1.0; stroke-dasharray: 7.0,7.0;\"/><polygon fill=\"#383838\" points=\"279,120.3119,283,111.3119,279,115.3119,275,111.3119,279,120.3119\" style=\"stroke: #383838; stroke-width: 1.0;\"/><text fill=\"#000000\" font-family=\"sans-serif\" font-size=\"13\" lengthAdjust=\"spacingAndGlyphs\" textLength=\"65\" x=\"280\" y=\"76.7869\">«import»*</text></a><!--MD5=[af87c684e3b0d8be13c1a698a818ef1e]\n",
       "link E3 to E4--><a href=\"psysml:ef543251-f685-45ef-999a-4058d8fef1e9\" target=\"_top\" title=\"psysml:ef543251-f685-45ef-999a-4058d8fef1e9\" xlink:actuate=\"onRequest\" xlink:href=\"psysml:ef543251-f685-45ef-999a-4058d8fef1e9\" xlink:show=\"new\" xlink:title=\"psysml:ef543251-f685-45ef-999a-4058d8fef1e9\" xlink:type=\"simple\"><path d=\"M382,216.82 C382,236.52 382,263.94 382,285.45 \" fill=\"none\" id=\"E3-&gt;E4\" style=\"stroke: #383838; stroke-width: 1.0; stroke-dasharray: 7.0,7.0;\"/><polygon fill=\"#383838\" points=\"382,293.67,385,285.67,379,285.67,382,293.67\" style=\"stroke: #383838; stroke-width: 1.0;\"/><text fill=\"#000000\" font-family=\"sans-serif\" font-size=\"13\" lengthAdjust=\"spacingAndGlyphs\" textLength=\"64\" x=\"383\" y=\"259.7869\">«depend»</text></a><!--MD5=[1b7591eae5389033d8d09a9d6721a717]\n",
       "link E4 to E5--><a href=\"psysml:f939ae72-3488-4da6-b797-5f4561198517\" target=\"_top\" title=\"psysml:f939ae72-3488-4da6-b797-5f4561198517\" xlink:actuate=\"onRequest\" xlink:href=\"psysml:f939ae72-3488-4da6-b797-5f4561198517\" xlink:show=\"new\" xlink:title=\"psysml:f939ae72-3488-4da6-b797-5f4561198517\" xlink:type=\"simple\"><path d=\"M382,346.82 C382,366.52 382,393.94 382,415.45 \" fill=\"none\" id=\"E4-&gt;E5\" style=\"stroke: #383838; stroke-width: 1.0; stroke-dasharray: 7.0,7.0;\"/><polygon fill=\"#383838\" points=\"382,423.67,385,415.67,379,415.67,382,423.67\" style=\"stroke: #383838; stroke-width: 1.0;\"/><text fill=\"#000000\" font-family=\"sans-serif\" font-size=\"13\" lengthAdjust=\"spacingAndGlyphs\" textLength=\"64\" x=\"383\" y=\"389.7869\">«depend»</text></a><!--MD5=[c5e8897d989ce984f93528998a7150fe]\n",
       "link E8 to E6--><a href=\"psysml:2a73c336-1214-4cbc-85e1-1f3a30fc1732\" target=\"_top\" title=\"psysml:2a73c336-1214-4cbc-85e1-1f3a30fc1732\" xlink:actuate=\"onRequest\" xlink:href=\"psysml:2a73c336-1214-4cbc-85e1-1f3a30fc1732\" xlink:show=\"new\" xlink:title=\"psysml:2a73c336-1214-4cbc-85e1-1f3a30fc1732\" xlink:type=\"simple\"><path d=\"M105.55,213.47 C89.97,228.91 72,246.72 72,246.72 C72,246.72 72,263.72 72,263.72 C72,263.72 72.88,275.93 73.81,288.9 \" fill=\"none\" id=\"E8-&gt;E6\" style=\"stroke: #383838; stroke-width: 1.0; stroke-dasharray: 7.0,7.0;\"/><polygon fill=\"#383838\" points=\"74.4,296.97,76.8203,288.776,70.8357,289.205,74.4,296.97\" style=\"stroke: #383838; stroke-width: 1.0;\"/><text fill=\"#000000\" font-family=\"sans-serif\" font-size=\"13\" lengthAdjust=\"spacingAndGlyphs\" textLength=\"64\" x=\"73\" y=\"259.7869\">«depend»</text></a><!--MD5=[bfa3c8b0d15052fdf50ae9310b491027]\n",
       "link E8 to E7--><a href=\"psysml:2a73c336-1214-4cbc-85e1-1f3a30fc1732\" target=\"_top\" title=\"psysml:2a73c336-1214-4cbc-85e1-1f3a30fc1732\" xlink:actuate=\"onRequest\" xlink:href=\"psysml:2a73c336-1214-4cbc-85e1-1f3a30fc1732\" xlink:show=\"new\" xlink:title=\"psysml:2a73c336-1214-4cbc-85e1-1f3a30fc1732\" xlink:type=\"simple\"><path d=\"M137.28,213.22 C146.17,234.29 159.64,266.22 169.47,289.53 \" fill=\"none\" id=\"E8-&gt;E7\" style=\"stroke: #383838; stroke-width: 1.0; stroke-dasharray: 7.0,7.0;\"/><polygon fill=\"#383838\" points=\"172.66,297.07,172.3241,288.5326,166.7933,290.8585,172.66,297.07\" style=\"stroke: #383838; stroke-width: 1.0;\"/><text fill=\"#000000\" font-family=\"sans-serif\" font-size=\"13\" lengthAdjust=\"spacingAndGlyphs\" textLength=\"64\" x=\"159\" y=\"259.7869\">«depend»</text></a><!--MD5=[d0aa47ccf14b02ff6a8f53a851d145a3]\n",
       "@startuml\r\n",
       "skinparam linetype polyline\r\n",
       "skinparam monochrome true\r\n",
       "skinparam classbackgroundcolor white\r\n",
       "skinparam shadowing false\r\n",
       "skinparam wrapWidth 300\r\n",
       "hide circle\r\n",
       "\r\n",
       "package \"DependencyTest\" as E1  [[psysml:30c793ee-6e7c-4739-835e-bebdfc5bf1ce ]]  {\r\n",
       "package \"System\" as E2  [[psysml:db7b2f1b-03d7-4942-9142-e18d7a555d76 ]]  {\r\n",
       "package \"Application Layer\" as E3  [[psysml:7d470368-8955-499f-8cd6-0162cc61b017 ]]  {\r\n",
       "}\r\n",
       "package \"Service Layer\" as E4  [[psysml:db30598f-7650-4b69-b852-4feea02efbf5 ]]  {\r\n",
       "}\r\n",
       "package \"Data Layer\" as E5  [[psysml:f08d8e27-e89d-40a2-8de2-c51098f76f95 ]]  {\r\n",
       "}\r\n",
       "}\r\n",
       "comp usage \"x \" as E6  <<(T,blue) attribute>> [[psysml:d66666e9-9ac5-42c6-8412-5d0a1bea61ed ]] {\r\n",
       "}\r\n",
       "comp usage \"y \" as E7  <<(T,blue) attribute>> [[psysml:4c5b6854-1a08-45b4-8136-d30683a500ef ]] {\r\n",
       "}\r\n",
       "comp usage \"z \" as E8  <<(T,blue) attribute>> [[psysml:e4676a73-900e-4cfc-90aa-035aeedcaeac ]] {\r\n",
       "}\r\n",
       "}\r\n",
       "E1 ..> E2 [[psysml:2cdf9aea-584d-4dc5-87f2-78933b91772a ]] : <<import>>*\r\n",
       "E3 ..>> E4 [[psysml:ef543251-f685-45ef-999a-4058d8fef1e9 ]] : <<depend>>\r\n",
       "E4 ..>> E5 [[psysml:f939ae72-3488-4da6-b797-5f4561198517 ]] : <<depend>>\r\n",
       "E8 ..>> E6 [[psysml:2a73c336-1214-4cbc-85e1-1f3a30fc1732 ]] : <<depend>>\r\n",
       "E8 ..>> E7 [[psysml:2a73c336-1214-4cbc-85e1-1f3a30fc1732 ]] : <<depend>>\r\n",
       "@enduml\r\n",
       "\n",
       "PlantUML version 1.2020.13(Sat Jun 13 12:26:38 UTC 2020)\n",
       "(EPL source distribution)\n",
       "Java Runtime: OpenJDK Runtime Environment\n",
       "JVM: OpenJDK 64-Bit Server VM\n",
       "Default Encoding: UTF-8\n",
       "Language: en\n",
       "Country: null\n",
       "--></g></svg>"
      ]
     },
     "execution_count": 15,
     "metadata": {},
     "output_type": "execute_result"
    }
   ],
   "source": [
    "%viz --style=\"POLYLINE\" --view=\"MIXED\" \"DependencyTest\""
   ]
  },
  {
   "cell_type": "code",
   "execution_count": 16,
   "id": "8e23a4b7",
   "metadata": {
    "execution": {
     "iopub.execute_input": "2022-02-18T10:46:50.397317Z",
     "iopub.status.busy": "2022-02-18T10:46:50.396903Z",
     "iopub.status.idle": "2022-02-18T10:46:50.440968Z",
     "shell.execute_reply": "2022-02-18T10:46:50.440603Z"
    }
   },
   "outputs": [
    {
     "data": {
      "image/svg+xml": [
       "<?xml version=\"1.0\" encoding=\"UTF-8\" standalone=\"no\"?><svg xmlns=\"http://www.w3.org/2000/svg\" xmlns:xlink=\"http://www.w3.org/1999/xlink\" contentScriptType=\"application/ecmascript\" contentStyleType=\"text/css\" height=\"392px\" preserveAspectRatio=\"none\" style=\"width:860px;height:392px;\" version=\"1.1\" viewBox=\"0 0 860 392\" width=\"860px\" zoomAndPan=\"magnify\"><defs/><g><!--MD5=[fbc87193dbaf4d95561dea2c320d4a47]\n",
       "cluster E1--><a href=\"psysml:30c793ee-6e7c-4739-835e-bebdfc5bf1ce\" target=\"_top\" title=\"psysml:30c793ee-6e7c-4739-835e-bebdfc5bf1ce\" xlink:actuate=\"onRequest\" xlink:href=\"psysml:30c793ee-6e7c-4739-835e-bebdfc5bf1ce\" xlink:show=\"new\" xlink:title=\"psysml:30c793ee-6e7c-4739-835e-bebdfc5bf1ce\" xlink:type=\"simple\"><polygon fill=\"#FFFFFF\" points=\"16,6,142,6,149,28.2969,838.72,28.2969,838.72,380,16,380,16,6\" style=\"stroke: #000000; stroke-width: 1.5;\"/><line style=\"stroke: #000000; stroke-width: 1.5;\" x1=\"16\" x2=\"149\" y1=\"28.2969\" y2=\"28.2969\"/><text fill=\"#000000\" font-family=\"sans-serif\" font-size=\"14\" font-weight=\"bold\" lengthAdjust=\"spacingAndGlyphs\" textLength=\"120\" x=\"20\" y=\"20.9951\">DependencyTest</text></a><!--MD5=[e4f7fae6ed58524ba242bb0b0d3be6b7]\n",
       "cluster E2--><a href=\"psysml:db7b2f1b-03d7-4942-9142-e18d7a555d76\" target=\"_top\" title=\"psysml:db7b2f1b-03d7-4942-9142-e18d7a555d76\" xlink:actuate=\"onRequest\" xlink:href=\"psysml:db7b2f1b-03d7-4942-9142-e18d7a555d76\" xlink:show=\"new\" xlink:title=\"psysml:db7b2f1b-03d7-4942-9142-e18d7a555d76\" xlink:type=\"simple\"><polygon fill=\"#FFFFFF\" points=\"161.72,65,218.72,65,225.72,87.2969,798.72,87.2969,798.72,205,161.72,205,161.72,65\" style=\"stroke: #000000; stroke-width: 1.5;\"/><line style=\"stroke: #000000; stroke-width: 1.5;\" x1=\"161.72\" x2=\"225.72\" y1=\"87.2969\" y2=\"87.2969\"/><text fill=\"#000000\" font-family=\"sans-serif\" font-size=\"14\" font-weight=\"bold\" lengthAdjust=\"spacingAndGlyphs\" textLength=\"51\" x=\"165.72\" y=\"79.9951\">System</text></a><!--MD5=[60a26617385b1d2d0262a64233df1f8d]\n",
       "class E6--><a href=\"psysml:d66666e9-9ac5-42c6-8412-5d0a1bea61ed\" target=\"_top\" title=\"psysml:d66666e9-9ac5-42c6-8412-5d0a1bea61ed\" xlink:actuate=\"onRequest\" xlink:href=\"psysml:d66666e9-9ac5-42c6-8412-5d0a1bea61ed\" xlink:show=\"new\" xlink:title=\"psysml:d66666e9-9ac5-42c6-8412-5d0a1bea61ed\" xlink:type=\"simple\"><rect fill=\"#FFFFFF\" height=\"45.9375\" id=\"E6\" rx=\"10\" ry=\"10\" style=\"stroke: #383838; stroke-width: 1.5;\" width=\"71\" x=\"466.22\" y=\"310\"/><text fill=\"#000000\" font-family=\"sans-serif\" font-size=\"12\" font-style=\"italic\" lengthAdjust=\"spacingAndGlyphs\" textLength=\"69\" x=\"467.22\" y=\"326.1387\">«attribute»</text><text fill=\"#000000\" font-family=\"sans-serif\" font-size=\"12\" lengthAdjust=\"spacingAndGlyphs\" textLength=\"6\" x=\"496.72\" y=\"340.1074\">x</text><line style=\"stroke: #383838; stroke-width: 1.5;\" x1=\"467.22\" x2=\"536.22\" y1=\"347.9375\" y2=\"347.9375\"/></a><!--MD5=[2156ba9850f5573cc1fc38a6a4b2f02b]\n",
       "class E7--><a href=\"psysml:4c5b6854-1a08-45b4-8136-d30683a500ef\" target=\"_top\" title=\"psysml:4c5b6854-1a08-45b4-8136-d30683a500ef\" xlink:actuate=\"onRequest\" xlink:href=\"psysml:4c5b6854-1a08-45b4-8136-d30683a500ef\" xlink:show=\"new\" xlink:title=\"psysml:4c5b6854-1a08-45b4-8136-d30683a500ef\" xlink:type=\"simple\"><rect fill=\"#FFFFFF\" height=\"45.9375\" id=\"E7\" rx=\"10\" ry=\"10\" style=\"stroke: #383838; stroke-width: 1.5;\" width=\"71\" x=\"466.22\" y=\"229\"/><text fill=\"#000000\" font-family=\"sans-serif\" font-size=\"12\" font-style=\"italic\" lengthAdjust=\"spacingAndGlyphs\" textLength=\"69\" x=\"467.22\" y=\"245.1387\">«attribute»</text><text fill=\"#000000\" font-family=\"sans-serif\" font-size=\"12\" lengthAdjust=\"spacingAndGlyphs\" textLength=\"6\" x=\"496.72\" y=\"259.1074\">y</text><line style=\"stroke: #383838; stroke-width: 1.5;\" x1=\"467.22\" x2=\"536.22\" y1=\"266.9375\" y2=\"266.9375\"/></a><!--MD5=[b9389687b975829384b498ac4b7476b2]\n",
       "class E8--><a href=\"psysml:e4676a73-900e-4cfc-90aa-035aeedcaeac\" target=\"_top\" title=\"psysml:e4676a73-900e-4cfc-90aa-035aeedcaeac\" xlink:actuate=\"onRequest\" xlink:href=\"psysml:e4676a73-900e-4cfc-90aa-035aeedcaeac\" xlink:show=\"new\" xlink:title=\"psysml:e4676a73-900e-4cfc-90aa-035aeedcaeac\" xlink:type=\"simple\"><rect fill=\"#FFFFFF\" height=\"45.9375\" id=\"E8\" rx=\"10\" ry=\"10\" style=\"stroke: #383838; stroke-width: 1.5;\" width=\"71\" x=\"217.72\" y=\"262\"/><text fill=\"#000000\" font-family=\"sans-serif\" font-size=\"12\" font-style=\"italic\" lengthAdjust=\"spacingAndGlyphs\" textLength=\"69\" x=\"218.72\" y=\"278.1387\">«attribute»</text><text fill=\"#000000\" font-family=\"sans-serif\" font-size=\"12\" lengthAdjust=\"spacingAndGlyphs\" textLength=\"5\" x=\"248.72\" y=\"292.1074\">z</text><line style=\"stroke: #383838; stroke-width: 1.5;\" x1=\"218.72\" x2=\"287.72\" y1=\"299.9375\" y2=\"299.9375\"/></a><a href=\"psysml:7d470368-8955-499f-8cd6-0162cc61b017\" target=\"_top\" title=\"psysml:7d470368-8955-499f-8cd6-0162cc61b017\" xlink:actuate=\"onRequest\" xlink:href=\"psysml:7d470368-8955-499f-8cd6-0162cc61b017\" xlink:show=\"new\" xlink:title=\"psysml:7d470368-8955-499f-8cd6-0162cc61b017\" xlink:type=\"simple\"><polygon fill=\"#FFFFFF\" points=\"185.72,108.5,306.72,108.5,313.72,130.7969,320.72,130.7969,320.72,161.0938,185.72,161.0938,185.72,108.5\" style=\"stroke: #000000; stroke-width: 1.5;\"/><line style=\"stroke: #000000; stroke-width: 1.5;\" x1=\"185.72\" x2=\"313.72\" y1=\"130.7969\" y2=\"130.7969\"/><text fill=\"#000000\" font-family=\"sans-serif\" font-size=\"14\" font-weight=\"bold\" lengthAdjust=\"spacingAndGlyphs\" textLength=\"115\" x=\"189.72\" y=\"123.4951\">Application Layer</text></a><a href=\"psysml:db30598f-7650-4b69-b852-4feea02efbf5\" target=\"_top\" title=\"psysml:db30598f-7650-4b69-b852-4feea02efbf5\" xlink:actuate=\"onRequest\" xlink:href=\"psysml:db30598f-7650-4b69-b852-4feea02efbf5\" xlink:show=\"new\" xlink:title=\"psysml:db30598f-7650-4b69-b852-4feea02efbf5\" xlink:type=\"simple\"><polygon fill=\"#FFFFFF\" points=\"446.72,108.5,542.72,108.5,549.72,130.7969,556.72,130.7969,556.72,161.0938,446.72,161.0938,446.72,108.5\" style=\"stroke: #000000; stroke-width: 1.5;\"/><line style=\"stroke: #000000; stroke-width: 1.5;\" x1=\"446.72\" x2=\"549.72\" y1=\"130.7969\" y2=\"130.7969\"/><text fill=\"#000000\" font-family=\"sans-serif\" font-size=\"14\" font-weight=\"bold\" lengthAdjust=\"spacingAndGlyphs\" textLength=\"90\" x=\"450.72\" y=\"123.4951\">Service Layer</text></a><a href=\"psysml:f08d8e27-e89d-40a2-8de2-c51098f76f95\" target=\"_top\" title=\"psysml:f08d8e27-e89d-40a2-8de2-c51098f76f95\" xlink:actuate=\"onRequest\" xlink:href=\"psysml:f08d8e27-e89d-40a2-8de2-c51098f76f95\" xlink:show=\"new\" xlink:title=\"psysml:f08d8e27-e89d-40a2-8de2-c51098f76f95\" xlink:type=\"simple\"><polygon fill=\"#FFFFFF\" points=\"682.72,108.5,760.72,108.5,767.72,130.7969,774.72,130.7969,774.72,161.0938,682.72,161.0938,682.72,108.5\" style=\"stroke: #000000; stroke-width: 1.5;\"/><line style=\"stroke: #000000; stroke-width: 1.5;\" x1=\"682.72\" x2=\"767.72\" y1=\"130.7969\" y2=\"130.7969\"/><text fill=\"#000000\" font-family=\"sans-serif\" font-size=\"14\" font-weight=\"bold\" lengthAdjust=\"spacingAndGlyphs\" textLength=\"72\" x=\"686.72\" y=\"123.4951\">Data Layer</text></a><!--MD5=[1f1cd8e6dd4c1b2ca2aaccc9b9bcea6e]\n",
       "link E1 to E2--><a href=\"psysml:2cdf9aea-584d-4dc5-87f2-78933b91772a\" target=\"_top\" title=\"psysml:2cdf9aea-584d-4dc5-87f2-78933b91772a\" xlink:actuate=\"onRequest\" xlink:href=\"psysml:2cdf9aea-584d-4dc5-87f2-78933b91772a\" xlink:show=\"new\" xlink:title=\"psysml:2cdf9aea-584d-4dc5-87f2-78933b91772a\" xlink:type=\"simple\"><path d=\"M24.88,197 C28.275,197 83.4,197 138.5113,197 C145.4002,197 152.2888,197 159.0763,197 C159.9247,197 160.7715,197 161.6166,197 \" fill=\"none\" id=\"E1-&gt;E2\" style=\"stroke: #383838; stroke-width: 1.0; stroke-dasharray: 7.0,7.0;\"/><polygon fill=\"#383838\" points=\"161.6166,197,152.6166,193,156.6166,197,152.6166,201,161.6166,197\" style=\"stroke: #383838; stroke-width: 1.0;\"/><text fill=\"#000000\" font-family=\"sans-serif\" font-size=\"13\" lengthAdjust=\"spacingAndGlyphs\" textLength=\"65\" x=\"55.72\" y=\"193.0669\">«import»*</text></a><!--MD5=[af87c684e3b0d8be13c1a698a818ef1e]\n",
       "link E3 to E4--><a href=\"psysml:ef543251-f685-45ef-999a-4058d8fef1e9\" target=\"_top\" title=\"psysml:ef543251-f685-45ef-999a-4058d8fef1e9\" xlink:actuate=\"onRequest\" xlink:href=\"psysml:ef543251-f685-45ef-999a-4058d8fef1e9\" xlink:show=\"new\" xlink:title=\"psysml:ef543251-f685-45ef-999a-4058d8fef1e9\" xlink:type=\"simple\"><path d=\"M320.93,135 C357.36,135 402.21,135 438,135 \" fill=\"none\" id=\"E3-&gt;E4\" style=\"stroke: #383838; stroke-width: 1.0; stroke-dasharray: 7.0,7.0;\"/><polygon fill=\"#383838\" points=\"446.42,135,438.42,132,438.42,138,446.42,135\" style=\"stroke: #383838; stroke-width: 1.0;\"/><text fill=\"#000000\" font-family=\"sans-serif\" font-size=\"13\" lengthAdjust=\"spacingAndGlyphs\" textLength=\"64\" x=\"351.72\" y=\"131.0669\">«depend»</text></a><!--MD5=[1b7591eae5389033d8d09a9d6721a717]\n",
       "link E4 to E5--><a href=\"psysml:f939ae72-3488-4da6-b797-5f4561198517\" target=\"_top\" title=\"psysml:f939ae72-3488-4da6-b797-5f4561198517\" xlink:actuate=\"onRequest\" xlink:href=\"psysml:f939ae72-3488-4da6-b797-5f4561198517\" xlink:show=\"new\" xlink:title=\"psysml:f939ae72-3488-4da6-b797-5f4561198517\" xlink:type=\"simple\"><path d=\"M556.9,135 C592.53,135 638.96,135 674.41,135 \" fill=\"none\" id=\"E4-&gt;E5\" style=\"stroke: #383838; stroke-width: 1.0; stroke-dasharray: 7.0,7.0;\"/><polygon fill=\"#383838\" points=\"682.72,135,674.72,132,674.72,138,682.72,135\" style=\"stroke: #383838; stroke-width: 1.0;\"/><text fill=\"#000000\" font-family=\"sans-serif\" font-size=\"13\" lengthAdjust=\"spacingAndGlyphs\" textLength=\"64\" x=\"587.72\" y=\"131.0669\">«depend»</text></a><!--MD5=[c5e8897d989ce984f93528998a7150fe]\n",
       "link E8 to E6--><a href=\"psysml:2a73c336-1214-4cbc-85e1-1f3a30fc1732\" target=\"_top\" title=\"psysml:2a73c336-1214-4cbc-85e1-1f3a30fc1732\" xlink:actuate=\"onRequest\" xlink:href=\"psysml:2a73c336-1214-4cbc-85e1-1f3a30fc1732\" xlink:show=\"new\" xlink:title=\"psysml:2a73c336-1214-4cbc-85e1-1f3a30fc1732\" xlink:type=\"simple\"><path d=\"M288.75,291.72 C333.09,300.36 410.02,315.34 458,324.68 \" fill=\"none\" id=\"E8-&gt;E6\" style=\"stroke: #383838; stroke-width: 1.0; stroke-dasharray: 7.0,7.0;\"/><polygon fill=\"#383838\" points=\"466.02,326.24,458.7416,321.765,457.5938,327.6542,466.02,326.24\" style=\"stroke: #383838; stroke-width: 1.0;\"/><text fill=\"#000000\" font-family=\"sans-serif\" font-size=\"13\" lengthAdjust=\"spacingAndGlyphs\" textLength=\"64\" x=\"351.72\" y=\"301.0669\">«depend»</text></a><!--MD5=[bfa3c8b0d15052fdf50ae9310b491027]\n",
       "link E8 to E7--><a href=\"psysml:2a73c336-1214-4cbc-85e1-1f3a30fc1732\" target=\"_top\" title=\"psysml:2a73c336-1214-4cbc-85e1-1f3a30fc1732\" xlink:actuate=\"onRequest\" xlink:href=\"psysml:2a73c336-1214-4cbc-85e1-1f3a30fc1732\" xlink:show=\"new\" xlink:title=\"psysml:2a73c336-1214-4cbc-85e1-1f3a30fc1732\" xlink:type=\"simple\"><path d=\"M288.75,280.38 C333.09,274.44 410.02,264.14 458,257.72 \" fill=\"none\" id=\"E8-&gt;E7\" style=\"stroke: #383838; stroke-width: 1.0; stroke-dasharray: 7.0,7.0;\"/><polygon fill=\"#383838\" points=\"466.02,256.65,457.6937,254.7336,458.4867,260.681,466.02,256.65\" style=\"stroke: #383838; stroke-width: 1.0;\"/><text fill=\"#000000\" font-family=\"sans-serif\" font-size=\"13\" lengthAdjust=\"spacingAndGlyphs\" textLength=\"64\" x=\"351.72\" y=\"260.0669\">«depend»</text></a><!--MD5=[f270ffc67979b90cfa6e420a2e26cf71]\n",
       "@startuml\r\n",
       "left to right direction\r\n",
       "skinparam monochrome true\r\n",
       "skinparam classbackgroundcolor white\r\n",
       "skinparam shadowing false\r\n",
       "skinparam wrapWidth 300\r\n",
       "hide circle\r\n",
       "\r\n",
       "package \"DependencyTest\" as E1  [[psysml:30c793ee-6e7c-4739-835e-bebdfc5bf1ce ]]  {\r\n",
       "package \"System\" as E2  [[psysml:db7b2f1b-03d7-4942-9142-e18d7a555d76 ]]  {\r\n",
       "package \"Application Layer\" as E3  [[psysml:7d470368-8955-499f-8cd6-0162cc61b017 ]]  {\r\n",
       "}\r\n",
       "package \"Service Layer\" as E4  [[psysml:db30598f-7650-4b69-b852-4feea02efbf5 ]]  {\r\n",
       "}\r\n",
       "package \"Data Layer\" as E5  [[psysml:f08d8e27-e89d-40a2-8de2-c51098f76f95 ]]  {\r\n",
       "}\r\n",
       "}\r\n",
       "comp usage \"x \" as E6  <<(T,blue) attribute>> [[psysml:d66666e9-9ac5-42c6-8412-5d0a1bea61ed ]] {\r\n",
       "}\r\n",
       "comp usage \"y \" as E7  <<(T,blue) attribute>> [[psysml:4c5b6854-1a08-45b4-8136-d30683a500ef ]] {\r\n",
       "}\r\n",
       "comp usage \"z \" as E8  <<(T,blue) attribute>> [[psysml:e4676a73-900e-4cfc-90aa-035aeedcaeac ]] {\r\n",
       "}\r\n",
       "}\r\n",
       "E1 ..> E2 [[psysml:2cdf9aea-584d-4dc5-87f2-78933b91772a ]] : <<import>>*\r\n",
       "E3 ..>> E4 [[psysml:ef543251-f685-45ef-999a-4058d8fef1e9 ]] : <<depend>>\r\n",
       "E4 ..>> E5 [[psysml:f939ae72-3488-4da6-b797-5f4561198517 ]] : <<depend>>\r\n",
       "E8 ..>> E6 [[psysml:2a73c336-1214-4cbc-85e1-1f3a30fc1732 ]] : <<depend>>\r\n",
       "E8 ..>> E7 [[psysml:2a73c336-1214-4cbc-85e1-1f3a30fc1732 ]] : <<depend>>\r\n",
       "@enduml\r\n",
       "\n",
       "PlantUML version 1.2020.13(Sat Jun 13 12:26:38 UTC 2020)\n",
       "(EPL source distribution)\n",
       "Java Runtime: OpenJDK Runtime Environment\n",
       "JVM: OpenJDK 64-Bit Server VM\n",
       "Default Encoding: UTF-8\n",
       "Language: en\n",
       "Country: null\n",
       "--></g></svg>"
      ]
     },
     "execution_count": 16,
     "metadata": {},
     "output_type": "execute_result"
    }
   ],
   "source": [
    "%viz --style=\"LR\" --view=\"Default\" \"DependencyTest\""
   ]
  },
  {
   "cell_type": "code",
   "execution_count": 17,
   "id": "13304436",
   "metadata": {
    "execution": {
     "iopub.execute_input": "2022-02-18T10:46:50.490814Z",
     "iopub.status.busy": "2022-02-18T10:46:50.490411Z",
     "iopub.status.idle": "2022-02-18T10:46:50.534552Z",
     "shell.execute_reply": "2022-02-18T10:46:50.534917Z"
    }
   },
   "outputs": [
    {
     "data": {
      "image/svg+xml": [
       "<?xml version=\"1.0\" encoding=\"UTF-8\" standalone=\"no\"?><svg xmlns=\"http://www.w3.org/2000/svg\" xmlns:xlink=\"http://www.w3.org/1999/xlink\" contentScriptType=\"application/ecmascript\" contentStyleType=\"text/css\" height=\"392px\" preserveAspectRatio=\"none\" style=\"width:860px;height:392px;\" version=\"1.1\" viewBox=\"0 0 860 392\" width=\"860px\" zoomAndPan=\"magnify\"><defs/><g><!--MD5=[fbc87193dbaf4d95561dea2c320d4a47]\n",
       "cluster E1--><a href=\"psysml:30c793ee-6e7c-4739-835e-bebdfc5bf1ce\" target=\"_top\" title=\"psysml:30c793ee-6e7c-4739-835e-bebdfc5bf1ce\" xlink:actuate=\"onRequest\" xlink:href=\"psysml:30c793ee-6e7c-4739-835e-bebdfc5bf1ce\" xlink:show=\"new\" xlink:title=\"psysml:30c793ee-6e7c-4739-835e-bebdfc5bf1ce\" xlink:type=\"simple\"><polygon fill=\"#FFFFFF\" points=\"16,6,142,6,149,28.2969,838.72,28.2969,838.72,380,16,380,16,6\" style=\"stroke: #000000; stroke-width: 1.5;\"/><line style=\"stroke: #000000; stroke-width: 1.5;\" x1=\"16\" x2=\"149\" y1=\"28.2969\" y2=\"28.2969\"/><text fill=\"#000000\" font-family=\"sans-serif\" font-size=\"14\" font-weight=\"bold\" lengthAdjust=\"spacingAndGlyphs\" textLength=\"120\" x=\"20\" y=\"20.9951\">DependencyTest</text></a><!--MD5=[e4f7fae6ed58524ba242bb0b0d3be6b7]\n",
       "cluster E2--><a href=\"psysml:db7b2f1b-03d7-4942-9142-e18d7a555d76\" target=\"_top\" title=\"psysml:db7b2f1b-03d7-4942-9142-e18d7a555d76\" xlink:actuate=\"onRequest\" xlink:href=\"psysml:db7b2f1b-03d7-4942-9142-e18d7a555d76\" xlink:show=\"new\" xlink:title=\"psysml:db7b2f1b-03d7-4942-9142-e18d7a555d76\" xlink:type=\"simple\"><polygon fill=\"#FFFFFF\" points=\"161.72,65,218.72,65,225.72,87.2969,798.72,87.2969,798.72,205,161.72,205,161.72,65\" style=\"stroke: #000000; stroke-width: 1.5;\"/><line style=\"stroke: #000000; stroke-width: 1.5;\" x1=\"161.72\" x2=\"225.72\" y1=\"87.2969\" y2=\"87.2969\"/><text fill=\"#000000\" font-family=\"sans-serif\" font-size=\"14\" font-weight=\"bold\" lengthAdjust=\"spacingAndGlyphs\" textLength=\"51\" x=\"165.72\" y=\"79.9951\">System</text></a><!--MD5=[60a26617385b1d2d0262a64233df1f8d]\n",
       "class E6--><a href=\"psysml:d66666e9-9ac5-42c6-8412-5d0a1bea61ed\" target=\"_top\" title=\"psysml:d66666e9-9ac5-42c6-8412-5d0a1bea61ed\" xlink:actuate=\"onRequest\" xlink:href=\"psysml:d66666e9-9ac5-42c6-8412-5d0a1bea61ed\" xlink:show=\"new\" xlink:title=\"psysml:d66666e9-9ac5-42c6-8412-5d0a1bea61ed\" xlink:type=\"simple\"><rect fill=\"#FFFFFF\" height=\"45.9375\" id=\"E6\" rx=\"10\" ry=\"10\" style=\"stroke: #383838; stroke-width: 1.5;\" width=\"71\" x=\"466.22\" y=\"310\"/><text fill=\"#000000\" font-family=\"sans-serif\" font-size=\"12\" font-style=\"italic\" lengthAdjust=\"spacingAndGlyphs\" textLength=\"69\" x=\"467.22\" y=\"326.1387\">«attribute»</text><text fill=\"#000000\" font-family=\"sans-serif\" font-size=\"12\" lengthAdjust=\"spacingAndGlyphs\" textLength=\"6\" x=\"496.72\" y=\"340.1074\">x</text><line style=\"stroke: #383838; stroke-width: 1.5;\" x1=\"467.22\" x2=\"536.22\" y1=\"347.9375\" y2=\"347.9375\"/></a><!--MD5=[2156ba9850f5573cc1fc38a6a4b2f02b]\n",
       "class E7--><a href=\"psysml:4c5b6854-1a08-45b4-8136-d30683a500ef\" target=\"_top\" title=\"psysml:4c5b6854-1a08-45b4-8136-d30683a500ef\" xlink:actuate=\"onRequest\" xlink:href=\"psysml:4c5b6854-1a08-45b4-8136-d30683a500ef\" xlink:show=\"new\" xlink:title=\"psysml:4c5b6854-1a08-45b4-8136-d30683a500ef\" xlink:type=\"simple\"><rect fill=\"#FFFFFF\" height=\"45.9375\" id=\"E7\" rx=\"10\" ry=\"10\" style=\"stroke: #383838; stroke-width: 1.5;\" width=\"71\" x=\"466.22\" y=\"229\"/><text fill=\"#000000\" font-family=\"sans-serif\" font-size=\"12\" font-style=\"italic\" lengthAdjust=\"spacingAndGlyphs\" textLength=\"69\" x=\"467.22\" y=\"245.1387\">«attribute»</text><text fill=\"#000000\" font-family=\"sans-serif\" font-size=\"12\" lengthAdjust=\"spacingAndGlyphs\" textLength=\"6\" x=\"496.72\" y=\"259.1074\">y</text><line style=\"stroke: #383838; stroke-width: 1.5;\" x1=\"467.22\" x2=\"536.22\" y1=\"266.9375\" y2=\"266.9375\"/></a><!--MD5=[b9389687b975829384b498ac4b7476b2]\n",
       "class E8--><a href=\"psysml:e4676a73-900e-4cfc-90aa-035aeedcaeac\" target=\"_top\" title=\"psysml:e4676a73-900e-4cfc-90aa-035aeedcaeac\" xlink:actuate=\"onRequest\" xlink:href=\"psysml:e4676a73-900e-4cfc-90aa-035aeedcaeac\" xlink:show=\"new\" xlink:title=\"psysml:e4676a73-900e-4cfc-90aa-035aeedcaeac\" xlink:type=\"simple\"><rect fill=\"#FFFFFF\" height=\"45.9375\" id=\"E8\" rx=\"10\" ry=\"10\" style=\"stroke: #383838; stroke-width: 1.5;\" width=\"71\" x=\"217.72\" y=\"262\"/><text fill=\"#000000\" font-family=\"sans-serif\" font-size=\"12\" font-style=\"italic\" lengthAdjust=\"spacingAndGlyphs\" textLength=\"69\" x=\"218.72\" y=\"278.1387\">«attribute»</text><text fill=\"#000000\" font-family=\"sans-serif\" font-size=\"12\" lengthAdjust=\"spacingAndGlyphs\" textLength=\"5\" x=\"248.72\" y=\"292.1074\">z</text><line style=\"stroke: #383838; stroke-width: 1.5;\" x1=\"218.72\" x2=\"287.72\" y1=\"299.9375\" y2=\"299.9375\"/></a><a href=\"psysml:7d470368-8955-499f-8cd6-0162cc61b017\" target=\"_top\" title=\"psysml:7d470368-8955-499f-8cd6-0162cc61b017\" xlink:actuate=\"onRequest\" xlink:href=\"psysml:7d470368-8955-499f-8cd6-0162cc61b017\" xlink:show=\"new\" xlink:title=\"psysml:7d470368-8955-499f-8cd6-0162cc61b017\" xlink:type=\"simple\"><polygon fill=\"#FFFFFF\" points=\"185.72,108.5,306.72,108.5,313.72,130.7969,320.72,130.7969,320.72,161.0938,185.72,161.0938,185.72,108.5\" style=\"stroke: #000000; stroke-width: 1.5;\"/><line style=\"stroke: #000000; stroke-width: 1.5;\" x1=\"185.72\" x2=\"313.72\" y1=\"130.7969\" y2=\"130.7969\"/><text fill=\"#000000\" font-family=\"sans-serif\" font-size=\"14\" font-weight=\"bold\" lengthAdjust=\"spacingAndGlyphs\" textLength=\"115\" x=\"189.72\" y=\"123.4951\">Application Layer</text></a><a href=\"psysml:db30598f-7650-4b69-b852-4feea02efbf5\" target=\"_top\" title=\"psysml:db30598f-7650-4b69-b852-4feea02efbf5\" xlink:actuate=\"onRequest\" xlink:href=\"psysml:db30598f-7650-4b69-b852-4feea02efbf5\" xlink:show=\"new\" xlink:title=\"psysml:db30598f-7650-4b69-b852-4feea02efbf5\" xlink:type=\"simple\"><polygon fill=\"#FFFFFF\" points=\"446.72,108.5,542.72,108.5,549.72,130.7969,556.72,130.7969,556.72,161.0938,446.72,161.0938,446.72,108.5\" style=\"stroke: #000000; stroke-width: 1.5;\"/><line style=\"stroke: #000000; stroke-width: 1.5;\" x1=\"446.72\" x2=\"549.72\" y1=\"130.7969\" y2=\"130.7969\"/><text fill=\"#000000\" font-family=\"sans-serif\" font-size=\"14\" font-weight=\"bold\" lengthAdjust=\"spacingAndGlyphs\" textLength=\"90\" x=\"450.72\" y=\"123.4951\">Service Layer</text></a><a href=\"psysml:f08d8e27-e89d-40a2-8de2-c51098f76f95\" target=\"_top\" title=\"psysml:f08d8e27-e89d-40a2-8de2-c51098f76f95\" xlink:actuate=\"onRequest\" xlink:href=\"psysml:f08d8e27-e89d-40a2-8de2-c51098f76f95\" xlink:show=\"new\" xlink:title=\"psysml:f08d8e27-e89d-40a2-8de2-c51098f76f95\" xlink:type=\"simple\"><polygon fill=\"#FFFFFF\" points=\"682.72,108.5,760.72,108.5,767.72,130.7969,774.72,130.7969,774.72,161.0938,682.72,161.0938,682.72,108.5\" style=\"stroke: #000000; stroke-width: 1.5;\"/><line style=\"stroke: #000000; stroke-width: 1.5;\" x1=\"682.72\" x2=\"767.72\" y1=\"130.7969\" y2=\"130.7969\"/><text fill=\"#000000\" font-family=\"sans-serif\" font-size=\"14\" font-weight=\"bold\" lengthAdjust=\"spacingAndGlyphs\" textLength=\"72\" x=\"686.72\" y=\"123.4951\">Data Layer</text></a><!--MD5=[1f1cd8e6dd4c1b2ca2aaccc9b9bcea6e]\n",
       "link E1 to E2--><a href=\"psysml:2cdf9aea-584d-4dc5-87f2-78933b91772a\" target=\"_top\" title=\"psysml:2cdf9aea-584d-4dc5-87f2-78933b91772a\" xlink:actuate=\"onRequest\" xlink:href=\"psysml:2cdf9aea-584d-4dc5-87f2-78933b91772a\" xlink:show=\"new\" xlink:title=\"psysml:2cdf9aea-584d-4dc5-87f2-78933b91772a\" xlink:type=\"simple\"><path d=\"M24.88,197 C28.275,197 83.4,197 138.5113,197 C145.4002,197 152.2888,197 159.0763,197 C159.9247,197 160.7715,197 161.6166,197 \" fill=\"none\" id=\"E1-&gt;E2\" style=\"stroke: #383838; stroke-width: 1.0; stroke-dasharray: 7.0,7.0;\"/><polygon fill=\"#383838\" points=\"161.6166,197,152.6166,193,156.6166,197,152.6166,201,161.6166,197\" style=\"stroke: #383838; stroke-width: 1.0;\"/><text fill=\"#000000\" font-family=\"sans-serif\" font-size=\"13\" lengthAdjust=\"spacingAndGlyphs\" textLength=\"65\" x=\"55.72\" y=\"193.0669\">«import»*</text></a><!--MD5=[af87c684e3b0d8be13c1a698a818ef1e]\n",
       "link E3 to E4--><a href=\"psysml:ef543251-f685-45ef-999a-4058d8fef1e9\" target=\"_top\" title=\"psysml:ef543251-f685-45ef-999a-4058d8fef1e9\" xlink:actuate=\"onRequest\" xlink:href=\"psysml:ef543251-f685-45ef-999a-4058d8fef1e9\" xlink:show=\"new\" xlink:title=\"psysml:ef543251-f685-45ef-999a-4058d8fef1e9\" xlink:type=\"simple\"><path d=\"M320.93,135 C357.36,135 402.21,135 438,135 \" fill=\"none\" id=\"E3-&gt;E4\" style=\"stroke: #383838; stroke-width: 1.0; stroke-dasharray: 7.0,7.0;\"/><polygon fill=\"#383838\" points=\"446.42,135,438.42,132,438.42,138,446.42,135\" style=\"stroke: #383838; stroke-width: 1.0;\"/><text fill=\"#000000\" font-family=\"sans-serif\" font-size=\"13\" lengthAdjust=\"spacingAndGlyphs\" textLength=\"64\" x=\"351.72\" y=\"131.0669\">«depend»</text></a><!--MD5=[1b7591eae5389033d8d09a9d6721a717]\n",
       "link E4 to E5--><a href=\"psysml:f939ae72-3488-4da6-b797-5f4561198517\" target=\"_top\" title=\"psysml:f939ae72-3488-4da6-b797-5f4561198517\" xlink:actuate=\"onRequest\" xlink:href=\"psysml:f939ae72-3488-4da6-b797-5f4561198517\" xlink:show=\"new\" xlink:title=\"psysml:f939ae72-3488-4da6-b797-5f4561198517\" xlink:type=\"simple\"><path d=\"M556.9,135 C592.53,135 638.96,135 674.41,135 \" fill=\"none\" id=\"E4-&gt;E5\" style=\"stroke: #383838; stroke-width: 1.0; stroke-dasharray: 7.0,7.0;\"/><polygon fill=\"#383838\" points=\"682.72,135,674.72,132,674.72,138,682.72,135\" style=\"stroke: #383838; stroke-width: 1.0;\"/><text fill=\"#000000\" font-family=\"sans-serif\" font-size=\"13\" lengthAdjust=\"spacingAndGlyphs\" textLength=\"64\" x=\"587.72\" y=\"131.0669\">«depend»</text></a><!--MD5=[c5e8897d989ce984f93528998a7150fe]\n",
       "link E8 to E6--><a href=\"psysml:2a73c336-1214-4cbc-85e1-1f3a30fc1732\" target=\"_top\" title=\"psysml:2a73c336-1214-4cbc-85e1-1f3a30fc1732\" xlink:actuate=\"onRequest\" xlink:href=\"psysml:2a73c336-1214-4cbc-85e1-1f3a30fc1732\" xlink:show=\"new\" xlink:title=\"psysml:2a73c336-1214-4cbc-85e1-1f3a30fc1732\" xlink:type=\"simple\"><path d=\"M288.75,291.72 C333.09,300.36 410.02,315.34 458,324.68 \" fill=\"none\" id=\"E8-&gt;E6\" style=\"stroke: #383838; stroke-width: 1.0; stroke-dasharray: 7.0,7.0;\"/><polygon fill=\"#383838\" points=\"466.02,326.24,458.7416,321.765,457.5938,327.6542,466.02,326.24\" style=\"stroke: #383838; stroke-width: 1.0;\"/><text fill=\"#000000\" font-family=\"sans-serif\" font-size=\"13\" lengthAdjust=\"spacingAndGlyphs\" textLength=\"64\" x=\"351.72\" y=\"301.0669\">«depend»</text></a><!--MD5=[bfa3c8b0d15052fdf50ae9310b491027]\n",
       "link E8 to E7--><a href=\"psysml:2a73c336-1214-4cbc-85e1-1f3a30fc1732\" target=\"_top\" title=\"psysml:2a73c336-1214-4cbc-85e1-1f3a30fc1732\" xlink:actuate=\"onRequest\" xlink:href=\"psysml:2a73c336-1214-4cbc-85e1-1f3a30fc1732\" xlink:show=\"new\" xlink:title=\"psysml:2a73c336-1214-4cbc-85e1-1f3a30fc1732\" xlink:type=\"simple\"><path d=\"M288.75,280.38 C333.09,274.44 410.02,264.14 458,257.72 \" fill=\"none\" id=\"E8-&gt;E7\" style=\"stroke: #383838; stroke-width: 1.0; stroke-dasharray: 7.0,7.0;\"/><polygon fill=\"#383838\" points=\"466.02,256.65,457.6937,254.7336,458.4867,260.681,466.02,256.65\" style=\"stroke: #383838; stroke-width: 1.0;\"/><text fill=\"#000000\" font-family=\"sans-serif\" font-size=\"13\" lengthAdjust=\"spacingAndGlyphs\" textLength=\"64\" x=\"351.72\" y=\"260.0669\">«depend»</text></a><!--MD5=[f270ffc67979b90cfa6e420a2e26cf71]\n",
       "@startuml\r\n",
       "left to right direction\r\n",
       "skinparam monochrome true\r\n",
       "skinparam classbackgroundcolor white\r\n",
       "skinparam shadowing false\r\n",
       "skinparam wrapWidth 300\r\n",
       "hide circle\r\n",
       "\r\n",
       "package \"DependencyTest\" as E1  [[psysml:30c793ee-6e7c-4739-835e-bebdfc5bf1ce ]]  {\r\n",
       "package \"System\" as E2  [[psysml:db7b2f1b-03d7-4942-9142-e18d7a555d76 ]]  {\r\n",
       "package \"Application Layer\" as E3  [[psysml:7d470368-8955-499f-8cd6-0162cc61b017 ]]  {\r\n",
       "}\r\n",
       "package \"Service Layer\" as E4  [[psysml:db30598f-7650-4b69-b852-4feea02efbf5 ]]  {\r\n",
       "}\r\n",
       "package \"Data Layer\" as E5  [[psysml:f08d8e27-e89d-40a2-8de2-c51098f76f95 ]]  {\r\n",
       "}\r\n",
       "}\r\n",
       "comp usage \"x \" as E6  <<(T,blue) attribute>> [[psysml:d66666e9-9ac5-42c6-8412-5d0a1bea61ed ]] {\r\n",
       "}\r\n",
       "comp usage \"y \" as E7  <<(T,blue) attribute>> [[psysml:4c5b6854-1a08-45b4-8136-d30683a500ef ]] {\r\n",
       "}\r\n",
       "comp usage \"z \" as E8  <<(T,blue) attribute>> [[psysml:e4676a73-900e-4cfc-90aa-035aeedcaeac ]] {\r\n",
       "}\r\n",
       "}\r\n",
       "E1 ..> E2 [[psysml:2cdf9aea-584d-4dc5-87f2-78933b91772a ]] : <<import>>*\r\n",
       "E3 ..>> E4 [[psysml:ef543251-f685-45ef-999a-4058d8fef1e9 ]] : <<depend>>\r\n",
       "E4 ..>> E5 [[psysml:f939ae72-3488-4da6-b797-5f4561198517 ]] : <<depend>>\r\n",
       "E8 ..>> E6 [[psysml:2a73c336-1214-4cbc-85e1-1f3a30fc1732 ]] : <<depend>>\r\n",
       "E8 ..>> E7 [[psysml:2a73c336-1214-4cbc-85e1-1f3a30fc1732 ]] : <<depend>>\r\n",
       "@enduml\r\n",
       "\n",
       "PlantUML version 1.2020.13(Sat Jun 13 12:26:38 UTC 2020)\n",
       "(EPL source distribution)\n",
       "Java Runtime: OpenJDK Runtime Environment\n",
       "JVM: OpenJDK 64-Bit Server VM\n",
       "Default Encoding: UTF-8\n",
       "Language: en\n",
       "Country: null\n",
       "--></g></svg>"
      ]
     },
     "execution_count": 17,
     "metadata": {},
     "output_type": "execute_result"
    }
   ],
   "source": [
    "%viz --style=\"LR\" --view=\"Tree\" \"DependencyTest\""
   ]
  },
  {
   "cell_type": "code",
   "execution_count": 18,
   "id": "6425fefa",
   "metadata": {
    "execution": {
     "iopub.execute_input": "2022-02-18T10:46:50.584792Z",
     "iopub.status.busy": "2022-02-18T10:46:50.584358Z",
     "iopub.status.idle": "2022-02-18T10:46:50.589848Z",
     "shell.execute_reply": "2022-02-18T10:46:50.590158Z"
    }
   },
   "outputs": [
    {
     "data": {
      "image/svg+xml": [
       "<?xml version=\"1.0\" encoding=\"UTF-8\" standalone=\"no\"?><svg xmlns=\"http://www.w3.org/2000/svg\" xmlns:xlink=\"http://www.w3.org/1999/xlink\" contentScriptType=\"application/ecmascript\" contentStyleType=\"text/css\" height=\"12px\" preserveAspectRatio=\"none\" style=\"width:12px;height:12px;\" version=\"1.1\" viewBox=\"0 0 12 12\" width=\"12px\" zoomAndPan=\"magnify\"><defs/><g><!--MD5=[19d285c9d72a204eba4e2cd117d745e8]\n",
       "@startuml\r\n",
       "left to right direction\r\n",
       "skinparam monochrome true\r\n",
       "skinparam classbackgroundcolor white\r\n",
       "skinparam shadowing false\r\n",
       "skinparam wrapWidth 300\r\n",
       "hide circle\r\n",
       "\r\n",
       "@enduml\r\n",
       "\n",
       "PlantUML version 1.2020.13(Sat Jun 13 12:26:38 UTC 2020)\n",
       "(EPL source distribution)\n",
       "Java Runtime: OpenJDK Runtime Environment\n",
       "JVM: OpenJDK 64-Bit Server VM\n",
       "Default Encoding: UTF-8\n",
       "Language: en\n",
       "Country: null\n",
       "--></g></svg>"
      ]
     },
     "execution_count": 18,
     "metadata": {},
     "output_type": "execute_result"
    }
   ],
   "source": [
    "%viz --style=\"LR\" --view=\"State\" \"DependencyTest\""
   ]
  },
  {
   "cell_type": "code",
   "execution_count": 19,
   "id": "f5fe7047",
   "metadata": {
    "execution": {
     "iopub.execute_input": "2022-02-18T10:46:50.640693Z",
     "iopub.status.busy": "2022-02-18T10:46:50.640289Z",
     "iopub.status.idle": "2022-02-18T10:46:50.684721Z",
     "shell.execute_reply": "2022-02-18T10:46:50.684202Z"
    }
   },
   "outputs": [
    {
     "data": {
      "image/svg+xml": [
       "<?xml version=\"1.0\" encoding=\"UTF-8\" standalone=\"no\"?><svg xmlns=\"http://www.w3.org/2000/svg\" xmlns:xlink=\"http://www.w3.org/1999/xlink\" contentScriptType=\"application/ecmascript\" contentStyleType=\"text/css\" height=\"392px\" preserveAspectRatio=\"none\" style=\"width:750px;height:392px;\" version=\"1.1\" viewBox=\"0 0 750 392\" width=\"750px\" zoomAndPan=\"magnify\"><defs/><g><!--MD5=[fbc87193dbaf4d95561dea2c320d4a47]\n",
       "cluster E1--><a href=\"psysml:30c793ee-6e7c-4739-835e-bebdfc5bf1ce\" target=\"_top\" title=\"psysml:30c793ee-6e7c-4739-835e-bebdfc5bf1ce\" xlink:actuate=\"onRequest\" xlink:href=\"psysml:30c793ee-6e7c-4739-835e-bebdfc5bf1ce\" xlink:show=\"new\" xlink:title=\"psysml:30c793ee-6e7c-4739-835e-bebdfc5bf1ce\" xlink:type=\"simple\"><polygon fill=\"#FFFFFF\" points=\"16,6,142,6,149,28.2969,728.72,28.2969,728.72,380,16,380,16,6\" style=\"stroke: #000000; stroke-width: 1.5;\"/><line style=\"stroke: #000000; stroke-width: 1.5;\" x1=\"16\" x2=\"149\" y1=\"28.2969\" y2=\"28.2969\"/><text fill=\"#000000\" font-family=\"sans-serif\" font-size=\"14\" font-weight=\"bold\" lengthAdjust=\"spacingAndGlyphs\" textLength=\"120\" x=\"20\" y=\"20.9951\">DependencyTest</text></a><!--MD5=[e4f7fae6ed58524ba242bb0b0d3be6b7]\n",
       "cluster E2--><a href=\"psysml:db7b2f1b-03d7-4942-9142-e18d7a555d76\" target=\"_top\" title=\"psysml:db7b2f1b-03d7-4942-9142-e18d7a555d76\" xlink:actuate=\"onRequest\" xlink:href=\"psysml:db7b2f1b-03d7-4942-9142-e18d7a555d76\" xlink:show=\"new\" xlink:title=\"psysml:db7b2f1b-03d7-4942-9142-e18d7a555d76\" xlink:type=\"simple\"><polygon fill=\"#FFFFFF\" points=\"139.72,65,196.72,65,203.72,87.2969,688.72,87.2969,688.72,205,139.72,205,139.72,65\" style=\"stroke: #000000; stroke-width: 1.5;\"/><line style=\"stroke: #000000; stroke-width: 1.5;\" x1=\"139.72\" x2=\"203.72\" y1=\"87.2969\" y2=\"87.2969\"/><text fill=\"#000000\" font-family=\"sans-serif\" font-size=\"14\" font-weight=\"bold\" lengthAdjust=\"spacingAndGlyphs\" textLength=\"51\" x=\"143.72\" y=\"79.9951\">System</text></a><!--MD5=[60a26617385b1d2d0262a64233df1f8d]\n",
       "class E6--><a href=\"psysml:d66666e9-9ac5-42c6-8412-5d0a1bea61ed\" target=\"_top\" title=\"psysml:d66666e9-9ac5-42c6-8412-5d0a1bea61ed\" xlink:actuate=\"onRequest\" xlink:href=\"psysml:d66666e9-9ac5-42c6-8412-5d0a1bea61ed\" xlink:show=\"new\" xlink:title=\"psysml:d66666e9-9ac5-42c6-8412-5d0a1bea61ed\" xlink:type=\"simple\"><rect fill=\"#FFFFFF\" height=\"45.9375\" id=\"E6\" rx=\"10\" ry=\"10\" style=\"stroke: #383838; stroke-width: 1.5;\" width=\"71\" x=\"400.22\" y=\"310\"/><text fill=\"#000000\" font-family=\"sans-serif\" font-size=\"12\" font-style=\"italic\" lengthAdjust=\"spacingAndGlyphs\" textLength=\"69\" x=\"401.22\" y=\"326.1387\">«attribute»</text><text fill=\"#000000\" font-family=\"sans-serif\" font-size=\"12\" lengthAdjust=\"spacingAndGlyphs\" textLength=\"6\" x=\"430.72\" y=\"340.1074\">x</text><line style=\"stroke: #383838; stroke-width: 1.5;\" x1=\"401.22\" x2=\"470.22\" y1=\"347.9375\" y2=\"347.9375\"/></a><!--MD5=[2156ba9850f5573cc1fc38a6a4b2f02b]\n",
       "class E7--><a href=\"psysml:4c5b6854-1a08-45b4-8136-d30683a500ef\" target=\"_top\" title=\"psysml:4c5b6854-1a08-45b4-8136-d30683a500ef\" xlink:actuate=\"onRequest\" xlink:href=\"psysml:4c5b6854-1a08-45b4-8136-d30683a500ef\" xlink:show=\"new\" xlink:title=\"psysml:4c5b6854-1a08-45b4-8136-d30683a500ef\" xlink:type=\"simple\"><rect fill=\"#FFFFFF\" height=\"45.9375\" id=\"E7\" rx=\"10\" ry=\"10\" style=\"stroke: #383838; stroke-width: 1.5;\" width=\"71\" x=\"400.22\" y=\"229\"/><text fill=\"#000000\" font-family=\"sans-serif\" font-size=\"12\" font-style=\"italic\" lengthAdjust=\"spacingAndGlyphs\" textLength=\"69\" x=\"401.22\" y=\"245.1387\">«attribute»</text><text fill=\"#000000\" font-family=\"sans-serif\" font-size=\"12\" lengthAdjust=\"spacingAndGlyphs\" textLength=\"6\" x=\"430.72\" y=\"259.1074\">y</text><line style=\"stroke: #383838; stroke-width: 1.5;\" x1=\"401.22\" x2=\"470.22\" y1=\"266.9375\" y2=\"266.9375\"/></a><!--MD5=[b9389687b975829384b498ac4b7476b2]\n",
       "class E8--><a href=\"psysml:e4676a73-900e-4cfc-90aa-035aeedcaeac\" target=\"_top\" title=\"psysml:e4676a73-900e-4cfc-90aa-035aeedcaeac\" xlink:actuate=\"onRequest\" xlink:href=\"psysml:e4676a73-900e-4cfc-90aa-035aeedcaeac\" xlink:show=\"new\" xlink:title=\"psysml:e4676a73-900e-4cfc-90aa-035aeedcaeac\" xlink:type=\"simple\"><rect fill=\"#FFFFFF\" height=\"45.9375\" id=\"E8\" rx=\"10\" ry=\"10\" style=\"stroke: #383838; stroke-width: 1.5;\" width=\"71\" x=\"195.72\" y=\"262\"/><text fill=\"#000000\" font-family=\"sans-serif\" font-size=\"12\" font-style=\"italic\" lengthAdjust=\"spacingAndGlyphs\" textLength=\"69\" x=\"196.72\" y=\"278.1387\">«attribute»</text><text fill=\"#000000\" font-family=\"sans-serif\" font-size=\"12\" lengthAdjust=\"spacingAndGlyphs\" textLength=\"5\" x=\"226.72\" y=\"292.1074\">z</text><line style=\"stroke: #383838; stroke-width: 1.5;\" x1=\"196.72\" x2=\"265.72\" y1=\"299.9375\" y2=\"299.9375\"/></a><a href=\"psysml:7d470368-8955-499f-8cd6-0162cc61b017\" target=\"_top\" title=\"psysml:7d470368-8955-499f-8cd6-0162cc61b017\" xlink:actuate=\"onRequest\" xlink:href=\"psysml:7d470368-8955-499f-8cd6-0162cc61b017\" xlink:show=\"new\" xlink:title=\"psysml:7d470368-8955-499f-8cd6-0162cc61b017\" xlink:type=\"simple\"><polygon fill=\"#FFFFFF\" points=\"163.72,108.5,284.72,108.5,291.72,130.7969,298.72,130.7969,298.72,161.0938,163.72,161.0938,163.72,108.5\" style=\"stroke: #000000; stroke-width: 1.5;\"/><line style=\"stroke: #000000; stroke-width: 1.5;\" x1=\"163.72\" x2=\"291.72\" y1=\"130.7969\" y2=\"130.7969\"/><text fill=\"#000000\" font-family=\"sans-serif\" font-size=\"14\" font-weight=\"bold\" lengthAdjust=\"spacingAndGlyphs\" textLength=\"115\" x=\"167.72\" y=\"123.4951\">Application Layer</text></a><a href=\"psysml:db30598f-7650-4b69-b852-4feea02efbf5\" target=\"_top\" title=\"psysml:db30598f-7650-4b69-b852-4feea02efbf5\" xlink:actuate=\"onRequest\" xlink:href=\"psysml:db30598f-7650-4b69-b852-4feea02efbf5\" xlink:show=\"new\" xlink:title=\"psysml:db30598f-7650-4b69-b852-4feea02efbf5\" xlink:type=\"simple\"><polygon fill=\"#FFFFFF\" points=\"380.72,108.5,476.72,108.5,483.72,130.7969,490.72,130.7969,490.72,161.0938,380.72,161.0938,380.72,108.5\" style=\"stroke: #000000; stroke-width: 1.5;\"/><line style=\"stroke: #000000; stroke-width: 1.5;\" x1=\"380.72\" x2=\"483.72\" y1=\"130.7969\" y2=\"130.7969\"/><text fill=\"#000000\" font-family=\"sans-serif\" font-size=\"14\" font-weight=\"bold\" lengthAdjust=\"spacingAndGlyphs\" textLength=\"90\" x=\"384.72\" y=\"123.4951\">Service Layer</text></a><a href=\"psysml:f08d8e27-e89d-40a2-8de2-c51098f76f95\" target=\"_top\" title=\"psysml:f08d8e27-e89d-40a2-8de2-c51098f76f95\" xlink:actuate=\"onRequest\" xlink:href=\"psysml:f08d8e27-e89d-40a2-8de2-c51098f76f95\" xlink:show=\"new\" xlink:title=\"psysml:f08d8e27-e89d-40a2-8de2-c51098f76f95\" xlink:type=\"simple\"><polygon fill=\"#FFFFFF\" points=\"572.72,108.5,650.72,108.5,657.72,130.7969,664.72,130.7969,664.72,161.0938,572.72,161.0938,572.72,108.5\" style=\"stroke: #000000; stroke-width: 1.5;\"/><line style=\"stroke: #000000; stroke-width: 1.5;\" x1=\"572.72\" x2=\"657.72\" y1=\"130.7969\" y2=\"130.7969\"/><text fill=\"#000000\" font-family=\"sans-serif\" font-size=\"14\" font-weight=\"bold\" lengthAdjust=\"spacingAndGlyphs\" textLength=\"72\" x=\"576.72\" y=\"123.4951\">Data Layer</text></a><!--MD5=[1f1cd8e6dd4c1b2ca2aaccc9b9bcea6e]\n",
       "link E1 to E2--><a href=\"psysml:2cdf9aea-584d-4dc5-87f2-78933b91772a\" target=\"_top\" title=\"psysml:2cdf9aea-584d-4dc5-87f2-78933b91772a\" xlink:actuate=\"onRequest\" xlink:href=\"psysml:2cdf9aea-584d-4dc5-87f2-78933b91772a\" xlink:show=\"new\" xlink:title=\"psysml:2cdf9aea-584d-4dc5-87f2-78933b91772a\" xlink:type=\"simple\"><path d=\"M24.87,197 C27.93,197 77.7225,197 127.505,197 C130.6164,197 133.7278,197 136.8277,197 C137.6027,197 138.3769,197 139.1503,197 \" fill=\"none\" id=\"E1-&gt;E2\" style=\"stroke: #383838; stroke-width: 1.0; stroke-dasharray: 7.0,7.0;\"/><polygon fill=\"#383838\" points=\"139.1503,197,130.1503,193,134.1503,197,130.1503,201,139.1503,197\" style=\"stroke: #383838; stroke-width: 1.0;\"/><text fill=\"#000000\" font-family=\"sans-serif\" font-size=\"13\" lengthAdjust=\"spacingAndGlyphs\" textLength=\"65\" x=\"33.72\" y=\"193.0669\">«import»*</text></a><!--MD5=[af87c684e3b0d8be13c1a698a818ef1e]\n",
       "link E3 to E4--><a href=\"psysml:ef543251-f685-45ef-999a-4058d8fef1e9\" target=\"_top\" title=\"psysml:ef543251-f685-45ef-999a-4058d8fef1e9\" xlink:actuate=\"onRequest\" xlink:href=\"psysml:ef543251-f685-45ef-999a-4058d8fef1e9\" xlink:show=\"new\" xlink:title=\"psysml:ef543251-f685-45ef-999a-4058d8fef1e9\" xlink:type=\"simple\"><path d=\"M298.81,135 C322.52,135 349.13,135 372.47,135 \" fill=\"none\" id=\"E3-&gt;E4\" style=\"stroke: #383838; stroke-width: 1.0; stroke-dasharray: 7.0,7.0;\"/><polygon fill=\"#383838\" points=\"380.58,135,372.58,132,372.58,138,380.58,135\" style=\"stroke: #383838; stroke-width: 1.0;\"/><text fill=\"#000000\" font-family=\"sans-serif\" font-size=\"13\" lengthAdjust=\"spacingAndGlyphs\" textLength=\"64\" x=\"307.72\" y=\"131.0669\">«depend»</text></a><!--MD5=[1b7591eae5389033d8d09a9d6721a717]\n",
       "link E4 to E5--><a href=\"psysml:f939ae72-3488-4da6-b797-5f4561198517\" target=\"_top\" title=\"psysml:f939ae72-3488-4da6-b797-5f4561198517\" xlink:actuate=\"onRequest\" xlink:href=\"psysml:f939ae72-3488-4da6-b797-5f4561198517\" xlink:show=\"new\" xlink:title=\"psysml:f939ae72-3488-4da6-b797-5f4561198517\" xlink:type=\"simple\"><path d=\"M491.03,135 C514.31,135 541.43,135 564.58,135 \" fill=\"none\" id=\"E4-&gt;E5\" style=\"stroke: #383838; stroke-width: 1.0; stroke-dasharray: 7.0,7.0;\"/><polygon fill=\"#383838\" points=\"572.6,135,564.6,132,564.6,138,572.6,135\" style=\"stroke: #383838; stroke-width: 1.0;\"/><text fill=\"#000000\" font-family=\"sans-serif\" font-size=\"13\" lengthAdjust=\"spacingAndGlyphs\" textLength=\"64\" x=\"499.72\" y=\"131.0669\">«depend»</text></a><!--MD5=[c5e8897d989ce984f93528998a7150fe]\n",
       "link E8 to E6--><a href=\"psysml:2a73c336-1214-4cbc-85e1-1f3a30fc1732\" target=\"_top\" title=\"psysml:2a73c336-1214-4cbc-85e1-1f3a30fc1732\" xlink:actuate=\"onRequest\" xlink:href=\"psysml:2a73c336-1214-4cbc-85e1-1f3a30fc1732\" xlink:show=\"new\" xlink:title=\"psysml:2a73c336-1214-4cbc-85e1-1f3a30fc1732\" xlink:type=\"simple\"><path d=\"M267.03,293.25 C301.62,301.45 354.73,314.04 391.88,322.85 \" fill=\"none\" id=\"E8-&gt;E6\" style=\"stroke: #383838; stroke-width: 1.0; stroke-dasharray: 7.0,7.0;\"/><polygon fill=\"#383838\" points=\"400.03,324.78,392.9444,320.0057,391.5522,325.8419,400.03,324.78\" style=\"stroke: #383838; stroke-width: 1.0;\"/><text fill=\"#000000\" font-family=\"sans-serif\" font-size=\"13\" lengthAdjust=\"spacingAndGlyphs\" textLength=\"64\" x=\"307.72\" y=\"300.0669\">«depend»</text></a><!--MD5=[bfa3c8b0d15052fdf50ae9310b491027]\n",
       "link E8 to E7--><a href=\"psysml:2a73c336-1214-4cbc-85e1-1f3a30fc1732\" target=\"_top\" title=\"psysml:2a73c336-1214-4cbc-85e1-1f3a30fc1732\" xlink:actuate=\"onRequest\" xlink:href=\"psysml:2a73c336-1214-4cbc-85e1-1f3a30fc1732\" xlink:show=\"new\" xlink:title=\"psysml:2a73c336-1214-4cbc-85e1-1f3a30fc1732\" xlink:type=\"simple\"><path d=\"M267.03,279.33 C301.62,273.69 354.73,265.04 391.88,258.98 \" fill=\"none\" id=\"E8-&gt;E7\" style=\"stroke: #383838; stroke-width: 1.0; stroke-dasharray: 7.0,7.0;\"/><polygon fill=\"#383838\" points=\"400.03,257.65,391.6515,255.9764,392.617,261.8983,400.03,257.65\" style=\"stroke: #383838; stroke-width: 1.0;\"/><text fill=\"#000000\" font-family=\"sans-serif\" font-size=\"13\" lengthAdjust=\"spacingAndGlyphs\" textLength=\"64\" x=\"307.72\" y=\"259.0669\">«depend»</text></a><!--MD5=[93f40a13589ac57270c8da07c4e33461]\n",
       "@startuml\r\n",
       "skinparam ranksep 10\r\n",
       "skinparam rectangle {\r\n",
       " backgroundColor<<block>> LightGreen\r\n",
       "}\r\n",
       "left to right direction\r\n",
       "skinparam monochrome true\r\n",
       "skinparam classbackgroundcolor white\r\n",
       "skinparam shadowing false\r\n",
       "skinparam wrapWidth 300\r\n",
       "hide circle\r\n",
       "\r\n",
       "package \"DependencyTest\" as E1  [[psysml:30c793ee-6e7c-4739-835e-bebdfc5bf1ce ]]  {\r\n",
       "package \"System\" as E2  [[psysml:db7b2f1b-03d7-4942-9142-e18d7a555d76 ]]  {\r\n",
       "package \"Application Layer\" as E3  [[psysml:7d470368-8955-499f-8cd6-0162cc61b017 ]]  {\r\n",
       "}\r\n",
       "package \"Service Layer\" as E4  [[psysml:db30598f-7650-4b69-b852-4feea02efbf5 ]]  {\r\n",
       "}\r\n",
       "package \"Data Layer\" as E5  [[psysml:f08d8e27-e89d-40a2-8de2-c51098f76f95 ]]  {\r\n",
       "}\r\n",
       "}\r\n",
       "comp usage \"x \" as E6  <<(T,blue) attribute>> [[psysml:d66666e9-9ac5-42c6-8412-5d0a1bea61ed ]] {\r\n",
       "}\r\n",
       "comp usage \"y \" as E7  <<(T,blue) attribute>> [[psysml:4c5b6854-1a08-45b4-8136-d30683a500ef ]] {\r\n",
       "}\r\n",
       "comp usage \"z \" as E8  <<(T,blue) attribute>> [[psysml:e4676a73-900e-4cfc-90aa-035aeedcaeac ]] {\r\n",
       "}\r\n",
       "}\r\n",
       "E1 ..> E2 [[psysml:2cdf9aea-584d-4dc5-87f2-78933b91772a ]] : <<import>>*\r\n",
       "E3 ..>> E4 [[psysml:ef543251-f685-45ef-999a-4058d8fef1e9 ]] : <<depend>>\r\n",
       "E4 ..>> E5 [[psysml:f939ae72-3488-4da6-b797-5f4561198517 ]] : <<depend>>\r\n",
       "E8 ..>> E6 [[psysml:2a73c336-1214-4cbc-85e1-1f3a30fc1732 ]] : <<depend>>\r\n",
       "E8 ..>> E7 [[psysml:2a73c336-1214-4cbc-85e1-1f3a30fc1732 ]] : <<depend>>\r\n",
       "@enduml\r\n",
       "\n",
       "PlantUML version 1.2020.13(Sat Jun 13 12:26:38 UTC 2020)\n",
       "(EPL source distribution)\n",
       "Java Runtime: OpenJDK Runtime Environment\n",
       "JVM: OpenJDK 64-Bit Server VM\n",
       "Default Encoding: UTF-8\n",
       "Language: en\n",
       "Country: null\n",
       "--></g></svg>"
      ]
     },
     "execution_count": 19,
     "metadata": {},
     "output_type": "execute_result"
    }
   ],
   "source": [
    "%viz --style=\"LR\" --view=\"Interconnection\" \"DependencyTest\""
   ]
  },
  {
   "cell_type": "code",
   "execution_count": 20,
   "id": "53cd19d2",
   "metadata": {
    "execution": {
     "iopub.execute_input": "2022-02-18T10:46:50.733855Z",
     "iopub.status.busy": "2022-02-18T10:46:50.733265Z",
     "iopub.status.idle": "2022-02-18T10:46:50.738501Z",
     "shell.execute_reply": "2022-02-18T10:46:50.738869Z"
    }
   },
   "outputs": [
    {
     "data": {
      "image/svg+xml": [
       "<?xml version=\"1.0\" encoding=\"UTF-8\" standalone=\"no\"?><svg xmlns=\"http://www.w3.org/2000/svg\" xmlns:xlink=\"http://www.w3.org/1999/xlink\" contentScriptType=\"application/ecmascript\" contentStyleType=\"text/css\" height=\"12px\" preserveAspectRatio=\"none\" style=\"width:12px;height:12px;\" version=\"1.1\" viewBox=\"0 0 12 12\" width=\"12px\" zoomAndPan=\"magnify\"><defs/><g><!--MD5=[7aeb398939421629f6affaa4a1a7b125]\n",
       "@startuml\r\n",
       "skinparam ranksep 8\r\n",
       "left to right direction\r\n",
       "skinparam monochrome true\r\n",
       "skinparam classbackgroundcolor white\r\n",
       "skinparam shadowing false\r\n",
       "skinparam wrapWidth 300\r\n",
       "hide circle\r\n",
       "\r\n",
       "@enduml\r\n",
       "\n",
       "PlantUML version 1.2020.13(Sat Jun 13 12:26:38 UTC 2020)\n",
       "(EPL source distribution)\n",
       "Java Runtime: OpenJDK Runtime Environment\n",
       "JVM: OpenJDK 64-Bit Server VM\n",
       "Default Encoding: UTF-8\n",
       "Language: en\n",
       "Country: null\n",
       "--></g></svg>"
      ]
     },
     "execution_count": 20,
     "metadata": {},
     "output_type": "execute_result"
    }
   ],
   "source": [
    "%viz --style=\"LR\" --view=\"Action\" \"DependencyTest\""
   ]
  },
  {
   "cell_type": "code",
   "execution_count": 21,
   "id": "0acc10dd",
   "metadata": {
    "execution": {
     "iopub.execute_input": "2022-02-18T10:46:50.788469Z",
     "iopub.status.busy": "2022-02-18T10:46:50.788229Z",
     "iopub.status.idle": "2022-02-18T10:46:50.792987Z",
     "shell.execute_reply": "2022-02-18T10:46:50.793155Z"
    }
   },
   "outputs": [
    {
     "data": {
      "image/svg+xml": [
       "<?xml version=\"1.0\" encoding=\"UTF-8\" standalone=\"no\"?><svg xmlns=\"http://www.w3.org/2000/svg\" xmlns:xlink=\"http://www.w3.org/1999/xlink\" contentScriptType=\"application/ecmascript\" contentStyleType=\"text/css\" height=\"12px\" preserveAspectRatio=\"none\" style=\"width:12px;height:12px;\" version=\"1.1\" viewBox=\"0 0 12 12\" width=\"12px\" zoomAndPan=\"magnify\"><defs/><g><!--MD5=[238c11ea2002f03115ad6b49a457d50e]\n",
       "@startuml\r\n",
       "skinparam roundcorner 20\r\n",
       "skinparam BoxPadding 20\r\n",
       "skinparam SequenceBoxBackgroundColor #white\r\n",
       "skinparam style strictuml\r\n",
       "skinparam maxMessageSize 100\r\n",
       "left to right direction\r\n",
       "skinparam monochrome true\r\n",
       "skinparam classbackgroundcolor white\r\n",
       "skinparam shadowing false\r\n",
       "skinparam wrapWidth 300\r\n",
       "hide circle\r\n",
       "\r\n",
       "@enduml\r\n",
       "\n",
       "PlantUML version 1.2020.13(Sat Jun 13 12:26:38 UTC 2020)\n",
       "(EPL source distribution)\n",
       "Java Runtime: OpenJDK Runtime Environment\n",
       "JVM: OpenJDK 64-Bit Server VM\n",
       "Default Encoding: UTF-8\n",
       "Language: en\n",
       "Country: null\n",
       "--></g></svg>"
      ]
     },
     "execution_count": 21,
     "metadata": {},
     "output_type": "execute_result"
    }
   ],
   "source": [
    "%viz --style=\"LR\" --view=\"Sequence\" \"DependencyTest\""
   ]
  },
  {
   "cell_type": "code",
   "execution_count": 22,
   "id": "e043f755",
   "metadata": {
    "execution": {
     "iopub.execute_input": "2022-02-18T10:46:50.843465Z",
     "iopub.status.busy": "2022-02-18T10:46:50.843215Z",
     "iopub.status.idle": "2022-02-18T10:46:50.883690Z",
     "shell.execute_reply": "2022-02-18T10:46:50.883255Z"
    }
   },
   "outputs": [
    {
     "data": {
      "image/svg+xml": [
       "<?xml version=\"1.0\" encoding=\"UTF-8\" standalone=\"no\"?><svg xmlns=\"http://www.w3.org/2000/svg\" xmlns:xlink=\"http://www.w3.org/1999/xlink\" contentScriptType=\"application/ecmascript\" contentStyleType=\"text/css\" height=\"392px\" preserveAspectRatio=\"none\" style=\"width:860px;height:392px;\" version=\"1.1\" viewBox=\"0 0 860 392\" width=\"860px\" zoomAndPan=\"magnify\"><defs/><g><!--MD5=[fbc87193dbaf4d95561dea2c320d4a47]\n",
       "cluster E1--><a href=\"psysml:30c793ee-6e7c-4739-835e-bebdfc5bf1ce\" target=\"_top\" title=\"psysml:30c793ee-6e7c-4739-835e-bebdfc5bf1ce\" xlink:actuate=\"onRequest\" xlink:href=\"psysml:30c793ee-6e7c-4739-835e-bebdfc5bf1ce\" xlink:show=\"new\" xlink:title=\"psysml:30c793ee-6e7c-4739-835e-bebdfc5bf1ce\" xlink:type=\"simple\"><polygon fill=\"#FFFFFF\" points=\"16,6,142,6,149,28.2969,838.72,28.2969,838.72,380,16,380,16,6\" style=\"stroke: #000000; stroke-width: 1.5;\"/><line style=\"stroke: #000000; stroke-width: 1.5;\" x1=\"16\" x2=\"149\" y1=\"28.2969\" y2=\"28.2969\"/><text fill=\"#000000\" font-family=\"sans-serif\" font-size=\"14\" font-weight=\"bold\" lengthAdjust=\"spacingAndGlyphs\" textLength=\"120\" x=\"20\" y=\"20.9951\">DependencyTest</text></a><!--MD5=[e4f7fae6ed58524ba242bb0b0d3be6b7]\n",
       "cluster E2--><a href=\"psysml:db7b2f1b-03d7-4942-9142-e18d7a555d76\" target=\"_top\" title=\"psysml:db7b2f1b-03d7-4942-9142-e18d7a555d76\" xlink:actuate=\"onRequest\" xlink:href=\"psysml:db7b2f1b-03d7-4942-9142-e18d7a555d76\" xlink:show=\"new\" xlink:title=\"psysml:db7b2f1b-03d7-4942-9142-e18d7a555d76\" xlink:type=\"simple\"><polygon fill=\"#FFFFFF\" points=\"161.72,65,218.72,65,225.72,87.2969,798.72,87.2969,798.72,205,161.72,205,161.72,65\" style=\"stroke: #000000; stroke-width: 1.5;\"/><line style=\"stroke: #000000; stroke-width: 1.5;\" x1=\"161.72\" x2=\"225.72\" y1=\"87.2969\" y2=\"87.2969\"/><text fill=\"#000000\" font-family=\"sans-serif\" font-size=\"14\" font-weight=\"bold\" lengthAdjust=\"spacingAndGlyphs\" textLength=\"51\" x=\"165.72\" y=\"79.9951\">System</text></a><!--MD5=[60a26617385b1d2d0262a64233df1f8d]\n",
       "class E6--><a href=\"psysml:d66666e9-9ac5-42c6-8412-5d0a1bea61ed\" target=\"_top\" title=\"psysml:d66666e9-9ac5-42c6-8412-5d0a1bea61ed\" xlink:actuate=\"onRequest\" xlink:href=\"psysml:d66666e9-9ac5-42c6-8412-5d0a1bea61ed\" xlink:show=\"new\" xlink:title=\"psysml:d66666e9-9ac5-42c6-8412-5d0a1bea61ed\" xlink:type=\"simple\"><rect fill=\"#FFFFFF\" height=\"45.9375\" id=\"E6\" rx=\"10\" ry=\"10\" style=\"stroke: #383838; stroke-width: 1.5;\" width=\"71\" x=\"466.22\" y=\"310\"/><text fill=\"#000000\" font-family=\"sans-serif\" font-size=\"12\" font-style=\"italic\" lengthAdjust=\"spacingAndGlyphs\" textLength=\"69\" x=\"467.22\" y=\"326.1387\">«attribute»</text><text fill=\"#000000\" font-family=\"sans-serif\" font-size=\"12\" lengthAdjust=\"spacingAndGlyphs\" textLength=\"6\" x=\"496.72\" y=\"340.1074\">x</text><line style=\"stroke: #383838; stroke-width: 1.5;\" x1=\"467.22\" x2=\"536.22\" y1=\"347.9375\" y2=\"347.9375\"/></a><!--MD5=[2156ba9850f5573cc1fc38a6a4b2f02b]\n",
       "class E7--><a href=\"psysml:4c5b6854-1a08-45b4-8136-d30683a500ef\" target=\"_top\" title=\"psysml:4c5b6854-1a08-45b4-8136-d30683a500ef\" xlink:actuate=\"onRequest\" xlink:href=\"psysml:4c5b6854-1a08-45b4-8136-d30683a500ef\" xlink:show=\"new\" xlink:title=\"psysml:4c5b6854-1a08-45b4-8136-d30683a500ef\" xlink:type=\"simple\"><rect fill=\"#FFFFFF\" height=\"45.9375\" id=\"E7\" rx=\"10\" ry=\"10\" style=\"stroke: #383838; stroke-width: 1.5;\" width=\"71\" x=\"466.22\" y=\"229\"/><text fill=\"#000000\" font-family=\"sans-serif\" font-size=\"12\" font-style=\"italic\" lengthAdjust=\"spacingAndGlyphs\" textLength=\"69\" x=\"467.22\" y=\"245.1387\">«attribute»</text><text fill=\"#000000\" font-family=\"sans-serif\" font-size=\"12\" lengthAdjust=\"spacingAndGlyphs\" textLength=\"6\" x=\"496.72\" y=\"259.1074\">y</text><line style=\"stroke: #383838; stroke-width: 1.5;\" x1=\"467.22\" x2=\"536.22\" y1=\"266.9375\" y2=\"266.9375\"/></a><!--MD5=[b9389687b975829384b498ac4b7476b2]\n",
       "class E8--><a href=\"psysml:e4676a73-900e-4cfc-90aa-035aeedcaeac\" target=\"_top\" title=\"psysml:e4676a73-900e-4cfc-90aa-035aeedcaeac\" xlink:actuate=\"onRequest\" xlink:href=\"psysml:e4676a73-900e-4cfc-90aa-035aeedcaeac\" xlink:show=\"new\" xlink:title=\"psysml:e4676a73-900e-4cfc-90aa-035aeedcaeac\" xlink:type=\"simple\"><rect fill=\"#FFFFFF\" height=\"45.9375\" id=\"E8\" rx=\"10\" ry=\"10\" style=\"stroke: #383838; stroke-width: 1.5;\" width=\"71\" x=\"217.72\" y=\"262\"/><text fill=\"#000000\" font-family=\"sans-serif\" font-size=\"12\" font-style=\"italic\" lengthAdjust=\"spacingAndGlyphs\" textLength=\"69\" x=\"218.72\" y=\"278.1387\">«attribute»</text><text fill=\"#000000\" font-family=\"sans-serif\" font-size=\"12\" lengthAdjust=\"spacingAndGlyphs\" textLength=\"5\" x=\"248.72\" y=\"292.1074\">z</text><line style=\"stroke: #383838; stroke-width: 1.5;\" x1=\"218.72\" x2=\"287.72\" y1=\"299.9375\" y2=\"299.9375\"/></a><a href=\"psysml:7d470368-8955-499f-8cd6-0162cc61b017\" target=\"_top\" title=\"psysml:7d470368-8955-499f-8cd6-0162cc61b017\" xlink:actuate=\"onRequest\" xlink:href=\"psysml:7d470368-8955-499f-8cd6-0162cc61b017\" xlink:show=\"new\" xlink:title=\"psysml:7d470368-8955-499f-8cd6-0162cc61b017\" xlink:type=\"simple\"><polygon fill=\"#FFFFFF\" points=\"185.72,108.5,306.72,108.5,313.72,130.7969,320.72,130.7969,320.72,161.0938,185.72,161.0938,185.72,108.5\" style=\"stroke: #000000; stroke-width: 1.5;\"/><line style=\"stroke: #000000; stroke-width: 1.5;\" x1=\"185.72\" x2=\"313.72\" y1=\"130.7969\" y2=\"130.7969\"/><text fill=\"#000000\" font-family=\"sans-serif\" font-size=\"14\" font-weight=\"bold\" lengthAdjust=\"spacingAndGlyphs\" textLength=\"115\" x=\"189.72\" y=\"123.4951\">Application Layer</text></a><a href=\"psysml:db30598f-7650-4b69-b852-4feea02efbf5\" target=\"_top\" title=\"psysml:db30598f-7650-4b69-b852-4feea02efbf5\" xlink:actuate=\"onRequest\" xlink:href=\"psysml:db30598f-7650-4b69-b852-4feea02efbf5\" xlink:show=\"new\" xlink:title=\"psysml:db30598f-7650-4b69-b852-4feea02efbf5\" xlink:type=\"simple\"><polygon fill=\"#FFFFFF\" points=\"446.72,108.5,542.72,108.5,549.72,130.7969,556.72,130.7969,556.72,161.0938,446.72,161.0938,446.72,108.5\" style=\"stroke: #000000; stroke-width: 1.5;\"/><line style=\"stroke: #000000; stroke-width: 1.5;\" x1=\"446.72\" x2=\"549.72\" y1=\"130.7969\" y2=\"130.7969\"/><text fill=\"#000000\" font-family=\"sans-serif\" font-size=\"14\" font-weight=\"bold\" lengthAdjust=\"spacingAndGlyphs\" textLength=\"90\" x=\"450.72\" y=\"123.4951\">Service Layer</text></a><a href=\"psysml:f08d8e27-e89d-40a2-8de2-c51098f76f95\" target=\"_top\" title=\"psysml:f08d8e27-e89d-40a2-8de2-c51098f76f95\" xlink:actuate=\"onRequest\" xlink:href=\"psysml:f08d8e27-e89d-40a2-8de2-c51098f76f95\" xlink:show=\"new\" xlink:title=\"psysml:f08d8e27-e89d-40a2-8de2-c51098f76f95\" xlink:type=\"simple\"><polygon fill=\"#FFFFFF\" points=\"682.72,108.5,760.72,108.5,767.72,130.7969,774.72,130.7969,774.72,161.0938,682.72,161.0938,682.72,108.5\" style=\"stroke: #000000; stroke-width: 1.5;\"/><line style=\"stroke: #000000; stroke-width: 1.5;\" x1=\"682.72\" x2=\"767.72\" y1=\"130.7969\" y2=\"130.7969\"/><text fill=\"#000000\" font-family=\"sans-serif\" font-size=\"14\" font-weight=\"bold\" lengthAdjust=\"spacingAndGlyphs\" textLength=\"72\" x=\"686.72\" y=\"123.4951\">Data Layer</text></a><!--MD5=[1f1cd8e6dd4c1b2ca2aaccc9b9bcea6e]\n",
       "link E1 to E2--><a href=\"psysml:2cdf9aea-584d-4dc5-87f2-78933b91772a\" target=\"_top\" title=\"psysml:2cdf9aea-584d-4dc5-87f2-78933b91772a\" xlink:actuate=\"onRequest\" xlink:href=\"psysml:2cdf9aea-584d-4dc5-87f2-78933b91772a\" xlink:show=\"new\" xlink:title=\"psysml:2cdf9aea-584d-4dc5-87f2-78933b91772a\" xlink:type=\"simple\"><path d=\"M24.88,197 C28.275,197 83.4,197 138.5113,197 C145.4002,197 152.2888,197 159.0763,197 C159.9247,197 160.7715,197 161.6166,197 \" fill=\"none\" id=\"E1-&gt;E2\" style=\"stroke: #383838; stroke-width: 1.0; stroke-dasharray: 7.0,7.0;\"/><polygon fill=\"#383838\" points=\"161.6166,197,152.6166,193,156.6166,197,152.6166,201,161.6166,197\" style=\"stroke: #383838; stroke-width: 1.0;\"/><text fill=\"#000000\" font-family=\"sans-serif\" font-size=\"13\" lengthAdjust=\"spacingAndGlyphs\" textLength=\"65\" x=\"55.72\" y=\"193.0669\">«import»*</text></a><!--MD5=[af87c684e3b0d8be13c1a698a818ef1e]\n",
       "link E3 to E4--><a href=\"psysml:ef543251-f685-45ef-999a-4058d8fef1e9\" target=\"_top\" title=\"psysml:ef543251-f685-45ef-999a-4058d8fef1e9\" xlink:actuate=\"onRequest\" xlink:href=\"psysml:ef543251-f685-45ef-999a-4058d8fef1e9\" xlink:show=\"new\" xlink:title=\"psysml:ef543251-f685-45ef-999a-4058d8fef1e9\" xlink:type=\"simple\"><path d=\"M320.93,135 C357.36,135 402.21,135 438,135 \" fill=\"none\" id=\"E3-&gt;E4\" style=\"stroke: #383838; stroke-width: 1.0; stroke-dasharray: 7.0,7.0;\"/><polygon fill=\"#383838\" points=\"446.42,135,438.42,132,438.42,138,446.42,135\" style=\"stroke: #383838; stroke-width: 1.0;\"/><text fill=\"#000000\" font-family=\"sans-serif\" font-size=\"13\" lengthAdjust=\"spacingAndGlyphs\" textLength=\"64\" x=\"351.72\" y=\"131.0669\">«depend»</text></a><!--MD5=[1b7591eae5389033d8d09a9d6721a717]\n",
       "link E4 to E5--><a href=\"psysml:f939ae72-3488-4da6-b797-5f4561198517\" target=\"_top\" title=\"psysml:f939ae72-3488-4da6-b797-5f4561198517\" xlink:actuate=\"onRequest\" xlink:href=\"psysml:f939ae72-3488-4da6-b797-5f4561198517\" xlink:show=\"new\" xlink:title=\"psysml:f939ae72-3488-4da6-b797-5f4561198517\" xlink:type=\"simple\"><path d=\"M556.9,135 C592.53,135 638.96,135 674.41,135 \" fill=\"none\" id=\"E4-&gt;E5\" style=\"stroke: #383838; stroke-width: 1.0; stroke-dasharray: 7.0,7.0;\"/><polygon fill=\"#383838\" points=\"682.72,135,674.72,132,674.72,138,682.72,135\" style=\"stroke: #383838; stroke-width: 1.0;\"/><text fill=\"#000000\" font-family=\"sans-serif\" font-size=\"13\" lengthAdjust=\"spacingAndGlyphs\" textLength=\"64\" x=\"587.72\" y=\"131.0669\">«depend»</text></a><!--MD5=[c5e8897d989ce984f93528998a7150fe]\n",
       "link E8 to E6--><a href=\"psysml:2a73c336-1214-4cbc-85e1-1f3a30fc1732\" target=\"_top\" title=\"psysml:2a73c336-1214-4cbc-85e1-1f3a30fc1732\" xlink:actuate=\"onRequest\" xlink:href=\"psysml:2a73c336-1214-4cbc-85e1-1f3a30fc1732\" xlink:show=\"new\" xlink:title=\"psysml:2a73c336-1214-4cbc-85e1-1f3a30fc1732\" xlink:type=\"simple\"><path d=\"M288.75,291.72 C333.09,300.36 410.02,315.34 458,324.68 \" fill=\"none\" id=\"E8-&gt;E6\" style=\"stroke: #383838; stroke-width: 1.0; stroke-dasharray: 7.0,7.0;\"/><polygon fill=\"#383838\" points=\"466.02,326.24,458.7416,321.765,457.5938,327.6542,466.02,326.24\" style=\"stroke: #383838; stroke-width: 1.0;\"/><text fill=\"#000000\" font-family=\"sans-serif\" font-size=\"13\" lengthAdjust=\"spacingAndGlyphs\" textLength=\"64\" x=\"351.72\" y=\"301.0669\">«depend»</text></a><!--MD5=[bfa3c8b0d15052fdf50ae9310b491027]\n",
       "link E8 to E7--><a href=\"psysml:2a73c336-1214-4cbc-85e1-1f3a30fc1732\" target=\"_top\" title=\"psysml:2a73c336-1214-4cbc-85e1-1f3a30fc1732\" xlink:actuate=\"onRequest\" xlink:href=\"psysml:2a73c336-1214-4cbc-85e1-1f3a30fc1732\" xlink:show=\"new\" xlink:title=\"psysml:2a73c336-1214-4cbc-85e1-1f3a30fc1732\" xlink:type=\"simple\"><path d=\"M288.75,280.38 C333.09,274.44 410.02,264.14 458,257.72 \" fill=\"none\" id=\"E8-&gt;E7\" style=\"stroke: #383838; stroke-width: 1.0; stroke-dasharray: 7.0,7.0;\"/><polygon fill=\"#383838\" points=\"466.02,256.65,457.6937,254.7336,458.4867,260.681,466.02,256.65\" style=\"stroke: #383838; stroke-width: 1.0;\"/><text fill=\"#000000\" font-family=\"sans-serif\" font-size=\"13\" lengthAdjust=\"spacingAndGlyphs\" textLength=\"64\" x=\"351.72\" y=\"260.0669\">«depend»</text></a><!--MD5=[f270ffc67979b90cfa6e420a2e26cf71]\n",
       "@startuml\r\n",
       "left to right direction\r\n",
       "skinparam monochrome true\r\n",
       "skinparam classbackgroundcolor white\r\n",
       "skinparam shadowing false\r\n",
       "skinparam wrapWidth 300\r\n",
       "hide circle\r\n",
       "\r\n",
       "package \"DependencyTest\" as E1  [[psysml:30c793ee-6e7c-4739-835e-bebdfc5bf1ce ]]  {\r\n",
       "package \"System\" as E2  [[psysml:db7b2f1b-03d7-4942-9142-e18d7a555d76 ]]  {\r\n",
       "package \"Application Layer\" as E3  [[psysml:7d470368-8955-499f-8cd6-0162cc61b017 ]]  {\r\n",
       "}\r\n",
       "package \"Service Layer\" as E4  [[psysml:db30598f-7650-4b69-b852-4feea02efbf5 ]]  {\r\n",
       "}\r\n",
       "package \"Data Layer\" as E5  [[psysml:f08d8e27-e89d-40a2-8de2-c51098f76f95 ]]  {\r\n",
       "}\r\n",
       "}\r\n",
       "comp usage \"x \" as E6  <<(T,blue) attribute>> [[psysml:d66666e9-9ac5-42c6-8412-5d0a1bea61ed ]] {\r\n",
       "}\r\n",
       "comp usage \"y \" as E7  <<(T,blue) attribute>> [[psysml:4c5b6854-1a08-45b4-8136-d30683a500ef ]] {\r\n",
       "}\r\n",
       "comp usage \"z \" as E8  <<(T,blue) attribute>> [[psysml:e4676a73-900e-4cfc-90aa-035aeedcaeac ]] {\r\n",
       "}\r\n",
       "}\r\n",
       "E1 ..> E2 [[psysml:2cdf9aea-584d-4dc5-87f2-78933b91772a ]] : <<import>>*\r\n",
       "E3 ..>> E4 [[psysml:ef543251-f685-45ef-999a-4058d8fef1e9 ]] : <<depend>>\r\n",
       "E4 ..>> E5 [[psysml:f939ae72-3488-4da6-b797-5f4561198517 ]] : <<depend>>\r\n",
       "E8 ..>> E6 [[psysml:2a73c336-1214-4cbc-85e1-1f3a30fc1732 ]] : <<depend>>\r\n",
       "E8 ..>> E7 [[psysml:2a73c336-1214-4cbc-85e1-1f3a30fc1732 ]] : <<depend>>\r\n",
       "@enduml\r\n",
       "\n",
       "PlantUML version 1.2020.13(Sat Jun 13 12:26:38 UTC 2020)\n",
       "(EPL source distribution)\n",
       "Java Runtime: OpenJDK Runtime Environment\n",
       "JVM: OpenJDK 64-Bit Server VM\n",
       "Default Encoding: UTF-8\n",
       "Language: en\n",
       "Country: null\n",
       "--></g></svg>"
      ]
     },
     "execution_count": 22,
     "metadata": {},
     "output_type": "execute_result"
    }
   ],
   "source": [
    "%viz --style=\"LR\" --view=\"MIXED\" \"DependencyTest\""
   ]
  },
  {
   "cell_type": "code",
   "execution_count": 23,
   "id": "df271abb",
   "metadata": {
    "execution": {
     "iopub.execute_input": "2022-02-18T10:46:50.933356Z",
     "iopub.status.busy": "2022-02-18T10:46:50.932842Z",
     "iopub.status.idle": "2022-02-18T10:46:50.980326Z",
     "shell.execute_reply": "2022-02-18T10:46:50.978890Z"
    }
   },
   "outputs": [
    {
     "data": {
      "image/svg+xml": [
       "<?xml version=\"1.0\" encoding=\"UTF-8\" standalone=\"no\"?><svg xmlns=\"http://www.w3.org/2000/svg\" xmlns:xlink=\"http://www.w3.org/1999/xlink\" contentScriptType=\"application/ecmascript\" contentStyleType=\"text/css\" height=\"552px\" preserveAspectRatio=\"none\" style=\"width:536px;height:552px;\" version=\"1.1\" viewBox=\"0 0 536 552\" width=\"536px\" zoomAndPan=\"magnify\"><defs><filter height=\"300%\" id=\"fwdovc3jtra6n\" width=\"300%\" x=\"-1\" y=\"-1\"><feGaussianBlur result=\"blurOut\" stdDeviation=\"2.0\"/><feColorMatrix in=\"blurOut\" result=\"blurOut2\" type=\"matrix\" values=\"0 0 0 0 0 0 0 0 0 0 0 0 0 0 0 0 0 0 .4 0\"/><feOffset dx=\"4.0\" dy=\"4.0\" in=\"blurOut2\" result=\"blurOut3\"/><feBlend in=\"SourceGraphic\" in2=\"blurOut3\" mode=\"normal\"/></filter></defs><g><!--MD5=[fbc87193dbaf4d95561dea2c320d4a47]\n",
       "cluster E1--><a href=\"psysml:30c793ee-6e7c-4739-835e-bebdfc5bf1ce\" target=\"_top\" title=\"psysml:30c793ee-6e7c-4739-835e-bebdfc5bf1ce\" xlink:actuate=\"onRequest\" xlink:href=\"psysml:30c793ee-6e7c-4739-835e-bebdfc5bf1ce\" xlink:show=\"new\" xlink:title=\"psysml:30c793ee-6e7c-4739-835e-bebdfc5bf1ce\" xlink:type=\"simple\"><polygon fill=\"#FFFFFF\" filter=\"url(#fwdovc3jtra6n)\" points=\"16,6,142,6,149,28.2969,514,28.2969,514,540.72,16,540.72,16,6\" style=\"stroke: #000000; stroke-width: 1.5;\"/><line style=\"stroke: #000000; stroke-width: 1.5;\" x1=\"16\" x2=\"149\" y1=\"28.2969\" y2=\"28.2969\"/><text fill=\"#000000\" font-family=\"sans-serif\" font-size=\"14\" font-weight=\"bold\" lengthAdjust=\"spacingAndGlyphs\" textLength=\"120\" x=\"20\" y=\"20.9951\">DependencyTest</text></a><!--MD5=[e4f7fae6ed58524ba242bb0b0d3be6b7]\n",
       "cluster E2--><a href=\"psysml:db7b2f1b-03d7-4942-9142-e18d7a555d76\" target=\"_top\" title=\"psysml:db7b2f1b-03d7-4942-9142-e18d7a555d76\" xlink:actuate=\"onRequest\" xlink:href=\"psysml:db7b2f1b-03d7-4942-9142-e18d7a555d76\" xlink:show=\"new\" xlink:title=\"psysml:db7b2f1b-03d7-4942-9142-e18d7a555d76\" xlink:type=\"simple\"><polygon fill=\"#FFFFFF\" filter=\"url(#fwdovc3jtra6n)\" points=\"271,120.72,328,120.72,335,143.0169,474,143.0169,474,500.72,271,500.72,271,120.72\" style=\"stroke: #000000; stroke-width: 1.5;\"/><line style=\"stroke: #000000; stroke-width: 1.5;\" x1=\"271\" x2=\"335\" y1=\"143.0169\" y2=\"143.0169\"/><text fill=\"#000000\" font-family=\"sans-serif\" font-size=\"14\" font-weight=\"bold\" lengthAdjust=\"spacingAndGlyphs\" textLength=\"51\" x=\"275\" y=\"135.7151\">System</text></a><!--MD5=[60a26617385b1d2d0262a64233df1f8d]\n",
       "class E6--><a href=\"psysml:d66666e9-9ac5-42c6-8412-5d0a1bea61ed\" target=\"_top\" title=\"psysml:d66666e9-9ac5-42c6-8412-5d0a1bea61ed\" xlink:actuate=\"onRequest\" xlink:href=\"psysml:d66666e9-9ac5-42c6-8412-5d0a1bea61ed\" xlink:show=\"new\" xlink:title=\"psysml:d66666e9-9ac5-42c6-8412-5d0a1bea61ed\" xlink:type=\"simple\"><rect fill=\"#FEFECE\" filter=\"url(#fwdovc3jtra6n)\" height=\"45.9375\" id=\"E6\" rx=\"10\" ry=\"10\" style=\"stroke: #A80036; stroke-width: 1.5;\" width=\"71\" x=\"40.5\" y=\"297.22\"/><text fill=\"#000000\" font-family=\"sans-serif\" font-size=\"12\" font-style=\"italic\" lengthAdjust=\"spacingAndGlyphs\" textLength=\"69\" x=\"41.5\" y=\"313.3587\">«attribute»</text><text fill=\"#000000\" font-family=\"sans-serif\" font-size=\"12\" lengthAdjust=\"spacingAndGlyphs\" textLength=\"6\" x=\"71\" y=\"327.3274\">x</text><line style=\"stroke: #A80036; stroke-width: 1.5;\" x1=\"41.5\" x2=\"110.5\" y1=\"335.1575\" y2=\"335.1575\"/></a><!--MD5=[2156ba9850f5573cc1fc38a6a4b2f02b]\n",
       "class E7--><a href=\"psysml:4c5b6854-1a08-45b4-8136-d30683a500ef\" target=\"_top\" title=\"psysml:4c5b6854-1a08-45b4-8136-d30683a500ef\" xlink:actuate=\"onRequest\" xlink:href=\"psysml:4c5b6854-1a08-45b4-8136-d30683a500ef\" xlink:show=\"new\" xlink:title=\"psysml:4c5b6854-1a08-45b4-8136-d30683a500ef\" xlink:type=\"simple\"><rect fill=\"#FEFECE\" filter=\"url(#fwdovc3jtra6n)\" height=\"45.9375\" id=\"E7\" rx=\"10\" ry=\"10\" style=\"stroke: #A80036; stroke-width: 1.5;\" width=\"71\" x=\"146.5\" y=\"297.22\"/><text fill=\"#000000\" font-family=\"sans-serif\" font-size=\"12\" font-style=\"italic\" lengthAdjust=\"spacingAndGlyphs\" textLength=\"69\" x=\"147.5\" y=\"313.3587\">«attribute»</text><text fill=\"#000000\" font-family=\"sans-serif\" font-size=\"12\" lengthAdjust=\"spacingAndGlyphs\" textLength=\"6\" x=\"177\" y=\"327.3274\">y</text><line style=\"stroke: #A80036; stroke-width: 1.5;\" x1=\"147.5\" x2=\"216.5\" y1=\"335.1575\" y2=\"335.1575\"/></a><!--MD5=[b9389687b975829384b498ac4b7476b2]\n",
       "class E8--><a href=\"psysml:e4676a73-900e-4cfc-90aa-035aeedcaeac\" target=\"_top\" title=\"psysml:e4676a73-900e-4cfc-90aa-035aeedcaeac\" xlink:actuate=\"onRequest\" xlink:href=\"psysml:e4676a73-900e-4cfc-90aa-035aeedcaeac\" xlink:show=\"new\" xlink:title=\"psysml:e4676a73-900e-4cfc-90aa-035aeedcaeac\" xlink:type=\"simple\"><rect fill=\"#FEFECE\" filter=\"url(#fwdovc3jtra6n)\" height=\"45.9375\" id=\"E8\" rx=\"10\" ry=\"10\" style=\"stroke: #A80036; stroke-width: 1.5;\" width=\"71\" x=\"92.5\" y=\"167.22\"/><text fill=\"#000000\" font-family=\"sans-serif\" font-size=\"12\" font-style=\"italic\" lengthAdjust=\"spacingAndGlyphs\" textLength=\"69\" x=\"93.5\" y=\"183.3587\">«attribute»</text><text fill=\"#000000\" font-family=\"sans-serif\" font-size=\"12\" lengthAdjust=\"spacingAndGlyphs\" textLength=\"5\" x=\"123.5\" y=\"197.3274\">z</text><line style=\"stroke: #A80036; stroke-width: 1.5;\" x1=\"93.5\" x2=\"162.5\" y1=\"205.1575\" y2=\"205.1575\"/></a><a href=\"psysml:7d470368-8955-499f-8cd6-0162cc61b017\" target=\"_top\" title=\"psysml:7d470368-8955-499f-8cd6-0162cc61b017\" xlink:actuate=\"onRequest\" xlink:href=\"psysml:7d470368-8955-499f-8cd6-0162cc61b017\" xlink:show=\"new\" xlink:title=\"psysml:7d470368-8955-499f-8cd6-0162cc61b017\" xlink:type=\"simple\"><polygon fill=\"#FFFFFF\" filter=\"url(#fwdovc3jtra6n)\" points=\"314.5,163.72,435.5,163.72,442.5,186.0169,449.5,186.0169,449.5,216.3138,314.5,216.3138,314.5,163.72\" style=\"stroke: #000000; stroke-width: 1.5;\"/><line style=\"stroke: #000000; stroke-width: 1.5;\" x1=\"314.5\" x2=\"442.5\" y1=\"186.0169\" y2=\"186.0169\"/><text fill=\"#000000\" font-family=\"sans-serif\" font-size=\"14\" font-weight=\"bold\" lengthAdjust=\"spacingAndGlyphs\" textLength=\"115\" x=\"318.5\" y=\"178.7151\">Application Layer</text></a><a href=\"psysml:db30598f-7650-4b69-b852-4feea02efbf5\" target=\"_top\" title=\"psysml:db30598f-7650-4b69-b852-4feea02efbf5\" xlink:actuate=\"onRequest\" xlink:href=\"psysml:db30598f-7650-4b69-b852-4feea02efbf5\" xlink:show=\"new\" xlink:title=\"psysml:db30598f-7650-4b69-b852-4feea02efbf5\" xlink:type=\"simple\"><polygon fill=\"#FFFFFF\" filter=\"url(#fwdovc3jtra6n)\" points=\"327,293.72,423,293.72,430,316.0169,437,316.0169,437,346.3138,327,346.3138,327,293.72\" style=\"stroke: #000000; stroke-width: 1.5;\"/><line style=\"stroke: #000000; stroke-width: 1.5;\" x1=\"327\" x2=\"430\" y1=\"316.0169\" y2=\"316.0169\"/><text fill=\"#000000\" font-family=\"sans-serif\" font-size=\"14\" font-weight=\"bold\" lengthAdjust=\"spacingAndGlyphs\" textLength=\"90\" x=\"331\" y=\"308.7151\">Service Layer</text></a><a href=\"psysml:f08d8e27-e89d-40a2-8de2-c51098f76f95\" target=\"_top\" title=\"psysml:f08d8e27-e89d-40a2-8de2-c51098f76f95\" xlink:actuate=\"onRequest\" xlink:href=\"psysml:f08d8e27-e89d-40a2-8de2-c51098f76f95\" xlink:show=\"new\" xlink:title=\"psysml:f08d8e27-e89d-40a2-8de2-c51098f76f95\" xlink:type=\"simple\"><polygon fill=\"#FFFFFF\" filter=\"url(#fwdovc3jtra6n)\" points=\"336,423.72,414,423.72,421,446.0169,428,446.0169,428,476.3138,336,476.3138,336,423.72\" style=\"stroke: #000000; stroke-width: 1.5;\"/><line style=\"stroke: #000000; stroke-width: 1.5;\" x1=\"336\" x2=\"421\" y1=\"446.0169\" y2=\"446.0169\"/><text fill=\"#000000\" font-family=\"sans-serif\" font-size=\"14\" font-weight=\"bold\" lengthAdjust=\"spacingAndGlyphs\" textLength=\"72\" x=\"340\" y=\"438.7151\">Data Layer</text></a><!--MD5=[1f1cd8e6dd4c1b2ca2aaccc9b9bcea6e]\n",
       "link E1 to E2--><a href=\"psysml:2cdf9aea-584d-4dc5-87f2-78933b91772a\" target=\"_top\" title=\"psysml:2cdf9aea-584d-4dc5-87f2-78933b91772a\" xlink:actuate=\"onRequest\" xlink:href=\"psysml:2cdf9aea-584d-4dc5-87f2-78933b91772a\" xlink:show=\"new\" xlink:title=\"psysml:2cdf9aea-584d-4dc5-87f2-78933b91772a\" xlink:type=\"simple\"><path d=\"M279,33.83 C279,36.15 279,73.83 279,111.5 C279,113.8544 279,116.2087 279,118.5544 C279,119.1408 279,119.7267 279,120.3119 \" fill=\"none\" id=\"E1-&gt;E2\" style=\"stroke: #A80036; stroke-width: 1.0; stroke-dasharray: 7.0,7.0;\"/><polygon fill=\"#A80036\" points=\"279,120.3119,283,111.3119,279,115.3119,275,111.3119,279,120.3119\" style=\"stroke: #A80036; stroke-width: 1.0;\"/><text fill=\"#000000\" font-family=\"sans-serif\" font-size=\"13\" lengthAdjust=\"spacingAndGlyphs\" textLength=\"65\" x=\"280\" y=\"76.7869\">«import»*</text></a><!--MD5=[af87c684e3b0d8be13c1a698a818ef1e]\n",
       "link E3 to E4--><a href=\"psysml:ef543251-f685-45ef-999a-4058d8fef1e9\" target=\"_top\" title=\"psysml:ef543251-f685-45ef-999a-4058d8fef1e9\" xlink:actuate=\"onRequest\" xlink:href=\"psysml:ef543251-f685-45ef-999a-4058d8fef1e9\" xlink:show=\"new\" xlink:title=\"psysml:ef543251-f685-45ef-999a-4058d8fef1e9\" xlink:type=\"simple\"><path d=\"M382,216.82 C382,236.52 382,263.94 382,285.45 \" fill=\"none\" id=\"E3-&gt;E4\" style=\"stroke: #A80036; stroke-width: 1.0; stroke-dasharray: 7.0,7.0;\"/><polygon fill=\"#A80036\" points=\"382,293.67,385,285.67,379,285.67,382,293.67\" style=\"stroke: #A80036; stroke-width: 1.0;\"/><text fill=\"#000000\" font-family=\"sans-serif\" font-size=\"13\" lengthAdjust=\"spacingAndGlyphs\" textLength=\"64\" x=\"383\" y=\"259.7869\">«depend»</text></a><!--MD5=[1b7591eae5389033d8d09a9d6721a717]\n",
       "link E4 to E5--><a href=\"psysml:f939ae72-3488-4da6-b797-5f4561198517\" target=\"_top\" title=\"psysml:f939ae72-3488-4da6-b797-5f4561198517\" xlink:actuate=\"onRequest\" xlink:href=\"psysml:f939ae72-3488-4da6-b797-5f4561198517\" xlink:show=\"new\" xlink:title=\"psysml:f939ae72-3488-4da6-b797-5f4561198517\" xlink:type=\"simple\"><path d=\"M382,346.82 C382,366.52 382,393.94 382,415.45 \" fill=\"none\" id=\"E4-&gt;E5\" style=\"stroke: #A80036; stroke-width: 1.0; stroke-dasharray: 7.0,7.0;\"/><polygon fill=\"#A80036\" points=\"382,423.67,385,415.67,379,415.67,382,423.67\" style=\"stroke: #A80036; stroke-width: 1.0;\"/><text fill=\"#000000\" font-family=\"sans-serif\" font-size=\"13\" lengthAdjust=\"spacingAndGlyphs\" textLength=\"64\" x=\"383\" y=\"389.7869\">«depend»</text></a><!--MD5=[c5e8897d989ce984f93528998a7150fe]\n",
       "link E8 to E6--><a href=\"psysml:2a73c336-1214-4cbc-85e1-1f3a30fc1732\" target=\"_top\" title=\"psysml:2a73c336-1214-4cbc-85e1-1f3a30fc1732\" xlink:actuate=\"onRequest\" xlink:href=\"psysml:2a73c336-1214-4cbc-85e1-1f3a30fc1732\" xlink:show=\"new\" xlink:title=\"psysml:2a73c336-1214-4cbc-85e1-1f3a30fc1732\" xlink:type=\"simple\"><path d=\"M97.42,213.32 C87.35,222.4 77.37,233.83 72,246.72 C66.5,259.92 66.66,275.66 68.54,289.1 \" fill=\"none\" id=\"E8-&gt;E6\" style=\"stroke: #A80036; stroke-width: 1.0; stroke-dasharray: 7.0,7.0;\"/><polygon fill=\"#A80036\" points=\"69.9,297.12,71.517,288.7304,65.6018,289.7359,69.9,297.12\" style=\"stroke: #A80036; stroke-width: 1.0;\"/><text fill=\"#000000\" font-family=\"sans-serif\" font-size=\"13\" lengthAdjust=\"spacingAndGlyphs\" textLength=\"64\" x=\"73\" y=\"259.7869\">«depend»</text></a><!--MD5=[bfa3c8b0d15052fdf50ae9310b491027]\n",
       "link E8 to E7--><a href=\"psysml:2a73c336-1214-4cbc-85e1-1f3a30fc1732\" target=\"_top\" title=\"psysml:2a73c336-1214-4cbc-85e1-1f3a30fc1732\" xlink:actuate=\"onRequest\" xlink:href=\"psysml:2a73c336-1214-4cbc-85e1-1f3a30fc1732\" xlink:show=\"new\" xlink:title=\"psysml:2a73c336-1214-4cbc-85e1-1f3a30fc1732\" xlink:type=\"simple\"><path d=\"M137.28,213.22 C146.17,234.29 159.64,266.22 169.47,289.53 \" fill=\"none\" id=\"E8-&gt;E7\" style=\"stroke: #A80036; stroke-width: 1.0; stroke-dasharray: 7.0,7.0;\"/><polygon fill=\"#A80036\" points=\"172.66,297.07,172.3241,288.5326,166.7933,290.8585,172.66,297.07\" style=\"stroke: #A80036; stroke-width: 1.0;\"/><text fill=\"#000000\" font-family=\"sans-serif\" font-size=\"13\" lengthAdjust=\"spacingAndGlyphs\" textLength=\"64\" x=\"159\" y=\"259.7869\">«depend»</text></a><!--MD5=[bd8f5cb61ca2b83905e977773b00cfd4]\n",
       "@startuml\r\n",
       "skinparam wrapWidth 300\r\n",
       "hide circle\r\n",
       "\r\n",
       "package \"DependencyTest\" as E1  [[psysml:30c793ee-6e7c-4739-835e-bebdfc5bf1ce ]]  {\r\n",
       "package \"System\" as E2  [[psysml:db7b2f1b-03d7-4942-9142-e18d7a555d76 ]]  {\r\n",
       "package \"Application Layer\" as E3  [[psysml:7d470368-8955-499f-8cd6-0162cc61b017 ]]  {\r\n",
       "}\r\n",
       "package \"Service Layer\" as E4  [[psysml:db30598f-7650-4b69-b852-4feea02efbf5 ]]  {\r\n",
       "}\r\n",
       "package \"Data Layer\" as E5  [[psysml:f08d8e27-e89d-40a2-8de2-c51098f76f95 ]]  {\r\n",
       "}\r\n",
       "}\r\n",
       "comp usage \"x \" as E6  <<(T,blue) attribute>> [[psysml:d66666e9-9ac5-42c6-8412-5d0a1bea61ed ]] {\r\n",
       "}\r\n",
       "comp usage \"y \" as E7  <<(T,blue) attribute>> [[psysml:4c5b6854-1a08-45b4-8136-d30683a500ef ]] {\r\n",
       "}\r\n",
       "comp usage \"z \" as E8  <<(T,blue) attribute>> [[psysml:e4676a73-900e-4cfc-90aa-035aeedcaeac ]] {\r\n",
       "}\r\n",
       "}\r\n",
       "E1 ..> E2 [[psysml:2cdf9aea-584d-4dc5-87f2-78933b91772a ]] : <<import>>*\r\n",
       "E3 ..>> E4 [[psysml:ef543251-f685-45ef-999a-4058d8fef1e9 ]] : <<depend>>\r\n",
       "E4 ..>> E5 [[psysml:f939ae72-3488-4da6-b797-5f4561198517 ]] : <<depend>>\r\n",
       "E8 ..>> E6 [[psysml:2a73c336-1214-4cbc-85e1-1f3a30fc1732 ]] : <<depend>>\r\n",
       "E8 ..>> E7 [[psysml:2a73c336-1214-4cbc-85e1-1f3a30fc1732 ]] : <<depend>>\r\n",
       "@enduml\r\n",
       "\n",
       "PlantUML version 1.2020.13(Sat Jun 13 12:26:38 UTC 2020)\n",
       "(EPL source distribution)\n",
       "Java Runtime: OpenJDK Runtime Environment\n",
       "JVM: OpenJDK 64-Bit Server VM\n",
       "Default Encoding: UTF-8\n",
       "Language: en\n",
       "Country: null\n",
       "--></g></svg>"
      ]
     },
     "execution_count": 23,
     "metadata": {},
     "output_type": "execute_result"
    }
   ],
   "source": [
    "%viz --style=\"STDCOLOR\" --view=\"Default\" \"DependencyTest\""
   ]
  },
  {
   "cell_type": "code",
   "execution_count": 24,
   "id": "718ef29f",
   "metadata": {
    "execution": {
     "iopub.execute_input": "2022-02-18T10:46:51.029643Z",
     "iopub.status.busy": "2022-02-18T10:46:51.029218Z",
     "iopub.status.idle": "2022-02-18T10:46:51.064611Z",
     "shell.execute_reply": "2022-02-18T10:46:51.064257Z"
    }
   },
   "outputs": [
    {
     "data": {
      "image/svg+xml": [
       "<?xml version=\"1.0\" encoding=\"UTF-8\" standalone=\"no\"?><svg xmlns=\"http://www.w3.org/2000/svg\" xmlns:xlink=\"http://www.w3.org/1999/xlink\" contentScriptType=\"application/ecmascript\" contentStyleType=\"text/css\" height=\"552px\" preserveAspectRatio=\"none\" style=\"width:536px;height:552px;\" version=\"1.1\" viewBox=\"0 0 536 552\" width=\"536px\" zoomAndPan=\"magnify\"><defs><filter height=\"300%\" id=\"fwdovc3jtra6n\" width=\"300%\" x=\"-1\" y=\"-1\"><feGaussianBlur result=\"blurOut\" stdDeviation=\"2.0\"/><feColorMatrix in=\"blurOut\" result=\"blurOut2\" type=\"matrix\" values=\"0 0 0 0 0 0 0 0 0 0 0 0 0 0 0 0 0 0 .4 0\"/><feOffset dx=\"4.0\" dy=\"4.0\" in=\"blurOut2\" result=\"blurOut3\"/><feBlend in=\"SourceGraphic\" in2=\"blurOut3\" mode=\"normal\"/></filter></defs><g><!--MD5=[fbc87193dbaf4d95561dea2c320d4a47]\n",
       "cluster E1--><a href=\"psysml:30c793ee-6e7c-4739-835e-bebdfc5bf1ce\" target=\"_top\" title=\"psysml:30c793ee-6e7c-4739-835e-bebdfc5bf1ce\" xlink:actuate=\"onRequest\" xlink:href=\"psysml:30c793ee-6e7c-4739-835e-bebdfc5bf1ce\" xlink:show=\"new\" xlink:title=\"psysml:30c793ee-6e7c-4739-835e-bebdfc5bf1ce\" xlink:type=\"simple\"><polygon fill=\"#FFFFFF\" filter=\"url(#fwdovc3jtra6n)\" points=\"16,6,142,6,149,28.2969,514,28.2969,514,540.72,16,540.72,16,6\" style=\"stroke: #000000; stroke-width: 1.5;\"/><line style=\"stroke: #000000; stroke-width: 1.5;\" x1=\"16\" x2=\"149\" y1=\"28.2969\" y2=\"28.2969\"/><text fill=\"#000000\" font-family=\"sans-serif\" font-size=\"14\" font-weight=\"bold\" lengthAdjust=\"spacingAndGlyphs\" textLength=\"120\" x=\"20\" y=\"20.9951\">DependencyTest</text></a><!--MD5=[e4f7fae6ed58524ba242bb0b0d3be6b7]\n",
       "cluster E2--><a href=\"psysml:db7b2f1b-03d7-4942-9142-e18d7a555d76\" target=\"_top\" title=\"psysml:db7b2f1b-03d7-4942-9142-e18d7a555d76\" xlink:actuate=\"onRequest\" xlink:href=\"psysml:db7b2f1b-03d7-4942-9142-e18d7a555d76\" xlink:show=\"new\" xlink:title=\"psysml:db7b2f1b-03d7-4942-9142-e18d7a555d76\" xlink:type=\"simple\"><polygon fill=\"#FFFFFF\" filter=\"url(#fwdovc3jtra6n)\" points=\"271,120.72,328,120.72,335,143.0169,474,143.0169,474,500.72,271,500.72,271,120.72\" style=\"stroke: #000000; stroke-width: 1.5;\"/><line style=\"stroke: #000000; stroke-width: 1.5;\" x1=\"271\" x2=\"335\" y1=\"143.0169\" y2=\"143.0169\"/><text fill=\"#000000\" font-family=\"sans-serif\" font-size=\"14\" font-weight=\"bold\" lengthAdjust=\"spacingAndGlyphs\" textLength=\"51\" x=\"275\" y=\"135.7151\">System</text></a><!--MD5=[60a26617385b1d2d0262a64233df1f8d]\n",
       "class E6--><a href=\"psysml:d66666e9-9ac5-42c6-8412-5d0a1bea61ed\" target=\"_top\" title=\"psysml:d66666e9-9ac5-42c6-8412-5d0a1bea61ed\" xlink:actuate=\"onRequest\" xlink:href=\"psysml:d66666e9-9ac5-42c6-8412-5d0a1bea61ed\" xlink:show=\"new\" xlink:title=\"psysml:d66666e9-9ac5-42c6-8412-5d0a1bea61ed\" xlink:type=\"simple\"><rect fill=\"#FEFECE\" filter=\"url(#fwdovc3jtra6n)\" height=\"45.9375\" id=\"E6\" rx=\"10\" ry=\"10\" style=\"stroke: #A80036; stroke-width: 1.5;\" width=\"71\" x=\"40.5\" y=\"297.22\"/><text fill=\"#000000\" font-family=\"sans-serif\" font-size=\"12\" font-style=\"italic\" lengthAdjust=\"spacingAndGlyphs\" textLength=\"69\" x=\"41.5\" y=\"313.3587\">«attribute»</text><text fill=\"#000000\" font-family=\"sans-serif\" font-size=\"12\" lengthAdjust=\"spacingAndGlyphs\" textLength=\"6\" x=\"71\" y=\"327.3274\">x</text><line style=\"stroke: #A80036; stroke-width: 1.5;\" x1=\"41.5\" x2=\"110.5\" y1=\"335.1575\" y2=\"335.1575\"/></a><!--MD5=[2156ba9850f5573cc1fc38a6a4b2f02b]\n",
       "class E7--><a href=\"psysml:4c5b6854-1a08-45b4-8136-d30683a500ef\" target=\"_top\" title=\"psysml:4c5b6854-1a08-45b4-8136-d30683a500ef\" xlink:actuate=\"onRequest\" xlink:href=\"psysml:4c5b6854-1a08-45b4-8136-d30683a500ef\" xlink:show=\"new\" xlink:title=\"psysml:4c5b6854-1a08-45b4-8136-d30683a500ef\" xlink:type=\"simple\"><rect fill=\"#FEFECE\" filter=\"url(#fwdovc3jtra6n)\" height=\"45.9375\" id=\"E7\" rx=\"10\" ry=\"10\" style=\"stroke: #A80036; stroke-width: 1.5;\" width=\"71\" x=\"146.5\" y=\"297.22\"/><text fill=\"#000000\" font-family=\"sans-serif\" font-size=\"12\" font-style=\"italic\" lengthAdjust=\"spacingAndGlyphs\" textLength=\"69\" x=\"147.5\" y=\"313.3587\">«attribute»</text><text fill=\"#000000\" font-family=\"sans-serif\" font-size=\"12\" lengthAdjust=\"spacingAndGlyphs\" textLength=\"6\" x=\"177\" y=\"327.3274\">y</text><line style=\"stroke: #A80036; stroke-width: 1.5;\" x1=\"147.5\" x2=\"216.5\" y1=\"335.1575\" y2=\"335.1575\"/></a><!--MD5=[b9389687b975829384b498ac4b7476b2]\n",
       "class E8--><a href=\"psysml:e4676a73-900e-4cfc-90aa-035aeedcaeac\" target=\"_top\" title=\"psysml:e4676a73-900e-4cfc-90aa-035aeedcaeac\" xlink:actuate=\"onRequest\" xlink:href=\"psysml:e4676a73-900e-4cfc-90aa-035aeedcaeac\" xlink:show=\"new\" xlink:title=\"psysml:e4676a73-900e-4cfc-90aa-035aeedcaeac\" xlink:type=\"simple\"><rect fill=\"#FEFECE\" filter=\"url(#fwdovc3jtra6n)\" height=\"45.9375\" id=\"E8\" rx=\"10\" ry=\"10\" style=\"stroke: #A80036; stroke-width: 1.5;\" width=\"71\" x=\"92.5\" y=\"167.22\"/><text fill=\"#000000\" font-family=\"sans-serif\" font-size=\"12\" font-style=\"italic\" lengthAdjust=\"spacingAndGlyphs\" textLength=\"69\" x=\"93.5\" y=\"183.3587\">«attribute»</text><text fill=\"#000000\" font-family=\"sans-serif\" font-size=\"12\" lengthAdjust=\"spacingAndGlyphs\" textLength=\"5\" x=\"123.5\" y=\"197.3274\">z</text><line style=\"stroke: #A80036; stroke-width: 1.5;\" x1=\"93.5\" x2=\"162.5\" y1=\"205.1575\" y2=\"205.1575\"/></a><a href=\"psysml:7d470368-8955-499f-8cd6-0162cc61b017\" target=\"_top\" title=\"psysml:7d470368-8955-499f-8cd6-0162cc61b017\" xlink:actuate=\"onRequest\" xlink:href=\"psysml:7d470368-8955-499f-8cd6-0162cc61b017\" xlink:show=\"new\" xlink:title=\"psysml:7d470368-8955-499f-8cd6-0162cc61b017\" xlink:type=\"simple\"><polygon fill=\"#FFFFFF\" filter=\"url(#fwdovc3jtra6n)\" points=\"314.5,163.72,435.5,163.72,442.5,186.0169,449.5,186.0169,449.5,216.3138,314.5,216.3138,314.5,163.72\" style=\"stroke: #000000; stroke-width: 1.5;\"/><line style=\"stroke: #000000; stroke-width: 1.5;\" x1=\"314.5\" x2=\"442.5\" y1=\"186.0169\" y2=\"186.0169\"/><text fill=\"#000000\" font-family=\"sans-serif\" font-size=\"14\" font-weight=\"bold\" lengthAdjust=\"spacingAndGlyphs\" textLength=\"115\" x=\"318.5\" y=\"178.7151\">Application Layer</text></a><a href=\"psysml:db30598f-7650-4b69-b852-4feea02efbf5\" target=\"_top\" title=\"psysml:db30598f-7650-4b69-b852-4feea02efbf5\" xlink:actuate=\"onRequest\" xlink:href=\"psysml:db30598f-7650-4b69-b852-4feea02efbf5\" xlink:show=\"new\" xlink:title=\"psysml:db30598f-7650-4b69-b852-4feea02efbf5\" xlink:type=\"simple\"><polygon fill=\"#FFFFFF\" filter=\"url(#fwdovc3jtra6n)\" points=\"327,293.72,423,293.72,430,316.0169,437,316.0169,437,346.3138,327,346.3138,327,293.72\" style=\"stroke: #000000; stroke-width: 1.5;\"/><line style=\"stroke: #000000; stroke-width: 1.5;\" x1=\"327\" x2=\"430\" y1=\"316.0169\" y2=\"316.0169\"/><text fill=\"#000000\" font-family=\"sans-serif\" font-size=\"14\" font-weight=\"bold\" lengthAdjust=\"spacingAndGlyphs\" textLength=\"90\" x=\"331\" y=\"308.7151\">Service Layer</text></a><a href=\"psysml:f08d8e27-e89d-40a2-8de2-c51098f76f95\" target=\"_top\" title=\"psysml:f08d8e27-e89d-40a2-8de2-c51098f76f95\" xlink:actuate=\"onRequest\" xlink:href=\"psysml:f08d8e27-e89d-40a2-8de2-c51098f76f95\" xlink:show=\"new\" xlink:title=\"psysml:f08d8e27-e89d-40a2-8de2-c51098f76f95\" xlink:type=\"simple\"><polygon fill=\"#FFFFFF\" filter=\"url(#fwdovc3jtra6n)\" points=\"336,423.72,414,423.72,421,446.0169,428,446.0169,428,476.3138,336,476.3138,336,423.72\" style=\"stroke: #000000; stroke-width: 1.5;\"/><line style=\"stroke: #000000; stroke-width: 1.5;\" x1=\"336\" x2=\"421\" y1=\"446.0169\" y2=\"446.0169\"/><text fill=\"#000000\" font-family=\"sans-serif\" font-size=\"14\" font-weight=\"bold\" lengthAdjust=\"spacingAndGlyphs\" textLength=\"72\" x=\"340\" y=\"438.7151\">Data Layer</text></a><!--MD5=[1f1cd8e6dd4c1b2ca2aaccc9b9bcea6e]\n",
       "link E1 to E2--><a href=\"psysml:2cdf9aea-584d-4dc5-87f2-78933b91772a\" target=\"_top\" title=\"psysml:2cdf9aea-584d-4dc5-87f2-78933b91772a\" xlink:actuate=\"onRequest\" xlink:href=\"psysml:2cdf9aea-584d-4dc5-87f2-78933b91772a\" xlink:show=\"new\" xlink:title=\"psysml:2cdf9aea-584d-4dc5-87f2-78933b91772a\" xlink:type=\"simple\"><path d=\"M279,33.83 C279,36.15 279,73.83 279,111.5 C279,113.8544 279,116.2087 279,118.5544 C279,119.1408 279,119.7267 279,120.3119 \" fill=\"none\" id=\"E1-&gt;E2\" style=\"stroke: #A80036; stroke-width: 1.0; stroke-dasharray: 7.0,7.0;\"/><polygon fill=\"#A80036\" points=\"279,120.3119,283,111.3119,279,115.3119,275,111.3119,279,120.3119\" style=\"stroke: #A80036; stroke-width: 1.0;\"/><text fill=\"#000000\" font-family=\"sans-serif\" font-size=\"13\" lengthAdjust=\"spacingAndGlyphs\" textLength=\"65\" x=\"280\" y=\"76.7869\">«import»*</text></a><!--MD5=[af87c684e3b0d8be13c1a698a818ef1e]\n",
       "link E3 to E4--><a href=\"psysml:ef543251-f685-45ef-999a-4058d8fef1e9\" target=\"_top\" title=\"psysml:ef543251-f685-45ef-999a-4058d8fef1e9\" xlink:actuate=\"onRequest\" xlink:href=\"psysml:ef543251-f685-45ef-999a-4058d8fef1e9\" xlink:show=\"new\" xlink:title=\"psysml:ef543251-f685-45ef-999a-4058d8fef1e9\" xlink:type=\"simple\"><path d=\"M382,216.82 C382,236.52 382,263.94 382,285.45 \" fill=\"none\" id=\"E3-&gt;E4\" style=\"stroke: #A80036; stroke-width: 1.0; stroke-dasharray: 7.0,7.0;\"/><polygon fill=\"#A80036\" points=\"382,293.67,385,285.67,379,285.67,382,293.67\" style=\"stroke: #A80036; stroke-width: 1.0;\"/><text fill=\"#000000\" font-family=\"sans-serif\" font-size=\"13\" lengthAdjust=\"spacingAndGlyphs\" textLength=\"64\" x=\"383\" y=\"259.7869\">«depend»</text></a><!--MD5=[1b7591eae5389033d8d09a9d6721a717]\n",
       "link E4 to E5--><a href=\"psysml:f939ae72-3488-4da6-b797-5f4561198517\" target=\"_top\" title=\"psysml:f939ae72-3488-4da6-b797-5f4561198517\" xlink:actuate=\"onRequest\" xlink:href=\"psysml:f939ae72-3488-4da6-b797-5f4561198517\" xlink:show=\"new\" xlink:title=\"psysml:f939ae72-3488-4da6-b797-5f4561198517\" xlink:type=\"simple\"><path d=\"M382,346.82 C382,366.52 382,393.94 382,415.45 \" fill=\"none\" id=\"E4-&gt;E5\" style=\"stroke: #A80036; stroke-width: 1.0; stroke-dasharray: 7.0,7.0;\"/><polygon fill=\"#A80036\" points=\"382,423.67,385,415.67,379,415.67,382,423.67\" style=\"stroke: #A80036; stroke-width: 1.0;\"/><text fill=\"#000000\" font-family=\"sans-serif\" font-size=\"13\" lengthAdjust=\"spacingAndGlyphs\" textLength=\"64\" x=\"383\" y=\"389.7869\">«depend»</text></a><!--MD5=[c5e8897d989ce984f93528998a7150fe]\n",
       "link E8 to E6--><a href=\"psysml:2a73c336-1214-4cbc-85e1-1f3a30fc1732\" target=\"_top\" title=\"psysml:2a73c336-1214-4cbc-85e1-1f3a30fc1732\" xlink:actuate=\"onRequest\" xlink:href=\"psysml:2a73c336-1214-4cbc-85e1-1f3a30fc1732\" xlink:show=\"new\" xlink:title=\"psysml:2a73c336-1214-4cbc-85e1-1f3a30fc1732\" xlink:type=\"simple\"><path d=\"M97.42,213.32 C87.35,222.4 77.37,233.83 72,246.72 C66.5,259.92 66.66,275.66 68.54,289.1 \" fill=\"none\" id=\"E8-&gt;E6\" style=\"stroke: #A80036; stroke-width: 1.0; stroke-dasharray: 7.0,7.0;\"/><polygon fill=\"#A80036\" points=\"69.9,297.12,71.517,288.7304,65.6018,289.7359,69.9,297.12\" style=\"stroke: #A80036; stroke-width: 1.0;\"/><text fill=\"#000000\" font-family=\"sans-serif\" font-size=\"13\" lengthAdjust=\"spacingAndGlyphs\" textLength=\"64\" x=\"73\" y=\"259.7869\">«depend»</text></a><!--MD5=[bfa3c8b0d15052fdf50ae9310b491027]\n",
       "link E8 to E7--><a href=\"psysml:2a73c336-1214-4cbc-85e1-1f3a30fc1732\" target=\"_top\" title=\"psysml:2a73c336-1214-4cbc-85e1-1f3a30fc1732\" xlink:actuate=\"onRequest\" xlink:href=\"psysml:2a73c336-1214-4cbc-85e1-1f3a30fc1732\" xlink:show=\"new\" xlink:title=\"psysml:2a73c336-1214-4cbc-85e1-1f3a30fc1732\" xlink:type=\"simple\"><path d=\"M137.28,213.22 C146.17,234.29 159.64,266.22 169.47,289.53 \" fill=\"none\" id=\"E8-&gt;E7\" style=\"stroke: #A80036; stroke-width: 1.0; stroke-dasharray: 7.0,7.0;\"/><polygon fill=\"#A80036\" points=\"172.66,297.07,172.3241,288.5326,166.7933,290.8585,172.66,297.07\" style=\"stroke: #A80036; stroke-width: 1.0;\"/><text fill=\"#000000\" font-family=\"sans-serif\" font-size=\"13\" lengthAdjust=\"spacingAndGlyphs\" textLength=\"64\" x=\"159\" y=\"259.7869\">«depend»</text></a><!--MD5=[bd8f5cb61ca2b83905e977773b00cfd4]\n",
       "@startuml\r\n",
       "skinparam wrapWidth 300\r\n",
       "hide circle\r\n",
       "\r\n",
       "package \"DependencyTest\" as E1  [[psysml:30c793ee-6e7c-4739-835e-bebdfc5bf1ce ]]  {\r\n",
       "package \"System\" as E2  [[psysml:db7b2f1b-03d7-4942-9142-e18d7a555d76 ]]  {\r\n",
       "package \"Application Layer\" as E3  [[psysml:7d470368-8955-499f-8cd6-0162cc61b017 ]]  {\r\n",
       "}\r\n",
       "package \"Service Layer\" as E4  [[psysml:db30598f-7650-4b69-b852-4feea02efbf5 ]]  {\r\n",
       "}\r\n",
       "package \"Data Layer\" as E5  [[psysml:f08d8e27-e89d-40a2-8de2-c51098f76f95 ]]  {\r\n",
       "}\r\n",
       "}\r\n",
       "comp usage \"x \" as E6  <<(T,blue) attribute>> [[psysml:d66666e9-9ac5-42c6-8412-5d0a1bea61ed ]] {\r\n",
       "}\r\n",
       "comp usage \"y \" as E7  <<(T,blue) attribute>> [[psysml:4c5b6854-1a08-45b4-8136-d30683a500ef ]] {\r\n",
       "}\r\n",
       "comp usage \"z \" as E8  <<(T,blue) attribute>> [[psysml:e4676a73-900e-4cfc-90aa-035aeedcaeac ]] {\r\n",
       "}\r\n",
       "}\r\n",
       "E1 ..> E2 [[psysml:2cdf9aea-584d-4dc5-87f2-78933b91772a ]] : <<import>>*\r\n",
       "E3 ..>> E4 [[psysml:ef543251-f685-45ef-999a-4058d8fef1e9 ]] : <<depend>>\r\n",
       "E4 ..>> E5 [[psysml:f939ae72-3488-4da6-b797-5f4561198517 ]] : <<depend>>\r\n",
       "E8 ..>> E6 [[psysml:2a73c336-1214-4cbc-85e1-1f3a30fc1732 ]] : <<depend>>\r\n",
       "E8 ..>> E7 [[psysml:2a73c336-1214-4cbc-85e1-1f3a30fc1732 ]] : <<depend>>\r\n",
       "@enduml\r\n",
       "\n",
       "PlantUML version 1.2020.13(Sat Jun 13 12:26:38 UTC 2020)\n",
       "(EPL source distribution)\n",
       "Java Runtime: OpenJDK Runtime Environment\n",
       "JVM: OpenJDK 64-Bit Server VM\n",
       "Default Encoding: UTF-8\n",
       "Language: en\n",
       "Country: null\n",
       "--></g></svg>"
      ]
     },
     "execution_count": 24,
     "metadata": {},
     "output_type": "execute_result"
    }
   ],
   "source": [
    "%viz --style=\"STDCOLOR\" --view=\"Tree\" \"DependencyTest\""
   ]
  },
  {
   "cell_type": "code",
   "execution_count": 25,
   "id": "8d9db8b6",
   "metadata": {
    "execution": {
     "iopub.execute_input": "2022-02-18T10:46:51.114571Z",
     "iopub.status.busy": "2022-02-18T10:46:51.114154Z",
     "iopub.status.idle": "2022-02-18T10:46:51.118989Z",
     "shell.execute_reply": "2022-02-18T10:46:51.119305Z"
    }
   },
   "outputs": [
    {
     "data": {
      "image/svg+xml": [
       "<?xml version=\"1.0\" encoding=\"UTF-8\" standalone=\"no\"?><svg xmlns=\"http://www.w3.org/2000/svg\" xmlns:xlink=\"http://www.w3.org/1999/xlink\" contentScriptType=\"application/ecmascript\" contentStyleType=\"text/css\" height=\"12px\" preserveAspectRatio=\"none\" style=\"width:12px;height:12px;\" version=\"1.1\" viewBox=\"0 0 12 12\" width=\"12px\" zoomAndPan=\"magnify\"><defs/><g><!--MD5=[aeeef50f102b80d730deb6443d14f702]\n",
       "@startuml\r\n",
       "skinparam wrapWidth 300\r\n",
       "hide circle\r\n",
       "\r\n",
       "@enduml\r\n",
       "\n",
       "PlantUML version 1.2020.13(Sat Jun 13 12:26:38 UTC 2020)\n",
       "(EPL source distribution)\n",
       "Java Runtime: OpenJDK Runtime Environment\n",
       "JVM: OpenJDK 64-Bit Server VM\n",
       "Default Encoding: UTF-8\n",
       "Language: en\n",
       "Country: null\n",
       "--></g></svg>"
      ]
     },
     "execution_count": 25,
     "metadata": {},
     "output_type": "execute_result"
    }
   ],
   "source": [
    "%viz --style=\"STDCOLOR\" --view=\"State\" \"DependencyTest\""
   ]
  },
  {
   "cell_type": "code",
   "execution_count": 26,
   "id": "69491383",
   "metadata": {
    "execution": {
     "iopub.execute_input": "2022-02-18T10:46:51.169446Z",
     "iopub.status.busy": "2022-02-18T10:46:51.169016Z",
     "iopub.status.idle": "2022-02-18T10:46:51.208913Z",
     "shell.execute_reply": "2022-02-18T10:46:51.208578Z"
    }
   },
   "outputs": [
    {
     "data": {
      "image/svg+xml": [
       "<?xml version=\"1.0\" encoding=\"UTF-8\" standalone=\"no\"?><svg xmlns=\"http://www.w3.org/2000/svg\" xmlns:xlink=\"http://www.w3.org/1999/xlink\" contentScriptType=\"application/ecmascript\" contentStyleType=\"text/css\" height=\"442px\" preserveAspectRatio=\"none\" style=\"width:536px;height:442px;\" version=\"1.1\" viewBox=\"0 0 536 442\" width=\"536px\" zoomAndPan=\"magnify\"><defs><filter height=\"300%\" id=\"f12jg4wbfz5410\" width=\"300%\" x=\"-1\" y=\"-1\"><feGaussianBlur result=\"blurOut\" stdDeviation=\"2.0\"/><feColorMatrix in=\"blurOut\" result=\"blurOut2\" type=\"matrix\" values=\"0 0 0 0 0 0 0 0 0 0 0 0 0 0 0 0 0 0 .4 0\"/><feOffset dx=\"4.0\" dy=\"4.0\" in=\"blurOut2\" result=\"blurOut3\"/><feBlend in=\"SourceGraphic\" in2=\"blurOut3\" mode=\"normal\"/></filter></defs><g><!--MD5=[fbc87193dbaf4d95561dea2c320d4a47]\n",
       "cluster E1--><a href=\"psysml:30c793ee-6e7c-4739-835e-bebdfc5bf1ce\" target=\"_top\" title=\"psysml:30c793ee-6e7c-4739-835e-bebdfc5bf1ce\" xlink:actuate=\"onRequest\" xlink:href=\"psysml:30c793ee-6e7c-4739-835e-bebdfc5bf1ce\" xlink:show=\"new\" xlink:title=\"psysml:30c793ee-6e7c-4739-835e-bebdfc5bf1ce\" xlink:type=\"simple\"><polygon fill=\"#FFFFFF\" filter=\"url(#f12jg4wbfz5410)\" points=\"16,6,142,6,149,28.2969,514,28.2969,514,430.72,16,430.72,16,6\" style=\"stroke: #000000; stroke-width: 1.5;\"/><line style=\"stroke: #000000; stroke-width: 1.5;\" x1=\"16\" x2=\"149\" y1=\"28.2969\" y2=\"28.2969\"/><text fill=\"#000000\" font-family=\"sans-serif\" font-size=\"14\" font-weight=\"bold\" lengthAdjust=\"spacingAndGlyphs\" textLength=\"120\" x=\"20\" y=\"20.9951\">DependencyTest</text></a><!--MD5=[e4f7fae6ed58524ba242bb0b0d3be6b7]\n",
       "cluster E2--><a href=\"psysml:db7b2f1b-03d7-4942-9142-e18d7a555d76\" target=\"_top\" title=\"psysml:db7b2f1b-03d7-4942-9142-e18d7a555d76\" xlink:actuate=\"onRequest\" xlink:href=\"psysml:db7b2f1b-03d7-4942-9142-e18d7a555d76\" xlink:show=\"new\" xlink:title=\"psysml:db7b2f1b-03d7-4942-9142-e18d7a555d76\" xlink:type=\"simple\"><polygon fill=\"#FFFFFF\" filter=\"url(#f12jg4wbfz5410)\" points=\"271,98.72,328,98.72,335,121.0169,474,121.0169,474,390.72,271,390.72,271,98.72\" style=\"stroke: #000000; stroke-width: 1.5;\"/><line style=\"stroke: #000000; stroke-width: 1.5;\" x1=\"271\" x2=\"335\" y1=\"121.0169\" y2=\"121.0169\"/><text fill=\"#000000\" font-family=\"sans-serif\" font-size=\"14\" font-weight=\"bold\" lengthAdjust=\"spacingAndGlyphs\" textLength=\"51\" x=\"275\" y=\"113.7151\">System</text></a><!--MD5=[60a26617385b1d2d0262a64233df1f8d]\n",
       "class E6--><a href=\"psysml:d66666e9-9ac5-42c6-8412-5d0a1bea61ed\" target=\"_top\" title=\"psysml:d66666e9-9ac5-42c6-8412-5d0a1bea61ed\" xlink:actuate=\"onRequest\" xlink:href=\"psysml:d66666e9-9ac5-42c6-8412-5d0a1bea61ed\" xlink:show=\"new\" xlink:title=\"psysml:d66666e9-9ac5-42c6-8412-5d0a1bea61ed\" xlink:type=\"simple\"><rect fill=\"#FEFECE\" filter=\"url(#f12jg4wbfz5410)\" height=\"45.9375\" id=\"E6\" rx=\"10\" ry=\"10\" style=\"stroke: #A80036; stroke-width: 1.5;\" width=\"71\" x=\"40.5\" y=\"231.22\"/><text fill=\"#000000\" font-family=\"sans-serif\" font-size=\"12\" font-style=\"italic\" lengthAdjust=\"spacingAndGlyphs\" textLength=\"69\" x=\"41.5\" y=\"247.3587\">«attribute»</text><text fill=\"#000000\" font-family=\"sans-serif\" font-size=\"12\" lengthAdjust=\"spacingAndGlyphs\" textLength=\"6\" x=\"71\" y=\"261.3274\">x</text><line style=\"stroke: #A80036; stroke-width: 1.5;\" x1=\"41.5\" x2=\"110.5\" y1=\"269.1575\" y2=\"269.1575\"/></a><!--MD5=[2156ba9850f5573cc1fc38a6a4b2f02b]\n",
       "class E7--><a href=\"psysml:4c5b6854-1a08-45b4-8136-d30683a500ef\" target=\"_top\" title=\"psysml:4c5b6854-1a08-45b4-8136-d30683a500ef\" xlink:actuate=\"onRequest\" xlink:href=\"psysml:4c5b6854-1a08-45b4-8136-d30683a500ef\" xlink:show=\"new\" xlink:title=\"psysml:4c5b6854-1a08-45b4-8136-d30683a500ef\" xlink:type=\"simple\"><rect fill=\"#FEFECE\" filter=\"url(#f12jg4wbfz5410)\" height=\"45.9375\" id=\"E7\" rx=\"10\" ry=\"10\" style=\"stroke: #A80036; stroke-width: 1.5;\" width=\"71\" x=\"146.5\" y=\"231.22\"/><text fill=\"#000000\" font-family=\"sans-serif\" font-size=\"12\" font-style=\"italic\" lengthAdjust=\"spacingAndGlyphs\" textLength=\"69\" x=\"147.5\" y=\"247.3587\">«attribute»</text><text fill=\"#000000\" font-family=\"sans-serif\" font-size=\"12\" lengthAdjust=\"spacingAndGlyphs\" textLength=\"6\" x=\"177\" y=\"261.3274\">y</text><line style=\"stroke: #A80036; stroke-width: 1.5;\" x1=\"147.5\" x2=\"216.5\" y1=\"269.1575\" y2=\"269.1575\"/></a><!--MD5=[b9389687b975829384b498ac4b7476b2]\n",
       "class E8--><a href=\"psysml:e4676a73-900e-4cfc-90aa-035aeedcaeac\" target=\"_top\" title=\"psysml:e4676a73-900e-4cfc-90aa-035aeedcaeac\" xlink:actuate=\"onRequest\" xlink:href=\"psysml:e4676a73-900e-4cfc-90aa-035aeedcaeac\" xlink:show=\"new\" xlink:title=\"psysml:e4676a73-900e-4cfc-90aa-035aeedcaeac\" xlink:type=\"simple\"><rect fill=\"#FEFECE\" filter=\"url(#f12jg4wbfz5410)\" height=\"45.9375\" id=\"E8\" rx=\"10\" ry=\"10\" style=\"stroke: #A80036; stroke-width: 1.5;\" width=\"71\" x=\"92.5\" y=\"145.22\"/><text fill=\"#000000\" font-family=\"sans-serif\" font-size=\"12\" font-style=\"italic\" lengthAdjust=\"spacingAndGlyphs\" textLength=\"69\" x=\"93.5\" y=\"161.3587\">«attribute»</text><text fill=\"#000000\" font-family=\"sans-serif\" font-size=\"12\" lengthAdjust=\"spacingAndGlyphs\" textLength=\"5\" x=\"123.5\" y=\"175.3274\">z</text><line style=\"stroke: #A80036; stroke-width: 1.5;\" x1=\"93.5\" x2=\"162.5\" y1=\"183.1575\" y2=\"183.1575\"/></a><a href=\"psysml:7d470368-8955-499f-8cd6-0162cc61b017\" target=\"_top\" title=\"psysml:7d470368-8955-499f-8cd6-0162cc61b017\" xlink:actuate=\"onRequest\" xlink:href=\"psysml:7d470368-8955-499f-8cd6-0162cc61b017\" xlink:show=\"new\" xlink:title=\"psysml:7d470368-8955-499f-8cd6-0162cc61b017\" xlink:type=\"simple\"><polygon fill=\"#FFFFFF\" filter=\"url(#f12jg4wbfz5410)\" points=\"314.5,141.72,435.5,141.72,442.5,164.0169,449.5,164.0169,449.5,194.3138,314.5,194.3138,314.5,141.72\" style=\"stroke: #000000; stroke-width: 1.5;\"/><line style=\"stroke: #000000; stroke-width: 1.5;\" x1=\"314.5\" x2=\"442.5\" y1=\"164.0169\" y2=\"164.0169\"/><text fill=\"#000000\" font-family=\"sans-serif\" font-size=\"14\" font-weight=\"bold\" lengthAdjust=\"spacingAndGlyphs\" textLength=\"115\" x=\"318.5\" y=\"156.7151\">Application Layer</text></a><a href=\"psysml:db30598f-7650-4b69-b852-4feea02efbf5\" target=\"_top\" title=\"psysml:db30598f-7650-4b69-b852-4feea02efbf5\" xlink:actuate=\"onRequest\" xlink:href=\"psysml:db30598f-7650-4b69-b852-4feea02efbf5\" xlink:show=\"new\" xlink:title=\"psysml:db30598f-7650-4b69-b852-4feea02efbf5\" xlink:type=\"simple\"><polygon fill=\"#FFFFFF\" filter=\"url(#f12jg4wbfz5410)\" points=\"327,227.72,423,227.72,430,250.0169,437,250.0169,437,280.3138,327,280.3138,327,227.72\" style=\"stroke: #000000; stroke-width: 1.5;\"/><line style=\"stroke: #000000; stroke-width: 1.5;\" x1=\"327\" x2=\"430\" y1=\"250.0169\" y2=\"250.0169\"/><text fill=\"#000000\" font-family=\"sans-serif\" font-size=\"14\" font-weight=\"bold\" lengthAdjust=\"spacingAndGlyphs\" textLength=\"90\" x=\"331\" y=\"242.7151\">Service Layer</text></a><a href=\"psysml:f08d8e27-e89d-40a2-8de2-c51098f76f95\" target=\"_top\" title=\"psysml:f08d8e27-e89d-40a2-8de2-c51098f76f95\" xlink:actuate=\"onRequest\" xlink:href=\"psysml:f08d8e27-e89d-40a2-8de2-c51098f76f95\" xlink:show=\"new\" xlink:title=\"psysml:f08d8e27-e89d-40a2-8de2-c51098f76f95\" xlink:type=\"simple\"><polygon fill=\"#FFFFFF\" filter=\"url(#f12jg4wbfz5410)\" points=\"336,313.72,414,313.72,421,336.0169,428,336.0169,428,366.3138,336,366.3138,336,313.72\" style=\"stroke: #000000; stroke-width: 1.5;\"/><line style=\"stroke: #000000; stroke-width: 1.5;\" x1=\"336\" x2=\"421\" y1=\"336.0169\" y2=\"336.0169\"/><text fill=\"#000000\" font-family=\"sans-serif\" font-size=\"14\" font-weight=\"bold\" lengthAdjust=\"spacingAndGlyphs\" textLength=\"72\" x=\"340\" y=\"328.7151\">Data Layer</text></a><!--MD5=[1f1cd8e6dd4c1b2ca2aaccc9b9bcea6e]\n",
       "link E1 to E2--><a href=\"psysml:2cdf9aea-584d-4dc5-87f2-78933b91772a\" target=\"_top\" title=\"psysml:2cdf9aea-584d-4dc5-87f2-78933b91772a\" xlink:actuate=\"onRequest\" xlink:href=\"psysml:2cdf9aea-584d-4dc5-87f2-78933b91772a\" xlink:show=\"new\" xlink:title=\"psysml:2cdf9aea-584d-4dc5-87f2-78933b91772a\" xlink:type=\"simple\"><path d=\"M279,33.82 C279,34.815 279,43.3994 279,55.7775 C279,61.9666 279,69.1041 279,76.7155 C279,80.5213 279,84.4455 279,88.429 C279,90.4207 279,92.4272 279,94.4411 C279,95.448 279,96.4568 279,97.4665 C279,97.719 279,97.9714 279,98.224 \" fill=\"none\" id=\"E1-&gt;E2\" style=\"stroke: #A80036; stroke-width: 1.0; stroke-dasharray: 7.0,7.0;\"/><polygon fill=\"#A80036\" points=\"279,98.224,283,89.224,279,93.224,275,89.224,279,98.224\" style=\"stroke: #A80036; stroke-width: 1.0;\"/><text fill=\"#000000\" font-family=\"sans-serif\" font-size=\"13\" lengthAdjust=\"spacingAndGlyphs\" textLength=\"65\" x=\"280\" y=\"54.7869\">«import»*</text></a><!--MD5=[af87c684e3b0d8be13c1a698a818ef1e]\n",
       "link E3 to E4--><a href=\"psysml:ef543251-f685-45ef-999a-4058d8fef1e9\" target=\"_top\" title=\"psysml:ef543251-f685-45ef-999a-4058d8fef1e9\" xlink:actuate=\"onRequest\" xlink:href=\"psysml:ef543251-f685-45ef-999a-4058d8fef1e9\" xlink:show=\"new\" xlink:title=\"psysml:ef543251-f685-45ef-999a-4058d8fef1e9\" xlink:type=\"simple\"><path d=\"M382,194.88 C382,202.7 382,211.41 382,219.66 \" fill=\"none\" id=\"E3-&gt;E4\" style=\"stroke: #A80036; stroke-width: 1.0; stroke-dasharray: 7.0,7.0;\"/><polygon fill=\"#A80036\" points=\"382,227.72,385,219.72,379,219.72,382,227.72\" style=\"stroke: #A80036; stroke-width: 1.0;\"/><text fill=\"#000000\" font-family=\"sans-serif\" font-size=\"13\" lengthAdjust=\"spacingAndGlyphs\" textLength=\"64\" x=\"383\" y=\"215.7869\">«depend»</text></a><!--MD5=[1b7591eae5389033d8d09a9d6721a717]\n",
       "link E4 to E5--><a href=\"psysml:f939ae72-3488-4da6-b797-5f4561198517\" target=\"_top\" title=\"psysml:f939ae72-3488-4da6-b797-5f4561198517\" xlink:actuate=\"onRequest\" xlink:href=\"psysml:f939ae72-3488-4da6-b797-5f4561198517\" xlink:show=\"new\" xlink:title=\"psysml:f939ae72-3488-4da6-b797-5f4561198517\" xlink:type=\"simple\"><path d=\"M382,280.88 C382,288.7 382,297.41 382,305.66 \" fill=\"none\" id=\"E4-&gt;E5\" style=\"stroke: #A80036; stroke-width: 1.0; stroke-dasharray: 7.0,7.0;\"/><polygon fill=\"#A80036\" points=\"382,313.72,385,305.72,379,305.72,382,313.72\" style=\"stroke: #A80036; stroke-width: 1.0;\"/><text fill=\"#000000\" font-family=\"sans-serif\" font-size=\"13\" lengthAdjust=\"spacingAndGlyphs\" textLength=\"64\" x=\"383\" y=\"301.7869\">«depend»</text></a><!--MD5=[c5e8897d989ce984f93528998a7150fe]\n",
       "link E8 to E6--><a href=\"psysml:2a73c336-1214-4cbc-85e1-1f3a30fc1732\" target=\"_top\" title=\"psysml:2a73c336-1214-4cbc-85e1-1f3a30fc1732\" xlink:actuate=\"onRequest\" xlink:href=\"psysml:2a73c336-1214-4cbc-85e1-1f3a30fc1732\" xlink:show=\"new\" xlink:title=\"psysml:2a73c336-1214-4cbc-85e1-1f3a30fc1732\" xlink:type=\"simple\"><path d=\"M92.49,183.06 C84.34,187.99 76.69,194.44 72,202.72 C68.54,208.82 67.62,216.03 68,223.05 \" fill=\"none\" id=\"E8-&gt;E6\" style=\"stroke: #A80036; stroke-width: 1.0; stroke-dasharray: 7.0,7.0;\"/><polygon fill=\"#A80036\" points=\"68.97,231.14,71.0061,222.8421,65.0479,223.5494,68.97,231.14\" style=\"stroke: #A80036; stroke-width: 1.0;\"/><text fill=\"#000000\" font-family=\"sans-serif\" font-size=\"13\" lengthAdjust=\"spacingAndGlyphs\" textLength=\"64\" x=\"73\" y=\"215.7869\">«depend»</text></a><!--MD5=[bfa3c8b0d15052fdf50ae9310b491027]\n",
       "link E8 to E7--><a href=\"psysml:2a73c336-1214-4cbc-85e1-1f3a30fc1732\" target=\"_top\" title=\"psysml:2a73c336-1214-4cbc-85e1-1f3a30fc1732\" xlink:actuate=\"onRequest\" xlink:href=\"psysml:2a73c336-1214-4cbc-85e1-1f3a30fc1732\" xlink:show=\"new\" xlink:title=\"psysml:2a73c336-1214-4cbc-85e1-1f3a30fc1732\" xlink:type=\"simple\"><path d=\"M142.19,191.29 C148.65,201.34 156.38,213.37 163.31,224.14 \" fill=\"none\" id=\"E8-&gt;E7\" style=\"stroke: #A80036; stroke-width: 1.0; stroke-dasharray: 7.0,7.0;\"/><polygon fill=\"#A80036\" points=\"167.72,231.01,165.9148,222.6589,160.8688,225.905,167.72,231.01\" style=\"stroke: #A80036; stroke-width: 1.0;\"/><text fill=\"#000000\" font-family=\"sans-serif\" font-size=\"13\" lengthAdjust=\"spacingAndGlyphs\" textLength=\"64\" x=\"160\" y=\"215.7869\">«depend»</text></a><!--MD5=[6e8ed94d6533b25ec768abfb61e87a2b]\n",
       "@startuml\r\n",
       "skinparam ranksep 10\r\n",
       "skinparam rectangle {\r\n",
       " backgroundColor<<block>> LightGreen\r\n",
       "}\r\n",
       "skinparam wrapWidth 300\r\n",
       "hide circle\r\n",
       "\r\n",
       "package \"DependencyTest\" as E1  [[psysml:30c793ee-6e7c-4739-835e-bebdfc5bf1ce ]]  {\r\n",
       "package \"System\" as E2  [[psysml:db7b2f1b-03d7-4942-9142-e18d7a555d76 ]]  {\r\n",
       "package \"Application Layer\" as E3  [[psysml:7d470368-8955-499f-8cd6-0162cc61b017 ]]  {\r\n",
       "}\r\n",
       "package \"Service Layer\" as E4  [[psysml:db30598f-7650-4b69-b852-4feea02efbf5 ]]  {\r\n",
       "}\r\n",
       "package \"Data Layer\" as E5  [[psysml:f08d8e27-e89d-40a2-8de2-c51098f76f95 ]]  {\r\n",
       "}\r\n",
       "}\r\n",
       "comp usage \"x \" as E6  <<(T,blue) attribute>> [[psysml:d66666e9-9ac5-42c6-8412-5d0a1bea61ed ]] {\r\n",
       "}\r\n",
       "comp usage \"y \" as E7  <<(T,blue) attribute>> [[psysml:4c5b6854-1a08-45b4-8136-d30683a500ef ]] {\r\n",
       "}\r\n",
       "comp usage \"z \" as E8  <<(T,blue) attribute>> [[psysml:e4676a73-900e-4cfc-90aa-035aeedcaeac ]] {\r\n",
       "}\r\n",
       "}\r\n",
       "E1 ..> E2 [[psysml:2cdf9aea-584d-4dc5-87f2-78933b91772a ]] : <<import>>*\r\n",
       "E3 ..>> E4 [[psysml:ef543251-f685-45ef-999a-4058d8fef1e9 ]] : <<depend>>\r\n",
       "E4 ..>> E5 [[psysml:f939ae72-3488-4da6-b797-5f4561198517 ]] : <<depend>>\r\n",
       "E8 ..>> E6 [[psysml:2a73c336-1214-4cbc-85e1-1f3a30fc1732 ]] : <<depend>>\r\n",
       "E8 ..>> E7 [[psysml:2a73c336-1214-4cbc-85e1-1f3a30fc1732 ]] : <<depend>>\r\n",
       "@enduml\r\n",
       "\n",
       "PlantUML version 1.2020.13(Sat Jun 13 12:26:38 UTC 2020)\n",
       "(EPL source distribution)\n",
       "Java Runtime: OpenJDK Runtime Environment\n",
       "JVM: OpenJDK 64-Bit Server VM\n",
       "Default Encoding: UTF-8\n",
       "Language: en\n",
       "Country: null\n",
       "--></g></svg>"
      ]
     },
     "execution_count": 26,
     "metadata": {},
     "output_type": "execute_result"
    }
   ],
   "source": [
    "%viz --style=\"STDCOLOR\" --view=\"Interconnection\" \"DependencyTest\""
   ]
  },
  {
   "cell_type": "code",
   "execution_count": 27,
   "id": "2519e29d",
   "metadata": {
    "execution": {
     "iopub.execute_input": "2022-02-18T10:46:51.258841Z",
     "iopub.status.busy": "2022-02-18T10:46:51.258438Z",
     "iopub.status.idle": "2022-02-18T10:46:51.263075Z",
     "shell.execute_reply": "2022-02-18T10:46:51.263393Z"
    }
   },
   "outputs": [
    {
     "data": {
      "image/svg+xml": [
       "<?xml version=\"1.0\" encoding=\"UTF-8\" standalone=\"no\"?><svg xmlns=\"http://www.w3.org/2000/svg\" xmlns:xlink=\"http://www.w3.org/1999/xlink\" contentScriptType=\"application/ecmascript\" contentStyleType=\"text/css\" height=\"12px\" preserveAspectRatio=\"none\" style=\"width:12px;height:12px;\" version=\"1.1\" viewBox=\"0 0 12 12\" width=\"12px\" zoomAndPan=\"magnify\"><defs/><g><!--MD5=[9863325348a96a77dacc89509d8ee65e]\n",
       "@startuml\r\n",
       "skinparam ranksep 8\r\n",
       "skinparam wrapWidth 300\r\n",
       "hide circle\r\n",
       "\r\n",
       "@enduml\r\n",
       "\n",
       "PlantUML version 1.2020.13(Sat Jun 13 12:26:38 UTC 2020)\n",
       "(EPL source distribution)\n",
       "Java Runtime: OpenJDK Runtime Environment\n",
       "JVM: OpenJDK 64-Bit Server VM\n",
       "Default Encoding: UTF-8\n",
       "Language: en\n",
       "Country: null\n",
       "--></g></svg>"
      ]
     },
     "execution_count": 27,
     "metadata": {},
     "output_type": "execute_result"
    }
   ],
   "source": [
    "%viz --style=\"STDCOLOR\" --view=\"Action\" \"DependencyTest\""
   ]
  },
  {
   "cell_type": "code",
   "execution_count": 28,
   "id": "0103fc4f",
   "metadata": {
    "execution": {
     "iopub.execute_input": "2022-02-18T10:46:51.313827Z",
     "iopub.status.busy": "2022-02-18T10:46:51.313427Z",
     "iopub.status.idle": "2022-02-18T10:46:51.318607Z",
     "shell.execute_reply": "2022-02-18T10:46:51.318921Z"
    }
   },
   "outputs": [
    {
     "data": {
      "image/svg+xml": [
       "<?xml version=\"1.0\" encoding=\"UTF-8\" standalone=\"no\"?><svg xmlns=\"http://www.w3.org/2000/svg\" xmlns:xlink=\"http://www.w3.org/1999/xlink\" contentScriptType=\"application/ecmascript\" contentStyleType=\"text/css\" height=\"12px\" preserveAspectRatio=\"none\" style=\"width:12px;height:12px;\" version=\"1.1\" viewBox=\"0 0 12 12\" width=\"12px\" zoomAndPan=\"magnify\"><defs/><g><!--MD5=[6c4bca67b4d71758159a5a7f1f1e1fc2]\n",
       "@startuml\r\n",
       "skinparam roundcorner 20\r\n",
       "skinparam BoxPadding 20\r\n",
       "skinparam SequenceBoxBackgroundColor #white\r\n",
       "skinparam style strictuml\r\n",
       "skinparam maxMessageSize 100\r\n",
       "skinparam wrapWidth 300\r\n",
       "hide circle\r\n",
       "\r\n",
       "@enduml\r\n",
       "\n",
       "PlantUML version 1.2020.13(Sat Jun 13 12:26:38 UTC 2020)\n",
       "(EPL source distribution)\n",
       "Java Runtime: OpenJDK Runtime Environment\n",
       "JVM: OpenJDK 64-Bit Server VM\n",
       "Default Encoding: UTF-8\n",
       "Language: en\n",
       "Country: null\n",
       "--></g></svg>"
      ]
     },
     "execution_count": 28,
     "metadata": {},
     "output_type": "execute_result"
    }
   ],
   "source": [
    "%viz --style=\"STDCOLOR\" --view=\"Sequence\" \"DependencyTest\""
   ]
  },
  {
   "cell_type": "code",
   "execution_count": 29,
   "id": "7eb4972e",
   "metadata": {
    "execution": {
     "iopub.execute_input": "2022-02-18T10:46:51.369077Z",
     "iopub.status.busy": "2022-02-18T10:46:51.368680Z",
     "iopub.status.idle": "2022-02-18T10:46:51.403874Z",
     "shell.execute_reply": "2022-02-18T10:46:51.403527Z"
    }
   },
   "outputs": [
    {
     "data": {
      "image/svg+xml": [
       "<?xml version=\"1.0\" encoding=\"UTF-8\" standalone=\"no\"?><svg xmlns=\"http://www.w3.org/2000/svg\" xmlns:xlink=\"http://www.w3.org/1999/xlink\" contentScriptType=\"application/ecmascript\" contentStyleType=\"text/css\" height=\"552px\" preserveAspectRatio=\"none\" style=\"width:536px;height:552px;\" version=\"1.1\" viewBox=\"0 0 536 552\" width=\"536px\" zoomAndPan=\"magnify\"><defs><filter height=\"300%\" id=\"fwdovc3jtra6n\" width=\"300%\" x=\"-1\" y=\"-1\"><feGaussianBlur result=\"blurOut\" stdDeviation=\"2.0\"/><feColorMatrix in=\"blurOut\" result=\"blurOut2\" type=\"matrix\" values=\"0 0 0 0 0 0 0 0 0 0 0 0 0 0 0 0 0 0 .4 0\"/><feOffset dx=\"4.0\" dy=\"4.0\" in=\"blurOut2\" result=\"blurOut3\"/><feBlend in=\"SourceGraphic\" in2=\"blurOut3\" mode=\"normal\"/></filter></defs><g><!--MD5=[fbc87193dbaf4d95561dea2c320d4a47]\n",
       "cluster E1--><a href=\"psysml:30c793ee-6e7c-4739-835e-bebdfc5bf1ce\" target=\"_top\" title=\"psysml:30c793ee-6e7c-4739-835e-bebdfc5bf1ce\" xlink:actuate=\"onRequest\" xlink:href=\"psysml:30c793ee-6e7c-4739-835e-bebdfc5bf1ce\" xlink:show=\"new\" xlink:title=\"psysml:30c793ee-6e7c-4739-835e-bebdfc5bf1ce\" xlink:type=\"simple\"><polygon fill=\"#FFFFFF\" filter=\"url(#fwdovc3jtra6n)\" points=\"16,6,142,6,149,28.2969,514,28.2969,514,540.72,16,540.72,16,6\" style=\"stroke: #000000; stroke-width: 1.5;\"/><line style=\"stroke: #000000; stroke-width: 1.5;\" x1=\"16\" x2=\"149\" y1=\"28.2969\" y2=\"28.2969\"/><text fill=\"#000000\" font-family=\"sans-serif\" font-size=\"14\" font-weight=\"bold\" lengthAdjust=\"spacingAndGlyphs\" textLength=\"120\" x=\"20\" y=\"20.9951\">DependencyTest</text></a><!--MD5=[e4f7fae6ed58524ba242bb0b0d3be6b7]\n",
       "cluster E2--><a href=\"psysml:db7b2f1b-03d7-4942-9142-e18d7a555d76\" target=\"_top\" title=\"psysml:db7b2f1b-03d7-4942-9142-e18d7a555d76\" xlink:actuate=\"onRequest\" xlink:href=\"psysml:db7b2f1b-03d7-4942-9142-e18d7a555d76\" xlink:show=\"new\" xlink:title=\"psysml:db7b2f1b-03d7-4942-9142-e18d7a555d76\" xlink:type=\"simple\"><polygon fill=\"#FFFFFF\" filter=\"url(#fwdovc3jtra6n)\" points=\"271,120.72,328,120.72,335,143.0169,474,143.0169,474,500.72,271,500.72,271,120.72\" style=\"stroke: #000000; stroke-width: 1.5;\"/><line style=\"stroke: #000000; stroke-width: 1.5;\" x1=\"271\" x2=\"335\" y1=\"143.0169\" y2=\"143.0169\"/><text fill=\"#000000\" font-family=\"sans-serif\" font-size=\"14\" font-weight=\"bold\" lengthAdjust=\"spacingAndGlyphs\" textLength=\"51\" x=\"275\" y=\"135.7151\">System</text></a><!--MD5=[60a26617385b1d2d0262a64233df1f8d]\n",
       "class E6--><a href=\"psysml:d66666e9-9ac5-42c6-8412-5d0a1bea61ed\" target=\"_top\" title=\"psysml:d66666e9-9ac5-42c6-8412-5d0a1bea61ed\" xlink:actuate=\"onRequest\" xlink:href=\"psysml:d66666e9-9ac5-42c6-8412-5d0a1bea61ed\" xlink:show=\"new\" xlink:title=\"psysml:d66666e9-9ac5-42c6-8412-5d0a1bea61ed\" xlink:type=\"simple\"><rect fill=\"#FEFECE\" filter=\"url(#fwdovc3jtra6n)\" height=\"45.9375\" id=\"E6\" rx=\"10\" ry=\"10\" style=\"stroke: #A80036; stroke-width: 1.5;\" width=\"71\" x=\"40.5\" y=\"297.22\"/><text fill=\"#000000\" font-family=\"sans-serif\" font-size=\"12\" font-style=\"italic\" lengthAdjust=\"spacingAndGlyphs\" textLength=\"69\" x=\"41.5\" y=\"313.3587\">«attribute»</text><text fill=\"#000000\" font-family=\"sans-serif\" font-size=\"12\" lengthAdjust=\"spacingAndGlyphs\" textLength=\"6\" x=\"71\" y=\"327.3274\">x</text><line style=\"stroke: #A80036; stroke-width: 1.5;\" x1=\"41.5\" x2=\"110.5\" y1=\"335.1575\" y2=\"335.1575\"/></a><!--MD5=[2156ba9850f5573cc1fc38a6a4b2f02b]\n",
       "class E7--><a href=\"psysml:4c5b6854-1a08-45b4-8136-d30683a500ef\" target=\"_top\" title=\"psysml:4c5b6854-1a08-45b4-8136-d30683a500ef\" xlink:actuate=\"onRequest\" xlink:href=\"psysml:4c5b6854-1a08-45b4-8136-d30683a500ef\" xlink:show=\"new\" xlink:title=\"psysml:4c5b6854-1a08-45b4-8136-d30683a500ef\" xlink:type=\"simple\"><rect fill=\"#FEFECE\" filter=\"url(#fwdovc3jtra6n)\" height=\"45.9375\" id=\"E7\" rx=\"10\" ry=\"10\" style=\"stroke: #A80036; stroke-width: 1.5;\" width=\"71\" x=\"146.5\" y=\"297.22\"/><text fill=\"#000000\" font-family=\"sans-serif\" font-size=\"12\" font-style=\"italic\" lengthAdjust=\"spacingAndGlyphs\" textLength=\"69\" x=\"147.5\" y=\"313.3587\">«attribute»</text><text fill=\"#000000\" font-family=\"sans-serif\" font-size=\"12\" lengthAdjust=\"spacingAndGlyphs\" textLength=\"6\" x=\"177\" y=\"327.3274\">y</text><line style=\"stroke: #A80036; stroke-width: 1.5;\" x1=\"147.5\" x2=\"216.5\" y1=\"335.1575\" y2=\"335.1575\"/></a><!--MD5=[b9389687b975829384b498ac4b7476b2]\n",
       "class E8--><a href=\"psysml:e4676a73-900e-4cfc-90aa-035aeedcaeac\" target=\"_top\" title=\"psysml:e4676a73-900e-4cfc-90aa-035aeedcaeac\" xlink:actuate=\"onRequest\" xlink:href=\"psysml:e4676a73-900e-4cfc-90aa-035aeedcaeac\" xlink:show=\"new\" xlink:title=\"psysml:e4676a73-900e-4cfc-90aa-035aeedcaeac\" xlink:type=\"simple\"><rect fill=\"#FEFECE\" filter=\"url(#fwdovc3jtra6n)\" height=\"45.9375\" id=\"E8\" rx=\"10\" ry=\"10\" style=\"stroke: #A80036; stroke-width: 1.5;\" width=\"71\" x=\"92.5\" y=\"167.22\"/><text fill=\"#000000\" font-family=\"sans-serif\" font-size=\"12\" font-style=\"italic\" lengthAdjust=\"spacingAndGlyphs\" textLength=\"69\" x=\"93.5\" y=\"183.3587\">«attribute»</text><text fill=\"#000000\" font-family=\"sans-serif\" font-size=\"12\" lengthAdjust=\"spacingAndGlyphs\" textLength=\"5\" x=\"123.5\" y=\"197.3274\">z</text><line style=\"stroke: #A80036; stroke-width: 1.5;\" x1=\"93.5\" x2=\"162.5\" y1=\"205.1575\" y2=\"205.1575\"/></a><a href=\"psysml:7d470368-8955-499f-8cd6-0162cc61b017\" target=\"_top\" title=\"psysml:7d470368-8955-499f-8cd6-0162cc61b017\" xlink:actuate=\"onRequest\" xlink:href=\"psysml:7d470368-8955-499f-8cd6-0162cc61b017\" xlink:show=\"new\" xlink:title=\"psysml:7d470368-8955-499f-8cd6-0162cc61b017\" xlink:type=\"simple\"><polygon fill=\"#FFFFFF\" filter=\"url(#fwdovc3jtra6n)\" points=\"314.5,163.72,435.5,163.72,442.5,186.0169,449.5,186.0169,449.5,216.3138,314.5,216.3138,314.5,163.72\" style=\"stroke: #000000; stroke-width: 1.5;\"/><line style=\"stroke: #000000; stroke-width: 1.5;\" x1=\"314.5\" x2=\"442.5\" y1=\"186.0169\" y2=\"186.0169\"/><text fill=\"#000000\" font-family=\"sans-serif\" font-size=\"14\" font-weight=\"bold\" lengthAdjust=\"spacingAndGlyphs\" textLength=\"115\" x=\"318.5\" y=\"178.7151\">Application Layer</text></a><a href=\"psysml:db30598f-7650-4b69-b852-4feea02efbf5\" target=\"_top\" title=\"psysml:db30598f-7650-4b69-b852-4feea02efbf5\" xlink:actuate=\"onRequest\" xlink:href=\"psysml:db30598f-7650-4b69-b852-4feea02efbf5\" xlink:show=\"new\" xlink:title=\"psysml:db30598f-7650-4b69-b852-4feea02efbf5\" xlink:type=\"simple\"><polygon fill=\"#FFFFFF\" filter=\"url(#fwdovc3jtra6n)\" points=\"327,293.72,423,293.72,430,316.0169,437,316.0169,437,346.3138,327,346.3138,327,293.72\" style=\"stroke: #000000; stroke-width: 1.5;\"/><line style=\"stroke: #000000; stroke-width: 1.5;\" x1=\"327\" x2=\"430\" y1=\"316.0169\" y2=\"316.0169\"/><text fill=\"#000000\" font-family=\"sans-serif\" font-size=\"14\" font-weight=\"bold\" lengthAdjust=\"spacingAndGlyphs\" textLength=\"90\" x=\"331\" y=\"308.7151\">Service Layer</text></a><a href=\"psysml:f08d8e27-e89d-40a2-8de2-c51098f76f95\" target=\"_top\" title=\"psysml:f08d8e27-e89d-40a2-8de2-c51098f76f95\" xlink:actuate=\"onRequest\" xlink:href=\"psysml:f08d8e27-e89d-40a2-8de2-c51098f76f95\" xlink:show=\"new\" xlink:title=\"psysml:f08d8e27-e89d-40a2-8de2-c51098f76f95\" xlink:type=\"simple\"><polygon fill=\"#FFFFFF\" filter=\"url(#fwdovc3jtra6n)\" points=\"336,423.72,414,423.72,421,446.0169,428,446.0169,428,476.3138,336,476.3138,336,423.72\" style=\"stroke: #000000; stroke-width: 1.5;\"/><line style=\"stroke: #000000; stroke-width: 1.5;\" x1=\"336\" x2=\"421\" y1=\"446.0169\" y2=\"446.0169\"/><text fill=\"#000000\" font-family=\"sans-serif\" font-size=\"14\" font-weight=\"bold\" lengthAdjust=\"spacingAndGlyphs\" textLength=\"72\" x=\"340\" y=\"438.7151\">Data Layer</text></a><!--MD5=[1f1cd8e6dd4c1b2ca2aaccc9b9bcea6e]\n",
       "link E1 to E2--><a href=\"psysml:2cdf9aea-584d-4dc5-87f2-78933b91772a\" target=\"_top\" title=\"psysml:2cdf9aea-584d-4dc5-87f2-78933b91772a\" xlink:actuate=\"onRequest\" xlink:href=\"psysml:2cdf9aea-584d-4dc5-87f2-78933b91772a\" xlink:show=\"new\" xlink:title=\"psysml:2cdf9aea-584d-4dc5-87f2-78933b91772a\" xlink:type=\"simple\"><path d=\"M279,33.83 C279,36.15 279,73.83 279,111.5 C279,113.8544 279,116.2087 279,118.5544 C279,119.1408 279,119.7267 279,120.3119 \" fill=\"none\" id=\"E1-&gt;E2\" style=\"stroke: #A80036; stroke-width: 1.0; stroke-dasharray: 7.0,7.0;\"/><polygon fill=\"#A80036\" points=\"279,120.3119,283,111.3119,279,115.3119,275,111.3119,279,120.3119\" style=\"stroke: #A80036; stroke-width: 1.0;\"/><text fill=\"#000000\" font-family=\"sans-serif\" font-size=\"13\" lengthAdjust=\"spacingAndGlyphs\" textLength=\"65\" x=\"280\" y=\"76.7869\">«import»*</text></a><!--MD5=[af87c684e3b0d8be13c1a698a818ef1e]\n",
       "link E3 to E4--><a href=\"psysml:ef543251-f685-45ef-999a-4058d8fef1e9\" target=\"_top\" title=\"psysml:ef543251-f685-45ef-999a-4058d8fef1e9\" xlink:actuate=\"onRequest\" xlink:href=\"psysml:ef543251-f685-45ef-999a-4058d8fef1e9\" xlink:show=\"new\" xlink:title=\"psysml:ef543251-f685-45ef-999a-4058d8fef1e9\" xlink:type=\"simple\"><path d=\"M382,216.82 C382,236.52 382,263.94 382,285.45 \" fill=\"none\" id=\"E3-&gt;E4\" style=\"stroke: #A80036; stroke-width: 1.0; stroke-dasharray: 7.0,7.0;\"/><polygon fill=\"#A80036\" points=\"382,293.67,385,285.67,379,285.67,382,293.67\" style=\"stroke: #A80036; stroke-width: 1.0;\"/><text fill=\"#000000\" font-family=\"sans-serif\" font-size=\"13\" lengthAdjust=\"spacingAndGlyphs\" textLength=\"64\" x=\"383\" y=\"259.7869\">«depend»</text></a><!--MD5=[1b7591eae5389033d8d09a9d6721a717]\n",
       "link E4 to E5--><a href=\"psysml:f939ae72-3488-4da6-b797-5f4561198517\" target=\"_top\" title=\"psysml:f939ae72-3488-4da6-b797-5f4561198517\" xlink:actuate=\"onRequest\" xlink:href=\"psysml:f939ae72-3488-4da6-b797-5f4561198517\" xlink:show=\"new\" xlink:title=\"psysml:f939ae72-3488-4da6-b797-5f4561198517\" xlink:type=\"simple\"><path d=\"M382,346.82 C382,366.52 382,393.94 382,415.45 \" fill=\"none\" id=\"E4-&gt;E5\" style=\"stroke: #A80036; stroke-width: 1.0; stroke-dasharray: 7.0,7.0;\"/><polygon fill=\"#A80036\" points=\"382,423.67,385,415.67,379,415.67,382,423.67\" style=\"stroke: #A80036; stroke-width: 1.0;\"/><text fill=\"#000000\" font-family=\"sans-serif\" font-size=\"13\" lengthAdjust=\"spacingAndGlyphs\" textLength=\"64\" x=\"383\" y=\"389.7869\">«depend»</text></a><!--MD5=[c5e8897d989ce984f93528998a7150fe]\n",
       "link E8 to E6--><a href=\"psysml:2a73c336-1214-4cbc-85e1-1f3a30fc1732\" target=\"_top\" title=\"psysml:2a73c336-1214-4cbc-85e1-1f3a30fc1732\" xlink:actuate=\"onRequest\" xlink:href=\"psysml:2a73c336-1214-4cbc-85e1-1f3a30fc1732\" xlink:show=\"new\" xlink:title=\"psysml:2a73c336-1214-4cbc-85e1-1f3a30fc1732\" xlink:type=\"simple\"><path d=\"M97.42,213.32 C87.35,222.4 77.37,233.83 72,246.72 C66.5,259.92 66.66,275.66 68.54,289.1 \" fill=\"none\" id=\"E8-&gt;E6\" style=\"stroke: #A80036; stroke-width: 1.0; stroke-dasharray: 7.0,7.0;\"/><polygon fill=\"#A80036\" points=\"69.9,297.12,71.517,288.7304,65.6018,289.7359,69.9,297.12\" style=\"stroke: #A80036; stroke-width: 1.0;\"/><text fill=\"#000000\" font-family=\"sans-serif\" font-size=\"13\" lengthAdjust=\"spacingAndGlyphs\" textLength=\"64\" x=\"73\" y=\"259.7869\">«depend»</text></a><!--MD5=[bfa3c8b0d15052fdf50ae9310b491027]\n",
       "link E8 to E7--><a href=\"psysml:2a73c336-1214-4cbc-85e1-1f3a30fc1732\" target=\"_top\" title=\"psysml:2a73c336-1214-4cbc-85e1-1f3a30fc1732\" xlink:actuate=\"onRequest\" xlink:href=\"psysml:2a73c336-1214-4cbc-85e1-1f3a30fc1732\" xlink:show=\"new\" xlink:title=\"psysml:2a73c336-1214-4cbc-85e1-1f3a30fc1732\" xlink:type=\"simple\"><path d=\"M137.28,213.22 C146.17,234.29 159.64,266.22 169.47,289.53 \" fill=\"none\" id=\"E8-&gt;E7\" style=\"stroke: #A80036; stroke-width: 1.0; stroke-dasharray: 7.0,7.0;\"/><polygon fill=\"#A80036\" points=\"172.66,297.07,172.3241,288.5326,166.7933,290.8585,172.66,297.07\" style=\"stroke: #A80036; stroke-width: 1.0;\"/><text fill=\"#000000\" font-family=\"sans-serif\" font-size=\"13\" lengthAdjust=\"spacingAndGlyphs\" textLength=\"64\" x=\"159\" y=\"259.7869\">«depend»</text></a><!--MD5=[bd8f5cb61ca2b83905e977773b00cfd4]\n",
       "@startuml\r\n",
       "skinparam wrapWidth 300\r\n",
       "hide circle\r\n",
       "\r\n",
       "package \"DependencyTest\" as E1  [[psysml:30c793ee-6e7c-4739-835e-bebdfc5bf1ce ]]  {\r\n",
       "package \"System\" as E2  [[psysml:db7b2f1b-03d7-4942-9142-e18d7a555d76 ]]  {\r\n",
       "package \"Application Layer\" as E3  [[psysml:7d470368-8955-499f-8cd6-0162cc61b017 ]]  {\r\n",
       "}\r\n",
       "package \"Service Layer\" as E4  [[psysml:db30598f-7650-4b69-b852-4feea02efbf5 ]]  {\r\n",
       "}\r\n",
       "package \"Data Layer\" as E5  [[psysml:f08d8e27-e89d-40a2-8de2-c51098f76f95 ]]  {\r\n",
       "}\r\n",
       "}\r\n",
       "comp usage \"x \" as E6  <<(T,blue) attribute>> [[psysml:d66666e9-9ac5-42c6-8412-5d0a1bea61ed ]] {\r\n",
       "}\r\n",
       "comp usage \"y \" as E7  <<(T,blue) attribute>> [[psysml:4c5b6854-1a08-45b4-8136-d30683a500ef ]] {\r\n",
       "}\r\n",
       "comp usage \"z \" as E8  <<(T,blue) attribute>> [[psysml:e4676a73-900e-4cfc-90aa-035aeedcaeac ]] {\r\n",
       "}\r\n",
       "}\r\n",
       "E1 ..> E2 [[psysml:2cdf9aea-584d-4dc5-87f2-78933b91772a ]] : <<import>>*\r\n",
       "E3 ..>> E4 [[psysml:ef543251-f685-45ef-999a-4058d8fef1e9 ]] : <<depend>>\r\n",
       "E4 ..>> E5 [[psysml:f939ae72-3488-4da6-b797-5f4561198517 ]] : <<depend>>\r\n",
       "E8 ..>> E6 [[psysml:2a73c336-1214-4cbc-85e1-1f3a30fc1732 ]] : <<depend>>\r\n",
       "E8 ..>> E7 [[psysml:2a73c336-1214-4cbc-85e1-1f3a30fc1732 ]] : <<depend>>\r\n",
       "@enduml\r\n",
       "\n",
       "PlantUML version 1.2020.13(Sat Jun 13 12:26:38 UTC 2020)\n",
       "(EPL source distribution)\n",
       "Java Runtime: OpenJDK Runtime Environment\n",
       "JVM: OpenJDK 64-Bit Server VM\n",
       "Default Encoding: UTF-8\n",
       "Language: en\n",
       "Country: null\n",
       "--></g></svg>"
      ]
     },
     "execution_count": 29,
     "metadata": {},
     "output_type": "execute_result"
    }
   ],
   "source": [
    "%viz --style=\"STDCOLOR\" --view=\"MIXED\" \"DependencyTest\""
   ]
  },
  {
   "cell_type": "code",
   "execution_count": 30,
   "id": "a4b30ffc",
   "metadata": {
    "execution": {
     "iopub.execute_input": "2022-02-18T10:46:51.453690Z",
     "iopub.status.busy": "2022-02-18T10:46:51.453298Z",
     "iopub.status.idle": "2022-02-18T10:46:51.511703Z",
     "shell.execute_reply": "2022-02-18T10:46:51.511360Z"
    }
   },
   "outputs": [
    {
     "data": {
      "image/svg+xml": [
       "<?xml version=\"1.0\" encoding=\"UTF-8\" standalone=\"no\"?><svg xmlns=\"http://www.w3.org/2000/svg\" xmlns:xlink=\"http://www.w3.org/1999/xlink\" contentScriptType=\"application/ecmascript\" contentStyleType=\"text/css\" height=\"552px\" preserveAspectRatio=\"none\" style=\"width:557px;height:552px;\" version=\"1.1\" viewBox=\"0 0 557 552\" width=\"557px\" zoomAndPan=\"magnify\"><defs><filter height=\"300%\" id=\"f1hrh5x6ssdtuj\" width=\"300%\" x=\"-1\" y=\"-1\"><feGaussianBlur result=\"blurOut\" stdDeviation=\"2.0\"/><feColorMatrix in=\"blurOut\" result=\"blurOut2\" type=\"matrix\" values=\"0 0 0 0 0 0 0 0 0 0 0 0 0 0 0 0 0 0 .4 0\"/><feOffset dx=\"4.0\" dy=\"4.0\" in=\"blurOut2\" result=\"blurOut3\"/><feBlend in=\"SourceGraphic\" in2=\"blurOut3\" mode=\"normal\"/></filter></defs><g><!--MD5=[fbc87193dbaf4d95561dea2c320d4a47]\n",
       "cluster E1--><a href=\"psysml:30c793ee-6e7c-4739-835e-bebdfc5bf1ce\" target=\"_top\" title=\"psysml:30c793ee-6e7c-4739-835e-bebdfc5bf1ce\" xlink:actuate=\"onRequest\" xlink:href=\"psysml:30c793ee-6e7c-4739-835e-bebdfc5bf1ce\" xlink:show=\"new\" xlink:title=\"psysml:30c793ee-6e7c-4739-835e-bebdfc5bf1ce\" xlink:type=\"simple\"><polygon fill=\"#FFFFFF\" filter=\"url(#f1hrh5x6ssdtuj)\" points=\"16,6,142,6,149,28.2969,535,28.2969,535,540.72,16,540.72,16,6\" style=\"stroke: #000000; stroke-width: 1.5;\"/><line style=\"stroke: #000000; stroke-width: 1.5;\" x1=\"16\" x2=\"149\" y1=\"28.2969\" y2=\"28.2969\"/><text fill=\"#000000\" font-family=\"sans-serif\" font-size=\"14\" font-weight=\"bold\" lengthAdjust=\"spacingAndGlyphs\" textLength=\"120\" x=\"20\" y=\"20.9951\">DependencyTest</text></a><!--MD5=[e4f7fae6ed58524ba242bb0b0d3be6b7]\n",
       "cluster E2--><a href=\"psysml:db7b2f1b-03d7-4942-9142-e18d7a555d76\" target=\"_top\" title=\"psysml:db7b2f1b-03d7-4942-9142-e18d7a555d76\" xlink:actuate=\"onRequest\" xlink:href=\"psysml:db7b2f1b-03d7-4942-9142-e18d7a555d76\" xlink:show=\"new\" xlink:title=\"psysml:db7b2f1b-03d7-4942-9142-e18d7a555d76\" xlink:type=\"simple\"><polygon fill=\"#FFFFFF\" filter=\"url(#f1hrh5x6ssdtuj)\" points=\"292,120.72,349,120.72,356,143.0169,495,143.0169,495,500.72,292,500.72,292,120.72\" style=\"stroke: #000000; stroke-width: 1.5;\"/><line style=\"stroke: #000000; stroke-width: 1.5;\" x1=\"292\" x2=\"356\" y1=\"143.0169\" y2=\"143.0169\"/><text fill=\"#000000\" font-family=\"sans-serif\" font-size=\"14\" font-weight=\"bold\" lengthAdjust=\"spacingAndGlyphs\" textLength=\"51\" x=\"296\" y=\"135.7151\">System</text></a><!--MD5=[60a26617385b1d2d0262a64233df1f8d]\n",
       "class E6--><a href=\"psysml:d66666e9-9ac5-42c6-8412-5d0a1bea61ed\" target=\"_top\" title=\"psysml:d66666e9-9ac5-42c6-8412-5d0a1bea61ed\" xlink:actuate=\"onRequest\" xlink:href=\"psysml:d66666e9-9ac5-42c6-8412-5d0a1bea61ed\" xlink:show=\"new\" xlink:title=\"psysml:d66666e9-9ac5-42c6-8412-5d0a1bea61ed\" xlink:type=\"simple\"><rect fill=\"#FEFECE\" filter=\"url(#f1hrh5x6ssdtuj)\" height=\"45.9375\" id=\"E6\" rx=\"10\" ry=\"10\" style=\"stroke: #A80036; stroke-width: 1.5;\" width=\"97\" x=\"39.5\" y=\"297.22\"/><ellipse cx=\"54.5\" cy=\"316.1888\" fill=\"#FFA500\" rx=\"11\" ry=\"11\" style=\"stroke: #A80036; stroke-width: 1.0;\"/><path d=\"M54.25,321.6575 Q52.5,321.6575 51.5469,320.6263 Q50.6094,319.5794 50.6094,317.7356 L50.6094,310.845 L52.6719,310.845 L52.6719,311.0013 Q52.5781,311.095 52.5469,311.2356 Q52.5313,311.3606 52.5313,311.6263 L52.5313,317.7513 Q52.5313,318.845 52.9063,319.47 Q53.2813,320.095 54.2656,320.095 Q55.25,320.095 55.6406,319.47 Q56.0313,318.845 56.0313,317.7044 L56.0313,310.845 L57.9063,310.845 L57.9063,317.6888 Q57.9063,319.72 56.875,320.6888 Q55.8594,321.6575 54.25,321.6575 Z \"/><text fill=\"#000000\" font-family=\"sans-serif\" font-size=\"12\" font-style=\"italic\" lengthAdjust=\"spacingAndGlyphs\" textLength=\"69\" x=\"66.5\" y=\"313.3587\">«attribute»</text><text fill=\"#000000\" font-family=\"sans-serif\" font-size=\"12\" lengthAdjust=\"spacingAndGlyphs\" textLength=\"6\" x=\"96\" y=\"327.3274\">x</text><line style=\"stroke: #A80036; stroke-width: 1.5;\" x1=\"40.5\" x2=\"135.5\" y1=\"335.1575\" y2=\"335.1575\"/></a><!--MD5=[2156ba9850f5573cc1fc38a6a4b2f02b]\n",
       "class E7--><a href=\"psysml:4c5b6854-1a08-45b4-8136-d30683a500ef\" target=\"_top\" title=\"psysml:4c5b6854-1a08-45b4-8136-d30683a500ef\" xlink:actuate=\"onRequest\" xlink:href=\"psysml:4c5b6854-1a08-45b4-8136-d30683a500ef\" xlink:show=\"new\" xlink:title=\"psysml:4c5b6854-1a08-45b4-8136-d30683a500ef\" xlink:type=\"simple\"><rect fill=\"#FEFECE\" filter=\"url(#f1hrh5x6ssdtuj)\" height=\"45.9375\" id=\"E7\" rx=\"10\" ry=\"10\" style=\"stroke: #A80036; stroke-width: 1.5;\" width=\"97\" x=\"171.5\" y=\"297.22\"/><ellipse cx=\"186.5\" cy=\"316.1888\" fill=\"#FFA500\" rx=\"11\" ry=\"11\" style=\"stroke: #A80036; stroke-width: 1.0;\"/><path d=\"M186.25,321.6575 Q184.5,321.6575 183.5469,320.6263 Q182.6094,319.5794 182.6094,317.7356 L182.6094,310.845 L184.6719,310.845 L184.6719,311.0013 Q184.5781,311.095 184.5469,311.2356 Q184.5313,311.3606 184.5313,311.6263 L184.5313,317.7513 Q184.5313,318.845 184.9063,319.47 Q185.2813,320.095 186.2656,320.095 Q187.25,320.095 187.6406,319.47 Q188.0313,318.845 188.0313,317.7044 L188.0313,310.845 L189.9063,310.845 L189.9063,317.6888 Q189.9063,319.72 188.875,320.6888 Q187.8594,321.6575 186.25,321.6575 Z \"/><text fill=\"#000000\" font-family=\"sans-serif\" font-size=\"12\" font-style=\"italic\" lengthAdjust=\"spacingAndGlyphs\" textLength=\"69\" x=\"198.5\" y=\"313.3587\">«attribute»</text><text fill=\"#000000\" font-family=\"sans-serif\" font-size=\"12\" lengthAdjust=\"spacingAndGlyphs\" textLength=\"6\" x=\"228\" y=\"327.3274\">y</text><line style=\"stroke: #A80036; stroke-width: 1.5;\" x1=\"172.5\" x2=\"267.5\" y1=\"335.1575\" y2=\"335.1575\"/></a><!--MD5=[b9389687b975829384b498ac4b7476b2]\n",
       "class E8--><a href=\"psysml:e4676a73-900e-4cfc-90aa-035aeedcaeac\" target=\"_top\" title=\"psysml:e4676a73-900e-4cfc-90aa-035aeedcaeac\" xlink:actuate=\"onRequest\" xlink:href=\"psysml:e4676a73-900e-4cfc-90aa-035aeedcaeac\" xlink:show=\"new\" xlink:title=\"psysml:e4676a73-900e-4cfc-90aa-035aeedcaeac\" xlink:type=\"simple\"><rect fill=\"#FEFECE\" filter=\"url(#f1hrh5x6ssdtuj)\" height=\"45.9375\" id=\"E8\" rx=\"10\" ry=\"10\" style=\"stroke: #A80036; stroke-width: 1.5;\" width=\"97\" x=\"92.5\" y=\"167.22\"/><ellipse cx=\"107.5\" cy=\"186.1888\" fill=\"#FFA500\" rx=\"11\" ry=\"11\" style=\"stroke: #A80036; stroke-width: 1.0;\"/><path d=\"M107.25,191.6575 Q105.5,191.6575 104.5469,190.6263 Q103.6094,189.5794 103.6094,187.7356 L103.6094,180.845 L105.6719,180.845 L105.6719,181.0013 Q105.5781,181.095 105.5469,181.2356 Q105.5313,181.3606 105.5313,181.6263 L105.5313,187.7513 Q105.5313,188.845 105.9063,189.47 Q106.2813,190.095 107.2656,190.095 Q108.25,190.095 108.6406,189.47 Q109.0313,188.845 109.0313,187.7044 L109.0313,180.845 L110.9063,180.845 L110.9063,187.6888 Q110.9063,189.72 109.875,190.6888 Q108.8594,191.6575 107.25,191.6575 Z \"/><text fill=\"#000000\" font-family=\"sans-serif\" font-size=\"12\" font-style=\"italic\" lengthAdjust=\"spacingAndGlyphs\" textLength=\"69\" x=\"119.5\" y=\"183.3587\">«attribute»</text><text fill=\"#000000\" font-family=\"sans-serif\" font-size=\"12\" lengthAdjust=\"spacingAndGlyphs\" textLength=\"5\" x=\"149.5\" y=\"197.3274\">z</text><line style=\"stroke: #A80036; stroke-width: 1.5;\" x1=\"93.5\" x2=\"188.5\" y1=\"205.1575\" y2=\"205.1575\"/></a><a href=\"psysml:7d470368-8955-499f-8cd6-0162cc61b017\" target=\"_top\" title=\"psysml:7d470368-8955-499f-8cd6-0162cc61b017\" xlink:actuate=\"onRequest\" xlink:href=\"psysml:7d470368-8955-499f-8cd6-0162cc61b017\" xlink:show=\"new\" xlink:title=\"psysml:7d470368-8955-499f-8cd6-0162cc61b017\" xlink:type=\"simple\"><polygon fill=\"#FFFFFF\" filter=\"url(#f1hrh5x6ssdtuj)\" points=\"335.5,163.72,456.5,163.72,463.5,186.0169,470.5,186.0169,470.5,216.3138,335.5,216.3138,335.5,163.72\" style=\"stroke: #000000; stroke-width: 1.5;\"/><line style=\"stroke: #000000; stroke-width: 1.5;\" x1=\"335.5\" x2=\"463.5\" y1=\"186.0169\" y2=\"186.0169\"/><text fill=\"#000000\" font-family=\"sans-serif\" font-size=\"14\" font-weight=\"bold\" lengthAdjust=\"spacingAndGlyphs\" textLength=\"115\" x=\"339.5\" y=\"178.7151\">Application Layer</text></a><a href=\"psysml:db30598f-7650-4b69-b852-4feea02efbf5\" target=\"_top\" title=\"psysml:db30598f-7650-4b69-b852-4feea02efbf5\" xlink:actuate=\"onRequest\" xlink:href=\"psysml:db30598f-7650-4b69-b852-4feea02efbf5\" xlink:show=\"new\" xlink:title=\"psysml:db30598f-7650-4b69-b852-4feea02efbf5\" xlink:type=\"simple\"><polygon fill=\"#FFFFFF\" filter=\"url(#f1hrh5x6ssdtuj)\" points=\"348,293.72,444,293.72,451,316.0169,458,316.0169,458,346.3138,348,346.3138,348,293.72\" style=\"stroke: #000000; stroke-width: 1.5;\"/><line style=\"stroke: #000000; stroke-width: 1.5;\" x1=\"348\" x2=\"451\" y1=\"316.0169\" y2=\"316.0169\"/><text fill=\"#000000\" font-family=\"sans-serif\" font-size=\"14\" font-weight=\"bold\" lengthAdjust=\"spacingAndGlyphs\" textLength=\"90\" x=\"352\" y=\"308.7151\">Service Layer</text></a><a href=\"psysml:f08d8e27-e89d-40a2-8de2-c51098f76f95\" target=\"_top\" title=\"psysml:f08d8e27-e89d-40a2-8de2-c51098f76f95\" xlink:actuate=\"onRequest\" xlink:href=\"psysml:f08d8e27-e89d-40a2-8de2-c51098f76f95\" xlink:show=\"new\" xlink:title=\"psysml:f08d8e27-e89d-40a2-8de2-c51098f76f95\" xlink:type=\"simple\"><polygon fill=\"#FFFFFF\" filter=\"url(#f1hrh5x6ssdtuj)\" points=\"357,423.72,435,423.72,442,446.0169,449,446.0169,449,476.3138,357,476.3138,357,423.72\" style=\"stroke: #000000; stroke-width: 1.5;\"/><line style=\"stroke: #000000; stroke-width: 1.5;\" x1=\"357\" x2=\"442\" y1=\"446.0169\" y2=\"446.0169\"/><text fill=\"#000000\" font-family=\"sans-serif\" font-size=\"14\" font-weight=\"bold\" lengthAdjust=\"spacingAndGlyphs\" textLength=\"72\" x=\"361\" y=\"438.7151\">Data Layer</text></a><!--MD5=[1f1cd8e6dd4c1b2ca2aaccc9b9bcea6e]\n",
       "link E1 to E2--><a href=\"psysml:2cdf9aea-584d-4dc5-87f2-78933b91772a\" target=\"_top\" title=\"psysml:2cdf9aea-584d-4dc5-87f2-78933b91772a\" xlink:actuate=\"onRequest\" xlink:href=\"psysml:2cdf9aea-584d-4dc5-87f2-78933b91772a\" xlink:show=\"new\" xlink:title=\"psysml:2cdf9aea-584d-4dc5-87f2-78933b91772a\" xlink:type=\"simple\"><path d=\"M300,33.83 C300,36.15 300,73.83 300,111.5 C300,113.8544 300,116.2087 300,118.5544 C300,119.1408 300,119.7267 300,120.3119 \" fill=\"none\" id=\"E1-&gt;E2\" style=\"stroke: #A80036; stroke-width: 1.0; stroke-dasharray: 7.0,7.0;\"/><polygon fill=\"#A80036\" points=\"300,120.3119,304,111.3119,300,115.3119,296,111.3119,300,120.3119\" style=\"stroke: #A80036; stroke-width: 1.0;\"/><text fill=\"#000000\" font-family=\"sans-serif\" font-size=\"13\" lengthAdjust=\"spacingAndGlyphs\" textLength=\"65\" x=\"301\" y=\"76.7869\">«import»*</text></a><!--MD5=[af87c684e3b0d8be13c1a698a818ef1e]\n",
       "link E3 to E4--><a href=\"psysml:ef543251-f685-45ef-999a-4058d8fef1e9\" target=\"_top\" title=\"psysml:ef543251-f685-45ef-999a-4058d8fef1e9\" xlink:actuate=\"onRequest\" xlink:href=\"psysml:ef543251-f685-45ef-999a-4058d8fef1e9\" xlink:show=\"new\" xlink:title=\"psysml:ef543251-f685-45ef-999a-4058d8fef1e9\" xlink:type=\"simple\"><path d=\"M403,216.82 C403,236.52 403,263.94 403,285.45 \" fill=\"none\" id=\"E3-&gt;E4\" style=\"stroke: #A80036; stroke-width: 1.0; stroke-dasharray: 7.0,7.0;\"/><polygon fill=\"#A80036\" points=\"403,293.67,406,285.67,400,285.67,403,293.67\" style=\"stroke: #A80036; stroke-width: 1.0;\"/><text fill=\"#000000\" font-family=\"sans-serif\" font-size=\"13\" lengthAdjust=\"spacingAndGlyphs\" textLength=\"64\" x=\"404\" y=\"259.7869\">«depend»</text></a><!--MD5=[1b7591eae5389033d8d09a9d6721a717]\n",
       "link E4 to E5--><a href=\"psysml:f939ae72-3488-4da6-b797-5f4561198517\" target=\"_top\" title=\"psysml:f939ae72-3488-4da6-b797-5f4561198517\" xlink:actuate=\"onRequest\" xlink:href=\"psysml:f939ae72-3488-4da6-b797-5f4561198517\" xlink:show=\"new\" xlink:title=\"psysml:f939ae72-3488-4da6-b797-5f4561198517\" xlink:type=\"simple\"><path d=\"M403,346.82 C403,366.52 403,393.94 403,415.45 \" fill=\"none\" id=\"E4-&gt;E5\" style=\"stroke: #A80036; stroke-width: 1.0; stroke-dasharray: 7.0,7.0;\"/><polygon fill=\"#A80036\" points=\"403,423.67,406,415.67,400,415.67,403,423.67\" style=\"stroke: #A80036; stroke-width: 1.0;\"/><text fill=\"#000000\" font-family=\"sans-serif\" font-size=\"13\" lengthAdjust=\"spacingAndGlyphs\" textLength=\"64\" x=\"404\" y=\"389.7869\">«depend»</text></a><!--MD5=[c5e8897d989ce984f93528998a7150fe]\n",
       "link E8 to E6--><a href=\"psysml:2a73c336-1214-4cbc-85e1-1f3a30fc1732\" target=\"_top\" title=\"psysml:2a73c336-1214-4cbc-85e1-1f3a30fc1732\" xlink:actuate=\"onRequest\" xlink:href=\"psysml:2a73c336-1214-4cbc-85e1-1f3a30fc1732\" xlink:show=\"new\" xlink:title=\"psysml:2a73c336-1214-4cbc-85e1-1f3a30fc1732\" xlink:type=\"simple\"><path d=\"M114.44,213.48 C105.3,222.73 96.09,234.23 91,246.72 C85.6,259.95 84.4,275.7 84.73,289.13 \" fill=\"none\" id=\"E8-&gt;E6\" style=\"stroke: #A80036; stroke-width: 1.0; stroke-dasharray: 7.0,7.0;\"/><polygon fill=\"#A80036\" points=\"85.12,297.15,87.7306,289.0146,81.7375,289.304,85.12,297.15\" style=\"stroke: #A80036; stroke-width: 1.0;\"/><text fill=\"#000000\" font-family=\"sans-serif\" font-size=\"13\" lengthAdjust=\"spacingAndGlyphs\" textLength=\"64\" x=\"92\" y=\"259.7869\">«depend»</text></a><!--MD5=[bfa3c8b0d15052fdf50ae9310b491027]\n",
       "link E8 to E7--><a href=\"psysml:2a73c336-1214-4cbc-85e1-1f3a30fc1732\" target=\"_top\" title=\"psysml:2a73c336-1214-4cbc-85e1-1f3a30fc1732\" xlink:actuate=\"onRequest\" xlink:href=\"psysml:2a73c336-1214-4cbc-85e1-1f3a30fc1732\" xlink:show=\"new\" xlink:title=\"psysml:2a73c336-1214-4cbc-85e1-1f3a30fc1732\" xlink:type=\"simple\"><path d=\"M154.58,213.22 C167.69,234.47 187.63,266.77 202.05,290.13 \" fill=\"none\" id=\"E8-&gt;E7\" style=\"stroke: #A80036; stroke-width: 1.0; stroke-dasharray: 7.0,7.0;\"/><polygon fill=\"#A80036\" points=\"206.33,297.07,204.6785,288.6871,199.5737,291.8401,206.33,297.07\" style=\"stroke: #A80036; stroke-width: 1.0;\"/><text fill=\"#000000\" font-family=\"sans-serif\" font-size=\"13\" lengthAdjust=\"spacingAndGlyphs\" textLength=\"64\" x=\"186\" y=\"259.7869\">«depend»</text></a><!--MD5=[a15735680aa37977c268037fc68928a5]\n",
       "@startuml\r\n",
       " \r\n",
       "package \"DependencyTest\" as E1  [[psysml:30c793ee-6e7c-4739-835e-bebdfc5bf1ce ]]  {\r\n",
       "package \"System\" as E2  [[psysml:db7b2f1b-03d7-4942-9142-e18d7a555d76 ]]  {\r\n",
       "package \"Application Layer\" as E3  [[psysml:7d470368-8955-499f-8cd6-0162cc61b017 ]]  {\r\n",
       "}\r\n",
       "package \"Service Layer\" as E4  [[psysml:db30598f-7650-4b69-b852-4feea02efbf5 ]]  {\r\n",
       "}\r\n",
       "package \"Data Layer\" as E5  [[psysml:f08d8e27-e89d-40a2-8de2-c51098f76f95 ]]  {\r\n",
       "}\r\n",
       "}\r\n",
       "comp usage \"x \" as E6 << <<(U,orange) attribute>> [[psysml:d66666e9-9ac5-42c6-8412-5d0a1bea61ed ]] {\r\n",
       "}\r\n",
       "comp usage \"y \" as E7 << <<(U,orange) attribute>> [[psysml:4c5b6854-1a08-45b4-8136-d30683a500ef ]] {\r\n",
       "}\r\n",
       "comp usage \"z \" as E8 << <<(U,orange) attribute>> [[psysml:e4676a73-900e-4cfc-90aa-035aeedcaeac ]] {\r\n",
       "}\r\n",
       "}\r\n",
       "E1 ..> E2 [[psysml:2cdf9aea-584d-4dc5-87f2-78933b91772a ]] : <<import>>*\r\n",
       "E3 ..>> E4 [[psysml:ef543251-f685-45ef-999a-4058d8fef1e9 ]] : <<depend>>\r\n",
       "E4 ..>> E5 [[psysml:f939ae72-3488-4da6-b797-5f4561198517 ]] : <<depend>>\r\n",
       "E8 ..>> E6 [[psysml:2a73c336-1214-4cbc-85e1-1f3a30fc1732 ]] : <<depend>>\r\n",
       "E8 ..>> E7 [[psysml:2a73c336-1214-4cbc-85e1-1f3a30fc1732 ]] : <<depend>>\r\n",
       "@enduml\r\n",
       "\n",
       "PlantUML version 1.2020.13(Sat Jun 13 12:26:38 UTC 2020)\n",
       "(EPL source distribution)\n",
       "Java Runtime: OpenJDK Runtime Environment\n",
       "JVM: OpenJDK 64-Bit Server VM\n",
       "Default Encoding: UTF-8\n",
       "Language: en\n",
       "Country: null\n",
       "--></g></svg>"
      ]
     },
     "execution_count": 30,
     "metadata": {},
     "output_type": "execute_result"
    }
   ],
   "source": [
    "%viz --style=\"PLANTUML\" --view=\"Default\" \"DependencyTest\""
   ]
  },
  {
   "cell_type": "code",
   "execution_count": 31,
   "id": "fe3f62bc",
   "metadata": {
    "execution": {
     "iopub.execute_input": "2022-02-18T10:46:51.561444Z",
     "iopub.status.busy": "2022-02-18T10:46:51.561051Z",
     "iopub.status.idle": "2022-02-18T10:46:51.597356Z",
     "shell.execute_reply": "2022-02-18T10:46:51.597008Z"
    }
   },
   "outputs": [
    {
     "data": {
      "image/svg+xml": [
       "<?xml version=\"1.0\" encoding=\"UTF-8\" standalone=\"no\"?><svg xmlns=\"http://www.w3.org/2000/svg\" xmlns:xlink=\"http://www.w3.org/1999/xlink\" contentScriptType=\"application/ecmascript\" contentStyleType=\"text/css\" height=\"552px\" preserveAspectRatio=\"none\" style=\"width:557px;height:552px;\" version=\"1.1\" viewBox=\"0 0 557 552\" width=\"557px\" zoomAndPan=\"magnify\"><defs><filter height=\"300%\" id=\"f1hrh5x6ssdtuj\" width=\"300%\" x=\"-1\" y=\"-1\"><feGaussianBlur result=\"blurOut\" stdDeviation=\"2.0\"/><feColorMatrix in=\"blurOut\" result=\"blurOut2\" type=\"matrix\" values=\"0 0 0 0 0 0 0 0 0 0 0 0 0 0 0 0 0 0 .4 0\"/><feOffset dx=\"4.0\" dy=\"4.0\" in=\"blurOut2\" result=\"blurOut3\"/><feBlend in=\"SourceGraphic\" in2=\"blurOut3\" mode=\"normal\"/></filter></defs><g><!--MD5=[fbc87193dbaf4d95561dea2c320d4a47]\n",
       "cluster E1--><a href=\"psysml:30c793ee-6e7c-4739-835e-bebdfc5bf1ce\" target=\"_top\" title=\"psysml:30c793ee-6e7c-4739-835e-bebdfc5bf1ce\" xlink:actuate=\"onRequest\" xlink:href=\"psysml:30c793ee-6e7c-4739-835e-bebdfc5bf1ce\" xlink:show=\"new\" xlink:title=\"psysml:30c793ee-6e7c-4739-835e-bebdfc5bf1ce\" xlink:type=\"simple\"><polygon fill=\"#FFFFFF\" filter=\"url(#f1hrh5x6ssdtuj)\" points=\"16,6,142,6,149,28.2969,535,28.2969,535,540.72,16,540.72,16,6\" style=\"stroke: #000000; stroke-width: 1.5;\"/><line style=\"stroke: #000000; stroke-width: 1.5;\" x1=\"16\" x2=\"149\" y1=\"28.2969\" y2=\"28.2969\"/><text fill=\"#000000\" font-family=\"sans-serif\" font-size=\"14\" font-weight=\"bold\" lengthAdjust=\"spacingAndGlyphs\" textLength=\"120\" x=\"20\" y=\"20.9951\">DependencyTest</text></a><!--MD5=[e4f7fae6ed58524ba242bb0b0d3be6b7]\n",
       "cluster E2--><a href=\"psysml:db7b2f1b-03d7-4942-9142-e18d7a555d76\" target=\"_top\" title=\"psysml:db7b2f1b-03d7-4942-9142-e18d7a555d76\" xlink:actuate=\"onRequest\" xlink:href=\"psysml:db7b2f1b-03d7-4942-9142-e18d7a555d76\" xlink:show=\"new\" xlink:title=\"psysml:db7b2f1b-03d7-4942-9142-e18d7a555d76\" xlink:type=\"simple\"><polygon fill=\"#FFFFFF\" filter=\"url(#f1hrh5x6ssdtuj)\" points=\"292,120.72,349,120.72,356,143.0169,495,143.0169,495,500.72,292,500.72,292,120.72\" style=\"stroke: #000000; stroke-width: 1.5;\"/><line style=\"stroke: #000000; stroke-width: 1.5;\" x1=\"292\" x2=\"356\" y1=\"143.0169\" y2=\"143.0169\"/><text fill=\"#000000\" font-family=\"sans-serif\" font-size=\"14\" font-weight=\"bold\" lengthAdjust=\"spacingAndGlyphs\" textLength=\"51\" x=\"296\" y=\"135.7151\">System</text></a><!--MD5=[60a26617385b1d2d0262a64233df1f8d]\n",
       "class E6--><a href=\"psysml:d66666e9-9ac5-42c6-8412-5d0a1bea61ed\" target=\"_top\" title=\"psysml:d66666e9-9ac5-42c6-8412-5d0a1bea61ed\" xlink:actuate=\"onRequest\" xlink:href=\"psysml:d66666e9-9ac5-42c6-8412-5d0a1bea61ed\" xlink:show=\"new\" xlink:title=\"psysml:d66666e9-9ac5-42c6-8412-5d0a1bea61ed\" xlink:type=\"simple\"><rect fill=\"#FEFECE\" filter=\"url(#f1hrh5x6ssdtuj)\" height=\"45.9375\" id=\"E6\" rx=\"10\" ry=\"10\" style=\"stroke: #A80036; stroke-width: 1.5;\" width=\"97\" x=\"39.5\" y=\"297.22\"/><ellipse cx=\"54.5\" cy=\"316.1888\" fill=\"#FFA500\" rx=\"11\" ry=\"11\" style=\"stroke: #A80036; stroke-width: 1.0;\"/><path d=\"M54.25,321.6575 Q52.5,321.6575 51.5469,320.6263 Q50.6094,319.5794 50.6094,317.7356 L50.6094,310.845 L52.6719,310.845 L52.6719,311.0013 Q52.5781,311.095 52.5469,311.2356 Q52.5313,311.3606 52.5313,311.6263 L52.5313,317.7513 Q52.5313,318.845 52.9063,319.47 Q53.2813,320.095 54.2656,320.095 Q55.25,320.095 55.6406,319.47 Q56.0313,318.845 56.0313,317.7044 L56.0313,310.845 L57.9063,310.845 L57.9063,317.6888 Q57.9063,319.72 56.875,320.6888 Q55.8594,321.6575 54.25,321.6575 Z \"/><text fill=\"#000000\" font-family=\"sans-serif\" font-size=\"12\" font-style=\"italic\" lengthAdjust=\"spacingAndGlyphs\" textLength=\"69\" x=\"66.5\" y=\"313.3587\">«attribute»</text><text fill=\"#000000\" font-family=\"sans-serif\" font-size=\"12\" lengthAdjust=\"spacingAndGlyphs\" textLength=\"6\" x=\"96\" y=\"327.3274\">x</text><line style=\"stroke: #A80036; stroke-width: 1.5;\" x1=\"40.5\" x2=\"135.5\" y1=\"335.1575\" y2=\"335.1575\"/></a><!--MD5=[2156ba9850f5573cc1fc38a6a4b2f02b]\n",
       "class E7--><a href=\"psysml:4c5b6854-1a08-45b4-8136-d30683a500ef\" target=\"_top\" title=\"psysml:4c5b6854-1a08-45b4-8136-d30683a500ef\" xlink:actuate=\"onRequest\" xlink:href=\"psysml:4c5b6854-1a08-45b4-8136-d30683a500ef\" xlink:show=\"new\" xlink:title=\"psysml:4c5b6854-1a08-45b4-8136-d30683a500ef\" xlink:type=\"simple\"><rect fill=\"#FEFECE\" filter=\"url(#f1hrh5x6ssdtuj)\" height=\"45.9375\" id=\"E7\" rx=\"10\" ry=\"10\" style=\"stroke: #A80036; stroke-width: 1.5;\" width=\"97\" x=\"171.5\" y=\"297.22\"/><ellipse cx=\"186.5\" cy=\"316.1888\" fill=\"#FFA500\" rx=\"11\" ry=\"11\" style=\"stroke: #A80036; stroke-width: 1.0;\"/><path d=\"M186.25,321.6575 Q184.5,321.6575 183.5469,320.6263 Q182.6094,319.5794 182.6094,317.7356 L182.6094,310.845 L184.6719,310.845 L184.6719,311.0013 Q184.5781,311.095 184.5469,311.2356 Q184.5313,311.3606 184.5313,311.6263 L184.5313,317.7513 Q184.5313,318.845 184.9063,319.47 Q185.2813,320.095 186.2656,320.095 Q187.25,320.095 187.6406,319.47 Q188.0313,318.845 188.0313,317.7044 L188.0313,310.845 L189.9063,310.845 L189.9063,317.6888 Q189.9063,319.72 188.875,320.6888 Q187.8594,321.6575 186.25,321.6575 Z \"/><text fill=\"#000000\" font-family=\"sans-serif\" font-size=\"12\" font-style=\"italic\" lengthAdjust=\"spacingAndGlyphs\" textLength=\"69\" x=\"198.5\" y=\"313.3587\">«attribute»</text><text fill=\"#000000\" font-family=\"sans-serif\" font-size=\"12\" lengthAdjust=\"spacingAndGlyphs\" textLength=\"6\" x=\"228\" y=\"327.3274\">y</text><line style=\"stroke: #A80036; stroke-width: 1.5;\" x1=\"172.5\" x2=\"267.5\" y1=\"335.1575\" y2=\"335.1575\"/></a><!--MD5=[b9389687b975829384b498ac4b7476b2]\n",
       "class E8--><a href=\"psysml:e4676a73-900e-4cfc-90aa-035aeedcaeac\" target=\"_top\" title=\"psysml:e4676a73-900e-4cfc-90aa-035aeedcaeac\" xlink:actuate=\"onRequest\" xlink:href=\"psysml:e4676a73-900e-4cfc-90aa-035aeedcaeac\" xlink:show=\"new\" xlink:title=\"psysml:e4676a73-900e-4cfc-90aa-035aeedcaeac\" xlink:type=\"simple\"><rect fill=\"#FEFECE\" filter=\"url(#f1hrh5x6ssdtuj)\" height=\"45.9375\" id=\"E8\" rx=\"10\" ry=\"10\" style=\"stroke: #A80036; stroke-width: 1.5;\" width=\"97\" x=\"92.5\" y=\"167.22\"/><ellipse cx=\"107.5\" cy=\"186.1888\" fill=\"#FFA500\" rx=\"11\" ry=\"11\" style=\"stroke: #A80036; stroke-width: 1.0;\"/><path d=\"M107.25,191.6575 Q105.5,191.6575 104.5469,190.6263 Q103.6094,189.5794 103.6094,187.7356 L103.6094,180.845 L105.6719,180.845 L105.6719,181.0013 Q105.5781,181.095 105.5469,181.2356 Q105.5313,181.3606 105.5313,181.6263 L105.5313,187.7513 Q105.5313,188.845 105.9063,189.47 Q106.2813,190.095 107.2656,190.095 Q108.25,190.095 108.6406,189.47 Q109.0313,188.845 109.0313,187.7044 L109.0313,180.845 L110.9063,180.845 L110.9063,187.6888 Q110.9063,189.72 109.875,190.6888 Q108.8594,191.6575 107.25,191.6575 Z \"/><text fill=\"#000000\" font-family=\"sans-serif\" font-size=\"12\" font-style=\"italic\" lengthAdjust=\"spacingAndGlyphs\" textLength=\"69\" x=\"119.5\" y=\"183.3587\">«attribute»</text><text fill=\"#000000\" font-family=\"sans-serif\" font-size=\"12\" lengthAdjust=\"spacingAndGlyphs\" textLength=\"5\" x=\"149.5\" y=\"197.3274\">z</text><line style=\"stroke: #A80036; stroke-width: 1.5;\" x1=\"93.5\" x2=\"188.5\" y1=\"205.1575\" y2=\"205.1575\"/></a><a href=\"psysml:7d470368-8955-499f-8cd6-0162cc61b017\" target=\"_top\" title=\"psysml:7d470368-8955-499f-8cd6-0162cc61b017\" xlink:actuate=\"onRequest\" xlink:href=\"psysml:7d470368-8955-499f-8cd6-0162cc61b017\" xlink:show=\"new\" xlink:title=\"psysml:7d470368-8955-499f-8cd6-0162cc61b017\" xlink:type=\"simple\"><polygon fill=\"#FFFFFF\" filter=\"url(#f1hrh5x6ssdtuj)\" points=\"335.5,163.72,456.5,163.72,463.5,186.0169,470.5,186.0169,470.5,216.3138,335.5,216.3138,335.5,163.72\" style=\"stroke: #000000; stroke-width: 1.5;\"/><line style=\"stroke: #000000; stroke-width: 1.5;\" x1=\"335.5\" x2=\"463.5\" y1=\"186.0169\" y2=\"186.0169\"/><text fill=\"#000000\" font-family=\"sans-serif\" font-size=\"14\" font-weight=\"bold\" lengthAdjust=\"spacingAndGlyphs\" textLength=\"115\" x=\"339.5\" y=\"178.7151\">Application Layer</text></a><a href=\"psysml:db30598f-7650-4b69-b852-4feea02efbf5\" target=\"_top\" title=\"psysml:db30598f-7650-4b69-b852-4feea02efbf5\" xlink:actuate=\"onRequest\" xlink:href=\"psysml:db30598f-7650-4b69-b852-4feea02efbf5\" xlink:show=\"new\" xlink:title=\"psysml:db30598f-7650-4b69-b852-4feea02efbf5\" xlink:type=\"simple\"><polygon fill=\"#FFFFFF\" filter=\"url(#f1hrh5x6ssdtuj)\" points=\"348,293.72,444,293.72,451,316.0169,458,316.0169,458,346.3138,348,346.3138,348,293.72\" style=\"stroke: #000000; stroke-width: 1.5;\"/><line style=\"stroke: #000000; stroke-width: 1.5;\" x1=\"348\" x2=\"451\" y1=\"316.0169\" y2=\"316.0169\"/><text fill=\"#000000\" font-family=\"sans-serif\" font-size=\"14\" font-weight=\"bold\" lengthAdjust=\"spacingAndGlyphs\" textLength=\"90\" x=\"352\" y=\"308.7151\">Service Layer</text></a><a href=\"psysml:f08d8e27-e89d-40a2-8de2-c51098f76f95\" target=\"_top\" title=\"psysml:f08d8e27-e89d-40a2-8de2-c51098f76f95\" xlink:actuate=\"onRequest\" xlink:href=\"psysml:f08d8e27-e89d-40a2-8de2-c51098f76f95\" xlink:show=\"new\" xlink:title=\"psysml:f08d8e27-e89d-40a2-8de2-c51098f76f95\" xlink:type=\"simple\"><polygon fill=\"#FFFFFF\" filter=\"url(#f1hrh5x6ssdtuj)\" points=\"357,423.72,435,423.72,442,446.0169,449,446.0169,449,476.3138,357,476.3138,357,423.72\" style=\"stroke: #000000; stroke-width: 1.5;\"/><line style=\"stroke: #000000; stroke-width: 1.5;\" x1=\"357\" x2=\"442\" y1=\"446.0169\" y2=\"446.0169\"/><text fill=\"#000000\" font-family=\"sans-serif\" font-size=\"14\" font-weight=\"bold\" lengthAdjust=\"spacingAndGlyphs\" textLength=\"72\" x=\"361\" y=\"438.7151\">Data Layer</text></a><!--MD5=[1f1cd8e6dd4c1b2ca2aaccc9b9bcea6e]\n",
       "link E1 to E2--><a href=\"psysml:2cdf9aea-584d-4dc5-87f2-78933b91772a\" target=\"_top\" title=\"psysml:2cdf9aea-584d-4dc5-87f2-78933b91772a\" xlink:actuate=\"onRequest\" xlink:href=\"psysml:2cdf9aea-584d-4dc5-87f2-78933b91772a\" xlink:show=\"new\" xlink:title=\"psysml:2cdf9aea-584d-4dc5-87f2-78933b91772a\" xlink:type=\"simple\"><path d=\"M300,33.83 C300,36.15 300,73.83 300,111.5 C300,113.8544 300,116.2087 300,118.5544 C300,119.1408 300,119.7267 300,120.3119 \" fill=\"none\" id=\"E1-&gt;E2\" style=\"stroke: #A80036; stroke-width: 1.0; stroke-dasharray: 7.0,7.0;\"/><polygon fill=\"#A80036\" points=\"300,120.3119,304,111.3119,300,115.3119,296,111.3119,300,120.3119\" style=\"stroke: #A80036; stroke-width: 1.0;\"/><text fill=\"#000000\" font-family=\"sans-serif\" font-size=\"13\" lengthAdjust=\"spacingAndGlyphs\" textLength=\"65\" x=\"301\" y=\"76.7869\">«import»*</text></a><!--MD5=[af87c684e3b0d8be13c1a698a818ef1e]\n",
       "link E3 to E4--><a href=\"psysml:ef543251-f685-45ef-999a-4058d8fef1e9\" target=\"_top\" title=\"psysml:ef543251-f685-45ef-999a-4058d8fef1e9\" xlink:actuate=\"onRequest\" xlink:href=\"psysml:ef543251-f685-45ef-999a-4058d8fef1e9\" xlink:show=\"new\" xlink:title=\"psysml:ef543251-f685-45ef-999a-4058d8fef1e9\" xlink:type=\"simple\"><path d=\"M403,216.82 C403,236.52 403,263.94 403,285.45 \" fill=\"none\" id=\"E3-&gt;E4\" style=\"stroke: #A80036; stroke-width: 1.0; stroke-dasharray: 7.0,7.0;\"/><polygon fill=\"#A80036\" points=\"403,293.67,406,285.67,400,285.67,403,293.67\" style=\"stroke: #A80036; stroke-width: 1.0;\"/><text fill=\"#000000\" font-family=\"sans-serif\" font-size=\"13\" lengthAdjust=\"spacingAndGlyphs\" textLength=\"64\" x=\"404\" y=\"259.7869\">«depend»</text></a><!--MD5=[1b7591eae5389033d8d09a9d6721a717]\n",
       "link E4 to E5--><a href=\"psysml:f939ae72-3488-4da6-b797-5f4561198517\" target=\"_top\" title=\"psysml:f939ae72-3488-4da6-b797-5f4561198517\" xlink:actuate=\"onRequest\" xlink:href=\"psysml:f939ae72-3488-4da6-b797-5f4561198517\" xlink:show=\"new\" xlink:title=\"psysml:f939ae72-3488-4da6-b797-5f4561198517\" xlink:type=\"simple\"><path d=\"M403,346.82 C403,366.52 403,393.94 403,415.45 \" fill=\"none\" id=\"E4-&gt;E5\" style=\"stroke: #A80036; stroke-width: 1.0; stroke-dasharray: 7.0,7.0;\"/><polygon fill=\"#A80036\" points=\"403,423.67,406,415.67,400,415.67,403,423.67\" style=\"stroke: #A80036; stroke-width: 1.0;\"/><text fill=\"#000000\" font-family=\"sans-serif\" font-size=\"13\" lengthAdjust=\"spacingAndGlyphs\" textLength=\"64\" x=\"404\" y=\"389.7869\">«depend»</text></a><!--MD5=[c5e8897d989ce984f93528998a7150fe]\n",
       "link E8 to E6--><a href=\"psysml:2a73c336-1214-4cbc-85e1-1f3a30fc1732\" target=\"_top\" title=\"psysml:2a73c336-1214-4cbc-85e1-1f3a30fc1732\" xlink:actuate=\"onRequest\" xlink:href=\"psysml:2a73c336-1214-4cbc-85e1-1f3a30fc1732\" xlink:show=\"new\" xlink:title=\"psysml:2a73c336-1214-4cbc-85e1-1f3a30fc1732\" xlink:type=\"simple\"><path d=\"M114.44,213.48 C105.3,222.73 96.09,234.23 91,246.72 C85.6,259.95 84.4,275.7 84.73,289.13 \" fill=\"none\" id=\"E8-&gt;E6\" style=\"stroke: #A80036; stroke-width: 1.0; stroke-dasharray: 7.0,7.0;\"/><polygon fill=\"#A80036\" points=\"85.12,297.15,87.7306,289.0146,81.7375,289.304,85.12,297.15\" style=\"stroke: #A80036; stroke-width: 1.0;\"/><text fill=\"#000000\" font-family=\"sans-serif\" font-size=\"13\" lengthAdjust=\"spacingAndGlyphs\" textLength=\"64\" x=\"92\" y=\"259.7869\">«depend»</text></a><!--MD5=[bfa3c8b0d15052fdf50ae9310b491027]\n",
       "link E8 to E7--><a href=\"psysml:2a73c336-1214-4cbc-85e1-1f3a30fc1732\" target=\"_top\" title=\"psysml:2a73c336-1214-4cbc-85e1-1f3a30fc1732\" xlink:actuate=\"onRequest\" xlink:href=\"psysml:2a73c336-1214-4cbc-85e1-1f3a30fc1732\" xlink:show=\"new\" xlink:title=\"psysml:2a73c336-1214-4cbc-85e1-1f3a30fc1732\" xlink:type=\"simple\"><path d=\"M154.58,213.22 C167.69,234.47 187.63,266.77 202.05,290.13 \" fill=\"none\" id=\"E8-&gt;E7\" style=\"stroke: #A80036; stroke-width: 1.0; stroke-dasharray: 7.0,7.0;\"/><polygon fill=\"#A80036\" points=\"206.33,297.07,204.6785,288.6871,199.5737,291.8401,206.33,297.07\" style=\"stroke: #A80036; stroke-width: 1.0;\"/><text fill=\"#000000\" font-family=\"sans-serif\" font-size=\"13\" lengthAdjust=\"spacingAndGlyphs\" textLength=\"64\" x=\"186\" y=\"259.7869\">«depend»</text></a><!--MD5=[a15735680aa37977c268037fc68928a5]\n",
       "@startuml\r\n",
       " \r\n",
       "package \"DependencyTest\" as E1  [[psysml:30c793ee-6e7c-4739-835e-bebdfc5bf1ce ]]  {\r\n",
       "package \"System\" as E2  [[psysml:db7b2f1b-03d7-4942-9142-e18d7a555d76 ]]  {\r\n",
       "package \"Application Layer\" as E3  [[psysml:7d470368-8955-499f-8cd6-0162cc61b017 ]]  {\r\n",
       "}\r\n",
       "package \"Service Layer\" as E4  [[psysml:db30598f-7650-4b69-b852-4feea02efbf5 ]]  {\r\n",
       "}\r\n",
       "package \"Data Layer\" as E5  [[psysml:f08d8e27-e89d-40a2-8de2-c51098f76f95 ]]  {\r\n",
       "}\r\n",
       "}\r\n",
       "comp usage \"x \" as E6 << <<(U,orange) attribute>> [[psysml:d66666e9-9ac5-42c6-8412-5d0a1bea61ed ]] {\r\n",
       "}\r\n",
       "comp usage \"y \" as E7 << <<(U,orange) attribute>> [[psysml:4c5b6854-1a08-45b4-8136-d30683a500ef ]] {\r\n",
       "}\r\n",
       "comp usage \"z \" as E8 << <<(U,orange) attribute>> [[psysml:e4676a73-900e-4cfc-90aa-035aeedcaeac ]] {\r\n",
       "}\r\n",
       "}\r\n",
       "E1 ..> E2 [[psysml:2cdf9aea-584d-4dc5-87f2-78933b91772a ]] : <<import>>*\r\n",
       "E3 ..>> E4 [[psysml:ef543251-f685-45ef-999a-4058d8fef1e9 ]] : <<depend>>\r\n",
       "E4 ..>> E5 [[psysml:f939ae72-3488-4da6-b797-5f4561198517 ]] : <<depend>>\r\n",
       "E8 ..>> E6 [[psysml:2a73c336-1214-4cbc-85e1-1f3a30fc1732 ]] : <<depend>>\r\n",
       "E8 ..>> E7 [[psysml:2a73c336-1214-4cbc-85e1-1f3a30fc1732 ]] : <<depend>>\r\n",
       "@enduml\r\n",
       "\n",
       "PlantUML version 1.2020.13(Sat Jun 13 12:26:38 UTC 2020)\n",
       "(EPL source distribution)\n",
       "Java Runtime: OpenJDK Runtime Environment\n",
       "JVM: OpenJDK 64-Bit Server VM\n",
       "Default Encoding: UTF-8\n",
       "Language: en\n",
       "Country: null\n",
       "--></g></svg>"
      ]
     },
     "execution_count": 31,
     "metadata": {},
     "output_type": "execute_result"
    }
   ],
   "source": [
    "%viz --style=\"PLANTUML\" --view=\"Tree\" \"DependencyTest\""
   ]
  },
  {
   "cell_type": "code",
   "execution_count": 32,
   "id": "487d0274",
   "metadata": {
    "execution": {
     "iopub.execute_input": "2022-02-18T10:46:51.647260Z",
     "iopub.status.busy": "2022-02-18T10:46:51.646864Z",
     "iopub.status.idle": "2022-02-18T10:46:51.741558Z",
     "shell.execute_reply": "2022-02-18T10:46:51.740326Z"
    }
   },
   "outputs": [
    {
     "data": {
      "image/svg+xml": [
       "<?xml version=\"1.0\" encoding=\"UTF-8\" standalone=\"no\"?><svg xmlns=\"http://www.w3.org/2000/svg\" xmlns:xlink=\"http://www.w3.org/1999/xlink\" contentScriptType=\"application/ecmascript\" contentStyleType=\"text/css\" height=\"300px\" preserveAspectRatio=\"none\" style=\"width:603px;height:300px;background:#000000;\" version=\"1.1\" viewBox=\"0 0 603 300\" width=\"603px\" zoomAndPan=\"magnify\"><defs/><g><rect fill=\"#04070C\" height=\"1\" style=\"stroke: #04070C; stroke-width: 1.0;\" width=\"1\" x=\"0\" y=\"0\"/><rect fill=\"#FFFFFF\" height=\"202.8012\" style=\"stroke: #FFFFFF; stroke-width: 1.0;\" width=\"602\" x=\"0\" y=\"0\"/><text fill=\"#000000\" font-family=\"sans-serif\" font-size=\"12\" font-weight=\"bold\" lengthAdjust=\"spacingAndGlyphs\" textLength=\"139\" x=\"5\" y=\"16.1387\">Welcome to PlantUML!</text><text fill=\"#000000\" font-family=\"sans-serif\" font-size=\"12\" lengthAdjust=\"spacingAndGlyphs\" textLength=\"0\" x=\"9\" y=\"30.1074\"/><text fill=\"#000000\" font-family=\"sans-serif\" font-size=\"12\" lengthAdjust=\"spacingAndGlyphs\" textLength=\"293\" x=\"5\" y=\"44.0762\">If you use this software, you accept its license.</text><text fill=\"#000000\" font-family=\"sans-serif\" font-size=\"12\" lengthAdjust=\"spacingAndGlyphs\" textLength=\"107\" x=\"5\" y=\"58.0449\">(details by typing</text><text fill=\"#000000\" font-family=\"monospace\" font-size=\"12\" lengthAdjust=\"spacingAndGlyphs\" textLength=\"42\" x=\"116\" y=\"58.595\">license</text><text fill=\"#000000\" font-family=\"sans-serif\" font-size=\"12\" lengthAdjust=\"spacingAndGlyphs\" textLength=\"56\" x=\"162\" y=\"58.0449\">keyword)</text><text fill=\"#000000\" font-family=\"sans-serif\" font-size=\"12\" lengthAdjust=\"spacingAndGlyphs\" textLength=\"0\" x=\"9\" y=\"72.0137\"/><text fill=\"#000000\" font-family=\"sans-serif\" font-size=\"12\" lengthAdjust=\"spacingAndGlyphs\" textLength=\"283\" x=\"5\" y=\"85.9824\">You can start with a simple UML Diagram like:</text><text fill=\"#000000\" font-family=\"sans-serif\" font-size=\"12\" lengthAdjust=\"spacingAndGlyphs\" textLength=\"0\" x=\"9\" y=\"99.9512\"/><text fill=\"#000000\" font-family=\"monospace\" font-size=\"12\" lengthAdjust=\"spacingAndGlyphs\" textLength=\"102\" x=\"5\" y=\"113.0893\">Bob-&gt;Alice: Hello</text><text fill=\"#000000\" font-family=\"sans-serif\" font-size=\"12\" lengthAdjust=\"spacingAndGlyphs\" textLength=\"0\" x=\"9\" y=\"126.508\"/><text fill=\"#000000\" font-family=\"sans-serif\" font-size=\"12\" lengthAdjust=\"spacingAndGlyphs\" textLength=\"14\" x=\"5\" y=\"140.4768\">Or</text><text fill=\"#000000\" font-family=\"sans-serif\" font-size=\"12\" lengthAdjust=\"spacingAndGlyphs\" textLength=\"0\" x=\"9\" y=\"154.4455\"/><text fill=\"#000000\" font-family=\"monospace\" font-size=\"12\" lengthAdjust=\"spacingAndGlyphs\" textLength=\"78\" x=\"5\" y=\"167.5837\">class Example</text><text fill=\"#000000\" font-family=\"sans-serif\" font-size=\"12\" lengthAdjust=\"spacingAndGlyphs\" textLength=\"0\" x=\"9\" y=\"181.0023\"/><text fill=\"#000000\" font-family=\"sans-serif\" font-size=\"12\" lengthAdjust=\"spacingAndGlyphs\" textLength=\"349\" x=\"5\" y=\"194.9711\">You will find more information about PlantUML syntax on</text><text fill=\"#000000\" font-family=\"sans-serif\" font-size=\"12\" lengthAdjust=\"spacingAndGlyphs\" text-decoration=\"underline\" textLength=\"129\" x=\"358\" y=\"194.9711\">https://plantuml.com</text><image height=\"71\" width=\"80\" x=\"516\" xlink:href=\"data:image/png;base64,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\" y=\"6\"/><rect fill=\"#000000\" height=\"96.4844\" style=\"stroke: #000000; stroke-width: 1.0;\" width=\"602\" x=\"0\" y=\"202.8012\"/><rect fill=\"#33FF02\" height=\"21.2969\" style=\"stroke: #33FF02; stroke-width: 1.0;\" width=\"145\" x=\"5\" y=\"207.8012\"/><text fill=\"#000000\" font-family=\"sans-serif\" font-size=\"14\" font-weight=\"bold\" lengthAdjust=\"spacingAndGlyphs\" textLength=\"143\" x=\"6\" y=\"222.8012\">[From string (line 2) ]</text><text fill=\"#33FF02\" font-family=\"sans-serif\" font-size=\"14\" font-weight=\"bold\" lengthAdjust=\"spacingAndGlyphs\" textLength=\"0\" x=\"9\" y=\"243.0981\"/><text fill=\"#33FF02\" font-family=\"sans-serif\" font-size=\"14\" font-weight=\"bold\" lengthAdjust=\"spacingAndGlyphs\" textLength=\"70\" x=\"5\" y=\"259.3949\">@startuml</text><text fill=\"#33FF02\" font-family=\"sans-serif\" font-size=\"14\" font-weight=\"bold\" lengthAdjust=\"spacingAndGlyphs\" textLength=\"0\" x=\"9\" y=\"275.6918\"/><text fill=\"#FF0000\" font-family=\"sans-serif\" font-size=\"14\" font-weight=\"bold\" lengthAdjust=\"spacingAndGlyphs\" textLength=\"124\" x=\"9\" y=\"291.9887\">Empty description</text><!--MD5=[f59edd8218d337f74d0c332fc6737304]\n",
       "@startuml\r\n",
       " \r\n",
       "@enduml\r\n",
       "\n",
       "PlantUML version 1.2020.13(Sat Jun 13 12:26:38 UTC 2020)\n",
       "(EPL source distribution)\n",
       "Java Runtime: OpenJDK Runtime Environment\n",
       "JVM: OpenJDK 64-Bit Server VM\n",
       "Default Encoding: UTF-8\n",
       "Language: en\n",
       "Country: null\n",
       "--></g></svg>"
      ]
     },
     "execution_count": 32,
     "metadata": {},
     "output_type": "execute_result"
    }
   ],
   "source": [
    "%viz --style=\"PLANTUML\" --view=\"State\" \"DependencyTest\""
   ]
  },
  {
   "cell_type": "code",
   "execution_count": 33,
   "id": "3f744ebf",
   "metadata": {
    "execution": {
     "iopub.execute_input": "2022-02-18T10:46:51.791009Z",
     "iopub.status.busy": "2022-02-18T10:46:51.790611Z",
     "iopub.status.idle": "2022-02-18T10:46:51.819760Z",
     "shell.execute_reply": "2022-02-18T10:46:51.819353Z"
    }
   },
   "outputs": [
    {
     "data": {
      "image/svg+xml": [
       "<?xml version=\"1.0\" encoding=\"UTF-8\" standalone=\"no\"?><svg xmlns=\"http://www.w3.org/2000/svg\" xmlns:xlink=\"http://www.w3.org/1999/xlink\" contentScriptType=\"application/ecmascript\" contentStyleType=\"text/css\" height=\"442px\" preserveAspectRatio=\"none\" style=\"width:557px;height:442px;\" version=\"1.1\" viewBox=\"0 0 557 442\" width=\"557px\" zoomAndPan=\"magnify\"><defs><filter height=\"300%\" id=\"f4czr06b9dkr4\" width=\"300%\" x=\"-1\" y=\"-1\"><feGaussianBlur result=\"blurOut\" stdDeviation=\"2.0\"/><feColorMatrix in=\"blurOut\" result=\"blurOut2\" type=\"matrix\" values=\"0 0 0 0 0 0 0 0 0 0 0 0 0 0 0 0 0 0 .4 0\"/><feOffset dx=\"4.0\" dy=\"4.0\" in=\"blurOut2\" result=\"blurOut3\"/><feBlend in=\"SourceGraphic\" in2=\"blurOut3\" mode=\"normal\"/></filter></defs><g><!--MD5=[fbc87193dbaf4d95561dea2c320d4a47]\n",
       "cluster E1--><a href=\"psysml:30c793ee-6e7c-4739-835e-bebdfc5bf1ce\" target=\"_top\" title=\"psysml:30c793ee-6e7c-4739-835e-bebdfc5bf1ce\" xlink:actuate=\"onRequest\" xlink:href=\"psysml:30c793ee-6e7c-4739-835e-bebdfc5bf1ce\" xlink:show=\"new\" xlink:title=\"psysml:30c793ee-6e7c-4739-835e-bebdfc5bf1ce\" xlink:type=\"simple\"><polygon fill=\"#FFFFFF\" filter=\"url(#f4czr06b9dkr4)\" points=\"16,6,142,6,149,28.2969,535,28.2969,535,430.72,16,430.72,16,6\" style=\"stroke: #000000; stroke-width: 1.5;\"/><line style=\"stroke: #000000; stroke-width: 1.5;\" x1=\"16\" x2=\"149\" y1=\"28.2969\" y2=\"28.2969\"/><text fill=\"#000000\" font-family=\"sans-serif\" font-size=\"14\" font-weight=\"bold\" lengthAdjust=\"spacingAndGlyphs\" textLength=\"120\" x=\"20\" y=\"20.9951\">DependencyTest</text></a><!--MD5=[e4f7fae6ed58524ba242bb0b0d3be6b7]\n",
       "cluster E2--><a href=\"psysml:db7b2f1b-03d7-4942-9142-e18d7a555d76\" target=\"_top\" title=\"psysml:db7b2f1b-03d7-4942-9142-e18d7a555d76\" xlink:actuate=\"onRequest\" xlink:href=\"psysml:db7b2f1b-03d7-4942-9142-e18d7a555d76\" xlink:show=\"new\" xlink:title=\"psysml:db7b2f1b-03d7-4942-9142-e18d7a555d76\" xlink:type=\"simple\"><polygon fill=\"#FFFFFF\" filter=\"url(#f4czr06b9dkr4)\" points=\"292,98.72,349,98.72,356,121.0169,495,121.0169,495,390.72,292,390.72,292,98.72\" style=\"stroke: #000000; stroke-width: 1.5;\"/><line style=\"stroke: #000000; stroke-width: 1.5;\" x1=\"292\" x2=\"356\" y1=\"121.0169\" y2=\"121.0169\"/><text fill=\"#000000\" font-family=\"sans-serif\" font-size=\"14\" font-weight=\"bold\" lengthAdjust=\"spacingAndGlyphs\" textLength=\"51\" x=\"296\" y=\"113.7151\">System</text></a><!--MD5=[60a26617385b1d2d0262a64233df1f8d]\n",
       "class E6--><a href=\"psysml:d66666e9-9ac5-42c6-8412-5d0a1bea61ed\" target=\"_top\" title=\"psysml:d66666e9-9ac5-42c6-8412-5d0a1bea61ed\" xlink:actuate=\"onRequest\" xlink:href=\"psysml:d66666e9-9ac5-42c6-8412-5d0a1bea61ed\" xlink:show=\"new\" xlink:title=\"psysml:d66666e9-9ac5-42c6-8412-5d0a1bea61ed\" xlink:type=\"simple\"><rect fill=\"#FEFECE\" filter=\"url(#f4czr06b9dkr4)\" height=\"45.9375\" id=\"E6\" rx=\"10\" ry=\"10\" style=\"stroke: #A80036; stroke-width: 1.5;\" width=\"97\" x=\"39.5\" y=\"231.22\"/><ellipse cx=\"54.5\" cy=\"250.1888\" fill=\"#FFA500\" rx=\"11\" ry=\"11\" style=\"stroke: #A80036; stroke-width: 1.0;\"/><path d=\"M54.25,255.6575 Q52.5,255.6575 51.5469,254.6263 Q50.6094,253.5794 50.6094,251.7356 L50.6094,244.845 L52.6719,244.845 L52.6719,245.0013 Q52.5781,245.095 52.5469,245.2356 Q52.5313,245.3606 52.5313,245.6263 L52.5313,251.7513 Q52.5313,252.845 52.9063,253.47 Q53.2813,254.095 54.2656,254.095 Q55.25,254.095 55.6406,253.47 Q56.0313,252.845 56.0313,251.7044 L56.0313,244.845 L57.9063,244.845 L57.9063,251.6888 Q57.9063,253.72 56.875,254.6888 Q55.8594,255.6575 54.25,255.6575 Z \"/><text fill=\"#000000\" font-family=\"sans-serif\" font-size=\"12\" font-style=\"italic\" lengthAdjust=\"spacingAndGlyphs\" textLength=\"69\" x=\"66.5\" y=\"247.3587\">«attribute»</text><text fill=\"#000000\" font-family=\"sans-serif\" font-size=\"12\" lengthAdjust=\"spacingAndGlyphs\" textLength=\"6\" x=\"96\" y=\"261.3274\">x</text><line style=\"stroke: #A80036; stroke-width: 1.5;\" x1=\"40.5\" x2=\"135.5\" y1=\"269.1575\" y2=\"269.1575\"/></a><!--MD5=[2156ba9850f5573cc1fc38a6a4b2f02b]\n",
       "class E7--><a href=\"psysml:4c5b6854-1a08-45b4-8136-d30683a500ef\" target=\"_top\" title=\"psysml:4c5b6854-1a08-45b4-8136-d30683a500ef\" xlink:actuate=\"onRequest\" xlink:href=\"psysml:4c5b6854-1a08-45b4-8136-d30683a500ef\" xlink:show=\"new\" xlink:title=\"psysml:4c5b6854-1a08-45b4-8136-d30683a500ef\" xlink:type=\"simple\"><rect fill=\"#FEFECE\" filter=\"url(#f4czr06b9dkr4)\" height=\"45.9375\" id=\"E7\" rx=\"10\" ry=\"10\" style=\"stroke: #A80036; stroke-width: 1.5;\" width=\"97\" x=\"171.5\" y=\"231.22\"/><ellipse cx=\"186.5\" cy=\"250.1888\" fill=\"#FFA500\" rx=\"11\" ry=\"11\" style=\"stroke: #A80036; stroke-width: 1.0;\"/><path d=\"M186.25,255.6575 Q184.5,255.6575 183.5469,254.6263 Q182.6094,253.5794 182.6094,251.7356 L182.6094,244.845 L184.6719,244.845 L184.6719,245.0013 Q184.5781,245.095 184.5469,245.2356 Q184.5313,245.3606 184.5313,245.6263 L184.5313,251.7513 Q184.5313,252.845 184.9063,253.47 Q185.2813,254.095 186.2656,254.095 Q187.25,254.095 187.6406,253.47 Q188.0313,252.845 188.0313,251.7044 L188.0313,244.845 L189.9063,244.845 L189.9063,251.6888 Q189.9063,253.72 188.875,254.6888 Q187.8594,255.6575 186.25,255.6575 Z \"/><text fill=\"#000000\" font-family=\"sans-serif\" font-size=\"12\" font-style=\"italic\" lengthAdjust=\"spacingAndGlyphs\" textLength=\"69\" x=\"198.5\" y=\"247.3587\">«attribute»</text><text fill=\"#000000\" font-family=\"sans-serif\" font-size=\"12\" lengthAdjust=\"spacingAndGlyphs\" textLength=\"6\" x=\"228\" y=\"261.3274\">y</text><line style=\"stroke: #A80036; stroke-width: 1.5;\" x1=\"172.5\" x2=\"267.5\" y1=\"269.1575\" y2=\"269.1575\"/></a><!--MD5=[b9389687b975829384b498ac4b7476b2]\n",
       "class E8--><a href=\"psysml:e4676a73-900e-4cfc-90aa-035aeedcaeac\" target=\"_top\" title=\"psysml:e4676a73-900e-4cfc-90aa-035aeedcaeac\" xlink:actuate=\"onRequest\" xlink:href=\"psysml:e4676a73-900e-4cfc-90aa-035aeedcaeac\" xlink:show=\"new\" xlink:title=\"psysml:e4676a73-900e-4cfc-90aa-035aeedcaeac\" xlink:type=\"simple\"><rect fill=\"#FEFECE\" filter=\"url(#f4czr06b9dkr4)\" height=\"45.9375\" id=\"E8\" rx=\"10\" ry=\"10\" style=\"stroke: #A80036; stroke-width: 1.5;\" width=\"97\" x=\"92.5\" y=\"145.22\"/><ellipse cx=\"107.5\" cy=\"164.1888\" fill=\"#FFA500\" rx=\"11\" ry=\"11\" style=\"stroke: #A80036; stroke-width: 1.0;\"/><path d=\"M107.25,169.6575 Q105.5,169.6575 104.5469,168.6263 Q103.6094,167.5794 103.6094,165.7356 L103.6094,158.845 L105.6719,158.845 L105.6719,159.0013 Q105.5781,159.095 105.5469,159.2356 Q105.5313,159.3606 105.5313,159.6263 L105.5313,165.7513 Q105.5313,166.845 105.9063,167.47 Q106.2813,168.095 107.2656,168.095 Q108.25,168.095 108.6406,167.47 Q109.0313,166.845 109.0313,165.7044 L109.0313,158.845 L110.9063,158.845 L110.9063,165.6888 Q110.9063,167.72 109.875,168.6888 Q108.8594,169.6575 107.25,169.6575 Z \"/><text fill=\"#000000\" font-family=\"sans-serif\" font-size=\"12\" font-style=\"italic\" lengthAdjust=\"spacingAndGlyphs\" textLength=\"69\" x=\"119.5\" y=\"161.3587\">«attribute»</text><text fill=\"#000000\" font-family=\"sans-serif\" font-size=\"12\" lengthAdjust=\"spacingAndGlyphs\" textLength=\"5\" x=\"149.5\" y=\"175.3274\">z</text><line style=\"stroke: #A80036; stroke-width: 1.5;\" x1=\"93.5\" x2=\"188.5\" y1=\"183.1575\" y2=\"183.1575\"/></a><a href=\"psysml:7d470368-8955-499f-8cd6-0162cc61b017\" target=\"_top\" title=\"psysml:7d470368-8955-499f-8cd6-0162cc61b017\" xlink:actuate=\"onRequest\" xlink:href=\"psysml:7d470368-8955-499f-8cd6-0162cc61b017\" xlink:show=\"new\" xlink:title=\"psysml:7d470368-8955-499f-8cd6-0162cc61b017\" xlink:type=\"simple\"><polygon fill=\"#FFFFFF\" filter=\"url(#f4czr06b9dkr4)\" points=\"335.5,141.72,456.5,141.72,463.5,164.0169,470.5,164.0169,470.5,194.3138,335.5,194.3138,335.5,141.72\" style=\"stroke: #000000; stroke-width: 1.5;\"/><line style=\"stroke: #000000; stroke-width: 1.5;\" x1=\"335.5\" x2=\"463.5\" y1=\"164.0169\" y2=\"164.0169\"/><text fill=\"#000000\" font-family=\"sans-serif\" font-size=\"14\" font-weight=\"bold\" lengthAdjust=\"spacingAndGlyphs\" textLength=\"115\" x=\"339.5\" y=\"156.7151\">Application Layer</text></a><a href=\"psysml:db30598f-7650-4b69-b852-4feea02efbf5\" target=\"_top\" title=\"psysml:db30598f-7650-4b69-b852-4feea02efbf5\" xlink:actuate=\"onRequest\" xlink:href=\"psysml:db30598f-7650-4b69-b852-4feea02efbf5\" xlink:show=\"new\" xlink:title=\"psysml:db30598f-7650-4b69-b852-4feea02efbf5\" xlink:type=\"simple\"><polygon fill=\"#FFFFFF\" filter=\"url(#f4czr06b9dkr4)\" points=\"348,227.72,444,227.72,451,250.0169,458,250.0169,458,280.3138,348,280.3138,348,227.72\" style=\"stroke: #000000; stroke-width: 1.5;\"/><line style=\"stroke: #000000; stroke-width: 1.5;\" x1=\"348\" x2=\"451\" y1=\"250.0169\" y2=\"250.0169\"/><text fill=\"#000000\" font-family=\"sans-serif\" font-size=\"14\" font-weight=\"bold\" lengthAdjust=\"spacingAndGlyphs\" textLength=\"90\" x=\"352\" y=\"242.7151\">Service Layer</text></a><a href=\"psysml:f08d8e27-e89d-40a2-8de2-c51098f76f95\" target=\"_top\" title=\"psysml:f08d8e27-e89d-40a2-8de2-c51098f76f95\" xlink:actuate=\"onRequest\" xlink:href=\"psysml:f08d8e27-e89d-40a2-8de2-c51098f76f95\" xlink:show=\"new\" xlink:title=\"psysml:f08d8e27-e89d-40a2-8de2-c51098f76f95\" xlink:type=\"simple\"><polygon fill=\"#FFFFFF\" filter=\"url(#f4czr06b9dkr4)\" points=\"357,313.72,435,313.72,442,336.0169,449,336.0169,449,366.3138,357,366.3138,357,313.72\" style=\"stroke: #000000; stroke-width: 1.5;\"/><line style=\"stroke: #000000; stroke-width: 1.5;\" x1=\"357\" x2=\"442\" y1=\"336.0169\" y2=\"336.0169\"/><text fill=\"#000000\" font-family=\"sans-serif\" font-size=\"14\" font-weight=\"bold\" lengthAdjust=\"spacingAndGlyphs\" textLength=\"72\" x=\"361\" y=\"328.7151\">Data Layer</text></a><!--MD5=[1f1cd8e6dd4c1b2ca2aaccc9b9bcea6e]\n",
       "link E1 to E2--><a href=\"psysml:2cdf9aea-584d-4dc5-87f2-78933b91772a\" target=\"_top\" title=\"psysml:2cdf9aea-584d-4dc5-87f2-78933b91772a\" xlink:actuate=\"onRequest\" xlink:href=\"psysml:2cdf9aea-584d-4dc5-87f2-78933b91772a\" xlink:show=\"new\" xlink:title=\"psysml:2cdf9aea-584d-4dc5-87f2-78933b91772a\" xlink:type=\"simple\"><path d=\"M300,33.82 C300,34.815 300,43.3994 300,55.7775 C300,61.9666 300,69.1041 300,76.7155 C300,80.5213 300,84.4455 300,88.429 C300,90.4207 300,92.4272 300,94.4411 C300,95.448 300,96.4568 300,97.4665 C300,97.719 300,97.9714 300,98.224 \" fill=\"none\" id=\"E1-&gt;E2\" style=\"stroke: #A80036; stroke-width: 1.0; stroke-dasharray: 7.0,7.0;\"/><polygon fill=\"#A80036\" points=\"300,98.224,304,89.224,300,93.224,296,89.224,300,98.224\" style=\"stroke: #A80036; stroke-width: 1.0;\"/><text fill=\"#000000\" font-family=\"sans-serif\" font-size=\"13\" lengthAdjust=\"spacingAndGlyphs\" textLength=\"65\" x=\"301\" y=\"54.7869\">«import»*</text></a><!--MD5=[af87c684e3b0d8be13c1a698a818ef1e]\n",
       "link E3 to E4--><a href=\"psysml:ef543251-f685-45ef-999a-4058d8fef1e9\" target=\"_top\" title=\"psysml:ef543251-f685-45ef-999a-4058d8fef1e9\" xlink:actuate=\"onRequest\" xlink:href=\"psysml:ef543251-f685-45ef-999a-4058d8fef1e9\" xlink:show=\"new\" xlink:title=\"psysml:ef543251-f685-45ef-999a-4058d8fef1e9\" xlink:type=\"simple\"><path d=\"M403,194.88 C403,202.7 403,211.41 403,219.66 \" fill=\"none\" id=\"E3-&gt;E4\" style=\"stroke: #A80036; stroke-width: 1.0; stroke-dasharray: 7.0,7.0;\"/><polygon fill=\"#A80036\" points=\"403,227.72,406,219.72,400,219.72,403,227.72\" style=\"stroke: #A80036; stroke-width: 1.0;\"/><text fill=\"#000000\" font-family=\"sans-serif\" font-size=\"13\" lengthAdjust=\"spacingAndGlyphs\" textLength=\"64\" x=\"404\" y=\"215.7869\">«depend»</text></a><!--MD5=[1b7591eae5389033d8d09a9d6721a717]\n",
       "link E4 to E5--><a href=\"psysml:f939ae72-3488-4da6-b797-5f4561198517\" target=\"_top\" title=\"psysml:f939ae72-3488-4da6-b797-5f4561198517\" xlink:actuate=\"onRequest\" xlink:href=\"psysml:f939ae72-3488-4da6-b797-5f4561198517\" xlink:show=\"new\" xlink:title=\"psysml:f939ae72-3488-4da6-b797-5f4561198517\" xlink:type=\"simple\"><path d=\"M403,280.88 C403,288.7 403,297.41 403,305.66 \" fill=\"none\" id=\"E4-&gt;E5\" style=\"stroke: #A80036; stroke-width: 1.0; stroke-dasharray: 7.0,7.0;\"/><polygon fill=\"#A80036\" points=\"403,313.72,406,305.72,400,305.72,403,313.72\" style=\"stroke: #A80036; stroke-width: 1.0;\"/><text fill=\"#000000\" font-family=\"sans-serif\" font-size=\"13\" lengthAdjust=\"spacingAndGlyphs\" textLength=\"64\" x=\"404\" y=\"301.7869\">«depend»</text></a><!--MD5=[c5e8897d989ce984f93528998a7150fe]\n",
       "link E8 to E6--><a href=\"psysml:2a73c336-1214-4cbc-85e1-1f3a30fc1732\" target=\"_top\" title=\"psysml:2a73c336-1214-4cbc-85e1-1f3a30fc1732\" xlink:actuate=\"onRequest\" xlink:href=\"psysml:2a73c336-1214-4cbc-85e1-1f3a30fc1732\" xlink:show=\"new\" xlink:title=\"psysml:2a73c336-1214-4cbc-85e1-1f3a30fc1732\" xlink:type=\"simple\"><path d=\"M100.08,191.44 C96.53,194.79 93.39,198.55 91,202.72 C87.52,208.8 85.92,216 85.36,223.02 \" fill=\"none\" id=\"E8-&gt;E6\" style=\"stroke: #A80036; stroke-width: 1.0; stroke-dasharray: 7.0,7.0;\"/><polygon fill=\"#A80036\" points=\"85.14,231.11,88.3531,223.1932,82.3553,223.0325,85.14,231.11\" style=\"stroke: #A80036; stroke-width: 1.0;\"/><text fill=\"#000000\" font-family=\"sans-serif\" font-size=\"13\" lengthAdjust=\"spacingAndGlyphs\" textLength=\"64\" x=\"92\" y=\"215.7869\">«depend»</text></a><!--MD5=[bfa3c8b0d15052fdf50ae9310b491027]\n",
       "link E8 to E7--><a href=\"psysml:2a73c336-1214-4cbc-85e1-1f3a30fc1732\" target=\"_top\" title=\"psysml:2a73c336-1214-4cbc-85e1-1f3a30fc1732\" xlink:actuate=\"onRequest\" xlink:href=\"psysml:2a73c336-1214-4cbc-85e1-1f3a30fc1732\" xlink:show=\"new\" xlink:title=\"psysml:2a73c336-1214-4cbc-85e1-1f3a30fc1732\" xlink:type=\"simple\"><path d=\"M161.76,191.29 C171.48,201.63 183.17,214.06 193.52,225.06 \" fill=\"none\" id=\"E8-&gt;E7\" style=\"stroke: #A80036; stroke-width: 1.0; stroke-dasharray: 7.0,7.0;\"/><polygon fill=\"#A80036\" points=\"199.11,231.01,195.8117,223.1283,191.4425,227.2405,199.11,231.01\" style=\"stroke: #A80036; stroke-width: 1.0;\"/><text fill=\"#000000\" font-family=\"sans-serif\" font-size=\"13\" lengthAdjust=\"spacingAndGlyphs\" textLength=\"64\" x=\"188\" y=\"215.7869\">«depend»</text></a><!--MD5=[e9c5459f8e45b2b8c365afcb8c09454d]\n",
       "@startuml\r\n",
       "skinparam ranksep 10\r\n",
       "skinparam rectangle {\r\n",
       " backgroundColor<<block>> LightGreen\r\n",
       "}\r\n",
       " \r\n",
       "package \"DependencyTest\" as E1  [[psysml:30c793ee-6e7c-4739-835e-bebdfc5bf1ce ]]  {\r\n",
       "package \"System\" as E2  [[psysml:db7b2f1b-03d7-4942-9142-e18d7a555d76 ]]  {\r\n",
       "package \"Application Layer\" as E3  [[psysml:7d470368-8955-499f-8cd6-0162cc61b017 ]]  {\r\n",
       "}\r\n",
       "package \"Service Layer\" as E4  [[psysml:db30598f-7650-4b69-b852-4feea02efbf5 ]]  {\r\n",
       "}\r\n",
       "package \"Data Layer\" as E5  [[psysml:f08d8e27-e89d-40a2-8de2-c51098f76f95 ]]  {\r\n",
       "}\r\n",
       "}\r\n",
       "comp usage \"x \" as E6 << <<(U,orange) attribute>> [[psysml:d66666e9-9ac5-42c6-8412-5d0a1bea61ed ]] {\r\n",
       "}\r\n",
       "comp usage \"y \" as E7 << <<(U,orange) attribute>> [[psysml:4c5b6854-1a08-45b4-8136-d30683a500ef ]] {\r\n",
       "}\r\n",
       "comp usage \"z \" as E8 << <<(U,orange) attribute>> [[psysml:e4676a73-900e-4cfc-90aa-035aeedcaeac ]] {\r\n",
       "}\r\n",
       "}\r\n",
       "E1 ..> E2 [[psysml:2cdf9aea-584d-4dc5-87f2-78933b91772a ]] : <<import>>*\r\n",
       "E3 ..>> E4 [[psysml:ef543251-f685-45ef-999a-4058d8fef1e9 ]] : <<depend>>\r\n",
       "E4 ..>> E5 [[psysml:f939ae72-3488-4da6-b797-5f4561198517 ]] : <<depend>>\r\n",
       "E8 ..>> E6 [[psysml:2a73c336-1214-4cbc-85e1-1f3a30fc1732 ]] : <<depend>>\r\n",
       "E8 ..>> E7 [[psysml:2a73c336-1214-4cbc-85e1-1f3a30fc1732 ]] : <<depend>>\r\n",
       "@enduml\r\n",
       "\n",
       "PlantUML version 1.2020.13(Sat Jun 13 12:26:38 UTC 2020)\n",
       "(EPL source distribution)\n",
       "Java Runtime: OpenJDK Runtime Environment\n",
       "JVM: OpenJDK 64-Bit Server VM\n",
       "Default Encoding: UTF-8\n",
       "Language: en\n",
       "Country: null\n",
       "--></g></svg>"
      ]
     },
     "execution_count": 33,
     "metadata": {},
     "output_type": "execute_result"
    }
   ],
   "source": [
    "%viz --style=\"PLANTUML\" --view=\"Interconnection\" \"DependencyTest\""
   ]
  },
  {
   "cell_type": "code",
   "execution_count": 34,
   "id": "dfc5bb2d",
   "metadata": {
    "execution": {
     "iopub.execute_input": "2022-02-18T10:46:51.869290Z",
     "iopub.status.busy": "2022-02-18T10:46:51.868895Z",
     "iopub.status.idle": "2022-02-18T10:46:51.872766Z",
     "shell.execute_reply": "2022-02-18T10:46:51.873076Z"
    }
   },
   "outputs": [
    {
     "data": {
      "image/svg+xml": [
       "<?xml version=\"1.0\" encoding=\"UTF-8\" standalone=\"no\"?><svg xmlns=\"http://www.w3.org/2000/svg\" xmlns:xlink=\"http://www.w3.org/1999/xlink\" contentScriptType=\"application/ecmascript\" contentStyleType=\"text/css\" height=\"12px\" preserveAspectRatio=\"none\" style=\"width:12px;height:12px;\" version=\"1.1\" viewBox=\"0 0 12 12\" width=\"12px\" zoomAndPan=\"magnify\"><defs/><g><!--MD5=[6a4cb978cab31700e1ce5529f947a75d]\n",
       "@startuml\r\n",
       "skinparam ranksep 8\r\n",
       " \r\n",
       "@enduml\r\n",
       "\n",
       "PlantUML version 1.2020.13(Sat Jun 13 12:26:38 UTC 2020)\n",
       "(EPL source distribution)\n",
       "Java Runtime: OpenJDK Runtime Environment\n",
       "JVM: OpenJDK 64-Bit Server VM\n",
       "Default Encoding: UTF-8\n",
       "Language: en\n",
       "Country: null\n",
       "--></g></svg>"
      ]
     },
     "execution_count": 34,
     "metadata": {},
     "output_type": "execute_result"
    }
   ],
   "source": [
    "%viz --style=\"PLANTUML\" --view=\"Action\" \"DependencyTest\""
   ]
  },
  {
   "cell_type": "code",
   "execution_count": 35,
   "id": "c8374b72",
   "metadata": {
    "execution": {
     "iopub.execute_input": "2022-02-18T10:46:51.923187Z",
     "iopub.status.busy": "2022-02-18T10:46:51.922794Z",
     "iopub.status.idle": "2022-02-18T10:46:51.926936Z",
     "shell.execute_reply": "2022-02-18T10:46:51.927243Z"
    }
   },
   "outputs": [
    {
     "data": {
      "image/svg+xml": [
       "<?xml version=\"1.0\" encoding=\"UTF-8\" standalone=\"no\"?><svg xmlns=\"http://www.w3.org/2000/svg\" xmlns:xlink=\"http://www.w3.org/1999/xlink\" contentScriptType=\"application/ecmascript\" contentStyleType=\"text/css\" height=\"12px\" preserveAspectRatio=\"none\" style=\"width:12px;height:12px;\" version=\"1.1\" viewBox=\"0 0 12 12\" width=\"12px\" zoomAndPan=\"magnify\"><defs/><g><!--MD5=[ca4faa0b02def275ea33c14ea7a1a98d]\n",
       "@startuml\r\n",
       "skinparam roundcorner 20\r\n",
       "skinparam BoxPadding 20\r\n",
       "skinparam SequenceBoxBackgroundColor #white\r\n",
       "skinparam style strictuml\r\n",
       "skinparam maxMessageSize 100\r\n",
       " \r\n",
       "@enduml\r\n",
       "\n",
       "PlantUML version 1.2020.13(Sat Jun 13 12:26:38 UTC 2020)\n",
       "(EPL source distribution)\n",
       "Java Runtime: OpenJDK Runtime Environment\n",
       "JVM: OpenJDK 64-Bit Server VM\n",
       "Default Encoding: UTF-8\n",
       "Language: en\n",
       "Country: null\n",
       "--></g></svg>"
      ]
     },
     "execution_count": 35,
     "metadata": {},
     "output_type": "execute_result"
    }
   ],
   "source": [
    "%viz --style=\"PLANTUML\" --view=\"Sequence\" \"DependencyTest\""
   ]
  },
  {
   "cell_type": "code",
   "execution_count": 36,
   "id": "6080670a",
   "metadata": {
    "execution": {
     "iopub.execute_input": "2022-02-18T10:46:51.977348Z",
     "iopub.status.busy": "2022-02-18T10:46:51.976951Z",
     "iopub.status.idle": "2022-02-18T10:46:52.011522Z",
     "shell.execute_reply": "2022-02-18T10:46:52.011151Z"
    }
   },
   "outputs": [
    {
     "data": {
      "image/svg+xml": [
       "<?xml version=\"1.0\" encoding=\"UTF-8\" standalone=\"no\"?><svg xmlns=\"http://www.w3.org/2000/svg\" xmlns:xlink=\"http://www.w3.org/1999/xlink\" contentScriptType=\"application/ecmascript\" contentStyleType=\"text/css\" height=\"552px\" preserveAspectRatio=\"none\" style=\"width:557px;height:552px;\" version=\"1.1\" viewBox=\"0 0 557 552\" width=\"557px\" zoomAndPan=\"magnify\"><defs><filter height=\"300%\" id=\"f1hrh5x6ssdtuj\" width=\"300%\" x=\"-1\" y=\"-1\"><feGaussianBlur result=\"blurOut\" stdDeviation=\"2.0\"/><feColorMatrix in=\"blurOut\" result=\"blurOut2\" type=\"matrix\" values=\"0 0 0 0 0 0 0 0 0 0 0 0 0 0 0 0 0 0 .4 0\"/><feOffset dx=\"4.0\" dy=\"4.0\" in=\"blurOut2\" result=\"blurOut3\"/><feBlend in=\"SourceGraphic\" in2=\"blurOut3\" mode=\"normal\"/></filter></defs><g><!--MD5=[fbc87193dbaf4d95561dea2c320d4a47]\n",
       "cluster E1--><a href=\"psysml:30c793ee-6e7c-4739-835e-bebdfc5bf1ce\" target=\"_top\" title=\"psysml:30c793ee-6e7c-4739-835e-bebdfc5bf1ce\" xlink:actuate=\"onRequest\" xlink:href=\"psysml:30c793ee-6e7c-4739-835e-bebdfc5bf1ce\" xlink:show=\"new\" xlink:title=\"psysml:30c793ee-6e7c-4739-835e-bebdfc5bf1ce\" xlink:type=\"simple\"><polygon fill=\"#FFFFFF\" filter=\"url(#f1hrh5x6ssdtuj)\" points=\"16,6,142,6,149,28.2969,535,28.2969,535,540.72,16,540.72,16,6\" style=\"stroke: #000000; stroke-width: 1.5;\"/><line style=\"stroke: #000000; stroke-width: 1.5;\" x1=\"16\" x2=\"149\" y1=\"28.2969\" y2=\"28.2969\"/><text fill=\"#000000\" font-family=\"sans-serif\" font-size=\"14\" font-weight=\"bold\" lengthAdjust=\"spacingAndGlyphs\" textLength=\"120\" x=\"20\" y=\"20.9951\">DependencyTest</text></a><!--MD5=[e4f7fae6ed58524ba242bb0b0d3be6b7]\n",
       "cluster E2--><a href=\"psysml:db7b2f1b-03d7-4942-9142-e18d7a555d76\" target=\"_top\" title=\"psysml:db7b2f1b-03d7-4942-9142-e18d7a555d76\" xlink:actuate=\"onRequest\" xlink:href=\"psysml:db7b2f1b-03d7-4942-9142-e18d7a555d76\" xlink:show=\"new\" xlink:title=\"psysml:db7b2f1b-03d7-4942-9142-e18d7a555d76\" xlink:type=\"simple\"><polygon fill=\"#FFFFFF\" filter=\"url(#f1hrh5x6ssdtuj)\" points=\"292,120.72,349,120.72,356,143.0169,495,143.0169,495,500.72,292,500.72,292,120.72\" style=\"stroke: #000000; stroke-width: 1.5;\"/><line style=\"stroke: #000000; stroke-width: 1.5;\" x1=\"292\" x2=\"356\" y1=\"143.0169\" y2=\"143.0169\"/><text fill=\"#000000\" font-family=\"sans-serif\" font-size=\"14\" font-weight=\"bold\" lengthAdjust=\"spacingAndGlyphs\" textLength=\"51\" x=\"296\" y=\"135.7151\">System</text></a><!--MD5=[60a26617385b1d2d0262a64233df1f8d]\n",
       "class E6--><a href=\"psysml:d66666e9-9ac5-42c6-8412-5d0a1bea61ed\" target=\"_top\" title=\"psysml:d66666e9-9ac5-42c6-8412-5d0a1bea61ed\" xlink:actuate=\"onRequest\" xlink:href=\"psysml:d66666e9-9ac5-42c6-8412-5d0a1bea61ed\" xlink:show=\"new\" xlink:title=\"psysml:d66666e9-9ac5-42c6-8412-5d0a1bea61ed\" xlink:type=\"simple\"><rect fill=\"#FEFECE\" filter=\"url(#f1hrh5x6ssdtuj)\" height=\"45.9375\" id=\"E6\" rx=\"10\" ry=\"10\" style=\"stroke: #A80036; stroke-width: 1.5;\" width=\"97\" x=\"39.5\" y=\"297.22\"/><ellipse cx=\"54.5\" cy=\"316.1888\" fill=\"#FFA500\" rx=\"11\" ry=\"11\" style=\"stroke: #A80036; stroke-width: 1.0;\"/><path d=\"M54.25,321.6575 Q52.5,321.6575 51.5469,320.6263 Q50.6094,319.5794 50.6094,317.7356 L50.6094,310.845 L52.6719,310.845 L52.6719,311.0013 Q52.5781,311.095 52.5469,311.2356 Q52.5313,311.3606 52.5313,311.6263 L52.5313,317.7513 Q52.5313,318.845 52.9063,319.47 Q53.2813,320.095 54.2656,320.095 Q55.25,320.095 55.6406,319.47 Q56.0313,318.845 56.0313,317.7044 L56.0313,310.845 L57.9063,310.845 L57.9063,317.6888 Q57.9063,319.72 56.875,320.6888 Q55.8594,321.6575 54.25,321.6575 Z \"/><text fill=\"#000000\" font-family=\"sans-serif\" font-size=\"12\" font-style=\"italic\" lengthAdjust=\"spacingAndGlyphs\" textLength=\"69\" x=\"66.5\" y=\"313.3587\">«attribute»</text><text fill=\"#000000\" font-family=\"sans-serif\" font-size=\"12\" lengthAdjust=\"spacingAndGlyphs\" textLength=\"6\" x=\"96\" y=\"327.3274\">x</text><line style=\"stroke: #A80036; stroke-width: 1.5;\" x1=\"40.5\" x2=\"135.5\" y1=\"335.1575\" y2=\"335.1575\"/></a><!--MD5=[2156ba9850f5573cc1fc38a6a4b2f02b]\n",
       "class E7--><a href=\"psysml:4c5b6854-1a08-45b4-8136-d30683a500ef\" target=\"_top\" title=\"psysml:4c5b6854-1a08-45b4-8136-d30683a500ef\" xlink:actuate=\"onRequest\" xlink:href=\"psysml:4c5b6854-1a08-45b4-8136-d30683a500ef\" xlink:show=\"new\" xlink:title=\"psysml:4c5b6854-1a08-45b4-8136-d30683a500ef\" xlink:type=\"simple\"><rect fill=\"#FEFECE\" filter=\"url(#f1hrh5x6ssdtuj)\" height=\"45.9375\" id=\"E7\" rx=\"10\" ry=\"10\" style=\"stroke: #A80036; stroke-width: 1.5;\" width=\"97\" x=\"171.5\" y=\"297.22\"/><ellipse cx=\"186.5\" cy=\"316.1888\" fill=\"#FFA500\" rx=\"11\" ry=\"11\" style=\"stroke: #A80036; stroke-width: 1.0;\"/><path d=\"M186.25,321.6575 Q184.5,321.6575 183.5469,320.6263 Q182.6094,319.5794 182.6094,317.7356 L182.6094,310.845 L184.6719,310.845 L184.6719,311.0013 Q184.5781,311.095 184.5469,311.2356 Q184.5313,311.3606 184.5313,311.6263 L184.5313,317.7513 Q184.5313,318.845 184.9063,319.47 Q185.2813,320.095 186.2656,320.095 Q187.25,320.095 187.6406,319.47 Q188.0313,318.845 188.0313,317.7044 L188.0313,310.845 L189.9063,310.845 L189.9063,317.6888 Q189.9063,319.72 188.875,320.6888 Q187.8594,321.6575 186.25,321.6575 Z \"/><text fill=\"#000000\" font-family=\"sans-serif\" font-size=\"12\" font-style=\"italic\" lengthAdjust=\"spacingAndGlyphs\" textLength=\"69\" x=\"198.5\" y=\"313.3587\">«attribute»</text><text fill=\"#000000\" font-family=\"sans-serif\" font-size=\"12\" lengthAdjust=\"spacingAndGlyphs\" textLength=\"6\" x=\"228\" y=\"327.3274\">y</text><line style=\"stroke: #A80036; stroke-width: 1.5;\" x1=\"172.5\" x2=\"267.5\" y1=\"335.1575\" y2=\"335.1575\"/></a><!--MD5=[b9389687b975829384b498ac4b7476b2]\n",
       "class E8--><a href=\"psysml:e4676a73-900e-4cfc-90aa-035aeedcaeac\" target=\"_top\" title=\"psysml:e4676a73-900e-4cfc-90aa-035aeedcaeac\" xlink:actuate=\"onRequest\" xlink:href=\"psysml:e4676a73-900e-4cfc-90aa-035aeedcaeac\" xlink:show=\"new\" xlink:title=\"psysml:e4676a73-900e-4cfc-90aa-035aeedcaeac\" xlink:type=\"simple\"><rect fill=\"#FEFECE\" filter=\"url(#f1hrh5x6ssdtuj)\" height=\"45.9375\" id=\"E8\" rx=\"10\" ry=\"10\" style=\"stroke: #A80036; stroke-width: 1.5;\" width=\"97\" x=\"92.5\" y=\"167.22\"/><ellipse cx=\"107.5\" cy=\"186.1888\" fill=\"#FFA500\" rx=\"11\" ry=\"11\" style=\"stroke: #A80036; stroke-width: 1.0;\"/><path d=\"M107.25,191.6575 Q105.5,191.6575 104.5469,190.6263 Q103.6094,189.5794 103.6094,187.7356 L103.6094,180.845 L105.6719,180.845 L105.6719,181.0013 Q105.5781,181.095 105.5469,181.2356 Q105.5313,181.3606 105.5313,181.6263 L105.5313,187.7513 Q105.5313,188.845 105.9063,189.47 Q106.2813,190.095 107.2656,190.095 Q108.25,190.095 108.6406,189.47 Q109.0313,188.845 109.0313,187.7044 L109.0313,180.845 L110.9063,180.845 L110.9063,187.6888 Q110.9063,189.72 109.875,190.6888 Q108.8594,191.6575 107.25,191.6575 Z \"/><text fill=\"#000000\" font-family=\"sans-serif\" font-size=\"12\" font-style=\"italic\" lengthAdjust=\"spacingAndGlyphs\" textLength=\"69\" x=\"119.5\" y=\"183.3587\">«attribute»</text><text fill=\"#000000\" font-family=\"sans-serif\" font-size=\"12\" lengthAdjust=\"spacingAndGlyphs\" textLength=\"5\" x=\"149.5\" y=\"197.3274\">z</text><line style=\"stroke: #A80036; stroke-width: 1.5;\" x1=\"93.5\" x2=\"188.5\" y1=\"205.1575\" y2=\"205.1575\"/></a><a href=\"psysml:7d470368-8955-499f-8cd6-0162cc61b017\" target=\"_top\" title=\"psysml:7d470368-8955-499f-8cd6-0162cc61b017\" xlink:actuate=\"onRequest\" xlink:href=\"psysml:7d470368-8955-499f-8cd6-0162cc61b017\" xlink:show=\"new\" xlink:title=\"psysml:7d470368-8955-499f-8cd6-0162cc61b017\" xlink:type=\"simple\"><polygon fill=\"#FFFFFF\" filter=\"url(#f1hrh5x6ssdtuj)\" points=\"335.5,163.72,456.5,163.72,463.5,186.0169,470.5,186.0169,470.5,216.3138,335.5,216.3138,335.5,163.72\" style=\"stroke: #000000; stroke-width: 1.5;\"/><line style=\"stroke: #000000; stroke-width: 1.5;\" x1=\"335.5\" x2=\"463.5\" y1=\"186.0169\" y2=\"186.0169\"/><text fill=\"#000000\" font-family=\"sans-serif\" font-size=\"14\" font-weight=\"bold\" lengthAdjust=\"spacingAndGlyphs\" textLength=\"115\" x=\"339.5\" y=\"178.7151\">Application Layer</text></a><a href=\"psysml:db30598f-7650-4b69-b852-4feea02efbf5\" target=\"_top\" title=\"psysml:db30598f-7650-4b69-b852-4feea02efbf5\" xlink:actuate=\"onRequest\" xlink:href=\"psysml:db30598f-7650-4b69-b852-4feea02efbf5\" xlink:show=\"new\" xlink:title=\"psysml:db30598f-7650-4b69-b852-4feea02efbf5\" xlink:type=\"simple\"><polygon fill=\"#FFFFFF\" filter=\"url(#f1hrh5x6ssdtuj)\" points=\"348,293.72,444,293.72,451,316.0169,458,316.0169,458,346.3138,348,346.3138,348,293.72\" style=\"stroke: #000000; stroke-width: 1.5;\"/><line style=\"stroke: #000000; stroke-width: 1.5;\" x1=\"348\" x2=\"451\" y1=\"316.0169\" y2=\"316.0169\"/><text fill=\"#000000\" font-family=\"sans-serif\" font-size=\"14\" font-weight=\"bold\" lengthAdjust=\"spacingAndGlyphs\" textLength=\"90\" x=\"352\" y=\"308.7151\">Service Layer</text></a><a href=\"psysml:f08d8e27-e89d-40a2-8de2-c51098f76f95\" target=\"_top\" title=\"psysml:f08d8e27-e89d-40a2-8de2-c51098f76f95\" xlink:actuate=\"onRequest\" xlink:href=\"psysml:f08d8e27-e89d-40a2-8de2-c51098f76f95\" xlink:show=\"new\" xlink:title=\"psysml:f08d8e27-e89d-40a2-8de2-c51098f76f95\" xlink:type=\"simple\"><polygon fill=\"#FFFFFF\" filter=\"url(#f1hrh5x6ssdtuj)\" points=\"357,423.72,435,423.72,442,446.0169,449,446.0169,449,476.3138,357,476.3138,357,423.72\" style=\"stroke: #000000; stroke-width: 1.5;\"/><line style=\"stroke: #000000; stroke-width: 1.5;\" x1=\"357\" x2=\"442\" y1=\"446.0169\" y2=\"446.0169\"/><text fill=\"#000000\" font-family=\"sans-serif\" font-size=\"14\" font-weight=\"bold\" lengthAdjust=\"spacingAndGlyphs\" textLength=\"72\" x=\"361\" y=\"438.7151\">Data Layer</text></a><!--MD5=[1f1cd8e6dd4c1b2ca2aaccc9b9bcea6e]\n",
       "link E1 to E2--><a href=\"psysml:2cdf9aea-584d-4dc5-87f2-78933b91772a\" target=\"_top\" title=\"psysml:2cdf9aea-584d-4dc5-87f2-78933b91772a\" xlink:actuate=\"onRequest\" xlink:href=\"psysml:2cdf9aea-584d-4dc5-87f2-78933b91772a\" xlink:show=\"new\" xlink:title=\"psysml:2cdf9aea-584d-4dc5-87f2-78933b91772a\" xlink:type=\"simple\"><path d=\"M300,33.83 C300,36.15 300,73.83 300,111.5 C300,113.8544 300,116.2087 300,118.5544 C300,119.1408 300,119.7267 300,120.3119 \" fill=\"none\" id=\"E1-&gt;E2\" style=\"stroke: #A80036; stroke-width: 1.0; stroke-dasharray: 7.0,7.0;\"/><polygon fill=\"#A80036\" points=\"300,120.3119,304,111.3119,300,115.3119,296,111.3119,300,120.3119\" style=\"stroke: #A80036; stroke-width: 1.0;\"/><text fill=\"#000000\" font-family=\"sans-serif\" font-size=\"13\" lengthAdjust=\"spacingAndGlyphs\" textLength=\"65\" x=\"301\" y=\"76.7869\">«import»*</text></a><!--MD5=[af87c684e3b0d8be13c1a698a818ef1e]\n",
       "link E3 to E4--><a href=\"psysml:ef543251-f685-45ef-999a-4058d8fef1e9\" target=\"_top\" title=\"psysml:ef543251-f685-45ef-999a-4058d8fef1e9\" xlink:actuate=\"onRequest\" xlink:href=\"psysml:ef543251-f685-45ef-999a-4058d8fef1e9\" xlink:show=\"new\" xlink:title=\"psysml:ef543251-f685-45ef-999a-4058d8fef1e9\" xlink:type=\"simple\"><path d=\"M403,216.82 C403,236.52 403,263.94 403,285.45 \" fill=\"none\" id=\"E3-&gt;E4\" style=\"stroke: #A80036; stroke-width: 1.0; stroke-dasharray: 7.0,7.0;\"/><polygon fill=\"#A80036\" points=\"403,293.67,406,285.67,400,285.67,403,293.67\" style=\"stroke: #A80036; stroke-width: 1.0;\"/><text fill=\"#000000\" font-family=\"sans-serif\" font-size=\"13\" lengthAdjust=\"spacingAndGlyphs\" textLength=\"64\" x=\"404\" y=\"259.7869\">«depend»</text></a><!--MD5=[1b7591eae5389033d8d09a9d6721a717]\n",
       "link E4 to E5--><a href=\"psysml:f939ae72-3488-4da6-b797-5f4561198517\" target=\"_top\" title=\"psysml:f939ae72-3488-4da6-b797-5f4561198517\" xlink:actuate=\"onRequest\" xlink:href=\"psysml:f939ae72-3488-4da6-b797-5f4561198517\" xlink:show=\"new\" xlink:title=\"psysml:f939ae72-3488-4da6-b797-5f4561198517\" xlink:type=\"simple\"><path d=\"M403,346.82 C403,366.52 403,393.94 403,415.45 \" fill=\"none\" id=\"E4-&gt;E5\" style=\"stroke: #A80036; stroke-width: 1.0; stroke-dasharray: 7.0,7.0;\"/><polygon fill=\"#A80036\" points=\"403,423.67,406,415.67,400,415.67,403,423.67\" style=\"stroke: #A80036; stroke-width: 1.0;\"/><text fill=\"#000000\" font-family=\"sans-serif\" font-size=\"13\" lengthAdjust=\"spacingAndGlyphs\" textLength=\"64\" x=\"404\" y=\"389.7869\">«depend»</text></a><!--MD5=[c5e8897d989ce984f93528998a7150fe]\n",
       "link E8 to E6--><a href=\"psysml:2a73c336-1214-4cbc-85e1-1f3a30fc1732\" target=\"_top\" title=\"psysml:2a73c336-1214-4cbc-85e1-1f3a30fc1732\" xlink:actuate=\"onRequest\" xlink:href=\"psysml:2a73c336-1214-4cbc-85e1-1f3a30fc1732\" xlink:show=\"new\" xlink:title=\"psysml:2a73c336-1214-4cbc-85e1-1f3a30fc1732\" xlink:type=\"simple\"><path d=\"M114.44,213.48 C105.3,222.73 96.09,234.23 91,246.72 C85.6,259.95 84.4,275.7 84.73,289.13 \" fill=\"none\" id=\"E8-&gt;E6\" style=\"stroke: #A80036; stroke-width: 1.0; stroke-dasharray: 7.0,7.0;\"/><polygon fill=\"#A80036\" points=\"85.12,297.15,87.7306,289.0146,81.7375,289.304,85.12,297.15\" style=\"stroke: #A80036; stroke-width: 1.0;\"/><text fill=\"#000000\" font-family=\"sans-serif\" font-size=\"13\" lengthAdjust=\"spacingAndGlyphs\" textLength=\"64\" x=\"92\" y=\"259.7869\">«depend»</text></a><!--MD5=[bfa3c8b0d15052fdf50ae9310b491027]\n",
       "link E8 to E7--><a href=\"psysml:2a73c336-1214-4cbc-85e1-1f3a30fc1732\" target=\"_top\" title=\"psysml:2a73c336-1214-4cbc-85e1-1f3a30fc1732\" xlink:actuate=\"onRequest\" xlink:href=\"psysml:2a73c336-1214-4cbc-85e1-1f3a30fc1732\" xlink:show=\"new\" xlink:title=\"psysml:2a73c336-1214-4cbc-85e1-1f3a30fc1732\" xlink:type=\"simple\"><path d=\"M154.58,213.22 C167.69,234.47 187.63,266.77 202.05,290.13 \" fill=\"none\" id=\"E8-&gt;E7\" style=\"stroke: #A80036; stroke-width: 1.0; stroke-dasharray: 7.0,7.0;\"/><polygon fill=\"#A80036\" points=\"206.33,297.07,204.6785,288.6871,199.5737,291.8401,206.33,297.07\" style=\"stroke: #A80036; stroke-width: 1.0;\"/><text fill=\"#000000\" font-family=\"sans-serif\" font-size=\"13\" lengthAdjust=\"spacingAndGlyphs\" textLength=\"64\" x=\"186\" y=\"259.7869\">«depend»</text></a><!--MD5=[a15735680aa37977c268037fc68928a5]\n",
       "@startuml\r\n",
       " \r\n",
       "package \"DependencyTest\" as E1  [[psysml:30c793ee-6e7c-4739-835e-bebdfc5bf1ce ]]  {\r\n",
       "package \"System\" as E2  [[psysml:db7b2f1b-03d7-4942-9142-e18d7a555d76 ]]  {\r\n",
       "package \"Application Layer\" as E3  [[psysml:7d470368-8955-499f-8cd6-0162cc61b017 ]]  {\r\n",
       "}\r\n",
       "package \"Service Layer\" as E4  [[psysml:db30598f-7650-4b69-b852-4feea02efbf5 ]]  {\r\n",
       "}\r\n",
       "package \"Data Layer\" as E5  [[psysml:f08d8e27-e89d-40a2-8de2-c51098f76f95 ]]  {\r\n",
       "}\r\n",
       "}\r\n",
       "comp usage \"x \" as E6 << <<(U,orange) attribute>> [[psysml:d66666e9-9ac5-42c6-8412-5d0a1bea61ed ]] {\r\n",
       "}\r\n",
       "comp usage \"y \" as E7 << <<(U,orange) attribute>> [[psysml:4c5b6854-1a08-45b4-8136-d30683a500ef ]] {\r\n",
       "}\r\n",
       "comp usage \"z \" as E8 << <<(U,orange) attribute>> [[psysml:e4676a73-900e-4cfc-90aa-035aeedcaeac ]] {\r\n",
       "}\r\n",
       "}\r\n",
       "E1 ..> E2 [[psysml:2cdf9aea-584d-4dc5-87f2-78933b91772a ]] : <<import>>*\r\n",
       "E3 ..>> E4 [[psysml:ef543251-f685-45ef-999a-4058d8fef1e9 ]] : <<depend>>\r\n",
       "E4 ..>> E5 [[psysml:f939ae72-3488-4da6-b797-5f4561198517 ]] : <<depend>>\r\n",
       "E8 ..>> E6 [[psysml:2a73c336-1214-4cbc-85e1-1f3a30fc1732 ]] : <<depend>>\r\n",
       "E8 ..>> E7 [[psysml:2a73c336-1214-4cbc-85e1-1f3a30fc1732 ]] : <<depend>>\r\n",
       "@enduml\r\n",
       "\n",
       "PlantUML version 1.2020.13(Sat Jun 13 12:26:38 UTC 2020)\n",
       "(EPL source distribution)\n",
       "Java Runtime: OpenJDK Runtime Environment\n",
       "JVM: OpenJDK 64-Bit Server VM\n",
       "Default Encoding: UTF-8\n",
       "Language: en\n",
       "Country: null\n",
       "--></g></svg>"
      ]
     },
     "execution_count": 36,
     "metadata": {},
     "output_type": "execute_result"
    }
   ],
   "source": [
    "%viz --style=\"PLANTUML\" --view=\"MIXED\" \"DependencyTest\""
   ]
  },
  {
   "cell_type": "code",
   "execution_count": 37,
   "id": "941ade13",
   "metadata": {
    "execution": {
     "iopub.execute_input": "2022-02-18T10:46:52.061194Z",
     "iopub.status.busy": "2022-02-18T10:46:52.060783Z",
     "iopub.status.idle": "2022-02-18T10:46:52.097404Z",
     "shell.execute_reply": "2022-02-18T10:46:52.096978Z"
    }
   },
   "outputs": [
    {
     "data": {
      "image/svg+xml": [
       "<?xml version=\"1.0\" encoding=\"UTF-8\" standalone=\"no\"?><svg xmlns=\"http://www.w3.org/2000/svg\" xmlns:xlink=\"http://www.w3.org/1999/xlink\" contentScriptType=\"application/ecmascript\" contentStyleType=\"text/css\" height=\"552px\" preserveAspectRatio=\"none\" style=\"width:536px;height:552px;\" version=\"1.1\" viewBox=\"0 0 536 552\" width=\"536px\" zoomAndPan=\"magnify\"><defs/><g><!--MD5=[fbc87193dbaf4d95561dea2c320d4a47]\n",
       "cluster E1--><a href=\"psysml:30c793ee-6e7c-4739-835e-bebdfc5bf1ce\" target=\"_top\" title=\"psysml:30c793ee-6e7c-4739-835e-bebdfc5bf1ce\" xlink:actuate=\"onRequest\" xlink:href=\"psysml:30c793ee-6e7c-4739-835e-bebdfc5bf1ce\" xlink:show=\"new\" xlink:title=\"psysml:30c793ee-6e7c-4739-835e-bebdfc5bf1ce\" xlink:type=\"simple\"><polygon fill=\"#FFFFFF\" points=\"16,6,142,6,149,28.2969,514,28.2969,514,540.72,16,540.72,16,6\" style=\"stroke: #000000; stroke-width: 1.5;\"/><line style=\"stroke: #000000; stroke-width: 1.5;\" x1=\"16\" x2=\"149\" y1=\"28.2969\" y2=\"28.2969\"/><text fill=\"#000000\" font-family=\"sans-serif\" font-size=\"14\" font-weight=\"bold\" lengthAdjust=\"spacingAndGlyphs\" textLength=\"120\" x=\"20\" y=\"20.9951\">DependencyTest</text></a><!--MD5=[e4f7fae6ed58524ba242bb0b0d3be6b7]\n",
       "cluster E2--><a href=\"psysml:db7b2f1b-03d7-4942-9142-e18d7a555d76\" target=\"_top\" title=\"psysml:db7b2f1b-03d7-4942-9142-e18d7a555d76\" xlink:actuate=\"onRequest\" xlink:href=\"psysml:db7b2f1b-03d7-4942-9142-e18d7a555d76\" xlink:show=\"new\" xlink:title=\"psysml:db7b2f1b-03d7-4942-9142-e18d7a555d76\" xlink:type=\"simple\"><polygon fill=\"#FFFFFF\" points=\"271,120.72,328,120.72,335,143.0169,474,143.0169,474,500.72,271,500.72,271,120.72\" style=\"stroke: #000000; stroke-width: 1.5;\"/><line style=\"stroke: #000000; stroke-width: 1.5;\" x1=\"271\" x2=\"335\" y1=\"143.0169\" y2=\"143.0169\"/><text fill=\"#000000\" font-family=\"sans-serif\" font-size=\"14\" font-weight=\"bold\" lengthAdjust=\"spacingAndGlyphs\" textLength=\"51\" x=\"275\" y=\"135.7151\">System</text></a><!--MD5=[60a26617385b1d2d0262a64233df1f8d]\n",
       "class E6--><a href=\"psysml:d66666e9-9ac5-42c6-8412-5d0a1bea61ed\" target=\"_top\" title=\"psysml:d66666e9-9ac5-42c6-8412-5d0a1bea61ed\" xlink:actuate=\"onRequest\" xlink:href=\"psysml:d66666e9-9ac5-42c6-8412-5d0a1bea61ed\" xlink:show=\"new\" xlink:title=\"psysml:d66666e9-9ac5-42c6-8412-5d0a1bea61ed\" xlink:type=\"simple\"><rect fill=\"#FFFFFF\" height=\"45.9375\" id=\"E6\" rx=\"10\" ry=\"10\" style=\"stroke: #383838; stroke-width: 1.5;\" width=\"71\" x=\"40.5\" y=\"297.22\"/><text fill=\"#000000\" font-family=\"sans-serif\" font-size=\"12\" font-style=\"italic\" lengthAdjust=\"spacingAndGlyphs\" textLength=\"69\" x=\"41.5\" y=\"313.3587\">«attribute»</text><text fill=\"#000000\" font-family=\"sans-serif\" font-size=\"12\" lengthAdjust=\"spacingAndGlyphs\" textLength=\"6\" x=\"71\" y=\"327.3274\">x</text><line style=\"stroke: #383838; stroke-width: 1.5;\" x1=\"41.5\" x2=\"110.5\" y1=\"335.1575\" y2=\"335.1575\"/></a><!--MD5=[2156ba9850f5573cc1fc38a6a4b2f02b]\n",
       "class E7--><a href=\"psysml:4c5b6854-1a08-45b4-8136-d30683a500ef\" target=\"_top\" title=\"psysml:4c5b6854-1a08-45b4-8136-d30683a500ef\" xlink:actuate=\"onRequest\" xlink:href=\"psysml:4c5b6854-1a08-45b4-8136-d30683a500ef\" xlink:show=\"new\" xlink:title=\"psysml:4c5b6854-1a08-45b4-8136-d30683a500ef\" xlink:type=\"simple\"><rect fill=\"#FFFFFF\" height=\"45.9375\" id=\"E7\" rx=\"10\" ry=\"10\" style=\"stroke: #383838; stroke-width: 1.5;\" width=\"71\" x=\"146.5\" y=\"297.22\"/><text fill=\"#000000\" font-family=\"sans-serif\" font-size=\"12\" font-style=\"italic\" lengthAdjust=\"spacingAndGlyphs\" textLength=\"69\" x=\"147.5\" y=\"313.3587\">«attribute»</text><text fill=\"#000000\" font-family=\"sans-serif\" font-size=\"12\" lengthAdjust=\"spacingAndGlyphs\" textLength=\"6\" x=\"177\" y=\"327.3274\">y</text><line style=\"stroke: #383838; stroke-width: 1.5;\" x1=\"147.5\" x2=\"216.5\" y1=\"335.1575\" y2=\"335.1575\"/></a><!--MD5=[b9389687b975829384b498ac4b7476b2]\n",
       "class E8--><a href=\"psysml:e4676a73-900e-4cfc-90aa-035aeedcaeac\" target=\"_top\" title=\"psysml:e4676a73-900e-4cfc-90aa-035aeedcaeac\" xlink:actuate=\"onRequest\" xlink:href=\"psysml:e4676a73-900e-4cfc-90aa-035aeedcaeac\" xlink:show=\"new\" xlink:title=\"psysml:e4676a73-900e-4cfc-90aa-035aeedcaeac\" xlink:type=\"simple\"><rect fill=\"#FFFFFF\" height=\"45.9375\" id=\"E8\" rx=\"10\" ry=\"10\" style=\"stroke: #383838; stroke-width: 1.5;\" width=\"71\" x=\"92.5\" y=\"167.22\"/><text fill=\"#000000\" font-family=\"sans-serif\" font-size=\"12\" font-style=\"italic\" lengthAdjust=\"spacingAndGlyphs\" textLength=\"69\" x=\"93.5\" y=\"183.3587\">«attribute»</text><text fill=\"#000000\" font-family=\"sans-serif\" font-size=\"12\" lengthAdjust=\"spacingAndGlyphs\" textLength=\"5\" x=\"123.5\" y=\"197.3274\">z</text><line style=\"stroke: #383838; stroke-width: 1.5;\" x1=\"93.5\" x2=\"162.5\" y1=\"205.1575\" y2=\"205.1575\"/></a><a href=\"psysml:7d470368-8955-499f-8cd6-0162cc61b017\" target=\"_top\" title=\"psysml:7d470368-8955-499f-8cd6-0162cc61b017\" xlink:actuate=\"onRequest\" xlink:href=\"psysml:7d470368-8955-499f-8cd6-0162cc61b017\" xlink:show=\"new\" xlink:title=\"psysml:7d470368-8955-499f-8cd6-0162cc61b017\" xlink:type=\"simple\"><polygon fill=\"#FFFFFF\" points=\"314.5,163.72,435.5,163.72,442.5,186.0169,449.5,186.0169,449.5,216.3138,314.5,216.3138,314.5,163.72\" style=\"stroke: #000000; stroke-width: 1.5;\"/><line style=\"stroke: #000000; stroke-width: 1.5;\" x1=\"314.5\" x2=\"442.5\" y1=\"186.0169\" y2=\"186.0169\"/><text fill=\"#000000\" font-family=\"sans-serif\" font-size=\"14\" font-weight=\"bold\" lengthAdjust=\"spacingAndGlyphs\" textLength=\"115\" x=\"318.5\" y=\"178.7151\">Application Layer</text></a><a href=\"psysml:db30598f-7650-4b69-b852-4feea02efbf5\" target=\"_top\" title=\"psysml:db30598f-7650-4b69-b852-4feea02efbf5\" xlink:actuate=\"onRequest\" xlink:href=\"psysml:db30598f-7650-4b69-b852-4feea02efbf5\" xlink:show=\"new\" xlink:title=\"psysml:db30598f-7650-4b69-b852-4feea02efbf5\" xlink:type=\"simple\"><polygon fill=\"#FFFFFF\" points=\"327,293.72,423,293.72,430,316.0169,437,316.0169,437,346.3138,327,346.3138,327,293.72\" style=\"stroke: #000000; stroke-width: 1.5;\"/><line style=\"stroke: #000000; stroke-width: 1.5;\" x1=\"327\" x2=\"430\" y1=\"316.0169\" y2=\"316.0169\"/><text fill=\"#000000\" font-family=\"sans-serif\" font-size=\"14\" font-weight=\"bold\" lengthAdjust=\"spacingAndGlyphs\" textLength=\"90\" x=\"331\" y=\"308.7151\">Service Layer</text></a><a href=\"psysml:f08d8e27-e89d-40a2-8de2-c51098f76f95\" target=\"_top\" title=\"psysml:f08d8e27-e89d-40a2-8de2-c51098f76f95\" xlink:actuate=\"onRequest\" xlink:href=\"psysml:f08d8e27-e89d-40a2-8de2-c51098f76f95\" xlink:show=\"new\" xlink:title=\"psysml:f08d8e27-e89d-40a2-8de2-c51098f76f95\" xlink:type=\"simple\"><polygon fill=\"#FFFFFF\" points=\"336,423.72,414,423.72,421,446.0169,428,446.0169,428,476.3138,336,476.3138,336,423.72\" style=\"stroke: #000000; stroke-width: 1.5;\"/><line style=\"stroke: #000000; stroke-width: 1.5;\" x1=\"336\" x2=\"421\" y1=\"446.0169\" y2=\"446.0169\"/><text fill=\"#000000\" font-family=\"sans-serif\" font-size=\"14\" font-weight=\"bold\" lengthAdjust=\"spacingAndGlyphs\" textLength=\"72\" x=\"340\" y=\"438.7151\">Data Layer</text></a><!--MD5=[1f1cd8e6dd4c1b2ca2aaccc9b9bcea6e]\n",
       "link E1 to E2--><a href=\"psysml:2cdf9aea-584d-4dc5-87f2-78933b91772a\" target=\"_top\" title=\"psysml:2cdf9aea-584d-4dc5-87f2-78933b91772a\" xlink:actuate=\"onRequest\" xlink:href=\"psysml:2cdf9aea-584d-4dc5-87f2-78933b91772a\" xlink:show=\"new\" xlink:title=\"psysml:2cdf9aea-584d-4dc5-87f2-78933b91772a\" xlink:type=\"simple\"><path d=\"M279,33.83 C279,36.15 279,73.83 279,111.5 C279,113.8544 279,116.2087 279,118.5544 C279,119.1408 279,119.7267 279,120.3119 \" fill=\"none\" id=\"E1-&gt;E2\" style=\"stroke: #383838; stroke-width: 1.0; stroke-dasharray: 7.0,7.0;\"/><polygon fill=\"#383838\" points=\"279,120.3119,283,111.3119,279,115.3119,275,111.3119,279,120.3119\" style=\"stroke: #383838; stroke-width: 1.0;\"/><text fill=\"#000000\" font-family=\"sans-serif\" font-size=\"13\" lengthAdjust=\"spacingAndGlyphs\" textLength=\"65\" x=\"280\" y=\"76.7869\">«import»*</text></a><!--MD5=[af87c684e3b0d8be13c1a698a818ef1e]\n",
       "link E3 to E4--><a href=\"psysml:ef543251-f685-45ef-999a-4058d8fef1e9\" target=\"_top\" title=\"psysml:ef543251-f685-45ef-999a-4058d8fef1e9\" xlink:actuate=\"onRequest\" xlink:href=\"psysml:ef543251-f685-45ef-999a-4058d8fef1e9\" xlink:show=\"new\" xlink:title=\"psysml:ef543251-f685-45ef-999a-4058d8fef1e9\" xlink:type=\"simple\"><path d=\"M382,216.82 C382,236.52 382,263.94 382,285.45 \" fill=\"none\" id=\"E3-&gt;E4\" style=\"stroke: #383838; stroke-width: 1.0; stroke-dasharray: 7.0,7.0;\"/><polygon fill=\"#383838\" points=\"382,293.67,385,285.67,379,285.67,382,293.67\" style=\"stroke: #383838; stroke-width: 1.0;\"/><text fill=\"#000000\" font-family=\"sans-serif\" font-size=\"13\" lengthAdjust=\"spacingAndGlyphs\" textLength=\"64\" x=\"383\" y=\"259.7869\">«depend»</text></a><!--MD5=[1b7591eae5389033d8d09a9d6721a717]\n",
       "link E4 to E5--><a href=\"psysml:f939ae72-3488-4da6-b797-5f4561198517\" target=\"_top\" title=\"psysml:f939ae72-3488-4da6-b797-5f4561198517\" xlink:actuate=\"onRequest\" xlink:href=\"psysml:f939ae72-3488-4da6-b797-5f4561198517\" xlink:show=\"new\" xlink:title=\"psysml:f939ae72-3488-4da6-b797-5f4561198517\" xlink:type=\"simple\"><path d=\"M382,346.82 C382,366.52 382,393.94 382,415.45 \" fill=\"none\" id=\"E4-&gt;E5\" style=\"stroke: #383838; stroke-width: 1.0; stroke-dasharray: 7.0,7.0;\"/><polygon fill=\"#383838\" points=\"382,423.67,385,415.67,379,415.67,382,423.67\" style=\"stroke: #383838; stroke-width: 1.0;\"/><text fill=\"#000000\" font-family=\"sans-serif\" font-size=\"13\" lengthAdjust=\"spacingAndGlyphs\" textLength=\"64\" x=\"383\" y=\"389.7869\">«depend»</text></a><!--MD5=[c5e8897d989ce984f93528998a7150fe]\n",
       "link E8 to E6--><a href=\"psysml:2a73c336-1214-4cbc-85e1-1f3a30fc1732\" target=\"_top\" title=\"psysml:2a73c336-1214-4cbc-85e1-1f3a30fc1732\" xlink:actuate=\"onRequest\" xlink:href=\"psysml:2a73c336-1214-4cbc-85e1-1f3a30fc1732\" xlink:show=\"new\" xlink:title=\"psysml:2a73c336-1214-4cbc-85e1-1f3a30fc1732\" xlink:type=\"simple\"><path d=\"M97.42,213.32 C87.35,222.4 77.37,233.83 72,246.72 C66.5,259.92 66.66,275.66 68.54,289.1 \" fill=\"none\" id=\"E8-&gt;E6\" style=\"stroke: #383838; stroke-width: 1.0; stroke-dasharray: 7.0,7.0;\"/><polygon fill=\"#383838\" points=\"69.9,297.12,71.517,288.7304,65.6018,289.7359,69.9,297.12\" style=\"stroke: #383838; stroke-width: 1.0;\"/><text fill=\"#000000\" font-family=\"sans-serif\" font-size=\"13\" lengthAdjust=\"spacingAndGlyphs\" textLength=\"64\" x=\"73\" y=\"259.7869\">«depend»</text></a><!--MD5=[bfa3c8b0d15052fdf50ae9310b491027]\n",
       "link E8 to E7--><a href=\"psysml:2a73c336-1214-4cbc-85e1-1f3a30fc1732\" target=\"_top\" title=\"psysml:2a73c336-1214-4cbc-85e1-1f3a30fc1732\" xlink:actuate=\"onRequest\" xlink:href=\"psysml:2a73c336-1214-4cbc-85e1-1f3a30fc1732\" xlink:show=\"new\" xlink:title=\"psysml:2a73c336-1214-4cbc-85e1-1f3a30fc1732\" xlink:type=\"simple\"><path d=\"M137.28,213.22 C146.17,234.29 159.64,266.22 169.47,289.53 \" fill=\"none\" id=\"E8-&gt;E7\" style=\"stroke: #383838; stroke-width: 1.0; stroke-dasharray: 7.0,7.0;\"/><polygon fill=\"#383838\" points=\"172.66,297.07,172.3241,288.5326,166.7933,290.8585,172.66,297.07\" style=\"stroke: #383838; stroke-width: 1.0;\"/><text fill=\"#000000\" font-family=\"sans-serif\" font-size=\"13\" lengthAdjust=\"spacingAndGlyphs\" textLength=\"64\" x=\"159\" y=\"259.7869\">«depend»</text></a><!--MD5=[151d7e8474d40bdc61e1aec147d10d22]\n",
       "@startuml\r\n",
       "skinparam monochrome true\r\n",
       "skinparam classbackgroundcolor white\r\n",
       "skinparam shadowing false\r\n",
       "skinparam wrapWidth 300\r\n",
       "hide circle\r\n",
       "\r\n",
       "package \"DependencyTest\" as E1  [[psysml:30c793ee-6e7c-4739-835e-bebdfc5bf1ce ]]  {\r\n",
       "package \"System\" as E2  [[psysml:db7b2f1b-03d7-4942-9142-e18d7a555d76 ]]  {\r\n",
       "package \"Application Layer\" as E3  [[psysml:7d470368-8955-499f-8cd6-0162cc61b017 ]]  {\r\n",
       "}\r\n",
       "package \"Service Layer\" as E4  [[psysml:db30598f-7650-4b69-b852-4feea02efbf5 ]]  {\r\n",
       "}\r\n",
       "package \"Data Layer\" as E5  [[psysml:f08d8e27-e89d-40a2-8de2-c51098f76f95 ]]  {\r\n",
       "}\r\n",
       "}\r\n",
       "comp usage \"x \" as E6  <<(T,blue) attribute>> [[psysml:d66666e9-9ac5-42c6-8412-5d0a1bea61ed ]] {\r\n",
       "}\r\n",
       "comp usage \"y \" as E7  <<(T,blue) attribute>> [[psysml:4c5b6854-1a08-45b4-8136-d30683a500ef ]] {\r\n",
       "}\r\n",
       "comp usage \"z \" as E8  <<(T,blue) attribute>> [[psysml:e4676a73-900e-4cfc-90aa-035aeedcaeac ]] {\r\n",
       "}\r\n",
       "}\r\n",
       "E1 ..> E2 [[psysml:2cdf9aea-584d-4dc5-87f2-78933b91772a ]] : <<import>>*\r\n",
       "E3 ..>> E4 [[psysml:ef543251-f685-45ef-999a-4058d8fef1e9 ]] : <<depend>>\r\n",
       "E4 ..>> E5 [[psysml:f939ae72-3488-4da6-b797-5f4561198517 ]] : <<depend>>\r\n",
       "E8 ..>> E6 [[psysml:2a73c336-1214-4cbc-85e1-1f3a30fc1732 ]] : <<depend>>\r\n",
       "E8 ..>> E7 [[psysml:2a73c336-1214-4cbc-85e1-1f3a30fc1732 ]] : <<depend>>\r\n",
       "@enduml\r\n",
       "\n",
       "PlantUML version 1.2020.13(Sat Jun 13 12:26:38 UTC 2020)\n",
       "(EPL source distribution)\n",
       "Java Runtime: OpenJDK Runtime Environment\n",
       "JVM: OpenJDK 64-Bit Server VM\n",
       "Default Encoding: UTF-8\n",
       "Language: en\n",
       "Country: null\n",
       "--></g></svg>"
      ]
     },
     "execution_count": 37,
     "metadata": {},
     "output_type": "execute_result"
    }
   ],
   "source": [
    "%viz --style=\"DEFAULT\" --view=\"Default\" \"DependencyTest\""
   ]
  },
  {
   "cell_type": "code",
   "execution_count": 38,
   "id": "060fc38d",
   "metadata": {
    "execution": {
     "iopub.execute_input": "2022-02-18T10:46:52.146348Z",
     "iopub.status.busy": "2022-02-18T10:46:52.145938Z",
     "iopub.status.idle": "2022-02-18T10:46:52.180542Z",
     "shell.execute_reply": "2022-02-18T10:46:52.180181Z"
    }
   },
   "outputs": [
    {
     "data": {
      "image/svg+xml": [
       "<?xml version=\"1.0\" encoding=\"UTF-8\" standalone=\"no\"?><svg xmlns=\"http://www.w3.org/2000/svg\" xmlns:xlink=\"http://www.w3.org/1999/xlink\" contentScriptType=\"application/ecmascript\" contentStyleType=\"text/css\" height=\"552px\" preserveAspectRatio=\"none\" style=\"width:536px;height:552px;\" version=\"1.1\" viewBox=\"0 0 536 552\" width=\"536px\" zoomAndPan=\"magnify\"><defs/><g><!--MD5=[fbc87193dbaf4d95561dea2c320d4a47]\n",
       "cluster E1--><a href=\"psysml:30c793ee-6e7c-4739-835e-bebdfc5bf1ce\" target=\"_top\" title=\"psysml:30c793ee-6e7c-4739-835e-bebdfc5bf1ce\" xlink:actuate=\"onRequest\" xlink:href=\"psysml:30c793ee-6e7c-4739-835e-bebdfc5bf1ce\" xlink:show=\"new\" xlink:title=\"psysml:30c793ee-6e7c-4739-835e-bebdfc5bf1ce\" xlink:type=\"simple\"><polygon fill=\"#FFFFFF\" points=\"16,6,142,6,149,28.2969,514,28.2969,514,540.72,16,540.72,16,6\" style=\"stroke: #000000; stroke-width: 1.5;\"/><line style=\"stroke: #000000; stroke-width: 1.5;\" x1=\"16\" x2=\"149\" y1=\"28.2969\" y2=\"28.2969\"/><text fill=\"#000000\" font-family=\"sans-serif\" font-size=\"14\" font-weight=\"bold\" lengthAdjust=\"spacingAndGlyphs\" textLength=\"120\" x=\"20\" y=\"20.9951\">DependencyTest</text></a><!--MD5=[e4f7fae6ed58524ba242bb0b0d3be6b7]\n",
       "cluster E2--><a href=\"psysml:db7b2f1b-03d7-4942-9142-e18d7a555d76\" target=\"_top\" title=\"psysml:db7b2f1b-03d7-4942-9142-e18d7a555d76\" xlink:actuate=\"onRequest\" xlink:href=\"psysml:db7b2f1b-03d7-4942-9142-e18d7a555d76\" xlink:show=\"new\" xlink:title=\"psysml:db7b2f1b-03d7-4942-9142-e18d7a555d76\" xlink:type=\"simple\"><polygon fill=\"#FFFFFF\" points=\"271,120.72,328,120.72,335,143.0169,474,143.0169,474,500.72,271,500.72,271,120.72\" style=\"stroke: #000000; stroke-width: 1.5;\"/><line style=\"stroke: #000000; stroke-width: 1.5;\" x1=\"271\" x2=\"335\" y1=\"143.0169\" y2=\"143.0169\"/><text fill=\"#000000\" font-family=\"sans-serif\" font-size=\"14\" font-weight=\"bold\" lengthAdjust=\"spacingAndGlyphs\" textLength=\"51\" x=\"275\" y=\"135.7151\">System</text></a><!--MD5=[60a26617385b1d2d0262a64233df1f8d]\n",
       "class E6--><a href=\"psysml:d66666e9-9ac5-42c6-8412-5d0a1bea61ed\" target=\"_top\" title=\"psysml:d66666e9-9ac5-42c6-8412-5d0a1bea61ed\" xlink:actuate=\"onRequest\" xlink:href=\"psysml:d66666e9-9ac5-42c6-8412-5d0a1bea61ed\" xlink:show=\"new\" xlink:title=\"psysml:d66666e9-9ac5-42c6-8412-5d0a1bea61ed\" xlink:type=\"simple\"><rect fill=\"#FFFFFF\" height=\"45.9375\" id=\"E6\" rx=\"10\" ry=\"10\" style=\"stroke: #383838; stroke-width: 1.5;\" width=\"71\" x=\"40.5\" y=\"297.22\"/><text fill=\"#000000\" font-family=\"sans-serif\" font-size=\"12\" font-style=\"italic\" lengthAdjust=\"spacingAndGlyphs\" textLength=\"69\" x=\"41.5\" y=\"313.3587\">«attribute»</text><text fill=\"#000000\" font-family=\"sans-serif\" font-size=\"12\" lengthAdjust=\"spacingAndGlyphs\" textLength=\"6\" x=\"71\" y=\"327.3274\">x</text><line style=\"stroke: #383838; stroke-width: 1.5;\" x1=\"41.5\" x2=\"110.5\" y1=\"335.1575\" y2=\"335.1575\"/></a><!--MD5=[2156ba9850f5573cc1fc38a6a4b2f02b]\n",
       "class E7--><a href=\"psysml:4c5b6854-1a08-45b4-8136-d30683a500ef\" target=\"_top\" title=\"psysml:4c5b6854-1a08-45b4-8136-d30683a500ef\" xlink:actuate=\"onRequest\" xlink:href=\"psysml:4c5b6854-1a08-45b4-8136-d30683a500ef\" xlink:show=\"new\" xlink:title=\"psysml:4c5b6854-1a08-45b4-8136-d30683a500ef\" xlink:type=\"simple\"><rect fill=\"#FFFFFF\" height=\"45.9375\" id=\"E7\" rx=\"10\" ry=\"10\" style=\"stroke: #383838; stroke-width: 1.5;\" width=\"71\" x=\"146.5\" y=\"297.22\"/><text fill=\"#000000\" font-family=\"sans-serif\" font-size=\"12\" font-style=\"italic\" lengthAdjust=\"spacingAndGlyphs\" textLength=\"69\" x=\"147.5\" y=\"313.3587\">«attribute»</text><text fill=\"#000000\" font-family=\"sans-serif\" font-size=\"12\" lengthAdjust=\"spacingAndGlyphs\" textLength=\"6\" x=\"177\" y=\"327.3274\">y</text><line style=\"stroke: #383838; stroke-width: 1.5;\" x1=\"147.5\" x2=\"216.5\" y1=\"335.1575\" y2=\"335.1575\"/></a><!--MD5=[b9389687b975829384b498ac4b7476b2]\n",
       "class E8--><a href=\"psysml:e4676a73-900e-4cfc-90aa-035aeedcaeac\" target=\"_top\" title=\"psysml:e4676a73-900e-4cfc-90aa-035aeedcaeac\" xlink:actuate=\"onRequest\" xlink:href=\"psysml:e4676a73-900e-4cfc-90aa-035aeedcaeac\" xlink:show=\"new\" xlink:title=\"psysml:e4676a73-900e-4cfc-90aa-035aeedcaeac\" xlink:type=\"simple\"><rect fill=\"#FFFFFF\" height=\"45.9375\" id=\"E8\" rx=\"10\" ry=\"10\" style=\"stroke: #383838; stroke-width: 1.5;\" width=\"71\" x=\"92.5\" y=\"167.22\"/><text fill=\"#000000\" font-family=\"sans-serif\" font-size=\"12\" font-style=\"italic\" lengthAdjust=\"spacingAndGlyphs\" textLength=\"69\" x=\"93.5\" y=\"183.3587\">«attribute»</text><text fill=\"#000000\" font-family=\"sans-serif\" font-size=\"12\" lengthAdjust=\"spacingAndGlyphs\" textLength=\"5\" x=\"123.5\" y=\"197.3274\">z</text><line style=\"stroke: #383838; stroke-width: 1.5;\" x1=\"93.5\" x2=\"162.5\" y1=\"205.1575\" y2=\"205.1575\"/></a><a href=\"psysml:7d470368-8955-499f-8cd6-0162cc61b017\" target=\"_top\" title=\"psysml:7d470368-8955-499f-8cd6-0162cc61b017\" xlink:actuate=\"onRequest\" xlink:href=\"psysml:7d470368-8955-499f-8cd6-0162cc61b017\" xlink:show=\"new\" xlink:title=\"psysml:7d470368-8955-499f-8cd6-0162cc61b017\" xlink:type=\"simple\"><polygon fill=\"#FFFFFF\" points=\"314.5,163.72,435.5,163.72,442.5,186.0169,449.5,186.0169,449.5,216.3138,314.5,216.3138,314.5,163.72\" style=\"stroke: #000000; stroke-width: 1.5;\"/><line style=\"stroke: #000000; stroke-width: 1.5;\" x1=\"314.5\" x2=\"442.5\" y1=\"186.0169\" y2=\"186.0169\"/><text fill=\"#000000\" font-family=\"sans-serif\" font-size=\"14\" font-weight=\"bold\" lengthAdjust=\"spacingAndGlyphs\" textLength=\"115\" x=\"318.5\" y=\"178.7151\">Application Layer</text></a><a href=\"psysml:db30598f-7650-4b69-b852-4feea02efbf5\" target=\"_top\" title=\"psysml:db30598f-7650-4b69-b852-4feea02efbf5\" xlink:actuate=\"onRequest\" xlink:href=\"psysml:db30598f-7650-4b69-b852-4feea02efbf5\" xlink:show=\"new\" xlink:title=\"psysml:db30598f-7650-4b69-b852-4feea02efbf5\" xlink:type=\"simple\"><polygon fill=\"#FFFFFF\" points=\"327,293.72,423,293.72,430,316.0169,437,316.0169,437,346.3138,327,346.3138,327,293.72\" style=\"stroke: #000000; stroke-width: 1.5;\"/><line style=\"stroke: #000000; stroke-width: 1.5;\" x1=\"327\" x2=\"430\" y1=\"316.0169\" y2=\"316.0169\"/><text fill=\"#000000\" font-family=\"sans-serif\" font-size=\"14\" font-weight=\"bold\" lengthAdjust=\"spacingAndGlyphs\" textLength=\"90\" x=\"331\" y=\"308.7151\">Service Layer</text></a><a href=\"psysml:f08d8e27-e89d-40a2-8de2-c51098f76f95\" target=\"_top\" title=\"psysml:f08d8e27-e89d-40a2-8de2-c51098f76f95\" xlink:actuate=\"onRequest\" xlink:href=\"psysml:f08d8e27-e89d-40a2-8de2-c51098f76f95\" xlink:show=\"new\" xlink:title=\"psysml:f08d8e27-e89d-40a2-8de2-c51098f76f95\" xlink:type=\"simple\"><polygon fill=\"#FFFFFF\" points=\"336,423.72,414,423.72,421,446.0169,428,446.0169,428,476.3138,336,476.3138,336,423.72\" style=\"stroke: #000000; stroke-width: 1.5;\"/><line style=\"stroke: #000000; stroke-width: 1.5;\" x1=\"336\" x2=\"421\" y1=\"446.0169\" y2=\"446.0169\"/><text fill=\"#000000\" font-family=\"sans-serif\" font-size=\"14\" font-weight=\"bold\" lengthAdjust=\"spacingAndGlyphs\" textLength=\"72\" x=\"340\" y=\"438.7151\">Data Layer</text></a><!--MD5=[1f1cd8e6dd4c1b2ca2aaccc9b9bcea6e]\n",
       "link E1 to E2--><a href=\"psysml:2cdf9aea-584d-4dc5-87f2-78933b91772a\" target=\"_top\" title=\"psysml:2cdf9aea-584d-4dc5-87f2-78933b91772a\" xlink:actuate=\"onRequest\" xlink:href=\"psysml:2cdf9aea-584d-4dc5-87f2-78933b91772a\" xlink:show=\"new\" xlink:title=\"psysml:2cdf9aea-584d-4dc5-87f2-78933b91772a\" xlink:type=\"simple\"><path d=\"M279,33.83 C279,36.15 279,73.83 279,111.5 C279,113.8544 279,116.2087 279,118.5544 C279,119.1408 279,119.7267 279,120.3119 \" fill=\"none\" id=\"E1-&gt;E2\" style=\"stroke: #383838; stroke-width: 1.0; stroke-dasharray: 7.0,7.0;\"/><polygon fill=\"#383838\" points=\"279,120.3119,283,111.3119,279,115.3119,275,111.3119,279,120.3119\" style=\"stroke: #383838; stroke-width: 1.0;\"/><text fill=\"#000000\" font-family=\"sans-serif\" font-size=\"13\" lengthAdjust=\"spacingAndGlyphs\" textLength=\"65\" x=\"280\" y=\"76.7869\">«import»*</text></a><!--MD5=[af87c684e3b0d8be13c1a698a818ef1e]\n",
       "link E3 to E4--><a href=\"psysml:ef543251-f685-45ef-999a-4058d8fef1e9\" target=\"_top\" title=\"psysml:ef543251-f685-45ef-999a-4058d8fef1e9\" xlink:actuate=\"onRequest\" xlink:href=\"psysml:ef543251-f685-45ef-999a-4058d8fef1e9\" xlink:show=\"new\" xlink:title=\"psysml:ef543251-f685-45ef-999a-4058d8fef1e9\" xlink:type=\"simple\"><path d=\"M382,216.82 C382,236.52 382,263.94 382,285.45 \" fill=\"none\" id=\"E3-&gt;E4\" style=\"stroke: #383838; stroke-width: 1.0; stroke-dasharray: 7.0,7.0;\"/><polygon fill=\"#383838\" points=\"382,293.67,385,285.67,379,285.67,382,293.67\" style=\"stroke: #383838; stroke-width: 1.0;\"/><text fill=\"#000000\" font-family=\"sans-serif\" font-size=\"13\" lengthAdjust=\"spacingAndGlyphs\" textLength=\"64\" x=\"383\" y=\"259.7869\">«depend»</text></a><!--MD5=[1b7591eae5389033d8d09a9d6721a717]\n",
       "link E4 to E5--><a href=\"psysml:f939ae72-3488-4da6-b797-5f4561198517\" target=\"_top\" title=\"psysml:f939ae72-3488-4da6-b797-5f4561198517\" xlink:actuate=\"onRequest\" xlink:href=\"psysml:f939ae72-3488-4da6-b797-5f4561198517\" xlink:show=\"new\" xlink:title=\"psysml:f939ae72-3488-4da6-b797-5f4561198517\" xlink:type=\"simple\"><path d=\"M382,346.82 C382,366.52 382,393.94 382,415.45 \" fill=\"none\" id=\"E4-&gt;E5\" style=\"stroke: #383838; stroke-width: 1.0; stroke-dasharray: 7.0,7.0;\"/><polygon fill=\"#383838\" points=\"382,423.67,385,415.67,379,415.67,382,423.67\" style=\"stroke: #383838; stroke-width: 1.0;\"/><text fill=\"#000000\" font-family=\"sans-serif\" font-size=\"13\" lengthAdjust=\"spacingAndGlyphs\" textLength=\"64\" x=\"383\" y=\"389.7869\">«depend»</text></a><!--MD5=[c5e8897d989ce984f93528998a7150fe]\n",
       "link E8 to E6--><a href=\"psysml:2a73c336-1214-4cbc-85e1-1f3a30fc1732\" target=\"_top\" title=\"psysml:2a73c336-1214-4cbc-85e1-1f3a30fc1732\" xlink:actuate=\"onRequest\" xlink:href=\"psysml:2a73c336-1214-4cbc-85e1-1f3a30fc1732\" xlink:show=\"new\" xlink:title=\"psysml:2a73c336-1214-4cbc-85e1-1f3a30fc1732\" xlink:type=\"simple\"><path d=\"M97.42,213.32 C87.35,222.4 77.37,233.83 72,246.72 C66.5,259.92 66.66,275.66 68.54,289.1 \" fill=\"none\" id=\"E8-&gt;E6\" style=\"stroke: #383838; stroke-width: 1.0; stroke-dasharray: 7.0,7.0;\"/><polygon fill=\"#383838\" points=\"69.9,297.12,71.517,288.7304,65.6018,289.7359,69.9,297.12\" style=\"stroke: #383838; stroke-width: 1.0;\"/><text fill=\"#000000\" font-family=\"sans-serif\" font-size=\"13\" lengthAdjust=\"spacingAndGlyphs\" textLength=\"64\" x=\"73\" y=\"259.7869\">«depend»</text></a><!--MD5=[bfa3c8b0d15052fdf50ae9310b491027]\n",
       "link E8 to E7--><a href=\"psysml:2a73c336-1214-4cbc-85e1-1f3a30fc1732\" target=\"_top\" title=\"psysml:2a73c336-1214-4cbc-85e1-1f3a30fc1732\" xlink:actuate=\"onRequest\" xlink:href=\"psysml:2a73c336-1214-4cbc-85e1-1f3a30fc1732\" xlink:show=\"new\" xlink:title=\"psysml:2a73c336-1214-4cbc-85e1-1f3a30fc1732\" xlink:type=\"simple\"><path d=\"M137.28,213.22 C146.17,234.29 159.64,266.22 169.47,289.53 \" fill=\"none\" id=\"E8-&gt;E7\" style=\"stroke: #383838; stroke-width: 1.0; stroke-dasharray: 7.0,7.0;\"/><polygon fill=\"#383838\" points=\"172.66,297.07,172.3241,288.5326,166.7933,290.8585,172.66,297.07\" style=\"stroke: #383838; stroke-width: 1.0;\"/><text fill=\"#000000\" font-family=\"sans-serif\" font-size=\"13\" lengthAdjust=\"spacingAndGlyphs\" textLength=\"64\" x=\"159\" y=\"259.7869\">«depend»</text></a><!--MD5=[151d7e8474d40bdc61e1aec147d10d22]\n",
       "@startuml\r\n",
       "skinparam monochrome true\r\n",
       "skinparam classbackgroundcolor white\r\n",
       "skinparam shadowing false\r\n",
       "skinparam wrapWidth 300\r\n",
       "hide circle\r\n",
       "\r\n",
       "package \"DependencyTest\" as E1  [[psysml:30c793ee-6e7c-4739-835e-bebdfc5bf1ce ]]  {\r\n",
       "package \"System\" as E2  [[psysml:db7b2f1b-03d7-4942-9142-e18d7a555d76 ]]  {\r\n",
       "package \"Application Layer\" as E3  [[psysml:7d470368-8955-499f-8cd6-0162cc61b017 ]]  {\r\n",
       "}\r\n",
       "package \"Service Layer\" as E4  [[psysml:db30598f-7650-4b69-b852-4feea02efbf5 ]]  {\r\n",
       "}\r\n",
       "package \"Data Layer\" as E5  [[psysml:f08d8e27-e89d-40a2-8de2-c51098f76f95 ]]  {\r\n",
       "}\r\n",
       "}\r\n",
       "comp usage \"x \" as E6  <<(T,blue) attribute>> [[psysml:d66666e9-9ac5-42c6-8412-5d0a1bea61ed ]] {\r\n",
       "}\r\n",
       "comp usage \"y \" as E7  <<(T,blue) attribute>> [[psysml:4c5b6854-1a08-45b4-8136-d30683a500ef ]] {\r\n",
       "}\r\n",
       "comp usage \"z \" as E8  <<(T,blue) attribute>> [[psysml:e4676a73-900e-4cfc-90aa-035aeedcaeac ]] {\r\n",
       "}\r\n",
       "}\r\n",
       "E1 ..> E2 [[psysml:2cdf9aea-584d-4dc5-87f2-78933b91772a ]] : <<import>>*\r\n",
       "E3 ..>> E4 [[psysml:ef543251-f685-45ef-999a-4058d8fef1e9 ]] : <<depend>>\r\n",
       "E4 ..>> E5 [[psysml:f939ae72-3488-4da6-b797-5f4561198517 ]] : <<depend>>\r\n",
       "E8 ..>> E6 [[psysml:2a73c336-1214-4cbc-85e1-1f3a30fc1732 ]] : <<depend>>\r\n",
       "E8 ..>> E7 [[psysml:2a73c336-1214-4cbc-85e1-1f3a30fc1732 ]] : <<depend>>\r\n",
       "@enduml\r\n",
       "\n",
       "PlantUML version 1.2020.13(Sat Jun 13 12:26:38 UTC 2020)\n",
       "(EPL source distribution)\n",
       "Java Runtime: OpenJDK Runtime Environment\n",
       "JVM: OpenJDK 64-Bit Server VM\n",
       "Default Encoding: UTF-8\n",
       "Language: en\n",
       "Country: null\n",
       "--></g></svg>"
      ]
     },
     "execution_count": 38,
     "metadata": {},
     "output_type": "execute_result"
    }
   ],
   "source": [
    "%viz --style=\"DEFAULT\" --view=\"Tree\" \"DependencyTest\""
   ]
  },
  {
   "cell_type": "code",
   "execution_count": 39,
   "id": "b24b58b3",
   "metadata": {
    "execution": {
     "iopub.execute_input": "2022-02-18T10:46:52.230458Z",
     "iopub.status.busy": "2022-02-18T10:46:52.230053Z",
     "iopub.status.idle": "2022-02-18T10:46:52.234847Z",
     "shell.execute_reply": "2022-02-18T10:46:52.235162Z"
    }
   },
   "outputs": [
    {
     "data": {
      "image/svg+xml": [
       "<?xml version=\"1.0\" encoding=\"UTF-8\" standalone=\"no\"?><svg xmlns=\"http://www.w3.org/2000/svg\" xmlns:xlink=\"http://www.w3.org/1999/xlink\" contentScriptType=\"application/ecmascript\" contentStyleType=\"text/css\" height=\"12px\" preserveAspectRatio=\"none\" style=\"width:12px;height:12px;\" version=\"1.1\" viewBox=\"0 0 12 12\" width=\"12px\" zoomAndPan=\"magnify\"><defs/><g><!--MD5=[c5f280e076d0d61ccf4b0f27871bda1d]\n",
       "@startuml\r\n",
       "skinparam monochrome true\r\n",
       "skinparam classbackgroundcolor white\r\n",
       "skinparam shadowing false\r\n",
       "skinparam wrapWidth 300\r\n",
       "hide circle\r\n",
       "\r\n",
       "@enduml\r\n",
       "\n",
       "PlantUML version 1.2020.13(Sat Jun 13 12:26:38 UTC 2020)\n",
       "(EPL source distribution)\n",
       "Java Runtime: OpenJDK Runtime Environment\n",
       "JVM: OpenJDK 64-Bit Server VM\n",
       "Default Encoding: UTF-8\n",
       "Language: en\n",
       "Country: null\n",
       "--></g></svg>"
      ]
     },
     "execution_count": 39,
     "metadata": {},
     "output_type": "execute_result"
    }
   ],
   "source": [
    "%viz --style=\"DEFAULT\" --view=\"State\" \"DependencyTest\""
   ]
  },
  {
   "cell_type": "code",
   "execution_count": 40,
   "id": "d59fb1e0",
   "metadata": {
    "execution": {
     "iopub.execute_input": "2022-02-18T10:46:52.285374Z",
     "iopub.status.busy": "2022-02-18T10:46:52.284967Z",
     "iopub.status.idle": "2022-02-18T10:46:52.321090Z",
     "shell.execute_reply": "2022-02-18T10:46:52.320736Z"
    }
   },
   "outputs": [
    {
     "data": {
      "image/svg+xml": [
       "<?xml version=\"1.0\" encoding=\"UTF-8\" standalone=\"no\"?><svg xmlns=\"http://www.w3.org/2000/svg\" xmlns:xlink=\"http://www.w3.org/1999/xlink\" contentScriptType=\"application/ecmascript\" contentStyleType=\"text/css\" height=\"442px\" preserveAspectRatio=\"none\" style=\"width:536px;height:442px;\" version=\"1.1\" viewBox=\"0 0 536 442\" width=\"536px\" zoomAndPan=\"magnify\"><defs/><g><!--MD5=[fbc87193dbaf4d95561dea2c320d4a47]\n",
       "cluster E1--><a href=\"psysml:30c793ee-6e7c-4739-835e-bebdfc5bf1ce\" target=\"_top\" title=\"psysml:30c793ee-6e7c-4739-835e-bebdfc5bf1ce\" xlink:actuate=\"onRequest\" xlink:href=\"psysml:30c793ee-6e7c-4739-835e-bebdfc5bf1ce\" xlink:show=\"new\" xlink:title=\"psysml:30c793ee-6e7c-4739-835e-bebdfc5bf1ce\" xlink:type=\"simple\"><polygon fill=\"#FFFFFF\" points=\"16,6,142,6,149,28.2969,514,28.2969,514,430.72,16,430.72,16,6\" style=\"stroke: #000000; stroke-width: 1.5;\"/><line style=\"stroke: #000000; stroke-width: 1.5;\" x1=\"16\" x2=\"149\" y1=\"28.2969\" y2=\"28.2969\"/><text fill=\"#000000\" font-family=\"sans-serif\" font-size=\"14\" font-weight=\"bold\" lengthAdjust=\"spacingAndGlyphs\" textLength=\"120\" x=\"20\" y=\"20.9951\">DependencyTest</text></a><!--MD5=[e4f7fae6ed58524ba242bb0b0d3be6b7]\n",
       "cluster E2--><a href=\"psysml:db7b2f1b-03d7-4942-9142-e18d7a555d76\" target=\"_top\" title=\"psysml:db7b2f1b-03d7-4942-9142-e18d7a555d76\" xlink:actuate=\"onRequest\" xlink:href=\"psysml:db7b2f1b-03d7-4942-9142-e18d7a555d76\" xlink:show=\"new\" xlink:title=\"psysml:db7b2f1b-03d7-4942-9142-e18d7a555d76\" xlink:type=\"simple\"><polygon fill=\"#FFFFFF\" points=\"271,98.72,328,98.72,335,121.0169,474,121.0169,474,390.72,271,390.72,271,98.72\" style=\"stroke: #000000; stroke-width: 1.5;\"/><line style=\"stroke: #000000; stroke-width: 1.5;\" x1=\"271\" x2=\"335\" y1=\"121.0169\" y2=\"121.0169\"/><text fill=\"#000000\" font-family=\"sans-serif\" font-size=\"14\" font-weight=\"bold\" lengthAdjust=\"spacingAndGlyphs\" textLength=\"51\" x=\"275\" y=\"113.7151\">System</text></a><!--MD5=[60a26617385b1d2d0262a64233df1f8d]\n",
       "class E6--><a href=\"psysml:d66666e9-9ac5-42c6-8412-5d0a1bea61ed\" target=\"_top\" title=\"psysml:d66666e9-9ac5-42c6-8412-5d0a1bea61ed\" xlink:actuate=\"onRequest\" xlink:href=\"psysml:d66666e9-9ac5-42c6-8412-5d0a1bea61ed\" xlink:show=\"new\" xlink:title=\"psysml:d66666e9-9ac5-42c6-8412-5d0a1bea61ed\" xlink:type=\"simple\"><rect fill=\"#FFFFFF\" height=\"45.9375\" id=\"E6\" rx=\"10\" ry=\"10\" style=\"stroke: #383838; stroke-width: 1.5;\" width=\"71\" x=\"40.5\" y=\"231.22\"/><text fill=\"#000000\" font-family=\"sans-serif\" font-size=\"12\" font-style=\"italic\" lengthAdjust=\"spacingAndGlyphs\" textLength=\"69\" x=\"41.5\" y=\"247.3587\">«attribute»</text><text fill=\"#000000\" font-family=\"sans-serif\" font-size=\"12\" lengthAdjust=\"spacingAndGlyphs\" textLength=\"6\" x=\"71\" y=\"261.3274\">x</text><line style=\"stroke: #383838; stroke-width: 1.5;\" x1=\"41.5\" x2=\"110.5\" y1=\"269.1575\" y2=\"269.1575\"/></a><!--MD5=[2156ba9850f5573cc1fc38a6a4b2f02b]\n",
       "class E7--><a href=\"psysml:4c5b6854-1a08-45b4-8136-d30683a500ef\" target=\"_top\" title=\"psysml:4c5b6854-1a08-45b4-8136-d30683a500ef\" xlink:actuate=\"onRequest\" xlink:href=\"psysml:4c5b6854-1a08-45b4-8136-d30683a500ef\" xlink:show=\"new\" xlink:title=\"psysml:4c5b6854-1a08-45b4-8136-d30683a500ef\" xlink:type=\"simple\"><rect fill=\"#FFFFFF\" height=\"45.9375\" id=\"E7\" rx=\"10\" ry=\"10\" style=\"stroke: #383838; stroke-width: 1.5;\" width=\"71\" x=\"146.5\" y=\"231.22\"/><text fill=\"#000000\" font-family=\"sans-serif\" font-size=\"12\" font-style=\"italic\" lengthAdjust=\"spacingAndGlyphs\" textLength=\"69\" x=\"147.5\" y=\"247.3587\">«attribute»</text><text fill=\"#000000\" font-family=\"sans-serif\" font-size=\"12\" lengthAdjust=\"spacingAndGlyphs\" textLength=\"6\" x=\"177\" y=\"261.3274\">y</text><line style=\"stroke: #383838; stroke-width: 1.5;\" x1=\"147.5\" x2=\"216.5\" y1=\"269.1575\" y2=\"269.1575\"/></a><!--MD5=[b9389687b975829384b498ac4b7476b2]\n",
       "class E8--><a href=\"psysml:e4676a73-900e-4cfc-90aa-035aeedcaeac\" target=\"_top\" title=\"psysml:e4676a73-900e-4cfc-90aa-035aeedcaeac\" xlink:actuate=\"onRequest\" xlink:href=\"psysml:e4676a73-900e-4cfc-90aa-035aeedcaeac\" xlink:show=\"new\" xlink:title=\"psysml:e4676a73-900e-4cfc-90aa-035aeedcaeac\" xlink:type=\"simple\"><rect fill=\"#FFFFFF\" height=\"45.9375\" id=\"E8\" rx=\"10\" ry=\"10\" style=\"stroke: #383838; stroke-width: 1.5;\" width=\"71\" x=\"92.5\" y=\"145.22\"/><text fill=\"#000000\" font-family=\"sans-serif\" font-size=\"12\" font-style=\"italic\" lengthAdjust=\"spacingAndGlyphs\" textLength=\"69\" x=\"93.5\" y=\"161.3587\">«attribute»</text><text fill=\"#000000\" font-family=\"sans-serif\" font-size=\"12\" lengthAdjust=\"spacingAndGlyphs\" textLength=\"5\" x=\"123.5\" y=\"175.3274\">z</text><line style=\"stroke: #383838; stroke-width: 1.5;\" x1=\"93.5\" x2=\"162.5\" y1=\"183.1575\" y2=\"183.1575\"/></a><a href=\"psysml:7d470368-8955-499f-8cd6-0162cc61b017\" target=\"_top\" title=\"psysml:7d470368-8955-499f-8cd6-0162cc61b017\" xlink:actuate=\"onRequest\" xlink:href=\"psysml:7d470368-8955-499f-8cd6-0162cc61b017\" xlink:show=\"new\" xlink:title=\"psysml:7d470368-8955-499f-8cd6-0162cc61b017\" xlink:type=\"simple\"><polygon fill=\"#FFFFFF\" points=\"314.5,141.72,435.5,141.72,442.5,164.0169,449.5,164.0169,449.5,194.3138,314.5,194.3138,314.5,141.72\" style=\"stroke: #000000; stroke-width: 1.5;\"/><line style=\"stroke: #000000; stroke-width: 1.5;\" x1=\"314.5\" x2=\"442.5\" y1=\"164.0169\" y2=\"164.0169\"/><text fill=\"#000000\" font-family=\"sans-serif\" font-size=\"14\" font-weight=\"bold\" lengthAdjust=\"spacingAndGlyphs\" textLength=\"115\" x=\"318.5\" y=\"156.7151\">Application Layer</text></a><a href=\"psysml:db30598f-7650-4b69-b852-4feea02efbf5\" target=\"_top\" title=\"psysml:db30598f-7650-4b69-b852-4feea02efbf5\" xlink:actuate=\"onRequest\" xlink:href=\"psysml:db30598f-7650-4b69-b852-4feea02efbf5\" xlink:show=\"new\" xlink:title=\"psysml:db30598f-7650-4b69-b852-4feea02efbf5\" xlink:type=\"simple\"><polygon fill=\"#FFFFFF\" points=\"327,227.72,423,227.72,430,250.0169,437,250.0169,437,280.3138,327,280.3138,327,227.72\" style=\"stroke: #000000; stroke-width: 1.5;\"/><line style=\"stroke: #000000; stroke-width: 1.5;\" x1=\"327\" x2=\"430\" y1=\"250.0169\" y2=\"250.0169\"/><text fill=\"#000000\" font-family=\"sans-serif\" font-size=\"14\" font-weight=\"bold\" lengthAdjust=\"spacingAndGlyphs\" textLength=\"90\" x=\"331\" y=\"242.7151\">Service Layer</text></a><a href=\"psysml:f08d8e27-e89d-40a2-8de2-c51098f76f95\" target=\"_top\" title=\"psysml:f08d8e27-e89d-40a2-8de2-c51098f76f95\" xlink:actuate=\"onRequest\" xlink:href=\"psysml:f08d8e27-e89d-40a2-8de2-c51098f76f95\" xlink:show=\"new\" xlink:title=\"psysml:f08d8e27-e89d-40a2-8de2-c51098f76f95\" xlink:type=\"simple\"><polygon fill=\"#FFFFFF\" points=\"336,313.72,414,313.72,421,336.0169,428,336.0169,428,366.3138,336,366.3138,336,313.72\" style=\"stroke: #000000; stroke-width: 1.5;\"/><line style=\"stroke: #000000; stroke-width: 1.5;\" x1=\"336\" x2=\"421\" y1=\"336.0169\" y2=\"336.0169\"/><text fill=\"#000000\" font-family=\"sans-serif\" font-size=\"14\" font-weight=\"bold\" lengthAdjust=\"spacingAndGlyphs\" textLength=\"72\" x=\"340\" y=\"328.7151\">Data Layer</text></a><!--MD5=[1f1cd8e6dd4c1b2ca2aaccc9b9bcea6e]\n",
       "link E1 to E2--><a href=\"psysml:2cdf9aea-584d-4dc5-87f2-78933b91772a\" target=\"_top\" title=\"psysml:2cdf9aea-584d-4dc5-87f2-78933b91772a\" xlink:actuate=\"onRequest\" xlink:href=\"psysml:2cdf9aea-584d-4dc5-87f2-78933b91772a\" xlink:show=\"new\" xlink:title=\"psysml:2cdf9aea-584d-4dc5-87f2-78933b91772a\" xlink:type=\"simple\"><path d=\"M279,33.82 C279,34.815 279,43.3994 279,55.7775 C279,61.9666 279,69.1041 279,76.7155 C279,80.5213 279,84.4455 279,88.429 C279,90.4207 279,92.4272 279,94.4411 C279,95.448 279,96.4568 279,97.4665 C279,97.719 279,97.9714 279,98.224 \" fill=\"none\" id=\"E1-&gt;E2\" style=\"stroke: #383838; stroke-width: 1.0; stroke-dasharray: 7.0,7.0;\"/><polygon fill=\"#383838\" points=\"279,98.224,283,89.224,279,93.224,275,89.224,279,98.224\" style=\"stroke: #383838; stroke-width: 1.0;\"/><text fill=\"#000000\" font-family=\"sans-serif\" font-size=\"13\" lengthAdjust=\"spacingAndGlyphs\" textLength=\"65\" x=\"280\" y=\"54.7869\">«import»*</text></a><!--MD5=[af87c684e3b0d8be13c1a698a818ef1e]\n",
       "link E3 to E4--><a href=\"psysml:ef543251-f685-45ef-999a-4058d8fef1e9\" target=\"_top\" title=\"psysml:ef543251-f685-45ef-999a-4058d8fef1e9\" xlink:actuate=\"onRequest\" xlink:href=\"psysml:ef543251-f685-45ef-999a-4058d8fef1e9\" xlink:show=\"new\" xlink:title=\"psysml:ef543251-f685-45ef-999a-4058d8fef1e9\" xlink:type=\"simple\"><path d=\"M382,194.88 C382,202.7 382,211.41 382,219.66 \" fill=\"none\" id=\"E3-&gt;E4\" style=\"stroke: #383838; stroke-width: 1.0; stroke-dasharray: 7.0,7.0;\"/><polygon fill=\"#383838\" points=\"382,227.72,385,219.72,379,219.72,382,227.72\" style=\"stroke: #383838; stroke-width: 1.0;\"/><text fill=\"#000000\" font-family=\"sans-serif\" font-size=\"13\" lengthAdjust=\"spacingAndGlyphs\" textLength=\"64\" x=\"383\" y=\"215.7869\">«depend»</text></a><!--MD5=[1b7591eae5389033d8d09a9d6721a717]\n",
       "link E4 to E5--><a href=\"psysml:f939ae72-3488-4da6-b797-5f4561198517\" target=\"_top\" title=\"psysml:f939ae72-3488-4da6-b797-5f4561198517\" xlink:actuate=\"onRequest\" xlink:href=\"psysml:f939ae72-3488-4da6-b797-5f4561198517\" xlink:show=\"new\" xlink:title=\"psysml:f939ae72-3488-4da6-b797-5f4561198517\" xlink:type=\"simple\"><path d=\"M382,280.88 C382,288.7 382,297.41 382,305.66 \" fill=\"none\" id=\"E4-&gt;E5\" style=\"stroke: #383838; stroke-width: 1.0; stroke-dasharray: 7.0,7.0;\"/><polygon fill=\"#383838\" points=\"382,313.72,385,305.72,379,305.72,382,313.72\" style=\"stroke: #383838; stroke-width: 1.0;\"/><text fill=\"#000000\" font-family=\"sans-serif\" font-size=\"13\" lengthAdjust=\"spacingAndGlyphs\" textLength=\"64\" x=\"383\" y=\"301.7869\">«depend»</text></a><!--MD5=[c5e8897d989ce984f93528998a7150fe]\n",
       "link E8 to E6--><a href=\"psysml:2a73c336-1214-4cbc-85e1-1f3a30fc1732\" target=\"_top\" title=\"psysml:2a73c336-1214-4cbc-85e1-1f3a30fc1732\" xlink:actuate=\"onRequest\" xlink:href=\"psysml:2a73c336-1214-4cbc-85e1-1f3a30fc1732\" xlink:show=\"new\" xlink:title=\"psysml:2a73c336-1214-4cbc-85e1-1f3a30fc1732\" xlink:type=\"simple\"><path d=\"M92.49,183.06 C84.34,187.99 76.69,194.44 72,202.72 C68.54,208.82 67.62,216.03 68,223.05 \" fill=\"none\" id=\"E8-&gt;E6\" style=\"stroke: #383838; stroke-width: 1.0; stroke-dasharray: 7.0,7.0;\"/><polygon fill=\"#383838\" points=\"68.97,231.14,71.0061,222.8421,65.0479,223.5494,68.97,231.14\" style=\"stroke: #383838; stroke-width: 1.0;\"/><text fill=\"#000000\" font-family=\"sans-serif\" font-size=\"13\" lengthAdjust=\"spacingAndGlyphs\" textLength=\"64\" x=\"73\" y=\"215.7869\">«depend»</text></a><!--MD5=[bfa3c8b0d15052fdf50ae9310b491027]\n",
       "link E8 to E7--><a href=\"psysml:2a73c336-1214-4cbc-85e1-1f3a30fc1732\" target=\"_top\" title=\"psysml:2a73c336-1214-4cbc-85e1-1f3a30fc1732\" xlink:actuate=\"onRequest\" xlink:href=\"psysml:2a73c336-1214-4cbc-85e1-1f3a30fc1732\" xlink:show=\"new\" xlink:title=\"psysml:2a73c336-1214-4cbc-85e1-1f3a30fc1732\" xlink:type=\"simple\"><path d=\"M142.19,191.29 C148.65,201.34 156.38,213.37 163.31,224.14 \" fill=\"none\" id=\"E8-&gt;E7\" style=\"stroke: #383838; stroke-width: 1.0; stroke-dasharray: 7.0,7.0;\"/><polygon fill=\"#383838\" points=\"167.72,231.01,165.9148,222.6589,160.8688,225.905,167.72,231.01\" style=\"stroke: #383838; stroke-width: 1.0;\"/><text fill=\"#000000\" font-family=\"sans-serif\" font-size=\"13\" lengthAdjust=\"spacingAndGlyphs\" textLength=\"64\" x=\"160\" y=\"215.7869\">«depend»</text></a><!--MD5=[fc1175a07c0c06647938e7defb6ec6b1]\n",
       "@startuml\r\n",
       "skinparam ranksep 10\r\n",
       "skinparam rectangle {\r\n",
       " backgroundColor<<block>> LightGreen\r\n",
       "}\r\n",
       "skinparam monochrome true\r\n",
       "skinparam classbackgroundcolor white\r\n",
       "skinparam shadowing false\r\n",
       "skinparam wrapWidth 300\r\n",
       "hide circle\r\n",
       "\r\n",
       "package \"DependencyTest\" as E1  [[psysml:30c793ee-6e7c-4739-835e-bebdfc5bf1ce ]]  {\r\n",
       "package \"System\" as E2  [[psysml:db7b2f1b-03d7-4942-9142-e18d7a555d76 ]]  {\r\n",
       "package \"Application Layer\" as E3  [[psysml:7d470368-8955-499f-8cd6-0162cc61b017 ]]  {\r\n",
       "}\r\n",
       "package \"Service Layer\" as E4  [[psysml:db30598f-7650-4b69-b852-4feea02efbf5 ]]  {\r\n",
       "}\r\n",
       "package \"Data Layer\" as E5  [[psysml:f08d8e27-e89d-40a2-8de2-c51098f76f95 ]]  {\r\n",
       "}\r\n",
       "}\r\n",
       "comp usage \"x \" as E6  <<(T,blue) attribute>> [[psysml:d66666e9-9ac5-42c6-8412-5d0a1bea61ed ]] {\r\n",
       "}\r\n",
       "comp usage \"y \" as E7  <<(T,blue) attribute>> [[psysml:4c5b6854-1a08-45b4-8136-d30683a500ef ]] {\r\n",
       "}\r\n",
       "comp usage \"z \" as E8  <<(T,blue) attribute>> [[psysml:e4676a73-900e-4cfc-90aa-035aeedcaeac ]] {\r\n",
       "}\r\n",
       "}\r\n",
       "E1 ..> E2 [[psysml:2cdf9aea-584d-4dc5-87f2-78933b91772a ]] : <<import>>*\r\n",
       "E3 ..>> E4 [[psysml:ef543251-f685-45ef-999a-4058d8fef1e9 ]] : <<depend>>\r\n",
       "E4 ..>> E5 [[psysml:f939ae72-3488-4da6-b797-5f4561198517 ]] : <<depend>>\r\n",
       "E8 ..>> E6 [[psysml:2a73c336-1214-4cbc-85e1-1f3a30fc1732 ]] : <<depend>>\r\n",
       "E8 ..>> E7 [[psysml:2a73c336-1214-4cbc-85e1-1f3a30fc1732 ]] : <<depend>>\r\n",
       "@enduml\r\n",
       "\n",
       "PlantUML version 1.2020.13(Sat Jun 13 12:26:38 UTC 2020)\n",
       "(EPL source distribution)\n",
       "Java Runtime: OpenJDK Runtime Environment\n",
       "JVM: OpenJDK 64-Bit Server VM\n",
       "Default Encoding: UTF-8\n",
       "Language: en\n",
       "Country: null\n",
       "--></g></svg>"
      ]
     },
     "execution_count": 40,
     "metadata": {},
     "output_type": "execute_result"
    }
   ],
   "source": [
    "%viz --style=\"DEFAULT\" --view=\"Interconnection\" \"DependencyTest\""
   ]
  },
  {
   "cell_type": "code",
   "execution_count": 41,
   "id": "38b84214",
   "metadata": {
    "execution": {
     "iopub.execute_input": "2022-02-18T10:46:52.370926Z",
     "iopub.status.busy": "2022-02-18T10:46:52.370521Z",
     "iopub.status.idle": "2022-02-18T10:46:52.375050Z",
     "shell.execute_reply": "2022-02-18T10:46:52.375363Z"
    }
   },
   "outputs": [
    {
     "data": {
      "image/svg+xml": [
       "<?xml version=\"1.0\" encoding=\"UTF-8\" standalone=\"no\"?><svg xmlns=\"http://www.w3.org/2000/svg\" xmlns:xlink=\"http://www.w3.org/1999/xlink\" contentScriptType=\"application/ecmascript\" contentStyleType=\"text/css\" height=\"12px\" preserveAspectRatio=\"none\" style=\"width:12px;height:12px;\" version=\"1.1\" viewBox=\"0 0 12 12\" width=\"12px\" zoomAndPan=\"magnify\"><defs/><g><!--MD5=[388f21188e31bfdd97050473b19af356]\n",
       "@startuml\r\n",
       "skinparam ranksep 8\r\n",
       "skinparam monochrome true\r\n",
       "skinparam classbackgroundcolor white\r\n",
       "skinparam shadowing false\r\n",
       "skinparam wrapWidth 300\r\n",
       "hide circle\r\n",
       "\r\n",
       "@enduml\r\n",
       "\n",
       "PlantUML version 1.2020.13(Sat Jun 13 12:26:38 UTC 2020)\n",
       "(EPL source distribution)\n",
       "Java Runtime: OpenJDK Runtime Environment\n",
       "JVM: OpenJDK 64-Bit Server VM\n",
       "Default Encoding: UTF-8\n",
       "Language: en\n",
       "Country: null\n",
       "--></g></svg>"
      ]
     },
     "execution_count": 41,
     "metadata": {},
     "output_type": "execute_result"
    }
   ],
   "source": [
    "%viz --style=\"DEFAULT\" --view=\"Action\" \"DependencyTest\""
   ]
  },
  {
   "cell_type": "code",
   "execution_count": 42,
   "id": "4b6a280f",
   "metadata": {
    "execution": {
     "iopub.execute_input": "2022-02-18T10:46:52.425442Z",
     "iopub.status.busy": "2022-02-18T10:46:52.425034Z",
     "iopub.status.idle": "2022-02-18T10:46:52.429639Z",
     "shell.execute_reply": "2022-02-18T10:46:52.429954Z"
    }
   },
   "outputs": [
    {
     "data": {
      "image/svg+xml": [
       "<?xml version=\"1.0\" encoding=\"UTF-8\" standalone=\"no\"?><svg xmlns=\"http://www.w3.org/2000/svg\" xmlns:xlink=\"http://www.w3.org/1999/xlink\" contentScriptType=\"application/ecmascript\" contentStyleType=\"text/css\" height=\"12px\" preserveAspectRatio=\"none\" style=\"width:12px;height:12px;\" version=\"1.1\" viewBox=\"0 0 12 12\" width=\"12px\" zoomAndPan=\"magnify\"><defs/><g><!--MD5=[0b72472770326784bf6c2b53246e1e64]\n",
       "@startuml\r\n",
       "skinparam roundcorner 20\r\n",
       "skinparam BoxPadding 20\r\n",
       "skinparam SequenceBoxBackgroundColor #white\r\n",
       "skinparam style strictuml\r\n",
       "skinparam maxMessageSize 100\r\n",
       "skinparam monochrome true\r\n",
       "skinparam classbackgroundcolor white\r\n",
       "skinparam shadowing false\r\n",
       "skinparam wrapWidth 300\r\n",
       "hide circle\r\n",
       "\r\n",
       "@enduml\r\n",
       "\n",
       "PlantUML version 1.2020.13(Sat Jun 13 12:26:38 UTC 2020)\n",
       "(EPL source distribution)\n",
       "Java Runtime: OpenJDK Runtime Environment\n",
       "JVM: OpenJDK 64-Bit Server VM\n",
       "Default Encoding: UTF-8\n",
       "Language: en\n",
       "Country: null\n",
       "--></g></svg>"
      ]
     },
     "execution_count": 42,
     "metadata": {},
     "output_type": "execute_result"
    }
   ],
   "source": [
    "%viz --style=\"DEFAULT\" --view=\"Sequence\" \"DependencyTest\""
   ]
  },
  {
   "cell_type": "code",
   "execution_count": 43,
   "id": "0acc9534",
   "metadata": {
    "execution": {
     "iopub.execute_input": "2022-02-18T10:46:52.479955Z",
     "iopub.status.busy": "2022-02-18T10:46:52.479559Z",
     "iopub.status.idle": "2022-02-18T10:46:52.520008Z",
     "shell.execute_reply": "2022-02-18T10:46:52.518630Z"
    }
   },
   "outputs": [
    {
     "data": {
      "image/svg+xml": [
       "<?xml version=\"1.0\" encoding=\"UTF-8\" standalone=\"no\"?><svg xmlns=\"http://www.w3.org/2000/svg\" xmlns:xlink=\"http://www.w3.org/1999/xlink\" contentScriptType=\"application/ecmascript\" contentStyleType=\"text/css\" height=\"552px\" preserveAspectRatio=\"none\" style=\"width:536px;height:552px;\" version=\"1.1\" viewBox=\"0 0 536 552\" width=\"536px\" zoomAndPan=\"magnify\"><defs/><g><!--MD5=[fbc87193dbaf4d95561dea2c320d4a47]\n",
       "cluster E1--><a href=\"psysml:30c793ee-6e7c-4739-835e-bebdfc5bf1ce\" target=\"_top\" title=\"psysml:30c793ee-6e7c-4739-835e-bebdfc5bf1ce\" xlink:actuate=\"onRequest\" xlink:href=\"psysml:30c793ee-6e7c-4739-835e-bebdfc5bf1ce\" xlink:show=\"new\" xlink:title=\"psysml:30c793ee-6e7c-4739-835e-bebdfc5bf1ce\" xlink:type=\"simple\"><polygon fill=\"#FFFFFF\" points=\"16,6,142,6,149,28.2969,514,28.2969,514,540.72,16,540.72,16,6\" style=\"stroke: #000000; stroke-width: 1.5;\"/><line style=\"stroke: #000000; stroke-width: 1.5;\" x1=\"16\" x2=\"149\" y1=\"28.2969\" y2=\"28.2969\"/><text fill=\"#000000\" font-family=\"sans-serif\" font-size=\"14\" font-weight=\"bold\" lengthAdjust=\"spacingAndGlyphs\" textLength=\"120\" x=\"20\" y=\"20.9951\">DependencyTest</text></a><!--MD5=[e4f7fae6ed58524ba242bb0b0d3be6b7]\n",
       "cluster E2--><a href=\"psysml:db7b2f1b-03d7-4942-9142-e18d7a555d76\" target=\"_top\" title=\"psysml:db7b2f1b-03d7-4942-9142-e18d7a555d76\" xlink:actuate=\"onRequest\" xlink:href=\"psysml:db7b2f1b-03d7-4942-9142-e18d7a555d76\" xlink:show=\"new\" xlink:title=\"psysml:db7b2f1b-03d7-4942-9142-e18d7a555d76\" xlink:type=\"simple\"><polygon fill=\"#FFFFFF\" points=\"271,120.72,328,120.72,335,143.0169,474,143.0169,474,500.72,271,500.72,271,120.72\" style=\"stroke: #000000; stroke-width: 1.5;\"/><line style=\"stroke: #000000; stroke-width: 1.5;\" x1=\"271\" x2=\"335\" y1=\"143.0169\" y2=\"143.0169\"/><text fill=\"#000000\" font-family=\"sans-serif\" font-size=\"14\" font-weight=\"bold\" lengthAdjust=\"spacingAndGlyphs\" textLength=\"51\" x=\"275\" y=\"135.7151\">System</text></a><!--MD5=[60a26617385b1d2d0262a64233df1f8d]\n",
       "class E6--><a href=\"psysml:d66666e9-9ac5-42c6-8412-5d0a1bea61ed\" target=\"_top\" title=\"psysml:d66666e9-9ac5-42c6-8412-5d0a1bea61ed\" xlink:actuate=\"onRequest\" xlink:href=\"psysml:d66666e9-9ac5-42c6-8412-5d0a1bea61ed\" xlink:show=\"new\" xlink:title=\"psysml:d66666e9-9ac5-42c6-8412-5d0a1bea61ed\" xlink:type=\"simple\"><rect fill=\"#FFFFFF\" height=\"45.9375\" id=\"E6\" rx=\"10\" ry=\"10\" style=\"stroke: #383838; stroke-width: 1.5;\" width=\"71\" x=\"40.5\" y=\"297.22\"/><text fill=\"#000000\" font-family=\"sans-serif\" font-size=\"12\" font-style=\"italic\" lengthAdjust=\"spacingAndGlyphs\" textLength=\"69\" x=\"41.5\" y=\"313.3587\">«attribute»</text><text fill=\"#000000\" font-family=\"sans-serif\" font-size=\"12\" lengthAdjust=\"spacingAndGlyphs\" textLength=\"6\" x=\"71\" y=\"327.3274\">x</text><line style=\"stroke: #383838; stroke-width: 1.5;\" x1=\"41.5\" x2=\"110.5\" y1=\"335.1575\" y2=\"335.1575\"/></a><!--MD5=[2156ba9850f5573cc1fc38a6a4b2f02b]\n",
       "class E7--><a href=\"psysml:4c5b6854-1a08-45b4-8136-d30683a500ef\" target=\"_top\" title=\"psysml:4c5b6854-1a08-45b4-8136-d30683a500ef\" xlink:actuate=\"onRequest\" xlink:href=\"psysml:4c5b6854-1a08-45b4-8136-d30683a500ef\" xlink:show=\"new\" xlink:title=\"psysml:4c5b6854-1a08-45b4-8136-d30683a500ef\" xlink:type=\"simple\"><rect fill=\"#FFFFFF\" height=\"45.9375\" id=\"E7\" rx=\"10\" ry=\"10\" style=\"stroke: #383838; stroke-width: 1.5;\" width=\"71\" x=\"146.5\" y=\"297.22\"/><text fill=\"#000000\" font-family=\"sans-serif\" font-size=\"12\" font-style=\"italic\" lengthAdjust=\"spacingAndGlyphs\" textLength=\"69\" x=\"147.5\" y=\"313.3587\">«attribute»</text><text fill=\"#000000\" font-family=\"sans-serif\" font-size=\"12\" lengthAdjust=\"spacingAndGlyphs\" textLength=\"6\" x=\"177\" y=\"327.3274\">y</text><line style=\"stroke: #383838; stroke-width: 1.5;\" x1=\"147.5\" x2=\"216.5\" y1=\"335.1575\" y2=\"335.1575\"/></a><!--MD5=[b9389687b975829384b498ac4b7476b2]\n",
       "class E8--><a href=\"psysml:e4676a73-900e-4cfc-90aa-035aeedcaeac\" target=\"_top\" title=\"psysml:e4676a73-900e-4cfc-90aa-035aeedcaeac\" xlink:actuate=\"onRequest\" xlink:href=\"psysml:e4676a73-900e-4cfc-90aa-035aeedcaeac\" xlink:show=\"new\" xlink:title=\"psysml:e4676a73-900e-4cfc-90aa-035aeedcaeac\" xlink:type=\"simple\"><rect fill=\"#FFFFFF\" height=\"45.9375\" id=\"E8\" rx=\"10\" ry=\"10\" style=\"stroke: #383838; stroke-width: 1.5;\" width=\"71\" x=\"92.5\" y=\"167.22\"/><text fill=\"#000000\" font-family=\"sans-serif\" font-size=\"12\" font-style=\"italic\" lengthAdjust=\"spacingAndGlyphs\" textLength=\"69\" x=\"93.5\" y=\"183.3587\">«attribute»</text><text fill=\"#000000\" font-family=\"sans-serif\" font-size=\"12\" lengthAdjust=\"spacingAndGlyphs\" textLength=\"5\" x=\"123.5\" y=\"197.3274\">z</text><line style=\"stroke: #383838; stroke-width: 1.5;\" x1=\"93.5\" x2=\"162.5\" y1=\"205.1575\" y2=\"205.1575\"/></a><a href=\"psysml:7d470368-8955-499f-8cd6-0162cc61b017\" target=\"_top\" title=\"psysml:7d470368-8955-499f-8cd6-0162cc61b017\" xlink:actuate=\"onRequest\" xlink:href=\"psysml:7d470368-8955-499f-8cd6-0162cc61b017\" xlink:show=\"new\" xlink:title=\"psysml:7d470368-8955-499f-8cd6-0162cc61b017\" xlink:type=\"simple\"><polygon fill=\"#FFFFFF\" points=\"314.5,163.72,435.5,163.72,442.5,186.0169,449.5,186.0169,449.5,216.3138,314.5,216.3138,314.5,163.72\" style=\"stroke: #000000; stroke-width: 1.5;\"/><line style=\"stroke: #000000; stroke-width: 1.5;\" x1=\"314.5\" x2=\"442.5\" y1=\"186.0169\" y2=\"186.0169\"/><text fill=\"#000000\" font-family=\"sans-serif\" font-size=\"14\" font-weight=\"bold\" lengthAdjust=\"spacingAndGlyphs\" textLength=\"115\" x=\"318.5\" y=\"178.7151\">Application Layer</text></a><a href=\"psysml:db30598f-7650-4b69-b852-4feea02efbf5\" target=\"_top\" title=\"psysml:db30598f-7650-4b69-b852-4feea02efbf5\" xlink:actuate=\"onRequest\" xlink:href=\"psysml:db30598f-7650-4b69-b852-4feea02efbf5\" xlink:show=\"new\" xlink:title=\"psysml:db30598f-7650-4b69-b852-4feea02efbf5\" xlink:type=\"simple\"><polygon fill=\"#FFFFFF\" points=\"327,293.72,423,293.72,430,316.0169,437,316.0169,437,346.3138,327,346.3138,327,293.72\" style=\"stroke: #000000; stroke-width: 1.5;\"/><line style=\"stroke: #000000; stroke-width: 1.5;\" x1=\"327\" x2=\"430\" y1=\"316.0169\" y2=\"316.0169\"/><text fill=\"#000000\" font-family=\"sans-serif\" font-size=\"14\" font-weight=\"bold\" lengthAdjust=\"spacingAndGlyphs\" textLength=\"90\" x=\"331\" y=\"308.7151\">Service Layer</text></a><a href=\"psysml:f08d8e27-e89d-40a2-8de2-c51098f76f95\" target=\"_top\" title=\"psysml:f08d8e27-e89d-40a2-8de2-c51098f76f95\" xlink:actuate=\"onRequest\" xlink:href=\"psysml:f08d8e27-e89d-40a2-8de2-c51098f76f95\" xlink:show=\"new\" xlink:title=\"psysml:f08d8e27-e89d-40a2-8de2-c51098f76f95\" xlink:type=\"simple\"><polygon fill=\"#FFFFFF\" points=\"336,423.72,414,423.72,421,446.0169,428,446.0169,428,476.3138,336,476.3138,336,423.72\" style=\"stroke: #000000; stroke-width: 1.5;\"/><line style=\"stroke: #000000; stroke-width: 1.5;\" x1=\"336\" x2=\"421\" y1=\"446.0169\" y2=\"446.0169\"/><text fill=\"#000000\" font-family=\"sans-serif\" font-size=\"14\" font-weight=\"bold\" lengthAdjust=\"spacingAndGlyphs\" textLength=\"72\" x=\"340\" y=\"438.7151\">Data Layer</text></a><!--MD5=[1f1cd8e6dd4c1b2ca2aaccc9b9bcea6e]\n",
       "link E1 to E2--><a href=\"psysml:2cdf9aea-584d-4dc5-87f2-78933b91772a\" target=\"_top\" title=\"psysml:2cdf9aea-584d-4dc5-87f2-78933b91772a\" xlink:actuate=\"onRequest\" xlink:href=\"psysml:2cdf9aea-584d-4dc5-87f2-78933b91772a\" xlink:show=\"new\" xlink:title=\"psysml:2cdf9aea-584d-4dc5-87f2-78933b91772a\" xlink:type=\"simple\"><path d=\"M279,33.83 C279,36.15 279,73.83 279,111.5 C279,113.8544 279,116.2087 279,118.5544 C279,119.1408 279,119.7267 279,120.3119 \" fill=\"none\" id=\"E1-&gt;E2\" style=\"stroke: #383838; stroke-width: 1.0; stroke-dasharray: 7.0,7.0;\"/><polygon fill=\"#383838\" points=\"279,120.3119,283,111.3119,279,115.3119,275,111.3119,279,120.3119\" style=\"stroke: #383838; stroke-width: 1.0;\"/><text fill=\"#000000\" font-family=\"sans-serif\" font-size=\"13\" lengthAdjust=\"spacingAndGlyphs\" textLength=\"65\" x=\"280\" y=\"76.7869\">«import»*</text></a><!--MD5=[af87c684e3b0d8be13c1a698a818ef1e]\n",
       "link E3 to E4--><a href=\"psysml:ef543251-f685-45ef-999a-4058d8fef1e9\" target=\"_top\" title=\"psysml:ef543251-f685-45ef-999a-4058d8fef1e9\" xlink:actuate=\"onRequest\" xlink:href=\"psysml:ef543251-f685-45ef-999a-4058d8fef1e9\" xlink:show=\"new\" xlink:title=\"psysml:ef543251-f685-45ef-999a-4058d8fef1e9\" xlink:type=\"simple\"><path d=\"M382,216.82 C382,236.52 382,263.94 382,285.45 \" fill=\"none\" id=\"E3-&gt;E4\" style=\"stroke: #383838; stroke-width: 1.0; stroke-dasharray: 7.0,7.0;\"/><polygon fill=\"#383838\" points=\"382,293.67,385,285.67,379,285.67,382,293.67\" style=\"stroke: #383838; stroke-width: 1.0;\"/><text fill=\"#000000\" font-family=\"sans-serif\" font-size=\"13\" lengthAdjust=\"spacingAndGlyphs\" textLength=\"64\" x=\"383\" y=\"259.7869\">«depend»</text></a><!--MD5=[1b7591eae5389033d8d09a9d6721a717]\n",
       "link E4 to E5--><a href=\"psysml:f939ae72-3488-4da6-b797-5f4561198517\" target=\"_top\" title=\"psysml:f939ae72-3488-4da6-b797-5f4561198517\" xlink:actuate=\"onRequest\" xlink:href=\"psysml:f939ae72-3488-4da6-b797-5f4561198517\" xlink:show=\"new\" xlink:title=\"psysml:f939ae72-3488-4da6-b797-5f4561198517\" xlink:type=\"simple\"><path d=\"M382,346.82 C382,366.52 382,393.94 382,415.45 \" fill=\"none\" id=\"E4-&gt;E5\" style=\"stroke: #383838; stroke-width: 1.0; stroke-dasharray: 7.0,7.0;\"/><polygon fill=\"#383838\" points=\"382,423.67,385,415.67,379,415.67,382,423.67\" style=\"stroke: #383838; stroke-width: 1.0;\"/><text fill=\"#000000\" font-family=\"sans-serif\" font-size=\"13\" lengthAdjust=\"spacingAndGlyphs\" textLength=\"64\" x=\"383\" y=\"389.7869\">«depend»</text></a><!--MD5=[c5e8897d989ce984f93528998a7150fe]\n",
       "link E8 to E6--><a href=\"psysml:2a73c336-1214-4cbc-85e1-1f3a30fc1732\" target=\"_top\" title=\"psysml:2a73c336-1214-4cbc-85e1-1f3a30fc1732\" xlink:actuate=\"onRequest\" xlink:href=\"psysml:2a73c336-1214-4cbc-85e1-1f3a30fc1732\" xlink:show=\"new\" xlink:title=\"psysml:2a73c336-1214-4cbc-85e1-1f3a30fc1732\" xlink:type=\"simple\"><path d=\"M97.42,213.32 C87.35,222.4 77.37,233.83 72,246.72 C66.5,259.92 66.66,275.66 68.54,289.1 \" fill=\"none\" id=\"E8-&gt;E6\" style=\"stroke: #383838; stroke-width: 1.0; stroke-dasharray: 7.0,7.0;\"/><polygon fill=\"#383838\" points=\"69.9,297.12,71.517,288.7304,65.6018,289.7359,69.9,297.12\" style=\"stroke: #383838; stroke-width: 1.0;\"/><text fill=\"#000000\" font-family=\"sans-serif\" font-size=\"13\" lengthAdjust=\"spacingAndGlyphs\" textLength=\"64\" x=\"73\" y=\"259.7869\">«depend»</text></a><!--MD5=[bfa3c8b0d15052fdf50ae9310b491027]\n",
       "link E8 to E7--><a href=\"psysml:2a73c336-1214-4cbc-85e1-1f3a30fc1732\" target=\"_top\" title=\"psysml:2a73c336-1214-4cbc-85e1-1f3a30fc1732\" xlink:actuate=\"onRequest\" xlink:href=\"psysml:2a73c336-1214-4cbc-85e1-1f3a30fc1732\" xlink:show=\"new\" xlink:title=\"psysml:2a73c336-1214-4cbc-85e1-1f3a30fc1732\" xlink:type=\"simple\"><path d=\"M137.28,213.22 C146.17,234.29 159.64,266.22 169.47,289.53 \" fill=\"none\" id=\"E8-&gt;E7\" style=\"stroke: #383838; stroke-width: 1.0; stroke-dasharray: 7.0,7.0;\"/><polygon fill=\"#383838\" points=\"172.66,297.07,172.3241,288.5326,166.7933,290.8585,172.66,297.07\" style=\"stroke: #383838; stroke-width: 1.0;\"/><text fill=\"#000000\" font-family=\"sans-serif\" font-size=\"13\" lengthAdjust=\"spacingAndGlyphs\" textLength=\"64\" x=\"159\" y=\"259.7869\">«depend»</text></a><!--MD5=[151d7e8474d40bdc61e1aec147d10d22]\n",
       "@startuml\r\n",
       "skinparam monochrome true\r\n",
       "skinparam classbackgroundcolor white\r\n",
       "skinparam shadowing false\r\n",
       "skinparam wrapWidth 300\r\n",
       "hide circle\r\n",
       "\r\n",
       "package \"DependencyTest\" as E1  [[psysml:30c793ee-6e7c-4739-835e-bebdfc5bf1ce ]]  {\r\n",
       "package \"System\" as E2  [[psysml:db7b2f1b-03d7-4942-9142-e18d7a555d76 ]]  {\r\n",
       "package \"Application Layer\" as E3  [[psysml:7d470368-8955-499f-8cd6-0162cc61b017 ]]  {\r\n",
       "}\r\n",
       "package \"Service Layer\" as E4  [[psysml:db30598f-7650-4b69-b852-4feea02efbf5 ]]  {\r\n",
       "}\r\n",
       "package \"Data Layer\" as E5  [[psysml:f08d8e27-e89d-40a2-8de2-c51098f76f95 ]]  {\r\n",
       "}\r\n",
       "}\r\n",
       "comp usage \"x \" as E6  <<(T,blue) attribute>> [[psysml:d66666e9-9ac5-42c6-8412-5d0a1bea61ed ]] {\r\n",
       "}\r\n",
       "comp usage \"y \" as E7  <<(T,blue) attribute>> [[psysml:4c5b6854-1a08-45b4-8136-d30683a500ef ]] {\r\n",
       "}\r\n",
       "comp usage \"z \" as E8  <<(T,blue) attribute>> [[psysml:e4676a73-900e-4cfc-90aa-035aeedcaeac ]] {\r\n",
       "}\r\n",
       "}\r\n",
       "E1 ..> E2 [[psysml:2cdf9aea-584d-4dc5-87f2-78933b91772a ]] : <<import>>*\r\n",
       "E3 ..>> E4 [[psysml:ef543251-f685-45ef-999a-4058d8fef1e9 ]] : <<depend>>\r\n",
       "E4 ..>> E5 [[psysml:f939ae72-3488-4da6-b797-5f4561198517 ]] : <<depend>>\r\n",
       "E8 ..>> E6 [[psysml:2a73c336-1214-4cbc-85e1-1f3a30fc1732 ]] : <<depend>>\r\n",
       "E8 ..>> E7 [[psysml:2a73c336-1214-4cbc-85e1-1f3a30fc1732 ]] : <<depend>>\r\n",
       "@enduml\r\n",
       "\n",
       "PlantUML version 1.2020.13(Sat Jun 13 12:26:38 UTC 2020)\n",
       "(EPL source distribution)\n",
       "Java Runtime: OpenJDK Runtime Environment\n",
       "JVM: OpenJDK 64-Bit Server VM\n",
       "Default Encoding: UTF-8\n",
       "Language: en\n",
       "Country: null\n",
       "--></g></svg>"
      ]
     },
     "execution_count": 43,
     "metadata": {},
     "output_type": "execute_result"
    }
   ],
   "source": [
    "%viz --style=\"DEFAULT\" --view=\"MIXED\" \"DependencyTest\""
   ]
  },
  {
   "cell_type": "code",
   "execution_count": 44,
   "id": "1b68e68d",
   "metadata": {
    "execution": {
     "iopub.execute_input": "2022-02-18T10:46:52.569353Z",
     "iopub.status.busy": "2022-02-18T10:46:52.568926Z",
     "iopub.status.idle": "2022-02-18T10:46:52.601798Z",
     "shell.execute_reply": "2022-02-18T10:46:52.601446Z"
    }
   },
   "outputs": [
    {
     "data": {
      "image/svg+xml": [
       "<?xml version=\"1.0\" encoding=\"UTF-8\" standalone=\"no\"?><svg xmlns=\"http://www.w3.org/2000/svg\" xmlns:xlink=\"http://www.w3.org/1999/xlink\" contentScriptType=\"application/ecmascript\" contentStyleType=\"text/css\" height=\"552px\" preserveAspectRatio=\"none\" style=\"width:536px;height:552px;\" version=\"1.1\" viewBox=\"0 0 536 552\" width=\"536px\" zoomAndPan=\"magnify\"><defs/><g><!--MD5=[fbc87193dbaf4d95561dea2c320d4a47]\n",
       "cluster E1--><a href=\"psysml:30c793ee-6e7c-4739-835e-bebdfc5bf1ce\" target=\"_top\" title=\"psysml:30c793ee-6e7c-4739-835e-bebdfc5bf1ce\" xlink:actuate=\"onRequest\" xlink:href=\"psysml:30c793ee-6e7c-4739-835e-bebdfc5bf1ce\" xlink:show=\"new\" xlink:title=\"psysml:30c793ee-6e7c-4739-835e-bebdfc5bf1ce\" xlink:type=\"simple\"><polygon fill=\"#FFFFFF\" points=\"16,6,142,6,149,28.2969,514,28.2969,514,540.72,16,540.72,16,6\" style=\"stroke: #000000; stroke-width: 1.5;\"/><line style=\"stroke: #000000; stroke-width: 1.5;\" x1=\"16\" x2=\"149\" y1=\"28.2969\" y2=\"28.2969\"/><text fill=\"#000000\" font-family=\"sans-serif\" font-size=\"14\" font-weight=\"bold\" lengthAdjust=\"spacingAndGlyphs\" textLength=\"120\" x=\"20\" y=\"20.9951\">DependencyTest</text></a><!--MD5=[e4f7fae6ed58524ba242bb0b0d3be6b7]\n",
       "cluster E2--><a href=\"psysml:db7b2f1b-03d7-4942-9142-e18d7a555d76\" target=\"_top\" title=\"psysml:db7b2f1b-03d7-4942-9142-e18d7a555d76\" xlink:actuate=\"onRequest\" xlink:href=\"psysml:db7b2f1b-03d7-4942-9142-e18d7a555d76\" xlink:show=\"new\" xlink:title=\"psysml:db7b2f1b-03d7-4942-9142-e18d7a555d76\" xlink:type=\"simple\"><polygon fill=\"#FFFFFF\" points=\"271,120.72,328,120.72,335,143.0169,474,143.0169,474,500.72,271,500.72,271,120.72\" style=\"stroke: #000000; stroke-width: 1.5;\"/><line style=\"stroke: #000000; stroke-width: 1.5;\" x1=\"271\" x2=\"335\" y1=\"143.0169\" y2=\"143.0169\"/><text fill=\"#000000\" font-family=\"sans-serif\" font-size=\"14\" font-weight=\"bold\" lengthAdjust=\"spacingAndGlyphs\" textLength=\"51\" x=\"275\" y=\"135.7151\">System</text></a><!--MD5=[60a26617385b1d2d0262a64233df1f8d]\n",
       "class E6--><a href=\"psysml:d66666e9-9ac5-42c6-8412-5d0a1bea61ed\" target=\"_top\" title=\"psysml:d66666e9-9ac5-42c6-8412-5d0a1bea61ed\" xlink:actuate=\"onRequest\" xlink:href=\"psysml:d66666e9-9ac5-42c6-8412-5d0a1bea61ed\" xlink:show=\"new\" xlink:title=\"psysml:d66666e9-9ac5-42c6-8412-5d0a1bea61ed\" xlink:type=\"simple\"><rect fill=\"#FFFFFF\" height=\"45.9375\" id=\"E6\" rx=\"10\" ry=\"10\" style=\"stroke: #383838; stroke-width: 1.5;\" width=\"71\" x=\"40.5\" y=\"297.22\"/><text fill=\"#000000\" font-family=\"sans-serif\" font-size=\"12\" font-style=\"italic\" lengthAdjust=\"spacingAndGlyphs\" textLength=\"69\" x=\"41.5\" y=\"313.3587\">«attribute»</text><text fill=\"#000000\" font-family=\"sans-serif\" font-size=\"12\" lengthAdjust=\"spacingAndGlyphs\" textLength=\"6\" x=\"71\" y=\"327.3274\">x</text><line style=\"stroke: #383838; stroke-width: 1.5;\" x1=\"41.5\" x2=\"110.5\" y1=\"335.1575\" y2=\"335.1575\"/></a><!--MD5=[2156ba9850f5573cc1fc38a6a4b2f02b]\n",
       "class E7--><a href=\"psysml:4c5b6854-1a08-45b4-8136-d30683a500ef\" target=\"_top\" title=\"psysml:4c5b6854-1a08-45b4-8136-d30683a500ef\" xlink:actuate=\"onRequest\" xlink:href=\"psysml:4c5b6854-1a08-45b4-8136-d30683a500ef\" xlink:show=\"new\" xlink:title=\"psysml:4c5b6854-1a08-45b4-8136-d30683a500ef\" xlink:type=\"simple\"><rect fill=\"#FFFFFF\" height=\"45.9375\" id=\"E7\" rx=\"10\" ry=\"10\" style=\"stroke: #383838; stroke-width: 1.5;\" width=\"71\" x=\"146.5\" y=\"297.22\"/><text fill=\"#000000\" font-family=\"sans-serif\" font-size=\"12\" font-style=\"italic\" lengthAdjust=\"spacingAndGlyphs\" textLength=\"69\" x=\"147.5\" y=\"313.3587\">«attribute»</text><text fill=\"#000000\" font-family=\"sans-serif\" font-size=\"12\" lengthAdjust=\"spacingAndGlyphs\" textLength=\"6\" x=\"177\" y=\"327.3274\">y</text><line style=\"stroke: #383838; stroke-width: 1.5;\" x1=\"147.5\" x2=\"216.5\" y1=\"335.1575\" y2=\"335.1575\"/></a><!--MD5=[b9389687b975829384b498ac4b7476b2]\n",
       "class E8--><a href=\"psysml:e4676a73-900e-4cfc-90aa-035aeedcaeac\" target=\"_top\" title=\"psysml:e4676a73-900e-4cfc-90aa-035aeedcaeac\" xlink:actuate=\"onRequest\" xlink:href=\"psysml:e4676a73-900e-4cfc-90aa-035aeedcaeac\" xlink:show=\"new\" xlink:title=\"psysml:e4676a73-900e-4cfc-90aa-035aeedcaeac\" xlink:type=\"simple\"><rect fill=\"#FFFFFF\" height=\"45.9375\" id=\"E8\" rx=\"10\" ry=\"10\" style=\"stroke: #383838; stroke-width: 1.5;\" width=\"71\" x=\"92.5\" y=\"167.22\"/><text fill=\"#000000\" font-family=\"sans-serif\" font-size=\"12\" font-style=\"italic\" lengthAdjust=\"spacingAndGlyphs\" textLength=\"69\" x=\"93.5\" y=\"183.3587\">«attribute»</text><text fill=\"#000000\" font-family=\"sans-serif\" font-size=\"12\" lengthAdjust=\"spacingAndGlyphs\" textLength=\"5\" x=\"123.5\" y=\"197.3274\">z</text><line style=\"stroke: #383838; stroke-width: 1.5;\" x1=\"93.5\" x2=\"162.5\" y1=\"205.1575\" y2=\"205.1575\"/></a><a href=\"psysml:7d470368-8955-499f-8cd6-0162cc61b017\" target=\"_top\" title=\"psysml:7d470368-8955-499f-8cd6-0162cc61b017\" xlink:actuate=\"onRequest\" xlink:href=\"psysml:7d470368-8955-499f-8cd6-0162cc61b017\" xlink:show=\"new\" xlink:title=\"psysml:7d470368-8955-499f-8cd6-0162cc61b017\" xlink:type=\"simple\"><polygon fill=\"#FFFFFF\" points=\"314.5,163.72,435.5,163.72,442.5,186.0169,449.5,186.0169,449.5,216.3138,314.5,216.3138,314.5,163.72\" style=\"stroke: #000000; stroke-width: 1.5;\"/><line style=\"stroke: #000000; stroke-width: 1.5;\" x1=\"314.5\" x2=\"442.5\" y1=\"186.0169\" y2=\"186.0169\"/><text fill=\"#000000\" font-family=\"sans-serif\" font-size=\"14\" font-weight=\"bold\" lengthAdjust=\"spacingAndGlyphs\" textLength=\"115\" x=\"318.5\" y=\"178.7151\">Application Layer</text></a><a href=\"psysml:db30598f-7650-4b69-b852-4feea02efbf5\" target=\"_top\" title=\"psysml:db30598f-7650-4b69-b852-4feea02efbf5\" xlink:actuate=\"onRequest\" xlink:href=\"psysml:db30598f-7650-4b69-b852-4feea02efbf5\" xlink:show=\"new\" xlink:title=\"psysml:db30598f-7650-4b69-b852-4feea02efbf5\" xlink:type=\"simple\"><polygon fill=\"#FFFFFF\" points=\"327,293.72,423,293.72,430,316.0169,437,316.0169,437,346.3138,327,346.3138,327,293.72\" style=\"stroke: #000000; stroke-width: 1.5;\"/><line style=\"stroke: #000000; stroke-width: 1.5;\" x1=\"327\" x2=\"430\" y1=\"316.0169\" y2=\"316.0169\"/><text fill=\"#000000\" font-family=\"sans-serif\" font-size=\"14\" font-weight=\"bold\" lengthAdjust=\"spacingAndGlyphs\" textLength=\"90\" x=\"331\" y=\"308.7151\">Service Layer</text></a><a href=\"psysml:f08d8e27-e89d-40a2-8de2-c51098f76f95\" target=\"_top\" title=\"psysml:f08d8e27-e89d-40a2-8de2-c51098f76f95\" xlink:actuate=\"onRequest\" xlink:href=\"psysml:f08d8e27-e89d-40a2-8de2-c51098f76f95\" xlink:show=\"new\" xlink:title=\"psysml:f08d8e27-e89d-40a2-8de2-c51098f76f95\" xlink:type=\"simple\"><polygon fill=\"#FFFFFF\" points=\"336,423.72,414,423.72,421,446.0169,428,446.0169,428,476.3138,336,476.3138,336,423.72\" style=\"stroke: #000000; stroke-width: 1.5;\"/><line style=\"stroke: #000000; stroke-width: 1.5;\" x1=\"336\" x2=\"421\" y1=\"446.0169\" y2=\"446.0169\"/><text fill=\"#000000\" font-family=\"sans-serif\" font-size=\"14\" font-weight=\"bold\" lengthAdjust=\"spacingAndGlyphs\" textLength=\"72\" x=\"340\" y=\"438.7151\">Data Layer</text></a><!--MD5=[1f1cd8e6dd4c1b2ca2aaccc9b9bcea6e]\n",
       "link E1 to E2--><a href=\"psysml:2cdf9aea-584d-4dc5-87f2-78933b91772a\" target=\"_top\" title=\"psysml:2cdf9aea-584d-4dc5-87f2-78933b91772a\" xlink:actuate=\"onRequest\" xlink:href=\"psysml:2cdf9aea-584d-4dc5-87f2-78933b91772a\" xlink:show=\"new\" xlink:title=\"psysml:2cdf9aea-584d-4dc5-87f2-78933b91772a\" xlink:type=\"simple\"><path d=\"M279,33.83 C279,36.15 279,73.83 279,111.5 C279,113.8544 279,116.2087 279,118.5544 C279,119.1408 279,119.7267 279,120.3119 \" fill=\"none\" id=\"E1-&gt;E2\" style=\"stroke: #383838; stroke-width: 1.0; stroke-dasharray: 7.0,7.0;\"/><polygon fill=\"#383838\" points=\"279,120.3119,283,111.3119,279,115.3119,275,111.3119,279,120.3119\" style=\"stroke: #383838; stroke-width: 1.0;\"/><text fill=\"#000000\" font-family=\"sans-serif\" font-size=\"13\" lengthAdjust=\"spacingAndGlyphs\" textLength=\"65\" x=\"280\" y=\"76.7869\">«import»*</text></a><!--MD5=[af87c684e3b0d8be13c1a698a818ef1e]\n",
       "link E3 to E4--><a href=\"psysml:ef543251-f685-45ef-999a-4058d8fef1e9\" target=\"_top\" title=\"psysml:ef543251-f685-45ef-999a-4058d8fef1e9\" xlink:actuate=\"onRequest\" xlink:href=\"psysml:ef543251-f685-45ef-999a-4058d8fef1e9\" xlink:show=\"new\" xlink:title=\"psysml:ef543251-f685-45ef-999a-4058d8fef1e9\" xlink:type=\"simple\"><path d=\"M382,216.82 C382,236.52 382,263.94 382,285.45 \" fill=\"none\" id=\"E3-&gt;E4\" style=\"stroke: #383838; stroke-width: 1.0; stroke-dasharray: 7.0,7.0;\"/><polygon fill=\"#383838\" points=\"382,293.67,385,285.67,379,285.67,382,293.67\" style=\"stroke: #383838; stroke-width: 1.0;\"/><text fill=\"#000000\" font-family=\"sans-serif\" font-size=\"13\" lengthAdjust=\"spacingAndGlyphs\" textLength=\"64\" x=\"383\" y=\"259.7869\">«depend»</text></a><!--MD5=[1b7591eae5389033d8d09a9d6721a717]\n",
       "link E4 to E5--><a href=\"psysml:f939ae72-3488-4da6-b797-5f4561198517\" target=\"_top\" title=\"psysml:f939ae72-3488-4da6-b797-5f4561198517\" xlink:actuate=\"onRequest\" xlink:href=\"psysml:f939ae72-3488-4da6-b797-5f4561198517\" xlink:show=\"new\" xlink:title=\"psysml:f939ae72-3488-4da6-b797-5f4561198517\" xlink:type=\"simple\"><path d=\"M382,346.82 C382,366.52 382,393.94 382,415.45 \" fill=\"none\" id=\"E4-&gt;E5\" style=\"stroke: #383838; stroke-width: 1.0; stroke-dasharray: 7.0,7.0;\"/><polygon fill=\"#383838\" points=\"382,423.67,385,415.67,379,415.67,382,423.67\" style=\"stroke: #383838; stroke-width: 1.0;\"/><text fill=\"#000000\" font-family=\"sans-serif\" font-size=\"13\" lengthAdjust=\"spacingAndGlyphs\" textLength=\"64\" x=\"383\" y=\"389.7869\">«depend»</text></a><!--MD5=[c5e8897d989ce984f93528998a7150fe]\n",
       "link E8 to E6--><a href=\"psysml:2a73c336-1214-4cbc-85e1-1f3a30fc1732\" target=\"_top\" title=\"psysml:2a73c336-1214-4cbc-85e1-1f3a30fc1732\" xlink:actuate=\"onRequest\" xlink:href=\"psysml:2a73c336-1214-4cbc-85e1-1f3a30fc1732\" xlink:show=\"new\" xlink:title=\"psysml:2a73c336-1214-4cbc-85e1-1f3a30fc1732\" xlink:type=\"simple\"><path d=\"M97.42,213.32 C87.35,222.4 77.37,233.83 72,246.72 C66.5,259.92 66.66,275.66 68.54,289.1 \" fill=\"none\" id=\"E8-&gt;E6\" style=\"stroke: #383838; stroke-width: 1.0; stroke-dasharray: 7.0,7.0;\"/><polygon fill=\"#383838\" points=\"69.9,297.12,71.517,288.7304,65.6018,289.7359,69.9,297.12\" style=\"stroke: #383838; stroke-width: 1.0;\"/><text fill=\"#000000\" font-family=\"sans-serif\" font-size=\"13\" lengthAdjust=\"spacingAndGlyphs\" textLength=\"64\" x=\"73\" y=\"259.7869\">«depend»</text></a><!--MD5=[bfa3c8b0d15052fdf50ae9310b491027]\n",
       "link E8 to E7--><a href=\"psysml:2a73c336-1214-4cbc-85e1-1f3a30fc1732\" target=\"_top\" title=\"psysml:2a73c336-1214-4cbc-85e1-1f3a30fc1732\" xlink:actuate=\"onRequest\" xlink:href=\"psysml:2a73c336-1214-4cbc-85e1-1f3a30fc1732\" xlink:show=\"new\" xlink:title=\"psysml:2a73c336-1214-4cbc-85e1-1f3a30fc1732\" xlink:type=\"simple\"><path d=\"M137.28,213.22 C146.17,234.29 159.64,266.22 169.47,289.53 \" fill=\"none\" id=\"E8-&gt;E7\" style=\"stroke: #383838; stroke-width: 1.0; stroke-dasharray: 7.0,7.0;\"/><polygon fill=\"#383838\" points=\"172.66,297.07,172.3241,288.5326,166.7933,290.8585,172.66,297.07\" style=\"stroke: #383838; stroke-width: 1.0;\"/><text fill=\"#000000\" font-family=\"sans-serif\" font-size=\"13\" lengthAdjust=\"spacingAndGlyphs\" textLength=\"64\" x=\"159\" y=\"259.7869\">«depend»</text></a><!--MD5=[fa95a70e1548cd35dee6584bf5f56450]\n",
       "@startuml\r\n",
       "top to bottom direction\r\n",
       "skinparam monochrome true\r\n",
       "skinparam classbackgroundcolor white\r\n",
       "skinparam shadowing false\r\n",
       "skinparam wrapWidth 300\r\n",
       "hide circle\r\n",
       "\r\n",
       "package \"DependencyTest\" as E1  [[psysml:30c793ee-6e7c-4739-835e-bebdfc5bf1ce ]]  {\r\n",
       "package \"System\" as E2  [[psysml:db7b2f1b-03d7-4942-9142-e18d7a555d76 ]]  {\r\n",
       "package \"Application Layer\" as E3  [[psysml:7d470368-8955-499f-8cd6-0162cc61b017 ]]  {\r\n",
       "}\r\n",
       "package \"Service Layer\" as E4  [[psysml:db30598f-7650-4b69-b852-4feea02efbf5 ]]  {\r\n",
       "}\r\n",
       "package \"Data Layer\" as E5  [[psysml:f08d8e27-e89d-40a2-8de2-c51098f76f95 ]]  {\r\n",
       "}\r\n",
       "}\r\n",
       "comp usage \"x \" as E6  <<(T,blue) attribute>> [[psysml:d66666e9-9ac5-42c6-8412-5d0a1bea61ed ]] {\r\n",
       "}\r\n",
       "comp usage \"y \" as E7  <<(T,blue) attribute>> [[psysml:4c5b6854-1a08-45b4-8136-d30683a500ef ]] {\r\n",
       "}\r\n",
       "comp usage \"z \" as E8  <<(T,blue) attribute>> [[psysml:e4676a73-900e-4cfc-90aa-035aeedcaeac ]] {\r\n",
       "}\r\n",
       "}\r\n",
       "E1 ..> E2 [[psysml:2cdf9aea-584d-4dc5-87f2-78933b91772a ]] : <<import>>*\r\n",
       "E3 ..>> E4 [[psysml:ef543251-f685-45ef-999a-4058d8fef1e9 ]] : <<depend>>\r\n",
       "E4 ..>> E5 [[psysml:f939ae72-3488-4da6-b797-5f4561198517 ]] : <<depend>>\r\n",
       "E8 ..>> E6 [[psysml:2a73c336-1214-4cbc-85e1-1f3a30fc1732 ]] : <<depend>>\r\n",
       "E8 ..>> E7 [[psysml:2a73c336-1214-4cbc-85e1-1f3a30fc1732 ]] : <<depend>>\r\n",
       "@enduml\r\n",
       "\n",
       "PlantUML version 1.2020.13(Sat Jun 13 12:26:38 UTC 2020)\n",
       "(EPL source distribution)\n",
       "Java Runtime: OpenJDK Runtime Environment\n",
       "JVM: OpenJDK 64-Bit Server VM\n",
       "Default Encoding: UTF-8\n",
       "Language: en\n",
       "Country: null\n",
       "--></g></svg>"
      ]
     },
     "execution_count": 44,
     "metadata": {},
     "output_type": "execute_result"
    }
   ],
   "source": [
    "%viz --style=\"TB\" --view=\"Default\" \"DependencyTest\""
   ]
  },
  {
   "cell_type": "code",
   "execution_count": 45,
   "id": "f89fee55",
   "metadata": {
    "execution": {
     "iopub.execute_input": "2022-02-18T10:46:52.651511Z",
     "iopub.status.busy": "2022-02-18T10:46:52.651110Z",
     "iopub.status.idle": "2022-02-18T10:46:52.683186Z",
     "shell.execute_reply": "2022-02-18T10:46:52.682831Z"
    }
   },
   "outputs": [
    {
     "data": {
      "image/svg+xml": [
       "<?xml version=\"1.0\" encoding=\"UTF-8\" standalone=\"no\"?><svg xmlns=\"http://www.w3.org/2000/svg\" xmlns:xlink=\"http://www.w3.org/1999/xlink\" contentScriptType=\"application/ecmascript\" contentStyleType=\"text/css\" height=\"552px\" preserveAspectRatio=\"none\" style=\"width:536px;height:552px;\" version=\"1.1\" viewBox=\"0 0 536 552\" width=\"536px\" zoomAndPan=\"magnify\"><defs/><g><!--MD5=[fbc87193dbaf4d95561dea2c320d4a47]\n",
       "cluster E1--><a href=\"psysml:30c793ee-6e7c-4739-835e-bebdfc5bf1ce\" target=\"_top\" title=\"psysml:30c793ee-6e7c-4739-835e-bebdfc5bf1ce\" xlink:actuate=\"onRequest\" xlink:href=\"psysml:30c793ee-6e7c-4739-835e-bebdfc5bf1ce\" xlink:show=\"new\" xlink:title=\"psysml:30c793ee-6e7c-4739-835e-bebdfc5bf1ce\" xlink:type=\"simple\"><polygon fill=\"#FFFFFF\" points=\"16,6,142,6,149,28.2969,514,28.2969,514,540.72,16,540.72,16,6\" style=\"stroke: #000000; stroke-width: 1.5;\"/><line style=\"stroke: #000000; stroke-width: 1.5;\" x1=\"16\" x2=\"149\" y1=\"28.2969\" y2=\"28.2969\"/><text fill=\"#000000\" font-family=\"sans-serif\" font-size=\"14\" font-weight=\"bold\" lengthAdjust=\"spacingAndGlyphs\" textLength=\"120\" x=\"20\" y=\"20.9951\">DependencyTest</text></a><!--MD5=[e4f7fae6ed58524ba242bb0b0d3be6b7]\n",
       "cluster E2--><a href=\"psysml:db7b2f1b-03d7-4942-9142-e18d7a555d76\" target=\"_top\" title=\"psysml:db7b2f1b-03d7-4942-9142-e18d7a555d76\" xlink:actuate=\"onRequest\" xlink:href=\"psysml:db7b2f1b-03d7-4942-9142-e18d7a555d76\" xlink:show=\"new\" xlink:title=\"psysml:db7b2f1b-03d7-4942-9142-e18d7a555d76\" xlink:type=\"simple\"><polygon fill=\"#FFFFFF\" points=\"271,120.72,328,120.72,335,143.0169,474,143.0169,474,500.72,271,500.72,271,120.72\" style=\"stroke: #000000; stroke-width: 1.5;\"/><line style=\"stroke: #000000; stroke-width: 1.5;\" x1=\"271\" x2=\"335\" y1=\"143.0169\" y2=\"143.0169\"/><text fill=\"#000000\" font-family=\"sans-serif\" font-size=\"14\" font-weight=\"bold\" lengthAdjust=\"spacingAndGlyphs\" textLength=\"51\" x=\"275\" y=\"135.7151\">System</text></a><!--MD5=[60a26617385b1d2d0262a64233df1f8d]\n",
       "class E6--><a href=\"psysml:d66666e9-9ac5-42c6-8412-5d0a1bea61ed\" target=\"_top\" title=\"psysml:d66666e9-9ac5-42c6-8412-5d0a1bea61ed\" xlink:actuate=\"onRequest\" xlink:href=\"psysml:d66666e9-9ac5-42c6-8412-5d0a1bea61ed\" xlink:show=\"new\" xlink:title=\"psysml:d66666e9-9ac5-42c6-8412-5d0a1bea61ed\" xlink:type=\"simple\"><rect fill=\"#FFFFFF\" height=\"45.9375\" id=\"E6\" rx=\"10\" ry=\"10\" style=\"stroke: #383838; stroke-width: 1.5;\" width=\"71\" x=\"40.5\" y=\"297.22\"/><text fill=\"#000000\" font-family=\"sans-serif\" font-size=\"12\" font-style=\"italic\" lengthAdjust=\"spacingAndGlyphs\" textLength=\"69\" x=\"41.5\" y=\"313.3587\">«attribute»</text><text fill=\"#000000\" font-family=\"sans-serif\" font-size=\"12\" lengthAdjust=\"spacingAndGlyphs\" textLength=\"6\" x=\"71\" y=\"327.3274\">x</text><line style=\"stroke: #383838; stroke-width: 1.5;\" x1=\"41.5\" x2=\"110.5\" y1=\"335.1575\" y2=\"335.1575\"/></a><!--MD5=[2156ba9850f5573cc1fc38a6a4b2f02b]\n",
       "class E7--><a href=\"psysml:4c5b6854-1a08-45b4-8136-d30683a500ef\" target=\"_top\" title=\"psysml:4c5b6854-1a08-45b4-8136-d30683a500ef\" xlink:actuate=\"onRequest\" xlink:href=\"psysml:4c5b6854-1a08-45b4-8136-d30683a500ef\" xlink:show=\"new\" xlink:title=\"psysml:4c5b6854-1a08-45b4-8136-d30683a500ef\" xlink:type=\"simple\"><rect fill=\"#FFFFFF\" height=\"45.9375\" id=\"E7\" rx=\"10\" ry=\"10\" style=\"stroke: #383838; stroke-width: 1.5;\" width=\"71\" x=\"146.5\" y=\"297.22\"/><text fill=\"#000000\" font-family=\"sans-serif\" font-size=\"12\" font-style=\"italic\" lengthAdjust=\"spacingAndGlyphs\" textLength=\"69\" x=\"147.5\" y=\"313.3587\">«attribute»</text><text fill=\"#000000\" font-family=\"sans-serif\" font-size=\"12\" lengthAdjust=\"spacingAndGlyphs\" textLength=\"6\" x=\"177\" y=\"327.3274\">y</text><line style=\"stroke: #383838; stroke-width: 1.5;\" x1=\"147.5\" x2=\"216.5\" y1=\"335.1575\" y2=\"335.1575\"/></a><!--MD5=[b9389687b975829384b498ac4b7476b2]\n",
       "class E8--><a href=\"psysml:e4676a73-900e-4cfc-90aa-035aeedcaeac\" target=\"_top\" title=\"psysml:e4676a73-900e-4cfc-90aa-035aeedcaeac\" xlink:actuate=\"onRequest\" xlink:href=\"psysml:e4676a73-900e-4cfc-90aa-035aeedcaeac\" xlink:show=\"new\" xlink:title=\"psysml:e4676a73-900e-4cfc-90aa-035aeedcaeac\" xlink:type=\"simple\"><rect fill=\"#FFFFFF\" height=\"45.9375\" id=\"E8\" rx=\"10\" ry=\"10\" style=\"stroke: #383838; stroke-width: 1.5;\" width=\"71\" x=\"92.5\" y=\"167.22\"/><text fill=\"#000000\" font-family=\"sans-serif\" font-size=\"12\" font-style=\"italic\" lengthAdjust=\"spacingAndGlyphs\" textLength=\"69\" x=\"93.5\" y=\"183.3587\">«attribute»</text><text fill=\"#000000\" font-family=\"sans-serif\" font-size=\"12\" lengthAdjust=\"spacingAndGlyphs\" textLength=\"5\" x=\"123.5\" y=\"197.3274\">z</text><line style=\"stroke: #383838; stroke-width: 1.5;\" x1=\"93.5\" x2=\"162.5\" y1=\"205.1575\" y2=\"205.1575\"/></a><a href=\"psysml:7d470368-8955-499f-8cd6-0162cc61b017\" target=\"_top\" title=\"psysml:7d470368-8955-499f-8cd6-0162cc61b017\" xlink:actuate=\"onRequest\" xlink:href=\"psysml:7d470368-8955-499f-8cd6-0162cc61b017\" xlink:show=\"new\" xlink:title=\"psysml:7d470368-8955-499f-8cd6-0162cc61b017\" xlink:type=\"simple\"><polygon fill=\"#FFFFFF\" points=\"314.5,163.72,435.5,163.72,442.5,186.0169,449.5,186.0169,449.5,216.3138,314.5,216.3138,314.5,163.72\" style=\"stroke: #000000; stroke-width: 1.5;\"/><line style=\"stroke: #000000; stroke-width: 1.5;\" x1=\"314.5\" x2=\"442.5\" y1=\"186.0169\" y2=\"186.0169\"/><text fill=\"#000000\" font-family=\"sans-serif\" font-size=\"14\" font-weight=\"bold\" lengthAdjust=\"spacingAndGlyphs\" textLength=\"115\" x=\"318.5\" y=\"178.7151\">Application Layer</text></a><a href=\"psysml:db30598f-7650-4b69-b852-4feea02efbf5\" target=\"_top\" title=\"psysml:db30598f-7650-4b69-b852-4feea02efbf5\" xlink:actuate=\"onRequest\" xlink:href=\"psysml:db30598f-7650-4b69-b852-4feea02efbf5\" xlink:show=\"new\" xlink:title=\"psysml:db30598f-7650-4b69-b852-4feea02efbf5\" xlink:type=\"simple\"><polygon fill=\"#FFFFFF\" points=\"327,293.72,423,293.72,430,316.0169,437,316.0169,437,346.3138,327,346.3138,327,293.72\" style=\"stroke: #000000; stroke-width: 1.5;\"/><line style=\"stroke: #000000; stroke-width: 1.5;\" x1=\"327\" x2=\"430\" y1=\"316.0169\" y2=\"316.0169\"/><text fill=\"#000000\" font-family=\"sans-serif\" font-size=\"14\" font-weight=\"bold\" lengthAdjust=\"spacingAndGlyphs\" textLength=\"90\" x=\"331\" y=\"308.7151\">Service Layer</text></a><a href=\"psysml:f08d8e27-e89d-40a2-8de2-c51098f76f95\" target=\"_top\" title=\"psysml:f08d8e27-e89d-40a2-8de2-c51098f76f95\" xlink:actuate=\"onRequest\" xlink:href=\"psysml:f08d8e27-e89d-40a2-8de2-c51098f76f95\" xlink:show=\"new\" xlink:title=\"psysml:f08d8e27-e89d-40a2-8de2-c51098f76f95\" xlink:type=\"simple\"><polygon fill=\"#FFFFFF\" points=\"336,423.72,414,423.72,421,446.0169,428,446.0169,428,476.3138,336,476.3138,336,423.72\" style=\"stroke: #000000; stroke-width: 1.5;\"/><line style=\"stroke: #000000; stroke-width: 1.5;\" x1=\"336\" x2=\"421\" y1=\"446.0169\" y2=\"446.0169\"/><text fill=\"#000000\" font-family=\"sans-serif\" font-size=\"14\" font-weight=\"bold\" lengthAdjust=\"spacingAndGlyphs\" textLength=\"72\" x=\"340\" y=\"438.7151\">Data Layer</text></a><!--MD5=[1f1cd8e6dd4c1b2ca2aaccc9b9bcea6e]\n",
       "link E1 to E2--><a href=\"psysml:2cdf9aea-584d-4dc5-87f2-78933b91772a\" target=\"_top\" title=\"psysml:2cdf9aea-584d-4dc5-87f2-78933b91772a\" xlink:actuate=\"onRequest\" xlink:href=\"psysml:2cdf9aea-584d-4dc5-87f2-78933b91772a\" xlink:show=\"new\" xlink:title=\"psysml:2cdf9aea-584d-4dc5-87f2-78933b91772a\" xlink:type=\"simple\"><path d=\"M279,33.83 C279,36.15 279,73.83 279,111.5 C279,113.8544 279,116.2087 279,118.5544 C279,119.1408 279,119.7267 279,120.3119 \" fill=\"none\" id=\"E1-&gt;E2\" style=\"stroke: #383838; stroke-width: 1.0; stroke-dasharray: 7.0,7.0;\"/><polygon fill=\"#383838\" points=\"279,120.3119,283,111.3119,279,115.3119,275,111.3119,279,120.3119\" style=\"stroke: #383838; stroke-width: 1.0;\"/><text fill=\"#000000\" font-family=\"sans-serif\" font-size=\"13\" lengthAdjust=\"spacingAndGlyphs\" textLength=\"65\" x=\"280\" y=\"76.7869\">«import»*</text></a><!--MD5=[af87c684e3b0d8be13c1a698a818ef1e]\n",
       "link E3 to E4--><a href=\"psysml:ef543251-f685-45ef-999a-4058d8fef1e9\" target=\"_top\" title=\"psysml:ef543251-f685-45ef-999a-4058d8fef1e9\" xlink:actuate=\"onRequest\" xlink:href=\"psysml:ef543251-f685-45ef-999a-4058d8fef1e9\" xlink:show=\"new\" xlink:title=\"psysml:ef543251-f685-45ef-999a-4058d8fef1e9\" xlink:type=\"simple\"><path d=\"M382,216.82 C382,236.52 382,263.94 382,285.45 \" fill=\"none\" id=\"E3-&gt;E4\" style=\"stroke: #383838; stroke-width: 1.0; stroke-dasharray: 7.0,7.0;\"/><polygon fill=\"#383838\" points=\"382,293.67,385,285.67,379,285.67,382,293.67\" style=\"stroke: #383838; stroke-width: 1.0;\"/><text fill=\"#000000\" font-family=\"sans-serif\" font-size=\"13\" lengthAdjust=\"spacingAndGlyphs\" textLength=\"64\" x=\"383\" y=\"259.7869\">«depend»</text></a><!--MD5=[1b7591eae5389033d8d09a9d6721a717]\n",
       "link E4 to E5--><a href=\"psysml:f939ae72-3488-4da6-b797-5f4561198517\" target=\"_top\" title=\"psysml:f939ae72-3488-4da6-b797-5f4561198517\" xlink:actuate=\"onRequest\" xlink:href=\"psysml:f939ae72-3488-4da6-b797-5f4561198517\" xlink:show=\"new\" xlink:title=\"psysml:f939ae72-3488-4da6-b797-5f4561198517\" xlink:type=\"simple\"><path d=\"M382,346.82 C382,366.52 382,393.94 382,415.45 \" fill=\"none\" id=\"E4-&gt;E5\" style=\"stroke: #383838; stroke-width: 1.0; stroke-dasharray: 7.0,7.0;\"/><polygon fill=\"#383838\" points=\"382,423.67,385,415.67,379,415.67,382,423.67\" style=\"stroke: #383838; stroke-width: 1.0;\"/><text fill=\"#000000\" font-family=\"sans-serif\" font-size=\"13\" lengthAdjust=\"spacingAndGlyphs\" textLength=\"64\" x=\"383\" y=\"389.7869\">«depend»</text></a><!--MD5=[c5e8897d989ce984f93528998a7150fe]\n",
       "link E8 to E6--><a href=\"psysml:2a73c336-1214-4cbc-85e1-1f3a30fc1732\" target=\"_top\" title=\"psysml:2a73c336-1214-4cbc-85e1-1f3a30fc1732\" xlink:actuate=\"onRequest\" xlink:href=\"psysml:2a73c336-1214-4cbc-85e1-1f3a30fc1732\" xlink:show=\"new\" xlink:title=\"psysml:2a73c336-1214-4cbc-85e1-1f3a30fc1732\" xlink:type=\"simple\"><path d=\"M97.42,213.32 C87.35,222.4 77.37,233.83 72,246.72 C66.5,259.92 66.66,275.66 68.54,289.1 \" fill=\"none\" id=\"E8-&gt;E6\" style=\"stroke: #383838; stroke-width: 1.0; stroke-dasharray: 7.0,7.0;\"/><polygon fill=\"#383838\" points=\"69.9,297.12,71.517,288.7304,65.6018,289.7359,69.9,297.12\" style=\"stroke: #383838; stroke-width: 1.0;\"/><text fill=\"#000000\" font-family=\"sans-serif\" font-size=\"13\" lengthAdjust=\"spacingAndGlyphs\" textLength=\"64\" x=\"73\" y=\"259.7869\">«depend»</text></a><!--MD5=[bfa3c8b0d15052fdf50ae9310b491027]\n",
       "link E8 to E7--><a href=\"psysml:2a73c336-1214-4cbc-85e1-1f3a30fc1732\" target=\"_top\" title=\"psysml:2a73c336-1214-4cbc-85e1-1f3a30fc1732\" xlink:actuate=\"onRequest\" xlink:href=\"psysml:2a73c336-1214-4cbc-85e1-1f3a30fc1732\" xlink:show=\"new\" xlink:title=\"psysml:2a73c336-1214-4cbc-85e1-1f3a30fc1732\" xlink:type=\"simple\"><path d=\"M137.28,213.22 C146.17,234.29 159.64,266.22 169.47,289.53 \" fill=\"none\" id=\"E8-&gt;E7\" style=\"stroke: #383838; stroke-width: 1.0; stroke-dasharray: 7.0,7.0;\"/><polygon fill=\"#383838\" points=\"172.66,297.07,172.3241,288.5326,166.7933,290.8585,172.66,297.07\" style=\"stroke: #383838; stroke-width: 1.0;\"/><text fill=\"#000000\" font-family=\"sans-serif\" font-size=\"13\" lengthAdjust=\"spacingAndGlyphs\" textLength=\"64\" x=\"159\" y=\"259.7869\">«depend»</text></a><!--MD5=[fa95a70e1548cd35dee6584bf5f56450]\n",
       "@startuml\r\n",
       "top to bottom direction\r\n",
       "skinparam monochrome true\r\n",
       "skinparam classbackgroundcolor white\r\n",
       "skinparam shadowing false\r\n",
       "skinparam wrapWidth 300\r\n",
       "hide circle\r\n",
       "\r\n",
       "package \"DependencyTest\" as E1  [[psysml:30c793ee-6e7c-4739-835e-bebdfc5bf1ce ]]  {\r\n",
       "package \"System\" as E2  [[psysml:db7b2f1b-03d7-4942-9142-e18d7a555d76 ]]  {\r\n",
       "package \"Application Layer\" as E3  [[psysml:7d470368-8955-499f-8cd6-0162cc61b017 ]]  {\r\n",
       "}\r\n",
       "package \"Service Layer\" as E4  [[psysml:db30598f-7650-4b69-b852-4feea02efbf5 ]]  {\r\n",
       "}\r\n",
       "package \"Data Layer\" as E5  [[psysml:f08d8e27-e89d-40a2-8de2-c51098f76f95 ]]  {\r\n",
       "}\r\n",
       "}\r\n",
       "comp usage \"x \" as E6  <<(T,blue) attribute>> [[psysml:d66666e9-9ac5-42c6-8412-5d0a1bea61ed ]] {\r\n",
       "}\r\n",
       "comp usage \"y \" as E7  <<(T,blue) attribute>> [[psysml:4c5b6854-1a08-45b4-8136-d30683a500ef ]] {\r\n",
       "}\r\n",
       "comp usage \"z \" as E8  <<(T,blue) attribute>> [[psysml:e4676a73-900e-4cfc-90aa-035aeedcaeac ]] {\r\n",
       "}\r\n",
       "}\r\n",
       "E1 ..> E2 [[psysml:2cdf9aea-584d-4dc5-87f2-78933b91772a ]] : <<import>>*\r\n",
       "E3 ..>> E4 [[psysml:ef543251-f685-45ef-999a-4058d8fef1e9 ]] : <<depend>>\r\n",
       "E4 ..>> E5 [[psysml:f939ae72-3488-4da6-b797-5f4561198517 ]] : <<depend>>\r\n",
       "E8 ..>> E6 [[psysml:2a73c336-1214-4cbc-85e1-1f3a30fc1732 ]] : <<depend>>\r\n",
       "E8 ..>> E7 [[psysml:2a73c336-1214-4cbc-85e1-1f3a30fc1732 ]] : <<depend>>\r\n",
       "@enduml\r\n",
       "\n",
       "PlantUML version 1.2020.13(Sat Jun 13 12:26:38 UTC 2020)\n",
       "(EPL source distribution)\n",
       "Java Runtime: OpenJDK Runtime Environment\n",
       "JVM: OpenJDK 64-Bit Server VM\n",
       "Default Encoding: UTF-8\n",
       "Language: en\n",
       "Country: null\n",
       "--></g></svg>"
      ]
     },
     "execution_count": 45,
     "metadata": {},
     "output_type": "execute_result"
    }
   ],
   "source": [
    "%viz --style=\"TB\" --view=\"Tree\" \"DependencyTest\""
   ]
  },
  {
   "cell_type": "code",
   "execution_count": 46,
   "id": "39aeb110",
   "metadata": {
    "execution": {
     "iopub.execute_input": "2022-02-18T10:46:52.732924Z",
     "iopub.status.busy": "2022-02-18T10:46:52.732512Z",
     "iopub.status.idle": "2022-02-18T10:46:52.737216Z",
     "shell.execute_reply": "2022-02-18T10:46:52.736845Z"
    }
   },
   "outputs": [
    {
     "data": {
      "image/svg+xml": [
       "<?xml version=\"1.0\" encoding=\"UTF-8\" standalone=\"no\"?><svg xmlns=\"http://www.w3.org/2000/svg\" xmlns:xlink=\"http://www.w3.org/1999/xlink\" contentScriptType=\"application/ecmascript\" contentStyleType=\"text/css\" height=\"12px\" preserveAspectRatio=\"none\" style=\"width:12px;height:12px;\" version=\"1.1\" viewBox=\"0 0 12 12\" width=\"12px\" zoomAndPan=\"magnify\"><defs/><g><!--MD5=[f4ee21bc66e489b5061b7c3e9601fdef]\n",
       "@startuml\r\n",
       "top to bottom direction\r\n",
       "skinparam monochrome true\r\n",
       "skinparam classbackgroundcolor white\r\n",
       "skinparam shadowing false\r\n",
       "skinparam wrapWidth 300\r\n",
       "hide circle\r\n",
       "\r\n",
       "@enduml\r\n",
       "\n",
       "PlantUML version 1.2020.13(Sat Jun 13 12:26:38 UTC 2020)\n",
       "(EPL source distribution)\n",
       "Java Runtime: OpenJDK Runtime Environment\n",
       "JVM: OpenJDK 64-Bit Server VM\n",
       "Default Encoding: UTF-8\n",
       "Language: en\n",
       "Country: null\n",
       "--></g></svg>"
      ]
     },
     "execution_count": 46,
     "metadata": {},
     "output_type": "execute_result"
    }
   ],
   "source": [
    "%viz --style=\"TB\" --view=\"State\" \"DependencyTest\""
   ]
  },
  {
   "cell_type": "code",
   "execution_count": 47,
   "id": "338afab6",
   "metadata": {
    "execution": {
     "iopub.execute_input": "2022-02-18T10:46:52.787235Z",
     "iopub.status.busy": "2022-02-18T10:46:52.786840Z",
     "iopub.status.idle": "2022-02-18T10:46:52.821138Z",
     "shell.execute_reply": "2022-02-18T10:46:52.820729Z"
    }
   },
   "outputs": [
    {
     "data": {
      "image/svg+xml": [
       "<?xml version=\"1.0\" encoding=\"UTF-8\" standalone=\"no\"?><svg xmlns=\"http://www.w3.org/2000/svg\" xmlns:xlink=\"http://www.w3.org/1999/xlink\" contentScriptType=\"application/ecmascript\" contentStyleType=\"text/css\" height=\"442px\" preserveAspectRatio=\"none\" style=\"width:536px;height:442px;\" version=\"1.1\" viewBox=\"0 0 536 442\" width=\"536px\" zoomAndPan=\"magnify\"><defs/><g><!--MD5=[fbc87193dbaf4d95561dea2c320d4a47]\n",
       "cluster E1--><a href=\"psysml:30c793ee-6e7c-4739-835e-bebdfc5bf1ce\" target=\"_top\" title=\"psysml:30c793ee-6e7c-4739-835e-bebdfc5bf1ce\" xlink:actuate=\"onRequest\" xlink:href=\"psysml:30c793ee-6e7c-4739-835e-bebdfc5bf1ce\" xlink:show=\"new\" xlink:title=\"psysml:30c793ee-6e7c-4739-835e-bebdfc5bf1ce\" xlink:type=\"simple\"><polygon fill=\"#FFFFFF\" points=\"16,6,142,6,149,28.2969,514,28.2969,514,430.72,16,430.72,16,6\" style=\"stroke: #000000; stroke-width: 1.5;\"/><line style=\"stroke: #000000; stroke-width: 1.5;\" x1=\"16\" x2=\"149\" y1=\"28.2969\" y2=\"28.2969\"/><text fill=\"#000000\" font-family=\"sans-serif\" font-size=\"14\" font-weight=\"bold\" lengthAdjust=\"spacingAndGlyphs\" textLength=\"120\" x=\"20\" y=\"20.9951\">DependencyTest</text></a><!--MD5=[e4f7fae6ed58524ba242bb0b0d3be6b7]\n",
       "cluster E2--><a href=\"psysml:db7b2f1b-03d7-4942-9142-e18d7a555d76\" target=\"_top\" title=\"psysml:db7b2f1b-03d7-4942-9142-e18d7a555d76\" xlink:actuate=\"onRequest\" xlink:href=\"psysml:db7b2f1b-03d7-4942-9142-e18d7a555d76\" xlink:show=\"new\" xlink:title=\"psysml:db7b2f1b-03d7-4942-9142-e18d7a555d76\" xlink:type=\"simple\"><polygon fill=\"#FFFFFF\" points=\"271,98.72,328,98.72,335,121.0169,474,121.0169,474,390.72,271,390.72,271,98.72\" style=\"stroke: #000000; stroke-width: 1.5;\"/><line style=\"stroke: #000000; stroke-width: 1.5;\" x1=\"271\" x2=\"335\" y1=\"121.0169\" y2=\"121.0169\"/><text fill=\"#000000\" font-family=\"sans-serif\" font-size=\"14\" font-weight=\"bold\" lengthAdjust=\"spacingAndGlyphs\" textLength=\"51\" x=\"275\" y=\"113.7151\">System</text></a><!--MD5=[60a26617385b1d2d0262a64233df1f8d]\n",
       "class E6--><a href=\"psysml:d66666e9-9ac5-42c6-8412-5d0a1bea61ed\" target=\"_top\" title=\"psysml:d66666e9-9ac5-42c6-8412-5d0a1bea61ed\" xlink:actuate=\"onRequest\" xlink:href=\"psysml:d66666e9-9ac5-42c6-8412-5d0a1bea61ed\" xlink:show=\"new\" xlink:title=\"psysml:d66666e9-9ac5-42c6-8412-5d0a1bea61ed\" xlink:type=\"simple\"><rect fill=\"#FFFFFF\" height=\"45.9375\" id=\"E6\" rx=\"10\" ry=\"10\" style=\"stroke: #383838; stroke-width: 1.5;\" width=\"71\" x=\"40.5\" y=\"231.22\"/><text fill=\"#000000\" font-family=\"sans-serif\" font-size=\"12\" font-style=\"italic\" lengthAdjust=\"spacingAndGlyphs\" textLength=\"69\" x=\"41.5\" y=\"247.3587\">«attribute»</text><text fill=\"#000000\" font-family=\"sans-serif\" font-size=\"12\" lengthAdjust=\"spacingAndGlyphs\" textLength=\"6\" x=\"71\" y=\"261.3274\">x</text><line style=\"stroke: #383838; stroke-width: 1.5;\" x1=\"41.5\" x2=\"110.5\" y1=\"269.1575\" y2=\"269.1575\"/></a><!--MD5=[2156ba9850f5573cc1fc38a6a4b2f02b]\n",
       "class E7--><a href=\"psysml:4c5b6854-1a08-45b4-8136-d30683a500ef\" target=\"_top\" title=\"psysml:4c5b6854-1a08-45b4-8136-d30683a500ef\" xlink:actuate=\"onRequest\" xlink:href=\"psysml:4c5b6854-1a08-45b4-8136-d30683a500ef\" xlink:show=\"new\" xlink:title=\"psysml:4c5b6854-1a08-45b4-8136-d30683a500ef\" xlink:type=\"simple\"><rect fill=\"#FFFFFF\" height=\"45.9375\" id=\"E7\" rx=\"10\" ry=\"10\" style=\"stroke: #383838; stroke-width: 1.5;\" width=\"71\" x=\"146.5\" y=\"231.22\"/><text fill=\"#000000\" font-family=\"sans-serif\" font-size=\"12\" font-style=\"italic\" lengthAdjust=\"spacingAndGlyphs\" textLength=\"69\" x=\"147.5\" y=\"247.3587\">«attribute»</text><text fill=\"#000000\" font-family=\"sans-serif\" font-size=\"12\" lengthAdjust=\"spacingAndGlyphs\" textLength=\"6\" x=\"177\" y=\"261.3274\">y</text><line style=\"stroke: #383838; stroke-width: 1.5;\" x1=\"147.5\" x2=\"216.5\" y1=\"269.1575\" y2=\"269.1575\"/></a><!--MD5=[b9389687b975829384b498ac4b7476b2]\n",
       "class E8--><a href=\"psysml:e4676a73-900e-4cfc-90aa-035aeedcaeac\" target=\"_top\" title=\"psysml:e4676a73-900e-4cfc-90aa-035aeedcaeac\" xlink:actuate=\"onRequest\" xlink:href=\"psysml:e4676a73-900e-4cfc-90aa-035aeedcaeac\" xlink:show=\"new\" xlink:title=\"psysml:e4676a73-900e-4cfc-90aa-035aeedcaeac\" xlink:type=\"simple\"><rect fill=\"#FFFFFF\" height=\"45.9375\" id=\"E8\" rx=\"10\" ry=\"10\" style=\"stroke: #383838; stroke-width: 1.5;\" width=\"71\" x=\"92.5\" y=\"145.22\"/><text fill=\"#000000\" font-family=\"sans-serif\" font-size=\"12\" font-style=\"italic\" lengthAdjust=\"spacingAndGlyphs\" textLength=\"69\" x=\"93.5\" y=\"161.3587\">«attribute»</text><text fill=\"#000000\" font-family=\"sans-serif\" font-size=\"12\" lengthAdjust=\"spacingAndGlyphs\" textLength=\"5\" x=\"123.5\" y=\"175.3274\">z</text><line style=\"stroke: #383838; stroke-width: 1.5;\" x1=\"93.5\" x2=\"162.5\" y1=\"183.1575\" y2=\"183.1575\"/></a><a href=\"psysml:7d470368-8955-499f-8cd6-0162cc61b017\" target=\"_top\" title=\"psysml:7d470368-8955-499f-8cd6-0162cc61b017\" xlink:actuate=\"onRequest\" xlink:href=\"psysml:7d470368-8955-499f-8cd6-0162cc61b017\" xlink:show=\"new\" xlink:title=\"psysml:7d470368-8955-499f-8cd6-0162cc61b017\" xlink:type=\"simple\"><polygon fill=\"#FFFFFF\" points=\"314.5,141.72,435.5,141.72,442.5,164.0169,449.5,164.0169,449.5,194.3138,314.5,194.3138,314.5,141.72\" style=\"stroke: #000000; stroke-width: 1.5;\"/><line style=\"stroke: #000000; stroke-width: 1.5;\" x1=\"314.5\" x2=\"442.5\" y1=\"164.0169\" y2=\"164.0169\"/><text fill=\"#000000\" font-family=\"sans-serif\" font-size=\"14\" font-weight=\"bold\" lengthAdjust=\"spacingAndGlyphs\" textLength=\"115\" x=\"318.5\" y=\"156.7151\">Application Layer</text></a><a href=\"psysml:db30598f-7650-4b69-b852-4feea02efbf5\" target=\"_top\" title=\"psysml:db30598f-7650-4b69-b852-4feea02efbf5\" xlink:actuate=\"onRequest\" xlink:href=\"psysml:db30598f-7650-4b69-b852-4feea02efbf5\" xlink:show=\"new\" xlink:title=\"psysml:db30598f-7650-4b69-b852-4feea02efbf5\" xlink:type=\"simple\"><polygon fill=\"#FFFFFF\" points=\"327,227.72,423,227.72,430,250.0169,437,250.0169,437,280.3138,327,280.3138,327,227.72\" style=\"stroke: #000000; stroke-width: 1.5;\"/><line style=\"stroke: #000000; stroke-width: 1.5;\" x1=\"327\" x2=\"430\" y1=\"250.0169\" y2=\"250.0169\"/><text fill=\"#000000\" font-family=\"sans-serif\" font-size=\"14\" font-weight=\"bold\" lengthAdjust=\"spacingAndGlyphs\" textLength=\"90\" x=\"331\" y=\"242.7151\">Service Layer</text></a><a href=\"psysml:f08d8e27-e89d-40a2-8de2-c51098f76f95\" target=\"_top\" title=\"psysml:f08d8e27-e89d-40a2-8de2-c51098f76f95\" xlink:actuate=\"onRequest\" xlink:href=\"psysml:f08d8e27-e89d-40a2-8de2-c51098f76f95\" xlink:show=\"new\" xlink:title=\"psysml:f08d8e27-e89d-40a2-8de2-c51098f76f95\" xlink:type=\"simple\"><polygon fill=\"#FFFFFF\" points=\"336,313.72,414,313.72,421,336.0169,428,336.0169,428,366.3138,336,366.3138,336,313.72\" style=\"stroke: #000000; stroke-width: 1.5;\"/><line style=\"stroke: #000000; stroke-width: 1.5;\" x1=\"336\" x2=\"421\" y1=\"336.0169\" y2=\"336.0169\"/><text fill=\"#000000\" font-family=\"sans-serif\" font-size=\"14\" font-weight=\"bold\" lengthAdjust=\"spacingAndGlyphs\" textLength=\"72\" x=\"340\" y=\"328.7151\">Data Layer</text></a><!--MD5=[1f1cd8e6dd4c1b2ca2aaccc9b9bcea6e]\n",
       "link E1 to E2--><a href=\"psysml:2cdf9aea-584d-4dc5-87f2-78933b91772a\" target=\"_top\" title=\"psysml:2cdf9aea-584d-4dc5-87f2-78933b91772a\" xlink:actuate=\"onRequest\" xlink:href=\"psysml:2cdf9aea-584d-4dc5-87f2-78933b91772a\" xlink:show=\"new\" xlink:title=\"psysml:2cdf9aea-584d-4dc5-87f2-78933b91772a\" xlink:type=\"simple\"><path d=\"M279,33.82 C279,34.815 279,43.3994 279,55.7775 C279,61.9666 279,69.1041 279,76.7155 C279,80.5213 279,84.4455 279,88.429 C279,90.4207 279,92.4272 279,94.4411 C279,95.448 279,96.4568 279,97.4665 C279,97.719 279,97.9714 279,98.224 \" fill=\"none\" id=\"E1-&gt;E2\" style=\"stroke: #383838; stroke-width: 1.0; stroke-dasharray: 7.0,7.0;\"/><polygon fill=\"#383838\" points=\"279,98.224,283,89.224,279,93.224,275,89.224,279,98.224\" style=\"stroke: #383838; stroke-width: 1.0;\"/><text fill=\"#000000\" font-family=\"sans-serif\" font-size=\"13\" lengthAdjust=\"spacingAndGlyphs\" textLength=\"65\" x=\"280\" y=\"54.7869\">«import»*</text></a><!--MD5=[af87c684e3b0d8be13c1a698a818ef1e]\n",
       "link E3 to E4--><a href=\"psysml:ef543251-f685-45ef-999a-4058d8fef1e9\" target=\"_top\" title=\"psysml:ef543251-f685-45ef-999a-4058d8fef1e9\" xlink:actuate=\"onRequest\" xlink:href=\"psysml:ef543251-f685-45ef-999a-4058d8fef1e9\" xlink:show=\"new\" xlink:title=\"psysml:ef543251-f685-45ef-999a-4058d8fef1e9\" xlink:type=\"simple\"><path d=\"M382,194.88 C382,202.7 382,211.41 382,219.66 \" fill=\"none\" id=\"E3-&gt;E4\" style=\"stroke: #383838; stroke-width: 1.0; stroke-dasharray: 7.0,7.0;\"/><polygon fill=\"#383838\" points=\"382,227.72,385,219.72,379,219.72,382,227.72\" style=\"stroke: #383838; stroke-width: 1.0;\"/><text fill=\"#000000\" font-family=\"sans-serif\" font-size=\"13\" lengthAdjust=\"spacingAndGlyphs\" textLength=\"64\" x=\"383\" y=\"215.7869\">«depend»</text></a><!--MD5=[1b7591eae5389033d8d09a9d6721a717]\n",
       "link E4 to E5--><a href=\"psysml:f939ae72-3488-4da6-b797-5f4561198517\" target=\"_top\" title=\"psysml:f939ae72-3488-4da6-b797-5f4561198517\" xlink:actuate=\"onRequest\" xlink:href=\"psysml:f939ae72-3488-4da6-b797-5f4561198517\" xlink:show=\"new\" xlink:title=\"psysml:f939ae72-3488-4da6-b797-5f4561198517\" xlink:type=\"simple\"><path d=\"M382,280.88 C382,288.7 382,297.41 382,305.66 \" fill=\"none\" id=\"E4-&gt;E5\" style=\"stroke: #383838; stroke-width: 1.0; stroke-dasharray: 7.0,7.0;\"/><polygon fill=\"#383838\" points=\"382,313.72,385,305.72,379,305.72,382,313.72\" style=\"stroke: #383838; stroke-width: 1.0;\"/><text fill=\"#000000\" font-family=\"sans-serif\" font-size=\"13\" lengthAdjust=\"spacingAndGlyphs\" textLength=\"64\" x=\"383\" y=\"301.7869\">«depend»</text></a><!--MD5=[c5e8897d989ce984f93528998a7150fe]\n",
       "link E8 to E6--><a href=\"psysml:2a73c336-1214-4cbc-85e1-1f3a30fc1732\" target=\"_top\" title=\"psysml:2a73c336-1214-4cbc-85e1-1f3a30fc1732\" xlink:actuate=\"onRequest\" xlink:href=\"psysml:2a73c336-1214-4cbc-85e1-1f3a30fc1732\" xlink:show=\"new\" xlink:title=\"psysml:2a73c336-1214-4cbc-85e1-1f3a30fc1732\" xlink:type=\"simple\"><path d=\"M92.49,183.06 C84.34,187.99 76.69,194.44 72,202.72 C68.54,208.82 67.62,216.03 68,223.05 \" fill=\"none\" id=\"E8-&gt;E6\" style=\"stroke: #383838; stroke-width: 1.0; stroke-dasharray: 7.0,7.0;\"/><polygon fill=\"#383838\" points=\"68.97,231.14,71.0061,222.8421,65.0479,223.5494,68.97,231.14\" style=\"stroke: #383838; stroke-width: 1.0;\"/><text fill=\"#000000\" font-family=\"sans-serif\" font-size=\"13\" lengthAdjust=\"spacingAndGlyphs\" textLength=\"64\" x=\"73\" y=\"215.7869\">«depend»</text></a><!--MD5=[bfa3c8b0d15052fdf50ae9310b491027]\n",
       "link E8 to E7--><a href=\"psysml:2a73c336-1214-4cbc-85e1-1f3a30fc1732\" target=\"_top\" title=\"psysml:2a73c336-1214-4cbc-85e1-1f3a30fc1732\" xlink:actuate=\"onRequest\" xlink:href=\"psysml:2a73c336-1214-4cbc-85e1-1f3a30fc1732\" xlink:show=\"new\" xlink:title=\"psysml:2a73c336-1214-4cbc-85e1-1f3a30fc1732\" xlink:type=\"simple\"><path d=\"M142.19,191.29 C148.65,201.34 156.38,213.37 163.31,224.14 \" fill=\"none\" id=\"E8-&gt;E7\" style=\"stroke: #383838; stroke-width: 1.0; stroke-dasharray: 7.0,7.0;\"/><polygon fill=\"#383838\" points=\"167.72,231.01,165.9148,222.6589,160.8688,225.905,167.72,231.01\" style=\"stroke: #383838; stroke-width: 1.0;\"/><text fill=\"#000000\" font-family=\"sans-serif\" font-size=\"13\" lengthAdjust=\"spacingAndGlyphs\" textLength=\"64\" x=\"160\" y=\"215.7869\">«depend»</text></a><!--MD5=[4e4ca069cfcc57c2993ad70355f48536]\n",
       "@startuml\r\n",
       "skinparam ranksep 10\r\n",
       "skinparam rectangle {\r\n",
       " backgroundColor<<block>> LightGreen\r\n",
       "}\r\n",
       "top to bottom direction\r\n",
       "skinparam monochrome true\r\n",
       "skinparam classbackgroundcolor white\r\n",
       "skinparam shadowing false\r\n",
       "skinparam wrapWidth 300\r\n",
       "hide circle\r\n",
       "\r\n",
       "package \"DependencyTest\" as E1  [[psysml:30c793ee-6e7c-4739-835e-bebdfc5bf1ce ]]  {\r\n",
       "package \"System\" as E2  [[psysml:db7b2f1b-03d7-4942-9142-e18d7a555d76 ]]  {\r\n",
       "package \"Application Layer\" as E3  [[psysml:7d470368-8955-499f-8cd6-0162cc61b017 ]]  {\r\n",
       "}\r\n",
       "package \"Service Layer\" as E4  [[psysml:db30598f-7650-4b69-b852-4feea02efbf5 ]]  {\r\n",
       "}\r\n",
       "package \"Data Layer\" as E5  [[psysml:f08d8e27-e89d-40a2-8de2-c51098f76f95 ]]  {\r\n",
       "}\r\n",
       "}\r\n",
       "comp usage \"x \" as E6  <<(T,blue) attribute>> [[psysml:d66666e9-9ac5-42c6-8412-5d0a1bea61ed ]] {\r\n",
       "}\r\n",
       "comp usage \"y \" as E7  <<(T,blue) attribute>> [[psysml:4c5b6854-1a08-45b4-8136-d30683a500ef ]] {\r\n",
       "}\r\n",
       "comp usage \"z \" as E8  <<(T,blue) attribute>> [[psysml:e4676a73-900e-4cfc-90aa-035aeedcaeac ]] {\r\n",
       "}\r\n",
       "}\r\n",
       "E1 ..> E2 [[psysml:2cdf9aea-584d-4dc5-87f2-78933b91772a ]] : <<import>>*\r\n",
       "E3 ..>> E4 [[psysml:ef543251-f685-45ef-999a-4058d8fef1e9 ]] : <<depend>>\r\n",
       "E4 ..>> E5 [[psysml:f939ae72-3488-4da6-b797-5f4561198517 ]] : <<depend>>\r\n",
       "E8 ..>> E6 [[psysml:2a73c336-1214-4cbc-85e1-1f3a30fc1732 ]] : <<depend>>\r\n",
       "E8 ..>> E7 [[psysml:2a73c336-1214-4cbc-85e1-1f3a30fc1732 ]] : <<depend>>\r\n",
       "@enduml\r\n",
       "\n",
       "PlantUML version 1.2020.13(Sat Jun 13 12:26:38 UTC 2020)\n",
       "(EPL source distribution)\n",
       "Java Runtime: OpenJDK Runtime Environment\n",
       "JVM: OpenJDK 64-Bit Server VM\n",
       "Default Encoding: UTF-8\n",
       "Language: en\n",
       "Country: null\n",
       "--></g></svg>"
      ]
     },
     "execution_count": 47,
     "metadata": {},
     "output_type": "execute_result"
    }
   ],
   "source": [
    "%viz --style=\"TB\" --view=\"Interconnection\" \"DependencyTest\""
   ]
  },
  {
   "cell_type": "code",
   "execution_count": 48,
   "id": "58763f4f",
   "metadata": {
    "execution": {
     "iopub.execute_input": "2022-02-18T10:46:52.870735Z",
     "iopub.status.busy": "2022-02-18T10:46:52.870308Z",
     "iopub.status.idle": "2022-02-18T10:46:52.874871Z",
     "shell.execute_reply": "2022-02-18T10:46:52.875190Z"
    }
   },
   "outputs": [
    {
     "data": {
      "image/svg+xml": [
       "<?xml version=\"1.0\" encoding=\"UTF-8\" standalone=\"no\"?><svg xmlns=\"http://www.w3.org/2000/svg\" xmlns:xlink=\"http://www.w3.org/1999/xlink\" contentScriptType=\"application/ecmascript\" contentStyleType=\"text/css\" height=\"12px\" preserveAspectRatio=\"none\" style=\"width:12px;height:12px;\" version=\"1.1\" viewBox=\"0 0 12 12\" width=\"12px\" zoomAndPan=\"magnify\"><defs/><g><!--MD5=[06afc254b03ac5e9d9fb7773b07d0800]\n",
       "@startuml\r\n",
       "skinparam ranksep 8\r\n",
       "top to bottom direction\r\n",
       "skinparam monochrome true\r\n",
       "skinparam classbackgroundcolor white\r\n",
       "skinparam shadowing false\r\n",
       "skinparam wrapWidth 300\r\n",
       "hide circle\r\n",
       "\r\n",
       "@enduml\r\n",
       "\n",
       "PlantUML version 1.2020.13(Sat Jun 13 12:26:38 UTC 2020)\n",
       "(EPL source distribution)\n",
       "Java Runtime: OpenJDK Runtime Environment\n",
       "JVM: OpenJDK 64-Bit Server VM\n",
       "Default Encoding: UTF-8\n",
       "Language: en\n",
       "Country: null\n",
       "--></g></svg>"
      ]
     },
     "execution_count": 48,
     "metadata": {},
     "output_type": "execute_result"
    }
   ],
   "source": [
    "%viz --style=\"TB\" --view=\"Action\" \"DependencyTest\""
   ]
  },
  {
   "cell_type": "code",
   "execution_count": 49,
   "id": "8914e01e",
   "metadata": {
    "execution": {
     "iopub.execute_input": "2022-02-18T10:46:52.925416Z",
     "iopub.status.busy": "2022-02-18T10:46:52.924992Z",
     "iopub.status.idle": "2022-02-18T10:46:52.929349Z",
     "shell.execute_reply": "2022-02-18T10:46:52.929676Z"
    }
   },
   "outputs": [
    {
     "data": {
      "image/svg+xml": [
       "<?xml version=\"1.0\" encoding=\"UTF-8\" standalone=\"no\"?><svg xmlns=\"http://www.w3.org/2000/svg\" xmlns:xlink=\"http://www.w3.org/1999/xlink\" contentScriptType=\"application/ecmascript\" contentStyleType=\"text/css\" height=\"12px\" preserveAspectRatio=\"none\" style=\"width:12px;height:12px;\" version=\"1.1\" viewBox=\"0 0 12 12\" width=\"12px\" zoomAndPan=\"magnify\"><defs/><g><!--MD5=[e1ab0c84c44d2fef8bf5f140f2689906]\n",
       "@startuml\r\n",
       "skinparam roundcorner 20\r\n",
       "skinparam BoxPadding 20\r\n",
       "skinparam SequenceBoxBackgroundColor #white\r\n",
       "skinparam style strictuml\r\n",
       "skinparam maxMessageSize 100\r\n",
       "top to bottom direction\r\n",
       "skinparam monochrome true\r\n",
       "skinparam classbackgroundcolor white\r\n",
       "skinparam shadowing false\r\n",
       "skinparam wrapWidth 300\r\n",
       "hide circle\r\n",
       "\r\n",
       "@enduml\r\n",
       "\n",
       "PlantUML version 1.2020.13(Sat Jun 13 12:26:38 UTC 2020)\n",
       "(EPL source distribution)\n",
       "Java Runtime: OpenJDK Runtime Environment\n",
       "JVM: OpenJDK 64-Bit Server VM\n",
       "Default Encoding: UTF-8\n",
       "Language: en\n",
       "Country: null\n",
       "--></g></svg>"
      ]
     },
     "execution_count": 49,
     "metadata": {},
     "output_type": "execute_result"
    }
   ],
   "source": [
    "%viz --style=\"TB\" --view=\"Sequence\" \"DependencyTest\""
   ]
  },
  {
   "cell_type": "code",
   "execution_count": 50,
   "id": "398eaedb",
   "metadata": {
    "execution": {
     "iopub.execute_input": "2022-02-18T10:46:52.979903Z",
     "iopub.status.busy": "2022-02-18T10:46:52.979508Z",
     "iopub.status.idle": "2022-02-18T10:46:53.010924Z",
     "shell.execute_reply": "2022-02-18T10:46:53.010576Z"
    }
   },
   "outputs": [
    {
     "data": {
      "image/svg+xml": [
       "<?xml version=\"1.0\" encoding=\"UTF-8\" standalone=\"no\"?><svg xmlns=\"http://www.w3.org/2000/svg\" xmlns:xlink=\"http://www.w3.org/1999/xlink\" contentScriptType=\"application/ecmascript\" contentStyleType=\"text/css\" height=\"552px\" preserveAspectRatio=\"none\" style=\"width:536px;height:552px;\" version=\"1.1\" viewBox=\"0 0 536 552\" width=\"536px\" zoomAndPan=\"magnify\"><defs/><g><!--MD5=[fbc87193dbaf4d95561dea2c320d4a47]\n",
       "cluster E1--><a href=\"psysml:30c793ee-6e7c-4739-835e-bebdfc5bf1ce\" target=\"_top\" title=\"psysml:30c793ee-6e7c-4739-835e-bebdfc5bf1ce\" xlink:actuate=\"onRequest\" xlink:href=\"psysml:30c793ee-6e7c-4739-835e-bebdfc5bf1ce\" xlink:show=\"new\" xlink:title=\"psysml:30c793ee-6e7c-4739-835e-bebdfc5bf1ce\" xlink:type=\"simple\"><polygon fill=\"#FFFFFF\" points=\"16,6,142,6,149,28.2969,514,28.2969,514,540.72,16,540.72,16,6\" style=\"stroke: #000000; stroke-width: 1.5;\"/><line style=\"stroke: #000000; stroke-width: 1.5;\" x1=\"16\" x2=\"149\" y1=\"28.2969\" y2=\"28.2969\"/><text fill=\"#000000\" font-family=\"sans-serif\" font-size=\"14\" font-weight=\"bold\" lengthAdjust=\"spacingAndGlyphs\" textLength=\"120\" x=\"20\" y=\"20.9951\">DependencyTest</text></a><!--MD5=[e4f7fae6ed58524ba242bb0b0d3be6b7]\n",
       "cluster E2--><a href=\"psysml:db7b2f1b-03d7-4942-9142-e18d7a555d76\" target=\"_top\" title=\"psysml:db7b2f1b-03d7-4942-9142-e18d7a555d76\" xlink:actuate=\"onRequest\" xlink:href=\"psysml:db7b2f1b-03d7-4942-9142-e18d7a555d76\" xlink:show=\"new\" xlink:title=\"psysml:db7b2f1b-03d7-4942-9142-e18d7a555d76\" xlink:type=\"simple\"><polygon fill=\"#FFFFFF\" points=\"271,120.72,328,120.72,335,143.0169,474,143.0169,474,500.72,271,500.72,271,120.72\" style=\"stroke: #000000; stroke-width: 1.5;\"/><line style=\"stroke: #000000; stroke-width: 1.5;\" x1=\"271\" x2=\"335\" y1=\"143.0169\" y2=\"143.0169\"/><text fill=\"#000000\" font-family=\"sans-serif\" font-size=\"14\" font-weight=\"bold\" lengthAdjust=\"spacingAndGlyphs\" textLength=\"51\" x=\"275\" y=\"135.7151\">System</text></a><!--MD5=[60a26617385b1d2d0262a64233df1f8d]\n",
       "class E6--><a href=\"psysml:d66666e9-9ac5-42c6-8412-5d0a1bea61ed\" target=\"_top\" title=\"psysml:d66666e9-9ac5-42c6-8412-5d0a1bea61ed\" xlink:actuate=\"onRequest\" xlink:href=\"psysml:d66666e9-9ac5-42c6-8412-5d0a1bea61ed\" xlink:show=\"new\" xlink:title=\"psysml:d66666e9-9ac5-42c6-8412-5d0a1bea61ed\" xlink:type=\"simple\"><rect fill=\"#FFFFFF\" height=\"45.9375\" id=\"E6\" rx=\"10\" ry=\"10\" style=\"stroke: #383838; stroke-width: 1.5;\" width=\"71\" x=\"40.5\" y=\"297.22\"/><text fill=\"#000000\" font-family=\"sans-serif\" font-size=\"12\" font-style=\"italic\" lengthAdjust=\"spacingAndGlyphs\" textLength=\"69\" x=\"41.5\" y=\"313.3587\">«attribute»</text><text fill=\"#000000\" font-family=\"sans-serif\" font-size=\"12\" lengthAdjust=\"spacingAndGlyphs\" textLength=\"6\" x=\"71\" y=\"327.3274\">x</text><line style=\"stroke: #383838; stroke-width: 1.5;\" x1=\"41.5\" x2=\"110.5\" y1=\"335.1575\" y2=\"335.1575\"/></a><!--MD5=[2156ba9850f5573cc1fc38a6a4b2f02b]\n",
       "class E7--><a href=\"psysml:4c5b6854-1a08-45b4-8136-d30683a500ef\" target=\"_top\" title=\"psysml:4c5b6854-1a08-45b4-8136-d30683a500ef\" xlink:actuate=\"onRequest\" xlink:href=\"psysml:4c5b6854-1a08-45b4-8136-d30683a500ef\" xlink:show=\"new\" xlink:title=\"psysml:4c5b6854-1a08-45b4-8136-d30683a500ef\" xlink:type=\"simple\"><rect fill=\"#FFFFFF\" height=\"45.9375\" id=\"E7\" rx=\"10\" ry=\"10\" style=\"stroke: #383838; stroke-width: 1.5;\" width=\"71\" x=\"146.5\" y=\"297.22\"/><text fill=\"#000000\" font-family=\"sans-serif\" font-size=\"12\" font-style=\"italic\" lengthAdjust=\"spacingAndGlyphs\" textLength=\"69\" x=\"147.5\" y=\"313.3587\">«attribute»</text><text fill=\"#000000\" font-family=\"sans-serif\" font-size=\"12\" lengthAdjust=\"spacingAndGlyphs\" textLength=\"6\" x=\"177\" y=\"327.3274\">y</text><line style=\"stroke: #383838; stroke-width: 1.5;\" x1=\"147.5\" x2=\"216.5\" y1=\"335.1575\" y2=\"335.1575\"/></a><!--MD5=[b9389687b975829384b498ac4b7476b2]\n",
       "class E8--><a href=\"psysml:e4676a73-900e-4cfc-90aa-035aeedcaeac\" target=\"_top\" title=\"psysml:e4676a73-900e-4cfc-90aa-035aeedcaeac\" xlink:actuate=\"onRequest\" xlink:href=\"psysml:e4676a73-900e-4cfc-90aa-035aeedcaeac\" xlink:show=\"new\" xlink:title=\"psysml:e4676a73-900e-4cfc-90aa-035aeedcaeac\" xlink:type=\"simple\"><rect fill=\"#FFFFFF\" height=\"45.9375\" id=\"E8\" rx=\"10\" ry=\"10\" style=\"stroke: #383838; stroke-width: 1.5;\" width=\"71\" x=\"92.5\" y=\"167.22\"/><text fill=\"#000000\" font-family=\"sans-serif\" font-size=\"12\" font-style=\"italic\" lengthAdjust=\"spacingAndGlyphs\" textLength=\"69\" x=\"93.5\" y=\"183.3587\">«attribute»</text><text fill=\"#000000\" font-family=\"sans-serif\" font-size=\"12\" lengthAdjust=\"spacingAndGlyphs\" textLength=\"5\" x=\"123.5\" y=\"197.3274\">z</text><line style=\"stroke: #383838; stroke-width: 1.5;\" x1=\"93.5\" x2=\"162.5\" y1=\"205.1575\" y2=\"205.1575\"/></a><a href=\"psysml:7d470368-8955-499f-8cd6-0162cc61b017\" target=\"_top\" title=\"psysml:7d470368-8955-499f-8cd6-0162cc61b017\" xlink:actuate=\"onRequest\" xlink:href=\"psysml:7d470368-8955-499f-8cd6-0162cc61b017\" xlink:show=\"new\" xlink:title=\"psysml:7d470368-8955-499f-8cd6-0162cc61b017\" xlink:type=\"simple\"><polygon fill=\"#FFFFFF\" points=\"314.5,163.72,435.5,163.72,442.5,186.0169,449.5,186.0169,449.5,216.3138,314.5,216.3138,314.5,163.72\" style=\"stroke: #000000; stroke-width: 1.5;\"/><line style=\"stroke: #000000; stroke-width: 1.5;\" x1=\"314.5\" x2=\"442.5\" y1=\"186.0169\" y2=\"186.0169\"/><text fill=\"#000000\" font-family=\"sans-serif\" font-size=\"14\" font-weight=\"bold\" lengthAdjust=\"spacingAndGlyphs\" textLength=\"115\" x=\"318.5\" y=\"178.7151\">Application Layer</text></a><a href=\"psysml:db30598f-7650-4b69-b852-4feea02efbf5\" target=\"_top\" title=\"psysml:db30598f-7650-4b69-b852-4feea02efbf5\" xlink:actuate=\"onRequest\" xlink:href=\"psysml:db30598f-7650-4b69-b852-4feea02efbf5\" xlink:show=\"new\" xlink:title=\"psysml:db30598f-7650-4b69-b852-4feea02efbf5\" xlink:type=\"simple\"><polygon fill=\"#FFFFFF\" points=\"327,293.72,423,293.72,430,316.0169,437,316.0169,437,346.3138,327,346.3138,327,293.72\" style=\"stroke: #000000; stroke-width: 1.5;\"/><line style=\"stroke: #000000; stroke-width: 1.5;\" x1=\"327\" x2=\"430\" y1=\"316.0169\" y2=\"316.0169\"/><text fill=\"#000000\" font-family=\"sans-serif\" font-size=\"14\" font-weight=\"bold\" lengthAdjust=\"spacingAndGlyphs\" textLength=\"90\" x=\"331\" y=\"308.7151\">Service Layer</text></a><a href=\"psysml:f08d8e27-e89d-40a2-8de2-c51098f76f95\" target=\"_top\" title=\"psysml:f08d8e27-e89d-40a2-8de2-c51098f76f95\" xlink:actuate=\"onRequest\" xlink:href=\"psysml:f08d8e27-e89d-40a2-8de2-c51098f76f95\" xlink:show=\"new\" xlink:title=\"psysml:f08d8e27-e89d-40a2-8de2-c51098f76f95\" xlink:type=\"simple\"><polygon fill=\"#FFFFFF\" points=\"336,423.72,414,423.72,421,446.0169,428,446.0169,428,476.3138,336,476.3138,336,423.72\" style=\"stroke: #000000; stroke-width: 1.5;\"/><line style=\"stroke: #000000; stroke-width: 1.5;\" x1=\"336\" x2=\"421\" y1=\"446.0169\" y2=\"446.0169\"/><text fill=\"#000000\" font-family=\"sans-serif\" font-size=\"14\" font-weight=\"bold\" lengthAdjust=\"spacingAndGlyphs\" textLength=\"72\" x=\"340\" y=\"438.7151\">Data Layer</text></a><!--MD5=[1f1cd8e6dd4c1b2ca2aaccc9b9bcea6e]\n",
       "link E1 to E2--><a href=\"psysml:2cdf9aea-584d-4dc5-87f2-78933b91772a\" target=\"_top\" title=\"psysml:2cdf9aea-584d-4dc5-87f2-78933b91772a\" xlink:actuate=\"onRequest\" xlink:href=\"psysml:2cdf9aea-584d-4dc5-87f2-78933b91772a\" xlink:show=\"new\" xlink:title=\"psysml:2cdf9aea-584d-4dc5-87f2-78933b91772a\" xlink:type=\"simple\"><path d=\"M279,33.83 C279,36.15 279,73.83 279,111.5 C279,113.8544 279,116.2087 279,118.5544 C279,119.1408 279,119.7267 279,120.3119 \" fill=\"none\" id=\"E1-&gt;E2\" style=\"stroke: #383838; stroke-width: 1.0; stroke-dasharray: 7.0,7.0;\"/><polygon fill=\"#383838\" points=\"279,120.3119,283,111.3119,279,115.3119,275,111.3119,279,120.3119\" style=\"stroke: #383838; stroke-width: 1.0;\"/><text fill=\"#000000\" font-family=\"sans-serif\" font-size=\"13\" lengthAdjust=\"spacingAndGlyphs\" textLength=\"65\" x=\"280\" y=\"76.7869\">«import»*</text></a><!--MD5=[af87c684e3b0d8be13c1a698a818ef1e]\n",
       "link E3 to E4--><a href=\"psysml:ef543251-f685-45ef-999a-4058d8fef1e9\" target=\"_top\" title=\"psysml:ef543251-f685-45ef-999a-4058d8fef1e9\" xlink:actuate=\"onRequest\" xlink:href=\"psysml:ef543251-f685-45ef-999a-4058d8fef1e9\" xlink:show=\"new\" xlink:title=\"psysml:ef543251-f685-45ef-999a-4058d8fef1e9\" xlink:type=\"simple\"><path d=\"M382,216.82 C382,236.52 382,263.94 382,285.45 \" fill=\"none\" id=\"E3-&gt;E4\" style=\"stroke: #383838; stroke-width: 1.0; stroke-dasharray: 7.0,7.0;\"/><polygon fill=\"#383838\" points=\"382,293.67,385,285.67,379,285.67,382,293.67\" style=\"stroke: #383838; stroke-width: 1.0;\"/><text fill=\"#000000\" font-family=\"sans-serif\" font-size=\"13\" lengthAdjust=\"spacingAndGlyphs\" textLength=\"64\" x=\"383\" y=\"259.7869\">«depend»</text></a><!--MD5=[1b7591eae5389033d8d09a9d6721a717]\n",
       "link E4 to E5--><a href=\"psysml:f939ae72-3488-4da6-b797-5f4561198517\" target=\"_top\" title=\"psysml:f939ae72-3488-4da6-b797-5f4561198517\" xlink:actuate=\"onRequest\" xlink:href=\"psysml:f939ae72-3488-4da6-b797-5f4561198517\" xlink:show=\"new\" xlink:title=\"psysml:f939ae72-3488-4da6-b797-5f4561198517\" xlink:type=\"simple\"><path d=\"M382,346.82 C382,366.52 382,393.94 382,415.45 \" fill=\"none\" id=\"E4-&gt;E5\" style=\"stroke: #383838; stroke-width: 1.0; stroke-dasharray: 7.0,7.0;\"/><polygon fill=\"#383838\" points=\"382,423.67,385,415.67,379,415.67,382,423.67\" style=\"stroke: #383838; stroke-width: 1.0;\"/><text fill=\"#000000\" font-family=\"sans-serif\" font-size=\"13\" lengthAdjust=\"spacingAndGlyphs\" textLength=\"64\" x=\"383\" y=\"389.7869\">«depend»</text></a><!--MD5=[c5e8897d989ce984f93528998a7150fe]\n",
       "link E8 to E6--><a href=\"psysml:2a73c336-1214-4cbc-85e1-1f3a30fc1732\" target=\"_top\" title=\"psysml:2a73c336-1214-4cbc-85e1-1f3a30fc1732\" xlink:actuate=\"onRequest\" xlink:href=\"psysml:2a73c336-1214-4cbc-85e1-1f3a30fc1732\" xlink:show=\"new\" xlink:title=\"psysml:2a73c336-1214-4cbc-85e1-1f3a30fc1732\" xlink:type=\"simple\"><path d=\"M97.42,213.32 C87.35,222.4 77.37,233.83 72,246.72 C66.5,259.92 66.66,275.66 68.54,289.1 \" fill=\"none\" id=\"E8-&gt;E6\" style=\"stroke: #383838; stroke-width: 1.0; stroke-dasharray: 7.0,7.0;\"/><polygon fill=\"#383838\" points=\"69.9,297.12,71.517,288.7304,65.6018,289.7359,69.9,297.12\" style=\"stroke: #383838; stroke-width: 1.0;\"/><text fill=\"#000000\" font-family=\"sans-serif\" font-size=\"13\" lengthAdjust=\"spacingAndGlyphs\" textLength=\"64\" x=\"73\" y=\"259.7869\">«depend»</text></a><!--MD5=[bfa3c8b0d15052fdf50ae9310b491027]\n",
       "link E8 to E7--><a href=\"psysml:2a73c336-1214-4cbc-85e1-1f3a30fc1732\" target=\"_top\" title=\"psysml:2a73c336-1214-4cbc-85e1-1f3a30fc1732\" xlink:actuate=\"onRequest\" xlink:href=\"psysml:2a73c336-1214-4cbc-85e1-1f3a30fc1732\" xlink:show=\"new\" xlink:title=\"psysml:2a73c336-1214-4cbc-85e1-1f3a30fc1732\" xlink:type=\"simple\"><path d=\"M137.28,213.22 C146.17,234.29 159.64,266.22 169.47,289.53 \" fill=\"none\" id=\"E8-&gt;E7\" style=\"stroke: #383838; stroke-width: 1.0; stroke-dasharray: 7.0,7.0;\"/><polygon fill=\"#383838\" points=\"172.66,297.07,172.3241,288.5326,166.7933,290.8585,172.66,297.07\" style=\"stroke: #383838; stroke-width: 1.0;\"/><text fill=\"#000000\" font-family=\"sans-serif\" font-size=\"13\" lengthAdjust=\"spacingAndGlyphs\" textLength=\"64\" x=\"159\" y=\"259.7869\">«depend»</text></a><!--MD5=[fa95a70e1548cd35dee6584bf5f56450]\n",
       "@startuml\r\n",
       "top to bottom direction\r\n",
       "skinparam monochrome true\r\n",
       "skinparam classbackgroundcolor white\r\n",
       "skinparam shadowing false\r\n",
       "skinparam wrapWidth 300\r\n",
       "hide circle\r\n",
       "\r\n",
       "package \"DependencyTest\" as E1  [[psysml:30c793ee-6e7c-4739-835e-bebdfc5bf1ce ]]  {\r\n",
       "package \"System\" as E2  [[psysml:db7b2f1b-03d7-4942-9142-e18d7a555d76 ]]  {\r\n",
       "package \"Application Layer\" as E3  [[psysml:7d470368-8955-499f-8cd6-0162cc61b017 ]]  {\r\n",
       "}\r\n",
       "package \"Service Layer\" as E4  [[psysml:db30598f-7650-4b69-b852-4feea02efbf5 ]]  {\r\n",
       "}\r\n",
       "package \"Data Layer\" as E5  [[psysml:f08d8e27-e89d-40a2-8de2-c51098f76f95 ]]  {\r\n",
       "}\r\n",
       "}\r\n",
       "comp usage \"x \" as E6  <<(T,blue) attribute>> [[psysml:d66666e9-9ac5-42c6-8412-5d0a1bea61ed ]] {\r\n",
       "}\r\n",
       "comp usage \"y \" as E7  <<(T,blue) attribute>> [[psysml:4c5b6854-1a08-45b4-8136-d30683a500ef ]] {\r\n",
       "}\r\n",
       "comp usage \"z \" as E8  <<(T,blue) attribute>> [[psysml:e4676a73-900e-4cfc-90aa-035aeedcaeac ]] {\r\n",
       "}\r\n",
       "}\r\n",
       "E1 ..> E2 [[psysml:2cdf9aea-584d-4dc5-87f2-78933b91772a ]] : <<import>>*\r\n",
       "E3 ..>> E4 [[psysml:ef543251-f685-45ef-999a-4058d8fef1e9 ]] : <<depend>>\r\n",
       "E4 ..>> E5 [[psysml:f939ae72-3488-4da6-b797-5f4561198517 ]] : <<depend>>\r\n",
       "E8 ..>> E6 [[psysml:2a73c336-1214-4cbc-85e1-1f3a30fc1732 ]] : <<depend>>\r\n",
       "E8 ..>> E7 [[psysml:2a73c336-1214-4cbc-85e1-1f3a30fc1732 ]] : <<depend>>\r\n",
       "@enduml\r\n",
       "\n",
       "PlantUML version 1.2020.13(Sat Jun 13 12:26:38 UTC 2020)\n",
       "(EPL source distribution)\n",
       "Java Runtime: OpenJDK Runtime Environment\n",
       "JVM: OpenJDK 64-Bit Server VM\n",
       "Default Encoding: UTF-8\n",
       "Language: en\n",
       "Country: null\n",
       "--></g></svg>"
      ]
     },
     "execution_count": 50,
     "metadata": {},
     "output_type": "execute_result"
    }
   ],
   "source": [
    "%viz --style=\"TB\" --view=\"MIXED\" \"DependencyTest\""
   ]
  },
  {
   "cell_type": "code",
   "execution_count": 51,
   "id": "7fbaff69",
   "metadata": {
    "execution": {
     "iopub.execute_input": "2022-02-18T10:46:53.060616Z",
     "iopub.status.busy": "2022-02-18T10:46:53.060217Z",
     "iopub.status.idle": "2022-02-18T10:46:53.091601Z",
     "shell.execute_reply": "2022-02-18T10:46:53.091255Z"
    }
   },
   "outputs": [
    {
     "data": {
      "image/svg+xml": [
       "<?xml version=\"1.0\" encoding=\"UTF-8\" standalone=\"no\"?><svg xmlns=\"http://www.w3.org/2000/svg\" xmlns:xlink=\"http://www.w3.org/1999/xlink\" contentScriptType=\"application/ecmascript\" contentStyleType=\"text/css\" height=\"552px\" preserveAspectRatio=\"none\" style=\"width:536px;height:552px;\" version=\"1.1\" viewBox=\"0 0 536 552\" width=\"536px\" zoomAndPan=\"magnify\"><defs/><g><!--MD5=[fbc87193dbaf4d95561dea2c320d4a47]\n",
       "cluster E1--><a href=\"psysml:30c793ee-6e7c-4739-835e-bebdfc5bf1ce\" target=\"_top\" title=\"psysml:30c793ee-6e7c-4739-835e-bebdfc5bf1ce\" xlink:actuate=\"onRequest\" xlink:href=\"psysml:30c793ee-6e7c-4739-835e-bebdfc5bf1ce\" xlink:show=\"new\" xlink:title=\"psysml:30c793ee-6e7c-4739-835e-bebdfc5bf1ce\" xlink:type=\"simple\"><polygon fill=\"#FFFFFF\" points=\"16,6,142,6,149,28.2969,514,28.2969,514,540.72,16,540.72,16,6\" style=\"stroke: #000000; stroke-width: 1.5;\"/><line style=\"stroke: #000000; stroke-width: 1.5;\" x1=\"16\" x2=\"149\" y1=\"28.2969\" y2=\"28.2969\"/><text fill=\"#000000\" font-family=\"sans-serif\" font-size=\"14\" font-weight=\"bold\" lengthAdjust=\"spacingAndGlyphs\" textLength=\"120\" x=\"20\" y=\"20.9951\">DependencyTest</text></a><!--MD5=[e4f7fae6ed58524ba242bb0b0d3be6b7]\n",
       "cluster E2--><a href=\"psysml:db7b2f1b-03d7-4942-9142-e18d7a555d76\" target=\"_top\" title=\"psysml:db7b2f1b-03d7-4942-9142-e18d7a555d76\" xlink:actuate=\"onRequest\" xlink:href=\"psysml:db7b2f1b-03d7-4942-9142-e18d7a555d76\" xlink:show=\"new\" xlink:title=\"psysml:db7b2f1b-03d7-4942-9142-e18d7a555d76\" xlink:type=\"simple\"><polygon fill=\"#FFFFFF\" points=\"271,120.72,328,120.72,335,143.0169,474,143.0169,474,500.72,271,500.72,271,120.72\" style=\"stroke: #000000; stroke-width: 1.5;\"/><line style=\"stroke: #000000; stroke-width: 1.5;\" x1=\"271\" x2=\"335\" y1=\"143.0169\" y2=\"143.0169\"/><text fill=\"#000000\" font-family=\"sans-serif\" font-size=\"14\" font-weight=\"bold\" lengthAdjust=\"spacingAndGlyphs\" textLength=\"51\" x=\"275\" y=\"135.7151\">System</text></a><!--MD5=[60a26617385b1d2d0262a64233df1f8d]\n",
       "class E6--><a href=\"psysml:d66666e9-9ac5-42c6-8412-5d0a1bea61ed\" target=\"_top\" title=\"psysml:d66666e9-9ac5-42c6-8412-5d0a1bea61ed\" xlink:actuate=\"onRequest\" xlink:href=\"psysml:d66666e9-9ac5-42c6-8412-5d0a1bea61ed\" xlink:show=\"new\" xlink:title=\"psysml:d66666e9-9ac5-42c6-8412-5d0a1bea61ed\" xlink:type=\"simple\"><rect fill=\"#FFFFFF\" height=\"45.9375\" id=\"E6\" rx=\"10\" ry=\"10\" style=\"stroke: #383838; stroke-width: 1.5;\" width=\"71\" x=\"40.5\" y=\"297.22\"/><text fill=\"#000000\" font-family=\"sans-serif\" font-size=\"12\" font-style=\"italic\" lengthAdjust=\"spacingAndGlyphs\" textLength=\"69\" x=\"41.5\" y=\"313.3587\">«attribute»</text><text fill=\"#000000\" font-family=\"sans-serif\" font-size=\"12\" lengthAdjust=\"spacingAndGlyphs\" textLength=\"6\" x=\"71\" y=\"327.3274\">x</text><line style=\"stroke: #383838; stroke-width: 1.5;\" x1=\"41.5\" x2=\"110.5\" y1=\"335.1575\" y2=\"335.1575\"/></a><!--MD5=[2156ba9850f5573cc1fc38a6a4b2f02b]\n",
       "class E7--><a href=\"psysml:4c5b6854-1a08-45b4-8136-d30683a500ef\" target=\"_top\" title=\"psysml:4c5b6854-1a08-45b4-8136-d30683a500ef\" xlink:actuate=\"onRequest\" xlink:href=\"psysml:4c5b6854-1a08-45b4-8136-d30683a500ef\" xlink:show=\"new\" xlink:title=\"psysml:4c5b6854-1a08-45b4-8136-d30683a500ef\" xlink:type=\"simple\"><rect fill=\"#FFFFFF\" height=\"45.9375\" id=\"E7\" rx=\"10\" ry=\"10\" style=\"stroke: #383838; stroke-width: 1.5;\" width=\"71\" x=\"146.5\" y=\"297.22\"/><text fill=\"#000000\" font-family=\"sans-serif\" font-size=\"12\" font-style=\"italic\" lengthAdjust=\"spacingAndGlyphs\" textLength=\"69\" x=\"147.5\" y=\"313.3587\">«attribute»</text><text fill=\"#000000\" font-family=\"sans-serif\" font-size=\"12\" lengthAdjust=\"spacingAndGlyphs\" textLength=\"6\" x=\"177\" y=\"327.3274\">y</text><line style=\"stroke: #383838; stroke-width: 1.5;\" x1=\"147.5\" x2=\"216.5\" y1=\"335.1575\" y2=\"335.1575\"/></a><!--MD5=[b9389687b975829384b498ac4b7476b2]\n",
       "class E8--><a href=\"psysml:e4676a73-900e-4cfc-90aa-035aeedcaeac\" target=\"_top\" title=\"psysml:e4676a73-900e-4cfc-90aa-035aeedcaeac\" xlink:actuate=\"onRequest\" xlink:href=\"psysml:e4676a73-900e-4cfc-90aa-035aeedcaeac\" xlink:show=\"new\" xlink:title=\"psysml:e4676a73-900e-4cfc-90aa-035aeedcaeac\" xlink:type=\"simple\"><rect fill=\"#FFFFFF\" height=\"45.9375\" id=\"E8\" rx=\"10\" ry=\"10\" style=\"stroke: #383838; stroke-width: 1.5;\" width=\"71\" x=\"92.5\" y=\"167.22\"/><text fill=\"#000000\" font-family=\"sans-serif\" font-size=\"12\" font-style=\"italic\" lengthAdjust=\"spacingAndGlyphs\" textLength=\"69\" x=\"93.5\" y=\"183.3587\">«attribute»</text><text fill=\"#000000\" font-family=\"sans-serif\" font-size=\"12\" lengthAdjust=\"spacingAndGlyphs\" textLength=\"5\" x=\"123.5\" y=\"197.3274\">z</text><line style=\"stroke: #383838; stroke-width: 1.5;\" x1=\"93.5\" x2=\"162.5\" y1=\"205.1575\" y2=\"205.1575\"/></a><a href=\"psysml:7d470368-8955-499f-8cd6-0162cc61b017\" target=\"_top\" title=\"psysml:7d470368-8955-499f-8cd6-0162cc61b017\" xlink:actuate=\"onRequest\" xlink:href=\"psysml:7d470368-8955-499f-8cd6-0162cc61b017\" xlink:show=\"new\" xlink:title=\"psysml:7d470368-8955-499f-8cd6-0162cc61b017\" xlink:type=\"simple\"><polygon fill=\"#FFFFFF\" points=\"314.5,163.72,435.5,163.72,442.5,186.0169,449.5,186.0169,449.5,216.3138,314.5,216.3138,314.5,163.72\" style=\"stroke: #000000; stroke-width: 1.5;\"/><line style=\"stroke: #000000; stroke-width: 1.5;\" x1=\"314.5\" x2=\"442.5\" y1=\"186.0169\" y2=\"186.0169\"/><text fill=\"#000000\" font-family=\"sans-serif\" font-size=\"14\" font-weight=\"bold\" lengthAdjust=\"spacingAndGlyphs\" textLength=\"115\" x=\"318.5\" y=\"178.7151\">Application Layer</text></a><a href=\"psysml:db30598f-7650-4b69-b852-4feea02efbf5\" target=\"_top\" title=\"psysml:db30598f-7650-4b69-b852-4feea02efbf5\" xlink:actuate=\"onRequest\" xlink:href=\"psysml:db30598f-7650-4b69-b852-4feea02efbf5\" xlink:show=\"new\" xlink:title=\"psysml:db30598f-7650-4b69-b852-4feea02efbf5\" xlink:type=\"simple\"><polygon fill=\"#FFFFFF\" points=\"327,293.72,423,293.72,430,316.0169,437,316.0169,437,346.3138,327,346.3138,327,293.72\" style=\"stroke: #000000; stroke-width: 1.5;\"/><line style=\"stroke: #000000; stroke-width: 1.5;\" x1=\"327\" x2=\"430\" y1=\"316.0169\" y2=\"316.0169\"/><text fill=\"#000000\" font-family=\"sans-serif\" font-size=\"14\" font-weight=\"bold\" lengthAdjust=\"spacingAndGlyphs\" textLength=\"90\" x=\"331\" y=\"308.7151\">Service Layer</text></a><a href=\"psysml:f08d8e27-e89d-40a2-8de2-c51098f76f95\" target=\"_top\" title=\"psysml:f08d8e27-e89d-40a2-8de2-c51098f76f95\" xlink:actuate=\"onRequest\" xlink:href=\"psysml:f08d8e27-e89d-40a2-8de2-c51098f76f95\" xlink:show=\"new\" xlink:title=\"psysml:f08d8e27-e89d-40a2-8de2-c51098f76f95\" xlink:type=\"simple\"><polygon fill=\"#FFFFFF\" points=\"336,423.72,414,423.72,421,446.0169,428,446.0169,428,476.3138,336,476.3138,336,423.72\" style=\"stroke: #000000; stroke-width: 1.5;\"/><line style=\"stroke: #000000; stroke-width: 1.5;\" x1=\"336\" x2=\"421\" y1=\"446.0169\" y2=\"446.0169\"/><text fill=\"#000000\" font-family=\"sans-serif\" font-size=\"14\" font-weight=\"bold\" lengthAdjust=\"spacingAndGlyphs\" textLength=\"72\" x=\"340\" y=\"438.7151\">Data Layer</text></a><!--MD5=[1f1cd8e6dd4c1b2ca2aaccc9b9bcea6e]\n",
       "link E1 to E2--><a href=\"psysml:2cdf9aea-584d-4dc5-87f2-78933b91772a\" target=\"_top\" title=\"psysml:2cdf9aea-584d-4dc5-87f2-78933b91772a\" xlink:actuate=\"onRequest\" xlink:href=\"psysml:2cdf9aea-584d-4dc5-87f2-78933b91772a\" xlink:show=\"new\" xlink:title=\"psysml:2cdf9aea-584d-4dc5-87f2-78933b91772a\" xlink:type=\"simple\"><path d=\"M279,33.81 C279,38.265 279,75.1 279,111.9025 C279,114.2027 279,116.5027 279,118.7947 C279,119.3677 279,119.9402 279,120.512 \" fill=\"none\" id=\"E1-&gt;E2\" style=\"stroke: #383838; stroke-width: 1.0; stroke-dasharray: 7.0,7.0;\"/><polygon fill=\"#383838\" points=\"279,120.512,283,111.512,279,115.512,275,111.512,279,120.512\" style=\"stroke: #383838; stroke-width: 1.0;\"/><text fill=\"#000000\" font-family=\"sans-serif\" font-size=\"13\" lengthAdjust=\"spacingAndGlyphs\" textLength=\"65\" x=\"280\" y=\"76.7869\">«import»*</text></a><!--MD5=[af87c684e3b0d8be13c1a698a818ef1e]\n",
       "link E3 to E4--><a href=\"psysml:ef543251-f685-45ef-999a-4058d8fef1e9\" target=\"_top\" title=\"psysml:ef543251-f685-45ef-999a-4058d8fef1e9\" xlink:actuate=\"onRequest\" xlink:href=\"psysml:ef543251-f685-45ef-999a-4058d8fef1e9\" xlink:show=\"new\" xlink:title=\"psysml:ef543251-f685-45ef-999a-4058d8fef1e9\" xlink:type=\"simple\"><path d=\"M382,216.84 C382,216.84 382,285.63 382,285.63 \" fill=\"none\" id=\"E3-&gt;E4\" style=\"stroke: #383838; stroke-width: 1.0; stroke-dasharray: 7.0,7.0;\"/><polygon fill=\"#383838\" points=\"382,293.63,385,285.63,379,285.63,382,293.63\" style=\"stroke: #383838; stroke-width: 1.0;\"/><text fill=\"#000000\" font-family=\"sans-serif\" font-size=\"13\" lengthAdjust=\"spacingAndGlyphs\" textLength=\"64\" x=\"383\" y=\"259.7869\">«depend»</text></a><!--MD5=[1b7591eae5389033d8d09a9d6721a717]\n",
       "link E4 to E5--><a href=\"psysml:f939ae72-3488-4da6-b797-5f4561198517\" target=\"_top\" title=\"psysml:f939ae72-3488-4da6-b797-5f4561198517\" xlink:actuate=\"onRequest\" xlink:href=\"psysml:f939ae72-3488-4da6-b797-5f4561198517\" xlink:show=\"new\" xlink:title=\"psysml:f939ae72-3488-4da6-b797-5f4561198517\" xlink:type=\"simple\"><path d=\"M382,346.84 C382,346.84 382,415.63 382,415.63 \" fill=\"none\" id=\"E4-&gt;E5\" style=\"stroke: #383838; stroke-width: 1.0; stroke-dasharray: 7.0,7.0;\"/><polygon fill=\"#383838\" points=\"382,423.63,385,415.63,379,415.63,382,423.63\" style=\"stroke: #383838; stroke-width: 1.0;\"/><text fill=\"#000000\" font-family=\"sans-serif\" font-size=\"13\" lengthAdjust=\"spacingAndGlyphs\" textLength=\"64\" x=\"383\" y=\"389.7869\">«depend»</text></a><!--MD5=[c5e8897d989ce984f93528998a7150fe]\n",
       "link E8 to E6--><a href=\"psysml:2a73c336-1214-4cbc-85e1-1f3a30fc1732\" target=\"_top\" title=\"psysml:2a73c336-1214-4cbc-85e1-1f3a30fc1732\" xlink:actuate=\"onRequest\" xlink:href=\"psysml:2a73c336-1214-4cbc-85e1-1f3a30fc1732\" xlink:show=\"new\" xlink:title=\"psysml:2a73c336-1214-4cbc-85e1-1f3a30fc1732\" xlink:type=\"simple\"><path d=\"M102,213.46 C102,213.46 102,289.18 102,289.18 \" fill=\"none\" id=\"E8-&gt;E6\" style=\"stroke: #383838; stroke-width: 1.0; stroke-dasharray: 7.0,7.0;\"/><polygon fill=\"#383838\" points=\"102,297.18,105,289.18,99,289.18,102,297.18\" style=\"stroke: #383838; stroke-width: 1.0;\"/><text fill=\"#000000\" font-family=\"sans-serif\" font-size=\"13\" lengthAdjust=\"spacingAndGlyphs\" textLength=\"64\" x=\"76\" y=\"259.7869\">«depend»</text></a><!--MD5=[bfa3c8b0d15052fdf50ae9310b491027]\n",
       "link E8 to E7--><a href=\"psysml:2a73c336-1214-4cbc-85e1-1f3a30fc1732\" target=\"_top\" title=\"psysml:2a73c336-1214-4cbc-85e1-1f3a30fc1732\" xlink:actuate=\"onRequest\" xlink:href=\"psysml:2a73c336-1214-4cbc-85e1-1f3a30fc1732\" xlink:show=\"new\" xlink:title=\"psysml:2a73c336-1214-4cbc-85e1-1f3a30fc1732\" xlink:type=\"simple\"><path d=\"M155,213.46 C155,213.46 155,289.18 155,289.18 \" fill=\"none\" id=\"E8-&gt;E7\" style=\"stroke: #383838; stroke-width: 1.0; stroke-dasharray: 7.0,7.0;\"/><polygon fill=\"#383838\" points=\"155,297.18,158,289.18,152,289.18,155,297.18\" style=\"stroke: #383838; stroke-width: 1.0;\"/><text fill=\"#000000\" font-family=\"sans-serif\" font-size=\"13\" lengthAdjust=\"spacingAndGlyphs\" textLength=\"64\" x=\"182\" y=\"259.7869\">«depend»</text></a><!--MD5=[0d765c6f94d16831323c31d9bb2175df]\n",
       "@startuml\r\n",
       "skinparam linetype ortho\r\n",
       "skinparam monochrome true\r\n",
       "skinparam classbackgroundcolor white\r\n",
       "skinparam shadowing false\r\n",
       "skinparam wrapWidth 300\r\n",
       "hide circle\r\n",
       "\r\n",
       "package \"DependencyTest\" as E1  [[psysml:30c793ee-6e7c-4739-835e-bebdfc5bf1ce ]]  {\r\n",
       "package \"System\" as E2  [[psysml:db7b2f1b-03d7-4942-9142-e18d7a555d76 ]]  {\r\n",
       "package \"Application Layer\" as E3  [[psysml:7d470368-8955-499f-8cd6-0162cc61b017 ]]  {\r\n",
       "}\r\n",
       "package \"Service Layer\" as E4  [[psysml:db30598f-7650-4b69-b852-4feea02efbf5 ]]  {\r\n",
       "}\r\n",
       "package \"Data Layer\" as E5  [[psysml:f08d8e27-e89d-40a2-8de2-c51098f76f95 ]]  {\r\n",
       "}\r\n",
       "}\r\n",
       "comp usage \"x \" as E6  <<(T,blue) attribute>> [[psysml:d66666e9-9ac5-42c6-8412-5d0a1bea61ed ]] {\r\n",
       "}\r\n",
       "comp usage \"y \" as E7  <<(T,blue) attribute>> [[psysml:4c5b6854-1a08-45b4-8136-d30683a500ef ]] {\r\n",
       "}\r\n",
       "comp usage \"z \" as E8  <<(T,blue) attribute>> [[psysml:e4676a73-900e-4cfc-90aa-035aeedcaeac ]] {\r\n",
       "}\r\n",
       "}\r\n",
       "E1 ..> E2 [[psysml:2cdf9aea-584d-4dc5-87f2-78933b91772a ]] : <<import>>*\r\n",
       "E3 ..>> E4 [[psysml:ef543251-f685-45ef-999a-4058d8fef1e9 ]] : <<depend>>\r\n",
       "E4 ..>> E5 [[psysml:f939ae72-3488-4da6-b797-5f4561198517 ]] : <<depend>>\r\n",
       "E8 ..>> E6 [[psysml:2a73c336-1214-4cbc-85e1-1f3a30fc1732 ]] : <<depend>>\r\n",
       "E8 ..>> E7 [[psysml:2a73c336-1214-4cbc-85e1-1f3a30fc1732 ]] : <<depend>>\r\n",
       "@enduml\r\n",
       "\n",
       "PlantUML version 1.2020.13(Sat Jun 13 12:26:38 UTC 2020)\n",
       "(EPL source distribution)\n",
       "Java Runtime: OpenJDK Runtime Environment\n",
       "JVM: OpenJDK 64-Bit Server VM\n",
       "Default Encoding: UTF-8\n",
       "Language: en\n",
       "Country: null\n",
       "--></g></svg>"
      ]
     },
     "execution_count": 51,
     "metadata": {},
     "output_type": "execute_result"
    }
   ],
   "source": [
    "%viz --style=\"ORTHOLINE\" --view=\"Default\" \"DependencyTest\""
   ]
  },
  {
   "cell_type": "code",
   "execution_count": 52,
   "id": "08d7bfe9",
   "metadata": {
    "execution": {
     "iopub.execute_input": "2022-02-18T10:46:53.141225Z",
     "iopub.status.busy": "2022-02-18T10:46:53.140826Z",
     "iopub.status.idle": "2022-02-18T10:46:53.173112Z",
     "shell.execute_reply": "2022-02-18T10:46:53.171788Z"
    }
   },
   "outputs": [
    {
     "data": {
      "image/svg+xml": [
       "<?xml version=\"1.0\" encoding=\"UTF-8\" standalone=\"no\"?><svg xmlns=\"http://www.w3.org/2000/svg\" xmlns:xlink=\"http://www.w3.org/1999/xlink\" contentScriptType=\"application/ecmascript\" contentStyleType=\"text/css\" height=\"552px\" preserveAspectRatio=\"none\" style=\"width:536px;height:552px;\" version=\"1.1\" viewBox=\"0 0 536 552\" width=\"536px\" zoomAndPan=\"magnify\"><defs/><g><!--MD5=[fbc87193dbaf4d95561dea2c320d4a47]\n",
       "cluster E1--><a href=\"psysml:30c793ee-6e7c-4739-835e-bebdfc5bf1ce\" target=\"_top\" title=\"psysml:30c793ee-6e7c-4739-835e-bebdfc5bf1ce\" xlink:actuate=\"onRequest\" xlink:href=\"psysml:30c793ee-6e7c-4739-835e-bebdfc5bf1ce\" xlink:show=\"new\" xlink:title=\"psysml:30c793ee-6e7c-4739-835e-bebdfc5bf1ce\" xlink:type=\"simple\"><polygon fill=\"#FFFFFF\" points=\"16,6,142,6,149,28.2969,514,28.2969,514,540.72,16,540.72,16,6\" style=\"stroke: #000000; stroke-width: 1.5;\"/><line style=\"stroke: #000000; stroke-width: 1.5;\" x1=\"16\" x2=\"149\" y1=\"28.2969\" y2=\"28.2969\"/><text fill=\"#000000\" font-family=\"sans-serif\" font-size=\"14\" font-weight=\"bold\" lengthAdjust=\"spacingAndGlyphs\" textLength=\"120\" x=\"20\" y=\"20.9951\">DependencyTest</text></a><!--MD5=[e4f7fae6ed58524ba242bb0b0d3be6b7]\n",
       "cluster E2--><a href=\"psysml:db7b2f1b-03d7-4942-9142-e18d7a555d76\" target=\"_top\" title=\"psysml:db7b2f1b-03d7-4942-9142-e18d7a555d76\" xlink:actuate=\"onRequest\" xlink:href=\"psysml:db7b2f1b-03d7-4942-9142-e18d7a555d76\" xlink:show=\"new\" xlink:title=\"psysml:db7b2f1b-03d7-4942-9142-e18d7a555d76\" xlink:type=\"simple\"><polygon fill=\"#FFFFFF\" points=\"271,120.72,328,120.72,335,143.0169,474,143.0169,474,500.72,271,500.72,271,120.72\" style=\"stroke: #000000; stroke-width: 1.5;\"/><line style=\"stroke: #000000; stroke-width: 1.5;\" x1=\"271\" x2=\"335\" y1=\"143.0169\" y2=\"143.0169\"/><text fill=\"#000000\" font-family=\"sans-serif\" font-size=\"14\" font-weight=\"bold\" lengthAdjust=\"spacingAndGlyphs\" textLength=\"51\" x=\"275\" y=\"135.7151\">System</text></a><!--MD5=[60a26617385b1d2d0262a64233df1f8d]\n",
       "class E6--><a href=\"psysml:d66666e9-9ac5-42c6-8412-5d0a1bea61ed\" target=\"_top\" title=\"psysml:d66666e9-9ac5-42c6-8412-5d0a1bea61ed\" xlink:actuate=\"onRequest\" xlink:href=\"psysml:d66666e9-9ac5-42c6-8412-5d0a1bea61ed\" xlink:show=\"new\" xlink:title=\"psysml:d66666e9-9ac5-42c6-8412-5d0a1bea61ed\" xlink:type=\"simple\"><rect fill=\"#FFFFFF\" height=\"45.9375\" id=\"E6\" rx=\"10\" ry=\"10\" style=\"stroke: #383838; stroke-width: 1.5;\" width=\"71\" x=\"40.5\" y=\"297.22\"/><text fill=\"#000000\" font-family=\"sans-serif\" font-size=\"12\" font-style=\"italic\" lengthAdjust=\"spacingAndGlyphs\" textLength=\"69\" x=\"41.5\" y=\"313.3587\">«attribute»</text><text fill=\"#000000\" font-family=\"sans-serif\" font-size=\"12\" lengthAdjust=\"spacingAndGlyphs\" textLength=\"6\" x=\"71\" y=\"327.3274\">x</text><line style=\"stroke: #383838; stroke-width: 1.5;\" x1=\"41.5\" x2=\"110.5\" y1=\"335.1575\" y2=\"335.1575\"/></a><!--MD5=[2156ba9850f5573cc1fc38a6a4b2f02b]\n",
       "class E7--><a href=\"psysml:4c5b6854-1a08-45b4-8136-d30683a500ef\" target=\"_top\" title=\"psysml:4c5b6854-1a08-45b4-8136-d30683a500ef\" xlink:actuate=\"onRequest\" xlink:href=\"psysml:4c5b6854-1a08-45b4-8136-d30683a500ef\" xlink:show=\"new\" xlink:title=\"psysml:4c5b6854-1a08-45b4-8136-d30683a500ef\" xlink:type=\"simple\"><rect fill=\"#FFFFFF\" height=\"45.9375\" id=\"E7\" rx=\"10\" ry=\"10\" style=\"stroke: #383838; stroke-width: 1.5;\" width=\"71\" x=\"146.5\" y=\"297.22\"/><text fill=\"#000000\" font-family=\"sans-serif\" font-size=\"12\" font-style=\"italic\" lengthAdjust=\"spacingAndGlyphs\" textLength=\"69\" x=\"147.5\" y=\"313.3587\">«attribute»</text><text fill=\"#000000\" font-family=\"sans-serif\" font-size=\"12\" lengthAdjust=\"spacingAndGlyphs\" textLength=\"6\" x=\"177\" y=\"327.3274\">y</text><line style=\"stroke: #383838; stroke-width: 1.5;\" x1=\"147.5\" x2=\"216.5\" y1=\"335.1575\" y2=\"335.1575\"/></a><!--MD5=[b9389687b975829384b498ac4b7476b2]\n",
       "class E8--><a href=\"psysml:e4676a73-900e-4cfc-90aa-035aeedcaeac\" target=\"_top\" title=\"psysml:e4676a73-900e-4cfc-90aa-035aeedcaeac\" xlink:actuate=\"onRequest\" xlink:href=\"psysml:e4676a73-900e-4cfc-90aa-035aeedcaeac\" xlink:show=\"new\" xlink:title=\"psysml:e4676a73-900e-4cfc-90aa-035aeedcaeac\" xlink:type=\"simple\"><rect fill=\"#FFFFFF\" height=\"45.9375\" id=\"E8\" rx=\"10\" ry=\"10\" style=\"stroke: #383838; stroke-width: 1.5;\" width=\"71\" x=\"92.5\" y=\"167.22\"/><text fill=\"#000000\" font-family=\"sans-serif\" font-size=\"12\" font-style=\"italic\" lengthAdjust=\"spacingAndGlyphs\" textLength=\"69\" x=\"93.5\" y=\"183.3587\">«attribute»</text><text fill=\"#000000\" font-family=\"sans-serif\" font-size=\"12\" lengthAdjust=\"spacingAndGlyphs\" textLength=\"5\" x=\"123.5\" y=\"197.3274\">z</text><line style=\"stroke: #383838; stroke-width: 1.5;\" x1=\"93.5\" x2=\"162.5\" y1=\"205.1575\" y2=\"205.1575\"/></a><a href=\"psysml:7d470368-8955-499f-8cd6-0162cc61b017\" target=\"_top\" title=\"psysml:7d470368-8955-499f-8cd6-0162cc61b017\" xlink:actuate=\"onRequest\" xlink:href=\"psysml:7d470368-8955-499f-8cd6-0162cc61b017\" xlink:show=\"new\" xlink:title=\"psysml:7d470368-8955-499f-8cd6-0162cc61b017\" xlink:type=\"simple\"><polygon fill=\"#FFFFFF\" points=\"314.5,163.72,435.5,163.72,442.5,186.0169,449.5,186.0169,449.5,216.3138,314.5,216.3138,314.5,163.72\" style=\"stroke: #000000; stroke-width: 1.5;\"/><line style=\"stroke: #000000; stroke-width: 1.5;\" x1=\"314.5\" x2=\"442.5\" y1=\"186.0169\" y2=\"186.0169\"/><text fill=\"#000000\" font-family=\"sans-serif\" font-size=\"14\" font-weight=\"bold\" lengthAdjust=\"spacingAndGlyphs\" textLength=\"115\" x=\"318.5\" y=\"178.7151\">Application Layer</text></a><a href=\"psysml:db30598f-7650-4b69-b852-4feea02efbf5\" target=\"_top\" title=\"psysml:db30598f-7650-4b69-b852-4feea02efbf5\" xlink:actuate=\"onRequest\" xlink:href=\"psysml:db30598f-7650-4b69-b852-4feea02efbf5\" xlink:show=\"new\" xlink:title=\"psysml:db30598f-7650-4b69-b852-4feea02efbf5\" xlink:type=\"simple\"><polygon fill=\"#FFFFFF\" points=\"327,293.72,423,293.72,430,316.0169,437,316.0169,437,346.3138,327,346.3138,327,293.72\" style=\"stroke: #000000; stroke-width: 1.5;\"/><line style=\"stroke: #000000; stroke-width: 1.5;\" x1=\"327\" x2=\"430\" y1=\"316.0169\" y2=\"316.0169\"/><text fill=\"#000000\" font-family=\"sans-serif\" font-size=\"14\" font-weight=\"bold\" lengthAdjust=\"spacingAndGlyphs\" textLength=\"90\" x=\"331\" y=\"308.7151\">Service Layer</text></a><a href=\"psysml:f08d8e27-e89d-40a2-8de2-c51098f76f95\" target=\"_top\" title=\"psysml:f08d8e27-e89d-40a2-8de2-c51098f76f95\" xlink:actuate=\"onRequest\" xlink:href=\"psysml:f08d8e27-e89d-40a2-8de2-c51098f76f95\" xlink:show=\"new\" xlink:title=\"psysml:f08d8e27-e89d-40a2-8de2-c51098f76f95\" xlink:type=\"simple\"><polygon fill=\"#FFFFFF\" points=\"336,423.72,414,423.72,421,446.0169,428,446.0169,428,476.3138,336,476.3138,336,423.72\" style=\"stroke: #000000; stroke-width: 1.5;\"/><line style=\"stroke: #000000; stroke-width: 1.5;\" x1=\"336\" x2=\"421\" y1=\"446.0169\" y2=\"446.0169\"/><text fill=\"#000000\" font-family=\"sans-serif\" font-size=\"14\" font-weight=\"bold\" lengthAdjust=\"spacingAndGlyphs\" textLength=\"72\" x=\"340\" y=\"438.7151\">Data Layer</text></a><!--MD5=[1f1cd8e6dd4c1b2ca2aaccc9b9bcea6e]\n",
       "link E1 to E2--><a href=\"psysml:2cdf9aea-584d-4dc5-87f2-78933b91772a\" target=\"_top\" title=\"psysml:2cdf9aea-584d-4dc5-87f2-78933b91772a\" xlink:actuate=\"onRequest\" xlink:href=\"psysml:2cdf9aea-584d-4dc5-87f2-78933b91772a\" xlink:show=\"new\" xlink:title=\"psysml:2cdf9aea-584d-4dc5-87f2-78933b91772a\" xlink:type=\"simple\"><path d=\"M279,33.81 C279,38.265 279,75.1 279,111.9025 C279,114.2027 279,116.5027 279,118.7947 C279,119.3677 279,119.9402 279,120.512 \" fill=\"none\" id=\"E1-&gt;E2\" style=\"stroke: #383838; stroke-width: 1.0; stroke-dasharray: 7.0,7.0;\"/><polygon fill=\"#383838\" points=\"279,120.512,283,111.512,279,115.512,275,111.512,279,120.512\" style=\"stroke: #383838; stroke-width: 1.0;\"/><text fill=\"#000000\" font-family=\"sans-serif\" font-size=\"13\" lengthAdjust=\"spacingAndGlyphs\" textLength=\"65\" x=\"280\" y=\"76.7869\">«import»*</text></a><!--MD5=[af87c684e3b0d8be13c1a698a818ef1e]\n",
       "link E3 to E4--><a href=\"psysml:ef543251-f685-45ef-999a-4058d8fef1e9\" target=\"_top\" title=\"psysml:ef543251-f685-45ef-999a-4058d8fef1e9\" xlink:actuate=\"onRequest\" xlink:href=\"psysml:ef543251-f685-45ef-999a-4058d8fef1e9\" xlink:show=\"new\" xlink:title=\"psysml:ef543251-f685-45ef-999a-4058d8fef1e9\" xlink:type=\"simple\"><path d=\"M382,216.84 C382,216.84 382,285.63 382,285.63 \" fill=\"none\" id=\"E3-&gt;E4\" style=\"stroke: #383838; stroke-width: 1.0; stroke-dasharray: 7.0,7.0;\"/><polygon fill=\"#383838\" points=\"382,293.63,385,285.63,379,285.63,382,293.63\" style=\"stroke: #383838; stroke-width: 1.0;\"/><text fill=\"#000000\" font-family=\"sans-serif\" font-size=\"13\" lengthAdjust=\"spacingAndGlyphs\" textLength=\"64\" x=\"383\" y=\"259.7869\">«depend»</text></a><!--MD5=[1b7591eae5389033d8d09a9d6721a717]\n",
       "link E4 to E5--><a href=\"psysml:f939ae72-3488-4da6-b797-5f4561198517\" target=\"_top\" title=\"psysml:f939ae72-3488-4da6-b797-5f4561198517\" xlink:actuate=\"onRequest\" xlink:href=\"psysml:f939ae72-3488-4da6-b797-5f4561198517\" xlink:show=\"new\" xlink:title=\"psysml:f939ae72-3488-4da6-b797-5f4561198517\" xlink:type=\"simple\"><path d=\"M382,346.84 C382,346.84 382,415.63 382,415.63 \" fill=\"none\" id=\"E4-&gt;E5\" style=\"stroke: #383838; stroke-width: 1.0; stroke-dasharray: 7.0,7.0;\"/><polygon fill=\"#383838\" points=\"382,423.63,385,415.63,379,415.63,382,423.63\" style=\"stroke: #383838; stroke-width: 1.0;\"/><text fill=\"#000000\" font-family=\"sans-serif\" font-size=\"13\" lengthAdjust=\"spacingAndGlyphs\" textLength=\"64\" x=\"383\" y=\"389.7869\">«depend»</text></a><!--MD5=[c5e8897d989ce984f93528998a7150fe]\n",
       "link E8 to E6--><a href=\"psysml:2a73c336-1214-4cbc-85e1-1f3a30fc1732\" target=\"_top\" title=\"psysml:2a73c336-1214-4cbc-85e1-1f3a30fc1732\" xlink:actuate=\"onRequest\" xlink:href=\"psysml:2a73c336-1214-4cbc-85e1-1f3a30fc1732\" xlink:show=\"new\" xlink:title=\"psysml:2a73c336-1214-4cbc-85e1-1f3a30fc1732\" xlink:type=\"simple\"><path d=\"M102,213.46 C102,213.46 102,289.18 102,289.18 \" fill=\"none\" id=\"E8-&gt;E6\" style=\"stroke: #383838; stroke-width: 1.0; stroke-dasharray: 7.0,7.0;\"/><polygon fill=\"#383838\" points=\"102,297.18,105,289.18,99,289.18,102,297.18\" style=\"stroke: #383838; stroke-width: 1.0;\"/><text fill=\"#000000\" font-family=\"sans-serif\" font-size=\"13\" lengthAdjust=\"spacingAndGlyphs\" textLength=\"64\" x=\"76\" y=\"259.7869\">«depend»</text></a><!--MD5=[bfa3c8b0d15052fdf50ae9310b491027]\n",
       "link E8 to E7--><a href=\"psysml:2a73c336-1214-4cbc-85e1-1f3a30fc1732\" target=\"_top\" title=\"psysml:2a73c336-1214-4cbc-85e1-1f3a30fc1732\" xlink:actuate=\"onRequest\" xlink:href=\"psysml:2a73c336-1214-4cbc-85e1-1f3a30fc1732\" xlink:show=\"new\" xlink:title=\"psysml:2a73c336-1214-4cbc-85e1-1f3a30fc1732\" xlink:type=\"simple\"><path d=\"M155,213.46 C155,213.46 155,289.18 155,289.18 \" fill=\"none\" id=\"E8-&gt;E7\" style=\"stroke: #383838; stroke-width: 1.0; stroke-dasharray: 7.0,7.0;\"/><polygon fill=\"#383838\" points=\"155,297.18,158,289.18,152,289.18,155,297.18\" style=\"stroke: #383838; stroke-width: 1.0;\"/><text fill=\"#000000\" font-family=\"sans-serif\" font-size=\"13\" lengthAdjust=\"spacingAndGlyphs\" textLength=\"64\" x=\"182\" y=\"259.7869\">«depend»</text></a><!--MD5=[0d765c6f94d16831323c31d9bb2175df]\n",
       "@startuml\r\n",
       "skinparam linetype ortho\r\n",
       "skinparam monochrome true\r\n",
       "skinparam classbackgroundcolor white\r\n",
       "skinparam shadowing false\r\n",
       "skinparam wrapWidth 300\r\n",
       "hide circle\r\n",
       "\r\n",
       "package \"DependencyTest\" as E1  [[psysml:30c793ee-6e7c-4739-835e-bebdfc5bf1ce ]]  {\r\n",
       "package \"System\" as E2  [[psysml:db7b2f1b-03d7-4942-9142-e18d7a555d76 ]]  {\r\n",
       "package \"Application Layer\" as E3  [[psysml:7d470368-8955-499f-8cd6-0162cc61b017 ]]  {\r\n",
       "}\r\n",
       "package \"Service Layer\" as E4  [[psysml:db30598f-7650-4b69-b852-4feea02efbf5 ]]  {\r\n",
       "}\r\n",
       "package \"Data Layer\" as E5  [[psysml:f08d8e27-e89d-40a2-8de2-c51098f76f95 ]]  {\r\n",
       "}\r\n",
       "}\r\n",
       "comp usage \"x \" as E6  <<(T,blue) attribute>> [[psysml:d66666e9-9ac5-42c6-8412-5d0a1bea61ed ]] {\r\n",
       "}\r\n",
       "comp usage \"y \" as E7  <<(T,blue) attribute>> [[psysml:4c5b6854-1a08-45b4-8136-d30683a500ef ]] {\r\n",
       "}\r\n",
       "comp usage \"z \" as E8  <<(T,blue) attribute>> [[psysml:e4676a73-900e-4cfc-90aa-035aeedcaeac ]] {\r\n",
       "}\r\n",
       "}\r\n",
       "E1 ..> E2 [[psysml:2cdf9aea-584d-4dc5-87f2-78933b91772a ]] : <<import>>*\r\n",
       "E3 ..>> E4 [[psysml:ef543251-f685-45ef-999a-4058d8fef1e9 ]] : <<depend>>\r\n",
       "E4 ..>> E5 [[psysml:f939ae72-3488-4da6-b797-5f4561198517 ]] : <<depend>>\r\n",
       "E8 ..>> E6 [[psysml:2a73c336-1214-4cbc-85e1-1f3a30fc1732 ]] : <<depend>>\r\n",
       "E8 ..>> E7 [[psysml:2a73c336-1214-4cbc-85e1-1f3a30fc1732 ]] : <<depend>>\r\n",
       "@enduml\r\n",
       "\n",
       "PlantUML version 1.2020.13(Sat Jun 13 12:26:38 UTC 2020)\n",
       "(EPL source distribution)\n",
       "Java Runtime: OpenJDK Runtime Environment\n",
       "JVM: OpenJDK 64-Bit Server VM\n",
       "Default Encoding: UTF-8\n",
       "Language: en\n",
       "Country: null\n",
       "--></g></svg>"
      ]
     },
     "execution_count": 52,
     "metadata": {},
     "output_type": "execute_result"
    }
   ],
   "source": [
    "%viz --style=\"ORTHOLINE\" --view=\"Tree\" \"DependencyTest\""
   ]
  },
  {
   "cell_type": "code",
   "execution_count": 53,
   "id": "1ffabc96",
   "metadata": {
    "execution": {
     "iopub.execute_input": "2022-02-18T10:46:53.222617Z",
     "iopub.status.busy": "2022-02-18T10:46:53.222155Z",
     "iopub.status.idle": "2022-02-18T10:46:53.226332Z",
     "shell.execute_reply": "2022-02-18T10:46:53.226633Z"
    }
   },
   "outputs": [
    {
     "data": {
      "image/svg+xml": [
       "<?xml version=\"1.0\" encoding=\"UTF-8\" standalone=\"no\"?><svg xmlns=\"http://www.w3.org/2000/svg\" xmlns:xlink=\"http://www.w3.org/1999/xlink\" contentScriptType=\"application/ecmascript\" contentStyleType=\"text/css\" height=\"12px\" preserveAspectRatio=\"none\" style=\"width:12px;height:12px;\" version=\"1.1\" viewBox=\"0 0 12 12\" width=\"12px\" zoomAndPan=\"magnify\"><defs/><g><!--MD5=[97d6f38768b311333d388e66b2b27985]\n",
       "@startuml\r\n",
       "skinparam linetype ortho\r\n",
       "skinparam monochrome true\r\n",
       "skinparam classbackgroundcolor white\r\n",
       "skinparam shadowing false\r\n",
       "skinparam wrapWidth 300\r\n",
       "hide circle\r\n",
       "\r\n",
       "@enduml\r\n",
       "\n",
       "PlantUML version 1.2020.13(Sat Jun 13 12:26:38 UTC 2020)\n",
       "(EPL source distribution)\n",
       "Java Runtime: OpenJDK Runtime Environment\n",
       "JVM: OpenJDK 64-Bit Server VM\n",
       "Default Encoding: UTF-8\n",
       "Language: en\n",
       "Country: null\n",
       "--></g></svg>"
      ]
     },
     "execution_count": 53,
     "metadata": {},
     "output_type": "execute_result"
    }
   ],
   "source": [
    "%viz --style=\"ORTHOLINE\" --view=\"State\" \"DependencyTest\""
   ]
  },
  {
   "cell_type": "code",
   "execution_count": 54,
   "id": "0d9d38c5",
   "metadata": {
    "execution": {
     "iopub.execute_input": "2022-02-18T10:46:53.276476Z",
     "iopub.status.busy": "2022-02-18T10:46:53.276072Z",
     "iopub.status.idle": "2022-02-18T10:46:53.308296Z",
     "shell.execute_reply": "2022-02-18T10:46:53.306973Z"
    }
   },
   "outputs": [
    {
     "data": {
      "image/svg+xml": [
       "<?xml version=\"1.0\" encoding=\"UTF-8\" standalone=\"no\"?><svg xmlns=\"http://www.w3.org/2000/svg\" xmlns:xlink=\"http://www.w3.org/1999/xlink\" contentScriptType=\"application/ecmascript\" contentStyleType=\"text/css\" height=\"442px\" preserveAspectRatio=\"none\" style=\"width:536px;height:442px;\" version=\"1.1\" viewBox=\"0 0 536 442\" width=\"536px\" zoomAndPan=\"magnify\"><defs/><g><!--MD5=[fbc87193dbaf4d95561dea2c320d4a47]\n",
       "cluster E1--><a href=\"psysml:30c793ee-6e7c-4739-835e-bebdfc5bf1ce\" target=\"_top\" title=\"psysml:30c793ee-6e7c-4739-835e-bebdfc5bf1ce\" xlink:actuate=\"onRequest\" xlink:href=\"psysml:30c793ee-6e7c-4739-835e-bebdfc5bf1ce\" xlink:show=\"new\" xlink:title=\"psysml:30c793ee-6e7c-4739-835e-bebdfc5bf1ce\" xlink:type=\"simple\"><polygon fill=\"#FFFFFF\" points=\"16,6,142,6,149,28.2969,514,28.2969,514,430.72,16,430.72,16,6\" style=\"stroke: #000000; stroke-width: 1.5;\"/><line style=\"stroke: #000000; stroke-width: 1.5;\" x1=\"16\" x2=\"149\" y1=\"28.2969\" y2=\"28.2969\"/><text fill=\"#000000\" font-family=\"sans-serif\" font-size=\"14\" font-weight=\"bold\" lengthAdjust=\"spacingAndGlyphs\" textLength=\"120\" x=\"20\" y=\"20.9951\">DependencyTest</text></a><!--MD5=[e4f7fae6ed58524ba242bb0b0d3be6b7]\n",
       "cluster E2--><a href=\"psysml:db7b2f1b-03d7-4942-9142-e18d7a555d76\" target=\"_top\" title=\"psysml:db7b2f1b-03d7-4942-9142-e18d7a555d76\" xlink:actuate=\"onRequest\" xlink:href=\"psysml:db7b2f1b-03d7-4942-9142-e18d7a555d76\" xlink:show=\"new\" xlink:title=\"psysml:db7b2f1b-03d7-4942-9142-e18d7a555d76\" xlink:type=\"simple\"><polygon fill=\"#FFFFFF\" points=\"271,98.72,328,98.72,335,121.0169,474,121.0169,474,390.72,271,390.72,271,98.72\" style=\"stroke: #000000; stroke-width: 1.5;\"/><line style=\"stroke: #000000; stroke-width: 1.5;\" x1=\"271\" x2=\"335\" y1=\"121.0169\" y2=\"121.0169\"/><text fill=\"#000000\" font-family=\"sans-serif\" font-size=\"14\" font-weight=\"bold\" lengthAdjust=\"spacingAndGlyphs\" textLength=\"51\" x=\"275\" y=\"113.7151\">System</text></a><!--MD5=[60a26617385b1d2d0262a64233df1f8d]\n",
       "class E6--><a href=\"psysml:d66666e9-9ac5-42c6-8412-5d0a1bea61ed\" target=\"_top\" title=\"psysml:d66666e9-9ac5-42c6-8412-5d0a1bea61ed\" xlink:actuate=\"onRequest\" xlink:href=\"psysml:d66666e9-9ac5-42c6-8412-5d0a1bea61ed\" xlink:show=\"new\" xlink:title=\"psysml:d66666e9-9ac5-42c6-8412-5d0a1bea61ed\" xlink:type=\"simple\"><rect fill=\"#FFFFFF\" height=\"45.9375\" id=\"E6\" rx=\"10\" ry=\"10\" style=\"stroke: #383838; stroke-width: 1.5;\" width=\"71\" x=\"40.5\" y=\"231.22\"/><text fill=\"#000000\" font-family=\"sans-serif\" font-size=\"12\" font-style=\"italic\" lengthAdjust=\"spacingAndGlyphs\" textLength=\"69\" x=\"41.5\" y=\"247.3587\">«attribute»</text><text fill=\"#000000\" font-family=\"sans-serif\" font-size=\"12\" lengthAdjust=\"spacingAndGlyphs\" textLength=\"6\" x=\"71\" y=\"261.3274\">x</text><line style=\"stroke: #383838; stroke-width: 1.5;\" x1=\"41.5\" x2=\"110.5\" y1=\"269.1575\" y2=\"269.1575\"/></a><!--MD5=[2156ba9850f5573cc1fc38a6a4b2f02b]\n",
       "class E7--><a href=\"psysml:4c5b6854-1a08-45b4-8136-d30683a500ef\" target=\"_top\" title=\"psysml:4c5b6854-1a08-45b4-8136-d30683a500ef\" xlink:actuate=\"onRequest\" xlink:href=\"psysml:4c5b6854-1a08-45b4-8136-d30683a500ef\" xlink:show=\"new\" xlink:title=\"psysml:4c5b6854-1a08-45b4-8136-d30683a500ef\" xlink:type=\"simple\"><rect fill=\"#FFFFFF\" height=\"45.9375\" id=\"E7\" rx=\"10\" ry=\"10\" style=\"stroke: #383838; stroke-width: 1.5;\" width=\"71\" x=\"146.5\" y=\"231.22\"/><text fill=\"#000000\" font-family=\"sans-serif\" font-size=\"12\" font-style=\"italic\" lengthAdjust=\"spacingAndGlyphs\" textLength=\"69\" x=\"147.5\" y=\"247.3587\">«attribute»</text><text fill=\"#000000\" font-family=\"sans-serif\" font-size=\"12\" lengthAdjust=\"spacingAndGlyphs\" textLength=\"6\" x=\"177\" y=\"261.3274\">y</text><line style=\"stroke: #383838; stroke-width: 1.5;\" x1=\"147.5\" x2=\"216.5\" y1=\"269.1575\" y2=\"269.1575\"/></a><!--MD5=[b9389687b975829384b498ac4b7476b2]\n",
       "class E8--><a href=\"psysml:e4676a73-900e-4cfc-90aa-035aeedcaeac\" target=\"_top\" title=\"psysml:e4676a73-900e-4cfc-90aa-035aeedcaeac\" xlink:actuate=\"onRequest\" xlink:href=\"psysml:e4676a73-900e-4cfc-90aa-035aeedcaeac\" xlink:show=\"new\" xlink:title=\"psysml:e4676a73-900e-4cfc-90aa-035aeedcaeac\" xlink:type=\"simple\"><rect fill=\"#FFFFFF\" height=\"45.9375\" id=\"E8\" rx=\"10\" ry=\"10\" style=\"stroke: #383838; stroke-width: 1.5;\" width=\"71\" x=\"92.5\" y=\"145.22\"/><text fill=\"#000000\" font-family=\"sans-serif\" font-size=\"12\" font-style=\"italic\" lengthAdjust=\"spacingAndGlyphs\" textLength=\"69\" x=\"93.5\" y=\"161.3587\">«attribute»</text><text fill=\"#000000\" font-family=\"sans-serif\" font-size=\"12\" lengthAdjust=\"spacingAndGlyphs\" textLength=\"5\" x=\"123.5\" y=\"175.3274\">z</text><line style=\"stroke: #383838; stroke-width: 1.5;\" x1=\"93.5\" x2=\"162.5\" y1=\"183.1575\" y2=\"183.1575\"/></a><a href=\"psysml:7d470368-8955-499f-8cd6-0162cc61b017\" target=\"_top\" title=\"psysml:7d470368-8955-499f-8cd6-0162cc61b017\" xlink:actuate=\"onRequest\" xlink:href=\"psysml:7d470368-8955-499f-8cd6-0162cc61b017\" xlink:show=\"new\" xlink:title=\"psysml:7d470368-8955-499f-8cd6-0162cc61b017\" xlink:type=\"simple\"><polygon fill=\"#FFFFFF\" points=\"314.5,141.72,435.5,141.72,442.5,164.0169,449.5,164.0169,449.5,194.3138,314.5,194.3138,314.5,141.72\" style=\"stroke: #000000; stroke-width: 1.5;\"/><line style=\"stroke: #000000; stroke-width: 1.5;\" x1=\"314.5\" x2=\"442.5\" y1=\"164.0169\" y2=\"164.0169\"/><text fill=\"#000000\" font-family=\"sans-serif\" font-size=\"14\" font-weight=\"bold\" lengthAdjust=\"spacingAndGlyphs\" textLength=\"115\" x=\"318.5\" y=\"156.7151\">Application Layer</text></a><a href=\"psysml:db30598f-7650-4b69-b852-4feea02efbf5\" target=\"_top\" title=\"psysml:db30598f-7650-4b69-b852-4feea02efbf5\" xlink:actuate=\"onRequest\" xlink:href=\"psysml:db30598f-7650-4b69-b852-4feea02efbf5\" xlink:show=\"new\" xlink:title=\"psysml:db30598f-7650-4b69-b852-4feea02efbf5\" xlink:type=\"simple\"><polygon fill=\"#FFFFFF\" points=\"327,227.72,423,227.72,430,250.0169,437,250.0169,437,280.3138,327,280.3138,327,227.72\" style=\"stroke: #000000; stroke-width: 1.5;\"/><line style=\"stroke: #000000; stroke-width: 1.5;\" x1=\"327\" x2=\"430\" y1=\"250.0169\" y2=\"250.0169\"/><text fill=\"#000000\" font-family=\"sans-serif\" font-size=\"14\" font-weight=\"bold\" lengthAdjust=\"spacingAndGlyphs\" textLength=\"90\" x=\"331\" y=\"242.7151\">Service Layer</text></a><a href=\"psysml:f08d8e27-e89d-40a2-8de2-c51098f76f95\" target=\"_top\" title=\"psysml:f08d8e27-e89d-40a2-8de2-c51098f76f95\" xlink:actuate=\"onRequest\" xlink:href=\"psysml:f08d8e27-e89d-40a2-8de2-c51098f76f95\" xlink:show=\"new\" xlink:title=\"psysml:f08d8e27-e89d-40a2-8de2-c51098f76f95\" xlink:type=\"simple\"><polygon fill=\"#FFFFFF\" points=\"336,313.72,414,313.72,421,336.0169,428,336.0169,428,366.3138,336,366.3138,336,313.72\" style=\"stroke: #000000; stroke-width: 1.5;\"/><line style=\"stroke: #000000; stroke-width: 1.5;\" x1=\"336\" x2=\"421\" y1=\"336.0169\" y2=\"336.0169\"/><text fill=\"#000000\" font-family=\"sans-serif\" font-size=\"14\" font-weight=\"bold\" lengthAdjust=\"spacingAndGlyphs\" textLength=\"72\" x=\"340\" y=\"328.7151\">Data Layer</text></a><!--MD5=[1f1cd8e6dd4c1b2ca2aaccc9b9bcea6e]\n",
       "link E1 to E2--><a href=\"psysml:2cdf9aea-584d-4dc5-87f2-78933b91772a\" target=\"_top\" title=\"psysml:2cdf9aea-584d-4dc5-87f2-78933b91772a\" xlink:actuate=\"onRequest\" xlink:href=\"psysml:2cdf9aea-584d-4dc5-87f2-78933b91772a\" xlink:show=\"new\" xlink:title=\"psysml:2cdf9aea-584d-4dc5-87f2-78933b91772a\" xlink:type=\"simple\"><path d=\"M279,33.75 C279,35.665 279,44.54 279,56.8914 C279,63.0671 279,70.1119 279,77.5904 C279,81.3296 279,85.1772 279,89.0789 C279,91.0297 279,92.994 279,94.965 C279,95.9505 279,96.9377 279,97.9256 C279,98.1726 279,98.4197 279,98.6668 \" fill=\"none\" id=\"E1-&gt;E2\" style=\"stroke: #383838; stroke-width: 1.0; stroke-dasharray: 7.0,7.0;\"/><polygon fill=\"#383838\" points=\"279,98.6668,283,89.6668,279,93.6668,275,89.6668,279,98.6668\" style=\"stroke: #383838; stroke-width: 1.0;\"/><text fill=\"#000000\" font-family=\"sans-serif\" font-size=\"13\" lengthAdjust=\"spacingAndGlyphs\" textLength=\"65\" x=\"280\" y=\"54.7869\">«import»*</text></a><!--MD5=[af87c684e3b0d8be13c1a698a818ef1e]\n",
       "link E3 to E4--><a href=\"psysml:ef543251-f685-45ef-999a-4058d8fef1e9\" target=\"_top\" title=\"psysml:ef543251-f685-45ef-999a-4058d8fef1e9\" xlink:actuate=\"onRequest\" xlink:href=\"psysml:ef543251-f685-45ef-999a-4058d8fef1e9\" xlink:show=\"new\" xlink:title=\"psysml:ef543251-f685-45ef-999a-4058d8fef1e9\" xlink:type=\"simple\"><path d=\"M382,194.96 C382,194.96 382,219.5 382,219.5 \" fill=\"none\" id=\"E3-&gt;E4\" style=\"stroke: #383838; stroke-width: 1.0; stroke-dasharray: 7.0,7.0;\"/><polygon fill=\"#383838\" points=\"382,227.5,385,219.5,379,219.5,382,227.5\" style=\"stroke: #383838; stroke-width: 1.0;\"/><text fill=\"#000000\" font-family=\"sans-serif\" font-size=\"13\" lengthAdjust=\"spacingAndGlyphs\" textLength=\"64\" x=\"383\" y=\"215.7869\">«depend»</text></a><!--MD5=[1b7591eae5389033d8d09a9d6721a717]\n",
       "link E4 to E5--><a href=\"psysml:f939ae72-3488-4da6-b797-5f4561198517\" target=\"_top\" title=\"psysml:f939ae72-3488-4da6-b797-5f4561198517\" xlink:actuate=\"onRequest\" xlink:href=\"psysml:f939ae72-3488-4da6-b797-5f4561198517\" xlink:show=\"new\" xlink:title=\"psysml:f939ae72-3488-4da6-b797-5f4561198517\" xlink:type=\"simple\"><path d=\"M382,280.96 C382,280.96 382,305.5 382,305.5 \" fill=\"none\" id=\"E4-&gt;E5\" style=\"stroke: #383838; stroke-width: 1.0; stroke-dasharray: 7.0,7.0;\"/><polygon fill=\"#383838\" points=\"382,313.5,385,305.5,379,305.5,382,313.5\" style=\"stroke: #383838; stroke-width: 1.0;\"/><text fill=\"#000000\" font-family=\"sans-serif\" font-size=\"13\" lengthAdjust=\"spacingAndGlyphs\" textLength=\"64\" x=\"383\" y=\"301.7869\">«depend»</text></a><!--MD5=[c5e8897d989ce984f93528998a7150fe]\n",
       "link E8 to E6--><a href=\"psysml:2a73c336-1214-4cbc-85e1-1f3a30fc1732\" target=\"_top\" title=\"psysml:2a73c336-1214-4cbc-85e1-1f3a30fc1732\" xlink:actuate=\"onRequest\" xlink:href=\"psysml:2a73c336-1214-4cbc-85e1-1f3a30fc1732\" xlink:show=\"new\" xlink:title=\"psysml:2a73c336-1214-4cbc-85e1-1f3a30fc1732\" xlink:type=\"simple\"><path d=\"M102,191.27 C102,191.27 102,223.11 102,223.11 \" fill=\"none\" id=\"E8-&gt;E6\" style=\"stroke: #383838; stroke-width: 1.0; stroke-dasharray: 7.0,7.0;\"/><polygon fill=\"#383838\" points=\"102,231.11,105,223.11,99,223.11,102,231.11\" style=\"stroke: #383838; stroke-width: 1.0;\"/><text fill=\"#000000\" font-family=\"sans-serif\" font-size=\"13\" lengthAdjust=\"spacingAndGlyphs\" textLength=\"64\" x=\"76\" y=\"215.7869\">«depend»</text></a><!--MD5=[bfa3c8b0d15052fdf50ae9310b491027]\n",
       "link E8 to E7--><a href=\"psysml:2a73c336-1214-4cbc-85e1-1f3a30fc1732\" target=\"_top\" title=\"psysml:2a73c336-1214-4cbc-85e1-1f3a30fc1732\" xlink:actuate=\"onRequest\" xlink:href=\"psysml:2a73c336-1214-4cbc-85e1-1f3a30fc1732\" xlink:show=\"new\" xlink:title=\"psysml:2a73c336-1214-4cbc-85e1-1f3a30fc1732\" xlink:type=\"simple\"><path d=\"M155,191.27 C155,191.27 155,223.11 155,223.11 \" fill=\"none\" id=\"E8-&gt;E7\" style=\"stroke: #383838; stroke-width: 1.0; stroke-dasharray: 7.0,7.0;\"/><polygon fill=\"#383838\" points=\"155,231.11,158,223.11,152,223.11,155,231.11\" style=\"stroke: #383838; stroke-width: 1.0;\"/><text fill=\"#000000\" font-family=\"sans-serif\" font-size=\"13\" lengthAdjust=\"spacingAndGlyphs\" textLength=\"64\" x=\"182\" y=\"215.7869\">«depend»</text></a><!--MD5=[ec4b42ae2fa454c7d820f351fc8d177e]\n",
       "@startuml\r\n",
       "skinparam ranksep 10\r\n",
       "skinparam rectangle {\r\n",
       " backgroundColor<<block>> LightGreen\r\n",
       "}\r\n",
       "skinparam linetype ortho\r\n",
       "skinparam monochrome true\r\n",
       "skinparam classbackgroundcolor white\r\n",
       "skinparam shadowing false\r\n",
       "skinparam wrapWidth 300\r\n",
       "hide circle\r\n",
       "\r\n",
       "package \"DependencyTest\" as E1  [[psysml:30c793ee-6e7c-4739-835e-bebdfc5bf1ce ]]  {\r\n",
       "package \"System\" as E2  [[psysml:db7b2f1b-03d7-4942-9142-e18d7a555d76 ]]  {\r\n",
       "package \"Application Layer\" as E3  [[psysml:7d470368-8955-499f-8cd6-0162cc61b017 ]]  {\r\n",
       "}\r\n",
       "package \"Service Layer\" as E4  [[psysml:db30598f-7650-4b69-b852-4feea02efbf5 ]]  {\r\n",
       "}\r\n",
       "package \"Data Layer\" as E5  [[psysml:f08d8e27-e89d-40a2-8de2-c51098f76f95 ]]  {\r\n",
       "}\r\n",
       "}\r\n",
       "comp usage \"x \" as E6  <<(T,blue) attribute>> [[psysml:d66666e9-9ac5-42c6-8412-5d0a1bea61ed ]] {\r\n",
       "}\r\n",
       "comp usage \"y \" as E7  <<(T,blue) attribute>> [[psysml:4c5b6854-1a08-45b4-8136-d30683a500ef ]] {\r\n",
       "}\r\n",
       "comp usage \"z \" as E8  <<(T,blue) attribute>> [[psysml:e4676a73-900e-4cfc-90aa-035aeedcaeac ]] {\r\n",
       "}\r\n",
       "}\r\n",
       "E1 ..> E2 [[psysml:2cdf9aea-584d-4dc5-87f2-78933b91772a ]] : <<import>>*\r\n",
       "E3 ..>> E4 [[psysml:ef543251-f685-45ef-999a-4058d8fef1e9 ]] : <<depend>>\r\n",
       "E4 ..>> E5 [[psysml:f939ae72-3488-4da6-b797-5f4561198517 ]] : <<depend>>\r\n",
       "E8 ..>> E6 [[psysml:2a73c336-1214-4cbc-85e1-1f3a30fc1732 ]] : <<depend>>\r\n",
       "E8 ..>> E7 [[psysml:2a73c336-1214-4cbc-85e1-1f3a30fc1732 ]] : <<depend>>\r\n",
       "@enduml\r\n",
       "\n",
       "PlantUML version 1.2020.13(Sat Jun 13 12:26:38 UTC 2020)\n",
       "(EPL source distribution)\n",
       "Java Runtime: OpenJDK Runtime Environment\n",
       "JVM: OpenJDK 64-Bit Server VM\n",
       "Default Encoding: UTF-8\n",
       "Language: en\n",
       "Country: null\n",
       "--></g></svg>"
      ]
     },
     "execution_count": 54,
     "metadata": {},
     "output_type": "execute_result"
    }
   ],
   "source": [
    "%viz --style=\"ORTHOLINE\" --view=\"Interconnection\" \"DependencyTest\""
   ]
  },
  {
   "cell_type": "code",
   "execution_count": 55,
   "id": "ae2257aa",
   "metadata": {
    "execution": {
     "iopub.execute_input": "2022-02-18T10:46:53.357721Z",
     "iopub.status.busy": "2022-02-18T10:46:53.357309Z",
     "iopub.status.idle": "2022-02-18T10:46:53.361853Z",
     "shell.execute_reply": "2022-02-18T10:46:53.361505Z"
    }
   },
   "outputs": [
    {
     "data": {
      "image/svg+xml": [
       "<?xml version=\"1.0\" encoding=\"UTF-8\" standalone=\"no\"?><svg xmlns=\"http://www.w3.org/2000/svg\" xmlns:xlink=\"http://www.w3.org/1999/xlink\" contentScriptType=\"application/ecmascript\" contentStyleType=\"text/css\" height=\"12px\" preserveAspectRatio=\"none\" style=\"width:12px;height:12px;\" version=\"1.1\" viewBox=\"0 0 12 12\" width=\"12px\" zoomAndPan=\"magnify\"><defs/><g><!--MD5=[72934c63077099a26744516a776b4749]\n",
       "@startuml\r\n",
       "skinparam ranksep 8\r\n",
       "skinparam linetype ortho\r\n",
       "skinparam monochrome true\r\n",
       "skinparam classbackgroundcolor white\r\n",
       "skinparam shadowing false\r\n",
       "skinparam wrapWidth 300\r\n",
       "hide circle\r\n",
       "\r\n",
       "@enduml\r\n",
       "\n",
       "PlantUML version 1.2020.13(Sat Jun 13 12:26:38 UTC 2020)\n",
       "(EPL source distribution)\n",
       "Java Runtime: OpenJDK Runtime Environment\n",
       "JVM: OpenJDK 64-Bit Server VM\n",
       "Default Encoding: UTF-8\n",
       "Language: en\n",
       "Country: null\n",
       "--></g></svg>"
      ]
     },
     "execution_count": 55,
     "metadata": {},
     "output_type": "execute_result"
    }
   ],
   "source": [
    "%viz --style=\"ORTHOLINE\" --view=\"Action\" \"DependencyTest\""
   ]
  },
  {
   "cell_type": "code",
   "execution_count": 56,
   "id": "0ca57ac5",
   "metadata": {
    "execution": {
     "iopub.execute_input": "2022-02-18T10:46:53.411339Z",
     "iopub.status.busy": "2022-02-18T10:46:53.410934Z",
     "iopub.status.idle": "2022-02-18T10:46:53.415201Z",
     "shell.execute_reply": "2022-02-18T10:46:53.414854Z"
    }
   },
   "outputs": [
    {
     "data": {
      "image/svg+xml": [
       "<?xml version=\"1.0\" encoding=\"UTF-8\" standalone=\"no\"?><svg xmlns=\"http://www.w3.org/2000/svg\" xmlns:xlink=\"http://www.w3.org/1999/xlink\" contentScriptType=\"application/ecmascript\" contentStyleType=\"text/css\" height=\"12px\" preserveAspectRatio=\"none\" style=\"width:12px;height:12px;\" version=\"1.1\" viewBox=\"0 0 12 12\" width=\"12px\" zoomAndPan=\"magnify\"><defs/><g><!--MD5=[30fc1de5121c5abddedd55b44417fde8]\n",
       "@startuml\r\n",
       "skinparam roundcorner 20\r\n",
       "skinparam BoxPadding 20\r\n",
       "skinparam SequenceBoxBackgroundColor #white\r\n",
       "skinparam style strictuml\r\n",
       "skinparam maxMessageSize 100\r\n",
       "skinparam linetype ortho\r\n",
       "skinparam monochrome true\r\n",
       "skinparam classbackgroundcolor white\r\n",
       "skinparam shadowing false\r\n",
       "skinparam wrapWidth 300\r\n",
       "hide circle\r\n",
       "\r\n",
       "@enduml\r\n",
       "\n",
       "PlantUML version 1.2020.13(Sat Jun 13 12:26:38 UTC 2020)\n",
       "(EPL source distribution)\n",
       "Java Runtime: OpenJDK Runtime Environment\n",
       "JVM: OpenJDK 64-Bit Server VM\n",
       "Default Encoding: UTF-8\n",
       "Language: en\n",
       "Country: null\n",
       "--></g></svg>"
      ]
     },
     "execution_count": 56,
     "metadata": {},
     "output_type": "execute_result"
    }
   ],
   "source": [
    "%viz --style=\"ORTHOLINE\" --view=\"Sequence\" \"DependencyTest\""
   ]
  },
  {
   "cell_type": "code",
   "execution_count": 57,
   "id": "3d92040c",
   "metadata": {
    "execution": {
     "iopub.execute_input": "2022-02-18T10:46:53.469459Z",
     "iopub.status.busy": "2022-02-18T10:46:53.469016Z",
     "iopub.status.idle": "2022-02-18T10:46:53.500869Z",
     "shell.execute_reply": "2022-02-18T10:46:53.499330Z"
    }
   },
   "outputs": [
    {
     "data": {
      "image/svg+xml": [
       "<?xml version=\"1.0\" encoding=\"UTF-8\" standalone=\"no\"?><svg xmlns=\"http://www.w3.org/2000/svg\" xmlns:xlink=\"http://www.w3.org/1999/xlink\" contentScriptType=\"application/ecmascript\" contentStyleType=\"text/css\" height=\"552px\" preserveAspectRatio=\"none\" style=\"width:536px;height:552px;\" version=\"1.1\" viewBox=\"0 0 536 552\" width=\"536px\" zoomAndPan=\"magnify\"><defs/><g><!--MD5=[fbc87193dbaf4d95561dea2c320d4a47]\n",
       "cluster E1--><a href=\"psysml:30c793ee-6e7c-4739-835e-bebdfc5bf1ce\" target=\"_top\" title=\"psysml:30c793ee-6e7c-4739-835e-bebdfc5bf1ce\" xlink:actuate=\"onRequest\" xlink:href=\"psysml:30c793ee-6e7c-4739-835e-bebdfc5bf1ce\" xlink:show=\"new\" xlink:title=\"psysml:30c793ee-6e7c-4739-835e-bebdfc5bf1ce\" xlink:type=\"simple\"><polygon fill=\"#FFFFFF\" points=\"16,6,142,6,149,28.2969,514,28.2969,514,540.72,16,540.72,16,6\" style=\"stroke: #000000; stroke-width: 1.5;\"/><line style=\"stroke: #000000; stroke-width: 1.5;\" x1=\"16\" x2=\"149\" y1=\"28.2969\" y2=\"28.2969\"/><text fill=\"#000000\" font-family=\"sans-serif\" font-size=\"14\" font-weight=\"bold\" lengthAdjust=\"spacingAndGlyphs\" textLength=\"120\" x=\"20\" y=\"20.9951\">DependencyTest</text></a><!--MD5=[e4f7fae6ed58524ba242bb0b0d3be6b7]\n",
       "cluster E2--><a href=\"psysml:db7b2f1b-03d7-4942-9142-e18d7a555d76\" target=\"_top\" title=\"psysml:db7b2f1b-03d7-4942-9142-e18d7a555d76\" xlink:actuate=\"onRequest\" xlink:href=\"psysml:db7b2f1b-03d7-4942-9142-e18d7a555d76\" xlink:show=\"new\" xlink:title=\"psysml:db7b2f1b-03d7-4942-9142-e18d7a555d76\" xlink:type=\"simple\"><polygon fill=\"#FFFFFF\" points=\"271,120.72,328,120.72,335,143.0169,474,143.0169,474,500.72,271,500.72,271,120.72\" style=\"stroke: #000000; stroke-width: 1.5;\"/><line style=\"stroke: #000000; stroke-width: 1.5;\" x1=\"271\" x2=\"335\" y1=\"143.0169\" y2=\"143.0169\"/><text fill=\"#000000\" font-family=\"sans-serif\" font-size=\"14\" font-weight=\"bold\" lengthAdjust=\"spacingAndGlyphs\" textLength=\"51\" x=\"275\" y=\"135.7151\">System</text></a><!--MD5=[60a26617385b1d2d0262a64233df1f8d]\n",
       "class E6--><a href=\"psysml:d66666e9-9ac5-42c6-8412-5d0a1bea61ed\" target=\"_top\" title=\"psysml:d66666e9-9ac5-42c6-8412-5d0a1bea61ed\" xlink:actuate=\"onRequest\" xlink:href=\"psysml:d66666e9-9ac5-42c6-8412-5d0a1bea61ed\" xlink:show=\"new\" xlink:title=\"psysml:d66666e9-9ac5-42c6-8412-5d0a1bea61ed\" xlink:type=\"simple\"><rect fill=\"#FFFFFF\" height=\"45.9375\" id=\"E6\" rx=\"10\" ry=\"10\" style=\"stroke: #383838; stroke-width: 1.5;\" width=\"71\" x=\"40.5\" y=\"297.22\"/><text fill=\"#000000\" font-family=\"sans-serif\" font-size=\"12\" font-style=\"italic\" lengthAdjust=\"spacingAndGlyphs\" textLength=\"69\" x=\"41.5\" y=\"313.3587\">«attribute»</text><text fill=\"#000000\" font-family=\"sans-serif\" font-size=\"12\" lengthAdjust=\"spacingAndGlyphs\" textLength=\"6\" x=\"71\" y=\"327.3274\">x</text><line style=\"stroke: #383838; stroke-width: 1.5;\" x1=\"41.5\" x2=\"110.5\" y1=\"335.1575\" y2=\"335.1575\"/></a><!--MD5=[2156ba9850f5573cc1fc38a6a4b2f02b]\n",
       "class E7--><a href=\"psysml:4c5b6854-1a08-45b4-8136-d30683a500ef\" target=\"_top\" title=\"psysml:4c5b6854-1a08-45b4-8136-d30683a500ef\" xlink:actuate=\"onRequest\" xlink:href=\"psysml:4c5b6854-1a08-45b4-8136-d30683a500ef\" xlink:show=\"new\" xlink:title=\"psysml:4c5b6854-1a08-45b4-8136-d30683a500ef\" xlink:type=\"simple\"><rect fill=\"#FFFFFF\" height=\"45.9375\" id=\"E7\" rx=\"10\" ry=\"10\" style=\"stroke: #383838; stroke-width: 1.5;\" width=\"71\" x=\"146.5\" y=\"297.22\"/><text fill=\"#000000\" font-family=\"sans-serif\" font-size=\"12\" font-style=\"italic\" lengthAdjust=\"spacingAndGlyphs\" textLength=\"69\" x=\"147.5\" y=\"313.3587\">«attribute»</text><text fill=\"#000000\" font-family=\"sans-serif\" font-size=\"12\" lengthAdjust=\"spacingAndGlyphs\" textLength=\"6\" x=\"177\" y=\"327.3274\">y</text><line style=\"stroke: #383838; stroke-width: 1.5;\" x1=\"147.5\" x2=\"216.5\" y1=\"335.1575\" y2=\"335.1575\"/></a><!--MD5=[b9389687b975829384b498ac4b7476b2]\n",
       "class E8--><a href=\"psysml:e4676a73-900e-4cfc-90aa-035aeedcaeac\" target=\"_top\" title=\"psysml:e4676a73-900e-4cfc-90aa-035aeedcaeac\" xlink:actuate=\"onRequest\" xlink:href=\"psysml:e4676a73-900e-4cfc-90aa-035aeedcaeac\" xlink:show=\"new\" xlink:title=\"psysml:e4676a73-900e-4cfc-90aa-035aeedcaeac\" xlink:type=\"simple\"><rect fill=\"#FFFFFF\" height=\"45.9375\" id=\"E8\" rx=\"10\" ry=\"10\" style=\"stroke: #383838; stroke-width: 1.5;\" width=\"71\" x=\"92.5\" y=\"167.22\"/><text fill=\"#000000\" font-family=\"sans-serif\" font-size=\"12\" font-style=\"italic\" lengthAdjust=\"spacingAndGlyphs\" textLength=\"69\" x=\"93.5\" y=\"183.3587\">«attribute»</text><text fill=\"#000000\" font-family=\"sans-serif\" font-size=\"12\" lengthAdjust=\"spacingAndGlyphs\" textLength=\"5\" x=\"123.5\" y=\"197.3274\">z</text><line style=\"stroke: #383838; stroke-width: 1.5;\" x1=\"93.5\" x2=\"162.5\" y1=\"205.1575\" y2=\"205.1575\"/></a><a href=\"psysml:7d470368-8955-499f-8cd6-0162cc61b017\" target=\"_top\" title=\"psysml:7d470368-8955-499f-8cd6-0162cc61b017\" xlink:actuate=\"onRequest\" xlink:href=\"psysml:7d470368-8955-499f-8cd6-0162cc61b017\" xlink:show=\"new\" xlink:title=\"psysml:7d470368-8955-499f-8cd6-0162cc61b017\" xlink:type=\"simple\"><polygon fill=\"#FFFFFF\" points=\"314.5,163.72,435.5,163.72,442.5,186.0169,449.5,186.0169,449.5,216.3138,314.5,216.3138,314.5,163.72\" style=\"stroke: #000000; stroke-width: 1.5;\"/><line style=\"stroke: #000000; stroke-width: 1.5;\" x1=\"314.5\" x2=\"442.5\" y1=\"186.0169\" y2=\"186.0169\"/><text fill=\"#000000\" font-family=\"sans-serif\" font-size=\"14\" font-weight=\"bold\" lengthAdjust=\"spacingAndGlyphs\" textLength=\"115\" x=\"318.5\" y=\"178.7151\">Application Layer</text></a><a href=\"psysml:db30598f-7650-4b69-b852-4feea02efbf5\" target=\"_top\" title=\"psysml:db30598f-7650-4b69-b852-4feea02efbf5\" xlink:actuate=\"onRequest\" xlink:href=\"psysml:db30598f-7650-4b69-b852-4feea02efbf5\" xlink:show=\"new\" xlink:title=\"psysml:db30598f-7650-4b69-b852-4feea02efbf5\" xlink:type=\"simple\"><polygon fill=\"#FFFFFF\" points=\"327,293.72,423,293.72,430,316.0169,437,316.0169,437,346.3138,327,346.3138,327,293.72\" style=\"stroke: #000000; stroke-width: 1.5;\"/><line style=\"stroke: #000000; stroke-width: 1.5;\" x1=\"327\" x2=\"430\" y1=\"316.0169\" y2=\"316.0169\"/><text fill=\"#000000\" font-family=\"sans-serif\" font-size=\"14\" font-weight=\"bold\" lengthAdjust=\"spacingAndGlyphs\" textLength=\"90\" x=\"331\" y=\"308.7151\">Service Layer</text></a><a href=\"psysml:f08d8e27-e89d-40a2-8de2-c51098f76f95\" target=\"_top\" title=\"psysml:f08d8e27-e89d-40a2-8de2-c51098f76f95\" xlink:actuate=\"onRequest\" xlink:href=\"psysml:f08d8e27-e89d-40a2-8de2-c51098f76f95\" xlink:show=\"new\" xlink:title=\"psysml:f08d8e27-e89d-40a2-8de2-c51098f76f95\" xlink:type=\"simple\"><polygon fill=\"#FFFFFF\" points=\"336,423.72,414,423.72,421,446.0169,428,446.0169,428,476.3138,336,476.3138,336,423.72\" style=\"stroke: #000000; stroke-width: 1.5;\"/><line style=\"stroke: #000000; stroke-width: 1.5;\" x1=\"336\" x2=\"421\" y1=\"446.0169\" y2=\"446.0169\"/><text fill=\"#000000\" font-family=\"sans-serif\" font-size=\"14\" font-weight=\"bold\" lengthAdjust=\"spacingAndGlyphs\" textLength=\"72\" x=\"340\" y=\"438.7151\">Data Layer</text></a><!--MD5=[1f1cd8e6dd4c1b2ca2aaccc9b9bcea6e]\n",
       "link E1 to E2--><a href=\"psysml:2cdf9aea-584d-4dc5-87f2-78933b91772a\" target=\"_top\" title=\"psysml:2cdf9aea-584d-4dc5-87f2-78933b91772a\" xlink:actuate=\"onRequest\" xlink:href=\"psysml:2cdf9aea-584d-4dc5-87f2-78933b91772a\" xlink:show=\"new\" xlink:title=\"psysml:2cdf9aea-584d-4dc5-87f2-78933b91772a\" xlink:type=\"simple\"><path d=\"M279,33.81 C279,38.265 279,75.1 279,111.9025 C279,114.2027 279,116.5027 279,118.7947 C279,119.3677 279,119.9402 279,120.512 \" fill=\"none\" id=\"E1-&gt;E2\" style=\"stroke: #383838; stroke-width: 1.0; stroke-dasharray: 7.0,7.0;\"/><polygon fill=\"#383838\" points=\"279,120.512,283,111.512,279,115.512,275,111.512,279,120.512\" style=\"stroke: #383838; stroke-width: 1.0;\"/><text fill=\"#000000\" font-family=\"sans-serif\" font-size=\"13\" lengthAdjust=\"spacingAndGlyphs\" textLength=\"65\" x=\"280\" y=\"76.7869\">«import»*</text></a><!--MD5=[af87c684e3b0d8be13c1a698a818ef1e]\n",
       "link E3 to E4--><a href=\"psysml:ef543251-f685-45ef-999a-4058d8fef1e9\" target=\"_top\" title=\"psysml:ef543251-f685-45ef-999a-4058d8fef1e9\" xlink:actuate=\"onRequest\" xlink:href=\"psysml:ef543251-f685-45ef-999a-4058d8fef1e9\" xlink:show=\"new\" xlink:title=\"psysml:ef543251-f685-45ef-999a-4058d8fef1e9\" xlink:type=\"simple\"><path d=\"M382,216.84 C382,216.84 382,285.63 382,285.63 \" fill=\"none\" id=\"E3-&gt;E4\" style=\"stroke: #383838; stroke-width: 1.0; stroke-dasharray: 7.0,7.0;\"/><polygon fill=\"#383838\" points=\"382,293.63,385,285.63,379,285.63,382,293.63\" style=\"stroke: #383838; stroke-width: 1.0;\"/><text fill=\"#000000\" font-family=\"sans-serif\" font-size=\"13\" lengthAdjust=\"spacingAndGlyphs\" textLength=\"64\" x=\"383\" y=\"259.7869\">«depend»</text></a><!--MD5=[1b7591eae5389033d8d09a9d6721a717]\n",
       "link E4 to E5--><a href=\"psysml:f939ae72-3488-4da6-b797-5f4561198517\" target=\"_top\" title=\"psysml:f939ae72-3488-4da6-b797-5f4561198517\" xlink:actuate=\"onRequest\" xlink:href=\"psysml:f939ae72-3488-4da6-b797-5f4561198517\" xlink:show=\"new\" xlink:title=\"psysml:f939ae72-3488-4da6-b797-5f4561198517\" xlink:type=\"simple\"><path d=\"M382,346.84 C382,346.84 382,415.63 382,415.63 \" fill=\"none\" id=\"E4-&gt;E5\" style=\"stroke: #383838; stroke-width: 1.0; stroke-dasharray: 7.0,7.0;\"/><polygon fill=\"#383838\" points=\"382,423.63,385,415.63,379,415.63,382,423.63\" style=\"stroke: #383838; stroke-width: 1.0;\"/><text fill=\"#000000\" font-family=\"sans-serif\" font-size=\"13\" lengthAdjust=\"spacingAndGlyphs\" textLength=\"64\" x=\"383\" y=\"389.7869\">«depend»</text></a><!--MD5=[c5e8897d989ce984f93528998a7150fe]\n",
       "link E8 to E6--><a href=\"psysml:2a73c336-1214-4cbc-85e1-1f3a30fc1732\" target=\"_top\" title=\"psysml:2a73c336-1214-4cbc-85e1-1f3a30fc1732\" xlink:actuate=\"onRequest\" xlink:href=\"psysml:2a73c336-1214-4cbc-85e1-1f3a30fc1732\" xlink:show=\"new\" xlink:title=\"psysml:2a73c336-1214-4cbc-85e1-1f3a30fc1732\" xlink:type=\"simple\"><path d=\"M102,213.46 C102,213.46 102,289.18 102,289.18 \" fill=\"none\" id=\"E8-&gt;E6\" style=\"stroke: #383838; stroke-width: 1.0; stroke-dasharray: 7.0,7.0;\"/><polygon fill=\"#383838\" points=\"102,297.18,105,289.18,99,289.18,102,297.18\" style=\"stroke: #383838; stroke-width: 1.0;\"/><text fill=\"#000000\" font-family=\"sans-serif\" font-size=\"13\" lengthAdjust=\"spacingAndGlyphs\" textLength=\"64\" x=\"76\" y=\"259.7869\">«depend»</text></a><!--MD5=[bfa3c8b0d15052fdf50ae9310b491027]\n",
       "link E8 to E7--><a href=\"psysml:2a73c336-1214-4cbc-85e1-1f3a30fc1732\" target=\"_top\" title=\"psysml:2a73c336-1214-4cbc-85e1-1f3a30fc1732\" xlink:actuate=\"onRequest\" xlink:href=\"psysml:2a73c336-1214-4cbc-85e1-1f3a30fc1732\" xlink:show=\"new\" xlink:title=\"psysml:2a73c336-1214-4cbc-85e1-1f3a30fc1732\" xlink:type=\"simple\"><path d=\"M155,213.46 C155,213.46 155,289.18 155,289.18 \" fill=\"none\" id=\"E8-&gt;E7\" style=\"stroke: #383838; stroke-width: 1.0; stroke-dasharray: 7.0,7.0;\"/><polygon fill=\"#383838\" points=\"155,297.18,158,289.18,152,289.18,155,297.18\" style=\"stroke: #383838; stroke-width: 1.0;\"/><text fill=\"#000000\" font-family=\"sans-serif\" font-size=\"13\" lengthAdjust=\"spacingAndGlyphs\" textLength=\"64\" x=\"182\" y=\"259.7869\">«depend»</text></a><!--MD5=[0d765c6f94d16831323c31d9bb2175df]\n",
       "@startuml\r\n",
       "skinparam linetype ortho\r\n",
       "skinparam monochrome true\r\n",
       "skinparam classbackgroundcolor white\r\n",
       "skinparam shadowing false\r\n",
       "skinparam wrapWidth 300\r\n",
       "hide circle\r\n",
       "\r\n",
       "package \"DependencyTest\" as E1  [[psysml:30c793ee-6e7c-4739-835e-bebdfc5bf1ce ]]  {\r\n",
       "package \"System\" as E2  [[psysml:db7b2f1b-03d7-4942-9142-e18d7a555d76 ]]  {\r\n",
       "package \"Application Layer\" as E3  [[psysml:7d470368-8955-499f-8cd6-0162cc61b017 ]]  {\r\n",
       "}\r\n",
       "package \"Service Layer\" as E4  [[psysml:db30598f-7650-4b69-b852-4feea02efbf5 ]]  {\r\n",
       "}\r\n",
       "package \"Data Layer\" as E5  [[psysml:f08d8e27-e89d-40a2-8de2-c51098f76f95 ]]  {\r\n",
       "}\r\n",
       "}\r\n",
       "comp usage \"x \" as E6  <<(T,blue) attribute>> [[psysml:d66666e9-9ac5-42c6-8412-5d0a1bea61ed ]] {\r\n",
       "}\r\n",
       "comp usage \"y \" as E7  <<(T,blue) attribute>> [[psysml:4c5b6854-1a08-45b4-8136-d30683a500ef ]] {\r\n",
       "}\r\n",
       "comp usage \"z \" as E8  <<(T,blue) attribute>> [[psysml:e4676a73-900e-4cfc-90aa-035aeedcaeac ]] {\r\n",
       "}\r\n",
       "}\r\n",
       "E1 ..> E2 [[psysml:2cdf9aea-584d-4dc5-87f2-78933b91772a ]] : <<import>>*\r\n",
       "E3 ..>> E4 [[psysml:ef543251-f685-45ef-999a-4058d8fef1e9 ]] : <<depend>>\r\n",
       "E4 ..>> E5 [[psysml:f939ae72-3488-4da6-b797-5f4561198517 ]] : <<depend>>\r\n",
       "E8 ..>> E6 [[psysml:2a73c336-1214-4cbc-85e1-1f3a30fc1732 ]] : <<depend>>\r\n",
       "E8 ..>> E7 [[psysml:2a73c336-1214-4cbc-85e1-1f3a30fc1732 ]] : <<depend>>\r\n",
       "@enduml\r\n",
       "\n",
       "PlantUML version 1.2020.13(Sat Jun 13 12:26:38 UTC 2020)\n",
       "(EPL source distribution)\n",
       "Java Runtime: OpenJDK Runtime Environment\n",
       "JVM: OpenJDK 64-Bit Server VM\n",
       "Default Encoding: UTF-8\n",
       "Language: en\n",
       "Country: null\n",
       "--></g></svg>"
      ]
     },
     "execution_count": 57,
     "metadata": {},
     "output_type": "execute_result"
    }
   ],
   "source": [
    "%viz --style=\"ORTHOLINE\" --view=\"MIXED\" \"DependencyTest\""
   ]
  }
 ],
 "metadata": {
  "kernelspec": {
   "display_name": "SysML",
   "language": "sysml",
   "name": "sysml"
  },
  "language_info": {
   "codemirror_mode": "sysml",
   "file_extension": ".sysml",
   "mimetype": "text/x-sysml",
   "name": "SysML",
   "pygments_lexer": "java",
   "version": "1.0.0"
  }
 },
 "nbformat": 4,
 "nbformat_minor": 5
}
