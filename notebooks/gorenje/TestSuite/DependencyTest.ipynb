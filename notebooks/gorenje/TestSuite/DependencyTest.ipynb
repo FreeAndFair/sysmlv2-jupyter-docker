{
 "cells": [
  {
   "cell_type": "markdown",
   "id": "capable-physics",
   "metadata": {},
   "source": [
    "# SysML v2 Test Suite\n",
    "\n",
    "This can notebook can be cleared using menu `Edit --> Clear All Outputs` and then all cells can be\n",
    "run using menu `Run --> Run All Cells`.\n",
    "\n",
    "**WARNING**: This file is generated, all modifications here will be ignored.\n"
   ]
  },
  {
   "cell_type": "markdown",
   "id": "documented-requirement",
   "metadata": {},
   "source": [
    "## File: ../../sysml/src/examples/Simple Tests/DependencyTest.sysml"
   ]
  },
  {
   "cell_type": "code",
   "execution_count": 1,
   "id": "amended-relief",
   "metadata": {
    "execution": {
     "iopub.execute_input": "2021-03-25T15:09:42.834645Z",
     "iopub.status.busy": "2021-03-25T15:09:42.833794Z",
     "iopub.status.idle": "2021-03-25T15:09:42.896927Z",
     "shell.execute_reply": "2021-03-25T15:09:42.896443Z"
    }
   },
   "outputs": [
    {
     "data": {
      "text/plain": [
       "Package DependencyTest (7f3b7b43-9299-4678-ab13-3311a8ec7138)\n"
      ]
     },
     "execution_count": 1,
     "metadata": {},
     "output_type": "execute_result"
    }
   ],
   "source": [
    "package DependencyTest {\n",
    "\t\n",
    "\tpackage System {\n",
    "\t\tpackage 'Application Layer';\n",
    "\t\tpackage 'Service Layer';\n",
    "\t\tpackage 'Data Layer';\n",
    "\t}\n",
    "\t\n",
    "\timport System::*;\n",
    "\t\n",
    "\tdependency Use from 'Application Layer' to 'Service Layer';\n",
    "\tdependency from 'Service Layer' to 'Data Layer';\n",
    "\t\n",
    "\tattribute x;\n",
    "\tattribute y;\n",
    "\tattribute z;\n",
    "\t\n",
    "\tdependency z to x, y;\n",
    "\t\n",
    "}"
   ]
  },
  {
   "cell_type": "code",
   "execution_count": 2,
   "id": "massive-interim",
   "metadata": {
    "execution": {
     "iopub.execute_input": "2021-03-25T15:09:42.949552Z",
     "iopub.status.busy": "2021-03-25T15:09:42.948928Z",
     "iopub.status.idle": "2021-03-25T15:09:43.796114Z",
     "shell.execute_reply": "2021-03-25T15:09:43.796549Z"
    }
   },
   "outputs": [
    {
     "data": {
      "image/svg+xml": [
       "<?xml version=\"1.0\" encoding=\"UTF-8\" standalone=\"no\"?><svg xmlns=\"http://www.w3.org/2000/svg\" xmlns:xlink=\"http://www.w3.org/1999/xlink\" contentScriptType=\"application/ecmascript\" contentStyleType=\"text/css\" height=\"449px\" preserveAspectRatio=\"none\" style=\"width:510px;height:449px;\" version=\"1.1\" viewBox=\"0 0 510 449\" width=\"510px\" zoomAndPan=\"magnify\"><defs><filter height=\"300%\" id=\"fgz1w14tekmy0\" width=\"300%\" x=\"-1\" y=\"-1\"><feGaussianBlur result=\"blurOut\" stdDeviation=\"2.0\"/><feColorMatrix in=\"blurOut\" result=\"blurOut2\" type=\"matrix\" values=\"0 0 0 0 0 0 0 0 0 0 0 0 0 0 0 0 0 0 .4 0\"/><feOffset dx=\"4.0\" dy=\"4.0\" in=\"blurOut2\" result=\"blurOut3\"/><feBlend in=\"SourceGraphic\" in2=\"blurOut3\" mode=\"normal\"/></filter></defs><g><!--MD5=[fbc87193dbaf4d95561dea2c320d4a47]\n",
       "cluster E1--><a href=\"psysml:01e86263-1e08-4c5e-80c8-9f3a01cb2b1c\" target=\"_top\" title=\"psysml:01e86263-1e08-4c5e-80c8-9f3a01cb2b1c\" xlink:actuate=\"onRequest\" xlink:href=\"psysml:01e86263-1e08-4c5e-80c8-9f3a01cb2b1c\" xlink:show=\"new\" xlink:title=\"psysml:01e86263-1e08-4c5e-80c8-9f3a01cb2b1c\" xlink:type=\"simple\"><polygon fill=\"#FFFFFF\" filter=\"url(#fgz1w14tekmy0)\" points=\"16,6,156,6,163,28.2969,488,28.2969,488,437,16,437,16,6\" style=\"stroke: #000000; stroke-width: 1.5;\"/><line style=\"stroke: #000000; stroke-width: 1.5;\" x1=\"16\" x2=\"163\" y1=\"28.2969\" y2=\"28.2969\"/><text fill=\"#000000\" font-family=\"sans-serif\" font-size=\"14\" font-weight=\"bold\" lengthAdjust=\"spacingAndGlyphs\" textLength=\"134\" x=\"20\" y=\"20.9951\">DependencyTest</text></a><!--MD5=[e4f7fae6ed58524ba242bb0b0d3be6b7]\n",
       "cluster E2--><a href=\"psysml:65d9c171-277b-4a12-8988-537cd17218fe\" target=\"_top\" title=\"psysml:65d9c171-277b-4a12-8988-537cd17218fe\" xlink:actuate=\"onRequest\" xlink:href=\"psysml:65d9c171-277b-4a12-8988-537cd17218fe\" xlink:show=\"new\" xlink:title=\"psysml:65d9c171-277b-4a12-8988-537cd17218fe\" xlink:type=\"simple\"><polygon fill=\"#FFFFFF\" filter=\"url(#fgz1w14tekmy0)\" points=\"276,49,340,49,347,71.2969,464,71.2969,464,413,276,413,276,49\" style=\"stroke: #000000; stroke-width: 1.5;\"/><line style=\"stroke: #000000; stroke-width: 1.5;\" x1=\"276\" x2=\"347\" y1=\"71.2969\" y2=\"71.2969\"/><text fill=\"#000000\" font-family=\"sans-serif\" font-size=\"14\" font-weight=\"bold\" lengthAdjust=\"spacingAndGlyphs\" textLength=\"58\" x=\"280\" y=\"63.9951\">System</text></a><!--MD5=[60a26617385b1d2d0262a64233df1f8d]\n",
       "class E6--><a href=\"psysml:3f429861-8945-458a-afac-b9814097464d\" target=\"_top\" title=\"psysml:3f429861-8945-458a-afac-b9814097464d\" xlink:actuate=\"onRequest\" xlink:href=\"psysml:3f429861-8945-458a-afac-b9814097464d\" xlink:show=\"new\" xlink:title=\"psysml:3f429861-8945-458a-afac-b9814097464d\" xlink:type=\"simple\"><rect fill=\"#FEFECE\" filter=\"url(#fgz1w14tekmy0)\" height=\"45.9375\" id=\"E6\" rx=\"10\" ry=\"10\" style=\"stroke: #A80036; stroke-width: 1.5;\" width=\"97\" x=\"31.5\" y=\"217.5\"/><ellipse cx=\"46.5\" cy=\"236.4688\" fill=\"#0000FF\" rx=\"11\" ry=\"11\" style=\"stroke: #A80036; stroke-width: 1.0;\"/><path d=\"M47.3438,243.2188 L44.8906,243.2188 L44.8906,232.9688 L41.75,232.9688 L41.75,230.8281 L50.4844,230.8281 L50.4844,232.9688 L47.3438,232.9688 L47.3438,243.2188 Z \"/><text fill=\"#000000\" font-family=\"sans-serif\" font-size=\"12\" font-style=\"italic\" lengthAdjust=\"spacingAndGlyphs\" textLength=\"69\" x=\"58.5\" y=\"233.6387\">«attribute»</text><text fill=\"#000000\" font-family=\"sans-serif\" font-size=\"12\" lengthAdjust=\"spacingAndGlyphs\" textLength=\"6\" x=\"90\" y=\"247.6074\">x</text><line style=\"stroke: #A80036; stroke-width: 1.5;\" x1=\"32.5\" x2=\"127.5\" y1=\"255.4375\" y2=\"255.4375\"/></a><!--MD5=[2156ba9850f5573cc1fc38a6a4b2f02b]\n",
       "class E7--><a href=\"psysml:f3318431-0d45-43ea-b254-330318c85eb0\" target=\"_top\" title=\"psysml:f3318431-0d45-43ea-b254-330318c85eb0\" xlink:actuate=\"onRequest\" xlink:href=\"psysml:f3318431-0d45-43ea-b254-330318c85eb0\" xlink:show=\"new\" xlink:title=\"psysml:f3318431-0d45-43ea-b254-330318c85eb0\" xlink:type=\"simple\"><rect fill=\"#FEFECE\" filter=\"url(#fgz1w14tekmy0)\" height=\"45.9375\" id=\"E7\" rx=\"10\" ry=\"10\" style=\"stroke: #A80036; stroke-width: 1.5;\" width=\"97\" x=\"163.5\" y=\"217.5\"/><ellipse cx=\"178.5\" cy=\"236.4688\" fill=\"#0000FF\" rx=\"11\" ry=\"11\" style=\"stroke: #A80036; stroke-width: 1.0;\"/><path d=\"M179.3438,243.2188 L176.8906,243.2188 L176.8906,232.9688 L173.75,232.9688 L173.75,230.8281 L182.4844,230.8281 L182.4844,232.9688 L179.3438,232.9688 L179.3438,243.2188 Z \"/><text fill=\"#000000\" font-family=\"sans-serif\" font-size=\"12\" font-style=\"italic\" lengthAdjust=\"spacingAndGlyphs\" textLength=\"69\" x=\"190.5\" y=\"233.6387\">«attribute»</text><text fill=\"#000000\" font-family=\"sans-serif\" font-size=\"12\" lengthAdjust=\"spacingAndGlyphs\" textLength=\"6\" x=\"222\" y=\"247.6074\">y</text><line style=\"stroke: #A80036; stroke-width: 1.5;\" x1=\"164.5\" x2=\"259.5\" y1=\"255.4375\" y2=\"255.4375\"/></a><!--MD5=[b9389687b975829384b498ac4b7476b2]\n",
       "class E8--><a href=\"psysml:da180d87-042d-4ade-81c9-b5201399a446\" target=\"_top\" title=\"psysml:da180d87-042d-4ade-81c9-b5201399a446\" xlink:actuate=\"onRequest\" xlink:href=\"psysml:da180d87-042d-4ade-81c9-b5201399a446\" xlink:show=\"new\" xlink:title=\"psysml:da180d87-042d-4ade-81c9-b5201399a446\" xlink:type=\"simple\"><rect fill=\"#FEFECE\" filter=\"url(#fgz1w14tekmy0)\" height=\"45.9375\" id=\"E8\" rx=\"10\" ry=\"10\" style=\"stroke: #A80036; stroke-width: 1.5;\" width=\"97\" x=\"84.5\" y=\"87.5\"/><ellipse cx=\"99.5\" cy=\"106.4688\" fill=\"#0000FF\" rx=\"11\" ry=\"11\" style=\"stroke: #A80036; stroke-width: 1.0;\"/><path d=\"M100.3438,113.2188 L97.8906,113.2188 L97.8906,102.9688 L94.75,102.9688 L94.75,100.8281 L103.4844,100.8281 L103.4844,102.9688 L100.3438,102.9688 L100.3438,113.2188 Z \"/><text fill=\"#000000\" font-family=\"sans-serif\" font-size=\"12\" font-style=\"italic\" lengthAdjust=\"spacingAndGlyphs\" textLength=\"69\" x=\"111.5\" y=\"103.6387\">«attribute»</text><text fill=\"#000000\" font-family=\"sans-serif\" font-size=\"12\" lengthAdjust=\"spacingAndGlyphs\" textLength=\"5\" x=\"143.5\" y=\"117.6074\">z</text><line style=\"stroke: #A80036; stroke-width: 1.5;\" x1=\"85.5\" x2=\"180.5\" y1=\"125.4375\" y2=\"125.4375\"/></a><a href=\"psysml:7bbe8935-ee6e-44c3-abf9-e711bcee98e7\" target=\"_top\" title=\"psysml:7bbe8935-ee6e-44c3-abf9-e711bcee98e7\" xlink:actuate=\"onRequest\" xlink:href=\"psysml:7bbe8935-ee6e-44c3-abf9-e711bcee98e7\" xlink:show=\"new\" xlink:title=\"psysml:7bbe8935-ee6e-44c3-abf9-e711bcee98e7\" xlink:type=\"simple\"><polygon fill=\"#FFFFFF\" filter=\"url(#fgz1w14tekmy0)\" points=\"292,84,434,84,441,106.2969,448,106.2969,448,136.5938,292,136.5938,292,84\" style=\"stroke: #000000; stroke-width: 1.5;\"/><line style=\"stroke: #000000; stroke-width: 1.5;\" x1=\"292\" x2=\"441\" y1=\"106.2969\" y2=\"106.2969\"/><text fill=\"#000000\" font-family=\"sans-serif\" font-size=\"14\" font-weight=\"bold\" lengthAdjust=\"spacingAndGlyphs\" textLength=\"136\" x=\"296\" y=\"98.9951\">Application Layer</text></a><a href=\"psysml:8539df59-9777-43d1-9cbc-191f1e3b0af0\" target=\"_top\" title=\"psysml:8539df59-9777-43d1-9cbc-191f1e3b0af0\" xlink:actuate=\"onRequest\" xlink:href=\"psysml:8539df59-9777-43d1-9cbc-191f1e3b0af0\" xlink:show=\"new\" xlink:title=\"psysml:8539df59-9777-43d1-9cbc-191f1e3b0af0\" xlink:type=\"simple\"><polygon fill=\"#FFFFFF\" filter=\"url(#fgz1w14tekmy0)\" points=\"306,214,420,214,427,236.2969,434,236.2969,434,266.5938,306,266.5938,306,214\" style=\"stroke: #000000; stroke-width: 1.5;\"/><line style=\"stroke: #000000; stroke-width: 1.5;\" x1=\"306\" x2=\"427\" y1=\"236.2969\" y2=\"236.2969\"/><text fill=\"#000000\" font-family=\"sans-serif\" font-size=\"14\" font-weight=\"bold\" lengthAdjust=\"spacingAndGlyphs\" textLength=\"108\" x=\"310\" y=\"228.9951\">Service Layer</text></a><a href=\"psysml:06e8cf4d-e880-4b5c-8fdb-0871598a4cb3\" target=\"_top\" title=\"psysml:06e8cf4d-e880-4b5c-8fdb-0871598a4cb3\" xlink:actuate=\"onRequest\" xlink:href=\"psysml:06e8cf4d-e880-4b5c-8fdb-0871598a4cb3\" xlink:show=\"new\" xlink:title=\"psysml:06e8cf4d-e880-4b5c-8fdb-0871598a4cb3\" xlink:type=\"simple\"><polygon fill=\"#FFFFFF\" filter=\"url(#fgz1w14tekmy0)\" points=\"318,344,408,344,415,366.2969,422,366.2969,422,396.5938,318,396.5938,318,344\" style=\"stroke: #000000; stroke-width: 1.5;\"/><line style=\"stroke: #000000; stroke-width: 1.5;\" x1=\"318\" x2=\"415\" y1=\"366.2969\" y2=\"366.2969\"/><text fill=\"#000000\" font-family=\"sans-serif\" font-size=\"14\" font-weight=\"bold\" lengthAdjust=\"spacingAndGlyphs\" textLength=\"84\" x=\"322\" y=\"358.9951\">Data Layer</text></a><!--MD5=[af87c684e3b0d8be13c1a698a818ef1e]\n",
       "link E3 to E4--><a href=\"psysml:ddd06611-1e40-467d-8133-a183585a6da5\" target=\"_top\" title=\"psysml:ddd06611-1e40-467d-8133-a183585a6da5\" xlink:actuate=\"onRequest\" xlink:href=\"psysml:ddd06611-1e40-467d-8133-a183585a6da5\" xlink:show=\"new\" xlink:title=\"psysml:ddd06611-1e40-467d-8133-a183585a6da5\" xlink:type=\"simple\"><path d=\"M370,137.1 C370,156.8 370,184.22 370,205.73 \" fill=\"none\" id=\"E3-&gt;E4\" style=\"stroke: #A80036; stroke-width: 1.0; stroke-dasharray: 7.0,7.0;\"/><polygon fill=\"#A80036\" points=\"370,213.95,373,205.95,367,205.95,370,213.95\" style=\"stroke: #A80036; stroke-width: 1.0;\"/><text fill=\"#000000\" font-family=\"sans-serif\" font-size=\"13\" lengthAdjust=\"spacingAndGlyphs\" textLength=\"64\" x=\"371\" y=\"180.0669\">«depend»</text></a><!--MD5=[1b7591eae5389033d8d09a9d6721a717]\n",
       "link E4 to E5--><a href=\"psysml:b5c0928c-fbc9-4433-ab1e-c084bfbcebd5\" target=\"_top\" title=\"psysml:b5c0928c-fbc9-4433-ab1e-c084bfbcebd5\" xlink:actuate=\"onRequest\" xlink:href=\"psysml:b5c0928c-fbc9-4433-ab1e-c084bfbcebd5\" xlink:show=\"new\" xlink:title=\"psysml:b5c0928c-fbc9-4433-ab1e-c084bfbcebd5\" xlink:type=\"simple\"><path d=\"M370,267.1 C370,286.8 370,314.22 370,335.73 \" fill=\"none\" id=\"E4-&gt;E5\" style=\"stroke: #A80036; stroke-width: 1.0; stroke-dasharray: 7.0,7.0;\"/><polygon fill=\"#A80036\" points=\"370,343.95,373,335.95,367,335.95,370,343.95\" style=\"stroke: #A80036; stroke-width: 1.0;\"/><text fill=\"#000000\" font-family=\"sans-serif\" font-size=\"13\" lengthAdjust=\"spacingAndGlyphs\" textLength=\"64\" x=\"371\" y=\"310.0669\">«depend»</text></a><!--MD5=[c5e8897d989ce984f93528998a7150fe]\n",
       "link E8 to E6--><a href=\"psysml:a0e318cd-0c17-433c-bc04-dbf1eaa3473c\" target=\"_top\" title=\"psysml:a0e318cd-0c17-433c-bc04-dbf1eaa3473c\" xlink:actuate=\"onRequest\" xlink:href=\"psysml:a0e318cd-0c17-433c-bc04-dbf1eaa3473c\" xlink:show=\"new\" xlink:title=\"psysml:a0e318cd-0c17-433c-bc04-dbf1eaa3473c\" xlink:type=\"simple\"><path d=\"M106.44,133.76 C97.3,143.01 88.09,154.51 83,167 C77.6,180.23 76.4,195.98 76.73,209.41 \" fill=\"none\" id=\"E8-&gt;E6\" style=\"stroke: #A80036; stroke-width: 1.0; stroke-dasharray: 7.0,7.0;\"/><polygon fill=\"#A80036\" points=\"77.12,217.43,79.7306,209.2946,73.7375,209.584,77.12,217.43\" style=\"stroke: #A80036; stroke-width: 1.0;\"/><text fill=\"#000000\" font-family=\"sans-serif\" font-size=\"13\" lengthAdjust=\"spacingAndGlyphs\" textLength=\"64\" x=\"84\" y=\"180.0669\">«depend»</text></a><!--MD5=[bfa3c8b0d15052fdf50ae9310b491027]\n",
       "link E8 to E7--><a href=\"psysml:a0e318cd-0c17-433c-bc04-dbf1eaa3473c\" target=\"_top\" title=\"psysml:a0e318cd-0c17-433c-bc04-dbf1eaa3473c\" xlink:actuate=\"onRequest\" xlink:href=\"psysml:a0e318cd-0c17-433c-bc04-dbf1eaa3473c\" xlink:show=\"new\" xlink:title=\"psysml:a0e318cd-0c17-433c-bc04-dbf1eaa3473c\" xlink:type=\"simple\"><path d=\"M146.58,133.5 C159.69,154.75 179.63,187.05 194.05,210.41 \" fill=\"none\" id=\"E8-&gt;E7\" style=\"stroke: #A80036; stroke-width: 1.0; stroke-dasharray: 7.0,7.0;\"/><polygon fill=\"#A80036\" points=\"198.33,217.35,196.6785,208.9671,191.5737,212.1201,198.33,217.35\" style=\"stroke: #A80036; stroke-width: 1.0;\"/><text fill=\"#000000\" font-family=\"sans-serif\" font-size=\"13\" lengthAdjust=\"spacingAndGlyphs\" textLength=\"64\" x=\"178\" y=\"180.0669\">«depend»</text></a><!--MD5=[7ad5a0597c458d0b76cb123d7b86e1d8]\n",
       "@startuml\r\n",
       " \r\n",
       "package \"DependencyTest\" as E1  [[psysml:01e86263-1e08-4c5e-80c8-9f3a01cb2b1c ]]  {\r\n",
       "package \"System\" as E2  [[psysml:65d9c171-277b-4a12-8988-537cd17218fe ]]  {\r\n",
       "package \"Application Layer\" as E3  [[psysml:7bbe8935-ee6e-44c3-abf9-e711bcee98e7 ]]  {\r\n",
       "}\r\n",
       "package \"Service Layer\" as E4  [[psysml:8539df59-9777-43d1-9cbc-191f1e3b0af0 ]]  {\r\n",
       "}\r\n",
       "package \"Data Layer\" as E5  [[psysml:06e8cf4d-e880-4b5c-8fdb-0871598a4cb3 ]]  {\r\n",
       "}\r\n",
       "}\r\n",
       "comp usage \"x\" as E6  <<(T,blue)attribute>> [[psysml:3f429861-8945-458a-afac-b9814097464d ]] {\r\n",
       "}\r\n",
       "comp usage \"y\" as E7  <<(T,blue)attribute>> [[psysml:f3318431-0d45-43ea-b254-330318c85eb0 ]] {\r\n",
       "}\r\n",
       "comp usage \"z\" as E8  <<(T,blue)attribute>> [[psysml:da180d87-042d-4ade-81c9-b5201399a446 ]] {\r\n",
       "}\r\n",
       "E3 ..>> E4 [[psysml:ddd06611-1e40-467d-8133-a183585a6da5 ]] : <<depend>>\r\n",
       "E4 ..>> E5 [[psysml:b5c0928c-fbc9-4433-ab1e-c084bfbcebd5 ]] : <<depend>>\r\n",
       "E8 ..>> E6 [[psysml:a0e318cd-0c17-433c-bc04-dbf1eaa3473c ]] : <<depend>>\r\n",
       "E8 ..>> E7 [[psysml:a0e318cd-0c17-433c-bc04-dbf1eaa3473c ]] : <<depend>>\r\n",
       "}\r\n",
       "@enduml\r\n",
       "\n",
       "PlantUML version 1.2020.13(Sat Jun 13 12:26:38 UTC 2020)\n",
       "(EPL source distribution)\n",
       "Java Runtime: OpenJDK Runtime Environment\n",
       "JVM: OpenJDK 64-Bit Server VM\n",
       "Default Encoding: UTF-8\n",
       "Language: en\n",
       "Country: null\n",
       "--></g></svg>"
      ]
     },
     "execution_count": 2,
     "metadata": {},
     "output_type": "execute_result"
    }
   ],
   "source": [
    "%viz --style=\"COMPTREE\" --view=\"Default\" \"DependencyTest\""
   ]
  },
  {
   "cell_type": "code",
   "execution_count": 3,
   "id": "encouraging-girlfriend",
   "metadata": {
    "execution": {
     "iopub.execute_input": "2021-03-25T15:09:43.848226Z",
     "iopub.status.busy": "2021-03-25T15:09:43.847629Z",
     "iopub.status.idle": "2021-03-25T15:09:43.989977Z",
     "shell.execute_reply": "2021-03-25T15:09:43.990453Z"
    }
   },
   "outputs": [
    {
     "data": {
      "image/svg+xml": [
       "<?xml version=\"1.0\" encoding=\"UTF-8\" standalone=\"no\"?><svg xmlns=\"http://www.w3.org/2000/svg\" xmlns:xlink=\"http://www.w3.org/1999/xlink\" contentScriptType=\"application/ecmascript\" contentStyleType=\"text/css\" height=\"449px\" preserveAspectRatio=\"none\" style=\"width:510px;height:449px;\" version=\"1.1\" viewBox=\"0 0 510 449\" width=\"510px\" zoomAndPan=\"magnify\"><defs><filter height=\"300%\" id=\"fgz1w14tekmy0\" width=\"300%\" x=\"-1\" y=\"-1\"><feGaussianBlur result=\"blurOut\" stdDeviation=\"2.0\"/><feColorMatrix in=\"blurOut\" result=\"blurOut2\" type=\"matrix\" values=\"0 0 0 0 0 0 0 0 0 0 0 0 0 0 0 0 0 0 .4 0\"/><feOffset dx=\"4.0\" dy=\"4.0\" in=\"blurOut2\" result=\"blurOut3\"/><feBlend in=\"SourceGraphic\" in2=\"blurOut3\" mode=\"normal\"/></filter></defs><g><!--MD5=[fbc87193dbaf4d95561dea2c320d4a47]\n",
       "cluster E1--><a href=\"psysml:01e86263-1e08-4c5e-80c8-9f3a01cb2b1c\" target=\"_top\" title=\"psysml:01e86263-1e08-4c5e-80c8-9f3a01cb2b1c\" xlink:actuate=\"onRequest\" xlink:href=\"psysml:01e86263-1e08-4c5e-80c8-9f3a01cb2b1c\" xlink:show=\"new\" xlink:title=\"psysml:01e86263-1e08-4c5e-80c8-9f3a01cb2b1c\" xlink:type=\"simple\"><polygon fill=\"#FFFFFF\" filter=\"url(#fgz1w14tekmy0)\" points=\"16,6,156,6,163,28.2969,488,28.2969,488,437,16,437,16,6\" style=\"stroke: #000000; stroke-width: 1.5;\"/><line style=\"stroke: #000000; stroke-width: 1.5;\" x1=\"16\" x2=\"163\" y1=\"28.2969\" y2=\"28.2969\"/><text fill=\"#000000\" font-family=\"sans-serif\" font-size=\"14\" font-weight=\"bold\" lengthAdjust=\"spacingAndGlyphs\" textLength=\"134\" x=\"20\" y=\"20.9951\">DependencyTest</text></a><!--MD5=[e4f7fae6ed58524ba242bb0b0d3be6b7]\n",
       "cluster E2--><a href=\"psysml:65d9c171-277b-4a12-8988-537cd17218fe\" target=\"_top\" title=\"psysml:65d9c171-277b-4a12-8988-537cd17218fe\" xlink:actuate=\"onRequest\" xlink:href=\"psysml:65d9c171-277b-4a12-8988-537cd17218fe\" xlink:show=\"new\" xlink:title=\"psysml:65d9c171-277b-4a12-8988-537cd17218fe\" xlink:type=\"simple\"><polygon fill=\"#FFFFFF\" filter=\"url(#fgz1w14tekmy0)\" points=\"276,49,340,49,347,71.2969,464,71.2969,464,413,276,413,276,49\" style=\"stroke: #000000; stroke-width: 1.5;\"/><line style=\"stroke: #000000; stroke-width: 1.5;\" x1=\"276\" x2=\"347\" y1=\"71.2969\" y2=\"71.2969\"/><text fill=\"#000000\" font-family=\"sans-serif\" font-size=\"14\" font-weight=\"bold\" lengthAdjust=\"spacingAndGlyphs\" textLength=\"58\" x=\"280\" y=\"63.9951\">System</text></a><!--MD5=[60a26617385b1d2d0262a64233df1f8d]\n",
       "class E6--><a href=\"psysml:3f429861-8945-458a-afac-b9814097464d\" target=\"_top\" title=\"psysml:3f429861-8945-458a-afac-b9814097464d\" xlink:actuate=\"onRequest\" xlink:href=\"psysml:3f429861-8945-458a-afac-b9814097464d\" xlink:show=\"new\" xlink:title=\"psysml:3f429861-8945-458a-afac-b9814097464d\" xlink:type=\"simple\"><rect fill=\"#FEFECE\" filter=\"url(#fgz1w14tekmy0)\" height=\"45.9375\" id=\"E6\" rx=\"10\" ry=\"10\" style=\"stroke: #A80036; stroke-width: 1.5;\" width=\"97\" x=\"31.5\" y=\"217.5\"/><ellipse cx=\"46.5\" cy=\"236.4688\" fill=\"#0000FF\" rx=\"11\" ry=\"11\" style=\"stroke: #A80036; stroke-width: 1.0;\"/><path d=\"M47.3438,243.2188 L44.8906,243.2188 L44.8906,232.9688 L41.75,232.9688 L41.75,230.8281 L50.4844,230.8281 L50.4844,232.9688 L47.3438,232.9688 L47.3438,243.2188 Z \"/><text fill=\"#000000\" font-family=\"sans-serif\" font-size=\"12\" font-style=\"italic\" lengthAdjust=\"spacingAndGlyphs\" textLength=\"69\" x=\"58.5\" y=\"233.6387\">«attribute»</text><text fill=\"#000000\" font-family=\"sans-serif\" font-size=\"12\" lengthAdjust=\"spacingAndGlyphs\" textLength=\"6\" x=\"90\" y=\"247.6074\">x</text><line style=\"stroke: #A80036; stroke-width: 1.5;\" x1=\"32.5\" x2=\"127.5\" y1=\"255.4375\" y2=\"255.4375\"/></a><!--MD5=[2156ba9850f5573cc1fc38a6a4b2f02b]\n",
       "class E7--><a href=\"psysml:f3318431-0d45-43ea-b254-330318c85eb0\" target=\"_top\" title=\"psysml:f3318431-0d45-43ea-b254-330318c85eb0\" xlink:actuate=\"onRequest\" xlink:href=\"psysml:f3318431-0d45-43ea-b254-330318c85eb0\" xlink:show=\"new\" xlink:title=\"psysml:f3318431-0d45-43ea-b254-330318c85eb0\" xlink:type=\"simple\"><rect fill=\"#FEFECE\" filter=\"url(#fgz1w14tekmy0)\" height=\"45.9375\" id=\"E7\" rx=\"10\" ry=\"10\" style=\"stroke: #A80036; stroke-width: 1.5;\" width=\"97\" x=\"163.5\" y=\"217.5\"/><ellipse cx=\"178.5\" cy=\"236.4688\" fill=\"#0000FF\" rx=\"11\" ry=\"11\" style=\"stroke: #A80036; stroke-width: 1.0;\"/><path d=\"M179.3438,243.2188 L176.8906,243.2188 L176.8906,232.9688 L173.75,232.9688 L173.75,230.8281 L182.4844,230.8281 L182.4844,232.9688 L179.3438,232.9688 L179.3438,243.2188 Z \"/><text fill=\"#000000\" font-family=\"sans-serif\" font-size=\"12\" font-style=\"italic\" lengthAdjust=\"spacingAndGlyphs\" textLength=\"69\" x=\"190.5\" y=\"233.6387\">«attribute»</text><text fill=\"#000000\" font-family=\"sans-serif\" font-size=\"12\" lengthAdjust=\"spacingAndGlyphs\" textLength=\"6\" x=\"222\" y=\"247.6074\">y</text><line style=\"stroke: #A80036; stroke-width: 1.5;\" x1=\"164.5\" x2=\"259.5\" y1=\"255.4375\" y2=\"255.4375\"/></a><!--MD5=[b9389687b975829384b498ac4b7476b2]\n",
       "class E8--><a href=\"psysml:da180d87-042d-4ade-81c9-b5201399a446\" target=\"_top\" title=\"psysml:da180d87-042d-4ade-81c9-b5201399a446\" xlink:actuate=\"onRequest\" xlink:href=\"psysml:da180d87-042d-4ade-81c9-b5201399a446\" xlink:show=\"new\" xlink:title=\"psysml:da180d87-042d-4ade-81c9-b5201399a446\" xlink:type=\"simple\"><rect fill=\"#FEFECE\" filter=\"url(#fgz1w14tekmy0)\" height=\"45.9375\" id=\"E8\" rx=\"10\" ry=\"10\" style=\"stroke: #A80036; stroke-width: 1.5;\" width=\"97\" x=\"84.5\" y=\"87.5\"/><ellipse cx=\"99.5\" cy=\"106.4688\" fill=\"#0000FF\" rx=\"11\" ry=\"11\" style=\"stroke: #A80036; stroke-width: 1.0;\"/><path d=\"M100.3438,113.2188 L97.8906,113.2188 L97.8906,102.9688 L94.75,102.9688 L94.75,100.8281 L103.4844,100.8281 L103.4844,102.9688 L100.3438,102.9688 L100.3438,113.2188 Z \"/><text fill=\"#000000\" font-family=\"sans-serif\" font-size=\"12\" font-style=\"italic\" lengthAdjust=\"spacingAndGlyphs\" textLength=\"69\" x=\"111.5\" y=\"103.6387\">«attribute»</text><text fill=\"#000000\" font-family=\"sans-serif\" font-size=\"12\" lengthAdjust=\"spacingAndGlyphs\" textLength=\"5\" x=\"143.5\" y=\"117.6074\">z</text><line style=\"stroke: #A80036; stroke-width: 1.5;\" x1=\"85.5\" x2=\"180.5\" y1=\"125.4375\" y2=\"125.4375\"/></a><a href=\"psysml:7bbe8935-ee6e-44c3-abf9-e711bcee98e7\" target=\"_top\" title=\"psysml:7bbe8935-ee6e-44c3-abf9-e711bcee98e7\" xlink:actuate=\"onRequest\" xlink:href=\"psysml:7bbe8935-ee6e-44c3-abf9-e711bcee98e7\" xlink:show=\"new\" xlink:title=\"psysml:7bbe8935-ee6e-44c3-abf9-e711bcee98e7\" xlink:type=\"simple\"><polygon fill=\"#FFFFFF\" filter=\"url(#fgz1w14tekmy0)\" points=\"292,84,434,84,441,106.2969,448,106.2969,448,136.5938,292,136.5938,292,84\" style=\"stroke: #000000; stroke-width: 1.5;\"/><line style=\"stroke: #000000; stroke-width: 1.5;\" x1=\"292\" x2=\"441\" y1=\"106.2969\" y2=\"106.2969\"/><text fill=\"#000000\" font-family=\"sans-serif\" font-size=\"14\" font-weight=\"bold\" lengthAdjust=\"spacingAndGlyphs\" textLength=\"136\" x=\"296\" y=\"98.9951\">Application Layer</text></a><a href=\"psysml:8539df59-9777-43d1-9cbc-191f1e3b0af0\" target=\"_top\" title=\"psysml:8539df59-9777-43d1-9cbc-191f1e3b0af0\" xlink:actuate=\"onRequest\" xlink:href=\"psysml:8539df59-9777-43d1-9cbc-191f1e3b0af0\" xlink:show=\"new\" xlink:title=\"psysml:8539df59-9777-43d1-9cbc-191f1e3b0af0\" xlink:type=\"simple\"><polygon fill=\"#FFFFFF\" filter=\"url(#fgz1w14tekmy0)\" points=\"306,214,420,214,427,236.2969,434,236.2969,434,266.5938,306,266.5938,306,214\" style=\"stroke: #000000; stroke-width: 1.5;\"/><line style=\"stroke: #000000; stroke-width: 1.5;\" x1=\"306\" x2=\"427\" y1=\"236.2969\" y2=\"236.2969\"/><text fill=\"#000000\" font-family=\"sans-serif\" font-size=\"14\" font-weight=\"bold\" lengthAdjust=\"spacingAndGlyphs\" textLength=\"108\" x=\"310\" y=\"228.9951\">Service Layer</text></a><a href=\"psysml:06e8cf4d-e880-4b5c-8fdb-0871598a4cb3\" target=\"_top\" title=\"psysml:06e8cf4d-e880-4b5c-8fdb-0871598a4cb3\" xlink:actuate=\"onRequest\" xlink:href=\"psysml:06e8cf4d-e880-4b5c-8fdb-0871598a4cb3\" xlink:show=\"new\" xlink:title=\"psysml:06e8cf4d-e880-4b5c-8fdb-0871598a4cb3\" xlink:type=\"simple\"><polygon fill=\"#FFFFFF\" filter=\"url(#fgz1w14tekmy0)\" points=\"318,344,408,344,415,366.2969,422,366.2969,422,396.5938,318,396.5938,318,344\" style=\"stroke: #000000; stroke-width: 1.5;\"/><line style=\"stroke: #000000; stroke-width: 1.5;\" x1=\"318\" x2=\"415\" y1=\"366.2969\" y2=\"366.2969\"/><text fill=\"#000000\" font-family=\"sans-serif\" font-size=\"14\" font-weight=\"bold\" lengthAdjust=\"spacingAndGlyphs\" textLength=\"84\" x=\"322\" y=\"358.9951\">Data Layer</text></a><!--MD5=[af87c684e3b0d8be13c1a698a818ef1e]\n",
       "link E3 to E4--><a href=\"psysml:ddd06611-1e40-467d-8133-a183585a6da5\" target=\"_top\" title=\"psysml:ddd06611-1e40-467d-8133-a183585a6da5\" xlink:actuate=\"onRequest\" xlink:href=\"psysml:ddd06611-1e40-467d-8133-a183585a6da5\" xlink:show=\"new\" xlink:title=\"psysml:ddd06611-1e40-467d-8133-a183585a6da5\" xlink:type=\"simple\"><path d=\"M370,137.1 C370,156.8 370,184.22 370,205.73 \" fill=\"none\" id=\"E3-&gt;E4\" style=\"stroke: #A80036; stroke-width: 1.0; stroke-dasharray: 7.0,7.0;\"/><polygon fill=\"#A80036\" points=\"370,213.95,373,205.95,367,205.95,370,213.95\" style=\"stroke: #A80036; stroke-width: 1.0;\"/><text fill=\"#000000\" font-family=\"sans-serif\" font-size=\"13\" lengthAdjust=\"spacingAndGlyphs\" textLength=\"64\" x=\"371\" y=\"180.0669\">«depend»</text></a><!--MD5=[1b7591eae5389033d8d09a9d6721a717]\n",
       "link E4 to E5--><a href=\"psysml:b5c0928c-fbc9-4433-ab1e-c084bfbcebd5\" target=\"_top\" title=\"psysml:b5c0928c-fbc9-4433-ab1e-c084bfbcebd5\" xlink:actuate=\"onRequest\" xlink:href=\"psysml:b5c0928c-fbc9-4433-ab1e-c084bfbcebd5\" xlink:show=\"new\" xlink:title=\"psysml:b5c0928c-fbc9-4433-ab1e-c084bfbcebd5\" xlink:type=\"simple\"><path d=\"M370,267.1 C370,286.8 370,314.22 370,335.73 \" fill=\"none\" id=\"E4-&gt;E5\" style=\"stroke: #A80036; stroke-width: 1.0; stroke-dasharray: 7.0,7.0;\"/><polygon fill=\"#A80036\" points=\"370,343.95,373,335.95,367,335.95,370,343.95\" style=\"stroke: #A80036; stroke-width: 1.0;\"/><text fill=\"#000000\" font-family=\"sans-serif\" font-size=\"13\" lengthAdjust=\"spacingAndGlyphs\" textLength=\"64\" x=\"371\" y=\"310.0669\">«depend»</text></a><!--MD5=[c5e8897d989ce984f93528998a7150fe]\n",
       "link E8 to E6--><a href=\"psysml:a0e318cd-0c17-433c-bc04-dbf1eaa3473c\" target=\"_top\" title=\"psysml:a0e318cd-0c17-433c-bc04-dbf1eaa3473c\" xlink:actuate=\"onRequest\" xlink:href=\"psysml:a0e318cd-0c17-433c-bc04-dbf1eaa3473c\" xlink:show=\"new\" xlink:title=\"psysml:a0e318cd-0c17-433c-bc04-dbf1eaa3473c\" xlink:type=\"simple\"><path d=\"M106.44,133.76 C97.3,143.01 88.09,154.51 83,167 C77.6,180.23 76.4,195.98 76.73,209.41 \" fill=\"none\" id=\"E8-&gt;E6\" style=\"stroke: #A80036; stroke-width: 1.0; stroke-dasharray: 7.0,7.0;\"/><polygon fill=\"#A80036\" points=\"77.12,217.43,79.7306,209.2946,73.7375,209.584,77.12,217.43\" style=\"stroke: #A80036; stroke-width: 1.0;\"/><text fill=\"#000000\" font-family=\"sans-serif\" font-size=\"13\" lengthAdjust=\"spacingAndGlyphs\" textLength=\"64\" x=\"84\" y=\"180.0669\">«depend»</text></a><!--MD5=[bfa3c8b0d15052fdf50ae9310b491027]\n",
       "link E8 to E7--><a href=\"psysml:a0e318cd-0c17-433c-bc04-dbf1eaa3473c\" target=\"_top\" title=\"psysml:a0e318cd-0c17-433c-bc04-dbf1eaa3473c\" xlink:actuate=\"onRequest\" xlink:href=\"psysml:a0e318cd-0c17-433c-bc04-dbf1eaa3473c\" xlink:show=\"new\" xlink:title=\"psysml:a0e318cd-0c17-433c-bc04-dbf1eaa3473c\" xlink:type=\"simple\"><path d=\"M146.58,133.5 C159.69,154.75 179.63,187.05 194.05,210.41 \" fill=\"none\" id=\"E8-&gt;E7\" style=\"stroke: #A80036; stroke-width: 1.0; stroke-dasharray: 7.0,7.0;\"/><polygon fill=\"#A80036\" points=\"198.33,217.35,196.6785,208.9671,191.5737,212.1201,198.33,217.35\" style=\"stroke: #A80036; stroke-width: 1.0;\"/><text fill=\"#000000\" font-family=\"sans-serif\" font-size=\"13\" lengthAdjust=\"spacingAndGlyphs\" textLength=\"64\" x=\"178\" y=\"180.0669\">«depend»</text></a><!--MD5=[7ad5a0597c458d0b76cb123d7b86e1d8]\n",
       "@startuml\r\n",
       " \r\n",
       "package \"DependencyTest\" as E1  [[psysml:01e86263-1e08-4c5e-80c8-9f3a01cb2b1c ]]  {\r\n",
       "package \"System\" as E2  [[psysml:65d9c171-277b-4a12-8988-537cd17218fe ]]  {\r\n",
       "package \"Application Layer\" as E3  [[psysml:7bbe8935-ee6e-44c3-abf9-e711bcee98e7 ]]  {\r\n",
       "}\r\n",
       "package \"Service Layer\" as E4  [[psysml:8539df59-9777-43d1-9cbc-191f1e3b0af0 ]]  {\r\n",
       "}\r\n",
       "package \"Data Layer\" as E5  [[psysml:06e8cf4d-e880-4b5c-8fdb-0871598a4cb3 ]]  {\r\n",
       "}\r\n",
       "}\r\n",
       "comp usage \"x\" as E6  <<(T,blue)attribute>> [[psysml:3f429861-8945-458a-afac-b9814097464d ]] {\r\n",
       "}\r\n",
       "comp usage \"y\" as E7  <<(T,blue)attribute>> [[psysml:f3318431-0d45-43ea-b254-330318c85eb0 ]] {\r\n",
       "}\r\n",
       "comp usage \"z\" as E8  <<(T,blue)attribute>> [[psysml:da180d87-042d-4ade-81c9-b5201399a446 ]] {\r\n",
       "}\r\n",
       "E3 ..>> E4 [[psysml:ddd06611-1e40-467d-8133-a183585a6da5 ]] : <<depend>>\r\n",
       "E4 ..>> E5 [[psysml:b5c0928c-fbc9-4433-ab1e-c084bfbcebd5 ]] : <<depend>>\r\n",
       "E8 ..>> E6 [[psysml:a0e318cd-0c17-433c-bc04-dbf1eaa3473c ]] : <<depend>>\r\n",
       "E8 ..>> E7 [[psysml:a0e318cd-0c17-433c-bc04-dbf1eaa3473c ]] : <<depend>>\r\n",
       "}\r\n",
       "@enduml\r\n",
       "\n",
       "PlantUML version 1.2020.13(Sat Jun 13 12:26:38 UTC 2020)\n",
       "(EPL source distribution)\n",
       "Java Runtime: OpenJDK Runtime Environment\n",
       "JVM: OpenJDK 64-Bit Server VM\n",
       "Default Encoding: UTF-8\n",
       "Language: en\n",
       "Country: null\n",
       "--></g></svg>"
      ]
     },
     "execution_count": 3,
     "metadata": {},
     "output_type": "execute_result"
    }
   ],
   "source": [
    "%viz --style=\"COMPTREE\" --view=\"Tree\" \"DependencyTest\""
   ]
  },
  {
   "cell_type": "code",
   "execution_count": 4,
   "id": "starting-external",
   "metadata": {
    "execution": {
     "iopub.execute_input": "2021-03-25T15:09:44.041726Z",
     "iopub.status.busy": "2021-03-25T15:09:44.041307Z",
     "iopub.status.idle": "2021-03-25T15:09:44.969100Z",
     "shell.execute_reply": "2021-03-25T15:09:44.969701Z"
    }
   },
   "outputs": [
    {
     "data": {
      "image/svg+xml": [
       "<?xml version=\"1.0\" encoding=\"UTF-8\" standalone=\"no\"?><svg xmlns=\"http://www.w3.org/2000/svg\" xmlns:xlink=\"http://www.w3.org/1999/xlink\" contentScriptType=\"application/ecmascript\" contentStyleType=\"text/css\" height=\"303px\" preserveAspectRatio=\"none\" style=\"width:603px;height:303px;background:#000000;\" version=\"1.1\" viewBox=\"0 0 603 303\" width=\"603px\" zoomAndPan=\"magnify\"><defs/><g><rect fill=\"#081E19\" height=\"1\" style=\"stroke: #081E19; stroke-width: 1.0;\" width=\"1\" x=\"0\" y=\"0\"/><rect fill=\"#FFFFFF\" height=\"205.5625\" style=\"stroke: #FFFFFF; stroke-width: 1.0;\" width=\"602\" x=\"0\" y=\"0\"/><text fill=\"#000000\" font-family=\"sans-serif\" font-size=\"12\" font-weight=\"bold\" lengthAdjust=\"spacingAndGlyphs\" textLength=\"159\" x=\"5\" y=\"16.1387\">Welcome to PlantUML!</text><text fill=\"#000000\" font-family=\"sans-serif\" font-size=\"12\" lengthAdjust=\"spacingAndGlyphs\" textLength=\"0\" x=\"9\" y=\"30.1074\"/><text fill=\"#000000\" font-family=\"sans-serif\" font-size=\"12\" lengthAdjust=\"spacingAndGlyphs\" textLength=\"293\" x=\"5\" y=\"44.0762\">If you use this software, you accept its license.</text><text fill=\"#000000\" font-family=\"sans-serif\" font-size=\"12\" lengthAdjust=\"spacingAndGlyphs\" textLength=\"107\" x=\"5\" y=\"58.0449\">(details by typing</text><text fill=\"#000000\" font-family=\"monospace\" font-size=\"12\" lengthAdjust=\"spacingAndGlyphs\" textLength=\"49\" x=\"116\" y=\"58.0449\">license</text><text fill=\"#000000\" font-family=\"sans-serif\" font-size=\"12\" lengthAdjust=\"spacingAndGlyphs\" textLength=\"56\" x=\"169\" y=\"58.0449\">keyword)</text><text fill=\"#000000\" font-family=\"sans-serif\" font-size=\"12\" lengthAdjust=\"spacingAndGlyphs\" textLength=\"0\" x=\"9\" y=\"72.0137\"/><text fill=\"#000000\" font-family=\"sans-serif\" font-size=\"12\" lengthAdjust=\"spacingAndGlyphs\" textLength=\"283\" x=\"5\" y=\"85.9824\">You can start with a simple UML Diagram like:</text><text fill=\"#000000\" font-family=\"sans-serif\" font-size=\"12\" lengthAdjust=\"spacingAndGlyphs\" textLength=\"0\" x=\"9\" y=\"99.9512\"/><text fill=\"#000000\" font-family=\"monospace\" font-size=\"12\" lengthAdjust=\"spacingAndGlyphs\" textLength=\"119\" x=\"5\" y=\"113.9199\">Bob-&gt;Alice: Hello</text><text fill=\"#000000\" font-family=\"sans-serif\" font-size=\"12\" lengthAdjust=\"spacingAndGlyphs\" textLength=\"0\" x=\"9\" y=\"127.8887\"/><text fill=\"#000000\" font-family=\"sans-serif\" font-size=\"12\" lengthAdjust=\"spacingAndGlyphs\" textLength=\"14\" x=\"5\" y=\"141.8574\">Or</text><text fill=\"#000000\" font-family=\"sans-serif\" font-size=\"12\" lengthAdjust=\"spacingAndGlyphs\" textLength=\"0\" x=\"9\" y=\"155.8262\"/><text fill=\"#000000\" font-family=\"monospace\" font-size=\"12\" lengthAdjust=\"spacingAndGlyphs\" textLength=\"91\" x=\"5\" y=\"169.7949\">class Example</text><text fill=\"#000000\" font-family=\"sans-serif\" font-size=\"12\" lengthAdjust=\"spacingAndGlyphs\" textLength=\"0\" x=\"9\" y=\"183.7637\"/><text fill=\"#000000\" font-family=\"sans-serif\" font-size=\"12\" lengthAdjust=\"spacingAndGlyphs\" textLength=\"349\" x=\"5\" y=\"197.7324\">You will find more information about PlantUML syntax on</text><text fill=\"#000000\" font-family=\"sans-serif\" font-size=\"12\" lengthAdjust=\"spacingAndGlyphs\" text-decoration=\"underline\" textLength=\"129\" x=\"358\" y=\"197.7324\">https://plantuml.com</text><image height=\"71\" width=\"80\" x=\"516\" xlink:href=\"data:image/png;base64,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\" y=\"6\"/><rect fill=\"#000000\" height=\"96.4844\" style=\"stroke: #000000; stroke-width: 1.0;\" width=\"602\" x=\"0\" y=\"205.5625\"/><rect fill=\"#33FF02\" height=\"21.2969\" style=\"stroke: #33FF02; stroke-width: 1.0;\" width=\"170\" x=\"5\" y=\"210.5625\"/><text fill=\"#000000\" font-family=\"sans-serif\" font-size=\"14\" font-weight=\"bold\" lengthAdjust=\"spacingAndGlyphs\" textLength=\"168\" x=\"6\" y=\"225.5625\">[From string (line 2) ]</text><text fill=\"#33FF02\" font-family=\"sans-serif\" font-size=\"14\" font-weight=\"bold\" lengthAdjust=\"spacingAndGlyphs\" textLength=\"0\" x=\"10\" y=\"245.8594\"/><text fill=\"#33FF02\" font-family=\"sans-serif\" font-size=\"14\" font-weight=\"bold\" lengthAdjust=\"spacingAndGlyphs\" textLength=\"79\" x=\"5\" y=\"262.1563\">@startuml</text><text fill=\"#33FF02\" font-family=\"sans-serif\" font-size=\"14\" font-weight=\"bold\" lengthAdjust=\"spacingAndGlyphs\" textLength=\"0\" x=\"10\" y=\"278.4531\"/><text fill=\"#FF0000\" font-family=\"sans-serif\" font-size=\"14\" font-weight=\"bold\" lengthAdjust=\"spacingAndGlyphs\" textLength=\"142\" x=\"10\" y=\"294.75\">Empty description</text><!--MD5=[f59edd8218d337f74d0c332fc6737304]\n",
       "@startuml\r\n",
       " \r\n",
       "@enduml\r\n",
       "\n",
       "PlantUML version 1.2020.13(Sat Jun 13 12:26:38 UTC 2020)\n",
       "(EPL source distribution)\n",
       "Java Runtime: OpenJDK Runtime Environment\n",
       "JVM: OpenJDK 64-Bit Server VM\n",
       "Default Encoding: UTF-8\n",
       "Language: en\n",
       "Country: null\n",
       "--></g></svg>"
      ]
     },
     "execution_count": 4,
     "metadata": {},
     "output_type": "execute_result"
    }
   ],
   "source": [
    "%viz --style=\"COMPTREE\" --view=\"State\" \"DependencyTest\""
   ]
  },
  {
   "cell_type": "code",
   "execution_count": 5,
   "id": "greenhouse-elevation",
   "metadata": {
    "execution": {
     "iopub.execute_input": "2021-03-25T15:09:45.021815Z",
     "iopub.status.busy": "2021-03-25T15:09:45.020968Z",
     "iopub.status.idle": "2021-03-25T15:09:45.143977Z",
     "shell.execute_reply": "2021-03-25T15:09:45.142283Z"
    }
   },
   "outputs": [
    {
     "data": {
      "image/svg+xml": [
       "<?xml version=\"1.0\" encoding=\"UTF-8\" standalone=\"no\"?><svg xmlns=\"http://www.w3.org/2000/svg\" xmlns:xlink=\"http://www.w3.org/1999/xlink\" contentScriptType=\"application/ecmascript\" contentStyleType=\"text/css\" height=\"361px\" preserveAspectRatio=\"none\" style=\"width:521px;height:361px;\" version=\"1.1\" viewBox=\"0 0 521 361\" width=\"521px\" zoomAndPan=\"magnify\"><defs><filter height=\"300%\" id=\"f1onh73oz2g4dj\" width=\"300%\" x=\"-1\" y=\"-1\"><feGaussianBlur result=\"blurOut\" stdDeviation=\"2.0\"/><feColorMatrix in=\"blurOut\" result=\"blurOut2\" type=\"matrix\" values=\"0 0 0 0 0 0 0 0 0 0 0 0 0 0 0 0 0 0 .4 0\"/><feOffset dx=\"4.0\" dy=\"4.0\" in=\"blurOut2\" result=\"blurOut3\"/><feBlend in=\"SourceGraphic\" in2=\"blurOut3\" mode=\"normal\"/></filter></defs><g><!--MD5=[fbc87193dbaf4d95561dea2c320d4a47]\n",
       "cluster E1--><a href=\"psysml:01e86263-1e08-4c5e-80c8-9f3a01cb2b1c\" target=\"_top\" title=\"psysml:01e86263-1e08-4c5e-80c8-9f3a01cb2b1c\" xlink:actuate=\"onRequest\" xlink:href=\"psysml:01e86263-1e08-4c5e-80c8-9f3a01cb2b1c\" xlink:show=\"new\" xlink:title=\"psysml:01e86263-1e08-4c5e-80c8-9f3a01cb2b1c\" xlink:type=\"simple\"><polygon fill=\"#FFFFFF\" filter=\"url(#f1onh73oz2g4dj)\" points=\"16,6,156,6,163,28.2969,499,28.2969,499,349,16,349,16,6\" style=\"stroke: #000000; stroke-width: 1.5;\"/><line style=\"stroke: #000000; stroke-width: 1.5;\" x1=\"16\" x2=\"163\" y1=\"28.2969\" y2=\"28.2969\"/><text fill=\"#000000\" font-family=\"sans-serif\" font-size=\"14\" font-weight=\"bold\" lengthAdjust=\"spacingAndGlyphs\" textLength=\"134\" x=\"20\" y=\"20.9951\">DependencyTest</text></a><!--MD5=[e4f7fae6ed58524ba242bb0b0d3be6b7]\n",
       "cluster E2--><a href=\"psysml:65d9c171-277b-4a12-8988-537cd17218fe\" target=\"_top\" title=\"psysml:65d9c171-277b-4a12-8988-537cd17218fe\" xlink:actuate=\"onRequest\" xlink:href=\"psysml:65d9c171-277b-4a12-8988-537cd17218fe\" xlink:show=\"new\" xlink:title=\"psysml:65d9c171-277b-4a12-8988-537cd17218fe\" xlink:type=\"simple\"><polygon fill=\"#FFFFFF\" filter=\"url(#f1onh73oz2g4dj)\" points=\"287,49,351,49,358,71.2969,475,71.2969,475,325,287,325,287,49\" style=\"stroke: #000000; stroke-width: 1.5;\"/><line style=\"stroke: #000000; stroke-width: 1.5;\" x1=\"287\" x2=\"358\" y1=\"71.2969\" y2=\"71.2969\"/><text fill=\"#000000\" font-family=\"sans-serif\" font-size=\"14\" font-weight=\"bold\" lengthAdjust=\"spacingAndGlyphs\" textLength=\"58\" x=\"291\" y=\"63.9951\">System</text></a><a href=\"psysml:7bbe8935-ee6e-44c3-abf9-e711bcee98e7\" target=\"_top\" title=\"psysml:7bbe8935-ee6e-44c3-abf9-e711bcee98e7\" xlink:actuate=\"onRequest\" xlink:href=\"psysml:7bbe8935-ee6e-44c3-abf9-e711bcee98e7\" xlink:show=\"new\" xlink:title=\"psysml:7bbe8935-ee6e-44c3-abf9-e711bcee98e7\" xlink:type=\"simple\"><polygon fill=\"#FFFFFF\" filter=\"url(#f1onh73oz2g4dj)\" points=\"303,84,445,84,452,106.2969,459,106.2969,459,136.5938,303,136.5938,303,84\" style=\"stroke: #000000; stroke-width: 1.5;\"/><line style=\"stroke: #000000; stroke-width: 1.5;\" x1=\"303\" x2=\"452\" y1=\"106.2969\" y2=\"106.2969\"/><text fill=\"#000000\" font-family=\"sans-serif\" font-size=\"14\" font-weight=\"bold\" lengthAdjust=\"spacingAndGlyphs\" textLength=\"136\" x=\"307\" y=\"98.9951\">Application Layer</text></a><a href=\"psysml:8539df59-9777-43d1-9cbc-191f1e3b0af0\" target=\"_top\" title=\"psysml:8539df59-9777-43d1-9cbc-191f1e3b0af0\" xlink:actuate=\"onRequest\" xlink:href=\"psysml:8539df59-9777-43d1-9cbc-191f1e3b0af0\" xlink:show=\"new\" xlink:title=\"psysml:8539df59-9777-43d1-9cbc-191f1e3b0af0\" xlink:type=\"simple\"><polygon fill=\"#FFFFFF\" filter=\"url(#f1onh73oz2g4dj)\" points=\"317,170,431,170,438,192.2969,445,192.2969,445,222.5938,317,222.5938,317,170\" style=\"stroke: #000000; stroke-width: 1.5;\"/><line style=\"stroke: #000000; stroke-width: 1.5;\" x1=\"317\" x2=\"438\" y1=\"192.2969\" y2=\"192.2969\"/><text fill=\"#000000\" font-family=\"sans-serif\" font-size=\"14\" font-weight=\"bold\" lengthAdjust=\"spacingAndGlyphs\" textLength=\"108\" x=\"321\" y=\"184.9951\">Service Layer</text></a><a href=\"psysml:06e8cf4d-e880-4b5c-8fdb-0871598a4cb3\" target=\"_top\" title=\"psysml:06e8cf4d-e880-4b5c-8fdb-0871598a4cb3\" xlink:actuate=\"onRequest\" xlink:href=\"psysml:06e8cf4d-e880-4b5c-8fdb-0871598a4cb3\" xlink:show=\"new\" xlink:title=\"psysml:06e8cf4d-e880-4b5c-8fdb-0871598a4cb3\" xlink:type=\"simple\"><polygon fill=\"#FFFFFF\" filter=\"url(#f1onh73oz2g4dj)\" points=\"329,256,419,256,426,278.2969,433,278.2969,433,308.5938,329,308.5938,329,256\" style=\"stroke: #000000; stroke-width: 1.5;\"/><line style=\"stroke: #000000; stroke-width: 1.5;\" x1=\"329\" x2=\"426\" y1=\"278.2969\" y2=\"278.2969\"/><text fill=\"#000000\" font-family=\"sans-serif\" font-size=\"14\" font-weight=\"bold\" lengthAdjust=\"spacingAndGlyphs\" textLength=\"84\" x=\"333\" y=\"270.9951\">Data Layer</text></a><g id=\"E1.E6\"><a href=\"psysml:3f429861-8945-458a-afac-b9814097464d\" target=\"_top\" title=\"psysml:3f429861-8945-458a-afac-b9814097464d\" xlink:actuate=\"onRequest\" xlink:href=\"psysml:3f429861-8945-458a-afac-b9814097464d\" xlink:show=\"new\" xlink:title=\"psysml:3f429861-8945-458a-afac-b9814097464d\" xlink:type=\"simple\"><rect fill=\"#FEFECE\" filter=\"url(#f1onh73oz2g4dj)\" height=\"42.9375\" id=\"E6\" rx=\"10\" ry=\"10\" style=\"stroke: #A80036; stroke-width: 1.5;\" width=\"102\" x=\"32\" y=\"175\"/><ellipse cx=\"49.25\" cy=\"193.9688\" fill=\"#0000FF\" rx=\"11\" ry=\"11\" style=\"stroke: #A80036; stroke-width: 1.0;\"/><path d=\"M50.0938,200.7188 L47.6406,200.7188 L47.6406,190.4688 L44.5,190.4688 L44.5,188.3281 L53.2344,188.3281 L53.2344,190.4688 L50.0938,190.4688 L50.0938,200.7188 Z \"/><text fill=\"#000000\" font-family=\"sans-serif\" font-size=\"12\" font-style=\"italic\" lengthAdjust=\"spacingAndGlyphs\" textLength=\"69\" x=\"61.75\" y=\"191.1387\">«attribute»</text><text fill=\"#000000\" font-family=\"sans-serif\" font-size=\"12\" lengthAdjust=\"spacingAndGlyphs\" textLength=\"6\" x=\"93.25\" y=\"205.1074\">x</text></a></g><g id=\"E1.E7\"><a href=\"psysml:f3318431-0d45-43ea-b254-330318c85eb0\" target=\"_top\" title=\"psysml:f3318431-0d45-43ea-b254-330318c85eb0\" xlink:actuate=\"onRequest\" xlink:href=\"psysml:f3318431-0d45-43ea-b254-330318c85eb0\" xlink:show=\"new\" xlink:title=\"psysml:f3318431-0d45-43ea-b254-330318c85eb0\" xlink:type=\"simple\"><rect fill=\"#FEFECE\" filter=\"url(#f1onh73oz2g4dj)\" height=\"42.9375\" id=\"E7\" rx=\"10\" ry=\"10\" style=\"stroke: #A80036; stroke-width: 1.5;\" width=\"102\" x=\"169\" y=\"175\"/><ellipse cx=\"186.25\" cy=\"193.9688\" fill=\"#0000FF\" rx=\"11\" ry=\"11\" style=\"stroke: #A80036; stroke-width: 1.0;\"/><path d=\"M187.0938,200.7188 L184.6406,200.7188 L184.6406,190.4688 L181.5,190.4688 L181.5,188.3281 L190.2344,188.3281 L190.2344,190.4688 L187.0938,190.4688 L187.0938,200.7188 Z \"/><text fill=\"#000000\" font-family=\"sans-serif\" font-size=\"12\" font-style=\"italic\" lengthAdjust=\"spacingAndGlyphs\" textLength=\"69\" x=\"198.75\" y=\"191.1387\">«attribute»</text><text fill=\"#000000\" font-family=\"sans-serif\" font-size=\"12\" lengthAdjust=\"spacingAndGlyphs\" textLength=\"6\" x=\"230.25\" y=\"205.1074\">y</text></a></g><g id=\"E1.E8\"><a href=\"psysml:da180d87-042d-4ade-81c9-b5201399a446\" target=\"_top\" title=\"psysml:da180d87-042d-4ade-81c9-b5201399a446\" xlink:actuate=\"onRequest\" xlink:href=\"psysml:da180d87-042d-4ade-81c9-b5201399a446\" xlink:show=\"new\" xlink:title=\"psysml:da180d87-042d-4ade-81c9-b5201399a446\" xlink:type=\"simple\"><rect fill=\"#FEFECE\" filter=\"url(#f1onh73oz2g4dj)\" height=\"42.9375\" id=\"E8\" rx=\"10\" ry=\"10\" style=\"stroke: #A80036; stroke-width: 1.5;\" width=\"102\" x=\"85\" y=\"89\"/><ellipse cx=\"102.25\" cy=\"107.9688\" fill=\"#0000FF\" rx=\"11\" ry=\"11\" style=\"stroke: #A80036; stroke-width: 1.0;\"/><path d=\"M103.0938,114.7188 L100.6406,114.7188 L100.6406,104.4688 L97.5,104.4688 L97.5,102.3281 L106.2344,102.3281 L106.2344,104.4688 L103.0938,104.4688 L103.0938,114.7188 Z \"/><text fill=\"#000000\" font-family=\"sans-serif\" font-size=\"12\" font-style=\"italic\" lengthAdjust=\"spacingAndGlyphs\" textLength=\"69\" x=\"114.75\" y=\"105.1387\">«attribute»</text><text fill=\"#000000\" font-family=\"sans-serif\" font-size=\"12\" lengthAdjust=\"spacingAndGlyphs\" textLength=\"5\" x=\"146.75\" y=\"119.1074\">z</text></a></g><!--MD5=[af87c684e3b0d8be13c1a698a818ef1e]\n",
       "link E3 to E4--><a href=\"psysml:ddd06611-1e40-467d-8133-a183585a6da5\" target=\"_top\" title=\"psysml:ddd06611-1e40-467d-8133-a183585a6da5\" xlink:actuate=\"onRequest\" xlink:href=\"psysml:ddd06611-1e40-467d-8133-a183585a6da5\" xlink:show=\"new\" xlink:title=\"psysml:ddd06611-1e40-467d-8133-a183585a6da5\" xlink:type=\"simple\"><path d=\"M381,137.16 C381,144.98 381,153.69 381,161.94 \" fill=\"none\" id=\"E3-&gt;E4\" style=\"stroke: #A80036; stroke-width: 1.0; stroke-dasharray: 7.0,7.0;\"/><polygon fill=\"#A80036\" points=\"381,170,384,162,378,162,381,170\" style=\"stroke: #A80036; stroke-width: 1.0;\"/><text fill=\"#000000\" font-family=\"sans-serif\" font-size=\"13\" lengthAdjust=\"spacingAndGlyphs\" textLength=\"64\" x=\"382\" y=\"158.0669\">«depend»</text></a><!--MD5=[1b7591eae5389033d8d09a9d6721a717]\n",
       "link E4 to E5--><a href=\"psysml:b5c0928c-fbc9-4433-ab1e-c084bfbcebd5\" target=\"_top\" title=\"psysml:b5c0928c-fbc9-4433-ab1e-c084bfbcebd5\" xlink:actuate=\"onRequest\" xlink:href=\"psysml:b5c0928c-fbc9-4433-ab1e-c084bfbcebd5\" xlink:show=\"new\" xlink:title=\"psysml:b5c0928c-fbc9-4433-ab1e-c084bfbcebd5\" xlink:type=\"simple\"><path d=\"M381,223.16 C381,230.98 381,239.69 381,247.94 \" fill=\"none\" id=\"E4-&gt;E5\" style=\"stroke: #A80036; stroke-width: 1.0; stroke-dasharray: 7.0,7.0;\"/><polygon fill=\"#A80036\" points=\"381,256,384,248,378,248,381,256\" style=\"stroke: #A80036; stroke-width: 1.0;\"/><text fill=\"#000000\" font-family=\"sans-serif\" font-size=\"13\" lengthAdjust=\"spacingAndGlyphs\" textLength=\"64\" x=\"382\" y=\"244.0669\">«depend»</text></a><!--MD5=[c5e8897d989ce984f93528998a7150fe]\n",
       "link E8 to E6--><a href=\"psysml:a0e318cd-0c17-433c-bc04-dbf1eaa3473c\" target=\"_top\" title=\"psysml:a0e318cd-0c17-433c-bc04-dbf1eaa3473c\" xlink:actuate=\"onRequest\" xlink:href=\"psysml:a0e318cd-0c17-433c-bc04-dbf1eaa3473c\" xlink:show=\"new\" xlink:title=\"psysml:a0e318cd-0c17-433c-bc04-dbf1eaa3473c\" xlink:type=\"simple\"><path d=\"M102.96,132.09 C98.75,135.93 94.9,140.25 92,145 C88.13,151.34 85.83,158.9 84.48,166.22 \" fill=\"none\" id=\"E8-&gt;E6\" style=\"stroke: #A80036; stroke-width: 1.0; stroke-dasharray: 7.0,7.0;\"/><polygon fill=\"#A80036\" points=\"83.3,174.62,87.3842,167.1154,81.4426,166.2803,83.3,174.62\" style=\"stroke: #A80036; stroke-width: 1.0;\"/><text fill=\"#000000\" font-family=\"sans-serif\" font-size=\"13\" lengthAdjust=\"spacingAndGlyphs\" textLength=\"64\" x=\"93\" y=\"158.0669\">«depend»</text></a><!--MD5=[bfa3c8b0d15052fdf50ae9310b491027]\n",
       "link E8 to E7--><a href=\"psysml:a0e318cd-0c17-433c-bc04-dbf1eaa3473c\" target=\"_top\" title=\"psysml:a0e318cd-0c17-433c-bc04-dbf1eaa3473c\" xlink:actuate=\"onRequest\" xlink:href=\"psysml:a0e318cd-0c17-433c-bc04-dbf1eaa3473c\" xlink:show=\"new\" xlink:title=\"psysml:a0e318cd-0c17-433c-bc04-dbf1eaa3473c\" xlink:type=\"simple\"><path d=\"M156.76,132.26 C167.95,143.45 181.87,157.37 193.8,169.3 \" fill=\"none\" id=\"E8-&gt;E7\" style=\"stroke: #A80036; stroke-width: 1.0; stroke-dasharray: 7.0,7.0;\"/><polygon fill=\"#A80036\" points=\"199.47,174.97,195.9345,167.1918,191.6918,171.4345,199.47,174.97\" style=\"stroke: #A80036; stroke-width: 1.0;\"/><text fill=\"#000000\" font-family=\"sans-serif\" font-size=\"13\" lengthAdjust=\"spacingAndGlyphs\" textLength=\"64\" x=\"186\" y=\"158.0669\">«depend»</text></a><!--MD5=[32431a1adf52953f1c7b5997760b21f9]\n",
       "@startuml\r\n",
       "skinparam ranksep 8\r\n",
       "skinparam rectangle {\r\n",
       " backgroundColor<<block>> LightGreen\r\n",
       "}\r\n",
       " \r\n",
       "package \"DependencyTest\" as E1  [[psysml:01e86263-1e08-4c5e-80c8-9f3a01cb2b1c ]]  {\r\n",
       "package \"System\" as E2  [[psysml:65d9c171-277b-4a12-8988-537cd17218fe ]]  {\r\n",
       "package \"Application Layer\" as E3  [[psysml:7bbe8935-ee6e-44c3-abf9-e711bcee98e7 ]]  {\r\n",
       "}\r\n",
       "package \"Service Layer\" as E4  [[psysml:8539df59-9777-43d1-9cbc-191f1e3b0af0 ]]  {\r\n",
       "}\r\n",
       "package \"Data Layer\" as E5  [[psysml:06e8cf4d-e880-4b5c-8fdb-0871598a4cb3 ]]  {\r\n",
       "}\r\n",
       "}\r\n",
       "rec usage \"x\" as E6  <<(T,blue)attribute>> [[psysml:3f429861-8945-458a-afac-b9814097464d ]] {\r\n",
       "}\r\n",
       "rec usage \"y\" as E7  <<(T,blue)attribute>> [[psysml:f3318431-0d45-43ea-b254-330318c85eb0 ]] {\r\n",
       "}\r\n",
       "rec usage \"z\" as E8  <<(T,blue)attribute>> [[psysml:da180d87-042d-4ade-81c9-b5201399a446 ]] {\r\n",
       "}\r\n",
       "E3 ..>> E4 [[psysml:ddd06611-1e40-467d-8133-a183585a6da5 ]] : <<depend>>\r\n",
       "E4 ..>> E5 [[psysml:b5c0928c-fbc9-4433-ab1e-c084bfbcebd5 ]] : <<depend>>\r\n",
       "E8 ..>> E6 [[psysml:a0e318cd-0c17-433c-bc04-dbf1eaa3473c ]] : <<depend>>\r\n",
       "E8 ..>> E7 [[psysml:a0e318cd-0c17-433c-bc04-dbf1eaa3473c ]] : <<depend>>\r\n",
       "}\r\n",
       "@enduml\r\n",
       "\n",
       "PlantUML version 1.2020.13(Sat Jun 13 12:26:38 UTC 2020)\n",
       "(EPL source distribution)\n",
       "Java Runtime: OpenJDK Runtime Environment\n",
       "JVM: OpenJDK 64-Bit Server VM\n",
       "Default Encoding: UTF-8\n",
       "Language: en\n",
       "Country: null\n",
       "--></g></svg>"
      ]
     },
     "execution_count": 5,
     "metadata": {},
     "output_type": "execute_result"
    }
   ],
   "source": [
    "%viz --style=\"COMPTREE\" --view=\"Interconnection\" \"DependencyTest\""
   ]
  },
  {
   "cell_type": "code",
   "execution_count": 6,
   "id": "pharmaceutical-liberty",
   "metadata": {
    "execution": {
     "iopub.execute_input": "2021-03-25T15:09:45.194531Z",
     "iopub.status.busy": "2021-03-25T15:09:45.194022Z",
     "iopub.status.idle": "2021-03-25T15:09:45.202494Z",
     "shell.execute_reply": "2021-03-25T15:09:45.202162Z"
    }
   },
   "outputs": [
    {
     "data": {
      "image/svg+xml": [
       "<?xml version=\"1.0\" encoding=\"UTF-8\" standalone=\"no\"?><svg xmlns=\"http://www.w3.org/2000/svg\" xmlns:xlink=\"http://www.w3.org/1999/xlink\" contentScriptType=\"application/ecmascript\" contentStyleType=\"text/css\" height=\"12px\" preserveAspectRatio=\"none\" style=\"width:12px;height:12px;\" version=\"1.1\" viewBox=\"0 0 12 12\" width=\"12px\" zoomAndPan=\"magnify\"><defs/><g><!--MD5=[6a4cb978cab31700e1ce5529f947a75d]\n",
       "@startuml\r\n",
       "skinparam ranksep 8\r\n",
       " \r\n",
       "@enduml\r\n",
       "\n",
       "PlantUML version 1.2020.13(Sat Jun 13 12:26:38 UTC 2020)\n",
       "(EPL source distribution)\n",
       "Java Runtime: OpenJDK Runtime Environment\n",
       "JVM: OpenJDK 64-Bit Server VM\n",
       "Default Encoding: UTF-8\n",
       "Language: en\n",
       "Country: null\n",
       "--></g></svg>"
      ]
     },
     "execution_count": 6,
     "metadata": {},
     "output_type": "execute_result"
    }
   ],
   "source": [
    "%viz --style=\"COMPTREE\" --view=\"Action\" \"DependencyTest\""
   ]
  },
  {
   "cell_type": "code",
   "execution_count": 7,
   "id": "behind-knife",
   "metadata": {
    "execution": {
     "iopub.execute_input": "2021-03-25T15:09:45.255153Z",
     "iopub.status.busy": "2021-03-25T15:09:45.253879Z",
     "iopub.status.idle": "2021-03-25T15:09:45.376057Z",
     "shell.execute_reply": "2021-03-25T15:09:45.376558Z"
    }
   },
   "outputs": [
    {
     "data": {
      "image/svg+xml": [
       "<?xml version=\"1.0\" encoding=\"UTF-8\" standalone=\"no\"?><svg xmlns=\"http://www.w3.org/2000/svg\" xmlns:xlink=\"http://www.w3.org/1999/xlink\" contentScriptType=\"application/ecmascript\" contentStyleType=\"text/css\" height=\"449px\" preserveAspectRatio=\"none\" style=\"width:510px;height:449px;\" version=\"1.1\" viewBox=\"0 0 510 449\" width=\"510px\" zoomAndPan=\"magnify\"><defs><filter height=\"300%\" id=\"fgz1w14tekmy0\" width=\"300%\" x=\"-1\" y=\"-1\"><feGaussianBlur result=\"blurOut\" stdDeviation=\"2.0\"/><feColorMatrix in=\"blurOut\" result=\"blurOut2\" type=\"matrix\" values=\"0 0 0 0 0 0 0 0 0 0 0 0 0 0 0 0 0 0 .4 0\"/><feOffset dx=\"4.0\" dy=\"4.0\" in=\"blurOut2\" result=\"blurOut3\"/><feBlend in=\"SourceGraphic\" in2=\"blurOut3\" mode=\"normal\"/></filter></defs><g><!--MD5=[fbc87193dbaf4d95561dea2c320d4a47]\n",
       "cluster E1--><a href=\"psysml:01e86263-1e08-4c5e-80c8-9f3a01cb2b1c\" target=\"_top\" title=\"psysml:01e86263-1e08-4c5e-80c8-9f3a01cb2b1c\" xlink:actuate=\"onRequest\" xlink:href=\"psysml:01e86263-1e08-4c5e-80c8-9f3a01cb2b1c\" xlink:show=\"new\" xlink:title=\"psysml:01e86263-1e08-4c5e-80c8-9f3a01cb2b1c\" xlink:type=\"simple\"><polygon fill=\"#FFFFFF\" filter=\"url(#fgz1w14tekmy0)\" points=\"16,6,156,6,163,28.2969,488,28.2969,488,437,16,437,16,6\" style=\"stroke: #000000; stroke-width: 1.5;\"/><line style=\"stroke: #000000; stroke-width: 1.5;\" x1=\"16\" x2=\"163\" y1=\"28.2969\" y2=\"28.2969\"/><text fill=\"#000000\" font-family=\"sans-serif\" font-size=\"14\" font-weight=\"bold\" lengthAdjust=\"spacingAndGlyphs\" textLength=\"134\" x=\"20\" y=\"20.9951\">DependencyTest</text></a><!--MD5=[e4f7fae6ed58524ba242bb0b0d3be6b7]\n",
       "cluster E2--><a href=\"psysml:65d9c171-277b-4a12-8988-537cd17218fe\" target=\"_top\" title=\"psysml:65d9c171-277b-4a12-8988-537cd17218fe\" xlink:actuate=\"onRequest\" xlink:href=\"psysml:65d9c171-277b-4a12-8988-537cd17218fe\" xlink:show=\"new\" xlink:title=\"psysml:65d9c171-277b-4a12-8988-537cd17218fe\" xlink:type=\"simple\"><polygon fill=\"#FFFFFF\" filter=\"url(#fgz1w14tekmy0)\" points=\"276,49,340,49,347,71.2969,464,71.2969,464,413,276,413,276,49\" style=\"stroke: #000000; stroke-width: 1.5;\"/><line style=\"stroke: #000000; stroke-width: 1.5;\" x1=\"276\" x2=\"347\" y1=\"71.2969\" y2=\"71.2969\"/><text fill=\"#000000\" font-family=\"sans-serif\" font-size=\"14\" font-weight=\"bold\" lengthAdjust=\"spacingAndGlyphs\" textLength=\"58\" x=\"280\" y=\"63.9951\">System</text></a><!--MD5=[60a26617385b1d2d0262a64233df1f8d]\n",
       "class E6--><a href=\"psysml:3f429861-8945-458a-afac-b9814097464d\" target=\"_top\" title=\"psysml:3f429861-8945-458a-afac-b9814097464d\" xlink:actuate=\"onRequest\" xlink:href=\"psysml:3f429861-8945-458a-afac-b9814097464d\" xlink:show=\"new\" xlink:title=\"psysml:3f429861-8945-458a-afac-b9814097464d\" xlink:type=\"simple\"><rect fill=\"#FEFECE\" filter=\"url(#fgz1w14tekmy0)\" height=\"45.9375\" id=\"E6\" rx=\"10\" ry=\"10\" style=\"stroke: #A80036; stroke-width: 1.5;\" width=\"97\" x=\"31.5\" y=\"217.5\"/><ellipse cx=\"46.5\" cy=\"236.4688\" fill=\"#0000FF\" rx=\"11\" ry=\"11\" style=\"stroke: #A80036; stroke-width: 1.0;\"/><path d=\"M47.3438,243.2188 L44.8906,243.2188 L44.8906,232.9688 L41.75,232.9688 L41.75,230.8281 L50.4844,230.8281 L50.4844,232.9688 L47.3438,232.9688 L47.3438,243.2188 Z \"/><text fill=\"#000000\" font-family=\"sans-serif\" font-size=\"12\" font-style=\"italic\" lengthAdjust=\"spacingAndGlyphs\" textLength=\"69\" x=\"58.5\" y=\"233.6387\">«attribute»</text><text fill=\"#000000\" font-family=\"sans-serif\" font-size=\"12\" lengthAdjust=\"spacingAndGlyphs\" textLength=\"6\" x=\"90\" y=\"247.6074\">x</text><line style=\"stroke: #A80036; stroke-width: 1.5;\" x1=\"32.5\" x2=\"127.5\" y1=\"255.4375\" y2=\"255.4375\"/></a><!--MD5=[2156ba9850f5573cc1fc38a6a4b2f02b]\n",
       "class E7--><a href=\"psysml:f3318431-0d45-43ea-b254-330318c85eb0\" target=\"_top\" title=\"psysml:f3318431-0d45-43ea-b254-330318c85eb0\" xlink:actuate=\"onRequest\" xlink:href=\"psysml:f3318431-0d45-43ea-b254-330318c85eb0\" xlink:show=\"new\" xlink:title=\"psysml:f3318431-0d45-43ea-b254-330318c85eb0\" xlink:type=\"simple\"><rect fill=\"#FEFECE\" filter=\"url(#fgz1w14tekmy0)\" height=\"45.9375\" id=\"E7\" rx=\"10\" ry=\"10\" style=\"stroke: #A80036; stroke-width: 1.5;\" width=\"97\" x=\"163.5\" y=\"217.5\"/><ellipse cx=\"178.5\" cy=\"236.4688\" fill=\"#0000FF\" rx=\"11\" ry=\"11\" style=\"stroke: #A80036; stroke-width: 1.0;\"/><path d=\"M179.3438,243.2188 L176.8906,243.2188 L176.8906,232.9688 L173.75,232.9688 L173.75,230.8281 L182.4844,230.8281 L182.4844,232.9688 L179.3438,232.9688 L179.3438,243.2188 Z \"/><text fill=\"#000000\" font-family=\"sans-serif\" font-size=\"12\" font-style=\"italic\" lengthAdjust=\"spacingAndGlyphs\" textLength=\"69\" x=\"190.5\" y=\"233.6387\">«attribute»</text><text fill=\"#000000\" font-family=\"sans-serif\" font-size=\"12\" lengthAdjust=\"spacingAndGlyphs\" textLength=\"6\" x=\"222\" y=\"247.6074\">y</text><line style=\"stroke: #A80036; stroke-width: 1.5;\" x1=\"164.5\" x2=\"259.5\" y1=\"255.4375\" y2=\"255.4375\"/></a><!--MD5=[b9389687b975829384b498ac4b7476b2]\n",
       "class E8--><a href=\"psysml:da180d87-042d-4ade-81c9-b5201399a446\" target=\"_top\" title=\"psysml:da180d87-042d-4ade-81c9-b5201399a446\" xlink:actuate=\"onRequest\" xlink:href=\"psysml:da180d87-042d-4ade-81c9-b5201399a446\" xlink:show=\"new\" xlink:title=\"psysml:da180d87-042d-4ade-81c9-b5201399a446\" xlink:type=\"simple\"><rect fill=\"#FEFECE\" filter=\"url(#fgz1w14tekmy0)\" height=\"45.9375\" id=\"E8\" rx=\"10\" ry=\"10\" style=\"stroke: #A80036; stroke-width: 1.5;\" width=\"97\" x=\"84.5\" y=\"87.5\"/><ellipse cx=\"99.5\" cy=\"106.4688\" fill=\"#0000FF\" rx=\"11\" ry=\"11\" style=\"stroke: #A80036; stroke-width: 1.0;\"/><path d=\"M100.3438,113.2188 L97.8906,113.2188 L97.8906,102.9688 L94.75,102.9688 L94.75,100.8281 L103.4844,100.8281 L103.4844,102.9688 L100.3438,102.9688 L100.3438,113.2188 Z \"/><text fill=\"#000000\" font-family=\"sans-serif\" font-size=\"12\" font-style=\"italic\" lengthAdjust=\"spacingAndGlyphs\" textLength=\"69\" x=\"111.5\" y=\"103.6387\">«attribute»</text><text fill=\"#000000\" font-family=\"sans-serif\" font-size=\"12\" lengthAdjust=\"spacingAndGlyphs\" textLength=\"5\" x=\"143.5\" y=\"117.6074\">z</text><line style=\"stroke: #A80036; stroke-width: 1.5;\" x1=\"85.5\" x2=\"180.5\" y1=\"125.4375\" y2=\"125.4375\"/></a><a href=\"psysml:7bbe8935-ee6e-44c3-abf9-e711bcee98e7\" target=\"_top\" title=\"psysml:7bbe8935-ee6e-44c3-abf9-e711bcee98e7\" xlink:actuate=\"onRequest\" xlink:href=\"psysml:7bbe8935-ee6e-44c3-abf9-e711bcee98e7\" xlink:show=\"new\" xlink:title=\"psysml:7bbe8935-ee6e-44c3-abf9-e711bcee98e7\" xlink:type=\"simple\"><polygon fill=\"#FFFFFF\" filter=\"url(#fgz1w14tekmy0)\" points=\"292,84,434,84,441,106.2969,448,106.2969,448,136.5938,292,136.5938,292,84\" style=\"stroke: #000000; stroke-width: 1.5;\"/><line style=\"stroke: #000000; stroke-width: 1.5;\" x1=\"292\" x2=\"441\" y1=\"106.2969\" y2=\"106.2969\"/><text fill=\"#000000\" font-family=\"sans-serif\" font-size=\"14\" font-weight=\"bold\" lengthAdjust=\"spacingAndGlyphs\" textLength=\"136\" x=\"296\" y=\"98.9951\">Application Layer</text></a><a href=\"psysml:8539df59-9777-43d1-9cbc-191f1e3b0af0\" target=\"_top\" title=\"psysml:8539df59-9777-43d1-9cbc-191f1e3b0af0\" xlink:actuate=\"onRequest\" xlink:href=\"psysml:8539df59-9777-43d1-9cbc-191f1e3b0af0\" xlink:show=\"new\" xlink:title=\"psysml:8539df59-9777-43d1-9cbc-191f1e3b0af0\" xlink:type=\"simple\"><polygon fill=\"#FFFFFF\" filter=\"url(#fgz1w14tekmy0)\" points=\"306,214,420,214,427,236.2969,434,236.2969,434,266.5938,306,266.5938,306,214\" style=\"stroke: #000000; stroke-width: 1.5;\"/><line style=\"stroke: #000000; stroke-width: 1.5;\" x1=\"306\" x2=\"427\" y1=\"236.2969\" y2=\"236.2969\"/><text fill=\"#000000\" font-family=\"sans-serif\" font-size=\"14\" font-weight=\"bold\" lengthAdjust=\"spacingAndGlyphs\" textLength=\"108\" x=\"310\" y=\"228.9951\">Service Layer</text></a><a href=\"psysml:06e8cf4d-e880-4b5c-8fdb-0871598a4cb3\" target=\"_top\" title=\"psysml:06e8cf4d-e880-4b5c-8fdb-0871598a4cb3\" xlink:actuate=\"onRequest\" xlink:href=\"psysml:06e8cf4d-e880-4b5c-8fdb-0871598a4cb3\" xlink:show=\"new\" xlink:title=\"psysml:06e8cf4d-e880-4b5c-8fdb-0871598a4cb3\" xlink:type=\"simple\"><polygon fill=\"#FFFFFF\" filter=\"url(#fgz1w14tekmy0)\" points=\"318,344,408,344,415,366.2969,422,366.2969,422,396.5938,318,396.5938,318,344\" style=\"stroke: #000000; stroke-width: 1.5;\"/><line style=\"stroke: #000000; stroke-width: 1.5;\" x1=\"318\" x2=\"415\" y1=\"366.2969\" y2=\"366.2969\"/><text fill=\"#000000\" font-family=\"sans-serif\" font-size=\"14\" font-weight=\"bold\" lengthAdjust=\"spacingAndGlyphs\" textLength=\"84\" x=\"322\" y=\"358.9951\">Data Layer</text></a><!--MD5=[af87c684e3b0d8be13c1a698a818ef1e]\n",
       "link E3 to E4--><a href=\"psysml:ddd06611-1e40-467d-8133-a183585a6da5\" target=\"_top\" title=\"psysml:ddd06611-1e40-467d-8133-a183585a6da5\" xlink:actuate=\"onRequest\" xlink:href=\"psysml:ddd06611-1e40-467d-8133-a183585a6da5\" xlink:show=\"new\" xlink:title=\"psysml:ddd06611-1e40-467d-8133-a183585a6da5\" xlink:type=\"simple\"><path d=\"M370,137.1 C370,156.8 370,184.22 370,205.73 \" fill=\"none\" id=\"E3-&gt;E4\" style=\"stroke: #A80036; stroke-width: 1.0; stroke-dasharray: 7.0,7.0;\"/><polygon fill=\"#A80036\" points=\"370,213.95,373,205.95,367,205.95,370,213.95\" style=\"stroke: #A80036; stroke-width: 1.0;\"/><text fill=\"#000000\" font-family=\"sans-serif\" font-size=\"13\" lengthAdjust=\"spacingAndGlyphs\" textLength=\"64\" x=\"371\" y=\"180.0669\">«depend»</text></a><!--MD5=[1b7591eae5389033d8d09a9d6721a717]\n",
       "link E4 to E5--><a href=\"psysml:b5c0928c-fbc9-4433-ab1e-c084bfbcebd5\" target=\"_top\" title=\"psysml:b5c0928c-fbc9-4433-ab1e-c084bfbcebd5\" xlink:actuate=\"onRequest\" xlink:href=\"psysml:b5c0928c-fbc9-4433-ab1e-c084bfbcebd5\" xlink:show=\"new\" xlink:title=\"psysml:b5c0928c-fbc9-4433-ab1e-c084bfbcebd5\" xlink:type=\"simple\"><path d=\"M370,267.1 C370,286.8 370,314.22 370,335.73 \" fill=\"none\" id=\"E4-&gt;E5\" style=\"stroke: #A80036; stroke-width: 1.0; stroke-dasharray: 7.0,7.0;\"/><polygon fill=\"#A80036\" points=\"370,343.95,373,335.95,367,335.95,370,343.95\" style=\"stroke: #A80036; stroke-width: 1.0;\"/><text fill=\"#000000\" font-family=\"sans-serif\" font-size=\"13\" lengthAdjust=\"spacingAndGlyphs\" textLength=\"64\" x=\"371\" y=\"310.0669\">«depend»</text></a><!--MD5=[c5e8897d989ce984f93528998a7150fe]\n",
       "link E8 to E6--><a href=\"psysml:a0e318cd-0c17-433c-bc04-dbf1eaa3473c\" target=\"_top\" title=\"psysml:a0e318cd-0c17-433c-bc04-dbf1eaa3473c\" xlink:actuate=\"onRequest\" xlink:href=\"psysml:a0e318cd-0c17-433c-bc04-dbf1eaa3473c\" xlink:show=\"new\" xlink:title=\"psysml:a0e318cd-0c17-433c-bc04-dbf1eaa3473c\" xlink:type=\"simple\"><path d=\"M106.44,133.76 C97.3,143.01 88.09,154.51 83,167 C77.6,180.23 76.4,195.98 76.73,209.41 \" fill=\"none\" id=\"E8-&gt;E6\" style=\"stroke: #A80036; stroke-width: 1.0; stroke-dasharray: 7.0,7.0;\"/><polygon fill=\"#A80036\" points=\"77.12,217.43,79.7306,209.2946,73.7375,209.584,77.12,217.43\" style=\"stroke: #A80036; stroke-width: 1.0;\"/><text fill=\"#000000\" font-family=\"sans-serif\" font-size=\"13\" lengthAdjust=\"spacingAndGlyphs\" textLength=\"64\" x=\"84\" y=\"180.0669\">«depend»</text></a><!--MD5=[bfa3c8b0d15052fdf50ae9310b491027]\n",
       "link E8 to E7--><a href=\"psysml:a0e318cd-0c17-433c-bc04-dbf1eaa3473c\" target=\"_top\" title=\"psysml:a0e318cd-0c17-433c-bc04-dbf1eaa3473c\" xlink:actuate=\"onRequest\" xlink:href=\"psysml:a0e318cd-0c17-433c-bc04-dbf1eaa3473c\" xlink:show=\"new\" xlink:title=\"psysml:a0e318cd-0c17-433c-bc04-dbf1eaa3473c\" xlink:type=\"simple\"><path d=\"M146.58,133.5 C159.69,154.75 179.63,187.05 194.05,210.41 \" fill=\"none\" id=\"E8-&gt;E7\" style=\"stroke: #A80036; stroke-width: 1.0; stroke-dasharray: 7.0,7.0;\"/><polygon fill=\"#A80036\" points=\"198.33,217.35,196.6785,208.9671,191.5737,212.1201,198.33,217.35\" style=\"stroke: #A80036; stroke-width: 1.0;\"/><text fill=\"#000000\" font-family=\"sans-serif\" font-size=\"13\" lengthAdjust=\"spacingAndGlyphs\" textLength=\"64\" x=\"178\" y=\"180.0669\">«depend»</text></a><!--MD5=[7ad5a0597c458d0b76cb123d7b86e1d8]\n",
       "@startuml\r\n",
       " \r\n",
       "package \"DependencyTest\" as E1  [[psysml:01e86263-1e08-4c5e-80c8-9f3a01cb2b1c ]]  {\r\n",
       "package \"System\" as E2  [[psysml:65d9c171-277b-4a12-8988-537cd17218fe ]]  {\r\n",
       "package \"Application Layer\" as E3  [[psysml:7bbe8935-ee6e-44c3-abf9-e711bcee98e7 ]]  {\r\n",
       "}\r\n",
       "package \"Service Layer\" as E4  [[psysml:8539df59-9777-43d1-9cbc-191f1e3b0af0 ]]  {\r\n",
       "}\r\n",
       "package \"Data Layer\" as E5  [[psysml:06e8cf4d-e880-4b5c-8fdb-0871598a4cb3 ]]  {\r\n",
       "}\r\n",
       "}\r\n",
       "comp usage \"x\" as E6  <<(T,blue)attribute>> [[psysml:3f429861-8945-458a-afac-b9814097464d ]] {\r\n",
       "}\r\n",
       "comp usage \"y\" as E7  <<(T,blue)attribute>> [[psysml:f3318431-0d45-43ea-b254-330318c85eb0 ]] {\r\n",
       "}\r\n",
       "comp usage \"z\" as E8  <<(T,blue)attribute>> [[psysml:da180d87-042d-4ade-81c9-b5201399a446 ]] {\r\n",
       "}\r\n",
       "E3 ..>> E4 [[psysml:ddd06611-1e40-467d-8133-a183585a6da5 ]] : <<depend>>\r\n",
       "E4 ..>> E5 [[psysml:b5c0928c-fbc9-4433-ab1e-c084bfbcebd5 ]] : <<depend>>\r\n",
       "E8 ..>> E6 [[psysml:a0e318cd-0c17-433c-bc04-dbf1eaa3473c ]] : <<depend>>\r\n",
       "E8 ..>> E7 [[psysml:a0e318cd-0c17-433c-bc04-dbf1eaa3473c ]] : <<depend>>\r\n",
       "}\r\n",
       "@enduml\r\n",
       "\n",
       "PlantUML version 1.2020.13(Sat Jun 13 12:26:38 UTC 2020)\n",
       "(EPL source distribution)\n",
       "Java Runtime: OpenJDK Runtime Environment\n",
       "JVM: OpenJDK 64-Bit Server VM\n",
       "Default Encoding: UTF-8\n",
       "Language: en\n",
       "Country: null\n",
       "--></g></svg>"
      ]
     },
     "execution_count": 7,
     "metadata": {},
     "output_type": "execute_result"
    }
   ],
   "source": [
    "%viz --style=\"COMPTREE\" --view=\"Sequence\" \"DependencyTest\""
   ]
  },
  {
   "cell_type": "code",
   "execution_count": 8,
   "id": "compact-trail",
   "metadata": {
    "execution": {
     "iopub.execute_input": "2021-03-25T15:09:45.426672Z",
     "iopub.status.busy": "2021-03-25T15:09:45.426312Z",
     "iopub.status.idle": "2021-03-25T15:09:45.531873Z",
     "shell.execute_reply": "2021-03-25T15:09:45.532255Z"
    }
   },
   "outputs": [
    {
     "data": {
      "image/svg+xml": [
       "<?xml version=\"1.0\" encoding=\"UTF-8\" standalone=\"no\"?><svg xmlns=\"http://www.w3.org/2000/svg\" xmlns:xlink=\"http://www.w3.org/1999/xlink\" contentScriptType=\"application/ecmascript\" contentStyleType=\"text/css\" height=\"449px\" preserveAspectRatio=\"none\" style=\"width:510px;height:449px;\" version=\"1.1\" viewBox=\"0 0 510 449\" width=\"510px\" zoomAndPan=\"magnify\"><defs><filter height=\"300%\" id=\"fgz1w14tekmy0\" width=\"300%\" x=\"-1\" y=\"-1\"><feGaussianBlur result=\"blurOut\" stdDeviation=\"2.0\"/><feColorMatrix in=\"blurOut\" result=\"blurOut2\" type=\"matrix\" values=\"0 0 0 0 0 0 0 0 0 0 0 0 0 0 0 0 0 0 .4 0\"/><feOffset dx=\"4.0\" dy=\"4.0\" in=\"blurOut2\" result=\"blurOut3\"/><feBlend in=\"SourceGraphic\" in2=\"blurOut3\" mode=\"normal\"/></filter></defs><g><!--MD5=[fbc87193dbaf4d95561dea2c320d4a47]\n",
       "cluster E1--><a href=\"psysml:01e86263-1e08-4c5e-80c8-9f3a01cb2b1c\" target=\"_top\" title=\"psysml:01e86263-1e08-4c5e-80c8-9f3a01cb2b1c\" xlink:actuate=\"onRequest\" xlink:href=\"psysml:01e86263-1e08-4c5e-80c8-9f3a01cb2b1c\" xlink:show=\"new\" xlink:title=\"psysml:01e86263-1e08-4c5e-80c8-9f3a01cb2b1c\" xlink:type=\"simple\"><polygon fill=\"#FFFFFF\" filter=\"url(#fgz1w14tekmy0)\" points=\"16,6,156,6,163,28.2969,488,28.2969,488,437,16,437,16,6\" style=\"stroke: #000000; stroke-width: 1.5;\"/><line style=\"stroke: #000000; stroke-width: 1.5;\" x1=\"16\" x2=\"163\" y1=\"28.2969\" y2=\"28.2969\"/><text fill=\"#000000\" font-family=\"sans-serif\" font-size=\"14\" font-weight=\"bold\" lengthAdjust=\"spacingAndGlyphs\" textLength=\"134\" x=\"20\" y=\"20.9951\">DependencyTest</text></a><!--MD5=[e4f7fae6ed58524ba242bb0b0d3be6b7]\n",
       "cluster E2--><a href=\"psysml:65d9c171-277b-4a12-8988-537cd17218fe\" target=\"_top\" title=\"psysml:65d9c171-277b-4a12-8988-537cd17218fe\" xlink:actuate=\"onRequest\" xlink:href=\"psysml:65d9c171-277b-4a12-8988-537cd17218fe\" xlink:show=\"new\" xlink:title=\"psysml:65d9c171-277b-4a12-8988-537cd17218fe\" xlink:type=\"simple\"><polygon fill=\"#FFFFFF\" filter=\"url(#fgz1w14tekmy0)\" points=\"276,49,340,49,347,71.2969,464,71.2969,464,413,276,413,276,49\" style=\"stroke: #000000; stroke-width: 1.5;\"/><line style=\"stroke: #000000; stroke-width: 1.5;\" x1=\"276\" x2=\"347\" y1=\"71.2969\" y2=\"71.2969\"/><text fill=\"#000000\" font-family=\"sans-serif\" font-size=\"14\" font-weight=\"bold\" lengthAdjust=\"spacingAndGlyphs\" textLength=\"58\" x=\"280\" y=\"63.9951\">System</text></a><!--MD5=[60a26617385b1d2d0262a64233df1f8d]\n",
       "class E6--><a href=\"psysml:3f429861-8945-458a-afac-b9814097464d\" target=\"_top\" title=\"psysml:3f429861-8945-458a-afac-b9814097464d\" xlink:actuate=\"onRequest\" xlink:href=\"psysml:3f429861-8945-458a-afac-b9814097464d\" xlink:show=\"new\" xlink:title=\"psysml:3f429861-8945-458a-afac-b9814097464d\" xlink:type=\"simple\"><rect fill=\"#FEFECE\" filter=\"url(#fgz1w14tekmy0)\" height=\"45.9375\" id=\"E6\" rx=\"10\" ry=\"10\" style=\"stroke: #A80036; stroke-width: 1.5;\" width=\"97\" x=\"31.5\" y=\"217.5\"/><ellipse cx=\"46.5\" cy=\"236.4688\" fill=\"#0000FF\" rx=\"11\" ry=\"11\" style=\"stroke: #A80036; stroke-width: 1.0;\"/><path d=\"M47.3438,243.2188 L44.8906,243.2188 L44.8906,232.9688 L41.75,232.9688 L41.75,230.8281 L50.4844,230.8281 L50.4844,232.9688 L47.3438,232.9688 L47.3438,243.2188 Z \"/><text fill=\"#000000\" font-family=\"sans-serif\" font-size=\"12\" font-style=\"italic\" lengthAdjust=\"spacingAndGlyphs\" textLength=\"69\" x=\"58.5\" y=\"233.6387\">«attribute»</text><text fill=\"#000000\" font-family=\"sans-serif\" font-size=\"12\" lengthAdjust=\"spacingAndGlyphs\" textLength=\"6\" x=\"90\" y=\"247.6074\">x</text><line style=\"stroke: #A80036; stroke-width: 1.5;\" x1=\"32.5\" x2=\"127.5\" y1=\"255.4375\" y2=\"255.4375\"/></a><!--MD5=[2156ba9850f5573cc1fc38a6a4b2f02b]\n",
       "class E7--><a href=\"psysml:f3318431-0d45-43ea-b254-330318c85eb0\" target=\"_top\" title=\"psysml:f3318431-0d45-43ea-b254-330318c85eb0\" xlink:actuate=\"onRequest\" xlink:href=\"psysml:f3318431-0d45-43ea-b254-330318c85eb0\" xlink:show=\"new\" xlink:title=\"psysml:f3318431-0d45-43ea-b254-330318c85eb0\" xlink:type=\"simple\"><rect fill=\"#FEFECE\" filter=\"url(#fgz1w14tekmy0)\" height=\"45.9375\" id=\"E7\" rx=\"10\" ry=\"10\" style=\"stroke: #A80036; stroke-width: 1.5;\" width=\"97\" x=\"163.5\" y=\"217.5\"/><ellipse cx=\"178.5\" cy=\"236.4688\" fill=\"#0000FF\" rx=\"11\" ry=\"11\" style=\"stroke: #A80036; stroke-width: 1.0;\"/><path d=\"M179.3438,243.2188 L176.8906,243.2188 L176.8906,232.9688 L173.75,232.9688 L173.75,230.8281 L182.4844,230.8281 L182.4844,232.9688 L179.3438,232.9688 L179.3438,243.2188 Z \"/><text fill=\"#000000\" font-family=\"sans-serif\" font-size=\"12\" font-style=\"italic\" lengthAdjust=\"spacingAndGlyphs\" textLength=\"69\" x=\"190.5\" y=\"233.6387\">«attribute»</text><text fill=\"#000000\" font-family=\"sans-serif\" font-size=\"12\" lengthAdjust=\"spacingAndGlyphs\" textLength=\"6\" x=\"222\" y=\"247.6074\">y</text><line style=\"stroke: #A80036; stroke-width: 1.5;\" x1=\"164.5\" x2=\"259.5\" y1=\"255.4375\" y2=\"255.4375\"/></a><!--MD5=[b9389687b975829384b498ac4b7476b2]\n",
       "class E8--><a href=\"psysml:da180d87-042d-4ade-81c9-b5201399a446\" target=\"_top\" title=\"psysml:da180d87-042d-4ade-81c9-b5201399a446\" xlink:actuate=\"onRequest\" xlink:href=\"psysml:da180d87-042d-4ade-81c9-b5201399a446\" xlink:show=\"new\" xlink:title=\"psysml:da180d87-042d-4ade-81c9-b5201399a446\" xlink:type=\"simple\"><rect fill=\"#FEFECE\" filter=\"url(#fgz1w14tekmy0)\" height=\"45.9375\" id=\"E8\" rx=\"10\" ry=\"10\" style=\"stroke: #A80036; stroke-width: 1.5;\" width=\"97\" x=\"84.5\" y=\"87.5\"/><ellipse cx=\"99.5\" cy=\"106.4688\" fill=\"#0000FF\" rx=\"11\" ry=\"11\" style=\"stroke: #A80036; stroke-width: 1.0;\"/><path d=\"M100.3438,113.2188 L97.8906,113.2188 L97.8906,102.9688 L94.75,102.9688 L94.75,100.8281 L103.4844,100.8281 L103.4844,102.9688 L100.3438,102.9688 L100.3438,113.2188 Z \"/><text fill=\"#000000\" font-family=\"sans-serif\" font-size=\"12\" font-style=\"italic\" lengthAdjust=\"spacingAndGlyphs\" textLength=\"69\" x=\"111.5\" y=\"103.6387\">«attribute»</text><text fill=\"#000000\" font-family=\"sans-serif\" font-size=\"12\" lengthAdjust=\"spacingAndGlyphs\" textLength=\"5\" x=\"143.5\" y=\"117.6074\">z</text><line style=\"stroke: #A80036; stroke-width: 1.5;\" x1=\"85.5\" x2=\"180.5\" y1=\"125.4375\" y2=\"125.4375\"/></a><a href=\"psysml:7bbe8935-ee6e-44c3-abf9-e711bcee98e7\" target=\"_top\" title=\"psysml:7bbe8935-ee6e-44c3-abf9-e711bcee98e7\" xlink:actuate=\"onRequest\" xlink:href=\"psysml:7bbe8935-ee6e-44c3-abf9-e711bcee98e7\" xlink:show=\"new\" xlink:title=\"psysml:7bbe8935-ee6e-44c3-abf9-e711bcee98e7\" xlink:type=\"simple\"><polygon fill=\"#FFFFFF\" filter=\"url(#fgz1w14tekmy0)\" points=\"292,84,434,84,441,106.2969,448,106.2969,448,136.5938,292,136.5938,292,84\" style=\"stroke: #000000; stroke-width: 1.5;\"/><line style=\"stroke: #000000; stroke-width: 1.5;\" x1=\"292\" x2=\"441\" y1=\"106.2969\" y2=\"106.2969\"/><text fill=\"#000000\" font-family=\"sans-serif\" font-size=\"14\" font-weight=\"bold\" lengthAdjust=\"spacingAndGlyphs\" textLength=\"136\" x=\"296\" y=\"98.9951\">Application Layer</text></a><a href=\"psysml:8539df59-9777-43d1-9cbc-191f1e3b0af0\" target=\"_top\" title=\"psysml:8539df59-9777-43d1-9cbc-191f1e3b0af0\" xlink:actuate=\"onRequest\" xlink:href=\"psysml:8539df59-9777-43d1-9cbc-191f1e3b0af0\" xlink:show=\"new\" xlink:title=\"psysml:8539df59-9777-43d1-9cbc-191f1e3b0af0\" xlink:type=\"simple\"><polygon fill=\"#FFFFFF\" filter=\"url(#fgz1w14tekmy0)\" points=\"306,214,420,214,427,236.2969,434,236.2969,434,266.5938,306,266.5938,306,214\" style=\"stroke: #000000; stroke-width: 1.5;\"/><line style=\"stroke: #000000; stroke-width: 1.5;\" x1=\"306\" x2=\"427\" y1=\"236.2969\" y2=\"236.2969\"/><text fill=\"#000000\" font-family=\"sans-serif\" font-size=\"14\" font-weight=\"bold\" lengthAdjust=\"spacingAndGlyphs\" textLength=\"108\" x=\"310\" y=\"228.9951\">Service Layer</text></a><a href=\"psysml:06e8cf4d-e880-4b5c-8fdb-0871598a4cb3\" target=\"_top\" title=\"psysml:06e8cf4d-e880-4b5c-8fdb-0871598a4cb3\" xlink:actuate=\"onRequest\" xlink:href=\"psysml:06e8cf4d-e880-4b5c-8fdb-0871598a4cb3\" xlink:show=\"new\" xlink:title=\"psysml:06e8cf4d-e880-4b5c-8fdb-0871598a4cb3\" xlink:type=\"simple\"><polygon fill=\"#FFFFFF\" filter=\"url(#fgz1w14tekmy0)\" points=\"318,344,408,344,415,366.2969,422,366.2969,422,396.5938,318,396.5938,318,344\" style=\"stroke: #000000; stroke-width: 1.5;\"/><line style=\"stroke: #000000; stroke-width: 1.5;\" x1=\"318\" x2=\"415\" y1=\"366.2969\" y2=\"366.2969\"/><text fill=\"#000000\" font-family=\"sans-serif\" font-size=\"14\" font-weight=\"bold\" lengthAdjust=\"spacingAndGlyphs\" textLength=\"84\" x=\"322\" y=\"358.9951\">Data Layer</text></a><!--MD5=[af87c684e3b0d8be13c1a698a818ef1e]\n",
       "link E3 to E4--><a href=\"psysml:ddd06611-1e40-467d-8133-a183585a6da5\" target=\"_top\" title=\"psysml:ddd06611-1e40-467d-8133-a183585a6da5\" xlink:actuate=\"onRequest\" xlink:href=\"psysml:ddd06611-1e40-467d-8133-a183585a6da5\" xlink:show=\"new\" xlink:title=\"psysml:ddd06611-1e40-467d-8133-a183585a6da5\" xlink:type=\"simple\"><path d=\"M370,137.1 C370,156.8 370,184.22 370,205.73 \" fill=\"none\" id=\"E3-&gt;E4\" style=\"stroke: #A80036; stroke-width: 1.0; stroke-dasharray: 7.0,7.0;\"/><polygon fill=\"#A80036\" points=\"370,213.95,373,205.95,367,205.95,370,213.95\" style=\"stroke: #A80036; stroke-width: 1.0;\"/><text fill=\"#000000\" font-family=\"sans-serif\" font-size=\"13\" lengthAdjust=\"spacingAndGlyphs\" textLength=\"64\" x=\"371\" y=\"180.0669\">«depend»</text></a><!--MD5=[1b7591eae5389033d8d09a9d6721a717]\n",
       "link E4 to E5--><a href=\"psysml:b5c0928c-fbc9-4433-ab1e-c084bfbcebd5\" target=\"_top\" title=\"psysml:b5c0928c-fbc9-4433-ab1e-c084bfbcebd5\" xlink:actuate=\"onRequest\" xlink:href=\"psysml:b5c0928c-fbc9-4433-ab1e-c084bfbcebd5\" xlink:show=\"new\" xlink:title=\"psysml:b5c0928c-fbc9-4433-ab1e-c084bfbcebd5\" xlink:type=\"simple\"><path d=\"M370,267.1 C370,286.8 370,314.22 370,335.73 \" fill=\"none\" id=\"E4-&gt;E5\" style=\"stroke: #A80036; stroke-width: 1.0; stroke-dasharray: 7.0,7.0;\"/><polygon fill=\"#A80036\" points=\"370,343.95,373,335.95,367,335.95,370,343.95\" style=\"stroke: #A80036; stroke-width: 1.0;\"/><text fill=\"#000000\" font-family=\"sans-serif\" font-size=\"13\" lengthAdjust=\"spacingAndGlyphs\" textLength=\"64\" x=\"371\" y=\"310.0669\">«depend»</text></a><!--MD5=[c5e8897d989ce984f93528998a7150fe]\n",
       "link E8 to E6--><a href=\"psysml:a0e318cd-0c17-433c-bc04-dbf1eaa3473c\" target=\"_top\" title=\"psysml:a0e318cd-0c17-433c-bc04-dbf1eaa3473c\" xlink:actuate=\"onRequest\" xlink:href=\"psysml:a0e318cd-0c17-433c-bc04-dbf1eaa3473c\" xlink:show=\"new\" xlink:title=\"psysml:a0e318cd-0c17-433c-bc04-dbf1eaa3473c\" xlink:type=\"simple\"><path d=\"M106.44,133.76 C97.3,143.01 88.09,154.51 83,167 C77.6,180.23 76.4,195.98 76.73,209.41 \" fill=\"none\" id=\"E8-&gt;E6\" style=\"stroke: #A80036; stroke-width: 1.0; stroke-dasharray: 7.0,7.0;\"/><polygon fill=\"#A80036\" points=\"77.12,217.43,79.7306,209.2946,73.7375,209.584,77.12,217.43\" style=\"stroke: #A80036; stroke-width: 1.0;\"/><text fill=\"#000000\" font-family=\"sans-serif\" font-size=\"13\" lengthAdjust=\"spacingAndGlyphs\" textLength=\"64\" x=\"84\" y=\"180.0669\">«depend»</text></a><!--MD5=[bfa3c8b0d15052fdf50ae9310b491027]\n",
       "link E8 to E7--><a href=\"psysml:a0e318cd-0c17-433c-bc04-dbf1eaa3473c\" target=\"_top\" title=\"psysml:a0e318cd-0c17-433c-bc04-dbf1eaa3473c\" xlink:actuate=\"onRequest\" xlink:href=\"psysml:a0e318cd-0c17-433c-bc04-dbf1eaa3473c\" xlink:show=\"new\" xlink:title=\"psysml:a0e318cd-0c17-433c-bc04-dbf1eaa3473c\" xlink:type=\"simple\"><path d=\"M146.58,133.5 C159.69,154.75 179.63,187.05 194.05,210.41 \" fill=\"none\" id=\"E8-&gt;E7\" style=\"stroke: #A80036; stroke-width: 1.0; stroke-dasharray: 7.0,7.0;\"/><polygon fill=\"#A80036\" points=\"198.33,217.35,196.6785,208.9671,191.5737,212.1201,198.33,217.35\" style=\"stroke: #A80036; stroke-width: 1.0;\"/><text fill=\"#000000\" font-family=\"sans-serif\" font-size=\"13\" lengthAdjust=\"spacingAndGlyphs\" textLength=\"64\" x=\"178\" y=\"180.0669\">«depend»</text></a><!--MD5=[7ad5a0597c458d0b76cb123d7b86e1d8]\n",
       "@startuml\r\n",
       " \r\n",
       "package \"DependencyTest\" as E1  [[psysml:01e86263-1e08-4c5e-80c8-9f3a01cb2b1c ]]  {\r\n",
       "package \"System\" as E2  [[psysml:65d9c171-277b-4a12-8988-537cd17218fe ]]  {\r\n",
       "package \"Application Layer\" as E3  [[psysml:7bbe8935-ee6e-44c3-abf9-e711bcee98e7 ]]  {\r\n",
       "}\r\n",
       "package \"Service Layer\" as E4  [[psysml:8539df59-9777-43d1-9cbc-191f1e3b0af0 ]]  {\r\n",
       "}\r\n",
       "package \"Data Layer\" as E5  [[psysml:06e8cf4d-e880-4b5c-8fdb-0871598a4cb3 ]]  {\r\n",
       "}\r\n",
       "}\r\n",
       "comp usage \"x\" as E6  <<(T,blue)attribute>> [[psysml:3f429861-8945-458a-afac-b9814097464d ]] {\r\n",
       "}\r\n",
       "comp usage \"y\" as E7  <<(T,blue)attribute>> [[psysml:f3318431-0d45-43ea-b254-330318c85eb0 ]] {\r\n",
       "}\r\n",
       "comp usage \"z\" as E8  <<(T,blue)attribute>> [[psysml:da180d87-042d-4ade-81c9-b5201399a446 ]] {\r\n",
       "}\r\n",
       "E3 ..>> E4 [[psysml:ddd06611-1e40-467d-8133-a183585a6da5 ]] : <<depend>>\r\n",
       "E4 ..>> E5 [[psysml:b5c0928c-fbc9-4433-ab1e-c084bfbcebd5 ]] : <<depend>>\r\n",
       "E8 ..>> E6 [[psysml:a0e318cd-0c17-433c-bc04-dbf1eaa3473c ]] : <<depend>>\r\n",
       "E8 ..>> E7 [[psysml:a0e318cd-0c17-433c-bc04-dbf1eaa3473c ]] : <<depend>>\r\n",
       "}\r\n",
       "@enduml\r\n",
       "\n",
       "PlantUML version 1.2020.13(Sat Jun 13 12:26:38 UTC 2020)\n",
       "(EPL source distribution)\n",
       "Java Runtime: OpenJDK Runtime Environment\n",
       "JVM: OpenJDK 64-Bit Server VM\n",
       "Default Encoding: UTF-8\n",
       "Language: en\n",
       "Country: null\n",
       "--></g></svg>"
      ]
     },
     "execution_count": 8,
     "metadata": {},
     "output_type": "execute_result"
    }
   ],
   "source": [
    "%viz --style=\"COMPTREE\" --view=\"MIXED\" \"DependencyTest\""
   ]
  },
  {
   "cell_type": "code",
   "execution_count": 9,
   "id": "liable-navigator",
   "metadata": {
    "execution": {
     "iopub.execute_input": "2021-03-25T15:09:45.583102Z",
     "iopub.status.busy": "2021-03-25T15:09:45.582703Z",
     "iopub.status.idle": "2021-03-25T15:09:45.693182Z",
     "shell.execute_reply": "2021-03-25T15:09:45.691736Z"
    }
   },
   "outputs": [
    {
     "data": {
      "image/svg+xml": [
       "<?xml version=\"1.0\" encoding=\"UTF-8\" standalone=\"no\"?><svg xmlns=\"http://www.w3.org/2000/svg\" xmlns:xlink=\"http://www.w3.org/1999/xlink\" contentScriptType=\"application/ecmascript\" contentStyleType=\"text/css\" height=\"449px\" preserveAspectRatio=\"none\" style=\"width:489px;height:449px;\" version=\"1.1\" viewBox=\"0 0 489 449\" width=\"489px\" zoomAndPan=\"magnify\"><defs/><g><!--MD5=[fbc87193dbaf4d95561dea2c320d4a47]\n",
       "cluster E1--><a href=\"psysml:01e86263-1e08-4c5e-80c8-9f3a01cb2b1c\" target=\"_top\" title=\"psysml:01e86263-1e08-4c5e-80c8-9f3a01cb2b1c\" xlink:actuate=\"onRequest\" xlink:href=\"psysml:01e86263-1e08-4c5e-80c8-9f3a01cb2b1c\" xlink:show=\"new\" xlink:title=\"psysml:01e86263-1e08-4c5e-80c8-9f3a01cb2b1c\" xlink:type=\"simple\"><polygon fill=\"#FFFFFF\" points=\"16,6,156,6,163,28.2969,467,28.2969,467,437,16,437,16,6\" style=\"stroke: #000000; stroke-width: 1.5;\"/><line style=\"stroke: #000000; stroke-width: 1.5;\" x1=\"16\" x2=\"163\" y1=\"28.2969\" y2=\"28.2969\"/><text fill=\"#000000\" font-family=\"sans-serif\" font-size=\"14\" font-weight=\"bold\" lengthAdjust=\"spacingAndGlyphs\" textLength=\"134\" x=\"20\" y=\"20.9951\">DependencyTest</text></a><!--MD5=[e4f7fae6ed58524ba242bb0b0d3be6b7]\n",
       "cluster E2--><a href=\"psysml:65d9c171-277b-4a12-8988-537cd17218fe\" target=\"_top\" title=\"psysml:65d9c171-277b-4a12-8988-537cd17218fe\" xlink:actuate=\"onRequest\" xlink:href=\"psysml:65d9c171-277b-4a12-8988-537cd17218fe\" xlink:show=\"new\" xlink:title=\"psysml:65d9c171-277b-4a12-8988-537cd17218fe\" xlink:type=\"simple\"><polygon fill=\"#FFFFFF\" points=\"255,49,319,49,326,71.2969,443,71.2969,443,413,255,413,255,49\" style=\"stroke: #000000; stroke-width: 1.5;\"/><line style=\"stroke: #000000; stroke-width: 1.5;\" x1=\"255\" x2=\"326\" y1=\"71.2969\" y2=\"71.2969\"/><text fill=\"#000000\" font-family=\"sans-serif\" font-size=\"14\" font-weight=\"bold\" lengthAdjust=\"spacingAndGlyphs\" textLength=\"58\" x=\"259\" y=\"63.9951\">System</text></a><!--MD5=[60a26617385b1d2d0262a64233df1f8d]\n",
       "class E6--><a href=\"psysml:3f429861-8945-458a-afac-b9814097464d\" target=\"_top\" title=\"psysml:3f429861-8945-458a-afac-b9814097464d\" xlink:actuate=\"onRequest\" xlink:href=\"psysml:3f429861-8945-458a-afac-b9814097464d\" xlink:show=\"new\" xlink:title=\"psysml:3f429861-8945-458a-afac-b9814097464d\" xlink:type=\"simple\"><rect fill=\"#FFFFFF\" height=\"45.9375\" id=\"E6\" rx=\"10\" ry=\"10\" style=\"stroke: #383838; stroke-width: 1.5;\" width=\"71\" x=\"32.5\" y=\"217.5\"/><text fill=\"#000000\" font-family=\"sans-serif\" font-size=\"12\" font-style=\"italic\" lengthAdjust=\"spacingAndGlyphs\" textLength=\"69\" x=\"33.5\" y=\"233.6387\">«attribute»</text><text fill=\"#000000\" font-family=\"sans-serif\" font-size=\"12\" lengthAdjust=\"spacingAndGlyphs\" textLength=\"6\" x=\"65\" y=\"247.6074\">x</text><line style=\"stroke: #383838; stroke-width: 1.5;\" x1=\"33.5\" x2=\"102.5\" y1=\"255.4375\" y2=\"255.4375\"/></a><!--MD5=[2156ba9850f5573cc1fc38a6a4b2f02b]\n",
       "class E7--><a href=\"psysml:f3318431-0d45-43ea-b254-330318c85eb0\" target=\"_top\" title=\"psysml:f3318431-0d45-43ea-b254-330318c85eb0\" xlink:actuate=\"onRequest\" xlink:href=\"psysml:f3318431-0d45-43ea-b254-330318c85eb0\" xlink:show=\"new\" xlink:title=\"psysml:f3318431-0d45-43ea-b254-330318c85eb0\" xlink:type=\"simple\"><rect fill=\"#FFFFFF\" height=\"45.9375\" id=\"E7\" rx=\"10\" ry=\"10\" style=\"stroke: #383838; stroke-width: 1.5;\" width=\"71\" x=\"138.5\" y=\"217.5\"/><text fill=\"#000000\" font-family=\"sans-serif\" font-size=\"12\" font-style=\"italic\" lengthAdjust=\"spacingAndGlyphs\" textLength=\"69\" x=\"139.5\" y=\"233.6387\">«attribute»</text><text fill=\"#000000\" font-family=\"sans-serif\" font-size=\"12\" lengthAdjust=\"spacingAndGlyphs\" textLength=\"6\" x=\"171\" y=\"247.6074\">y</text><line style=\"stroke: #383838; stroke-width: 1.5;\" x1=\"139.5\" x2=\"208.5\" y1=\"255.4375\" y2=\"255.4375\"/></a><!--MD5=[b9389687b975829384b498ac4b7476b2]\n",
       "class E8--><a href=\"psysml:da180d87-042d-4ade-81c9-b5201399a446\" target=\"_top\" title=\"psysml:da180d87-042d-4ade-81c9-b5201399a446\" xlink:actuate=\"onRequest\" xlink:href=\"psysml:da180d87-042d-4ade-81c9-b5201399a446\" xlink:show=\"new\" xlink:title=\"psysml:da180d87-042d-4ade-81c9-b5201399a446\" xlink:type=\"simple\"><rect fill=\"#FFFFFF\" height=\"45.9375\" id=\"E8\" rx=\"10\" ry=\"10\" style=\"stroke: #383838; stroke-width: 1.5;\" width=\"71\" x=\"84.5\" y=\"87.5\"/><text fill=\"#000000\" font-family=\"sans-serif\" font-size=\"12\" font-style=\"italic\" lengthAdjust=\"spacingAndGlyphs\" textLength=\"69\" x=\"85.5\" y=\"103.6387\">«attribute»</text><text fill=\"#000000\" font-family=\"sans-serif\" font-size=\"12\" lengthAdjust=\"spacingAndGlyphs\" textLength=\"5\" x=\"117.5\" y=\"117.6074\">z</text><line style=\"stroke: #383838; stroke-width: 1.5;\" x1=\"85.5\" x2=\"154.5\" y1=\"125.4375\" y2=\"125.4375\"/></a><a href=\"psysml:7bbe8935-ee6e-44c3-abf9-e711bcee98e7\" target=\"_top\" title=\"psysml:7bbe8935-ee6e-44c3-abf9-e711bcee98e7\" xlink:actuate=\"onRequest\" xlink:href=\"psysml:7bbe8935-ee6e-44c3-abf9-e711bcee98e7\" xlink:show=\"new\" xlink:title=\"psysml:7bbe8935-ee6e-44c3-abf9-e711bcee98e7\" xlink:type=\"simple\"><polygon fill=\"#FFFFFF\" points=\"271,84,413,84,420,106.2969,427,106.2969,427,136.5938,271,136.5938,271,84\" style=\"stroke: #000000; stroke-width: 1.5;\"/><line style=\"stroke: #000000; stroke-width: 1.5;\" x1=\"271\" x2=\"420\" y1=\"106.2969\" y2=\"106.2969\"/><text fill=\"#000000\" font-family=\"sans-serif\" font-size=\"14\" font-weight=\"bold\" lengthAdjust=\"spacingAndGlyphs\" textLength=\"136\" x=\"275\" y=\"98.9951\">Application Layer</text></a><a href=\"psysml:8539df59-9777-43d1-9cbc-191f1e3b0af0\" target=\"_top\" title=\"psysml:8539df59-9777-43d1-9cbc-191f1e3b0af0\" xlink:actuate=\"onRequest\" xlink:href=\"psysml:8539df59-9777-43d1-9cbc-191f1e3b0af0\" xlink:show=\"new\" xlink:title=\"psysml:8539df59-9777-43d1-9cbc-191f1e3b0af0\" xlink:type=\"simple\"><polygon fill=\"#FFFFFF\" points=\"285,214,399,214,406,236.2969,413,236.2969,413,266.5938,285,266.5938,285,214\" style=\"stroke: #000000; stroke-width: 1.5;\"/><line style=\"stroke: #000000; stroke-width: 1.5;\" x1=\"285\" x2=\"406\" y1=\"236.2969\" y2=\"236.2969\"/><text fill=\"#000000\" font-family=\"sans-serif\" font-size=\"14\" font-weight=\"bold\" lengthAdjust=\"spacingAndGlyphs\" textLength=\"108\" x=\"289\" y=\"228.9951\">Service Layer</text></a><a href=\"psysml:06e8cf4d-e880-4b5c-8fdb-0871598a4cb3\" target=\"_top\" title=\"psysml:06e8cf4d-e880-4b5c-8fdb-0871598a4cb3\" xlink:actuate=\"onRequest\" xlink:href=\"psysml:06e8cf4d-e880-4b5c-8fdb-0871598a4cb3\" xlink:show=\"new\" xlink:title=\"psysml:06e8cf4d-e880-4b5c-8fdb-0871598a4cb3\" xlink:type=\"simple\"><polygon fill=\"#FFFFFF\" points=\"297,344,387,344,394,366.2969,401,366.2969,401,396.5938,297,396.5938,297,344\" style=\"stroke: #000000; stroke-width: 1.5;\"/><line style=\"stroke: #000000; stroke-width: 1.5;\" x1=\"297\" x2=\"394\" y1=\"366.2969\" y2=\"366.2969\"/><text fill=\"#000000\" font-family=\"sans-serif\" font-size=\"14\" font-weight=\"bold\" lengthAdjust=\"spacingAndGlyphs\" textLength=\"84\" x=\"301\" y=\"358.9951\">Data Layer</text></a><!--MD5=[af87c684e3b0d8be13c1a698a818ef1e]\n",
       "link E3 to E4--><a href=\"psysml:ddd06611-1e40-467d-8133-a183585a6da5\" target=\"_top\" title=\"psysml:ddd06611-1e40-467d-8133-a183585a6da5\" xlink:actuate=\"onRequest\" xlink:href=\"psysml:ddd06611-1e40-467d-8133-a183585a6da5\" xlink:show=\"new\" xlink:title=\"psysml:ddd06611-1e40-467d-8133-a183585a6da5\" xlink:type=\"simple\"><path d=\"M349,137.1 C349,156.8 349,184.22 349,205.73 \" fill=\"none\" id=\"E3-&gt;E4\" style=\"stroke: #383838; stroke-width: 1.0; stroke-dasharray: 7.0,7.0;\"/><polygon fill=\"#383838\" points=\"349,213.95,352,205.95,346,205.95,349,213.95\" style=\"stroke: #383838; stroke-width: 1.0;\"/><text fill=\"#000000\" font-family=\"sans-serif\" font-size=\"13\" lengthAdjust=\"spacingAndGlyphs\" textLength=\"64\" x=\"350\" y=\"180.0669\">«depend»</text></a><!--MD5=[1b7591eae5389033d8d09a9d6721a717]\n",
       "link E4 to E5--><a href=\"psysml:b5c0928c-fbc9-4433-ab1e-c084bfbcebd5\" target=\"_top\" title=\"psysml:b5c0928c-fbc9-4433-ab1e-c084bfbcebd5\" xlink:actuate=\"onRequest\" xlink:href=\"psysml:b5c0928c-fbc9-4433-ab1e-c084bfbcebd5\" xlink:show=\"new\" xlink:title=\"psysml:b5c0928c-fbc9-4433-ab1e-c084bfbcebd5\" xlink:type=\"simple\"><path d=\"M349,267.1 C349,286.8 349,314.22 349,335.73 \" fill=\"none\" id=\"E4-&gt;E5\" style=\"stroke: #383838; stroke-width: 1.0; stroke-dasharray: 7.0,7.0;\"/><polygon fill=\"#383838\" points=\"349,343.95,352,335.95,346,335.95,349,343.95\" style=\"stroke: #383838; stroke-width: 1.0;\"/><text fill=\"#000000\" font-family=\"sans-serif\" font-size=\"13\" lengthAdjust=\"spacingAndGlyphs\" textLength=\"64\" x=\"350\" y=\"310.0669\">«depend»</text></a><!--MD5=[c5e8897d989ce984f93528998a7150fe]\n",
       "link E8 to E6--><a href=\"psysml:a0e318cd-0c17-433c-bc04-dbf1eaa3473c\" target=\"_top\" title=\"psysml:a0e318cd-0c17-433c-bc04-dbf1eaa3473c\" xlink:actuate=\"onRequest\" xlink:href=\"psysml:a0e318cd-0c17-433c-bc04-dbf1eaa3473c\" xlink:show=\"new\" xlink:title=\"psysml:a0e318cd-0c17-433c-bc04-dbf1eaa3473c\" xlink:type=\"simple\"><path d=\"M97.55,133.75 C81.97,149.19 64,167 64,167 C64,167 64,184 64,184 C64,184 64.88,196.21 65.81,209.18 \" fill=\"none\" id=\"E8-&gt;E6\" style=\"stroke: #383838; stroke-width: 1.0; stroke-dasharray: 7.0,7.0;\"/><polygon fill=\"#383838\" points=\"66.4,217.25,68.8203,209.056,62.8357,209.485,66.4,217.25\" style=\"stroke: #383838; stroke-width: 1.0;\"/><text fill=\"#000000\" font-family=\"sans-serif\" font-size=\"13\" lengthAdjust=\"spacingAndGlyphs\" textLength=\"64\" x=\"65\" y=\"180.0669\">«depend»</text></a><!--MD5=[bfa3c8b0d15052fdf50ae9310b491027]\n",
       "link E8 to E7--><a href=\"psysml:a0e318cd-0c17-433c-bc04-dbf1eaa3473c\" target=\"_top\" title=\"psysml:a0e318cd-0c17-433c-bc04-dbf1eaa3473c\" xlink:actuate=\"onRequest\" xlink:href=\"psysml:a0e318cd-0c17-433c-bc04-dbf1eaa3473c\" xlink:show=\"new\" xlink:title=\"psysml:a0e318cd-0c17-433c-bc04-dbf1eaa3473c\" xlink:type=\"simple\"><path d=\"M129.28,133.5 C138.17,154.57 151.64,186.5 161.47,209.81 \" fill=\"none\" id=\"E8-&gt;E7\" style=\"stroke: #383838; stroke-width: 1.0; stroke-dasharray: 7.0,7.0;\"/><polygon fill=\"#383838\" points=\"164.66,217.35,164.3241,208.8126,158.7933,211.1385,164.66,217.35\" style=\"stroke: #383838; stroke-width: 1.0;\"/><text fill=\"#000000\" font-family=\"sans-serif\" font-size=\"13\" lengthAdjust=\"spacingAndGlyphs\" textLength=\"64\" x=\"151\" y=\"180.0669\">«depend»</text></a><!--MD5=[fec29e4d51074f8bc52302de161236b9]\n",
       "@startuml\r\n",
       "skinparam linetype polyline\r\n",
       "skinparam monochrome true\r\n",
       "skinparam classbackgroundcolor white\r\n",
       "skinparam shadowing false\r\n",
       "skinparam wrapWidth 300\r\n",
       "hide circle\r\n",
       "\r\n",
       "package \"DependencyTest\" as E1  [[psysml:01e86263-1e08-4c5e-80c8-9f3a01cb2b1c ]]  {\r\n",
       "package \"System\" as E2  [[psysml:65d9c171-277b-4a12-8988-537cd17218fe ]]  {\r\n",
       "package \"Application Layer\" as E3  [[psysml:7bbe8935-ee6e-44c3-abf9-e711bcee98e7 ]]  {\r\n",
       "}\r\n",
       "package \"Service Layer\" as E4  [[psysml:8539df59-9777-43d1-9cbc-191f1e3b0af0 ]]  {\r\n",
       "}\r\n",
       "package \"Data Layer\" as E5  [[psysml:06e8cf4d-e880-4b5c-8fdb-0871598a4cb3 ]]  {\r\n",
       "}\r\n",
       "}\r\n",
       "comp usage \"x\" as E6  <<(T,blue)attribute>> [[psysml:3f429861-8945-458a-afac-b9814097464d ]] {\r\n",
       "}\r\n",
       "comp usage \"y\" as E7  <<(T,blue)attribute>> [[psysml:f3318431-0d45-43ea-b254-330318c85eb0 ]] {\r\n",
       "}\r\n",
       "comp usage \"z\" as E8  <<(T,blue)attribute>> [[psysml:da180d87-042d-4ade-81c9-b5201399a446 ]] {\r\n",
       "}\r\n",
       "E3 ..>> E4 [[psysml:ddd06611-1e40-467d-8133-a183585a6da5 ]] : <<depend>>\r\n",
       "E4 ..>> E5 [[psysml:b5c0928c-fbc9-4433-ab1e-c084bfbcebd5 ]] : <<depend>>\r\n",
       "E8 ..>> E6 [[psysml:a0e318cd-0c17-433c-bc04-dbf1eaa3473c ]] : <<depend>>\r\n",
       "E8 ..>> E7 [[psysml:a0e318cd-0c17-433c-bc04-dbf1eaa3473c ]] : <<depend>>\r\n",
       "}\r\n",
       "@enduml\r\n",
       "\n",
       "PlantUML version 1.2020.13(Sat Jun 13 12:26:38 UTC 2020)\n",
       "(EPL source distribution)\n",
       "Java Runtime: OpenJDK Runtime Environment\n",
       "JVM: OpenJDK 64-Bit Server VM\n",
       "Default Encoding: UTF-8\n",
       "Language: en\n",
       "Country: null\n",
       "--></g></svg>"
      ]
     },
     "execution_count": 9,
     "metadata": {},
     "output_type": "execute_result"
    }
   ],
   "source": [
    "%viz --style=\"POLYLINE\" --view=\"Default\" \"DependencyTest\""
   ]
  },
  {
   "cell_type": "code",
   "execution_count": 10,
   "id": "rapid-identifier",
   "metadata": {
    "execution": {
     "iopub.execute_input": "2021-03-25T15:09:45.744007Z",
     "iopub.status.busy": "2021-03-25T15:09:45.743624Z",
     "iopub.status.idle": "2021-03-25T15:09:45.862467Z",
     "shell.execute_reply": "2021-03-25T15:09:45.862086Z"
    }
   },
   "outputs": [
    {
     "data": {
      "image/svg+xml": [
       "<?xml version=\"1.0\" encoding=\"UTF-8\" standalone=\"no\"?><svg xmlns=\"http://www.w3.org/2000/svg\" xmlns:xlink=\"http://www.w3.org/1999/xlink\" contentScriptType=\"application/ecmascript\" contentStyleType=\"text/css\" height=\"449px\" preserveAspectRatio=\"none\" style=\"width:489px;height:449px;\" version=\"1.1\" viewBox=\"0 0 489 449\" width=\"489px\" zoomAndPan=\"magnify\"><defs/><g><!--MD5=[fbc87193dbaf4d95561dea2c320d4a47]\n",
       "cluster E1--><a href=\"psysml:01e86263-1e08-4c5e-80c8-9f3a01cb2b1c\" target=\"_top\" title=\"psysml:01e86263-1e08-4c5e-80c8-9f3a01cb2b1c\" xlink:actuate=\"onRequest\" xlink:href=\"psysml:01e86263-1e08-4c5e-80c8-9f3a01cb2b1c\" xlink:show=\"new\" xlink:title=\"psysml:01e86263-1e08-4c5e-80c8-9f3a01cb2b1c\" xlink:type=\"simple\"><polygon fill=\"#FFFFFF\" points=\"16,6,156,6,163,28.2969,467,28.2969,467,437,16,437,16,6\" style=\"stroke: #000000; stroke-width: 1.5;\"/><line style=\"stroke: #000000; stroke-width: 1.5;\" x1=\"16\" x2=\"163\" y1=\"28.2969\" y2=\"28.2969\"/><text fill=\"#000000\" font-family=\"sans-serif\" font-size=\"14\" font-weight=\"bold\" lengthAdjust=\"spacingAndGlyphs\" textLength=\"134\" x=\"20\" y=\"20.9951\">DependencyTest</text></a><!--MD5=[e4f7fae6ed58524ba242bb0b0d3be6b7]\n",
       "cluster E2--><a href=\"psysml:65d9c171-277b-4a12-8988-537cd17218fe\" target=\"_top\" title=\"psysml:65d9c171-277b-4a12-8988-537cd17218fe\" xlink:actuate=\"onRequest\" xlink:href=\"psysml:65d9c171-277b-4a12-8988-537cd17218fe\" xlink:show=\"new\" xlink:title=\"psysml:65d9c171-277b-4a12-8988-537cd17218fe\" xlink:type=\"simple\"><polygon fill=\"#FFFFFF\" points=\"255,49,319,49,326,71.2969,443,71.2969,443,413,255,413,255,49\" style=\"stroke: #000000; stroke-width: 1.5;\"/><line style=\"stroke: #000000; stroke-width: 1.5;\" x1=\"255\" x2=\"326\" y1=\"71.2969\" y2=\"71.2969\"/><text fill=\"#000000\" font-family=\"sans-serif\" font-size=\"14\" font-weight=\"bold\" lengthAdjust=\"spacingAndGlyphs\" textLength=\"58\" x=\"259\" y=\"63.9951\">System</text></a><!--MD5=[60a26617385b1d2d0262a64233df1f8d]\n",
       "class E6--><a href=\"psysml:3f429861-8945-458a-afac-b9814097464d\" target=\"_top\" title=\"psysml:3f429861-8945-458a-afac-b9814097464d\" xlink:actuate=\"onRequest\" xlink:href=\"psysml:3f429861-8945-458a-afac-b9814097464d\" xlink:show=\"new\" xlink:title=\"psysml:3f429861-8945-458a-afac-b9814097464d\" xlink:type=\"simple\"><rect fill=\"#FFFFFF\" height=\"45.9375\" id=\"E6\" rx=\"10\" ry=\"10\" style=\"stroke: #383838; stroke-width: 1.5;\" width=\"71\" x=\"32.5\" y=\"217.5\"/><text fill=\"#000000\" font-family=\"sans-serif\" font-size=\"12\" font-style=\"italic\" lengthAdjust=\"spacingAndGlyphs\" textLength=\"69\" x=\"33.5\" y=\"233.6387\">«attribute»</text><text fill=\"#000000\" font-family=\"sans-serif\" font-size=\"12\" lengthAdjust=\"spacingAndGlyphs\" textLength=\"6\" x=\"65\" y=\"247.6074\">x</text><line style=\"stroke: #383838; stroke-width: 1.5;\" x1=\"33.5\" x2=\"102.5\" y1=\"255.4375\" y2=\"255.4375\"/></a><!--MD5=[2156ba9850f5573cc1fc38a6a4b2f02b]\n",
       "class E7--><a href=\"psysml:f3318431-0d45-43ea-b254-330318c85eb0\" target=\"_top\" title=\"psysml:f3318431-0d45-43ea-b254-330318c85eb0\" xlink:actuate=\"onRequest\" xlink:href=\"psysml:f3318431-0d45-43ea-b254-330318c85eb0\" xlink:show=\"new\" xlink:title=\"psysml:f3318431-0d45-43ea-b254-330318c85eb0\" xlink:type=\"simple\"><rect fill=\"#FFFFFF\" height=\"45.9375\" id=\"E7\" rx=\"10\" ry=\"10\" style=\"stroke: #383838; stroke-width: 1.5;\" width=\"71\" x=\"138.5\" y=\"217.5\"/><text fill=\"#000000\" font-family=\"sans-serif\" font-size=\"12\" font-style=\"italic\" lengthAdjust=\"spacingAndGlyphs\" textLength=\"69\" x=\"139.5\" y=\"233.6387\">«attribute»</text><text fill=\"#000000\" font-family=\"sans-serif\" font-size=\"12\" lengthAdjust=\"spacingAndGlyphs\" textLength=\"6\" x=\"171\" y=\"247.6074\">y</text><line style=\"stroke: #383838; stroke-width: 1.5;\" x1=\"139.5\" x2=\"208.5\" y1=\"255.4375\" y2=\"255.4375\"/></a><!--MD5=[b9389687b975829384b498ac4b7476b2]\n",
       "class E8--><a href=\"psysml:da180d87-042d-4ade-81c9-b5201399a446\" target=\"_top\" title=\"psysml:da180d87-042d-4ade-81c9-b5201399a446\" xlink:actuate=\"onRequest\" xlink:href=\"psysml:da180d87-042d-4ade-81c9-b5201399a446\" xlink:show=\"new\" xlink:title=\"psysml:da180d87-042d-4ade-81c9-b5201399a446\" xlink:type=\"simple\"><rect fill=\"#FFFFFF\" height=\"45.9375\" id=\"E8\" rx=\"10\" ry=\"10\" style=\"stroke: #383838; stroke-width: 1.5;\" width=\"71\" x=\"84.5\" y=\"87.5\"/><text fill=\"#000000\" font-family=\"sans-serif\" font-size=\"12\" font-style=\"italic\" lengthAdjust=\"spacingAndGlyphs\" textLength=\"69\" x=\"85.5\" y=\"103.6387\">«attribute»</text><text fill=\"#000000\" font-family=\"sans-serif\" font-size=\"12\" lengthAdjust=\"spacingAndGlyphs\" textLength=\"5\" x=\"117.5\" y=\"117.6074\">z</text><line style=\"stroke: #383838; stroke-width: 1.5;\" x1=\"85.5\" x2=\"154.5\" y1=\"125.4375\" y2=\"125.4375\"/></a><a href=\"psysml:7bbe8935-ee6e-44c3-abf9-e711bcee98e7\" target=\"_top\" title=\"psysml:7bbe8935-ee6e-44c3-abf9-e711bcee98e7\" xlink:actuate=\"onRequest\" xlink:href=\"psysml:7bbe8935-ee6e-44c3-abf9-e711bcee98e7\" xlink:show=\"new\" xlink:title=\"psysml:7bbe8935-ee6e-44c3-abf9-e711bcee98e7\" xlink:type=\"simple\"><polygon fill=\"#FFFFFF\" points=\"271,84,413,84,420,106.2969,427,106.2969,427,136.5938,271,136.5938,271,84\" style=\"stroke: #000000; stroke-width: 1.5;\"/><line style=\"stroke: #000000; stroke-width: 1.5;\" x1=\"271\" x2=\"420\" y1=\"106.2969\" y2=\"106.2969\"/><text fill=\"#000000\" font-family=\"sans-serif\" font-size=\"14\" font-weight=\"bold\" lengthAdjust=\"spacingAndGlyphs\" textLength=\"136\" x=\"275\" y=\"98.9951\">Application Layer</text></a><a href=\"psysml:8539df59-9777-43d1-9cbc-191f1e3b0af0\" target=\"_top\" title=\"psysml:8539df59-9777-43d1-9cbc-191f1e3b0af0\" xlink:actuate=\"onRequest\" xlink:href=\"psysml:8539df59-9777-43d1-9cbc-191f1e3b0af0\" xlink:show=\"new\" xlink:title=\"psysml:8539df59-9777-43d1-9cbc-191f1e3b0af0\" xlink:type=\"simple\"><polygon fill=\"#FFFFFF\" points=\"285,214,399,214,406,236.2969,413,236.2969,413,266.5938,285,266.5938,285,214\" style=\"stroke: #000000; stroke-width: 1.5;\"/><line style=\"stroke: #000000; stroke-width: 1.5;\" x1=\"285\" x2=\"406\" y1=\"236.2969\" y2=\"236.2969\"/><text fill=\"#000000\" font-family=\"sans-serif\" font-size=\"14\" font-weight=\"bold\" lengthAdjust=\"spacingAndGlyphs\" textLength=\"108\" x=\"289\" y=\"228.9951\">Service Layer</text></a><a href=\"psysml:06e8cf4d-e880-4b5c-8fdb-0871598a4cb3\" target=\"_top\" title=\"psysml:06e8cf4d-e880-4b5c-8fdb-0871598a4cb3\" xlink:actuate=\"onRequest\" xlink:href=\"psysml:06e8cf4d-e880-4b5c-8fdb-0871598a4cb3\" xlink:show=\"new\" xlink:title=\"psysml:06e8cf4d-e880-4b5c-8fdb-0871598a4cb3\" xlink:type=\"simple\"><polygon fill=\"#FFFFFF\" points=\"297,344,387,344,394,366.2969,401,366.2969,401,396.5938,297,396.5938,297,344\" style=\"stroke: #000000; stroke-width: 1.5;\"/><line style=\"stroke: #000000; stroke-width: 1.5;\" x1=\"297\" x2=\"394\" y1=\"366.2969\" y2=\"366.2969\"/><text fill=\"#000000\" font-family=\"sans-serif\" font-size=\"14\" font-weight=\"bold\" lengthAdjust=\"spacingAndGlyphs\" textLength=\"84\" x=\"301\" y=\"358.9951\">Data Layer</text></a><!--MD5=[af87c684e3b0d8be13c1a698a818ef1e]\n",
       "link E3 to E4--><a href=\"psysml:ddd06611-1e40-467d-8133-a183585a6da5\" target=\"_top\" title=\"psysml:ddd06611-1e40-467d-8133-a183585a6da5\" xlink:actuate=\"onRequest\" xlink:href=\"psysml:ddd06611-1e40-467d-8133-a183585a6da5\" xlink:show=\"new\" xlink:title=\"psysml:ddd06611-1e40-467d-8133-a183585a6da5\" xlink:type=\"simple\"><path d=\"M349,137.1 C349,156.8 349,184.22 349,205.73 \" fill=\"none\" id=\"E3-&gt;E4\" style=\"stroke: #383838; stroke-width: 1.0; stroke-dasharray: 7.0,7.0;\"/><polygon fill=\"#383838\" points=\"349,213.95,352,205.95,346,205.95,349,213.95\" style=\"stroke: #383838; stroke-width: 1.0;\"/><text fill=\"#000000\" font-family=\"sans-serif\" font-size=\"13\" lengthAdjust=\"spacingAndGlyphs\" textLength=\"64\" x=\"350\" y=\"180.0669\">«depend»</text></a><!--MD5=[1b7591eae5389033d8d09a9d6721a717]\n",
       "link E4 to E5--><a href=\"psysml:b5c0928c-fbc9-4433-ab1e-c084bfbcebd5\" target=\"_top\" title=\"psysml:b5c0928c-fbc9-4433-ab1e-c084bfbcebd5\" xlink:actuate=\"onRequest\" xlink:href=\"psysml:b5c0928c-fbc9-4433-ab1e-c084bfbcebd5\" xlink:show=\"new\" xlink:title=\"psysml:b5c0928c-fbc9-4433-ab1e-c084bfbcebd5\" xlink:type=\"simple\"><path d=\"M349,267.1 C349,286.8 349,314.22 349,335.73 \" fill=\"none\" id=\"E4-&gt;E5\" style=\"stroke: #383838; stroke-width: 1.0; stroke-dasharray: 7.0,7.0;\"/><polygon fill=\"#383838\" points=\"349,343.95,352,335.95,346,335.95,349,343.95\" style=\"stroke: #383838; stroke-width: 1.0;\"/><text fill=\"#000000\" font-family=\"sans-serif\" font-size=\"13\" lengthAdjust=\"spacingAndGlyphs\" textLength=\"64\" x=\"350\" y=\"310.0669\">«depend»</text></a><!--MD5=[c5e8897d989ce984f93528998a7150fe]\n",
       "link E8 to E6--><a href=\"psysml:a0e318cd-0c17-433c-bc04-dbf1eaa3473c\" target=\"_top\" title=\"psysml:a0e318cd-0c17-433c-bc04-dbf1eaa3473c\" xlink:actuate=\"onRequest\" xlink:href=\"psysml:a0e318cd-0c17-433c-bc04-dbf1eaa3473c\" xlink:show=\"new\" xlink:title=\"psysml:a0e318cd-0c17-433c-bc04-dbf1eaa3473c\" xlink:type=\"simple\"><path d=\"M97.55,133.75 C81.97,149.19 64,167 64,167 C64,167 64,184 64,184 C64,184 64.88,196.21 65.81,209.18 \" fill=\"none\" id=\"E8-&gt;E6\" style=\"stroke: #383838; stroke-width: 1.0; stroke-dasharray: 7.0,7.0;\"/><polygon fill=\"#383838\" points=\"66.4,217.25,68.8203,209.056,62.8357,209.485,66.4,217.25\" style=\"stroke: #383838; stroke-width: 1.0;\"/><text fill=\"#000000\" font-family=\"sans-serif\" font-size=\"13\" lengthAdjust=\"spacingAndGlyphs\" textLength=\"64\" x=\"65\" y=\"180.0669\">«depend»</text></a><!--MD5=[bfa3c8b0d15052fdf50ae9310b491027]\n",
       "link E8 to E7--><a href=\"psysml:a0e318cd-0c17-433c-bc04-dbf1eaa3473c\" target=\"_top\" title=\"psysml:a0e318cd-0c17-433c-bc04-dbf1eaa3473c\" xlink:actuate=\"onRequest\" xlink:href=\"psysml:a0e318cd-0c17-433c-bc04-dbf1eaa3473c\" xlink:show=\"new\" xlink:title=\"psysml:a0e318cd-0c17-433c-bc04-dbf1eaa3473c\" xlink:type=\"simple\"><path d=\"M129.28,133.5 C138.17,154.57 151.64,186.5 161.47,209.81 \" fill=\"none\" id=\"E8-&gt;E7\" style=\"stroke: #383838; stroke-width: 1.0; stroke-dasharray: 7.0,7.0;\"/><polygon fill=\"#383838\" points=\"164.66,217.35,164.3241,208.8126,158.7933,211.1385,164.66,217.35\" style=\"stroke: #383838; stroke-width: 1.0;\"/><text fill=\"#000000\" font-family=\"sans-serif\" font-size=\"13\" lengthAdjust=\"spacingAndGlyphs\" textLength=\"64\" x=\"151\" y=\"180.0669\">«depend»</text></a><!--MD5=[fec29e4d51074f8bc52302de161236b9]\n",
       "@startuml\r\n",
       "skinparam linetype polyline\r\n",
       "skinparam monochrome true\r\n",
       "skinparam classbackgroundcolor white\r\n",
       "skinparam shadowing false\r\n",
       "skinparam wrapWidth 300\r\n",
       "hide circle\r\n",
       "\r\n",
       "package \"DependencyTest\" as E1  [[psysml:01e86263-1e08-4c5e-80c8-9f3a01cb2b1c ]]  {\r\n",
       "package \"System\" as E2  [[psysml:65d9c171-277b-4a12-8988-537cd17218fe ]]  {\r\n",
       "package \"Application Layer\" as E3  [[psysml:7bbe8935-ee6e-44c3-abf9-e711bcee98e7 ]]  {\r\n",
       "}\r\n",
       "package \"Service Layer\" as E4  [[psysml:8539df59-9777-43d1-9cbc-191f1e3b0af0 ]]  {\r\n",
       "}\r\n",
       "package \"Data Layer\" as E5  [[psysml:06e8cf4d-e880-4b5c-8fdb-0871598a4cb3 ]]  {\r\n",
       "}\r\n",
       "}\r\n",
       "comp usage \"x\" as E6  <<(T,blue)attribute>> [[psysml:3f429861-8945-458a-afac-b9814097464d ]] {\r\n",
       "}\r\n",
       "comp usage \"y\" as E7  <<(T,blue)attribute>> [[psysml:f3318431-0d45-43ea-b254-330318c85eb0 ]] {\r\n",
       "}\r\n",
       "comp usage \"z\" as E8  <<(T,blue)attribute>> [[psysml:da180d87-042d-4ade-81c9-b5201399a446 ]] {\r\n",
       "}\r\n",
       "E3 ..>> E4 [[psysml:ddd06611-1e40-467d-8133-a183585a6da5 ]] : <<depend>>\r\n",
       "E4 ..>> E5 [[psysml:b5c0928c-fbc9-4433-ab1e-c084bfbcebd5 ]] : <<depend>>\r\n",
       "E8 ..>> E6 [[psysml:a0e318cd-0c17-433c-bc04-dbf1eaa3473c ]] : <<depend>>\r\n",
       "E8 ..>> E7 [[psysml:a0e318cd-0c17-433c-bc04-dbf1eaa3473c ]] : <<depend>>\r\n",
       "}\r\n",
       "@enduml\r\n",
       "\n",
       "PlantUML version 1.2020.13(Sat Jun 13 12:26:38 UTC 2020)\n",
       "(EPL source distribution)\n",
       "Java Runtime: OpenJDK Runtime Environment\n",
       "JVM: OpenJDK 64-Bit Server VM\n",
       "Default Encoding: UTF-8\n",
       "Language: en\n",
       "Country: null\n",
       "--></g></svg>"
      ]
     },
     "execution_count": 10,
     "metadata": {},
     "output_type": "execute_result"
    }
   ],
   "source": [
    "%viz --style=\"POLYLINE\" --view=\"Tree\" \"DependencyTest\""
   ]
  },
  {
   "cell_type": "code",
   "execution_count": 11,
   "id": "diagnostic-panic",
   "metadata": {
    "execution": {
     "iopub.execute_input": "2021-03-25T15:09:45.913823Z",
     "iopub.status.busy": "2021-03-25T15:09:45.913111Z",
     "iopub.status.idle": "2021-03-25T15:09:45.922928Z",
     "shell.execute_reply": "2021-03-25T15:09:45.922584Z"
    }
   },
   "outputs": [
    {
     "data": {
      "image/svg+xml": [
       "<?xml version=\"1.0\" encoding=\"UTF-8\" standalone=\"no\"?><svg xmlns=\"http://www.w3.org/2000/svg\" xmlns:xlink=\"http://www.w3.org/1999/xlink\" contentScriptType=\"application/ecmascript\" contentStyleType=\"text/css\" height=\"12px\" preserveAspectRatio=\"none\" style=\"width:12px;height:12px;\" version=\"1.1\" viewBox=\"0 0 12 12\" width=\"12px\" zoomAndPan=\"magnify\"><defs/><g><!--MD5=[896ac0e7a515d8dd7765a661cb4ee08b]\n",
       "@startuml\r\n",
       "skinparam linetype polyline\r\n",
       "skinparam monochrome true\r\n",
       "skinparam classbackgroundcolor white\r\n",
       "skinparam shadowing false\r\n",
       "skinparam wrapWidth 300\r\n",
       "hide circle\r\n",
       "\r\n",
       "@enduml\r\n",
       "\n",
       "PlantUML version 1.2020.13(Sat Jun 13 12:26:38 UTC 2020)\n",
       "(EPL source distribution)\n",
       "Java Runtime: OpenJDK Runtime Environment\n",
       "JVM: OpenJDK 64-Bit Server VM\n",
       "Default Encoding: UTF-8\n",
       "Language: en\n",
       "Country: null\n",
       "--></g></svg>"
      ]
     },
     "execution_count": 11,
     "metadata": {},
     "output_type": "execute_result"
    }
   ],
   "source": [
    "%viz --style=\"POLYLINE\" --view=\"State\" \"DependencyTest\""
   ]
  },
  {
   "cell_type": "code",
   "execution_count": 12,
   "id": "corresponding-invention",
   "metadata": {
    "execution": {
     "iopub.execute_input": "2021-03-25T15:09:45.973966Z",
     "iopub.status.busy": "2021-03-25T15:09:45.973504Z",
     "iopub.status.idle": "2021-03-25T15:09:46.083689Z",
     "shell.execute_reply": "2021-03-25T15:09:46.081870Z"
    }
   },
   "outputs": [
    {
     "data": {
      "image/svg+xml": [
       "<?xml version=\"1.0\" encoding=\"UTF-8\" standalone=\"no\"?><svg xmlns=\"http://www.w3.org/2000/svg\" xmlns:xlink=\"http://www.w3.org/1999/xlink\" contentScriptType=\"application/ecmascript\" contentStyleType=\"text/css\" height=\"361px\" preserveAspectRatio=\"none\" style=\"width:489px;height:361px;\" version=\"1.1\" viewBox=\"0 0 489 361\" width=\"489px\" zoomAndPan=\"magnify\"><defs/><g><!--MD5=[fbc87193dbaf4d95561dea2c320d4a47]\n",
       "cluster E1--><a href=\"psysml:01e86263-1e08-4c5e-80c8-9f3a01cb2b1c\" target=\"_top\" title=\"psysml:01e86263-1e08-4c5e-80c8-9f3a01cb2b1c\" xlink:actuate=\"onRequest\" xlink:href=\"psysml:01e86263-1e08-4c5e-80c8-9f3a01cb2b1c\" xlink:show=\"new\" xlink:title=\"psysml:01e86263-1e08-4c5e-80c8-9f3a01cb2b1c\" xlink:type=\"simple\"><polygon fill=\"#FFFFFF\" points=\"16,6,156,6,163,28.2969,467,28.2969,467,349,16,349,16,6\" style=\"stroke: #000000; stroke-width: 1.5;\"/><line style=\"stroke: #000000; stroke-width: 1.5;\" x1=\"16\" x2=\"163\" y1=\"28.2969\" y2=\"28.2969\"/><text fill=\"#000000\" font-family=\"sans-serif\" font-size=\"14\" font-weight=\"bold\" lengthAdjust=\"spacingAndGlyphs\" textLength=\"134\" x=\"20\" y=\"20.9951\">DependencyTest</text></a><!--MD5=[e4f7fae6ed58524ba242bb0b0d3be6b7]\n",
       "cluster E2--><a href=\"psysml:65d9c171-277b-4a12-8988-537cd17218fe\" target=\"_top\" title=\"psysml:65d9c171-277b-4a12-8988-537cd17218fe\" xlink:actuate=\"onRequest\" xlink:href=\"psysml:65d9c171-277b-4a12-8988-537cd17218fe\" xlink:show=\"new\" xlink:title=\"psysml:65d9c171-277b-4a12-8988-537cd17218fe\" xlink:type=\"simple\"><polygon fill=\"#FFFFFF\" points=\"255,49,319,49,326,71.2969,443,71.2969,443,325,255,325,255,49\" style=\"stroke: #000000; stroke-width: 1.5;\"/><line style=\"stroke: #000000; stroke-width: 1.5;\" x1=\"255\" x2=\"326\" y1=\"71.2969\" y2=\"71.2969\"/><text fill=\"#000000\" font-family=\"sans-serif\" font-size=\"14\" font-weight=\"bold\" lengthAdjust=\"spacingAndGlyphs\" textLength=\"58\" x=\"259\" y=\"63.9951\">System</text></a><a href=\"psysml:7bbe8935-ee6e-44c3-abf9-e711bcee98e7\" target=\"_top\" title=\"psysml:7bbe8935-ee6e-44c3-abf9-e711bcee98e7\" xlink:actuate=\"onRequest\" xlink:href=\"psysml:7bbe8935-ee6e-44c3-abf9-e711bcee98e7\" xlink:show=\"new\" xlink:title=\"psysml:7bbe8935-ee6e-44c3-abf9-e711bcee98e7\" xlink:type=\"simple\"><polygon fill=\"#FFFFFF\" points=\"271,84,413,84,420,106.2969,427,106.2969,427,136.5938,271,136.5938,271,84\" style=\"stroke: #000000; stroke-width: 1.5;\"/><line style=\"stroke: #000000; stroke-width: 1.5;\" x1=\"271\" x2=\"420\" y1=\"106.2969\" y2=\"106.2969\"/><text fill=\"#000000\" font-family=\"sans-serif\" font-size=\"14\" font-weight=\"bold\" lengthAdjust=\"spacingAndGlyphs\" textLength=\"136\" x=\"275\" y=\"98.9951\">Application Layer</text></a><a href=\"psysml:8539df59-9777-43d1-9cbc-191f1e3b0af0\" target=\"_top\" title=\"psysml:8539df59-9777-43d1-9cbc-191f1e3b0af0\" xlink:actuate=\"onRequest\" xlink:href=\"psysml:8539df59-9777-43d1-9cbc-191f1e3b0af0\" xlink:show=\"new\" xlink:title=\"psysml:8539df59-9777-43d1-9cbc-191f1e3b0af0\" xlink:type=\"simple\"><polygon fill=\"#FFFFFF\" points=\"285,170,399,170,406,192.2969,413,192.2969,413,222.5938,285,222.5938,285,170\" style=\"stroke: #000000; stroke-width: 1.5;\"/><line style=\"stroke: #000000; stroke-width: 1.5;\" x1=\"285\" x2=\"406\" y1=\"192.2969\" y2=\"192.2969\"/><text fill=\"#000000\" font-family=\"sans-serif\" font-size=\"14\" font-weight=\"bold\" lengthAdjust=\"spacingAndGlyphs\" textLength=\"108\" x=\"289\" y=\"184.9951\">Service Layer</text></a><a href=\"psysml:06e8cf4d-e880-4b5c-8fdb-0871598a4cb3\" target=\"_top\" title=\"psysml:06e8cf4d-e880-4b5c-8fdb-0871598a4cb3\" xlink:actuate=\"onRequest\" xlink:href=\"psysml:06e8cf4d-e880-4b5c-8fdb-0871598a4cb3\" xlink:show=\"new\" xlink:title=\"psysml:06e8cf4d-e880-4b5c-8fdb-0871598a4cb3\" xlink:type=\"simple\"><polygon fill=\"#FFFFFF\" points=\"297,256,387,256,394,278.2969,401,278.2969,401,308.5938,297,308.5938,297,256\" style=\"stroke: #000000; stroke-width: 1.5;\"/><line style=\"stroke: #000000; stroke-width: 1.5;\" x1=\"297\" x2=\"394\" y1=\"278.2969\" y2=\"278.2969\"/><text fill=\"#000000\" font-family=\"sans-serif\" font-size=\"14\" font-weight=\"bold\" lengthAdjust=\"spacingAndGlyphs\" textLength=\"84\" x=\"301\" y=\"270.9951\">Data Layer</text></a><g id=\"E1.E6\"><a href=\"psysml:3f429861-8945-458a-afac-b9814097464d\" target=\"_top\" title=\"psysml:3f429861-8945-458a-afac-b9814097464d\" xlink:actuate=\"onRequest\" xlink:href=\"psysml:3f429861-8945-458a-afac-b9814097464d\" xlink:show=\"new\" xlink:title=\"psysml:3f429861-8945-458a-afac-b9814097464d\" xlink:type=\"simple\"><rect fill=\"#FFFFFF\" height=\"42.9375\" id=\"E6\" rx=\"10\" ry=\"10\" style=\"stroke: #383838; stroke-width: 1.5;\" width=\"76\" x=\"32\" y=\"175\"/><rect fill=\"#F8F8F8\" height=\"37.9375\" rx=\"10\" ry=\"10\" style=\"stroke: #F8F8F8; stroke-width: 1.5;\" width=\"76\" x=\"32\" y=\"175\"/><rect fill=\"#F8F8F8\" height=\"10\" style=\"stroke: #F8F8F8; stroke-width: 1.5;\" width=\"76\" x=\"32\" y=\"202.9375\"/><rect fill=\"none\" height=\"42.9375\" id=\"E6\" rx=\"10\" ry=\"10\" style=\"stroke: #383838; stroke-width: 1.5;\" width=\"76\" x=\"32\" y=\"175\"/><text fill=\"#000000\" font-family=\"sans-serif\" font-size=\"12\" font-style=\"italic\" lengthAdjust=\"spacingAndGlyphs\" textLength=\"69\" x=\"35.5\" y=\"191.1387\">«attribute»</text><text fill=\"#000000\" font-family=\"sans-serif\" font-size=\"12\" lengthAdjust=\"spacingAndGlyphs\" textLength=\"6\" x=\"67\" y=\"205.1074\">x</text></a></g><g id=\"E1.E7\"><a href=\"psysml:f3318431-0d45-43ea-b254-330318c85eb0\" target=\"_top\" title=\"psysml:f3318431-0d45-43ea-b254-330318c85eb0\" xlink:actuate=\"onRequest\" xlink:href=\"psysml:f3318431-0d45-43ea-b254-330318c85eb0\" xlink:show=\"new\" xlink:title=\"psysml:f3318431-0d45-43ea-b254-330318c85eb0\" xlink:type=\"simple\"><rect fill=\"#FFFFFF\" height=\"42.9375\" id=\"E7\" rx=\"10\" ry=\"10\" style=\"stroke: #383838; stroke-width: 1.5;\" width=\"76\" x=\"143\" y=\"175\"/><rect fill=\"#F8F8F8\" height=\"37.9375\" rx=\"10\" ry=\"10\" style=\"stroke: #F8F8F8; stroke-width: 1.5;\" width=\"76\" x=\"143\" y=\"175\"/><rect fill=\"#F8F8F8\" height=\"10\" style=\"stroke: #F8F8F8; stroke-width: 1.5;\" width=\"76\" x=\"143\" y=\"202.9375\"/><rect fill=\"none\" height=\"42.9375\" id=\"E7\" rx=\"10\" ry=\"10\" style=\"stroke: #383838; stroke-width: 1.5;\" width=\"76\" x=\"143\" y=\"175\"/><text fill=\"#000000\" font-family=\"sans-serif\" font-size=\"12\" font-style=\"italic\" lengthAdjust=\"spacingAndGlyphs\" textLength=\"69\" x=\"146.5\" y=\"191.1387\">«attribute»</text><text fill=\"#000000\" font-family=\"sans-serif\" font-size=\"12\" lengthAdjust=\"spacingAndGlyphs\" textLength=\"6\" x=\"178\" y=\"205.1074\">y</text></a></g><g id=\"E1.E8\"><a href=\"psysml:da180d87-042d-4ade-81c9-b5201399a446\" target=\"_top\" title=\"psysml:da180d87-042d-4ade-81c9-b5201399a446\" xlink:actuate=\"onRequest\" xlink:href=\"psysml:da180d87-042d-4ade-81c9-b5201399a446\" xlink:show=\"new\" xlink:title=\"psysml:da180d87-042d-4ade-81c9-b5201399a446\" xlink:type=\"simple\"><rect fill=\"#FFFFFF\" height=\"42.9375\" id=\"E8\" rx=\"10\" ry=\"10\" style=\"stroke: #383838; stroke-width: 1.5;\" width=\"76\" x=\"83\" y=\"89\"/><rect fill=\"#F8F8F8\" height=\"37.9375\" rx=\"10\" ry=\"10\" style=\"stroke: #F8F8F8; stroke-width: 1.5;\" width=\"76\" x=\"83\" y=\"89\"/><rect fill=\"#F8F8F8\" height=\"10\" style=\"stroke: #F8F8F8; stroke-width: 1.5;\" width=\"76\" x=\"83\" y=\"116.9375\"/><rect fill=\"none\" height=\"42.9375\" id=\"E8\" rx=\"10\" ry=\"10\" style=\"stroke: #383838; stroke-width: 1.5;\" width=\"76\" x=\"83\" y=\"89\"/><text fill=\"#000000\" font-family=\"sans-serif\" font-size=\"12\" font-style=\"italic\" lengthAdjust=\"spacingAndGlyphs\" textLength=\"69\" x=\"86.5\" y=\"105.1387\">«attribute»</text><text fill=\"#000000\" font-family=\"sans-serif\" font-size=\"12\" lengthAdjust=\"spacingAndGlyphs\" textLength=\"5\" x=\"118.5\" y=\"119.1074\">z</text></a></g><!--MD5=[af87c684e3b0d8be13c1a698a818ef1e]\n",
       "link E3 to E4--><a href=\"psysml:ddd06611-1e40-467d-8133-a183585a6da5\" target=\"_top\" title=\"psysml:ddd06611-1e40-467d-8133-a183585a6da5\" xlink:actuate=\"onRequest\" xlink:href=\"psysml:ddd06611-1e40-467d-8133-a183585a6da5\" xlink:show=\"new\" xlink:title=\"psysml:ddd06611-1e40-467d-8133-a183585a6da5\" xlink:type=\"simple\"><path d=\"M349,137.16 C349,144.98 349,153.69 349,161.94 \" fill=\"none\" id=\"E3-&gt;E4\" style=\"stroke: #383838; stroke-width: 1.0; stroke-dasharray: 7.0,7.0;\"/><polygon fill=\"#383838\" points=\"349,170,352,162,346,162,349,170\" style=\"stroke: #383838; stroke-width: 1.0;\"/><text fill=\"#000000\" font-family=\"sans-serif\" font-size=\"13\" lengthAdjust=\"spacingAndGlyphs\" textLength=\"64\" x=\"350\" y=\"158.0669\">«depend»</text></a><!--MD5=[1b7591eae5389033d8d09a9d6721a717]\n",
       "link E4 to E5--><a href=\"psysml:b5c0928c-fbc9-4433-ab1e-c084bfbcebd5\" target=\"_top\" title=\"psysml:b5c0928c-fbc9-4433-ab1e-c084bfbcebd5\" xlink:actuate=\"onRequest\" xlink:href=\"psysml:b5c0928c-fbc9-4433-ab1e-c084bfbcebd5\" xlink:show=\"new\" xlink:title=\"psysml:b5c0928c-fbc9-4433-ab1e-c084bfbcebd5\" xlink:type=\"simple\"><path d=\"M349,223.16 C349,230.98 349,239.69 349,247.94 \" fill=\"none\" id=\"E4-&gt;E5\" style=\"stroke: #383838; stroke-width: 1.0; stroke-dasharray: 7.0,7.0;\"/><polygon fill=\"#383838\" points=\"349,256,352,248,346,248,349,256\" style=\"stroke: #383838; stroke-width: 1.0;\"/><text fill=\"#000000\" font-family=\"sans-serif\" font-size=\"13\" lengthAdjust=\"spacingAndGlyphs\" textLength=\"64\" x=\"350\" y=\"244.0669\">«depend»</text></a><!--MD5=[c5e8897d989ce984f93528998a7150fe]\n",
       "link E8 to E6--><a href=\"psysml:a0e318cd-0c17-433c-bc04-dbf1eaa3473c\" target=\"_top\" title=\"psysml:a0e318cd-0c17-433c-bc04-dbf1eaa3473c\" xlink:actuate=\"onRequest\" xlink:href=\"psysml:a0e318cd-0c17-433c-bc04-dbf1eaa3473c\" xlink:show=\"new\" xlink:title=\"psysml:a0e318cd-0c17-433c-bc04-dbf1eaa3473c\" xlink:type=\"simple\"><path d=\"M85.87,132.14 C74.14,139.04 64,145 64,145 C64,145 64,162 64,162 C64,162 64.34,163.89 64.85,166.76 \" fill=\"none\" id=\"E8-&gt;E6\" style=\"stroke: #383838; stroke-width: 1.0; stroke-dasharray: 7.0,7.0;\"/><polygon fill=\"#383838\" points=\"66.3,174.86,67.838,166.4556,61.9325,167.5166,66.3,174.86\" style=\"stroke: #383838; stroke-width: 1.0;\"/><text fill=\"#000000\" font-family=\"sans-serif\" font-size=\"13\" lengthAdjust=\"spacingAndGlyphs\" textLength=\"64\" x=\"65\" y=\"158.0669\">«depend»</text></a><!--MD5=[bfa3c8b0d15052fdf50ae9310b491027]\n",
       "link E8 to E7--><a href=\"psysml:a0e318cd-0c17-433c-bc04-dbf1eaa3473c\" target=\"_top\" title=\"psysml:a0e318cd-0c17-433c-bc04-dbf1eaa3473c\" xlink:actuate=\"onRequest\" xlink:href=\"psysml:a0e318cd-0c17-433c-bc04-dbf1eaa3473c\" xlink:show=\"new\" xlink:title=\"psysml:a0e318cd-0c17-433c-bc04-dbf1eaa3473c\" xlink:type=\"simple\"><path d=\"M135.83,132.26 C143.61,143.15 153.22,156.61 161.59,168.32 \" fill=\"none\" id=\"E8-&gt;E7\" style=\"stroke: #383838; stroke-width: 1.0; stroke-dasharray: 7.0,7.0;\"/><polygon fill=\"#383838\" points=\"166.34,174.97,164.1399,166.7141,159.2538,170.1965,166.34,174.97\" style=\"stroke: #383838; stroke-width: 1.0;\"/><text fill=\"#000000\" font-family=\"sans-serif\" font-size=\"13\" lengthAdjust=\"spacingAndGlyphs\" textLength=\"64\" x=\"157\" y=\"158.0669\">«depend»</text></a><!--MD5=[68cb8aee8a16f0352d48fea22c49f768]\n",
       "@startuml\r\n",
       "skinparam ranksep 8\r\n",
       "skinparam rectangle {\r\n",
       " backgroundColor<<block>> LightGreen\r\n",
       "}\r\n",
       "skinparam linetype polyline\r\n",
       "skinparam monochrome true\r\n",
       "skinparam classbackgroundcolor white\r\n",
       "skinparam shadowing false\r\n",
       "skinparam wrapWidth 300\r\n",
       "hide circle\r\n",
       "\r\n",
       "package \"DependencyTest\" as E1  [[psysml:01e86263-1e08-4c5e-80c8-9f3a01cb2b1c ]]  {\r\n",
       "package \"System\" as E2  [[psysml:65d9c171-277b-4a12-8988-537cd17218fe ]]  {\r\n",
       "package \"Application Layer\" as E3  [[psysml:7bbe8935-ee6e-44c3-abf9-e711bcee98e7 ]]  {\r\n",
       "}\r\n",
       "package \"Service Layer\" as E4  [[psysml:8539df59-9777-43d1-9cbc-191f1e3b0af0 ]]  {\r\n",
       "}\r\n",
       "package \"Data Layer\" as E5  [[psysml:06e8cf4d-e880-4b5c-8fdb-0871598a4cb3 ]]  {\r\n",
       "}\r\n",
       "}\r\n",
       "rec usage \"x\" as E6  <<(T,blue)attribute>> [[psysml:3f429861-8945-458a-afac-b9814097464d ]] {\r\n",
       "}\r\n",
       "rec usage \"y\" as E7  <<(T,blue)attribute>> [[psysml:f3318431-0d45-43ea-b254-330318c85eb0 ]] {\r\n",
       "}\r\n",
       "rec usage \"z\" as E8  <<(T,blue)attribute>> [[psysml:da180d87-042d-4ade-81c9-b5201399a446 ]] {\r\n",
       "}\r\n",
       "E3 ..>> E4 [[psysml:ddd06611-1e40-467d-8133-a183585a6da5 ]] : <<depend>>\r\n",
       "E4 ..>> E5 [[psysml:b5c0928c-fbc9-4433-ab1e-c084bfbcebd5 ]] : <<depend>>\r\n",
       "E8 ..>> E6 [[psysml:a0e318cd-0c17-433c-bc04-dbf1eaa3473c ]] : <<depend>>\r\n",
       "E8 ..>> E7 [[psysml:a0e318cd-0c17-433c-bc04-dbf1eaa3473c ]] : <<depend>>\r\n",
       "}\r\n",
       "@enduml\r\n",
       "\n",
       "PlantUML version 1.2020.13(Sat Jun 13 12:26:38 UTC 2020)\n",
       "(EPL source distribution)\n",
       "Java Runtime: OpenJDK Runtime Environment\n",
       "JVM: OpenJDK 64-Bit Server VM\n",
       "Default Encoding: UTF-8\n",
       "Language: en\n",
       "Country: null\n",
       "--></g></svg>"
      ]
     },
     "execution_count": 12,
     "metadata": {},
     "output_type": "execute_result"
    }
   ],
   "source": [
    "%viz --style=\"POLYLINE\" --view=\"Interconnection\" \"DependencyTest\""
   ]
  },
  {
   "cell_type": "code",
   "execution_count": 13,
   "id": "previous-coordinate",
   "metadata": {
    "execution": {
     "iopub.execute_input": "2021-03-25T15:09:46.135336Z",
     "iopub.status.busy": "2021-03-25T15:09:46.134471Z",
     "iopub.status.idle": "2021-03-25T15:09:46.144374Z",
     "shell.execute_reply": "2021-03-25T15:09:46.143980Z"
    }
   },
   "outputs": [
    {
     "data": {
      "image/svg+xml": [
       "<?xml version=\"1.0\" encoding=\"UTF-8\" standalone=\"no\"?><svg xmlns=\"http://www.w3.org/2000/svg\" xmlns:xlink=\"http://www.w3.org/1999/xlink\" contentScriptType=\"application/ecmascript\" contentStyleType=\"text/css\" height=\"12px\" preserveAspectRatio=\"none\" style=\"width:12px;height:12px;\" version=\"1.1\" viewBox=\"0 0 12 12\" width=\"12px\" zoomAndPan=\"magnify\"><defs/><g><!--MD5=[97bbf32f66ccd50cbc40d92ea8f5a65e]\n",
       "@startuml\r\n",
       "skinparam ranksep 8\r\n",
       "skinparam linetype polyline\r\n",
       "skinparam monochrome true\r\n",
       "skinparam classbackgroundcolor white\r\n",
       "skinparam shadowing false\r\n",
       "skinparam wrapWidth 300\r\n",
       "hide circle\r\n",
       "\r\n",
       "@enduml\r\n",
       "\n",
       "PlantUML version 1.2020.13(Sat Jun 13 12:26:38 UTC 2020)\n",
       "(EPL source distribution)\n",
       "Java Runtime: OpenJDK Runtime Environment\n",
       "JVM: OpenJDK 64-Bit Server VM\n",
       "Default Encoding: UTF-8\n",
       "Language: en\n",
       "Country: null\n",
       "--></g></svg>"
      ]
     },
     "execution_count": 13,
     "metadata": {},
     "output_type": "execute_result"
    }
   ],
   "source": [
    "%viz --style=\"POLYLINE\" --view=\"Action\" \"DependencyTest\""
   ]
  },
  {
   "cell_type": "code",
   "execution_count": 14,
   "id": "incomplete-sixth",
   "metadata": {
    "execution": {
     "iopub.execute_input": "2021-03-25T15:09:46.195649Z",
     "iopub.status.busy": "2021-03-25T15:09:46.195150Z",
     "iopub.status.idle": "2021-03-25T15:09:46.301033Z",
     "shell.execute_reply": "2021-03-25T15:09:46.299485Z"
    }
   },
   "outputs": [
    {
     "data": {
      "image/svg+xml": [
       "<?xml version=\"1.0\" encoding=\"UTF-8\" standalone=\"no\"?><svg xmlns=\"http://www.w3.org/2000/svg\" xmlns:xlink=\"http://www.w3.org/1999/xlink\" contentScriptType=\"application/ecmascript\" contentStyleType=\"text/css\" height=\"449px\" preserveAspectRatio=\"none\" style=\"width:489px;height:449px;\" version=\"1.1\" viewBox=\"0 0 489 449\" width=\"489px\" zoomAndPan=\"magnify\"><defs/><g><!--MD5=[fbc87193dbaf4d95561dea2c320d4a47]\n",
       "cluster E1--><a href=\"psysml:01e86263-1e08-4c5e-80c8-9f3a01cb2b1c\" target=\"_top\" title=\"psysml:01e86263-1e08-4c5e-80c8-9f3a01cb2b1c\" xlink:actuate=\"onRequest\" xlink:href=\"psysml:01e86263-1e08-4c5e-80c8-9f3a01cb2b1c\" xlink:show=\"new\" xlink:title=\"psysml:01e86263-1e08-4c5e-80c8-9f3a01cb2b1c\" xlink:type=\"simple\"><polygon fill=\"#FFFFFF\" points=\"16,6,156,6,163,28.2969,467,28.2969,467,437,16,437,16,6\" style=\"stroke: #000000; stroke-width: 1.5;\"/><line style=\"stroke: #000000; stroke-width: 1.5;\" x1=\"16\" x2=\"163\" y1=\"28.2969\" y2=\"28.2969\"/><text fill=\"#000000\" font-family=\"sans-serif\" font-size=\"14\" font-weight=\"bold\" lengthAdjust=\"spacingAndGlyphs\" textLength=\"134\" x=\"20\" y=\"20.9951\">DependencyTest</text></a><!--MD5=[e4f7fae6ed58524ba242bb0b0d3be6b7]\n",
       "cluster E2--><a href=\"psysml:65d9c171-277b-4a12-8988-537cd17218fe\" target=\"_top\" title=\"psysml:65d9c171-277b-4a12-8988-537cd17218fe\" xlink:actuate=\"onRequest\" xlink:href=\"psysml:65d9c171-277b-4a12-8988-537cd17218fe\" xlink:show=\"new\" xlink:title=\"psysml:65d9c171-277b-4a12-8988-537cd17218fe\" xlink:type=\"simple\"><polygon fill=\"#FFFFFF\" points=\"255,49,319,49,326,71.2969,443,71.2969,443,413,255,413,255,49\" style=\"stroke: #000000; stroke-width: 1.5;\"/><line style=\"stroke: #000000; stroke-width: 1.5;\" x1=\"255\" x2=\"326\" y1=\"71.2969\" y2=\"71.2969\"/><text fill=\"#000000\" font-family=\"sans-serif\" font-size=\"14\" font-weight=\"bold\" lengthAdjust=\"spacingAndGlyphs\" textLength=\"58\" x=\"259\" y=\"63.9951\">System</text></a><!--MD5=[60a26617385b1d2d0262a64233df1f8d]\n",
       "class E6--><a href=\"psysml:3f429861-8945-458a-afac-b9814097464d\" target=\"_top\" title=\"psysml:3f429861-8945-458a-afac-b9814097464d\" xlink:actuate=\"onRequest\" xlink:href=\"psysml:3f429861-8945-458a-afac-b9814097464d\" xlink:show=\"new\" xlink:title=\"psysml:3f429861-8945-458a-afac-b9814097464d\" xlink:type=\"simple\"><rect fill=\"#FFFFFF\" height=\"45.9375\" id=\"E6\" rx=\"10\" ry=\"10\" style=\"stroke: #383838; stroke-width: 1.5;\" width=\"71\" x=\"32.5\" y=\"217.5\"/><text fill=\"#000000\" font-family=\"sans-serif\" font-size=\"12\" font-style=\"italic\" lengthAdjust=\"spacingAndGlyphs\" textLength=\"69\" x=\"33.5\" y=\"233.6387\">«attribute»</text><text fill=\"#000000\" font-family=\"sans-serif\" font-size=\"12\" lengthAdjust=\"spacingAndGlyphs\" textLength=\"6\" x=\"65\" y=\"247.6074\">x</text><line style=\"stroke: #383838; stroke-width: 1.5;\" x1=\"33.5\" x2=\"102.5\" y1=\"255.4375\" y2=\"255.4375\"/></a><!--MD5=[2156ba9850f5573cc1fc38a6a4b2f02b]\n",
       "class E7--><a href=\"psysml:f3318431-0d45-43ea-b254-330318c85eb0\" target=\"_top\" title=\"psysml:f3318431-0d45-43ea-b254-330318c85eb0\" xlink:actuate=\"onRequest\" xlink:href=\"psysml:f3318431-0d45-43ea-b254-330318c85eb0\" xlink:show=\"new\" xlink:title=\"psysml:f3318431-0d45-43ea-b254-330318c85eb0\" xlink:type=\"simple\"><rect fill=\"#FFFFFF\" height=\"45.9375\" id=\"E7\" rx=\"10\" ry=\"10\" style=\"stroke: #383838; stroke-width: 1.5;\" width=\"71\" x=\"138.5\" y=\"217.5\"/><text fill=\"#000000\" font-family=\"sans-serif\" font-size=\"12\" font-style=\"italic\" lengthAdjust=\"spacingAndGlyphs\" textLength=\"69\" x=\"139.5\" y=\"233.6387\">«attribute»</text><text fill=\"#000000\" font-family=\"sans-serif\" font-size=\"12\" lengthAdjust=\"spacingAndGlyphs\" textLength=\"6\" x=\"171\" y=\"247.6074\">y</text><line style=\"stroke: #383838; stroke-width: 1.5;\" x1=\"139.5\" x2=\"208.5\" y1=\"255.4375\" y2=\"255.4375\"/></a><!--MD5=[b9389687b975829384b498ac4b7476b2]\n",
       "class E8--><a href=\"psysml:da180d87-042d-4ade-81c9-b5201399a446\" target=\"_top\" title=\"psysml:da180d87-042d-4ade-81c9-b5201399a446\" xlink:actuate=\"onRequest\" xlink:href=\"psysml:da180d87-042d-4ade-81c9-b5201399a446\" xlink:show=\"new\" xlink:title=\"psysml:da180d87-042d-4ade-81c9-b5201399a446\" xlink:type=\"simple\"><rect fill=\"#FFFFFF\" height=\"45.9375\" id=\"E8\" rx=\"10\" ry=\"10\" style=\"stroke: #383838; stroke-width: 1.5;\" width=\"71\" x=\"84.5\" y=\"87.5\"/><text fill=\"#000000\" font-family=\"sans-serif\" font-size=\"12\" font-style=\"italic\" lengthAdjust=\"spacingAndGlyphs\" textLength=\"69\" x=\"85.5\" y=\"103.6387\">«attribute»</text><text fill=\"#000000\" font-family=\"sans-serif\" font-size=\"12\" lengthAdjust=\"spacingAndGlyphs\" textLength=\"5\" x=\"117.5\" y=\"117.6074\">z</text><line style=\"stroke: #383838; stroke-width: 1.5;\" x1=\"85.5\" x2=\"154.5\" y1=\"125.4375\" y2=\"125.4375\"/></a><a href=\"psysml:7bbe8935-ee6e-44c3-abf9-e711bcee98e7\" target=\"_top\" title=\"psysml:7bbe8935-ee6e-44c3-abf9-e711bcee98e7\" xlink:actuate=\"onRequest\" xlink:href=\"psysml:7bbe8935-ee6e-44c3-abf9-e711bcee98e7\" xlink:show=\"new\" xlink:title=\"psysml:7bbe8935-ee6e-44c3-abf9-e711bcee98e7\" xlink:type=\"simple\"><polygon fill=\"#FFFFFF\" points=\"271,84,413,84,420,106.2969,427,106.2969,427,136.5938,271,136.5938,271,84\" style=\"stroke: #000000; stroke-width: 1.5;\"/><line style=\"stroke: #000000; stroke-width: 1.5;\" x1=\"271\" x2=\"420\" y1=\"106.2969\" y2=\"106.2969\"/><text fill=\"#000000\" font-family=\"sans-serif\" font-size=\"14\" font-weight=\"bold\" lengthAdjust=\"spacingAndGlyphs\" textLength=\"136\" x=\"275\" y=\"98.9951\">Application Layer</text></a><a href=\"psysml:8539df59-9777-43d1-9cbc-191f1e3b0af0\" target=\"_top\" title=\"psysml:8539df59-9777-43d1-9cbc-191f1e3b0af0\" xlink:actuate=\"onRequest\" xlink:href=\"psysml:8539df59-9777-43d1-9cbc-191f1e3b0af0\" xlink:show=\"new\" xlink:title=\"psysml:8539df59-9777-43d1-9cbc-191f1e3b0af0\" xlink:type=\"simple\"><polygon fill=\"#FFFFFF\" points=\"285,214,399,214,406,236.2969,413,236.2969,413,266.5938,285,266.5938,285,214\" style=\"stroke: #000000; stroke-width: 1.5;\"/><line style=\"stroke: #000000; stroke-width: 1.5;\" x1=\"285\" x2=\"406\" y1=\"236.2969\" y2=\"236.2969\"/><text fill=\"#000000\" font-family=\"sans-serif\" font-size=\"14\" font-weight=\"bold\" lengthAdjust=\"spacingAndGlyphs\" textLength=\"108\" x=\"289\" y=\"228.9951\">Service Layer</text></a><a href=\"psysml:06e8cf4d-e880-4b5c-8fdb-0871598a4cb3\" target=\"_top\" title=\"psysml:06e8cf4d-e880-4b5c-8fdb-0871598a4cb3\" xlink:actuate=\"onRequest\" xlink:href=\"psysml:06e8cf4d-e880-4b5c-8fdb-0871598a4cb3\" xlink:show=\"new\" xlink:title=\"psysml:06e8cf4d-e880-4b5c-8fdb-0871598a4cb3\" xlink:type=\"simple\"><polygon fill=\"#FFFFFF\" points=\"297,344,387,344,394,366.2969,401,366.2969,401,396.5938,297,396.5938,297,344\" style=\"stroke: #000000; stroke-width: 1.5;\"/><line style=\"stroke: #000000; stroke-width: 1.5;\" x1=\"297\" x2=\"394\" y1=\"366.2969\" y2=\"366.2969\"/><text fill=\"#000000\" font-family=\"sans-serif\" font-size=\"14\" font-weight=\"bold\" lengthAdjust=\"spacingAndGlyphs\" textLength=\"84\" x=\"301\" y=\"358.9951\">Data Layer</text></a><!--MD5=[af87c684e3b0d8be13c1a698a818ef1e]\n",
       "link E3 to E4--><a href=\"psysml:ddd06611-1e40-467d-8133-a183585a6da5\" target=\"_top\" title=\"psysml:ddd06611-1e40-467d-8133-a183585a6da5\" xlink:actuate=\"onRequest\" xlink:href=\"psysml:ddd06611-1e40-467d-8133-a183585a6da5\" xlink:show=\"new\" xlink:title=\"psysml:ddd06611-1e40-467d-8133-a183585a6da5\" xlink:type=\"simple\"><path d=\"M349,137.1 C349,156.8 349,184.22 349,205.73 \" fill=\"none\" id=\"E3-&gt;E4\" style=\"stroke: #383838; stroke-width: 1.0; stroke-dasharray: 7.0,7.0;\"/><polygon fill=\"#383838\" points=\"349,213.95,352,205.95,346,205.95,349,213.95\" style=\"stroke: #383838; stroke-width: 1.0;\"/><text fill=\"#000000\" font-family=\"sans-serif\" font-size=\"13\" lengthAdjust=\"spacingAndGlyphs\" textLength=\"64\" x=\"350\" y=\"180.0669\">«depend»</text></a><!--MD5=[1b7591eae5389033d8d09a9d6721a717]\n",
       "link E4 to E5--><a href=\"psysml:b5c0928c-fbc9-4433-ab1e-c084bfbcebd5\" target=\"_top\" title=\"psysml:b5c0928c-fbc9-4433-ab1e-c084bfbcebd5\" xlink:actuate=\"onRequest\" xlink:href=\"psysml:b5c0928c-fbc9-4433-ab1e-c084bfbcebd5\" xlink:show=\"new\" xlink:title=\"psysml:b5c0928c-fbc9-4433-ab1e-c084bfbcebd5\" xlink:type=\"simple\"><path d=\"M349,267.1 C349,286.8 349,314.22 349,335.73 \" fill=\"none\" id=\"E4-&gt;E5\" style=\"stroke: #383838; stroke-width: 1.0; stroke-dasharray: 7.0,7.0;\"/><polygon fill=\"#383838\" points=\"349,343.95,352,335.95,346,335.95,349,343.95\" style=\"stroke: #383838; stroke-width: 1.0;\"/><text fill=\"#000000\" font-family=\"sans-serif\" font-size=\"13\" lengthAdjust=\"spacingAndGlyphs\" textLength=\"64\" x=\"350\" y=\"310.0669\">«depend»</text></a><!--MD5=[c5e8897d989ce984f93528998a7150fe]\n",
       "link E8 to E6--><a href=\"psysml:a0e318cd-0c17-433c-bc04-dbf1eaa3473c\" target=\"_top\" title=\"psysml:a0e318cd-0c17-433c-bc04-dbf1eaa3473c\" xlink:actuate=\"onRequest\" xlink:href=\"psysml:a0e318cd-0c17-433c-bc04-dbf1eaa3473c\" xlink:show=\"new\" xlink:title=\"psysml:a0e318cd-0c17-433c-bc04-dbf1eaa3473c\" xlink:type=\"simple\"><path d=\"M97.55,133.75 C81.97,149.19 64,167 64,167 C64,167 64,184 64,184 C64,184 64.88,196.21 65.81,209.18 \" fill=\"none\" id=\"E8-&gt;E6\" style=\"stroke: #383838; stroke-width: 1.0; stroke-dasharray: 7.0,7.0;\"/><polygon fill=\"#383838\" points=\"66.4,217.25,68.8203,209.056,62.8357,209.485,66.4,217.25\" style=\"stroke: #383838; stroke-width: 1.0;\"/><text fill=\"#000000\" font-family=\"sans-serif\" font-size=\"13\" lengthAdjust=\"spacingAndGlyphs\" textLength=\"64\" x=\"65\" y=\"180.0669\">«depend»</text></a><!--MD5=[bfa3c8b0d15052fdf50ae9310b491027]\n",
       "link E8 to E7--><a href=\"psysml:a0e318cd-0c17-433c-bc04-dbf1eaa3473c\" target=\"_top\" title=\"psysml:a0e318cd-0c17-433c-bc04-dbf1eaa3473c\" xlink:actuate=\"onRequest\" xlink:href=\"psysml:a0e318cd-0c17-433c-bc04-dbf1eaa3473c\" xlink:show=\"new\" xlink:title=\"psysml:a0e318cd-0c17-433c-bc04-dbf1eaa3473c\" xlink:type=\"simple\"><path d=\"M129.28,133.5 C138.17,154.57 151.64,186.5 161.47,209.81 \" fill=\"none\" id=\"E8-&gt;E7\" style=\"stroke: #383838; stroke-width: 1.0; stroke-dasharray: 7.0,7.0;\"/><polygon fill=\"#383838\" points=\"164.66,217.35,164.3241,208.8126,158.7933,211.1385,164.66,217.35\" style=\"stroke: #383838; stroke-width: 1.0;\"/><text fill=\"#000000\" font-family=\"sans-serif\" font-size=\"13\" lengthAdjust=\"spacingAndGlyphs\" textLength=\"64\" x=\"151\" y=\"180.0669\">«depend»</text></a><!--MD5=[fec29e4d51074f8bc52302de161236b9]\n",
       "@startuml\r\n",
       "skinparam linetype polyline\r\n",
       "skinparam monochrome true\r\n",
       "skinparam classbackgroundcolor white\r\n",
       "skinparam shadowing false\r\n",
       "skinparam wrapWidth 300\r\n",
       "hide circle\r\n",
       "\r\n",
       "package \"DependencyTest\" as E1  [[psysml:01e86263-1e08-4c5e-80c8-9f3a01cb2b1c ]]  {\r\n",
       "package \"System\" as E2  [[psysml:65d9c171-277b-4a12-8988-537cd17218fe ]]  {\r\n",
       "package \"Application Layer\" as E3  [[psysml:7bbe8935-ee6e-44c3-abf9-e711bcee98e7 ]]  {\r\n",
       "}\r\n",
       "package \"Service Layer\" as E4  [[psysml:8539df59-9777-43d1-9cbc-191f1e3b0af0 ]]  {\r\n",
       "}\r\n",
       "package \"Data Layer\" as E5  [[psysml:06e8cf4d-e880-4b5c-8fdb-0871598a4cb3 ]]  {\r\n",
       "}\r\n",
       "}\r\n",
       "comp usage \"x\" as E6  <<(T,blue)attribute>> [[psysml:3f429861-8945-458a-afac-b9814097464d ]] {\r\n",
       "}\r\n",
       "comp usage \"y\" as E7  <<(T,blue)attribute>> [[psysml:f3318431-0d45-43ea-b254-330318c85eb0 ]] {\r\n",
       "}\r\n",
       "comp usage \"z\" as E8  <<(T,blue)attribute>> [[psysml:da180d87-042d-4ade-81c9-b5201399a446 ]] {\r\n",
       "}\r\n",
       "E3 ..>> E4 [[psysml:ddd06611-1e40-467d-8133-a183585a6da5 ]] : <<depend>>\r\n",
       "E4 ..>> E5 [[psysml:b5c0928c-fbc9-4433-ab1e-c084bfbcebd5 ]] : <<depend>>\r\n",
       "E8 ..>> E6 [[psysml:a0e318cd-0c17-433c-bc04-dbf1eaa3473c ]] : <<depend>>\r\n",
       "E8 ..>> E7 [[psysml:a0e318cd-0c17-433c-bc04-dbf1eaa3473c ]] : <<depend>>\r\n",
       "}\r\n",
       "@enduml\r\n",
       "\n",
       "PlantUML version 1.2020.13(Sat Jun 13 12:26:38 UTC 2020)\n",
       "(EPL source distribution)\n",
       "Java Runtime: OpenJDK Runtime Environment\n",
       "JVM: OpenJDK 64-Bit Server VM\n",
       "Default Encoding: UTF-8\n",
       "Language: en\n",
       "Country: null\n",
       "--></g></svg>"
      ]
     },
     "execution_count": 14,
     "metadata": {},
     "output_type": "execute_result"
    }
   ],
   "source": [
    "%viz --style=\"POLYLINE\" --view=\"Sequence\" \"DependencyTest\""
   ]
  },
  {
   "cell_type": "code",
   "execution_count": 15,
   "id": "bacterial-skiing",
   "metadata": {
    "execution": {
     "iopub.execute_input": "2021-03-25T15:09:46.351895Z",
     "iopub.status.busy": "2021-03-25T15:09:46.351373Z",
     "iopub.status.idle": "2021-03-25T15:09:46.457622Z",
     "shell.execute_reply": "2021-03-25T15:09:46.456056Z"
    }
   },
   "outputs": [
    {
     "data": {
      "image/svg+xml": [
       "<?xml version=\"1.0\" encoding=\"UTF-8\" standalone=\"no\"?><svg xmlns=\"http://www.w3.org/2000/svg\" xmlns:xlink=\"http://www.w3.org/1999/xlink\" contentScriptType=\"application/ecmascript\" contentStyleType=\"text/css\" height=\"449px\" preserveAspectRatio=\"none\" style=\"width:489px;height:449px;\" version=\"1.1\" viewBox=\"0 0 489 449\" width=\"489px\" zoomAndPan=\"magnify\"><defs/><g><!--MD5=[fbc87193dbaf4d95561dea2c320d4a47]\n",
       "cluster E1--><a href=\"psysml:01e86263-1e08-4c5e-80c8-9f3a01cb2b1c\" target=\"_top\" title=\"psysml:01e86263-1e08-4c5e-80c8-9f3a01cb2b1c\" xlink:actuate=\"onRequest\" xlink:href=\"psysml:01e86263-1e08-4c5e-80c8-9f3a01cb2b1c\" xlink:show=\"new\" xlink:title=\"psysml:01e86263-1e08-4c5e-80c8-9f3a01cb2b1c\" xlink:type=\"simple\"><polygon fill=\"#FFFFFF\" points=\"16,6,156,6,163,28.2969,467,28.2969,467,437,16,437,16,6\" style=\"stroke: #000000; stroke-width: 1.5;\"/><line style=\"stroke: #000000; stroke-width: 1.5;\" x1=\"16\" x2=\"163\" y1=\"28.2969\" y2=\"28.2969\"/><text fill=\"#000000\" font-family=\"sans-serif\" font-size=\"14\" font-weight=\"bold\" lengthAdjust=\"spacingAndGlyphs\" textLength=\"134\" x=\"20\" y=\"20.9951\">DependencyTest</text></a><!--MD5=[e4f7fae6ed58524ba242bb0b0d3be6b7]\n",
       "cluster E2--><a href=\"psysml:65d9c171-277b-4a12-8988-537cd17218fe\" target=\"_top\" title=\"psysml:65d9c171-277b-4a12-8988-537cd17218fe\" xlink:actuate=\"onRequest\" xlink:href=\"psysml:65d9c171-277b-4a12-8988-537cd17218fe\" xlink:show=\"new\" xlink:title=\"psysml:65d9c171-277b-4a12-8988-537cd17218fe\" xlink:type=\"simple\"><polygon fill=\"#FFFFFF\" points=\"255,49,319,49,326,71.2969,443,71.2969,443,413,255,413,255,49\" style=\"stroke: #000000; stroke-width: 1.5;\"/><line style=\"stroke: #000000; stroke-width: 1.5;\" x1=\"255\" x2=\"326\" y1=\"71.2969\" y2=\"71.2969\"/><text fill=\"#000000\" font-family=\"sans-serif\" font-size=\"14\" font-weight=\"bold\" lengthAdjust=\"spacingAndGlyphs\" textLength=\"58\" x=\"259\" y=\"63.9951\">System</text></a><!--MD5=[60a26617385b1d2d0262a64233df1f8d]\n",
       "class E6--><a href=\"psysml:3f429861-8945-458a-afac-b9814097464d\" target=\"_top\" title=\"psysml:3f429861-8945-458a-afac-b9814097464d\" xlink:actuate=\"onRequest\" xlink:href=\"psysml:3f429861-8945-458a-afac-b9814097464d\" xlink:show=\"new\" xlink:title=\"psysml:3f429861-8945-458a-afac-b9814097464d\" xlink:type=\"simple\"><rect fill=\"#FFFFFF\" height=\"45.9375\" id=\"E6\" rx=\"10\" ry=\"10\" style=\"stroke: #383838; stroke-width: 1.5;\" width=\"71\" x=\"32.5\" y=\"217.5\"/><text fill=\"#000000\" font-family=\"sans-serif\" font-size=\"12\" font-style=\"italic\" lengthAdjust=\"spacingAndGlyphs\" textLength=\"69\" x=\"33.5\" y=\"233.6387\">«attribute»</text><text fill=\"#000000\" font-family=\"sans-serif\" font-size=\"12\" lengthAdjust=\"spacingAndGlyphs\" textLength=\"6\" x=\"65\" y=\"247.6074\">x</text><line style=\"stroke: #383838; stroke-width: 1.5;\" x1=\"33.5\" x2=\"102.5\" y1=\"255.4375\" y2=\"255.4375\"/></a><!--MD5=[2156ba9850f5573cc1fc38a6a4b2f02b]\n",
       "class E7--><a href=\"psysml:f3318431-0d45-43ea-b254-330318c85eb0\" target=\"_top\" title=\"psysml:f3318431-0d45-43ea-b254-330318c85eb0\" xlink:actuate=\"onRequest\" xlink:href=\"psysml:f3318431-0d45-43ea-b254-330318c85eb0\" xlink:show=\"new\" xlink:title=\"psysml:f3318431-0d45-43ea-b254-330318c85eb0\" xlink:type=\"simple\"><rect fill=\"#FFFFFF\" height=\"45.9375\" id=\"E7\" rx=\"10\" ry=\"10\" style=\"stroke: #383838; stroke-width: 1.5;\" width=\"71\" x=\"138.5\" y=\"217.5\"/><text fill=\"#000000\" font-family=\"sans-serif\" font-size=\"12\" font-style=\"italic\" lengthAdjust=\"spacingAndGlyphs\" textLength=\"69\" x=\"139.5\" y=\"233.6387\">«attribute»</text><text fill=\"#000000\" font-family=\"sans-serif\" font-size=\"12\" lengthAdjust=\"spacingAndGlyphs\" textLength=\"6\" x=\"171\" y=\"247.6074\">y</text><line style=\"stroke: #383838; stroke-width: 1.5;\" x1=\"139.5\" x2=\"208.5\" y1=\"255.4375\" y2=\"255.4375\"/></a><!--MD5=[b9389687b975829384b498ac4b7476b2]\n",
       "class E8--><a href=\"psysml:da180d87-042d-4ade-81c9-b5201399a446\" target=\"_top\" title=\"psysml:da180d87-042d-4ade-81c9-b5201399a446\" xlink:actuate=\"onRequest\" xlink:href=\"psysml:da180d87-042d-4ade-81c9-b5201399a446\" xlink:show=\"new\" xlink:title=\"psysml:da180d87-042d-4ade-81c9-b5201399a446\" xlink:type=\"simple\"><rect fill=\"#FFFFFF\" height=\"45.9375\" id=\"E8\" rx=\"10\" ry=\"10\" style=\"stroke: #383838; stroke-width: 1.5;\" width=\"71\" x=\"84.5\" y=\"87.5\"/><text fill=\"#000000\" font-family=\"sans-serif\" font-size=\"12\" font-style=\"italic\" lengthAdjust=\"spacingAndGlyphs\" textLength=\"69\" x=\"85.5\" y=\"103.6387\">«attribute»</text><text fill=\"#000000\" font-family=\"sans-serif\" font-size=\"12\" lengthAdjust=\"spacingAndGlyphs\" textLength=\"5\" x=\"117.5\" y=\"117.6074\">z</text><line style=\"stroke: #383838; stroke-width: 1.5;\" x1=\"85.5\" x2=\"154.5\" y1=\"125.4375\" y2=\"125.4375\"/></a><a href=\"psysml:7bbe8935-ee6e-44c3-abf9-e711bcee98e7\" target=\"_top\" title=\"psysml:7bbe8935-ee6e-44c3-abf9-e711bcee98e7\" xlink:actuate=\"onRequest\" xlink:href=\"psysml:7bbe8935-ee6e-44c3-abf9-e711bcee98e7\" xlink:show=\"new\" xlink:title=\"psysml:7bbe8935-ee6e-44c3-abf9-e711bcee98e7\" xlink:type=\"simple\"><polygon fill=\"#FFFFFF\" points=\"271,84,413,84,420,106.2969,427,106.2969,427,136.5938,271,136.5938,271,84\" style=\"stroke: #000000; stroke-width: 1.5;\"/><line style=\"stroke: #000000; stroke-width: 1.5;\" x1=\"271\" x2=\"420\" y1=\"106.2969\" y2=\"106.2969\"/><text fill=\"#000000\" font-family=\"sans-serif\" font-size=\"14\" font-weight=\"bold\" lengthAdjust=\"spacingAndGlyphs\" textLength=\"136\" x=\"275\" y=\"98.9951\">Application Layer</text></a><a href=\"psysml:8539df59-9777-43d1-9cbc-191f1e3b0af0\" target=\"_top\" title=\"psysml:8539df59-9777-43d1-9cbc-191f1e3b0af0\" xlink:actuate=\"onRequest\" xlink:href=\"psysml:8539df59-9777-43d1-9cbc-191f1e3b0af0\" xlink:show=\"new\" xlink:title=\"psysml:8539df59-9777-43d1-9cbc-191f1e3b0af0\" xlink:type=\"simple\"><polygon fill=\"#FFFFFF\" points=\"285,214,399,214,406,236.2969,413,236.2969,413,266.5938,285,266.5938,285,214\" style=\"stroke: #000000; stroke-width: 1.5;\"/><line style=\"stroke: #000000; stroke-width: 1.5;\" x1=\"285\" x2=\"406\" y1=\"236.2969\" y2=\"236.2969\"/><text fill=\"#000000\" font-family=\"sans-serif\" font-size=\"14\" font-weight=\"bold\" lengthAdjust=\"spacingAndGlyphs\" textLength=\"108\" x=\"289\" y=\"228.9951\">Service Layer</text></a><a href=\"psysml:06e8cf4d-e880-4b5c-8fdb-0871598a4cb3\" target=\"_top\" title=\"psysml:06e8cf4d-e880-4b5c-8fdb-0871598a4cb3\" xlink:actuate=\"onRequest\" xlink:href=\"psysml:06e8cf4d-e880-4b5c-8fdb-0871598a4cb3\" xlink:show=\"new\" xlink:title=\"psysml:06e8cf4d-e880-4b5c-8fdb-0871598a4cb3\" xlink:type=\"simple\"><polygon fill=\"#FFFFFF\" points=\"297,344,387,344,394,366.2969,401,366.2969,401,396.5938,297,396.5938,297,344\" style=\"stroke: #000000; stroke-width: 1.5;\"/><line style=\"stroke: #000000; stroke-width: 1.5;\" x1=\"297\" x2=\"394\" y1=\"366.2969\" y2=\"366.2969\"/><text fill=\"#000000\" font-family=\"sans-serif\" font-size=\"14\" font-weight=\"bold\" lengthAdjust=\"spacingAndGlyphs\" textLength=\"84\" x=\"301\" y=\"358.9951\">Data Layer</text></a><!--MD5=[af87c684e3b0d8be13c1a698a818ef1e]\n",
       "link E3 to E4--><a href=\"psysml:ddd06611-1e40-467d-8133-a183585a6da5\" target=\"_top\" title=\"psysml:ddd06611-1e40-467d-8133-a183585a6da5\" xlink:actuate=\"onRequest\" xlink:href=\"psysml:ddd06611-1e40-467d-8133-a183585a6da5\" xlink:show=\"new\" xlink:title=\"psysml:ddd06611-1e40-467d-8133-a183585a6da5\" xlink:type=\"simple\"><path d=\"M349,137.1 C349,156.8 349,184.22 349,205.73 \" fill=\"none\" id=\"E3-&gt;E4\" style=\"stroke: #383838; stroke-width: 1.0; stroke-dasharray: 7.0,7.0;\"/><polygon fill=\"#383838\" points=\"349,213.95,352,205.95,346,205.95,349,213.95\" style=\"stroke: #383838; stroke-width: 1.0;\"/><text fill=\"#000000\" font-family=\"sans-serif\" font-size=\"13\" lengthAdjust=\"spacingAndGlyphs\" textLength=\"64\" x=\"350\" y=\"180.0669\">«depend»</text></a><!--MD5=[1b7591eae5389033d8d09a9d6721a717]\n",
       "link E4 to E5--><a href=\"psysml:b5c0928c-fbc9-4433-ab1e-c084bfbcebd5\" target=\"_top\" title=\"psysml:b5c0928c-fbc9-4433-ab1e-c084bfbcebd5\" xlink:actuate=\"onRequest\" xlink:href=\"psysml:b5c0928c-fbc9-4433-ab1e-c084bfbcebd5\" xlink:show=\"new\" xlink:title=\"psysml:b5c0928c-fbc9-4433-ab1e-c084bfbcebd5\" xlink:type=\"simple\"><path d=\"M349,267.1 C349,286.8 349,314.22 349,335.73 \" fill=\"none\" id=\"E4-&gt;E5\" style=\"stroke: #383838; stroke-width: 1.0; stroke-dasharray: 7.0,7.0;\"/><polygon fill=\"#383838\" points=\"349,343.95,352,335.95,346,335.95,349,343.95\" style=\"stroke: #383838; stroke-width: 1.0;\"/><text fill=\"#000000\" font-family=\"sans-serif\" font-size=\"13\" lengthAdjust=\"spacingAndGlyphs\" textLength=\"64\" x=\"350\" y=\"310.0669\">«depend»</text></a><!--MD5=[c5e8897d989ce984f93528998a7150fe]\n",
       "link E8 to E6--><a href=\"psysml:a0e318cd-0c17-433c-bc04-dbf1eaa3473c\" target=\"_top\" title=\"psysml:a0e318cd-0c17-433c-bc04-dbf1eaa3473c\" xlink:actuate=\"onRequest\" xlink:href=\"psysml:a0e318cd-0c17-433c-bc04-dbf1eaa3473c\" xlink:show=\"new\" xlink:title=\"psysml:a0e318cd-0c17-433c-bc04-dbf1eaa3473c\" xlink:type=\"simple\"><path d=\"M97.55,133.75 C81.97,149.19 64,167 64,167 C64,167 64,184 64,184 C64,184 64.88,196.21 65.81,209.18 \" fill=\"none\" id=\"E8-&gt;E6\" style=\"stroke: #383838; stroke-width: 1.0; stroke-dasharray: 7.0,7.0;\"/><polygon fill=\"#383838\" points=\"66.4,217.25,68.8203,209.056,62.8357,209.485,66.4,217.25\" style=\"stroke: #383838; stroke-width: 1.0;\"/><text fill=\"#000000\" font-family=\"sans-serif\" font-size=\"13\" lengthAdjust=\"spacingAndGlyphs\" textLength=\"64\" x=\"65\" y=\"180.0669\">«depend»</text></a><!--MD5=[bfa3c8b0d15052fdf50ae9310b491027]\n",
       "link E8 to E7--><a href=\"psysml:a0e318cd-0c17-433c-bc04-dbf1eaa3473c\" target=\"_top\" title=\"psysml:a0e318cd-0c17-433c-bc04-dbf1eaa3473c\" xlink:actuate=\"onRequest\" xlink:href=\"psysml:a0e318cd-0c17-433c-bc04-dbf1eaa3473c\" xlink:show=\"new\" xlink:title=\"psysml:a0e318cd-0c17-433c-bc04-dbf1eaa3473c\" xlink:type=\"simple\"><path d=\"M129.28,133.5 C138.17,154.57 151.64,186.5 161.47,209.81 \" fill=\"none\" id=\"E8-&gt;E7\" style=\"stroke: #383838; stroke-width: 1.0; stroke-dasharray: 7.0,7.0;\"/><polygon fill=\"#383838\" points=\"164.66,217.35,164.3241,208.8126,158.7933,211.1385,164.66,217.35\" style=\"stroke: #383838; stroke-width: 1.0;\"/><text fill=\"#000000\" font-family=\"sans-serif\" font-size=\"13\" lengthAdjust=\"spacingAndGlyphs\" textLength=\"64\" x=\"151\" y=\"180.0669\">«depend»</text></a><!--MD5=[fec29e4d51074f8bc52302de161236b9]\n",
       "@startuml\r\n",
       "skinparam linetype polyline\r\n",
       "skinparam monochrome true\r\n",
       "skinparam classbackgroundcolor white\r\n",
       "skinparam shadowing false\r\n",
       "skinparam wrapWidth 300\r\n",
       "hide circle\r\n",
       "\r\n",
       "package \"DependencyTest\" as E1  [[psysml:01e86263-1e08-4c5e-80c8-9f3a01cb2b1c ]]  {\r\n",
       "package \"System\" as E2  [[psysml:65d9c171-277b-4a12-8988-537cd17218fe ]]  {\r\n",
       "package \"Application Layer\" as E3  [[psysml:7bbe8935-ee6e-44c3-abf9-e711bcee98e7 ]]  {\r\n",
       "}\r\n",
       "package \"Service Layer\" as E4  [[psysml:8539df59-9777-43d1-9cbc-191f1e3b0af0 ]]  {\r\n",
       "}\r\n",
       "package \"Data Layer\" as E5  [[psysml:06e8cf4d-e880-4b5c-8fdb-0871598a4cb3 ]]  {\r\n",
       "}\r\n",
       "}\r\n",
       "comp usage \"x\" as E6  <<(T,blue)attribute>> [[psysml:3f429861-8945-458a-afac-b9814097464d ]] {\r\n",
       "}\r\n",
       "comp usage \"y\" as E7  <<(T,blue)attribute>> [[psysml:f3318431-0d45-43ea-b254-330318c85eb0 ]] {\r\n",
       "}\r\n",
       "comp usage \"z\" as E8  <<(T,blue)attribute>> [[psysml:da180d87-042d-4ade-81c9-b5201399a446 ]] {\r\n",
       "}\r\n",
       "E3 ..>> E4 [[psysml:ddd06611-1e40-467d-8133-a183585a6da5 ]] : <<depend>>\r\n",
       "E4 ..>> E5 [[psysml:b5c0928c-fbc9-4433-ab1e-c084bfbcebd5 ]] : <<depend>>\r\n",
       "E8 ..>> E6 [[psysml:a0e318cd-0c17-433c-bc04-dbf1eaa3473c ]] : <<depend>>\r\n",
       "E8 ..>> E7 [[psysml:a0e318cd-0c17-433c-bc04-dbf1eaa3473c ]] : <<depend>>\r\n",
       "}\r\n",
       "@enduml\r\n",
       "\n",
       "PlantUML version 1.2020.13(Sat Jun 13 12:26:38 UTC 2020)\n",
       "(EPL source distribution)\n",
       "Java Runtime: OpenJDK Runtime Environment\n",
       "JVM: OpenJDK 64-Bit Server VM\n",
       "Default Encoding: UTF-8\n",
       "Language: en\n",
       "Country: null\n",
       "--></g></svg>"
      ]
     },
     "execution_count": 15,
     "metadata": {},
     "output_type": "execute_result"
    }
   ],
   "source": [
    "%viz --style=\"POLYLINE\" --view=\"MIXED\" \"DependencyTest\""
   ]
  },
  {
   "cell_type": "code",
   "execution_count": 16,
   "id": "powered-singapore",
   "metadata": {
    "execution": {
     "iopub.execute_input": "2021-03-25T15:09:46.509479Z",
     "iopub.status.busy": "2021-03-25T15:09:46.508644Z",
     "iopub.status.idle": "2021-03-25T15:09:46.614743Z",
     "shell.execute_reply": "2021-03-25T15:09:46.615123Z"
    }
   },
   "outputs": [
    {
     "data": {
      "image/svg+xml": [
       "<?xml version=\"1.0\" encoding=\"UTF-8\" standalone=\"no\"?><svg xmlns=\"http://www.w3.org/2000/svg\" xmlns:xlink=\"http://www.w3.org/1999/xlink\" contentScriptType=\"application/ecmascript\" contentStyleType=\"text/css\" height=\"328px\" preserveAspectRatio=\"none\" style=\"width:758px;height:328px;\" version=\"1.1\" viewBox=\"0 0 758 328\" width=\"758px\" zoomAndPan=\"magnify\"><defs/><g><!--MD5=[fbc87193dbaf4d95561dea2c320d4a47]\n",
       "cluster E1--><a href=\"psysml:01e86263-1e08-4c5e-80c8-9f3a01cb2b1c\" target=\"_top\" title=\"psysml:01e86263-1e08-4c5e-80c8-9f3a01cb2b1c\" xlink:actuate=\"onRequest\" xlink:href=\"psysml:01e86263-1e08-4c5e-80c8-9f3a01cb2b1c\" xlink:show=\"new\" xlink:title=\"psysml:01e86263-1e08-4c5e-80c8-9f3a01cb2b1c\" xlink:type=\"simple\"><polygon fill=\"#FFFFFF\" points=\"16,6,156,6,163,28.2969,736,28.2969,736,316,16,316,16,6\" style=\"stroke: #000000; stroke-width: 1.5;\"/><line style=\"stroke: #000000; stroke-width: 1.5;\" x1=\"16\" x2=\"163\" y1=\"28.2969\" y2=\"28.2969\"/><text fill=\"#000000\" font-family=\"sans-serif\" font-size=\"14\" font-weight=\"bold\" lengthAdjust=\"spacingAndGlyphs\" textLength=\"134\" x=\"20\" y=\"20.9951\">DependencyTest</text></a><!--MD5=[e4f7fae6ed58524ba242bb0b0d3be6b7]\n",
       "cluster E2--><a href=\"psysml:65d9c171-277b-4a12-8988-537cd17218fe\" target=\"_top\" title=\"psysml:65d9c171-277b-4a12-8988-537cd17218fe\" xlink:actuate=\"onRequest\" xlink:href=\"psysml:65d9c171-277b-4a12-8988-537cd17218fe\" xlink:show=\"new\" xlink:title=\"psysml:65d9c171-277b-4a12-8988-537cd17218fe\" xlink:type=\"simple\"><polygon fill=\"#FFFFFF\" points=\"40,49,104,49,111,71.2969,712,71.2969,712,154,40,154,40,49\" style=\"stroke: #000000; stroke-width: 1.5;\"/><line style=\"stroke: #000000; stroke-width: 1.5;\" x1=\"40\" x2=\"111\" y1=\"71.2969\" y2=\"71.2969\"/><text fill=\"#000000\" font-family=\"sans-serif\" font-size=\"14\" font-weight=\"bold\" lengthAdjust=\"spacingAndGlyphs\" textLength=\"58\" x=\"44\" y=\"63.9951\">System</text></a><!--MD5=[60a26617385b1d2d0262a64233df1f8d]\n",
       "class E6--><a href=\"psysml:3f429861-8945-458a-afac-b9814097464d\" target=\"_top\" title=\"psysml:3f429861-8945-458a-afac-b9814097464d\" xlink:actuate=\"onRequest\" xlink:href=\"psysml:3f429861-8945-458a-afac-b9814097464d\" xlink:show=\"new\" xlink:title=\"psysml:3f429861-8945-458a-afac-b9814097464d\" xlink:type=\"simple\"><rect fill=\"#FFFFFF\" height=\"45.9375\" id=\"E6\" rx=\"10\" ry=\"10\" style=\"stroke: #383838; stroke-width: 1.5;\" width=\"71\" x=\"366.5\" y=\"254\"/><text fill=\"#000000\" font-family=\"sans-serif\" font-size=\"12\" font-style=\"italic\" lengthAdjust=\"spacingAndGlyphs\" textLength=\"69\" x=\"367.5\" y=\"270.1387\">«attribute»</text><text fill=\"#000000\" font-family=\"sans-serif\" font-size=\"12\" lengthAdjust=\"spacingAndGlyphs\" textLength=\"6\" x=\"399\" y=\"284.1074\">x</text><line style=\"stroke: #383838; stroke-width: 1.5;\" x1=\"367.5\" x2=\"436.5\" y1=\"291.9375\" y2=\"291.9375\"/></a><!--MD5=[2156ba9850f5573cc1fc38a6a4b2f02b]\n",
       "class E7--><a href=\"psysml:f3318431-0d45-43ea-b254-330318c85eb0\" target=\"_top\" title=\"psysml:f3318431-0d45-43ea-b254-330318c85eb0\" xlink:actuate=\"onRequest\" xlink:href=\"psysml:f3318431-0d45-43ea-b254-330318c85eb0\" xlink:show=\"new\" xlink:title=\"psysml:f3318431-0d45-43ea-b254-330318c85eb0\" xlink:type=\"simple\"><rect fill=\"#FFFFFF\" height=\"45.9375\" id=\"E7\" rx=\"10\" ry=\"10\" style=\"stroke: #383838; stroke-width: 1.5;\" width=\"71\" x=\"366.5\" y=\"173\"/><text fill=\"#000000\" font-family=\"sans-serif\" font-size=\"12\" font-style=\"italic\" lengthAdjust=\"spacingAndGlyphs\" textLength=\"69\" x=\"367.5\" y=\"189.1387\">«attribute»</text><text fill=\"#000000\" font-family=\"sans-serif\" font-size=\"12\" lengthAdjust=\"spacingAndGlyphs\" textLength=\"6\" x=\"399\" y=\"203.1074\">y</text><line style=\"stroke: #383838; stroke-width: 1.5;\" x1=\"367.5\" x2=\"436.5\" y1=\"210.9375\" y2=\"210.9375\"/></a><!--MD5=[b9389687b975829384b498ac4b7476b2]\n",
       "class E8--><a href=\"psysml:da180d87-042d-4ade-81c9-b5201399a446\" target=\"_top\" title=\"psysml:da180d87-042d-4ade-81c9-b5201399a446\" xlink:actuate=\"onRequest\" xlink:href=\"psysml:da180d87-042d-4ade-81c9-b5201399a446\" xlink:show=\"new\" xlink:title=\"psysml:da180d87-042d-4ade-81c9-b5201399a446\" xlink:type=\"simple\"><rect fill=\"#FFFFFF\" height=\"45.9375\" id=\"E8\" rx=\"10\" ry=\"10\" style=\"stroke: #383838; stroke-width: 1.5;\" width=\"71\" x=\"98.5\" y=\"206\"/><text fill=\"#000000\" font-family=\"sans-serif\" font-size=\"12\" font-style=\"italic\" lengthAdjust=\"spacingAndGlyphs\" textLength=\"69\" x=\"99.5\" y=\"222.1387\">«attribute»</text><text fill=\"#000000\" font-family=\"sans-serif\" font-size=\"12\" lengthAdjust=\"spacingAndGlyphs\" textLength=\"5\" x=\"131.5\" y=\"236.1074\">z</text><line style=\"stroke: #383838; stroke-width: 1.5;\" x1=\"99.5\" x2=\"168.5\" y1=\"243.9375\" y2=\"243.9375\"/></a><a href=\"psysml:7bbe8935-ee6e-44c3-abf9-e711bcee98e7\" target=\"_top\" title=\"psysml:7bbe8935-ee6e-44c3-abf9-e711bcee98e7\" xlink:actuate=\"onRequest\" xlink:href=\"psysml:7bbe8935-ee6e-44c3-abf9-e711bcee98e7\" xlink:show=\"new\" xlink:title=\"psysml:7bbe8935-ee6e-44c3-abf9-e711bcee98e7\" xlink:type=\"simple\"><polygon fill=\"#FFFFFF\" points=\"56,84.5,198,84.5,205,106.7969,212,106.7969,212,137.0938,56,137.0938,56,84.5\" style=\"stroke: #000000; stroke-width: 1.5;\"/><line style=\"stroke: #000000; stroke-width: 1.5;\" x1=\"56\" x2=\"205\" y1=\"106.7969\" y2=\"106.7969\"/><text fill=\"#000000\" font-family=\"sans-serif\" font-size=\"14\" font-weight=\"bold\" lengthAdjust=\"spacingAndGlyphs\" textLength=\"136\" x=\"60\" y=\"99.4951\">Application Layer</text></a><a href=\"psysml:8539df59-9777-43d1-9cbc-191f1e3b0af0\" target=\"_top\" title=\"psysml:8539df59-9777-43d1-9cbc-191f1e3b0af0\" xlink:actuate=\"onRequest\" xlink:href=\"psysml:8539df59-9777-43d1-9cbc-191f1e3b0af0\" xlink:show=\"new\" xlink:title=\"psysml:8539df59-9777-43d1-9cbc-191f1e3b0af0\" xlink:type=\"simple\"><polygon fill=\"#FFFFFF\" points=\"338,84.5,452,84.5,459,106.7969,466,106.7969,466,137.0938,338,137.0938,338,84.5\" style=\"stroke: #000000; stroke-width: 1.5;\"/><line style=\"stroke: #000000; stroke-width: 1.5;\" x1=\"338\" x2=\"459\" y1=\"106.7969\" y2=\"106.7969\"/><text fill=\"#000000\" font-family=\"sans-serif\" font-size=\"14\" font-weight=\"bold\" lengthAdjust=\"spacingAndGlyphs\" textLength=\"108\" x=\"342\" y=\"99.4951\">Service Layer</text></a><a href=\"psysml:06e8cf4d-e880-4b5c-8fdb-0871598a4cb3\" target=\"_top\" title=\"psysml:06e8cf4d-e880-4b5c-8fdb-0871598a4cb3\" xlink:actuate=\"onRequest\" xlink:href=\"psysml:06e8cf4d-e880-4b5c-8fdb-0871598a4cb3\" xlink:show=\"new\" xlink:title=\"psysml:06e8cf4d-e880-4b5c-8fdb-0871598a4cb3\" xlink:type=\"simple\"><polygon fill=\"#FFFFFF\" points=\"592,84.5,682,84.5,689,106.7969,696,106.7969,696,137.0938,592,137.0938,592,84.5\" style=\"stroke: #000000; stroke-width: 1.5;\"/><line style=\"stroke: #000000; stroke-width: 1.5;\" x1=\"592\" x2=\"689\" y1=\"106.7969\" y2=\"106.7969\"/><text fill=\"#000000\" font-family=\"sans-serif\" font-size=\"14\" font-weight=\"bold\" lengthAdjust=\"spacingAndGlyphs\" textLength=\"84\" x=\"596\" y=\"99.4951\">Data Layer</text></a><!--MD5=[af87c684e3b0d8be13c1a698a818ef1e]\n",
       "link E3 to E4--><a href=\"psysml:ddd06611-1e40-467d-8133-a183585a6da5\" target=\"_top\" title=\"psysml:ddd06611-1e40-467d-8133-a183585a6da5\" xlink:actuate=\"onRequest\" xlink:href=\"psysml:ddd06611-1e40-467d-8133-a183585a6da5\" xlink:show=\"new\" xlink:title=\"psysml:ddd06611-1e40-467d-8133-a183585a6da5\" xlink:type=\"simple\"><path d=\"M212.3,111 C249.37,111 293.5,111 329.76,111 \" fill=\"none\" id=\"E3-&gt;E4\" style=\"stroke: #383838; stroke-width: 1.0; stroke-dasharray: 7.0,7.0;\"/><polygon fill=\"#383838\" points=\"337.84,111,329.84,108,329.84,114,337.84,111\" style=\"stroke: #383838; stroke-width: 1.0;\"/><text fill=\"#000000\" font-family=\"sans-serif\" font-size=\"13\" lengthAdjust=\"spacingAndGlyphs\" textLength=\"64\" x=\"243\" y=\"107.0669\">«depend»</text></a><!--MD5=[1b7591eae5389033d8d09a9d6721a717]\n",
       "link E4 to E5--><a href=\"psysml:b5c0928c-fbc9-4433-ab1e-c084bfbcebd5\" target=\"_top\" title=\"psysml:b5c0928c-fbc9-4433-ab1e-c084bfbcebd5\" xlink:actuate=\"onRequest\" xlink:href=\"psysml:b5c0928c-fbc9-4433-ab1e-c084bfbcebd5\" xlink:show=\"new\" xlink:title=\"psysml:b5c0928c-fbc9-4433-ab1e-c084bfbcebd5\" xlink:type=\"simple\"><path d=\"M466.06,111 C502.32,111 547.6,111 583.28,111 \" fill=\"none\" id=\"E4-&gt;E5\" style=\"stroke: #383838; stroke-width: 1.0; stroke-dasharray: 7.0,7.0;\"/><polygon fill=\"#383838\" points=\"591.67,111,583.67,108,583.67,114,591.67,111\" style=\"stroke: #383838; stroke-width: 1.0;\"/><text fill=\"#000000\" font-family=\"sans-serif\" font-size=\"13\" lengthAdjust=\"spacingAndGlyphs\" textLength=\"64\" x=\"497\" y=\"107.0669\">«depend»</text></a><!--MD5=[c5e8897d989ce984f93528998a7150fe]\n",
       "link E8 to E6--><a href=\"psysml:a0e318cd-0c17-433c-bc04-dbf1eaa3473c\" target=\"_top\" title=\"psysml:a0e318cd-0c17-433c-bc04-dbf1eaa3473c\" xlink:actuate=\"onRequest\" xlink:href=\"psysml:a0e318cd-0c17-433c-bc04-dbf1eaa3473c\" xlink:show=\"new\" xlink:title=\"psysml:a0e318cd-0c17-433c-bc04-dbf1eaa3473c\" xlink:type=\"simple\"><path d=\"M169.5,235.23 C217.81,243.94 305.54,259.77 358.03,269.25 \" fill=\"none\" id=\"E8-&gt;E6\" style=\"stroke: #383838; stroke-width: 1.0; stroke-dasharray: 7.0,7.0;\"/><polygon fill=\"#383838\" points=\"366.14,270.71,358.7966,266.3425,357.7356,272.248,366.14,270.71\" style=\"stroke: #383838; stroke-width: 1.0;\"/><text fill=\"#000000\" font-family=\"sans-serif\" font-size=\"13\" lengthAdjust=\"spacingAndGlyphs\" textLength=\"64\" x=\"243\" y=\"245.0669\">«depend»</text></a><!--MD5=[bfa3c8b0d15052fdf50ae9310b491027]\n",
       "link E8 to E7--><a href=\"psysml:a0e318cd-0c17-433c-bc04-dbf1eaa3473c\" target=\"_top\" title=\"psysml:a0e318cd-0c17-433c-bc04-dbf1eaa3473c\" xlink:actuate=\"onRequest\" xlink:href=\"psysml:a0e318cd-0c17-433c-bc04-dbf1eaa3473c\" xlink:show=\"new\" xlink:title=\"psysml:a0e318cd-0c17-433c-bc04-dbf1eaa3473c\" xlink:type=\"simple\"><path d=\"M169.5,224.72 C217.81,218.73 305.54,207.84 358.03,201.33 \" fill=\"none\" id=\"E8-&gt;E7\" style=\"stroke: #383838; stroke-width: 1.0; stroke-dasharray: 7.0,7.0;\"/><polygon fill=\"#383838\" points=\"366.14,200.33,357.8314,198.3381,358.5704,204.2924,366.14,200.33\" style=\"stroke: #383838; stroke-width: 1.0;\"/><text fill=\"#000000\" font-family=\"sans-serif\" font-size=\"13\" lengthAdjust=\"spacingAndGlyphs\" textLength=\"64\" x=\"243\" y=\"204.0669\">«depend»</text></a><!--MD5=[6879c5783f1834ceda67ddb13673bf86]\n",
       "@startuml\r\n",
       "left to right direction\r\n",
       "skinparam monochrome true\r\n",
       "skinparam classbackgroundcolor white\r\n",
       "skinparam shadowing false\r\n",
       "skinparam wrapWidth 300\r\n",
       "hide circle\r\n",
       "\r\n",
       "package \"DependencyTest\" as E1  [[psysml:01e86263-1e08-4c5e-80c8-9f3a01cb2b1c ]]  {\r\n",
       "package \"System\" as E2  [[psysml:65d9c171-277b-4a12-8988-537cd17218fe ]]  {\r\n",
       "package \"Application Layer\" as E3  [[psysml:7bbe8935-ee6e-44c3-abf9-e711bcee98e7 ]]  {\r\n",
       "}\r\n",
       "package \"Service Layer\" as E4  [[psysml:8539df59-9777-43d1-9cbc-191f1e3b0af0 ]]  {\r\n",
       "}\r\n",
       "package \"Data Layer\" as E5  [[psysml:06e8cf4d-e880-4b5c-8fdb-0871598a4cb3 ]]  {\r\n",
       "}\r\n",
       "}\r\n",
       "comp usage \"x\" as E6  <<(T,blue)attribute>> [[psysml:3f429861-8945-458a-afac-b9814097464d ]] {\r\n",
       "}\r\n",
       "comp usage \"y\" as E7  <<(T,blue)attribute>> [[psysml:f3318431-0d45-43ea-b254-330318c85eb0 ]] {\r\n",
       "}\r\n",
       "comp usage \"z\" as E8  <<(T,blue)attribute>> [[psysml:da180d87-042d-4ade-81c9-b5201399a446 ]] {\r\n",
       "}\r\n",
       "E3 ..>> E4 [[psysml:ddd06611-1e40-467d-8133-a183585a6da5 ]] : <<depend>>\r\n",
       "E4 ..>> E5 [[psysml:b5c0928c-fbc9-4433-ab1e-c084bfbcebd5 ]] : <<depend>>\r\n",
       "E8 ..>> E6 [[psysml:a0e318cd-0c17-433c-bc04-dbf1eaa3473c ]] : <<depend>>\r\n",
       "E8 ..>> E7 [[psysml:a0e318cd-0c17-433c-bc04-dbf1eaa3473c ]] : <<depend>>\r\n",
       "}\r\n",
       "@enduml\r\n",
       "\n",
       "PlantUML version 1.2020.13(Sat Jun 13 12:26:38 UTC 2020)\n",
       "(EPL source distribution)\n",
       "Java Runtime: OpenJDK Runtime Environment\n",
       "JVM: OpenJDK 64-Bit Server VM\n",
       "Default Encoding: UTF-8\n",
       "Language: en\n",
       "Country: null\n",
       "--></g></svg>"
      ]
     },
     "execution_count": 16,
     "metadata": {},
     "output_type": "execute_result"
    }
   ],
   "source": [
    "%viz --style=\"LR\" --view=\"Default\" \"DependencyTest\""
   ]
  },
  {
   "cell_type": "code",
   "execution_count": 17,
   "id": "amino-browse",
   "metadata": {
    "execution": {
     "iopub.execute_input": "2021-03-25T15:09:46.667228Z",
     "iopub.status.busy": "2021-03-25T15:09:46.666494Z",
     "iopub.status.idle": "2021-03-25T15:09:46.779772Z",
     "shell.execute_reply": "2021-03-25T15:09:46.779391Z"
    }
   },
   "outputs": [
    {
     "data": {
      "image/svg+xml": [
       "<?xml version=\"1.0\" encoding=\"UTF-8\" standalone=\"no\"?><svg xmlns=\"http://www.w3.org/2000/svg\" xmlns:xlink=\"http://www.w3.org/1999/xlink\" contentScriptType=\"application/ecmascript\" contentStyleType=\"text/css\" height=\"328px\" preserveAspectRatio=\"none\" style=\"width:758px;height:328px;\" version=\"1.1\" viewBox=\"0 0 758 328\" width=\"758px\" zoomAndPan=\"magnify\"><defs/><g><!--MD5=[fbc87193dbaf4d95561dea2c320d4a47]\n",
       "cluster E1--><a href=\"psysml:01e86263-1e08-4c5e-80c8-9f3a01cb2b1c\" target=\"_top\" title=\"psysml:01e86263-1e08-4c5e-80c8-9f3a01cb2b1c\" xlink:actuate=\"onRequest\" xlink:href=\"psysml:01e86263-1e08-4c5e-80c8-9f3a01cb2b1c\" xlink:show=\"new\" xlink:title=\"psysml:01e86263-1e08-4c5e-80c8-9f3a01cb2b1c\" xlink:type=\"simple\"><polygon fill=\"#FFFFFF\" points=\"16,6,156,6,163,28.2969,736,28.2969,736,316,16,316,16,6\" style=\"stroke: #000000; stroke-width: 1.5;\"/><line style=\"stroke: #000000; stroke-width: 1.5;\" x1=\"16\" x2=\"163\" y1=\"28.2969\" y2=\"28.2969\"/><text fill=\"#000000\" font-family=\"sans-serif\" font-size=\"14\" font-weight=\"bold\" lengthAdjust=\"spacingAndGlyphs\" textLength=\"134\" x=\"20\" y=\"20.9951\">DependencyTest</text></a><!--MD5=[e4f7fae6ed58524ba242bb0b0d3be6b7]\n",
       "cluster E2--><a href=\"psysml:65d9c171-277b-4a12-8988-537cd17218fe\" target=\"_top\" title=\"psysml:65d9c171-277b-4a12-8988-537cd17218fe\" xlink:actuate=\"onRequest\" xlink:href=\"psysml:65d9c171-277b-4a12-8988-537cd17218fe\" xlink:show=\"new\" xlink:title=\"psysml:65d9c171-277b-4a12-8988-537cd17218fe\" xlink:type=\"simple\"><polygon fill=\"#FFFFFF\" points=\"40,49,104,49,111,71.2969,712,71.2969,712,154,40,154,40,49\" style=\"stroke: #000000; stroke-width: 1.5;\"/><line style=\"stroke: #000000; stroke-width: 1.5;\" x1=\"40\" x2=\"111\" y1=\"71.2969\" y2=\"71.2969\"/><text fill=\"#000000\" font-family=\"sans-serif\" font-size=\"14\" font-weight=\"bold\" lengthAdjust=\"spacingAndGlyphs\" textLength=\"58\" x=\"44\" y=\"63.9951\">System</text></a><!--MD5=[60a26617385b1d2d0262a64233df1f8d]\n",
       "class E6--><a href=\"psysml:3f429861-8945-458a-afac-b9814097464d\" target=\"_top\" title=\"psysml:3f429861-8945-458a-afac-b9814097464d\" xlink:actuate=\"onRequest\" xlink:href=\"psysml:3f429861-8945-458a-afac-b9814097464d\" xlink:show=\"new\" xlink:title=\"psysml:3f429861-8945-458a-afac-b9814097464d\" xlink:type=\"simple\"><rect fill=\"#FFFFFF\" height=\"45.9375\" id=\"E6\" rx=\"10\" ry=\"10\" style=\"stroke: #383838; stroke-width: 1.5;\" width=\"71\" x=\"366.5\" y=\"254\"/><text fill=\"#000000\" font-family=\"sans-serif\" font-size=\"12\" font-style=\"italic\" lengthAdjust=\"spacingAndGlyphs\" textLength=\"69\" x=\"367.5\" y=\"270.1387\">«attribute»</text><text fill=\"#000000\" font-family=\"sans-serif\" font-size=\"12\" lengthAdjust=\"spacingAndGlyphs\" textLength=\"6\" x=\"399\" y=\"284.1074\">x</text><line style=\"stroke: #383838; stroke-width: 1.5;\" x1=\"367.5\" x2=\"436.5\" y1=\"291.9375\" y2=\"291.9375\"/></a><!--MD5=[2156ba9850f5573cc1fc38a6a4b2f02b]\n",
       "class E7--><a href=\"psysml:f3318431-0d45-43ea-b254-330318c85eb0\" target=\"_top\" title=\"psysml:f3318431-0d45-43ea-b254-330318c85eb0\" xlink:actuate=\"onRequest\" xlink:href=\"psysml:f3318431-0d45-43ea-b254-330318c85eb0\" xlink:show=\"new\" xlink:title=\"psysml:f3318431-0d45-43ea-b254-330318c85eb0\" xlink:type=\"simple\"><rect fill=\"#FFFFFF\" height=\"45.9375\" id=\"E7\" rx=\"10\" ry=\"10\" style=\"stroke: #383838; stroke-width: 1.5;\" width=\"71\" x=\"366.5\" y=\"173\"/><text fill=\"#000000\" font-family=\"sans-serif\" font-size=\"12\" font-style=\"italic\" lengthAdjust=\"spacingAndGlyphs\" textLength=\"69\" x=\"367.5\" y=\"189.1387\">«attribute»</text><text fill=\"#000000\" font-family=\"sans-serif\" font-size=\"12\" lengthAdjust=\"spacingAndGlyphs\" textLength=\"6\" x=\"399\" y=\"203.1074\">y</text><line style=\"stroke: #383838; stroke-width: 1.5;\" x1=\"367.5\" x2=\"436.5\" y1=\"210.9375\" y2=\"210.9375\"/></a><!--MD5=[b9389687b975829384b498ac4b7476b2]\n",
       "class E8--><a href=\"psysml:da180d87-042d-4ade-81c9-b5201399a446\" target=\"_top\" title=\"psysml:da180d87-042d-4ade-81c9-b5201399a446\" xlink:actuate=\"onRequest\" xlink:href=\"psysml:da180d87-042d-4ade-81c9-b5201399a446\" xlink:show=\"new\" xlink:title=\"psysml:da180d87-042d-4ade-81c9-b5201399a446\" xlink:type=\"simple\"><rect fill=\"#FFFFFF\" height=\"45.9375\" id=\"E8\" rx=\"10\" ry=\"10\" style=\"stroke: #383838; stroke-width: 1.5;\" width=\"71\" x=\"98.5\" y=\"206\"/><text fill=\"#000000\" font-family=\"sans-serif\" font-size=\"12\" font-style=\"italic\" lengthAdjust=\"spacingAndGlyphs\" textLength=\"69\" x=\"99.5\" y=\"222.1387\">«attribute»</text><text fill=\"#000000\" font-family=\"sans-serif\" font-size=\"12\" lengthAdjust=\"spacingAndGlyphs\" textLength=\"5\" x=\"131.5\" y=\"236.1074\">z</text><line style=\"stroke: #383838; stroke-width: 1.5;\" x1=\"99.5\" x2=\"168.5\" y1=\"243.9375\" y2=\"243.9375\"/></a><a href=\"psysml:7bbe8935-ee6e-44c3-abf9-e711bcee98e7\" target=\"_top\" title=\"psysml:7bbe8935-ee6e-44c3-abf9-e711bcee98e7\" xlink:actuate=\"onRequest\" xlink:href=\"psysml:7bbe8935-ee6e-44c3-abf9-e711bcee98e7\" xlink:show=\"new\" xlink:title=\"psysml:7bbe8935-ee6e-44c3-abf9-e711bcee98e7\" xlink:type=\"simple\"><polygon fill=\"#FFFFFF\" points=\"56,84.5,198,84.5,205,106.7969,212,106.7969,212,137.0938,56,137.0938,56,84.5\" style=\"stroke: #000000; stroke-width: 1.5;\"/><line style=\"stroke: #000000; stroke-width: 1.5;\" x1=\"56\" x2=\"205\" y1=\"106.7969\" y2=\"106.7969\"/><text fill=\"#000000\" font-family=\"sans-serif\" font-size=\"14\" font-weight=\"bold\" lengthAdjust=\"spacingAndGlyphs\" textLength=\"136\" x=\"60\" y=\"99.4951\">Application Layer</text></a><a href=\"psysml:8539df59-9777-43d1-9cbc-191f1e3b0af0\" target=\"_top\" title=\"psysml:8539df59-9777-43d1-9cbc-191f1e3b0af0\" xlink:actuate=\"onRequest\" xlink:href=\"psysml:8539df59-9777-43d1-9cbc-191f1e3b0af0\" xlink:show=\"new\" xlink:title=\"psysml:8539df59-9777-43d1-9cbc-191f1e3b0af0\" xlink:type=\"simple\"><polygon fill=\"#FFFFFF\" points=\"338,84.5,452,84.5,459,106.7969,466,106.7969,466,137.0938,338,137.0938,338,84.5\" style=\"stroke: #000000; stroke-width: 1.5;\"/><line style=\"stroke: #000000; stroke-width: 1.5;\" x1=\"338\" x2=\"459\" y1=\"106.7969\" y2=\"106.7969\"/><text fill=\"#000000\" font-family=\"sans-serif\" font-size=\"14\" font-weight=\"bold\" lengthAdjust=\"spacingAndGlyphs\" textLength=\"108\" x=\"342\" y=\"99.4951\">Service Layer</text></a><a href=\"psysml:06e8cf4d-e880-4b5c-8fdb-0871598a4cb3\" target=\"_top\" title=\"psysml:06e8cf4d-e880-4b5c-8fdb-0871598a4cb3\" xlink:actuate=\"onRequest\" xlink:href=\"psysml:06e8cf4d-e880-4b5c-8fdb-0871598a4cb3\" xlink:show=\"new\" xlink:title=\"psysml:06e8cf4d-e880-4b5c-8fdb-0871598a4cb3\" xlink:type=\"simple\"><polygon fill=\"#FFFFFF\" points=\"592,84.5,682,84.5,689,106.7969,696,106.7969,696,137.0938,592,137.0938,592,84.5\" style=\"stroke: #000000; stroke-width: 1.5;\"/><line style=\"stroke: #000000; stroke-width: 1.5;\" x1=\"592\" x2=\"689\" y1=\"106.7969\" y2=\"106.7969\"/><text fill=\"#000000\" font-family=\"sans-serif\" font-size=\"14\" font-weight=\"bold\" lengthAdjust=\"spacingAndGlyphs\" textLength=\"84\" x=\"596\" y=\"99.4951\">Data Layer</text></a><!--MD5=[af87c684e3b0d8be13c1a698a818ef1e]\n",
       "link E3 to E4--><a href=\"psysml:ddd06611-1e40-467d-8133-a183585a6da5\" target=\"_top\" title=\"psysml:ddd06611-1e40-467d-8133-a183585a6da5\" xlink:actuate=\"onRequest\" xlink:href=\"psysml:ddd06611-1e40-467d-8133-a183585a6da5\" xlink:show=\"new\" xlink:title=\"psysml:ddd06611-1e40-467d-8133-a183585a6da5\" xlink:type=\"simple\"><path d=\"M212.3,111 C249.37,111 293.5,111 329.76,111 \" fill=\"none\" id=\"E3-&gt;E4\" style=\"stroke: #383838; stroke-width: 1.0; stroke-dasharray: 7.0,7.0;\"/><polygon fill=\"#383838\" points=\"337.84,111,329.84,108,329.84,114,337.84,111\" style=\"stroke: #383838; stroke-width: 1.0;\"/><text fill=\"#000000\" font-family=\"sans-serif\" font-size=\"13\" lengthAdjust=\"spacingAndGlyphs\" textLength=\"64\" x=\"243\" y=\"107.0669\">«depend»</text></a><!--MD5=[1b7591eae5389033d8d09a9d6721a717]\n",
       "link E4 to E5--><a href=\"psysml:b5c0928c-fbc9-4433-ab1e-c084bfbcebd5\" target=\"_top\" title=\"psysml:b5c0928c-fbc9-4433-ab1e-c084bfbcebd5\" xlink:actuate=\"onRequest\" xlink:href=\"psysml:b5c0928c-fbc9-4433-ab1e-c084bfbcebd5\" xlink:show=\"new\" xlink:title=\"psysml:b5c0928c-fbc9-4433-ab1e-c084bfbcebd5\" xlink:type=\"simple\"><path d=\"M466.06,111 C502.32,111 547.6,111 583.28,111 \" fill=\"none\" id=\"E4-&gt;E5\" style=\"stroke: #383838; stroke-width: 1.0; stroke-dasharray: 7.0,7.0;\"/><polygon fill=\"#383838\" points=\"591.67,111,583.67,108,583.67,114,591.67,111\" style=\"stroke: #383838; stroke-width: 1.0;\"/><text fill=\"#000000\" font-family=\"sans-serif\" font-size=\"13\" lengthAdjust=\"spacingAndGlyphs\" textLength=\"64\" x=\"497\" y=\"107.0669\">«depend»</text></a><!--MD5=[c5e8897d989ce984f93528998a7150fe]\n",
       "link E8 to E6--><a href=\"psysml:a0e318cd-0c17-433c-bc04-dbf1eaa3473c\" target=\"_top\" title=\"psysml:a0e318cd-0c17-433c-bc04-dbf1eaa3473c\" xlink:actuate=\"onRequest\" xlink:href=\"psysml:a0e318cd-0c17-433c-bc04-dbf1eaa3473c\" xlink:show=\"new\" xlink:title=\"psysml:a0e318cd-0c17-433c-bc04-dbf1eaa3473c\" xlink:type=\"simple\"><path d=\"M169.5,235.23 C217.81,243.94 305.54,259.77 358.03,269.25 \" fill=\"none\" id=\"E8-&gt;E6\" style=\"stroke: #383838; stroke-width: 1.0; stroke-dasharray: 7.0,7.0;\"/><polygon fill=\"#383838\" points=\"366.14,270.71,358.7966,266.3425,357.7356,272.248,366.14,270.71\" style=\"stroke: #383838; stroke-width: 1.0;\"/><text fill=\"#000000\" font-family=\"sans-serif\" font-size=\"13\" lengthAdjust=\"spacingAndGlyphs\" textLength=\"64\" x=\"243\" y=\"245.0669\">«depend»</text></a><!--MD5=[bfa3c8b0d15052fdf50ae9310b491027]\n",
       "link E8 to E7--><a href=\"psysml:a0e318cd-0c17-433c-bc04-dbf1eaa3473c\" target=\"_top\" title=\"psysml:a0e318cd-0c17-433c-bc04-dbf1eaa3473c\" xlink:actuate=\"onRequest\" xlink:href=\"psysml:a0e318cd-0c17-433c-bc04-dbf1eaa3473c\" xlink:show=\"new\" xlink:title=\"psysml:a0e318cd-0c17-433c-bc04-dbf1eaa3473c\" xlink:type=\"simple\"><path d=\"M169.5,224.72 C217.81,218.73 305.54,207.84 358.03,201.33 \" fill=\"none\" id=\"E8-&gt;E7\" style=\"stroke: #383838; stroke-width: 1.0; stroke-dasharray: 7.0,7.0;\"/><polygon fill=\"#383838\" points=\"366.14,200.33,357.8314,198.3381,358.5704,204.2924,366.14,200.33\" style=\"stroke: #383838; stroke-width: 1.0;\"/><text fill=\"#000000\" font-family=\"sans-serif\" font-size=\"13\" lengthAdjust=\"spacingAndGlyphs\" textLength=\"64\" x=\"243\" y=\"204.0669\">«depend»</text></a><!--MD5=[6879c5783f1834ceda67ddb13673bf86]\n",
       "@startuml\r\n",
       "left to right direction\r\n",
       "skinparam monochrome true\r\n",
       "skinparam classbackgroundcolor white\r\n",
       "skinparam shadowing false\r\n",
       "skinparam wrapWidth 300\r\n",
       "hide circle\r\n",
       "\r\n",
       "package \"DependencyTest\" as E1  [[psysml:01e86263-1e08-4c5e-80c8-9f3a01cb2b1c ]]  {\r\n",
       "package \"System\" as E2  [[psysml:65d9c171-277b-4a12-8988-537cd17218fe ]]  {\r\n",
       "package \"Application Layer\" as E3  [[psysml:7bbe8935-ee6e-44c3-abf9-e711bcee98e7 ]]  {\r\n",
       "}\r\n",
       "package \"Service Layer\" as E4  [[psysml:8539df59-9777-43d1-9cbc-191f1e3b0af0 ]]  {\r\n",
       "}\r\n",
       "package \"Data Layer\" as E5  [[psysml:06e8cf4d-e880-4b5c-8fdb-0871598a4cb3 ]]  {\r\n",
       "}\r\n",
       "}\r\n",
       "comp usage \"x\" as E6  <<(T,blue)attribute>> [[psysml:3f429861-8945-458a-afac-b9814097464d ]] {\r\n",
       "}\r\n",
       "comp usage \"y\" as E7  <<(T,blue)attribute>> [[psysml:f3318431-0d45-43ea-b254-330318c85eb0 ]] {\r\n",
       "}\r\n",
       "comp usage \"z\" as E8  <<(T,blue)attribute>> [[psysml:da180d87-042d-4ade-81c9-b5201399a446 ]] {\r\n",
       "}\r\n",
       "E3 ..>> E4 [[psysml:ddd06611-1e40-467d-8133-a183585a6da5 ]] : <<depend>>\r\n",
       "E4 ..>> E5 [[psysml:b5c0928c-fbc9-4433-ab1e-c084bfbcebd5 ]] : <<depend>>\r\n",
       "E8 ..>> E6 [[psysml:a0e318cd-0c17-433c-bc04-dbf1eaa3473c ]] : <<depend>>\r\n",
       "E8 ..>> E7 [[psysml:a0e318cd-0c17-433c-bc04-dbf1eaa3473c ]] : <<depend>>\r\n",
       "}\r\n",
       "@enduml\r\n",
       "\n",
       "PlantUML version 1.2020.13(Sat Jun 13 12:26:38 UTC 2020)\n",
       "(EPL source distribution)\n",
       "Java Runtime: OpenJDK Runtime Environment\n",
       "JVM: OpenJDK 64-Bit Server VM\n",
       "Default Encoding: UTF-8\n",
       "Language: en\n",
       "Country: null\n",
       "--></g></svg>"
      ]
     },
     "execution_count": 17,
     "metadata": {},
     "output_type": "execute_result"
    }
   ],
   "source": [
    "%viz --style=\"LR\" --view=\"Tree\" \"DependencyTest\""
   ]
  },
  {
   "cell_type": "code",
   "execution_count": 18,
   "id": "golden-queen",
   "metadata": {
    "execution": {
     "iopub.execute_input": "2021-03-25T15:09:46.830636Z",
     "iopub.status.busy": "2021-03-25T15:09:46.829996Z",
     "iopub.status.idle": "2021-03-25T15:09:46.838315Z",
     "shell.execute_reply": "2021-03-25T15:09:46.837828Z"
    }
   },
   "outputs": [
    {
     "data": {
      "image/svg+xml": [
       "<?xml version=\"1.0\" encoding=\"UTF-8\" standalone=\"no\"?><svg xmlns=\"http://www.w3.org/2000/svg\" xmlns:xlink=\"http://www.w3.org/1999/xlink\" contentScriptType=\"application/ecmascript\" contentStyleType=\"text/css\" height=\"12px\" preserveAspectRatio=\"none\" style=\"width:12px;height:12px;\" version=\"1.1\" viewBox=\"0 0 12 12\" width=\"12px\" zoomAndPan=\"magnify\"><defs/><g><!--MD5=[19d285c9d72a204eba4e2cd117d745e8]\n",
       "@startuml\r\n",
       "left to right direction\r\n",
       "skinparam monochrome true\r\n",
       "skinparam classbackgroundcolor white\r\n",
       "skinparam shadowing false\r\n",
       "skinparam wrapWidth 300\r\n",
       "hide circle\r\n",
       "\r\n",
       "@enduml\r\n",
       "\n",
       "PlantUML version 1.2020.13(Sat Jun 13 12:26:38 UTC 2020)\n",
       "(EPL source distribution)\n",
       "Java Runtime: OpenJDK Runtime Environment\n",
       "JVM: OpenJDK 64-Bit Server VM\n",
       "Default Encoding: UTF-8\n",
       "Language: en\n",
       "Country: null\n",
       "--></g></svg>"
      ]
     },
     "execution_count": 18,
     "metadata": {},
     "output_type": "execute_result"
    }
   ],
   "source": [
    "%viz --style=\"LR\" --view=\"State\" \"DependencyTest\""
   ]
  },
  {
   "cell_type": "code",
   "execution_count": 19,
   "id": "willing-harvest",
   "metadata": {
    "execution": {
     "iopub.execute_input": "2021-03-25T15:09:46.890954Z",
     "iopub.status.busy": "2021-03-25T15:09:46.890365Z",
     "iopub.status.idle": "2021-03-25T15:09:46.998430Z",
     "shell.execute_reply": "2021-03-25T15:09:46.996932Z"
    }
   },
   "outputs": [
    {
     "data": {
      "image/svg+xml": [
       "<?xml version=\"1.0\" encoding=\"UTF-8\" standalone=\"no\"?><svg xmlns=\"http://www.w3.org/2000/svg\" xmlns:xlink=\"http://www.w3.org/1999/xlink\" contentScriptType=\"application/ecmascript\" contentStyleType=\"text/css\" height=\"322px\" preserveAspectRatio=\"none\" style=\"width:670px;height:322px;\" version=\"1.1\" viewBox=\"0 0 670 322\" width=\"670px\" zoomAndPan=\"magnify\"><defs/><g><!--MD5=[fbc87193dbaf4d95561dea2c320d4a47]\n",
       "cluster E1--><a href=\"psysml:01e86263-1e08-4c5e-80c8-9f3a01cb2b1c\" target=\"_top\" title=\"psysml:01e86263-1e08-4c5e-80c8-9f3a01cb2b1c\" xlink:actuate=\"onRequest\" xlink:href=\"psysml:01e86263-1e08-4c5e-80c8-9f3a01cb2b1c\" xlink:show=\"new\" xlink:title=\"psysml:01e86263-1e08-4c5e-80c8-9f3a01cb2b1c\" xlink:type=\"simple\"><polygon fill=\"#FFFFFF\" points=\"16,6,156,6,163,28.2969,648,28.2969,648,310,16,310,16,6\" style=\"stroke: #000000; stroke-width: 1.5;\"/><line style=\"stroke: #000000; stroke-width: 1.5;\" x1=\"16\" x2=\"163\" y1=\"28.2969\" y2=\"28.2969\"/><text fill=\"#000000\" font-family=\"sans-serif\" font-size=\"14\" font-weight=\"bold\" lengthAdjust=\"spacingAndGlyphs\" textLength=\"134\" x=\"20\" y=\"20.9951\">DependencyTest</text></a><!--MD5=[e4f7fae6ed58524ba242bb0b0d3be6b7]\n",
       "cluster E2--><a href=\"psysml:65d9c171-277b-4a12-8988-537cd17218fe\" target=\"_top\" title=\"psysml:65d9c171-277b-4a12-8988-537cd17218fe\" xlink:actuate=\"onRequest\" xlink:href=\"psysml:65d9c171-277b-4a12-8988-537cd17218fe\" xlink:show=\"new\" xlink:title=\"psysml:65d9c171-277b-4a12-8988-537cd17218fe\" xlink:type=\"simple\"><polygon fill=\"#FFFFFF\" points=\"40,49,104,49,111,71.2969,624,71.2969,624,154,40,154,40,49\" style=\"stroke: #000000; stroke-width: 1.5;\"/><line style=\"stroke: #000000; stroke-width: 1.5;\" x1=\"40\" x2=\"111\" y1=\"71.2969\" y2=\"71.2969\"/><text fill=\"#000000\" font-family=\"sans-serif\" font-size=\"14\" font-weight=\"bold\" lengthAdjust=\"spacingAndGlyphs\" textLength=\"58\" x=\"44\" y=\"63.9951\">System</text></a><a href=\"psysml:7bbe8935-ee6e-44c3-abf9-e711bcee98e7\" target=\"_top\" title=\"psysml:7bbe8935-ee6e-44c3-abf9-e711bcee98e7\" xlink:actuate=\"onRequest\" xlink:href=\"psysml:7bbe8935-ee6e-44c3-abf9-e711bcee98e7\" xlink:show=\"new\" xlink:title=\"psysml:7bbe8935-ee6e-44c3-abf9-e711bcee98e7\" xlink:type=\"simple\"><polygon fill=\"#FFFFFF\" points=\"56,84.5,198,84.5,205,106.7969,212,106.7969,212,137.0938,56,137.0938,56,84.5\" style=\"stroke: #000000; stroke-width: 1.5;\"/><line style=\"stroke: #000000; stroke-width: 1.5;\" x1=\"56\" x2=\"205\" y1=\"106.7969\" y2=\"106.7969\"/><text fill=\"#000000\" font-family=\"sans-serif\" font-size=\"14\" font-weight=\"bold\" lengthAdjust=\"spacingAndGlyphs\" textLength=\"136\" x=\"60\" y=\"99.4951\">Application Layer</text></a><a href=\"psysml:8539df59-9777-43d1-9cbc-191f1e3b0af0\" target=\"_top\" title=\"psysml:8539df59-9777-43d1-9cbc-191f1e3b0af0\" xlink:actuate=\"onRequest\" xlink:href=\"psysml:8539df59-9777-43d1-9cbc-191f1e3b0af0\" xlink:show=\"new\" xlink:title=\"psysml:8539df59-9777-43d1-9cbc-191f1e3b0af0\" xlink:type=\"simple\"><polygon fill=\"#FFFFFF\" points=\"294,84.5,408,84.5,415,106.7969,422,106.7969,422,137.0938,294,137.0938,294,84.5\" style=\"stroke: #000000; stroke-width: 1.5;\"/><line style=\"stroke: #000000; stroke-width: 1.5;\" x1=\"294\" x2=\"415\" y1=\"106.7969\" y2=\"106.7969\"/><text fill=\"#000000\" font-family=\"sans-serif\" font-size=\"14\" font-weight=\"bold\" lengthAdjust=\"spacingAndGlyphs\" textLength=\"108\" x=\"298\" y=\"99.4951\">Service Layer</text></a><a href=\"psysml:06e8cf4d-e880-4b5c-8fdb-0871598a4cb3\" target=\"_top\" title=\"psysml:06e8cf4d-e880-4b5c-8fdb-0871598a4cb3\" xlink:actuate=\"onRequest\" xlink:href=\"psysml:06e8cf4d-e880-4b5c-8fdb-0871598a4cb3\" xlink:show=\"new\" xlink:title=\"psysml:06e8cf4d-e880-4b5c-8fdb-0871598a4cb3\" xlink:type=\"simple\"><polygon fill=\"#FFFFFF\" points=\"504,84.5,594,84.5,601,106.7969,608,106.7969,608,137.0938,504,137.0938,504,84.5\" style=\"stroke: #000000; stroke-width: 1.5;\"/><line style=\"stroke: #000000; stroke-width: 1.5;\" x1=\"504\" x2=\"601\" y1=\"106.7969\" y2=\"106.7969\"/><text fill=\"#000000\" font-family=\"sans-serif\" font-size=\"14\" font-weight=\"bold\" lengthAdjust=\"spacingAndGlyphs\" textLength=\"84\" x=\"508\" y=\"99.4951\">Data Layer</text></a><g id=\"E1.E6\"><a href=\"psysml:3f429861-8945-458a-afac-b9814097464d\" target=\"_top\" title=\"psysml:3f429861-8945-458a-afac-b9814097464d\" xlink:actuate=\"onRequest\" xlink:href=\"psysml:3f429861-8945-458a-afac-b9814097464d\" xlink:show=\"new\" xlink:title=\"psysml:3f429861-8945-458a-afac-b9814097464d\" xlink:type=\"simple\"><rect fill=\"#FFFFFF\" height=\"42.9375\" id=\"E6\" rx=\"10\" ry=\"10\" style=\"stroke: #383838; stroke-width: 1.5;\" width=\"76\" x=\"320\" y=\"250.5\"/><rect fill=\"#F8F8F8\" height=\"37.9375\" rx=\"10\" ry=\"10\" style=\"stroke: #F8F8F8; stroke-width: 1.5;\" width=\"76\" x=\"320\" y=\"250.5\"/><rect fill=\"#F8F8F8\" height=\"10\" style=\"stroke: #F8F8F8; stroke-width: 1.5;\" width=\"76\" x=\"320\" y=\"278.4375\"/><rect fill=\"none\" height=\"42.9375\" id=\"E6\" rx=\"10\" ry=\"10\" style=\"stroke: #383838; stroke-width: 1.5;\" width=\"76\" x=\"320\" y=\"250.5\"/><text fill=\"#000000\" font-family=\"sans-serif\" font-size=\"12\" font-style=\"italic\" lengthAdjust=\"spacingAndGlyphs\" textLength=\"69\" x=\"323.5\" y=\"266.6387\">«attribute»</text><text fill=\"#000000\" font-family=\"sans-serif\" font-size=\"12\" lengthAdjust=\"spacingAndGlyphs\" textLength=\"6\" x=\"355\" y=\"280.6074\">x</text></a></g><g id=\"E1.E7\"><a href=\"psysml:f3318431-0d45-43ea-b254-330318c85eb0\" target=\"_top\" title=\"psysml:f3318431-0d45-43ea-b254-330318c85eb0\" xlink:actuate=\"onRequest\" xlink:href=\"psysml:f3318431-0d45-43ea-b254-330318c85eb0\" xlink:show=\"new\" xlink:title=\"psysml:f3318431-0d45-43ea-b254-330318c85eb0\" xlink:type=\"simple\"><rect fill=\"#FFFFFF\" height=\"42.9375\" id=\"E7\" rx=\"10\" ry=\"10\" style=\"stroke: #383838; stroke-width: 1.5;\" width=\"76\" x=\"320\" y=\"172.5\"/><rect fill=\"#F8F8F8\" height=\"37.9375\" rx=\"10\" ry=\"10\" style=\"stroke: #F8F8F8; stroke-width: 1.5;\" width=\"76\" x=\"320\" y=\"172.5\"/><rect fill=\"#F8F8F8\" height=\"10\" style=\"stroke: #F8F8F8; stroke-width: 1.5;\" width=\"76\" x=\"320\" y=\"200.4375\"/><rect fill=\"none\" height=\"42.9375\" id=\"E7\" rx=\"10\" ry=\"10\" style=\"stroke: #383838; stroke-width: 1.5;\" width=\"76\" x=\"320\" y=\"172.5\"/><text fill=\"#000000\" font-family=\"sans-serif\" font-size=\"12\" font-style=\"italic\" lengthAdjust=\"spacingAndGlyphs\" textLength=\"69\" x=\"323.5\" y=\"188.6387\">«attribute»</text><text fill=\"#000000\" font-family=\"sans-serif\" font-size=\"12\" lengthAdjust=\"spacingAndGlyphs\" textLength=\"6\" x=\"355\" y=\"202.6074\">y</text></a></g><g id=\"E1.E8\"><a href=\"psysml:da180d87-042d-4ade-81c9-b5201399a446\" target=\"_top\" title=\"psysml:da180d87-042d-4ade-81c9-b5201399a446\" xlink:actuate=\"onRequest\" xlink:href=\"psysml:da180d87-042d-4ade-81c9-b5201399a446\" xlink:show=\"new\" xlink:title=\"psysml:da180d87-042d-4ade-81c9-b5201399a446\" xlink:type=\"simple\"><rect fill=\"#FFFFFF\" height=\"42.9375\" id=\"E8\" rx=\"10\" ry=\"10\" style=\"stroke: #383838; stroke-width: 1.5;\" width=\"76\" x=\"96\" y=\"204.5\"/><rect fill=\"#F8F8F8\" height=\"37.9375\" rx=\"10\" ry=\"10\" style=\"stroke: #F8F8F8; stroke-width: 1.5;\" width=\"76\" x=\"96\" y=\"204.5\"/><rect fill=\"#F8F8F8\" height=\"10\" style=\"stroke: #F8F8F8; stroke-width: 1.5;\" width=\"76\" x=\"96\" y=\"232.4375\"/><rect fill=\"none\" height=\"42.9375\" id=\"E8\" rx=\"10\" ry=\"10\" style=\"stroke: #383838; stroke-width: 1.5;\" width=\"76\" x=\"96\" y=\"204.5\"/><text fill=\"#000000\" font-family=\"sans-serif\" font-size=\"12\" font-style=\"italic\" lengthAdjust=\"spacingAndGlyphs\" textLength=\"69\" x=\"99.5\" y=\"220.6387\">«attribute»</text><text fill=\"#000000\" font-family=\"sans-serif\" font-size=\"12\" lengthAdjust=\"spacingAndGlyphs\" textLength=\"5\" x=\"131.5\" y=\"234.6074\">z</text></a></g><!--MD5=[af87c684e3b0d8be13c1a698a818ef1e]\n",
       "link E3 to E4--><a href=\"psysml:ddd06611-1e40-467d-8133-a183585a6da5\" target=\"_top\" title=\"psysml:ddd06611-1e40-467d-8133-a183585a6da5\" xlink:actuate=\"onRequest\" xlink:href=\"psysml:ddd06611-1e40-467d-8133-a183585a6da5\" xlink:show=\"new\" xlink:title=\"psysml:ddd06611-1e40-467d-8133-a183585a6da5\" xlink:type=\"simple\"><path d=\"M212.02,111 C235.88,111 262.06,111 285.53,111 \" fill=\"none\" id=\"E3-&gt;E4\" style=\"stroke: #383838; stroke-width: 1.0; stroke-dasharray: 7.0,7.0;\"/><polygon fill=\"#383838\" points=\"293.71,111,285.71,108,285.71,114,293.71,111\" style=\"stroke: #383838; stroke-width: 1.0;\"/><text fill=\"#000000\" font-family=\"sans-serif\" font-size=\"13\" lengthAdjust=\"spacingAndGlyphs\" textLength=\"64\" x=\"221\" y=\"107.0669\">«depend»</text></a><!--MD5=[1b7591eae5389033d8d09a9d6721a717]\n",
       "link E4 to E5--><a href=\"psysml:b5c0928c-fbc9-4433-ab1e-c084bfbcebd5\" target=\"_top\" title=\"psysml:b5c0928c-fbc9-4433-ab1e-c084bfbcebd5\" xlink:actuate=\"onRequest\" xlink:href=\"psysml:b5c0928c-fbc9-4433-ab1e-c084bfbcebd5\" xlink:show=\"new\" xlink:title=\"psysml:b5c0928c-fbc9-4433-ab1e-c084bfbcebd5\" xlink:type=\"simple\"><path d=\"M422.09,111 C445.72,111 472.46,111 495.72,111 \" fill=\"none\" id=\"E4-&gt;E5\" style=\"stroke: #383838; stroke-width: 1.0; stroke-dasharray: 7.0,7.0;\"/><polygon fill=\"#383838\" points=\"503.8,111,495.8,108,495.8,114,503.8,111\" style=\"stroke: #383838; stroke-width: 1.0;\"/><text fill=\"#000000\" font-family=\"sans-serif\" font-size=\"13\" lengthAdjust=\"spacingAndGlyphs\" textLength=\"64\" x=\"431\" y=\"107.0669\">«depend»</text></a><!--MD5=[c5e8897d989ce984f93528998a7150fe]\n",
       "link E8 to E6--><a href=\"psysml:a0e318cd-0c17-433c-bc04-dbf1eaa3473c\" target=\"_top\" title=\"psysml:a0e318cd-0c17-433c-bc04-dbf1eaa3473c\" xlink:actuate=\"onRequest\" xlink:href=\"psysml:a0e318cd-0c17-433c-bc04-dbf1eaa3473c\" xlink:show=\"new\" xlink:title=\"psysml:a0e318cd-0c17-433c-bc04-dbf1eaa3473c\" xlink:type=\"simple\"><path d=\"M172.16,233.7 C210.58,241.66 270.59,254.1 311.75,262.62 \" fill=\"none\" id=\"E8-&gt;E6\" style=\"stroke: #383838; stroke-width: 1.0; stroke-dasharray: 7.0,7.0;\"/><polygon fill=\"#383838\" points=\"319.72,264.28,312.4987,259.7135,311.2767,265.5878,319.72,264.28\" style=\"stroke: #383838; stroke-width: 1.0;\"/><text fill=\"#000000\" font-family=\"sans-serif\" font-size=\"13\" lengthAdjust=\"spacingAndGlyphs\" textLength=\"64\" x=\"221\" y=\"241.0669\">«depend»</text></a><!--MD5=[bfa3c8b0d15052fdf50ae9310b491027]\n",
       "link E8 to E7--><a href=\"psysml:a0e318cd-0c17-433c-bc04-dbf1eaa3473c\" target=\"_top\" title=\"psysml:a0e318cd-0c17-433c-bc04-dbf1eaa3473c\" xlink:actuate=\"onRequest\" xlink:href=\"psysml:a0e318cd-0c17-433c-bc04-dbf1eaa3473c\" xlink:show=\"new\" xlink:title=\"psysml:a0e318cd-0c17-433c-bc04-dbf1eaa3473c\" xlink:type=\"simple\"><path d=\"M172.16,220.64 C210.58,215.11 270.59,206.45 311.75,200.52 \" fill=\"none\" id=\"E8-&gt;E7\" style=\"stroke: #383838; stroke-width: 1.0; stroke-dasharray: 7.0,7.0;\"/><polygon fill=\"#383838\" points=\"319.72,199.37,311.3738,197.542,312.2298,203.4807,319.72,199.37\" style=\"stroke: #383838; stroke-width: 1.0;\"/><text fill=\"#000000\" font-family=\"sans-serif\" font-size=\"13\" lengthAdjust=\"spacingAndGlyphs\" textLength=\"64\" x=\"221\" y=\"201.0669\">«depend»</text></a><!--MD5=[9882086c9c24f6940c41248025e821fa]\n",
       "@startuml\r\n",
       "skinparam ranksep 8\r\n",
       "skinparam rectangle {\r\n",
       " backgroundColor<<block>> LightGreen\r\n",
       "}\r\n",
       "left to right direction\r\n",
       "skinparam monochrome true\r\n",
       "skinparam classbackgroundcolor white\r\n",
       "skinparam shadowing false\r\n",
       "skinparam wrapWidth 300\r\n",
       "hide circle\r\n",
       "\r\n",
       "package \"DependencyTest\" as E1  [[psysml:01e86263-1e08-4c5e-80c8-9f3a01cb2b1c ]]  {\r\n",
       "package \"System\" as E2  [[psysml:65d9c171-277b-4a12-8988-537cd17218fe ]]  {\r\n",
       "package \"Application Layer\" as E3  [[psysml:7bbe8935-ee6e-44c3-abf9-e711bcee98e7 ]]  {\r\n",
       "}\r\n",
       "package \"Service Layer\" as E4  [[psysml:8539df59-9777-43d1-9cbc-191f1e3b0af0 ]]  {\r\n",
       "}\r\n",
       "package \"Data Layer\" as E5  [[psysml:06e8cf4d-e880-4b5c-8fdb-0871598a4cb3 ]]  {\r\n",
       "}\r\n",
       "}\r\n",
       "rec usage \"x\" as E6  <<(T,blue)attribute>> [[psysml:3f429861-8945-458a-afac-b9814097464d ]] {\r\n",
       "}\r\n",
       "rec usage \"y\" as E7  <<(T,blue)attribute>> [[psysml:f3318431-0d45-43ea-b254-330318c85eb0 ]] {\r\n",
       "}\r\n",
       "rec usage \"z\" as E8  <<(T,blue)attribute>> [[psysml:da180d87-042d-4ade-81c9-b5201399a446 ]] {\r\n",
       "}\r\n",
       "E3 ..>> E4 [[psysml:ddd06611-1e40-467d-8133-a183585a6da5 ]] : <<depend>>\r\n",
       "E4 ..>> E5 [[psysml:b5c0928c-fbc9-4433-ab1e-c084bfbcebd5 ]] : <<depend>>\r\n",
       "E8 ..>> E6 [[psysml:a0e318cd-0c17-433c-bc04-dbf1eaa3473c ]] : <<depend>>\r\n",
       "E8 ..>> E7 [[psysml:a0e318cd-0c17-433c-bc04-dbf1eaa3473c ]] : <<depend>>\r\n",
       "}\r\n",
       "@enduml\r\n",
       "\n",
       "PlantUML version 1.2020.13(Sat Jun 13 12:26:38 UTC 2020)\n",
       "(EPL source distribution)\n",
       "Java Runtime: OpenJDK Runtime Environment\n",
       "JVM: OpenJDK 64-Bit Server VM\n",
       "Default Encoding: UTF-8\n",
       "Language: en\n",
       "Country: null\n",
       "--></g></svg>"
      ]
     },
     "execution_count": 19,
     "metadata": {},
     "output_type": "execute_result"
    }
   ],
   "source": [
    "%viz --style=\"LR\" --view=\"Interconnection\" \"DependencyTest\""
   ]
  },
  {
   "cell_type": "code",
   "execution_count": 20,
   "id": "accredited-killer",
   "metadata": {
    "execution": {
     "iopub.execute_input": "2021-03-25T15:09:47.048988Z",
     "iopub.status.busy": "2021-03-25T15:09:47.048542Z",
     "iopub.status.idle": "2021-03-25T15:09:47.055911Z",
     "shell.execute_reply": "2021-03-25T15:09:47.056376Z"
    }
   },
   "outputs": [
    {
     "data": {
      "image/svg+xml": [
       "<?xml version=\"1.0\" encoding=\"UTF-8\" standalone=\"no\"?><svg xmlns=\"http://www.w3.org/2000/svg\" xmlns:xlink=\"http://www.w3.org/1999/xlink\" contentScriptType=\"application/ecmascript\" contentStyleType=\"text/css\" height=\"12px\" preserveAspectRatio=\"none\" style=\"width:12px;height:12px;\" version=\"1.1\" viewBox=\"0 0 12 12\" width=\"12px\" zoomAndPan=\"magnify\"><defs/><g><!--MD5=[7aeb398939421629f6affaa4a1a7b125]\n",
       "@startuml\r\n",
       "skinparam ranksep 8\r\n",
       "left to right direction\r\n",
       "skinparam monochrome true\r\n",
       "skinparam classbackgroundcolor white\r\n",
       "skinparam shadowing false\r\n",
       "skinparam wrapWidth 300\r\n",
       "hide circle\r\n",
       "\r\n",
       "@enduml\r\n",
       "\n",
       "PlantUML version 1.2020.13(Sat Jun 13 12:26:38 UTC 2020)\n",
       "(EPL source distribution)\n",
       "Java Runtime: OpenJDK Runtime Environment\n",
       "JVM: OpenJDK 64-Bit Server VM\n",
       "Default Encoding: UTF-8\n",
       "Language: en\n",
       "Country: null\n",
       "--></g></svg>"
      ]
     },
     "execution_count": 20,
     "metadata": {},
     "output_type": "execute_result"
    }
   ],
   "source": [
    "%viz --style=\"LR\" --view=\"Action\" \"DependencyTest\""
   ]
  },
  {
   "cell_type": "code",
   "execution_count": 21,
   "id": "thorough-earthquake",
   "metadata": {
    "execution": {
     "iopub.execute_input": "2021-03-25T15:09:47.107462Z",
     "iopub.status.busy": "2021-03-25T15:09:47.106962Z",
     "iopub.status.idle": "2021-03-25T15:09:47.211053Z",
     "shell.execute_reply": "2021-03-25T15:09:47.209623Z"
    }
   },
   "outputs": [
    {
     "data": {
      "image/svg+xml": [
       "<?xml version=\"1.0\" encoding=\"UTF-8\" standalone=\"no\"?><svg xmlns=\"http://www.w3.org/2000/svg\" xmlns:xlink=\"http://www.w3.org/1999/xlink\" contentScriptType=\"application/ecmascript\" contentStyleType=\"text/css\" height=\"328px\" preserveAspectRatio=\"none\" style=\"width:758px;height:328px;\" version=\"1.1\" viewBox=\"0 0 758 328\" width=\"758px\" zoomAndPan=\"magnify\"><defs/><g><!--MD5=[fbc87193dbaf4d95561dea2c320d4a47]\n",
       "cluster E1--><a href=\"psysml:01e86263-1e08-4c5e-80c8-9f3a01cb2b1c\" target=\"_top\" title=\"psysml:01e86263-1e08-4c5e-80c8-9f3a01cb2b1c\" xlink:actuate=\"onRequest\" xlink:href=\"psysml:01e86263-1e08-4c5e-80c8-9f3a01cb2b1c\" xlink:show=\"new\" xlink:title=\"psysml:01e86263-1e08-4c5e-80c8-9f3a01cb2b1c\" xlink:type=\"simple\"><polygon fill=\"#FFFFFF\" points=\"16,6,156,6,163,28.2969,736,28.2969,736,316,16,316,16,6\" style=\"stroke: #000000; stroke-width: 1.5;\"/><line style=\"stroke: #000000; stroke-width: 1.5;\" x1=\"16\" x2=\"163\" y1=\"28.2969\" y2=\"28.2969\"/><text fill=\"#000000\" font-family=\"sans-serif\" font-size=\"14\" font-weight=\"bold\" lengthAdjust=\"spacingAndGlyphs\" textLength=\"134\" x=\"20\" y=\"20.9951\">DependencyTest</text></a><!--MD5=[e4f7fae6ed58524ba242bb0b0d3be6b7]\n",
       "cluster E2--><a href=\"psysml:65d9c171-277b-4a12-8988-537cd17218fe\" target=\"_top\" title=\"psysml:65d9c171-277b-4a12-8988-537cd17218fe\" xlink:actuate=\"onRequest\" xlink:href=\"psysml:65d9c171-277b-4a12-8988-537cd17218fe\" xlink:show=\"new\" xlink:title=\"psysml:65d9c171-277b-4a12-8988-537cd17218fe\" xlink:type=\"simple\"><polygon fill=\"#FFFFFF\" points=\"40,49,104,49,111,71.2969,712,71.2969,712,154,40,154,40,49\" style=\"stroke: #000000; stroke-width: 1.5;\"/><line style=\"stroke: #000000; stroke-width: 1.5;\" x1=\"40\" x2=\"111\" y1=\"71.2969\" y2=\"71.2969\"/><text fill=\"#000000\" font-family=\"sans-serif\" font-size=\"14\" font-weight=\"bold\" lengthAdjust=\"spacingAndGlyphs\" textLength=\"58\" x=\"44\" y=\"63.9951\">System</text></a><!--MD5=[60a26617385b1d2d0262a64233df1f8d]\n",
       "class E6--><a href=\"psysml:3f429861-8945-458a-afac-b9814097464d\" target=\"_top\" title=\"psysml:3f429861-8945-458a-afac-b9814097464d\" xlink:actuate=\"onRequest\" xlink:href=\"psysml:3f429861-8945-458a-afac-b9814097464d\" xlink:show=\"new\" xlink:title=\"psysml:3f429861-8945-458a-afac-b9814097464d\" xlink:type=\"simple\"><rect fill=\"#FFFFFF\" height=\"45.9375\" id=\"E6\" rx=\"10\" ry=\"10\" style=\"stroke: #383838; stroke-width: 1.5;\" width=\"71\" x=\"366.5\" y=\"254\"/><text fill=\"#000000\" font-family=\"sans-serif\" font-size=\"12\" font-style=\"italic\" lengthAdjust=\"spacingAndGlyphs\" textLength=\"69\" x=\"367.5\" y=\"270.1387\">«attribute»</text><text fill=\"#000000\" font-family=\"sans-serif\" font-size=\"12\" lengthAdjust=\"spacingAndGlyphs\" textLength=\"6\" x=\"399\" y=\"284.1074\">x</text><line style=\"stroke: #383838; stroke-width: 1.5;\" x1=\"367.5\" x2=\"436.5\" y1=\"291.9375\" y2=\"291.9375\"/></a><!--MD5=[2156ba9850f5573cc1fc38a6a4b2f02b]\n",
       "class E7--><a href=\"psysml:f3318431-0d45-43ea-b254-330318c85eb0\" target=\"_top\" title=\"psysml:f3318431-0d45-43ea-b254-330318c85eb0\" xlink:actuate=\"onRequest\" xlink:href=\"psysml:f3318431-0d45-43ea-b254-330318c85eb0\" xlink:show=\"new\" xlink:title=\"psysml:f3318431-0d45-43ea-b254-330318c85eb0\" xlink:type=\"simple\"><rect fill=\"#FFFFFF\" height=\"45.9375\" id=\"E7\" rx=\"10\" ry=\"10\" style=\"stroke: #383838; stroke-width: 1.5;\" width=\"71\" x=\"366.5\" y=\"173\"/><text fill=\"#000000\" font-family=\"sans-serif\" font-size=\"12\" font-style=\"italic\" lengthAdjust=\"spacingAndGlyphs\" textLength=\"69\" x=\"367.5\" y=\"189.1387\">«attribute»</text><text fill=\"#000000\" font-family=\"sans-serif\" font-size=\"12\" lengthAdjust=\"spacingAndGlyphs\" textLength=\"6\" x=\"399\" y=\"203.1074\">y</text><line style=\"stroke: #383838; stroke-width: 1.5;\" x1=\"367.5\" x2=\"436.5\" y1=\"210.9375\" y2=\"210.9375\"/></a><!--MD5=[b9389687b975829384b498ac4b7476b2]\n",
       "class E8--><a href=\"psysml:da180d87-042d-4ade-81c9-b5201399a446\" target=\"_top\" title=\"psysml:da180d87-042d-4ade-81c9-b5201399a446\" xlink:actuate=\"onRequest\" xlink:href=\"psysml:da180d87-042d-4ade-81c9-b5201399a446\" xlink:show=\"new\" xlink:title=\"psysml:da180d87-042d-4ade-81c9-b5201399a446\" xlink:type=\"simple\"><rect fill=\"#FFFFFF\" height=\"45.9375\" id=\"E8\" rx=\"10\" ry=\"10\" style=\"stroke: #383838; stroke-width: 1.5;\" width=\"71\" x=\"98.5\" y=\"206\"/><text fill=\"#000000\" font-family=\"sans-serif\" font-size=\"12\" font-style=\"italic\" lengthAdjust=\"spacingAndGlyphs\" textLength=\"69\" x=\"99.5\" y=\"222.1387\">«attribute»</text><text fill=\"#000000\" font-family=\"sans-serif\" font-size=\"12\" lengthAdjust=\"spacingAndGlyphs\" textLength=\"5\" x=\"131.5\" y=\"236.1074\">z</text><line style=\"stroke: #383838; stroke-width: 1.5;\" x1=\"99.5\" x2=\"168.5\" y1=\"243.9375\" y2=\"243.9375\"/></a><a href=\"psysml:7bbe8935-ee6e-44c3-abf9-e711bcee98e7\" target=\"_top\" title=\"psysml:7bbe8935-ee6e-44c3-abf9-e711bcee98e7\" xlink:actuate=\"onRequest\" xlink:href=\"psysml:7bbe8935-ee6e-44c3-abf9-e711bcee98e7\" xlink:show=\"new\" xlink:title=\"psysml:7bbe8935-ee6e-44c3-abf9-e711bcee98e7\" xlink:type=\"simple\"><polygon fill=\"#FFFFFF\" points=\"56,84.5,198,84.5,205,106.7969,212,106.7969,212,137.0938,56,137.0938,56,84.5\" style=\"stroke: #000000; stroke-width: 1.5;\"/><line style=\"stroke: #000000; stroke-width: 1.5;\" x1=\"56\" x2=\"205\" y1=\"106.7969\" y2=\"106.7969\"/><text fill=\"#000000\" font-family=\"sans-serif\" font-size=\"14\" font-weight=\"bold\" lengthAdjust=\"spacingAndGlyphs\" textLength=\"136\" x=\"60\" y=\"99.4951\">Application Layer</text></a><a href=\"psysml:8539df59-9777-43d1-9cbc-191f1e3b0af0\" target=\"_top\" title=\"psysml:8539df59-9777-43d1-9cbc-191f1e3b0af0\" xlink:actuate=\"onRequest\" xlink:href=\"psysml:8539df59-9777-43d1-9cbc-191f1e3b0af0\" xlink:show=\"new\" xlink:title=\"psysml:8539df59-9777-43d1-9cbc-191f1e3b0af0\" xlink:type=\"simple\"><polygon fill=\"#FFFFFF\" points=\"338,84.5,452,84.5,459,106.7969,466,106.7969,466,137.0938,338,137.0938,338,84.5\" style=\"stroke: #000000; stroke-width: 1.5;\"/><line style=\"stroke: #000000; stroke-width: 1.5;\" x1=\"338\" x2=\"459\" y1=\"106.7969\" y2=\"106.7969\"/><text fill=\"#000000\" font-family=\"sans-serif\" font-size=\"14\" font-weight=\"bold\" lengthAdjust=\"spacingAndGlyphs\" textLength=\"108\" x=\"342\" y=\"99.4951\">Service Layer</text></a><a href=\"psysml:06e8cf4d-e880-4b5c-8fdb-0871598a4cb3\" target=\"_top\" title=\"psysml:06e8cf4d-e880-4b5c-8fdb-0871598a4cb3\" xlink:actuate=\"onRequest\" xlink:href=\"psysml:06e8cf4d-e880-4b5c-8fdb-0871598a4cb3\" xlink:show=\"new\" xlink:title=\"psysml:06e8cf4d-e880-4b5c-8fdb-0871598a4cb3\" xlink:type=\"simple\"><polygon fill=\"#FFFFFF\" points=\"592,84.5,682,84.5,689,106.7969,696,106.7969,696,137.0938,592,137.0938,592,84.5\" style=\"stroke: #000000; stroke-width: 1.5;\"/><line style=\"stroke: #000000; stroke-width: 1.5;\" x1=\"592\" x2=\"689\" y1=\"106.7969\" y2=\"106.7969\"/><text fill=\"#000000\" font-family=\"sans-serif\" font-size=\"14\" font-weight=\"bold\" lengthAdjust=\"spacingAndGlyphs\" textLength=\"84\" x=\"596\" y=\"99.4951\">Data Layer</text></a><!--MD5=[af87c684e3b0d8be13c1a698a818ef1e]\n",
       "link E3 to E4--><a href=\"psysml:ddd06611-1e40-467d-8133-a183585a6da5\" target=\"_top\" title=\"psysml:ddd06611-1e40-467d-8133-a183585a6da5\" xlink:actuate=\"onRequest\" xlink:href=\"psysml:ddd06611-1e40-467d-8133-a183585a6da5\" xlink:show=\"new\" xlink:title=\"psysml:ddd06611-1e40-467d-8133-a183585a6da5\" xlink:type=\"simple\"><path d=\"M212.3,111 C249.37,111 293.5,111 329.76,111 \" fill=\"none\" id=\"E3-&gt;E4\" style=\"stroke: #383838; stroke-width: 1.0; stroke-dasharray: 7.0,7.0;\"/><polygon fill=\"#383838\" points=\"337.84,111,329.84,108,329.84,114,337.84,111\" style=\"stroke: #383838; stroke-width: 1.0;\"/><text fill=\"#000000\" font-family=\"sans-serif\" font-size=\"13\" lengthAdjust=\"spacingAndGlyphs\" textLength=\"64\" x=\"243\" y=\"107.0669\">«depend»</text></a><!--MD5=[1b7591eae5389033d8d09a9d6721a717]\n",
       "link E4 to E5--><a href=\"psysml:b5c0928c-fbc9-4433-ab1e-c084bfbcebd5\" target=\"_top\" title=\"psysml:b5c0928c-fbc9-4433-ab1e-c084bfbcebd5\" xlink:actuate=\"onRequest\" xlink:href=\"psysml:b5c0928c-fbc9-4433-ab1e-c084bfbcebd5\" xlink:show=\"new\" xlink:title=\"psysml:b5c0928c-fbc9-4433-ab1e-c084bfbcebd5\" xlink:type=\"simple\"><path d=\"M466.06,111 C502.32,111 547.6,111 583.28,111 \" fill=\"none\" id=\"E4-&gt;E5\" style=\"stroke: #383838; stroke-width: 1.0; stroke-dasharray: 7.0,7.0;\"/><polygon fill=\"#383838\" points=\"591.67,111,583.67,108,583.67,114,591.67,111\" style=\"stroke: #383838; stroke-width: 1.0;\"/><text fill=\"#000000\" font-family=\"sans-serif\" font-size=\"13\" lengthAdjust=\"spacingAndGlyphs\" textLength=\"64\" x=\"497\" y=\"107.0669\">«depend»</text></a><!--MD5=[c5e8897d989ce984f93528998a7150fe]\n",
       "link E8 to E6--><a href=\"psysml:a0e318cd-0c17-433c-bc04-dbf1eaa3473c\" target=\"_top\" title=\"psysml:a0e318cd-0c17-433c-bc04-dbf1eaa3473c\" xlink:actuate=\"onRequest\" xlink:href=\"psysml:a0e318cd-0c17-433c-bc04-dbf1eaa3473c\" xlink:show=\"new\" xlink:title=\"psysml:a0e318cd-0c17-433c-bc04-dbf1eaa3473c\" xlink:type=\"simple\"><path d=\"M169.5,235.23 C217.81,243.94 305.54,259.77 358.03,269.25 \" fill=\"none\" id=\"E8-&gt;E6\" style=\"stroke: #383838; stroke-width: 1.0; stroke-dasharray: 7.0,7.0;\"/><polygon fill=\"#383838\" points=\"366.14,270.71,358.7966,266.3425,357.7356,272.248,366.14,270.71\" style=\"stroke: #383838; stroke-width: 1.0;\"/><text fill=\"#000000\" font-family=\"sans-serif\" font-size=\"13\" lengthAdjust=\"spacingAndGlyphs\" textLength=\"64\" x=\"243\" y=\"245.0669\">«depend»</text></a><!--MD5=[bfa3c8b0d15052fdf50ae9310b491027]\n",
       "link E8 to E7--><a href=\"psysml:a0e318cd-0c17-433c-bc04-dbf1eaa3473c\" target=\"_top\" title=\"psysml:a0e318cd-0c17-433c-bc04-dbf1eaa3473c\" xlink:actuate=\"onRequest\" xlink:href=\"psysml:a0e318cd-0c17-433c-bc04-dbf1eaa3473c\" xlink:show=\"new\" xlink:title=\"psysml:a0e318cd-0c17-433c-bc04-dbf1eaa3473c\" xlink:type=\"simple\"><path d=\"M169.5,224.72 C217.81,218.73 305.54,207.84 358.03,201.33 \" fill=\"none\" id=\"E8-&gt;E7\" style=\"stroke: #383838; stroke-width: 1.0; stroke-dasharray: 7.0,7.0;\"/><polygon fill=\"#383838\" points=\"366.14,200.33,357.8314,198.3381,358.5704,204.2924,366.14,200.33\" style=\"stroke: #383838; stroke-width: 1.0;\"/><text fill=\"#000000\" font-family=\"sans-serif\" font-size=\"13\" lengthAdjust=\"spacingAndGlyphs\" textLength=\"64\" x=\"243\" y=\"204.0669\">«depend»</text></a><!--MD5=[6879c5783f1834ceda67ddb13673bf86]\n",
       "@startuml\r\n",
       "left to right direction\r\n",
       "skinparam monochrome true\r\n",
       "skinparam classbackgroundcolor white\r\n",
       "skinparam shadowing false\r\n",
       "skinparam wrapWidth 300\r\n",
       "hide circle\r\n",
       "\r\n",
       "package \"DependencyTest\" as E1  [[psysml:01e86263-1e08-4c5e-80c8-9f3a01cb2b1c ]]  {\r\n",
       "package \"System\" as E2  [[psysml:65d9c171-277b-4a12-8988-537cd17218fe ]]  {\r\n",
       "package \"Application Layer\" as E3  [[psysml:7bbe8935-ee6e-44c3-abf9-e711bcee98e7 ]]  {\r\n",
       "}\r\n",
       "package \"Service Layer\" as E4  [[psysml:8539df59-9777-43d1-9cbc-191f1e3b0af0 ]]  {\r\n",
       "}\r\n",
       "package \"Data Layer\" as E5  [[psysml:06e8cf4d-e880-4b5c-8fdb-0871598a4cb3 ]]  {\r\n",
       "}\r\n",
       "}\r\n",
       "comp usage \"x\" as E6  <<(T,blue)attribute>> [[psysml:3f429861-8945-458a-afac-b9814097464d ]] {\r\n",
       "}\r\n",
       "comp usage \"y\" as E7  <<(T,blue)attribute>> [[psysml:f3318431-0d45-43ea-b254-330318c85eb0 ]] {\r\n",
       "}\r\n",
       "comp usage \"z\" as E8  <<(T,blue)attribute>> [[psysml:da180d87-042d-4ade-81c9-b5201399a446 ]] {\r\n",
       "}\r\n",
       "E3 ..>> E4 [[psysml:ddd06611-1e40-467d-8133-a183585a6da5 ]] : <<depend>>\r\n",
       "E4 ..>> E5 [[psysml:b5c0928c-fbc9-4433-ab1e-c084bfbcebd5 ]] : <<depend>>\r\n",
       "E8 ..>> E6 [[psysml:a0e318cd-0c17-433c-bc04-dbf1eaa3473c ]] : <<depend>>\r\n",
       "E8 ..>> E7 [[psysml:a0e318cd-0c17-433c-bc04-dbf1eaa3473c ]] : <<depend>>\r\n",
       "}\r\n",
       "@enduml\r\n",
       "\n",
       "PlantUML version 1.2020.13(Sat Jun 13 12:26:38 UTC 2020)\n",
       "(EPL source distribution)\n",
       "Java Runtime: OpenJDK Runtime Environment\n",
       "JVM: OpenJDK 64-Bit Server VM\n",
       "Default Encoding: UTF-8\n",
       "Language: en\n",
       "Country: null\n",
       "--></g></svg>"
      ]
     },
     "execution_count": 21,
     "metadata": {},
     "output_type": "execute_result"
    }
   ],
   "source": [
    "%viz --style=\"LR\" --view=\"Sequence\" \"DependencyTest\""
   ]
  },
  {
   "cell_type": "code",
   "execution_count": 22,
   "id": "automatic-verification",
   "metadata": {
    "execution": {
     "iopub.execute_input": "2021-03-25T15:09:47.262077Z",
     "iopub.status.busy": "2021-03-25T15:09:47.261244Z",
     "iopub.status.idle": "2021-03-25T15:09:47.360626Z",
     "shell.execute_reply": "2021-03-25T15:09:47.361012Z"
    }
   },
   "outputs": [
    {
     "data": {
      "image/svg+xml": [
       "<?xml version=\"1.0\" encoding=\"UTF-8\" standalone=\"no\"?><svg xmlns=\"http://www.w3.org/2000/svg\" xmlns:xlink=\"http://www.w3.org/1999/xlink\" contentScriptType=\"application/ecmascript\" contentStyleType=\"text/css\" height=\"328px\" preserveAspectRatio=\"none\" style=\"width:758px;height:328px;\" version=\"1.1\" viewBox=\"0 0 758 328\" width=\"758px\" zoomAndPan=\"magnify\"><defs/><g><!--MD5=[fbc87193dbaf4d95561dea2c320d4a47]\n",
       "cluster E1--><a href=\"psysml:01e86263-1e08-4c5e-80c8-9f3a01cb2b1c\" target=\"_top\" title=\"psysml:01e86263-1e08-4c5e-80c8-9f3a01cb2b1c\" xlink:actuate=\"onRequest\" xlink:href=\"psysml:01e86263-1e08-4c5e-80c8-9f3a01cb2b1c\" xlink:show=\"new\" xlink:title=\"psysml:01e86263-1e08-4c5e-80c8-9f3a01cb2b1c\" xlink:type=\"simple\"><polygon fill=\"#FFFFFF\" points=\"16,6,156,6,163,28.2969,736,28.2969,736,316,16,316,16,6\" style=\"stroke: #000000; stroke-width: 1.5;\"/><line style=\"stroke: #000000; stroke-width: 1.5;\" x1=\"16\" x2=\"163\" y1=\"28.2969\" y2=\"28.2969\"/><text fill=\"#000000\" font-family=\"sans-serif\" font-size=\"14\" font-weight=\"bold\" lengthAdjust=\"spacingAndGlyphs\" textLength=\"134\" x=\"20\" y=\"20.9951\">DependencyTest</text></a><!--MD5=[e4f7fae6ed58524ba242bb0b0d3be6b7]\n",
       "cluster E2--><a href=\"psysml:65d9c171-277b-4a12-8988-537cd17218fe\" target=\"_top\" title=\"psysml:65d9c171-277b-4a12-8988-537cd17218fe\" xlink:actuate=\"onRequest\" xlink:href=\"psysml:65d9c171-277b-4a12-8988-537cd17218fe\" xlink:show=\"new\" xlink:title=\"psysml:65d9c171-277b-4a12-8988-537cd17218fe\" xlink:type=\"simple\"><polygon fill=\"#FFFFFF\" points=\"40,49,104,49,111,71.2969,712,71.2969,712,154,40,154,40,49\" style=\"stroke: #000000; stroke-width: 1.5;\"/><line style=\"stroke: #000000; stroke-width: 1.5;\" x1=\"40\" x2=\"111\" y1=\"71.2969\" y2=\"71.2969\"/><text fill=\"#000000\" font-family=\"sans-serif\" font-size=\"14\" font-weight=\"bold\" lengthAdjust=\"spacingAndGlyphs\" textLength=\"58\" x=\"44\" y=\"63.9951\">System</text></a><!--MD5=[60a26617385b1d2d0262a64233df1f8d]\n",
       "class E6--><a href=\"psysml:3f429861-8945-458a-afac-b9814097464d\" target=\"_top\" title=\"psysml:3f429861-8945-458a-afac-b9814097464d\" xlink:actuate=\"onRequest\" xlink:href=\"psysml:3f429861-8945-458a-afac-b9814097464d\" xlink:show=\"new\" xlink:title=\"psysml:3f429861-8945-458a-afac-b9814097464d\" xlink:type=\"simple\"><rect fill=\"#FFFFFF\" height=\"45.9375\" id=\"E6\" rx=\"10\" ry=\"10\" style=\"stroke: #383838; stroke-width: 1.5;\" width=\"71\" x=\"366.5\" y=\"254\"/><text fill=\"#000000\" font-family=\"sans-serif\" font-size=\"12\" font-style=\"italic\" lengthAdjust=\"spacingAndGlyphs\" textLength=\"69\" x=\"367.5\" y=\"270.1387\">«attribute»</text><text fill=\"#000000\" font-family=\"sans-serif\" font-size=\"12\" lengthAdjust=\"spacingAndGlyphs\" textLength=\"6\" x=\"399\" y=\"284.1074\">x</text><line style=\"stroke: #383838; stroke-width: 1.5;\" x1=\"367.5\" x2=\"436.5\" y1=\"291.9375\" y2=\"291.9375\"/></a><!--MD5=[2156ba9850f5573cc1fc38a6a4b2f02b]\n",
       "class E7--><a href=\"psysml:f3318431-0d45-43ea-b254-330318c85eb0\" target=\"_top\" title=\"psysml:f3318431-0d45-43ea-b254-330318c85eb0\" xlink:actuate=\"onRequest\" xlink:href=\"psysml:f3318431-0d45-43ea-b254-330318c85eb0\" xlink:show=\"new\" xlink:title=\"psysml:f3318431-0d45-43ea-b254-330318c85eb0\" xlink:type=\"simple\"><rect fill=\"#FFFFFF\" height=\"45.9375\" id=\"E7\" rx=\"10\" ry=\"10\" style=\"stroke: #383838; stroke-width: 1.5;\" width=\"71\" x=\"366.5\" y=\"173\"/><text fill=\"#000000\" font-family=\"sans-serif\" font-size=\"12\" font-style=\"italic\" lengthAdjust=\"spacingAndGlyphs\" textLength=\"69\" x=\"367.5\" y=\"189.1387\">«attribute»</text><text fill=\"#000000\" font-family=\"sans-serif\" font-size=\"12\" lengthAdjust=\"spacingAndGlyphs\" textLength=\"6\" x=\"399\" y=\"203.1074\">y</text><line style=\"stroke: #383838; stroke-width: 1.5;\" x1=\"367.5\" x2=\"436.5\" y1=\"210.9375\" y2=\"210.9375\"/></a><!--MD5=[b9389687b975829384b498ac4b7476b2]\n",
       "class E8--><a href=\"psysml:da180d87-042d-4ade-81c9-b5201399a446\" target=\"_top\" title=\"psysml:da180d87-042d-4ade-81c9-b5201399a446\" xlink:actuate=\"onRequest\" xlink:href=\"psysml:da180d87-042d-4ade-81c9-b5201399a446\" xlink:show=\"new\" xlink:title=\"psysml:da180d87-042d-4ade-81c9-b5201399a446\" xlink:type=\"simple\"><rect fill=\"#FFFFFF\" height=\"45.9375\" id=\"E8\" rx=\"10\" ry=\"10\" style=\"stroke: #383838; stroke-width: 1.5;\" width=\"71\" x=\"98.5\" y=\"206\"/><text fill=\"#000000\" font-family=\"sans-serif\" font-size=\"12\" font-style=\"italic\" lengthAdjust=\"spacingAndGlyphs\" textLength=\"69\" x=\"99.5\" y=\"222.1387\">«attribute»</text><text fill=\"#000000\" font-family=\"sans-serif\" font-size=\"12\" lengthAdjust=\"spacingAndGlyphs\" textLength=\"5\" x=\"131.5\" y=\"236.1074\">z</text><line style=\"stroke: #383838; stroke-width: 1.5;\" x1=\"99.5\" x2=\"168.5\" y1=\"243.9375\" y2=\"243.9375\"/></a><a href=\"psysml:7bbe8935-ee6e-44c3-abf9-e711bcee98e7\" target=\"_top\" title=\"psysml:7bbe8935-ee6e-44c3-abf9-e711bcee98e7\" xlink:actuate=\"onRequest\" xlink:href=\"psysml:7bbe8935-ee6e-44c3-abf9-e711bcee98e7\" xlink:show=\"new\" xlink:title=\"psysml:7bbe8935-ee6e-44c3-abf9-e711bcee98e7\" xlink:type=\"simple\"><polygon fill=\"#FFFFFF\" points=\"56,84.5,198,84.5,205,106.7969,212,106.7969,212,137.0938,56,137.0938,56,84.5\" style=\"stroke: #000000; stroke-width: 1.5;\"/><line style=\"stroke: #000000; stroke-width: 1.5;\" x1=\"56\" x2=\"205\" y1=\"106.7969\" y2=\"106.7969\"/><text fill=\"#000000\" font-family=\"sans-serif\" font-size=\"14\" font-weight=\"bold\" lengthAdjust=\"spacingAndGlyphs\" textLength=\"136\" x=\"60\" y=\"99.4951\">Application Layer</text></a><a href=\"psysml:8539df59-9777-43d1-9cbc-191f1e3b0af0\" target=\"_top\" title=\"psysml:8539df59-9777-43d1-9cbc-191f1e3b0af0\" xlink:actuate=\"onRequest\" xlink:href=\"psysml:8539df59-9777-43d1-9cbc-191f1e3b0af0\" xlink:show=\"new\" xlink:title=\"psysml:8539df59-9777-43d1-9cbc-191f1e3b0af0\" xlink:type=\"simple\"><polygon fill=\"#FFFFFF\" points=\"338,84.5,452,84.5,459,106.7969,466,106.7969,466,137.0938,338,137.0938,338,84.5\" style=\"stroke: #000000; stroke-width: 1.5;\"/><line style=\"stroke: #000000; stroke-width: 1.5;\" x1=\"338\" x2=\"459\" y1=\"106.7969\" y2=\"106.7969\"/><text fill=\"#000000\" font-family=\"sans-serif\" font-size=\"14\" font-weight=\"bold\" lengthAdjust=\"spacingAndGlyphs\" textLength=\"108\" x=\"342\" y=\"99.4951\">Service Layer</text></a><a href=\"psysml:06e8cf4d-e880-4b5c-8fdb-0871598a4cb3\" target=\"_top\" title=\"psysml:06e8cf4d-e880-4b5c-8fdb-0871598a4cb3\" xlink:actuate=\"onRequest\" xlink:href=\"psysml:06e8cf4d-e880-4b5c-8fdb-0871598a4cb3\" xlink:show=\"new\" xlink:title=\"psysml:06e8cf4d-e880-4b5c-8fdb-0871598a4cb3\" xlink:type=\"simple\"><polygon fill=\"#FFFFFF\" points=\"592,84.5,682,84.5,689,106.7969,696,106.7969,696,137.0938,592,137.0938,592,84.5\" style=\"stroke: #000000; stroke-width: 1.5;\"/><line style=\"stroke: #000000; stroke-width: 1.5;\" x1=\"592\" x2=\"689\" y1=\"106.7969\" y2=\"106.7969\"/><text fill=\"#000000\" font-family=\"sans-serif\" font-size=\"14\" font-weight=\"bold\" lengthAdjust=\"spacingAndGlyphs\" textLength=\"84\" x=\"596\" y=\"99.4951\">Data Layer</text></a><!--MD5=[af87c684e3b0d8be13c1a698a818ef1e]\n",
       "link E3 to E4--><a href=\"psysml:ddd06611-1e40-467d-8133-a183585a6da5\" target=\"_top\" title=\"psysml:ddd06611-1e40-467d-8133-a183585a6da5\" xlink:actuate=\"onRequest\" xlink:href=\"psysml:ddd06611-1e40-467d-8133-a183585a6da5\" xlink:show=\"new\" xlink:title=\"psysml:ddd06611-1e40-467d-8133-a183585a6da5\" xlink:type=\"simple\"><path d=\"M212.3,111 C249.37,111 293.5,111 329.76,111 \" fill=\"none\" id=\"E3-&gt;E4\" style=\"stroke: #383838; stroke-width: 1.0; stroke-dasharray: 7.0,7.0;\"/><polygon fill=\"#383838\" points=\"337.84,111,329.84,108,329.84,114,337.84,111\" style=\"stroke: #383838; stroke-width: 1.0;\"/><text fill=\"#000000\" font-family=\"sans-serif\" font-size=\"13\" lengthAdjust=\"spacingAndGlyphs\" textLength=\"64\" x=\"243\" y=\"107.0669\">«depend»</text></a><!--MD5=[1b7591eae5389033d8d09a9d6721a717]\n",
       "link E4 to E5--><a href=\"psysml:b5c0928c-fbc9-4433-ab1e-c084bfbcebd5\" target=\"_top\" title=\"psysml:b5c0928c-fbc9-4433-ab1e-c084bfbcebd5\" xlink:actuate=\"onRequest\" xlink:href=\"psysml:b5c0928c-fbc9-4433-ab1e-c084bfbcebd5\" xlink:show=\"new\" xlink:title=\"psysml:b5c0928c-fbc9-4433-ab1e-c084bfbcebd5\" xlink:type=\"simple\"><path d=\"M466.06,111 C502.32,111 547.6,111 583.28,111 \" fill=\"none\" id=\"E4-&gt;E5\" style=\"stroke: #383838; stroke-width: 1.0; stroke-dasharray: 7.0,7.0;\"/><polygon fill=\"#383838\" points=\"591.67,111,583.67,108,583.67,114,591.67,111\" style=\"stroke: #383838; stroke-width: 1.0;\"/><text fill=\"#000000\" font-family=\"sans-serif\" font-size=\"13\" lengthAdjust=\"spacingAndGlyphs\" textLength=\"64\" x=\"497\" y=\"107.0669\">«depend»</text></a><!--MD5=[c5e8897d989ce984f93528998a7150fe]\n",
       "link E8 to E6--><a href=\"psysml:a0e318cd-0c17-433c-bc04-dbf1eaa3473c\" target=\"_top\" title=\"psysml:a0e318cd-0c17-433c-bc04-dbf1eaa3473c\" xlink:actuate=\"onRequest\" xlink:href=\"psysml:a0e318cd-0c17-433c-bc04-dbf1eaa3473c\" xlink:show=\"new\" xlink:title=\"psysml:a0e318cd-0c17-433c-bc04-dbf1eaa3473c\" xlink:type=\"simple\"><path d=\"M169.5,235.23 C217.81,243.94 305.54,259.77 358.03,269.25 \" fill=\"none\" id=\"E8-&gt;E6\" style=\"stroke: #383838; stroke-width: 1.0; stroke-dasharray: 7.0,7.0;\"/><polygon fill=\"#383838\" points=\"366.14,270.71,358.7966,266.3425,357.7356,272.248,366.14,270.71\" style=\"stroke: #383838; stroke-width: 1.0;\"/><text fill=\"#000000\" font-family=\"sans-serif\" font-size=\"13\" lengthAdjust=\"spacingAndGlyphs\" textLength=\"64\" x=\"243\" y=\"245.0669\">«depend»</text></a><!--MD5=[bfa3c8b0d15052fdf50ae9310b491027]\n",
       "link E8 to E7--><a href=\"psysml:a0e318cd-0c17-433c-bc04-dbf1eaa3473c\" target=\"_top\" title=\"psysml:a0e318cd-0c17-433c-bc04-dbf1eaa3473c\" xlink:actuate=\"onRequest\" xlink:href=\"psysml:a0e318cd-0c17-433c-bc04-dbf1eaa3473c\" xlink:show=\"new\" xlink:title=\"psysml:a0e318cd-0c17-433c-bc04-dbf1eaa3473c\" xlink:type=\"simple\"><path d=\"M169.5,224.72 C217.81,218.73 305.54,207.84 358.03,201.33 \" fill=\"none\" id=\"E8-&gt;E7\" style=\"stroke: #383838; stroke-width: 1.0; stroke-dasharray: 7.0,7.0;\"/><polygon fill=\"#383838\" points=\"366.14,200.33,357.8314,198.3381,358.5704,204.2924,366.14,200.33\" style=\"stroke: #383838; stroke-width: 1.0;\"/><text fill=\"#000000\" font-family=\"sans-serif\" font-size=\"13\" lengthAdjust=\"spacingAndGlyphs\" textLength=\"64\" x=\"243\" y=\"204.0669\">«depend»</text></a><!--MD5=[6879c5783f1834ceda67ddb13673bf86]\n",
       "@startuml\r\n",
       "left to right direction\r\n",
       "skinparam monochrome true\r\n",
       "skinparam classbackgroundcolor white\r\n",
       "skinparam shadowing false\r\n",
       "skinparam wrapWidth 300\r\n",
       "hide circle\r\n",
       "\r\n",
       "package \"DependencyTest\" as E1  [[psysml:01e86263-1e08-4c5e-80c8-9f3a01cb2b1c ]]  {\r\n",
       "package \"System\" as E2  [[psysml:65d9c171-277b-4a12-8988-537cd17218fe ]]  {\r\n",
       "package \"Application Layer\" as E3  [[psysml:7bbe8935-ee6e-44c3-abf9-e711bcee98e7 ]]  {\r\n",
       "}\r\n",
       "package \"Service Layer\" as E4  [[psysml:8539df59-9777-43d1-9cbc-191f1e3b0af0 ]]  {\r\n",
       "}\r\n",
       "package \"Data Layer\" as E5  [[psysml:06e8cf4d-e880-4b5c-8fdb-0871598a4cb3 ]]  {\r\n",
       "}\r\n",
       "}\r\n",
       "comp usage \"x\" as E6  <<(T,blue)attribute>> [[psysml:3f429861-8945-458a-afac-b9814097464d ]] {\r\n",
       "}\r\n",
       "comp usage \"y\" as E7  <<(T,blue)attribute>> [[psysml:f3318431-0d45-43ea-b254-330318c85eb0 ]] {\r\n",
       "}\r\n",
       "comp usage \"z\" as E8  <<(T,blue)attribute>> [[psysml:da180d87-042d-4ade-81c9-b5201399a446 ]] {\r\n",
       "}\r\n",
       "E3 ..>> E4 [[psysml:ddd06611-1e40-467d-8133-a183585a6da5 ]] : <<depend>>\r\n",
       "E4 ..>> E5 [[psysml:b5c0928c-fbc9-4433-ab1e-c084bfbcebd5 ]] : <<depend>>\r\n",
       "E8 ..>> E6 [[psysml:a0e318cd-0c17-433c-bc04-dbf1eaa3473c ]] : <<depend>>\r\n",
       "E8 ..>> E7 [[psysml:a0e318cd-0c17-433c-bc04-dbf1eaa3473c ]] : <<depend>>\r\n",
       "}\r\n",
       "@enduml\r\n",
       "\n",
       "PlantUML version 1.2020.13(Sat Jun 13 12:26:38 UTC 2020)\n",
       "(EPL source distribution)\n",
       "Java Runtime: OpenJDK Runtime Environment\n",
       "JVM: OpenJDK 64-Bit Server VM\n",
       "Default Encoding: UTF-8\n",
       "Language: en\n",
       "Country: null\n",
       "--></g></svg>"
      ]
     },
     "execution_count": 22,
     "metadata": {},
     "output_type": "execute_result"
    }
   ],
   "source": [
    "%viz --style=\"LR\" --view=\"MIXED\" \"DependencyTest\""
   ]
  },
  {
   "cell_type": "code",
   "execution_count": 23,
   "id": "champion-burton",
   "metadata": {
    "execution": {
     "iopub.execute_input": "2021-03-25T15:09:47.412136Z",
     "iopub.status.busy": "2021-03-25T15:09:47.411494Z",
     "iopub.status.idle": "2021-03-25T15:09:47.508920Z",
     "shell.execute_reply": "2021-03-25T15:09:47.509422Z"
    }
   },
   "outputs": [
    {
     "data": {
      "image/svg+xml": [
       "<?xml version=\"1.0\" encoding=\"UTF-8\" standalone=\"no\"?><svg xmlns=\"http://www.w3.org/2000/svg\" xmlns:xlink=\"http://www.w3.org/1999/xlink\" contentScriptType=\"application/ecmascript\" contentStyleType=\"text/css\" height=\"449px\" preserveAspectRatio=\"none\" style=\"width:489px;height:449px;\" version=\"1.1\" viewBox=\"0 0 489 449\" width=\"489px\" zoomAndPan=\"magnify\"><defs><filter height=\"300%\" id=\"f2dr95ph3epa3\" width=\"300%\" x=\"-1\" y=\"-1\"><feGaussianBlur result=\"blurOut\" stdDeviation=\"2.0\"/><feColorMatrix in=\"blurOut\" result=\"blurOut2\" type=\"matrix\" values=\"0 0 0 0 0 0 0 0 0 0 0 0 0 0 0 0 0 0 .4 0\"/><feOffset dx=\"4.0\" dy=\"4.0\" in=\"blurOut2\" result=\"blurOut3\"/><feBlend in=\"SourceGraphic\" in2=\"blurOut3\" mode=\"normal\"/></filter></defs><g><!--MD5=[fbc87193dbaf4d95561dea2c320d4a47]\n",
       "cluster E1--><a href=\"psysml:01e86263-1e08-4c5e-80c8-9f3a01cb2b1c\" target=\"_top\" title=\"psysml:01e86263-1e08-4c5e-80c8-9f3a01cb2b1c\" xlink:actuate=\"onRequest\" xlink:href=\"psysml:01e86263-1e08-4c5e-80c8-9f3a01cb2b1c\" xlink:show=\"new\" xlink:title=\"psysml:01e86263-1e08-4c5e-80c8-9f3a01cb2b1c\" xlink:type=\"simple\"><polygon fill=\"#FFFFFF\" filter=\"url(#f2dr95ph3epa3)\" points=\"16,6,156,6,163,28.2969,467,28.2969,467,437,16,437,16,6\" style=\"stroke: #000000; stroke-width: 1.5;\"/><line style=\"stroke: #000000; stroke-width: 1.5;\" x1=\"16\" x2=\"163\" y1=\"28.2969\" y2=\"28.2969\"/><text fill=\"#000000\" font-family=\"sans-serif\" font-size=\"14\" font-weight=\"bold\" lengthAdjust=\"spacingAndGlyphs\" textLength=\"134\" x=\"20\" y=\"20.9951\">DependencyTest</text></a><!--MD5=[e4f7fae6ed58524ba242bb0b0d3be6b7]\n",
       "cluster E2--><a href=\"psysml:65d9c171-277b-4a12-8988-537cd17218fe\" target=\"_top\" title=\"psysml:65d9c171-277b-4a12-8988-537cd17218fe\" xlink:actuate=\"onRequest\" xlink:href=\"psysml:65d9c171-277b-4a12-8988-537cd17218fe\" xlink:show=\"new\" xlink:title=\"psysml:65d9c171-277b-4a12-8988-537cd17218fe\" xlink:type=\"simple\"><polygon fill=\"#FFFFFF\" filter=\"url(#f2dr95ph3epa3)\" points=\"255,49,319,49,326,71.2969,443,71.2969,443,413,255,413,255,49\" style=\"stroke: #000000; stroke-width: 1.5;\"/><line style=\"stroke: #000000; stroke-width: 1.5;\" x1=\"255\" x2=\"326\" y1=\"71.2969\" y2=\"71.2969\"/><text fill=\"#000000\" font-family=\"sans-serif\" font-size=\"14\" font-weight=\"bold\" lengthAdjust=\"spacingAndGlyphs\" textLength=\"58\" x=\"259\" y=\"63.9951\">System</text></a><!--MD5=[60a26617385b1d2d0262a64233df1f8d]\n",
       "class E6--><a href=\"psysml:3f429861-8945-458a-afac-b9814097464d\" target=\"_top\" title=\"psysml:3f429861-8945-458a-afac-b9814097464d\" xlink:actuate=\"onRequest\" xlink:href=\"psysml:3f429861-8945-458a-afac-b9814097464d\" xlink:show=\"new\" xlink:title=\"psysml:3f429861-8945-458a-afac-b9814097464d\" xlink:type=\"simple\"><rect fill=\"#FEFECE\" filter=\"url(#f2dr95ph3epa3)\" height=\"45.9375\" id=\"E6\" rx=\"10\" ry=\"10\" style=\"stroke: #A80036; stroke-width: 1.5;\" width=\"71\" x=\"32.5\" y=\"217.5\"/><text fill=\"#000000\" font-family=\"sans-serif\" font-size=\"12\" font-style=\"italic\" lengthAdjust=\"spacingAndGlyphs\" textLength=\"69\" x=\"33.5\" y=\"233.6387\">«attribute»</text><text fill=\"#000000\" font-family=\"sans-serif\" font-size=\"12\" lengthAdjust=\"spacingAndGlyphs\" textLength=\"6\" x=\"65\" y=\"247.6074\">x</text><line style=\"stroke: #A80036; stroke-width: 1.5;\" x1=\"33.5\" x2=\"102.5\" y1=\"255.4375\" y2=\"255.4375\"/></a><!--MD5=[2156ba9850f5573cc1fc38a6a4b2f02b]\n",
       "class E7--><a href=\"psysml:f3318431-0d45-43ea-b254-330318c85eb0\" target=\"_top\" title=\"psysml:f3318431-0d45-43ea-b254-330318c85eb0\" xlink:actuate=\"onRequest\" xlink:href=\"psysml:f3318431-0d45-43ea-b254-330318c85eb0\" xlink:show=\"new\" xlink:title=\"psysml:f3318431-0d45-43ea-b254-330318c85eb0\" xlink:type=\"simple\"><rect fill=\"#FEFECE\" filter=\"url(#f2dr95ph3epa3)\" height=\"45.9375\" id=\"E7\" rx=\"10\" ry=\"10\" style=\"stroke: #A80036; stroke-width: 1.5;\" width=\"71\" x=\"138.5\" y=\"217.5\"/><text fill=\"#000000\" font-family=\"sans-serif\" font-size=\"12\" font-style=\"italic\" lengthAdjust=\"spacingAndGlyphs\" textLength=\"69\" x=\"139.5\" y=\"233.6387\">«attribute»</text><text fill=\"#000000\" font-family=\"sans-serif\" font-size=\"12\" lengthAdjust=\"spacingAndGlyphs\" textLength=\"6\" x=\"171\" y=\"247.6074\">y</text><line style=\"stroke: #A80036; stroke-width: 1.5;\" x1=\"139.5\" x2=\"208.5\" y1=\"255.4375\" y2=\"255.4375\"/></a><!--MD5=[b9389687b975829384b498ac4b7476b2]\n",
       "class E8--><a href=\"psysml:da180d87-042d-4ade-81c9-b5201399a446\" target=\"_top\" title=\"psysml:da180d87-042d-4ade-81c9-b5201399a446\" xlink:actuate=\"onRequest\" xlink:href=\"psysml:da180d87-042d-4ade-81c9-b5201399a446\" xlink:show=\"new\" xlink:title=\"psysml:da180d87-042d-4ade-81c9-b5201399a446\" xlink:type=\"simple\"><rect fill=\"#FEFECE\" filter=\"url(#f2dr95ph3epa3)\" height=\"45.9375\" id=\"E8\" rx=\"10\" ry=\"10\" style=\"stroke: #A80036; stroke-width: 1.5;\" width=\"71\" x=\"84.5\" y=\"87.5\"/><text fill=\"#000000\" font-family=\"sans-serif\" font-size=\"12\" font-style=\"italic\" lengthAdjust=\"spacingAndGlyphs\" textLength=\"69\" x=\"85.5\" y=\"103.6387\">«attribute»</text><text fill=\"#000000\" font-family=\"sans-serif\" font-size=\"12\" lengthAdjust=\"spacingAndGlyphs\" textLength=\"5\" x=\"117.5\" y=\"117.6074\">z</text><line style=\"stroke: #A80036; stroke-width: 1.5;\" x1=\"85.5\" x2=\"154.5\" y1=\"125.4375\" y2=\"125.4375\"/></a><a href=\"psysml:7bbe8935-ee6e-44c3-abf9-e711bcee98e7\" target=\"_top\" title=\"psysml:7bbe8935-ee6e-44c3-abf9-e711bcee98e7\" xlink:actuate=\"onRequest\" xlink:href=\"psysml:7bbe8935-ee6e-44c3-abf9-e711bcee98e7\" xlink:show=\"new\" xlink:title=\"psysml:7bbe8935-ee6e-44c3-abf9-e711bcee98e7\" xlink:type=\"simple\"><polygon fill=\"#FFFFFF\" filter=\"url(#f2dr95ph3epa3)\" points=\"271,84,413,84,420,106.2969,427,106.2969,427,136.5938,271,136.5938,271,84\" style=\"stroke: #000000; stroke-width: 1.5;\"/><line style=\"stroke: #000000; stroke-width: 1.5;\" x1=\"271\" x2=\"420\" y1=\"106.2969\" y2=\"106.2969\"/><text fill=\"#000000\" font-family=\"sans-serif\" font-size=\"14\" font-weight=\"bold\" lengthAdjust=\"spacingAndGlyphs\" textLength=\"136\" x=\"275\" y=\"98.9951\">Application Layer</text></a><a href=\"psysml:8539df59-9777-43d1-9cbc-191f1e3b0af0\" target=\"_top\" title=\"psysml:8539df59-9777-43d1-9cbc-191f1e3b0af0\" xlink:actuate=\"onRequest\" xlink:href=\"psysml:8539df59-9777-43d1-9cbc-191f1e3b0af0\" xlink:show=\"new\" xlink:title=\"psysml:8539df59-9777-43d1-9cbc-191f1e3b0af0\" xlink:type=\"simple\"><polygon fill=\"#FFFFFF\" filter=\"url(#f2dr95ph3epa3)\" points=\"285,214,399,214,406,236.2969,413,236.2969,413,266.5938,285,266.5938,285,214\" style=\"stroke: #000000; stroke-width: 1.5;\"/><line style=\"stroke: #000000; stroke-width: 1.5;\" x1=\"285\" x2=\"406\" y1=\"236.2969\" y2=\"236.2969\"/><text fill=\"#000000\" font-family=\"sans-serif\" font-size=\"14\" font-weight=\"bold\" lengthAdjust=\"spacingAndGlyphs\" textLength=\"108\" x=\"289\" y=\"228.9951\">Service Layer</text></a><a href=\"psysml:06e8cf4d-e880-4b5c-8fdb-0871598a4cb3\" target=\"_top\" title=\"psysml:06e8cf4d-e880-4b5c-8fdb-0871598a4cb3\" xlink:actuate=\"onRequest\" xlink:href=\"psysml:06e8cf4d-e880-4b5c-8fdb-0871598a4cb3\" xlink:show=\"new\" xlink:title=\"psysml:06e8cf4d-e880-4b5c-8fdb-0871598a4cb3\" xlink:type=\"simple\"><polygon fill=\"#FFFFFF\" filter=\"url(#f2dr95ph3epa3)\" points=\"297,344,387,344,394,366.2969,401,366.2969,401,396.5938,297,396.5938,297,344\" style=\"stroke: #000000; stroke-width: 1.5;\"/><line style=\"stroke: #000000; stroke-width: 1.5;\" x1=\"297\" x2=\"394\" y1=\"366.2969\" y2=\"366.2969\"/><text fill=\"#000000\" font-family=\"sans-serif\" font-size=\"14\" font-weight=\"bold\" lengthAdjust=\"spacingAndGlyphs\" textLength=\"84\" x=\"301\" y=\"358.9951\">Data Layer</text></a><!--MD5=[af87c684e3b0d8be13c1a698a818ef1e]\n",
       "link E3 to E4--><a href=\"psysml:ddd06611-1e40-467d-8133-a183585a6da5\" target=\"_top\" title=\"psysml:ddd06611-1e40-467d-8133-a183585a6da5\" xlink:actuate=\"onRequest\" xlink:href=\"psysml:ddd06611-1e40-467d-8133-a183585a6da5\" xlink:show=\"new\" xlink:title=\"psysml:ddd06611-1e40-467d-8133-a183585a6da5\" xlink:type=\"simple\"><path d=\"M349,137.1 C349,156.8 349,184.22 349,205.73 \" fill=\"none\" id=\"E3-&gt;E4\" style=\"stroke: #A80036; stroke-width: 1.0; stroke-dasharray: 7.0,7.0;\"/><polygon fill=\"#A80036\" points=\"349,213.95,352,205.95,346,205.95,349,213.95\" style=\"stroke: #A80036; stroke-width: 1.0;\"/><text fill=\"#000000\" font-family=\"sans-serif\" font-size=\"13\" lengthAdjust=\"spacingAndGlyphs\" textLength=\"64\" x=\"350\" y=\"180.0669\">«depend»</text></a><!--MD5=[1b7591eae5389033d8d09a9d6721a717]\n",
       "link E4 to E5--><a href=\"psysml:b5c0928c-fbc9-4433-ab1e-c084bfbcebd5\" target=\"_top\" title=\"psysml:b5c0928c-fbc9-4433-ab1e-c084bfbcebd5\" xlink:actuate=\"onRequest\" xlink:href=\"psysml:b5c0928c-fbc9-4433-ab1e-c084bfbcebd5\" xlink:show=\"new\" xlink:title=\"psysml:b5c0928c-fbc9-4433-ab1e-c084bfbcebd5\" xlink:type=\"simple\"><path d=\"M349,267.1 C349,286.8 349,314.22 349,335.73 \" fill=\"none\" id=\"E4-&gt;E5\" style=\"stroke: #A80036; stroke-width: 1.0; stroke-dasharray: 7.0,7.0;\"/><polygon fill=\"#A80036\" points=\"349,343.95,352,335.95,346,335.95,349,343.95\" style=\"stroke: #A80036; stroke-width: 1.0;\"/><text fill=\"#000000\" font-family=\"sans-serif\" font-size=\"13\" lengthAdjust=\"spacingAndGlyphs\" textLength=\"64\" x=\"350\" y=\"310.0669\">«depend»</text></a><!--MD5=[c5e8897d989ce984f93528998a7150fe]\n",
       "link E8 to E6--><a href=\"psysml:a0e318cd-0c17-433c-bc04-dbf1eaa3473c\" target=\"_top\" title=\"psysml:a0e318cd-0c17-433c-bc04-dbf1eaa3473c\" xlink:actuate=\"onRequest\" xlink:href=\"psysml:a0e318cd-0c17-433c-bc04-dbf1eaa3473c\" xlink:show=\"new\" xlink:title=\"psysml:a0e318cd-0c17-433c-bc04-dbf1eaa3473c\" xlink:type=\"simple\"><path d=\"M89.42,133.6 C79.35,142.68 69.37,154.11 64,167 C58.5,180.2 58.66,195.94 60.54,209.38 \" fill=\"none\" id=\"E8-&gt;E6\" style=\"stroke: #A80036; stroke-width: 1.0; stroke-dasharray: 7.0,7.0;\"/><polygon fill=\"#A80036\" points=\"61.9,217.4,63.517,209.0104,57.6018,210.0159,61.9,217.4\" style=\"stroke: #A80036; stroke-width: 1.0;\"/><text fill=\"#000000\" font-family=\"sans-serif\" font-size=\"13\" lengthAdjust=\"spacingAndGlyphs\" textLength=\"64\" x=\"65\" y=\"180.0669\">«depend»</text></a><!--MD5=[bfa3c8b0d15052fdf50ae9310b491027]\n",
       "link E8 to E7--><a href=\"psysml:a0e318cd-0c17-433c-bc04-dbf1eaa3473c\" target=\"_top\" title=\"psysml:a0e318cd-0c17-433c-bc04-dbf1eaa3473c\" xlink:actuate=\"onRequest\" xlink:href=\"psysml:a0e318cd-0c17-433c-bc04-dbf1eaa3473c\" xlink:show=\"new\" xlink:title=\"psysml:a0e318cd-0c17-433c-bc04-dbf1eaa3473c\" xlink:type=\"simple\"><path d=\"M129.28,133.5 C138.17,154.57 151.64,186.5 161.47,209.81 \" fill=\"none\" id=\"E8-&gt;E7\" style=\"stroke: #A80036; stroke-width: 1.0; stroke-dasharray: 7.0,7.0;\"/><polygon fill=\"#A80036\" points=\"164.66,217.35,164.3241,208.8126,158.7933,211.1385,164.66,217.35\" style=\"stroke: #A80036; stroke-width: 1.0;\"/><text fill=\"#000000\" font-family=\"sans-serif\" font-size=\"13\" lengthAdjust=\"spacingAndGlyphs\" textLength=\"64\" x=\"151\" y=\"180.0669\">«depend»</text></a><!--MD5=[1d6a17464409b76b01acef9d00b3429a]\n",
       "@startuml\r\n",
       "skinparam wrapWidth 300\r\n",
       "hide circle\r\n",
       "\r\n",
       "package \"DependencyTest\" as E1  [[psysml:01e86263-1e08-4c5e-80c8-9f3a01cb2b1c ]]  {\r\n",
       "package \"System\" as E2  [[psysml:65d9c171-277b-4a12-8988-537cd17218fe ]]  {\r\n",
       "package \"Application Layer\" as E3  [[psysml:7bbe8935-ee6e-44c3-abf9-e711bcee98e7 ]]  {\r\n",
       "}\r\n",
       "package \"Service Layer\" as E4  [[psysml:8539df59-9777-43d1-9cbc-191f1e3b0af0 ]]  {\r\n",
       "}\r\n",
       "package \"Data Layer\" as E5  [[psysml:06e8cf4d-e880-4b5c-8fdb-0871598a4cb3 ]]  {\r\n",
       "}\r\n",
       "}\r\n",
       "comp usage \"x\" as E6  <<(T,blue)attribute>> [[psysml:3f429861-8945-458a-afac-b9814097464d ]] {\r\n",
       "}\r\n",
       "comp usage \"y\" as E7  <<(T,blue)attribute>> [[psysml:f3318431-0d45-43ea-b254-330318c85eb0 ]] {\r\n",
       "}\r\n",
       "comp usage \"z\" as E8  <<(T,blue)attribute>> [[psysml:da180d87-042d-4ade-81c9-b5201399a446 ]] {\r\n",
       "}\r\n",
       "E3 ..>> E4 [[psysml:ddd06611-1e40-467d-8133-a183585a6da5 ]] : <<depend>>\r\n",
       "E4 ..>> E5 [[psysml:b5c0928c-fbc9-4433-ab1e-c084bfbcebd5 ]] : <<depend>>\r\n",
       "E8 ..>> E6 [[psysml:a0e318cd-0c17-433c-bc04-dbf1eaa3473c ]] : <<depend>>\r\n",
       "E8 ..>> E7 [[psysml:a0e318cd-0c17-433c-bc04-dbf1eaa3473c ]] : <<depend>>\r\n",
       "}\r\n",
       "@enduml\r\n",
       "\n",
       "PlantUML version 1.2020.13(Sat Jun 13 12:26:38 UTC 2020)\n",
       "(EPL source distribution)\n",
       "Java Runtime: OpenJDK Runtime Environment\n",
       "JVM: OpenJDK 64-Bit Server VM\n",
       "Default Encoding: UTF-8\n",
       "Language: en\n",
       "Country: null\n",
       "--></g></svg>"
      ]
     },
     "execution_count": 23,
     "metadata": {},
     "output_type": "execute_result"
    }
   ],
   "source": [
    "%viz --style=\"STDCOLOR\" --view=\"Default\" \"DependencyTest\""
   ]
  },
  {
   "cell_type": "code",
   "execution_count": 24,
   "id": "intended-belly",
   "metadata": {
    "execution": {
     "iopub.execute_input": "2021-03-25T15:09:47.560450Z",
     "iopub.status.busy": "2021-03-25T15:09:47.560015Z",
     "iopub.status.idle": "2021-03-25T15:09:47.655473Z",
     "shell.execute_reply": "2021-03-25T15:09:47.654026Z"
    }
   },
   "outputs": [
    {
     "data": {
      "image/svg+xml": [
       "<?xml version=\"1.0\" encoding=\"UTF-8\" standalone=\"no\"?><svg xmlns=\"http://www.w3.org/2000/svg\" xmlns:xlink=\"http://www.w3.org/1999/xlink\" contentScriptType=\"application/ecmascript\" contentStyleType=\"text/css\" height=\"449px\" preserveAspectRatio=\"none\" style=\"width:489px;height:449px;\" version=\"1.1\" viewBox=\"0 0 489 449\" width=\"489px\" zoomAndPan=\"magnify\"><defs><filter height=\"300%\" id=\"f2dr95ph3epa3\" width=\"300%\" x=\"-1\" y=\"-1\"><feGaussianBlur result=\"blurOut\" stdDeviation=\"2.0\"/><feColorMatrix in=\"blurOut\" result=\"blurOut2\" type=\"matrix\" values=\"0 0 0 0 0 0 0 0 0 0 0 0 0 0 0 0 0 0 .4 0\"/><feOffset dx=\"4.0\" dy=\"4.0\" in=\"blurOut2\" result=\"blurOut3\"/><feBlend in=\"SourceGraphic\" in2=\"blurOut3\" mode=\"normal\"/></filter></defs><g><!--MD5=[fbc87193dbaf4d95561dea2c320d4a47]\n",
       "cluster E1--><a href=\"psysml:01e86263-1e08-4c5e-80c8-9f3a01cb2b1c\" target=\"_top\" title=\"psysml:01e86263-1e08-4c5e-80c8-9f3a01cb2b1c\" xlink:actuate=\"onRequest\" xlink:href=\"psysml:01e86263-1e08-4c5e-80c8-9f3a01cb2b1c\" xlink:show=\"new\" xlink:title=\"psysml:01e86263-1e08-4c5e-80c8-9f3a01cb2b1c\" xlink:type=\"simple\"><polygon fill=\"#FFFFFF\" filter=\"url(#f2dr95ph3epa3)\" points=\"16,6,156,6,163,28.2969,467,28.2969,467,437,16,437,16,6\" style=\"stroke: #000000; stroke-width: 1.5;\"/><line style=\"stroke: #000000; stroke-width: 1.5;\" x1=\"16\" x2=\"163\" y1=\"28.2969\" y2=\"28.2969\"/><text fill=\"#000000\" font-family=\"sans-serif\" font-size=\"14\" font-weight=\"bold\" lengthAdjust=\"spacingAndGlyphs\" textLength=\"134\" x=\"20\" y=\"20.9951\">DependencyTest</text></a><!--MD5=[e4f7fae6ed58524ba242bb0b0d3be6b7]\n",
       "cluster E2--><a href=\"psysml:65d9c171-277b-4a12-8988-537cd17218fe\" target=\"_top\" title=\"psysml:65d9c171-277b-4a12-8988-537cd17218fe\" xlink:actuate=\"onRequest\" xlink:href=\"psysml:65d9c171-277b-4a12-8988-537cd17218fe\" xlink:show=\"new\" xlink:title=\"psysml:65d9c171-277b-4a12-8988-537cd17218fe\" xlink:type=\"simple\"><polygon fill=\"#FFFFFF\" filter=\"url(#f2dr95ph3epa3)\" points=\"255,49,319,49,326,71.2969,443,71.2969,443,413,255,413,255,49\" style=\"stroke: #000000; stroke-width: 1.5;\"/><line style=\"stroke: #000000; stroke-width: 1.5;\" x1=\"255\" x2=\"326\" y1=\"71.2969\" y2=\"71.2969\"/><text fill=\"#000000\" font-family=\"sans-serif\" font-size=\"14\" font-weight=\"bold\" lengthAdjust=\"spacingAndGlyphs\" textLength=\"58\" x=\"259\" y=\"63.9951\">System</text></a><!--MD5=[60a26617385b1d2d0262a64233df1f8d]\n",
       "class E6--><a href=\"psysml:3f429861-8945-458a-afac-b9814097464d\" target=\"_top\" title=\"psysml:3f429861-8945-458a-afac-b9814097464d\" xlink:actuate=\"onRequest\" xlink:href=\"psysml:3f429861-8945-458a-afac-b9814097464d\" xlink:show=\"new\" xlink:title=\"psysml:3f429861-8945-458a-afac-b9814097464d\" xlink:type=\"simple\"><rect fill=\"#FEFECE\" filter=\"url(#f2dr95ph3epa3)\" height=\"45.9375\" id=\"E6\" rx=\"10\" ry=\"10\" style=\"stroke: #A80036; stroke-width: 1.5;\" width=\"71\" x=\"32.5\" y=\"217.5\"/><text fill=\"#000000\" font-family=\"sans-serif\" font-size=\"12\" font-style=\"italic\" lengthAdjust=\"spacingAndGlyphs\" textLength=\"69\" x=\"33.5\" y=\"233.6387\">«attribute»</text><text fill=\"#000000\" font-family=\"sans-serif\" font-size=\"12\" lengthAdjust=\"spacingAndGlyphs\" textLength=\"6\" x=\"65\" y=\"247.6074\">x</text><line style=\"stroke: #A80036; stroke-width: 1.5;\" x1=\"33.5\" x2=\"102.5\" y1=\"255.4375\" y2=\"255.4375\"/></a><!--MD5=[2156ba9850f5573cc1fc38a6a4b2f02b]\n",
       "class E7--><a href=\"psysml:f3318431-0d45-43ea-b254-330318c85eb0\" target=\"_top\" title=\"psysml:f3318431-0d45-43ea-b254-330318c85eb0\" xlink:actuate=\"onRequest\" xlink:href=\"psysml:f3318431-0d45-43ea-b254-330318c85eb0\" xlink:show=\"new\" xlink:title=\"psysml:f3318431-0d45-43ea-b254-330318c85eb0\" xlink:type=\"simple\"><rect fill=\"#FEFECE\" filter=\"url(#f2dr95ph3epa3)\" height=\"45.9375\" id=\"E7\" rx=\"10\" ry=\"10\" style=\"stroke: #A80036; stroke-width: 1.5;\" width=\"71\" x=\"138.5\" y=\"217.5\"/><text fill=\"#000000\" font-family=\"sans-serif\" font-size=\"12\" font-style=\"italic\" lengthAdjust=\"spacingAndGlyphs\" textLength=\"69\" x=\"139.5\" y=\"233.6387\">«attribute»</text><text fill=\"#000000\" font-family=\"sans-serif\" font-size=\"12\" lengthAdjust=\"spacingAndGlyphs\" textLength=\"6\" x=\"171\" y=\"247.6074\">y</text><line style=\"stroke: #A80036; stroke-width: 1.5;\" x1=\"139.5\" x2=\"208.5\" y1=\"255.4375\" y2=\"255.4375\"/></a><!--MD5=[b9389687b975829384b498ac4b7476b2]\n",
       "class E8--><a href=\"psysml:da180d87-042d-4ade-81c9-b5201399a446\" target=\"_top\" title=\"psysml:da180d87-042d-4ade-81c9-b5201399a446\" xlink:actuate=\"onRequest\" xlink:href=\"psysml:da180d87-042d-4ade-81c9-b5201399a446\" xlink:show=\"new\" xlink:title=\"psysml:da180d87-042d-4ade-81c9-b5201399a446\" xlink:type=\"simple\"><rect fill=\"#FEFECE\" filter=\"url(#f2dr95ph3epa3)\" height=\"45.9375\" id=\"E8\" rx=\"10\" ry=\"10\" style=\"stroke: #A80036; stroke-width: 1.5;\" width=\"71\" x=\"84.5\" y=\"87.5\"/><text fill=\"#000000\" font-family=\"sans-serif\" font-size=\"12\" font-style=\"italic\" lengthAdjust=\"spacingAndGlyphs\" textLength=\"69\" x=\"85.5\" y=\"103.6387\">«attribute»</text><text fill=\"#000000\" font-family=\"sans-serif\" font-size=\"12\" lengthAdjust=\"spacingAndGlyphs\" textLength=\"5\" x=\"117.5\" y=\"117.6074\">z</text><line style=\"stroke: #A80036; stroke-width: 1.5;\" x1=\"85.5\" x2=\"154.5\" y1=\"125.4375\" y2=\"125.4375\"/></a><a href=\"psysml:7bbe8935-ee6e-44c3-abf9-e711bcee98e7\" target=\"_top\" title=\"psysml:7bbe8935-ee6e-44c3-abf9-e711bcee98e7\" xlink:actuate=\"onRequest\" xlink:href=\"psysml:7bbe8935-ee6e-44c3-abf9-e711bcee98e7\" xlink:show=\"new\" xlink:title=\"psysml:7bbe8935-ee6e-44c3-abf9-e711bcee98e7\" xlink:type=\"simple\"><polygon fill=\"#FFFFFF\" filter=\"url(#f2dr95ph3epa3)\" points=\"271,84,413,84,420,106.2969,427,106.2969,427,136.5938,271,136.5938,271,84\" style=\"stroke: #000000; stroke-width: 1.5;\"/><line style=\"stroke: #000000; stroke-width: 1.5;\" x1=\"271\" x2=\"420\" y1=\"106.2969\" y2=\"106.2969\"/><text fill=\"#000000\" font-family=\"sans-serif\" font-size=\"14\" font-weight=\"bold\" lengthAdjust=\"spacingAndGlyphs\" textLength=\"136\" x=\"275\" y=\"98.9951\">Application Layer</text></a><a href=\"psysml:8539df59-9777-43d1-9cbc-191f1e3b0af0\" target=\"_top\" title=\"psysml:8539df59-9777-43d1-9cbc-191f1e3b0af0\" xlink:actuate=\"onRequest\" xlink:href=\"psysml:8539df59-9777-43d1-9cbc-191f1e3b0af0\" xlink:show=\"new\" xlink:title=\"psysml:8539df59-9777-43d1-9cbc-191f1e3b0af0\" xlink:type=\"simple\"><polygon fill=\"#FFFFFF\" filter=\"url(#f2dr95ph3epa3)\" points=\"285,214,399,214,406,236.2969,413,236.2969,413,266.5938,285,266.5938,285,214\" style=\"stroke: #000000; stroke-width: 1.5;\"/><line style=\"stroke: #000000; stroke-width: 1.5;\" x1=\"285\" x2=\"406\" y1=\"236.2969\" y2=\"236.2969\"/><text fill=\"#000000\" font-family=\"sans-serif\" font-size=\"14\" font-weight=\"bold\" lengthAdjust=\"spacingAndGlyphs\" textLength=\"108\" x=\"289\" y=\"228.9951\">Service Layer</text></a><a href=\"psysml:06e8cf4d-e880-4b5c-8fdb-0871598a4cb3\" target=\"_top\" title=\"psysml:06e8cf4d-e880-4b5c-8fdb-0871598a4cb3\" xlink:actuate=\"onRequest\" xlink:href=\"psysml:06e8cf4d-e880-4b5c-8fdb-0871598a4cb3\" xlink:show=\"new\" xlink:title=\"psysml:06e8cf4d-e880-4b5c-8fdb-0871598a4cb3\" xlink:type=\"simple\"><polygon fill=\"#FFFFFF\" filter=\"url(#f2dr95ph3epa3)\" points=\"297,344,387,344,394,366.2969,401,366.2969,401,396.5938,297,396.5938,297,344\" style=\"stroke: #000000; stroke-width: 1.5;\"/><line style=\"stroke: #000000; stroke-width: 1.5;\" x1=\"297\" x2=\"394\" y1=\"366.2969\" y2=\"366.2969\"/><text fill=\"#000000\" font-family=\"sans-serif\" font-size=\"14\" font-weight=\"bold\" lengthAdjust=\"spacingAndGlyphs\" textLength=\"84\" x=\"301\" y=\"358.9951\">Data Layer</text></a><!--MD5=[af87c684e3b0d8be13c1a698a818ef1e]\n",
       "link E3 to E4--><a href=\"psysml:ddd06611-1e40-467d-8133-a183585a6da5\" target=\"_top\" title=\"psysml:ddd06611-1e40-467d-8133-a183585a6da5\" xlink:actuate=\"onRequest\" xlink:href=\"psysml:ddd06611-1e40-467d-8133-a183585a6da5\" xlink:show=\"new\" xlink:title=\"psysml:ddd06611-1e40-467d-8133-a183585a6da5\" xlink:type=\"simple\"><path d=\"M349,137.1 C349,156.8 349,184.22 349,205.73 \" fill=\"none\" id=\"E3-&gt;E4\" style=\"stroke: #A80036; stroke-width: 1.0; stroke-dasharray: 7.0,7.0;\"/><polygon fill=\"#A80036\" points=\"349,213.95,352,205.95,346,205.95,349,213.95\" style=\"stroke: #A80036; stroke-width: 1.0;\"/><text fill=\"#000000\" font-family=\"sans-serif\" font-size=\"13\" lengthAdjust=\"spacingAndGlyphs\" textLength=\"64\" x=\"350\" y=\"180.0669\">«depend»</text></a><!--MD5=[1b7591eae5389033d8d09a9d6721a717]\n",
       "link E4 to E5--><a href=\"psysml:b5c0928c-fbc9-4433-ab1e-c084bfbcebd5\" target=\"_top\" title=\"psysml:b5c0928c-fbc9-4433-ab1e-c084bfbcebd5\" xlink:actuate=\"onRequest\" xlink:href=\"psysml:b5c0928c-fbc9-4433-ab1e-c084bfbcebd5\" xlink:show=\"new\" xlink:title=\"psysml:b5c0928c-fbc9-4433-ab1e-c084bfbcebd5\" xlink:type=\"simple\"><path d=\"M349,267.1 C349,286.8 349,314.22 349,335.73 \" fill=\"none\" id=\"E4-&gt;E5\" style=\"stroke: #A80036; stroke-width: 1.0; stroke-dasharray: 7.0,7.0;\"/><polygon fill=\"#A80036\" points=\"349,343.95,352,335.95,346,335.95,349,343.95\" style=\"stroke: #A80036; stroke-width: 1.0;\"/><text fill=\"#000000\" font-family=\"sans-serif\" font-size=\"13\" lengthAdjust=\"spacingAndGlyphs\" textLength=\"64\" x=\"350\" y=\"310.0669\">«depend»</text></a><!--MD5=[c5e8897d989ce984f93528998a7150fe]\n",
       "link E8 to E6--><a href=\"psysml:a0e318cd-0c17-433c-bc04-dbf1eaa3473c\" target=\"_top\" title=\"psysml:a0e318cd-0c17-433c-bc04-dbf1eaa3473c\" xlink:actuate=\"onRequest\" xlink:href=\"psysml:a0e318cd-0c17-433c-bc04-dbf1eaa3473c\" xlink:show=\"new\" xlink:title=\"psysml:a0e318cd-0c17-433c-bc04-dbf1eaa3473c\" xlink:type=\"simple\"><path d=\"M89.42,133.6 C79.35,142.68 69.37,154.11 64,167 C58.5,180.2 58.66,195.94 60.54,209.38 \" fill=\"none\" id=\"E8-&gt;E6\" style=\"stroke: #A80036; stroke-width: 1.0; stroke-dasharray: 7.0,7.0;\"/><polygon fill=\"#A80036\" points=\"61.9,217.4,63.517,209.0104,57.6018,210.0159,61.9,217.4\" style=\"stroke: #A80036; stroke-width: 1.0;\"/><text fill=\"#000000\" font-family=\"sans-serif\" font-size=\"13\" lengthAdjust=\"spacingAndGlyphs\" textLength=\"64\" x=\"65\" y=\"180.0669\">«depend»</text></a><!--MD5=[bfa3c8b0d15052fdf50ae9310b491027]\n",
       "link E8 to E7--><a href=\"psysml:a0e318cd-0c17-433c-bc04-dbf1eaa3473c\" target=\"_top\" title=\"psysml:a0e318cd-0c17-433c-bc04-dbf1eaa3473c\" xlink:actuate=\"onRequest\" xlink:href=\"psysml:a0e318cd-0c17-433c-bc04-dbf1eaa3473c\" xlink:show=\"new\" xlink:title=\"psysml:a0e318cd-0c17-433c-bc04-dbf1eaa3473c\" xlink:type=\"simple\"><path d=\"M129.28,133.5 C138.17,154.57 151.64,186.5 161.47,209.81 \" fill=\"none\" id=\"E8-&gt;E7\" style=\"stroke: #A80036; stroke-width: 1.0; stroke-dasharray: 7.0,7.0;\"/><polygon fill=\"#A80036\" points=\"164.66,217.35,164.3241,208.8126,158.7933,211.1385,164.66,217.35\" style=\"stroke: #A80036; stroke-width: 1.0;\"/><text fill=\"#000000\" font-family=\"sans-serif\" font-size=\"13\" lengthAdjust=\"spacingAndGlyphs\" textLength=\"64\" x=\"151\" y=\"180.0669\">«depend»</text></a><!--MD5=[1d6a17464409b76b01acef9d00b3429a]\n",
       "@startuml\r\n",
       "skinparam wrapWidth 300\r\n",
       "hide circle\r\n",
       "\r\n",
       "package \"DependencyTest\" as E1  [[psysml:01e86263-1e08-4c5e-80c8-9f3a01cb2b1c ]]  {\r\n",
       "package \"System\" as E2  [[psysml:65d9c171-277b-4a12-8988-537cd17218fe ]]  {\r\n",
       "package \"Application Layer\" as E3  [[psysml:7bbe8935-ee6e-44c3-abf9-e711bcee98e7 ]]  {\r\n",
       "}\r\n",
       "package \"Service Layer\" as E4  [[psysml:8539df59-9777-43d1-9cbc-191f1e3b0af0 ]]  {\r\n",
       "}\r\n",
       "package \"Data Layer\" as E5  [[psysml:06e8cf4d-e880-4b5c-8fdb-0871598a4cb3 ]]  {\r\n",
       "}\r\n",
       "}\r\n",
       "comp usage \"x\" as E6  <<(T,blue)attribute>> [[psysml:3f429861-8945-458a-afac-b9814097464d ]] {\r\n",
       "}\r\n",
       "comp usage \"y\" as E7  <<(T,blue)attribute>> [[psysml:f3318431-0d45-43ea-b254-330318c85eb0 ]] {\r\n",
       "}\r\n",
       "comp usage \"z\" as E8  <<(T,blue)attribute>> [[psysml:da180d87-042d-4ade-81c9-b5201399a446 ]] {\r\n",
       "}\r\n",
       "E3 ..>> E4 [[psysml:ddd06611-1e40-467d-8133-a183585a6da5 ]] : <<depend>>\r\n",
       "E4 ..>> E5 [[psysml:b5c0928c-fbc9-4433-ab1e-c084bfbcebd5 ]] : <<depend>>\r\n",
       "E8 ..>> E6 [[psysml:a0e318cd-0c17-433c-bc04-dbf1eaa3473c ]] : <<depend>>\r\n",
       "E8 ..>> E7 [[psysml:a0e318cd-0c17-433c-bc04-dbf1eaa3473c ]] : <<depend>>\r\n",
       "}\r\n",
       "@enduml\r\n",
       "\n",
       "PlantUML version 1.2020.13(Sat Jun 13 12:26:38 UTC 2020)\n",
       "(EPL source distribution)\n",
       "Java Runtime: OpenJDK Runtime Environment\n",
       "JVM: OpenJDK 64-Bit Server VM\n",
       "Default Encoding: UTF-8\n",
       "Language: en\n",
       "Country: null\n",
       "--></g></svg>"
      ]
     },
     "execution_count": 24,
     "metadata": {},
     "output_type": "execute_result"
    }
   ],
   "source": [
    "%viz --style=\"STDCOLOR\" --view=\"Tree\" \"DependencyTest\""
   ]
  },
  {
   "cell_type": "code",
   "execution_count": 25,
   "id": "little-behalf",
   "metadata": {
    "execution": {
     "iopub.execute_input": "2021-03-25T15:09:47.706726Z",
     "iopub.status.busy": "2021-03-25T15:09:47.706051Z",
     "iopub.status.idle": "2021-03-25T15:09:47.720195Z",
     "shell.execute_reply": "2021-03-25T15:09:47.719831Z"
    }
   },
   "outputs": [
    {
     "data": {
      "image/svg+xml": [
       "<?xml version=\"1.0\" encoding=\"UTF-8\" standalone=\"no\"?><svg xmlns=\"http://www.w3.org/2000/svg\" xmlns:xlink=\"http://www.w3.org/1999/xlink\" contentScriptType=\"application/ecmascript\" contentStyleType=\"text/css\" height=\"12px\" preserveAspectRatio=\"none\" style=\"width:12px;height:12px;\" version=\"1.1\" viewBox=\"0 0 12 12\" width=\"12px\" zoomAndPan=\"magnify\"><defs/><g><!--MD5=[aeeef50f102b80d730deb6443d14f702]\n",
       "@startuml\r\n",
       "skinparam wrapWidth 300\r\n",
       "hide circle\r\n",
       "\r\n",
       "@enduml\r\n",
       "\n",
       "PlantUML version 1.2020.13(Sat Jun 13 12:26:38 UTC 2020)\n",
       "(EPL source distribution)\n",
       "Java Runtime: OpenJDK Runtime Environment\n",
       "JVM: OpenJDK 64-Bit Server VM\n",
       "Default Encoding: UTF-8\n",
       "Language: en\n",
       "Country: null\n",
       "--></g></svg>"
      ]
     },
     "execution_count": 25,
     "metadata": {},
     "output_type": "execute_result"
    }
   ],
   "source": [
    "%viz --style=\"STDCOLOR\" --view=\"State\" \"DependencyTest\""
   ]
  },
  {
   "cell_type": "code",
   "execution_count": 26,
   "id": "seeing-hanging",
   "metadata": {
    "execution": {
     "iopub.execute_input": "2021-03-25T15:09:47.765842Z",
     "iopub.status.busy": "2021-03-25T15:09:47.765181Z",
     "iopub.status.idle": "2021-03-25T15:09:47.862493Z",
     "shell.execute_reply": "2021-03-25T15:09:47.860724Z"
    }
   },
   "outputs": [
    {
     "data": {
      "image/svg+xml": [
       "<?xml version=\"1.0\" encoding=\"UTF-8\" standalone=\"no\"?><svg xmlns=\"http://www.w3.org/2000/svg\" xmlns:xlink=\"http://www.w3.org/1999/xlink\" contentScriptType=\"application/ecmascript\" contentStyleType=\"text/css\" height=\"361px\" preserveAspectRatio=\"none\" style=\"width:489px;height:361px;\" version=\"1.1\" viewBox=\"0 0 489 361\" width=\"489px\" zoomAndPan=\"magnify\"><defs><filter height=\"300%\" id=\"f3ob0ut9vaq0e\" width=\"300%\" x=\"-1\" y=\"-1\"><feGaussianBlur result=\"blurOut\" stdDeviation=\"2.0\"/><feColorMatrix in=\"blurOut\" result=\"blurOut2\" type=\"matrix\" values=\"0 0 0 0 0 0 0 0 0 0 0 0 0 0 0 0 0 0 .4 0\"/><feOffset dx=\"4.0\" dy=\"4.0\" in=\"blurOut2\" result=\"blurOut3\"/><feBlend in=\"SourceGraphic\" in2=\"blurOut3\" mode=\"normal\"/></filter></defs><g><!--MD5=[fbc87193dbaf4d95561dea2c320d4a47]\n",
       "cluster E1--><a href=\"psysml:01e86263-1e08-4c5e-80c8-9f3a01cb2b1c\" target=\"_top\" title=\"psysml:01e86263-1e08-4c5e-80c8-9f3a01cb2b1c\" xlink:actuate=\"onRequest\" xlink:href=\"psysml:01e86263-1e08-4c5e-80c8-9f3a01cb2b1c\" xlink:show=\"new\" xlink:title=\"psysml:01e86263-1e08-4c5e-80c8-9f3a01cb2b1c\" xlink:type=\"simple\"><polygon fill=\"#FFFFFF\" filter=\"url(#f3ob0ut9vaq0e)\" points=\"16,6,156,6,163,28.2969,467,28.2969,467,349,16,349,16,6\" style=\"stroke: #000000; stroke-width: 1.5;\"/><line style=\"stroke: #000000; stroke-width: 1.5;\" x1=\"16\" x2=\"163\" y1=\"28.2969\" y2=\"28.2969\"/><text fill=\"#000000\" font-family=\"sans-serif\" font-size=\"14\" font-weight=\"bold\" lengthAdjust=\"spacingAndGlyphs\" textLength=\"134\" x=\"20\" y=\"20.9951\">DependencyTest</text></a><!--MD5=[e4f7fae6ed58524ba242bb0b0d3be6b7]\n",
       "cluster E2--><a href=\"psysml:65d9c171-277b-4a12-8988-537cd17218fe\" target=\"_top\" title=\"psysml:65d9c171-277b-4a12-8988-537cd17218fe\" xlink:actuate=\"onRequest\" xlink:href=\"psysml:65d9c171-277b-4a12-8988-537cd17218fe\" xlink:show=\"new\" xlink:title=\"psysml:65d9c171-277b-4a12-8988-537cd17218fe\" xlink:type=\"simple\"><polygon fill=\"#FFFFFF\" filter=\"url(#f3ob0ut9vaq0e)\" points=\"255,49,319,49,326,71.2969,443,71.2969,443,325,255,325,255,49\" style=\"stroke: #000000; stroke-width: 1.5;\"/><line style=\"stroke: #000000; stroke-width: 1.5;\" x1=\"255\" x2=\"326\" y1=\"71.2969\" y2=\"71.2969\"/><text fill=\"#000000\" font-family=\"sans-serif\" font-size=\"14\" font-weight=\"bold\" lengthAdjust=\"spacingAndGlyphs\" textLength=\"58\" x=\"259\" y=\"63.9951\">System</text></a><a href=\"psysml:7bbe8935-ee6e-44c3-abf9-e711bcee98e7\" target=\"_top\" title=\"psysml:7bbe8935-ee6e-44c3-abf9-e711bcee98e7\" xlink:actuate=\"onRequest\" xlink:href=\"psysml:7bbe8935-ee6e-44c3-abf9-e711bcee98e7\" xlink:show=\"new\" xlink:title=\"psysml:7bbe8935-ee6e-44c3-abf9-e711bcee98e7\" xlink:type=\"simple\"><polygon fill=\"#FFFFFF\" filter=\"url(#f3ob0ut9vaq0e)\" points=\"271,84,413,84,420,106.2969,427,106.2969,427,136.5938,271,136.5938,271,84\" style=\"stroke: #000000; stroke-width: 1.5;\"/><line style=\"stroke: #000000; stroke-width: 1.5;\" x1=\"271\" x2=\"420\" y1=\"106.2969\" y2=\"106.2969\"/><text fill=\"#000000\" font-family=\"sans-serif\" font-size=\"14\" font-weight=\"bold\" lengthAdjust=\"spacingAndGlyphs\" textLength=\"136\" x=\"275\" y=\"98.9951\">Application Layer</text></a><a href=\"psysml:8539df59-9777-43d1-9cbc-191f1e3b0af0\" target=\"_top\" title=\"psysml:8539df59-9777-43d1-9cbc-191f1e3b0af0\" xlink:actuate=\"onRequest\" xlink:href=\"psysml:8539df59-9777-43d1-9cbc-191f1e3b0af0\" xlink:show=\"new\" xlink:title=\"psysml:8539df59-9777-43d1-9cbc-191f1e3b0af0\" xlink:type=\"simple\"><polygon fill=\"#FFFFFF\" filter=\"url(#f3ob0ut9vaq0e)\" points=\"285,170,399,170,406,192.2969,413,192.2969,413,222.5938,285,222.5938,285,170\" style=\"stroke: #000000; stroke-width: 1.5;\"/><line style=\"stroke: #000000; stroke-width: 1.5;\" x1=\"285\" x2=\"406\" y1=\"192.2969\" y2=\"192.2969\"/><text fill=\"#000000\" font-family=\"sans-serif\" font-size=\"14\" font-weight=\"bold\" lengthAdjust=\"spacingAndGlyphs\" textLength=\"108\" x=\"289\" y=\"184.9951\">Service Layer</text></a><a href=\"psysml:06e8cf4d-e880-4b5c-8fdb-0871598a4cb3\" target=\"_top\" title=\"psysml:06e8cf4d-e880-4b5c-8fdb-0871598a4cb3\" xlink:actuate=\"onRequest\" xlink:href=\"psysml:06e8cf4d-e880-4b5c-8fdb-0871598a4cb3\" xlink:show=\"new\" xlink:title=\"psysml:06e8cf4d-e880-4b5c-8fdb-0871598a4cb3\" xlink:type=\"simple\"><polygon fill=\"#FFFFFF\" filter=\"url(#f3ob0ut9vaq0e)\" points=\"297,256,387,256,394,278.2969,401,278.2969,401,308.5938,297,308.5938,297,256\" style=\"stroke: #000000; stroke-width: 1.5;\"/><line style=\"stroke: #000000; stroke-width: 1.5;\" x1=\"297\" x2=\"394\" y1=\"278.2969\" y2=\"278.2969\"/><text fill=\"#000000\" font-family=\"sans-serif\" font-size=\"14\" font-weight=\"bold\" lengthAdjust=\"spacingAndGlyphs\" textLength=\"84\" x=\"301\" y=\"270.9951\">Data Layer</text></a><g id=\"E1.E6\"><a href=\"psysml:3f429861-8945-458a-afac-b9814097464d\" target=\"_top\" title=\"psysml:3f429861-8945-458a-afac-b9814097464d\" xlink:actuate=\"onRequest\" xlink:href=\"psysml:3f429861-8945-458a-afac-b9814097464d\" xlink:show=\"new\" xlink:title=\"psysml:3f429861-8945-458a-afac-b9814097464d\" xlink:type=\"simple\"><rect fill=\"#FEFECE\" filter=\"url(#f3ob0ut9vaq0e)\" height=\"42.9375\" id=\"E6\" rx=\"10\" ry=\"10\" style=\"stroke: #A80036; stroke-width: 1.5;\" width=\"76\" x=\"32\" y=\"175\"/><text fill=\"#000000\" font-family=\"sans-serif\" font-size=\"12\" font-style=\"italic\" lengthAdjust=\"spacingAndGlyphs\" textLength=\"69\" x=\"35.5\" y=\"191.1387\">«attribute»</text><text fill=\"#000000\" font-family=\"sans-serif\" font-size=\"12\" lengthAdjust=\"spacingAndGlyphs\" textLength=\"6\" x=\"67\" y=\"205.1074\">x</text></a></g><g id=\"E1.E7\"><a href=\"psysml:f3318431-0d45-43ea-b254-330318c85eb0\" target=\"_top\" title=\"psysml:f3318431-0d45-43ea-b254-330318c85eb0\" xlink:actuate=\"onRequest\" xlink:href=\"psysml:f3318431-0d45-43ea-b254-330318c85eb0\" xlink:show=\"new\" xlink:title=\"psysml:f3318431-0d45-43ea-b254-330318c85eb0\" xlink:type=\"simple\"><rect fill=\"#FEFECE\" filter=\"url(#f3ob0ut9vaq0e)\" height=\"42.9375\" id=\"E7\" rx=\"10\" ry=\"10\" style=\"stroke: #A80036; stroke-width: 1.5;\" width=\"76\" x=\"143\" y=\"175\"/><text fill=\"#000000\" font-family=\"sans-serif\" font-size=\"12\" font-style=\"italic\" lengthAdjust=\"spacingAndGlyphs\" textLength=\"69\" x=\"146.5\" y=\"191.1387\">«attribute»</text><text fill=\"#000000\" font-family=\"sans-serif\" font-size=\"12\" lengthAdjust=\"spacingAndGlyphs\" textLength=\"6\" x=\"178\" y=\"205.1074\">y</text></a></g><g id=\"E1.E8\"><a href=\"psysml:da180d87-042d-4ade-81c9-b5201399a446\" target=\"_top\" title=\"psysml:da180d87-042d-4ade-81c9-b5201399a446\" xlink:actuate=\"onRequest\" xlink:href=\"psysml:da180d87-042d-4ade-81c9-b5201399a446\" xlink:show=\"new\" xlink:title=\"psysml:da180d87-042d-4ade-81c9-b5201399a446\" xlink:type=\"simple\"><rect fill=\"#FEFECE\" filter=\"url(#f3ob0ut9vaq0e)\" height=\"42.9375\" id=\"E8\" rx=\"10\" ry=\"10\" style=\"stroke: #A80036; stroke-width: 1.5;\" width=\"76\" x=\"83\" y=\"89\"/><text fill=\"#000000\" font-family=\"sans-serif\" font-size=\"12\" font-style=\"italic\" lengthAdjust=\"spacingAndGlyphs\" textLength=\"69\" x=\"86.5\" y=\"105.1387\">«attribute»</text><text fill=\"#000000\" font-family=\"sans-serif\" font-size=\"12\" lengthAdjust=\"spacingAndGlyphs\" textLength=\"5\" x=\"118.5\" y=\"119.1074\">z</text></a></g><!--MD5=[af87c684e3b0d8be13c1a698a818ef1e]\n",
       "link E3 to E4--><a href=\"psysml:ddd06611-1e40-467d-8133-a183585a6da5\" target=\"_top\" title=\"psysml:ddd06611-1e40-467d-8133-a183585a6da5\" xlink:actuate=\"onRequest\" xlink:href=\"psysml:ddd06611-1e40-467d-8133-a183585a6da5\" xlink:show=\"new\" xlink:title=\"psysml:ddd06611-1e40-467d-8133-a183585a6da5\" xlink:type=\"simple\"><path d=\"M349,137.16 C349,144.98 349,153.69 349,161.94 \" fill=\"none\" id=\"E3-&gt;E4\" style=\"stroke: #A80036; stroke-width: 1.0; stroke-dasharray: 7.0,7.0;\"/><polygon fill=\"#A80036\" points=\"349,170,352,162,346,162,349,170\" style=\"stroke: #A80036; stroke-width: 1.0;\"/><text fill=\"#000000\" font-family=\"sans-serif\" font-size=\"13\" lengthAdjust=\"spacingAndGlyphs\" textLength=\"64\" x=\"350\" y=\"158.0669\">«depend»</text></a><!--MD5=[1b7591eae5389033d8d09a9d6721a717]\n",
       "link E4 to E5--><a href=\"psysml:b5c0928c-fbc9-4433-ab1e-c084bfbcebd5\" target=\"_top\" title=\"psysml:b5c0928c-fbc9-4433-ab1e-c084bfbcebd5\" xlink:actuate=\"onRequest\" xlink:href=\"psysml:b5c0928c-fbc9-4433-ab1e-c084bfbcebd5\" xlink:show=\"new\" xlink:title=\"psysml:b5c0928c-fbc9-4433-ab1e-c084bfbcebd5\" xlink:type=\"simple\"><path d=\"M349,223.16 C349,230.98 349,239.69 349,247.94 \" fill=\"none\" id=\"E4-&gt;E5\" style=\"stroke: #A80036; stroke-width: 1.0; stroke-dasharray: 7.0,7.0;\"/><polygon fill=\"#A80036\" points=\"349,256,352,248,346,248,349,256\" style=\"stroke: #A80036; stroke-width: 1.0;\"/><text fill=\"#000000\" font-family=\"sans-serif\" font-size=\"13\" lengthAdjust=\"spacingAndGlyphs\" textLength=\"64\" x=\"350\" y=\"244.0669\">«depend»</text></a><!--MD5=[c5e8897d989ce984f93528998a7150fe]\n",
       "link E8 to E6--><a href=\"psysml:a0e318cd-0c17-433c-bc04-dbf1eaa3473c\" target=\"_top\" title=\"psysml:a0e318cd-0c17-433c-bc04-dbf1eaa3473c\" xlink:actuate=\"onRequest\" xlink:href=\"psysml:a0e318cd-0c17-433c-bc04-dbf1eaa3473c\" xlink:show=\"new\" xlink:title=\"psysml:a0e318cd-0c17-433c-bc04-dbf1eaa3473c\" xlink:type=\"simple\"><path d=\"M82.81,126.48 C75.3,131.24 68.39,137.33 64,145 C60.26,151.53 59.68,159.3 60.56,166.77 \" fill=\"none\" id=\"E8-&gt;E6\" style=\"stroke: #A80036; stroke-width: 1.0; stroke-dasharray: 7.0,7.0;\"/><polygon fill=\"#A80036\" points=\"62.02,174.69,63.5257,166.2797,57.6244,167.3634,62.02,174.69\" style=\"stroke: #A80036; stroke-width: 1.0;\"/><text fill=\"#000000\" font-family=\"sans-serif\" font-size=\"13\" lengthAdjust=\"spacingAndGlyphs\" textLength=\"64\" x=\"65\" y=\"158.0669\">«depend»</text></a><!--MD5=[bfa3c8b0d15052fdf50ae9310b491027]\n",
       "link E8 to E7--><a href=\"psysml:a0e318cd-0c17-433c-bc04-dbf1eaa3473c\" target=\"_top\" title=\"psysml:a0e318cd-0c17-433c-bc04-dbf1eaa3473c\" xlink:actuate=\"onRequest\" xlink:href=\"psysml:a0e318cd-0c17-433c-bc04-dbf1eaa3473c\" xlink:show=\"new\" xlink:title=\"psysml:a0e318cd-0c17-433c-bc04-dbf1eaa3473c\" xlink:type=\"simple\"><path d=\"M135.83,132.26 C143.61,143.15 153.22,156.61 161.59,168.32 \" fill=\"none\" id=\"E8-&gt;E7\" style=\"stroke: #A80036; stroke-width: 1.0; stroke-dasharray: 7.0,7.0;\"/><polygon fill=\"#A80036\" points=\"166.34,174.97,164.1399,166.7141,159.2538,170.1965,166.34,174.97\" style=\"stroke: #A80036; stroke-width: 1.0;\"/><text fill=\"#000000\" font-family=\"sans-serif\" font-size=\"13\" lengthAdjust=\"spacingAndGlyphs\" textLength=\"64\" x=\"157\" y=\"158.0669\">«depend»</text></a><!--MD5=[d6aed6d2e64ac622739f1b343166f480]\n",
       "@startuml\r\n",
       "skinparam ranksep 8\r\n",
       "skinparam rectangle {\r\n",
       " backgroundColor<<block>> LightGreen\r\n",
       "}\r\n",
       "skinparam wrapWidth 300\r\n",
       "hide circle\r\n",
       "\r\n",
       "package \"DependencyTest\" as E1  [[psysml:01e86263-1e08-4c5e-80c8-9f3a01cb2b1c ]]  {\r\n",
       "package \"System\" as E2  [[psysml:65d9c171-277b-4a12-8988-537cd17218fe ]]  {\r\n",
       "package \"Application Layer\" as E3  [[psysml:7bbe8935-ee6e-44c3-abf9-e711bcee98e7 ]]  {\r\n",
       "}\r\n",
       "package \"Service Layer\" as E4  [[psysml:8539df59-9777-43d1-9cbc-191f1e3b0af0 ]]  {\r\n",
       "}\r\n",
       "package \"Data Layer\" as E5  [[psysml:06e8cf4d-e880-4b5c-8fdb-0871598a4cb3 ]]  {\r\n",
       "}\r\n",
       "}\r\n",
       "rec usage \"x\" as E6  <<(T,blue)attribute>> [[psysml:3f429861-8945-458a-afac-b9814097464d ]] {\r\n",
       "}\r\n",
       "rec usage \"y\" as E7  <<(T,blue)attribute>> [[psysml:f3318431-0d45-43ea-b254-330318c85eb0 ]] {\r\n",
       "}\r\n",
       "rec usage \"z\" as E8  <<(T,blue)attribute>> [[psysml:da180d87-042d-4ade-81c9-b5201399a446 ]] {\r\n",
       "}\r\n",
       "E3 ..>> E4 [[psysml:ddd06611-1e40-467d-8133-a183585a6da5 ]] : <<depend>>\r\n",
       "E4 ..>> E5 [[psysml:b5c0928c-fbc9-4433-ab1e-c084bfbcebd5 ]] : <<depend>>\r\n",
       "E8 ..>> E6 [[psysml:a0e318cd-0c17-433c-bc04-dbf1eaa3473c ]] : <<depend>>\r\n",
       "E8 ..>> E7 [[psysml:a0e318cd-0c17-433c-bc04-dbf1eaa3473c ]] : <<depend>>\r\n",
       "}\r\n",
       "@enduml\r\n",
       "\n",
       "PlantUML version 1.2020.13(Sat Jun 13 12:26:38 UTC 2020)\n",
       "(EPL source distribution)\n",
       "Java Runtime: OpenJDK Runtime Environment\n",
       "JVM: OpenJDK 64-Bit Server VM\n",
       "Default Encoding: UTF-8\n",
       "Language: en\n",
       "Country: null\n",
       "--></g></svg>"
      ]
     },
     "execution_count": 26,
     "metadata": {},
     "output_type": "execute_result"
    }
   ],
   "source": [
    "%viz --style=\"STDCOLOR\" --view=\"Interconnection\" \"DependencyTest\""
   ]
  },
  {
   "cell_type": "code",
   "execution_count": 27,
   "id": "short-blanket",
   "metadata": {
    "execution": {
     "iopub.execute_input": "2021-03-25T15:09:47.913930Z",
     "iopub.status.busy": "2021-03-25T15:09:47.913168Z",
     "iopub.status.idle": "2021-03-25T15:09:47.920434Z",
     "shell.execute_reply": "2021-03-25T15:09:47.920018Z"
    }
   },
   "outputs": [
    {
     "data": {
      "image/svg+xml": [
       "<?xml version=\"1.0\" encoding=\"UTF-8\" standalone=\"no\"?><svg xmlns=\"http://www.w3.org/2000/svg\" xmlns:xlink=\"http://www.w3.org/1999/xlink\" contentScriptType=\"application/ecmascript\" contentStyleType=\"text/css\" height=\"12px\" preserveAspectRatio=\"none\" style=\"width:12px;height:12px;\" version=\"1.1\" viewBox=\"0 0 12 12\" width=\"12px\" zoomAndPan=\"magnify\"><defs/><g><!--MD5=[9863325348a96a77dacc89509d8ee65e]\n",
       "@startuml\r\n",
       "skinparam ranksep 8\r\n",
       "skinparam wrapWidth 300\r\n",
       "hide circle\r\n",
       "\r\n",
       "@enduml\r\n",
       "\n",
       "PlantUML version 1.2020.13(Sat Jun 13 12:26:38 UTC 2020)\n",
       "(EPL source distribution)\n",
       "Java Runtime: OpenJDK Runtime Environment\n",
       "JVM: OpenJDK 64-Bit Server VM\n",
       "Default Encoding: UTF-8\n",
       "Language: en\n",
       "Country: null\n",
       "--></g></svg>"
      ]
     },
     "execution_count": 27,
     "metadata": {},
     "output_type": "execute_result"
    }
   ],
   "source": [
    "%viz --style=\"STDCOLOR\" --view=\"Action\" \"DependencyTest\""
   ]
  },
  {
   "cell_type": "code",
   "execution_count": 28,
   "id": "adjusted-command",
   "metadata": {
    "execution": {
     "iopub.execute_input": "2021-03-25T15:09:47.972367Z",
     "iopub.status.busy": "2021-03-25T15:09:47.971581Z",
     "iopub.status.idle": "2021-03-25T15:09:48.072840Z",
     "shell.execute_reply": "2021-03-25T15:09:48.073540Z"
    }
   },
   "outputs": [
    {
     "data": {
      "image/svg+xml": [
       "<?xml version=\"1.0\" encoding=\"UTF-8\" standalone=\"no\"?><svg xmlns=\"http://www.w3.org/2000/svg\" xmlns:xlink=\"http://www.w3.org/1999/xlink\" contentScriptType=\"application/ecmascript\" contentStyleType=\"text/css\" height=\"449px\" preserveAspectRatio=\"none\" style=\"width:489px;height:449px;\" version=\"1.1\" viewBox=\"0 0 489 449\" width=\"489px\" zoomAndPan=\"magnify\"><defs><filter height=\"300%\" id=\"f2dr95ph3epa3\" width=\"300%\" x=\"-1\" y=\"-1\"><feGaussianBlur result=\"blurOut\" stdDeviation=\"2.0\"/><feColorMatrix in=\"blurOut\" result=\"blurOut2\" type=\"matrix\" values=\"0 0 0 0 0 0 0 0 0 0 0 0 0 0 0 0 0 0 .4 0\"/><feOffset dx=\"4.0\" dy=\"4.0\" in=\"blurOut2\" result=\"blurOut3\"/><feBlend in=\"SourceGraphic\" in2=\"blurOut3\" mode=\"normal\"/></filter></defs><g><!--MD5=[fbc87193dbaf4d95561dea2c320d4a47]\n",
       "cluster E1--><a href=\"psysml:01e86263-1e08-4c5e-80c8-9f3a01cb2b1c\" target=\"_top\" title=\"psysml:01e86263-1e08-4c5e-80c8-9f3a01cb2b1c\" xlink:actuate=\"onRequest\" xlink:href=\"psysml:01e86263-1e08-4c5e-80c8-9f3a01cb2b1c\" xlink:show=\"new\" xlink:title=\"psysml:01e86263-1e08-4c5e-80c8-9f3a01cb2b1c\" xlink:type=\"simple\"><polygon fill=\"#FFFFFF\" filter=\"url(#f2dr95ph3epa3)\" points=\"16,6,156,6,163,28.2969,467,28.2969,467,437,16,437,16,6\" style=\"stroke: #000000; stroke-width: 1.5;\"/><line style=\"stroke: #000000; stroke-width: 1.5;\" x1=\"16\" x2=\"163\" y1=\"28.2969\" y2=\"28.2969\"/><text fill=\"#000000\" font-family=\"sans-serif\" font-size=\"14\" font-weight=\"bold\" lengthAdjust=\"spacingAndGlyphs\" textLength=\"134\" x=\"20\" y=\"20.9951\">DependencyTest</text></a><!--MD5=[e4f7fae6ed58524ba242bb0b0d3be6b7]\n",
       "cluster E2--><a href=\"psysml:65d9c171-277b-4a12-8988-537cd17218fe\" target=\"_top\" title=\"psysml:65d9c171-277b-4a12-8988-537cd17218fe\" xlink:actuate=\"onRequest\" xlink:href=\"psysml:65d9c171-277b-4a12-8988-537cd17218fe\" xlink:show=\"new\" xlink:title=\"psysml:65d9c171-277b-4a12-8988-537cd17218fe\" xlink:type=\"simple\"><polygon fill=\"#FFFFFF\" filter=\"url(#f2dr95ph3epa3)\" points=\"255,49,319,49,326,71.2969,443,71.2969,443,413,255,413,255,49\" style=\"stroke: #000000; stroke-width: 1.5;\"/><line style=\"stroke: #000000; stroke-width: 1.5;\" x1=\"255\" x2=\"326\" y1=\"71.2969\" y2=\"71.2969\"/><text fill=\"#000000\" font-family=\"sans-serif\" font-size=\"14\" font-weight=\"bold\" lengthAdjust=\"spacingAndGlyphs\" textLength=\"58\" x=\"259\" y=\"63.9951\">System</text></a><!--MD5=[60a26617385b1d2d0262a64233df1f8d]\n",
       "class E6--><a href=\"psysml:3f429861-8945-458a-afac-b9814097464d\" target=\"_top\" title=\"psysml:3f429861-8945-458a-afac-b9814097464d\" xlink:actuate=\"onRequest\" xlink:href=\"psysml:3f429861-8945-458a-afac-b9814097464d\" xlink:show=\"new\" xlink:title=\"psysml:3f429861-8945-458a-afac-b9814097464d\" xlink:type=\"simple\"><rect fill=\"#FEFECE\" filter=\"url(#f2dr95ph3epa3)\" height=\"45.9375\" id=\"E6\" rx=\"10\" ry=\"10\" style=\"stroke: #A80036; stroke-width: 1.5;\" width=\"71\" x=\"32.5\" y=\"217.5\"/><text fill=\"#000000\" font-family=\"sans-serif\" font-size=\"12\" font-style=\"italic\" lengthAdjust=\"spacingAndGlyphs\" textLength=\"69\" x=\"33.5\" y=\"233.6387\">«attribute»</text><text fill=\"#000000\" font-family=\"sans-serif\" font-size=\"12\" lengthAdjust=\"spacingAndGlyphs\" textLength=\"6\" x=\"65\" y=\"247.6074\">x</text><line style=\"stroke: #A80036; stroke-width: 1.5;\" x1=\"33.5\" x2=\"102.5\" y1=\"255.4375\" y2=\"255.4375\"/></a><!--MD5=[2156ba9850f5573cc1fc38a6a4b2f02b]\n",
       "class E7--><a href=\"psysml:f3318431-0d45-43ea-b254-330318c85eb0\" target=\"_top\" title=\"psysml:f3318431-0d45-43ea-b254-330318c85eb0\" xlink:actuate=\"onRequest\" xlink:href=\"psysml:f3318431-0d45-43ea-b254-330318c85eb0\" xlink:show=\"new\" xlink:title=\"psysml:f3318431-0d45-43ea-b254-330318c85eb0\" xlink:type=\"simple\"><rect fill=\"#FEFECE\" filter=\"url(#f2dr95ph3epa3)\" height=\"45.9375\" id=\"E7\" rx=\"10\" ry=\"10\" style=\"stroke: #A80036; stroke-width: 1.5;\" width=\"71\" x=\"138.5\" y=\"217.5\"/><text fill=\"#000000\" font-family=\"sans-serif\" font-size=\"12\" font-style=\"italic\" lengthAdjust=\"spacingAndGlyphs\" textLength=\"69\" x=\"139.5\" y=\"233.6387\">«attribute»</text><text fill=\"#000000\" font-family=\"sans-serif\" font-size=\"12\" lengthAdjust=\"spacingAndGlyphs\" textLength=\"6\" x=\"171\" y=\"247.6074\">y</text><line style=\"stroke: #A80036; stroke-width: 1.5;\" x1=\"139.5\" x2=\"208.5\" y1=\"255.4375\" y2=\"255.4375\"/></a><!--MD5=[b9389687b975829384b498ac4b7476b2]\n",
       "class E8--><a href=\"psysml:da180d87-042d-4ade-81c9-b5201399a446\" target=\"_top\" title=\"psysml:da180d87-042d-4ade-81c9-b5201399a446\" xlink:actuate=\"onRequest\" xlink:href=\"psysml:da180d87-042d-4ade-81c9-b5201399a446\" xlink:show=\"new\" xlink:title=\"psysml:da180d87-042d-4ade-81c9-b5201399a446\" xlink:type=\"simple\"><rect fill=\"#FEFECE\" filter=\"url(#f2dr95ph3epa3)\" height=\"45.9375\" id=\"E8\" rx=\"10\" ry=\"10\" style=\"stroke: #A80036; stroke-width: 1.5;\" width=\"71\" x=\"84.5\" y=\"87.5\"/><text fill=\"#000000\" font-family=\"sans-serif\" font-size=\"12\" font-style=\"italic\" lengthAdjust=\"spacingAndGlyphs\" textLength=\"69\" x=\"85.5\" y=\"103.6387\">«attribute»</text><text fill=\"#000000\" font-family=\"sans-serif\" font-size=\"12\" lengthAdjust=\"spacingAndGlyphs\" textLength=\"5\" x=\"117.5\" y=\"117.6074\">z</text><line style=\"stroke: #A80036; stroke-width: 1.5;\" x1=\"85.5\" x2=\"154.5\" y1=\"125.4375\" y2=\"125.4375\"/></a><a href=\"psysml:7bbe8935-ee6e-44c3-abf9-e711bcee98e7\" target=\"_top\" title=\"psysml:7bbe8935-ee6e-44c3-abf9-e711bcee98e7\" xlink:actuate=\"onRequest\" xlink:href=\"psysml:7bbe8935-ee6e-44c3-abf9-e711bcee98e7\" xlink:show=\"new\" xlink:title=\"psysml:7bbe8935-ee6e-44c3-abf9-e711bcee98e7\" xlink:type=\"simple\"><polygon fill=\"#FFFFFF\" filter=\"url(#f2dr95ph3epa3)\" points=\"271,84,413,84,420,106.2969,427,106.2969,427,136.5938,271,136.5938,271,84\" style=\"stroke: #000000; stroke-width: 1.5;\"/><line style=\"stroke: #000000; stroke-width: 1.5;\" x1=\"271\" x2=\"420\" y1=\"106.2969\" y2=\"106.2969\"/><text fill=\"#000000\" font-family=\"sans-serif\" font-size=\"14\" font-weight=\"bold\" lengthAdjust=\"spacingAndGlyphs\" textLength=\"136\" x=\"275\" y=\"98.9951\">Application Layer</text></a><a href=\"psysml:8539df59-9777-43d1-9cbc-191f1e3b0af0\" target=\"_top\" title=\"psysml:8539df59-9777-43d1-9cbc-191f1e3b0af0\" xlink:actuate=\"onRequest\" xlink:href=\"psysml:8539df59-9777-43d1-9cbc-191f1e3b0af0\" xlink:show=\"new\" xlink:title=\"psysml:8539df59-9777-43d1-9cbc-191f1e3b0af0\" xlink:type=\"simple\"><polygon fill=\"#FFFFFF\" filter=\"url(#f2dr95ph3epa3)\" points=\"285,214,399,214,406,236.2969,413,236.2969,413,266.5938,285,266.5938,285,214\" style=\"stroke: #000000; stroke-width: 1.5;\"/><line style=\"stroke: #000000; stroke-width: 1.5;\" x1=\"285\" x2=\"406\" y1=\"236.2969\" y2=\"236.2969\"/><text fill=\"#000000\" font-family=\"sans-serif\" font-size=\"14\" font-weight=\"bold\" lengthAdjust=\"spacingAndGlyphs\" textLength=\"108\" x=\"289\" y=\"228.9951\">Service Layer</text></a><a href=\"psysml:06e8cf4d-e880-4b5c-8fdb-0871598a4cb3\" target=\"_top\" title=\"psysml:06e8cf4d-e880-4b5c-8fdb-0871598a4cb3\" xlink:actuate=\"onRequest\" xlink:href=\"psysml:06e8cf4d-e880-4b5c-8fdb-0871598a4cb3\" xlink:show=\"new\" xlink:title=\"psysml:06e8cf4d-e880-4b5c-8fdb-0871598a4cb3\" xlink:type=\"simple\"><polygon fill=\"#FFFFFF\" filter=\"url(#f2dr95ph3epa3)\" points=\"297,344,387,344,394,366.2969,401,366.2969,401,396.5938,297,396.5938,297,344\" style=\"stroke: #000000; stroke-width: 1.5;\"/><line style=\"stroke: #000000; stroke-width: 1.5;\" x1=\"297\" x2=\"394\" y1=\"366.2969\" y2=\"366.2969\"/><text fill=\"#000000\" font-family=\"sans-serif\" font-size=\"14\" font-weight=\"bold\" lengthAdjust=\"spacingAndGlyphs\" textLength=\"84\" x=\"301\" y=\"358.9951\">Data Layer</text></a><!--MD5=[af87c684e3b0d8be13c1a698a818ef1e]\n",
       "link E3 to E4--><a href=\"psysml:ddd06611-1e40-467d-8133-a183585a6da5\" target=\"_top\" title=\"psysml:ddd06611-1e40-467d-8133-a183585a6da5\" xlink:actuate=\"onRequest\" xlink:href=\"psysml:ddd06611-1e40-467d-8133-a183585a6da5\" xlink:show=\"new\" xlink:title=\"psysml:ddd06611-1e40-467d-8133-a183585a6da5\" xlink:type=\"simple\"><path d=\"M349,137.1 C349,156.8 349,184.22 349,205.73 \" fill=\"none\" id=\"E3-&gt;E4\" style=\"stroke: #A80036; stroke-width: 1.0; stroke-dasharray: 7.0,7.0;\"/><polygon fill=\"#A80036\" points=\"349,213.95,352,205.95,346,205.95,349,213.95\" style=\"stroke: #A80036; stroke-width: 1.0;\"/><text fill=\"#000000\" font-family=\"sans-serif\" font-size=\"13\" lengthAdjust=\"spacingAndGlyphs\" textLength=\"64\" x=\"350\" y=\"180.0669\">«depend»</text></a><!--MD5=[1b7591eae5389033d8d09a9d6721a717]\n",
       "link E4 to E5--><a href=\"psysml:b5c0928c-fbc9-4433-ab1e-c084bfbcebd5\" target=\"_top\" title=\"psysml:b5c0928c-fbc9-4433-ab1e-c084bfbcebd5\" xlink:actuate=\"onRequest\" xlink:href=\"psysml:b5c0928c-fbc9-4433-ab1e-c084bfbcebd5\" xlink:show=\"new\" xlink:title=\"psysml:b5c0928c-fbc9-4433-ab1e-c084bfbcebd5\" xlink:type=\"simple\"><path d=\"M349,267.1 C349,286.8 349,314.22 349,335.73 \" fill=\"none\" id=\"E4-&gt;E5\" style=\"stroke: #A80036; stroke-width: 1.0; stroke-dasharray: 7.0,7.0;\"/><polygon fill=\"#A80036\" points=\"349,343.95,352,335.95,346,335.95,349,343.95\" style=\"stroke: #A80036; stroke-width: 1.0;\"/><text fill=\"#000000\" font-family=\"sans-serif\" font-size=\"13\" lengthAdjust=\"spacingAndGlyphs\" textLength=\"64\" x=\"350\" y=\"310.0669\">«depend»</text></a><!--MD5=[c5e8897d989ce984f93528998a7150fe]\n",
       "link E8 to E6--><a href=\"psysml:a0e318cd-0c17-433c-bc04-dbf1eaa3473c\" target=\"_top\" title=\"psysml:a0e318cd-0c17-433c-bc04-dbf1eaa3473c\" xlink:actuate=\"onRequest\" xlink:href=\"psysml:a0e318cd-0c17-433c-bc04-dbf1eaa3473c\" xlink:show=\"new\" xlink:title=\"psysml:a0e318cd-0c17-433c-bc04-dbf1eaa3473c\" xlink:type=\"simple\"><path d=\"M89.42,133.6 C79.35,142.68 69.37,154.11 64,167 C58.5,180.2 58.66,195.94 60.54,209.38 \" fill=\"none\" id=\"E8-&gt;E6\" style=\"stroke: #A80036; stroke-width: 1.0; stroke-dasharray: 7.0,7.0;\"/><polygon fill=\"#A80036\" points=\"61.9,217.4,63.517,209.0104,57.6018,210.0159,61.9,217.4\" style=\"stroke: #A80036; stroke-width: 1.0;\"/><text fill=\"#000000\" font-family=\"sans-serif\" font-size=\"13\" lengthAdjust=\"spacingAndGlyphs\" textLength=\"64\" x=\"65\" y=\"180.0669\">«depend»</text></a><!--MD5=[bfa3c8b0d15052fdf50ae9310b491027]\n",
       "link E8 to E7--><a href=\"psysml:a0e318cd-0c17-433c-bc04-dbf1eaa3473c\" target=\"_top\" title=\"psysml:a0e318cd-0c17-433c-bc04-dbf1eaa3473c\" xlink:actuate=\"onRequest\" xlink:href=\"psysml:a0e318cd-0c17-433c-bc04-dbf1eaa3473c\" xlink:show=\"new\" xlink:title=\"psysml:a0e318cd-0c17-433c-bc04-dbf1eaa3473c\" xlink:type=\"simple\"><path d=\"M129.28,133.5 C138.17,154.57 151.64,186.5 161.47,209.81 \" fill=\"none\" id=\"E8-&gt;E7\" style=\"stroke: #A80036; stroke-width: 1.0; stroke-dasharray: 7.0,7.0;\"/><polygon fill=\"#A80036\" points=\"164.66,217.35,164.3241,208.8126,158.7933,211.1385,164.66,217.35\" style=\"stroke: #A80036; stroke-width: 1.0;\"/><text fill=\"#000000\" font-family=\"sans-serif\" font-size=\"13\" lengthAdjust=\"spacingAndGlyphs\" textLength=\"64\" x=\"151\" y=\"180.0669\">«depend»</text></a><!--MD5=[1d6a17464409b76b01acef9d00b3429a]\n",
       "@startuml\r\n",
       "skinparam wrapWidth 300\r\n",
       "hide circle\r\n",
       "\r\n",
       "package \"DependencyTest\" as E1  [[psysml:01e86263-1e08-4c5e-80c8-9f3a01cb2b1c ]]  {\r\n",
       "package \"System\" as E2  [[psysml:65d9c171-277b-4a12-8988-537cd17218fe ]]  {\r\n",
       "package \"Application Layer\" as E3  [[psysml:7bbe8935-ee6e-44c3-abf9-e711bcee98e7 ]]  {\r\n",
       "}\r\n",
       "package \"Service Layer\" as E4  [[psysml:8539df59-9777-43d1-9cbc-191f1e3b0af0 ]]  {\r\n",
       "}\r\n",
       "package \"Data Layer\" as E5  [[psysml:06e8cf4d-e880-4b5c-8fdb-0871598a4cb3 ]]  {\r\n",
       "}\r\n",
       "}\r\n",
       "comp usage \"x\" as E6  <<(T,blue)attribute>> [[psysml:3f429861-8945-458a-afac-b9814097464d ]] {\r\n",
       "}\r\n",
       "comp usage \"y\" as E7  <<(T,blue)attribute>> [[psysml:f3318431-0d45-43ea-b254-330318c85eb0 ]] {\r\n",
       "}\r\n",
       "comp usage \"z\" as E8  <<(T,blue)attribute>> [[psysml:da180d87-042d-4ade-81c9-b5201399a446 ]] {\r\n",
       "}\r\n",
       "E3 ..>> E4 [[psysml:ddd06611-1e40-467d-8133-a183585a6da5 ]] : <<depend>>\r\n",
       "E4 ..>> E5 [[psysml:b5c0928c-fbc9-4433-ab1e-c084bfbcebd5 ]] : <<depend>>\r\n",
       "E8 ..>> E6 [[psysml:a0e318cd-0c17-433c-bc04-dbf1eaa3473c ]] : <<depend>>\r\n",
       "E8 ..>> E7 [[psysml:a0e318cd-0c17-433c-bc04-dbf1eaa3473c ]] : <<depend>>\r\n",
       "}\r\n",
       "@enduml\r\n",
       "\n",
       "PlantUML version 1.2020.13(Sat Jun 13 12:26:38 UTC 2020)\n",
       "(EPL source distribution)\n",
       "Java Runtime: OpenJDK Runtime Environment\n",
       "JVM: OpenJDK 64-Bit Server VM\n",
       "Default Encoding: UTF-8\n",
       "Language: en\n",
       "Country: null\n",
       "--></g></svg>"
      ]
     },
     "execution_count": 28,
     "metadata": {},
     "output_type": "execute_result"
    }
   ],
   "source": [
    "%viz --style=\"STDCOLOR\" --view=\"Sequence\" \"DependencyTest\""
   ]
  },
  {
   "cell_type": "code",
   "execution_count": 29,
   "id": "bigger-pearl",
   "metadata": {
    "execution": {
     "iopub.execute_input": "2021-03-25T15:09:48.123908Z",
     "iopub.status.busy": "2021-03-25T15:09:48.123047Z",
     "iopub.status.idle": "2021-03-25T15:09:48.236065Z",
     "shell.execute_reply": "2021-03-25T15:09:48.234570Z"
    }
   },
   "outputs": [
    {
     "data": {
      "image/svg+xml": [
       "<?xml version=\"1.0\" encoding=\"UTF-8\" standalone=\"no\"?><svg xmlns=\"http://www.w3.org/2000/svg\" xmlns:xlink=\"http://www.w3.org/1999/xlink\" contentScriptType=\"application/ecmascript\" contentStyleType=\"text/css\" height=\"449px\" preserveAspectRatio=\"none\" style=\"width:489px;height:449px;\" version=\"1.1\" viewBox=\"0 0 489 449\" width=\"489px\" zoomAndPan=\"magnify\"><defs><filter height=\"300%\" id=\"f2dr95ph3epa3\" width=\"300%\" x=\"-1\" y=\"-1\"><feGaussianBlur result=\"blurOut\" stdDeviation=\"2.0\"/><feColorMatrix in=\"blurOut\" result=\"blurOut2\" type=\"matrix\" values=\"0 0 0 0 0 0 0 0 0 0 0 0 0 0 0 0 0 0 .4 0\"/><feOffset dx=\"4.0\" dy=\"4.0\" in=\"blurOut2\" result=\"blurOut3\"/><feBlend in=\"SourceGraphic\" in2=\"blurOut3\" mode=\"normal\"/></filter></defs><g><!--MD5=[fbc87193dbaf4d95561dea2c320d4a47]\n",
       "cluster E1--><a href=\"psysml:01e86263-1e08-4c5e-80c8-9f3a01cb2b1c\" target=\"_top\" title=\"psysml:01e86263-1e08-4c5e-80c8-9f3a01cb2b1c\" xlink:actuate=\"onRequest\" xlink:href=\"psysml:01e86263-1e08-4c5e-80c8-9f3a01cb2b1c\" xlink:show=\"new\" xlink:title=\"psysml:01e86263-1e08-4c5e-80c8-9f3a01cb2b1c\" xlink:type=\"simple\"><polygon fill=\"#FFFFFF\" filter=\"url(#f2dr95ph3epa3)\" points=\"16,6,156,6,163,28.2969,467,28.2969,467,437,16,437,16,6\" style=\"stroke: #000000; stroke-width: 1.5;\"/><line style=\"stroke: #000000; stroke-width: 1.5;\" x1=\"16\" x2=\"163\" y1=\"28.2969\" y2=\"28.2969\"/><text fill=\"#000000\" font-family=\"sans-serif\" font-size=\"14\" font-weight=\"bold\" lengthAdjust=\"spacingAndGlyphs\" textLength=\"134\" x=\"20\" y=\"20.9951\">DependencyTest</text></a><!--MD5=[e4f7fae6ed58524ba242bb0b0d3be6b7]\n",
       "cluster E2--><a href=\"psysml:65d9c171-277b-4a12-8988-537cd17218fe\" target=\"_top\" title=\"psysml:65d9c171-277b-4a12-8988-537cd17218fe\" xlink:actuate=\"onRequest\" xlink:href=\"psysml:65d9c171-277b-4a12-8988-537cd17218fe\" xlink:show=\"new\" xlink:title=\"psysml:65d9c171-277b-4a12-8988-537cd17218fe\" xlink:type=\"simple\"><polygon fill=\"#FFFFFF\" filter=\"url(#f2dr95ph3epa3)\" points=\"255,49,319,49,326,71.2969,443,71.2969,443,413,255,413,255,49\" style=\"stroke: #000000; stroke-width: 1.5;\"/><line style=\"stroke: #000000; stroke-width: 1.5;\" x1=\"255\" x2=\"326\" y1=\"71.2969\" y2=\"71.2969\"/><text fill=\"#000000\" font-family=\"sans-serif\" font-size=\"14\" font-weight=\"bold\" lengthAdjust=\"spacingAndGlyphs\" textLength=\"58\" x=\"259\" y=\"63.9951\">System</text></a><!--MD5=[60a26617385b1d2d0262a64233df1f8d]\n",
       "class E6--><a href=\"psysml:3f429861-8945-458a-afac-b9814097464d\" target=\"_top\" title=\"psysml:3f429861-8945-458a-afac-b9814097464d\" xlink:actuate=\"onRequest\" xlink:href=\"psysml:3f429861-8945-458a-afac-b9814097464d\" xlink:show=\"new\" xlink:title=\"psysml:3f429861-8945-458a-afac-b9814097464d\" xlink:type=\"simple\"><rect fill=\"#FEFECE\" filter=\"url(#f2dr95ph3epa3)\" height=\"45.9375\" id=\"E6\" rx=\"10\" ry=\"10\" style=\"stroke: #A80036; stroke-width: 1.5;\" width=\"71\" x=\"32.5\" y=\"217.5\"/><text fill=\"#000000\" font-family=\"sans-serif\" font-size=\"12\" font-style=\"italic\" lengthAdjust=\"spacingAndGlyphs\" textLength=\"69\" x=\"33.5\" y=\"233.6387\">«attribute»</text><text fill=\"#000000\" font-family=\"sans-serif\" font-size=\"12\" lengthAdjust=\"spacingAndGlyphs\" textLength=\"6\" x=\"65\" y=\"247.6074\">x</text><line style=\"stroke: #A80036; stroke-width: 1.5;\" x1=\"33.5\" x2=\"102.5\" y1=\"255.4375\" y2=\"255.4375\"/></a><!--MD5=[2156ba9850f5573cc1fc38a6a4b2f02b]\n",
       "class E7--><a href=\"psysml:f3318431-0d45-43ea-b254-330318c85eb0\" target=\"_top\" title=\"psysml:f3318431-0d45-43ea-b254-330318c85eb0\" xlink:actuate=\"onRequest\" xlink:href=\"psysml:f3318431-0d45-43ea-b254-330318c85eb0\" xlink:show=\"new\" xlink:title=\"psysml:f3318431-0d45-43ea-b254-330318c85eb0\" xlink:type=\"simple\"><rect fill=\"#FEFECE\" filter=\"url(#f2dr95ph3epa3)\" height=\"45.9375\" id=\"E7\" rx=\"10\" ry=\"10\" style=\"stroke: #A80036; stroke-width: 1.5;\" width=\"71\" x=\"138.5\" y=\"217.5\"/><text fill=\"#000000\" font-family=\"sans-serif\" font-size=\"12\" font-style=\"italic\" lengthAdjust=\"spacingAndGlyphs\" textLength=\"69\" x=\"139.5\" y=\"233.6387\">«attribute»</text><text fill=\"#000000\" font-family=\"sans-serif\" font-size=\"12\" lengthAdjust=\"spacingAndGlyphs\" textLength=\"6\" x=\"171\" y=\"247.6074\">y</text><line style=\"stroke: #A80036; stroke-width: 1.5;\" x1=\"139.5\" x2=\"208.5\" y1=\"255.4375\" y2=\"255.4375\"/></a><!--MD5=[b9389687b975829384b498ac4b7476b2]\n",
       "class E8--><a href=\"psysml:da180d87-042d-4ade-81c9-b5201399a446\" target=\"_top\" title=\"psysml:da180d87-042d-4ade-81c9-b5201399a446\" xlink:actuate=\"onRequest\" xlink:href=\"psysml:da180d87-042d-4ade-81c9-b5201399a446\" xlink:show=\"new\" xlink:title=\"psysml:da180d87-042d-4ade-81c9-b5201399a446\" xlink:type=\"simple\"><rect fill=\"#FEFECE\" filter=\"url(#f2dr95ph3epa3)\" height=\"45.9375\" id=\"E8\" rx=\"10\" ry=\"10\" style=\"stroke: #A80036; stroke-width: 1.5;\" width=\"71\" x=\"84.5\" y=\"87.5\"/><text fill=\"#000000\" font-family=\"sans-serif\" font-size=\"12\" font-style=\"italic\" lengthAdjust=\"spacingAndGlyphs\" textLength=\"69\" x=\"85.5\" y=\"103.6387\">«attribute»</text><text fill=\"#000000\" font-family=\"sans-serif\" font-size=\"12\" lengthAdjust=\"spacingAndGlyphs\" textLength=\"5\" x=\"117.5\" y=\"117.6074\">z</text><line style=\"stroke: #A80036; stroke-width: 1.5;\" x1=\"85.5\" x2=\"154.5\" y1=\"125.4375\" y2=\"125.4375\"/></a><a href=\"psysml:7bbe8935-ee6e-44c3-abf9-e711bcee98e7\" target=\"_top\" title=\"psysml:7bbe8935-ee6e-44c3-abf9-e711bcee98e7\" xlink:actuate=\"onRequest\" xlink:href=\"psysml:7bbe8935-ee6e-44c3-abf9-e711bcee98e7\" xlink:show=\"new\" xlink:title=\"psysml:7bbe8935-ee6e-44c3-abf9-e711bcee98e7\" xlink:type=\"simple\"><polygon fill=\"#FFFFFF\" filter=\"url(#f2dr95ph3epa3)\" points=\"271,84,413,84,420,106.2969,427,106.2969,427,136.5938,271,136.5938,271,84\" style=\"stroke: #000000; stroke-width: 1.5;\"/><line style=\"stroke: #000000; stroke-width: 1.5;\" x1=\"271\" x2=\"420\" y1=\"106.2969\" y2=\"106.2969\"/><text fill=\"#000000\" font-family=\"sans-serif\" font-size=\"14\" font-weight=\"bold\" lengthAdjust=\"spacingAndGlyphs\" textLength=\"136\" x=\"275\" y=\"98.9951\">Application Layer</text></a><a href=\"psysml:8539df59-9777-43d1-9cbc-191f1e3b0af0\" target=\"_top\" title=\"psysml:8539df59-9777-43d1-9cbc-191f1e3b0af0\" xlink:actuate=\"onRequest\" xlink:href=\"psysml:8539df59-9777-43d1-9cbc-191f1e3b0af0\" xlink:show=\"new\" xlink:title=\"psysml:8539df59-9777-43d1-9cbc-191f1e3b0af0\" xlink:type=\"simple\"><polygon fill=\"#FFFFFF\" filter=\"url(#f2dr95ph3epa3)\" points=\"285,214,399,214,406,236.2969,413,236.2969,413,266.5938,285,266.5938,285,214\" style=\"stroke: #000000; stroke-width: 1.5;\"/><line style=\"stroke: #000000; stroke-width: 1.5;\" x1=\"285\" x2=\"406\" y1=\"236.2969\" y2=\"236.2969\"/><text fill=\"#000000\" font-family=\"sans-serif\" font-size=\"14\" font-weight=\"bold\" lengthAdjust=\"spacingAndGlyphs\" textLength=\"108\" x=\"289\" y=\"228.9951\">Service Layer</text></a><a href=\"psysml:06e8cf4d-e880-4b5c-8fdb-0871598a4cb3\" target=\"_top\" title=\"psysml:06e8cf4d-e880-4b5c-8fdb-0871598a4cb3\" xlink:actuate=\"onRequest\" xlink:href=\"psysml:06e8cf4d-e880-4b5c-8fdb-0871598a4cb3\" xlink:show=\"new\" xlink:title=\"psysml:06e8cf4d-e880-4b5c-8fdb-0871598a4cb3\" xlink:type=\"simple\"><polygon fill=\"#FFFFFF\" filter=\"url(#f2dr95ph3epa3)\" points=\"297,344,387,344,394,366.2969,401,366.2969,401,396.5938,297,396.5938,297,344\" style=\"stroke: #000000; stroke-width: 1.5;\"/><line style=\"stroke: #000000; stroke-width: 1.5;\" x1=\"297\" x2=\"394\" y1=\"366.2969\" y2=\"366.2969\"/><text fill=\"#000000\" font-family=\"sans-serif\" font-size=\"14\" font-weight=\"bold\" lengthAdjust=\"spacingAndGlyphs\" textLength=\"84\" x=\"301\" y=\"358.9951\">Data Layer</text></a><!--MD5=[af87c684e3b0d8be13c1a698a818ef1e]\n",
       "link E3 to E4--><a href=\"psysml:ddd06611-1e40-467d-8133-a183585a6da5\" target=\"_top\" title=\"psysml:ddd06611-1e40-467d-8133-a183585a6da5\" xlink:actuate=\"onRequest\" xlink:href=\"psysml:ddd06611-1e40-467d-8133-a183585a6da5\" xlink:show=\"new\" xlink:title=\"psysml:ddd06611-1e40-467d-8133-a183585a6da5\" xlink:type=\"simple\"><path d=\"M349,137.1 C349,156.8 349,184.22 349,205.73 \" fill=\"none\" id=\"E3-&gt;E4\" style=\"stroke: #A80036; stroke-width: 1.0; stroke-dasharray: 7.0,7.0;\"/><polygon fill=\"#A80036\" points=\"349,213.95,352,205.95,346,205.95,349,213.95\" style=\"stroke: #A80036; stroke-width: 1.0;\"/><text fill=\"#000000\" font-family=\"sans-serif\" font-size=\"13\" lengthAdjust=\"spacingAndGlyphs\" textLength=\"64\" x=\"350\" y=\"180.0669\">«depend»</text></a><!--MD5=[1b7591eae5389033d8d09a9d6721a717]\n",
       "link E4 to E5--><a href=\"psysml:b5c0928c-fbc9-4433-ab1e-c084bfbcebd5\" target=\"_top\" title=\"psysml:b5c0928c-fbc9-4433-ab1e-c084bfbcebd5\" xlink:actuate=\"onRequest\" xlink:href=\"psysml:b5c0928c-fbc9-4433-ab1e-c084bfbcebd5\" xlink:show=\"new\" xlink:title=\"psysml:b5c0928c-fbc9-4433-ab1e-c084bfbcebd5\" xlink:type=\"simple\"><path d=\"M349,267.1 C349,286.8 349,314.22 349,335.73 \" fill=\"none\" id=\"E4-&gt;E5\" style=\"stroke: #A80036; stroke-width: 1.0; stroke-dasharray: 7.0,7.0;\"/><polygon fill=\"#A80036\" points=\"349,343.95,352,335.95,346,335.95,349,343.95\" style=\"stroke: #A80036; stroke-width: 1.0;\"/><text fill=\"#000000\" font-family=\"sans-serif\" font-size=\"13\" lengthAdjust=\"spacingAndGlyphs\" textLength=\"64\" x=\"350\" y=\"310.0669\">«depend»</text></a><!--MD5=[c5e8897d989ce984f93528998a7150fe]\n",
       "link E8 to E6--><a href=\"psysml:a0e318cd-0c17-433c-bc04-dbf1eaa3473c\" target=\"_top\" title=\"psysml:a0e318cd-0c17-433c-bc04-dbf1eaa3473c\" xlink:actuate=\"onRequest\" xlink:href=\"psysml:a0e318cd-0c17-433c-bc04-dbf1eaa3473c\" xlink:show=\"new\" xlink:title=\"psysml:a0e318cd-0c17-433c-bc04-dbf1eaa3473c\" xlink:type=\"simple\"><path d=\"M89.42,133.6 C79.35,142.68 69.37,154.11 64,167 C58.5,180.2 58.66,195.94 60.54,209.38 \" fill=\"none\" id=\"E8-&gt;E6\" style=\"stroke: #A80036; stroke-width: 1.0; stroke-dasharray: 7.0,7.0;\"/><polygon fill=\"#A80036\" points=\"61.9,217.4,63.517,209.0104,57.6018,210.0159,61.9,217.4\" style=\"stroke: #A80036; stroke-width: 1.0;\"/><text fill=\"#000000\" font-family=\"sans-serif\" font-size=\"13\" lengthAdjust=\"spacingAndGlyphs\" textLength=\"64\" x=\"65\" y=\"180.0669\">«depend»</text></a><!--MD5=[bfa3c8b0d15052fdf50ae9310b491027]\n",
       "link E8 to E7--><a href=\"psysml:a0e318cd-0c17-433c-bc04-dbf1eaa3473c\" target=\"_top\" title=\"psysml:a0e318cd-0c17-433c-bc04-dbf1eaa3473c\" xlink:actuate=\"onRequest\" xlink:href=\"psysml:a0e318cd-0c17-433c-bc04-dbf1eaa3473c\" xlink:show=\"new\" xlink:title=\"psysml:a0e318cd-0c17-433c-bc04-dbf1eaa3473c\" xlink:type=\"simple\"><path d=\"M129.28,133.5 C138.17,154.57 151.64,186.5 161.47,209.81 \" fill=\"none\" id=\"E8-&gt;E7\" style=\"stroke: #A80036; stroke-width: 1.0; stroke-dasharray: 7.0,7.0;\"/><polygon fill=\"#A80036\" points=\"164.66,217.35,164.3241,208.8126,158.7933,211.1385,164.66,217.35\" style=\"stroke: #A80036; stroke-width: 1.0;\"/><text fill=\"#000000\" font-family=\"sans-serif\" font-size=\"13\" lengthAdjust=\"spacingAndGlyphs\" textLength=\"64\" x=\"151\" y=\"180.0669\">«depend»</text></a><!--MD5=[1d6a17464409b76b01acef9d00b3429a]\n",
       "@startuml\r\n",
       "skinparam wrapWidth 300\r\n",
       "hide circle\r\n",
       "\r\n",
       "package \"DependencyTest\" as E1  [[psysml:01e86263-1e08-4c5e-80c8-9f3a01cb2b1c ]]  {\r\n",
       "package \"System\" as E2  [[psysml:65d9c171-277b-4a12-8988-537cd17218fe ]]  {\r\n",
       "package \"Application Layer\" as E3  [[psysml:7bbe8935-ee6e-44c3-abf9-e711bcee98e7 ]]  {\r\n",
       "}\r\n",
       "package \"Service Layer\" as E4  [[psysml:8539df59-9777-43d1-9cbc-191f1e3b0af0 ]]  {\r\n",
       "}\r\n",
       "package \"Data Layer\" as E5  [[psysml:06e8cf4d-e880-4b5c-8fdb-0871598a4cb3 ]]  {\r\n",
       "}\r\n",
       "}\r\n",
       "comp usage \"x\" as E6  <<(T,blue)attribute>> [[psysml:3f429861-8945-458a-afac-b9814097464d ]] {\r\n",
       "}\r\n",
       "comp usage \"y\" as E7  <<(T,blue)attribute>> [[psysml:f3318431-0d45-43ea-b254-330318c85eb0 ]] {\r\n",
       "}\r\n",
       "comp usage \"z\" as E8  <<(T,blue)attribute>> [[psysml:da180d87-042d-4ade-81c9-b5201399a446 ]] {\r\n",
       "}\r\n",
       "E3 ..>> E4 [[psysml:ddd06611-1e40-467d-8133-a183585a6da5 ]] : <<depend>>\r\n",
       "E4 ..>> E5 [[psysml:b5c0928c-fbc9-4433-ab1e-c084bfbcebd5 ]] : <<depend>>\r\n",
       "E8 ..>> E6 [[psysml:a0e318cd-0c17-433c-bc04-dbf1eaa3473c ]] : <<depend>>\r\n",
       "E8 ..>> E7 [[psysml:a0e318cd-0c17-433c-bc04-dbf1eaa3473c ]] : <<depend>>\r\n",
       "}\r\n",
       "@enduml\r\n",
       "\n",
       "PlantUML version 1.2020.13(Sat Jun 13 12:26:38 UTC 2020)\n",
       "(EPL source distribution)\n",
       "Java Runtime: OpenJDK Runtime Environment\n",
       "JVM: OpenJDK 64-Bit Server VM\n",
       "Default Encoding: UTF-8\n",
       "Language: en\n",
       "Country: null\n",
       "--></g></svg>"
      ]
     },
     "execution_count": 29,
     "metadata": {},
     "output_type": "execute_result"
    }
   ],
   "source": [
    "%viz --style=\"STDCOLOR\" --view=\"MIXED\" \"DependencyTest\""
   ]
  },
  {
   "cell_type": "code",
   "execution_count": 30,
   "id": "champion-brave",
   "metadata": {
    "execution": {
     "iopub.execute_input": "2021-03-25T15:09:48.286444Z",
     "iopub.status.busy": "2021-03-25T15:09:48.285771Z",
     "iopub.status.idle": "2021-03-25T15:09:48.401127Z",
     "shell.execute_reply": "2021-03-25T15:09:48.400779Z"
    }
   },
   "outputs": [
    {
     "data": {
      "image/svg+xml": [
       "<?xml version=\"1.0\" encoding=\"UTF-8\" standalone=\"no\"?><svg xmlns=\"http://www.w3.org/2000/svg\" xmlns:xlink=\"http://www.w3.org/1999/xlink\" contentScriptType=\"application/ecmascript\" contentStyleType=\"text/css\" height=\"449px\" preserveAspectRatio=\"none\" style=\"width:510px;height:449px;\" version=\"1.1\" viewBox=\"0 0 510 449\" width=\"510px\" zoomAndPan=\"magnify\"><defs><filter height=\"300%\" id=\"fgzprbd1zin6z\" width=\"300%\" x=\"-1\" y=\"-1\"><feGaussianBlur result=\"blurOut\" stdDeviation=\"2.0\"/><feColorMatrix in=\"blurOut\" result=\"blurOut2\" type=\"matrix\" values=\"0 0 0 0 0 0 0 0 0 0 0 0 0 0 0 0 0 0 .4 0\"/><feOffset dx=\"4.0\" dy=\"4.0\" in=\"blurOut2\" result=\"blurOut3\"/><feBlend in=\"SourceGraphic\" in2=\"blurOut3\" mode=\"normal\"/></filter></defs><g><!--MD5=[fbc87193dbaf4d95561dea2c320d4a47]\n",
       "cluster E1--><a href=\"psysml:01e86263-1e08-4c5e-80c8-9f3a01cb2b1c\" target=\"_top\" title=\"psysml:01e86263-1e08-4c5e-80c8-9f3a01cb2b1c\" xlink:actuate=\"onRequest\" xlink:href=\"psysml:01e86263-1e08-4c5e-80c8-9f3a01cb2b1c\" xlink:show=\"new\" xlink:title=\"psysml:01e86263-1e08-4c5e-80c8-9f3a01cb2b1c\" xlink:type=\"simple\"><polygon fill=\"#FFFFFF\" filter=\"url(#fgzprbd1zin6z)\" points=\"16,6,156,6,163,28.2969,488,28.2969,488,437,16,437,16,6\" style=\"stroke: #000000; stroke-width: 1.5;\"/><line style=\"stroke: #000000; stroke-width: 1.5;\" x1=\"16\" x2=\"163\" y1=\"28.2969\" y2=\"28.2969\"/><text fill=\"#000000\" font-family=\"sans-serif\" font-size=\"14\" font-weight=\"bold\" lengthAdjust=\"spacingAndGlyphs\" textLength=\"134\" x=\"20\" y=\"20.9951\">DependencyTest</text></a><!--MD5=[e4f7fae6ed58524ba242bb0b0d3be6b7]\n",
       "cluster E2--><a href=\"psysml:65d9c171-277b-4a12-8988-537cd17218fe\" target=\"_top\" title=\"psysml:65d9c171-277b-4a12-8988-537cd17218fe\" xlink:actuate=\"onRequest\" xlink:href=\"psysml:65d9c171-277b-4a12-8988-537cd17218fe\" xlink:show=\"new\" xlink:title=\"psysml:65d9c171-277b-4a12-8988-537cd17218fe\" xlink:type=\"simple\"><polygon fill=\"#FFFFFF\" filter=\"url(#fgzprbd1zin6z)\" points=\"276,49,340,49,347,71.2969,464,71.2969,464,413,276,413,276,49\" style=\"stroke: #000000; stroke-width: 1.5;\"/><line style=\"stroke: #000000; stroke-width: 1.5;\" x1=\"276\" x2=\"347\" y1=\"71.2969\" y2=\"71.2969\"/><text fill=\"#000000\" font-family=\"sans-serif\" font-size=\"14\" font-weight=\"bold\" lengthAdjust=\"spacingAndGlyphs\" textLength=\"58\" x=\"280\" y=\"63.9951\">System</text></a><!--MD5=[60a26617385b1d2d0262a64233df1f8d]\n",
       "class E6--><a href=\"psysml:3f429861-8945-458a-afac-b9814097464d\" target=\"_top\" title=\"psysml:3f429861-8945-458a-afac-b9814097464d\" xlink:actuate=\"onRequest\" xlink:href=\"psysml:3f429861-8945-458a-afac-b9814097464d\" xlink:show=\"new\" xlink:title=\"psysml:3f429861-8945-458a-afac-b9814097464d\" xlink:type=\"simple\"><rect fill=\"#FEFECE\" filter=\"url(#fgzprbd1zin6z)\" height=\"45.9375\" id=\"E6\" rx=\"10\" ry=\"10\" style=\"stroke: #A80036; stroke-width: 1.5;\" width=\"97\" x=\"31.5\" y=\"217.5\"/><ellipse cx=\"46.5\" cy=\"236.4688\" fill=\"#FFA500\" rx=\"11\" ry=\"11\" style=\"stroke: #A80036; stroke-width: 1.0;\"/><path d=\"M42.375,238.3906 L42.375,230.5781 L44.8281,230.5781 L44.8281,239.0156 Q44.8281,239.9375 45.2969,240.4688 Q45.7813,241 46.6094,241 Q47.4531,241 47.9219,240.4688 Q48.3906,239.9375 48.3906,239.0156 L48.3906,230.5781 L50.8438,230.5781 L50.8438,238.3906 Q50.8438,240.9219 49.8438,242.0625 Q48.8438,243.2031 46.6094,243.2031 Q44.3906,243.2031 43.375,242.0625 Q42.375,240.9219 42.375,238.3906 Z \"/><text fill=\"#000000\" font-family=\"sans-serif\" font-size=\"12\" font-style=\"italic\" lengthAdjust=\"spacingAndGlyphs\" textLength=\"69\" x=\"58.5\" y=\"233.6387\">«attribute»</text><text fill=\"#000000\" font-family=\"sans-serif\" font-size=\"12\" lengthAdjust=\"spacingAndGlyphs\" textLength=\"6\" x=\"90\" y=\"247.6074\">x</text><line style=\"stroke: #A80036; stroke-width: 1.5;\" x1=\"32.5\" x2=\"127.5\" y1=\"255.4375\" y2=\"255.4375\"/></a><!--MD5=[2156ba9850f5573cc1fc38a6a4b2f02b]\n",
       "class E7--><a href=\"psysml:f3318431-0d45-43ea-b254-330318c85eb0\" target=\"_top\" title=\"psysml:f3318431-0d45-43ea-b254-330318c85eb0\" xlink:actuate=\"onRequest\" xlink:href=\"psysml:f3318431-0d45-43ea-b254-330318c85eb0\" xlink:show=\"new\" xlink:title=\"psysml:f3318431-0d45-43ea-b254-330318c85eb0\" xlink:type=\"simple\"><rect fill=\"#FEFECE\" filter=\"url(#fgzprbd1zin6z)\" height=\"45.9375\" id=\"E7\" rx=\"10\" ry=\"10\" style=\"stroke: #A80036; stroke-width: 1.5;\" width=\"97\" x=\"163.5\" y=\"217.5\"/><ellipse cx=\"178.5\" cy=\"236.4688\" fill=\"#FFA500\" rx=\"11\" ry=\"11\" style=\"stroke: #A80036; stroke-width: 1.0;\"/><path d=\"M174.375,238.3906 L174.375,230.5781 L176.8281,230.5781 L176.8281,239.0156 Q176.8281,239.9375 177.2969,240.4688 Q177.7813,241 178.6094,241 Q179.4531,241 179.9219,240.4688 Q180.3906,239.9375 180.3906,239.0156 L180.3906,230.5781 L182.8438,230.5781 L182.8438,238.3906 Q182.8438,240.9219 181.8438,242.0625 Q180.8438,243.2031 178.6094,243.2031 Q176.3906,243.2031 175.375,242.0625 Q174.375,240.9219 174.375,238.3906 Z \"/><text fill=\"#000000\" font-family=\"sans-serif\" font-size=\"12\" font-style=\"italic\" lengthAdjust=\"spacingAndGlyphs\" textLength=\"69\" x=\"190.5\" y=\"233.6387\">«attribute»</text><text fill=\"#000000\" font-family=\"sans-serif\" font-size=\"12\" lengthAdjust=\"spacingAndGlyphs\" textLength=\"6\" x=\"222\" y=\"247.6074\">y</text><line style=\"stroke: #A80036; stroke-width: 1.5;\" x1=\"164.5\" x2=\"259.5\" y1=\"255.4375\" y2=\"255.4375\"/></a><!--MD5=[b9389687b975829384b498ac4b7476b2]\n",
       "class E8--><a href=\"psysml:da180d87-042d-4ade-81c9-b5201399a446\" target=\"_top\" title=\"psysml:da180d87-042d-4ade-81c9-b5201399a446\" xlink:actuate=\"onRequest\" xlink:href=\"psysml:da180d87-042d-4ade-81c9-b5201399a446\" xlink:show=\"new\" xlink:title=\"psysml:da180d87-042d-4ade-81c9-b5201399a446\" xlink:type=\"simple\"><rect fill=\"#FEFECE\" filter=\"url(#fgzprbd1zin6z)\" height=\"45.9375\" id=\"E8\" rx=\"10\" ry=\"10\" style=\"stroke: #A80036; stroke-width: 1.5;\" width=\"97\" x=\"84.5\" y=\"87.5\"/><ellipse cx=\"99.5\" cy=\"106.4688\" fill=\"#FFA500\" rx=\"11\" ry=\"11\" style=\"stroke: #A80036; stroke-width: 1.0;\"/><path d=\"M95.375,108.3906 L95.375,100.5781 L97.8281,100.5781 L97.8281,109.0156 Q97.8281,109.9375 98.2969,110.4688 Q98.7813,111 99.6094,111 Q100.4531,111 100.9219,110.4688 Q101.3906,109.9375 101.3906,109.0156 L101.3906,100.5781 L103.8438,100.5781 L103.8438,108.3906 Q103.8438,110.9219 102.8438,112.0625 Q101.8438,113.2031 99.6094,113.2031 Q97.3906,113.2031 96.375,112.0625 Q95.375,110.9219 95.375,108.3906 Z \"/><text fill=\"#000000\" font-family=\"sans-serif\" font-size=\"12\" font-style=\"italic\" lengthAdjust=\"spacingAndGlyphs\" textLength=\"69\" x=\"111.5\" y=\"103.6387\">«attribute»</text><text fill=\"#000000\" font-family=\"sans-serif\" font-size=\"12\" lengthAdjust=\"spacingAndGlyphs\" textLength=\"5\" x=\"143.5\" y=\"117.6074\">z</text><line style=\"stroke: #A80036; stroke-width: 1.5;\" x1=\"85.5\" x2=\"180.5\" y1=\"125.4375\" y2=\"125.4375\"/></a><a href=\"psysml:7bbe8935-ee6e-44c3-abf9-e711bcee98e7\" target=\"_top\" title=\"psysml:7bbe8935-ee6e-44c3-abf9-e711bcee98e7\" xlink:actuate=\"onRequest\" xlink:href=\"psysml:7bbe8935-ee6e-44c3-abf9-e711bcee98e7\" xlink:show=\"new\" xlink:title=\"psysml:7bbe8935-ee6e-44c3-abf9-e711bcee98e7\" xlink:type=\"simple\"><polygon fill=\"#FFFFFF\" filter=\"url(#fgzprbd1zin6z)\" points=\"292,84,434,84,441,106.2969,448,106.2969,448,136.5938,292,136.5938,292,84\" style=\"stroke: #000000; stroke-width: 1.5;\"/><line style=\"stroke: #000000; stroke-width: 1.5;\" x1=\"292\" x2=\"441\" y1=\"106.2969\" y2=\"106.2969\"/><text fill=\"#000000\" font-family=\"sans-serif\" font-size=\"14\" font-weight=\"bold\" lengthAdjust=\"spacingAndGlyphs\" textLength=\"136\" x=\"296\" y=\"98.9951\">Application Layer</text></a><a href=\"psysml:8539df59-9777-43d1-9cbc-191f1e3b0af0\" target=\"_top\" title=\"psysml:8539df59-9777-43d1-9cbc-191f1e3b0af0\" xlink:actuate=\"onRequest\" xlink:href=\"psysml:8539df59-9777-43d1-9cbc-191f1e3b0af0\" xlink:show=\"new\" xlink:title=\"psysml:8539df59-9777-43d1-9cbc-191f1e3b0af0\" xlink:type=\"simple\"><polygon fill=\"#FFFFFF\" filter=\"url(#fgzprbd1zin6z)\" points=\"306,214,420,214,427,236.2969,434,236.2969,434,266.5938,306,266.5938,306,214\" style=\"stroke: #000000; stroke-width: 1.5;\"/><line style=\"stroke: #000000; stroke-width: 1.5;\" x1=\"306\" x2=\"427\" y1=\"236.2969\" y2=\"236.2969\"/><text fill=\"#000000\" font-family=\"sans-serif\" font-size=\"14\" font-weight=\"bold\" lengthAdjust=\"spacingAndGlyphs\" textLength=\"108\" x=\"310\" y=\"228.9951\">Service Layer</text></a><a href=\"psysml:06e8cf4d-e880-4b5c-8fdb-0871598a4cb3\" target=\"_top\" title=\"psysml:06e8cf4d-e880-4b5c-8fdb-0871598a4cb3\" xlink:actuate=\"onRequest\" xlink:href=\"psysml:06e8cf4d-e880-4b5c-8fdb-0871598a4cb3\" xlink:show=\"new\" xlink:title=\"psysml:06e8cf4d-e880-4b5c-8fdb-0871598a4cb3\" xlink:type=\"simple\"><polygon fill=\"#FFFFFF\" filter=\"url(#fgzprbd1zin6z)\" points=\"318,344,408,344,415,366.2969,422,366.2969,422,396.5938,318,396.5938,318,344\" style=\"stroke: #000000; stroke-width: 1.5;\"/><line style=\"stroke: #000000; stroke-width: 1.5;\" x1=\"318\" x2=\"415\" y1=\"366.2969\" y2=\"366.2969\"/><text fill=\"#000000\" font-family=\"sans-serif\" font-size=\"14\" font-weight=\"bold\" lengthAdjust=\"spacingAndGlyphs\" textLength=\"84\" x=\"322\" y=\"358.9951\">Data Layer</text></a><!--MD5=[af87c684e3b0d8be13c1a698a818ef1e]\n",
       "link E3 to E4--><a href=\"psysml:ddd06611-1e40-467d-8133-a183585a6da5\" target=\"_top\" title=\"psysml:ddd06611-1e40-467d-8133-a183585a6da5\" xlink:actuate=\"onRequest\" xlink:href=\"psysml:ddd06611-1e40-467d-8133-a183585a6da5\" xlink:show=\"new\" xlink:title=\"psysml:ddd06611-1e40-467d-8133-a183585a6da5\" xlink:type=\"simple\"><path d=\"M370,137.1 C370,156.8 370,184.22 370,205.73 \" fill=\"none\" id=\"E3-&gt;E4\" style=\"stroke: #A80036; stroke-width: 1.0; stroke-dasharray: 7.0,7.0;\"/><polygon fill=\"#A80036\" points=\"370,213.95,373,205.95,367,205.95,370,213.95\" style=\"stroke: #A80036; stroke-width: 1.0;\"/><text fill=\"#000000\" font-family=\"sans-serif\" font-size=\"13\" lengthAdjust=\"spacingAndGlyphs\" textLength=\"64\" x=\"371\" y=\"180.0669\">«depend»</text></a><!--MD5=[1b7591eae5389033d8d09a9d6721a717]\n",
       "link E4 to E5--><a href=\"psysml:b5c0928c-fbc9-4433-ab1e-c084bfbcebd5\" target=\"_top\" title=\"psysml:b5c0928c-fbc9-4433-ab1e-c084bfbcebd5\" xlink:actuate=\"onRequest\" xlink:href=\"psysml:b5c0928c-fbc9-4433-ab1e-c084bfbcebd5\" xlink:show=\"new\" xlink:title=\"psysml:b5c0928c-fbc9-4433-ab1e-c084bfbcebd5\" xlink:type=\"simple\"><path d=\"M370,267.1 C370,286.8 370,314.22 370,335.73 \" fill=\"none\" id=\"E4-&gt;E5\" style=\"stroke: #A80036; stroke-width: 1.0; stroke-dasharray: 7.0,7.0;\"/><polygon fill=\"#A80036\" points=\"370,343.95,373,335.95,367,335.95,370,343.95\" style=\"stroke: #A80036; stroke-width: 1.0;\"/><text fill=\"#000000\" font-family=\"sans-serif\" font-size=\"13\" lengthAdjust=\"spacingAndGlyphs\" textLength=\"64\" x=\"371\" y=\"310.0669\">«depend»</text></a><!--MD5=[c5e8897d989ce984f93528998a7150fe]\n",
       "link E8 to E6--><a href=\"psysml:a0e318cd-0c17-433c-bc04-dbf1eaa3473c\" target=\"_top\" title=\"psysml:a0e318cd-0c17-433c-bc04-dbf1eaa3473c\" xlink:actuate=\"onRequest\" xlink:href=\"psysml:a0e318cd-0c17-433c-bc04-dbf1eaa3473c\" xlink:show=\"new\" xlink:title=\"psysml:a0e318cd-0c17-433c-bc04-dbf1eaa3473c\" xlink:type=\"simple\"><path d=\"M106.44,133.76 C97.3,143.01 88.09,154.51 83,167 C77.6,180.23 76.4,195.98 76.73,209.41 \" fill=\"none\" id=\"E8-&gt;E6\" style=\"stroke: #A80036; stroke-width: 1.0; stroke-dasharray: 7.0,7.0;\"/><polygon fill=\"#A80036\" points=\"77.12,217.43,79.7306,209.2946,73.7375,209.584,77.12,217.43\" style=\"stroke: #A80036; stroke-width: 1.0;\"/><text fill=\"#000000\" font-family=\"sans-serif\" font-size=\"13\" lengthAdjust=\"spacingAndGlyphs\" textLength=\"64\" x=\"84\" y=\"180.0669\">«depend»</text></a><!--MD5=[bfa3c8b0d15052fdf50ae9310b491027]\n",
       "link E8 to E7--><a href=\"psysml:a0e318cd-0c17-433c-bc04-dbf1eaa3473c\" target=\"_top\" title=\"psysml:a0e318cd-0c17-433c-bc04-dbf1eaa3473c\" xlink:actuate=\"onRequest\" xlink:href=\"psysml:a0e318cd-0c17-433c-bc04-dbf1eaa3473c\" xlink:show=\"new\" xlink:title=\"psysml:a0e318cd-0c17-433c-bc04-dbf1eaa3473c\" xlink:type=\"simple\"><path d=\"M146.58,133.5 C159.69,154.75 179.63,187.05 194.05,210.41 \" fill=\"none\" id=\"E8-&gt;E7\" style=\"stroke: #A80036; stroke-width: 1.0; stroke-dasharray: 7.0,7.0;\"/><polygon fill=\"#A80036\" points=\"198.33,217.35,196.6785,208.9671,191.5737,212.1201,198.33,217.35\" style=\"stroke: #A80036; stroke-width: 1.0;\"/><text fill=\"#000000\" font-family=\"sans-serif\" font-size=\"13\" lengthAdjust=\"spacingAndGlyphs\" textLength=\"64\" x=\"178\" y=\"180.0669\">«depend»</text></a><!--MD5=[617b6e7d8fed928016371cc69440cc93]\n",
       "@startuml\r\n",
       " \r\n",
       "package \"DependencyTest\" as E1  [[psysml:01e86263-1e08-4c5e-80c8-9f3a01cb2b1c ]]  {\r\n",
       "package \"System\" as E2  [[psysml:65d9c171-277b-4a12-8988-537cd17218fe ]]  {\r\n",
       "package \"Application Layer\" as E3  [[psysml:7bbe8935-ee6e-44c3-abf9-e711bcee98e7 ]]  {\r\n",
       "}\r\n",
       "package \"Service Layer\" as E4  [[psysml:8539df59-9777-43d1-9cbc-191f1e3b0af0 ]]  {\r\n",
       "}\r\n",
       "package \"Data Layer\" as E5  [[psysml:06e8cf4d-e880-4b5c-8fdb-0871598a4cb3 ]]  {\r\n",
       "}\r\n",
       "}\r\n",
       "comp usage \"x\" as E6  <<(U,orange)attribute>> [[psysml:3f429861-8945-458a-afac-b9814097464d ]] {\r\n",
       "}\r\n",
       "comp usage \"y\" as E7  <<(U,orange)attribute>> [[psysml:f3318431-0d45-43ea-b254-330318c85eb0 ]] {\r\n",
       "}\r\n",
       "comp usage \"z\" as E8  <<(U,orange)attribute>> [[psysml:da180d87-042d-4ade-81c9-b5201399a446 ]] {\r\n",
       "}\r\n",
       "E3 ..>> E4 [[psysml:ddd06611-1e40-467d-8133-a183585a6da5 ]] : <<depend>>\r\n",
       "E4 ..>> E5 [[psysml:b5c0928c-fbc9-4433-ab1e-c084bfbcebd5 ]] : <<depend>>\r\n",
       "E8 ..>> E6 [[psysml:a0e318cd-0c17-433c-bc04-dbf1eaa3473c ]] : <<depend>>\r\n",
       "E8 ..>> E7 [[psysml:a0e318cd-0c17-433c-bc04-dbf1eaa3473c ]] : <<depend>>\r\n",
       "}\r\n",
       "@enduml\r\n",
       "\n",
       "PlantUML version 1.2020.13(Sat Jun 13 12:26:38 UTC 2020)\n",
       "(EPL source distribution)\n",
       "Java Runtime: OpenJDK Runtime Environment\n",
       "JVM: OpenJDK 64-Bit Server VM\n",
       "Default Encoding: UTF-8\n",
       "Language: en\n",
       "Country: null\n",
       "--></g></svg>"
      ]
     },
     "execution_count": 30,
     "metadata": {},
     "output_type": "execute_result"
    }
   ],
   "source": [
    "%viz --style=\"PLANTUML\" --view=\"Default\" \"DependencyTest\""
   ]
  },
  {
   "cell_type": "code",
   "execution_count": 31,
   "id": "duplicate-clause",
   "metadata": {
    "execution": {
     "iopub.execute_input": "2021-03-25T15:09:48.451639Z",
     "iopub.status.busy": "2021-03-25T15:09:48.451038Z",
     "iopub.status.idle": "2021-03-25T15:09:48.561436Z",
     "shell.execute_reply": "2021-03-25T15:09:48.560580Z"
    }
   },
   "outputs": [
    {
     "data": {
      "image/svg+xml": [
       "<?xml version=\"1.0\" encoding=\"UTF-8\" standalone=\"no\"?><svg xmlns=\"http://www.w3.org/2000/svg\" xmlns:xlink=\"http://www.w3.org/1999/xlink\" contentScriptType=\"application/ecmascript\" contentStyleType=\"text/css\" height=\"449px\" preserveAspectRatio=\"none\" style=\"width:510px;height:449px;\" version=\"1.1\" viewBox=\"0 0 510 449\" width=\"510px\" zoomAndPan=\"magnify\"><defs><filter height=\"300%\" id=\"fgzprbd1zin6z\" width=\"300%\" x=\"-1\" y=\"-1\"><feGaussianBlur result=\"blurOut\" stdDeviation=\"2.0\"/><feColorMatrix in=\"blurOut\" result=\"blurOut2\" type=\"matrix\" values=\"0 0 0 0 0 0 0 0 0 0 0 0 0 0 0 0 0 0 .4 0\"/><feOffset dx=\"4.0\" dy=\"4.0\" in=\"blurOut2\" result=\"blurOut3\"/><feBlend in=\"SourceGraphic\" in2=\"blurOut3\" mode=\"normal\"/></filter></defs><g><!--MD5=[fbc87193dbaf4d95561dea2c320d4a47]\n",
       "cluster E1--><a href=\"psysml:01e86263-1e08-4c5e-80c8-9f3a01cb2b1c\" target=\"_top\" title=\"psysml:01e86263-1e08-4c5e-80c8-9f3a01cb2b1c\" xlink:actuate=\"onRequest\" xlink:href=\"psysml:01e86263-1e08-4c5e-80c8-9f3a01cb2b1c\" xlink:show=\"new\" xlink:title=\"psysml:01e86263-1e08-4c5e-80c8-9f3a01cb2b1c\" xlink:type=\"simple\"><polygon fill=\"#FFFFFF\" filter=\"url(#fgzprbd1zin6z)\" points=\"16,6,156,6,163,28.2969,488,28.2969,488,437,16,437,16,6\" style=\"stroke: #000000; stroke-width: 1.5;\"/><line style=\"stroke: #000000; stroke-width: 1.5;\" x1=\"16\" x2=\"163\" y1=\"28.2969\" y2=\"28.2969\"/><text fill=\"#000000\" font-family=\"sans-serif\" font-size=\"14\" font-weight=\"bold\" lengthAdjust=\"spacingAndGlyphs\" textLength=\"134\" x=\"20\" y=\"20.9951\">DependencyTest</text></a><!--MD5=[e4f7fae6ed58524ba242bb0b0d3be6b7]\n",
       "cluster E2--><a href=\"psysml:65d9c171-277b-4a12-8988-537cd17218fe\" target=\"_top\" title=\"psysml:65d9c171-277b-4a12-8988-537cd17218fe\" xlink:actuate=\"onRequest\" xlink:href=\"psysml:65d9c171-277b-4a12-8988-537cd17218fe\" xlink:show=\"new\" xlink:title=\"psysml:65d9c171-277b-4a12-8988-537cd17218fe\" xlink:type=\"simple\"><polygon fill=\"#FFFFFF\" filter=\"url(#fgzprbd1zin6z)\" points=\"276,49,340,49,347,71.2969,464,71.2969,464,413,276,413,276,49\" style=\"stroke: #000000; stroke-width: 1.5;\"/><line style=\"stroke: #000000; stroke-width: 1.5;\" x1=\"276\" x2=\"347\" y1=\"71.2969\" y2=\"71.2969\"/><text fill=\"#000000\" font-family=\"sans-serif\" font-size=\"14\" font-weight=\"bold\" lengthAdjust=\"spacingAndGlyphs\" textLength=\"58\" x=\"280\" y=\"63.9951\">System</text></a><!--MD5=[60a26617385b1d2d0262a64233df1f8d]\n",
       "class E6--><a href=\"psysml:3f429861-8945-458a-afac-b9814097464d\" target=\"_top\" title=\"psysml:3f429861-8945-458a-afac-b9814097464d\" xlink:actuate=\"onRequest\" xlink:href=\"psysml:3f429861-8945-458a-afac-b9814097464d\" xlink:show=\"new\" xlink:title=\"psysml:3f429861-8945-458a-afac-b9814097464d\" xlink:type=\"simple\"><rect fill=\"#FEFECE\" filter=\"url(#fgzprbd1zin6z)\" height=\"45.9375\" id=\"E6\" rx=\"10\" ry=\"10\" style=\"stroke: #A80036; stroke-width: 1.5;\" width=\"97\" x=\"31.5\" y=\"217.5\"/><ellipse cx=\"46.5\" cy=\"236.4688\" fill=\"#FFA500\" rx=\"11\" ry=\"11\" style=\"stroke: #A80036; stroke-width: 1.0;\"/><path d=\"M42.375,238.3906 L42.375,230.5781 L44.8281,230.5781 L44.8281,239.0156 Q44.8281,239.9375 45.2969,240.4688 Q45.7813,241 46.6094,241 Q47.4531,241 47.9219,240.4688 Q48.3906,239.9375 48.3906,239.0156 L48.3906,230.5781 L50.8438,230.5781 L50.8438,238.3906 Q50.8438,240.9219 49.8438,242.0625 Q48.8438,243.2031 46.6094,243.2031 Q44.3906,243.2031 43.375,242.0625 Q42.375,240.9219 42.375,238.3906 Z \"/><text fill=\"#000000\" font-family=\"sans-serif\" font-size=\"12\" font-style=\"italic\" lengthAdjust=\"spacingAndGlyphs\" textLength=\"69\" x=\"58.5\" y=\"233.6387\">«attribute»</text><text fill=\"#000000\" font-family=\"sans-serif\" font-size=\"12\" lengthAdjust=\"spacingAndGlyphs\" textLength=\"6\" x=\"90\" y=\"247.6074\">x</text><line style=\"stroke: #A80036; stroke-width: 1.5;\" x1=\"32.5\" x2=\"127.5\" y1=\"255.4375\" y2=\"255.4375\"/></a><!--MD5=[2156ba9850f5573cc1fc38a6a4b2f02b]\n",
       "class E7--><a href=\"psysml:f3318431-0d45-43ea-b254-330318c85eb0\" target=\"_top\" title=\"psysml:f3318431-0d45-43ea-b254-330318c85eb0\" xlink:actuate=\"onRequest\" xlink:href=\"psysml:f3318431-0d45-43ea-b254-330318c85eb0\" xlink:show=\"new\" xlink:title=\"psysml:f3318431-0d45-43ea-b254-330318c85eb0\" xlink:type=\"simple\"><rect fill=\"#FEFECE\" filter=\"url(#fgzprbd1zin6z)\" height=\"45.9375\" id=\"E7\" rx=\"10\" ry=\"10\" style=\"stroke: #A80036; stroke-width: 1.5;\" width=\"97\" x=\"163.5\" y=\"217.5\"/><ellipse cx=\"178.5\" cy=\"236.4688\" fill=\"#FFA500\" rx=\"11\" ry=\"11\" style=\"stroke: #A80036; stroke-width: 1.0;\"/><path d=\"M174.375,238.3906 L174.375,230.5781 L176.8281,230.5781 L176.8281,239.0156 Q176.8281,239.9375 177.2969,240.4688 Q177.7813,241 178.6094,241 Q179.4531,241 179.9219,240.4688 Q180.3906,239.9375 180.3906,239.0156 L180.3906,230.5781 L182.8438,230.5781 L182.8438,238.3906 Q182.8438,240.9219 181.8438,242.0625 Q180.8438,243.2031 178.6094,243.2031 Q176.3906,243.2031 175.375,242.0625 Q174.375,240.9219 174.375,238.3906 Z \"/><text fill=\"#000000\" font-family=\"sans-serif\" font-size=\"12\" font-style=\"italic\" lengthAdjust=\"spacingAndGlyphs\" textLength=\"69\" x=\"190.5\" y=\"233.6387\">«attribute»</text><text fill=\"#000000\" font-family=\"sans-serif\" font-size=\"12\" lengthAdjust=\"spacingAndGlyphs\" textLength=\"6\" x=\"222\" y=\"247.6074\">y</text><line style=\"stroke: #A80036; stroke-width: 1.5;\" x1=\"164.5\" x2=\"259.5\" y1=\"255.4375\" y2=\"255.4375\"/></a><!--MD5=[b9389687b975829384b498ac4b7476b2]\n",
       "class E8--><a href=\"psysml:da180d87-042d-4ade-81c9-b5201399a446\" target=\"_top\" title=\"psysml:da180d87-042d-4ade-81c9-b5201399a446\" xlink:actuate=\"onRequest\" xlink:href=\"psysml:da180d87-042d-4ade-81c9-b5201399a446\" xlink:show=\"new\" xlink:title=\"psysml:da180d87-042d-4ade-81c9-b5201399a446\" xlink:type=\"simple\"><rect fill=\"#FEFECE\" filter=\"url(#fgzprbd1zin6z)\" height=\"45.9375\" id=\"E8\" rx=\"10\" ry=\"10\" style=\"stroke: #A80036; stroke-width: 1.5;\" width=\"97\" x=\"84.5\" y=\"87.5\"/><ellipse cx=\"99.5\" cy=\"106.4688\" fill=\"#FFA500\" rx=\"11\" ry=\"11\" style=\"stroke: #A80036; stroke-width: 1.0;\"/><path d=\"M95.375,108.3906 L95.375,100.5781 L97.8281,100.5781 L97.8281,109.0156 Q97.8281,109.9375 98.2969,110.4688 Q98.7813,111 99.6094,111 Q100.4531,111 100.9219,110.4688 Q101.3906,109.9375 101.3906,109.0156 L101.3906,100.5781 L103.8438,100.5781 L103.8438,108.3906 Q103.8438,110.9219 102.8438,112.0625 Q101.8438,113.2031 99.6094,113.2031 Q97.3906,113.2031 96.375,112.0625 Q95.375,110.9219 95.375,108.3906 Z \"/><text fill=\"#000000\" font-family=\"sans-serif\" font-size=\"12\" font-style=\"italic\" lengthAdjust=\"spacingAndGlyphs\" textLength=\"69\" x=\"111.5\" y=\"103.6387\">«attribute»</text><text fill=\"#000000\" font-family=\"sans-serif\" font-size=\"12\" lengthAdjust=\"spacingAndGlyphs\" textLength=\"5\" x=\"143.5\" y=\"117.6074\">z</text><line style=\"stroke: #A80036; stroke-width: 1.5;\" x1=\"85.5\" x2=\"180.5\" y1=\"125.4375\" y2=\"125.4375\"/></a><a href=\"psysml:7bbe8935-ee6e-44c3-abf9-e711bcee98e7\" target=\"_top\" title=\"psysml:7bbe8935-ee6e-44c3-abf9-e711bcee98e7\" xlink:actuate=\"onRequest\" xlink:href=\"psysml:7bbe8935-ee6e-44c3-abf9-e711bcee98e7\" xlink:show=\"new\" xlink:title=\"psysml:7bbe8935-ee6e-44c3-abf9-e711bcee98e7\" xlink:type=\"simple\"><polygon fill=\"#FFFFFF\" filter=\"url(#fgzprbd1zin6z)\" points=\"292,84,434,84,441,106.2969,448,106.2969,448,136.5938,292,136.5938,292,84\" style=\"stroke: #000000; stroke-width: 1.5;\"/><line style=\"stroke: #000000; stroke-width: 1.5;\" x1=\"292\" x2=\"441\" y1=\"106.2969\" y2=\"106.2969\"/><text fill=\"#000000\" font-family=\"sans-serif\" font-size=\"14\" font-weight=\"bold\" lengthAdjust=\"spacingAndGlyphs\" textLength=\"136\" x=\"296\" y=\"98.9951\">Application Layer</text></a><a href=\"psysml:8539df59-9777-43d1-9cbc-191f1e3b0af0\" target=\"_top\" title=\"psysml:8539df59-9777-43d1-9cbc-191f1e3b0af0\" xlink:actuate=\"onRequest\" xlink:href=\"psysml:8539df59-9777-43d1-9cbc-191f1e3b0af0\" xlink:show=\"new\" xlink:title=\"psysml:8539df59-9777-43d1-9cbc-191f1e3b0af0\" xlink:type=\"simple\"><polygon fill=\"#FFFFFF\" filter=\"url(#fgzprbd1zin6z)\" points=\"306,214,420,214,427,236.2969,434,236.2969,434,266.5938,306,266.5938,306,214\" style=\"stroke: #000000; stroke-width: 1.5;\"/><line style=\"stroke: #000000; stroke-width: 1.5;\" x1=\"306\" x2=\"427\" y1=\"236.2969\" y2=\"236.2969\"/><text fill=\"#000000\" font-family=\"sans-serif\" font-size=\"14\" font-weight=\"bold\" lengthAdjust=\"spacingAndGlyphs\" textLength=\"108\" x=\"310\" y=\"228.9951\">Service Layer</text></a><a href=\"psysml:06e8cf4d-e880-4b5c-8fdb-0871598a4cb3\" target=\"_top\" title=\"psysml:06e8cf4d-e880-4b5c-8fdb-0871598a4cb3\" xlink:actuate=\"onRequest\" xlink:href=\"psysml:06e8cf4d-e880-4b5c-8fdb-0871598a4cb3\" xlink:show=\"new\" xlink:title=\"psysml:06e8cf4d-e880-4b5c-8fdb-0871598a4cb3\" xlink:type=\"simple\"><polygon fill=\"#FFFFFF\" filter=\"url(#fgzprbd1zin6z)\" points=\"318,344,408,344,415,366.2969,422,366.2969,422,396.5938,318,396.5938,318,344\" style=\"stroke: #000000; stroke-width: 1.5;\"/><line style=\"stroke: #000000; stroke-width: 1.5;\" x1=\"318\" x2=\"415\" y1=\"366.2969\" y2=\"366.2969\"/><text fill=\"#000000\" font-family=\"sans-serif\" font-size=\"14\" font-weight=\"bold\" lengthAdjust=\"spacingAndGlyphs\" textLength=\"84\" x=\"322\" y=\"358.9951\">Data Layer</text></a><!--MD5=[af87c684e3b0d8be13c1a698a818ef1e]\n",
       "link E3 to E4--><a href=\"psysml:ddd06611-1e40-467d-8133-a183585a6da5\" target=\"_top\" title=\"psysml:ddd06611-1e40-467d-8133-a183585a6da5\" xlink:actuate=\"onRequest\" xlink:href=\"psysml:ddd06611-1e40-467d-8133-a183585a6da5\" xlink:show=\"new\" xlink:title=\"psysml:ddd06611-1e40-467d-8133-a183585a6da5\" xlink:type=\"simple\"><path d=\"M370,137.1 C370,156.8 370,184.22 370,205.73 \" fill=\"none\" id=\"E3-&gt;E4\" style=\"stroke: #A80036; stroke-width: 1.0; stroke-dasharray: 7.0,7.0;\"/><polygon fill=\"#A80036\" points=\"370,213.95,373,205.95,367,205.95,370,213.95\" style=\"stroke: #A80036; stroke-width: 1.0;\"/><text fill=\"#000000\" font-family=\"sans-serif\" font-size=\"13\" lengthAdjust=\"spacingAndGlyphs\" textLength=\"64\" x=\"371\" y=\"180.0669\">«depend»</text></a><!--MD5=[1b7591eae5389033d8d09a9d6721a717]\n",
       "link E4 to E5--><a href=\"psysml:b5c0928c-fbc9-4433-ab1e-c084bfbcebd5\" target=\"_top\" title=\"psysml:b5c0928c-fbc9-4433-ab1e-c084bfbcebd5\" xlink:actuate=\"onRequest\" xlink:href=\"psysml:b5c0928c-fbc9-4433-ab1e-c084bfbcebd5\" xlink:show=\"new\" xlink:title=\"psysml:b5c0928c-fbc9-4433-ab1e-c084bfbcebd5\" xlink:type=\"simple\"><path d=\"M370,267.1 C370,286.8 370,314.22 370,335.73 \" fill=\"none\" id=\"E4-&gt;E5\" style=\"stroke: #A80036; stroke-width: 1.0; stroke-dasharray: 7.0,7.0;\"/><polygon fill=\"#A80036\" points=\"370,343.95,373,335.95,367,335.95,370,343.95\" style=\"stroke: #A80036; stroke-width: 1.0;\"/><text fill=\"#000000\" font-family=\"sans-serif\" font-size=\"13\" lengthAdjust=\"spacingAndGlyphs\" textLength=\"64\" x=\"371\" y=\"310.0669\">«depend»</text></a><!--MD5=[c5e8897d989ce984f93528998a7150fe]\n",
       "link E8 to E6--><a href=\"psysml:a0e318cd-0c17-433c-bc04-dbf1eaa3473c\" target=\"_top\" title=\"psysml:a0e318cd-0c17-433c-bc04-dbf1eaa3473c\" xlink:actuate=\"onRequest\" xlink:href=\"psysml:a0e318cd-0c17-433c-bc04-dbf1eaa3473c\" xlink:show=\"new\" xlink:title=\"psysml:a0e318cd-0c17-433c-bc04-dbf1eaa3473c\" xlink:type=\"simple\"><path d=\"M106.44,133.76 C97.3,143.01 88.09,154.51 83,167 C77.6,180.23 76.4,195.98 76.73,209.41 \" fill=\"none\" id=\"E8-&gt;E6\" style=\"stroke: #A80036; stroke-width: 1.0; stroke-dasharray: 7.0,7.0;\"/><polygon fill=\"#A80036\" points=\"77.12,217.43,79.7306,209.2946,73.7375,209.584,77.12,217.43\" style=\"stroke: #A80036; stroke-width: 1.0;\"/><text fill=\"#000000\" font-family=\"sans-serif\" font-size=\"13\" lengthAdjust=\"spacingAndGlyphs\" textLength=\"64\" x=\"84\" y=\"180.0669\">«depend»</text></a><!--MD5=[bfa3c8b0d15052fdf50ae9310b491027]\n",
       "link E8 to E7--><a href=\"psysml:a0e318cd-0c17-433c-bc04-dbf1eaa3473c\" target=\"_top\" title=\"psysml:a0e318cd-0c17-433c-bc04-dbf1eaa3473c\" xlink:actuate=\"onRequest\" xlink:href=\"psysml:a0e318cd-0c17-433c-bc04-dbf1eaa3473c\" xlink:show=\"new\" xlink:title=\"psysml:a0e318cd-0c17-433c-bc04-dbf1eaa3473c\" xlink:type=\"simple\"><path d=\"M146.58,133.5 C159.69,154.75 179.63,187.05 194.05,210.41 \" fill=\"none\" id=\"E8-&gt;E7\" style=\"stroke: #A80036; stroke-width: 1.0; stroke-dasharray: 7.0,7.0;\"/><polygon fill=\"#A80036\" points=\"198.33,217.35,196.6785,208.9671,191.5737,212.1201,198.33,217.35\" style=\"stroke: #A80036; stroke-width: 1.0;\"/><text fill=\"#000000\" font-family=\"sans-serif\" font-size=\"13\" lengthAdjust=\"spacingAndGlyphs\" textLength=\"64\" x=\"178\" y=\"180.0669\">«depend»</text></a><!--MD5=[617b6e7d8fed928016371cc69440cc93]\n",
       "@startuml\r\n",
       " \r\n",
       "package \"DependencyTest\" as E1  [[psysml:01e86263-1e08-4c5e-80c8-9f3a01cb2b1c ]]  {\r\n",
       "package \"System\" as E2  [[psysml:65d9c171-277b-4a12-8988-537cd17218fe ]]  {\r\n",
       "package \"Application Layer\" as E3  [[psysml:7bbe8935-ee6e-44c3-abf9-e711bcee98e7 ]]  {\r\n",
       "}\r\n",
       "package \"Service Layer\" as E4  [[psysml:8539df59-9777-43d1-9cbc-191f1e3b0af0 ]]  {\r\n",
       "}\r\n",
       "package \"Data Layer\" as E5  [[psysml:06e8cf4d-e880-4b5c-8fdb-0871598a4cb3 ]]  {\r\n",
       "}\r\n",
       "}\r\n",
       "comp usage \"x\" as E6  <<(U,orange)attribute>> [[psysml:3f429861-8945-458a-afac-b9814097464d ]] {\r\n",
       "}\r\n",
       "comp usage \"y\" as E7  <<(U,orange)attribute>> [[psysml:f3318431-0d45-43ea-b254-330318c85eb0 ]] {\r\n",
       "}\r\n",
       "comp usage \"z\" as E8  <<(U,orange)attribute>> [[psysml:da180d87-042d-4ade-81c9-b5201399a446 ]] {\r\n",
       "}\r\n",
       "E3 ..>> E4 [[psysml:ddd06611-1e40-467d-8133-a183585a6da5 ]] : <<depend>>\r\n",
       "E4 ..>> E5 [[psysml:b5c0928c-fbc9-4433-ab1e-c084bfbcebd5 ]] : <<depend>>\r\n",
       "E8 ..>> E6 [[psysml:a0e318cd-0c17-433c-bc04-dbf1eaa3473c ]] : <<depend>>\r\n",
       "E8 ..>> E7 [[psysml:a0e318cd-0c17-433c-bc04-dbf1eaa3473c ]] : <<depend>>\r\n",
       "}\r\n",
       "@enduml\r\n",
       "\n",
       "PlantUML version 1.2020.13(Sat Jun 13 12:26:38 UTC 2020)\n",
       "(EPL source distribution)\n",
       "Java Runtime: OpenJDK Runtime Environment\n",
       "JVM: OpenJDK 64-Bit Server VM\n",
       "Default Encoding: UTF-8\n",
       "Language: en\n",
       "Country: null\n",
       "--></g></svg>"
      ]
     },
     "execution_count": 31,
     "metadata": {},
     "output_type": "execute_result"
    }
   ],
   "source": [
    "%viz --style=\"PLANTUML\" --view=\"Tree\" \"DependencyTest\""
   ]
  },
  {
   "cell_type": "code",
   "execution_count": 32,
   "id": "promotional-tuner",
   "metadata": {
    "execution": {
     "iopub.execute_input": "2021-03-25T15:09:48.611471Z",
     "iopub.status.busy": "2021-03-25T15:09:48.610822Z",
     "iopub.status.idle": "2021-03-25T15:09:49.526672Z",
     "shell.execute_reply": "2021-03-25T15:09:49.526278Z"
    }
   },
   "outputs": [
    {
     "data": {
      "image/svg+xml": [
       "<?xml version=\"1.0\" encoding=\"UTF-8\" standalone=\"no\"?><svg xmlns=\"http://www.w3.org/2000/svg\" xmlns:xlink=\"http://www.w3.org/1999/xlink\" contentScriptType=\"application/ecmascript\" contentStyleType=\"text/css\" height=\"303px\" preserveAspectRatio=\"none\" style=\"width:603px;height:303px;background:#000000;\" version=\"1.1\" viewBox=\"0 0 603 303\" width=\"603px\" zoomAndPan=\"magnify\"><defs/><g><rect fill=\"#0C0220\" height=\"1\" style=\"stroke: #0C0220; stroke-width: 1.0;\" width=\"1\" x=\"0\" y=\"0\"/><rect fill=\"#FFFFFF\" height=\"205.5625\" style=\"stroke: #FFFFFF; stroke-width: 1.0;\" width=\"602\" x=\"0\" y=\"0\"/><text fill=\"#000000\" font-family=\"sans-serif\" font-size=\"12\" font-weight=\"bold\" lengthAdjust=\"spacingAndGlyphs\" textLength=\"159\" x=\"5\" y=\"16.1387\">Welcome to PlantUML!</text><text fill=\"#000000\" font-family=\"sans-serif\" font-size=\"12\" lengthAdjust=\"spacingAndGlyphs\" textLength=\"0\" x=\"9\" y=\"30.1074\"/><text fill=\"#000000\" font-family=\"sans-serif\" font-size=\"12\" lengthAdjust=\"spacingAndGlyphs\" textLength=\"293\" x=\"5\" y=\"44.0762\">If you use this software, you accept its license.</text><text fill=\"#000000\" font-family=\"sans-serif\" font-size=\"12\" lengthAdjust=\"spacingAndGlyphs\" textLength=\"107\" x=\"5\" y=\"58.0449\">(details by typing</text><text fill=\"#000000\" font-family=\"monospace\" font-size=\"12\" lengthAdjust=\"spacingAndGlyphs\" textLength=\"49\" x=\"116\" y=\"58.0449\">license</text><text fill=\"#000000\" font-family=\"sans-serif\" font-size=\"12\" lengthAdjust=\"spacingAndGlyphs\" textLength=\"56\" x=\"169\" y=\"58.0449\">keyword)</text><text fill=\"#000000\" font-family=\"sans-serif\" font-size=\"12\" lengthAdjust=\"spacingAndGlyphs\" textLength=\"0\" x=\"9\" y=\"72.0137\"/><text fill=\"#000000\" font-family=\"sans-serif\" font-size=\"12\" lengthAdjust=\"spacingAndGlyphs\" textLength=\"283\" x=\"5\" y=\"85.9824\">You can start with a simple UML Diagram like:</text><text fill=\"#000000\" font-family=\"sans-serif\" font-size=\"12\" lengthAdjust=\"spacingAndGlyphs\" textLength=\"0\" x=\"9\" y=\"99.9512\"/><text fill=\"#000000\" font-family=\"monospace\" font-size=\"12\" lengthAdjust=\"spacingAndGlyphs\" textLength=\"119\" x=\"5\" y=\"113.9199\">Bob-&gt;Alice: Hello</text><text fill=\"#000000\" font-family=\"sans-serif\" font-size=\"12\" lengthAdjust=\"spacingAndGlyphs\" textLength=\"0\" x=\"9\" y=\"127.8887\"/><text fill=\"#000000\" font-family=\"sans-serif\" font-size=\"12\" lengthAdjust=\"spacingAndGlyphs\" textLength=\"14\" x=\"5\" y=\"141.8574\">Or</text><text fill=\"#000000\" font-family=\"sans-serif\" font-size=\"12\" lengthAdjust=\"spacingAndGlyphs\" textLength=\"0\" x=\"9\" y=\"155.8262\"/><text fill=\"#000000\" font-family=\"monospace\" font-size=\"12\" lengthAdjust=\"spacingAndGlyphs\" textLength=\"91\" x=\"5\" y=\"169.7949\">class Example</text><text fill=\"#000000\" font-family=\"sans-serif\" font-size=\"12\" lengthAdjust=\"spacingAndGlyphs\" textLength=\"0\" x=\"9\" y=\"183.7637\"/><text fill=\"#000000\" font-family=\"sans-serif\" font-size=\"12\" lengthAdjust=\"spacingAndGlyphs\" textLength=\"349\" x=\"5\" y=\"197.7324\">You will find more information about PlantUML syntax on</text><text fill=\"#000000\" font-family=\"sans-serif\" font-size=\"12\" lengthAdjust=\"spacingAndGlyphs\" text-decoration=\"underline\" textLength=\"129\" x=\"358\" y=\"197.7324\">https://plantuml.com</text><image height=\"71\" width=\"80\" x=\"516\" xlink:href=\"data:image/png;base64,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\" y=\"6\"/><rect fill=\"#000000\" height=\"96.4844\" style=\"stroke: #000000; stroke-width: 1.0;\" width=\"602\" x=\"0\" y=\"205.5625\"/><rect fill=\"#33FF02\" height=\"21.2969\" style=\"stroke: #33FF02; stroke-width: 1.0;\" width=\"170\" x=\"5\" y=\"210.5625\"/><text fill=\"#000000\" font-family=\"sans-serif\" font-size=\"14\" font-weight=\"bold\" lengthAdjust=\"spacingAndGlyphs\" textLength=\"168\" x=\"6\" y=\"225.5625\">[From string (line 2) ]</text><text fill=\"#33FF02\" font-family=\"sans-serif\" font-size=\"14\" font-weight=\"bold\" lengthAdjust=\"spacingAndGlyphs\" textLength=\"0\" x=\"10\" y=\"245.8594\"/><text fill=\"#33FF02\" font-family=\"sans-serif\" font-size=\"14\" font-weight=\"bold\" lengthAdjust=\"spacingAndGlyphs\" textLength=\"79\" x=\"5\" y=\"262.1563\">@startuml</text><text fill=\"#33FF02\" font-family=\"sans-serif\" font-size=\"14\" font-weight=\"bold\" lengthAdjust=\"spacingAndGlyphs\" textLength=\"0\" x=\"10\" y=\"278.4531\"/><text fill=\"#FF0000\" font-family=\"sans-serif\" font-size=\"14\" font-weight=\"bold\" lengthAdjust=\"spacingAndGlyphs\" textLength=\"142\" x=\"10\" y=\"294.75\">Empty description</text><!--MD5=[f59edd8218d337f74d0c332fc6737304]\n",
       "@startuml\r\n",
       " \r\n",
       "@enduml\r\n",
       "\n",
       "PlantUML version 1.2020.13(Sat Jun 13 12:26:38 UTC 2020)\n",
       "(EPL source distribution)\n",
       "Java Runtime: OpenJDK Runtime Environment\n",
       "JVM: OpenJDK 64-Bit Server VM\n",
       "Default Encoding: UTF-8\n",
       "Language: en\n",
       "Country: null\n",
       "--></g></svg>"
      ]
     },
     "execution_count": 32,
     "metadata": {},
     "output_type": "execute_result"
    }
   ],
   "source": [
    "%viz --style=\"PLANTUML\" --view=\"State\" \"DependencyTest\""
   ]
  },
  {
   "cell_type": "code",
   "execution_count": 33,
   "id": "awful-finder",
   "metadata": {
    "execution": {
     "iopub.execute_input": "2021-03-25T15:09:49.577157Z",
     "iopub.status.busy": "2021-03-25T15:09:49.576720Z",
     "iopub.status.idle": "2021-03-25T15:09:49.668682Z",
     "shell.execute_reply": "2021-03-25T15:09:49.668200Z"
    }
   },
   "outputs": [
    {
     "data": {
      "image/svg+xml": [
       "<?xml version=\"1.0\" encoding=\"UTF-8\" standalone=\"no\"?><svg xmlns=\"http://www.w3.org/2000/svg\" xmlns:xlink=\"http://www.w3.org/1999/xlink\" contentScriptType=\"application/ecmascript\" contentStyleType=\"text/css\" height=\"361px\" preserveAspectRatio=\"none\" style=\"width:521px;height:361px;\" version=\"1.1\" viewBox=\"0 0 521 361\" width=\"521px\" zoomAndPan=\"magnify\"><defs><filter height=\"300%\" id=\"f1e40cmyf30axa\" width=\"300%\" x=\"-1\" y=\"-1\"><feGaussianBlur result=\"blurOut\" stdDeviation=\"2.0\"/><feColorMatrix in=\"blurOut\" result=\"blurOut2\" type=\"matrix\" values=\"0 0 0 0 0 0 0 0 0 0 0 0 0 0 0 0 0 0 .4 0\"/><feOffset dx=\"4.0\" dy=\"4.0\" in=\"blurOut2\" result=\"blurOut3\"/><feBlend in=\"SourceGraphic\" in2=\"blurOut3\" mode=\"normal\"/></filter></defs><g><!--MD5=[fbc87193dbaf4d95561dea2c320d4a47]\n",
       "cluster E1--><a href=\"psysml:01e86263-1e08-4c5e-80c8-9f3a01cb2b1c\" target=\"_top\" title=\"psysml:01e86263-1e08-4c5e-80c8-9f3a01cb2b1c\" xlink:actuate=\"onRequest\" xlink:href=\"psysml:01e86263-1e08-4c5e-80c8-9f3a01cb2b1c\" xlink:show=\"new\" xlink:title=\"psysml:01e86263-1e08-4c5e-80c8-9f3a01cb2b1c\" xlink:type=\"simple\"><polygon fill=\"#FFFFFF\" filter=\"url(#f1e40cmyf30axa)\" points=\"16,6,156,6,163,28.2969,499,28.2969,499,349,16,349,16,6\" style=\"stroke: #000000; stroke-width: 1.5;\"/><line style=\"stroke: #000000; stroke-width: 1.5;\" x1=\"16\" x2=\"163\" y1=\"28.2969\" y2=\"28.2969\"/><text fill=\"#000000\" font-family=\"sans-serif\" font-size=\"14\" font-weight=\"bold\" lengthAdjust=\"spacingAndGlyphs\" textLength=\"134\" x=\"20\" y=\"20.9951\">DependencyTest</text></a><!--MD5=[e4f7fae6ed58524ba242bb0b0d3be6b7]\n",
       "cluster E2--><a href=\"psysml:65d9c171-277b-4a12-8988-537cd17218fe\" target=\"_top\" title=\"psysml:65d9c171-277b-4a12-8988-537cd17218fe\" xlink:actuate=\"onRequest\" xlink:href=\"psysml:65d9c171-277b-4a12-8988-537cd17218fe\" xlink:show=\"new\" xlink:title=\"psysml:65d9c171-277b-4a12-8988-537cd17218fe\" xlink:type=\"simple\"><polygon fill=\"#FFFFFF\" filter=\"url(#f1e40cmyf30axa)\" points=\"287,49,351,49,358,71.2969,475,71.2969,475,325,287,325,287,49\" style=\"stroke: #000000; stroke-width: 1.5;\"/><line style=\"stroke: #000000; stroke-width: 1.5;\" x1=\"287\" x2=\"358\" y1=\"71.2969\" y2=\"71.2969\"/><text fill=\"#000000\" font-family=\"sans-serif\" font-size=\"14\" font-weight=\"bold\" lengthAdjust=\"spacingAndGlyphs\" textLength=\"58\" x=\"291\" y=\"63.9951\">System</text></a><a href=\"psysml:7bbe8935-ee6e-44c3-abf9-e711bcee98e7\" target=\"_top\" title=\"psysml:7bbe8935-ee6e-44c3-abf9-e711bcee98e7\" xlink:actuate=\"onRequest\" xlink:href=\"psysml:7bbe8935-ee6e-44c3-abf9-e711bcee98e7\" xlink:show=\"new\" xlink:title=\"psysml:7bbe8935-ee6e-44c3-abf9-e711bcee98e7\" xlink:type=\"simple\"><polygon fill=\"#FFFFFF\" filter=\"url(#f1e40cmyf30axa)\" points=\"303,84,445,84,452,106.2969,459,106.2969,459,136.5938,303,136.5938,303,84\" style=\"stroke: #000000; stroke-width: 1.5;\"/><line style=\"stroke: #000000; stroke-width: 1.5;\" x1=\"303\" x2=\"452\" y1=\"106.2969\" y2=\"106.2969\"/><text fill=\"#000000\" font-family=\"sans-serif\" font-size=\"14\" font-weight=\"bold\" lengthAdjust=\"spacingAndGlyphs\" textLength=\"136\" x=\"307\" y=\"98.9951\">Application Layer</text></a><a href=\"psysml:8539df59-9777-43d1-9cbc-191f1e3b0af0\" target=\"_top\" title=\"psysml:8539df59-9777-43d1-9cbc-191f1e3b0af0\" xlink:actuate=\"onRequest\" xlink:href=\"psysml:8539df59-9777-43d1-9cbc-191f1e3b0af0\" xlink:show=\"new\" xlink:title=\"psysml:8539df59-9777-43d1-9cbc-191f1e3b0af0\" xlink:type=\"simple\"><polygon fill=\"#FFFFFF\" filter=\"url(#f1e40cmyf30axa)\" points=\"317,170,431,170,438,192.2969,445,192.2969,445,222.5938,317,222.5938,317,170\" style=\"stroke: #000000; stroke-width: 1.5;\"/><line style=\"stroke: #000000; stroke-width: 1.5;\" x1=\"317\" x2=\"438\" y1=\"192.2969\" y2=\"192.2969\"/><text fill=\"#000000\" font-family=\"sans-serif\" font-size=\"14\" font-weight=\"bold\" lengthAdjust=\"spacingAndGlyphs\" textLength=\"108\" x=\"321\" y=\"184.9951\">Service Layer</text></a><a href=\"psysml:06e8cf4d-e880-4b5c-8fdb-0871598a4cb3\" target=\"_top\" title=\"psysml:06e8cf4d-e880-4b5c-8fdb-0871598a4cb3\" xlink:actuate=\"onRequest\" xlink:href=\"psysml:06e8cf4d-e880-4b5c-8fdb-0871598a4cb3\" xlink:show=\"new\" xlink:title=\"psysml:06e8cf4d-e880-4b5c-8fdb-0871598a4cb3\" xlink:type=\"simple\"><polygon fill=\"#FFFFFF\" filter=\"url(#f1e40cmyf30axa)\" points=\"329,256,419,256,426,278.2969,433,278.2969,433,308.5938,329,308.5938,329,256\" style=\"stroke: #000000; stroke-width: 1.5;\"/><line style=\"stroke: #000000; stroke-width: 1.5;\" x1=\"329\" x2=\"426\" y1=\"278.2969\" y2=\"278.2969\"/><text fill=\"#000000\" font-family=\"sans-serif\" font-size=\"14\" font-weight=\"bold\" lengthAdjust=\"spacingAndGlyphs\" textLength=\"84\" x=\"333\" y=\"270.9951\">Data Layer</text></a><g id=\"E1.E6\"><a href=\"psysml:3f429861-8945-458a-afac-b9814097464d\" target=\"_top\" title=\"psysml:3f429861-8945-458a-afac-b9814097464d\" xlink:actuate=\"onRequest\" xlink:href=\"psysml:3f429861-8945-458a-afac-b9814097464d\" xlink:show=\"new\" xlink:title=\"psysml:3f429861-8945-458a-afac-b9814097464d\" xlink:type=\"simple\"><rect fill=\"#FEFECE\" filter=\"url(#f1e40cmyf30axa)\" height=\"42.9375\" id=\"E6\" rx=\"10\" ry=\"10\" style=\"stroke: #A80036; stroke-width: 1.5;\" width=\"102\" x=\"32\" y=\"175\"/><ellipse cx=\"49.25\" cy=\"193.9688\" fill=\"#FFA500\" rx=\"11\" ry=\"11\" style=\"stroke: #A80036; stroke-width: 1.0;\"/><path d=\"M45.125,195.8906 L45.125,188.0781 L47.5781,188.0781 L47.5781,196.5156 Q47.5781,197.4375 48.0469,197.9688 Q48.5313,198.5 49.3594,198.5 Q50.2031,198.5 50.6719,197.9688 Q51.1406,197.4375 51.1406,196.5156 L51.1406,188.0781 L53.5938,188.0781 L53.5938,195.8906 Q53.5938,198.4219 52.5938,199.5625 Q51.5938,200.7031 49.3594,200.7031 Q47.1406,200.7031 46.125,199.5625 Q45.125,198.4219 45.125,195.8906 Z \"/><text fill=\"#000000\" font-family=\"sans-serif\" font-size=\"12\" font-style=\"italic\" lengthAdjust=\"spacingAndGlyphs\" textLength=\"69\" x=\"61.75\" y=\"191.1387\">«attribute»</text><text fill=\"#000000\" font-family=\"sans-serif\" font-size=\"12\" lengthAdjust=\"spacingAndGlyphs\" textLength=\"6\" x=\"93.25\" y=\"205.1074\">x</text></a></g><g id=\"E1.E7\"><a href=\"psysml:f3318431-0d45-43ea-b254-330318c85eb0\" target=\"_top\" title=\"psysml:f3318431-0d45-43ea-b254-330318c85eb0\" xlink:actuate=\"onRequest\" xlink:href=\"psysml:f3318431-0d45-43ea-b254-330318c85eb0\" xlink:show=\"new\" xlink:title=\"psysml:f3318431-0d45-43ea-b254-330318c85eb0\" xlink:type=\"simple\"><rect fill=\"#FEFECE\" filter=\"url(#f1e40cmyf30axa)\" height=\"42.9375\" id=\"E7\" rx=\"10\" ry=\"10\" style=\"stroke: #A80036; stroke-width: 1.5;\" width=\"102\" x=\"169\" y=\"175\"/><ellipse cx=\"186.25\" cy=\"193.9688\" fill=\"#FFA500\" rx=\"11\" ry=\"11\" style=\"stroke: #A80036; stroke-width: 1.0;\"/><path d=\"M182.125,195.8906 L182.125,188.0781 L184.5781,188.0781 L184.5781,196.5156 Q184.5781,197.4375 185.0469,197.9688 Q185.5313,198.5 186.3594,198.5 Q187.2031,198.5 187.6719,197.9688 Q188.1406,197.4375 188.1406,196.5156 L188.1406,188.0781 L190.5938,188.0781 L190.5938,195.8906 Q190.5938,198.4219 189.5938,199.5625 Q188.5938,200.7031 186.3594,200.7031 Q184.1406,200.7031 183.125,199.5625 Q182.125,198.4219 182.125,195.8906 Z \"/><text fill=\"#000000\" font-family=\"sans-serif\" font-size=\"12\" font-style=\"italic\" lengthAdjust=\"spacingAndGlyphs\" textLength=\"69\" x=\"198.75\" y=\"191.1387\">«attribute»</text><text fill=\"#000000\" font-family=\"sans-serif\" font-size=\"12\" lengthAdjust=\"spacingAndGlyphs\" textLength=\"6\" x=\"230.25\" y=\"205.1074\">y</text></a></g><g id=\"E1.E8\"><a href=\"psysml:da180d87-042d-4ade-81c9-b5201399a446\" target=\"_top\" title=\"psysml:da180d87-042d-4ade-81c9-b5201399a446\" xlink:actuate=\"onRequest\" xlink:href=\"psysml:da180d87-042d-4ade-81c9-b5201399a446\" xlink:show=\"new\" xlink:title=\"psysml:da180d87-042d-4ade-81c9-b5201399a446\" xlink:type=\"simple\"><rect fill=\"#FEFECE\" filter=\"url(#f1e40cmyf30axa)\" height=\"42.9375\" id=\"E8\" rx=\"10\" ry=\"10\" style=\"stroke: #A80036; stroke-width: 1.5;\" width=\"102\" x=\"85\" y=\"89\"/><ellipse cx=\"102.25\" cy=\"107.9688\" fill=\"#FFA500\" rx=\"11\" ry=\"11\" style=\"stroke: #A80036; stroke-width: 1.0;\"/><path d=\"M98.125,109.8906 L98.125,102.0781 L100.5781,102.0781 L100.5781,110.5156 Q100.5781,111.4375 101.0469,111.9688 Q101.5313,112.5 102.3594,112.5 Q103.2031,112.5 103.6719,111.9688 Q104.1406,111.4375 104.1406,110.5156 L104.1406,102.0781 L106.5938,102.0781 L106.5938,109.8906 Q106.5938,112.4219 105.5938,113.5625 Q104.5938,114.7031 102.3594,114.7031 Q100.1406,114.7031 99.125,113.5625 Q98.125,112.4219 98.125,109.8906 Z \"/><text fill=\"#000000\" font-family=\"sans-serif\" font-size=\"12\" font-style=\"italic\" lengthAdjust=\"spacingAndGlyphs\" textLength=\"69\" x=\"114.75\" y=\"105.1387\">«attribute»</text><text fill=\"#000000\" font-family=\"sans-serif\" font-size=\"12\" lengthAdjust=\"spacingAndGlyphs\" textLength=\"5\" x=\"146.75\" y=\"119.1074\">z</text></a></g><!--MD5=[af87c684e3b0d8be13c1a698a818ef1e]\n",
       "link E3 to E4--><a href=\"psysml:ddd06611-1e40-467d-8133-a183585a6da5\" target=\"_top\" title=\"psysml:ddd06611-1e40-467d-8133-a183585a6da5\" xlink:actuate=\"onRequest\" xlink:href=\"psysml:ddd06611-1e40-467d-8133-a183585a6da5\" xlink:show=\"new\" xlink:title=\"psysml:ddd06611-1e40-467d-8133-a183585a6da5\" xlink:type=\"simple\"><path d=\"M381,137.16 C381,144.98 381,153.69 381,161.94 \" fill=\"none\" id=\"E3-&gt;E4\" style=\"stroke: #A80036; stroke-width: 1.0; stroke-dasharray: 7.0,7.0;\"/><polygon fill=\"#A80036\" points=\"381,170,384,162,378,162,381,170\" style=\"stroke: #A80036; stroke-width: 1.0;\"/><text fill=\"#000000\" font-family=\"sans-serif\" font-size=\"13\" lengthAdjust=\"spacingAndGlyphs\" textLength=\"64\" x=\"382\" y=\"158.0669\">«depend»</text></a><!--MD5=[1b7591eae5389033d8d09a9d6721a717]\n",
       "link E4 to E5--><a href=\"psysml:b5c0928c-fbc9-4433-ab1e-c084bfbcebd5\" target=\"_top\" title=\"psysml:b5c0928c-fbc9-4433-ab1e-c084bfbcebd5\" xlink:actuate=\"onRequest\" xlink:href=\"psysml:b5c0928c-fbc9-4433-ab1e-c084bfbcebd5\" xlink:show=\"new\" xlink:title=\"psysml:b5c0928c-fbc9-4433-ab1e-c084bfbcebd5\" xlink:type=\"simple\"><path d=\"M381,223.16 C381,230.98 381,239.69 381,247.94 \" fill=\"none\" id=\"E4-&gt;E5\" style=\"stroke: #A80036; stroke-width: 1.0; stroke-dasharray: 7.0,7.0;\"/><polygon fill=\"#A80036\" points=\"381,256,384,248,378,248,381,256\" style=\"stroke: #A80036; stroke-width: 1.0;\"/><text fill=\"#000000\" font-family=\"sans-serif\" font-size=\"13\" lengthAdjust=\"spacingAndGlyphs\" textLength=\"64\" x=\"382\" y=\"244.0669\">«depend»</text></a><!--MD5=[c5e8897d989ce984f93528998a7150fe]\n",
       "link E8 to E6--><a href=\"psysml:a0e318cd-0c17-433c-bc04-dbf1eaa3473c\" target=\"_top\" title=\"psysml:a0e318cd-0c17-433c-bc04-dbf1eaa3473c\" xlink:actuate=\"onRequest\" xlink:href=\"psysml:a0e318cd-0c17-433c-bc04-dbf1eaa3473c\" xlink:show=\"new\" xlink:title=\"psysml:a0e318cd-0c17-433c-bc04-dbf1eaa3473c\" xlink:type=\"simple\"><path d=\"M102.96,132.09 C98.75,135.93 94.9,140.25 92,145 C88.13,151.34 85.83,158.9 84.48,166.22 \" fill=\"none\" id=\"E8-&gt;E6\" style=\"stroke: #A80036; stroke-width: 1.0; stroke-dasharray: 7.0,7.0;\"/><polygon fill=\"#A80036\" points=\"83.3,174.62,87.3842,167.1154,81.4426,166.2803,83.3,174.62\" style=\"stroke: #A80036; stroke-width: 1.0;\"/><text fill=\"#000000\" font-family=\"sans-serif\" font-size=\"13\" lengthAdjust=\"spacingAndGlyphs\" textLength=\"64\" x=\"93\" y=\"158.0669\">«depend»</text></a><!--MD5=[bfa3c8b0d15052fdf50ae9310b491027]\n",
       "link E8 to E7--><a href=\"psysml:a0e318cd-0c17-433c-bc04-dbf1eaa3473c\" target=\"_top\" title=\"psysml:a0e318cd-0c17-433c-bc04-dbf1eaa3473c\" xlink:actuate=\"onRequest\" xlink:href=\"psysml:a0e318cd-0c17-433c-bc04-dbf1eaa3473c\" xlink:show=\"new\" xlink:title=\"psysml:a0e318cd-0c17-433c-bc04-dbf1eaa3473c\" xlink:type=\"simple\"><path d=\"M156.76,132.26 C167.95,143.45 181.87,157.37 193.8,169.3 \" fill=\"none\" id=\"E8-&gt;E7\" style=\"stroke: #A80036; stroke-width: 1.0; stroke-dasharray: 7.0,7.0;\"/><polygon fill=\"#A80036\" points=\"199.47,174.97,195.9345,167.1918,191.6918,171.4345,199.47,174.97\" style=\"stroke: #A80036; stroke-width: 1.0;\"/><text fill=\"#000000\" font-family=\"sans-serif\" font-size=\"13\" lengthAdjust=\"spacingAndGlyphs\" textLength=\"64\" x=\"186\" y=\"158.0669\">«depend»</text></a><!--MD5=[6bae741814278d914faf52bfce54595f]\n",
       "@startuml\r\n",
       "skinparam ranksep 8\r\n",
       "skinparam rectangle {\r\n",
       " backgroundColor<<block>> LightGreen\r\n",
       "}\r\n",
       " \r\n",
       "package \"DependencyTest\" as E1  [[psysml:01e86263-1e08-4c5e-80c8-9f3a01cb2b1c ]]  {\r\n",
       "package \"System\" as E2  [[psysml:65d9c171-277b-4a12-8988-537cd17218fe ]]  {\r\n",
       "package \"Application Layer\" as E3  [[psysml:7bbe8935-ee6e-44c3-abf9-e711bcee98e7 ]]  {\r\n",
       "}\r\n",
       "package \"Service Layer\" as E4  [[psysml:8539df59-9777-43d1-9cbc-191f1e3b0af0 ]]  {\r\n",
       "}\r\n",
       "package \"Data Layer\" as E5  [[psysml:06e8cf4d-e880-4b5c-8fdb-0871598a4cb3 ]]  {\r\n",
       "}\r\n",
       "}\r\n",
       "rec usage \"x\" as E6  <<(U,orange)attribute>> [[psysml:3f429861-8945-458a-afac-b9814097464d ]] {\r\n",
       "}\r\n",
       "rec usage \"y\" as E7  <<(U,orange)attribute>> [[psysml:f3318431-0d45-43ea-b254-330318c85eb0 ]] {\r\n",
       "}\r\n",
       "rec usage \"z\" as E8  <<(U,orange)attribute>> [[psysml:da180d87-042d-4ade-81c9-b5201399a446 ]] {\r\n",
       "}\r\n",
       "E3 ..>> E4 [[psysml:ddd06611-1e40-467d-8133-a183585a6da5 ]] : <<depend>>\r\n",
       "E4 ..>> E5 [[psysml:b5c0928c-fbc9-4433-ab1e-c084bfbcebd5 ]] : <<depend>>\r\n",
       "E8 ..>> E6 [[psysml:a0e318cd-0c17-433c-bc04-dbf1eaa3473c ]] : <<depend>>\r\n",
       "E8 ..>> E7 [[psysml:a0e318cd-0c17-433c-bc04-dbf1eaa3473c ]] : <<depend>>\r\n",
       "}\r\n",
       "@enduml\r\n",
       "\n",
       "PlantUML version 1.2020.13(Sat Jun 13 12:26:38 UTC 2020)\n",
       "(EPL source distribution)\n",
       "Java Runtime: OpenJDK Runtime Environment\n",
       "JVM: OpenJDK 64-Bit Server VM\n",
       "Default Encoding: UTF-8\n",
       "Language: en\n",
       "Country: null\n",
       "--></g></svg>"
      ]
     },
     "execution_count": 33,
     "metadata": {},
     "output_type": "execute_result"
    }
   ],
   "source": [
    "%viz --style=\"PLANTUML\" --view=\"Interconnection\" \"DependencyTest\""
   ]
  },
  {
   "cell_type": "code",
   "execution_count": 34,
   "id": "southeast-error",
   "metadata": {
    "execution": {
     "iopub.execute_input": "2021-03-25T15:09:49.718096Z",
     "iopub.status.busy": "2021-03-25T15:09:49.717684Z",
     "iopub.status.idle": "2021-03-25T15:09:49.722444Z",
     "shell.execute_reply": "2021-03-25T15:09:49.722074Z"
    }
   },
   "outputs": [
    {
     "data": {
      "image/svg+xml": [
       "<?xml version=\"1.0\" encoding=\"UTF-8\" standalone=\"no\"?><svg xmlns=\"http://www.w3.org/2000/svg\" xmlns:xlink=\"http://www.w3.org/1999/xlink\" contentScriptType=\"application/ecmascript\" contentStyleType=\"text/css\" height=\"12px\" preserveAspectRatio=\"none\" style=\"width:12px;height:12px;\" version=\"1.1\" viewBox=\"0 0 12 12\" width=\"12px\" zoomAndPan=\"magnify\"><defs/><g><!--MD5=[6a4cb978cab31700e1ce5529f947a75d]\n",
       "@startuml\r\n",
       "skinparam ranksep 8\r\n",
       " \r\n",
       "@enduml\r\n",
       "\n",
       "PlantUML version 1.2020.13(Sat Jun 13 12:26:38 UTC 2020)\n",
       "(EPL source distribution)\n",
       "Java Runtime: OpenJDK Runtime Environment\n",
       "JVM: OpenJDK 64-Bit Server VM\n",
       "Default Encoding: UTF-8\n",
       "Language: en\n",
       "Country: null\n",
       "--></g></svg>"
      ]
     },
     "execution_count": 34,
     "metadata": {},
     "output_type": "execute_result"
    }
   ],
   "source": [
    "%viz --style=\"PLANTUML\" --view=\"Action\" \"DependencyTest\""
   ]
  },
  {
   "cell_type": "code",
   "execution_count": 35,
   "id": "vertical-richmond",
   "metadata": {
    "execution": {
     "iopub.execute_input": "2021-03-25T15:09:49.773437Z",
     "iopub.status.busy": "2021-03-25T15:09:49.773002Z",
     "iopub.status.idle": "2021-03-25T15:09:49.873829Z",
     "shell.execute_reply": "2021-03-25T15:09:49.872903Z"
    }
   },
   "outputs": [
    {
     "data": {
      "image/svg+xml": [
       "<?xml version=\"1.0\" encoding=\"UTF-8\" standalone=\"no\"?><svg xmlns=\"http://www.w3.org/2000/svg\" xmlns:xlink=\"http://www.w3.org/1999/xlink\" contentScriptType=\"application/ecmascript\" contentStyleType=\"text/css\" height=\"449px\" preserveAspectRatio=\"none\" style=\"width:510px;height:449px;\" version=\"1.1\" viewBox=\"0 0 510 449\" width=\"510px\" zoomAndPan=\"magnify\"><defs><filter height=\"300%\" id=\"fgzprbd1zin6z\" width=\"300%\" x=\"-1\" y=\"-1\"><feGaussianBlur result=\"blurOut\" stdDeviation=\"2.0\"/><feColorMatrix in=\"blurOut\" result=\"blurOut2\" type=\"matrix\" values=\"0 0 0 0 0 0 0 0 0 0 0 0 0 0 0 0 0 0 .4 0\"/><feOffset dx=\"4.0\" dy=\"4.0\" in=\"blurOut2\" result=\"blurOut3\"/><feBlend in=\"SourceGraphic\" in2=\"blurOut3\" mode=\"normal\"/></filter></defs><g><!--MD5=[fbc87193dbaf4d95561dea2c320d4a47]\n",
       "cluster E1--><a href=\"psysml:01e86263-1e08-4c5e-80c8-9f3a01cb2b1c\" target=\"_top\" title=\"psysml:01e86263-1e08-4c5e-80c8-9f3a01cb2b1c\" xlink:actuate=\"onRequest\" xlink:href=\"psysml:01e86263-1e08-4c5e-80c8-9f3a01cb2b1c\" xlink:show=\"new\" xlink:title=\"psysml:01e86263-1e08-4c5e-80c8-9f3a01cb2b1c\" xlink:type=\"simple\"><polygon fill=\"#FFFFFF\" filter=\"url(#fgzprbd1zin6z)\" points=\"16,6,156,6,163,28.2969,488,28.2969,488,437,16,437,16,6\" style=\"stroke: #000000; stroke-width: 1.5;\"/><line style=\"stroke: #000000; stroke-width: 1.5;\" x1=\"16\" x2=\"163\" y1=\"28.2969\" y2=\"28.2969\"/><text fill=\"#000000\" font-family=\"sans-serif\" font-size=\"14\" font-weight=\"bold\" lengthAdjust=\"spacingAndGlyphs\" textLength=\"134\" x=\"20\" y=\"20.9951\">DependencyTest</text></a><!--MD5=[e4f7fae6ed58524ba242bb0b0d3be6b7]\n",
       "cluster E2--><a href=\"psysml:65d9c171-277b-4a12-8988-537cd17218fe\" target=\"_top\" title=\"psysml:65d9c171-277b-4a12-8988-537cd17218fe\" xlink:actuate=\"onRequest\" xlink:href=\"psysml:65d9c171-277b-4a12-8988-537cd17218fe\" xlink:show=\"new\" xlink:title=\"psysml:65d9c171-277b-4a12-8988-537cd17218fe\" xlink:type=\"simple\"><polygon fill=\"#FFFFFF\" filter=\"url(#fgzprbd1zin6z)\" points=\"276,49,340,49,347,71.2969,464,71.2969,464,413,276,413,276,49\" style=\"stroke: #000000; stroke-width: 1.5;\"/><line style=\"stroke: #000000; stroke-width: 1.5;\" x1=\"276\" x2=\"347\" y1=\"71.2969\" y2=\"71.2969\"/><text fill=\"#000000\" font-family=\"sans-serif\" font-size=\"14\" font-weight=\"bold\" lengthAdjust=\"spacingAndGlyphs\" textLength=\"58\" x=\"280\" y=\"63.9951\">System</text></a><!--MD5=[60a26617385b1d2d0262a64233df1f8d]\n",
       "class E6--><a href=\"psysml:3f429861-8945-458a-afac-b9814097464d\" target=\"_top\" title=\"psysml:3f429861-8945-458a-afac-b9814097464d\" xlink:actuate=\"onRequest\" xlink:href=\"psysml:3f429861-8945-458a-afac-b9814097464d\" xlink:show=\"new\" xlink:title=\"psysml:3f429861-8945-458a-afac-b9814097464d\" xlink:type=\"simple\"><rect fill=\"#FEFECE\" filter=\"url(#fgzprbd1zin6z)\" height=\"45.9375\" id=\"E6\" rx=\"10\" ry=\"10\" style=\"stroke: #A80036; stroke-width: 1.5;\" width=\"97\" x=\"31.5\" y=\"217.5\"/><ellipse cx=\"46.5\" cy=\"236.4688\" fill=\"#FFA500\" rx=\"11\" ry=\"11\" style=\"stroke: #A80036; stroke-width: 1.0;\"/><path d=\"M42.375,238.3906 L42.375,230.5781 L44.8281,230.5781 L44.8281,239.0156 Q44.8281,239.9375 45.2969,240.4688 Q45.7813,241 46.6094,241 Q47.4531,241 47.9219,240.4688 Q48.3906,239.9375 48.3906,239.0156 L48.3906,230.5781 L50.8438,230.5781 L50.8438,238.3906 Q50.8438,240.9219 49.8438,242.0625 Q48.8438,243.2031 46.6094,243.2031 Q44.3906,243.2031 43.375,242.0625 Q42.375,240.9219 42.375,238.3906 Z \"/><text fill=\"#000000\" font-family=\"sans-serif\" font-size=\"12\" font-style=\"italic\" lengthAdjust=\"spacingAndGlyphs\" textLength=\"69\" x=\"58.5\" y=\"233.6387\">«attribute»</text><text fill=\"#000000\" font-family=\"sans-serif\" font-size=\"12\" lengthAdjust=\"spacingAndGlyphs\" textLength=\"6\" x=\"90\" y=\"247.6074\">x</text><line style=\"stroke: #A80036; stroke-width: 1.5;\" x1=\"32.5\" x2=\"127.5\" y1=\"255.4375\" y2=\"255.4375\"/></a><!--MD5=[2156ba9850f5573cc1fc38a6a4b2f02b]\n",
       "class E7--><a href=\"psysml:f3318431-0d45-43ea-b254-330318c85eb0\" target=\"_top\" title=\"psysml:f3318431-0d45-43ea-b254-330318c85eb0\" xlink:actuate=\"onRequest\" xlink:href=\"psysml:f3318431-0d45-43ea-b254-330318c85eb0\" xlink:show=\"new\" xlink:title=\"psysml:f3318431-0d45-43ea-b254-330318c85eb0\" xlink:type=\"simple\"><rect fill=\"#FEFECE\" filter=\"url(#fgzprbd1zin6z)\" height=\"45.9375\" id=\"E7\" rx=\"10\" ry=\"10\" style=\"stroke: #A80036; stroke-width: 1.5;\" width=\"97\" x=\"163.5\" y=\"217.5\"/><ellipse cx=\"178.5\" cy=\"236.4688\" fill=\"#FFA500\" rx=\"11\" ry=\"11\" style=\"stroke: #A80036; stroke-width: 1.0;\"/><path d=\"M174.375,238.3906 L174.375,230.5781 L176.8281,230.5781 L176.8281,239.0156 Q176.8281,239.9375 177.2969,240.4688 Q177.7813,241 178.6094,241 Q179.4531,241 179.9219,240.4688 Q180.3906,239.9375 180.3906,239.0156 L180.3906,230.5781 L182.8438,230.5781 L182.8438,238.3906 Q182.8438,240.9219 181.8438,242.0625 Q180.8438,243.2031 178.6094,243.2031 Q176.3906,243.2031 175.375,242.0625 Q174.375,240.9219 174.375,238.3906 Z \"/><text fill=\"#000000\" font-family=\"sans-serif\" font-size=\"12\" font-style=\"italic\" lengthAdjust=\"spacingAndGlyphs\" textLength=\"69\" x=\"190.5\" y=\"233.6387\">«attribute»</text><text fill=\"#000000\" font-family=\"sans-serif\" font-size=\"12\" lengthAdjust=\"spacingAndGlyphs\" textLength=\"6\" x=\"222\" y=\"247.6074\">y</text><line style=\"stroke: #A80036; stroke-width: 1.5;\" x1=\"164.5\" x2=\"259.5\" y1=\"255.4375\" y2=\"255.4375\"/></a><!--MD5=[b9389687b975829384b498ac4b7476b2]\n",
       "class E8--><a href=\"psysml:da180d87-042d-4ade-81c9-b5201399a446\" target=\"_top\" title=\"psysml:da180d87-042d-4ade-81c9-b5201399a446\" xlink:actuate=\"onRequest\" xlink:href=\"psysml:da180d87-042d-4ade-81c9-b5201399a446\" xlink:show=\"new\" xlink:title=\"psysml:da180d87-042d-4ade-81c9-b5201399a446\" xlink:type=\"simple\"><rect fill=\"#FEFECE\" filter=\"url(#fgzprbd1zin6z)\" height=\"45.9375\" id=\"E8\" rx=\"10\" ry=\"10\" style=\"stroke: #A80036; stroke-width: 1.5;\" width=\"97\" x=\"84.5\" y=\"87.5\"/><ellipse cx=\"99.5\" cy=\"106.4688\" fill=\"#FFA500\" rx=\"11\" ry=\"11\" style=\"stroke: #A80036; stroke-width: 1.0;\"/><path d=\"M95.375,108.3906 L95.375,100.5781 L97.8281,100.5781 L97.8281,109.0156 Q97.8281,109.9375 98.2969,110.4688 Q98.7813,111 99.6094,111 Q100.4531,111 100.9219,110.4688 Q101.3906,109.9375 101.3906,109.0156 L101.3906,100.5781 L103.8438,100.5781 L103.8438,108.3906 Q103.8438,110.9219 102.8438,112.0625 Q101.8438,113.2031 99.6094,113.2031 Q97.3906,113.2031 96.375,112.0625 Q95.375,110.9219 95.375,108.3906 Z \"/><text fill=\"#000000\" font-family=\"sans-serif\" font-size=\"12\" font-style=\"italic\" lengthAdjust=\"spacingAndGlyphs\" textLength=\"69\" x=\"111.5\" y=\"103.6387\">«attribute»</text><text fill=\"#000000\" font-family=\"sans-serif\" font-size=\"12\" lengthAdjust=\"spacingAndGlyphs\" textLength=\"5\" x=\"143.5\" y=\"117.6074\">z</text><line style=\"stroke: #A80036; stroke-width: 1.5;\" x1=\"85.5\" x2=\"180.5\" y1=\"125.4375\" y2=\"125.4375\"/></a><a href=\"psysml:7bbe8935-ee6e-44c3-abf9-e711bcee98e7\" target=\"_top\" title=\"psysml:7bbe8935-ee6e-44c3-abf9-e711bcee98e7\" xlink:actuate=\"onRequest\" xlink:href=\"psysml:7bbe8935-ee6e-44c3-abf9-e711bcee98e7\" xlink:show=\"new\" xlink:title=\"psysml:7bbe8935-ee6e-44c3-abf9-e711bcee98e7\" xlink:type=\"simple\"><polygon fill=\"#FFFFFF\" filter=\"url(#fgzprbd1zin6z)\" points=\"292,84,434,84,441,106.2969,448,106.2969,448,136.5938,292,136.5938,292,84\" style=\"stroke: #000000; stroke-width: 1.5;\"/><line style=\"stroke: #000000; stroke-width: 1.5;\" x1=\"292\" x2=\"441\" y1=\"106.2969\" y2=\"106.2969\"/><text fill=\"#000000\" font-family=\"sans-serif\" font-size=\"14\" font-weight=\"bold\" lengthAdjust=\"spacingAndGlyphs\" textLength=\"136\" x=\"296\" y=\"98.9951\">Application Layer</text></a><a href=\"psysml:8539df59-9777-43d1-9cbc-191f1e3b0af0\" target=\"_top\" title=\"psysml:8539df59-9777-43d1-9cbc-191f1e3b0af0\" xlink:actuate=\"onRequest\" xlink:href=\"psysml:8539df59-9777-43d1-9cbc-191f1e3b0af0\" xlink:show=\"new\" xlink:title=\"psysml:8539df59-9777-43d1-9cbc-191f1e3b0af0\" xlink:type=\"simple\"><polygon fill=\"#FFFFFF\" filter=\"url(#fgzprbd1zin6z)\" points=\"306,214,420,214,427,236.2969,434,236.2969,434,266.5938,306,266.5938,306,214\" style=\"stroke: #000000; stroke-width: 1.5;\"/><line style=\"stroke: #000000; stroke-width: 1.5;\" x1=\"306\" x2=\"427\" y1=\"236.2969\" y2=\"236.2969\"/><text fill=\"#000000\" font-family=\"sans-serif\" font-size=\"14\" font-weight=\"bold\" lengthAdjust=\"spacingAndGlyphs\" textLength=\"108\" x=\"310\" y=\"228.9951\">Service Layer</text></a><a href=\"psysml:06e8cf4d-e880-4b5c-8fdb-0871598a4cb3\" target=\"_top\" title=\"psysml:06e8cf4d-e880-4b5c-8fdb-0871598a4cb3\" xlink:actuate=\"onRequest\" xlink:href=\"psysml:06e8cf4d-e880-4b5c-8fdb-0871598a4cb3\" xlink:show=\"new\" xlink:title=\"psysml:06e8cf4d-e880-4b5c-8fdb-0871598a4cb3\" xlink:type=\"simple\"><polygon fill=\"#FFFFFF\" filter=\"url(#fgzprbd1zin6z)\" points=\"318,344,408,344,415,366.2969,422,366.2969,422,396.5938,318,396.5938,318,344\" style=\"stroke: #000000; stroke-width: 1.5;\"/><line style=\"stroke: #000000; stroke-width: 1.5;\" x1=\"318\" x2=\"415\" y1=\"366.2969\" y2=\"366.2969\"/><text fill=\"#000000\" font-family=\"sans-serif\" font-size=\"14\" font-weight=\"bold\" lengthAdjust=\"spacingAndGlyphs\" textLength=\"84\" x=\"322\" y=\"358.9951\">Data Layer</text></a><!--MD5=[af87c684e3b0d8be13c1a698a818ef1e]\n",
       "link E3 to E4--><a href=\"psysml:ddd06611-1e40-467d-8133-a183585a6da5\" target=\"_top\" title=\"psysml:ddd06611-1e40-467d-8133-a183585a6da5\" xlink:actuate=\"onRequest\" xlink:href=\"psysml:ddd06611-1e40-467d-8133-a183585a6da5\" xlink:show=\"new\" xlink:title=\"psysml:ddd06611-1e40-467d-8133-a183585a6da5\" xlink:type=\"simple\"><path d=\"M370,137.1 C370,156.8 370,184.22 370,205.73 \" fill=\"none\" id=\"E3-&gt;E4\" style=\"stroke: #A80036; stroke-width: 1.0; stroke-dasharray: 7.0,7.0;\"/><polygon fill=\"#A80036\" points=\"370,213.95,373,205.95,367,205.95,370,213.95\" style=\"stroke: #A80036; stroke-width: 1.0;\"/><text fill=\"#000000\" font-family=\"sans-serif\" font-size=\"13\" lengthAdjust=\"spacingAndGlyphs\" textLength=\"64\" x=\"371\" y=\"180.0669\">«depend»</text></a><!--MD5=[1b7591eae5389033d8d09a9d6721a717]\n",
       "link E4 to E5--><a href=\"psysml:b5c0928c-fbc9-4433-ab1e-c084bfbcebd5\" target=\"_top\" title=\"psysml:b5c0928c-fbc9-4433-ab1e-c084bfbcebd5\" xlink:actuate=\"onRequest\" xlink:href=\"psysml:b5c0928c-fbc9-4433-ab1e-c084bfbcebd5\" xlink:show=\"new\" xlink:title=\"psysml:b5c0928c-fbc9-4433-ab1e-c084bfbcebd5\" xlink:type=\"simple\"><path d=\"M370,267.1 C370,286.8 370,314.22 370,335.73 \" fill=\"none\" id=\"E4-&gt;E5\" style=\"stroke: #A80036; stroke-width: 1.0; stroke-dasharray: 7.0,7.0;\"/><polygon fill=\"#A80036\" points=\"370,343.95,373,335.95,367,335.95,370,343.95\" style=\"stroke: #A80036; stroke-width: 1.0;\"/><text fill=\"#000000\" font-family=\"sans-serif\" font-size=\"13\" lengthAdjust=\"spacingAndGlyphs\" textLength=\"64\" x=\"371\" y=\"310.0669\">«depend»</text></a><!--MD5=[c5e8897d989ce984f93528998a7150fe]\n",
       "link E8 to E6--><a href=\"psysml:a0e318cd-0c17-433c-bc04-dbf1eaa3473c\" target=\"_top\" title=\"psysml:a0e318cd-0c17-433c-bc04-dbf1eaa3473c\" xlink:actuate=\"onRequest\" xlink:href=\"psysml:a0e318cd-0c17-433c-bc04-dbf1eaa3473c\" xlink:show=\"new\" xlink:title=\"psysml:a0e318cd-0c17-433c-bc04-dbf1eaa3473c\" xlink:type=\"simple\"><path d=\"M106.44,133.76 C97.3,143.01 88.09,154.51 83,167 C77.6,180.23 76.4,195.98 76.73,209.41 \" fill=\"none\" id=\"E8-&gt;E6\" style=\"stroke: #A80036; stroke-width: 1.0; stroke-dasharray: 7.0,7.0;\"/><polygon fill=\"#A80036\" points=\"77.12,217.43,79.7306,209.2946,73.7375,209.584,77.12,217.43\" style=\"stroke: #A80036; stroke-width: 1.0;\"/><text fill=\"#000000\" font-family=\"sans-serif\" font-size=\"13\" lengthAdjust=\"spacingAndGlyphs\" textLength=\"64\" x=\"84\" y=\"180.0669\">«depend»</text></a><!--MD5=[bfa3c8b0d15052fdf50ae9310b491027]\n",
       "link E8 to E7--><a href=\"psysml:a0e318cd-0c17-433c-bc04-dbf1eaa3473c\" target=\"_top\" title=\"psysml:a0e318cd-0c17-433c-bc04-dbf1eaa3473c\" xlink:actuate=\"onRequest\" xlink:href=\"psysml:a0e318cd-0c17-433c-bc04-dbf1eaa3473c\" xlink:show=\"new\" xlink:title=\"psysml:a0e318cd-0c17-433c-bc04-dbf1eaa3473c\" xlink:type=\"simple\"><path d=\"M146.58,133.5 C159.69,154.75 179.63,187.05 194.05,210.41 \" fill=\"none\" id=\"E8-&gt;E7\" style=\"stroke: #A80036; stroke-width: 1.0; stroke-dasharray: 7.0,7.0;\"/><polygon fill=\"#A80036\" points=\"198.33,217.35,196.6785,208.9671,191.5737,212.1201,198.33,217.35\" style=\"stroke: #A80036; stroke-width: 1.0;\"/><text fill=\"#000000\" font-family=\"sans-serif\" font-size=\"13\" lengthAdjust=\"spacingAndGlyphs\" textLength=\"64\" x=\"178\" y=\"180.0669\">«depend»</text></a><!--MD5=[617b6e7d8fed928016371cc69440cc93]\n",
       "@startuml\r\n",
       " \r\n",
       "package \"DependencyTest\" as E1  [[psysml:01e86263-1e08-4c5e-80c8-9f3a01cb2b1c ]]  {\r\n",
       "package \"System\" as E2  [[psysml:65d9c171-277b-4a12-8988-537cd17218fe ]]  {\r\n",
       "package \"Application Layer\" as E3  [[psysml:7bbe8935-ee6e-44c3-abf9-e711bcee98e7 ]]  {\r\n",
       "}\r\n",
       "package \"Service Layer\" as E4  [[psysml:8539df59-9777-43d1-9cbc-191f1e3b0af0 ]]  {\r\n",
       "}\r\n",
       "package \"Data Layer\" as E5  [[psysml:06e8cf4d-e880-4b5c-8fdb-0871598a4cb3 ]]  {\r\n",
       "}\r\n",
       "}\r\n",
       "comp usage \"x\" as E6  <<(U,orange)attribute>> [[psysml:3f429861-8945-458a-afac-b9814097464d ]] {\r\n",
       "}\r\n",
       "comp usage \"y\" as E7  <<(U,orange)attribute>> [[psysml:f3318431-0d45-43ea-b254-330318c85eb0 ]] {\r\n",
       "}\r\n",
       "comp usage \"z\" as E8  <<(U,orange)attribute>> [[psysml:da180d87-042d-4ade-81c9-b5201399a446 ]] {\r\n",
       "}\r\n",
       "E3 ..>> E4 [[psysml:ddd06611-1e40-467d-8133-a183585a6da5 ]] : <<depend>>\r\n",
       "E4 ..>> E5 [[psysml:b5c0928c-fbc9-4433-ab1e-c084bfbcebd5 ]] : <<depend>>\r\n",
       "E8 ..>> E6 [[psysml:a0e318cd-0c17-433c-bc04-dbf1eaa3473c ]] : <<depend>>\r\n",
       "E8 ..>> E7 [[psysml:a0e318cd-0c17-433c-bc04-dbf1eaa3473c ]] : <<depend>>\r\n",
       "}\r\n",
       "@enduml\r\n",
       "\n",
       "PlantUML version 1.2020.13(Sat Jun 13 12:26:38 UTC 2020)\n",
       "(EPL source distribution)\n",
       "Java Runtime: OpenJDK Runtime Environment\n",
       "JVM: OpenJDK 64-Bit Server VM\n",
       "Default Encoding: UTF-8\n",
       "Language: en\n",
       "Country: null\n",
       "--></g></svg>"
      ]
     },
     "execution_count": 35,
     "metadata": {},
     "output_type": "execute_result"
    }
   ],
   "source": [
    "%viz --style=\"PLANTUML\" --view=\"Sequence\" \"DependencyTest\""
   ]
  },
  {
   "cell_type": "code",
   "execution_count": 36,
   "id": "egyptian-egyptian",
   "metadata": {
    "execution": {
     "iopub.execute_input": "2021-03-25T15:09:49.925104Z",
     "iopub.status.busy": "2021-03-25T15:09:49.924415Z",
     "iopub.status.idle": "2021-03-25T15:09:50.021183Z",
     "shell.execute_reply": "2021-03-25T15:09:50.018835Z"
    }
   },
   "outputs": [
    {
     "data": {
      "image/svg+xml": [
       "<?xml version=\"1.0\" encoding=\"UTF-8\" standalone=\"no\"?><svg xmlns=\"http://www.w3.org/2000/svg\" xmlns:xlink=\"http://www.w3.org/1999/xlink\" contentScriptType=\"application/ecmascript\" contentStyleType=\"text/css\" height=\"449px\" preserveAspectRatio=\"none\" style=\"width:510px;height:449px;\" version=\"1.1\" viewBox=\"0 0 510 449\" width=\"510px\" zoomAndPan=\"magnify\"><defs><filter height=\"300%\" id=\"fgzprbd1zin6z\" width=\"300%\" x=\"-1\" y=\"-1\"><feGaussianBlur result=\"blurOut\" stdDeviation=\"2.0\"/><feColorMatrix in=\"blurOut\" result=\"blurOut2\" type=\"matrix\" values=\"0 0 0 0 0 0 0 0 0 0 0 0 0 0 0 0 0 0 .4 0\"/><feOffset dx=\"4.0\" dy=\"4.0\" in=\"blurOut2\" result=\"blurOut3\"/><feBlend in=\"SourceGraphic\" in2=\"blurOut3\" mode=\"normal\"/></filter></defs><g><!--MD5=[fbc87193dbaf4d95561dea2c320d4a47]\n",
       "cluster E1--><a href=\"psysml:01e86263-1e08-4c5e-80c8-9f3a01cb2b1c\" target=\"_top\" title=\"psysml:01e86263-1e08-4c5e-80c8-9f3a01cb2b1c\" xlink:actuate=\"onRequest\" xlink:href=\"psysml:01e86263-1e08-4c5e-80c8-9f3a01cb2b1c\" xlink:show=\"new\" xlink:title=\"psysml:01e86263-1e08-4c5e-80c8-9f3a01cb2b1c\" xlink:type=\"simple\"><polygon fill=\"#FFFFFF\" filter=\"url(#fgzprbd1zin6z)\" points=\"16,6,156,6,163,28.2969,488,28.2969,488,437,16,437,16,6\" style=\"stroke: #000000; stroke-width: 1.5;\"/><line style=\"stroke: #000000; stroke-width: 1.5;\" x1=\"16\" x2=\"163\" y1=\"28.2969\" y2=\"28.2969\"/><text fill=\"#000000\" font-family=\"sans-serif\" font-size=\"14\" font-weight=\"bold\" lengthAdjust=\"spacingAndGlyphs\" textLength=\"134\" x=\"20\" y=\"20.9951\">DependencyTest</text></a><!--MD5=[e4f7fae6ed58524ba242bb0b0d3be6b7]\n",
       "cluster E2--><a href=\"psysml:65d9c171-277b-4a12-8988-537cd17218fe\" target=\"_top\" title=\"psysml:65d9c171-277b-4a12-8988-537cd17218fe\" xlink:actuate=\"onRequest\" xlink:href=\"psysml:65d9c171-277b-4a12-8988-537cd17218fe\" xlink:show=\"new\" xlink:title=\"psysml:65d9c171-277b-4a12-8988-537cd17218fe\" xlink:type=\"simple\"><polygon fill=\"#FFFFFF\" filter=\"url(#fgzprbd1zin6z)\" points=\"276,49,340,49,347,71.2969,464,71.2969,464,413,276,413,276,49\" style=\"stroke: #000000; stroke-width: 1.5;\"/><line style=\"stroke: #000000; stroke-width: 1.5;\" x1=\"276\" x2=\"347\" y1=\"71.2969\" y2=\"71.2969\"/><text fill=\"#000000\" font-family=\"sans-serif\" font-size=\"14\" font-weight=\"bold\" lengthAdjust=\"spacingAndGlyphs\" textLength=\"58\" x=\"280\" y=\"63.9951\">System</text></a><!--MD5=[60a26617385b1d2d0262a64233df1f8d]\n",
       "class E6--><a href=\"psysml:3f429861-8945-458a-afac-b9814097464d\" target=\"_top\" title=\"psysml:3f429861-8945-458a-afac-b9814097464d\" xlink:actuate=\"onRequest\" xlink:href=\"psysml:3f429861-8945-458a-afac-b9814097464d\" xlink:show=\"new\" xlink:title=\"psysml:3f429861-8945-458a-afac-b9814097464d\" xlink:type=\"simple\"><rect fill=\"#FEFECE\" filter=\"url(#fgzprbd1zin6z)\" height=\"45.9375\" id=\"E6\" rx=\"10\" ry=\"10\" style=\"stroke: #A80036; stroke-width: 1.5;\" width=\"97\" x=\"31.5\" y=\"217.5\"/><ellipse cx=\"46.5\" cy=\"236.4688\" fill=\"#FFA500\" rx=\"11\" ry=\"11\" style=\"stroke: #A80036; stroke-width: 1.0;\"/><path d=\"M42.375,238.3906 L42.375,230.5781 L44.8281,230.5781 L44.8281,239.0156 Q44.8281,239.9375 45.2969,240.4688 Q45.7813,241 46.6094,241 Q47.4531,241 47.9219,240.4688 Q48.3906,239.9375 48.3906,239.0156 L48.3906,230.5781 L50.8438,230.5781 L50.8438,238.3906 Q50.8438,240.9219 49.8438,242.0625 Q48.8438,243.2031 46.6094,243.2031 Q44.3906,243.2031 43.375,242.0625 Q42.375,240.9219 42.375,238.3906 Z \"/><text fill=\"#000000\" font-family=\"sans-serif\" font-size=\"12\" font-style=\"italic\" lengthAdjust=\"spacingAndGlyphs\" textLength=\"69\" x=\"58.5\" y=\"233.6387\">«attribute»</text><text fill=\"#000000\" font-family=\"sans-serif\" font-size=\"12\" lengthAdjust=\"spacingAndGlyphs\" textLength=\"6\" x=\"90\" y=\"247.6074\">x</text><line style=\"stroke: #A80036; stroke-width: 1.5;\" x1=\"32.5\" x2=\"127.5\" y1=\"255.4375\" y2=\"255.4375\"/></a><!--MD5=[2156ba9850f5573cc1fc38a6a4b2f02b]\n",
       "class E7--><a href=\"psysml:f3318431-0d45-43ea-b254-330318c85eb0\" target=\"_top\" title=\"psysml:f3318431-0d45-43ea-b254-330318c85eb0\" xlink:actuate=\"onRequest\" xlink:href=\"psysml:f3318431-0d45-43ea-b254-330318c85eb0\" xlink:show=\"new\" xlink:title=\"psysml:f3318431-0d45-43ea-b254-330318c85eb0\" xlink:type=\"simple\"><rect fill=\"#FEFECE\" filter=\"url(#fgzprbd1zin6z)\" height=\"45.9375\" id=\"E7\" rx=\"10\" ry=\"10\" style=\"stroke: #A80036; stroke-width: 1.5;\" width=\"97\" x=\"163.5\" y=\"217.5\"/><ellipse cx=\"178.5\" cy=\"236.4688\" fill=\"#FFA500\" rx=\"11\" ry=\"11\" style=\"stroke: #A80036; stroke-width: 1.0;\"/><path d=\"M174.375,238.3906 L174.375,230.5781 L176.8281,230.5781 L176.8281,239.0156 Q176.8281,239.9375 177.2969,240.4688 Q177.7813,241 178.6094,241 Q179.4531,241 179.9219,240.4688 Q180.3906,239.9375 180.3906,239.0156 L180.3906,230.5781 L182.8438,230.5781 L182.8438,238.3906 Q182.8438,240.9219 181.8438,242.0625 Q180.8438,243.2031 178.6094,243.2031 Q176.3906,243.2031 175.375,242.0625 Q174.375,240.9219 174.375,238.3906 Z \"/><text fill=\"#000000\" font-family=\"sans-serif\" font-size=\"12\" font-style=\"italic\" lengthAdjust=\"spacingAndGlyphs\" textLength=\"69\" x=\"190.5\" y=\"233.6387\">«attribute»</text><text fill=\"#000000\" font-family=\"sans-serif\" font-size=\"12\" lengthAdjust=\"spacingAndGlyphs\" textLength=\"6\" x=\"222\" y=\"247.6074\">y</text><line style=\"stroke: #A80036; stroke-width: 1.5;\" x1=\"164.5\" x2=\"259.5\" y1=\"255.4375\" y2=\"255.4375\"/></a><!--MD5=[b9389687b975829384b498ac4b7476b2]\n",
       "class E8--><a href=\"psysml:da180d87-042d-4ade-81c9-b5201399a446\" target=\"_top\" title=\"psysml:da180d87-042d-4ade-81c9-b5201399a446\" xlink:actuate=\"onRequest\" xlink:href=\"psysml:da180d87-042d-4ade-81c9-b5201399a446\" xlink:show=\"new\" xlink:title=\"psysml:da180d87-042d-4ade-81c9-b5201399a446\" xlink:type=\"simple\"><rect fill=\"#FEFECE\" filter=\"url(#fgzprbd1zin6z)\" height=\"45.9375\" id=\"E8\" rx=\"10\" ry=\"10\" style=\"stroke: #A80036; stroke-width: 1.5;\" width=\"97\" x=\"84.5\" y=\"87.5\"/><ellipse cx=\"99.5\" cy=\"106.4688\" fill=\"#FFA500\" rx=\"11\" ry=\"11\" style=\"stroke: #A80036; stroke-width: 1.0;\"/><path d=\"M95.375,108.3906 L95.375,100.5781 L97.8281,100.5781 L97.8281,109.0156 Q97.8281,109.9375 98.2969,110.4688 Q98.7813,111 99.6094,111 Q100.4531,111 100.9219,110.4688 Q101.3906,109.9375 101.3906,109.0156 L101.3906,100.5781 L103.8438,100.5781 L103.8438,108.3906 Q103.8438,110.9219 102.8438,112.0625 Q101.8438,113.2031 99.6094,113.2031 Q97.3906,113.2031 96.375,112.0625 Q95.375,110.9219 95.375,108.3906 Z \"/><text fill=\"#000000\" font-family=\"sans-serif\" font-size=\"12\" font-style=\"italic\" lengthAdjust=\"spacingAndGlyphs\" textLength=\"69\" x=\"111.5\" y=\"103.6387\">«attribute»</text><text fill=\"#000000\" font-family=\"sans-serif\" font-size=\"12\" lengthAdjust=\"spacingAndGlyphs\" textLength=\"5\" x=\"143.5\" y=\"117.6074\">z</text><line style=\"stroke: #A80036; stroke-width: 1.5;\" x1=\"85.5\" x2=\"180.5\" y1=\"125.4375\" y2=\"125.4375\"/></a><a href=\"psysml:7bbe8935-ee6e-44c3-abf9-e711bcee98e7\" target=\"_top\" title=\"psysml:7bbe8935-ee6e-44c3-abf9-e711bcee98e7\" xlink:actuate=\"onRequest\" xlink:href=\"psysml:7bbe8935-ee6e-44c3-abf9-e711bcee98e7\" xlink:show=\"new\" xlink:title=\"psysml:7bbe8935-ee6e-44c3-abf9-e711bcee98e7\" xlink:type=\"simple\"><polygon fill=\"#FFFFFF\" filter=\"url(#fgzprbd1zin6z)\" points=\"292,84,434,84,441,106.2969,448,106.2969,448,136.5938,292,136.5938,292,84\" style=\"stroke: #000000; stroke-width: 1.5;\"/><line style=\"stroke: #000000; stroke-width: 1.5;\" x1=\"292\" x2=\"441\" y1=\"106.2969\" y2=\"106.2969\"/><text fill=\"#000000\" font-family=\"sans-serif\" font-size=\"14\" font-weight=\"bold\" lengthAdjust=\"spacingAndGlyphs\" textLength=\"136\" x=\"296\" y=\"98.9951\">Application Layer</text></a><a href=\"psysml:8539df59-9777-43d1-9cbc-191f1e3b0af0\" target=\"_top\" title=\"psysml:8539df59-9777-43d1-9cbc-191f1e3b0af0\" xlink:actuate=\"onRequest\" xlink:href=\"psysml:8539df59-9777-43d1-9cbc-191f1e3b0af0\" xlink:show=\"new\" xlink:title=\"psysml:8539df59-9777-43d1-9cbc-191f1e3b0af0\" xlink:type=\"simple\"><polygon fill=\"#FFFFFF\" filter=\"url(#fgzprbd1zin6z)\" points=\"306,214,420,214,427,236.2969,434,236.2969,434,266.5938,306,266.5938,306,214\" style=\"stroke: #000000; stroke-width: 1.5;\"/><line style=\"stroke: #000000; stroke-width: 1.5;\" x1=\"306\" x2=\"427\" y1=\"236.2969\" y2=\"236.2969\"/><text fill=\"#000000\" font-family=\"sans-serif\" font-size=\"14\" font-weight=\"bold\" lengthAdjust=\"spacingAndGlyphs\" textLength=\"108\" x=\"310\" y=\"228.9951\">Service Layer</text></a><a href=\"psysml:06e8cf4d-e880-4b5c-8fdb-0871598a4cb3\" target=\"_top\" title=\"psysml:06e8cf4d-e880-4b5c-8fdb-0871598a4cb3\" xlink:actuate=\"onRequest\" xlink:href=\"psysml:06e8cf4d-e880-4b5c-8fdb-0871598a4cb3\" xlink:show=\"new\" xlink:title=\"psysml:06e8cf4d-e880-4b5c-8fdb-0871598a4cb3\" xlink:type=\"simple\"><polygon fill=\"#FFFFFF\" filter=\"url(#fgzprbd1zin6z)\" points=\"318,344,408,344,415,366.2969,422,366.2969,422,396.5938,318,396.5938,318,344\" style=\"stroke: #000000; stroke-width: 1.5;\"/><line style=\"stroke: #000000; stroke-width: 1.5;\" x1=\"318\" x2=\"415\" y1=\"366.2969\" y2=\"366.2969\"/><text fill=\"#000000\" font-family=\"sans-serif\" font-size=\"14\" font-weight=\"bold\" lengthAdjust=\"spacingAndGlyphs\" textLength=\"84\" x=\"322\" y=\"358.9951\">Data Layer</text></a><!--MD5=[af87c684e3b0d8be13c1a698a818ef1e]\n",
       "link E3 to E4--><a href=\"psysml:ddd06611-1e40-467d-8133-a183585a6da5\" target=\"_top\" title=\"psysml:ddd06611-1e40-467d-8133-a183585a6da5\" xlink:actuate=\"onRequest\" xlink:href=\"psysml:ddd06611-1e40-467d-8133-a183585a6da5\" xlink:show=\"new\" xlink:title=\"psysml:ddd06611-1e40-467d-8133-a183585a6da5\" xlink:type=\"simple\"><path d=\"M370,137.1 C370,156.8 370,184.22 370,205.73 \" fill=\"none\" id=\"E3-&gt;E4\" style=\"stroke: #A80036; stroke-width: 1.0; stroke-dasharray: 7.0,7.0;\"/><polygon fill=\"#A80036\" points=\"370,213.95,373,205.95,367,205.95,370,213.95\" style=\"stroke: #A80036; stroke-width: 1.0;\"/><text fill=\"#000000\" font-family=\"sans-serif\" font-size=\"13\" lengthAdjust=\"spacingAndGlyphs\" textLength=\"64\" x=\"371\" y=\"180.0669\">«depend»</text></a><!--MD5=[1b7591eae5389033d8d09a9d6721a717]\n",
       "link E4 to E5--><a href=\"psysml:b5c0928c-fbc9-4433-ab1e-c084bfbcebd5\" target=\"_top\" title=\"psysml:b5c0928c-fbc9-4433-ab1e-c084bfbcebd5\" xlink:actuate=\"onRequest\" xlink:href=\"psysml:b5c0928c-fbc9-4433-ab1e-c084bfbcebd5\" xlink:show=\"new\" xlink:title=\"psysml:b5c0928c-fbc9-4433-ab1e-c084bfbcebd5\" xlink:type=\"simple\"><path d=\"M370,267.1 C370,286.8 370,314.22 370,335.73 \" fill=\"none\" id=\"E4-&gt;E5\" style=\"stroke: #A80036; stroke-width: 1.0; stroke-dasharray: 7.0,7.0;\"/><polygon fill=\"#A80036\" points=\"370,343.95,373,335.95,367,335.95,370,343.95\" style=\"stroke: #A80036; stroke-width: 1.0;\"/><text fill=\"#000000\" font-family=\"sans-serif\" font-size=\"13\" lengthAdjust=\"spacingAndGlyphs\" textLength=\"64\" x=\"371\" y=\"310.0669\">«depend»</text></a><!--MD5=[c5e8897d989ce984f93528998a7150fe]\n",
       "link E8 to E6--><a href=\"psysml:a0e318cd-0c17-433c-bc04-dbf1eaa3473c\" target=\"_top\" title=\"psysml:a0e318cd-0c17-433c-bc04-dbf1eaa3473c\" xlink:actuate=\"onRequest\" xlink:href=\"psysml:a0e318cd-0c17-433c-bc04-dbf1eaa3473c\" xlink:show=\"new\" xlink:title=\"psysml:a0e318cd-0c17-433c-bc04-dbf1eaa3473c\" xlink:type=\"simple\"><path d=\"M106.44,133.76 C97.3,143.01 88.09,154.51 83,167 C77.6,180.23 76.4,195.98 76.73,209.41 \" fill=\"none\" id=\"E8-&gt;E6\" style=\"stroke: #A80036; stroke-width: 1.0; stroke-dasharray: 7.0,7.0;\"/><polygon fill=\"#A80036\" points=\"77.12,217.43,79.7306,209.2946,73.7375,209.584,77.12,217.43\" style=\"stroke: #A80036; stroke-width: 1.0;\"/><text fill=\"#000000\" font-family=\"sans-serif\" font-size=\"13\" lengthAdjust=\"spacingAndGlyphs\" textLength=\"64\" x=\"84\" y=\"180.0669\">«depend»</text></a><!--MD5=[bfa3c8b0d15052fdf50ae9310b491027]\n",
       "link E8 to E7--><a href=\"psysml:a0e318cd-0c17-433c-bc04-dbf1eaa3473c\" target=\"_top\" title=\"psysml:a0e318cd-0c17-433c-bc04-dbf1eaa3473c\" xlink:actuate=\"onRequest\" xlink:href=\"psysml:a0e318cd-0c17-433c-bc04-dbf1eaa3473c\" xlink:show=\"new\" xlink:title=\"psysml:a0e318cd-0c17-433c-bc04-dbf1eaa3473c\" xlink:type=\"simple\"><path d=\"M146.58,133.5 C159.69,154.75 179.63,187.05 194.05,210.41 \" fill=\"none\" id=\"E8-&gt;E7\" style=\"stroke: #A80036; stroke-width: 1.0; stroke-dasharray: 7.0,7.0;\"/><polygon fill=\"#A80036\" points=\"198.33,217.35,196.6785,208.9671,191.5737,212.1201,198.33,217.35\" style=\"stroke: #A80036; stroke-width: 1.0;\"/><text fill=\"#000000\" font-family=\"sans-serif\" font-size=\"13\" lengthAdjust=\"spacingAndGlyphs\" textLength=\"64\" x=\"178\" y=\"180.0669\">«depend»</text></a><!--MD5=[617b6e7d8fed928016371cc69440cc93]\n",
       "@startuml\r\n",
       " \r\n",
       "package \"DependencyTest\" as E1  [[psysml:01e86263-1e08-4c5e-80c8-9f3a01cb2b1c ]]  {\r\n",
       "package \"System\" as E2  [[psysml:65d9c171-277b-4a12-8988-537cd17218fe ]]  {\r\n",
       "package \"Application Layer\" as E3  [[psysml:7bbe8935-ee6e-44c3-abf9-e711bcee98e7 ]]  {\r\n",
       "}\r\n",
       "package \"Service Layer\" as E4  [[psysml:8539df59-9777-43d1-9cbc-191f1e3b0af0 ]]  {\r\n",
       "}\r\n",
       "package \"Data Layer\" as E5  [[psysml:06e8cf4d-e880-4b5c-8fdb-0871598a4cb3 ]]  {\r\n",
       "}\r\n",
       "}\r\n",
       "comp usage \"x\" as E6  <<(U,orange)attribute>> [[psysml:3f429861-8945-458a-afac-b9814097464d ]] {\r\n",
       "}\r\n",
       "comp usage \"y\" as E7  <<(U,orange)attribute>> [[psysml:f3318431-0d45-43ea-b254-330318c85eb0 ]] {\r\n",
       "}\r\n",
       "comp usage \"z\" as E8  <<(U,orange)attribute>> [[psysml:da180d87-042d-4ade-81c9-b5201399a446 ]] {\r\n",
       "}\r\n",
       "E3 ..>> E4 [[psysml:ddd06611-1e40-467d-8133-a183585a6da5 ]] : <<depend>>\r\n",
       "E4 ..>> E5 [[psysml:b5c0928c-fbc9-4433-ab1e-c084bfbcebd5 ]] : <<depend>>\r\n",
       "E8 ..>> E6 [[psysml:a0e318cd-0c17-433c-bc04-dbf1eaa3473c ]] : <<depend>>\r\n",
       "E8 ..>> E7 [[psysml:a0e318cd-0c17-433c-bc04-dbf1eaa3473c ]] : <<depend>>\r\n",
       "}\r\n",
       "@enduml\r\n",
       "\n",
       "PlantUML version 1.2020.13(Sat Jun 13 12:26:38 UTC 2020)\n",
       "(EPL source distribution)\n",
       "Java Runtime: OpenJDK Runtime Environment\n",
       "JVM: OpenJDK 64-Bit Server VM\n",
       "Default Encoding: UTF-8\n",
       "Language: en\n",
       "Country: null\n",
       "--></g></svg>"
      ]
     },
     "execution_count": 36,
     "metadata": {},
     "output_type": "execute_result"
    }
   ],
   "source": [
    "%viz --style=\"PLANTUML\" --view=\"MIXED\" \"DependencyTest\""
   ]
  },
  {
   "cell_type": "code",
   "execution_count": 37,
   "id": "surrounded-mortgage",
   "metadata": {
    "execution": {
     "iopub.execute_input": "2021-03-25T15:09:50.072649Z",
     "iopub.status.busy": "2021-03-25T15:09:50.071942Z",
     "iopub.status.idle": "2021-03-25T15:09:50.168199Z",
     "shell.execute_reply": "2021-03-25T15:09:50.166546Z"
    }
   },
   "outputs": [
    {
     "data": {
      "image/svg+xml": [
       "<?xml version=\"1.0\" encoding=\"UTF-8\" standalone=\"no\"?><svg xmlns=\"http://www.w3.org/2000/svg\" xmlns:xlink=\"http://www.w3.org/1999/xlink\" contentScriptType=\"application/ecmascript\" contentStyleType=\"text/css\" height=\"449px\" preserveAspectRatio=\"none\" style=\"width:489px;height:449px;\" version=\"1.1\" viewBox=\"0 0 489 449\" width=\"489px\" zoomAndPan=\"magnify\"><defs/><g><!--MD5=[fbc87193dbaf4d95561dea2c320d4a47]\n",
       "cluster E1--><a href=\"psysml:01e86263-1e08-4c5e-80c8-9f3a01cb2b1c\" target=\"_top\" title=\"psysml:01e86263-1e08-4c5e-80c8-9f3a01cb2b1c\" xlink:actuate=\"onRequest\" xlink:href=\"psysml:01e86263-1e08-4c5e-80c8-9f3a01cb2b1c\" xlink:show=\"new\" xlink:title=\"psysml:01e86263-1e08-4c5e-80c8-9f3a01cb2b1c\" xlink:type=\"simple\"><polygon fill=\"#FFFFFF\" points=\"16,6,156,6,163,28.2969,467,28.2969,467,437,16,437,16,6\" style=\"stroke: #000000; stroke-width: 1.5;\"/><line style=\"stroke: #000000; stroke-width: 1.5;\" x1=\"16\" x2=\"163\" y1=\"28.2969\" y2=\"28.2969\"/><text fill=\"#000000\" font-family=\"sans-serif\" font-size=\"14\" font-weight=\"bold\" lengthAdjust=\"spacingAndGlyphs\" textLength=\"134\" x=\"20\" y=\"20.9951\">DependencyTest</text></a><!--MD5=[e4f7fae6ed58524ba242bb0b0d3be6b7]\n",
       "cluster E2--><a href=\"psysml:65d9c171-277b-4a12-8988-537cd17218fe\" target=\"_top\" title=\"psysml:65d9c171-277b-4a12-8988-537cd17218fe\" xlink:actuate=\"onRequest\" xlink:href=\"psysml:65d9c171-277b-4a12-8988-537cd17218fe\" xlink:show=\"new\" xlink:title=\"psysml:65d9c171-277b-4a12-8988-537cd17218fe\" xlink:type=\"simple\"><polygon fill=\"#FFFFFF\" points=\"255,49,319,49,326,71.2969,443,71.2969,443,413,255,413,255,49\" style=\"stroke: #000000; stroke-width: 1.5;\"/><line style=\"stroke: #000000; stroke-width: 1.5;\" x1=\"255\" x2=\"326\" y1=\"71.2969\" y2=\"71.2969\"/><text fill=\"#000000\" font-family=\"sans-serif\" font-size=\"14\" font-weight=\"bold\" lengthAdjust=\"spacingAndGlyphs\" textLength=\"58\" x=\"259\" y=\"63.9951\">System</text></a><!--MD5=[60a26617385b1d2d0262a64233df1f8d]\n",
       "class E6--><a href=\"psysml:3f429861-8945-458a-afac-b9814097464d\" target=\"_top\" title=\"psysml:3f429861-8945-458a-afac-b9814097464d\" xlink:actuate=\"onRequest\" xlink:href=\"psysml:3f429861-8945-458a-afac-b9814097464d\" xlink:show=\"new\" xlink:title=\"psysml:3f429861-8945-458a-afac-b9814097464d\" xlink:type=\"simple\"><rect fill=\"#FFFFFF\" height=\"45.9375\" id=\"E6\" rx=\"10\" ry=\"10\" style=\"stroke: #383838; stroke-width: 1.5;\" width=\"71\" x=\"32.5\" y=\"217.5\"/><text fill=\"#000000\" font-family=\"sans-serif\" font-size=\"12\" font-style=\"italic\" lengthAdjust=\"spacingAndGlyphs\" textLength=\"69\" x=\"33.5\" y=\"233.6387\">«attribute»</text><text fill=\"#000000\" font-family=\"sans-serif\" font-size=\"12\" lengthAdjust=\"spacingAndGlyphs\" textLength=\"6\" x=\"65\" y=\"247.6074\">x</text><line style=\"stroke: #383838; stroke-width: 1.5;\" x1=\"33.5\" x2=\"102.5\" y1=\"255.4375\" y2=\"255.4375\"/></a><!--MD5=[2156ba9850f5573cc1fc38a6a4b2f02b]\n",
       "class E7--><a href=\"psysml:f3318431-0d45-43ea-b254-330318c85eb0\" target=\"_top\" title=\"psysml:f3318431-0d45-43ea-b254-330318c85eb0\" xlink:actuate=\"onRequest\" xlink:href=\"psysml:f3318431-0d45-43ea-b254-330318c85eb0\" xlink:show=\"new\" xlink:title=\"psysml:f3318431-0d45-43ea-b254-330318c85eb0\" xlink:type=\"simple\"><rect fill=\"#FFFFFF\" height=\"45.9375\" id=\"E7\" rx=\"10\" ry=\"10\" style=\"stroke: #383838; stroke-width: 1.5;\" width=\"71\" x=\"138.5\" y=\"217.5\"/><text fill=\"#000000\" font-family=\"sans-serif\" font-size=\"12\" font-style=\"italic\" lengthAdjust=\"spacingAndGlyphs\" textLength=\"69\" x=\"139.5\" y=\"233.6387\">«attribute»</text><text fill=\"#000000\" font-family=\"sans-serif\" font-size=\"12\" lengthAdjust=\"spacingAndGlyphs\" textLength=\"6\" x=\"171\" y=\"247.6074\">y</text><line style=\"stroke: #383838; stroke-width: 1.5;\" x1=\"139.5\" x2=\"208.5\" y1=\"255.4375\" y2=\"255.4375\"/></a><!--MD5=[b9389687b975829384b498ac4b7476b2]\n",
       "class E8--><a href=\"psysml:da180d87-042d-4ade-81c9-b5201399a446\" target=\"_top\" title=\"psysml:da180d87-042d-4ade-81c9-b5201399a446\" xlink:actuate=\"onRequest\" xlink:href=\"psysml:da180d87-042d-4ade-81c9-b5201399a446\" xlink:show=\"new\" xlink:title=\"psysml:da180d87-042d-4ade-81c9-b5201399a446\" xlink:type=\"simple\"><rect fill=\"#FFFFFF\" height=\"45.9375\" id=\"E8\" rx=\"10\" ry=\"10\" style=\"stroke: #383838; stroke-width: 1.5;\" width=\"71\" x=\"84.5\" y=\"87.5\"/><text fill=\"#000000\" font-family=\"sans-serif\" font-size=\"12\" font-style=\"italic\" lengthAdjust=\"spacingAndGlyphs\" textLength=\"69\" x=\"85.5\" y=\"103.6387\">«attribute»</text><text fill=\"#000000\" font-family=\"sans-serif\" font-size=\"12\" lengthAdjust=\"spacingAndGlyphs\" textLength=\"5\" x=\"117.5\" y=\"117.6074\">z</text><line style=\"stroke: #383838; stroke-width: 1.5;\" x1=\"85.5\" x2=\"154.5\" y1=\"125.4375\" y2=\"125.4375\"/></a><a href=\"psysml:7bbe8935-ee6e-44c3-abf9-e711bcee98e7\" target=\"_top\" title=\"psysml:7bbe8935-ee6e-44c3-abf9-e711bcee98e7\" xlink:actuate=\"onRequest\" xlink:href=\"psysml:7bbe8935-ee6e-44c3-abf9-e711bcee98e7\" xlink:show=\"new\" xlink:title=\"psysml:7bbe8935-ee6e-44c3-abf9-e711bcee98e7\" xlink:type=\"simple\"><polygon fill=\"#FFFFFF\" points=\"271,84,413,84,420,106.2969,427,106.2969,427,136.5938,271,136.5938,271,84\" style=\"stroke: #000000; stroke-width: 1.5;\"/><line style=\"stroke: #000000; stroke-width: 1.5;\" x1=\"271\" x2=\"420\" y1=\"106.2969\" y2=\"106.2969\"/><text fill=\"#000000\" font-family=\"sans-serif\" font-size=\"14\" font-weight=\"bold\" lengthAdjust=\"spacingAndGlyphs\" textLength=\"136\" x=\"275\" y=\"98.9951\">Application Layer</text></a><a href=\"psysml:8539df59-9777-43d1-9cbc-191f1e3b0af0\" target=\"_top\" title=\"psysml:8539df59-9777-43d1-9cbc-191f1e3b0af0\" xlink:actuate=\"onRequest\" xlink:href=\"psysml:8539df59-9777-43d1-9cbc-191f1e3b0af0\" xlink:show=\"new\" xlink:title=\"psysml:8539df59-9777-43d1-9cbc-191f1e3b0af0\" xlink:type=\"simple\"><polygon fill=\"#FFFFFF\" points=\"285,214,399,214,406,236.2969,413,236.2969,413,266.5938,285,266.5938,285,214\" style=\"stroke: #000000; stroke-width: 1.5;\"/><line style=\"stroke: #000000; stroke-width: 1.5;\" x1=\"285\" x2=\"406\" y1=\"236.2969\" y2=\"236.2969\"/><text fill=\"#000000\" font-family=\"sans-serif\" font-size=\"14\" font-weight=\"bold\" lengthAdjust=\"spacingAndGlyphs\" textLength=\"108\" x=\"289\" y=\"228.9951\">Service Layer</text></a><a href=\"psysml:06e8cf4d-e880-4b5c-8fdb-0871598a4cb3\" target=\"_top\" title=\"psysml:06e8cf4d-e880-4b5c-8fdb-0871598a4cb3\" xlink:actuate=\"onRequest\" xlink:href=\"psysml:06e8cf4d-e880-4b5c-8fdb-0871598a4cb3\" xlink:show=\"new\" xlink:title=\"psysml:06e8cf4d-e880-4b5c-8fdb-0871598a4cb3\" xlink:type=\"simple\"><polygon fill=\"#FFFFFF\" points=\"297,344,387,344,394,366.2969,401,366.2969,401,396.5938,297,396.5938,297,344\" style=\"stroke: #000000; stroke-width: 1.5;\"/><line style=\"stroke: #000000; stroke-width: 1.5;\" x1=\"297\" x2=\"394\" y1=\"366.2969\" y2=\"366.2969\"/><text fill=\"#000000\" font-family=\"sans-serif\" font-size=\"14\" font-weight=\"bold\" lengthAdjust=\"spacingAndGlyphs\" textLength=\"84\" x=\"301\" y=\"358.9951\">Data Layer</text></a><!--MD5=[af87c684e3b0d8be13c1a698a818ef1e]\n",
       "link E3 to E4--><a href=\"psysml:ddd06611-1e40-467d-8133-a183585a6da5\" target=\"_top\" title=\"psysml:ddd06611-1e40-467d-8133-a183585a6da5\" xlink:actuate=\"onRequest\" xlink:href=\"psysml:ddd06611-1e40-467d-8133-a183585a6da5\" xlink:show=\"new\" xlink:title=\"psysml:ddd06611-1e40-467d-8133-a183585a6da5\" xlink:type=\"simple\"><path d=\"M349,137.1 C349,156.8 349,184.22 349,205.73 \" fill=\"none\" id=\"E3-&gt;E4\" style=\"stroke: #383838; stroke-width: 1.0; stroke-dasharray: 7.0,7.0;\"/><polygon fill=\"#383838\" points=\"349,213.95,352,205.95,346,205.95,349,213.95\" style=\"stroke: #383838; stroke-width: 1.0;\"/><text fill=\"#000000\" font-family=\"sans-serif\" font-size=\"13\" lengthAdjust=\"spacingAndGlyphs\" textLength=\"64\" x=\"350\" y=\"180.0669\">«depend»</text></a><!--MD5=[1b7591eae5389033d8d09a9d6721a717]\n",
       "link E4 to E5--><a href=\"psysml:b5c0928c-fbc9-4433-ab1e-c084bfbcebd5\" target=\"_top\" title=\"psysml:b5c0928c-fbc9-4433-ab1e-c084bfbcebd5\" xlink:actuate=\"onRequest\" xlink:href=\"psysml:b5c0928c-fbc9-4433-ab1e-c084bfbcebd5\" xlink:show=\"new\" xlink:title=\"psysml:b5c0928c-fbc9-4433-ab1e-c084bfbcebd5\" xlink:type=\"simple\"><path d=\"M349,267.1 C349,286.8 349,314.22 349,335.73 \" fill=\"none\" id=\"E4-&gt;E5\" style=\"stroke: #383838; stroke-width: 1.0; stroke-dasharray: 7.0,7.0;\"/><polygon fill=\"#383838\" points=\"349,343.95,352,335.95,346,335.95,349,343.95\" style=\"stroke: #383838; stroke-width: 1.0;\"/><text fill=\"#000000\" font-family=\"sans-serif\" font-size=\"13\" lengthAdjust=\"spacingAndGlyphs\" textLength=\"64\" x=\"350\" y=\"310.0669\">«depend»</text></a><!--MD5=[c5e8897d989ce984f93528998a7150fe]\n",
       "link E8 to E6--><a href=\"psysml:a0e318cd-0c17-433c-bc04-dbf1eaa3473c\" target=\"_top\" title=\"psysml:a0e318cd-0c17-433c-bc04-dbf1eaa3473c\" xlink:actuate=\"onRequest\" xlink:href=\"psysml:a0e318cd-0c17-433c-bc04-dbf1eaa3473c\" xlink:show=\"new\" xlink:title=\"psysml:a0e318cd-0c17-433c-bc04-dbf1eaa3473c\" xlink:type=\"simple\"><path d=\"M89.42,133.6 C79.35,142.68 69.37,154.11 64,167 C58.5,180.2 58.66,195.94 60.54,209.38 \" fill=\"none\" id=\"E8-&gt;E6\" style=\"stroke: #383838; stroke-width: 1.0; stroke-dasharray: 7.0,7.0;\"/><polygon fill=\"#383838\" points=\"61.9,217.4,63.517,209.0104,57.6018,210.0159,61.9,217.4\" style=\"stroke: #383838; stroke-width: 1.0;\"/><text fill=\"#000000\" font-family=\"sans-serif\" font-size=\"13\" lengthAdjust=\"spacingAndGlyphs\" textLength=\"64\" x=\"65\" y=\"180.0669\">«depend»</text></a><!--MD5=[bfa3c8b0d15052fdf50ae9310b491027]\n",
       "link E8 to E7--><a href=\"psysml:a0e318cd-0c17-433c-bc04-dbf1eaa3473c\" target=\"_top\" title=\"psysml:a0e318cd-0c17-433c-bc04-dbf1eaa3473c\" xlink:actuate=\"onRequest\" xlink:href=\"psysml:a0e318cd-0c17-433c-bc04-dbf1eaa3473c\" xlink:show=\"new\" xlink:title=\"psysml:a0e318cd-0c17-433c-bc04-dbf1eaa3473c\" xlink:type=\"simple\"><path d=\"M129.28,133.5 C138.17,154.57 151.64,186.5 161.47,209.81 \" fill=\"none\" id=\"E8-&gt;E7\" style=\"stroke: #383838; stroke-width: 1.0; stroke-dasharray: 7.0,7.0;\"/><polygon fill=\"#383838\" points=\"164.66,217.35,164.3241,208.8126,158.7933,211.1385,164.66,217.35\" style=\"stroke: #383838; stroke-width: 1.0;\"/><text fill=\"#000000\" font-family=\"sans-serif\" font-size=\"13\" lengthAdjust=\"spacingAndGlyphs\" textLength=\"64\" x=\"151\" y=\"180.0669\">«depend»</text></a><!--MD5=[969050002536e6c714aeb7227655f8d2]\n",
       "@startuml\r\n",
       "skinparam monochrome true\r\n",
       "skinparam classbackgroundcolor white\r\n",
       "skinparam shadowing false\r\n",
       "skinparam wrapWidth 300\r\n",
       "hide circle\r\n",
       "\r\n",
       "package \"DependencyTest\" as E1  [[psysml:01e86263-1e08-4c5e-80c8-9f3a01cb2b1c ]]  {\r\n",
       "package \"System\" as E2  [[psysml:65d9c171-277b-4a12-8988-537cd17218fe ]]  {\r\n",
       "package \"Application Layer\" as E3  [[psysml:7bbe8935-ee6e-44c3-abf9-e711bcee98e7 ]]  {\r\n",
       "}\r\n",
       "package \"Service Layer\" as E4  [[psysml:8539df59-9777-43d1-9cbc-191f1e3b0af0 ]]  {\r\n",
       "}\r\n",
       "package \"Data Layer\" as E5  [[psysml:06e8cf4d-e880-4b5c-8fdb-0871598a4cb3 ]]  {\r\n",
       "}\r\n",
       "}\r\n",
       "comp usage \"x\" as E6  <<(T,blue)attribute>> [[psysml:3f429861-8945-458a-afac-b9814097464d ]] {\r\n",
       "}\r\n",
       "comp usage \"y\" as E7  <<(T,blue)attribute>> [[psysml:f3318431-0d45-43ea-b254-330318c85eb0 ]] {\r\n",
       "}\r\n",
       "comp usage \"z\" as E8  <<(T,blue)attribute>> [[psysml:da180d87-042d-4ade-81c9-b5201399a446 ]] {\r\n",
       "}\r\n",
       "E3 ..>> E4 [[psysml:ddd06611-1e40-467d-8133-a183585a6da5 ]] : <<depend>>\r\n",
       "E4 ..>> E5 [[psysml:b5c0928c-fbc9-4433-ab1e-c084bfbcebd5 ]] : <<depend>>\r\n",
       "E8 ..>> E6 [[psysml:a0e318cd-0c17-433c-bc04-dbf1eaa3473c ]] : <<depend>>\r\n",
       "E8 ..>> E7 [[psysml:a0e318cd-0c17-433c-bc04-dbf1eaa3473c ]] : <<depend>>\r\n",
       "}\r\n",
       "@enduml\r\n",
       "\n",
       "PlantUML version 1.2020.13(Sat Jun 13 12:26:38 UTC 2020)\n",
       "(EPL source distribution)\n",
       "Java Runtime: OpenJDK Runtime Environment\n",
       "JVM: OpenJDK 64-Bit Server VM\n",
       "Default Encoding: UTF-8\n",
       "Language: en\n",
       "Country: null\n",
       "--></g></svg>"
      ]
     },
     "execution_count": 37,
     "metadata": {},
     "output_type": "execute_result"
    }
   ],
   "source": [
    "%viz --style=\"DEFAULT\" --view=\"Default\" \"DependencyTest\""
   ]
  },
  {
   "cell_type": "code",
   "execution_count": 38,
   "id": "forbidden-invention",
   "metadata": {
    "execution": {
     "iopub.execute_input": "2021-03-25T15:09:50.219150Z",
     "iopub.status.busy": "2021-03-25T15:09:50.218389Z",
     "iopub.status.idle": "2021-03-25T15:09:50.322826Z",
     "shell.execute_reply": "2021-03-25T15:09:50.322465Z"
    }
   },
   "outputs": [
    {
     "data": {
      "image/svg+xml": [
       "<?xml version=\"1.0\" encoding=\"UTF-8\" standalone=\"no\"?><svg xmlns=\"http://www.w3.org/2000/svg\" xmlns:xlink=\"http://www.w3.org/1999/xlink\" contentScriptType=\"application/ecmascript\" contentStyleType=\"text/css\" height=\"449px\" preserveAspectRatio=\"none\" style=\"width:489px;height:449px;\" version=\"1.1\" viewBox=\"0 0 489 449\" width=\"489px\" zoomAndPan=\"magnify\"><defs/><g><!--MD5=[fbc87193dbaf4d95561dea2c320d4a47]\n",
       "cluster E1--><a href=\"psysml:01e86263-1e08-4c5e-80c8-9f3a01cb2b1c\" target=\"_top\" title=\"psysml:01e86263-1e08-4c5e-80c8-9f3a01cb2b1c\" xlink:actuate=\"onRequest\" xlink:href=\"psysml:01e86263-1e08-4c5e-80c8-9f3a01cb2b1c\" xlink:show=\"new\" xlink:title=\"psysml:01e86263-1e08-4c5e-80c8-9f3a01cb2b1c\" xlink:type=\"simple\"><polygon fill=\"#FFFFFF\" points=\"16,6,156,6,163,28.2969,467,28.2969,467,437,16,437,16,6\" style=\"stroke: #000000; stroke-width: 1.5;\"/><line style=\"stroke: #000000; stroke-width: 1.5;\" x1=\"16\" x2=\"163\" y1=\"28.2969\" y2=\"28.2969\"/><text fill=\"#000000\" font-family=\"sans-serif\" font-size=\"14\" font-weight=\"bold\" lengthAdjust=\"spacingAndGlyphs\" textLength=\"134\" x=\"20\" y=\"20.9951\">DependencyTest</text></a><!--MD5=[e4f7fae6ed58524ba242bb0b0d3be6b7]\n",
       "cluster E2--><a href=\"psysml:65d9c171-277b-4a12-8988-537cd17218fe\" target=\"_top\" title=\"psysml:65d9c171-277b-4a12-8988-537cd17218fe\" xlink:actuate=\"onRequest\" xlink:href=\"psysml:65d9c171-277b-4a12-8988-537cd17218fe\" xlink:show=\"new\" xlink:title=\"psysml:65d9c171-277b-4a12-8988-537cd17218fe\" xlink:type=\"simple\"><polygon fill=\"#FFFFFF\" points=\"255,49,319,49,326,71.2969,443,71.2969,443,413,255,413,255,49\" style=\"stroke: #000000; stroke-width: 1.5;\"/><line style=\"stroke: #000000; stroke-width: 1.5;\" x1=\"255\" x2=\"326\" y1=\"71.2969\" y2=\"71.2969\"/><text fill=\"#000000\" font-family=\"sans-serif\" font-size=\"14\" font-weight=\"bold\" lengthAdjust=\"spacingAndGlyphs\" textLength=\"58\" x=\"259\" y=\"63.9951\">System</text></a><!--MD5=[60a26617385b1d2d0262a64233df1f8d]\n",
       "class E6--><a href=\"psysml:3f429861-8945-458a-afac-b9814097464d\" target=\"_top\" title=\"psysml:3f429861-8945-458a-afac-b9814097464d\" xlink:actuate=\"onRequest\" xlink:href=\"psysml:3f429861-8945-458a-afac-b9814097464d\" xlink:show=\"new\" xlink:title=\"psysml:3f429861-8945-458a-afac-b9814097464d\" xlink:type=\"simple\"><rect fill=\"#FFFFFF\" height=\"45.9375\" id=\"E6\" rx=\"10\" ry=\"10\" style=\"stroke: #383838; stroke-width: 1.5;\" width=\"71\" x=\"32.5\" y=\"217.5\"/><text fill=\"#000000\" font-family=\"sans-serif\" font-size=\"12\" font-style=\"italic\" lengthAdjust=\"spacingAndGlyphs\" textLength=\"69\" x=\"33.5\" y=\"233.6387\">«attribute»</text><text fill=\"#000000\" font-family=\"sans-serif\" font-size=\"12\" lengthAdjust=\"spacingAndGlyphs\" textLength=\"6\" x=\"65\" y=\"247.6074\">x</text><line style=\"stroke: #383838; stroke-width: 1.5;\" x1=\"33.5\" x2=\"102.5\" y1=\"255.4375\" y2=\"255.4375\"/></a><!--MD5=[2156ba9850f5573cc1fc38a6a4b2f02b]\n",
       "class E7--><a href=\"psysml:f3318431-0d45-43ea-b254-330318c85eb0\" target=\"_top\" title=\"psysml:f3318431-0d45-43ea-b254-330318c85eb0\" xlink:actuate=\"onRequest\" xlink:href=\"psysml:f3318431-0d45-43ea-b254-330318c85eb0\" xlink:show=\"new\" xlink:title=\"psysml:f3318431-0d45-43ea-b254-330318c85eb0\" xlink:type=\"simple\"><rect fill=\"#FFFFFF\" height=\"45.9375\" id=\"E7\" rx=\"10\" ry=\"10\" style=\"stroke: #383838; stroke-width: 1.5;\" width=\"71\" x=\"138.5\" y=\"217.5\"/><text fill=\"#000000\" font-family=\"sans-serif\" font-size=\"12\" font-style=\"italic\" lengthAdjust=\"spacingAndGlyphs\" textLength=\"69\" x=\"139.5\" y=\"233.6387\">«attribute»</text><text fill=\"#000000\" font-family=\"sans-serif\" font-size=\"12\" lengthAdjust=\"spacingAndGlyphs\" textLength=\"6\" x=\"171\" y=\"247.6074\">y</text><line style=\"stroke: #383838; stroke-width: 1.5;\" x1=\"139.5\" x2=\"208.5\" y1=\"255.4375\" y2=\"255.4375\"/></a><!--MD5=[b9389687b975829384b498ac4b7476b2]\n",
       "class E8--><a href=\"psysml:da180d87-042d-4ade-81c9-b5201399a446\" target=\"_top\" title=\"psysml:da180d87-042d-4ade-81c9-b5201399a446\" xlink:actuate=\"onRequest\" xlink:href=\"psysml:da180d87-042d-4ade-81c9-b5201399a446\" xlink:show=\"new\" xlink:title=\"psysml:da180d87-042d-4ade-81c9-b5201399a446\" xlink:type=\"simple\"><rect fill=\"#FFFFFF\" height=\"45.9375\" id=\"E8\" rx=\"10\" ry=\"10\" style=\"stroke: #383838; stroke-width: 1.5;\" width=\"71\" x=\"84.5\" y=\"87.5\"/><text fill=\"#000000\" font-family=\"sans-serif\" font-size=\"12\" font-style=\"italic\" lengthAdjust=\"spacingAndGlyphs\" textLength=\"69\" x=\"85.5\" y=\"103.6387\">«attribute»</text><text fill=\"#000000\" font-family=\"sans-serif\" font-size=\"12\" lengthAdjust=\"spacingAndGlyphs\" textLength=\"5\" x=\"117.5\" y=\"117.6074\">z</text><line style=\"stroke: #383838; stroke-width: 1.5;\" x1=\"85.5\" x2=\"154.5\" y1=\"125.4375\" y2=\"125.4375\"/></a><a href=\"psysml:7bbe8935-ee6e-44c3-abf9-e711bcee98e7\" target=\"_top\" title=\"psysml:7bbe8935-ee6e-44c3-abf9-e711bcee98e7\" xlink:actuate=\"onRequest\" xlink:href=\"psysml:7bbe8935-ee6e-44c3-abf9-e711bcee98e7\" xlink:show=\"new\" xlink:title=\"psysml:7bbe8935-ee6e-44c3-abf9-e711bcee98e7\" xlink:type=\"simple\"><polygon fill=\"#FFFFFF\" points=\"271,84,413,84,420,106.2969,427,106.2969,427,136.5938,271,136.5938,271,84\" style=\"stroke: #000000; stroke-width: 1.5;\"/><line style=\"stroke: #000000; stroke-width: 1.5;\" x1=\"271\" x2=\"420\" y1=\"106.2969\" y2=\"106.2969\"/><text fill=\"#000000\" font-family=\"sans-serif\" font-size=\"14\" font-weight=\"bold\" lengthAdjust=\"spacingAndGlyphs\" textLength=\"136\" x=\"275\" y=\"98.9951\">Application Layer</text></a><a href=\"psysml:8539df59-9777-43d1-9cbc-191f1e3b0af0\" target=\"_top\" title=\"psysml:8539df59-9777-43d1-9cbc-191f1e3b0af0\" xlink:actuate=\"onRequest\" xlink:href=\"psysml:8539df59-9777-43d1-9cbc-191f1e3b0af0\" xlink:show=\"new\" xlink:title=\"psysml:8539df59-9777-43d1-9cbc-191f1e3b0af0\" xlink:type=\"simple\"><polygon fill=\"#FFFFFF\" points=\"285,214,399,214,406,236.2969,413,236.2969,413,266.5938,285,266.5938,285,214\" style=\"stroke: #000000; stroke-width: 1.5;\"/><line style=\"stroke: #000000; stroke-width: 1.5;\" x1=\"285\" x2=\"406\" y1=\"236.2969\" y2=\"236.2969\"/><text fill=\"#000000\" font-family=\"sans-serif\" font-size=\"14\" font-weight=\"bold\" lengthAdjust=\"spacingAndGlyphs\" textLength=\"108\" x=\"289\" y=\"228.9951\">Service Layer</text></a><a href=\"psysml:06e8cf4d-e880-4b5c-8fdb-0871598a4cb3\" target=\"_top\" title=\"psysml:06e8cf4d-e880-4b5c-8fdb-0871598a4cb3\" xlink:actuate=\"onRequest\" xlink:href=\"psysml:06e8cf4d-e880-4b5c-8fdb-0871598a4cb3\" xlink:show=\"new\" xlink:title=\"psysml:06e8cf4d-e880-4b5c-8fdb-0871598a4cb3\" xlink:type=\"simple\"><polygon fill=\"#FFFFFF\" points=\"297,344,387,344,394,366.2969,401,366.2969,401,396.5938,297,396.5938,297,344\" style=\"stroke: #000000; stroke-width: 1.5;\"/><line style=\"stroke: #000000; stroke-width: 1.5;\" x1=\"297\" x2=\"394\" y1=\"366.2969\" y2=\"366.2969\"/><text fill=\"#000000\" font-family=\"sans-serif\" font-size=\"14\" font-weight=\"bold\" lengthAdjust=\"spacingAndGlyphs\" textLength=\"84\" x=\"301\" y=\"358.9951\">Data Layer</text></a><!--MD5=[af87c684e3b0d8be13c1a698a818ef1e]\n",
       "link E3 to E4--><a href=\"psysml:ddd06611-1e40-467d-8133-a183585a6da5\" target=\"_top\" title=\"psysml:ddd06611-1e40-467d-8133-a183585a6da5\" xlink:actuate=\"onRequest\" xlink:href=\"psysml:ddd06611-1e40-467d-8133-a183585a6da5\" xlink:show=\"new\" xlink:title=\"psysml:ddd06611-1e40-467d-8133-a183585a6da5\" xlink:type=\"simple\"><path d=\"M349,137.1 C349,156.8 349,184.22 349,205.73 \" fill=\"none\" id=\"E3-&gt;E4\" style=\"stroke: #383838; stroke-width: 1.0; stroke-dasharray: 7.0,7.0;\"/><polygon fill=\"#383838\" points=\"349,213.95,352,205.95,346,205.95,349,213.95\" style=\"stroke: #383838; stroke-width: 1.0;\"/><text fill=\"#000000\" font-family=\"sans-serif\" font-size=\"13\" lengthAdjust=\"spacingAndGlyphs\" textLength=\"64\" x=\"350\" y=\"180.0669\">«depend»</text></a><!--MD5=[1b7591eae5389033d8d09a9d6721a717]\n",
       "link E4 to E5--><a href=\"psysml:b5c0928c-fbc9-4433-ab1e-c084bfbcebd5\" target=\"_top\" title=\"psysml:b5c0928c-fbc9-4433-ab1e-c084bfbcebd5\" xlink:actuate=\"onRequest\" xlink:href=\"psysml:b5c0928c-fbc9-4433-ab1e-c084bfbcebd5\" xlink:show=\"new\" xlink:title=\"psysml:b5c0928c-fbc9-4433-ab1e-c084bfbcebd5\" xlink:type=\"simple\"><path d=\"M349,267.1 C349,286.8 349,314.22 349,335.73 \" fill=\"none\" id=\"E4-&gt;E5\" style=\"stroke: #383838; stroke-width: 1.0; stroke-dasharray: 7.0,7.0;\"/><polygon fill=\"#383838\" points=\"349,343.95,352,335.95,346,335.95,349,343.95\" style=\"stroke: #383838; stroke-width: 1.0;\"/><text fill=\"#000000\" font-family=\"sans-serif\" font-size=\"13\" lengthAdjust=\"spacingAndGlyphs\" textLength=\"64\" x=\"350\" y=\"310.0669\">«depend»</text></a><!--MD5=[c5e8897d989ce984f93528998a7150fe]\n",
       "link E8 to E6--><a href=\"psysml:a0e318cd-0c17-433c-bc04-dbf1eaa3473c\" target=\"_top\" title=\"psysml:a0e318cd-0c17-433c-bc04-dbf1eaa3473c\" xlink:actuate=\"onRequest\" xlink:href=\"psysml:a0e318cd-0c17-433c-bc04-dbf1eaa3473c\" xlink:show=\"new\" xlink:title=\"psysml:a0e318cd-0c17-433c-bc04-dbf1eaa3473c\" xlink:type=\"simple\"><path d=\"M89.42,133.6 C79.35,142.68 69.37,154.11 64,167 C58.5,180.2 58.66,195.94 60.54,209.38 \" fill=\"none\" id=\"E8-&gt;E6\" style=\"stroke: #383838; stroke-width: 1.0; stroke-dasharray: 7.0,7.0;\"/><polygon fill=\"#383838\" points=\"61.9,217.4,63.517,209.0104,57.6018,210.0159,61.9,217.4\" style=\"stroke: #383838; stroke-width: 1.0;\"/><text fill=\"#000000\" font-family=\"sans-serif\" font-size=\"13\" lengthAdjust=\"spacingAndGlyphs\" textLength=\"64\" x=\"65\" y=\"180.0669\">«depend»</text></a><!--MD5=[bfa3c8b0d15052fdf50ae9310b491027]\n",
       "link E8 to E7--><a href=\"psysml:a0e318cd-0c17-433c-bc04-dbf1eaa3473c\" target=\"_top\" title=\"psysml:a0e318cd-0c17-433c-bc04-dbf1eaa3473c\" xlink:actuate=\"onRequest\" xlink:href=\"psysml:a0e318cd-0c17-433c-bc04-dbf1eaa3473c\" xlink:show=\"new\" xlink:title=\"psysml:a0e318cd-0c17-433c-bc04-dbf1eaa3473c\" xlink:type=\"simple\"><path d=\"M129.28,133.5 C138.17,154.57 151.64,186.5 161.47,209.81 \" fill=\"none\" id=\"E8-&gt;E7\" style=\"stroke: #383838; stroke-width: 1.0; stroke-dasharray: 7.0,7.0;\"/><polygon fill=\"#383838\" points=\"164.66,217.35,164.3241,208.8126,158.7933,211.1385,164.66,217.35\" style=\"stroke: #383838; stroke-width: 1.0;\"/><text fill=\"#000000\" font-family=\"sans-serif\" font-size=\"13\" lengthAdjust=\"spacingAndGlyphs\" textLength=\"64\" x=\"151\" y=\"180.0669\">«depend»</text></a><!--MD5=[969050002536e6c714aeb7227655f8d2]\n",
       "@startuml\r\n",
       "skinparam monochrome true\r\n",
       "skinparam classbackgroundcolor white\r\n",
       "skinparam shadowing false\r\n",
       "skinparam wrapWidth 300\r\n",
       "hide circle\r\n",
       "\r\n",
       "package \"DependencyTest\" as E1  [[psysml:01e86263-1e08-4c5e-80c8-9f3a01cb2b1c ]]  {\r\n",
       "package \"System\" as E2  [[psysml:65d9c171-277b-4a12-8988-537cd17218fe ]]  {\r\n",
       "package \"Application Layer\" as E3  [[psysml:7bbe8935-ee6e-44c3-abf9-e711bcee98e7 ]]  {\r\n",
       "}\r\n",
       "package \"Service Layer\" as E4  [[psysml:8539df59-9777-43d1-9cbc-191f1e3b0af0 ]]  {\r\n",
       "}\r\n",
       "package \"Data Layer\" as E5  [[psysml:06e8cf4d-e880-4b5c-8fdb-0871598a4cb3 ]]  {\r\n",
       "}\r\n",
       "}\r\n",
       "comp usage \"x\" as E6  <<(T,blue)attribute>> [[psysml:3f429861-8945-458a-afac-b9814097464d ]] {\r\n",
       "}\r\n",
       "comp usage \"y\" as E7  <<(T,blue)attribute>> [[psysml:f3318431-0d45-43ea-b254-330318c85eb0 ]] {\r\n",
       "}\r\n",
       "comp usage \"z\" as E8  <<(T,blue)attribute>> [[psysml:da180d87-042d-4ade-81c9-b5201399a446 ]] {\r\n",
       "}\r\n",
       "E3 ..>> E4 [[psysml:ddd06611-1e40-467d-8133-a183585a6da5 ]] : <<depend>>\r\n",
       "E4 ..>> E5 [[psysml:b5c0928c-fbc9-4433-ab1e-c084bfbcebd5 ]] : <<depend>>\r\n",
       "E8 ..>> E6 [[psysml:a0e318cd-0c17-433c-bc04-dbf1eaa3473c ]] : <<depend>>\r\n",
       "E8 ..>> E7 [[psysml:a0e318cd-0c17-433c-bc04-dbf1eaa3473c ]] : <<depend>>\r\n",
       "}\r\n",
       "@enduml\r\n",
       "\n",
       "PlantUML version 1.2020.13(Sat Jun 13 12:26:38 UTC 2020)\n",
       "(EPL source distribution)\n",
       "Java Runtime: OpenJDK Runtime Environment\n",
       "JVM: OpenJDK 64-Bit Server VM\n",
       "Default Encoding: UTF-8\n",
       "Language: en\n",
       "Country: null\n",
       "--></g></svg>"
      ]
     },
     "execution_count": 38,
     "metadata": {},
     "output_type": "execute_result"
    }
   ],
   "source": [
    "%viz --style=\"DEFAULT\" --view=\"Tree\" \"DependencyTest\""
   ]
  },
  {
   "cell_type": "code",
   "execution_count": 39,
   "id": "multiple-spirit",
   "metadata": {
    "execution": {
     "iopub.execute_input": "2021-03-25T15:09:50.373506Z",
     "iopub.status.busy": "2021-03-25T15:09:50.373040Z",
     "iopub.status.idle": "2021-03-25T15:09:50.379920Z",
     "shell.execute_reply": "2021-03-25T15:09:50.379581Z"
    }
   },
   "outputs": [
    {
     "data": {
      "image/svg+xml": [
       "<?xml version=\"1.0\" encoding=\"UTF-8\" standalone=\"no\"?><svg xmlns=\"http://www.w3.org/2000/svg\" xmlns:xlink=\"http://www.w3.org/1999/xlink\" contentScriptType=\"application/ecmascript\" contentStyleType=\"text/css\" height=\"12px\" preserveAspectRatio=\"none\" style=\"width:12px;height:12px;\" version=\"1.1\" viewBox=\"0 0 12 12\" width=\"12px\" zoomAndPan=\"magnify\"><defs/><g><!--MD5=[c5f280e076d0d61ccf4b0f27871bda1d]\n",
       "@startuml\r\n",
       "skinparam monochrome true\r\n",
       "skinparam classbackgroundcolor white\r\n",
       "skinparam shadowing false\r\n",
       "skinparam wrapWidth 300\r\n",
       "hide circle\r\n",
       "\r\n",
       "@enduml\r\n",
       "\n",
       "PlantUML version 1.2020.13(Sat Jun 13 12:26:38 UTC 2020)\n",
       "(EPL source distribution)\n",
       "Java Runtime: OpenJDK Runtime Environment\n",
       "JVM: OpenJDK 64-Bit Server VM\n",
       "Default Encoding: UTF-8\n",
       "Language: en\n",
       "Country: null\n",
       "--></g></svg>"
      ]
     },
     "execution_count": 39,
     "metadata": {},
     "output_type": "execute_result"
    }
   ],
   "source": [
    "%viz --style=\"DEFAULT\" --view=\"State\" \"DependencyTest\""
   ]
  },
  {
   "cell_type": "code",
   "execution_count": 40,
   "id": "administrative-uncle",
   "metadata": {
    "execution": {
     "iopub.execute_input": "2021-03-25T15:09:50.432513Z",
     "iopub.status.busy": "2021-03-25T15:09:50.431608Z",
     "iopub.status.idle": "2021-03-25T15:09:50.529550Z",
     "shell.execute_reply": "2021-03-25T15:09:50.527774Z"
    }
   },
   "outputs": [
    {
     "data": {
      "image/svg+xml": [
       "<?xml version=\"1.0\" encoding=\"UTF-8\" standalone=\"no\"?><svg xmlns=\"http://www.w3.org/2000/svg\" xmlns:xlink=\"http://www.w3.org/1999/xlink\" contentScriptType=\"application/ecmascript\" contentStyleType=\"text/css\" height=\"361px\" preserveAspectRatio=\"none\" style=\"width:489px;height:361px;\" version=\"1.1\" viewBox=\"0 0 489 361\" width=\"489px\" zoomAndPan=\"magnify\"><defs/><g><!--MD5=[fbc87193dbaf4d95561dea2c320d4a47]\n",
       "cluster E1--><a href=\"psysml:01e86263-1e08-4c5e-80c8-9f3a01cb2b1c\" target=\"_top\" title=\"psysml:01e86263-1e08-4c5e-80c8-9f3a01cb2b1c\" xlink:actuate=\"onRequest\" xlink:href=\"psysml:01e86263-1e08-4c5e-80c8-9f3a01cb2b1c\" xlink:show=\"new\" xlink:title=\"psysml:01e86263-1e08-4c5e-80c8-9f3a01cb2b1c\" xlink:type=\"simple\"><polygon fill=\"#FFFFFF\" points=\"16,6,156,6,163,28.2969,467,28.2969,467,349,16,349,16,6\" style=\"stroke: #000000; stroke-width: 1.5;\"/><line style=\"stroke: #000000; stroke-width: 1.5;\" x1=\"16\" x2=\"163\" y1=\"28.2969\" y2=\"28.2969\"/><text fill=\"#000000\" font-family=\"sans-serif\" font-size=\"14\" font-weight=\"bold\" lengthAdjust=\"spacingAndGlyphs\" textLength=\"134\" x=\"20\" y=\"20.9951\">DependencyTest</text></a><!--MD5=[e4f7fae6ed58524ba242bb0b0d3be6b7]\n",
       "cluster E2--><a href=\"psysml:65d9c171-277b-4a12-8988-537cd17218fe\" target=\"_top\" title=\"psysml:65d9c171-277b-4a12-8988-537cd17218fe\" xlink:actuate=\"onRequest\" xlink:href=\"psysml:65d9c171-277b-4a12-8988-537cd17218fe\" xlink:show=\"new\" xlink:title=\"psysml:65d9c171-277b-4a12-8988-537cd17218fe\" xlink:type=\"simple\"><polygon fill=\"#FFFFFF\" points=\"255,49,319,49,326,71.2969,443,71.2969,443,325,255,325,255,49\" style=\"stroke: #000000; stroke-width: 1.5;\"/><line style=\"stroke: #000000; stroke-width: 1.5;\" x1=\"255\" x2=\"326\" y1=\"71.2969\" y2=\"71.2969\"/><text fill=\"#000000\" font-family=\"sans-serif\" font-size=\"14\" font-weight=\"bold\" lengthAdjust=\"spacingAndGlyphs\" textLength=\"58\" x=\"259\" y=\"63.9951\">System</text></a><a href=\"psysml:7bbe8935-ee6e-44c3-abf9-e711bcee98e7\" target=\"_top\" title=\"psysml:7bbe8935-ee6e-44c3-abf9-e711bcee98e7\" xlink:actuate=\"onRequest\" xlink:href=\"psysml:7bbe8935-ee6e-44c3-abf9-e711bcee98e7\" xlink:show=\"new\" xlink:title=\"psysml:7bbe8935-ee6e-44c3-abf9-e711bcee98e7\" xlink:type=\"simple\"><polygon fill=\"#FFFFFF\" points=\"271,84,413,84,420,106.2969,427,106.2969,427,136.5938,271,136.5938,271,84\" style=\"stroke: #000000; stroke-width: 1.5;\"/><line style=\"stroke: #000000; stroke-width: 1.5;\" x1=\"271\" x2=\"420\" y1=\"106.2969\" y2=\"106.2969\"/><text fill=\"#000000\" font-family=\"sans-serif\" font-size=\"14\" font-weight=\"bold\" lengthAdjust=\"spacingAndGlyphs\" textLength=\"136\" x=\"275\" y=\"98.9951\">Application Layer</text></a><a href=\"psysml:8539df59-9777-43d1-9cbc-191f1e3b0af0\" target=\"_top\" title=\"psysml:8539df59-9777-43d1-9cbc-191f1e3b0af0\" xlink:actuate=\"onRequest\" xlink:href=\"psysml:8539df59-9777-43d1-9cbc-191f1e3b0af0\" xlink:show=\"new\" xlink:title=\"psysml:8539df59-9777-43d1-9cbc-191f1e3b0af0\" xlink:type=\"simple\"><polygon fill=\"#FFFFFF\" points=\"285,170,399,170,406,192.2969,413,192.2969,413,222.5938,285,222.5938,285,170\" style=\"stroke: #000000; stroke-width: 1.5;\"/><line style=\"stroke: #000000; stroke-width: 1.5;\" x1=\"285\" x2=\"406\" y1=\"192.2969\" y2=\"192.2969\"/><text fill=\"#000000\" font-family=\"sans-serif\" font-size=\"14\" font-weight=\"bold\" lengthAdjust=\"spacingAndGlyphs\" textLength=\"108\" x=\"289\" y=\"184.9951\">Service Layer</text></a><a href=\"psysml:06e8cf4d-e880-4b5c-8fdb-0871598a4cb3\" target=\"_top\" title=\"psysml:06e8cf4d-e880-4b5c-8fdb-0871598a4cb3\" xlink:actuate=\"onRequest\" xlink:href=\"psysml:06e8cf4d-e880-4b5c-8fdb-0871598a4cb3\" xlink:show=\"new\" xlink:title=\"psysml:06e8cf4d-e880-4b5c-8fdb-0871598a4cb3\" xlink:type=\"simple\"><polygon fill=\"#FFFFFF\" points=\"297,256,387,256,394,278.2969,401,278.2969,401,308.5938,297,308.5938,297,256\" style=\"stroke: #000000; stroke-width: 1.5;\"/><line style=\"stroke: #000000; stroke-width: 1.5;\" x1=\"297\" x2=\"394\" y1=\"278.2969\" y2=\"278.2969\"/><text fill=\"#000000\" font-family=\"sans-serif\" font-size=\"14\" font-weight=\"bold\" lengthAdjust=\"spacingAndGlyphs\" textLength=\"84\" x=\"301\" y=\"270.9951\">Data Layer</text></a><g id=\"E1.E6\"><a href=\"psysml:3f429861-8945-458a-afac-b9814097464d\" target=\"_top\" title=\"psysml:3f429861-8945-458a-afac-b9814097464d\" xlink:actuate=\"onRequest\" xlink:href=\"psysml:3f429861-8945-458a-afac-b9814097464d\" xlink:show=\"new\" xlink:title=\"psysml:3f429861-8945-458a-afac-b9814097464d\" xlink:type=\"simple\"><rect fill=\"#FFFFFF\" height=\"42.9375\" id=\"E6\" rx=\"10\" ry=\"10\" style=\"stroke: #383838; stroke-width: 1.5;\" width=\"76\" x=\"32\" y=\"175\"/><rect fill=\"#F8F8F8\" height=\"37.9375\" rx=\"10\" ry=\"10\" style=\"stroke: #F8F8F8; stroke-width: 1.5;\" width=\"76\" x=\"32\" y=\"175\"/><rect fill=\"#F8F8F8\" height=\"10\" style=\"stroke: #F8F8F8; stroke-width: 1.5;\" width=\"76\" x=\"32\" y=\"202.9375\"/><rect fill=\"none\" height=\"42.9375\" id=\"E6\" rx=\"10\" ry=\"10\" style=\"stroke: #383838; stroke-width: 1.5;\" width=\"76\" x=\"32\" y=\"175\"/><text fill=\"#000000\" font-family=\"sans-serif\" font-size=\"12\" font-style=\"italic\" lengthAdjust=\"spacingAndGlyphs\" textLength=\"69\" x=\"35.5\" y=\"191.1387\">«attribute»</text><text fill=\"#000000\" font-family=\"sans-serif\" font-size=\"12\" lengthAdjust=\"spacingAndGlyphs\" textLength=\"6\" x=\"67\" y=\"205.1074\">x</text></a></g><g id=\"E1.E7\"><a href=\"psysml:f3318431-0d45-43ea-b254-330318c85eb0\" target=\"_top\" title=\"psysml:f3318431-0d45-43ea-b254-330318c85eb0\" xlink:actuate=\"onRequest\" xlink:href=\"psysml:f3318431-0d45-43ea-b254-330318c85eb0\" xlink:show=\"new\" xlink:title=\"psysml:f3318431-0d45-43ea-b254-330318c85eb0\" xlink:type=\"simple\"><rect fill=\"#FFFFFF\" height=\"42.9375\" id=\"E7\" rx=\"10\" ry=\"10\" style=\"stroke: #383838; stroke-width: 1.5;\" width=\"76\" x=\"143\" y=\"175\"/><rect fill=\"#F8F8F8\" height=\"37.9375\" rx=\"10\" ry=\"10\" style=\"stroke: #F8F8F8; stroke-width: 1.5;\" width=\"76\" x=\"143\" y=\"175\"/><rect fill=\"#F8F8F8\" height=\"10\" style=\"stroke: #F8F8F8; stroke-width: 1.5;\" width=\"76\" x=\"143\" y=\"202.9375\"/><rect fill=\"none\" height=\"42.9375\" id=\"E7\" rx=\"10\" ry=\"10\" style=\"stroke: #383838; stroke-width: 1.5;\" width=\"76\" x=\"143\" y=\"175\"/><text fill=\"#000000\" font-family=\"sans-serif\" font-size=\"12\" font-style=\"italic\" lengthAdjust=\"spacingAndGlyphs\" textLength=\"69\" x=\"146.5\" y=\"191.1387\">«attribute»</text><text fill=\"#000000\" font-family=\"sans-serif\" font-size=\"12\" lengthAdjust=\"spacingAndGlyphs\" textLength=\"6\" x=\"178\" y=\"205.1074\">y</text></a></g><g id=\"E1.E8\"><a href=\"psysml:da180d87-042d-4ade-81c9-b5201399a446\" target=\"_top\" title=\"psysml:da180d87-042d-4ade-81c9-b5201399a446\" xlink:actuate=\"onRequest\" xlink:href=\"psysml:da180d87-042d-4ade-81c9-b5201399a446\" xlink:show=\"new\" xlink:title=\"psysml:da180d87-042d-4ade-81c9-b5201399a446\" xlink:type=\"simple\"><rect fill=\"#FFFFFF\" height=\"42.9375\" id=\"E8\" rx=\"10\" ry=\"10\" style=\"stroke: #383838; stroke-width: 1.5;\" width=\"76\" x=\"83\" y=\"89\"/><rect fill=\"#F8F8F8\" height=\"37.9375\" rx=\"10\" ry=\"10\" style=\"stroke: #F8F8F8; stroke-width: 1.5;\" width=\"76\" x=\"83\" y=\"89\"/><rect fill=\"#F8F8F8\" height=\"10\" style=\"stroke: #F8F8F8; stroke-width: 1.5;\" width=\"76\" x=\"83\" y=\"116.9375\"/><rect fill=\"none\" height=\"42.9375\" id=\"E8\" rx=\"10\" ry=\"10\" style=\"stroke: #383838; stroke-width: 1.5;\" width=\"76\" x=\"83\" y=\"89\"/><text fill=\"#000000\" font-family=\"sans-serif\" font-size=\"12\" font-style=\"italic\" lengthAdjust=\"spacingAndGlyphs\" textLength=\"69\" x=\"86.5\" y=\"105.1387\">«attribute»</text><text fill=\"#000000\" font-family=\"sans-serif\" font-size=\"12\" lengthAdjust=\"spacingAndGlyphs\" textLength=\"5\" x=\"118.5\" y=\"119.1074\">z</text></a></g><!--MD5=[af87c684e3b0d8be13c1a698a818ef1e]\n",
       "link E3 to E4--><a href=\"psysml:ddd06611-1e40-467d-8133-a183585a6da5\" target=\"_top\" title=\"psysml:ddd06611-1e40-467d-8133-a183585a6da5\" xlink:actuate=\"onRequest\" xlink:href=\"psysml:ddd06611-1e40-467d-8133-a183585a6da5\" xlink:show=\"new\" xlink:title=\"psysml:ddd06611-1e40-467d-8133-a183585a6da5\" xlink:type=\"simple\"><path d=\"M349,137.16 C349,144.98 349,153.69 349,161.94 \" fill=\"none\" id=\"E3-&gt;E4\" style=\"stroke: #383838; stroke-width: 1.0; stroke-dasharray: 7.0,7.0;\"/><polygon fill=\"#383838\" points=\"349,170,352,162,346,162,349,170\" style=\"stroke: #383838; stroke-width: 1.0;\"/><text fill=\"#000000\" font-family=\"sans-serif\" font-size=\"13\" lengthAdjust=\"spacingAndGlyphs\" textLength=\"64\" x=\"350\" y=\"158.0669\">«depend»</text></a><!--MD5=[1b7591eae5389033d8d09a9d6721a717]\n",
       "link E4 to E5--><a href=\"psysml:b5c0928c-fbc9-4433-ab1e-c084bfbcebd5\" target=\"_top\" title=\"psysml:b5c0928c-fbc9-4433-ab1e-c084bfbcebd5\" xlink:actuate=\"onRequest\" xlink:href=\"psysml:b5c0928c-fbc9-4433-ab1e-c084bfbcebd5\" xlink:show=\"new\" xlink:title=\"psysml:b5c0928c-fbc9-4433-ab1e-c084bfbcebd5\" xlink:type=\"simple\"><path d=\"M349,223.16 C349,230.98 349,239.69 349,247.94 \" fill=\"none\" id=\"E4-&gt;E5\" style=\"stroke: #383838; stroke-width: 1.0; stroke-dasharray: 7.0,7.0;\"/><polygon fill=\"#383838\" points=\"349,256,352,248,346,248,349,256\" style=\"stroke: #383838; stroke-width: 1.0;\"/><text fill=\"#000000\" font-family=\"sans-serif\" font-size=\"13\" lengthAdjust=\"spacingAndGlyphs\" textLength=\"64\" x=\"350\" y=\"244.0669\">«depend»</text></a><!--MD5=[c5e8897d989ce984f93528998a7150fe]\n",
       "link E8 to E6--><a href=\"psysml:a0e318cd-0c17-433c-bc04-dbf1eaa3473c\" target=\"_top\" title=\"psysml:a0e318cd-0c17-433c-bc04-dbf1eaa3473c\" xlink:actuate=\"onRequest\" xlink:href=\"psysml:a0e318cd-0c17-433c-bc04-dbf1eaa3473c\" xlink:show=\"new\" xlink:title=\"psysml:a0e318cd-0c17-433c-bc04-dbf1eaa3473c\" xlink:type=\"simple\"><path d=\"M82.81,126.48 C75.3,131.24 68.39,137.33 64,145 C60.26,151.53 59.68,159.3 60.56,166.77 \" fill=\"none\" id=\"E8-&gt;E6\" style=\"stroke: #383838; stroke-width: 1.0; stroke-dasharray: 7.0,7.0;\"/><polygon fill=\"#383838\" points=\"62.02,174.69,63.5257,166.2797,57.6244,167.3634,62.02,174.69\" style=\"stroke: #383838; stroke-width: 1.0;\"/><text fill=\"#000000\" font-family=\"sans-serif\" font-size=\"13\" lengthAdjust=\"spacingAndGlyphs\" textLength=\"64\" x=\"65\" y=\"158.0669\">«depend»</text></a><!--MD5=[bfa3c8b0d15052fdf50ae9310b491027]\n",
       "link E8 to E7--><a href=\"psysml:a0e318cd-0c17-433c-bc04-dbf1eaa3473c\" target=\"_top\" title=\"psysml:a0e318cd-0c17-433c-bc04-dbf1eaa3473c\" xlink:actuate=\"onRequest\" xlink:href=\"psysml:a0e318cd-0c17-433c-bc04-dbf1eaa3473c\" xlink:show=\"new\" xlink:title=\"psysml:a0e318cd-0c17-433c-bc04-dbf1eaa3473c\" xlink:type=\"simple\"><path d=\"M135.83,132.26 C143.61,143.15 153.22,156.61 161.59,168.32 \" fill=\"none\" id=\"E8-&gt;E7\" style=\"stroke: #383838; stroke-width: 1.0; stroke-dasharray: 7.0,7.0;\"/><polygon fill=\"#383838\" points=\"166.34,174.97,164.1399,166.7141,159.2538,170.1965,166.34,174.97\" style=\"stroke: #383838; stroke-width: 1.0;\"/><text fill=\"#000000\" font-family=\"sans-serif\" font-size=\"13\" lengthAdjust=\"spacingAndGlyphs\" textLength=\"64\" x=\"157\" y=\"158.0669\">«depend»</text></a><!--MD5=[54aa65e75d5bf542582efaee95bc0074]\n",
       "@startuml\r\n",
       "skinparam ranksep 8\r\n",
       "skinparam rectangle {\r\n",
       " backgroundColor<<block>> LightGreen\r\n",
       "}\r\n",
       "skinparam monochrome true\r\n",
       "skinparam classbackgroundcolor white\r\n",
       "skinparam shadowing false\r\n",
       "skinparam wrapWidth 300\r\n",
       "hide circle\r\n",
       "\r\n",
       "package \"DependencyTest\" as E1  [[psysml:01e86263-1e08-4c5e-80c8-9f3a01cb2b1c ]]  {\r\n",
       "package \"System\" as E2  [[psysml:65d9c171-277b-4a12-8988-537cd17218fe ]]  {\r\n",
       "package \"Application Layer\" as E3  [[psysml:7bbe8935-ee6e-44c3-abf9-e711bcee98e7 ]]  {\r\n",
       "}\r\n",
       "package \"Service Layer\" as E4  [[psysml:8539df59-9777-43d1-9cbc-191f1e3b0af0 ]]  {\r\n",
       "}\r\n",
       "package \"Data Layer\" as E5  [[psysml:06e8cf4d-e880-4b5c-8fdb-0871598a4cb3 ]]  {\r\n",
       "}\r\n",
       "}\r\n",
       "rec usage \"x\" as E6  <<(T,blue)attribute>> [[psysml:3f429861-8945-458a-afac-b9814097464d ]] {\r\n",
       "}\r\n",
       "rec usage \"y\" as E7  <<(T,blue)attribute>> [[psysml:f3318431-0d45-43ea-b254-330318c85eb0 ]] {\r\n",
       "}\r\n",
       "rec usage \"z\" as E8  <<(T,blue)attribute>> [[psysml:da180d87-042d-4ade-81c9-b5201399a446 ]] {\r\n",
       "}\r\n",
       "E3 ..>> E4 [[psysml:ddd06611-1e40-467d-8133-a183585a6da5 ]] : <<depend>>\r\n",
       "E4 ..>> E5 [[psysml:b5c0928c-fbc9-4433-ab1e-c084bfbcebd5 ]] : <<depend>>\r\n",
       "E8 ..>> E6 [[psysml:a0e318cd-0c17-433c-bc04-dbf1eaa3473c ]] : <<depend>>\r\n",
       "E8 ..>> E7 [[psysml:a0e318cd-0c17-433c-bc04-dbf1eaa3473c ]] : <<depend>>\r\n",
       "}\r\n",
       "@enduml\r\n",
       "\n",
       "PlantUML version 1.2020.13(Sat Jun 13 12:26:38 UTC 2020)\n",
       "(EPL source distribution)\n",
       "Java Runtime: OpenJDK Runtime Environment\n",
       "JVM: OpenJDK 64-Bit Server VM\n",
       "Default Encoding: UTF-8\n",
       "Language: en\n",
       "Country: null\n",
       "--></g></svg>"
      ]
     },
     "execution_count": 40,
     "metadata": {},
     "output_type": "execute_result"
    }
   ],
   "source": [
    "%viz --style=\"DEFAULT\" --view=\"Interconnection\" \"DependencyTest\""
   ]
  },
  {
   "cell_type": "code",
   "execution_count": 41,
   "id": "regulation-madrid",
   "metadata": {
    "execution": {
     "iopub.execute_input": "2021-03-25T15:09:50.579645Z",
     "iopub.status.busy": "2021-03-25T15:09:50.579016Z",
     "iopub.status.idle": "2021-03-25T15:09:50.587876Z",
     "shell.execute_reply": "2021-03-25T15:09:50.587292Z"
    }
   },
   "outputs": [
    {
     "data": {
      "image/svg+xml": [
       "<?xml version=\"1.0\" encoding=\"UTF-8\" standalone=\"no\"?><svg xmlns=\"http://www.w3.org/2000/svg\" xmlns:xlink=\"http://www.w3.org/1999/xlink\" contentScriptType=\"application/ecmascript\" contentStyleType=\"text/css\" height=\"12px\" preserveAspectRatio=\"none\" style=\"width:12px;height:12px;\" version=\"1.1\" viewBox=\"0 0 12 12\" width=\"12px\" zoomAndPan=\"magnify\"><defs/><g><!--MD5=[388f21188e31bfdd97050473b19af356]\n",
       "@startuml\r\n",
       "skinparam ranksep 8\r\n",
       "skinparam monochrome true\r\n",
       "skinparam classbackgroundcolor white\r\n",
       "skinparam shadowing false\r\n",
       "skinparam wrapWidth 300\r\n",
       "hide circle\r\n",
       "\r\n",
       "@enduml\r\n",
       "\n",
       "PlantUML version 1.2020.13(Sat Jun 13 12:26:38 UTC 2020)\n",
       "(EPL source distribution)\n",
       "Java Runtime: OpenJDK Runtime Environment\n",
       "JVM: OpenJDK 64-Bit Server VM\n",
       "Default Encoding: UTF-8\n",
       "Language: en\n",
       "Country: null\n",
       "--></g></svg>"
      ]
     },
     "execution_count": 41,
     "metadata": {},
     "output_type": "execute_result"
    }
   ],
   "source": [
    "%viz --style=\"DEFAULT\" --view=\"Action\" \"DependencyTest\""
   ]
  },
  {
   "cell_type": "code",
   "execution_count": 42,
   "id": "becoming-rehabilitation",
   "metadata": {
    "execution": {
     "iopub.execute_input": "2021-03-25T15:09:50.640571Z",
     "iopub.status.busy": "2021-03-25T15:09:50.639987Z",
     "iopub.status.idle": "2021-03-25T15:09:50.739276Z",
     "shell.execute_reply": "2021-03-25T15:09:50.738862Z"
    }
   },
   "outputs": [
    {
     "data": {
      "image/svg+xml": [
       "<?xml version=\"1.0\" encoding=\"UTF-8\" standalone=\"no\"?><svg xmlns=\"http://www.w3.org/2000/svg\" xmlns:xlink=\"http://www.w3.org/1999/xlink\" contentScriptType=\"application/ecmascript\" contentStyleType=\"text/css\" height=\"449px\" preserveAspectRatio=\"none\" style=\"width:489px;height:449px;\" version=\"1.1\" viewBox=\"0 0 489 449\" width=\"489px\" zoomAndPan=\"magnify\"><defs/><g><!--MD5=[fbc87193dbaf4d95561dea2c320d4a47]\n",
       "cluster E1--><a href=\"psysml:01e86263-1e08-4c5e-80c8-9f3a01cb2b1c\" target=\"_top\" title=\"psysml:01e86263-1e08-4c5e-80c8-9f3a01cb2b1c\" xlink:actuate=\"onRequest\" xlink:href=\"psysml:01e86263-1e08-4c5e-80c8-9f3a01cb2b1c\" xlink:show=\"new\" xlink:title=\"psysml:01e86263-1e08-4c5e-80c8-9f3a01cb2b1c\" xlink:type=\"simple\"><polygon fill=\"#FFFFFF\" points=\"16,6,156,6,163,28.2969,467,28.2969,467,437,16,437,16,6\" style=\"stroke: #000000; stroke-width: 1.5;\"/><line style=\"stroke: #000000; stroke-width: 1.5;\" x1=\"16\" x2=\"163\" y1=\"28.2969\" y2=\"28.2969\"/><text fill=\"#000000\" font-family=\"sans-serif\" font-size=\"14\" font-weight=\"bold\" lengthAdjust=\"spacingAndGlyphs\" textLength=\"134\" x=\"20\" y=\"20.9951\">DependencyTest</text></a><!--MD5=[e4f7fae6ed58524ba242bb0b0d3be6b7]\n",
       "cluster E2--><a href=\"psysml:65d9c171-277b-4a12-8988-537cd17218fe\" target=\"_top\" title=\"psysml:65d9c171-277b-4a12-8988-537cd17218fe\" xlink:actuate=\"onRequest\" xlink:href=\"psysml:65d9c171-277b-4a12-8988-537cd17218fe\" xlink:show=\"new\" xlink:title=\"psysml:65d9c171-277b-4a12-8988-537cd17218fe\" xlink:type=\"simple\"><polygon fill=\"#FFFFFF\" points=\"255,49,319,49,326,71.2969,443,71.2969,443,413,255,413,255,49\" style=\"stroke: #000000; stroke-width: 1.5;\"/><line style=\"stroke: #000000; stroke-width: 1.5;\" x1=\"255\" x2=\"326\" y1=\"71.2969\" y2=\"71.2969\"/><text fill=\"#000000\" font-family=\"sans-serif\" font-size=\"14\" font-weight=\"bold\" lengthAdjust=\"spacingAndGlyphs\" textLength=\"58\" x=\"259\" y=\"63.9951\">System</text></a><!--MD5=[60a26617385b1d2d0262a64233df1f8d]\n",
       "class E6--><a href=\"psysml:3f429861-8945-458a-afac-b9814097464d\" target=\"_top\" title=\"psysml:3f429861-8945-458a-afac-b9814097464d\" xlink:actuate=\"onRequest\" xlink:href=\"psysml:3f429861-8945-458a-afac-b9814097464d\" xlink:show=\"new\" xlink:title=\"psysml:3f429861-8945-458a-afac-b9814097464d\" xlink:type=\"simple\"><rect fill=\"#FFFFFF\" height=\"45.9375\" id=\"E6\" rx=\"10\" ry=\"10\" style=\"stroke: #383838; stroke-width: 1.5;\" width=\"71\" x=\"32.5\" y=\"217.5\"/><text fill=\"#000000\" font-family=\"sans-serif\" font-size=\"12\" font-style=\"italic\" lengthAdjust=\"spacingAndGlyphs\" textLength=\"69\" x=\"33.5\" y=\"233.6387\">«attribute»</text><text fill=\"#000000\" font-family=\"sans-serif\" font-size=\"12\" lengthAdjust=\"spacingAndGlyphs\" textLength=\"6\" x=\"65\" y=\"247.6074\">x</text><line style=\"stroke: #383838; stroke-width: 1.5;\" x1=\"33.5\" x2=\"102.5\" y1=\"255.4375\" y2=\"255.4375\"/></a><!--MD5=[2156ba9850f5573cc1fc38a6a4b2f02b]\n",
       "class E7--><a href=\"psysml:f3318431-0d45-43ea-b254-330318c85eb0\" target=\"_top\" title=\"psysml:f3318431-0d45-43ea-b254-330318c85eb0\" xlink:actuate=\"onRequest\" xlink:href=\"psysml:f3318431-0d45-43ea-b254-330318c85eb0\" xlink:show=\"new\" xlink:title=\"psysml:f3318431-0d45-43ea-b254-330318c85eb0\" xlink:type=\"simple\"><rect fill=\"#FFFFFF\" height=\"45.9375\" id=\"E7\" rx=\"10\" ry=\"10\" style=\"stroke: #383838; stroke-width: 1.5;\" width=\"71\" x=\"138.5\" y=\"217.5\"/><text fill=\"#000000\" font-family=\"sans-serif\" font-size=\"12\" font-style=\"italic\" lengthAdjust=\"spacingAndGlyphs\" textLength=\"69\" x=\"139.5\" y=\"233.6387\">«attribute»</text><text fill=\"#000000\" font-family=\"sans-serif\" font-size=\"12\" lengthAdjust=\"spacingAndGlyphs\" textLength=\"6\" x=\"171\" y=\"247.6074\">y</text><line style=\"stroke: #383838; stroke-width: 1.5;\" x1=\"139.5\" x2=\"208.5\" y1=\"255.4375\" y2=\"255.4375\"/></a><!--MD5=[b9389687b975829384b498ac4b7476b2]\n",
       "class E8--><a href=\"psysml:da180d87-042d-4ade-81c9-b5201399a446\" target=\"_top\" title=\"psysml:da180d87-042d-4ade-81c9-b5201399a446\" xlink:actuate=\"onRequest\" xlink:href=\"psysml:da180d87-042d-4ade-81c9-b5201399a446\" xlink:show=\"new\" xlink:title=\"psysml:da180d87-042d-4ade-81c9-b5201399a446\" xlink:type=\"simple\"><rect fill=\"#FFFFFF\" height=\"45.9375\" id=\"E8\" rx=\"10\" ry=\"10\" style=\"stroke: #383838; stroke-width: 1.5;\" width=\"71\" x=\"84.5\" y=\"87.5\"/><text fill=\"#000000\" font-family=\"sans-serif\" font-size=\"12\" font-style=\"italic\" lengthAdjust=\"spacingAndGlyphs\" textLength=\"69\" x=\"85.5\" y=\"103.6387\">«attribute»</text><text fill=\"#000000\" font-family=\"sans-serif\" font-size=\"12\" lengthAdjust=\"spacingAndGlyphs\" textLength=\"5\" x=\"117.5\" y=\"117.6074\">z</text><line style=\"stroke: #383838; stroke-width: 1.5;\" x1=\"85.5\" x2=\"154.5\" y1=\"125.4375\" y2=\"125.4375\"/></a><a href=\"psysml:7bbe8935-ee6e-44c3-abf9-e711bcee98e7\" target=\"_top\" title=\"psysml:7bbe8935-ee6e-44c3-abf9-e711bcee98e7\" xlink:actuate=\"onRequest\" xlink:href=\"psysml:7bbe8935-ee6e-44c3-abf9-e711bcee98e7\" xlink:show=\"new\" xlink:title=\"psysml:7bbe8935-ee6e-44c3-abf9-e711bcee98e7\" xlink:type=\"simple\"><polygon fill=\"#FFFFFF\" points=\"271,84,413,84,420,106.2969,427,106.2969,427,136.5938,271,136.5938,271,84\" style=\"stroke: #000000; stroke-width: 1.5;\"/><line style=\"stroke: #000000; stroke-width: 1.5;\" x1=\"271\" x2=\"420\" y1=\"106.2969\" y2=\"106.2969\"/><text fill=\"#000000\" font-family=\"sans-serif\" font-size=\"14\" font-weight=\"bold\" lengthAdjust=\"spacingAndGlyphs\" textLength=\"136\" x=\"275\" y=\"98.9951\">Application Layer</text></a><a href=\"psysml:8539df59-9777-43d1-9cbc-191f1e3b0af0\" target=\"_top\" title=\"psysml:8539df59-9777-43d1-9cbc-191f1e3b0af0\" xlink:actuate=\"onRequest\" xlink:href=\"psysml:8539df59-9777-43d1-9cbc-191f1e3b0af0\" xlink:show=\"new\" xlink:title=\"psysml:8539df59-9777-43d1-9cbc-191f1e3b0af0\" xlink:type=\"simple\"><polygon fill=\"#FFFFFF\" points=\"285,214,399,214,406,236.2969,413,236.2969,413,266.5938,285,266.5938,285,214\" style=\"stroke: #000000; stroke-width: 1.5;\"/><line style=\"stroke: #000000; stroke-width: 1.5;\" x1=\"285\" x2=\"406\" y1=\"236.2969\" y2=\"236.2969\"/><text fill=\"#000000\" font-family=\"sans-serif\" font-size=\"14\" font-weight=\"bold\" lengthAdjust=\"spacingAndGlyphs\" textLength=\"108\" x=\"289\" y=\"228.9951\">Service Layer</text></a><a href=\"psysml:06e8cf4d-e880-4b5c-8fdb-0871598a4cb3\" target=\"_top\" title=\"psysml:06e8cf4d-e880-4b5c-8fdb-0871598a4cb3\" xlink:actuate=\"onRequest\" xlink:href=\"psysml:06e8cf4d-e880-4b5c-8fdb-0871598a4cb3\" xlink:show=\"new\" xlink:title=\"psysml:06e8cf4d-e880-4b5c-8fdb-0871598a4cb3\" xlink:type=\"simple\"><polygon fill=\"#FFFFFF\" points=\"297,344,387,344,394,366.2969,401,366.2969,401,396.5938,297,396.5938,297,344\" style=\"stroke: #000000; stroke-width: 1.5;\"/><line style=\"stroke: #000000; stroke-width: 1.5;\" x1=\"297\" x2=\"394\" y1=\"366.2969\" y2=\"366.2969\"/><text fill=\"#000000\" font-family=\"sans-serif\" font-size=\"14\" font-weight=\"bold\" lengthAdjust=\"spacingAndGlyphs\" textLength=\"84\" x=\"301\" y=\"358.9951\">Data Layer</text></a><!--MD5=[af87c684e3b0d8be13c1a698a818ef1e]\n",
       "link E3 to E4--><a href=\"psysml:ddd06611-1e40-467d-8133-a183585a6da5\" target=\"_top\" title=\"psysml:ddd06611-1e40-467d-8133-a183585a6da5\" xlink:actuate=\"onRequest\" xlink:href=\"psysml:ddd06611-1e40-467d-8133-a183585a6da5\" xlink:show=\"new\" xlink:title=\"psysml:ddd06611-1e40-467d-8133-a183585a6da5\" xlink:type=\"simple\"><path d=\"M349,137.1 C349,156.8 349,184.22 349,205.73 \" fill=\"none\" id=\"E3-&gt;E4\" style=\"stroke: #383838; stroke-width: 1.0; stroke-dasharray: 7.0,7.0;\"/><polygon fill=\"#383838\" points=\"349,213.95,352,205.95,346,205.95,349,213.95\" style=\"stroke: #383838; stroke-width: 1.0;\"/><text fill=\"#000000\" font-family=\"sans-serif\" font-size=\"13\" lengthAdjust=\"spacingAndGlyphs\" textLength=\"64\" x=\"350\" y=\"180.0669\">«depend»</text></a><!--MD5=[1b7591eae5389033d8d09a9d6721a717]\n",
       "link E4 to E5--><a href=\"psysml:b5c0928c-fbc9-4433-ab1e-c084bfbcebd5\" target=\"_top\" title=\"psysml:b5c0928c-fbc9-4433-ab1e-c084bfbcebd5\" xlink:actuate=\"onRequest\" xlink:href=\"psysml:b5c0928c-fbc9-4433-ab1e-c084bfbcebd5\" xlink:show=\"new\" xlink:title=\"psysml:b5c0928c-fbc9-4433-ab1e-c084bfbcebd5\" xlink:type=\"simple\"><path d=\"M349,267.1 C349,286.8 349,314.22 349,335.73 \" fill=\"none\" id=\"E4-&gt;E5\" style=\"stroke: #383838; stroke-width: 1.0; stroke-dasharray: 7.0,7.0;\"/><polygon fill=\"#383838\" points=\"349,343.95,352,335.95,346,335.95,349,343.95\" style=\"stroke: #383838; stroke-width: 1.0;\"/><text fill=\"#000000\" font-family=\"sans-serif\" font-size=\"13\" lengthAdjust=\"spacingAndGlyphs\" textLength=\"64\" x=\"350\" y=\"310.0669\">«depend»</text></a><!--MD5=[c5e8897d989ce984f93528998a7150fe]\n",
       "link E8 to E6--><a href=\"psysml:a0e318cd-0c17-433c-bc04-dbf1eaa3473c\" target=\"_top\" title=\"psysml:a0e318cd-0c17-433c-bc04-dbf1eaa3473c\" xlink:actuate=\"onRequest\" xlink:href=\"psysml:a0e318cd-0c17-433c-bc04-dbf1eaa3473c\" xlink:show=\"new\" xlink:title=\"psysml:a0e318cd-0c17-433c-bc04-dbf1eaa3473c\" xlink:type=\"simple\"><path d=\"M89.42,133.6 C79.35,142.68 69.37,154.11 64,167 C58.5,180.2 58.66,195.94 60.54,209.38 \" fill=\"none\" id=\"E8-&gt;E6\" style=\"stroke: #383838; stroke-width: 1.0; stroke-dasharray: 7.0,7.0;\"/><polygon fill=\"#383838\" points=\"61.9,217.4,63.517,209.0104,57.6018,210.0159,61.9,217.4\" style=\"stroke: #383838; stroke-width: 1.0;\"/><text fill=\"#000000\" font-family=\"sans-serif\" font-size=\"13\" lengthAdjust=\"spacingAndGlyphs\" textLength=\"64\" x=\"65\" y=\"180.0669\">«depend»</text></a><!--MD5=[bfa3c8b0d15052fdf50ae9310b491027]\n",
       "link E8 to E7--><a href=\"psysml:a0e318cd-0c17-433c-bc04-dbf1eaa3473c\" target=\"_top\" title=\"psysml:a0e318cd-0c17-433c-bc04-dbf1eaa3473c\" xlink:actuate=\"onRequest\" xlink:href=\"psysml:a0e318cd-0c17-433c-bc04-dbf1eaa3473c\" xlink:show=\"new\" xlink:title=\"psysml:a0e318cd-0c17-433c-bc04-dbf1eaa3473c\" xlink:type=\"simple\"><path d=\"M129.28,133.5 C138.17,154.57 151.64,186.5 161.47,209.81 \" fill=\"none\" id=\"E8-&gt;E7\" style=\"stroke: #383838; stroke-width: 1.0; stroke-dasharray: 7.0,7.0;\"/><polygon fill=\"#383838\" points=\"164.66,217.35,164.3241,208.8126,158.7933,211.1385,164.66,217.35\" style=\"stroke: #383838; stroke-width: 1.0;\"/><text fill=\"#000000\" font-family=\"sans-serif\" font-size=\"13\" lengthAdjust=\"spacingAndGlyphs\" textLength=\"64\" x=\"151\" y=\"180.0669\">«depend»</text></a><!--MD5=[969050002536e6c714aeb7227655f8d2]\n",
       "@startuml\r\n",
       "skinparam monochrome true\r\n",
       "skinparam classbackgroundcolor white\r\n",
       "skinparam shadowing false\r\n",
       "skinparam wrapWidth 300\r\n",
       "hide circle\r\n",
       "\r\n",
       "package \"DependencyTest\" as E1  [[psysml:01e86263-1e08-4c5e-80c8-9f3a01cb2b1c ]]  {\r\n",
       "package \"System\" as E2  [[psysml:65d9c171-277b-4a12-8988-537cd17218fe ]]  {\r\n",
       "package \"Application Layer\" as E3  [[psysml:7bbe8935-ee6e-44c3-abf9-e711bcee98e7 ]]  {\r\n",
       "}\r\n",
       "package \"Service Layer\" as E4  [[psysml:8539df59-9777-43d1-9cbc-191f1e3b0af0 ]]  {\r\n",
       "}\r\n",
       "package \"Data Layer\" as E5  [[psysml:06e8cf4d-e880-4b5c-8fdb-0871598a4cb3 ]]  {\r\n",
       "}\r\n",
       "}\r\n",
       "comp usage \"x\" as E6  <<(T,blue)attribute>> [[psysml:3f429861-8945-458a-afac-b9814097464d ]] {\r\n",
       "}\r\n",
       "comp usage \"y\" as E7  <<(T,blue)attribute>> [[psysml:f3318431-0d45-43ea-b254-330318c85eb0 ]] {\r\n",
       "}\r\n",
       "comp usage \"z\" as E8  <<(T,blue)attribute>> [[psysml:da180d87-042d-4ade-81c9-b5201399a446 ]] {\r\n",
       "}\r\n",
       "E3 ..>> E4 [[psysml:ddd06611-1e40-467d-8133-a183585a6da5 ]] : <<depend>>\r\n",
       "E4 ..>> E5 [[psysml:b5c0928c-fbc9-4433-ab1e-c084bfbcebd5 ]] : <<depend>>\r\n",
       "E8 ..>> E6 [[psysml:a0e318cd-0c17-433c-bc04-dbf1eaa3473c ]] : <<depend>>\r\n",
       "E8 ..>> E7 [[psysml:a0e318cd-0c17-433c-bc04-dbf1eaa3473c ]] : <<depend>>\r\n",
       "}\r\n",
       "@enduml\r\n",
       "\n",
       "PlantUML version 1.2020.13(Sat Jun 13 12:26:38 UTC 2020)\n",
       "(EPL source distribution)\n",
       "Java Runtime: OpenJDK Runtime Environment\n",
       "JVM: OpenJDK 64-Bit Server VM\n",
       "Default Encoding: UTF-8\n",
       "Language: en\n",
       "Country: null\n",
       "--></g></svg>"
      ]
     },
     "execution_count": 42,
     "metadata": {},
     "output_type": "execute_result"
    }
   ],
   "source": [
    "%viz --style=\"DEFAULT\" --view=\"Sequence\" \"DependencyTest\""
   ]
  },
  {
   "cell_type": "code",
   "execution_count": 43,
   "id": "ongoing-poverty",
   "metadata": {
    "execution": {
     "iopub.execute_input": "2021-03-25T15:09:50.793060Z",
     "iopub.status.busy": "2021-03-25T15:09:50.792032Z",
     "iopub.status.idle": "2021-03-25T15:09:50.896934Z",
     "shell.execute_reply": "2021-03-25T15:09:50.895281Z"
    }
   },
   "outputs": [
    {
     "data": {
      "image/svg+xml": [
       "<?xml version=\"1.0\" encoding=\"UTF-8\" standalone=\"no\"?><svg xmlns=\"http://www.w3.org/2000/svg\" xmlns:xlink=\"http://www.w3.org/1999/xlink\" contentScriptType=\"application/ecmascript\" contentStyleType=\"text/css\" height=\"449px\" preserveAspectRatio=\"none\" style=\"width:489px;height:449px;\" version=\"1.1\" viewBox=\"0 0 489 449\" width=\"489px\" zoomAndPan=\"magnify\"><defs/><g><!--MD5=[fbc87193dbaf4d95561dea2c320d4a47]\n",
       "cluster E1--><a href=\"psysml:01e86263-1e08-4c5e-80c8-9f3a01cb2b1c\" target=\"_top\" title=\"psysml:01e86263-1e08-4c5e-80c8-9f3a01cb2b1c\" xlink:actuate=\"onRequest\" xlink:href=\"psysml:01e86263-1e08-4c5e-80c8-9f3a01cb2b1c\" xlink:show=\"new\" xlink:title=\"psysml:01e86263-1e08-4c5e-80c8-9f3a01cb2b1c\" xlink:type=\"simple\"><polygon fill=\"#FFFFFF\" points=\"16,6,156,6,163,28.2969,467,28.2969,467,437,16,437,16,6\" style=\"stroke: #000000; stroke-width: 1.5;\"/><line style=\"stroke: #000000; stroke-width: 1.5;\" x1=\"16\" x2=\"163\" y1=\"28.2969\" y2=\"28.2969\"/><text fill=\"#000000\" font-family=\"sans-serif\" font-size=\"14\" font-weight=\"bold\" lengthAdjust=\"spacingAndGlyphs\" textLength=\"134\" x=\"20\" y=\"20.9951\">DependencyTest</text></a><!--MD5=[e4f7fae6ed58524ba242bb0b0d3be6b7]\n",
       "cluster E2--><a href=\"psysml:65d9c171-277b-4a12-8988-537cd17218fe\" target=\"_top\" title=\"psysml:65d9c171-277b-4a12-8988-537cd17218fe\" xlink:actuate=\"onRequest\" xlink:href=\"psysml:65d9c171-277b-4a12-8988-537cd17218fe\" xlink:show=\"new\" xlink:title=\"psysml:65d9c171-277b-4a12-8988-537cd17218fe\" xlink:type=\"simple\"><polygon fill=\"#FFFFFF\" points=\"255,49,319,49,326,71.2969,443,71.2969,443,413,255,413,255,49\" style=\"stroke: #000000; stroke-width: 1.5;\"/><line style=\"stroke: #000000; stroke-width: 1.5;\" x1=\"255\" x2=\"326\" y1=\"71.2969\" y2=\"71.2969\"/><text fill=\"#000000\" font-family=\"sans-serif\" font-size=\"14\" font-weight=\"bold\" lengthAdjust=\"spacingAndGlyphs\" textLength=\"58\" x=\"259\" y=\"63.9951\">System</text></a><!--MD5=[60a26617385b1d2d0262a64233df1f8d]\n",
       "class E6--><a href=\"psysml:3f429861-8945-458a-afac-b9814097464d\" target=\"_top\" title=\"psysml:3f429861-8945-458a-afac-b9814097464d\" xlink:actuate=\"onRequest\" xlink:href=\"psysml:3f429861-8945-458a-afac-b9814097464d\" xlink:show=\"new\" xlink:title=\"psysml:3f429861-8945-458a-afac-b9814097464d\" xlink:type=\"simple\"><rect fill=\"#FFFFFF\" height=\"45.9375\" id=\"E6\" rx=\"10\" ry=\"10\" style=\"stroke: #383838; stroke-width: 1.5;\" width=\"71\" x=\"32.5\" y=\"217.5\"/><text fill=\"#000000\" font-family=\"sans-serif\" font-size=\"12\" font-style=\"italic\" lengthAdjust=\"spacingAndGlyphs\" textLength=\"69\" x=\"33.5\" y=\"233.6387\">«attribute»</text><text fill=\"#000000\" font-family=\"sans-serif\" font-size=\"12\" lengthAdjust=\"spacingAndGlyphs\" textLength=\"6\" x=\"65\" y=\"247.6074\">x</text><line style=\"stroke: #383838; stroke-width: 1.5;\" x1=\"33.5\" x2=\"102.5\" y1=\"255.4375\" y2=\"255.4375\"/></a><!--MD5=[2156ba9850f5573cc1fc38a6a4b2f02b]\n",
       "class E7--><a href=\"psysml:f3318431-0d45-43ea-b254-330318c85eb0\" target=\"_top\" title=\"psysml:f3318431-0d45-43ea-b254-330318c85eb0\" xlink:actuate=\"onRequest\" xlink:href=\"psysml:f3318431-0d45-43ea-b254-330318c85eb0\" xlink:show=\"new\" xlink:title=\"psysml:f3318431-0d45-43ea-b254-330318c85eb0\" xlink:type=\"simple\"><rect fill=\"#FFFFFF\" height=\"45.9375\" id=\"E7\" rx=\"10\" ry=\"10\" style=\"stroke: #383838; stroke-width: 1.5;\" width=\"71\" x=\"138.5\" y=\"217.5\"/><text fill=\"#000000\" font-family=\"sans-serif\" font-size=\"12\" font-style=\"italic\" lengthAdjust=\"spacingAndGlyphs\" textLength=\"69\" x=\"139.5\" y=\"233.6387\">«attribute»</text><text fill=\"#000000\" font-family=\"sans-serif\" font-size=\"12\" lengthAdjust=\"spacingAndGlyphs\" textLength=\"6\" x=\"171\" y=\"247.6074\">y</text><line style=\"stroke: #383838; stroke-width: 1.5;\" x1=\"139.5\" x2=\"208.5\" y1=\"255.4375\" y2=\"255.4375\"/></a><!--MD5=[b9389687b975829384b498ac4b7476b2]\n",
       "class E8--><a href=\"psysml:da180d87-042d-4ade-81c9-b5201399a446\" target=\"_top\" title=\"psysml:da180d87-042d-4ade-81c9-b5201399a446\" xlink:actuate=\"onRequest\" xlink:href=\"psysml:da180d87-042d-4ade-81c9-b5201399a446\" xlink:show=\"new\" xlink:title=\"psysml:da180d87-042d-4ade-81c9-b5201399a446\" xlink:type=\"simple\"><rect fill=\"#FFFFFF\" height=\"45.9375\" id=\"E8\" rx=\"10\" ry=\"10\" style=\"stroke: #383838; stroke-width: 1.5;\" width=\"71\" x=\"84.5\" y=\"87.5\"/><text fill=\"#000000\" font-family=\"sans-serif\" font-size=\"12\" font-style=\"italic\" lengthAdjust=\"spacingAndGlyphs\" textLength=\"69\" x=\"85.5\" y=\"103.6387\">«attribute»</text><text fill=\"#000000\" font-family=\"sans-serif\" font-size=\"12\" lengthAdjust=\"spacingAndGlyphs\" textLength=\"5\" x=\"117.5\" y=\"117.6074\">z</text><line style=\"stroke: #383838; stroke-width: 1.5;\" x1=\"85.5\" x2=\"154.5\" y1=\"125.4375\" y2=\"125.4375\"/></a><a href=\"psysml:7bbe8935-ee6e-44c3-abf9-e711bcee98e7\" target=\"_top\" title=\"psysml:7bbe8935-ee6e-44c3-abf9-e711bcee98e7\" xlink:actuate=\"onRequest\" xlink:href=\"psysml:7bbe8935-ee6e-44c3-abf9-e711bcee98e7\" xlink:show=\"new\" xlink:title=\"psysml:7bbe8935-ee6e-44c3-abf9-e711bcee98e7\" xlink:type=\"simple\"><polygon fill=\"#FFFFFF\" points=\"271,84,413,84,420,106.2969,427,106.2969,427,136.5938,271,136.5938,271,84\" style=\"stroke: #000000; stroke-width: 1.5;\"/><line style=\"stroke: #000000; stroke-width: 1.5;\" x1=\"271\" x2=\"420\" y1=\"106.2969\" y2=\"106.2969\"/><text fill=\"#000000\" font-family=\"sans-serif\" font-size=\"14\" font-weight=\"bold\" lengthAdjust=\"spacingAndGlyphs\" textLength=\"136\" x=\"275\" y=\"98.9951\">Application Layer</text></a><a href=\"psysml:8539df59-9777-43d1-9cbc-191f1e3b0af0\" target=\"_top\" title=\"psysml:8539df59-9777-43d1-9cbc-191f1e3b0af0\" xlink:actuate=\"onRequest\" xlink:href=\"psysml:8539df59-9777-43d1-9cbc-191f1e3b0af0\" xlink:show=\"new\" xlink:title=\"psysml:8539df59-9777-43d1-9cbc-191f1e3b0af0\" xlink:type=\"simple\"><polygon fill=\"#FFFFFF\" points=\"285,214,399,214,406,236.2969,413,236.2969,413,266.5938,285,266.5938,285,214\" style=\"stroke: #000000; stroke-width: 1.5;\"/><line style=\"stroke: #000000; stroke-width: 1.5;\" x1=\"285\" x2=\"406\" y1=\"236.2969\" y2=\"236.2969\"/><text fill=\"#000000\" font-family=\"sans-serif\" font-size=\"14\" font-weight=\"bold\" lengthAdjust=\"spacingAndGlyphs\" textLength=\"108\" x=\"289\" y=\"228.9951\">Service Layer</text></a><a href=\"psysml:06e8cf4d-e880-4b5c-8fdb-0871598a4cb3\" target=\"_top\" title=\"psysml:06e8cf4d-e880-4b5c-8fdb-0871598a4cb3\" xlink:actuate=\"onRequest\" xlink:href=\"psysml:06e8cf4d-e880-4b5c-8fdb-0871598a4cb3\" xlink:show=\"new\" xlink:title=\"psysml:06e8cf4d-e880-4b5c-8fdb-0871598a4cb3\" xlink:type=\"simple\"><polygon fill=\"#FFFFFF\" points=\"297,344,387,344,394,366.2969,401,366.2969,401,396.5938,297,396.5938,297,344\" style=\"stroke: #000000; stroke-width: 1.5;\"/><line style=\"stroke: #000000; stroke-width: 1.5;\" x1=\"297\" x2=\"394\" y1=\"366.2969\" y2=\"366.2969\"/><text fill=\"#000000\" font-family=\"sans-serif\" font-size=\"14\" font-weight=\"bold\" lengthAdjust=\"spacingAndGlyphs\" textLength=\"84\" x=\"301\" y=\"358.9951\">Data Layer</text></a><!--MD5=[af87c684e3b0d8be13c1a698a818ef1e]\n",
       "link E3 to E4--><a href=\"psysml:ddd06611-1e40-467d-8133-a183585a6da5\" target=\"_top\" title=\"psysml:ddd06611-1e40-467d-8133-a183585a6da5\" xlink:actuate=\"onRequest\" xlink:href=\"psysml:ddd06611-1e40-467d-8133-a183585a6da5\" xlink:show=\"new\" xlink:title=\"psysml:ddd06611-1e40-467d-8133-a183585a6da5\" xlink:type=\"simple\"><path d=\"M349,137.1 C349,156.8 349,184.22 349,205.73 \" fill=\"none\" id=\"E3-&gt;E4\" style=\"stroke: #383838; stroke-width: 1.0; stroke-dasharray: 7.0,7.0;\"/><polygon fill=\"#383838\" points=\"349,213.95,352,205.95,346,205.95,349,213.95\" style=\"stroke: #383838; stroke-width: 1.0;\"/><text fill=\"#000000\" font-family=\"sans-serif\" font-size=\"13\" lengthAdjust=\"spacingAndGlyphs\" textLength=\"64\" x=\"350\" y=\"180.0669\">«depend»</text></a><!--MD5=[1b7591eae5389033d8d09a9d6721a717]\n",
       "link E4 to E5--><a href=\"psysml:b5c0928c-fbc9-4433-ab1e-c084bfbcebd5\" target=\"_top\" title=\"psysml:b5c0928c-fbc9-4433-ab1e-c084bfbcebd5\" xlink:actuate=\"onRequest\" xlink:href=\"psysml:b5c0928c-fbc9-4433-ab1e-c084bfbcebd5\" xlink:show=\"new\" xlink:title=\"psysml:b5c0928c-fbc9-4433-ab1e-c084bfbcebd5\" xlink:type=\"simple\"><path d=\"M349,267.1 C349,286.8 349,314.22 349,335.73 \" fill=\"none\" id=\"E4-&gt;E5\" style=\"stroke: #383838; stroke-width: 1.0; stroke-dasharray: 7.0,7.0;\"/><polygon fill=\"#383838\" points=\"349,343.95,352,335.95,346,335.95,349,343.95\" style=\"stroke: #383838; stroke-width: 1.0;\"/><text fill=\"#000000\" font-family=\"sans-serif\" font-size=\"13\" lengthAdjust=\"spacingAndGlyphs\" textLength=\"64\" x=\"350\" y=\"310.0669\">«depend»</text></a><!--MD5=[c5e8897d989ce984f93528998a7150fe]\n",
       "link E8 to E6--><a href=\"psysml:a0e318cd-0c17-433c-bc04-dbf1eaa3473c\" target=\"_top\" title=\"psysml:a0e318cd-0c17-433c-bc04-dbf1eaa3473c\" xlink:actuate=\"onRequest\" xlink:href=\"psysml:a0e318cd-0c17-433c-bc04-dbf1eaa3473c\" xlink:show=\"new\" xlink:title=\"psysml:a0e318cd-0c17-433c-bc04-dbf1eaa3473c\" xlink:type=\"simple\"><path d=\"M89.42,133.6 C79.35,142.68 69.37,154.11 64,167 C58.5,180.2 58.66,195.94 60.54,209.38 \" fill=\"none\" id=\"E8-&gt;E6\" style=\"stroke: #383838; stroke-width: 1.0; stroke-dasharray: 7.0,7.0;\"/><polygon fill=\"#383838\" points=\"61.9,217.4,63.517,209.0104,57.6018,210.0159,61.9,217.4\" style=\"stroke: #383838; stroke-width: 1.0;\"/><text fill=\"#000000\" font-family=\"sans-serif\" font-size=\"13\" lengthAdjust=\"spacingAndGlyphs\" textLength=\"64\" x=\"65\" y=\"180.0669\">«depend»</text></a><!--MD5=[bfa3c8b0d15052fdf50ae9310b491027]\n",
       "link E8 to E7--><a href=\"psysml:a0e318cd-0c17-433c-bc04-dbf1eaa3473c\" target=\"_top\" title=\"psysml:a0e318cd-0c17-433c-bc04-dbf1eaa3473c\" xlink:actuate=\"onRequest\" xlink:href=\"psysml:a0e318cd-0c17-433c-bc04-dbf1eaa3473c\" xlink:show=\"new\" xlink:title=\"psysml:a0e318cd-0c17-433c-bc04-dbf1eaa3473c\" xlink:type=\"simple\"><path d=\"M129.28,133.5 C138.17,154.57 151.64,186.5 161.47,209.81 \" fill=\"none\" id=\"E8-&gt;E7\" style=\"stroke: #383838; stroke-width: 1.0; stroke-dasharray: 7.0,7.0;\"/><polygon fill=\"#383838\" points=\"164.66,217.35,164.3241,208.8126,158.7933,211.1385,164.66,217.35\" style=\"stroke: #383838; stroke-width: 1.0;\"/><text fill=\"#000000\" font-family=\"sans-serif\" font-size=\"13\" lengthAdjust=\"spacingAndGlyphs\" textLength=\"64\" x=\"151\" y=\"180.0669\">«depend»</text></a><!--MD5=[969050002536e6c714aeb7227655f8d2]\n",
       "@startuml\r\n",
       "skinparam monochrome true\r\n",
       "skinparam classbackgroundcolor white\r\n",
       "skinparam shadowing false\r\n",
       "skinparam wrapWidth 300\r\n",
       "hide circle\r\n",
       "\r\n",
       "package \"DependencyTest\" as E1  [[psysml:01e86263-1e08-4c5e-80c8-9f3a01cb2b1c ]]  {\r\n",
       "package \"System\" as E2  [[psysml:65d9c171-277b-4a12-8988-537cd17218fe ]]  {\r\n",
       "package \"Application Layer\" as E3  [[psysml:7bbe8935-ee6e-44c3-abf9-e711bcee98e7 ]]  {\r\n",
       "}\r\n",
       "package \"Service Layer\" as E4  [[psysml:8539df59-9777-43d1-9cbc-191f1e3b0af0 ]]  {\r\n",
       "}\r\n",
       "package \"Data Layer\" as E5  [[psysml:06e8cf4d-e880-4b5c-8fdb-0871598a4cb3 ]]  {\r\n",
       "}\r\n",
       "}\r\n",
       "comp usage \"x\" as E6  <<(T,blue)attribute>> [[psysml:3f429861-8945-458a-afac-b9814097464d ]] {\r\n",
       "}\r\n",
       "comp usage \"y\" as E7  <<(T,blue)attribute>> [[psysml:f3318431-0d45-43ea-b254-330318c85eb0 ]] {\r\n",
       "}\r\n",
       "comp usage \"z\" as E8  <<(T,blue)attribute>> [[psysml:da180d87-042d-4ade-81c9-b5201399a446 ]] {\r\n",
       "}\r\n",
       "E3 ..>> E4 [[psysml:ddd06611-1e40-467d-8133-a183585a6da5 ]] : <<depend>>\r\n",
       "E4 ..>> E5 [[psysml:b5c0928c-fbc9-4433-ab1e-c084bfbcebd5 ]] : <<depend>>\r\n",
       "E8 ..>> E6 [[psysml:a0e318cd-0c17-433c-bc04-dbf1eaa3473c ]] : <<depend>>\r\n",
       "E8 ..>> E7 [[psysml:a0e318cd-0c17-433c-bc04-dbf1eaa3473c ]] : <<depend>>\r\n",
       "}\r\n",
       "@enduml\r\n",
       "\n",
       "PlantUML version 1.2020.13(Sat Jun 13 12:26:38 UTC 2020)\n",
       "(EPL source distribution)\n",
       "Java Runtime: OpenJDK Runtime Environment\n",
       "JVM: OpenJDK 64-Bit Server VM\n",
       "Default Encoding: UTF-8\n",
       "Language: en\n",
       "Country: null\n",
       "--></g></svg>"
      ]
     },
     "execution_count": 43,
     "metadata": {},
     "output_type": "execute_result"
    }
   ],
   "source": [
    "%viz --style=\"DEFAULT\" --view=\"MIXED\" \"DependencyTest\""
   ]
  },
  {
   "cell_type": "code",
   "execution_count": 44,
   "id": "remarkable-bulletin",
   "metadata": {
    "execution": {
     "iopub.execute_input": "2021-03-25T15:09:50.946841Z",
     "iopub.status.busy": "2021-03-25T15:09:50.946223Z",
     "iopub.status.idle": "2021-03-25T15:09:51.040099Z",
     "shell.execute_reply": "2021-03-25T15:09:51.038601Z"
    }
   },
   "outputs": [
    {
     "data": {
      "image/svg+xml": [
       "<?xml version=\"1.0\" encoding=\"UTF-8\" standalone=\"no\"?><svg xmlns=\"http://www.w3.org/2000/svg\" xmlns:xlink=\"http://www.w3.org/1999/xlink\" contentScriptType=\"application/ecmascript\" contentStyleType=\"text/css\" height=\"449px\" preserveAspectRatio=\"none\" style=\"width:489px;height:449px;\" version=\"1.1\" viewBox=\"0 0 489 449\" width=\"489px\" zoomAndPan=\"magnify\"><defs/><g><!--MD5=[fbc87193dbaf4d95561dea2c320d4a47]\n",
       "cluster E1--><a href=\"psysml:01e86263-1e08-4c5e-80c8-9f3a01cb2b1c\" target=\"_top\" title=\"psysml:01e86263-1e08-4c5e-80c8-9f3a01cb2b1c\" xlink:actuate=\"onRequest\" xlink:href=\"psysml:01e86263-1e08-4c5e-80c8-9f3a01cb2b1c\" xlink:show=\"new\" xlink:title=\"psysml:01e86263-1e08-4c5e-80c8-9f3a01cb2b1c\" xlink:type=\"simple\"><polygon fill=\"#FFFFFF\" points=\"16,6,156,6,163,28.2969,467,28.2969,467,437,16,437,16,6\" style=\"stroke: #000000; stroke-width: 1.5;\"/><line style=\"stroke: #000000; stroke-width: 1.5;\" x1=\"16\" x2=\"163\" y1=\"28.2969\" y2=\"28.2969\"/><text fill=\"#000000\" font-family=\"sans-serif\" font-size=\"14\" font-weight=\"bold\" lengthAdjust=\"spacingAndGlyphs\" textLength=\"134\" x=\"20\" y=\"20.9951\">DependencyTest</text></a><!--MD5=[e4f7fae6ed58524ba242bb0b0d3be6b7]\n",
       "cluster E2--><a href=\"psysml:65d9c171-277b-4a12-8988-537cd17218fe\" target=\"_top\" title=\"psysml:65d9c171-277b-4a12-8988-537cd17218fe\" xlink:actuate=\"onRequest\" xlink:href=\"psysml:65d9c171-277b-4a12-8988-537cd17218fe\" xlink:show=\"new\" xlink:title=\"psysml:65d9c171-277b-4a12-8988-537cd17218fe\" xlink:type=\"simple\"><polygon fill=\"#FFFFFF\" points=\"255,49,319,49,326,71.2969,443,71.2969,443,413,255,413,255,49\" style=\"stroke: #000000; stroke-width: 1.5;\"/><line style=\"stroke: #000000; stroke-width: 1.5;\" x1=\"255\" x2=\"326\" y1=\"71.2969\" y2=\"71.2969\"/><text fill=\"#000000\" font-family=\"sans-serif\" font-size=\"14\" font-weight=\"bold\" lengthAdjust=\"spacingAndGlyphs\" textLength=\"58\" x=\"259\" y=\"63.9951\">System</text></a><!--MD5=[60a26617385b1d2d0262a64233df1f8d]\n",
       "class E6--><a href=\"psysml:3f429861-8945-458a-afac-b9814097464d\" target=\"_top\" title=\"psysml:3f429861-8945-458a-afac-b9814097464d\" xlink:actuate=\"onRequest\" xlink:href=\"psysml:3f429861-8945-458a-afac-b9814097464d\" xlink:show=\"new\" xlink:title=\"psysml:3f429861-8945-458a-afac-b9814097464d\" xlink:type=\"simple\"><rect fill=\"#FFFFFF\" height=\"45.9375\" id=\"E6\" rx=\"10\" ry=\"10\" style=\"stroke: #383838; stroke-width: 1.5;\" width=\"71\" x=\"32.5\" y=\"217.5\"/><text fill=\"#000000\" font-family=\"sans-serif\" font-size=\"12\" font-style=\"italic\" lengthAdjust=\"spacingAndGlyphs\" textLength=\"69\" x=\"33.5\" y=\"233.6387\">«attribute»</text><text fill=\"#000000\" font-family=\"sans-serif\" font-size=\"12\" lengthAdjust=\"spacingAndGlyphs\" textLength=\"6\" x=\"65\" y=\"247.6074\">x</text><line style=\"stroke: #383838; stroke-width: 1.5;\" x1=\"33.5\" x2=\"102.5\" y1=\"255.4375\" y2=\"255.4375\"/></a><!--MD5=[2156ba9850f5573cc1fc38a6a4b2f02b]\n",
       "class E7--><a href=\"psysml:f3318431-0d45-43ea-b254-330318c85eb0\" target=\"_top\" title=\"psysml:f3318431-0d45-43ea-b254-330318c85eb0\" xlink:actuate=\"onRequest\" xlink:href=\"psysml:f3318431-0d45-43ea-b254-330318c85eb0\" xlink:show=\"new\" xlink:title=\"psysml:f3318431-0d45-43ea-b254-330318c85eb0\" xlink:type=\"simple\"><rect fill=\"#FFFFFF\" height=\"45.9375\" id=\"E7\" rx=\"10\" ry=\"10\" style=\"stroke: #383838; stroke-width: 1.5;\" width=\"71\" x=\"138.5\" y=\"217.5\"/><text fill=\"#000000\" font-family=\"sans-serif\" font-size=\"12\" font-style=\"italic\" lengthAdjust=\"spacingAndGlyphs\" textLength=\"69\" x=\"139.5\" y=\"233.6387\">«attribute»</text><text fill=\"#000000\" font-family=\"sans-serif\" font-size=\"12\" lengthAdjust=\"spacingAndGlyphs\" textLength=\"6\" x=\"171\" y=\"247.6074\">y</text><line style=\"stroke: #383838; stroke-width: 1.5;\" x1=\"139.5\" x2=\"208.5\" y1=\"255.4375\" y2=\"255.4375\"/></a><!--MD5=[b9389687b975829384b498ac4b7476b2]\n",
       "class E8--><a href=\"psysml:da180d87-042d-4ade-81c9-b5201399a446\" target=\"_top\" title=\"psysml:da180d87-042d-4ade-81c9-b5201399a446\" xlink:actuate=\"onRequest\" xlink:href=\"psysml:da180d87-042d-4ade-81c9-b5201399a446\" xlink:show=\"new\" xlink:title=\"psysml:da180d87-042d-4ade-81c9-b5201399a446\" xlink:type=\"simple\"><rect fill=\"#FFFFFF\" height=\"45.9375\" id=\"E8\" rx=\"10\" ry=\"10\" style=\"stroke: #383838; stroke-width: 1.5;\" width=\"71\" x=\"84.5\" y=\"87.5\"/><text fill=\"#000000\" font-family=\"sans-serif\" font-size=\"12\" font-style=\"italic\" lengthAdjust=\"spacingAndGlyphs\" textLength=\"69\" x=\"85.5\" y=\"103.6387\">«attribute»</text><text fill=\"#000000\" font-family=\"sans-serif\" font-size=\"12\" lengthAdjust=\"spacingAndGlyphs\" textLength=\"5\" x=\"117.5\" y=\"117.6074\">z</text><line style=\"stroke: #383838; stroke-width: 1.5;\" x1=\"85.5\" x2=\"154.5\" y1=\"125.4375\" y2=\"125.4375\"/></a><a href=\"psysml:7bbe8935-ee6e-44c3-abf9-e711bcee98e7\" target=\"_top\" title=\"psysml:7bbe8935-ee6e-44c3-abf9-e711bcee98e7\" xlink:actuate=\"onRequest\" xlink:href=\"psysml:7bbe8935-ee6e-44c3-abf9-e711bcee98e7\" xlink:show=\"new\" xlink:title=\"psysml:7bbe8935-ee6e-44c3-abf9-e711bcee98e7\" xlink:type=\"simple\"><polygon fill=\"#FFFFFF\" points=\"271,84,413,84,420,106.2969,427,106.2969,427,136.5938,271,136.5938,271,84\" style=\"stroke: #000000; stroke-width: 1.5;\"/><line style=\"stroke: #000000; stroke-width: 1.5;\" x1=\"271\" x2=\"420\" y1=\"106.2969\" y2=\"106.2969\"/><text fill=\"#000000\" font-family=\"sans-serif\" font-size=\"14\" font-weight=\"bold\" lengthAdjust=\"spacingAndGlyphs\" textLength=\"136\" x=\"275\" y=\"98.9951\">Application Layer</text></a><a href=\"psysml:8539df59-9777-43d1-9cbc-191f1e3b0af0\" target=\"_top\" title=\"psysml:8539df59-9777-43d1-9cbc-191f1e3b0af0\" xlink:actuate=\"onRequest\" xlink:href=\"psysml:8539df59-9777-43d1-9cbc-191f1e3b0af0\" xlink:show=\"new\" xlink:title=\"psysml:8539df59-9777-43d1-9cbc-191f1e3b0af0\" xlink:type=\"simple\"><polygon fill=\"#FFFFFF\" points=\"285,214,399,214,406,236.2969,413,236.2969,413,266.5938,285,266.5938,285,214\" style=\"stroke: #000000; stroke-width: 1.5;\"/><line style=\"stroke: #000000; stroke-width: 1.5;\" x1=\"285\" x2=\"406\" y1=\"236.2969\" y2=\"236.2969\"/><text fill=\"#000000\" font-family=\"sans-serif\" font-size=\"14\" font-weight=\"bold\" lengthAdjust=\"spacingAndGlyphs\" textLength=\"108\" x=\"289\" y=\"228.9951\">Service Layer</text></a><a href=\"psysml:06e8cf4d-e880-4b5c-8fdb-0871598a4cb3\" target=\"_top\" title=\"psysml:06e8cf4d-e880-4b5c-8fdb-0871598a4cb3\" xlink:actuate=\"onRequest\" xlink:href=\"psysml:06e8cf4d-e880-4b5c-8fdb-0871598a4cb3\" xlink:show=\"new\" xlink:title=\"psysml:06e8cf4d-e880-4b5c-8fdb-0871598a4cb3\" xlink:type=\"simple\"><polygon fill=\"#FFFFFF\" points=\"297,344,387,344,394,366.2969,401,366.2969,401,396.5938,297,396.5938,297,344\" style=\"stroke: #000000; stroke-width: 1.5;\"/><line style=\"stroke: #000000; stroke-width: 1.5;\" x1=\"297\" x2=\"394\" y1=\"366.2969\" y2=\"366.2969\"/><text fill=\"#000000\" font-family=\"sans-serif\" font-size=\"14\" font-weight=\"bold\" lengthAdjust=\"spacingAndGlyphs\" textLength=\"84\" x=\"301\" y=\"358.9951\">Data Layer</text></a><!--MD5=[af87c684e3b0d8be13c1a698a818ef1e]\n",
       "link E3 to E4--><a href=\"psysml:ddd06611-1e40-467d-8133-a183585a6da5\" target=\"_top\" title=\"psysml:ddd06611-1e40-467d-8133-a183585a6da5\" xlink:actuate=\"onRequest\" xlink:href=\"psysml:ddd06611-1e40-467d-8133-a183585a6da5\" xlink:show=\"new\" xlink:title=\"psysml:ddd06611-1e40-467d-8133-a183585a6da5\" xlink:type=\"simple\"><path d=\"M349,137.1 C349,156.8 349,184.22 349,205.73 \" fill=\"none\" id=\"E3-&gt;E4\" style=\"stroke: #383838; stroke-width: 1.0; stroke-dasharray: 7.0,7.0;\"/><polygon fill=\"#383838\" points=\"349,213.95,352,205.95,346,205.95,349,213.95\" style=\"stroke: #383838; stroke-width: 1.0;\"/><text fill=\"#000000\" font-family=\"sans-serif\" font-size=\"13\" lengthAdjust=\"spacingAndGlyphs\" textLength=\"64\" x=\"350\" y=\"180.0669\">«depend»</text></a><!--MD5=[1b7591eae5389033d8d09a9d6721a717]\n",
       "link E4 to E5--><a href=\"psysml:b5c0928c-fbc9-4433-ab1e-c084bfbcebd5\" target=\"_top\" title=\"psysml:b5c0928c-fbc9-4433-ab1e-c084bfbcebd5\" xlink:actuate=\"onRequest\" xlink:href=\"psysml:b5c0928c-fbc9-4433-ab1e-c084bfbcebd5\" xlink:show=\"new\" xlink:title=\"psysml:b5c0928c-fbc9-4433-ab1e-c084bfbcebd5\" xlink:type=\"simple\"><path d=\"M349,267.1 C349,286.8 349,314.22 349,335.73 \" fill=\"none\" id=\"E4-&gt;E5\" style=\"stroke: #383838; stroke-width: 1.0; stroke-dasharray: 7.0,7.0;\"/><polygon fill=\"#383838\" points=\"349,343.95,352,335.95,346,335.95,349,343.95\" style=\"stroke: #383838; stroke-width: 1.0;\"/><text fill=\"#000000\" font-family=\"sans-serif\" font-size=\"13\" lengthAdjust=\"spacingAndGlyphs\" textLength=\"64\" x=\"350\" y=\"310.0669\">«depend»</text></a><!--MD5=[c5e8897d989ce984f93528998a7150fe]\n",
       "link E8 to E6--><a href=\"psysml:a0e318cd-0c17-433c-bc04-dbf1eaa3473c\" target=\"_top\" title=\"psysml:a0e318cd-0c17-433c-bc04-dbf1eaa3473c\" xlink:actuate=\"onRequest\" xlink:href=\"psysml:a0e318cd-0c17-433c-bc04-dbf1eaa3473c\" xlink:show=\"new\" xlink:title=\"psysml:a0e318cd-0c17-433c-bc04-dbf1eaa3473c\" xlink:type=\"simple\"><path d=\"M89.42,133.6 C79.35,142.68 69.37,154.11 64,167 C58.5,180.2 58.66,195.94 60.54,209.38 \" fill=\"none\" id=\"E8-&gt;E6\" style=\"stroke: #383838; stroke-width: 1.0; stroke-dasharray: 7.0,7.0;\"/><polygon fill=\"#383838\" points=\"61.9,217.4,63.517,209.0104,57.6018,210.0159,61.9,217.4\" style=\"stroke: #383838; stroke-width: 1.0;\"/><text fill=\"#000000\" font-family=\"sans-serif\" font-size=\"13\" lengthAdjust=\"spacingAndGlyphs\" textLength=\"64\" x=\"65\" y=\"180.0669\">«depend»</text></a><!--MD5=[bfa3c8b0d15052fdf50ae9310b491027]\n",
       "link E8 to E7--><a href=\"psysml:a0e318cd-0c17-433c-bc04-dbf1eaa3473c\" target=\"_top\" title=\"psysml:a0e318cd-0c17-433c-bc04-dbf1eaa3473c\" xlink:actuate=\"onRequest\" xlink:href=\"psysml:a0e318cd-0c17-433c-bc04-dbf1eaa3473c\" xlink:show=\"new\" xlink:title=\"psysml:a0e318cd-0c17-433c-bc04-dbf1eaa3473c\" xlink:type=\"simple\"><path d=\"M129.28,133.5 C138.17,154.57 151.64,186.5 161.47,209.81 \" fill=\"none\" id=\"E8-&gt;E7\" style=\"stroke: #383838; stroke-width: 1.0; stroke-dasharray: 7.0,7.0;\"/><polygon fill=\"#383838\" points=\"164.66,217.35,164.3241,208.8126,158.7933,211.1385,164.66,217.35\" style=\"stroke: #383838; stroke-width: 1.0;\"/><text fill=\"#000000\" font-family=\"sans-serif\" font-size=\"13\" lengthAdjust=\"spacingAndGlyphs\" textLength=\"64\" x=\"151\" y=\"180.0669\">«depend»</text></a><!--MD5=[1d429b1c38248c08e0a7ad00faea97c8]\n",
       "@startuml\r\n",
       "top to bottom direction\r\n",
       "skinparam monochrome true\r\n",
       "skinparam classbackgroundcolor white\r\n",
       "skinparam shadowing false\r\n",
       "skinparam wrapWidth 300\r\n",
       "hide circle\r\n",
       "\r\n",
       "package \"DependencyTest\" as E1  [[psysml:01e86263-1e08-4c5e-80c8-9f3a01cb2b1c ]]  {\r\n",
       "package \"System\" as E2  [[psysml:65d9c171-277b-4a12-8988-537cd17218fe ]]  {\r\n",
       "package \"Application Layer\" as E3  [[psysml:7bbe8935-ee6e-44c3-abf9-e711bcee98e7 ]]  {\r\n",
       "}\r\n",
       "package \"Service Layer\" as E4  [[psysml:8539df59-9777-43d1-9cbc-191f1e3b0af0 ]]  {\r\n",
       "}\r\n",
       "package \"Data Layer\" as E5  [[psysml:06e8cf4d-e880-4b5c-8fdb-0871598a4cb3 ]]  {\r\n",
       "}\r\n",
       "}\r\n",
       "comp usage \"x\" as E6  <<(T,blue)attribute>> [[psysml:3f429861-8945-458a-afac-b9814097464d ]] {\r\n",
       "}\r\n",
       "comp usage \"y\" as E7  <<(T,blue)attribute>> [[psysml:f3318431-0d45-43ea-b254-330318c85eb0 ]] {\r\n",
       "}\r\n",
       "comp usage \"z\" as E8  <<(T,blue)attribute>> [[psysml:da180d87-042d-4ade-81c9-b5201399a446 ]] {\r\n",
       "}\r\n",
       "E3 ..>> E4 [[psysml:ddd06611-1e40-467d-8133-a183585a6da5 ]] : <<depend>>\r\n",
       "E4 ..>> E5 [[psysml:b5c0928c-fbc9-4433-ab1e-c084bfbcebd5 ]] : <<depend>>\r\n",
       "E8 ..>> E6 [[psysml:a0e318cd-0c17-433c-bc04-dbf1eaa3473c ]] : <<depend>>\r\n",
       "E8 ..>> E7 [[psysml:a0e318cd-0c17-433c-bc04-dbf1eaa3473c ]] : <<depend>>\r\n",
       "}\r\n",
       "@enduml\r\n",
       "\n",
       "PlantUML version 1.2020.13(Sat Jun 13 12:26:38 UTC 2020)\n",
       "(EPL source distribution)\n",
       "Java Runtime: OpenJDK Runtime Environment\n",
       "JVM: OpenJDK 64-Bit Server VM\n",
       "Default Encoding: UTF-8\n",
       "Language: en\n",
       "Country: null\n",
       "--></g></svg>"
      ]
     },
     "execution_count": 44,
     "metadata": {},
     "output_type": "execute_result"
    }
   ],
   "source": [
    "%viz --style=\"TB\" --view=\"Default\" \"DependencyTest\""
   ]
  },
  {
   "cell_type": "code",
   "execution_count": 45,
   "id": "respective-tuition",
   "metadata": {
    "execution": {
     "iopub.execute_input": "2021-03-25T15:09:51.091889Z",
     "iopub.status.busy": "2021-03-25T15:09:51.090962Z",
     "iopub.status.idle": "2021-03-25T15:09:51.186581Z",
     "shell.execute_reply": "2021-03-25T15:09:51.184683Z"
    }
   },
   "outputs": [
    {
     "data": {
      "image/svg+xml": [
       "<?xml version=\"1.0\" encoding=\"UTF-8\" standalone=\"no\"?><svg xmlns=\"http://www.w3.org/2000/svg\" xmlns:xlink=\"http://www.w3.org/1999/xlink\" contentScriptType=\"application/ecmascript\" contentStyleType=\"text/css\" height=\"449px\" preserveAspectRatio=\"none\" style=\"width:489px;height:449px;\" version=\"1.1\" viewBox=\"0 0 489 449\" width=\"489px\" zoomAndPan=\"magnify\"><defs/><g><!--MD5=[fbc87193dbaf4d95561dea2c320d4a47]\n",
       "cluster E1--><a href=\"psysml:01e86263-1e08-4c5e-80c8-9f3a01cb2b1c\" target=\"_top\" title=\"psysml:01e86263-1e08-4c5e-80c8-9f3a01cb2b1c\" xlink:actuate=\"onRequest\" xlink:href=\"psysml:01e86263-1e08-4c5e-80c8-9f3a01cb2b1c\" xlink:show=\"new\" xlink:title=\"psysml:01e86263-1e08-4c5e-80c8-9f3a01cb2b1c\" xlink:type=\"simple\"><polygon fill=\"#FFFFFF\" points=\"16,6,156,6,163,28.2969,467,28.2969,467,437,16,437,16,6\" style=\"stroke: #000000; stroke-width: 1.5;\"/><line style=\"stroke: #000000; stroke-width: 1.5;\" x1=\"16\" x2=\"163\" y1=\"28.2969\" y2=\"28.2969\"/><text fill=\"#000000\" font-family=\"sans-serif\" font-size=\"14\" font-weight=\"bold\" lengthAdjust=\"spacingAndGlyphs\" textLength=\"134\" x=\"20\" y=\"20.9951\">DependencyTest</text></a><!--MD5=[e4f7fae6ed58524ba242bb0b0d3be6b7]\n",
       "cluster E2--><a href=\"psysml:65d9c171-277b-4a12-8988-537cd17218fe\" target=\"_top\" title=\"psysml:65d9c171-277b-4a12-8988-537cd17218fe\" xlink:actuate=\"onRequest\" xlink:href=\"psysml:65d9c171-277b-4a12-8988-537cd17218fe\" xlink:show=\"new\" xlink:title=\"psysml:65d9c171-277b-4a12-8988-537cd17218fe\" xlink:type=\"simple\"><polygon fill=\"#FFFFFF\" points=\"255,49,319,49,326,71.2969,443,71.2969,443,413,255,413,255,49\" style=\"stroke: #000000; stroke-width: 1.5;\"/><line style=\"stroke: #000000; stroke-width: 1.5;\" x1=\"255\" x2=\"326\" y1=\"71.2969\" y2=\"71.2969\"/><text fill=\"#000000\" font-family=\"sans-serif\" font-size=\"14\" font-weight=\"bold\" lengthAdjust=\"spacingAndGlyphs\" textLength=\"58\" x=\"259\" y=\"63.9951\">System</text></a><!--MD5=[60a26617385b1d2d0262a64233df1f8d]\n",
       "class E6--><a href=\"psysml:3f429861-8945-458a-afac-b9814097464d\" target=\"_top\" title=\"psysml:3f429861-8945-458a-afac-b9814097464d\" xlink:actuate=\"onRequest\" xlink:href=\"psysml:3f429861-8945-458a-afac-b9814097464d\" xlink:show=\"new\" xlink:title=\"psysml:3f429861-8945-458a-afac-b9814097464d\" xlink:type=\"simple\"><rect fill=\"#FFFFFF\" height=\"45.9375\" id=\"E6\" rx=\"10\" ry=\"10\" style=\"stroke: #383838; stroke-width: 1.5;\" width=\"71\" x=\"32.5\" y=\"217.5\"/><text fill=\"#000000\" font-family=\"sans-serif\" font-size=\"12\" font-style=\"italic\" lengthAdjust=\"spacingAndGlyphs\" textLength=\"69\" x=\"33.5\" y=\"233.6387\">«attribute»</text><text fill=\"#000000\" font-family=\"sans-serif\" font-size=\"12\" lengthAdjust=\"spacingAndGlyphs\" textLength=\"6\" x=\"65\" y=\"247.6074\">x</text><line style=\"stroke: #383838; stroke-width: 1.5;\" x1=\"33.5\" x2=\"102.5\" y1=\"255.4375\" y2=\"255.4375\"/></a><!--MD5=[2156ba9850f5573cc1fc38a6a4b2f02b]\n",
       "class E7--><a href=\"psysml:f3318431-0d45-43ea-b254-330318c85eb0\" target=\"_top\" title=\"psysml:f3318431-0d45-43ea-b254-330318c85eb0\" xlink:actuate=\"onRequest\" xlink:href=\"psysml:f3318431-0d45-43ea-b254-330318c85eb0\" xlink:show=\"new\" xlink:title=\"psysml:f3318431-0d45-43ea-b254-330318c85eb0\" xlink:type=\"simple\"><rect fill=\"#FFFFFF\" height=\"45.9375\" id=\"E7\" rx=\"10\" ry=\"10\" style=\"stroke: #383838; stroke-width: 1.5;\" width=\"71\" x=\"138.5\" y=\"217.5\"/><text fill=\"#000000\" font-family=\"sans-serif\" font-size=\"12\" font-style=\"italic\" lengthAdjust=\"spacingAndGlyphs\" textLength=\"69\" x=\"139.5\" y=\"233.6387\">«attribute»</text><text fill=\"#000000\" font-family=\"sans-serif\" font-size=\"12\" lengthAdjust=\"spacingAndGlyphs\" textLength=\"6\" x=\"171\" y=\"247.6074\">y</text><line style=\"stroke: #383838; stroke-width: 1.5;\" x1=\"139.5\" x2=\"208.5\" y1=\"255.4375\" y2=\"255.4375\"/></a><!--MD5=[b9389687b975829384b498ac4b7476b2]\n",
       "class E8--><a href=\"psysml:da180d87-042d-4ade-81c9-b5201399a446\" target=\"_top\" title=\"psysml:da180d87-042d-4ade-81c9-b5201399a446\" xlink:actuate=\"onRequest\" xlink:href=\"psysml:da180d87-042d-4ade-81c9-b5201399a446\" xlink:show=\"new\" xlink:title=\"psysml:da180d87-042d-4ade-81c9-b5201399a446\" xlink:type=\"simple\"><rect fill=\"#FFFFFF\" height=\"45.9375\" id=\"E8\" rx=\"10\" ry=\"10\" style=\"stroke: #383838; stroke-width: 1.5;\" width=\"71\" x=\"84.5\" y=\"87.5\"/><text fill=\"#000000\" font-family=\"sans-serif\" font-size=\"12\" font-style=\"italic\" lengthAdjust=\"spacingAndGlyphs\" textLength=\"69\" x=\"85.5\" y=\"103.6387\">«attribute»</text><text fill=\"#000000\" font-family=\"sans-serif\" font-size=\"12\" lengthAdjust=\"spacingAndGlyphs\" textLength=\"5\" x=\"117.5\" y=\"117.6074\">z</text><line style=\"stroke: #383838; stroke-width: 1.5;\" x1=\"85.5\" x2=\"154.5\" y1=\"125.4375\" y2=\"125.4375\"/></a><a href=\"psysml:7bbe8935-ee6e-44c3-abf9-e711bcee98e7\" target=\"_top\" title=\"psysml:7bbe8935-ee6e-44c3-abf9-e711bcee98e7\" xlink:actuate=\"onRequest\" xlink:href=\"psysml:7bbe8935-ee6e-44c3-abf9-e711bcee98e7\" xlink:show=\"new\" xlink:title=\"psysml:7bbe8935-ee6e-44c3-abf9-e711bcee98e7\" xlink:type=\"simple\"><polygon fill=\"#FFFFFF\" points=\"271,84,413,84,420,106.2969,427,106.2969,427,136.5938,271,136.5938,271,84\" style=\"stroke: #000000; stroke-width: 1.5;\"/><line style=\"stroke: #000000; stroke-width: 1.5;\" x1=\"271\" x2=\"420\" y1=\"106.2969\" y2=\"106.2969\"/><text fill=\"#000000\" font-family=\"sans-serif\" font-size=\"14\" font-weight=\"bold\" lengthAdjust=\"spacingAndGlyphs\" textLength=\"136\" x=\"275\" y=\"98.9951\">Application Layer</text></a><a href=\"psysml:8539df59-9777-43d1-9cbc-191f1e3b0af0\" target=\"_top\" title=\"psysml:8539df59-9777-43d1-9cbc-191f1e3b0af0\" xlink:actuate=\"onRequest\" xlink:href=\"psysml:8539df59-9777-43d1-9cbc-191f1e3b0af0\" xlink:show=\"new\" xlink:title=\"psysml:8539df59-9777-43d1-9cbc-191f1e3b0af0\" xlink:type=\"simple\"><polygon fill=\"#FFFFFF\" points=\"285,214,399,214,406,236.2969,413,236.2969,413,266.5938,285,266.5938,285,214\" style=\"stroke: #000000; stroke-width: 1.5;\"/><line style=\"stroke: #000000; stroke-width: 1.5;\" x1=\"285\" x2=\"406\" y1=\"236.2969\" y2=\"236.2969\"/><text fill=\"#000000\" font-family=\"sans-serif\" font-size=\"14\" font-weight=\"bold\" lengthAdjust=\"spacingAndGlyphs\" textLength=\"108\" x=\"289\" y=\"228.9951\">Service Layer</text></a><a href=\"psysml:06e8cf4d-e880-4b5c-8fdb-0871598a4cb3\" target=\"_top\" title=\"psysml:06e8cf4d-e880-4b5c-8fdb-0871598a4cb3\" xlink:actuate=\"onRequest\" xlink:href=\"psysml:06e8cf4d-e880-4b5c-8fdb-0871598a4cb3\" xlink:show=\"new\" xlink:title=\"psysml:06e8cf4d-e880-4b5c-8fdb-0871598a4cb3\" xlink:type=\"simple\"><polygon fill=\"#FFFFFF\" points=\"297,344,387,344,394,366.2969,401,366.2969,401,396.5938,297,396.5938,297,344\" style=\"stroke: #000000; stroke-width: 1.5;\"/><line style=\"stroke: #000000; stroke-width: 1.5;\" x1=\"297\" x2=\"394\" y1=\"366.2969\" y2=\"366.2969\"/><text fill=\"#000000\" font-family=\"sans-serif\" font-size=\"14\" font-weight=\"bold\" lengthAdjust=\"spacingAndGlyphs\" textLength=\"84\" x=\"301\" y=\"358.9951\">Data Layer</text></a><!--MD5=[af87c684e3b0d8be13c1a698a818ef1e]\n",
       "link E3 to E4--><a href=\"psysml:ddd06611-1e40-467d-8133-a183585a6da5\" target=\"_top\" title=\"psysml:ddd06611-1e40-467d-8133-a183585a6da5\" xlink:actuate=\"onRequest\" xlink:href=\"psysml:ddd06611-1e40-467d-8133-a183585a6da5\" xlink:show=\"new\" xlink:title=\"psysml:ddd06611-1e40-467d-8133-a183585a6da5\" xlink:type=\"simple\"><path d=\"M349,137.1 C349,156.8 349,184.22 349,205.73 \" fill=\"none\" id=\"E3-&gt;E4\" style=\"stroke: #383838; stroke-width: 1.0; stroke-dasharray: 7.0,7.0;\"/><polygon fill=\"#383838\" points=\"349,213.95,352,205.95,346,205.95,349,213.95\" style=\"stroke: #383838; stroke-width: 1.0;\"/><text fill=\"#000000\" font-family=\"sans-serif\" font-size=\"13\" lengthAdjust=\"spacingAndGlyphs\" textLength=\"64\" x=\"350\" y=\"180.0669\">«depend»</text></a><!--MD5=[1b7591eae5389033d8d09a9d6721a717]\n",
       "link E4 to E5--><a href=\"psysml:b5c0928c-fbc9-4433-ab1e-c084bfbcebd5\" target=\"_top\" title=\"psysml:b5c0928c-fbc9-4433-ab1e-c084bfbcebd5\" xlink:actuate=\"onRequest\" xlink:href=\"psysml:b5c0928c-fbc9-4433-ab1e-c084bfbcebd5\" xlink:show=\"new\" xlink:title=\"psysml:b5c0928c-fbc9-4433-ab1e-c084bfbcebd5\" xlink:type=\"simple\"><path d=\"M349,267.1 C349,286.8 349,314.22 349,335.73 \" fill=\"none\" id=\"E4-&gt;E5\" style=\"stroke: #383838; stroke-width: 1.0; stroke-dasharray: 7.0,7.0;\"/><polygon fill=\"#383838\" points=\"349,343.95,352,335.95,346,335.95,349,343.95\" style=\"stroke: #383838; stroke-width: 1.0;\"/><text fill=\"#000000\" font-family=\"sans-serif\" font-size=\"13\" lengthAdjust=\"spacingAndGlyphs\" textLength=\"64\" x=\"350\" y=\"310.0669\">«depend»</text></a><!--MD5=[c5e8897d989ce984f93528998a7150fe]\n",
       "link E8 to E6--><a href=\"psysml:a0e318cd-0c17-433c-bc04-dbf1eaa3473c\" target=\"_top\" title=\"psysml:a0e318cd-0c17-433c-bc04-dbf1eaa3473c\" xlink:actuate=\"onRequest\" xlink:href=\"psysml:a0e318cd-0c17-433c-bc04-dbf1eaa3473c\" xlink:show=\"new\" xlink:title=\"psysml:a0e318cd-0c17-433c-bc04-dbf1eaa3473c\" xlink:type=\"simple\"><path d=\"M89.42,133.6 C79.35,142.68 69.37,154.11 64,167 C58.5,180.2 58.66,195.94 60.54,209.38 \" fill=\"none\" id=\"E8-&gt;E6\" style=\"stroke: #383838; stroke-width: 1.0; stroke-dasharray: 7.0,7.0;\"/><polygon fill=\"#383838\" points=\"61.9,217.4,63.517,209.0104,57.6018,210.0159,61.9,217.4\" style=\"stroke: #383838; stroke-width: 1.0;\"/><text fill=\"#000000\" font-family=\"sans-serif\" font-size=\"13\" lengthAdjust=\"spacingAndGlyphs\" textLength=\"64\" x=\"65\" y=\"180.0669\">«depend»</text></a><!--MD5=[bfa3c8b0d15052fdf50ae9310b491027]\n",
       "link E8 to E7--><a href=\"psysml:a0e318cd-0c17-433c-bc04-dbf1eaa3473c\" target=\"_top\" title=\"psysml:a0e318cd-0c17-433c-bc04-dbf1eaa3473c\" xlink:actuate=\"onRequest\" xlink:href=\"psysml:a0e318cd-0c17-433c-bc04-dbf1eaa3473c\" xlink:show=\"new\" xlink:title=\"psysml:a0e318cd-0c17-433c-bc04-dbf1eaa3473c\" xlink:type=\"simple\"><path d=\"M129.28,133.5 C138.17,154.57 151.64,186.5 161.47,209.81 \" fill=\"none\" id=\"E8-&gt;E7\" style=\"stroke: #383838; stroke-width: 1.0; stroke-dasharray: 7.0,7.0;\"/><polygon fill=\"#383838\" points=\"164.66,217.35,164.3241,208.8126,158.7933,211.1385,164.66,217.35\" style=\"stroke: #383838; stroke-width: 1.0;\"/><text fill=\"#000000\" font-family=\"sans-serif\" font-size=\"13\" lengthAdjust=\"spacingAndGlyphs\" textLength=\"64\" x=\"151\" y=\"180.0669\">«depend»</text></a><!--MD5=[1d429b1c38248c08e0a7ad00faea97c8]\n",
       "@startuml\r\n",
       "top to bottom direction\r\n",
       "skinparam monochrome true\r\n",
       "skinparam classbackgroundcolor white\r\n",
       "skinparam shadowing false\r\n",
       "skinparam wrapWidth 300\r\n",
       "hide circle\r\n",
       "\r\n",
       "package \"DependencyTest\" as E1  [[psysml:01e86263-1e08-4c5e-80c8-9f3a01cb2b1c ]]  {\r\n",
       "package \"System\" as E2  [[psysml:65d9c171-277b-4a12-8988-537cd17218fe ]]  {\r\n",
       "package \"Application Layer\" as E3  [[psysml:7bbe8935-ee6e-44c3-abf9-e711bcee98e7 ]]  {\r\n",
       "}\r\n",
       "package \"Service Layer\" as E4  [[psysml:8539df59-9777-43d1-9cbc-191f1e3b0af0 ]]  {\r\n",
       "}\r\n",
       "package \"Data Layer\" as E5  [[psysml:06e8cf4d-e880-4b5c-8fdb-0871598a4cb3 ]]  {\r\n",
       "}\r\n",
       "}\r\n",
       "comp usage \"x\" as E6  <<(T,blue)attribute>> [[psysml:3f429861-8945-458a-afac-b9814097464d ]] {\r\n",
       "}\r\n",
       "comp usage \"y\" as E7  <<(T,blue)attribute>> [[psysml:f3318431-0d45-43ea-b254-330318c85eb0 ]] {\r\n",
       "}\r\n",
       "comp usage \"z\" as E8  <<(T,blue)attribute>> [[psysml:da180d87-042d-4ade-81c9-b5201399a446 ]] {\r\n",
       "}\r\n",
       "E3 ..>> E4 [[psysml:ddd06611-1e40-467d-8133-a183585a6da5 ]] : <<depend>>\r\n",
       "E4 ..>> E5 [[psysml:b5c0928c-fbc9-4433-ab1e-c084bfbcebd5 ]] : <<depend>>\r\n",
       "E8 ..>> E6 [[psysml:a0e318cd-0c17-433c-bc04-dbf1eaa3473c ]] : <<depend>>\r\n",
       "E8 ..>> E7 [[psysml:a0e318cd-0c17-433c-bc04-dbf1eaa3473c ]] : <<depend>>\r\n",
       "}\r\n",
       "@enduml\r\n",
       "\n",
       "PlantUML version 1.2020.13(Sat Jun 13 12:26:38 UTC 2020)\n",
       "(EPL source distribution)\n",
       "Java Runtime: OpenJDK Runtime Environment\n",
       "JVM: OpenJDK 64-Bit Server VM\n",
       "Default Encoding: UTF-8\n",
       "Language: en\n",
       "Country: null\n",
       "--></g></svg>"
      ]
     },
     "execution_count": 45,
     "metadata": {},
     "output_type": "execute_result"
    }
   ],
   "source": [
    "%viz --style=\"TB\" --view=\"Tree\" \"DependencyTest\""
   ]
  },
  {
   "cell_type": "code",
   "execution_count": 46,
   "id": "authentic-category",
   "metadata": {
    "execution": {
     "iopub.execute_input": "2021-03-25T15:09:51.237035Z",
     "iopub.status.busy": "2021-03-25T15:09:51.236360Z",
     "iopub.status.idle": "2021-03-25T15:09:51.242659Z",
     "shell.execute_reply": "2021-03-25T15:09:51.242166Z"
    }
   },
   "outputs": [
    {
     "data": {
      "image/svg+xml": [
       "<?xml version=\"1.0\" encoding=\"UTF-8\" standalone=\"no\"?><svg xmlns=\"http://www.w3.org/2000/svg\" xmlns:xlink=\"http://www.w3.org/1999/xlink\" contentScriptType=\"application/ecmascript\" contentStyleType=\"text/css\" height=\"12px\" preserveAspectRatio=\"none\" style=\"width:12px;height:12px;\" version=\"1.1\" viewBox=\"0 0 12 12\" width=\"12px\" zoomAndPan=\"magnify\"><defs/><g><!--MD5=[f4ee21bc66e489b5061b7c3e9601fdef]\n",
       "@startuml\r\n",
       "top to bottom direction\r\n",
       "skinparam monochrome true\r\n",
       "skinparam classbackgroundcolor white\r\n",
       "skinparam shadowing false\r\n",
       "skinparam wrapWidth 300\r\n",
       "hide circle\r\n",
       "\r\n",
       "@enduml\r\n",
       "\n",
       "PlantUML version 1.2020.13(Sat Jun 13 12:26:38 UTC 2020)\n",
       "(EPL source distribution)\n",
       "Java Runtime: OpenJDK Runtime Environment\n",
       "JVM: OpenJDK 64-Bit Server VM\n",
       "Default Encoding: UTF-8\n",
       "Language: en\n",
       "Country: null\n",
       "--></g></svg>"
      ]
     },
     "execution_count": 46,
     "metadata": {},
     "output_type": "execute_result"
    }
   ],
   "source": [
    "%viz --style=\"TB\" --view=\"State\" \"DependencyTest\""
   ]
  },
  {
   "cell_type": "code",
   "execution_count": 47,
   "id": "raised-failure",
   "metadata": {
    "execution": {
     "iopub.execute_input": "2021-03-25T15:09:51.293294Z",
     "iopub.status.busy": "2021-03-25T15:09:51.292877Z",
     "iopub.status.idle": "2021-03-25T15:09:51.388968Z",
     "shell.execute_reply": "2021-03-25T15:09:51.388160Z"
    }
   },
   "outputs": [
    {
     "data": {
      "image/svg+xml": [
       "<?xml version=\"1.0\" encoding=\"UTF-8\" standalone=\"no\"?><svg xmlns=\"http://www.w3.org/2000/svg\" xmlns:xlink=\"http://www.w3.org/1999/xlink\" contentScriptType=\"application/ecmascript\" contentStyleType=\"text/css\" height=\"361px\" preserveAspectRatio=\"none\" style=\"width:489px;height:361px;\" version=\"1.1\" viewBox=\"0 0 489 361\" width=\"489px\" zoomAndPan=\"magnify\"><defs/><g><!--MD5=[fbc87193dbaf4d95561dea2c320d4a47]\n",
       "cluster E1--><a href=\"psysml:01e86263-1e08-4c5e-80c8-9f3a01cb2b1c\" target=\"_top\" title=\"psysml:01e86263-1e08-4c5e-80c8-9f3a01cb2b1c\" xlink:actuate=\"onRequest\" xlink:href=\"psysml:01e86263-1e08-4c5e-80c8-9f3a01cb2b1c\" xlink:show=\"new\" xlink:title=\"psysml:01e86263-1e08-4c5e-80c8-9f3a01cb2b1c\" xlink:type=\"simple\"><polygon fill=\"#FFFFFF\" points=\"16,6,156,6,163,28.2969,467,28.2969,467,349,16,349,16,6\" style=\"stroke: #000000; stroke-width: 1.5;\"/><line style=\"stroke: #000000; stroke-width: 1.5;\" x1=\"16\" x2=\"163\" y1=\"28.2969\" y2=\"28.2969\"/><text fill=\"#000000\" font-family=\"sans-serif\" font-size=\"14\" font-weight=\"bold\" lengthAdjust=\"spacingAndGlyphs\" textLength=\"134\" x=\"20\" y=\"20.9951\">DependencyTest</text></a><!--MD5=[e4f7fae6ed58524ba242bb0b0d3be6b7]\n",
       "cluster E2--><a href=\"psysml:65d9c171-277b-4a12-8988-537cd17218fe\" target=\"_top\" title=\"psysml:65d9c171-277b-4a12-8988-537cd17218fe\" xlink:actuate=\"onRequest\" xlink:href=\"psysml:65d9c171-277b-4a12-8988-537cd17218fe\" xlink:show=\"new\" xlink:title=\"psysml:65d9c171-277b-4a12-8988-537cd17218fe\" xlink:type=\"simple\"><polygon fill=\"#FFFFFF\" points=\"255,49,319,49,326,71.2969,443,71.2969,443,325,255,325,255,49\" style=\"stroke: #000000; stroke-width: 1.5;\"/><line style=\"stroke: #000000; stroke-width: 1.5;\" x1=\"255\" x2=\"326\" y1=\"71.2969\" y2=\"71.2969\"/><text fill=\"#000000\" font-family=\"sans-serif\" font-size=\"14\" font-weight=\"bold\" lengthAdjust=\"spacingAndGlyphs\" textLength=\"58\" x=\"259\" y=\"63.9951\">System</text></a><a href=\"psysml:7bbe8935-ee6e-44c3-abf9-e711bcee98e7\" target=\"_top\" title=\"psysml:7bbe8935-ee6e-44c3-abf9-e711bcee98e7\" xlink:actuate=\"onRequest\" xlink:href=\"psysml:7bbe8935-ee6e-44c3-abf9-e711bcee98e7\" xlink:show=\"new\" xlink:title=\"psysml:7bbe8935-ee6e-44c3-abf9-e711bcee98e7\" xlink:type=\"simple\"><polygon fill=\"#FFFFFF\" points=\"271,84,413,84,420,106.2969,427,106.2969,427,136.5938,271,136.5938,271,84\" style=\"stroke: #000000; stroke-width: 1.5;\"/><line style=\"stroke: #000000; stroke-width: 1.5;\" x1=\"271\" x2=\"420\" y1=\"106.2969\" y2=\"106.2969\"/><text fill=\"#000000\" font-family=\"sans-serif\" font-size=\"14\" font-weight=\"bold\" lengthAdjust=\"spacingAndGlyphs\" textLength=\"136\" x=\"275\" y=\"98.9951\">Application Layer</text></a><a href=\"psysml:8539df59-9777-43d1-9cbc-191f1e3b0af0\" target=\"_top\" title=\"psysml:8539df59-9777-43d1-9cbc-191f1e3b0af0\" xlink:actuate=\"onRequest\" xlink:href=\"psysml:8539df59-9777-43d1-9cbc-191f1e3b0af0\" xlink:show=\"new\" xlink:title=\"psysml:8539df59-9777-43d1-9cbc-191f1e3b0af0\" xlink:type=\"simple\"><polygon fill=\"#FFFFFF\" points=\"285,170,399,170,406,192.2969,413,192.2969,413,222.5938,285,222.5938,285,170\" style=\"stroke: #000000; stroke-width: 1.5;\"/><line style=\"stroke: #000000; stroke-width: 1.5;\" x1=\"285\" x2=\"406\" y1=\"192.2969\" y2=\"192.2969\"/><text fill=\"#000000\" font-family=\"sans-serif\" font-size=\"14\" font-weight=\"bold\" lengthAdjust=\"spacingAndGlyphs\" textLength=\"108\" x=\"289\" y=\"184.9951\">Service Layer</text></a><a href=\"psysml:06e8cf4d-e880-4b5c-8fdb-0871598a4cb3\" target=\"_top\" title=\"psysml:06e8cf4d-e880-4b5c-8fdb-0871598a4cb3\" xlink:actuate=\"onRequest\" xlink:href=\"psysml:06e8cf4d-e880-4b5c-8fdb-0871598a4cb3\" xlink:show=\"new\" xlink:title=\"psysml:06e8cf4d-e880-4b5c-8fdb-0871598a4cb3\" xlink:type=\"simple\"><polygon fill=\"#FFFFFF\" points=\"297,256,387,256,394,278.2969,401,278.2969,401,308.5938,297,308.5938,297,256\" style=\"stroke: #000000; stroke-width: 1.5;\"/><line style=\"stroke: #000000; stroke-width: 1.5;\" x1=\"297\" x2=\"394\" y1=\"278.2969\" y2=\"278.2969\"/><text fill=\"#000000\" font-family=\"sans-serif\" font-size=\"14\" font-weight=\"bold\" lengthAdjust=\"spacingAndGlyphs\" textLength=\"84\" x=\"301\" y=\"270.9951\">Data Layer</text></a><g id=\"E1.E6\"><a href=\"psysml:3f429861-8945-458a-afac-b9814097464d\" target=\"_top\" title=\"psysml:3f429861-8945-458a-afac-b9814097464d\" xlink:actuate=\"onRequest\" xlink:href=\"psysml:3f429861-8945-458a-afac-b9814097464d\" xlink:show=\"new\" xlink:title=\"psysml:3f429861-8945-458a-afac-b9814097464d\" xlink:type=\"simple\"><rect fill=\"#FFFFFF\" height=\"42.9375\" id=\"E6\" rx=\"10\" ry=\"10\" style=\"stroke: #383838; stroke-width: 1.5;\" width=\"76\" x=\"32\" y=\"175\"/><rect fill=\"#F8F8F8\" height=\"37.9375\" rx=\"10\" ry=\"10\" style=\"stroke: #F8F8F8; stroke-width: 1.5;\" width=\"76\" x=\"32\" y=\"175\"/><rect fill=\"#F8F8F8\" height=\"10\" style=\"stroke: #F8F8F8; stroke-width: 1.5;\" width=\"76\" x=\"32\" y=\"202.9375\"/><rect fill=\"none\" height=\"42.9375\" id=\"E6\" rx=\"10\" ry=\"10\" style=\"stroke: #383838; stroke-width: 1.5;\" width=\"76\" x=\"32\" y=\"175\"/><text fill=\"#000000\" font-family=\"sans-serif\" font-size=\"12\" font-style=\"italic\" lengthAdjust=\"spacingAndGlyphs\" textLength=\"69\" x=\"35.5\" y=\"191.1387\">«attribute»</text><text fill=\"#000000\" font-family=\"sans-serif\" font-size=\"12\" lengthAdjust=\"spacingAndGlyphs\" textLength=\"6\" x=\"67\" y=\"205.1074\">x</text></a></g><g id=\"E1.E7\"><a href=\"psysml:f3318431-0d45-43ea-b254-330318c85eb0\" target=\"_top\" title=\"psysml:f3318431-0d45-43ea-b254-330318c85eb0\" xlink:actuate=\"onRequest\" xlink:href=\"psysml:f3318431-0d45-43ea-b254-330318c85eb0\" xlink:show=\"new\" xlink:title=\"psysml:f3318431-0d45-43ea-b254-330318c85eb0\" xlink:type=\"simple\"><rect fill=\"#FFFFFF\" height=\"42.9375\" id=\"E7\" rx=\"10\" ry=\"10\" style=\"stroke: #383838; stroke-width: 1.5;\" width=\"76\" x=\"143\" y=\"175\"/><rect fill=\"#F8F8F8\" height=\"37.9375\" rx=\"10\" ry=\"10\" style=\"stroke: #F8F8F8; stroke-width: 1.5;\" width=\"76\" x=\"143\" y=\"175\"/><rect fill=\"#F8F8F8\" height=\"10\" style=\"stroke: #F8F8F8; stroke-width: 1.5;\" width=\"76\" x=\"143\" y=\"202.9375\"/><rect fill=\"none\" height=\"42.9375\" id=\"E7\" rx=\"10\" ry=\"10\" style=\"stroke: #383838; stroke-width: 1.5;\" width=\"76\" x=\"143\" y=\"175\"/><text fill=\"#000000\" font-family=\"sans-serif\" font-size=\"12\" font-style=\"italic\" lengthAdjust=\"spacingAndGlyphs\" textLength=\"69\" x=\"146.5\" y=\"191.1387\">«attribute»</text><text fill=\"#000000\" font-family=\"sans-serif\" font-size=\"12\" lengthAdjust=\"spacingAndGlyphs\" textLength=\"6\" x=\"178\" y=\"205.1074\">y</text></a></g><g id=\"E1.E8\"><a href=\"psysml:da180d87-042d-4ade-81c9-b5201399a446\" target=\"_top\" title=\"psysml:da180d87-042d-4ade-81c9-b5201399a446\" xlink:actuate=\"onRequest\" xlink:href=\"psysml:da180d87-042d-4ade-81c9-b5201399a446\" xlink:show=\"new\" xlink:title=\"psysml:da180d87-042d-4ade-81c9-b5201399a446\" xlink:type=\"simple\"><rect fill=\"#FFFFFF\" height=\"42.9375\" id=\"E8\" rx=\"10\" ry=\"10\" style=\"stroke: #383838; stroke-width: 1.5;\" width=\"76\" x=\"83\" y=\"89\"/><rect fill=\"#F8F8F8\" height=\"37.9375\" rx=\"10\" ry=\"10\" style=\"stroke: #F8F8F8; stroke-width: 1.5;\" width=\"76\" x=\"83\" y=\"89\"/><rect fill=\"#F8F8F8\" height=\"10\" style=\"stroke: #F8F8F8; stroke-width: 1.5;\" width=\"76\" x=\"83\" y=\"116.9375\"/><rect fill=\"none\" height=\"42.9375\" id=\"E8\" rx=\"10\" ry=\"10\" style=\"stroke: #383838; stroke-width: 1.5;\" width=\"76\" x=\"83\" y=\"89\"/><text fill=\"#000000\" font-family=\"sans-serif\" font-size=\"12\" font-style=\"italic\" lengthAdjust=\"spacingAndGlyphs\" textLength=\"69\" x=\"86.5\" y=\"105.1387\">«attribute»</text><text fill=\"#000000\" font-family=\"sans-serif\" font-size=\"12\" lengthAdjust=\"spacingAndGlyphs\" textLength=\"5\" x=\"118.5\" y=\"119.1074\">z</text></a></g><!--MD5=[af87c684e3b0d8be13c1a698a818ef1e]\n",
       "link E3 to E4--><a href=\"psysml:ddd06611-1e40-467d-8133-a183585a6da5\" target=\"_top\" title=\"psysml:ddd06611-1e40-467d-8133-a183585a6da5\" xlink:actuate=\"onRequest\" xlink:href=\"psysml:ddd06611-1e40-467d-8133-a183585a6da5\" xlink:show=\"new\" xlink:title=\"psysml:ddd06611-1e40-467d-8133-a183585a6da5\" xlink:type=\"simple\"><path d=\"M349,137.16 C349,144.98 349,153.69 349,161.94 \" fill=\"none\" id=\"E3-&gt;E4\" style=\"stroke: #383838; stroke-width: 1.0; stroke-dasharray: 7.0,7.0;\"/><polygon fill=\"#383838\" points=\"349,170,352,162,346,162,349,170\" style=\"stroke: #383838; stroke-width: 1.0;\"/><text fill=\"#000000\" font-family=\"sans-serif\" font-size=\"13\" lengthAdjust=\"spacingAndGlyphs\" textLength=\"64\" x=\"350\" y=\"158.0669\">«depend»</text></a><!--MD5=[1b7591eae5389033d8d09a9d6721a717]\n",
       "link E4 to E5--><a href=\"psysml:b5c0928c-fbc9-4433-ab1e-c084bfbcebd5\" target=\"_top\" title=\"psysml:b5c0928c-fbc9-4433-ab1e-c084bfbcebd5\" xlink:actuate=\"onRequest\" xlink:href=\"psysml:b5c0928c-fbc9-4433-ab1e-c084bfbcebd5\" xlink:show=\"new\" xlink:title=\"psysml:b5c0928c-fbc9-4433-ab1e-c084bfbcebd5\" xlink:type=\"simple\"><path d=\"M349,223.16 C349,230.98 349,239.69 349,247.94 \" fill=\"none\" id=\"E4-&gt;E5\" style=\"stroke: #383838; stroke-width: 1.0; stroke-dasharray: 7.0,7.0;\"/><polygon fill=\"#383838\" points=\"349,256,352,248,346,248,349,256\" style=\"stroke: #383838; stroke-width: 1.0;\"/><text fill=\"#000000\" font-family=\"sans-serif\" font-size=\"13\" lengthAdjust=\"spacingAndGlyphs\" textLength=\"64\" x=\"350\" y=\"244.0669\">«depend»</text></a><!--MD5=[c5e8897d989ce984f93528998a7150fe]\n",
       "link E8 to E6--><a href=\"psysml:a0e318cd-0c17-433c-bc04-dbf1eaa3473c\" target=\"_top\" title=\"psysml:a0e318cd-0c17-433c-bc04-dbf1eaa3473c\" xlink:actuate=\"onRequest\" xlink:href=\"psysml:a0e318cd-0c17-433c-bc04-dbf1eaa3473c\" xlink:show=\"new\" xlink:title=\"psysml:a0e318cd-0c17-433c-bc04-dbf1eaa3473c\" xlink:type=\"simple\"><path d=\"M82.81,126.48 C75.3,131.24 68.39,137.33 64,145 C60.26,151.53 59.68,159.3 60.56,166.77 \" fill=\"none\" id=\"E8-&gt;E6\" style=\"stroke: #383838; stroke-width: 1.0; stroke-dasharray: 7.0,7.0;\"/><polygon fill=\"#383838\" points=\"62.02,174.69,63.5257,166.2797,57.6244,167.3634,62.02,174.69\" style=\"stroke: #383838; stroke-width: 1.0;\"/><text fill=\"#000000\" font-family=\"sans-serif\" font-size=\"13\" lengthAdjust=\"spacingAndGlyphs\" textLength=\"64\" x=\"65\" y=\"158.0669\">«depend»</text></a><!--MD5=[bfa3c8b0d15052fdf50ae9310b491027]\n",
       "link E8 to E7--><a href=\"psysml:a0e318cd-0c17-433c-bc04-dbf1eaa3473c\" target=\"_top\" title=\"psysml:a0e318cd-0c17-433c-bc04-dbf1eaa3473c\" xlink:actuate=\"onRequest\" xlink:href=\"psysml:a0e318cd-0c17-433c-bc04-dbf1eaa3473c\" xlink:show=\"new\" xlink:title=\"psysml:a0e318cd-0c17-433c-bc04-dbf1eaa3473c\" xlink:type=\"simple\"><path d=\"M135.83,132.26 C143.61,143.15 153.22,156.61 161.59,168.32 \" fill=\"none\" id=\"E8-&gt;E7\" style=\"stroke: #383838; stroke-width: 1.0; stroke-dasharray: 7.0,7.0;\"/><polygon fill=\"#383838\" points=\"166.34,174.97,164.1399,166.7141,159.2538,170.1965,166.34,174.97\" style=\"stroke: #383838; stroke-width: 1.0;\"/><text fill=\"#000000\" font-family=\"sans-serif\" font-size=\"13\" lengthAdjust=\"spacingAndGlyphs\" textLength=\"64\" x=\"157\" y=\"158.0669\">«depend»</text></a><!--MD5=[d55113aaa5a6954ea62766dcc5638c85]\n",
       "@startuml\r\n",
       "skinparam ranksep 8\r\n",
       "skinparam rectangle {\r\n",
       " backgroundColor<<block>> LightGreen\r\n",
       "}\r\n",
       "top to bottom direction\r\n",
       "skinparam monochrome true\r\n",
       "skinparam classbackgroundcolor white\r\n",
       "skinparam shadowing false\r\n",
       "skinparam wrapWidth 300\r\n",
       "hide circle\r\n",
       "\r\n",
       "package \"DependencyTest\" as E1  [[psysml:01e86263-1e08-4c5e-80c8-9f3a01cb2b1c ]]  {\r\n",
       "package \"System\" as E2  [[psysml:65d9c171-277b-4a12-8988-537cd17218fe ]]  {\r\n",
       "package \"Application Layer\" as E3  [[psysml:7bbe8935-ee6e-44c3-abf9-e711bcee98e7 ]]  {\r\n",
       "}\r\n",
       "package \"Service Layer\" as E4  [[psysml:8539df59-9777-43d1-9cbc-191f1e3b0af0 ]]  {\r\n",
       "}\r\n",
       "package \"Data Layer\" as E5  [[psysml:06e8cf4d-e880-4b5c-8fdb-0871598a4cb3 ]]  {\r\n",
       "}\r\n",
       "}\r\n",
       "rec usage \"x\" as E6  <<(T,blue)attribute>> [[psysml:3f429861-8945-458a-afac-b9814097464d ]] {\r\n",
       "}\r\n",
       "rec usage \"y\" as E7  <<(T,blue)attribute>> [[psysml:f3318431-0d45-43ea-b254-330318c85eb0 ]] {\r\n",
       "}\r\n",
       "rec usage \"z\" as E8  <<(T,blue)attribute>> [[psysml:da180d87-042d-4ade-81c9-b5201399a446 ]] {\r\n",
       "}\r\n",
       "E3 ..>> E4 [[psysml:ddd06611-1e40-467d-8133-a183585a6da5 ]] : <<depend>>\r\n",
       "E4 ..>> E5 [[psysml:b5c0928c-fbc9-4433-ab1e-c084bfbcebd5 ]] : <<depend>>\r\n",
       "E8 ..>> E6 [[psysml:a0e318cd-0c17-433c-bc04-dbf1eaa3473c ]] : <<depend>>\r\n",
       "E8 ..>> E7 [[psysml:a0e318cd-0c17-433c-bc04-dbf1eaa3473c ]] : <<depend>>\r\n",
       "}\r\n",
       "@enduml\r\n",
       "\n",
       "PlantUML version 1.2020.13(Sat Jun 13 12:26:38 UTC 2020)\n",
       "(EPL source distribution)\n",
       "Java Runtime: OpenJDK Runtime Environment\n",
       "JVM: OpenJDK 64-Bit Server VM\n",
       "Default Encoding: UTF-8\n",
       "Language: en\n",
       "Country: null\n",
       "--></g></svg>"
      ]
     },
     "execution_count": 47,
     "metadata": {},
     "output_type": "execute_result"
    }
   ],
   "source": [
    "%viz --style=\"TB\" --view=\"Interconnection\" \"DependencyTest\""
   ]
  },
  {
   "cell_type": "code",
   "execution_count": 48,
   "id": "alert-approval",
   "metadata": {
    "execution": {
     "iopub.execute_input": "2021-03-25T15:09:51.438223Z",
     "iopub.status.busy": "2021-03-25T15:09:51.437817Z",
     "iopub.status.idle": "2021-03-25T15:09:51.444551Z",
     "shell.execute_reply": "2021-03-25T15:09:51.444213Z"
    }
   },
   "outputs": [
    {
     "data": {
      "image/svg+xml": [
       "<?xml version=\"1.0\" encoding=\"UTF-8\" standalone=\"no\"?><svg xmlns=\"http://www.w3.org/2000/svg\" xmlns:xlink=\"http://www.w3.org/1999/xlink\" contentScriptType=\"application/ecmascript\" contentStyleType=\"text/css\" height=\"12px\" preserveAspectRatio=\"none\" style=\"width:12px;height:12px;\" version=\"1.1\" viewBox=\"0 0 12 12\" width=\"12px\" zoomAndPan=\"magnify\"><defs/><g><!--MD5=[06afc254b03ac5e9d9fb7773b07d0800]\n",
       "@startuml\r\n",
       "skinparam ranksep 8\r\n",
       "top to bottom direction\r\n",
       "skinparam monochrome true\r\n",
       "skinparam classbackgroundcolor white\r\n",
       "skinparam shadowing false\r\n",
       "skinparam wrapWidth 300\r\n",
       "hide circle\r\n",
       "\r\n",
       "@enduml\r\n",
       "\n",
       "PlantUML version 1.2020.13(Sat Jun 13 12:26:38 UTC 2020)\n",
       "(EPL source distribution)\n",
       "Java Runtime: OpenJDK Runtime Environment\n",
       "JVM: OpenJDK 64-Bit Server VM\n",
       "Default Encoding: UTF-8\n",
       "Language: en\n",
       "Country: null\n",
       "--></g></svg>"
      ]
     },
     "execution_count": 48,
     "metadata": {},
     "output_type": "execute_result"
    }
   ],
   "source": [
    "%viz --style=\"TB\" --view=\"Action\" \"DependencyTest\""
   ]
  },
  {
   "cell_type": "code",
   "execution_count": 49,
   "id": "requested-browse",
   "metadata": {
    "execution": {
     "iopub.execute_input": "2021-03-25T15:09:51.498182Z",
     "iopub.status.busy": "2021-03-25T15:09:51.496406Z",
     "iopub.status.idle": "2021-03-25T15:09:51.602424Z",
     "shell.execute_reply": "2021-03-25T15:09:51.602847Z"
    }
   },
   "outputs": [
    {
     "data": {
      "image/svg+xml": [
       "<?xml version=\"1.0\" encoding=\"UTF-8\" standalone=\"no\"?><svg xmlns=\"http://www.w3.org/2000/svg\" xmlns:xlink=\"http://www.w3.org/1999/xlink\" contentScriptType=\"application/ecmascript\" contentStyleType=\"text/css\" height=\"449px\" preserveAspectRatio=\"none\" style=\"width:489px;height:449px;\" version=\"1.1\" viewBox=\"0 0 489 449\" width=\"489px\" zoomAndPan=\"magnify\"><defs/><g><!--MD5=[fbc87193dbaf4d95561dea2c320d4a47]\n",
       "cluster E1--><a href=\"psysml:01e86263-1e08-4c5e-80c8-9f3a01cb2b1c\" target=\"_top\" title=\"psysml:01e86263-1e08-4c5e-80c8-9f3a01cb2b1c\" xlink:actuate=\"onRequest\" xlink:href=\"psysml:01e86263-1e08-4c5e-80c8-9f3a01cb2b1c\" xlink:show=\"new\" xlink:title=\"psysml:01e86263-1e08-4c5e-80c8-9f3a01cb2b1c\" xlink:type=\"simple\"><polygon fill=\"#FFFFFF\" points=\"16,6,156,6,163,28.2969,467,28.2969,467,437,16,437,16,6\" style=\"stroke: #000000; stroke-width: 1.5;\"/><line style=\"stroke: #000000; stroke-width: 1.5;\" x1=\"16\" x2=\"163\" y1=\"28.2969\" y2=\"28.2969\"/><text fill=\"#000000\" font-family=\"sans-serif\" font-size=\"14\" font-weight=\"bold\" lengthAdjust=\"spacingAndGlyphs\" textLength=\"134\" x=\"20\" y=\"20.9951\">DependencyTest</text></a><!--MD5=[e4f7fae6ed58524ba242bb0b0d3be6b7]\n",
       "cluster E2--><a href=\"psysml:65d9c171-277b-4a12-8988-537cd17218fe\" target=\"_top\" title=\"psysml:65d9c171-277b-4a12-8988-537cd17218fe\" xlink:actuate=\"onRequest\" xlink:href=\"psysml:65d9c171-277b-4a12-8988-537cd17218fe\" xlink:show=\"new\" xlink:title=\"psysml:65d9c171-277b-4a12-8988-537cd17218fe\" xlink:type=\"simple\"><polygon fill=\"#FFFFFF\" points=\"255,49,319,49,326,71.2969,443,71.2969,443,413,255,413,255,49\" style=\"stroke: #000000; stroke-width: 1.5;\"/><line style=\"stroke: #000000; stroke-width: 1.5;\" x1=\"255\" x2=\"326\" y1=\"71.2969\" y2=\"71.2969\"/><text fill=\"#000000\" font-family=\"sans-serif\" font-size=\"14\" font-weight=\"bold\" lengthAdjust=\"spacingAndGlyphs\" textLength=\"58\" x=\"259\" y=\"63.9951\">System</text></a><!--MD5=[60a26617385b1d2d0262a64233df1f8d]\n",
       "class E6--><a href=\"psysml:3f429861-8945-458a-afac-b9814097464d\" target=\"_top\" title=\"psysml:3f429861-8945-458a-afac-b9814097464d\" xlink:actuate=\"onRequest\" xlink:href=\"psysml:3f429861-8945-458a-afac-b9814097464d\" xlink:show=\"new\" xlink:title=\"psysml:3f429861-8945-458a-afac-b9814097464d\" xlink:type=\"simple\"><rect fill=\"#FFFFFF\" height=\"45.9375\" id=\"E6\" rx=\"10\" ry=\"10\" style=\"stroke: #383838; stroke-width: 1.5;\" width=\"71\" x=\"32.5\" y=\"217.5\"/><text fill=\"#000000\" font-family=\"sans-serif\" font-size=\"12\" font-style=\"italic\" lengthAdjust=\"spacingAndGlyphs\" textLength=\"69\" x=\"33.5\" y=\"233.6387\">«attribute»</text><text fill=\"#000000\" font-family=\"sans-serif\" font-size=\"12\" lengthAdjust=\"spacingAndGlyphs\" textLength=\"6\" x=\"65\" y=\"247.6074\">x</text><line style=\"stroke: #383838; stroke-width: 1.5;\" x1=\"33.5\" x2=\"102.5\" y1=\"255.4375\" y2=\"255.4375\"/></a><!--MD5=[2156ba9850f5573cc1fc38a6a4b2f02b]\n",
       "class E7--><a href=\"psysml:f3318431-0d45-43ea-b254-330318c85eb0\" target=\"_top\" title=\"psysml:f3318431-0d45-43ea-b254-330318c85eb0\" xlink:actuate=\"onRequest\" xlink:href=\"psysml:f3318431-0d45-43ea-b254-330318c85eb0\" xlink:show=\"new\" xlink:title=\"psysml:f3318431-0d45-43ea-b254-330318c85eb0\" xlink:type=\"simple\"><rect fill=\"#FFFFFF\" height=\"45.9375\" id=\"E7\" rx=\"10\" ry=\"10\" style=\"stroke: #383838; stroke-width: 1.5;\" width=\"71\" x=\"138.5\" y=\"217.5\"/><text fill=\"#000000\" font-family=\"sans-serif\" font-size=\"12\" font-style=\"italic\" lengthAdjust=\"spacingAndGlyphs\" textLength=\"69\" x=\"139.5\" y=\"233.6387\">«attribute»</text><text fill=\"#000000\" font-family=\"sans-serif\" font-size=\"12\" lengthAdjust=\"spacingAndGlyphs\" textLength=\"6\" x=\"171\" y=\"247.6074\">y</text><line style=\"stroke: #383838; stroke-width: 1.5;\" x1=\"139.5\" x2=\"208.5\" y1=\"255.4375\" y2=\"255.4375\"/></a><!--MD5=[b9389687b975829384b498ac4b7476b2]\n",
       "class E8--><a href=\"psysml:da180d87-042d-4ade-81c9-b5201399a446\" target=\"_top\" title=\"psysml:da180d87-042d-4ade-81c9-b5201399a446\" xlink:actuate=\"onRequest\" xlink:href=\"psysml:da180d87-042d-4ade-81c9-b5201399a446\" xlink:show=\"new\" xlink:title=\"psysml:da180d87-042d-4ade-81c9-b5201399a446\" xlink:type=\"simple\"><rect fill=\"#FFFFFF\" height=\"45.9375\" id=\"E8\" rx=\"10\" ry=\"10\" style=\"stroke: #383838; stroke-width: 1.5;\" width=\"71\" x=\"84.5\" y=\"87.5\"/><text fill=\"#000000\" font-family=\"sans-serif\" font-size=\"12\" font-style=\"italic\" lengthAdjust=\"spacingAndGlyphs\" textLength=\"69\" x=\"85.5\" y=\"103.6387\">«attribute»</text><text fill=\"#000000\" font-family=\"sans-serif\" font-size=\"12\" lengthAdjust=\"spacingAndGlyphs\" textLength=\"5\" x=\"117.5\" y=\"117.6074\">z</text><line style=\"stroke: #383838; stroke-width: 1.5;\" x1=\"85.5\" x2=\"154.5\" y1=\"125.4375\" y2=\"125.4375\"/></a><a href=\"psysml:7bbe8935-ee6e-44c3-abf9-e711bcee98e7\" target=\"_top\" title=\"psysml:7bbe8935-ee6e-44c3-abf9-e711bcee98e7\" xlink:actuate=\"onRequest\" xlink:href=\"psysml:7bbe8935-ee6e-44c3-abf9-e711bcee98e7\" xlink:show=\"new\" xlink:title=\"psysml:7bbe8935-ee6e-44c3-abf9-e711bcee98e7\" xlink:type=\"simple\"><polygon fill=\"#FFFFFF\" points=\"271,84,413,84,420,106.2969,427,106.2969,427,136.5938,271,136.5938,271,84\" style=\"stroke: #000000; stroke-width: 1.5;\"/><line style=\"stroke: #000000; stroke-width: 1.5;\" x1=\"271\" x2=\"420\" y1=\"106.2969\" y2=\"106.2969\"/><text fill=\"#000000\" font-family=\"sans-serif\" font-size=\"14\" font-weight=\"bold\" lengthAdjust=\"spacingAndGlyphs\" textLength=\"136\" x=\"275\" y=\"98.9951\">Application Layer</text></a><a href=\"psysml:8539df59-9777-43d1-9cbc-191f1e3b0af0\" target=\"_top\" title=\"psysml:8539df59-9777-43d1-9cbc-191f1e3b0af0\" xlink:actuate=\"onRequest\" xlink:href=\"psysml:8539df59-9777-43d1-9cbc-191f1e3b0af0\" xlink:show=\"new\" xlink:title=\"psysml:8539df59-9777-43d1-9cbc-191f1e3b0af0\" xlink:type=\"simple\"><polygon fill=\"#FFFFFF\" points=\"285,214,399,214,406,236.2969,413,236.2969,413,266.5938,285,266.5938,285,214\" style=\"stroke: #000000; stroke-width: 1.5;\"/><line style=\"stroke: #000000; stroke-width: 1.5;\" x1=\"285\" x2=\"406\" y1=\"236.2969\" y2=\"236.2969\"/><text fill=\"#000000\" font-family=\"sans-serif\" font-size=\"14\" font-weight=\"bold\" lengthAdjust=\"spacingAndGlyphs\" textLength=\"108\" x=\"289\" y=\"228.9951\">Service Layer</text></a><a href=\"psysml:06e8cf4d-e880-4b5c-8fdb-0871598a4cb3\" target=\"_top\" title=\"psysml:06e8cf4d-e880-4b5c-8fdb-0871598a4cb3\" xlink:actuate=\"onRequest\" xlink:href=\"psysml:06e8cf4d-e880-4b5c-8fdb-0871598a4cb3\" xlink:show=\"new\" xlink:title=\"psysml:06e8cf4d-e880-4b5c-8fdb-0871598a4cb3\" xlink:type=\"simple\"><polygon fill=\"#FFFFFF\" points=\"297,344,387,344,394,366.2969,401,366.2969,401,396.5938,297,396.5938,297,344\" style=\"stroke: #000000; stroke-width: 1.5;\"/><line style=\"stroke: #000000; stroke-width: 1.5;\" x1=\"297\" x2=\"394\" y1=\"366.2969\" y2=\"366.2969\"/><text fill=\"#000000\" font-family=\"sans-serif\" font-size=\"14\" font-weight=\"bold\" lengthAdjust=\"spacingAndGlyphs\" textLength=\"84\" x=\"301\" y=\"358.9951\">Data Layer</text></a><!--MD5=[af87c684e3b0d8be13c1a698a818ef1e]\n",
       "link E3 to E4--><a href=\"psysml:ddd06611-1e40-467d-8133-a183585a6da5\" target=\"_top\" title=\"psysml:ddd06611-1e40-467d-8133-a183585a6da5\" xlink:actuate=\"onRequest\" xlink:href=\"psysml:ddd06611-1e40-467d-8133-a183585a6da5\" xlink:show=\"new\" xlink:title=\"psysml:ddd06611-1e40-467d-8133-a183585a6da5\" xlink:type=\"simple\"><path d=\"M349,137.1 C349,156.8 349,184.22 349,205.73 \" fill=\"none\" id=\"E3-&gt;E4\" style=\"stroke: #383838; stroke-width: 1.0; stroke-dasharray: 7.0,7.0;\"/><polygon fill=\"#383838\" points=\"349,213.95,352,205.95,346,205.95,349,213.95\" style=\"stroke: #383838; stroke-width: 1.0;\"/><text fill=\"#000000\" font-family=\"sans-serif\" font-size=\"13\" lengthAdjust=\"spacingAndGlyphs\" textLength=\"64\" x=\"350\" y=\"180.0669\">«depend»</text></a><!--MD5=[1b7591eae5389033d8d09a9d6721a717]\n",
       "link E4 to E5--><a href=\"psysml:b5c0928c-fbc9-4433-ab1e-c084bfbcebd5\" target=\"_top\" title=\"psysml:b5c0928c-fbc9-4433-ab1e-c084bfbcebd5\" xlink:actuate=\"onRequest\" xlink:href=\"psysml:b5c0928c-fbc9-4433-ab1e-c084bfbcebd5\" xlink:show=\"new\" xlink:title=\"psysml:b5c0928c-fbc9-4433-ab1e-c084bfbcebd5\" xlink:type=\"simple\"><path d=\"M349,267.1 C349,286.8 349,314.22 349,335.73 \" fill=\"none\" id=\"E4-&gt;E5\" style=\"stroke: #383838; stroke-width: 1.0; stroke-dasharray: 7.0,7.0;\"/><polygon fill=\"#383838\" points=\"349,343.95,352,335.95,346,335.95,349,343.95\" style=\"stroke: #383838; stroke-width: 1.0;\"/><text fill=\"#000000\" font-family=\"sans-serif\" font-size=\"13\" lengthAdjust=\"spacingAndGlyphs\" textLength=\"64\" x=\"350\" y=\"310.0669\">«depend»</text></a><!--MD5=[c5e8897d989ce984f93528998a7150fe]\n",
       "link E8 to E6--><a href=\"psysml:a0e318cd-0c17-433c-bc04-dbf1eaa3473c\" target=\"_top\" title=\"psysml:a0e318cd-0c17-433c-bc04-dbf1eaa3473c\" xlink:actuate=\"onRequest\" xlink:href=\"psysml:a0e318cd-0c17-433c-bc04-dbf1eaa3473c\" xlink:show=\"new\" xlink:title=\"psysml:a0e318cd-0c17-433c-bc04-dbf1eaa3473c\" xlink:type=\"simple\"><path d=\"M89.42,133.6 C79.35,142.68 69.37,154.11 64,167 C58.5,180.2 58.66,195.94 60.54,209.38 \" fill=\"none\" id=\"E8-&gt;E6\" style=\"stroke: #383838; stroke-width: 1.0; stroke-dasharray: 7.0,7.0;\"/><polygon fill=\"#383838\" points=\"61.9,217.4,63.517,209.0104,57.6018,210.0159,61.9,217.4\" style=\"stroke: #383838; stroke-width: 1.0;\"/><text fill=\"#000000\" font-family=\"sans-serif\" font-size=\"13\" lengthAdjust=\"spacingAndGlyphs\" textLength=\"64\" x=\"65\" y=\"180.0669\">«depend»</text></a><!--MD5=[bfa3c8b0d15052fdf50ae9310b491027]\n",
       "link E8 to E7--><a href=\"psysml:a0e318cd-0c17-433c-bc04-dbf1eaa3473c\" target=\"_top\" title=\"psysml:a0e318cd-0c17-433c-bc04-dbf1eaa3473c\" xlink:actuate=\"onRequest\" xlink:href=\"psysml:a0e318cd-0c17-433c-bc04-dbf1eaa3473c\" xlink:show=\"new\" xlink:title=\"psysml:a0e318cd-0c17-433c-bc04-dbf1eaa3473c\" xlink:type=\"simple\"><path d=\"M129.28,133.5 C138.17,154.57 151.64,186.5 161.47,209.81 \" fill=\"none\" id=\"E8-&gt;E7\" style=\"stroke: #383838; stroke-width: 1.0; stroke-dasharray: 7.0,7.0;\"/><polygon fill=\"#383838\" points=\"164.66,217.35,164.3241,208.8126,158.7933,211.1385,164.66,217.35\" style=\"stroke: #383838; stroke-width: 1.0;\"/><text fill=\"#000000\" font-family=\"sans-serif\" font-size=\"13\" lengthAdjust=\"spacingAndGlyphs\" textLength=\"64\" x=\"151\" y=\"180.0669\">«depend»</text></a><!--MD5=[1d429b1c38248c08e0a7ad00faea97c8]\n",
       "@startuml\r\n",
       "top to bottom direction\r\n",
       "skinparam monochrome true\r\n",
       "skinparam classbackgroundcolor white\r\n",
       "skinparam shadowing false\r\n",
       "skinparam wrapWidth 300\r\n",
       "hide circle\r\n",
       "\r\n",
       "package \"DependencyTest\" as E1  [[psysml:01e86263-1e08-4c5e-80c8-9f3a01cb2b1c ]]  {\r\n",
       "package \"System\" as E2  [[psysml:65d9c171-277b-4a12-8988-537cd17218fe ]]  {\r\n",
       "package \"Application Layer\" as E3  [[psysml:7bbe8935-ee6e-44c3-abf9-e711bcee98e7 ]]  {\r\n",
       "}\r\n",
       "package \"Service Layer\" as E4  [[psysml:8539df59-9777-43d1-9cbc-191f1e3b0af0 ]]  {\r\n",
       "}\r\n",
       "package \"Data Layer\" as E5  [[psysml:06e8cf4d-e880-4b5c-8fdb-0871598a4cb3 ]]  {\r\n",
       "}\r\n",
       "}\r\n",
       "comp usage \"x\" as E6  <<(T,blue)attribute>> [[psysml:3f429861-8945-458a-afac-b9814097464d ]] {\r\n",
       "}\r\n",
       "comp usage \"y\" as E7  <<(T,blue)attribute>> [[psysml:f3318431-0d45-43ea-b254-330318c85eb0 ]] {\r\n",
       "}\r\n",
       "comp usage \"z\" as E8  <<(T,blue)attribute>> [[psysml:da180d87-042d-4ade-81c9-b5201399a446 ]] {\r\n",
       "}\r\n",
       "E3 ..>> E4 [[psysml:ddd06611-1e40-467d-8133-a183585a6da5 ]] : <<depend>>\r\n",
       "E4 ..>> E5 [[psysml:b5c0928c-fbc9-4433-ab1e-c084bfbcebd5 ]] : <<depend>>\r\n",
       "E8 ..>> E6 [[psysml:a0e318cd-0c17-433c-bc04-dbf1eaa3473c ]] : <<depend>>\r\n",
       "E8 ..>> E7 [[psysml:a0e318cd-0c17-433c-bc04-dbf1eaa3473c ]] : <<depend>>\r\n",
       "}\r\n",
       "@enduml\r\n",
       "\n",
       "PlantUML version 1.2020.13(Sat Jun 13 12:26:38 UTC 2020)\n",
       "(EPL source distribution)\n",
       "Java Runtime: OpenJDK Runtime Environment\n",
       "JVM: OpenJDK 64-Bit Server VM\n",
       "Default Encoding: UTF-8\n",
       "Language: en\n",
       "Country: null\n",
       "--></g></svg>"
      ]
     },
     "execution_count": 49,
     "metadata": {},
     "output_type": "execute_result"
    }
   ],
   "source": [
    "%viz --style=\"TB\" --view=\"Sequence\" \"DependencyTest\""
   ]
  },
  {
   "cell_type": "code",
   "execution_count": 50,
   "id": "dramatic-astrology",
   "metadata": {
    "execution": {
     "iopub.execute_input": "2021-03-25T15:09:51.654743Z",
     "iopub.status.busy": "2021-03-25T15:09:51.653830Z",
     "iopub.status.idle": "2021-03-25T15:09:51.750839Z",
     "shell.execute_reply": "2021-03-25T15:09:51.749449Z"
    }
   },
   "outputs": [
    {
     "data": {
      "image/svg+xml": [
       "<?xml version=\"1.0\" encoding=\"UTF-8\" standalone=\"no\"?><svg xmlns=\"http://www.w3.org/2000/svg\" xmlns:xlink=\"http://www.w3.org/1999/xlink\" contentScriptType=\"application/ecmascript\" contentStyleType=\"text/css\" height=\"449px\" preserveAspectRatio=\"none\" style=\"width:489px;height:449px;\" version=\"1.1\" viewBox=\"0 0 489 449\" width=\"489px\" zoomAndPan=\"magnify\"><defs/><g><!--MD5=[fbc87193dbaf4d95561dea2c320d4a47]\n",
       "cluster E1--><a href=\"psysml:01e86263-1e08-4c5e-80c8-9f3a01cb2b1c\" target=\"_top\" title=\"psysml:01e86263-1e08-4c5e-80c8-9f3a01cb2b1c\" xlink:actuate=\"onRequest\" xlink:href=\"psysml:01e86263-1e08-4c5e-80c8-9f3a01cb2b1c\" xlink:show=\"new\" xlink:title=\"psysml:01e86263-1e08-4c5e-80c8-9f3a01cb2b1c\" xlink:type=\"simple\"><polygon fill=\"#FFFFFF\" points=\"16,6,156,6,163,28.2969,467,28.2969,467,437,16,437,16,6\" style=\"stroke: #000000; stroke-width: 1.5;\"/><line style=\"stroke: #000000; stroke-width: 1.5;\" x1=\"16\" x2=\"163\" y1=\"28.2969\" y2=\"28.2969\"/><text fill=\"#000000\" font-family=\"sans-serif\" font-size=\"14\" font-weight=\"bold\" lengthAdjust=\"spacingAndGlyphs\" textLength=\"134\" x=\"20\" y=\"20.9951\">DependencyTest</text></a><!--MD5=[e4f7fae6ed58524ba242bb0b0d3be6b7]\n",
       "cluster E2--><a href=\"psysml:65d9c171-277b-4a12-8988-537cd17218fe\" target=\"_top\" title=\"psysml:65d9c171-277b-4a12-8988-537cd17218fe\" xlink:actuate=\"onRequest\" xlink:href=\"psysml:65d9c171-277b-4a12-8988-537cd17218fe\" xlink:show=\"new\" xlink:title=\"psysml:65d9c171-277b-4a12-8988-537cd17218fe\" xlink:type=\"simple\"><polygon fill=\"#FFFFFF\" points=\"255,49,319,49,326,71.2969,443,71.2969,443,413,255,413,255,49\" style=\"stroke: #000000; stroke-width: 1.5;\"/><line style=\"stroke: #000000; stroke-width: 1.5;\" x1=\"255\" x2=\"326\" y1=\"71.2969\" y2=\"71.2969\"/><text fill=\"#000000\" font-family=\"sans-serif\" font-size=\"14\" font-weight=\"bold\" lengthAdjust=\"spacingAndGlyphs\" textLength=\"58\" x=\"259\" y=\"63.9951\">System</text></a><!--MD5=[60a26617385b1d2d0262a64233df1f8d]\n",
       "class E6--><a href=\"psysml:3f429861-8945-458a-afac-b9814097464d\" target=\"_top\" title=\"psysml:3f429861-8945-458a-afac-b9814097464d\" xlink:actuate=\"onRequest\" xlink:href=\"psysml:3f429861-8945-458a-afac-b9814097464d\" xlink:show=\"new\" xlink:title=\"psysml:3f429861-8945-458a-afac-b9814097464d\" xlink:type=\"simple\"><rect fill=\"#FFFFFF\" height=\"45.9375\" id=\"E6\" rx=\"10\" ry=\"10\" style=\"stroke: #383838; stroke-width: 1.5;\" width=\"71\" x=\"32.5\" y=\"217.5\"/><text fill=\"#000000\" font-family=\"sans-serif\" font-size=\"12\" font-style=\"italic\" lengthAdjust=\"spacingAndGlyphs\" textLength=\"69\" x=\"33.5\" y=\"233.6387\">«attribute»</text><text fill=\"#000000\" font-family=\"sans-serif\" font-size=\"12\" lengthAdjust=\"spacingAndGlyphs\" textLength=\"6\" x=\"65\" y=\"247.6074\">x</text><line style=\"stroke: #383838; stroke-width: 1.5;\" x1=\"33.5\" x2=\"102.5\" y1=\"255.4375\" y2=\"255.4375\"/></a><!--MD5=[2156ba9850f5573cc1fc38a6a4b2f02b]\n",
       "class E7--><a href=\"psysml:f3318431-0d45-43ea-b254-330318c85eb0\" target=\"_top\" title=\"psysml:f3318431-0d45-43ea-b254-330318c85eb0\" xlink:actuate=\"onRequest\" xlink:href=\"psysml:f3318431-0d45-43ea-b254-330318c85eb0\" xlink:show=\"new\" xlink:title=\"psysml:f3318431-0d45-43ea-b254-330318c85eb0\" xlink:type=\"simple\"><rect fill=\"#FFFFFF\" height=\"45.9375\" id=\"E7\" rx=\"10\" ry=\"10\" style=\"stroke: #383838; stroke-width: 1.5;\" width=\"71\" x=\"138.5\" y=\"217.5\"/><text fill=\"#000000\" font-family=\"sans-serif\" font-size=\"12\" font-style=\"italic\" lengthAdjust=\"spacingAndGlyphs\" textLength=\"69\" x=\"139.5\" y=\"233.6387\">«attribute»</text><text fill=\"#000000\" font-family=\"sans-serif\" font-size=\"12\" lengthAdjust=\"spacingAndGlyphs\" textLength=\"6\" x=\"171\" y=\"247.6074\">y</text><line style=\"stroke: #383838; stroke-width: 1.5;\" x1=\"139.5\" x2=\"208.5\" y1=\"255.4375\" y2=\"255.4375\"/></a><!--MD5=[b9389687b975829384b498ac4b7476b2]\n",
       "class E8--><a href=\"psysml:da180d87-042d-4ade-81c9-b5201399a446\" target=\"_top\" title=\"psysml:da180d87-042d-4ade-81c9-b5201399a446\" xlink:actuate=\"onRequest\" xlink:href=\"psysml:da180d87-042d-4ade-81c9-b5201399a446\" xlink:show=\"new\" xlink:title=\"psysml:da180d87-042d-4ade-81c9-b5201399a446\" xlink:type=\"simple\"><rect fill=\"#FFFFFF\" height=\"45.9375\" id=\"E8\" rx=\"10\" ry=\"10\" style=\"stroke: #383838; stroke-width: 1.5;\" width=\"71\" x=\"84.5\" y=\"87.5\"/><text fill=\"#000000\" font-family=\"sans-serif\" font-size=\"12\" font-style=\"italic\" lengthAdjust=\"spacingAndGlyphs\" textLength=\"69\" x=\"85.5\" y=\"103.6387\">«attribute»</text><text fill=\"#000000\" font-family=\"sans-serif\" font-size=\"12\" lengthAdjust=\"spacingAndGlyphs\" textLength=\"5\" x=\"117.5\" y=\"117.6074\">z</text><line style=\"stroke: #383838; stroke-width: 1.5;\" x1=\"85.5\" x2=\"154.5\" y1=\"125.4375\" y2=\"125.4375\"/></a><a href=\"psysml:7bbe8935-ee6e-44c3-abf9-e711bcee98e7\" target=\"_top\" title=\"psysml:7bbe8935-ee6e-44c3-abf9-e711bcee98e7\" xlink:actuate=\"onRequest\" xlink:href=\"psysml:7bbe8935-ee6e-44c3-abf9-e711bcee98e7\" xlink:show=\"new\" xlink:title=\"psysml:7bbe8935-ee6e-44c3-abf9-e711bcee98e7\" xlink:type=\"simple\"><polygon fill=\"#FFFFFF\" points=\"271,84,413,84,420,106.2969,427,106.2969,427,136.5938,271,136.5938,271,84\" style=\"stroke: #000000; stroke-width: 1.5;\"/><line style=\"stroke: #000000; stroke-width: 1.5;\" x1=\"271\" x2=\"420\" y1=\"106.2969\" y2=\"106.2969\"/><text fill=\"#000000\" font-family=\"sans-serif\" font-size=\"14\" font-weight=\"bold\" lengthAdjust=\"spacingAndGlyphs\" textLength=\"136\" x=\"275\" y=\"98.9951\">Application Layer</text></a><a href=\"psysml:8539df59-9777-43d1-9cbc-191f1e3b0af0\" target=\"_top\" title=\"psysml:8539df59-9777-43d1-9cbc-191f1e3b0af0\" xlink:actuate=\"onRequest\" xlink:href=\"psysml:8539df59-9777-43d1-9cbc-191f1e3b0af0\" xlink:show=\"new\" xlink:title=\"psysml:8539df59-9777-43d1-9cbc-191f1e3b0af0\" xlink:type=\"simple\"><polygon fill=\"#FFFFFF\" points=\"285,214,399,214,406,236.2969,413,236.2969,413,266.5938,285,266.5938,285,214\" style=\"stroke: #000000; stroke-width: 1.5;\"/><line style=\"stroke: #000000; stroke-width: 1.5;\" x1=\"285\" x2=\"406\" y1=\"236.2969\" y2=\"236.2969\"/><text fill=\"#000000\" font-family=\"sans-serif\" font-size=\"14\" font-weight=\"bold\" lengthAdjust=\"spacingAndGlyphs\" textLength=\"108\" x=\"289\" y=\"228.9951\">Service Layer</text></a><a href=\"psysml:06e8cf4d-e880-4b5c-8fdb-0871598a4cb3\" target=\"_top\" title=\"psysml:06e8cf4d-e880-4b5c-8fdb-0871598a4cb3\" xlink:actuate=\"onRequest\" xlink:href=\"psysml:06e8cf4d-e880-4b5c-8fdb-0871598a4cb3\" xlink:show=\"new\" xlink:title=\"psysml:06e8cf4d-e880-4b5c-8fdb-0871598a4cb3\" xlink:type=\"simple\"><polygon fill=\"#FFFFFF\" points=\"297,344,387,344,394,366.2969,401,366.2969,401,396.5938,297,396.5938,297,344\" style=\"stroke: #000000; stroke-width: 1.5;\"/><line style=\"stroke: #000000; stroke-width: 1.5;\" x1=\"297\" x2=\"394\" y1=\"366.2969\" y2=\"366.2969\"/><text fill=\"#000000\" font-family=\"sans-serif\" font-size=\"14\" font-weight=\"bold\" lengthAdjust=\"spacingAndGlyphs\" textLength=\"84\" x=\"301\" y=\"358.9951\">Data Layer</text></a><!--MD5=[af87c684e3b0d8be13c1a698a818ef1e]\n",
       "link E3 to E4--><a href=\"psysml:ddd06611-1e40-467d-8133-a183585a6da5\" target=\"_top\" title=\"psysml:ddd06611-1e40-467d-8133-a183585a6da5\" xlink:actuate=\"onRequest\" xlink:href=\"psysml:ddd06611-1e40-467d-8133-a183585a6da5\" xlink:show=\"new\" xlink:title=\"psysml:ddd06611-1e40-467d-8133-a183585a6da5\" xlink:type=\"simple\"><path d=\"M349,137.1 C349,156.8 349,184.22 349,205.73 \" fill=\"none\" id=\"E3-&gt;E4\" style=\"stroke: #383838; stroke-width: 1.0; stroke-dasharray: 7.0,7.0;\"/><polygon fill=\"#383838\" points=\"349,213.95,352,205.95,346,205.95,349,213.95\" style=\"stroke: #383838; stroke-width: 1.0;\"/><text fill=\"#000000\" font-family=\"sans-serif\" font-size=\"13\" lengthAdjust=\"spacingAndGlyphs\" textLength=\"64\" x=\"350\" y=\"180.0669\">«depend»</text></a><!--MD5=[1b7591eae5389033d8d09a9d6721a717]\n",
       "link E4 to E5--><a href=\"psysml:b5c0928c-fbc9-4433-ab1e-c084bfbcebd5\" target=\"_top\" title=\"psysml:b5c0928c-fbc9-4433-ab1e-c084bfbcebd5\" xlink:actuate=\"onRequest\" xlink:href=\"psysml:b5c0928c-fbc9-4433-ab1e-c084bfbcebd5\" xlink:show=\"new\" xlink:title=\"psysml:b5c0928c-fbc9-4433-ab1e-c084bfbcebd5\" xlink:type=\"simple\"><path d=\"M349,267.1 C349,286.8 349,314.22 349,335.73 \" fill=\"none\" id=\"E4-&gt;E5\" style=\"stroke: #383838; stroke-width: 1.0; stroke-dasharray: 7.0,7.0;\"/><polygon fill=\"#383838\" points=\"349,343.95,352,335.95,346,335.95,349,343.95\" style=\"stroke: #383838; stroke-width: 1.0;\"/><text fill=\"#000000\" font-family=\"sans-serif\" font-size=\"13\" lengthAdjust=\"spacingAndGlyphs\" textLength=\"64\" x=\"350\" y=\"310.0669\">«depend»</text></a><!--MD5=[c5e8897d989ce984f93528998a7150fe]\n",
       "link E8 to E6--><a href=\"psysml:a0e318cd-0c17-433c-bc04-dbf1eaa3473c\" target=\"_top\" title=\"psysml:a0e318cd-0c17-433c-bc04-dbf1eaa3473c\" xlink:actuate=\"onRequest\" xlink:href=\"psysml:a0e318cd-0c17-433c-bc04-dbf1eaa3473c\" xlink:show=\"new\" xlink:title=\"psysml:a0e318cd-0c17-433c-bc04-dbf1eaa3473c\" xlink:type=\"simple\"><path d=\"M89.42,133.6 C79.35,142.68 69.37,154.11 64,167 C58.5,180.2 58.66,195.94 60.54,209.38 \" fill=\"none\" id=\"E8-&gt;E6\" style=\"stroke: #383838; stroke-width: 1.0; stroke-dasharray: 7.0,7.0;\"/><polygon fill=\"#383838\" points=\"61.9,217.4,63.517,209.0104,57.6018,210.0159,61.9,217.4\" style=\"stroke: #383838; stroke-width: 1.0;\"/><text fill=\"#000000\" font-family=\"sans-serif\" font-size=\"13\" lengthAdjust=\"spacingAndGlyphs\" textLength=\"64\" x=\"65\" y=\"180.0669\">«depend»</text></a><!--MD5=[bfa3c8b0d15052fdf50ae9310b491027]\n",
       "link E8 to E7--><a href=\"psysml:a0e318cd-0c17-433c-bc04-dbf1eaa3473c\" target=\"_top\" title=\"psysml:a0e318cd-0c17-433c-bc04-dbf1eaa3473c\" xlink:actuate=\"onRequest\" xlink:href=\"psysml:a0e318cd-0c17-433c-bc04-dbf1eaa3473c\" xlink:show=\"new\" xlink:title=\"psysml:a0e318cd-0c17-433c-bc04-dbf1eaa3473c\" xlink:type=\"simple\"><path d=\"M129.28,133.5 C138.17,154.57 151.64,186.5 161.47,209.81 \" fill=\"none\" id=\"E8-&gt;E7\" style=\"stroke: #383838; stroke-width: 1.0; stroke-dasharray: 7.0,7.0;\"/><polygon fill=\"#383838\" points=\"164.66,217.35,164.3241,208.8126,158.7933,211.1385,164.66,217.35\" style=\"stroke: #383838; stroke-width: 1.0;\"/><text fill=\"#000000\" font-family=\"sans-serif\" font-size=\"13\" lengthAdjust=\"spacingAndGlyphs\" textLength=\"64\" x=\"151\" y=\"180.0669\">«depend»</text></a><!--MD5=[1d429b1c38248c08e0a7ad00faea97c8]\n",
       "@startuml\r\n",
       "top to bottom direction\r\n",
       "skinparam monochrome true\r\n",
       "skinparam classbackgroundcolor white\r\n",
       "skinparam shadowing false\r\n",
       "skinparam wrapWidth 300\r\n",
       "hide circle\r\n",
       "\r\n",
       "package \"DependencyTest\" as E1  [[psysml:01e86263-1e08-4c5e-80c8-9f3a01cb2b1c ]]  {\r\n",
       "package \"System\" as E2  [[psysml:65d9c171-277b-4a12-8988-537cd17218fe ]]  {\r\n",
       "package \"Application Layer\" as E3  [[psysml:7bbe8935-ee6e-44c3-abf9-e711bcee98e7 ]]  {\r\n",
       "}\r\n",
       "package \"Service Layer\" as E4  [[psysml:8539df59-9777-43d1-9cbc-191f1e3b0af0 ]]  {\r\n",
       "}\r\n",
       "package \"Data Layer\" as E5  [[psysml:06e8cf4d-e880-4b5c-8fdb-0871598a4cb3 ]]  {\r\n",
       "}\r\n",
       "}\r\n",
       "comp usage \"x\" as E6  <<(T,blue)attribute>> [[psysml:3f429861-8945-458a-afac-b9814097464d ]] {\r\n",
       "}\r\n",
       "comp usage \"y\" as E7  <<(T,blue)attribute>> [[psysml:f3318431-0d45-43ea-b254-330318c85eb0 ]] {\r\n",
       "}\r\n",
       "comp usage \"z\" as E8  <<(T,blue)attribute>> [[psysml:da180d87-042d-4ade-81c9-b5201399a446 ]] {\r\n",
       "}\r\n",
       "E3 ..>> E4 [[psysml:ddd06611-1e40-467d-8133-a183585a6da5 ]] : <<depend>>\r\n",
       "E4 ..>> E5 [[psysml:b5c0928c-fbc9-4433-ab1e-c084bfbcebd5 ]] : <<depend>>\r\n",
       "E8 ..>> E6 [[psysml:a0e318cd-0c17-433c-bc04-dbf1eaa3473c ]] : <<depend>>\r\n",
       "E8 ..>> E7 [[psysml:a0e318cd-0c17-433c-bc04-dbf1eaa3473c ]] : <<depend>>\r\n",
       "}\r\n",
       "@enduml\r\n",
       "\n",
       "PlantUML version 1.2020.13(Sat Jun 13 12:26:38 UTC 2020)\n",
       "(EPL source distribution)\n",
       "Java Runtime: OpenJDK Runtime Environment\n",
       "JVM: OpenJDK 64-Bit Server VM\n",
       "Default Encoding: UTF-8\n",
       "Language: en\n",
       "Country: null\n",
       "--></g></svg>"
      ]
     },
     "execution_count": 50,
     "metadata": {},
     "output_type": "execute_result"
    }
   ],
   "source": [
    "%viz --style=\"TB\" --view=\"MIXED\" \"DependencyTest\""
   ]
  },
  {
   "cell_type": "code",
   "execution_count": 51,
   "id": "shared-welsh",
   "metadata": {
    "execution": {
     "iopub.execute_input": "2021-03-25T15:09:51.801087Z",
     "iopub.status.busy": "2021-03-25T15:09:51.800616Z",
     "iopub.status.idle": "2021-03-25T15:09:51.901095Z",
     "shell.execute_reply": "2021-03-25T15:09:51.900766Z"
    }
   },
   "outputs": [
    {
     "data": {
      "image/svg+xml": [
       "<?xml version=\"1.0\" encoding=\"UTF-8\" standalone=\"no\"?><svg xmlns=\"http://www.w3.org/2000/svg\" xmlns:xlink=\"http://www.w3.org/1999/xlink\" contentScriptType=\"application/ecmascript\" contentStyleType=\"text/css\" height=\"449px\" preserveAspectRatio=\"none\" style=\"width:489px;height:449px;\" version=\"1.1\" viewBox=\"0 0 489 449\" width=\"489px\" zoomAndPan=\"magnify\"><defs/><g><!--MD5=[fbc87193dbaf4d95561dea2c320d4a47]\n",
       "cluster E1--><a href=\"psysml:01e86263-1e08-4c5e-80c8-9f3a01cb2b1c\" target=\"_top\" title=\"psysml:01e86263-1e08-4c5e-80c8-9f3a01cb2b1c\" xlink:actuate=\"onRequest\" xlink:href=\"psysml:01e86263-1e08-4c5e-80c8-9f3a01cb2b1c\" xlink:show=\"new\" xlink:title=\"psysml:01e86263-1e08-4c5e-80c8-9f3a01cb2b1c\" xlink:type=\"simple\"><polygon fill=\"#FFFFFF\" points=\"16,6,156,6,163,28.2969,467,28.2969,467,437,16,437,16,6\" style=\"stroke: #000000; stroke-width: 1.5;\"/><line style=\"stroke: #000000; stroke-width: 1.5;\" x1=\"16\" x2=\"163\" y1=\"28.2969\" y2=\"28.2969\"/><text fill=\"#000000\" font-family=\"sans-serif\" font-size=\"14\" font-weight=\"bold\" lengthAdjust=\"spacingAndGlyphs\" textLength=\"134\" x=\"20\" y=\"20.9951\">DependencyTest</text></a><!--MD5=[e4f7fae6ed58524ba242bb0b0d3be6b7]\n",
       "cluster E2--><a href=\"psysml:65d9c171-277b-4a12-8988-537cd17218fe\" target=\"_top\" title=\"psysml:65d9c171-277b-4a12-8988-537cd17218fe\" xlink:actuate=\"onRequest\" xlink:href=\"psysml:65d9c171-277b-4a12-8988-537cd17218fe\" xlink:show=\"new\" xlink:title=\"psysml:65d9c171-277b-4a12-8988-537cd17218fe\" xlink:type=\"simple\"><polygon fill=\"#FFFFFF\" points=\"255,49,319,49,326,71.2969,443,71.2969,443,413,255,413,255,49\" style=\"stroke: #000000; stroke-width: 1.5;\"/><line style=\"stroke: #000000; stroke-width: 1.5;\" x1=\"255\" x2=\"326\" y1=\"71.2969\" y2=\"71.2969\"/><text fill=\"#000000\" font-family=\"sans-serif\" font-size=\"14\" font-weight=\"bold\" lengthAdjust=\"spacingAndGlyphs\" textLength=\"58\" x=\"259\" y=\"63.9951\">System</text></a><!--MD5=[60a26617385b1d2d0262a64233df1f8d]\n",
       "class E6--><a href=\"psysml:3f429861-8945-458a-afac-b9814097464d\" target=\"_top\" title=\"psysml:3f429861-8945-458a-afac-b9814097464d\" xlink:actuate=\"onRequest\" xlink:href=\"psysml:3f429861-8945-458a-afac-b9814097464d\" xlink:show=\"new\" xlink:title=\"psysml:3f429861-8945-458a-afac-b9814097464d\" xlink:type=\"simple\"><rect fill=\"#FFFFFF\" height=\"45.9375\" id=\"E6\" rx=\"10\" ry=\"10\" style=\"stroke: #383838; stroke-width: 1.5;\" width=\"71\" x=\"32.5\" y=\"217.5\"/><text fill=\"#000000\" font-family=\"sans-serif\" font-size=\"12\" font-style=\"italic\" lengthAdjust=\"spacingAndGlyphs\" textLength=\"69\" x=\"33.5\" y=\"233.6387\">«attribute»</text><text fill=\"#000000\" font-family=\"sans-serif\" font-size=\"12\" lengthAdjust=\"spacingAndGlyphs\" textLength=\"6\" x=\"65\" y=\"247.6074\">x</text><line style=\"stroke: #383838; stroke-width: 1.5;\" x1=\"33.5\" x2=\"102.5\" y1=\"255.4375\" y2=\"255.4375\"/></a><!--MD5=[2156ba9850f5573cc1fc38a6a4b2f02b]\n",
       "class E7--><a href=\"psysml:f3318431-0d45-43ea-b254-330318c85eb0\" target=\"_top\" title=\"psysml:f3318431-0d45-43ea-b254-330318c85eb0\" xlink:actuate=\"onRequest\" xlink:href=\"psysml:f3318431-0d45-43ea-b254-330318c85eb0\" xlink:show=\"new\" xlink:title=\"psysml:f3318431-0d45-43ea-b254-330318c85eb0\" xlink:type=\"simple\"><rect fill=\"#FFFFFF\" height=\"45.9375\" id=\"E7\" rx=\"10\" ry=\"10\" style=\"stroke: #383838; stroke-width: 1.5;\" width=\"71\" x=\"138.5\" y=\"217.5\"/><text fill=\"#000000\" font-family=\"sans-serif\" font-size=\"12\" font-style=\"italic\" lengthAdjust=\"spacingAndGlyphs\" textLength=\"69\" x=\"139.5\" y=\"233.6387\">«attribute»</text><text fill=\"#000000\" font-family=\"sans-serif\" font-size=\"12\" lengthAdjust=\"spacingAndGlyphs\" textLength=\"6\" x=\"171\" y=\"247.6074\">y</text><line style=\"stroke: #383838; stroke-width: 1.5;\" x1=\"139.5\" x2=\"208.5\" y1=\"255.4375\" y2=\"255.4375\"/></a><!--MD5=[b9389687b975829384b498ac4b7476b2]\n",
       "class E8--><a href=\"psysml:da180d87-042d-4ade-81c9-b5201399a446\" target=\"_top\" title=\"psysml:da180d87-042d-4ade-81c9-b5201399a446\" xlink:actuate=\"onRequest\" xlink:href=\"psysml:da180d87-042d-4ade-81c9-b5201399a446\" xlink:show=\"new\" xlink:title=\"psysml:da180d87-042d-4ade-81c9-b5201399a446\" xlink:type=\"simple\"><rect fill=\"#FFFFFF\" height=\"45.9375\" id=\"E8\" rx=\"10\" ry=\"10\" style=\"stroke: #383838; stroke-width: 1.5;\" width=\"71\" x=\"84.5\" y=\"87.5\"/><text fill=\"#000000\" font-family=\"sans-serif\" font-size=\"12\" font-style=\"italic\" lengthAdjust=\"spacingAndGlyphs\" textLength=\"69\" x=\"85.5\" y=\"103.6387\">«attribute»</text><text fill=\"#000000\" font-family=\"sans-serif\" font-size=\"12\" lengthAdjust=\"spacingAndGlyphs\" textLength=\"5\" x=\"117.5\" y=\"117.6074\">z</text><line style=\"stroke: #383838; stroke-width: 1.5;\" x1=\"85.5\" x2=\"154.5\" y1=\"125.4375\" y2=\"125.4375\"/></a><a href=\"psysml:7bbe8935-ee6e-44c3-abf9-e711bcee98e7\" target=\"_top\" title=\"psysml:7bbe8935-ee6e-44c3-abf9-e711bcee98e7\" xlink:actuate=\"onRequest\" xlink:href=\"psysml:7bbe8935-ee6e-44c3-abf9-e711bcee98e7\" xlink:show=\"new\" xlink:title=\"psysml:7bbe8935-ee6e-44c3-abf9-e711bcee98e7\" xlink:type=\"simple\"><polygon fill=\"#FFFFFF\" points=\"271,84,413,84,420,106.2969,427,106.2969,427,136.5938,271,136.5938,271,84\" style=\"stroke: #000000; stroke-width: 1.5;\"/><line style=\"stroke: #000000; stroke-width: 1.5;\" x1=\"271\" x2=\"420\" y1=\"106.2969\" y2=\"106.2969\"/><text fill=\"#000000\" font-family=\"sans-serif\" font-size=\"14\" font-weight=\"bold\" lengthAdjust=\"spacingAndGlyphs\" textLength=\"136\" x=\"275\" y=\"98.9951\">Application Layer</text></a><a href=\"psysml:8539df59-9777-43d1-9cbc-191f1e3b0af0\" target=\"_top\" title=\"psysml:8539df59-9777-43d1-9cbc-191f1e3b0af0\" xlink:actuate=\"onRequest\" xlink:href=\"psysml:8539df59-9777-43d1-9cbc-191f1e3b0af0\" xlink:show=\"new\" xlink:title=\"psysml:8539df59-9777-43d1-9cbc-191f1e3b0af0\" xlink:type=\"simple\"><polygon fill=\"#FFFFFF\" points=\"285,214,399,214,406,236.2969,413,236.2969,413,266.5938,285,266.5938,285,214\" style=\"stroke: #000000; stroke-width: 1.5;\"/><line style=\"stroke: #000000; stroke-width: 1.5;\" x1=\"285\" x2=\"406\" y1=\"236.2969\" y2=\"236.2969\"/><text fill=\"#000000\" font-family=\"sans-serif\" font-size=\"14\" font-weight=\"bold\" lengthAdjust=\"spacingAndGlyphs\" textLength=\"108\" x=\"289\" y=\"228.9951\">Service Layer</text></a><a href=\"psysml:06e8cf4d-e880-4b5c-8fdb-0871598a4cb3\" target=\"_top\" title=\"psysml:06e8cf4d-e880-4b5c-8fdb-0871598a4cb3\" xlink:actuate=\"onRequest\" xlink:href=\"psysml:06e8cf4d-e880-4b5c-8fdb-0871598a4cb3\" xlink:show=\"new\" xlink:title=\"psysml:06e8cf4d-e880-4b5c-8fdb-0871598a4cb3\" xlink:type=\"simple\"><polygon fill=\"#FFFFFF\" points=\"297,344,387,344,394,366.2969,401,366.2969,401,396.5938,297,396.5938,297,344\" style=\"stroke: #000000; stroke-width: 1.5;\"/><line style=\"stroke: #000000; stroke-width: 1.5;\" x1=\"297\" x2=\"394\" y1=\"366.2969\" y2=\"366.2969\"/><text fill=\"#000000\" font-family=\"sans-serif\" font-size=\"14\" font-weight=\"bold\" lengthAdjust=\"spacingAndGlyphs\" textLength=\"84\" x=\"301\" y=\"358.9951\">Data Layer</text></a><!--MD5=[af87c684e3b0d8be13c1a698a818ef1e]\n",
       "link E3 to E4--><a href=\"psysml:ddd06611-1e40-467d-8133-a183585a6da5\" target=\"_top\" title=\"psysml:ddd06611-1e40-467d-8133-a183585a6da5\" xlink:actuate=\"onRequest\" xlink:href=\"psysml:ddd06611-1e40-467d-8133-a183585a6da5\" xlink:show=\"new\" xlink:title=\"psysml:ddd06611-1e40-467d-8133-a183585a6da5\" xlink:type=\"simple\"><path d=\"M349,137.12 C349,137.12 349,205.91 349,205.91 \" fill=\"none\" id=\"E3-&gt;E4\" style=\"stroke: #383838; stroke-width: 1.0; stroke-dasharray: 7.0,7.0;\"/><polygon fill=\"#383838\" points=\"349,213.91,352,205.91,346,205.91,349,213.91\" style=\"stroke: #383838; stroke-width: 1.0;\"/><text fill=\"#000000\" font-family=\"sans-serif\" font-size=\"13\" lengthAdjust=\"spacingAndGlyphs\" textLength=\"64\" x=\"350\" y=\"180.0669\">«depend»</text></a><!--MD5=[1b7591eae5389033d8d09a9d6721a717]\n",
       "link E4 to E5--><a href=\"psysml:b5c0928c-fbc9-4433-ab1e-c084bfbcebd5\" target=\"_top\" title=\"psysml:b5c0928c-fbc9-4433-ab1e-c084bfbcebd5\" xlink:actuate=\"onRequest\" xlink:href=\"psysml:b5c0928c-fbc9-4433-ab1e-c084bfbcebd5\" xlink:show=\"new\" xlink:title=\"psysml:b5c0928c-fbc9-4433-ab1e-c084bfbcebd5\" xlink:type=\"simple\"><path d=\"M349,267.12 C349,267.12 349,335.91 349,335.91 \" fill=\"none\" id=\"E4-&gt;E5\" style=\"stroke: #383838; stroke-width: 1.0; stroke-dasharray: 7.0,7.0;\"/><polygon fill=\"#383838\" points=\"349,343.91,352,335.91,346,335.91,349,343.91\" style=\"stroke: #383838; stroke-width: 1.0;\"/><text fill=\"#000000\" font-family=\"sans-serif\" font-size=\"13\" lengthAdjust=\"spacingAndGlyphs\" textLength=\"64\" x=\"350\" y=\"310.0669\">«depend»</text></a><!--MD5=[c5e8897d989ce984f93528998a7150fe]\n",
       "link E8 to E6--><a href=\"psysml:a0e318cd-0c17-433c-bc04-dbf1eaa3473c\" target=\"_top\" title=\"psysml:a0e318cd-0c17-433c-bc04-dbf1eaa3473c\" xlink:actuate=\"onRequest\" xlink:href=\"psysml:a0e318cd-0c17-433c-bc04-dbf1eaa3473c\" xlink:show=\"new\" xlink:title=\"psysml:a0e318cd-0c17-433c-bc04-dbf1eaa3473c\" xlink:type=\"simple\"><path d=\"M94,133.74 C94,133.74 94,209.46 94,209.46 \" fill=\"none\" id=\"E8-&gt;E6\" style=\"stroke: #383838; stroke-width: 1.0; stroke-dasharray: 7.0,7.0;\"/><polygon fill=\"#383838\" points=\"94,217.46,97,209.46,91,209.46,94,217.46\" style=\"stroke: #383838; stroke-width: 1.0;\"/><text fill=\"#000000\" font-family=\"sans-serif\" font-size=\"13\" lengthAdjust=\"spacingAndGlyphs\" textLength=\"64\" x=\"68\" y=\"180.0669\">«depend»</text></a><!--MD5=[bfa3c8b0d15052fdf50ae9310b491027]\n",
       "link E8 to E7--><a href=\"psysml:a0e318cd-0c17-433c-bc04-dbf1eaa3473c\" target=\"_top\" title=\"psysml:a0e318cd-0c17-433c-bc04-dbf1eaa3473c\" xlink:actuate=\"onRequest\" xlink:href=\"psysml:a0e318cd-0c17-433c-bc04-dbf1eaa3473c\" xlink:show=\"new\" xlink:title=\"psysml:a0e318cd-0c17-433c-bc04-dbf1eaa3473c\" xlink:type=\"simple\"><path d=\"M147,133.74 C147,133.74 147,209.46 147,209.46 \" fill=\"none\" id=\"E8-&gt;E7\" style=\"stroke: #383838; stroke-width: 1.0; stroke-dasharray: 7.0,7.0;\"/><polygon fill=\"#383838\" points=\"147,217.46,150,209.46,144,209.46,147,217.46\" style=\"stroke: #383838; stroke-width: 1.0;\"/><text fill=\"#000000\" font-family=\"sans-serif\" font-size=\"13\" lengthAdjust=\"spacingAndGlyphs\" textLength=\"64\" x=\"174\" y=\"180.0669\">«depend»</text></a><!--MD5=[cc4951d41916e70ff94d5083e33b2268]\n",
       "@startuml\r\n",
       "skinparam linetype ortho\r\n",
       "skinparam monochrome true\r\n",
       "skinparam classbackgroundcolor white\r\n",
       "skinparam shadowing false\r\n",
       "skinparam wrapWidth 300\r\n",
       "hide circle\r\n",
       "\r\n",
       "package \"DependencyTest\" as E1  [[psysml:01e86263-1e08-4c5e-80c8-9f3a01cb2b1c ]]  {\r\n",
       "package \"System\" as E2  [[psysml:65d9c171-277b-4a12-8988-537cd17218fe ]]  {\r\n",
       "package \"Application Layer\" as E3  [[psysml:7bbe8935-ee6e-44c3-abf9-e711bcee98e7 ]]  {\r\n",
       "}\r\n",
       "package \"Service Layer\" as E4  [[psysml:8539df59-9777-43d1-9cbc-191f1e3b0af0 ]]  {\r\n",
       "}\r\n",
       "package \"Data Layer\" as E5  [[psysml:06e8cf4d-e880-4b5c-8fdb-0871598a4cb3 ]]  {\r\n",
       "}\r\n",
       "}\r\n",
       "comp usage \"x\" as E6  <<(T,blue)attribute>> [[psysml:3f429861-8945-458a-afac-b9814097464d ]] {\r\n",
       "}\r\n",
       "comp usage \"y\" as E7  <<(T,blue)attribute>> [[psysml:f3318431-0d45-43ea-b254-330318c85eb0 ]] {\r\n",
       "}\r\n",
       "comp usage \"z\" as E8  <<(T,blue)attribute>> [[psysml:da180d87-042d-4ade-81c9-b5201399a446 ]] {\r\n",
       "}\r\n",
       "E3 ..>> E4 [[psysml:ddd06611-1e40-467d-8133-a183585a6da5 ]] : <<depend>>\r\n",
       "E4 ..>> E5 [[psysml:b5c0928c-fbc9-4433-ab1e-c084bfbcebd5 ]] : <<depend>>\r\n",
       "E8 ..>> E6 [[psysml:a0e318cd-0c17-433c-bc04-dbf1eaa3473c ]] : <<depend>>\r\n",
       "E8 ..>> E7 [[psysml:a0e318cd-0c17-433c-bc04-dbf1eaa3473c ]] : <<depend>>\r\n",
       "}\r\n",
       "@enduml\r\n",
       "\n",
       "PlantUML version 1.2020.13(Sat Jun 13 12:26:38 UTC 2020)\n",
       "(EPL source distribution)\n",
       "Java Runtime: OpenJDK Runtime Environment\n",
       "JVM: OpenJDK 64-Bit Server VM\n",
       "Default Encoding: UTF-8\n",
       "Language: en\n",
       "Country: null\n",
       "--></g></svg>"
      ]
     },
     "execution_count": 51,
     "metadata": {},
     "output_type": "execute_result"
    }
   ],
   "source": [
    "%viz --style=\"ORTHOLINE\" --view=\"Default\" \"DependencyTest\""
   ]
  },
  {
   "cell_type": "code",
   "execution_count": 52,
   "id": "moved-damages",
   "metadata": {
    "execution": {
     "iopub.execute_input": "2021-03-25T15:09:51.951216Z",
     "iopub.status.busy": "2021-03-25T15:09:51.950824Z",
     "iopub.status.idle": "2021-03-25T15:09:52.046463Z",
     "shell.execute_reply": "2021-03-25T15:09:52.044678Z"
    }
   },
   "outputs": [
    {
     "data": {
      "image/svg+xml": [
       "<?xml version=\"1.0\" encoding=\"UTF-8\" standalone=\"no\"?><svg xmlns=\"http://www.w3.org/2000/svg\" xmlns:xlink=\"http://www.w3.org/1999/xlink\" contentScriptType=\"application/ecmascript\" contentStyleType=\"text/css\" height=\"449px\" preserveAspectRatio=\"none\" style=\"width:489px;height:449px;\" version=\"1.1\" viewBox=\"0 0 489 449\" width=\"489px\" zoomAndPan=\"magnify\"><defs/><g><!--MD5=[fbc87193dbaf4d95561dea2c320d4a47]\n",
       "cluster E1--><a href=\"psysml:01e86263-1e08-4c5e-80c8-9f3a01cb2b1c\" target=\"_top\" title=\"psysml:01e86263-1e08-4c5e-80c8-9f3a01cb2b1c\" xlink:actuate=\"onRequest\" xlink:href=\"psysml:01e86263-1e08-4c5e-80c8-9f3a01cb2b1c\" xlink:show=\"new\" xlink:title=\"psysml:01e86263-1e08-4c5e-80c8-9f3a01cb2b1c\" xlink:type=\"simple\"><polygon fill=\"#FFFFFF\" points=\"16,6,156,6,163,28.2969,467,28.2969,467,437,16,437,16,6\" style=\"stroke: #000000; stroke-width: 1.5;\"/><line style=\"stroke: #000000; stroke-width: 1.5;\" x1=\"16\" x2=\"163\" y1=\"28.2969\" y2=\"28.2969\"/><text fill=\"#000000\" font-family=\"sans-serif\" font-size=\"14\" font-weight=\"bold\" lengthAdjust=\"spacingAndGlyphs\" textLength=\"134\" x=\"20\" y=\"20.9951\">DependencyTest</text></a><!--MD5=[e4f7fae6ed58524ba242bb0b0d3be6b7]\n",
       "cluster E2--><a href=\"psysml:65d9c171-277b-4a12-8988-537cd17218fe\" target=\"_top\" title=\"psysml:65d9c171-277b-4a12-8988-537cd17218fe\" xlink:actuate=\"onRequest\" xlink:href=\"psysml:65d9c171-277b-4a12-8988-537cd17218fe\" xlink:show=\"new\" xlink:title=\"psysml:65d9c171-277b-4a12-8988-537cd17218fe\" xlink:type=\"simple\"><polygon fill=\"#FFFFFF\" points=\"255,49,319,49,326,71.2969,443,71.2969,443,413,255,413,255,49\" style=\"stroke: #000000; stroke-width: 1.5;\"/><line style=\"stroke: #000000; stroke-width: 1.5;\" x1=\"255\" x2=\"326\" y1=\"71.2969\" y2=\"71.2969\"/><text fill=\"#000000\" font-family=\"sans-serif\" font-size=\"14\" font-weight=\"bold\" lengthAdjust=\"spacingAndGlyphs\" textLength=\"58\" x=\"259\" y=\"63.9951\">System</text></a><!--MD5=[60a26617385b1d2d0262a64233df1f8d]\n",
       "class E6--><a href=\"psysml:3f429861-8945-458a-afac-b9814097464d\" target=\"_top\" title=\"psysml:3f429861-8945-458a-afac-b9814097464d\" xlink:actuate=\"onRequest\" xlink:href=\"psysml:3f429861-8945-458a-afac-b9814097464d\" xlink:show=\"new\" xlink:title=\"psysml:3f429861-8945-458a-afac-b9814097464d\" xlink:type=\"simple\"><rect fill=\"#FFFFFF\" height=\"45.9375\" id=\"E6\" rx=\"10\" ry=\"10\" style=\"stroke: #383838; stroke-width: 1.5;\" width=\"71\" x=\"32.5\" y=\"217.5\"/><text fill=\"#000000\" font-family=\"sans-serif\" font-size=\"12\" font-style=\"italic\" lengthAdjust=\"spacingAndGlyphs\" textLength=\"69\" x=\"33.5\" y=\"233.6387\">«attribute»</text><text fill=\"#000000\" font-family=\"sans-serif\" font-size=\"12\" lengthAdjust=\"spacingAndGlyphs\" textLength=\"6\" x=\"65\" y=\"247.6074\">x</text><line style=\"stroke: #383838; stroke-width: 1.5;\" x1=\"33.5\" x2=\"102.5\" y1=\"255.4375\" y2=\"255.4375\"/></a><!--MD5=[2156ba9850f5573cc1fc38a6a4b2f02b]\n",
       "class E7--><a href=\"psysml:f3318431-0d45-43ea-b254-330318c85eb0\" target=\"_top\" title=\"psysml:f3318431-0d45-43ea-b254-330318c85eb0\" xlink:actuate=\"onRequest\" xlink:href=\"psysml:f3318431-0d45-43ea-b254-330318c85eb0\" xlink:show=\"new\" xlink:title=\"psysml:f3318431-0d45-43ea-b254-330318c85eb0\" xlink:type=\"simple\"><rect fill=\"#FFFFFF\" height=\"45.9375\" id=\"E7\" rx=\"10\" ry=\"10\" style=\"stroke: #383838; stroke-width: 1.5;\" width=\"71\" x=\"138.5\" y=\"217.5\"/><text fill=\"#000000\" font-family=\"sans-serif\" font-size=\"12\" font-style=\"italic\" lengthAdjust=\"spacingAndGlyphs\" textLength=\"69\" x=\"139.5\" y=\"233.6387\">«attribute»</text><text fill=\"#000000\" font-family=\"sans-serif\" font-size=\"12\" lengthAdjust=\"spacingAndGlyphs\" textLength=\"6\" x=\"171\" y=\"247.6074\">y</text><line style=\"stroke: #383838; stroke-width: 1.5;\" x1=\"139.5\" x2=\"208.5\" y1=\"255.4375\" y2=\"255.4375\"/></a><!--MD5=[b9389687b975829384b498ac4b7476b2]\n",
       "class E8--><a href=\"psysml:da180d87-042d-4ade-81c9-b5201399a446\" target=\"_top\" title=\"psysml:da180d87-042d-4ade-81c9-b5201399a446\" xlink:actuate=\"onRequest\" xlink:href=\"psysml:da180d87-042d-4ade-81c9-b5201399a446\" xlink:show=\"new\" xlink:title=\"psysml:da180d87-042d-4ade-81c9-b5201399a446\" xlink:type=\"simple\"><rect fill=\"#FFFFFF\" height=\"45.9375\" id=\"E8\" rx=\"10\" ry=\"10\" style=\"stroke: #383838; stroke-width: 1.5;\" width=\"71\" x=\"84.5\" y=\"87.5\"/><text fill=\"#000000\" font-family=\"sans-serif\" font-size=\"12\" font-style=\"italic\" lengthAdjust=\"spacingAndGlyphs\" textLength=\"69\" x=\"85.5\" y=\"103.6387\">«attribute»</text><text fill=\"#000000\" font-family=\"sans-serif\" font-size=\"12\" lengthAdjust=\"spacingAndGlyphs\" textLength=\"5\" x=\"117.5\" y=\"117.6074\">z</text><line style=\"stroke: #383838; stroke-width: 1.5;\" x1=\"85.5\" x2=\"154.5\" y1=\"125.4375\" y2=\"125.4375\"/></a><a href=\"psysml:7bbe8935-ee6e-44c3-abf9-e711bcee98e7\" target=\"_top\" title=\"psysml:7bbe8935-ee6e-44c3-abf9-e711bcee98e7\" xlink:actuate=\"onRequest\" xlink:href=\"psysml:7bbe8935-ee6e-44c3-abf9-e711bcee98e7\" xlink:show=\"new\" xlink:title=\"psysml:7bbe8935-ee6e-44c3-abf9-e711bcee98e7\" xlink:type=\"simple\"><polygon fill=\"#FFFFFF\" points=\"271,84,413,84,420,106.2969,427,106.2969,427,136.5938,271,136.5938,271,84\" style=\"stroke: #000000; stroke-width: 1.5;\"/><line style=\"stroke: #000000; stroke-width: 1.5;\" x1=\"271\" x2=\"420\" y1=\"106.2969\" y2=\"106.2969\"/><text fill=\"#000000\" font-family=\"sans-serif\" font-size=\"14\" font-weight=\"bold\" lengthAdjust=\"spacingAndGlyphs\" textLength=\"136\" x=\"275\" y=\"98.9951\">Application Layer</text></a><a href=\"psysml:8539df59-9777-43d1-9cbc-191f1e3b0af0\" target=\"_top\" title=\"psysml:8539df59-9777-43d1-9cbc-191f1e3b0af0\" xlink:actuate=\"onRequest\" xlink:href=\"psysml:8539df59-9777-43d1-9cbc-191f1e3b0af0\" xlink:show=\"new\" xlink:title=\"psysml:8539df59-9777-43d1-9cbc-191f1e3b0af0\" xlink:type=\"simple\"><polygon fill=\"#FFFFFF\" points=\"285,214,399,214,406,236.2969,413,236.2969,413,266.5938,285,266.5938,285,214\" style=\"stroke: #000000; stroke-width: 1.5;\"/><line style=\"stroke: #000000; stroke-width: 1.5;\" x1=\"285\" x2=\"406\" y1=\"236.2969\" y2=\"236.2969\"/><text fill=\"#000000\" font-family=\"sans-serif\" font-size=\"14\" font-weight=\"bold\" lengthAdjust=\"spacingAndGlyphs\" textLength=\"108\" x=\"289\" y=\"228.9951\">Service Layer</text></a><a href=\"psysml:06e8cf4d-e880-4b5c-8fdb-0871598a4cb3\" target=\"_top\" title=\"psysml:06e8cf4d-e880-4b5c-8fdb-0871598a4cb3\" xlink:actuate=\"onRequest\" xlink:href=\"psysml:06e8cf4d-e880-4b5c-8fdb-0871598a4cb3\" xlink:show=\"new\" xlink:title=\"psysml:06e8cf4d-e880-4b5c-8fdb-0871598a4cb3\" xlink:type=\"simple\"><polygon fill=\"#FFFFFF\" points=\"297,344,387,344,394,366.2969,401,366.2969,401,396.5938,297,396.5938,297,344\" style=\"stroke: #000000; stroke-width: 1.5;\"/><line style=\"stroke: #000000; stroke-width: 1.5;\" x1=\"297\" x2=\"394\" y1=\"366.2969\" y2=\"366.2969\"/><text fill=\"#000000\" font-family=\"sans-serif\" font-size=\"14\" font-weight=\"bold\" lengthAdjust=\"spacingAndGlyphs\" textLength=\"84\" x=\"301\" y=\"358.9951\">Data Layer</text></a><!--MD5=[af87c684e3b0d8be13c1a698a818ef1e]\n",
       "link E3 to E4--><a href=\"psysml:ddd06611-1e40-467d-8133-a183585a6da5\" target=\"_top\" title=\"psysml:ddd06611-1e40-467d-8133-a183585a6da5\" xlink:actuate=\"onRequest\" xlink:href=\"psysml:ddd06611-1e40-467d-8133-a183585a6da5\" xlink:show=\"new\" xlink:title=\"psysml:ddd06611-1e40-467d-8133-a183585a6da5\" xlink:type=\"simple\"><path d=\"M349,137.12 C349,137.12 349,205.91 349,205.91 \" fill=\"none\" id=\"E3-&gt;E4\" style=\"stroke: #383838; stroke-width: 1.0; stroke-dasharray: 7.0,7.0;\"/><polygon fill=\"#383838\" points=\"349,213.91,352,205.91,346,205.91,349,213.91\" style=\"stroke: #383838; stroke-width: 1.0;\"/><text fill=\"#000000\" font-family=\"sans-serif\" font-size=\"13\" lengthAdjust=\"spacingAndGlyphs\" textLength=\"64\" x=\"350\" y=\"180.0669\">«depend»</text></a><!--MD5=[1b7591eae5389033d8d09a9d6721a717]\n",
       "link E4 to E5--><a href=\"psysml:b5c0928c-fbc9-4433-ab1e-c084bfbcebd5\" target=\"_top\" title=\"psysml:b5c0928c-fbc9-4433-ab1e-c084bfbcebd5\" xlink:actuate=\"onRequest\" xlink:href=\"psysml:b5c0928c-fbc9-4433-ab1e-c084bfbcebd5\" xlink:show=\"new\" xlink:title=\"psysml:b5c0928c-fbc9-4433-ab1e-c084bfbcebd5\" xlink:type=\"simple\"><path d=\"M349,267.12 C349,267.12 349,335.91 349,335.91 \" fill=\"none\" id=\"E4-&gt;E5\" style=\"stroke: #383838; stroke-width: 1.0; stroke-dasharray: 7.0,7.0;\"/><polygon fill=\"#383838\" points=\"349,343.91,352,335.91,346,335.91,349,343.91\" style=\"stroke: #383838; stroke-width: 1.0;\"/><text fill=\"#000000\" font-family=\"sans-serif\" font-size=\"13\" lengthAdjust=\"spacingAndGlyphs\" textLength=\"64\" x=\"350\" y=\"310.0669\">«depend»</text></a><!--MD5=[c5e8897d989ce984f93528998a7150fe]\n",
       "link E8 to E6--><a href=\"psysml:a0e318cd-0c17-433c-bc04-dbf1eaa3473c\" target=\"_top\" title=\"psysml:a0e318cd-0c17-433c-bc04-dbf1eaa3473c\" xlink:actuate=\"onRequest\" xlink:href=\"psysml:a0e318cd-0c17-433c-bc04-dbf1eaa3473c\" xlink:show=\"new\" xlink:title=\"psysml:a0e318cd-0c17-433c-bc04-dbf1eaa3473c\" xlink:type=\"simple\"><path d=\"M94,133.74 C94,133.74 94,209.46 94,209.46 \" fill=\"none\" id=\"E8-&gt;E6\" style=\"stroke: #383838; stroke-width: 1.0; stroke-dasharray: 7.0,7.0;\"/><polygon fill=\"#383838\" points=\"94,217.46,97,209.46,91,209.46,94,217.46\" style=\"stroke: #383838; stroke-width: 1.0;\"/><text fill=\"#000000\" font-family=\"sans-serif\" font-size=\"13\" lengthAdjust=\"spacingAndGlyphs\" textLength=\"64\" x=\"68\" y=\"180.0669\">«depend»</text></a><!--MD5=[bfa3c8b0d15052fdf50ae9310b491027]\n",
       "link E8 to E7--><a href=\"psysml:a0e318cd-0c17-433c-bc04-dbf1eaa3473c\" target=\"_top\" title=\"psysml:a0e318cd-0c17-433c-bc04-dbf1eaa3473c\" xlink:actuate=\"onRequest\" xlink:href=\"psysml:a0e318cd-0c17-433c-bc04-dbf1eaa3473c\" xlink:show=\"new\" xlink:title=\"psysml:a0e318cd-0c17-433c-bc04-dbf1eaa3473c\" xlink:type=\"simple\"><path d=\"M147,133.74 C147,133.74 147,209.46 147,209.46 \" fill=\"none\" id=\"E8-&gt;E7\" style=\"stroke: #383838; stroke-width: 1.0; stroke-dasharray: 7.0,7.0;\"/><polygon fill=\"#383838\" points=\"147,217.46,150,209.46,144,209.46,147,217.46\" style=\"stroke: #383838; stroke-width: 1.0;\"/><text fill=\"#000000\" font-family=\"sans-serif\" font-size=\"13\" lengthAdjust=\"spacingAndGlyphs\" textLength=\"64\" x=\"174\" y=\"180.0669\">«depend»</text></a><!--MD5=[cc4951d41916e70ff94d5083e33b2268]\n",
       "@startuml\r\n",
       "skinparam linetype ortho\r\n",
       "skinparam monochrome true\r\n",
       "skinparam classbackgroundcolor white\r\n",
       "skinparam shadowing false\r\n",
       "skinparam wrapWidth 300\r\n",
       "hide circle\r\n",
       "\r\n",
       "package \"DependencyTest\" as E1  [[psysml:01e86263-1e08-4c5e-80c8-9f3a01cb2b1c ]]  {\r\n",
       "package \"System\" as E2  [[psysml:65d9c171-277b-4a12-8988-537cd17218fe ]]  {\r\n",
       "package \"Application Layer\" as E3  [[psysml:7bbe8935-ee6e-44c3-abf9-e711bcee98e7 ]]  {\r\n",
       "}\r\n",
       "package \"Service Layer\" as E4  [[psysml:8539df59-9777-43d1-9cbc-191f1e3b0af0 ]]  {\r\n",
       "}\r\n",
       "package \"Data Layer\" as E5  [[psysml:06e8cf4d-e880-4b5c-8fdb-0871598a4cb3 ]]  {\r\n",
       "}\r\n",
       "}\r\n",
       "comp usage \"x\" as E6  <<(T,blue)attribute>> [[psysml:3f429861-8945-458a-afac-b9814097464d ]] {\r\n",
       "}\r\n",
       "comp usage \"y\" as E7  <<(T,blue)attribute>> [[psysml:f3318431-0d45-43ea-b254-330318c85eb0 ]] {\r\n",
       "}\r\n",
       "comp usage \"z\" as E8  <<(T,blue)attribute>> [[psysml:da180d87-042d-4ade-81c9-b5201399a446 ]] {\r\n",
       "}\r\n",
       "E3 ..>> E4 [[psysml:ddd06611-1e40-467d-8133-a183585a6da5 ]] : <<depend>>\r\n",
       "E4 ..>> E5 [[psysml:b5c0928c-fbc9-4433-ab1e-c084bfbcebd5 ]] : <<depend>>\r\n",
       "E8 ..>> E6 [[psysml:a0e318cd-0c17-433c-bc04-dbf1eaa3473c ]] : <<depend>>\r\n",
       "E8 ..>> E7 [[psysml:a0e318cd-0c17-433c-bc04-dbf1eaa3473c ]] : <<depend>>\r\n",
       "}\r\n",
       "@enduml\r\n",
       "\n",
       "PlantUML version 1.2020.13(Sat Jun 13 12:26:38 UTC 2020)\n",
       "(EPL source distribution)\n",
       "Java Runtime: OpenJDK Runtime Environment\n",
       "JVM: OpenJDK 64-Bit Server VM\n",
       "Default Encoding: UTF-8\n",
       "Language: en\n",
       "Country: null\n",
       "--></g></svg>"
      ]
     },
     "execution_count": 52,
     "metadata": {},
     "output_type": "execute_result"
    }
   ],
   "source": [
    "%viz --style=\"ORTHOLINE\" --view=\"Tree\" \"DependencyTest\""
   ]
  },
  {
   "cell_type": "code",
   "execution_count": 53,
   "id": "starting-modem",
   "metadata": {
    "execution": {
     "iopub.execute_input": "2021-03-25T15:09:52.097224Z",
     "iopub.status.busy": "2021-03-25T15:09:52.096196Z",
     "iopub.status.idle": "2021-03-25T15:09:52.103936Z",
     "shell.execute_reply": "2021-03-25T15:09:52.103583Z"
    }
   },
   "outputs": [
    {
     "data": {
      "image/svg+xml": [
       "<?xml version=\"1.0\" encoding=\"UTF-8\" standalone=\"no\"?><svg xmlns=\"http://www.w3.org/2000/svg\" xmlns:xlink=\"http://www.w3.org/1999/xlink\" contentScriptType=\"application/ecmascript\" contentStyleType=\"text/css\" height=\"12px\" preserveAspectRatio=\"none\" style=\"width:12px;height:12px;\" version=\"1.1\" viewBox=\"0 0 12 12\" width=\"12px\" zoomAndPan=\"magnify\"><defs/><g><!--MD5=[97d6f38768b311333d388e66b2b27985]\n",
       "@startuml\r\n",
       "skinparam linetype ortho\r\n",
       "skinparam monochrome true\r\n",
       "skinparam classbackgroundcolor white\r\n",
       "skinparam shadowing false\r\n",
       "skinparam wrapWidth 300\r\n",
       "hide circle\r\n",
       "\r\n",
       "@enduml\r\n",
       "\n",
       "PlantUML version 1.2020.13(Sat Jun 13 12:26:38 UTC 2020)\n",
       "(EPL source distribution)\n",
       "Java Runtime: OpenJDK Runtime Environment\n",
       "JVM: OpenJDK 64-Bit Server VM\n",
       "Default Encoding: UTF-8\n",
       "Language: en\n",
       "Country: null\n",
       "--></g></svg>"
      ]
     },
     "execution_count": 53,
     "metadata": {},
     "output_type": "execute_result"
    }
   ],
   "source": [
    "%viz --style=\"ORTHOLINE\" --view=\"State\" \"DependencyTest\""
   ]
  },
  {
   "cell_type": "code",
   "execution_count": 54,
   "id": "oriental-navigation",
   "metadata": {
    "execution": {
     "iopub.execute_input": "2021-03-25T15:09:52.154677Z",
     "iopub.status.busy": "2021-03-25T15:09:52.154105Z",
     "iopub.status.idle": "2021-03-25T15:09:52.248133Z",
     "shell.execute_reply": "2021-03-25T15:09:52.246462Z"
    }
   },
   "outputs": [
    {
     "data": {
      "image/svg+xml": [
       "<?xml version=\"1.0\" encoding=\"UTF-8\" standalone=\"no\"?><svg xmlns=\"http://www.w3.org/2000/svg\" xmlns:xlink=\"http://www.w3.org/1999/xlink\" contentScriptType=\"application/ecmascript\" contentStyleType=\"text/css\" height=\"361px\" preserveAspectRatio=\"none\" style=\"width:489px;height:361px;\" version=\"1.1\" viewBox=\"0 0 489 361\" width=\"489px\" zoomAndPan=\"magnify\"><defs/><g><!--MD5=[fbc87193dbaf4d95561dea2c320d4a47]\n",
       "cluster E1--><a href=\"psysml:01e86263-1e08-4c5e-80c8-9f3a01cb2b1c\" target=\"_top\" title=\"psysml:01e86263-1e08-4c5e-80c8-9f3a01cb2b1c\" xlink:actuate=\"onRequest\" xlink:href=\"psysml:01e86263-1e08-4c5e-80c8-9f3a01cb2b1c\" xlink:show=\"new\" xlink:title=\"psysml:01e86263-1e08-4c5e-80c8-9f3a01cb2b1c\" xlink:type=\"simple\"><polygon fill=\"#FFFFFF\" points=\"16,6,156,6,163,28.2969,467,28.2969,467,349,16,349,16,6\" style=\"stroke: #000000; stroke-width: 1.5;\"/><line style=\"stroke: #000000; stroke-width: 1.5;\" x1=\"16\" x2=\"163\" y1=\"28.2969\" y2=\"28.2969\"/><text fill=\"#000000\" font-family=\"sans-serif\" font-size=\"14\" font-weight=\"bold\" lengthAdjust=\"spacingAndGlyphs\" textLength=\"134\" x=\"20\" y=\"20.9951\">DependencyTest</text></a><!--MD5=[e4f7fae6ed58524ba242bb0b0d3be6b7]\n",
       "cluster E2--><a href=\"psysml:65d9c171-277b-4a12-8988-537cd17218fe\" target=\"_top\" title=\"psysml:65d9c171-277b-4a12-8988-537cd17218fe\" xlink:actuate=\"onRequest\" xlink:href=\"psysml:65d9c171-277b-4a12-8988-537cd17218fe\" xlink:show=\"new\" xlink:title=\"psysml:65d9c171-277b-4a12-8988-537cd17218fe\" xlink:type=\"simple\"><polygon fill=\"#FFFFFF\" points=\"255,49,319,49,326,71.2969,443,71.2969,443,325,255,325,255,49\" style=\"stroke: #000000; stroke-width: 1.5;\"/><line style=\"stroke: #000000; stroke-width: 1.5;\" x1=\"255\" x2=\"326\" y1=\"71.2969\" y2=\"71.2969\"/><text fill=\"#000000\" font-family=\"sans-serif\" font-size=\"14\" font-weight=\"bold\" lengthAdjust=\"spacingAndGlyphs\" textLength=\"58\" x=\"259\" y=\"63.9951\">System</text></a><a href=\"psysml:7bbe8935-ee6e-44c3-abf9-e711bcee98e7\" target=\"_top\" title=\"psysml:7bbe8935-ee6e-44c3-abf9-e711bcee98e7\" xlink:actuate=\"onRequest\" xlink:href=\"psysml:7bbe8935-ee6e-44c3-abf9-e711bcee98e7\" xlink:show=\"new\" xlink:title=\"psysml:7bbe8935-ee6e-44c3-abf9-e711bcee98e7\" xlink:type=\"simple\"><polygon fill=\"#FFFFFF\" points=\"271,84,413,84,420,106.2969,427,106.2969,427,136.5938,271,136.5938,271,84\" style=\"stroke: #000000; stroke-width: 1.5;\"/><line style=\"stroke: #000000; stroke-width: 1.5;\" x1=\"271\" x2=\"420\" y1=\"106.2969\" y2=\"106.2969\"/><text fill=\"#000000\" font-family=\"sans-serif\" font-size=\"14\" font-weight=\"bold\" lengthAdjust=\"spacingAndGlyphs\" textLength=\"136\" x=\"275\" y=\"98.9951\">Application Layer</text></a><a href=\"psysml:8539df59-9777-43d1-9cbc-191f1e3b0af0\" target=\"_top\" title=\"psysml:8539df59-9777-43d1-9cbc-191f1e3b0af0\" xlink:actuate=\"onRequest\" xlink:href=\"psysml:8539df59-9777-43d1-9cbc-191f1e3b0af0\" xlink:show=\"new\" xlink:title=\"psysml:8539df59-9777-43d1-9cbc-191f1e3b0af0\" xlink:type=\"simple\"><polygon fill=\"#FFFFFF\" points=\"285,170,399,170,406,192.2969,413,192.2969,413,222.5938,285,222.5938,285,170\" style=\"stroke: #000000; stroke-width: 1.5;\"/><line style=\"stroke: #000000; stroke-width: 1.5;\" x1=\"285\" x2=\"406\" y1=\"192.2969\" y2=\"192.2969\"/><text fill=\"#000000\" font-family=\"sans-serif\" font-size=\"14\" font-weight=\"bold\" lengthAdjust=\"spacingAndGlyphs\" textLength=\"108\" x=\"289\" y=\"184.9951\">Service Layer</text></a><a href=\"psysml:06e8cf4d-e880-4b5c-8fdb-0871598a4cb3\" target=\"_top\" title=\"psysml:06e8cf4d-e880-4b5c-8fdb-0871598a4cb3\" xlink:actuate=\"onRequest\" xlink:href=\"psysml:06e8cf4d-e880-4b5c-8fdb-0871598a4cb3\" xlink:show=\"new\" xlink:title=\"psysml:06e8cf4d-e880-4b5c-8fdb-0871598a4cb3\" xlink:type=\"simple\"><polygon fill=\"#FFFFFF\" points=\"297,256,387,256,394,278.2969,401,278.2969,401,308.5938,297,308.5938,297,256\" style=\"stroke: #000000; stroke-width: 1.5;\"/><line style=\"stroke: #000000; stroke-width: 1.5;\" x1=\"297\" x2=\"394\" y1=\"278.2969\" y2=\"278.2969\"/><text fill=\"#000000\" font-family=\"sans-serif\" font-size=\"14\" font-weight=\"bold\" lengthAdjust=\"spacingAndGlyphs\" textLength=\"84\" x=\"301\" y=\"270.9951\">Data Layer</text></a><g id=\"E1.E6\"><a href=\"psysml:3f429861-8945-458a-afac-b9814097464d\" target=\"_top\" title=\"psysml:3f429861-8945-458a-afac-b9814097464d\" xlink:actuate=\"onRequest\" xlink:href=\"psysml:3f429861-8945-458a-afac-b9814097464d\" xlink:show=\"new\" xlink:title=\"psysml:3f429861-8945-458a-afac-b9814097464d\" xlink:type=\"simple\"><rect fill=\"#FFFFFF\" height=\"42.9375\" id=\"E6\" rx=\"10\" ry=\"10\" style=\"stroke: #383838; stroke-width: 1.5;\" width=\"76\" x=\"32\" y=\"175\"/><rect fill=\"#F8F8F8\" height=\"37.9375\" rx=\"10\" ry=\"10\" style=\"stroke: #F8F8F8; stroke-width: 1.5;\" width=\"76\" x=\"32\" y=\"175\"/><rect fill=\"#F8F8F8\" height=\"10\" style=\"stroke: #F8F8F8; stroke-width: 1.5;\" width=\"76\" x=\"32\" y=\"202.9375\"/><rect fill=\"none\" height=\"42.9375\" id=\"E6\" rx=\"10\" ry=\"10\" style=\"stroke: #383838; stroke-width: 1.5;\" width=\"76\" x=\"32\" y=\"175\"/><text fill=\"#000000\" font-family=\"sans-serif\" font-size=\"12\" font-style=\"italic\" lengthAdjust=\"spacingAndGlyphs\" textLength=\"69\" x=\"35.5\" y=\"191.1387\">«attribute»</text><text fill=\"#000000\" font-family=\"sans-serif\" font-size=\"12\" lengthAdjust=\"spacingAndGlyphs\" textLength=\"6\" x=\"67\" y=\"205.1074\">x</text></a></g><g id=\"E1.E7\"><a href=\"psysml:f3318431-0d45-43ea-b254-330318c85eb0\" target=\"_top\" title=\"psysml:f3318431-0d45-43ea-b254-330318c85eb0\" xlink:actuate=\"onRequest\" xlink:href=\"psysml:f3318431-0d45-43ea-b254-330318c85eb0\" xlink:show=\"new\" xlink:title=\"psysml:f3318431-0d45-43ea-b254-330318c85eb0\" xlink:type=\"simple\"><rect fill=\"#FFFFFF\" height=\"42.9375\" id=\"E7\" rx=\"10\" ry=\"10\" style=\"stroke: #383838; stroke-width: 1.5;\" width=\"76\" x=\"143\" y=\"175\"/><rect fill=\"#F8F8F8\" height=\"37.9375\" rx=\"10\" ry=\"10\" style=\"stroke: #F8F8F8; stroke-width: 1.5;\" width=\"76\" x=\"143\" y=\"175\"/><rect fill=\"#F8F8F8\" height=\"10\" style=\"stroke: #F8F8F8; stroke-width: 1.5;\" width=\"76\" x=\"143\" y=\"202.9375\"/><rect fill=\"none\" height=\"42.9375\" id=\"E7\" rx=\"10\" ry=\"10\" style=\"stroke: #383838; stroke-width: 1.5;\" width=\"76\" x=\"143\" y=\"175\"/><text fill=\"#000000\" font-family=\"sans-serif\" font-size=\"12\" font-style=\"italic\" lengthAdjust=\"spacingAndGlyphs\" textLength=\"69\" x=\"146.5\" y=\"191.1387\">«attribute»</text><text fill=\"#000000\" font-family=\"sans-serif\" font-size=\"12\" lengthAdjust=\"spacingAndGlyphs\" textLength=\"6\" x=\"178\" y=\"205.1074\">y</text></a></g><g id=\"E1.E8\"><a href=\"psysml:da180d87-042d-4ade-81c9-b5201399a446\" target=\"_top\" title=\"psysml:da180d87-042d-4ade-81c9-b5201399a446\" xlink:actuate=\"onRequest\" xlink:href=\"psysml:da180d87-042d-4ade-81c9-b5201399a446\" xlink:show=\"new\" xlink:title=\"psysml:da180d87-042d-4ade-81c9-b5201399a446\" xlink:type=\"simple\"><rect fill=\"#FFFFFF\" height=\"42.9375\" id=\"E8\" rx=\"10\" ry=\"10\" style=\"stroke: #383838; stroke-width: 1.5;\" width=\"76\" x=\"83\" y=\"89\"/><rect fill=\"#F8F8F8\" height=\"37.9375\" rx=\"10\" ry=\"10\" style=\"stroke: #F8F8F8; stroke-width: 1.5;\" width=\"76\" x=\"83\" y=\"89\"/><rect fill=\"#F8F8F8\" height=\"10\" style=\"stroke: #F8F8F8; stroke-width: 1.5;\" width=\"76\" x=\"83\" y=\"116.9375\"/><rect fill=\"none\" height=\"42.9375\" id=\"E8\" rx=\"10\" ry=\"10\" style=\"stroke: #383838; stroke-width: 1.5;\" width=\"76\" x=\"83\" y=\"89\"/><text fill=\"#000000\" font-family=\"sans-serif\" font-size=\"12\" font-style=\"italic\" lengthAdjust=\"spacingAndGlyphs\" textLength=\"69\" x=\"86.5\" y=\"105.1387\">«attribute»</text><text fill=\"#000000\" font-family=\"sans-serif\" font-size=\"12\" lengthAdjust=\"spacingAndGlyphs\" textLength=\"5\" x=\"118.5\" y=\"119.1074\">z</text></a></g><!--MD5=[af87c684e3b0d8be13c1a698a818ef1e]\n",
       "link E3 to E4--><a href=\"psysml:ddd06611-1e40-467d-8133-a183585a6da5\" target=\"_top\" title=\"psysml:ddd06611-1e40-467d-8133-a183585a6da5\" xlink:actuate=\"onRequest\" xlink:href=\"psysml:ddd06611-1e40-467d-8133-a183585a6da5\" xlink:show=\"new\" xlink:title=\"psysml:ddd06611-1e40-467d-8133-a183585a6da5\" xlink:type=\"simple\"><path d=\"M349,137.24 C349,137.24 349,161.78 349,161.78 \" fill=\"none\" id=\"E3-&gt;E4\" style=\"stroke: #383838; stroke-width: 1.0; stroke-dasharray: 7.0,7.0;\"/><polygon fill=\"#383838\" points=\"349,169.78,352,161.78,346,161.78,349,169.78\" style=\"stroke: #383838; stroke-width: 1.0;\"/><text fill=\"#000000\" font-family=\"sans-serif\" font-size=\"13\" lengthAdjust=\"spacingAndGlyphs\" textLength=\"64\" x=\"350\" y=\"158.0669\">«depend»</text></a><!--MD5=[1b7591eae5389033d8d09a9d6721a717]\n",
       "link E4 to E5--><a href=\"psysml:b5c0928c-fbc9-4433-ab1e-c084bfbcebd5\" target=\"_top\" title=\"psysml:b5c0928c-fbc9-4433-ab1e-c084bfbcebd5\" xlink:actuate=\"onRequest\" xlink:href=\"psysml:b5c0928c-fbc9-4433-ab1e-c084bfbcebd5\" xlink:show=\"new\" xlink:title=\"psysml:b5c0928c-fbc9-4433-ab1e-c084bfbcebd5\" xlink:type=\"simple\"><path d=\"M349,223.24 C349,223.24 349,247.78 349,247.78 \" fill=\"none\" id=\"E4-&gt;E5\" style=\"stroke: #383838; stroke-width: 1.0; stroke-dasharray: 7.0,7.0;\"/><polygon fill=\"#383838\" points=\"349,255.78,352,247.78,346,247.78,349,255.78\" style=\"stroke: #383838; stroke-width: 1.0;\"/><text fill=\"#000000\" font-family=\"sans-serif\" font-size=\"13\" lengthAdjust=\"spacingAndGlyphs\" textLength=\"64\" x=\"350\" y=\"244.0669\">«depend»</text></a><!--MD5=[c5e8897d989ce984f93528998a7150fe]\n",
       "link E8 to E6--><a href=\"psysml:a0e318cd-0c17-433c-bc04-dbf1eaa3473c\" target=\"_top\" title=\"psysml:a0e318cd-0c17-433c-bc04-dbf1eaa3473c\" xlink:actuate=\"onRequest\" xlink:href=\"psysml:a0e318cd-0c17-433c-bc04-dbf1eaa3473c\" xlink:show=\"new\" xlink:title=\"psysml:a0e318cd-0c17-433c-bc04-dbf1eaa3473c\" xlink:type=\"simple\"><path d=\"M95.5,132.2 C95.5,132.2 95.5,166.81 95.5,166.81 \" fill=\"none\" id=\"E8-&gt;E6\" style=\"stroke: #383838; stroke-width: 1.0; stroke-dasharray: 7.0,7.0;\"/><polygon fill=\"#383838\" points=\"95.5,174.81,98.5,166.81,92.5,166.81,95.5,174.81\" style=\"stroke: #383838; stroke-width: 1.0;\"/><text fill=\"#000000\" font-family=\"sans-serif\" font-size=\"13\" lengthAdjust=\"spacingAndGlyphs\" textLength=\"64\" x=\"68\" y=\"158.0669\">«depend»</text></a><!--MD5=[bfa3c8b0d15052fdf50ae9310b491027]\n",
       "link E8 to E7--><a href=\"psysml:a0e318cd-0c17-433c-bc04-dbf1eaa3473c\" target=\"_top\" title=\"psysml:a0e318cd-0c17-433c-bc04-dbf1eaa3473c\" xlink:actuate=\"onRequest\" xlink:href=\"psysml:a0e318cd-0c17-433c-bc04-dbf1eaa3473c\" xlink:show=\"new\" xlink:title=\"psysml:a0e318cd-0c17-433c-bc04-dbf1eaa3473c\" xlink:type=\"simple\"><path d=\"M151,132.2 C151,132.2 151,166.81 151,166.81 \" fill=\"none\" id=\"E8-&gt;E7\" style=\"stroke: #383838; stroke-width: 1.0; stroke-dasharray: 7.0,7.0;\"/><polygon fill=\"#383838\" points=\"151,174.81,154,166.81,148,166.81,151,174.81\" style=\"stroke: #383838; stroke-width: 1.0;\"/><text fill=\"#000000\" font-family=\"sans-serif\" font-size=\"13\" lengthAdjust=\"spacingAndGlyphs\" textLength=\"64\" x=\"174\" y=\"158.0669\">«depend»</text></a><!--MD5=[018cb9aaa748ec6edf3674d03aa67519]\n",
       "@startuml\r\n",
       "skinparam ranksep 8\r\n",
       "skinparam rectangle {\r\n",
       " backgroundColor<<block>> LightGreen\r\n",
       "}\r\n",
       "skinparam linetype ortho\r\n",
       "skinparam monochrome true\r\n",
       "skinparam classbackgroundcolor white\r\n",
       "skinparam shadowing false\r\n",
       "skinparam wrapWidth 300\r\n",
       "hide circle\r\n",
       "\r\n",
       "package \"DependencyTest\" as E1  [[psysml:01e86263-1e08-4c5e-80c8-9f3a01cb2b1c ]]  {\r\n",
       "package \"System\" as E2  [[psysml:65d9c171-277b-4a12-8988-537cd17218fe ]]  {\r\n",
       "package \"Application Layer\" as E3  [[psysml:7bbe8935-ee6e-44c3-abf9-e711bcee98e7 ]]  {\r\n",
       "}\r\n",
       "package \"Service Layer\" as E4  [[psysml:8539df59-9777-43d1-9cbc-191f1e3b0af0 ]]  {\r\n",
       "}\r\n",
       "package \"Data Layer\" as E5  [[psysml:06e8cf4d-e880-4b5c-8fdb-0871598a4cb3 ]]  {\r\n",
       "}\r\n",
       "}\r\n",
       "rec usage \"x\" as E6  <<(T,blue)attribute>> [[psysml:3f429861-8945-458a-afac-b9814097464d ]] {\r\n",
       "}\r\n",
       "rec usage \"y\" as E7  <<(T,blue)attribute>> [[psysml:f3318431-0d45-43ea-b254-330318c85eb0 ]] {\r\n",
       "}\r\n",
       "rec usage \"z\" as E8  <<(T,blue)attribute>> [[psysml:da180d87-042d-4ade-81c9-b5201399a446 ]] {\r\n",
       "}\r\n",
       "E3 ..>> E4 [[psysml:ddd06611-1e40-467d-8133-a183585a6da5 ]] : <<depend>>\r\n",
       "E4 ..>> E5 [[psysml:b5c0928c-fbc9-4433-ab1e-c084bfbcebd5 ]] : <<depend>>\r\n",
       "E8 ..>> E6 [[psysml:a0e318cd-0c17-433c-bc04-dbf1eaa3473c ]] : <<depend>>\r\n",
       "E8 ..>> E7 [[psysml:a0e318cd-0c17-433c-bc04-dbf1eaa3473c ]] : <<depend>>\r\n",
       "}\r\n",
       "@enduml\r\n",
       "\n",
       "PlantUML version 1.2020.13(Sat Jun 13 12:26:38 UTC 2020)\n",
       "(EPL source distribution)\n",
       "Java Runtime: OpenJDK Runtime Environment\n",
       "JVM: OpenJDK 64-Bit Server VM\n",
       "Default Encoding: UTF-8\n",
       "Language: en\n",
       "Country: null\n",
       "--></g></svg>"
      ]
     },
     "execution_count": 54,
     "metadata": {},
     "output_type": "execute_result"
    }
   ],
   "source": [
    "%viz --style=\"ORTHOLINE\" --view=\"Interconnection\" \"DependencyTest\""
   ]
  },
  {
   "cell_type": "code",
   "execution_count": 55,
   "id": "sunrise-thunder",
   "metadata": {
    "execution": {
     "iopub.execute_input": "2021-03-25T15:09:52.298663Z",
     "iopub.status.busy": "2021-03-25T15:09:52.298252Z",
     "iopub.status.idle": "2021-03-25T15:09:52.306056Z",
     "shell.execute_reply": "2021-03-25T15:09:52.305691Z"
    }
   },
   "outputs": [
    {
     "data": {
      "image/svg+xml": [
       "<?xml version=\"1.0\" encoding=\"UTF-8\" standalone=\"no\"?><svg xmlns=\"http://www.w3.org/2000/svg\" xmlns:xlink=\"http://www.w3.org/1999/xlink\" contentScriptType=\"application/ecmascript\" contentStyleType=\"text/css\" height=\"12px\" preserveAspectRatio=\"none\" style=\"width:12px;height:12px;\" version=\"1.1\" viewBox=\"0 0 12 12\" width=\"12px\" zoomAndPan=\"magnify\"><defs/><g><!--MD5=[72934c63077099a26744516a776b4749]\n",
       "@startuml\r\n",
       "skinparam ranksep 8\r\n",
       "skinparam linetype ortho\r\n",
       "skinparam monochrome true\r\n",
       "skinparam classbackgroundcolor white\r\n",
       "skinparam shadowing false\r\n",
       "skinparam wrapWidth 300\r\n",
       "hide circle\r\n",
       "\r\n",
       "@enduml\r\n",
       "\n",
       "PlantUML version 1.2020.13(Sat Jun 13 12:26:38 UTC 2020)\n",
       "(EPL source distribution)\n",
       "Java Runtime: OpenJDK Runtime Environment\n",
       "JVM: OpenJDK 64-Bit Server VM\n",
       "Default Encoding: UTF-8\n",
       "Language: en\n",
       "Country: null\n",
       "--></g></svg>"
      ]
     },
     "execution_count": 55,
     "metadata": {},
     "output_type": "execute_result"
    }
   ],
   "source": [
    "%viz --style=\"ORTHOLINE\" --view=\"Action\" \"DependencyTest\""
   ]
  },
  {
   "cell_type": "code",
   "execution_count": 56,
   "id": "seasonal-camcorder",
   "metadata": {
    "execution": {
     "iopub.execute_input": "2021-03-25T15:09:52.357055Z",
     "iopub.status.busy": "2021-03-25T15:09:52.356553Z",
     "iopub.status.idle": "2021-03-25T15:09:52.450674Z",
     "shell.execute_reply": "2021-03-25T15:09:52.449257Z"
    }
   },
   "outputs": [
    {
     "data": {
      "image/svg+xml": [
       "<?xml version=\"1.0\" encoding=\"UTF-8\" standalone=\"no\"?><svg xmlns=\"http://www.w3.org/2000/svg\" xmlns:xlink=\"http://www.w3.org/1999/xlink\" contentScriptType=\"application/ecmascript\" contentStyleType=\"text/css\" height=\"449px\" preserveAspectRatio=\"none\" style=\"width:489px;height:449px;\" version=\"1.1\" viewBox=\"0 0 489 449\" width=\"489px\" zoomAndPan=\"magnify\"><defs/><g><!--MD5=[fbc87193dbaf4d95561dea2c320d4a47]\n",
       "cluster E1--><a href=\"psysml:01e86263-1e08-4c5e-80c8-9f3a01cb2b1c\" target=\"_top\" title=\"psysml:01e86263-1e08-4c5e-80c8-9f3a01cb2b1c\" xlink:actuate=\"onRequest\" xlink:href=\"psysml:01e86263-1e08-4c5e-80c8-9f3a01cb2b1c\" xlink:show=\"new\" xlink:title=\"psysml:01e86263-1e08-4c5e-80c8-9f3a01cb2b1c\" xlink:type=\"simple\"><polygon fill=\"#FFFFFF\" points=\"16,6,156,6,163,28.2969,467,28.2969,467,437,16,437,16,6\" style=\"stroke: #000000; stroke-width: 1.5;\"/><line style=\"stroke: #000000; stroke-width: 1.5;\" x1=\"16\" x2=\"163\" y1=\"28.2969\" y2=\"28.2969\"/><text fill=\"#000000\" font-family=\"sans-serif\" font-size=\"14\" font-weight=\"bold\" lengthAdjust=\"spacingAndGlyphs\" textLength=\"134\" x=\"20\" y=\"20.9951\">DependencyTest</text></a><!--MD5=[e4f7fae6ed58524ba242bb0b0d3be6b7]\n",
       "cluster E2--><a href=\"psysml:65d9c171-277b-4a12-8988-537cd17218fe\" target=\"_top\" title=\"psysml:65d9c171-277b-4a12-8988-537cd17218fe\" xlink:actuate=\"onRequest\" xlink:href=\"psysml:65d9c171-277b-4a12-8988-537cd17218fe\" xlink:show=\"new\" xlink:title=\"psysml:65d9c171-277b-4a12-8988-537cd17218fe\" xlink:type=\"simple\"><polygon fill=\"#FFFFFF\" points=\"255,49,319,49,326,71.2969,443,71.2969,443,413,255,413,255,49\" style=\"stroke: #000000; stroke-width: 1.5;\"/><line style=\"stroke: #000000; stroke-width: 1.5;\" x1=\"255\" x2=\"326\" y1=\"71.2969\" y2=\"71.2969\"/><text fill=\"#000000\" font-family=\"sans-serif\" font-size=\"14\" font-weight=\"bold\" lengthAdjust=\"spacingAndGlyphs\" textLength=\"58\" x=\"259\" y=\"63.9951\">System</text></a><!--MD5=[60a26617385b1d2d0262a64233df1f8d]\n",
       "class E6--><a href=\"psysml:3f429861-8945-458a-afac-b9814097464d\" target=\"_top\" title=\"psysml:3f429861-8945-458a-afac-b9814097464d\" xlink:actuate=\"onRequest\" xlink:href=\"psysml:3f429861-8945-458a-afac-b9814097464d\" xlink:show=\"new\" xlink:title=\"psysml:3f429861-8945-458a-afac-b9814097464d\" xlink:type=\"simple\"><rect fill=\"#FFFFFF\" height=\"45.9375\" id=\"E6\" rx=\"10\" ry=\"10\" style=\"stroke: #383838; stroke-width: 1.5;\" width=\"71\" x=\"32.5\" y=\"217.5\"/><text fill=\"#000000\" font-family=\"sans-serif\" font-size=\"12\" font-style=\"italic\" lengthAdjust=\"spacingAndGlyphs\" textLength=\"69\" x=\"33.5\" y=\"233.6387\">«attribute»</text><text fill=\"#000000\" font-family=\"sans-serif\" font-size=\"12\" lengthAdjust=\"spacingAndGlyphs\" textLength=\"6\" x=\"65\" y=\"247.6074\">x</text><line style=\"stroke: #383838; stroke-width: 1.5;\" x1=\"33.5\" x2=\"102.5\" y1=\"255.4375\" y2=\"255.4375\"/></a><!--MD5=[2156ba9850f5573cc1fc38a6a4b2f02b]\n",
       "class E7--><a href=\"psysml:f3318431-0d45-43ea-b254-330318c85eb0\" target=\"_top\" title=\"psysml:f3318431-0d45-43ea-b254-330318c85eb0\" xlink:actuate=\"onRequest\" xlink:href=\"psysml:f3318431-0d45-43ea-b254-330318c85eb0\" xlink:show=\"new\" xlink:title=\"psysml:f3318431-0d45-43ea-b254-330318c85eb0\" xlink:type=\"simple\"><rect fill=\"#FFFFFF\" height=\"45.9375\" id=\"E7\" rx=\"10\" ry=\"10\" style=\"stroke: #383838; stroke-width: 1.5;\" width=\"71\" x=\"138.5\" y=\"217.5\"/><text fill=\"#000000\" font-family=\"sans-serif\" font-size=\"12\" font-style=\"italic\" lengthAdjust=\"spacingAndGlyphs\" textLength=\"69\" x=\"139.5\" y=\"233.6387\">«attribute»</text><text fill=\"#000000\" font-family=\"sans-serif\" font-size=\"12\" lengthAdjust=\"spacingAndGlyphs\" textLength=\"6\" x=\"171\" y=\"247.6074\">y</text><line style=\"stroke: #383838; stroke-width: 1.5;\" x1=\"139.5\" x2=\"208.5\" y1=\"255.4375\" y2=\"255.4375\"/></a><!--MD5=[b9389687b975829384b498ac4b7476b2]\n",
       "class E8--><a href=\"psysml:da180d87-042d-4ade-81c9-b5201399a446\" target=\"_top\" title=\"psysml:da180d87-042d-4ade-81c9-b5201399a446\" xlink:actuate=\"onRequest\" xlink:href=\"psysml:da180d87-042d-4ade-81c9-b5201399a446\" xlink:show=\"new\" xlink:title=\"psysml:da180d87-042d-4ade-81c9-b5201399a446\" xlink:type=\"simple\"><rect fill=\"#FFFFFF\" height=\"45.9375\" id=\"E8\" rx=\"10\" ry=\"10\" style=\"stroke: #383838; stroke-width: 1.5;\" width=\"71\" x=\"84.5\" y=\"87.5\"/><text fill=\"#000000\" font-family=\"sans-serif\" font-size=\"12\" font-style=\"italic\" lengthAdjust=\"spacingAndGlyphs\" textLength=\"69\" x=\"85.5\" y=\"103.6387\">«attribute»</text><text fill=\"#000000\" font-family=\"sans-serif\" font-size=\"12\" lengthAdjust=\"spacingAndGlyphs\" textLength=\"5\" x=\"117.5\" y=\"117.6074\">z</text><line style=\"stroke: #383838; stroke-width: 1.5;\" x1=\"85.5\" x2=\"154.5\" y1=\"125.4375\" y2=\"125.4375\"/></a><a href=\"psysml:7bbe8935-ee6e-44c3-abf9-e711bcee98e7\" target=\"_top\" title=\"psysml:7bbe8935-ee6e-44c3-abf9-e711bcee98e7\" xlink:actuate=\"onRequest\" xlink:href=\"psysml:7bbe8935-ee6e-44c3-abf9-e711bcee98e7\" xlink:show=\"new\" xlink:title=\"psysml:7bbe8935-ee6e-44c3-abf9-e711bcee98e7\" xlink:type=\"simple\"><polygon fill=\"#FFFFFF\" points=\"271,84,413,84,420,106.2969,427,106.2969,427,136.5938,271,136.5938,271,84\" style=\"stroke: #000000; stroke-width: 1.5;\"/><line style=\"stroke: #000000; stroke-width: 1.5;\" x1=\"271\" x2=\"420\" y1=\"106.2969\" y2=\"106.2969\"/><text fill=\"#000000\" font-family=\"sans-serif\" font-size=\"14\" font-weight=\"bold\" lengthAdjust=\"spacingAndGlyphs\" textLength=\"136\" x=\"275\" y=\"98.9951\">Application Layer</text></a><a href=\"psysml:8539df59-9777-43d1-9cbc-191f1e3b0af0\" target=\"_top\" title=\"psysml:8539df59-9777-43d1-9cbc-191f1e3b0af0\" xlink:actuate=\"onRequest\" xlink:href=\"psysml:8539df59-9777-43d1-9cbc-191f1e3b0af0\" xlink:show=\"new\" xlink:title=\"psysml:8539df59-9777-43d1-9cbc-191f1e3b0af0\" xlink:type=\"simple\"><polygon fill=\"#FFFFFF\" points=\"285,214,399,214,406,236.2969,413,236.2969,413,266.5938,285,266.5938,285,214\" style=\"stroke: #000000; stroke-width: 1.5;\"/><line style=\"stroke: #000000; stroke-width: 1.5;\" x1=\"285\" x2=\"406\" y1=\"236.2969\" y2=\"236.2969\"/><text fill=\"#000000\" font-family=\"sans-serif\" font-size=\"14\" font-weight=\"bold\" lengthAdjust=\"spacingAndGlyphs\" textLength=\"108\" x=\"289\" y=\"228.9951\">Service Layer</text></a><a href=\"psysml:06e8cf4d-e880-4b5c-8fdb-0871598a4cb3\" target=\"_top\" title=\"psysml:06e8cf4d-e880-4b5c-8fdb-0871598a4cb3\" xlink:actuate=\"onRequest\" xlink:href=\"psysml:06e8cf4d-e880-4b5c-8fdb-0871598a4cb3\" xlink:show=\"new\" xlink:title=\"psysml:06e8cf4d-e880-4b5c-8fdb-0871598a4cb3\" xlink:type=\"simple\"><polygon fill=\"#FFFFFF\" points=\"297,344,387,344,394,366.2969,401,366.2969,401,396.5938,297,396.5938,297,344\" style=\"stroke: #000000; stroke-width: 1.5;\"/><line style=\"stroke: #000000; stroke-width: 1.5;\" x1=\"297\" x2=\"394\" y1=\"366.2969\" y2=\"366.2969\"/><text fill=\"#000000\" font-family=\"sans-serif\" font-size=\"14\" font-weight=\"bold\" lengthAdjust=\"spacingAndGlyphs\" textLength=\"84\" x=\"301\" y=\"358.9951\">Data Layer</text></a><!--MD5=[af87c684e3b0d8be13c1a698a818ef1e]\n",
       "link E3 to E4--><a href=\"psysml:ddd06611-1e40-467d-8133-a183585a6da5\" target=\"_top\" title=\"psysml:ddd06611-1e40-467d-8133-a183585a6da5\" xlink:actuate=\"onRequest\" xlink:href=\"psysml:ddd06611-1e40-467d-8133-a183585a6da5\" xlink:show=\"new\" xlink:title=\"psysml:ddd06611-1e40-467d-8133-a183585a6da5\" xlink:type=\"simple\"><path d=\"M349,137.12 C349,137.12 349,205.91 349,205.91 \" fill=\"none\" id=\"E3-&gt;E4\" style=\"stroke: #383838; stroke-width: 1.0; stroke-dasharray: 7.0,7.0;\"/><polygon fill=\"#383838\" points=\"349,213.91,352,205.91,346,205.91,349,213.91\" style=\"stroke: #383838; stroke-width: 1.0;\"/><text fill=\"#000000\" font-family=\"sans-serif\" font-size=\"13\" lengthAdjust=\"spacingAndGlyphs\" textLength=\"64\" x=\"350\" y=\"180.0669\">«depend»</text></a><!--MD5=[1b7591eae5389033d8d09a9d6721a717]\n",
       "link E4 to E5--><a href=\"psysml:b5c0928c-fbc9-4433-ab1e-c084bfbcebd5\" target=\"_top\" title=\"psysml:b5c0928c-fbc9-4433-ab1e-c084bfbcebd5\" xlink:actuate=\"onRequest\" xlink:href=\"psysml:b5c0928c-fbc9-4433-ab1e-c084bfbcebd5\" xlink:show=\"new\" xlink:title=\"psysml:b5c0928c-fbc9-4433-ab1e-c084bfbcebd5\" xlink:type=\"simple\"><path d=\"M349,267.12 C349,267.12 349,335.91 349,335.91 \" fill=\"none\" id=\"E4-&gt;E5\" style=\"stroke: #383838; stroke-width: 1.0; stroke-dasharray: 7.0,7.0;\"/><polygon fill=\"#383838\" points=\"349,343.91,352,335.91,346,335.91,349,343.91\" style=\"stroke: #383838; stroke-width: 1.0;\"/><text fill=\"#000000\" font-family=\"sans-serif\" font-size=\"13\" lengthAdjust=\"spacingAndGlyphs\" textLength=\"64\" x=\"350\" y=\"310.0669\">«depend»</text></a><!--MD5=[c5e8897d989ce984f93528998a7150fe]\n",
       "link E8 to E6--><a href=\"psysml:a0e318cd-0c17-433c-bc04-dbf1eaa3473c\" target=\"_top\" title=\"psysml:a0e318cd-0c17-433c-bc04-dbf1eaa3473c\" xlink:actuate=\"onRequest\" xlink:href=\"psysml:a0e318cd-0c17-433c-bc04-dbf1eaa3473c\" xlink:show=\"new\" xlink:title=\"psysml:a0e318cd-0c17-433c-bc04-dbf1eaa3473c\" xlink:type=\"simple\"><path d=\"M94,133.74 C94,133.74 94,209.46 94,209.46 \" fill=\"none\" id=\"E8-&gt;E6\" style=\"stroke: #383838; stroke-width: 1.0; stroke-dasharray: 7.0,7.0;\"/><polygon fill=\"#383838\" points=\"94,217.46,97,209.46,91,209.46,94,217.46\" style=\"stroke: #383838; stroke-width: 1.0;\"/><text fill=\"#000000\" font-family=\"sans-serif\" font-size=\"13\" lengthAdjust=\"spacingAndGlyphs\" textLength=\"64\" x=\"68\" y=\"180.0669\">«depend»</text></a><!--MD5=[bfa3c8b0d15052fdf50ae9310b491027]\n",
       "link E8 to E7--><a href=\"psysml:a0e318cd-0c17-433c-bc04-dbf1eaa3473c\" target=\"_top\" title=\"psysml:a0e318cd-0c17-433c-bc04-dbf1eaa3473c\" xlink:actuate=\"onRequest\" xlink:href=\"psysml:a0e318cd-0c17-433c-bc04-dbf1eaa3473c\" xlink:show=\"new\" xlink:title=\"psysml:a0e318cd-0c17-433c-bc04-dbf1eaa3473c\" xlink:type=\"simple\"><path d=\"M147,133.74 C147,133.74 147,209.46 147,209.46 \" fill=\"none\" id=\"E8-&gt;E7\" style=\"stroke: #383838; stroke-width: 1.0; stroke-dasharray: 7.0,7.0;\"/><polygon fill=\"#383838\" points=\"147,217.46,150,209.46,144,209.46,147,217.46\" style=\"stroke: #383838; stroke-width: 1.0;\"/><text fill=\"#000000\" font-family=\"sans-serif\" font-size=\"13\" lengthAdjust=\"spacingAndGlyphs\" textLength=\"64\" x=\"174\" y=\"180.0669\">«depend»</text></a><!--MD5=[cc4951d41916e70ff94d5083e33b2268]\n",
       "@startuml\r\n",
       "skinparam linetype ortho\r\n",
       "skinparam monochrome true\r\n",
       "skinparam classbackgroundcolor white\r\n",
       "skinparam shadowing false\r\n",
       "skinparam wrapWidth 300\r\n",
       "hide circle\r\n",
       "\r\n",
       "package \"DependencyTest\" as E1  [[psysml:01e86263-1e08-4c5e-80c8-9f3a01cb2b1c ]]  {\r\n",
       "package \"System\" as E2  [[psysml:65d9c171-277b-4a12-8988-537cd17218fe ]]  {\r\n",
       "package \"Application Layer\" as E3  [[psysml:7bbe8935-ee6e-44c3-abf9-e711bcee98e7 ]]  {\r\n",
       "}\r\n",
       "package \"Service Layer\" as E4  [[psysml:8539df59-9777-43d1-9cbc-191f1e3b0af0 ]]  {\r\n",
       "}\r\n",
       "package \"Data Layer\" as E5  [[psysml:06e8cf4d-e880-4b5c-8fdb-0871598a4cb3 ]]  {\r\n",
       "}\r\n",
       "}\r\n",
       "comp usage \"x\" as E6  <<(T,blue)attribute>> [[psysml:3f429861-8945-458a-afac-b9814097464d ]] {\r\n",
       "}\r\n",
       "comp usage \"y\" as E7  <<(T,blue)attribute>> [[psysml:f3318431-0d45-43ea-b254-330318c85eb0 ]] {\r\n",
       "}\r\n",
       "comp usage \"z\" as E8  <<(T,blue)attribute>> [[psysml:da180d87-042d-4ade-81c9-b5201399a446 ]] {\r\n",
       "}\r\n",
       "E3 ..>> E4 [[psysml:ddd06611-1e40-467d-8133-a183585a6da5 ]] : <<depend>>\r\n",
       "E4 ..>> E5 [[psysml:b5c0928c-fbc9-4433-ab1e-c084bfbcebd5 ]] : <<depend>>\r\n",
       "E8 ..>> E6 [[psysml:a0e318cd-0c17-433c-bc04-dbf1eaa3473c ]] : <<depend>>\r\n",
       "E8 ..>> E7 [[psysml:a0e318cd-0c17-433c-bc04-dbf1eaa3473c ]] : <<depend>>\r\n",
       "}\r\n",
       "@enduml\r\n",
       "\n",
       "PlantUML version 1.2020.13(Sat Jun 13 12:26:38 UTC 2020)\n",
       "(EPL source distribution)\n",
       "Java Runtime: OpenJDK Runtime Environment\n",
       "JVM: OpenJDK 64-Bit Server VM\n",
       "Default Encoding: UTF-8\n",
       "Language: en\n",
       "Country: null\n",
       "--></g></svg>"
      ]
     },
     "execution_count": 56,
     "metadata": {},
     "output_type": "execute_result"
    }
   ],
   "source": [
    "%viz --style=\"ORTHOLINE\" --view=\"Sequence\" \"DependencyTest\""
   ]
  },
  {
   "cell_type": "code",
   "execution_count": 57,
   "id": "approved-precipitation",
   "metadata": {
    "execution": {
     "iopub.execute_input": "2021-03-25T15:09:52.500889Z",
     "iopub.status.busy": "2021-03-25T15:09:52.500409Z",
     "iopub.status.idle": "2021-03-25T15:09:52.594499Z",
     "shell.execute_reply": "2021-03-25T15:09:52.594924Z"
    }
   },
   "outputs": [
    {
     "data": {
      "image/svg+xml": [
       "<?xml version=\"1.0\" encoding=\"UTF-8\" standalone=\"no\"?><svg xmlns=\"http://www.w3.org/2000/svg\" xmlns:xlink=\"http://www.w3.org/1999/xlink\" contentScriptType=\"application/ecmascript\" contentStyleType=\"text/css\" height=\"449px\" preserveAspectRatio=\"none\" style=\"width:489px;height:449px;\" version=\"1.1\" viewBox=\"0 0 489 449\" width=\"489px\" zoomAndPan=\"magnify\"><defs/><g><!--MD5=[fbc87193dbaf4d95561dea2c320d4a47]\n",
       "cluster E1--><a href=\"psysml:01e86263-1e08-4c5e-80c8-9f3a01cb2b1c\" target=\"_top\" title=\"psysml:01e86263-1e08-4c5e-80c8-9f3a01cb2b1c\" xlink:actuate=\"onRequest\" xlink:href=\"psysml:01e86263-1e08-4c5e-80c8-9f3a01cb2b1c\" xlink:show=\"new\" xlink:title=\"psysml:01e86263-1e08-4c5e-80c8-9f3a01cb2b1c\" xlink:type=\"simple\"><polygon fill=\"#FFFFFF\" points=\"16,6,156,6,163,28.2969,467,28.2969,467,437,16,437,16,6\" style=\"stroke: #000000; stroke-width: 1.5;\"/><line style=\"stroke: #000000; stroke-width: 1.5;\" x1=\"16\" x2=\"163\" y1=\"28.2969\" y2=\"28.2969\"/><text fill=\"#000000\" font-family=\"sans-serif\" font-size=\"14\" font-weight=\"bold\" lengthAdjust=\"spacingAndGlyphs\" textLength=\"134\" x=\"20\" y=\"20.9951\">DependencyTest</text></a><!--MD5=[e4f7fae6ed58524ba242bb0b0d3be6b7]\n",
       "cluster E2--><a href=\"psysml:65d9c171-277b-4a12-8988-537cd17218fe\" target=\"_top\" title=\"psysml:65d9c171-277b-4a12-8988-537cd17218fe\" xlink:actuate=\"onRequest\" xlink:href=\"psysml:65d9c171-277b-4a12-8988-537cd17218fe\" xlink:show=\"new\" xlink:title=\"psysml:65d9c171-277b-4a12-8988-537cd17218fe\" xlink:type=\"simple\"><polygon fill=\"#FFFFFF\" points=\"255,49,319,49,326,71.2969,443,71.2969,443,413,255,413,255,49\" style=\"stroke: #000000; stroke-width: 1.5;\"/><line style=\"stroke: #000000; stroke-width: 1.5;\" x1=\"255\" x2=\"326\" y1=\"71.2969\" y2=\"71.2969\"/><text fill=\"#000000\" font-family=\"sans-serif\" font-size=\"14\" font-weight=\"bold\" lengthAdjust=\"spacingAndGlyphs\" textLength=\"58\" x=\"259\" y=\"63.9951\">System</text></a><!--MD5=[60a26617385b1d2d0262a64233df1f8d]\n",
       "class E6--><a href=\"psysml:3f429861-8945-458a-afac-b9814097464d\" target=\"_top\" title=\"psysml:3f429861-8945-458a-afac-b9814097464d\" xlink:actuate=\"onRequest\" xlink:href=\"psysml:3f429861-8945-458a-afac-b9814097464d\" xlink:show=\"new\" xlink:title=\"psysml:3f429861-8945-458a-afac-b9814097464d\" xlink:type=\"simple\"><rect fill=\"#FFFFFF\" height=\"45.9375\" id=\"E6\" rx=\"10\" ry=\"10\" style=\"stroke: #383838; stroke-width: 1.5;\" width=\"71\" x=\"32.5\" y=\"217.5\"/><text fill=\"#000000\" font-family=\"sans-serif\" font-size=\"12\" font-style=\"italic\" lengthAdjust=\"spacingAndGlyphs\" textLength=\"69\" x=\"33.5\" y=\"233.6387\">«attribute»</text><text fill=\"#000000\" font-family=\"sans-serif\" font-size=\"12\" lengthAdjust=\"spacingAndGlyphs\" textLength=\"6\" x=\"65\" y=\"247.6074\">x</text><line style=\"stroke: #383838; stroke-width: 1.5;\" x1=\"33.5\" x2=\"102.5\" y1=\"255.4375\" y2=\"255.4375\"/></a><!--MD5=[2156ba9850f5573cc1fc38a6a4b2f02b]\n",
       "class E7--><a href=\"psysml:f3318431-0d45-43ea-b254-330318c85eb0\" target=\"_top\" title=\"psysml:f3318431-0d45-43ea-b254-330318c85eb0\" xlink:actuate=\"onRequest\" xlink:href=\"psysml:f3318431-0d45-43ea-b254-330318c85eb0\" xlink:show=\"new\" xlink:title=\"psysml:f3318431-0d45-43ea-b254-330318c85eb0\" xlink:type=\"simple\"><rect fill=\"#FFFFFF\" height=\"45.9375\" id=\"E7\" rx=\"10\" ry=\"10\" style=\"stroke: #383838; stroke-width: 1.5;\" width=\"71\" x=\"138.5\" y=\"217.5\"/><text fill=\"#000000\" font-family=\"sans-serif\" font-size=\"12\" font-style=\"italic\" lengthAdjust=\"spacingAndGlyphs\" textLength=\"69\" x=\"139.5\" y=\"233.6387\">«attribute»</text><text fill=\"#000000\" font-family=\"sans-serif\" font-size=\"12\" lengthAdjust=\"spacingAndGlyphs\" textLength=\"6\" x=\"171\" y=\"247.6074\">y</text><line style=\"stroke: #383838; stroke-width: 1.5;\" x1=\"139.5\" x2=\"208.5\" y1=\"255.4375\" y2=\"255.4375\"/></a><!--MD5=[b9389687b975829384b498ac4b7476b2]\n",
       "class E8--><a href=\"psysml:da180d87-042d-4ade-81c9-b5201399a446\" target=\"_top\" title=\"psysml:da180d87-042d-4ade-81c9-b5201399a446\" xlink:actuate=\"onRequest\" xlink:href=\"psysml:da180d87-042d-4ade-81c9-b5201399a446\" xlink:show=\"new\" xlink:title=\"psysml:da180d87-042d-4ade-81c9-b5201399a446\" xlink:type=\"simple\"><rect fill=\"#FFFFFF\" height=\"45.9375\" id=\"E8\" rx=\"10\" ry=\"10\" style=\"stroke: #383838; stroke-width: 1.5;\" width=\"71\" x=\"84.5\" y=\"87.5\"/><text fill=\"#000000\" font-family=\"sans-serif\" font-size=\"12\" font-style=\"italic\" lengthAdjust=\"spacingAndGlyphs\" textLength=\"69\" x=\"85.5\" y=\"103.6387\">«attribute»</text><text fill=\"#000000\" font-family=\"sans-serif\" font-size=\"12\" lengthAdjust=\"spacingAndGlyphs\" textLength=\"5\" x=\"117.5\" y=\"117.6074\">z</text><line style=\"stroke: #383838; stroke-width: 1.5;\" x1=\"85.5\" x2=\"154.5\" y1=\"125.4375\" y2=\"125.4375\"/></a><a href=\"psysml:7bbe8935-ee6e-44c3-abf9-e711bcee98e7\" target=\"_top\" title=\"psysml:7bbe8935-ee6e-44c3-abf9-e711bcee98e7\" xlink:actuate=\"onRequest\" xlink:href=\"psysml:7bbe8935-ee6e-44c3-abf9-e711bcee98e7\" xlink:show=\"new\" xlink:title=\"psysml:7bbe8935-ee6e-44c3-abf9-e711bcee98e7\" xlink:type=\"simple\"><polygon fill=\"#FFFFFF\" points=\"271,84,413,84,420,106.2969,427,106.2969,427,136.5938,271,136.5938,271,84\" style=\"stroke: #000000; stroke-width: 1.5;\"/><line style=\"stroke: #000000; stroke-width: 1.5;\" x1=\"271\" x2=\"420\" y1=\"106.2969\" y2=\"106.2969\"/><text fill=\"#000000\" font-family=\"sans-serif\" font-size=\"14\" font-weight=\"bold\" lengthAdjust=\"spacingAndGlyphs\" textLength=\"136\" x=\"275\" y=\"98.9951\">Application Layer</text></a><a href=\"psysml:8539df59-9777-43d1-9cbc-191f1e3b0af0\" target=\"_top\" title=\"psysml:8539df59-9777-43d1-9cbc-191f1e3b0af0\" xlink:actuate=\"onRequest\" xlink:href=\"psysml:8539df59-9777-43d1-9cbc-191f1e3b0af0\" xlink:show=\"new\" xlink:title=\"psysml:8539df59-9777-43d1-9cbc-191f1e3b0af0\" xlink:type=\"simple\"><polygon fill=\"#FFFFFF\" points=\"285,214,399,214,406,236.2969,413,236.2969,413,266.5938,285,266.5938,285,214\" style=\"stroke: #000000; stroke-width: 1.5;\"/><line style=\"stroke: #000000; stroke-width: 1.5;\" x1=\"285\" x2=\"406\" y1=\"236.2969\" y2=\"236.2969\"/><text fill=\"#000000\" font-family=\"sans-serif\" font-size=\"14\" font-weight=\"bold\" lengthAdjust=\"spacingAndGlyphs\" textLength=\"108\" x=\"289\" y=\"228.9951\">Service Layer</text></a><a href=\"psysml:06e8cf4d-e880-4b5c-8fdb-0871598a4cb3\" target=\"_top\" title=\"psysml:06e8cf4d-e880-4b5c-8fdb-0871598a4cb3\" xlink:actuate=\"onRequest\" xlink:href=\"psysml:06e8cf4d-e880-4b5c-8fdb-0871598a4cb3\" xlink:show=\"new\" xlink:title=\"psysml:06e8cf4d-e880-4b5c-8fdb-0871598a4cb3\" xlink:type=\"simple\"><polygon fill=\"#FFFFFF\" points=\"297,344,387,344,394,366.2969,401,366.2969,401,396.5938,297,396.5938,297,344\" style=\"stroke: #000000; stroke-width: 1.5;\"/><line style=\"stroke: #000000; stroke-width: 1.5;\" x1=\"297\" x2=\"394\" y1=\"366.2969\" y2=\"366.2969\"/><text fill=\"#000000\" font-family=\"sans-serif\" font-size=\"14\" font-weight=\"bold\" lengthAdjust=\"spacingAndGlyphs\" textLength=\"84\" x=\"301\" y=\"358.9951\">Data Layer</text></a><!--MD5=[af87c684e3b0d8be13c1a698a818ef1e]\n",
       "link E3 to E4--><a href=\"psysml:ddd06611-1e40-467d-8133-a183585a6da5\" target=\"_top\" title=\"psysml:ddd06611-1e40-467d-8133-a183585a6da5\" xlink:actuate=\"onRequest\" xlink:href=\"psysml:ddd06611-1e40-467d-8133-a183585a6da5\" xlink:show=\"new\" xlink:title=\"psysml:ddd06611-1e40-467d-8133-a183585a6da5\" xlink:type=\"simple\"><path d=\"M349,137.12 C349,137.12 349,205.91 349,205.91 \" fill=\"none\" id=\"E3-&gt;E4\" style=\"stroke: #383838; stroke-width: 1.0; stroke-dasharray: 7.0,7.0;\"/><polygon fill=\"#383838\" points=\"349,213.91,352,205.91,346,205.91,349,213.91\" style=\"stroke: #383838; stroke-width: 1.0;\"/><text fill=\"#000000\" font-family=\"sans-serif\" font-size=\"13\" lengthAdjust=\"spacingAndGlyphs\" textLength=\"64\" x=\"350\" y=\"180.0669\">«depend»</text></a><!--MD5=[1b7591eae5389033d8d09a9d6721a717]\n",
       "link E4 to E5--><a href=\"psysml:b5c0928c-fbc9-4433-ab1e-c084bfbcebd5\" target=\"_top\" title=\"psysml:b5c0928c-fbc9-4433-ab1e-c084bfbcebd5\" xlink:actuate=\"onRequest\" xlink:href=\"psysml:b5c0928c-fbc9-4433-ab1e-c084bfbcebd5\" xlink:show=\"new\" xlink:title=\"psysml:b5c0928c-fbc9-4433-ab1e-c084bfbcebd5\" xlink:type=\"simple\"><path d=\"M349,267.12 C349,267.12 349,335.91 349,335.91 \" fill=\"none\" id=\"E4-&gt;E5\" style=\"stroke: #383838; stroke-width: 1.0; stroke-dasharray: 7.0,7.0;\"/><polygon fill=\"#383838\" points=\"349,343.91,352,335.91,346,335.91,349,343.91\" style=\"stroke: #383838; stroke-width: 1.0;\"/><text fill=\"#000000\" font-family=\"sans-serif\" font-size=\"13\" lengthAdjust=\"spacingAndGlyphs\" textLength=\"64\" x=\"350\" y=\"310.0669\">«depend»</text></a><!--MD5=[c5e8897d989ce984f93528998a7150fe]\n",
       "link E8 to E6--><a href=\"psysml:a0e318cd-0c17-433c-bc04-dbf1eaa3473c\" target=\"_top\" title=\"psysml:a0e318cd-0c17-433c-bc04-dbf1eaa3473c\" xlink:actuate=\"onRequest\" xlink:href=\"psysml:a0e318cd-0c17-433c-bc04-dbf1eaa3473c\" xlink:show=\"new\" xlink:title=\"psysml:a0e318cd-0c17-433c-bc04-dbf1eaa3473c\" xlink:type=\"simple\"><path d=\"M94,133.74 C94,133.74 94,209.46 94,209.46 \" fill=\"none\" id=\"E8-&gt;E6\" style=\"stroke: #383838; stroke-width: 1.0; stroke-dasharray: 7.0,7.0;\"/><polygon fill=\"#383838\" points=\"94,217.46,97,209.46,91,209.46,94,217.46\" style=\"stroke: #383838; stroke-width: 1.0;\"/><text fill=\"#000000\" font-family=\"sans-serif\" font-size=\"13\" lengthAdjust=\"spacingAndGlyphs\" textLength=\"64\" x=\"68\" y=\"180.0669\">«depend»</text></a><!--MD5=[bfa3c8b0d15052fdf50ae9310b491027]\n",
       "link E8 to E7--><a href=\"psysml:a0e318cd-0c17-433c-bc04-dbf1eaa3473c\" target=\"_top\" title=\"psysml:a0e318cd-0c17-433c-bc04-dbf1eaa3473c\" xlink:actuate=\"onRequest\" xlink:href=\"psysml:a0e318cd-0c17-433c-bc04-dbf1eaa3473c\" xlink:show=\"new\" xlink:title=\"psysml:a0e318cd-0c17-433c-bc04-dbf1eaa3473c\" xlink:type=\"simple\"><path d=\"M147,133.74 C147,133.74 147,209.46 147,209.46 \" fill=\"none\" id=\"E8-&gt;E7\" style=\"stroke: #383838; stroke-width: 1.0; stroke-dasharray: 7.0,7.0;\"/><polygon fill=\"#383838\" points=\"147,217.46,150,209.46,144,209.46,147,217.46\" style=\"stroke: #383838; stroke-width: 1.0;\"/><text fill=\"#000000\" font-family=\"sans-serif\" font-size=\"13\" lengthAdjust=\"spacingAndGlyphs\" textLength=\"64\" x=\"174\" y=\"180.0669\">«depend»</text></a><!--MD5=[cc4951d41916e70ff94d5083e33b2268]\n",
       "@startuml\r\n",
       "skinparam linetype ortho\r\n",
       "skinparam monochrome true\r\n",
       "skinparam classbackgroundcolor white\r\n",
       "skinparam shadowing false\r\n",
       "skinparam wrapWidth 300\r\n",
       "hide circle\r\n",
       "\r\n",
       "package \"DependencyTest\" as E1  [[psysml:01e86263-1e08-4c5e-80c8-9f3a01cb2b1c ]]  {\r\n",
       "package \"System\" as E2  [[psysml:65d9c171-277b-4a12-8988-537cd17218fe ]]  {\r\n",
       "package \"Application Layer\" as E3  [[psysml:7bbe8935-ee6e-44c3-abf9-e711bcee98e7 ]]  {\r\n",
       "}\r\n",
       "package \"Service Layer\" as E4  [[psysml:8539df59-9777-43d1-9cbc-191f1e3b0af0 ]]  {\r\n",
       "}\r\n",
       "package \"Data Layer\" as E5  [[psysml:06e8cf4d-e880-4b5c-8fdb-0871598a4cb3 ]]  {\r\n",
       "}\r\n",
       "}\r\n",
       "comp usage \"x\" as E6  <<(T,blue)attribute>> [[psysml:3f429861-8945-458a-afac-b9814097464d ]] {\r\n",
       "}\r\n",
       "comp usage \"y\" as E7  <<(T,blue)attribute>> [[psysml:f3318431-0d45-43ea-b254-330318c85eb0 ]] {\r\n",
       "}\r\n",
       "comp usage \"z\" as E8  <<(T,blue)attribute>> [[psysml:da180d87-042d-4ade-81c9-b5201399a446 ]] {\r\n",
       "}\r\n",
       "E3 ..>> E4 [[psysml:ddd06611-1e40-467d-8133-a183585a6da5 ]] : <<depend>>\r\n",
       "E4 ..>> E5 [[psysml:b5c0928c-fbc9-4433-ab1e-c084bfbcebd5 ]] : <<depend>>\r\n",
       "E8 ..>> E6 [[psysml:a0e318cd-0c17-433c-bc04-dbf1eaa3473c ]] : <<depend>>\r\n",
       "E8 ..>> E7 [[psysml:a0e318cd-0c17-433c-bc04-dbf1eaa3473c ]] : <<depend>>\r\n",
       "}\r\n",
       "@enduml\r\n",
       "\n",
       "PlantUML version 1.2020.13(Sat Jun 13 12:26:38 UTC 2020)\n",
       "(EPL source distribution)\n",
       "Java Runtime: OpenJDK Runtime Environment\n",
       "JVM: OpenJDK 64-Bit Server VM\n",
       "Default Encoding: UTF-8\n",
       "Language: en\n",
       "Country: null\n",
       "--></g></svg>"
      ]
     },
     "execution_count": 57,
     "metadata": {},
     "output_type": "execute_result"
    }
   ],
   "source": [
    "%viz --style=\"ORTHOLINE\" --view=\"MIXED\" \"DependencyTest\""
   ]
  }
 ],
 "metadata": {
  "kernelspec": {
   "display_name": "SysML",
   "language": "sysml",
   "name": "sysml"
  },
  "language_info": {
   "codemirror_mode": "sysml",
   "file_extension": ".sysml",
   "mimetype": "text/x-sysml",
   "name": "SysML",
   "pygments_lexer": "java",
   "version": "1.0.0"
  }
 },
 "nbformat": 4,
 "nbformat_minor": 5
}
