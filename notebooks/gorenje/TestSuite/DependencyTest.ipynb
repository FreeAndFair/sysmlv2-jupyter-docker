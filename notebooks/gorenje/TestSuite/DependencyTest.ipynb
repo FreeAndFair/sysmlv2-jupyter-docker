{
 "cells": [
  {
   "cell_type": "markdown",
   "id": "6f87b3e8",
   "metadata": {},
   "source": [
    "# SysML v2 Test Suite\n",
    "\n",
    "This can notebook can be cleared using menu `Edit --> Clear All Outputs` and then all cells can be\n",
    "run using menu `Run --> Run All Cells`.\n",
    "\n",
    "**WARNING**: This file is generated, all modifications here will be ignored.\n"
   ]
  },
  {
   "cell_type": "markdown",
   "id": "c7acdd97",
   "metadata": {},
   "source": [
    "## File: ../../sysml/src/examples/Simple Tests/DependencyTest.sysml"
   ]
  },
  {
   "cell_type": "code",
   "execution_count": 1,
   "id": "ad686578",
   "metadata": {
    "execution": {
     "iopub.execute_input": "2024-12-16T03:27:29.130277Z",
     "iopub.status.busy": "2024-12-16T03:27:29.129446Z",
     "iopub.status.idle": "2024-12-16T03:27:29.257049Z",
     "shell.execute_reply": "2024-12-16T03:27:29.256808Z"
    }
   },
   "outputs": [
    {
     "data": {
      "text/plain": [
       "Package DependencyTest (7dee102c-3f89-42b9-9919-3eaa1d7109e5)\n"
      ]
     },
     "execution_count": 1,
     "metadata": {},
     "output_type": "execute_result"
    }
   ],
   "source": [
    "package DependencyTest {\n",
    "\t\n",
    "\tpackage System {\n",
    "\t\tpackage 'Application Layer';\n",
    "\t\tpackage 'Service Layer';\n",
    "\t\tpackage 'Data Layer';\n",
    "\t}\n",
    "\t\n",
    "\tprivate import System::*;\n",
    "\t\n",
    "\tdependency Use from 'Application Layer' to 'Service Layer';\n",
    "\tdependency from 'Service Layer' to 'Data Layer';\n",
    "\t\n",
    "\tattribute x;\n",
    "\tattribute y;\n",
    "\tattribute z;\n",
    "\t\n",
    "\tdependency z to x, y;\n",
    "\t\n",
    "}"
   ]
  },
  {
   "cell_type": "code",
   "execution_count": 2,
   "id": "49423d8a",
   "metadata": {
    "execution": {
     "iopub.execute_input": "2024-12-16T03:27:29.309617Z",
     "iopub.status.busy": "2024-12-16T03:27:29.309266Z",
     "iopub.status.idle": "2024-12-16T03:27:29.731294Z",
     "shell.execute_reply": "2024-12-16T03:27:29.731123Z"
    }
   },
   "outputs": [
    {
     "data": {
      "image/svg+xml": [
       "<?xml version=\"1.0\" encoding=\"UTF-8\" standalone=\"no\"?><svg xmlns=\"http://www.w3.org/2000/svg\" xmlns:xlink=\"http://www.w3.org/1999/xlink\" contentStyleType=\"text/css\" height=\"547px\" preserveAspectRatio=\"none\" style=\"width:531px;height:547px;background:#FFFFFF;\" version=\"1.1\" viewBox=\"0 0 531 547\" width=\"531px\" zoomAndPan=\"magnify\"><defs/><g><!--MD5=[fbc87193dbaf4d95561dea2c320d4a47]\n",
       "cluster E1--><g id=\"cluster_E1\"><a href=\"psysml:7dee102c-3f89-42b9-9919-3eaa1d7109e5\" target=\"_top\" title=\"psysml:7dee102c-3f89-42b9-9919-3eaa1d7109e5\" xlink:actuate=\"onRequest\" xlink:href=\"psysml:7dee102c-3f89-42b9-9919-3eaa1d7109e5\" xlink:show=\"new\" xlink:title=\"psysml:7dee102c-3f89-42b9-9919-3eaa1d7109e5\" xlink:type=\"simple\"><polygon fill=\"none\" points=\"16,6,148.125,6,155.125,28.2969,514,28.2969,514,540.72,16,540.72,16,6\" style=\"stroke:#000000;stroke-width:1.5;\"/><line style=\"stroke:#000000;stroke-width:1.5;\" x1=\"16\" x2=\"155.125\" y1=\"28.2969\" y2=\"28.2969\"/><text fill=\"#000000\" font-family=\"sans-serif\" font-size=\"14\" font-weight=\"bold\" lengthAdjust=\"spacing\" textLength=\"126.125\" x=\"20\" y=\"20.9951\">DependencyTest</text></a></g><!--MD5=[e4f7fae6ed58524ba242bb0b0d3be6b7]\n",
       "cluster E2--><g id=\"cluster_E2\"><a href=\"psysml:da04b59d-3286-4d3f-bbc3-7e7bb49d7c5d\" target=\"_top\" title=\"psysml:da04b59d-3286-4d3f-bbc3-7e7bb49d7c5d\" xlink:actuate=\"onRequest\" xlink:href=\"psysml:da04b59d-3286-4d3f-bbc3-7e7bb49d7c5d\" xlink:show=\"new\" xlink:title=\"psysml:da04b59d-3286-4d3f-bbc3-7e7bb49d7c5d\" xlink:type=\"simple\"><polygon fill=\"none\" points=\"271,120.72,330.625,120.72,337.625,143.0169,474,143.0169,474,500.72,271,500.72,271,120.72\" style=\"stroke:#000000;stroke-width:1.5;\"/><line style=\"stroke:#000000;stroke-width:1.5;\" x1=\"271\" x2=\"337.625\" y1=\"143.0169\" y2=\"143.0169\"/><text fill=\"#000000\" font-family=\"sans-serif\" font-size=\"14\" font-weight=\"bold\" lengthAdjust=\"spacing\" textLength=\"53.625\" x=\"275\" y=\"135.7151\">System</text></a></g><!--MD5=[60a26617385b1d2d0262a64233df1f8d]\n",
       "class E6--><a href=\"psysml:fa1eb9e1-3558-4ac6-ae6a-7c42660b9dca\" target=\"_top\" title=\"psysml:fa1eb9e1-3558-4ac6-ae6a-7c42660b9dca\" xlink:actuate=\"onRequest\" xlink:href=\"psysml:fa1eb9e1-3558-4ac6-ae6a-7c42660b9dca\" xlink:show=\"new\" xlink:title=\"psysml:fa1eb9e1-3558-4ac6-ae6a-7c42660b9dca\" xlink:type=\"simple\"><g id=\"elem_E6\"><rect fill=\"#FFFFFF\" height=\"48.2656\" id=\"E6\" rx=\"10\" ry=\"10\" style=\"stroke:#181818;stroke-width:0.5;\" width=\"71\" x=\"40.5\" y=\"296.22\"/><text fill=\"#000000\" font-family=\"sans-serif\" font-size=\"12\" font-style=\"italic\" lengthAdjust=\"spacing\" textLength=\"69\" x=\"41.5\" y=\"312.3587\">«attribute»</text><text fill=\"#000000\" font-family=\"sans-serif\" font-size=\"14\" lengthAdjust=\"spacing\" textLength=\"7\" x=\"68.5\" y=\"328.1839\">x</text><line style=\"stroke:#181818;stroke-width:0.5;\" x1=\"41.5\" x2=\"110.5\" y1=\"336.4856\" y2=\"336.4856\"/></g></a><!--MD5=[2156ba9850f5573cc1fc38a6a4b2f02b]\n",
       "class E7--><a href=\"psysml:a1db1b5d-0100-40b0-bd9f-2e7223fe2e6d\" target=\"_top\" title=\"psysml:a1db1b5d-0100-40b0-bd9f-2e7223fe2e6d\" xlink:actuate=\"onRequest\" xlink:href=\"psysml:a1db1b5d-0100-40b0-bd9f-2e7223fe2e6d\" xlink:show=\"new\" xlink:title=\"psysml:a1db1b5d-0100-40b0-bd9f-2e7223fe2e6d\" xlink:type=\"simple\"><g id=\"elem_E7\"><rect fill=\"#FFFFFF\" height=\"48.2656\" id=\"E7\" rx=\"10\" ry=\"10\" style=\"stroke:#181818;stroke-width:0.5;\" width=\"71\" x=\"146.5\" y=\"296.22\"/><text fill=\"#000000\" font-family=\"sans-serif\" font-size=\"12\" font-style=\"italic\" lengthAdjust=\"spacing\" textLength=\"69\" x=\"147.5\" y=\"312.3587\">«attribute»</text><text fill=\"#000000\" font-family=\"sans-serif\" font-size=\"14\" lengthAdjust=\"spacing\" textLength=\"7\" x=\"174.5\" y=\"328.1839\">y</text><line style=\"stroke:#181818;stroke-width:0.5;\" x1=\"147.5\" x2=\"216.5\" y1=\"336.4856\" y2=\"336.4856\"/></g></a><!--MD5=[b9389687b975829384b498ac4b7476b2]\n",
       "class E8--><a href=\"psysml:179fcb88-b86f-4c8c-8d3f-0f88ad709e86\" target=\"_top\" title=\"psysml:179fcb88-b86f-4c8c-8d3f-0f88ad709e86\" xlink:actuate=\"onRequest\" xlink:href=\"psysml:179fcb88-b86f-4c8c-8d3f-0f88ad709e86\" xlink:show=\"new\" xlink:title=\"psysml:179fcb88-b86f-4c8c-8d3f-0f88ad709e86\" xlink:type=\"simple\"><g id=\"elem_E8\"><rect fill=\"#FFFFFF\" height=\"48.2656\" id=\"E8\" rx=\"10\" ry=\"10\" style=\"stroke:#181818;stroke-width:0.5;\" width=\"71\" x=\"92.5\" y=\"166.22\"/><text fill=\"#000000\" font-family=\"sans-serif\" font-size=\"12\" font-style=\"italic\" lengthAdjust=\"spacing\" textLength=\"69\" x=\"93.5\" y=\"182.3587\">«attribute»</text><text fill=\"#000000\" font-family=\"sans-serif\" font-size=\"14\" lengthAdjust=\"spacing\" textLength=\"8\" x=\"120\" y=\"198.1839\">z</text><line style=\"stroke:#181818;stroke-width:0.5;\" x1=\"93.5\" x2=\"162.5\" y1=\"206.4856\" y2=\"206.4856\"/></g></a><a href=\"psysml:174d7b64-e31a-4a54-99c4-d88bb0afa8af\" target=\"_top\" title=\"psysml:174d7b64-e31a-4a54-99c4-d88bb0afa8af\" xlink:actuate=\"onRequest\" xlink:href=\"psysml:174d7b64-e31a-4a54-99c4-d88bb0afa8af\" xlink:show=\"new\" xlink:title=\"psysml:174d7b64-e31a-4a54-99c4-d88bb0afa8af\" xlink:type=\"simple\"><polygon fill=\"#FFFFFF\" points=\"314.5,163.72,435.5,163.72,442.5,186.0169,449.5,186.0169,449.5,216.3138,314.5,216.3138,314.5,163.72\" style=\"stroke:#181818;stroke-width:0.5;\"/><line style=\"stroke:#181818;stroke-width:0.5;\" x1=\"314.5\" x2=\"442.5\" y1=\"186.0169\" y2=\"186.0169\"/><text fill=\"#000000\" font-family=\"sans-serif\" font-size=\"14\" lengthAdjust=\"spacing\" textLength=\"115\" x=\"318.5\" y=\"178.7151\">Application Layer</text></a><a href=\"psysml:6cc47e98-b8e7-4ff0-90aa-a6e12ea2ee54\" target=\"_top\" title=\"psysml:6cc47e98-b8e7-4ff0-90aa-a6e12ea2ee54\" xlink:actuate=\"onRequest\" xlink:href=\"psysml:6cc47e98-b8e7-4ff0-90aa-a6e12ea2ee54\" xlink:show=\"new\" xlink:title=\"psysml:6cc47e98-b8e7-4ff0-90aa-a6e12ea2ee54\" xlink:type=\"simple\"><polygon fill=\"#FFFFFF\" points=\"327,293.72,423,293.72,430,316.0169,437,316.0169,437,346.3138,327,346.3138,327,293.72\" style=\"stroke:#181818;stroke-width:0.5;\"/><line style=\"stroke:#181818;stroke-width:0.5;\" x1=\"327\" x2=\"430\" y1=\"316.0169\" y2=\"316.0169\"/><text fill=\"#000000\" font-family=\"sans-serif\" font-size=\"14\" lengthAdjust=\"spacing\" textLength=\"90\" x=\"331\" y=\"308.7151\">Service Layer</text></a><a href=\"psysml:a41e95d1-6586-47c5-87a0-a52adaa3773e\" target=\"_top\" title=\"psysml:a41e95d1-6586-47c5-87a0-a52adaa3773e\" xlink:actuate=\"onRequest\" xlink:href=\"psysml:a41e95d1-6586-47c5-87a0-a52adaa3773e\" xlink:show=\"new\" xlink:title=\"psysml:a41e95d1-6586-47c5-87a0-a52adaa3773e\" xlink:type=\"simple\"><polygon fill=\"#FFFFFF\" points=\"336,423.72,414,423.72,421,446.0169,428,446.0169,428,476.3138,336,476.3138,336,423.72\" style=\"stroke:#181818;stroke-width:0.5;\"/><line style=\"stroke:#181818;stroke-width:0.5;\" x1=\"336\" x2=\"421\" y1=\"446.0169\" y2=\"446.0169\"/><text fill=\"#000000\" font-family=\"sans-serif\" font-size=\"14\" lengthAdjust=\"spacing\" textLength=\"72\" x=\"340\" y=\"438.7151\">Data Layer</text></a><!--MD5=[1f1cd8e6dd4c1b2ca2aaccc9b9bcea6e]\n",
       "link E1 to E2--><g id=\"link_E1_E2\"><a href=\"psysml:98ffbcea-2ad0-443f-b206-57004efde221\" target=\"_top\" title=\"psysml:98ffbcea-2ad0-443f-b206-57004efde221\" xlink:actuate=\"onRequest\" xlink:href=\"psysml:98ffbcea-2ad0-443f-b206-57004efde221\" xlink:show=\"new\" xlink:title=\"psysml:98ffbcea-2ad0-443f-b206-57004efde221\" xlink:type=\"simple\"><path d=\"M279,33.83 C279,36.15 279,73.83 279,111.5 C279,113.8544 279,116.2087 279,118.5544 C279,119.1408 279,119.7267 279,120.3119 \" fill=\"none\" id=\"E1-to-E2\" style=\"stroke:#181818;stroke-width:1.0;stroke-dasharray:7.0,7.0;\"/><polygon fill=\"#181818\" points=\"279,120.3119,283,111.3119,279,115.3119,275,111.3119,279,120.3119\" style=\"stroke:#181818;stroke-width:1.0;\"/><text fill=\"#000000\" font-family=\"sans-serif\" font-size=\"13\" lengthAdjust=\"spacing\" textLength=\"65\" x=\"280\" y=\"76.7869\">«import»*</text></a></g><!--MD5=[af87c684e3b0d8be13c1a698a818ef1e]\n",
       "link E3 to E4--><g id=\"link_E3_E4\"><a href=\"psysml:94e1a3f7-50a9-4c8e-a4e8-5ce452ddfecf\" target=\"_top\" title=\"psysml:94e1a3f7-50a9-4c8e-a4e8-5ce452ddfecf\" xlink:actuate=\"onRequest\" xlink:href=\"psysml:94e1a3f7-50a9-4c8e-a4e8-5ce452ddfecf\" xlink:show=\"new\" xlink:title=\"psysml:94e1a3f7-50a9-4c8e-a4e8-5ce452ddfecf\" xlink:type=\"simple\"><path d=\"M382,216.82 C382,236.52 382,263.94 382,285.45 \" fill=\"none\" id=\"E3-to-E4\" style=\"stroke:#181818;stroke-width:1.0;stroke-dasharray:7.0,7.0;\"/><polygon fill=\"#181818\" points=\"382,293.67,385,285.67,379,285.67,382,293.67\" style=\"stroke:#181818;stroke-width:1.0;\"/><text fill=\"#000000\" font-family=\"sans-serif\" font-size=\"13\" lengthAdjust=\"spacing\" textLength=\"64\" x=\"383\" y=\"259.7869\">«depend»</text></a></g><!--MD5=[1b7591eae5389033d8d09a9d6721a717]\n",
       "link E4 to E5--><g id=\"link_E4_E5\"><a href=\"psysml:9da5c160-44e8-44ec-9936-ca4a4075f5f4\" target=\"_top\" title=\"psysml:9da5c160-44e8-44ec-9936-ca4a4075f5f4\" xlink:actuate=\"onRequest\" xlink:href=\"psysml:9da5c160-44e8-44ec-9936-ca4a4075f5f4\" xlink:show=\"new\" xlink:title=\"psysml:9da5c160-44e8-44ec-9936-ca4a4075f5f4\" xlink:type=\"simple\"><path d=\"M382,346.82 C382,366.52 382,393.94 382,415.45 \" fill=\"none\" id=\"E4-to-E5\" style=\"stroke:#181818;stroke-width:1.0;stroke-dasharray:7.0,7.0;\"/><polygon fill=\"#181818\" points=\"382,423.67,385,415.67,379,415.67,382,423.67\" style=\"stroke:#181818;stroke-width:1.0;\"/><text fill=\"#000000\" font-family=\"sans-serif\" font-size=\"13\" lengthAdjust=\"spacing\" textLength=\"64\" x=\"383\" y=\"389.7869\">«depend»</text></a></g><!--MD5=[c5e8897d989ce984f93528998a7150fe]\n",
       "link E8 to E6--><g id=\"link_E8_E6\"><a href=\"psysml:cc6cc763-fa59-42bd-a700-018e736c1371\" target=\"_top\" title=\"psysml:cc6cc763-fa59-42bd-a700-018e736c1371\" xlink:actuate=\"onRequest\" xlink:href=\"psysml:cc6cc763-fa59-42bd-a700-018e736c1371\" xlink:show=\"new\" xlink:title=\"psysml:cc6cc763-fa59-42bd-a700-018e736c1371\" xlink:type=\"simple\"><path d=\"M96.23,214.4 C86.58,223.3 77.16,234.34 72,246.72 C66.62,259.63 66.65,274.97 68.42,288.21 \" fill=\"none\" id=\"E8-to-E6\" style=\"stroke:#181818;stroke-width:1.0;stroke-dasharray:7.0,7.0;\"/><polygon fill=\"#181818\" points=\"69.71,296.14,71.386,287.762,65.4639,288.7258,69.71,296.14\" style=\"stroke:#181818;stroke-width:1.0;\"/><text fill=\"#000000\" font-family=\"sans-serif\" font-size=\"13\" lengthAdjust=\"spacing\" textLength=\"64\" x=\"73\" y=\"259.7869\">«depend»</text></a></g><!--MD5=[bfa3c8b0d15052fdf50ae9310b491027]\n",
       "link E8 to E7--><g id=\"link_E8_E7\"><a href=\"psysml:cc6cc763-fa59-42bd-a700-018e736c1371\" target=\"_top\" title=\"psysml:cc6cc763-fa59-42bd-a700-018e736c1371\" xlink:actuate=\"onRequest\" xlink:href=\"psysml:cc6cc763-fa59-42bd-a700-018e736c1371\" xlink:show=\"new\" xlink:title=\"psysml:cc6cc763-fa59-42bd-a700-018e736c1371\" xlink:type=\"simple\"><path d=\"M137.78,214.4 C146.57,235.24 159.55,266 169.17,288.81 \" fill=\"none\" id=\"E8-to-E7\" style=\"stroke:#181818;stroke-width:1.0;stroke-dasharray:7.0,7.0;\"/><polygon fill=\"#181818\" points=\"172.29,296.21,171.9401,287.6732,166.4131,290.0082,172.29,296.21\" style=\"stroke:#181818;stroke-width:1.0;\"/><text fill=\"#000000\" font-family=\"sans-serif\" font-size=\"13\" lengthAdjust=\"spacing\" textLength=\"64\" x=\"159\" y=\"259.7869\">«depend»</text></a></g><!--MD5=[3f90fcb28ec567bb266ed50c7ae52b39]\n",
       "@startuml\r\n",
       "skin sysmlbw\r\n",
       "skinparam monochrome true\r\n",
       "skinparam wrapWidth 300\r\n",
       "hide circle\r\n",
       " \r\n",
       "package \"DependencyTest\" as E1  [[psysml:7dee102c-3f89-42b9-9919-3eaa1d7109e5 ]]  {\r\n",
       "package \"System\" as E2  [[psysml:da04b59d-3286-4d3f-bbc3-7e7bb49d7c5d ]]  {\r\n",
       "package \"Application Layer\" as E3  [[psysml:174d7b64-e31a-4a54-99c4-d88bb0afa8af ]]  {\r\n",
       "}\r\n",
       "package \"Service Layer\" as E4  [[psysml:6cc47e98-b8e7-4ff0-90aa-a6e12ea2ee54 ]]  {\r\n",
       "}\r\n",
       "package \"Data Layer\" as E5  [[psysml:a41e95d1-6586-47c5-87a0-a52adaa3773e ]]  {\r\n",
       "}\r\n",
       "}\r\n",
       "comp usage \"x  \" as E6  <<(T,blue) attribute>> [[psysml:fa1eb9e1-3558-4ac6-ae6a-7c42660b9dca ]] {\r\n",
       "}\r\n",
       "comp usage \"y  \" as E7  <<(T,blue) attribute>> [[psysml:a1db1b5d-0100-40b0-bd9f-2e7223fe2e6d ]] {\r\n",
       "}\r\n",
       "comp usage \"z  \" as E8  <<(T,blue) attribute>> [[psysml:179fcb88-b86f-4c8c-8d3f-0f88ad709e86 ]] {\r\n",
       "}\r\n",
       "}\r\n",
       "E1 ..> E2 [[psysml:98ffbcea-2ad0-443f-b206-57004efde221 ]] : <<import>>*\r\n",
       "E3 ..>> E4 [[psysml:94e1a3f7-50a9-4c8e-a4e8-5ce452ddfecf ]] : <<depend>>\r\n",
       "E4 ..>> E5 [[psysml:9da5c160-44e8-44ec-9936-ca4a4075f5f4 ]] : <<depend>>\r\n",
       "E8 ..>> E6 [[psysml:cc6cc763-fa59-42bd-a700-018e736c1371 ]] : <<depend>>\r\n",
       "E8 ..>> E7 [[psysml:cc6cc763-fa59-42bd-a700-018e736c1371 ]] : <<depend>>\r\n",
       "@enduml\r\n",
       "\n",
       "PlantUML version 1.2022.7(Mon Aug 22 17:01:30 UTC 2022)\n",
       "(EPL source distribution)\n",
       "Java Runtime: OpenJDK Runtime Environment\n",
       "JVM: OpenJDK 64-Bit Server VM\n",
       "Default Encoding: UTF-8\n",
       "Language: en\n",
       "Country: null\n",
       "--></g></svg>"
      ]
     },
     "execution_count": 2,
     "metadata": {},
     "output_type": "execute_result"
    }
   ],
   "source": [
    "%viz --style=\"COMPTREE\" --view=\"Default\" \"DependencyTest\""
   ]
  },
  {
   "cell_type": "code",
   "execution_count": 3,
   "id": "6b30246d",
   "metadata": {
    "execution": {
     "iopub.execute_input": "2024-12-16T03:27:29.787133Z",
     "iopub.status.busy": "2024-12-16T03:27:29.786912Z",
     "iopub.status.idle": "2024-12-16T03:27:29.833567Z",
     "shell.execute_reply": "2024-12-16T03:27:29.833704Z"
    }
   },
   "outputs": [
    {
     "data": {
      "image/svg+xml": [
       "<?xml version=\"1.0\" encoding=\"UTF-8\" standalone=\"no\"?><svg xmlns=\"http://www.w3.org/2000/svg\" xmlns:xlink=\"http://www.w3.org/1999/xlink\" contentStyleType=\"text/css\" height=\"547px\" preserveAspectRatio=\"none\" style=\"width:531px;height:547px;background:#FFFFFF;\" version=\"1.1\" viewBox=\"0 0 531 547\" width=\"531px\" zoomAndPan=\"magnify\"><defs/><g><!--MD5=[fbc87193dbaf4d95561dea2c320d4a47]\n",
       "cluster E1--><g id=\"cluster_E1\"><a href=\"psysml:7dee102c-3f89-42b9-9919-3eaa1d7109e5\" target=\"_top\" title=\"psysml:7dee102c-3f89-42b9-9919-3eaa1d7109e5\" xlink:actuate=\"onRequest\" xlink:href=\"psysml:7dee102c-3f89-42b9-9919-3eaa1d7109e5\" xlink:show=\"new\" xlink:title=\"psysml:7dee102c-3f89-42b9-9919-3eaa1d7109e5\" xlink:type=\"simple\"><polygon fill=\"none\" points=\"16,6,148.125,6,155.125,28.2969,514,28.2969,514,540.72,16,540.72,16,6\" style=\"stroke:#000000;stroke-width:1.5;\"/><line style=\"stroke:#000000;stroke-width:1.5;\" x1=\"16\" x2=\"155.125\" y1=\"28.2969\" y2=\"28.2969\"/><text fill=\"#000000\" font-family=\"sans-serif\" font-size=\"14\" font-weight=\"bold\" lengthAdjust=\"spacing\" textLength=\"126.125\" x=\"20\" y=\"20.9951\">DependencyTest</text></a></g><!--MD5=[e4f7fae6ed58524ba242bb0b0d3be6b7]\n",
       "cluster E2--><g id=\"cluster_E2\"><a href=\"psysml:da04b59d-3286-4d3f-bbc3-7e7bb49d7c5d\" target=\"_top\" title=\"psysml:da04b59d-3286-4d3f-bbc3-7e7bb49d7c5d\" xlink:actuate=\"onRequest\" xlink:href=\"psysml:da04b59d-3286-4d3f-bbc3-7e7bb49d7c5d\" xlink:show=\"new\" xlink:title=\"psysml:da04b59d-3286-4d3f-bbc3-7e7bb49d7c5d\" xlink:type=\"simple\"><polygon fill=\"none\" points=\"271,120.72,330.625,120.72,337.625,143.0169,474,143.0169,474,500.72,271,500.72,271,120.72\" style=\"stroke:#000000;stroke-width:1.5;\"/><line style=\"stroke:#000000;stroke-width:1.5;\" x1=\"271\" x2=\"337.625\" y1=\"143.0169\" y2=\"143.0169\"/><text fill=\"#000000\" font-family=\"sans-serif\" font-size=\"14\" font-weight=\"bold\" lengthAdjust=\"spacing\" textLength=\"53.625\" x=\"275\" y=\"135.7151\">System</text></a></g><!--MD5=[60a26617385b1d2d0262a64233df1f8d]\n",
       "class E6--><a href=\"psysml:fa1eb9e1-3558-4ac6-ae6a-7c42660b9dca\" target=\"_top\" title=\"psysml:fa1eb9e1-3558-4ac6-ae6a-7c42660b9dca\" xlink:actuate=\"onRequest\" xlink:href=\"psysml:fa1eb9e1-3558-4ac6-ae6a-7c42660b9dca\" xlink:show=\"new\" xlink:title=\"psysml:fa1eb9e1-3558-4ac6-ae6a-7c42660b9dca\" xlink:type=\"simple\"><g id=\"elem_E6\"><rect fill=\"#FFFFFF\" height=\"48.2656\" id=\"E6\" rx=\"10\" ry=\"10\" style=\"stroke:#181818;stroke-width:0.5;\" width=\"71\" x=\"40.5\" y=\"296.22\"/><text fill=\"#000000\" font-family=\"sans-serif\" font-size=\"12\" font-style=\"italic\" lengthAdjust=\"spacing\" textLength=\"69\" x=\"41.5\" y=\"312.3587\">«attribute»</text><text fill=\"#000000\" font-family=\"sans-serif\" font-size=\"14\" lengthAdjust=\"spacing\" textLength=\"7\" x=\"68.5\" y=\"328.1839\">x</text><line style=\"stroke:#181818;stroke-width:0.5;\" x1=\"41.5\" x2=\"110.5\" y1=\"336.4856\" y2=\"336.4856\"/></g></a><!--MD5=[2156ba9850f5573cc1fc38a6a4b2f02b]\n",
       "class E7--><a href=\"psysml:a1db1b5d-0100-40b0-bd9f-2e7223fe2e6d\" target=\"_top\" title=\"psysml:a1db1b5d-0100-40b0-bd9f-2e7223fe2e6d\" xlink:actuate=\"onRequest\" xlink:href=\"psysml:a1db1b5d-0100-40b0-bd9f-2e7223fe2e6d\" xlink:show=\"new\" xlink:title=\"psysml:a1db1b5d-0100-40b0-bd9f-2e7223fe2e6d\" xlink:type=\"simple\"><g id=\"elem_E7\"><rect fill=\"#FFFFFF\" height=\"48.2656\" id=\"E7\" rx=\"10\" ry=\"10\" style=\"stroke:#181818;stroke-width:0.5;\" width=\"71\" x=\"146.5\" y=\"296.22\"/><text fill=\"#000000\" font-family=\"sans-serif\" font-size=\"12\" font-style=\"italic\" lengthAdjust=\"spacing\" textLength=\"69\" x=\"147.5\" y=\"312.3587\">«attribute»</text><text fill=\"#000000\" font-family=\"sans-serif\" font-size=\"14\" lengthAdjust=\"spacing\" textLength=\"7\" x=\"174.5\" y=\"328.1839\">y</text><line style=\"stroke:#181818;stroke-width:0.5;\" x1=\"147.5\" x2=\"216.5\" y1=\"336.4856\" y2=\"336.4856\"/></g></a><!--MD5=[b9389687b975829384b498ac4b7476b2]\n",
       "class E8--><a href=\"psysml:179fcb88-b86f-4c8c-8d3f-0f88ad709e86\" target=\"_top\" title=\"psysml:179fcb88-b86f-4c8c-8d3f-0f88ad709e86\" xlink:actuate=\"onRequest\" xlink:href=\"psysml:179fcb88-b86f-4c8c-8d3f-0f88ad709e86\" xlink:show=\"new\" xlink:title=\"psysml:179fcb88-b86f-4c8c-8d3f-0f88ad709e86\" xlink:type=\"simple\"><g id=\"elem_E8\"><rect fill=\"#FFFFFF\" height=\"48.2656\" id=\"E8\" rx=\"10\" ry=\"10\" style=\"stroke:#181818;stroke-width:0.5;\" width=\"71\" x=\"92.5\" y=\"166.22\"/><text fill=\"#000000\" font-family=\"sans-serif\" font-size=\"12\" font-style=\"italic\" lengthAdjust=\"spacing\" textLength=\"69\" x=\"93.5\" y=\"182.3587\">«attribute»</text><text fill=\"#000000\" font-family=\"sans-serif\" font-size=\"14\" lengthAdjust=\"spacing\" textLength=\"8\" x=\"120\" y=\"198.1839\">z</text><line style=\"stroke:#181818;stroke-width:0.5;\" x1=\"93.5\" x2=\"162.5\" y1=\"206.4856\" y2=\"206.4856\"/></g></a><a href=\"psysml:174d7b64-e31a-4a54-99c4-d88bb0afa8af\" target=\"_top\" title=\"psysml:174d7b64-e31a-4a54-99c4-d88bb0afa8af\" xlink:actuate=\"onRequest\" xlink:href=\"psysml:174d7b64-e31a-4a54-99c4-d88bb0afa8af\" xlink:show=\"new\" xlink:title=\"psysml:174d7b64-e31a-4a54-99c4-d88bb0afa8af\" xlink:type=\"simple\"><polygon fill=\"#FFFFFF\" points=\"314.5,163.72,435.5,163.72,442.5,186.0169,449.5,186.0169,449.5,216.3138,314.5,216.3138,314.5,163.72\" style=\"stroke:#181818;stroke-width:0.5;\"/><line style=\"stroke:#181818;stroke-width:0.5;\" x1=\"314.5\" x2=\"442.5\" y1=\"186.0169\" y2=\"186.0169\"/><text fill=\"#000000\" font-family=\"sans-serif\" font-size=\"14\" lengthAdjust=\"spacing\" textLength=\"115\" x=\"318.5\" y=\"178.7151\">Application Layer</text></a><a href=\"psysml:6cc47e98-b8e7-4ff0-90aa-a6e12ea2ee54\" target=\"_top\" title=\"psysml:6cc47e98-b8e7-4ff0-90aa-a6e12ea2ee54\" xlink:actuate=\"onRequest\" xlink:href=\"psysml:6cc47e98-b8e7-4ff0-90aa-a6e12ea2ee54\" xlink:show=\"new\" xlink:title=\"psysml:6cc47e98-b8e7-4ff0-90aa-a6e12ea2ee54\" xlink:type=\"simple\"><polygon fill=\"#FFFFFF\" points=\"327,293.72,423,293.72,430,316.0169,437,316.0169,437,346.3138,327,346.3138,327,293.72\" style=\"stroke:#181818;stroke-width:0.5;\"/><line style=\"stroke:#181818;stroke-width:0.5;\" x1=\"327\" x2=\"430\" y1=\"316.0169\" y2=\"316.0169\"/><text fill=\"#000000\" font-family=\"sans-serif\" font-size=\"14\" lengthAdjust=\"spacing\" textLength=\"90\" x=\"331\" y=\"308.7151\">Service Layer</text></a><a href=\"psysml:a41e95d1-6586-47c5-87a0-a52adaa3773e\" target=\"_top\" title=\"psysml:a41e95d1-6586-47c5-87a0-a52adaa3773e\" xlink:actuate=\"onRequest\" xlink:href=\"psysml:a41e95d1-6586-47c5-87a0-a52adaa3773e\" xlink:show=\"new\" xlink:title=\"psysml:a41e95d1-6586-47c5-87a0-a52adaa3773e\" xlink:type=\"simple\"><polygon fill=\"#FFFFFF\" points=\"336,423.72,414,423.72,421,446.0169,428,446.0169,428,476.3138,336,476.3138,336,423.72\" style=\"stroke:#181818;stroke-width:0.5;\"/><line style=\"stroke:#181818;stroke-width:0.5;\" x1=\"336\" x2=\"421\" y1=\"446.0169\" y2=\"446.0169\"/><text fill=\"#000000\" font-family=\"sans-serif\" font-size=\"14\" lengthAdjust=\"spacing\" textLength=\"72\" x=\"340\" y=\"438.7151\">Data Layer</text></a><!--MD5=[1f1cd8e6dd4c1b2ca2aaccc9b9bcea6e]\n",
       "link E1 to E2--><g id=\"link_E1_E2\"><a href=\"psysml:98ffbcea-2ad0-443f-b206-57004efde221\" target=\"_top\" title=\"psysml:98ffbcea-2ad0-443f-b206-57004efde221\" xlink:actuate=\"onRequest\" xlink:href=\"psysml:98ffbcea-2ad0-443f-b206-57004efde221\" xlink:show=\"new\" xlink:title=\"psysml:98ffbcea-2ad0-443f-b206-57004efde221\" xlink:type=\"simple\"><path d=\"M279,33.83 C279,36.15 279,73.83 279,111.5 C279,113.8544 279,116.2087 279,118.5544 C279,119.1408 279,119.7267 279,120.3119 \" fill=\"none\" id=\"E1-to-E2\" style=\"stroke:#181818;stroke-width:1.0;stroke-dasharray:7.0,7.0;\"/><polygon fill=\"#181818\" points=\"279,120.3119,283,111.3119,279,115.3119,275,111.3119,279,120.3119\" style=\"stroke:#181818;stroke-width:1.0;\"/><text fill=\"#000000\" font-family=\"sans-serif\" font-size=\"13\" lengthAdjust=\"spacing\" textLength=\"65\" x=\"280\" y=\"76.7869\">«import»*</text></a></g><!--MD5=[af87c684e3b0d8be13c1a698a818ef1e]\n",
       "link E3 to E4--><g id=\"link_E3_E4\"><a href=\"psysml:94e1a3f7-50a9-4c8e-a4e8-5ce452ddfecf\" target=\"_top\" title=\"psysml:94e1a3f7-50a9-4c8e-a4e8-5ce452ddfecf\" xlink:actuate=\"onRequest\" xlink:href=\"psysml:94e1a3f7-50a9-4c8e-a4e8-5ce452ddfecf\" xlink:show=\"new\" xlink:title=\"psysml:94e1a3f7-50a9-4c8e-a4e8-5ce452ddfecf\" xlink:type=\"simple\"><path d=\"M382,216.82 C382,236.52 382,263.94 382,285.45 \" fill=\"none\" id=\"E3-to-E4\" style=\"stroke:#181818;stroke-width:1.0;stroke-dasharray:7.0,7.0;\"/><polygon fill=\"#181818\" points=\"382,293.67,385,285.67,379,285.67,382,293.67\" style=\"stroke:#181818;stroke-width:1.0;\"/><text fill=\"#000000\" font-family=\"sans-serif\" font-size=\"13\" lengthAdjust=\"spacing\" textLength=\"64\" x=\"383\" y=\"259.7869\">«depend»</text></a></g><!--MD5=[1b7591eae5389033d8d09a9d6721a717]\n",
       "link E4 to E5--><g id=\"link_E4_E5\"><a href=\"psysml:9da5c160-44e8-44ec-9936-ca4a4075f5f4\" target=\"_top\" title=\"psysml:9da5c160-44e8-44ec-9936-ca4a4075f5f4\" xlink:actuate=\"onRequest\" xlink:href=\"psysml:9da5c160-44e8-44ec-9936-ca4a4075f5f4\" xlink:show=\"new\" xlink:title=\"psysml:9da5c160-44e8-44ec-9936-ca4a4075f5f4\" xlink:type=\"simple\"><path d=\"M382,346.82 C382,366.52 382,393.94 382,415.45 \" fill=\"none\" id=\"E4-to-E5\" style=\"stroke:#181818;stroke-width:1.0;stroke-dasharray:7.0,7.0;\"/><polygon fill=\"#181818\" points=\"382,423.67,385,415.67,379,415.67,382,423.67\" style=\"stroke:#181818;stroke-width:1.0;\"/><text fill=\"#000000\" font-family=\"sans-serif\" font-size=\"13\" lengthAdjust=\"spacing\" textLength=\"64\" x=\"383\" y=\"389.7869\">«depend»</text></a></g><!--MD5=[c5e8897d989ce984f93528998a7150fe]\n",
       "link E8 to E6--><g id=\"link_E8_E6\"><a href=\"psysml:cc6cc763-fa59-42bd-a700-018e736c1371\" target=\"_top\" title=\"psysml:cc6cc763-fa59-42bd-a700-018e736c1371\" xlink:actuate=\"onRequest\" xlink:href=\"psysml:cc6cc763-fa59-42bd-a700-018e736c1371\" xlink:show=\"new\" xlink:title=\"psysml:cc6cc763-fa59-42bd-a700-018e736c1371\" xlink:type=\"simple\"><path d=\"M96.23,214.4 C86.58,223.3 77.16,234.34 72,246.72 C66.62,259.63 66.65,274.97 68.42,288.21 \" fill=\"none\" id=\"E8-to-E6\" style=\"stroke:#181818;stroke-width:1.0;stroke-dasharray:7.0,7.0;\"/><polygon fill=\"#181818\" points=\"69.71,296.14,71.386,287.762,65.4639,288.7258,69.71,296.14\" style=\"stroke:#181818;stroke-width:1.0;\"/><text fill=\"#000000\" font-family=\"sans-serif\" font-size=\"13\" lengthAdjust=\"spacing\" textLength=\"64\" x=\"73\" y=\"259.7869\">«depend»</text></a></g><!--MD5=[bfa3c8b0d15052fdf50ae9310b491027]\n",
       "link E8 to E7--><g id=\"link_E8_E7\"><a href=\"psysml:cc6cc763-fa59-42bd-a700-018e736c1371\" target=\"_top\" title=\"psysml:cc6cc763-fa59-42bd-a700-018e736c1371\" xlink:actuate=\"onRequest\" xlink:href=\"psysml:cc6cc763-fa59-42bd-a700-018e736c1371\" xlink:show=\"new\" xlink:title=\"psysml:cc6cc763-fa59-42bd-a700-018e736c1371\" xlink:type=\"simple\"><path d=\"M137.78,214.4 C146.57,235.24 159.55,266 169.17,288.81 \" fill=\"none\" id=\"E8-to-E7\" style=\"stroke:#181818;stroke-width:1.0;stroke-dasharray:7.0,7.0;\"/><polygon fill=\"#181818\" points=\"172.29,296.21,171.9401,287.6732,166.4131,290.0082,172.29,296.21\" style=\"stroke:#181818;stroke-width:1.0;\"/><text fill=\"#000000\" font-family=\"sans-serif\" font-size=\"13\" lengthAdjust=\"spacing\" textLength=\"64\" x=\"159\" y=\"259.7869\">«depend»</text></a></g><!--MD5=[3f90fcb28ec567bb266ed50c7ae52b39]\n",
       "@startuml\r\n",
       "skin sysmlbw\r\n",
       "skinparam monochrome true\r\n",
       "skinparam wrapWidth 300\r\n",
       "hide circle\r\n",
       " \r\n",
       "package \"DependencyTest\" as E1  [[psysml:7dee102c-3f89-42b9-9919-3eaa1d7109e5 ]]  {\r\n",
       "package \"System\" as E2  [[psysml:da04b59d-3286-4d3f-bbc3-7e7bb49d7c5d ]]  {\r\n",
       "package \"Application Layer\" as E3  [[psysml:174d7b64-e31a-4a54-99c4-d88bb0afa8af ]]  {\r\n",
       "}\r\n",
       "package \"Service Layer\" as E4  [[psysml:6cc47e98-b8e7-4ff0-90aa-a6e12ea2ee54 ]]  {\r\n",
       "}\r\n",
       "package \"Data Layer\" as E5  [[psysml:a41e95d1-6586-47c5-87a0-a52adaa3773e ]]  {\r\n",
       "}\r\n",
       "}\r\n",
       "comp usage \"x  \" as E6  <<(T,blue) attribute>> [[psysml:fa1eb9e1-3558-4ac6-ae6a-7c42660b9dca ]] {\r\n",
       "}\r\n",
       "comp usage \"y  \" as E7  <<(T,blue) attribute>> [[psysml:a1db1b5d-0100-40b0-bd9f-2e7223fe2e6d ]] {\r\n",
       "}\r\n",
       "comp usage \"z  \" as E8  <<(T,blue) attribute>> [[psysml:179fcb88-b86f-4c8c-8d3f-0f88ad709e86 ]] {\r\n",
       "}\r\n",
       "}\r\n",
       "E1 ..> E2 [[psysml:98ffbcea-2ad0-443f-b206-57004efde221 ]] : <<import>>*\r\n",
       "E3 ..>> E4 [[psysml:94e1a3f7-50a9-4c8e-a4e8-5ce452ddfecf ]] : <<depend>>\r\n",
       "E4 ..>> E5 [[psysml:9da5c160-44e8-44ec-9936-ca4a4075f5f4 ]] : <<depend>>\r\n",
       "E8 ..>> E6 [[psysml:cc6cc763-fa59-42bd-a700-018e736c1371 ]] : <<depend>>\r\n",
       "E8 ..>> E7 [[psysml:cc6cc763-fa59-42bd-a700-018e736c1371 ]] : <<depend>>\r\n",
       "@enduml\r\n",
       "\n",
       "PlantUML version 1.2022.7(Mon Aug 22 17:01:30 UTC 2022)\n",
       "(EPL source distribution)\n",
       "Java Runtime: OpenJDK Runtime Environment\n",
       "JVM: OpenJDK 64-Bit Server VM\n",
       "Default Encoding: UTF-8\n",
       "Language: en\n",
       "Country: null\n",
       "--></g></svg>"
      ]
     },
     "execution_count": 3,
     "metadata": {},
     "output_type": "execute_result"
    }
   ],
   "source": [
    "%viz --style=\"COMPTREE\" --view=\"Tree\" \"DependencyTest\""
   ]
  },
  {
   "cell_type": "code",
   "execution_count": 4,
   "id": "177bcd33",
   "metadata": {
    "execution": {
     "iopub.execute_input": "2024-12-16T03:27:29.890308Z",
     "iopub.status.busy": "2024-12-16T03:27:29.890097Z",
     "iopub.status.idle": "2024-12-16T03:27:29.898194Z",
     "shell.execute_reply": "2024-12-16T03:27:29.898335Z"
    }
   },
   "outputs": [
    {
     "data": {
      "image/svg+xml": [
       "<?xml version=\"1.0\" encoding=\"UTF-8\" standalone=\"no\"?><svg xmlns=\"http://www.w3.org/2000/svg\" xmlns:xlink=\"http://www.w3.org/1999/xlink\" contentStyleType=\"text/css\" height=\"10px\" preserveAspectRatio=\"none\" style=\"width:10px;height:10px;background:#FFFFFF;\" version=\"1.1\" viewBox=\"0 0 10 10\" width=\"10px\" zoomAndPan=\"magnify\"><defs/><g><!--MD5=[ee07d3037018df61283447c7fdb4a44f]\n",
       "@startuml\r\n",
       "skin sysmlbw\r\n",
       "skinparam monochrome true\r\n",
       "skinparam wrapWidth 300\r\n",
       "hide circle\r\n",
       " \r\n",
       "@enduml\r\n",
       "\n",
       "PlantUML version 1.2022.7(Mon Aug 22 17:01:30 UTC 2022)\n",
       "(EPL source distribution)\n",
       "Java Runtime: OpenJDK Runtime Environment\n",
       "JVM: OpenJDK 64-Bit Server VM\n",
       "Default Encoding: UTF-8\n",
       "Language: en\n",
       "Country: null\n",
       "--></g></svg>"
      ]
     },
     "execution_count": 4,
     "metadata": {},
     "output_type": "execute_result"
    }
   ],
   "source": [
    "%viz --style=\"COMPTREE\" --view=\"State\" \"DependencyTest\""
   ]
  },
  {
   "cell_type": "code",
   "execution_count": 5,
   "id": "a409037a",
   "metadata": {
    "execution": {
     "iopub.execute_input": "2024-12-16T03:27:29.956284Z",
     "iopub.status.busy": "2024-12-16T03:27:29.955122Z",
     "iopub.status.idle": "2024-12-16T03:27:29.993966Z",
     "shell.execute_reply": "2024-12-16T03:27:29.994097Z"
    }
   },
   "outputs": [
    {
     "data": {
      "image/svg+xml": [
       "<?xml version=\"1.0\" encoding=\"UTF-8\" standalone=\"no\"?><svg xmlns=\"http://www.w3.org/2000/svg\" xmlns:xlink=\"http://www.w3.org/1999/xlink\" contentStyleType=\"text/css\" height=\"437px\" preserveAspectRatio=\"none\" style=\"width:531px;height:437px;background:#FFFFFF;\" version=\"1.1\" viewBox=\"0 0 531 437\" width=\"531px\" zoomAndPan=\"magnify\"><defs/><g><!--MD5=[fbc87193dbaf4d95561dea2c320d4a47]\n",
       "cluster E1--><g id=\"cluster_E1\"><a href=\"psysml:7dee102c-3f89-42b9-9919-3eaa1d7109e5\" target=\"_top\" title=\"psysml:7dee102c-3f89-42b9-9919-3eaa1d7109e5\" xlink:actuate=\"onRequest\" xlink:href=\"psysml:7dee102c-3f89-42b9-9919-3eaa1d7109e5\" xlink:show=\"new\" xlink:title=\"psysml:7dee102c-3f89-42b9-9919-3eaa1d7109e5\" xlink:type=\"simple\"><polygon fill=\"none\" points=\"16,6,148.125,6,155.125,28.2969,514,28.2969,514,430.72,16,430.72,16,6\" style=\"stroke:#000000;stroke-width:1.5;\"/><line style=\"stroke:#000000;stroke-width:1.5;\" x1=\"16\" x2=\"155.125\" y1=\"28.2969\" y2=\"28.2969\"/><text fill=\"#000000\" font-family=\"sans-serif\" font-size=\"14\" font-weight=\"bold\" lengthAdjust=\"spacing\" textLength=\"126.125\" x=\"20\" y=\"20.9951\">DependencyTest</text></a></g><!--MD5=[e4f7fae6ed58524ba242bb0b0d3be6b7]\n",
       "cluster E2--><g id=\"cluster_E2\"><a href=\"psysml:da04b59d-3286-4d3f-bbc3-7e7bb49d7c5d\" target=\"_top\" title=\"psysml:da04b59d-3286-4d3f-bbc3-7e7bb49d7c5d\" xlink:actuate=\"onRequest\" xlink:href=\"psysml:da04b59d-3286-4d3f-bbc3-7e7bb49d7c5d\" xlink:show=\"new\" xlink:title=\"psysml:da04b59d-3286-4d3f-bbc3-7e7bb49d7c5d\" xlink:type=\"simple\"><polygon fill=\"none\" points=\"271,98.72,330.625,98.72,337.625,121.0169,474,121.0169,474,390.72,271,390.72,271,98.72\" style=\"stroke:#000000;stroke-width:1.5;\"/><line style=\"stroke:#000000;stroke-width:1.5;\" x1=\"271\" x2=\"337.625\" y1=\"121.0169\" y2=\"121.0169\"/><text fill=\"#000000\" font-family=\"sans-serif\" font-size=\"14\" font-weight=\"bold\" lengthAdjust=\"spacing\" textLength=\"53.625\" x=\"275\" y=\"113.7151\">System</text></a></g><!--MD5=[60a26617385b1d2d0262a64233df1f8d]\n",
       "class E6--><a href=\"psysml:fa1eb9e1-3558-4ac6-ae6a-7c42660b9dca\" target=\"_top\" title=\"psysml:fa1eb9e1-3558-4ac6-ae6a-7c42660b9dca\" xlink:actuate=\"onRequest\" xlink:href=\"psysml:fa1eb9e1-3558-4ac6-ae6a-7c42660b9dca\" xlink:show=\"new\" xlink:title=\"psysml:fa1eb9e1-3558-4ac6-ae6a-7c42660b9dca\" xlink:type=\"simple\"><g id=\"elem_E6\"><rect fill=\"#FFFFFF\" height=\"48.2656\" id=\"E6\" rx=\"10\" ry=\"10\" style=\"stroke:#181818;stroke-width:0.5;\" width=\"71\" x=\"40.5\" y=\"230.22\"/><text fill=\"#000000\" font-family=\"sans-serif\" font-size=\"12\" font-style=\"italic\" lengthAdjust=\"spacing\" textLength=\"69\" x=\"41.5\" y=\"246.3587\">«attribute»</text><text fill=\"#000000\" font-family=\"sans-serif\" font-size=\"14\" lengthAdjust=\"spacing\" textLength=\"7\" x=\"68.5\" y=\"262.1839\">x</text><line style=\"stroke:#181818;stroke-width:0.5;\" x1=\"41.5\" x2=\"110.5\" y1=\"270.4856\" y2=\"270.4856\"/></g></a><!--MD5=[2156ba9850f5573cc1fc38a6a4b2f02b]\n",
       "class E7--><a href=\"psysml:a1db1b5d-0100-40b0-bd9f-2e7223fe2e6d\" target=\"_top\" title=\"psysml:a1db1b5d-0100-40b0-bd9f-2e7223fe2e6d\" xlink:actuate=\"onRequest\" xlink:href=\"psysml:a1db1b5d-0100-40b0-bd9f-2e7223fe2e6d\" xlink:show=\"new\" xlink:title=\"psysml:a1db1b5d-0100-40b0-bd9f-2e7223fe2e6d\" xlink:type=\"simple\"><g id=\"elem_E7\"><rect fill=\"#FFFFFF\" height=\"48.2656\" id=\"E7\" rx=\"10\" ry=\"10\" style=\"stroke:#181818;stroke-width:0.5;\" width=\"71\" x=\"146.5\" y=\"230.22\"/><text fill=\"#000000\" font-family=\"sans-serif\" font-size=\"12\" font-style=\"italic\" lengthAdjust=\"spacing\" textLength=\"69\" x=\"147.5\" y=\"246.3587\">«attribute»</text><text fill=\"#000000\" font-family=\"sans-serif\" font-size=\"14\" lengthAdjust=\"spacing\" textLength=\"7\" x=\"174.5\" y=\"262.1839\">y</text><line style=\"stroke:#181818;stroke-width:0.5;\" x1=\"147.5\" x2=\"216.5\" y1=\"270.4856\" y2=\"270.4856\"/></g></a><!--MD5=[b9389687b975829384b498ac4b7476b2]\n",
       "class E8--><a href=\"psysml:179fcb88-b86f-4c8c-8d3f-0f88ad709e86\" target=\"_top\" title=\"psysml:179fcb88-b86f-4c8c-8d3f-0f88ad709e86\" xlink:actuate=\"onRequest\" xlink:href=\"psysml:179fcb88-b86f-4c8c-8d3f-0f88ad709e86\" xlink:show=\"new\" xlink:title=\"psysml:179fcb88-b86f-4c8c-8d3f-0f88ad709e86\" xlink:type=\"simple\"><g id=\"elem_E8\"><rect fill=\"#FFFFFF\" height=\"48.2656\" id=\"E8\" rx=\"10\" ry=\"10\" style=\"stroke:#181818;stroke-width:0.5;\" width=\"71\" x=\"92.5\" y=\"144.22\"/><text fill=\"#000000\" font-family=\"sans-serif\" font-size=\"12\" font-style=\"italic\" lengthAdjust=\"spacing\" textLength=\"69\" x=\"93.5\" y=\"160.3587\">«attribute»</text><text fill=\"#000000\" font-family=\"sans-serif\" font-size=\"14\" lengthAdjust=\"spacing\" textLength=\"8\" x=\"120\" y=\"176.1839\">z</text><line style=\"stroke:#181818;stroke-width:0.5;\" x1=\"93.5\" x2=\"162.5\" y1=\"184.4856\" y2=\"184.4856\"/></g></a><a href=\"psysml:174d7b64-e31a-4a54-99c4-d88bb0afa8af\" target=\"_top\" title=\"psysml:174d7b64-e31a-4a54-99c4-d88bb0afa8af\" xlink:actuate=\"onRequest\" xlink:href=\"psysml:174d7b64-e31a-4a54-99c4-d88bb0afa8af\" xlink:show=\"new\" xlink:title=\"psysml:174d7b64-e31a-4a54-99c4-d88bb0afa8af\" xlink:type=\"simple\"><polygon fill=\"#FFFFFF\" points=\"314.5,141.72,435.5,141.72,442.5,164.0169,449.5,164.0169,449.5,194.3138,314.5,194.3138,314.5,141.72\" style=\"stroke:#181818;stroke-width:0.5;\"/><line style=\"stroke:#181818;stroke-width:0.5;\" x1=\"314.5\" x2=\"442.5\" y1=\"164.0169\" y2=\"164.0169\"/><text fill=\"#000000\" font-family=\"sans-serif\" font-size=\"14\" lengthAdjust=\"spacing\" textLength=\"115\" x=\"318.5\" y=\"156.7151\">Application Layer</text></a><a href=\"psysml:6cc47e98-b8e7-4ff0-90aa-a6e12ea2ee54\" target=\"_top\" title=\"psysml:6cc47e98-b8e7-4ff0-90aa-a6e12ea2ee54\" xlink:actuate=\"onRequest\" xlink:href=\"psysml:6cc47e98-b8e7-4ff0-90aa-a6e12ea2ee54\" xlink:show=\"new\" xlink:title=\"psysml:6cc47e98-b8e7-4ff0-90aa-a6e12ea2ee54\" xlink:type=\"simple\"><polygon fill=\"#FFFFFF\" points=\"327,227.72,423,227.72,430,250.0169,437,250.0169,437,280.3138,327,280.3138,327,227.72\" style=\"stroke:#181818;stroke-width:0.5;\"/><line style=\"stroke:#181818;stroke-width:0.5;\" x1=\"327\" x2=\"430\" y1=\"250.0169\" y2=\"250.0169\"/><text fill=\"#000000\" font-family=\"sans-serif\" font-size=\"14\" lengthAdjust=\"spacing\" textLength=\"90\" x=\"331\" y=\"242.7151\">Service Layer</text></a><a href=\"psysml:a41e95d1-6586-47c5-87a0-a52adaa3773e\" target=\"_top\" title=\"psysml:a41e95d1-6586-47c5-87a0-a52adaa3773e\" xlink:actuate=\"onRequest\" xlink:href=\"psysml:a41e95d1-6586-47c5-87a0-a52adaa3773e\" xlink:show=\"new\" xlink:title=\"psysml:a41e95d1-6586-47c5-87a0-a52adaa3773e\" xlink:type=\"simple\"><polygon fill=\"#FFFFFF\" points=\"336,313.72,414,313.72,421,336.0169,428,336.0169,428,366.3138,336,366.3138,336,313.72\" style=\"stroke:#181818;stroke-width:0.5;\"/><line style=\"stroke:#181818;stroke-width:0.5;\" x1=\"336\" x2=\"421\" y1=\"336.0169\" y2=\"336.0169\"/><text fill=\"#000000\" font-family=\"sans-serif\" font-size=\"14\" lengthAdjust=\"spacing\" textLength=\"72\" x=\"340\" y=\"328.7151\">Data Layer</text></a><!--MD5=[1f1cd8e6dd4c1b2ca2aaccc9b9bcea6e]\n",
       "link E1 to E2--><g id=\"link_E1_E2\"><a href=\"psysml:98ffbcea-2ad0-443f-b206-57004efde221\" target=\"_top\" title=\"psysml:98ffbcea-2ad0-443f-b206-57004efde221\" xlink:actuate=\"onRequest\" xlink:href=\"psysml:98ffbcea-2ad0-443f-b206-57004efde221\" xlink:show=\"new\" xlink:title=\"psysml:98ffbcea-2ad0-443f-b206-57004efde221\" xlink:type=\"simple\"><path d=\"M279,33.82 C279,34.815 279,43.3994 279,55.7775 C279,61.9666 279,69.1041 279,76.7155 C279,80.5213 279,84.4455 279,88.429 C279,90.4207 279,92.4272 279,94.4411 C279,95.448 279,96.4568 279,97.4665 C279,97.719 279,97.9714 279,98.224 \" fill=\"none\" id=\"E1-to-E2\" style=\"stroke:#181818;stroke-width:1.0;stroke-dasharray:7.0,7.0;\"/><polygon fill=\"#181818\" points=\"279,98.224,283,89.224,279,93.224,275,89.224,279,98.224\" style=\"stroke:#181818;stroke-width:1.0;\"/><text fill=\"#000000\" font-family=\"sans-serif\" font-size=\"13\" lengthAdjust=\"spacing\" textLength=\"65\" x=\"280\" y=\"54.7869\">«import»*</text></a></g><!--MD5=[af87c684e3b0d8be13c1a698a818ef1e]\n",
       "link E3 to E4--><g id=\"link_E3_E4\"><a href=\"psysml:94e1a3f7-50a9-4c8e-a4e8-5ce452ddfecf\" target=\"_top\" title=\"psysml:94e1a3f7-50a9-4c8e-a4e8-5ce452ddfecf\" xlink:actuate=\"onRequest\" xlink:href=\"psysml:94e1a3f7-50a9-4c8e-a4e8-5ce452ddfecf\" xlink:show=\"new\" xlink:title=\"psysml:94e1a3f7-50a9-4c8e-a4e8-5ce452ddfecf\" xlink:type=\"simple\"><path d=\"M382,194.88 C382,202.7 382,211.41 382,219.66 \" fill=\"none\" id=\"E3-to-E4\" style=\"stroke:#181818;stroke-width:1.0;stroke-dasharray:7.0,7.0;\"/><polygon fill=\"#181818\" points=\"382,227.72,385,219.72,379,219.72,382,227.72\" style=\"stroke:#181818;stroke-width:1.0;\"/><text fill=\"#000000\" font-family=\"sans-serif\" font-size=\"13\" lengthAdjust=\"spacing\" textLength=\"64\" x=\"383\" y=\"215.7869\">«depend»</text></a></g><!--MD5=[1b7591eae5389033d8d09a9d6721a717]\n",
       "link E4 to E5--><g id=\"link_E4_E5\"><a href=\"psysml:9da5c160-44e8-44ec-9936-ca4a4075f5f4\" target=\"_top\" title=\"psysml:9da5c160-44e8-44ec-9936-ca4a4075f5f4\" xlink:actuate=\"onRequest\" xlink:href=\"psysml:9da5c160-44e8-44ec-9936-ca4a4075f5f4\" xlink:show=\"new\" xlink:title=\"psysml:9da5c160-44e8-44ec-9936-ca4a4075f5f4\" xlink:type=\"simple\"><path d=\"M382,280.88 C382,288.7 382,297.41 382,305.66 \" fill=\"none\" id=\"E4-to-E5\" style=\"stroke:#181818;stroke-width:1.0;stroke-dasharray:7.0,7.0;\"/><polygon fill=\"#181818\" points=\"382,313.72,385,305.72,379,305.72,382,313.72\" style=\"stroke:#181818;stroke-width:1.0;\"/><text fill=\"#000000\" font-family=\"sans-serif\" font-size=\"13\" lengthAdjust=\"spacing\" textLength=\"64\" x=\"383\" y=\"301.7869\">«depend»</text></a></g><!--MD5=[c5e8897d989ce984f93528998a7150fe]\n",
       "link E8 to E6--><g id=\"link_E8_E6\"><a href=\"psysml:cc6cc763-fa59-42bd-a700-018e736c1371\" target=\"_top\" title=\"psysml:cc6cc763-fa59-42bd-a700-018e736c1371\" xlink:actuate=\"onRequest\" xlink:href=\"psysml:cc6cc763-fa59-42bd-a700-018e736c1371\" xlink:show=\"new\" xlink:title=\"psysml:cc6cc763-fa59-42bd-a700-018e736c1371\" xlink:type=\"simple\"><path d=\"M92.49,183.06 C84.34,187.99 76.69,194.44 72,202.72 C68.74,208.48 67.74,215.21 67.95,221.85 \" fill=\"none\" id=\"E8-to-E6\" style=\"stroke:#181818;stroke-width:1.0;stroke-dasharray:7.0,7.0;\"/><polygon fill=\"#181818\" points=\"68.79,230.13,70.96,221.8662,64.9912,222.477,68.79,230.13\" style=\"stroke:#181818;stroke-width:1.0;\"/><text fill=\"#000000\" font-family=\"sans-serif\" font-size=\"13\" lengthAdjust=\"spacing\" textLength=\"64\" x=\"73\" y=\"215.7869\">«depend»</text></a></g><!--MD5=[bfa3c8b0d15052fdf50ae9310b491027]\n",
       "link E8 to E7--><g id=\"link_E8_E7\"><a href=\"psysml:cc6cc763-fa59-42bd-a700-018e736c1371\" target=\"_top\" title=\"psysml:cc6cc763-fa59-42bd-a700-018e736c1371\" xlink:actuate=\"onRequest\" xlink:href=\"psysml:cc6cc763-fa59-42bd-a700-018e736c1371\" xlink:show=\"new\" xlink:title=\"psysml:cc6cc763-fa59-42bd-a700-018e736c1371\" xlink:type=\"simple\"><path d=\"M143.04,192.62 C149.13,202.08 156.23,213.13 162.69,223.18 \" fill=\"none\" id=\"E8-to-E7\" style=\"stroke:#181818;stroke-width:1.0;stroke-dasharray:7.0,7.0;\"/><polygon fill=\"#181818\" points=\"167.04,229.95,165.2348,221.5989,160.1888,224.845,167.04,229.95\" style=\"stroke:#181818;stroke-width:1.0;\"/><text fill=\"#000000\" font-family=\"sans-serif\" font-size=\"13\" lengthAdjust=\"spacing\" textLength=\"64\" x=\"160\" y=\"215.7869\">«depend»</text></a></g><!--MD5=[373f123ff919df926e8880929da75c22]\n",
       "@startuml\r\n",
       "skin sysmlbw\r\n",
       "skinparam monochrome true\r\n",
       "skinparam wrapWidth 300\r\n",
       "hide circle\r\n",
       " skinparam ranksep 10\r\n",
       "skinparam rectangle {\r\n",
       " backgroundColor<<block>> LightGreen\r\n",
       "}\r\n",
       "\r\n",
       "package \"DependencyTest\" as E1  [[psysml:7dee102c-3f89-42b9-9919-3eaa1d7109e5 ]]  {\r\n",
       "package \"System\" as E2  [[psysml:da04b59d-3286-4d3f-bbc3-7e7bb49d7c5d ]]  {\r\n",
       "package \"Application Layer\" as E3  [[psysml:174d7b64-e31a-4a54-99c4-d88bb0afa8af ]]  {\r\n",
       "}\r\n",
       "package \"Service Layer\" as E4  [[psysml:6cc47e98-b8e7-4ff0-90aa-a6e12ea2ee54 ]]  {\r\n",
       "}\r\n",
       "package \"Data Layer\" as E5  [[psysml:a41e95d1-6586-47c5-87a0-a52adaa3773e ]]  {\r\n",
       "}\r\n",
       "}\r\n",
       "comp usage \"x  \" as E6  <<(T,blue) attribute>> [[psysml:fa1eb9e1-3558-4ac6-ae6a-7c42660b9dca ]] {\r\n",
       "}\r\n",
       "comp usage \"y  \" as E7  <<(T,blue) attribute>> [[psysml:a1db1b5d-0100-40b0-bd9f-2e7223fe2e6d ]] {\r\n",
       "}\r\n",
       "comp usage \"z  \" as E8  <<(T,blue) attribute>> [[psysml:179fcb88-b86f-4c8c-8d3f-0f88ad709e86 ]] {\r\n",
       "}\r\n",
       "}\r\n",
       "E1 ..> E2 [[psysml:98ffbcea-2ad0-443f-b206-57004efde221 ]] : <<import>>*\r\n",
       "E3 ..>> E4 [[psysml:94e1a3f7-50a9-4c8e-a4e8-5ce452ddfecf ]] : <<depend>>\r\n",
       "E4 ..>> E5 [[psysml:9da5c160-44e8-44ec-9936-ca4a4075f5f4 ]] : <<depend>>\r\n",
       "E8 ..>> E6 [[psysml:cc6cc763-fa59-42bd-a700-018e736c1371 ]] : <<depend>>\r\n",
       "E8 ..>> E7 [[psysml:cc6cc763-fa59-42bd-a700-018e736c1371 ]] : <<depend>>\r\n",
       "@enduml\r\n",
       "\n",
       "PlantUML version 1.2022.7(Mon Aug 22 17:01:30 UTC 2022)\n",
       "(EPL source distribution)\n",
       "Java Runtime: OpenJDK Runtime Environment\n",
       "JVM: OpenJDK 64-Bit Server VM\n",
       "Default Encoding: UTF-8\n",
       "Language: en\n",
       "Country: null\n",
       "--></g></svg>"
      ]
     },
     "execution_count": 5,
     "metadata": {},
     "output_type": "execute_result"
    }
   ],
   "source": [
    "%viz --style=\"COMPTREE\" --view=\"Interconnection\" \"DependencyTest\""
   ]
  },
  {
   "cell_type": "code",
   "execution_count": 6,
   "id": "2e9c2009",
   "metadata": {
    "execution": {
     "iopub.execute_input": "2024-12-16T03:27:30.050668Z",
     "iopub.status.busy": "2024-12-16T03:27:30.049782Z",
     "iopub.status.idle": "2024-12-16T03:27:30.057039Z",
     "shell.execute_reply": "2024-12-16T03:27:30.057184Z"
    }
   },
   "outputs": [
    {
     "data": {
      "image/svg+xml": [
       "<?xml version=\"1.0\" encoding=\"UTF-8\" standalone=\"no\"?><svg xmlns=\"http://www.w3.org/2000/svg\" xmlns:xlink=\"http://www.w3.org/1999/xlink\" contentStyleType=\"text/css\" height=\"10px\" preserveAspectRatio=\"none\" style=\"width:10px;height:10px;background:#FFFFFF;\" version=\"1.1\" viewBox=\"0 0 10 10\" width=\"10px\" zoomAndPan=\"magnify\"><defs/><g><!--MD5=[042b5323e4810735e2315f6f99dad39e]\n",
       "@startuml\r\n",
       "skin sysmlbw\r\n",
       "skinparam monochrome true\r\n",
       "skinparam wrapWidth 300\r\n",
       "hide circle\r\n",
       " skinparam ranksep 8\r\n",
       "\r\n",
       "@enduml\r\n",
       "\n",
       "PlantUML version 1.2022.7(Mon Aug 22 17:01:30 UTC 2022)\n",
       "(EPL source distribution)\n",
       "Java Runtime: OpenJDK Runtime Environment\n",
       "JVM: OpenJDK 64-Bit Server VM\n",
       "Default Encoding: UTF-8\n",
       "Language: en\n",
       "Country: null\n",
       "--></g></svg>"
      ]
     },
     "execution_count": 6,
     "metadata": {},
     "output_type": "execute_result"
    }
   ],
   "source": [
    "%viz --style=\"COMPTREE\" --view=\"Action\" \"DependencyTest\""
   ]
  },
  {
   "cell_type": "code",
   "execution_count": 7,
   "id": "fdaf8f9e",
   "metadata": {
    "execution": {
     "iopub.execute_input": "2024-12-16T03:27:30.112999Z",
     "iopub.status.busy": "2024-12-16T03:27:30.112778Z",
     "iopub.status.idle": "2024-12-16T03:27:30.125180Z",
     "shell.execute_reply": "2024-12-16T03:27:30.125017Z"
    }
   },
   "outputs": [
    {
     "data": {
      "image/svg+xml": [
       "<?xml version=\"1.0\" encoding=\"UTF-8\" standalone=\"no\"?><svg xmlns=\"http://www.w3.org/2000/svg\" xmlns:xlink=\"http://www.w3.org/1999/xlink\" contentStyleType=\"text/css\" height=\"10px\" preserveAspectRatio=\"none\" style=\"width:10px;height:10px;background:#FFFFFF;\" version=\"1.1\" viewBox=\"0 0 10 10\" width=\"10px\" zoomAndPan=\"magnify\"><defs/><g><!--MD5=[f5e9abf0a6c8dccaf40d0172f495ca0b]\n",
       "@startuml\r\n",
       "skin sysmlbw\r\n",
       "skinparam monochrome true\r\n",
       "skinparam wrapWidth 300\r\n",
       "hide circle\r\n",
       " skinparam roundcorner 20\r\n",
       "skinparam BoxPadding 20\r\n",
       "skinparam SequenceBoxBackgroundColor #white\r\n",
       "skinparam style strictuml\r\n",
       "skinparam maxMessageSize 100\r\n",
       "\r\n",
       "@enduml\r\n",
       "\n",
       "PlantUML version 1.2022.7(Mon Aug 22 17:01:30 UTC 2022)\n",
       "(EPL source distribution)\n",
       "Java Runtime: OpenJDK Runtime Environment\n",
       "JVM: OpenJDK 64-Bit Server VM\n",
       "Default Encoding: UTF-8\n",
       "Language: en\n",
       "Country: null\n",
       "--></g></svg>"
      ]
     },
     "execution_count": 7,
     "metadata": {},
     "output_type": "execute_result"
    }
   ],
   "source": [
    "%viz --style=\"COMPTREE\" --view=\"Sequence\" \"DependencyTest\""
   ]
  },
  {
   "cell_type": "code",
   "execution_count": 8,
   "id": "f20ac8f1",
   "metadata": {
    "execution": {
     "iopub.execute_input": "2024-12-16T03:27:30.181363Z",
     "iopub.status.busy": "2024-12-16T03:27:30.181129Z",
     "iopub.status.idle": "2024-12-16T03:27:30.208825Z",
     "shell.execute_reply": "2024-12-16T03:27:30.208655Z"
    }
   },
   "outputs": [
    {
     "data": {
      "image/svg+xml": [
       "<?xml version=\"1.0\" encoding=\"UTF-8\" standalone=\"no\"?><svg xmlns=\"http://www.w3.org/2000/svg\" xmlns:xlink=\"http://www.w3.org/1999/xlink\" contentStyleType=\"text/css\" height=\"547px\" preserveAspectRatio=\"none\" style=\"width:531px;height:547px;background:#FFFFFF;\" version=\"1.1\" viewBox=\"0 0 531 547\" width=\"531px\" zoomAndPan=\"magnify\"><defs/><g><!--MD5=[fbc87193dbaf4d95561dea2c320d4a47]\n",
       "cluster E1--><g id=\"cluster_E1\"><a href=\"psysml:7dee102c-3f89-42b9-9919-3eaa1d7109e5\" target=\"_top\" title=\"psysml:7dee102c-3f89-42b9-9919-3eaa1d7109e5\" xlink:actuate=\"onRequest\" xlink:href=\"psysml:7dee102c-3f89-42b9-9919-3eaa1d7109e5\" xlink:show=\"new\" xlink:title=\"psysml:7dee102c-3f89-42b9-9919-3eaa1d7109e5\" xlink:type=\"simple\"><polygon fill=\"none\" points=\"16,6,148.125,6,155.125,28.2969,514,28.2969,514,540.72,16,540.72,16,6\" style=\"stroke:#000000;stroke-width:1.5;\"/><line style=\"stroke:#000000;stroke-width:1.5;\" x1=\"16\" x2=\"155.125\" y1=\"28.2969\" y2=\"28.2969\"/><text fill=\"#000000\" font-family=\"sans-serif\" font-size=\"14\" font-weight=\"bold\" lengthAdjust=\"spacing\" textLength=\"126.125\" x=\"20\" y=\"20.9951\">DependencyTest</text></a></g><!--MD5=[e4f7fae6ed58524ba242bb0b0d3be6b7]\n",
       "cluster E2--><g id=\"cluster_E2\"><a href=\"psysml:da04b59d-3286-4d3f-bbc3-7e7bb49d7c5d\" target=\"_top\" title=\"psysml:da04b59d-3286-4d3f-bbc3-7e7bb49d7c5d\" xlink:actuate=\"onRequest\" xlink:href=\"psysml:da04b59d-3286-4d3f-bbc3-7e7bb49d7c5d\" xlink:show=\"new\" xlink:title=\"psysml:da04b59d-3286-4d3f-bbc3-7e7bb49d7c5d\" xlink:type=\"simple\"><polygon fill=\"none\" points=\"271,120.72,330.625,120.72,337.625,143.0169,474,143.0169,474,500.72,271,500.72,271,120.72\" style=\"stroke:#000000;stroke-width:1.5;\"/><line style=\"stroke:#000000;stroke-width:1.5;\" x1=\"271\" x2=\"337.625\" y1=\"143.0169\" y2=\"143.0169\"/><text fill=\"#000000\" font-family=\"sans-serif\" font-size=\"14\" font-weight=\"bold\" lengthAdjust=\"spacing\" textLength=\"53.625\" x=\"275\" y=\"135.7151\">System</text></a></g><!--MD5=[60a26617385b1d2d0262a64233df1f8d]\n",
       "class E6--><a href=\"psysml:fa1eb9e1-3558-4ac6-ae6a-7c42660b9dca\" target=\"_top\" title=\"psysml:fa1eb9e1-3558-4ac6-ae6a-7c42660b9dca\" xlink:actuate=\"onRequest\" xlink:href=\"psysml:fa1eb9e1-3558-4ac6-ae6a-7c42660b9dca\" xlink:show=\"new\" xlink:title=\"psysml:fa1eb9e1-3558-4ac6-ae6a-7c42660b9dca\" xlink:type=\"simple\"><g id=\"elem_E6\"><rect fill=\"#FFFFFF\" height=\"48.2656\" id=\"E6\" rx=\"10\" ry=\"10\" style=\"stroke:#181818;stroke-width:0.5;\" width=\"71\" x=\"40.5\" y=\"296.22\"/><text fill=\"#000000\" font-family=\"sans-serif\" font-size=\"12\" font-style=\"italic\" lengthAdjust=\"spacing\" textLength=\"69\" x=\"41.5\" y=\"312.3587\">«attribute»</text><text fill=\"#000000\" font-family=\"sans-serif\" font-size=\"14\" lengthAdjust=\"spacing\" textLength=\"7\" x=\"68.5\" y=\"328.1839\">x</text><line style=\"stroke:#181818;stroke-width:0.5;\" x1=\"41.5\" x2=\"110.5\" y1=\"336.4856\" y2=\"336.4856\"/></g></a><!--MD5=[2156ba9850f5573cc1fc38a6a4b2f02b]\n",
       "class E7--><a href=\"psysml:a1db1b5d-0100-40b0-bd9f-2e7223fe2e6d\" target=\"_top\" title=\"psysml:a1db1b5d-0100-40b0-bd9f-2e7223fe2e6d\" xlink:actuate=\"onRequest\" xlink:href=\"psysml:a1db1b5d-0100-40b0-bd9f-2e7223fe2e6d\" xlink:show=\"new\" xlink:title=\"psysml:a1db1b5d-0100-40b0-bd9f-2e7223fe2e6d\" xlink:type=\"simple\"><g id=\"elem_E7\"><rect fill=\"#FFFFFF\" height=\"48.2656\" id=\"E7\" rx=\"10\" ry=\"10\" style=\"stroke:#181818;stroke-width:0.5;\" width=\"71\" x=\"146.5\" y=\"296.22\"/><text fill=\"#000000\" font-family=\"sans-serif\" font-size=\"12\" font-style=\"italic\" lengthAdjust=\"spacing\" textLength=\"69\" x=\"147.5\" y=\"312.3587\">«attribute»</text><text fill=\"#000000\" font-family=\"sans-serif\" font-size=\"14\" lengthAdjust=\"spacing\" textLength=\"7\" x=\"174.5\" y=\"328.1839\">y</text><line style=\"stroke:#181818;stroke-width:0.5;\" x1=\"147.5\" x2=\"216.5\" y1=\"336.4856\" y2=\"336.4856\"/></g></a><!--MD5=[b9389687b975829384b498ac4b7476b2]\n",
       "class E8--><a href=\"psysml:179fcb88-b86f-4c8c-8d3f-0f88ad709e86\" target=\"_top\" title=\"psysml:179fcb88-b86f-4c8c-8d3f-0f88ad709e86\" xlink:actuate=\"onRequest\" xlink:href=\"psysml:179fcb88-b86f-4c8c-8d3f-0f88ad709e86\" xlink:show=\"new\" xlink:title=\"psysml:179fcb88-b86f-4c8c-8d3f-0f88ad709e86\" xlink:type=\"simple\"><g id=\"elem_E8\"><rect fill=\"#FFFFFF\" height=\"48.2656\" id=\"E8\" rx=\"10\" ry=\"10\" style=\"stroke:#181818;stroke-width:0.5;\" width=\"71\" x=\"92.5\" y=\"166.22\"/><text fill=\"#000000\" font-family=\"sans-serif\" font-size=\"12\" font-style=\"italic\" lengthAdjust=\"spacing\" textLength=\"69\" x=\"93.5\" y=\"182.3587\">«attribute»</text><text fill=\"#000000\" font-family=\"sans-serif\" font-size=\"14\" lengthAdjust=\"spacing\" textLength=\"8\" x=\"120\" y=\"198.1839\">z</text><line style=\"stroke:#181818;stroke-width:0.5;\" x1=\"93.5\" x2=\"162.5\" y1=\"206.4856\" y2=\"206.4856\"/></g></a><a href=\"psysml:174d7b64-e31a-4a54-99c4-d88bb0afa8af\" target=\"_top\" title=\"psysml:174d7b64-e31a-4a54-99c4-d88bb0afa8af\" xlink:actuate=\"onRequest\" xlink:href=\"psysml:174d7b64-e31a-4a54-99c4-d88bb0afa8af\" xlink:show=\"new\" xlink:title=\"psysml:174d7b64-e31a-4a54-99c4-d88bb0afa8af\" xlink:type=\"simple\"><polygon fill=\"#FFFFFF\" points=\"314.5,163.72,435.5,163.72,442.5,186.0169,449.5,186.0169,449.5,216.3138,314.5,216.3138,314.5,163.72\" style=\"stroke:#181818;stroke-width:0.5;\"/><line style=\"stroke:#181818;stroke-width:0.5;\" x1=\"314.5\" x2=\"442.5\" y1=\"186.0169\" y2=\"186.0169\"/><text fill=\"#000000\" font-family=\"sans-serif\" font-size=\"14\" lengthAdjust=\"spacing\" textLength=\"115\" x=\"318.5\" y=\"178.7151\">Application Layer</text></a><a href=\"psysml:6cc47e98-b8e7-4ff0-90aa-a6e12ea2ee54\" target=\"_top\" title=\"psysml:6cc47e98-b8e7-4ff0-90aa-a6e12ea2ee54\" xlink:actuate=\"onRequest\" xlink:href=\"psysml:6cc47e98-b8e7-4ff0-90aa-a6e12ea2ee54\" xlink:show=\"new\" xlink:title=\"psysml:6cc47e98-b8e7-4ff0-90aa-a6e12ea2ee54\" xlink:type=\"simple\"><polygon fill=\"#FFFFFF\" points=\"327,293.72,423,293.72,430,316.0169,437,316.0169,437,346.3138,327,346.3138,327,293.72\" style=\"stroke:#181818;stroke-width:0.5;\"/><line style=\"stroke:#181818;stroke-width:0.5;\" x1=\"327\" x2=\"430\" y1=\"316.0169\" y2=\"316.0169\"/><text fill=\"#000000\" font-family=\"sans-serif\" font-size=\"14\" lengthAdjust=\"spacing\" textLength=\"90\" x=\"331\" y=\"308.7151\">Service Layer</text></a><a href=\"psysml:a41e95d1-6586-47c5-87a0-a52adaa3773e\" target=\"_top\" title=\"psysml:a41e95d1-6586-47c5-87a0-a52adaa3773e\" xlink:actuate=\"onRequest\" xlink:href=\"psysml:a41e95d1-6586-47c5-87a0-a52adaa3773e\" xlink:show=\"new\" xlink:title=\"psysml:a41e95d1-6586-47c5-87a0-a52adaa3773e\" xlink:type=\"simple\"><polygon fill=\"#FFFFFF\" points=\"336,423.72,414,423.72,421,446.0169,428,446.0169,428,476.3138,336,476.3138,336,423.72\" style=\"stroke:#181818;stroke-width:0.5;\"/><line style=\"stroke:#181818;stroke-width:0.5;\" x1=\"336\" x2=\"421\" y1=\"446.0169\" y2=\"446.0169\"/><text fill=\"#000000\" font-family=\"sans-serif\" font-size=\"14\" lengthAdjust=\"spacing\" textLength=\"72\" x=\"340\" y=\"438.7151\">Data Layer</text></a><!--MD5=[1f1cd8e6dd4c1b2ca2aaccc9b9bcea6e]\n",
       "link E1 to E2--><g id=\"link_E1_E2\"><a href=\"psysml:98ffbcea-2ad0-443f-b206-57004efde221\" target=\"_top\" title=\"psysml:98ffbcea-2ad0-443f-b206-57004efde221\" xlink:actuate=\"onRequest\" xlink:href=\"psysml:98ffbcea-2ad0-443f-b206-57004efde221\" xlink:show=\"new\" xlink:title=\"psysml:98ffbcea-2ad0-443f-b206-57004efde221\" xlink:type=\"simple\"><path d=\"M279,33.83 C279,36.15 279,73.83 279,111.5 C279,113.8544 279,116.2087 279,118.5544 C279,119.1408 279,119.7267 279,120.3119 \" fill=\"none\" id=\"E1-to-E2\" style=\"stroke:#181818;stroke-width:1.0;stroke-dasharray:7.0,7.0;\"/><polygon fill=\"#181818\" points=\"279,120.3119,283,111.3119,279,115.3119,275,111.3119,279,120.3119\" style=\"stroke:#181818;stroke-width:1.0;\"/><text fill=\"#000000\" font-family=\"sans-serif\" font-size=\"13\" lengthAdjust=\"spacing\" textLength=\"65\" x=\"280\" y=\"76.7869\">«import»*</text></a></g><!--MD5=[af87c684e3b0d8be13c1a698a818ef1e]\n",
       "link E3 to E4--><g id=\"link_E3_E4\"><a href=\"psysml:94e1a3f7-50a9-4c8e-a4e8-5ce452ddfecf\" target=\"_top\" title=\"psysml:94e1a3f7-50a9-4c8e-a4e8-5ce452ddfecf\" xlink:actuate=\"onRequest\" xlink:href=\"psysml:94e1a3f7-50a9-4c8e-a4e8-5ce452ddfecf\" xlink:show=\"new\" xlink:title=\"psysml:94e1a3f7-50a9-4c8e-a4e8-5ce452ddfecf\" xlink:type=\"simple\"><path d=\"M382,216.82 C382,236.52 382,263.94 382,285.45 \" fill=\"none\" id=\"E3-to-E4\" style=\"stroke:#181818;stroke-width:1.0;stroke-dasharray:7.0,7.0;\"/><polygon fill=\"#181818\" points=\"382,293.67,385,285.67,379,285.67,382,293.67\" style=\"stroke:#181818;stroke-width:1.0;\"/><text fill=\"#000000\" font-family=\"sans-serif\" font-size=\"13\" lengthAdjust=\"spacing\" textLength=\"64\" x=\"383\" y=\"259.7869\">«depend»</text></a></g><!--MD5=[1b7591eae5389033d8d09a9d6721a717]\n",
       "link E4 to E5--><g id=\"link_E4_E5\"><a href=\"psysml:9da5c160-44e8-44ec-9936-ca4a4075f5f4\" target=\"_top\" title=\"psysml:9da5c160-44e8-44ec-9936-ca4a4075f5f4\" xlink:actuate=\"onRequest\" xlink:href=\"psysml:9da5c160-44e8-44ec-9936-ca4a4075f5f4\" xlink:show=\"new\" xlink:title=\"psysml:9da5c160-44e8-44ec-9936-ca4a4075f5f4\" xlink:type=\"simple\"><path d=\"M382,346.82 C382,366.52 382,393.94 382,415.45 \" fill=\"none\" id=\"E4-to-E5\" style=\"stroke:#181818;stroke-width:1.0;stroke-dasharray:7.0,7.0;\"/><polygon fill=\"#181818\" points=\"382,423.67,385,415.67,379,415.67,382,423.67\" style=\"stroke:#181818;stroke-width:1.0;\"/><text fill=\"#000000\" font-family=\"sans-serif\" font-size=\"13\" lengthAdjust=\"spacing\" textLength=\"64\" x=\"383\" y=\"389.7869\">«depend»</text></a></g><!--MD5=[c5e8897d989ce984f93528998a7150fe]\n",
       "link E8 to E6--><g id=\"link_E8_E6\"><a href=\"psysml:cc6cc763-fa59-42bd-a700-018e736c1371\" target=\"_top\" title=\"psysml:cc6cc763-fa59-42bd-a700-018e736c1371\" xlink:actuate=\"onRequest\" xlink:href=\"psysml:cc6cc763-fa59-42bd-a700-018e736c1371\" xlink:show=\"new\" xlink:title=\"psysml:cc6cc763-fa59-42bd-a700-018e736c1371\" xlink:type=\"simple\"><path d=\"M96.23,214.4 C86.58,223.3 77.16,234.34 72,246.72 C66.62,259.63 66.65,274.97 68.42,288.21 \" fill=\"none\" id=\"E8-to-E6\" style=\"stroke:#181818;stroke-width:1.0;stroke-dasharray:7.0,7.0;\"/><polygon fill=\"#181818\" points=\"69.71,296.14,71.386,287.762,65.4639,288.7258,69.71,296.14\" style=\"stroke:#181818;stroke-width:1.0;\"/><text fill=\"#000000\" font-family=\"sans-serif\" font-size=\"13\" lengthAdjust=\"spacing\" textLength=\"64\" x=\"73\" y=\"259.7869\">«depend»</text></a></g><!--MD5=[bfa3c8b0d15052fdf50ae9310b491027]\n",
       "link E8 to E7--><g id=\"link_E8_E7\"><a href=\"psysml:cc6cc763-fa59-42bd-a700-018e736c1371\" target=\"_top\" title=\"psysml:cc6cc763-fa59-42bd-a700-018e736c1371\" xlink:actuate=\"onRequest\" xlink:href=\"psysml:cc6cc763-fa59-42bd-a700-018e736c1371\" xlink:show=\"new\" xlink:title=\"psysml:cc6cc763-fa59-42bd-a700-018e736c1371\" xlink:type=\"simple\"><path d=\"M137.78,214.4 C146.57,235.24 159.55,266 169.17,288.81 \" fill=\"none\" id=\"E8-to-E7\" style=\"stroke:#181818;stroke-width:1.0;stroke-dasharray:7.0,7.0;\"/><polygon fill=\"#181818\" points=\"172.29,296.21,171.9401,287.6732,166.4131,290.0082,172.29,296.21\" style=\"stroke:#181818;stroke-width:1.0;\"/><text fill=\"#000000\" font-family=\"sans-serif\" font-size=\"13\" lengthAdjust=\"spacing\" textLength=\"64\" x=\"159\" y=\"259.7869\">«depend»</text></a></g><!--MD5=[3f90fcb28ec567bb266ed50c7ae52b39]\n",
       "@startuml\r\n",
       "skin sysmlbw\r\n",
       "skinparam monochrome true\r\n",
       "skinparam wrapWidth 300\r\n",
       "hide circle\r\n",
       " \r\n",
       "package \"DependencyTest\" as E1  [[psysml:7dee102c-3f89-42b9-9919-3eaa1d7109e5 ]]  {\r\n",
       "package \"System\" as E2  [[psysml:da04b59d-3286-4d3f-bbc3-7e7bb49d7c5d ]]  {\r\n",
       "package \"Application Layer\" as E3  [[psysml:174d7b64-e31a-4a54-99c4-d88bb0afa8af ]]  {\r\n",
       "}\r\n",
       "package \"Service Layer\" as E4  [[psysml:6cc47e98-b8e7-4ff0-90aa-a6e12ea2ee54 ]]  {\r\n",
       "}\r\n",
       "package \"Data Layer\" as E5  [[psysml:a41e95d1-6586-47c5-87a0-a52adaa3773e ]]  {\r\n",
       "}\r\n",
       "}\r\n",
       "comp usage \"x  \" as E6  <<(T,blue) attribute>> [[psysml:fa1eb9e1-3558-4ac6-ae6a-7c42660b9dca ]] {\r\n",
       "}\r\n",
       "comp usage \"y  \" as E7  <<(T,blue) attribute>> [[psysml:a1db1b5d-0100-40b0-bd9f-2e7223fe2e6d ]] {\r\n",
       "}\r\n",
       "comp usage \"z  \" as E8  <<(T,blue) attribute>> [[psysml:179fcb88-b86f-4c8c-8d3f-0f88ad709e86 ]] {\r\n",
       "}\r\n",
       "}\r\n",
       "E1 ..> E2 [[psysml:98ffbcea-2ad0-443f-b206-57004efde221 ]] : <<import>>*\r\n",
       "E3 ..>> E4 [[psysml:94e1a3f7-50a9-4c8e-a4e8-5ce452ddfecf ]] : <<depend>>\r\n",
       "E4 ..>> E5 [[psysml:9da5c160-44e8-44ec-9936-ca4a4075f5f4 ]] : <<depend>>\r\n",
       "E8 ..>> E6 [[psysml:cc6cc763-fa59-42bd-a700-018e736c1371 ]] : <<depend>>\r\n",
       "E8 ..>> E7 [[psysml:cc6cc763-fa59-42bd-a700-018e736c1371 ]] : <<depend>>\r\n",
       "@enduml\r\n",
       "\n",
       "PlantUML version 1.2022.7(Mon Aug 22 17:01:30 UTC 2022)\n",
       "(EPL source distribution)\n",
       "Java Runtime: OpenJDK Runtime Environment\n",
       "JVM: OpenJDK 64-Bit Server VM\n",
       "Default Encoding: UTF-8\n",
       "Language: en\n",
       "Country: null\n",
       "--></g></svg>"
      ]
     },
     "execution_count": 8,
     "metadata": {},
     "output_type": "execute_result"
    }
   ],
   "source": [
    "%viz --style=\"COMPTREE\" --view=\"MIXED\" \"DependencyTest\""
   ]
  },
  {
   "cell_type": "code",
   "execution_count": 9,
   "id": "7654aff6",
   "metadata": {
    "execution": {
     "iopub.execute_input": "2024-12-16T03:27:30.264969Z",
     "iopub.status.busy": "2024-12-16T03:27:30.264752Z",
     "iopub.status.idle": "2024-12-16T03:27:30.292556Z",
     "shell.execute_reply": "2024-12-16T03:27:30.291743Z"
    }
   },
   "outputs": [
    {
     "data": {
      "image/svg+xml": [
       "<?xml version=\"1.0\" encoding=\"UTF-8\" standalone=\"no\"?><svg xmlns=\"http://www.w3.org/2000/svg\" xmlns:xlink=\"http://www.w3.org/1999/xlink\" contentStyleType=\"text/css\" height=\"547px\" preserveAspectRatio=\"none\" style=\"width:531px;height:547px;background:#FFFFFF;\" version=\"1.1\" viewBox=\"0 0 531 547\" width=\"531px\" zoomAndPan=\"magnify\"><defs/><g><!--MD5=[fbc87193dbaf4d95561dea2c320d4a47]\n",
       "cluster E1--><g id=\"cluster_E1\"><a href=\"psysml:7dee102c-3f89-42b9-9919-3eaa1d7109e5\" target=\"_top\" title=\"psysml:7dee102c-3f89-42b9-9919-3eaa1d7109e5\" xlink:actuate=\"onRequest\" xlink:href=\"psysml:7dee102c-3f89-42b9-9919-3eaa1d7109e5\" xlink:show=\"new\" xlink:title=\"psysml:7dee102c-3f89-42b9-9919-3eaa1d7109e5\" xlink:type=\"simple\"><polygon fill=\"none\" points=\"16,6,148.125,6,155.125,28.2969,514,28.2969,514,540.72,16,540.72,16,6\" style=\"stroke:#000000;stroke-width:1.5;\"/><line style=\"stroke:#000000;stroke-width:1.5;\" x1=\"16\" x2=\"155.125\" y1=\"28.2969\" y2=\"28.2969\"/><text fill=\"#000000\" font-family=\"sans-serif\" font-size=\"14\" font-weight=\"bold\" lengthAdjust=\"spacing\" textLength=\"126.125\" x=\"20\" y=\"20.9951\">DependencyTest</text></a></g><!--MD5=[e4f7fae6ed58524ba242bb0b0d3be6b7]\n",
       "cluster E2--><g id=\"cluster_E2\"><a href=\"psysml:da04b59d-3286-4d3f-bbc3-7e7bb49d7c5d\" target=\"_top\" title=\"psysml:da04b59d-3286-4d3f-bbc3-7e7bb49d7c5d\" xlink:actuate=\"onRequest\" xlink:href=\"psysml:da04b59d-3286-4d3f-bbc3-7e7bb49d7c5d\" xlink:show=\"new\" xlink:title=\"psysml:da04b59d-3286-4d3f-bbc3-7e7bb49d7c5d\" xlink:type=\"simple\"><polygon fill=\"none\" points=\"271,120.72,330.625,120.72,337.625,143.0169,474,143.0169,474,500.72,271,500.72,271,120.72\" style=\"stroke:#000000;stroke-width:1.5;\"/><line style=\"stroke:#000000;stroke-width:1.5;\" x1=\"271\" x2=\"337.625\" y1=\"143.0169\" y2=\"143.0169\"/><text fill=\"#000000\" font-family=\"sans-serif\" font-size=\"14\" font-weight=\"bold\" lengthAdjust=\"spacing\" textLength=\"53.625\" x=\"275\" y=\"135.7151\">System</text></a></g><!--MD5=[60a26617385b1d2d0262a64233df1f8d]\n",
       "class E6--><a href=\"psysml:fa1eb9e1-3558-4ac6-ae6a-7c42660b9dca\" target=\"_top\" title=\"psysml:fa1eb9e1-3558-4ac6-ae6a-7c42660b9dca\" xlink:actuate=\"onRequest\" xlink:href=\"psysml:fa1eb9e1-3558-4ac6-ae6a-7c42660b9dca\" xlink:show=\"new\" xlink:title=\"psysml:fa1eb9e1-3558-4ac6-ae6a-7c42660b9dca\" xlink:type=\"simple\"><g id=\"elem_E6\"><rect fill=\"#FFFFFF\" height=\"48.2656\" id=\"E6\" rx=\"10\" ry=\"10\" style=\"stroke:#181818;stroke-width:0.5;\" width=\"71\" x=\"40.5\" y=\"296.22\"/><text fill=\"#000000\" font-family=\"sans-serif\" font-size=\"12\" font-style=\"italic\" lengthAdjust=\"spacing\" textLength=\"69\" x=\"41.5\" y=\"312.3587\">«attribute»</text><text fill=\"#000000\" font-family=\"sans-serif\" font-size=\"14\" lengthAdjust=\"spacing\" textLength=\"7\" x=\"68.5\" y=\"328.1839\">x</text><line style=\"stroke:#181818;stroke-width:0.5;\" x1=\"41.5\" x2=\"110.5\" y1=\"336.4856\" y2=\"336.4856\"/></g></a><!--MD5=[2156ba9850f5573cc1fc38a6a4b2f02b]\n",
       "class E7--><a href=\"psysml:a1db1b5d-0100-40b0-bd9f-2e7223fe2e6d\" target=\"_top\" title=\"psysml:a1db1b5d-0100-40b0-bd9f-2e7223fe2e6d\" xlink:actuate=\"onRequest\" xlink:href=\"psysml:a1db1b5d-0100-40b0-bd9f-2e7223fe2e6d\" xlink:show=\"new\" xlink:title=\"psysml:a1db1b5d-0100-40b0-bd9f-2e7223fe2e6d\" xlink:type=\"simple\"><g id=\"elem_E7\"><rect fill=\"#FFFFFF\" height=\"48.2656\" id=\"E7\" rx=\"10\" ry=\"10\" style=\"stroke:#181818;stroke-width:0.5;\" width=\"71\" x=\"146.5\" y=\"296.22\"/><text fill=\"#000000\" font-family=\"sans-serif\" font-size=\"12\" font-style=\"italic\" lengthAdjust=\"spacing\" textLength=\"69\" x=\"147.5\" y=\"312.3587\">«attribute»</text><text fill=\"#000000\" font-family=\"sans-serif\" font-size=\"14\" lengthAdjust=\"spacing\" textLength=\"7\" x=\"174.5\" y=\"328.1839\">y</text><line style=\"stroke:#181818;stroke-width:0.5;\" x1=\"147.5\" x2=\"216.5\" y1=\"336.4856\" y2=\"336.4856\"/></g></a><!--MD5=[b9389687b975829384b498ac4b7476b2]\n",
       "class E8--><a href=\"psysml:179fcb88-b86f-4c8c-8d3f-0f88ad709e86\" target=\"_top\" title=\"psysml:179fcb88-b86f-4c8c-8d3f-0f88ad709e86\" xlink:actuate=\"onRequest\" xlink:href=\"psysml:179fcb88-b86f-4c8c-8d3f-0f88ad709e86\" xlink:show=\"new\" xlink:title=\"psysml:179fcb88-b86f-4c8c-8d3f-0f88ad709e86\" xlink:type=\"simple\"><g id=\"elem_E8\"><rect fill=\"#FFFFFF\" height=\"48.2656\" id=\"E8\" rx=\"10\" ry=\"10\" style=\"stroke:#181818;stroke-width:0.5;\" width=\"71\" x=\"92.5\" y=\"166.22\"/><text fill=\"#000000\" font-family=\"sans-serif\" font-size=\"12\" font-style=\"italic\" lengthAdjust=\"spacing\" textLength=\"69\" x=\"93.5\" y=\"182.3587\">«attribute»</text><text fill=\"#000000\" font-family=\"sans-serif\" font-size=\"14\" lengthAdjust=\"spacing\" textLength=\"8\" x=\"120\" y=\"198.1839\">z</text><line style=\"stroke:#181818;stroke-width:0.5;\" x1=\"93.5\" x2=\"162.5\" y1=\"206.4856\" y2=\"206.4856\"/></g></a><a href=\"psysml:174d7b64-e31a-4a54-99c4-d88bb0afa8af\" target=\"_top\" title=\"psysml:174d7b64-e31a-4a54-99c4-d88bb0afa8af\" xlink:actuate=\"onRequest\" xlink:href=\"psysml:174d7b64-e31a-4a54-99c4-d88bb0afa8af\" xlink:show=\"new\" xlink:title=\"psysml:174d7b64-e31a-4a54-99c4-d88bb0afa8af\" xlink:type=\"simple\"><polygon fill=\"#FFFFFF\" points=\"314.5,163.72,435.5,163.72,442.5,186.0169,449.5,186.0169,449.5,216.3138,314.5,216.3138,314.5,163.72\" style=\"stroke:#181818;stroke-width:0.5;\"/><line style=\"stroke:#181818;stroke-width:0.5;\" x1=\"314.5\" x2=\"442.5\" y1=\"186.0169\" y2=\"186.0169\"/><text fill=\"#000000\" font-family=\"sans-serif\" font-size=\"14\" lengthAdjust=\"spacing\" textLength=\"115\" x=\"318.5\" y=\"178.7151\">Application Layer</text></a><a href=\"psysml:6cc47e98-b8e7-4ff0-90aa-a6e12ea2ee54\" target=\"_top\" title=\"psysml:6cc47e98-b8e7-4ff0-90aa-a6e12ea2ee54\" xlink:actuate=\"onRequest\" xlink:href=\"psysml:6cc47e98-b8e7-4ff0-90aa-a6e12ea2ee54\" xlink:show=\"new\" xlink:title=\"psysml:6cc47e98-b8e7-4ff0-90aa-a6e12ea2ee54\" xlink:type=\"simple\"><polygon fill=\"#FFFFFF\" points=\"327,293.72,423,293.72,430,316.0169,437,316.0169,437,346.3138,327,346.3138,327,293.72\" style=\"stroke:#181818;stroke-width:0.5;\"/><line style=\"stroke:#181818;stroke-width:0.5;\" x1=\"327\" x2=\"430\" y1=\"316.0169\" y2=\"316.0169\"/><text fill=\"#000000\" font-family=\"sans-serif\" font-size=\"14\" lengthAdjust=\"spacing\" textLength=\"90\" x=\"331\" y=\"308.7151\">Service Layer</text></a><a href=\"psysml:a41e95d1-6586-47c5-87a0-a52adaa3773e\" target=\"_top\" title=\"psysml:a41e95d1-6586-47c5-87a0-a52adaa3773e\" xlink:actuate=\"onRequest\" xlink:href=\"psysml:a41e95d1-6586-47c5-87a0-a52adaa3773e\" xlink:show=\"new\" xlink:title=\"psysml:a41e95d1-6586-47c5-87a0-a52adaa3773e\" xlink:type=\"simple\"><polygon fill=\"#FFFFFF\" points=\"336,423.72,414,423.72,421,446.0169,428,446.0169,428,476.3138,336,476.3138,336,423.72\" style=\"stroke:#181818;stroke-width:0.5;\"/><line style=\"stroke:#181818;stroke-width:0.5;\" x1=\"336\" x2=\"421\" y1=\"446.0169\" y2=\"446.0169\"/><text fill=\"#000000\" font-family=\"sans-serif\" font-size=\"14\" lengthAdjust=\"spacing\" textLength=\"72\" x=\"340\" y=\"438.7151\">Data Layer</text></a><!--MD5=[1f1cd8e6dd4c1b2ca2aaccc9b9bcea6e]\n",
       "link E1 to E2--><g id=\"link_E1_E2\"><a href=\"psysml:98ffbcea-2ad0-443f-b206-57004efde221\" target=\"_top\" title=\"psysml:98ffbcea-2ad0-443f-b206-57004efde221\" xlink:actuate=\"onRequest\" xlink:href=\"psysml:98ffbcea-2ad0-443f-b206-57004efde221\" xlink:show=\"new\" xlink:title=\"psysml:98ffbcea-2ad0-443f-b206-57004efde221\" xlink:type=\"simple\"><path d=\"M279,33.83 C279,36.15 279,73.83 279,111.5 C279,113.8544 279,116.2087 279,118.5544 C279,119.1408 279,119.7267 279,120.3119 \" fill=\"none\" id=\"E1-to-E2\" style=\"stroke:#181818;stroke-width:1.0;stroke-dasharray:7.0,7.0;\"/><polygon fill=\"#181818\" points=\"279,120.3119,283,111.3119,279,115.3119,275,111.3119,279,120.3119\" style=\"stroke:#181818;stroke-width:1.0;\"/><text fill=\"#000000\" font-family=\"sans-serif\" font-size=\"13\" lengthAdjust=\"spacing\" textLength=\"65\" x=\"280\" y=\"76.7869\">«import»*</text></a></g><!--MD5=[af87c684e3b0d8be13c1a698a818ef1e]\n",
       "link E3 to E4--><g id=\"link_E3_E4\"><a href=\"psysml:94e1a3f7-50a9-4c8e-a4e8-5ce452ddfecf\" target=\"_top\" title=\"psysml:94e1a3f7-50a9-4c8e-a4e8-5ce452ddfecf\" xlink:actuate=\"onRequest\" xlink:href=\"psysml:94e1a3f7-50a9-4c8e-a4e8-5ce452ddfecf\" xlink:show=\"new\" xlink:title=\"psysml:94e1a3f7-50a9-4c8e-a4e8-5ce452ddfecf\" xlink:type=\"simple\"><path d=\"M382,216.82 C382,236.52 382,263.94 382,285.45 \" fill=\"none\" id=\"E3-to-E4\" style=\"stroke:#181818;stroke-width:1.0;stroke-dasharray:7.0,7.0;\"/><polygon fill=\"#181818\" points=\"382,293.67,385,285.67,379,285.67,382,293.67\" style=\"stroke:#181818;stroke-width:1.0;\"/><text fill=\"#000000\" font-family=\"sans-serif\" font-size=\"13\" lengthAdjust=\"spacing\" textLength=\"64\" x=\"383\" y=\"259.7869\">«depend»</text></a></g><!--MD5=[1b7591eae5389033d8d09a9d6721a717]\n",
       "link E4 to E5--><g id=\"link_E4_E5\"><a href=\"psysml:9da5c160-44e8-44ec-9936-ca4a4075f5f4\" target=\"_top\" title=\"psysml:9da5c160-44e8-44ec-9936-ca4a4075f5f4\" xlink:actuate=\"onRequest\" xlink:href=\"psysml:9da5c160-44e8-44ec-9936-ca4a4075f5f4\" xlink:show=\"new\" xlink:title=\"psysml:9da5c160-44e8-44ec-9936-ca4a4075f5f4\" xlink:type=\"simple\"><path d=\"M382,346.82 C382,366.52 382,393.94 382,415.45 \" fill=\"none\" id=\"E4-to-E5\" style=\"stroke:#181818;stroke-width:1.0;stroke-dasharray:7.0,7.0;\"/><polygon fill=\"#181818\" points=\"382,423.67,385,415.67,379,415.67,382,423.67\" style=\"stroke:#181818;stroke-width:1.0;\"/><text fill=\"#000000\" font-family=\"sans-serif\" font-size=\"13\" lengthAdjust=\"spacing\" textLength=\"64\" x=\"383\" y=\"389.7869\">«depend»</text></a></g><!--MD5=[c5e8897d989ce984f93528998a7150fe]\n",
       "link E8 to E6--><g id=\"link_E8_E6\"><a href=\"psysml:cc6cc763-fa59-42bd-a700-018e736c1371\" target=\"_top\" title=\"psysml:cc6cc763-fa59-42bd-a700-018e736c1371\" xlink:actuate=\"onRequest\" xlink:href=\"psysml:cc6cc763-fa59-42bd-a700-018e736c1371\" xlink:show=\"new\" xlink:title=\"psysml:cc6cc763-fa59-42bd-a700-018e736c1371\" xlink:type=\"simple\"><path d=\"M104.58,214.44 C89.23,229.64 72,246.72 72,246.72 C72,246.72 72,263.72 72,263.72 C72,263.72 72.83,275.21 73.73,287.74 \" fill=\"none\" id=\"E8-to-E6\" style=\"stroke:#181818;stroke-width:1.0;stroke-dasharray:7.0,7.0;\"/><polygon fill=\"#181818\" points=\"74.33,296,76.7357,287.8017,70.7518,288.2413,74.33,296\" style=\"stroke:#181818;stroke-width:1.0;\"/><text fill=\"#000000\" font-family=\"sans-serif\" font-size=\"13\" lengthAdjust=\"spacing\" textLength=\"64\" x=\"73\" y=\"259.7869\">«depend»</text></a></g><!--MD5=[bfa3c8b0d15052fdf50ae9310b491027]\n",
       "link E8 to E7--><g id=\"link_E8_E7\"><a href=\"psysml:cc6cc763-fa59-42bd-a700-018e736c1371\" target=\"_top\" title=\"psysml:cc6cc763-fa59-42bd-a700-018e736c1371\" xlink:actuate=\"onRequest\" xlink:href=\"psysml:cc6cc763-fa59-42bd-a700-018e736c1371\" xlink:show=\"new\" xlink:title=\"psysml:cc6cc763-fa59-42bd-a700-018e736c1371\" xlink:type=\"simple\"><path d=\"M137.78,214.4 C146.57,235.24 159.55,266 169.17,288.81 \" fill=\"none\" id=\"E8-to-E7\" style=\"stroke:#181818;stroke-width:1.0;stroke-dasharray:7.0,7.0;\"/><polygon fill=\"#181818\" points=\"172.29,296.21,171.9401,287.6732,166.4131,290.0082,172.29,296.21\" style=\"stroke:#181818;stroke-width:1.0;\"/><text fill=\"#000000\" font-family=\"sans-serif\" font-size=\"13\" lengthAdjust=\"spacing\" textLength=\"64\" x=\"159\" y=\"259.7869\">«depend»</text></a></g><!--MD5=[fbd0434ae70574ddf88ddd75d38f74f8]\n",
       "@startuml\r\n",
       "skin sysmlbw\r\n",
       "skinparam monochrome true\r\n",
       "skinparam wrapWidth 300\r\n",
       "hide circle\r\n",
       "skinparam linetype polyline\r\n",
       "\r\n",
       "package \"DependencyTest\" as E1  [[psysml:7dee102c-3f89-42b9-9919-3eaa1d7109e5 ]]  {\r\n",
       "package \"System\" as E2  [[psysml:da04b59d-3286-4d3f-bbc3-7e7bb49d7c5d ]]  {\r\n",
       "package \"Application Layer\" as E3  [[psysml:174d7b64-e31a-4a54-99c4-d88bb0afa8af ]]  {\r\n",
       "}\r\n",
       "package \"Service Layer\" as E4  [[psysml:6cc47e98-b8e7-4ff0-90aa-a6e12ea2ee54 ]]  {\r\n",
       "}\r\n",
       "package \"Data Layer\" as E5  [[psysml:a41e95d1-6586-47c5-87a0-a52adaa3773e ]]  {\r\n",
       "}\r\n",
       "}\r\n",
       "comp usage \"x  \" as E6  <<(T,blue) attribute>> [[psysml:fa1eb9e1-3558-4ac6-ae6a-7c42660b9dca ]] {\r\n",
       "}\r\n",
       "comp usage \"y  \" as E7  <<(T,blue) attribute>> [[psysml:a1db1b5d-0100-40b0-bd9f-2e7223fe2e6d ]] {\r\n",
       "}\r\n",
       "comp usage \"z  \" as E8  <<(T,blue) attribute>> [[psysml:179fcb88-b86f-4c8c-8d3f-0f88ad709e86 ]] {\r\n",
       "}\r\n",
       "}\r\n",
       "E1 ..> E2 [[psysml:98ffbcea-2ad0-443f-b206-57004efde221 ]] : <<import>>*\r\n",
       "E3 ..>> E4 [[psysml:94e1a3f7-50a9-4c8e-a4e8-5ce452ddfecf ]] : <<depend>>\r\n",
       "E4 ..>> E5 [[psysml:9da5c160-44e8-44ec-9936-ca4a4075f5f4 ]] : <<depend>>\r\n",
       "E8 ..>> E6 [[psysml:cc6cc763-fa59-42bd-a700-018e736c1371 ]] : <<depend>>\r\n",
       "E8 ..>> E7 [[psysml:cc6cc763-fa59-42bd-a700-018e736c1371 ]] : <<depend>>\r\n",
       "@enduml\r\n",
       "\n",
       "PlantUML version 1.2022.7(Mon Aug 22 17:01:30 UTC 2022)\n",
       "(EPL source distribution)\n",
       "Java Runtime: OpenJDK Runtime Environment\n",
       "JVM: OpenJDK 64-Bit Server VM\n",
       "Default Encoding: UTF-8\n",
       "Language: en\n",
       "Country: null\n",
       "--></g></svg>"
      ]
     },
     "execution_count": 9,
     "metadata": {},
     "output_type": "execute_result"
    }
   ],
   "source": [
    "%viz --style=\"POLYLINE\" --view=\"Default\" \"DependencyTest\""
   ]
  },
  {
   "cell_type": "code",
   "execution_count": 10,
   "id": "67892acc",
   "metadata": {
    "execution": {
     "iopub.execute_input": "2024-12-16T03:27:30.346803Z",
     "iopub.status.busy": "2024-12-16T03:27:30.346582Z",
     "iopub.status.idle": "2024-12-16T03:27:30.369048Z",
     "shell.execute_reply": "2024-12-16T03:27:30.369182Z"
    }
   },
   "outputs": [
    {
     "data": {
      "image/svg+xml": [
       "<?xml version=\"1.0\" encoding=\"UTF-8\" standalone=\"no\"?><svg xmlns=\"http://www.w3.org/2000/svg\" xmlns:xlink=\"http://www.w3.org/1999/xlink\" contentStyleType=\"text/css\" height=\"547px\" preserveAspectRatio=\"none\" style=\"width:531px;height:547px;background:#FFFFFF;\" version=\"1.1\" viewBox=\"0 0 531 547\" width=\"531px\" zoomAndPan=\"magnify\"><defs/><g><!--MD5=[fbc87193dbaf4d95561dea2c320d4a47]\n",
       "cluster E1--><g id=\"cluster_E1\"><a href=\"psysml:7dee102c-3f89-42b9-9919-3eaa1d7109e5\" target=\"_top\" title=\"psysml:7dee102c-3f89-42b9-9919-3eaa1d7109e5\" xlink:actuate=\"onRequest\" xlink:href=\"psysml:7dee102c-3f89-42b9-9919-3eaa1d7109e5\" xlink:show=\"new\" xlink:title=\"psysml:7dee102c-3f89-42b9-9919-3eaa1d7109e5\" xlink:type=\"simple\"><polygon fill=\"none\" points=\"16,6,148.125,6,155.125,28.2969,514,28.2969,514,540.72,16,540.72,16,6\" style=\"stroke:#000000;stroke-width:1.5;\"/><line style=\"stroke:#000000;stroke-width:1.5;\" x1=\"16\" x2=\"155.125\" y1=\"28.2969\" y2=\"28.2969\"/><text fill=\"#000000\" font-family=\"sans-serif\" font-size=\"14\" font-weight=\"bold\" lengthAdjust=\"spacing\" textLength=\"126.125\" x=\"20\" y=\"20.9951\">DependencyTest</text></a></g><!--MD5=[e4f7fae6ed58524ba242bb0b0d3be6b7]\n",
       "cluster E2--><g id=\"cluster_E2\"><a href=\"psysml:da04b59d-3286-4d3f-bbc3-7e7bb49d7c5d\" target=\"_top\" title=\"psysml:da04b59d-3286-4d3f-bbc3-7e7bb49d7c5d\" xlink:actuate=\"onRequest\" xlink:href=\"psysml:da04b59d-3286-4d3f-bbc3-7e7bb49d7c5d\" xlink:show=\"new\" xlink:title=\"psysml:da04b59d-3286-4d3f-bbc3-7e7bb49d7c5d\" xlink:type=\"simple\"><polygon fill=\"none\" points=\"271,120.72,330.625,120.72,337.625,143.0169,474,143.0169,474,500.72,271,500.72,271,120.72\" style=\"stroke:#000000;stroke-width:1.5;\"/><line style=\"stroke:#000000;stroke-width:1.5;\" x1=\"271\" x2=\"337.625\" y1=\"143.0169\" y2=\"143.0169\"/><text fill=\"#000000\" font-family=\"sans-serif\" font-size=\"14\" font-weight=\"bold\" lengthAdjust=\"spacing\" textLength=\"53.625\" x=\"275\" y=\"135.7151\">System</text></a></g><!--MD5=[60a26617385b1d2d0262a64233df1f8d]\n",
       "class E6--><a href=\"psysml:fa1eb9e1-3558-4ac6-ae6a-7c42660b9dca\" target=\"_top\" title=\"psysml:fa1eb9e1-3558-4ac6-ae6a-7c42660b9dca\" xlink:actuate=\"onRequest\" xlink:href=\"psysml:fa1eb9e1-3558-4ac6-ae6a-7c42660b9dca\" xlink:show=\"new\" xlink:title=\"psysml:fa1eb9e1-3558-4ac6-ae6a-7c42660b9dca\" xlink:type=\"simple\"><g id=\"elem_E6\"><rect fill=\"#FFFFFF\" height=\"48.2656\" id=\"E6\" rx=\"10\" ry=\"10\" style=\"stroke:#181818;stroke-width:0.5;\" width=\"71\" x=\"40.5\" y=\"296.22\"/><text fill=\"#000000\" font-family=\"sans-serif\" font-size=\"12\" font-style=\"italic\" lengthAdjust=\"spacing\" textLength=\"69\" x=\"41.5\" y=\"312.3587\">«attribute»</text><text fill=\"#000000\" font-family=\"sans-serif\" font-size=\"14\" lengthAdjust=\"spacing\" textLength=\"7\" x=\"68.5\" y=\"328.1839\">x</text><line style=\"stroke:#181818;stroke-width:0.5;\" x1=\"41.5\" x2=\"110.5\" y1=\"336.4856\" y2=\"336.4856\"/></g></a><!--MD5=[2156ba9850f5573cc1fc38a6a4b2f02b]\n",
       "class E7--><a href=\"psysml:a1db1b5d-0100-40b0-bd9f-2e7223fe2e6d\" target=\"_top\" title=\"psysml:a1db1b5d-0100-40b0-bd9f-2e7223fe2e6d\" xlink:actuate=\"onRequest\" xlink:href=\"psysml:a1db1b5d-0100-40b0-bd9f-2e7223fe2e6d\" xlink:show=\"new\" xlink:title=\"psysml:a1db1b5d-0100-40b0-bd9f-2e7223fe2e6d\" xlink:type=\"simple\"><g id=\"elem_E7\"><rect fill=\"#FFFFFF\" height=\"48.2656\" id=\"E7\" rx=\"10\" ry=\"10\" style=\"stroke:#181818;stroke-width:0.5;\" width=\"71\" x=\"146.5\" y=\"296.22\"/><text fill=\"#000000\" font-family=\"sans-serif\" font-size=\"12\" font-style=\"italic\" lengthAdjust=\"spacing\" textLength=\"69\" x=\"147.5\" y=\"312.3587\">«attribute»</text><text fill=\"#000000\" font-family=\"sans-serif\" font-size=\"14\" lengthAdjust=\"spacing\" textLength=\"7\" x=\"174.5\" y=\"328.1839\">y</text><line style=\"stroke:#181818;stroke-width:0.5;\" x1=\"147.5\" x2=\"216.5\" y1=\"336.4856\" y2=\"336.4856\"/></g></a><!--MD5=[b9389687b975829384b498ac4b7476b2]\n",
       "class E8--><a href=\"psysml:179fcb88-b86f-4c8c-8d3f-0f88ad709e86\" target=\"_top\" title=\"psysml:179fcb88-b86f-4c8c-8d3f-0f88ad709e86\" xlink:actuate=\"onRequest\" xlink:href=\"psysml:179fcb88-b86f-4c8c-8d3f-0f88ad709e86\" xlink:show=\"new\" xlink:title=\"psysml:179fcb88-b86f-4c8c-8d3f-0f88ad709e86\" xlink:type=\"simple\"><g id=\"elem_E8\"><rect fill=\"#FFFFFF\" height=\"48.2656\" id=\"E8\" rx=\"10\" ry=\"10\" style=\"stroke:#181818;stroke-width:0.5;\" width=\"71\" x=\"92.5\" y=\"166.22\"/><text fill=\"#000000\" font-family=\"sans-serif\" font-size=\"12\" font-style=\"italic\" lengthAdjust=\"spacing\" textLength=\"69\" x=\"93.5\" y=\"182.3587\">«attribute»</text><text fill=\"#000000\" font-family=\"sans-serif\" font-size=\"14\" lengthAdjust=\"spacing\" textLength=\"8\" x=\"120\" y=\"198.1839\">z</text><line style=\"stroke:#181818;stroke-width:0.5;\" x1=\"93.5\" x2=\"162.5\" y1=\"206.4856\" y2=\"206.4856\"/></g></a><a href=\"psysml:174d7b64-e31a-4a54-99c4-d88bb0afa8af\" target=\"_top\" title=\"psysml:174d7b64-e31a-4a54-99c4-d88bb0afa8af\" xlink:actuate=\"onRequest\" xlink:href=\"psysml:174d7b64-e31a-4a54-99c4-d88bb0afa8af\" xlink:show=\"new\" xlink:title=\"psysml:174d7b64-e31a-4a54-99c4-d88bb0afa8af\" xlink:type=\"simple\"><polygon fill=\"#FFFFFF\" points=\"314.5,163.72,435.5,163.72,442.5,186.0169,449.5,186.0169,449.5,216.3138,314.5,216.3138,314.5,163.72\" style=\"stroke:#181818;stroke-width:0.5;\"/><line style=\"stroke:#181818;stroke-width:0.5;\" x1=\"314.5\" x2=\"442.5\" y1=\"186.0169\" y2=\"186.0169\"/><text fill=\"#000000\" font-family=\"sans-serif\" font-size=\"14\" lengthAdjust=\"spacing\" textLength=\"115\" x=\"318.5\" y=\"178.7151\">Application Layer</text></a><a href=\"psysml:6cc47e98-b8e7-4ff0-90aa-a6e12ea2ee54\" target=\"_top\" title=\"psysml:6cc47e98-b8e7-4ff0-90aa-a6e12ea2ee54\" xlink:actuate=\"onRequest\" xlink:href=\"psysml:6cc47e98-b8e7-4ff0-90aa-a6e12ea2ee54\" xlink:show=\"new\" xlink:title=\"psysml:6cc47e98-b8e7-4ff0-90aa-a6e12ea2ee54\" xlink:type=\"simple\"><polygon fill=\"#FFFFFF\" points=\"327,293.72,423,293.72,430,316.0169,437,316.0169,437,346.3138,327,346.3138,327,293.72\" style=\"stroke:#181818;stroke-width:0.5;\"/><line style=\"stroke:#181818;stroke-width:0.5;\" x1=\"327\" x2=\"430\" y1=\"316.0169\" y2=\"316.0169\"/><text fill=\"#000000\" font-family=\"sans-serif\" font-size=\"14\" lengthAdjust=\"spacing\" textLength=\"90\" x=\"331\" y=\"308.7151\">Service Layer</text></a><a href=\"psysml:a41e95d1-6586-47c5-87a0-a52adaa3773e\" target=\"_top\" title=\"psysml:a41e95d1-6586-47c5-87a0-a52adaa3773e\" xlink:actuate=\"onRequest\" xlink:href=\"psysml:a41e95d1-6586-47c5-87a0-a52adaa3773e\" xlink:show=\"new\" xlink:title=\"psysml:a41e95d1-6586-47c5-87a0-a52adaa3773e\" xlink:type=\"simple\"><polygon fill=\"#FFFFFF\" points=\"336,423.72,414,423.72,421,446.0169,428,446.0169,428,476.3138,336,476.3138,336,423.72\" style=\"stroke:#181818;stroke-width:0.5;\"/><line style=\"stroke:#181818;stroke-width:0.5;\" x1=\"336\" x2=\"421\" y1=\"446.0169\" y2=\"446.0169\"/><text fill=\"#000000\" font-family=\"sans-serif\" font-size=\"14\" lengthAdjust=\"spacing\" textLength=\"72\" x=\"340\" y=\"438.7151\">Data Layer</text></a><!--MD5=[1f1cd8e6dd4c1b2ca2aaccc9b9bcea6e]\n",
       "link E1 to E2--><g id=\"link_E1_E2\"><a href=\"psysml:98ffbcea-2ad0-443f-b206-57004efde221\" target=\"_top\" title=\"psysml:98ffbcea-2ad0-443f-b206-57004efde221\" xlink:actuate=\"onRequest\" xlink:href=\"psysml:98ffbcea-2ad0-443f-b206-57004efde221\" xlink:show=\"new\" xlink:title=\"psysml:98ffbcea-2ad0-443f-b206-57004efde221\" xlink:type=\"simple\"><path d=\"M279,33.83 C279,36.15 279,73.83 279,111.5 C279,113.8544 279,116.2087 279,118.5544 C279,119.1408 279,119.7267 279,120.3119 \" fill=\"none\" id=\"E1-to-E2\" style=\"stroke:#181818;stroke-width:1.0;stroke-dasharray:7.0,7.0;\"/><polygon fill=\"#181818\" points=\"279,120.3119,283,111.3119,279,115.3119,275,111.3119,279,120.3119\" style=\"stroke:#181818;stroke-width:1.0;\"/><text fill=\"#000000\" font-family=\"sans-serif\" font-size=\"13\" lengthAdjust=\"spacing\" textLength=\"65\" x=\"280\" y=\"76.7869\">«import»*</text></a></g><!--MD5=[af87c684e3b0d8be13c1a698a818ef1e]\n",
       "link E3 to E4--><g id=\"link_E3_E4\"><a href=\"psysml:94e1a3f7-50a9-4c8e-a4e8-5ce452ddfecf\" target=\"_top\" title=\"psysml:94e1a3f7-50a9-4c8e-a4e8-5ce452ddfecf\" xlink:actuate=\"onRequest\" xlink:href=\"psysml:94e1a3f7-50a9-4c8e-a4e8-5ce452ddfecf\" xlink:show=\"new\" xlink:title=\"psysml:94e1a3f7-50a9-4c8e-a4e8-5ce452ddfecf\" xlink:type=\"simple\"><path d=\"M382,216.82 C382,236.52 382,263.94 382,285.45 \" fill=\"none\" id=\"E3-to-E4\" style=\"stroke:#181818;stroke-width:1.0;stroke-dasharray:7.0,7.0;\"/><polygon fill=\"#181818\" points=\"382,293.67,385,285.67,379,285.67,382,293.67\" style=\"stroke:#181818;stroke-width:1.0;\"/><text fill=\"#000000\" font-family=\"sans-serif\" font-size=\"13\" lengthAdjust=\"spacing\" textLength=\"64\" x=\"383\" y=\"259.7869\">«depend»</text></a></g><!--MD5=[1b7591eae5389033d8d09a9d6721a717]\n",
       "link E4 to E5--><g id=\"link_E4_E5\"><a href=\"psysml:9da5c160-44e8-44ec-9936-ca4a4075f5f4\" target=\"_top\" title=\"psysml:9da5c160-44e8-44ec-9936-ca4a4075f5f4\" xlink:actuate=\"onRequest\" xlink:href=\"psysml:9da5c160-44e8-44ec-9936-ca4a4075f5f4\" xlink:show=\"new\" xlink:title=\"psysml:9da5c160-44e8-44ec-9936-ca4a4075f5f4\" xlink:type=\"simple\"><path d=\"M382,346.82 C382,366.52 382,393.94 382,415.45 \" fill=\"none\" id=\"E4-to-E5\" style=\"stroke:#181818;stroke-width:1.0;stroke-dasharray:7.0,7.0;\"/><polygon fill=\"#181818\" points=\"382,423.67,385,415.67,379,415.67,382,423.67\" style=\"stroke:#181818;stroke-width:1.0;\"/><text fill=\"#000000\" font-family=\"sans-serif\" font-size=\"13\" lengthAdjust=\"spacing\" textLength=\"64\" x=\"383\" y=\"389.7869\">«depend»</text></a></g><!--MD5=[c5e8897d989ce984f93528998a7150fe]\n",
       "link E8 to E6--><g id=\"link_E8_E6\"><a href=\"psysml:cc6cc763-fa59-42bd-a700-018e736c1371\" target=\"_top\" title=\"psysml:cc6cc763-fa59-42bd-a700-018e736c1371\" xlink:actuate=\"onRequest\" xlink:href=\"psysml:cc6cc763-fa59-42bd-a700-018e736c1371\" xlink:show=\"new\" xlink:title=\"psysml:cc6cc763-fa59-42bd-a700-018e736c1371\" xlink:type=\"simple\"><path d=\"M104.58,214.44 C89.23,229.64 72,246.72 72,246.72 C72,246.72 72,263.72 72,263.72 C72,263.72 72.83,275.21 73.73,287.74 \" fill=\"none\" id=\"E8-to-E6\" style=\"stroke:#181818;stroke-width:1.0;stroke-dasharray:7.0,7.0;\"/><polygon fill=\"#181818\" points=\"74.33,296,76.7357,287.8017,70.7518,288.2413,74.33,296\" style=\"stroke:#181818;stroke-width:1.0;\"/><text fill=\"#000000\" font-family=\"sans-serif\" font-size=\"13\" lengthAdjust=\"spacing\" textLength=\"64\" x=\"73\" y=\"259.7869\">«depend»</text></a></g><!--MD5=[bfa3c8b0d15052fdf50ae9310b491027]\n",
       "link E8 to E7--><g id=\"link_E8_E7\"><a href=\"psysml:cc6cc763-fa59-42bd-a700-018e736c1371\" target=\"_top\" title=\"psysml:cc6cc763-fa59-42bd-a700-018e736c1371\" xlink:actuate=\"onRequest\" xlink:href=\"psysml:cc6cc763-fa59-42bd-a700-018e736c1371\" xlink:show=\"new\" xlink:title=\"psysml:cc6cc763-fa59-42bd-a700-018e736c1371\" xlink:type=\"simple\"><path d=\"M137.78,214.4 C146.57,235.24 159.55,266 169.17,288.81 \" fill=\"none\" id=\"E8-to-E7\" style=\"stroke:#181818;stroke-width:1.0;stroke-dasharray:7.0,7.0;\"/><polygon fill=\"#181818\" points=\"172.29,296.21,171.9401,287.6732,166.4131,290.0082,172.29,296.21\" style=\"stroke:#181818;stroke-width:1.0;\"/><text fill=\"#000000\" font-family=\"sans-serif\" font-size=\"13\" lengthAdjust=\"spacing\" textLength=\"64\" x=\"159\" y=\"259.7869\">«depend»</text></a></g><!--MD5=[fbd0434ae70574ddf88ddd75d38f74f8]\n",
       "@startuml\r\n",
       "skin sysmlbw\r\n",
       "skinparam monochrome true\r\n",
       "skinparam wrapWidth 300\r\n",
       "hide circle\r\n",
       "skinparam linetype polyline\r\n",
       "\r\n",
       "package \"DependencyTest\" as E1  [[psysml:7dee102c-3f89-42b9-9919-3eaa1d7109e5 ]]  {\r\n",
       "package \"System\" as E2  [[psysml:da04b59d-3286-4d3f-bbc3-7e7bb49d7c5d ]]  {\r\n",
       "package \"Application Layer\" as E3  [[psysml:174d7b64-e31a-4a54-99c4-d88bb0afa8af ]]  {\r\n",
       "}\r\n",
       "package \"Service Layer\" as E4  [[psysml:6cc47e98-b8e7-4ff0-90aa-a6e12ea2ee54 ]]  {\r\n",
       "}\r\n",
       "package \"Data Layer\" as E5  [[psysml:a41e95d1-6586-47c5-87a0-a52adaa3773e ]]  {\r\n",
       "}\r\n",
       "}\r\n",
       "comp usage \"x  \" as E6  <<(T,blue) attribute>> [[psysml:fa1eb9e1-3558-4ac6-ae6a-7c42660b9dca ]] {\r\n",
       "}\r\n",
       "comp usage \"y  \" as E7  <<(T,blue) attribute>> [[psysml:a1db1b5d-0100-40b0-bd9f-2e7223fe2e6d ]] {\r\n",
       "}\r\n",
       "comp usage \"z  \" as E8  <<(T,blue) attribute>> [[psysml:179fcb88-b86f-4c8c-8d3f-0f88ad709e86 ]] {\r\n",
       "}\r\n",
       "}\r\n",
       "E1 ..> E2 [[psysml:98ffbcea-2ad0-443f-b206-57004efde221 ]] : <<import>>*\r\n",
       "E3 ..>> E4 [[psysml:94e1a3f7-50a9-4c8e-a4e8-5ce452ddfecf ]] : <<depend>>\r\n",
       "E4 ..>> E5 [[psysml:9da5c160-44e8-44ec-9936-ca4a4075f5f4 ]] : <<depend>>\r\n",
       "E8 ..>> E6 [[psysml:cc6cc763-fa59-42bd-a700-018e736c1371 ]] : <<depend>>\r\n",
       "E8 ..>> E7 [[psysml:cc6cc763-fa59-42bd-a700-018e736c1371 ]] : <<depend>>\r\n",
       "@enduml\r\n",
       "\n",
       "PlantUML version 1.2022.7(Mon Aug 22 17:01:30 UTC 2022)\n",
       "(EPL source distribution)\n",
       "Java Runtime: OpenJDK Runtime Environment\n",
       "JVM: OpenJDK 64-Bit Server VM\n",
       "Default Encoding: UTF-8\n",
       "Language: en\n",
       "Country: null\n",
       "--></g></svg>"
      ]
     },
     "execution_count": 10,
     "metadata": {},
     "output_type": "execute_result"
    }
   ],
   "source": [
    "%viz --style=\"POLYLINE\" --view=\"Tree\" \"DependencyTest\""
   ]
  },
  {
   "cell_type": "code",
   "execution_count": 11,
   "id": "721b74dc",
   "metadata": {
    "execution": {
     "iopub.execute_input": "2024-12-16T03:27:30.421087Z",
     "iopub.status.busy": "2024-12-16T03:27:30.420866Z",
     "iopub.status.idle": "2024-12-16T03:27:30.426392Z",
     "shell.execute_reply": "2024-12-16T03:27:30.426212Z"
    }
   },
   "outputs": [
    {
     "data": {
      "image/svg+xml": [
       "<?xml version=\"1.0\" encoding=\"UTF-8\" standalone=\"no\"?><svg xmlns=\"http://www.w3.org/2000/svg\" xmlns:xlink=\"http://www.w3.org/1999/xlink\" contentStyleType=\"text/css\" height=\"10px\" preserveAspectRatio=\"none\" style=\"width:10px;height:10px;background:#FFFFFF;\" version=\"1.1\" viewBox=\"0 0 10 10\" width=\"10px\" zoomAndPan=\"magnify\"><defs/><g><!--MD5=[20bed88d98f2aabbefdc8661420d403d]\n",
       "@startuml\r\n",
       "skin sysmlbw\r\n",
       "skinparam monochrome true\r\n",
       "skinparam wrapWidth 300\r\n",
       "hide circle\r\n",
       "skinparam linetype polyline\r\n",
       "\r\n",
       "@enduml\r\n",
       "\n",
       "PlantUML version 1.2022.7(Mon Aug 22 17:01:30 UTC 2022)\n",
       "(EPL source distribution)\n",
       "Java Runtime: OpenJDK Runtime Environment\n",
       "JVM: OpenJDK 64-Bit Server VM\n",
       "Default Encoding: UTF-8\n",
       "Language: en\n",
       "Country: null\n",
       "--></g></svg>"
      ]
     },
     "execution_count": 11,
     "metadata": {},
     "output_type": "execute_result"
    }
   ],
   "source": [
    "%viz --style=\"POLYLINE\" --view=\"State\" \"DependencyTest\""
   ]
  },
  {
   "cell_type": "code",
   "execution_count": 12,
   "id": "29c09e4e",
   "metadata": {
    "execution": {
     "iopub.execute_input": "2024-12-16T03:27:30.481786Z",
     "iopub.status.busy": "2024-12-16T03:27:30.481590Z",
     "iopub.status.idle": "2024-12-16T03:27:30.507093Z",
     "shell.execute_reply": "2024-12-16T03:27:30.506933Z"
    }
   },
   "outputs": [
    {
     "data": {
      "image/svg+xml": [
       "<?xml version=\"1.0\" encoding=\"UTF-8\" standalone=\"no\"?><svg xmlns=\"http://www.w3.org/2000/svg\" xmlns:xlink=\"http://www.w3.org/1999/xlink\" contentStyleType=\"text/css\" height=\"437px\" preserveAspectRatio=\"none\" style=\"width:531px;height:437px;background:#FFFFFF;\" version=\"1.1\" viewBox=\"0 0 531 437\" width=\"531px\" zoomAndPan=\"magnify\"><defs/><g><!--MD5=[fbc87193dbaf4d95561dea2c320d4a47]\n",
       "cluster E1--><g id=\"cluster_E1\"><a href=\"psysml:7dee102c-3f89-42b9-9919-3eaa1d7109e5\" target=\"_top\" title=\"psysml:7dee102c-3f89-42b9-9919-3eaa1d7109e5\" xlink:actuate=\"onRequest\" xlink:href=\"psysml:7dee102c-3f89-42b9-9919-3eaa1d7109e5\" xlink:show=\"new\" xlink:title=\"psysml:7dee102c-3f89-42b9-9919-3eaa1d7109e5\" xlink:type=\"simple\"><polygon fill=\"none\" points=\"16,6,148.125,6,155.125,28.2969,514,28.2969,514,430.72,16,430.72,16,6\" style=\"stroke:#000000;stroke-width:1.5;\"/><line style=\"stroke:#000000;stroke-width:1.5;\" x1=\"16\" x2=\"155.125\" y1=\"28.2969\" y2=\"28.2969\"/><text fill=\"#000000\" font-family=\"sans-serif\" font-size=\"14\" font-weight=\"bold\" lengthAdjust=\"spacing\" textLength=\"126.125\" x=\"20\" y=\"20.9951\">DependencyTest</text></a></g><!--MD5=[e4f7fae6ed58524ba242bb0b0d3be6b7]\n",
       "cluster E2--><g id=\"cluster_E2\"><a href=\"psysml:da04b59d-3286-4d3f-bbc3-7e7bb49d7c5d\" target=\"_top\" title=\"psysml:da04b59d-3286-4d3f-bbc3-7e7bb49d7c5d\" xlink:actuate=\"onRequest\" xlink:href=\"psysml:da04b59d-3286-4d3f-bbc3-7e7bb49d7c5d\" xlink:show=\"new\" xlink:title=\"psysml:da04b59d-3286-4d3f-bbc3-7e7bb49d7c5d\" xlink:type=\"simple\"><polygon fill=\"none\" points=\"271,98.72,330.625,98.72,337.625,121.0169,474,121.0169,474,390.72,271,390.72,271,98.72\" style=\"stroke:#000000;stroke-width:1.5;\"/><line style=\"stroke:#000000;stroke-width:1.5;\" x1=\"271\" x2=\"337.625\" y1=\"121.0169\" y2=\"121.0169\"/><text fill=\"#000000\" font-family=\"sans-serif\" font-size=\"14\" font-weight=\"bold\" lengthAdjust=\"spacing\" textLength=\"53.625\" x=\"275\" y=\"113.7151\">System</text></a></g><!--MD5=[60a26617385b1d2d0262a64233df1f8d]\n",
       "class E6--><a href=\"psysml:fa1eb9e1-3558-4ac6-ae6a-7c42660b9dca\" target=\"_top\" title=\"psysml:fa1eb9e1-3558-4ac6-ae6a-7c42660b9dca\" xlink:actuate=\"onRequest\" xlink:href=\"psysml:fa1eb9e1-3558-4ac6-ae6a-7c42660b9dca\" xlink:show=\"new\" xlink:title=\"psysml:fa1eb9e1-3558-4ac6-ae6a-7c42660b9dca\" xlink:type=\"simple\"><g id=\"elem_E6\"><rect fill=\"#FFFFFF\" height=\"48.2656\" id=\"E6\" rx=\"10\" ry=\"10\" style=\"stroke:#181818;stroke-width:0.5;\" width=\"71\" x=\"40.5\" y=\"230.22\"/><text fill=\"#000000\" font-family=\"sans-serif\" font-size=\"12\" font-style=\"italic\" lengthAdjust=\"spacing\" textLength=\"69\" x=\"41.5\" y=\"246.3587\">«attribute»</text><text fill=\"#000000\" font-family=\"sans-serif\" font-size=\"14\" lengthAdjust=\"spacing\" textLength=\"7\" x=\"68.5\" y=\"262.1839\">x</text><line style=\"stroke:#181818;stroke-width:0.5;\" x1=\"41.5\" x2=\"110.5\" y1=\"270.4856\" y2=\"270.4856\"/></g></a><!--MD5=[2156ba9850f5573cc1fc38a6a4b2f02b]\n",
       "class E7--><a href=\"psysml:a1db1b5d-0100-40b0-bd9f-2e7223fe2e6d\" target=\"_top\" title=\"psysml:a1db1b5d-0100-40b0-bd9f-2e7223fe2e6d\" xlink:actuate=\"onRequest\" xlink:href=\"psysml:a1db1b5d-0100-40b0-bd9f-2e7223fe2e6d\" xlink:show=\"new\" xlink:title=\"psysml:a1db1b5d-0100-40b0-bd9f-2e7223fe2e6d\" xlink:type=\"simple\"><g id=\"elem_E7\"><rect fill=\"#FFFFFF\" height=\"48.2656\" id=\"E7\" rx=\"10\" ry=\"10\" style=\"stroke:#181818;stroke-width:0.5;\" width=\"71\" x=\"146.5\" y=\"230.22\"/><text fill=\"#000000\" font-family=\"sans-serif\" font-size=\"12\" font-style=\"italic\" lengthAdjust=\"spacing\" textLength=\"69\" x=\"147.5\" y=\"246.3587\">«attribute»</text><text fill=\"#000000\" font-family=\"sans-serif\" font-size=\"14\" lengthAdjust=\"spacing\" textLength=\"7\" x=\"174.5\" y=\"262.1839\">y</text><line style=\"stroke:#181818;stroke-width:0.5;\" x1=\"147.5\" x2=\"216.5\" y1=\"270.4856\" y2=\"270.4856\"/></g></a><!--MD5=[b9389687b975829384b498ac4b7476b2]\n",
       "class E8--><a href=\"psysml:179fcb88-b86f-4c8c-8d3f-0f88ad709e86\" target=\"_top\" title=\"psysml:179fcb88-b86f-4c8c-8d3f-0f88ad709e86\" xlink:actuate=\"onRequest\" xlink:href=\"psysml:179fcb88-b86f-4c8c-8d3f-0f88ad709e86\" xlink:show=\"new\" xlink:title=\"psysml:179fcb88-b86f-4c8c-8d3f-0f88ad709e86\" xlink:type=\"simple\"><g id=\"elem_E8\"><rect fill=\"#FFFFFF\" height=\"48.2656\" id=\"E8\" rx=\"10\" ry=\"10\" style=\"stroke:#181818;stroke-width:0.5;\" width=\"71\" x=\"92.5\" y=\"144.22\"/><text fill=\"#000000\" font-family=\"sans-serif\" font-size=\"12\" font-style=\"italic\" lengthAdjust=\"spacing\" textLength=\"69\" x=\"93.5\" y=\"160.3587\">«attribute»</text><text fill=\"#000000\" font-family=\"sans-serif\" font-size=\"14\" lengthAdjust=\"spacing\" textLength=\"8\" x=\"120\" y=\"176.1839\">z</text><line style=\"stroke:#181818;stroke-width:0.5;\" x1=\"93.5\" x2=\"162.5\" y1=\"184.4856\" y2=\"184.4856\"/></g></a><a href=\"psysml:174d7b64-e31a-4a54-99c4-d88bb0afa8af\" target=\"_top\" title=\"psysml:174d7b64-e31a-4a54-99c4-d88bb0afa8af\" xlink:actuate=\"onRequest\" xlink:href=\"psysml:174d7b64-e31a-4a54-99c4-d88bb0afa8af\" xlink:show=\"new\" xlink:title=\"psysml:174d7b64-e31a-4a54-99c4-d88bb0afa8af\" xlink:type=\"simple\"><polygon fill=\"#FFFFFF\" points=\"314.5,141.72,435.5,141.72,442.5,164.0169,449.5,164.0169,449.5,194.3138,314.5,194.3138,314.5,141.72\" style=\"stroke:#181818;stroke-width:0.5;\"/><line style=\"stroke:#181818;stroke-width:0.5;\" x1=\"314.5\" x2=\"442.5\" y1=\"164.0169\" y2=\"164.0169\"/><text fill=\"#000000\" font-family=\"sans-serif\" font-size=\"14\" lengthAdjust=\"spacing\" textLength=\"115\" x=\"318.5\" y=\"156.7151\">Application Layer</text></a><a href=\"psysml:6cc47e98-b8e7-4ff0-90aa-a6e12ea2ee54\" target=\"_top\" title=\"psysml:6cc47e98-b8e7-4ff0-90aa-a6e12ea2ee54\" xlink:actuate=\"onRequest\" xlink:href=\"psysml:6cc47e98-b8e7-4ff0-90aa-a6e12ea2ee54\" xlink:show=\"new\" xlink:title=\"psysml:6cc47e98-b8e7-4ff0-90aa-a6e12ea2ee54\" xlink:type=\"simple\"><polygon fill=\"#FFFFFF\" points=\"327,227.72,423,227.72,430,250.0169,437,250.0169,437,280.3138,327,280.3138,327,227.72\" style=\"stroke:#181818;stroke-width:0.5;\"/><line style=\"stroke:#181818;stroke-width:0.5;\" x1=\"327\" x2=\"430\" y1=\"250.0169\" y2=\"250.0169\"/><text fill=\"#000000\" font-family=\"sans-serif\" font-size=\"14\" lengthAdjust=\"spacing\" textLength=\"90\" x=\"331\" y=\"242.7151\">Service Layer</text></a><a href=\"psysml:a41e95d1-6586-47c5-87a0-a52adaa3773e\" target=\"_top\" title=\"psysml:a41e95d1-6586-47c5-87a0-a52adaa3773e\" xlink:actuate=\"onRequest\" xlink:href=\"psysml:a41e95d1-6586-47c5-87a0-a52adaa3773e\" xlink:show=\"new\" xlink:title=\"psysml:a41e95d1-6586-47c5-87a0-a52adaa3773e\" xlink:type=\"simple\"><polygon fill=\"#FFFFFF\" points=\"336,313.72,414,313.72,421,336.0169,428,336.0169,428,366.3138,336,366.3138,336,313.72\" style=\"stroke:#181818;stroke-width:0.5;\"/><line style=\"stroke:#181818;stroke-width:0.5;\" x1=\"336\" x2=\"421\" y1=\"336.0169\" y2=\"336.0169\"/><text fill=\"#000000\" font-family=\"sans-serif\" font-size=\"14\" lengthAdjust=\"spacing\" textLength=\"72\" x=\"340\" y=\"328.7151\">Data Layer</text></a><!--MD5=[1f1cd8e6dd4c1b2ca2aaccc9b9bcea6e]\n",
       "link E1 to E2--><g id=\"link_E1_E2\"><a href=\"psysml:98ffbcea-2ad0-443f-b206-57004efde221\" target=\"_top\" title=\"psysml:98ffbcea-2ad0-443f-b206-57004efde221\" xlink:actuate=\"onRequest\" xlink:href=\"psysml:98ffbcea-2ad0-443f-b206-57004efde221\" xlink:show=\"new\" xlink:title=\"psysml:98ffbcea-2ad0-443f-b206-57004efde221\" xlink:type=\"simple\"><path d=\"M279,33.82 C279,34.815 279,43.3994 279,55.7775 C279,61.9666 279,69.1041 279,76.7155 C279,80.5213 279,84.4455 279,88.429 C279,90.4207 279,92.4272 279,94.4411 C279,95.448 279,96.4568 279,97.4665 C279,97.719 279,97.9714 279,98.224 \" fill=\"none\" id=\"E1-to-E2\" style=\"stroke:#181818;stroke-width:1.0;stroke-dasharray:7.0,7.0;\"/><polygon fill=\"#181818\" points=\"279,98.224,283,89.224,279,93.224,275,89.224,279,98.224\" style=\"stroke:#181818;stroke-width:1.0;\"/><text fill=\"#000000\" font-family=\"sans-serif\" font-size=\"13\" lengthAdjust=\"spacing\" textLength=\"65\" x=\"280\" y=\"54.7869\">«import»*</text></a></g><!--MD5=[af87c684e3b0d8be13c1a698a818ef1e]\n",
       "link E3 to E4--><g id=\"link_E3_E4\"><a href=\"psysml:94e1a3f7-50a9-4c8e-a4e8-5ce452ddfecf\" target=\"_top\" title=\"psysml:94e1a3f7-50a9-4c8e-a4e8-5ce452ddfecf\" xlink:actuate=\"onRequest\" xlink:href=\"psysml:94e1a3f7-50a9-4c8e-a4e8-5ce452ddfecf\" xlink:show=\"new\" xlink:title=\"psysml:94e1a3f7-50a9-4c8e-a4e8-5ce452ddfecf\" xlink:type=\"simple\"><path d=\"M382,194.88 C382,202.7 382,211.41 382,219.66 \" fill=\"none\" id=\"E3-to-E4\" style=\"stroke:#181818;stroke-width:1.0;stroke-dasharray:7.0,7.0;\"/><polygon fill=\"#181818\" points=\"382,227.72,385,219.72,379,219.72,382,227.72\" style=\"stroke:#181818;stroke-width:1.0;\"/><text fill=\"#000000\" font-family=\"sans-serif\" font-size=\"13\" lengthAdjust=\"spacing\" textLength=\"64\" x=\"383\" y=\"215.7869\">«depend»</text></a></g><!--MD5=[1b7591eae5389033d8d09a9d6721a717]\n",
       "link E4 to E5--><g id=\"link_E4_E5\"><a href=\"psysml:9da5c160-44e8-44ec-9936-ca4a4075f5f4\" target=\"_top\" title=\"psysml:9da5c160-44e8-44ec-9936-ca4a4075f5f4\" xlink:actuate=\"onRequest\" xlink:href=\"psysml:9da5c160-44e8-44ec-9936-ca4a4075f5f4\" xlink:show=\"new\" xlink:title=\"psysml:9da5c160-44e8-44ec-9936-ca4a4075f5f4\" xlink:type=\"simple\"><path d=\"M382,280.88 C382,288.7 382,297.41 382,305.66 \" fill=\"none\" id=\"E4-to-E5\" style=\"stroke:#181818;stroke-width:1.0;stroke-dasharray:7.0,7.0;\"/><polygon fill=\"#181818\" points=\"382,313.72,385,305.72,379,305.72,382,313.72\" style=\"stroke:#181818;stroke-width:1.0;\"/><text fill=\"#000000\" font-family=\"sans-serif\" font-size=\"13\" lengthAdjust=\"spacing\" textLength=\"64\" x=\"383\" y=\"301.7869\">«depend»</text></a></g><!--MD5=[c5e8897d989ce984f93528998a7150fe]\n",
       "link E8 to E6--><g id=\"link_E8_E6\"><a href=\"psysml:cc6cc763-fa59-42bd-a700-018e736c1371\" target=\"_top\" title=\"psysml:cc6cc763-fa59-42bd-a700-018e736c1371\" xlink:actuate=\"onRequest\" xlink:href=\"psysml:cc6cc763-fa59-42bd-a700-018e736c1371\" xlink:show=\"new\" xlink:title=\"psysml:cc6cc763-fa59-42bd-a700-018e736c1371\" xlink:type=\"simple\"><path d=\"M92.22,190.63 C81.24,197.19 72,202.72 72,202.72 C72,202.72 72,219.72 72,219.72 C72,219.72 72.09,220.47 72.24,221.73 \" fill=\"none\" id=\"E8-to-E6\" style=\"stroke:#181818;stroke-width:1.0;stroke-dasharray:7.0,7.0;\"/><polygon fill=\"#181818\" points=\"73.22,229.95,75.2561,221.6521,69.2979,222.3594,73.22,229.95\" style=\"stroke:#181818;stroke-width:1.0;\"/><text fill=\"#000000\" font-family=\"sans-serif\" font-size=\"13\" lengthAdjust=\"spacing\" textLength=\"64\" x=\"73\" y=\"215.7869\">«depend»</text></a></g><!--MD5=[bfa3c8b0d15052fdf50ae9310b491027]\n",
       "link E8 to E7--><g id=\"link_E8_E7\"><a href=\"psysml:cc6cc763-fa59-42bd-a700-018e736c1371\" target=\"_top\" title=\"psysml:cc6cc763-fa59-42bd-a700-018e736c1371\" xlink:actuate=\"onRequest\" xlink:href=\"psysml:cc6cc763-fa59-42bd-a700-018e736c1371\" xlink:show=\"new\" xlink:title=\"psysml:cc6cc763-fa59-42bd-a700-018e736c1371\" xlink:type=\"simple\"><path d=\"M143.04,192.62 C149.13,202.08 156.23,213.13 162.69,223.18 \" fill=\"none\" id=\"E8-to-E7\" style=\"stroke:#181818;stroke-width:1.0;stroke-dasharray:7.0,7.0;\"/><polygon fill=\"#181818\" points=\"167.04,229.95,165.2348,221.5989,160.1888,224.845,167.04,229.95\" style=\"stroke:#181818;stroke-width:1.0;\"/><text fill=\"#000000\" font-family=\"sans-serif\" font-size=\"13\" lengthAdjust=\"spacing\" textLength=\"64\" x=\"160\" y=\"215.7869\">«depend»</text></a></g><!--MD5=[449ba4f3e01ab997f7c2dc426872b772]\n",
       "@startuml\r\n",
       "skin sysmlbw\r\n",
       "skinparam monochrome true\r\n",
       "skinparam wrapWidth 300\r\n",
       "hide circle\r\n",
       "skinparam linetype polyline\r\n",
       "skinparam ranksep 10\r\n",
       "skinparam rectangle {\r\n",
       " backgroundColor<<block>> LightGreen\r\n",
       "}\r\n",
       "\r\n",
       "package \"DependencyTest\" as E1  [[psysml:7dee102c-3f89-42b9-9919-3eaa1d7109e5 ]]  {\r\n",
       "package \"System\" as E2  [[psysml:da04b59d-3286-4d3f-bbc3-7e7bb49d7c5d ]]  {\r\n",
       "package \"Application Layer\" as E3  [[psysml:174d7b64-e31a-4a54-99c4-d88bb0afa8af ]]  {\r\n",
       "}\r\n",
       "package \"Service Layer\" as E4  [[psysml:6cc47e98-b8e7-4ff0-90aa-a6e12ea2ee54 ]]  {\r\n",
       "}\r\n",
       "package \"Data Layer\" as E5  [[psysml:a41e95d1-6586-47c5-87a0-a52adaa3773e ]]  {\r\n",
       "}\r\n",
       "}\r\n",
       "comp usage \"x  \" as E6  <<(T,blue) attribute>> [[psysml:fa1eb9e1-3558-4ac6-ae6a-7c42660b9dca ]] {\r\n",
       "}\r\n",
       "comp usage \"y  \" as E7  <<(T,blue) attribute>> [[psysml:a1db1b5d-0100-40b0-bd9f-2e7223fe2e6d ]] {\r\n",
       "}\r\n",
       "comp usage \"z  \" as E8  <<(T,blue) attribute>> [[psysml:179fcb88-b86f-4c8c-8d3f-0f88ad709e86 ]] {\r\n",
       "}\r\n",
       "}\r\n",
       "E1 ..> E2 [[psysml:98ffbcea-2ad0-443f-b206-57004efde221 ]] : <<import>>*\r\n",
       "E3 ..>> E4 [[psysml:94e1a3f7-50a9-4c8e-a4e8-5ce452ddfecf ]] : <<depend>>\r\n",
       "E4 ..>> E5 [[psysml:9da5c160-44e8-44ec-9936-ca4a4075f5f4 ]] : <<depend>>\r\n",
       "E8 ..>> E6 [[psysml:cc6cc763-fa59-42bd-a700-018e736c1371 ]] : <<depend>>\r\n",
       "E8 ..>> E7 [[psysml:cc6cc763-fa59-42bd-a700-018e736c1371 ]] : <<depend>>\r\n",
       "@enduml\r\n",
       "\n",
       "PlantUML version 1.2022.7(Mon Aug 22 17:01:30 UTC 2022)\n",
       "(EPL source distribution)\n",
       "Java Runtime: OpenJDK Runtime Environment\n",
       "JVM: OpenJDK 64-Bit Server VM\n",
       "Default Encoding: UTF-8\n",
       "Language: en\n",
       "Country: null\n",
       "--></g></svg>"
      ]
     },
     "execution_count": 12,
     "metadata": {},
     "output_type": "execute_result"
    }
   ],
   "source": [
    "%viz --style=\"POLYLINE\" --view=\"Interconnection\" \"DependencyTest\""
   ]
  },
  {
   "cell_type": "code",
   "execution_count": 13,
   "id": "d9b22489",
   "metadata": {
    "execution": {
     "iopub.execute_input": "2024-12-16T03:27:30.563038Z",
     "iopub.status.busy": "2024-12-16T03:27:30.562824Z",
     "iopub.status.idle": "2024-12-16T03:27:30.568988Z",
     "shell.execute_reply": "2024-12-16T03:27:30.569119Z"
    }
   },
   "outputs": [
    {
     "data": {
      "image/svg+xml": [
       "<?xml version=\"1.0\" encoding=\"UTF-8\" standalone=\"no\"?><svg xmlns=\"http://www.w3.org/2000/svg\" xmlns:xlink=\"http://www.w3.org/1999/xlink\" contentStyleType=\"text/css\" height=\"10px\" preserveAspectRatio=\"none\" style=\"width:10px;height:10px;background:#FFFFFF;\" version=\"1.1\" viewBox=\"0 0 10 10\" width=\"10px\" zoomAndPan=\"magnify\"><defs/><g><!--MD5=[ff8e7c24accf200c4355ceeab022c402]\n",
       "@startuml\r\n",
       "skin sysmlbw\r\n",
       "skinparam monochrome true\r\n",
       "skinparam wrapWidth 300\r\n",
       "hide circle\r\n",
       "skinparam linetype polyline\r\n",
       "skinparam ranksep 8\r\n",
       "\r\n",
       "@enduml\r\n",
       "\n",
       "PlantUML version 1.2022.7(Mon Aug 22 17:01:30 UTC 2022)\n",
       "(EPL source distribution)\n",
       "Java Runtime: OpenJDK Runtime Environment\n",
       "JVM: OpenJDK 64-Bit Server VM\n",
       "Default Encoding: UTF-8\n",
       "Language: en\n",
       "Country: null\n",
       "--></g></svg>"
      ]
     },
     "execution_count": 13,
     "metadata": {},
     "output_type": "execute_result"
    }
   ],
   "source": [
    "%viz --style=\"POLYLINE\" --view=\"Action\" \"DependencyTest\""
   ]
  },
  {
   "cell_type": "code",
   "execution_count": 14,
   "id": "f4636941",
   "metadata": {
    "execution": {
     "iopub.execute_input": "2024-12-16T03:27:30.621825Z",
     "iopub.status.busy": "2024-12-16T03:27:30.621598Z",
     "iopub.status.idle": "2024-12-16T03:27:30.629664Z",
     "shell.execute_reply": "2024-12-16T03:27:30.629456Z"
    }
   },
   "outputs": [
    {
     "data": {
      "image/svg+xml": [
       "<?xml version=\"1.0\" encoding=\"UTF-8\" standalone=\"no\"?><svg xmlns=\"http://www.w3.org/2000/svg\" xmlns:xlink=\"http://www.w3.org/1999/xlink\" contentStyleType=\"text/css\" height=\"10px\" preserveAspectRatio=\"none\" style=\"width:10px;height:10px;background:#FFFFFF;\" version=\"1.1\" viewBox=\"0 0 10 10\" width=\"10px\" zoomAndPan=\"magnify\"><defs/><g><!--MD5=[efefafbf36b45173e0355713d9054f90]\n",
       "@startuml\r\n",
       "skin sysmlbw\r\n",
       "skinparam monochrome true\r\n",
       "skinparam wrapWidth 300\r\n",
       "hide circle\r\n",
       "skinparam linetype polyline\r\n",
       "skinparam roundcorner 20\r\n",
       "skinparam BoxPadding 20\r\n",
       "skinparam SequenceBoxBackgroundColor #white\r\n",
       "skinparam style strictuml\r\n",
       "skinparam maxMessageSize 100\r\n",
       "\r\n",
       "@enduml\r\n",
       "\n",
       "PlantUML version 1.2022.7(Mon Aug 22 17:01:30 UTC 2022)\n",
       "(EPL source distribution)\n",
       "Java Runtime: OpenJDK Runtime Environment\n",
       "JVM: OpenJDK 64-Bit Server VM\n",
       "Default Encoding: UTF-8\n",
       "Language: en\n",
       "Country: null\n",
       "--></g></svg>"
      ]
     },
     "execution_count": 14,
     "metadata": {},
     "output_type": "execute_result"
    }
   ],
   "source": [
    "%viz --style=\"POLYLINE\" --view=\"Sequence\" \"DependencyTest\""
   ]
  },
  {
   "cell_type": "code",
   "execution_count": 15,
   "id": "8d9dff4e",
   "metadata": {
    "execution": {
     "iopub.execute_input": "2024-12-16T03:27:30.683179Z",
     "iopub.status.busy": "2024-12-16T03:27:30.682997Z",
     "iopub.status.idle": "2024-12-16T03:27:30.709524Z",
     "shell.execute_reply": "2024-12-16T03:27:30.709327Z"
    }
   },
   "outputs": [
    {
     "data": {
      "image/svg+xml": [
       "<?xml version=\"1.0\" encoding=\"UTF-8\" standalone=\"no\"?><svg xmlns=\"http://www.w3.org/2000/svg\" xmlns:xlink=\"http://www.w3.org/1999/xlink\" contentStyleType=\"text/css\" height=\"547px\" preserveAspectRatio=\"none\" style=\"width:531px;height:547px;background:#FFFFFF;\" version=\"1.1\" viewBox=\"0 0 531 547\" width=\"531px\" zoomAndPan=\"magnify\"><defs/><g><!--MD5=[fbc87193dbaf4d95561dea2c320d4a47]\n",
       "cluster E1--><g id=\"cluster_E1\"><a href=\"psysml:7dee102c-3f89-42b9-9919-3eaa1d7109e5\" target=\"_top\" title=\"psysml:7dee102c-3f89-42b9-9919-3eaa1d7109e5\" xlink:actuate=\"onRequest\" xlink:href=\"psysml:7dee102c-3f89-42b9-9919-3eaa1d7109e5\" xlink:show=\"new\" xlink:title=\"psysml:7dee102c-3f89-42b9-9919-3eaa1d7109e5\" xlink:type=\"simple\"><polygon fill=\"none\" points=\"16,6,148.125,6,155.125,28.2969,514,28.2969,514,540.72,16,540.72,16,6\" style=\"stroke:#000000;stroke-width:1.5;\"/><line style=\"stroke:#000000;stroke-width:1.5;\" x1=\"16\" x2=\"155.125\" y1=\"28.2969\" y2=\"28.2969\"/><text fill=\"#000000\" font-family=\"sans-serif\" font-size=\"14\" font-weight=\"bold\" lengthAdjust=\"spacing\" textLength=\"126.125\" x=\"20\" y=\"20.9951\">DependencyTest</text></a></g><!--MD5=[e4f7fae6ed58524ba242bb0b0d3be6b7]\n",
       "cluster E2--><g id=\"cluster_E2\"><a href=\"psysml:da04b59d-3286-4d3f-bbc3-7e7bb49d7c5d\" target=\"_top\" title=\"psysml:da04b59d-3286-4d3f-bbc3-7e7bb49d7c5d\" xlink:actuate=\"onRequest\" xlink:href=\"psysml:da04b59d-3286-4d3f-bbc3-7e7bb49d7c5d\" xlink:show=\"new\" xlink:title=\"psysml:da04b59d-3286-4d3f-bbc3-7e7bb49d7c5d\" xlink:type=\"simple\"><polygon fill=\"none\" points=\"271,120.72,330.625,120.72,337.625,143.0169,474,143.0169,474,500.72,271,500.72,271,120.72\" style=\"stroke:#000000;stroke-width:1.5;\"/><line style=\"stroke:#000000;stroke-width:1.5;\" x1=\"271\" x2=\"337.625\" y1=\"143.0169\" y2=\"143.0169\"/><text fill=\"#000000\" font-family=\"sans-serif\" font-size=\"14\" font-weight=\"bold\" lengthAdjust=\"spacing\" textLength=\"53.625\" x=\"275\" y=\"135.7151\">System</text></a></g><!--MD5=[60a26617385b1d2d0262a64233df1f8d]\n",
       "class E6--><a href=\"psysml:fa1eb9e1-3558-4ac6-ae6a-7c42660b9dca\" target=\"_top\" title=\"psysml:fa1eb9e1-3558-4ac6-ae6a-7c42660b9dca\" xlink:actuate=\"onRequest\" xlink:href=\"psysml:fa1eb9e1-3558-4ac6-ae6a-7c42660b9dca\" xlink:show=\"new\" xlink:title=\"psysml:fa1eb9e1-3558-4ac6-ae6a-7c42660b9dca\" xlink:type=\"simple\"><g id=\"elem_E6\"><rect fill=\"#FFFFFF\" height=\"48.2656\" id=\"E6\" rx=\"10\" ry=\"10\" style=\"stroke:#181818;stroke-width:0.5;\" width=\"71\" x=\"40.5\" y=\"296.22\"/><text fill=\"#000000\" font-family=\"sans-serif\" font-size=\"12\" font-style=\"italic\" lengthAdjust=\"spacing\" textLength=\"69\" x=\"41.5\" y=\"312.3587\">«attribute»</text><text fill=\"#000000\" font-family=\"sans-serif\" font-size=\"14\" lengthAdjust=\"spacing\" textLength=\"7\" x=\"68.5\" y=\"328.1839\">x</text><line style=\"stroke:#181818;stroke-width:0.5;\" x1=\"41.5\" x2=\"110.5\" y1=\"336.4856\" y2=\"336.4856\"/></g></a><!--MD5=[2156ba9850f5573cc1fc38a6a4b2f02b]\n",
       "class E7--><a href=\"psysml:a1db1b5d-0100-40b0-bd9f-2e7223fe2e6d\" target=\"_top\" title=\"psysml:a1db1b5d-0100-40b0-bd9f-2e7223fe2e6d\" xlink:actuate=\"onRequest\" xlink:href=\"psysml:a1db1b5d-0100-40b0-bd9f-2e7223fe2e6d\" xlink:show=\"new\" xlink:title=\"psysml:a1db1b5d-0100-40b0-bd9f-2e7223fe2e6d\" xlink:type=\"simple\"><g id=\"elem_E7\"><rect fill=\"#FFFFFF\" height=\"48.2656\" id=\"E7\" rx=\"10\" ry=\"10\" style=\"stroke:#181818;stroke-width:0.5;\" width=\"71\" x=\"146.5\" y=\"296.22\"/><text fill=\"#000000\" font-family=\"sans-serif\" font-size=\"12\" font-style=\"italic\" lengthAdjust=\"spacing\" textLength=\"69\" x=\"147.5\" y=\"312.3587\">«attribute»</text><text fill=\"#000000\" font-family=\"sans-serif\" font-size=\"14\" lengthAdjust=\"spacing\" textLength=\"7\" x=\"174.5\" y=\"328.1839\">y</text><line style=\"stroke:#181818;stroke-width:0.5;\" x1=\"147.5\" x2=\"216.5\" y1=\"336.4856\" y2=\"336.4856\"/></g></a><!--MD5=[b9389687b975829384b498ac4b7476b2]\n",
       "class E8--><a href=\"psysml:179fcb88-b86f-4c8c-8d3f-0f88ad709e86\" target=\"_top\" title=\"psysml:179fcb88-b86f-4c8c-8d3f-0f88ad709e86\" xlink:actuate=\"onRequest\" xlink:href=\"psysml:179fcb88-b86f-4c8c-8d3f-0f88ad709e86\" xlink:show=\"new\" xlink:title=\"psysml:179fcb88-b86f-4c8c-8d3f-0f88ad709e86\" xlink:type=\"simple\"><g id=\"elem_E8\"><rect fill=\"#FFFFFF\" height=\"48.2656\" id=\"E8\" rx=\"10\" ry=\"10\" style=\"stroke:#181818;stroke-width:0.5;\" width=\"71\" x=\"92.5\" y=\"166.22\"/><text fill=\"#000000\" font-family=\"sans-serif\" font-size=\"12\" font-style=\"italic\" lengthAdjust=\"spacing\" textLength=\"69\" x=\"93.5\" y=\"182.3587\">«attribute»</text><text fill=\"#000000\" font-family=\"sans-serif\" font-size=\"14\" lengthAdjust=\"spacing\" textLength=\"8\" x=\"120\" y=\"198.1839\">z</text><line style=\"stroke:#181818;stroke-width:0.5;\" x1=\"93.5\" x2=\"162.5\" y1=\"206.4856\" y2=\"206.4856\"/></g></a><a href=\"psysml:174d7b64-e31a-4a54-99c4-d88bb0afa8af\" target=\"_top\" title=\"psysml:174d7b64-e31a-4a54-99c4-d88bb0afa8af\" xlink:actuate=\"onRequest\" xlink:href=\"psysml:174d7b64-e31a-4a54-99c4-d88bb0afa8af\" xlink:show=\"new\" xlink:title=\"psysml:174d7b64-e31a-4a54-99c4-d88bb0afa8af\" xlink:type=\"simple\"><polygon fill=\"#FFFFFF\" points=\"314.5,163.72,435.5,163.72,442.5,186.0169,449.5,186.0169,449.5,216.3138,314.5,216.3138,314.5,163.72\" style=\"stroke:#181818;stroke-width:0.5;\"/><line style=\"stroke:#181818;stroke-width:0.5;\" x1=\"314.5\" x2=\"442.5\" y1=\"186.0169\" y2=\"186.0169\"/><text fill=\"#000000\" font-family=\"sans-serif\" font-size=\"14\" lengthAdjust=\"spacing\" textLength=\"115\" x=\"318.5\" y=\"178.7151\">Application Layer</text></a><a href=\"psysml:6cc47e98-b8e7-4ff0-90aa-a6e12ea2ee54\" target=\"_top\" title=\"psysml:6cc47e98-b8e7-4ff0-90aa-a6e12ea2ee54\" xlink:actuate=\"onRequest\" xlink:href=\"psysml:6cc47e98-b8e7-4ff0-90aa-a6e12ea2ee54\" xlink:show=\"new\" xlink:title=\"psysml:6cc47e98-b8e7-4ff0-90aa-a6e12ea2ee54\" xlink:type=\"simple\"><polygon fill=\"#FFFFFF\" points=\"327,293.72,423,293.72,430,316.0169,437,316.0169,437,346.3138,327,346.3138,327,293.72\" style=\"stroke:#181818;stroke-width:0.5;\"/><line style=\"stroke:#181818;stroke-width:0.5;\" x1=\"327\" x2=\"430\" y1=\"316.0169\" y2=\"316.0169\"/><text fill=\"#000000\" font-family=\"sans-serif\" font-size=\"14\" lengthAdjust=\"spacing\" textLength=\"90\" x=\"331\" y=\"308.7151\">Service Layer</text></a><a href=\"psysml:a41e95d1-6586-47c5-87a0-a52adaa3773e\" target=\"_top\" title=\"psysml:a41e95d1-6586-47c5-87a0-a52adaa3773e\" xlink:actuate=\"onRequest\" xlink:href=\"psysml:a41e95d1-6586-47c5-87a0-a52adaa3773e\" xlink:show=\"new\" xlink:title=\"psysml:a41e95d1-6586-47c5-87a0-a52adaa3773e\" xlink:type=\"simple\"><polygon fill=\"#FFFFFF\" points=\"336,423.72,414,423.72,421,446.0169,428,446.0169,428,476.3138,336,476.3138,336,423.72\" style=\"stroke:#181818;stroke-width:0.5;\"/><line style=\"stroke:#181818;stroke-width:0.5;\" x1=\"336\" x2=\"421\" y1=\"446.0169\" y2=\"446.0169\"/><text fill=\"#000000\" font-family=\"sans-serif\" font-size=\"14\" lengthAdjust=\"spacing\" textLength=\"72\" x=\"340\" y=\"438.7151\">Data Layer</text></a><!--MD5=[1f1cd8e6dd4c1b2ca2aaccc9b9bcea6e]\n",
       "link E1 to E2--><g id=\"link_E1_E2\"><a href=\"psysml:98ffbcea-2ad0-443f-b206-57004efde221\" target=\"_top\" title=\"psysml:98ffbcea-2ad0-443f-b206-57004efde221\" xlink:actuate=\"onRequest\" xlink:href=\"psysml:98ffbcea-2ad0-443f-b206-57004efde221\" xlink:show=\"new\" xlink:title=\"psysml:98ffbcea-2ad0-443f-b206-57004efde221\" xlink:type=\"simple\"><path d=\"M279,33.83 C279,36.15 279,73.83 279,111.5 C279,113.8544 279,116.2087 279,118.5544 C279,119.1408 279,119.7267 279,120.3119 \" fill=\"none\" id=\"E1-to-E2\" style=\"stroke:#181818;stroke-width:1.0;stroke-dasharray:7.0,7.0;\"/><polygon fill=\"#181818\" points=\"279,120.3119,283,111.3119,279,115.3119,275,111.3119,279,120.3119\" style=\"stroke:#181818;stroke-width:1.0;\"/><text fill=\"#000000\" font-family=\"sans-serif\" font-size=\"13\" lengthAdjust=\"spacing\" textLength=\"65\" x=\"280\" y=\"76.7869\">«import»*</text></a></g><!--MD5=[af87c684e3b0d8be13c1a698a818ef1e]\n",
       "link E3 to E4--><g id=\"link_E3_E4\"><a href=\"psysml:94e1a3f7-50a9-4c8e-a4e8-5ce452ddfecf\" target=\"_top\" title=\"psysml:94e1a3f7-50a9-4c8e-a4e8-5ce452ddfecf\" xlink:actuate=\"onRequest\" xlink:href=\"psysml:94e1a3f7-50a9-4c8e-a4e8-5ce452ddfecf\" xlink:show=\"new\" xlink:title=\"psysml:94e1a3f7-50a9-4c8e-a4e8-5ce452ddfecf\" xlink:type=\"simple\"><path d=\"M382,216.82 C382,236.52 382,263.94 382,285.45 \" fill=\"none\" id=\"E3-to-E4\" style=\"stroke:#181818;stroke-width:1.0;stroke-dasharray:7.0,7.0;\"/><polygon fill=\"#181818\" points=\"382,293.67,385,285.67,379,285.67,382,293.67\" style=\"stroke:#181818;stroke-width:1.0;\"/><text fill=\"#000000\" font-family=\"sans-serif\" font-size=\"13\" lengthAdjust=\"spacing\" textLength=\"64\" x=\"383\" y=\"259.7869\">«depend»</text></a></g><!--MD5=[1b7591eae5389033d8d09a9d6721a717]\n",
       "link E4 to E5--><g id=\"link_E4_E5\"><a href=\"psysml:9da5c160-44e8-44ec-9936-ca4a4075f5f4\" target=\"_top\" title=\"psysml:9da5c160-44e8-44ec-9936-ca4a4075f5f4\" xlink:actuate=\"onRequest\" xlink:href=\"psysml:9da5c160-44e8-44ec-9936-ca4a4075f5f4\" xlink:show=\"new\" xlink:title=\"psysml:9da5c160-44e8-44ec-9936-ca4a4075f5f4\" xlink:type=\"simple\"><path d=\"M382,346.82 C382,366.52 382,393.94 382,415.45 \" fill=\"none\" id=\"E4-to-E5\" style=\"stroke:#181818;stroke-width:1.0;stroke-dasharray:7.0,7.0;\"/><polygon fill=\"#181818\" points=\"382,423.67,385,415.67,379,415.67,382,423.67\" style=\"stroke:#181818;stroke-width:1.0;\"/><text fill=\"#000000\" font-family=\"sans-serif\" font-size=\"13\" lengthAdjust=\"spacing\" textLength=\"64\" x=\"383\" y=\"389.7869\">«depend»</text></a></g><!--MD5=[c5e8897d989ce984f93528998a7150fe]\n",
       "link E8 to E6--><g id=\"link_E8_E6\"><a href=\"psysml:cc6cc763-fa59-42bd-a700-018e736c1371\" target=\"_top\" title=\"psysml:cc6cc763-fa59-42bd-a700-018e736c1371\" xlink:actuate=\"onRequest\" xlink:href=\"psysml:cc6cc763-fa59-42bd-a700-018e736c1371\" xlink:show=\"new\" xlink:title=\"psysml:cc6cc763-fa59-42bd-a700-018e736c1371\" xlink:type=\"simple\"><path d=\"M104.58,214.44 C89.23,229.64 72,246.72 72,246.72 C72,246.72 72,263.72 72,263.72 C72,263.72 72.83,275.21 73.73,287.74 \" fill=\"none\" id=\"E8-to-E6\" style=\"stroke:#181818;stroke-width:1.0;stroke-dasharray:7.0,7.0;\"/><polygon fill=\"#181818\" points=\"74.33,296,76.7357,287.8017,70.7518,288.2413,74.33,296\" style=\"stroke:#181818;stroke-width:1.0;\"/><text fill=\"#000000\" font-family=\"sans-serif\" font-size=\"13\" lengthAdjust=\"spacing\" textLength=\"64\" x=\"73\" y=\"259.7869\">«depend»</text></a></g><!--MD5=[bfa3c8b0d15052fdf50ae9310b491027]\n",
       "link E8 to E7--><g id=\"link_E8_E7\"><a href=\"psysml:cc6cc763-fa59-42bd-a700-018e736c1371\" target=\"_top\" title=\"psysml:cc6cc763-fa59-42bd-a700-018e736c1371\" xlink:actuate=\"onRequest\" xlink:href=\"psysml:cc6cc763-fa59-42bd-a700-018e736c1371\" xlink:show=\"new\" xlink:title=\"psysml:cc6cc763-fa59-42bd-a700-018e736c1371\" xlink:type=\"simple\"><path d=\"M137.78,214.4 C146.57,235.24 159.55,266 169.17,288.81 \" fill=\"none\" id=\"E8-to-E7\" style=\"stroke:#181818;stroke-width:1.0;stroke-dasharray:7.0,7.0;\"/><polygon fill=\"#181818\" points=\"172.29,296.21,171.9401,287.6732,166.4131,290.0082,172.29,296.21\" style=\"stroke:#181818;stroke-width:1.0;\"/><text fill=\"#000000\" font-family=\"sans-serif\" font-size=\"13\" lengthAdjust=\"spacing\" textLength=\"64\" x=\"159\" y=\"259.7869\">«depend»</text></a></g><!--MD5=[fbd0434ae70574ddf88ddd75d38f74f8]\n",
       "@startuml\r\n",
       "skin sysmlbw\r\n",
       "skinparam monochrome true\r\n",
       "skinparam wrapWidth 300\r\n",
       "hide circle\r\n",
       "skinparam linetype polyline\r\n",
       "\r\n",
       "package \"DependencyTest\" as E1  [[psysml:7dee102c-3f89-42b9-9919-3eaa1d7109e5 ]]  {\r\n",
       "package \"System\" as E2  [[psysml:da04b59d-3286-4d3f-bbc3-7e7bb49d7c5d ]]  {\r\n",
       "package \"Application Layer\" as E3  [[psysml:174d7b64-e31a-4a54-99c4-d88bb0afa8af ]]  {\r\n",
       "}\r\n",
       "package \"Service Layer\" as E4  [[psysml:6cc47e98-b8e7-4ff0-90aa-a6e12ea2ee54 ]]  {\r\n",
       "}\r\n",
       "package \"Data Layer\" as E5  [[psysml:a41e95d1-6586-47c5-87a0-a52adaa3773e ]]  {\r\n",
       "}\r\n",
       "}\r\n",
       "comp usage \"x  \" as E6  <<(T,blue) attribute>> [[psysml:fa1eb9e1-3558-4ac6-ae6a-7c42660b9dca ]] {\r\n",
       "}\r\n",
       "comp usage \"y  \" as E7  <<(T,blue) attribute>> [[psysml:a1db1b5d-0100-40b0-bd9f-2e7223fe2e6d ]] {\r\n",
       "}\r\n",
       "comp usage \"z  \" as E8  <<(T,blue) attribute>> [[psysml:179fcb88-b86f-4c8c-8d3f-0f88ad709e86 ]] {\r\n",
       "}\r\n",
       "}\r\n",
       "E1 ..> E2 [[psysml:98ffbcea-2ad0-443f-b206-57004efde221 ]] : <<import>>*\r\n",
       "E3 ..>> E4 [[psysml:94e1a3f7-50a9-4c8e-a4e8-5ce452ddfecf ]] : <<depend>>\r\n",
       "E4 ..>> E5 [[psysml:9da5c160-44e8-44ec-9936-ca4a4075f5f4 ]] : <<depend>>\r\n",
       "E8 ..>> E6 [[psysml:cc6cc763-fa59-42bd-a700-018e736c1371 ]] : <<depend>>\r\n",
       "E8 ..>> E7 [[psysml:cc6cc763-fa59-42bd-a700-018e736c1371 ]] : <<depend>>\r\n",
       "@enduml\r\n",
       "\n",
       "PlantUML version 1.2022.7(Mon Aug 22 17:01:30 UTC 2022)\n",
       "(EPL source distribution)\n",
       "Java Runtime: OpenJDK Runtime Environment\n",
       "JVM: OpenJDK 64-Bit Server VM\n",
       "Default Encoding: UTF-8\n",
       "Language: en\n",
       "Country: null\n",
       "--></g></svg>"
      ]
     },
     "execution_count": 15,
     "metadata": {},
     "output_type": "execute_result"
    }
   ],
   "source": [
    "%viz --style=\"POLYLINE\" --view=\"MIXED\" \"DependencyTest\""
   ]
  },
  {
   "cell_type": "code",
   "execution_count": 16,
   "id": "27ac7428",
   "metadata": {
    "execution": {
     "iopub.execute_input": "2024-12-16T03:27:30.765192Z",
     "iopub.status.busy": "2024-12-16T03:27:30.764967Z",
     "iopub.status.idle": "2024-12-16T03:27:30.790211Z",
     "shell.execute_reply": "2024-12-16T03:27:30.789403Z"
    }
   },
   "outputs": [
    {
     "data": {
      "image/svg+xml": [
       "<?xml version=\"1.0\" encoding=\"UTF-8\" standalone=\"no\"?><svg xmlns=\"http://www.w3.org/2000/svg\" xmlns:xlink=\"http://www.w3.org/1999/xlink\" contentStyleType=\"text/css\" height=\"391px\" preserveAspectRatio=\"none\" style=\"width:855px;height:391px;background:#FFFFFF;\" version=\"1.1\" viewBox=\"0 0 855 391\" width=\"855px\" zoomAndPan=\"magnify\"><defs/><g><!--MD5=[fbc87193dbaf4d95561dea2c320d4a47]\n",
       "cluster E1--><g id=\"cluster_E1\"><a href=\"psysml:7dee102c-3f89-42b9-9919-3eaa1d7109e5\" target=\"_top\" title=\"psysml:7dee102c-3f89-42b9-9919-3eaa1d7109e5\" xlink:actuate=\"onRequest\" xlink:href=\"psysml:7dee102c-3f89-42b9-9919-3eaa1d7109e5\" xlink:show=\"new\" xlink:title=\"psysml:7dee102c-3f89-42b9-9919-3eaa1d7109e5\" xlink:type=\"simple\"><polygon fill=\"none\" points=\"16,6,148.125,6,155.125,28.2969,838.72,28.2969,838.72,384,16,384,16,6\" style=\"stroke:#000000;stroke-width:1.5;\"/><line style=\"stroke:#000000;stroke-width:1.5;\" x1=\"16\" x2=\"155.125\" y1=\"28.2969\" y2=\"28.2969\"/><text fill=\"#000000\" font-family=\"sans-serif\" font-size=\"14\" font-weight=\"bold\" lengthAdjust=\"spacing\" textLength=\"126.125\" x=\"20\" y=\"20.9951\">DependencyTest</text></a></g><!--MD5=[e4f7fae6ed58524ba242bb0b0d3be6b7]\n",
       "cluster E2--><g id=\"cluster_E2\"><a href=\"psysml:da04b59d-3286-4d3f-bbc3-7e7bb49d7c5d\" target=\"_top\" title=\"psysml:da04b59d-3286-4d3f-bbc3-7e7bb49d7c5d\" xlink:actuate=\"onRequest\" xlink:href=\"psysml:da04b59d-3286-4d3f-bbc3-7e7bb49d7c5d\" xlink:show=\"new\" xlink:title=\"psysml:da04b59d-3286-4d3f-bbc3-7e7bb49d7c5d\" xlink:type=\"simple\"><polygon fill=\"none\" points=\"161.72,65,221.345,65,228.345,87.2969,798.72,87.2969,798.72,205,161.72,205,161.72,65\" style=\"stroke:#000000;stroke-width:1.5;\"/><line style=\"stroke:#000000;stroke-width:1.5;\" x1=\"161.72\" x2=\"228.345\" y1=\"87.2969\" y2=\"87.2969\"/><text fill=\"#000000\" font-family=\"sans-serif\" font-size=\"14\" font-weight=\"bold\" lengthAdjust=\"spacing\" textLength=\"53.625\" x=\"165.72\" y=\"79.9951\">System</text></a></g><!--MD5=[60a26617385b1d2d0262a64233df1f8d]\n",
       "class E6--><a href=\"psysml:fa1eb9e1-3558-4ac6-ae6a-7c42660b9dca\" target=\"_top\" title=\"psysml:fa1eb9e1-3558-4ac6-ae6a-7c42660b9dca\" xlink:actuate=\"onRequest\" xlink:href=\"psysml:fa1eb9e1-3558-4ac6-ae6a-7c42660b9dca\" xlink:show=\"new\" xlink:title=\"psysml:fa1eb9e1-3558-4ac6-ae6a-7c42660b9dca\" xlink:type=\"simple\"><g id=\"elem_E6\"><rect fill=\"#FFFFFF\" height=\"48.2656\" id=\"E6\" rx=\"10\" ry=\"10\" style=\"stroke:#181818;stroke-width:0.5;\" width=\"71\" x=\"466.22\" y=\"312\"/><text fill=\"#000000\" font-family=\"sans-serif\" font-size=\"12\" font-style=\"italic\" lengthAdjust=\"spacing\" textLength=\"69\" x=\"467.22\" y=\"328.1387\">«attribute»</text><text fill=\"#000000\" font-family=\"sans-serif\" font-size=\"14\" lengthAdjust=\"spacing\" textLength=\"7\" x=\"494.22\" y=\"343.9639\">x</text><line style=\"stroke:#181818;stroke-width:0.5;\" x1=\"467.22\" x2=\"536.22\" y1=\"352.2656\" y2=\"352.2656\"/></g></a><!--MD5=[2156ba9850f5573cc1fc38a6a4b2f02b]\n",
       "class E7--><a href=\"psysml:a1db1b5d-0100-40b0-bd9f-2e7223fe2e6d\" target=\"_top\" title=\"psysml:a1db1b5d-0100-40b0-bd9f-2e7223fe2e6d\" xlink:actuate=\"onRequest\" xlink:href=\"psysml:a1db1b5d-0100-40b0-bd9f-2e7223fe2e6d\" xlink:show=\"new\" xlink:title=\"psysml:a1db1b5d-0100-40b0-bd9f-2e7223fe2e6d\" xlink:type=\"simple\"><g id=\"elem_E7\"><rect fill=\"#FFFFFF\" height=\"48.2656\" id=\"E7\" rx=\"10\" ry=\"10\" style=\"stroke:#181818;stroke-width:0.5;\" width=\"71\" x=\"466.22\" y=\"229\"/><text fill=\"#000000\" font-family=\"sans-serif\" font-size=\"12\" font-style=\"italic\" lengthAdjust=\"spacing\" textLength=\"69\" x=\"467.22\" y=\"245.1387\">«attribute»</text><text fill=\"#000000\" font-family=\"sans-serif\" font-size=\"14\" lengthAdjust=\"spacing\" textLength=\"7\" x=\"494.22\" y=\"260.9639\">y</text><line style=\"stroke:#181818;stroke-width:0.5;\" x1=\"467.22\" x2=\"536.22\" y1=\"269.2656\" y2=\"269.2656\"/></g></a><!--MD5=[b9389687b975829384b498ac4b7476b2]\n",
       "class E8--><a href=\"psysml:179fcb88-b86f-4c8c-8d3f-0f88ad709e86\" target=\"_top\" title=\"psysml:179fcb88-b86f-4c8c-8d3f-0f88ad709e86\" xlink:actuate=\"onRequest\" xlink:href=\"psysml:179fcb88-b86f-4c8c-8d3f-0f88ad709e86\" xlink:show=\"new\" xlink:title=\"psysml:179fcb88-b86f-4c8c-8d3f-0f88ad709e86\" xlink:type=\"simple\"><g id=\"elem_E8\"><rect fill=\"#FFFFFF\" height=\"48.2656\" id=\"E8\" rx=\"10\" ry=\"10\" style=\"stroke:#181818;stroke-width:0.5;\" width=\"71\" x=\"217.72\" y=\"264\"/><text fill=\"#000000\" font-family=\"sans-serif\" font-size=\"12\" font-style=\"italic\" lengthAdjust=\"spacing\" textLength=\"69\" x=\"218.72\" y=\"280.1387\">«attribute»</text><text fill=\"#000000\" font-family=\"sans-serif\" font-size=\"14\" lengthAdjust=\"spacing\" textLength=\"8\" x=\"245.22\" y=\"295.9639\">z</text><line style=\"stroke:#181818;stroke-width:0.5;\" x1=\"218.72\" x2=\"287.72\" y1=\"304.2656\" y2=\"304.2656\"/></g></a><a href=\"psysml:174d7b64-e31a-4a54-99c4-d88bb0afa8af\" target=\"_top\" title=\"psysml:174d7b64-e31a-4a54-99c4-d88bb0afa8af\" xlink:actuate=\"onRequest\" xlink:href=\"psysml:174d7b64-e31a-4a54-99c4-d88bb0afa8af\" xlink:show=\"new\" xlink:title=\"psysml:174d7b64-e31a-4a54-99c4-d88bb0afa8af\" xlink:type=\"simple\"><polygon fill=\"#FFFFFF\" points=\"185.72,108.5,306.72,108.5,313.72,130.7969,320.72,130.7969,320.72,161.0938,185.72,161.0938,185.72,108.5\" style=\"stroke:#181818;stroke-width:0.5;\"/><line style=\"stroke:#181818;stroke-width:0.5;\" x1=\"185.72\" x2=\"313.72\" y1=\"130.7969\" y2=\"130.7969\"/><text fill=\"#000000\" font-family=\"sans-serif\" font-size=\"14\" lengthAdjust=\"spacing\" textLength=\"115\" x=\"189.72\" y=\"123.4951\">Application Layer</text></a><a href=\"psysml:6cc47e98-b8e7-4ff0-90aa-a6e12ea2ee54\" target=\"_top\" title=\"psysml:6cc47e98-b8e7-4ff0-90aa-a6e12ea2ee54\" xlink:actuate=\"onRequest\" xlink:href=\"psysml:6cc47e98-b8e7-4ff0-90aa-a6e12ea2ee54\" xlink:show=\"new\" xlink:title=\"psysml:6cc47e98-b8e7-4ff0-90aa-a6e12ea2ee54\" xlink:type=\"simple\"><polygon fill=\"#FFFFFF\" points=\"446.72,108.5,542.72,108.5,549.72,130.7969,556.72,130.7969,556.72,161.0938,446.72,161.0938,446.72,108.5\" style=\"stroke:#181818;stroke-width:0.5;\"/><line style=\"stroke:#181818;stroke-width:0.5;\" x1=\"446.72\" x2=\"549.72\" y1=\"130.7969\" y2=\"130.7969\"/><text fill=\"#000000\" font-family=\"sans-serif\" font-size=\"14\" lengthAdjust=\"spacing\" textLength=\"90\" x=\"450.72\" y=\"123.4951\">Service Layer</text></a><a href=\"psysml:a41e95d1-6586-47c5-87a0-a52adaa3773e\" target=\"_top\" title=\"psysml:a41e95d1-6586-47c5-87a0-a52adaa3773e\" xlink:actuate=\"onRequest\" xlink:href=\"psysml:a41e95d1-6586-47c5-87a0-a52adaa3773e\" xlink:show=\"new\" xlink:title=\"psysml:a41e95d1-6586-47c5-87a0-a52adaa3773e\" xlink:type=\"simple\"><polygon fill=\"#FFFFFF\" points=\"682.72,108.5,760.72,108.5,767.72,130.7969,774.72,130.7969,774.72,161.0938,682.72,161.0938,682.72,108.5\" style=\"stroke:#181818;stroke-width:0.5;\"/><line style=\"stroke:#181818;stroke-width:0.5;\" x1=\"682.72\" x2=\"767.72\" y1=\"130.7969\" y2=\"130.7969\"/><text fill=\"#000000\" font-family=\"sans-serif\" font-size=\"14\" lengthAdjust=\"spacing\" textLength=\"72\" x=\"686.72\" y=\"123.4951\">Data Layer</text></a><!--MD5=[1f1cd8e6dd4c1b2ca2aaccc9b9bcea6e]\n",
       "link E1 to E2--><g id=\"link_E1_E2\"><a href=\"psysml:98ffbcea-2ad0-443f-b206-57004efde221\" target=\"_top\" title=\"psysml:98ffbcea-2ad0-443f-b206-57004efde221\" xlink:actuate=\"onRequest\" xlink:href=\"psysml:98ffbcea-2ad0-443f-b206-57004efde221\" xlink:show=\"new\" xlink:title=\"psysml:98ffbcea-2ad0-443f-b206-57004efde221\" xlink:type=\"simple\"><path d=\"M24.88,197 C28.275,197 83.4,197 138.5113,197 C145.4002,197 152.2888,197 159.0763,197 C159.9247,197 160.7715,197 161.6166,197 \" fill=\"none\" id=\"E1-to-E2\" style=\"stroke:#181818;stroke-width:1.0;stroke-dasharray:7.0,7.0;\"/><polygon fill=\"#181818\" points=\"161.6166,197,152.6166,193,156.6166,197,152.6166,201,161.6166,197\" style=\"stroke:#181818;stroke-width:1.0;\"/><text fill=\"#000000\" font-family=\"sans-serif\" font-size=\"13\" lengthAdjust=\"spacing\" textLength=\"65\" x=\"55.72\" y=\"193.0669\">«import»*</text></a></g><!--MD5=[af87c684e3b0d8be13c1a698a818ef1e]\n",
       "link E3 to E4--><g id=\"link_E3_E4\"><a href=\"psysml:94e1a3f7-50a9-4c8e-a4e8-5ce452ddfecf\" target=\"_top\" title=\"psysml:94e1a3f7-50a9-4c8e-a4e8-5ce452ddfecf\" xlink:actuate=\"onRequest\" xlink:href=\"psysml:94e1a3f7-50a9-4c8e-a4e8-5ce452ddfecf\" xlink:show=\"new\" xlink:title=\"psysml:94e1a3f7-50a9-4c8e-a4e8-5ce452ddfecf\" xlink:type=\"simple\"><path d=\"M320.93,135 C357.36,135 402.21,135 438,135 \" fill=\"none\" id=\"E3-to-E4\" style=\"stroke:#181818;stroke-width:1.0;stroke-dasharray:7.0,7.0;\"/><polygon fill=\"#181818\" points=\"446.42,135,438.42,132,438.42,138,446.42,135\" style=\"stroke:#181818;stroke-width:1.0;\"/><text fill=\"#000000\" font-family=\"sans-serif\" font-size=\"13\" lengthAdjust=\"spacing\" textLength=\"64\" x=\"351.72\" y=\"131.0669\">«depend»</text></a></g><!--MD5=[1b7591eae5389033d8d09a9d6721a717]\n",
       "link E4 to E5--><g id=\"link_E4_E5\"><a href=\"psysml:9da5c160-44e8-44ec-9936-ca4a4075f5f4\" target=\"_top\" title=\"psysml:9da5c160-44e8-44ec-9936-ca4a4075f5f4\" xlink:actuate=\"onRequest\" xlink:href=\"psysml:9da5c160-44e8-44ec-9936-ca4a4075f5f4\" xlink:show=\"new\" xlink:title=\"psysml:9da5c160-44e8-44ec-9936-ca4a4075f5f4\" xlink:type=\"simple\"><path d=\"M556.9,135 C592.53,135 638.96,135 674.41,135 \" fill=\"none\" id=\"E4-to-E5\" style=\"stroke:#181818;stroke-width:1.0;stroke-dasharray:7.0,7.0;\"/><polygon fill=\"#181818\" points=\"682.72,135,674.72,132,674.72,138,682.72,135\" style=\"stroke:#181818;stroke-width:1.0;\"/><text fill=\"#000000\" font-family=\"sans-serif\" font-size=\"13\" lengthAdjust=\"spacing\" textLength=\"64\" x=\"587.72\" y=\"131.0669\">«depend»</text></a></g><!--MD5=[c5e8897d989ce984f93528998a7150fe]\n",
       "link E8 to E6--><g id=\"link_E8_E6\"><a href=\"psysml:cc6cc763-fa59-42bd-a700-018e736c1371\" target=\"_top\" title=\"psysml:cc6cc763-fa59-42bd-a700-018e736c1371\" xlink:actuate=\"onRequest\" xlink:href=\"psysml:cc6cc763-fa59-42bd-a700-018e736c1371\" xlink:show=\"new\" xlink:title=\"psysml:cc6cc763-fa59-42bd-a700-018e736c1371\" xlink:type=\"simple\"><path d=\"M288.75,294.72 C333.09,303.36 410.02,318.34 458,327.68 \" fill=\"none\" id=\"E8-to-E6\" style=\"stroke:#181818;stroke-width:1.0;stroke-dasharray:7.0,7.0;\"/><polygon fill=\"#181818\" points=\"466.02,329.24,458.7416,324.765,457.5938,330.6542,466.02,329.24\" style=\"stroke:#181818;stroke-width:1.0;\"/><text fill=\"#000000\" font-family=\"sans-serif\" font-size=\"13\" lengthAdjust=\"spacing\" textLength=\"64\" x=\"351.72\" y=\"304.0669\">«depend»</text></a></g><!--MD5=[bfa3c8b0d15052fdf50ae9310b491027]\n",
       "link E8 to E7--><g id=\"link_E8_E7\"><a href=\"psysml:cc6cc763-fa59-42bd-a700-018e736c1371\" target=\"_top\" title=\"psysml:cc6cc763-fa59-42bd-a700-018e736c1371\" xlink:actuate=\"onRequest\" xlink:href=\"psysml:cc6cc763-fa59-42bd-a700-018e736c1371\" xlink:show=\"new\" xlink:title=\"psysml:cc6cc763-fa59-42bd-a700-018e736c1371\" xlink:type=\"simple\"><path d=\"M288.75,283.1 C333.09,276.8 410.02,265.88 458,259.07 \" fill=\"none\" id=\"E8-to-E7\" style=\"stroke:#181818;stroke-width:1.0;stroke-dasharray:7.0,7.0;\"/><polygon fill=\"#181818\" points=\"466.02,257.93,457.6766,256.0894,458.5236,262.0293,466.02,257.93\" style=\"stroke:#181818;stroke-width:1.0;\"/><text fill=\"#000000\" font-family=\"sans-serif\" font-size=\"13\" lengthAdjust=\"spacing\" textLength=\"64\" x=\"351.72\" y=\"262.0669\">«depend»</text></a></g><!--MD5=[e78ba9c5908f1f7693e86b08b4a0f83b]\n",
       "@startuml\r\n",
       "skin sysmlbw\r\n",
       "skinparam monochrome true\r\n",
       "skinparam wrapWidth 300\r\n",
       "hide circle\r\n",
       "left to right direction\r\n",
       "\r\n",
       "package \"DependencyTest\" as E1  [[psysml:7dee102c-3f89-42b9-9919-3eaa1d7109e5 ]]  {\r\n",
       "package \"System\" as E2  [[psysml:da04b59d-3286-4d3f-bbc3-7e7bb49d7c5d ]]  {\r\n",
       "package \"Application Layer\" as E3  [[psysml:174d7b64-e31a-4a54-99c4-d88bb0afa8af ]]  {\r\n",
       "}\r\n",
       "package \"Service Layer\" as E4  [[psysml:6cc47e98-b8e7-4ff0-90aa-a6e12ea2ee54 ]]  {\r\n",
       "}\r\n",
       "package \"Data Layer\" as E5  [[psysml:a41e95d1-6586-47c5-87a0-a52adaa3773e ]]  {\r\n",
       "}\r\n",
       "}\r\n",
       "comp usage \"x  \" as E6  <<(T,blue) attribute>> [[psysml:fa1eb9e1-3558-4ac6-ae6a-7c42660b9dca ]] {\r\n",
       "}\r\n",
       "comp usage \"y  \" as E7  <<(T,blue) attribute>> [[psysml:a1db1b5d-0100-40b0-bd9f-2e7223fe2e6d ]] {\r\n",
       "}\r\n",
       "comp usage \"z  \" as E8  <<(T,blue) attribute>> [[psysml:179fcb88-b86f-4c8c-8d3f-0f88ad709e86 ]] {\r\n",
       "}\r\n",
       "}\r\n",
       "E1 ..> E2 [[psysml:98ffbcea-2ad0-443f-b206-57004efde221 ]] : <<import>>*\r\n",
       "E3 ..>> E4 [[psysml:94e1a3f7-50a9-4c8e-a4e8-5ce452ddfecf ]] : <<depend>>\r\n",
       "E4 ..>> E5 [[psysml:9da5c160-44e8-44ec-9936-ca4a4075f5f4 ]] : <<depend>>\r\n",
       "E8 ..>> E6 [[psysml:cc6cc763-fa59-42bd-a700-018e736c1371 ]] : <<depend>>\r\n",
       "E8 ..>> E7 [[psysml:cc6cc763-fa59-42bd-a700-018e736c1371 ]] : <<depend>>\r\n",
       "@enduml\r\n",
       "\n",
       "PlantUML version 1.2022.7(Mon Aug 22 17:01:30 UTC 2022)\n",
       "(EPL source distribution)\n",
       "Java Runtime: OpenJDK Runtime Environment\n",
       "JVM: OpenJDK 64-Bit Server VM\n",
       "Default Encoding: UTF-8\n",
       "Language: en\n",
       "Country: null\n",
       "--></g></svg>"
      ]
     },
     "execution_count": 16,
     "metadata": {},
     "output_type": "execute_result"
    }
   ],
   "source": [
    "%viz --style=\"LR\" --view=\"Default\" \"DependencyTest\""
   ]
  },
  {
   "cell_type": "code",
   "execution_count": 17,
   "id": "63db5fe5",
   "metadata": {
    "execution": {
     "iopub.execute_input": "2024-12-16T03:27:30.843191Z",
     "iopub.status.busy": "2024-12-16T03:27:30.843016Z",
     "iopub.status.idle": "2024-12-16T03:27:30.866773Z",
     "shell.execute_reply": "2024-12-16T03:27:30.866597Z"
    }
   },
   "outputs": [
    {
     "data": {
      "image/svg+xml": [
       "<?xml version=\"1.0\" encoding=\"UTF-8\" standalone=\"no\"?><svg xmlns=\"http://www.w3.org/2000/svg\" xmlns:xlink=\"http://www.w3.org/1999/xlink\" contentStyleType=\"text/css\" height=\"391px\" preserveAspectRatio=\"none\" style=\"width:855px;height:391px;background:#FFFFFF;\" version=\"1.1\" viewBox=\"0 0 855 391\" width=\"855px\" zoomAndPan=\"magnify\"><defs/><g><!--MD5=[fbc87193dbaf4d95561dea2c320d4a47]\n",
       "cluster E1--><g id=\"cluster_E1\"><a href=\"psysml:7dee102c-3f89-42b9-9919-3eaa1d7109e5\" target=\"_top\" title=\"psysml:7dee102c-3f89-42b9-9919-3eaa1d7109e5\" xlink:actuate=\"onRequest\" xlink:href=\"psysml:7dee102c-3f89-42b9-9919-3eaa1d7109e5\" xlink:show=\"new\" xlink:title=\"psysml:7dee102c-3f89-42b9-9919-3eaa1d7109e5\" xlink:type=\"simple\"><polygon fill=\"none\" points=\"16,6,148.125,6,155.125,28.2969,838.72,28.2969,838.72,384,16,384,16,6\" style=\"stroke:#000000;stroke-width:1.5;\"/><line style=\"stroke:#000000;stroke-width:1.5;\" x1=\"16\" x2=\"155.125\" y1=\"28.2969\" y2=\"28.2969\"/><text fill=\"#000000\" font-family=\"sans-serif\" font-size=\"14\" font-weight=\"bold\" lengthAdjust=\"spacing\" textLength=\"126.125\" x=\"20\" y=\"20.9951\">DependencyTest</text></a></g><!--MD5=[e4f7fae6ed58524ba242bb0b0d3be6b7]\n",
       "cluster E2--><g id=\"cluster_E2\"><a href=\"psysml:da04b59d-3286-4d3f-bbc3-7e7bb49d7c5d\" target=\"_top\" title=\"psysml:da04b59d-3286-4d3f-bbc3-7e7bb49d7c5d\" xlink:actuate=\"onRequest\" xlink:href=\"psysml:da04b59d-3286-4d3f-bbc3-7e7bb49d7c5d\" xlink:show=\"new\" xlink:title=\"psysml:da04b59d-3286-4d3f-bbc3-7e7bb49d7c5d\" xlink:type=\"simple\"><polygon fill=\"none\" points=\"161.72,65,221.345,65,228.345,87.2969,798.72,87.2969,798.72,205,161.72,205,161.72,65\" style=\"stroke:#000000;stroke-width:1.5;\"/><line style=\"stroke:#000000;stroke-width:1.5;\" x1=\"161.72\" x2=\"228.345\" y1=\"87.2969\" y2=\"87.2969\"/><text fill=\"#000000\" font-family=\"sans-serif\" font-size=\"14\" font-weight=\"bold\" lengthAdjust=\"spacing\" textLength=\"53.625\" x=\"165.72\" y=\"79.9951\">System</text></a></g><!--MD5=[60a26617385b1d2d0262a64233df1f8d]\n",
       "class E6--><a href=\"psysml:fa1eb9e1-3558-4ac6-ae6a-7c42660b9dca\" target=\"_top\" title=\"psysml:fa1eb9e1-3558-4ac6-ae6a-7c42660b9dca\" xlink:actuate=\"onRequest\" xlink:href=\"psysml:fa1eb9e1-3558-4ac6-ae6a-7c42660b9dca\" xlink:show=\"new\" xlink:title=\"psysml:fa1eb9e1-3558-4ac6-ae6a-7c42660b9dca\" xlink:type=\"simple\"><g id=\"elem_E6\"><rect fill=\"#FFFFFF\" height=\"48.2656\" id=\"E6\" rx=\"10\" ry=\"10\" style=\"stroke:#181818;stroke-width:0.5;\" width=\"71\" x=\"466.22\" y=\"312\"/><text fill=\"#000000\" font-family=\"sans-serif\" font-size=\"12\" font-style=\"italic\" lengthAdjust=\"spacing\" textLength=\"69\" x=\"467.22\" y=\"328.1387\">«attribute»</text><text fill=\"#000000\" font-family=\"sans-serif\" font-size=\"14\" lengthAdjust=\"spacing\" textLength=\"7\" x=\"494.22\" y=\"343.9639\">x</text><line style=\"stroke:#181818;stroke-width:0.5;\" x1=\"467.22\" x2=\"536.22\" y1=\"352.2656\" y2=\"352.2656\"/></g></a><!--MD5=[2156ba9850f5573cc1fc38a6a4b2f02b]\n",
       "class E7--><a href=\"psysml:a1db1b5d-0100-40b0-bd9f-2e7223fe2e6d\" target=\"_top\" title=\"psysml:a1db1b5d-0100-40b0-bd9f-2e7223fe2e6d\" xlink:actuate=\"onRequest\" xlink:href=\"psysml:a1db1b5d-0100-40b0-bd9f-2e7223fe2e6d\" xlink:show=\"new\" xlink:title=\"psysml:a1db1b5d-0100-40b0-bd9f-2e7223fe2e6d\" xlink:type=\"simple\"><g id=\"elem_E7\"><rect fill=\"#FFFFFF\" height=\"48.2656\" id=\"E7\" rx=\"10\" ry=\"10\" style=\"stroke:#181818;stroke-width:0.5;\" width=\"71\" x=\"466.22\" y=\"229\"/><text fill=\"#000000\" font-family=\"sans-serif\" font-size=\"12\" font-style=\"italic\" lengthAdjust=\"spacing\" textLength=\"69\" x=\"467.22\" y=\"245.1387\">«attribute»</text><text fill=\"#000000\" font-family=\"sans-serif\" font-size=\"14\" lengthAdjust=\"spacing\" textLength=\"7\" x=\"494.22\" y=\"260.9639\">y</text><line style=\"stroke:#181818;stroke-width:0.5;\" x1=\"467.22\" x2=\"536.22\" y1=\"269.2656\" y2=\"269.2656\"/></g></a><!--MD5=[b9389687b975829384b498ac4b7476b2]\n",
       "class E8--><a href=\"psysml:179fcb88-b86f-4c8c-8d3f-0f88ad709e86\" target=\"_top\" title=\"psysml:179fcb88-b86f-4c8c-8d3f-0f88ad709e86\" xlink:actuate=\"onRequest\" xlink:href=\"psysml:179fcb88-b86f-4c8c-8d3f-0f88ad709e86\" xlink:show=\"new\" xlink:title=\"psysml:179fcb88-b86f-4c8c-8d3f-0f88ad709e86\" xlink:type=\"simple\"><g id=\"elem_E8\"><rect fill=\"#FFFFFF\" height=\"48.2656\" id=\"E8\" rx=\"10\" ry=\"10\" style=\"stroke:#181818;stroke-width:0.5;\" width=\"71\" x=\"217.72\" y=\"264\"/><text fill=\"#000000\" font-family=\"sans-serif\" font-size=\"12\" font-style=\"italic\" lengthAdjust=\"spacing\" textLength=\"69\" x=\"218.72\" y=\"280.1387\">«attribute»</text><text fill=\"#000000\" font-family=\"sans-serif\" font-size=\"14\" lengthAdjust=\"spacing\" textLength=\"8\" x=\"245.22\" y=\"295.9639\">z</text><line style=\"stroke:#181818;stroke-width:0.5;\" x1=\"218.72\" x2=\"287.72\" y1=\"304.2656\" y2=\"304.2656\"/></g></a><a href=\"psysml:174d7b64-e31a-4a54-99c4-d88bb0afa8af\" target=\"_top\" title=\"psysml:174d7b64-e31a-4a54-99c4-d88bb0afa8af\" xlink:actuate=\"onRequest\" xlink:href=\"psysml:174d7b64-e31a-4a54-99c4-d88bb0afa8af\" xlink:show=\"new\" xlink:title=\"psysml:174d7b64-e31a-4a54-99c4-d88bb0afa8af\" xlink:type=\"simple\"><polygon fill=\"#FFFFFF\" points=\"185.72,108.5,306.72,108.5,313.72,130.7969,320.72,130.7969,320.72,161.0938,185.72,161.0938,185.72,108.5\" style=\"stroke:#181818;stroke-width:0.5;\"/><line style=\"stroke:#181818;stroke-width:0.5;\" x1=\"185.72\" x2=\"313.72\" y1=\"130.7969\" y2=\"130.7969\"/><text fill=\"#000000\" font-family=\"sans-serif\" font-size=\"14\" lengthAdjust=\"spacing\" textLength=\"115\" x=\"189.72\" y=\"123.4951\">Application Layer</text></a><a href=\"psysml:6cc47e98-b8e7-4ff0-90aa-a6e12ea2ee54\" target=\"_top\" title=\"psysml:6cc47e98-b8e7-4ff0-90aa-a6e12ea2ee54\" xlink:actuate=\"onRequest\" xlink:href=\"psysml:6cc47e98-b8e7-4ff0-90aa-a6e12ea2ee54\" xlink:show=\"new\" xlink:title=\"psysml:6cc47e98-b8e7-4ff0-90aa-a6e12ea2ee54\" xlink:type=\"simple\"><polygon fill=\"#FFFFFF\" points=\"446.72,108.5,542.72,108.5,549.72,130.7969,556.72,130.7969,556.72,161.0938,446.72,161.0938,446.72,108.5\" style=\"stroke:#181818;stroke-width:0.5;\"/><line style=\"stroke:#181818;stroke-width:0.5;\" x1=\"446.72\" x2=\"549.72\" y1=\"130.7969\" y2=\"130.7969\"/><text fill=\"#000000\" font-family=\"sans-serif\" font-size=\"14\" lengthAdjust=\"spacing\" textLength=\"90\" x=\"450.72\" y=\"123.4951\">Service Layer</text></a><a href=\"psysml:a41e95d1-6586-47c5-87a0-a52adaa3773e\" target=\"_top\" title=\"psysml:a41e95d1-6586-47c5-87a0-a52adaa3773e\" xlink:actuate=\"onRequest\" xlink:href=\"psysml:a41e95d1-6586-47c5-87a0-a52adaa3773e\" xlink:show=\"new\" xlink:title=\"psysml:a41e95d1-6586-47c5-87a0-a52adaa3773e\" xlink:type=\"simple\"><polygon fill=\"#FFFFFF\" points=\"682.72,108.5,760.72,108.5,767.72,130.7969,774.72,130.7969,774.72,161.0938,682.72,161.0938,682.72,108.5\" style=\"stroke:#181818;stroke-width:0.5;\"/><line style=\"stroke:#181818;stroke-width:0.5;\" x1=\"682.72\" x2=\"767.72\" y1=\"130.7969\" y2=\"130.7969\"/><text fill=\"#000000\" font-family=\"sans-serif\" font-size=\"14\" lengthAdjust=\"spacing\" textLength=\"72\" x=\"686.72\" y=\"123.4951\">Data Layer</text></a><!--MD5=[1f1cd8e6dd4c1b2ca2aaccc9b9bcea6e]\n",
       "link E1 to E2--><g id=\"link_E1_E2\"><a href=\"psysml:98ffbcea-2ad0-443f-b206-57004efde221\" target=\"_top\" title=\"psysml:98ffbcea-2ad0-443f-b206-57004efde221\" xlink:actuate=\"onRequest\" xlink:href=\"psysml:98ffbcea-2ad0-443f-b206-57004efde221\" xlink:show=\"new\" xlink:title=\"psysml:98ffbcea-2ad0-443f-b206-57004efde221\" xlink:type=\"simple\"><path d=\"M24.88,197 C28.275,197 83.4,197 138.5113,197 C145.4002,197 152.2888,197 159.0763,197 C159.9247,197 160.7715,197 161.6166,197 \" fill=\"none\" id=\"E1-to-E2\" style=\"stroke:#181818;stroke-width:1.0;stroke-dasharray:7.0,7.0;\"/><polygon fill=\"#181818\" points=\"161.6166,197,152.6166,193,156.6166,197,152.6166,201,161.6166,197\" style=\"stroke:#181818;stroke-width:1.0;\"/><text fill=\"#000000\" font-family=\"sans-serif\" font-size=\"13\" lengthAdjust=\"spacing\" textLength=\"65\" x=\"55.72\" y=\"193.0669\">«import»*</text></a></g><!--MD5=[af87c684e3b0d8be13c1a698a818ef1e]\n",
       "link E3 to E4--><g id=\"link_E3_E4\"><a href=\"psysml:94e1a3f7-50a9-4c8e-a4e8-5ce452ddfecf\" target=\"_top\" title=\"psysml:94e1a3f7-50a9-4c8e-a4e8-5ce452ddfecf\" xlink:actuate=\"onRequest\" xlink:href=\"psysml:94e1a3f7-50a9-4c8e-a4e8-5ce452ddfecf\" xlink:show=\"new\" xlink:title=\"psysml:94e1a3f7-50a9-4c8e-a4e8-5ce452ddfecf\" xlink:type=\"simple\"><path d=\"M320.93,135 C357.36,135 402.21,135 438,135 \" fill=\"none\" id=\"E3-to-E4\" style=\"stroke:#181818;stroke-width:1.0;stroke-dasharray:7.0,7.0;\"/><polygon fill=\"#181818\" points=\"446.42,135,438.42,132,438.42,138,446.42,135\" style=\"stroke:#181818;stroke-width:1.0;\"/><text fill=\"#000000\" font-family=\"sans-serif\" font-size=\"13\" lengthAdjust=\"spacing\" textLength=\"64\" x=\"351.72\" y=\"131.0669\">«depend»</text></a></g><!--MD5=[1b7591eae5389033d8d09a9d6721a717]\n",
       "link E4 to E5--><g id=\"link_E4_E5\"><a href=\"psysml:9da5c160-44e8-44ec-9936-ca4a4075f5f4\" target=\"_top\" title=\"psysml:9da5c160-44e8-44ec-9936-ca4a4075f5f4\" xlink:actuate=\"onRequest\" xlink:href=\"psysml:9da5c160-44e8-44ec-9936-ca4a4075f5f4\" xlink:show=\"new\" xlink:title=\"psysml:9da5c160-44e8-44ec-9936-ca4a4075f5f4\" xlink:type=\"simple\"><path d=\"M556.9,135 C592.53,135 638.96,135 674.41,135 \" fill=\"none\" id=\"E4-to-E5\" style=\"stroke:#181818;stroke-width:1.0;stroke-dasharray:7.0,7.0;\"/><polygon fill=\"#181818\" points=\"682.72,135,674.72,132,674.72,138,682.72,135\" style=\"stroke:#181818;stroke-width:1.0;\"/><text fill=\"#000000\" font-family=\"sans-serif\" font-size=\"13\" lengthAdjust=\"spacing\" textLength=\"64\" x=\"587.72\" y=\"131.0669\">«depend»</text></a></g><!--MD5=[c5e8897d989ce984f93528998a7150fe]\n",
       "link E8 to E6--><g id=\"link_E8_E6\"><a href=\"psysml:cc6cc763-fa59-42bd-a700-018e736c1371\" target=\"_top\" title=\"psysml:cc6cc763-fa59-42bd-a700-018e736c1371\" xlink:actuate=\"onRequest\" xlink:href=\"psysml:cc6cc763-fa59-42bd-a700-018e736c1371\" xlink:show=\"new\" xlink:title=\"psysml:cc6cc763-fa59-42bd-a700-018e736c1371\" xlink:type=\"simple\"><path d=\"M288.75,294.72 C333.09,303.36 410.02,318.34 458,327.68 \" fill=\"none\" id=\"E8-to-E6\" style=\"stroke:#181818;stroke-width:1.0;stroke-dasharray:7.0,7.0;\"/><polygon fill=\"#181818\" points=\"466.02,329.24,458.7416,324.765,457.5938,330.6542,466.02,329.24\" style=\"stroke:#181818;stroke-width:1.0;\"/><text fill=\"#000000\" font-family=\"sans-serif\" font-size=\"13\" lengthAdjust=\"spacing\" textLength=\"64\" x=\"351.72\" y=\"304.0669\">«depend»</text></a></g><!--MD5=[bfa3c8b0d15052fdf50ae9310b491027]\n",
       "link E8 to E7--><g id=\"link_E8_E7\"><a href=\"psysml:cc6cc763-fa59-42bd-a700-018e736c1371\" target=\"_top\" title=\"psysml:cc6cc763-fa59-42bd-a700-018e736c1371\" xlink:actuate=\"onRequest\" xlink:href=\"psysml:cc6cc763-fa59-42bd-a700-018e736c1371\" xlink:show=\"new\" xlink:title=\"psysml:cc6cc763-fa59-42bd-a700-018e736c1371\" xlink:type=\"simple\"><path d=\"M288.75,283.1 C333.09,276.8 410.02,265.88 458,259.07 \" fill=\"none\" id=\"E8-to-E7\" style=\"stroke:#181818;stroke-width:1.0;stroke-dasharray:7.0,7.0;\"/><polygon fill=\"#181818\" points=\"466.02,257.93,457.6766,256.0894,458.5236,262.0293,466.02,257.93\" style=\"stroke:#181818;stroke-width:1.0;\"/><text fill=\"#000000\" font-family=\"sans-serif\" font-size=\"13\" lengthAdjust=\"spacing\" textLength=\"64\" x=\"351.72\" y=\"262.0669\">«depend»</text></a></g><!--MD5=[e78ba9c5908f1f7693e86b08b4a0f83b]\n",
       "@startuml\r\n",
       "skin sysmlbw\r\n",
       "skinparam monochrome true\r\n",
       "skinparam wrapWidth 300\r\n",
       "hide circle\r\n",
       "left to right direction\r\n",
       "\r\n",
       "package \"DependencyTest\" as E1  [[psysml:7dee102c-3f89-42b9-9919-3eaa1d7109e5 ]]  {\r\n",
       "package \"System\" as E2  [[psysml:da04b59d-3286-4d3f-bbc3-7e7bb49d7c5d ]]  {\r\n",
       "package \"Application Layer\" as E3  [[psysml:174d7b64-e31a-4a54-99c4-d88bb0afa8af ]]  {\r\n",
       "}\r\n",
       "package \"Service Layer\" as E4  [[psysml:6cc47e98-b8e7-4ff0-90aa-a6e12ea2ee54 ]]  {\r\n",
       "}\r\n",
       "package \"Data Layer\" as E5  [[psysml:a41e95d1-6586-47c5-87a0-a52adaa3773e ]]  {\r\n",
       "}\r\n",
       "}\r\n",
       "comp usage \"x  \" as E6  <<(T,blue) attribute>> [[psysml:fa1eb9e1-3558-4ac6-ae6a-7c42660b9dca ]] {\r\n",
       "}\r\n",
       "comp usage \"y  \" as E7  <<(T,blue) attribute>> [[psysml:a1db1b5d-0100-40b0-bd9f-2e7223fe2e6d ]] {\r\n",
       "}\r\n",
       "comp usage \"z  \" as E8  <<(T,blue) attribute>> [[psysml:179fcb88-b86f-4c8c-8d3f-0f88ad709e86 ]] {\r\n",
       "}\r\n",
       "}\r\n",
       "E1 ..> E2 [[psysml:98ffbcea-2ad0-443f-b206-57004efde221 ]] : <<import>>*\r\n",
       "E3 ..>> E4 [[psysml:94e1a3f7-50a9-4c8e-a4e8-5ce452ddfecf ]] : <<depend>>\r\n",
       "E4 ..>> E5 [[psysml:9da5c160-44e8-44ec-9936-ca4a4075f5f4 ]] : <<depend>>\r\n",
       "E8 ..>> E6 [[psysml:cc6cc763-fa59-42bd-a700-018e736c1371 ]] : <<depend>>\r\n",
       "E8 ..>> E7 [[psysml:cc6cc763-fa59-42bd-a700-018e736c1371 ]] : <<depend>>\r\n",
       "@enduml\r\n",
       "\n",
       "PlantUML version 1.2022.7(Mon Aug 22 17:01:30 UTC 2022)\n",
       "(EPL source distribution)\n",
       "Java Runtime: OpenJDK Runtime Environment\n",
       "JVM: OpenJDK 64-Bit Server VM\n",
       "Default Encoding: UTF-8\n",
       "Language: en\n",
       "Country: null\n",
       "--></g></svg>"
      ]
     },
     "execution_count": 17,
     "metadata": {},
     "output_type": "execute_result"
    }
   ],
   "source": [
    "%viz --style=\"LR\" --view=\"Tree\" \"DependencyTest\""
   ]
  },
  {
   "cell_type": "code",
   "execution_count": 18,
   "id": "70953609",
   "metadata": {
    "execution": {
     "iopub.execute_input": "2024-12-16T03:27:30.922929Z",
     "iopub.status.busy": "2024-12-16T03:27:30.922716Z",
     "iopub.status.idle": "2024-12-16T03:27:30.927878Z",
     "shell.execute_reply": "2024-12-16T03:27:30.927679Z"
    }
   },
   "outputs": [
    {
     "data": {
      "image/svg+xml": [
       "<?xml version=\"1.0\" encoding=\"UTF-8\" standalone=\"no\"?><svg xmlns=\"http://www.w3.org/2000/svg\" xmlns:xlink=\"http://www.w3.org/1999/xlink\" contentStyleType=\"text/css\" height=\"10px\" preserveAspectRatio=\"none\" style=\"width:10px;height:10px;background:#FFFFFF;\" version=\"1.1\" viewBox=\"0 0 10 10\" width=\"10px\" zoomAndPan=\"magnify\"><defs/><g><!--MD5=[fb420fbd7a91d32138f4344b927a323c]\n",
       "@startuml\r\n",
       "skin sysmlbw\r\n",
       "skinparam monochrome true\r\n",
       "skinparam wrapWidth 300\r\n",
       "hide circle\r\n",
       "left to right direction\r\n",
       "\r\n",
       "@enduml\r\n",
       "\n",
       "PlantUML version 1.2022.7(Mon Aug 22 17:01:30 UTC 2022)\n",
       "(EPL source distribution)\n",
       "Java Runtime: OpenJDK Runtime Environment\n",
       "JVM: OpenJDK 64-Bit Server VM\n",
       "Default Encoding: UTF-8\n",
       "Language: en\n",
       "Country: null\n",
       "--></g></svg>"
      ]
     },
     "execution_count": 18,
     "metadata": {},
     "output_type": "execute_result"
    }
   ],
   "source": [
    "%viz --style=\"LR\" --view=\"State\" \"DependencyTest\""
   ]
  },
  {
   "cell_type": "code",
   "execution_count": 19,
   "id": "7941da18",
   "metadata": {
    "execution": {
     "iopub.execute_input": "2024-12-16T03:27:30.983126Z",
     "iopub.status.busy": "2024-12-16T03:27:30.982892Z",
     "iopub.status.idle": "2024-12-16T03:27:31.007829Z",
     "shell.execute_reply": "2024-12-16T03:27:31.007644Z"
    }
   },
   "outputs": [
    {
     "data": {
      "image/svg+xml": [
       "<?xml version=\"1.0\" encoding=\"UTF-8\" standalone=\"no\"?><svg xmlns=\"http://www.w3.org/2000/svg\" xmlns:xlink=\"http://www.w3.org/1999/xlink\" contentStyleType=\"text/css\" height=\"391px\" preserveAspectRatio=\"none\" style=\"width:745px;height:391px;background:#FFFFFF;\" version=\"1.1\" viewBox=\"0 0 745 391\" width=\"745px\" zoomAndPan=\"magnify\"><defs/><g><!--MD5=[fbc87193dbaf4d95561dea2c320d4a47]\n",
       "cluster E1--><g id=\"cluster_E1\"><a href=\"psysml:7dee102c-3f89-42b9-9919-3eaa1d7109e5\" target=\"_top\" title=\"psysml:7dee102c-3f89-42b9-9919-3eaa1d7109e5\" xlink:actuate=\"onRequest\" xlink:href=\"psysml:7dee102c-3f89-42b9-9919-3eaa1d7109e5\" xlink:show=\"new\" xlink:title=\"psysml:7dee102c-3f89-42b9-9919-3eaa1d7109e5\" xlink:type=\"simple\"><polygon fill=\"none\" points=\"16,6,148.125,6,155.125,28.2969,728.72,28.2969,728.72,384,16,384,16,6\" style=\"stroke:#000000;stroke-width:1.5;\"/><line style=\"stroke:#000000;stroke-width:1.5;\" x1=\"16\" x2=\"155.125\" y1=\"28.2969\" y2=\"28.2969\"/><text fill=\"#000000\" font-family=\"sans-serif\" font-size=\"14\" font-weight=\"bold\" lengthAdjust=\"spacing\" textLength=\"126.125\" x=\"20\" y=\"20.9951\">DependencyTest</text></a></g><!--MD5=[e4f7fae6ed58524ba242bb0b0d3be6b7]\n",
       "cluster E2--><g id=\"cluster_E2\"><a href=\"psysml:da04b59d-3286-4d3f-bbc3-7e7bb49d7c5d\" target=\"_top\" title=\"psysml:da04b59d-3286-4d3f-bbc3-7e7bb49d7c5d\" xlink:actuate=\"onRequest\" xlink:href=\"psysml:da04b59d-3286-4d3f-bbc3-7e7bb49d7c5d\" xlink:show=\"new\" xlink:title=\"psysml:da04b59d-3286-4d3f-bbc3-7e7bb49d7c5d\" xlink:type=\"simple\"><polygon fill=\"none\" points=\"139.72,65,199.345,65,206.345,87.2969,688.72,87.2969,688.72,205,139.72,205,139.72,65\" style=\"stroke:#000000;stroke-width:1.5;\"/><line style=\"stroke:#000000;stroke-width:1.5;\" x1=\"139.72\" x2=\"206.345\" y1=\"87.2969\" y2=\"87.2969\"/><text fill=\"#000000\" font-family=\"sans-serif\" font-size=\"14\" font-weight=\"bold\" lengthAdjust=\"spacing\" textLength=\"53.625\" x=\"143.72\" y=\"79.9951\">System</text></a></g><!--MD5=[60a26617385b1d2d0262a64233df1f8d]\n",
       "class E6--><a href=\"psysml:fa1eb9e1-3558-4ac6-ae6a-7c42660b9dca\" target=\"_top\" title=\"psysml:fa1eb9e1-3558-4ac6-ae6a-7c42660b9dca\" xlink:actuate=\"onRequest\" xlink:href=\"psysml:fa1eb9e1-3558-4ac6-ae6a-7c42660b9dca\" xlink:show=\"new\" xlink:title=\"psysml:fa1eb9e1-3558-4ac6-ae6a-7c42660b9dca\" xlink:type=\"simple\"><g id=\"elem_E6\"><rect fill=\"#FFFFFF\" height=\"48.2656\" id=\"E6\" rx=\"10\" ry=\"10\" style=\"stroke:#181818;stroke-width:0.5;\" width=\"71\" x=\"400.22\" y=\"312\"/><text fill=\"#000000\" font-family=\"sans-serif\" font-size=\"12\" font-style=\"italic\" lengthAdjust=\"spacing\" textLength=\"69\" x=\"401.22\" y=\"328.1387\">«attribute»</text><text fill=\"#000000\" font-family=\"sans-serif\" font-size=\"14\" lengthAdjust=\"spacing\" textLength=\"7\" x=\"428.22\" y=\"343.9639\">x</text><line style=\"stroke:#181818;stroke-width:0.5;\" x1=\"401.22\" x2=\"470.22\" y1=\"352.2656\" y2=\"352.2656\"/></g></a><!--MD5=[2156ba9850f5573cc1fc38a6a4b2f02b]\n",
       "class E7--><a href=\"psysml:a1db1b5d-0100-40b0-bd9f-2e7223fe2e6d\" target=\"_top\" title=\"psysml:a1db1b5d-0100-40b0-bd9f-2e7223fe2e6d\" xlink:actuate=\"onRequest\" xlink:href=\"psysml:a1db1b5d-0100-40b0-bd9f-2e7223fe2e6d\" xlink:show=\"new\" xlink:title=\"psysml:a1db1b5d-0100-40b0-bd9f-2e7223fe2e6d\" xlink:type=\"simple\"><g id=\"elem_E7\"><rect fill=\"#FFFFFF\" height=\"48.2656\" id=\"E7\" rx=\"10\" ry=\"10\" style=\"stroke:#181818;stroke-width:0.5;\" width=\"71\" x=\"400.22\" y=\"229\"/><text fill=\"#000000\" font-family=\"sans-serif\" font-size=\"12\" font-style=\"italic\" lengthAdjust=\"spacing\" textLength=\"69\" x=\"401.22\" y=\"245.1387\">«attribute»</text><text fill=\"#000000\" font-family=\"sans-serif\" font-size=\"14\" lengthAdjust=\"spacing\" textLength=\"7\" x=\"428.22\" y=\"260.9639\">y</text><line style=\"stroke:#181818;stroke-width:0.5;\" x1=\"401.22\" x2=\"470.22\" y1=\"269.2656\" y2=\"269.2656\"/></g></a><!--MD5=[b9389687b975829384b498ac4b7476b2]\n",
       "class E8--><a href=\"psysml:179fcb88-b86f-4c8c-8d3f-0f88ad709e86\" target=\"_top\" title=\"psysml:179fcb88-b86f-4c8c-8d3f-0f88ad709e86\" xlink:actuate=\"onRequest\" xlink:href=\"psysml:179fcb88-b86f-4c8c-8d3f-0f88ad709e86\" xlink:show=\"new\" xlink:title=\"psysml:179fcb88-b86f-4c8c-8d3f-0f88ad709e86\" xlink:type=\"simple\"><g id=\"elem_E8\"><rect fill=\"#FFFFFF\" height=\"48.2656\" id=\"E8\" rx=\"10\" ry=\"10\" style=\"stroke:#181818;stroke-width:0.5;\" width=\"71\" x=\"195.72\" y=\"264\"/><text fill=\"#000000\" font-family=\"sans-serif\" font-size=\"12\" font-style=\"italic\" lengthAdjust=\"spacing\" textLength=\"69\" x=\"196.72\" y=\"280.1387\">«attribute»</text><text fill=\"#000000\" font-family=\"sans-serif\" font-size=\"14\" lengthAdjust=\"spacing\" textLength=\"8\" x=\"223.22\" y=\"295.9639\">z</text><line style=\"stroke:#181818;stroke-width:0.5;\" x1=\"196.72\" x2=\"265.72\" y1=\"304.2656\" y2=\"304.2656\"/></g></a><a href=\"psysml:174d7b64-e31a-4a54-99c4-d88bb0afa8af\" target=\"_top\" title=\"psysml:174d7b64-e31a-4a54-99c4-d88bb0afa8af\" xlink:actuate=\"onRequest\" xlink:href=\"psysml:174d7b64-e31a-4a54-99c4-d88bb0afa8af\" xlink:show=\"new\" xlink:title=\"psysml:174d7b64-e31a-4a54-99c4-d88bb0afa8af\" xlink:type=\"simple\"><polygon fill=\"#FFFFFF\" points=\"163.72,108.5,284.72,108.5,291.72,130.7969,298.72,130.7969,298.72,161.0938,163.72,161.0938,163.72,108.5\" style=\"stroke:#181818;stroke-width:0.5;\"/><line style=\"stroke:#181818;stroke-width:0.5;\" x1=\"163.72\" x2=\"291.72\" y1=\"130.7969\" y2=\"130.7969\"/><text fill=\"#000000\" font-family=\"sans-serif\" font-size=\"14\" lengthAdjust=\"spacing\" textLength=\"115\" x=\"167.72\" y=\"123.4951\">Application Layer</text></a><a href=\"psysml:6cc47e98-b8e7-4ff0-90aa-a6e12ea2ee54\" target=\"_top\" title=\"psysml:6cc47e98-b8e7-4ff0-90aa-a6e12ea2ee54\" xlink:actuate=\"onRequest\" xlink:href=\"psysml:6cc47e98-b8e7-4ff0-90aa-a6e12ea2ee54\" xlink:show=\"new\" xlink:title=\"psysml:6cc47e98-b8e7-4ff0-90aa-a6e12ea2ee54\" xlink:type=\"simple\"><polygon fill=\"#FFFFFF\" points=\"380.72,108.5,476.72,108.5,483.72,130.7969,490.72,130.7969,490.72,161.0938,380.72,161.0938,380.72,108.5\" style=\"stroke:#181818;stroke-width:0.5;\"/><line style=\"stroke:#181818;stroke-width:0.5;\" x1=\"380.72\" x2=\"483.72\" y1=\"130.7969\" y2=\"130.7969\"/><text fill=\"#000000\" font-family=\"sans-serif\" font-size=\"14\" lengthAdjust=\"spacing\" textLength=\"90\" x=\"384.72\" y=\"123.4951\">Service Layer</text></a><a href=\"psysml:a41e95d1-6586-47c5-87a0-a52adaa3773e\" target=\"_top\" title=\"psysml:a41e95d1-6586-47c5-87a0-a52adaa3773e\" xlink:actuate=\"onRequest\" xlink:href=\"psysml:a41e95d1-6586-47c5-87a0-a52adaa3773e\" xlink:show=\"new\" xlink:title=\"psysml:a41e95d1-6586-47c5-87a0-a52adaa3773e\" xlink:type=\"simple\"><polygon fill=\"#FFFFFF\" points=\"572.72,108.5,650.72,108.5,657.72,130.7969,664.72,130.7969,664.72,161.0938,572.72,161.0938,572.72,108.5\" style=\"stroke:#181818;stroke-width:0.5;\"/><line style=\"stroke:#181818;stroke-width:0.5;\" x1=\"572.72\" x2=\"657.72\" y1=\"130.7969\" y2=\"130.7969\"/><text fill=\"#000000\" font-family=\"sans-serif\" font-size=\"14\" lengthAdjust=\"spacing\" textLength=\"72\" x=\"576.72\" y=\"123.4951\">Data Layer</text></a><!--MD5=[1f1cd8e6dd4c1b2ca2aaccc9b9bcea6e]\n",
       "link E1 to E2--><g id=\"link_E1_E2\"><a href=\"psysml:98ffbcea-2ad0-443f-b206-57004efde221\" target=\"_top\" title=\"psysml:98ffbcea-2ad0-443f-b206-57004efde221\" xlink:actuate=\"onRequest\" xlink:href=\"psysml:98ffbcea-2ad0-443f-b206-57004efde221\" xlink:show=\"new\" xlink:title=\"psysml:98ffbcea-2ad0-443f-b206-57004efde221\" xlink:type=\"simple\"><path d=\"M24.87,197 C27.93,197 77.7225,197 127.505,197 C130.6164,197 133.7278,197 136.8277,197 C137.6027,197 138.3769,197 139.1503,197 \" fill=\"none\" id=\"E1-to-E2\" style=\"stroke:#181818;stroke-width:1.0;stroke-dasharray:7.0,7.0;\"/><polygon fill=\"#181818\" points=\"139.1503,197,130.1503,193,134.1503,197,130.1503,201,139.1503,197\" style=\"stroke:#181818;stroke-width:1.0;\"/><text fill=\"#000000\" font-family=\"sans-serif\" font-size=\"13\" lengthAdjust=\"spacing\" textLength=\"65\" x=\"33.72\" y=\"193.0669\">«import»*</text></a></g><!--MD5=[af87c684e3b0d8be13c1a698a818ef1e]\n",
       "link E3 to E4--><g id=\"link_E3_E4\"><a href=\"psysml:94e1a3f7-50a9-4c8e-a4e8-5ce452ddfecf\" target=\"_top\" title=\"psysml:94e1a3f7-50a9-4c8e-a4e8-5ce452ddfecf\" xlink:actuate=\"onRequest\" xlink:href=\"psysml:94e1a3f7-50a9-4c8e-a4e8-5ce452ddfecf\" xlink:show=\"new\" xlink:title=\"psysml:94e1a3f7-50a9-4c8e-a4e8-5ce452ddfecf\" xlink:type=\"simple\"><path d=\"M298.81,135 C322.52,135 349.13,135 372.47,135 \" fill=\"none\" id=\"E3-to-E4\" style=\"stroke:#181818;stroke-width:1.0;stroke-dasharray:7.0,7.0;\"/><polygon fill=\"#181818\" points=\"380.58,135,372.58,132,372.58,138,380.58,135\" style=\"stroke:#181818;stroke-width:1.0;\"/><text fill=\"#000000\" font-family=\"sans-serif\" font-size=\"13\" lengthAdjust=\"spacing\" textLength=\"64\" x=\"307.72\" y=\"131.0669\">«depend»</text></a></g><!--MD5=[1b7591eae5389033d8d09a9d6721a717]\n",
       "link E4 to E5--><g id=\"link_E4_E5\"><a href=\"psysml:9da5c160-44e8-44ec-9936-ca4a4075f5f4\" target=\"_top\" title=\"psysml:9da5c160-44e8-44ec-9936-ca4a4075f5f4\" xlink:actuate=\"onRequest\" xlink:href=\"psysml:9da5c160-44e8-44ec-9936-ca4a4075f5f4\" xlink:show=\"new\" xlink:title=\"psysml:9da5c160-44e8-44ec-9936-ca4a4075f5f4\" xlink:type=\"simple\"><path d=\"M491.03,135 C514.31,135 541.43,135 564.58,135 \" fill=\"none\" id=\"E4-to-E5\" style=\"stroke:#181818;stroke-width:1.0;stroke-dasharray:7.0,7.0;\"/><polygon fill=\"#181818\" points=\"572.6,135,564.6,132,564.6,138,572.6,135\" style=\"stroke:#181818;stroke-width:1.0;\"/><text fill=\"#000000\" font-family=\"sans-serif\" font-size=\"13\" lengthAdjust=\"spacing\" textLength=\"64\" x=\"499.72\" y=\"131.0669\">«depend»</text></a></g><!--MD5=[c5e8897d989ce984f93528998a7150fe]\n",
       "link E8 to E6--><g id=\"link_E8_E6\"><a href=\"psysml:cc6cc763-fa59-42bd-a700-018e736c1371\" target=\"_top\" title=\"psysml:cc6cc763-fa59-42bd-a700-018e736c1371\" xlink:actuate=\"onRequest\" xlink:href=\"psysml:cc6cc763-fa59-42bd-a700-018e736c1371\" xlink:show=\"new\" xlink:title=\"psysml:cc6cc763-fa59-42bd-a700-018e736c1371\" xlink:type=\"simple\"><path d=\"M267.03,296.25 C301.62,304.45 354.73,317.04 391.88,325.85 \" fill=\"none\" id=\"E8-to-E6\" style=\"stroke:#181818;stroke-width:1.0;stroke-dasharray:7.0,7.0;\"/><polygon fill=\"#181818\" points=\"400.03,327.78,392.9444,323.0057,391.5522,328.8419,400.03,327.78\" style=\"stroke:#181818;stroke-width:1.0;\"/><text fill=\"#000000\" font-family=\"sans-serif\" font-size=\"13\" lengthAdjust=\"spacing\" textLength=\"64\" x=\"307.72\" y=\"303.0669\">«depend»</text></a></g><!--MD5=[bfa3c8b0d15052fdf50ae9310b491027]\n",
       "link E8 to E7--><g id=\"link_E8_E7\"><a href=\"psysml:cc6cc763-fa59-42bd-a700-018e736c1371\" target=\"_top\" title=\"psysml:cc6cc763-fa59-42bd-a700-018e736c1371\" xlink:actuate=\"onRequest\" xlink:href=\"psysml:cc6cc763-fa59-42bd-a700-018e736c1371\" xlink:show=\"new\" xlink:title=\"psysml:cc6cc763-fa59-42bd-a700-018e736c1371\" xlink:type=\"simple\"><path d=\"M267.03,281.98 C301.62,276.01 354.73,266.83 391.88,260.4 \" fill=\"none\" id=\"E8-to-E7\" style=\"stroke:#181818;stroke-width:1.0;stroke-dasharray:7.0,7.0;\"/><polygon fill=\"#181818\" points=\"400.03,259,391.6343,257.4151,392.6623,263.3264,400.03,259\" style=\"stroke:#181818;stroke-width:1.0;\"/><text fill=\"#000000\" font-family=\"sans-serif\" font-size=\"13\" lengthAdjust=\"spacing\" textLength=\"64\" x=\"307.72\" y=\"261.0669\">«depend»</text></a></g><!--MD5=[44f92ca4da1881fe68fd6a4f67f48689]\n",
       "@startuml\r\n",
       "skin sysmlbw\r\n",
       "skinparam monochrome true\r\n",
       "skinparam wrapWidth 300\r\n",
       "hide circle\r\n",
       "left to right direction\r\n",
       "skinparam ranksep 10\r\n",
       "skinparam rectangle {\r\n",
       " backgroundColor<<block>> LightGreen\r\n",
       "}\r\n",
       "\r\n",
       "package \"DependencyTest\" as E1  [[psysml:7dee102c-3f89-42b9-9919-3eaa1d7109e5 ]]  {\r\n",
       "package \"System\" as E2  [[psysml:da04b59d-3286-4d3f-bbc3-7e7bb49d7c5d ]]  {\r\n",
       "package \"Application Layer\" as E3  [[psysml:174d7b64-e31a-4a54-99c4-d88bb0afa8af ]]  {\r\n",
       "}\r\n",
       "package \"Service Layer\" as E4  [[psysml:6cc47e98-b8e7-4ff0-90aa-a6e12ea2ee54 ]]  {\r\n",
       "}\r\n",
       "package \"Data Layer\" as E5  [[psysml:a41e95d1-6586-47c5-87a0-a52adaa3773e ]]  {\r\n",
       "}\r\n",
       "}\r\n",
       "comp usage \"x  \" as E6  <<(T,blue) attribute>> [[psysml:fa1eb9e1-3558-4ac6-ae6a-7c42660b9dca ]] {\r\n",
       "}\r\n",
       "comp usage \"y  \" as E7  <<(T,blue) attribute>> [[psysml:a1db1b5d-0100-40b0-bd9f-2e7223fe2e6d ]] {\r\n",
       "}\r\n",
       "comp usage \"z  \" as E8  <<(T,blue) attribute>> [[psysml:179fcb88-b86f-4c8c-8d3f-0f88ad709e86 ]] {\r\n",
       "}\r\n",
       "}\r\n",
       "E1 ..> E2 [[psysml:98ffbcea-2ad0-443f-b206-57004efde221 ]] : <<import>>*\r\n",
       "E3 ..>> E4 [[psysml:94e1a3f7-50a9-4c8e-a4e8-5ce452ddfecf ]] : <<depend>>\r\n",
       "E4 ..>> E5 [[psysml:9da5c160-44e8-44ec-9936-ca4a4075f5f4 ]] : <<depend>>\r\n",
       "E8 ..>> E6 [[psysml:cc6cc763-fa59-42bd-a700-018e736c1371 ]] : <<depend>>\r\n",
       "E8 ..>> E7 [[psysml:cc6cc763-fa59-42bd-a700-018e736c1371 ]] : <<depend>>\r\n",
       "@enduml\r\n",
       "\n",
       "PlantUML version 1.2022.7(Mon Aug 22 17:01:30 UTC 2022)\n",
       "(EPL source distribution)\n",
       "Java Runtime: OpenJDK Runtime Environment\n",
       "JVM: OpenJDK 64-Bit Server VM\n",
       "Default Encoding: UTF-8\n",
       "Language: en\n",
       "Country: null\n",
       "--></g></svg>"
      ]
     },
     "execution_count": 19,
     "metadata": {},
     "output_type": "execute_result"
    }
   ],
   "source": [
    "%viz --style=\"LR\" --view=\"Interconnection\" \"DependencyTest\""
   ]
  },
  {
   "cell_type": "code",
   "execution_count": 20,
   "id": "9365af75",
   "metadata": {
    "execution": {
     "iopub.execute_input": "2024-12-16T03:27:31.059098Z",
     "iopub.status.busy": "2024-12-16T03:27:31.058877Z",
     "iopub.status.idle": "2024-12-16T03:27:31.064749Z",
     "shell.execute_reply": "2024-12-16T03:27:31.064883Z"
    }
   },
   "outputs": [
    {
     "data": {
      "image/svg+xml": [
       "<?xml version=\"1.0\" encoding=\"UTF-8\" standalone=\"no\"?><svg xmlns=\"http://www.w3.org/2000/svg\" xmlns:xlink=\"http://www.w3.org/1999/xlink\" contentStyleType=\"text/css\" height=\"10px\" preserveAspectRatio=\"none\" style=\"width:10px;height:10px;background:#FFFFFF;\" version=\"1.1\" viewBox=\"0 0 10 10\" width=\"10px\" zoomAndPan=\"magnify\"><defs/><g><!--MD5=[a45826aa31d3f335355a0e6fe4d8f867]\n",
       "@startuml\r\n",
       "skin sysmlbw\r\n",
       "skinparam monochrome true\r\n",
       "skinparam wrapWidth 300\r\n",
       "hide circle\r\n",
       "left to right direction\r\n",
       "skinparam ranksep 8\r\n",
       "\r\n",
       "@enduml\r\n",
       "\n",
       "PlantUML version 1.2022.7(Mon Aug 22 17:01:30 UTC 2022)\n",
       "(EPL source distribution)\n",
       "Java Runtime: OpenJDK Runtime Environment\n",
       "JVM: OpenJDK 64-Bit Server VM\n",
       "Default Encoding: UTF-8\n",
       "Language: en\n",
       "Country: null\n",
       "--></g></svg>"
      ]
     },
     "execution_count": 20,
     "metadata": {},
     "output_type": "execute_result"
    }
   ],
   "source": [
    "%viz --style=\"LR\" --view=\"Action\" \"DependencyTest\""
   ]
  },
  {
   "cell_type": "code",
   "execution_count": 21,
   "id": "a14fa466",
   "metadata": {
    "execution": {
     "iopub.execute_input": "2024-12-16T03:27:31.117953Z",
     "iopub.status.busy": "2024-12-16T03:27:31.117744Z",
     "iopub.status.idle": "2024-12-16T03:27:31.123923Z",
     "shell.execute_reply": "2024-12-16T03:27:31.123701Z"
    }
   },
   "outputs": [
    {
     "data": {
      "image/svg+xml": [
       "<?xml version=\"1.0\" encoding=\"UTF-8\" standalone=\"no\"?><svg xmlns=\"http://www.w3.org/2000/svg\" xmlns:xlink=\"http://www.w3.org/1999/xlink\" contentStyleType=\"text/css\" height=\"10px\" preserveAspectRatio=\"none\" style=\"width:10px;height:10px;background:#FFFFFF;\" version=\"1.1\" viewBox=\"0 0 10 10\" width=\"10px\" zoomAndPan=\"magnify\"><defs/><g><!--MD5=[3d7abb46b795db4c9d99c7acf425de78]\n",
       "@startuml\r\n",
       "skin sysmlbw\r\n",
       "skinparam monochrome true\r\n",
       "skinparam wrapWidth 300\r\n",
       "hide circle\r\n",
       "left to right direction\r\n",
       "skinparam roundcorner 20\r\n",
       "skinparam BoxPadding 20\r\n",
       "skinparam SequenceBoxBackgroundColor #white\r\n",
       "skinparam style strictuml\r\n",
       "skinparam maxMessageSize 100\r\n",
       "\r\n",
       "@enduml\r\n",
       "\n",
       "PlantUML version 1.2022.7(Mon Aug 22 17:01:30 UTC 2022)\n",
       "(EPL source distribution)\n",
       "Java Runtime: OpenJDK Runtime Environment\n",
       "JVM: OpenJDK 64-Bit Server VM\n",
       "Default Encoding: UTF-8\n",
       "Language: en\n",
       "Country: null\n",
       "--></g></svg>"
      ]
     },
     "execution_count": 21,
     "metadata": {},
     "output_type": "execute_result"
    }
   ],
   "source": [
    "%viz --style=\"LR\" --view=\"Sequence\" \"DependencyTest\""
   ]
  },
  {
   "cell_type": "code",
   "execution_count": 22,
   "id": "3dcf2c7b",
   "metadata": {
    "execution": {
     "iopub.execute_input": "2024-12-16T03:27:31.179787Z",
     "iopub.status.busy": "2024-12-16T03:27:31.179566Z",
     "iopub.status.idle": "2024-12-16T03:27:31.201750Z",
     "shell.execute_reply": "2024-12-16T03:27:31.200983Z"
    }
   },
   "outputs": [
    {
     "data": {
      "image/svg+xml": [
       "<?xml version=\"1.0\" encoding=\"UTF-8\" standalone=\"no\"?><svg xmlns=\"http://www.w3.org/2000/svg\" xmlns:xlink=\"http://www.w3.org/1999/xlink\" contentStyleType=\"text/css\" height=\"391px\" preserveAspectRatio=\"none\" style=\"width:855px;height:391px;background:#FFFFFF;\" version=\"1.1\" viewBox=\"0 0 855 391\" width=\"855px\" zoomAndPan=\"magnify\"><defs/><g><!--MD5=[fbc87193dbaf4d95561dea2c320d4a47]\n",
       "cluster E1--><g id=\"cluster_E1\"><a href=\"psysml:7dee102c-3f89-42b9-9919-3eaa1d7109e5\" target=\"_top\" title=\"psysml:7dee102c-3f89-42b9-9919-3eaa1d7109e5\" xlink:actuate=\"onRequest\" xlink:href=\"psysml:7dee102c-3f89-42b9-9919-3eaa1d7109e5\" xlink:show=\"new\" xlink:title=\"psysml:7dee102c-3f89-42b9-9919-3eaa1d7109e5\" xlink:type=\"simple\"><polygon fill=\"none\" points=\"16,6,148.125,6,155.125,28.2969,838.72,28.2969,838.72,384,16,384,16,6\" style=\"stroke:#000000;stroke-width:1.5;\"/><line style=\"stroke:#000000;stroke-width:1.5;\" x1=\"16\" x2=\"155.125\" y1=\"28.2969\" y2=\"28.2969\"/><text fill=\"#000000\" font-family=\"sans-serif\" font-size=\"14\" font-weight=\"bold\" lengthAdjust=\"spacing\" textLength=\"126.125\" x=\"20\" y=\"20.9951\">DependencyTest</text></a></g><!--MD5=[e4f7fae6ed58524ba242bb0b0d3be6b7]\n",
       "cluster E2--><g id=\"cluster_E2\"><a href=\"psysml:da04b59d-3286-4d3f-bbc3-7e7bb49d7c5d\" target=\"_top\" title=\"psysml:da04b59d-3286-4d3f-bbc3-7e7bb49d7c5d\" xlink:actuate=\"onRequest\" xlink:href=\"psysml:da04b59d-3286-4d3f-bbc3-7e7bb49d7c5d\" xlink:show=\"new\" xlink:title=\"psysml:da04b59d-3286-4d3f-bbc3-7e7bb49d7c5d\" xlink:type=\"simple\"><polygon fill=\"none\" points=\"161.72,65,221.345,65,228.345,87.2969,798.72,87.2969,798.72,205,161.72,205,161.72,65\" style=\"stroke:#000000;stroke-width:1.5;\"/><line style=\"stroke:#000000;stroke-width:1.5;\" x1=\"161.72\" x2=\"228.345\" y1=\"87.2969\" y2=\"87.2969\"/><text fill=\"#000000\" font-family=\"sans-serif\" font-size=\"14\" font-weight=\"bold\" lengthAdjust=\"spacing\" textLength=\"53.625\" x=\"165.72\" y=\"79.9951\">System</text></a></g><!--MD5=[60a26617385b1d2d0262a64233df1f8d]\n",
       "class E6--><a href=\"psysml:fa1eb9e1-3558-4ac6-ae6a-7c42660b9dca\" target=\"_top\" title=\"psysml:fa1eb9e1-3558-4ac6-ae6a-7c42660b9dca\" xlink:actuate=\"onRequest\" xlink:href=\"psysml:fa1eb9e1-3558-4ac6-ae6a-7c42660b9dca\" xlink:show=\"new\" xlink:title=\"psysml:fa1eb9e1-3558-4ac6-ae6a-7c42660b9dca\" xlink:type=\"simple\"><g id=\"elem_E6\"><rect fill=\"#FFFFFF\" height=\"48.2656\" id=\"E6\" rx=\"10\" ry=\"10\" style=\"stroke:#181818;stroke-width:0.5;\" width=\"71\" x=\"466.22\" y=\"312\"/><text fill=\"#000000\" font-family=\"sans-serif\" font-size=\"12\" font-style=\"italic\" lengthAdjust=\"spacing\" textLength=\"69\" x=\"467.22\" y=\"328.1387\">«attribute»</text><text fill=\"#000000\" font-family=\"sans-serif\" font-size=\"14\" lengthAdjust=\"spacing\" textLength=\"7\" x=\"494.22\" y=\"343.9639\">x</text><line style=\"stroke:#181818;stroke-width:0.5;\" x1=\"467.22\" x2=\"536.22\" y1=\"352.2656\" y2=\"352.2656\"/></g></a><!--MD5=[2156ba9850f5573cc1fc38a6a4b2f02b]\n",
       "class E7--><a href=\"psysml:a1db1b5d-0100-40b0-bd9f-2e7223fe2e6d\" target=\"_top\" title=\"psysml:a1db1b5d-0100-40b0-bd9f-2e7223fe2e6d\" xlink:actuate=\"onRequest\" xlink:href=\"psysml:a1db1b5d-0100-40b0-bd9f-2e7223fe2e6d\" xlink:show=\"new\" xlink:title=\"psysml:a1db1b5d-0100-40b0-bd9f-2e7223fe2e6d\" xlink:type=\"simple\"><g id=\"elem_E7\"><rect fill=\"#FFFFFF\" height=\"48.2656\" id=\"E7\" rx=\"10\" ry=\"10\" style=\"stroke:#181818;stroke-width:0.5;\" width=\"71\" x=\"466.22\" y=\"229\"/><text fill=\"#000000\" font-family=\"sans-serif\" font-size=\"12\" font-style=\"italic\" lengthAdjust=\"spacing\" textLength=\"69\" x=\"467.22\" y=\"245.1387\">«attribute»</text><text fill=\"#000000\" font-family=\"sans-serif\" font-size=\"14\" lengthAdjust=\"spacing\" textLength=\"7\" x=\"494.22\" y=\"260.9639\">y</text><line style=\"stroke:#181818;stroke-width:0.5;\" x1=\"467.22\" x2=\"536.22\" y1=\"269.2656\" y2=\"269.2656\"/></g></a><!--MD5=[b9389687b975829384b498ac4b7476b2]\n",
       "class E8--><a href=\"psysml:179fcb88-b86f-4c8c-8d3f-0f88ad709e86\" target=\"_top\" title=\"psysml:179fcb88-b86f-4c8c-8d3f-0f88ad709e86\" xlink:actuate=\"onRequest\" xlink:href=\"psysml:179fcb88-b86f-4c8c-8d3f-0f88ad709e86\" xlink:show=\"new\" xlink:title=\"psysml:179fcb88-b86f-4c8c-8d3f-0f88ad709e86\" xlink:type=\"simple\"><g id=\"elem_E8\"><rect fill=\"#FFFFFF\" height=\"48.2656\" id=\"E8\" rx=\"10\" ry=\"10\" style=\"stroke:#181818;stroke-width:0.5;\" width=\"71\" x=\"217.72\" y=\"264\"/><text fill=\"#000000\" font-family=\"sans-serif\" font-size=\"12\" font-style=\"italic\" lengthAdjust=\"spacing\" textLength=\"69\" x=\"218.72\" y=\"280.1387\">«attribute»</text><text fill=\"#000000\" font-family=\"sans-serif\" font-size=\"14\" lengthAdjust=\"spacing\" textLength=\"8\" x=\"245.22\" y=\"295.9639\">z</text><line style=\"stroke:#181818;stroke-width:0.5;\" x1=\"218.72\" x2=\"287.72\" y1=\"304.2656\" y2=\"304.2656\"/></g></a><a href=\"psysml:174d7b64-e31a-4a54-99c4-d88bb0afa8af\" target=\"_top\" title=\"psysml:174d7b64-e31a-4a54-99c4-d88bb0afa8af\" xlink:actuate=\"onRequest\" xlink:href=\"psysml:174d7b64-e31a-4a54-99c4-d88bb0afa8af\" xlink:show=\"new\" xlink:title=\"psysml:174d7b64-e31a-4a54-99c4-d88bb0afa8af\" xlink:type=\"simple\"><polygon fill=\"#FFFFFF\" points=\"185.72,108.5,306.72,108.5,313.72,130.7969,320.72,130.7969,320.72,161.0938,185.72,161.0938,185.72,108.5\" style=\"stroke:#181818;stroke-width:0.5;\"/><line style=\"stroke:#181818;stroke-width:0.5;\" x1=\"185.72\" x2=\"313.72\" y1=\"130.7969\" y2=\"130.7969\"/><text fill=\"#000000\" font-family=\"sans-serif\" font-size=\"14\" lengthAdjust=\"spacing\" textLength=\"115\" x=\"189.72\" y=\"123.4951\">Application Layer</text></a><a href=\"psysml:6cc47e98-b8e7-4ff0-90aa-a6e12ea2ee54\" target=\"_top\" title=\"psysml:6cc47e98-b8e7-4ff0-90aa-a6e12ea2ee54\" xlink:actuate=\"onRequest\" xlink:href=\"psysml:6cc47e98-b8e7-4ff0-90aa-a6e12ea2ee54\" xlink:show=\"new\" xlink:title=\"psysml:6cc47e98-b8e7-4ff0-90aa-a6e12ea2ee54\" xlink:type=\"simple\"><polygon fill=\"#FFFFFF\" points=\"446.72,108.5,542.72,108.5,549.72,130.7969,556.72,130.7969,556.72,161.0938,446.72,161.0938,446.72,108.5\" style=\"stroke:#181818;stroke-width:0.5;\"/><line style=\"stroke:#181818;stroke-width:0.5;\" x1=\"446.72\" x2=\"549.72\" y1=\"130.7969\" y2=\"130.7969\"/><text fill=\"#000000\" font-family=\"sans-serif\" font-size=\"14\" lengthAdjust=\"spacing\" textLength=\"90\" x=\"450.72\" y=\"123.4951\">Service Layer</text></a><a href=\"psysml:a41e95d1-6586-47c5-87a0-a52adaa3773e\" target=\"_top\" title=\"psysml:a41e95d1-6586-47c5-87a0-a52adaa3773e\" xlink:actuate=\"onRequest\" xlink:href=\"psysml:a41e95d1-6586-47c5-87a0-a52adaa3773e\" xlink:show=\"new\" xlink:title=\"psysml:a41e95d1-6586-47c5-87a0-a52adaa3773e\" xlink:type=\"simple\"><polygon fill=\"#FFFFFF\" points=\"682.72,108.5,760.72,108.5,767.72,130.7969,774.72,130.7969,774.72,161.0938,682.72,161.0938,682.72,108.5\" style=\"stroke:#181818;stroke-width:0.5;\"/><line style=\"stroke:#181818;stroke-width:0.5;\" x1=\"682.72\" x2=\"767.72\" y1=\"130.7969\" y2=\"130.7969\"/><text fill=\"#000000\" font-family=\"sans-serif\" font-size=\"14\" lengthAdjust=\"spacing\" textLength=\"72\" x=\"686.72\" y=\"123.4951\">Data Layer</text></a><!--MD5=[1f1cd8e6dd4c1b2ca2aaccc9b9bcea6e]\n",
       "link E1 to E2--><g id=\"link_E1_E2\"><a href=\"psysml:98ffbcea-2ad0-443f-b206-57004efde221\" target=\"_top\" title=\"psysml:98ffbcea-2ad0-443f-b206-57004efde221\" xlink:actuate=\"onRequest\" xlink:href=\"psysml:98ffbcea-2ad0-443f-b206-57004efde221\" xlink:show=\"new\" xlink:title=\"psysml:98ffbcea-2ad0-443f-b206-57004efde221\" xlink:type=\"simple\"><path d=\"M24.88,197 C28.275,197 83.4,197 138.5113,197 C145.4002,197 152.2888,197 159.0763,197 C159.9247,197 160.7715,197 161.6166,197 \" fill=\"none\" id=\"E1-to-E2\" style=\"stroke:#181818;stroke-width:1.0;stroke-dasharray:7.0,7.0;\"/><polygon fill=\"#181818\" points=\"161.6166,197,152.6166,193,156.6166,197,152.6166,201,161.6166,197\" style=\"stroke:#181818;stroke-width:1.0;\"/><text fill=\"#000000\" font-family=\"sans-serif\" font-size=\"13\" lengthAdjust=\"spacing\" textLength=\"65\" x=\"55.72\" y=\"193.0669\">«import»*</text></a></g><!--MD5=[af87c684e3b0d8be13c1a698a818ef1e]\n",
       "link E3 to E4--><g id=\"link_E3_E4\"><a href=\"psysml:94e1a3f7-50a9-4c8e-a4e8-5ce452ddfecf\" target=\"_top\" title=\"psysml:94e1a3f7-50a9-4c8e-a4e8-5ce452ddfecf\" xlink:actuate=\"onRequest\" xlink:href=\"psysml:94e1a3f7-50a9-4c8e-a4e8-5ce452ddfecf\" xlink:show=\"new\" xlink:title=\"psysml:94e1a3f7-50a9-4c8e-a4e8-5ce452ddfecf\" xlink:type=\"simple\"><path d=\"M320.93,135 C357.36,135 402.21,135 438,135 \" fill=\"none\" id=\"E3-to-E4\" style=\"stroke:#181818;stroke-width:1.0;stroke-dasharray:7.0,7.0;\"/><polygon fill=\"#181818\" points=\"446.42,135,438.42,132,438.42,138,446.42,135\" style=\"stroke:#181818;stroke-width:1.0;\"/><text fill=\"#000000\" font-family=\"sans-serif\" font-size=\"13\" lengthAdjust=\"spacing\" textLength=\"64\" x=\"351.72\" y=\"131.0669\">«depend»</text></a></g><!--MD5=[1b7591eae5389033d8d09a9d6721a717]\n",
       "link E4 to E5--><g id=\"link_E4_E5\"><a href=\"psysml:9da5c160-44e8-44ec-9936-ca4a4075f5f4\" target=\"_top\" title=\"psysml:9da5c160-44e8-44ec-9936-ca4a4075f5f4\" xlink:actuate=\"onRequest\" xlink:href=\"psysml:9da5c160-44e8-44ec-9936-ca4a4075f5f4\" xlink:show=\"new\" xlink:title=\"psysml:9da5c160-44e8-44ec-9936-ca4a4075f5f4\" xlink:type=\"simple\"><path d=\"M556.9,135 C592.53,135 638.96,135 674.41,135 \" fill=\"none\" id=\"E4-to-E5\" style=\"stroke:#181818;stroke-width:1.0;stroke-dasharray:7.0,7.0;\"/><polygon fill=\"#181818\" points=\"682.72,135,674.72,132,674.72,138,682.72,135\" style=\"stroke:#181818;stroke-width:1.0;\"/><text fill=\"#000000\" font-family=\"sans-serif\" font-size=\"13\" lengthAdjust=\"spacing\" textLength=\"64\" x=\"587.72\" y=\"131.0669\">«depend»</text></a></g><!--MD5=[c5e8897d989ce984f93528998a7150fe]\n",
       "link E8 to E6--><g id=\"link_E8_E6\"><a href=\"psysml:cc6cc763-fa59-42bd-a700-018e736c1371\" target=\"_top\" title=\"psysml:cc6cc763-fa59-42bd-a700-018e736c1371\" xlink:actuate=\"onRequest\" xlink:href=\"psysml:cc6cc763-fa59-42bd-a700-018e736c1371\" xlink:show=\"new\" xlink:title=\"psysml:cc6cc763-fa59-42bd-a700-018e736c1371\" xlink:type=\"simple\"><path d=\"M288.75,294.72 C333.09,303.36 410.02,318.34 458,327.68 \" fill=\"none\" id=\"E8-to-E6\" style=\"stroke:#181818;stroke-width:1.0;stroke-dasharray:7.0,7.0;\"/><polygon fill=\"#181818\" points=\"466.02,329.24,458.7416,324.765,457.5938,330.6542,466.02,329.24\" style=\"stroke:#181818;stroke-width:1.0;\"/><text fill=\"#000000\" font-family=\"sans-serif\" font-size=\"13\" lengthAdjust=\"spacing\" textLength=\"64\" x=\"351.72\" y=\"304.0669\">«depend»</text></a></g><!--MD5=[bfa3c8b0d15052fdf50ae9310b491027]\n",
       "link E8 to E7--><g id=\"link_E8_E7\"><a href=\"psysml:cc6cc763-fa59-42bd-a700-018e736c1371\" target=\"_top\" title=\"psysml:cc6cc763-fa59-42bd-a700-018e736c1371\" xlink:actuate=\"onRequest\" xlink:href=\"psysml:cc6cc763-fa59-42bd-a700-018e736c1371\" xlink:show=\"new\" xlink:title=\"psysml:cc6cc763-fa59-42bd-a700-018e736c1371\" xlink:type=\"simple\"><path d=\"M288.75,283.1 C333.09,276.8 410.02,265.88 458,259.07 \" fill=\"none\" id=\"E8-to-E7\" style=\"stroke:#181818;stroke-width:1.0;stroke-dasharray:7.0,7.0;\"/><polygon fill=\"#181818\" points=\"466.02,257.93,457.6766,256.0894,458.5236,262.0293,466.02,257.93\" style=\"stroke:#181818;stroke-width:1.0;\"/><text fill=\"#000000\" font-family=\"sans-serif\" font-size=\"13\" lengthAdjust=\"spacing\" textLength=\"64\" x=\"351.72\" y=\"262.0669\">«depend»</text></a></g><!--MD5=[e78ba9c5908f1f7693e86b08b4a0f83b]\n",
       "@startuml\r\n",
       "skin sysmlbw\r\n",
       "skinparam monochrome true\r\n",
       "skinparam wrapWidth 300\r\n",
       "hide circle\r\n",
       "left to right direction\r\n",
       "\r\n",
       "package \"DependencyTest\" as E1  [[psysml:7dee102c-3f89-42b9-9919-3eaa1d7109e5 ]]  {\r\n",
       "package \"System\" as E2  [[psysml:da04b59d-3286-4d3f-bbc3-7e7bb49d7c5d ]]  {\r\n",
       "package \"Application Layer\" as E3  [[psysml:174d7b64-e31a-4a54-99c4-d88bb0afa8af ]]  {\r\n",
       "}\r\n",
       "package \"Service Layer\" as E4  [[psysml:6cc47e98-b8e7-4ff0-90aa-a6e12ea2ee54 ]]  {\r\n",
       "}\r\n",
       "package \"Data Layer\" as E5  [[psysml:a41e95d1-6586-47c5-87a0-a52adaa3773e ]]  {\r\n",
       "}\r\n",
       "}\r\n",
       "comp usage \"x  \" as E6  <<(T,blue) attribute>> [[psysml:fa1eb9e1-3558-4ac6-ae6a-7c42660b9dca ]] {\r\n",
       "}\r\n",
       "comp usage \"y  \" as E7  <<(T,blue) attribute>> [[psysml:a1db1b5d-0100-40b0-bd9f-2e7223fe2e6d ]] {\r\n",
       "}\r\n",
       "comp usage \"z  \" as E8  <<(T,blue) attribute>> [[psysml:179fcb88-b86f-4c8c-8d3f-0f88ad709e86 ]] {\r\n",
       "}\r\n",
       "}\r\n",
       "E1 ..> E2 [[psysml:98ffbcea-2ad0-443f-b206-57004efde221 ]] : <<import>>*\r\n",
       "E3 ..>> E4 [[psysml:94e1a3f7-50a9-4c8e-a4e8-5ce452ddfecf ]] : <<depend>>\r\n",
       "E4 ..>> E5 [[psysml:9da5c160-44e8-44ec-9936-ca4a4075f5f4 ]] : <<depend>>\r\n",
       "E8 ..>> E6 [[psysml:cc6cc763-fa59-42bd-a700-018e736c1371 ]] : <<depend>>\r\n",
       "E8 ..>> E7 [[psysml:cc6cc763-fa59-42bd-a700-018e736c1371 ]] : <<depend>>\r\n",
       "@enduml\r\n",
       "\n",
       "PlantUML version 1.2022.7(Mon Aug 22 17:01:30 UTC 2022)\n",
       "(EPL source distribution)\n",
       "Java Runtime: OpenJDK Runtime Environment\n",
       "JVM: OpenJDK 64-Bit Server VM\n",
       "Default Encoding: UTF-8\n",
       "Language: en\n",
       "Country: null\n",
       "--></g></svg>"
      ]
     },
     "execution_count": 22,
     "metadata": {},
     "output_type": "execute_result"
    }
   ],
   "source": [
    "%viz --style=\"LR\" --view=\"MIXED\" \"DependencyTest\""
   ]
  },
  {
   "cell_type": "code",
   "execution_count": 23,
   "id": "6fef0366",
   "metadata": {
    "execution": {
     "iopub.execute_input": "2024-12-16T03:27:31.254115Z",
     "iopub.status.busy": "2024-12-16T03:27:31.253931Z",
     "iopub.status.idle": "2024-12-16T03:27:31.276819Z",
     "shell.execute_reply": "2024-12-16T03:27:31.275983Z"
    }
   },
   "outputs": [
    {
     "data": {
      "image/svg+xml": [
       "<?xml version=\"1.0\" encoding=\"UTF-8\" standalone=\"no\"?><svg xmlns=\"http://www.w3.org/2000/svg\" xmlns:xlink=\"http://www.w3.org/1999/xlink\" contentStyleType=\"text/css\" height=\"547px\" preserveAspectRatio=\"none\" style=\"width:531px;height:547px;background:#FFFFFF;\" version=\"1.1\" viewBox=\"0 0 531 547\" width=\"531px\" zoomAndPan=\"magnify\"><defs><filter height=\"300%\" id=\"f7z0fqfuupi1o\" width=\"300%\" x=\"-1\" y=\"-1\"><feGaussianBlur result=\"blurOut\" stdDeviation=\"2.0\"/><feColorMatrix in=\"blurOut\" result=\"blurOut2\" type=\"matrix\" values=\"0 0 0 0 0 0 0 0 0 0 0 0 0 0 0 0 0 0 .4 0\"/><feOffset dx=\"4.0\" dy=\"4.0\" in=\"blurOut2\" result=\"blurOut3\"/><feBlend in=\"SourceGraphic\" in2=\"blurOut3\" mode=\"normal\"/></filter></defs><g><!--MD5=[fbc87193dbaf4d95561dea2c320d4a47]\n",
       "cluster E1--><g id=\"cluster_E1\"><a href=\"psysml:7dee102c-3f89-42b9-9919-3eaa1d7109e5\" target=\"_top\" title=\"psysml:7dee102c-3f89-42b9-9919-3eaa1d7109e5\" xlink:actuate=\"onRequest\" xlink:href=\"psysml:7dee102c-3f89-42b9-9919-3eaa1d7109e5\" xlink:show=\"new\" xlink:title=\"psysml:7dee102c-3f89-42b9-9919-3eaa1d7109e5\" xlink:type=\"simple\"><polygon fill=\"none\" filter=\"url(#f7z0fqfuupi1o)\" points=\"16,6,148.125,6,155.125,28.2969,514,28.2969,514,540.72,16,540.72,16,6\" style=\"stroke:#000000;stroke-width:1.5;\"/><line style=\"stroke:#000000;stroke-width:1.5;\" x1=\"16\" x2=\"155.125\" y1=\"28.2969\" y2=\"28.2969\"/><text fill=\"#000000\" font-family=\"sans-serif\" font-size=\"14\" font-weight=\"bold\" lengthAdjust=\"spacing\" textLength=\"126.125\" x=\"20\" y=\"20.9951\">DependencyTest</text></a></g><!--MD5=[e4f7fae6ed58524ba242bb0b0d3be6b7]\n",
       "cluster E2--><g id=\"cluster_E2\"><a href=\"psysml:da04b59d-3286-4d3f-bbc3-7e7bb49d7c5d\" target=\"_top\" title=\"psysml:da04b59d-3286-4d3f-bbc3-7e7bb49d7c5d\" xlink:actuate=\"onRequest\" xlink:href=\"psysml:da04b59d-3286-4d3f-bbc3-7e7bb49d7c5d\" xlink:show=\"new\" xlink:title=\"psysml:da04b59d-3286-4d3f-bbc3-7e7bb49d7c5d\" xlink:type=\"simple\"><polygon fill=\"none\" filter=\"url(#f7z0fqfuupi1o)\" points=\"271,120.72,330.625,120.72,337.625,143.0169,474,143.0169,474,500.72,271,500.72,271,120.72\" style=\"stroke:#000000;stroke-width:1.5;\"/><line style=\"stroke:#000000;stroke-width:1.5;\" x1=\"271\" x2=\"337.625\" y1=\"143.0169\" y2=\"143.0169\"/><text fill=\"#000000\" font-family=\"sans-serif\" font-size=\"14\" font-weight=\"bold\" lengthAdjust=\"spacing\" textLength=\"53.625\" x=\"275\" y=\"135.7151\">System</text></a></g><!--MD5=[60a26617385b1d2d0262a64233df1f8d]\n",
       "class E6--><a href=\"psysml:fa1eb9e1-3558-4ac6-ae6a-7c42660b9dca\" target=\"_top\" title=\"psysml:fa1eb9e1-3558-4ac6-ae6a-7c42660b9dca\" xlink:actuate=\"onRequest\" xlink:href=\"psysml:fa1eb9e1-3558-4ac6-ae6a-7c42660b9dca\" xlink:show=\"new\" xlink:title=\"psysml:fa1eb9e1-3558-4ac6-ae6a-7c42660b9dca\" xlink:type=\"simple\"><g id=\"elem_E6\"><rect fill=\"#FFFACD\" filter=\"url(#f7z0fqfuupi1o)\" height=\"48.2656\" id=\"E6\" rx=\"10\" ry=\"10\" style=\"stroke:#181818;stroke-width:0.5;\" width=\"71\" x=\"40.5\" y=\"296.22\"/><text fill=\"#000000\" font-family=\"sans-serif\" font-size=\"12\" font-style=\"italic\" lengthAdjust=\"spacing\" textLength=\"69\" x=\"41.5\" y=\"312.3587\">«attribute»</text><text fill=\"#000000\" font-family=\"sans-serif\" font-size=\"14\" lengthAdjust=\"spacing\" textLength=\"7\" x=\"68.5\" y=\"328.1839\">x</text><line style=\"stroke:#181818;stroke-width:0.5;\" x1=\"41.5\" x2=\"110.5\" y1=\"336.4856\" y2=\"336.4856\"/></g></a><!--MD5=[2156ba9850f5573cc1fc38a6a4b2f02b]\n",
       "class E7--><a href=\"psysml:a1db1b5d-0100-40b0-bd9f-2e7223fe2e6d\" target=\"_top\" title=\"psysml:a1db1b5d-0100-40b0-bd9f-2e7223fe2e6d\" xlink:actuate=\"onRequest\" xlink:href=\"psysml:a1db1b5d-0100-40b0-bd9f-2e7223fe2e6d\" xlink:show=\"new\" xlink:title=\"psysml:a1db1b5d-0100-40b0-bd9f-2e7223fe2e6d\" xlink:type=\"simple\"><g id=\"elem_E7\"><rect fill=\"#FFFACD\" filter=\"url(#f7z0fqfuupi1o)\" height=\"48.2656\" id=\"E7\" rx=\"10\" ry=\"10\" style=\"stroke:#181818;stroke-width:0.5;\" width=\"71\" x=\"146.5\" y=\"296.22\"/><text fill=\"#000000\" font-family=\"sans-serif\" font-size=\"12\" font-style=\"italic\" lengthAdjust=\"spacing\" textLength=\"69\" x=\"147.5\" y=\"312.3587\">«attribute»</text><text fill=\"#000000\" font-family=\"sans-serif\" font-size=\"14\" lengthAdjust=\"spacing\" textLength=\"7\" x=\"174.5\" y=\"328.1839\">y</text><line style=\"stroke:#181818;stroke-width:0.5;\" x1=\"147.5\" x2=\"216.5\" y1=\"336.4856\" y2=\"336.4856\"/></g></a><!--MD5=[b9389687b975829384b498ac4b7476b2]\n",
       "class E8--><a href=\"psysml:179fcb88-b86f-4c8c-8d3f-0f88ad709e86\" target=\"_top\" title=\"psysml:179fcb88-b86f-4c8c-8d3f-0f88ad709e86\" xlink:actuate=\"onRequest\" xlink:href=\"psysml:179fcb88-b86f-4c8c-8d3f-0f88ad709e86\" xlink:show=\"new\" xlink:title=\"psysml:179fcb88-b86f-4c8c-8d3f-0f88ad709e86\" xlink:type=\"simple\"><g id=\"elem_E8\"><rect fill=\"#FFFACD\" filter=\"url(#f7z0fqfuupi1o)\" height=\"48.2656\" id=\"E8\" rx=\"10\" ry=\"10\" style=\"stroke:#181818;stroke-width:0.5;\" width=\"71\" x=\"92.5\" y=\"166.22\"/><text fill=\"#000000\" font-family=\"sans-serif\" font-size=\"12\" font-style=\"italic\" lengthAdjust=\"spacing\" textLength=\"69\" x=\"93.5\" y=\"182.3587\">«attribute»</text><text fill=\"#000000\" font-family=\"sans-serif\" font-size=\"14\" lengthAdjust=\"spacing\" textLength=\"8\" x=\"120\" y=\"198.1839\">z</text><line style=\"stroke:#181818;stroke-width:0.5;\" x1=\"93.5\" x2=\"162.5\" y1=\"206.4856\" y2=\"206.4856\"/></g></a><a href=\"psysml:174d7b64-e31a-4a54-99c4-d88bb0afa8af\" target=\"_top\" title=\"psysml:174d7b64-e31a-4a54-99c4-d88bb0afa8af\" xlink:actuate=\"onRequest\" xlink:href=\"psysml:174d7b64-e31a-4a54-99c4-d88bb0afa8af\" xlink:show=\"new\" xlink:title=\"psysml:174d7b64-e31a-4a54-99c4-d88bb0afa8af\" xlink:type=\"simple\"><polygon fill=\"#FFFACD\" filter=\"url(#f7z0fqfuupi1o)\" points=\"314.5,163.72,435.5,163.72,442.5,186.0169,449.5,186.0169,449.5,216.3138,314.5,216.3138,314.5,163.72\" style=\"stroke:#181818;stroke-width:0.5;\"/><line style=\"stroke:#181818;stroke-width:0.5;\" x1=\"314.5\" x2=\"442.5\" y1=\"186.0169\" y2=\"186.0169\"/><text fill=\"#000000\" font-family=\"sans-serif\" font-size=\"14\" lengthAdjust=\"spacing\" textLength=\"115\" x=\"318.5\" y=\"178.7151\">Application Layer</text></a><a href=\"psysml:6cc47e98-b8e7-4ff0-90aa-a6e12ea2ee54\" target=\"_top\" title=\"psysml:6cc47e98-b8e7-4ff0-90aa-a6e12ea2ee54\" xlink:actuate=\"onRequest\" xlink:href=\"psysml:6cc47e98-b8e7-4ff0-90aa-a6e12ea2ee54\" xlink:show=\"new\" xlink:title=\"psysml:6cc47e98-b8e7-4ff0-90aa-a6e12ea2ee54\" xlink:type=\"simple\"><polygon fill=\"#FFFACD\" filter=\"url(#f7z0fqfuupi1o)\" points=\"327,293.72,423,293.72,430,316.0169,437,316.0169,437,346.3138,327,346.3138,327,293.72\" style=\"stroke:#181818;stroke-width:0.5;\"/><line style=\"stroke:#181818;stroke-width:0.5;\" x1=\"327\" x2=\"430\" y1=\"316.0169\" y2=\"316.0169\"/><text fill=\"#000000\" font-family=\"sans-serif\" font-size=\"14\" lengthAdjust=\"spacing\" textLength=\"90\" x=\"331\" y=\"308.7151\">Service Layer</text></a><a href=\"psysml:a41e95d1-6586-47c5-87a0-a52adaa3773e\" target=\"_top\" title=\"psysml:a41e95d1-6586-47c5-87a0-a52adaa3773e\" xlink:actuate=\"onRequest\" xlink:href=\"psysml:a41e95d1-6586-47c5-87a0-a52adaa3773e\" xlink:show=\"new\" xlink:title=\"psysml:a41e95d1-6586-47c5-87a0-a52adaa3773e\" xlink:type=\"simple\"><polygon fill=\"#FFFACD\" filter=\"url(#f7z0fqfuupi1o)\" points=\"336,423.72,414,423.72,421,446.0169,428,446.0169,428,476.3138,336,476.3138,336,423.72\" style=\"stroke:#181818;stroke-width:0.5;\"/><line style=\"stroke:#181818;stroke-width:0.5;\" x1=\"336\" x2=\"421\" y1=\"446.0169\" y2=\"446.0169\"/><text fill=\"#000000\" font-family=\"sans-serif\" font-size=\"14\" lengthAdjust=\"spacing\" textLength=\"72\" x=\"340\" y=\"438.7151\">Data Layer</text></a><!--MD5=[1f1cd8e6dd4c1b2ca2aaccc9b9bcea6e]\n",
       "link E1 to E2--><g id=\"link_E1_E2\"><a href=\"psysml:98ffbcea-2ad0-443f-b206-57004efde221\" target=\"_top\" title=\"psysml:98ffbcea-2ad0-443f-b206-57004efde221\" xlink:actuate=\"onRequest\" xlink:href=\"psysml:98ffbcea-2ad0-443f-b206-57004efde221\" xlink:show=\"new\" xlink:title=\"psysml:98ffbcea-2ad0-443f-b206-57004efde221\" xlink:type=\"simple\"><path d=\"M279,33.83 C279,36.15 279,73.83 279,111.5 C279,113.8544 279,116.2087 279,118.5544 C279,119.1408 279,119.7267 279,120.3119 \" fill=\"none\" id=\"E1-to-E2\" style=\"stroke:#181818;stroke-width:1.0;stroke-dasharray:7.0,7.0;\"/><polygon fill=\"#181818\" points=\"279,120.3119,283,111.3119,279,115.3119,275,111.3119,279,120.3119\" style=\"stroke:#181818;stroke-width:1.0;\"/><text fill=\"#000000\" font-family=\"sans-serif\" font-size=\"13\" lengthAdjust=\"spacing\" textLength=\"65\" x=\"280\" y=\"76.7869\">«import»*</text></a></g><!--MD5=[af87c684e3b0d8be13c1a698a818ef1e]\n",
       "link E3 to E4--><g id=\"link_E3_E4\"><a href=\"psysml:94e1a3f7-50a9-4c8e-a4e8-5ce452ddfecf\" target=\"_top\" title=\"psysml:94e1a3f7-50a9-4c8e-a4e8-5ce452ddfecf\" xlink:actuate=\"onRequest\" xlink:href=\"psysml:94e1a3f7-50a9-4c8e-a4e8-5ce452ddfecf\" xlink:show=\"new\" xlink:title=\"psysml:94e1a3f7-50a9-4c8e-a4e8-5ce452ddfecf\" xlink:type=\"simple\"><path d=\"M382,216.82 C382,236.52 382,263.94 382,285.45 \" fill=\"none\" id=\"E3-to-E4\" style=\"stroke:#181818;stroke-width:1.0;stroke-dasharray:7.0,7.0;\"/><polygon fill=\"#181818\" points=\"382,293.67,385,285.67,379,285.67,382,293.67\" style=\"stroke:#181818;stroke-width:1.0;\"/><text fill=\"#000000\" font-family=\"sans-serif\" font-size=\"13\" lengthAdjust=\"spacing\" textLength=\"64\" x=\"383\" y=\"259.7869\">«depend»</text></a></g><!--MD5=[1b7591eae5389033d8d09a9d6721a717]\n",
       "link E4 to E5--><g id=\"link_E4_E5\"><a href=\"psysml:9da5c160-44e8-44ec-9936-ca4a4075f5f4\" target=\"_top\" title=\"psysml:9da5c160-44e8-44ec-9936-ca4a4075f5f4\" xlink:actuate=\"onRequest\" xlink:href=\"psysml:9da5c160-44e8-44ec-9936-ca4a4075f5f4\" xlink:show=\"new\" xlink:title=\"psysml:9da5c160-44e8-44ec-9936-ca4a4075f5f4\" xlink:type=\"simple\"><path d=\"M382,346.82 C382,366.52 382,393.94 382,415.45 \" fill=\"none\" id=\"E4-to-E5\" style=\"stroke:#181818;stroke-width:1.0;stroke-dasharray:7.0,7.0;\"/><polygon fill=\"#181818\" points=\"382,423.67,385,415.67,379,415.67,382,423.67\" style=\"stroke:#181818;stroke-width:1.0;\"/><text fill=\"#000000\" font-family=\"sans-serif\" font-size=\"13\" lengthAdjust=\"spacing\" textLength=\"64\" x=\"383\" y=\"389.7869\">«depend»</text></a></g><!--MD5=[c5e8897d989ce984f93528998a7150fe]\n",
       "link E8 to E6--><g id=\"link_E8_E6\"><a href=\"psysml:cc6cc763-fa59-42bd-a700-018e736c1371\" target=\"_top\" title=\"psysml:cc6cc763-fa59-42bd-a700-018e736c1371\" xlink:actuate=\"onRequest\" xlink:href=\"psysml:cc6cc763-fa59-42bd-a700-018e736c1371\" xlink:show=\"new\" xlink:title=\"psysml:cc6cc763-fa59-42bd-a700-018e736c1371\" xlink:type=\"simple\"><path d=\"M96.23,214.4 C86.58,223.3 77.16,234.34 72,246.72 C66.62,259.63 66.65,274.97 68.42,288.21 \" fill=\"none\" id=\"E8-to-E6\" style=\"stroke:#181818;stroke-width:1.0;stroke-dasharray:7.0,7.0;\"/><polygon fill=\"#181818\" points=\"69.71,296.14,71.386,287.762,65.4639,288.7258,69.71,296.14\" style=\"stroke:#181818;stroke-width:1.0;\"/><text fill=\"#000000\" font-family=\"sans-serif\" font-size=\"13\" lengthAdjust=\"spacing\" textLength=\"64\" x=\"73\" y=\"259.7869\">«depend»</text></a></g><!--MD5=[bfa3c8b0d15052fdf50ae9310b491027]\n",
       "link E8 to E7--><g id=\"link_E8_E7\"><a href=\"psysml:cc6cc763-fa59-42bd-a700-018e736c1371\" target=\"_top\" title=\"psysml:cc6cc763-fa59-42bd-a700-018e736c1371\" xlink:actuate=\"onRequest\" xlink:href=\"psysml:cc6cc763-fa59-42bd-a700-018e736c1371\" xlink:show=\"new\" xlink:title=\"psysml:cc6cc763-fa59-42bd-a700-018e736c1371\" xlink:type=\"simple\"><path d=\"M137.78,214.4 C146.57,235.24 159.55,266 169.17,288.81 \" fill=\"none\" id=\"E8-to-E7\" style=\"stroke:#181818;stroke-width:1.0;stroke-dasharray:7.0,7.0;\"/><polygon fill=\"#181818\" points=\"172.29,296.21,171.9401,287.6732,166.4131,290.0082,172.29,296.21\" style=\"stroke:#181818;stroke-width:1.0;\"/><text fill=\"#000000\" font-family=\"sans-serif\" font-size=\"13\" lengthAdjust=\"spacing\" textLength=\"64\" x=\"159\" y=\"259.7869\">«depend»</text></a></g><!--MD5=[c4c6bb446bb97b03d1dabb90af6c2b2e]\n",
       "@startuml\r\n",
       "skin sysmlc\r\n",
       "skinparam wrapWidth 300\r\n",
       "hide circle\r\n",
       "\r\n",
       "package \"DependencyTest\" as E1  [[psysml:7dee102c-3f89-42b9-9919-3eaa1d7109e5 ]]  {\r\n",
       "package \"System\" as E2  [[psysml:da04b59d-3286-4d3f-bbc3-7e7bb49d7c5d ]]  {\r\n",
       "package \"Application Layer\" as E3  [[psysml:174d7b64-e31a-4a54-99c4-d88bb0afa8af ]]  {\r\n",
       "}\r\n",
       "package \"Service Layer\" as E4  [[psysml:6cc47e98-b8e7-4ff0-90aa-a6e12ea2ee54 ]]  {\r\n",
       "}\r\n",
       "package \"Data Layer\" as E5  [[psysml:a41e95d1-6586-47c5-87a0-a52adaa3773e ]]  {\r\n",
       "}\r\n",
       "}\r\n",
       "comp usage \"x  \" as E6  <<(T,blue) attribute>> [[psysml:fa1eb9e1-3558-4ac6-ae6a-7c42660b9dca ]] {\r\n",
       "}\r\n",
       "comp usage \"y  \" as E7  <<(T,blue) attribute>> [[psysml:a1db1b5d-0100-40b0-bd9f-2e7223fe2e6d ]] {\r\n",
       "}\r\n",
       "comp usage \"z  \" as E8  <<(T,blue) attribute>> [[psysml:179fcb88-b86f-4c8c-8d3f-0f88ad709e86 ]] {\r\n",
       "}\r\n",
       "}\r\n",
       "E1 ..> E2 [[psysml:98ffbcea-2ad0-443f-b206-57004efde221 ]] : <<import>>*\r\n",
       "E3 ..>> E4 [[psysml:94e1a3f7-50a9-4c8e-a4e8-5ce452ddfecf ]] : <<depend>>\r\n",
       "E4 ..>> E5 [[psysml:9da5c160-44e8-44ec-9936-ca4a4075f5f4 ]] : <<depend>>\r\n",
       "E8 ..>> E6 [[psysml:cc6cc763-fa59-42bd-a700-018e736c1371 ]] : <<depend>>\r\n",
       "E8 ..>> E7 [[psysml:cc6cc763-fa59-42bd-a700-018e736c1371 ]] : <<depend>>\r\n",
       "@enduml\r\n",
       "\n",
       "PlantUML version 1.2022.7(Mon Aug 22 17:01:30 UTC 2022)\n",
       "(EPL source distribution)\n",
       "Java Runtime: OpenJDK Runtime Environment\n",
       "JVM: OpenJDK 64-Bit Server VM\n",
       "Default Encoding: UTF-8\n",
       "Language: en\n",
       "Country: null\n",
       "--></g></svg>"
      ]
     },
     "execution_count": 23,
     "metadata": {},
     "output_type": "execute_result"
    }
   ],
   "source": [
    "%viz --style=\"STDCOLOR\" --view=\"Default\" \"DependencyTest\""
   ]
  },
  {
   "cell_type": "code",
   "execution_count": 24,
   "id": "6d85964a",
   "metadata": {
    "execution": {
     "iopub.execute_input": "2024-12-16T03:27:31.327910Z",
     "iopub.status.busy": "2024-12-16T03:27:31.327723Z",
     "iopub.status.idle": "2024-12-16T03:27:31.346798Z",
     "shell.execute_reply": "2024-12-16T03:27:31.346013Z"
    }
   },
   "outputs": [
    {
     "data": {
      "image/svg+xml": [
       "<?xml version=\"1.0\" encoding=\"UTF-8\" standalone=\"no\"?><svg xmlns=\"http://www.w3.org/2000/svg\" xmlns:xlink=\"http://www.w3.org/1999/xlink\" contentStyleType=\"text/css\" height=\"547px\" preserveAspectRatio=\"none\" style=\"width:531px;height:547px;background:#FFFFFF;\" version=\"1.1\" viewBox=\"0 0 531 547\" width=\"531px\" zoomAndPan=\"magnify\"><defs><filter height=\"300%\" id=\"f7z0fqfuupi1o\" width=\"300%\" x=\"-1\" y=\"-1\"><feGaussianBlur result=\"blurOut\" stdDeviation=\"2.0\"/><feColorMatrix in=\"blurOut\" result=\"blurOut2\" type=\"matrix\" values=\"0 0 0 0 0 0 0 0 0 0 0 0 0 0 0 0 0 0 .4 0\"/><feOffset dx=\"4.0\" dy=\"4.0\" in=\"blurOut2\" result=\"blurOut3\"/><feBlend in=\"SourceGraphic\" in2=\"blurOut3\" mode=\"normal\"/></filter></defs><g><!--MD5=[fbc87193dbaf4d95561dea2c320d4a47]\n",
       "cluster E1--><g id=\"cluster_E1\"><a href=\"psysml:7dee102c-3f89-42b9-9919-3eaa1d7109e5\" target=\"_top\" title=\"psysml:7dee102c-3f89-42b9-9919-3eaa1d7109e5\" xlink:actuate=\"onRequest\" xlink:href=\"psysml:7dee102c-3f89-42b9-9919-3eaa1d7109e5\" xlink:show=\"new\" xlink:title=\"psysml:7dee102c-3f89-42b9-9919-3eaa1d7109e5\" xlink:type=\"simple\"><polygon fill=\"none\" filter=\"url(#f7z0fqfuupi1o)\" points=\"16,6,148.125,6,155.125,28.2969,514,28.2969,514,540.72,16,540.72,16,6\" style=\"stroke:#000000;stroke-width:1.5;\"/><line style=\"stroke:#000000;stroke-width:1.5;\" x1=\"16\" x2=\"155.125\" y1=\"28.2969\" y2=\"28.2969\"/><text fill=\"#000000\" font-family=\"sans-serif\" font-size=\"14\" font-weight=\"bold\" lengthAdjust=\"spacing\" textLength=\"126.125\" x=\"20\" y=\"20.9951\">DependencyTest</text></a></g><!--MD5=[e4f7fae6ed58524ba242bb0b0d3be6b7]\n",
       "cluster E2--><g id=\"cluster_E2\"><a href=\"psysml:da04b59d-3286-4d3f-bbc3-7e7bb49d7c5d\" target=\"_top\" title=\"psysml:da04b59d-3286-4d3f-bbc3-7e7bb49d7c5d\" xlink:actuate=\"onRequest\" xlink:href=\"psysml:da04b59d-3286-4d3f-bbc3-7e7bb49d7c5d\" xlink:show=\"new\" xlink:title=\"psysml:da04b59d-3286-4d3f-bbc3-7e7bb49d7c5d\" xlink:type=\"simple\"><polygon fill=\"none\" filter=\"url(#f7z0fqfuupi1o)\" points=\"271,120.72,330.625,120.72,337.625,143.0169,474,143.0169,474,500.72,271,500.72,271,120.72\" style=\"stroke:#000000;stroke-width:1.5;\"/><line style=\"stroke:#000000;stroke-width:1.5;\" x1=\"271\" x2=\"337.625\" y1=\"143.0169\" y2=\"143.0169\"/><text fill=\"#000000\" font-family=\"sans-serif\" font-size=\"14\" font-weight=\"bold\" lengthAdjust=\"spacing\" textLength=\"53.625\" x=\"275\" y=\"135.7151\">System</text></a></g><!--MD5=[60a26617385b1d2d0262a64233df1f8d]\n",
       "class E6--><a href=\"psysml:fa1eb9e1-3558-4ac6-ae6a-7c42660b9dca\" target=\"_top\" title=\"psysml:fa1eb9e1-3558-4ac6-ae6a-7c42660b9dca\" xlink:actuate=\"onRequest\" xlink:href=\"psysml:fa1eb9e1-3558-4ac6-ae6a-7c42660b9dca\" xlink:show=\"new\" xlink:title=\"psysml:fa1eb9e1-3558-4ac6-ae6a-7c42660b9dca\" xlink:type=\"simple\"><g id=\"elem_E6\"><rect fill=\"#FFFACD\" filter=\"url(#f7z0fqfuupi1o)\" height=\"48.2656\" id=\"E6\" rx=\"10\" ry=\"10\" style=\"stroke:#181818;stroke-width:0.5;\" width=\"71\" x=\"40.5\" y=\"296.22\"/><text fill=\"#000000\" font-family=\"sans-serif\" font-size=\"12\" font-style=\"italic\" lengthAdjust=\"spacing\" textLength=\"69\" x=\"41.5\" y=\"312.3587\">«attribute»</text><text fill=\"#000000\" font-family=\"sans-serif\" font-size=\"14\" lengthAdjust=\"spacing\" textLength=\"7\" x=\"68.5\" y=\"328.1839\">x</text><line style=\"stroke:#181818;stroke-width:0.5;\" x1=\"41.5\" x2=\"110.5\" y1=\"336.4856\" y2=\"336.4856\"/></g></a><!--MD5=[2156ba9850f5573cc1fc38a6a4b2f02b]\n",
       "class E7--><a href=\"psysml:a1db1b5d-0100-40b0-bd9f-2e7223fe2e6d\" target=\"_top\" title=\"psysml:a1db1b5d-0100-40b0-bd9f-2e7223fe2e6d\" xlink:actuate=\"onRequest\" xlink:href=\"psysml:a1db1b5d-0100-40b0-bd9f-2e7223fe2e6d\" xlink:show=\"new\" xlink:title=\"psysml:a1db1b5d-0100-40b0-bd9f-2e7223fe2e6d\" xlink:type=\"simple\"><g id=\"elem_E7\"><rect fill=\"#FFFACD\" filter=\"url(#f7z0fqfuupi1o)\" height=\"48.2656\" id=\"E7\" rx=\"10\" ry=\"10\" style=\"stroke:#181818;stroke-width:0.5;\" width=\"71\" x=\"146.5\" y=\"296.22\"/><text fill=\"#000000\" font-family=\"sans-serif\" font-size=\"12\" font-style=\"italic\" lengthAdjust=\"spacing\" textLength=\"69\" x=\"147.5\" y=\"312.3587\">«attribute»</text><text fill=\"#000000\" font-family=\"sans-serif\" font-size=\"14\" lengthAdjust=\"spacing\" textLength=\"7\" x=\"174.5\" y=\"328.1839\">y</text><line style=\"stroke:#181818;stroke-width:0.5;\" x1=\"147.5\" x2=\"216.5\" y1=\"336.4856\" y2=\"336.4856\"/></g></a><!--MD5=[b9389687b975829384b498ac4b7476b2]\n",
       "class E8--><a href=\"psysml:179fcb88-b86f-4c8c-8d3f-0f88ad709e86\" target=\"_top\" title=\"psysml:179fcb88-b86f-4c8c-8d3f-0f88ad709e86\" xlink:actuate=\"onRequest\" xlink:href=\"psysml:179fcb88-b86f-4c8c-8d3f-0f88ad709e86\" xlink:show=\"new\" xlink:title=\"psysml:179fcb88-b86f-4c8c-8d3f-0f88ad709e86\" xlink:type=\"simple\"><g id=\"elem_E8\"><rect fill=\"#FFFACD\" filter=\"url(#f7z0fqfuupi1o)\" height=\"48.2656\" id=\"E8\" rx=\"10\" ry=\"10\" style=\"stroke:#181818;stroke-width:0.5;\" width=\"71\" x=\"92.5\" y=\"166.22\"/><text fill=\"#000000\" font-family=\"sans-serif\" font-size=\"12\" font-style=\"italic\" lengthAdjust=\"spacing\" textLength=\"69\" x=\"93.5\" y=\"182.3587\">«attribute»</text><text fill=\"#000000\" font-family=\"sans-serif\" font-size=\"14\" lengthAdjust=\"spacing\" textLength=\"8\" x=\"120\" y=\"198.1839\">z</text><line style=\"stroke:#181818;stroke-width:0.5;\" x1=\"93.5\" x2=\"162.5\" y1=\"206.4856\" y2=\"206.4856\"/></g></a><a href=\"psysml:174d7b64-e31a-4a54-99c4-d88bb0afa8af\" target=\"_top\" title=\"psysml:174d7b64-e31a-4a54-99c4-d88bb0afa8af\" xlink:actuate=\"onRequest\" xlink:href=\"psysml:174d7b64-e31a-4a54-99c4-d88bb0afa8af\" xlink:show=\"new\" xlink:title=\"psysml:174d7b64-e31a-4a54-99c4-d88bb0afa8af\" xlink:type=\"simple\"><polygon fill=\"#FFFACD\" filter=\"url(#f7z0fqfuupi1o)\" points=\"314.5,163.72,435.5,163.72,442.5,186.0169,449.5,186.0169,449.5,216.3138,314.5,216.3138,314.5,163.72\" style=\"stroke:#181818;stroke-width:0.5;\"/><line style=\"stroke:#181818;stroke-width:0.5;\" x1=\"314.5\" x2=\"442.5\" y1=\"186.0169\" y2=\"186.0169\"/><text fill=\"#000000\" font-family=\"sans-serif\" font-size=\"14\" lengthAdjust=\"spacing\" textLength=\"115\" x=\"318.5\" y=\"178.7151\">Application Layer</text></a><a href=\"psysml:6cc47e98-b8e7-4ff0-90aa-a6e12ea2ee54\" target=\"_top\" title=\"psysml:6cc47e98-b8e7-4ff0-90aa-a6e12ea2ee54\" xlink:actuate=\"onRequest\" xlink:href=\"psysml:6cc47e98-b8e7-4ff0-90aa-a6e12ea2ee54\" xlink:show=\"new\" xlink:title=\"psysml:6cc47e98-b8e7-4ff0-90aa-a6e12ea2ee54\" xlink:type=\"simple\"><polygon fill=\"#FFFACD\" filter=\"url(#f7z0fqfuupi1o)\" points=\"327,293.72,423,293.72,430,316.0169,437,316.0169,437,346.3138,327,346.3138,327,293.72\" style=\"stroke:#181818;stroke-width:0.5;\"/><line style=\"stroke:#181818;stroke-width:0.5;\" x1=\"327\" x2=\"430\" y1=\"316.0169\" y2=\"316.0169\"/><text fill=\"#000000\" font-family=\"sans-serif\" font-size=\"14\" lengthAdjust=\"spacing\" textLength=\"90\" x=\"331\" y=\"308.7151\">Service Layer</text></a><a href=\"psysml:a41e95d1-6586-47c5-87a0-a52adaa3773e\" target=\"_top\" title=\"psysml:a41e95d1-6586-47c5-87a0-a52adaa3773e\" xlink:actuate=\"onRequest\" xlink:href=\"psysml:a41e95d1-6586-47c5-87a0-a52adaa3773e\" xlink:show=\"new\" xlink:title=\"psysml:a41e95d1-6586-47c5-87a0-a52adaa3773e\" xlink:type=\"simple\"><polygon fill=\"#FFFACD\" filter=\"url(#f7z0fqfuupi1o)\" points=\"336,423.72,414,423.72,421,446.0169,428,446.0169,428,476.3138,336,476.3138,336,423.72\" style=\"stroke:#181818;stroke-width:0.5;\"/><line style=\"stroke:#181818;stroke-width:0.5;\" x1=\"336\" x2=\"421\" y1=\"446.0169\" y2=\"446.0169\"/><text fill=\"#000000\" font-family=\"sans-serif\" font-size=\"14\" lengthAdjust=\"spacing\" textLength=\"72\" x=\"340\" y=\"438.7151\">Data Layer</text></a><!--MD5=[1f1cd8e6dd4c1b2ca2aaccc9b9bcea6e]\n",
       "link E1 to E2--><g id=\"link_E1_E2\"><a href=\"psysml:98ffbcea-2ad0-443f-b206-57004efde221\" target=\"_top\" title=\"psysml:98ffbcea-2ad0-443f-b206-57004efde221\" xlink:actuate=\"onRequest\" xlink:href=\"psysml:98ffbcea-2ad0-443f-b206-57004efde221\" xlink:show=\"new\" xlink:title=\"psysml:98ffbcea-2ad0-443f-b206-57004efde221\" xlink:type=\"simple\"><path d=\"M279,33.83 C279,36.15 279,73.83 279,111.5 C279,113.8544 279,116.2087 279,118.5544 C279,119.1408 279,119.7267 279,120.3119 \" fill=\"none\" id=\"E1-to-E2\" style=\"stroke:#181818;stroke-width:1.0;stroke-dasharray:7.0,7.0;\"/><polygon fill=\"#181818\" points=\"279,120.3119,283,111.3119,279,115.3119,275,111.3119,279,120.3119\" style=\"stroke:#181818;stroke-width:1.0;\"/><text fill=\"#000000\" font-family=\"sans-serif\" font-size=\"13\" lengthAdjust=\"spacing\" textLength=\"65\" x=\"280\" y=\"76.7869\">«import»*</text></a></g><!--MD5=[af87c684e3b0d8be13c1a698a818ef1e]\n",
       "link E3 to E4--><g id=\"link_E3_E4\"><a href=\"psysml:94e1a3f7-50a9-4c8e-a4e8-5ce452ddfecf\" target=\"_top\" title=\"psysml:94e1a3f7-50a9-4c8e-a4e8-5ce452ddfecf\" xlink:actuate=\"onRequest\" xlink:href=\"psysml:94e1a3f7-50a9-4c8e-a4e8-5ce452ddfecf\" xlink:show=\"new\" xlink:title=\"psysml:94e1a3f7-50a9-4c8e-a4e8-5ce452ddfecf\" xlink:type=\"simple\"><path d=\"M382,216.82 C382,236.52 382,263.94 382,285.45 \" fill=\"none\" id=\"E3-to-E4\" style=\"stroke:#181818;stroke-width:1.0;stroke-dasharray:7.0,7.0;\"/><polygon fill=\"#181818\" points=\"382,293.67,385,285.67,379,285.67,382,293.67\" style=\"stroke:#181818;stroke-width:1.0;\"/><text fill=\"#000000\" font-family=\"sans-serif\" font-size=\"13\" lengthAdjust=\"spacing\" textLength=\"64\" x=\"383\" y=\"259.7869\">«depend»</text></a></g><!--MD5=[1b7591eae5389033d8d09a9d6721a717]\n",
       "link E4 to E5--><g id=\"link_E4_E5\"><a href=\"psysml:9da5c160-44e8-44ec-9936-ca4a4075f5f4\" target=\"_top\" title=\"psysml:9da5c160-44e8-44ec-9936-ca4a4075f5f4\" xlink:actuate=\"onRequest\" xlink:href=\"psysml:9da5c160-44e8-44ec-9936-ca4a4075f5f4\" xlink:show=\"new\" xlink:title=\"psysml:9da5c160-44e8-44ec-9936-ca4a4075f5f4\" xlink:type=\"simple\"><path d=\"M382,346.82 C382,366.52 382,393.94 382,415.45 \" fill=\"none\" id=\"E4-to-E5\" style=\"stroke:#181818;stroke-width:1.0;stroke-dasharray:7.0,7.0;\"/><polygon fill=\"#181818\" points=\"382,423.67,385,415.67,379,415.67,382,423.67\" style=\"stroke:#181818;stroke-width:1.0;\"/><text fill=\"#000000\" font-family=\"sans-serif\" font-size=\"13\" lengthAdjust=\"spacing\" textLength=\"64\" x=\"383\" y=\"389.7869\">«depend»</text></a></g><!--MD5=[c5e8897d989ce984f93528998a7150fe]\n",
       "link E8 to E6--><g id=\"link_E8_E6\"><a href=\"psysml:cc6cc763-fa59-42bd-a700-018e736c1371\" target=\"_top\" title=\"psysml:cc6cc763-fa59-42bd-a700-018e736c1371\" xlink:actuate=\"onRequest\" xlink:href=\"psysml:cc6cc763-fa59-42bd-a700-018e736c1371\" xlink:show=\"new\" xlink:title=\"psysml:cc6cc763-fa59-42bd-a700-018e736c1371\" xlink:type=\"simple\"><path d=\"M96.23,214.4 C86.58,223.3 77.16,234.34 72,246.72 C66.62,259.63 66.65,274.97 68.42,288.21 \" fill=\"none\" id=\"E8-to-E6\" style=\"stroke:#181818;stroke-width:1.0;stroke-dasharray:7.0,7.0;\"/><polygon fill=\"#181818\" points=\"69.71,296.14,71.386,287.762,65.4639,288.7258,69.71,296.14\" style=\"stroke:#181818;stroke-width:1.0;\"/><text fill=\"#000000\" font-family=\"sans-serif\" font-size=\"13\" lengthAdjust=\"spacing\" textLength=\"64\" x=\"73\" y=\"259.7869\">«depend»</text></a></g><!--MD5=[bfa3c8b0d15052fdf50ae9310b491027]\n",
       "link E8 to E7--><g id=\"link_E8_E7\"><a href=\"psysml:cc6cc763-fa59-42bd-a700-018e736c1371\" target=\"_top\" title=\"psysml:cc6cc763-fa59-42bd-a700-018e736c1371\" xlink:actuate=\"onRequest\" xlink:href=\"psysml:cc6cc763-fa59-42bd-a700-018e736c1371\" xlink:show=\"new\" xlink:title=\"psysml:cc6cc763-fa59-42bd-a700-018e736c1371\" xlink:type=\"simple\"><path d=\"M137.78,214.4 C146.57,235.24 159.55,266 169.17,288.81 \" fill=\"none\" id=\"E8-to-E7\" style=\"stroke:#181818;stroke-width:1.0;stroke-dasharray:7.0,7.0;\"/><polygon fill=\"#181818\" points=\"172.29,296.21,171.9401,287.6732,166.4131,290.0082,172.29,296.21\" style=\"stroke:#181818;stroke-width:1.0;\"/><text fill=\"#000000\" font-family=\"sans-serif\" font-size=\"13\" lengthAdjust=\"spacing\" textLength=\"64\" x=\"159\" y=\"259.7869\">«depend»</text></a></g><!--MD5=[c4c6bb446bb97b03d1dabb90af6c2b2e]\n",
       "@startuml\r\n",
       "skin sysmlc\r\n",
       "skinparam wrapWidth 300\r\n",
       "hide circle\r\n",
       "\r\n",
       "package \"DependencyTest\" as E1  [[psysml:7dee102c-3f89-42b9-9919-3eaa1d7109e5 ]]  {\r\n",
       "package \"System\" as E2  [[psysml:da04b59d-3286-4d3f-bbc3-7e7bb49d7c5d ]]  {\r\n",
       "package \"Application Layer\" as E3  [[psysml:174d7b64-e31a-4a54-99c4-d88bb0afa8af ]]  {\r\n",
       "}\r\n",
       "package \"Service Layer\" as E4  [[psysml:6cc47e98-b8e7-4ff0-90aa-a6e12ea2ee54 ]]  {\r\n",
       "}\r\n",
       "package \"Data Layer\" as E5  [[psysml:a41e95d1-6586-47c5-87a0-a52adaa3773e ]]  {\r\n",
       "}\r\n",
       "}\r\n",
       "comp usage \"x  \" as E6  <<(T,blue) attribute>> [[psysml:fa1eb9e1-3558-4ac6-ae6a-7c42660b9dca ]] {\r\n",
       "}\r\n",
       "comp usage \"y  \" as E7  <<(T,blue) attribute>> [[psysml:a1db1b5d-0100-40b0-bd9f-2e7223fe2e6d ]] {\r\n",
       "}\r\n",
       "comp usage \"z  \" as E8  <<(T,blue) attribute>> [[psysml:179fcb88-b86f-4c8c-8d3f-0f88ad709e86 ]] {\r\n",
       "}\r\n",
       "}\r\n",
       "E1 ..> E2 [[psysml:98ffbcea-2ad0-443f-b206-57004efde221 ]] : <<import>>*\r\n",
       "E3 ..>> E4 [[psysml:94e1a3f7-50a9-4c8e-a4e8-5ce452ddfecf ]] : <<depend>>\r\n",
       "E4 ..>> E5 [[psysml:9da5c160-44e8-44ec-9936-ca4a4075f5f4 ]] : <<depend>>\r\n",
       "E8 ..>> E6 [[psysml:cc6cc763-fa59-42bd-a700-018e736c1371 ]] : <<depend>>\r\n",
       "E8 ..>> E7 [[psysml:cc6cc763-fa59-42bd-a700-018e736c1371 ]] : <<depend>>\r\n",
       "@enduml\r\n",
       "\n",
       "PlantUML version 1.2022.7(Mon Aug 22 17:01:30 UTC 2022)\n",
       "(EPL source distribution)\n",
       "Java Runtime: OpenJDK Runtime Environment\n",
       "JVM: OpenJDK 64-Bit Server VM\n",
       "Default Encoding: UTF-8\n",
       "Language: en\n",
       "Country: null\n",
       "--></g></svg>"
      ]
     },
     "execution_count": 24,
     "metadata": {},
     "output_type": "execute_result"
    }
   ],
   "source": [
    "%viz --style=\"STDCOLOR\" --view=\"Tree\" \"DependencyTest\""
   ]
  },
  {
   "cell_type": "code",
   "execution_count": 25,
   "id": "a1cc7748",
   "metadata": {
    "execution": {
     "iopub.execute_input": "2024-12-16T03:27:31.398617Z",
     "iopub.status.busy": "2024-12-16T03:27:31.398382Z",
     "iopub.status.idle": "2024-12-16T03:27:31.403163Z",
     "shell.execute_reply": "2024-12-16T03:27:31.402966Z"
    }
   },
   "outputs": [
    {
     "data": {
      "image/svg+xml": [
       "<?xml version=\"1.0\" encoding=\"UTF-8\" standalone=\"no\"?><svg xmlns=\"http://www.w3.org/2000/svg\" xmlns:xlink=\"http://www.w3.org/1999/xlink\" contentStyleType=\"text/css\" height=\"10px\" preserveAspectRatio=\"none\" style=\"width:10px;height:10px;background:#FFFFFF;\" version=\"1.1\" viewBox=\"0 0 10 10\" width=\"10px\" zoomAndPan=\"magnify\"><defs/><g><!--MD5=[a1048f16c75022af837d4b7065e6f600]\n",
       "@startuml\r\n",
       "skin sysmlc\r\n",
       "skinparam wrapWidth 300\r\n",
       "hide circle\r\n",
       "\r\n",
       "@enduml\r\n",
       "\n",
       "PlantUML version 1.2022.7(Mon Aug 22 17:01:30 UTC 2022)\n",
       "(EPL source distribution)\n",
       "Java Runtime: OpenJDK Runtime Environment\n",
       "JVM: OpenJDK 64-Bit Server VM\n",
       "Default Encoding: UTF-8\n",
       "Language: en\n",
       "Country: null\n",
       "--></g></svg>"
      ]
     },
     "execution_count": 25,
     "metadata": {},
     "output_type": "execute_result"
    }
   ],
   "source": [
    "%viz --style=\"STDCOLOR\" --view=\"State\" \"DependencyTest\""
   ]
  },
  {
   "cell_type": "code",
   "execution_count": 26,
   "id": "cc4097c9",
   "metadata": {
    "execution": {
     "iopub.execute_input": "2024-12-16T03:27:31.457239Z",
     "iopub.status.busy": "2024-12-16T03:27:31.457022Z",
     "iopub.status.idle": "2024-12-16T03:27:31.478049Z",
     "shell.execute_reply": "2024-12-16T03:27:31.476952Z"
    }
   },
   "outputs": [
    {
     "data": {
      "image/svg+xml": [
       "<?xml version=\"1.0\" encoding=\"UTF-8\" standalone=\"no\"?><svg xmlns=\"http://www.w3.org/2000/svg\" xmlns:xlink=\"http://www.w3.org/1999/xlink\" contentStyleType=\"text/css\" height=\"437px\" preserveAspectRatio=\"none\" style=\"width:531px;height:437px;background:#FFFFFF;\" version=\"1.1\" viewBox=\"0 0 531 437\" width=\"531px\" zoomAndPan=\"magnify\"><defs><filter height=\"300%\" id=\"fl7aosyj7a7jj\" width=\"300%\" x=\"-1\" y=\"-1\"><feGaussianBlur result=\"blurOut\" stdDeviation=\"2.0\"/><feColorMatrix in=\"blurOut\" result=\"blurOut2\" type=\"matrix\" values=\"0 0 0 0 0 0 0 0 0 0 0 0 0 0 0 0 0 0 .4 0\"/><feOffset dx=\"4.0\" dy=\"4.0\" in=\"blurOut2\" result=\"blurOut3\"/><feBlend in=\"SourceGraphic\" in2=\"blurOut3\" mode=\"normal\"/></filter></defs><g><!--MD5=[fbc87193dbaf4d95561dea2c320d4a47]\n",
       "cluster E1--><g id=\"cluster_E1\"><a href=\"psysml:7dee102c-3f89-42b9-9919-3eaa1d7109e5\" target=\"_top\" title=\"psysml:7dee102c-3f89-42b9-9919-3eaa1d7109e5\" xlink:actuate=\"onRequest\" xlink:href=\"psysml:7dee102c-3f89-42b9-9919-3eaa1d7109e5\" xlink:show=\"new\" xlink:title=\"psysml:7dee102c-3f89-42b9-9919-3eaa1d7109e5\" xlink:type=\"simple\"><polygon fill=\"none\" filter=\"url(#fl7aosyj7a7jj)\" points=\"16,6,148.125,6,155.125,28.2969,514,28.2969,514,430.72,16,430.72,16,6\" style=\"stroke:#000000;stroke-width:1.5;\"/><line style=\"stroke:#000000;stroke-width:1.5;\" x1=\"16\" x2=\"155.125\" y1=\"28.2969\" y2=\"28.2969\"/><text fill=\"#000000\" font-family=\"sans-serif\" font-size=\"14\" font-weight=\"bold\" lengthAdjust=\"spacing\" textLength=\"126.125\" x=\"20\" y=\"20.9951\">DependencyTest</text></a></g><!--MD5=[e4f7fae6ed58524ba242bb0b0d3be6b7]\n",
       "cluster E2--><g id=\"cluster_E2\"><a href=\"psysml:da04b59d-3286-4d3f-bbc3-7e7bb49d7c5d\" target=\"_top\" title=\"psysml:da04b59d-3286-4d3f-bbc3-7e7bb49d7c5d\" xlink:actuate=\"onRequest\" xlink:href=\"psysml:da04b59d-3286-4d3f-bbc3-7e7bb49d7c5d\" xlink:show=\"new\" xlink:title=\"psysml:da04b59d-3286-4d3f-bbc3-7e7bb49d7c5d\" xlink:type=\"simple\"><polygon fill=\"none\" filter=\"url(#fl7aosyj7a7jj)\" points=\"271,98.72,330.625,98.72,337.625,121.0169,474,121.0169,474,390.72,271,390.72,271,98.72\" style=\"stroke:#000000;stroke-width:1.5;\"/><line style=\"stroke:#000000;stroke-width:1.5;\" x1=\"271\" x2=\"337.625\" y1=\"121.0169\" y2=\"121.0169\"/><text fill=\"#000000\" font-family=\"sans-serif\" font-size=\"14\" font-weight=\"bold\" lengthAdjust=\"spacing\" textLength=\"53.625\" x=\"275\" y=\"113.7151\">System</text></a></g><!--MD5=[60a26617385b1d2d0262a64233df1f8d]\n",
       "class E6--><a href=\"psysml:fa1eb9e1-3558-4ac6-ae6a-7c42660b9dca\" target=\"_top\" title=\"psysml:fa1eb9e1-3558-4ac6-ae6a-7c42660b9dca\" xlink:actuate=\"onRequest\" xlink:href=\"psysml:fa1eb9e1-3558-4ac6-ae6a-7c42660b9dca\" xlink:show=\"new\" xlink:title=\"psysml:fa1eb9e1-3558-4ac6-ae6a-7c42660b9dca\" xlink:type=\"simple\"><g id=\"elem_E6\"><rect fill=\"#FFFACD\" filter=\"url(#fl7aosyj7a7jj)\" height=\"48.2656\" id=\"E6\" rx=\"10\" ry=\"10\" style=\"stroke:#181818;stroke-width:0.5;\" width=\"71\" x=\"40.5\" y=\"230.22\"/><text fill=\"#000000\" font-family=\"sans-serif\" font-size=\"12\" font-style=\"italic\" lengthAdjust=\"spacing\" textLength=\"69\" x=\"41.5\" y=\"246.3587\">«attribute»</text><text fill=\"#000000\" font-family=\"sans-serif\" font-size=\"14\" lengthAdjust=\"spacing\" textLength=\"7\" x=\"68.5\" y=\"262.1839\">x</text><line style=\"stroke:#181818;stroke-width:0.5;\" x1=\"41.5\" x2=\"110.5\" y1=\"270.4856\" y2=\"270.4856\"/></g></a><!--MD5=[2156ba9850f5573cc1fc38a6a4b2f02b]\n",
       "class E7--><a href=\"psysml:a1db1b5d-0100-40b0-bd9f-2e7223fe2e6d\" target=\"_top\" title=\"psysml:a1db1b5d-0100-40b0-bd9f-2e7223fe2e6d\" xlink:actuate=\"onRequest\" xlink:href=\"psysml:a1db1b5d-0100-40b0-bd9f-2e7223fe2e6d\" xlink:show=\"new\" xlink:title=\"psysml:a1db1b5d-0100-40b0-bd9f-2e7223fe2e6d\" xlink:type=\"simple\"><g id=\"elem_E7\"><rect fill=\"#FFFACD\" filter=\"url(#fl7aosyj7a7jj)\" height=\"48.2656\" id=\"E7\" rx=\"10\" ry=\"10\" style=\"stroke:#181818;stroke-width:0.5;\" width=\"71\" x=\"146.5\" y=\"230.22\"/><text fill=\"#000000\" font-family=\"sans-serif\" font-size=\"12\" font-style=\"italic\" lengthAdjust=\"spacing\" textLength=\"69\" x=\"147.5\" y=\"246.3587\">«attribute»</text><text fill=\"#000000\" font-family=\"sans-serif\" font-size=\"14\" lengthAdjust=\"spacing\" textLength=\"7\" x=\"174.5\" y=\"262.1839\">y</text><line style=\"stroke:#181818;stroke-width:0.5;\" x1=\"147.5\" x2=\"216.5\" y1=\"270.4856\" y2=\"270.4856\"/></g></a><!--MD5=[b9389687b975829384b498ac4b7476b2]\n",
       "class E8--><a href=\"psysml:179fcb88-b86f-4c8c-8d3f-0f88ad709e86\" target=\"_top\" title=\"psysml:179fcb88-b86f-4c8c-8d3f-0f88ad709e86\" xlink:actuate=\"onRequest\" xlink:href=\"psysml:179fcb88-b86f-4c8c-8d3f-0f88ad709e86\" xlink:show=\"new\" xlink:title=\"psysml:179fcb88-b86f-4c8c-8d3f-0f88ad709e86\" xlink:type=\"simple\"><g id=\"elem_E8\"><rect fill=\"#FFFACD\" filter=\"url(#fl7aosyj7a7jj)\" height=\"48.2656\" id=\"E8\" rx=\"10\" ry=\"10\" style=\"stroke:#181818;stroke-width:0.5;\" width=\"71\" x=\"92.5\" y=\"144.22\"/><text fill=\"#000000\" font-family=\"sans-serif\" font-size=\"12\" font-style=\"italic\" lengthAdjust=\"spacing\" textLength=\"69\" x=\"93.5\" y=\"160.3587\">«attribute»</text><text fill=\"#000000\" font-family=\"sans-serif\" font-size=\"14\" lengthAdjust=\"spacing\" textLength=\"8\" x=\"120\" y=\"176.1839\">z</text><line style=\"stroke:#181818;stroke-width:0.5;\" x1=\"93.5\" x2=\"162.5\" y1=\"184.4856\" y2=\"184.4856\"/></g></a><a href=\"psysml:174d7b64-e31a-4a54-99c4-d88bb0afa8af\" target=\"_top\" title=\"psysml:174d7b64-e31a-4a54-99c4-d88bb0afa8af\" xlink:actuate=\"onRequest\" xlink:href=\"psysml:174d7b64-e31a-4a54-99c4-d88bb0afa8af\" xlink:show=\"new\" xlink:title=\"psysml:174d7b64-e31a-4a54-99c4-d88bb0afa8af\" xlink:type=\"simple\"><polygon fill=\"#FFFACD\" filter=\"url(#fl7aosyj7a7jj)\" points=\"314.5,141.72,435.5,141.72,442.5,164.0169,449.5,164.0169,449.5,194.3138,314.5,194.3138,314.5,141.72\" style=\"stroke:#181818;stroke-width:0.5;\"/><line style=\"stroke:#181818;stroke-width:0.5;\" x1=\"314.5\" x2=\"442.5\" y1=\"164.0169\" y2=\"164.0169\"/><text fill=\"#000000\" font-family=\"sans-serif\" font-size=\"14\" lengthAdjust=\"spacing\" textLength=\"115\" x=\"318.5\" y=\"156.7151\">Application Layer</text></a><a href=\"psysml:6cc47e98-b8e7-4ff0-90aa-a6e12ea2ee54\" target=\"_top\" title=\"psysml:6cc47e98-b8e7-4ff0-90aa-a6e12ea2ee54\" xlink:actuate=\"onRequest\" xlink:href=\"psysml:6cc47e98-b8e7-4ff0-90aa-a6e12ea2ee54\" xlink:show=\"new\" xlink:title=\"psysml:6cc47e98-b8e7-4ff0-90aa-a6e12ea2ee54\" xlink:type=\"simple\"><polygon fill=\"#FFFACD\" filter=\"url(#fl7aosyj7a7jj)\" points=\"327,227.72,423,227.72,430,250.0169,437,250.0169,437,280.3138,327,280.3138,327,227.72\" style=\"stroke:#181818;stroke-width:0.5;\"/><line style=\"stroke:#181818;stroke-width:0.5;\" x1=\"327\" x2=\"430\" y1=\"250.0169\" y2=\"250.0169\"/><text fill=\"#000000\" font-family=\"sans-serif\" font-size=\"14\" lengthAdjust=\"spacing\" textLength=\"90\" x=\"331\" y=\"242.7151\">Service Layer</text></a><a href=\"psysml:a41e95d1-6586-47c5-87a0-a52adaa3773e\" target=\"_top\" title=\"psysml:a41e95d1-6586-47c5-87a0-a52adaa3773e\" xlink:actuate=\"onRequest\" xlink:href=\"psysml:a41e95d1-6586-47c5-87a0-a52adaa3773e\" xlink:show=\"new\" xlink:title=\"psysml:a41e95d1-6586-47c5-87a0-a52adaa3773e\" xlink:type=\"simple\"><polygon fill=\"#FFFACD\" filter=\"url(#fl7aosyj7a7jj)\" points=\"336,313.72,414,313.72,421,336.0169,428,336.0169,428,366.3138,336,366.3138,336,313.72\" style=\"stroke:#181818;stroke-width:0.5;\"/><line style=\"stroke:#181818;stroke-width:0.5;\" x1=\"336\" x2=\"421\" y1=\"336.0169\" y2=\"336.0169\"/><text fill=\"#000000\" font-family=\"sans-serif\" font-size=\"14\" lengthAdjust=\"spacing\" textLength=\"72\" x=\"340\" y=\"328.7151\">Data Layer</text></a><!--MD5=[1f1cd8e6dd4c1b2ca2aaccc9b9bcea6e]\n",
       "link E1 to E2--><g id=\"link_E1_E2\"><a href=\"psysml:98ffbcea-2ad0-443f-b206-57004efde221\" target=\"_top\" title=\"psysml:98ffbcea-2ad0-443f-b206-57004efde221\" xlink:actuate=\"onRequest\" xlink:href=\"psysml:98ffbcea-2ad0-443f-b206-57004efde221\" xlink:show=\"new\" xlink:title=\"psysml:98ffbcea-2ad0-443f-b206-57004efde221\" xlink:type=\"simple\"><path d=\"M279,33.82 C279,34.815 279,43.3994 279,55.7775 C279,61.9666 279,69.1041 279,76.7155 C279,80.5213 279,84.4455 279,88.429 C279,90.4207 279,92.4272 279,94.4411 C279,95.448 279,96.4568 279,97.4665 C279,97.719 279,97.9714 279,98.224 \" fill=\"none\" id=\"E1-to-E2\" style=\"stroke:#181818;stroke-width:1.0;stroke-dasharray:7.0,7.0;\"/><polygon fill=\"#181818\" points=\"279,98.224,283,89.224,279,93.224,275,89.224,279,98.224\" style=\"stroke:#181818;stroke-width:1.0;\"/><text fill=\"#000000\" font-family=\"sans-serif\" font-size=\"13\" lengthAdjust=\"spacing\" textLength=\"65\" x=\"280\" y=\"54.7869\">«import»*</text></a></g><!--MD5=[af87c684e3b0d8be13c1a698a818ef1e]\n",
       "link E3 to E4--><g id=\"link_E3_E4\"><a href=\"psysml:94e1a3f7-50a9-4c8e-a4e8-5ce452ddfecf\" target=\"_top\" title=\"psysml:94e1a3f7-50a9-4c8e-a4e8-5ce452ddfecf\" xlink:actuate=\"onRequest\" xlink:href=\"psysml:94e1a3f7-50a9-4c8e-a4e8-5ce452ddfecf\" xlink:show=\"new\" xlink:title=\"psysml:94e1a3f7-50a9-4c8e-a4e8-5ce452ddfecf\" xlink:type=\"simple\"><path d=\"M382,194.88 C382,202.7 382,211.41 382,219.66 \" fill=\"none\" id=\"E3-to-E4\" style=\"stroke:#181818;stroke-width:1.0;stroke-dasharray:7.0,7.0;\"/><polygon fill=\"#181818\" points=\"382,227.72,385,219.72,379,219.72,382,227.72\" style=\"stroke:#181818;stroke-width:1.0;\"/><text fill=\"#000000\" font-family=\"sans-serif\" font-size=\"13\" lengthAdjust=\"spacing\" textLength=\"64\" x=\"383\" y=\"215.7869\">«depend»</text></a></g><!--MD5=[1b7591eae5389033d8d09a9d6721a717]\n",
       "link E4 to E5--><g id=\"link_E4_E5\"><a href=\"psysml:9da5c160-44e8-44ec-9936-ca4a4075f5f4\" target=\"_top\" title=\"psysml:9da5c160-44e8-44ec-9936-ca4a4075f5f4\" xlink:actuate=\"onRequest\" xlink:href=\"psysml:9da5c160-44e8-44ec-9936-ca4a4075f5f4\" xlink:show=\"new\" xlink:title=\"psysml:9da5c160-44e8-44ec-9936-ca4a4075f5f4\" xlink:type=\"simple\"><path d=\"M382,280.88 C382,288.7 382,297.41 382,305.66 \" fill=\"none\" id=\"E4-to-E5\" style=\"stroke:#181818;stroke-width:1.0;stroke-dasharray:7.0,7.0;\"/><polygon fill=\"#181818\" points=\"382,313.72,385,305.72,379,305.72,382,313.72\" style=\"stroke:#181818;stroke-width:1.0;\"/><text fill=\"#000000\" font-family=\"sans-serif\" font-size=\"13\" lengthAdjust=\"spacing\" textLength=\"64\" x=\"383\" y=\"301.7869\">«depend»</text></a></g><!--MD5=[c5e8897d989ce984f93528998a7150fe]\n",
       "link E8 to E6--><g id=\"link_E8_E6\"><a href=\"psysml:cc6cc763-fa59-42bd-a700-018e736c1371\" target=\"_top\" title=\"psysml:cc6cc763-fa59-42bd-a700-018e736c1371\" xlink:actuate=\"onRequest\" xlink:href=\"psysml:cc6cc763-fa59-42bd-a700-018e736c1371\" xlink:show=\"new\" xlink:title=\"psysml:cc6cc763-fa59-42bd-a700-018e736c1371\" xlink:type=\"simple\"><path d=\"M92.49,183.06 C84.34,187.99 76.69,194.44 72,202.72 C68.74,208.48 67.74,215.21 67.95,221.85 \" fill=\"none\" id=\"E8-to-E6\" style=\"stroke:#181818;stroke-width:1.0;stroke-dasharray:7.0,7.0;\"/><polygon fill=\"#181818\" points=\"68.79,230.13,70.96,221.8662,64.9912,222.477,68.79,230.13\" style=\"stroke:#181818;stroke-width:1.0;\"/><text fill=\"#000000\" font-family=\"sans-serif\" font-size=\"13\" lengthAdjust=\"spacing\" textLength=\"64\" x=\"73\" y=\"215.7869\">«depend»</text></a></g><!--MD5=[bfa3c8b0d15052fdf50ae9310b491027]\n",
       "link E8 to E7--><g id=\"link_E8_E7\"><a href=\"psysml:cc6cc763-fa59-42bd-a700-018e736c1371\" target=\"_top\" title=\"psysml:cc6cc763-fa59-42bd-a700-018e736c1371\" xlink:actuate=\"onRequest\" xlink:href=\"psysml:cc6cc763-fa59-42bd-a700-018e736c1371\" xlink:show=\"new\" xlink:title=\"psysml:cc6cc763-fa59-42bd-a700-018e736c1371\" xlink:type=\"simple\"><path d=\"M143.04,192.62 C149.13,202.08 156.23,213.13 162.69,223.18 \" fill=\"none\" id=\"E8-to-E7\" style=\"stroke:#181818;stroke-width:1.0;stroke-dasharray:7.0,7.0;\"/><polygon fill=\"#181818\" points=\"167.04,229.95,165.2348,221.5989,160.1888,224.845,167.04,229.95\" style=\"stroke:#181818;stroke-width:1.0;\"/><text fill=\"#000000\" font-family=\"sans-serif\" font-size=\"13\" lengthAdjust=\"spacing\" textLength=\"64\" x=\"160\" y=\"215.7869\">«depend»</text></a></g><!--MD5=[c19057650491df320c81375c0f591f2f]\n",
       "@startuml\r\n",
       "skin sysmlc\r\n",
       "skinparam wrapWidth 300\r\n",
       "hide circle\r\n",
       "skinparam ranksep 10\r\n",
       "skinparam rectangle {\r\n",
       " backgroundColor<<block>> LightGreen\r\n",
       "}\r\n",
       "\r\n",
       "package \"DependencyTest\" as E1  [[psysml:7dee102c-3f89-42b9-9919-3eaa1d7109e5 ]]  {\r\n",
       "package \"System\" as E2  [[psysml:da04b59d-3286-4d3f-bbc3-7e7bb49d7c5d ]]  {\r\n",
       "package \"Application Layer\" as E3  [[psysml:174d7b64-e31a-4a54-99c4-d88bb0afa8af ]]  {\r\n",
       "}\r\n",
       "package \"Service Layer\" as E4  [[psysml:6cc47e98-b8e7-4ff0-90aa-a6e12ea2ee54 ]]  {\r\n",
       "}\r\n",
       "package \"Data Layer\" as E5  [[psysml:a41e95d1-6586-47c5-87a0-a52adaa3773e ]]  {\r\n",
       "}\r\n",
       "}\r\n",
       "comp usage \"x  \" as E6  <<(T,blue) attribute>> [[psysml:fa1eb9e1-3558-4ac6-ae6a-7c42660b9dca ]] {\r\n",
       "}\r\n",
       "comp usage \"y  \" as E7  <<(T,blue) attribute>> [[psysml:a1db1b5d-0100-40b0-bd9f-2e7223fe2e6d ]] {\r\n",
       "}\r\n",
       "comp usage \"z  \" as E8  <<(T,blue) attribute>> [[psysml:179fcb88-b86f-4c8c-8d3f-0f88ad709e86 ]] {\r\n",
       "}\r\n",
       "}\r\n",
       "E1 ..> E2 [[psysml:98ffbcea-2ad0-443f-b206-57004efde221 ]] : <<import>>*\r\n",
       "E3 ..>> E4 [[psysml:94e1a3f7-50a9-4c8e-a4e8-5ce452ddfecf ]] : <<depend>>\r\n",
       "E4 ..>> E5 [[psysml:9da5c160-44e8-44ec-9936-ca4a4075f5f4 ]] : <<depend>>\r\n",
       "E8 ..>> E6 [[psysml:cc6cc763-fa59-42bd-a700-018e736c1371 ]] : <<depend>>\r\n",
       "E8 ..>> E7 [[psysml:cc6cc763-fa59-42bd-a700-018e736c1371 ]] : <<depend>>\r\n",
       "@enduml\r\n",
       "\n",
       "PlantUML version 1.2022.7(Mon Aug 22 17:01:30 UTC 2022)\n",
       "(EPL source distribution)\n",
       "Java Runtime: OpenJDK Runtime Environment\n",
       "JVM: OpenJDK 64-Bit Server VM\n",
       "Default Encoding: UTF-8\n",
       "Language: en\n",
       "Country: null\n",
       "--></g></svg>"
      ]
     },
     "execution_count": 26,
     "metadata": {},
     "output_type": "execute_result"
    }
   ],
   "source": [
    "%viz --style=\"STDCOLOR\" --view=\"Interconnection\" \"DependencyTest\""
   ]
  },
  {
   "cell_type": "code",
   "execution_count": 27,
   "id": "7daf040b",
   "metadata": {
    "execution": {
     "iopub.execute_input": "2024-12-16T03:27:31.530987Z",
     "iopub.status.busy": "2024-12-16T03:27:31.530756Z",
     "iopub.status.idle": "2024-12-16T03:27:31.536211Z",
     "shell.execute_reply": "2024-12-16T03:27:31.536032Z"
    }
   },
   "outputs": [
    {
     "data": {
      "image/svg+xml": [
       "<?xml version=\"1.0\" encoding=\"UTF-8\" standalone=\"no\"?><svg xmlns=\"http://www.w3.org/2000/svg\" xmlns:xlink=\"http://www.w3.org/1999/xlink\" contentStyleType=\"text/css\" height=\"10px\" preserveAspectRatio=\"none\" style=\"width:10px;height:10px;background:#FFFFFF;\" version=\"1.1\" viewBox=\"0 0 10 10\" width=\"10px\" zoomAndPan=\"magnify\"><defs/><g><!--MD5=[f1e15a62785563bad28e840d677c8e75]\n",
       "@startuml\r\n",
       "skin sysmlc\r\n",
       "skinparam wrapWidth 300\r\n",
       "hide circle\r\n",
       "skinparam ranksep 8\r\n",
       "\r\n",
       "@enduml\r\n",
       "\n",
       "PlantUML version 1.2022.7(Mon Aug 22 17:01:30 UTC 2022)\n",
       "(EPL source distribution)\n",
       "Java Runtime: OpenJDK Runtime Environment\n",
       "JVM: OpenJDK 64-Bit Server VM\n",
       "Default Encoding: UTF-8\n",
       "Language: en\n",
       "Country: null\n",
       "--></g></svg>"
      ]
     },
     "execution_count": 27,
     "metadata": {},
     "output_type": "execute_result"
    }
   ],
   "source": [
    "%viz --style=\"STDCOLOR\" --view=\"Action\" \"DependencyTest\""
   ]
  },
  {
   "cell_type": "code",
   "execution_count": 28,
   "id": "8822b5b4",
   "metadata": {
    "execution": {
     "iopub.execute_input": "2024-12-16T03:27:31.587961Z",
     "iopub.status.busy": "2024-12-16T03:27:31.587752Z",
     "iopub.status.idle": "2024-12-16T03:27:31.593759Z",
     "shell.execute_reply": "2024-12-16T03:27:31.593592Z"
    }
   },
   "outputs": [
    {
     "data": {
      "image/svg+xml": [
       "<?xml version=\"1.0\" encoding=\"UTF-8\" standalone=\"no\"?><svg xmlns=\"http://www.w3.org/2000/svg\" xmlns:xlink=\"http://www.w3.org/1999/xlink\" contentStyleType=\"text/css\" height=\"10px\" preserveAspectRatio=\"none\" style=\"width:10px;height:10px;background:#FFFFFF;\" version=\"1.1\" viewBox=\"0 0 10 10\" width=\"10px\" zoomAndPan=\"magnify\"><defs/><g><!--MD5=[e54413e611bf323face5c486cd3a32bb]\n",
       "@startuml\r\n",
       "skin sysmlc\r\n",
       "skinparam wrapWidth 300\r\n",
       "hide circle\r\n",
       "skinparam roundcorner 20\r\n",
       "skinparam BoxPadding 20\r\n",
       "skinparam SequenceBoxBackgroundColor #white\r\n",
       "skinparam style strictuml\r\n",
       "skinparam maxMessageSize 100\r\n",
       "\r\n",
       "@enduml\r\n",
       "\n",
       "PlantUML version 1.2022.7(Mon Aug 22 17:01:30 UTC 2022)\n",
       "(EPL source distribution)\n",
       "Java Runtime: OpenJDK Runtime Environment\n",
       "JVM: OpenJDK 64-Bit Server VM\n",
       "Default Encoding: UTF-8\n",
       "Language: en\n",
       "Country: null\n",
       "--></g></svg>"
      ]
     },
     "execution_count": 28,
     "metadata": {},
     "output_type": "execute_result"
    }
   ],
   "source": [
    "%viz --style=\"STDCOLOR\" --view=\"Sequence\" \"DependencyTest\""
   ]
  },
  {
   "cell_type": "code",
   "execution_count": 29,
   "id": "1096fbbb",
   "metadata": {
    "execution": {
     "iopub.execute_input": "2024-12-16T03:27:31.646536Z",
     "iopub.status.busy": "2024-12-16T03:27:31.646342Z",
     "iopub.status.idle": "2024-12-16T03:27:31.665766Z",
     "shell.execute_reply": "2024-12-16T03:27:31.664955Z"
    }
   },
   "outputs": [
    {
     "data": {
      "image/svg+xml": [
       "<?xml version=\"1.0\" encoding=\"UTF-8\" standalone=\"no\"?><svg xmlns=\"http://www.w3.org/2000/svg\" xmlns:xlink=\"http://www.w3.org/1999/xlink\" contentStyleType=\"text/css\" height=\"547px\" preserveAspectRatio=\"none\" style=\"width:531px;height:547px;background:#FFFFFF;\" version=\"1.1\" viewBox=\"0 0 531 547\" width=\"531px\" zoomAndPan=\"magnify\"><defs><filter height=\"300%\" id=\"f7z0fqfuupi1o\" width=\"300%\" x=\"-1\" y=\"-1\"><feGaussianBlur result=\"blurOut\" stdDeviation=\"2.0\"/><feColorMatrix in=\"blurOut\" result=\"blurOut2\" type=\"matrix\" values=\"0 0 0 0 0 0 0 0 0 0 0 0 0 0 0 0 0 0 .4 0\"/><feOffset dx=\"4.0\" dy=\"4.0\" in=\"blurOut2\" result=\"blurOut3\"/><feBlend in=\"SourceGraphic\" in2=\"blurOut3\" mode=\"normal\"/></filter></defs><g><!--MD5=[fbc87193dbaf4d95561dea2c320d4a47]\n",
       "cluster E1--><g id=\"cluster_E1\"><a href=\"psysml:7dee102c-3f89-42b9-9919-3eaa1d7109e5\" target=\"_top\" title=\"psysml:7dee102c-3f89-42b9-9919-3eaa1d7109e5\" xlink:actuate=\"onRequest\" xlink:href=\"psysml:7dee102c-3f89-42b9-9919-3eaa1d7109e5\" xlink:show=\"new\" xlink:title=\"psysml:7dee102c-3f89-42b9-9919-3eaa1d7109e5\" xlink:type=\"simple\"><polygon fill=\"none\" filter=\"url(#f7z0fqfuupi1o)\" points=\"16,6,148.125,6,155.125,28.2969,514,28.2969,514,540.72,16,540.72,16,6\" style=\"stroke:#000000;stroke-width:1.5;\"/><line style=\"stroke:#000000;stroke-width:1.5;\" x1=\"16\" x2=\"155.125\" y1=\"28.2969\" y2=\"28.2969\"/><text fill=\"#000000\" font-family=\"sans-serif\" font-size=\"14\" font-weight=\"bold\" lengthAdjust=\"spacing\" textLength=\"126.125\" x=\"20\" y=\"20.9951\">DependencyTest</text></a></g><!--MD5=[e4f7fae6ed58524ba242bb0b0d3be6b7]\n",
       "cluster E2--><g id=\"cluster_E2\"><a href=\"psysml:da04b59d-3286-4d3f-bbc3-7e7bb49d7c5d\" target=\"_top\" title=\"psysml:da04b59d-3286-4d3f-bbc3-7e7bb49d7c5d\" xlink:actuate=\"onRequest\" xlink:href=\"psysml:da04b59d-3286-4d3f-bbc3-7e7bb49d7c5d\" xlink:show=\"new\" xlink:title=\"psysml:da04b59d-3286-4d3f-bbc3-7e7bb49d7c5d\" xlink:type=\"simple\"><polygon fill=\"none\" filter=\"url(#f7z0fqfuupi1o)\" points=\"271,120.72,330.625,120.72,337.625,143.0169,474,143.0169,474,500.72,271,500.72,271,120.72\" style=\"stroke:#000000;stroke-width:1.5;\"/><line style=\"stroke:#000000;stroke-width:1.5;\" x1=\"271\" x2=\"337.625\" y1=\"143.0169\" y2=\"143.0169\"/><text fill=\"#000000\" font-family=\"sans-serif\" font-size=\"14\" font-weight=\"bold\" lengthAdjust=\"spacing\" textLength=\"53.625\" x=\"275\" y=\"135.7151\">System</text></a></g><!--MD5=[60a26617385b1d2d0262a64233df1f8d]\n",
       "class E6--><a href=\"psysml:fa1eb9e1-3558-4ac6-ae6a-7c42660b9dca\" target=\"_top\" title=\"psysml:fa1eb9e1-3558-4ac6-ae6a-7c42660b9dca\" xlink:actuate=\"onRequest\" xlink:href=\"psysml:fa1eb9e1-3558-4ac6-ae6a-7c42660b9dca\" xlink:show=\"new\" xlink:title=\"psysml:fa1eb9e1-3558-4ac6-ae6a-7c42660b9dca\" xlink:type=\"simple\"><g id=\"elem_E6\"><rect fill=\"#FFFACD\" filter=\"url(#f7z0fqfuupi1o)\" height=\"48.2656\" id=\"E6\" rx=\"10\" ry=\"10\" style=\"stroke:#181818;stroke-width:0.5;\" width=\"71\" x=\"40.5\" y=\"296.22\"/><text fill=\"#000000\" font-family=\"sans-serif\" font-size=\"12\" font-style=\"italic\" lengthAdjust=\"spacing\" textLength=\"69\" x=\"41.5\" y=\"312.3587\">«attribute»</text><text fill=\"#000000\" font-family=\"sans-serif\" font-size=\"14\" lengthAdjust=\"spacing\" textLength=\"7\" x=\"68.5\" y=\"328.1839\">x</text><line style=\"stroke:#181818;stroke-width:0.5;\" x1=\"41.5\" x2=\"110.5\" y1=\"336.4856\" y2=\"336.4856\"/></g></a><!--MD5=[2156ba9850f5573cc1fc38a6a4b2f02b]\n",
       "class E7--><a href=\"psysml:a1db1b5d-0100-40b0-bd9f-2e7223fe2e6d\" target=\"_top\" title=\"psysml:a1db1b5d-0100-40b0-bd9f-2e7223fe2e6d\" xlink:actuate=\"onRequest\" xlink:href=\"psysml:a1db1b5d-0100-40b0-bd9f-2e7223fe2e6d\" xlink:show=\"new\" xlink:title=\"psysml:a1db1b5d-0100-40b0-bd9f-2e7223fe2e6d\" xlink:type=\"simple\"><g id=\"elem_E7\"><rect fill=\"#FFFACD\" filter=\"url(#f7z0fqfuupi1o)\" height=\"48.2656\" id=\"E7\" rx=\"10\" ry=\"10\" style=\"stroke:#181818;stroke-width:0.5;\" width=\"71\" x=\"146.5\" y=\"296.22\"/><text fill=\"#000000\" font-family=\"sans-serif\" font-size=\"12\" font-style=\"italic\" lengthAdjust=\"spacing\" textLength=\"69\" x=\"147.5\" y=\"312.3587\">«attribute»</text><text fill=\"#000000\" font-family=\"sans-serif\" font-size=\"14\" lengthAdjust=\"spacing\" textLength=\"7\" x=\"174.5\" y=\"328.1839\">y</text><line style=\"stroke:#181818;stroke-width:0.5;\" x1=\"147.5\" x2=\"216.5\" y1=\"336.4856\" y2=\"336.4856\"/></g></a><!--MD5=[b9389687b975829384b498ac4b7476b2]\n",
       "class E8--><a href=\"psysml:179fcb88-b86f-4c8c-8d3f-0f88ad709e86\" target=\"_top\" title=\"psysml:179fcb88-b86f-4c8c-8d3f-0f88ad709e86\" xlink:actuate=\"onRequest\" xlink:href=\"psysml:179fcb88-b86f-4c8c-8d3f-0f88ad709e86\" xlink:show=\"new\" xlink:title=\"psysml:179fcb88-b86f-4c8c-8d3f-0f88ad709e86\" xlink:type=\"simple\"><g id=\"elem_E8\"><rect fill=\"#FFFACD\" filter=\"url(#f7z0fqfuupi1o)\" height=\"48.2656\" id=\"E8\" rx=\"10\" ry=\"10\" style=\"stroke:#181818;stroke-width:0.5;\" width=\"71\" x=\"92.5\" y=\"166.22\"/><text fill=\"#000000\" font-family=\"sans-serif\" font-size=\"12\" font-style=\"italic\" lengthAdjust=\"spacing\" textLength=\"69\" x=\"93.5\" y=\"182.3587\">«attribute»</text><text fill=\"#000000\" font-family=\"sans-serif\" font-size=\"14\" lengthAdjust=\"spacing\" textLength=\"8\" x=\"120\" y=\"198.1839\">z</text><line style=\"stroke:#181818;stroke-width:0.5;\" x1=\"93.5\" x2=\"162.5\" y1=\"206.4856\" y2=\"206.4856\"/></g></a><a href=\"psysml:174d7b64-e31a-4a54-99c4-d88bb0afa8af\" target=\"_top\" title=\"psysml:174d7b64-e31a-4a54-99c4-d88bb0afa8af\" xlink:actuate=\"onRequest\" xlink:href=\"psysml:174d7b64-e31a-4a54-99c4-d88bb0afa8af\" xlink:show=\"new\" xlink:title=\"psysml:174d7b64-e31a-4a54-99c4-d88bb0afa8af\" xlink:type=\"simple\"><polygon fill=\"#FFFACD\" filter=\"url(#f7z0fqfuupi1o)\" points=\"314.5,163.72,435.5,163.72,442.5,186.0169,449.5,186.0169,449.5,216.3138,314.5,216.3138,314.5,163.72\" style=\"stroke:#181818;stroke-width:0.5;\"/><line style=\"stroke:#181818;stroke-width:0.5;\" x1=\"314.5\" x2=\"442.5\" y1=\"186.0169\" y2=\"186.0169\"/><text fill=\"#000000\" font-family=\"sans-serif\" font-size=\"14\" lengthAdjust=\"spacing\" textLength=\"115\" x=\"318.5\" y=\"178.7151\">Application Layer</text></a><a href=\"psysml:6cc47e98-b8e7-4ff0-90aa-a6e12ea2ee54\" target=\"_top\" title=\"psysml:6cc47e98-b8e7-4ff0-90aa-a6e12ea2ee54\" xlink:actuate=\"onRequest\" xlink:href=\"psysml:6cc47e98-b8e7-4ff0-90aa-a6e12ea2ee54\" xlink:show=\"new\" xlink:title=\"psysml:6cc47e98-b8e7-4ff0-90aa-a6e12ea2ee54\" xlink:type=\"simple\"><polygon fill=\"#FFFACD\" filter=\"url(#f7z0fqfuupi1o)\" points=\"327,293.72,423,293.72,430,316.0169,437,316.0169,437,346.3138,327,346.3138,327,293.72\" style=\"stroke:#181818;stroke-width:0.5;\"/><line style=\"stroke:#181818;stroke-width:0.5;\" x1=\"327\" x2=\"430\" y1=\"316.0169\" y2=\"316.0169\"/><text fill=\"#000000\" font-family=\"sans-serif\" font-size=\"14\" lengthAdjust=\"spacing\" textLength=\"90\" x=\"331\" y=\"308.7151\">Service Layer</text></a><a href=\"psysml:a41e95d1-6586-47c5-87a0-a52adaa3773e\" target=\"_top\" title=\"psysml:a41e95d1-6586-47c5-87a0-a52adaa3773e\" xlink:actuate=\"onRequest\" xlink:href=\"psysml:a41e95d1-6586-47c5-87a0-a52adaa3773e\" xlink:show=\"new\" xlink:title=\"psysml:a41e95d1-6586-47c5-87a0-a52adaa3773e\" xlink:type=\"simple\"><polygon fill=\"#FFFACD\" filter=\"url(#f7z0fqfuupi1o)\" points=\"336,423.72,414,423.72,421,446.0169,428,446.0169,428,476.3138,336,476.3138,336,423.72\" style=\"stroke:#181818;stroke-width:0.5;\"/><line style=\"stroke:#181818;stroke-width:0.5;\" x1=\"336\" x2=\"421\" y1=\"446.0169\" y2=\"446.0169\"/><text fill=\"#000000\" font-family=\"sans-serif\" font-size=\"14\" lengthAdjust=\"spacing\" textLength=\"72\" x=\"340\" y=\"438.7151\">Data Layer</text></a><!--MD5=[1f1cd8e6dd4c1b2ca2aaccc9b9bcea6e]\n",
       "link E1 to E2--><g id=\"link_E1_E2\"><a href=\"psysml:98ffbcea-2ad0-443f-b206-57004efde221\" target=\"_top\" title=\"psysml:98ffbcea-2ad0-443f-b206-57004efde221\" xlink:actuate=\"onRequest\" xlink:href=\"psysml:98ffbcea-2ad0-443f-b206-57004efde221\" xlink:show=\"new\" xlink:title=\"psysml:98ffbcea-2ad0-443f-b206-57004efde221\" xlink:type=\"simple\"><path d=\"M279,33.83 C279,36.15 279,73.83 279,111.5 C279,113.8544 279,116.2087 279,118.5544 C279,119.1408 279,119.7267 279,120.3119 \" fill=\"none\" id=\"E1-to-E2\" style=\"stroke:#181818;stroke-width:1.0;stroke-dasharray:7.0,7.0;\"/><polygon fill=\"#181818\" points=\"279,120.3119,283,111.3119,279,115.3119,275,111.3119,279,120.3119\" style=\"stroke:#181818;stroke-width:1.0;\"/><text fill=\"#000000\" font-family=\"sans-serif\" font-size=\"13\" lengthAdjust=\"spacing\" textLength=\"65\" x=\"280\" y=\"76.7869\">«import»*</text></a></g><!--MD5=[af87c684e3b0d8be13c1a698a818ef1e]\n",
       "link E3 to E4--><g id=\"link_E3_E4\"><a href=\"psysml:94e1a3f7-50a9-4c8e-a4e8-5ce452ddfecf\" target=\"_top\" title=\"psysml:94e1a3f7-50a9-4c8e-a4e8-5ce452ddfecf\" xlink:actuate=\"onRequest\" xlink:href=\"psysml:94e1a3f7-50a9-4c8e-a4e8-5ce452ddfecf\" xlink:show=\"new\" xlink:title=\"psysml:94e1a3f7-50a9-4c8e-a4e8-5ce452ddfecf\" xlink:type=\"simple\"><path d=\"M382,216.82 C382,236.52 382,263.94 382,285.45 \" fill=\"none\" id=\"E3-to-E4\" style=\"stroke:#181818;stroke-width:1.0;stroke-dasharray:7.0,7.0;\"/><polygon fill=\"#181818\" points=\"382,293.67,385,285.67,379,285.67,382,293.67\" style=\"stroke:#181818;stroke-width:1.0;\"/><text fill=\"#000000\" font-family=\"sans-serif\" font-size=\"13\" lengthAdjust=\"spacing\" textLength=\"64\" x=\"383\" y=\"259.7869\">«depend»</text></a></g><!--MD5=[1b7591eae5389033d8d09a9d6721a717]\n",
       "link E4 to E5--><g id=\"link_E4_E5\"><a href=\"psysml:9da5c160-44e8-44ec-9936-ca4a4075f5f4\" target=\"_top\" title=\"psysml:9da5c160-44e8-44ec-9936-ca4a4075f5f4\" xlink:actuate=\"onRequest\" xlink:href=\"psysml:9da5c160-44e8-44ec-9936-ca4a4075f5f4\" xlink:show=\"new\" xlink:title=\"psysml:9da5c160-44e8-44ec-9936-ca4a4075f5f4\" xlink:type=\"simple\"><path d=\"M382,346.82 C382,366.52 382,393.94 382,415.45 \" fill=\"none\" id=\"E4-to-E5\" style=\"stroke:#181818;stroke-width:1.0;stroke-dasharray:7.0,7.0;\"/><polygon fill=\"#181818\" points=\"382,423.67,385,415.67,379,415.67,382,423.67\" style=\"stroke:#181818;stroke-width:1.0;\"/><text fill=\"#000000\" font-family=\"sans-serif\" font-size=\"13\" lengthAdjust=\"spacing\" textLength=\"64\" x=\"383\" y=\"389.7869\">«depend»</text></a></g><!--MD5=[c5e8897d989ce984f93528998a7150fe]\n",
       "link E8 to E6--><g id=\"link_E8_E6\"><a href=\"psysml:cc6cc763-fa59-42bd-a700-018e736c1371\" target=\"_top\" title=\"psysml:cc6cc763-fa59-42bd-a700-018e736c1371\" xlink:actuate=\"onRequest\" xlink:href=\"psysml:cc6cc763-fa59-42bd-a700-018e736c1371\" xlink:show=\"new\" xlink:title=\"psysml:cc6cc763-fa59-42bd-a700-018e736c1371\" xlink:type=\"simple\"><path d=\"M96.23,214.4 C86.58,223.3 77.16,234.34 72,246.72 C66.62,259.63 66.65,274.97 68.42,288.21 \" fill=\"none\" id=\"E8-to-E6\" style=\"stroke:#181818;stroke-width:1.0;stroke-dasharray:7.0,7.0;\"/><polygon fill=\"#181818\" points=\"69.71,296.14,71.386,287.762,65.4639,288.7258,69.71,296.14\" style=\"stroke:#181818;stroke-width:1.0;\"/><text fill=\"#000000\" font-family=\"sans-serif\" font-size=\"13\" lengthAdjust=\"spacing\" textLength=\"64\" x=\"73\" y=\"259.7869\">«depend»</text></a></g><!--MD5=[bfa3c8b0d15052fdf50ae9310b491027]\n",
       "link E8 to E7--><g id=\"link_E8_E7\"><a href=\"psysml:cc6cc763-fa59-42bd-a700-018e736c1371\" target=\"_top\" title=\"psysml:cc6cc763-fa59-42bd-a700-018e736c1371\" xlink:actuate=\"onRequest\" xlink:href=\"psysml:cc6cc763-fa59-42bd-a700-018e736c1371\" xlink:show=\"new\" xlink:title=\"psysml:cc6cc763-fa59-42bd-a700-018e736c1371\" xlink:type=\"simple\"><path d=\"M137.78,214.4 C146.57,235.24 159.55,266 169.17,288.81 \" fill=\"none\" id=\"E8-to-E7\" style=\"stroke:#181818;stroke-width:1.0;stroke-dasharray:7.0,7.0;\"/><polygon fill=\"#181818\" points=\"172.29,296.21,171.9401,287.6732,166.4131,290.0082,172.29,296.21\" style=\"stroke:#181818;stroke-width:1.0;\"/><text fill=\"#000000\" font-family=\"sans-serif\" font-size=\"13\" lengthAdjust=\"spacing\" textLength=\"64\" x=\"159\" y=\"259.7869\">«depend»</text></a></g><!--MD5=[c4c6bb446bb97b03d1dabb90af6c2b2e]\n",
       "@startuml\r\n",
       "skin sysmlc\r\n",
       "skinparam wrapWidth 300\r\n",
       "hide circle\r\n",
       "\r\n",
       "package \"DependencyTest\" as E1  [[psysml:7dee102c-3f89-42b9-9919-3eaa1d7109e5 ]]  {\r\n",
       "package \"System\" as E2  [[psysml:da04b59d-3286-4d3f-bbc3-7e7bb49d7c5d ]]  {\r\n",
       "package \"Application Layer\" as E3  [[psysml:174d7b64-e31a-4a54-99c4-d88bb0afa8af ]]  {\r\n",
       "}\r\n",
       "package \"Service Layer\" as E4  [[psysml:6cc47e98-b8e7-4ff0-90aa-a6e12ea2ee54 ]]  {\r\n",
       "}\r\n",
       "package \"Data Layer\" as E5  [[psysml:a41e95d1-6586-47c5-87a0-a52adaa3773e ]]  {\r\n",
       "}\r\n",
       "}\r\n",
       "comp usage \"x  \" as E6  <<(T,blue) attribute>> [[psysml:fa1eb9e1-3558-4ac6-ae6a-7c42660b9dca ]] {\r\n",
       "}\r\n",
       "comp usage \"y  \" as E7  <<(T,blue) attribute>> [[psysml:a1db1b5d-0100-40b0-bd9f-2e7223fe2e6d ]] {\r\n",
       "}\r\n",
       "comp usage \"z  \" as E8  <<(T,blue) attribute>> [[psysml:179fcb88-b86f-4c8c-8d3f-0f88ad709e86 ]] {\r\n",
       "}\r\n",
       "}\r\n",
       "E1 ..> E2 [[psysml:98ffbcea-2ad0-443f-b206-57004efde221 ]] : <<import>>*\r\n",
       "E3 ..>> E4 [[psysml:94e1a3f7-50a9-4c8e-a4e8-5ce452ddfecf ]] : <<depend>>\r\n",
       "E4 ..>> E5 [[psysml:9da5c160-44e8-44ec-9936-ca4a4075f5f4 ]] : <<depend>>\r\n",
       "E8 ..>> E6 [[psysml:cc6cc763-fa59-42bd-a700-018e736c1371 ]] : <<depend>>\r\n",
       "E8 ..>> E7 [[psysml:cc6cc763-fa59-42bd-a700-018e736c1371 ]] : <<depend>>\r\n",
       "@enduml\r\n",
       "\n",
       "PlantUML version 1.2022.7(Mon Aug 22 17:01:30 UTC 2022)\n",
       "(EPL source distribution)\n",
       "Java Runtime: OpenJDK Runtime Environment\n",
       "JVM: OpenJDK 64-Bit Server VM\n",
       "Default Encoding: UTF-8\n",
       "Language: en\n",
       "Country: null\n",
       "--></g></svg>"
      ]
     },
     "execution_count": 29,
     "metadata": {},
     "output_type": "execute_result"
    }
   ],
   "source": [
    "%viz --style=\"STDCOLOR\" --view=\"MIXED\" \"DependencyTest\""
   ]
  },
  {
   "cell_type": "code",
   "execution_count": 30,
   "id": "65f5b198",
   "metadata": {
    "execution": {
     "iopub.execute_input": "2024-12-16T03:27:31.722011Z",
     "iopub.status.busy": "2024-12-16T03:27:31.721786Z",
     "iopub.status.idle": "2024-12-16T03:27:31.859927Z",
     "shell.execute_reply": "2024-12-16T03:27:31.860061Z"
    }
   },
   "outputs": [
    {
     "data": {
      "image/svg+xml": [
       "<?xml version=\"1.0\" encoding=\"UTF-8\" standalone=\"no\"?><svg xmlns=\"http://www.w3.org/2000/svg\" xmlns:xlink=\"http://www.w3.org/1999/xlink\" contentStyleType=\"text/css\" height=\"547px\" preserveAspectRatio=\"none\" style=\"width:532px;height:547px;background:#FFFFFF;\" version=\"1.1\" viewBox=\"0 0 532 547\" width=\"532px\" zoomAndPan=\"magnify\"><defs/><g><!--MD5=[fbc87193dbaf4d95561dea2c320d4a47]\n",
       "cluster E1--><g id=\"cluster_E1\"><a href=\"psysml:7dee102c-3f89-42b9-9919-3eaa1d7109e5\" target=\"_top\" title=\"psysml:7dee102c-3f89-42b9-9919-3eaa1d7109e5\" xlink:actuate=\"onRequest\" xlink:href=\"psysml:7dee102c-3f89-42b9-9919-3eaa1d7109e5\" xlink:show=\"new\" xlink:title=\"psysml:7dee102c-3f89-42b9-9919-3eaa1d7109e5\" xlink:type=\"simple\"><path d=\"M8.5,6 L135.625,6 A3.75,3.75 0 0 1 138.125,8.5 L145.125,28.2969 L522.5,28.2969 A2.5,2.5 0 0 1 525,30.7969 L525,538.22 A2.5,2.5 0 0 1 522.5,540.72 L8.5,540.72 A2.5,2.5 0 0 1 6,538.22 L6,8.5 A2.5,2.5 0 0 1 8.5,6 \" fill=\"none\" style=\"stroke:#000000;stroke-width:1.5;\"/><line style=\"stroke:#000000;stroke-width:1.5;\" x1=\"6\" x2=\"145.125\" y1=\"28.2969\" y2=\"28.2969\"/><text fill=\"#000000\" font-family=\"sans-serif\" font-size=\"14\" font-weight=\"bold\" lengthAdjust=\"spacing\" textLength=\"126.125\" x=\"10\" y=\"20.9951\">DependencyTest</text></a></g><!--MD5=[e4f7fae6ed58524ba242bb0b0d3be6b7]\n",
       "cluster E2--><g id=\"cluster_E2\"><a href=\"psysml:da04b59d-3286-4d3f-bbc3-7e7bb49d7c5d\" target=\"_top\" title=\"psysml:da04b59d-3286-4d3f-bbc3-7e7bb49d7c5d\" xlink:actuate=\"onRequest\" xlink:href=\"psysml:da04b59d-3286-4d3f-bbc3-7e7bb49d7c5d\" xlink:show=\"new\" xlink:title=\"psysml:da04b59d-3286-4d3f-bbc3-7e7bb49d7c5d\" xlink:type=\"simple\"><path d=\"M284.5,120.72 L339.125,120.72 A3.75,3.75 0 0 1 341.625,123.22 L348.625,143.0169 L482.5,143.0169 A2.5,2.5 0 0 1 485,145.5169 L485,498.22 A2.5,2.5 0 0 1 482.5,500.72 L284.5,500.72 A2.5,2.5 0 0 1 282,498.22 L282,123.22 A2.5,2.5 0 0 1 284.5,120.72 \" fill=\"none\" style=\"stroke:#000000;stroke-width:1.5;\"/><line style=\"stroke:#000000;stroke-width:1.5;\" x1=\"282\" x2=\"348.625\" y1=\"143.0169\" y2=\"143.0169\"/><text fill=\"#000000\" font-family=\"sans-serif\" font-size=\"14\" font-weight=\"bold\" lengthAdjust=\"spacing\" textLength=\"53.625\" x=\"286\" y=\"135.7151\">System</text></a></g><!--MD5=[60a26617385b1d2d0262a64233df1f8d]\n",
       "class E6--><a href=\"psysml:fa1eb9e1-3558-4ac6-ae6a-7c42660b9dca\" target=\"_top\" title=\"psysml:fa1eb9e1-3558-4ac6-ae6a-7c42660b9dca\" xlink:actuate=\"onRequest\" xlink:href=\"psysml:fa1eb9e1-3558-4ac6-ae6a-7c42660b9dca\" xlink:show=\"new\" xlink:title=\"psysml:fa1eb9e1-3558-4ac6-ae6a-7c42660b9dca\" xlink:type=\"simple\"><g id=\"elem_E6\"><rect fill=\"#F1F1F1\" height=\"48.2656\" id=\"E6\" rx=\"10\" ry=\"10\" style=\"stroke:#181818;stroke-width:0.5;\" width=\"97\" x=\"29.5\" y=\"296.22\"/><ellipse cx=\"44.5\" cy=\"316.3528\" fill=\"#FFA500\" rx=\"11\" ry=\"11\" style=\"stroke:#181818;stroke-width:1.0;\"/><path d=\"M44.5625,323.5247 Q42.4531,323.5247 41.3594,322.3997 Q40.2656,321.2747 40.2656,319.2278 L40.2656,311.2122 L42.7344,311.2122 L42.7344,318.7903 Q42.7344,320.2278 43.1875,320.8216 Q43.6406,321.3997 44.5938,321.3997 Q45.6094,321.3997 46.0313,320.7903 Q46.4688,320.1809 46.4688,318.7747 L46.4688,311.2122 L48.9375,311.2122 L48.9375,319.2122 Q48.9375,321.1966 47.8438,322.3684 Q46.7656,323.5247 44.5625,323.5247 Z \" fill=\"#000000\"/><text fill=\"#000000\" font-family=\"sans-serif\" font-size=\"12\" font-style=\"italic\" lengthAdjust=\"spacing\" textLength=\"69\" x=\"56.5\" y=\"312.3587\">«attribute»</text><text fill=\"#000000\" font-family=\"sans-serif\" font-size=\"14\" lengthAdjust=\"spacing\" textLength=\"7\" x=\"83.5\" y=\"328.1839\">x</text><line style=\"stroke:#181818;stroke-width:0.5;\" x1=\"30.5\" x2=\"125.5\" y1=\"336.4856\" y2=\"336.4856\"/></g></a><!--MD5=[2156ba9850f5573cc1fc38a6a4b2f02b]\n",
       "class E7--><a href=\"psysml:a1db1b5d-0100-40b0-bd9f-2e7223fe2e6d\" target=\"_top\" title=\"psysml:a1db1b5d-0100-40b0-bd9f-2e7223fe2e6d\" xlink:actuate=\"onRequest\" xlink:href=\"psysml:a1db1b5d-0100-40b0-bd9f-2e7223fe2e6d\" xlink:show=\"new\" xlink:title=\"psysml:a1db1b5d-0100-40b0-bd9f-2e7223fe2e6d\" xlink:type=\"simple\"><g id=\"elem_E7\"><rect fill=\"#F1F1F1\" height=\"48.2656\" id=\"E7\" rx=\"10\" ry=\"10\" style=\"stroke:#181818;stroke-width:0.5;\" width=\"97\" x=\"161.5\" y=\"296.22\"/><ellipse cx=\"176.5\" cy=\"316.3528\" fill=\"#FFA500\" rx=\"11\" ry=\"11\" style=\"stroke:#181818;stroke-width:1.0;\"/><path d=\"M176.5625,323.5247 Q174.4531,323.5247 173.3594,322.3997 Q172.2656,321.2747 172.2656,319.2278 L172.2656,311.2122 L174.7344,311.2122 L174.7344,318.7903 Q174.7344,320.2278 175.1875,320.8216 Q175.6406,321.3997 176.5938,321.3997 Q177.6094,321.3997 178.0313,320.7903 Q178.4688,320.1809 178.4688,318.7747 L178.4688,311.2122 L180.9375,311.2122 L180.9375,319.2122 Q180.9375,321.1966 179.8438,322.3684 Q178.7656,323.5247 176.5625,323.5247 Z \" fill=\"#000000\"/><text fill=\"#000000\" font-family=\"sans-serif\" font-size=\"12\" font-style=\"italic\" lengthAdjust=\"spacing\" textLength=\"69\" x=\"188.5\" y=\"312.3587\">«attribute»</text><text fill=\"#000000\" font-family=\"sans-serif\" font-size=\"14\" lengthAdjust=\"spacing\" textLength=\"7\" x=\"215.5\" y=\"328.1839\">y</text><line style=\"stroke:#181818;stroke-width:0.5;\" x1=\"162.5\" x2=\"257.5\" y1=\"336.4856\" y2=\"336.4856\"/></g></a><!--MD5=[b9389687b975829384b498ac4b7476b2]\n",
       "class E8--><a href=\"psysml:179fcb88-b86f-4c8c-8d3f-0f88ad709e86\" target=\"_top\" title=\"psysml:179fcb88-b86f-4c8c-8d3f-0f88ad709e86\" xlink:actuate=\"onRequest\" xlink:href=\"psysml:179fcb88-b86f-4c8c-8d3f-0f88ad709e86\" xlink:show=\"new\" xlink:title=\"psysml:179fcb88-b86f-4c8c-8d3f-0f88ad709e86\" xlink:type=\"simple\"><g id=\"elem_E8\"><rect fill=\"#F1F1F1\" height=\"48.2656\" id=\"E8\" rx=\"10\" ry=\"10\" style=\"stroke:#181818;stroke-width:0.5;\" width=\"97\" x=\"82.5\" y=\"166.22\"/><ellipse cx=\"97.5\" cy=\"186.3528\" fill=\"#FFA500\" rx=\"11\" ry=\"11\" style=\"stroke:#181818;stroke-width:1.0;\"/><path d=\"M97.5625,193.5247 Q95.4531,193.5247 94.3594,192.3997 Q93.2656,191.2747 93.2656,189.2278 L93.2656,181.2122 L95.7344,181.2122 L95.7344,188.7903 Q95.7344,190.2278 96.1875,190.8216 Q96.6406,191.3997 97.5938,191.3997 Q98.6094,191.3997 99.0313,190.7903 Q99.4688,190.1809 99.4688,188.7747 L99.4688,181.2122 L101.9375,181.2122 L101.9375,189.2122 Q101.9375,191.1966 100.8438,192.3684 Q99.7656,193.5247 97.5625,193.5247 Z \" fill=\"#000000\"/><text fill=\"#000000\" font-family=\"sans-serif\" font-size=\"12\" font-style=\"italic\" lengthAdjust=\"spacing\" textLength=\"69\" x=\"109.5\" y=\"182.3587\">«attribute»</text><text fill=\"#000000\" font-family=\"sans-serif\" font-size=\"14\" lengthAdjust=\"spacing\" textLength=\"8\" x=\"136\" y=\"198.1839\">z</text><line style=\"stroke:#181818;stroke-width:0.5;\" x1=\"83.5\" x2=\"178.5\" y1=\"206.4856\" y2=\"206.4856\"/></g></a><a href=\"psysml:174d7b64-e31a-4a54-99c4-d88bb0afa8af\" target=\"_top\" title=\"psysml:174d7b64-e31a-4a54-99c4-d88bb0afa8af\" xlink:actuate=\"onRequest\" xlink:href=\"psysml:174d7b64-e31a-4a54-99c4-d88bb0afa8af\" xlink:show=\"new\" xlink:title=\"psysml:174d7b64-e31a-4a54-99c4-d88bb0afa8af\" xlink:type=\"simple\"><path d=\"M328,163.72 L444,163.72 A3.75,3.75 0 0 1 446.5,166.22 L453.5,186.0169 L458,186.0169 A2.5,2.5 0 0 1 460.5,188.5169 L460.5,213.8138 A2.5,2.5 0 0 1 458,216.3138 L328,216.3138 A2.5,2.5 0 0 1 325.5,213.8138 L325.5,166.22 A2.5,2.5 0 0 1 328,163.72 \" fill=\"#F1F1F1\" style=\"stroke:#181818;stroke-width:0.5;\"/><line style=\"stroke:#181818;stroke-width:0.5;\" x1=\"325.5\" x2=\"453.5\" y1=\"186.0169\" y2=\"186.0169\"/><text fill=\"#000000\" font-family=\"sans-serif\" font-size=\"14\" lengthAdjust=\"spacing\" textLength=\"115\" x=\"329.5\" y=\"178.7151\">Application Layer</text></a><a href=\"psysml:6cc47e98-b8e7-4ff0-90aa-a6e12ea2ee54\" target=\"_top\" title=\"psysml:6cc47e98-b8e7-4ff0-90aa-a6e12ea2ee54\" xlink:actuate=\"onRequest\" xlink:href=\"psysml:6cc47e98-b8e7-4ff0-90aa-a6e12ea2ee54\" xlink:show=\"new\" xlink:title=\"psysml:6cc47e98-b8e7-4ff0-90aa-a6e12ea2ee54\" xlink:type=\"simple\"><path d=\"M340.5,293.72 L431.5,293.72 A3.75,3.75 0 0 1 434,296.22 L441,316.0169 L445.5,316.0169 A2.5,2.5 0 0 1 448,318.5169 L448,343.8138 A2.5,2.5 0 0 1 445.5,346.3138 L340.5,346.3138 A2.5,2.5 0 0 1 338,343.8138 L338,296.22 A2.5,2.5 0 0 1 340.5,293.72 \" fill=\"#F1F1F1\" style=\"stroke:#181818;stroke-width:0.5;\"/><line style=\"stroke:#181818;stroke-width:0.5;\" x1=\"338\" x2=\"441\" y1=\"316.0169\" y2=\"316.0169\"/><text fill=\"#000000\" font-family=\"sans-serif\" font-size=\"14\" lengthAdjust=\"spacing\" textLength=\"90\" x=\"342\" y=\"308.7151\">Service Layer</text></a><a href=\"psysml:a41e95d1-6586-47c5-87a0-a52adaa3773e\" target=\"_top\" title=\"psysml:a41e95d1-6586-47c5-87a0-a52adaa3773e\" xlink:actuate=\"onRequest\" xlink:href=\"psysml:a41e95d1-6586-47c5-87a0-a52adaa3773e\" xlink:show=\"new\" xlink:title=\"psysml:a41e95d1-6586-47c5-87a0-a52adaa3773e\" xlink:type=\"simple\"><path d=\"M349.5,423.72 L422.5,423.72 A3.75,3.75 0 0 1 425,426.22 L432,446.0169 L436.5,446.0169 A2.5,2.5 0 0 1 439,448.5169 L439,473.8138 A2.5,2.5 0 0 1 436.5,476.3138 L349.5,476.3138 A2.5,2.5 0 0 1 347,473.8138 L347,426.22 A2.5,2.5 0 0 1 349.5,423.72 \" fill=\"#F1F1F1\" style=\"stroke:#181818;stroke-width:0.5;\"/><line style=\"stroke:#181818;stroke-width:0.5;\" x1=\"347\" x2=\"432\" y1=\"446.0169\" y2=\"446.0169\"/><text fill=\"#000000\" font-family=\"sans-serif\" font-size=\"14\" lengthAdjust=\"spacing\" textLength=\"72\" x=\"351\" y=\"438.7151\">Data Layer</text></a><!--MD5=[1f1cd8e6dd4c1b2ca2aaccc9b9bcea6e]\n",
       "link E1 to E2--><g id=\"link_E1_E2\"><a href=\"psysml:98ffbcea-2ad0-443f-b206-57004efde221\" target=\"_top\" title=\"psysml:98ffbcea-2ad0-443f-b206-57004efde221\" xlink:actuate=\"onRequest\" xlink:href=\"psysml:98ffbcea-2ad0-443f-b206-57004efde221\" xlink:show=\"new\" xlink:title=\"psysml:98ffbcea-2ad0-443f-b206-57004efde221\" xlink:type=\"simple\"><path d=\"M290,33.83 C290,36.15 290,73.83 290,111.5 C290,113.8544 290,116.2087 290,118.5544 C290,119.1408 290,119.7267 290,120.3119 \" fill=\"none\" id=\"E1-to-E2\" style=\"stroke:#181818;stroke-width:1.0;stroke-dasharray:7.0,7.0;\"/><polygon fill=\"#181818\" points=\"290,120.3119,294,111.3119,290,115.3119,286,111.3119,290,120.3119\" style=\"stroke:#181818;stroke-width:1.0;\"/><text fill=\"#000000\" font-family=\"sans-serif\" font-size=\"13\" lengthAdjust=\"spacing\" textLength=\"65\" x=\"291\" y=\"76.7869\">«import»*</text></a></g><!--MD5=[af87c684e3b0d8be13c1a698a818ef1e]\n",
       "link E3 to E4--><g id=\"link_E3_E4\"><a href=\"psysml:94e1a3f7-50a9-4c8e-a4e8-5ce452ddfecf\" target=\"_top\" title=\"psysml:94e1a3f7-50a9-4c8e-a4e8-5ce452ddfecf\" xlink:actuate=\"onRequest\" xlink:href=\"psysml:94e1a3f7-50a9-4c8e-a4e8-5ce452ddfecf\" xlink:show=\"new\" xlink:title=\"psysml:94e1a3f7-50a9-4c8e-a4e8-5ce452ddfecf\" xlink:type=\"simple\"><path d=\"M393,216.82 C393,236.52 393,263.94 393,285.45 \" fill=\"none\" id=\"E3-to-E4\" style=\"stroke:#181818;stroke-width:1.0;stroke-dasharray:7.0,7.0;\"/><polygon fill=\"#181818\" points=\"393,293.67,396,285.67,390,285.67,393,293.67\" style=\"stroke:#181818;stroke-width:1.0;\"/><text fill=\"#000000\" font-family=\"sans-serif\" font-size=\"13\" lengthAdjust=\"spacing\" textLength=\"64\" x=\"394\" y=\"259.7869\">«depend»</text></a></g><!--MD5=[1b7591eae5389033d8d09a9d6721a717]\n",
       "link E4 to E5--><g id=\"link_E4_E5\"><a href=\"psysml:9da5c160-44e8-44ec-9936-ca4a4075f5f4\" target=\"_top\" title=\"psysml:9da5c160-44e8-44ec-9936-ca4a4075f5f4\" xlink:actuate=\"onRequest\" xlink:href=\"psysml:9da5c160-44e8-44ec-9936-ca4a4075f5f4\" xlink:show=\"new\" xlink:title=\"psysml:9da5c160-44e8-44ec-9936-ca4a4075f5f4\" xlink:type=\"simple\"><path d=\"M393,346.82 C393,366.52 393,393.94 393,415.45 \" fill=\"none\" id=\"E4-to-E5\" style=\"stroke:#181818;stroke-width:1.0;stroke-dasharray:7.0,7.0;\"/><polygon fill=\"#181818\" points=\"393,423.67,396,415.67,390,415.67,393,423.67\" style=\"stroke:#181818;stroke-width:1.0;\"/><text fill=\"#000000\" font-family=\"sans-serif\" font-size=\"13\" lengthAdjust=\"spacing\" textLength=\"64\" x=\"394\" y=\"389.7869\">«depend»</text></a></g><!--MD5=[c5e8897d989ce984f93528998a7150fe]\n",
       "link E8 to E6--><g id=\"link_E8_E6\"><a href=\"psysml:cc6cc763-fa59-42bd-a700-018e736c1371\" target=\"_top\" title=\"psysml:cc6cc763-fa59-42bd-a700-018e736c1371\" xlink:actuate=\"onRequest\" xlink:href=\"psysml:cc6cc763-fa59-42bd-a700-018e736c1371\" xlink:show=\"new\" xlink:title=\"psysml:cc6cc763-fa59-42bd-a700-018e736c1371\" xlink:type=\"simple\"><path d=\"M103.65,214.28 C94.77,223.39 85.95,234.59 81,246.72 C75.77,259.54 74.48,274.72 74.71,287.87 \" fill=\"none\" id=\"E8-to-E6\" style=\"stroke:#181818;stroke-width:1.0;stroke-dasharray:7.0,7.0;\"/><polygon fill=\"#181818\" points=\"75.05,296.17,77.7192,288.0536,71.7242,288.2998,75.05,296.17\" style=\"stroke:#181818;stroke-width:1.0;\"/><text fill=\"#000000\" font-family=\"sans-serif\" font-size=\"13\" lengthAdjust=\"spacing\" textLength=\"64\" x=\"82\" y=\"259.7869\">«depend»</text></a></g><!--MD5=[bfa3c8b0d15052fdf50ae9310b491027]\n",
       "link E8 to E7--><g id=\"link_E8_E7\"><a href=\"psysml:cc6cc763-fa59-42bd-a700-018e736c1371\" target=\"_top\" title=\"psysml:cc6cc763-fa59-42bd-a700-018e736c1371\" xlink:actuate=\"onRequest\" xlink:href=\"psysml:cc6cc763-fa59-42bd-a700-018e736c1371\" xlink:show=\"new\" xlink:title=\"psysml:cc6cc763-fa59-42bd-a700-018e736c1371\" xlink:type=\"simple\"><path d=\"M145.31,214.4 C158.28,235.42 177.48,266.53 191.6,289.4 \" fill=\"none\" id=\"E8-to-E7\" style=\"stroke:#181818;stroke-width:1.0;stroke-dasharray:7.0,7.0;\"/><polygon fill=\"#181818\" points=\"195.8,296.21,194.1357,287.8297,189.0357,290.9904,195.8,296.21\" style=\"stroke:#181818;stroke-width:1.0;\"/><text fill=\"#000000\" font-family=\"sans-serif\" font-size=\"13\" lengthAdjust=\"spacing\" textLength=\"64\" x=\"176\" y=\"259.7869\">«depend»</text></a></g><!--MD5=[3422c900658581e9c7bf00565817dbee]\n",
       "@startuml\r\n",
       " \r\n",
       "package \"DependencyTest\" as E1  [[psysml:7dee102c-3f89-42b9-9919-3eaa1d7109e5 ]]  {\r\n",
       "package \"System\" as E2  [[psysml:da04b59d-3286-4d3f-bbc3-7e7bb49d7c5d ]]  {\r\n",
       "package \"Application Layer\" as E3  [[psysml:174d7b64-e31a-4a54-99c4-d88bb0afa8af ]]  {\r\n",
       "}\r\n",
       "package \"Service Layer\" as E4  [[psysml:6cc47e98-b8e7-4ff0-90aa-a6e12ea2ee54 ]]  {\r\n",
       "}\r\n",
       "package \"Data Layer\" as E5  [[psysml:a41e95d1-6586-47c5-87a0-a52adaa3773e ]]  {\r\n",
       "}\r\n",
       "}\r\n",
       "comp usage \"x  \" as E6  << <<(U,orange) attribute>> [[psysml:fa1eb9e1-3558-4ac6-ae6a-7c42660b9dca ]] {\r\n",
       "}\r\n",
       "comp usage \"y  \" as E7  << <<(U,orange) attribute>> [[psysml:a1db1b5d-0100-40b0-bd9f-2e7223fe2e6d ]] {\r\n",
       "}\r\n",
       "comp usage \"z  \" as E8  << <<(U,orange) attribute>> [[psysml:179fcb88-b86f-4c8c-8d3f-0f88ad709e86 ]] {\r\n",
       "}\r\n",
       "}\r\n",
       "E1 ..> E2 [[psysml:98ffbcea-2ad0-443f-b206-57004efde221 ]] : <<import>>*\r\n",
       "E3 ..>> E4 [[psysml:94e1a3f7-50a9-4c8e-a4e8-5ce452ddfecf ]] : <<depend>>\r\n",
       "E4 ..>> E5 [[psysml:9da5c160-44e8-44ec-9936-ca4a4075f5f4 ]] : <<depend>>\r\n",
       "E8 ..>> E6 [[psysml:cc6cc763-fa59-42bd-a700-018e736c1371 ]] : <<depend>>\r\n",
       "E8 ..>> E7 [[psysml:cc6cc763-fa59-42bd-a700-018e736c1371 ]] : <<depend>>\r\n",
       "@enduml\r\n",
       "\n",
       "PlantUML version 1.2022.7(Mon Aug 22 17:01:30 UTC 2022)\n",
       "(EPL source distribution)\n",
       "Java Runtime: OpenJDK Runtime Environment\n",
       "JVM: OpenJDK 64-Bit Server VM\n",
       "Default Encoding: UTF-8\n",
       "Language: en\n",
       "Country: null\n",
       "--></g></svg>"
      ]
     },
     "execution_count": 30,
     "metadata": {},
     "output_type": "execute_result"
    }
   ],
   "source": [
    "%viz --style=\"PLANTUML\" --view=\"Default\" \"DependencyTest\""
   ]
  },
  {
   "cell_type": "code",
   "execution_count": 31,
   "id": "16e777f9",
   "metadata": {
    "execution": {
     "iopub.execute_input": "2024-12-16T03:27:31.916007Z",
     "iopub.status.busy": "2024-12-16T03:27:31.915779Z",
     "iopub.status.idle": "2024-12-16T03:27:31.939745Z",
     "shell.execute_reply": "2024-12-16T03:27:31.938942Z"
    }
   },
   "outputs": [
    {
     "data": {
      "image/svg+xml": [
       "<?xml version=\"1.0\" encoding=\"UTF-8\" standalone=\"no\"?><svg xmlns=\"http://www.w3.org/2000/svg\" xmlns:xlink=\"http://www.w3.org/1999/xlink\" contentStyleType=\"text/css\" height=\"547px\" preserveAspectRatio=\"none\" style=\"width:532px;height:547px;background:#FFFFFF;\" version=\"1.1\" viewBox=\"0 0 532 547\" width=\"532px\" zoomAndPan=\"magnify\"><defs/><g><!--MD5=[fbc87193dbaf4d95561dea2c320d4a47]\n",
       "cluster E1--><g id=\"cluster_E1\"><a href=\"psysml:7dee102c-3f89-42b9-9919-3eaa1d7109e5\" target=\"_top\" title=\"psysml:7dee102c-3f89-42b9-9919-3eaa1d7109e5\" xlink:actuate=\"onRequest\" xlink:href=\"psysml:7dee102c-3f89-42b9-9919-3eaa1d7109e5\" xlink:show=\"new\" xlink:title=\"psysml:7dee102c-3f89-42b9-9919-3eaa1d7109e5\" xlink:type=\"simple\"><path d=\"M8.5,6 L135.625,6 A3.75,3.75 0 0 1 138.125,8.5 L145.125,28.2969 L522.5,28.2969 A2.5,2.5 0 0 1 525,30.7969 L525,538.22 A2.5,2.5 0 0 1 522.5,540.72 L8.5,540.72 A2.5,2.5 0 0 1 6,538.22 L6,8.5 A2.5,2.5 0 0 1 8.5,6 \" fill=\"none\" style=\"stroke:#000000;stroke-width:1.5;\"/><line style=\"stroke:#000000;stroke-width:1.5;\" x1=\"6\" x2=\"145.125\" y1=\"28.2969\" y2=\"28.2969\"/><text fill=\"#000000\" font-family=\"sans-serif\" font-size=\"14\" font-weight=\"bold\" lengthAdjust=\"spacing\" textLength=\"126.125\" x=\"10\" y=\"20.9951\">DependencyTest</text></a></g><!--MD5=[e4f7fae6ed58524ba242bb0b0d3be6b7]\n",
       "cluster E2--><g id=\"cluster_E2\"><a href=\"psysml:da04b59d-3286-4d3f-bbc3-7e7bb49d7c5d\" target=\"_top\" title=\"psysml:da04b59d-3286-4d3f-bbc3-7e7bb49d7c5d\" xlink:actuate=\"onRequest\" xlink:href=\"psysml:da04b59d-3286-4d3f-bbc3-7e7bb49d7c5d\" xlink:show=\"new\" xlink:title=\"psysml:da04b59d-3286-4d3f-bbc3-7e7bb49d7c5d\" xlink:type=\"simple\"><path d=\"M284.5,120.72 L339.125,120.72 A3.75,3.75 0 0 1 341.625,123.22 L348.625,143.0169 L482.5,143.0169 A2.5,2.5 0 0 1 485,145.5169 L485,498.22 A2.5,2.5 0 0 1 482.5,500.72 L284.5,500.72 A2.5,2.5 0 0 1 282,498.22 L282,123.22 A2.5,2.5 0 0 1 284.5,120.72 \" fill=\"none\" style=\"stroke:#000000;stroke-width:1.5;\"/><line style=\"stroke:#000000;stroke-width:1.5;\" x1=\"282\" x2=\"348.625\" y1=\"143.0169\" y2=\"143.0169\"/><text fill=\"#000000\" font-family=\"sans-serif\" font-size=\"14\" font-weight=\"bold\" lengthAdjust=\"spacing\" textLength=\"53.625\" x=\"286\" y=\"135.7151\">System</text></a></g><!--MD5=[60a26617385b1d2d0262a64233df1f8d]\n",
       "class E6--><a href=\"psysml:fa1eb9e1-3558-4ac6-ae6a-7c42660b9dca\" target=\"_top\" title=\"psysml:fa1eb9e1-3558-4ac6-ae6a-7c42660b9dca\" xlink:actuate=\"onRequest\" xlink:href=\"psysml:fa1eb9e1-3558-4ac6-ae6a-7c42660b9dca\" xlink:show=\"new\" xlink:title=\"psysml:fa1eb9e1-3558-4ac6-ae6a-7c42660b9dca\" xlink:type=\"simple\"><g id=\"elem_E6\"><rect fill=\"#F1F1F1\" height=\"48.2656\" id=\"E6\" rx=\"10\" ry=\"10\" style=\"stroke:#181818;stroke-width:0.5;\" width=\"97\" x=\"29.5\" y=\"296.22\"/><ellipse cx=\"44.5\" cy=\"316.3528\" fill=\"#FFA500\" rx=\"11\" ry=\"11\" style=\"stroke:#181818;stroke-width:1.0;\"/><path d=\"M44.5625,323.5247 Q42.4531,323.5247 41.3594,322.3997 Q40.2656,321.2747 40.2656,319.2278 L40.2656,311.2122 L42.7344,311.2122 L42.7344,318.7903 Q42.7344,320.2278 43.1875,320.8216 Q43.6406,321.3997 44.5938,321.3997 Q45.6094,321.3997 46.0313,320.7903 Q46.4688,320.1809 46.4688,318.7747 L46.4688,311.2122 L48.9375,311.2122 L48.9375,319.2122 Q48.9375,321.1966 47.8438,322.3684 Q46.7656,323.5247 44.5625,323.5247 Z \" fill=\"#000000\"/><text fill=\"#000000\" font-family=\"sans-serif\" font-size=\"12\" font-style=\"italic\" lengthAdjust=\"spacing\" textLength=\"69\" x=\"56.5\" y=\"312.3587\">«attribute»</text><text fill=\"#000000\" font-family=\"sans-serif\" font-size=\"14\" lengthAdjust=\"spacing\" textLength=\"7\" x=\"83.5\" y=\"328.1839\">x</text><line style=\"stroke:#181818;stroke-width:0.5;\" x1=\"30.5\" x2=\"125.5\" y1=\"336.4856\" y2=\"336.4856\"/></g></a><!--MD5=[2156ba9850f5573cc1fc38a6a4b2f02b]\n",
       "class E7--><a href=\"psysml:a1db1b5d-0100-40b0-bd9f-2e7223fe2e6d\" target=\"_top\" title=\"psysml:a1db1b5d-0100-40b0-bd9f-2e7223fe2e6d\" xlink:actuate=\"onRequest\" xlink:href=\"psysml:a1db1b5d-0100-40b0-bd9f-2e7223fe2e6d\" xlink:show=\"new\" xlink:title=\"psysml:a1db1b5d-0100-40b0-bd9f-2e7223fe2e6d\" xlink:type=\"simple\"><g id=\"elem_E7\"><rect fill=\"#F1F1F1\" height=\"48.2656\" id=\"E7\" rx=\"10\" ry=\"10\" style=\"stroke:#181818;stroke-width:0.5;\" width=\"97\" x=\"161.5\" y=\"296.22\"/><ellipse cx=\"176.5\" cy=\"316.3528\" fill=\"#FFA500\" rx=\"11\" ry=\"11\" style=\"stroke:#181818;stroke-width:1.0;\"/><path d=\"M176.5625,323.5247 Q174.4531,323.5247 173.3594,322.3997 Q172.2656,321.2747 172.2656,319.2278 L172.2656,311.2122 L174.7344,311.2122 L174.7344,318.7903 Q174.7344,320.2278 175.1875,320.8216 Q175.6406,321.3997 176.5938,321.3997 Q177.6094,321.3997 178.0313,320.7903 Q178.4688,320.1809 178.4688,318.7747 L178.4688,311.2122 L180.9375,311.2122 L180.9375,319.2122 Q180.9375,321.1966 179.8438,322.3684 Q178.7656,323.5247 176.5625,323.5247 Z \" fill=\"#000000\"/><text fill=\"#000000\" font-family=\"sans-serif\" font-size=\"12\" font-style=\"italic\" lengthAdjust=\"spacing\" textLength=\"69\" x=\"188.5\" y=\"312.3587\">«attribute»</text><text fill=\"#000000\" font-family=\"sans-serif\" font-size=\"14\" lengthAdjust=\"spacing\" textLength=\"7\" x=\"215.5\" y=\"328.1839\">y</text><line style=\"stroke:#181818;stroke-width:0.5;\" x1=\"162.5\" x2=\"257.5\" y1=\"336.4856\" y2=\"336.4856\"/></g></a><!--MD5=[b9389687b975829384b498ac4b7476b2]\n",
       "class E8--><a href=\"psysml:179fcb88-b86f-4c8c-8d3f-0f88ad709e86\" target=\"_top\" title=\"psysml:179fcb88-b86f-4c8c-8d3f-0f88ad709e86\" xlink:actuate=\"onRequest\" xlink:href=\"psysml:179fcb88-b86f-4c8c-8d3f-0f88ad709e86\" xlink:show=\"new\" xlink:title=\"psysml:179fcb88-b86f-4c8c-8d3f-0f88ad709e86\" xlink:type=\"simple\"><g id=\"elem_E8\"><rect fill=\"#F1F1F1\" height=\"48.2656\" id=\"E8\" rx=\"10\" ry=\"10\" style=\"stroke:#181818;stroke-width:0.5;\" width=\"97\" x=\"82.5\" y=\"166.22\"/><ellipse cx=\"97.5\" cy=\"186.3528\" fill=\"#FFA500\" rx=\"11\" ry=\"11\" style=\"stroke:#181818;stroke-width:1.0;\"/><path d=\"M97.5625,193.5247 Q95.4531,193.5247 94.3594,192.3997 Q93.2656,191.2747 93.2656,189.2278 L93.2656,181.2122 L95.7344,181.2122 L95.7344,188.7903 Q95.7344,190.2278 96.1875,190.8216 Q96.6406,191.3997 97.5938,191.3997 Q98.6094,191.3997 99.0313,190.7903 Q99.4688,190.1809 99.4688,188.7747 L99.4688,181.2122 L101.9375,181.2122 L101.9375,189.2122 Q101.9375,191.1966 100.8438,192.3684 Q99.7656,193.5247 97.5625,193.5247 Z \" fill=\"#000000\"/><text fill=\"#000000\" font-family=\"sans-serif\" font-size=\"12\" font-style=\"italic\" lengthAdjust=\"spacing\" textLength=\"69\" x=\"109.5\" y=\"182.3587\">«attribute»</text><text fill=\"#000000\" font-family=\"sans-serif\" font-size=\"14\" lengthAdjust=\"spacing\" textLength=\"8\" x=\"136\" y=\"198.1839\">z</text><line style=\"stroke:#181818;stroke-width:0.5;\" x1=\"83.5\" x2=\"178.5\" y1=\"206.4856\" y2=\"206.4856\"/></g></a><a href=\"psysml:174d7b64-e31a-4a54-99c4-d88bb0afa8af\" target=\"_top\" title=\"psysml:174d7b64-e31a-4a54-99c4-d88bb0afa8af\" xlink:actuate=\"onRequest\" xlink:href=\"psysml:174d7b64-e31a-4a54-99c4-d88bb0afa8af\" xlink:show=\"new\" xlink:title=\"psysml:174d7b64-e31a-4a54-99c4-d88bb0afa8af\" xlink:type=\"simple\"><path d=\"M328,163.72 L444,163.72 A3.75,3.75 0 0 1 446.5,166.22 L453.5,186.0169 L458,186.0169 A2.5,2.5 0 0 1 460.5,188.5169 L460.5,213.8138 A2.5,2.5 0 0 1 458,216.3138 L328,216.3138 A2.5,2.5 0 0 1 325.5,213.8138 L325.5,166.22 A2.5,2.5 0 0 1 328,163.72 \" fill=\"#F1F1F1\" style=\"stroke:#181818;stroke-width:0.5;\"/><line style=\"stroke:#181818;stroke-width:0.5;\" x1=\"325.5\" x2=\"453.5\" y1=\"186.0169\" y2=\"186.0169\"/><text fill=\"#000000\" font-family=\"sans-serif\" font-size=\"14\" lengthAdjust=\"spacing\" textLength=\"115\" x=\"329.5\" y=\"178.7151\">Application Layer</text></a><a href=\"psysml:6cc47e98-b8e7-4ff0-90aa-a6e12ea2ee54\" target=\"_top\" title=\"psysml:6cc47e98-b8e7-4ff0-90aa-a6e12ea2ee54\" xlink:actuate=\"onRequest\" xlink:href=\"psysml:6cc47e98-b8e7-4ff0-90aa-a6e12ea2ee54\" xlink:show=\"new\" xlink:title=\"psysml:6cc47e98-b8e7-4ff0-90aa-a6e12ea2ee54\" xlink:type=\"simple\"><path d=\"M340.5,293.72 L431.5,293.72 A3.75,3.75 0 0 1 434,296.22 L441,316.0169 L445.5,316.0169 A2.5,2.5 0 0 1 448,318.5169 L448,343.8138 A2.5,2.5 0 0 1 445.5,346.3138 L340.5,346.3138 A2.5,2.5 0 0 1 338,343.8138 L338,296.22 A2.5,2.5 0 0 1 340.5,293.72 \" fill=\"#F1F1F1\" style=\"stroke:#181818;stroke-width:0.5;\"/><line style=\"stroke:#181818;stroke-width:0.5;\" x1=\"338\" x2=\"441\" y1=\"316.0169\" y2=\"316.0169\"/><text fill=\"#000000\" font-family=\"sans-serif\" font-size=\"14\" lengthAdjust=\"spacing\" textLength=\"90\" x=\"342\" y=\"308.7151\">Service Layer</text></a><a href=\"psysml:a41e95d1-6586-47c5-87a0-a52adaa3773e\" target=\"_top\" title=\"psysml:a41e95d1-6586-47c5-87a0-a52adaa3773e\" xlink:actuate=\"onRequest\" xlink:href=\"psysml:a41e95d1-6586-47c5-87a0-a52adaa3773e\" xlink:show=\"new\" xlink:title=\"psysml:a41e95d1-6586-47c5-87a0-a52adaa3773e\" xlink:type=\"simple\"><path d=\"M349.5,423.72 L422.5,423.72 A3.75,3.75 0 0 1 425,426.22 L432,446.0169 L436.5,446.0169 A2.5,2.5 0 0 1 439,448.5169 L439,473.8138 A2.5,2.5 0 0 1 436.5,476.3138 L349.5,476.3138 A2.5,2.5 0 0 1 347,473.8138 L347,426.22 A2.5,2.5 0 0 1 349.5,423.72 \" fill=\"#F1F1F1\" style=\"stroke:#181818;stroke-width:0.5;\"/><line style=\"stroke:#181818;stroke-width:0.5;\" x1=\"347\" x2=\"432\" y1=\"446.0169\" y2=\"446.0169\"/><text fill=\"#000000\" font-family=\"sans-serif\" font-size=\"14\" lengthAdjust=\"spacing\" textLength=\"72\" x=\"351\" y=\"438.7151\">Data Layer</text></a><!--MD5=[1f1cd8e6dd4c1b2ca2aaccc9b9bcea6e]\n",
       "link E1 to E2--><g id=\"link_E1_E2\"><a href=\"psysml:98ffbcea-2ad0-443f-b206-57004efde221\" target=\"_top\" title=\"psysml:98ffbcea-2ad0-443f-b206-57004efde221\" xlink:actuate=\"onRequest\" xlink:href=\"psysml:98ffbcea-2ad0-443f-b206-57004efde221\" xlink:show=\"new\" xlink:title=\"psysml:98ffbcea-2ad0-443f-b206-57004efde221\" xlink:type=\"simple\"><path d=\"M290,33.83 C290,36.15 290,73.83 290,111.5 C290,113.8544 290,116.2087 290,118.5544 C290,119.1408 290,119.7267 290,120.3119 \" fill=\"none\" id=\"E1-to-E2\" style=\"stroke:#181818;stroke-width:1.0;stroke-dasharray:7.0,7.0;\"/><polygon fill=\"#181818\" points=\"290,120.3119,294,111.3119,290,115.3119,286,111.3119,290,120.3119\" style=\"stroke:#181818;stroke-width:1.0;\"/><text fill=\"#000000\" font-family=\"sans-serif\" font-size=\"13\" lengthAdjust=\"spacing\" textLength=\"65\" x=\"291\" y=\"76.7869\">«import»*</text></a></g><!--MD5=[af87c684e3b0d8be13c1a698a818ef1e]\n",
       "link E3 to E4--><g id=\"link_E3_E4\"><a href=\"psysml:94e1a3f7-50a9-4c8e-a4e8-5ce452ddfecf\" target=\"_top\" title=\"psysml:94e1a3f7-50a9-4c8e-a4e8-5ce452ddfecf\" xlink:actuate=\"onRequest\" xlink:href=\"psysml:94e1a3f7-50a9-4c8e-a4e8-5ce452ddfecf\" xlink:show=\"new\" xlink:title=\"psysml:94e1a3f7-50a9-4c8e-a4e8-5ce452ddfecf\" xlink:type=\"simple\"><path d=\"M393,216.82 C393,236.52 393,263.94 393,285.45 \" fill=\"none\" id=\"E3-to-E4\" style=\"stroke:#181818;stroke-width:1.0;stroke-dasharray:7.0,7.0;\"/><polygon fill=\"#181818\" points=\"393,293.67,396,285.67,390,285.67,393,293.67\" style=\"stroke:#181818;stroke-width:1.0;\"/><text fill=\"#000000\" font-family=\"sans-serif\" font-size=\"13\" lengthAdjust=\"spacing\" textLength=\"64\" x=\"394\" y=\"259.7869\">«depend»</text></a></g><!--MD5=[1b7591eae5389033d8d09a9d6721a717]\n",
       "link E4 to E5--><g id=\"link_E4_E5\"><a href=\"psysml:9da5c160-44e8-44ec-9936-ca4a4075f5f4\" target=\"_top\" title=\"psysml:9da5c160-44e8-44ec-9936-ca4a4075f5f4\" xlink:actuate=\"onRequest\" xlink:href=\"psysml:9da5c160-44e8-44ec-9936-ca4a4075f5f4\" xlink:show=\"new\" xlink:title=\"psysml:9da5c160-44e8-44ec-9936-ca4a4075f5f4\" xlink:type=\"simple\"><path d=\"M393,346.82 C393,366.52 393,393.94 393,415.45 \" fill=\"none\" id=\"E4-to-E5\" style=\"stroke:#181818;stroke-width:1.0;stroke-dasharray:7.0,7.0;\"/><polygon fill=\"#181818\" points=\"393,423.67,396,415.67,390,415.67,393,423.67\" style=\"stroke:#181818;stroke-width:1.0;\"/><text fill=\"#000000\" font-family=\"sans-serif\" font-size=\"13\" lengthAdjust=\"spacing\" textLength=\"64\" x=\"394\" y=\"389.7869\">«depend»</text></a></g><!--MD5=[c5e8897d989ce984f93528998a7150fe]\n",
       "link E8 to E6--><g id=\"link_E8_E6\"><a href=\"psysml:cc6cc763-fa59-42bd-a700-018e736c1371\" target=\"_top\" title=\"psysml:cc6cc763-fa59-42bd-a700-018e736c1371\" xlink:actuate=\"onRequest\" xlink:href=\"psysml:cc6cc763-fa59-42bd-a700-018e736c1371\" xlink:show=\"new\" xlink:title=\"psysml:cc6cc763-fa59-42bd-a700-018e736c1371\" xlink:type=\"simple\"><path d=\"M103.65,214.28 C94.77,223.39 85.95,234.59 81,246.72 C75.77,259.54 74.48,274.72 74.71,287.87 \" fill=\"none\" id=\"E8-to-E6\" style=\"stroke:#181818;stroke-width:1.0;stroke-dasharray:7.0,7.0;\"/><polygon fill=\"#181818\" points=\"75.05,296.17,77.7192,288.0536,71.7242,288.2998,75.05,296.17\" style=\"stroke:#181818;stroke-width:1.0;\"/><text fill=\"#000000\" font-family=\"sans-serif\" font-size=\"13\" lengthAdjust=\"spacing\" textLength=\"64\" x=\"82\" y=\"259.7869\">«depend»</text></a></g><!--MD5=[bfa3c8b0d15052fdf50ae9310b491027]\n",
       "link E8 to E7--><g id=\"link_E8_E7\"><a href=\"psysml:cc6cc763-fa59-42bd-a700-018e736c1371\" target=\"_top\" title=\"psysml:cc6cc763-fa59-42bd-a700-018e736c1371\" xlink:actuate=\"onRequest\" xlink:href=\"psysml:cc6cc763-fa59-42bd-a700-018e736c1371\" xlink:show=\"new\" xlink:title=\"psysml:cc6cc763-fa59-42bd-a700-018e736c1371\" xlink:type=\"simple\"><path d=\"M145.31,214.4 C158.28,235.42 177.48,266.53 191.6,289.4 \" fill=\"none\" id=\"E8-to-E7\" style=\"stroke:#181818;stroke-width:1.0;stroke-dasharray:7.0,7.0;\"/><polygon fill=\"#181818\" points=\"195.8,296.21,194.1357,287.8297,189.0357,290.9904,195.8,296.21\" style=\"stroke:#181818;stroke-width:1.0;\"/><text fill=\"#000000\" font-family=\"sans-serif\" font-size=\"13\" lengthAdjust=\"spacing\" textLength=\"64\" x=\"176\" y=\"259.7869\">«depend»</text></a></g><!--MD5=[3422c900658581e9c7bf00565817dbee]\n",
       "@startuml\r\n",
       " \r\n",
       "package \"DependencyTest\" as E1  [[psysml:7dee102c-3f89-42b9-9919-3eaa1d7109e5 ]]  {\r\n",
       "package \"System\" as E2  [[psysml:da04b59d-3286-4d3f-bbc3-7e7bb49d7c5d ]]  {\r\n",
       "package \"Application Layer\" as E3  [[psysml:174d7b64-e31a-4a54-99c4-d88bb0afa8af ]]  {\r\n",
       "}\r\n",
       "package \"Service Layer\" as E4  [[psysml:6cc47e98-b8e7-4ff0-90aa-a6e12ea2ee54 ]]  {\r\n",
       "}\r\n",
       "package \"Data Layer\" as E5  [[psysml:a41e95d1-6586-47c5-87a0-a52adaa3773e ]]  {\r\n",
       "}\r\n",
       "}\r\n",
       "comp usage \"x  \" as E6  << <<(U,orange) attribute>> [[psysml:fa1eb9e1-3558-4ac6-ae6a-7c42660b9dca ]] {\r\n",
       "}\r\n",
       "comp usage \"y  \" as E7  << <<(U,orange) attribute>> [[psysml:a1db1b5d-0100-40b0-bd9f-2e7223fe2e6d ]] {\r\n",
       "}\r\n",
       "comp usage \"z  \" as E8  << <<(U,orange) attribute>> [[psysml:179fcb88-b86f-4c8c-8d3f-0f88ad709e86 ]] {\r\n",
       "}\r\n",
       "}\r\n",
       "E1 ..> E2 [[psysml:98ffbcea-2ad0-443f-b206-57004efde221 ]] : <<import>>*\r\n",
       "E3 ..>> E4 [[psysml:94e1a3f7-50a9-4c8e-a4e8-5ce452ddfecf ]] : <<depend>>\r\n",
       "E4 ..>> E5 [[psysml:9da5c160-44e8-44ec-9936-ca4a4075f5f4 ]] : <<depend>>\r\n",
       "E8 ..>> E6 [[psysml:cc6cc763-fa59-42bd-a700-018e736c1371 ]] : <<depend>>\r\n",
       "E8 ..>> E7 [[psysml:cc6cc763-fa59-42bd-a700-018e736c1371 ]] : <<depend>>\r\n",
       "@enduml\r\n",
       "\n",
       "PlantUML version 1.2022.7(Mon Aug 22 17:01:30 UTC 2022)\n",
       "(EPL source distribution)\n",
       "Java Runtime: OpenJDK Runtime Environment\n",
       "JVM: OpenJDK 64-Bit Server VM\n",
       "Default Encoding: UTF-8\n",
       "Language: en\n",
       "Country: null\n",
       "--></g></svg>"
      ]
     },
     "execution_count": 31,
     "metadata": {},
     "output_type": "execute_result"
    }
   ],
   "source": [
    "%viz --style=\"PLANTUML\" --view=\"Tree\" \"DependencyTest\""
   ]
  },
  {
   "cell_type": "code",
   "execution_count": 32,
   "id": "32f640c7",
   "metadata": {
    "execution": {
     "iopub.execute_input": "2024-12-16T03:27:31.994980Z",
     "iopub.status.busy": "2024-12-16T03:27:31.994772Z",
     "iopub.status.idle": "2024-12-16T03:27:32.032663Z",
     "shell.execute_reply": "2024-12-16T03:27:32.031896Z"
    }
   },
   "outputs": [
    {
     "data": {
      "image/svg+xml": [
       "<?xml version=\"1.0\" encoding=\"UTF-8\" standalone=\"no\"?><svg xmlns=\"http://www.w3.org/2000/svg\" xmlns:xlink=\"http://www.w3.org/1999/xlink\" contentStyleType=\"text/css\" height=\"389px\" preserveAspectRatio=\"none\" style=\"width:603px;height:389px;background:#000000;\" version=\"1.1\" viewBox=\"0 0 603 389\" width=\"603px\" zoomAndPan=\"magnify\"><defs/><g><rect fill=\"#22141F\" height=\"1\" style=\"stroke:#22141F;stroke-width:1.0;\" width=\"1\" x=\"0\" y=\"0\"/><rect fill=\"#FFFFFF\" height=\"226.6573\" style=\"stroke:#FFFFFF;stroke-width:1.0;\" width=\"602\" x=\"0\" y=\"0\"/><text fill=\"#000000\" font-family=\"sans-serif\" font-size=\"12\" font-weight=\"bold\" lengthAdjust=\"spacing\" textLength=\"145.75\" x=\"5\" y=\"16.1387\">Welcome to PlantUML!</text><text fill=\"#000000\" font-family=\"sans-serif\" font-size=\"12\" lengthAdjust=\"spacing\" textLength=\"4\" x=\"5\" y=\"30.1074\"> </text><text fill=\"#000000\" font-family=\"sans-serif\" font-size=\"12\" lengthAdjust=\"spacing\" textLength=\"283\" x=\"5\" y=\"44.0762\">You can start with a simple UML Diagram like:</text><text fill=\"#000000\" font-family=\"sans-serif\" font-size=\"12\" lengthAdjust=\"spacing\" textLength=\"4\" x=\"5\" y=\"58.0449\"> </text><text fill=\"#000000\" font-family=\"monospace\" font-size=\"12\" lengthAdjust=\"spacing\" textLength=\"119\" x=\"5\" y=\"73.7031\">Bob-&gt;Alice: Hello</text><text fill=\"#000000\" font-family=\"sans-serif\" font-size=\"12\" lengthAdjust=\"spacing\" textLength=\"4\" x=\"5\" y=\"88.3578\"> </text><text fill=\"#000000\" font-family=\"sans-serif\" font-size=\"12\" lengthAdjust=\"spacing\" textLength=\"14\" x=\"5\" y=\"102.3265\">Or</text><text fill=\"#000000\" font-family=\"sans-serif\" font-size=\"12\" lengthAdjust=\"spacing\" textLength=\"4\" x=\"5\" y=\"116.2953\"> </text><text fill=\"#000000\" font-family=\"monospace\" font-size=\"12\" lengthAdjust=\"spacing\" textLength=\"91\" x=\"5\" y=\"131.9535\">class Example</text><text fill=\"#000000\" font-family=\"sans-serif\" font-size=\"12\" lengthAdjust=\"spacing\" textLength=\"4\" x=\"5\" y=\"146.6082\"> </text><text fill=\"#000000\" font-family=\"sans-serif\" font-size=\"12\" lengthAdjust=\"spacing\" textLength=\"349\" x=\"5\" y=\"160.5769\">You will find more information about PlantUML syntax on</text><text fill=\"#000000\" font-family=\"sans-serif\" font-size=\"12\" lengthAdjust=\"spacing\" text-decoration=\"underline\" textLength=\"129\" x=\"358\" y=\"160.5769\">https://plantuml.com</text><text fill=\"#000000\" font-family=\"sans-serif\" font-size=\"12\" lengthAdjust=\"spacing\" textLength=\"4\" x=\"5\" y=\"174.5457\"> </text><text fill=\"#000000\" font-family=\"sans-serif\" font-size=\"12\" lengthAdjust=\"spacing\" textLength=\"299\" x=\"5\" y=\"188.5144\">(If you use this software, you accept its license)</text><text fill=\"#000000\" font-family=\"sans-serif\" font-size=\"12\" lengthAdjust=\"spacing\" textLength=\"108\" x=\"5\" y=\"204.8585\">(Details by typing</text><text fill=\"#000000\" font-family=\"monospace\" font-size=\"12\" lengthAdjust=\"spacing\" textLength=\"49\" x=\"117\" y=\"204.1726\">license</text><text fill=\"#000000\" font-family=\"sans-serif\" font-size=\"12\" lengthAdjust=\"spacing\" textLength=\"56\" x=\"170\" y=\"204.8585\">keyword)</text><text fill=\"#000000\" font-family=\"sans-serif\" font-size=\"12\" lengthAdjust=\"spacing\" textLength=\"4\" x=\"5\" y=\"218.8273\"> </text><image height=\"71\" width=\"80\" x=\"516\" xlink:href=\"data:image/png;base64,iVBORw0KGgoAAAANSUhEUgAAAFAAAABHCAMAAACnHDC8AAADAFBMVEX///+BpbvD3u/f7vfPz8+nz+g3ksuZEDkWADr/ujlvsdpTodLCwsOLwOEbg8T//v6pqamZETnLysvT09To5+jqLS4VATj9/f27u7vDw8MTfsK+v7/j4+SOweJprdjL4/KxsbEri8jk8PgXa57c29uUETez1utQoNJ1tNtEmc9cptWBut6ayOW/3O6YEDjY6vUfhcXBwcHs7Ozw9/v83t79uTn7+/vX19ehoaHx8fG2tLXHx8fuVlfrNTYaBjn/vUH5+fmko6WXl5f/+fn95ub+9PT+8PD3qKidmaMxIUrnqDWcFj7n5eX09PTu7u2SkpKfnZ6rq6z0lJTm4tzJrHUfDT339/eFGDn6tjcrEzOvrbBuZ3l4eomSMS7Hz9Smpqasu8SFiYuQETfa2du1m6OOM051J0NWTWL5xse4uLj6zc33r6/4vb7ydHXqLi/72dntTE3tR0ijbn5jW3C+u8NANVQrG0XFubqRVGZza4GQGT2VaS7a0NPJtI6IJj/zszrfqkXXzr/Hw8cgC0LUqltOQ2JsSC5bTGjOpFafSi2+iDGtyt14m7TJhTCPJUSwoIG/qa+ikHiIgpCRHjI9j8KXbnaQH0FLf6FGPlp0cnYyKE2rg49Wj7dFXHmcwtrp6uu+xMjvYWLvW1z97e3sPD3sP0DuUlP709PYzdDPmzqZWWySRVygfHHd1smWkZ+PgnibETqsl260q5fLuppJLC/dpj2HPFLTtHv/ujrTwJy5s6iWjIi0iD3joTTCmU3trjuvZS2zlFvjq0HSyLbYp0qRts10XGxEKC9yPVBQZIOPdlNvMk2NeYNqRlujtcCVrr3j5eY1gK9Qn9GLp7lbeJXRxrCkiZDaozyukoJ+H0B3rc+OYy+iprJkYXdhmr6ee0afs79xq9BikrGKjI3FomEiLFO0ay6nfIm4pZXRjTFuhZSZWm0zcZyJN0KNTk4eebNfdIGGlZ93h5kcED5nOVYyRWbziIk9dJ4kerE5ZYxRUnLG1d7p8PTvY2PtTk/1nZ1ycV/bAAAFx0lEQVR4Xu1Ye1BUVRg/e3dhl4csKyxqPlBJQVETF2icAY13GogkEFqizqRRpoBpTCIapaUOhWNjUdOMSBpqJYZTg4KigFKADzSIVZ4qD5VFluXhLgvbPee+r49R7v2z3+zcc77fOfPb7zvfPd85uwCIhwT4wPisANwPAuIKHnbHH1I+KwAXDA18ShDW58CneCEnXl8JGwmfHylCPSvlZ/FWxh8YIRIxTWkZAEofkTz8sNq7tAqE2gODOB6GYZobVaH20SVZ4oQcdmXV0L7c4b8OFvJHRoYwdVIoyPX3gxtFDA+V8e6mM8pBoCjij4wQiWo/ALzV/kpkifBi13p4waZuGrJEECycixcEVSbYgFwUozg4/qSraOxrP7O8Eogj2HDxyMWmzpk6823+yIjhvR7fLOpDsCuGhwC0WfbkjQq8A0MWC0EgIYzPCYMymM8Iwcvz6K4IWw8skTrgq3iPMIQnxdfKrvyedpyvbSsyBQt6zcH6OxXmjqYxg9PbgXBBveK6aRAXNEl1Ssc+hz7Bgntyohb/ggQlNrrdzfIuoYKSb79067PrRoLmGo25SeghJRn1yMrSbPTptZaoBlwtlWbBHspxiW+mW8+46ereVnMXGxbFQ+mjofiHZTrclJn5E14UEgdrO9tRVph0HDJlYlRsLv4XFA7RBA1kK5ogBb7gtn08AvxWymc2b+YzLHC3nnOCNHvdayUsZpnnwnPqGf+yGKcPKlv92vtJC209zGyRWJmgyd16sSGGT/AmM2rdKZKZHxwCz7KUodLzJOO8th4OBqxdo0c2tfUkNr3QlJkZQWWMBP0uwBHvmQQb3zRVCMnsMO6ATazf3f0kkza0HTaPCdIhpyTknqP61Te1eV2gRpr1FUn4xtxRT72pDHhj09/UnBLjiv72p4d8FEtlLibBd7Qg0xK5+XfS9q2AzxSVHPnNIMBS8BQPw8N1W4glQWj0mtp4+nSHhvKYOM4GL6vH1jGTcDQ3p1979AQPI5agXEDYwuS5awknJ73rHU56RyLAr6ACpO5iMRGvp3XykjImgs4Fgm2/7URc8dhbeD9jdhYVNon0mdFcAjTIXbmC75VrmVHcQ+JDIXbuNmYUYlZoYx6XcWjKTWavYXd1WzU9OEh9wLFfEVFza5PEhVhDAvfLx60cWM3ePMa9hyZG5DNr6DbQiCUcYU0AKGzGyYxlkf+wxnCk+wdwCbA/TkWH7Dbgoq8dcmKNssQQ3F/JmMxlIj/fzo/7s9OIwUMebbYzbh2zLfk7ehBGzIau6OeO+xzGKlBRwCGAXNaCFgYbRoKG+hMTfMff4M6h0LYxpmv/92ym9tIxc4uRzawynCEWGhum7odf9/75vh8zg0bKijX5AMxhMacsK8pBxaJihtnQqr1KG8yFMzq/dutJ2iKwNCbXA7Yamsm2Xn0XtgtowY3Xy8rpYc4NNqon8eM49k+NtzU55GtMleGAkNR6oldDMhH+e9EX0JB+UYKv4WgLZrLCjHV7wnyYlzJZvYV6A6d1w6xEph842UUyTkjGIbzwRA/JIOBJKSt88yglqND1h6TpiQqQV99wmJ7nknQcgIIHqd00EwSzgudigGYQUHE4qFMcGJb22kp7lNop8p6znStvg5S2e1TVRti56w/zj8fZzKLiDa317MqBQFbs+J3dcbSgo+H4D0kLOokJ82/NR8KZbp9eIZgllwKR8Ec1ejIX827POk/06HpYffGd5dkoZJXMqDAVXd1Nbhavlx4OyuAiPcyAF3Ick8faXAuE5WToApkMxykL1PbNRJ91SDkXOyymPFR1UMlw9GjRPKCrPsRSvUnbzbkELj2PSSRkQLiH1AvROTutlpryLHQAoCD+C2BBP4npMwd9zsIgzgaDsK+bctmVw3hetai5t9RS4PEqub4QnCvxteGzOZyQXxjscxkhHisWKMi72+T0p1dxGeGYkG0ez+eeG7In/n/oNOexC9fzIiLvPxVtKp84iza+AAAAAElFTkSuQmCC\" y=\"6\"/><rect fill=\"#000000\" height=\"160.3594\" style=\"stroke:#000000;stroke-width:1.0;\" width=\"602\" x=\"0\" y=\"226.6573\"/><text fill=\"#33FF02\" font-family=\"sans-serif\" font-size=\"12\" font-style=\"italic\" font-weight=\"bold\" lengthAdjust=\"spacing\" textLength=\"123\" x=\"5\" y=\"243.6573\">PlantUML 1.2022.7</text><text fill=\"#33FF02\" font-family=\"sans-serif\" font-size=\"12\" font-style=\"italic\" font-weight=\"bold\" lengthAdjust=\"spacing\" textLength=\"4\" x=\"5\" y=\"257.6261\"> </text><text fill=\"#33FF02\" font-family=\"sans-serif\" font-size=\"12\" font-style=\"italic\" font-weight=\"bold\" lengthAdjust=\"spacing\" textLength=\"390\" x=\"5\" y=\"271.5948\">&lt;b&gt;This version of PlantUML is 846 days old, so you should</text><text fill=\"#33FF02\" font-family=\"sans-serif\" font-size=\"12\" font-style=\"italic\" font-weight=\"bold\" lengthAdjust=\"spacing\" textLength=\"398.875\" x=\"5\" y=\"285.5636\">&lt;b&gt;consider upgrading from https://plantuml.com/download</text><rect fill=\"#33FF02\" height=\"21.2969\" style=\"stroke:#33FF02;stroke-width:1.0;\" width=\"153.3125\" x=\"5\" y=\"295.5323\"/><text fill=\"#000000\" font-family=\"sans-serif\" font-size=\"14\" font-weight=\"bold\" lengthAdjust=\"spacing\" textLength=\"151.3125\" x=\"6\" y=\"310.5323\">[From string (line 2) ]</text><text fill=\"#33FF02\" font-family=\"sans-serif\" font-size=\"14\" font-weight=\"bold\" lengthAdjust=\"spacing\" textLength=\"4\" x=\"5\" y=\"330.8292\"> </text><text fill=\"#33FF02\" font-family=\"sans-serif\" font-size=\"14\" font-weight=\"bold\" lengthAdjust=\"spacing\" textLength=\"73.9375\" x=\"5\" y=\"347.1261\">@startuml</text><text fill=\"#33FF02\" font-family=\"sans-serif\" font-size=\"14\" font-weight=\"bold\" lengthAdjust=\"spacing\" text-decoration=\"wavy underline\" textLength=\"4\" x=\"5\" y=\"363.423\"> </text><text fill=\"#FF0000\" font-family=\"sans-serif\" font-size=\"14\" font-weight=\"bold\" lengthAdjust=\"spacing\" textLength=\"131\" x=\"9\" y=\"379.7198\">Empty description</text><!--MD5=[5b6570bdd48fecdb4121f0162c378f28]\n",
       "@startuml\r\n",
       " \r\n",
       "@enduml\r\n",
       "\n",
       "PlantUML version 1.2022.7(Mon Aug 22 17:01:30 UTC 2022)\n",
       "(EPL source distribution)\n",
       "Java Runtime: OpenJDK Runtime Environment\n",
       "JVM: OpenJDK 64-Bit Server VM\n",
       "Default Encoding: UTF-8\n",
       "Language: en\n",
       "Country: null\n",
       "--></g></svg>"
      ]
     },
     "execution_count": 32,
     "metadata": {},
     "output_type": "execute_result"
    }
   ],
   "source": [
    "%viz --style=\"PLANTUML\" --view=\"State\" \"DependencyTest\""
   ]
  },
  {
   "cell_type": "code",
   "execution_count": 33,
   "id": "462f2a99",
   "metadata": {
    "execution": {
     "iopub.execute_input": "2024-12-16T03:27:32.088145Z",
     "iopub.status.busy": "2024-12-16T03:27:32.087926Z",
     "iopub.status.idle": "2024-12-16T03:27:32.108115Z",
     "shell.execute_reply": "2024-12-16T03:27:32.107308Z"
    }
   },
   "outputs": [
    {
     "data": {
      "image/svg+xml": [
       "<?xml version=\"1.0\" encoding=\"UTF-8\" standalone=\"no\"?><svg xmlns=\"http://www.w3.org/2000/svg\" xmlns:xlink=\"http://www.w3.org/1999/xlink\" contentStyleType=\"text/css\" height=\"437px\" preserveAspectRatio=\"none\" style=\"width:532px;height:437px;background:#FFFFFF;\" version=\"1.1\" viewBox=\"0 0 532 437\" width=\"532px\" zoomAndPan=\"magnify\"><defs/><g><!--MD5=[fbc87193dbaf4d95561dea2c320d4a47]\n",
       "cluster E1--><g id=\"cluster_E1\"><a href=\"psysml:7dee102c-3f89-42b9-9919-3eaa1d7109e5\" target=\"_top\" title=\"psysml:7dee102c-3f89-42b9-9919-3eaa1d7109e5\" xlink:actuate=\"onRequest\" xlink:href=\"psysml:7dee102c-3f89-42b9-9919-3eaa1d7109e5\" xlink:show=\"new\" xlink:title=\"psysml:7dee102c-3f89-42b9-9919-3eaa1d7109e5\" xlink:type=\"simple\"><path d=\"M8.5,6 L135.625,6 A3.75,3.75 0 0 1 138.125,8.5 L145.125,28.2969 L522.5,28.2969 A2.5,2.5 0 0 1 525,30.7969 L525,428.22 A2.5,2.5 0 0 1 522.5,430.72 L8.5,430.72 A2.5,2.5 0 0 1 6,428.22 L6,8.5 A2.5,2.5 0 0 1 8.5,6 \" fill=\"none\" style=\"stroke:#000000;stroke-width:1.5;\"/><line style=\"stroke:#000000;stroke-width:1.5;\" x1=\"6\" x2=\"145.125\" y1=\"28.2969\" y2=\"28.2969\"/><text fill=\"#000000\" font-family=\"sans-serif\" font-size=\"14\" font-weight=\"bold\" lengthAdjust=\"spacing\" textLength=\"126.125\" x=\"10\" y=\"20.9951\">DependencyTest</text></a></g><!--MD5=[e4f7fae6ed58524ba242bb0b0d3be6b7]\n",
       "cluster E2--><g id=\"cluster_E2\"><a href=\"psysml:da04b59d-3286-4d3f-bbc3-7e7bb49d7c5d\" target=\"_top\" title=\"psysml:da04b59d-3286-4d3f-bbc3-7e7bb49d7c5d\" xlink:actuate=\"onRequest\" xlink:href=\"psysml:da04b59d-3286-4d3f-bbc3-7e7bb49d7c5d\" xlink:show=\"new\" xlink:title=\"psysml:da04b59d-3286-4d3f-bbc3-7e7bb49d7c5d\" xlink:type=\"simple\"><path d=\"M284.5,98.72 L339.125,98.72 A3.75,3.75 0 0 1 341.625,101.22 L348.625,121.0169 L482.5,121.0169 A2.5,2.5 0 0 1 485,123.5169 L485,388.22 A2.5,2.5 0 0 1 482.5,390.72 L284.5,390.72 A2.5,2.5 0 0 1 282,388.22 L282,101.22 A2.5,2.5 0 0 1 284.5,98.72 \" fill=\"none\" style=\"stroke:#000000;stroke-width:1.5;\"/><line style=\"stroke:#000000;stroke-width:1.5;\" x1=\"282\" x2=\"348.625\" y1=\"121.0169\" y2=\"121.0169\"/><text fill=\"#000000\" font-family=\"sans-serif\" font-size=\"14\" font-weight=\"bold\" lengthAdjust=\"spacing\" textLength=\"53.625\" x=\"286\" y=\"113.7151\">System</text></a></g><!--MD5=[60a26617385b1d2d0262a64233df1f8d]\n",
       "class E6--><a href=\"psysml:fa1eb9e1-3558-4ac6-ae6a-7c42660b9dca\" target=\"_top\" title=\"psysml:fa1eb9e1-3558-4ac6-ae6a-7c42660b9dca\" xlink:actuate=\"onRequest\" xlink:href=\"psysml:fa1eb9e1-3558-4ac6-ae6a-7c42660b9dca\" xlink:show=\"new\" xlink:title=\"psysml:fa1eb9e1-3558-4ac6-ae6a-7c42660b9dca\" xlink:type=\"simple\"><g id=\"elem_E6\"><rect fill=\"#F1F1F1\" height=\"48.2656\" id=\"E6\" rx=\"10\" ry=\"10\" style=\"stroke:#181818;stroke-width:0.5;\" width=\"97\" x=\"29.5\" y=\"230.22\"/><ellipse cx=\"44.5\" cy=\"250.3528\" fill=\"#FFA500\" rx=\"11\" ry=\"11\" style=\"stroke:#181818;stroke-width:1.0;\"/><path d=\"M44.5625,257.5247 Q42.4531,257.5247 41.3594,256.3997 Q40.2656,255.2747 40.2656,253.2278 L40.2656,245.2122 L42.7344,245.2122 L42.7344,252.7903 Q42.7344,254.2278 43.1875,254.8216 Q43.6406,255.3997 44.5938,255.3997 Q45.6094,255.3997 46.0313,254.7903 Q46.4688,254.1809 46.4688,252.7747 L46.4688,245.2122 L48.9375,245.2122 L48.9375,253.2122 Q48.9375,255.1966 47.8438,256.3684 Q46.7656,257.5247 44.5625,257.5247 Z \" fill=\"#000000\"/><text fill=\"#000000\" font-family=\"sans-serif\" font-size=\"12\" font-style=\"italic\" lengthAdjust=\"spacing\" textLength=\"69\" x=\"56.5\" y=\"246.3587\">«attribute»</text><text fill=\"#000000\" font-family=\"sans-serif\" font-size=\"14\" lengthAdjust=\"spacing\" textLength=\"7\" x=\"83.5\" y=\"262.1839\">x</text><line style=\"stroke:#181818;stroke-width:0.5;\" x1=\"30.5\" x2=\"125.5\" y1=\"270.4856\" y2=\"270.4856\"/></g></a><!--MD5=[2156ba9850f5573cc1fc38a6a4b2f02b]\n",
       "class E7--><a href=\"psysml:a1db1b5d-0100-40b0-bd9f-2e7223fe2e6d\" target=\"_top\" title=\"psysml:a1db1b5d-0100-40b0-bd9f-2e7223fe2e6d\" xlink:actuate=\"onRequest\" xlink:href=\"psysml:a1db1b5d-0100-40b0-bd9f-2e7223fe2e6d\" xlink:show=\"new\" xlink:title=\"psysml:a1db1b5d-0100-40b0-bd9f-2e7223fe2e6d\" xlink:type=\"simple\"><g id=\"elem_E7\"><rect fill=\"#F1F1F1\" height=\"48.2656\" id=\"E7\" rx=\"10\" ry=\"10\" style=\"stroke:#181818;stroke-width:0.5;\" width=\"97\" x=\"161.5\" y=\"230.22\"/><ellipse cx=\"176.5\" cy=\"250.3528\" fill=\"#FFA500\" rx=\"11\" ry=\"11\" style=\"stroke:#181818;stroke-width:1.0;\"/><path d=\"M176.5625,257.5247 Q174.4531,257.5247 173.3594,256.3997 Q172.2656,255.2747 172.2656,253.2278 L172.2656,245.2122 L174.7344,245.2122 L174.7344,252.7903 Q174.7344,254.2278 175.1875,254.8216 Q175.6406,255.3997 176.5938,255.3997 Q177.6094,255.3997 178.0313,254.7903 Q178.4688,254.1809 178.4688,252.7747 L178.4688,245.2122 L180.9375,245.2122 L180.9375,253.2122 Q180.9375,255.1966 179.8438,256.3684 Q178.7656,257.5247 176.5625,257.5247 Z \" fill=\"#000000\"/><text fill=\"#000000\" font-family=\"sans-serif\" font-size=\"12\" font-style=\"italic\" lengthAdjust=\"spacing\" textLength=\"69\" x=\"188.5\" y=\"246.3587\">«attribute»</text><text fill=\"#000000\" font-family=\"sans-serif\" font-size=\"14\" lengthAdjust=\"spacing\" textLength=\"7\" x=\"215.5\" y=\"262.1839\">y</text><line style=\"stroke:#181818;stroke-width:0.5;\" x1=\"162.5\" x2=\"257.5\" y1=\"270.4856\" y2=\"270.4856\"/></g></a><!--MD5=[b9389687b975829384b498ac4b7476b2]\n",
       "class E8--><a href=\"psysml:179fcb88-b86f-4c8c-8d3f-0f88ad709e86\" target=\"_top\" title=\"psysml:179fcb88-b86f-4c8c-8d3f-0f88ad709e86\" xlink:actuate=\"onRequest\" xlink:href=\"psysml:179fcb88-b86f-4c8c-8d3f-0f88ad709e86\" xlink:show=\"new\" xlink:title=\"psysml:179fcb88-b86f-4c8c-8d3f-0f88ad709e86\" xlink:type=\"simple\"><g id=\"elem_E8\"><rect fill=\"#F1F1F1\" height=\"48.2656\" id=\"E8\" rx=\"10\" ry=\"10\" style=\"stroke:#181818;stroke-width:0.5;\" width=\"97\" x=\"82.5\" y=\"144.22\"/><ellipse cx=\"97.5\" cy=\"164.3528\" fill=\"#FFA500\" rx=\"11\" ry=\"11\" style=\"stroke:#181818;stroke-width:1.0;\"/><path d=\"M97.5625,171.5247 Q95.4531,171.5247 94.3594,170.3997 Q93.2656,169.2747 93.2656,167.2278 L93.2656,159.2122 L95.7344,159.2122 L95.7344,166.7903 Q95.7344,168.2278 96.1875,168.8216 Q96.6406,169.3997 97.5938,169.3997 Q98.6094,169.3997 99.0313,168.7903 Q99.4688,168.1809 99.4688,166.7747 L99.4688,159.2122 L101.9375,159.2122 L101.9375,167.2122 Q101.9375,169.1966 100.8438,170.3684 Q99.7656,171.5247 97.5625,171.5247 Z \" fill=\"#000000\"/><text fill=\"#000000\" font-family=\"sans-serif\" font-size=\"12\" font-style=\"italic\" lengthAdjust=\"spacing\" textLength=\"69\" x=\"109.5\" y=\"160.3587\">«attribute»</text><text fill=\"#000000\" font-family=\"sans-serif\" font-size=\"14\" lengthAdjust=\"spacing\" textLength=\"8\" x=\"136\" y=\"176.1839\">z</text><line style=\"stroke:#181818;stroke-width:0.5;\" x1=\"83.5\" x2=\"178.5\" y1=\"184.4856\" y2=\"184.4856\"/></g></a><a href=\"psysml:174d7b64-e31a-4a54-99c4-d88bb0afa8af\" target=\"_top\" title=\"psysml:174d7b64-e31a-4a54-99c4-d88bb0afa8af\" xlink:actuate=\"onRequest\" xlink:href=\"psysml:174d7b64-e31a-4a54-99c4-d88bb0afa8af\" xlink:show=\"new\" xlink:title=\"psysml:174d7b64-e31a-4a54-99c4-d88bb0afa8af\" xlink:type=\"simple\"><path d=\"M328,141.72 L444,141.72 A3.75,3.75 0 0 1 446.5,144.22 L453.5,164.0169 L458,164.0169 A2.5,2.5 0 0 1 460.5,166.5169 L460.5,191.8138 A2.5,2.5 0 0 1 458,194.3138 L328,194.3138 A2.5,2.5 0 0 1 325.5,191.8138 L325.5,144.22 A2.5,2.5 0 0 1 328,141.72 \" fill=\"#F1F1F1\" style=\"stroke:#181818;stroke-width:0.5;\"/><line style=\"stroke:#181818;stroke-width:0.5;\" x1=\"325.5\" x2=\"453.5\" y1=\"164.0169\" y2=\"164.0169\"/><text fill=\"#000000\" font-family=\"sans-serif\" font-size=\"14\" lengthAdjust=\"spacing\" textLength=\"115\" x=\"329.5\" y=\"156.7151\">Application Layer</text></a><a href=\"psysml:6cc47e98-b8e7-4ff0-90aa-a6e12ea2ee54\" target=\"_top\" title=\"psysml:6cc47e98-b8e7-4ff0-90aa-a6e12ea2ee54\" xlink:actuate=\"onRequest\" xlink:href=\"psysml:6cc47e98-b8e7-4ff0-90aa-a6e12ea2ee54\" xlink:show=\"new\" xlink:title=\"psysml:6cc47e98-b8e7-4ff0-90aa-a6e12ea2ee54\" xlink:type=\"simple\"><path d=\"M340.5,227.72 L431.5,227.72 A3.75,3.75 0 0 1 434,230.22 L441,250.0169 L445.5,250.0169 A2.5,2.5 0 0 1 448,252.5169 L448,277.8138 A2.5,2.5 0 0 1 445.5,280.3138 L340.5,280.3138 A2.5,2.5 0 0 1 338,277.8138 L338,230.22 A2.5,2.5 0 0 1 340.5,227.72 \" fill=\"#F1F1F1\" style=\"stroke:#181818;stroke-width:0.5;\"/><line style=\"stroke:#181818;stroke-width:0.5;\" x1=\"338\" x2=\"441\" y1=\"250.0169\" y2=\"250.0169\"/><text fill=\"#000000\" font-family=\"sans-serif\" font-size=\"14\" lengthAdjust=\"spacing\" textLength=\"90\" x=\"342\" y=\"242.7151\">Service Layer</text></a><a href=\"psysml:a41e95d1-6586-47c5-87a0-a52adaa3773e\" target=\"_top\" title=\"psysml:a41e95d1-6586-47c5-87a0-a52adaa3773e\" xlink:actuate=\"onRequest\" xlink:href=\"psysml:a41e95d1-6586-47c5-87a0-a52adaa3773e\" xlink:show=\"new\" xlink:title=\"psysml:a41e95d1-6586-47c5-87a0-a52adaa3773e\" xlink:type=\"simple\"><path d=\"M349.5,313.72 L422.5,313.72 A3.75,3.75 0 0 1 425,316.22 L432,336.0169 L436.5,336.0169 A2.5,2.5 0 0 1 439,338.5169 L439,363.8138 A2.5,2.5 0 0 1 436.5,366.3138 L349.5,366.3138 A2.5,2.5 0 0 1 347,363.8138 L347,316.22 A2.5,2.5 0 0 1 349.5,313.72 \" fill=\"#F1F1F1\" style=\"stroke:#181818;stroke-width:0.5;\"/><line style=\"stroke:#181818;stroke-width:0.5;\" x1=\"347\" x2=\"432\" y1=\"336.0169\" y2=\"336.0169\"/><text fill=\"#000000\" font-family=\"sans-serif\" font-size=\"14\" lengthAdjust=\"spacing\" textLength=\"72\" x=\"351\" y=\"328.7151\">Data Layer</text></a><!--MD5=[1f1cd8e6dd4c1b2ca2aaccc9b9bcea6e]\n",
       "link E1 to E2--><g id=\"link_E1_E2\"><a href=\"psysml:98ffbcea-2ad0-443f-b206-57004efde221\" target=\"_top\" title=\"psysml:98ffbcea-2ad0-443f-b206-57004efde221\" xlink:actuate=\"onRequest\" xlink:href=\"psysml:98ffbcea-2ad0-443f-b206-57004efde221\" xlink:show=\"new\" xlink:title=\"psysml:98ffbcea-2ad0-443f-b206-57004efde221\" xlink:type=\"simple\"><path d=\"M290,33.82 C290,34.815 290,43.3994 290,55.7775 C290,61.9666 290,69.1041 290,76.7155 C290,80.5213 290,84.4455 290,88.429 C290,90.4207 290,92.4272 290,94.4411 C290,95.448 290,96.4568 290,97.4665 C290,97.719 290,97.9714 290,98.224 \" fill=\"none\" id=\"E1-to-E2\" style=\"stroke:#181818;stroke-width:1.0;stroke-dasharray:7.0,7.0;\"/><polygon fill=\"#181818\" points=\"290,98.224,294,89.224,290,93.224,286,89.224,290,98.224\" style=\"stroke:#181818;stroke-width:1.0;\"/><text fill=\"#000000\" font-family=\"sans-serif\" font-size=\"13\" lengthAdjust=\"spacing\" textLength=\"65\" x=\"291\" y=\"54.7869\">«import»*</text></a></g><!--MD5=[af87c684e3b0d8be13c1a698a818ef1e]\n",
       "link E3 to E4--><g id=\"link_E3_E4\"><a href=\"psysml:94e1a3f7-50a9-4c8e-a4e8-5ce452ddfecf\" target=\"_top\" title=\"psysml:94e1a3f7-50a9-4c8e-a4e8-5ce452ddfecf\" xlink:actuate=\"onRequest\" xlink:href=\"psysml:94e1a3f7-50a9-4c8e-a4e8-5ce452ddfecf\" xlink:show=\"new\" xlink:title=\"psysml:94e1a3f7-50a9-4c8e-a4e8-5ce452ddfecf\" xlink:type=\"simple\"><path d=\"M393,194.88 C393,202.7 393,211.41 393,219.66 \" fill=\"none\" id=\"E3-to-E4\" style=\"stroke:#181818;stroke-width:1.0;stroke-dasharray:7.0,7.0;\"/><polygon fill=\"#181818\" points=\"393,227.72,396,219.72,390,219.72,393,227.72\" style=\"stroke:#181818;stroke-width:1.0;\"/><text fill=\"#000000\" font-family=\"sans-serif\" font-size=\"13\" lengthAdjust=\"spacing\" textLength=\"64\" x=\"394\" y=\"215.7869\">«depend»</text></a></g><!--MD5=[1b7591eae5389033d8d09a9d6721a717]\n",
       "link E4 to E5--><g id=\"link_E4_E5\"><a href=\"psysml:9da5c160-44e8-44ec-9936-ca4a4075f5f4\" target=\"_top\" title=\"psysml:9da5c160-44e8-44ec-9936-ca4a4075f5f4\" xlink:actuate=\"onRequest\" xlink:href=\"psysml:9da5c160-44e8-44ec-9936-ca4a4075f5f4\" xlink:show=\"new\" xlink:title=\"psysml:9da5c160-44e8-44ec-9936-ca4a4075f5f4\" xlink:type=\"simple\"><path d=\"M393,280.88 C393,288.7 393,297.41 393,305.66 \" fill=\"none\" id=\"E4-to-E5\" style=\"stroke:#181818;stroke-width:1.0;stroke-dasharray:7.0,7.0;\"/><polygon fill=\"#181818\" points=\"393,313.72,396,305.72,390,305.72,393,313.72\" style=\"stroke:#181818;stroke-width:1.0;\"/><text fill=\"#000000\" font-family=\"sans-serif\" font-size=\"13\" lengthAdjust=\"spacing\" textLength=\"64\" x=\"394\" y=\"301.7869\">«depend»</text></a></g><!--MD5=[c5e8897d989ce984f93528998a7150fe]\n",
       "link E8 to E6--><g id=\"link_E8_E6\"><a href=\"psysml:cc6cc763-fa59-42bd-a700-018e736c1371\" target=\"_top\" title=\"psysml:cc6cc763-fa59-42bd-a700-018e736c1371\" xlink:actuate=\"onRequest\" xlink:href=\"psysml:cc6cc763-fa59-42bd-a700-018e736c1371\" xlink:show=\"new\" xlink:title=\"psysml:cc6cc763-fa59-42bd-a700-018e736c1371\" xlink:type=\"simple\"><path d=\"M89.17,192.33 C85.99,195.45 83.18,198.91 81,202.72 C77.72,208.45 76.1,215.18 75.46,221.82 \" fill=\"none\" id=\"E8-to-E6\" style=\"stroke:#181818;stroke-width:1.0;stroke-dasharray:7.0,7.0;\"/><polygon fill=\"#181818\" points=\"75.12,230.1,78.4463,222.2301,72.4514,221.9834,75.12,230.1\" style=\"stroke:#181818;stroke-width:1.0;\"/><text fill=\"#000000\" font-family=\"sans-serif\" font-size=\"13\" lengthAdjust=\"spacing\" textLength=\"64\" x=\"82\" y=\"215.7869\">«depend»</text></a></g><!--MD5=[bfa3c8b0d15052fdf50ae9310b491027]\n",
       "link E8 to E7--><g id=\"link_E8_E7\"><a href=\"psysml:cc6cc763-fa59-42bd-a700-018e736c1371\" target=\"_top\" title=\"psysml:cc6cc763-fa59-42bd-a700-018e736c1371\" xlink:actuate=\"onRequest\" xlink:href=\"psysml:cc6cc763-fa59-42bd-a700-018e736c1371\" xlink:show=\"new\" xlink:title=\"psysml:cc6cc763-fa59-42bd-a700-018e736c1371\" xlink:type=\"simple\"><path d=\"M153.01,192.62 C162.17,202.36 172.9,213.77 182.56,224.05 \" fill=\"none\" id=\"E8-to-E7\" style=\"stroke:#181818;stroke-width:1.0;stroke-dasharray:7.0,7.0;\"/><polygon fill=\"#181818\" points=\"188.11,229.95,184.8117,222.0683,180.4425,226.1805,188.11,229.95\" style=\"stroke:#181818;stroke-width:1.0;\"/><text fill=\"#000000\" font-family=\"sans-serif\" font-size=\"13\" lengthAdjust=\"spacing\" textLength=\"64\" x=\"178\" y=\"215.7869\">«depend»</text></a></g><!--MD5=[55b9be24a756c767f8c2a2140a3b4f98]\n",
       "@startuml\r\n",
       " skinparam ranksep 10\r\n",
       "skinparam rectangle {\r\n",
       " backgroundColor<<block>> LightGreen\r\n",
       "}\r\n",
       "\r\n",
       "package \"DependencyTest\" as E1  [[psysml:7dee102c-3f89-42b9-9919-3eaa1d7109e5 ]]  {\r\n",
       "package \"System\" as E2  [[psysml:da04b59d-3286-4d3f-bbc3-7e7bb49d7c5d ]]  {\r\n",
       "package \"Application Layer\" as E3  [[psysml:174d7b64-e31a-4a54-99c4-d88bb0afa8af ]]  {\r\n",
       "}\r\n",
       "package \"Service Layer\" as E4  [[psysml:6cc47e98-b8e7-4ff0-90aa-a6e12ea2ee54 ]]  {\r\n",
       "}\r\n",
       "package \"Data Layer\" as E5  [[psysml:a41e95d1-6586-47c5-87a0-a52adaa3773e ]]  {\r\n",
       "}\r\n",
       "}\r\n",
       "comp usage \"x  \" as E6  << <<(U,orange) attribute>> [[psysml:fa1eb9e1-3558-4ac6-ae6a-7c42660b9dca ]] {\r\n",
       "}\r\n",
       "comp usage \"y  \" as E7  << <<(U,orange) attribute>> [[psysml:a1db1b5d-0100-40b0-bd9f-2e7223fe2e6d ]] {\r\n",
       "}\r\n",
       "comp usage \"z  \" as E8  << <<(U,orange) attribute>> [[psysml:179fcb88-b86f-4c8c-8d3f-0f88ad709e86 ]] {\r\n",
       "}\r\n",
       "}\r\n",
       "E1 ..> E2 [[psysml:98ffbcea-2ad0-443f-b206-57004efde221 ]] : <<import>>*\r\n",
       "E3 ..>> E4 [[psysml:94e1a3f7-50a9-4c8e-a4e8-5ce452ddfecf ]] : <<depend>>\r\n",
       "E4 ..>> E5 [[psysml:9da5c160-44e8-44ec-9936-ca4a4075f5f4 ]] : <<depend>>\r\n",
       "E8 ..>> E6 [[psysml:cc6cc763-fa59-42bd-a700-018e736c1371 ]] : <<depend>>\r\n",
       "E8 ..>> E7 [[psysml:cc6cc763-fa59-42bd-a700-018e736c1371 ]] : <<depend>>\r\n",
       "@enduml\r\n",
       "\n",
       "PlantUML version 1.2022.7(Mon Aug 22 17:01:30 UTC 2022)\n",
       "(EPL source distribution)\n",
       "Java Runtime: OpenJDK Runtime Environment\n",
       "JVM: OpenJDK 64-Bit Server VM\n",
       "Default Encoding: UTF-8\n",
       "Language: en\n",
       "Country: null\n",
       "--></g></svg>"
      ]
     },
     "execution_count": 33,
     "metadata": {},
     "output_type": "execute_result"
    }
   ],
   "source": [
    "%viz --style=\"PLANTUML\" --view=\"Interconnection\" \"DependencyTest\""
   ]
  },
  {
   "cell_type": "code",
   "execution_count": 34,
   "id": "02255041",
   "metadata": {
    "execution": {
     "iopub.execute_input": "2024-12-16T03:27:32.163747Z",
     "iopub.status.busy": "2024-12-16T03:27:32.163530Z",
     "iopub.status.idle": "2024-12-16T03:27:32.168037Z",
     "shell.execute_reply": "2024-12-16T03:27:32.167863Z"
    }
   },
   "outputs": [
    {
     "data": {
      "image/svg+xml": [
       "<?xml version=\"1.0\" encoding=\"UTF-8\" standalone=\"no\"?><svg xmlns=\"http://www.w3.org/2000/svg\" xmlns:xlink=\"http://www.w3.org/1999/xlink\" contentStyleType=\"text/css\" height=\"10px\" preserveAspectRatio=\"none\" style=\"width:10px;height:10px;background:#FFFFFF;\" version=\"1.1\" viewBox=\"0 0 10 10\" width=\"10px\" zoomAndPan=\"magnify\"><defs/><g><!--MD5=[5b85ed15c012f432344d03f88cdcf85b]\n",
       "@startuml\r\n",
       " skinparam ranksep 8\r\n",
       "\r\n",
       "@enduml\r\n",
       "\n",
       "PlantUML version 1.2022.7(Mon Aug 22 17:01:30 UTC 2022)\n",
       "(EPL source distribution)\n",
       "Java Runtime: OpenJDK Runtime Environment\n",
       "JVM: OpenJDK 64-Bit Server VM\n",
       "Default Encoding: UTF-8\n",
       "Language: en\n",
       "Country: null\n",
       "--></g></svg>"
      ]
     },
     "execution_count": 34,
     "metadata": {},
     "output_type": "execute_result"
    }
   ],
   "source": [
    "%viz --style=\"PLANTUML\" --view=\"Action\" \"DependencyTest\""
   ]
  },
  {
   "cell_type": "code",
   "execution_count": 35,
   "id": "db4e94b0",
   "metadata": {
    "execution": {
     "iopub.execute_input": "2024-12-16T03:27:32.218708Z",
     "iopub.status.busy": "2024-12-16T03:27:32.218515Z",
     "iopub.status.idle": "2024-12-16T03:27:32.223685Z",
     "shell.execute_reply": "2024-12-16T03:27:32.223460Z"
    }
   },
   "outputs": [
    {
     "data": {
      "image/svg+xml": [
       "<?xml version=\"1.0\" encoding=\"UTF-8\" standalone=\"no\"?><svg xmlns=\"http://www.w3.org/2000/svg\" xmlns:xlink=\"http://www.w3.org/1999/xlink\" contentStyleType=\"text/css\" height=\"10px\" preserveAspectRatio=\"none\" style=\"width:10px;height:10px;background:#FFFFFF;\" version=\"1.1\" viewBox=\"0 0 10 10\" width=\"10px\" zoomAndPan=\"magnify\"><defs/><g><!--MD5=[395e82ba475bd2e80052467b56fa0251]\n",
       "@startuml\r\n",
       " skinparam roundcorner 20\r\n",
       "skinparam BoxPadding 20\r\n",
       "skinparam SequenceBoxBackgroundColor #white\r\n",
       "skinparam style strictuml\r\n",
       "skinparam maxMessageSize 100\r\n",
       "\r\n",
       "@enduml\r\n",
       "\n",
       "PlantUML version 1.2022.7(Mon Aug 22 17:01:30 UTC 2022)\n",
       "(EPL source distribution)\n",
       "Java Runtime: OpenJDK Runtime Environment\n",
       "JVM: OpenJDK 64-Bit Server VM\n",
       "Default Encoding: UTF-8\n",
       "Language: en\n",
       "Country: null\n",
       "--></g></svg>"
      ]
     },
     "execution_count": 35,
     "metadata": {},
     "output_type": "execute_result"
    }
   ],
   "source": [
    "%viz --style=\"PLANTUML\" --view=\"Sequence\" \"DependencyTest\""
   ]
  },
  {
   "cell_type": "code",
   "execution_count": 36,
   "id": "5bb63ccc",
   "metadata": {
    "execution": {
     "iopub.execute_input": "2024-12-16T03:27:32.279739Z",
     "iopub.status.busy": "2024-12-16T03:27:32.279541Z",
     "iopub.status.idle": "2024-12-16T03:27:32.298763Z",
     "shell.execute_reply": "2024-12-16T03:27:32.298596Z"
    }
   },
   "outputs": [
    {
     "data": {
      "image/svg+xml": [
       "<?xml version=\"1.0\" encoding=\"UTF-8\" standalone=\"no\"?><svg xmlns=\"http://www.w3.org/2000/svg\" xmlns:xlink=\"http://www.w3.org/1999/xlink\" contentStyleType=\"text/css\" height=\"547px\" preserveAspectRatio=\"none\" style=\"width:532px;height:547px;background:#FFFFFF;\" version=\"1.1\" viewBox=\"0 0 532 547\" width=\"532px\" zoomAndPan=\"magnify\"><defs/><g><!--MD5=[fbc87193dbaf4d95561dea2c320d4a47]\n",
       "cluster E1--><g id=\"cluster_E1\"><a href=\"psysml:7dee102c-3f89-42b9-9919-3eaa1d7109e5\" target=\"_top\" title=\"psysml:7dee102c-3f89-42b9-9919-3eaa1d7109e5\" xlink:actuate=\"onRequest\" xlink:href=\"psysml:7dee102c-3f89-42b9-9919-3eaa1d7109e5\" xlink:show=\"new\" xlink:title=\"psysml:7dee102c-3f89-42b9-9919-3eaa1d7109e5\" xlink:type=\"simple\"><path d=\"M8.5,6 L135.625,6 A3.75,3.75 0 0 1 138.125,8.5 L145.125,28.2969 L522.5,28.2969 A2.5,2.5 0 0 1 525,30.7969 L525,538.22 A2.5,2.5 0 0 1 522.5,540.72 L8.5,540.72 A2.5,2.5 0 0 1 6,538.22 L6,8.5 A2.5,2.5 0 0 1 8.5,6 \" fill=\"none\" style=\"stroke:#000000;stroke-width:1.5;\"/><line style=\"stroke:#000000;stroke-width:1.5;\" x1=\"6\" x2=\"145.125\" y1=\"28.2969\" y2=\"28.2969\"/><text fill=\"#000000\" font-family=\"sans-serif\" font-size=\"14\" font-weight=\"bold\" lengthAdjust=\"spacing\" textLength=\"126.125\" x=\"10\" y=\"20.9951\">DependencyTest</text></a></g><!--MD5=[e4f7fae6ed58524ba242bb0b0d3be6b7]\n",
       "cluster E2--><g id=\"cluster_E2\"><a href=\"psysml:da04b59d-3286-4d3f-bbc3-7e7bb49d7c5d\" target=\"_top\" title=\"psysml:da04b59d-3286-4d3f-bbc3-7e7bb49d7c5d\" xlink:actuate=\"onRequest\" xlink:href=\"psysml:da04b59d-3286-4d3f-bbc3-7e7bb49d7c5d\" xlink:show=\"new\" xlink:title=\"psysml:da04b59d-3286-4d3f-bbc3-7e7bb49d7c5d\" xlink:type=\"simple\"><path d=\"M284.5,120.72 L339.125,120.72 A3.75,3.75 0 0 1 341.625,123.22 L348.625,143.0169 L482.5,143.0169 A2.5,2.5 0 0 1 485,145.5169 L485,498.22 A2.5,2.5 0 0 1 482.5,500.72 L284.5,500.72 A2.5,2.5 0 0 1 282,498.22 L282,123.22 A2.5,2.5 0 0 1 284.5,120.72 \" fill=\"none\" style=\"stroke:#000000;stroke-width:1.5;\"/><line style=\"stroke:#000000;stroke-width:1.5;\" x1=\"282\" x2=\"348.625\" y1=\"143.0169\" y2=\"143.0169\"/><text fill=\"#000000\" font-family=\"sans-serif\" font-size=\"14\" font-weight=\"bold\" lengthAdjust=\"spacing\" textLength=\"53.625\" x=\"286\" y=\"135.7151\">System</text></a></g><!--MD5=[60a26617385b1d2d0262a64233df1f8d]\n",
       "class E6--><a href=\"psysml:fa1eb9e1-3558-4ac6-ae6a-7c42660b9dca\" target=\"_top\" title=\"psysml:fa1eb9e1-3558-4ac6-ae6a-7c42660b9dca\" xlink:actuate=\"onRequest\" xlink:href=\"psysml:fa1eb9e1-3558-4ac6-ae6a-7c42660b9dca\" xlink:show=\"new\" xlink:title=\"psysml:fa1eb9e1-3558-4ac6-ae6a-7c42660b9dca\" xlink:type=\"simple\"><g id=\"elem_E6\"><rect fill=\"#F1F1F1\" height=\"48.2656\" id=\"E6\" rx=\"10\" ry=\"10\" style=\"stroke:#181818;stroke-width:0.5;\" width=\"97\" x=\"29.5\" y=\"296.22\"/><ellipse cx=\"44.5\" cy=\"316.3528\" fill=\"#FFA500\" rx=\"11\" ry=\"11\" style=\"stroke:#181818;stroke-width:1.0;\"/><path d=\"M44.5625,323.5247 Q42.4531,323.5247 41.3594,322.3997 Q40.2656,321.2747 40.2656,319.2278 L40.2656,311.2122 L42.7344,311.2122 L42.7344,318.7903 Q42.7344,320.2278 43.1875,320.8216 Q43.6406,321.3997 44.5938,321.3997 Q45.6094,321.3997 46.0313,320.7903 Q46.4688,320.1809 46.4688,318.7747 L46.4688,311.2122 L48.9375,311.2122 L48.9375,319.2122 Q48.9375,321.1966 47.8438,322.3684 Q46.7656,323.5247 44.5625,323.5247 Z \" fill=\"#000000\"/><text fill=\"#000000\" font-family=\"sans-serif\" font-size=\"12\" font-style=\"italic\" lengthAdjust=\"spacing\" textLength=\"69\" x=\"56.5\" y=\"312.3587\">«attribute»</text><text fill=\"#000000\" font-family=\"sans-serif\" font-size=\"14\" lengthAdjust=\"spacing\" textLength=\"7\" x=\"83.5\" y=\"328.1839\">x</text><line style=\"stroke:#181818;stroke-width:0.5;\" x1=\"30.5\" x2=\"125.5\" y1=\"336.4856\" y2=\"336.4856\"/></g></a><!--MD5=[2156ba9850f5573cc1fc38a6a4b2f02b]\n",
       "class E7--><a href=\"psysml:a1db1b5d-0100-40b0-bd9f-2e7223fe2e6d\" target=\"_top\" title=\"psysml:a1db1b5d-0100-40b0-bd9f-2e7223fe2e6d\" xlink:actuate=\"onRequest\" xlink:href=\"psysml:a1db1b5d-0100-40b0-bd9f-2e7223fe2e6d\" xlink:show=\"new\" xlink:title=\"psysml:a1db1b5d-0100-40b0-bd9f-2e7223fe2e6d\" xlink:type=\"simple\"><g id=\"elem_E7\"><rect fill=\"#F1F1F1\" height=\"48.2656\" id=\"E7\" rx=\"10\" ry=\"10\" style=\"stroke:#181818;stroke-width:0.5;\" width=\"97\" x=\"161.5\" y=\"296.22\"/><ellipse cx=\"176.5\" cy=\"316.3528\" fill=\"#FFA500\" rx=\"11\" ry=\"11\" style=\"stroke:#181818;stroke-width:1.0;\"/><path d=\"M176.5625,323.5247 Q174.4531,323.5247 173.3594,322.3997 Q172.2656,321.2747 172.2656,319.2278 L172.2656,311.2122 L174.7344,311.2122 L174.7344,318.7903 Q174.7344,320.2278 175.1875,320.8216 Q175.6406,321.3997 176.5938,321.3997 Q177.6094,321.3997 178.0313,320.7903 Q178.4688,320.1809 178.4688,318.7747 L178.4688,311.2122 L180.9375,311.2122 L180.9375,319.2122 Q180.9375,321.1966 179.8438,322.3684 Q178.7656,323.5247 176.5625,323.5247 Z \" fill=\"#000000\"/><text fill=\"#000000\" font-family=\"sans-serif\" font-size=\"12\" font-style=\"italic\" lengthAdjust=\"spacing\" textLength=\"69\" x=\"188.5\" y=\"312.3587\">«attribute»</text><text fill=\"#000000\" font-family=\"sans-serif\" font-size=\"14\" lengthAdjust=\"spacing\" textLength=\"7\" x=\"215.5\" y=\"328.1839\">y</text><line style=\"stroke:#181818;stroke-width:0.5;\" x1=\"162.5\" x2=\"257.5\" y1=\"336.4856\" y2=\"336.4856\"/></g></a><!--MD5=[b9389687b975829384b498ac4b7476b2]\n",
       "class E8--><a href=\"psysml:179fcb88-b86f-4c8c-8d3f-0f88ad709e86\" target=\"_top\" title=\"psysml:179fcb88-b86f-4c8c-8d3f-0f88ad709e86\" xlink:actuate=\"onRequest\" xlink:href=\"psysml:179fcb88-b86f-4c8c-8d3f-0f88ad709e86\" xlink:show=\"new\" xlink:title=\"psysml:179fcb88-b86f-4c8c-8d3f-0f88ad709e86\" xlink:type=\"simple\"><g id=\"elem_E8\"><rect fill=\"#F1F1F1\" height=\"48.2656\" id=\"E8\" rx=\"10\" ry=\"10\" style=\"stroke:#181818;stroke-width:0.5;\" width=\"97\" x=\"82.5\" y=\"166.22\"/><ellipse cx=\"97.5\" cy=\"186.3528\" fill=\"#FFA500\" rx=\"11\" ry=\"11\" style=\"stroke:#181818;stroke-width:1.0;\"/><path d=\"M97.5625,193.5247 Q95.4531,193.5247 94.3594,192.3997 Q93.2656,191.2747 93.2656,189.2278 L93.2656,181.2122 L95.7344,181.2122 L95.7344,188.7903 Q95.7344,190.2278 96.1875,190.8216 Q96.6406,191.3997 97.5938,191.3997 Q98.6094,191.3997 99.0313,190.7903 Q99.4688,190.1809 99.4688,188.7747 L99.4688,181.2122 L101.9375,181.2122 L101.9375,189.2122 Q101.9375,191.1966 100.8438,192.3684 Q99.7656,193.5247 97.5625,193.5247 Z \" fill=\"#000000\"/><text fill=\"#000000\" font-family=\"sans-serif\" font-size=\"12\" font-style=\"italic\" lengthAdjust=\"spacing\" textLength=\"69\" x=\"109.5\" y=\"182.3587\">«attribute»</text><text fill=\"#000000\" font-family=\"sans-serif\" font-size=\"14\" lengthAdjust=\"spacing\" textLength=\"8\" x=\"136\" y=\"198.1839\">z</text><line style=\"stroke:#181818;stroke-width:0.5;\" x1=\"83.5\" x2=\"178.5\" y1=\"206.4856\" y2=\"206.4856\"/></g></a><a href=\"psysml:174d7b64-e31a-4a54-99c4-d88bb0afa8af\" target=\"_top\" title=\"psysml:174d7b64-e31a-4a54-99c4-d88bb0afa8af\" xlink:actuate=\"onRequest\" xlink:href=\"psysml:174d7b64-e31a-4a54-99c4-d88bb0afa8af\" xlink:show=\"new\" xlink:title=\"psysml:174d7b64-e31a-4a54-99c4-d88bb0afa8af\" xlink:type=\"simple\"><path d=\"M328,163.72 L444,163.72 A3.75,3.75 0 0 1 446.5,166.22 L453.5,186.0169 L458,186.0169 A2.5,2.5 0 0 1 460.5,188.5169 L460.5,213.8138 A2.5,2.5 0 0 1 458,216.3138 L328,216.3138 A2.5,2.5 0 0 1 325.5,213.8138 L325.5,166.22 A2.5,2.5 0 0 1 328,163.72 \" fill=\"#F1F1F1\" style=\"stroke:#181818;stroke-width:0.5;\"/><line style=\"stroke:#181818;stroke-width:0.5;\" x1=\"325.5\" x2=\"453.5\" y1=\"186.0169\" y2=\"186.0169\"/><text fill=\"#000000\" font-family=\"sans-serif\" font-size=\"14\" lengthAdjust=\"spacing\" textLength=\"115\" x=\"329.5\" y=\"178.7151\">Application Layer</text></a><a href=\"psysml:6cc47e98-b8e7-4ff0-90aa-a6e12ea2ee54\" target=\"_top\" title=\"psysml:6cc47e98-b8e7-4ff0-90aa-a6e12ea2ee54\" xlink:actuate=\"onRequest\" xlink:href=\"psysml:6cc47e98-b8e7-4ff0-90aa-a6e12ea2ee54\" xlink:show=\"new\" xlink:title=\"psysml:6cc47e98-b8e7-4ff0-90aa-a6e12ea2ee54\" xlink:type=\"simple\"><path d=\"M340.5,293.72 L431.5,293.72 A3.75,3.75 0 0 1 434,296.22 L441,316.0169 L445.5,316.0169 A2.5,2.5 0 0 1 448,318.5169 L448,343.8138 A2.5,2.5 0 0 1 445.5,346.3138 L340.5,346.3138 A2.5,2.5 0 0 1 338,343.8138 L338,296.22 A2.5,2.5 0 0 1 340.5,293.72 \" fill=\"#F1F1F1\" style=\"stroke:#181818;stroke-width:0.5;\"/><line style=\"stroke:#181818;stroke-width:0.5;\" x1=\"338\" x2=\"441\" y1=\"316.0169\" y2=\"316.0169\"/><text fill=\"#000000\" font-family=\"sans-serif\" font-size=\"14\" lengthAdjust=\"spacing\" textLength=\"90\" x=\"342\" y=\"308.7151\">Service Layer</text></a><a href=\"psysml:a41e95d1-6586-47c5-87a0-a52adaa3773e\" target=\"_top\" title=\"psysml:a41e95d1-6586-47c5-87a0-a52adaa3773e\" xlink:actuate=\"onRequest\" xlink:href=\"psysml:a41e95d1-6586-47c5-87a0-a52adaa3773e\" xlink:show=\"new\" xlink:title=\"psysml:a41e95d1-6586-47c5-87a0-a52adaa3773e\" xlink:type=\"simple\"><path d=\"M349.5,423.72 L422.5,423.72 A3.75,3.75 0 0 1 425,426.22 L432,446.0169 L436.5,446.0169 A2.5,2.5 0 0 1 439,448.5169 L439,473.8138 A2.5,2.5 0 0 1 436.5,476.3138 L349.5,476.3138 A2.5,2.5 0 0 1 347,473.8138 L347,426.22 A2.5,2.5 0 0 1 349.5,423.72 \" fill=\"#F1F1F1\" style=\"stroke:#181818;stroke-width:0.5;\"/><line style=\"stroke:#181818;stroke-width:0.5;\" x1=\"347\" x2=\"432\" y1=\"446.0169\" y2=\"446.0169\"/><text fill=\"#000000\" font-family=\"sans-serif\" font-size=\"14\" lengthAdjust=\"spacing\" textLength=\"72\" x=\"351\" y=\"438.7151\">Data Layer</text></a><!--MD5=[1f1cd8e6dd4c1b2ca2aaccc9b9bcea6e]\n",
       "link E1 to E2--><g id=\"link_E1_E2\"><a href=\"psysml:98ffbcea-2ad0-443f-b206-57004efde221\" target=\"_top\" title=\"psysml:98ffbcea-2ad0-443f-b206-57004efde221\" xlink:actuate=\"onRequest\" xlink:href=\"psysml:98ffbcea-2ad0-443f-b206-57004efde221\" xlink:show=\"new\" xlink:title=\"psysml:98ffbcea-2ad0-443f-b206-57004efde221\" xlink:type=\"simple\"><path d=\"M290,33.83 C290,36.15 290,73.83 290,111.5 C290,113.8544 290,116.2087 290,118.5544 C290,119.1408 290,119.7267 290,120.3119 \" fill=\"none\" id=\"E1-to-E2\" style=\"stroke:#181818;stroke-width:1.0;stroke-dasharray:7.0,7.0;\"/><polygon fill=\"#181818\" points=\"290,120.3119,294,111.3119,290,115.3119,286,111.3119,290,120.3119\" style=\"stroke:#181818;stroke-width:1.0;\"/><text fill=\"#000000\" font-family=\"sans-serif\" font-size=\"13\" lengthAdjust=\"spacing\" textLength=\"65\" x=\"291\" y=\"76.7869\">«import»*</text></a></g><!--MD5=[af87c684e3b0d8be13c1a698a818ef1e]\n",
       "link E3 to E4--><g id=\"link_E3_E4\"><a href=\"psysml:94e1a3f7-50a9-4c8e-a4e8-5ce452ddfecf\" target=\"_top\" title=\"psysml:94e1a3f7-50a9-4c8e-a4e8-5ce452ddfecf\" xlink:actuate=\"onRequest\" xlink:href=\"psysml:94e1a3f7-50a9-4c8e-a4e8-5ce452ddfecf\" xlink:show=\"new\" xlink:title=\"psysml:94e1a3f7-50a9-4c8e-a4e8-5ce452ddfecf\" xlink:type=\"simple\"><path d=\"M393,216.82 C393,236.52 393,263.94 393,285.45 \" fill=\"none\" id=\"E3-to-E4\" style=\"stroke:#181818;stroke-width:1.0;stroke-dasharray:7.0,7.0;\"/><polygon fill=\"#181818\" points=\"393,293.67,396,285.67,390,285.67,393,293.67\" style=\"stroke:#181818;stroke-width:1.0;\"/><text fill=\"#000000\" font-family=\"sans-serif\" font-size=\"13\" lengthAdjust=\"spacing\" textLength=\"64\" x=\"394\" y=\"259.7869\">«depend»</text></a></g><!--MD5=[1b7591eae5389033d8d09a9d6721a717]\n",
       "link E4 to E5--><g id=\"link_E4_E5\"><a href=\"psysml:9da5c160-44e8-44ec-9936-ca4a4075f5f4\" target=\"_top\" title=\"psysml:9da5c160-44e8-44ec-9936-ca4a4075f5f4\" xlink:actuate=\"onRequest\" xlink:href=\"psysml:9da5c160-44e8-44ec-9936-ca4a4075f5f4\" xlink:show=\"new\" xlink:title=\"psysml:9da5c160-44e8-44ec-9936-ca4a4075f5f4\" xlink:type=\"simple\"><path d=\"M393,346.82 C393,366.52 393,393.94 393,415.45 \" fill=\"none\" id=\"E4-to-E5\" style=\"stroke:#181818;stroke-width:1.0;stroke-dasharray:7.0,7.0;\"/><polygon fill=\"#181818\" points=\"393,423.67,396,415.67,390,415.67,393,423.67\" style=\"stroke:#181818;stroke-width:1.0;\"/><text fill=\"#000000\" font-family=\"sans-serif\" font-size=\"13\" lengthAdjust=\"spacing\" textLength=\"64\" x=\"394\" y=\"389.7869\">«depend»</text></a></g><!--MD5=[c5e8897d989ce984f93528998a7150fe]\n",
       "link E8 to E6--><g id=\"link_E8_E6\"><a href=\"psysml:cc6cc763-fa59-42bd-a700-018e736c1371\" target=\"_top\" title=\"psysml:cc6cc763-fa59-42bd-a700-018e736c1371\" xlink:actuate=\"onRequest\" xlink:href=\"psysml:cc6cc763-fa59-42bd-a700-018e736c1371\" xlink:show=\"new\" xlink:title=\"psysml:cc6cc763-fa59-42bd-a700-018e736c1371\" xlink:type=\"simple\"><path d=\"M103.65,214.28 C94.77,223.39 85.95,234.59 81,246.72 C75.77,259.54 74.48,274.72 74.71,287.87 \" fill=\"none\" id=\"E8-to-E6\" style=\"stroke:#181818;stroke-width:1.0;stroke-dasharray:7.0,7.0;\"/><polygon fill=\"#181818\" points=\"75.05,296.17,77.7192,288.0536,71.7242,288.2998,75.05,296.17\" style=\"stroke:#181818;stroke-width:1.0;\"/><text fill=\"#000000\" font-family=\"sans-serif\" font-size=\"13\" lengthAdjust=\"spacing\" textLength=\"64\" x=\"82\" y=\"259.7869\">«depend»</text></a></g><!--MD5=[bfa3c8b0d15052fdf50ae9310b491027]\n",
       "link E8 to E7--><g id=\"link_E8_E7\"><a href=\"psysml:cc6cc763-fa59-42bd-a700-018e736c1371\" target=\"_top\" title=\"psysml:cc6cc763-fa59-42bd-a700-018e736c1371\" xlink:actuate=\"onRequest\" xlink:href=\"psysml:cc6cc763-fa59-42bd-a700-018e736c1371\" xlink:show=\"new\" xlink:title=\"psysml:cc6cc763-fa59-42bd-a700-018e736c1371\" xlink:type=\"simple\"><path d=\"M145.31,214.4 C158.28,235.42 177.48,266.53 191.6,289.4 \" fill=\"none\" id=\"E8-to-E7\" style=\"stroke:#181818;stroke-width:1.0;stroke-dasharray:7.0,7.0;\"/><polygon fill=\"#181818\" points=\"195.8,296.21,194.1357,287.8297,189.0357,290.9904,195.8,296.21\" style=\"stroke:#181818;stroke-width:1.0;\"/><text fill=\"#000000\" font-family=\"sans-serif\" font-size=\"13\" lengthAdjust=\"spacing\" textLength=\"64\" x=\"176\" y=\"259.7869\">«depend»</text></a></g><!--MD5=[3422c900658581e9c7bf00565817dbee]\n",
       "@startuml\r\n",
       " \r\n",
       "package \"DependencyTest\" as E1  [[psysml:7dee102c-3f89-42b9-9919-3eaa1d7109e5 ]]  {\r\n",
       "package \"System\" as E2  [[psysml:da04b59d-3286-4d3f-bbc3-7e7bb49d7c5d ]]  {\r\n",
       "package \"Application Layer\" as E3  [[psysml:174d7b64-e31a-4a54-99c4-d88bb0afa8af ]]  {\r\n",
       "}\r\n",
       "package \"Service Layer\" as E4  [[psysml:6cc47e98-b8e7-4ff0-90aa-a6e12ea2ee54 ]]  {\r\n",
       "}\r\n",
       "package \"Data Layer\" as E5  [[psysml:a41e95d1-6586-47c5-87a0-a52adaa3773e ]]  {\r\n",
       "}\r\n",
       "}\r\n",
       "comp usage \"x  \" as E6  << <<(U,orange) attribute>> [[psysml:fa1eb9e1-3558-4ac6-ae6a-7c42660b9dca ]] {\r\n",
       "}\r\n",
       "comp usage \"y  \" as E7  << <<(U,orange) attribute>> [[psysml:a1db1b5d-0100-40b0-bd9f-2e7223fe2e6d ]] {\r\n",
       "}\r\n",
       "comp usage \"z  \" as E8  << <<(U,orange) attribute>> [[psysml:179fcb88-b86f-4c8c-8d3f-0f88ad709e86 ]] {\r\n",
       "}\r\n",
       "}\r\n",
       "E1 ..> E2 [[psysml:98ffbcea-2ad0-443f-b206-57004efde221 ]] : <<import>>*\r\n",
       "E3 ..>> E4 [[psysml:94e1a3f7-50a9-4c8e-a4e8-5ce452ddfecf ]] : <<depend>>\r\n",
       "E4 ..>> E5 [[psysml:9da5c160-44e8-44ec-9936-ca4a4075f5f4 ]] : <<depend>>\r\n",
       "E8 ..>> E6 [[psysml:cc6cc763-fa59-42bd-a700-018e736c1371 ]] : <<depend>>\r\n",
       "E8 ..>> E7 [[psysml:cc6cc763-fa59-42bd-a700-018e736c1371 ]] : <<depend>>\r\n",
       "@enduml\r\n",
       "\n",
       "PlantUML version 1.2022.7(Mon Aug 22 17:01:30 UTC 2022)\n",
       "(EPL source distribution)\n",
       "Java Runtime: OpenJDK Runtime Environment\n",
       "JVM: OpenJDK 64-Bit Server VM\n",
       "Default Encoding: UTF-8\n",
       "Language: en\n",
       "Country: null\n",
       "--></g></svg>"
      ]
     },
     "execution_count": 36,
     "metadata": {},
     "output_type": "execute_result"
    }
   ],
   "source": [
    "%viz --style=\"PLANTUML\" --view=\"MIXED\" \"DependencyTest\""
   ]
  },
  {
   "cell_type": "code",
   "execution_count": 37,
   "id": "b4d007d4",
   "metadata": {
    "execution": {
     "iopub.execute_input": "2024-12-16T03:27:32.353698Z",
     "iopub.status.busy": "2024-12-16T03:27:32.353445Z",
     "iopub.status.idle": "2024-12-16T03:27:32.368683Z",
     "shell.execute_reply": "2024-12-16T03:27:32.367914Z"
    }
   },
   "outputs": [
    {
     "data": {
      "image/svg+xml": [
       "<?xml version=\"1.0\" encoding=\"UTF-8\" standalone=\"no\"?><svg xmlns=\"http://www.w3.org/2000/svg\" xmlns:xlink=\"http://www.w3.org/1999/xlink\" contentStyleType=\"text/css\" height=\"547px\" preserveAspectRatio=\"none\" style=\"width:531px;height:547px;background:#FFFFFF;\" version=\"1.1\" viewBox=\"0 0 531 547\" width=\"531px\" zoomAndPan=\"magnify\"><defs/><g><!--MD5=[fbc87193dbaf4d95561dea2c320d4a47]\n",
       "cluster E1--><g id=\"cluster_E1\"><a href=\"psysml:7dee102c-3f89-42b9-9919-3eaa1d7109e5\" target=\"_top\" title=\"psysml:7dee102c-3f89-42b9-9919-3eaa1d7109e5\" xlink:actuate=\"onRequest\" xlink:href=\"psysml:7dee102c-3f89-42b9-9919-3eaa1d7109e5\" xlink:show=\"new\" xlink:title=\"psysml:7dee102c-3f89-42b9-9919-3eaa1d7109e5\" xlink:type=\"simple\"><polygon fill=\"none\" points=\"16,6,148.125,6,155.125,28.2969,514,28.2969,514,540.72,16,540.72,16,6\" style=\"stroke:#000000;stroke-width:1.5;\"/><line style=\"stroke:#000000;stroke-width:1.5;\" x1=\"16\" x2=\"155.125\" y1=\"28.2969\" y2=\"28.2969\"/><text fill=\"#000000\" font-family=\"sans-serif\" font-size=\"14\" font-weight=\"bold\" lengthAdjust=\"spacing\" textLength=\"126.125\" x=\"20\" y=\"20.9951\">DependencyTest</text></a></g><!--MD5=[e4f7fae6ed58524ba242bb0b0d3be6b7]\n",
       "cluster E2--><g id=\"cluster_E2\"><a href=\"psysml:da04b59d-3286-4d3f-bbc3-7e7bb49d7c5d\" target=\"_top\" title=\"psysml:da04b59d-3286-4d3f-bbc3-7e7bb49d7c5d\" xlink:actuate=\"onRequest\" xlink:href=\"psysml:da04b59d-3286-4d3f-bbc3-7e7bb49d7c5d\" xlink:show=\"new\" xlink:title=\"psysml:da04b59d-3286-4d3f-bbc3-7e7bb49d7c5d\" xlink:type=\"simple\"><polygon fill=\"none\" points=\"271,120.72,330.625,120.72,337.625,143.0169,474,143.0169,474,500.72,271,500.72,271,120.72\" style=\"stroke:#000000;stroke-width:1.5;\"/><line style=\"stroke:#000000;stroke-width:1.5;\" x1=\"271\" x2=\"337.625\" y1=\"143.0169\" y2=\"143.0169\"/><text fill=\"#000000\" font-family=\"sans-serif\" font-size=\"14\" font-weight=\"bold\" lengthAdjust=\"spacing\" textLength=\"53.625\" x=\"275\" y=\"135.7151\">System</text></a></g><!--MD5=[60a26617385b1d2d0262a64233df1f8d]\n",
       "class E6--><a href=\"psysml:fa1eb9e1-3558-4ac6-ae6a-7c42660b9dca\" target=\"_top\" title=\"psysml:fa1eb9e1-3558-4ac6-ae6a-7c42660b9dca\" xlink:actuate=\"onRequest\" xlink:href=\"psysml:fa1eb9e1-3558-4ac6-ae6a-7c42660b9dca\" xlink:show=\"new\" xlink:title=\"psysml:fa1eb9e1-3558-4ac6-ae6a-7c42660b9dca\" xlink:type=\"simple\"><g id=\"elem_E6\"><rect fill=\"#FFFFFF\" height=\"48.2656\" id=\"E6\" rx=\"10\" ry=\"10\" style=\"stroke:#181818;stroke-width:0.5;\" width=\"71\" x=\"40.5\" y=\"296.22\"/><text fill=\"#000000\" font-family=\"sans-serif\" font-size=\"12\" font-style=\"italic\" lengthAdjust=\"spacing\" textLength=\"69\" x=\"41.5\" y=\"312.3587\">«attribute»</text><text fill=\"#000000\" font-family=\"sans-serif\" font-size=\"14\" lengthAdjust=\"spacing\" textLength=\"7\" x=\"68.5\" y=\"328.1839\">x</text><line style=\"stroke:#181818;stroke-width:0.5;\" x1=\"41.5\" x2=\"110.5\" y1=\"336.4856\" y2=\"336.4856\"/></g></a><!--MD5=[2156ba9850f5573cc1fc38a6a4b2f02b]\n",
       "class E7--><a href=\"psysml:a1db1b5d-0100-40b0-bd9f-2e7223fe2e6d\" target=\"_top\" title=\"psysml:a1db1b5d-0100-40b0-bd9f-2e7223fe2e6d\" xlink:actuate=\"onRequest\" xlink:href=\"psysml:a1db1b5d-0100-40b0-bd9f-2e7223fe2e6d\" xlink:show=\"new\" xlink:title=\"psysml:a1db1b5d-0100-40b0-bd9f-2e7223fe2e6d\" xlink:type=\"simple\"><g id=\"elem_E7\"><rect fill=\"#FFFFFF\" height=\"48.2656\" id=\"E7\" rx=\"10\" ry=\"10\" style=\"stroke:#181818;stroke-width:0.5;\" width=\"71\" x=\"146.5\" y=\"296.22\"/><text fill=\"#000000\" font-family=\"sans-serif\" font-size=\"12\" font-style=\"italic\" lengthAdjust=\"spacing\" textLength=\"69\" x=\"147.5\" y=\"312.3587\">«attribute»</text><text fill=\"#000000\" font-family=\"sans-serif\" font-size=\"14\" lengthAdjust=\"spacing\" textLength=\"7\" x=\"174.5\" y=\"328.1839\">y</text><line style=\"stroke:#181818;stroke-width:0.5;\" x1=\"147.5\" x2=\"216.5\" y1=\"336.4856\" y2=\"336.4856\"/></g></a><!--MD5=[b9389687b975829384b498ac4b7476b2]\n",
       "class E8--><a href=\"psysml:179fcb88-b86f-4c8c-8d3f-0f88ad709e86\" target=\"_top\" title=\"psysml:179fcb88-b86f-4c8c-8d3f-0f88ad709e86\" xlink:actuate=\"onRequest\" xlink:href=\"psysml:179fcb88-b86f-4c8c-8d3f-0f88ad709e86\" xlink:show=\"new\" xlink:title=\"psysml:179fcb88-b86f-4c8c-8d3f-0f88ad709e86\" xlink:type=\"simple\"><g id=\"elem_E8\"><rect fill=\"#FFFFFF\" height=\"48.2656\" id=\"E8\" rx=\"10\" ry=\"10\" style=\"stroke:#181818;stroke-width:0.5;\" width=\"71\" x=\"92.5\" y=\"166.22\"/><text fill=\"#000000\" font-family=\"sans-serif\" font-size=\"12\" font-style=\"italic\" lengthAdjust=\"spacing\" textLength=\"69\" x=\"93.5\" y=\"182.3587\">«attribute»</text><text fill=\"#000000\" font-family=\"sans-serif\" font-size=\"14\" lengthAdjust=\"spacing\" textLength=\"8\" x=\"120\" y=\"198.1839\">z</text><line style=\"stroke:#181818;stroke-width:0.5;\" x1=\"93.5\" x2=\"162.5\" y1=\"206.4856\" y2=\"206.4856\"/></g></a><a href=\"psysml:174d7b64-e31a-4a54-99c4-d88bb0afa8af\" target=\"_top\" title=\"psysml:174d7b64-e31a-4a54-99c4-d88bb0afa8af\" xlink:actuate=\"onRequest\" xlink:href=\"psysml:174d7b64-e31a-4a54-99c4-d88bb0afa8af\" xlink:show=\"new\" xlink:title=\"psysml:174d7b64-e31a-4a54-99c4-d88bb0afa8af\" xlink:type=\"simple\"><polygon fill=\"#FFFFFF\" points=\"314.5,163.72,435.5,163.72,442.5,186.0169,449.5,186.0169,449.5,216.3138,314.5,216.3138,314.5,163.72\" style=\"stroke:#181818;stroke-width:0.5;\"/><line style=\"stroke:#181818;stroke-width:0.5;\" x1=\"314.5\" x2=\"442.5\" y1=\"186.0169\" y2=\"186.0169\"/><text fill=\"#000000\" font-family=\"sans-serif\" font-size=\"14\" lengthAdjust=\"spacing\" textLength=\"115\" x=\"318.5\" y=\"178.7151\">Application Layer</text></a><a href=\"psysml:6cc47e98-b8e7-4ff0-90aa-a6e12ea2ee54\" target=\"_top\" title=\"psysml:6cc47e98-b8e7-4ff0-90aa-a6e12ea2ee54\" xlink:actuate=\"onRequest\" xlink:href=\"psysml:6cc47e98-b8e7-4ff0-90aa-a6e12ea2ee54\" xlink:show=\"new\" xlink:title=\"psysml:6cc47e98-b8e7-4ff0-90aa-a6e12ea2ee54\" xlink:type=\"simple\"><polygon fill=\"#FFFFFF\" points=\"327,293.72,423,293.72,430,316.0169,437,316.0169,437,346.3138,327,346.3138,327,293.72\" style=\"stroke:#181818;stroke-width:0.5;\"/><line style=\"stroke:#181818;stroke-width:0.5;\" x1=\"327\" x2=\"430\" y1=\"316.0169\" y2=\"316.0169\"/><text fill=\"#000000\" font-family=\"sans-serif\" font-size=\"14\" lengthAdjust=\"spacing\" textLength=\"90\" x=\"331\" y=\"308.7151\">Service Layer</text></a><a href=\"psysml:a41e95d1-6586-47c5-87a0-a52adaa3773e\" target=\"_top\" title=\"psysml:a41e95d1-6586-47c5-87a0-a52adaa3773e\" xlink:actuate=\"onRequest\" xlink:href=\"psysml:a41e95d1-6586-47c5-87a0-a52adaa3773e\" xlink:show=\"new\" xlink:title=\"psysml:a41e95d1-6586-47c5-87a0-a52adaa3773e\" xlink:type=\"simple\"><polygon fill=\"#FFFFFF\" points=\"336,423.72,414,423.72,421,446.0169,428,446.0169,428,476.3138,336,476.3138,336,423.72\" style=\"stroke:#181818;stroke-width:0.5;\"/><line style=\"stroke:#181818;stroke-width:0.5;\" x1=\"336\" x2=\"421\" y1=\"446.0169\" y2=\"446.0169\"/><text fill=\"#000000\" font-family=\"sans-serif\" font-size=\"14\" lengthAdjust=\"spacing\" textLength=\"72\" x=\"340\" y=\"438.7151\">Data Layer</text></a><!--MD5=[1f1cd8e6dd4c1b2ca2aaccc9b9bcea6e]\n",
       "link E1 to E2--><g id=\"link_E1_E2\"><a href=\"psysml:98ffbcea-2ad0-443f-b206-57004efde221\" target=\"_top\" title=\"psysml:98ffbcea-2ad0-443f-b206-57004efde221\" xlink:actuate=\"onRequest\" xlink:href=\"psysml:98ffbcea-2ad0-443f-b206-57004efde221\" xlink:show=\"new\" xlink:title=\"psysml:98ffbcea-2ad0-443f-b206-57004efde221\" xlink:type=\"simple\"><path d=\"M279,33.83 C279,36.15 279,73.83 279,111.5 C279,113.8544 279,116.2087 279,118.5544 C279,119.1408 279,119.7267 279,120.3119 \" fill=\"none\" id=\"E1-to-E2\" style=\"stroke:#181818;stroke-width:1.0;stroke-dasharray:7.0,7.0;\"/><polygon fill=\"#181818\" points=\"279,120.3119,283,111.3119,279,115.3119,275,111.3119,279,120.3119\" style=\"stroke:#181818;stroke-width:1.0;\"/><text fill=\"#000000\" font-family=\"sans-serif\" font-size=\"13\" lengthAdjust=\"spacing\" textLength=\"65\" x=\"280\" y=\"76.7869\">«import»*</text></a></g><!--MD5=[af87c684e3b0d8be13c1a698a818ef1e]\n",
       "link E3 to E4--><g id=\"link_E3_E4\"><a href=\"psysml:94e1a3f7-50a9-4c8e-a4e8-5ce452ddfecf\" target=\"_top\" title=\"psysml:94e1a3f7-50a9-4c8e-a4e8-5ce452ddfecf\" xlink:actuate=\"onRequest\" xlink:href=\"psysml:94e1a3f7-50a9-4c8e-a4e8-5ce452ddfecf\" xlink:show=\"new\" xlink:title=\"psysml:94e1a3f7-50a9-4c8e-a4e8-5ce452ddfecf\" xlink:type=\"simple\"><path d=\"M382,216.82 C382,236.52 382,263.94 382,285.45 \" fill=\"none\" id=\"E3-to-E4\" style=\"stroke:#181818;stroke-width:1.0;stroke-dasharray:7.0,7.0;\"/><polygon fill=\"#181818\" points=\"382,293.67,385,285.67,379,285.67,382,293.67\" style=\"stroke:#181818;stroke-width:1.0;\"/><text fill=\"#000000\" font-family=\"sans-serif\" font-size=\"13\" lengthAdjust=\"spacing\" textLength=\"64\" x=\"383\" y=\"259.7869\">«depend»</text></a></g><!--MD5=[1b7591eae5389033d8d09a9d6721a717]\n",
       "link E4 to E5--><g id=\"link_E4_E5\"><a href=\"psysml:9da5c160-44e8-44ec-9936-ca4a4075f5f4\" target=\"_top\" title=\"psysml:9da5c160-44e8-44ec-9936-ca4a4075f5f4\" xlink:actuate=\"onRequest\" xlink:href=\"psysml:9da5c160-44e8-44ec-9936-ca4a4075f5f4\" xlink:show=\"new\" xlink:title=\"psysml:9da5c160-44e8-44ec-9936-ca4a4075f5f4\" xlink:type=\"simple\"><path d=\"M382,346.82 C382,366.52 382,393.94 382,415.45 \" fill=\"none\" id=\"E4-to-E5\" style=\"stroke:#181818;stroke-width:1.0;stroke-dasharray:7.0,7.0;\"/><polygon fill=\"#181818\" points=\"382,423.67,385,415.67,379,415.67,382,423.67\" style=\"stroke:#181818;stroke-width:1.0;\"/><text fill=\"#000000\" font-family=\"sans-serif\" font-size=\"13\" lengthAdjust=\"spacing\" textLength=\"64\" x=\"383\" y=\"389.7869\">«depend»</text></a></g><!--MD5=[c5e8897d989ce984f93528998a7150fe]\n",
       "link E8 to E6--><g id=\"link_E8_E6\"><a href=\"psysml:cc6cc763-fa59-42bd-a700-018e736c1371\" target=\"_top\" title=\"psysml:cc6cc763-fa59-42bd-a700-018e736c1371\" xlink:actuate=\"onRequest\" xlink:href=\"psysml:cc6cc763-fa59-42bd-a700-018e736c1371\" xlink:show=\"new\" xlink:title=\"psysml:cc6cc763-fa59-42bd-a700-018e736c1371\" xlink:type=\"simple\"><path d=\"M96.23,214.4 C86.58,223.3 77.16,234.34 72,246.72 C66.62,259.63 66.65,274.97 68.42,288.21 \" fill=\"none\" id=\"E8-to-E6\" style=\"stroke:#181818;stroke-width:1.0;stroke-dasharray:7.0,7.0;\"/><polygon fill=\"#181818\" points=\"69.71,296.14,71.386,287.762,65.4639,288.7258,69.71,296.14\" style=\"stroke:#181818;stroke-width:1.0;\"/><text fill=\"#000000\" font-family=\"sans-serif\" font-size=\"13\" lengthAdjust=\"spacing\" textLength=\"64\" x=\"73\" y=\"259.7869\">«depend»</text></a></g><!--MD5=[bfa3c8b0d15052fdf50ae9310b491027]\n",
       "link E8 to E7--><g id=\"link_E8_E7\"><a href=\"psysml:cc6cc763-fa59-42bd-a700-018e736c1371\" target=\"_top\" title=\"psysml:cc6cc763-fa59-42bd-a700-018e736c1371\" xlink:actuate=\"onRequest\" xlink:href=\"psysml:cc6cc763-fa59-42bd-a700-018e736c1371\" xlink:show=\"new\" xlink:title=\"psysml:cc6cc763-fa59-42bd-a700-018e736c1371\" xlink:type=\"simple\"><path d=\"M137.78,214.4 C146.57,235.24 159.55,266 169.17,288.81 \" fill=\"none\" id=\"E8-to-E7\" style=\"stroke:#181818;stroke-width:1.0;stroke-dasharray:7.0,7.0;\"/><polygon fill=\"#181818\" points=\"172.29,296.21,171.9401,287.6732,166.4131,290.0082,172.29,296.21\" style=\"stroke:#181818;stroke-width:1.0;\"/><text fill=\"#000000\" font-family=\"sans-serif\" font-size=\"13\" lengthAdjust=\"spacing\" textLength=\"64\" x=\"159\" y=\"259.7869\">«depend»</text></a></g><!--MD5=[32e06dab0e21ad2d4dcac95e04b4e1ab]\n",
       "@startuml\r\n",
       "skin sysmlbw\r\n",
       "skinparam monochrome true\r\n",
       "skinparam wrapWidth 300\r\n",
       "hide circle\r\n",
       "\r\n",
       "package \"DependencyTest\" as E1  [[psysml:7dee102c-3f89-42b9-9919-3eaa1d7109e5 ]]  {\r\n",
       "package \"System\" as E2  [[psysml:da04b59d-3286-4d3f-bbc3-7e7bb49d7c5d ]]  {\r\n",
       "package \"Application Layer\" as E3  [[psysml:174d7b64-e31a-4a54-99c4-d88bb0afa8af ]]  {\r\n",
       "}\r\n",
       "package \"Service Layer\" as E4  [[psysml:6cc47e98-b8e7-4ff0-90aa-a6e12ea2ee54 ]]  {\r\n",
       "}\r\n",
       "package \"Data Layer\" as E5  [[psysml:a41e95d1-6586-47c5-87a0-a52adaa3773e ]]  {\r\n",
       "}\r\n",
       "}\r\n",
       "comp usage \"x  \" as E6  <<(T,blue) attribute>> [[psysml:fa1eb9e1-3558-4ac6-ae6a-7c42660b9dca ]] {\r\n",
       "}\r\n",
       "comp usage \"y  \" as E7  <<(T,blue) attribute>> [[psysml:a1db1b5d-0100-40b0-bd9f-2e7223fe2e6d ]] {\r\n",
       "}\r\n",
       "comp usage \"z  \" as E8  <<(T,blue) attribute>> [[psysml:179fcb88-b86f-4c8c-8d3f-0f88ad709e86 ]] {\r\n",
       "}\r\n",
       "}\r\n",
       "E1 ..> E2 [[psysml:98ffbcea-2ad0-443f-b206-57004efde221 ]] : <<import>>*\r\n",
       "E3 ..>> E4 [[psysml:94e1a3f7-50a9-4c8e-a4e8-5ce452ddfecf ]] : <<depend>>\r\n",
       "E4 ..>> E5 [[psysml:9da5c160-44e8-44ec-9936-ca4a4075f5f4 ]] : <<depend>>\r\n",
       "E8 ..>> E6 [[psysml:cc6cc763-fa59-42bd-a700-018e736c1371 ]] : <<depend>>\r\n",
       "E8 ..>> E7 [[psysml:cc6cc763-fa59-42bd-a700-018e736c1371 ]] : <<depend>>\r\n",
       "@enduml\r\n",
       "\n",
       "PlantUML version 1.2022.7(Mon Aug 22 17:01:30 UTC 2022)\n",
       "(EPL source distribution)\n",
       "Java Runtime: OpenJDK Runtime Environment\n",
       "JVM: OpenJDK 64-Bit Server VM\n",
       "Default Encoding: UTF-8\n",
       "Language: en\n",
       "Country: null\n",
       "--></g></svg>"
      ]
     },
     "execution_count": 37,
     "metadata": {},
     "output_type": "execute_result"
    }
   ],
   "source": [
    "%viz --style=\"DEFAULT\" --view=\"Default\" \"DependencyTest\""
   ]
  },
  {
   "cell_type": "code",
   "execution_count": 38,
   "id": "f6e64f7e",
   "metadata": {
    "execution": {
     "iopub.execute_input": "2024-12-16T03:27:32.423537Z",
     "iopub.status.busy": "2024-12-16T03:27:32.423311Z",
     "iopub.status.idle": "2024-12-16T03:27:32.442247Z",
     "shell.execute_reply": "2024-12-16T03:27:32.441322Z"
    }
   },
   "outputs": [
    {
     "data": {
      "image/svg+xml": [
       "<?xml version=\"1.0\" encoding=\"UTF-8\" standalone=\"no\"?><svg xmlns=\"http://www.w3.org/2000/svg\" xmlns:xlink=\"http://www.w3.org/1999/xlink\" contentStyleType=\"text/css\" height=\"547px\" preserveAspectRatio=\"none\" style=\"width:531px;height:547px;background:#FFFFFF;\" version=\"1.1\" viewBox=\"0 0 531 547\" width=\"531px\" zoomAndPan=\"magnify\"><defs/><g><!--MD5=[fbc87193dbaf4d95561dea2c320d4a47]\n",
       "cluster E1--><g id=\"cluster_E1\"><a href=\"psysml:7dee102c-3f89-42b9-9919-3eaa1d7109e5\" target=\"_top\" title=\"psysml:7dee102c-3f89-42b9-9919-3eaa1d7109e5\" xlink:actuate=\"onRequest\" xlink:href=\"psysml:7dee102c-3f89-42b9-9919-3eaa1d7109e5\" xlink:show=\"new\" xlink:title=\"psysml:7dee102c-3f89-42b9-9919-3eaa1d7109e5\" xlink:type=\"simple\"><polygon fill=\"none\" points=\"16,6,148.125,6,155.125,28.2969,514,28.2969,514,540.72,16,540.72,16,6\" style=\"stroke:#000000;stroke-width:1.5;\"/><line style=\"stroke:#000000;stroke-width:1.5;\" x1=\"16\" x2=\"155.125\" y1=\"28.2969\" y2=\"28.2969\"/><text fill=\"#000000\" font-family=\"sans-serif\" font-size=\"14\" font-weight=\"bold\" lengthAdjust=\"spacing\" textLength=\"126.125\" x=\"20\" y=\"20.9951\">DependencyTest</text></a></g><!--MD5=[e4f7fae6ed58524ba242bb0b0d3be6b7]\n",
       "cluster E2--><g id=\"cluster_E2\"><a href=\"psysml:da04b59d-3286-4d3f-bbc3-7e7bb49d7c5d\" target=\"_top\" title=\"psysml:da04b59d-3286-4d3f-bbc3-7e7bb49d7c5d\" xlink:actuate=\"onRequest\" xlink:href=\"psysml:da04b59d-3286-4d3f-bbc3-7e7bb49d7c5d\" xlink:show=\"new\" xlink:title=\"psysml:da04b59d-3286-4d3f-bbc3-7e7bb49d7c5d\" xlink:type=\"simple\"><polygon fill=\"none\" points=\"271,120.72,330.625,120.72,337.625,143.0169,474,143.0169,474,500.72,271,500.72,271,120.72\" style=\"stroke:#000000;stroke-width:1.5;\"/><line style=\"stroke:#000000;stroke-width:1.5;\" x1=\"271\" x2=\"337.625\" y1=\"143.0169\" y2=\"143.0169\"/><text fill=\"#000000\" font-family=\"sans-serif\" font-size=\"14\" font-weight=\"bold\" lengthAdjust=\"spacing\" textLength=\"53.625\" x=\"275\" y=\"135.7151\">System</text></a></g><!--MD5=[60a26617385b1d2d0262a64233df1f8d]\n",
       "class E6--><a href=\"psysml:fa1eb9e1-3558-4ac6-ae6a-7c42660b9dca\" target=\"_top\" title=\"psysml:fa1eb9e1-3558-4ac6-ae6a-7c42660b9dca\" xlink:actuate=\"onRequest\" xlink:href=\"psysml:fa1eb9e1-3558-4ac6-ae6a-7c42660b9dca\" xlink:show=\"new\" xlink:title=\"psysml:fa1eb9e1-3558-4ac6-ae6a-7c42660b9dca\" xlink:type=\"simple\"><g id=\"elem_E6\"><rect fill=\"#FFFFFF\" height=\"48.2656\" id=\"E6\" rx=\"10\" ry=\"10\" style=\"stroke:#181818;stroke-width:0.5;\" width=\"71\" x=\"40.5\" y=\"296.22\"/><text fill=\"#000000\" font-family=\"sans-serif\" font-size=\"12\" font-style=\"italic\" lengthAdjust=\"spacing\" textLength=\"69\" x=\"41.5\" y=\"312.3587\">«attribute»</text><text fill=\"#000000\" font-family=\"sans-serif\" font-size=\"14\" lengthAdjust=\"spacing\" textLength=\"7\" x=\"68.5\" y=\"328.1839\">x</text><line style=\"stroke:#181818;stroke-width:0.5;\" x1=\"41.5\" x2=\"110.5\" y1=\"336.4856\" y2=\"336.4856\"/></g></a><!--MD5=[2156ba9850f5573cc1fc38a6a4b2f02b]\n",
       "class E7--><a href=\"psysml:a1db1b5d-0100-40b0-bd9f-2e7223fe2e6d\" target=\"_top\" title=\"psysml:a1db1b5d-0100-40b0-bd9f-2e7223fe2e6d\" xlink:actuate=\"onRequest\" xlink:href=\"psysml:a1db1b5d-0100-40b0-bd9f-2e7223fe2e6d\" xlink:show=\"new\" xlink:title=\"psysml:a1db1b5d-0100-40b0-bd9f-2e7223fe2e6d\" xlink:type=\"simple\"><g id=\"elem_E7\"><rect fill=\"#FFFFFF\" height=\"48.2656\" id=\"E7\" rx=\"10\" ry=\"10\" style=\"stroke:#181818;stroke-width:0.5;\" width=\"71\" x=\"146.5\" y=\"296.22\"/><text fill=\"#000000\" font-family=\"sans-serif\" font-size=\"12\" font-style=\"italic\" lengthAdjust=\"spacing\" textLength=\"69\" x=\"147.5\" y=\"312.3587\">«attribute»</text><text fill=\"#000000\" font-family=\"sans-serif\" font-size=\"14\" lengthAdjust=\"spacing\" textLength=\"7\" x=\"174.5\" y=\"328.1839\">y</text><line style=\"stroke:#181818;stroke-width:0.5;\" x1=\"147.5\" x2=\"216.5\" y1=\"336.4856\" y2=\"336.4856\"/></g></a><!--MD5=[b9389687b975829384b498ac4b7476b2]\n",
       "class E8--><a href=\"psysml:179fcb88-b86f-4c8c-8d3f-0f88ad709e86\" target=\"_top\" title=\"psysml:179fcb88-b86f-4c8c-8d3f-0f88ad709e86\" xlink:actuate=\"onRequest\" xlink:href=\"psysml:179fcb88-b86f-4c8c-8d3f-0f88ad709e86\" xlink:show=\"new\" xlink:title=\"psysml:179fcb88-b86f-4c8c-8d3f-0f88ad709e86\" xlink:type=\"simple\"><g id=\"elem_E8\"><rect fill=\"#FFFFFF\" height=\"48.2656\" id=\"E8\" rx=\"10\" ry=\"10\" style=\"stroke:#181818;stroke-width:0.5;\" width=\"71\" x=\"92.5\" y=\"166.22\"/><text fill=\"#000000\" font-family=\"sans-serif\" font-size=\"12\" font-style=\"italic\" lengthAdjust=\"spacing\" textLength=\"69\" x=\"93.5\" y=\"182.3587\">«attribute»</text><text fill=\"#000000\" font-family=\"sans-serif\" font-size=\"14\" lengthAdjust=\"spacing\" textLength=\"8\" x=\"120\" y=\"198.1839\">z</text><line style=\"stroke:#181818;stroke-width:0.5;\" x1=\"93.5\" x2=\"162.5\" y1=\"206.4856\" y2=\"206.4856\"/></g></a><a href=\"psysml:174d7b64-e31a-4a54-99c4-d88bb0afa8af\" target=\"_top\" title=\"psysml:174d7b64-e31a-4a54-99c4-d88bb0afa8af\" xlink:actuate=\"onRequest\" xlink:href=\"psysml:174d7b64-e31a-4a54-99c4-d88bb0afa8af\" xlink:show=\"new\" xlink:title=\"psysml:174d7b64-e31a-4a54-99c4-d88bb0afa8af\" xlink:type=\"simple\"><polygon fill=\"#FFFFFF\" points=\"314.5,163.72,435.5,163.72,442.5,186.0169,449.5,186.0169,449.5,216.3138,314.5,216.3138,314.5,163.72\" style=\"stroke:#181818;stroke-width:0.5;\"/><line style=\"stroke:#181818;stroke-width:0.5;\" x1=\"314.5\" x2=\"442.5\" y1=\"186.0169\" y2=\"186.0169\"/><text fill=\"#000000\" font-family=\"sans-serif\" font-size=\"14\" lengthAdjust=\"spacing\" textLength=\"115\" x=\"318.5\" y=\"178.7151\">Application Layer</text></a><a href=\"psysml:6cc47e98-b8e7-4ff0-90aa-a6e12ea2ee54\" target=\"_top\" title=\"psysml:6cc47e98-b8e7-4ff0-90aa-a6e12ea2ee54\" xlink:actuate=\"onRequest\" xlink:href=\"psysml:6cc47e98-b8e7-4ff0-90aa-a6e12ea2ee54\" xlink:show=\"new\" xlink:title=\"psysml:6cc47e98-b8e7-4ff0-90aa-a6e12ea2ee54\" xlink:type=\"simple\"><polygon fill=\"#FFFFFF\" points=\"327,293.72,423,293.72,430,316.0169,437,316.0169,437,346.3138,327,346.3138,327,293.72\" style=\"stroke:#181818;stroke-width:0.5;\"/><line style=\"stroke:#181818;stroke-width:0.5;\" x1=\"327\" x2=\"430\" y1=\"316.0169\" y2=\"316.0169\"/><text fill=\"#000000\" font-family=\"sans-serif\" font-size=\"14\" lengthAdjust=\"spacing\" textLength=\"90\" x=\"331\" y=\"308.7151\">Service Layer</text></a><a href=\"psysml:a41e95d1-6586-47c5-87a0-a52adaa3773e\" target=\"_top\" title=\"psysml:a41e95d1-6586-47c5-87a0-a52adaa3773e\" xlink:actuate=\"onRequest\" xlink:href=\"psysml:a41e95d1-6586-47c5-87a0-a52adaa3773e\" xlink:show=\"new\" xlink:title=\"psysml:a41e95d1-6586-47c5-87a0-a52adaa3773e\" xlink:type=\"simple\"><polygon fill=\"#FFFFFF\" points=\"336,423.72,414,423.72,421,446.0169,428,446.0169,428,476.3138,336,476.3138,336,423.72\" style=\"stroke:#181818;stroke-width:0.5;\"/><line style=\"stroke:#181818;stroke-width:0.5;\" x1=\"336\" x2=\"421\" y1=\"446.0169\" y2=\"446.0169\"/><text fill=\"#000000\" font-family=\"sans-serif\" font-size=\"14\" lengthAdjust=\"spacing\" textLength=\"72\" x=\"340\" y=\"438.7151\">Data Layer</text></a><!--MD5=[1f1cd8e6dd4c1b2ca2aaccc9b9bcea6e]\n",
       "link E1 to E2--><g id=\"link_E1_E2\"><a href=\"psysml:98ffbcea-2ad0-443f-b206-57004efde221\" target=\"_top\" title=\"psysml:98ffbcea-2ad0-443f-b206-57004efde221\" xlink:actuate=\"onRequest\" xlink:href=\"psysml:98ffbcea-2ad0-443f-b206-57004efde221\" xlink:show=\"new\" xlink:title=\"psysml:98ffbcea-2ad0-443f-b206-57004efde221\" xlink:type=\"simple\"><path d=\"M279,33.83 C279,36.15 279,73.83 279,111.5 C279,113.8544 279,116.2087 279,118.5544 C279,119.1408 279,119.7267 279,120.3119 \" fill=\"none\" id=\"E1-to-E2\" style=\"stroke:#181818;stroke-width:1.0;stroke-dasharray:7.0,7.0;\"/><polygon fill=\"#181818\" points=\"279,120.3119,283,111.3119,279,115.3119,275,111.3119,279,120.3119\" style=\"stroke:#181818;stroke-width:1.0;\"/><text fill=\"#000000\" font-family=\"sans-serif\" font-size=\"13\" lengthAdjust=\"spacing\" textLength=\"65\" x=\"280\" y=\"76.7869\">«import»*</text></a></g><!--MD5=[af87c684e3b0d8be13c1a698a818ef1e]\n",
       "link E3 to E4--><g id=\"link_E3_E4\"><a href=\"psysml:94e1a3f7-50a9-4c8e-a4e8-5ce452ddfecf\" target=\"_top\" title=\"psysml:94e1a3f7-50a9-4c8e-a4e8-5ce452ddfecf\" xlink:actuate=\"onRequest\" xlink:href=\"psysml:94e1a3f7-50a9-4c8e-a4e8-5ce452ddfecf\" xlink:show=\"new\" xlink:title=\"psysml:94e1a3f7-50a9-4c8e-a4e8-5ce452ddfecf\" xlink:type=\"simple\"><path d=\"M382,216.82 C382,236.52 382,263.94 382,285.45 \" fill=\"none\" id=\"E3-to-E4\" style=\"stroke:#181818;stroke-width:1.0;stroke-dasharray:7.0,7.0;\"/><polygon fill=\"#181818\" points=\"382,293.67,385,285.67,379,285.67,382,293.67\" style=\"stroke:#181818;stroke-width:1.0;\"/><text fill=\"#000000\" font-family=\"sans-serif\" font-size=\"13\" lengthAdjust=\"spacing\" textLength=\"64\" x=\"383\" y=\"259.7869\">«depend»</text></a></g><!--MD5=[1b7591eae5389033d8d09a9d6721a717]\n",
       "link E4 to E5--><g id=\"link_E4_E5\"><a href=\"psysml:9da5c160-44e8-44ec-9936-ca4a4075f5f4\" target=\"_top\" title=\"psysml:9da5c160-44e8-44ec-9936-ca4a4075f5f4\" xlink:actuate=\"onRequest\" xlink:href=\"psysml:9da5c160-44e8-44ec-9936-ca4a4075f5f4\" xlink:show=\"new\" xlink:title=\"psysml:9da5c160-44e8-44ec-9936-ca4a4075f5f4\" xlink:type=\"simple\"><path d=\"M382,346.82 C382,366.52 382,393.94 382,415.45 \" fill=\"none\" id=\"E4-to-E5\" style=\"stroke:#181818;stroke-width:1.0;stroke-dasharray:7.0,7.0;\"/><polygon fill=\"#181818\" points=\"382,423.67,385,415.67,379,415.67,382,423.67\" style=\"stroke:#181818;stroke-width:1.0;\"/><text fill=\"#000000\" font-family=\"sans-serif\" font-size=\"13\" lengthAdjust=\"spacing\" textLength=\"64\" x=\"383\" y=\"389.7869\">«depend»</text></a></g><!--MD5=[c5e8897d989ce984f93528998a7150fe]\n",
       "link E8 to E6--><g id=\"link_E8_E6\"><a href=\"psysml:cc6cc763-fa59-42bd-a700-018e736c1371\" target=\"_top\" title=\"psysml:cc6cc763-fa59-42bd-a700-018e736c1371\" xlink:actuate=\"onRequest\" xlink:href=\"psysml:cc6cc763-fa59-42bd-a700-018e736c1371\" xlink:show=\"new\" xlink:title=\"psysml:cc6cc763-fa59-42bd-a700-018e736c1371\" xlink:type=\"simple\"><path d=\"M96.23,214.4 C86.58,223.3 77.16,234.34 72,246.72 C66.62,259.63 66.65,274.97 68.42,288.21 \" fill=\"none\" id=\"E8-to-E6\" style=\"stroke:#181818;stroke-width:1.0;stroke-dasharray:7.0,7.0;\"/><polygon fill=\"#181818\" points=\"69.71,296.14,71.386,287.762,65.4639,288.7258,69.71,296.14\" style=\"stroke:#181818;stroke-width:1.0;\"/><text fill=\"#000000\" font-family=\"sans-serif\" font-size=\"13\" lengthAdjust=\"spacing\" textLength=\"64\" x=\"73\" y=\"259.7869\">«depend»</text></a></g><!--MD5=[bfa3c8b0d15052fdf50ae9310b491027]\n",
       "link E8 to E7--><g id=\"link_E8_E7\"><a href=\"psysml:cc6cc763-fa59-42bd-a700-018e736c1371\" target=\"_top\" title=\"psysml:cc6cc763-fa59-42bd-a700-018e736c1371\" xlink:actuate=\"onRequest\" xlink:href=\"psysml:cc6cc763-fa59-42bd-a700-018e736c1371\" xlink:show=\"new\" xlink:title=\"psysml:cc6cc763-fa59-42bd-a700-018e736c1371\" xlink:type=\"simple\"><path d=\"M137.78,214.4 C146.57,235.24 159.55,266 169.17,288.81 \" fill=\"none\" id=\"E8-to-E7\" style=\"stroke:#181818;stroke-width:1.0;stroke-dasharray:7.0,7.0;\"/><polygon fill=\"#181818\" points=\"172.29,296.21,171.9401,287.6732,166.4131,290.0082,172.29,296.21\" style=\"stroke:#181818;stroke-width:1.0;\"/><text fill=\"#000000\" font-family=\"sans-serif\" font-size=\"13\" lengthAdjust=\"spacing\" textLength=\"64\" x=\"159\" y=\"259.7869\">«depend»</text></a></g><!--MD5=[32e06dab0e21ad2d4dcac95e04b4e1ab]\n",
       "@startuml\r\n",
       "skin sysmlbw\r\n",
       "skinparam monochrome true\r\n",
       "skinparam wrapWidth 300\r\n",
       "hide circle\r\n",
       "\r\n",
       "package \"DependencyTest\" as E1  [[psysml:7dee102c-3f89-42b9-9919-3eaa1d7109e5 ]]  {\r\n",
       "package \"System\" as E2  [[psysml:da04b59d-3286-4d3f-bbc3-7e7bb49d7c5d ]]  {\r\n",
       "package \"Application Layer\" as E3  [[psysml:174d7b64-e31a-4a54-99c4-d88bb0afa8af ]]  {\r\n",
       "}\r\n",
       "package \"Service Layer\" as E4  [[psysml:6cc47e98-b8e7-4ff0-90aa-a6e12ea2ee54 ]]  {\r\n",
       "}\r\n",
       "package \"Data Layer\" as E5  [[psysml:a41e95d1-6586-47c5-87a0-a52adaa3773e ]]  {\r\n",
       "}\r\n",
       "}\r\n",
       "comp usage \"x  \" as E6  <<(T,blue) attribute>> [[psysml:fa1eb9e1-3558-4ac6-ae6a-7c42660b9dca ]] {\r\n",
       "}\r\n",
       "comp usage \"y  \" as E7  <<(T,blue) attribute>> [[psysml:a1db1b5d-0100-40b0-bd9f-2e7223fe2e6d ]] {\r\n",
       "}\r\n",
       "comp usage \"z  \" as E8  <<(T,blue) attribute>> [[psysml:179fcb88-b86f-4c8c-8d3f-0f88ad709e86 ]] {\r\n",
       "}\r\n",
       "}\r\n",
       "E1 ..> E2 [[psysml:98ffbcea-2ad0-443f-b206-57004efde221 ]] : <<import>>*\r\n",
       "E3 ..>> E4 [[psysml:94e1a3f7-50a9-4c8e-a4e8-5ce452ddfecf ]] : <<depend>>\r\n",
       "E4 ..>> E5 [[psysml:9da5c160-44e8-44ec-9936-ca4a4075f5f4 ]] : <<depend>>\r\n",
       "E8 ..>> E6 [[psysml:cc6cc763-fa59-42bd-a700-018e736c1371 ]] : <<depend>>\r\n",
       "E8 ..>> E7 [[psysml:cc6cc763-fa59-42bd-a700-018e736c1371 ]] : <<depend>>\r\n",
       "@enduml\r\n",
       "\n",
       "PlantUML version 1.2022.7(Mon Aug 22 17:01:30 UTC 2022)\n",
       "(EPL source distribution)\n",
       "Java Runtime: OpenJDK Runtime Environment\n",
       "JVM: OpenJDK 64-Bit Server VM\n",
       "Default Encoding: UTF-8\n",
       "Language: en\n",
       "Country: null\n",
       "--></g></svg>"
      ]
     },
     "execution_count": 38,
     "metadata": {},
     "output_type": "execute_result"
    }
   ],
   "source": [
    "%viz --style=\"DEFAULT\" --view=\"Tree\" \"DependencyTest\""
   ]
  },
  {
   "cell_type": "code",
   "execution_count": 39,
   "id": "0572c750",
   "metadata": {
    "execution": {
     "iopub.execute_input": "2024-12-16T03:27:32.495516Z",
     "iopub.status.busy": "2024-12-16T03:27:32.495253Z",
     "iopub.status.idle": "2024-12-16T03:27:32.500808Z",
     "shell.execute_reply": "2024-12-16T03:27:32.500625Z"
    }
   },
   "outputs": [
    {
     "data": {
      "image/svg+xml": [
       "<?xml version=\"1.0\" encoding=\"UTF-8\" standalone=\"no\"?><svg xmlns=\"http://www.w3.org/2000/svg\" xmlns:xlink=\"http://www.w3.org/1999/xlink\" contentStyleType=\"text/css\" height=\"10px\" preserveAspectRatio=\"none\" style=\"width:10px;height:10px;background:#FFFFFF;\" version=\"1.1\" viewBox=\"0 0 10 10\" width=\"10px\" zoomAndPan=\"magnify\"><defs/><g><!--MD5=[ac12e6954f3af68464267ee74ddf8a9f]\n",
       "@startuml\r\n",
       "skin sysmlbw\r\n",
       "skinparam monochrome true\r\n",
       "skinparam wrapWidth 300\r\n",
       "hide circle\r\n",
       "\r\n",
       "@enduml\r\n",
       "\n",
       "PlantUML version 1.2022.7(Mon Aug 22 17:01:30 UTC 2022)\n",
       "(EPL source distribution)\n",
       "Java Runtime: OpenJDK Runtime Environment\n",
       "JVM: OpenJDK 64-Bit Server VM\n",
       "Default Encoding: UTF-8\n",
       "Language: en\n",
       "Country: null\n",
       "--></g></svg>"
      ]
     },
     "execution_count": 39,
     "metadata": {},
     "output_type": "execute_result"
    }
   ],
   "source": [
    "%viz --style=\"DEFAULT\" --view=\"State\" \"DependencyTest\""
   ]
  },
  {
   "cell_type": "code",
   "execution_count": 40,
   "id": "a737f890",
   "metadata": {
    "execution": {
     "iopub.execute_input": "2024-12-16T03:27:32.556609Z",
     "iopub.status.busy": "2024-12-16T03:27:32.556391Z",
     "iopub.status.idle": "2024-12-16T03:27:32.576083Z",
     "shell.execute_reply": "2024-12-16T03:27:32.575275Z"
    }
   },
   "outputs": [
    {
     "data": {
      "image/svg+xml": [
       "<?xml version=\"1.0\" encoding=\"UTF-8\" standalone=\"no\"?><svg xmlns=\"http://www.w3.org/2000/svg\" xmlns:xlink=\"http://www.w3.org/1999/xlink\" contentStyleType=\"text/css\" height=\"437px\" preserveAspectRatio=\"none\" style=\"width:531px;height:437px;background:#FFFFFF;\" version=\"1.1\" viewBox=\"0 0 531 437\" width=\"531px\" zoomAndPan=\"magnify\"><defs/><g><!--MD5=[fbc87193dbaf4d95561dea2c320d4a47]\n",
       "cluster E1--><g id=\"cluster_E1\"><a href=\"psysml:7dee102c-3f89-42b9-9919-3eaa1d7109e5\" target=\"_top\" title=\"psysml:7dee102c-3f89-42b9-9919-3eaa1d7109e5\" xlink:actuate=\"onRequest\" xlink:href=\"psysml:7dee102c-3f89-42b9-9919-3eaa1d7109e5\" xlink:show=\"new\" xlink:title=\"psysml:7dee102c-3f89-42b9-9919-3eaa1d7109e5\" xlink:type=\"simple\"><polygon fill=\"none\" points=\"16,6,148.125,6,155.125,28.2969,514,28.2969,514,430.72,16,430.72,16,6\" style=\"stroke:#000000;stroke-width:1.5;\"/><line style=\"stroke:#000000;stroke-width:1.5;\" x1=\"16\" x2=\"155.125\" y1=\"28.2969\" y2=\"28.2969\"/><text fill=\"#000000\" font-family=\"sans-serif\" font-size=\"14\" font-weight=\"bold\" lengthAdjust=\"spacing\" textLength=\"126.125\" x=\"20\" y=\"20.9951\">DependencyTest</text></a></g><!--MD5=[e4f7fae6ed58524ba242bb0b0d3be6b7]\n",
       "cluster E2--><g id=\"cluster_E2\"><a href=\"psysml:da04b59d-3286-4d3f-bbc3-7e7bb49d7c5d\" target=\"_top\" title=\"psysml:da04b59d-3286-4d3f-bbc3-7e7bb49d7c5d\" xlink:actuate=\"onRequest\" xlink:href=\"psysml:da04b59d-3286-4d3f-bbc3-7e7bb49d7c5d\" xlink:show=\"new\" xlink:title=\"psysml:da04b59d-3286-4d3f-bbc3-7e7bb49d7c5d\" xlink:type=\"simple\"><polygon fill=\"none\" points=\"271,98.72,330.625,98.72,337.625,121.0169,474,121.0169,474,390.72,271,390.72,271,98.72\" style=\"stroke:#000000;stroke-width:1.5;\"/><line style=\"stroke:#000000;stroke-width:1.5;\" x1=\"271\" x2=\"337.625\" y1=\"121.0169\" y2=\"121.0169\"/><text fill=\"#000000\" font-family=\"sans-serif\" font-size=\"14\" font-weight=\"bold\" lengthAdjust=\"spacing\" textLength=\"53.625\" x=\"275\" y=\"113.7151\">System</text></a></g><!--MD5=[60a26617385b1d2d0262a64233df1f8d]\n",
       "class E6--><a href=\"psysml:fa1eb9e1-3558-4ac6-ae6a-7c42660b9dca\" target=\"_top\" title=\"psysml:fa1eb9e1-3558-4ac6-ae6a-7c42660b9dca\" xlink:actuate=\"onRequest\" xlink:href=\"psysml:fa1eb9e1-3558-4ac6-ae6a-7c42660b9dca\" xlink:show=\"new\" xlink:title=\"psysml:fa1eb9e1-3558-4ac6-ae6a-7c42660b9dca\" xlink:type=\"simple\"><g id=\"elem_E6\"><rect fill=\"#FFFFFF\" height=\"48.2656\" id=\"E6\" rx=\"10\" ry=\"10\" style=\"stroke:#181818;stroke-width:0.5;\" width=\"71\" x=\"40.5\" y=\"230.22\"/><text fill=\"#000000\" font-family=\"sans-serif\" font-size=\"12\" font-style=\"italic\" lengthAdjust=\"spacing\" textLength=\"69\" x=\"41.5\" y=\"246.3587\">«attribute»</text><text fill=\"#000000\" font-family=\"sans-serif\" font-size=\"14\" lengthAdjust=\"spacing\" textLength=\"7\" x=\"68.5\" y=\"262.1839\">x</text><line style=\"stroke:#181818;stroke-width:0.5;\" x1=\"41.5\" x2=\"110.5\" y1=\"270.4856\" y2=\"270.4856\"/></g></a><!--MD5=[2156ba9850f5573cc1fc38a6a4b2f02b]\n",
       "class E7--><a href=\"psysml:a1db1b5d-0100-40b0-bd9f-2e7223fe2e6d\" target=\"_top\" title=\"psysml:a1db1b5d-0100-40b0-bd9f-2e7223fe2e6d\" xlink:actuate=\"onRequest\" xlink:href=\"psysml:a1db1b5d-0100-40b0-bd9f-2e7223fe2e6d\" xlink:show=\"new\" xlink:title=\"psysml:a1db1b5d-0100-40b0-bd9f-2e7223fe2e6d\" xlink:type=\"simple\"><g id=\"elem_E7\"><rect fill=\"#FFFFFF\" height=\"48.2656\" id=\"E7\" rx=\"10\" ry=\"10\" style=\"stroke:#181818;stroke-width:0.5;\" width=\"71\" x=\"146.5\" y=\"230.22\"/><text fill=\"#000000\" font-family=\"sans-serif\" font-size=\"12\" font-style=\"italic\" lengthAdjust=\"spacing\" textLength=\"69\" x=\"147.5\" y=\"246.3587\">«attribute»</text><text fill=\"#000000\" font-family=\"sans-serif\" font-size=\"14\" lengthAdjust=\"spacing\" textLength=\"7\" x=\"174.5\" y=\"262.1839\">y</text><line style=\"stroke:#181818;stroke-width:0.5;\" x1=\"147.5\" x2=\"216.5\" y1=\"270.4856\" y2=\"270.4856\"/></g></a><!--MD5=[b9389687b975829384b498ac4b7476b2]\n",
       "class E8--><a href=\"psysml:179fcb88-b86f-4c8c-8d3f-0f88ad709e86\" target=\"_top\" title=\"psysml:179fcb88-b86f-4c8c-8d3f-0f88ad709e86\" xlink:actuate=\"onRequest\" xlink:href=\"psysml:179fcb88-b86f-4c8c-8d3f-0f88ad709e86\" xlink:show=\"new\" xlink:title=\"psysml:179fcb88-b86f-4c8c-8d3f-0f88ad709e86\" xlink:type=\"simple\"><g id=\"elem_E8\"><rect fill=\"#FFFFFF\" height=\"48.2656\" id=\"E8\" rx=\"10\" ry=\"10\" style=\"stroke:#181818;stroke-width:0.5;\" width=\"71\" x=\"92.5\" y=\"144.22\"/><text fill=\"#000000\" font-family=\"sans-serif\" font-size=\"12\" font-style=\"italic\" lengthAdjust=\"spacing\" textLength=\"69\" x=\"93.5\" y=\"160.3587\">«attribute»</text><text fill=\"#000000\" font-family=\"sans-serif\" font-size=\"14\" lengthAdjust=\"spacing\" textLength=\"8\" x=\"120\" y=\"176.1839\">z</text><line style=\"stroke:#181818;stroke-width:0.5;\" x1=\"93.5\" x2=\"162.5\" y1=\"184.4856\" y2=\"184.4856\"/></g></a><a href=\"psysml:174d7b64-e31a-4a54-99c4-d88bb0afa8af\" target=\"_top\" title=\"psysml:174d7b64-e31a-4a54-99c4-d88bb0afa8af\" xlink:actuate=\"onRequest\" xlink:href=\"psysml:174d7b64-e31a-4a54-99c4-d88bb0afa8af\" xlink:show=\"new\" xlink:title=\"psysml:174d7b64-e31a-4a54-99c4-d88bb0afa8af\" xlink:type=\"simple\"><polygon fill=\"#FFFFFF\" points=\"314.5,141.72,435.5,141.72,442.5,164.0169,449.5,164.0169,449.5,194.3138,314.5,194.3138,314.5,141.72\" style=\"stroke:#181818;stroke-width:0.5;\"/><line style=\"stroke:#181818;stroke-width:0.5;\" x1=\"314.5\" x2=\"442.5\" y1=\"164.0169\" y2=\"164.0169\"/><text fill=\"#000000\" font-family=\"sans-serif\" font-size=\"14\" lengthAdjust=\"spacing\" textLength=\"115\" x=\"318.5\" y=\"156.7151\">Application Layer</text></a><a href=\"psysml:6cc47e98-b8e7-4ff0-90aa-a6e12ea2ee54\" target=\"_top\" title=\"psysml:6cc47e98-b8e7-4ff0-90aa-a6e12ea2ee54\" xlink:actuate=\"onRequest\" xlink:href=\"psysml:6cc47e98-b8e7-4ff0-90aa-a6e12ea2ee54\" xlink:show=\"new\" xlink:title=\"psysml:6cc47e98-b8e7-4ff0-90aa-a6e12ea2ee54\" xlink:type=\"simple\"><polygon fill=\"#FFFFFF\" points=\"327,227.72,423,227.72,430,250.0169,437,250.0169,437,280.3138,327,280.3138,327,227.72\" style=\"stroke:#181818;stroke-width:0.5;\"/><line style=\"stroke:#181818;stroke-width:0.5;\" x1=\"327\" x2=\"430\" y1=\"250.0169\" y2=\"250.0169\"/><text fill=\"#000000\" font-family=\"sans-serif\" font-size=\"14\" lengthAdjust=\"spacing\" textLength=\"90\" x=\"331\" y=\"242.7151\">Service Layer</text></a><a href=\"psysml:a41e95d1-6586-47c5-87a0-a52adaa3773e\" target=\"_top\" title=\"psysml:a41e95d1-6586-47c5-87a0-a52adaa3773e\" xlink:actuate=\"onRequest\" xlink:href=\"psysml:a41e95d1-6586-47c5-87a0-a52adaa3773e\" xlink:show=\"new\" xlink:title=\"psysml:a41e95d1-6586-47c5-87a0-a52adaa3773e\" xlink:type=\"simple\"><polygon fill=\"#FFFFFF\" points=\"336,313.72,414,313.72,421,336.0169,428,336.0169,428,366.3138,336,366.3138,336,313.72\" style=\"stroke:#181818;stroke-width:0.5;\"/><line style=\"stroke:#181818;stroke-width:0.5;\" x1=\"336\" x2=\"421\" y1=\"336.0169\" y2=\"336.0169\"/><text fill=\"#000000\" font-family=\"sans-serif\" font-size=\"14\" lengthAdjust=\"spacing\" textLength=\"72\" x=\"340\" y=\"328.7151\">Data Layer</text></a><!--MD5=[1f1cd8e6dd4c1b2ca2aaccc9b9bcea6e]\n",
       "link E1 to E2--><g id=\"link_E1_E2\"><a href=\"psysml:98ffbcea-2ad0-443f-b206-57004efde221\" target=\"_top\" title=\"psysml:98ffbcea-2ad0-443f-b206-57004efde221\" xlink:actuate=\"onRequest\" xlink:href=\"psysml:98ffbcea-2ad0-443f-b206-57004efde221\" xlink:show=\"new\" xlink:title=\"psysml:98ffbcea-2ad0-443f-b206-57004efde221\" xlink:type=\"simple\"><path d=\"M279,33.82 C279,34.815 279,43.3994 279,55.7775 C279,61.9666 279,69.1041 279,76.7155 C279,80.5213 279,84.4455 279,88.429 C279,90.4207 279,92.4272 279,94.4411 C279,95.448 279,96.4568 279,97.4665 C279,97.719 279,97.9714 279,98.224 \" fill=\"none\" id=\"E1-to-E2\" style=\"stroke:#181818;stroke-width:1.0;stroke-dasharray:7.0,7.0;\"/><polygon fill=\"#181818\" points=\"279,98.224,283,89.224,279,93.224,275,89.224,279,98.224\" style=\"stroke:#181818;stroke-width:1.0;\"/><text fill=\"#000000\" font-family=\"sans-serif\" font-size=\"13\" lengthAdjust=\"spacing\" textLength=\"65\" x=\"280\" y=\"54.7869\">«import»*</text></a></g><!--MD5=[af87c684e3b0d8be13c1a698a818ef1e]\n",
       "link E3 to E4--><g id=\"link_E3_E4\"><a href=\"psysml:94e1a3f7-50a9-4c8e-a4e8-5ce452ddfecf\" target=\"_top\" title=\"psysml:94e1a3f7-50a9-4c8e-a4e8-5ce452ddfecf\" xlink:actuate=\"onRequest\" xlink:href=\"psysml:94e1a3f7-50a9-4c8e-a4e8-5ce452ddfecf\" xlink:show=\"new\" xlink:title=\"psysml:94e1a3f7-50a9-4c8e-a4e8-5ce452ddfecf\" xlink:type=\"simple\"><path d=\"M382,194.88 C382,202.7 382,211.41 382,219.66 \" fill=\"none\" id=\"E3-to-E4\" style=\"stroke:#181818;stroke-width:1.0;stroke-dasharray:7.0,7.0;\"/><polygon fill=\"#181818\" points=\"382,227.72,385,219.72,379,219.72,382,227.72\" style=\"stroke:#181818;stroke-width:1.0;\"/><text fill=\"#000000\" font-family=\"sans-serif\" font-size=\"13\" lengthAdjust=\"spacing\" textLength=\"64\" x=\"383\" y=\"215.7869\">«depend»</text></a></g><!--MD5=[1b7591eae5389033d8d09a9d6721a717]\n",
       "link E4 to E5--><g id=\"link_E4_E5\"><a href=\"psysml:9da5c160-44e8-44ec-9936-ca4a4075f5f4\" target=\"_top\" title=\"psysml:9da5c160-44e8-44ec-9936-ca4a4075f5f4\" xlink:actuate=\"onRequest\" xlink:href=\"psysml:9da5c160-44e8-44ec-9936-ca4a4075f5f4\" xlink:show=\"new\" xlink:title=\"psysml:9da5c160-44e8-44ec-9936-ca4a4075f5f4\" xlink:type=\"simple\"><path d=\"M382,280.88 C382,288.7 382,297.41 382,305.66 \" fill=\"none\" id=\"E4-to-E5\" style=\"stroke:#181818;stroke-width:1.0;stroke-dasharray:7.0,7.0;\"/><polygon fill=\"#181818\" points=\"382,313.72,385,305.72,379,305.72,382,313.72\" style=\"stroke:#181818;stroke-width:1.0;\"/><text fill=\"#000000\" font-family=\"sans-serif\" font-size=\"13\" lengthAdjust=\"spacing\" textLength=\"64\" x=\"383\" y=\"301.7869\">«depend»</text></a></g><!--MD5=[c5e8897d989ce984f93528998a7150fe]\n",
       "link E8 to E6--><g id=\"link_E8_E6\"><a href=\"psysml:cc6cc763-fa59-42bd-a700-018e736c1371\" target=\"_top\" title=\"psysml:cc6cc763-fa59-42bd-a700-018e736c1371\" xlink:actuate=\"onRequest\" xlink:href=\"psysml:cc6cc763-fa59-42bd-a700-018e736c1371\" xlink:show=\"new\" xlink:title=\"psysml:cc6cc763-fa59-42bd-a700-018e736c1371\" xlink:type=\"simple\"><path d=\"M92.49,183.06 C84.34,187.99 76.69,194.44 72,202.72 C68.74,208.48 67.74,215.21 67.95,221.85 \" fill=\"none\" id=\"E8-to-E6\" style=\"stroke:#181818;stroke-width:1.0;stroke-dasharray:7.0,7.0;\"/><polygon fill=\"#181818\" points=\"68.79,230.13,70.96,221.8662,64.9912,222.477,68.79,230.13\" style=\"stroke:#181818;stroke-width:1.0;\"/><text fill=\"#000000\" font-family=\"sans-serif\" font-size=\"13\" lengthAdjust=\"spacing\" textLength=\"64\" x=\"73\" y=\"215.7869\">«depend»</text></a></g><!--MD5=[bfa3c8b0d15052fdf50ae9310b491027]\n",
       "link E8 to E7--><g id=\"link_E8_E7\"><a href=\"psysml:cc6cc763-fa59-42bd-a700-018e736c1371\" target=\"_top\" title=\"psysml:cc6cc763-fa59-42bd-a700-018e736c1371\" xlink:actuate=\"onRequest\" xlink:href=\"psysml:cc6cc763-fa59-42bd-a700-018e736c1371\" xlink:show=\"new\" xlink:title=\"psysml:cc6cc763-fa59-42bd-a700-018e736c1371\" xlink:type=\"simple\"><path d=\"M143.04,192.62 C149.13,202.08 156.23,213.13 162.69,223.18 \" fill=\"none\" id=\"E8-to-E7\" style=\"stroke:#181818;stroke-width:1.0;stroke-dasharray:7.0,7.0;\"/><polygon fill=\"#181818\" points=\"167.04,229.95,165.2348,221.5989,160.1888,224.845,167.04,229.95\" style=\"stroke:#181818;stroke-width:1.0;\"/><text fill=\"#000000\" font-family=\"sans-serif\" font-size=\"13\" lengthAdjust=\"spacing\" textLength=\"64\" x=\"160\" y=\"215.7869\">«depend»</text></a></g><!--MD5=[49653ff923de6cc95c337ca3bd16ccec]\n",
       "@startuml\r\n",
       "skin sysmlbw\r\n",
       "skinparam monochrome true\r\n",
       "skinparam wrapWidth 300\r\n",
       "hide circle\r\n",
       "skinparam ranksep 10\r\n",
       "skinparam rectangle {\r\n",
       " backgroundColor<<block>> LightGreen\r\n",
       "}\r\n",
       "\r\n",
       "package \"DependencyTest\" as E1  [[psysml:7dee102c-3f89-42b9-9919-3eaa1d7109e5 ]]  {\r\n",
       "package \"System\" as E2  [[psysml:da04b59d-3286-4d3f-bbc3-7e7bb49d7c5d ]]  {\r\n",
       "package \"Application Layer\" as E3  [[psysml:174d7b64-e31a-4a54-99c4-d88bb0afa8af ]]  {\r\n",
       "}\r\n",
       "package \"Service Layer\" as E4  [[psysml:6cc47e98-b8e7-4ff0-90aa-a6e12ea2ee54 ]]  {\r\n",
       "}\r\n",
       "package \"Data Layer\" as E5  [[psysml:a41e95d1-6586-47c5-87a0-a52adaa3773e ]]  {\r\n",
       "}\r\n",
       "}\r\n",
       "comp usage \"x  \" as E6  <<(T,blue) attribute>> [[psysml:fa1eb9e1-3558-4ac6-ae6a-7c42660b9dca ]] {\r\n",
       "}\r\n",
       "comp usage \"y  \" as E7  <<(T,blue) attribute>> [[psysml:a1db1b5d-0100-40b0-bd9f-2e7223fe2e6d ]] {\r\n",
       "}\r\n",
       "comp usage \"z  \" as E8  <<(T,blue) attribute>> [[psysml:179fcb88-b86f-4c8c-8d3f-0f88ad709e86 ]] {\r\n",
       "}\r\n",
       "}\r\n",
       "E1 ..> E2 [[psysml:98ffbcea-2ad0-443f-b206-57004efde221 ]] : <<import>>*\r\n",
       "E3 ..>> E4 [[psysml:94e1a3f7-50a9-4c8e-a4e8-5ce452ddfecf ]] : <<depend>>\r\n",
       "E4 ..>> E5 [[psysml:9da5c160-44e8-44ec-9936-ca4a4075f5f4 ]] : <<depend>>\r\n",
       "E8 ..>> E6 [[psysml:cc6cc763-fa59-42bd-a700-018e736c1371 ]] : <<depend>>\r\n",
       "E8 ..>> E7 [[psysml:cc6cc763-fa59-42bd-a700-018e736c1371 ]] : <<depend>>\r\n",
       "@enduml\r\n",
       "\n",
       "PlantUML version 1.2022.7(Mon Aug 22 17:01:30 UTC 2022)\n",
       "(EPL source distribution)\n",
       "Java Runtime: OpenJDK Runtime Environment\n",
       "JVM: OpenJDK 64-Bit Server VM\n",
       "Default Encoding: UTF-8\n",
       "Language: en\n",
       "Country: null\n",
       "--></g></svg>"
      ]
     },
     "execution_count": 40,
     "metadata": {},
     "output_type": "execute_result"
    }
   ],
   "source": [
    "%viz --style=\"DEFAULT\" --view=\"Interconnection\" \"DependencyTest\""
   ]
  },
  {
   "cell_type": "code",
   "execution_count": 41,
   "id": "2259b3e7",
   "metadata": {
    "execution": {
     "iopub.execute_input": "2024-12-16T03:27:32.627418Z",
     "iopub.status.busy": "2024-12-16T03:27:32.627237Z",
     "iopub.status.idle": "2024-12-16T03:27:32.631897Z",
     "shell.execute_reply": "2024-12-16T03:27:32.631699Z"
    }
   },
   "outputs": [
    {
     "data": {
      "image/svg+xml": [
       "<?xml version=\"1.0\" encoding=\"UTF-8\" standalone=\"no\"?><svg xmlns=\"http://www.w3.org/2000/svg\" xmlns:xlink=\"http://www.w3.org/1999/xlink\" contentStyleType=\"text/css\" height=\"10px\" preserveAspectRatio=\"none\" style=\"width:10px;height:10px;background:#FFFFFF;\" version=\"1.1\" viewBox=\"0 0 10 10\" width=\"10px\" zoomAndPan=\"magnify\"><defs/><g><!--MD5=[3d9597b1575ffc4802b0d6ba40297a8d]\n",
       "@startuml\r\n",
       "skin sysmlbw\r\n",
       "skinparam monochrome true\r\n",
       "skinparam wrapWidth 300\r\n",
       "hide circle\r\n",
       "skinparam ranksep 8\r\n",
       "\r\n",
       "@enduml\r\n",
       "\n",
       "PlantUML version 1.2022.7(Mon Aug 22 17:01:30 UTC 2022)\n",
       "(EPL source distribution)\n",
       "Java Runtime: OpenJDK Runtime Environment\n",
       "JVM: OpenJDK 64-Bit Server VM\n",
       "Default Encoding: UTF-8\n",
       "Language: en\n",
       "Country: null\n",
       "--></g></svg>"
      ]
     },
     "execution_count": 41,
     "metadata": {},
     "output_type": "execute_result"
    }
   ],
   "source": [
    "%viz --style=\"DEFAULT\" --view=\"Action\" \"DependencyTest\""
   ]
  },
  {
   "cell_type": "code",
   "execution_count": 42,
   "id": "fb8d3d32",
   "metadata": {
    "execution": {
     "iopub.execute_input": "2024-12-16T03:27:32.687618Z",
     "iopub.status.busy": "2024-12-16T03:27:32.687388Z",
     "iopub.status.idle": "2024-12-16T03:27:32.692748Z",
     "shell.execute_reply": "2024-12-16T03:27:32.692545Z"
    }
   },
   "outputs": [
    {
     "data": {
      "image/svg+xml": [
       "<?xml version=\"1.0\" encoding=\"UTF-8\" standalone=\"no\"?><svg xmlns=\"http://www.w3.org/2000/svg\" xmlns:xlink=\"http://www.w3.org/1999/xlink\" contentStyleType=\"text/css\" height=\"10px\" preserveAspectRatio=\"none\" style=\"width:10px;height:10px;background:#FFFFFF;\" version=\"1.1\" viewBox=\"0 0 10 10\" width=\"10px\" zoomAndPan=\"magnify\"><defs/><g><!--MD5=[075159388321915a295a256e9638f934]\n",
       "@startuml\r\n",
       "skin sysmlbw\r\n",
       "skinparam monochrome true\r\n",
       "skinparam wrapWidth 300\r\n",
       "hide circle\r\n",
       "skinparam roundcorner 20\r\n",
       "skinparam BoxPadding 20\r\n",
       "skinparam SequenceBoxBackgroundColor #white\r\n",
       "skinparam style strictuml\r\n",
       "skinparam maxMessageSize 100\r\n",
       "\r\n",
       "@enduml\r\n",
       "\n",
       "PlantUML version 1.2022.7(Mon Aug 22 17:01:30 UTC 2022)\n",
       "(EPL source distribution)\n",
       "Java Runtime: OpenJDK Runtime Environment\n",
       "JVM: OpenJDK 64-Bit Server VM\n",
       "Default Encoding: UTF-8\n",
       "Language: en\n",
       "Country: null\n",
       "--></g></svg>"
      ]
     },
     "execution_count": 42,
     "metadata": {},
     "output_type": "execute_result"
    }
   ],
   "source": [
    "%viz --style=\"DEFAULT\" --view=\"Sequence\" \"DependencyTest\""
   ]
  },
  {
   "cell_type": "code",
   "execution_count": 43,
   "id": "e5141e8b",
   "metadata": {
    "execution": {
     "iopub.execute_input": "2024-12-16T03:27:32.747354Z",
     "iopub.status.busy": "2024-12-16T03:27:32.747138Z",
     "iopub.status.idle": "2024-12-16T03:27:32.765479Z",
     "shell.execute_reply": "2024-12-16T03:27:32.764529Z"
    }
   },
   "outputs": [
    {
     "data": {
      "image/svg+xml": [
       "<?xml version=\"1.0\" encoding=\"UTF-8\" standalone=\"no\"?><svg xmlns=\"http://www.w3.org/2000/svg\" xmlns:xlink=\"http://www.w3.org/1999/xlink\" contentStyleType=\"text/css\" height=\"547px\" preserveAspectRatio=\"none\" style=\"width:531px;height:547px;background:#FFFFFF;\" version=\"1.1\" viewBox=\"0 0 531 547\" width=\"531px\" zoomAndPan=\"magnify\"><defs/><g><!--MD5=[fbc87193dbaf4d95561dea2c320d4a47]\n",
       "cluster E1--><g id=\"cluster_E1\"><a href=\"psysml:7dee102c-3f89-42b9-9919-3eaa1d7109e5\" target=\"_top\" title=\"psysml:7dee102c-3f89-42b9-9919-3eaa1d7109e5\" xlink:actuate=\"onRequest\" xlink:href=\"psysml:7dee102c-3f89-42b9-9919-3eaa1d7109e5\" xlink:show=\"new\" xlink:title=\"psysml:7dee102c-3f89-42b9-9919-3eaa1d7109e5\" xlink:type=\"simple\"><polygon fill=\"none\" points=\"16,6,148.125,6,155.125,28.2969,514,28.2969,514,540.72,16,540.72,16,6\" style=\"stroke:#000000;stroke-width:1.5;\"/><line style=\"stroke:#000000;stroke-width:1.5;\" x1=\"16\" x2=\"155.125\" y1=\"28.2969\" y2=\"28.2969\"/><text fill=\"#000000\" font-family=\"sans-serif\" font-size=\"14\" font-weight=\"bold\" lengthAdjust=\"spacing\" textLength=\"126.125\" x=\"20\" y=\"20.9951\">DependencyTest</text></a></g><!--MD5=[e4f7fae6ed58524ba242bb0b0d3be6b7]\n",
       "cluster E2--><g id=\"cluster_E2\"><a href=\"psysml:da04b59d-3286-4d3f-bbc3-7e7bb49d7c5d\" target=\"_top\" title=\"psysml:da04b59d-3286-4d3f-bbc3-7e7bb49d7c5d\" xlink:actuate=\"onRequest\" xlink:href=\"psysml:da04b59d-3286-4d3f-bbc3-7e7bb49d7c5d\" xlink:show=\"new\" xlink:title=\"psysml:da04b59d-3286-4d3f-bbc3-7e7bb49d7c5d\" xlink:type=\"simple\"><polygon fill=\"none\" points=\"271,120.72,330.625,120.72,337.625,143.0169,474,143.0169,474,500.72,271,500.72,271,120.72\" style=\"stroke:#000000;stroke-width:1.5;\"/><line style=\"stroke:#000000;stroke-width:1.5;\" x1=\"271\" x2=\"337.625\" y1=\"143.0169\" y2=\"143.0169\"/><text fill=\"#000000\" font-family=\"sans-serif\" font-size=\"14\" font-weight=\"bold\" lengthAdjust=\"spacing\" textLength=\"53.625\" x=\"275\" y=\"135.7151\">System</text></a></g><!--MD5=[60a26617385b1d2d0262a64233df1f8d]\n",
       "class E6--><a href=\"psysml:fa1eb9e1-3558-4ac6-ae6a-7c42660b9dca\" target=\"_top\" title=\"psysml:fa1eb9e1-3558-4ac6-ae6a-7c42660b9dca\" xlink:actuate=\"onRequest\" xlink:href=\"psysml:fa1eb9e1-3558-4ac6-ae6a-7c42660b9dca\" xlink:show=\"new\" xlink:title=\"psysml:fa1eb9e1-3558-4ac6-ae6a-7c42660b9dca\" xlink:type=\"simple\"><g id=\"elem_E6\"><rect fill=\"#FFFFFF\" height=\"48.2656\" id=\"E6\" rx=\"10\" ry=\"10\" style=\"stroke:#181818;stroke-width:0.5;\" width=\"71\" x=\"40.5\" y=\"296.22\"/><text fill=\"#000000\" font-family=\"sans-serif\" font-size=\"12\" font-style=\"italic\" lengthAdjust=\"spacing\" textLength=\"69\" x=\"41.5\" y=\"312.3587\">«attribute»</text><text fill=\"#000000\" font-family=\"sans-serif\" font-size=\"14\" lengthAdjust=\"spacing\" textLength=\"7\" x=\"68.5\" y=\"328.1839\">x</text><line style=\"stroke:#181818;stroke-width:0.5;\" x1=\"41.5\" x2=\"110.5\" y1=\"336.4856\" y2=\"336.4856\"/></g></a><!--MD5=[2156ba9850f5573cc1fc38a6a4b2f02b]\n",
       "class E7--><a href=\"psysml:a1db1b5d-0100-40b0-bd9f-2e7223fe2e6d\" target=\"_top\" title=\"psysml:a1db1b5d-0100-40b0-bd9f-2e7223fe2e6d\" xlink:actuate=\"onRequest\" xlink:href=\"psysml:a1db1b5d-0100-40b0-bd9f-2e7223fe2e6d\" xlink:show=\"new\" xlink:title=\"psysml:a1db1b5d-0100-40b0-bd9f-2e7223fe2e6d\" xlink:type=\"simple\"><g id=\"elem_E7\"><rect fill=\"#FFFFFF\" height=\"48.2656\" id=\"E7\" rx=\"10\" ry=\"10\" style=\"stroke:#181818;stroke-width:0.5;\" width=\"71\" x=\"146.5\" y=\"296.22\"/><text fill=\"#000000\" font-family=\"sans-serif\" font-size=\"12\" font-style=\"italic\" lengthAdjust=\"spacing\" textLength=\"69\" x=\"147.5\" y=\"312.3587\">«attribute»</text><text fill=\"#000000\" font-family=\"sans-serif\" font-size=\"14\" lengthAdjust=\"spacing\" textLength=\"7\" x=\"174.5\" y=\"328.1839\">y</text><line style=\"stroke:#181818;stroke-width:0.5;\" x1=\"147.5\" x2=\"216.5\" y1=\"336.4856\" y2=\"336.4856\"/></g></a><!--MD5=[b9389687b975829384b498ac4b7476b2]\n",
       "class E8--><a href=\"psysml:179fcb88-b86f-4c8c-8d3f-0f88ad709e86\" target=\"_top\" title=\"psysml:179fcb88-b86f-4c8c-8d3f-0f88ad709e86\" xlink:actuate=\"onRequest\" xlink:href=\"psysml:179fcb88-b86f-4c8c-8d3f-0f88ad709e86\" xlink:show=\"new\" xlink:title=\"psysml:179fcb88-b86f-4c8c-8d3f-0f88ad709e86\" xlink:type=\"simple\"><g id=\"elem_E8\"><rect fill=\"#FFFFFF\" height=\"48.2656\" id=\"E8\" rx=\"10\" ry=\"10\" style=\"stroke:#181818;stroke-width:0.5;\" width=\"71\" x=\"92.5\" y=\"166.22\"/><text fill=\"#000000\" font-family=\"sans-serif\" font-size=\"12\" font-style=\"italic\" lengthAdjust=\"spacing\" textLength=\"69\" x=\"93.5\" y=\"182.3587\">«attribute»</text><text fill=\"#000000\" font-family=\"sans-serif\" font-size=\"14\" lengthAdjust=\"spacing\" textLength=\"8\" x=\"120\" y=\"198.1839\">z</text><line style=\"stroke:#181818;stroke-width:0.5;\" x1=\"93.5\" x2=\"162.5\" y1=\"206.4856\" y2=\"206.4856\"/></g></a><a href=\"psysml:174d7b64-e31a-4a54-99c4-d88bb0afa8af\" target=\"_top\" title=\"psysml:174d7b64-e31a-4a54-99c4-d88bb0afa8af\" xlink:actuate=\"onRequest\" xlink:href=\"psysml:174d7b64-e31a-4a54-99c4-d88bb0afa8af\" xlink:show=\"new\" xlink:title=\"psysml:174d7b64-e31a-4a54-99c4-d88bb0afa8af\" xlink:type=\"simple\"><polygon fill=\"#FFFFFF\" points=\"314.5,163.72,435.5,163.72,442.5,186.0169,449.5,186.0169,449.5,216.3138,314.5,216.3138,314.5,163.72\" style=\"stroke:#181818;stroke-width:0.5;\"/><line style=\"stroke:#181818;stroke-width:0.5;\" x1=\"314.5\" x2=\"442.5\" y1=\"186.0169\" y2=\"186.0169\"/><text fill=\"#000000\" font-family=\"sans-serif\" font-size=\"14\" lengthAdjust=\"spacing\" textLength=\"115\" x=\"318.5\" y=\"178.7151\">Application Layer</text></a><a href=\"psysml:6cc47e98-b8e7-4ff0-90aa-a6e12ea2ee54\" target=\"_top\" title=\"psysml:6cc47e98-b8e7-4ff0-90aa-a6e12ea2ee54\" xlink:actuate=\"onRequest\" xlink:href=\"psysml:6cc47e98-b8e7-4ff0-90aa-a6e12ea2ee54\" xlink:show=\"new\" xlink:title=\"psysml:6cc47e98-b8e7-4ff0-90aa-a6e12ea2ee54\" xlink:type=\"simple\"><polygon fill=\"#FFFFFF\" points=\"327,293.72,423,293.72,430,316.0169,437,316.0169,437,346.3138,327,346.3138,327,293.72\" style=\"stroke:#181818;stroke-width:0.5;\"/><line style=\"stroke:#181818;stroke-width:0.5;\" x1=\"327\" x2=\"430\" y1=\"316.0169\" y2=\"316.0169\"/><text fill=\"#000000\" font-family=\"sans-serif\" font-size=\"14\" lengthAdjust=\"spacing\" textLength=\"90\" x=\"331\" y=\"308.7151\">Service Layer</text></a><a href=\"psysml:a41e95d1-6586-47c5-87a0-a52adaa3773e\" target=\"_top\" title=\"psysml:a41e95d1-6586-47c5-87a0-a52adaa3773e\" xlink:actuate=\"onRequest\" xlink:href=\"psysml:a41e95d1-6586-47c5-87a0-a52adaa3773e\" xlink:show=\"new\" xlink:title=\"psysml:a41e95d1-6586-47c5-87a0-a52adaa3773e\" xlink:type=\"simple\"><polygon fill=\"#FFFFFF\" points=\"336,423.72,414,423.72,421,446.0169,428,446.0169,428,476.3138,336,476.3138,336,423.72\" style=\"stroke:#181818;stroke-width:0.5;\"/><line style=\"stroke:#181818;stroke-width:0.5;\" x1=\"336\" x2=\"421\" y1=\"446.0169\" y2=\"446.0169\"/><text fill=\"#000000\" font-family=\"sans-serif\" font-size=\"14\" lengthAdjust=\"spacing\" textLength=\"72\" x=\"340\" y=\"438.7151\">Data Layer</text></a><!--MD5=[1f1cd8e6dd4c1b2ca2aaccc9b9bcea6e]\n",
       "link E1 to E2--><g id=\"link_E1_E2\"><a href=\"psysml:98ffbcea-2ad0-443f-b206-57004efde221\" target=\"_top\" title=\"psysml:98ffbcea-2ad0-443f-b206-57004efde221\" xlink:actuate=\"onRequest\" xlink:href=\"psysml:98ffbcea-2ad0-443f-b206-57004efde221\" xlink:show=\"new\" xlink:title=\"psysml:98ffbcea-2ad0-443f-b206-57004efde221\" xlink:type=\"simple\"><path d=\"M279,33.83 C279,36.15 279,73.83 279,111.5 C279,113.8544 279,116.2087 279,118.5544 C279,119.1408 279,119.7267 279,120.3119 \" fill=\"none\" id=\"E1-to-E2\" style=\"stroke:#181818;stroke-width:1.0;stroke-dasharray:7.0,7.0;\"/><polygon fill=\"#181818\" points=\"279,120.3119,283,111.3119,279,115.3119,275,111.3119,279,120.3119\" style=\"stroke:#181818;stroke-width:1.0;\"/><text fill=\"#000000\" font-family=\"sans-serif\" font-size=\"13\" lengthAdjust=\"spacing\" textLength=\"65\" x=\"280\" y=\"76.7869\">«import»*</text></a></g><!--MD5=[af87c684e3b0d8be13c1a698a818ef1e]\n",
       "link E3 to E4--><g id=\"link_E3_E4\"><a href=\"psysml:94e1a3f7-50a9-4c8e-a4e8-5ce452ddfecf\" target=\"_top\" title=\"psysml:94e1a3f7-50a9-4c8e-a4e8-5ce452ddfecf\" xlink:actuate=\"onRequest\" xlink:href=\"psysml:94e1a3f7-50a9-4c8e-a4e8-5ce452ddfecf\" xlink:show=\"new\" xlink:title=\"psysml:94e1a3f7-50a9-4c8e-a4e8-5ce452ddfecf\" xlink:type=\"simple\"><path d=\"M382,216.82 C382,236.52 382,263.94 382,285.45 \" fill=\"none\" id=\"E3-to-E4\" style=\"stroke:#181818;stroke-width:1.0;stroke-dasharray:7.0,7.0;\"/><polygon fill=\"#181818\" points=\"382,293.67,385,285.67,379,285.67,382,293.67\" style=\"stroke:#181818;stroke-width:1.0;\"/><text fill=\"#000000\" font-family=\"sans-serif\" font-size=\"13\" lengthAdjust=\"spacing\" textLength=\"64\" x=\"383\" y=\"259.7869\">«depend»</text></a></g><!--MD5=[1b7591eae5389033d8d09a9d6721a717]\n",
       "link E4 to E5--><g id=\"link_E4_E5\"><a href=\"psysml:9da5c160-44e8-44ec-9936-ca4a4075f5f4\" target=\"_top\" title=\"psysml:9da5c160-44e8-44ec-9936-ca4a4075f5f4\" xlink:actuate=\"onRequest\" xlink:href=\"psysml:9da5c160-44e8-44ec-9936-ca4a4075f5f4\" xlink:show=\"new\" xlink:title=\"psysml:9da5c160-44e8-44ec-9936-ca4a4075f5f4\" xlink:type=\"simple\"><path d=\"M382,346.82 C382,366.52 382,393.94 382,415.45 \" fill=\"none\" id=\"E4-to-E5\" style=\"stroke:#181818;stroke-width:1.0;stroke-dasharray:7.0,7.0;\"/><polygon fill=\"#181818\" points=\"382,423.67,385,415.67,379,415.67,382,423.67\" style=\"stroke:#181818;stroke-width:1.0;\"/><text fill=\"#000000\" font-family=\"sans-serif\" font-size=\"13\" lengthAdjust=\"spacing\" textLength=\"64\" x=\"383\" y=\"389.7869\">«depend»</text></a></g><!--MD5=[c5e8897d989ce984f93528998a7150fe]\n",
       "link E8 to E6--><g id=\"link_E8_E6\"><a href=\"psysml:cc6cc763-fa59-42bd-a700-018e736c1371\" target=\"_top\" title=\"psysml:cc6cc763-fa59-42bd-a700-018e736c1371\" xlink:actuate=\"onRequest\" xlink:href=\"psysml:cc6cc763-fa59-42bd-a700-018e736c1371\" xlink:show=\"new\" xlink:title=\"psysml:cc6cc763-fa59-42bd-a700-018e736c1371\" xlink:type=\"simple\"><path d=\"M96.23,214.4 C86.58,223.3 77.16,234.34 72,246.72 C66.62,259.63 66.65,274.97 68.42,288.21 \" fill=\"none\" id=\"E8-to-E6\" style=\"stroke:#181818;stroke-width:1.0;stroke-dasharray:7.0,7.0;\"/><polygon fill=\"#181818\" points=\"69.71,296.14,71.386,287.762,65.4639,288.7258,69.71,296.14\" style=\"stroke:#181818;stroke-width:1.0;\"/><text fill=\"#000000\" font-family=\"sans-serif\" font-size=\"13\" lengthAdjust=\"spacing\" textLength=\"64\" x=\"73\" y=\"259.7869\">«depend»</text></a></g><!--MD5=[bfa3c8b0d15052fdf50ae9310b491027]\n",
       "link E8 to E7--><g id=\"link_E8_E7\"><a href=\"psysml:cc6cc763-fa59-42bd-a700-018e736c1371\" target=\"_top\" title=\"psysml:cc6cc763-fa59-42bd-a700-018e736c1371\" xlink:actuate=\"onRequest\" xlink:href=\"psysml:cc6cc763-fa59-42bd-a700-018e736c1371\" xlink:show=\"new\" xlink:title=\"psysml:cc6cc763-fa59-42bd-a700-018e736c1371\" xlink:type=\"simple\"><path d=\"M137.78,214.4 C146.57,235.24 159.55,266 169.17,288.81 \" fill=\"none\" id=\"E8-to-E7\" style=\"stroke:#181818;stroke-width:1.0;stroke-dasharray:7.0,7.0;\"/><polygon fill=\"#181818\" points=\"172.29,296.21,171.9401,287.6732,166.4131,290.0082,172.29,296.21\" style=\"stroke:#181818;stroke-width:1.0;\"/><text fill=\"#000000\" font-family=\"sans-serif\" font-size=\"13\" lengthAdjust=\"spacing\" textLength=\"64\" x=\"159\" y=\"259.7869\">«depend»</text></a></g><!--MD5=[32e06dab0e21ad2d4dcac95e04b4e1ab]\n",
       "@startuml\r\n",
       "skin sysmlbw\r\n",
       "skinparam monochrome true\r\n",
       "skinparam wrapWidth 300\r\n",
       "hide circle\r\n",
       "\r\n",
       "package \"DependencyTest\" as E1  [[psysml:7dee102c-3f89-42b9-9919-3eaa1d7109e5 ]]  {\r\n",
       "package \"System\" as E2  [[psysml:da04b59d-3286-4d3f-bbc3-7e7bb49d7c5d ]]  {\r\n",
       "package \"Application Layer\" as E3  [[psysml:174d7b64-e31a-4a54-99c4-d88bb0afa8af ]]  {\r\n",
       "}\r\n",
       "package \"Service Layer\" as E4  [[psysml:6cc47e98-b8e7-4ff0-90aa-a6e12ea2ee54 ]]  {\r\n",
       "}\r\n",
       "package \"Data Layer\" as E5  [[psysml:a41e95d1-6586-47c5-87a0-a52adaa3773e ]]  {\r\n",
       "}\r\n",
       "}\r\n",
       "comp usage \"x  \" as E6  <<(T,blue) attribute>> [[psysml:fa1eb9e1-3558-4ac6-ae6a-7c42660b9dca ]] {\r\n",
       "}\r\n",
       "comp usage \"y  \" as E7  <<(T,blue) attribute>> [[psysml:a1db1b5d-0100-40b0-bd9f-2e7223fe2e6d ]] {\r\n",
       "}\r\n",
       "comp usage \"z  \" as E8  <<(T,blue) attribute>> [[psysml:179fcb88-b86f-4c8c-8d3f-0f88ad709e86 ]] {\r\n",
       "}\r\n",
       "}\r\n",
       "E1 ..> E2 [[psysml:98ffbcea-2ad0-443f-b206-57004efde221 ]] : <<import>>*\r\n",
       "E3 ..>> E4 [[psysml:94e1a3f7-50a9-4c8e-a4e8-5ce452ddfecf ]] : <<depend>>\r\n",
       "E4 ..>> E5 [[psysml:9da5c160-44e8-44ec-9936-ca4a4075f5f4 ]] : <<depend>>\r\n",
       "E8 ..>> E6 [[psysml:cc6cc763-fa59-42bd-a700-018e736c1371 ]] : <<depend>>\r\n",
       "E8 ..>> E7 [[psysml:cc6cc763-fa59-42bd-a700-018e736c1371 ]] : <<depend>>\r\n",
       "@enduml\r\n",
       "\n",
       "PlantUML version 1.2022.7(Mon Aug 22 17:01:30 UTC 2022)\n",
       "(EPL source distribution)\n",
       "Java Runtime: OpenJDK Runtime Environment\n",
       "JVM: OpenJDK 64-Bit Server VM\n",
       "Default Encoding: UTF-8\n",
       "Language: en\n",
       "Country: null\n",
       "--></g></svg>"
      ]
     },
     "execution_count": 43,
     "metadata": {},
     "output_type": "execute_result"
    }
   ],
   "source": [
    "%viz --style=\"DEFAULT\" --view=\"MIXED\" \"DependencyTest\""
   ]
  },
  {
   "cell_type": "code",
   "execution_count": 44,
   "id": "2ed495dc",
   "metadata": {
    "execution": {
     "iopub.execute_input": "2024-12-16T03:27:32.817399Z",
     "iopub.status.busy": "2024-12-16T03:27:32.817206Z",
     "iopub.status.idle": "2024-12-16T03:27:32.833764Z",
     "shell.execute_reply": "2024-12-16T03:27:32.833899Z"
    }
   },
   "outputs": [
    {
     "data": {
      "image/svg+xml": [
       "<?xml version=\"1.0\" encoding=\"UTF-8\" standalone=\"no\"?><svg xmlns=\"http://www.w3.org/2000/svg\" xmlns:xlink=\"http://www.w3.org/1999/xlink\" contentStyleType=\"text/css\" height=\"547px\" preserveAspectRatio=\"none\" style=\"width:531px;height:547px;background:#FFFFFF;\" version=\"1.1\" viewBox=\"0 0 531 547\" width=\"531px\" zoomAndPan=\"magnify\"><defs/><g><!--MD5=[fbc87193dbaf4d95561dea2c320d4a47]\n",
       "cluster E1--><g id=\"cluster_E1\"><a href=\"psysml:7dee102c-3f89-42b9-9919-3eaa1d7109e5\" target=\"_top\" title=\"psysml:7dee102c-3f89-42b9-9919-3eaa1d7109e5\" xlink:actuate=\"onRequest\" xlink:href=\"psysml:7dee102c-3f89-42b9-9919-3eaa1d7109e5\" xlink:show=\"new\" xlink:title=\"psysml:7dee102c-3f89-42b9-9919-3eaa1d7109e5\" xlink:type=\"simple\"><polygon fill=\"none\" points=\"16,6,148.125,6,155.125,28.2969,514,28.2969,514,540.72,16,540.72,16,6\" style=\"stroke:#000000;stroke-width:1.5;\"/><line style=\"stroke:#000000;stroke-width:1.5;\" x1=\"16\" x2=\"155.125\" y1=\"28.2969\" y2=\"28.2969\"/><text fill=\"#000000\" font-family=\"sans-serif\" font-size=\"14\" font-weight=\"bold\" lengthAdjust=\"spacing\" textLength=\"126.125\" x=\"20\" y=\"20.9951\">DependencyTest</text></a></g><!--MD5=[e4f7fae6ed58524ba242bb0b0d3be6b7]\n",
       "cluster E2--><g id=\"cluster_E2\"><a href=\"psysml:da04b59d-3286-4d3f-bbc3-7e7bb49d7c5d\" target=\"_top\" title=\"psysml:da04b59d-3286-4d3f-bbc3-7e7bb49d7c5d\" xlink:actuate=\"onRequest\" xlink:href=\"psysml:da04b59d-3286-4d3f-bbc3-7e7bb49d7c5d\" xlink:show=\"new\" xlink:title=\"psysml:da04b59d-3286-4d3f-bbc3-7e7bb49d7c5d\" xlink:type=\"simple\"><polygon fill=\"none\" points=\"271,120.72,330.625,120.72,337.625,143.0169,474,143.0169,474,500.72,271,500.72,271,120.72\" style=\"stroke:#000000;stroke-width:1.5;\"/><line style=\"stroke:#000000;stroke-width:1.5;\" x1=\"271\" x2=\"337.625\" y1=\"143.0169\" y2=\"143.0169\"/><text fill=\"#000000\" font-family=\"sans-serif\" font-size=\"14\" font-weight=\"bold\" lengthAdjust=\"spacing\" textLength=\"53.625\" x=\"275\" y=\"135.7151\">System</text></a></g><!--MD5=[60a26617385b1d2d0262a64233df1f8d]\n",
       "class E6--><a href=\"psysml:fa1eb9e1-3558-4ac6-ae6a-7c42660b9dca\" target=\"_top\" title=\"psysml:fa1eb9e1-3558-4ac6-ae6a-7c42660b9dca\" xlink:actuate=\"onRequest\" xlink:href=\"psysml:fa1eb9e1-3558-4ac6-ae6a-7c42660b9dca\" xlink:show=\"new\" xlink:title=\"psysml:fa1eb9e1-3558-4ac6-ae6a-7c42660b9dca\" xlink:type=\"simple\"><g id=\"elem_E6\"><rect fill=\"#FFFFFF\" height=\"48.2656\" id=\"E6\" rx=\"10\" ry=\"10\" style=\"stroke:#181818;stroke-width:0.5;\" width=\"71\" x=\"40.5\" y=\"296.22\"/><text fill=\"#000000\" font-family=\"sans-serif\" font-size=\"12\" font-style=\"italic\" lengthAdjust=\"spacing\" textLength=\"69\" x=\"41.5\" y=\"312.3587\">«attribute»</text><text fill=\"#000000\" font-family=\"sans-serif\" font-size=\"14\" lengthAdjust=\"spacing\" textLength=\"7\" x=\"68.5\" y=\"328.1839\">x</text><line style=\"stroke:#181818;stroke-width:0.5;\" x1=\"41.5\" x2=\"110.5\" y1=\"336.4856\" y2=\"336.4856\"/></g></a><!--MD5=[2156ba9850f5573cc1fc38a6a4b2f02b]\n",
       "class E7--><a href=\"psysml:a1db1b5d-0100-40b0-bd9f-2e7223fe2e6d\" target=\"_top\" title=\"psysml:a1db1b5d-0100-40b0-bd9f-2e7223fe2e6d\" xlink:actuate=\"onRequest\" xlink:href=\"psysml:a1db1b5d-0100-40b0-bd9f-2e7223fe2e6d\" xlink:show=\"new\" xlink:title=\"psysml:a1db1b5d-0100-40b0-bd9f-2e7223fe2e6d\" xlink:type=\"simple\"><g id=\"elem_E7\"><rect fill=\"#FFFFFF\" height=\"48.2656\" id=\"E7\" rx=\"10\" ry=\"10\" style=\"stroke:#181818;stroke-width:0.5;\" width=\"71\" x=\"146.5\" y=\"296.22\"/><text fill=\"#000000\" font-family=\"sans-serif\" font-size=\"12\" font-style=\"italic\" lengthAdjust=\"spacing\" textLength=\"69\" x=\"147.5\" y=\"312.3587\">«attribute»</text><text fill=\"#000000\" font-family=\"sans-serif\" font-size=\"14\" lengthAdjust=\"spacing\" textLength=\"7\" x=\"174.5\" y=\"328.1839\">y</text><line style=\"stroke:#181818;stroke-width:0.5;\" x1=\"147.5\" x2=\"216.5\" y1=\"336.4856\" y2=\"336.4856\"/></g></a><!--MD5=[b9389687b975829384b498ac4b7476b2]\n",
       "class E8--><a href=\"psysml:179fcb88-b86f-4c8c-8d3f-0f88ad709e86\" target=\"_top\" title=\"psysml:179fcb88-b86f-4c8c-8d3f-0f88ad709e86\" xlink:actuate=\"onRequest\" xlink:href=\"psysml:179fcb88-b86f-4c8c-8d3f-0f88ad709e86\" xlink:show=\"new\" xlink:title=\"psysml:179fcb88-b86f-4c8c-8d3f-0f88ad709e86\" xlink:type=\"simple\"><g id=\"elem_E8\"><rect fill=\"#FFFFFF\" height=\"48.2656\" id=\"E8\" rx=\"10\" ry=\"10\" style=\"stroke:#181818;stroke-width:0.5;\" width=\"71\" x=\"92.5\" y=\"166.22\"/><text fill=\"#000000\" font-family=\"sans-serif\" font-size=\"12\" font-style=\"italic\" lengthAdjust=\"spacing\" textLength=\"69\" x=\"93.5\" y=\"182.3587\">«attribute»</text><text fill=\"#000000\" font-family=\"sans-serif\" font-size=\"14\" lengthAdjust=\"spacing\" textLength=\"8\" x=\"120\" y=\"198.1839\">z</text><line style=\"stroke:#181818;stroke-width:0.5;\" x1=\"93.5\" x2=\"162.5\" y1=\"206.4856\" y2=\"206.4856\"/></g></a><a href=\"psysml:174d7b64-e31a-4a54-99c4-d88bb0afa8af\" target=\"_top\" title=\"psysml:174d7b64-e31a-4a54-99c4-d88bb0afa8af\" xlink:actuate=\"onRequest\" xlink:href=\"psysml:174d7b64-e31a-4a54-99c4-d88bb0afa8af\" xlink:show=\"new\" xlink:title=\"psysml:174d7b64-e31a-4a54-99c4-d88bb0afa8af\" xlink:type=\"simple\"><polygon fill=\"#FFFFFF\" points=\"314.5,163.72,435.5,163.72,442.5,186.0169,449.5,186.0169,449.5,216.3138,314.5,216.3138,314.5,163.72\" style=\"stroke:#181818;stroke-width:0.5;\"/><line style=\"stroke:#181818;stroke-width:0.5;\" x1=\"314.5\" x2=\"442.5\" y1=\"186.0169\" y2=\"186.0169\"/><text fill=\"#000000\" font-family=\"sans-serif\" font-size=\"14\" lengthAdjust=\"spacing\" textLength=\"115\" x=\"318.5\" y=\"178.7151\">Application Layer</text></a><a href=\"psysml:6cc47e98-b8e7-4ff0-90aa-a6e12ea2ee54\" target=\"_top\" title=\"psysml:6cc47e98-b8e7-4ff0-90aa-a6e12ea2ee54\" xlink:actuate=\"onRequest\" xlink:href=\"psysml:6cc47e98-b8e7-4ff0-90aa-a6e12ea2ee54\" xlink:show=\"new\" xlink:title=\"psysml:6cc47e98-b8e7-4ff0-90aa-a6e12ea2ee54\" xlink:type=\"simple\"><polygon fill=\"#FFFFFF\" points=\"327,293.72,423,293.72,430,316.0169,437,316.0169,437,346.3138,327,346.3138,327,293.72\" style=\"stroke:#181818;stroke-width:0.5;\"/><line style=\"stroke:#181818;stroke-width:0.5;\" x1=\"327\" x2=\"430\" y1=\"316.0169\" y2=\"316.0169\"/><text fill=\"#000000\" font-family=\"sans-serif\" font-size=\"14\" lengthAdjust=\"spacing\" textLength=\"90\" x=\"331\" y=\"308.7151\">Service Layer</text></a><a href=\"psysml:a41e95d1-6586-47c5-87a0-a52adaa3773e\" target=\"_top\" title=\"psysml:a41e95d1-6586-47c5-87a0-a52adaa3773e\" xlink:actuate=\"onRequest\" xlink:href=\"psysml:a41e95d1-6586-47c5-87a0-a52adaa3773e\" xlink:show=\"new\" xlink:title=\"psysml:a41e95d1-6586-47c5-87a0-a52adaa3773e\" xlink:type=\"simple\"><polygon fill=\"#FFFFFF\" points=\"336,423.72,414,423.72,421,446.0169,428,446.0169,428,476.3138,336,476.3138,336,423.72\" style=\"stroke:#181818;stroke-width:0.5;\"/><line style=\"stroke:#181818;stroke-width:0.5;\" x1=\"336\" x2=\"421\" y1=\"446.0169\" y2=\"446.0169\"/><text fill=\"#000000\" font-family=\"sans-serif\" font-size=\"14\" lengthAdjust=\"spacing\" textLength=\"72\" x=\"340\" y=\"438.7151\">Data Layer</text></a><!--MD5=[1f1cd8e6dd4c1b2ca2aaccc9b9bcea6e]\n",
       "link E1 to E2--><g id=\"link_E1_E2\"><a href=\"psysml:98ffbcea-2ad0-443f-b206-57004efde221\" target=\"_top\" title=\"psysml:98ffbcea-2ad0-443f-b206-57004efde221\" xlink:actuate=\"onRequest\" xlink:href=\"psysml:98ffbcea-2ad0-443f-b206-57004efde221\" xlink:show=\"new\" xlink:title=\"psysml:98ffbcea-2ad0-443f-b206-57004efde221\" xlink:type=\"simple\"><path d=\"M279,33.83 C279,36.15 279,73.83 279,111.5 C279,113.8544 279,116.2087 279,118.5544 C279,119.1408 279,119.7267 279,120.3119 \" fill=\"none\" id=\"E1-to-E2\" style=\"stroke:#181818;stroke-width:1.0;stroke-dasharray:7.0,7.0;\"/><polygon fill=\"#181818\" points=\"279,120.3119,283,111.3119,279,115.3119,275,111.3119,279,120.3119\" style=\"stroke:#181818;stroke-width:1.0;\"/><text fill=\"#000000\" font-family=\"sans-serif\" font-size=\"13\" lengthAdjust=\"spacing\" textLength=\"65\" x=\"280\" y=\"76.7869\">«import»*</text></a></g><!--MD5=[af87c684e3b0d8be13c1a698a818ef1e]\n",
       "link E3 to E4--><g id=\"link_E3_E4\"><a href=\"psysml:94e1a3f7-50a9-4c8e-a4e8-5ce452ddfecf\" target=\"_top\" title=\"psysml:94e1a3f7-50a9-4c8e-a4e8-5ce452ddfecf\" xlink:actuate=\"onRequest\" xlink:href=\"psysml:94e1a3f7-50a9-4c8e-a4e8-5ce452ddfecf\" xlink:show=\"new\" xlink:title=\"psysml:94e1a3f7-50a9-4c8e-a4e8-5ce452ddfecf\" xlink:type=\"simple\"><path d=\"M382,216.82 C382,236.52 382,263.94 382,285.45 \" fill=\"none\" id=\"E3-to-E4\" style=\"stroke:#181818;stroke-width:1.0;stroke-dasharray:7.0,7.0;\"/><polygon fill=\"#181818\" points=\"382,293.67,385,285.67,379,285.67,382,293.67\" style=\"stroke:#181818;stroke-width:1.0;\"/><text fill=\"#000000\" font-family=\"sans-serif\" font-size=\"13\" lengthAdjust=\"spacing\" textLength=\"64\" x=\"383\" y=\"259.7869\">«depend»</text></a></g><!--MD5=[1b7591eae5389033d8d09a9d6721a717]\n",
       "link E4 to E5--><g id=\"link_E4_E5\"><a href=\"psysml:9da5c160-44e8-44ec-9936-ca4a4075f5f4\" target=\"_top\" title=\"psysml:9da5c160-44e8-44ec-9936-ca4a4075f5f4\" xlink:actuate=\"onRequest\" xlink:href=\"psysml:9da5c160-44e8-44ec-9936-ca4a4075f5f4\" xlink:show=\"new\" xlink:title=\"psysml:9da5c160-44e8-44ec-9936-ca4a4075f5f4\" xlink:type=\"simple\"><path d=\"M382,346.82 C382,366.52 382,393.94 382,415.45 \" fill=\"none\" id=\"E4-to-E5\" style=\"stroke:#181818;stroke-width:1.0;stroke-dasharray:7.0,7.0;\"/><polygon fill=\"#181818\" points=\"382,423.67,385,415.67,379,415.67,382,423.67\" style=\"stroke:#181818;stroke-width:1.0;\"/><text fill=\"#000000\" font-family=\"sans-serif\" font-size=\"13\" lengthAdjust=\"spacing\" textLength=\"64\" x=\"383\" y=\"389.7869\">«depend»</text></a></g><!--MD5=[c5e8897d989ce984f93528998a7150fe]\n",
       "link E8 to E6--><g id=\"link_E8_E6\"><a href=\"psysml:cc6cc763-fa59-42bd-a700-018e736c1371\" target=\"_top\" title=\"psysml:cc6cc763-fa59-42bd-a700-018e736c1371\" xlink:actuate=\"onRequest\" xlink:href=\"psysml:cc6cc763-fa59-42bd-a700-018e736c1371\" xlink:show=\"new\" xlink:title=\"psysml:cc6cc763-fa59-42bd-a700-018e736c1371\" xlink:type=\"simple\"><path d=\"M96.23,214.4 C86.58,223.3 77.16,234.34 72,246.72 C66.62,259.63 66.65,274.97 68.42,288.21 \" fill=\"none\" id=\"E8-to-E6\" style=\"stroke:#181818;stroke-width:1.0;stroke-dasharray:7.0,7.0;\"/><polygon fill=\"#181818\" points=\"69.71,296.14,71.386,287.762,65.4639,288.7258,69.71,296.14\" style=\"stroke:#181818;stroke-width:1.0;\"/><text fill=\"#000000\" font-family=\"sans-serif\" font-size=\"13\" lengthAdjust=\"spacing\" textLength=\"64\" x=\"73\" y=\"259.7869\">«depend»</text></a></g><!--MD5=[bfa3c8b0d15052fdf50ae9310b491027]\n",
       "link E8 to E7--><g id=\"link_E8_E7\"><a href=\"psysml:cc6cc763-fa59-42bd-a700-018e736c1371\" target=\"_top\" title=\"psysml:cc6cc763-fa59-42bd-a700-018e736c1371\" xlink:actuate=\"onRequest\" xlink:href=\"psysml:cc6cc763-fa59-42bd-a700-018e736c1371\" xlink:show=\"new\" xlink:title=\"psysml:cc6cc763-fa59-42bd-a700-018e736c1371\" xlink:type=\"simple\"><path d=\"M137.78,214.4 C146.57,235.24 159.55,266 169.17,288.81 \" fill=\"none\" id=\"E8-to-E7\" style=\"stroke:#181818;stroke-width:1.0;stroke-dasharray:7.0,7.0;\"/><polygon fill=\"#181818\" points=\"172.29,296.21,171.9401,287.6732,166.4131,290.0082,172.29,296.21\" style=\"stroke:#181818;stroke-width:1.0;\"/><text fill=\"#000000\" font-family=\"sans-serif\" font-size=\"13\" lengthAdjust=\"spacing\" textLength=\"64\" x=\"159\" y=\"259.7869\">«depend»</text></a></g><!--MD5=[b04eb452510ad413587c0fc067c09bdd]\n",
       "@startuml\r\n",
       "skin sysmlbw\r\n",
       "skinparam monochrome true\r\n",
       "skinparam wrapWidth 300\r\n",
       "hide circle\r\n",
       "top to bottom direction\r\n",
       "\r\n",
       "package \"DependencyTest\" as E1  [[psysml:7dee102c-3f89-42b9-9919-3eaa1d7109e5 ]]  {\r\n",
       "package \"System\" as E2  [[psysml:da04b59d-3286-4d3f-bbc3-7e7bb49d7c5d ]]  {\r\n",
       "package \"Application Layer\" as E3  [[psysml:174d7b64-e31a-4a54-99c4-d88bb0afa8af ]]  {\r\n",
       "}\r\n",
       "package \"Service Layer\" as E4  [[psysml:6cc47e98-b8e7-4ff0-90aa-a6e12ea2ee54 ]]  {\r\n",
       "}\r\n",
       "package \"Data Layer\" as E5  [[psysml:a41e95d1-6586-47c5-87a0-a52adaa3773e ]]  {\r\n",
       "}\r\n",
       "}\r\n",
       "comp usage \"x  \" as E6  <<(T,blue) attribute>> [[psysml:fa1eb9e1-3558-4ac6-ae6a-7c42660b9dca ]] {\r\n",
       "}\r\n",
       "comp usage \"y  \" as E7  <<(T,blue) attribute>> [[psysml:a1db1b5d-0100-40b0-bd9f-2e7223fe2e6d ]] {\r\n",
       "}\r\n",
       "comp usage \"z  \" as E8  <<(T,blue) attribute>> [[psysml:179fcb88-b86f-4c8c-8d3f-0f88ad709e86 ]] {\r\n",
       "}\r\n",
       "}\r\n",
       "E1 ..> E2 [[psysml:98ffbcea-2ad0-443f-b206-57004efde221 ]] : <<import>>*\r\n",
       "E3 ..>> E4 [[psysml:94e1a3f7-50a9-4c8e-a4e8-5ce452ddfecf ]] : <<depend>>\r\n",
       "E4 ..>> E5 [[psysml:9da5c160-44e8-44ec-9936-ca4a4075f5f4 ]] : <<depend>>\r\n",
       "E8 ..>> E6 [[psysml:cc6cc763-fa59-42bd-a700-018e736c1371 ]] : <<depend>>\r\n",
       "E8 ..>> E7 [[psysml:cc6cc763-fa59-42bd-a700-018e736c1371 ]] : <<depend>>\r\n",
       "@enduml\r\n",
       "\n",
       "PlantUML version 1.2022.7(Mon Aug 22 17:01:30 UTC 2022)\n",
       "(EPL source distribution)\n",
       "Java Runtime: OpenJDK Runtime Environment\n",
       "JVM: OpenJDK 64-Bit Server VM\n",
       "Default Encoding: UTF-8\n",
       "Language: en\n",
       "Country: null\n",
       "--></g></svg>"
      ]
     },
     "execution_count": 44,
     "metadata": {},
     "output_type": "execute_result"
    }
   ],
   "source": [
    "%viz --style=\"TB\" --view=\"Default\" \"DependencyTest\""
   ]
  },
  {
   "cell_type": "code",
   "execution_count": 45,
   "id": "ede18176",
   "metadata": {
    "execution": {
     "iopub.execute_input": "2024-12-16T03:27:32.886063Z",
     "iopub.status.busy": "2024-12-16T03:27:32.885830Z",
     "iopub.status.idle": "2024-12-16T03:27:32.907085Z",
     "shell.execute_reply": "2024-12-16T03:27:32.906107Z"
    }
   },
   "outputs": [
    {
     "data": {
      "image/svg+xml": [
       "<?xml version=\"1.0\" encoding=\"UTF-8\" standalone=\"no\"?><svg xmlns=\"http://www.w3.org/2000/svg\" xmlns:xlink=\"http://www.w3.org/1999/xlink\" contentStyleType=\"text/css\" height=\"547px\" preserveAspectRatio=\"none\" style=\"width:531px;height:547px;background:#FFFFFF;\" version=\"1.1\" viewBox=\"0 0 531 547\" width=\"531px\" zoomAndPan=\"magnify\"><defs/><g><!--MD5=[fbc87193dbaf4d95561dea2c320d4a47]\n",
       "cluster E1--><g id=\"cluster_E1\"><a href=\"psysml:7dee102c-3f89-42b9-9919-3eaa1d7109e5\" target=\"_top\" title=\"psysml:7dee102c-3f89-42b9-9919-3eaa1d7109e5\" xlink:actuate=\"onRequest\" xlink:href=\"psysml:7dee102c-3f89-42b9-9919-3eaa1d7109e5\" xlink:show=\"new\" xlink:title=\"psysml:7dee102c-3f89-42b9-9919-3eaa1d7109e5\" xlink:type=\"simple\"><polygon fill=\"none\" points=\"16,6,148.125,6,155.125,28.2969,514,28.2969,514,540.72,16,540.72,16,6\" style=\"stroke:#000000;stroke-width:1.5;\"/><line style=\"stroke:#000000;stroke-width:1.5;\" x1=\"16\" x2=\"155.125\" y1=\"28.2969\" y2=\"28.2969\"/><text fill=\"#000000\" font-family=\"sans-serif\" font-size=\"14\" font-weight=\"bold\" lengthAdjust=\"spacing\" textLength=\"126.125\" x=\"20\" y=\"20.9951\">DependencyTest</text></a></g><!--MD5=[e4f7fae6ed58524ba242bb0b0d3be6b7]\n",
       "cluster E2--><g id=\"cluster_E2\"><a href=\"psysml:da04b59d-3286-4d3f-bbc3-7e7bb49d7c5d\" target=\"_top\" title=\"psysml:da04b59d-3286-4d3f-bbc3-7e7bb49d7c5d\" xlink:actuate=\"onRequest\" xlink:href=\"psysml:da04b59d-3286-4d3f-bbc3-7e7bb49d7c5d\" xlink:show=\"new\" xlink:title=\"psysml:da04b59d-3286-4d3f-bbc3-7e7bb49d7c5d\" xlink:type=\"simple\"><polygon fill=\"none\" points=\"271,120.72,330.625,120.72,337.625,143.0169,474,143.0169,474,500.72,271,500.72,271,120.72\" style=\"stroke:#000000;stroke-width:1.5;\"/><line style=\"stroke:#000000;stroke-width:1.5;\" x1=\"271\" x2=\"337.625\" y1=\"143.0169\" y2=\"143.0169\"/><text fill=\"#000000\" font-family=\"sans-serif\" font-size=\"14\" font-weight=\"bold\" lengthAdjust=\"spacing\" textLength=\"53.625\" x=\"275\" y=\"135.7151\">System</text></a></g><!--MD5=[60a26617385b1d2d0262a64233df1f8d]\n",
       "class E6--><a href=\"psysml:fa1eb9e1-3558-4ac6-ae6a-7c42660b9dca\" target=\"_top\" title=\"psysml:fa1eb9e1-3558-4ac6-ae6a-7c42660b9dca\" xlink:actuate=\"onRequest\" xlink:href=\"psysml:fa1eb9e1-3558-4ac6-ae6a-7c42660b9dca\" xlink:show=\"new\" xlink:title=\"psysml:fa1eb9e1-3558-4ac6-ae6a-7c42660b9dca\" xlink:type=\"simple\"><g id=\"elem_E6\"><rect fill=\"#FFFFFF\" height=\"48.2656\" id=\"E6\" rx=\"10\" ry=\"10\" style=\"stroke:#181818;stroke-width:0.5;\" width=\"71\" x=\"40.5\" y=\"296.22\"/><text fill=\"#000000\" font-family=\"sans-serif\" font-size=\"12\" font-style=\"italic\" lengthAdjust=\"spacing\" textLength=\"69\" x=\"41.5\" y=\"312.3587\">«attribute»</text><text fill=\"#000000\" font-family=\"sans-serif\" font-size=\"14\" lengthAdjust=\"spacing\" textLength=\"7\" x=\"68.5\" y=\"328.1839\">x</text><line style=\"stroke:#181818;stroke-width:0.5;\" x1=\"41.5\" x2=\"110.5\" y1=\"336.4856\" y2=\"336.4856\"/></g></a><!--MD5=[2156ba9850f5573cc1fc38a6a4b2f02b]\n",
       "class E7--><a href=\"psysml:a1db1b5d-0100-40b0-bd9f-2e7223fe2e6d\" target=\"_top\" title=\"psysml:a1db1b5d-0100-40b0-bd9f-2e7223fe2e6d\" xlink:actuate=\"onRequest\" xlink:href=\"psysml:a1db1b5d-0100-40b0-bd9f-2e7223fe2e6d\" xlink:show=\"new\" xlink:title=\"psysml:a1db1b5d-0100-40b0-bd9f-2e7223fe2e6d\" xlink:type=\"simple\"><g id=\"elem_E7\"><rect fill=\"#FFFFFF\" height=\"48.2656\" id=\"E7\" rx=\"10\" ry=\"10\" style=\"stroke:#181818;stroke-width:0.5;\" width=\"71\" x=\"146.5\" y=\"296.22\"/><text fill=\"#000000\" font-family=\"sans-serif\" font-size=\"12\" font-style=\"italic\" lengthAdjust=\"spacing\" textLength=\"69\" x=\"147.5\" y=\"312.3587\">«attribute»</text><text fill=\"#000000\" font-family=\"sans-serif\" font-size=\"14\" lengthAdjust=\"spacing\" textLength=\"7\" x=\"174.5\" y=\"328.1839\">y</text><line style=\"stroke:#181818;stroke-width:0.5;\" x1=\"147.5\" x2=\"216.5\" y1=\"336.4856\" y2=\"336.4856\"/></g></a><!--MD5=[b9389687b975829384b498ac4b7476b2]\n",
       "class E8--><a href=\"psysml:179fcb88-b86f-4c8c-8d3f-0f88ad709e86\" target=\"_top\" title=\"psysml:179fcb88-b86f-4c8c-8d3f-0f88ad709e86\" xlink:actuate=\"onRequest\" xlink:href=\"psysml:179fcb88-b86f-4c8c-8d3f-0f88ad709e86\" xlink:show=\"new\" xlink:title=\"psysml:179fcb88-b86f-4c8c-8d3f-0f88ad709e86\" xlink:type=\"simple\"><g id=\"elem_E8\"><rect fill=\"#FFFFFF\" height=\"48.2656\" id=\"E8\" rx=\"10\" ry=\"10\" style=\"stroke:#181818;stroke-width:0.5;\" width=\"71\" x=\"92.5\" y=\"166.22\"/><text fill=\"#000000\" font-family=\"sans-serif\" font-size=\"12\" font-style=\"italic\" lengthAdjust=\"spacing\" textLength=\"69\" x=\"93.5\" y=\"182.3587\">«attribute»</text><text fill=\"#000000\" font-family=\"sans-serif\" font-size=\"14\" lengthAdjust=\"spacing\" textLength=\"8\" x=\"120\" y=\"198.1839\">z</text><line style=\"stroke:#181818;stroke-width:0.5;\" x1=\"93.5\" x2=\"162.5\" y1=\"206.4856\" y2=\"206.4856\"/></g></a><a href=\"psysml:174d7b64-e31a-4a54-99c4-d88bb0afa8af\" target=\"_top\" title=\"psysml:174d7b64-e31a-4a54-99c4-d88bb0afa8af\" xlink:actuate=\"onRequest\" xlink:href=\"psysml:174d7b64-e31a-4a54-99c4-d88bb0afa8af\" xlink:show=\"new\" xlink:title=\"psysml:174d7b64-e31a-4a54-99c4-d88bb0afa8af\" xlink:type=\"simple\"><polygon fill=\"#FFFFFF\" points=\"314.5,163.72,435.5,163.72,442.5,186.0169,449.5,186.0169,449.5,216.3138,314.5,216.3138,314.5,163.72\" style=\"stroke:#181818;stroke-width:0.5;\"/><line style=\"stroke:#181818;stroke-width:0.5;\" x1=\"314.5\" x2=\"442.5\" y1=\"186.0169\" y2=\"186.0169\"/><text fill=\"#000000\" font-family=\"sans-serif\" font-size=\"14\" lengthAdjust=\"spacing\" textLength=\"115\" x=\"318.5\" y=\"178.7151\">Application Layer</text></a><a href=\"psysml:6cc47e98-b8e7-4ff0-90aa-a6e12ea2ee54\" target=\"_top\" title=\"psysml:6cc47e98-b8e7-4ff0-90aa-a6e12ea2ee54\" xlink:actuate=\"onRequest\" xlink:href=\"psysml:6cc47e98-b8e7-4ff0-90aa-a6e12ea2ee54\" xlink:show=\"new\" xlink:title=\"psysml:6cc47e98-b8e7-4ff0-90aa-a6e12ea2ee54\" xlink:type=\"simple\"><polygon fill=\"#FFFFFF\" points=\"327,293.72,423,293.72,430,316.0169,437,316.0169,437,346.3138,327,346.3138,327,293.72\" style=\"stroke:#181818;stroke-width:0.5;\"/><line style=\"stroke:#181818;stroke-width:0.5;\" x1=\"327\" x2=\"430\" y1=\"316.0169\" y2=\"316.0169\"/><text fill=\"#000000\" font-family=\"sans-serif\" font-size=\"14\" lengthAdjust=\"spacing\" textLength=\"90\" x=\"331\" y=\"308.7151\">Service Layer</text></a><a href=\"psysml:a41e95d1-6586-47c5-87a0-a52adaa3773e\" target=\"_top\" title=\"psysml:a41e95d1-6586-47c5-87a0-a52adaa3773e\" xlink:actuate=\"onRequest\" xlink:href=\"psysml:a41e95d1-6586-47c5-87a0-a52adaa3773e\" xlink:show=\"new\" xlink:title=\"psysml:a41e95d1-6586-47c5-87a0-a52adaa3773e\" xlink:type=\"simple\"><polygon fill=\"#FFFFFF\" points=\"336,423.72,414,423.72,421,446.0169,428,446.0169,428,476.3138,336,476.3138,336,423.72\" style=\"stroke:#181818;stroke-width:0.5;\"/><line style=\"stroke:#181818;stroke-width:0.5;\" x1=\"336\" x2=\"421\" y1=\"446.0169\" y2=\"446.0169\"/><text fill=\"#000000\" font-family=\"sans-serif\" font-size=\"14\" lengthAdjust=\"spacing\" textLength=\"72\" x=\"340\" y=\"438.7151\">Data Layer</text></a><!--MD5=[1f1cd8e6dd4c1b2ca2aaccc9b9bcea6e]\n",
       "link E1 to E2--><g id=\"link_E1_E2\"><a href=\"psysml:98ffbcea-2ad0-443f-b206-57004efde221\" target=\"_top\" title=\"psysml:98ffbcea-2ad0-443f-b206-57004efde221\" xlink:actuate=\"onRequest\" xlink:href=\"psysml:98ffbcea-2ad0-443f-b206-57004efde221\" xlink:show=\"new\" xlink:title=\"psysml:98ffbcea-2ad0-443f-b206-57004efde221\" xlink:type=\"simple\"><path d=\"M279,33.83 C279,36.15 279,73.83 279,111.5 C279,113.8544 279,116.2087 279,118.5544 C279,119.1408 279,119.7267 279,120.3119 \" fill=\"none\" id=\"E1-to-E2\" style=\"stroke:#181818;stroke-width:1.0;stroke-dasharray:7.0,7.0;\"/><polygon fill=\"#181818\" points=\"279,120.3119,283,111.3119,279,115.3119,275,111.3119,279,120.3119\" style=\"stroke:#181818;stroke-width:1.0;\"/><text fill=\"#000000\" font-family=\"sans-serif\" font-size=\"13\" lengthAdjust=\"spacing\" textLength=\"65\" x=\"280\" y=\"76.7869\">«import»*</text></a></g><!--MD5=[af87c684e3b0d8be13c1a698a818ef1e]\n",
       "link E3 to E4--><g id=\"link_E3_E4\"><a href=\"psysml:94e1a3f7-50a9-4c8e-a4e8-5ce452ddfecf\" target=\"_top\" title=\"psysml:94e1a3f7-50a9-4c8e-a4e8-5ce452ddfecf\" xlink:actuate=\"onRequest\" xlink:href=\"psysml:94e1a3f7-50a9-4c8e-a4e8-5ce452ddfecf\" xlink:show=\"new\" xlink:title=\"psysml:94e1a3f7-50a9-4c8e-a4e8-5ce452ddfecf\" xlink:type=\"simple\"><path d=\"M382,216.82 C382,236.52 382,263.94 382,285.45 \" fill=\"none\" id=\"E3-to-E4\" style=\"stroke:#181818;stroke-width:1.0;stroke-dasharray:7.0,7.0;\"/><polygon fill=\"#181818\" points=\"382,293.67,385,285.67,379,285.67,382,293.67\" style=\"stroke:#181818;stroke-width:1.0;\"/><text fill=\"#000000\" font-family=\"sans-serif\" font-size=\"13\" lengthAdjust=\"spacing\" textLength=\"64\" x=\"383\" y=\"259.7869\">«depend»</text></a></g><!--MD5=[1b7591eae5389033d8d09a9d6721a717]\n",
       "link E4 to E5--><g id=\"link_E4_E5\"><a href=\"psysml:9da5c160-44e8-44ec-9936-ca4a4075f5f4\" target=\"_top\" title=\"psysml:9da5c160-44e8-44ec-9936-ca4a4075f5f4\" xlink:actuate=\"onRequest\" xlink:href=\"psysml:9da5c160-44e8-44ec-9936-ca4a4075f5f4\" xlink:show=\"new\" xlink:title=\"psysml:9da5c160-44e8-44ec-9936-ca4a4075f5f4\" xlink:type=\"simple\"><path d=\"M382,346.82 C382,366.52 382,393.94 382,415.45 \" fill=\"none\" id=\"E4-to-E5\" style=\"stroke:#181818;stroke-width:1.0;stroke-dasharray:7.0,7.0;\"/><polygon fill=\"#181818\" points=\"382,423.67,385,415.67,379,415.67,382,423.67\" style=\"stroke:#181818;stroke-width:1.0;\"/><text fill=\"#000000\" font-family=\"sans-serif\" font-size=\"13\" lengthAdjust=\"spacing\" textLength=\"64\" x=\"383\" y=\"389.7869\">«depend»</text></a></g><!--MD5=[c5e8897d989ce984f93528998a7150fe]\n",
       "link E8 to E6--><g id=\"link_E8_E6\"><a href=\"psysml:cc6cc763-fa59-42bd-a700-018e736c1371\" target=\"_top\" title=\"psysml:cc6cc763-fa59-42bd-a700-018e736c1371\" xlink:actuate=\"onRequest\" xlink:href=\"psysml:cc6cc763-fa59-42bd-a700-018e736c1371\" xlink:show=\"new\" xlink:title=\"psysml:cc6cc763-fa59-42bd-a700-018e736c1371\" xlink:type=\"simple\"><path d=\"M96.23,214.4 C86.58,223.3 77.16,234.34 72,246.72 C66.62,259.63 66.65,274.97 68.42,288.21 \" fill=\"none\" id=\"E8-to-E6\" style=\"stroke:#181818;stroke-width:1.0;stroke-dasharray:7.0,7.0;\"/><polygon fill=\"#181818\" points=\"69.71,296.14,71.386,287.762,65.4639,288.7258,69.71,296.14\" style=\"stroke:#181818;stroke-width:1.0;\"/><text fill=\"#000000\" font-family=\"sans-serif\" font-size=\"13\" lengthAdjust=\"spacing\" textLength=\"64\" x=\"73\" y=\"259.7869\">«depend»</text></a></g><!--MD5=[bfa3c8b0d15052fdf50ae9310b491027]\n",
       "link E8 to E7--><g id=\"link_E8_E7\"><a href=\"psysml:cc6cc763-fa59-42bd-a700-018e736c1371\" target=\"_top\" title=\"psysml:cc6cc763-fa59-42bd-a700-018e736c1371\" xlink:actuate=\"onRequest\" xlink:href=\"psysml:cc6cc763-fa59-42bd-a700-018e736c1371\" xlink:show=\"new\" xlink:title=\"psysml:cc6cc763-fa59-42bd-a700-018e736c1371\" xlink:type=\"simple\"><path d=\"M137.78,214.4 C146.57,235.24 159.55,266 169.17,288.81 \" fill=\"none\" id=\"E8-to-E7\" style=\"stroke:#181818;stroke-width:1.0;stroke-dasharray:7.0,7.0;\"/><polygon fill=\"#181818\" points=\"172.29,296.21,171.9401,287.6732,166.4131,290.0082,172.29,296.21\" style=\"stroke:#181818;stroke-width:1.0;\"/><text fill=\"#000000\" font-family=\"sans-serif\" font-size=\"13\" lengthAdjust=\"spacing\" textLength=\"64\" x=\"159\" y=\"259.7869\">«depend»</text></a></g><!--MD5=[b04eb452510ad413587c0fc067c09bdd]\n",
       "@startuml\r\n",
       "skin sysmlbw\r\n",
       "skinparam monochrome true\r\n",
       "skinparam wrapWidth 300\r\n",
       "hide circle\r\n",
       "top to bottom direction\r\n",
       "\r\n",
       "package \"DependencyTest\" as E1  [[psysml:7dee102c-3f89-42b9-9919-3eaa1d7109e5 ]]  {\r\n",
       "package \"System\" as E2  [[psysml:da04b59d-3286-4d3f-bbc3-7e7bb49d7c5d ]]  {\r\n",
       "package \"Application Layer\" as E3  [[psysml:174d7b64-e31a-4a54-99c4-d88bb0afa8af ]]  {\r\n",
       "}\r\n",
       "package \"Service Layer\" as E4  [[psysml:6cc47e98-b8e7-4ff0-90aa-a6e12ea2ee54 ]]  {\r\n",
       "}\r\n",
       "package \"Data Layer\" as E5  [[psysml:a41e95d1-6586-47c5-87a0-a52adaa3773e ]]  {\r\n",
       "}\r\n",
       "}\r\n",
       "comp usage \"x  \" as E6  <<(T,blue) attribute>> [[psysml:fa1eb9e1-3558-4ac6-ae6a-7c42660b9dca ]] {\r\n",
       "}\r\n",
       "comp usage \"y  \" as E7  <<(T,blue) attribute>> [[psysml:a1db1b5d-0100-40b0-bd9f-2e7223fe2e6d ]] {\r\n",
       "}\r\n",
       "comp usage \"z  \" as E8  <<(T,blue) attribute>> [[psysml:179fcb88-b86f-4c8c-8d3f-0f88ad709e86 ]] {\r\n",
       "}\r\n",
       "}\r\n",
       "E1 ..> E2 [[psysml:98ffbcea-2ad0-443f-b206-57004efde221 ]] : <<import>>*\r\n",
       "E3 ..>> E4 [[psysml:94e1a3f7-50a9-4c8e-a4e8-5ce452ddfecf ]] : <<depend>>\r\n",
       "E4 ..>> E5 [[psysml:9da5c160-44e8-44ec-9936-ca4a4075f5f4 ]] : <<depend>>\r\n",
       "E8 ..>> E6 [[psysml:cc6cc763-fa59-42bd-a700-018e736c1371 ]] : <<depend>>\r\n",
       "E8 ..>> E7 [[psysml:cc6cc763-fa59-42bd-a700-018e736c1371 ]] : <<depend>>\r\n",
       "@enduml\r\n",
       "\n",
       "PlantUML version 1.2022.7(Mon Aug 22 17:01:30 UTC 2022)\n",
       "(EPL source distribution)\n",
       "Java Runtime: OpenJDK Runtime Environment\n",
       "JVM: OpenJDK 64-Bit Server VM\n",
       "Default Encoding: UTF-8\n",
       "Language: en\n",
       "Country: null\n",
       "--></g></svg>"
      ]
     },
     "execution_count": 45,
     "metadata": {},
     "output_type": "execute_result"
    }
   ],
   "source": [
    "%viz --style=\"TB\" --view=\"Tree\" \"DependencyTest\""
   ]
  },
  {
   "cell_type": "code",
   "execution_count": 46,
   "id": "8f62d517",
   "metadata": {
    "execution": {
     "iopub.execute_input": "2024-12-16T03:27:32.958823Z",
     "iopub.status.busy": "2024-12-16T03:27:32.958562Z",
     "iopub.status.idle": "2024-12-16T03:27:32.963159Z",
     "shell.execute_reply": "2024-12-16T03:27:32.962968Z"
    }
   },
   "outputs": [
    {
     "data": {
      "image/svg+xml": [
       "<?xml version=\"1.0\" encoding=\"UTF-8\" standalone=\"no\"?><svg xmlns=\"http://www.w3.org/2000/svg\" xmlns:xlink=\"http://www.w3.org/1999/xlink\" contentStyleType=\"text/css\" height=\"10px\" preserveAspectRatio=\"none\" style=\"width:10px;height:10px;background:#FFFFFF;\" version=\"1.1\" viewBox=\"0 0 10 10\" width=\"10px\" zoomAndPan=\"magnify\"><defs/><g><!--MD5=[457d54036ad86991b1ebb71db2c9a3b1]\n",
       "@startuml\r\n",
       "skin sysmlbw\r\n",
       "skinparam monochrome true\r\n",
       "skinparam wrapWidth 300\r\n",
       "hide circle\r\n",
       "top to bottom direction\r\n",
       "\r\n",
       "@enduml\r\n",
       "\n",
       "PlantUML version 1.2022.7(Mon Aug 22 17:01:30 UTC 2022)\n",
       "(EPL source distribution)\n",
       "Java Runtime: OpenJDK Runtime Environment\n",
       "JVM: OpenJDK 64-Bit Server VM\n",
       "Default Encoding: UTF-8\n",
       "Language: en\n",
       "Country: null\n",
       "--></g></svg>"
      ]
     },
     "execution_count": 46,
     "metadata": {},
     "output_type": "execute_result"
    }
   ],
   "source": [
    "%viz --style=\"TB\" --view=\"State\" \"DependencyTest\""
   ]
  },
  {
   "cell_type": "code",
   "execution_count": 47,
   "id": "a9cd1698",
   "metadata": {
    "execution": {
     "iopub.execute_input": "2024-12-16T03:27:33.014181Z",
     "iopub.status.busy": "2024-12-16T03:27:33.013899Z",
     "iopub.status.idle": "2024-12-16T03:27:33.030216Z",
     "shell.execute_reply": "2024-12-16T03:27:33.029408Z"
    }
   },
   "outputs": [
    {
     "data": {
      "image/svg+xml": [
       "<?xml version=\"1.0\" encoding=\"UTF-8\" standalone=\"no\"?><svg xmlns=\"http://www.w3.org/2000/svg\" xmlns:xlink=\"http://www.w3.org/1999/xlink\" contentStyleType=\"text/css\" height=\"437px\" preserveAspectRatio=\"none\" style=\"width:531px;height:437px;background:#FFFFFF;\" version=\"1.1\" viewBox=\"0 0 531 437\" width=\"531px\" zoomAndPan=\"magnify\"><defs/><g><!--MD5=[fbc87193dbaf4d95561dea2c320d4a47]\n",
       "cluster E1--><g id=\"cluster_E1\"><a href=\"psysml:7dee102c-3f89-42b9-9919-3eaa1d7109e5\" target=\"_top\" title=\"psysml:7dee102c-3f89-42b9-9919-3eaa1d7109e5\" xlink:actuate=\"onRequest\" xlink:href=\"psysml:7dee102c-3f89-42b9-9919-3eaa1d7109e5\" xlink:show=\"new\" xlink:title=\"psysml:7dee102c-3f89-42b9-9919-3eaa1d7109e5\" xlink:type=\"simple\"><polygon fill=\"none\" points=\"16,6,148.125,6,155.125,28.2969,514,28.2969,514,430.72,16,430.72,16,6\" style=\"stroke:#000000;stroke-width:1.5;\"/><line style=\"stroke:#000000;stroke-width:1.5;\" x1=\"16\" x2=\"155.125\" y1=\"28.2969\" y2=\"28.2969\"/><text fill=\"#000000\" font-family=\"sans-serif\" font-size=\"14\" font-weight=\"bold\" lengthAdjust=\"spacing\" textLength=\"126.125\" x=\"20\" y=\"20.9951\">DependencyTest</text></a></g><!--MD5=[e4f7fae6ed58524ba242bb0b0d3be6b7]\n",
       "cluster E2--><g id=\"cluster_E2\"><a href=\"psysml:da04b59d-3286-4d3f-bbc3-7e7bb49d7c5d\" target=\"_top\" title=\"psysml:da04b59d-3286-4d3f-bbc3-7e7bb49d7c5d\" xlink:actuate=\"onRequest\" xlink:href=\"psysml:da04b59d-3286-4d3f-bbc3-7e7bb49d7c5d\" xlink:show=\"new\" xlink:title=\"psysml:da04b59d-3286-4d3f-bbc3-7e7bb49d7c5d\" xlink:type=\"simple\"><polygon fill=\"none\" points=\"271,98.72,330.625,98.72,337.625,121.0169,474,121.0169,474,390.72,271,390.72,271,98.72\" style=\"stroke:#000000;stroke-width:1.5;\"/><line style=\"stroke:#000000;stroke-width:1.5;\" x1=\"271\" x2=\"337.625\" y1=\"121.0169\" y2=\"121.0169\"/><text fill=\"#000000\" font-family=\"sans-serif\" font-size=\"14\" font-weight=\"bold\" lengthAdjust=\"spacing\" textLength=\"53.625\" x=\"275\" y=\"113.7151\">System</text></a></g><!--MD5=[60a26617385b1d2d0262a64233df1f8d]\n",
       "class E6--><a href=\"psysml:fa1eb9e1-3558-4ac6-ae6a-7c42660b9dca\" target=\"_top\" title=\"psysml:fa1eb9e1-3558-4ac6-ae6a-7c42660b9dca\" xlink:actuate=\"onRequest\" xlink:href=\"psysml:fa1eb9e1-3558-4ac6-ae6a-7c42660b9dca\" xlink:show=\"new\" xlink:title=\"psysml:fa1eb9e1-3558-4ac6-ae6a-7c42660b9dca\" xlink:type=\"simple\"><g id=\"elem_E6\"><rect fill=\"#FFFFFF\" height=\"48.2656\" id=\"E6\" rx=\"10\" ry=\"10\" style=\"stroke:#181818;stroke-width:0.5;\" width=\"71\" x=\"40.5\" y=\"230.22\"/><text fill=\"#000000\" font-family=\"sans-serif\" font-size=\"12\" font-style=\"italic\" lengthAdjust=\"spacing\" textLength=\"69\" x=\"41.5\" y=\"246.3587\">«attribute»</text><text fill=\"#000000\" font-family=\"sans-serif\" font-size=\"14\" lengthAdjust=\"spacing\" textLength=\"7\" x=\"68.5\" y=\"262.1839\">x</text><line style=\"stroke:#181818;stroke-width:0.5;\" x1=\"41.5\" x2=\"110.5\" y1=\"270.4856\" y2=\"270.4856\"/></g></a><!--MD5=[2156ba9850f5573cc1fc38a6a4b2f02b]\n",
       "class E7--><a href=\"psysml:a1db1b5d-0100-40b0-bd9f-2e7223fe2e6d\" target=\"_top\" title=\"psysml:a1db1b5d-0100-40b0-bd9f-2e7223fe2e6d\" xlink:actuate=\"onRequest\" xlink:href=\"psysml:a1db1b5d-0100-40b0-bd9f-2e7223fe2e6d\" xlink:show=\"new\" xlink:title=\"psysml:a1db1b5d-0100-40b0-bd9f-2e7223fe2e6d\" xlink:type=\"simple\"><g id=\"elem_E7\"><rect fill=\"#FFFFFF\" height=\"48.2656\" id=\"E7\" rx=\"10\" ry=\"10\" style=\"stroke:#181818;stroke-width:0.5;\" width=\"71\" x=\"146.5\" y=\"230.22\"/><text fill=\"#000000\" font-family=\"sans-serif\" font-size=\"12\" font-style=\"italic\" lengthAdjust=\"spacing\" textLength=\"69\" x=\"147.5\" y=\"246.3587\">«attribute»</text><text fill=\"#000000\" font-family=\"sans-serif\" font-size=\"14\" lengthAdjust=\"spacing\" textLength=\"7\" x=\"174.5\" y=\"262.1839\">y</text><line style=\"stroke:#181818;stroke-width:0.5;\" x1=\"147.5\" x2=\"216.5\" y1=\"270.4856\" y2=\"270.4856\"/></g></a><!--MD5=[b9389687b975829384b498ac4b7476b2]\n",
       "class E8--><a href=\"psysml:179fcb88-b86f-4c8c-8d3f-0f88ad709e86\" target=\"_top\" title=\"psysml:179fcb88-b86f-4c8c-8d3f-0f88ad709e86\" xlink:actuate=\"onRequest\" xlink:href=\"psysml:179fcb88-b86f-4c8c-8d3f-0f88ad709e86\" xlink:show=\"new\" xlink:title=\"psysml:179fcb88-b86f-4c8c-8d3f-0f88ad709e86\" xlink:type=\"simple\"><g id=\"elem_E8\"><rect fill=\"#FFFFFF\" height=\"48.2656\" id=\"E8\" rx=\"10\" ry=\"10\" style=\"stroke:#181818;stroke-width:0.5;\" width=\"71\" x=\"92.5\" y=\"144.22\"/><text fill=\"#000000\" font-family=\"sans-serif\" font-size=\"12\" font-style=\"italic\" lengthAdjust=\"spacing\" textLength=\"69\" x=\"93.5\" y=\"160.3587\">«attribute»</text><text fill=\"#000000\" font-family=\"sans-serif\" font-size=\"14\" lengthAdjust=\"spacing\" textLength=\"8\" x=\"120\" y=\"176.1839\">z</text><line style=\"stroke:#181818;stroke-width:0.5;\" x1=\"93.5\" x2=\"162.5\" y1=\"184.4856\" y2=\"184.4856\"/></g></a><a href=\"psysml:174d7b64-e31a-4a54-99c4-d88bb0afa8af\" target=\"_top\" title=\"psysml:174d7b64-e31a-4a54-99c4-d88bb0afa8af\" xlink:actuate=\"onRequest\" xlink:href=\"psysml:174d7b64-e31a-4a54-99c4-d88bb0afa8af\" xlink:show=\"new\" xlink:title=\"psysml:174d7b64-e31a-4a54-99c4-d88bb0afa8af\" xlink:type=\"simple\"><polygon fill=\"#FFFFFF\" points=\"314.5,141.72,435.5,141.72,442.5,164.0169,449.5,164.0169,449.5,194.3138,314.5,194.3138,314.5,141.72\" style=\"stroke:#181818;stroke-width:0.5;\"/><line style=\"stroke:#181818;stroke-width:0.5;\" x1=\"314.5\" x2=\"442.5\" y1=\"164.0169\" y2=\"164.0169\"/><text fill=\"#000000\" font-family=\"sans-serif\" font-size=\"14\" lengthAdjust=\"spacing\" textLength=\"115\" x=\"318.5\" y=\"156.7151\">Application Layer</text></a><a href=\"psysml:6cc47e98-b8e7-4ff0-90aa-a6e12ea2ee54\" target=\"_top\" title=\"psysml:6cc47e98-b8e7-4ff0-90aa-a6e12ea2ee54\" xlink:actuate=\"onRequest\" xlink:href=\"psysml:6cc47e98-b8e7-4ff0-90aa-a6e12ea2ee54\" xlink:show=\"new\" xlink:title=\"psysml:6cc47e98-b8e7-4ff0-90aa-a6e12ea2ee54\" xlink:type=\"simple\"><polygon fill=\"#FFFFFF\" points=\"327,227.72,423,227.72,430,250.0169,437,250.0169,437,280.3138,327,280.3138,327,227.72\" style=\"stroke:#181818;stroke-width:0.5;\"/><line style=\"stroke:#181818;stroke-width:0.5;\" x1=\"327\" x2=\"430\" y1=\"250.0169\" y2=\"250.0169\"/><text fill=\"#000000\" font-family=\"sans-serif\" font-size=\"14\" lengthAdjust=\"spacing\" textLength=\"90\" x=\"331\" y=\"242.7151\">Service Layer</text></a><a href=\"psysml:a41e95d1-6586-47c5-87a0-a52adaa3773e\" target=\"_top\" title=\"psysml:a41e95d1-6586-47c5-87a0-a52adaa3773e\" xlink:actuate=\"onRequest\" xlink:href=\"psysml:a41e95d1-6586-47c5-87a0-a52adaa3773e\" xlink:show=\"new\" xlink:title=\"psysml:a41e95d1-6586-47c5-87a0-a52adaa3773e\" xlink:type=\"simple\"><polygon fill=\"#FFFFFF\" points=\"336,313.72,414,313.72,421,336.0169,428,336.0169,428,366.3138,336,366.3138,336,313.72\" style=\"stroke:#181818;stroke-width:0.5;\"/><line style=\"stroke:#181818;stroke-width:0.5;\" x1=\"336\" x2=\"421\" y1=\"336.0169\" y2=\"336.0169\"/><text fill=\"#000000\" font-family=\"sans-serif\" font-size=\"14\" lengthAdjust=\"spacing\" textLength=\"72\" x=\"340\" y=\"328.7151\">Data Layer</text></a><!--MD5=[1f1cd8e6dd4c1b2ca2aaccc9b9bcea6e]\n",
       "link E1 to E2--><g id=\"link_E1_E2\"><a href=\"psysml:98ffbcea-2ad0-443f-b206-57004efde221\" target=\"_top\" title=\"psysml:98ffbcea-2ad0-443f-b206-57004efde221\" xlink:actuate=\"onRequest\" xlink:href=\"psysml:98ffbcea-2ad0-443f-b206-57004efde221\" xlink:show=\"new\" xlink:title=\"psysml:98ffbcea-2ad0-443f-b206-57004efde221\" xlink:type=\"simple\"><path d=\"M279,33.82 C279,34.815 279,43.3994 279,55.7775 C279,61.9666 279,69.1041 279,76.7155 C279,80.5213 279,84.4455 279,88.429 C279,90.4207 279,92.4272 279,94.4411 C279,95.448 279,96.4568 279,97.4665 C279,97.719 279,97.9714 279,98.224 \" fill=\"none\" id=\"E1-to-E2\" style=\"stroke:#181818;stroke-width:1.0;stroke-dasharray:7.0,7.0;\"/><polygon fill=\"#181818\" points=\"279,98.224,283,89.224,279,93.224,275,89.224,279,98.224\" style=\"stroke:#181818;stroke-width:1.0;\"/><text fill=\"#000000\" font-family=\"sans-serif\" font-size=\"13\" lengthAdjust=\"spacing\" textLength=\"65\" x=\"280\" y=\"54.7869\">«import»*</text></a></g><!--MD5=[af87c684e3b0d8be13c1a698a818ef1e]\n",
       "link E3 to E4--><g id=\"link_E3_E4\"><a href=\"psysml:94e1a3f7-50a9-4c8e-a4e8-5ce452ddfecf\" target=\"_top\" title=\"psysml:94e1a3f7-50a9-4c8e-a4e8-5ce452ddfecf\" xlink:actuate=\"onRequest\" xlink:href=\"psysml:94e1a3f7-50a9-4c8e-a4e8-5ce452ddfecf\" xlink:show=\"new\" xlink:title=\"psysml:94e1a3f7-50a9-4c8e-a4e8-5ce452ddfecf\" xlink:type=\"simple\"><path d=\"M382,194.88 C382,202.7 382,211.41 382,219.66 \" fill=\"none\" id=\"E3-to-E4\" style=\"stroke:#181818;stroke-width:1.0;stroke-dasharray:7.0,7.0;\"/><polygon fill=\"#181818\" points=\"382,227.72,385,219.72,379,219.72,382,227.72\" style=\"stroke:#181818;stroke-width:1.0;\"/><text fill=\"#000000\" font-family=\"sans-serif\" font-size=\"13\" lengthAdjust=\"spacing\" textLength=\"64\" x=\"383\" y=\"215.7869\">«depend»</text></a></g><!--MD5=[1b7591eae5389033d8d09a9d6721a717]\n",
       "link E4 to E5--><g id=\"link_E4_E5\"><a href=\"psysml:9da5c160-44e8-44ec-9936-ca4a4075f5f4\" target=\"_top\" title=\"psysml:9da5c160-44e8-44ec-9936-ca4a4075f5f4\" xlink:actuate=\"onRequest\" xlink:href=\"psysml:9da5c160-44e8-44ec-9936-ca4a4075f5f4\" xlink:show=\"new\" xlink:title=\"psysml:9da5c160-44e8-44ec-9936-ca4a4075f5f4\" xlink:type=\"simple\"><path d=\"M382,280.88 C382,288.7 382,297.41 382,305.66 \" fill=\"none\" id=\"E4-to-E5\" style=\"stroke:#181818;stroke-width:1.0;stroke-dasharray:7.0,7.0;\"/><polygon fill=\"#181818\" points=\"382,313.72,385,305.72,379,305.72,382,313.72\" style=\"stroke:#181818;stroke-width:1.0;\"/><text fill=\"#000000\" font-family=\"sans-serif\" font-size=\"13\" lengthAdjust=\"spacing\" textLength=\"64\" x=\"383\" y=\"301.7869\">«depend»</text></a></g><!--MD5=[c5e8897d989ce984f93528998a7150fe]\n",
       "link E8 to E6--><g id=\"link_E8_E6\"><a href=\"psysml:cc6cc763-fa59-42bd-a700-018e736c1371\" target=\"_top\" title=\"psysml:cc6cc763-fa59-42bd-a700-018e736c1371\" xlink:actuate=\"onRequest\" xlink:href=\"psysml:cc6cc763-fa59-42bd-a700-018e736c1371\" xlink:show=\"new\" xlink:title=\"psysml:cc6cc763-fa59-42bd-a700-018e736c1371\" xlink:type=\"simple\"><path d=\"M92.49,183.06 C84.34,187.99 76.69,194.44 72,202.72 C68.74,208.48 67.74,215.21 67.95,221.85 \" fill=\"none\" id=\"E8-to-E6\" style=\"stroke:#181818;stroke-width:1.0;stroke-dasharray:7.0,7.0;\"/><polygon fill=\"#181818\" points=\"68.79,230.13,70.96,221.8662,64.9912,222.477,68.79,230.13\" style=\"stroke:#181818;stroke-width:1.0;\"/><text fill=\"#000000\" font-family=\"sans-serif\" font-size=\"13\" lengthAdjust=\"spacing\" textLength=\"64\" x=\"73\" y=\"215.7869\">«depend»</text></a></g><!--MD5=[bfa3c8b0d15052fdf50ae9310b491027]\n",
       "link E8 to E7--><g id=\"link_E8_E7\"><a href=\"psysml:cc6cc763-fa59-42bd-a700-018e736c1371\" target=\"_top\" title=\"psysml:cc6cc763-fa59-42bd-a700-018e736c1371\" xlink:actuate=\"onRequest\" xlink:href=\"psysml:cc6cc763-fa59-42bd-a700-018e736c1371\" xlink:show=\"new\" xlink:title=\"psysml:cc6cc763-fa59-42bd-a700-018e736c1371\" xlink:type=\"simple\"><path d=\"M143.04,192.62 C149.13,202.08 156.23,213.13 162.69,223.18 \" fill=\"none\" id=\"E8-to-E7\" style=\"stroke:#181818;stroke-width:1.0;stroke-dasharray:7.0,7.0;\"/><polygon fill=\"#181818\" points=\"167.04,229.95,165.2348,221.5989,160.1888,224.845,167.04,229.95\" style=\"stroke:#181818;stroke-width:1.0;\"/><text fill=\"#000000\" font-family=\"sans-serif\" font-size=\"13\" lengthAdjust=\"spacing\" textLength=\"64\" x=\"160\" y=\"215.7869\">«depend»</text></a></g><!--MD5=[e32a2d7a7e87dee5f1478695f585b553]\n",
       "@startuml\r\n",
       "skin sysmlbw\r\n",
       "skinparam monochrome true\r\n",
       "skinparam wrapWidth 300\r\n",
       "hide circle\r\n",
       "top to bottom direction\r\n",
       "skinparam ranksep 10\r\n",
       "skinparam rectangle {\r\n",
       " backgroundColor<<block>> LightGreen\r\n",
       "}\r\n",
       "\r\n",
       "package \"DependencyTest\" as E1  [[psysml:7dee102c-3f89-42b9-9919-3eaa1d7109e5 ]]  {\r\n",
       "package \"System\" as E2  [[psysml:da04b59d-3286-4d3f-bbc3-7e7bb49d7c5d ]]  {\r\n",
       "package \"Application Layer\" as E3  [[psysml:174d7b64-e31a-4a54-99c4-d88bb0afa8af ]]  {\r\n",
       "}\r\n",
       "package \"Service Layer\" as E4  [[psysml:6cc47e98-b8e7-4ff0-90aa-a6e12ea2ee54 ]]  {\r\n",
       "}\r\n",
       "package \"Data Layer\" as E5  [[psysml:a41e95d1-6586-47c5-87a0-a52adaa3773e ]]  {\r\n",
       "}\r\n",
       "}\r\n",
       "comp usage \"x  \" as E6  <<(T,blue) attribute>> [[psysml:fa1eb9e1-3558-4ac6-ae6a-7c42660b9dca ]] {\r\n",
       "}\r\n",
       "comp usage \"y  \" as E7  <<(T,blue) attribute>> [[psysml:a1db1b5d-0100-40b0-bd9f-2e7223fe2e6d ]] {\r\n",
       "}\r\n",
       "comp usage \"z  \" as E8  <<(T,blue) attribute>> [[psysml:179fcb88-b86f-4c8c-8d3f-0f88ad709e86 ]] {\r\n",
       "}\r\n",
       "}\r\n",
       "E1 ..> E2 [[psysml:98ffbcea-2ad0-443f-b206-57004efde221 ]] : <<import>>*\r\n",
       "E3 ..>> E4 [[psysml:94e1a3f7-50a9-4c8e-a4e8-5ce452ddfecf ]] : <<depend>>\r\n",
       "E4 ..>> E5 [[psysml:9da5c160-44e8-44ec-9936-ca4a4075f5f4 ]] : <<depend>>\r\n",
       "E8 ..>> E6 [[psysml:cc6cc763-fa59-42bd-a700-018e736c1371 ]] : <<depend>>\r\n",
       "E8 ..>> E7 [[psysml:cc6cc763-fa59-42bd-a700-018e736c1371 ]] : <<depend>>\r\n",
       "@enduml\r\n",
       "\n",
       "PlantUML version 1.2022.7(Mon Aug 22 17:01:30 UTC 2022)\n",
       "(EPL source distribution)\n",
       "Java Runtime: OpenJDK Runtime Environment\n",
       "JVM: OpenJDK 64-Bit Server VM\n",
       "Default Encoding: UTF-8\n",
       "Language: en\n",
       "Country: null\n",
       "--></g></svg>"
      ]
     },
     "execution_count": 47,
     "metadata": {},
     "output_type": "execute_result"
    }
   ],
   "source": [
    "%viz --style=\"TB\" --view=\"Interconnection\" \"DependencyTest\""
   ]
  },
  {
   "cell_type": "code",
   "execution_count": 48,
   "id": "9e25c162",
   "metadata": {
    "execution": {
     "iopub.execute_input": "2024-12-16T03:27:33.083863Z",
     "iopub.status.busy": "2024-12-16T03:27:33.083596Z",
     "iopub.status.idle": "2024-12-16T03:27:33.087822Z",
     "shell.execute_reply": "2024-12-16T03:27:33.087963Z"
    }
   },
   "outputs": [
    {
     "data": {
      "image/svg+xml": [
       "<?xml version=\"1.0\" encoding=\"UTF-8\" standalone=\"no\"?><svg xmlns=\"http://www.w3.org/2000/svg\" xmlns:xlink=\"http://www.w3.org/1999/xlink\" contentStyleType=\"text/css\" height=\"10px\" preserveAspectRatio=\"none\" style=\"width:10px;height:10px;background:#FFFFFF;\" version=\"1.1\" viewBox=\"0 0 10 10\" width=\"10px\" zoomAndPan=\"magnify\"><defs/><g><!--MD5=[c8dde5d066d102a500cd081cce1d9948]\n",
       "@startuml\r\n",
       "skin sysmlbw\r\n",
       "skinparam monochrome true\r\n",
       "skinparam wrapWidth 300\r\n",
       "hide circle\r\n",
       "top to bottom direction\r\n",
       "skinparam ranksep 8\r\n",
       "\r\n",
       "@enduml\r\n",
       "\n",
       "PlantUML version 1.2022.7(Mon Aug 22 17:01:30 UTC 2022)\n",
       "(EPL source distribution)\n",
       "Java Runtime: OpenJDK Runtime Environment\n",
       "JVM: OpenJDK 64-Bit Server VM\n",
       "Default Encoding: UTF-8\n",
       "Language: en\n",
       "Country: null\n",
       "--></g></svg>"
      ]
     },
     "execution_count": 48,
     "metadata": {},
     "output_type": "execute_result"
    }
   ],
   "source": [
    "%viz --style=\"TB\" --view=\"Action\" \"DependencyTest\""
   ]
  },
  {
   "cell_type": "code",
   "execution_count": 49,
   "id": "40b40d5a",
   "metadata": {
    "execution": {
     "iopub.execute_input": "2024-12-16T03:27:33.144375Z",
     "iopub.status.busy": "2024-12-16T03:27:33.144106Z",
     "iopub.status.idle": "2024-12-16T03:27:33.149210Z",
     "shell.execute_reply": "2024-12-16T03:27:33.149024Z"
    }
   },
   "outputs": [
    {
     "data": {
      "image/svg+xml": [
       "<?xml version=\"1.0\" encoding=\"UTF-8\" standalone=\"no\"?><svg xmlns=\"http://www.w3.org/2000/svg\" xmlns:xlink=\"http://www.w3.org/1999/xlink\" contentStyleType=\"text/css\" height=\"10px\" preserveAspectRatio=\"none\" style=\"width:10px;height:10px;background:#FFFFFF;\" version=\"1.1\" viewBox=\"0 0 10 10\" width=\"10px\" zoomAndPan=\"magnify\"><defs/><g><!--MD5=[228a58293b408a2cee091b1559da5a28]\n",
       "@startuml\r\n",
       "skin sysmlbw\r\n",
       "skinparam monochrome true\r\n",
       "skinparam wrapWidth 300\r\n",
       "hide circle\r\n",
       "top to bottom direction\r\n",
       "skinparam roundcorner 20\r\n",
       "skinparam BoxPadding 20\r\n",
       "skinparam SequenceBoxBackgroundColor #white\r\n",
       "skinparam style strictuml\r\n",
       "skinparam maxMessageSize 100\r\n",
       "\r\n",
       "@enduml\r\n",
       "\n",
       "PlantUML version 1.2022.7(Mon Aug 22 17:01:30 UTC 2022)\n",
       "(EPL source distribution)\n",
       "Java Runtime: OpenJDK Runtime Environment\n",
       "JVM: OpenJDK 64-Bit Server VM\n",
       "Default Encoding: UTF-8\n",
       "Language: en\n",
       "Country: null\n",
       "--></g></svg>"
      ]
     },
     "execution_count": 49,
     "metadata": {},
     "output_type": "execute_result"
    }
   ],
   "source": [
    "%viz --style=\"TB\" --view=\"Sequence\" \"DependencyTest\""
   ]
  },
  {
   "cell_type": "code",
   "execution_count": 50,
   "id": "5988d911",
   "metadata": {
    "execution": {
     "iopub.execute_input": "2024-12-16T03:27:33.202336Z",
     "iopub.status.busy": "2024-12-16T03:27:33.202133Z",
     "iopub.status.idle": "2024-12-16T03:27:33.217438Z",
     "shell.execute_reply": "2024-12-16T03:27:33.216663Z"
    }
   },
   "outputs": [
    {
     "data": {
      "image/svg+xml": [
       "<?xml version=\"1.0\" encoding=\"UTF-8\" standalone=\"no\"?><svg xmlns=\"http://www.w3.org/2000/svg\" xmlns:xlink=\"http://www.w3.org/1999/xlink\" contentStyleType=\"text/css\" height=\"547px\" preserveAspectRatio=\"none\" style=\"width:531px;height:547px;background:#FFFFFF;\" version=\"1.1\" viewBox=\"0 0 531 547\" width=\"531px\" zoomAndPan=\"magnify\"><defs/><g><!--MD5=[fbc87193dbaf4d95561dea2c320d4a47]\n",
       "cluster E1--><g id=\"cluster_E1\"><a href=\"psysml:7dee102c-3f89-42b9-9919-3eaa1d7109e5\" target=\"_top\" title=\"psysml:7dee102c-3f89-42b9-9919-3eaa1d7109e5\" xlink:actuate=\"onRequest\" xlink:href=\"psysml:7dee102c-3f89-42b9-9919-3eaa1d7109e5\" xlink:show=\"new\" xlink:title=\"psysml:7dee102c-3f89-42b9-9919-3eaa1d7109e5\" xlink:type=\"simple\"><polygon fill=\"none\" points=\"16,6,148.125,6,155.125,28.2969,514,28.2969,514,540.72,16,540.72,16,6\" style=\"stroke:#000000;stroke-width:1.5;\"/><line style=\"stroke:#000000;stroke-width:1.5;\" x1=\"16\" x2=\"155.125\" y1=\"28.2969\" y2=\"28.2969\"/><text fill=\"#000000\" font-family=\"sans-serif\" font-size=\"14\" font-weight=\"bold\" lengthAdjust=\"spacing\" textLength=\"126.125\" x=\"20\" y=\"20.9951\">DependencyTest</text></a></g><!--MD5=[e4f7fae6ed58524ba242bb0b0d3be6b7]\n",
       "cluster E2--><g id=\"cluster_E2\"><a href=\"psysml:da04b59d-3286-4d3f-bbc3-7e7bb49d7c5d\" target=\"_top\" title=\"psysml:da04b59d-3286-4d3f-bbc3-7e7bb49d7c5d\" xlink:actuate=\"onRequest\" xlink:href=\"psysml:da04b59d-3286-4d3f-bbc3-7e7bb49d7c5d\" xlink:show=\"new\" xlink:title=\"psysml:da04b59d-3286-4d3f-bbc3-7e7bb49d7c5d\" xlink:type=\"simple\"><polygon fill=\"none\" points=\"271,120.72,330.625,120.72,337.625,143.0169,474,143.0169,474,500.72,271,500.72,271,120.72\" style=\"stroke:#000000;stroke-width:1.5;\"/><line style=\"stroke:#000000;stroke-width:1.5;\" x1=\"271\" x2=\"337.625\" y1=\"143.0169\" y2=\"143.0169\"/><text fill=\"#000000\" font-family=\"sans-serif\" font-size=\"14\" font-weight=\"bold\" lengthAdjust=\"spacing\" textLength=\"53.625\" x=\"275\" y=\"135.7151\">System</text></a></g><!--MD5=[60a26617385b1d2d0262a64233df1f8d]\n",
       "class E6--><a href=\"psysml:fa1eb9e1-3558-4ac6-ae6a-7c42660b9dca\" target=\"_top\" title=\"psysml:fa1eb9e1-3558-4ac6-ae6a-7c42660b9dca\" xlink:actuate=\"onRequest\" xlink:href=\"psysml:fa1eb9e1-3558-4ac6-ae6a-7c42660b9dca\" xlink:show=\"new\" xlink:title=\"psysml:fa1eb9e1-3558-4ac6-ae6a-7c42660b9dca\" xlink:type=\"simple\"><g id=\"elem_E6\"><rect fill=\"#FFFFFF\" height=\"48.2656\" id=\"E6\" rx=\"10\" ry=\"10\" style=\"stroke:#181818;stroke-width:0.5;\" width=\"71\" x=\"40.5\" y=\"296.22\"/><text fill=\"#000000\" font-family=\"sans-serif\" font-size=\"12\" font-style=\"italic\" lengthAdjust=\"spacing\" textLength=\"69\" x=\"41.5\" y=\"312.3587\">«attribute»</text><text fill=\"#000000\" font-family=\"sans-serif\" font-size=\"14\" lengthAdjust=\"spacing\" textLength=\"7\" x=\"68.5\" y=\"328.1839\">x</text><line style=\"stroke:#181818;stroke-width:0.5;\" x1=\"41.5\" x2=\"110.5\" y1=\"336.4856\" y2=\"336.4856\"/></g></a><!--MD5=[2156ba9850f5573cc1fc38a6a4b2f02b]\n",
       "class E7--><a href=\"psysml:a1db1b5d-0100-40b0-bd9f-2e7223fe2e6d\" target=\"_top\" title=\"psysml:a1db1b5d-0100-40b0-bd9f-2e7223fe2e6d\" xlink:actuate=\"onRequest\" xlink:href=\"psysml:a1db1b5d-0100-40b0-bd9f-2e7223fe2e6d\" xlink:show=\"new\" xlink:title=\"psysml:a1db1b5d-0100-40b0-bd9f-2e7223fe2e6d\" xlink:type=\"simple\"><g id=\"elem_E7\"><rect fill=\"#FFFFFF\" height=\"48.2656\" id=\"E7\" rx=\"10\" ry=\"10\" style=\"stroke:#181818;stroke-width:0.5;\" width=\"71\" x=\"146.5\" y=\"296.22\"/><text fill=\"#000000\" font-family=\"sans-serif\" font-size=\"12\" font-style=\"italic\" lengthAdjust=\"spacing\" textLength=\"69\" x=\"147.5\" y=\"312.3587\">«attribute»</text><text fill=\"#000000\" font-family=\"sans-serif\" font-size=\"14\" lengthAdjust=\"spacing\" textLength=\"7\" x=\"174.5\" y=\"328.1839\">y</text><line style=\"stroke:#181818;stroke-width:0.5;\" x1=\"147.5\" x2=\"216.5\" y1=\"336.4856\" y2=\"336.4856\"/></g></a><!--MD5=[b9389687b975829384b498ac4b7476b2]\n",
       "class E8--><a href=\"psysml:179fcb88-b86f-4c8c-8d3f-0f88ad709e86\" target=\"_top\" title=\"psysml:179fcb88-b86f-4c8c-8d3f-0f88ad709e86\" xlink:actuate=\"onRequest\" xlink:href=\"psysml:179fcb88-b86f-4c8c-8d3f-0f88ad709e86\" xlink:show=\"new\" xlink:title=\"psysml:179fcb88-b86f-4c8c-8d3f-0f88ad709e86\" xlink:type=\"simple\"><g id=\"elem_E8\"><rect fill=\"#FFFFFF\" height=\"48.2656\" id=\"E8\" rx=\"10\" ry=\"10\" style=\"stroke:#181818;stroke-width:0.5;\" width=\"71\" x=\"92.5\" y=\"166.22\"/><text fill=\"#000000\" font-family=\"sans-serif\" font-size=\"12\" font-style=\"italic\" lengthAdjust=\"spacing\" textLength=\"69\" x=\"93.5\" y=\"182.3587\">«attribute»</text><text fill=\"#000000\" font-family=\"sans-serif\" font-size=\"14\" lengthAdjust=\"spacing\" textLength=\"8\" x=\"120\" y=\"198.1839\">z</text><line style=\"stroke:#181818;stroke-width:0.5;\" x1=\"93.5\" x2=\"162.5\" y1=\"206.4856\" y2=\"206.4856\"/></g></a><a href=\"psysml:174d7b64-e31a-4a54-99c4-d88bb0afa8af\" target=\"_top\" title=\"psysml:174d7b64-e31a-4a54-99c4-d88bb0afa8af\" xlink:actuate=\"onRequest\" xlink:href=\"psysml:174d7b64-e31a-4a54-99c4-d88bb0afa8af\" xlink:show=\"new\" xlink:title=\"psysml:174d7b64-e31a-4a54-99c4-d88bb0afa8af\" xlink:type=\"simple\"><polygon fill=\"#FFFFFF\" points=\"314.5,163.72,435.5,163.72,442.5,186.0169,449.5,186.0169,449.5,216.3138,314.5,216.3138,314.5,163.72\" style=\"stroke:#181818;stroke-width:0.5;\"/><line style=\"stroke:#181818;stroke-width:0.5;\" x1=\"314.5\" x2=\"442.5\" y1=\"186.0169\" y2=\"186.0169\"/><text fill=\"#000000\" font-family=\"sans-serif\" font-size=\"14\" lengthAdjust=\"spacing\" textLength=\"115\" x=\"318.5\" y=\"178.7151\">Application Layer</text></a><a href=\"psysml:6cc47e98-b8e7-4ff0-90aa-a6e12ea2ee54\" target=\"_top\" title=\"psysml:6cc47e98-b8e7-4ff0-90aa-a6e12ea2ee54\" xlink:actuate=\"onRequest\" xlink:href=\"psysml:6cc47e98-b8e7-4ff0-90aa-a6e12ea2ee54\" xlink:show=\"new\" xlink:title=\"psysml:6cc47e98-b8e7-4ff0-90aa-a6e12ea2ee54\" xlink:type=\"simple\"><polygon fill=\"#FFFFFF\" points=\"327,293.72,423,293.72,430,316.0169,437,316.0169,437,346.3138,327,346.3138,327,293.72\" style=\"stroke:#181818;stroke-width:0.5;\"/><line style=\"stroke:#181818;stroke-width:0.5;\" x1=\"327\" x2=\"430\" y1=\"316.0169\" y2=\"316.0169\"/><text fill=\"#000000\" font-family=\"sans-serif\" font-size=\"14\" lengthAdjust=\"spacing\" textLength=\"90\" x=\"331\" y=\"308.7151\">Service Layer</text></a><a href=\"psysml:a41e95d1-6586-47c5-87a0-a52adaa3773e\" target=\"_top\" title=\"psysml:a41e95d1-6586-47c5-87a0-a52adaa3773e\" xlink:actuate=\"onRequest\" xlink:href=\"psysml:a41e95d1-6586-47c5-87a0-a52adaa3773e\" xlink:show=\"new\" xlink:title=\"psysml:a41e95d1-6586-47c5-87a0-a52adaa3773e\" xlink:type=\"simple\"><polygon fill=\"#FFFFFF\" points=\"336,423.72,414,423.72,421,446.0169,428,446.0169,428,476.3138,336,476.3138,336,423.72\" style=\"stroke:#181818;stroke-width:0.5;\"/><line style=\"stroke:#181818;stroke-width:0.5;\" x1=\"336\" x2=\"421\" y1=\"446.0169\" y2=\"446.0169\"/><text fill=\"#000000\" font-family=\"sans-serif\" font-size=\"14\" lengthAdjust=\"spacing\" textLength=\"72\" x=\"340\" y=\"438.7151\">Data Layer</text></a><!--MD5=[1f1cd8e6dd4c1b2ca2aaccc9b9bcea6e]\n",
       "link E1 to E2--><g id=\"link_E1_E2\"><a href=\"psysml:98ffbcea-2ad0-443f-b206-57004efde221\" target=\"_top\" title=\"psysml:98ffbcea-2ad0-443f-b206-57004efde221\" xlink:actuate=\"onRequest\" xlink:href=\"psysml:98ffbcea-2ad0-443f-b206-57004efde221\" xlink:show=\"new\" xlink:title=\"psysml:98ffbcea-2ad0-443f-b206-57004efde221\" xlink:type=\"simple\"><path d=\"M279,33.83 C279,36.15 279,73.83 279,111.5 C279,113.8544 279,116.2087 279,118.5544 C279,119.1408 279,119.7267 279,120.3119 \" fill=\"none\" id=\"E1-to-E2\" style=\"stroke:#181818;stroke-width:1.0;stroke-dasharray:7.0,7.0;\"/><polygon fill=\"#181818\" points=\"279,120.3119,283,111.3119,279,115.3119,275,111.3119,279,120.3119\" style=\"stroke:#181818;stroke-width:1.0;\"/><text fill=\"#000000\" font-family=\"sans-serif\" font-size=\"13\" lengthAdjust=\"spacing\" textLength=\"65\" x=\"280\" y=\"76.7869\">«import»*</text></a></g><!--MD5=[af87c684e3b0d8be13c1a698a818ef1e]\n",
       "link E3 to E4--><g id=\"link_E3_E4\"><a href=\"psysml:94e1a3f7-50a9-4c8e-a4e8-5ce452ddfecf\" target=\"_top\" title=\"psysml:94e1a3f7-50a9-4c8e-a4e8-5ce452ddfecf\" xlink:actuate=\"onRequest\" xlink:href=\"psysml:94e1a3f7-50a9-4c8e-a4e8-5ce452ddfecf\" xlink:show=\"new\" xlink:title=\"psysml:94e1a3f7-50a9-4c8e-a4e8-5ce452ddfecf\" xlink:type=\"simple\"><path d=\"M382,216.82 C382,236.52 382,263.94 382,285.45 \" fill=\"none\" id=\"E3-to-E4\" style=\"stroke:#181818;stroke-width:1.0;stroke-dasharray:7.0,7.0;\"/><polygon fill=\"#181818\" points=\"382,293.67,385,285.67,379,285.67,382,293.67\" style=\"stroke:#181818;stroke-width:1.0;\"/><text fill=\"#000000\" font-family=\"sans-serif\" font-size=\"13\" lengthAdjust=\"spacing\" textLength=\"64\" x=\"383\" y=\"259.7869\">«depend»</text></a></g><!--MD5=[1b7591eae5389033d8d09a9d6721a717]\n",
       "link E4 to E5--><g id=\"link_E4_E5\"><a href=\"psysml:9da5c160-44e8-44ec-9936-ca4a4075f5f4\" target=\"_top\" title=\"psysml:9da5c160-44e8-44ec-9936-ca4a4075f5f4\" xlink:actuate=\"onRequest\" xlink:href=\"psysml:9da5c160-44e8-44ec-9936-ca4a4075f5f4\" xlink:show=\"new\" xlink:title=\"psysml:9da5c160-44e8-44ec-9936-ca4a4075f5f4\" xlink:type=\"simple\"><path d=\"M382,346.82 C382,366.52 382,393.94 382,415.45 \" fill=\"none\" id=\"E4-to-E5\" style=\"stroke:#181818;stroke-width:1.0;stroke-dasharray:7.0,7.0;\"/><polygon fill=\"#181818\" points=\"382,423.67,385,415.67,379,415.67,382,423.67\" style=\"stroke:#181818;stroke-width:1.0;\"/><text fill=\"#000000\" font-family=\"sans-serif\" font-size=\"13\" lengthAdjust=\"spacing\" textLength=\"64\" x=\"383\" y=\"389.7869\">«depend»</text></a></g><!--MD5=[c5e8897d989ce984f93528998a7150fe]\n",
       "link E8 to E6--><g id=\"link_E8_E6\"><a href=\"psysml:cc6cc763-fa59-42bd-a700-018e736c1371\" target=\"_top\" title=\"psysml:cc6cc763-fa59-42bd-a700-018e736c1371\" xlink:actuate=\"onRequest\" xlink:href=\"psysml:cc6cc763-fa59-42bd-a700-018e736c1371\" xlink:show=\"new\" xlink:title=\"psysml:cc6cc763-fa59-42bd-a700-018e736c1371\" xlink:type=\"simple\"><path d=\"M96.23,214.4 C86.58,223.3 77.16,234.34 72,246.72 C66.62,259.63 66.65,274.97 68.42,288.21 \" fill=\"none\" id=\"E8-to-E6\" style=\"stroke:#181818;stroke-width:1.0;stroke-dasharray:7.0,7.0;\"/><polygon fill=\"#181818\" points=\"69.71,296.14,71.386,287.762,65.4639,288.7258,69.71,296.14\" style=\"stroke:#181818;stroke-width:1.0;\"/><text fill=\"#000000\" font-family=\"sans-serif\" font-size=\"13\" lengthAdjust=\"spacing\" textLength=\"64\" x=\"73\" y=\"259.7869\">«depend»</text></a></g><!--MD5=[bfa3c8b0d15052fdf50ae9310b491027]\n",
       "link E8 to E7--><g id=\"link_E8_E7\"><a href=\"psysml:cc6cc763-fa59-42bd-a700-018e736c1371\" target=\"_top\" title=\"psysml:cc6cc763-fa59-42bd-a700-018e736c1371\" xlink:actuate=\"onRequest\" xlink:href=\"psysml:cc6cc763-fa59-42bd-a700-018e736c1371\" xlink:show=\"new\" xlink:title=\"psysml:cc6cc763-fa59-42bd-a700-018e736c1371\" xlink:type=\"simple\"><path d=\"M137.78,214.4 C146.57,235.24 159.55,266 169.17,288.81 \" fill=\"none\" id=\"E8-to-E7\" style=\"stroke:#181818;stroke-width:1.0;stroke-dasharray:7.0,7.0;\"/><polygon fill=\"#181818\" points=\"172.29,296.21,171.9401,287.6732,166.4131,290.0082,172.29,296.21\" style=\"stroke:#181818;stroke-width:1.0;\"/><text fill=\"#000000\" font-family=\"sans-serif\" font-size=\"13\" lengthAdjust=\"spacing\" textLength=\"64\" x=\"159\" y=\"259.7869\">«depend»</text></a></g><!--MD5=[b04eb452510ad413587c0fc067c09bdd]\n",
       "@startuml\r\n",
       "skin sysmlbw\r\n",
       "skinparam monochrome true\r\n",
       "skinparam wrapWidth 300\r\n",
       "hide circle\r\n",
       "top to bottom direction\r\n",
       "\r\n",
       "package \"DependencyTest\" as E1  [[psysml:7dee102c-3f89-42b9-9919-3eaa1d7109e5 ]]  {\r\n",
       "package \"System\" as E2  [[psysml:da04b59d-3286-4d3f-bbc3-7e7bb49d7c5d ]]  {\r\n",
       "package \"Application Layer\" as E3  [[psysml:174d7b64-e31a-4a54-99c4-d88bb0afa8af ]]  {\r\n",
       "}\r\n",
       "package \"Service Layer\" as E4  [[psysml:6cc47e98-b8e7-4ff0-90aa-a6e12ea2ee54 ]]  {\r\n",
       "}\r\n",
       "package \"Data Layer\" as E5  [[psysml:a41e95d1-6586-47c5-87a0-a52adaa3773e ]]  {\r\n",
       "}\r\n",
       "}\r\n",
       "comp usage \"x  \" as E6  <<(T,blue) attribute>> [[psysml:fa1eb9e1-3558-4ac6-ae6a-7c42660b9dca ]] {\r\n",
       "}\r\n",
       "comp usage \"y  \" as E7  <<(T,blue) attribute>> [[psysml:a1db1b5d-0100-40b0-bd9f-2e7223fe2e6d ]] {\r\n",
       "}\r\n",
       "comp usage \"z  \" as E8  <<(T,blue) attribute>> [[psysml:179fcb88-b86f-4c8c-8d3f-0f88ad709e86 ]] {\r\n",
       "}\r\n",
       "}\r\n",
       "E1 ..> E2 [[psysml:98ffbcea-2ad0-443f-b206-57004efde221 ]] : <<import>>*\r\n",
       "E3 ..>> E4 [[psysml:94e1a3f7-50a9-4c8e-a4e8-5ce452ddfecf ]] : <<depend>>\r\n",
       "E4 ..>> E5 [[psysml:9da5c160-44e8-44ec-9936-ca4a4075f5f4 ]] : <<depend>>\r\n",
       "E8 ..>> E6 [[psysml:cc6cc763-fa59-42bd-a700-018e736c1371 ]] : <<depend>>\r\n",
       "E8 ..>> E7 [[psysml:cc6cc763-fa59-42bd-a700-018e736c1371 ]] : <<depend>>\r\n",
       "@enduml\r\n",
       "\n",
       "PlantUML version 1.2022.7(Mon Aug 22 17:01:30 UTC 2022)\n",
       "(EPL source distribution)\n",
       "Java Runtime: OpenJDK Runtime Environment\n",
       "JVM: OpenJDK 64-Bit Server VM\n",
       "Default Encoding: UTF-8\n",
       "Language: en\n",
       "Country: null\n",
       "--></g></svg>"
      ]
     },
     "execution_count": 50,
     "metadata": {},
     "output_type": "execute_result"
    }
   ],
   "source": [
    "%viz --style=\"TB\" --view=\"MIXED\" \"DependencyTest\""
   ]
  },
  {
   "cell_type": "code",
   "execution_count": 51,
   "id": "897d452e",
   "metadata": {
    "execution": {
     "iopub.execute_input": "2024-12-16T03:27:33.269166Z",
     "iopub.status.busy": "2024-12-16T03:27:33.268942Z",
     "iopub.status.idle": "2024-12-16T03:27:33.284706Z",
     "shell.execute_reply": "2024-12-16T03:27:33.283831Z"
    }
   },
   "outputs": [
    {
     "data": {
      "image/svg+xml": [
       "<?xml version=\"1.0\" encoding=\"UTF-8\" standalone=\"no\"?><svg xmlns=\"http://www.w3.org/2000/svg\" xmlns:xlink=\"http://www.w3.org/1999/xlink\" contentStyleType=\"text/css\" height=\"466px\" preserveAspectRatio=\"none\" style=\"width:502px;height:466px;background:#FFFFFF;\" version=\"1.1\" viewBox=\"0 0 502 466\" width=\"502px\" zoomAndPan=\"magnify\"><defs/><g><!--MD5=[fbc87193dbaf4d95561dea2c320d4a47]\n",
       "cluster E1--><g id=\"cluster_E1\"><a href=\"psysml:7dee102c-3f89-42b9-9919-3eaa1d7109e5\" target=\"_top\" title=\"psysml:7dee102c-3f89-42b9-9919-3eaa1d7109e5\" xlink:actuate=\"onRequest\" xlink:href=\"psysml:7dee102c-3f89-42b9-9919-3eaa1d7109e5\" xlink:show=\"new\" xlink:title=\"psysml:7dee102c-3f89-42b9-9919-3eaa1d7109e5\" xlink:type=\"simple\"><polygon fill=\"none\" points=\"16,6,148.125,6,155.125,28.2969,485,28.2969,485,459.72,16,459.72,16,6\" style=\"stroke:#000000;stroke-width:1.5;\"/><line style=\"stroke:#000000;stroke-width:1.5;\" x1=\"16\" x2=\"155.125\" y1=\"28.2969\" y2=\"28.2969\"/><text fill=\"#000000\" font-family=\"sans-serif\" font-size=\"14\" font-weight=\"bold\" lengthAdjust=\"spacing\" textLength=\"126.125\" x=\"20\" y=\"20.9951\">DependencyTest</text></a></g><!--MD5=[e4f7fae6ed58524ba242bb0b0d3be6b7]\n",
       "cluster E2--><g id=\"cluster_E2\"><a href=\"psysml:da04b59d-3286-4d3f-bbc3-7e7bb49d7c5d\" target=\"_top\" title=\"psysml:da04b59d-3286-4d3f-bbc3-7e7bb49d7c5d\" xlink:actuate=\"onRequest\" xlink:href=\"psysml:da04b59d-3286-4d3f-bbc3-7e7bb49d7c5d\" xlink:show=\"new\" xlink:title=\"psysml:da04b59d-3286-4d3f-bbc3-7e7bb49d7c5d\" xlink:type=\"simple\"><polygon fill=\"none\" points=\"242,73.72,301.625,73.72,308.625,96.0169,445,96.0169,445,419.72,242,419.72,242,73.72\" style=\"stroke:#000000;stroke-width:1.5;\"/><line style=\"stroke:#000000;stroke-width:1.5;\" x1=\"242\" x2=\"308.625\" y1=\"96.0169\" y2=\"96.0169\"/><text fill=\"#000000\" font-family=\"sans-serif\" font-size=\"14\" font-weight=\"bold\" lengthAdjust=\"spacing\" textLength=\"53.625\" x=\"246\" y=\"88.7151\">System</text></a></g><!--MD5=[60a26617385b1d2d0262a64233df1f8d]\n",
       "class E6--><a href=\"psysml:fa1eb9e1-3558-4ac6-ae6a-7c42660b9dca\" target=\"_top\" title=\"psysml:fa1eb9e1-3558-4ac6-ae6a-7c42660b9dca\" xlink:actuate=\"onRequest\" xlink:href=\"psysml:fa1eb9e1-3558-4ac6-ae6a-7c42660b9dca\" xlink:show=\"new\" xlink:title=\"psysml:fa1eb9e1-3558-4ac6-ae6a-7c42660b9dca\" xlink:type=\"simple\"><g id=\"elem_E6\"><rect fill=\"#FFFFFF\" height=\"48.2656\" id=\"E6\" rx=\"10\" ry=\"10\" style=\"stroke:#181818;stroke-width:0.5;\" width=\"71\" x=\"40.5\" y=\"232.22\"/><text fill=\"#000000\" font-family=\"sans-serif\" font-size=\"12\" font-style=\"italic\" lengthAdjust=\"spacing\" textLength=\"69\" x=\"41.5\" y=\"248.3587\">«attribute»</text><text fill=\"#000000\" font-family=\"sans-serif\" font-size=\"14\" lengthAdjust=\"spacing\" textLength=\"7\" x=\"68.5\" y=\"264.1839\">x</text><line style=\"stroke:#181818;stroke-width:0.5;\" x1=\"41.5\" x2=\"110.5\" y1=\"272.4856\" y2=\"272.4856\"/></g></a><!--MD5=[2156ba9850f5573cc1fc38a6a4b2f02b]\n",
       "class E7--><a href=\"psysml:a1db1b5d-0100-40b0-bd9f-2e7223fe2e6d\" target=\"_top\" title=\"psysml:a1db1b5d-0100-40b0-bd9f-2e7223fe2e6d\" xlink:actuate=\"onRequest\" xlink:href=\"psysml:a1db1b5d-0100-40b0-bd9f-2e7223fe2e6d\" xlink:show=\"new\" xlink:title=\"psysml:a1db1b5d-0100-40b0-bd9f-2e7223fe2e6d\" xlink:type=\"simple\"><g id=\"elem_E7\"><rect fill=\"#FFFFFF\" height=\"48.2656\" id=\"E7\" rx=\"10\" ry=\"10\" style=\"stroke:#181818;stroke-width:0.5;\" width=\"71\" x=\"146.5\" y=\"232.22\"/><text fill=\"#000000\" font-family=\"sans-serif\" font-size=\"12\" font-style=\"italic\" lengthAdjust=\"spacing\" textLength=\"69\" x=\"147.5\" y=\"248.3587\">«attribute»</text><text fill=\"#000000\" font-family=\"sans-serif\" font-size=\"14\" lengthAdjust=\"spacing\" textLength=\"7\" x=\"174.5\" y=\"264.1839\">y</text><line style=\"stroke:#181818;stroke-width:0.5;\" x1=\"147.5\" x2=\"216.5\" y1=\"272.4856\" y2=\"272.4856\"/></g></a><!--MD5=[b9389687b975829384b498ac4b7476b2]\n",
       "class E8--><a href=\"psysml:179fcb88-b86f-4c8c-8d3f-0f88ad709e86\" target=\"_top\" title=\"psysml:179fcb88-b86f-4c8c-8d3f-0f88ad709e86\" xlink:actuate=\"onRequest\" xlink:href=\"psysml:179fcb88-b86f-4c8c-8d3f-0f88ad709e86\" xlink:show=\"new\" xlink:title=\"psysml:179fcb88-b86f-4c8c-8d3f-0f88ad709e86\" xlink:type=\"simple\"><g id=\"elem_E8\"><rect fill=\"#FFFFFF\" height=\"48.2656\" id=\"E8\" rx=\"10\" ry=\"10\" style=\"stroke:#181818;stroke-width:0.5;\" width=\"71\" x=\"91.5\" y=\"119.22\"/><text fill=\"#000000\" font-family=\"sans-serif\" font-size=\"12\" font-style=\"italic\" lengthAdjust=\"spacing\" textLength=\"69\" x=\"92.5\" y=\"135.3587\">«attribute»</text><text fill=\"#000000\" font-family=\"sans-serif\" font-size=\"14\" lengthAdjust=\"spacing\" textLength=\"8\" x=\"119\" y=\"151.1839\">z</text><line style=\"stroke:#181818;stroke-width:0.5;\" x1=\"92.5\" x2=\"161.5\" y1=\"159.4856\" y2=\"159.4856\"/></g></a><a href=\"psysml:174d7b64-e31a-4a54-99c4-d88bb0afa8af\" target=\"_top\" title=\"psysml:174d7b64-e31a-4a54-99c4-d88bb0afa8af\" xlink:actuate=\"onRequest\" xlink:href=\"psysml:174d7b64-e31a-4a54-99c4-d88bb0afa8af\" xlink:show=\"new\" xlink:title=\"psysml:174d7b64-e31a-4a54-99c4-d88bb0afa8af\" xlink:type=\"simple\"><polygon fill=\"#FFFFFF\" points=\"285.5,116.72,406.5,116.72,413.5,139.0169,420.5,139.0169,420.5,169.3138,285.5,169.3138,285.5,116.72\" style=\"stroke:#181818;stroke-width:0.5;\"/><line style=\"stroke:#181818;stroke-width:0.5;\" x1=\"285.5\" x2=\"413.5\" y1=\"139.0169\" y2=\"139.0169\"/><text fill=\"#000000\" font-family=\"sans-serif\" font-size=\"14\" lengthAdjust=\"spacing\" textLength=\"115\" x=\"289.5\" y=\"131.7151\">Application Layer</text></a><a href=\"psysml:6cc47e98-b8e7-4ff0-90aa-a6e12ea2ee54\" target=\"_top\" title=\"psysml:6cc47e98-b8e7-4ff0-90aa-a6e12ea2ee54\" xlink:actuate=\"onRequest\" xlink:href=\"psysml:6cc47e98-b8e7-4ff0-90aa-a6e12ea2ee54\" xlink:show=\"new\" xlink:title=\"psysml:6cc47e98-b8e7-4ff0-90aa-a6e12ea2ee54\" xlink:type=\"simple\"><polygon fill=\"#FFFFFF\" points=\"298,229.72,394,229.72,401,252.0169,408,252.0169,408,282.3138,298,282.3138,298,229.72\" style=\"stroke:#181818;stroke-width:0.5;\"/><line style=\"stroke:#181818;stroke-width:0.5;\" x1=\"298\" x2=\"401\" y1=\"252.0169\" y2=\"252.0169\"/><text fill=\"#000000\" font-family=\"sans-serif\" font-size=\"14\" lengthAdjust=\"spacing\" textLength=\"90\" x=\"302\" y=\"244.7151\">Service Layer</text></a><a href=\"psysml:a41e95d1-6586-47c5-87a0-a52adaa3773e\" target=\"_top\" title=\"psysml:a41e95d1-6586-47c5-87a0-a52adaa3773e\" xlink:actuate=\"onRequest\" xlink:href=\"psysml:a41e95d1-6586-47c5-87a0-a52adaa3773e\" xlink:show=\"new\" xlink:title=\"psysml:a41e95d1-6586-47c5-87a0-a52adaa3773e\" xlink:type=\"simple\"><polygon fill=\"#FFFFFF\" points=\"307,342.72,385,342.72,392,365.0169,399,365.0169,399,395.3138,307,395.3138,307,342.72\" style=\"stroke:#181818;stroke-width:0.5;\"/><line style=\"stroke:#181818;stroke-width:0.5;\" x1=\"307\" x2=\"392\" y1=\"365.0169\" y2=\"365.0169\"/><text fill=\"#000000\" font-family=\"sans-serif\" font-size=\"14\" lengthAdjust=\"spacing\" textLength=\"72\" x=\"311\" y=\"357.7151\">Data Layer</text></a><!--MD5=[1f1cd8e6dd4c1b2ca2aaccc9b9bcea6e]\n",
       "link E1 to E2--><g id=\"link_E1_E2\"><a href=\"psysml:98ffbcea-2ad0-443f-b206-57004efde221\" target=\"_top\" title=\"psysml:98ffbcea-2ad0-443f-b206-57004efde221\" xlink:actuate=\"onRequest\" xlink:href=\"psysml:98ffbcea-2ad0-443f-b206-57004efde221\" xlink:show=\"new\" xlink:title=\"psysml:98ffbcea-2ad0-443f-b206-57004efde221\" xlink:type=\"simple\"><path d=\"M250,34.06 C250,36.29 250,43.655 250,53.5813 C250,58.5444 250,64.1478 250,70.0698 C250,70.8101 250,71.5553 250,72.3049 C250,72.6797 250,73.0556 250,73.4325 \" fill=\"none\" id=\"E1-to-E2\" style=\"stroke:#181818;stroke-width:1.0;stroke-dasharray:7.0,7.0;\"/><polygon fill=\"#181818\" points=\"250,73.4325,254,64.4325,250,68.4325,246,64.4325,250,73.4325\" style=\"stroke:#181818;stroke-width:1.0;\"/><text fill=\"#000000\" font-family=\"sans-serif\" font-size=\"13\" lengthAdjust=\"spacing\" textLength=\"65\" x=\"184\" y=\"84.3869\">«import»*</text></a></g><!--MD5=[af87c684e3b0d8be13c1a698a818ef1e]\n",
       "link E3 to E4--><g id=\"link_E3_E4\"><a href=\"psysml:94e1a3f7-50a9-4c8e-a4e8-5ce452ddfecf\" target=\"_top\" title=\"psysml:94e1a3f7-50a9-4c8e-a4e8-5ce452ddfecf\" xlink:actuate=\"onRequest\" xlink:href=\"psysml:94e1a3f7-50a9-4c8e-a4e8-5ce452ddfecf\" xlink:show=\"new\" xlink:title=\"psysml:94e1a3f7-50a9-4c8e-a4e8-5ce452ddfecf\" xlink:type=\"simple\"><path d=\"M353,170 C353,170 353,221.63 353,221.63 \" fill=\"none\" id=\"E3-to-E4\" style=\"stroke:#181818;stroke-width:1.0;stroke-dasharray:7.0,7.0;\"/><polygon fill=\"#181818\" points=\"353,229.63,356,221.63,350,221.63,353,229.63\" style=\"stroke:#181818;stroke-width:1.0;\"/><text fill=\"#000000\" font-family=\"sans-serif\" font-size=\"13\" lengthAdjust=\"spacing\" textLength=\"64\" x=\"288\" y=\"191.8869\">«depend»</text></a></g><!--MD5=[1b7591eae5389033d8d09a9d6721a717]\n",
       "link E4 to E5--><g id=\"link_E4_E5\"><a href=\"psysml:9da5c160-44e8-44ec-9936-ca4a4075f5f4\" target=\"_top\" title=\"psysml:9da5c160-44e8-44ec-9936-ca4a4075f5f4\" xlink:actuate=\"onRequest\" xlink:href=\"psysml:9da5c160-44e8-44ec-9936-ca4a4075f5f4\" xlink:show=\"new\" xlink:title=\"psysml:9da5c160-44e8-44ec-9936-ca4a4075f5f4\" xlink:type=\"simple\"><path d=\"M353,283 C353,283 353,334.63 353,334.63 \" fill=\"none\" id=\"E4-to-E5\" style=\"stroke:#181818;stroke-width:1.0;stroke-dasharray:7.0,7.0;\"/><polygon fill=\"#181818\" points=\"353,342.63,356,334.63,350,334.63,353,342.63\" style=\"stroke:#181818;stroke-width:1.0;\"/><text fill=\"#000000\" font-family=\"sans-serif\" font-size=\"13\" lengthAdjust=\"spacing\" textLength=\"64\" x=\"288\" y=\"304.8869\">«depend»</text></a></g><!--MD5=[c5e8897d989ce984f93528998a7150fe]\n",
       "link E8 to E6--><g id=\"link_E8_E6\"><a href=\"psysml:cc6cc763-fa59-42bd-a700-018e736c1371\" target=\"_top\" title=\"psysml:cc6cc763-fa59-42bd-a700-018e736c1371\" xlink:actuate=\"onRequest\" xlink:href=\"psysml:cc6cc763-fa59-42bd-a700-018e736c1371\" xlink:show=\"new\" xlink:title=\"psysml:cc6cc763-fa59-42bd-a700-018e736c1371\" xlink:type=\"simple\"><path d=\"M101.5,167.46 C101.5,167.46 101.5,224.02 101.5,224.02 \" fill=\"none\" id=\"E8-to-E6\" style=\"stroke:#181818;stroke-width:1.0;stroke-dasharray:7.0,7.0;\"/><polygon fill=\"#181818\" points=\"101.5,232.02,104.5,224.02,98.5,224.02,101.5,232.02\" style=\"stroke:#181818;stroke-width:1.0;\"/><text fill=\"#000000\" font-family=\"sans-serif\" font-size=\"13\" lengthAdjust=\"spacing\" textLength=\"64\" x=\"36.5\" y=\"191.8069\">«depend»</text></a></g><!--MD5=[bfa3c8b0d15052fdf50ae9310b491027]\n",
       "link E8 to E7--><g id=\"link_E8_E7\"><a href=\"psysml:cc6cc763-fa59-42bd-a700-018e736c1371\" target=\"_top\" title=\"psysml:cc6cc763-fa59-42bd-a700-018e736c1371\" xlink:actuate=\"onRequest\" xlink:href=\"psysml:cc6cc763-fa59-42bd-a700-018e736c1371\" xlink:show=\"new\" xlink:title=\"psysml:cc6cc763-fa59-42bd-a700-018e736c1371\" xlink:type=\"simple\"><path d=\"M154.5,167.46 C154.5,167.46 154.5,224.02 154.5,224.02 \" fill=\"none\" id=\"E8-to-E7\" style=\"stroke:#181818;stroke-width:1.0;stroke-dasharray:7.0,7.0;\"/><polygon fill=\"#181818\" points=\"154.5,232.02,157.5,224.02,151.5,224.02,154.5,232.02\" style=\"stroke:#181818;stroke-width:1.0;\"/><text fill=\"#000000\" font-family=\"sans-serif\" font-size=\"13\" lengthAdjust=\"spacing\" textLength=\"64\" x=\"89.5\" y=\"208.8069\">«depend»</text></a></g><!--MD5=[6c12ed4d080c437a389fa92c8715caab]\n",
       "@startuml\r\n",
       "skin sysmlbw\r\n",
       "skinparam monochrome true\r\n",
       "skinparam wrapWidth 300\r\n",
       "hide circle\r\n",
       "skinparam linetype ortho\r\n",
       "\r\n",
       "package \"DependencyTest\" as E1  [[psysml:7dee102c-3f89-42b9-9919-3eaa1d7109e5 ]]  {\r\n",
       "package \"System\" as E2  [[psysml:da04b59d-3286-4d3f-bbc3-7e7bb49d7c5d ]]  {\r\n",
       "package \"Application Layer\" as E3  [[psysml:174d7b64-e31a-4a54-99c4-d88bb0afa8af ]]  {\r\n",
       "}\r\n",
       "package \"Service Layer\" as E4  [[psysml:6cc47e98-b8e7-4ff0-90aa-a6e12ea2ee54 ]]  {\r\n",
       "}\r\n",
       "package \"Data Layer\" as E5  [[psysml:a41e95d1-6586-47c5-87a0-a52adaa3773e ]]  {\r\n",
       "}\r\n",
       "}\r\n",
       "comp usage \"x  \" as E6  <<(T,blue) attribute>> [[psysml:fa1eb9e1-3558-4ac6-ae6a-7c42660b9dca ]] {\r\n",
       "}\r\n",
       "comp usage \"y  \" as E7  <<(T,blue) attribute>> [[psysml:a1db1b5d-0100-40b0-bd9f-2e7223fe2e6d ]] {\r\n",
       "}\r\n",
       "comp usage \"z  \" as E8  <<(T,blue) attribute>> [[psysml:179fcb88-b86f-4c8c-8d3f-0f88ad709e86 ]] {\r\n",
       "}\r\n",
       "}\r\n",
       "E1 ..> E2 [[psysml:98ffbcea-2ad0-443f-b206-57004efde221 ]] : <<import>>*\r\n",
       "E3 ..>> E4 [[psysml:94e1a3f7-50a9-4c8e-a4e8-5ce452ddfecf ]] : <<depend>>\r\n",
       "E4 ..>> E5 [[psysml:9da5c160-44e8-44ec-9936-ca4a4075f5f4 ]] : <<depend>>\r\n",
       "E8 ..>> E6 [[psysml:cc6cc763-fa59-42bd-a700-018e736c1371 ]] : <<depend>>\r\n",
       "E8 ..>> E7 [[psysml:cc6cc763-fa59-42bd-a700-018e736c1371 ]] : <<depend>>\r\n",
       "@enduml\r\n",
       "\n",
       "PlantUML version 1.2022.7(Mon Aug 22 17:01:30 UTC 2022)\n",
       "(EPL source distribution)\n",
       "Java Runtime: OpenJDK Runtime Environment\n",
       "JVM: OpenJDK 64-Bit Server VM\n",
       "Default Encoding: UTF-8\n",
       "Language: en\n",
       "Country: null\n",
       "--></g></svg>"
      ]
     },
     "execution_count": 51,
     "metadata": {},
     "output_type": "execute_result"
    }
   ],
   "source": [
    "%viz --style=\"ORTHOLINE\" --view=\"Default\" \"DependencyTest\""
   ]
  },
  {
   "cell_type": "code",
   "execution_count": 52,
   "id": "54f75c33",
   "metadata": {
    "execution": {
     "iopub.execute_input": "2024-12-16T03:27:33.339232Z",
     "iopub.status.busy": "2024-12-16T03:27:33.339045Z",
     "iopub.status.idle": "2024-12-16T03:27:33.353883Z",
     "shell.execute_reply": "2024-12-16T03:27:33.353119Z"
    }
   },
   "outputs": [
    {
     "data": {
      "image/svg+xml": [
       "<?xml version=\"1.0\" encoding=\"UTF-8\" standalone=\"no\"?><svg xmlns=\"http://www.w3.org/2000/svg\" xmlns:xlink=\"http://www.w3.org/1999/xlink\" contentStyleType=\"text/css\" height=\"466px\" preserveAspectRatio=\"none\" style=\"width:502px;height:466px;background:#FFFFFF;\" version=\"1.1\" viewBox=\"0 0 502 466\" width=\"502px\" zoomAndPan=\"magnify\"><defs/><g><!--MD5=[fbc87193dbaf4d95561dea2c320d4a47]\n",
       "cluster E1--><g id=\"cluster_E1\"><a href=\"psysml:7dee102c-3f89-42b9-9919-3eaa1d7109e5\" target=\"_top\" title=\"psysml:7dee102c-3f89-42b9-9919-3eaa1d7109e5\" xlink:actuate=\"onRequest\" xlink:href=\"psysml:7dee102c-3f89-42b9-9919-3eaa1d7109e5\" xlink:show=\"new\" xlink:title=\"psysml:7dee102c-3f89-42b9-9919-3eaa1d7109e5\" xlink:type=\"simple\"><polygon fill=\"none\" points=\"16,6,148.125,6,155.125,28.2969,485,28.2969,485,459.72,16,459.72,16,6\" style=\"stroke:#000000;stroke-width:1.5;\"/><line style=\"stroke:#000000;stroke-width:1.5;\" x1=\"16\" x2=\"155.125\" y1=\"28.2969\" y2=\"28.2969\"/><text fill=\"#000000\" font-family=\"sans-serif\" font-size=\"14\" font-weight=\"bold\" lengthAdjust=\"spacing\" textLength=\"126.125\" x=\"20\" y=\"20.9951\">DependencyTest</text></a></g><!--MD5=[e4f7fae6ed58524ba242bb0b0d3be6b7]\n",
       "cluster E2--><g id=\"cluster_E2\"><a href=\"psysml:da04b59d-3286-4d3f-bbc3-7e7bb49d7c5d\" target=\"_top\" title=\"psysml:da04b59d-3286-4d3f-bbc3-7e7bb49d7c5d\" xlink:actuate=\"onRequest\" xlink:href=\"psysml:da04b59d-3286-4d3f-bbc3-7e7bb49d7c5d\" xlink:show=\"new\" xlink:title=\"psysml:da04b59d-3286-4d3f-bbc3-7e7bb49d7c5d\" xlink:type=\"simple\"><polygon fill=\"none\" points=\"242,73.72,301.625,73.72,308.625,96.0169,445,96.0169,445,419.72,242,419.72,242,73.72\" style=\"stroke:#000000;stroke-width:1.5;\"/><line style=\"stroke:#000000;stroke-width:1.5;\" x1=\"242\" x2=\"308.625\" y1=\"96.0169\" y2=\"96.0169\"/><text fill=\"#000000\" font-family=\"sans-serif\" font-size=\"14\" font-weight=\"bold\" lengthAdjust=\"spacing\" textLength=\"53.625\" x=\"246\" y=\"88.7151\">System</text></a></g><!--MD5=[60a26617385b1d2d0262a64233df1f8d]\n",
       "class E6--><a href=\"psysml:fa1eb9e1-3558-4ac6-ae6a-7c42660b9dca\" target=\"_top\" title=\"psysml:fa1eb9e1-3558-4ac6-ae6a-7c42660b9dca\" xlink:actuate=\"onRequest\" xlink:href=\"psysml:fa1eb9e1-3558-4ac6-ae6a-7c42660b9dca\" xlink:show=\"new\" xlink:title=\"psysml:fa1eb9e1-3558-4ac6-ae6a-7c42660b9dca\" xlink:type=\"simple\"><g id=\"elem_E6\"><rect fill=\"#FFFFFF\" height=\"48.2656\" id=\"E6\" rx=\"10\" ry=\"10\" style=\"stroke:#181818;stroke-width:0.5;\" width=\"71\" x=\"40.5\" y=\"232.22\"/><text fill=\"#000000\" font-family=\"sans-serif\" font-size=\"12\" font-style=\"italic\" lengthAdjust=\"spacing\" textLength=\"69\" x=\"41.5\" y=\"248.3587\">«attribute»</text><text fill=\"#000000\" font-family=\"sans-serif\" font-size=\"14\" lengthAdjust=\"spacing\" textLength=\"7\" x=\"68.5\" y=\"264.1839\">x</text><line style=\"stroke:#181818;stroke-width:0.5;\" x1=\"41.5\" x2=\"110.5\" y1=\"272.4856\" y2=\"272.4856\"/></g></a><!--MD5=[2156ba9850f5573cc1fc38a6a4b2f02b]\n",
       "class E7--><a href=\"psysml:a1db1b5d-0100-40b0-bd9f-2e7223fe2e6d\" target=\"_top\" title=\"psysml:a1db1b5d-0100-40b0-bd9f-2e7223fe2e6d\" xlink:actuate=\"onRequest\" xlink:href=\"psysml:a1db1b5d-0100-40b0-bd9f-2e7223fe2e6d\" xlink:show=\"new\" xlink:title=\"psysml:a1db1b5d-0100-40b0-bd9f-2e7223fe2e6d\" xlink:type=\"simple\"><g id=\"elem_E7\"><rect fill=\"#FFFFFF\" height=\"48.2656\" id=\"E7\" rx=\"10\" ry=\"10\" style=\"stroke:#181818;stroke-width:0.5;\" width=\"71\" x=\"146.5\" y=\"232.22\"/><text fill=\"#000000\" font-family=\"sans-serif\" font-size=\"12\" font-style=\"italic\" lengthAdjust=\"spacing\" textLength=\"69\" x=\"147.5\" y=\"248.3587\">«attribute»</text><text fill=\"#000000\" font-family=\"sans-serif\" font-size=\"14\" lengthAdjust=\"spacing\" textLength=\"7\" x=\"174.5\" y=\"264.1839\">y</text><line style=\"stroke:#181818;stroke-width:0.5;\" x1=\"147.5\" x2=\"216.5\" y1=\"272.4856\" y2=\"272.4856\"/></g></a><!--MD5=[b9389687b975829384b498ac4b7476b2]\n",
       "class E8--><a href=\"psysml:179fcb88-b86f-4c8c-8d3f-0f88ad709e86\" target=\"_top\" title=\"psysml:179fcb88-b86f-4c8c-8d3f-0f88ad709e86\" xlink:actuate=\"onRequest\" xlink:href=\"psysml:179fcb88-b86f-4c8c-8d3f-0f88ad709e86\" xlink:show=\"new\" xlink:title=\"psysml:179fcb88-b86f-4c8c-8d3f-0f88ad709e86\" xlink:type=\"simple\"><g id=\"elem_E8\"><rect fill=\"#FFFFFF\" height=\"48.2656\" id=\"E8\" rx=\"10\" ry=\"10\" style=\"stroke:#181818;stroke-width:0.5;\" width=\"71\" x=\"91.5\" y=\"119.22\"/><text fill=\"#000000\" font-family=\"sans-serif\" font-size=\"12\" font-style=\"italic\" lengthAdjust=\"spacing\" textLength=\"69\" x=\"92.5\" y=\"135.3587\">«attribute»</text><text fill=\"#000000\" font-family=\"sans-serif\" font-size=\"14\" lengthAdjust=\"spacing\" textLength=\"8\" x=\"119\" y=\"151.1839\">z</text><line style=\"stroke:#181818;stroke-width:0.5;\" x1=\"92.5\" x2=\"161.5\" y1=\"159.4856\" y2=\"159.4856\"/></g></a><a href=\"psysml:174d7b64-e31a-4a54-99c4-d88bb0afa8af\" target=\"_top\" title=\"psysml:174d7b64-e31a-4a54-99c4-d88bb0afa8af\" xlink:actuate=\"onRequest\" xlink:href=\"psysml:174d7b64-e31a-4a54-99c4-d88bb0afa8af\" xlink:show=\"new\" xlink:title=\"psysml:174d7b64-e31a-4a54-99c4-d88bb0afa8af\" xlink:type=\"simple\"><polygon fill=\"#FFFFFF\" points=\"285.5,116.72,406.5,116.72,413.5,139.0169,420.5,139.0169,420.5,169.3138,285.5,169.3138,285.5,116.72\" style=\"stroke:#181818;stroke-width:0.5;\"/><line style=\"stroke:#181818;stroke-width:0.5;\" x1=\"285.5\" x2=\"413.5\" y1=\"139.0169\" y2=\"139.0169\"/><text fill=\"#000000\" font-family=\"sans-serif\" font-size=\"14\" lengthAdjust=\"spacing\" textLength=\"115\" x=\"289.5\" y=\"131.7151\">Application Layer</text></a><a href=\"psysml:6cc47e98-b8e7-4ff0-90aa-a6e12ea2ee54\" target=\"_top\" title=\"psysml:6cc47e98-b8e7-4ff0-90aa-a6e12ea2ee54\" xlink:actuate=\"onRequest\" xlink:href=\"psysml:6cc47e98-b8e7-4ff0-90aa-a6e12ea2ee54\" xlink:show=\"new\" xlink:title=\"psysml:6cc47e98-b8e7-4ff0-90aa-a6e12ea2ee54\" xlink:type=\"simple\"><polygon fill=\"#FFFFFF\" points=\"298,229.72,394,229.72,401,252.0169,408,252.0169,408,282.3138,298,282.3138,298,229.72\" style=\"stroke:#181818;stroke-width:0.5;\"/><line style=\"stroke:#181818;stroke-width:0.5;\" x1=\"298\" x2=\"401\" y1=\"252.0169\" y2=\"252.0169\"/><text fill=\"#000000\" font-family=\"sans-serif\" font-size=\"14\" lengthAdjust=\"spacing\" textLength=\"90\" x=\"302\" y=\"244.7151\">Service Layer</text></a><a href=\"psysml:a41e95d1-6586-47c5-87a0-a52adaa3773e\" target=\"_top\" title=\"psysml:a41e95d1-6586-47c5-87a0-a52adaa3773e\" xlink:actuate=\"onRequest\" xlink:href=\"psysml:a41e95d1-6586-47c5-87a0-a52adaa3773e\" xlink:show=\"new\" xlink:title=\"psysml:a41e95d1-6586-47c5-87a0-a52adaa3773e\" xlink:type=\"simple\"><polygon fill=\"#FFFFFF\" points=\"307,342.72,385,342.72,392,365.0169,399,365.0169,399,395.3138,307,395.3138,307,342.72\" style=\"stroke:#181818;stroke-width:0.5;\"/><line style=\"stroke:#181818;stroke-width:0.5;\" x1=\"307\" x2=\"392\" y1=\"365.0169\" y2=\"365.0169\"/><text fill=\"#000000\" font-family=\"sans-serif\" font-size=\"14\" lengthAdjust=\"spacing\" textLength=\"72\" x=\"311\" y=\"357.7151\">Data Layer</text></a><!--MD5=[1f1cd8e6dd4c1b2ca2aaccc9b9bcea6e]\n",
       "link E1 to E2--><g id=\"link_E1_E2\"><a href=\"psysml:98ffbcea-2ad0-443f-b206-57004efde221\" target=\"_top\" title=\"psysml:98ffbcea-2ad0-443f-b206-57004efde221\" xlink:actuate=\"onRequest\" xlink:href=\"psysml:98ffbcea-2ad0-443f-b206-57004efde221\" xlink:show=\"new\" xlink:title=\"psysml:98ffbcea-2ad0-443f-b206-57004efde221\" xlink:type=\"simple\"><path d=\"M250,34.06 C250,36.29 250,43.655 250,53.5813 C250,58.5444 250,64.1478 250,70.0698 C250,70.8101 250,71.5553 250,72.3049 C250,72.6797 250,73.0556 250,73.4325 \" fill=\"none\" id=\"E1-to-E2\" style=\"stroke:#181818;stroke-width:1.0;stroke-dasharray:7.0,7.0;\"/><polygon fill=\"#181818\" points=\"250,73.4325,254,64.4325,250,68.4325,246,64.4325,250,73.4325\" style=\"stroke:#181818;stroke-width:1.0;\"/><text fill=\"#000000\" font-family=\"sans-serif\" font-size=\"13\" lengthAdjust=\"spacing\" textLength=\"65\" x=\"184\" y=\"84.3869\">«import»*</text></a></g><!--MD5=[af87c684e3b0d8be13c1a698a818ef1e]\n",
       "link E3 to E4--><g id=\"link_E3_E4\"><a href=\"psysml:94e1a3f7-50a9-4c8e-a4e8-5ce452ddfecf\" target=\"_top\" title=\"psysml:94e1a3f7-50a9-4c8e-a4e8-5ce452ddfecf\" xlink:actuate=\"onRequest\" xlink:href=\"psysml:94e1a3f7-50a9-4c8e-a4e8-5ce452ddfecf\" xlink:show=\"new\" xlink:title=\"psysml:94e1a3f7-50a9-4c8e-a4e8-5ce452ddfecf\" xlink:type=\"simple\"><path d=\"M353,170 C353,170 353,221.63 353,221.63 \" fill=\"none\" id=\"E3-to-E4\" style=\"stroke:#181818;stroke-width:1.0;stroke-dasharray:7.0,7.0;\"/><polygon fill=\"#181818\" points=\"353,229.63,356,221.63,350,221.63,353,229.63\" style=\"stroke:#181818;stroke-width:1.0;\"/><text fill=\"#000000\" font-family=\"sans-serif\" font-size=\"13\" lengthAdjust=\"spacing\" textLength=\"64\" x=\"288\" y=\"191.8869\">«depend»</text></a></g><!--MD5=[1b7591eae5389033d8d09a9d6721a717]\n",
       "link E4 to E5--><g id=\"link_E4_E5\"><a href=\"psysml:9da5c160-44e8-44ec-9936-ca4a4075f5f4\" target=\"_top\" title=\"psysml:9da5c160-44e8-44ec-9936-ca4a4075f5f4\" xlink:actuate=\"onRequest\" xlink:href=\"psysml:9da5c160-44e8-44ec-9936-ca4a4075f5f4\" xlink:show=\"new\" xlink:title=\"psysml:9da5c160-44e8-44ec-9936-ca4a4075f5f4\" xlink:type=\"simple\"><path d=\"M353,283 C353,283 353,334.63 353,334.63 \" fill=\"none\" id=\"E4-to-E5\" style=\"stroke:#181818;stroke-width:1.0;stroke-dasharray:7.0,7.0;\"/><polygon fill=\"#181818\" points=\"353,342.63,356,334.63,350,334.63,353,342.63\" style=\"stroke:#181818;stroke-width:1.0;\"/><text fill=\"#000000\" font-family=\"sans-serif\" font-size=\"13\" lengthAdjust=\"spacing\" textLength=\"64\" x=\"288\" y=\"304.8869\">«depend»</text></a></g><!--MD5=[c5e8897d989ce984f93528998a7150fe]\n",
       "link E8 to E6--><g id=\"link_E8_E6\"><a href=\"psysml:cc6cc763-fa59-42bd-a700-018e736c1371\" target=\"_top\" title=\"psysml:cc6cc763-fa59-42bd-a700-018e736c1371\" xlink:actuate=\"onRequest\" xlink:href=\"psysml:cc6cc763-fa59-42bd-a700-018e736c1371\" xlink:show=\"new\" xlink:title=\"psysml:cc6cc763-fa59-42bd-a700-018e736c1371\" xlink:type=\"simple\"><path d=\"M101.5,167.46 C101.5,167.46 101.5,224.02 101.5,224.02 \" fill=\"none\" id=\"E8-to-E6\" style=\"stroke:#181818;stroke-width:1.0;stroke-dasharray:7.0,7.0;\"/><polygon fill=\"#181818\" points=\"101.5,232.02,104.5,224.02,98.5,224.02,101.5,232.02\" style=\"stroke:#181818;stroke-width:1.0;\"/><text fill=\"#000000\" font-family=\"sans-serif\" font-size=\"13\" lengthAdjust=\"spacing\" textLength=\"64\" x=\"36.5\" y=\"191.8069\">«depend»</text></a></g><!--MD5=[bfa3c8b0d15052fdf50ae9310b491027]\n",
       "link E8 to E7--><g id=\"link_E8_E7\"><a href=\"psysml:cc6cc763-fa59-42bd-a700-018e736c1371\" target=\"_top\" title=\"psysml:cc6cc763-fa59-42bd-a700-018e736c1371\" xlink:actuate=\"onRequest\" xlink:href=\"psysml:cc6cc763-fa59-42bd-a700-018e736c1371\" xlink:show=\"new\" xlink:title=\"psysml:cc6cc763-fa59-42bd-a700-018e736c1371\" xlink:type=\"simple\"><path d=\"M154.5,167.46 C154.5,167.46 154.5,224.02 154.5,224.02 \" fill=\"none\" id=\"E8-to-E7\" style=\"stroke:#181818;stroke-width:1.0;stroke-dasharray:7.0,7.0;\"/><polygon fill=\"#181818\" points=\"154.5,232.02,157.5,224.02,151.5,224.02,154.5,232.02\" style=\"stroke:#181818;stroke-width:1.0;\"/><text fill=\"#000000\" font-family=\"sans-serif\" font-size=\"13\" lengthAdjust=\"spacing\" textLength=\"64\" x=\"89.5\" y=\"208.8069\">«depend»</text></a></g><!--MD5=[6c12ed4d080c437a389fa92c8715caab]\n",
       "@startuml\r\n",
       "skin sysmlbw\r\n",
       "skinparam monochrome true\r\n",
       "skinparam wrapWidth 300\r\n",
       "hide circle\r\n",
       "skinparam linetype ortho\r\n",
       "\r\n",
       "package \"DependencyTest\" as E1  [[psysml:7dee102c-3f89-42b9-9919-3eaa1d7109e5 ]]  {\r\n",
       "package \"System\" as E2  [[psysml:da04b59d-3286-4d3f-bbc3-7e7bb49d7c5d ]]  {\r\n",
       "package \"Application Layer\" as E3  [[psysml:174d7b64-e31a-4a54-99c4-d88bb0afa8af ]]  {\r\n",
       "}\r\n",
       "package \"Service Layer\" as E4  [[psysml:6cc47e98-b8e7-4ff0-90aa-a6e12ea2ee54 ]]  {\r\n",
       "}\r\n",
       "package \"Data Layer\" as E5  [[psysml:a41e95d1-6586-47c5-87a0-a52adaa3773e ]]  {\r\n",
       "}\r\n",
       "}\r\n",
       "comp usage \"x  \" as E6  <<(T,blue) attribute>> [[psysml:fa1eb9e1-3558-4ac6-ae6a-7c42660b9dca ]] {\r\n",
       "}\r\n",
       "comp usage \"y  \" as E7  <<(T,blue) attribute>> [[psysml:a1db1b5d-0100-40b0-bd9f-2e7223fe2e6d ]] {\r\n",
       "}\r\n",
       "comp usage \"z  \" as E8  <<(T,blue) attribute>> [[psysml:179fcb88-b86f-4c8c-8d3f-0f88ad709e86 ]] {\r\n",
       "}\r\n",
       "}\r\n",
       "E1 ..> E2 [[psysml:98ffbcea-2ad0-443f-b206-57004efde221 ]] : <<import>>*\r\n",
       "E3 ..>> E4 [[psysml:94e1a3f7-50a9-4c8e-a4e8-5ce452ddfecf ]] : <<depend>>\r\n",
       "E4 ..>> E5 [[psysml:9da5c160-44e8-44ec-9936-ca4a4075f5f4 ]] : <<depend>>\r\n",
       "E8 ..>> E6 [[psysml:cc6cc763-fa59-42bd-a700-018e736c1371 ]] : <<depend>>\r\n",
       "E8 ..>> E7 [[psysml:cc6cc763-fa59-42bd-a700-018e736c1371 ]] : <<depend>>\r\n",
       "@enduml\r\n",
       "\n",
       "PlantUML version 1.2022.7(Mon Aug 22 17:01:30 UTC 2022)\n",
       "(EPL source distribution)\n",
       "Java Runtime: OpenJDK Runtime Environment\n",
       "JVM: OpenJDK 64-Bit Server VM\n",
       "Default Encoding: UTF-8\n",
       "Language: en\n",
       "Country: null\n",
       "--></g></svg>"
      ]
     },
     "execution_count": 52,
     "metadata": {},
     "output_type": "execute_result"
    }
   ],
   "source": [
    "%viz --style=\"ORTHOLINE\" --view=\"Tree\" \"DependencyTest\""
   ]
  },
  {
   "cell_type": "code",
   "execution_count": 53,
   "id": "2fa46624",
   "metadata": {
    "execution": {
     "iopub.execute_input": "2024-12-16T03:27:33.409992Z",
     "iopub.status.busy": "2024-12-16T03:27:33.406619Z",
     "iopub.status.idle": "2024-12-16T03:27:33.414845Z",
     "shell.execute_reply": "2024-12-16T03:27:33.414675Z"
    }
   },
   "outputs": [
    {
     "data": {
      "image/svg+xml": [
       "<?xml version=\"1.0\" encoding=\"UTF-8\" standalone=\"no\"?><svg xmlns=\"http://www.w3.org/2000/svg\" xmlns:xlink=\"http://www.w3.org/1999/xlink\" contentStyleType=\"text/css\" height=\"10px\" preserveAspectRatio=\"none\" style=\"width:10px;height:10px;background:#FFFFFF;\" version=\"1.1\" viewBox=\"0 0 10 10\" width=\"10px\" zoomAndPan=\"magnify\"><defs/><g><!--MD5=[db5337d1ba6fd3a35e07e04988169323]\n",
       "@startuml\r\n",
       "skin sysmlbw\r\n",
       "skinparam monochrome true\r\n",
       "skinparam wrapWidth 300\r\n",
       "hide circle\r\n",
       "skinparam linetype ortho\r\n",
       "\r\n",
       "@enduml\r\n",
       "\n",
       "PlantUML version 1.2022.7(Mon Aug 22 17:01:30 UTC 2022)\n",
       "(EPL source distribution)\n",
       "Java Runtime: OpenJDK Runtime Environment\n",
       "JVM: OpenJDK 64-Bit Server VM\n",
       "Default Encoding: UTF-8\n",
       "Language: en\n",
       "Country: null\n",
       "--></g></svg>"
      ]
     },
     "execution_count": 53,
     "metadata": {},
     "output_type": "execute_result"
    }
   ],
   "source": [
    "%viz --style=\"ORTHOLINE\" --view=\"State\" \"DependencyTest\""
   ]
  },
  {
   "cell_type": "code",
   "execution_count": 54,
   "id": "13cacb55",
   "metadata": {
    "execution": {
     "iopub.execute_input": "2024-12-16T03:27:33.467153Z",
     "iopub.status.busy": "2024-12-16T03:27:33.466963Z",
     "iopub.status.idle": "2024-12-16T03:27:33.483899Z",
     "shell.execute_reply": "2024-12-16T03:27:33.483091Z"
    }
   },
   "outputs": [
    {
     "data": {
      "image/svg+xml": [
       "<?xml version=\"1.0\" encoding=\"UTF-8\" standalone=\"no\"?><svg xmlns=\"http://www.w3.org/2000/svg\" xmlns:xlink=\"http://www.w3.org/1999/xlink\" contentStyleType=\"text/css\" height=\"366px\" preserveAspectRatio=\"none\" style=\"width:502px;height:366px;background:#FFFFFF;\" version=\"1.1\" viewBox=\"0 0 502 366\" width=\"502px\" zoomAndPan=\"magnify\"><defs/><g><!--MD5=[fbc87193dbaf4d95561dea2c320d4a47]\n",
       "cluster E1--><g id=\"cluster_E1\"><a href=\"psysml:7dee102c-3f89-42b9-9919-3eaa1d7109e5\" target=\"_top\" title=\"psysml:7dee102c-3f89-42b9-9919-3eaa1d7109e5\" xlink:actuate=\"onRequest\" xlink:href=\"psysml:7dee102c-3f89-42b9-9919-3eaa1d7109e5\" xlink:show=\"new\" xlink:title=\"psysml:7dee102c-3f89-42b9-9919-3eaa1d7109e5\" xlink:type=\"simple\"><polygon fill=\"none\" points=\"16,6,148.125,6,155.125,28.2969,485,28.2969,485,359.72,16,359.72,16,6\" style=\"stroke:#000000;stroke-width:1.5;\"/><line style=\"stroke:#000000;stroke-width:1.5;\" x1=\"16\" x2=\"155.125\" y1=\"28.2969\" y2=\"28.2969\"/><text fill=\"#000000\" font-family=\"sans-serif\" font-size=\"14\" font-weight=\"bold\" lengthAdjust=\"spacing\" textLength=\"126.125\" x=\"20\" y=\"20.9951\">DependencyTest</text></a></g><!--MD5=[e4f7fae6ed58524ba242bb0b0d3be6b7]\n",
       "cluster E2--><g id=\"cluster_E2\"><a href=\"psysml:da04b59d-3286-4d3f-bbc3-7e7bb49d7c5d\" target=\"_top\" title=\"psysml:da04b59d-3286-4d3f-bbc3-7e7bb49d7c5d\" xlink:actuate=\"onRequest\" xlink:href=\"psysml:da04b59d-3286-4d3f-bbc3-7e7bb49d7c5d\" xlink:show=\"new\" xlink:title=\"psysml:da04b59d-3286-4d3f-bbc3-7e7bb49d7c5d\" xlink:type=\"simple\"><polygon fill=\"none\" points=\"242,73.72,301.625,73.72,308.625,96.0169,445,96.0169,445,319.72,242,319.72,242,73.72\" style=\"stroke:#000000;stroke-width:1.5;\"/><line style=\"stroke:#000000;stroke-width:1.5;\" x1=\"242\" x2=\"308.625\" y1=\"96.0169\" y2=\"96.0169\"/><text fill=\"#000000\" font-family=\"sans-serif\" font-size=\"14\" font-weight=\"bold\" lengthAdjust=\"spacing\" textLength=\"53.625\" x=\"246\" y=\"88.7151\">System</text></a></g><!--MD5=[60a26617385b1d2d0262a64233df1f8d]\n",
       "class E6--><a href=\"psysml:fa1eb9e1-3558-4ac6-ae6a-7c42660b9dca\" target=\"_top\" title=\"psysml:fa1eb9e1-3558-4ac6-ae6a-7c42660b9dca\" xlink:actuate=\"onRequest\" xlink:href=\"psysml:fa1eb9e1-3558-4ac6-ae6a-7c42660b9dca\" xlink:show=\"new\" xlink:title=\"psysml:fa1eb9e1-3558-4ac6-ae6a-7c42660b9dca\" xlink:type=\"simple\"><g id=\"elem_E6\"><rect fill=\"#FFFFFF\" height=\"48.2656\" id=\"E6\" rx=\"10\" ry=\"10\" style=\"stroke:#181818;stroke-width:0.5;\" width=\"71\" x=\"40.5\" y=\"182.22\"/><text fill=\"#000000\" font-family=\"sans-serif\" font-size=\"12\" font-style=\"italic\" lengthAdjust=\"spacing\" textLength=\"69\" x=\"41.5\" y=\"198.3587\">«attribute»</text><text fill=\"#000000\" font-family=\"sans-serif\" font-size=\"14\" lengthAdjust=\"spacing\" textLength=\"7\" x=\"68.5\" y=\"214.1839\">x</text><line style=\"stroke:#181818;stroke-width:0.5;\" x1=\"41.5\" x2=\"110.5\" y1=\"222.4856\" y2=\"222.4856\"/></g></a><!--MD5=[2156ba9850f5573cc1fc38a6a4b2f02b]\n",
       "class E7--><a href=\"psysml:a1db1b5d-0100-40b0-bd9f-2e7223fe2e6d\" target=\"_top\" title=\"psysml:a1db1b5d-0100-40b0-bd9f-2e7223fe2e6d\" xlink:actuate=\"onRequest\" xlink:href=\"psysml:a1db1b5d-0100-40b0-bd9f-2e7223fe2e6d\" xlink:show=\"new\" xlink:title=\"psysml:a1db1b5d-0100-40b0-bd9f-2e7223fe2e6d\" xlink:type=\"simple\"><g id=\"elem_E7\"><rect fill=\"#FFFFFF\" height=\"48.2656\" id=\"E7\" rx=\"10\" ry=\"10\" style=\"stroke:#181818;stroke-width:0.5;\" width=\"71\" x=\"146.5\" y=\"182.22\"/><text fill=\"#000000\" font-family=\"sans-serif\" font-size=\"12\" font-style=\"italic\" lengthAdjust=\"spacing\" textLength=\"69\" x=\"147.5\" y=\"198.3587\">«attribute»</text><text fill=\"#000000\" font-family=\"sans-serif\" font-size=\"14\" lengthAdjust=\"spacing\" textLength=\"7\" x=\"174.5\" y=\"214.1839\">y</text><line style=\"stroke:#181818;stroke-width:0.5;\" x1=\"147.5\" x2=\"216.5\" y1=\"222.4856\" y2=\"222.4856\"/></g></a><!--MD5=[b9389687b975829384b498ac4b7476b2]\n",
       "class E8--><a href=\"psysml:179fcb88-b86f-4c8c-8d3f-0f88ad709e86\" target=\"_top\" title=\"psysml:179fcb88-b86f-4c8c-8d3f-0f88ad709e86\" xlink:actuate=\"onRequest\" xlink:href=\"psysml:179fcb88-b86f-4c8c-8d3f-0f88ad709e86\" xlink:show=\"new\" xlink:title=\"psysml:179fcb88-b86f-4c8c-8d3f-0f88ad709e86\" xlink:type=\"simple\"><g id=\"elem_E8\"><rect fill=\"#FFFFFF\" height=\"48.2656\" id=\"E8\" rx=\"10\" ry=\"10\" style=\"stroke:#181818;stroke-width:0.5;\" width=\"71\" x=\"91.5\" y=\"119.22\"/><text fill=\"#000000\" font-family=\"sans-serif\" font-size=\"12\" font-style=\"italic\" lengthAdjust=\"spacing\" textLength=\"69\" x=\"92.5\" y=\"135.3587\">«attribute»</text><text fill=\"#000000\" font-family=\"sans-serif\" font-size=\"14\" lengthAdjust=\"spacing\" textLength=\"8\" x=\"119\" y=\"151.1839\">z</text><line style=\"stroke:#181818;stroke-width:0.5;\" x1=\"92.5\" x2=\"161.5\" y1=\"159.4856\" y2=\"159.4856\"/></g></a><a href=\"psysml:174d7b64-e31a-4a54-99c4-d88bb0afa8af\" target=\"_top\" title=\"psysml:174d7b64-e31a-4a54-99c4-d88bb0afa8af\" xlink:actuate=\"onRequest\" xlink:href=\"psysml:174d7b64-e31a-4a54-99c4-d88bb0afa8af\" xlink:show=\"new\" xlink:title=\"psysml:174d7b64-e31a-4a54-99c4-d88bb0afa8af\" xlink:type=\"simple\"><polygon fill=\"#FFFFFF\" points=\"285.5,116.72,406.5,116.72,413.5,139.0169,420.5,139.0169,420.5,169.3138,285.5,169.3138,285.5,116.72\" style=\"stroke:#181818;stroke-width:0.5;\"/><line style=\"stroke:#181818;stroke-width:0.5;\" x1=\"285.5\" x2=\"413.5\" y1=\"139.0169\" y2=\"139.0169\"/><text fill=\"#000000\" font-family=\"sans-serif\" font-size=\"14\" lengthAdjust=\"spacing\" textLength=\"115\" x=\"289.5\" y=\"131.7151\">Application Layer</text></a><a href=\"psysml:6cc47e98-b8e7-4ff0-90aa-a6e12ea2ee54\" target=\"_top\" title=\"psysml:6cc47e98-b8e7-4ff0-90aa-a6e12ea2ee54\" xlink:actuate=\"onRequest\" xlink:href=\"psysml:6cc47e98-b8e7-4ff0-90aa-a6e12ea2ee54\" xlink:show=\"new\" xlink:title=\"psysml:6cc47e98-b8e7-4ff0-90aa-a6e12ea2ee54\" xlink:type=\"simple\"><polygon fill=\"#FFFFFF\" points=\"298,179.72,394,179.72,401,202.0169,408,202.0169,408,232.3138,298,232.3138,298,179.72\" style=\"stroke:#181818;stroke-width:0.5;\"/><line style=\"stroke:#181818;stroke-width:0.5;\" x1=\"298\" x2=\"401\" y1=\"202.0169\" y2=\"202.0169\"/><text fill=\"#000000\" font-family=\"sans-serif\" font-size=\"14\" lengthAdjust=\"spacing\" textLength=\"90\" x=\"302\" y=\"194.7151\">Service Layer</text></a><a href=\"psysml:a41e95d1-6586-47c5-87a0-a52adaa3773e\" target=\"_top\" title=\"psysml:a41e95d1-6586-47c5-87a0-a52adaa3773e\" xlink:actuate=\"onRequest\" xlink:href=\"psysml:a41e95d1-6586-47c5-87a0-a52adaa3773e\" xlink:show=\"new\" xlink:title=\"psysml:a41e95d1-6586-47c5-87a0-a52adaa3773e\" xlink:type=\"simple\"><polygon fill=\"#FFFFFF\" points=\"307,242.72,385,242.72,392,265.0169,399,265.0169,399,295.3138,307,295.3138,307,242.72\" style=\"stroke:#181818;stroke-width:0.5;\"/><line style=\"stroke:#181818;stroke-width:0.5;\" x1=\"307\" x2=\"392\" y1=\"265.0169\" y2=\"265.0169\"/><text fill=\"#000000\" font-family=\"sans-serif\" font-size=\"14\" lengthAdjust=\"spacing\" textLength=\"72\" x=\"311\" y=\"257.7151\">Data Layer</text></a><!--MD5=[1f1cd8e6dd4c1b2ca2aaccc9b9bcea6e]\n",
       "link E1 to E2--><g id=\"link_E1_E2\"><a href=\"psysml:98ffbcea-2ad0-443f-b206-57004efde221\" target=\"_top\" title=\"psysml:98ffbcea-2ad0-443f-b206-57004efde221\" xlink:actuate=\"onRequest\" xlink:href=\"psysml:98ffbcea-2ad0-443f-b206-57004efde221\" xlink:show=\"new\" xlink:title=\"psysml:98ffbcea-2ad0-443f-b206-57004efde221\" xlink:type=\"simple\"><path d=\"M250,34.06 C250,36.29 250,43.655 250,53.5813 C250,58.5444 250,64.1478 250,70.0698 C250,70.8101 250,71.5553 250,72.3049 C250,72.6797 250,73.0556 250,73.4325 \" fill=\"none\" id=\"E1-to-E2\" style=\"stroke:#181818;stroke-width:1.0;stroke-dasharray:7.0,7.0;\"/><polygon fill=\"#181818\" points=\"250,73.4325,254,64.4325,250,68.4325,246,64.4325,250,73.4325\" style=\"stroke:#181818;stroke-width:1.0;\"/><text fill=\"#000000\" font-family=\"sans-serif\" font-size=\"13\" lengthAdjust=\"spacing\" textLength=\"65\" x=\"184\" y=\"84.3869\">«import»*</text></a></g><!--MD5=[af87c684e3b0d8be13c1a698a818ef1e]\n",
       "link E3 to E4--><g id=\"link_E3_E4\"><a href=\"psysml:94e1a3f7-50a9-4c8e-a4e8-5ce452ddfecf\" target=\"_top\" title=\"psysml:94e1a3f7-50a9-4c8e-a4e8-5ce452ddfecf\" xlink:actuate=\"onRequest\" xlink:href=\"psysml:94e1a3f7-50a9-4c8e-a4e8-5ce452ddfecf\" xlink:show=\"new\" xlink:title=\"psysml:94e1a3f7-50a9-4c8e-a4e8-5ce452ddfecf\" xlink:type=\"simple\"><path d=\"M353,169.94 C353,169.94 353,171.66 353,171.66 \" fill=\"none\" id=\"E3-to-E4\" style=\"stroke:#181818;stroke-width:1.0;stroke-dasharray:7.0,7.0;\"/><polygon fill=\"#181818\" points=\"353,179.66,356,171.66,350,171.66,353,179.66\" style=\"stroke:#181818;stroke-width:1.0;\"/><text fill=\"#000000\" font-family=\"sans-serif\" font-size=\"13\" lengthAdjust=\"spacing\" textLength=\"64\" x=\"288\" y=\"183.8669\">«depend»</text></a></g><!--MD5=[1b7591eae5389033d8d09a9d6721a717]\n",
       "link E4 to E5--><g id=\"link_E4_E5\"><a href=\"psysml:9da5c160-44e8-44ec-9936-ca4a4075f5f4\" target=\"_top\" title=\"psysml:9da5c160-44e8-44ec-9936-ca4a4075f5f4\" xlink:actuate=\"onRequest\" xlink:href=\"psysml:9da5c160-44e8-44ec-9936-ca4a4075f5f4\" xlink:show=\"new\" xlink:title=\"psysml:9da5c160-44e8-44ec-9936-ca4a4075f5f4\" xlink:type=\"simple\"><path d=\"M353,232.94 C353,232.94 353,234.66 353,234.66 \" fill=\"none\" id=\"E4-to-E5\" style=\"stroke:#181818;stroke-width:1.0;stroke-dasharray:7.0,7.0;\"/><polygon fill=\"#181818\" points=\"353,242.66,356,234.66,350,234.66,353,242.66\" style=\"stroke:#181818;stroke-width:1.0;\"/><text fill=\"#000000\" font-family=\"sans-serif\" font-size=\"13\" lengthAdjust=\"spacing\" textLength=\"64\" x=\"288\" y=\"246.8669\">«depend»</text></a></g><!--MD5=[c5e8897d989ce984f93528998a7150fe]\n",
       "link E8 to E6--><g id=\"link_E8_E6\"><a href=\"psysml:cc6cc763-fa59-42bd-a700-018e736c1371\" target=\"_top\" title=\"psysml:cc6cc763-fa59-42bd-a700-018e736c1371\" xlink:actuate=\"onRequest\" xlink:href=\"psysml:cc6cc763-fa59-42bd-a700-018e736c1371\" xlink:show=\"new\" xlink:title=\"psysml:cc6cc763-fa59-42bd-a700-018e736c1371\" xlink:type=\"simple\"><path d=\"M101.5,167.4 C101.5,167.4 101.5,174.21 101.5,174.21 \" fill=\"none\" id=\"E8-to-E6\" style=\"stroke:#181818;stroke-width:1.0;stroke-dasharray:7.0,7.0;\"/><polygon fill=\"#181818\" points=\"101.5,182.21,104.5,174.21,98.5,174.21,101.5,182.21\" style=\"stroke:#181818;stroke-width:1.0;\"/><text fill=\"#000000\" font-family=\"sans-serif\" font-size=\"13\" lengthAdjust=\"spacing\" textLength=\"64\" x=\"36.5\" y=\"166.8669\">«depend»</text></a></g><!--MD5=[bfa3c8b0d15052fdf50ae9310b491027]\n",
       "link E8 to E7--><g id=\"link_E8_E7\"><a href=\"psysml:cc6cc763-fa59-42bd-a700-018e736c1371\" target=\"_top\" title=\"psysml:cc6cc763-fa59-42bd-a700-018e736c1371\" xlink:actuate=\"onRequest\" xlink:href=\"psysml:cc6cc763-fa59-42bd-a700-018e736c1371\" xlink:show=\"new\" xlink:title=\"psysml:cc6cc763-fa59-42bd-a700-018e736c1371\" xlink:type=\"simple\"><path d=\"M154.5,167.4 C154.5,167.4 154.5,174.21 154.5,174.21 \" fill=\"none\" id=\"E8-to-E7\" style=\"stroke:#181818;stroke-width:1.0;stroke-dasharray:7.0,7.0;\"/><polygon fill=\"#181818\" points=\"154.5,182.21,157.5,174.21,151.5,174.21,154.5,182.21\" style=\"stroke:#181818;stroke-width:1.0;\"/><text fill=\"#000000\" font-family=\"sans-serif\" font-size=\"13\" lengthAdjust=\"spacing\" textLength=\"64\" x=\"155.5\" y=\"166.8669\">«depend»</text></a></g><!--MD5=[05de1817b26963a69961dd3206b73d6d]\n",
       "@startuml\r\n",
       "skin sysmlbw\r\n",
       "skinparam monochrome true\r\n",
       "skinparam wrapWidth 300\r\n",
       "hide circle\r\n",
       "skinparam linetype ortho\r\n",
       "skinparam ranksep 10\r\n",
       "skinparam rectangle {\r\n",
       " backgroundColor<<block>> LightGreen\r\n",
       "}\r\n",
       "\r\n",
       "package \"DependencyTest\" as E1  [[psysml:7dee102c-3f89-42b9-9919-3eaa1d7109e5 ]]  {\r\n",
       "package \"System\" as E2  [[psysml:da04b59d-3286-4d3f-bbc3-7e7bb49d7c5d ]]  {\r\n",
       "package \"Application Layer\" as E3  [[psysml:174d7b64-e31a-4a54-99c4-d88bb0afa8af ]]  {\r\n",
       "}\r\n",
       "package \"Service Layer\" as E4  [[psysml:6cc47e98-b8e7-4ff0-90aa-a6e12ea2ee54 ]]  {\r\n",
       "}\r\n",
       "package \"Data Layer\" as E5  [[psysml:a41e95d1-6586-47c5-87a0-a52adaa3773e ]]  {\r\n",
       "}\r\n",
       "}\r\n",
       "comp usage \"x  \" as E6  <<(T,blue) attribute>> [[psysml:fa1eb9e1-3558-4ac6-ae6a-7c42660b9dca ]] {\r\n",
       "}\r\n",
       "comp usage \"y  \" as E7  <<(T,blue) attribute>> [[psysml:a1db1b5d-0100-40b0-bd9f-2e7223fe2e6d ]] {\r\n",
       "}\r\n",
       "comp usage \"z  \" as E8  <<(T,blue) attribute>> [[psysml:179fcb88-b86f-4c8c-8d3f-0f88ad709e86 ]] {\r\n",
       "}\r\n",
       "}\r\n",
       "E1 ..> E2 [[psysml:98ffbcea-2ad0-443f-b206-57004efde221 ]] : <<import>>*\r\n",
       "E3 ..>> E4 [[psysml:94e1a3f7-50a9-4c8e-a4e8-5ce452ddfecf ]] : <<depend>>\r\n",
       "E4 ..>> E5 [[psysml:9da5c160-44e8-44ec-9936-ca4a4075f5f4 ]] : <<depend>>\r\n",
       "E8 ..>> E6 [[psysml:cc6cc763-fa59-42bd-a700-018e736c1371 ]] : <<depend>>\r\n",
       "E8 ..>> E7 [[psysml:cc6cc763-fa59-42bd-a700-018e736c1371 ]] : <<depend>>\r\n",
       "@enduml\r\n",
       "\n",
       "PlantUML version 1.2022.7(Mon Aug 22 17:01:30 UTC 2022)\n",
       "(EPL source distribution)\n",
       "Java Runtime: OpenJDK Runtime Environment\n",
       "JVM: OpenJDK 64-Bit Server VM\n",
       "Default Encoding: UTF-8\n",
       "Language: en\n",
       "Country: null\n",
       "--></g></svg>"
      ]
     },
     "execution_count": 54,
     "metadata": {},
     "output_type": "execute_result"
    }
   ],
   "source": [
    "%viz --style=\"ORTHOLINE\" --view=\"Interconnection\" \"DependencyTest\""
   ]
  },
  {
   "cell_type": "code",
   "execution_count": 55,
   "id": "25377fde",
   "metadata": {
    "execution": {
     "iopub.execute_input": "2024-12-16T03:27:33.540323Z",
     "iopub.status.busy": "2024-12-16T03:27:33.540074Z",
     "iopub.status.idle": "2024-12-16T03:27:33.544289Z",
     "shell.execute_reply": "2024-12-16T03:27:33.544105Z"
    }
   },
   "outputs": [
    {
     "data": {
      "image/svg+xml": [
       "<?xml version=\"1.0\" encoding=\"UTF-8\" standalone=\"no\"?><svg xmlns=\"http://www.w3.org/2000/svg\" xmlns:xlink=\"http://www.w3.org/1999/xlink\" contentStyleType=\"text/css\" height=\"10px\" preserveAspectRatio=\"none\" style=\"width:10px;height:10px;background:#FFFFFF;\" version=\"1.1\" viewBox=\"0 0 10 10\" width=\"10px\" zoomAndPan=\"magnify\"><defs/><g><!--MD5=[13654d10b9e2b79db36f00fd31e63fb2]\n",
       "@startuml\r\n",
       "skin sysmlbw\r\n",
       "skinparam monochrome true\r\n",
       "skinparam wrapWidth 300\r\n",
       "hide circle\r\n",
       "skinparam linetype ortho\r\n",
       "skinparam ranksep 8\r\n",
       "\r\n",
       "@enduml\r\n",
       "\n",
       "PlantUML version 1.2022.7(Mon Aug 22 17:01:30 UTC 2022)\n",
       "(EPL source distribution)\n",
       "Java Runtime: OpenJDK Runtime Environment\n",
       "JVM: OpenJDK 64-Bit Server VM\n",
       "Default Encoding: UTF-8\n",
       "Language: en\n",
       "Country: null\n",
       "--></g></svg>"
      ]
     },
     "execution_count": 55,
     "metadata": {},
     "output_type": "execute_result"
    }
   ],
   "source": [
    "%viz --style=\"ORTHOLINE\" --view=\"Action\" \"DependencyTest\""
   ]
  },
  {
   "cell_type": "code",
   "execution_count": 56,
   "id": "29a1459e",
   "metadata": {
    "execution": {
     "iopub.execute_input": "2024-12-16T03:27:33.599208Z",
     "iopub.status.busy": "2024-12-16T03:27:33.598956Z",
     "iopub.status.idle": "2024-12-16T03:27:33.603234Z",
     "shell.execute_reply": "2024-12-16T03:27:33.603026Z"
    }
   },
   "outputs": [
    {
     "data": {
      "image/svg+xml": [
       "<?xml version=\"1.0\" encoding=\"UTF-8\" standalone=\"no\"?><svg xmlns=\"http://www.w3.org/2000/svg\" xmlns:xlink=\"http://www.w3.org/1999/xlink\" contentStyleType=\"text/css\" height=\"10px\" preserveAspectRatio=\"none\" style=\"width:10px;height:10px;background:#FFFFFF;\" version=\"1.1\" viewBox=\"0 0 10 10\" width=\"10px\" zoomAndPan=\"magnify\"><defs/><g><!--MD5=[5b6eb85285460e34b0e63326afe72cc5]\n",
       "@startuml\r\n",
       "skin sysmlbw\r\n",
       "skinparam monochrome true\r\n",
       "skinparam wrapWidth 300\r\n",
       "hide circle\r\n",
       "skinparam linetype ortho\r\n",
       "skinparam roundcorner 20\r\n",
       "skinparam BoxPadding 20\r\n",
       "skinparam SequenceBoxBackgroundColor #white\r\n",
       "skinparam style strictuml\r\n",
       "skinparam maxMessageSize 100\r\n",
       "\r\n",
       "@enduml\r\n",
       "\n",
       "PlantUML version 1.2022.7(Mon Aug 22 17:01:30 UTC 2022)\n",
       "(EPL source distribution)\n",
       "Java Runtime: OpenJDK Runtime Environment\n",
       "JVM: OpenJDK 64-Bit Server VM\n",
       "Default Encoding: UTF-8\n",
       "Language: en\n",
       "Country: null\n",
       "--></g></svg>"
      ]
     },
     "execution_count": 56,
     "metadata": {},
     "output_type": "execute_result"
    }
   ],
   "source": [
    "%viz --style=\"ORTHOLINE\" --view=\"Sequence\" \"DependencyTest\""
   ]
  },
  {
   "cell_type": "code",
   "execution_count": 57,
   "id": "d15b6ec9",
   "metadata": {
    "execution": {
     "iopub.execute_input": "2024-12-16T03:27:33.656287Z",
     "iopub.status.busy": "2024-12-16T03:27:33.655993Z",
     "iopub.status.idle": "2024-12-16T03:27:33.676009Z",
     "shell.execute_reply": "2024-12-16T03:27:33.675821Z"
    }
   },
   "outputs": [
    {
     "data": {
      "image/svg+xml": [
       "<?xml version=\"1.0\" encoding=\"UTF-8\" standalone=\"no\"?><svg xmlns=\"http://www.w3.org/2000/svg\" xmlns:xlink=\"http://www.w3.org/1999/xlink\" contentStyleType=\"text/css\" height=\"466px\" preserveAspectRatio=\"none\" style=\"width:502px;height:466px;background:#FFFFFF;\" version=\"1.1\" viewBox=\"0 0 502 466\" width=\"502px\" zoomAndPan=\"magnify\"><defs/><g><!--MD5=[fbc87193dbaf4d95561dea2c320d4a47]\n",
       "cluster E1--><g id=\"cluster_E1\"><a href=\"psysml:7dee102c-3f89-42b9-9919-3eaa1d7109e5\" target=\"_top\" title=\"psysml:7dee102c-3f89-42b9-9919-3eaa1d7109e5\" xlink:actuate=\"onRequest\" xlink:href=\"psysml:7dee102c-3f89-42b9-9919-3eaa1d7109e5\" xlink:show=\"new\" xlink:title=\"psysml:7dee102c-3f89-42b9-9919-3eaa1d7109e5\" xlink:type=\"simple\"><polygon fill=\"none\" points=\"16,6,148.125,6,155.125,28.2969,485,28.2969,485,459.72,16,459.72,16,6\" style=\"stroke:#000000;stroke-width:1.5;\"/><line style=\"stroke:#000000;stroke-width:1.5;\" x1=\"16\" x2=\"155.125\" y1=\"28.2969\" y2=\"28.2969\"/><text fill=\"#000000\" font-family=\"sans-serif\" font-size=\"14\" font-weight=\"bold\" lengthAdjust=\"spacing\" textLength=\"126.125\" x=\"20\" y=\"20.9951\">DependencyTest</text></a></g><!--MD5=[e4f7fae6ed58524ba242bb0b0d3be6b7]\n",
       "cluster E2--><g id=\"cluster_E2\"><a href=\"psysml:da04b59d-3286-4d3f-bbc3-7e7bb49d7c5d\" target=\"_top\" title=\"psysml:da04b59d-3286-4d3f-bbc3-7e7bb49d7c5d\" xlink:actuate=\"onRequest\" xlink:href=\"psysml:da04b59d-3286-4d3f-bbc3-7e7bb49d7c5d\" xlink:show=\"new\" xlink:title=\"psysml:da04b59d-3286-4d3f-bbc3-7e7bb49d7c5d\" xlink:type=\"simple\"><polygon fill=\"none\" points=\"242,73.72,301.625,73.72,308.625,96.0169,445,96.0169,445,419.72,242,419.72,242,73.72\" style=\"stroke:#000000;stroke-width:1.5;\"/><line style=\"stroke:#000000;stroke-width:1.5;\" x1=\"242\" x2=\"308.625\" y1=\"96.0169\" y2=\"96.0169\"/><text fill=\"#000000\" font-family=\"sans-serif\" font-size=\"14\" font-weight=\"bold\" lengthAdjust=\"spacing\" textLength=\"53.625\" x=\"246\" y=\"88.7151\">System</text></a></g><!--MD5=[60a26617385b1d2d0262a64233df1f8d]\n",
       "class E6--><a href=\"psysml:fa1eb9e1-3558-4ac6-ae6a-7c42660b9dca\" target=\"_top\" title=\"psysml:fa1eb9e1-3558-4ac6-ae6a-7c42660b9dca\" xlink:actuate=\"onRequest\" xlink:href=\"psysml:fa1eb9e1-3558-4ac6-ae6a-7c42660b9dca\" xlink:show=\"new\" xlink:title=\"psysml:fa1eb9e1-3558-4ac6-ae6a-7c42660b9dca\" xlink:type=\"simple\"><g id=\"elem_E6\"><rect fill=\"#FFFFFF\" height=\"48.2656\" id=\"E6\" rx=\"10\" ry=\"10\" style=\"stroke:#181818;stroke-width:0.5;\" width=\"71\" x=\"40.5\" y=\"232.22\"/><text fill=\"#000000\" font-family=\"sans-serif\" font-size=\"12\" font-style=\"italic\" lengthAdjust=\"spacing\" textLength=\"69\" x=\"41.5\" y=\"248.3587\">«attribute»</text><text fill=\"#000000\" font-family=\"sans-serif\" font-size=\"14\" lengthAdjust=\"spacing\" textLength=\"7\" x=\"68.5\" y=\"264.1839\">x</text><line style=\"stroke:#181818;stroke-width:0.5;\" x1=\"41.5\" x2=\"110.5\" y1=\"272.4856\" y2=\"272.4856\"/></g></a><!--MD5=[2156ba9850f5573cc1fc38a6a4b2f02b]\n",
       "class E7--><a href=\"psysml:a1db1b5d-0100-40b0-bd9f-2e7223fe2e6d\" target=\"_top\" title=\"psysml:a1db1b5d-0100-40b0-bd9f-2e7223fe2e6d\" xlink:actuate=\"onRequest\" xlink:href=\"psysml:a1db1b5d-0100-40b0-bd9f-2e7223fe2e6d\" xlink:show=\"new\" xlink:title=\"psysml:a1db1b5d-0100-40b0-bd9f-2e7223fe2e6d\" xlink:type=\"simple\"><g id=\"elem_E7\"><rect fill=\"#FFFFFF\" height=\"48.2656\" id=\"E7\" rx=\"10\" ry=\"10\" style=\"stroke:#181818;stroke-width:0.5;\" width=\"71\" x=\"146.5\" y=\"232.22\"/><text fill=\"#000000\" font-family=\"sans-serif\" font-size=\"12\" font-style=\"italic\" lengthAdjust=\"spacing\" textLength=\"69\" x=\"147.5\" y=\"248.3587\">«attribute»</text><text fill=\"#000000\" font-family=\"sans-serif\" font-size=\"14\" lengthAdjust=\"spacing\" textLength=\"7\" x=\"174.5\" y=\"264.1839\">y</text><line style=\"stroke:#181818;stroke-width:0.5;\" x1=\"147.5\" x2=\"216.5\" y1=\"272.4856\" y2=\"272.4856\"/></g></a><!--MD5=[b9389687b975829384b498ac4b7476b2]\n",
       "class E8--><a href=\"psysml:179fcb88-b86f-4c8c-8d3f-0f88ad709e86\" target=\"_top\" title=\"psysml:179fcb88-b86f-4c8c-8d3f-0f88ad709e86\" xlink:actuate=\"onRequest\" xlink:href=\"psysml:179fcb88-b86f-4c8c-8d3f-0f88ad709e86\" xlink:show=\"new\" xlink:title=\"psysml:179fcb88-b86f-4c8c-8d3f-0f88ad709e86\" xlink:type=\"simple\"><g id=\"elem_E8\"><rect fill=\"#FFFFFF\" height=\"48.2656\" id=\"E8\" rx=\"10\" ry=\"10\" style=\"stroke:#181818;stroke-width:0.5;\" width=\"71\" x=\"91.5\" y=\"119.22\"/><text fill=\"#000000\" font-family=\"sans-serif\" font-size=\"12\" font-style=\"italic\" lengthAdjust=\"spacing\" textLength=\"69\" x=\"92.5\" y=\"135.3587\">«attribute»</text><text fill=\"#000000\" font-family=\"sans-serif\" font-size=\"14\" lengthAdjust=\"spacing\" textLength=\"8\" x=\"119\" y=\"151.1839\">z</text><line style=\"stroke:#181818;stroke-width:0.5;\" x1=\"92.5\" x2=\"161.5\" y1=\"159.4856\" y2=\"159.4856\"/></g></a><a href=\"psysml:174d7b64-e31a-4a54-99c4-d88bb0afa8af\" target=\"_top\" title=\"psysml:174d7b64-e31a-4a54-99c4-d88bb0afa8af\" xlink:actuate=\"onRequest\" xlink:href=\"psysml:174d7b64-e31a-4a54-99c4-d88bb0afa8af\" xlink:show=\"new\" xlink:title=\"psysml:174d7b64-e31a-4a54-99c4-d88bb0afa8af\" xlink:type=\"simple\"><polygon fill=\"#FFFFFF\" points=\"285.5,116.72,406.5,116.72,413.5,139.0169,420.5,139.0169,420.5,169.3138,285.5,169.3138,285.5,116.72\" style=\"stroke:#181818;stroke-width:0.5;\"/><line style=\"stroke:#181818;stroke-width:0.5;\" x1=\"285.5\" x2=\"413.5\" y1=\"139.0169\" y2=\"139.0169\"/><text fill=\"#000000\" font-family=\"sans-serif\" font-size=\"14\" lengthAdjust=\"spacing\" textLength=\"115\" x=\"289.5\" y=\"131.7151\">Application Layer</text></a><a href=\"psysml:6cc47e98-b8e7-4ff0-90aa-a6e12ea2ee54\" target=\"_top\" title=\"psysml:6cc47e98-b8e7-4ff0-90aa-a6e12ea2ee54\" xlink:actuate=\"onRequest\" xlink:href=\"psysml:6cc47e98-b8e7-4ff0-90aa-a6e12ea2ee54\" xlink:show=\"new\" xlink:title=\"psysml:6cc47e98-b8e7-4ff0-90aa-a6e12ea2ee54\" xlink:type=\"simple\"><polygon fill=\"#FFFFFF\" points=\"298,229.72,394,229.72,401,252.0169,408,252.0169,408,282.3138,298,282.3138,298,229.72\" style=\"stroke:#181818;stroke-width:0.5;\"/><line style=\"stroke:#181818;stroke-width:0.5;\" x1=\"298\" x2=\"401\" y1=\"252.0169\" y2=\"252.0169\"/><text fill=\"#000000\" font-family=\"sans-serif\" font-size=\"14\" lengthAdjust=\"spacing\" textLength=\"90\" x=\"302\" y=\"244.7151\">Service Layer</text></a><a href=\"psysml:a41e95d1-6586-47c5-87a0-a52adaa3773e\" target=\"_top\" title=\"psysml:a41e95d1-6586-47c5-87a0-a52adaa3773e\" xlink:actuate=\"onRequest\" xlink:href=\"psysml:a41e95d1-6586-47c5-87a0-a52adaa3773e\" xlink:show=\"new\" xlink:title=\"psysml:a41e95d1-6586-47c5-87a0-a52adaa3773e\" xlink:type=\"simple\"><polygon fill=\"#FFFFFF\" points=\"307,342.72,385,342.72,392,365.0169,399,365.0169,399,395.3138,307,395.3138,307,342.72\" style=\"stroke:#181818;stroke-width:0.5;\"/><line style=\"stroke:#181818;stroke-width:0.5;\" x1=\"307\" x2=\"392\" y1=\"365.0169\" y2=\"365.0169\"/><text fill=\"#000000\" font-family=\"sans-serif\" font-size=\"14\" lengthAdjust=\"spacing\" textLength=\"72\" x=\"311\" y=\"357.7151\">Data Layer</text></a><!--MD5=[1f1cd8e6dd4c1b2ca2aaccc9b9bcea6e]\n",
       "link E1 to E2--><g id=\"link_E1_E2\"><a href=\"psysml:98ffbcea-2ad0-443f-b206-57004efde221\" target=\"_top\" title=\"psysml:98ffbcea-2ad0-443f-b206-57004efde221\" xlink:actuate=\"onRequest\" xlink:href=\"psysml:98ffbcea-2ad0-443f-b206-57004efde221\" xlink:show=\"new\" xlink:title=\"psysml:98ffbcea-2ad0-443f-b206-57004efde221\" xlink:type=\"simple\"><path d=\"M250,34.06 C250,36.29 250,43.655 250,53.5813 C250,58.5444 250,64.1478 250,70.0698 C250,70.8101 250,71.5553 250,72.3049 C250,72.6797 250,73.0556 250,73.4325 \" fill=\"none\" id=\"E1-to-E2\" style=\"stroke:#181818;stroke-width:1.0;stroke-dasharray:7.0,7.0;\"/><polygon fill=\"#181818\" points=\"250,73.4325,254,64.4325,250,68.4325,246,64.4325,250,73.4325\" style=\"stroke:#181818;stroke-width:1.0;\"/><text fill=\"#000000\" font-family=\"sans-serif\" font-size=\"13\" lengthAdjust=\"spacing\" textLength=\"65\" x=\"184\" y=\"84.3869\">«import»*</text></a></g><!--MD5=[af87c684e3b0d8be13c1a698a818ef1e]\n",
       "link E3 to E4--><g id=\"link_E3_E4\"><a href=\"psysml:94e1a3f7-50a9-4c8e-a4e8-5ce452ddfecf\" target=\"_top\" title=\"psysml:94e1a3f7-50a9-4c8e-a4e8-5ce452ddfecf\" xlink:actuate=\"onRequest\" xlink:href=\"psysml:94e1a3f7-50a9-4c8e-a4e8-5ce452ddfecf\" xlink:show=\"new\" xlink:title=\"psysml:94e1a3f7-50a9-4c8e-a4e8-5ce452ddfecf\" xlink:type=\"simple\"><path d=\"M353,170 C353,170 353,221.63 353,221.63 \" fill=\"none\" id=\"E3-to-E4\" style=\"stroke:#181818;stroke-width:1.0;stroke-dasharray:7.0,7.0;\"/><polygon fill=\"#181818\" points=\"353,229.63,356,221.63,350,221.63,353,229.63\" style=\"stroke:#181818;stroke-width:1.0;\"/><text fill=\"#000000\" font-family=\"sans-serif\" font-size=\"13\" lengthAdjust=\"spacing\" textLength=\"64\" x=\"288\" y=\"191.8869\">«depend»</text></a></g><!--MD5=[1b7591eae5389033d8d09a9d6721a717]\n",
       "link E4 to E5--><g id=\"link_E4_E5\"><a href=\"psysml:9da5c160-44e8-44ec-9936-ca4a4075f5f4\" target=\"_top\" title=\"psysml:9da5c160-44e8-44ec-9936-ca4a4075f5f4\" xlink:actuate=\"onRequest\" xlink:href=\"psysml:9da5c160-44e8-44ec-9936-ca4a4075f5f4\" xlink:show=\"new\" xlink:title=\"psysml:9da5c160-44e8-44ec-9936-ca4a4075f5f4\" xlink:type=\"simple\"><path d=\"M353,283 C353,283 353,334.63 353,334.63 \" fill=\"none\" id=\"E4-to-E5\" style=\"stroke:#181818;stroke-width:1.0;stroke-dasharray:7.0,7.0;\"/><polygon fill=\"#181818\" points=\"353,342.63,356,334.63,350,334.63,353,342.63\" style=\"stroke:#181818;stroke-width:1.0;\"/><text fill=\"#000000\" font-family=\"sans-serif\" font-size=\"13\" lengthAdjust=\"spacing\" textLength=\"64\" x=\"288\" y=\"304.8869\">«depend»</text></a></g><!--MD5=[c5e8897d989ce984f93528998a7150fe]\n",
       "link E8 to E6--><g id=\"link_E8_E6\"><a href=\"psysml:cc6cc763-fa59-42bd-a700-018e736c1371\" target=\"_top\" title=\"psysml:cc6cc763-fa59-42bd-a700-018e736c1371\" xlink:actuate=\"onRequest\" xlink:href=\"psysml:cc6cc763-fa59-42bd-a700-018e736c1371\" xlink:show=\"new\" xlink:title=\"psysml:cc6cc763-fa59-42bd-a700-018e736c1371\" xlink:type=\"simple\"><path d=\"M101.5,167.46 C101.5,167.46 101.5,224.02 101.5,224.02 \" fill=\"none\" id=\"E8-to-E6\" style=\"stroke:#181818;stroke-width:1.0;stroke-dasharray:7.0,7.0;\"/><polygon fill=\"#181818\" points=\"101.5,232.02,104.5,224.02,98.5,224.02,101.5,232.02\" style=\"stroke:#181818;stroke-width:1.0;\"/><text fill=\"#000000\" font-family=\"sans-serif\" font-size=\"13\" lengthAdjust=\"spacing\" textLength=\"64\" x=\"36.5\" y=\"191.8069\">«depend»</text></a></g><!--MD5=[bfa3c8b0d15052fdf50ae9310b491027]\n",
       "link E8 to E7--><g id=\"link_E8_E7\"><a href=\"psysml:cc6cc763-fa59-42bd-a700-018e736c1371\" target=\"_top\" title=\"psysml:cc6cc763-fa59-42bd-a700-018e736c1371\" xlink:actuate=\"onRequest\" xlink:href=\"psysml:cc6cc763-fa59-42bd-a700-018e736c1371\" xlink:show=\"new\" xlink:title=\"psysml:cc6cc763-fa59-42bd-a700-018e736c1371\" xlink:type=\"simple\"><path d=\"M154.5,167.46 C154.5,167.46 154.5,224.02 154.5,224.02 \" fill=\"none\" id=\"E8-to-E7\" style=\"stroke:#181818;stroke-width:1.0;stroke-dasharray:7.0,7.0;\"/><polygon fill=\"#181818\" points=\"154.5,232.02,157.5,224.02,151.5,224.02,154.5,232.02\" style=\"stroke:#181818;stroke-width:1.0;\"/><text fill=\"#000000\" font-family=\"sans-serif\" font-size=\"13\" lengthAdjust=\"spacing\" textLength=\"64\" x=\"89.5\" y=\"208.8069\">«depend»</text></a></g><!--MD5=[6c12ed4d080c437a389fa92c8715caab]\n",
       "@startuml\r\n",
       "skin sysmlbw\r\n",
       "skinparam monochrome true\r\n",
       "skinparam wrapWidth 300\r\n",
       "hide circle\r\n",
       "skinparam linetype ortho\r\n",
       "\r\n",
       "package \"DependencyTest\" as E1  [[psysml:7dee102c-3f89-42b9-9919-3eaa1d7109e5 ]]  {\r\n",
       "package \"System\" as E2  [[psysml:da04b59d-3286-4d3f-bbc3-7e7bb49d7c5d ]]  {\r\n",
       "package \"Application Layer\" as E3  [[psysml:174d7b64-e31a-4a54-99c4-d88bb0afa8af ]]  {\r\n",
       "}\r\n",
       "package \"Service Layer\" as E4  [[psysml:6cc47e98-b8e7-4ff0-90aa-a6e12ea2ee54 ]]  {\r\n",
       "}\r\n",
       "package \"Data Layer\" as E5  [[psysml:a41e95d1-6586-47c5-87a0-a52adaa3773e ]]  {\r\n",
       "}\r\n",
       "}\r\n",
       "comp usage \"x  \" as E6  <<(T,blue) attribute>> [[psysml:fa1eb9e1-3558-4ac6-ae6a-7c42660b9dca ]] {\r\n",
       "}\r\n",
       "comp usage \"y  \" as E7  <<(T,blue) attribute>> [[psysml:a1db1b5d-0100-40b0-bd9f-2e7223fe2e6d ]] {\r\n",
       "}\r\n",
       "comp usage \"z  \" as E8  <<(T,blue) attribute>> [[psysml:179fcb88-b86f-4c8c-8d3f-0f88ad709e86 ]] {\r\n",
       "}\r\n",
       "}\r\n",
       "E1 ..> E2 [[psysml:98ffbcea-2ad0-443f-b206-57004efde221 ]] : <<import>>*\r\n",
       "E3 ..>> E4 [[psysml:94e1a3f7-50a9-4c8e-a4e8-5ce452ddfecf ]] : <<depend>>\r\n",
       "E4 ..>> E5 [[psysml:9da5c160-44e8-44ec-9936-ca4a4075f5f4 ]] : <<depend>>\r\n",
       "E8 ..>> E6 [[psysml:cc6cc763-fa59-42bd-a700-018e736c1371 ]] : <<depend>>\r\n",
       "E8 ..>> E7 [[psysml:cc6cc763-fa59-42bd-a700-018e736c1371 ]] : <<depend>>\r\n",
       "@enduml\r\n",
       "\n",
       "PlantUML version 1.2022.7(Mon Aug 22 17:01:30 UTC 2022)\n",
       "(EPL source distribution)\n",
       "Java Runtime: OpenJDK Runtime Environment\n",
       "JVM: OpenJDK 64-Bit Server VM\n",
       "Default Encoding: UTF-8\n",
       "Language: en\n",
       "Country: null\n",
       "--></g></svg>"
      ]
     },
     "execution_count": 57,
     "metadata": {},
     "output_type": "execute_result"
    }
   ],
   "source": [
    "%viz --style=\"ORTHOLINE\" --view=\"MIXED\" \"DependencyTest\""
   ]
  }
 ],
 "metadata": {
  "kernelspec": {
   "display_name": "SysML",
   "language": "sysml",
   "name": "sysml"
  },
  "language_info": {
   "codemirror_mode": "sysml",
   "file_extension": ".sysml",
   "mimetype": "text/x-sysml",
   "name": "SysML",
   "pygments_lexer": "java",
   "version": "1.0.0"
  }
 },
 "nbformat": 4,
 "nbformat_minor": 5
}
