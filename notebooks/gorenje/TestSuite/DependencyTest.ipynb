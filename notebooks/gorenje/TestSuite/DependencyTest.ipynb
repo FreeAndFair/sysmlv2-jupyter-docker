{
 "cells": [
  {
   "cell_type": "markdown",
   "id": "structured-vegetable",
   "metadata": {},
   "source": [
    "# SysML v2 Test Suite\n",
    "\n",
    "This can notebook can be cleared using menu `Edit --> Clear All Outputs` and then all cells can be\n",
    "run using menu `Run --> Run All Cells`.\n",
    "\n",
    "**WARNING**: This file is generated, all modifications here will be ignored.\n"
   ]
  },
  {
   "cell_type": "markdown",
   "id": "functioning-dictionary",
   "metadata": {},
   "source": [
    "## File: ../../sysml/src/examples/Simple Tests/DependencyTest.sysml"
   ]
  },
  {
   "cell_type": "code",
   "execution_count": 1,
   "id": "respected-oregon",
   "metadata": {
    "execution": {
     "iopub.execute_input": "2021-03-26T13:04:31.081269Z",
     "iopub.status.busy": "2021-03-26T13:04:31.080314Z",
     "iopub.status.idle": "2021-03-26T13:04:31.138687Z",
     "shell.execute_reply": "2021-03-26T13:04:31.138217Z"
    }
   },
   "outputs": [
    {
     "data": {
      "text/plain": [
       "Package DependencyTest (80f9add1-e0ff-4261-b5ce-f9e033bb0936)\n"
      ]
     },
     "execution_count": 1,
     "metadata": {},
     "output_type": "execute_result"
    }
   ],
   "source": [
    "package DependencyTest {\n",
    "\t\n",
    "\tpackage System {\n",
    "\t\tpackage 'Application Layer';\n",
    "\t\tpackage 'Service Layer';\n",
    "\t\tpackage 'Data Layer';\n",
    "\t}\n",
    "\t\n",
    "\timport System::*;\n",
    "\t\n",
    "\tdependency Use from 'Application Layer' to 'Service Layer';\n",
    "\tdependency from 'Service Layer' to 'Data Layer';\n",
    "\t\n",
    "\tattribute x;\n",
    "\tattribute y;\n",
    "\tattribute z;\n",
    "\t\n",
    "\tdependency z to x, y;\n",
    "\t\n",
    "}"
   ]
  },
  {
   "cell_type": "code",
   "execution_count": 2,
   "id": "romantic-therapy",
   "metadata": {
    "execution": {
     "iopub.execute_input": "2021-03-26T13:04:31.190381Z",
     "iopub.status.busy": "2021-03-26T13:04:31.189978Z",
     "iopub.status.idle": "2021-03-26T13:04:31.727776Z",
     "shell.execute_reply": "2021-03-26T13:04:31.726254Z"
    }
   },
   "outputs": [
    {
     "data": {
      "image/svg+xml": [
       "<?xml version=\"1.0\" encoding=\"UTF-8\" standalone=\"no\"?><svg xmlns=\"http://www.w3.org/2000/svg\" xmlns:xlink=\"http://www.w3.org/1999/xlink\" contentScriptType=\"application/ecmascript\" contentStyleType=\"text/css\" height=\"449px\" preserveAspectRatio=\"none\" style=\"width:489px;height:449px;\" version=\"1.1\" viewBox=\"0 0 489 449\" width=\"489px\" zoomAndPan=\"magnify\"><defs/><g><!--MD5=[fbc87193dbaf4d95561dea2c320d4a47]\n",
       "cluster E1--><a href=\"psysml:c069fb4a-0cab-46ce-ae30-79221b6c6030\" target=\"_top\" title=\"psysml:c069fb4a-0cab-46ce-ae30-79221b6c6030\" xlink:actuate=\"onRequest\" xlink:href=\"psysml:c069fb4a-0cab-46ce-ae30-79221b6c6030\" xlink:show=\"new\" xlink:title=\"psysml:c069fb4a-0cab-46ce-ae30-79221b6c6030\" xlink:type=\"simple\"><polygon fill=\"#FFFFFF\" points=\"16,6,156,6,163,28.2969,467,28.2969,467,437,16,437,16,6\" style=\"stroke: #000000; stroke-width: 1.5;\"/><line style=\"stroke: #000000; stroke-width: 1.5;\" x1=\"16\" x2=\"163\" y1=\"28.2969\" y2=\"28.2969\"/><text fill=\"#000000\" font-family=\"sans-serif\" font-size=\"14\" font-weight=\"bold\" lengthAdjust=\"spacingAndGlyphs\" textLength=\"134\" x=\"20\" y=\"20.9951\">DependencyTest</text></a><!--MD5=[e4f7fae6ed58524ba242bb0b0d3be6b7]\n",
       "cluster E2--><a href=\"psysml:0036a7be-5206-4df9-ab28-301972427778\" target=\"_top\" title=\"psysml:0036a7be-5206-4df9-ab28-301972427778\" xlink:actuate=\"onRequest\" xlink:href=\"psysml:0036a7be-5206-4df9-ab28-301972427778\" xlink:show=\"new\" xlink:title=\"psysml:0036a7be-5206-4df9-ab28-301972427778\" xlink:type=\"simple\"><polygon fill=\"#FFFFFF\" points=\"255,49,319,49,326,71.2969,443,71.2969,443,413,255,413,255,49\" style=\"stroke: #000000; stroke-width: 1.5;\"/><line style=\"stroke: #000000; stroke-width: 1.5;\" x1=\"255\" x2=\"326\" y1=\"71.2969\" y2=\"71.2969\"/><text fill=\"#000000\" font-family=\"sans-serif\" font-size=\"14\" font-weight=\"bold\" lengthAdjust=\"spacingAndGlyphs\" textLength=\"58\" x=\"259\" y=\"63.9951\">System</text></a><!--MD5=[60a26617385b1d2d0262a64233df1f8d]\n",
       "class E6--><a href=\"psysml:ca3c2c7b-3718-4538-a84c-29984e19a6f6\" target=\"_top\" title=\"psysml:ca3c2c7b-3718-4538-a84c-29984e19a6f6\" xlink:actuate=\"onRequest\" xlink:href=\"psysml:ca3c2c7b-3718-4538-a84c-29984e19a6f6\" xlink:show=\"new\" xlink:title=\"psysml:ca3c2c7b-3718-4538-a84c-29984e19a6f6\" xlink:type=\"simple\"><rect fill=\"#FFFFFF\" height=\"45.9375\" id=\"E6\" rx=\"10\" ry=\"10\" style=\"stroke: #383838; stroke-width: 1.5;\" width=\"71\" x=\"32.5\" y=\"217.5\"/><text fill=\"#000000\" font-family=\"sans-serif\" font-size=\"12\" font-style=\"italic\" lengthAdjust=\"spacingAndGlyphs\" textLength=\"69\" x=\"33.5\" y=\"233.6387\">«attribute»</text><text fill=\"#000000\" font-family=\"sans-serif\" font-size=\"12\" lengthAdjust=\"spacingAndGlyphs\" textLength=\"6\" x=\"65\" y=\"247.6074\">x</text><line style=\"stroke: #383838; stroke-width: 1.5;\" x1=\"33.5\" x2=\"102.5\" y1=\"255.4375\" y2=\"255.4375\"/></a><!--MD5=[2156ba9850f5573cc1fc38a6a4b2f02b]\n",
       "class E7--><a href=\"psysml:f187cc38-895f-43c9-b55f-372a79474975\" target=\"_top\" title=\"psysml:f187cc38-895f-43c9-b55f-372a79474975\" xlink:actuate=\"onRequest\" xlink:href=\"psysml:f187cc38-895f-43c9-b55f-372a79474975\" xlink:show=\"new\" xlink:title=\"psysml:f187cc38-895f-43c9-b55f-372a79474975\" xlink:type=\"simple\"><rect fill=\"#FFFFFF\" height=\"45.9375\" id=\"E7\" rx=\"10\" ry=\"10\" style=\"stroke: #383838; stroke-width: 1.5;\" width=\"71\" x=\"138.5\" y=\"217.5\"/><text fill=\"#000000\" font-family=\"sans-serif\" font-size=\"12\" font-style=\"italic\" lengthAdjust=\"spacingAndGlyphs\" textLength=\"69\" x=\"139.5\" y=\"233.6387\">«attribute»</text><text fill=\"#000000\" font-family=\"sans-serif\" font-size=\"12\" lengthAdjust=\"spacingAndGlyphs\" textLength=\"6\" x=\"171\" y=\"247.6074\">y</text><line style=\"stroke: #383838; stroke-width: 1.5;\" x1=\"139.5\" x2=\"208.5\" y1=\"255.4375\" y2=\"255.4375\"/></a><!--MD5=[b9389687b975829384b498ac4b7476b2]\n",
       "class E8--><a href=\"psysml:c8a5167c-621d-4bfa-8ffa-e3ed6a854bed\" target=\"_top\" title=\"psysml:c8a5167c-621d-4bfa-8ffa-e3ed6a854bed\" xlink:actuate=\"onRequest\" xlink:href=\"psysml:c8a5167c-621d-4bfa-8ffa-e3ed6a854bed\" xlink:show=\"new\" xlink:title=\"psysml:c8a5167c-621d-4bfa-8ffa-e3ed6a854bed\" xlink:type=\"simple\"><rect fill=\"#FFFFFF\" height=\"45.9375\" id=\"E8\" rx=\"10\" ry=\"10\" style=\"stroke: #383838; stroke-width: 1.5;\" width=\"71\" x=\"84.5\" y=\"87.5\"/><text fill=\"#000000\" font-family=\"sans-serif\" font-size=\"12\" font-style=\"italic\" lengthAdjust=\"spacingAndGlyphs\" textLength=\"69\" x=\"85.5\" y=\"103.6387\">«attribute»</text><text fill=\"#000000\" font-family=\"sans-serif\" font-size=\"12\" lengthAdjust=\"spacingAndGlyphs\" textLength=\"5\" x=\"117.5\" y=\"117.6074\">z</text><line style=\"stroke: #383838; stroke-width: 1.5;\" x1=\"85.5\" x2=\"154.5\" y1=\"125.4375\" y2=\"125.4375\"/></a><a href=\"psysml:b9058297-d753-442e-8571-9bee33c166c8\" target=\"_top\" title=\"psysml:b9058297-d753-442e-8571-9bee33c166c8\" xlink:actuate=\"onRequest\" xlink:href=\"psysml:b9058297-d753-442e-8571-9bee33c166c8\" xlink:show=\"new\" xlink:title=\"psysml:b9058297-d753-442e-8571-9bee33c166c8\" xlink:type=\"simple\"><polygon fill=\"#FFFFFF\" points=\"271,84,413,84,420,106.2969,427,106.2969,427,136.5938,271,136.5938,271,84\" style=\"stroke: #000000; stroke-width: 1.5;\"/><line style=\"stroke: #000000; stroke-width: 1.5;\" x1=\"271\" x2=\"420\" y1=\"106.2969\" y2=\"106.2969\"/><text fill=\"#000000\" font-family=\"sans-serif\" font-size=\"14\" font-weight=\"bold\" lengthAdjust=\"spacingAndGlyphs\" textLength=\"136\" x=\"275\" y=\"98.9951\">Application Layer</text></a><a href=\"psysml:f007974c-308f-4828-8f2c-f39213f4e302\" target=\"_top\" title=\"psysml:f007974c-308f-4828-8f2c-f39213f4e302\" xlink:actuate=\"onRequest\" xlink:href=\"psysml:f007974c-308f-4828-8f2c-f39213f4e302\" xlink:show=\"new\" xlink:title=\"psysml:f007974c-308f-4828-8f2c-f39213f4e302\" xlink:type=\"simple\"><polygon fill=\"#FFFFFF\" points=\"285,214,399,214,406,236.2969,413,236.2969,413,266.5938,285,266.5938,285,214\" style=\"stroke: #000000; stroke-width: 1.5;\"/><line style=\"stroke: #000000; stroke-width: 1.5;\" x1=\"285\" x2=\"406\" y1=\"236.2969\" y2=\"236.2969\"/><text fill=\"#000000\" font-family=\"sans-serif\" font-size=\"14\" font-weight=\"bold\" lengthAdjust=\"spacingAndGlyphs\" textLength=\"108\" x=\"289\" y=\"228.9951\">Service Layer</text></a><a href=\"psysml:7870e797-441e-4743-978b-6b23dab0b8d1\" target=\"_top\" title=\"psysml:7870e797-441e-4743-978b-6b23dab0b8d1\" xlink:actuate=\"onRequest\" xlink:href=\"psysml:7870e797-441e-4743-978b-6b23dab0b8d1\" xlink:show=\"new\" xlink:title=\"psysml:7870e797-441e-4743-978b-6b23dab0b8d1\" xlink:type=\"simple\"><polygon fill=\"#FFFFFF\" points=\"297,344,387,344,394,366.2969,401,366.2969,401,396.5938,297,396.5938,297,344\" style=\"stroke: #000000; stroke-width: 1.5;\"/><line style=\"stroke: #000000; stroke-width: 1.5;\" x1=\"297\" x2=\"394\" y1=\"366.2969\" y2=\"366.2969\"/><text fill=\"#000000\" font-family=\"sans-serif\" font-size=\"14\" font-weight=\"bold\" lengthAdjust=\"spacingAndGlyphs\" textLength=\"84\" x=\"301\" y=\"358.9951\">Data Layer</text></a><!--MD5=[af87c684e3b0d8be13c1a698a818ef1e]\n",
       "link E3 to E4--><a href=\"psysml:af0245ca-a479-404d-840a-c478ec8f55f1\" target=\"_top\" title=\"psysml:af0245ca-a479-404d-840a-c478ec8f55f1\" xlink:actuate=\"onRequest\" xlink:href=\"psysml:af0245ca-a479-404d-840a-c478ec8f55f1\" xlink:show=\"new\" xlink:title=\"psysml:af0245ca-a479-404d-840a-c478ec8f55f1\" xlink:type=\"simple\"><path d=\"M349,137.1 C349,156.8 349,184.22 349,205.73 \" fill=\"none\" id=\"E3-&gt;E4\" style=\"stroke: #383838; stroke-width: 1.0; stroke-dasharray: 7.0,7.0;\"/><polygon fill=\"#383838\" points=\"349,213.95,352,205.95,346,205.95,349,213.95\" style=\"stroke: #383838; stroke-width: 1.0;\"/><text fill=\"#000000\" font-family=\"sans-serif\" font-size=\"13\" lengthAdjust=\"spacingAndGlyphs\" textLength=\"64\" x=\"350\" y=\"180.0669\">«depend»</text></a><!--MD5=[1b7591eae5389033d8d09a9d6721a717]\n",
       "link E4 to E5--><a href=\"psysml:aeab59fe-e3bd-4e23-96a4-136d0d468de6\" target=\"_top\" title=\"psysml:aeab59fe-e3bd-4e23-96a4-136d0d468de6\" xlink:actuate=\"onRequest\" xlink:href=\"psysml:aeab59fe-e3bd-4e23-96a4-136d0d468de6\" xlink:show=\"new\" xlink:title=\"psysml:aeab59fe-e3bd-4e23-96a4-136d0d468de6\" xlink:type=\"simple\"><path d=\"M349,267.1 C349,286.8 349,314.22 349,335.73 \" fill=\"none\" id=\"E4-&gt;E5\" style=\"stroke: #383838; stroke-width: 1.0; stroke-dasharray: 7.0,7.0;\"/><polygon fill=\"#383838\" points=\"349,343.95,352,335.95,346,335.95,349,343.95\" style=\"stroke: #383838; stroke-width: 1.0;\"/><text fill=\"#000000\" font-family=\"sans-serif\" font-size=\"13\" lengthAdjust=\"spacingAndGlyphs\" textLength=\"64\" x=\"350\" y=\"310.0669\">«depend»</text></a><!--MD5=[c5e8897d989ce984f93528998a7150fe]\n",
       "link E8 to E6--><a href=\"psysml:e01a683f-5a6a-44b0-a0de-a423aeb5ad40\" target=\"_top\" title=\"psysml:e01a683f-5a6a-44b0-a0de-a423aeb5ad40\" xlink:actuate=\"onRequest\" xlink:href=\"psysml:e01a683f-5a6a-44b0-a0de-a423aeb5ad40\" xlink:show=\"new\" xlink:title=\"psysml:e01a683f-5a6a-44b0-a0de-a423aeb5ad40\" xlink:type=\"simple\"><path d=\"M89.42,133.6 C79.35,142.68 69.37,154.11 64,167 C58.5,180.2 58.66,195.94 60.54,209.38 \" fill=\"none\" id=\"E8-&gt;E6\" style=\"stroke: #383838; stroke-width: 1.0; stroke-dasharray: 7.0,7.0;\"/><polygon fill=\"#383838\" points=\"61.9,217.4,63.517,209.0104,57.6018,210.0159,61.9,217.4\" style=\"stroke: #383838; stroke-width: 1.0;\"/><text fill=\"#000000\" font-family=\"sans-serif\" font-size=\"13\" lengthAdjust=\"spacingAndGlyphs\" textLength=\"64\" x=\"65\" y=\"180.0669\">«depend»</text></a><!--MD5=[bfa3c8b0d15052fdf50ae9310b491027]\n",
       "link E8 to E7--><a href=\"psysml:e01a683f-5a6a-44b0-a0de-a423aeb5ad40\" target=\"_top\" title=\"psysml:e01a683f-5a6a-44b0-a0de-a423aeb5ad40\" xlink:actuate=\"onRequest\" xlink:href=\"psysml:e01a683f-5a6a-44b0-a0de-a423aeb5ad40\" xlink:show=\"new\" xlink:title=\"psysml:e01a683f-5a6a-44b0-a0de-a423aeb5ad40\" xlink:type=\"simple\"><path d=\"M129.28,133.5 C138.17,154.57 151.64,186.5 161.47,209.81 \" fill=\"none\" id=\"E8-&gt;E7\" style=\"stroke: #383838; stroke-width: 1.0; stroke-dasharray: 7.0,7.0;\"/><polygon fill=\"#383838\" points=\"164.66,217.35,164.3241,208.8126,158.7933,211.1385,164.66,217.35\" style=\"stroke: #383838; stroke-width: 1.0;\"/><text fill=\"#000000\" font-family=\"sans-serif\" font-size=\"13\" lengthAdjust=\"spacingAndGlyphs\" textLength=\"64\" x=\"151\" y=\"180.0669\">«depend»</text></a><!--MD5=[03ef903aa0af8ca0bc1d6702b170b582]\n",
       "@startuml\r\n",
       " skinparam monochrome true\r\n",
       "skinparam classbackgroundcolor white\r\n",
       "skinparam shadowing false\r\n",
       "skinparam wrapWidth 300\r\n",
       "hide circle\r\n",
       "\r\n",
       "package \"DependencyTest\" as E1  [[psysml:c069fb4a-0cab-46ce-ae30-79221b6c6030 ]]  {\r\n",
       "package \"System\" as E2  [[psysml:0036a7be-5206-4df9-ab28-301972427778 ]]  {\r\n",
       "package \"Application Layer\" as E3  [[psysml:b9058297-d753-442e-8571-9bee33c166c8 ]]  {\r\n",
       "}\r\n",
       "package \"Service Layer\" as E4  [[psysml:f007974c-308f-4828-8f2c-f39213f4e302 ]]  {\r\n",
       "}\r\n",
       "package \"Data Layer\" as E5  [[psysml:7870e797-441e-4743-978b-6b23dab0b8d1 ]]  {\r\n",
       "}\r\n",
       "}\r\n",
       "comp usage \"x\" as E6  <<(T,blue)attribute>> [[psysml:ca3c2c7b-3718-4538-a84c-29984e19a6f6 ]] {\r\n",
       "}\r\n",
       "comp usage \"y\" as E7  <<(T,blue)attribute>> [[psysml:f187cc38-895f-43c9-b55f-372a79474975 ]] {\r\n",
       "}\r\n",
       "comp usage \"z\" as E8  <<(T,blue)attribute>> [[psysml:c8a5167c-621d-4bfa-8ffa-e3ed6a854bed ]] {\r\n",
       "}\r\n",
       "E3 ..>> E4 [[psysml:af0245ca-a479-404d-840a-c478ec8f55f1 ]] : <<depend>>\r\n",
       "E4 ..>> E5 [[psysml:aeab59fe-e3bd-4e23-96a4-136d0d468de6 ]] : <<depend>>\r\n",
       "E8 ..>> E6 [[psysml:e01a683f-5a6a-44b0-a0de-a423aeb5ad40 ]] : <<depend>>\r\n",
       "E8 ..>> E7 [[psysml:e01a683f-5a6a-44b0-a0de-a423aeb5ad40 ]] : <<depend>>\r\n",
       "}\r\n",
       "@enduml\r\n",
       "\n",
       "PlantUML version 1.2020.13(Sat Jun 13 12:26:38 UTC 2020)\n",
       "(EPL source distribution)\n",
       "Java Runtime: OpenJDK Runtime Environment\n",
       "JVM: OpenJDK 64-Bit Server VM\n",
       "Default Encoding: UTF-8\n",
       "Language: en\n",
       "Country: null\n",
       "--></g></svg>"
      ]
     },
     "execution_count": 2,
     "metadata": {},
     "output_type": "execute_result"
    }
   ],
   "source": [
    "%viz --style=\"COMPTREE\" --view=\"Default\" \"DependencyTest\""
   ]
  },
  {
   "cell_type": "code",
   "execution_count": 3,
   "id": "genetic-insurance",
   "metadata": {
    "execution": {
     "iopub.execute_input": "2021-03-26T13:04:31.781330Z",
     "iopub.status.busy": "2021-03-26T13:04:31.780801Z",
     "iopub.status.idle": "2021-03-26T13:04:31.850045Z",
     "shell.execute_reply": "2021-03-26T13:04:31.850378Z"
    }
   },
   "outputs": [
    {
     "data": {
      "image/svg+xml": [
       "<?xml version=\"1.0\" encoding=\"UTF-8\" standalone=\"no\"?><svg xmlns=\"http://www.w3.org/2000/svg\" xmlns:xlink=\"http://www.w3.org/1999/xlink\" contentScriptType=\"application/ecmascript\" contentStyleType=\"text/css\" height=\"449px\" preserveAspectRatio=\"none\" style=\"width:489px;height:449px;\" version=\"1.1\" viewBox=\"0 0 489 449\" width=\"489px\" zoomAndPan=\"magnify\"><defs/><g><!--MD5=[fbc87193dbaf4d95561dea2c320d4a47]\n",
       "cluster E1--><a href=\"psysml:c069fb4a-0cab-46ce-ae30-79221b6c6030\" target=\"_top\" title=\"psysml:c069fb4a-0cab-46ce-ae30-79221b6c6030\" xlink:actuate=\"onRequest\" xlink:href=\"psysml:c069fb4a-0cab-46ce-ae30-79221b6c6030\" xlink:show=\"new\" xlink:title=\"psysml:c069fb4a-0cab-46ce-ae30-79221b6c6030\" xlink:type=\"simple\"><polygon fill=\"#FFFFFF\" points=\"16,6,156,6,163,28.2969,467,28.2969,467,437,16,437,16,6\" style=\"stroke: #000000; stroke-width: 1.5;\"/><line style=\"stroke: #000000; stroke-width: 1.5;\" x1=\"16\" x2=\"163\" y1=\"28.2969\" y2=\"28.2969\"/><text fill=\"#000000\" font-family=\"sans-serif\" font-size=\"14\" font-weight=\"bold\" lengthAdjust=\"spacingAndGlyphs\" textLength=\"134\" x=\"20\" y=\"20.9951\">DependencyTest</text></a><!--MD5=[e4f7fae6ed58524ba242bb0b0d3be6b7]\n",
       "cluster E2--><a href=\"psysml:0036a7be-5206-4df9-ab28-301972427778\" target=\"_top\" title=\"psysml:0036a7be-5206-4df9-ab28-301972427778\" xlink:actuate=\"onRequest\" xlink:href=\"psysml:0036a7be-5206-4df9-ab28-301972427778\" xlink:show=\"new\" xlink:title=\"psysml:0036a7be-5206-4df9-ab28-301972427778\" xlink:type=\"simple\"><polygon fill=\"#FFFFFF\" points=\"255,49,319,49,326,71.2969,443,71.2969,443,413,255,413,255,49\" style=\"stroke: #000000; stroke-width: 1.5;\"/><line style=\"stroke: #000000; stroke-width: 1.5;\" x1=\"255\" x2=\"326\" y1=\"71.2969\" y2=\"71.2969\"/><text fill=\"#000000\" font-family=\"sans-serif\" font-size=\"14\" font-weight=\"bold\" lengthAdjust=\"spacingAndGlyphs\" textLength=\"58\" x=\"259\" y=\"63.9951\">System</text></a><!--MD5=[60a26617385b1d2d0262a64233df1f8d]\n",
       "class E6--><a href=\"psysml:ca3c2c7b-3718-4538-a84c-29984e19a6f6\" target=\"_top\" title=\"psysml:ca3c2c7b-3718-4538-a84c-29984e19a6f6\" xlink:actuate=\"onRequest\" xlink:href=\"psysml:ca3c2c7b-3718-4538-a84c-29984e19a6f6\" xlink:show=\"new\" xlink:title=\"psysml:ca3c2c7b-3718-4538-a84c-29984e19a6f6\" xlink:type=\"simple\"><rect fill=\"#FFFFFF\" height=\"45.9375\" id=\"E6\" rx=\"10\" ry=\"10\" style=\"stroke: #383838; stroke-width: 1.5;\" width=\"71\" x=\"32.5\" y=\"217.5\"/><text fill=\"#000000\" font-family=\"sans-serif\" font-size=\"12\" font-style=\"italic\" lengthAdjust=\"spacingAndGlyphs\" textLength=\"69\" x=\"33.5\" y=\"233.6387\">«attribute»</text><text fill=\"#000000\" font-family=\"sans-serif\" font-size=\"12\" lengthAdjust=\"spacingAndGlyphs\" textLength=\"6\" x=\"65\" y=\"247.6074\">x</text><line style=\"stroke: #383838; stroke-width: 1.5;\" x1=\"33.5\" x2=\"102.5\" y1=\"255.4375\" y2=\"255.4375\"/></a><!--MD5=[2156ba9850f5573cc1fc38a6a4b2f02b]\n",
       "class E7--><a href=\"psysml:f187cc38-895f-43c9-b55f-372a79474975\" target=\"_top\" title=\"psysml:f187cc38-895f-43c9-b55f-372a79474975\" xlink:actuate=\"onRequest\" xlink:href=\"psysml:f187cc38-895f-43c9-b55f-372a79474975\" xlink:show=\"new\" xlink:title=\"psysml:f187cc38-895f-43c9-b55f-372a79474975\" xlink:type=\"simple\"><rect fill=\"#FFFFFF\" height=\"45.9375\" id=\"E7\" rx=\"10\" ry=\"10\" style=\"stroke: #383838; stroke-width: 1.5;\" width=\"71\" x=\"138.5\" y=\"217.5\"/><text fill=\"#000000\" font-family=\"sans-serif\" font-size=\"12\" font-style=\"italic\" lengthAdjust=\"spacingAndGlyphs\" textLength=\"69\" x=\"139.5\" y=\"233.6387\">«attribute»</text><text fill=\"#000000\" font-family=\"sans-serif\" font-size=\"12\" lengthAdjust=\"spacingAndGlyphs\" textLength=\"6\" x=\"171\" y=\"247.6074\">y</text><line style=\"stroke: #383838; stroke-width: 1.5;\" x1=\"139.5\" x2=\"208.5\" y1=\"255.4375\" y2=\"255.4375\"/></a><!--MD5=[b9389687b975829384b498ac4b7476b2]\n",
       "class E8--><a href=\"psysml:c8a5167c-621d-4bfa-8ffa-e3ed6a854bed\" target=\"_top\" title=\"psysml:c8a5167c-621d-4bfa-8ffa-e3ed6a854bed\" xlink:actuate=\"onRequest\" xlink:href=\"psysml:c8a5167c-621d-4bfa-8ffa-e3ed6a854bed\" xlink:show=\"new\" xlink:title=\"psysml:c8a5167c-621d-4bfa-8ffa-e3ed6a854bed\" xlink:type=\"simple\"><rect fill=\"#FFFFFF\" height=\"45.9375\" id=\"E8\" rx=\"10\" ry=\"10\" style=\"stroke: #383838; stroke-width: 1.5;\" width=\"71\" x=\"84.5\" y=\"87.5\"/><text fill=\"#000000\" font-family=\"sans-serif\" font-size=\"12\" font-style=\"italic\" lengthAdjust=\"spacingAndGlyphs\" textLength=\"69\" x=\"85.5\" y=\"103.6387\">«attribute»</text><text fill=\"#000000\" font-family=\"sans-serif\" font-size=\"12\" lengthAdjust=\"spacingAndGlyphs\" textLength=\"5\" x=\"117.5\" y=\"117.6074\">z</text><line style=\"stroke: #383838; stroke-width: 1.5;\" x1=\"85.5\" x2=\"154.5\" y1=\"125.4375\" y2=\"125.4375\"/></a><a href=\"psysml:b9058297-d753-442e-8571-9bee33c166c8\" target=\"_top\" title=\"psysml:b9058297-d753-442e-8571-9bee33c166c8\" xlink:actuate=\"onRequest\" xlink:href=\"psysml:b9058297-d753-442e-8571-9bee33c166c8\" xlink:show=\"new\" xlink:title=\"psysml:b9058297-d753-442e-8571-9bee33c166c8\" xlink:type=\"simple\"><polygon fill=\"#FFFFFF\" points=\"271,84,413,84,420,106.2969,427,106.2969,427,136.5938,271,136.5938,271,84\" style=\"stroke: #000000; stroke-width: 1.5;\"/><line style=\"stroke: #000000; stroke-width: 1.5;\" x1=\"271\" x2=\"420\" y1=\"106.2969\" y2=\"106.2969\"/><text fill=\"#000000\" font-family=\"sans-serif\" font-size=\"14\" font-weight=\"bold\" lengthAdjust=\"spacingAndGlyphs\" textLength=\"136\" x=\"275\" y=\"98.9951\">Application Layer</text></a><a href=\"psysml:f007974c-308f-4828-8f2c-f39213f4e302\" target=\"_top\" title=\"psysml:f007974c-308f-4828-8f2c-f39213f4e302\" xlink:actuate=\"onRequest\" xlink:href=\"psysml:f007974c-308f-4828-8f2c-f39213f4e302\" xlink:show=\"new\" xlink:title=\"psysml:f007974c-308f-4828-8f2c-f39213f4e302\" xlink:type=\"simple\"><polygon fill=\"#FFFFFF\" points=\"285,214,399,214,406,236.2969,413,236.2969,413,266.5938,285,266.5938,285,214\" style=\"stroke: #000000; stroke-width: 1.5;\"/><line style=\"stroke: #000000; stroke-width: 1.5;\" x1=\"285\" x2=\"406\" y1=\"236.2969\" y2=\"236.2969\"/><text fill=\"#000000\" font-family=\"sans-serif\" font-size=\"14\" font-weight=\"bold\" lengthAdjust=\"spacingAndGlyphs\" textLength=\"108\" x=\"289\" y=\"228.9951\">Service Layer</text></a><a href=\"psysml:7870e797-441e-4743-978b-6b23dab0b8d1\" target=\"_top\" title=\"psysml:7870e797-441e-4743-978b-6b23dab0b8d1\" xlink:actuate=\"onRequest\" xlink:href=\"psysml:7870e797-441e-4743-978b-6b23dab0b8d1\" xlink:show=\"new\" xlink:title=\"psysml:7870e797-441e-4743-978b-6b23dab0b8d1\" xlink:type=\"simple\"><polygon fill=\"#FFFFFF\" points=\"297,344,387,344,394,366.2969,401,366.2969,401,396.5938,297,396.5938,297,344\" style=\"stroke: #000000; stroke-width: 1.5;\"/><line style=\"stroke: #000000; stroke-width: 1.5;\" x1=\"297\" x2=\"394\" y1=\"366.2969\" y2=\"366.2969\"/><text fill=\"#000000\" font-family=\"sans-serif\" font-size=\"14\" font-weight=\"bold\" lengthAdjust=\"spacingAndGlyphs\" textLength=\"84\" x=\"301\" y=\"358.9951\">Data Layer</text></a><!--MD5=[af87c684e3b0d8be13c1a698a818ef1e]\n",
       "link E3 to E4--><a href=\"psysml:af0245ca-a479-404d-840a-c478ec8f55f1\" target=\"_top\" title=\"psysml:af0245ca-a479-404d-840a-c478ec8f55f1\" xlink:actuate=\"onRequest\" xlink:href=\"psysml:af0245ca-a479-404d-840a-c478ec8f55f1\" xlink:show=\"new\" xlink:title=\"psysml:af0245ca-a479-404d-840a-c478ec8f55f1\" xlink:type=\"simple\"><path d=\"M349,137.1 C349,156.8 349,184.22 349,205.73 \" fill=\"none\" id=\"E3-&gt;E4\" style=\"stroke: #383838; stroke-width: 1.0; stroke-dasharray: 7.0,7.0;\"/><polygon fill=\"#383838\" points=\"349,213.95,352,205.95,346,205.95,349,213.95\" style=\"stroke: #383838; stroke-width: 1.0;\"/><text fill=\"#000000\" font-family=\"sans-serif\" font-size=\"13\" lengthAdjust=\"spacingAndGlyphs\" textLength=\"64\" x=\"350\" y=\"180.0669\">«depend»</text></a><!--MD5=[1b7591eae5389033d8d09a9d6721a717]\n",
       "link E4 to E5--><a href=\"psysml:aeab59fe-e3bd-4e23-96a4-136d0d468de6\" target=\"_top\" title=\"psysml:aeab59fe-e3bd-4e23-96a4-136d0d468de6\" xlink:actuate=\"onRequest\" xlink:href=\"psysml:aeab59fe-e3bd-4e23-96a4-136d0d468de6\" xlink:show=\"new\" xlink:title=\"psysml:aeab59fe-e3bd-4e23-96a4-136d0d468de6\" xlink:type=\"simple\"><path d=\"M349,267.1 C349,286.8 349,314.22 349,335.73 \" fill=\"none\" id=\"E4-&gt;E5\" style=\"stroke: #383838; stroke-width: 1.0; stroke-dasharray: 7.0,7.0;\"/><polygon fill=\"#383838\" points=\"349,343.95,352,335.95,346,335.95,349,343.95\" style=\"stroke: #383838; stroke-width: 1.0;\"/><text fill=\"#000000\" font-family=\"sans-serif\" font-size=\"13\" lengthAdjust=\"spacingAndGlyphs\" textLength=\"64\" x=\"350\" y=\"310.0669\">«depend»</text></a><!--MD5=[c5e8897d989ce984f93528998a7150fe]\n",
       "link E8 to E6--><a href=\"psysml:e01a683f-5a6a-44b0-a0de-a423aeb5ad40\" target=\"_top\" title=\"psysml:e01a683f-5a6a-44b0-a0de-a423aeb5ad40\" xlink:actuate=\"onRequest\" xlink:href=\"psysml:e01a683f-5a6a-44b0-a0de-a423aeb5ad40\" xlink:show=\"new\" xlink:title=\"psysml:e01a683f-5a6a-44b0-a0de-a423aeb5ad40\" xlink:type=\"simple\"><path d=\"M89.42,133.6 C79.35,142.68 69.37,154.11 64,167 C58.5,180.2 58.66,195.94 60.54,209.38 \" fill=\"none\" id=\"E8-&gt;E6\" style=\"stroke: #383838; stroke-width: 1.0; stroke-dasharray: 7.0,7.0;\"/><polygon fill=\"#383838\" points=\"61.9,217.4,63.517,209.0104,57.6018,210.0159,61.9,217.4\" style=\"stroke: #383838; stroke-width: 1.0;\"/><text fill=\"#000000\" font-family=\"sans-serif\" font-size=\"13\" lengthAdjust=\"spacingAndGlyphs\" textLength=\"64\" x=\"65\" y=\"180.0669\">«depend»</text></a><!--MD5=[bfa3c8b0d15052fdf50ae9310b491027]\n",
       "link E8 to E7--><a href=\"psysml:e01a683f-5a6a-44b0-a0de-a423aeb5ad40\" target=\"_top\" title=\"psysml:e01a683f-5a6a-44b0-a0de-a423aeb5ad40\" xlink:actuate=\"onRequest\" xlink:href=\"psysml:e01a683f-5a6a-44b0-a0de-a423aeb5ad40\" xlink:show=\"new\" xlink:title=\"psysml:e01a683f-5a6a-44b0-a0de-a423aeb5ad40\" xlink:type=\"simple\"><path d=\"M129.28,133.5 C138.17,154.57 151.64,186.5 161.47,209.81 \" fill=\"none\" id=\"E8-&gt;E7\" style=\"stroke: #383838; stroke-width: 1.0; stroke-dasharray: 7.0,7.0;\"/><polygon fill=\"#383838\" points=\"164.66,217.35,164.3241,208.8126,158.7933,211.1385,164.66,217.35\" style=\"stroke: #383838; stroke-width: 1.0;\"/><text fill=\"#000000\" font-family=\"sans-serif\" font-size=\"13\" lengthAdjust=\"spacingAndGlyphs\" textLength=\"64\" x=\"151\" y=\"180.0669\">«depend»</text></a><!--MD5=[03ef903aa0af8ca0bc1d6702b170b582]\n",
       "@startuml\r\n",
       " skinparam monochrome true\r\n",
       "skinparam classbackgroundcolor white\r\n",
       "skinparam shadowing false\r\n",
       "skinparam wrapWidth 300\r\n",
       "hide circle\r\n",
       "\r\n",
       "package \"DependencyTest\" as E1  [[psysml:c069fb4a-0cab-46ce-ae30-79221b6c6030 ]]  {\r\n",
       "package \"System\" as E2  [[psysml:0036a7be-5206-4df9-ab28-301972427778 ]]  {\r\n",
       "package \"Application Layer\" as E3  [[psysml:b9058297-d753-442e-8571-9bee33c166c8 ]]  {\r\n",
       "}\r\n",
       "package \"Service Layer\" as E4  [[psysml:f007974c-308f-4828-8f2c-f39213f4e302 ]]  {\r\n",
       "}\r\n",
       "package \"Data Layer\" as E5  [[psysml:7870e797-441e-4743-978b-6b23dab0b8d1 ]]  {\r\n",
       "}\r\n",
       "}\r\n",
       "comp usage \"x\" as E6  <<(T,blue)attribute>> [[psysml:ca3c2c7b-3718-4538-a84c-29984e19a6f6 ]] {\r\n",
       "}\r\n",
       "comp usage \"y\" as E7  <<(T,blue)attribute>> [[psysml:f187cc38-895f-43c9-b55f-372a79474975 ]] {\r\n",
       "}\r\n",
       "comp usage \"z\" as E8  <<(T,blue)attribute>> [[psysml:c8a5167c-621d-4bfa-8ffa-e3ed6a854bed ]] {\r\n",
       "}\r\n",
       "E3 ..>> E4 [[psysml:af0245ca-a479-404d-840a-c478ec8f55f1 ]] : <<depend>>\r\n",
       "E4 ..>> E5 [[psysml:aeab59fe-e3bd-4e23-96a4-136d0d468de6 ]] : <<depend>>\r\n",
       "E8 ..>> E6 [[psysml:e01a683f-5a6a-44b0-a0de-a423aeb5ad40 ]] : <<depend>>\r\n",
       "E8 ..>> E7 [[psysml:e01a683f-5a6a-44b0-a0de-a423aeb5ad40 ]] : <<depend>>\r\n",
       "}\r\n",
       "@enduml\r\n",
       "\n",
       "PlantUML version 1.2020.13(Sat Jun 13 12:26:38 UTC 2020)\n",
       "(EPL source distribution)\n",
       "Java Runtime: OpenJDK Runtime Environment\n",
       "JVM: OpenJDK 64-Bit Server VM\n",
       "Default Encoding: UTF-8\n",
       "Language: en\n",
       "Country: null\n",
       "--></g></svg>"
      ]
     },
     "execution_count": 3,
     "metadata": {},
     "output_type": "execute_result"
    }
   ],
   "source": [
    "%viz --style=\"COMPTREE\" --view=\"Tree\" \"DependencyTest\""
   ]
  },
  {
   "cell_type": "code",
   "execution_count": 4,
   "id": "effective-sixth",
   "metadata": {
    "execution": {
     "iopub.execute_input": "2021-03-26T13:04:31.900867Z",
     "iopub.status.busy": "2021-03-26T13:04:31.900545Z",
     "iopub.status.idle": "2021-03-26T13:04:31.906838Z",
     "shell.execute_reply": "2021-03-26T13:04:31.907193Z"
    }
   },
   "outputs": [
    {
     "data": {
      "image/svg+xml": [
       "<?xml version=\"1.0\" encoding=\"UTF-8\" standalone=\"no\"?><svg xmlns=\"http://www.w3.org/2000/svg\" xmlns:xlink=\"http://www.w3.org/1999/xlink\" contentScriptType=\"application/ecmascript\" contentStyleType=\"text/css\" height=\"12px\" preserveAspectRatio=\"none\" style=\"width:12px;height:12px;\" version=\"1.1\" viewBox=\"0 0 12 12\" width=\"12px\" zoomAndPan=\"magnify\"><defs/><g><!--MD5=[f19188ef49e11757b5c46753f95d9edc]\n",
       "@startuml\r\n",
       " skinparam monochrome true\r\n",
       "skinparam classbackgroundcolor white\r\n",
       "skinparam shadowing false\r\n",
       "skinparam wrapWidth 300\r\n",
       "hide circle\r\n",
       "\r\n",
       "@enduml\r\n",
       "\n",
       "PlantUML version 1.2020.13(Sat Jun 13 12:26:38 UTC 2020)\n",
       "(EPL source distribution)\n",
       "Java Runtime: OpenJDK Runtime Environment\n",
       "JVM: OpenJDK 64-Bit Server VM\n",
       "Default Encoding: UTF-8\n",
       "Language: en\n",
       "Country: null\n",
       "--></g></svg>"
      ]
     },
     "execution_count": 4,
     "metadata": {},
     "output_type": "execute_result"
    }
   ],
   "source": [
    "%viz --style=\"COMPTREE\" --view=\"State\" \"DependencyTest\""
   ]
  },
  {
   "cell_type": "code",
   "execution_count": 5,
   "id": "innocent-minute",
   "metadata": {
    "execution": {
     "iopub.execute_input": "2021-03-26T13:04:31.958154Z",
     "iopub.status.busy": "2021-03-26T13:04:31.957729Z",
     "iopub.status.idle": "2021-03-26T13:04:32.012238Z",
     "shell.execute_reply": "2021-03-26T13:04:32.012579Z"
    }
   },
   "outputs": [
    {
     "data": {
      "image/svg+xml": [
       "<?xml version=\"1.0\" encoding=\"UTF-8\" standalone=\"no\"?><svg xmlns=\"http://www.w3.org/2000/svg\" xmlns:xlink=\"http://www.w3.org/1999/xlink\" contentScriptType=\"application/ecmascript\" contentStyleType=\"text/css\" height=\"361px\" preserveAspectRatio=\"none\" style=\"width:489px;height:361px;\" version=\"1.1\" viewBox=\"0 0 489 361\" width=\"489px\" zoomAndPan=\"magnify\"><defs/><g><!--MD5=[fbc87193dbaf4d95561dea2c320d4a47]\n",
       "cluster E1--><a href=\"psysml:c069fb4a-0cab-46ce-ae30-79221b6c6030\" target=\"_top\" title=\"psysml:c069fb4a-0cab-46ce-ae30-79221b6c6030\" xlink:actuate=\"onRequest\" xlink:href=\"psysml:c069fb4a-0cab-46ce-ae30-79221b6c6030\" xlink:show=\"new\" xlink:title=\"psysml:c069fb4a-0cab-46ce-ae30-79221b6c6030\" xlink:type=\"simple\"><polygon fill=\"#FFFFFF\" points=\"16,6,156,6,163,28.2969,467,28.2969,467,349,16,349,16,6\" style=\"stroke: #000000; stroke-width: 1.5;\"/><line style=\"stroke: #000000; stroke-width: 1.5;\" x1=\"16\" x2=\"163\" y1=\"28.2969\" y2=\"28.2969\"/><text fill=\"#000000\" font-family=\"sans-serif\" font-size=\"14\" font-weight=\"bold\" lengthAdjust=\"spacingAndGlyphs\" textLength=\"134\" x=\"20\" y=\"20.9951\">DependencyTest</text></a><!--MD5=[e4f7fae6ed58524ba242bb0b0d3be6b7]\n",
       "cluster E2--><a href=\"psysml:0036a7be-5206-4df9-ab28-301972427778\" target=\"_top\" title=\"psysml:0036a7be-5206-4df9-ab28-301972427778\" xlink:actuate=\"onRequest\" xlink:href=\"psysml:0036a7be-5206-4df9-ab28-301972427778\" xlink:show=\"new\" xlink:title=\"psysml:0036a7be-5206-4df9-ab28-301972427778\" xlink:type=\"simple\"><polygon fill=\"#FFFFFF\" points=\"255,49,319,49,326,71.2969,443,71.2969,443,325,255,325,255,49\" style=\"stroke: #000000; stroke-width: 1.5;\"/><line style=\"stroke: #000000; stroke-width: 1.5;\" x1=\"255\" x2=\"326\" y1=\"71.2969\" y2=\"71.2969\"/><text fill=\"#000000\" font-family=\"sans-serif\" font-size=\"14\" font-weight=\"bold\" lengthAdjust=\"spacingAndGlyphs\" textLength=\"58\" x=\"259\" y=\"63.9951\">System</text></a><a href=\"psysml:b9058297-d753-442e-8571-9bee33c166c8\" target=\"_top\" title=\"psysml:b9058297-d753-442e-8571-9bee33c166c8\" xlink:actuate=\"onRequest\" xlink:href=\"psysml:b9058297-d753-442e-8571-9bee33c166c8\" xlink:show=\"new\" xlink:title=\"psysml:b9058297-d753-442e-8571-9bee33c166c8\" xlink:type=\"simple\"><polygon fill=\"#FFFFFF\" points=\"271,84,413,84,420,106.2969,427,106.2969,427,136.5938,271,136.5938,271,84\" style=\"stroke: #000000; stroke-width: 1.5;\"/><line style=\"stroke: #000000; stroke-width: 1.5;\" x1=\"271\" x2=\"420\" y1=\"106.2969\" y2=\"106.2969\"/><text fill=\"#000000\" font-family=\"sans-serif\" font-size=\"14\" font-weight=\"bold\" lengthAdjust=\"spacingAndGlyphs\" textLength=\"136\" x=\"275\" y=\"98.9951\">Application Layer</text></a><a href=\"psysml:f007974c-308f-4828-8f2c-f39213f4e302\" target=\"_top\" title=\"psysml:f007974c-308f-4828-8f2c-f39213f4e302\" xlink:actuate=\"onRequest\" xlink:href=\"psysml:f007974c-308f-4828-8f2c-f39213f4e302\" xlink:show=\"new\" xlink:title=\"psysml:f007974c-308f-4828-8f2c-f39213f4e302\" xlink:type=\"simple\"><polygon fill=\"#FFFFFF\" points=\"285,170,399,170,406,192.2969,413,192.2969,413,222.5938,285,222.5938,285,170\" style=\"stroke: #000000; stroke-width: 1.5;\"/><line style=\"stroke: #000000; stroke-width: 1.5;\" x1=\"285\" x2=\"406\" y1=\"192.2969\" y2=\"192.2969\"/><text fill=\"#000000\" font-family=\"sans-serif\" font-size=\"14\" font-weight=\"bold\" lengthAdjust=\"spacingAndGlyphs\" textLength=\"108\" x=\"289\" y=\"184.9951\">Service Layer</text></a><a href=\"psysml:7870e797-441e-4743-978b-6b23dab0b8d1\" target=\"_top\" title=\"psysml:7870e797-441e-4743-978b-6b23dab0b8d1\" xlink:actuate=\"onRequest\" xlink:href=\"psysml:7870e797-441e-4743-978b-6b23dab0b8d1\" xlink:show=\"new\" xlink:title=\"psysml:7870e797-441e-4743-978b-6b23dab0b8d1\" xlink:type=\"simple\"><polygon fill=\"#FFFFFF\" points=\"297,256,387,256,394,278.2969,401,278.2969,401,308.5938,297,308.5938,297,256\" style=\"stroke: #000000; stroke-width: 1.5;\"/><line style=\"stroke: #000000; stroke-width: 1.5;\" x1=\"297\" x2=\"394\" y1=\"278.2969\" y2=\"278.2969\"/><text fill=\"#000000\" font-family=\"sans-serif\" font-size=\"14\" font-weight=\"bold\" lengthAdjust=\"spacingAndGlyphs\" textLength=\"84\" x=\"301\" y=\"270.9951\">Data Layer</text></a><g id=\"E1.E6\"><a href=\"psysml:ca3c2c7b-3718-4538-a84c-29984e19a6f6\" target=\"_top\" title=\"psysml:ca3c2c7b-3718-4538-a84c-29984e19a6f6\" xlink:actuate=\"onRequest\" xlink:href=\"psysml:ca3c2c7b-3718-4538-a84c-29984e19a6f6\" xlink:show=\"new\" xlink:title=\"psysml:ca3c2c7b-3718-4538-a84c-29984e19a6f6\" xlink:type=\"simple\"><rect fill=\"#FFFFFF\" height=\"42.9375\" id=\"E6\" rx=\"10\" ry=\"10\" style=\"stroke: #383838; stroke-width: 1.5;\" width=\"76\" x=\"32\" y=\"175\"/><rect fill=\"#F8F8F8\" height=\"37.9375\" rx=\"10\" ry=\"10\" style=\"stroke: #F8F8F8; stroke-width: 1.5;\" width=\"76\" x=\"32\" y=\"175\"/><rect fill=\"#F8F8F8\" height=\"10\" style=\"stroke: #F8F8F8; stroke-width: 1.5;\" width=\"76\" x=\"32\" y=\"202.9375\"/><rect fill=\"none\" height=\"42.9375\" id=\"E6\" rx=\"10\" ry=\"10\" style=\"stroke: #383838; stroke-width: 1.5;\" width=\"76\" x=\"32\" y=\"175\"/><text fill=\"#000000\" font-family=\"sans-serif\" font-size=\"12\" font-style=\"italic\" lengthAdjust=\"spacingAndGlyphs\" textLength=\"69\" x=\"35.5\" y=\"191.1387\">«attribute»</text><text fill=\"#000000\" font-family=\"sans-serif\" font-size=\"12\" lengthAdjust=\"spacingAndGlyphs\" textLength=\"6\" x=\"67\" y=\"205.1074\">x</text></a></g><g id=\"E1.E7\"><a href=\"psysml:f187cc38-895f-43c9-b55f-372a79474975\" target=\"_top\" title=\"psysml:f187cc38-895f-43c9-b55f-372a79474975\" xlink:actuate=\"onRequest\" xlink:href=\"psysml:f187cc38-895f-43c9-b55f-372a79474975\" xlink:show=\"new\" xlink:title=\"psysml:f187cc38-895f-43c9-b55f-372a79474975\" xlink:type=\"simple\"><rect fill=\"#FFFFFF\" height=\"42.9375\" id=\"E7\" rx=\"10\" ry=\"10\" style=\"stroke: #383838; stroke-width: 1.5;\" width=\"76\" x=\"143\" y=\"175\"/><rect fill=\"#F8F8F8\" height=\"37.9375\" rx=\"10\" ry=\"10\" style=\"stroke: #F8F8F8; stroke-width: 1.5;\" width=\"76\" x=\"143\" y=\"175\"/><rect fill=\"#F8F8F8\" height=\"10\" style=\"stroke: #F8F8F8; stroke-width: 1.5;\" width=\"76\" x=\"143\" y=\"202.9375\"/><rect fill=\"none\" height=\"42.9375\" id=\"E7\" rx=\"10\" ry=\"10\" style=\"stroke: #383838; stroke-width: 1.5;\" width=\"76\" x=\"143\" y=\"175\"/><text fill=\"#000000\" font-family=\"sans-serif\" font-size=\"12\" font-style=\"italic\" lengthAdjust=\"spacingAndGlyphs\" textLength=\"69\" x=\"146.5\" y=\"191.1387\">«attribute»</text><text fill=\"#000000\" font-family=\"sans-serif\" font-size=\"12\" lengthAdjust=\"spacingAndGlyphs\" textLength=\"6\" x=\"178\" y=\"205.1074\">y</text></a></g><g id=\"E1.E8\"><a href=\"psysml:c8a5167c-621d-4bfa-8ffa-e3ed6a854bed\" target=\"_top\" title=\"psysml:c8a5167c-621d-4bfa-8ffa-e3ed6a854bed\" xlink:actuate=\"onRequest\" xlink:href=\"psysml:c8a5167c-621d-4bfa-8ffa-e3ed6a854bed\" xlink:show=\"new\" xlink:title=\"psysml:c8a5167c-621d-4bfa-8ffa-e3ed6a854bed\" xlink:type=\"simple\"><rect fill=\"#FFFFFF\" height=\"42.9375\" id=\"E8\" rx=\"10\" ry=\"10\" style=\"stroke: #383838; stroke-width: 1.5;\" width=\"76\" x=\"83\" y=\"89\"/><rect fill=\"#F8F8F8\" height=\"37.9375\" rx=\"10\" ry=\"10\" style=\"stroke: #F8F8F8; stroke-width: 1.5;\" width=\"76\" x=\"83\" y=\"89\"/><rect fill=\"#F8F8F8\" height=\"10\" style=\"stroke: #F8F8F8; stroke-width: 1.5;\" width=\"76\" x=\"83\" y=\"116.9375\"/><rect fill=\"none\" height=\"42.9375\" id=\"E8\" rx=\"10\" ry=\"10\" style=\"stroke: #383838; stroke-width: 1.5;\" width=\"76\" x=\"83\" y=\"89\"/><text fill=\"#000000\" font-family=\"sans-serif\" font-size=\"12\" font-style=\"italic\" lengthAdjust=\"spacingAndGlyphs\" textLength=\"69\" x=\"86.5\" y=\"105.1387\">«attribute»</text><text fill=\"#000000\" font-family=\"sans-serif\" font-size=\"12\" lengthAdjust=\"spacingAndGlyphs\" textLength=\"5\" x=\"118.5\" y=\"119.1074\">z</text></a></g><!--MD5=[af87c684e3b0d8be13c1a698a818ef1e]\n",
       "link E3 to E4--><a href=\"psysml:af0245ca-a479-404d-840a-c478ec8f55f1\" target=\"_top\" title=\"psysml:af0245ca-a479-404d-840a-c478ec8f55f1\" xlink:actuate=\"onRequest\" xlink:href=\"psysml:af0245ca-a479-404d-840a-c478ec8f55f1\" xlink:show=\"new\" xlink:title=\"psysml:af0245ca-a479-404d-840a-c478ec8f55f1\" xlink:type=\"simple\"><path d=\"M349,137.16 C349,144.98 349,153.69 349,161.94 \" fill=\"none\" id=\"E3-&gt;E4\" style=\"stroke: #383838; stroke-width: 1.0; stroke-dasharray: 7.0,7.0;\"/><polygon fill=\"#383838\" points=\"349,170,352,162,346,162,349,170\" style=\"stroke: #383838; stroke-width: 1.0;\"/><text fill=\"#000000\" font-family=\"sans-serif\" font-size=\"13\" lengthAdjust=\"spacingAndGlyphs\" textLength=\"64\" x=\"350\" y=\"158.0669\">«depend»</text></a><!--MD5=[1b7591eae5389033d8d09a9d6721a717]\n",
       "link E4 to E5--><a href=\"psysml:aeab59fe-e3bd-4e23-96a4-136d0d468de6\" target=\"_top\" title=\"psysml:aeab59fe-e3bd-4e23-96a4-136d0d468de6\" xlink:actuate=\"onRequest\" xlink:href=\"psysml:aeab59fe-e3bd-4e23-96a4-136d0d468de6\" xlink:show=\"new\" xlink:title=\"psysml:aeab59fe-e3bd-4e23-96a4-136d0d468de6\" xlink:type=\"simple\"><path d=\"M349,223.16 C349,230.98 349,239.69 349,247.94 \" fill=\"none\" id=\"E4-&gt;E5\" style=\"stroke: #383838; stroke-width: 1.0; stroke-dasharray: 7.0,7.0;\"/><polygon fill=\"#383838\" points=\"349,256,352,248,346,248,349,256\" style=\"stroke: #383838; stroke-width: 1.0;\"/><text fill=\"#000000\" font-family=\"sans-serif\" font-size=\"13\" lengthAdjust=\"spacingAndGlyphs\" textLength=\"64\" x=\"350\" y=\"244.0669\">«depend»</text></a><!--MD5=[c5e8897d989ce984f93528998a7150fe]\n",
       "link E8 to E6--><a href=\"psysml:e01a683f-5a6a-44b0-a0de-a423aeb5ad40\" target=\"_top\" title=\"psysml:e01a683f-5a6a-44b0-a0de-a423aeb5ad40\" xlink:actuate=\"onRequest\" xlink:href=\"psysml:e01a683f-5a6a-44b0-a0de-a423aeb5ad40\" xlink:show=\"new\" xlink:title=\"psysml:e01a683f-5a6a-44b0-a0de-a423aeb5ad40\" xlink:type=\"simple\"><path d=\"M82.81,126.48 C75.3,131.24 68.39,137.33 64,145 C60.26,151.53 59.68,159.3 60.56,166.77 \" fill=\"none\" id=\"E8-&gt;E6\" style=\"stroke: #383838; stroke-width: 1.0; stroke-dasharray: 7.0,7.0;\"/><polygon fill=\"#383838\" points=\"62.02,174.69,63.5257,166.2797,57.6244,167.3634,62.02,174.69\" style=\"stroke: #383838; stroke-width: 1.0;\"/><text fill=\"#000000\" font-family=\"sans-serif\" font-size=\"13\" lengthAdjust=\"spacingAndGlyphs\" textLength=\"64\" x=\"65\" y=\"158.0669\">«depend»</text></a><!--MD5=[bfa3c8b0d15052fdf50ae9310b491027]\n",
       "link E8 to E7--><a href=\"psysml:e01a683f-5a6a-44b0-a0de-a423aeb5ad40\" target=\"_top\" title=\"psysml:e01a683f-5a6a-44b0-a0de-a423aeb5ad40\" xlink:actuate=\"onRequest\" xlink:href=\"psysml:e01a683f-5a6a-44b0-a0de-a423aeb5ad40\" xlink:show=\"new\" xlink:title=\"psysml:e01a683f-5a6a-44b0-a0de-a423aeb5ad40\" xlink:type=\"simple\"><path d=\"M135.83,132.26 C143.61,143.15 153.22,156.61 161.59,168.32 \" fill=\"none\" id=\"E8-&gt;E7\" style=\"stroke: #383838; stroke-width: 1.0; stroke-dasharray: 7.0,7.0;\"/><polygon fill=\"#383838\" points=\"166.34,174.97,164.1399,166.7141,159.2538,170.1965,166.34,174.97\" style=\"stroke: #383838; stroke-width: 1.0;\"/><text fill=\"#000000\" font-family=\"sans-serif\" font-size=\"13\" lengthAdjust=\"spacingAndGlyphs\" textLength=\"64\" x=\"157\" y=\"158.0669\">«depend»</text></a><!--MD5=[21dfb88e3a89f19d09f6a8b401e51237]\n",
       "@startuml\r\n",
       "skinparam ranksep 8\r\n",
       "skinparam rectangle {\r\n",
       " backgroundColor<<block>> LightGreen\r\n",
       "}\r\n",
       " skinparam monochrome true\r\n",
       "skinparam classbackgroundcolor white\r\n",
       "skinparam shadowing false\r\n",
       "skinparam wrapWidth 300\r\n",
       "hide circle\r\n",
       "\r\n",
       "package \"DependencyTest\" as E1  [[psysml:c069fb4a-0cab-46ce-ae30-79221b6c6030 ]]  {\r\n",
       "package \"System\" as E2  [[psysml:0036a7be-5206-4df9-ab28-301972427778 ]]  {\r\n",
       "package \"Application Layer\" as E3  [[psysml:b9058297-d753-442e-8571-9bee33c166c8 ]]  {\r\n",
       "}\r\n",
       "package \"Service Layer\" as E4  [[psysml:f007974c-308f-4828-8f2c-f39213f4e302 ]]  {\r\n",
       "}\r\n",
       "package \"Data Layer\" as E5  [[psysml:7870e797-441e-4743-978b-6b23dab0b8d1 ]]  {\r\n",
       "}\r\n",
       "}\r\n",
       "rec usage \"x\" as E6  <<(T,blue)attribute>> [[psysml:ca3c2c7b-3718-4538-a84c-29984e19a6f6 ]] {\r\n",
       "}\r\n",
       "rec usage \"y\" as E7  <<(T,blue)attribute>> [[psysml:f187cc38-895f-43c9-b55f-372a79474975 ]] {\r\n",
       "}\r\n",
       "rec usage \"z\" as E8  <<(T,blue)attribute>> [[psysml:c8a5167c-621d-4bfa-8ffa-e3ed6a854bed ]] {\r\n",
       "}\r\n",
       "E3 ..>> E4 [[psysml:af0245ca-a479-404d-840a-c478ec8f55f1 ]] : <<depend>>\r\n",
       "E4 ..>> E5 [[psysml:aeab59fe-e3bd-4e23-96a4-136d0d468de6 ]] : <<depend>>\r\n",
       "E8 ..>> E6 [[psysml:e01a683f-5a6a-44b0-a0de-a423aeb5ad40 ]] : <<depend>>\r\n",
       "E8 ..>> E7 [[psysml:e01a683f-5a6a-44b0-a0de-a423aeb5ad40 ]] : <<depend>>\r\n",
       "}\r\n",
       "@enduml\r\n",
       "\n",
       "PlantUML version 1.2020.13(Sat Jun 13 12:26:38 UTC 2020)\n",
       "(EPL source distribution)\n",
       "Java Runtime: OpenJDK Runtime Environment\n",
       "JVM: OpenJDK 64-Bit Server VM\n",
       "Default Encoding: UTF-8\n",
       "Language: en\n",
       "Country: null\n",
       "--></g></svg>"
      ]
     },
     "execution_count": 5,
     "metadata": {},
     "output_type": "execute_result"
    }
   ],
   "source": [
    "%viz --style=\"COMPTREE\" --view=\"Interconnection\" \"DependencyTest\""
   ]
  },
  {
   "cell_type": "code",
   "execution_count": 6,
   "id": "dried-benefit",
   "metadata": {
    "execution": {
     "iopub.execute_input": "2021-03-26T13:04:32.063249Z",
     "iopub.status.busy": "2021-03-26T13:04:32.062799Z",
     "iopub.status.idle": "2021-03-26T13:04:32.069484Z",
     "shell.execute_reply": "2021-03-26T13:04:32.069815Z"
    }
   },
   "outputs": [
    {
     "data": {
      "image/svg+xml": [
       "<?xml version=\"1.0\" encoding=\"UTF-8\" standalone=\"no\"?><svg xmlns=\"http://www.w3.org/2000/svg\" xmlns:xlink=\"http://www.w3.org/1999/xlink\" contentScriptType=\"application/ecmascript\" contentStyleType=\"text/css\" height=\"12px\" preserveAspectRatio=\"none\" style=\"width:12px;height:12px;\" version=\"1.1\" viewBox=\"0 0 12 12\" width=\"12px\" zoomAndPan=\"magnify\"><defs/><g><!--MD5=[655b888544ca4751ea36af1068543f84]\n",
       "@startuml\r\n",
       "skinparam ranksep 8\r\n",
       " skinparam monochrome true\r\n",
       "skinparam classbackgroundcolor white\r\n",
       "skinparam shadowing false\r\n",
       "skinparam wrapWidth 300\r\n",
       "hide circle\r\n",
       "\r\n",
       "@enduml\r\n",
       "\n",
       "PlantUML version 1.2020.13(Sat Jun 13 12:26:38 UTC 2020)\n",
       "(EPL source distribution)\n",
       "Java Runtime: OpenJDK Runtime Environment\n",
       "JVM: OpenJDK 64-Bit Server VM\n",
       "Default Encoding: UTF-8\n",
       "Language: en\n",
       "Country: null\n",
       "--></g></svg>"
      ]
     },
     "execution_count": 6,
     "metadata": {},
     "output_type": "execute_result"
    }
   ],
   "source": [
    "%viz --style=\"COMPTREE\" --view=\"Action\" \"DependencyTest\""
   ]
  },
  {
   "cell_type": "code",
   "execution_count": 7,
   "id": "therapeutic-despite",
   "metadata": {
    "execution": {
     "iopub.execute_input": "2021-03-26T13:04:32.123205Z",
     "iopub.status.busy": "2021-03-26T13:04:32.122324Z",
     "iopub.status.idle": "2021-03-26T13:04:32.172368Z",
     "shell.execute_reply": "2021-03-26T13:04:32.172684Z"
    }
   },
   "outputs": [
    {
     "data": {
      "image/svg+xml": [
       "<?xml version=\"1.0\" encoding=\"UTF-8\" standalone=\"no\"?><svg xmlns=\"http://www.w3.org/2000/svg\" xmlns:xlink=\"http://www.w3.org/1999/xlink\" contentScriptType=\"application/ecmascript\" contentStyleType=\"text/css\" height=\"449px\" preserveAspectRatio=\"none\" style=\"width:489px;height:449px;\" version=\"1.1\" viewBox=\"0 0 489 449\" width=\"489px\" zoomAndPan=\"magnify\"><defs/><g><!--MD5=[fbc87193dbaf4d95561dea2c320d4a47]\n",
       "cluster E1--><a href=\"psysml:c069fb4a-0cab-46ce-ae30-79221b6c6030\" target=\"_top\" title=\"psysml:c069fb4a-0cab-46ce-ae30-79221b6c6030\" xlink:actuate=\"onRequest\" xlink:href=\"psysml:c069fb4a-0cab-46ce-ae30-79221b6c6030\" xlink:show=\"new\" xlink:title=\"psysml:c069fb4a-0cab-46ce-ae30-79221b6c6030\" xlink:type=\"simple\"><polygon fill=\"#FFFFFF\" points=\"16,6,156,6,163,28.2969,467,28.2969,467,437,16,437,16,6\" style=\"stroke: #000000; stroke-width: 1.5;\"/><line style=\"stroke: #000000; stroke-width: 1.5;\" x1=\"16\" x2=\"163\" y1=\"28.2969\" y2=\"28.2969\"/><text fill=\"#000000\" font-family=\"sans-serif\" font-size=\"14\" font-weight=\"bold\" lengthAdjust=\"spacingAndGlyphs\" textLength=\"134\" x=\"20\" y=\"20.9951\">DependencyTest</text></a><!--MD5=[e4f7fae6ed58524ba242bb0b0d3be6b7]\n",
       "cluster E2--><a href=\"psysml:0036a7be-5206-4df9-ab28-301972427778\" target=\"_top\" title=\"psysml:0036a7be-5206-4df9-ab28-301972427778\" xlink:actuate=\"onRequest\" xlink:href=\"psysml:0036a7be-5206-4df9-ab28-301972427778\" xlink:show=\"new\" xlink:title=\"psysml:0036a7be-5206-4df9-ab28-301972427778\" xlink:type=\"simple\"><polygon fill=\"#FFFFFF\" points=\"255,49,319,49,326,71.2969,443,71.2969,443,413,255,413,255,49\" style=\"stroke: #000000; stroke-width: 1.5;\"/><line style=\"stroke: #000000; stroke-width: 1.5;\" x1=\"255\" x2=\"326\" y1=\"71.2969\" y2=\"71.2969\"/><text fill=\"#000000\" font-family=\"sans-serif\" font-size=\"14\" font-weight=\"bold\" lengthAdjust=\"spacingAndGlyphs\" textLength=\"58\" x=\"259\" y=\"63.9951\">System</text></a><!--MD5=[60a26617385b1d2d0262a64233df1f8d]\n",
       "class E6--><a href=\"psysml:ca3c2c7b-3718-4538-a84c-29984e19a6f6\" target=\"_top\" title=\"psysml:ca3c2c7b-3718-4538-a84c-29984e19a6f6\" xlink:actuate=\"onRequest\" xlink:href=\"psysml:ca3c2c7b-3718-4538-a84c-29984e19a6f6\" xlink:show=\"new\" xlink:title=\"psysml:ca3c2c7b-3718-4538-a84c-29984e19a6f6\" xlink:type=\"simple\"><rect fill=\"#FFFFFF\" height=\"45.9375\" id=\"E6\" rx=\"10\" ry=\"10\" style=\"stroke: #383838; stroke-width: 1.5;\" width=\"71\" x=\"32.5\" y=\"217.5\"/><text fill=\"#000000\" font-family=\"sans-serif\" font-size=\"12\" font-style=\"italic\" lengthAdjust=\"spacingAndGlyphs\" textLength=\"69\" x=\"33.5\" y=\"233.6387\">«attribute»</text><text fill=\"#000000\" font-family=\"sans-serif\" font-size=\"12\" lengthAdjust=\"spacingAndGlyphs\" textLength=\"6\" x=\"65\" y=\"247.6074\">x</text><line style=\"stroke: #383838; stroke-width: 1.5;\" x1=\"33.5\" x2=\"102.5\" y1=\"255.4375\" y2=\"255.4375\"/></a><!--MD5=[2156ba9850f5573cc1fc38a6a4b2f02b]\n",
       "class E7--><a href=\"psysml:f187cc38-895f-43c9-b55f-372a79474975\" target=\"_top\" title=\"psysml:f187cc38-895f-43c9-b55f-372a79474975\" xlink:actuate=\"onRequest\" xlink:href=\"psysml:f187cc38-895f-43c9-b55f-372a79474975\" xlink:show=\"new\" xlink:title=\"psysml:f187cc38-895f-43c9-b55f-372a79474975\" xlink:type=\"simple\"><rect fill=\"#FFFFFF\" height=\"45.9375\" id=\"E7\" rx=\"10\" ry=\"10\" style=\"stroke: #383838; stroke-width: 1.5;\" width=\"71\" x=\"138.5\" y=\"217.5\"/><text fill=\"#000000\" font-family=\"sans-serif\" font-size=\"12\" font-style=\"italic\" lengthAdjust=\"spacingAndGlyphs\" textLength=\"69\" x=\"139.5\" y=\"233.6387\">«attribute»</text><text fill=\"#000000\" font-family=\"sans-serif\" font-size=\"12\" lengthAdjust=\"spacingAndGlyphs\" textLength=\"6\" x=\"171\" y=\"247.6074\">y</text><line style=\"stroke: #383838; stroke-width: 1.5;\" x1=\"139.5\" x2=\"208.5\" y1=\"255.4375\" y2=\"255.4375\"/></a><!--MD5=[b9389687b975829384b498ac4b7476b2]\n",
       "class E8--><a href=\"psysml:c8a5167c-621d-4bfa-8ffa-e3ed6a854bed\" target=\"_top\" title=\"psysml:c8a5167c-621d-4bfa-8ffa-e3ed6a854bed\" xlink:actuate=\"onRequest\" xlink:href=\"psysml:c8a5167c-621d-4bfa-8ffa-e3ed6a854bed\" xlink:show=\"new\" xlink:title=\"psysml:c8a5167c-621d-4bfa-8ffa-e3ed6a854bed\" xlink:type=\"simple\"><rect fill=\"#FFFFFF\" height=\"45.9375\" id=\"E8\" rx=\"10\" ry=\"10\" style=\"stroke: #383838; stroke-width: 1.5;\" width=\"71\" x=\"84.5\" y=\"87.5\"/><text fill=\"#000000\" font-family=\"sans-serif\" font-size=\"12\" font-style=\"italic\" lengthAdjust=\"spacingAndGlyphs\" textLength=\"69\" x=\"85.5\" y=\"103.6387\">«attribute»</text><text fill=\"#000000\" font-family=\"sans-serif\" font-size=\"12\" lengthAdjust=\"spacingAndGlyphs\" textLength=\"5\" x=\"117.5\" y=\"117.6074\">z</text><line style=\"stroke: #383838; stroke-width: 1.5;\" x1=\"85.5\" x2=\"154.5\" y1=\"125.4375\" y2=\"125.4375\"/></a><a href=\"psysml:b9058297-d753-442e-8571-9bee33c166c8\" target=\"_top\" title=\"psysml:b9058297-d753-442e-8571-9bee33c166c8\" xlink:actuate=\"onRequest\" xlink:href=\"psysml:b9058297-d753-442e-8571-9bee33c166c8\" xlink:show=\"new\" xlink:title=\"psysml:b9058297-d753-442e-8571-9bee33c166c8\" xlink:type=\"simple\"><polygon fill=\"#FFFFFF\" points=\"271,84,413,84,420,106.2969,427,106.2969,427,136.5938,271,136.5938,271,84\" style=\"stroke: #000000; stroke-width: 1.5;\"/><line style=\"stroke: #000000; stroke-width: 1.5;\" x1=\"271\" x2=\"420\" y1=\"106.2969\" y2=\"106.2969\"/><text fill=\"#000000\" font-family=\"sans-serif\" font-size=\"14\" font-weight=\"bold\" lengthAdjust=\"spacingAndGlyphs\" textLength=\"136\" x=\"275\" y=\"98.9951\">Application Layer</text></a><a href=\"psysml:f007974c-308f-4828-8f2c-f39213f4e302\" target=\"_top\" title=\"psysml:f007974c-308f-4828-8f2c-f39213f4e302\" xlink:actuate=\"onRequest\" xlink:href=\"psysml:f007974c-308f-4828-8f2c-f39213f4e302\" xlink:show=\"new\" xlink:title=\"psysml:f007974c-308f-4828-8f2c-f39213f4e302\" xlink:type=\"simple\"><polygon fill=\"#FFFFFF\" points=\"285,214,399,214,406,236.2969,413,236.2969,413,266.5938,285,266.5938,285,214\" style=\"stroke: #000000; stroke-width: 1.5;\"/><line style=\"stroke: #000000; stroke-width: 1.5;\" x1=\"285\" x2=\"406\" y1=\"236.2969\" y2=\"236.2969\"/><text fill=\"#000000\" font-family=\"sans-serif\" font-size=\"14\" font-weight=\"bold\" lengthAdjust=\"spacingAndGlyphs\" textLength=\"108\" x=\"289\" y=\"228.9951\">Service Layer</text></a><a href=\"psysml:7870e797-441e-4743-978b-6b23dab0b8d1\" target=\"_top\" title=\"psysml:7870e797-441e-4743-978b-6b23dab0b8d1\" xlink:actuate=\"onRequest\" xlink:href=\"psysml:7870e797-441e-4743-978b-6b23dab0b8d1\" xlink:show=\"new\" xlink:title=\"psysml:7870e797-441e-4743-978b-6b23dab0b8d1\" xlink:type=\"simple\"><polygon fill=\"#FFFFFF\" points=\"297,344,387,344,394,366.2969,401,366.2969,401,396.5938,297,396.5938,297,344\" style=\"stroke: #000000; stroke-width: 1.5;\"/><line style=\"stroke: #000000; stroke-width: 1.5;\" x1=\"297\" x2=\"394\" y1=\"366.2969\" y2=\"366.2969\"/><text fill=\"#000000\" font-family=\"sans-serif\" font-size=\"14\" font-weight=\"bold\" lengthAdjust=\"spacingAndGlyphs\" textLength=\"84\" x=\"301\" y=\"358.9951\">Data Layer</text></a><!--MD5=[af87c684e3b0d8be13c1a698a818ef1e]\n",
       "link E3 to E4--><a href=\"psysml:af0245ca-a479-404d-840a-c478ec8f55f1\" target=\"_top\" title=\"psysml:af0245ca-a479-404d-840a-c478ec8f55f1\" xlink:actuate=\"onRequest\" xlink:href=\"psysml:af0245ca-a479-404d-840a-c478ec8f55f1\" xlink:show=\"new\" xlink:title=\"psysml:af0245ca-a479-404d-840a-c478ec8f55f1\" xlink:type=\"simple\"><path d=\"M349,137.1 C349,156.8 349,184.22 349,205.73 \" fill=\"none\" id=\"E3-&gt;E4\" style=\"stroke: #383838; stroke-width: 1.0; stroke-dasharray: 7.0,7.0;\"/><polygon fill=\"#383838\" points=\"349,213.95,352,205.95,346,205.95,349,213.95\" style=\"stroke: #383838; stroke-width: 1.0;\"/><text fill=\"#000000\" font-family=\"sans-serif\" font-size=\"13\" lengthAdjust=\"spacingAndGlyphs\" textLength=\"64\" x=\"350\" y=\"180.0669\">«depend»</text></a><!--MD5=[1b7591eae5389033d8d09a9d6721a717]\n",
       "link E4 to E5--><a href=\"psysml:aeab59fe-e3bd-4e23-96a4-136d0d468de6\" target=\"_top\" title=\"psysml:aeab59fe-e3bd-4e23-96a4-136d0d468de6\" xlink:actuate=\"onRequest\" xlink:href=\"psysml:aeab59fe-e3bd-4e23-96a4-136d0d468de6\" xlink:show=\"new\" xlink:title=\"psysml:aeab59fe-e3bd-4e23-96a4-136d0d468de6\" xlink:type=\"simple\"><path d=\"M349,267.1 C349,286.8 349,314.22 349,335.73 \" fill=\"none\" id=\"E4-&gt;E5\" style=\"stroke: #383838; stroke-width: 1.0; stroke-dasharray: 7.0,7.0;\"/><polygon fill=\"#383838\" points=\"349,343.95,352,335.95,346,335.95,349,343.95\" style=\"stroke: #383838; stroke-width: 1.0;\"/><text fill=\"#000000\" font-family=\"sans-serif\" font-size=\"13\" lengthAdjust=\"spacingAndGlyphs\" textLength=\"64\" x=\"350\" y=\"310.0669\">«depend»</text></a><!--MD5=[c5e8897d989ce984f93528998a7150fe]\n",
       "link E8 to E6--><a href=\"psysml:e01a683f-5a6a-44b0-a0de-a423aeb5ad40\" target=\"_top\" title=\"psysml:e01a683f-5a6a-44b0-a0de-a423aeb5ad40\" xlink:actuate=\"onRequest\" xlink:href=\"psysml:e01a683f-5a6a-44b0-a0de-a423aeb5ad40\" xlink:show=\"new\" xlink:title=\"psysml:e01a683f-5a6a-44b0-a0de-a423aeb5ad40\" xlink:type=\"simple\"><path d=\"M89.42,133.6 C79.35,142.68 69.37,154.11 64,167 C58.5,180.2 58.66,195.94 60.54,209.38 \" fill=\"none\" id=\"E8-&gt;E6\" style=\"stroke: #383838; stroke-width: 1.0; stroke-dasharray: 7.0,7.0;\"/><polygon fill=\"#383838\" points=\"61.9,217.4,63.517,209.0104,57.6018,210.0159,61.9,217.4\" style=\"stroke: #383838; stroke-width: 1.0;\"/><text fill=\"#000000\" font-family=\"sans-serif\" font-size=\"13\" lengthAdjust=\"spacingAndGlyphs\" textLength=\"64\" x=\"65\" y=\"180.0669\">«depend»</text></a><!--MD5=[bfa3c8b0d15052fdf50ae9310b491027]\n",
       "link E8 to E7--><a href=\"psysml:e01a683f-5a6a-44b0-a0de-a423aeb5ad40\" target=\"_top\" title=\"psysml:e01a683f-5a6a-44b0-a0de-a423aeb5ad40\" xlink:actuate=\"onRequest\" xlink:href=\"psysml:e01a683f-5a6a-44b0-a0de-a423aeb5ad40\" xlink:show=\"new\" xlink:title=\"psysml:e01a683f-5a6a-44b0-a0de-a423aeb5ad40\" xlink:type=\"simple\"><path d=\"M129.28,133.5 C138.17,154.57 151.64,186.5 161.47,209.81 \" fill=\"none\" id=\"E8-&gt;E7\" style=\"stroke: #383838; stroke-width: 1.0; stroke-dasharray: 7.0,7.0;\"/><polygon fill=\"#383838\" points=\"164.66,217.35,164.3241,208.8126,158.7933,211.1385,164.66,217.35\" style=\"stroke: #383838; stroke-width: 1.0;\"/><text fill=\"#000000\" font-family=\"sans-serif\" font-size=\"13\" lengthAdjust=\"spacingAndGlyphs\" textLength=\"64\" x=\"151\" y=\"180.0669\">«depend»</text></a><!--MD5=[03ef903aa0af8ca0bc1d6702b170b582]\n",
       "@startuml\r\n",
       " skinparam monochrome true\r\n",
       "skinparam classbackgroundcolor white\r\n",
       "skinparam shadowing false\r\n",
       "skinparam wrapWidth 300\r\n",
       "hide circle\r\n",
       "\r\n",
       "package \"DependencyTest\" as E1  [[psysml:c069fb4a-0cab-46ce-ae30-79221b6c6030 ]]  {\r\n",
       "package \"System\" as E2  [[psysml:0036a7be-5206-4df9-ab28-301972427778 ]]  {\r\n",
       "package \"Application Layer\" as E3  [[psysml:b9058297-d753-442e-8571-9bee33c166c8 ]]  {\r\n",
       "}\r\n",
       "package \"Service Layer\" as E4  [[psysml:f007974c-308f-4828-8f2c-f39213f4e302 ]]  {\r\n",
       "}\r\n",
       "package \"Data Layer\" as E5  [[psysml:7870e797-441e-4743-978b-6b23dab0b8d1 ]]  {\r\n",
       "}\r\n",
       "}\r\n",
       "comp usage \"x\" as E6  <<(T,blue)attribute>> [[psysml:ca3c2c7b-3718-4538-a84c-29984e19a6f6 ]] {\r\n",
       "}\r\n",
       "comp usage \"y\" as E7  <<(T,blue)attribute>> [[psysml:f187cc38-895f-43c9-b55f-372a79474975 ]] {\r\n",
       "}\r\n",
       "comp usage \"z\" as E8  <<(T,blue)attribute>> [[psysml:c8a5167c-621d-4bfa-8ffa-e3ed6a854bed ]] {\r\n",
       "}\r\n",
       "E3 ..>> E4 [[psysml:af0245ca-a479-404d-840a-c478ec8f55f1 ]] : <<depend>>\r\n",
       "E4 ..>> E5 [[psysml:aeab59fe-e3bd-4e23-96a4-136d0d468de6 ]] : <<depend>>\r\n",
       "E8 ..>> E6 [[psysml:e01a683f-5a6a-44b0-a0de-a423aeb5ad40 ]] : <<depend>>\r\n",
       "E8 ..>> E7 [[psysml:e01a683f-5a6a-44b0-a0de-a423aeb5ad40 ]] : <<depend>>\r\n",
       "}\r\n",
       "@enduml\r\n",
       "\n",
       "PlantUML version 1.2020.13(Sat Jun 13 12:26:38 UTC 2020)\n",
       "(EPL source distribution)\n",
       "Java Runtime: OpenJDK Runtime Environment\n",
       "JVM: OpenJDK 64-Bit Server VM\n",
       "Default Encoding: UTF-8\n",
       "Language: en\n",
       "Country: null\n",
       "--></g></svg>"
      ]
     },
     "execution_count": 7,
     "metadata": {},
     "output_type": "execute_result"
    }
   ],
   "source": [
    "%viz --style=\"COMPTREE\" --view=\"Sequence\" \"DependencyTest\""
   ]
  },
  {
   "cell_type": "code",
   "execution_count": 8,
   "id": "geological-romantic",
   "metadata": {
    "execution": {
     "iopub.execute_input": "2021-03-26T13:04:32.224673Z",
     "iopub.status.busy": "2021-03-26T13:04:32.224124Z",
     "iopub.status.idle": "2021-03-26T13:04:32.268541Z",
     "shell.execute_reply": "2021-03-26T13:04:32.268899Z"
    }
   },
   "outputs": [
    {
     "data": {
      "image/svg+xml": [
       "<?xml version=\"1.0\" encoding=\"UTF-8\" standalone=\"no\"?><svg xmlns=\"http://www.w3.org/2000/svg\" xmlns:xlink=\"http://www.w3.org/1999/xlink\" contentScriptType=\"application/ecmascript\" contentStyleType=\"text/css\" height=\"449px\" preserveAspectRatio=\"none\" style=\"width:489px;height:449px;\" version=\"1.1\" viewBox=\"0 0 489 449\" width=\"489px\" zoomAndPan=\"magnify\"><defs/><g><!--MD5=[fbc87193dbaf4d95561dea2c320d4a47]\n",
       "cluster E1--><a href=\"psysml:c069fb4a-0cab-46ce-ae30-79221b6c6030\" target=\"_top\" title=\"psysml:c069fb4a-0cab-46ce-ae30-79221b6c6030\" xlink:actuate=\"onRequest\" xlink:href=\"psysml:c069fb4a-0cab-46ce-ae30-79221b6c6030\" xlink:show=\"new\" xlink:title=\"psysml:c069fb4a-0cab-46ce-ae30-79221b6c6030\" xlink:type=\"simple\"><polygon fill=\"#FFFFFF\" points=\"16,6,156,6,163,28.2969,467,28.2969,467,437,16,437,16,6\" style=\"stroke: #000000; stroke-width: 1.5;\"/><line style=\"stroke: #000000; stroke-width: 1.5;\" x1=\"16\" x2=\"163\" y1=\"28.2969\" y2=\"28.2969\"/><text fill=\"#000000\" font-family=\"sans-serif\" font-size=\"14\" font-weight=\"bold\" lengthAdjust=\"spacingAndGlyphs\" textLength=\"134\" x=\"20\" y=\"20.9951\">DependencyTest</text></a><!--MD5=[e4f7fae6ed58524ba242bb0b0d3be6b7]\n",
       "cluster E2--><a href=\"psysml:0036a7be-5206-4df9-ab28-301972427778\" target=\"_top\" title=\"psysml:0036a7be-5206-4df9-ab28-301972427778\" xlink:actuate=\"onRequest\" xlink:href=\"psysml:0036a7be-5206-4df9-ab28-301972427778\" xlink:show=\"new\" xlink:title=\"psysml:0036a7be-5206-4df9-ab28-301972427778\" xlink:type=\"simple\"><polygon fill=\"#FFFFFF\" points=\"255,49,319,49,326,71.2969,443,71.2969,443,413,255,413,255,49\" style=\"stroke: #000000; stroke-width: 1.5;\"/><line style=\"stroke: #000000; stroke-width: 1.5;\" x1=\"255\" x2=\"326\" y1=\"71.2969\" y2=\"71.2969\"/><text fill=\"#000000\" font-family=\"sans-serif\" font-size=\"14\" font-weight=\"bold\" lengthAdjust=\"spacingAndGlyphs\" textLength=\"58\" x=\"259\" y=\"63.9951\">System</text></a><!--MD5=[60a26617385b1d2d0262a64233df1f8d]\n",
       "class E6--><a href=\"psysml:ca3c2c7b-3718-4538-a84c-29984e19a6f6\" target=\"_top\" title=\"psysml:ca3c2c7b-3718-4538-a84c-29984e19a6f6\" xlink:actuate=\"onRequest\" xlink:href=\"psysml:ca3c2c7b-3718-4538-a84c-29984e19a6f6\" xlink:show=\"new\" xlink:title=\"psysml:ca3c2c7b-3718-4538-a84c-29984e19a6f6\" xlink:type=\"simple\"><rect fill=\"#FFFFFF\" height=\"45.9375\" id=\"E6\" rx=\"10\" ry=\"10\" style=\"stroke: #383838; stroke-width: 1.5;\" width=\"71\" x=\"32.5\" y=\"217.5\"/><text fill=\"#000000\" font-family=\"sans-serif\" font-size=\"12\" font-style=\"italic\" lengthAdjust=\"spacingAndGlyphs\" textLength=\"69\" x=\"33.5\" y=\"233.6387\">«attribute»</text><text fill=\"#000000\" font-family=\"sans-serif\" font-size=\"12\" lengthAdjust=\"spacingAndGlyphs\" textLength=\"6\" x=\"65\" y=\"247.6074\">x</text><line style=\"stroke: #383838; stroke-width: 1.5;\" x1=\"33.5\" x2=\"102.5\" y1=\"255.4375\" y2=\"255.4375\"/></a><!--MD5=[2156ba9850f5573cc1fc38a6a4b2f02b]\n",
       "class E7--><a href=\"psysml:f187cc38-895f-43c9-b55f-372a79474975\" target=\"_top\" title=\"psysml:f187cc38-895f-43c9-b55f-372a79474975\" xlink:actuate=\"onRequest\" xlink:href=\"psysml:f187cc38-895f-43c9-b55f-372a79474975\" xlink:show=\"new\" xlink:title=\"psysml:f187cc38-895f-43c9-b55f-372a79474975\" xlink:type=\"simple\"><rect fill=\"#FFFFFF\" height=\"45.9375\" id=\"E7\" rx=\"10\" ry=\"10\" style=\"stroke: #383838; stroke-width: 1.5;\" width=\"71\" x=\"138.5\" y=\"217.5\"/><text fill=\"#000000\" font-family=\"sans-serif\" font-size=\"12\" font-style=\"italic\" lengthAdjust=\"spacingAndGlyphs\" textLength=\"69\" x=\"139.5\" y=\"233.6387\">«attribute»</text><text fill=\"#000000\" font-family=\"sans-serif\" font-size=\"12\" lengthAdjust=\"spacingAndGlyphs\" textLength=\"6\" x=\"171\" y=\"247.6074\">y</text><line style=\"stroke: #383838; stroke-width: 1.5;\" x1=\"139.5\" x2=\"208.5\" y1=\"255.4375\" y2=\"255.4375\"/></a><!--MD5=[b9389687b975829384b498ac4b7476b2]\n",
       "class E8--><a href=\"psysml:c8a5167c-621d-4bfa-8ffa-e3ed6a854bed\" target=\"_top\" title=\"psysml:c8a5167c-621d-4bfa-8ffa-e3ed6a854bed\" xlink:actuate=\"onRequest\" xlink:href=\"psysml:c8a5167c-621d-4bfa-8ffa-e3ed6a854bed\" xlink:show=\"new\" xlink:title=\"psysml:c8a5167c-621d-4bfa-8ffa-e3ed6a854bed\" xlink:type=\"simple\"><rect fill=\"#FFFFFF\" height=\"45.9375\" id=\"E8\" rx=\"10\" ry=\"10\" style=\"stroke: #383838; stroke-width: 1.5;\" width=\"71\" x=\"84.5\" y=\"87.5\"/><text fill=\"#000000\" font-family=\"sans-serif\" font-size=\"12\" font-style=\"italic\" lengthAdjust=\"spacingAndGlyphs\" textLength=\"69\" x=\"85.5\" y=\"103.6387\">«attribute»</text><text fill=\"#000000\" font-family=\"sans-serif\" font-size=\"12\" lengthAdjust=\"spacingAndGlyphs\" textLength=\"5\" x=\"117.5\" y=\"117.6074\">z</text><line style=\"stroke: #383838; stroke-width: 1.5;\" x1=\"85.5\" x2=\"154.5\" y1=\"125.4375\" y2=\"125.4375\"/></a><a href=\"psysml:b9058297-d753-442e-8571-9bee33c166c8\" target=\"_top\" title=\"psysml:b9058297-d753-442e-8571-9bee33c166c8\" xlink:actuate=\"onRequest\" xlink:href=\"psysml:b9058297-d753-442e-8571-9bee33c166c8\" xlink:show=\"new\" xlink:title=\"psysml:b9058297-d753-442e-8571-9bee33c166c8\" xlink:type=\"simple\"><polygon fill=\"#FFFFFF\" points=\"271,84,413,84,420,106.2969,427,106.2969,427,136.5938,271,136.5938,271,84\" style=\"stroke: #000000; stroke-width: 1.5;\"/><line style=\"stroke: #000000; stroke-width: 1.5;\" x1=\"271\" x2=\"420\" y1=\"106.2969\" y2=\"106.2969\"/><text fill=\"#000000\" font-family=\"sans-serif\" font-size=\"14\" font-weight=\"bold\" lengthAdjust=\"spacingAndGlyphs\" textLength=\"136\" x=\"275\" y=\"98.9951\">Application Layer</text></a><a href=\"psysml:f007974c-308f-4828-8f2c-f39213f4e302\" target=\"_top\" title=\"psysml:f007974c-308f-4828-8f2c-f39213f4e302\" xlink:actuate=\"onRequest\" xlink:href=\"psysml:f007974c-308f-4828-8f2c-f39213f4e302\" xlink:show=\"new\" xlink:title=\"psysml:f007974c-308f-4828-8f2c-f39213f4e302\" xlink:type=\"simple\"><polygon fill=\"#FFFFFF\" points=\"285,214,399,214,406,236.2969,413,236.2969,413,266.5938,285,266.5938,285,214\" style=\"stroke: #000000; stroke-width: 1.5;\"/><line style=\"stroke: #000000; stroke-width: 1.5;\" x1=\"285\" x2=\"406\" y1=\"236.2969\" y2=\"236.2969\"/><text fill=\"#000000\" font-family=\"sans-serif\" font-size=\"14\" font-weight=\"bold\" lengthAdjust=\"spacingAndGlyphs\" textLength=\"108\" x=\"289\" y=\"228.9951\">Service Layer</text></a><a href=\"psysml:7870e797-441e-4743-978b-6b23dab0b8d1\" target=\"_top\" title=\"psysml:7870e797-441e-4743-978b-6b23dab0b8d1\" xlink:actuate=\"onRequest\" xlink:href=\"psysml:7870e797-441e-4743-978b-6b23dab0b8d1\" xlink:show=\"new\" xlink:title=\"psysml:7870e797-441e-4743-978b-6b23dab0b8d1\" xlink:type=\"simple\"><polygon fill=\"#FFFFFF\" points=\"297,344,387,344,394,366.2969,401,366.2969,401,396.5938,297,396.5938,297,344\" style=\"stroke: #000000; stroke-width: 1.5;\"/><line style=\"stroke: #000000; stroke-width: 1.5;\" x1=\"297\" x2=\"394\" y1=\"366.2969\" y2=\"366.2969\"/><text fill=\"#000000\" font-family=\"sans-serif\" font-size=\"14\" font-weight=\"bold\" lengthAdjust=\"spacingAndGlyphs\" textLength=\"84\" x=\"301\" y=\"358.9951\">Data Layer</text></a><!--MD5=[af87c684e3b0d8be13c1a698a818ef1e]\n",
       "link E3 to E4--><a href=\"psysml:af0245ca-a479-404d-840a-c478ec8f55f1\" target=\"_top\" title=\"psysml:af0245ca-a479-404d-840a-c478ec8f55f1\" xlink:actuate=\"onRequest\" xlink:href=\"psysml:af0245ca-a479-404d-840a-c478ec8f55f1\" xlink:show=\"new\" xlink:title=\"psysml:af0245ca-a479-404d-840a-c478ec8f55f1\" xlink:type=\"simple\"><path d=\"M349,137.1 C349,156.8 349,184.22 349,205.73 \" fill=\"none\" id=\"E3-&gt;E4\" style=\"stroke: #383838; stroke-width: 1.0; stroke-dasharray: 7.0,7.0;\"/><polygon fill=\"#383838\" points=\"349,213.95,352,205.95,346,205.95,349,213.95\" style=\"stroke: #383838; stroke-width: 1.0;\"/><text fill=\"#000000\" font-family=\"sans-serif\" font-size=\"13\" lengthAdjust=\"spacingAndGlyphs\" textLength=\"64\" x=\"350\" y=\"180.0669\">«depend»</text></a><!--MD5=[1b7591eae5389033d8d09a9d6721a717]\n",
       "link E4 to E5--><a href=\"psysml:aeab59fe-e3bd-4e23-96a4-136d0d468de6\" target=\"_top\" title=\"psysml:aeab59fe-e3bd-4e23-96a4-136d0d468de6\" xlink:actuate=\"onRequest\" xlink:href=\"psysml:aeab59fe-e3bd-4e23-96a4-136d0d468de6\" xlink:show=\"new\" xlink:title=\"psysml:aeab59fe-e3bd-4e23-96a4-136d0d468de6\" xlink:type=\"simple\"><path d=\"M349,267.1 C349,286.8 349,314.22 349,335.73 \" fill=\"none\" id=\"E4-&gt;E5\" style=\"stroke: #383838; stroke-width: 1.0; stroke-dasharray: 7.0,7.0;\"/><polygon fill=\"#383838\" points=\"349,343.95,352,335.95,346,335.95,349,343.95\" style=\"stroke: #383838; stroke-width: 1.0;\"/><text fill=\"#000000\" font-family=\"sans-serif\" font-size=\"13\" lengthAdjust=\"spacingAndGlyphs\" textLength=\"64\" x=\"350\" y=\"310.0669\">«depend»</text></a><!--MD5=[c5e8897d989ce984f93528998a7150fe]\n",
       "link E8 to E6--><a href=\"psysml:e01a683f-5a6a-44b0-a0de-a423aeb5ad40\" target=\"_top\" title=\"psysml:e01a683f-5a6a-44b0-a0de-a423aeb5ad40\" xlink:actuate=\"onRequest\" xlink:href=\"psysml:e01a683f-5a6a-44b0-a0de-a423aeb5ad40\" xlink:show=\"new\" xlink:title=\"psysml:e01a683f-5a6a-44b0-a0de-a423aeb5ad40\" xlink:type=\"simple\"><path d=\"M89.42,133.6 C79.35,142.68 69.37,154.11 64,167 C58.5,180.2 58.66,195.94 60.54,209.38 \" fill=\"none\" id=\"E8-&gt;E6\" style=\"stroke: #383838; stroke-width: 1.0; stroke-dasharray: 7.0,7.0;\"/><polygon fill=\"#383838\" points=\"61.9,217.4,63.517,209.0104,57.6018,210.0159,61.9,217.4\" style=\"stroke: #383838; stroke-width: 1.0;\"/><text fill=\"#000000\" font-family=\"sans-serif\" font-size=\"13\" lengthAdjust=\"spacingAndGlyphs\" textLength=\"64\" x=\"65\" y=\"180.0669\">«depend»</text></a><!--MD5=[bfa3c8b0d15052fdf50ae9310b491027]\n",
       "link E8 to E7--><a href=\"psysml:e01a683f-5a6a-44b0-a0de-a423aeb5ad40\" target=\"_top\" title=\"psysml:e01a683f-5a6a-44b0-a0de-a423aeb5ad40\" xlink:actuate=\"onRequest\" xlink:href=\"psysml:e01a683f-5a6a-44b0-a0de-a423aeb5ad40\" xlink:show=\"new\" xlink:title=\"psysml:e01a683f-5a6a-44b0-a0de-a423aeb5ad40\" xlink:type=\"simple\"><path d=\"M129.28,133.5 C138.17,154.57 151.64,186.5 161.47,209.81 \" fill=\"none\" id=\"E8-&gt;E7\" style=\"stroke: #383838; stroke-width: 1.0; stroke-dasharray: 7.0,7.0;\"/><polygon fill=\"#383838\" points=\"164.66,217.35,164.3241,208.8126,158.7933,211.1385,164.66,217.35\" style=\"stroke: #383838; stroke-width: 1.0;\"/><text fill=\"#000000\" font-family=\"sans-serif\" font-size=\"13\" lengthAdjust=\"spacingAndGlyphs\" textLength=\"64\" x=\"151\" y=\"180.0669\">«depend»</text></a><!--MD5=[03ef903aa0af8ca0bc1d6702b170b582]\n",
       "@startuml\r\n",
       " skinparam monochrome true\r\n",
       "skinparam classbackgroundcolor white\r\n",
       "skinparam shadowing false\r\n",
       "skinparam wrapWidth 300\r\n",
       "hide circle\r\n",
       "\r\n",
       "package \"DependencyTest\" as E1  [[psysml:c069fb4a-0cab-46ce-ae30-79221b6c6030 ]]  {\r\n",
       "package \"System\" as E2  [[psysml:0036a7be-5206-4df9-ab28-301972427778 ]]  {\r\n",
       "package \"Application Layer\" as E3  [[psysml:b9058297-d753-442e-8571-9bee33c166c8 ]]  {\r\n",
       "}\r\n",
       "package \"Service Layer\" as E4  [[psysml:f007974c-308f-4828-8f2c-f39213f4e302 ]]  {\r\n",
       "}\r\n",
       "package \"Data Layer\" as E5  [[psysml:7870e797-441e-4743-978b-6b23dab0b8d1 ]]  {\r\n",
       "}\r\n",
       "}\r\n",
       "comp usage \"x\" as E6  <<(T,blue)attribute>> [[psysml:ca3c2c7b-3718-4538-a84c-29984e19a6f6 ]] {\r\n",
       "}\r\n",
       "comp usage \"y\" as E7  <<(T,blue)attribute>> [[psysml:f187cc38-895f-43c9-b55f-372a79474975 ]] {\r\n",
       "}\r\n",
       "comp usage \"z\" as E8  <<(T,blue)attribute>> [[psysml:c8a5167c-621d-4bfa-8ffa-e3ed6a854bed ]] {\r\n",
       "}\r\n",
       "E3 ..>> E4 [[psysml:af0245ca-a479-404d-840a-c478ec8f55f1 ]] : <<depend>>\r\n",
       "E4 ..>> E5 [[psysml:aeab59fe-e3bd-4e23-96a4-136d0d468de6 ]] : <<depend>>\r\n",
       "E8 ..>> E6 [[psysml:e01a683f-5a6a-44b0-a0de-a423aeb5ad40 ]] : <<depend>>\r\n",
       "E8 ..>> E7 [[psysml:e01a683f-5a6a-44b0-a0de-a423aeb5ad40 ]] : <<depend>>\r\n",
       "}\r\n",
       "@enduml\r\n",
       "\n",
       "PlantUML version 1.2020.13(Sat Jun 13 12:26:38 UTC 2020)\n",
       "(EPL source distribution)\n",
       "Java Runtime: OpenJDK Runtime Environment\n",
       "JVM: OpenJDK 64-Bit Server VM\n",
       "Default Encoding: UTF-8\n",
       "Language: en\n",
       "Country: null\n",
       "--></g></svg>"
      ]
     },
     "execution_count": 8,
     "metadata": {},
     "output_type": "execute_result"
    }
   ],
   "source": [
    "%viz --style=\"COMPTREE\" --view=\"MIXED\" \"DependencyTest\""
   ]
  },
  {
   "cell_type": "code",
   "execution_count": 9,
   "id": "close-bracket",
   "metadata": {
    "execution": {
     "iopub.execute_input": "2021-03-26T13:04:32.319795Z",
     "iopub.status.busy": "2021-03-26T13:04:32.319289Z",
     "iopub.status.idle": "2021-03-26T13:04:32.363577Z",
     "shell.execute_reply": "2021-03-26T13:04:32.363984Z"
    }
   },
   "outputs": [
    {
     "data": {
      "image/svg+xml": [
       "<?xml version=\"1.0\" encoding=\"UTF-8\" standalone=\"no\"?><svg xmlns=\"http://www.w3.org/2000/svg\" xmlns:xlink=\"http://www.w3.org/1999/xlink\" contentScriptType=\"application/ecmascript\" contentStyleType=\"text/css\" height=\"449px\" preserveAspectRatio=\"none\" style=\"width:489px;height:449px;\" version=\"1.1\" viewBox=\"0 0 489 449\" width=\"489px\" zoomAndPan=\"magnify\"><defs/><g><!--MD5=[fbc87193dbaf4d95561dea2c320d4a47]\n",
       "cluster E1--><a href=\"psysml:c069fb4a-0cab-46ce-ae30-79221b6c6030\" target=\"_top\" title=\"psysml:c069fb4a-0cab-46ce-ae30-79221b6c6030\" xlink:actuate=\"onRequest\" xlink:href=\"psysml:c069fb4a-0cab-46ce-ae30-79221b6c6030\" xlink:show=\"new\" xlink:title=\"psysml:c069fb4a-0cab-46ce-ae30-79221b6c6030\" xlink:type=\"simple\"><polygon fill=\"#FFFFFF\" points=\"16,6,156,6,163,28.2969,467,28.2969,467,437,16,437,16,6\" style=\"stroke: #000000; stroke-width: 1.5;\"/><line style=\"stroke: #000000; stroke-width: 1.5;\" x1=\"16\" x2=\"163\" y1=\"28.2969\" y2=\"28.2969\"/><text fill=\"#000000\" font-family=\"sans-serif\" font-size=\"14\" font-weight=\"bold\" lengthAdjust=\"spacingAndGlyphs\" textLength=\"134\" x=\"20\" y=\"20.9951\">DependencyTest</text></a><!--MD5=[e4f7fae6ed58524ba242bb0b0d3be6b7]\n",
       "cluster E2--><a href=\"psysml:0036a7be-5206-4df9-ab28-301972427778\" target=\"_top\" title=\"psysml:0036a7be-5206-4df9-ab28-301972427778\" xlink:actuate=\"onRequest\" xlink:href=\"psysml:0036a7be-5206-4df9-ab28-301972427778\" xlink:show=\"new\" xlink:title=\"psysml:0036a7be-5206-4df9-ab28-301972427778\" xlink:type=\"simple\"><polygon fill=\"#FFFFFF\" points=\"255,49,319,49,326,71.2969,443,71.2969,443,413,255,413,255,49\" style=\"stroke: #000000; stroke-width: 1.5;\"/><line style=\"stroke: #000000; stroke-width: 1.5;\" x1=\"255\" x2=\"326\" y1=\"71.2969\" y2=\"71.2969\"/><text fill=\"#000000\" font-family=\"sans-serif\" font-size=\"14\" font-weight=\"bold\" lengthAdjust=\"spacingAndGlyphs\" textLength=\"58\" x=\"259\" y=\"63.9951\">System</text></a><!--MD5=[60a26617385b1d2d0262a64233df1f8d]\n",
       "class E6--><a href=\"psysml:ca3c2c7b-3718-4538-a84c-29984e19a6f6\" target=\"_top\" title=\"psysml:ca3c2c7b-3718-4538-a84c-29984e19a6f6\" xlink:actuate=\"onRequest\" xlink:href=\"psysml:ca3c2c7b-3718-4538-a84c-29984e19a6f6\" xlink:show=\"new\" xlink:title=\"psysml:ca3c2c7b-3718-4538-a84c-29984e19a6f6\" xlink:type=\"simple\"><rect fill=\"#FFFFFF\" height=\"45.9375\" id=\"E6\" rx=\"10\" ry=\"10\" style=\"stroke: #383838; stroke-width: 1.5;\" width=\"71\" x=\"32.5\" y=\"217.5\"/><text fill=\"#000000\" font-family=\"sans-serif\" font-size=\"12\" font-style=\"italic\" lengthAdjust=\"spacingAndGlyphs\" textLength=\"69\" x=\"33.5\" y=\"233.6387\">«attribute»</text><text fill=\"#000000\" font-family=\"sans-serif\" font-size=\"12\" lengthAdjust=\"spacingAndGlyphs\" textLength=\"6\" x=\"65\" y=\"247.6074\">x</text><line style=\"stroke: #383838; stroke-width: 1.5;\" x1=\"33.5\" x2=\"102.5\" y1=\"255.4375\" y2=\"255.4375\"/></a><!--MD5=[2156ba9850f5573cc1fc38a6a4b2f02b]\n",
       "class E7--><a href=\"psysml:f187cc38-895f-43c9-b55f-372a79474975\" target=\"_top\" title=\"psysml:f187cc38-895f-43c9-b55f-372a79474975\" xlink:actuate=\"onRequest\" xlink:href=\"psysml:f187cc38-895f-43c9-b55f-372a79474975\" xlink:show=\"new\" xlink:title=\"psysml:f187cc38-895f-43c9-b55f-372a79474975\" xlink:type=\"simple\"><rect fill=\"#FFFFFF\" height=\"45.9375\" id=\"E7\" rx=\"10\" ry=\"10\" style=\"stroke: #383838; stroke-width: 1.5;\" width=\"71\" x=\"138.5\" y=\"217.5\"/><text fill=\"#000000\" font-family=\"sans-serif\" font-size=\"12\" font-style=\"italic\" lengthAdjust=\"spacingAndGlyphs\" textLength=\"69\" x=\"139.5\" y=\"233.6387\">«attribute»</text><text fill=\"#000000\" font-family=\"sans-serif\" font-size=\"12\" lengthAdjust=\"spacingAndGlyphs\" textLength=\"6\" x=\"171\" y=\"247.6074\">y</text><line style=\"stroke: #383838; stroke-width: 1.5;\" x1=\"139.5\" x2=\"208.5\" y1=\"255.4375\" y2=\"255.4375\"/></a><!--MD5=[b9389687b975829384b498ac4b7476b2]\n",
       "class E8--><a href=\"psysml:c8a5167c-621d-4bfa-8ffa-e3ed6a854bed\" target=\"_top\" title=\"psysml:c8a5167c-621d-4bfa-8ffa-e3ed6a854bed\" xlink:actuate=\"onRequest\" xlink:href=\"psysml:c8a5167c-621d-4bfa-8ffa-e3ed6a854bed\" xlink:show=\"new\" xlink:title=\"psysml:c8a5167c-621d-4bfa-8ffa-e3ed6a854bed\" xlink:type=\"simple\"><rect fill=\"#FFFFFF\" height=\"45.9375\" id=\"E8\" rx=\"10\" ry=\"10\" style=\"stroke: #383838; stroke-width: 1.5;\" width=\"71\" x=\"84.5\" y=\"87.5\"/><text fill=\"#000000\" font-family=\"sans-serif\" font-size=\"12\" font-style=\"italic\" lengthAdjust=\"spacingAndGlyphs\" textLength=\"69\" x=\"85.5\" y=\"103.6387\">«attribute»</text><text fill=\"#000000\" font-family=\"sans-serif\" font-size=\"12\" lengthAdjust=\"spacingAndGlyphs\" textLength=\"5\" x=\"117.5\" y=\"117.6074\">z</text><line style=\"stroke: #383838; stroke-width: 1.5;\" x1=\"85.5\" x2=\"154.5\" y1=\"125.4375\" y2=\"125.4375\"/></a><a href=\"psysml:b9058297-d753-442e-8571-9bee33c166c8\" target=\"_top\" title=\"psysml:b9058297-d753-442e-8571-9bee33c166c8\" xlink:actuate=\"onRequest\" xlink:href=\"psysml:b9058297-d753-442e-8571-9bee33c166c8\" xlink:show=\"new\" xlink:title=\"psysml:b9058297-d753-442e-8571-9bee33c166c8\" xlink:type=\"simple\"><polygon fill=\"#FFFFFF\" points=\"271,84,413,84,420,106.2969,427,106.2969,427,136.5938,271,136.5938,271,84\" style=\"stroke: #000000; stroke-width: 1.5;\"/><line style=\"stroke: #000000; stroke-width: 1.5;\" x1=\"271\" x2=\"420\" y1=\"106.2969\" y2=\"106.2969\"/><text fill=\"#000000\" font-family=\"sans-serif\" font-size=\"14\" font-weight=\"bold\" lengthAdjust=\"spacingAndGlyphs\" textLength=\"136\" x=\"275\" y=\"98.9951\">Application Layer</text></a><a href=\"psysml:f007974c-308f-4828-8f2c-f39213f4e302\" target=\"_top\" title=\"psysml:f007974c-308f-4828-8f2c-f39213f4e302\" xlink:actuate=\"onRequest\" xlink:href=\"psysml:f007974c-308f-4828-8f2c-f39213f4e302\" xlink:show=\"new\" xlink:title=\"psysml:f007974c-308f-4828-8f2c-f39213f4e302\" xlink:type=\"simple\"><polygon fill=\"#FFFFFF\" points=\"285,214,399,214,406,236.2969,413,236.2969,413,266.5938,285,266.5938,285,214\" style=\"stroke: #000000; stroke-width: 1.5;\"/><line style=\"stroke: #000000; stroke-width: 1.5;\" x1=\"285\" x2=\"406\" y1=\"236.2969\" y2=\"236.2969\"/><text fill=\"#000000\" font-family=\"sans-serif\" font-size=\"14\" font-weight=\"bold\" lengthAdjust=\"spacingAndGlyphs\" textLength=\"108\" x=\"289\" y=\"228.9951\">Service Layer</text></a><a href=\"psysml:7870e797-441e-4743-978b-6b23dab0b8d1\" target=\"_top\" title=\"psysml:7870e797-441e-4743-978b-6b23dab0b8d1\" xlink:actuate=\"onRequest\" xlink:href=\"psysml:7870e797-441e-4743-978b-6b23dab0b8d1\" xlink:show=\"new\" xlink:title=\"psysml:7870e797-441e-4743-978b-6b23dab0b8d1\" xlink:type=\"simple\"><polygon fill=\"#FFFFFF\" points=\"297,344,387,344,394,366.2969,401,366.2969,401,396.5938,297,396.5938,297,344\" style=\"stroke: #000000; stroke-width: 1.5;\"/><line style=\"stroke: #000000; stroke-width: 1.5;\" x1=\"297\" x2=\"394\" y1=\"366.2969\" y2=\"366.2969\"/><text fill=\"#000000\" font-family=\"sans-serif\" font-size=\"14\" font-weight=\"bold\" lengthAdjust=\"spacingAndGlyphs\" textLength=\"84\" x=\"301\" y=\"358.9951\">Data Layer</text></a><!--MD5=[af87c684e3b0d8be13c1a698a818ef1e]\n",
       "link E3 to E4--><a href=\"psysml:af0245ca-a479-404d-840a-c478ec8f55f1\" target=\"_top\" title=\"psysml:af0245ca-a479-404d-840a-c478ec8f55f1\" xlink:actuate=\"onRequest\" xlink:href=\"psysml:af0245ca-a479-404d-840a-c478ec8f55f1\" xlink:show=\"new\" xlink:title=\"psysml:af0245ca-a479-404d-840a-c478ec8f55f1\" xlink:type=\"simple\"><path d=\"M349,137.1 C349,156.8 349,184.22 349,205.73 \" fill=\"none\" id=\"E3-&gt;E4\" style=\"stroke: #383838; stroke-width: 1.0; stroke-dasharray: 7.0,7.0;\"/><polygon fill=\"#383838\" points=\"349,213.95,352,205.95,346,205.95,349,213.95\" style=\"stroke: #383838; stroke-width: 1.0;\"/><text fill=\"#000000\" font-family=\"sans-serif\" font-size=\"13\" lengthAdjust=\"spacingAndGlyphs\" textLength=\"64\" x=\"350\" y=\"180.0669\">«depend»</text></a><!--MD5=[1b7591eae5389033d8d09a9d6721a717]\n",
       "link E4 to E5--><a href=\"psysml:aeab59fe-e3bd-4e23-96a4-136d0d468de6\" target=\"_top\" title=\"psysml:aeab59fe-e3bd-4e23-96a4-136d0d468de6\" xlink:actuate=\"onRequest\" xlink:href=\"psysml:aeab59fe-e3bd-4e23-96a4-136d0d468de6\" xlink:show=\"new\" xlink:title=\"psysml:aeab59fe-e3bd-4e23-96a4-136d0d468de6\" xlink:type=\"simple\"><path d=\"M349,267.1 C349,286.8 349,314.22 349,335.73 \" fill=\"none\" id=\"E4-&gt;E5\" style=\"stroke: #383838; stroke-width: 1.0; stroke-dasharray: 7.0,7.0;\"/><polygon fill=\"#383838\" points=\"349,343.95,352,335.95,346,335.95,349,343.95\" style=\"stroke: #383838; stroke-width: 1.0;\"/><text fill=\"#000000\" font-family=\"sans-serif\" font-size=\"13\" lengthAdjust=\"spacingAndGlyphs\" textLength=\"64\" x=\"350\" y=\"310.0669\">«depend»</text></a><!--MD5=[c5e8897d989ce984f93528998a7150fe]\n",
       "link E8 to E6--><a href=\"psysml:e01a683f-5a6a-44b0-a0de-a423aeb5ad40\" target=\"_top\" title=\"psysml:e01a683f-5a6a-44b0-a0de-a423aeb5ad40\" xlink:actuate=\"onRequest\" xlink:href=\"psysml:e01a683f-5a6a-44b0-a0de-a423aeb5ad40\" xlink:show=\"new\" xlink:title=\"psysml:e01a683f-5a6a-44b0-a0de-a423aeb5ad40\" xlink:type=\"simple\"><path d=\"M97.55,133.75 C81.97,149.19 64,167 64,167 C64,167 64,184 64,184 C64,184 64.88,196.21 65.81,209.18 \" fill=\"none\" id=\"E8-&gt;E6\" style=\"stroke: #383838; stroke-width: 1.0; stroke-dasharray: 7.0,7.0;\"/><polygon fill=\"#383838\" points=\"66.4,217.25,68.8203,209.056,62.8357,209.485,66.4,217.25\" style=\"stroke: #383838; stroke-width: 1.0;\"/><text fill=\"#000000\" font-family=\"sans-serif\" font-size=\"13\" lengthAdjust=\"spacingAndGlyphs\" textLength=\"64\" x=\"65\" y=\"180.0669\">«depend»</text></a><!--MD5=[bfa3c8b0d15052fdf50ae9310b491027]\n",
       "link E8 to E7--><a href=\"psysml:e01a683f-5a6a-44b0-a0de-a423aeb5ad40\" target=\"_top\" title=\"psysml:e01a683f-5a6a-44b0-a0de-a423aeb5ad40\" xlink:actuate=\"onRequest\" xlink:href=\"psysml:e01a683f-5a6a-44b0-a0de-a423aeb5ad40\" xlink:show=\"new\" xlink:title=\"psysml:e01a683f-5a6a-44b0-a0de-a423aeb5ad40\" xlink:type=\"simple\"><path d=\"M129.28,133.5 C138.17,154.57 151.64,186.5 161.47,209.81 \" fill=\"none\" id=\"E8-&gt;E7\" style=\"stroke: #383838; stroke-width: 1.0; stroke-dasharray: 7.0,7.0;\"/><polygon fill=\"#383838\" points=\"164.66,217.35,164.3241,208.8126,158.7933,211.1385,164.66,217.35\" style=\"stroke: #383838; stroke-width: 1.0;\"/><text fill=\"#000000\" font-family=\"sans-serif\" font-size=\"13\" lengthAdjust=\"spacingAndGlyphs\" textLength=\"64\" x=\"151\" y=\"180.0669\">«depend»</text></a><!--MD5=[c25ae050c50e3215ab65d9520b83b586]\n",
       "@startuml\r\n",
       "skinparam linetype polyline\r\n",
       "skinparam monochrome true\r\n",
       "skinparam classbackgroundcolor white\r\n",
       "skinparam shadowing false\r\n",
       "skinparam wrapWidth 300\r\n",
       "hide circle\r\n",
       "\r\n",
       "package \"DependencyTest\" as E1  [[psysml:c069fb4a-0cab-46ce-ae30-79221b6c6030 ]]  {\r\n",
       "package \"System\" as E2  [[psysml:0036a7be-5206-4df9-ab28-301972427778 ]]  {\r\n",
       "package \"Application Layer\" as E3  [[psysml:b9058297-d753-442e-8571-9bee33c166c8 ]]  {\r\n",
       "}\r\n",
       "package \"Service Layer\" as E4  [[psysml:f007974c-308f-4828-8f2c-f39213f4e302 ]]  {\r\n",
       "}\r\n",
       "package \"Data Layer\" as E5  [[psysml:7870e797-441e-4743-978b-6b23dab0b8d1 ]]  {\r\n",
       "}\r\n",
       "}\r\n",
       "comp usage \"x\" as E6  <<(T,blue)attribute>> [[psysml:ca3c2c7b-3718-4538-a84c-29984e19a6f6 ]] {\r\n",
       "}\r\n",
       "comp usage \"y\" as E7  <<(T,blue)attribute>> [[psysml:f187cc38-895f-43c9-b55f-372a79474975 ]] {\r\n",
       "}\r\n",
       "comp usage \"z\" as E8  <<(T,blue)attribute>> [[psysml:c8a5167c-621d-4bfa-8ffa-e3ed6a854bed ]] {\r\n",
       "}\r\n",
       "E3 ..>> E4 [[psysml:af0245ca-a479-404d-840a-c478ec8f55f1 ]] : <<depend>>\r\n",
       "E4 ..>> E5 [[psysml:aeab59fe-e3bd-4e23-96a4-136d0d468de6 ]] : <<depend>>\r\n",
       "E8 ..>> E6 [[psysml:e01a683f-5a6a-44b0-a0de-a423aeb5ad40 ]] : <<depend>>\r\n",
       "E8 ..>> E7 [[psysml:e01a683f-5a6a-44b0-a0de-a423aeb5ad40 ]] : <<depend>>\r\n",
       "}\r\n",
       "@enduml\r\n",
       "\n",
       "PlantUML version 1.2020.13(Sat Jun 13 12:26:38 UTC 2020)\n",
       "(EPL source distribution)\n",
       "Java Runtime: OpenJDK Runtime Environment\n",
       "JVM: OpenJDK 64-Bit Server VM\n",
       "Default Encoding: UTF-8\n",
       "Language: en\n",
       "Country: null\n",
       "--></g></svg>"
      ]
     },
     "execution_count": 9,
     "metadata": {},
     "output_type": "execute_result"
    }
   ],
   "source": [
    "%viz --style=\"POLYLINE\" --view=\"Default\" \"DependencyTest\""
   ]
  },
  {
   "cell_type": "code",
   "execution_count": 10,
   "id": "antique-jonathan",
   "metadata": {
    "execution": {
     "iopub.execute_input": "2021-03-26T13:04:32.415548Z",
     "iopub.status.busy": "2021-03-26T13:04:32.414876Z",
     "iopub.status.idle": "2021-03-26T13:04:32.460490Z",
     "shell.execute_reply": "2021-03-26T13:04:32.460842Z"
    }
   },
   "outputs": [
    {
     "data": {
      "image/svg+xml": [
       "<?xml version=\"1.0\" encoding=\"UTF-8\" standalone=\"no\"?><svg xmlns=\"http://www.w3.org/2000/svg\" xmlns:xlink=\"http://www.w3.org/1999/xlink\" contentScriptType=\"application/ecmascript\" contentStyleType=\"text/css\" height=\"449px\" preserveAspectRatio=\"none\" style=\"width:489px;height:449px;\" version=\"1.1\" viewBox=\"0 0 489 449\" width=\"489px\" zoomAndPan=\"magnify\"><defs/><g><!--MD5=[fbc87193dbaf4d95561dea2c320d4a47]\n",
       "cluster E1--><a href=\"psysml:c069fb4a-0cab-46ce-ae30-79221b6c6030\" target=\"_top\" title=\"psysml:c069fb4a-0cab-46ce-ae30-79221b6c6030\" xlink:actuate=\"onRequest\" xlink:href=\"psysml:c069fb4a-0cab-46ce-ae30-79221b6c6030\" xlink:show=\"new\" xlink:title=\"psysml:c069fb4a-0cab-46ce-ae30-79221b6c6030\" xlink:type=\"simple\"><polygon fill=\"#FFFFFF\" points=\"16,6,156,6,163,28.2969,467,28.2969,467,437,16,437,16,6\" style=\"stroke: #000000; stroke-width: 1.5;\"/><line style=\"stroke: #000000; stroke-width: 1.5;\" x1=\"16\" x2=\"163\" y1=\"28.2969\" y2=\"28.2969\"/><text fill=\"#000000\" font-family=\"sans-serif\" font-size=\"14\" font-weight=\"bold\" lengthAdjust=\"spacingAndGlyphs\" textLength=\"134\" x=\"20\" y=\"20.9951\">DependencyTest</text></a><!--MD5=[e4f7fae6ed58524ba242bb0b0d3be6b7]\n",
       "cluster E2--><a href=\"psysml:0036a7be-5206-4df9-ab28-301972427778\" target=\"_top\" title=\"psysml:0036a7be-5206-4df9-ab28-301972427778\" xlink:actuate=\"onRequest\" xlink:href=\"psysml:0036a7be-5206-4df9-ab28-301972427778\" xlink:show=\"new\" xlink:title=\"psysml:0036a7be-5206-4df9-ab28-301972427778\" xlink:type=\"simple\"><polygon fill=\"#FFFFFF\" points=\"255,49,319,49,326,71.2969,443,71.2969,443,413,255,413,255,49\" style=\"stroke: #000000; stroke-width: 1.5;\"/><line style=\"stroke: #000000; stroke-width: 1.5;\" x1=\"255\" x2=\"326\" y1=\"71.2969\" y2=\"71.2969\"/><text fill=\"#000000\" font-family=\"sans-serif\" font-size=\"14\" font-weight=\"bold\" lengthAdjust=\"spacingAndGlyphs\" textLength=\"58\" x=\"259\" y=\"63.9951\">System</text></a><!--MD5=[60a26617385b1d2d0262a64233df1f8d]\n",
       "class E6--><a href=\"psysml:ca3c2c7b-3718-4538-a84c-29984e19a6f6\" target=\"_top\" title=\"psysml:ca3c2c7b-3718-4538-a84c-29984e19a6f6\" xlink:actuate=\"onRequest\" xlink:href=\"psysml:ca3c2c7b-3718-4538-a84c-29984e19a6f6\" xlink:show=\"new\" xlink:title=\"psysml:ca3c2c7b-3718-4538-a84c-29984e19a6f6\" xlink:type=\"simple\"><rect fill=\"#FFFFFF\" height=\"45.9375\" id=\"E6\" rx=\"10\" ry=\"10\" style=\"stroke: #383838; stroke-width: 1.5;\" width=\"71\" x=\"32.5\" y=\"217.5\"/><text fill=\"#000000\" font-family=\"sans-serif\" font-size=\"12\" font-style=\"italic\" lengthAdjust=\"spacingAndGlyphs\" textLength=\"69\" x=\"33.5\" y=\"233.6387\">«attribute»</text><text fill=\"#000000\" font-family=\"sans-serif\" font-size=\"12\" lengthAdjust=\"spacingAndGlyphs\" textLength=\"6\" x=\"65\" y=\"247.6074\">x</text><line style=\"stroke: #383838; stroke-width: 1.5;\" x1=\"33.5\" x2=\"102.5\" y1=\"255.4375\" y2=\"255.4375\"/></a><!--MD5=[2156ba9850f5573cc1fc38a6a4b2f02b]\n",
       "class E7--><a href=\"psysml:f187cc38-895f-43c9-b55f-372a79474975\" target=\"_top\" title=\"psysml:f187cc38-895f-43c9-b55f-372a79474975\" xlink:actuate=\"onRequest\" xlink:href=\"psysml:f187cc38-895f-43c9-b55f-372a79474975\" xlink:show=\"new\" xlink:title=\"psysml:f187cc38-895f-43c9-b55f-372a79474975\" xlink:type=\"simple\"><rect fill=\"#FFFFFF\" height=\"45.9375\" id=\"E7\" rx=\"10\" ry=\"10\" style=\"stroke: #383838; stroke-width: 1.5;\" width=\"71\" x=\"138.5\" y=\"217.5\"/><text fill=\"#000000\" font-family=\"sans-serif\" font-size=\"12\" font-style=\"italic\" lengthAdjust=\"spacingAndGlyphs\" textLength=\"69\" x=\"139.5\" y=\"233.6387\">«attribute»</text><text fill=\"#000000\" font-family=\"sans-serif\" font-size=\"12\" lengthAdjust=\"spacingAndGlyphs\" textLength=\"6\" x=\"171\" y=\"247.6074\">y</text><line style=\"stroke: #383838; stroke-width: 1.5;\" x1=\"139.5\" x2=\"208.5\" y1=\"255.4375\" y2=\"255.4375\"/></a><!--MD5=[b9389687b975829384b498ac4b7476b2]\n",
       "class E8--><a href=\"psysml:c8a5167c-621d-4bfa-8ffa-e3ed6a854bed\" target=\"_top\" title=\"psysml:c8a5167c-621d-4bfa-8ffa-e3ed6a854bed\" xlink:actuate=\"onRequest\" xlink:href=\"psysml:c8a5167c-621d-4bfa-8ffa-e3ed6a854bed\" xlink:show=\"new\" xlink:title=\"psysml:c8a5167c-621d-4bfa-8ffa-e3ed6a854bed\" xlink:type=\"simple\"><rect fill=\"#FFFFFF\" height=\"45.9375\" id=\"E8\" rx=\"10\" ry=\"10\" style=\"stroke: #383838; stroke-width: 1.5;\" width=\"71\" x=\"84.5\" y=\"87.5\"/><text fill=\"#000000\" font-family=\"sans-serif\" font-size=\"12\" font-style=\"italic\" lengthAdjust=\"spacingAndGlyphs\" textLength=\"69\" x=\"85.5\" y=\"103.6387\">«attribute»</text><text fill=\"#000000\" font-family=\"sans-serif\" font-size=\"12\" lengthAdjust=\"spacingAndGlyphs\" textLength=\"5\" x=\"117.5\" y=\"117.6074\">z</text><line style=\"stroke: #383838; stroke-width: 1.5;\" x1=\"85.5\" x2=\"154.5\" y1=\"125.4375\" y2=\"125.4375\"/></a><a href=\"psysml:b9058297-d753-442e-8571-9bee33c166c8\" target=\"_top\" title=\"psysml:b9058297-d753-442e-8571-9bee33c166c8\" xlink:actuate=\"onRequest\" xlink:href=\"psysml:b9058297-d753-442e-8571-9bee33c166c8\" xlink:show=\"new\" xlink:title=\"psysml:b9058297-d753-442e-8571-9bee33c166c8\" xlink:type=\"simple\"><polygon fill=\"#FFFFFF\" points=\"271,84,413,84,420,106.2969,427,106.2969,427,136.5938,271,136.5938,271,84\" style=\"stroke: #000000; stroke-width: 1.5;\"/><line style=\"stroke: #000000; stroke-width: 1.5;\" x1=\"271\" x2=\"420\" y1=\"106.2969\" y2=\"106.2969\"/><text fill=\"#000000\" font-family=\"sans-serif\" font-size=\"14\" font-weight=\"bold\" lengthAdjust=\"spacingAndGlyphs\" textLength=\"136\" x=\"275\" y=\"98.9951\">Application Layer</text></a><a href=\"psysml:f007974c-308f-4828-8f2c-f39213f4e302\" target=\"_top\" title=\"psysml:f007974c-308f-4828-8f2c-f39213f4e302\" xlink:actuate=\"onRequest\" xlink:href=\"psysml:f007974c-308f-4828-8f2c-f39213f4e302\" xlink:show=\"new\" xlink:title=\"psysml:f007974c-308f-4828-8f2c-f39213f4e302\" xlink:type=\"simple\"><polygon fill=\"#FFFFFF\" points=\"285,214,399,214,406,236.2969,413,236.2969,413,266.5938,285,266.5938,285,214\" style=\"stroke: #000000; stroke-width: 1.5;\"/><line style=\"stroke: #000000; stroke-width: 1.5;\" x1=\"285\" x2=\"406\" y1=\"236.2969\" y2=\"236.2969\"/><text fill=\"#000000\" font-family=\"sans-serif\" font-size=\"14\" font-weight=\"bold\" lengthAdjust=\"spacingAndGlyphs\" textLength=\"108\" x=\"289\" y=\"228.9951\">Service Layer</text></a><a href=\"psysml:7870e797-441e-4743-978b-6b23dab0b8d1\" target=\"_top\" title=\"psysml:7870e797-441e-4743-978b-6b23dab0b8d1\" xlink:actuate=\"onRequest\" xlink:href=\"psysml:7870e797-441e-4743-978b-6b23dab0b8d1\" xlink:show=\"new\" xlink:title=\"psysml:7870e797-441e-4743-978b-6b23dab0b8d1\" xlink:type=\"simple\"><polygon fill=\"#FFFFFF\" points=\"297,344,387,344,394,366.2969,401,366.2969,401,396.5938,297,396.5938,297,344\" style=\"stroke: #000000; stroke-width: 1.5;\"/><line style=\"stroke: #000000; stroke-width: 1.5;\" x1=\"297\" x2=\"394\" y1=\"366.2969\" y2=\"366.2969\"/><text fill=\"#000000\" font-family=\"sans-serif\" font-size=\"14\" font-weight=\"bold\" lengthAdjust=\"spacingAndGlyphs\" textLength=\"84\" x=\"301\" y=\"358.9951\">Data Layer</text></a><!--MD5=[af87c684e3b0d8be13c1a698a818ef1e]\n",
       "link E3 to E4--><a href=\"psysml:af0245ca-a479-404d-840a-c478ec8f55f1\" target=\"_top\" title=\"psysml:af0245ca-a479-404d-840a-c478ec8f55f1\" xlink:actuate=\"onRequest\" xlink:href=\"psysml:af0245ca-a479-404d-840a-c478ec8f55f1\" xlink:show=\"new\" xlink:title=\"psysml:af0245ca-a479-404d-840a-c478ec8f55f1\" xlink:type=\"simple\"><path d=\"M349,137.1 C349,156.8 349,184.22 349,205.73 \" fill=\"none\" id=\"E3-&gt;E4\" style=\"stroke: #383838; stroke-width: 1.0; stroke-dasharray: 7.0,7.0;\"/><polygon fill=\"#383838\" points=\"349,213.95,352,205.95,346,205.95,349,213.95\" style=\"stroke: #383838; stroke-width: 1.0;\"/><text fill=\"#000000\" font-family=\"sans-serif\" font-size=\"13\" lengthAdjust=\"spacingAndGlyphs\" textLength=\"64\" x=\"350\" y=\"180.0669\">«depend»</text></a><!--MD5=[1b7591eae5389033d8d09a9d6721a717]\n",
       "link E4 to E5--><a href=\"psysml:aeab59fe-e3bd-4e23-96a4-136d0d468de6\" target=\"_top\" title=\"psysml:aeab59fe-e3bd-4e23-96a4-136d0d468de6\" xlink:actuate=\"onRequest\" xlink:href=\"psysml:aeab59fe-e3bd-4e23-96a4-136d0d468de6\" xlink:show=\"new\" xlink:title=\"psysml:aeab59fe-e3bd-4e23-96a4-136d0d468de6\" xlink:type=\"simple\"><path d=\"M349,267.1 C349,286.8 349,314.22 349,335.73 \" fill=\"none\" id=\"E4-&gt;E5\" style=\"stroke: #383838; stroke-width: 1.0; stroke-dasharray: 7.0,7.0;\"/><polygon fill=\"#383838\" points=\"349,343.95,352,335.95,346,335.95,349,343.95\" style=\"stroke: #383838; stroke-width: 1.0;\"/><text fill=\"#000000\" font-family=\"sans-serif\" font-size=\"13\" lengthAdjust=\"spacingAndGlyphs\" textLength=\"64\" x=\"350\" y=\"310.0669\">«depend»</text></a><!--MD5=[c5e8897d989ce984f93528998a7150fe]\n",
       "link E8 to E6--><a href=\"psysml:e01a683f-5a6a-44b0-a0de-a423aeb5ad40\" target=\"_top\" title=\"psysml:e01a683f-5a6a-44b0-a0de-a423aeb5ad40\" xlink:actuate=\"onRequest\" xlink:href=\"psysml:e01a683f-5a6a-44b0-a0de-a423aeb5ad40\" xlink:show=\"new\" xlink:title=\"psysml:e01a683f-5a6a-44b0-a0de-a423aeb5ad40\" xlink:type=\"simple\"><path d=\"M97.55,133.75 C81.97,149.19 64,167 64,167 C64,167 64,184 64,184 C64,184 64.88,196.21 65.81,209.18 \" fill=\"none\" id=\"E8-&gt;E6\" style=\"stroke: #383838; stroke-width: 1.0; stroke-dasharray: 7.0,7.0;\"/><polygon fill=\"#383838\" points=\"66.4,217.25,68.8203,209.056,62.8357,209.485,66.4,217.25\" style=\"stroke: #383838; stroke-width: 1.0;\"/><text fill=\"#000000\" font-family=\"sans-serif\" font-size=\"13\" lengthAdjust=\"spacingAndGlyphs\" textLength=\"64\" x=\"65\" y=\"180.0669\">«depend»</text></a><!--MD5=[bfa3c8b0d15052fdf50ae9310b491027]\n",
       "link E8 to E7--><a href=\"psysml:e01a683f-5a6a-44b0-a0de-a423aeb5ad40\" target=\"_top\" title=\"psysml:e01a683f-5a6a-44b0-a0de-a423aeb5ad40\" xlink:actuate=\"onRequest\" xlink:href=\"psysml:e01a683f-5a6a-44b0-a0de-a423aeb5ad40\" xlink:show=\"new\" xlink:title=\"psysml:e01a683f-5a6a-44b0-a0de-a423aeb5ad40\" xlink:type=\"simple\"><path d=\"M129.28,133.5 C138.17,154.57 151.64,186.5 161.47,209.81 \" fill=\"none\" id=\"E8-&gt;E7\" style=\"stroke: #383838; stroke-width: 1.0; stroke-dasharray: 7.0,7.0;\"/><polygon fill=\"#383838\" points=\"164.66,217.35,164.3241,208.8126,158.7933,211.1385,164.66,217.35\" style=\"stroke: #383838; stroke-width: 1.0;\"/><text fill=\"#000000\" font-family=\"sans-serif\" font-size=\"13\" lengthAdjust=\"spacingAndGlyphs\" textLength=\"64\" x=\"151\" y=\"180.0669\">«depend»</text></a><!--MD5=[c25ae050c50e3215ab65d9520b83b586]\n",
       "@startuml\r\n",
       "skinparam linetype polyline\r\n",
       "skinparam monochrome true\r\n",
       "skinparam classbackgroundcolor white\r\n",
       "skinparam shadowing false\r\n",
       "skinparam wrapWidth 300\r\n",
       "hide circle\r\n",
       "\r\n",
       "package \"DependencyTest\" as E1  [[psysml:c069fb4a-0cab-46ce-ae30-79221b6c6030 ]]  {\r\n",
       "package \"System\" as E2  [[psysml:0036a7be-5206-4df9-ab28-301972427778 ]]  {\r\n",
       "package \"Application Layer\" as E3  [[psysml:b9058297-d753-442e-8571-9bee33c166c8 ]]  {\r\n",
       "}\r\n",
       "package \"Service Layer\" as E4  [[psysml:f007974c-308f-4828-8f2c-f39213f4e302 ]]  {\r\n",
       "}\r\n",
       "package \"Data Layer\" as E5  [[psysml:7870e797-441e-4743-978b-6b23dab0b8d1 ]]  {\r\n",
       "}\r\n",
       "}\r\n",
       "comp usage \"x\" as E6  <<(T,blue)attribute>> [[psysml:ca3c2c7b-3718-4538-a84c-29984e19a6f6 ]] {\r\n",
       "}\r\n",
       "comp usage \"y\" as E7  <<(T,blue)attribute>> [[psysml:f187cc38-895f-43c9-b55f-372a79474975 ]] {\r\n",
       "}\r\n",
       "comp usage \"z\" as E8  <<(T,blue)attribute>> [[psysml:c8a5167c-621d-4bfa-8ffa-e3ed6a854bed ]] {\r\n",
       "}\r\n",
       "E3 ..>> E4 [[psysml:af0245ca-a479-404d-840a-c478ec8f55f1 ]] : <<depend>>\r\n",
       "E4 ..>> E5 [[psysml:aeab59fe-e3bd-4e23-96a4-136d0d468de6 ]] : <<depend>>\r\n",
       "E8 ..>> E6 [[psysml:e01a683f-5a6a-44b0-a0de-a423aeb5ad40 ]] : <<depend>>\r\n",
       "E8 ..>> E7 [[psysml:e01a683f-5a6a-44b0-a0de-a423aeb5ad40 ]] : <<depend>>\r\n",
       "}\r\n",
       "@enduml\r\n",
       "\n",
       "PlantUML version 1.2020.13(Sat Jun 13 12:26:38 UTC 2020)\n",
       "(EPL source distribution)\n",
       "Java Runtime: OpenJDK Runtime Environment\n",
       "JVM: OpenJDK 64-Bit Server VM\n",
       "Default Encoding: UTF-8\n",
       "Language: en\n",
       "Country: null\n",
       "--></g></svg>"
      ]
     },
     "execution_count": 10,
     "metadata": {},
     "output_type": "execute_result"
    }
   ],
   "source": [
    "%viz --style=\"POLYLINE\" --view=\"Tree\" \"DependencyTest\""
   ]
  },
  {
   "cell_type": "code",
   "execution_count": 11,
   "id": "expected-class",
   "metadata": {
    "execution": {
     "iopub.execute_input": "2021-03-26T13:04:32.513986Z",
     "iopub.status.busy": "2021-03-26T13:04:32.513227Z",
     "iopub.status.idle": "2021-03-26T13:04:32.521559Z",
     "shell.execute_reply": "2021-03-26T13:04:32.521902Z"
    }
   },
   "outputs": [
    {
     "data": {
      "image/svg+xml": [
       "<?xml version=\"1.0\" encoding=\"UTF-8\" standalone=\"no\"?><svg xmlns=\"http://www.w3.org/2000/svg\" xmlns:xlink=\"http://www.w3.org/1999/xlink\" contentScriptType=\"application/ecmascript\" contentStyleType=\"text/css\" height=\"12px\" preserveAspectRatio=\"none\" style=\"width:12px;height:12px;\" version=\"1.1\" viewBox=\"0 0 12 12\" width=\"12px\" zoomAndPan=\"magnify\"><defs/><g><!--MD5=[896ac0e7a515d8dd7765a661cb4ee08b]\n",
       "@startuml\r\n",
       "skinparam linetype polyline\r\n",
       "skinparam monochrome true\r\n",
       "skinparam classbackgroundcolor white\r\n",
       "skinparam shadowing false\r\n",
       "skinparam wrapWidth 300\r\n",
       "hide circle\r\n",
       "\r\n",
       "@enduml\r\n",
       "\n",
       "PlantUML version 1.2020.13(Sat Jun 13 12:26:38 UTC 2020)\n",
       "(EPL source distribution)\n",
       "Java Runtime: OpenJDK Runtime Environment\n",
       "JVM: OpenJDK 64-Bit Server VM\n",
       "Default Encoding: UTF-8\n",
       "Language: en\n",
       "Country: null\n",
       "--></g></svg>"
      ]
     },
     "execution_count": 11,
     "metadata": {},
     "output_type": "execute_result"
    }
   ],
   "source": [
    "%viz --style=\"POLYLINE\" --view=\"State\" \"DependencyTest\""
   ]
  },
  {
   "cell_type": "code",
   "execution_count": 12,
   "id": "posted-wisconsin",
   "metadata": {
    "execution": {
     "iopub.execute_input": "2021-03-26T13:04:32.574316Z",
     "iopub.status.busy": "2021-03-26T13:04:32.573501Z",
     "iopub.status.idle": "2021-03-26T13:04:32.621764Z",
     "shell.execute_reply": "2021-03-26T13:04:32.620317Z"
    }
   },
   "outputs": [
    {
     "data": {
      "image/svg+xml": [
       "<?xml version=\"1.0\" encoding=\"UTF-8\" standalone=\"no\"?><svg xmlns=\"http://www.w3.org/2000/svg\" xmlns:xlink=\"http://www.w3.org/1999/xlink\" contentScriptType=\"application/ecmascript\" contentStyleType=\"text/css\" height=\"361px\" preserveAspectRatio=\"none\" style=\"width:489px;height:361px;\" version=\"1.1\" viewBox=\"0 0 489 361\" width=\"489px\" zoomAndPan=\"magnify\"><defs/><g><!--MD5=[fbc87193dbaf4d95561dea2c320d4a47]\n",
       "cluster E1--><a href=\"psysml:c069fb4a-0cab-46ce-ae30-79221b6c6030\" target=\"_top\" title=\"psysml:c069fb4a-0cab-46ce-ae30-79221b6c6030\" xlink:actuate=\"onRequest\" xlink:href=\"psysml:c069fb4a-0cab-46ce-ae30-79221b6c6030\" xlink:show=\"new\" xlink:title=\"psysml:c069fb4a-0cab-46ce-ae30-79221b6c6030\" xlink:type=\"simple\"><polygon fill=\"#FFFFFF\" points=\"16,6,156,6,163,28.2969,467,28.2969,467,349,16,349,16,6\" style=\"stroke: #000000; stroke-width: 1.5;\"/><line style=\"stroke: #000000; stroke-width: 1.5;\" x1=\"16\" x2=\"163\" y1=\"28.2969\" y2=\"28.2969\"/><text fill=\"#000000\" font-family=\"sans-serif\" font-size=\"14\" font-weight=\"bold\" lengthAdjust=\"spacingAndGlyphs\" textLength=\"134\" x=\"20\" y=\"20.9951\">DependencyTest</text></a><!--MD5=[e4f7fae6ed58524ba242bb0b0d3be6b7]\n",
       "cluster E2--><a href=\"psysml:0036a7be-5206-4df9-ab28-301972427778\" target=\"_top\" title=\"psysml:0036a7be-5206-4df9-ab28-301972427778\" xlink:actuate=\"onRequest\" xlink:href=\"psysml:0036a7be-5206-4df9-ab28-301972427778\" xlink:show=\"new\" xlink:title=\"psysml:0036a7be-5206-4df9-ab28-301972427778\" xlink:type=\"simple\"><polygon fill=\"#FFFFFF\" points=\"255,49,319,49,326,71.2969,443,71.2969,443,325,255,325,255,49\" style=\"stroke: #000000; stroke-width: 1.5;\"/><line style=\"stroke: #000000; stroke-width: 1.5;\" x1=\"255\" x2=\"326\" y1=\"71.2969\" y2=\"71.2969\"/><text fill=\"#000000\" font-family=\"sans-serif\" font-size=\"14\" font-weight=\"bold\" lengthAdjust=\"spacingAndGlyphs\" textLength=\"58\" x=\"259\" y=\"63.9951\">System</text></a><a href=\"psysml:b9058297-d753-442e-8571-9bee33c166c8\" target=\"_top\" title=\"psysml:b9058297-d753-442e-8571-9bee33c166c8\" xlink:actuate=\"onRequest\" xlink:href=\"psysml:b9058297-d753-442e-8571-9bee33c166c8\" xlink:show=\"new\" xlink:title=\"psysml:b9058297-d753-442e-8571-9bee33c166c8\" xlink:type=\"simple\"><polygon fill=\"#FFFFFF\" points=\"271,84,413,84,420,106.2969,427,106.2969,427,136.5938,271,136.5938,271,84\" style=\"stroke: #000000; stroke-width: 1.5;\"/><line style=\"stroke: #000000; stroke-width: 1.5;\" x1=\"271\" x2=\"420\" y1=\"106.2969\" y2=\"106.2969\"/><text fill=\"#000000\" font-family=\"sans-serif\" font-size=\"14\" font-weight=\"bold\" lengthAdjust=\"spacingAndGlyphs\" textLength=\"136\" x=\"275\" y=\"98.9951\">Application Layer</text></a><a href=\"psysml:f007974c-308f-4828-8f2c-f39213f4e302\" target=\"_top\" title=\"psysml:f007974c-308f-4828-8f2c-f39213f4e302\" xlink:actuate=\"onRequest\" xlink:href=\"psysml:f007974c-308f-4828-8f2c-f39213f4e302\" xlink:show=\"new\" xlink:title=\"psysml:f007974c-308f-4828-8f2c-f39213f4e302\" xlink:type=\"simple\"><polygon fill=\"#FFFFFF\" points=\"285,170,399,170,406,192.2969,413,192.2969,413,222.5938,285,222.5938,285,170\" style=\"stroke: #000000; stroke-width: 1.5;\"/><line style=\"stroke: #000000; stroke-width: 1.5;\" x1=\"285\" x2=\"406\" y1=\"192.2969\" y2=\"192.2969\"/><text fill=\"#000000\" font-family=\"sans-serif\" font-size=\"14\" font-weight=\"bold\" lengthAdjust=\"spacingAndGlyphs\" textLength=\"108\" x=\"289\" y=\"184.9951\">Service Layer</text></a><a href=\"psysml:7870e797-441e-4743-978b-6b23dab0b8d1\" target=\"_top\" title=\"psysml:7870e797-441e-4743-978b-6b23dab0b8d1\" xlink:actuate=\"onRequest\" xlink:href=\"psysml:7870e797-441e-4743-978b-6b23dab0b8d1\" xlink:show=\"new\" xlink:title=\"psysml:7870e797-441e-4743-978b-6b23dab0b8d1\" xlink:type=\"simple\"><polygon fill=\"#FFFFFF\" points=\"297,256,387,256,394,278.2969,401,278.2969,401,308.5938,297,308.5938,297,256\" style=\"stroke: #000000; stroke-width: 1.5;\"/><line style=\"stroke: #000000; stroke-width: 1.5;\" x1=\"297\" x2=\"394\" y1=\"278.2969\" y2=\"278.2969\"/><text fill=\"#000000\" font-family=\"sans-serif\" font-size=\"14\" font-weight=\"bold\" lengthAdjust=\"spacingAndGlyphs\" textLength=\"84\" x=\"301\" y=\"270.9951\">Data Layer</text></a><g id=\"E1.E6\"><a href=\"psysml:ca3c2c7b-3718-4538-a84c-29984e19a6f6\" target=\"_top\" title=\"psysml:ca3c2c7b-3718-4538-a84c-29984e19a6f6\" xlink:actuate=\"onRequest\" xlink:href=\"psysml:ca3c2c7b-3718-4538-a84c-29984e19a6f6\" xlink:show=\"new\" xlink:title=\"psysml:ca3c2c7b-3718-4538-a84c-29984e19a6f6\" xlink:type=\"simple\"><rect fill=\"#FFFFFF\" height=\"42.9375\" id=\"E6\" rx=\"10\" ry=\"10\" style=\"stroke: #383838; stroke-width: 1.5;\" width=\"76\" x=\"32\" y=\"175\"/><rect fill=\"#F8F8F8\" height=\"37.9375\" rx=\"10\" ry=\"10\" style=\"stroke: #F8F8F8; stroke-width: 1.5;\" width=\"76\" x=\"32\" y=\"175\"/><rect fill=\"#F8F8F8\" height=\"10\" style=\"stroke: #F8F8F8; stroke-width: 1.5;\" width=\"76\" x=\"32\" y=\"202.9375\"/><rect fill=\"none\" height=\"42.9375\" id=\"E6\" rx=\"10\" ry=\"10\" style=\"stroke: #383838; stroke-width: 1.5;\" width=\"76\" x=\"32\" y=\"175\"/><text fill=\"#000000\" font-family=\"sans-serif\" font-size=\"12\" font-style=\"italic\" lengthAdjust=\"spacingAndGlyphs\" textLength=\"69\" x=\"35.5\" y=\"191.1387\">«attribute»</text><text fill=\"#000000\" font-family=\"sans-serif\" font-size=\"12\" lengthAdjust=\"spacingAndGlyphs\" textLength=\"6\" x=\"67\" y=\"205.1074\">x</text></a></g><g id=\"E1.E7\"><a href=\"psysml:f187cc38-895f-43c9-b55f-372a79474975\" target=\"_top\" title=\"psysml:f187cc38-895f-43c9-b55f-372a79474975\" xlink:actuate=\"onRequest\" xlink:href=\"psysml:f187cc38-895f-43c9-b55f-372a79474975\" xlink:show=\"new\" xlink:title=\"psysml:f187cc38-895f-43c9-b55f-372a79474975\" xlink:type=\"simple\"><rect fill=\"#FFFFFF\" height=\"42.9375\" id=\"E7\" rx=\"10\" ry=\"10\" style=\"stroke: #383838; stroke-width: 1.5;\" width=\"76\" x=\"143\" y=\"175\"/><rect fill=\"#F8F8F8\" height=\"37.9375\" rx=\"10\" ry=\"10\" style=\"stroke: #F8F8F8; stroke-width: 1.5;\" width=\"76\" x=\"143\" y=\"175\"/><rect fill=\"#F8F8F8\" height=\"10\" style=\"stroke: #F8F8F8; stroke-width: 1.5;\" width=\"76\" x=\"143\" y=\"202.9375\"/><rect fill=\"none\" height=\"42.9375\" id=\"E7\" rx=\"10\" ry=\"10\" style=\"stroke: #383838; stroke-width: 1.5;\" width=\"76\" x=\"143\" y=\"175\"/><text fill=\"#000000\" font-family=\"sans-serif\" font-size=\"12\" font-style=\"italic\" lengthAdjust=\"spacingAndGlyphs\" textLength=\"69\" x=\"146.5\" y=\"191.1387\">«attribute»</text><text fill=\"#000000\" font-family=\"sans-serif\" font-size=\"12\" lengthAdjust=\"spacingAndGlyphs\" textLength=\"6\" x=\"178\" y=\"205.1074\">y</text></a></g><g id=\"E1.E8\"><a href=\"psysml:c8a5167c-621d-4bfa-8ffa-e3ed6a854bed\" target=\"_top\" title=\"psysml:c8a5167c-621d-4bfa-8ffa-e3ed6a854bed\" xlink:actuate=\"onRequest\" xlink:href=\"psysml:c8a5167c-621d-4bfa-8ffa-e3ed6a854bed\" xlink:show=\"new\" xlink:title=\"psysml:c8a5167c-621d-4bfa-8ffa-e3ed6a854bed\" xlink:type=\"simple\"><rect fill=\"#FFFFFF\" height=\"42.9375\" id=\"E8\" rx=\"10\" ry=\"10\" style=\"stroke: #383838; stroke-width: 1.5;\" width=\"76\" x=\"83\" y=\"89\"/><rect fill=\"#F8F8F8\" height=\"37.9375\" rx=\"10\" ry=\"10\" style=\"stroke: #F8F8F8; stroke-width: 1.5;\" width=\"76\" x=\"83\" y=\"89\"/><rect fill=\"#F8F8F8\" height=\"10\" style=\"stroke: #F8F8F8; stroke-width: 1.5;\" width=\"76\" x=\"83\" y=\"116.9375\"/><rect fill=\"none\" height=\"42.9375\" id=\"E8\" rx=\"10\" ry=\"10\" style=\"stroke: #383838; stroke-width: 1.5;\" width=\"76\" x=\"83\" y=\"89\"/><text fill=\"#000000\" font-family=\"sans-serif\" font-size=\"12\" font-style=\"italic\" lengthAdjust=\"spacingAndGlyphs\" textLength=\"69\" x=\"86.5\" y=\"105.1387\">«attribute»</text><text fill=\"#000000\" font-family=\"sans-serif\" font-size=\"12\" lengthAdjust=\"spacingAndGlyphs\" textLength=\"5\" x=\"118.5\" y=\"119.1074\">z</text></a></g><!--MD5=[af87c684e3b0d8be13c1a698a818ef1e]\n",
       "link E3 to E4--><a href=\"psysml:af0245ca-a479-404d-840a-c478ec8f55f1\" target=\"_top\" title=\"psysml:af0245ca-a479-404d-840a-c478ec8f55f1\" xlink:actuate=\"onRequest\" xlink:href=\"psysml:af0245ca-a479-404d-840a-c478ec8f55f1\" xlink:show=\"new\" xlink:title=\"psysml:af0245ca-a479-404d-840a-c478ec8f55f1\" xlink:type=\"simple\"><path d=\"M349,137.16 C349,144.98 349,153.69 349,161.94 \" fill=\"none\" id=\"E3-&gt;E4\" style=\"stroke: #383838; stroke-width: 1.0; stroke-dasharray: 7.0,7.0;\"/><polygon fill=\"#383838\" points=\"349,170,352,162,346,162,349,170\" style=\"stroke: #383838; stroke-width: 1.0;\"/><text fill=\"#000000\" font-family=\"sans-serif\" font-size=\"13\" lengthAdjust=\"spacingAndGlyphs\" textLength=\"64\" x=\"350\" y=\"158.0669\">«depend»</text></a><!--MD5=[1b7591eae5389033d8d09a9d6721a717]\n",
       "link E4 to E5--><a href=\"psysml:aeab59fe-e3bd-4e23-96a4-136d0d468de6\" target=\"_top\" title=\"psysml:aeab59fe-e3bd-4e23-96a4-136d0d468de6\" xlink:actuate=\"onRequest\" xlink:href=\"psysml:aeab59fe-e3bd-4e23-96a4-136d0d468de6\" xlink:show=\"new\" xlink:title=\"psysml:aeab59fe-e3bd-4e23-96a4-136d0d468de6\" xlink:type=\"simple\"><path d=\"M349,223.16 C349,230.98 349,239.69 349,247.94 \" fill=\"none\" id=\"E4-&gt;E5\" style=\"stroke: #383838; stroke-width: 1.0; stroke-dasharray: 7.0,7.0;\"/><polygon fill=\"#383838\" points=\"349,256,352,248,346,248,349,256\" style=\"stroke: #383838; stroke-width: 1.0;\"/><text fill=\"#000000\" font-family=\"sans-serif\" font-size=\"13\" lengthAdjust=\"spacingAndGlyphs\" textLength=\"64\" x=\"350\" y=\"244.0669\">«depend»</text></a><!--MD5=[c5e8897d989ce984f93528998a7150fe]\n",
       "link E8 to E6--><a href=\"psysml:e01a683f-5a6a-44b0-a0de-a423aeb5ad40\" target=\"_top\" title=\"psysml:e01a683f-5a6a-44b0-a0de-a423aeb5ad40\" xlink:actuate=\"onRequest\" xlink:href=\"psysml:e01a683f-5a6a-44b0-a0de-a423aeb5ad40\" xlink:show=\"new\" xlink:title=\"psysml:e01a683f-5a6a-44b0-a0de-a423aeb5ad40\" xlink:type=\"simple\"><path d=\"M85.87,132.14 C74.14,139.04 64,145 64,145 C64,145 64,162 64,162 C64,162 64.34,163.89 64.85,166.76 \" fill=\"none\" id=\"E8-&gt;E6\" style=\"stroke: #383838; stroke-width: 1.0; stroke-dasharray: 7.0,7.0;\"/><polygon fill=\"#383838\" points=\"66.3,174.86,67.838,166.4556,61.9325,167.5166,66.3,174.86\" style=\"stroke: #383838; stroke-width: 1.0;\"/><text fill=\"#000000\" font-family=\"sans-serif\" font-size=\"13\" lengthAdjust=\"spacingAndGlyphs\" textLength=\"64\" x=\"65\" y=\"158.0669\">«depend»</text></a><!--MD5=[bfa3c8b0d15052fdf50ae9310b491027]\n",
       "link E8 to E7--><a href=\"psysml:e01a683f-5a6a-44b0-a0de-a423aeb5ad40\" target=\"_top\" title=\"psysml:e01a683f-5a6a-44b0-a0de-a423aeb5ad40\" xlink:actuate=\"onRequest\" xlink:href=\"psysml:e01a683f-5a6a-44b0-a0de-a423aeb5ad40\" xlink:show=\"new\" xlink:title=\"psysml:e01a683f-5a6a-44b0-a0de-a423aeb5ad40\" xlink:type=\"simple\"><path d=\"M135.83,132.26 C143.61,143.15 153.22,156.61 161.59,168.32 \" fill=\"none\" id=\"E8-&gt;E7\" style=\"stroke: #383838; stroke-width: 1.0; stroke-dasharray: 7.0,7.0;\"/><polygon fill=\"#383838\" points=\"166.34,174.97,164.1399,166.7141,159.2538,170.1965,166.34,174.97\" style=\"stroke: #383838; stroke-width: 1.0;\"/><text fill=\"#000000\" font-family=\"sans-serif\" font-size=\"13\" lengthAdjust=\"spacingAndGlyphs\" textLength=\"64\" x=\"157\" y=\"158.0669\">«depend»</text></a><!--MD5=[c6203c40ee6873133c7520173784017b]\n",
       "@startuml\r\n",
       "skinparam ranksep 8\r\n",
       "skinparam rectangle {\r\n",
       " backgroundColor<<block>> LightGreen\r\n",
       "}\r\n",
       "skinparam linetype polyline\r\n",
       "skinparam monochrome true\r\n",
       "skinparam classbackgroundcolor white\r\n",
       "skinparam shadowing false\r\n",
       "skinparam wrapWidth 300\r\n",
       "hide circle\r\n",
       "\r\n",
       "package \"DependencyTest\" as E1  [[psysml:c069fb4a-0cab-46ce-ae30-79221b6c6030 ]]  {\r\n",
       "package \"System\" as E2  [[psysml:0036a7be-5206-4df9-ab28-301972427778 ]]  {\r\n",
       "package \"Application Layer\" as E3  [[psysml:b9058297-d753-442e-8571-9bee33c166c8 ]]  {\r\n",
       "}\r\n",
       "package \"Service Layer\" as E4  [[psysml:f007974c-308f-4828-8f2c-f39213f4e302 ]]  {\r\n",
       "}\r\n",
       "package \"Data Layer\" as E5  [[psysml:7870e797-441e-4743-978b-6b23dab0b8d1 ]]  {\r\n",
       "}\r\n",
       "}\r\n",
       "rec usage \"x\" as E6  <<(T,blue)attribute>> [[psysml:ca3c2c7b-3718-4538-a84c-29984e19a6f6 ]] {\r\n",
       "}\r\n",
       "rec usage \"y\" as E7  <<(T,blue)attribute>> [[psysml:f187cc38-895f-43c9-b55f-372a79474975 ]] {\r\n",
       "}\r\n",
       "rec usage \"z\" as E8  <<(T,blue)attribute>> [[psysml:c8a5167c-621d-4bfa-8ffa-e3ed6a854bed ]] {\r\n",
       "}\r\n",
       "E3 ..>> E4 [[psysml:af0245ca-a479-404d-840a-c478ec8f55f1 ]] : <<depend>>\r\n",
       "E4 ..>> E5 [[psysml:aeab59fe-e3bd-4e23-96a4-136d0d468de6 ]] : <<depend>>\r\n",
       "E8 ..>> E6 [[psysml:e01a683f-5a6a-44b0-a0de-a423aeb5ad40 ]] : <<depend>>\r\n",
       "E8 ..>> E7 [[psysml:e01a683f-5a6a-44b0-a0de-a423aeb5ad40 ]] : <<depend>>\r\n",
       "}\r\n",
       "@enduml\r\n",
       "\n",
       "PlantUML version 1.2020.13(Sat Jun 13 12:26:38 UTC 2020)\n",
       "(EPL source distribution)\n",
       "Java Runtime: OpenJDK Runtime Environment\n",
       "JVM: OpenJDK 64-Bit Server VM\n",
       "Default Encoding: UTF-8\n",
       "Language: en\n",
       "Country: null\n",
       "--></g></svg>"
      ]
     },
     "execution_count": 12,
     "metadata": {},
     "output_type": "execute_result"
    }
   ],
   "source": [
    "%viz --style=\"POLYLINE\" --view=\"Interconnection\" \"DependencyTest\""
   ]
  },
  {
   "cell_type": "code",
   "execution_count": 13,
   "id": "directed-america",
   "metadata": {
    "execution": {
     "iopub.execute_input": "2021-03-26T13:04:32.673848Z",
     "iopub.status.busy": "2021-03-26T13:04:32.672902Z",
     "iopub.status.idle": "2021-03-26T13:04:32.680178Z",
     "shell.execute_reply": "2021-03-26T13:04:32.680584Z"
    }
   },
   "outputs": [
    {
     "data": {
      "image/svg+xml": [
       "<?xml version=\"1.0\" encoding=\"UTF-8\" standalone=\"no\"?><svg xmlns=\"http://www.w3.org/2000/svg\" xmlns:xlink=\"http://www.w3.org/1999/xlink\" contentScriptType=\"application/ecmascript\" contentStyleType=\"text/css\" height=\"12px\" preserveAspectRatio=\"none\" style=\"width:12px;height:12px;\" version=\"1.1\" viewBox=\"0 0 12 12\" width=\"12px\" zoomAndPan=\"magnify\"><defs/><g><!--MD5=[97bbf32f66ccd50cbc40d92ea8f5a65e]\n",
       "@startuml\r\n",
       "skinparam ranksep 8\r\n",
       "skinparam linetype polyline\r\n",
       "skinparam monochrome true\r\n",
       "skinparam classbackgroundcolor white\r\n",
       "skinparam shadowing false\r\n",
       "skinparam wrapWidth 300\r\n",
       "hide circle\r\n",
       "\r\n",
       "@enduml\r\n",
       "\n",
       "PlantUML version 1.2020.13(Sat Jun 13 12:26:38 UTC 2020)\n",
       "(EPL source distribution)\n",
       "Java Runtime: OpenJDK Runtime Environment\n",
       "JVM: OpenJDK 64-Bit Server VM\n",
       "Default Encoding: UTF-8\n",
       "Language: en\n",
       "Country: null\n",
       "--></g></svg>"
      ]
     },
     "execution_count": 13,
     "metadata": {},
     "output_type": "execute_result"
    }
   ],
   "source": [
    "%viz --style=\"POLYLINE\" --view=\"Action\" \"DependencyTest\""
   ]
  },
  {
   "cell_type": "code",
   "execution_count": 14,
   "id": "leading-lightweight",
   "metadata": {
    "execution": {
     "iopub.execute_input": "2021-03-26T13:04:32.733206Z",
     "iopub.status.busy": "2021-03-26T13:04:32.732373Z",
     "iopub.status.idle": "2021-03-26T13:04:32.789168Z",
     "shell.execute_reply": "2021-03-26T13:04:32.787904Z"
    }
   },
   "outputs": [
    {
     "data": {
      "image/svg+xml": [
       "<?xml version=\"1.0\" encoding=\"UTF-8\" standalone=\"no\"?><svg xmlns=\"http://www.w3.org/2000/svg\" xmlns:xlink=\"http://www.w3.org/1999/xlink\" contentScriptType=\"application/ecmascript\" contentStyleType=\"text/css\" height=\"449px\" preserveAspectRatio=\"none\" style=\"width:489px;height:449px;\" version=\"1.1\" viewBox=\"0 0 489 449\" width=\"489px\" zoomAndPan=\"magnify\"><defs/><g><!--MD5=[fbc87193dbaf4d95561dea2c320d4a47]\n",
       "cluster E1--><a href=\"psysml:c069fb4a-0cab-46ce-ae30-79221b6c6030\" target=\"_top\" title=\"psysml:c069fb4a-0cab-46ce-ae30-79221b6c6030\" xlink:actuate=\"onRequest\" xlink:href=\"psysml:c069fb4a-0cab-46ce-ae30-79221b6c6030\" xlink:show=\"new\" xlink:title=\"psysml:c069fb4a-0cab-46ce-ae30-79221b6c6030\" xlink:type=\"simple\"><polygon fill=\"#FFFFFF\" points=\"16,6,156,6,163,28.2969,467,28.2969,467,437,16,437,16,6\" style=\"stroke: #000000; stroke-width: 1.5;\"/><line style=\"stroke: #000000; stroke-width: 1.5;\" x1=\"16\" x2=\"163\" y1=\"28.2969\" y2=\"28.2969\"/><text fill=\"#000000\" font-family=\"sans-serif\" font-size=\"14\" font-weight=\"bold\" lengthAdjust=\"spacingAndGlyphs\" textLength=\"134\" x=\"20\" y=\"20.9951\">DependencyTest</text></a><!--MD5=[e4f7fae6ed58524ba242bb0b0d3be6b7]\n",
       "cluster E2--><a href=\"psysml:0036a7be-5206-4df9-ab28-301972427778\" target=\"_top\" title=\"psysml:0036a7be-5206-4df9-ab28-301972427778\" xlink:actuate=\"onRequest\" xlink:href=\"psysml:0036a7be-5206-4df9-ab28-301972427778\" xlink:show=\"new\" xlink:title=\"psysml:0036a7be-5206-4df9-ab28-301972427778\" xlink:type=\"simple\"><polygon fill=\"#FFFFFF\" points=\"255,49,319,49,326,71.2969,443,71.2969,443,413,255,413,255,49\" style=\"stroke: #000000; stroke-width: 1.5;\"/><line style=\"stroke: #000000; stroke-width: 1.5;\" x1=\"255\" x2=\"326\" y1=\"71.2969\" y2=\"71.2969\"/><text fill=\"#000000\" font-family=\"sans-serif\" font-size=\"14\" font-weight=\"bold\" lengthAdjust=\"spacingAndGlyphs\" textLength=\"58\" x=\"259\" y=\"63.9951\">System</text></a><!--MD5=[60a26617385b1d2d0262a64233df1f8d]\n",
       "class E6--><a href=\"psysml:ca3c2c7b-3718-4538-a84c-29984e19a6f6\" target=\"_top\" title=\"psysml:ca3c2c7b-3718-4538-a84c-29984e19a6f6\" xlink:actuate=\"onRequest\" xlink:href=\"psysml:ca3c2c7b-3718-4538-a84c-29984e19a6f6\" xlink:show=\"new\" xlink:title=\"psysml:ca3c2c7b-3718-4538-a84c-29984e19a6f6\" xlink:type=\"simple\"><rect fill=\"#FFFFFF\" height=\"45.9375\" id=\"E6\" rx=\"10\" ry=\"10\" style=\"stroke: #383838; stroke-width: 1.5;\" width=\"71\" x=\"32.5\" y=\"217.5\"/><text fill=\"#000000\" font-family=\"sans-serif\" font-size=\"12\" font-style=\"italic\" lengthAdjust=\"spacingAndGlyphs\" textLength=\"69\" x=\"33.5\" y=\"233.6387\">«attribute»</text><text fill=\"#000000\" font-family=\"sans-serif\" font-size=\"12\" lengthAdjust=\"spacingAndGlyphs\" textLength=\"6\" x=\"65\" y=\"247.6074\">x</text><line style=\"stroke: #383838; stroke-width: 1.5;\" x1=\"33.5\" x2=\"102.5\" y1=\"255.4375\" y2=\"255.4375\"/></a><!--MD5=[2156ba9850f5573cc1fc38a6a4b2f02b]\n",
       "class E7--><a href=\"psysml:f187cc38-895f-43c9-b55f-372a79474975\" target=\"_top\" title=\"psysml:f187cc38-895f-43c9-b55f-372a79474975\" xlink:actuate=\"onRequest\" xlink:href=\"psysml:f187cc38-895f-43c9-b55f-372a79474975\" xlink:show=\"new\" xlink:title=\"psysml:f187cc38-895f-43c9-b55f-372a79474975\" xlink:type=\"simple\"><rect fill=\"#FFFFFF\" height=\"45.9375\" id=\"E7\" rx=\"10\" ry=\"10\" style=\"stroke: #383838; stroke-width: 1.5;\" width=\"71\" x=\"138.5\" y=\"217.5\"/><text fill=\"#000000\" font-family=\"sans-serif\" font-size=\"12\" font-style=\"italic\" lengthAdjust=\"spacingAndGlyphs\" textLength=\"69\" x=\"139.5\" y=\"233.6387\">«attribute»</text><text fill=\"#000000\" font-family=\"sans-serif\" font-size=\"12\" lengthAdjust=\"spacingAndGlyphs\" textLength=\"6\" x=\"171\" y=\"247.6074\">y</text><line style=\"stroke: #383838; stroke-width: 1.5;\" x1=\"139.5\" x2=\"208.5\" y1=\"255.4375\" y2=\"255.4375\"/></a><!--MD5=[b9389687b975829384b498ac4b7476b2]\n",
       "class E8--><a href=\"psysml:c8a5167c-621d-4bfa-8ffa-e3ed6a854bed\" target=\"_top\" title=\"psysml:c8a5167c-621d-4bfa-8ffa-e3ed6a854bed\" xlink:actuate=\"onRequest\" xlink:href=\"psysml:c8a5167c-621d-4bfa-8ffa-e3ed6a854bed\" xlink:show=\"new\" xlink:title=\"psysml:c8a5167c-621d-4bfa-8ffa-e3ed6a854bed\" xlink:type=\"simple\"><rect fill=\"#FFFFFF\" height=\"45.9375\" id=\"E8\" rx=\"10\" ry=\"10\" style=\"stroke: #383838; stroke-width: 1.5;\" width=\"71\" x=\"84.5\" y=\"87.5\"/><text fill=\"#000000\" font-family=\"sans-serif\" font-size=\"12\" font-style=\"italic\" lengthAdjust=\"spacingAndGlyphs\" textLength=\"69\" x=\"85.5\" y=\"103.6387\">«attribute»</text><text fill=\"#000000\" font-family=\"sans-serif\" font-size=\"12\" lengthAdjust=\"spacingAndGlyphs\" textLength=\"5\" x=\"117.5\" y=\"117.6074\">z</text><line style=\"stroke: #383838; stroke-width: 1.5;\" x1=\"85.5\" x2=\"154.5\" y1=\"125.4375\" y2=\"125.4375\"/></a><a href=\"psysml:b9058297-d753-442e-8571-9bee33c166c8\" target=\"_top\" title=\"psysml:b9058297-d753-442e-8571-9bee33c166c8\" xlink:actuate=\"onRequest\" xlink:href=\"psysml:b9058297-d753-442e-8571-9bee33c166c8\" xlink:show=\"new\" xlink:title=\"psysml:b9058297-d753-442e-8571-9bee33c166c8\" xlink:type=\"simple\"><polygon fill=\"#FFFFFF\" points=\"271,84,413,84,420,106.2969,427,106.2969,427,136.5938,271,136.5938,271,84\" style=\"stroke: #000000; stroke-width: 1.5;\"/><line style=\"stroke: #000000; stroke-width: 1.5;\" x1=\"271\" x2=\"420\" y1=\"106.2969\" y2=\"106.2969\"/><text fill=\"#000000\" font-family=\"sans-serif\" font-size=\"14\" font-weight=\"bold\" lengthAdjust=\"spacingAndGlyphs\" textLength=\"136\" x=\"275\" y=\"98.9951\">Application Layer</text></a><a href=\"psysml:f007974c-308f-4828-8f2c-f39213f4e302\" target=\"_top\" title=\"psysml:f007974c-308f-4828-8f2c-f39213f4e302\" xlink:actuate=\"onRequest\" xlink:href=\"psysml:f007974c-308f-4828-8f2c-f39213f4e302\" xlink:show=\"new\" xlink:title=\"psysml:f007974c-308f-4828-8f2c-f39213f4e302\" xlink:type=\"simple\"><polygon fill=\"#FFFFFF\" points=\"285,214,399,214,406,236.2969,413,236.2969,413,266.5938,285,266.5938,285,214\" style=\"stroke: #000000; stroke-width: 1.5;\"/><line style=\"stroke: #000000; stroke-width: 1.5;\" x1=\"285\" x2=\"406\" y1=\"236.2969\" y2=\"236.2969\"/><text fill=\"#000000\" font-family=\"sans-serif\" font-size=\"14\" font-weight=\"bold\" lengthAdjust=\"spacingAndGlyphs\" textLength=\"108\" x=\"289\" y=\"228.9951\">Service Layer</text></a><a href=\"psysml:7870e797-441e-4743-978b-6b23dab0b8d1\" target=\"_top\" title=\"psysml:7870e797-441e-4743-978b-6b23dab0b8d1\" xlink:actuate=\"onRequest\" xlink:href=\"psysml:7870e797-441e-4743-978b-6b23dab0b8d1\" xlink:show=\"new\" xlink:title=\"psysml:7870e797-441e-4743-978b-6b23dab0b8d1\" xlink:type=\"simple\"><polygon fill=\"#FFFFFF\" points=\"297,344,387,344,394,366.2969,401,366.2969,401,396.5938,297,396.5938,297,344\" style=\"stroke: #000000; stroke-width: 1.5;\"/><line style=\"stroke: #000000; stroke-width: 1.5;\" x1=\"297\" x2=\"394\" y1=\"366.2969\" y2=\"366.2969\"/><text fill=\"#000000\" font-family=\"sans-serif\" font-size=\"14\" font-weight=\"bold\" lengthAdjust=\"spacingAndGlyphs\" textLength=\"84\" x=\"301\" y=\"358.9951\">Data Layer</text></a><!--MD5=[af87c684e3b0d8be13c1a698a818ef1e]\n",
       "link E3 to E4--><a href=\"psysml:af0245ca-a479-404d-840a-c478ec8f55f1\" target=\"_top\" title=\"psysml:af0245ca-a479-404d-840a-c478ec8f55f1\" xlink:actuate=\"onRequest\" xlink:href=\"psysml:af0245ca-a479-404d-840a-c478ec8f55f1\" xlink:show=\"new\" xlink:title=\"psysml:af0245ca-a479-404d-840a-c478ec8f55f1\" xlink:type=\"simple\"><path d=\"M349,137.1 C349,156.8 349,184.22 349,205.73 \" fill=\"none\" id=\"E3-&gt;E4\" style=\"stroke: #383838; stroke-width: 1.0; stroke-dasharray: 7.0,7.0;\"/><polygon fill=\"#383838\" points=\"349,213.95,352,205.95,346,205.95,349,213.95\" style=\"stroke: #383838; stroke-width: 1.0;\"/><text fill=\"#000000\" font-family=\"sans-serif\" font-size=\"13\" lengthAdjust=\"spacingAndGlyphs\" textLength=\"64\" x=\"350\" y=\"180.0669\">«depend»</text></a><!--MD5=[1b7591eae5389033d8d09a9d6721a717]\n",
       "link E4 to E5--><a href=\"psysml:aeab59fe-e3bd-4e23-96a4-136d0d468de6\" target=\"_top\" title=\"psysml:aeab59fe-e3bd-4e23-96a4-136d0d468de6\" xlink:actuate=\"onRequest\" xlink:href=\"psysml:aeab59fe-e3bd-4e23-96a4-136d0d468de6\" xlink:show=\"new\" xlink:title=\"psysml:aeab59fe-e3bd-4e23-96a4-136d0d468de6\" xlink:type=\"simple\"><path d=\"M349,267.1 C349,286.8 349,314.22 349,335.73 \" fill=\"none\" id=\"E4-&gt;E5\" style=\"stroke: #383838; stroke-width: 1.0; stroke-dasharray: 7.0,7.0;\"/><polygon fill=\"#383838\" points=\"349,343.95,352,335.95,346,335.95,349,343.95\" style=\"stroke: #383838; stroke-width: 1.0;\"/><text fill=\"#000000\" font-family=\"sans-serif\" font-size=\"13\" lengthAdjust=\"spacingAndGlyphs\" textLength=\"64\" x=\"350\" y=\"310.0669\">«depend»</text></a><!--MD5=[c5e8897d989ce984f93528998a7150fe]\n",
       "link E8 to E6--><a href=\"psysml:e01a683f-5a6a-44b0-a0de-a423aeb5ad40\" target=\"_top\" title=\"psysml:e01a683f-5a6a-44b0-a0de-a423aeb5ad40\" xlink:actuate=\"onRequest\" xlink:href=\"psysml:e01a683f-5a6a-44b0-a0de-a423aeb5ad40\" xlink:show=\"new\" xlink:title=\"psysml:e01a683f-5a6a-44b0-a0de-a423aeb5ad40\" xlink:type=\"simple\"><path d=\"M97.55,133.75 C81.97,149.19 64,167 64,167 C64,167 64,184 64,184 C64,184 64.88,196.21 65.81,209.18 \" fill=\"none\" id=\"E8-&gt;E6\" style=\"stroke: #383838; stroke-width: 1.0; stroke-dasharray: 7.0,7.0;\"/><polygon fill=\"#383838\" points=\"66.4,217.25,68.8203,209.056,62.8357,209.485,66.4,217.25\" style=\"stroke: #383838; stroke-width: 1.0;\"/><text fill=\"#000000\" font-family=\"sans-serif\" font-size=\"13\" lengthAdjust=\"spacingAndGlyphs\" textLength=\"64\" x=\"65\" y=\"180.0669\">«depend»</text></a><!--MD5=[bfa3c8b0d15052fdf50ae9310b491027]\n",
       "link E8 to E7--><a href=\"psysml:e01a683f-5a6a-44b0-a0de-a423aeb5ad40\" target=\"_top\" title=\"psysml:e01a683f-5a6a-44b0-a0de-a423aeb5ad40\" xlink:actuate=\"onRequest\" xlink:href=\"psysml:e01a683f-5a6a-44b0-a0de-a423aeb5ad40\" xlink:show=\"new\" xlink:title=\"psysml:e01a683f-5a6a-44b0-a0de-a423aeb5ad40\" xlink:type=\"simple\"><path d=\"M129.28,133.5 C138.17,154.57 151.64,186.5 161.47,209.81 \" fill=\"none\" id=\"E8-&gt;E7\" style=\"stroke: #383838; stroke-width: 1.0; stroke-dasharray: 7.0,7.0;\"/><polygon fill=\"#383838\" points=\"164.66,217.35,164.3241,208.8126,158.7933,211.1385,164.66,217.35\" style=\"stroke: #383838; stroke-width: 1.0;\"/><text fill=\"#000000\" font-family=\"sans-serif\" font-size=\"13\" lengthAdjust=\"spacingAndGlyphs\" textLength=\"64\" x=\"151\" y=\"180.0669\">«depend»</text></a><!--MD5=[c25ae050c50e3215ab65d9520b83b586]\n",
       "@startuml\r\n",
       "skinparam linetype polyline\r\n",
       "skinparam monochrome true\r\n",
       "skinparam classbackgroundcolor white\r\n",
       "skinparam shadowing false\r\n",
       "skinparam wrapWidth 300\r\n",
       "hide circle\r\n",
       "\r\n",
       "package \"DependencyTest\" as E1  [[psysml:c069fb4a-0cab-46ce-ae30-79221b6c6030 ]]  {\r\n",
       "package \"System\" as E2  [[psysml:0036a7be-5206-4df9-ab28-301972427778 ]]  {\r\n",
       "package \"Application Layer\" as E3  [[psysml:b9058297-d753-442e-8571-9bee33c166c8 ]]  {\r\n",
       "}\r\n",
       "package \"Service Layer\" as E4  [[psysml:f007974c-308f-4828-8f2c-f39213f4e302 ]]  {\r\n",
       "}\r\n",
       "package \"Data Layer\" as E5  [[psysml:7870e797-441e-4743-978b-6b23dab0b8d1 ]]  {\r\n",
       "}\r\n",
       "}\r\n",
       "comp usage \"x\" as E6  <<(T,blue)attribute>> [[psysml:ca3c2c7b-3718-4538-a84c-29984e19a6f6 ]] {\r\n",
       "}\r\n",
       "comp usage \"y\" as E7  <<(T,blue)attribute>> [[psysml:f187cc38-895f-43c9-b55f-372a79474975 ]] {\r\n",
       "}\r\n",
       "comp usage \"z\" as E8  <<(T,blue)attribute>> [[psysml:c8a5167c-621d-4bfa-8ffa-e3ed6a854bed ]] {\r\n",
       "}\r\n",
       "E3 ..>> E4 [[psysml:af0245ca-a479-404d-840a-c478ec8f55f1 ]] : <<depend>>\r\n",
       "E4 ..>> E5 [[psysml:aeab59fe-e3bd-4e23-96a4-136d0d468de6 ]] : <<depend>>\r\n",
       "E8 ..>> E6 [[psysml:e01a683f-5a6a-44b0-a0de-a423aeb5ad40 ]] : <<depend>>\r\n",
       "E8 ..>> E7 [[psysml:e01a683f-5a6a-44b0-a0de-a423aeb5ad40 ]] : <<depend>>\r\n",
       "}\r\n",
       "@enduml\r\n",
       "\n",
       "PlantUML version 1.2020.13(Sat Jun 13 12:26:38 UTC 2020)\n",
       "(EPL source distribution)\n",
       "Java Runtime: OpenJDK Runtime Environment\n",
       "JVM: OpenJDK 64-Bit Server VM\n",
       "Default Encoding: UTF-8\n",
       "Language: en\n",
       "Country: null\n",
       "--></g></svg>"
      ]
     },
     "execution_count": 14,
     "metadata": {},
     "output_type": "execute_result"
    }
   ],
   "source": [
    "%viz --style=\"POLYLINE\" --view=\"Sequence\" \"DependencyTest\""
   ]
  },
  {
   "cell_type": "code",
   "execution_count": 15,
   "id": "sharp-clarity",
   "metadata": {
    "execution": {
     "iopub.execute_input": "2021-03-26T13:04:32.840833Z",
     "iopub.status.busy": "2021-03-26T13:04:32.840169Z",
     "iopub.status.idle": "2021-03-26T13:04:32.883022Z",
     "shell.execute_reply": "2021-03-26T13:04:32.883394Z"
    }
   },
   "outputs": [
    {
     "data": {
      "image/svg+xml": [
       "<?xml version=\"1.0\" encoding=\"UTF-8\" standalone=\"no\"?><svg xmlns=\"http://www.w3.org/2000/svg\" xmlns:xlink=\"http://www.w3.org/1999/xlink\" contentScriptType=\"application/ecmascript\" contentStyleType=\"text/css\" height=\"449px\" preserveAspectRatio=\"none\" style=\"width:489px;height:449px;\" version=\"1.1\" viewBox=\"0 0 489 449\" width=\"489px\" zoomAndPan=\"magnify\"><defs/><g><!--MD5=[fbc87193dbaf4d95561dea2c320d4a47]\n",
       "cluster E1--><a href=\"psysml:c069fb4a-0cab-46ce-ae30-79221b6c6030\" target=\"_top\" title=\"psysml:c069fb4a-0cab-46ce-ae30-79221b6c6030\" xlink:actuate=\"onRequest\" xlink:href=\"psysml:c069fb4a-0cab-46ce-ae30-79221b6c6030\" xlink:show=\"new\" xlink:title=\"psysml:c069fb4a-0cab-46ce-ae30-79221b6c6030\" xlink:type=\"simple\"><polygon fill=\"#FFFFFF\" points=\"16,6,156,6,163,28.2969,467,28.2969,467,437,16,437,16,6\" style=\"stroke: #000000; stroke-width: 1.5;\"/><line style=\"stroke: #000000; stroke-width: 1.5;\" x1=\"16\" x2=\"163\" y1=\"28.2969\" y2=\"28.2969\"/><text fill=\"#000000\" font-family=\"sans-serif\" font-size=\"14\" font-weight=\"bold\" lengthAdjust=\"spacingAndGlyphs\" textLength=\"134\" x=\"20\" y=\"20.9951\">DependencyTest</text></a><!--MD5=[e4f7fae6ed58524ba242bb0b0d3be6b7]\n",
       "cluster E2--><a href=\"psysml:0036a7be-5206-4df9-ab28-301972427778\" target=\"_top\" title=\"psysml:0036a7be-5206-4df9-ab28-301972427778\" xlink:actuate=\"onRequest\" xlink:href=\"psysml:0036a7be-5206-4df9-ab28-301972427778\" xlink:show=\"new\" xlink:title=\"psysml:0036a7be-5206-4df9-ab28-301972427778\" xlink:type=\"simple\"><polygon fill=\"#FFFFFF\" points=\"255,49,319,49,326,71.2969,443,71.2969,443,413,255,413,255,49\" style=\"stroke: #000000; stroke-width: 1.5;\"/><line style=\"stroke: #000000; stroke-width: 1.5;\" x1=\"255\" x2=\"326\" y1=\"71.2969\" y2=\"71.2969\"/><text fill=\"#000000\" font-family=\"sans-serif\" font-size=\"14\" font-weight=\"bold\" lengthAdjust=\"spacingAndGlyphs\" textLength=\"58\" x=\"259\" y=\"63.9951\">System</text></a><!--MD5=[60a26617385b1d2d0262a64233df1f8d]\n",
       "class E6--><a href=\"psysml:ca3c2c7b-3718-4538-a84c-29984e19a6f6\" target=\"_top\" title=\"psysml:ca3c2c7b-3718-4538-a84c-29984e19a6f6\" xlink:actuate=\"onRequest\" xlink:href=\"psysml:ca3c2c7b-3718-4538-a84c-29984e19a6f6\" xlink:show=\"new\" xlink:title=\"psysml:ca3c2c7b-3718-4538-a84c-29984e19a6f6\" xlink:type=\"simple\"><rect fill=\"#FFFFFF\" height=\"45.9375\" id=\"E6\" rx=\"10\" ry=\"10\" style=\"stroke: #383838; stroke-width: 1.5;\" width=\"71\" x=\"32.5\" y=\"217.5\"/><text fill=\"#000000\" font-family=\"sans-serif\" font-size=\"12\" font-style=\"italic\" lengthAdjust=\"spacingAndGlyphs\" textLength=\"69\" x=\"33.5\" y=\"233.6387\">«attribute»</text><text fill=\"#000000\" font-family=\"sans-serif\" font-size=\"12\" lengthAdjust=\"spacingAndGlyphs\" textLength=\"6\" x=\"65\" y=\"247.6074\">x</text><line style=\"stroke: #383838; stroke-width: 1.5;\" x1=\"33.5\" x2=\"102.5\" y1=\"255.4375\" y2=\"255.4375\"/></a><!--MD5=[2156ba9850f5573cc1fc38a6a4b2f02b]\n",
       "class E7--><a href=\"psysml:f187cc38-895f-43c9-b55f-372a79474975\" target=\"_top\" title=\"psysml:f187cc38-895f-43c9-b55f-372a79474975\" xlink:actuate=\"onRequest\" xlink:href=\"psysml:f187cc38-895f-43c9-b55f-372a79474975\" xlink:show=\"new\" xlink:title=\"psysml:f187cc38-895f-43c9-b55f-372a79474975\" xlink:type=\"simple\"><rect fill=\"#FFFFFF\" height=\"45.9375\" id=\"E7\" rx=\"10\" ry=\"10\" style=\"stroke: #383838; stroke-width: 1.5;\" width=\"71\" x=\"138.5\" y=\"217.5\"/><text fill=\"#000000\" font-family=\"sans-serif\" font-size=\"12\" font-style=\"italic\" lengthAdjust=\"spacingAndGlyphs\" textLength=\"69\" x=\"139.5\" y=\"233.6387\">«attribute»</text><text fill=\"#000000\" font-family=\"sans-serif\" font-size=\"12\" lengthAdjust=\"spacingAndGlyphs\" textLength=\"6\" x=\"171\" y=\"247.6074\">y</text><line style=\"stroke: #383838; stroke-width: 1.5;\" x1=\"139.5\" x2=\"208.5\" y1=\"255.4375\" y2=\"255.4375\"/></a><!--MD5=[b9389687b975829384b498ac4b7476b2]\n",
       "class E8--><a href=\"psysml:c8a5167c-621d-4bfa-8ffa-e3ed6a854bed\" target=\"_top\" title=\"psysml:c8a5167c-621d-4bfa-8ffa-e3ed6a854bed\" xlink:actuate=\"onRequest\" xlink:href=\"psysml:c8a5167c-621d-4bfa-8ffa-e3ed6a854bed\" xlink:show=\"new\" xlink:title=\"psysml:c8a5167c-621d-4bfa-8ffa-e3ed6a854bed\" xlink:type=\"simple\"><rect fill=\"#FFFFFF\" height=\"45.9375\" id=\"E8\" rx=\"10\" ry=\"10\" style=\"stroke: #383838; stroke-width: 1.5;\" width=\"71\" x=\"84.5\" y=\"87.5\"/><text fill=\"#000000\" font-family=\"sans-serif\" font-size=\"12\" font-style=\"italic\" lengthAdjust=\"spacingAndGlyphs\" textLength=\"69\" x=\"85.5\" y=\"103.6387\">«attribute»</text><text fill=\"#000000\" font-family=\"sans-serif\" font-size=\"12\" lengthAdjust=\"spacingAndGlyphs\" textLength=\"5\" x=\"117.5\" y=\"117.6074\">z</text><line style=\"stroke: #383838; stroke-width: 1.5;\" x1=\"85.5\" x2=\"154.5\" y1=\"125.4375\" y2=\"125.4375\"/></a><a href=\"psysml:b9058297-d753-442e-8571-9bee33c166c8\" target=\"_top\" title=\"psysml:b9058297-d753-442e-8571-9bee33c166c8\" xlink:actuate=\"onRequest\" xlink:href=\"psysml:b9058297-d753-442e-8571-9bee33c166c8\" xlink:show=\"new\" xlink:title=\"psysml:b9058297-d753-442e-8571-9bee33c166c8\" xlink:type=\"simple\"><polygon fill=\"#FFFFFF\" points=\"271,84,413,84,420,106.2969,427,106.2969,427,136.5938,271,136.5938,271,84\" style=\"stroke: #000000; stroke-width: 1.5;\"/><line style=\"stroke: #000000; stroke-width: 1.5;\" x1=\"271\" x2=\"420\" y1=\"106.2969\" y2=\"106.2969\"/><text fill=\"#000000\" font-family=\"sans-serif\" font-size=\"14\" font-weight=\"bold\" lengthAdjust=\"spacingAndGlyphs\" textLength=\"136\" x=\"275\" y=\"98.9951\">Application Layer</text></a><a href=\"psysml:f007974c-308f-4828-8f2c-f39213f4e302\" target=\"_top\" title=\"psysml:f007974c-308f-4828-8f2c-f39213f4e302\" xlink:actuate=\"onRequest\" xlink:href=\"psysml:f007974c-308f-4828-8f2c-f39213f4e302\" xlink:show=\"new\" xlink:title=\"psysml:f007974c-308f-4828-8f2c-f39213f4e302\" xlink:type=\"simple\"><polygon fill=\"#FFFFFF\" points=\"285,214,399,214,406,236.2969,413,236.2969,413,266.5938,285,266.5938,285,214\" style=\"stroke: #000000; stroke-width: 1.5;\"/><line style=\"stroke: #000000; stroke-width: 1.5;\" x1=\"285\" x2=\"406\" y1=\"236.2969\" y2=\"236.2969\"/><text fill=\"#000000\" font-family=\"sans-serif\" font-size=\"14\" font-weight=\"bold\" lengthAdjust=\"spacingAndGlyphs\" textLength=\"108\" x=\"289\" y=\"228.9951\">Service Layer</text></a><a href=\"psysml:7870e797-441e-4743-978b-6b23dab0b8d1\" target=\"_top\" title=\"psysml:7870e797-441e-4743-978b-6b23dab0b8d1\" xlink:actuate=\"onRequest\" xlink:href=\"psysml:7870e797-441e-4743-978b-6b23dab0b8d1\" xlink:show=\"new\" xlink:title=\"psysml:7870e797-441e-4743-978b-6b23dab0b8d1\" xlink:type=\"simple\"><polygon fill=\"#FFFFFF\" points=\"297,344,387,344,394,366.2969,401,366.2969,401,396.5938,297,396.5938,297,344\" style=\"stroke: #000000; stroke-width: 1.5;\"/><line style=\"stroke: #000000; stroke-width: 1.5;\" x1=\"297\" x2=\"394\" y1=\"366.2969\" y2=\"366.2969\"/><text fill=\"#000000\" font-family=\"sans-serif\" font-size=\"14\" font-weight=\"bold\" lengthAdjust=\"spacingAndGlyphs\" textLength=\"84\" x=\"301\" y=\"358.9951\">Data Layer</text></a><!--MD5=[af87c684e3b0d8be13c1a698a818ef1e]\n",
       "link E3 to E4--><a href=\"psysml:af0245ca-a479-404d-840a-c478ec8f55f1\" target=\"_top\" title=\"psysml:af0245ca-a479-404d-840a-c478ec8f55f1\" xlink:actuate=\"onRequest\" xlink:href=\"psysml:af0245ca-a479-404d-840a-c478ec8f55f1\" xlink:show=\"new\" xlink:title=\"psysml:af0245ca-a479-404d-840a-c478ec8f55f1\" xlink:type=\"simple\"><path d=\"M349,137.1 C349,156.8 349,184.22 349,205.73 \" fill=\"none\" id=\"E3-&gt;E4\" style=\"stroke: #383838; stroke-width: 1.0; stroke-dasharray: 7.0,7.0;\"/><polygon fill=\"#383838\" points=\"349,213.95,352,205.95,346,205.95,349,213.95\" style=\"stroke: #383838; stroke-width: 1.0;\"/><text fill=\"#000000\" font-family=\"sans-serif\" font-size=\"13\" lengthAdjust=\"spacingAndGlyphs\" textLength=\"64\" x=\"350\" y=\"180.0669\">«depend»</text></a><!--MD5=[1b7591eae5389033d8d09a9d6721a717]\n",
       "link E4 to E5--><a href=\"psysml:aeab59fe-e3bd-4e23-96a4-136d0d468de6\" target=\"_top\" title=\"psysml:aeab59fe-e3bd-4e23-96a4-136d0d468de6\" xlink:actuate=\"onRequest\" xlink:href=\"psysml:aeab59fe-e3bd-4e23-96a4-136d0d468de6\" xlink:show=\"new\" xlink:title=\"psysml:aeab59fe-e3bd-4e23-96a4-136d0d468de6\" xlink:type=\"simple\"><path d=\"M349,267.1 C349,286.8 349,314.22 349,335.73 \" fill=\"none\" id=\"E4-&gt;E5\" style=\"stroke: #383838; stroke-width: 1.0; stroke-dasharray: 7.0,7.0;\"/><polygon fill=\"#383838\" points=\"349,343.95,352,335.95,346,335.95,349,343.95\" style=\"stroke: #383838; stroke-width: 1.0;\"/><text fill=\"#000000\" font-family=\"sans-serif\" font-size=\"13\" lengthAdjust=\"spacingAndGlyphs\" textLength=\"64\" x=\"350\" y=\"310.0669\">«depend»</text></a><!--MD5=[c5e8897d989ce984f93528998a7150fe]\n",
       "link E8 to E6--><a href=\"psysml:e01a683f-5a6a-44b0-a0de-a423aeb5ad40\" target=\"_top\" title=\"psysml:e01a683f-5a6a-44b0-a0de-a423aeb5ad40\" xlink:actuate=\"onRequest\" xlink:href=\"psysml:e01a683f-5a6a-44b0-a0de-a423aeb5ad40\" xlink:show=\"new\" xlink:title=\"psysml:e01a683f-5a6a-44b0-a0de-a423aeb5ad40\" xlink:type=\"simple\"><path d=\"M97.55,133.75 C81.97,149.19 64,167 64,167 C64,167 64,184 64,184 C64,184 64.88,196.21 65.81,209.18 \" fill=\"none\" id=\"E8-&gt;E6\" style=\"stroke: #383838; stroke-width: 1.0; stroke-dasharray: 7.0,7.0;\"/><polygon fill=\"#383838\" points=\"66.4,217.25,68.8203,209.056,62.8357,209.485,66.4,217.25\" style=\"stroke: #383838; stroke-width: 1.0;\"/><text fill=\"#000000\" font-family=\"sans-serif\" font-size=\"13\" lengthAdjust=\"spacingAndGlyphs\" textLength=\"64\" x=\"65\" y=\"180.0669\">«depend»</text></a><!--MD5=[bfa3c8b0d15052fdf50ae9310b491027]\n",
       "link E8 to E7--><a href=\"psysml:e01a683f-5a6a-44b0-a0de-a423aeb5ad40\" target=\"_top\" title=\"psysml:e01a683f-5a6a-44b0-a0de-a423aeb5ad40\" xlink:actuate=\"onRequest\" xlink:href=\"psysml:e01a683f-5a6a-44b0-a0de-a423aeb5ad40\" xlink:show=\"new\" xlink:title=\"psysml:e01a683f-5a6a-44b0-a0de-a423aeb5ad40\" xlink:type=\"simple\"><path d=\"M129.28,133.5 C138.17,154.57 151.64,186.5 161.47,209.81 \" fill=\"none\" id=\"E8-&gt;E7\" style=\"stroke: #383838; stroke-width: 1.0; stroke-dasharray: 7.0,7.0;\"/><polygon fill=\"#383838\" points=\"164.66,217.35,164.3241,208.8126,158.7933,211.1385,164.66,217.35\" style=\"stroke: #383838; stroke-width: 1.0;\"/><text fill=\"#000000\" font-family=\"sans-serif\" font-size=\"13\" lengthAdjust=\"spacingAndGlyphs\" textLength=\"64\" x=\"151\" y=\"180.0669\">«depend»</text></a><!--MD5=[c25ae050c50e3215ab65d9520b83b586]\n",
       "@startuml\r\n",
       "skinparam linetype polyline\r\n",
       "skinparam monochrome true\r\n",
       "skinparam classbackgroundcolor white\r\n",
       "skinparam shadowing false\r\n",
       "skinparam wrapWidth 300\r\n",
       "hide circle\r\n",
       "\r\n",
       "package \"DependencyTest\" as E1  [[psysml:c069fb4a-0cab-46ce-ae30-79221b6c6030 ]]  {\r\n",
       "package \"System\" as E2  [[psysml:0036a7be-5206-4df9-ab28-301972427778 ]]  {\r\n",
       "package \"Application Layer\" as E3  [[psysml:b9058297-d753-442e-8571-9bee33c166c8 ]]  {\r\n",
       "}\r\n",
       "package \"Service Layer\" as E4  [[psysml:f007974c-308f-4828-8f2c-f39213f4e302 ]]  {\r\n",
       "}\r\n",
       "package \"Data Layer\" as E5  [[psysml:7870e797-441e-4743-978b-6b23dab0b8d1 ]]  {\r\n",
       "}\r\n",
       "}\r\n",
       "comp usage \"x\" as E6  <<(T,blue)attribute>> [[psysml:ca3c2c7b-3718-4538-a84c-29984e19a6f6 ]] {\r\n",
       "}\r\n",
       "comp usage \"y\" as E7  <<(T,blue)attribute>> [[psysml:f187cc38-895f-43c9-b55f-372a79474975 ]] {\r\n",
       "}\r\n",
       "comp usage \"z\" as E8  <<(T,blue)attribute>> [[psysml:c8a5167c-621d-4bfa-8ffa-e3ed6a854bed ]] {\r\n",
       "}\r\n",
       "E3 ..>> E4 [[psysml:af0245ca-a479-404d-840a-c478ec8f55f1 ]] : <<depend>>\r\n",
       "E4 ..>> E5 [[psysml:aeab59fe-e3bd-4e23-96a4-136d0d468de6 ]] : <<depend>>\r\n",
       "E8 ..>> E6 [[psysml:e01a683f-5a6a-44b0-a0de-a423aeb5ad40 ]] : <<depend>>\r\n",
       "E8 ..>> E7 [[psysml:e01a683f-5a6a-44b0-a0de-a423aeb5ad40 ]] : <<depend>>\r\n",
       "}\r\n",
       "@enduml\r\n",
       "\n",
       "PlantUML version 1.2020.13(Sat Jun 13 12:26:38 UTC 2020)\n",
       "(EPL source distribution)\n",
       "Java Runtime: OpenJDK Runtime Environment\n",
       "JVM: OpenJDK 64-Bit Server VM\n",
       "Default Encoding: UTF-8\n",
       "Language: en\n",
       "Country: null\n",
       "--></g></svg>"
      ]
     },
     "execution_count": 15,
     "metadata": {},
     "output_type": "execute_result"
    }
   ],
   "source": [
    "%viz --style=\"POLYLINE\" --view=\"MIXED\" \"DependencyTest\""
   ]
  },
  {
   "cell_type": "code",
   "execution_count": 16,
   "id": "regular-exception",
   "metadata": {
    "execution": {
     "iopub.execute_input": "2021-03-26T13:04:32.934419Z",
     "iopub.status.busy": "2021-03-26T13:04:32.934011Z",
     "iopub.status.idle": "2021-03-26T13:04:32.985054Z",
     "shell.execute_reply": "2021-03-26T13:04:32.985412Z"
    }
   },
   "outputs": [
    {
     "data": {
      "image/svg+xml": [
       "<?xml version=\"1.0\" encoding=\"UTF-8\" standalone=\"no\"?><svg xmlns=\"http://www.w3.org/2000/svg\" xmlns:xlink=\"http://www.w3.org/1999/xlink\" contentScriptType=\"application/ecmascript\" contentStyleType=\"text/css\" height=\"328px\" preserveAspectRatio=\"none\" style=\"width:758px;height:328px;\" version=\"1.1\" viewBox=\"0 0 758 328\" width=\"758px\" zoomAndPan=\"magnify\"><defs/><g><!--MD5=[fbc87193dbaf4d95561dea2c320d4a47]\n",
       "cluster E1--><a href=\"psysml:c069fb4a-0cab-46ce-ae30-79221b6c6030\" target=\"_top\" title=\"psysml:c069fb4a-0cab-46ce-ae30-79221b6c6030\" xlink:actuate=\"onRequest\" xlink:href=\"psysml:c069fb4a-0cab-46ce-ae30-79221b6c6030\" xlink:show=\"new\" xlink:title=\"psysml:c069fb4a-0cab-46ce-ae30-79221b6c6030\" xlink:type=\"simple\"><polygon fill=\"#FFFFFF\" points=\"16,6,156,6,163,28.2969,736,28.2969,736,316,16,316,16,6\" style=\"stroke: #000000; stroke-width: 1.5;\"/><line style=\"stroke: #000000; stroke-width: 1.5;\" x1=\"16\" x2=\"163\" y1=\"28.2969\" y2=\"28.2969\"/><text fill=\"#000000\" font-family=\"sans-serif\" font-size=\"14\" font-weight=\"bold\" lengthAdjust=\"spacingAndGlyphs\" textLength=\"134\" x=\"20\" y=\"20.9951\">DependencyTest</text></a><!--MD5=[e4f7fae6ed58524ba242bb0b0d3be6b7]\n",
       "cluster E2--><a href=\"psysml:0036a7be-5206-4df9-ab28-301972427778\" target=\"_top\" title=\"psysml:0036a7be-5206-4df9-ab28-301972427778\" xlink:actuate=\"onRequest\" xlink:href=\"psysml:0036a7be-5206-4df9-ab28-301972427778\" xlink:show=\"new\" xlink:title=\"psysml:0036a7be-5206-4df9-ab28-301972427778\" xlink:type=\"simple\"><polygon fill=\"#FFFFFF\" points=\"40,49,104,49,111,71.2969,712,71.2969,712,154,40,154,40,49\" style=\"stroke: #000000; stroke-width: 1.5;\"/><line style=\"stroke: #000000; stroke-width: 1.5;\" x1=\"40\" x2=\"111\" y1=\"71.2969\" y2=\"71.2969\"/><text fill=\"#000000\" font-family=\"sans-serif\" font-size=\"14\" font-weight=\"bold\" lengthAdjust=\"spacingAndGlyphs\" textLength=\"58\" x=\"44\" y=\"63.9951\">System</text></a><!--MD5=[60a26617385b1d2d0262a64233df1f8d]\n",
       "class E6--><a href=\"psysml:ca3c2c7b-3718-4538-a84c-29984e19a6f6\" target=\"_top\" title=\"psysml:ca3c2c7b-3718-4538-a84c-29984e19a6f6\" xlink:actuate=\"onRequest\" xlink:href=\"psysml:ca3c2c7b-3718-4538-a84c-29984e19a6f6\" xlink:show=\"new\" xlink:title=\"psysml:ca3c2c7b-3718-4538-a84c-29984e19a6f6\" xlink:type=\"simple\"><rect fill=\"#FFFFFF\" height=\"45.9375\" id=\"E6\" rx=\"10\" ry=\"10\" style=\"stroke: #383838; stroke-width: 1.5;\" width=\"71\" x=\"366.5\" y=\"254\"/><text fill=\"#000000\" font-family=\"sans-serif\" font-size=\"12\" font-style=\"italic\" lengthAdjust=\"spacingAndGlyphs\" textLength=\"69\" x=\"367.5\" y=\"270.1387\">«attribute»</text><text fill=\"#000000\" font-family=\"sans-serif\" font-size=\"12\" lengthAdjust=\"spacingAndGlyphs\" textLength=\"6\" x=\"399\" y=\"284.1074\">x</text><line style=\"stroke: #383838; stroke-width: 1.5;\" x1=\"367.5\" x2=\"436.5\" y1=\"291.9375\" y2=\"291.9375\"/></a><!--MD5=[2156ba9850f5573cc1fc38a6a4b2f02b]\n",
       "class E7--><a href=\"psysml:f187cc38-895f-43c9-b55f-372a79474975\" target=\"_top\" title=\"psysml:f187cc38-895f-43c9-b55f-372a79474975\" xlink:actuate=\"onRequest\" xlink:href=\"psysml:f187cc38-895f-43c9-b55f-372a79474975\" xlink:show=\"new\" xlink:title=\"psysml:f187cc38-895f-43c9-b55f-372a79474975\" xlink:type=\"simple\"><rect fill=\"#FFFFFF\" height=\"45.9375\" id=\"E7\" rx=\"10\" ry=\"10\" style=\"stroke: #383838; stroke-width: 1.5;\" width=\"71\" x=\"366.5\" y=\"173\"/><text fill=\"#000000\" font-family=\"sans-serif\" font-size=\"12\" font-style=\"italic\" lengthAdjust=\"spacingAndGlyphs\" textLength=\"69\" x=\"367.5\" y=\"189.1387\">«attribute»</text><text fill=\"#000000\" font-family=\"sans-serif\" font-size=\"12\" lengthAdjust=\"spacingAndGlyphs\" textLength=\"6\" x=\"399\" y=\"203.1074\">y</text><line style=\"stroke: #383838; stroke-width: 1.5;\" x1=\"367.5\" x2=\"436.5\" y1=\"210.9375\" y2=\"210.9375\"/></a><!--MD5=[b9389687b975829384b498ac4b7476b2]\n",
       "class E8--><a href=\"psysml:c8a5167c-621d-4bfa-8ffa-e3ed6a854bed\" target=\"_top\" title=\"psysml:c8a5167c-621d-4bfa-8ffa-e3ed6a854bed\" xlink:actuate=\"onRequest\" xlink:href=\"psysml:c8a5167c-621d-4bfa-8ffa-e3ed6a854bed\" xlink:show=\"new\" xlink:title=\"psysml:c8a5167c-621d-4bfa-8ffa-e3ed6a854bed\" xlink:type=\"simple\"><rect fill=\"#FFFFFF\" height=\"45.9375\" id=\"E8\" rx=\"10\" ry=\"10\" style=\"stroke: #383838; stroke-width: 1.5;\" width=\"71\" x=\"98.5\" y=\"206\"/><text fill=\"#000000\" font-family=\"sans-serif\" font-size=\"12\" font-style=\"italic\" lengthAdjust=\"spacingAndGlyphs\" textLength=\"69\" x=\"99.5\" y=\"222.1387\">«attribute»</text><text fill=\"#000000\" font-family=\"sans-serif\" font-size=\"12\" lengthAdjust=\"spacingAndGlyphs\" textLength=\"5\" x=\"131.5\" y=\"236.1074\">z</text><line style=\"stroke: #383838; stroke-width: 1.5;\" x1=\"99.5\" x2=\"168.5\" y1=\"243.9375\" y2=\"243.9375\"/></a><a href=\"psysml:b9058297-d753-442e-8571-9bee33c166c8\" target=\"_top\" title=\"psysml:b9058297-d753-442e-8571-9bee33c166c8\" xlink:actuate=\"onRequest\" xlink:href=\"psysml:b9058297-d753-442e-8571-9bee33c166c8\" xlink:show=\"new\" xlink:title=\"psysml:b9058297-d753-442e-8571-9bee33c166c8\" xlink:type=\"simple\"><polygon fill=\"#FFFFFF\" points=\"56,84.5,198,84.5,205,106.7969,212,106.7969,212,137.0938,56,137.0938,56,84.5\" style=\"stroke: #000000; stroke-width: 1.5;\"/><line style=\"stroke: #000000; stroke-width: 1.5;\" x1=\"56\" x2=\"205\" y1=\"106.7969\" y2=\"106.7969\"/><text fill=\"#000000\" font-family=\"sans-serif\" font-size=\"14\" font-weight=\"bold\" lengthAdjust=\"spacingAndGlyphs\" textLength=\"136\" x=\"60\" y=\"99.4951\">Application Layer</text></a><a href=\"psysml:f007974c-308f-4828-8f2c-f39213f4e302\" target=\"_top\" title=\"psysml:f007974c-308f-4828-8f2c-f39213f4e302\" xlink:actuate=\"onRequest\" xlink:href=\"psysml:f007974c-308f-4828-8f2c-f39213f4e302\" xlink:show=\"new\" xlink:title=\"psysml:f007974c-308f-4828-8f2c-f39213f4e302\" xlink:type=\"simple\"><polygon fill=\"#FFFFFF\" points=\"338,84.5,452,84.5,459,106.7969,466,106.7969,466,137.0938,338,137.0938,338,84.5\" style=\"stroke: #000000; stroke-width: 1.5;\"/><line style=\"stroke: #000000; stroke-width: 1.5;\" x1=\"338\" x2=\"459\" y1=\"106.7969\" y2=\"106.7969\"/><text fill=\"#000000\" font-family=\"sans-serif\" font-size=\"14\" font-weight=\"bold\" lengthAdjust=\"spacingAndGlyphs\" textLength=\"108\" x=\"342\" y=\"99.4951\">Service Layer</text></a><a href=\"psysml:7870e797-441e-4743-978b-6b23dab0b8d1\" target=\"_top\" title=\"psysml:7870e797-441e-4743-978b-6b23dab0b8d1\" xlink:actuate=\"onRequest\" xlink:href=\"psysml:7870e797-441e-4743-978b-6b23dab0b8d1\" xlink:show=\"new\" xlink:title=\"psysml:7870e797-441e-4743-978b-6b23dab0b8d1\" xlink:type=\"simple\"><polygon fill=\"#FFFFFF\" points=\"592,84.5,682,84.5,689,106.7969,696,106.7969,696,137.0938,592,137.0938,592,84.5\" style=\"stroke: #000000; stroke-width: 1.5;\"/><line style=\"stroke: #000000; stroke-width: 1.5;\" x1=\"592\" x2=\"689\" y1=\"106.7969\" y2=\"106.7969\"/><text fill=\"#000000\" font-family=\"sans-serif\" font-size=\"14\" font-weight=\"bold\" lengthAdjust=\"spacingAndGlyphs\" textLength=\"84\" x=\"596\" y=\"99.4951\">Data Layer</text></a><!--MD5=[af87c684e3b0d8be13c1a698a818ef1e]\n",
       "link E3 to E4--><a href=\"psysml:af0245ca-a479-404d-840a-c478ec8f55f1\" target=\"_top\" title=\"psysml:af0245ca-a479-404d-840a-c478ec8f55f1\" xlink:actuate=\"onRequest\" xlink:href=\"psysml:af0245ca-a479-404d-840a-c478ec8f55f1\" xlink:show=\"new\" xlink:title=\"psysml:af0245ca-a479-404d-840a-c478ec8f55f1\" xlink:type=\"simple\"><path d=\"M212.3,111 C249.37,111 293.5,111 329.76,111 \" fill=\"none\" id=\"E3-&gt;E4\" style=\"stroke: #383838; stroke-width: 1.0; stroke-dasharray: 7.0,7.0;\"/><polygon fill=\"#383838\" points=\"337.84,111,329.84,108,329.84,114,337.84,111\" style=\"stroke: #383838; stroke-width: 1.0;\"/><text fill=\"#000000\" font-family=\"sans-serif\" font-size=\"13\" lengthAdjust=\"spacingAndGlyphs\" textLength=\"64\" x=\"243\" y=\"107.0669\">«depend»</text></a><!--MD5=[1b7591eae5389033d8d09a9d6721a717]\n",
       "link E4 to E5--><a href=\"psysml:aeab59fe-e3bd-4e23-96a4-136d0d468de6\" target=\"_top\" title=\"psysml:aeab59fe-e3bd-4e23-96a4-136d0d468de6\" xlink:actuate=\"onRequest\" xlink:href=\"psysml:aeab59fe-e3bd-4e23-96a4-136d0d468de6\" xlink:show=\"new\" xlink:title=\"psysml:aeab59fe-e3bd-4e23-96a4-136d0d468de6\" xlink:type=\"simple\"><path d=\"M466.06,111 C502.32,111 547.6,111 583.28,111 \" fill=\"none\" id=\"E4-&gt;E5\" style=\"stroke: #383838; stroke-width: 1.0; stroke-dasharray: 7.0,7.0;\"/><polygon fill=\"#383838\" points=\"591.67,111,583.67,108,583.67,114,591.67,111\" style=\"stroke: #383838; stroke-width: 1.0;\"/><text fill=\"#000000\" font-family=\"sans-serif\" font-size=\"13\" lengthAdjust=\"spacingAndGlyphs\" textLength=\"64\" x=\"497\" y=\"107.0669\">«depend»</text></a><!--MD5=[c5e8897d989ce984f93528998a7150fe]\n",
       "link E8 to E6--><a href=\"psysml:e01a683f-5a6a-44b0-a0de-a423aeb5ad40\" target=\"_top\" title=\"psysml:e01a683f-5a6a-44b0-a0de-a423aeb5ad40\" xlink:actuate=\"onRequest\" xlink:href=\"psysml:e01a683f-5a6a-44b0-a0de-a423aeb5ad40\" xlink:show=\"new\" xlink:title=\"psysml:e01a683f-5a6a-44b0-a0de-a423aeb5ad40\" xlink:type=\"simple\"><path d=\"M169.5,235.23 C217.81,243.94 305.54,259.77 358.03,269.25 \" fill=\"none\" id=\"E8-&gt;E6\" style=\"stroke: #383838; stroke-width: 1.0; stroke-dasharray: 7.0,7.0;\"/><polygon fill=\"#383838\" points=\"366.14,270.71,358.7966,266.3425,357.7356,272.248,366.14,270.71\" style=\"stroke: #383838; stroke-width: 1.0;\"/><text fill=\"#000000\" font-family=\"sans-serif\" font-size=\"13\" lengthAdjust=\"spacingAndGlyphs\" textLength=\"64\" x=\"243\" y=\"245.0669\">«depend»</text></a><!--MD5=[bfa3c8b0d15052fdf50ae9310b491027]\n",
       "link E8 to E7--><a href=\"psysml:e01a683f-5a6a-44b0-a0de-a423aeb5ad40\" target=\"_top\" title=\"psysml:e01a683f-5a6a-44b0-a0de-a423aeb5ad40\" xlink:actuate=\"onRequest\" xlink:href=\"psysml:e01a683f-5a6a-44b0-a0de-a423aeb5ad40\" xlink:show=\"new\" xlink:title=\"psysml:e01a683f-5a6a-44b0-a0de-a423aeb5ad40\" xlink:type=\"simple\"><path d=\"M169.5,224.72 C217.81,218.73 305.54,207.84 358.03,201.33 \" fill=\"none\" id=\"E8-&gt;E7\" style=\"stroke: #383838; stroke-width: 1.0; stroke-dasharray: 7.0,7.0;\"/><polygon fill=\"#383838\" points=\"366.14,200.33,357.8314,198.3381,358.5704,204.2924,366.14,200.33\" style=\"stroke: #383838; stroke-width: 1.0;\"/><text fill=\"#000000\" font-family=\"sans-serif\" font-size=\"13\" lengthAdjust=\"spacingAndGlyphs\" textLength=\"64\" x=\"243\" y=\"204.0669\">«depend»</text></a><!--MD5=[48c1571306d23c93c0bdbbb39ddbfcc5]\n",
       "@startuml\r\n",
       "left to right direction\r\n",
       "skinparam monochrome true\r\n",
       "skinparam classbackgroundcolor white\r\n",
       "skinparam shadowing false\r\n",
       "skinparam wrapWidth 300\r\n",
       "hide circle\r\n",
       "\r\n",
       "package \"DependencyTest\" as E1  [[psysml:c069fb4a-0cab-46ce-ae30-79221b6c6030 ]]  {\r\n",
       "package \"System\" as E2  [[psysml:0036a7be-5206-4df9-ab28-301972427778 ]]  {\r\n",
       "package \"Application Layer\" as E3  [[psysml:b9058297-d753-442e-8571-9bee33c166c8 ]]  {\r\n",
       "}\r\n",
       "package \"Service Layer\" as E4  [[psysml:f007974c-308f-4828-8f2c-f39213f4e302 ]]  {\r\n",
       "}\r\n",
       "package \"Data Layer\" as E5  [[psysml:7870e797-441e-4743-978b-6b23dab0b8d1 ]]  {\r\n",
       "}\r\n",
       "}\r\n",
       "comp usage \"x\" as E6  <<(T,blue)attribute>> [[psysml:ca3c2c7b-3718-4538-a84c-29984e19a6f6 ]] {\r\n",
       "}\r\n",
       "comp usage \"y\" as E7  <<(T,blue)attribute>> [[psysml:f187cc38-895f-43c9-b55f-372a79474975 ]] {\r\n",
       "}\r\n",
       "comp usage \"z\" as E8  <<(T,blue)attribute>> [[psysml:c8a5167c-621d-4bfa-8ffa-e3ed6a854bed ]] {\r\n",
       "}\r\n",
       "E3 ..>> E4 [[psysml:af0245ca-a479-404d-840a-c478ec8f55f1 ]] : <<depend>>\r\n",
       "E4 ..>> E5 [[psysml:aeab59fe-e3bd-4e23-96a4-136d0d468de6 ]] : <<depend>>\r\n",
       "E8 ..>> E6 [[psysml:e01a683f-5a6a-44b0-a0de-a423aeb5ad40 ]] : <<depend>>\r\n",
       "E8 ..>> E7 [[psysml:e01a683f-5a6a-44b0-a0de-a423aeb5ad40 ]] : <<depend>>\r\n",
       "}\r\n",
       "@enduml\r\n",
       "\n",
       "PlantUML version 1.2020.13(Sat Jun 13 12:26:38 UTC 2020)\n",
       "(EPL source distribution)\n",
       "Java Runtime: OpenJDK Runtime Environment\n",
       "JVM: OpenJDK 64-Bit Server VM\n",
       "Default Encoding: UTF-8\n",
       "Language: en\n",
       "Country: null\n",
       "--></g></svg>"
      ]
     },
     "execution_count": 16,
     "metadata": {},
     "output_type": "execute_result"
    }
   ],
   "source": [
    "%viz --style=\"LR\" --view=\"Default\" \"DependencyTest\""
   ]
  },
  {
   "cell_type": "code",
   "execution_count": 17,
   "id": "baking-operations",
   "metadata": {
    "execution": {
     "iopub.execute_input": "2021-03-26T13:04:33.036680Z",
     "iopub.status.busy": "2021-03-26T13:04:33.036313Z",
     "iopub.status.idle": "2021-03-26T13:04:33.069260Z",
     "shell.execute_reply": "2021-03-26T13:04:33.069718Z"
    }
   },
   "outputs": [
    {
     "data": {
      "image/svg+xml": [
       "<?xml version=\"1.0\" encoding=\"UTF-8\" standalone=\"no\"?><svg xmlns=\"http://www.w3.org/2000/svg\" xmlns:xlink=\"http://www.w3.org/1999/xlink\" contentScriptType=\"application/ecmascript\" contentStyleType=\"text/css\" height=\"328px\" preserveAspectRatio=\"none\" style=\"width:758px;height:328px;\" version=\"1.1\" viewBox=\"0 0 758 328\" width=\"758px\" zoomAndPan=\"magnify\"><defs/><g><!--MD5=[fbc87193dbaf4d95561dea2c320d4a47]\n",
       "cluster E1--><a href=\"psysml:c069fb4a-0cab-46ce-ae30-79221b6c6030\" target=\"_top\" title=\"psysml:c069fb4a-0cab-46ce-ae30-79221b6c6030\" xlink:actuate=\"onRequest\" xlink:href=\"psysml:c069fb4a-0cab-46ce-ae30-79221b6c6030\" xlink:show=\"new\" xlink:title=\"psysml:c069fb4a-0cab-46ce-ae30-79221b6c6030\" xlink:type=\"simple\"><polygon fill=\"#FFFFFF\" points=\"16,6,156,6,163,28.2969,736,28.2969,736,316,16,316,16,6\" style=\"stroke: #000000; stroke-width: 1.5;\"/><line style=\"stroke: #000000; stroke-width: 1.5;\" x1=\"16\" x2=\"163\" y1=\"28.2969\" y2=\"28.2969\"/><text fill=\"#000000\" font-family=\"sans-serif\" font-size=\"14\" font-weight=\"bold\" lengthAdjust=\"spacingAndGlyphs\" textLength=\"134\" x=\"20\" y=\"20.9951\">DependencyTest</text></a><!--MD5=[e4f7fae6ed58524ba242bb0b0d3be6b7]\n",
       "cluster E2--><a href=\"psysml:0036a7be-5206-4df9-ab28-301972427778\" target=\"_top\" title=\"psysml:0036a7be-5206-4df9-ab28-301972427778\" xlink:actuate=\"onRequest\" xlink:href=\"psysml:0036a7be-5206-4df9-ab28-301972427778\" xlink:show=\"new\" xlink:title=\"psysml:0036a7be-5206-4df9-ab28-301972427778\" xlink:type=\"simple\"><polygon fill=\"#FFFFFF\" points=\"40,49,104,49,111,71.2969,712,71.2969,712,154,40,154,40,49\" style=\"stroke: #000000; stroke-width: 1.5;\"/><line style=\"stroke: #000000; stroke-width: 1.5;\" x1=\"40\" x2=\"111\" y1=\"71.2969\" y2=\"71.2969\"/><text fill=\"#000000\" font-family=\"sans-serif\" font-size=\"14\" font-weight=\"bold\" lengthAdjust=\"spacingAndGlyphs\" textLength=\"58\" x=\"44\" y=\"63.9951\">System</text></a><!--MD5=[60a26617385b1d2d0262a64233df1f8d]\n",
       "class E6--><a href=\"psysml:ca3c2c7b-3718-4538-a84c-29984e19a6f6\" target=\"_top\" title=\"psysml:ca3c2c7b-3718-4538-a84c-29984e19a6f6\" xlink:actuate=\"onRequest\" xlink:href=\"psysml:ca3c2c7b-3718-4538-a84c-29984e19a6f6\" xlink:show=\"new\" xlink:title=\"psysml:ca3c2c7b-3718-4538-a84c-29984e19a6f6\" xlink:type=\"simple\"><rect fill=\"#FFFFFF\" height=\"45.9375\" id=\"E6\" rx=\"10\" ry=\"10\" style=\"stroke: #383838; stroke-width: 1.5;\" width=\"71\" x=\"366.5\" y=\"254\"/><text fill=\"#000000\" font-family=\"sans-serif\" font-size=\"12\" font-style=\"italic\" lengthAdjust=\"spacingAndGlyphs\" textLength=\"69\" x=\"367.5\" y=\"270.1387\">«attribute»</text><text fill=\"#000000\" font-family=\"sans-serif\" font-size=\"12\" lengthAdjust=\"spacingAndGlyphs\" textLength=\"6\" x=\"399\" y=\"284.1074\">x</text><line style=\"stroke: #383838; stroke-width: 1.5;\" x1=\"367.5\" x2=\"436.5\" y1=\"291.9375\" y2=\"291.9375\"/></a><!--MD5=[2156ba9850f5573cc1fc38a6a4b2f02b]\n",
       "class E7--><a href=\"psysml:f187cc38-895f-43c9-b55f-372a79474975\" target=\"_top\" title=\"psysml:f187cc38-895f-43c9-b55f-372a79474975\" xlink:actuate=\"onRequest\" xlink:href=\"psysml:f187cc38-895f-43c9-b55f-372a79474975\" xlink:show=\"new\" xlink:title=\"psysml:f187cc38-895f-43c9-b55f-372a79474975\" xlink:type=\"simple\"><rect fill=\"#FFFFFF\" height=\"45.9375\" id=\"E7\" rx=\"10\" ry=\"10\" style=\"stroke: #383838; stroke-width: 1.5;\" width=\"71\" x=\"366.5\" y=\"173\"/><text fill=\"#000000\" font-family=\"sans-serif\" font-size=\"12\" font-style=\"italic\" lengthAdjust=\"spacingAndGlyphs\" textLength=\"69\" x=\"367.5\" y=\"189.1387\">«attribute»</text><text fill=\"#000000\" font-family=\"sans-serif\" font-size=\"12\" lengthAdjust=\"spacingAndGlyphs\" textLength=\"6\" x=\"399\" y=\"203.1074\">y</text><line style=\"stroke: #383838; stroke-width: 1.5;\" x1=\"367.5\" x2=\"436.5\" y1=\"210.9375\" y2=\"210.9375\"/></a><!--MD5=[b9389687b975829384b498ac4b7476b2]\n",
       "class E8--><a href=\"psysml:c8a5167c-621d-4bfa-8ffa-e3ed6a854bed\" target=\"_top\" title=\"psysml:c8a5167c-621d-4bfa-8ffa-e3ed6a854bed\" xlink:actuate=\"onRequest\" xlink:href=\"psysml:c8a5167c-621d-4bfa-8ffa-e3ed6a854bed\" xlink:show=\"new\" xlink:title=\"psysml:c8a5167c-621d-4bfa-8ffa-e3ed6a854bed\" xlink:type=\"simple\"><rect fill=\"#FFFFFF\" height=\"45.9375\" id=\"E8\" rx=\"10\" ry=\"10\" style=\"stroke: #383838; stroke-width: 1.5;\" width=\"71\" x=\"98.5\" y=\"206\"/><text fill=\"#000000\" font-family=\"sans-serif\" font-size=\"12\" font-style=\"italic\" lengthAdjust=\"spacingAndGlyphs\" textLength=\"69\" x=\"99.5\" y=\"222.1387\">«attribute»</text><text fill=\"#000000\" font-family=\"sans-serif\" font-size=\"12\" lengthAdjust=\"spacingAndGlyphs\" textLength=\"5\" x=\"131.5\" y=\"236.1074\">z</text><line style=\"stroke: #383838; stroke-width: 1.5;\" x1=\"99.5\" x2=\"168.5\" y1=\"243.9375\" y2=\"243.9375\"/></a><a href=\"psysml:b9058297-d753-442e-8571-9bee33c166c8\" target=\"_top\" title=\"psysml:b9058297-d753-442e-8571-9bee33c166c8\" xlink:actuate=\"onRequest\" xlink:href=\"psysml:b9058297-d753-442e-8571-9bee33c166c8\" xlink:show=\"new\" xlink:title=\"psysml:b9058297-d753-442e-8571-9bee33c166c8\" xlink:type=\"simple\"><polygon fill=\"#FFFFFF\" points=\"56,84.5,198,84.5,205,106.7969,212,106.7969,212,137.0938,56,137.0938,56,84.5\" style=\"stroke: #000000; stroke-width: 1.5;\"/><line style=\"stroke: #000000; stroke-width: 1.5;\" x1=\"56\" x2=\"205\" y1=\"106.7969\" y2=\"106.7969\"/><text fill=\"#000000\" font-family=\"sans-serif\" font-size=\"14\" font-weight=\"bold\" lengthAdjust=\"spacingAndGlyphs\" textLength=\"136\" x=\"60\" y=\"99.4951\">Application Layer</text></a><a href=\"psysml:f007974c-308f-4828-8f2c-f39213f4e302\" target=\"_top\" title=\"psysml:f007974c-308f-4828-8f2c-f39213f4e302\" xlink:actuate=\"onRequest\" xlink:href=\"psysml:f007974c-308f-4828-8f2c-f39213f4e302\" xlink:show=\"new\" xlink:title=\"psysml:f007974c-308f-4828-8f2c-f39213f4e302\" xlink:type=\"simple\"><polygon fill=\"#FFFFFF\" points=\"338,84.5,452,84.5,459,106.7969,466,106.7969,466,137.0938,338,137.0938,338,84.5\" style=\"stroke: #000000; stroke-width: 1.5;\"/><line style=\"stroke: #000000; stroke-width: 1.5;\" x1=\"338\" x2=\"459\" y1=\"106.7969\" y2=\"106.7969\"/><text fill=\"#000000\" font-family=\"sans-serif\" font-size=\"14\" font-weight=\"bold\" lengthAdjust=\"spacingAndGlyphs\" textLength=\"108\" x=\"342\" y=\"99.4951\">Service Layer</text></a><a href=\"psysml:7870e797-441e-4743-978b-6b23dab0b8d1\" target=\"_top\" title=\"psysml:7870e797-441e-4743-978b-6b23dab0b8d1\" xlink:actuate=\"onRequest\" xlink:href=\"psysml:7870e797-441e-4743-978b-6b23dab0b8d1\" xlink:show=\"new\" xlink:title=\"psysml:7870e797-441e-4743-978b-6b23dab0b8d1\" xlink:type=\"simple\"><polygon fill=\"#FFFFFF\" points=\"592,84.5,682,84.5,689,106.7969,696,106.7969,696,137.0938,592,137.0938,592,84.5\" style=\"stroke: #000000; stroke-width: 1.5;\"/><line style=\"stroke: #000000; stroke-width: 1.5;\" x1=\"592\" x2=\"689\" y1=\"106.7969\" y2=\"106.7969\"/><text fill=\"#000000\" font-family=\"sans-serif\" font-size=\"14\" font-weight=\"bold\" lengthAdjust=\"spacingAndGlyphs\" textLength=\"84\" x=\"596\" y=\"99.4951\">Data Layer</text></a><!--MD5=[af87c684e3b0d8be13c1a698a818ef1e]\n",
       "link E3 to E4--><a href=\"psysml:af0245ca-a479-404d-840a-c478ec8f55f1\" target=\"_top\" title=\"psysml:af0245ca-a479-404d-840a-c478ec8f55f1\" xlink:actuate=\"onRequest\" xlink:href=\"psysml:af0245ca-a479-404d-840a-c478ec8f55f1\" xlink:show=\"new\" xlink:title=\"psysml:af0245ca-a479-404d-840a-c478ec8f55f1\" xlink:type=\"simple\"><path d=\"M212.3,111 C249.37,111 293.5,111 329.76,111 \" fill=\"none\" id=\"E3-&gt;E4\" style=\"stroke: #383838; stroke-width: 1.0; stroke-dasharray: 7.0,7.0;\"/><polygon fill=\"#383838\" points=\"337.84,111,329.84,108,329.84,114,337.84,111\" style=\"stroke: #383838; stroke-width: 1.0;\"/><text fill=\"#000000\" font-family=\"sans-serif\" font-size=\"13\" lengthAdjust=\"spacingAndGlyphs\" textLength=\"64\" x=\"243\" y=\"107.0669\">«depend»</text></a><!--MD5=[1b7591eae5389033d8d09a9d6721a717]\n",
       "link E4 to E5--><a href=\"psysml:aeab59fe-e3bd-4e23-96a4-136d0d468de6\" target=\"_top\" title=\"psysml:aeab59fe-e3bd-4e23-96a4-136d0d468de6\" xlink:actuate=\"onRequest\" xlink:href=\"psysml:aeab59fe-e3bd-4e23-96a4-136d0d468de6\" xlink:show=\"new\" xlink:title=\"psysml:aeab59fe-e3bd-4e23-96a4-136d0d468de6\" xlink:type=\"simple\"><path d=\"M466.06,111 C502.32,111 547.6,111 583.28,111 \" fill=\"none\" id=\"E4-&gt;E5\" style=\"stroke: #383838; stroke-width: 1.0; stroke-dasharray: 7.0,7.0;\"/><polygon fill=\"#383838\" points=\"591.67,111,583.67,108,583.67,114,591.67,111\" style=\"stroke: #383838; stroke-width: 1.0;\"/><text fill=\"#000000\" font-family=\"sans-serif\" font-size=\"13\" lengthAdjust=\"spacingAndGlyphs\" textLength=\"64\" x=\"497\" y=\"107.0669\">«depend»</text></a><!--MD5=[c5e8897d989ce984f93528998a7150fe]\n",
       "link E8 to E6--><a href=\"psysml:e01a683f-5a6a-44b0-a0de-a423aeb5ad40\" target=\"_top\" title=\"psysml:e01a683f-5a6a-44b0-a0de-a423aeb5ad40\" xlink:actuate=\"onRequest\" xlink:href=\"psysml:e01a683f-5a6a-44b0-a0de-a423aeb5ad40\" xlink:show=\"new\" xlink:title=\"psysml:e01a683f-5a6a-44b0-a0de-a423aeb5ad40\" xlink:type=\"simple\"><path d=\"M169.5,235.23 C217.81,243.94 305.54,259.77 358.03,269.25 \" fill=\"none\" id=\"E8-&gt;E6\" style=\"stroke: #383838; stroke-width: 1.0; stroke-dasharray: 7.0,7.0;\"/><polygon fill=\"#383838\" points=\"366.14,270.71,358.7966,266.3425,357.7356,272.248,366.14,270.71\" style=\"stroke: #383838; stroke-width: 1.0;\"/><text fill=\"#000000\" font-family=\"sans-serif\" font-size=\"13\" lengthAdjust=\"spacingAndGlyphs\" textLength=\"64\" x=\"243\" y=\"245.0669\">«depend»</text></a><!--MD5=[bfa3c8b0d15052fdf50ae9310b491027]\n",
       "link E8 to E7--><a href=\"psysml:e01a683f-5a6a-44b0-a0de-a423aeb5ad40\" target=\"_top\" title=\"psysml:e01a683f-5a6a-44b0-a0de-a423aeb5ad40\" xlink:actuate=\"onRequest\" xlink:href=\"psysml:e01a683f-5a6a-44b0-a0de-a423aeb5ad40\" xlink:show=\"new\" xlink:title=\"psysml:e01a683f-5a6a-44b0-a0de-a423aeb5ad40\" xlink:type=\"simple\"><path d=\"M169.5,224.72 C217.81,218.73 305.54,207.84 358.03,201.33 \" fill=\"none\" id=\"E8-&gt;E7\" style=\"stroke: #383838; stroke-width: 1.0; stroke-dasharray: 7.0,7.0;\"/><polygon fill=\"#383838\" points=\"366.14,200.33,357.8314,198.3381,358.5704,204.2924,366.14,200.33\" style=\"stroke: #383838; stroke-width: 1.0;\"/><text fill=\"#000000\" font-family=\"sans-serif\" font-size=\"13\" lengthAdjust=\"spacingAndGlyphs\" textLength=\"64\" x=\"243\" y=\"204.0669\">«depend»</text></a><!--MD5=[48c1571306d23c93c0bdbbb39ddbfcc5]\n",
       "@startuml\r\n",
       "left to right direction\r\n",
       "skinparam monochrome true\r\n",
       "skinparam classbackgroundcolor white\r\n",
       "skinparam shadowing false\r\n",
       "skinparam wrapWidth 300\r\n",
       "hide circle\r\n",
       "\r\n",
       "package \"DependencyTest\" as E1  [[psysml:c069fb4a-0cab-46ce-ae30-79221b6c6030 ]]  {\r\n",
       "package \"System\" as E2  [[psysml:0036a7be-5206-4df9-ab28-301972427778 ]]  {\r\n",
       "package \"Application Layer\" as E3  [[psysml:b9058297-d753-442e-8571-9bee33c166c8 ]]  {\r\n",
       "}\r\n",
       "package \"Service Layer\" as E4  [[psysml:f007974c-308f-4828-8f2c-f39213f4e302 ]]  {\r\n",
       "}\r\n",
       "package \"Data Layer\" as E5  [[psysml:7870e797-441e-4743-978b-6b23dab0b8d1 ]]  {\r\n",
       "}\r\n",
       "}\r\n",
       "comp usage \"x\" as E6  <<(T,blue)attribute>> [[psysml:ca3c2c7b-3718-4538-a84c-29984e19a6f6 ]] {\r\n",
       "}\r\n",
       "comp usage \"y\" as E7  <<(T,blue)attribute>> [[psysml:f187cc38-895f-43c9-b55f-372a79474975 ]] {\r\n",
       "}\r\n",
       "comp usage \"z\" as E8  <<(T,blue)attribute>> [[psysml:c8a5167c-621d-4bfa-8ffa-e3ed6a854bed ]] {\r\n",
       "}\r\n",
       "E3 ..>> E4 [[psysml:af0245ca-a479-404d-840a-c478ec8f55f1 ]] : <<depend>>\r\n",
       "E4 ..>> E5 [[psysml:aeab59fe-e3bd-4e23-96a4-136d0d468de6 ]] : <<depend>>\r\n",
       "E8 ..>> E6 [[psysml:e01a683f-5a6a-44b0-a0de-a423aeb5ad40 ]] : <<depend>>\r\n",
       "E8 ..>> E7 [[psysml:e01a683f-5a6a-44b0-a0de-a423aeb5ad40 ]] : <<depend>>\r\n",
       "}\r\n",
       "@enduml\r\n",
       "\n",
       "PlantUML version 1.2020.13(Sat Jun 13 12:26:38 UTC 2020)\n",
       "(EPL source distribution)\n",
       "Java Runtime: OpenJDK Runtime Environment\n",
       "JVM: OpenJDK 64-Bit Server VM\n",
       "Default Encoding: UTF-8\n",
       "Language: en\n",
       "Country: null\n",
       "--></g></svg>"
      ]
     },
     "execution_count": 17,
     "metadata": {},
     "output_type": "execute_result"
    }
   ],
   "source": [
    "%viz --style=\"LR\" --view=\"Tree\" \"DependencyTest\""
   ]
  },
  {
   "cell_type": "code",
   "execution_count": 18,
   "id": "technical-output",
   "metadata": {
    "execution": {
     "iopub.execute_input": "2021-03-26T13:04:33.125633Z",
     "iopub.status.busy": "2021-03-26T13:04:33.124835Z",
     "iopub.status.idle": "2021-03-26T13:04:33.126666Z",
     "shell.execute_reply": "2021-03-26T13:04:33.125303Z"
    }
   },
   "outputs": [
    {
     "data": {
      "image/svg+xml": [
       "<?xml version=\"1.0\" encoding=\"UTF-8\" standalone=\"no\"?><svg xmlns=\"http://www.w3.org/2000/svg\" xmlns:xlink=\"http://www.w3.org/1999/xlink\" contentScriptType=\"application/ecmascript\" contentStyleType=\"text/css\" height=\"12px\" preserveAspectRatio=\"none\" style=\"width:12px;height:12px;\" version=\"1.1\" viewBox=\"0 0 12 12\" width=\"12px\" zoomAndPan=\"magnify\"><defs/><g><!--MD5=[19d285c9d72a204eba4e2cd117d745e8]\n",
       "@startuml\r\n",
       "left to right direction\r\n",
       "skinparam monochrome true\r\n",
       "skinparam classbackgroundcolor white\r\n",
       "skinparam shadowing false\r\n",
       "skinparam wrapWidth 300\r\n",
       "hide circle\r\n",
       "\r\n",
       "@enduml\r\n",
       "\n",
       "PlantUML version 1.2020.13(Sat Jun 13 12:26:38 UTC 2020)\n",
       "(EPL source distribution)\n",
       "Java Runtime: OpenJDK Runtime Environment\n",
       "JVM: OpenJDK 64-Bit Server VM\n",
       "Default Encoding: UTF-8\n",
       "Language: en\n",
       "Country: null\n",
       "--></g></svg>"
      ]
     },
     "execution_count": 18,
     "metadata": {},
     "output_type": "execute_result"
    }
   ],
   "source": [
    "%viz --style=\"LR\" --view=\"State\" \"DependencyTest\""
   ]
  },
  {
   "cell_type": "code",
   "execution_count": 19,
   "id": "compliant-insider",
   "metadata": {
    "execution": {
     "iopub.execute_input": "2021-03-26T13:04:33.179258Z",
     "iopub.status.busy": "2021-03-26T13:04:33.178475Z",
     "iopub.status.idle": "2021-03-26T13:04:33.219464Z",
     "shell.execute_reply": "2021-03-26T13:04:33.217468Z"
    }
   },
   "outputs": [
    {
     "data": {
      "image/svg+xml": [
       "<?xml version=\"1.0\" encoding=\"UTF-8\" standalone=\"no\"?><svg xmlns=\"http://www.w3.org/2000/svg\" xmlns:xlink=\"http://www.w3.org/1999/xlink\" contentScriptType=\"application/ecmascript\" contentStyleType=\"text/css\" height=\"322px\" preserveAspectRatio=\"none\" style=\"width:670px;height:322px;\" version=\"1.1\" viewBox=\"0 0 670 322\" width=\"670px\" zoomAndPan=\"magnify\"><defs/><g><!--MD5=[fbc87193dbaf4d95561dea2c320d4a47]\n",
       "cluster E1--><a href=\"psysml:c069fb4a-0cab-46ce-ae30-79221b6c6030\" target=\"_top\" title=\"psysml:c069fb4a-0cab-46ce-ae30-79221b6c6030\" xlink:actuate=\"onRequest\" xlink:href=\"psysml:c069fb4a-0cab-46ce-ae30-79221b6c6030\" xlink:show=\"new\" xlink:title=\"psysml:c069fb4a-0cab-46ce-ae30-79221b6c6030\" xlink:type=\"simple\"><polygon fill=\"#FFFFFF\" points=\"16,6,156,6,163,28.2969,648,28.2969,648,310,16,310,16,6\" style=\"stroke: #000000; stroke-width: 1.5;\"/><line style=\"stroke: #000000; stroke-width: 1.5;\" x1=\"16\" x2=\"163\" y1=\"28.2969\" y2=\"28.2969\"/><text fill=\"#000000\" font-family=\"sans-serif\" font-size=\"14\" font-weight=\"bold\" lengthAdjust=\"spacingAndGlyphs\" textLength=\"134\" x=\"20\" y=\"20.9951\">DependencyTest</text></a><!--MD5=[e4f7fae6ed58524ba242bb0b0d3be6b7]\n",
       "cluster E2--><a href=\"psysml:0036a7be-5206-4df9-ab28-301972427778\" target=\"_top\" title=\"psysml:0036a7be-5206-4df9-ab28-301972427778\" xlink:actuate=\"onRequest\" xlink:href=\"psysml:0036a7be-5206-4df9-ab28-301972427778\" xlink:show=\"new\" xlink:title=\"psysml:0036a7be-5206-4df9-ab28-301972427778\" xlink:type=\"simple\"><polygon fill=\"#FFFFFF\" points=\"40,49,104,49,111,71.2969,624,71.2969,624,154,40,154,40,49\" style=\"stroke: #000000; stroke-width: 1.5;\"/><line style=\"stroke: #000000; stroke-width: 1.5;\" x1=\"40\" x2=\"111\" y1=\"71.2969\" y2=\"71.2969\"/><text fill=\"#000000\" font-family=\"sans-serif\" font-size=\"14\" font-weight=\"bold\" lengthAdjust=\"spacingAndGlyphs\" textLength=\"58\" x=\"44\" y=\"63.9951\">System</text></a><a href=\"psysml:b9058297-d753-442e-8571-9bee33c166c8\" target=\"_top\" title=\"psysml:b9058297-d753-442e-8571-9bee33c166c8\" xlink:actuate=\"onRequest\" xlink:href=\"psysml:b9058297-d753-442e-8571-9bee33c166c8\" xlink:show=\"new\" xlink:title=\"psysml:b9058297-d753-442e-8571-9bee33c166c8\" xlink:type=\"simple\"><polygon fill=\"#FFFFFF\" points=\"56,84.5,198,84.5,205,106.7969,212,106.7969,212,137.0938,56,137.0938,56,84.5\" style=\"stroke: #000000; stroke-width: 1.5;\"/><line style=\"stroke: #000000; stroke-width: 1.5;\" x1=\"56\" x2=\"205\" y1=\"106.7969\" y2=\"106.7969\"/><text fill=\"#000000\" font-family=\"sans-serif\" font-size=\"14\" font-weight=\"bold\" lengthAdjust=\"spacingAndGlyphs\" textLength=\"136\" x=\"60\" y=\"99.4951\">Application Layer</text></a><a href=\"psysml:f007974c-308f-4828-8f2c-f39213f4e302\" target=\"_top\" title=\"psysml:f007974c-308f-4828-8f2c-f39213f4e302\" xlink:actuate=\"onRequest\" xlink:href=\"psysml:f007974c-308f-4828-8f2c-f39213f4e302\" xlink:show=\"new\" xlink:title=\"psysml:f007974c-308f-4828-8f2c-f39213f4e302\" xlink:type=\"simple\"><polygon fill=\"#FFFFFF\" points=\"294,84.5,408,84.5,415,106.7969,422,106.7969,422,137.0938,294,137.0938,294,84.5\" style=\"stroke: #000000; stroke-width: 1.5;\"/><line style=\"stroke: #000000; stroke-width: 1.5;\" x1=\"294\" x2=\"415\" y1=\"106.7969\" y2=\"106.7969\"/><text fill=\"#000000\" font-family=\"sans-serif\" font-size=\"14\" font-weight=\"bold\" lengthAdjust=\"spacingAndGlyphs\" textLength=\"108\" x=\"298\" y=\"99.4951\">Service Layer</text></a><a href=\"psysml:7870e797-441e-4743-978b-6b23dab0b8d1\" target=\"_top\" title=\"psysml:7870e797-441e-4743-978b-6b23dab0b8d1\" xlink:actuate=\"onRequest\" xlink:href=\"psysml:7870e797-441e-4743-978b-6b23dab0b8d1\" xlink:show=\"new\" xlink:title=\"psysml:7870e797-441e-4743-978b-6b23dab0b8d1\" xlink:type=\"simple\"><polygon fill=\"#FFFFFF\" points=\"504,84.5,594,84.5,601,106.7969,608,106.7969,608,137.0938,504,137.0938,504,84.5\" style=\"stroke: #000000; stroke-width: 1.5;\"/><line style=\"stroke: #000000; stroke-width: 1.5;\" x1=\"504\" x2=\"601\" y1=\"106.7969\" y2=\"106.7969\"/><text fill=\"#000000\" font-family=\"sans-serif\" font-size=\"14\" font-weight=\"bold\" lengthAdjust=\"spacingAndGlyphs\" textLength=\"84\" x=\"508\" y=\"99.4951\">Data Layer</text></a><g id=\"E1.E6\"><a href=\"psysml:ca3c2c7b-3718-4538-a84c-29984e19a6f6\" target=\"_top\" title=\"psysml:ca3c2c7b-3718-4538-a84c-29984e19a6f6\" xlink:actuate=\"onRequest\" xlink:href=\"psysml:ca3c2c7b-3718-4538-a84c-29984e19a6f6\" xlink:show=\"new\" xlink:title=\"psysml:ca3c2c7b-3718-4538-a84c-29984e19a6f6\" xlink:type=\"simple\"><rect fill=\"#FFFFFF\" height=\"42.9375\" id=\"E6\" rx=\"10\" ry=\"10\" style=\"stroke: #383838; stroke-width: 1.5;\" width=\"76\" x=\"320\" y=\"250.5\"/><rect fill=\"#F8F8F8\" height=\"37.9375\" rx=\"10\" ry=\"10\" style=\"stroke: #F8F8F8; stroke-width: 1.5;\" width=\"76\" x=\"320\" y=\"250.5\"/><rect fill=\"#F8F8F8\" height=\"10\" style=\"stroke: #F8F8F8; stroke-width: 1.5;\" width=\"76\" x=\"320\" y=\"278.4375\"/><rect fill=\"none\" height=\"42.9375\" id=\"E6\" rx=\"10\" ry=\"10\" style=\"stroke: #383838; stroke-width: 1.5;\" width=\"76\" x=\"320\" y=\"250.5\"/><text fill=\"#000000\" font-family=\"sans-serif\" font-size=\"12\" font-style=\"italic\" lengthAdjust=\"spacingAndGlyphs\" textLength=\"69\" x=\"323.5\" y=\"266.6387\">«attribute»</text><text fill=\"#000000\" font-family=\"sans-serif\" font-size=\"12\" lengthAdjust=\"spacingAndGlyphs\" textLength=\"6\" x=\"355\" y=\"280.6074\">x</text></a></g><g id=\"E1.E7\"><a href=\"psysml:f187cc38-895f-43c9-b55f-372a79474975\" target=\"_top\" title=\"psysml:f187cc38-895f-43c9-b55f-372a79474975\" xlink:actuate=\"onRequest\" xlink:href=\"psysml:f187cc38-895f-43c9-b55f-372a79474975\" xlink:show=\"new\" xlink:title=\"psysml:f187cc38-895f-43c9-b55f-372a79474975\" xlink:type=\"simple\"><rect fill=\"#FFFFFF\" height=\"42.9375\" id=\"E7\" rx=\"10\" ry=\"10\" style=\"stroke: #383838; stroke-width: 1.5;\" width=\"76\" x=\"320\" y=\"172.5\"/><rect fill=\"#F8F8F8\" height=\"37.9375\" rx=\"10\" ry=\"10\" style=\"stroke: #F8F8F8; stroke-width: 1.5;\" width=\"76\" x=\"320\" y=\"172.5\"/><rect fill=\"#F8F8F8\" height=\"10\" style=\"stroke: #F8F8F8; stroke-width: 1.5;\" width=\"76\" x=\"320\" y=\"200.4375\"/><rect fill=\"none\" height=\"42.9375\" id=\"E7\" rx=\"10\" ry=\"10\" style=\"stroke: #383838; stroke-width: 1.5;\" width=\"76\" x=\"320\" y=\"172.5\"/><text fill=\"#000000\" font-family=\"sans-serif\" font-size=\"12\" font-style=\"italic\" lengthAdjust=\"spacingAndGlyphs\" textLength=\"69\" x=\"323.5\" y=\"188.6387\">«attribute»</text><text fill=\"#000000\" font-family=\"sans-serif\" font-size=\"12\" lengthAdjust=\"spacingAndGlyphs\" textLength=\"6\" x=\"355\" y=\"202.6074\">y</text></a></g><g id=\"E1.E8\"><a href=\"psysml:c8a5167c-621d-4bfa-8ffa-e3ed6a854bed\" target=\"_top\" title=\"psysml:c8a5167c-621d-4bfa-8ffa-e3ed6a854bed\" xlink:actuate=\"onRequest\" xlink:href=\"psysml:c8a5167c-621d-4bfa-8ffa-e3ed6a854bed\" xlink:show=\"new\" xlink:title=\"psysml:c8a5167c-621d-4bfa-8ffa-e3ed6a854bed\" xlink:type=\"simple\"><rect fill=\"#FFFFFF\" height=\"42.9375\" id=\"E8\" rx=\"10\" ry=\"10\" style=\"stroke: #383838; stroke-width: 1.5;\" width=\"76\" x=\"96\" y=\"204.5\"/><rect fill=\"#F8F8F8\" height=\"37.9375\" rx=\"10\" ry=\"10\" style=\"stroke: #F8F8F8; stroke-width: 1.5;\" width=\"76\" x=\"96\" y=\"204.5\"/><rect fill=\"#F8F8F8\" height=\"10\" style=\"stroke: #F8F8F8; stroke-width: 1.5;\" width=\"76\" x=\"96\" y=\"232.4375\"/><rect fill=\"none\" height=\"42.9375\" id=\"E8\" rx=\"10\" ry=\"10\" style=\"stroke: #383838; stroke-width: 1.5;\" width=\"76\" x=\"96\" y=\"204.5\"/><text fill=\"#000000\" font-family=\"sans-serif\" font-size=\"12\" font-style=\"italic\" lengthAdjust=\"spacingAndGlyphs\" textLength=\"69\" x=\"99.5\" y=\"220.6387\">«attribute»</text><text fill=\"#000000\" font-family=\"sans-serif\" font-size=\"12\" lengthAdjust=\"spacingAndGlyphs\" textLength=\"5\" x=\"131.5\" y=\"234.6074\">z</text></a></g><!--MD5=[af87c684e3b0d8be13c1a698a818ef1e]\n",
       "link E3 to E4--><a href=\"psysml:af0245ca-a479-404d-840a-c478ec8f55f1\" target=\"_top\" title=\"psysml:af0245ca-a479-404d-840a-c478ec8f55f1\" xlink:actuate=\"onRequest\" xlink:href=\"psysml:af0245ca-a479-404d-840a-c478ec8f55f1\" xlink:show=\"new\" xlink:title=\"psysml:af0245ca-a479-404d-840a-c478ec8f55f1\" xlink:type=\"simple\"><path d=\"M212.02,111 C235.88,111 262.06,111 285.53,111 \" fill=\"none\" id=\"E3-&gt;E4\" style=\"stroke: #383838; stroke-width: 1.0; stroke-dasharray: 7.0,7.0;\"/><polygon fill=\"#383838\" points=\"293.71,111,285.71,108,285.71,114,293.71,111\" style=\"stroke: #383838; stroke-width: 1.0;\"/><text fill=\"#000000\" font-family=\"sans-serif\" font-size=\"13\" lengthAdjust=\"spacingAndGlyphs\" textLength=\"64\" x=\"221\" y=\"107.0669\">«depend»</text></a><!--MD5=[1b7591eae5389033d8d09a9d6721a717]\n",
       "link E4 to E5--><a href=\"psysml:aeab59fe-e3bd-4e23-96a4-136d0d468de6\" target=\"_top\" title=\"psysml:aeab59fe-e3bd-4e23-96a4-136d0d468de6\" xlink:actuate=\"onRequest\" xlink:href=\"psysml:aeab59fe-e3bd-4e23-96a4-136d0d468de6\" xlink:show=\"new\" xlink:title=\"psysml:aeab59fe-e3bd-4e23-96a4-136d0d468de6\" xlink:type=\"simple\"><path d=\"M422.09,111 C445.72,111 472.46,111 495.72,111 \" fill=\"none\" id=\"E4-&gt;E5\" style=\"stroke: #383838; stroke-width: 1.0; stroke-dasharray: 7.0,7.0;\"/><polygon fill=\"#383838\" points=\"503.8,111,495.8,108,495.8,114,503.8,111\" style=\"stroke: #383838; stroke-width: 1.0;\"/><text fill=\"#000000\" font-family=\"sans-serif\" font-size=\"13\" lengthAdjust=\"spacingAndGlyphs\" textLength=\"64\" x=\"431\" y=\"107.0669\">«depend»</text></a><!--MD5=[c5e8897d989ce984f93528998a7150fe]\n",
       "link E8 to E6--><a href=\"psysml:e01a683f-5a6a-44b0-a0de-a423aeb5ad40\" target=\"_top\" title=\"psysml:e01a683f-5a6a-44b0-a0de-a423aeb5ad40\" xlink:actuate=\"onRequest\" xlink:href=\"psysml:e01a683f-5a6a-44b0-a0de-a423aeb5ad40\" xlink:show=\"new\" xlink:title=\"psysml:e01a683f-5a6a-44b0-a0de-a423aeb5ad40\" xlink:type=\"simple\"><path d=\"M172.16,233.7 C210.58,241.66 270.59,254.1 311.75,262.62 \" fill=\"none\" id=\"E8-&gt;E6\" style=\"stroke: #383838; stroke-width: 1.0; stroke-dasharray: 7.0,7.0;\"/><polygon fill=\"#383838\" points=\"319.72,264.28,312.4987,259.7135,311.2767,265.5878,319.72,264.28\" style=\"stroke: #383838; stroke-width: 1.0;\"/><text fill=\"#000000\" font-family=\"sans-serif\" font-size=\"13\" lengthAdjust=\"spacingAndGlyphs\" textLength=\"64\" x=\"221\" y=\"241.0669\">«depend»</text></a><!--MD5=[bfa3c8b0d15052fdf50ae9310b491027]\n",
       "link E8 to E7--><a href=\"psysml:e01a683f-5a6a-44b0-a0de-a423aeb5ad40\" target=\"_top\" title=\"psysml:e01a683f-5a6a-44b0-a0de-a423aeb5ad40\" xlink:actuate=\"onRequest\" xlink:href=\"psysml:e01a683f-5a6a-44b0-a0de-a423aeb5ad40\" xlink:show=\"new\" xlink:title=\"psysml:e01a683f-5a6a-44b0-a0de-a423aeb5ad40\" xlink:type=\"simple\"><path d=\"M172.16,220.64 C210.58,215.11 270.59,206.45 311.75,200.52 \" fill=\"none\" id=\"E8-&gt;E7\" style=\"stroke: #383838; stroke-width: 1.0; stroke-dasharray: 7.0,7.0;\"/><polygon fill=\"#383838\" points=\"319.72,199.37,311.3738,197.542,312.2298,203.4807,319.72,199.37\" style=\"stroke: #383838; stroke-width: 1.0;\"/><text fill=\"#000000\" font-family=\"sans-serif\" font-size=\"13\" lengthAdjust=\"spacingAndGlyphs\" textLength=\"64\" x=\"221\" y=\"201.0669\">«depend»</text></a><!--MD5=[894dfafeab15cf091c27b06eeddb126d]\n",
       "@startuml\r\n",
       "skinparam ranksep 8\r\n",
       "skinparam rectangle {\r\n",
       " backgroundColor<<block>> LightGreen\r\n",
       "}\r\n",
       "left to right direction\r\n",
       "skinparam monochrome true\r\n",
       "skinparam classbackgroundcolor white\r\n",
       "skinparam shadowing false\r\n",
       "skinparam wrapWidth 300\r\n",
       "hide circle\r\n",
       "\r\n",
       "package \"DependencyTest\" as E1  [[psysml:c069fb4a-0cab-46ce-ae30-79221b6c6030 ]]  {\r\n",
       "package \"System\" as E2  [[psysml:0036a7be-5206-4df9-ab28-301972427778 ]]  {\r\n",
       "package \"Application Layer\" as E3  [[psysml:b9058297-d753-442e-8571-9bee33c166c8 ]]  {\r\n",
       "}\r\n",
       "package \"Service Layer\" as E4  [[psysml:f007974c-308f-4828-8f2c-f39213f4e302 ]]  {\r\n",
       "}\r\n",
       "package \"Data Layer\" as E5  [[psysml:7870e797-441e-4743-978b-6b23dab0b8d1 ]]  {\r\n",
       "}\r\n",
       "}\r\n",
       "rec usage \"x\" as E6  <<(T,blue)attribute>> [[psysml:ca3c2c7b-3718-4538-a84c-29984e19a6f6 ]] {\r\n",
       "}\r\n",
       "rec usage \"y\" as E7  <<(T,blue)attribute>> [[psysml:f187cc38-895f-43c9-b55f-372a79474975 ]] {\r\n",
       "}\r\n",
       "rec usage \"z\" as E8  <<(T,blue)attribute>> [[psysml:c8a5167c-621d-4bfa-8ffa-e3ed6a854bed ]] {\r\n",
       "}\r\n",
       "E3 ..>> E4 [[psysml:af0245ca-a479-404d-840a-c478ec8f55f1 ]] : <<depend>>\r\n",
       "E4 ..>> E5 [[psysml:aeab59fe-e3bd-4e23-96a4-136d0d468de6 ]] : <<depend>>\r\n",
       "E8 ..>> E6 [[psysml:e01a683f-5a6a-44b0-a0de-a423aeb5ad40 ]] : <<depend>>\r\n",
       "E8 ..>> E7 [[psysml:e01a683f-5a6a-44b0-a0de-a423aeb5ad40 ]] : <<depend>>\r\n",
       "}\r\n",
       "@enduml\r\n",
       "\n",
       "PlantUML version 1.2020.13(Sat Jun 13 12:26:38 UTC 2020)\n",
       "(EPL source distribution)\n",
       "Java Runtime: OpenJDK Runtime Environment\n",
       "JVM: OpenJDK 64-Bit Server VM\n",
       "Default Encoding: UTF-8\n",
       "Language: en\n",
       "Country: null\n",
       "--></g></svg>"
      ]
     },
     "execution_count": 19,
     "metadata": {},
     "output_type": "execute_result"
    }
   ],
   "source": [
    "%viz --style=\"LR\" --view=\"Interconnection\" \"DependencyTest\""
   ]
  },
  {
   "cell_type": "code",
   "execution_count": 20,
   "id": "animal-saturday",
   "metadata": {
    "execution": {
     "iopub.execute_input": "2021-03-26T13:04:33.273406Z",
     "iopub.status.busy": "2021-03-26T13:04:33.272531Z",
     "iopub.status.idle": "2021-03-26T13:04:33.278927Z",
     "shell.execute_reply": "2021-03-26T13:04:33.279435Z"
    }
   },
   "outputs": [
    {
     "data": {
      "image/svg+xml": [
       "<?xml version=\"1.0\" encoding=\"UTF-8\" standalone=\"no\"?><svg xmlns=\"http://www.w3.org/2000/svg\" xmlns:xlink=\"http://www.w3.org/1999/xlink\" contentScriptType=\"application/ecmascript\" contentStyleType=\"text/css\" height=\"12px\" preserveAspectRatio=\"none\" style=\"width:12px;height:12px;\" version=\"1.1\" viewBox=\"0 0 12 12\" width=\"12px\" zoomAndPan=\"magnify\"><defs/><g><!--MD5=[7aeb398939421629f6affaa4a1a7b125]\n",
       "@startuml\r\n",
       "skinparam ranksep 8\r\n",
       "left to right direction\r\n",
       "skinparam monochrome true\r\n",
       "skinparam classbackgroundcolor white\r\n",
       "skinparam shadowing false\r\n",
       "skinparam wrapWidth 300\r\n",
       "hide circle\r\n",
       "\r\n",
       "@enduml\r\n",
       "\n",
       "PlantUML version 1.2020.13(Sat Jun 13 12:26:38 UTC 2020)\n",
       "(EPL source distribution)\n",
       "Java Runtime: OpenJDK Runtime Environment\n",
       "JVM: OpenJDK 64-Bit Server VM\n",
       "Default Encoding: UTF-8\n",
       "Language: en\n",
       "Country: null\n",
       "--></g></svg>"
      ]
     },
     "execution_count": 20,
     "metadata": {},
     "output_type": "execute_result"
    }
   ],
   "source": [
    "%viz --style=\"LR\" --view=\"Action\" \"DependencyTest\""
   ]
  },
  {
   "cell_type": "code",
   "execution_count": 21,
   "id": "creative-cassette",
   "metadata": {
    "execution": {
     "iopub.execute_input": "2021-03-26T13:04:33.332531Z",
     "iopub.status.busy": "2021-03-26T13:04:33.331640Z",
     "iopub.status.idle": "2021-03-26T13:04:33.367343Z",
     "shell.execute_reply": "2021-03-26T13:04:33.367657Z"
    }
   },
   "outputs": [
    {
     "data": {
      "image/svg+xml": [
       "<?xml version=\"1.0\" encoding=\"UTF-8\" standalone=\"no\"?><svg xmlns=\"http://www.w3.org/2000/svg\" xmlns:xlink=\"http://www.w3.org/1999/xlink\" contentScriptType=\"application/ecmascript\" contentStyleType=\"text/css\" height=\"328px\" preserveAspectRatio=\"none\" style=\"width:758px;height:328px;\" version=\"1.1\" viewBox=\"0 0 758 328\" width=\"758px\" zoomAndPan=\"magnify\"><defs/><g><!--MD5=[fbc87193dbaf4d95561dea2c320d4a47]\n",
       "cluster E1--><a href=\"psysml:c069fb4a-0cab-46ce-ae30-79221b6c6030\" target=\"_top\" title=\"psysml:c069fb4a-0cab-46ce-ae30-79221b6c6030\" xlink:actuate=\"onRequest\" xlink:href=\"psysml:c069fb4a-0cab-46ce-ae30-79221b6c6030\" xlink:show=\"new\" xlink:title=\"psysml:c069fb4a-0cab-46ce-ae30-79221b6c6030\" xlink:type=\"simple\"><polygon fill=\"#FFFFFF\" points=\"16,6,156,6,163,28.2969,736,28.2969,736,316,16,316,16,6\" style=\"stroke: #000000; stroke-width: 1.5;\"/><line style=\"stroke: #000000; stroke-width: 1.5;\" x1=\"16\" x2=\"163\" y1=\"28.2969\" y2=\"28.2969\"/><text fill=\"#000000\" font-family=\"sans-serif\" font-size=\"14\" font-weight=\"bold\" lengthAdjust=\"spacingAndGlyphs\" textLength=\"134\" x=\"20\" y=\"20.9951\">DependencyTest</text></a><!--MD5=[e4f7fae6ed58524ba242bb0b0d3be6b7]\n",
       "cluster E2--><a href=\"psysml:0036a7be-5206-4df9-ab28-301972427778\" target=\"_top\" title=\"psysml:0036a7be-5206-4df9-ab28-301972427778\" xlink:actuate=\"onRequest\" xlink:href=\"psysml:0036a7be-5206-4df9-ab28-301972427778\" xlink:show=\"new\" xlink:title=\"psysml:0036a7be-5206-4df9-ab28-301972427778\" xlink:type=\"simple\"><polygon fill=\"#FFFFFF\" points=\"40,49,104,49,111,71.2969,712,71.2969,712,154,40,154,40,49\" style=\"stroke: #000000; stroke-width: 1.5;\"/><line style=\"stroke: #000000; stroke-width: 1.5;\" x1=\"40\" x2=\"111\" y1=\"71.2969\" y2=\"71.2969\"/><text fill=\"#000000\" font-family=\"sans-serif\" font-size=\"14\" font-weight=\"bold\" lengthAdjust=\"spacingAndGlyphs\" textLength=\"58\" x=\"44\" y=\"63.9951\">System</text></a><!--MD5=[60a26617385b1d2d0262a64233df1f8d]\n",
       "class E6--><a href=\"psysml:ca3c2c7b-3718-4538-a84c-29984e19a6f6\" target=\"_top\" title=\"psysml:ca3c2c7b-3718-4538-a84c-29984e19a6f6\" xlink:actuate=\"onRequest\" xlink:href=\"psysml:ca3c2c7b-3718-4538-a84c-29984e19a6f6\" xlink:show=\"new\" xlink:title=\"psysml:ca3c2c7b-3718-4538-a84c-29984e19a6f6\" xlink:type=\"simple\"><rect fill=\"#FFFFFF\" height=\"45.9375\" id=\"E6\" rx=\"10\" ry=\"10\" style=\"stroke: #383838; stroke-width: 1.5;\" width=\"71\" x=\"366.5\" y=\"254\"/><text fill=\"#000000\" font-family=\"sans-serif\" font-size=\"12\" font-style=\"italic\" lengthAdjust=\"spacingAndGlyphs\" textLength=\"69\" x=\"367.5\" y=\"270.1387\">«attribute»</text><text fill=\"#000000\" font-family=\"sans-serif\" font-size=\"12\" lengthAdjust=\"spacingAndGlyphs\" textLength=\"6\" x=\"399\" y=\"284.1074\">x</text><line style=\"stroke: #383838; stroke-width: 1.5;\" x1=\"367.5\" x2=\"436.5\" y1=\"291.9375\" y2=\"291.9375\"/></a><!--MD5=[2156ba9850f5573cc1fc38a6a4b2f02b]\n",
       "class E7--><a href=\"psysml:f187cc38-895f-43c9-b55f-372a79474975\" target=\"_top\" title=\"psysml:f187cc38-895f-43c9-b55f-372a79474975\" xlink:actuate=\"onRequest\" xlink:href=\"psysml:f187cc38-895f-43c9-b55f-372a79474975\" xlink:show=\"new\" xlink:title=\"psysml:f187cc38-895f-43c9-b55f-372a79474975\" xlink:type=\"simple\"><rect fill=\"#FFFFFF\" height=\"45.9375\" id=\"E7\" rx=\"10\" ry=\"10\" style=\"stroke: #383838; stroke-width: 1.5;\" width=\"71\" x=\"366.5\" y=\"173\"/><text fill=\"#000000\" font-family=\"sans-serif\" font-size=\"12\" font-style=\"italic\" lengthAdjust=\"spacingAndGlyphs\" textLength=\"69\" x=\"367.5\" y=\"189.1387\">«attribute»</text><text fill=\"#000000\" font-family=\"sans-serif\" font-size=\"12\" lengthAdjust=\"spacingAndGlyphs\" textLength=\"6\" x=\"399\" y=\"203.1074\">y</text><line style=\"stroke: #383838; stroke-width: 1.5;\" x1=\"367.5\" x2=\"436.5\" y1=\"210.9375\" y2=\"210.9375\"/></a><!--MD5=[b9389687b975829384b498ac4b7476b2]\n",
       "class E8--><a href=\"psysml:c8a5167c-621d-4bfa-8ffa-e3ed6a854bed\" target=\"_top\" title=\"psysml:c8a5167c-621d-4bfa-8ffa-e3ed6a854bed\" xlink:actuate=\"onRequest\" xlink:href=\"psysml:c8a5167c-621d-4bfa-8ffa-e3ed6a854bed\" xlink:show=\"new\" xlink:title=\"psysml:c8a5167c-621d-4bfa-8ffa-e3ed6a854bed\" xlink:type=\"simple\"><rect fill=\"#FFFFFF\" height=\"45.9375\" id=\"E8\" rx=\"10\" ry=\"10\" style=\"stroke: #383838; stroke-width: 1.5;\" width=\"71\" x=\"98.5\" y=\"206\"/><text fill=\"#000000\" font-family=\"sans-serif\" font-size=\"12\" font-style=\"italic\" lengthAdjust=\"spacingAndGlyphs\" textLength=\"69\" x=\"99.5\" y=\"222.1387\">«attribute»</text><text fill=\"#000000\" font-family=\"sans-serif\" font-size=\"12\" lengthAdjust=\"spacingAndGlyphs\" textLength=\"5\" x=\"131.5\" y=\"236.1074\">z</text><line style=\"stroke: #383838; stroke-width: 1.5;\" x1=\"99.5\" x2=\"168.5\" y1=\"243.9375\" y2=\"243.9375\"/></a><a href=\"psysml:b9058297-d753-442e-8571-9bee33c166c8\" target=\"_top\" title=\"psysml:b9058297-d753-442e-8571-9bee33c166c8\" xlink:actuate=\"onRequest\" xlink:href=\"psysml:b9058297-d753-442e-8571-9bee33c166c8\" xlink:show=\"new\" xlink:title=\"psysml:b9058297-d753-442e-8571-9bee33c166c8\" xlink:type=\"simple\"><polygon fill=\"#FFFFFF\" points=\"56,84.5,198,84.5,205,106.7969,212,106.7969,212,137.0938,56,137.0938,56,84.5\" style=\"stroke: #000000; stroke-width: 1.5;\"/><line style=\"stroke: #000000; stroke-width: 1.5;\" x1=\"56\" x2=\"205\" y1=\"106.7969\" y2=\"106.7969\"/><text fill=\"#000000\" font-family=\"sans-serif\" font-size=\"14\" font-weight=\"bold\" lengthAdjust=\"spacingAndGlyphs\" textLength=\"136\" x=\"60\" y=\"99.4951\">Application Layer</text></a><a href=\"psysml:f007974c-308f-4828-8f2c-f39213f4e302\" target=\"_top\" title=\"psysml:f007974c-308f-4828-8f2c-f39213f4e302\" xlink:actuate=\"onRequest\" xlink:href=\"psysml:f007974c-308f-4828-8f2c-f39213f4e302\" xlink:show=\"new\" xlink:title=\"psysml:f007974c-308f-4828-8f2c-f39213f4e302\" xlink:type=\"simple\"><polygon fill=\"#FFFFFF\" points=\"338,84.5,452,84.5,459,106.7969,466,106.7969,466,137.0938,338,137.0938,338,84.5\" style=\"stroke: #000000; stroke-width: 1.5;\"/><line style=\"stroke: #000000; stroke-width: 1.5;\" x1=\"338\" x2=\"459\" y1=\"106.7969\" y2=\"106.7969\"/><text fill=\"#000000\" font-family=\"sans-serif\" font-size=\"14\" font-weight=\"bold\" lengthAdjust=\"spacingAndGlyphs\" textLength=\"108\" x=\"342\" y=\"99.4951\">Service Layer</text></a><a href=\"psysml:7870e797-441e-4743-978b-6b23dab0b8d1\" target=\"_top\" title=\"psysml:7870e797-441e-4743-978b-6b23dab0b8d1\" xlink:actuate=\"onRequest\" xlink:href=\"psysml:7870e797-441e-4743-978b-6b23dab0b8d1\" xlink:show=\"new\" xlink:title=\"psysml:7870e797-441e-4743-978b-6b23dab0b8d1\" xlink:type=\"simple\"><polygon fill=\"#FFFFFF\" points=\"592,84.5,682,84.5,689,106.7969,696,106.7969,696,137.0938,592,137.0938,592,84.5\" style=\"stroke: #000000; stroke-width: 1.5;\"/><line style=\"stroke: #000000; stroke-width: 1.5;\" x1=\"592\" x2=\"689\" y1=\"106.7969\" y2=\"106.7969\"/><text fill=\"#000000\" font-family=\"sans-serif\" font-size=\"14\" font-weight=\"bold\" lengthAdjust=\"spacingAndGlyphs\" textLength=\"84\" x=\"596\" y=\"99.4951\">Data Layer</text></a><!--MD5=[af87c684e3b0d8be13c1a698a818ef1e]\n",
       "link E3 to E4--><a href=\"psysml:af0245ca-a479-404d-840a-c478ec8f55f1\" target=\"_top\" title=\"psysml:af0245ca-a479-404d-840a-c478ec8f55f1\" xlink:actuate=\"onRequest\" xlink:href=\"psysml:af0245ca-a479-404d-840a-c478ec8f55f1\" xlink:show=\"new\" xlink:title=\"psysml:af0245ca-a479-404d-840a-c478ec8f55f1\" xlink:type=\"simple\"><path d=\"M212.3,111 C249.37,111 293.5,111 329.76,111 \" fill=\"none\" id=\"E3-&gt;E4\" style=\"stroke: #383838; stroke-width: 1.0; stroke-dasharray: 7.0,7.0;\"/><polygon fill=\"#383838\" points=\"337.84,111,329.84,108,329.84,114,337.84,111\" style=\"stroke: #383838; stroke-width: 1.0;\"/><text fill=\"#000000\" font-family=\"sans-serif\" font-size=\"13\" lengthAdjust=\"spacingAndGlyphs\" textLength=\"64\" x=\"243\" y=\"107.0669\">«depend»</text></a><!--MD5=[1b7591eae5389033d8d09a9d6721a717]\n",
       "link E4 to E5--><a href=\"psysml:aeab59fe-e3bd-4e23-96a4-136d0d468de6\" target=\"_top\" title=\"psysml:aeab59fe-e3bd-4e23-96a4-136d0d468de6\" xlink:actuate=\"onRequest\" xlink:href=\"psysml:aeab59fe-e3bd-4e23-96a4-136d0d468de6\" xlink:show=\"new\" xlink:title=\"psysml:aeab59fe-e3bd-4e23-96a4-136d0d468de6\" xlink:type=\"simple\"><path d=\"M466.06,111 C502.32,111 547.6,111 583.28,111 \" fill=\"none\" id=\"E4-&gt;E5\" style=\"stroke: #383838; stroke-width: 1.0; stroke-dasharray: 7.0,7.0;\"/><polygon fill=\"#383838\" points=\"591.67,111,583.67,108,583.67,114,591.67,111\" style=\"stroke: #383838; stroke-width: 1.0;\"/><text fill=\"#000000\" font-family=\"sans-serif\" font-size=\"13\" lengthAdjust=\"spacingAndGlyphs\" textLength=\"64\" x=\"497\" y=\"107.0669\">«depend»</text></a><!--MD5=[c5e8897d989ce984f93528998a7150fe]\n",
       "link E8 to E6--><a href=\"psysml:e01a683f-5a6a-44b0-a0de-a423aeb5ad40\" target=\"_top\" title=\"psysml:e01a683f-5a6a-44b0-a0de-a423aeb5ad40\" xlink:actuate=\"onRequest\" xlink:href=\"psysml:e01a683f-5a6a-44b0-a0de-a423aeb5ad40\" xlink:show=\"new\" xlink:title=\"psysml:e01a683f-5a6a-44b0-a0de-a423aeb5ad40\" xlink:type=\"simple\"><path d=\"M169.5,235.23 C217.81,243.94 305.54,259.77 358.03,269.25 \" fill=\"none\" id=\"E8-&gt;E6\" style=\"stroke: #383838; stroke-width: 1.0; stroke-dasharray: 7.0,7.0;\"/><polygon fill=\"#383838\" points=\"366.14,270.71,358.7966,266.3425,357.7356,272.248,366.14,270.71\" style=\"stroke: #383838; stroke-width: 1.0;\"/><text fill=\"#000000\" font-family=\"sans-serif\" font-size=\"13\" lengthAdjust=\"spacingAndGlyphs\" textLength=\"64\" x=\"243\" y=\"245.0669\">«depend»</text></a><!--MD5=[bfa3c8b0d15052fdf50ae9310b491027]\n",
       "link E8 to E7--><a href=\"psysml:e01a683f-5a6a-44b0-a0de-a423aeb5ad40\" target=\"_top\" title=\"psysml:e01a683f-5a6a-44b0-a0de-a423aeb5ad40\" xlink:actuate=\"onRequest\" xlink:href=\"psysml:e01a683f-5a6a-44b0-a0de-a423aeb5ad40\" xlink:show=\"new\" xlink:title=\"psysml:e01a683f-5a6a-44b0-a0de-a423aeb5ad40\" xlink:type=\"simple\"><path d=\"M169.5,224.72 C217.81,218.73 305.54,207.84 358.03,201.33 \" fill=\"none\" id=\"E8-&gt;E7\" style=\"stroke: #383838; stroke-width: 1.0; stroke-dasharray: 7.0,7.0;\"/><polygon fill=\"#383838\" points=\"366.14,200.33,357.8314,198.3381,358.5704,204.2924,366.14,200.33\" style=\"stroke: #383838; stroke-width: 1.0;\"/><text fill=\"#000000\" font-family=\"sans-serif\" font-size=\"13\" lengthAdjust=\"spacingAndGlyphs\" textLength=\"64\" x=\"243\" y=\"204.0669\">«depend»</text></a><!--MD5=[48c1571306d23c93c0bdbbb39ddbfcc5]\n",
       "@startuml\r\n",
       "left to right direction\r\n",
       "skinparam monochrome true\r\n",
       "skinparam classbackgroundcolor white\r\n",
       "skinparam shadowing false\r\n",
       "skinparam wrapWidth 300\r\n",
       "hide circle\r\n",
       "\r\n",
       "package \"DependencyTest\" as E1  [[psysml:c069fb4a-0cab-46ce-ae30-79221b6c6030 ]]  {\r\n",
       "package \"System\" as E2  [[psysml:0036a7be-5206-4df9-ab28-301972427778 ]]  {\r\n",
       "package \"Application Layer\" as E3  [[psysml:b9058297-d753-442e-8571-9bee33c166c8 ]]  {\r\n",
       "}\r\n",
       "package \"Service Layer\" as E4  [[psysml:f007974c-308f-4828-8f2c-f39213f4e302 ]]  {\r\n",
       "}\r\n",
       "package \"Data Layer\" as E5  [[psysml:7870e797-441e-4743-978b-6b23dab0b8d1 ]]  {\r\n",
       "}\r\n",
       "}\r\n",
       "comp usage \"x\" as E6  <<(T,blue)attribute>> [[psysml:ca3c2c7b-3718-4538-a84c-29984e19a6f6 ]] {\r\n",
       "}\r\n",
       "comp usage \"y\" as E7  <<(T,blue)attribute>> [[psysml:f187cc38-895f-43c9-b55f-372a79474975 ]] {\r\n",
       "}\r\n",
       "comp usage \"z\" as E8  <<(T,blue)attribute>> [[psysml:c8a5167c-621d-4bfa-8ffa-e3ed6a854bed ]] {\r\n",
       "}\r\n",
       "E3 ..>> E4 [[psysml:af0245ca-a479-404d-840a-c478ec8f55f1 ]] : <<depend>>\r\n",
       "E4 ..>> E5 [[psysml:aeab59fe-e3bd-4e23-96a4-136d0d468de6 ]] : <<depend>>\r\n",
       "E8 ..>> E6 [[psysml:e01a683f-5a6a-44b0-a0de-a423aeb5ad40 ]] : <<depend>>\r\n",
       "E8 ..>> E7 [[psysml:e01a683f-5a6a-44b0-a0de-a423aeb5ad40 ]] : <<depend>>\r\n",
       "}\r\n",
       "@enduml\r\n",
       "\n",
       "PlantUML version 1.2020.13(Sat Jun 13 12:26:38 UTC 2020)\n",
       "(EPL source distribution)\n",
       "Java Runtime: OpenJDK Runtime Environment\n",
       "JVM: OpenJDK 64-Bit Server VM\n",
       "Default Encoding: UTF-8\n",
       "Language: en\n",
       "Country: null\n",
       "--></g></svg>"
      ]
     },
     "execution_count": 21,
     "metadata": {},
     "output_type": "execute_result"
    }
   ],
   "source": [
    "%viz --style=\"LR\" --view=\"Sequence\" \"DependencyTest\""
   ]
  },
  {
   "cell_type": "code",
   "execution_count": 22,
   "id": "second-jefferson",
   "metadata": {
    "execution": {
     "iopub.execute_input": "2021-03-26T13:04:33.419141Z",
     "iopub.status.busy": "2021-03-26T13:04:33.418665Z",
     "iopub.status.idle": "2021-03-26T13:04:33.449737Z",
     "shell.execute_reply": "2021-03-26T13:04:33.450062Z"
    }
   },
   "outputs": [
    {
     "data": {
      "image/svg+xml": [
       "<?xml version=\"1.0\" encoding=\"UTF-8\" standalone=\"no\"?><svg xmlns=\"http://www.w3.org/2000/svg\" xmlns:xlink=\"http://www.w3.org/1999/xlink\" contentScriptType=\"application/ecmascript\" contentStyleType=\"text/css\" height=\"328px\" preserveAspectRatio=\"none\" style=\"width:758px;height:328px;\" version=\"1.1\" viewBox=\"0 0 758 328\" width=\"758px\" zoomAndPan=\"magnify\"><defs/><g><!--MD5=[fbc87193dbaf4d95561dea2c320d4a47]\n",
       "cluster E1--><a href=\"psysml:c069fb4a-0cab-46ce-ae30-79221b6c6030\" target=\"_top\" title=\"psysml:c069fb4a-0cab-46ce-ae30-79221b6c6030\" xlink:actuate=\"onRequest\" xlink:href=\"psysml:c069fb4a-0cab-46ce-ae30-79221b6c6030\" xlink:show=\"new\" xlink:title=\"psysml:c069fb4a-0cab-46ce-ae30-79221b6c6030\" xlink:type=\"simple\"><polygon fill=\"#FFFFFF\" points=\"16,6,156,6,163,28.2969,736,28.2969,736,316,16,316,16,6\" style=\"stroke: #000000; stroke-width: 1.5;\"/><line style=\"stroke: #000000; stroke-width: 1.5;\" x1=\"16\" x2=\"163\" y1=\"28.2969\" y2=\"28.2969\"/><text fill=\"#000000\" font-family=\"sans-serif\" font-size=\"14\" font-weight=\"bold\" lengthAdjust=\"spacingAndGlyphs\" textLength=\"134\" x=\"20\" y=\"20.9951\">DependencyTest</text></a><!--MD5=[e4f7fae6ed58524ba242bb0b0d3be6b7]\n",
       "cluster E2--><a href=\"psysml:0036a7be-5206-4df9-ab28-301972427778\" target=\"_top\" title=\"psysml:0036a7be-5206-4df9-ab28-301972427778\" xlink:actuate=\"onRequest\" xlink:href=\"psysml:0036a7be-5206-4df9-ab28-301972427778\" xlink:show=\"new\" xlink:title=\"psysml:0036a7be-5206-4df9-ab28-301972427778\" xlink:type=\"simple\"><polygon fill=\"#FFFFFF\" points=\"40,49,104,49,111,71.2969,712,71.2969,712,154,40,154,40,49\" style=\"stroke: #000000; stroke-width: 1.5;\"/><line style=\"stroke: #000000; stroke-width: 1.5;\" x1=\"40\" x2=\"111\" y1=\"71.2969\" y2=\"71.2969\"/><text fill=\"#000000\" font-family=\"sans-serif\" font-size=\"14\" font-weight=\"bold\" lengthAdjust=\"spacingAndGlyphs\" textLength=\"58\" x=\"44\" y=\"63.9951\">System</text></a><!--MD5=[60a26617385b1d2d0262a64233df1f8d]\n",
       "class E6--><a href=\"psysml:ca3c2c7b-3718-4538-a84c-29984e19a6f6\" target=\"_top\" title=\"psysml:ca3c2c7b-3718-4538-a84c-29984e19a6f6\" xlink:actuate=\"onRequest\" xlink:href=\"psysml:ca3c2c7b-3718-4538-a84c-29984e19a6f6\" xlink:show=\"new\" xlink:title=\"psysml:ca3c2c7b-3718-4538-a84c-29984e19a6f6\" xlink:type=\"simple\"><rect fill=\"#FFFFFF\" height=\"45.9375\" id=\"E6\" rx=\"10\" ry=\"10\" style=\"stroke: #383838; stroke-width: 1.5;\" width=\"71\" x=\"366.5\" y=\"254\"/><text fill=\"#000000\" font-family=\"sans-serif\" font-size=\"12\" font-style=\"italic\" lengthAdjust=\"spacingAndGlyphs\" textLength=\"69\" x=\"367.5\" y=\"270.1387\">«attribute»</text><text fill=\"#000000\" font-family=\"sans-serif\" font-size=\"12\" lengthAdjust=\"spacingAndGlyphs\" textLength=\"6\" x=\"399\" y=\"284.1074\">x</text><line style=\"stroke: #383838; stroke-width: 1.5;\" x1=\"367.5\" x2=\"436.5\" y1=\"291.9375\" y2=\"291.9375\"/></a><!--MD5=[2156ba9850f5573cc1fc38a6a4b2f02b]\n",
       "class E7--><a href=\"psysml:f187cc38-895f-43c9-b55f-372a79474975\" target=\"_top\" title=\"psysml:f187cc38-895f-43c9-b55f-372a79474975\" xlink:actuate=\"onRequest\" xlink:href=\"psysml:f187cc38-895f-43c9-b55f-372a79474975\" xlink:show=\"new\" xlink:title=\"psysml:f187cc38-895f-43c9-b55f-372a79474975\" xlink:type=\"simple\"><rect fill=\"#FFFFFF\" height=\"45.9375\" id=\"E7\" rx=\"10\" ry=\"10\" style=\"stroke: #383838; stroke-width: 1.5;\" width=\"71\" x=\"366.5\" y=\"173\"/><text fill=\"#000000\" font-family=\"sans-serif\" font-size=\"12\" font-style=\"italic\" lengthAdjust=\"spacingAndGlyphs\" textLength=\"69\" x=\"367.5\" y=\"189.1387\">«attribute»</text><text fill=\"#000000\" font-family=\"sans-serif\" font-size=\"12\" lengthAdjust=\"spacingAndGlyphs\" textLength=\"6\" x=\"399\" y=\"203.1074\">y</text><line style=\"stroke: #383838; stroke-width: 1.5;\" x1=\"367.5\" x2=\"436.5\" y1=\"210.9375\" y2=\"210.9375\"/></a><!--MD5=[b9389687b975829384b498ac4b7476b2]\n",
       "class E8--><a href=\"psysml:c8a5167c-621d-4bfa-8ffa-e3ed6a854bed\" target=\"_top\" title=\"psysml:c8a5167c-621d-4bfa-8ffa-e3ed6a854bed\" xlink:actuate=\"onRequest\" xlink:href=\"psysml:c8a5167c-621d-4bfa-8ffa-e3ed6a854bed\" xlink:show=\"new\" xlink:title=\"psysml:c8a5167c-621d-4bfa-8ffa-e3ed6a854bed\" xlink:type=\"simple\"><rect fill=\"#FFFFFF\" height=\"45.9375\" id=\"E8\" rx=\"10\" ry=\"10\" style=\"stroke: #383838; stroke-width: 1.5;\" width=\"71\" x=\"98.5\" y=\"206\"/><text fill=\"#000000\" font-family=\"sans-serif\" font-size=\"12\" font-style=\"italic\" lengthAdjust=\"spacingAndGlyphs\" textLength=\"69\" x=\"99.5\" y=\"222.1387\">«attribute»</text><text fill=\"#000000\" font-family=\"sans-serif\" font-size=\"12\" lengthAdjust=\"spacingAndGlyphs\" textLength=\"5\" x=\"131.5\" y=\"236.1074\">z</text><line style=\"stroke: #383838; stroke-width: 1.5;\" x1=\"99.5\" x2=\"168.5\" y1=\"243.9375\" y2=\"243.9375\"/></a><a href=\"psysml:b9058297-d753-442e-8571-9bee33c166c8\" target=\"_top\" title=\"psysml:b9058297-d753-442e-8571-9bee33c166c8\" xlink:actuate=\"onRequest\" xlink:href=\"psysml:b9058297-d753-442e-8571-9bee33c166c8\" xlink:show=\"new\" xlink:title=\"psysml:b9058297-d753-442e-8571-9bee33c166c8\" xlink:type=\"simple\"><polygon fill=\"#FFFFFF\" points=\"56,84.5,198,84.5,205,106.7969,212,106.7969,212,137.0938,56,137.0938,56,84.5\" style=\"stroke: #000000; stroke-width: 1.5;\"/><line style=\"stroke: #000000; stroke-width: 1.5;\" x1=\"56\" x2=\"205\" y1=\"106.7969\" y2=\"106.7969\"/><text fill=\"#000000\" font-family=\"sans-serif\" font-size=\"14\" font-weight=\"bold\" lengthAdjust=\"spacingAndGlyphs\" textLength=\"136\" x=\"60\" y=\"99.4951\">Application Layer</text></a><a href=\"psysml:f007974c-308f-4828-8f2c-f39213f4e302\" target=\"_top\" title=\"psysml:f007974c-308f-4828-8f2c-f39213f4e302\" xlink:actuate=\"onRequest\" xlink:href=\"psysml:f007974c-308f-4828-8f2c-f39213f4e302\" xlink:show=\"new\" xlink:title=\"psysml:f007974c-308f-4828-8f2c-f39213f4e302\" xlink:type=\"simple\"><polygon fill=\"#FFFFFF\" points=\"338,84.5,452,84.5,459,106.7969,466,106.7969,466,137.0938,338,137.0938,338,84.5\" style=\"stroke: #000000; stroke-width: 1.5;\"/><line style=\"stroke: #000000; stroke-width: 1.5;\" x1=\"338\" x2=\"459\" y1=\"106.7969\" y2=\"106.7969\"/><text fill=\"#000000\" font-family=\"sans-serif\" font-size=\"14\" font-weight=\"bold\" lengthAdjust=\"spacingAndGlyphs\" textLength=\"108\" x=\"342\" y=\"99.4951\">Service Layer</text></a><a href=\"psysml:7870e797-441e-4743-978b-6b23dab0b8d1\" target=\"_top\" title=\"psysml:7870e797-441e-4743-978b-6b23dab0b8d1\" xlink:actuate=\"onRequest\" xlink:href=\"psysml:7870e797-441e-4743-978b-6b23dab0b8d1\" xlink:show=\"new\" xlink:title=\"psysml:7870e797-441e-4743-978b-6b23dab0b8d1\" xlink:type=\"simple\"><polygon fill=\"#FFFFFF\" points=\"592,84.5,682,84.5,689,106.7969,696,106.7969,696,137.0938,592,137.0938,592,84.5\" style=\"stroke: #000000; stroke-width: 1.5;\"/><line style=\"stroke: #000000; stroke-width: 1.5;\" x1=\"592\" x2=\"689\" y1=\"106.7969\" y2=\"106.7969\"/><text fill=\"#000000\" font-family=\"sans-serif\" font-size=\"14\" font-weight=\"bold\" lengthAdjust=\"spacingAndGlyphs\" textLength=\"84\" x=\"596\" y=\"99.4951\">Data Layer</text></a><!--MD5=[af87c684e3b0d8be13c1a698a818ef1e]\n",
       "link E3 to E4--><a href=\"psysml:af0245ca-a479-404d-840a-c478ec8f55f1\" target=\"_top\" title=\"psysml:af0245ca-a479-404d-840a-c478ec8f55f1\" xlink:actuate=\"onRequest\" xlink:href=\"psysml:af0245ca-a479-404d-840a-c478ec8f55f1\" xlink:show=\"new\" xlink:title=\"psysml:af0245ca-a479-404d-840a-c478ec8f55f1\" xlink:type=\"simple\"><path d=\"M212.3,111 C249.37,111 293.5,111 329.76,111 \" fill=\"none\" id=\"E3-&gt;E4\" style=\"stroke: #383838; stroke-width: 1.0; stroke-dasharray: 7.0,7.0;\"/><polygon fill=\"#383838\" points=\"337.84,111,329.84,108,329.84,114,337.84,111\" style=\"stroke: #383838; stroke-width: 1.0;\"/><text fill=\"#000000\" font-family=\"sans-serif\" font-size=\"13\" lengthAdjust=\"spacingAndGlyphs\" textLength=\"64\" x=\"243\" y=\"107.0669\">«depend»</text></a><!--MD5=[1b7591eae5389033d8d09a9d6721a717]\n",
       "link E4 to E5--><a href=\"psysml:aeab59fe-e3bd-4e23-96a4-136d0d468de6\" target=\"_top\" title=\"psysml:aeab59fe-e3bd-4e23-96a4-136d0d468de6\" xlink:actuate=\"onRequest\" xlink:href=\"psysml:aeab59fe-e3bd-4e23-96a4-136d0d468de6\" xlink:show=\"new\" xlink:title=\"psysml:aeab59fe-e3bd-4e23-96a4-136d0d468de6\" xlink:type=\"simple\"><path d=\"M466.06,111 C502.32,111 547.6,111 583.28,111 \" fill=\"none\" id=\"E4-&gt;E5\" style=\"stroke: #383838; stroke-width: 1.0; stroke-dasharray: 7.0,7.0;\"/><polygon fill=\"#383838\" points=\"591.67,111,583.67,108,583.67,114,591.67,111\" style=\"stroke: #383838; stroke-width: 1.0;\"/><text fill=\"#000000\" font-family=\"sans-serif\" font-size=\"13\" lengthAdjust=\"spacingAndGlyphs\" textLength=\"64\" x=\"497\" y=\"107.0669\">«depend»</text></a><!--MD5=[c5e8897d989ce984f93528998a7150fe]\n",
       "link E8 to E6--><a href=\"psysml:e01a683f-5a6a-44b0-a0de-a423aeb5ad40\" target=\"_top\" title=\"psysml:e01a683f-5a6a-44b0-a0de-a423aeb5ad40\" xlink:actuate=\"onRequest\" xlink:href=\"psysml:e01a683f-5a6a-44b0-a0de-a423aeb5ad40\" xlink:show=\"new\" xlink:title=\"psysml:e01a683f-5a6a-44b0-a0de-a423aeb5ad40\" xlink:type=\"simple\"><path d=\"M169.5,235.23 C217.81,243.94 305.54,259.77 358.03,269.25 \" fill=\"none\" id=\"E8-&gt;E6\" style=\"stroke: #383838; stroke-width: 1.0; stroke-dasharray: 7.0,7.0;\"/><polygon fill=\"#383838\" points=\"366.14,270.71,358.7966,266.3425,357.7356,272.248,366.14,270.71\" style=\"stroke: #383838; stroke-width: 1.0;\"/><text fill=\"#000000\" font-family=\"sans-serif\" font-size=\"13\" lengthAdjust=\"spacingAndGlyphs\" textLength=\"64\" x=\"243\" y=\"245.0669\">«depend»</text></a><!--MD5=[bfa3c8b0d15052fdf50ae9310b491027]\n",
       "link E8 to E7--><a href=\"psysml:e01a683f-5a6a-44b0-a0de-a423aeb5ad40\" target=\"_top\" title=\"psysml:e01a683f-5a6a-44b0-a0de-a423aeb5ad40\" xlink:actuate=\"onRequest\" xlink:href=\"psysml:e01a683f-5a6a-44b0-a0de-a423aeb5ad40\" xlink:show=\"new\" xlink:title=\"psysml:e01a683f-5a6a-44b0-a0de-a423aeb5ad40\" xlink:type=\"simple\"><path d=\"M169.5,224.72 C217.81,218.73 305.54,207.84 358.03,201.33 \" fill=\"none\" id=\"E8-&gt;E7\" style=\"stroke: #383838; stroke-width: 1.0; stroke-dasharray: 7.0,7.0;\"/><polygon fill=\"#383838\" points=\"366.14,200.33,357.8314,198.3381,358.5704,204.2924,366.14,200.33\" style=\"stroke: #383838; stroke-width: 1.0;\"/><text fill=\"#000000\" font-family=\"sans-serif\" font-size=\"13\" lengthAdjust=\"spacingAndGlyphs\" textLength=\"64\" x=\"243\" y=\"204.0669\">«depend»</text></a><!--MD5=[48c1571306d23c93c0bdbbb39ddbfcc5]\n",
       "@startuml\r\n",
       "left to right direction\r\n",
       "skinparam monochrome true\r\n",
       "skinparam classbackgroundcolor white\r\n",
       "skinparam shadowing false\r\n",
       "skinparam wrapWidth 300\r\n",
       "hide circle\r\n",
       "\r\n",
       "package \"DependencyTest\" as E1  [[psysml:c069fb4a-0cab-46ce-ae30-79221b6c6030 ]]  {\r\n",
       "package \"System\" as E2  [[psysml:0036a7be-5206-4df9-ab28-301972427778 ]]  {\r\n",
       "package \"Application Layer\" as E3  [[psysml:b9058297-d753-442e-8571-9bee33c166c8 ]]  {\r\n",
       "}\r\n",
       "package \"Service Layer\" as E4  [[psysml:f007974c-308f-4828-8f2c-f39213f4e302 ]]  {\r\n",
       "}\r\n",
       "package \"Data Layer\" as E5  [[psysml:7870e797-441e-4743-978b-6b23dab0b8d1 ]]  {\r\n",
       "}\r\n",
       "}\r\n",
       "comp usage \"x\" as E6  <<(T,blue)attribute>> [[psysml:ca3c2c7b-3718-4538-a84c-29984e19a6f6 ]] {\r\n",
       "}\r\n",
       "comp usage \"y\" as E7  <<(T,blue)attribute>> [[psysml:f187cc38-895f-43c9-b55f-372a79474975 ]] {\r\n",
       "}\r\n",
       "comp usage \"z\" as E8  <<(T,blue)attribute>> [[psysml:c8a5167c-621d-4bfa-8ffa-e3ed6a854bed ]] {\r\n",
       "}\r\n",
       "E3 ..>> E4 [[psysml:af0245ca-a479-404d-840a-c478ec8f55f1 ]] : <<depend>>\r\n",
       "E4 ..>> E5 [[psysml:aeab59fe-e3bd-4e23-96a4-136d0d468de6 ]] : <<depend>>\r\n",
       "E8 ..>> E6 [[psysml:e01a683f-5a6a-44b0-a0de-a423aeb5ad40 ]] : <<depend>>\r\n",
       "E8 ..>> E7 [[psysml:e01a683f-5a6a-44b0-a0de-a423aeb5ad40 ]] : <<depend>>\r\n",
       "}\r\n",
       "@enduml\r\n",
       "\n",
       "PlantUML version 1.2020.13(Sat Jun 13 12:26:38 UTC 2020)\n",
       "(EPL source distribution)\n",
       "Java Runtime: OpenJDK Runtime Environment\n",
       "JVM: OpenJDK 64-Bit Server VM\n",
       "Default Encoding: UTF-8\n",
       "Language: en\n",
       "Country: null\n",
       "--></g></svg>"
      ]
     },
     "execution_count": 22,
     "metadata": {},
     "output_type": "execute_result"
    }
   ],
   "source": [
    "%viz --style=\"LR\" --view=\"MIXED\" \"DependencyTest\""
   ]
  },
  {
   "cell_type": "code",
   "execution_count": 23,
   "id": "increasing-switzerland",
   "metadata": {
    "execution": {
     "iopub.execute_input": "2021-03-26T13:04:33.500909Z",
     "iopub.status.busy": "2021-03-26T13:04:33.500562Z",
     "iopub.status.idle": "2021-03-26T13:04:33.534347Z",
     "shell.execute_reply": "2021-03-26T13:04:33.534722Z"
    }
   },
   "outputs": [
    {
     "data": {
      "image/svg+xml": [
       "<?xml version=\"1.0\" encoding=\"UTF-8\" standalone=\"no\"?><svg xmlns=\"http://www.w3.org/2000/svg\" xmlns:xlink=\"http://www.w3.org/1999/xlink\" contentScriptType=\"application/ecmascript\" contentStyleType=\"text/css\" height=\"449px\" preserveAspectRatio=\"none\" style=\"width:489px;height:449px;\" version=\"1.1\" viewBox=\"0 0 489 449\" width=\"489px\" zoomAndPan=\"magnify\"><defs><filter height=\"300%\" id=\"fmwpgbrs911un\" width=\"300%\" x=\"-1\" y=\"-1\"><feGaussianBlur result=\"blurOut\" stdDeviation=\"2.0\"/><feColorMatrix in=\"blurOut\" result=\"blurOut2\" type=\"matrix\" values=\"0 0 0 0 0 0 0 0 0 0 0 0 0 0 0 0 0 0 .4 0\"/><feOffset dx=\"4.0\" dy=\"4.0\" in=\"blurOut2\" result=\"blurOut3\"/><feBlend in=\"SourceGraphic\" in2=\"blurOut3\" mode=\"normal\"/></filter></defs><g><!--MD5=[fbc87193dbaf4d95561dea2c320d4a47]\n",
       "cluster E1--><a href=\"psysml:c069fb4a-0cab-46ce-ae30-79221b6c6030\" target=\"_top\" title=\"psysml:c069fb4a-0cab-46ce-ae30-79221b6c6030\" xlink:actuate=\"onRequest\" xlink:href=\"psysml:c069fb4a-0cab-46ce-ae30-79221b6c6030\" xlink:show=\"new\" xlink:title=\"psysml:c069fb4a-0cab-46ce-ae30-79221b6c6030\" xlink:type=\"simple\"><polygon fill=\"#FFFFFF\" filter=\"url(#fmwpgbrs911un)\" points=\"16,6,156,6,163,28.2969,467,28.2969,467,437,16,437,16,6\" style=\"stroke: #000000; stroke-width: 1.5;\"/><line style=\"stroke: #000000; stroke-width: 1.5;\" x1=\"16\" x2=\"163\" y1=\"28.2969\" y2=\"28.2969\"/><text fill=\"#000000\" font-family=\"sans-serif\" font-size=\"14\" font-weight=\"bold\" lengthAdjust=\"spacingAndGlyphs\" textLength=\"134\" x=\"20\" y=\"20.9951\">DependencyTest</text></a><!--MD5=[e4f7fae6ed58524ba242bb0b0d3be6b7]\n",
       "cluster E2--><a href=\"psysml:0036a7be-5206-4df9-ab28-301972427778\" target=\"_top\" title=\"psysml:0036a7be-5206-4df9-ab28-301972427778\" xlink:actuate=\"onRequest\" xlink:href=\"psysml:0036a7be-5206-4df9-ab28-301972427778\" xlink:show=\"new\" xlink:title=\"psysml:0036a7be-5206-4df9-ab28-301972427778\" xlink:type=\"simple\"><polygon fill=\"#FFFFFF\" filter=\"url(#fmwpgbrs911un)\" points=\"255,49,319,49,326,71.2969,443,71.2969,443,413,255,413,255,49\" style=\"stroke: #000000; stroke-width: 1.5;\"/><line style=\"stroke: #000000; stroke-width: 1.5;\" x1=\"255\" x2=\"326\" y1=\"71.2969\" y2=\"71.2969\"/><text fill=\"#000000\" font-family=\"sans-serif\" font-size=\"14\" font-weight=\"bold\" lengthAdjust=\"spacingAndGlyphs\" textLength=\"58\" x=\"259\" y=\"63.9951\">System</text></a><!--MD5=[60a26617385b1d2d0262a64233df1f8d]\n",
       "class E6--><a href=\"psysml:ca3c2c7b-3718-4538-a84c-29984e19a6f6\" target=\"_top\" title=\"psysml:ca3c2c7b-3718-4538-a84c-29984e19a6f6\" xlink:actuate=\"onRequest\" xlink:href=\"psysml:ca3c2c7b-3718-4538-a84c-29984e19a6f6\" xlink:show=\"new\" xlink:title=\"psysml:ca3c2c7b-3718-4538-a84c-29984e19a6f6\" xlink:type=\"simple\"><rect fill=\"#FEFECE\" filter=\"url(#fmwpgbrs911un)\" height=\"45.9375\" id=\"E6\" rx=\"10\" ry=\"10\" style=\"stroke: #A80036; stroke-width: 1.5;\" width=\"71\" x=\"32.5\" y=\"217.5\"/><text fill=\"#000000\" font-family=\"sans-serif\" font-size=\"12\" font-style=\"italic\" lengthAdjust=\"spacingAndGlyphs\" textLength=\"69\" x=\"33.5\" y=\"233.6387\">«attribute»</text><text fill=\"#000000\" font-family=\"sans-serif\" font-size=\"12\" lengthAdjust=\"spacingAndGlyphs\" textLength=\"6\" x=\"65\" y=\"247.6074\">x</text><line style=\"stroke: #A80036; stroke-width: 1.5;\" x1=\"33.5\" x2=\"102.5\" y1=\"255.4375\" y2=\"255.4375\"/></a><!--MD5=[2156ba9850f5573cc1fc38a6a4b2f02b]\n",
       "class E7--><a href=\"psysml:f187cc38-895f-43c9-b55f-372a79474975\" target=\"_top\" title=\"psysml:f187cc38-895f-43c9-b55f-372a79474975\" xlink:actuate=\"onRequest\" xlink:href=\"psysml:f187cc38-895f-43c9-b55f-372a79474975\" xlink:show=\"new\" xlink:title=\"psysml:f187cc38-895f-43c9-b55f-372a79474975\" xlink:type=\"simple\"><rect fill=\"#FEFECE\" filter=\"url(#fmwpgbrs911un)\" height=\"45.9375\" id=\"E7\" rx=\"10\" ry=\"10\" style=\"stroke: #A80036; stroke-width: 1.5;\" width=\"71\" x=\"138.5\" y=\"217.5\"/><text fill=\"#000000\" font-family=\"sans-serif\" font-size=\"12\" font-style=\"italic\" lengthAdjust=\"spacingAndGlyphs\" textLength=\"69\" x=\"139.5\" y=\"233.6387\">«attribute»</text><text fill=\"#000000\" font-family=\"sans-serif\" font-size=\"12\" lengthAdjust=\"spacingAndGlyphs\" textLength=\"6\" x=\"171\" y=\"247.6074\">y</text><line style=\"stroke: #A80036; stroke-width: 1.5;\" x1=\"139.5\" x2=\"208.5\" y1=\"255.4375\" y2=\"255.4375\"/></a><!--MD5=[b9389687b975829384b498ac4b7476b2]\n",
       "class E8--><a href=\"psysml:c8a5167c-621d-4bfa-8ffa-e3ed6a854bed\" target=\"_top\" title=\"psysml:c8a5167c-621d-4bfa-8ffa-e3ed6a854bed\" xlink:actuate=\"onRequest\" xlink:href=\"psysml:c8a5167c-621d-4bfa-8ffa-e3ed6a854bed\" xlink:show=\"new\" xlink:title=\"psysml:c8a5167c-621d-4bfa-8ffa-e3ed6a854bed\" xlink:type=\"simple\"><rect fill=\"#FEFECE\" filter=\"url(#fmwpgbrs911un)\" height=\"45.9375\" id=\"E8\" rx=\"10\" ry=\"10\" style=\"stroke: #A80036; stroke-width: 1.5;\" width=\"71\" x=\"84.5\" y=\"87.5\"/><text fill=\"#000000\" font-family=\"sans-serif\" font-size=\"12\" font-style=\"italic\" lengthAdjust=\"spacingAndGlyphs\" textLength=\"69\" x=\"85.5\" y=\"103.6387\">«attribute»</text><text fill=\"#000000\" font-family=\"sans-serif\" font-size=\"12\" lengthAdjust=\"spacingAndGlyphs\" textLength=\"5\" x=\"117.5\" y=\"117.6074\">z</text><line style=\"stroke: #A80036; stroke-width: 1.5;\" x1=\"85.5\" x2=\"154.5\" y1=\"125.4375\" y2=\"125.4375\"/></a><a href=\"psysml:b9058297-d753-442e-8571-9bee33c166c8\" target=\"_top\" title=\"psysml:b9058297-d753-442e-8571-9bee33c166c8\" xlink:actuate=\"onRequest\" xlink:href=\"psysml:b9058297-d753-442e-8571-9bee33c166c8\" xlink:show=\"new\" xlink:title=\"psysml:b9058297-d753-442e-8571-9bee33c166c8\" xlink:type=\"simple\"><polygon fill=\"#FFFFFF\" filter=\"url(#fmwpgbrs911un)\" points=\"271,84,413,84,420,106.2969,427,106.2969,427,136.5938,271,136.5938,271,84\" style=\"stroke: #000000; stroke-width: 1.5;\"/><line style=\"stroke: #000000; stroke-width: 1.5;\" x1=\"271\" x2=\"420\" y1=\"106.2969\" y2=\"106.2969\"/><text fill=\"#000000\" font-family=\"sans-serif\" font-size=\"14\" font-weight=\"bold\" lengthAdjust=\"spacingAndGlyphs\" textLength=\"136\" x=\"275\" y=\"98.9951\">Application Layer</text></a><a href=\"psysml:f007974c-308f-4828-8f2c-f39213f4e302\" target=\"_top\" title=\"psysml:f007974c-308f-4828-8f2c-f39213f4e302\" xlink:actuate=\"onRequest\" xlink:href=\"psysml:f007974c-308f-4828-8f2c-f39213f4e302\" xlink:show=\"new\" xlink:title=\"psysml:f007974c-308f-4828-8f2c-f39213f4e302\" xlink:type=\"simple\"><polygon fill=\"#FFFFFF\" filter=\"url(#fmwpgbrs911un)\" points=\"285,214,399,214,406,236.2969,413,236.2969,413,266.5938,285,266.5938,285,214\" style=\"stroke: #000000; stroke-width: 1.5;\"/><line style=\"stroke: #000000; stroke-width: 1.5;\" x1=\"285\" x2=\"406\" y1=\"236.2969\" y2=\"236.2969\"/><text fill=\"#000000\" font-family=\"sans-serif\" font-size=\"14\" font-weight=\"bold\" lengthAdjust=\"spacingAndGlyphs\" textLength=\"108\" x=\"289\" y=\"228.9951\">Service Layer</text></a><a href=\"psysml:7870e797-441e-4743-978b-6b23dab0b8d1\" target=\"_top\" title=\"psysml:7870e797-441e-4743-978b-6b23dab0b8d1\" xlink:actuate=\"onRequest\" xlink:href=\"psysml:7870e797-441e-4743-978b-6b23dab0b8d1\" xlink:show=\"new\" xlink:title=\"psysml:7870e797-441e-4743-978b-6b23dab0b8d1\" xlink:type=\"simple\"><polygon fill=\"#FFFFFF\" filter=\"url(#fmwpgbrs911un)\" points=\"297,344,387,344,394,366.2969,401,366.2969,401,396.5938,297,396.5938,297,344\" style=\"stroke: #000000; stroke-width: 1.5;\"/><line style=\"stroke: #000000; stroke-width: 1.5;\" x1=\"297\" x2=\"394\" y1=\"366.2969\" y2=\"366.2969\"/><text fill=\"#000000\" font-family=\"sans-serif\" font-size=\"14\" font-weight=\"bold\" lengthAdjust=\"spacingAndGlyphs\" textLength=\"84\" x=\"301\" y=\"358.9951\">Data Layer</text></a><!--MD5=[af87c684e3b0d8be13c1a698a818ef1e]\n",
       "link E3 to E4--><a href=\"psysml:af0245ca-a479-404d-840a-c478ec8f55f1\" target=\"_top\" title=\"psysml:af0245ca-a479-404d-840a-c478ec8f55f1\" xlink:actuate=\"onRequest\" xlink:href=\"psysml:af0245ca-a479-404d-840a-c478ec8f55f1\" xlink:show=\"new\" xlink:title=\"psysml:af0245ca-a479-404d-840a-c478ec8f55f1\" xlink:type=\"simple\"><path d=\"M349,137.1 C349,156.8 349,184.22 349,205.73 \" fill=\"none\" id=\"E3-&gt;E4\" style=\"stroke: #A80036; stroke-width: 1.0; stroke-dasharray: 7.0,7.0;\"/><polygon fill=\"#A80036\" points=\"349,213.95,352,205.95,346,205.95,349,213.95\" style=\"stroke: #A80036; stroke-width: 1.0;\"/><text fill=\"#000000\" font-family=\"sans-serif\" font-size=\"13\" lengthAdjust=\"spacingAndGlyphs\" textLength=\"64\" x=\"350\" y=\"180.0669\">«depend»</text></a><!--MD5=[1b7591eae5389033d8d09a9d6721a717]\n",
       "link E4 to E5--><a href=\"psysml:aeab59fe-e3bd-4e23-96a4-136d0d468de6\" target=\"_top\" title=\"psysml:aeab59fe-e3bd-4e23-96a4-136d0d468de6\" xlink:actuate=\"onRequest\" xlink:href=\"psysml:aeab59fe-e3bd-4e23-96a4-136d0d468de6\" xlink:show=\"new\" xlink:title=\"psysml:aeab59fe-e3bd-4e23-96a4-136d0d468de6\" xlink:type=\"simple\"><path d=\"M349,267.1 C349,286.8 349,314.22 349,335.73 \" fill=\"none\" id=\"E4-&gt;E5\" style=\"stroke: #A80036; stroke-width: 1.0; stroke-dasharray: 7.0,7.0;\"/><polygon fill=\"#A80036\" points=\"349,343.95,352,335.95,346,335.95,349,343.95\" style=\"stroke: #A80036; stroke-width: 1.0;\"/><text fill=\"#000000\" font-family=\"sans-serif\" font-size=\"13\" lengthAdjust=\"spacingAndGlyphs\" textLength=\"64\" x=\"350\" y=\"310.0669\">«depend»</text></a><!--MD5=[c5e8897d989ce984f93528998a7150fe]\n",
       "link E8 to E6--><a href=\"psysml:e01a683f-5a6a-44b0-a0de-a423aeb5ad40\" target=\"_top\" title=\"psysml:e01a683f-5a6a-44b0-a0de-a423aeb5ad40\" xlink:actuate=\"onRequest\" xlink:href=\"psysml:e01a683f-5a6a-44b0-a0de-a423aeb5ad40\" xlink:show=\"new\" xlink:title=\"psysml:e01a683f-5a6a-44b0-a0de-a423aeb5ad40\" xlink:type=\"simple\"><path d=\"M89.42,133.6 C79.35,142.68 69.37,154.11 64,167 C58.5,180.2 58.66,195.94 60.54,209.38 \" fill=\"none\" id=\"E8-&gt;E6\" style=\"stroke: #A80036; stroke-width: 1.0; stroke-dasharray: 7.0,7.0;\"/><polygon fill=\"#A80036\" points=\"61.9,217.4,63.517,209.0104,57.6018,210.0159,61.9,217.4\" style=\"stroke: #A80036; stroke-width: 1.0;\"/><text fill=\"#000000\" font-family=\"sans-serif\" font-size=\"13\" lengthAdjust=\"spacingAndGlyphs\" textLength=\"64\" x=\"65\" y=\"180.0669\">«depend»</text></a><!--MD5=[bfa3c8b0d15052fdf50ae9310b491027]\n",
       "link E8 to E7--><a href=\"psysml:e01a683f-5a6a-44b0-a0de-a423aeb5ad40\" target=\"_top\" title=\"psysml:e01a683f-5a6a-44b0-a0de-a423aeb5ad40\" xlink:actuate=\"onRequest\" xlink:href=\"psysml:e01a683f-5a6a-44b0-a0de-a423aeb5ad40\" xlink:show=\"new\" xlink:title=\"psysml:e01a683f-5a6a-44b0-a0de-a423aeb5ad40\" xlink:type=\"simple\"><path d=\"M129.28,133.5 C138.17,154.57 151.64,186.5 161.47,209.81 \" fill=\"none\" id=\"E8-&gt;E7\" style=\"stroke: #A80036; stroke-width: 1.0; stroke-dasharray: 7.0,7.0;\"/><polygon fill=\"#A80036\" points=\"164.66,217.35,164.3241,208.8126,158.7933,211.1385,164.66,217.35\" style=\"stroke: #A80036; stroke-width: 1.0;\"/><text fill=\"#000000\" font-family=\"sans-serif\" font-size=\"13\" lengthAdjust=\"spacingAndGlyphs\" textLength=\"64\" x=\"151\" y=\"180.0669\">«depend»</text></a><!--MD5=[61090f1b0c4687a29613aa5b5c2da621]\n",
       "@startuml\r\n",
       "skinparam wrapWidth 300\r\n",
       "hide circle\r\n",
       "\r\n",
       "package \"DependencyTest\" as E1  [[psysml:c069fb4a-0cab-46ce-ae30-79221b6c6030 ]]  {\r\n",
       "package \"System\" as E2  [[psysml:0036a7be-5206-4df9-ab28-301972427778 ]]  {\r\n",
       "package \"Application Layer\" as E3  [[psysml:b9058297-d753-442e-8571-9bee33c166c8 ]]  {\r\n",
       "}\r\n",
       "package \"Service Layer\" as E4  [[psysml:f007974c-308f-4828-8f2c-f39213f4e302 ]]  {\r\n",
       "}\r\n",
       "package \"Data Layer\" as E5  [[psysml:7870e797-441e-4743-978b-6b23dab0b8d1 ]]  {\r\n",
       "}\r\n",
       "}\r\n",
       "comp usage \"x\" as E6  <<(T,blue)attribute>> [[psysml:ca3c2c7b-3718-4538-a84c-29984e19a6f6 ]] {\r\n",
       "}\r\n",
       "comp usage \"y\" as E7  <<(T,blue)attribute>> [[psysml:f187cc38-895f-43c9-b55f-372a79474975 ]] {\r\n",
       "}\r\n",
       "comp usage \"z\" as E8  <<(T,blue)attribute>> [[psysml:c8a5167c-621d-4bfa-8ffa-e3ed6a854bed ]] {\r\n",
       "}\r\n",
       "E3 ..>> E4 [[psysml:af0245ca-a479-404d-840a-c478ec8f55f1 ]] : <<depend>>\r\n",
       "E4 ..>> E5 [[psysml:aeab59fe-e3bd-4e23-96a4-136d0d468de6 ]] : <<depend>>\r\n",
       "E8 ..>> E6 [[psysml:e01a683f-5a6a-44b0-a0de-a423aeb5ad40 ]] : <<depend>>\r\n",
       "E8 ..>> E7 [[psysml:e01a683f-5a6a-44b0-a0de-a423aeb5ad40 ]] : <<depend>>\r\n",
       "}\r\n",
       "@enduml\r\n",
       "\n",
       "PlantUML version 1.2020.13(Sat Jun 13 12:26:38 UTC 2020)\n",
       "(EPL source distribution)\n",
       "Java Runtime: OpenJDK Runtime Environment\n",
       "JVM: OpenJDK 64-Bit Server VM\n",
       "Default Encoding: UTF-8\n",
       "Language: en\n",
       "Country: null\n",
       "--></g></svg>"
      ]
     },
     "execution_count": 23,
     "metadata": {},
     "output_type": "execute_result"
    }
   ],
   "source": [
    "%viz --style=\"STDCOLOR\" --view=\"Default\" \"DependencyTest\""
   ]
  },
  {
   "cell_type": "code",
   "execution_count": 24,
   "id": "charming-thomas",
   "metadata": {
    "execution": {
     "iopub.execute_input": "2021-03-26T13:04:33.587312Z",
     "iopub.status.busy": "2021-03-26T13:04:33.586447Z",
     "iopub.status.idle": "2021-03-26T13:04:33.620861Z",
     "shell.execute_reply": "2021-03-26T13:04:33.620556Z"
    }
   },
   "outputs": [
    {
     "data": {
      "image/svg+xml": [
       "<?xml version=\"1.0\" encoding=\"UTF-8\" standalone=\"no\"?><svg xmlns=\"http://www.w3.org/2000/svg\" xmlns:xlink=\"http://www.w3.org/1999/xlink\" contentScriptType=\"application/ecmascript\" contentStyleType=\"text/css\" height=\"449px\" preserveAspectRatio=\"none\" style=\"width:489px;height:449px;\" version=\"1.1\" viewBox=\"0 0 489 449\" width=\"489px\" zoomAndPan=\"magnify\"><defs><filter height=\"300%\" id=\"fmwpgbrs911un\" width=\"300%\" x=\"-1\" y=\"-1\"><feGaussianBlur result=\"blurOut\" stdDeviation=\"2.0\"/><feColorMatrix in=\"blurOut\" result=\"blurOut2\" type=\"matrix\" values=\"0 0 0 0 0 0 0 0 0 0 0 0 0 0 0 0 0 0 .4 0\"/><feOffset dx=\"4.0\" dy=\"4.0\" in=\"blurOut2\" result=\"blurOut3\"/><feBlend in=\"SourceGraphic\" in2=\"blurOut3\" mode=\"normal\"/></filter></defs><g><!--MD5=[fbc87193dbaf4d95561dea2c320d4a47]\n",
       "cluster E1--><a href=\"psysml:c069fb4a-0cab-46ce-ae30-79221b6c6030\" target=\"_top\" title=\"psysml:c069fb4a-0cab-46ce-ae30-79221b6c6030\" xlink:actuate=\"onRequest\" xlink:href=\"psysml:c069fb4a-0cab-46ce-ae30-79221b6c6030\" xlink:show=\"new\" xlink:title=\"psysml:c069fb4a-0cab-46ce-ae30-79221b6c6030\" xlink:type=\"simple\"><polygon fill=\"#FFFFFF\" filter=\"url(#fmwpgbrs911un)\" points=\"16,6,156,6,163,28.2969,467,28.2969,467,437,16,437,16,6\" style=\"stroke: #000000; stroke-width: 1.5;\"/><line style=\"stroke: #000000; stroke-width: 1.5;\" x1=\"16\" x2=\"163\" y1=\"28.2969\" y2=\"28.2969\"/><text fill=\"#000000\" font-family=\"sans-serif\" font-size=\"14\" font-weight=\"bold\" lengthAdjust=\"spacingAndGlyphs\" textLength=\"134\" x=\"20\" y=\"20.9951\">DependencyTest</text></a><!--MD5=[e4f7fae6ed58524ba242bb0b0d3be6b7]\n",
       "cluster E2--><a href=\"psysml:0036a7be-5206-4df9-ab28-301972427778\" target=\"_top\" title=\"psysml:0036a7be-5206-4df9-ab28-301972427778\" xlink:actuate=\"onRequest\" xlink:href=\"psysml:0036a7be-5206-4df9-ab28-301972427778\" xlink:show=\"new\" xlink:title=\"psysml:0036a7be-5206-4df9-ab28-301972427778\" xlink:type=\"simple\"><polygon fill=\"#FFFFFF\" filter=\"url(#fmwpgbrs911un)\" points=\"255,49,319,49,326,71.2969,443,71.2969,443,413,255,413,255,49\" style=\"stroke: #000000; stroke-width: 1.5;\"/><line style=\"stroke: #000000; stroke-width: 1.5;\" x1=\"255\" x2=\"326\" y1=\"71.2969\" y2=\"71.2969\"/><text fill=\"#000000\" font-family=\"sans-serif\" font-size=\"14\" font-weight=\"bold\" lengthAdjust=\"spacingAndGlyphs\" textLength=\"58\" x=\"259\" y=\"63.9951\">System</text></a><!--MD5=[60a26617385b1d2d0262a64233df1f8d]\n",
       "class E6--><a href=\"psysml:ca3c2c7b-3718-4538-a84c-29984e19a6f6\" target=\"_top\" title=\"psysml:ca3c2c7b-3718-4538-a84c-29984e19a6f6\" xlink:actuate=\"onRequest\" xlink:href=\"psysml:ca3c2c7b-3718-4538-a84c-29984e19a6f6\" xlink:show=\"new\" xlink:title=\"psysml:ca3c2c7b-3718-4538-a84c-29984e19a6f6\" xlink:type=\"simple\"><rect fill=\"#FEFECE\" filter=\"url(#fmwpgbrs911un)\" height=\"45.9375\" id=\"E6\" rx=\"10\" ry=\"10\" style=\"stroke: #A80036; stroke-width: 1.5;\" width=\"71\" x=\"32.5\" y=\"217.5\"/><text fill=\"#000000\" font-family=\"sans-serif\" font-size=\"12\" font-style=\"italic\" lengthAdjust=\"spacingAndGlyphs\" textLength=\"69\" x=\"33.5\" y=\"233.6387\">«attribute»</text><text fill=\"#000000\" font-family=\"sans-serif\" font-size=\"12\" lengthAdjust=\"spacingAndGlyphs\" textLength=\"6\" x=\"65\" y=\"247.6074\">x</text><line style=\"stroke: #A80036; stroke-width: 1.5;\" x1=\"33.5\" x2=\"102.5\" y1=\"255.4375\" y2=\"255.4375\"/></a><!--MD5=[2156ba9850f5573cc1fc38a6a4b2f02b]\n",
       "class E7--><a href=\"psysml:f187cc38-895f-43c9-b55f-372a79474975\" target=\"_top\" title=\"psysml:f187cc38-895f-43c9-b55f-372a79474975\" xlink:actuate=\"onRequest\" xlink:href=\"psysml:f187cc38-895f-43c9-b55f-372a79474975\" xlink:show=\"new\" xlink:title=\"psysml:f187cc38-895f-43c9-b55f-372a79474975\" xlink:type=\"simple\"><rect fill=\"#FEFECE\" filter=\"url(#fmwpgbrs911un)\" height=\"45.9375\" id=\"E7\" rx=\"10\" ry=\"10\" style=\"stroke: #A80036; stroke-width: 1.5;\" width=\"71\" x=\"138.5\" y=\"217.5\"/><text fill=\"#000000\" font-family=\"sans-serif\" font-size=\"12\" font-style=\"italic\" lengthAdjust=\"spacingAndGlyphs\" textLength=\"69\" x=\"139.5\" y=\"233.6387\">«attribute»</text><text fill=\"#000000\" font-family=\"sans-serif\" font-size=\"12\" lengthAdjust=\"spacingAndGlyphs\" textLength=\"6\" x=\"171\" y=\"247.6074\">y</text><line style=\"stroke: #A80036; stroke-width: 1.5;\" x1=\"139.5\" x2=\"208.5\" y1=\"255.4375\" y2=\"255.4375\"/></a><!--MD5=[b9389687b975829384b498ac4b7476b2]\n",
       "class E8--><a href=\"psysml:c8a5167c-621d-4bfa-8ffa-e3ed6a854bed\" target=\"_top\" title=\"psysml:c8a5167c-621d-4bfa-8ffa-e3ed6a854bed\" xlink:actuate=\"onRequest\" xlink:href=\"psysml:c8a5167c-621d-4bfa-8ffa-e3ed6a854bed\" xlink:show=\"new\" xlink:title=\"psysml:c8a5167c-621d-4bfa-8ffa-e3ed6a854bed\" xlink:type=\"simple\"><rect fill=\"#FEFECE\" filter=\"url(#fmwpgbrs911un)\" height=\"45.9375\" id=\"E8\" rx=\"10\" ry=\"10\" style=\"stroke: #A80036; stroke-width: 1.5;\" width=\"71\" x=\"84.5\" y=\"87.5\"/><text fill=\"#000000\" font-family=\"sans-serif\" font-size=\"12\" font-style=\"italic\" lengthAdjust=\"spacingAndGlyphs\" textLength=\"69\" x=\"85.5\" y=\"103.6387\">«attribute»</text><text fill=\"#000000\" font-family=\"sans-serif\" font-size=\"12\" lengthAdjust=\"spacingAndGlyphs\" textLength=\"5\" x=\"117.5\" y=\"117.6074\">z</text><line style=\"stroke: #A80036; stroke-width: 1.5;\" x1=\"85.5\" x2=\"154.5\" y1=\"125.4375\" y2=\"125.4375\"/></a><a href=\"psysml:b9058297-d753-442e-8571-9bee33c166c8\" target=\"_top\" title=\"psysml:b9058297-d753-442e-8571-9bee33c166c8\" xlink:actuate=\"onRequest\" xlink:href=\"psysml:b9058297-d753-442e-8571-9bee33c166c8\" xlink:show=\"new\" xlink:title=\"psysml:b9058297-d753-442e-8571-9bee33c166c8\" xlink:type=\"simple\"><polygon fill=\"#FFFFFF\" filter=\"url(#fmwpgbrs911un)\" points=\"271,84,413,84,420,106.2969,427,106.2969,427,136.5938,271,136.5938,271,84\" style=\"stroke: #000000; stroke-width: 1.5;\"/><line style=\"stroke: #000000; stroke-width: 1.5;\" x1=\"271\" x2=\"420\" y1=\"106.2969\" y2=\"106.2969\"/><text fill=\"#000000\" font-family=\"sans-serif\" font-size=\"14\" font-weight=\"bold\" lengthAdjust=\"spacingAndGlyphs\" textLength=\"136\" x=\"275\" y=\"98.9951\">Application Layer</text></a><a href=\"psysml:f007974c-308f-4828-8f2c-f39213f4e302\" target=\"_top\" title=\"psysml:f007974c-308f-4828-8f2c-f39213f4e302\" xlink:actuate=\"onRequest\" xlink:href=\"psysml:f007974c-308f-4828-8f2c-f39213f4e302\" xlink:show=\"new\" xlink:title=\"psysml:f007974c-308f-4828-8f2c-f39213f4e302\" xlink:type=\"simple\"><polygon fill=\"#FFFFFF\" filter=\"url(#fmwpgbrs911un)\" points=\"285,214,399,214,406,236.2969,413,236.2969,413,266.5938,285,266.5938,285,214\" style=\"stroke: #000000; stroke-width: 1.5;\"/><line style=\"stroke: #000000; stroke-width: 1.5;\" x1=\"285\" x2=\"406\" y1=\"236.2969\" y2=\"236.2969\"/><text fill=\"#000000\" font-family=\"sans-serif\" font-size=\"14\" font-weight=\"bold\" lengthAdjust=\"spacingAndGlyphs\" textLength=\"108\" x=\"289\" y=\"228.9951\">Service Layer</text></a><a href=\"psysml:7870e797-441e-4743-978b-6b23dab0b8d1\" target=\"_top\" title=\"psysml:7870e797-441e-4743-978b-6b23dab0b8d1\" xlink:actuate=\"onRequest\" xlink:href=\"psysml:7870e797-441e-4743-978b-6b23dab0b8d1\" xlink:show=\"new\" xlink:title=\"psysml:7870e797-441e-4743-978b-6b23dab0b8d1\" xlink:type=\"simple\"><polygon fill=\"#FFFFFF\" filter=\"url(#fmwpgbrs911un)\" points=\"297,344,387,344,394,366.2969,401,366.2969,401,396.5938,297,396.5938,297,344\" style=\"stroke: #000000; stroke-width: 1.5;\"/><line style=\"stroke: #000000; stroke-width: 1.5;\" x1=\"297\" x2=\"394\" y1=\"366.2969\" y2=\"366.2969\"/><text fill=\"#000000\" font-family=\"sans-serif\" font-size=\"14\" font-weight=\"bold\" lengthAdjust=\"spacingAndGlyphs\" textLength=\"84\" x=\"301\" y=\"358.9951\">Data Layer</text></a><!--MD5=[af87c684e3b0d8be13c1a698a818ef1e]\n",
       "link E3 to E4--><a href=\"psysml:af0245ca-a479-404d-840a-c478ec8f55f1\" target=\"_top\" title=\"psysml:af0245ca-a479-404d-840a-c478ec8f55f1\" xlink:actuate=\"onRequest\" xlink:href=\"psysml:af0245ca-a479-404d-840a-c478ec8f55f1\" xlink:show=\"new\" xlink:title=\"psysml:af0245ca-a479-404d-840a-c478ec8f55f1\" xlink:type=\"simple\"><path d=\"M349,137.1 C349,156.8 349,184.22 349,205.73 \" fill=\"none\" id=\"E3-&gt;E4\" style=\"stroke: #A80036; stroke-width: 1.0; stroke-dasharray: 7.0,7.0;\"/><polygon fill=\"#A80036\" points=\"349,213.95,352,205.95,346,205.95,349,213.95\" style=\"stroke: #A80036; stroke-width: 1.0;\"/><text fill=\"#000000\" font-family=\"sans-serif\" font-size=\"13\" lengthAdjust=\"spacingAndGlyphs\" textLength=\"64\" x=\"350\" y=\"180.0669\">«depend»</text></a><!--MD5=[1b7591eae5389033d8d09a9d6721a717]\n",
       "link E4 to E5--><a href=\"psysml:aeab59fe-e3bd-4e23-96a4-136d0d468de6\" target=\"_top\" title=\"psysml:aeab59fe-e3bd-4e23-96a4-136d0d468de6\" xlink:actuate=\"onRequest\" xlink:href=\"psysml:aeab59fe-e3bd-4e23-96a4-136d0d468de6\" xlink:show=\"new\" xlink:title=\"psysml:aeab59fe-e3bd-4e23-96a4-136d0d468de6\" xlink:type=\"simple\"><path d=\"M349,267.1 C349,286.8 349,314.22 349,335.73 \" fill=\"none\" id=\"E4-&gt;E5\" style=\"stroke: #A80036; stroke-width: 1.0; stroke-dasharray: 7.0,7.0;\"/><polygon fill=\"#A80036\" points=\"349,343.95,352,335.95,346,335.95,349,343.95\" style=\"stroke: #A80036; stroke-width: 1.0;\"/><text fill=\"#000000\" font-family=\"sans-serif\" font-size=\"13\" lengthAdjust=\"spacingAndGlyphs\" textLength=\"64\" x=\"350\" y=\"310.0669\">«depend»</text></a><!--MD5=[c5e8897d989ce984f93528998a7150fe]\n",
       "link E8 to E6--><a href=\"psysml:e01a683f-5a6a-44b0-a0de-a423aeb5ad40\" target=\"_top\" title=\"psysml:e01a683f-5a6a-44b0-a0de-a423aeb5ad40\" xlink:actuate=\"onRequest\" xlink:href=\"psysml:e01a683f-5a6a-44b0-a0de-a423aeb5ad40\" xlink:show=\"new\" xlink:title=\"psysml:e01a683f-5a6a-44b0-a0de-a423aeb5ad40\" xlink:type=\"simple\"><path d=\"M89.42,133.6 C79.35,142.68 69.37,154.11 64,167 C58.5,180.2 58.66,195.94 60.54,209.38 \" fill=\"none\" id=\"E8-&gt;E6\" style=\"stroke: #A80036; stroke-width: 1.0; stroke-dasharray: 7.0,7.0;\"/><polygon fill=\"#A80036\" points=\"61.9,217.4,63.517,209.0104,57.6018,210.0159,61.9,217.4\" style=\"stroke: #A80036; stroke-width: 1.0;\"/><text fill=\"#000000\" font-family=\"sans-serif\" font-size=\"13\" lengthAdjust=\"spacingAndGlyphs\" textLength=\"64\" x=\"65\" y=\"180.0669\">«depend»</text></a><!--MD5=[bfa3c8b0d15052fdf50ae9310b491027]\n",
       "link E8 to E7--><a href=\"psysml:e01a683f-5a6a-44b0-a0de-a423aeb5ad40\" target=\"_top\" title=\"psysml:e01a683f-5a6a-44b0-a0de-a423aeb5ad40\" xlink:actuate=\"onRequest\" xlink:href=\"psysml:e01a683f-5a6a-44b0-a0de-a423aeb5ad40\" xlink:show=\"new\" xlink:title=\"psysml:e01a683f-5a6a-44b0-a0de-a423aeb5ad40\" xlink:type=\"simple\"><path d=\"M129.28,133.5 C138.17,154.57 151.64,186.5 161.47,209.81 \" fill=\"none\" id=\"E8-&gt;E7\" style=\"stroke: #A80036; stroke-width: 1.0; stroke-dasharray: 7.0,7.0;\"/><polygon fill=\"#A80036\" points=\"164.66,217.35,164.3241,208.8126,158.7933,211.1385,164.66,217.35\" style=\"stroke: #A80036; stroke-width: 1.0;\"/><text fill=\"#000000\" font-family=\"sans-serif\" font-size=\"13\" lengthAdjust=\"spacingAndGlyphs\" textLength=\"64\" x=\"151\" y=\"180.0669\">«depend»</text></a><!--MD5=[61090f1b0c4687a29613aa5b5c2da621]\n",
       "@startuml\r\n",
       "skinparam wrapWidth 300\r\n",
       "hide circle\r\n",
       "\r\n",
       "package \"DependencyTest\" as E1  [[psysml:c069fb4a-0cab-46ce-ae30-79221b6c6030 ]]  {\r\n",
       "package \"System\" as E2  [[psysml:0036a7be-5206-4df9-ab28-301972427778 ]]  {\r\n",
       "package \"Application Layer\" as E3  [[psysml:b9058297-d753-442e-8571-9bee33c166c8 ]]  {\r\n",
       "}\r\n",
       "package \"Service Layer\" as E4  [[psysml:f007974c-308f-4828-8f2c-f39213f4e302 ]]  {\r\n",
       "}\r\n",
       "package \"Data Layer\" as E5  [[psysml:7870e797-441e-4743-978b-6b23dab0b8d1 ]]  {\r\n",
       "}\r\n",
       "}\r\n",
       "comp usage \"x\" as E6  <<(T,blue)attribute>> [[psysml:ca3c2c7b-3718-4538-a84c-29984e19a6f6 ]] {\r\n",
       "}\r\n",
       "comp usage \"y\" as E7  <<(T,blue)attribute>> [[psysml:f187cc38-895f-43c9-b55f-372a79474975 ]] {\r\n",
       "}\r\n",
       "comp usage \"z\" as E8  <<(T,blue)attribute>> [[psysml:c8a5167c-621d-4bfa-8ffa-e3ed6a854bed ]] {\r\n",
       "}\r\n",
       "E3 ..>> E4 [[psysml:af0245ca-a479-404d-840a-c478ec8f55f1 ]] : <<depend>>\r\n",
       "E4 ..>> E5 [[psysml:aeab59fe-e3bd-4e23-96a4-136d0d468de6 ]] : <<depend>>\r\n",
       "E8 ..>> E6 [[psysml:e01a683f-5a6a-44b0-a0de-a423aeb5ad40 ]] : <<depend>>\r\n",
       "E8 ..>> E7 [[psysml:e01a683f-5a6a-44b0-a0de-a423aeb5ad40 ]] : <<depend>>\r\n",
       "}\r\n",
       "@enduml\r\n",
       "\n",
       "PlantUML version 1.2020.13(Sat Jun 13 12:26:38 UTC 2020)\n",
       "(EPL source distribution)\n",
       "Java Runtime: OpenJDK Runtime Environment\n",
       "JVM: OpenJDK 64-Bit Server VM\n",
       "Default Encoding: UTF-8\n",
       "Language: en\n",
       "Country: null\n",
       "--></g></svg>"
      ]
     },
     "execution_count": 24,
     "metadata": {},
     "output_type": "execute_result"
    }
   ],
   "source": [
    "%viz --style=\"STDCOLOR\" --view=\"Tree\" \"DependencyTest\""
   ]
  },
  {
   "cell_type": "code",
   "execution_count": 25,
   "id": "direct-offense",
   "metadata": {
    "execution": {
     "iopub.execute_input": "2021-03-26T13:04:33.673169Z",
     "iopub.status.busy": "2021-03-26T13:04:33.672679Z",
     "iopub.status.idle": "2021-03-26T13:04:33.676752Z",
     "shell.execute_reply": "2021-03-26T13:04:33.677166Z"
    }
   },
   "outputs": [
    {
     "data": {
      "image/svg+xml": [
       "<?xml version=\"1.0\" encoding=\"UTF-8\" standalone=\"no\"?><svg xmlns=\"http://www.w3.org/2000/svg\" xmlns:xlink=\"http://www.w3.org/1999/xlink\" contentScriptType=\"application/ecmascript\" contentStyleType=\"text/css\" height=\"12px\" preserveAspectRatio=\"none\" style=\"width:12px;height:12px;\" version=\"1.1\" viewBox=\"0 0 12 12\" width=\"12px\" zoomAndPan=\"magnify\"><defs/><g><!--MD5=[aeeef50f102b80d730deb6443d14f702]\n",
       "@startuml\r\n",
       "skinparam wrapWidth 300\r\n",
       "hide circle\r\n",
       "\r\n",
       "@enduml\r\n",
       "\n",
       "PlantUML version 1.2020.13(Sat Jun 13 12:26:38 UTC 2020)\n",
       "(EPL source distribution)\n",
       "Java Runtime: OpenJDK Runtime Environment\n",
       "JVM: OpenJDK 64-Bit Server VM\n",
       "Default Encoding: UTF-8\n",
       "Language: en\n",
       "Country: null\n",
       "--></g></svg>"
      ]
     },
     "execution_count": 25,
     "metadata": {},
     "output_type": "execute_result"
    }
   ],
   "source": [
    "%viz --style=\"STDCOLOR\" --view=\"State\" \"DependencyTest\""
   ]
  },
  {
   "cell_type": "code",
   "execution_count": 26,
   "id": "adolescent-prairie",
   "metadata": {
    "execution": {
     "iopub.execute_input": "2021-03-26T13:04:33.729743Z",
     "iopub.status.busy": "2021-03-26T13:04:33.728974Z",
     "iopub.status.idle": "2021-03-26T13:04:33.766790Z",
     "shell.execute_reply": "2021-03-26T13:04:33.767113Z"
    }
   },
   "outputs": [
    {
     "data": {
      "image/svg+xml": [
       "<?xml version=\"1.0\" encoding=\"UTF-8\" standalone=\"no\"?><svg xmlns=\"http://www.w3.org/2000/svg\" xmlns:xlink=\"http://www.w3.org/1999/xlink\" contentScriptType=\"application/ecmascript\" contentStyleType=\"text/css\" height=\"361px\" preserveAspectRatio=\"none\" style=\"width:489px;height:361px;\" version=\"1.1\" viewBox=\"0 0 489 361\" width=\"489px\" zoomAndPan=\"magnify\"><defs><filter height=\"300%\" id=\"fyc88ogkk0cae\" width=\"300%\" x=\"-1\" y=\"-1\"><feGaussianBlur result=\"blurOut\" stdDeviation=\"2.0\"/><feColorMatrix in=\"blurOut\" result=\"blurOut2\" type=\"matrix\" values=\"0 0 0 0 0 0 0 0 0 0 0 0 0 0 0 0 0 0 .4 0\"/><feOffset dx=\"4.0\" dy=\"4.0\" in=\"blurOut2\" result=\"blurOut3\"/><feBlend in=\"SourceGraphic\" in2=\"blurOut3\" mode=\"normal\"/></filter></defs><g><!--MD5=[fbc87193dbaf4d95561dea2c320d4a47]\n",
       "cluster E1--><a href=\"psysml:c069fb4a-0cab-46ce-ae30-79221b6c6030\" target=\"_top\" title=\"psysml:c069fb4a-0cab-46ce-ae30-79221b6c6030\" xlink:actuate=\"onRequest\" xlink:href=\"psysml:c069fb4a-0cab-46ce-ae30-79221b6c6030\" xlink:show=\"new\" xlink:title=\"psysml:c069fb4a-0cab-46ce-ae30-79221b6c6030\" xlink:type=\"simple\"><polygon fill=\"#FFFFFF\" filter=\"url(#fyc88ogkk0cae)\" points=\"16,6,156,6,163,28.2969,467,28.2969,467,349,16,349,16,6\" style=\"stroke: #000000; stroke-width: 1.5;\"/><line style=\"stroke: #000000; stroke-width: 1.5;\" x1=\"16\" x2=\"163\" y1=\"28.2969\" y2=\"28.2969\"/><text fill=\"#000000\" font-family=\"sans-serif\" font-size=\"14\" font-weight=\"bold\" lengthAdjust=\"spacingAndGlyphs\" textLength=\"134\" x=\"20\" y=\"20.9951\">DependencyTest</text></a><!--MD5=[e4f7fae6ed58524ba242bb0b0d3be6b7]\n",
       "cluster E2--><a href=\"psysml:0036a7be-5206-4df9-ab28-301972427778\" target=\"_top\" title=\"psysml:0036a7be-5206-4df9-ab28-301972427778\" xlink:actuate=\"onRequest\" xlink:href=\"psysml:0036a7be-5206-4df9-ab28-301972427778\" xlink:show=\"new\" xlink:title=\"psysml:0036a7be-5206-4df9-ab28-301972427778\" xlink:type=\"simple\"><polygon fill=\"#FFFFFF\" filter=\"url(#fyc88ogkk0cae)\" points=\"255,49,319,49,326,71.2969,443,71.2969,443,325,255,325,255,49\" style=\"stroke: #000000; stroke-width: 1.5;\"/><line style=\"stroke: #000000; stroke-width: 1.5;\" x1=\"255\" x2=\"326\" y1=\"71.2969\" y2=\"71.2969\"/><text fill=\"#000000\" font-family=\"sans-serif\" font-size=\"14\" font-weight=\"bold\" lengthAdjust=\"spacingAndGlyphs\" textLength=\"58\" x=\"259\" y=\"63.9951\">System</text></a><a href=\"psysml:b9058297-d753-442e-8571-9bee33c166c8\" target=\"_top\" title=\"psysml:b9058297-d753-442e-8571-9bee33c166c8\" xlink:actuate=\"onRequest\" xlink:href=\"psysml:b9058297-d753-442e-8571-9bee33c166c8\" xlink:show=\"new\" xlink:title=\"psysml:b9058297-d753-442e-8571-9bee33c166c8\" xlink:type=\"simple\"><polygon fill=\"#FFFFFF\" filter=\"url(#fyc88ogkk0cae)\" points=\"271,84,413,84,420,106.2969,427,106.2969,427,136.5938,271,136.5938,271,84\" style=\"stroke: #000000; stroke-width: 1.5;\"/><line style=\"stroke: #000000; stroke-width: 1.5;\" x1=\"271\" x2=\"420\" y1=\"106.2969\" y2=\"106.2969\"/><text fill=\"#000000\" font-family=\"sans-serif\" font-size=\"14\" font-weight=\"bold\" lengthAdjust=\"spacingAndGlyphs\" textLength=\"136\" x=\"275\" y=\"98.9951\">Application Layer</text></a><a href=\"psysml:f007974c-308f-4828-8f2c-f39213f4e302\" target=\"_top\" title=\"psysml:f007974c-308f-4828-8f2c-f39213f4e302\" xlink:actuate=\"onRequest\" xlink:href=\"psysml:f007974c-308f-4828-8f2c-f39213f4e302\" xlink:show=\"new\" xlink:title=\"psysml:f007974c-308f-4828-8f2c-f39213f4e302\" xlink:type=\"simple\"><polygon fill=\"#FFFFFF\" filter=\"url(#fyc88ogkk0cae)\" points=\"285,170,399,170,406,192.2969,413,192.2969,413,222.5938,285,222.5938,285,170\" style=\"stroke: #000000; stroke-width: 1.5;\"/><line style=\"stroke: #000000; stroke-width: 1.5;\" x1=\"285\" x2=\"406\" y1=\"192.2969\" y2=\"192.2969\"/><text fill=\"#000000\" font-family=\"sans-serif\" font-size=\"14\" font-weight=\"bold\" lengthAdjust=\"spacingAndGlyphs\" textLength=\"108\" x=\"289\" y=\"184.9951\">Service Layer</text></a><a href=\"psysml:7870e797-441e-4743-978b-6b23dab0b8d1\" target=\"_top\" title=\"psysml:7870e797-441e-4743-978b-6b23dab0b8d1\" xlink:actuate=\"onRequest\" xlink:href=\"psysml:7870e797-441e-4743-978b-6b23dab0b8d1\" xlink:show=\"new\" xlink:title=\"psysml:7870e797-441e-4743-978b-6b23dab0b8d1\" xlink:type=\"simple\"><polygon fill=\"#FFFFFF\" filter=\"url(#fyc88ogkk0cae)\" points=\"297,256,387,256,394,278.2969,401,278.2969,401,308.5938,297,308.5938,297,256\" style=\"stroke: #000000; stroke-width: 1.5;\"/><line style=\"stroke: #000000; stroke-width: 1.5;\" x1=\"297\" x2=\"394\" y1=\"278.2969\" y2=\"278.2969\"/><text fill=\"#000000\" font-family=\"sans-serif\" font-size=\"14\" font-weight=\"bold\" lengthAdjust=\"spacingAndGlyphs\" textLength=\"84\" x=\"301\" y=\"270.9951\">Data Layer</text></a><g id=\"E1.E6\"><a href=\"psysml:ca3c2c7b-3718-4538-a84c-29984e19a6f6\" target=\"_top\" title=\"psysml:ca3c2c7b-3718-4538-a84c-29984e19a6f6\" xlink:actuate=\"onRequest\" xlink:href=\"psysml:ca3c2c7b-3718-4538-a84c-29984e19a6f6\" xlink:show=\"new\" xlink:title=\"psysml:ca3c2c7b-3718-4538-a84c-29984e19a6f6\" xlink:type=\"simple\"><rect fill=\"#FEFECE\" filter=\"url(#fyc88ogkk0cae)\" height=\"42.9375\" id=\"E6\" rx=\"10\" ry=\"10\" style=\"stroke: #A80036; stroke-width: 1.5;\" width=\"76\" x=\"32\" y=\"175\"/><text fill=\"#000000\" font-family=\"sans-serif\" font-size=\"12\" font-style=\"italic\" lengthAdjust=\"spacingAndGlyphs\" textLength=\"69\" x=\"35.5\" y=\"191.1387\">«attribute»</text><text fill=\"#000000\" font-family=\"sans-serif\" font-size=\"12\" lengthAdjust=\"spacingAndGlyphs\" textLength=\"6\" x=\"67\" y=\"205.1074\">x</text></a></g><g id=\"E1.E7\"><a href=\"psysml:f187cc38-895f-43c9-b55f-372a79474975\" target=\"_top\" title=\"psysml:f187cc38-895f-43c9-b55f-372a79474975\" xlink:actuate=\"onRequest\" xlink:href=\"psysml:f187cc38-895f-43c9-b55f-372a79474975\" xlink:show=\"new\" xlink:title=\"psysml:f187cc38-895f-43c9-b55f-372a79474975\" xlink:type=\"simple\"><rect fill=\"#FEFECE\" filter=\"url(#fyc88ogkk0cae)\" height=\"42.9375\" id=\"E7\" rx=\"10\" ry=\"10\" style=\"stroke: #A80036; stroke-width: 1.5;\" width=\"76\" x=\"143\" y=\"175\"/><text fill=\"#000000\" font-family=\"sans-serif\" font-size=\"12\" font-style=\"italic\" lengthAdjust=\"spacingAndGlyphs\" textLength=\"69\" x=\"146.5\" y=\"191.1387\">«attribute»</text><text fill=\"#000000\" font-family=\"sans-serif\" font-size=\"12\" lengthAdjust=\"spacingAndGlyphs\" textLength=\"6\" x=\"178\" y=\"205.1074\">y</text></a></g><g id=\"E1.E8\"><a href=\"psysml:c8a5167c-621d-4bfa-8ffa-e3ed6a854bed\" target=\"_top\" title=\"psysml:c8a5167c-621d-4bfa-8ffa-e3ed6a854bed\" xlink:actuate=\"onRequest\" xlink:href=\"psysml:c8a5167c-621d-4bfa-8ffa-e3ed6a854bed\" xlink:show=\"new\" xlink:title=\"psysml:c8a5167c-621d-4bfa-8ffa-e3ed6a854bed\" xlink:type=\"simple\"><rect fill=\"#FEFECE\" filter=\"url(#fyc88ogkk0cae)\" height=\"42.9375\" id=\"E8\" rx=\"10\" ry=\"10\" style=\"stroke: #A80036; stroke-width: 1.5;\" width=\"76\" x=\"83\" y=\"89\"/><text fill=\"#000000\" font-family=\"sans-serif\" font-size=\"12\" font-style=\"italic\" lengthAdjust=\"spacingAndGlyphs\" textLength=\"69\" x=\"86.5\" y=\"105.1387\">«attribute»</text><text fill=\"#000000\" font-family=\"sans-serif\" font-size=\"12\" lengthAdjust=\"spacingAndGlyphs\" textLength=\"5\" x=\"118.5\" y=\"119.1074\">z</text></a></g><!--MD5=[af87c684e3b0d8be13c1a698a818ef1e]\n",
       "link E3 to E4--><a href=\"psysml:af0245ca-a479-404d-840a-c478ec8f55f1\" target=\"_top\" title=\"psysml:af0245ca-a479-404d-840a-c478ec8f55f1\" xlink:actuate=\"onRequest\" xlink:href=\"psysml:af0245ca-a479-404d-840a-c478ec8f55f1\" xlink:show=\"new\" xlink:title=\"psysml:af0245ca-a479-404d-840a-c478ec8f55f1\" xlink:type=\"simple\"><path d=\"M349,137.16 C349,144.98 349,153.69 349,161.94 \" fill=\"none\" id=\"E3-&gt;E4\" style=\"stroke: #A80036; stroke-width: 1.0; stroke-dasharray: 7.0,7.0;\"/><polygon fill=\"#A80036\" points=\"349,170,352,162,346,162,349,170\" style=\"stroke: #A80036; stroke-width: 1.0;\"/><text fill=\"#000000\" font-family=\"sans-serif\" font-size=\"13\" lengthAdjust=\"spacingAndGlyphs\" textLength=\"64\" x=\"350\" y=\"158.0669\">«depend»</text></a><!--MD5=[1b7591eae5389033d8d09a9d6721a717]\n",
       "link E4 to E5--><a href=\"psysml:aeab59fe-e3bd-4e23-96a4-136d0d468de6\" target=\"_top\" title=\"psysml:aeab59fe-e3bd-4e23-96a4-136d0d468de6\" xlink:actuate=\"onRequest\" xlink:href=\"psysml:aeab59fe-e3bd-4e23-96a4-136d0d468de6\" xlink:show=\"new\" xlink:title=\"psysml:aeab59fe-e3bd-4e23-96a4-136d0d468de6\" xlink:type=\"simple\"><path d=\"M349,223.16 C349,230.98 349,239.69 349,247.94 \" fill=\"none\" id=\"E4-&gt;E5\" style=\"stroke: #A80036; stroke-width: 1.0; stroke-dasharray: 7.0,7.0;\"/><polygon fill=\"#A80036\" points=\"349,256,352,248,346,248,349,256\" style=\"stroke: #A80036; stroke-width: 1.0;\"/><text fill=\"#000000\" font-family=\"sans-serif\" font-size=\"13\" lengthAdjust=\"spacingAndGlyphs\" textLength=\"64\" x=\"350\" y=\"244.0669\">«depend»</text></a><!--MD5=[c5e8897d989ce984f93528998a7150fe]\n",
       "link E8 to E6--><a href=\"psysml:e01a683f-5a6a-44b0-a0de-a423aeb5ad40\" target=\"_top\" title=\"psysml:e01a683f-5a6a-44b0-a0de-a423aeb5ad40\" xlink:actuate=\"onRequest\" xlink:href=\"psysml:e01a683f-5a6a-44b0-a0de-a423aeb5ad40\" xlink:show=\"new\" xlink:title=\"psysml:e01a683f-5a6a-44b0-a0de-a423aeb5ad40\" xlink:type=\"simple\"><path d=\"M82.81,126.48 C75.3,131.24 68.39,137.33 64,145 C60.26,151.53 59.68,159.3 60.56,166.77 \" fill=\"none\" id=\"E8-&gt;E6\" style=\"stroke: #A80036; stroke-width: 1.0; stroke-dasharray: 7.0,7.0;\"/><polygon fill=\"#A80036\" points=\"62.02,174.69,63.5257,166.2797,57.6244,167.3634,62.02,174.69\" style=\"stroke: #A80036; stroke-width: 1.0;\"/><text fill=\"#000000\" font-family=\"sans-serif\" font-size=\"13\" lengthAdjust=\"spacingAndGlyphs\" textLength=\"64\" x=\"65\" y=\"158.0669\">«depend»</text></a><!--MD5=[bfa3c8b0d15052fdf50ae9310b491027]\n",
       "link E8 to E7--><a href=\"psysml:e01a683f-5a6a-44b0-a0de-a423aeb5ad40\" target=\"_top\" title=\"psysml:e01a683f-5a6a-44b0-a0de-a423aeb5ad40\" xlink:actuate=\"onRequest\" xlink:href=\"psysml:e01a683f-5a6a-44b0-a0de-a423aeb5ad40\" xlink:show=\"new\" xlink:title=\"psysml:e01a683f-5a6a-44b0-a0de-a423aeb5ad40\" xlink:type=\"simple\"><path d=\"M135.83,132.26 C143.61,143.15 153.22,156.61 161.59,168.32 \" fill=\"none\" id=\"E8-&gt;E7\" style=\"stroke: #A80036; stroke-width: 1.0; stroke-dasharray: 7.0,7.0;\"/><polygon fill=\"#A80036\" points=\"166.34,174.97,164.1399,166.7141,159.2538,170.1965,166.34,174.97\" style=\"stroke: #A80036; stroke-width: 1.0;\"/><text fill=\"#000000\" font-family=\"sans-serif\" font-size=\"13\" lengthAdjust=\"spacingAndGlyphs\" textLength=\"64\" x=\"157\" y=\"158.0669\">«depend»</text></a><!--MD5=[bb0006d72e4f785fd188328401f53af7]\n",
       "@startuml\r\n",
       "skinparam ranksep 8\r\n",
       "skinparam rectangle {\r\n",
       " backgroundColor<<block>> LightGreen\r\n",
       "}\r\n",
       "skinparam wrapWidth 300\r\n",
       "hide circle\r\n",
       "\r\n",
       "package \"DependencyTest\" as E1  [[psysml:c069fb4a-0cab-46ce-ae30-79221b6c6030 ]]  {\r\n",
       "package \"System\" as E2  [[psysml:0036a7be-5206-4df9-ab28-301972427778 ]]  {\r\n",
       "package \"Application Layer\" as E3  [[psysml:b9058297-d753-442e-8571-9bee33c166c8 ]]  {\r\n",
       "}\r\n",
       "package \"Service Layer\" as E4  [[psysml:f007974c-308f-4828-8f2c-f39213f4e302 ]]  {\r\n",
       "}\r\n",
       "package \"Data Layer\" as E5  [[psysml:7870e797-441e-4743-978b-6b23dab0b8d1 ]]  {\r\n",
       "}\r\n",
       "}\r\n",
       "rec usage \"x\" as E6  <<(T,blue)attribute>> [[psysml:ca3c2c7b-3718-4538-a84c-29984e19a6f6 ]] {\r\n",
       "}\r\n",
       "rec usage \"y\" as E7  <<(T,blue)attribute>> [[psysml:f187cc38-895f-43c9-b55f-372a79474975 ]] {\r\n",
       "}\r\n",
       "rec usage \"z\" as E8  <<(T,blue)attribute>> [[psysml:c8a5167c-621d-4bfa-8ffa-e3ed6a854bed ]] {\r\n",
       "}\r\n",
       "E3 ..>> E4 [[psysml:af0245ca-a479-404d-840a-c478ec8f55f1 ]] : <<depend>>\r\n",
       "E4 ..>> E5 [[psysml:aeab59fe-e3bd-4e23-96a4-136d0d468de6 ]] : <<depend>>\r\n",
       "E8 ..>> E6 [[psysml:e01a683f-5a6a-44b0-a0de-a423aeb5ad40 ]] : <<depend>>\r\n",
       "E8 ..>> E7 [[psysml:e01a683f-5a6a-44b0-a0de-a423aeb5ad40 ]] : <<depend>>\r\n",
       "}\r\n",
       "@enduml\r\n",
       "\n",
       "PlantUML version 1.2020.13(Sat Jun 13 12:26:38 UTC 2020)\n",
       "(EPL source distribution)\n",
       "Java Runtime: OpenJDK Runtime Environment\n",
       "JVM: OpenJDK 64-Bit Server VM\n",
       "Default Encoding: UTF-8\n",
       "Language: en\n",
       "Country: null\n",
       "--></g></svg>"
      ]
     },
     "execution_count": 26,
     "metadata": {},
     "output_type": "execute_result"
    }
   ],
   "source": [
    "%viz --style=\"STDCOLOR\" --view=\"Interconnection\" \"DependencyTest\""
   ]
  },
  {
   "cell_type": "code",
   "execution_count": 27,
   "id": "forbidden-novel",
   "metadata": {
    "execution": {
     "iopub.execute_input": "2021-03-26T13:04:33.823366Z",
     "iopub.status.busy": "2021-03-26T13:04:33.822837Z",
     "iopub.status.idle": "2021-03-26T13:04:33.828599Z",
     "shell.execute_reply": "2021-03-26T13:04:33.828202Z"
    }
   },
   "outputs": [
    {
     "data": {
      "image/svg+xml": [
       "<?xml version=\"1.0\" encoding=\"UTF-8\" standalone=\"no\"?><svg xmlns=\"http://www.w3.org/2000/svg\" xmlns:xlink=\"http://www.w3.org/1999/xlink\" contentScriptType=\"application/ecmascript\" contentStyleType=\"text/css\" height=\"12px\" preserveAspectRatio=\"none\" style=\"width:12px;height:12px;\" version=\"1.1\" viewBox=\"0 0 12 12\" width=\"12px\" zoomAndPan=\"magnify\"><defs/><g><!--MD5=[9863325348a96a77dacc89509d8ee65e]\n",
       "@startuml\r\n",
       "skinparam ranksep 8\r\n",
       "skinparam wrapWidth 300\r\n",
       "hide circle\r\n",
       "\r\n",
       "@enduml\r\n",
       "\n",
       "PlantUML version 1.2020.13(Sat Jun 13 12:26:38 UTC 2020)\n",
       "(EPL source distribution)\n",
       "Java Runtime: OpenJDK Runtime Environment\n",
       "JVM: OpenJDK 64-Bit Server VM\n",
       "Default Encoding: UTF-8\n",
       "Language: en\n",
       "Country: null\n",
       "--></g></svg>"
      ]
     },
     "execution_count": 27,
     "metadata": {},
     "output_type": "execute_result"
    }
   ],
   "source": [
    "%viz --style=\"STDCOLOR\" --view=\"Action\" \"DependencyTest\""
   ]
  },
  {
   "cell_type": "code",
   "execution_count": 28,
   "id": "convertible-shopper",
   "metadata": {
    "execution": {
     "iopub.execute_input": "2021-03-26T13:04:33.880869Z",
     "iopub.status.busy": "2021-03-26T13:04:33.880175Z",
     "iopub.status.idle": "2021-03-26T13:04:33.911928Z",
     "shell.execute_reply": "2021-03-26T13:04:33.912261Z"
    }
   },
   "outputs": [
    {
     "data": {
      "image/svg+xml": [
       "<?xml version=\"1.0\" encoding=\"UTF-8\" standalone=\"no\"?><svg xmlns=\"http://www.w3.org/2000/svg\" xmlns:xlink=\"http://www.w3.org/1999/xlink\" contentScriptType=\"application/ecmascript\" contentStyleType=\"text/css\" height=\"449px\" preserveAspectRatio=\"none\" style=\"width:489px;height:449px;\" version=\"1.1\" viewBox=\"0 0 489 449\" width=\"489px\" zoomAndPan=\"magnify\"><defs><filter height=\"300%\" id=\"fmwpgbrs911un\" width=\"300%\" x=\"-1\" y=\"-1\"><feGaussianBlur result=\"blurOut\" stdDeviation=\"2.0\"/><feColorMatrix in=\"blurOut\" result=\"blurOut2\" type=\"matrix\" values=\"0 0 0 0 0 0 0 0 0 0 0 0 0 0 0 0 0 0 .4 0\"/><feOffset dx=\"4.0\" dy=\"4.0\" in=\"blurOut2\" result=\"blurOut3\"/><feBlend in=\"SourceGraphic\" in2=\"blurOut3\" mode=\"normal\"/></filter></defs><g><!--MD5=[fbc87193dbaf4d95561dea2c320d4a47]\n",
       "cluster E1--><a href=\"psysml:c069fb4a-0cab-46ce-ae30-79221b6c6030\" target=\"_top\" title=\"psysml:c069fb4a-0cab-46ce-ae30-79221b6c6030\" xlink:actuate=\"onRequest\" xlink:href=\"psysml:c069fb4a-0cab-46ce-ae30-79221b6c6030\" xlink:show=\"new\" xlink:title=\"psysml:c069fb4a-0cab-46ce-ae30-79221b6c6030\" xlink:type=\"simple\"><polygon fill=\"#FFFFFF\" filter=\"url(#fmwpgbrs911un)\" points=\"16,6,156,6,163,28.2969,467,28.2969,467,437,16,437,16,6\" style=\"stroke: #000000; stroke-width: 1.5;\"/><line style=\"stroke: #000000; stroke-width: 1.5;\" x1=\"16\" x2=\"163\" y1=\"28.2969\" y2=\"28.2969\"/><text fill=\"#000000\" font-family=\"sans-serif\" font-size=\"14\" font-weight=\"bold\" lengthAdjust=\"spacingAndGlyphs\" textLength=\"134\" x=\"20\" y=\"20.9951\">DependencyTest</text></a><!--MD5=[e4f7fae6ed58524ba242bb0b0d3be6b7]\n",
       "cluster E2--><a href=\"psysml:0036a7be-5206-4df9-ab28-301972427778\" target=\"_top\" title=\"psysml:0036a7be-5206-4df9-ab28-301972427778\" xlink:actuate=\"onRequest\" xlink:href=\"psysml:0036a7be-5206-4df9-ab28-301972427778\" xlink:show=\"new\" xlink:title=\"psysml:0036a7be-5206-4df9-ab28-301972427778\" xlink:type=\"simple\"><polygon fill=\"#FFFFFF\" filter=\"url(#fmwpgbrs911un)\" points=\"255,49,319,49,326,71.2969,443,71.2969,443,413,255,413,255,49\" style=\"stroke: #000000; stroke-width: 1.5;\"/><line style=\"stroke: #000000; stroke-width: 1.5;\" x1=\"255\" x2=\"326\" y1=\"71.2969\" y2=\"71.2969\"/><text fill=\"#000000\" font-family=\"sans-serif\" font-size=\"14\" font-weight=\"bold\" lengthAdjust=\"spacingAndGlyphs\" textLength=\"58\" x=\"259\" y=\"63.9951\">System</text></a><!--MD5=[60a26617385b1d2d0262a64233df1f8d]\n",
       "class E6--><a href=\"psysml:ca3c2c7b-3718-4538-a84c-29984e19a6f6\" target=\"_top\" title=\"psysml:ca3c2c7b-3718-4538-a84c-29984e19a6f6\" xlink:actuate=\"onRequest\" xlink:href=\"psysml:ca3c2c7b-3718-4538-a84c-29984e19a6f6\" xlink:show=\"new\" xlink:title=\"psysml:ca3c2c7b-3718-4538-a84c-29984e19a6f6\" xlink:type=\"simple\"><rect fill=\"#FEFECE\" filter=\"url(#fmwpgbrs911un)\" height=\"45.9375\" id=\"E6\" rx=\"10\" ry=\"10\" style=\"stroke: #A80036; stroke-width: 1.5;\" width=\"71\" x=\"32.5\" y=\"217.5\"/><text fill=\"#000000\" font-family=\"sans-serif\" font-size=\"12\" font-style=\"italic\" lengthAdjust=\"spacingAndGlyphs\" textLength=\"69\" x=\"33.5\" y=\"233.6387\">«attribute»</text><text fill=\"#000000\" font-family=\"sans-serif\" font-size=\"12\" lengthAdjust=\"spacingAndGlyphs\" textLength=\"6\" x=\"65\" y=\"247.6074\">x</text><line style=\"stroke: #A80036; stroke-width: 1.5;\" x1=\"33.5\" x2=\"102.5\" y1=\"255.4375\" y2=\"255.4375\"/></a><!--MD5=[2156ba9850f5573cc1fc38a6a4b2f02b]\n",
       "class E7--><a href=\"psysml:f187cc38-895f-43c9-b55f-372a79474975\" target=\"_top\" title=\"psysml:f187cc38-895f-43c9-b55f-372a79474975\" xlink:actuate=\"onRequest\" xlink:href=\"psysml:f187cc38-895f-43c9-b55f-372a79474975\" xlink:show=\"new\" xlink:title=\"psysml:f187cc38-895f-43c9-b55f-372a79474975\" xlink:type=\"simple\"><rect fill=\"#FEFECE\" filter=\"url(#fmwpgbrs911un)\" height=\"45.9375\" id=\"E7\" rx=\"10\" ry=\"10\" style=\"stroke: #A80036; stroke-width: 1.5;\" width=\"71\" x=\"138.5\" y=\"217.5\"/><text fill=\"#000000\" font-family=\"sans-serif\" font-size=\"12\" font-style=\"italic\" lengthAdjust=\"spacingAndGlyphs\" textLength=\"69\" x=\"139.5\" y=\"233.6387\">«attribute»</text><text fill=\"#000000\" font-family=\"sans-serif\" font-size=\"12\" lengthAdjust=\"spacingAndGlyphs\" textLength=\"6\" x=\"171\" y=\"247.6074\">y</text><line style=\"stroke: #A80036; stroke-width: 1.5;\" x1=\"139.5\" x2=\"208.5\" y1=\"255.4375\" y2=\"255.4375\"/></a><!--MD5=[b9389687b975829384b498ac4b7476b2]\n",
       "class E8--><a href=\"psysml:c8a5167c-621d-4bfa-8ffa-e3ed6a854bed\" target=\"_top\" title=\"psysml:c8a5167c-621d-4bfa-8ffa-e3ed6a854bed\" xlink:actuate=\"onRequest\" xlink:href=\"psysml:c8a5167c-621d-4bfa-8ffa-e3ed6a854bed\" xlink:show=\"new\" xlink:title=\"psysml:c8a5167c-621d-4bfa-8ffa-e3ed6a854bed\" xlink:type=\"simple\"><rect fill=\"#FEFECE\" filter=\"url(#fmwpgbrs911un)\" height=\"45.9375\" id=\"E8\" rx=\"10\" ry=\"10\" style=\"stroke: #A80036; stroke-width: 1.5;\" width=\"71\" x=\"84.5\" y=\"87.5\"/><text fill=\"#000000\" font-family=\"sans-serif\" font-size=\"12\" font-style=\"italic\" lengthAdjust=\"spacingAndGlyphs\" textLength=\"69\" x=\"85.5\" y=\"103.6387\">«attribute»</text><text fill=\"#000000\" font-family=\"sans-serif\" font-size=\"12\" lengthAdjust=\"spacingAndGlyphs\" textLength=\"5\" x=\"117.5\" y=\"117.6074\">z</text><line style=\"stroke: #A80036; stroke-width: 1.5;\" x1=\"85.5\" x2=\"154.5\" y1=\"125.4375\" y2=\"125.4375\"/></a><a href=\"psysml:b9058297-d753-442e-8571-9bee33c166c8\" target=\"_top\" title=\"psysml:b9058297-d753-442e-8571-9bee33c166c8\" xlink:actuate=\"onRequest\" xlink:href=\"psysml:b9058297-d753-442e-8571-9bee33c166c8\" xlink:show=\"new\" xlink:title=\"psysml:b9058297-d753-442e-8571-9bee33c166c8\" xlink:type=\"simple\"><polygon fill=\"#FFFFFF\" filter=\"url(#fmwpgbrs911un)\" points=\"271,84,413,84,420,106.2969,427,106.2969,427,136.5938,271,136.5938,271,84\" style=\"stroke: #000000; stroke-width: 1.5;\"/><line style=\"stroke: #000000; stroke-width: 1.5;\" x1=\"271\" x2=\"420\" y1=\"106.2969\" y2=\"106.2969\"/><text fill=\"#000000\" font-family=\"sans-serif\" font-size=\"14\" font-weight=\"bold\" lengthAdjust=\"spacingAndGlyphs\" textLength=\"136\" x=\"275\" y=\"98.9951\">Application Layer</text></a><a href=\"psysml:f007974c-308f-4828-8f2c-f39213f4e302\" target=\"_top\" title=\"psysml:f007974c-308f-4828-8f2c-f39213f4e302\" xlink:actuate=\"onRequest\" xlink:href=\"psysml:f007974c-308f-4828-8f2c-f39213f4e302\" xlink:show=\"new\" xlink:title=\"psysml:f007974c-308f-4828-8f2c-f39213f4e302\" xlink:type=\"simple\"><polygon fill=\"#FFFFFF\" filter=\"url(#fmwpgbrs911un)\" points=\"285,214,399,214,406,236.2969,413,236.2969,413,266.5938,285,266.5938,285,214\" style=\"stroke: #000000; stroke-width: 1.5;\"/><line style=\"stroke: #000000; stroke-width: 1.5;\" x1=\"285\" x2=\"406\" y1=\"236.2969\" y2=\"236.2969\"/><text fill=\"#000000\" font-family=\"sans-serif\" font-size=\"14\" font-weight=\"bold\" lengthAdjust=\"spacingAndGlyphs\" textLength=\"108\" x=\"289\" y=\"228.9951\">Service Layer</text></a><a href=\"psysml:7870e797-441e-4743-978b-6b23dab0b8d1\" target=\"_top\" title=\"psysml:7870e797-441e-4743-978b-6b23dab0b8d1\" xlink:actuate=\"onRequest\" xlink:href=\"psysml:7870e797-441e-4743-978b-6b23dab0b8d1\" xlink:show=\"new\" xlink:title=\"psysml:7870e797-441e-4743-978b-6b23dab0b8d1\" xlink:type=\"simple\"><polygon fill=\"#FFFFFF\" filter=\"url(#fmwpgbrs911un)\" points=\"297,344,387,344,394,366.2969,401,366.2969,401,396.5938,297,396.5938,297,344\" style=\"stroke: #000000; stroke-width: 1.5;\"/><line style=\"stroke: #000000; stroke-width: 1.5;\" x1=\"297\" x2=\"394\" y1=\"366.2969\" y2=\"366.2969\"/><text fill=\"#000000\" font-family=\"sans-serif\" font-size=\"14\" font-weight=\"bold\" lengthAdjust=\"spacingAndGlyphs\" textLength=\"84\" x=\"301\" y=\"358.9951\">Data Layer</text></a><!--MD5=[af87c684e3b0d8be13c1a698a818ef1e]\n",
       "link E3 to E4--><a href=\"psysml:af0245ca-a479-404d-840a-c478ec8f55f1\" target=\"_top\" title=\"psysml:af0245ca-a479-404d-840a-c478ec8f55f1\" xlink:actuate=\"onRequest\" xlink:href=\"psysml:af0245ca-a479-404d-840a-c478ec8f55f1\" xlink:show=\"new\" xlink:title=\"psysml:af0245ca-a479-404d-840a-c478ec8f55f1\" xlink:type=\"simple\"><path d=\"M349,137.1 C349,156.8 349,184.22 349,205.73 \" fill=\"none\" id=\"E3-&gt;E4\" style=\"stroke: #A80036; stroke-width: 1.0; stroke-dasharray: 7.0,7.0;\"/><polygon fill=\"#A80036\" points=\"349,213.95,352,205.95,346,205.95,349,213.95\" style=\"stroke: #A80036; stroke-width: 1.0;\"/><text fill=\"#000000\" font-family=\"sans-serif\" font-size=\"13\" lengthAdjust=\"spacingAndGlyphs\" textLength=\"64\" x=\"350\" y=\"180.0669\">«depend»</text></a><!--MD5=[1b7591eae5389033d8d09a9d6721a717]\n",
       "link E4 to E5--><a href=\"psysml:aeab59fe-e3bd-4e23-96a4-136d0d468de6\" target=\"_top\" title=\"psysml:aeab59fe-e3bd-4e23-96a4-136d0d468de6\" xlink:actuate=\"onRequest\" xlink:href=\"psysml:aeab59fe-e3bd-4e23-96a4-136d0d468de6\" xlink:show=\"new\" xlink:title=\"psysml:aeab59fe-e3bd-4e23-96a4-136d0d468de6\" xlink:type=\"simple\"><path d=\"M349,267.1 C349,286.8 349,314.22 349,335.73 \" fill=\"none\" id=\"E4-&gt;E5\" style=\"stroke: #A80036; stroke-width: 1.0; stroke-dasharray: 7.0,7.0;\"/><polygon fill=\"#A80036\" points=\"349,343.95,352,335.95,346,335.95,349,343.95\" style=\"stroke: #A80036; stroke-width: 1.0;\"/><text fill=\"#000000\" font-family=\"sans-serif\" font-size=\"13\" lengthAdjust=\"spacingAndGlyphs\" textLength=\"64\" x=\"350\" y=\"310.0669\">«depend»</text></a><!--MD5=[c5e8897d989ce984f93528998a7150fe]\n",
       "link E8 to E6--><a href=\"psysml:e01a683f-5a6a-44b0-a0de-a423aeb5ad40\" target=\"_top\" title=\"psysml:e01a683f-5a6a-44b0-a0de-a423aeb5ad40\" xlink:actuate=\"onRequest\" xlink:href=\"psysml:e01a683f-5a6a-44b0-a0de-a423aeb5ad40\" xlink:show=\"new\" xlink:title=\"psysml:e01a683f-5a6a-44b0-a0de-a423aeb5ad40\" xlink:type=\"simple\"><path d=\"M89.42,133.6 C79.35,142.68 69.37,154.11 64,167 C58.5,180.2 58.66,195.94 60.54,209.38 \" fill=\"none\" id=\"E8-&gt;E6\" style=\"stroke: #A80036; stroke-width: 1.0; stroke-dasharray: 7.0,7.0;\"/><polygon fill=\"#A80036\" points=\"61.9,217.4,63.517,209.0104,57.6018,210.0159,61.9,217.4\" style=\"stroke: #A80036; stroke-width: 1.0;\"/><text fill=\"#000000\" font-family=\"sans-serif\" font-size=\"13\" lengthAdjust=\"spacingAndGlyphs\" textLength=\"64\" x=\"65\" y=\"180.0669\">«depend»</text></a><!--MD5=[bfa3c8b0d15052fdf50ae9310b491027]\n",
       "link E8 to E7--><a href=\"psysml:e01a683f-5a6a-44b0-a0de-a423aeb5ad40\" target=\"_top\" title=\"psysml:e01a683f-5a6a-44b0-a0de-a423aeb5ad40\" xlink:actuate=\"onRequest\" xlink:href=\"psysml:e01a683f-5a6a-44b0-a0de-a423aeb5ad40\" xlink:show=\"new\" xlink:title=\"psysml:e01a683f-5a6a-44b0-a0de-a423aeb5ad40\" xlink:type=\"simple\"><path d=\"M129.28,133.5 C138.17,154.57 151.64,186.5 161.47,209.81 \" fill=\"none\" id=\"E8-&gt;E7\" style=\"stroke: #A80036; stroke-width: 1.0; stroke-dasharray: 7.0,7.0;\"/><polygon fill=\"#A80036\" points=\"164.66,217.35,164.3241,208.8126,158.7933,211.1385,164.66,217.35\" style=\"stroke: #A80036; stroke-width: 1.0;\"/><text fill=\"#000000\" font-family=\"sans-serif\" font-size=\"13\" lengthAdjust=\"spacingAndGlyphs\" textLength=\"64\" x=\"151\" y=\"180.0669\">«depend»</text></a><!--MD5=[61090f1b0c4687a29613aa5b5c2da621]\n",
       "@startuml\r\n",
       "skinparam wrapWidth 300\r\n",
       "hide circle\r\n",
       "\r\n",
       "package \"DependencyTest\" as E1  [[psysml:c069fb4a-0cab-46ce-ae30-79221b6c6030 ]]  {\r\n",
       "package \"System\" as E2  [[psysml:0036a7be-5206-4df9-ab28-301972427778 ]]  {\r\n",
       "package \"Application Layer\" as E3  [[psysml:b9058297-d753-442e-8571-9bee33c166c8 ]]  {\r\n",
       "}\r\n",
       "package \"Service Layer\" as E4  [[psysml:f007974c-308f-4828-8f2c-f39213f4e302 ]]  {\r\n",
       "}\r\n",
       "package \"Data Layer\" as E5  [[psysml:7870e797-441e-4743-978b-6b23dab0b8d1 ]]  {\r\n",
       "}\r\n",
       "}\r\n",
       "comp usage \"x\" as E6  <<(T,blue)attribute>> [[psysml:ca3c2c7b-3718-4538-a84c-29984e19a6f6 ]] {\r\n",
       "}\r\n",
       "comp usage \"y\" as E7  <<(T,blue)attribute>> [[psysml:f187cc38-895f-43c9-b55f-372a79474975 ]] {\r\n",
       "}\r\n",
       "comp usage \"z\" as E8  <<(T,blue)attribute>> [[psysml:c8a5167c-621d-4bfa-8ffa-e3ed6a854bed ]] {\r\n",
       "}\r\n",
       "E3 ..>> E4 [[psysml:af0245ca-a479-404d-840a-c478ec8f55f1 ]] : <<depend>>\r\n",
       "E4 ..>> E5 [[psysml:aeab59fe-e3bd-4e23-96a4-136d0d468de6 ]] : <<depend>>\r\n",
       "E8 ..>> E6 [[psysml:e01a683f-5a6a-44b0-a0de-a423aeb5ad40 ]] : <<depend>>\r\n",
       "E8 ..>> E7 [[psysml:e01a683f-5a6a-44b0-a0de-a423aeb5ad40 ]] : <<depend>>\r\n",
       "}\r\n",
       "@enduml\r\n",
       "\n",
       "PlantUML version 1.2020.13(Sat Jun 13 12:26:38 UTC 2020)\n",
       "(EPL source distribution)\n",
       "Java Runtime: OpenJDK Runtime Environment\n",
       "JVM: OpenJDK 64-Bit Server VM\n",
       "Default Encoding: UTF-8\n",
       "Language: en\n",
       "Country: null\n",
       "--></g></svg>"
      ]
     },
     "execution_count": 28,
     "metadata": {},
     "output_type": "execute_result"
    }
   ],
   "source": [
    "%viz --style=\"STDCOLOR\" --view=\"Sequence\" \"DependencyTest\""
   ]
  },
  {
   "cell_type": "code",
   "execution_count": 29,
   "id": "arctic-musical",
   "metadata": {
    "execution": {
     "iopub.execute_input": "2021-03-26T13:04:33.968350Z",
     "iopub.status.busy": "2021-03-26T13:04:33.967766Z",
     "iopub.status.idle": "2021-03-26T13:04:33.998249Z",
     "shell.execute_reply": "2021-03-26T13:04:33.996980Z"
    }
   },
   "outputs": [
    {
     "data": {
      "image/svg+xml": [
       "<?xml version=\"1.0\" encoding=\"UTF-8\" standalone=\"no\"?><svg xmlns=\"http://www.w3.org/2000/svg\" xmlns:xlink=\"http://www.w3.org/1999/xlink\" contentScriptType=\"application/ecmascript\" contentStyleType=\"text/css\" height=\"449px\" preserveAspectRatio=\"none\" style=\"width:489px;height:449px;\" version=\"1.1\" viewBox=\"0 0 489 449\" width=\"489px\" zoomAndPan=\"magnify\"><defs><filter height=\"300%\" id=\"fmwpgbrs911un\" width=\"300%\" x=\"-1\" y=\"-1\"><feGaussianBlur result=\"blurOut\" stdDeviation=\"2.0\"/><feColorMatrix in=\"blurOut\" result=\"blurOut2\" type=\"matrix\" values=\"0 0 0 0 0 0 0 0 0 0 0 0 0 0 0 0 0 0 .4 0\"/><feOffset dx=\"4.0\" dy=\"4.0\" in=\"blurOut2\" result=\"blurOut3\"/><feBlend in=\"SourceGraphic\" in2=\"blurOut3\" mode=\"normal\"/></filter></defs><g><!--MD5=[fbc87193dbaf4d95561dea2c320d4a47]\n",
       "cluster E1--><a href=\"psysml:c069fb4a-0cab-46ce-ae30-79221b6c6030\" target=\"_top\" title=\"psysml:c069fb4a-0cab-46ce-ae30-79221b6c6030\" xlink:actuate=\"onRequest\" xlink:href=\"psysml:c069fb4a-0cab-46ce-ae30-79221b6c6030\" xlink:show=\"new\" xlink:title=\"psysml:c069fb4a-0cab-46ce-ae30-79221b6c6030\" xlink:type=\"simple\"><polygon fill=\"#FFFFFF\" filter=\"url(#fmwpgbrs911un)\" points=\"16,6,156,6,163,28.2969,467,28.2969,467,437,16,437,16,6\" style=\"stroke: #000000; stroke-width: 1.5;\"/><line style=\"stroke: #000000; stroke-width: 1.5;\" x1=\"16\" x2=\"163\" y1=\"28.2969\" y2=\"28.2969\"/><text fill=\"#000000\" font-family=\"sans-serif\" font-size=\"14\" font-weight=\"bold\" lengthAdjust=\"spacingAndGlyphs\" textLength=\"134\" x=\"20\" y=\"20.9951\">DependencyTest</text></a><!--MD5=[e4f7fae6ed58524ba242bb0b0d3be6b7]\n",
       "cluster E2--><a href=\"psysml:0036a7be-5206-4df9-ab28-301972427778\" target=\"_top\" title=\"psysml:0036a7be-5206-4df9-ab28-301972427778\" xlink:actuate=\"onRequest\" xlink:href=\"psysml:0036a7be-5206-4df9-ab28-301972427778\" xlink:show=\"new\" xlink:title=\"psysml:0036a7be-5206-4df9-ab28-301972427778\" xlink:type=\"simple\"><polygon fill=\"#FFFFFF\" filter=\"url(#fmwpgbrs911un)\" points=\"255,49,319,49,326,71.2969,443,71.2969,443,413,255,413,255,49\" style=\"stroke: #000000; stroke-width: 1.5;\"/><line style=\"stroke: #000000; stroke-width: 1.5;\" x1=\"255\" x2=\"326\" y1=\"71.2969\" y2=\"71.2969\"/><text fill=\"#000000\" font-family=\"sans-serif\" font-size=\"14\" font-weight=\"bold\" lengthAdjust=\"spacingAndGlyphs\" textLength=\"58\" x=\"259\" y=\"63.9951\">System</text></a><!--MD5=[60a26617385b1d2d0262a64233df1f8d]\n",
       "class E6--><a href=\"psysml:ca3c2c7b-3718-4538-a84c-29984e19a6f6\" target=\"_top\" title=\"psysml:ca3c2c7b-3718-4538-a84c-29984e19a6f6\" xlink:actuate=\"onRequest\" xlink:href=\"psysml:ca3c2c7b-3718-4538-a84c-29984e19a6f6\" xlink:show=\"new\" xlink:title=\"psysml:ca3c2c7b-3718-4538-a84c-29984e19a6f6\" xlink:type=\"simple\"><rect fill=\"#FEFECE\" filter=\"url(#fmwpgbrs911un)\" height=\"45.9375\" id=\"E6\" rx=\"10\" ry=\"10\" style=\"stroke: #A80036; stroke-width: 1.5;\" width=\"71\" x=\"32.5\" y=\"217.5\"/><text fill=\"#000000\" font-family=\"sans-serif\" font-size=\"12\" font-style=\"italic\" lengthAdjust=\"spacingAndGlyphs\" textLength=\"69\" x=\"33.5\" y=\"233.6387\">«attribute»</text><text fill=\"#000000\" font-family=\"sans-serif\" font-size=\"12\" lengthAdjust=\"spacingAndGlyphs\" textLength=\"6\" x=\"65\" y=\"247.6074\">x</text><line style=\"stroke: #A80036; stroke-width: 1.5;\" x1=\"33.5\" x2=\"102.5\" y1=\"255.4375\" y2=\"255.4375\"/></a><!--MD5=[2156ba9850f5573cc1fc38a6a4b2f02b]\n",
       "class E7--><a href=\"psysml:f187cc38-895f-43c9-b55f-372a79474975\" target=\"_top\" title=\"psysml:f187cc38-895f-43c9-b55f-372a79474975\" xlink:actuate=\"onRequest\" xlink:href=\"psysml:f187cc38-895f-43c9-b55f-372a79474975\" xlink:show=\"new\" xlink:title=\"psysml:f187cc38-895f-43c9-b55f-372a79474975\" xlink:type=\"simple\"><rect fill=\"#FEFECE\" filter=\"url(#fmwpgbrs911un)\" height=\"45.9375\" id=\"E7\" rx=\"10\" ry=\"10\" style=\"stroke: #A80036; stroke-width: 1.5;\" width=\"71\" x=\"138.5\" y=\"217.5\"/><text fill=\"#000000\" font-family=\"sans-serif\" font-size=\"12\" font-style=\"italic\" lengthAdjust=\"spacingAndGlyphs\" textLength=\"69\" x=\"139.5\" y=\"233.6387\">«attribute»</text><text fill=\"#000000\" font-family=\"sans-serif\" font-size=\"12\" lengthAdjust=\"spacingAndGlyphs\" textLength=\"6\" x=\"171\" y=\"247.6074\">y</text><line style=\"stroke: #A80036; stroke-width: 1.5;\" x1=\"139.5\" x2=\"208.5\" y1=\"255.4375\" y2=\"255.4375\"/></a><!--MD5=[b9389687b975829384b498ac4b7476b2]\n",
       "class E8--><a href=\"psysml:c8a5167c-621d-4bfa-8ffa-e3ed6a854bed\" target=\"_top\" title=\"psysml:c8a5167c-621d-4bfa-8ffa-e3ed6a854bed\" xlink:actuate=\"onRequest\" xlink:href=\"psysml:c8a5167c-621d-4bfa-8ffa-e3ed6a854bed\" xlink:show=\"new\" xlink:title=\"psysml:c8a5167c-621d-4bfa-8ffa-e3ed6a854bed\" xlink:type=\"simple\"><rect fill=\"#FEFECE\" filter=\"url(#fmwpgbrs911un)\" height=\"45.9375\" id=\"E8\" rx=\"10\" ry=\"10\" style=\"stroke: #A80036; stroke-width: 1.5;\" width=\"71\" x=\"84.5\" y=\"87.5\"/><text fill=\"#000000\" font-family=\"sans-serif\" font-size=\"12\" font-style=\"italic\" lengthAdjust=\"spacingAndGlyphs\" textLength=\"69\" x=\"85.5\" y=\"103.6387\">«attribute»</text><text fill=\"#000000\" font-family=\"sans-serif\" font-size=\"12\" lengthAdjust=\"spacingAndGlyphs\" textLength=\"5\" x=\"117.5\" y=\"117.6074\">z</text><line style=\"stroke: #A80036; stroke-width: 1.5;\" x1=\"85.5\" x2=\"154.5\" y1=\"125.4375\" y2=\"125.4375\"/></a><a href=\"psysml:b9058297-d753-442e-8571-9bee33c166c8\" target=\"_top\" title=\"psysml:b9058297-d753-442e-8571-9bee33c166c8\" xlink:actuate=\"onRequest\" xlink:href=\"psysml:b9058297-d753-442e-8571-9bee33c166c8\" xlink:show=\"new\" xlink:title=\"psysml:b9058297-d753-442e-8571-9bee33c166c8\" xlink:type=\"simple\"><polygon fill=\"#FFFFFF\" filter=\"url(#fmwpgbrs911un)\" points=\"271,84,413,84,420,106.2969,427,106.2969,427,136.5938,271,136.5938,271,84\" style=\"stroke: #000000; stroke-width: 1.5;\"/><line style=\"stroke: #000000; stroke-width: 1.5;\" x1=\"271\" x2=\"420\" y1=\"106.2969\" y2=\"106.2969\"/><text fill=\"#000000\" font-family=\"sans-serif\" font-size=\"14\" font-weight=\"bold\" lengthAdjust=\"spacingAndGlyphs\" textLength=\"136\" x=\"275\" y=\"98.9951\">Application Layer</text></a><a href=\"psysml:f007974c-308f-4828-8f2c-f39213f4e302\" target=\"_top\" title=\"psysml:f007974c-308f-4828-8f2c-f39213f4e302\" xlink:actuate=\"onRequest\" xlink:href=\"psysml:f007974c-308f-4828-8f2c-f39213f4e302\" xlink:show=\"new\" xlink:title=\"psysml:f007974c-308f-4828-8f2c-f39213f4e302\" xlink:type=\"simple\"><polygon fill=\"#FFFFFF\" filter=\"url(#fmwpgbrs911un)\" points=\"285,214,399,214,406,236.2969,413,236.2969,413,266.5938,285,266.5938,285,214\" style=\"stroke: #000000; stroke-width: 1.5;\"/><line style=\"stroke: #000000; stroke-width: 1.5;\" x1=\"285\" x2=\"406\" y1=\"236.2969\" y2=\"236.2969\"/><text fill=\"#000000\" font-family=\"sans-serif\" font-size=\"14\" font-weight=\"bold\" lengthAdjust=\"spacingAndGlyphs\" textLength=\"108\" x=\"289\" y=\"228.9951\">Service Layer</text></a><a href=\"psysml:7870e797-441e-4743-978b-6b23dab0b8d1\" target=\"_top\" title=\"psysml:7870e797-441e-4743-978b-6b23dab0b8d1\" xlink:actuate=\"onRequest\" xlink:href=\"psysml:7870e797-441e-4743-978b-6b23dab0b8d1\" xlink:show=\"new\" xlink:title=\"psysml:7870e797-441e-4743-978b-6b23dab0b8d1\" xlink:type=\"simple\"><polygon fill=\"#FFFFFF\" filter=\"url(#fmwpgbrs911un)\" points=\"297,344,387,344,394,366.2969,401,366.2969,401,396.5938,297,396.5938,297,344\" style=\"stroke: #000000; stroke-width: 1.5;\"/><line style=\"stroke: #000000; stroke-width: 1.5;\" x1=\"297\" x2=\"394\" y1=\"366.2969\" y2=\"366.2969\"/><text fill=\"#000000\" font-family=\"sans-serif\" font-size=\"14\" font-weight=\"bold\" lengthAdjust=\"spacingAndGlyphs\" textLength=\"84\" x=\"301\" y=\"358.9951\">Data Layer</text></a><!--MD5=[af87c684e3b0d8be13c1a698a818ef1e]\n",
       "link E3 to E4--><a href=\"psysml:af0245ca-a479-404d-840a-c478ec8f55f1\" target=\"_top\" title=\"psysml:af0245ca-a479-404d-840a-c478ec8f55f1\" xlink:actuate=\"onRequest\" xlink:href=\"psysml:af0245ca-a479-404d-840a-c478ec8f55f1\" xlink:show=\"new\" xlink:title=\"psysml:af0245ca-a479-404d-840a-c478ec8f55f1\" xlink:type=\"simple\"><path d=\"M349,137.1 C349,156.8 349,184.22 349,205.73 \" fill=\"none\" id=\"E3-&gt;E4\" style=\"stroke: #A80036; stroke-width: 1.0; stroke-dasharray: 7.0,7.0;\"/><polygon fill=\"#A80036\" points=\"349,213.95,352,205.95,346,205.95,349,213.95\" style=\"stroke: #A80036; stroke-width: 1.0;\"/><text fill=\"#000000\" font-family=\"sans-serif\" font-size=\"13\" lengthAdjust=\"spacingAndGlyphs\" textLength=\"64\" x=\"350\" y=\"180.0669\">«depend»</text></a><!--MD5=[1b7591eae5389033d8d09a9d6721a717]\n",
       "link E4 to E5--><a href=\"psysml:aeab59fe-e3bd-4e23-96a4-136d0d468de6\" target=\"_top\" title=\"psysml:aeab59fe-e3bd-4e23-96a4-136d0d468de6\" xlink:actuate=\"onRequest\" xlink:href=\"psysml:aeab59fe-e3bd-4e23-96a4-136d0d468de6\" xlink:show=\"new\" xlink:title=\"psysml:aeab59fe-e3bd-4e23-96a4-136d0d468de6\" xlink:type=\"simple\"><path d=\"M349,267.1 C349,286.8 349,314.22 349,335.73 \" fill=\"none\" id=\"E4-&gt;E5\" style=\"stroke: #A80036; stroke-width: 1.0; stroke-dasharray: 7.0,7.0;\"/><polygon fill=\"#A80036\" points=\"349,343.95,352,335.95,346,335.95,349,343.95\" style=\"stroke: #A80036; stroke-width: 1.0;\"/><text fill=\"#000000\" font-family=\"sans-serif\" font-size=\"13\" lengthAdjust=\"spacingAndGlyphs\" textLength=\"64\" x=\"350\" y=\"310.0669\">«depend»</text></a><!--MD5=[c5e8897d989ce984f93528998a7150fe]\n",
       "link E8 to E6--><a href=\"psysml:e01a683f-5a6a-44b0-a0de-a423aeb5ad40\" target=\"_top\" title=\"psysml:e01a683f-5a6a-44b0-a0de-a423aeb5ad40\" xlink:actuate=\"onRequest\" xlink:href=\"psysml:e01a683f-5a6a-44b0-a0de-a423aeb5ad40\" xlink:show=\"new\" xlink:title=\"psysml:e01a683f-5a6a-44b0-a0de-a423aeb5ad40\" xlink:type=\"simple\"><path d=\"M89.42,133.6 C79.35,142.68 69.37,154.11 64,167 C58.5,180.2 58.66,195.94 60.54,209.38 \" fill=\"none\" id=\"E8-&gt;E6\" style=\"stroke: #A80036; stroke-width: 1.0; stroke-dasharray: 7.0,7.0;\"/><polygon fill=\"#A80036\" points=\"61.9,217.4,63.517,209.0104,57.6018,210.0159,61.9,217.4\" style=\"stroke: #A80036; stroke-width: 1.0;\"/><text fill=\"#000000\" font-family=\"sans-serif\" font-size=\"13\" lengthAdjust=\"spacingAndGlyphs\" textLength=\"64\" x=\"65\" y=\"180.0669\">«depend»</text></a><!--MD5=[bfa3c8b0d15052fdf50ae9310b491027]\n",
       "link E8 to E7--><a href=\"psysml:e01a683f-5a6a-44b0-a0de-a423aeb5ad40\" target=\"_top\" title=\"psysml:e01a683f-5a6a-44b0-a0de-a423aeb5ad40\" xlink:actuate=\"onRequest\" xlink:href=\"psysml:e01a683f-5a6a-44b0-a0de-a423aeb5ad40\" xlink:show=\"new\" xlink:title=\"psysml:e01a683f-5a6a-44b0-a0de-a423aeb5ad40\" xlink:type=\"simple\"><path d=\"M129.28,133.5 C138.17,154.57 151.64,186.5 161.47,209.81 \" fill=\"none\" id=\"E8-&gt;E7\" style=\"stroke: #A80036; stroke-width: 1.0; stroke-dasharray: 7.0,7.0;\"/><polygon fill=\"#A80036\" points=\"164.66,217.35,164.3241,208.8126,158.7933,211.1385,164.66,217.35\" style=\"stroke: #A80036; stroke-width: 1.0;\"/><text fill=\"#000000\" font-family=\"sans-serif\" font-size=\"13\" lengthAdjust=\"spacingAndGlyphs\" textLength=\"64\" x=\"151\" y=\"180.0669\">«depend»</text></a><!--MD5=[61090f1b0c4687a29613aa5b5c2da621]\n",
       "@startuml\r\n",
       "skinparam wrapWidth 300\r\n",
       "hide circle\r\n",
       "\r\n",
       "package \"DependencyTest\" as E1  [[psysml:c069fb4a-0cab-46ce-ae30-79221b6c6030 ]]  {\r\n",
       "package \"System\" as E2  [[psysml:0036a7be-5206-4df9-ab28-301972427778 ]]  {\r\n",
       "package \"Application Layer\" as E3  [[psysml:b9058297-d753-442e-8571-9bee33c166c8 ]]  {\r\n",
       "}\r\n",
       "package \"Service Layer\" as E4  [[psysml:f007974c-308f-4828-8f2c-f39213f4e302 ]]  {\r\n",
       "}\r\n",
       "package \"Data Layer\" as E5  [[psysml:7870e797-441e-4743-978b-6b23dab0b8d1 ]]  {\r\n",
       "}\r\n",
       "}\r\n",
       "comp usage \"x\" as E6  <<(T,blue)attribute>> [[psysml:ca3c2c7b-3718-4538-a84c-29984e19a6f6 ]] {\r\n",
       "}\r\n",
       "comp usage \"y\" as E7  <<(T,blue)attribute>> [[psysml:f187cc38-895f-43c9-b55f-372a79474975 ]] {\r\n",
       "}\r\n",
       "comp usage \"z\" as E8  <<(T,blue)attribute>> [[psysml:c8a5167c-621d-4bfa-8ffa-e3ed6a854bed ]] {\r\n",
       "}\r\n",
       "E3 ..>> E4 [[psysml:af0245ca-a479-404d-840a-c478ec8f55f1 ]] : <<depend>>\r\n",
       "E4 ..>> E5 [[psysml:aeab59fe-e3bd-4e23-96a4-136d0d468de6 ]] : <<depend>>\r\n",
       "E8 ..>> E6 [[psysml:e01a683f-5a6a-44b0-a0de-a423aeb5ad40 ]] : <<depend>>\r\n",
       "E8 ..>> E7 [[psysml:e01a683f-5a6a-44b0-a0de-a423aeb5ad40 ]] : <<depend>>\r\n",
       "}\r\n",
       "@enduml\r\n",
       "\n",
       "PlantUML version 1.2020.13(Sat Jun 13 12:26:38 UTC 2020)\n",
       "(EPL source distribution)\n",
       "Java Runtime: OpenJDK Runtime Environment\n",
       "JVM: OpenJDK 64-Bit Server VM\n",
       "Default Encoding: UTF-8\n",
       "Language: en\n",
       "Country: null\n",
       "--></g></svg>"
      ]
     },
     "execution_count": 29,
     "metadata": {},
     "output_type": "execute_result"
    }
   ],
   "source": [
    "%viz --style=\"STDCOLOR\" --view=\"MIXED\" \"DependencyTest\""
   ]
  },
  {
   "cell_type": "code",
   "execution_count": 30,
   "id": "saved-drill",
   "metadata": {
    "execution": {
     "iopub.execute_input": "2021-03-26T13:04:34.050614Z",
     "iopub.status.busy": "2021-03-26T13:04:34.049819Z",
     "iopub.status.idle": "2021-03-26T13:04:34.098047Z",
     "shell.execute_reply": "2021-03-26T13:04:34.098383Z"
    }
   },
   "outputs": [
    {
     "data": {
      "image/svg+xml": [
       "<?xml version=\"1.0\" encoding=\"UTF-8\" standalone=\"no\"?><svg xmlns=\"http://www.w3.org/2000/svg\" xmlns:xlink=\"http://www.w3.org/1999/xlink\" contentScriptType=\"application/ecmascript\" contentStyleType=\"text/css\" height=\"449px\" preserveAspectRatio=\"none\" style=\"width:510px;height:449px;\" version=\"1.1\" viewBox=\"0 0 510 449\" width=\"510px\" zoomAndPan=\"magnify\"><defs><filter height=\"300%\" id=\"f1b3p0fd8hdu9b\" width=\"300%\" x=\"-1\" y=\"-1\"><feGaussianBlur result=\"blurOut\" stdDeviation=\"2.0\"/><feColorMatrix in=\"blurOut\" result=\"blurOut2\" type=\"matrix\" values=\"0 0 0 0 0 0 0 0 0 0 0 0 0 0 0 0 0 0 .4 0\"/><feOffset dx=\"4.0\" dy=\"4.0\" in=\"blurOut2\" result=\"blurOut3\"/><feBlend in=\"SourceGraphic\" in2=\"blurOut3\" mode=\"normal\"/></filter></defs><g><!--MD5=[fbc87193dbaf4d95561dea2c320d4a47]\n",
       "cluster E1--><a href=\"psysml:c069fb4a-0cab-46ce-ae30-79221b6c6030\" target=\"_top\" title=\"psysml:c069fb4a-0cab-46ce-ae30-79221b6c6030\" xlink:actuate=\"onRequest\" xlink:href=\"psysml:c069fb4a-0cab-46ce-ae30-79221b6c6030\" xlink:show=\"new\" xlink:title=\"psysml:c069fb4a-0cab-46ce-ae30-79221b6c6030\" xlink:type=\"simple\"><polygon fill=\"#FFFFFF\" filter=\"url(#f1b3p0fd8hdu9b)\" points=\"16,6,156,6,163,28.2969,488,28.2969,488,437,16,437,16,6\" style=\"stroke: #000000; stroke-width: 1.5;\"/><line style=\"stroke: #000000; stroke-width: 1.5;\" x1=\"16\" x2=\"163\" y1=\"28.2969\" y2=\"28.2969\"/><text fill=\"#000000\" font-family=\"sans-serif\" font-size=\"14\" font-weight=\"bold\" lengthAdjust=\"spacingAndGlyphs\" textLength=\"134\" x=\"20\" y=\"20.9951\">DependencyTest</text></a><!--MD5=[e4f7fae6ed58524ba242bb0b0d3be6b7]\n",
       "cluster E2--><a href=\"psysml:0036a7be-5206-4df9-ab28-301972427778\" target=\"_top\" title=\"psysml:0036a7be-5206-4df9-ab28-301972427778\" xlink:actuate=\"onRequest\" xlink:href=\"psysml:0036a7be-5206-4df9-ab28-301972427778\" xlink:show=\"new\" xlink:title=\"psysml:0036a7be-5206-4df9-ab28-301972427778\" xlink:type=\"simple\"><polygon fill=\"#FFFFFF\" filter=\"url(#f1b3p0fd8hdu9b)\" points=\"276,49,340,49,347,71.2969,464,71.2969,464,413,276,413,276,49\" style=\"stroke: #000000; stroke-width: 1.5;\"/><line style=\"stroke: #000000; stroke-width: 1.5;\" x1=\"276\" x2=\"347\" y1=\"71.2969\" y2=\"71.2969\"/><text fill=\"#000000\" font-family=\"sans-serif\" font-size=\"14\" font-weight=\"bold\" lengthAdjust=\"spacingAndGlyphs\" textLength=\"58\" x=\"280\" y=\"63.9951\">System</text></a><!--MD5=[60a26617385b1d2d0262a64233df1f8d]\n",
       "class E6--><a href=\"psysml:ca3c2c7b-3718-4538-a84c-29984e19a6f6\" target=\"_top\" title=\"psysml:ca3c2c7b-3718-4538-a84c-29984e19a6f6\" xlink:actuate=\"onRequest\" xlink:href=\"psysml:ca3c2c7b-3718-4538-a84c-29984e19a6f6\" xlink:show=\"new\" xlink:title=\"psysml:ca3c2c7b-3718-4538-a84c-29984e19a6f6\" xlink:type=\"simple\"><rect fill=\"#FEFECE\" filter=\"url(#f1b3p0fd8hdu9b)\" height=\"45.9375\" id=\"E6\" rx=\"10\" ry=\"10\" style=\"stroke: #A80036; stroke-width: 1.5;\" width=\"97\" x=\"31.5\" y=\"217.5\"/><ellipse cx=\"46.5\" cy=\"236.4688\" fill=\"#FFA500\" rx=\"11\" ry=\"11\" style=\"stroke: #A80036; stroke-width: 1.0;\"/><path d=\"M42.375,238.3906 L42.375,230.5781 L44.8281,230.5781 L44.8281,239.0156 Q44.8281,239.9375 45.2969,240.4688 Q45.7813,241 46.6094,241 Q47.4531,241 47.9219,240.4688 Q48.3906,239.9375 48.3906,239.0156 L48.3906,230.5781 L50.8438,230.5781 L50.8438,238.3906 Q50.8438,240.9219 49.8438,242.0625 Q48.8438,243.2031 46.6094,243.2031 Q44.3906,243.2031 43.375,242.0625 Q42.375,240.9219 42.375,238.3906 Z \"/><text fill=\"#000000\" font-family=\"sans-serif\" font-size=\"12\" font-style=\"italic\" lengthAdjust=\"spacingAndGlyphs\" textLength=\"69\" x=\"58.5\" y=\"233.6387\">«attribute»</text><text fill=\"#000000\" font-family=\"sans-serif\" font-size=\"12\" lengthAdjust=\"spacingAndGlyphs\" textLength=\"6\" x=\"90\" y=\"247.6074\">x</text><line style=\"stroke: #A80036; stroke-width: 1.5;\" x1=\"32.5\" x2=\"127.5\" y1=\"255.4375\" y2=\"255.4375\"/></a><!--MD5=[2156ba9850f5573cc1fc38a6a4b2f02b]\n",
       "class E7--><a href=\"psysml:f187cc38-895f-43c9-b55f-372a79474975\" target=\"_top\" title=\"psysml:f187cc38-895f-43c9-b55f-372a79474975\" xlink:actuate=\"onRequest\" xlink:href=\"psysml:f187cc38-895f-43c9-b55f-372a79474975\" xlink:show=\"new\" xlink:title=\"psysml:f187cc38-895f-43c9-b55f-372a79474975\" xlink:type=\"simple\"><rect fill=\"#FEFECE\" filter=\"url(#f1b3p0fd8hdu9b)\" height=\"45.9375\" id=\"E7\" rx=\"10\" ry=\"10\" style=\"stroke: #A80036; stroke-width: 1.5;\" width=\"97\" x=\"163.5\" y=\"217.5\"/><ellipse cx=\"178.5\" cy=\"236.4688\" fill=\"#FFA500\" rx=\"11\" ry=\"11\" style=\"stroke: #A80036; stroke-width: 1.0;\"/><path d=\"M174.375,238.3906 L174.375,230.5781 L176.8281,230.5781 L176.8281,239.0156 Q176.8281,239.9375 177.2969,240.4688 Q177.7813,241 178.6094,241 Q179.4531,241 179.9219,240.4688 Q180.3906,239.9375 180.3906,239.0156 L180.3906,230.5781 L182.8438,230.5781 L182.8438,238.3906 Q182.8438,240.9219 181.8438,242.0625 Q180.8438,243.2031 178.6094,243.2031 Q176.3906,243.2031 175.375,242.0625 Q174.375,240.9219 174.375,238.3906 Z \"/><text fill=\"#000000\" font-family=\"sans-serif\" font-size=\"12\" font-style=\"italic\" lengthAdjust=\"spacingAndGlyphs\" textLength=\"69\" x=\"190.5\" y=\"233.6387\">«attribute»</text><text fill=\"#000000\" font-family=\"sans-serif\" font-size=\"12\" lengthAdjust=\"spacingAndGlyphs\" textLength=\"6\" x=\"222\" y=\"247.6074\">y</text><line style=\"stroke: #A80036; stroke-width: 1.5;\" x1=\"164.5\" x2=\"259.5\" y1=\"255.4375\" y2=\"255.4375\"/></a><!--MD5=[b9389687b975829384b498ac4b7476b2]\n",
       "class E8--><a href=\"psysml:c8a5167c-621d-4bfa-8ffa-e3ed6a854bed\" target=\"_top\" title=\"psysml:c8a5167c-621d-4bfa-8ffa-e3ed6a854bed\" xlink:actuate=\"onRequest\" xlink:href=\"psysml:c8a5167c-621d-4bfa-8ffa-e3ed6a854bed\" xlink:show=\"new\" xlink:title=\"psysml:c8a5167c-621d-4bfa-8ffa-e3ed6a854bed\" xlink:type=\"simple\"><rect fill=\"#FEFECE\" filter=\"url(#f1b3p0fd8hdu9b)\" height=\"45.9375\" id=\"E8\" rx=\"10\" ry=\"10\" style=\"stroke: #A80036; stroke-width: 1.5;\" width=\"97\" x=\"84.5\" y=\"87.5\"/><ellipse cx=\"99.5\" cy=\"106.4688\" fill=\"#FFA500\" rx=\"11\" ry=\"11\" style=\"stroke: #A80036; stroke-width: 1.0;\"/><path d=\"M95.375,108.3906 L95.375,100.5781 L97.8281,100.5781 L97.8281,109.0156 Q97.8281,109.9375 98.2969,110.4688 Q98.7813,111 99.6094,111 Q100.4531,111 100.9219,110.4688 Q101.3906,109.9375 101.3906,109.0156 L101.3906,100.5781 L103.8438,100.5781 L103.8438,108.3906 Q103.8438,110.9219 102.8438,112.0625 Q101.8438,113.2031 99.6094,113.2031 Q97.3906,113.2031 96.375,112.0625 Q95.375,110.9219 95.375,108.3906 Z \"/><text fill=\"#000000\" font-family=\"sans-serif\" font-size=\"12\" font-style=\"italic\" lengthAdjust=\"spacingAndGlyphs\" textLength=\"69\" x=\"111.5\" y=\"103.6387\">«attribute»</text><text fill=\"#000000\" font-family=\"sans-serif\" font-size=\"12\" lengthAdjust=\"spacingAndGlyphs\" textLength=\"5\" x=\"143.5\" y=\"117.6074\">z</text><line style=\"stroke: #A80036; stroke-width: 1.5;\" x1=\"85.5\" x2=\"180.5\" y1=\"125.4375\" y2=\"125.4375\"/></a><a href=\"psysml:b9058297-d753-442e-8571-9bee33c166c8\" target=\"_top\" title=\"psysml:b9058297-d753-442e-8571-9bee33c166c8\" xlink:actuate=\"onRequest\" xlink:href=\"psysml:b9058297-d753-442e-8571-9bee33c166c8\" xlink:show=\"new\" xlink:title=\"psysml:b9058297-d753-442e-8571-9bee33c166c8\" xlink:type=\"simple\"><polygon fill=\"#FFFFFF\" filter=\"url(#f1b3p0fd8hdu9b)\" points=\"292,84,434,84,441,106.2969,448,106.2969,448,136.5938,292,136.5938,292,84\" style=\"stroke: #000000; stroke-width: 1.5;\"/><line style=\"stroke: #000000; stroke-width: 1.5;\" x1=\"292\" x2=\"441\" y1=\"106.2969\" y2=\"106.2969\"/><text fill=\"#000000\" font-family=\"sans-serif\" font-size=\"14\" font-weight=\"bold\" lengthAdjust=\"spacingAndGlyphs\" textLength=\"136\" x=\"296\" y=\"98.9951\">Application Layer</text></a><a href=\"psysml:f007974c-308f-4828-8f2c-f39213f4e302\" target=\"_top\" title=\"psysml:f007974c-308f-4828-8f2c-f39213f4e302\" xlink:actuate=\"onRequest\" xlink:href=\"psysml:f007974c-308f-4828-8f2c-f39213f4e302\" xlink:show=\"new\" xlink:title=\"psysml:f007974c-308f-4828-8f2c-f39213f4e302\" xlink:type=\"simple\"><polygon fill=\"#FFFFFF\" filter=\"url(#f1b3p0fd8hdu9b)\" points=\"306,214,420,214,427,236.2969,434,236.2969,434,266.5938,306,266.5938,306,214\" style=\"stroke: #000000; stroke-width: 1.5;\"/><line style=\"stroke: #000000; stroke-width: 1.5;\" x1=\"306\" x2=\"427\" y1=\"236.2969\" y2=\"236.2969\"/><text fill=\"#000000\" font-family=\"sans-serif\" font-size=\"14\" font-weight=\"bold\" lengthAdjust=\"spacingAndGlyphs\" textLength=\"108\" x=\"310\" y=\"228.9951\">Service Layer</text></a><a href=\"psysml:7870e797-441e-4743-978b-6b23dab0b8d1\" target=\"_top\" title=\"psysml:7870e797-441e-4743-978b-6b23dab0b8d1\" xlink:actuate=\"onRequest\" xlink:href=\"psysml:7870e797-441e-4743-978b-6b23dab0b8d1\" xlink:show=\"new\" xlink:title=\"psysml:7870e797-441e-4743-978b-6b23dab0b8d1\" xlink:type=\"simple\"><polygon fill=\"#FFFFFF\" filter=\"url(#f1b3p0fd8hdu9b)\" points=\"318,344,408,344,415,366.2969,422,366.2969,422,396.5938,318,396.5938,318,344\" style=\"stroke: #000000; stroke-width: 1.5;\"/><line style=\"stroke: #000000; stroke-width: 1.5;\" x1=\"318\" x2=\"415\" y1=\"366.2969\" y2=\"366.2969\"/><text fill=\"#000000\" font-family=\"sans-serif\" font-size=\"14\" font-weight=\"bold\" lengthAdjust=\"spacingAndGlyphs\" textLength=\"84\" x=\"322\" y=\"358.9951\">Data Layer</text></a><!--MD5=[af87c684e3b0d8be13c1a698a818ef1e]\n",
       "link E3 to E4--><a href=\"psysml:af0245ca-a479-404d-840a-c478ec8f55f1\" target=\"_top\" title=\"psysml:af0245ca-a479-404d-840a-c478ec8f55f1\" xlink:actuate=\"onRequest\" xlink:href=\"psysml:af0245ca-a479-404d-840a-c478ec8f55f1\" xlink:show=\"new\" xlink:title=\"psysml:af0245ca-a479-404d-840a-c478ec8f55f1\" xlink:type=\"simple\"><path d=\"M370,137.1 C370,156.8 370,184.22 370,205.73 \" fill=\"none\" id=\"E3-&gt;E4\" style=\"stroke: #A80036; stroke-width: 1.0; stroke-dasharray: 7.0,7.0;\"/><polygon fill=\"#A80036\" points=\"370,213.95,373,205.95,367,205.95,370,213.95\" style=\"stroke: #A80036; stroke-width: 1.0;\"/><text fill=\"#000000\" font-family=\"sans-serif\" font-size=\"13\" lengthAdjust=\"spacingAndGlyphs\" textLength=\"64\" x=\"371\" y=\"180.0669\">«depend»</text></a><!--MD5=[1b7591eae5389033d8d09a9d6721a717]\n",
       "link E4 to E5--><a href=\"psysml:aeab59fe-e3bd-4e23-96a4-136d0d468de6\" target=\"_top\" title=\"psysml:aeab59fe-e3bd-4e23-96a4-136d0d468de6\" xlink:actuate=\"onRequest\" xlink:href=\"psysml:aeab59fe-e3bd-4e23-96a4-136d0d468de6\" xlink:show=\"new\" xlink:title=\"psysml:aeab59fe-e3bd-4e23-96a4-136d0d468de6\" xlink:type=\"simple\"><path d=\"M370,267.1 C370,286.8 370,314.22 370,335.73 \" fill=\"none\" id=\"E4-&gt;E5\" style=\"stroke: #A80036; stroke-width: 1.0; stroke-dasharray: 7.0,7.0;\"/><polygon fill=\"#A80036\" points=\"370,343.95,373,335.95,367,335.95,370,343.95\" style=\"stroke: #A80036; stroke-width: 1.0;\"/><text fill=\"#000000\" font-family=\"sans-serif\" font-size=\"13\" lengthAdjust=\"spacingAndGlyphs\" textLength=\"64\" x=\"371\" y=\"310.0669\">«depend»</text></a><!--MD5=[c5e8897d989ce984f93528998a7150fe]\n",
       "link E8 to E6--><a href=\"psysml:e01a683f-5a6a-44b0-a0de-a423aeb5ad40\" target=\"_top\" title=\"psysml:e01a683f-5a6a-44b0-a0de-a423aeb5ad40\" xlink:actuate=\"onRequest\" xlink:href=\"psysml:e01a683f-5a6a-44b0-a0de-a423aeb5ad40\" xlink:show=\"new\" xlink:title=\"psysml:e01a683f-5a6a-44b0-a0de-a423aeb5ad40\" xlink:type=\"simple\"><path d=\"M106.44,133.76 C97.3,143.01 88.09,154.51 83,167 C77.6,180.23 76.4,195.98 76.73,209.41 \" fill=\"none\" id=\"E8-&gt;E6\" style=\"stroke: #A80036; stroke-width: 1.0; stroke-dasharray: 7.0,7.0;\"/><polygon fill=\"#A80036\" points=\"77.12,217.43,79.7306,209.2946,73.7375,209.584,77.12,217.43\" style=\"stroke: #A80036; stroke-width: 1.0;\"/><text fill=\"#000000\" font-family=\"sans-serif\" font-size=\"13\" lengthAdjust=\"spacingAndGlyphs\" textLength=\"64\" x=\"84\" y=\"180.0669\">«depend»</text></a><!--MD5=[bfa3c8b0d15052fdf50ae9310b491027]\n",
       "link E8 to E7--><a href=\"psysml:e01a683f-5a6a-44b0-a0de-a423aeb5ad40\" target=\"_top\" title=\"psysml:e01a683f-5a6a-44b0-a0de-a423aeb5ad40\" xlink:actuate=\"onRequest\" xlink:href=\"psysml:e01a683f-5a6a-44b0-a0de-a423aeb5ad40\" xlink:show=\"new\" xlink:title=\"psysml:e01a683f-5a6a-44b0-a0de-a423aeb5ad40\" xlink:type=\"simple\"><path d=\"M146.58,133.5 C159.69,154.75 179.63,187.05 194.05,210.41 \" fill=\"none\" id=\"E8-&gt;E7\" style=\"stroke: #A80036; stroke-width: 1.0; stroke-dasharray: 7.0,7.0;\"/><polygon fill=\"#A80036\" points=\"198.33,217.35,196.6785,208.9671,191.5737,212.1201,198.33,217.35\" style=\"stroke: #A80036; stroke-width: 1.0;\"/><text fill=\"#000000\" font-family=\"sans-serif\" font-size=\"13\" lengthAdjust=\"spacingAndGlyphs\" textLength=\"64\" x=\"178\" y=\"180.0669\">«depend»</text></a><!--MD5=[c325543f2473850a3eb1255602cc3036]\n",
       "@startuml\r\n",
       " \r\n",
       "package \"DependencyTest\" as E1  [[psysml:c069fb4a-0cab-46ce-ae30-79221b6c6030 ]]  {\r\n",
       "package \"System\" as E2  [[psysml:0036a7be-5206-4df9-ab28-301972427778 ]]  {\r\n",
       "package \"Application Layer\" as E3  [[psysml:b9058297-d753-442e-8571-9bee33c166c8 ]]  {\r\n",
       "}\r\n",
       "package \"Service Layer\" as E4  [[psysml:f007974c-308f-4828-8f2c-f39213f4e302 ]]  {\r\n",
       "}\r\n",
       "package \"Data Layer\" as E5  [[psysml:7870e797-441e-4743-978b-6b23dab0b8d1 ]]  {\r\n",
       "}\r\n",
       "}\r\n",
       "comp usage \"x\" as E6  <<(U,orange)attribute>> [[psysml:ca3c2c7b-3718-4538-a84c-29984e19a6f6 ]] {\r\n",
       "}\r\n",
       "comp usage \"y\" as E7  <<(U,orange)attribute>> [[psysml:f187cc38-895f-43c9-b55f-372a79474975 ]] {\r\n",
       "}\r\n",
       "comp usage \"z\" as E8  <<(U,orange)attribute>> [[psysml:c8a5167c-621d-4bfa-8ffa-e3ed6a854bed ]] {\r\n",
       "}\r\n",
       "E3 ..>> E4 [[psysml:af0245ca-a479-404d-840a-c478ec8f55f1 ]] : <<depend>>\r\n",
       "E4 ..>> E5 [[psysml:aeab59fe-e3bd-4e23-96a4-136d0d468de6 ]] : <<depend>>\r\n",
       "E8 ..>> E6 [[psysml:e01a683f-5a6a-44b0-a0de-a423aeb5ad40 ]] : <<depend>>\r\n",
       "E8 ..>> E7 [[psysml:e01a683f-5a6a-44b0-a0de-a423aeb5ad40 ]] : <<depend>>\r\n",
       "}\r\n",
       "@enduml\r\n",
       "\n",
       "PlantUML version 1.2020.13(Sat Jun 13 12:26:38 UTC 2020)\n",
       "(EPL source distribution)\n",
       "Java Runtime: OpenJDK Runtime Environment\n",
       "JVM: OpenJDK 64-Bit Server VM\n",
       "Default Encoding: UTF-8\n",
       "Language: en\n",
       "Country: null\n",
       "--></g></svg>"
      ]
     },
     "execution_count": 30,
     "metadata": {},
     "output_type": "execute_result"
    }
   ],
   "source": [
    "%viz --style=\"PLANTUML\" --view=\"Default\" \"DependencyTest\""
   ]
  },
  {
   "cell_type": "code",
   "execution_count": 31,
   "id": "fallen-corrections",
   "metadata": {
    "execution": {
     "iopub.execute_input": "2021-03-26T13:04:34.153308Z",
     "iopub.status.busy": "2021-03-26T13:04:34.152452Z",
     "iopub.status.idle": "2021-03-26T13:04:34.184858Z",
     "shell.execute_reply": "2021-03-26T13:04:34.183621Z"
    }
   },
   "outputs": [
    {
     "data": {
      "image/svg+xml": [
       "<?xml version=\"1.0\" encoding=\"UTF-8\" standalone=\"no\"?><svg xmlns=\"http://www.w3.org/2000/svg\" xmlns:xlink=\"http://www.w3.org/1999/xlink\" contentScriptType=\"application/ecmascript\" contentStyleType=\"text/css\" height=\"449px\" preserveAspectRatio=\"none\" style=\"width:510px;height:449px;\" version=\"1.1\" viewBox=\"0 0 510 449\" width=\"510px\" zoomAndPan=\"magnify\"><defs><filter height=\"300%\" id=\"f1b3p0fd8hdu9b\" width=\"300%\" x=\"-1\" y=\"-1\"><feGaussianBlur result=\"blurOut\" stdDeviation=\"2.0\"/><feColorMatrix in=\"blurOut\" result=\"blurOut2\" type=\"matrix\" values=\"0 0 0 0 0 0 0 0 0 0 0 0 0 0 0 0 0 0 .4 0\"/><feOffset dx=\"4.0\" dy=\"4.0\" in=\"blurOut2\" result=\"blurOut3\"/><feBlend in=\"SourceGraphic\" in2=\"blurOut3\" mode=\"normal\"/></filter></defs><g><!--MD5=[fbc87193dbaf4d95561dea2c320d4a47]\n",
       "cluster E1--><a href=\"psysml:c069fb4a-0cab-46ce-ae30-79221b6c6030\" target=\"_top\" title=\"psysml:c069fb4a-0cab-46ce-ae30-79221b6c6030\" xlink:actuate=\"onRequest\" xlink:href=\"psysml:c069fb4a-0cab-46ce-ae30-79221b6c6030\" xlink:show=\"new\" xlink:title=\"psysml:c069fb4a-0cab-46ce-ae30-79221b6c6030\" xlink:type=\"simple\"><polygon fill=\"#FFFFFF\" filter=\"url(#f1b3p0fd8hdu9b)\" points=\"16,6,156,6,163,28.2969,488,28.2969,488,437,16,437,16,6\" style=\"stroke: #000000; stroke-width: 1.5;\"/><line style=\"stroke: #000000; stroke-width: 1.5;\" x1=\"16\" x2=\"163\" y1=\"28.2969\" y2=\"28.2969\"/><text fill=\"#000000\" font-family=\"sans-serif\" font-size=\"14\" font-weight=\"bold\" lengthAdjust=\"spacingAndGlyphs\" textLength=\"134\" x=\"20\" y=\"20.9951\">DependencyTest</text></a><!--MD5=[e4f7fae6ed58524ba242bb0b0d3be6b7]\n",
       "cluster E2--><a href=\"psysml:0036a7be-5206-4df9-ab28-301972427778\" target=\"_top\" title=\"psysml:0036a7be-5206-4df9-ab28-301972427778\" xlink:actuate=\"onRequest\" xlink:href=\"psysml:0036a7be-5206-4df9-ab28-301972427778\" xlink:show=\"new\" xlink:title=\"psysml:0036a7be-5206-4df9-ab28-301972427778\" xlink:type=\"simple\"><polygon fill=\"#FFFFFF\" filter=\"url(#f1b3p0fd8hdu9b)\" points=\"276,49,340,49,347,71.2969,464,71.2969,464,413,276,413,276,49\" style=\"stroke: #000000; stroke-width: 1.5;\"/><line style=\"stroke: #000000; stroke-width: 1.5;\" x1=\"276\" x2=\"347\" y1=\"71.2969\" y2=\"71.2969\"/><text fill=\"#000000\" font-family=\"sans-serif\" font-size=\"14\" font-weight=\"bold\" lengthAdjust=\"spacingAndGlyphs\" textLength=\"58\" x=\"280\" y=\"63.9951\">System</text></a><!--MD5=[60a26617385b1d2d0262a64233df1f8d]\n",
       "class E6--><a href=\"psysml:ca3c2c7b-3718-4538-a84c-29984e19a6f6\" target=\"_top\" title=\"psysml:ca3c2c7b-3718-4538-a84c-29984e19a6f6\" xlink:actuate=\"onRequest\" xlink:href=\"psysml:ca3c2c7b-3718-4538-a84c-29984e19a6f6\" xlink:show=\"new\" xlink:title=\"psysml:ca3c2c7b-3718-4538-a84c-29984e19a6f6\" xlink:type=\"simple\"><rect fill=\"#FEFECE\" filter=\"url(#f1b3p0fd8hdu9b)\" height=\"45.9375\" id=\"E6\" rx=\"10\" ry=\"10\" style=\"stroke: #A80036; stroke-width: 1.5;\" width=\"97\" x=\"31.5\" y=\"217.5\"/><ellipse cx=\"46.5\" cy=\"236.4688\" fill=\"#FFA500\" rx=\"11\" ry=\"11\" style=\"stroke: #A80036; stroke-width: 1.0;\"/><path d=\"M42.375,238.3906 L42.375,230.5781 L44.8281,230.5781 L44.8281,239.0156 Q44.8281,239.9375 45.2969,240.4688 Q45.7813,241 46.6094,241 Q47.4531,241 47.9219,240.4688 Q48.3906,239.9375 48.3906,239.0156 L48.3906,230.5781 L50.8438,230.5781 L50.8438,238.3906 Q50.8438,240.9219 49.8438,242.0625 Q48.8438,243.2031 46.6094,243.2031 Q44.3906,243.2031 43.375,242.0625 Q42.375,240.9219 42.375,238.3906 Z \"/><text fill=\"#000000\" font-family=\"sans-serif\" font-size=\"12\" font-style=\"italic\" lengthAdjust=\"spacingAndGlyphs\" textLength=\"69\" x=\"58.5\" y=\"233.6387\">«attribute»</text><text fill=\"#000000\" font-family=\"sans-serif\" font-size=\"12\" lengthAdjust=\"spacingAndGlyphs\" textLength=\"6\" x=\"90\" y=\"247.6074\">x</text><line style=\"stroke: #A80036; stroke-width: 1.5;\" x1=\"32.5\" x2=\"127.5\" y1=\"255.4375\" y2=\"255.4375\"/></a><!--MD5=[2156ba9850f5573cc1fc38a6a4b2f02b]\n",
       "class E7--><a href=\"psysml:f187cc38-895f-43c9-b55f-372a79474975\" target=\"_top\" title=\"psysml:f187cc38-895f-43c9-b55f-372a79474975\" xlink:actuate=\"onRequest\" xlink:href=\"psysml:f187cc38-895f-43c9-b55f-372a79474975\" xlink:show=\"new\" xlink:title=\"psysml:f187cc38-895f-43c9-b55f-372a79474975\" xlink:type=\"simple\"><rect fill=\"#FEFECE\" filter=\"url(#f1b3p0fd8hdu9b)\" height=\"45.9375\" id=\"E7\" rx=\"10\" ry=\"10\" style=\"stroke: #A80036; stroke-width: 1.5;\" width=\"97\" x=\"163.5\" y=\"217.5\"/><ellipse cx=\"178.5\" cy=\"236.4688\" fill=\"#FFA500\" rx=\"11\" ry=\"11\" style=\"stroke: #A80036; stroke-width: 1.0;\"/><path d=\"M174.375,238.3906 L174.375,230.5781 L176.8281,230.5781 L176.8281,239.0156 Q176.8281,239.9375 177.2969,240.4688 Q177.7813,241 178.6094,241 Q179.4531,241 179.9219,240.4688 Q180.3906,239.9375 180.3906,239.0156 L180.3906,230.5781 L182.8438,230.5781 L182.8438,238.3906 Q182.8438,240.9219 181.8438,242.0625 Q180.8438,243.2031 178.6094,243.2031 Q176.3906,243.2031 175.375,242.0625 Q174.375,240.9219 174.375,238.3906 Z \"/><text fill=\"#000000\" font-family=\"sans-serif\" font-size=\"12\" font-style=\"italic\" lengthAdjust=\"spacingAndGlyphs\" textLength=\"69\" x=\"190.5\" y=\"233.6387\">«attribute»</text><text fill=\"#000000\" font-family=\"sans-serif\" font-size=\"12\" lengthAdjust=\"spacingAndGlyphs\" textLength=\"6\" x=\"222\" y=\"247.6074\">y</text><line style=\"stroke: #A80036; stroke-width: 1.5;\" x1=\"164.5\" x2=\"259.5\" y1=\"255.4375\" y2=\"255.4375\"/></a><!--MD5=[b9389687b975829384b498ac4b7476b2]\n",
       "class E8--><a href=\"psysml:c8a5167c-621d-4bfa-8ffa-e3ed6a854bed\" target=\"_top\" title=\"psysml:c8a5167c-621d-4bfa-8ffa-e3ed6a854bed\" xlink:actuate=\"onRequest\" xlink:href=\"psysml:c8a5167c-621d-4bfa-8ffa-e3ed6a854bed\" xlink:show=\"new\" xlink:title=\"psysml:c8a5167c-621d-4bfa-8ffa-e3ed6a854bed\" xlink:type=\"simple\"><rect fill=\"#FEFECE\" filter=\"url(#f1b3p0fd8hdu9b)\" height=\"45.9375\" id=\"E8\" rx=\"10\" ry=\"10\" style=\"stroke: #A80036; stroke-width: 1.5;\" width=\"97\" x=\"84.5\" y=\"87.5\"/><ellipse cx=\"99.5\" cy=\"106.4688\" fill=\"#FFA500\" rx=\"11\" ry=\"11\" style=\"stroke: #A80036; stroke-width: 1.0;\"/><path d=\"M95.375,108.3906 L95.375,100.5781 L97.8281,100.5781 L97.8281,109.0156 Q97.8281,109.9375 98.2969,110.4688 Q98.7813,111 99.6094,111 Q100.4531,111 100.9219,110.4688 Q101.3906,109.9375 101.3906,109.0156 L101.3906,100.5781 L103.8438,100.5781 L103.8438,108.3906 Q103.8438,110.9219 102.8438,112.0625 Q101.8438,113.2031 99.6094,113.2031 Q97.3906,113.2031 96.375,112.0625 Q95.375,110.9219 95.375,108.3906 Z \"/><text fill=\"#000000\" font-family=\"sans-serif\" font-size=\"12\" font-style=\"italic\" lengthAdjust=\"spacingAndGlyphs\" textLength=\"69\" x=\"111.5\" y=\"103.6387\">«attribute»</text><text fill=\"#000000\" font-family=\"sans-serif\" font-size=\"12\" lengthAdjust=\"spacingAndGlyphs\" textLength=\"5\" x=\"143.5\" y=\"117.6074\">z</text><line style=\"stroke: #A80036; stroke-width: 1.5;\" x1=\"85.5\" x2=\"180.5\" y1=\"125.4375\" y2=\"125.4375\"/></a><a href=\"psysml:b9058297-d753-442e-8571-9bee33c166c8\" target=\"_top\" title=\"psysml:b9058297-d753-442e-8571-9bee33c166c8\" xlink:actuate=\"onRequest\" xlink:href=\"psysml:b9058297-d753-442e-8571-9bee33c166c8\" xlink:show=\"new\" xlink:title=\"psysml:b9058297-d753-442e-8571-9bee33c166c8\" xlink:type=\"simple\"><polygon fill=\"#FFFFFF\" filter=\"url(#f1b3p0fd8hdu9b)\" points=\"292,84,434,84,441,106.2969,448,106.2969,448,136.5938,292,136.5938,292,84\" style=\"stroke: #000000; stroke-width: 1.5;\"/><line style=\"stroke: #000000; stroke-width: 1.5;\" x1=\"292\" x2=\"441\" y1=\"106.2969\" y2=\"106.2969\"/><text fill=\"#000000\" font-family=\"sans-serif\" font-size=\"14\" font-weight=\"bold\" lengthAdjust=\"spacingAndGlyphs\" textLength=\"136\" x=\"296\" y=\"98.9951\">Application Layer</text></a><a href=\"psysml:f007974c-308f-4828-8f2c-f39213f4e302\" target=\"_top\" title=\"psysml:f007974c-308f-4828-8f2c-f39213f4e302\" xlink:actuate=\"onRequest\" xlink:href=\"psysml:f007974c-308f-4828-8f2c-f39213f4e302\" xlink:show=\"new\" xlink:title=\"psysml:f007974c-308f-4828-8f2c-f39213f4e302\" xlink:type=\"simple\"><polygon fill=\"#FFFFFF\" filter=\"url(#f1b3p0fd8hdu9b)\" points=\"306,214,420,214,427,236.2969,434,236.2969,434,266.5938,306,266.5938,306,214\" style=\"stroke: #000000; stroke-width: 1.5;\"/><line style=\"stroke: #000000; stroke-width: 1.5;\" x1=\"306\" x2=\"427\" y1=\"236.2969\" y2=\"236.2969\"/><text fill=\"#000000\" font-family=\"sans-serif\" font-size=\"14\" font-weight=\"bold\" lengthAdjust=\"spacingAndGlyphs\" textLength=\"108\" x=\"310\" y=\"228.9951\">Service Layer</text></a><a href=\"psysml:7870e797-441e-4743-978b-6b23dab0b8d1\" target=\"_top\" title=\"psysml:7870e797-441e-4743-978b-6b23dab0b8d1\" xlink:actuate=\"onRequest\" xlink:href=\"psysml:7870e797-441e-4743-978b-6b23dab0b8d1\" xlink:show=\"new\" xlink:title=\"psysml:7870e797-441e-4743-978b-6b23dab0b8d1\" xlink:type=\"simple\"><polygon fill=\"#FFFFFF\" filter=\"url(#f1b3p0fd8hdu9b)\" points=\"318,344,408,344,415,366.2969,422,366.2969,422,396.5938,318,396.5938,318,344\" style=\"stroke: #000000; stroke-width: 1.5;\"/><line style=\"stroke: #000000; stroke-width: 1.5;\" x1=\"318\" x2=\"415\" y1=\"366.2969\" y2=\"366.2969\"/><text fill=\"#000000\" font-family=\"sans-serif\" font-size=\"14\" font-weight=\"bold\" lengthAdjust=\"spacingAndGlyphs\" textLength=\"84\" x=\"322\" y=\"358.9951\">Data Layer</text></a><!--MD5=[af87c684e3b0d8be13c1a698a818ef1e]\n",
       "link E3 to E4--><a href=\"psysml:af0245ca-a479-404d-840a-c478ec8f55f1\" target=\"_top\" title=\"psysml:af0245ca-a479-404d-840a-c478ec8f55f1\" xlink:actuate=\"onRequest\" xlink:href=\"psysml:af0245ca-a479-404d-840a-c478ec8f55f1\" xlink:show=\"new\" xlink:title=\"psysml:af0245ca-a479-404d-840a-c478ec8f55f1\" xlink:type=\"simple\"><path d=\"M370,137.1 C370,156.8 370,184.22 370,205.73 \" fill=\"none\" id=\"E3-&gt;E4\" style=\"stroke: #A80036; stroke-width: 1.0; stroke-dasharray: 7.0,7.0;\"/><polygon fill=\"#A80036\" points=\"370,213.95,373,205.95,367,205.95,370,213.95\" style=\"stroke: #A80036; stroke-width: 1.0;\"/><text fill=\"#000000\" font-family=\"sans-serif\" font-size=\"13\" lengthAdjust=\"spacingAndGlyphs\" textLength=\"64\" x=\"371\" y=\"180.0669\">«depend»</text></a><!--MD5=[1b7591eae5389033d8d09a9d6721a717]\n",
       "link E4 to E5--><a href=\"psysml:aeab59fe-e3bd-4e23-96a4-136d0d468de6\" target=\"_top\" title=\"psysml:aeab59fe-e3bd-4e23-96a4-136d0d468de6\" xlink:actuate=\"onRequest\" xlink:href=\"psysml:aeab59fe-e3bd-4e23-96a4-136d0d468de6\" xlink:show=\"new\" xlink:title=\"psysml:aeab59fe-e3bd-4e23-96a4-136d0d468de6\" xlink:type=\"simple\"><path d=\"M370,267.1 C370,286.8 370,314.22 370,335.73 \" fill=\"none\" id=\"E4-&gt;E5\" style=\"stroke: #A80036; stroke-width: 1.0; stroke-dasharray: 7.0,7.0;\"/><polygon fill=\"#A80036\" points=\"370,343.95,373,335.95,367,335.95,370,343.95\" style=\"stroke: #A80036; stroke-width: 1.0;\"/><text fill=\"#000000\" font-family=\"sans-serif\" font-size=\"13\" lengthAdjust=\"spacingAndGlyphs\" textLength=\"64\" x=\"371\" y=\"310.0669\">«depend»</text></a><!--MD5=[c5e8897d989ce984f93528998a7150fe]\n",
       "link E8 to E6--><a href=\"psysml:e01a683f-5a6a-44b0-a0de-a423aeb5ad40\" target=\"_top\" title=\"psysml:e01a683f-5a6a-44b0-a0de-a423aeb5ad40\" xlink:actuate=\"onRequest\" xlink:href=\"psysml:e01a683f-5a6a-44b0-a0de-a423aeb5ad40\" xlink:show=\"new\" xlink:title=\"psysml:e01a683f-5a6a-44b0-a0de-a423aeb5ad40\" xlink:type=\"simple\"><path d=\"M106.44,133.76 C97.3,143.01 88.09,154.51 83,167 C77.6,180.23 76.4,195.98 76.73,209.41 \" fill=\"none\" id=\"E8-&gt;E6\" style=\"stroke: #A80036; stroke-width: 1.0; stroke-dasharray: 7.0,7.0;\"/><polygon fill=\"#A80036\" points=\"77.12,217.43,79.7306,209.2946,73.7375,209.584,77.12,217.43\" style=\"stroke: #A80036; stroke-width: 1.0;\"/><text fill=\"#000000\" font-family=\"sans-serif\" font-size=\"13\" lengthAdjust=\"spacingAndGlyphs\" textLength=\"64\" x=\"84\" y=\"180.0669\">«depend»</text></a><!--MD5=[bfa3c8b0d15052fdf50ae9310b491027]\n",
       "link E8 to E7--><a href=\"psysml:e01a683f-5a6a-44b0-a0de-a423aeb5ad40\" target=\"_top\" title=\"psysml:e01a683f-5a6a-44b0-a0de-a423aeb5ad40\" xlink:actuate=\"onRequest\" xlink:href=\"psysml:e01a683f-5a6a-44b0-a0de-a423aeb5ad40\" xlink:show=\"new\" xlink:title=\"psysml:e01a683f-5a6a-44b0-a0de-a423aeb5ad40\" xlink:type=\"simple\"><path d=\"M146.58,133.5 C159.69,154.75 179.63,187.05 194.05,210.41 \" fill=\"none\" id=\"E8-&gt;E7\" style=\"stroke: #A80036; stroke-width: 1.0; stroke-dasharray: 7.0,7.0;\"/><polygon fill=\"#A80036\" points=\"198.33,217.35,196.6785,208.9671,191.5737,212.1201,198.33,217.35\" style=\"stroke: #A80036; stroke-width: 1.0;\"/><text fill=\"#000000\" font-family=\"sans-serif\" font-size=\"13\" lengthAdjust=\"spacingAndGlyphs\" textLength=\"64\" x=\"178\" y=\"180.0669\">«depend»</text></a><!--MD5=[c325543f2473850a3eb1255602cc3036]\n",
       "@startuml\r\n",
       " \r\n",
       "package \"DependencyTest\" as E1  [[psysml:c069fb4a-0cab-46ce-ae30-79221b6c6030 ]]  {\r\n",
       "package \"System\" as E2  [[psysml:0036a7be-5206-4df9-ab28-301972427778 ]]  {\r\n",
       "package \"Application Layer\" as E3  [[psysml:b9058297-d753-442e-8571-9bee33c166c8 ]]  {\r\n",
       "}\r\n",
       "package \"Service Layer\" as E4  [[psysml:f007974c-308f-4828-8f2c-f39213f4e302 ]]  {\r\n",
       "}\r\n",
       "package \"Data Layer\" as E5  [[psysml:7870e797-441e-4743-978b-6b23dab0b8d1 ]]  {\r\n",
       "}\r\n",
       "}\r\n",
       "comp usage \"x\" as E6  <<(U,orange)attribute>> [[psysml:ca3c2c7b-3718-4538-a84c-29984e19a6f6 ]] {\r\n",
       "}\r\n",
       "comp usage \"y\" as E7  <<(U,orange)attribute>> [[psysml:f187cc38-895f-43c9-b55f-372a79474975 ]] {\r\n",
       "}\r\n",
       "comp usage \"z\" as E8  <<(U,orange)attribute>> [[psysml:c8a5167c-621d-4bfa-8ffa-e3ed6a854bed ]] {\r\n",
       "}\r\n",
       "E3 ..>> E4 [[psysml:af0245ca-a479-404d-840a-c478ec8f55f1 ]] : <<depend>>\r\n",
       "E4 ..>> E5 [[psysml:aeab59fe-e3bd-4e23-96a4-136d0d468de6 ]] : <<depend>>\r\n",
       "E8 ..>> E6 [[psysml:e01a683f-5a6a-44b0-a0de-a423aeb5ad40 ]] : <<depend>>\r\n",
       "E8 ..>> E7 [[psysml:e01a683f-5a6a-44b0-a0de-a423aeb5ad40 ]] : <<depend>>\r\n",
       "}\r\n",
       "@enduml\r\n",
       "\n",
       "PlantUML version 1.2020.13(Sat Jun 13 12:26:38 UTC 2020)\n",
       "(EPL source distribution)\n",
       "Java Runtime: OpenJDK Runtime Environment\n",
       "JVM: OpenJDK 64-Bit Server VM\n",
       "Default Encoding: UTF-8\n",
       "Language: en\n",
       "Country: null\n",
       "--></g></svg>"
      ]
     },
     "execution_count": 31,
     "metadata": {},
     "output_type": "execute_result"
    }
   ],
   "source": [
    "%viz --style=\"PLANTUML\" --view=\"Tree\" \"DependencyTest\""
   ]
  },
  {
   "cell_type": "code",
   "execution_count": 32,
   "id": "dedicated-scene",
   "metadata": {
    "execution": {
     "iopub.execute_input": "2021-03-26T13:04:34.237489Z",
     "iopub.status.busy": "2021-03-26T13:04:34.236655Z",
     "iopub.status.idle": "2021-03-26T13:04:34.320863Z",
     "shell.execute_reply": "2021-03-26T13:04:34.321258Z"
    }
   },
   "outputs": [
    {
     "data": {
      "image/svg+xml": [
       "<?xml version=\"1.0\" encoding=\"UTF-8\" standalone=\"no\"?><svg xmlns=\"http://www.w3.org/2000/svg\" xmlns:xlink=\"http://www.w3.org/1999/xlink\" contentScriptType=\"application/ecmascript\" contentStyleType=\"text/css\" height=\"303px\" preserveAspectRatio=\"none\" style=\"width:603px;height:303px;background:#000000;\" version=\"1.1\" viewBox=\"0 0 603 303\" width=\"603px\" zoomAndPan=\"magnify\"><defs/><g><rect fill=\"#271915\" height=\"1\" style=\"stroke: #271915; stroke-width: 1.0;\" width=\"1\" x=\"0\" y=\"0\"/><rect fill=\"#FFFFFF\" height=\"205.5625\" style=\"stroke: #FFFFFF; stroke-width: 1.0;\" width=\"602\" x=\"0\" y=\"0\"/><text fill=\"#000000\" font-family=\"sans-serif\" font-size=\"12\" font-weight=\"bold\" lengthAdjust=\"spacingAndGlyphs\" textLength=\"159\" x=\"5\" y=\"16.1387\">Welcome to PlantUML!</text><text fill=\"#000000\" font-family=\"sans-serif\" font-size=\"12\" lengthAdjust=\"spacingAndGlyphs\" textLength=\"0\" x=\"9\" y=\"30.1074\"/><text fill=\"#000000\" font-family=\"sans-serif\" font-size=\"12\" lengthAdjust=\"spacingAndGlyphs\" textLength=\"293\" x=\"5\" y=\"44.0762\">If you use this software, you accept its license.</text><text fill=\"#000000\" font-family=\"sans-serif\" font-size=\"12\" lengthAdjust=\"spacingAndGlyphs\" textLength=\"107\" x=\"5\" y=\"58.0449\">(details by typing</text><text fill=\"#000000\" font-family=\"monospace\" font-size=\"12\" lengthAdjust=\"spacingAndGlyphs\" textLength=\"49\" x=\"116\" y=\"58.0449\">license</text><text fill=\"#000000\" font-family=\"sans-serif\" font-size=\"12\" lengthAdjust=\"spacingAndGlyphs\" textLength=\"56\" x=\"169\" y=\"58.0449\">keyword)</text><text fill=\"#000000\" font-family=\"sans-serif\" font-size=\"12\" lengthAdjust=\"spacingAndGlyphs\" textLength=\"0\" x=\"9\" y=\"72.0137\"/><text fill=\"#000000\" font-family=\"sans-serif\" font-size=\"12\" lengthAdjust=\"spacingAndGlyphs\" textLength=\"283\" x=\"5\" y=\"85.9824\">You can start with a simple UML Diagram like:</text><text fill=\"#000000\" font-family=\"sans-serif\" font-size=\"12\" lengthAdjust=\"spacingAndGlyphs\" textLength=\"0\" x=\"9\" y=\"99.9512\"/><text fill=\"#000000\" font-family=\"monospace\" font-size=\"12\" lengthAdjust=\"spacingAndGlyphs\" textLength=\"119\" x=\"5\" y=\"113.9199\">Bob-&gt;Alice: Hello</text><text fill=\"#000000\" font-family=\"sans-serif\" font-size=\"12\" lengthAdjust=\"spacingAndGlyphs\" textLength=\"0\" x=\"9\" y=\"127.8887\"/><text fill=\"#000000\" font-family=\"sans-serif\" font-size=\"12\" lengthAdjust=\"spacingAndGlyphs\" textLength=\"14\" x=\"5\" y=\"141.8574\">Or</text><text fill=\"#000000\" font-family=\"sans-serif\" font-size=\"12\" lengthAdjust=\"spacingAndGlyphs\" textLength=\"0\" x=\"9\" y=\"155.8262\"/><text fill=\"#000000\" font-family=\"monospace\" font-size=\"12\" lengthAdjust=\"spacingAndGlyphs\" textLength=\"91\" x=\"5\" y=\"169.7949\">class Example</text><text fill=\"#000000\" font-family=\"sans-serif\" font-size=\"12\" lengthAdjust=\"spacingAndGlyphs\" textLength=\"0\" x=\"9\" y=\"183.7637\"/><text fill=\"#000000\" font-family=\"sans-serif\" font-size=\"12\" lengthAdjust=\"spacingAndGlyphs\" textLength=\"349\" x=\"5\" y=\"197.7324\">You will find more information about PlantUML syntax on</text><text fill=\"#000000\" font-family=\"sans-serif\" font-size=\"12\" lengthAdjust=\"spacingAndGlyphs\" text-decoration=\"underline\" textLength=\"129\" x=\"358\" y=\"197.7324\">https://plantuml.com</text><image height=\"71\" width=\"80\" x=\"516\" xlink:href=\"data:image/png;base64,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\" y=\"6\"/><rect fill=\"#000000\" height=\"96.4844\" style=\"stroke: #000000; stroke-width: 1.0;\" width=\"602\" x=\"0\" y=\"205.5625\"/><rect fill=\"#33FF02\" height=\"21.2969\" style=\"stroke: #33FF02; stroke-width: 1.0;\" width=\"170\" x=\"5\" y=\"210.5625\"/><text fill=\"#000000\" font-family=\"sans-serif\" font-size=\"14\" font-weight=\"bold\" lengthAdjust=\"spacingAndGlyphs\" textLength=\"168\" x=\"6\" y=\"225.5625\">[From string (line 2) ]</text><text fill=\"#33FF02\" font-family=\"sans-serif\" font-size=\"14\" font-weight=\"bold\" lengthAdjust=\"spacingAndGlyphs\" textLength=\"0\" x=\"10\" y=\"245.8594\"/><text fill=\"#33FF02\" font-family=\"sans-serif\" font-size=\"14\" font-weight=\"bold\" lengthAdjust=\"spacingAndGlyphs\" textLength=\"79\" x=\"5\" y=\"262.1563\">@startuml</text><text fill=\"#33FF02\" font-family=\"sans-serif\" font-size=\"14\" font-weight=\"bold\" lengthAdjust=\"spacingAndGlyphs\" textLength=\"0\" x=\"10\" y=\"278.4531\"/><text fill=\"#FF0000\" font-family=\"sans-serif\" font-size=\"14\" font-weight=\"bold\" lengthAdjust=\"spacingAndGlyphs\" textLength=\"142\" x=\"10\" y=\"294.75\">Empty description</text><!--MD5=[f59edd8218d337f74d0c332fc6737304]\n",
       "@startuml\r\n",
       " \r\n",
       "@enduml\r\n",
       "\n",
       "PlantUML version 1.2020.13(Sat Jun 13 12:26:38 UTC 2020)\n",
       "(EPL source distribution)\n",
       "Java Runtime: OpenJDK Runtime Environment\n",
       "JVM: OpenJDK 64-Bit Server VM\n",
       "Default Encoding: UTF-8\n",
       "Language: en\n",
       "Country: null\n",
       "--></g></svg>"
      ]
     },
     "execution_count": 32,
     "metadata": {},
     "output_type": "execute_result"
    }
   ],
   "source": [
    "%viz --style=\"PLANTUML\" --view=\"State\" \"DependencyTest\""
   ]
  },
  {
   "cell_type": "code",
   "execution_count": 33,
   "id": "insured-savannah",
   "metadata": {
    "execution": {
     "iopub.execute_input": "2021-03-26T13:04:34.373627Z",
     "iopub.status.busy": "2021-03-26T13:04:34.373106Z",
     "iopub.status.idle": "2021-03-26T13:04:34.405907Z",
     "shell.execute_reply": "2021-03-26T13:04:34.404372Z"
    }
   },
   "outputs": [
    {
     "data": {
      "image/svg+xml": [
       "<?xml version=\"1.0\" encoding=\"UTF-8\" standalone=\"no\"?><svg xmlns=\"http://www.w3.org/2000/svg\" xmlns:xlink=\"http://www.w3.org/1999/xlink\" contentScriptType=\"application/ecmascript\" contentStyleType=\"text/css\" height=\"361px\" preserveAspectRatio=\"none\" style=\"width:521px;height:361px;\" version=\"1.1\" viewBox=\"0 0 521 361\" width=\"521px\" zoomAndPan=\"magnify\"><defs><filter height=\"300%\" id=\"fizug15lfmaa6\" width=\"300%\" x=\"-1\" y=\"-1\"><feGaussianBlur result=\"blurOut\" stdDeviation=\"2.0\"/><feColorMatrix in=\"blurOut\" result=\"blurOut2\" type=\"matrix\" values=\"0 0 0 0 0 0 0 0 0 0 0 0 0 0 0 0 0 0 .4 0\"/><feOffset dx=\"4.0\" dy=\"4.0\" in=\"blurOut2\" result=\"blurOut3\"/><feBlend in=\"SourceGraphic\" in2=\"blurOut3\" mode=\"normal\"/></filter></defs><g><!--MD5=[fbc87193dbaf4d95561dea2c320d4a47]\n",
       "cluster E1--><a href=\"psysml:c069fb4a-0cab-46ce-ae30-79221b6c6030\" target=\"_top\" title=\"psysml:c069fb4a-0cab-46ce-ae30-79221b6c6030\" xlink:actuate=\"onRequest\" xlink:href=\"psysml:c069fb4a-0cab-46ce-ae30-79221b6c6030\" xlink:show=\"new\" xlink:title=\"psysml:c069fb4a-0cab-46ce-ae30-79221b6c6030\" xlink:type=\"simple\"><polygon fill=\"#FFFFFF\" filter=\"url(#fizug15lfmaa6)\" points=\"16,6,156,6,163,28.2969,499,28.2969,499,349,16,349,16,6\" style=\"stroke: #000000; stroke-width: 1.5;\"/><line style=\"stroke: #000000; stroke-width: 1.5;\" x1=\"16\" x2=\"163\" y1=\"28.2969\" y2=\"28.2969\"/><text fill=\"#000000\" font-family=\"sans-serif\" font-size=\"14\" font-weight=\"bold\" lengthAdjust=\"spacingAndGlyphs\" textLength=\"134\" x=\"20\" y=\"20.9951\">DependencyTest</text></a><!--MD5=[e4f7fae6ed58524ba242bb0b0d3be6b7]\n",
       "cluster E2--><a href=\"psysml:0036a7be-5206-4df9-ab28-301972427778\" target=\"_top\" title=\"psysml:0036a7be-5206-4df9-ab28-301972427778\" xlink:actuate=\"onRequest\" xlink:href=\"psysml:0036a7be-5206-4df9-ab28-301972427778\" xlink:show=\"new\" xlink:title=\"psysml:0036a7be-5206-4df9-ab28-301972427778\" xlink:type=\"simple\"><polygon fill=\"#FFFFFF\" filter=\"url(#fizug15lfmaa6)\" points=\"287,49,351,49,358,71.2969,475,71.2969,475,325,287,325,287,49\" style=\"stroke: #000000; stroke-width: 1.5;\"/><line style=\"stroke: #000000; stroke-width: 1.5;\" x1=\"287\" x2=\"358\" y1=\"71.2969\" y2=\"71.2969\"/><text fill=\"#000000\" font-family=\"sans-serif\" font-size=\"14\" font-weight=\"bold\" lengthAdjust=\"spacingAndGlyphs\" textLength=\"58\" x=\"291\" y=\"63.9951\">System</text></a><a href=\"psysml:b9058297-d753-442e-8571-9bee33c166c8\" target=\"_top\" title=\"psysml:b9058297-d753-442e-8571-9bee33c166c8\" xlink:actuate=\"onRequest\" xlink:href=\"psysml:b9058297-d753-442e-8571-9bee33c166c8\" xlink:show=\"new\" xlink:title=\"psysml:b9058297-d753-442e-8571-9bee33c166c8\" xlink:type=\"simple\"><polygon fill=\"#FFFFFF\" filter=\"url(#fizug15lfmaa6)\" points=\"303,84,445,84,452,106.2969,459,106.2969,459,136.5938,303,136.5938,303,84\" style=\"stroke: #000000; stroke-width: 1.5;\"/><line style=\"stroke: #000000; stroke-width: 1.5;\" x1=\"303\" x2=\"452\" y1=\"106.2969\" y2=\"106.2969\"/><text fill=\"#000000\" font-family=\"sans-serif\" font-size=\"14\" font-weight=\"bold\" lengthAdjust=\"spacingAndGlyphs\" textLength=\"136\" x=\"307\" y=\"98.9951\">Application Layer</text></a><a href=\"psysml:f007974c-308f-4828-8f2c-f39213f4e302\" target=\"_top\" title=\"psysml:f007974c-308f-4828-8f2c-f39213f4e302\" xlink:actuate=\"onRequest\" xlink:href=\"psysml:f007974c-308f-4828-8f2c-f39213f4e302\" xlink:show=\"new\" xlink:title=\"psysml:f007974c-308f-4828-8f2c-f39213f4e302\" xlink:type=\"simple\"><polygon fill=\"#FFFFFF\" filter=\"url(#fizug15lfmaa6)\" points=\"317,170,431,170,438,192.2969,445,192.2969,445,222.5938,317,222.5938,317,170\" style=\"stroke: #000000; stroke-width: 1.5;\"/><line style=\"stroke: #000000; stroke-width: 1.5;\" x1=\"317\" x2=\"438\" y1=\"192.2969\" y2=\"192.2969\"/><text fill=\"#000000\" font-family=\"sans-serif\" font-size=\"14\" font-weight=\"bold\" lengthAdjust=\"spacingAndGlyphs\" textLength=\"108\" x=\"321\" y=\"184.9951\">Service Layer</text></a><a href=\"psysml:7870e797-441e-4743-978b-6b23dab0b8d1\" target=\"_top\" title=\"psysml:7870e797-441e-4743-978b-6b23dab0b8d1\" xlink:actuate=\"onRequest\" xlink:href=\"psysml:7870e797-441e-4743-978b-6b23dab0b8d1\" xlink:show=\"new\" xlink:title=\"psysml:7870e797-441e-4743-978b-6b23dab0b8d1\" xlink:type=\"simple\"><polygon fill=\"#FFFFFF\" filter=\"url(#fizug15lfmaa6)\" points=\"329,256,419,256,426,278.2969,433,278.2969,433,308.5938,329,308.5938,329,256\" style=\"stroke: #000000; stroke-width: 1.5;\"/><line style=\"stroke: #000000; stroke-width: 1.5;\" x1=\"329\" x2=\"426\" y1=\"278.2969\" y2=\"278.2969\"/><text fill=\"#000000\" font-family=\"sans-serif\" font-size=\"14\" font-weight=\"bold\" lengthAdjust=\"spacingAndGlyphs\" textLength=\"84\" x=\"333\" y=\"270.9951\">Data Layer</text></a><g id=\"E1.E6\"><a href=\"psysml:ca3c2c7b-3718-4538-a84c-29984e19a6f6\" target=\"_top\" title=\"psysml:ca3c2c7b-3718-4538-a84c-29984e19a6f6\" xlink:actuate=\"onRequest\" xlink:href=\"psysml:ca3c2c7b-3718-4538-a84c-29984e19a6f6\" xlink:show=\"new\" xlink:title=\"psysml:ca3c2c7b-3718-4538-a84c-29984e19a6f6\" xlink:type=\"simple\"><rect fill=\"#FEFECE\" filter=\"url(#fizug15lfmaa6)\" height=\"42.9375\" id=\"E6\" rx=\"10\" ry=\"10\" style=\"stroke: #A80036; stroke-width: 1.5;\" width=\"102\" x=\"32\" y=\"175\"/><ellipse cx=\"49.25\" cy=\"193.9688\" fill=\"#FFA500\" rx=\"11\" ry=\"11\" style=\"stroke: #A80036; stroke-width: 1.0;\"/><path d=\"M45.125,195.8906 L45.125,188.0781 L47.5781,188.0781 L47.5781,196.5156 Q47.5781,197.4375 48.0469,197.9688 Q48.5313,198.5 49.3594,198.5 Q50.2031,198.5 50.6719,197.9688 Q51.1406,197.4375 51.1406,196.5156 L51.1406,188.0781 L53.5938,188.0781 L53.5938,195.8906 Q53.5938,198.4219 52.5938,199.5625 Q51.5938,200.7031 49.3594,200.7031 Q47.1406,200.7031 46.125,199.5625 Q45.125,198.4219 45.125,195.8906 Z \"/><text fill=\"#000000\" font-family=\"sans-serif\" font-size=\"12\" font-style=\"italic\" lengthAdjust=\"spacingAndGlyphs\" textLength=\"69\" x=\"61.75\" y=\"191.1387\">«attribute»</text><text fill=\"#000000\" font-family=\"sans-serif\" font-size=\"12\" lengthAdjust=\"spacingAndGlyphs\" textLength=\"6\" x=\"93.25\" y=\"205.1074\">x</text></a></g><g id=\"E1.E7\"><a href=\"psysml:f187cc38-895f-43c9-b55f-372a79474975\" target=\"_top\" title=\"psysml:f187cc38-895f-43c9-b55f-372a79474975\" xlink:actuate=\"onRequest\" xlink:href=\"psysml:f187cc38-895f-43c9-b55f-372a79474975\" xlink:show=\"new\" xlink:title=\"psysml:f187cc38-895f-43c9-b55f-372a79474975\" xlink:type=\"simple\"><rect fill=\"#FEFECE\" filter=\"url(#fizug15lfmaa6)\" height=\"42.9375\" id=\"E7\" rx=\"10\" ry=\"10\" style=\"stroke: #A80036; stroke-width: 1.5;\" width=\"102\" x=\"169\" y=\"175\"/><ellipse cx=\"186.25\" cy=\"193.9688\" fill=\"#FFA500\" rx=\"11\" ry=\"11\" style=\"stroke: #A80036; stroke-width: 1.0;\"/><path d=\"M182.125,195.8906 L182.125,188.0781 L184.5781,188.0781 L184.5781,196.5156 Q184.5781,197.4375 185.0469,197.9688 Q185.5313,198.5 186.3594,198.5 Q187.2031,198.5 187.6719,197.9688 Q188.1406,197.4375 188.1406,196.5156 L188.1406,188.0781 L190.5938,188.0781 L190.5938,195.8906 Q190.5938,198.4219 189.5938,199.5625 Q188.5938,200.7031 186.3594,200.7031 Q184.1406,200.7031 183.125,199.5625 Q182.125,198.4219 182.125,195.8906 Z \"/><text fill=\"#000000\" font-family=\"sans-serif\" font-size=\"12\" font-style=\"italic\" lengthAdjust=\"spacingAndGlyphs\" textLength=\"69\" x=\"198.75\" y=\"191.1387\">«attribute»</text><text fill=\"#000000\" font-family=\"sans-serif\" font-size=\"12\" lengthAdjust=\"spacingAndGlyphs\" textLength=\"6\" x=\"230.25\" y=\"205.1074\">y</text></a></g><g id=\"E1.E8\"><a href=\"psysml:c8a5167c-621d-4bfa-8ffa-e3ed6a854bed\" target=\"_top\" title=\"psysml:c8a5167c-621d-4bfa-8ffa-e3ed6a854bed\" xlink:actuate=\"onRequest\" xlink:href=\"psysml:c8a5167c-621d-4bfa-8ffa-e3ed6a854bed\" xlink:show=\"new\" xlink:title=\"psysml:c8a5167c-621d-4bfa-8ffa-e3ed6a854bed\" xlink:type=\"simple\"><rect fill=\"#FEFECE\" filter=\"url(#fizug15lfmaa6)\" height=\"42.9375\" id=\"E8\" rx=\"10\" ry=\"10\" style=\"stroke: #A80036; stroke-width: 1.5;\" width=\"102\" x=\"85\" y=\"89\"/><ellipse cx=\"102.25\" cy=\"107.9688\" fill=\"#FFA500\" rx=\"11\" ry=\"11\" style=\"stroke: #A80036; stroke-width: 1.0;\"/><path d=\"M98.125,109.8906 L98.125,102.0781 L100.5781,102.0781 L100.5781,110.5156 Q100.5781,111.4375 101.0469,111.9688 Q101.5313,112.5 102.3594,112.5 Q103.2031,112.5 103.6719,111.9688 Q104.1406,111.4375 104.1406,110.5156 L104.1406,102.0781 L106.5938,102.0781 L106.5938,109.8906 Q106.5938,112.4219 105.5938,113.5625 Q104.5938,114.7031 102.3594,114.7031 Q100.1406,114.7031 99.125,113.5625 Q98.125,112.4219 98.125,109.8906 Z \"/><text fill=\"#000000\" font-family=\"sans-serif\" font-size=\"12\" font-style=\"italic\" lengthAdjust=\"spacingAndGlyphs\" textLength=\"69\" x=\"114.75\" y=\"105.1387\">«attribute»</text><text fill=\"#000000\" font-family=\"sans-serif\" font-size=\"12\" lengthAdjust=\"spacingAndGlyphs\" textLength=\"5\" x=\"146.75\" y=\"119.1074\">z</text></a></g><!--MD5=[af87c684e3b0d8be13c1a698a818ef1e]\n",
       "link E3 to E4--><a href=\"psysml:af0245ca-a479-404d-840a-c478ec8f55f1\" target=\"_top\" title=\"psysml:af0245ca-a479-404d-840a-c478ec8f55f1\" xlink:actuate=\"onRequest\" xlink:href=\"psysml:af0245ca-a479-404d-840a-c478ec8f55f1\" xlink:show=\"new\" xlink:title=\"psysml:af0245ca-a479-404d-840a-c478ec8f55f1\" xlink:type=\"simple\"><path d=\"M381,137.16 C381,144.98 381,153.69 381,161.94 \" fill=\"none\" id=\"E3-&gt;E4\" style=\"stroke: #A80036; stroke-width: 1.0; stroke-dasharray: 7.0,7.0;\"/><polygon fill=\"#A80036\" points=\"381,170,384,162,378,162,381,170\" style=\"stroke: #A80036; stroke-width: 1.0;\"/><text fill=\"#000000\" font-family=\"sans-serif\" font-size=\"13\" lengthAdjust=\"spacingAndGlyphs\" textLength=\"64\" x=\"382\" y=\"158.0669\">«depend»</text></a><!--MD5=[1b7591eae5389033d8d09a9d6721a717]\n",
       "link E4 to E5--><a href=\"psysml:aeab59fe-e3bd-4e23-96a4-136d0d468de6\" target=\"_top\" title=\"psysml:aeab59fe-e3bd-4e23-96a4-136d0d468de6\" xlink:actuate=\"onRequest\" xlink:href=\"psysml:aeab59fe-e3bd-4e23-96a4-136d0d468de6\" xlink:show=\"new\" xlink:title=\"psysml:aeab59fe-e3bd-4e23-96a4-136d0d468de6\" xlink:type=\"simple\"><path d=\"M381,223.16 C381,230.98 381,239.69 381,247.94 \" fill=\"none\" id=\"E4-&gt;E5\" style=\"stroke: #A80036; stroke-width: 1.0; stroke-dasharray: 7.0,7.0;\"/><polygon fill=\"#A80036\" points=\"381,256,384,248,378,248,381,256\" style=\"stroke: #A80036; stroke-width: 1.0;\"/><text fill=\"#000000\" font-family=\"sans-serif\" font-size=\"13\" lengthAdjust=\"spacingAndGlyphs\" textLength=\"64\" x=\"382\" y=\"244.0669\">«depend»</text></a><!--MD5=[c5e8897d989ce984f93528998a7150fe]\n",
       "link E8 to E6--><a href=\"psysml:e01a683f-5a6a-44b0-a0de-a423aeb5ad40\" target=\"_top\" title=\"psysml:e01a683f-5a6a-44b0-a0de-a423aeb5ad40\" xlink:actuate=\"onRequest\" xlink:href=\"psysml:e01a683f-5a6a-44b0-a0de-a423aeb5ad40\" xlink:show=\"new\" xlink:title=\"psysml:e01a683f-5a6a-44b0-a0de-a423aeb5ad40\" xlink:type=\"simple\"><path d=\"M102.96,132.09 C98.75,135.93 94.9,140.25 92,145 C88.13,151.34 85.83,158.9 84.48,166.22 \" fill=\"none\" id=\"E8-&gt;E6\" style=\"stroke: #A80036; stroke-width: 1.0; stroke-dasharray: 7.0,7.0;\"/><polygon fill=\"#A80036\" points=\"83.3,174.62,87.3842,167.1154,81.4426,166.2803,83.3,174.62\" style=\"stroke: #A80036; stroke-width: 1.0;\"/><text fill=\"#000000\" font-family=\"sans-serif\" font-size=\"13\" lengthAdjust=\"spacingAndGlyphs\" textLength=\"64\" x=\"93\" y=\"158.0669\">«depend»</text></a><!--MD5=[bfa3c8b0d15052fdf50ae9310b491027]\n",
       "link E8 to E7--><a href=\"psysml:e01a683f-5a6a-44b0-a0de-a423aeb5ad40\" target=\"_top\" title=\"psysml:e01a683f-5a6a-44b0-a0de-a423aeb5ad40\" xlink:actuate=\"onRequest\" xlink:href=\"psysml:e01a683f-5a6a-44b0-a0de-a423aeb5ad40\" xlink:show=\"new\" xlink:title=\"psysml:e01a683f-5a6a-44b0-a0de-a423aeb5ad40\" xlink:type=\"simple\"><path d=\"M156.76,132.26 C167.95,143.45 181.87,157.37 193.8,169.3 \" fill=\"none\" id=\"E8-&gt;E7\" style=\"stroke: #A80036; stroke-width: 1.0; stroke-dasharray: 7.0,7.0;\"/><polygon fill=\"#A80036\" points=\"199.47,174.97,195.9345,167.1918,191.6918,171.4345,199.47,174.97\" style=\"stroke: #A80036; stroke-width: 1.0;\"/><text fill=\"#000000\" font-family=\"sans-serif\" font-size=\"13\" lengthAdjust=\"spacingAndGlyphs\" textLength=\"64\" x=\"186\" y=\"158.0669\">«depend»</text></a><!--MD5=[ca59b7fa08ff5770a4a24e5682e229e1]\n",
       "@startuml\r\n",
       "skinparam ranksep 8\r\n",
       "skinparam rectangle {\r\n",
       " backgroundColor<<block>> LightGreen\r\n",
       "}\r\n",
       " \r\n",
       "package \"DependencyTest\" as E1  [[psysml:c069fb4a-0cab-46ce-ae30-79221b6c6030 ]]  {\r\n",
       "package \"System\" as E2  [[psysml:0036a7be-5206-4df9-ab28-301972427778 ]]  {\r\n",
       "package \"Application Layer\" as E3  [[psysml:b9058297-d753-442e-8571-9bee33c166c8 ]]  {\r\n",
       "}\r\n",
       "package \"Service Layer\" as E4  [[psysml:f007974c-308f-4828-8f2c-f39213f4e302 ]]  {\r\n",
       "}\r\n",
       "package \"Data Layer\" as E5  [[psysml:7870e797-441e-4743-978b-6b23dab0b8d1 ]]  {\r\n",
       "}\r\n",
       "}\r\n",
       "rec usage \"x\" as E6  <<(U,orange)attribute>> [[psysml:ca3c2c7b-3718-4538-a84c-29984e19a6f6 ]] {\r\n",
       "}\r\n",
       "rec usage \"y\" as E7  <<(U,orange)attribute>> [[psysml:f187cc38-895f-43c9-b55f-372a79474975 ]] {\r\n",
       "}\r\n",
       "rec usage \"z\" as E8  <<(U,orange)attribute>> [[psysml:c8a5167c-621d-4bfa-8ffa-e3ed6a854bed ]] {\r\n",
       "}\r\n",
       "E3 ..>> E4 [[psysml:af0245ca-a479-404d-840a-c478ec8f55f1 ]] : <<depend>>\r\n",
       "E4 ..>> E5 [[psysml:aeab59fe-e3bd-4e23-96a4-136d0d468de6 ]] : <<depend>>\r\n",
       "E8 ..>> E6 [[psysml:e01a683f-5a6a-44b0-a0de-a423aeb5ad40 ]] : <<depend>>\r\n",
       "E8 ..>> E7 [[psysml:e01a683f-5a6a-44b0-a0de-a423aeb5ad40 ]] : <<depend>>\r\n",
       "}\r\n",
       "@enduml\r\n",
       "\n",
       "PlantUML version 1.2020.13(Sat Jun 13 12:26:38 UTC 2020)\n",
       "(EPL source distribution)\n",
       "Java Runtime: OpenJDK Runtime Environment\n",
       "JVM: OpenJDK 64-Bit Server VM\n",
       "Default Encoding: UTF-8\n",
       "Language: en\n",
       "Country: null\n",
       "--></g></svg>"
      ]
     },
     "execution_count": 33,
     "metadata": {},
     "output_type": "execute_result"
    }
   ],
   "source": [
    "%viz --style=\"PLANTUML\" --view=\"Interconnection\" \"DependencyTest\""
   ]
  },
  {
   "cell_type": "code",
   "execution_count": 34,
   "id": "permanent-elephant",
   "metadata": {
    "execution": {
     "iopub.execute_input": "2021-03-26T13:04:34.458470Z",
     "iopub.status.busy": "2021-03-26T13:04:34.457896Z",
     "iopub.status.idle": "2021-03-26T13:04:34.469920Z",
     "shell.execute_reply": "2021-03-26T13:04:34.469542Z"
    }
   },
   "outputs": [
    {
     "data": {
      "image/svg+xml": [
       "<?xml version=\"1.0\" encoding=\"UTF-8\" standalone=\"no\"?><svg xmlns=\"http://www.w3.org/2000/svg\" xmlns:xlink=\"http://www.w3.org/1999/xlink\" contentScriptType=\"application/ecmascript\" contentStyleType=\"text/css\" height=\"12px\" preserveAspectRatio=\"none\" style=\"width:12px;height:12px;\" version=\"1.1\" viewBox=\"0 0 12 12\" width=\"12px\" zoomAndPan=\"magnify\"><defs/><g><!--MD5=[6a4cb978cab31700e1ce5529f947a75d]\n",
       "@startuml\r\n",
       "skinparam ranksep 8\r\n",
       " \r\n",
       "@enduml\r\n",
       "\n",
       "PlantUML version 1.2020.13(Sat Jun 13 12:26:38 UTC 2020)\n",
       "(EPL source distribution)\n",
       "Java Runtime: OpenJDK Runtime Environment\n",
       "JVM: OpenJDK 64-Bit Server VM\n",
       "Default Encoding: UTF-8\n",
       "Language: en\n",
       "Country: null\n",
       "--></g></svg>"
      ]
     },
     "execution_count": 34,
     "metadata": {},
     "output_type": "execute_result"
    }
   ],
   "source": [
    "%viz --style=\"PLANTUML\" --view=\"Action\" \"DependencyTest\""
   ]
  },
  {
   "cell_type": "code",
   "execution_count": 35,
   "id": "right-break",
   "metadata": {
    "execution": {
     "iopub.execute_input": "2021-03-26T13:04:34.522935Z",
     "iopub.status.busy": "2021-03-26T13:04:34.522089Z",
     "iopub.status.idle": "2021-03-26T13:04:34.561687Z",
     "shell.execute_reply": "2021-03-26T13:04:34.561096Z"
    }
   },
   "outputs": [
    {
     "data": {
      "image/svg+xml": [
       "<?xml version=\"1.0\" encoding=\"UTF-8\" standalone=\"no\"?><svg xmlns=\"http://www.w3.org/2000/svg\" xmlns:xlink=\"http://www.w3.org/1999/xlink\" contentScriptType=\"application/ecmascript\" contentStyleType=\"text/css\" height=\"449px\" preserveAspectRatio=\"none\" style=\"width:510px;height:449px;\" version=\"1.1\" viewBox=\"0 0 510 449\" width=\"510px\" zoomAndPan=\"magnify\"><defs><filter height=\"300%\" id=\"f1b3p0fd8hdu9b\" width=\"300%\" x=\"-1\" y=\"-1\"><feGaussianBlur result=\"blurOut\" stdDeviation=\"2.0\"/><feColorMatrix in=\"blurOut\" result=\"blurOut2\" type=\"matrix\" values=\"0 0 0 0 0 0 0 0 0 0 0 0 0 0 0 0 0 0 .4 0\"/><feOffset dx=\"4.0\" dy=\"4.0\" in=\"blurOut2\" result=\"blurOut3\"/><feBlend in=\"SourceGraphic\" in2=\"blurOut3\" mode=\"normal\"/></filter></defs><g><!--MD5=[fbc87193dbaf4d95561dea2c320d4a47]\n",
       "cluster E1--><a href=\"psysml:c069fb4a-0cab-46ce-ae30-79221b6c6030\" target=\"_top\" title=\"psysml:c069fb4a-0cab-46ce-ae30-79221b6c6030\" xlink:actuate=\"onRequest\" xlink:href=\"psysml:c069fb4a-0cab-46ce-ae30-79221b6c6030\" xlink:show=\"new\" xlink:title=\"psysml:c069fb4a-0cab-46ce-ae30-79221b6c6030\" xlink:type=\"simple\"><polygon fill=\"#FFFFFF\" filter=\"url(#f1b3p0fd8hdu9b)\" points=\"16,6,156,6,163,28.2969,488,28.2969,488,437,16,437,16,6\" style=\"stroke: #000000; stroke-width: 1.5;\"/><line style=\"stroke: #000000; stroke-width: 1.5;\" x1=\"16\" x2=\"163\" y1=\"28.2969\" y2=\"28.2969\"/><text fill=\"#000000\" font-family=\"sans-serif\" font-size=\"14\" font-weight=\"bold\" lengthAdjust=\"spacingAndGlyphs\" textLength=\"134\" x=\"20\" y=\"20.9951\">DependencyTest</text></a><!--MD5=[e4f7fae6ed58524ba242bb0b0d3be6b7]\n",
       "cluster E2--><a href=\"psysml:0036a7be-5206-4df9-ab28-301972427778\" target=\"_top\" title=\"psysml:0036a7be-5206-4df9-ab28-301972427778\" xlink:actuate=\"onRequest\" xlink:href=\"psysml:0036a7be-5206-4df9-ab28-301972427778\" xlink:show=\"new\" xlink:title=\"psysml:0036a7be-5206-4df9-ab28-301972427778\" xlink:type=\"simple\"><polygon fill=\"#FFFFFF\" filter=\"url(#f1b3p0fd8hdu9b)\" points=\"276,49,340,49,347,71.2969,464,71.2969,464,413,276,413,276,49\" style=\"stroke: #000000; stroke-width: 1.5;\"/><line style=\"stroke: #000000; stroke-width: 1.5;\" x1=\"276\" x2=\"347\" y1=\"71.2969\" y2=\"71.2969\"/><text fill=\"#000000\" font-family=\"sans-serif\" font-size=\"14\" font-weight=\"bold\" lengthAdjust=\"spacingAndGlyphs\" textLength=\"58\" x=\"280\" y=\"63.9951\">System</text></a><!--MD5=[60a26617385b1d2d0262a64233df1f8d]\n",
       "class E6--><a href=\"psysml:ca3c2c7b-3718-4538-a84c-29984e19a6f6\" target=\"_top\" title=\"psysml:ca3c2c7b-3718-4538-a84c-29984e19a6f6\" xlink:actuate=\"onRequest\" xlink:href=\"psysml:ca3c2c7b-3718-4538-a84c-29984e19a6f6\" xlink:show=\"new\" xlink:title=\"psysml:ca3c2c7b-3718-4538-a84c-29984e19a6f6\" xlink:type=\"simple\"><rect fill=\"#FEFECE\" filter=\"url(#f1b3p0fd8hdu9b)\" height=\"45.9375\" id=\"E6\" rx=\"10\" ry=\"10\" style=\"stroke: #A80036; stroke-width: 1.5;\" width=\"97\" x=\"31.5\" y=\"217.5\"/><ellipse cx=\"46.5\" cy=\"236.4688\" fill=\"#FFA500\" rx=\"11\" ry=\"11\" style=\"stroke: #A80036; stroke-width: 1.0;\"/><path d=\"M42.375,238.3906 L42.375,230.5781 L44.8281,230.5781 L44.8281,239.0156 Q44.8281,239.9375 45.2969,240.4688 Q45.7813,241 46.6094,241 Q47.4531,241 47.9219,240.4688 Q48.3906,239.9375 48.3906,239.0156 L48.3906,230.5781 L50.8438,230.5781 L50.8438,238.3906 Q50.8438,240.9219 49.8438,242.0625 Q48.8438,243.2031 46.6094,243.2031 Q44.3906,243.2031 43.375,242.0625 Q42.375,240.9219 42.375,238.3906 Z \"/><text fill=\"#000000\" font-family=\"sans-serif\" font-size=\"12\" font-style=\"italic\" lengthAdjust=\"spacingAndGlyphs\" textLength=\"69\" x=\"58.5\" y=\"233.6387\">«attribute»</text><text fill=\"#000000\" font-family=\"sans-serif\" font-size=\"12\" lengthAdjust=\"spacingAndGlyphs\" textLength=\"6\" x=\"90\" y=\"247.6074\">x</text><line style=\"stroke: #A80036; stroke-width: 1.5;\" x1=\"32.5\" x2=\"127.5\" y1=\"255.4375\" y2=\"255.4375\"/></a><!--MD5=[2156ba9850f5573cc1fc38a6a4b2f02b]\n",
       "class E7--><a href=\"psysml:f187cc38-895f-43c9-b55f-372a79474975\" target=\"_top\" title=\"psysml:f187cc38-895f-43c9-b55f-372a79474975\" xlink:actuate=\"onRequest\" xlink:href=\"psysml:f187cc38-895f-43c9-b55f-372a79474975\" xlink:show=\"new\" xlink:title=\"psysml:f187cc38-895f-43c9-b55f-372a79474975\" xlink:type=\"simple\"><rect fill=\"#FEFECE\" filter=\"url(#f1b3p0fd8hdu9b)\" height=\"45.9375\" id=\"E7\" rx=\"10\" ry=\"10\" style=\"stroke: #A80036; stroke-width: 1.5;\" width=\"97\" x=\"163.5\" y=\"217.5\"/><ellipse cx=\"178.5\" cy=\"236.4688\" fill=\"#FFA500\" rx=\"11\" ry=\"11\" style=\"stroke: #A80036; stroke-width: 1.0;\"/><path d=\"M174.375,238.3906 L174.375,230.5781 L176.8281,230.5781 L176.8281,239.0156 Q176.8281,239.9375 177.2969,240.4688 Q177.7813,241 178.6094,241 Q179.4531,241 179.9219,240.4688 Q180.3906,239.9375 180.3906,239.0156 L180.3906,230.5781 L182.8438,230.5781 L182.8438,238.3906 Q182.8438,240.9219 181.8438,242.0625 Q180.8438,243.2031 178.6094,243.2031 Q176.3906,243.2031 175.375,242.0625 Q174.375,240.9219 174.375,238.3906 Z \"/><text fill=\"#000000\" font-family=\"sans-serif\" font-size=\"12\" font-style=\"italic\" lengthAdjust=\"spacingAndGlyphs\" textLength=\"69\" x=\"190.5\" y=\"233.6387\">«attribute»</text><text fill=\"#000000\" font-family=\"sans-serif\" font-size=\"12\" lengthAdjust=\"spacingAndGlyphs\" textLength=\"6\" x=\"222\" y=\"247.6074\">y</text><line style=\"stroke: #A80036; stroke-width: 1.5;\" x1=\"164.5\" x2=\"259.5\" y1=\"255.4375\" y2=\"255.4375\"/></a><!--MD5=[b9389687b975829384b498ac4b7476b2]\n",
       "class E8--><a href=\"psysml:c8a5167c-621d-4bfa-8ffa-e3ed6a854bed\" target=\"_top\" title=\"psysml:c8a5167c-621d-4bfa-8ffa-e3ed6a854bed\" xlink:actuate=\"onRequest\" xlink:href=\"psysml:c8a5167c-621d-4bfa-8ffa-e3ed6a854bed\" xlink:show=\"new\" xlink:title=\"psysml:c8a5167c-621d-4bfa-8ffa-e3ed6a854bed\" xlink:type=\"simple\"><rect fill=\"#FEFECE\" filter=\"url(#f1b3p0fd8hdu9b)\" height=\"45.9375\" id=\"E8\" rx=\"10\" ry=\"10\" style=\"stroke: #A80036; stroke-width: 1.5;\" width=\"97\" x=\"84.5\" y=\"87.5\"/><ellipse cx=\"99.5\" cy=\"106.4688\" fill=\"#FFA500\" rx=\"11\" ry=\"11\" style=\"stroke: #A80036; stroke-width: 1.0;\"/><path d=\"M95.375,108.3906 L95.375,100.5781 L97.8281,100.5781 L97.8281,109.0156 Q97.8281,109.9375 98.2969,110.4688 Q98.7813,111 99.6094,111 Q100.4531,111 100.9219,110.4688 Q101.3906,109.9375 101.3906,109.0156 L101.3906,100.5781 L103.8438,100.5781 L103.8438,108.3906 Q103.8438,110.9219 102.8438,112.0625 Q101.8438,113.2031 99.6094,113.2031 Q97.3906,113.2031 96.375,112.0625 Q95.375,110.9219 95.375,108.3906 Z \"/><text fill=\"#000000\" font-family=\"sans-serif\" font-size=\"12\" font-style=\"italic\" lengthAdjust=\"spacingAndGlyphs\" textLength=\"69\" x=\"111.5\" y=\"103.6387\">«attribute»</text><text fill=\"#000000\" font-family=\"sans-serif\" font-size=\"12\" lengthAdjust=\"spacingAndGlyphs\" textLength=\"5\" x=\"143.5\" y=\"117.6074\">z</text><line style=\"stroke: #A80036; stroke-width: 1.5;\" x1=\"85.5\" x2=\"180.5\" y1=\"125.4375\" y2=\"125.4375\"/></a><a href=\"psysml:b9058297-d753-442e-8571-9bee33c166c8\" target=\"_top\" title=\"psysml:b9058297-d753-442e-8571-9bee33c166c8\" xlink:actuate=\"onRequest\" xlink:href=\"psysml:b9058297-d753-442e-8571-9bee33c166c8\" xlink:show=\"new\" xlink:title=\"psysml:b9058297-d753-442e-8571-9bee33c166c8\" xlink:type=\"simple\"><polygon fill=\"#FFFFFF\" filter=\"url(#f1b3p0fd8hdu9b)\" points=\"292,84,434,84,441,106.2969,448,106.2969,448,136.5938,292,136.5938,292,84\" style=\"stroke: #000000; stroke-width: 1.5;\"/><line style=\"stroke: #000000; stroke-width: 1.5;\" x1=\"292\" x2=\"441\" y1=\"106.2969\" y2=\"106.2969\"/><text fill=\"#000000\" font-family=\"sans-serif\" font-size=\"14\" font-weight=\"bold\" lengthAdjust=\"spacingAndGlyphs\" textLength=\"136\" x=\"296\" y=\"98.9951\">Application Layer</text></a><a href=\"psysml:f007974c-308f-4828-8f2c-f39213f4e302\" target=\"_top\" title=\"psysml:f007974c-308f-4828-8f2c-f39213f4e302\" xlink:actuate=\"onRequest\" xlink:href=\"psysml:f007974c-308f-4828-8f2c-f39213f4e302\" xlink:show=\"new\" xlink:title=\"psysml:f007974c-308f-4828-8f2c-f39213f4e302\" xlink:type=\"simple\"><polygon fill=\"#FFFFFF\" filter=\"url(#f1b3p0fd8hdu9b)\" points=\"306,214,420,214,427,236.2969,434,236.2969,434,266.5938,306,266.5938,306,214\" style=\"stroke: #000000; stroke-width: 1.5;\"/><line style=\"stroke: #000000; stroke-width: 1.5;\" x1=\"306\" x2=\"427\" y1=\"236.2969\" y2=\"236.2969\"/><text fill=\"#000000\" font-family=\"sans-serif\" font-size=\"14\" font-weight=\"bold\" lengthAdjust=\"spacingAndGlyphs\" textLength=\"108\" x=\"310\" y=\"228.9951\">Service Layer</text></a><a href=\"psysml:7870e797-441e-4743-978b-6b23dab0b8d1\" target=\"_top\" title=\"psysml:7870e797-441e-4743-978b-6b23dab0b8d1\" xlink:actuate=\"onRequest\" xlink:href=\"psysml:7870e797-441e-4743-978b-6b23dab0b8d1\" xlink:show=\"new\" xlink:title=\"psysml:7870e797-441e-4743-978b-6b23dab0b8d1\" xlink:type=\"simple\"><polygon fill=\"#FFFFFF\" filter=\"url(#f1b3p0fd8hdu9b)\" points=\"318,344,408,344,415,366.2969,422,366.2969,422,396.5938,318,396.5938,318,344\" style=\"stroke: #000000; stroke-width: 1.5;\"/><line style=\"stroke: #000000; stroke-width: 1.5;\" x1=\"318\" x2=\"415\" y1=\"366.2969\" y2=\"366.2969\"/><text fill=\"#000000\" font-family=\"sans-serif\" font-size=\"14\" font-weight=\"bold\" lengthAdjust=\"spacingAndGlyphs\" textLength=\"84\" x=\"322\" y=\"358.9951\">Data Layer</text></a><!--MD5=[af87c684e3b0d8be13c1a698a818ef1e]\n",
       "link E3 to E4--><a href=\"psysml:af0245ca-a479-404d-840a-c478ec8f55f1\" target=\"_top\" title=\"psysml:af0245ca-a479-404d-840a-c478ec8f55f1\" xlink:actuate=\"onRequest\" xlink:href=\"psysml:af0245ca-a479-404d-840a-c478ec8f55f1\" xlink:show=\"new\" xlink:title=\"psysml:af0245ca-a479-404d-840a-c478ec8f55f1\" xlink:type=\"simple\"><path d=\"M370,137.1 C370,156.8 370,184.22 370,205.73 \" fill=\"none\" id=\"E3-&gt;E4\" style=\"stroke: #A80036; stroke-width: 1.0; stroke-dasharray: 7.0,7.0;\"/><polygon fill=\"#A80036\" points=\"370,213.95,373,205.95,367,205.95,370,213.95\" style=\"stroke: #A80036; stroke-width: 1.0;\"/><text fill=\"#000000\" font-family=\"sans-serif\" font-size=\"13\" lengthAdjust=\"spacingAndGlyphs\" textLength=\"64\" x=\"371\" y=\"180.0669\">«depend»</text></a><!--MD5=[1b7591eae5389033d8d09a9d6721a717]\n",
       "link E4 to E5--><a href=\"psysml:aeab59fe-e3bd-4e23-96a4-136d0d468de6\" target=\"_top\" title=\"psysml:aeab59fe-e3bd-4e23-96a4-136d0d468de6\" xlink:actuate=\"onRequest\" xlink:href=\"psysml:aeab59fe-e3bd-4e23-96a4-136d0d468de6\" xlink:show=\"new\" xlink:title=\"psysml:aeab59fe-e3bd-4e23-96a4-136d0d468de6\" xlink:type=\"simple\"><path d=\"M370,267.1 C370,286.8 370,314.22 370,335.73 \" fill=\"none\" id=\"E4-&gt;E5\" style=\"stroke: #A80036; stroke-width: 1.0; stroke-dasharray: 7.0,7.0;\"/><polygon fill=\"#A80036\" points=\"370,343.95,373,335.95,367,335.95,370,343.95\" style=\"stroke: #A80036; stroke-width: 1.0;\"/><text fill=\"#000000\" font-family=\"sans-serif\" font-size=\"13\" lengthAdjust=\"spacingAndGlyphs\" textLength=\"64\" x=\"371\" y=\"310.0669\">«depend»</text></a><!--MD5=[c5e8897d989ce984f93528998a7150fe]\n",
       "link E8 to E6--><a href=\"psysml:e01a683f-5a6a-44b0-a0de-a423aeb5ad40\" target=\"_top\" title=\"psysml:e01a683f-5a6a-44b0-a0de-a423aeb5ad40\" xlink:actuate=\"onRequest\" xlink:href=\"psysml:e01a683f-5a6a-44b0-a0de-a423aeb5ad40\" xlink:show=\"new\" xlink:title=\"psysml:e01a683f-5a6a-44b0-a0de-a423aeb5ad40\" xlink:type=\"simple\"><path d=\"M106.44,133.76 C97.3,143.01 88.09,154.51 83,167 C77.6,180.23 76.4,195.98 76.73,209.41 \" fill=\"none\" id=\"E8-&gt;E6\" style=\"stroke: #A80036; stroke-width: 1.0; stroke-dasharray: 7.0,7.0;\"/><polygon fill=\"#A80036\" points=\"77.12,217.43,79.7306,209.2946,73.7375,209.584,77.12,217.43\" style=\"stroke: #A80036; stroke-width: 1.0;\"/><text fill=\"#000000\" font-family=\"sans-serif\" font-size=\"13\" lengthAdjust=\"spacingAndGlyphs\" textLength=\"64\" x=\"84\" y=\"180.0669\">«depend»</text></a><!--MD5=[bfa3c8b0d15052fdf50ae9310b491027]\n",
       "link E8 to E7--><a href=\"psysml:e01a683f-5a6a-44b0-a0de-a423aeb5ad40\" target=\"_top\" title=\"psysml:e01a683f-5a6a-44b0-a0de-a423aeb5ad40\" xlink:actuate=\"onRequest\" xlink:href=\"psysml:e01a683f-5a6a-44b0-a0de-a423aeb5ad40\" xlink:show=\"new\" xlink:title=\"psysml:e01a683f-5a6a-44b0-a0de-a423aeb5ad40\" xlink:type=\"simple\"><path d=\"M146.58,133.5 C159.69,154.75 179.63,187.05 194.05,210.41 \" fill=\"none\" id=\"E8-&gt;E7\" style=\"stroke: #A80036; stroke-width: 1.0; stroke-dasharray: 7.0,7.0;\"/><polygon fill=\"#A80036\" points=\"198.33,217.35,196.6785,208.9671,191.5737,212.1201,198.33,217.35\" style=\"stroke: #A80036; stroke-width: 1.0;\"/><text fill=\"#000000\" font-family=\"sans-serif\" font-size=\"13\" lengthAdjust=\"spacingAndGlyphs\" textLength=\"64\" x=\"178\" y=\"180.0669\">«depend»</text></a><!--MD5=[c325543f2473850a3eb1255602cc3036]\n",
       "@startuml\r\n",
       " \r\n",
       "package \"DependencyTest\" as E1  [[psysml:c069fb4a-0cab-46ce-ae30-79221b6c6030 ]]  {\r\n",
       "package \"System\" as E2  [[psysml:0036a7be-5206-4df9-ab28-301972427778 ]]  {\r\n",
       "package \"Application Layer\" as E3  [[psysml:b9058297-d753-442e-8571-9bee33c166c8 ]]  {\r\n",
       "}\r\n",
       "package \"Service Layer\" as E4  [[psysml:f007974c-308f-4828-8f2c-f39213f4e302 ]]  {\r\n",
       "}\r\n",
       "package \"Data Layer\" as E5  [[psysml:7870e797-441e-4743-978b-6b23dab0b8d1 ]]  {\r\n",
       "}\r\n",
       "}\r\n",
       "comp usage \"x\" as E6  <<(U,orange)attribute>> [[psysml:ca3c2c7b-3718-4538-a84c-29984e19a6f6 ]] {\r\n",
       "}\r\n",
       "comp usage \"y\" as E7  <<(U,orange)attribute>> [[psysml:f187cc38-895f-43c9-b55f-372a79474975 ]] {\r\n",
       "}\r\n",
       "comp usage \"z\" as E8  <<(U,orange)attribute>> [[psysml:c8a5167c-621d-4bfa-8ffa-e3ed6a854bed ]] {\r\n",
       "}\r\n",
       "E3 ..>> E4 [[psysml:af0245ca-a479-404d-840a-c478ec8f55f1 ]] : <<depend>>\r\n",
       "E4 ..>> E5 [[psysml:aeab59fe-e3bd-4e23-96a4-136d0d468de6 ]] : <<depend>>\r\n",
       "E8 ..>> E6 [[psysml:e01a683f-5a6a-44b0-a0de-a423aeb5ad40 ]] : <<depend>>\r\n",
       "E8 ..>> E7 [[psysml:e01a683f-5a6a-44b0-a0de-a423aeb5ad40 ]] : <<depend>>\r\n",
       "}\r\n",
       "@enduml\r\n",
       "\n",
       "PlantUML version 1.2020.13(Sat Jun 13 12:26:38 UTC 2020)\n",
       "(EPL source distribution)\n",
       "Java Runtime: OpenJDK Runtime Environment\n",
       "JVM: OpenJDK 64-Bit Server VM\n",
       "Default Encoding: UTF-8\n",
       "Language: en\n",
       "Country: null\n",
       "--></g></svg>"
      ]
     },
     "execution_count": 35,
     "metadata": {},
     "output_type": "execute_result"
    }
   ],
   "source": [
    "%viz --style=\"PLANTUML\" --view=\"Sequence\" \"DependencyTest\""
   ]
  },
  {
   "cell_type": "code",
   "execution_count": 36,
   "id": "direct-witness",
   "metadata": {
    "execution": {
     "iopub.execute_input": "2021-03-26T13:04:34.613515Z",
     "iopub.status.busy": "2021-03-26T13:04:34.612883Z",
     "iopub.status.idle": "2021-03-26T13:04:34.660621Z",
     "shell.execute_reply": "2021-03-26T13:04:34.659071Z"
    }
   },
   "outputs": [
    {
     "data": {
      "image/svg+xml": [
       "<?xml version=\"1.0\" encoding=\"UTF-8\" standalone=\"no\"?><svg xmlns=\"http://www.w3.org/2000/svg\" xmlns:xlink=\"http://www.w3.org/1999/xlink\" contentScriptType=\"application/ecmascript\" contentStyleType=\"text/css\" height=\"449px\" preserveAspectRatio=\"none\" style=\"width:510px;height:449px;\" version=\"1.1\" viewBox=\"0 0 510 449\" width=\"510px\" zoomAndPan=\"magnify\"><defs><filter height=\"300%\" id=\"f1b3p0fd8hdu9b\" width=\"300%\" x=\"-1\" y=\"-1\"><feGaussianBlur result=\"blurOut\" stdDeviation=\"2.0\"/><feColorMatrix in=\"blurOut\" result=\"blurOut2\" type=\"matrix\" values=\"0 0 0 0 0 0 0 0 0 0 0 0 0 0 0 0 0 0 .4 0\"/><feOffset dx=\"4.0\" dy=\"4.0\" in=\"blurOut2\" result=\"blurOut3\"/><feBlend in=\"SourceGraphic\" in2=\"blurOut3\" mode=\"normal\"/></filter></defs><g><!--MD5=[fbc87193dbaf4d95561dea2c320d4a47]\n",
       "cluster E1--><a href=\"psysml:c069fb4a-0cab-46ce-ae30-79221b6c6030\" target=\"_top\" title=\"psysml:c069fb4a-0cab-46ce-ae30-79221b6c6030\" xlink:actuate=\"onRequest\" xlink:href=\"psysml:c069fb4a-0cab-46ce-ae30-79221b6c6030\" xlink:show=\"new\" xlink:title=\"psysml:c069fb4a-0cab-46ce-ae30-79221b6c6030\" xlink:type=\"simple\"><polygon fill=\"#FFFFFF\" filter=\"url(#f1b3p0fd8hdu9b)\" points=\"16,6,156,6,163,28.2969,488,28.2969,488,437,16,437,16,6\" style=\"stroke: #000000; stroke-width: 1.5;\"/><line style=\"stroke: #000000; stroke-width: 1.5;\" x1=\"16\" x2=\"163\" y1=\"28.2969\" y2=\"28.2969\"/><text fill=\"#000000\" font-family=\"sans-serif\" font-size=\"14\" font-weight=\"bold\" lengthAdjust=\"spacingAndGlyphs\" textLength=\"134\" x=\"20\" y=\"20.9951\">DependencyTest</text></a><!--MD5=[e4f7fae6ed58524ba242bb0b0d3be6b7]\n",
       "cluster E2--><a href=\"psysml:0036a7be-5206-4df9-ab28-301972427778\" target=\"_top\" title=\"psysml:0036a7be-5206-4df9-ab28-301972427778\" xlink:actuate=\"onRequest\" xlink:href=\"psysml:0036a7be-5206-4df9-ab28-301972427778\" xlink:show=\"new\" xlink:title=\"psysml:0036a7be-5206-4df9-ab28-301972427778\" xlink:type=\"simple\"><polygon fill=\"#FFFFFF\" filter=\"url(#f1b3p0fd8hdu9b)\" points=\"276,49,340,49,347,71.2969,464,71.2969,464,413,276,413,276,49\" style=\"stroke: #000000; stroke-width: 1.5;\"/><line style=\"stroke: #000000; stroke-width: 1.5;\" x1=\"276\" x2=\"347\" y1=\"71.2969\" y2=\"71.2969\"/><text fill=\"#000000\" font-family=\"sans-serif\" font-size=\"14\" font-weight=\"bold\" lengthAdjust=\"spacingAndGlyphs\" textLength=\"58\" x=\"280\" y=\"63.9951\">System</text></a><!--MD5=[60a26617385b1d2d0262a64233df1f8d]\n",
       "class E6--><a href=\"psysml:ca3c2c7b-3718-4538-a84c-29984e19a6f6\" target=\"_top\" title=\"psysml:ca3c2c7b-3718-4538-a84c-29984e19a6f6\" xlink:actuate=\"onRequest\" xlink:href=\"psysml:ca3c2c7b-3718-4538-a84c-29984e19a6f6\" xlink:show=\"new\" xlink:title=\"psysml:ca3c2c7b-3718-4538-a84c-29984e19a6f6\" xlink:type=\"simple\"><rect fill=\"#FEFECE\" filter=\"url(#f1b3p0fd8hdu9b)\" height=\"45.9375\" id=\"E6\" rx=\"10\" ry=\"10\" style=\"stroke: #A80036; stroke-width: 1.5;\" width=\"97\" x=\"31.5\" y=\"217.5\"/><ellipse cx=\"46.5\" cy=\"236.4688\" fill=\"#FFA500\" rx=\"11\" ry=\"11\" style=\"stroke: #A80036; stroke-width: 1.0;\"/><path d=\"M42.375,238.3906 L42.375,230.5781 L44.8281,230.5781 L44.8281,239.0156 Q44.8281,239.9375 45.2969,240.4688 Q45.7813,241 46.6094,241 Q47.4531,241 47.9219,240.4688 Q48.3906,239.9375 48.3906,239.0156 L48.3906,230.5781 L50.8438,230.5781 L50.8438,238.3906 Q50.8438,240.9219 49.8438,242.0625 Q48.8438,243.2031 46.6094,243.2031 Q44.3906,243.2031 43.375,242.0625 Q42.375,240.9219 42.375,238.3906 Z \"/><text fill=\"#000000\" font-family=\"sans-serif\" font-size=\"12\" font-style=\"italic\" lengthAdjust=\"spacingAndGlyphs\" textLength=\"69\" x=\"58.5\" y=\"233.6387\">«attribute»</text><text fill=\"#000000\" font-family=\"sans-serif\" font-size=\"12\" lengthAdjust=\"spacingAndGlyphs\" textLength=\"6\" x=\"90\" y=\"247.6074\">x</text><line style=\"stroke: #A80036; stroke-width: 1.5;\" x1=\"32.5\" x2=\"127.5\" y1=\"255.4375\" y2=\"255.4375\"/></a><!--MD5=[2156ba9850f5573cc1fc38a6a4b2f02b]\n",
       "class E7--><a href=\"psysml:f187cc38-895f-43c9-b55f-372a79474975\" target=\"_top\" title=\"psysml:f187cc38-895f-43c9-b55f-372a79474975\" xlink:actuate=\"onRequest\" xlink:href=\"psysml:f187cc38-895f-43c9-b55f-372a79474975\" xlink:show=\"new\" xlink:title=\"psysml:f187cc38-895f-43c9-b55f-372a79474975\" xlink:type=\"simple\"><rect fill=\"#FEFECE\" filter=\"url(#f1b3p0fd8hdu9b)\" height=\"45.9375\" id=\"E7\" rx=\"10\" ry=\"10\" style=\"stroke: #A80036; stroke-width: 1.5;\" width=\"97\" x=\"163.5\" y=\"217.5\"/><ellipse cx=\"178.5\" cy=\"236.4688\" fill=\"#FFA500\" rx=\"11\" ry=\"11\" style=\"stroke: #A80036; stroke-width: 1.0;\"/><path d=\"M174.375,238.3906 L174.375,230.5781 L176.8281,230.5781 L176.8281,239.0156 Q176.8281,239.9375 177.2969,240.4688 Q177.7813,241 178.6094,241 Q179.4531,241 179.9219,240.4688 Q180.3906,239.9375 180.3906,239.0156 L180.3906,230.5781 L182.8438,230.5781 L182.8438,238.3906 Q182.8438,240.9219 181.8438,242.0625 Q180.8438,243.2031 178.6094,243.2031 Q176.3906,243.2031 175.375,242.0625 Q174.375,240.9219 174.375,238.3906 Z \"/><text fill=\"#000000\" font-family=\"sans-serif\" font-size=\"12\" font-style=\"italic\" lengthAdjust=\"spacingAndGlyphs\" textLength=\"69\" x=\"190.5\" y=\"233.6387\">«attribute»</text><text fill=\"#000000\" font-family=\"sans-serif\" font-size=\"12\" lengthAdjust=\"spacingAndGlyphs\" textLength=\"6\" x=\"222\" y=\"247.6074\">y</text><line style=\"stroke: #A80036; stroke-width: 1.5;\" x1=\"164.5\" x2=\"259.5\" y1=\"255.4375\" y2=\"255.4375\"/></a><!--MD5=[b9389687b975829384b498ac4b7476b2]\n",
       "class E8--><a href=\"psysml:c8a5167c-621d-4bfa-8ffa-e3ed6a854bed\" target=\"_top\" title=\"psysml:c8a5167c-621d-4bfa-8ffa-e3ed6a854bed\" xlink:actuate=\"onRequest\" xlink:href=\"psysml:c8a5167c-621d-4bfa-8ffa-e3ed6a854bed\" xlink:show=\"new\" xlink:title=\"psysml:c8a5167c-621d-4bfa-8ffa-e3ed6a854bed\" xlink:type=\"simple\"><rect fill=\"#FEFECE\" filter=\"url(#f1b3p0fd8hdu9b)\" height=\"45.9375\" id=\"E8\" rx=\"10\" ry=\"10\" style=\"stroke: #A80036; stroke-width: 1.5;\" width=\"97\" x=\"84.5\" y=\"87.5\"/><ellipse cx=\"99.5\" cy=\"106.4688\" fill=\"#FFA500\" rx=\"11\" ry=\"11\" style=\"stroke: #A80036; stroke-width: 1.0;\"/><path d=\"M95.375,108.3906 L95.375,100.5781 L97.8281,100.5781 L97.8281,109.0156 Q97.8281,109.9375 98.2969,110.4688 Q98.7813,111 99.6094,111 Q100.4531,111 100.9219,110.4688 Q101.3906,109.9375 101.3906,109.0156 L101.3906,100.5781 L103.8438,100.5781 L103.8438,108.3906 Q103.8438,110.9219 102.8438,112.0625 Q101.8438,113.2031 99.6094,113.2031 Q97.3906,113.2031 96.375,112.0625 Q95.375,110.9219 95.375,108.3906 Z \"/><text fill=\"#000000\" font-family=\"sans-serif\" font-size=\"12\" font-style=\"italic\" lengthAdjust=\"spacingAndGlyphs\" textLength=\"69\" x=\"111.5\" y=\"103.6387\">«attribute»</text><text fill=\"#000000\" font-family=\"sans-serif\" font-size=\"12\" lengthAdjust=\"spacingAndGlyphs\" textLength=\"5\" x=\"143.5\" y=\"117.6074\">z</text><line style=\"stroke: #A80036; stroke-width: 1.5;\" x1=\"85.5\" x2=\"180.5\" y1=\"125.4375\" y2=\"125.4375\"/></a><a href=\"psysml:b9058297-d753-442e-8571-9bee33c166c8\" target=\"_top\" title=\"psysml:b9058297-d753-442e-8571-9bee33c166c8\" xlink:actuate=\"onRequest\" xlink:href=\"psysml:b9058297-d753-442e-8571-9bee33c166c8\" xlink:show=\"new\" xlink:title=\"psysml:b9058297-d753-442e-8571-9bee33c166c8\" xlink:type=\"simple\"><polygon fill=\"#FFFFFF\" filter=\"url(#f1b3p0fd8hdu9b)\" points=\"292,84,434,84,441,106.2969,448,106.2969,448,136.5938,292,136.5938,292,84\" style=\"stroke: #000000; stroke-width: 1.5;\"/><line style=\"stroke: #000000; stroke-width: 1.5;\" x1=\"292\" x2=\"441\" y1=\"106.2969\" y2=\"106.2969\"/><text fill=\"#000000\" font-family=\"sans-serif\" font-size=\"14\" font-weight=\"bold\" lengthAdjust=\"spacingAndGlyphs\" textLength=\"136\" x=\"296\" y=\"98.9951\">Application Layer</text></a><a href=\"psysml:f007974c-308f-4828-8f2c-f39213f4e302\" target=\"_top\" title=\"psysml:f007974c-308f-4828-8f2c-f39213f4e302\" xlink:actuate=\"onRequest\" xlink:href=\"psysml:f007974c-308f-4828-8f2c-f39213f4e302\" xlink:show=\"new\" xlink:title=\"psysml:f007974c-308f-4828-8f2c-f39213f4e302\" xlink:type=\"simple\"><polygon fill=\"#FFFFFF\" filter=\"url(#f1b3p0fd8hdu9b)\" points=\"306,214,420,214,427,236.2969,434,236.2969,434,266.5938,306,266.5938,306,214\" style=\"stroke: #000000; stroke-width: 1.5;\"/><line style=\"stroke: #000000; stroke-width: 1.5;\" x1=\"306\" x2=\"427\" y1=\"236.2969\" y2=\"236.2969\"/><text fill=\"#000000\" font-family=\"sans-serif\" font-size=\"14\" font-weight=\"bold\" lengthAdjust=\"spacingAndGlyphs\" textLength=\"108\" x=\"310\" y=\"228.9951\">Service Layer</text></a><a href=\"psysml:7870e797-441e-4743-978b-6b23dab0b8d1\" target=\"_top\" title=\"psysml:7870e797-441e-4743-978b-6b23dab0b8d1\" xlink:actuate=\"onRequest\" xlink:href=\"psysml:7870e797-441e-4743-978b-6b23dab0b8d1\" xlink:show=\"new\" xlink:title=\"psysml:7870e797-441e-4743-978b-6b23dab0b8d1\" xlink:type=\"simple\"><polygon fill=\"#FFFFFF\" filter=\"url(#f1b3p0fd8hdu9b)\" points=\"318,344,408,344,415,366.2969,422,366.2969,422,396.5938,318,396.5938,318,344\" style=\"stroke: #000000; stroke-width: 1.5;\"/><line style=\"stroke: #000000; stroke-width: 1.5;\" x1=\"318\" x2=\"415\" y1=\"366.2969\" y2=\"366.2969\"/><text fill=\"#000000\" font-family=\"sans-serif\" font-size=\"14\" font-weight=\"bold\" lengthAdjust=\"spacingAndGlyphs\" textLength=\"84\" x=\"322\" y=\"358.9951\">Data Layer</text></a><!--MD5=[af87c684e3b0d8be13c1a698a818ef1e]\n",
       "link E3 to E4--><a href=\"psysml:af0245ca-a479-404d-840a-c478ec8f55f1\" target=\"_top\" title=\"psysml:af0245ca-a479-404d-840a-c478ec8f55f1\" xlink:actuate=\"onRequest\" xlink:href=\"psysml:af0245ca-a479-404d-840a-c478ec8f55f1\" xlink:show=\"new\" xlink:title=\"psysml:af0245ca-a479-404d-840a-c478ec8f55f1\" xlink:type=\"simple\"><path d=\"M370,137.1 C370,156.8 370,184.22 370,205.73 \" fill=\"none\" id=\"E3-&gt;E4\" style=\"stroke: #A80036; stroke-width: 1.0; stroke-dasharray: 7.0,7.0;\"/><polygon fill=\"#A80036\" points=\"370,213.95,373,205.95,367,205.95,370,213.95\" style=\"stroke: #A80036; stroke-width: 1.0;\"/><text fill=\"#000000\" font-family=\"sans-serif\" font-size=\"13\" lengthAdjust=\"spacingAndGlyphs\" textLength=\"64\" x=\"371\" y=\"180.0669\">«depend»</text></a><!--MD5=[1b7591eae5389033d8d09a9d6721a717]\n",
       "link E4 to E5--><a href=\"psysml:aeab59fe-e3bd-4e23-96a4-136d0d468de6\" target=\"_top\" title=\"psysml:aeab59fe-e3bd-4e23-96a4-136d0d468de6\" xlink:actuate=\"onRequest\" xlink:href=\"psysml:aeab59fe-e3bd-4e23-96a4-136d0d468de6\" xlink:show=\"new\" xlink:title=\"psysml:aeab59fe-e3bd-4e23-96a4-136d0d468de6\" xlink:type=\"simple\"><path d=\"M370,267.1 C370,286.8 370,314.22 370,335.73 \" fill=\"none\" id=\"E4-&gt;E5\" style=\"stroke: #A80036; stroke-width: 1.0; stroke-dasharray: 7.0,7.0;\"/><polygon fill=\"#A80036\" points=\"370,343.95,373,335.95,367,335.95,370,343.95\" style=\"stroke: #A80036; stroke-width: 1.0;\"/><text fill=\"#000000\" font-family=\"sans-serif\" font-size=\"13\" lengthAdjust=\"spacingAndGlyphs\" textLength=\"64\" x=\"371\" y=\"310.0669\">«depend»</text></a><!--MD5=[c5e8897d989ce984f93528998a7150fe]\n",
       "link E8 to E6--><a href=\"psysml:e01a683f-5a6a-44b0-a0de-a423aeb5ad40\" target=\"_top\" title=\"psysml:e01a683f-5a6a-44b0-a0de-a423aeb5ad40\" xlink:actuate=\"onRequest\" xlink:href=\"psysml:e01a683f-5a6a-44b0-a0de-a423aeb5ad40\" xlink:show=\"new\" xlink:title=\"psysml:e01a683f-5a6a-44b0-a0de-a423aeb5ad40\" xlink:type=\"simple\"><path d=\"M106.44,133.76 C97.3,143.01 88.09,154.51 83,167 C77.6,180.23 76.4,195.98 76.73,209.41 \" fill=\"none\" id=\"E8-&gt;E6\" style=\"stroke: #A80036; stroke-width: 1.0; stroke-dasharray: 7.0,7.0;\"/><polygon fill=\"#A80036\" points=\"77.12,217.43,79.7306,209.2946,73.7375,209.584,77.12,217.43\" style=\"stroke: #A80036; stroke-width: 1.0;\"/><text fill=\"#000000\" font-family=\"sans-serif\" font-size=\"13\" lengthAdjust=\"spacingAndGlyphs\" textLength=\"64\" x=\"84\" y=\"180.0669\">«depend»</text></a><!--MD5=[bfa3c8b0d15052fdf50ae9310b491027]\n",
       "link E8 to E7--><a href=\"psysml:e01a683f-5a6a-44b0-a0de-a423aeb5ad40\" target=\"_top\" title=\"psysml:e01a683f-5a6a-44b0-a0de-a423aeb5ad40\" xlink:actuate=\"onRequest\" xlink:href=\"psysml:e01a683f-5a6a-44b0-a0de-a423aeb5ad40\" xlink:show=\"new\" xlink:title=\"psysml:e01a683f-5a6a-44b0-a0de-a423aeb5ad40\" xlink:type=\"simple\"><path d=\"M146.58,133.5 C159.69,154.75 179.63,187.05 194.05,210.41 \" fill=\"none\" id=\"E8-&gt;E7\" style=\"stroke: #A80036; stroke-width: 1.0; stroke-dasharray: 7.0,7.0;\"/><polygon fill=\"#A80036\" points=\"198.33,217.35,196.6785,208.9671,191.5737,212.1201,198.33,217.35\" style=\"stroke: #A80036; stroke-width: 1.0;\"/><text fill=\"#000000\" font-family=\"sans-serif\" font-size=\"13\" lengthAdjust=\"spacingAndGlyphs\" textLength=\"64\" x=\"178\" y=\"180.0669\">«depend»</text></a><!--MD5=[c325543f2473850a3eb1255602cc3036]\n",
       "@startuml\r\n",
       " \r\n",
       "package \"DependencyTest\" as E1  [[psysml:c069fb4a-0cab-46ce-ae30-79221b6c6030 ]]  {\r\n",
       "package \"System\" as E2  [[psysml:0036a7be-5206-4df9-ab28-301972427778 ]]  {\r\n",
       "package \"Application Layer\" as E3  [[psysml:b9058297-d753-442e-8571-9bee33c166c8 ]]  {\r\n",
       "}\r\n",
       "package \"Service Layer\" as E4  [[psysml:f007974c-308f-4828-8f2c-f39213f4e302 ]]  {\r\n",
       "}\r\n",
       "package \"Data Layer\" as E5  [[psysml:7870e797-441e-4743-978b-6b23dab0b8d1 ]]  {\r\n",
       "}\r\n",
       "}\r\n",
       "comp usage \"x\" as E6  <<(U,orange)attribute>> [[psysml:ca3c2c7b-3718-4538-a84c-29984e19a6f6 ]] {\r\n",
       "}\r\n",
       "comp usage \"y\" as E7  <<(U,orange)attribute>> [[psysml:f187cc38-895f-43c9-b55f-372a79474975 ]] {\r\n",
       "}\r\n",
       "comp usage \"z\" as E8  <<(U,orange)attribute>> [[psysml:c8a5167c-621d-4bfa-8ffa-e3ed6a854bed ]] {\r\n",
       "}\r\n",
       "E3 ..>> E4 [[psysml:af0245ca-a479-404d-840a-c478ec8f55f1 ]] : <<depend>>\r\n",
       "E4 ..>> E5 [[psysml:aeab59fe-e3bd-4e23-96a4-136d0d468de6 ]] : <<depend>>\r\n",
       "E8 ..>> E6 [[psysml:e01a683f-5a6a-44b0-a0de-a423aeb5ad40 ]] : <<depend>>\r\n",
       "E8 ..>> E7 [[psysml:e01a683f-5a6a-44b0-a0de-a423aeb5ad40 ]] : <<depend>>\r\n",
       "}\r\n",
       "@enduml\r\n",
       "\n",
       "PlantUML version 1.2020.13(Sat Jun 13 12:26:38 UTC 2020)\n",
       "(EPL source distribution)\n",
       "Java Runtime: OpenJDK Runtime Environment\n",
       "JVM: OpenJDK 64-Bit Server VM\n",
       "Default Encoding: UTF-8\n",
       "Language: en\n",
       "Country: null\n",
       "--></g></svg>"
      ]
     },
     "execution_count": 36,
     "metadata": {},
     "output_type": "execute_result"
    }
   ],
   "source": [
    "%viz --style=\"PLANTUML\" --view=\"MIXED\" \"DependencyTest\""
   ]
  },
  {
   "cell_type": "code",
   "execution_count": 37,
   "id": "delayed-piece",
   "metadata": {
    "execution": {
     "iopub.execute_input": "2021-03-26T13:04:34.719330Z",
     "iopub.status.busy": "2021-03-26T13:04:34.718907Z",
     "iopub.status.idle": "2021-03-26T13:04:34.750200Z",
     "shell.execute_reply": "2021-03-26T13:04:34.748743Z"
    }
   },
   "outputs": [
    {
     "data": {
      "image/svg+xml": [
       "<?xml version=\"1.0\" encoding=\"UTF-8\" standalone=\"no\"?><svg xmlns=\"http://www.w3.org/2000/svg\" xmlns:xlink=\"http://www.w3.org/1999/xlink\" contentScriptType=\"application/ecmascript\" contentStyleType=\"text/css\" height=\"449px\" preserveAspectRatio=\"none\" style=\"width:489px;height:449px;\" version=\"1.1\" viewBox=\"0 0 489 449\" width=\"489px\" zoomAndPan=\"magnify\"><defs/><g><!--MD5=[fbc87193dbaf4d95561dea2c320d4a47]\n",
       "cluster E1--><a href=\"psysml:c069fb4a-0cab-46ce-ae30-79221b6c6030\" target=\"_top\" title=\"psysml:c069fb4a-0cab-46ce-ae30-79221b6c6030\" xlink:actuate=\"onRequest\" xlink:href=\"psysml:c069fb4a-0cab-46ce-ae30-79221b6c6030\" xlink:show=\"new\" xlink:title=\"psysml:c069fb4a-0cab-46ce-ae30-79221b6c6030\" xlink:type=\"simple\"><polygon fill=\"#FFFFFF\" points=\"16,6,156,6,163,28.2969,467,28.2969,467,437,16,437,16,6\" style=\"stroke: #000000; stroke-width: 1.5;\"/><line style=\"stroke: #000000; stroke-width: 1.5;\" x1=\"16\" x2=\"163\" y1=\"28.2969\" y2=\"28.2969\"/><text fill=\"#000000\" font-family=\"sans-serif\" font-size=\"14\" font-weight=\"bold\" lengthAdjust=\"spacingAndGlyphs\" textLength=\"134\" x=\"20\" y=\"20.9951\">DependencyTest</text></a><!--MD5=[e4f7fae6ed58524ba242bb0b0d3be6b7]\n",
       "cluster E2--><a href=\"psysml:0036a7be-5206-4df9-ab28-301972427778\" target=\"_top\" title=\"psysml:0036a7be-5206-4df9-ab28-301972427778\" xlink:actuate=\"onRequest\" xlink:href=\"psysml:0036a7be-5206-4df9-ab28-301972427778\" xlink:show=\"new\" xlink:title=\"psysml:0036a7be-5206-4df9-ab28-301972427778\" xlink:type=\"simple\"><polygon fill=\"#FFFFFF\" points=\"255,49,319,49,326,71.2969,443,71.2969,443,413,255,413,255,49\" style=\"stroke: #000000; stroke-width: 1.5;\"/><line style=\"stroke: #000000; stroke-width: 1.5;\" x1=\"255\" x2=\"326\" y1=\"71.2969\" y2=\"71.2969\"/><text fill=\"#000000\" font-family=\"sans-serif\" font-size=\"14\" font-weight=\"bold\" lengthAdjust=\"spacingAndGlyphs\" textLength=\"58\" x=\"259\" y=\"63.9951\">System</text></a><!--MD5=[60a26617385b1d2d0262a64233df1f8d]\n",
       "class E6--><a href=\"psysml:ca3c2c7b-3718-4538-a84c-29984e19a6f6\" target=\"_top\" title=\"psysml:ca3c2c7b-3718-4538-a84c-29984e19a6f6\" xlink:actuate=\"onRequest\" xlink:href=\"psysml:ca3c2c7b-3718-4538-a84c-29984e19a6f6\" xlink:show=\"new\" xlink:title=\"psysml:ca3c2c7b-3718-4538-a84c-29984e19a6f6\" xlink:type=\"simple\"><rect fill=\"#FFFFFF\" height=\"45.9375\" id=\"E6\" rx=\"10\" ry=\"10\" style=\"stroke: #383838; stroke-width: 1.5;\" width=\"71\" x=\"32.5\" y=\"217.5\"/><text fill=\"#000000\" font-family=\"sans-serif\" font-size=\"12\" font-style=\"italic\" lengthAdjust=\"spacingAndGlyphs\" textLength=\"69\" x=\"33.5\" y=\"233.6387\">«attribute»</text><text fill=\"#000000\" font-family=\"sans-serif\" font-size=\"12\" lengthAdjust=\"spacingAndGlyphs\" textLength=\"6\" x=\"65\" y=\"247.6074\">x</text><line style=\"stroke: #383838; stroke-width: 1.5;\" x1=\"33.5\" x2=\"102.5\" y1=\"255.4375\" y2=\"255.4375\"/></a><!--MD5=[2156ba9850f5573cc1fc38a6a4b2f02b]\n",
       "class E7--><a href=\"psysml:f187cc38-895f-43c9-b55f-372a79474975\" target=\"_top\" title=\"psysml:f187cc38-895f-43c9-b55f-372a79474975\" xlink:actuate=\"onRequest\" xlink:href=\"psysml:f187cc38-895f-43c9-b55f-372a79474975\" xlink:show=\"new\" xlink:title=\"psysml:f187cc38-895f-43c9-b55f-372a79474975\" xlink:type=\"simple\"><rect fill=\"#FFFFFF\" height=\"45.9375\" id=\"E7\" rx=\"10\" ry=\"10\" style=\"stroke: #383838; stroke-width: 1.5;\" width=\"71\" x=\"138.5\" y=\"217.5\"/><text fill=\"#000000\" font-family=\"sans-serif\" font-size=\"12\" font-style=\"italic\" lengthAdjust=\"spacingAndGlyphs\" textLength=\"69\" x=\"139.5\" y=\"233.6387\">«attribute»</text><text fill=\"#000000\" font-family=\"sans-serif\" font-size=\"12\" lengthAdjust=\"spacingAndGlyphs\" textLength=\"6\" x=\"171\" y=\"247.6074\">y</text><line style=\"stroke: #383838; stroke-width: 1.5;\" x1=\"139.5\" x2=\"208.5\" y1=\"255.4375\" y2=\"255.4375\"/></a><!--MD5=[b9389687b975829384b498ac4b7476b2]\n",
       "class E8--><a href=\"psysml:c8a5167c-621d-4bfa-8ffa-e3ed6a854bed\" target=\"_top\" title=\"psysml:c8a5167c-621d-4bfa-8ffa-e3ed6a854bed\" xlink:actuate=\"onRequest\" xlink:href=\"psysml:c8a5167c-621d-4bfa-8ffa-e3ed6a854bed\" xlink:show=\"new\" xlink:title=\"psysml:c8a5167c-621d-4bfa-8ffa-e3ed6a854bed\" xlink:type=\"simple\"><rect fill=\"#FFFFFF\" height=\"45.9375\" id=\"E8\" rx=\"10\" ry=\"10\" style=\"stroke: #383838; stroke-width: 1.5;\" width=\"71\" x=\"84.5\" y=\"87.5\"/><text fill=\"#000000\" font-family=\"sans-serif\" font-size=\"12\" font-style=\"italic\" lengthAdjust=\"spacingAndGlyphs\" textLength=\"69\" x=\"85.5\" y=\"103.6387\">«attribute»</text><text fill=\"#000000\" font-family=\"sans-serif\" font-size=\"12\" lengthAdjust=\"spacingAndGlyphs\" textLength=\"5\" x=\"117.5\" y=\"117.6074\">z</text><line style=\"stroke: #383838; stroke-width: 1.5;\" x1=\"85.5\" x2=\"154.5\" y1=\"125.4375\" y2=\"125.4375\"/></a><a href=\"psysml:b9058297-d753-442e-8571-9bee33c166c8\" target=\"_top\" title=\"psysml:b9058297-d753-442e-8571-9bee33c166c8\" xlink:actuate=\"onRequest\" xlink:href=\"psysml:b9058297-d753-442e-8571-9bee33c166c8\" xlink:show=\"new\" xlink:title=\"psysml:b9058297-d753-442e-8571-9bee33c166c8\" xlink:type=\"simple\"><polygon fill=\"#FFFFFF\" points=\"271,84,413,84,420,106.2969,427,106.2969,427,136.5938,271,136.5938,271,84\" style=\"stroke: #000000; stroke-width: 1.5;\"/><line style=\"stroke: #000000; stroke-width: 1.5;\" x1=\"271\" x2=\"420\" y1=\"106.2969\" y2=\"106.2969\"/><text fill=\"#000000\" font-family=\"sans-serif\" font-size=\"14\" font-weight=\"bold\" lengthAdjust=\"spacingAndGlyphs\" textLength=\"136\" x=\"275\" y=\"98.9951\">Application Layer</text></a><a href=\"psysml:f007974c-308f-4828-8f2c-f39213f4e302\" target=\"_top\" title=\"psysml:f007974c-308f-4828-8f2c-f39213f4e302\" xlink:actuate=\"onRequest\" xlink:href=\"psysml:f007974c-308f-4828-8f2c-f39213f4e302\" xlink:show=\"new\" xlink:title=\"psysml:f007974c-308f-4828-8f2c-f39213f4e302\" xlink:type=\"simple\"><polygon fill=\"#FFFFFF\" points=\"285,214,399,214,406,236.2969,413,236.2969,413,266.5938,285,266.5938,285,214\" style=\"stroke: #000000; stroke-width: 1.5;\"/><line style=\"stroke: #000000; stroke-width: 1.5;\" x1=\"285\" x2=\"406\" y1=\"236.2969\" y2=\"236.2969\"/><text fill=\"#000000\" font-family=\"sans-serif\" font-size=\"14\" font-weight=\"bold\" lengthAdjust=\"spacingAndGlyphs\" textLength=\"108\" x=\"289\" y=\"228.9951\">Service Layer</text></a><a href=\"psysml:7870e797-441e-4743-978b-6b23dab0b8d1\" target=\"_top\" title=\"psysml:7870e797-441e-4743-978b-6b23dab0b8d1\" xlink:actuate=\"onRequest\" xlink:href=\"psysml:7870e797-441e-4743-978b-6b23dab0b8d1\" xlink:show=\"new\" xlink:title=\"psysml:7870e797-441e-4743-978b-6b23dab0b8d1\" xlink:type=\"simple\"><polygon fill=\"#FFFFFF\" points=\"297,344,387,344,394,366.2969,401,366.2969,401,396.5938,297,396.5938,297,344\" style=\"stroke: #000000; stroke-width: 1.5;\"/><line style=\"stroke: #000000; stroke-width: 1.5;\" x1=\"297\" x2=\"394\" y1=\"366.2969\" y2=\"366.2969\"/><text fill=\"#000000\" font-family=\"sans-serif\" font-size=\"14\" font-weight=\"bold\" lengthAdjust=\"spacingAndGlyphs\" textLength=\"84\" x=\"301\" y=\"358.9951\">Data Layer</text></a><!--MD5=[af87c684e3b0d8be13c1a698a818ef1e]\n",
       "link E3 to E4--><a href=\"psysml:af0245ca-a479-404d-840a-c478ec8f55f1\" target=\"_top\" title=\"psysml:af0245ca-a479-404d-840a-c478ec8f55f1\" xlink:actuate=\"onRequest\" xlink:href=\"psysml:af0245ca-a479-404d-840a-c478ec8f55f1\" xlink:show=\"new\" xlink:title=\"psysml:af0245ca-a479-404d-840a-c478ec8f55f1\" xlink:type=\"simple\"><path d=\"M349,137.1 C349,156.8 349,184.22 349,205.73 \" fill=\"none\" id=\"E3-&gt;E4\" style=\"stroke: #383838; stroke-width: 1.0; stroke-dasharray: 7.0,7.0;\"/><polygon fill=\"#383838\" points=\"349,213.95,352,205.95,346,205.95,349,213.95\" style=\"stroke: #383838; stroke-width: 1.0;\"/><text fill=\"#000000\" font-family=\"sans-serif\" font-size=\"13\" lengthAdjust=\"spacingAndGlyphs\" textLength=\"64\" x=\"350\" y=\"180.0669\">«depend»</text></a><!--MD5=[1b7591eae5389033d8d09a9d6721a717]\n",
       "link E4 to E5--><a href=\"psysml:aeab59fe-e3bd-4e23-96a4-136d0d468de6\" target=\"_top\" title=\"psysml:aeab59fe-e3bd-4e23-96a4-136d0d468de6\" xlink:actuate=\"onRequest\" xlink:href=\"psysml:aeab59fe-e3bd-4e23-96a4-136d0d468de6\" xlink:show=\"new\" xlink:title=\"psysml:aeab59fe-e3bd-4e23-96a4-136d0d468de6\" xlink:type=\"simple\"><path d=\"M349,267.1 C349,286.8 349,314.22 349,335.73 \" fill=\"none\" id=\"E4-&gt;E5\" style=\"stroke: #383838; stroke-width: 1.0; stroke-dasharray: 7.0,7.0;\"/><polygon fill=\"#383838\" points=\"349,343.95,352,335.95,346,335.95,349,343.95\" style=\"stroke: #383838; stroke-width: 1.0;\"/><text fill=\"#000000\" font-family=\"sans-serif\" font-size=\"13\" lengthAdjust=\"spacingAndGlyphs\" textLength=\"64\" x=\"350\" y=\"310.0669\">«depend»</text></a><!--MD5=[c5e8897d989ce984f93528998a7150fe]\n",
       "link E8 to E6--><a href=\"psysml:e01a683f-5a6a-44b0-a0de-a423aeb5ad40\" target=\"_top\" title=\"psysml:e01a683f-5a6a-44b0-a0de-a423aeb5ad40\" xlink:actuate=\"onRequest\" xlink:href=\"psysml:e01a683f-5a6a-44b0-a0de-a423aeb5ad40\" xlink:show=\"new\" xlink:title=\"psysml:e01a683f-5a6a-44b0-a0de-a423aeb5ad40\" xlink:type=\"simple\"><path d=\"M89.42,133.6 C79.35,142.68 69.37,154.11 64,167 C58.5,180.2 58.66,195.94 60.54,209.38 \" fill=\"none\" id=\"E8-&gt;E6\" style=\"stroke: #383838; stroke-width: 1.0; stroke-dasharray: 7.0,7.0;\"/><polygon fill=\"#383838\" points=\"61.9,217.4,63.517,209.0104,57.6018,210.0159,61.9,217.4\" style=\"stroke: #383838; stroke-width: 1.0;\"/><text fill=\"#000000\" font-family=\"sans-serif\" font-size=\"13\" lengthAdjust=\"spacingAndGlyphs\" textLength=\"64\" x=\"65\" y=\"180.0669\">«depend»</text></a><!--MD5=[bfa3c8b0d15052fdf50ae9310b491027]\n",
       "link E8 to E7--><a href=\"psysml:e01a683f-5a6a-44b0-a0de-a423aeb5ad40\" target=\"_top\" title=\"psysml:e01a683f-5a6a-44b0-a0de-a423aeb5ad40\" xlink:actuate=\"onRequest\" xlink:href=\"psysml:e01a683f-5a6a-44b0-a0de-a423aeb5ad40\" xlink:show=\"new\" xlink:title=\"psysml:e01a683f-5a6a-44b0-a0de-a423aeb5ad40\" xlink:type=\"simple\"><path d=\"M129.28,133.5 C138.17,154.57 151.64,186.5 161.47,209.81 \" fill=\"none\" id=\"E8-&gt;E7\" style=\"stroke: #383838; stroke-width: 1.0; stroke-dasharray: 7.0,7.0;\"/><polygon fill=\"#383838\" points=\"164.66,217.35,164.3241,208.8126,158.7933,211.1385,164.66,217.35\" style=\"stroke: #383838; stroke-width: 1.0;\"/><text fill=\"#000000\" font-family=\"sans-serif\" font-size=\"13\" lengthAdjust=\"spacingAndGlyphs\" textLength=\"64\" x=\"151\" y=\"180.0669\">«depend»</text></a><!--MD5=[ac65b5578ce8b77b9e69161f739b0ab6]\n",
       "@startuml\r\n",
       "skinparam monochrome true\r\n",
       "skinparam classbackgroundcolor white\r\n",
       "skinparam shadowing false\r\n",
       "skinparam wrapWidth 300\r\n",
       "hide circle\r\n",
       "\r\n",
       "package \"DependencyTest\" as E1  [[psysml:c069fb4a-0cab-46ce-ae30-79221b6c6030 ]]  {\r\n",
       "package \"System\" as E2  [[psysml:0036a7be-5206-4df9-ab28-301972427778 ]]  {\r\n",
       "package \"Application Layer\" as E3  [[psysml:b9058297-d753-442e-8571-9bee33c166c8 ]]  {\r\n",
       "}\r\n",
       "package \"Service Layer\" as E4  [[psysml:f007974c-308f-4828-8f2c-f39213f4e302 ]]  {\r\n",
       "}\r\n",
       "package \"Data Layer\" as E5  [[psysml:7870e797-441e-4743-978b-6b23dab0b8d1 ]]  {\r\n",
       "}\r\n",
       "}\r\n",
       "comp usage \"x\" as E6  <<(T,blue)attribute>> [[psysml:ca3c2c7b-3718-4538-a84c-29984e19a6f6 ]] {\r\n",
       "}\r\n",
       "comp usage \"y\" as E7  <<(T,blue)attribute>> [[psysml:f187cc38-895f-43c9-b55f-372a79474975 ]] {\r\n",
       "}\r\n",
       "comp usage \"z\" as E8  <<(T,blue)attribute>> [[psysml:c8a5167c-621d-4bfa-8ffa-e3ed6a854bed ]] {\r\n",
       "}\r\n",
       "E3 ..>> E4 [[psysml:af0245ca-a479-404d-840a-c478ec8f55f1 ]] : <<depend>>\r\n",
       "E4 ..>> E5 [[psysml:aeab59fe-e3bd-4e23-96a4-136d0d468de6 ]] : <<depend>>\r\n",
       "E8 ..>> E6 [[psysml:e01a683f-5a6a-44b0-a0de-a423aeb5ad40 ]] : <<depend>>\r\n",
       "E8 ..>> E7 [[psysml:e01a683f-5a6a-44b0-a0de-a423aeb5ad40 ]] : <<depend>>\r\n",
       "}\r\n",
       "@enduml\r\n",
       "\n",
       "PlantUML version 1.2020.13(Sat Jun 13 12:26:38 UTC 2020)\n",
       "(EPL source distribution)\n",
       "Java Runtime: OpenJDK Runtime Environment\n",
       "JVM: OpenJDK 64-Bit Server VM\n",
       "Default Encoding: UTF-8\n",
       "Language: en\n",
       "Country: null\n",
       "--></g></svg>"
      ]
     },
     "execution_count": 37,
     "metadata": {},
     "output_type": "execute_result"
    }
   ],
   "source": [
    "%viz --style=\"DEFAULT\" --view=\"Default\" \"DependencyTest\""
   ]
  },
  {
   "cell_type": "code",
   "execution_count": 38,
   "id": "numeric-muslim",
   "metadata": {
    "execution": {
     "iopub.execute_input": "2021-03-26T13:04:34.801217Z",
     "iopub.status.busy": "2021-03-26T13:04:34.800801Z",
     "iopub.status.idle": "2021-03-26T13:04:34.847629Z",
     "shell.execute_reply": "2021-03-26T13:04:34.846124Z"
    }
   },
   "outputs": [
    {
     "data": {
      "image/svg+xml": [
       "<?xml version=\"1.0\" encoding=\"UTF-8\" standalone=\"no\"?><svg xmlns=\"http://www.w3.org/2000/svg\" xmlns:xlink=\"http://www.w3.org/1999/xlink\" contentScriptType=\"application/ecmascript\" contentStyleType=\"text/css\" height=\"449px\" preserveAspectRatio=\"none\" style=\"width:489px;height:449px;\" version=\"1.1\" viewBox=\"0 0 489 449\" width=\"489px\" zoomAndPan=\"magnify\"><defs/><g><!--MD5=[fbc87193dbaf4d95561dea2c320d4a47]\n",
       "cluster E1--><a href=\"psysml:c069fb4a-0cab-46ce-ae30-79221b6c6030\" target=\"_top\" title=\"psysml:c069fb4a-0cab-46ce-ae30-79221b6c6030\" xlink:actuate=\"onRequest\" xlink:href=\"psysml:c069fb4a-0cab-46ce-ae30-79221b6c6030\" xlink:show=\"new\" xlink:title=\"psysml:c069fb4a-0cab-46ce-ae30-79221b6c6030\" xlink:type=\"simple\"><polygon fill=\"#FFFFFF\" points=\"16,6,156,6,163,28.2969,467,28.2969,467,437,16,437,16,6\" style=\"stroke: #000000; stroke-width: 1.5;\"/><line style=\"stroke: #000000; stroke-width: 1.5;\" x1=\"16\" x2=\"163\" y1=\"28.2969\" y2=\"28.2969\"/><text fill=\"#000000\" font-family=\"sans-serif\" font-size=\"14\" font-weight=\"bold\" lengthAdjust=\"spacingAndGlyphs\" textLength=\"134\" x=\"20\" y=\"20.9951\">DependencyTest</text></a><!--MD5=[e4f7fae6ed58524ba242bb0b0d3be6b7]\n",
       "cluster E2--><a href=\"psysml:0036a7be-5206-4df9-ab28-301972427778\" target=\"_top\" title=\"psysml:0036a7be-5206-4df9-ab28-301972427778\" xlink:actuate=\"onRequest\" xlink:href=\"psysml:0036a7be-5206-4df9-ab28-301972427778\" xlink:show=\"new\" xlink:title=\"psysml:0036a7be-5206-4df9-ab28-301972427778\" xlink:type=\"simple\"><polygon fill=\"#FFFFFF\" points=\"255,49,319,49,326,71.2969,443,71.2969,443,413,255,413,255,49\" style=\"stroke: #000000; stroke-width: 1.5;\"/><line style=\"stroke: #000000; stroke-width: 1.5;\" x1=\"255\" x2=\"326\" y1=\"71.2969\" y2=\"71.2969\"/><text fill=\"#000000\" font-family=\"sans-serif\" font-size=\"14\" font-weight=\"bold\" lengthAdjust=\"spacingAndGlyphs\" textLength=\"58\" x=\"259\" y=\"63.9951\">System</text></a><!--MD5=[60a26617385b1d2d0262a64233df1f8d]\n",
       "class E6--><a href=\"psysml:ca3c2c7b-3718-4538-a84c-29984e19a6f6\" target=\"_top\" title=\"psysml:ca3c2c7b-3718-4538-a84c-29984e19a6f6\" xlink:actuate=\"onRequest\" xlink:href=\"psysml:ca3c2c7b-3718-4538-a84c-29984e19a6f6\" xlink:show=\"new\" xlink:title=\"psysml:ca3c2c7b-3718-4538-a84c-29984e19a6f6\" xlink:type=\"simple\"><rect fill=\"#FFFFFF\" height=\"45.9375\" id=\"E6\" rx=\"10\" ry=\"10\" style=\"stroke: #383838; stroke-width: 1.5;\" width=\"71\" x=\"32.5\" y=\"217.5\"/><text fill=\"#000000\" font-family=\"sans-serif\" font-size=\"12\" font-style=\"italic\" lengthAdjust=\"spacingAndGlyphs\" textLength=\"69\" x=\"33.5\" y=\"233.6387\">«attribute»</text><text fill=\"#000000\" font-family=\"sans-serif\" font-size=\"12\" lengthAdjust=\"spacingAndGlyphs\" textLength=\"6\" x=\"65\" y=\"247.6074\">x</text><line style=\"stroke: #383838; stroke-width: 1.5;\" x1=\"33.5\" x2=\"102.5\" y1=\"255.4375\" y2=\"255.4375\"/></a><!--MD5=[2156ba9850f5573cc1fc38a6a4b2f02b]\n",
       "class E7--><a href=\"psysml:f187cc38-895f-43c9-b55f-372a79474975\" target=\"_top\" title=\"psysml:f187cc38-895f-43c9-b55f-372a79474975\" xlink:actuate=\"onRequest\" xlink:href=\"psysml:f187cc38-895f-43c9-b55f-372a79474975\" xlink:show=\"new\" xlink:title=\"psysml:f187cc38-895f-43c9-b55f-372a79474975\" xlink:type=\"simple\"><rect fill=\"#FFFFFF\" height=\"45.9375\" id=\"E7\" rx=\"10\" ry=\"10\" style=\"stroke: #383838; stroke-width: 1.5;\" width=\"71\" x=\"138.5\" y=\"217.5\"/><text fill=\"#000000\" font-family=\"sans-serif\" font-size=\"12\" font-style=\"italic\" lengthAdjust=\"spacingAndGlyphs\" textLength=\"69\" x=\"139.5\" y=\"233.6387\">«attribute»</text><text fill=\"#000000\" font-family=\"sans-serif\" font-size=\"12\" lengthAdjust=\"spacingAndGlyphs\" textLength=\"6\" x=\"171\" y=\"247.6074\">y</text><line style=\"stroke: #383838; stroke-width: 1.5;\" x1=\"139.5\" x2=\"208.5\" y1=\"255.4375\" y2=\"255.4375\"/></a><!--MD5=[b9389687b975829384b498ac4b7476b2]\n",
       "class E8--><a href=\"psysml:c8a5167c-621d-4bfa-8ffa-e3ed6a854bed\" target=\"_top\" title=\"psysml:c8a5167c-621d-4bfa-8ffa-e3ed6a854bed\" xlink:actuate=\"onRequest\" xlink:href=\"psysml:c8a5167c-621d-4bfa-8ffa-e3ed6a854bed\" xlink:show=\"new\" xlink:title=\"psysml:c8a5167c-621d-4bfa-8ffa-e3ed6a854bed\" xlink:type=\"simple\"><rect fill=\"#FFFFFF\" height=\"45.9375\" id=\"E8\" rx=\"10\" ry=\"10\" style=\"stroke: #383838; stroke-width: 1.5;\" width=\"71\" x=\"84.5\" y=\"87.5\"/><text fill=\"#000000\" font-family=\"sans-serif\" font-size=\"12\" font-style=\"italic\" lengthAdjust=\"spacingAndGlyphs\" textLength=\"69\" x=\"85.5\" y=\"103.6387\">«attribute»</text><text fill=\"#000000\" font-family=\"sans-serif\" font-size=\"12\" lengthAdjust=\"spacingAndGlyphs\" textLength=\"5\" x=\"117.5\" y=\"117.6074\">z</text><line style=\"stroke: #383838; stroke-width: 1.5;\" x1=\"85.5\" x2=\"154.5\" y1=\"125.4375\" y2=\"125.4375\"/></a><a href=\"psysml:b9058297-d753-442e-8571-9bee33c166c8\" target=\"_top\" title=\"psysml:b9058297-d753-442e-8571-9bee33c166c8\" xlink:actuate=\"onRequest\" xlink:href=\"psysml:b9058297-d753-442e-8571-9bee33c166c8\" xlink:show=\"new\" xlink:title=\"psysml:b9058297-d753-442e-8571-9bee33c166c8\" xlink:type=\"simple\"><polygon fill=\"#FFFFFF\" points=\"271,84,413,84,420,106.2969,427,106.2969,427,136.5938,271,136.5938,271,84\" style=\"stroke: #000000; stroke-width: 1.5;\"/><line style=\"stroke: #000000; stroke-width: 1.5;\" x1=\"271\" x2=\"420\" y1=\"106.2969\" y2=\"106.2969\"/><text fill=\"#000000\" font-family=\"sans-serif\" font-size=\"14\" font-weight=\"bold\" lengthAdjust=\"spacingAndGlyphs\" textLength=\"136\" x=\"275\" y=\"98.9951\">Application Layer</text></a><a href=\"psysml:f007974c-308f-4828-8f2c-f39213f4e302\" target=\"_top\" title=\"psysml:f007974c-308f-4828-8f2c-f39213f4e302\" xlink:actuate=\"onRequest\" xlink:href=\"psysml:f007974c-308f-4828-8f2c-f39213f4e302\" xlink:show=\"new\" xlink:title=\"psysml:f007974c-308f-4828-8f2c-f39213f4e302\" xlink:type=\"simple\"><polygon fill=\"#FFFFFF\" points=\"285,214,399,214,406,236.2969,413,236.2969,413,266.5938,285,266.5938,285,214\" style=\"stroke: #000000; stroke-width: 1.5;\"/><line style=\"stroke: #000000; stroke-width: 1.5;\" x1=\"285\" x2=\"406\" y1=\"236.2969\" y2=\"236.2969\"/><text fill=\"#000000\" font-family=\"sans-serif\" font-size=\"14\" font-weight=\"bold\" lengthAdjust=\"spacingAndGlyphs\" textLength=\"108\" x=\"289\" y=\"228.9951\">Service Layer</text></a><a href=\"psysml:7870e797-441e-4743-978b-6b23dab0b8d1\" target=\"_top\" title=\"psysml:7870e797-441e-4743-978b-6b23dab0b8d1\" xlink:actuate=\"onRequest\" xlink:href=\"psysml:7870e797-441e-4743-978b-6b23dab0b8d1\" xlink:show=\"new\" xlink:title=\"psysml:7870e797-441e-4743-978b-6b23dab0b8d1\" xlink:type=\"simple\"><polygon fill=\"#FFFFFF\" points=\"297,344,387,344,394,366.2969,401,366.2969,401,396.5938,297,396.5938,297,344\" style=\"stroke: #000000; stroke-width: 1.5;\"/><line style=\"stroke: #000000; stroke-width: 1.5;\" x1=\"297\" x2=\"394\" y1=\"366.2969\" y2=\"366.2969\"/><text fill=\"#000000\" font-family=\"sans-serif\" font-size=\"14\" font-weight=\"bold\" lengthAdjust=\"spacingAndGlyphs\" textLength=\"84\" x=\"301\" y=\"358.9951\">Data Layer</text></a><!--MD5=[af87c684e3b0d8be13c1a698a818ef1e]\n",
       "link E3 to E4--><a href=\"psysml:af0245ca-a479-404d-840a-c478ec8f55f1\" target=\"_top\" title=\"psysml:af0245ca-a479-404d-840a-c478ec8f55f1\" xlink:actuate=\"onRequest\" xlink:href=\"psysml:af0245ca-a479-404d-840a-c478ec8f55f1\" xlink:show=\"new\" xlink:title=\"psysml:af0245ca-a479-404d-840a-c478ec8f55f1\" xlink:type=\"simple\"><path d=\"M349,137.1 C349,156.8 349,184.22 349,205.73 \" fill=\"none\" id=\"E3-&gt;E4\" style=\"stroke: #383838; stroke-width: 1.0; stroke-dasharray: 7.0,7.0;\"/><polygon fill=\"#383838\" points=\"349,213.95,352,205.95,346,205.95,349,213.95\" style=\"stroke: #383838; stroke-width: 1.0;\"/><text fill=\"#000000\" font-family=\"sans-serif\" font-size=\"13\" lengthAdjust=\"spacingAndGlyphs\" textLength=\"64\" x=\"350\" y=\"180.0669\">«depend»</text></a><!--MD5=[1b7591eae5389033d8d09a9d6721a717]\n",
       "link E4 to E5--><a href=\"psysml:aeab59fe-e3bd-4e23-96a4-136d0d468de6\" target=\"_top\" title=\"psysml:aeab59fe-e3bd-4e23-96a4-136d0d468de6\" xlink:actuate=\"onRequest\" xlink:href=\"psysml:aeab59fe-e3bd-4e23-96a4-136d0d468de6\" xlink:show=\"new\" xlink:title=\"psysml:aeab59fe-e3bd-4e23-96a4-136d0d468de6\" xlink:type=\"simple\"><path d=\"M349,267.1 C349,286.8 349,314.22 349,335.73 \" fill=\"none\" id=\"E4-&gt;E5\" style=\"stroke: #383838; stroke-width: 1.0; stroke-dasharray: 7.0,7.0;\"/><polygon fill=\"#383838\" points=\"349,343.95,352,335.95,346,335.95,349,343.95\" style=\"stroke: #383838; stroke-width: 1.0;\"/><text fill=\"#000000\" font-family=\"sans-serif\" font-size=\"13\" lengthAdjust=\"spacingAndGlyphs\" textLength=\"64\" x=\"350\" y=\"310.0669\">«depend»</text></a><!--MD5=[c5e8897d989ce984f93528998a7150fe]\n",
       "link E8 to E6--><a href=\"psysml:e01a683f-5a6a-44b0-a0de-a423aeb5ad40\" target=\"_top\" title=\"psysml:e01a683f-5a6a-44b0-a0de-a423aeb5ad40\" xlink:actuate=\"onRequest\" xlink:href=\"psysml:e01a683f-5a6a-44b0-a0de-a423aeb5ad40\" xlink:show=\"new\" xlink:title=\"psysml:e01a683f-5a6a-44b0-a0de-a423aeb5ad40\" xlink:type=\"simple\"><path d=\"M89.42,133.6 C79.35,142.68 69.37,154.11 64,167 C58.5,180.2 58.66,195.94 60.54,209.38 \" fill=\"none\" id=\"E8-&gt;E6\" style=\"stroke: #383838; stroke-width: 1.0; stroke-dasharray: 7.0,7.0;\"/><polygon fill=\"#383838\" points=\"61.9,217.4,63.517,209.0104,57.6018,210.0159,61.9,217.4\" style=\"stroke: #383838; stroke-width: 1.0;\"/><text fill=\"#000000\" font-family=\"sans-serif\" font-size=\"13\" lengthAdjust=\"spacingAndGlyphs\" textLength=\"64\" x=\"65\" y=\"180.0669\">«depend»</text></a><!--MD5=[bfa3c8b0d15052fdf50ae9310b491027]\n",
       "link E8 to E7--><a href=\"psysml:e01a683f-5a6a-44b0-a0de-a423aeb5ad40\" target=\"_top\" title=\"psysml:e01a683f-5a6a-44b0-a0de-a423aeb5ad40\" xlink:actuate=\"onRequest\" xlink:href=\"psysml:e01a683f-5a6a-44b0-a0de-a423aeb5ad40\" xlink:show=\"new\" xlink:title=\"psysml:e01a683f-5a6a-44b0-a0de-a423aeb5ad40\" xlink:type=\"simple\"><path d=\"M129.28,133.5 C138.17,154.57 151.64,186.5 161.47,209.81 \" fill=\"none\" id=\"E8-&gt;E7\" style=\"stroke: #383838; stroke-width: 1.0; stroke-dasharray: 7.0,7.0;\"/><polygon fill=\"#383838\" points=\"164.66,217.35,164.3241,208.8126,158.7933,211.1385,164.66,217.35\" style=\"stroke: #383838; stroke-width: 1.0;\"/><text fill=\"#000000\" font-family=\"sans-serif\" font-size=\"13\" lengthAdjust=\"spacingAndGlyphs\" textLength=\"64\" x=\"151\" y=\"180.0669\">«depend»</text></a><!--MD5=[ac65b5578ce8b77b9e69161f739b0ab6]\n",
       "@startuml\r\n",
       "skinparam monochrome true\r\n",
       "skinparam classbackgroundcolor white\r\n",
       "skinparam shadowing false\r\n",
       "skinparam wrapWidth 300\r\n",
       "hide circle\r\n",
       "\r\n",
       "package \"DependencyTest\" as E1  [[psysml:c069fb4a-0cab-46ce-ae30-79221b6c6030 ]]  {\r\n",
       "package \"System\" as E2  [[psysml:0036a7be-5206-4df9-ab28-301972427778 ]]  {\r\n",
       "package \"Application Layer\" as E3  [[psysml:b9058297-d753-442e-8571-9bee33c166c8 ]]  {\r\n",
       "}\r\n",
       "package \"Service Layer\" as E4  [[psysml:f007974c-308f-4828-8f2c-f39213f4e302 ]]  {\r\n",
       "}\r\n",
       "package \"Data Layer\" as E5  [[psysml:7870e797-441e-4743-978b-6b23dab0b8d1 ]]  {\r\n",
       "}\r\n",
       "}\r\n",
       "comp usage \"x\" as E6  <<(T,blue)attribute>> [[psysml:ca3c2c7b-3718-4538-a84c-29984e19a6f6 ]] {\r\n",
       "}\r\n",
       "comp usage \"y\" as E7  <<(T,blue)attribute>> [[psysml:f187cc38-895f-43c9-b55f-372a79474975 ]] {\r\n",
       "}\r\n",
       "comp usage \"z\" as E8  <<(T,blue)attribute>> [[psysml:c8a5167c-621d-4bfa-8ffa-e3ed6a854bed ]] {\r\n",
       "}\r\n",
       "E3 ..>> E4 [[psysml:af0245ca-a479-404d-840a-c478ec8f55f1 ]] : <<depend>>\r\n",
       "E4 ..>> E5 [[psysml:aeab59fe-e3bd-4e23-96a4-136d0d468de6 ]] : <<depend>>\r\n",
       "E8 ..>> E6 [[psysml:e01a683f-5a6a-44b0-a0de-a423aeb5ad40 ]] : <<depend>>\r\n",
       "E8 ..>> E7 [[psysml:e01a683f-5a6a-44b0-a0de-a423aeb5ad40 ]] : <<depend>>\r\n",
       "}\r\n",
       "@enduml\r\n",
       "\n",
       "PlantUML version 1.2020.13(Sat Jun 13 12:26:38 UTC 2020)\n",
       "(EPL source distribution)\n",
       "Java Runtime: OpenJDK Runtime Environment\n",
       "JVM: OpenJDK 64-Bit Server VM\n",
       "Default Encoding: UTF-8\n",
       "Language: en\n",
       "Country: null\n",
       "--></g></svg>"
      ]
     },
     "execution_count": 38,
     "metadata": {},
     "output_type": "execute_result"
    }
   ],
   "source": [
    "%viz --style=\"DEFAULT\" --view=\"Tree\" \"DependencyTest\""
   ]
  },
  {
   "cell_type": "code",
   "execution_count": 39,
   "id": "saving-eclipse",
   "metadata": {
    "execution": {
     "iopub.execute_input": "2021-03-26T13:04:34.899678Z",
     "iopub.status.busy": "2021-03-26T13:04:34.898911Z",
     "iopub.status.idle": "2021-03-26T13:04:34.906508Z",
     "shell.execute_reply": "2021-03-26T13:04:34.906084Z"
    }
   },
   "outputs": [
    {
     "data": {
      "image/svg+xml": [
       "<?xml version=\"1.0\" encoding=\"UTF-8\" standalone=\"no\"?><svg xmlns=\"http://www.w3.org/2000/svg\" xmlns:xlink=\"http://www.w3.org/1999/xlink\" contentScriptType=\"application/ecmascript\" contentStyleType=\"text/css\" height=\"12px\" preserveAspectRatio=\"none\" style=\"width:12px;height:12px;\" version=\"1.1\" viewBox=\"0 0 12 12\" width=\"12px\" zoomAndPan=\"magnify\"><defs/><g><!--MD5=[c5f280e076d0d61ccf4b0f27871bda1d]\n",
       "@startuml\r\n",
       "skinparam monochrome true\r\n",
       "skinparam classbackgroundcolor white\r\n",
       "skinparam shadowing false\r\n",
       "skinparam wrapWidth 300\r\n",
       "hide circle\r\n",
       "\r\n",
       "@enduml\r\n",
       "\n",
       "PlantUML version 1.2020.13(Sat Jun 13 12:26:38 UTC 2020)\n",
       "(EPL source distribution)\n",
       "Java Runtime: OpenJDK Runtime Environment\n",
       "JVM: OpenJDK 64-Bit Server VM\n",
       "Default Encoding: UTF-8\n",
       "Language: en\n",
       "Country: null\n",
       "--></g></svg>"
      ]
     },
     "execution_count": 39,
     "metadata": {},
     "output_type": "execute_result"
    }
   ],
   "source": [
    "%viz --style=\"DEFAULT\" --view=\"State\" \"DependencyTest\""
   ]
  },
  {
   "cell_type": "code",
   "execution_count": 40,
   "id": "vanilla-sender",
   "metadata": {
    "execution": {
     "iopub.execute_input": "2021-03-26T13:04:34.958830Z",
     "iopub.status.busy": "2021-03-26T13:04:34.957792Z",
     "iopub.status.idle": "2021-03-26T13:04:34.988318Z",
     "shell.execute_reply": "2021-03-26T13:04:34.986822Z"
    }
   },
   "outputs": [
    {
     "data": {
      "image/svg+xml": [
       "<?xml version=\"1.0\" encoding=\"UTF-8\" standalone=\"no\"?><svg xmlns=\"http://www.w3.org/2000/svg\" xmlns:xlink=\"http://www.w3.org/1999/xlink\" contentScriptType=\"application/ecmascript\" contentStyleType=\"text/css\" height=\"361px\" preserveAspectRatio=\"none\" style=\"width:489px;height:361px;\" version=\"1.1\" viewBox=\"0 0 489 361\" width=\"489px\" zoomAndPan=\"magnify\"><defs/><g><!--MD5=[fbc87193dbaf4d95561dea2c320d4a47]\n",
       "cluster E1--><a href=\"psysml:c069fb4a-0cab-46ce-ae30-79221b6c6030\" target=\"_top\" title=\"psysml:c069fb4a-0cab-46ce-ae30-79221b6c6030\" xlink:actuate=\"onRequest\" xlink:href=\"psysml:c069fb4a-0cab-46ce-ae30-79221b6c6030\" xlink:show=\"new\" xlink:title=\"psysml:c069fb4a-0cab-46ce-ae30-79221b6c6030\" xlink:type=\"simple\"><polygon fill=\"#FFFFFF\" points=\"16,6,156,6,163,28.2969,467,28.2969,467,349,16,349,16,6\" style=\"stroke: #000000; stroke-width: 1.5;\"/><line style=\"stroke: #000000; stroke-width: 1.5;\" x1=\"16\" x2=\"163\" y1=\"28.2969\" y2=\"28.2969\"/><text fill=\"#000000\" font-family=\"sans-serif\" font-size=\"14\" font-weight=\"bold\" lengthAdjust=\"spacingAndGlyphs\" textLength=\"134\" x=\"20\" y=\"20.9951\">DependencyTest</text></a><!--MD5=[e4f7fae6ed58524ba242bb0b0d3be6b7]\n",
       "cluster E2--><a href=\"psysml:0036a7be-5206-4df9-ab28-301972427778\" target=\"_top\" title=\"psysml:0036a7be-5206-4df9-ab28-301972427778\" xlink:actuate=\"onRequest\" xlink:href=\"psysml:0036a7be-5206-4df9-ab28-301972427778\" xlink:show=\"new\" xlink:title=\"psysml:0036a7be-5206-4df9-ab28-301972427778\" xlink:type=\"simple\"><polygon fill=\"#FFFFFF\" points=\"255,49,319,49,326,71.2969,443,71.2969,443,325,255,325,255,49\" style=\"stroke: #000000; stroke-width: 1.5;\"/><line style=\"stroke: #000000; stroke-width: 1.5;\" x1=\"255\" x2=\"326\" y1=\"71.2969\" y2=\"71.2969\"/><text fill=\"#000000\" font-family=\"sans-serif\" font-size=\"14\" font-weight=\"bold\" lengthAdjust=\"spacingAndGlyphs\" textLength=\"58\" x=\"259\" y=\"63.9951\">System</text></a><a href=\"psysml:b9058297-d753-442e-8571-9bee33c166c8\" target=\"_top\" title=\"psysml:b9058297-d753-442e-8571-9bee33c166c8\" xlink:actuate=\"onRequest\" xlink:href=\"psysml:b9058297-d753-442e-8571-9bee33c166c8\" xlink:show=\"new\" xlink:title=\"psysml:b9058297-d753-442e-8571-9bee33c166c8\" xlink:type=\"simple\"><polygon fill=\"#FFFFFF\" points=\"271,84,413,84,420,106.2969,427,106.2969,427,136.5938,271,136.5938,271,84\" style=\"stroke: #000000; stroke-width: 1.5;\"/><line style=\"stroke: #000000; stroke-width: 1.5;\" x1=\"271\" x2=\"420\" y1=\"106.2969\" y2=\"106.2969\"/><text fill=\"#000000\" font-family=\"sans-serif\" font-size=\"14\" font-weight=\"bold\" lengthAdjust=\"spacingAndGlyphs\" textLength=\"136\" x=\"275\" y=\"98.9951\">Application Layer</text></a><a href=\"psysml:f007974c-308f-4828-8f2c-f39213f4e302\" target=\"_top\" title=\"psysml:f007974c-308f-4828-8f2c-f39213f4e302\" xlink:actuate=\"onRequest\" xlink:href=\"psysml:f007974c-308f-4828-8f2c-f39213f4e302\" xlink:show=\"new\" xlink:title=\"psysml:f007974c-308f-4828-8f2c-f39213f4e302\" xlink:type=\"simple\"><polygon fill=\"#FFFFFF\" points=\"285,170,399,170,406,192.2969,413,192.2969,413,222.5938,285,222.5938,285,170\" style=\"stroke: #000000; stroke-width: 1.5;\"/><line style=\"stroke: #000000; stroke-width: 1.5;\" x1=\"285\" x2=\"406\" y1=\"192.2969\" y2=\"192.2969\"/><text fill=\"#000000\" font-family=\"sans-serif\" font-size=\"14\" font-weight=\"bold\" lengthAdjust=\"spacingAndGlyphs\" textLength=\"108\" x=\"289\" y=\"184.9951\">Service Layer</text></a><a href=\"psysml:7870e797-441e-4743-978b-6b23dab0b8d1\" target=\"_top\" title=\"psysml:7870e797-441e-4743-978b-6b23dab0b8d1\" xlink:actuate=\"onRequest\" xlink:href=\"psysml:7870e797-441e-4743-978b-6b23dab0b8d1\" xlink:show=\"new\" xlink:title=\"psysml:7870e797-441e-4743-978b-6b23dab0b8d1\" xlink:type=\"simple\"><polygon fill=\"#FFFFFF\" points=\"297,256,387,256,394,278.2969,401,278.2969,401,308.5938,297,308.5938,297,256\" style=\"stroke: #000000; stroke-width: 1.5;\"/><line style=\"stroke: #000000; stroke-width: 1.5;\" x1=\"297\" x2=\"394\" y1=\"278.2969\" y2=\"278.2969\"/><text fill=\"#000000\" font-family=\"sans-serif\" font-size=\"14\" font-weight=\"bold\" lengthAdjust=\"spacingAndGlyphs\" textLength=\"84\" x=\"301\" y=\"270.9951\">Data Layer</text></a><g id=\"E1.E6\"><a href=\"psysml:ca3c2c7b-3718-4538-a84c-29984e19a6f6\" target=\"_top\" title=\"psysml:ca3c2c7b-3718-4538-a84c-29984e19a6f6\" xlink:actuate=\"onRequest\" xlink:href=\"psysml:ca3c2c7b-3718-4538-a84c-29984e19a6f6\" xlink:show=\"new\" xlink:title=\"psysml:ca3c2c7b-3718-4538-a84c-29984e19a6f6\" xlink:type=\"simple\"><rect fill=\"#FFFFFF\" height=\"42.9375\" id=\"E6\" rx=\"10\" ry=\"10\" style=\"stroke: #383838; stroke-width: 1.5;\" width=\"76\" x=\"32\" y=\"175\"/><rect fill=\"#F8F8F8\" height=\"37.9375\" rx=\"10\" ry=\"10\" style=\"stroke: #F8F8F8; stroke-width: 1.5;\" width=\"76\" x=\"32\" y=\"175\"/><rect fill=\"#F8F8F8\" height=\"10\" style=\"stroke: #F8F8F8; stroke-width: 1.5;\" width=\"76\" x=\"32\" y=\"202.9375\"/><rect fill=\"none\" height=\"42.9375\" id=\"E6\" rx=\"10\" ry=\"10\" style=\"stroke: #383838; stroke-width: 1.5;\" width=\"76\" x=\"32\" y=\"175\"/><text fill=\"#000000\" font-family=\"sans-serif\" font-size=\"12\" font-style=\"italic\" lengthAdjust=\"spacingAndGlyphs\" textLength=\"69\" x=\"35.5\" y=\"191.1387\">«attribute»</text><text fill=\"#000000\" font-family=\"sans-serif\" font-size=\"12\" lengthAdjust=\"spacingAndGlyphs\" textLength=\"6\" x=\"67\" y=\"205.1074\">x</text></a></g><g id=\"E1.E7\"><a href=\"psysml:f187cc38-895f-43c9-b55f-372a79474975\" target=\"_top\" title=\"psysml:f187cc38-895f-43c9-b55f-372a79474975\" xlink:actuate=\"onRequest\" xlink:href=\"psysml:f187cc38-895f-43c9-b55f-372a79474975\" xlink:show=\"new\" xlink:title=\"psysml:f187cc38-895f-43c9-b55f-372a79474975\" xlink:type=\"simple\"><rect fill=\"#FFFFFF\" height=\"42.9375\" id=\"E7\" rx=\"10\" ry=\"10\" style=\"stroke: #383838; stroke-width: 1.5;\" width=\"76\" x=\"143\" y=\"175\"/><rect fill=\"#F8F8F8\" height=\"37.9375\" rx=\"10\" ry=\"10\" style=\"stroke: #F8F8F8; stroke-width: 1.5;\" width=\"76\" x=\"143\" y=\"175\"/><rect fill=\"#F8F8F8\" height=\"10\" style=\"stroke: #F8F8F8; stroke-width: 1.5;\" width=\"76\" x=\"143\" y=\"202.9375\"/><rect fill=\"none\" height=\"42.9375\" id=\"E7\" rx=\"10\" ry=\"10\" style=\"stroke: #383838; stroke-width: 1.5;\" width=\"76\" x=\"143\" y=\"175\"/><text fill=\"#000000\" font-family=\"sans-serif\" font-size=\"12\" font-style=\"italic\" lengthAdjust=\"spacingAndGlyphs\" textLength=\"69\" x=\"146.5\" y=\"191.1387\">«attribute»</text><text fill=\"#000000\" font-family=\"sans-serif\" font-size=\"12\" lengthAdjust=\"spacingAndGlyphs\" textLength=\"6\" x=\"178\" y=\"205.1074\">y</text></a></g><g id=\"E1.E8\"><a href=\"psysml:c8a5167c-621d-4bfa-8ffa-e3ed6a854bed\" target=\"_top\" title=\"psysml:c8a5167c-621d-4bfa-8ffa-e3ed6a854bed\" xlink:actuate=\"onRequest\" xlink:href=\"psysml:c8a5167c-621d-4bfa-8ffa-e3ed6a854bed\" xlink:show=\"new\" xlink:title=\"psysml:c8a5167c-621d-4bfa-8ffa-e3ed6a854bed\" xlink:type=\"simple\"><rect fill=\"#FFFFFF\" height=\"42.9375\" id=\"E8\" rx=\"10\" ry=\"10\" style=\"stroke: #383838; stroke-width: 1.5;\" width=\"76\" x=\"83\" y=\"89\"/><rect fill=\"#F8F8F8\" height=\"37.9375\" rx=\"10\" ry=\"10\" style=\"stroke: #F8F8F8; stroke-width: 1.5;\" width=\"76\" x=\"83\" y=\"89\"/><rect fill=\"#F8F8F8\" height=\"10\" style=\"stroke: #F8F8F8; stroke-width: 1.5;\" width=\"76\" x=\"83\" y=\"116.9375\"/><rect fill=\"none\" height=\"42.9375\" id=\"E8\" rx=\"10\" ry=\"10\" style=\"stroke: #383838; stroke-width: 1.5;\" width=\"76\" x=\"83\" y=\"89\"/><text fill=\"#000000\" font-family=\"sans-serif\" font-size=\"12\" font-style=\"italic\" lengthAdjust=\"spacingAndGlyphs\" textLength=\"69\" x=\"86.5\" y=\"105.1387\">«attribute»</text><text fill=\"#000000\" font-family=\"sans-serif\" font-size=\"12\" lengthAdjust=\"spacingAndGlyphs\" textLength=\"5\" x=\"118.5\" y=\"119.1074\">z</text></a></g><!--MD5=[af87c684e3b0d8be13c1a698a818ef1e]\n",
       "link E3 to E4--><a href=\"psysml:af0245ca-a479-404d-840a-c478ec8f55f1\" target=\"_top\" title=\"psysml:af0245ca-a479-404d-840a-c478ec8f55f1\" xlink:actuate=\"onRequest\" xlink:href=\"psysml:af0245ca-a479-404d-840a-c478ec8f55f1\" xlink:show=\"new\" xlink:title=\"psysml:af0245ca-a479-404d-840a-c478ec8f55f1\" xlink:type=\"simple\"><path d=\"M349,137.16 C349,144.98 349,153.69 349,161.94 \" fill=\"none\" id=\"E3-&gt;E4\" style=\"stroke: #383838; stroke-width: 1.0; stroke-dasharray: 7.0,7.0;\"/><polygon fill=\"#383838\" points=\"349,170,352,162,346,162,349,170\" style=\"stroke: #383838; stroke-width: 1.0;\"/><text fill=\"#000000\" font-family=\"sans-serif\" font-size=\"13\" lengthAdjust=\"spacingAndGlyphs\" textLength=\"64\" x=\"350\" y=\"158.0669\">«depend»</text></a><!--MD5=[1b7591eae5389033d8d09a9d6721a717]\n",
       "link E4 to E5--><a href=\"psysml:aeab59fe-e3bd-4e23-96a4-136d0d468de6\" target=\"_top\" title=\"psysml:aeab59fe-e3bd-4e23-96a4-136d0d468de6\" xlink:actuate=\"onRequest\" xlink:href=\"psysml:aeab59fe-e3bd-4e23-96a4-136d0d468de6\" xlink:show=\"new\" xlink:title=\"psysml:aeab59fe-e3bd-4e23-96a4-136d0d468de6\" xlink:type=\"simple\"><path d=\"M349,223.16 C349,230.98 349,239.69 349,247.94 \" fill=\"none\" id=\"E4-&gt;E5\" style=\"stroke: #383838; stroke-width: 1.0; stroke-dasharray: 7.0,7.0;\"/><polygon fill=\"#383838\" points=\"349,256,352,248,346,248,349,256\" style=\"stroke: #383838; stroke-width: 1.0;\"/><text fill=\"#000000\" font-family=\"sans-serif\" font-size=\"13\" lengthAdjust=\"spacingAndGlyphs\" textLength=\"64\" x=\"350\" y=\"244.0669\">«depend»</text></a><!--MD5=[c5e8897d989ce984f93528998a7150fe]\n",
       "link E8 to E6--><a href=\"psysml:e01a683f-5a6a-44b0-a0de-a423aeb5ad40\" target=\"_top\" title=\"psysml:e01a683f-5a6a-44b0-a0de-a423aeb5ad40\" xlink:actuate=\"onRequest\" xlink:href=\"psysml:e01a683f-5a6a-44b0-a0de-a423aeb5ad40\" xlink:show=\"new\" xlink:title=\"psysml:e01a683f-5a6a-44b0-a0de-a423aeb5ad40\" xlink:type=\"simple\"><path d=\"M82.81,126.48 C75.3,131.24 68.39,137.33 64,145 C60.26,151.53 59.68,159.3 60.56,166.77 \" fill=\"none\" id=\"E8-&gt;E6\" style=\"stroke: #383838; stroke-width: 1.0; stroke-dasharray: 7.0,7.0;\"/><polygon fill=\"#383838\" points=\"62.02,174.69,63.5257,166.2797,57.6244,167.3634,62.02,174.69\" style=\"stroke: #383838; stroke-width: 1.0;\"/><text fill=\"#000000\" font-family=\"sans-serif\" font-size=\"13\" lengthAdjust=\"spacingAndGlyphs\" textLength=\"64\" x=\"65\" y=\"158.0669\">«depend»</text></a><!--MD5=[bfa3c8b0d15052fdf50ae9310b491027]\n",
       "link E8 to E7--><a href=\"psysml:e01a683f-5a6a-44b0-a0de-a423aeb5ad40\" target=\"_top\" title=\"psysml:e01a683f-5a6a-44b0-a0de-a423aeb5ad40\" xlink:actuate=\"onRequest\" xlink:href=\"psysml:e01a683f-5a6a-44b0-a0de-a423aeb5ad40\" xlink:show=\"new\" xlink:title=\"psysml:e01a683f-5a6a-44b0-a0de-a423aeb5ad40\" xlink:type=\"simple\"><path d=\"M135.83,132.26 C143.61,143.15 153.22,156.61 161.59,168.32 \" fill=\"none\" id=\"E8-&gt;E7\" style=\"stroke: #383838; stroke-width: 1.0; stroke-dasharray: 7.0,7.0;\"/><polygon fill=\"#383838\" points=\"166.34,174.97,164.1399,166.7141,159.2538,170.1965,166.34,174.97\" style=\"stroke: #383838; stroke-width: 1.0;\"/><text fill=\"#000000\" font-family=\"sans-serif\" font-size=\"13\" lengthAdjust=\"spacingAndGlyphs\" textLength=\"64\" x=\"157\" y=\"158.0669\">«depend»</text></a><!--MD5=[26a42423e636e2a2eb97f7b67000dcae]\n",
       "@startuml\r\n",
       "skinparam ranksep 8\r\n",
       "skinparam rectangle {\r\n",
       " backgroundColor<<block>> LightGreen\r\n",
       "}\r\n",
       "skinparam monochrome true\r\n",
       "skinparam classbackgroundcolor white\r\n",
       "skinparam shadowing false\r\n",
       "skinparam wrapWidth 300\r\n",
       "hide circle\r\n",
       "\r\n",
       "package \"DependencyTest\" as E1  [[psysml:c069fb4a-0cab-46ce-ae30-79221b6c6030 ]]  {\r\n",
       "package \"System\" as E2  [[psysml:0036a7be-5206-4df9-ab28-301972427778 ]]  {\r\n",
       "package \"Application Layer\" as E3  [[psysml:b9058297-d753-442e-8571-9bee33c166c8 ]]  {\r\n",
       "}\r\n",
       "package \"Service Layer\" as E4  [[psysml:f007974c-308f-4828-8f2c-f39213f4e302 ]]  {\r\n",
       "}\r\n",
       "package \"Data Layer\" as E5  [[psysml:7870e797-441e-4743-978b-6b23dab0b8d1 ]]  {\r\n",
       "}\r\n",
       "}\r\n",
       "rec usage \"x\" as E6  <<(T,blue)attribute>> [[psysml:ca3c2c7b-3718-4538-a84c-29984e19a6f6 ]] {\r\n",
       "}\r\n",
       "rec usage \"y\" as E7  <<(T,blue)attribute>> [[psysml:f187cc38-895f-43c9-b55f-372a79474975 ]] {\r\n",
       "}\r\n",
       "rec usage \"z\" as E8  <<(T,blue)attribute>> [[psysml:c8a5167c-621d-4bfa-8ffa-e3ed6a854bed ]] {\r\n",
       "}\r\n",
       "E3 ..>> E4 [[psysml:af0245ca-a479-404d-840a-c478ec8f55f1 ]] : <<depend>>\r\n",
       "E4 ..>> E5 [[psysml:aeab59fe-e3bd-4e23-96a4-136d0d468de6 ]] : <<depend>>\r\n",
       "E8 ..>> E6 [[psysml:e01a683f-5a6a-44b0-a0de-a423aeb5ad40 ]] : <<depend>>\r\n",
       "E8 ..>> E7 [[psysml:e01a683f-5a6a-44b0-a0de-a423aeb5ad40 ]] : <<depend>>\r\n",
       "}\r\n",
       "@enduml\r\n",
       "\n",
       "PlantUML version 1.2020.13(Sat Jun 13 12:26:38 UTC 2020)\n",
       "(EPL source distribution)\n",
       "Java Runtime: OpenJDK Runtime Environment\n",
       "JVM: OpenJDK 64-Bit Server VM\n",
       "Default Encoding: UTF-8\n",
       "Language: en\n",
       "Country: null\n",
       "--></g></svg>"
      ]
     },
     "execution_count": 40,
     "metadata": {},
     "output_type": "execute_result"
    }
   ],
   "source": [
    "%viz --style=\"DEFAULT\" --view=\"Interconnection\" \"DependencyTest\""
   ]
  },
  {
   "cell_type": "code",
   "execution_count": 41,
   "id": "tender-object",
   "metadata": {
    "execution": {
     "iopub.execute_input": "2021-03-26T13:04:35.040139Z",
     "iopub.status.busy": "2021-03-26T13:04:35.039317Z",
     "iopub.status.idle": "2021-03-26T13:04:35.045066Z",
     "shell.execute_reply": "2021-03-26T13:04:35.044656Z"
    }
   },
   "outputs": [
    {
     "data": {
      "image/svg+xml": [
       "<?xml version=\"1.0\" encoding=\"UTF-8\" standalone=\"no\"?><svg xmlns=\"http://www.w3.org/2000/svg\" xmlns:xlink=\"http://www.w3.org/1999/xlink\" contentScriptType=\"application/ecmascript\" contentStyleType=\"text/css\" height=\"12px\" preserveAspectRatio=\"none\" style=\"width:12px;height:12px;\" version=\"1.1\" viewBox=\"0 0 12 12\" width=\"12px\" zoomAndPan=\"magnify\"><defs/><g><!--MD5=[388f21188e31bfdd97050473b19af356]\n",
       "@startuml\r\n",
       "skinparam ranksep 8\r\n",
       "skinparam monochrome true\r\n",
       "skinparam classbackgroundcolor white\r\n",
       "skinparam shadowing false\r\n",
       "skinparam wrapWidth 300\r\n",
       "hide circle\r\n",
       "\r\n",
       "@enduml\r\n",
       "\n",
       "PlantUML version 1.2020.13(Sat Jun 13 12:26:38 UTC 2020)\n",
       "(EPL source distribution)\n",
       "Java Runtime: OpenJDK Runtime Environment\n",
       "JVM: OpenJDK 64-Bit Server VM\n",
       "Default Encoding: UTF-8\n",
       "Language: en\n",
       "Country: null\n",
       "--></g></svg>"
      ]
     },
     "execution_count": 41,
     "metadata": {},
     "output_type": "execute_result"
    }
   ],
   "source": [
    "%viz --style=\"DEFAULT\" --view=\"Action\" \"DependencyTest\""
   ]
  },
  {
   "cell_type": "code",
   "execution_count": 42,
   "id": "convenient-admission",
   "metadata": {
    "execution": {
     "iopub.execute_input": "2021-03-26T13:04:35.096652Z",
     "iopub.status.busy": "2021-03-26T13:04:35.095989Z",
     "iopub.status.idle": "2021-03-26T13:04:35.125744Z",
     "shell.execute_reply": "2021-03-26T13:04:35.124352Z"
    }
   },
   "outputs": [
    {
     "data": {
      "image/svg+xml": [
       "<?xml version=\"1.0\" encoding=\"UTF-8\" standalone=\"no\"?><svg xmlns=\"http://www.w3.org/2000/svg\" xmlns:xlink=\"http://www.w3.org/1999/xlink\" contentScriptType=\"application/ecmascript\" contentStyleType=\"text/css\" height=\"449px\" preserveAspectRatio=\"none\" style=\"width:489px;height:449px;\" version=\"1.1\" viewBox=\"0 0 489 449\" width=\"489px\" zoomAndPan=\"magnify\"><defs/><g><!--MD5=[fbc87193dbaf4d95561dea2c320d4a47]\n",
       "cluster E1--><a href=\"psysml:c069fb4a-0cab-46ce-ae30-79221b6c6030\" target=\"_top\" title=\"psysml:c069fb4a-0cab-46ce-ae30-79221b6c6030\" xlink:actuate=\"onRequest\" xlink:href=\"psysml:c069fb4a-0cab-46ce-ae30-79221b6c6030\" xlink:show=\"new\" xlink:title=\"psysml:c069fb4a-0cab-46ce-ae30-79221b6c6030\" xlink:type=\"simple\"><polygon fill=\"#FFFFFF\" points=\"16,6,156,6,163,28.2969,467,28.2969,467,437,16,437,16,6\" style=\"stroke: #000000; stroke-width: 1.5;\"/><line style=\"stroke: #000000; stroke-width: 1.5;\" x1=\"16\" x2=\"163\" y1=\"28.2969\" y2=\"28.2969\"/><text fill=\"#000000\" font-family=\"sans-serif\" font-size=\"14\" font-weight=\"bold\" lengthAdjust=\"spacingAndGlyphs\" textLength=\"134\" x=\"20\" y=\"20.9951\">DependencyTest</text></a><!--MD5=[e4f7fae6ed58524ba242bb0b0d3be6b7]\n",
       "cluster E2--><a href=\"psysml:0036a7be-5206-4df9-ab28-301972427778\" target=\"_top\" title=\"psysml:0036a7be-5206-4df9-ab28-301972427778\" xlink:actuate=\"onRequest\" xlink:href=\"psysml:0036a7be-5206-4df9-ab28-301972427778\" xlink:show=\"new\" xlink:title=\"psysml:0036a7be-5206-4df9-ab28-301972427778\" xlink:type=\"simple\"><polygon fill=\"#FFFFFF\" points=\"255,49,319,49,326,71.2969,443,71.2969,443,413,255,413,255,49\" style=\"stroke: #000000; stroke-width: 1.5;\"/><line style=\"stroke: #000000; stroke-width: 1.5;\" x1=\"255\" x2=\"326\" y1=\"71.2969\" y2=\"71.2969\"/><text fill=\"#000000\" font-family=\"sans-serif\" font-size=\"14\" font-weight=\"bold\" lengthAdjust=\"spacingAndGlyphs\" textLength=\"58\" x=\"259\" y=\"63.9951\">System</text></a><!--MD5=[60a26617385b1d2d0262a64233df1f8d]\n",
       "class E6--><a href=\"psysml:ca3c2c7b-3718-4538-a84c-29984e19a6f6\" target=\"_top\" title=\"psysml:ca3c2c7b-3718-4538-a84c-29984e19a6f6\" xlink:actuate=\"onRequest\" xlink:href=\"psysml:ca3c2c7b-3718-4538-a84c-29984e19a6f6\" xlink:show=\"new\" xlink:title=\"psysml:ca3c2c7b-3718-4538-a84c-29984e19a6f6\" xlink:type=\"simple\"><rect fill=\"#FFFFFF\" height=\"45.9375\" id=\"E6\" rx=\"10\" ry=\"10\" style=\"stroke: #383838; stroke-width: 1.5;\" width=\"71\" x=\"32.5\" y=\"217.5\"/><text fill=\"#000000\" font-family=\"sans-serif\" font-size=\"12\" font-style=\"italic\" lengthAdjust=\"spacingAndGlyphs\" textLength=\"69\" x=\"33.5\" y=\"233.6387\">«attribute»</text><text fill=\"#000000\" font-family=\"sans-serif\" font-size=\"12\" lengthAdjust=\"spacingAndGlyphs\" textLength=\"6\" x=\"65\" y=\"247.6074\">x</text><line style=\"stroke: #383838; stroke-width: 1.5;\" x1=\"33.5\" x2=\"102.5\" y1=\"255.4375\" y2=\"255.4375\"/></a><!--MD5=[2156ba9850f5573cc1fc38a6a4b2f02b]\n",
       "class E7--><a href=\"psysml:f187cc38-895f-43c9-b55f-372a79474975\" target=\"_top\" title=\"psysml:f187cc38-895f-43c9-b55f-372a79474975\" xlink:actuate=\"onRequest\" xlink:href=\"psysml:f187cc38-895f-43c9-b55f-372a79474975\" xlink:show=\"new\" xlink:title=\"psysml:f187cc38-895f-43c9-b55f-372a79474975\" xlink:type=\"simple\"><rect fill=\"#FFFFFF\" height=\"45.9375\" id=\"E7\" rx=\"10\" ry=\"10\" style=\"stroke: #383838; stroke-width: 1.5;\" width=\"71\" x=\"138.5\" y=\"217.5\"/><text fill=\"#000000\" font-family=\"sans-serif\" font-size=\"12\" font-style=\"italic\" lengthAdjust=\"spacingAndGlyphs\" textLength=\"69\" x=\"139.5\" y=\"233.6387\">«attribute»</text><text fill=\"#000000\" font-family=\"sans-serif\" font-size=\"12\" lengthAdjust=\"spacingAndGlyphs\" textLength=\"6\" x=\"171\" y=\"247.6074\">y</text><line style=\"stroke: #383838; stroke-width: 1.5;\" x1=\"139.5\" x2=\"208.5\" y1=\"255.4375\" y2=\"255.4375\"/></a><!--MD5=[b9389687b975829384b498ac4b7476b2]\n",
       "class E8--><a href=\"psysml:c8a5167c-621d-4bfa-8ffa-e3ed6a854bed\" target=\"_top\" title=\"psysml:c8a5167c-621d-4bfa-8ffa-e3ed6a854bed\" xlink:actuate=\"onRequest\" xlink:href=\"psysml:c8a5167c-621d-4bfa-8ffa-e3ed6a854bed\" xlink:show=\"new\" xlink:title=\"psysml:c8a5167c-621d-4bfa-8ffa-e3ed6a854bed\" xlink:type=\"simple\"><rect fill=\"#FFFFFF\" height=\"45.9375\" id=\"E8\" rx=\"10\" ry=\"10\" style=\"stroke: #383838; stroke-width: 1.5;\" width=\"71\" x=\"84.5\" y=\"87.5\"/><text fill=\"#000000\" font-family=\"sans-serif\" font-size=\"12\" font-style=\"italic\" lengthAdjust=\"spacingAndGlyphs\" textLength=\"69\" x=\"85.5\" y=\"103.6387\">«attribute»</text><text fill=\"#000000\" font-family=\"sans-serif\" font-size=\"12\" lengthAdjust=\"spacingAndGlyphs\" textLength=\"5\" x=\"117.5\" y=\"117.6074\">z</text><line style=\"stroke: #383838; stroke-width: 1.5;\" x1=\"85.5\" x2=\"154.5\" y1=\"125.4375\" y2=\"125.4375\"/></a><a href=\"psysml:b9058297-d753-442e-8571-9bee33c166c8\" target=\"_top\" title=\"psysml:b9058297-d753-442e-8571-9bee33c166c8\" xlink:actuate=\"onRequest\" xlink:href=\"psysml:b9058297-d753-442e-8571-9bee33c166c8\" xlink:show=\"new\" xlink:title=\"psysml:b9058297-d753-442e-8571-9bee33c166c8\" xlink:type=\"simple\"><polygon fill=\"#FFFFFF\" points=\"271,84,413,84,420,106.2969,427,106.2969,427,136.5938,271,136.5938,271,84\" style=\"stroke: #000000; stroke-width: 1.5;\"/><line style=\"stroke: #000000; stroke-width: 1.5;\" x1=\"271\" x2=\"420\" y1=\"106.2969\" y2=\"106.2969\"/><text fill=\"#000000\" font-family=\"sans-serif\" font-size=\"14\" font-weight=\"bold\" lengthAdjust=\"spacingAndGlyphs\" textLength=\"136\" x=\"275\" y=\"98.9951\">Application Layer</text></a><a href=\"psysml:f007974c-308f-4828-8f2c-f39213f4e302\" target=\"_top\" title=\"psysml:f007974c-308f-4828-8f2c-f39213f4e302\" xlink:actuate=\"onRequest\" xlink:href=\"psysml:f007974c-308f-4828-8f2c-f39213f4e302\" xlink:show=\"new\" xlink:title=\"psysml:f007974c-308f-4828-8f2c-f39213f4e302\" xlink:type=\"simple\"><polygon fill=\"#FFFFFF\" points=\"285,214,399,214,406,236.2969,413,236.2969,413,266.5938,285,266.5938,285,214\" style=\"stroke: #000000; stroke-width: 1.5;\"/><line style=\"stroke: #000000; stroke-width: 1.5;\" x1=\"285\" x2=\"406\" y1=\"236.2969\" y2=\"236.2969\"/><text fill=\"#000000\" font-family=\"sans-serif\" font-size=\"14\" font-weight=\"bold\" lengthAdjust=\"spacingAndGlyphs\" textLength=\"108\" x=\"289\" y=\"228.9951\">Service Layer</text></a><a href=\"psysml:7870e797-441e-4743-978b-6b23dab0b8d1\" target=\"_top\" title=\"psysml:7870e797-441e-4743-978b-6b23dab0b8d1\" xlink:actuate=\"onRequest\" xlink:href=\"psysml:7870e797-441e-4743-978b-6b23dab0b8d1\" xlink:show=\"new\" xlink:title=\"psysml:7870e797-441e-4743-978b-6b23dab0b8d1\" xlink:type=\"simple\"><polygon fill=\"#FFFFFF\" points=\"297,344,387,344,394,366.2969,401,366.2969,401,396.5938,297,396.5938,297,344\" style=\"stroke: #000000; stroke-width: 1.5;\"/><line style=\"stroke: #000000; stroke-width: 1.5;\" x1=\"297\" x2=\"394\" y1=\"366.2969\" y2=\"366.2969\"/><text fill=\"#000000\" font-family=\"sans-serif\" font-size=\"14\" font-weight=\"bold\" lengthAdjust=\"spacingAndGlyphs\" textLength=\"84\" x=\"301\" y=\"358.9951\">Data Layer</text></a><!--MD5=[af87c684e3b0d8be13c1a698a818ef1e]\n",
       "link E3 to E4--><a href=\"psysml:af0245ca-a479-404d-840a-c478ec8f55f1\" target=\"_top\" title=\"psysml:af0245ca-a479-404d-840a-c478ec8f55f1\" xlink:actuate=\"onRequest\" xlink:href=\"psysml:af0245ca-a479-404d-840a-c478ec8f55f1\" xlink:show=\"new\" xlink:title=\"psysml:af0245ca-a479-404d-840a-c478ec8f55f1\" xlink:type=\"simple\"><path d=\"M349,137.1 C349,156.8 349,184.22 349,205.73 \" fill=\"none\" id=\"E3-&gt;E4\" style=\"stroke: #383838; stroke-width: 1.0; stroke-dasharray: 7.0,7.0;\"/><polygon fill=\"#383838\" points=\"349,213.95,352,205.95,346,205.95,349,213.95\" style=\"stroke: #383838; stroke-width: 1.0;\"/><text fill=\"#000000\" font-family=\"sans-serif\" font-size=\"13\" lengthAdjust=\"spacingAndGlyphs\" textLength=\"64\" x=\"350\" y=\"180.0669\">«depend»</text></a><!--MD5=[1b7591eae5389033d8d09a9d6721a717]\n",
       "link E4 to E5--><a href=\"psysml:aeab59fe-e3bd-4e23-96a4-136d0d468de6\" target=\"_top\" title=\"psysml:aeab59fe-e3bd-4e23-96a4-136d0d468de6\" xlink:actuate=\"onRequest\" xlink:href=\"psysml:aeab59fe-e3bd-4e23-96a4-136d0d468de6\" xlink:show=\"new\" xlink:title=\"psysml:aeab59fe-e3bd-4e23-96a4-136d0d468de6\" xlink:type=\"simple\"><path d=\"M349,267.1 C349,286.8 349,314.22 349,335.73 \" fill=\"none\" id=\"E4-&gt;E5\" style=\"stroke: #383838; stroke-width: 1.0; stroke-dasharray: 7.0,7.0;\"/><polygon fill=\"#383838\" points=\"349,343.95,352,335.95,346,335.95,349,343.95\" style=\"stroke: #383838; stroke-width: 1.0;\"/><text fill=\"#000000\" font-family=\"sans-serif\" font-size=\"13\" lengthAdjust=\"spacingAndGlyphs\" textLength=\"64\" x=\"350\" y=\"310.0669\">«depend»</text></a><!--MD5=[c5e8897d989ce984f93528998a7150fe]\n",
       "link E8 to E6--><a href=\"psysml:e01a683f-5a6a-44b0-a0de-a423aeb5ad40\" target=\"_top\" title=\"psysml:e01a683f-5a6a-44b0-a0de-a423aeb5ad40\" xlink:actuate=\"onRequest\" xlink:href=\"psysml:e01a683f-5a6a-44b0-a0de-a423aeb5ad40\" xlink:show=\"new\" xlink:title=\"psysml:e01a683f-5a6a-44b0-a0de-a423aeb5ad40\" xlink:type=\"simple\"><path d=\"M89.42,133.6 C79.35,142.68 69.37,154.11 64,167 C58.5,180.2 58.66,195.94 60.54,209.38 \" fill=\"none\" id=\"E8-&gt;E6\" style=\"stroke: #383838; stroke-width: 1.0; stroke-dasharray: 7.0,7.0;\"/><polygon fill=\"#383838\" points=\"61.9,217.4,63.517,209.0104,57.6018,210.0159,61.9,217.4\" style=\"stroke: #383838; stroke-width: 1.0;\"/><text fill=\"#000000\" font-family=\"sans-serif\" font-size=\"13\" lengthAdjust=\"spacingAndGlyphs\" textLength=\"64\" x=\"65\" y=\"180.0669\">«depend»</text></a><!--MD5=[bfa3c8b0d15052fdf50ae9310b491027]\n",
       "link E8 to E7--><a href=\"psysml:e01a683f-5a6a-44b0-a0de-a423aeb5ad40\" target=\"_top\" title=\"psysml:e01a683f-5a6a-44b0-a0de-a423aeb5ad40\" xlink:actuate=\"onRequest\" xlink:href=\"psysml:e01a683f-5a6a-44b0-a0de-a423aeb5ad40\" xlink:show=\"new\" xlink:title=\"psysml:e01a683f-5a6a-44b0-a0de-a423aeb5ad40\" xlink:type=\"simple\"><path d=\"M129.28,133.5 C138.17,154.57 151.64,186.5 161.47,209.81 \" fill=\"none\" id=\"E8-&gt;E7\" style=\"stroke: #383838; stroke-width: 1.0; stroke-dasharray: 7.0,7.0;\"/><polygon fill=\"#383838\" points=\"164.66,217.35,164.3241,208.8126,158.7933,211.1385,164.66,217.35\" style=\"stroke: #383838; stroke-width: 1.0;\"/><text fill=\"#000000\" font-family=\"sans-serif\" font-size=\"13\" lengthAdjust=\"spacingAndGlyphs\" textLength=\"64\" x=\"151\" y=\"180.0669\">«depend»</text></a><!--MD5=[ac65b5578ce8b77b9e69161f739b0ab6]\n",
       "@startuml\r\n",
       "skinparam monochrome true\r\n",
       "skinparam classbackgroundcolor white\r\n",
       "skinparam shadowing false\r\n",
       "skinparam wrapWidth 300\r\n",
       "hide circle\r\n",
       "\r\n",
       "package \"DependencyTest\" as E1  [[psysml:c069fb4a-0cab-46ce-ae30-79221b6c6030 ]]  {\r\n",
       "package \"System\" as E2  [[psysml:0036a7be-5206-4df9-ab28-301972427778 ]]  {\r\n",
       "package \"Application Layer\" as E3  [[psysml:b9058297-d753-442e-8571-9bee33c166c8 ]]  {\r\n",
       "}\r\n",
       "package \"Service Layer\" as E4  [[psysml:f007974c-308f-4828-8f2c-f39213f4e302 ]]  {\r\n",
       "}\r\n",
       "package \"Data Layer\" as E5  [[psysml:7870e797-441e-4743-978b-6b23dab0b8d1 ]]  {\r\n",
       "}\r\n",
       "}\r\n",
       "comp usage \"x\" as E6  <<(T,blue)attribute>> [[psysml:ca3c2c7b-3718-4538-a84c-29984e19a6f6 ]] {\r\n",
       "}\r\n",
       "comp usage \"y\" as E7  <<(T,blue)attribute>> [[psysml:f187cc38-895f-43c9-b55f-372a79474975 ]] {\r\n",
       "}\r\n",
       "comp usage \"z\" as E8  <<(T,blue)attribute>> [[psysml:c8a5167c-621d-4bfa-8ffa-e3ed6a854bed ]] {\r\n",
       "}\r\n",
       "E3 ..>> E4 [[psysml:af0245ca-a479-404d-840a-c478ec8f55f1 ]] : <<depend>>\r\n",
       "E4 ..>> E5 [[psysml:aeab59fe-e3bd-4e23-96a4-136d0d468de6 ]] : <<depend>>\r\n",
       "E8 ..>> E6 [[psysml:e01a683f-5a6a-44b0-a0de-a423aeb5ad40 ]] : <<depend>>\r\n",
       "E8 ..>> E7 [[psysml:e01a683f-5a6a-44b0-a0de-a423aeb5ad40 ]] : <<depend>>\r\n",
       "}\r\n",
       "@enduml\r\n",
       "\n",
       "PlantUML version 1.2020.13(Sat Jun 13 12:26:38 UTC 2020)\n",
       "(EPL source distribution)\n",
       "Java Runtime: OpenJDK Runtime Environment\n",
       "JVM: OpenJDK 64-Bit Server VM\n",
       "Default Encoding: UTF-8\n",
       "Language: en\n",
       "Country: null\n",
       "--></g></svg>"
      ]
     },
     "execution_count": 42,
     "metadata": {},
     "output_type": "execute_result"
    }
   ],
   "source": [
    "%viz --style=\"DEFAULT\" --view=\"Sequence\" \"DependencyTest\""
   ]
  },
  {
   "cell_type": "code",
   "execution_count": 43,
   "id": "waiting-cholesterol",
   "metadata": {
    "execution": {
     "iopub.execute_input": "2021-03-26T13:04:35.180070Z",
     "iopub.status.busy": "2021-03-26T13:04:35.179198Z",
     "iopub.status.idle": "2021-03-26T13:04:35.209153Z",
     "shell.execute_reply": "2021-03-26T13:04:35.207673Z"
    }
   },
   "outputs": [
    {
     "data": {
      "image/svg+xml": [
       "<?xml version=\"1.0\" encoding=\"UTF-8\" standalone=\"no\"?><svg xmlns=\"http://www.w3.org/2000/svg\" xmlns:xlink=\"http://www.w3.org/1999/xlink\" contentScriptType=\"application/ecmascript\" contentStyleType=\"text/css\" height=\"449px\" preserveAspectRatio=\"none\" style=\"width:489px;height:449px;\" version=\"1.1\" viewBox=\"0 0 489 449\" width=\"489px\" zoomAndPan=\"magnify\"><defs/><g><!--MD5=[fbc87193dbaf4d95561dea2c320d4a47]\n",
       "cluster E1--><a href=\"psysml:c069fb4a-0cab-46ce-ae30-79221b6c6030\" target=\"_top\" title=\"psysml:c069fb4a-0cab-46ce-ae30-79221b6c6030\" xlink:actuate=\"onRequest\" xlink:href=\"psysml:c069fb4a-0cab-46ce-ae30-79221b6c6030\" xlink:show=\"new\" xlink:title=\"psysml:c069fb4a-0cab-46ce-ae30-79221b6c6030\" xlink:type=\"simple\"><polygon fill=\"#FFFFFF\" points=\"16,6,156,6,163,28.2969,467,28.2969,467,437,16,437,16,6\" style=\"stroke: #000000; stroke-width: 1.5;\"/><line style=\"stroke: #000000; stroke-width: 1.5;\" x1=\"16\" x2=\"163\" y1=\"28.2969\" y2=\"28.2969\"/><text fill=\"#000000\" font-family=\"sans-serif\" font-size=\"14\" font-weight=\"bold\" lengthAdjust=\"spacingAndGlyphs\" textLength=\"134\" x=\"20\" y=\"20.9951\">DependencyTest</text></a><!--MD5=[e4f7fae6ed58524ba242bb0b0d3be6b7]\n",
       "cluster E2--><a href=\"psysml:0036a7be-5206-4df9-ab28-301972427778\" target=\"_top\" title=\"psysml:0036a7be-5206-4df9-ab28-301972427778\" xlink:actuate=\"onRequest\" xlink:href=\"psysml:0036a7be-5206-4df9-ab28-301972427778\" xlink:show=\"new\" xlink:title=\"psysml:0036a7be-5206-4df9-ab28-301972427778\" xlink:type=\"simple\"><polygon fill=\"#FFFFFF\" points=\"255,49,319,49,326,71.2969,443,71.2969,443,413,255,413,255,49\" style=\"stroke: #000000; stroke-width: 1.5;\"/><line style=\"stroke: #000000; stroke-width: 1.5;\" x1=\"255\" x2=\"326\" y1=\"71.2969\" y2=\"71.2969\"/><text fill=\"#000000\" font-family=\"sans-serif\" font-size=\"14\" font-weight=\"bold\" lengthAdjust=\"spacingAndGlyphs\" textLength=\"58\" x=\"259\" y=\"63.9951\">System</text></a><!--MD5=[60a26617385b1d2d0262a64233df1f8d]\n",
       "class E6--><a href=\"psysml:ca3c2c7b-3718-4538-a84c-29984e19a6f6\" target=\"_top\" title=\"psysml:ca3c2c7b-3718-4538-a84c-29984e19a6f6\" xlink:actuate=\"onRequest\" xlink:href=\"psysml:ca3c2c7b-3718-4538-a84c-29984e19a6f6\" xlink:show=\"new\" xlink:title=\"psysml:ca3c2c7b-3718-4538-a84c-29984e19a6f6\" xlink:type=\"simple\"><rect fill=\"#FFFFFF\" height=\"45.9375\" id=\"E6\" rx=\"10\" ry=\"10\" style=\"stroke: #383838; stroke-width: 1.5;\" width=\"71\" x=\"32.5\" y=\"217.5\"/><text fill=\"#000000\" font-family=\"sans-serif\" font-size=\"12\" font-style=\"italic\" lengthAdjust=\"spacingAndGlyphs\" textLength=\"69\" x=\"33.5\" y=\"233.6387\">«attribute»</text><text fill=\"#000000\" font-family=\"sans-serif\" font-size=\"12\" lengthAdjust=\"spacingAndGlyphs\" textLength=\"6\" x=\"65\" y=\"247.6074\">x</text><line style=\"stroke: #383838; stroke-width: 1.5;\" x1=\"33.5\" x2=\"102.5\" y1=\"255.4375\" y2=\"255.4375\"/></a><!--MD5=[2156ba9850f5573cc1fc38a6a4b2f02b]\n",
       "class E7--><a href=\"psysml:f187cc38-895f-43c9-b55f-372a79474975\" target=\"_top\" title=\"psysml:f187cc38-895f-43c9-b55f-372a79474975\" xlink:actuate=\"onRequest\" xlink:href=\"psysml:f187cc38-895f-43c9-b55f-372a79474975\" xlink:show=\"new\" xlink:title=\"psysml:f187cc38-895f-43c9-b55f-372a79474975\" xlink:type=\"simple\"><rect fill=\"#FFFFFF\" height=\"45.9375\" id=\"E7\" rx=\"10\" ry=\"10\" style=\"stroke: #383838; stroke-width: 1.5;\" width=\"71\" x=\"138.5\" y=\"217.5\"/><text fill=\"#000000\" font-family=\"sans-serif\" font-size=\"12\" font-style=\"italic\" lengthAdjust=\"spacingAndGlyphs\" textLength=\"69\" x=\"139.5\" y=\"233.6387\">«attribute»</text><text fill=\"#000000\" font-family=\"sans-serif\" font-size=\"12\" lengthAdjust=\"spacingAndGlyphs\" textLength=\"6\" x=\"171\" y=\"247.6074\">y</text><line style=\"stroke: #383838; stroke-width: 1.5;\" x1=\"139.5\" x2=\"208.5\" y1=\"255.4375\" y2=\"255.4375\"/></a><!--MD5=[b9389687b975829384b498ac4b7476b2]\n",
       "class E8--><a href=\"psysml:c8a5167c-621d-4bfa-8ffa-e3ed6a854bed\" target=\"_top\" title=\"psysml:c8a5167c-621d-4bfa-8ffa-e3ed6a854bed\" xlink:actuate=\"onRequest\" xlink:href=\"psysml:c8a5167c-621d-4bfa-8ffa-e3ed6a854bed\" xlink:show=\"new\" xlink:title=\"psysml:c8a5167c-621d-4bfa-8ffa-e3ed6a854bed\" xlink:type=\"simple\"><rect fill=\"#FFFFFF\" height=\"45.9375\" id=\"E8\" rx=\"10\" ry=\"10\" style=\"stroke: #383838; stroke-width: 1.5;\" width=\"71\" x=\"84.5\" y=\"87.5\"/><text fill=\"#000000\" font-family=\"sans-serif\" font-size=\"12\" font-style=\"italic\" lengthAdjust=\"spacingAndGlyphs\" textLength=\"69\" x=\"85.5\" y=\"103.6387\">«attribute»</text><text fill=\"#000000\" font-family=\"sans-serif\" font-size=\"12\" lengthAdjust=\"spacingAndGlyphs\" textLength=\"5\" x=\"117.5\" y=\"117.6074\">z</text><line style=\"stroke: #383838; stroke-width: 1.5;\" x1=\"85.5\" x2=\"154.5\" y1=\"125.4375\" y2=\"125.4375\"/></a><a href=\"psysml:b9058297-d753-442e-8571-9bee33c166c8\" target=\"_top\" title=\"psysml:b9058297-d753-442e-8571-9bee33c166c8\" xlink:actuate=\"onRequest\" xlink:href=\"psysml:b9058297-d753-442e-8571-9bee33c166c8\" xlink:show=\"new\" xlink:title=\"psysml:b9058297-d753-442e-8571-9bee33c166c8\" xlink:type=\"simple\"><polygon fill=\"#FFFFFF\" points=\"271,84,413,84,420,106.2969,427,106.2969,427,136.5938,271,136.5938,271,84\" style=\"stroke: #000000; stroke-width: 1.5;\"/><line style=\"stroke: #000000; stroke-width: 1.5;\" x1=\"271\" x2=\"420\" y1=\"106.2969\" y2=\"106.2969\"/><text fill=\"#000000\" font-family=\"sans-serif\" font-size=\"14\" font-weight=\"bold\" lengthAdjust=\"spacingAndGlyphs\" textLength=\"136\" x=\"275\" y=\"98.9951\">Application Layer</text></a><a href=\"psysml:f007974c-308f-4828-8f2c-f39213f4e302\" target=\"_top\" title=\"psysml:f007974c-308f-4828-8f2c-f39213f4e302\" xlink:actuate=\"onRequest\" xlink:href=\"psysml:f007974c-308f-4828-8f2c-f39213f4e302\" xlink:show=\"new\" xlink:title=\"psysml:f007974c-308f-4828-8f2c-f39213f4e302\" xlink:type=\"simple\"><polygon fill=\"#FFFFFF\" points=\"285,214,399,214,406,236.2969,413,236.2969,413,266.5938,285,266.5938,285,214\" style=\"stroke: #000000; stroke-width: 1.5;\"/><line style=\"stroke: #000000; stroke-width: 1.5;\" x1=\"285\" x2=\"406\" y1=\"236.2969\" y2=\"236.2969\"/><text fill=\"#000000\" font-family=\"sans-serif\" font-size=\"14\" font-weight=\"bold\" lengthAdjust=\"spacingAndGlyphs\" textLength=\"108\" x=\"289\" y=\"228.9951\">Service Layer</text></a><a href=\"psysml:7870e797-441e-4743-978b-6b23dab0b8d1\" target=\"_top\" title=\"psysml:7870e797-441e-4743-978b-6b23dab0b8d1\" xlink:actuate=\"onRequest\" xlink:href=\"psysml:7870e797-441e-4743-978b-6b23dab0b8d1\" xlink:show=\"new\" xlink:title=\"psysml:7870e797-441e-4743-978b-6b23dab0b8d1\" xlink:type=\"simple\"><polygon fill=\"#FFFFFF\" points=\"297,344,387,344,394,366.2969,401,366.2969,401,396.5938,297,396.5938,297,344\" style=\"stroke: #000000; stroke-width: 1.5;\"/><line style=\"stroke: #000000; stroke-width: 1.5;\" x1=\"297\" x2=\"394\" y1=\"366.2969\" y2=\"366.2969\"/><text fill=\"#000000\" font-family=\"sans-serif\" font-size=\"14\" font-weight=\"bold\" lengthAdjust=\"spacingAndGlyphs\" textLength=\"84\" x=\"301\" y=\"358.9951\">Data Layer</text></a><!--MD5=[af87c684e3b0d8be13c1a698a818ef1e]\n",
       "link E3 to E4--><a href=\"psysml:af0245ca-a479-404d-840a-c478ec8f55f1\" target=\"_top\" title=\"psysml:af0245ca-a479-404d-840a-c478ec8f55f1\" xlink:actuate=\"onRequest\" xlink:href=\"psysml:af0245ca-a479-404d-840a-c478ec8f55f1\" xlink:show=\"new\" xlink:title=\"psysml:af0245ca-a479-404d-840a-c478ec8f55f1\" xlink:type=\"simple\"><path d=\"M349,137.1 C349,156.8 349,184.22 349,205.73 \" fill=\"none\" id=\"E3-&gt;E4\" style=\"stroke: #383838; stroke-width: 1.0; stroke-dasharray: 7.0,7.0;\"/><polygon fill=\"#383838\" points=\"349,213.95,352,205.95,346,205.95,349,213.95\" style=\"stroke: #383838; stroke-width: 1.0;\"/><text fill=\"#000000\" font-family=\"sans-serif\" font-size=\"13\" lengthAdjust=\"spacingAndGlyphs\" textLength=\"64\" x=\"350\" y=\"180.0669\">«depend»</text></a><!--MD5=[1b7591eae5389033d8d09a9d6721a717]\n",
       "link E4 to E5--><a href=\"psysml:aeab59fe-e3bd-4e23-96a4-136d0d468de6\" target=\"_top\" title=\"psysml:aeab59fe-e3bd-4e23-96a4-136d0d468de6\" xlink:actuate=\"onRequest\" xlink:href=\"psysml:aeab59fe-e3bd-4e23-96a4-136d0d468de6\" xlink:show=\"new\" xlink:title=\"psysml:aeab59fe-e3bd-4e23-96a4-136d0d468de6\" xlink:type=\"simple\"><path d=\"M349,267.1 C349,286.8 349,314.22 349,335.73 \" fill=\"none\" id=\"E4-&gt;E5\" style=\"stroke: #383838; stroke-width: 1.0; stroke-dasharray: 7.0,7.0;\"/><polygon fill=\"#383838\" points=\"349,343.95,352,335.95,346,335.95,349,343.95\" style=\"stroke: #383838; stroke-width: 1.0;\"/><text fill=\"#000000\" font-family=\"sans-serif\" font-size=\"13\" lengthAdjust=\"spacingAndGlyphs\" textLength=\"64\" x=\"350\" y=\"310.0669\">«depend»</text></a><!--MD5=[c5e8897d989ce984f93528998a7150fe]\n",
       "link E8 to E6--><a href=\"psysml:e01a683f-5a6a-44b0-a0de-a423aeb5ad40\" target=\"_top\" title=\"psysml:e01a683f-5a6a-44b0-a0de-a423aeb5ad40\" xlink:actuate=\"onRequest\" xlink:href=\"psysml:e01a683f-5a6a-44b0-a0de-a423aeb5ad40\" xlink:show=\"new\" xlink:title=\"psysml:e01a683f-5a6a-44b0-a0de-a423aeb5ad40\" xlink:type=\"simple\"><path d=\"M89.42,133.6 C79.35,142.68 69.37,154.11 64,167 C58.5,180.2 58.66,195.94 60.54,209.38 \" fill=\"none\" id=\"E8-&gt;E6\" style=\"stroke: #383838; stroke-width: 1.0; stroke-dasharray: 7.0,7.0;\"/><polygon fill=\"#383838\" points=\"61.9,217.4,63.517,209.0104,57.6018,210.0159,61.9,217.4\" style=\"stroke: #383838; stroke-width: 1.0;\"/><text fill=\"#000000\" font-family=\"sans-serif\" font-size=\"13\" lengthAdjust=\"spacingAndGlyphs\" textLength=\"64\" x=\"65\" y=\"180.0669\">«depend»</text></a><!--MD5=[bfa3c8b0d15052fdf50ae9310b491027]\n",
       "link E8 to E7--><a href=\"psysml:e01a683f-5a6a-44b0-a0de-a423aeb5ad40\" target=\"_top\" title=\"psysml:e01a683f-5a6a-44b0-a0de-a423aeb5ad40\" xlink:actuate=\"onRequest\" xlink:href=\"psysml:e01a683f-5a6a-44b0-a0de-a423aeb5ad40\" xlink:show=\"new\" xlink:title=\"psysml:e01a683f-5a6a-44b0-a0de-a423aeb5ad40\" xlink:type=\"simple\"><path d=\"M129.28,133.5 C138.17,154.57 151.64,186.5 161.47,209.81 \" fill=\"none\" id=\"E8-&gt;E7\" style=\"stroke: #383838; stroke-width: 1.0; stroke-dasharray: 7.0,7.0;\"/><polygon fill=\"#383838\" points=\"164.66,217.35,164.3241,208.8126,158.7933,211.1385,164.66,217.35\" style=\"stroke: #383838; stroke-width: 1.0;\"/><text fill=\"#000000\" font-family=\"sans-serif\" font-size=\"13\" lengthAdjust=\"spacingAndGlyphs\" textLength=\"64\" x=\"151\" y=\"180.0669\">«depend»</text></a><!--MD5=[ac65b5578ce8b77b9e69161f739b0ab6]\n",
       "@startuml\r\n",
       "skinparam monochrome true\r\n",
       "skinparam classbackgroundcolor white\r\n",
       "skinparam shadowing false\r\n",
       "skinparam wrapWidth 300\r\n",
       "hide circle\r\n",
       "\r\n",
       "package \"DependencyTest\" as E1  [[psysml:c069fb4a-0cab-46ce-ae30-79221b6c6030 ]]  {\r\n",
       "package \"System\" as E2  [[psysml:0036a7be-5206-4df9-ab28-301972427778 ]]  {\r\n",
       "package \"Application Layer\" as E3  [[psysml:b9058297-d753-442e-8571-9bee33c166c8 ]]  {\r\n",
       "}\r\n",
       "package \"Service Layer\" as E4  [[psysml:f007974c-308f-4828-8f2c-f39213f4e302 ]]  {\r\n",
       "}\r\n",
       "package \"Data Layer\" as E5  [[psysml:7870e797-441e-4743-978b-6b23dab0b8d1 ]]  {\r\n",
       "}\r\n",
       "}\r\n",
       "comp usage \"x\" as E6  <<(T,blue)attribute>> [[psysml:ca3c2c7b-3718-4538-a84c-29984e19a6f6 ]] {\r\n",
       "}\r\n",
       "comp usage \"y\" as E7  <<(T,blue)attribute>> [[psysml:f187cc38-895f-43c9-b55f-372a79474975 ]] {\r\n",
       "}\r\n",
       "comp usage \"z\" as E8  <<(T,blue)attribute>> [[psysml:c8a5167c-621d-4bfa-8ffa-e3ed6a854bed ]] {\r\n",
       "}\r\n",
       "E3 ..>> E4 [[psysml:af0245ca-a479-404d-840a-c478ec8f55f1 ]] : <<depend>>\r\n",
       "E4 ..>> E5 [[psysml:aeab59fe-e3bd-4e23-96a4-136d0d468de6 ]] : <<depend>>\r\n",
       "E8 ..>> E6 [[psysml:e01a683f-5a6a-44b0-a0de-a423aeb5ad40 ]] : <<depend>>\r\n",
       "E8 ..>> E7 [[psysml:e01a683f-5a6a-44b0-a0de-a423aeb5ad40 ]] : <<depend>>\r\n",
       "}\r\n",
       "@enduml\r\n",
       "\n",
       "PlantUML version 1.2020.13(Sat Jun 13 12:26:38 UTC 2020)\n",
       "(EPL source distribution)\n",
       "Java Runtime: OpenJDK Runtime Environment\n",
       "JVM: OpenJDK 64-Bit Server VM\n",
       "Default Encoding: UTF-8\n",
       "Language: en\n",
       "Country: null\n",
       "--></g></svg>"
      ]
     },
     "execution_count": 43,
     "metadata": {},
     "output_type": "execute_result"
    }
   ],
   "source": [
    "%viz --style=\"DEFAULT\" --view=\"MIXED\" \"DependencyTest\""
   ]
  },
  {
   "cell_type": "code",
   "execution_count": 44,
   "id": "marked-sailing",
   "metadata": {
    "execution": {
     "iopub.execute_input": "2021-03-26T13:04:35.264362Z",
     "iopub.status.busy": "2021-03-26T13:04:35.262393Z",
     "iopub.status.idle": "2021-03-26T13:04:35.294847Z",
     "shell.execute_reply": "2021-03-26T13:04:35.293692Z"
    }
   },
   "outputs": [
    {
     "data": {
      "image/svg+xml": [
       "<?xml version=\"1.0\" encoding=\"UTF-8\" standalone=\"no\"?><svg xmlns=\"http://www.w3.org/2000/svg\" xmlns:xlink=\"http://www.w3.org/1999/xlink\" contentScriptType=\"application/ecmascript\" contentStyleType=\"text/css\" height=\"449px\" preserveAspectRatio=\"none\" style=\"width:489px;height:449px;\" version=\"1.1\" viewBox=\"0 0 489 449\" width=\"489px\" zoomAndPan=\"magnify\"><defs/><g><!--MD5=[fbc87193dbaf4d95561dea2c320d4a47]\n",
       "cluster E1--><a href=\"psysml:c069fb4a-0cab-46ce-ae30-79221b6c6030\" target=\"_top\" title=\"psysml:c069fb4a-0cab-46ce-ae30-79221b6c6030\" xlink:actuate=\"onRequest\" xlink:href=\"psysml:c069fb4a-0cab-46ce-ae30-79221b6c6030\" xlink:show=\"new\" xlink:title=\"psysml:c069fb4a-0cab-46ce-ae30-79221b6c6030\" xlink:type=\"simple\"><polygon fill=\"#FFFFFF\" points=\"16,6,156,6,163,28.2969,467,28.2969,467,437,16,437,16,6\" style=\"stroke: #000000; stroke-width: 1.5;\"/><line style=\"stroke: #000000; stroke-width: 1.5;\" x1=\"16\" x2=\"163\" y1=\"28.2969\" y2=\"28.2969\"/><text fill=\"#000000\" font-family=\"sans-serif\" font-size=\"14\" font-weight=\"bold\" lengthAdjust=\"spacingAndGlyphs\" textLength=\"134\" x=\"20\" y=\"20.9951\">DependencyTest</text></a><!--MD5=[e4f7fae6ed58524ba242bb0b0d3be6b7]\n",
       "cluster E2--><a href=\"psysml:0036a7be-5206-4df9-ab28-301972427778\" target=\"_top\" title=\"psysml:0036a7be-5206-4df9-ab28-301972427778\" xlink:actuate=\"onRequest\" xlink:href=\"psysml:0036a7be-5206-4df9-ab28-301972427778\" xlink:show=\"new\" xlink:title=\"psysml:0036a7be-5206-4df9-ab28-301972427778\" xlink:type=\"simple\"><polygon fill=\"#FFFFFF\" points=\"255,49,319,49,326,71.2969,443,71.2969,443,413,255,413,255,49\" style=\"stroke: #000000; stroke-width: 1.5;\"/><line style=\"stroke: #000000; stroke-width: 1.5;\" x1=\"255\" x2=\"326\" y1=\"71.2969\" y2=\"71.2969\"/><text fill=\"#000000\" font-family=\"sans-serif\" font-size=\"14\" font-weight=\"bold\" lengthAdjust=\"spacingAndGlyphs\" textLength=\"58\" x=\"259\" y=\"63.9951\">System</text></a><!--MD5=[60a26617385b1d2d0262a64233df1f8d]\n",
       "class E6--><a href=\"psysml:ca3c2c7b-3718-4538-a84c-29984e19a6f6\" target=\"_top\" title=\"psysml:ca3c2c7b-3718-4538-a84c-29984e19a6f6\" xlink:actuate=\"onRequest\" xlink:href=\"psysml:ca3c2c7b-3718-4538-a84c-29984e19a6f6\" xlink:show=\"new\" xlink:title=\"psysml:ca3c2c7b-3718-4538-a84c-29984e19a6f6\" xlink:type=\"simple\"><rect fill=\"#FFFFFF\" height=\"45.9375\" id=\"E6\" rx=\"10\" ry=\"10\" style=\"stroke: #383838; stroke-width: 1.5;\" width=\"71\" x=\"32.5\" y=\"217.5\"/><text fill=\"#000000\" font-family=\"sans-serif\" font-size=\"12\" font-style=\"italic\" lengthAdjust=\"spacingAndGlyphs\" textLength=\"69\" x=\"33.5\" y=\"233.6387\">«attribute»</text><text fill=\"#000000\" font-family=\"sans-serif\" font-size=\"12\" lengthAdjust=\"spacingAndGlyphs\" textLength=\"6\" x=\"65\" y=\"247.6074\">x</text><line style=\"stroke: #383838; stroke-width: 1.5;\" x1=\"33.5\" x2=\"102.5\" y1=\"255.4375\" y2=\"255.4375\"/></a><!--MD5=[2156ba9850f5573cc1fc38a6a4b2f02b]\n",
       "class E7--><a href=\"psysml:f187cc38-895f-43c9-b55f-372a79474975\" target=\"_top\" title=\"psysml:f187cc38-895f-43c9-b55f-372a79474975\" xlink:actuate=\"onRequest\" xlink:href=\"psysml:f187cc38-895f-43c9-b55f-372a79474975\" xlink:show=\"new\" xlink:title=\"psysml:f187cc38-895f-43c9-b55f-372a79474975\" xlink:type=\"simple\"><rect fill=\"#FFFFFF\" height=\"45.9375\" id=\"E7\" rx=\"10\" ry=\"10\" style=\"stroke: #383838; stroke-width: 1.5;\" width=\"71\" x=\"138.5\" y=\"217.5\"/><text fill=\"#000000\" font-family=\"sans-serif\" font-size=\"12\" font-style=\"italic\" lengthAdjust=\"spacingAndGlyphs\" textLength=\"69\" x=\"139.5\" y=\"233.6387\">«attribute»</text><text fill=\"#000000\" font-family=\"sans-serif\" font-size=\"12\" lengthAdjust=\"spacingAndGlyphs\" textLength=\"6\" x=\"171\" y=\"247.6074\">y</text><line style=\"stroke: #383838; stroke-width: 1.5;\" x1=\"139.5\" x2=\"208.5\" y1=\"255.4375\" y2=\"255.4375\"/></a><!--MD5=[b9389687b975829384b498ac4b7476b2]\n",
       "class E8--><a href=\"psysml:c8a5167c-621d-4bfa-8ffa-e3ed6a854bed\" target=\"_top\" title=\"psysml:c8a5167c-621d-4bfa-8ffa-e3ed6a854bed\" xlink:actuate=\"onRequest\" xlink:href=\"psysml:c8a5167c-621d-4bfa-8ffa-e3ed6a854bed\" xlink:show=\"new\" xlink:title=\"psysml:c8a5167c-621d-4bfa-8ffa-e3ed6a854bed\" xlink:type=\"simple\"><rect fill=\"#FFFFFF\" height=\"45.9375\" id=\"E8\" rx=\"10\" ry=\"10\" style=\"stroke: #383838; stroke-width: 1.5;\" width=\"71\" x=\"84.5\" y=\"87.5\"/><text fill=\"#000000\" font-family=\"sans-serif\" font-size=\"12\" font-style=\"italic\" lengthAdjust=\"spacingAndGlyphs\" textLength=\"69\" x=\"85.5\" y=\"103.6387\">«attribute»</text><text fill=\"#000000\" font-family=\"sans-serif\" font-size=\"12\" lengthAdjust=\"spacingAndGlyphs\" textLength=\"5\" x=\"117.5\" y=\"117.6074\">z</text><line style=\"stroke: #383838; stroke-width: 1.5;\" x1=\"85.5\" x2=\"154.5\" y1=\"125.4375\" y2=\"125.4375\"/></a><a href=\"psysml:b9058297-d753-442e-8571-9bee33c166c8\" target=\"_top\" title=\"psysml:b9058297-d753-442e-8571-9bee33c166c8\" xlink:actuate=\"onRequest\" xlink:href=\"psysml:b9058297-d753-442e-8571-9bee33c166c8\" xlink:show=\"new\" xlink:title=\"psysml:b9058297-d753-442e-8571-9bee33c166c8\" xlink:type=\"simple\"><polygon fill=\"#FFFFFF\" points=\"271,84,413,84,420,106.2969,427,106.2969,427,136.5938,271,136.5938,271,84\" style=\"stroke: #000000; stroke-width: 1.5;\"/><line style=\"stroke: #000000; stroke-width: 1.5;\" x1=\"271\" x2=\"420\" y1=\"106.2969\" y2=\"106.2969\"/><text fill=\"#000000\" font-family=\"sans-serif\" font-size=\"14\" font-weight=\"bold\" lengthAdjust=\"spacingAndGlyphs\" textLength=\"136\" x=\"275\" y=\"98.9951\">Application Layer</text></a><a href=\"psysml:f007974c-308f-4828-8f2c-f39213f4e302\" target=\"_top\" title=\"psysml:f007974c-308f-4828-8f2c-f39213f4e302\" xlink:actuate=\"onRequest\" xlink:href=\"psysml:f007974c-308f-4828-8f2c-f39213f4e302\" xlink:show=\"new\" xlink:title=\"psysml:f007974c-308f-4828-8f2c-f39213f4e302\" xlink:type=\"simple\"><polygon fill=\"#FFFFFF\" points=\"285,214,399,214,406,236.2969,413,236.2969,413,266.5938,285,266.5938,285,214\" style=\"stroke: #000000; stroke-width: 1.5;\"/><line style=\"stroke: #000000; stroke-width: 1.5;\" x1=\"285\" x2=\"406\" y1=\"236.2969\" y2=\"236.2969\"/><text fill=\"#000000\" font-family=\"sans-serif\" font-size=\"14\" font-weight=\"bold\" lengthAdjust=\"spacingAndGlyphs\" textLength=\"108\" x=\"289\" y=\"228.9951\">Service Layer</text></a><a href=\"psysml:7870e797-441e-4743-978b-6b23dab0b8d1\" target=\"_top\" title=\"psysml:7870e797-441e-4743-978b-6b23dab0b8d1\" xlink:actuate=\"onRequest\" xlink:href=\"psysml:7870e797-441e-4743-978b-6b23dab0b8d1\" xlink:show=\"new\" xlink:title=\"psysml:7870e797-441e-4743-978b-6b23dab0b8d1\" xlink:type=\"simple\"><polygon fill=\"#FFFFFF\" points=\"297,344,387,344,394,366.2969,401,366.2969,401,396.5938,297,396.5938,297,344\" style=\"stroke: #000000; stroke-width: 1.5;\"/><line style=\"stroke: #000000; stroke-width: 1.5;\" x1=\"297\" x2=\"394\" y1=\"366.2969\" y2=\"366.2969\"/><text fill=\"#000000\" font-family=\"sans-serif\" font-size=\"14\" font-weight=\"bold\" lengthAdjust=\"spacingAndGlyphs\" textLength=\"84\" x=\"301\" y=\"358.9951\">Data Layer</text></a><!--MD5=[af87c684e3b0d8be13c1a698a818ef1e]\n",
       "link E3 to E4--><a href=\"psysml:af0245ca-a479-404d-840a-c478ec8f55f1\" target=\"_top\" title=\"psysml:af0245ca-a479-404d-840a-c478ec8f55f1\" xlink:actuate=\"onRequest\" xlink:href=\"psysml:af0245ca-a479-404d-840a-c478ec8f55f1\" xlink:show=\"new\" xlink:title=\"psysml:af0245ca-a479-404d-840a-c478ec8f55f1\" xlink:type=\"simple\"><path d=\"M349,137.1 C349,156.8 349,184.22 349,205.73 \" fill=\"none\" id=\"E3-&gt;E4\" style=\"stroke: #383838; stroke-width: 1.0; stroke-dasharray: 7.0,7.0;\"/><polygon fill=\"#383838\" points=\"349,213.95,352,205.95,346,205.95,349,213.95\" style=\"stroke: #383838; stroke-width: 1.0;\"/><text fill=\"#000000\" font-family=\"sans-serif\" font-size=\"13\" lengthAdjust=\"spacingAndGlyphs\" textLength=\"64\" x=\"350\" y=\"180.0669\">«depend»</text></a><!--MD5=[1b7591eae5389033d8d09a9d6721a717]\n",
       "link E4 to E5--><a href=\"psysml:aeab59fe-e3bd-4e23-96a4-136d0d468de6\" target=\"_top\" title=\"psysml:aeab59fe-e3bd-4e23-96a4-136d0d468de6\" xlink:actuate=\"onRequest\" xlink:href=\"psysml:aeab59fe-e3bd-4e23-96a4-136d0d468de6\" xlink:show=\"new\" xlink:title=\"psysml:aeab59fe-e3bd-4e23-96a4-136d0d468de6\" xlink:type=\"simple\"><path d=\"M349,267.1 C349,286.8 349,314.22 349,335.73 \" fill=\"none\" id=\"E4-&gt;E5\" style=\"stroke: #383838; stroke-width: 1.0; stroke-dasharray: 7.0,7.0;\"/><polygon fill=\"#383838\" points=\"349,343.95,352,335.95,346,335.95,349,343.95\" style=\"stroke: #383838; stroke-width: 1.0;\"/><text fill=\"#000000\" font-family=\"sans-serif\" font-size=\"13\" lengthAdjust=\"spacingAndGlyphs\" textLength=\"64\" x=\"350\" y=\"310.0669\">«depend»</text></a><!--MD5=[c5e8897d989ce984f93528998a7150fe]\n",
       "link E8 to E6--><a href=\"psysml:e01a683f-5a6a-44b0-a0de-a423aeb5ad40\" target=\"_top\" title=\"psysml:e01a683f-5a6a-44b0-a0de-a423aeb5ad40\" xlink:actuate=\"onRequest\" xlink:href=\"psysml:e01a683f-5a6a-44b0-a0de-a423aeb5ad40\" xlink:show=\"new\" xlink:title=\"psysml:e01a683f-5a6a-44b0-a0de-a423aeb5ad40\" xlink:type=\"simple\"><path d=\"M89.42,133.6 C79.35,142.68 69.37,154.11 64,167 C58.5,180.2 58.66,195.94 60.54,209.38 \" fill=\"none\" id=\"E8-&gt;E6\" style=\"stroke: #383838; stroke-width: 1.0; stroke-dasharray: 7.0,7.0;\"/><polygon fill=\"#383838\" points=\"61.9,217.4,63.517,209.0104,57.6018,210.0159,61.9,217.4\" style=\"stroke: #383838; stroke-width: 1.0;\"/><text fill=\"#000000\" font-family=\"sans-serif\" font-size=\"13\" lengthAdjust=\"spacingAndGlyphs\" textLength=\"64\" x=\"65\" y=\"180.0669\">«depend»</text></a><!--MD5=[bfa3c8b0d15052fdf50ae9310b491027]\n",
       "link E8 to E7--><a href=\"psysml:e01a683f-5a6a-44b0-a0de-a423aeb5ad40\" target=\"_top\" title=\"psysml:e01a683f-5a6a-44b0-a0de-a423aeb5ad40\" xlink:actuate=\"onRequest\" xlink:href=\"psysml:e01a683f-5a6a-44b0-a0de-a423aeb5ad40\" xlink:show=\"new\" xlink:title=\"psysml:e01a683f-5a6a-44b0-a0de-a423aeb5ad40\" xlink:type=\"simple\"><path d=\"M129.28,133.5 C138.17,154.57 151.64,186.5 161.47,209.81 \" fill=\"none\" id=\"E8-&gt;E7\" style=\"stroke: #383838; stroke-width: 1.0; stroke-dasharray: 7.0,7.0;\"/><polygon fill=\"#383838\" points=\"164.66,217.35,164.3241,208.8126,158.7933,211.1385,164.66,217.35\" style=\"stroke: #383838; stroke-width: 1.0;\"/><text fill=\"#000000\" font-family=\"sans-serif\" font-size=\"13\" lengthAdjust=\"spacingAndGlyphs\" textLength=\"64\" x=\"151\" y=\"180.0669\">«depend»</text></a><!--MD5=[a8333b001e9a7a79f5d8fd76c2118a69]\n",
       "@startuml\r\n",
       "top to bottom direction\r\n",
       "skinparam monochrome true\r\n",
       "skinparam classbackgroundcolor white\r\n",
       "skinparam shadowing false\r\n",
       "skinparam wrapWidth 300\r\n",
       "hide circle\r\n",
       "\r\n",
       "package \"DependencyTest\" as E1  [[psysml:c069fb4a-0cab-46ce-ae30-79221b6c6030 ]]  {\r\n",
       "package \"System\" as E2  [[psysml:0036a7be-5206-4df9-ab28-301972427778 ]]  {\r\n",
       "package \"Application Layer\" as E3  [[psysml:b9058297-d753-442e-8571-9bee33c166c8 ]]  {\r\n",
       "}\r\n",
       "package \"Service Layer\" as E4  [[psysml:f007974c-308f-4828-8f2c-f39213f4e302 ]]  {\r\n",
       "}\r\n",
       "package \"Data Layer\" as E5  [[psysml:7870e797-441e-4743-978b-6b23dab0b8d1 ]]  {\r\n",
       "}\r\n",
       "}\r\n",
       "comp usage \"x\" as E6  <<(T,blue)attribute>> [[psysml:ca3c2c7b-3718-4538-a84c-29984e19a6f6 ]] {\r\n",
       "}\r\n",
       "comp usage \"y\" as E7  <<(T,blue)attribute>> [[psysml:f187cc38-895f-43c9-b55f-372a79474975 ]] {\r\n",
       "}\r\n",
       "comp usage \"z\" as E8  <<(T,blue)attribute>> [[psysml:c8a5167c-621d-4bfa-8ffa-e3ed6a854bed ]] {\r\n",
       "}\r\n",
       "E3 ..>> E4 [[psysml:af0245ca-a479-404d-840a-c478ec8f55f1 ]] : <<depend>>\r\n",
       "E4 ..>> E5 [[psysml:aeab59fe-e3bd-4e23-96a4-136d0d468de6 ]] : <<depend>>\r\n",
       "E8 ..>> E6 [[psysml:e01a683f-5a6a-44b0-a0de-a423aeb5ad40 ]] : <<depend>>\r\n",
       "E8 ..>> E7 [[psysml:e01a683f-5a6a-44b0-a0de-a423aeb5ad40 ]] : <<depend>>\r\n",
       "}\r\n",
       "@enduml\r\n",
       "\n",
       "PlantUML version 1.2020.13(Sat Jun 13 12:26:38 UTC 2020)\n",
       "(EPL source distribution)\n",
       "Java Runtime: OpenJDK Runtime Environment\n",
       "JVM: OpenJDK 64-Bit Server VM\n",
       "Default Encoding: UTF-8\n",
       "Language: en\n",
       "Country: null\n",
       "--></g></svg>"
      ]
     },
     "execution_count": 44,
     "metadata": {},
     "output_type": "execute_result"
    }
   ],
   "source": [
    "%viz --style=\"TB\" --view=\"Default\" \"DependencyTest\""
   ]
  },
  {
   "cell_type": "code",
   "execution_count": 45,
   "id": "tutorial-refrigerator",
   "metadata": {
    "execution": {
     "iopub.execute_input": "2021-03-26T13:04:35.347044Z",
     "iopub.status.busy": "2021-03-26T13:04:35.346019Z",
     "iopub.status.idle": "2021-03-26T13:04:35.383616Z",
     "shell.execute_reply": "2021-03-26T13:04:35.381929Z"
    }
   },
   "outputs": [
    {
     "data": {
      "image/svg+xml": [
       "<?xml version=\"1.0\" encoding=\"UTF-8\" standalone=\"no\"?><svg xmlns=\"http://www.w3.org/2000/svg\" xmlns:xlink=\"http://www.w3.org/1999/xlink\" contentScriptType=\"application/ecmascript\" contentStyleType=\"text/css\" height=\"449px\" preserveAspectRatio=\"none\" style=\"width:489px;height:449px;\" version=\"1.1\" viewBox=\"0 0 489 449\" width=\"489px\" zoomAndPan=\"magnify\"><defs/><g><!--MD5=[fbc87193dbaf4d95561dea2c320d4a47]\n",
       "cluster E1--><a href=\"psysml:c069fb4a-0cab-46ce-ae30-79221b6c6030\" target=\"_top\" title=\"psysml:c069fb4a-0cab-46ce-ae30-79221b6c6030\" xlink:actuate=\"onRequest\" xlink:href=\"psysml:c069fb4a-0cab-46ce-ae30-79221b6c6030\" xlink:show=\"new\" xlink:title=\"psysml:c069fb4a-0cab-46ce-ae30-79221b6c6030\" xlink:type=\"simple\"><polygon fill=\"#FFFFFF\" points=\"16,6,156,6,163,28.2969,467,28.2969,467,437,16,437,16,6\" style=\"stroke: #000000; stroke-width: 1.5;\"/><line style=\"stroke: #000000; stroke-width: 1.5;\" x1=\"16\" x2=\"163\" y1=\"28.2969\" y2=\"28.2969\"/><text fill=\"#000000\" font-family=\"sans-serif\" font-size=\"14\" font-weight=\"bold\" lengthAdjust=\"spacingAndGlyphs\" textLength=\"134\" x=\"20\" y=\"20.9951\">DependencyTest</text></a><!--MD5=[e4f7fae6ed58524ba242bb0b0d3be6b7]\n",
       "cluster E2--><a href=\"psysml:0036a7be-5206-4df9-ab28-301972427778\" target=\"_top\" title=\"psysml:0036a7be-5206-4df9-ab28-301972427778\" xlink:actuate=\"onRequest\" xlink:href=\"psysml:0036a7be-5206-4df9-ab28-301972427778\" xlink:show=\"new\" xlink:title=\"psysml:0036a7be-5206-4df9-ab28-301972427778\" xlink:type=\"simple\"><polygon fill=\"#FFFFFF\" points=\"255,49,319,49,326,71.2969,443,71.2969,443,413,255,413,255,49\" style=\"stroke: #000000; stroke-width: 1.5;\"/><line style=\"stroke: #000000; stroke-width: 1.5;\" x1=\"255\" x2=\"326\" y1=\"71.2969\" y2=\"71.2969\"/><text fill=\"#000000\" font-family=\"sans-serif\" font-size=\"14\" font-weight=\"bold\" lengthAdjust=\"spacingAndGlyphs\" textLength=\"58\" x=\"259\" y=\"63.9951\">System</text></a><!--MD5=[60a26617385b1d2d0262a64233df1f8d]\n",
       "class E6--><a href=\"psysml:ca3c2c7b-3718-4538-a84c-29984e19a6f6\" target=\"_top\" title=\"psysml:ca3c2c7b-3718-4538-a84c-29984e19a6f6\" xlink:actuate=\"onRequest\" xlink:href=\"psysml:ca3c2c7b-3718-4538-a84c-29984e19a6f6\" xlink:show=\"new\" xlink:title=\"psysml:ca3c2c7b-3718-4538-a84c-29984e19a6f6\" xlink:type=\"simple\"><rect fill=\"#FFFFFF\" height=\"45.9375\" id=\"E6\" rx=\"10\" ry=\"10\" style=\"stroke: #383838; stroke-width: 1.5;\" width=\"71\" x=\"32.5\" y=\"217.5\"/><text fill=\"#000000\" font-family=\"sans-serif\" font-size=\"12\" font-style=\"italic\" lengthAdjust=\"spacingAndGlyphs\" textLength=\"69\" x=\"33.5\" y=\"233.6387\">«attribute»</text><text fill=\"#000000\" font-family=\"sans-serif\" font-size=\"12\" lengthAdjust=\"spacingAndGlyphs\" textLength=\"6\" x=\"65\" y=\"247.6074\">x</text><line style=\"stroke: #383838; stroke-width: 1.5;\" x1=\"33.5\" x2=\"102.5\" y1=\"255.4375\" y2=\"255.4375\"/></a><!--MD5=[2156ba9850f5573cc1fc38a6a4b2f02b]\n",
       "class E7--><a href=\"psysml:f187cc38-895f-43c9-b55f-372a79474975\" target=\"_top\" title=\"psysml:f187cc38-895f-43c9-b55f-372a79474975\" xlink:actuate=\"onRequest\" xlink:href=\"psysml:f187cc38-895f-43c9-b55f-372a79474975\" xlink:show=\"new\" xlink:title=\"psysml:f187cc38-895f-43c9-b55f-372a79474975\" xlink:type=\"simple\"><rect fill=\"#FFFFFF\" height=\"45.9375\" id=\"E7\" rx=\"10\" ry=\"10\" style=\"stroke: #383838; stroke-width: 1.5;\" width=\"71\" x=\"138.5\" y=\"217.5\"/><text fill=\"#000000\" font-family=\"sans-serif\" font-size=\"12\" font-style=\"italic\" lengthAdjust=\"spacingAndGlyphs\" textLength=\"69\" x=\"139.5\" y=\"233.6387\">«attribute»</text><text fill=\"#000000\" font-family=\"sans-serif\" font-size=\"12\" lengthAdjust=\"spacingAndGlyphs\" textLength=\"6\" x=\"171\" y=\"247.6074\">y</text><line style=\"stroke: #383838; stroke-width: 1.5;\" x1=\"139.5\" x2=\"208.5\" y1=\"255.4375\" y2=\"255.4375\"/></a><!--MD5=[b9389687b975829384b498ac4b7476b2]\n",
       "class E8--><a href=\"psysml:c8a5167c-621d-4bfa-8ffa-e3ed6a854bed\" target=\"_top\" title=\"psysml:c8a5167c-621d-4bfa-8ffa-e3ed6a854bed\" xlink:actuate=\"onRequest\" xlink:href=\"psysml:c8a5167c-621d-4bfa-8ffa-e3ed6a854bed\" xlink:show=\"new\" xlink:title=\"psysml:c8a5167c-621d-4bfa-8ffa-e3ed6a854bed\" xlink:type=\"simple\"><rect fill=\"#FFFFFF\" height=\"45.9375\" id=\"E8\" rx=\"10\" ry=\"10\" style=\"stroke: #383838; stroke-width: 1.5;\" width=\"71\" x=\"84.5\" y=\"87.5\"/><text fill=\"#000000\" font-family=\"sans-serif\" font-size=\"12\" font-style=\"italic\" lengthAdjust=\"spacingAndGlyphs\" textLength=\"69\" x=\"85.5\" y=\"103.6387\">«attribute»</text><text fill=\"#000000\" font-family=\"sans-serif\" font-size=\"12\" lengthAdjust=\"spacingAndGlyphs\" textLength=\"5\" x=\"117.5\" y=\"117.6074\">z</text><line style=\"stroke: #383838; stroke-width: 1.5;\" x1=\"85.5\" x2=\"154.5\" y1=\"125.4375\" y2=\"125.4375\"/></a><a href=\"psysml:b9058297-d753-442e-8571-9bee33c166c8\" target=\"_top\" title=\"psysml:b9058297-d753-442e-8571-9bee33c166c8\" xlink:actuate=\"onRequest\" xlink:href=\"psysml:b9058297-d753-442e-8571-9bee33c166c8\" xlink:show=\"new\" xlink:title=\"psysml:b9058297-d753-442e-8571-9bee33c166c8\" xlink:type=\"simple\"><polygon fill=\"#FFFFFF\" points=\"271,84,413,84,420,106.2969,427,106.2969,427,136.5938,271,136.5938,271,84\" style=\"stroke: #000000; stroke-width: 1.5;\"/><line style=\"stroke: #000000; stroke-width: 1.5;\" x1=\"271\" x2=\"420\" y1=\"106.2969\" y2=\"106.2969\"/><text fill=\"#000000\" font-family=\"sans-serif\" font-size=\"14\" font-weight=\"bold\" lengthAdjust=\"spacingAndGlyphs\" textLength=\"136\" x=\"275\" y=\"98.9951\">Application Layer</text></a><a href=\"psysml:f007974c-308f-4828-8f2c-f39213f4e302\" target=\"_top\" title=\"psysml:f007974c-308f-4828-8f2c-f39213f4e302\" xlink:actuate=\"onRequest\" xlink:href=\"psysml:f007974c-308f-4828-8f2c-f39213f4e302\" xlink:show=\"new\" xlink:title=\"psysml:f007974c-308f-4828-8f2c-f39213f4e302\" xlink:type=\"simple\"><polygon fill=\"#FFFFFF\" points=\"285,214,399,214,406,236.2969,413,236.2969,413,266.5938,285,266.5938,285,214\" style=\"stroke: #000000; stroke-width: 1.5;\"/><line style=\"stroke: #000000; stroke-width: 1.5;\" x1=\"285\" x2=\"406\" y1=\"236.2969\" y2=\"236.2969\"/><text fill=\"#000000\" font-family=\"sans-serif\" font-size=\"14\" font-weight=\"bold\" lengthAdjust=\"spacingAndGlyphs\" textLength=\"108\" x=\"289\" y=\"228.9951\">Service Layer</text></a><a href=\"psysml:7870e797-441e-4743-978b-6b23dab0b8d1\" target=\"_top\" title=\"psysml:7870e797-441e-4743-978b-6b23dab0b8d1\" xlink:actuate=\"onRequest\" xlink:href=\"psysml:7870e797-441e-4743-978b-6b23dab0b8d1\" xlink:show=\"new\" xlink:title=\"psysml:7870e797-441e-4743-978b-6b23dab0b8d1\" xlink:type=\"simple\"><polygon fill=\"#FFFFFF\" points=\"297,344,387,344,394,366.2969,401,366.2969,401,396.5938,297,396.5938,297,344\" style=\"stroke: #000000; stroke-width: 1.5;\"/><line style=\"stroke: #000000; stroke-width: 1.5;\" x1=\"297\" x2=\"394\" y1=\"366.2969\" y2=\"366.2969\"/><text fill=\"#000000\" font-family=\"sans-serif\" font-size=\"14\" font-weight=\"bold\" lengthAdjust=\"spacingAndGlyphs\" textLength=\"84\" x=\"301\" y=\"358.9951\">Data Layer</text></a><!--MD5=[af87c684e3b0d8be13c1a698a818ef1e]\n",
       "link E3 to E4--><a href=\"psysml:af0245ca-a479-404d-840a-c478ec8f55f1\" target=\"_top\" title=\"psysml:af0245ca-a479-404d-840a-c478ec8f55f1\" xlink:actuate=\"onRequest\" xlink:href=\"psysml:af0245ca-a479-404d-840a-c478ec8f55f1\" xlink:show=\"new\" xlink:title=\"psysml:af0245ca-a479-404d-840a-c478ec8f55f1\" xlink:type=\"simple\"><path d=\"M349,137.1 C349,156.8 349,184.22 349,205.73 \" fill=\"none\" id=\"E3-&gt;E4\" style=\"stroke: #383838; stroke-width: 1.0; stroke-dasharray: 7.0,7.0;\"/><polygon fill=\"#383838\" points=\"349,213.95,352,205.95,346,205.95,349,213.95\" style=\"stroke: #383838; stroke-width: 1.0;\"/><text fill=\"#000000\" font-family=\"sans-serif\" font-size=\"13\" lengthAdjust=\"spacingAndGlyphs\" textLength=\"64\" x=\"350\" y=\"180.0669\">«depend»</text></a><!--MD5=[1b7591eae5389033d8d09a9d6721a717]\n",
       "link E4 to E5--><a href=\"psysml:aeab59fe-e3bd-4e23-96a4-136d0d468de6\" target=\"_top\" title=\"psysml:aeab59fe-e3bd-4e23-96a4-136d0d468de6\" xlink:actuate=\"onRequest\" xlink:href=\"psysml:aeab59fe-e3bd-4e23-96a4-136d0d468de6\" xlink:show=\"new\" xlink:title=\"psysml:aeab59fe-e3bd-4e23-96a4-136d0d468de6\" xlink:type=\"simple\"><path d=\"M349,267.1 C349,286.8 349,314.22 349,335.73 \" fill=\"none\" id=\"E4-&gt;E5\" style=\"stroke: #383838; stroke-width: 1.0; stroke-dasharray: 7.0,7.0;\"/><polygon fill=\"#383838\" points=\"349,343.95,352,335.95,346,335.95,349,343.95\" style=\"stroke: #383838; stroke-width: 1.0;\"/><text fill=\"#000000\" font-family=\"sans-serif\" font-size=\"13\" lengthAdjust=\"spacingAndGlyphs\" textLength=\"64\" x=\"350\" y=\"310.0669\">«depend»</text></a><!--MD5=[c5e8897d989ce984f93528998a7150fe]\n",
       "link E8 to E6--><a href=\"psysml:e01a683f-5a6a-44b0-a0de-a423aeb5ad40\" target=\"_top\" title=\"psysml:e01a683f-5a6a-44b0-a0de-a423aeb5ad40\" xlink:actuate=\"onRequest\" xlink:href=\"psysml:e01a683f-5a6a-44b0-a0de-a423aeb5ad40\" xlink:show=\"new\" xlink:title=\"psysml:e01a683f-5a6a-44b0-a0de-a423aeb5ad40\" xlink:type=\"simple\"><path d=\"M89.42,133.6 C79.35,142.68 69.37,154.11 64,167 C58.5,180.2 58.66,195.94 60.54,209.38 \" fill=\"none\" id=\"E8-&gt;E6\" style=\"stroke: #383838; stroke-width: 1.0; stroke-dasharray: 7.0,7.0;\"/><polygon fill=\"#383838\" points=\"61.9,217.4,63.517,209.0104,57.6018,210.0159,61.9,217.4\" style=\"stroke: #383838; stroke-width: 1.0;\"/><text fill=\"#000000\" font-family=\"sans-serif\" font-size=\"13\" lengthAdjust=\"spacingAndGlyphs\" textLength=\"64\" x=\"65\" y=\"180.0669\">«depend»</text></a><!--MD5=[bfa3c8b0d15052fdf50ae9310b491027]\n",
       "link E8 to E7--><a href=\"psysml:e01a683f-5a6a-44b0-a0de-a423aeb5ad40\" target=\"_top\" title=\"psysml:e01a683f-5a6a-44b0-a0de-a423aeb5ad40\" xlink:actuate=\"onRequest\" xlink:href=\"psysml:e01a683f-5a6a-44b0-a0de-a423aeb5ad40\" xlink:show=\"new\" xlink:title=\"psysml:e01a683f-5a6a-44b0-a0de-a423aeb5ad40\" xlink:type=\"simple\"><path d=\"M129.28,133.5 C138.17,154.57 151.64,186.5 161.47,209.81 \" fill=\"none\" id=\"E8-&gt;E7\" style=\"stroke: #383838; stroke-width: 1.0; stroke-dasharray: 7.0,7.0;\"/><polygon fill=\"#383838\" points=\"164.66,217.35,164.3241,208.8126,158.7933,211.1385,164.66,217.35\" style=\"stroke: #383838; stroke-width: 1.0;\"/><text fill=\"#000000\" font-family=\"sans-serif\" font-size=\"13\" lengthAdjust=\"spacingAndGlyphs\" textLength=\"64\" x=\"151\" y=\"180.0669\">«depend»</text></a><!--MD5=[a8333b001e9a7a79f5d8fd76c2118a69]\n",
       "@startuml\r\n",
       "top to bottom direction\r\n",
       "skinparam monochrome true\r\n",
       "skinparam classbackgroundcolor white\r\n",
       "skinparam shadowing false\r\n",
       "skinparam wrapWidth 300\r\n",
       "hide circle\r\n",
       "\r\n",
       "package \"DependencyTest\" as E1  [[psysml:c069fb4a-0cab-46ce-ae30-79221b6c6030 ]]  {\r\n",
       "package \"System\" as E2  [[psysml:0036a7be-5206-4df9-ab28-301972427778 ]]  {\r\n",
       "package \"Application Layer\" as E3  [[psysml:b9058297-d753-442e-8571-9bee33c166c8 ]]  {\r\n",
       "}\r\n",
       "package \"Service Layer\" as E4  [[psysml:f007974c-308f-4828-8f2c-f39213f4e302 ]]  {\r\n",
       "}\r\n",
       "package \"Data Layer\" as E5  [[psysml:7870e797-441e-4743-978b-6b23dab0b8d1 ]]  {\r\n",
       "}\r\n",
       "}\r\n",
       "comp usage \"x\" as E6  <<(T,blue)attribute>> [[psysml:ca3c2c7b-3718-4538-a84c-29984e19a6f6 ]] {\r\n",
       "}\r\n",
       "comp usage \"y\" as E7  <<(T,blue)attribute>> [[psysml:f187cc38-895f-43c9-b55f-372a79474975 ]] {\r\n",
       "}\r\n",
       "comp usage \"z\" as E8  <<(T,blue)attribute>> [[psysml:c8a5167c-621d-4bfa-8ffa-e3ed6a854bed ]] {\r\n",
       "}\r\n",
       "E3 ..>> E4 [[psysml:af0245ca-a479-404d-840a-c478ec8f55f1 ]] : <<depend>>\r\n",
       "E4 ..>> E5 [[psysml:aeab59fe-e3bd-4e23-96a4-136d0d468de6 ]] : <<depend>>\r\n",
       "E8 ..>> E6 [[psysml:e01a683f-5a6a-44b0-a0de-a423aeb5ad40 ]] : <<depend>>\r\n",
       "E8 ..>> E7 [[psysml:e01a683f-5a6a-44b0-a0de-a423aeb5ad40 ]] : <<depend>>\r\n",
       "}\r\n",
       "@enduml\r\n",
       "\n",
       "PlantUML version 1.2020.13(Sat Jun 13 12:26:38 UTC 2020)\n",
       "(EPL source distribution)\n",
       "Java Runtime: OpenJDK Runtime Environment\n",
       "JVM: OpenJDK 64-Bit Server VM\n",
       "Default Encoding: UTF-8\n",
       "Language: en\n",
       "Country: null\n",
       "--></g></svg>"
      ]
     },
     "execution_count": 45,
     "metadata": {},
     "output_type": "execute_result"
    }
   ],
   "source": [
    "%viz --style=\"TB\" --view=\"Tree\" \"DependencyTest\""
   ]
  },
  {
   "cell_type": "code",
   "execution_count": 46,
   "id": "amateur-brake",
   "metadata": {
    "execution": {
     "iopub.execute_input": "2021-03-26T13:04:35.433540Z",
     "iopub.status.busy": "2021-03-26T13:04:35.433117Z",
     "iopub.status.idle": "2021-03-26T13:04:35.437973Z",
     "shell.execute_reply": "2021-03-26T13:04:35.437631Z"
    }
   },
   "outputs": [
    {
     "data": {
      "image/svg+xml": [
       "<?xml version=\"1.0\" encoding=\"UTF-8\" standalone=\"no\"?><svg xmlns=\"http://www.w3.org/2000/svg\" xmlns:xlink=\"http://www.w3.org/1999/xlink\" contentScriptType=\"application/ecmascript\" contentStyleType=\"text/css\" height=\"12px\" preserveAspectRatio=\"none\" style=\"width:12px;height:12px;\" version=\"1.1\" viewBox=\"0 0 12 12\" width=\"12px\" zoomAndPan=\"magnify\"><defs/><g><!--MD5=[f4ee21bc66e489b5061b7c3e9601fdef]\n",
       "@startuml\r\n",
       "top to bottom direction\r\n",
       "skinparam monochrome true\r\n",
       "skinparam classbackgroundcolor white\r\n",
       "skinparam shadowing false\r\n",
       "skinparam wrapWidth 300\r\n",
       "hide circle\r\n",
       "\r\n",
       "@enduml\r\n",
       "\n",
       "PlantUML version 1.2020.13(Sat Jun 13 12:26:38 UTC 2020)\n",
       "(EPL source distribution)\n",
       "Java Runtime: OpenJDK Runtime Environment\n",
       "JVM: OpenJDK 64-Bit Server VM\n",
       "Default Encoding: UTF-8\n",
       "Language: en\n",
       "Country: null\n",
       "--></g></svg>"
      ]
     },
     "execution_count": 46,
     "metadata": {},
     "output_type": "execute_result"
    }
   ],
   "source": [
    "%viz --style=\"TB\" --view=\"State\" \"DependencyTest\""
   ]
  },
  {
   "cell_type": "code",
   "execution_count": 47,
   "id": "previous-radiation",
   "metadata": {
    "execution": {
     "iopub.execute_input": "2021-03-26T13:04:35.490591Z",
     "iopub.status.busy": "2021-03-26T13:04:35.489839Z",
     "iopub.status.idle": "2021-03-26T13:04:35.521400Z",
     "shell.execute_reply": "2021-03-26T13:04:35.520014Z"
    }
   },
   "outputs": [
    {
     "data": {
      "image/svg+xml": [
       "<?xml version=\"1.0\" encoding=\"UTF-8\" standalone=\"no\"?><svg xmlns=\"http://www.w3.org/2000/svg\" xmlns:xlink=\"http://www.w3.org/1999/xlink\" contentScriptType=\"application/ecmascript\" contentStyleType=\"text/css\" height=\"361px\" preserveAspectRatio=\"none\" style=\"width:489px;height:361px;\" version=\"1.1\" viewBox=\"0 0 489 361\" width=\"489px\" zoomAndPan=\"magnify\"><defs/><g><!--MD5=[fbc87193dbaf4d95561dea2c320d4a47]\n",
       "cluster E1--><a href=\"psysml:c069fb4a-0cab-46ce-ae30-79221b6c6030\" target=\"_top\" title=\"psysml:c069fb4a-0cab-46ce-ae30-79221b6c6030\" xlink:actuate=\"onRequest\" xlink:href=\"psysml:c069fb4a-0cab-46ce-ae30-79221b6c6030\" xlink:show=\"new\" xlink:title=\"psysml:c069fb4a-0cab-46ce-ae30-79221b6c6030\" xlink:type=\"simple\"><polygon fill=\"#FFFFFF\" points=\"16,6,156,6,163,28.2969,467,28.2969,467,349,16,349,16,6\" style=\"stroke: #000000; stroke-width: 1.5;\"/><line style=\"stroke: #000000; stroke-width: 1.5;\" x1=\"16\" x2=\"163\" y1=\"28.2969\" y2=\"28.2969\"/><text fill=\"#000000\" font-family=\"sans-serif\" font-size=\"14\" font-weight=\"bold\" lengthAdjust=\"spacingAndGlyphs\" textLength=\"134\" x=\"20\" y=\"20.9951\">DependencyTest</text></a><!--MD5=[e4f7fae6ed58524ba242bb0b0d3be6b7]\n",
       "cluster E2--><a href=\"psysml:0036a7be-5206-4df9-ab28-301972427778\" target=\"_top\" title=\"psysml:0036a7be-5206-4df9-ab28-301972427778\" xlink:actuate=\"onRequest\" xlink:href=\"psysml:0036a7be-5206-4df9-ab28-301972427778\" xlink:show=\"new\" xlink:title=\"psysml:0036a7be-5206-4df9-ab28-301972427778\" xlink:type=\"simple\"><polygon fill=\"#FFFFFF\" points=\"255,49,319,49,326,71.2969,443,71.2969,443,325,255,325,255,49\" style=\"stroke: #000000; stroke-width: 1.5;\"/><line style=\"stroke: #000000; stroke-width: 1.5;\" x1=\"255\" x2=\"326\" y1=\"71.2969\" y2=\"71.2969\"/><text fill=\"#000000\" font-family=\"sans-serif\" font-size=\"14\" font-weight=\"bold\" lengthAdjust=\"spacingAndGlyphs\" textLength=\"58\" x=\"259\" y=\"63.9951\">System</text></a><a href=\"psysml:b9058297-d753-442e-8571-9bee33c166c8\" target=\"_top\" title=\"psysml:b9058297-d753-442e-8571-9bee33c166c8\" xlink:actuate=\"onRequest\" xlink:href=\"psysml:b9058297-d753-442e-8571-9bee33c166c8\" xlink:show=\"new\" xlink:title=\"psysml:b9058297-d753-442e-8571-9bee33c166c8\" xlink:type=\"simple\"><polygon fill=\"#FFFFFF\" points=\"271,84,413,84,420,106.2969,427,106.2969,427,136.5938,271,136.5938,271,84\" style=\"stroke: #000000; stroke-width: 1.5;\"/><line style=\"stroke: #000000; stroke-width: 1.5;\" x1=\"271\" x2=\"420\" y1=\"106.2969\" y2=\"106.2969\"/><text fill=\"#000000\" font-family=\"sans-serif\" font-size=\"14\" font-weight=\"bold\" lengthAdjust=\"spacingAndGlyphs\" textLength=\"136\" x=\"275\" y=\"98.9951\">Application Layer</text></a><a href=\"psysml:f007974c-308f-4828-8f2c-f39213f4e302\" target=\"_top\" title=\"psysml:f007974c-308f-4828-8f2c-f39213f4e302\" xlink:actuate=\"onRequest\" xlink:href=\"psysml:f007974c-308f-4828-8f2c-f39213f4e302\" xlink:show=\"new\" xlink:title=\"psysml:f007974c-308f-4828-8f2c-f39213f4e302\" xlink:type=\"simple\"><polygon fill=\"#FFFFFF\" points=\"285,170,399,170,406,192.2969,413,192.2969,413,222.5938,285,222.5938,285,170\" style=\"stroke: #000000; stroke-width: 1.5;\"/><line style=\"stroke: #000000; stroke-width: 1.5;\" x1=\"285\" x2=\"406\" y1=\"192.2969\" y2=\"192.2969\"/><text fill=\"#000000\" font-family=\"sans-serif\" font-size=\"14\" font-weight=\"bold\" lengthAdjust=\"spacingAndGlyphs\" textLength=\"108\" x=\"289\" y=\"184.9951\">Service Layer</text></a><a href=\"psysml:7870e797-441e-4743-978b-6b23dab0b8d1\" target=\"_top\" title=\"psysml:7870e797-441e-4743-978b-6b23dab0b8d1\" xlink:actuate=\"onRequest\" xlink:href=\"psysml:7870e797-441e-4743-978b-6b23dab0b8d1\" xlink:show=\"new\" xlink:title=\"psysml:7870e797-441e-4743-978b-6b23dab0b8d1\" xlink:type=\"simple\"><polygon fill=\"#FFFFFF\" points=\"297,256,387,256,394,278.2969,401,278.2969,401,308.5938,297,308.5938,297,256\" style=\"stroke: #000000; stroke-width: 1.5;\"/><line style=\"stroke: #000000; stroke-width: 1.5;\" x1=\"297\" x2=\"394\" y1=\"278.2969\" y2=\"278.2969\"/><text fill=\"#000000\" font-family=\"sans-serif\" font-size=\"14\" font-weight=\"bold\" lengthAdjust=\"spacingAndGlyphs\" textLength=\"84\" x=\"301\" y=\"270.9951\">Data Layer</text></a><g id=\"E1.E6\"><a href=\"psysml:ca3c2c7b-3718-4538-a84c-29984e19a6f6\" target=\"_top\" title=\"psysml:ca3c2c7b-3718-4538-a84c-29984e19a6f6\" xlink:actuate=\"onRequest\" xlink:href=\"psysml:ca3c2c7b-3718-4538-a84c-29984e19a6f6\" xlink:show=\"new\" xlink:title=\"psysml:ca3c2c7b-3718-4538-a84c-29984e19a6f6\" xlink:type=\"simple\"><rect fill=\"#FFFFFF\" height=\"42.9375\" id=\"E6\" rx=\"10\" ry=\"10\" style=\"stroke: #383838; stroke-width: 1.5;\" width=\"76\" x=\"32\" y=\"175\"/><rect fill=\"#F8F8F8\" height=\"37.9375\" rx=\"10\" ry=\"10\" style=\"stroke: #F8F8F8; stroke-width: 1.5;\" width=\"76\" x=\"32\" y=\"175\"/><rect fill=\"#F8F8F8\" height=\"10\" style=\"stroke: #F8F8F8; stroke-width: 1.5;\" width=\"76\" x=\"32\" y=\"202.9375\"/><rect fill=\"none\" height=\"42.9375\" id=\"E6\" rx=\"10\" ry=\"10\" style=\"stroke: #383838; stroke-width: 1.5;\" width=\"76\" x=\"32\" y=\"175\"/><text fill=\"#000000\" font-family=\"sans-serif\" font-size=\"12\" font-style=\"italic\" lengthAdjust=\"spacingAndGlyphs\" textLength=\"69\" x=\"35.5\" y=\"191.1387\">«attribute»</text><text fill=\"#000000\" font-family=\"sans-serif\" font-size=\"12\" lengthAdjust=\"spacingAndGlyphs\" textLength=\"6\" x=\"67\" y=\"205.1074\">x</text></a></g><g id=\"E1.E7\"><a href=\"psysml:f187cc38-895f-43c9-b55f-372a79474975\" target=\"_top\" title=\"psysml:f187cc38-895f-43c9-b55f-372a79474975\" xlink:actuate=\"onRequest\" xlink:href=\"psysml:f187cc38-895f-43c9-b55f-372a79474975\" xlink:show=\"new\" xlink:title=\"psysml:f187cc38-895f-43c9-b55f-372a79474975\" xlink:type=\"simple\"><rect fill=\"#FFFFFF\" height=\"42.9375\" id=\"E7\" rx=\"10\" ry=\"10\" style=\"stroke: #383838; stroke-width: 1.5;\" width=\"76\" x=\"143\" y=\"175\"/><rect fill=\"#F8F8F8\" height=\"37.9375\" rx=\"10\" ry=\"10\" style=\"stroke: #F8F8F8; stroke-width: 1.5;\" width=\"76\" x=\"143\" y=\"175\"/><rect fill=\"#F8F8F8\" height=\"10\" style=\"stroke: #F8F8F8; stroke-width: 1.5;\" width=\"76\" x=\"143\" y=\"202.9375\"/><rect fill=\"none\" height=\"42.9375\" id=\"E7\" rx=\"10\" ry=\"10\" style=\"stroke: #383838; stroke-width: 1.5;\" width=\"76\" x=\"143\" y=\"175\"/><text fill=\"#000000\" font-family=\"sans-serif\" font-size=\"12\" font-style=\"italic\" lengthAdjust=\"spacingAndGlyphs\" textLength=\"69\" x=\"146.5\" y=\"191.1387\">«attribute»</text><text fill=\"#000000\" font-family=\"sans-serif\" font-size=\"12\" lengthAdjust=\"spacingAndGlyphs\" textLength=\"6\" x=\"178\" y=\"205.1074\">y</text></a></g><g id=\"E1.E8\"><a href=\"psysml:c8a5167c-621d-4bfa-8ffa-e3ed6a854bed\" target=\"_top\" title=\"psysml:c8a5167c-621d-4bfa-8ffa-e3ed6a854bed\" xlink:actuate=\"onRequest\" xlink:href=\"psysml:c8a5167c-621d-4bfa-8ffa-e3ed6a854bed\" xlink:show=\"new\" xlink:title=\"psysml:c8a5167c-621d-4bfa-8ffa-e3ed6a854bed\" xlink:type=\"simple\"><rect fill=\"#FFFFFF\" height=\"42.9375\" id=\"E8\" rx=\"10\" ry=\"10\" style=\"stroke: #383838; stroke-width: 1.5;\" width=\"76\" x=\"83\" y=\"89\"/><rect fill=\"#F8F8F8\" height=\"37.9375\" rx=\"10\" ry=\"10\" style=\"stroke: #F8F8F8; stroke-width: 1.5;\" width=\"76\" x=\"83\" y=\"89\"/><rect fill=\"#F8F8F8\" height=\"10\" style=\"stroke: #F8F8F8; stroke-width: 1.5;\" width=\"76\" x=\"83\" y=\"116.9375\"/><rect fill=\"none\" height=\"42.9375\" id=\"E8\" rx=\"10\" ry=\"10\" style=\"stroke: #383838; stroke-width: 1.5;\" width=\"76\" x=\"83\" y=\"89\"/><text fill=\"#000000\" font-family=\"sans-serif\" font-size=\"12\" font-style=\"italic\" lengthAdjust=\"spacingAndGlyphs\" textLength=\"69\" x=\"86.5\" y=\"105.1387\">«attribute»</text><text fill=\"#000000\" font-family=\"sans-serif\" font-size=\"12\" lengthAdjust=\"spacingAndGlyphs\" textLength=\"5\" x=\"118.5\" y=\"119.1074\">z</text></a></g><!--MD5=[af87c684e3b0d8be13c1a698a818ef1e]\n",
       "link E3 to E4--><a href=\"psysml:af0245ca-a479-404d-840a-c478ec8f55f1\" target=\"_top\" title=\"psysml:af0245ca-a479-404d-840a-c478ec8f55f1\" xlink:actuate=\"onRequest\" xlink:href=\"psysml:af0245ca-a479-404d-840a-c478ec8f55f1\" xlink:show=\"new\" xlink:title=\"psysml:af0245ca-a479-404d-840a-c478ec8f55f1\" xlink:type=\"simple\"><path d=\"M349,137.16 C349,144.98 349,153.69 349,161.94 \" fill=\"none\" id=\"E3-&gt;E4\" style=\"stroke: #383838; stroke-width: 1.0; stroke-dasharray: 7.0,7.0;\"/><polygon fill=\"#383838\" points=\"349,170,352,162,346,162,349,170\" style=\"stroke: #383838; stroke-width: 1.0;\"/><text fill=\"#000000\" font-family=\"sans-serif\" font-size=\"13\" lengthAdjust=\"spacingAndGlyphs\" textLength=\"64\" x=\"350\" y=\"158.0669\">«depend»</text></a><!--MD5=[1b7591eae5389033d8d09a9d6721a717]\n",
       "link E4 to E5--><a href=\"psysml:aeab59fe-e3bd-4e23-96a4-136d0d468de6\" target=\"_top\" title=\"psysml:aeab59fe-e3bd-4e23-96a4-136d0d468de6\" xlink:actuate=\"onRequest\" xlink:href=\"psysml:aeab59fe-e3bd-4e23-96a4-136d0d468de6\" xlink:show=\"new\" xlink:title=\"psysml:aeab59fe-e3bd-4e23-96a4-136d0d468de6\" xlink:type=\"simple\"><path d=\"M349,223.16 C349,230.98 349,239.69 349,247.94 \" fill=\"none\" id=\"E4-&gt;E5\" style=\"stroke: #383838; stroke-width: 1.0; stroke-dasharray: 7.0,7.0;\"/><polygon fill=\"#383838\" points=\"349,256,352,248,346,248,349,256\" style=\"stroke: #383838; stroke-width: 1.0;\"/><text fill=\"#000000\" font-family=\"sans-serif\" font-size=\"13\" lengthAdjust=\"spacingAndGlyphs\" textLength=\"64\" x=\"350\" y=\"244.0669\">«depend»</text></a><!--MD5=[c5e8897d989ce984f93528998a7150fe]\n",
       "link E8 to E6--><a href=\"psysml:e01a683f-5a6a-44b0-a0de-a423aeb5ad40\" target=\"_top\" title=\"psysml:e01a683f-5a6a-44b0-a0de-a423aeb5ad40\" xlink:actuate=\"onRequest\" xlink:href=\"psysml:e01a683f-5a6a-44b0-a0de-a423aeb5ad40\" xlink:show=\"new\" xlink:title=\"psysml:e01a683f-5a6a-44b0-a0de-a423aeb5ad40\" xlink:type=\"simple\"><path d=\"M82.81,126.48 C75.3,131.24 68.39,137.33 64,145 C60.26,151.53 59.68,159.3 60.56,166.77 \" fill=\"none\" id=\"E8-&gt;E6\" style=\"stroke: #383838; stroke-width: 1.0; stroke-dasharray: 7.0,7.0;\"/><polygon fill=\"#383838\" points=\"62.02,174.69,63.5257,166.2797,57.6244,167.3634,62.02,174.69\" style=\"stroke: #383838; stroke-width: 1.0;\"/><text fill=\"#000000\" font-family=\"sans-serif\" font-size=\"13\" lengthAdjust=\"spacingAndGlyphs\" textLength=\"64\" x=\"65\" y=\"158.0669\">«depend»</text></a><!--MD5=[bfa3c8b0d15052fdf50ae9310b491027]\n",
       "link E8 to E7--><a href=\"psysml:e01a683f-5a6a-44b0-a0de-a423aeb5ad40\" target=\"_top\" title=\"psysml:e01a683f-5a6a-44b0-a0de-a423aeb5ad40\" xlink:actuate=\"onRequest\" xlink:href=\"psysml:e01a683f-5a6a-44b0-a0de-a423aeb5ad40\" xlink:show=\"new\" xlink:title=\"psysml:e01a683f-5a6a-44b0-a0de-a423aeb5ad40\" xlink:type=\"simple\"><path d=\"M135.83,132.26 C143.61,143.15 153.22,156.61 161.59,168.32 \" fill=\"none\" id=\"E8-&gt;E7\" style=\"stroke: #383838; stroke-width: 1.0; stroke-dasharray: 7.0,7.0;\"/><polygon fill=\"#383838\" points=\"166.34,174.97,164.1399,166.7141,159.2538,170.1965,166.34,174.97\" style=\"stroke: #383838; stroke-width: 1.0;\"/><text fill=\"#000000\" font-family=\"sans-serif\" font-size=\"13\" lengthAdjust=\"spacingAndGlyphs\" textLength=\"64\" x=\"157\" y=\"158.0669\">«depend»</text></a><!--MD5=[30d1bd5baf773aff05b53ec6ce787300]\n",
       "@startuml\r\n",
       "skinparam ranksep 8\r\n",
       "skinparam rectangle {\r\n",
       " backgroundColor<<block>> LightGreen\r\n",
       "}\r\n",
       "top to bottom direction\r\n",
       "skinparam monochrome true\r\n",
       "skinparam classbackgroundcolor white\r\n",
       "skinparam shadowing false\r\n",
       "skinparam wrapWidth 300\r\n",
       "hide circle\r\n",
       "\r\n",
       "package \"DependencyTest\" as E1  [[psysml:c069fb4a-0cab-46ce-ae30-79221b6c6030 ]]  {\r\n",
       "package \"System\" as E2  [[psysml:0036a7be-5206-4df9-ab28-301972427778 ]]  {\r\n",
       "package \"Application Layer\" as E3  [[psysml:b9058297-d753-442e-8571-9bee33c166c8 ]]  {\r\n",
       "}\r\n",
       "package \"Service Layer\" as E4  [[psysml:f007974c-308f-4828-8f2c-f39213f4e302 ]]  {\r\n",
       "}\r\n",
       "package \"Data Layer\" as E5  [[psysml:7870e797-441e-4743-978b-6b23dab0b8d1 ]]  {\r\n",
       "}\r\n",
       "}\r\n",
       "rec usage \"x\" as E6  <<(T,blue)attribute>> [[psysml:ca3c2c7b-3718-4538-a84c-29984e19a6f6 ]] {\r\n",
       "}\r\n",
       "rec usage \"y\" as E7  <<(T,blue)attribute>> [[psysml:f187cc38-895f-43c9-b55f-372a79474975 ]] {\r\n",
       "}\r\n",
       "rec usage \"z\" as E8  <<(T,blue)attribute>> [[psysml:c8a5167c-621d-4bfa-8ffa-e3ed6a854bed ]] {\r\n",
       "}\r\n",
       "E3 ..>> E4 [[psysml:af0245ca-a479-404d-840a-c478ec8f55f1 ]] : <<depend>>\r\n",
       "E4 ..>> E5 [[psysml:aeab59fe-e3bd-4e23-96a4-136d0d468de6 ]] : <<depend>>\r\n",
       "E8 ..>> E6 [[psysml:e01a683f-5a6a-44b0-a0de-a423aeb5ad40 ]] : <<depend>>\r\n",
       "E8 ..>> E7 [[psysml:e01a683f-5a6a-44b0-a0de-a423aeb5ad40 ]] : <<depend>>\r\n",
       "}\r\n",
       "@enduml\r\n",
       "\n",
       "PlantUML version 1.2020.13(Sat Jun 13 12:26:38 UTC 2020)\n",
       "(EPL source distribution)\n",
       "Java Runtime: OpenJDK Runtime Environment\n",
       "JVM: OpenJDK 64-Bit Server VM\n",
       "Default Encoding: UTF-8\n",
       "Language: en\n",
       "Country: null\n",
       "--></g></svg>"
      ]
     },
     "execution_count": 47,
     "metadata": {},
     "output_type": "execute_result"
    }
   ],
   "source": [
    "%viz --style=\"TB\" --view=\"Interconnection\" \"DependencyTest\""
   ]
  },
  {
   "cell_type": "code",
   "execution_count": 48,
   "id": "recent-senator",
   "metadata": {
    "execution": {
     "iopub.execute_input": "2021-03-26T13:04:35.572836Z",
     "iopub.status.busy": "2021-03-26T13:04:35.572120Z",
     "iopub.status.idle": "2021-03-26T13:04:35.578357Z",
     "shell.execute_reply": "2021-03-26T13:04:35.577935Z"
    }
   },
   "outputs": [
    {
     "data": {
      "image/svg+xml": [
       "<?xml version=\"1.0\" encoding=\"UTF-8\" standalone=\"no\"?><svg xmlns=\"http://www.w3.org/2000/svg\" xmlns:xlink=\"http://www.w3.org/1999/xlink\" contentScriptType=\"application/ecmascript\" contentStyleType=\"text/css\" height=\"12px\" preserveAspectRatio=\"none\" style=\"width:12px;height:12px;\" version=\"1.1\" viewBox=\"0 0 12 12\" width=\"12px\" zoomAndPan=\"magnify\"><defs/><g><!--MD5=[06afc254b03ac5e9d9fb7773b07d0800]\n",
       "@startuml\r\n",
       "skinparam ranksep 8\r\n",
       "top to bottom direction\r\n",
       "skinparam monochrome true\r\n",
       "skinparam classbackgroundcolor white\r\n",
       "skinparam shadowing false\r\n",
       "skinparam wrapWidth 300\r\n",
       "hide circle\r\n",
       "\r\n",
       "@enduml\r\n",
       "\n",
       "PlantUML version 1.2020.13(Sat Jun 13 12:26:38 UTC 2020)\n",
       "(EPL source distribution)\n",
       "Java Runtime: OpenJDK Runtime Environment\n",
       "JVM: OpenJDK 64-Bit Server VM\n",
       "Default Encoding: UTF-8\n",
       "Language: en\n",
       "Country: null\n",
       "--></g></svg>"
      ]
     },
     "execution_count": 48,
     "metadata": {},
     "output_type": "execute_result"
    }
   ],
   "source": [
    "%viz --style=\"TB\" --view=\"Action\" \"DependencyTest\""
   ]
  },
  {
   "cell_type": "code",
   "execution_count": 49,
   "id": "parental-minimum",
   "metadata": {
    "execution": {
     "iopub.execute_input": "2021-03-26T13:04:35.634392Z",
     "iopub.status.busy": "2021-03-26T13:04:35.633829Z",
     "iopub.status.idle": "2021-03-26T13:04:35.663416Z",
     "shell.execute_reply": "2021-03-26T13:04:35.661394Z"
    }
   },
   "outputs": [
    {
     "data": {
      "image/svg+xml": [
       "<?xml version=\"1.0\" encoding=\"UTF-8\" standalone=\"no\"?><svg xmlns=\"http://www.w3.org/2000/svg\" xmlns:xlink=\"http://www.w3.org/1999/xlink\" contentScriptType=\"application/ecmascript\" contentStyleType=\"text/css\" height=\"449px\" preserveAspectRatio=\"none\" style=\"width:489px;height:449px;\" version=\"1.1\" viewBox=\"0 0 489 449\" width=\"489px\" zoomAndPan=\"magnify\"><defs/><g><!--MD5=[fbc87193dbaf4d95561dea2c320d4a47]\n",
       "cluster E1--><a href=\"psysml:c069fb4a-0cab-46ce-ae30-79221b6c6030\" target=\"_top\" title=\"psysml:c069fb4a-0cab-46ce-ae30-79221b6c6030\" xlink:actuate=\"onRequest\" xlink:href=\"psysml:c069fb4a-0cab-46ce-ae30-79221b6c6030\" xlink:show=\"new\" xlink:title=\"psysml:c069fb4a-0cab-46ce-ae30-79221b6c6030\" xlink:type=\"simple\"><polygon fill=\"#FFFFFF\" points=\"16,6,156,6,163,28.2969,467,28.2969,467,437,16,437,16,6\" style=\"stroke: #000000; stroke-width: 1.5;\"/><line style=\"stroke: #000000; stroke-width: 1.5;\" x1=\"16\" x2=\"163\" y1=\"28.2969\" y2=\"28.2969\"/><text fill=\"#000000\" font-family=\"sans-serif\" font-size=\"14\" font-weight=\"bold\" lengthAdjust=\"spacingAndGlyphs\" textLength=\"134\" x=\"20\" y=\"20.9951\">DependencyTest</text></a><!--MD5=[e4f7fae6ed58524ba242bb0b0d3be6b7]\n",
       "cluster E2--><a href=\"psysml:0036a7be-5206-4df9-ab28-301972427778\" target=\"_top\" title=\"psysml:0036a7be-5206-4df9-ab28-301972427778\" xlink:actuate=\"onRequest\" xlink:href=\"psysml:0036a7be-5206-4df9-ab28-301972427778\" xlink:show=\"new\" xlink:title=\"psysml:0036a7be-5206-4df9-ab28-301972427778\" xlink:type=\"simple\"><polygon fill=\"#FFFFFF\" points=\"255,49,319,49,326,71.2969,443,71.2969,443,413,255,413,255,49\" style=\"stroke: #000000; stroke-width: 1.5;\"/><line style=\"stroke: #000000; stroke-width: 1.5;\" x1=\"255\" x2=\"326\" y1=\"71.2969\" y2=\"71.2969\"/><text fill=\"#000000\" font-family=\"sans-serif\" font-size=\"14\" font-weight=\"bold\" lengthAdjust=\"spacingAndGlyphs\" textLength=\"58\" x=\"259\" y=\"63.9951\">System</text></a><!--MD5=[60a26617385b1d2d0262a64233df1f8d]\n",
       "class E6--><a href=\"psysml:ca3c2c7b-3718-4538-a84c-29984e19a6f6\" target=\"_top\" title=\"psysml:ca3c2c7b-3718-4538-a84c-29984e19a6f6\" xlink:actuate=\"onRequest\" xlink:href=\"psysml:ca3c2c7b-3718-4538-a84c-29984e19a6f6\" xlink:show=\"new\" xlink:title=\"psysml:ca3c2c7b-3718-4538-a84c-29984e19a6f6\" xlink:type=\"simple\"><rect fill=\"#FFFFFF\" height=\"45.9375\" id=\"E6\" rx=\"10\" ry=\"10\" style=\"stroke: #383838; stroke-width: 1.5;\" width=\"71\" x=\"32.5\" y=\"217.5\"/><text fill=\"#000000\" font-family=\"sans-serif\" font-size=\"12\" font-style=\"italic\" lengthAdjust=\"spacingAndGlyphs\" textLength=\"69\" x=\"33.5\" y=\"233.6387\">«attribute»</text><text fill=\"#000000\" font-family=\"sans-serif\" font-size=\"12\" lengthAdjust=\"spacingAndGlyphs\" textLength=\"6\" x=\"65\" y=\"247.6074\">x</text><line style=\"stroke: #383838; stroke-width: 1.5;\" x1=\"33.5\" x2=\"102.5\" y1=\"255.4375\" y2=\"255.4375\"/></a><!--MD5=[2156ba9850f5573cc1fc38a6a4b2f02b]\n",
       "class E7--><a href=\"psysml:f187cc38-895f-43c9-b55f-372a79474975\" target=\"_top\" title=\"psysml:f187cc38-895f-43c9-b55f-372a79474975\" xlink:actuate=\"onRequest\" xlink:href=\"psysml:f187cc38-895f-43c9-b55f-372a79474975\" xlink:show=\"new\" xlink:title=\"psysml:f187cc38-895f-43c9-b55f-372a79474975\" xlink:type=\"simple\"><rect fill=\"#FFFFFF\" height=\"45.9375\" id=\"E7\" rx=\"10\" ry=\"10\" style=\"stroke: #383838; stroke-width: 1.5;\" width=\"71\" x=\"138.5\" y=\"217.5\"/><text fill=\"#000000\" font-family=\"sans-serif\" font-size=\"12\" font-style=\"italic\" lengthAdjust=\"spacingAndGlyphs\" textLength=\"69\" x=\"139.5\" y=\"233.6387\">«attribute»</text><text fill=\"#000000\" font-family=\"sans-serif\" font-size=\"12\" lengthAdjust=\"spacingAndGlyphs\" textLength=\"6\" x=\"171\" y=\"247.6074\">y</text><line style=\"stroke: #383838; stroke-width: 1.5;\" x1=\"139.5\" x2=\"208.5\" y1=\"255.4375\" y2=\"255.4375\"/></a><!--MD5=[b9389687b975829384b498ac4b7476b2]\n",
       "class E8--><a href=\"psysml:c8a5167c-621d-4bfa-8ffa-e3ed6a854bed\" target=\"_top\" title=\"psysml:c8a5167c-621d-4bfa-8ffa-e3ed6a854bed\" xlink:actuate=\"onRequest\" xlink:href=\"psysml:c8a5167c-621d-4bfa-8ffa-e3ed6a854bed\" xlink:show=\"new\" xlink:title=\"psysml:c8a5167c-621d-4bfa-8ffa-e3ed6a854bed\" xlink:type=\"simple\"><rect fill=\"#FFFFFF\" height=\"45.9375\" id=\"E8\" rx=\"10\" ry=\"10\" style=\"stroke: #383838; stroke-width: 1.5;\" width=\"71\" x=\"84.5\" y=\"87.5\"/><text fill=\"#000000\" font-family=\"sans-serif\" font-size=\"12\" font-style=\"italic\" lengthAdjust=\"spacingAndGlyphs\" textLength=\"69\" x=\"85.5\" y=\"103.6387\">«attribute»</text><text fill=\"#000000\" font-family=\"sans-serif\" font-size=\"12\" lengthAdjust=\"spacingAndGlyphs\" textLength=\"5\" x=\"117.5\" y=\"117.6074\">z</text><line style=\"stroke: #383838; stroke-width: 1.5;\" x1=\"85.5\" x2=\"154.5\" y1=\"125.4375\" y2=\"125.4375\"/></a><a href=\"psysml:b9058297-d753-442e-8571-9bee33c166c8\" target=\"_top\" title=\"psysml:b9058297-d753-442e-8571-9bee33c166c8\" xlink:actuate=\"onRequest\" xlink:href=\"psysml:b9058297-d753-442e-8571-9bee33c166c8\" xlink:show=\"new\" xlink:title=\"psysml:b9058297-d753-442e-8571-9bee33c166c8\" xlink:type=\"simple\"><polygon fill=\"#FFFFFF\" points=\"271,84,413,84,420,106.2969,427,106.2969,427,136.5938,271,136.5938,271,84\" style=\"stroke: #000000; stroke-width: 1.5;\"/><line style=\"stroke: #000000; stroke-width: 1.5;\" x1=\"271\" x2=\"420\" y1=\"106.2969\" y2=\"106.2969\"/><text fill=\"#000000\" font-family=\"sans-serif\" font-size=\"14\" font-weight=\"bold\" lengthAdjust=\"spacingAndGlyphs\" textLength=\"136\" x=\"275\" y=\"98.9951\">Application Layer</text></a><a href=\"psysml:f007974c-308f-4828-8f2c-f39213f4e302\" target=\"_top\" title=\"psysml:f007974c-308f-4828-8f2c-f39213f4e302\" xlink:actuate=\"onRequest\" xlink:href=\"psysml:f007974c-308f-4828-8f2c-f39213f4e302\" xlink:show=\"new\" xlink:title=\"psysml:f007974c-308f-4828-8f2c-f39213f4e302\" xlink:type=\"simple\"><polygon fill=\"#FFFFFF\" points=\"285,214,399,214,406,236.2969,413,236.2969,413,266.5938,285,266.5938,285,214\" style=\"stroke: #000000; stroke-width: 1.5;\"/><line style=\"stroke: #000000; stroke-width: 1.5;\" x1=\"285\" x2=\"406\" y1=\"236.2969\" y2=\"236.2969\"/><text fill=\"#000000\" font-family=\"sans-serif\" font-size=\"14\" font-weight=\"bold\" lengthAdjust=\"spacingAndGlyphs\" textLength=\"108\" x=\"289\" y=\"228.9951\">Service Layer</text></a><a href=\"psysml:7870e797-441e-4743-978b-6b23dab0b8d1\" target=\"_top\" title=\"psysml:7870e797-441e-4743-978b-6b23dab0b8d1\" xlink:actuate=\"onRequest\" xlink:href=\"psysml:7870e797-441e-4743-978b-6b23dab0b8d1\" xlink:show=\"new\" xlink:title=\"psysml:7870e797-441e-4743-978b-6b23dab0b8d1\" xlink:type=\"simple\"><polygon fill=\"#FFFFFF\" points=\"297,344,387,344,394,366.2969,401,366.2969,401,396.5938,297,396.5938,297,344\" style=\"stroke: #000000; stroke-width: 1.5;\"/><line style=\"stroke: #000000; stroke-width: 1.5;\" x1=\"297\" x2=\"394\" y1=\"366.2969\" y2=\"366.2969\"/><text fill=\"#000000\" font-family=\"sans-serif\" font-size=\"14\" font-weight=\"bold\" lengthAdjust=\"spacingAndGlyphs\" textLength=\"84\" x=\"301\" y=\"358.9951\">Data Layer</text></a><!--MD5=[af87c684e3b0d8be13c1a698a818ef1e]\n",
       "link E3 to E4--><a href=\"psysml:af0245ca-a479-404d-840a-c478ec8f55f1\" target=\"_top\" title=\"psysml:af0245ca-a479-404d-840a-c478ec8f55f1\" xlink:actuate=\"onRequest\" xlink:href=\"psysml:af0245ca-a479-404d-840a-c478ec8f55f1\" xlink:show=\"new\" xlink:title=\"psysml:af0245ca-a479-404d-840a-c478ec8f55f1\" xlink:type=\"simple\"><path d=\"M349,137.1 C349,156.8 349,184.22 349,205.73 \" fill=\"none\" id=\"E3-&gt;E4\" style=\"stroke: #383838; stroke-width: 1.0; stroke-dasharray: 7.0,7.0;\"/><polygon fill=\"#383838\" points=\"349,213.95,352,205.95,346,205.95,349,213.95\" style=\"stroke: #383838; stroke-width: 1.0;\"/><text fill=\"#000000\" font-family=\"sans-serif\" font-size=\"13\" lengthAdjust=\"spacingAndGlyphs\" textLength=\"64\" x=\"350\" y=\"180.0669\">«depend»</text></a><!--MD5=[1b7591eae5389033d8d09a9d6721a717]\n",
       "link E4 to E5--><a href=\"psysml:aeab59fe-e3bd-4e23-96a4-136d0d468de6\" target=\"_top\" title=\"psysml:aeab59fe-e3bd-4e23-96a4-136d0d468de6\" xlink:actuate=\"onRequest\" xlink:href=\"psysml:aeab59fe-e3bd-4e23-96a4-136d0d468de6\" xlink:show=\"new\" xlink:title=\"psysml:aeab59fe-e3bd-4e23-96a4-136d0d468de6\" xlink:type=\"simple\"><path d=\"M349,267.1 C349,286.8 349,314.22 349,335.73 \" fill=\"none\" id=\"E4-&gt;E5\" style=\"stroke: #383838; stroke-width: 1.0; stroke-dasharray: 7.0,7.0;\"/><polygon fill=\"#383838\" points=\"349,343.95,352,335.95,346,335.95,349,343.95\" style=\"stroke: #383838; stroke-width: 1.0;\"/><text fill=\"#000000\" font-family=\"sans-serif\" font-size=\"13\" lengthAdjust=\"spacingAndGlyphs\" textLength=\"64\" x=\"350\" y=\"310.0669\">«depend»</text></a><!--MD5=[c5e8897d989ce984f93528998a7150fe]\n",
       "link E8 to E6--><a href=\"psysml:e01a683f-5a6a-44b0-a0de-a423aeb5ad40\" target=\"_top\" title=\"psysml:e01a683f-5a6a-44b0-a0de-a423aeb5ad40\" xlink:actuate=\"onRequest\" xlink:href=\"psysml:e01a683f-5a6a-44b0-a0de-a423aeb5ad40\" xlink:show=\"new\" xlink:title=\"psysml:e01a683f-5a6a-44b0-a0de-a423aeb5ad40\" xlink:type=\"simple\"><path d=\"M89.42,133.6 C79.35,142.68 69.37,154.11 64,167 C58.5,180.2 58.66,195.94 60.54,209.38 \" fill=\"none\" id=\"E8-&gt;E6\" style=\"stroke: #383838; stroke-width: 1.0; stroke-dasharray: 7.0,7.0;\"/><polygon fill=\"#383838\" points=\"61.9,217.4,63.517,209.0104,57.6018,210.0159,61.9,217.4\" style=\"stroke: #383838; stroke-width: 1.0;\"/><text fill=\"#000000\" font-family=\"sans-serif\" font-size=\"13\" lengthAdjust=\"spacingAndGlyphs\" textLength=\"64\" x=\"65\" y=\"180.0669\">«depend»</text></a><!--MD5=[bfa3c8b0d15052fdf50ae9310b491027]\n",
       "link E8 to E7--><a href=\"psysml:e01a683f-5a6a-44b0-a0de-a423aeb5ad40\" target=\"_top\" title=\"psysml:e01a683f-5a6a-44b0-a0de-a423aeb5ad40\" xlink:actuate=\"onRequest\" xlink:href=\"psysml:e01a683f-5a6a-44b0-a0de-a423aeb5ad40\" xlink:show=\"new\" xlink:title=\"psysml:e01a683f-5a6a-44b0-a0de-a423aeb5ad40\" xlink:type=\"simple\"><path d=\"M129.28,133.5 C138.17,154.57 151.64,186.5 161.47,209.81 \" fill=\"none\" id=\"E8-&gt;E7\" style=\"stroke: #383838; stroke-width: 1.0; stroke-dasharray: 7.0,7.0;\"/><polygon fill=\"#383838\" points=\"164.66,217.35,164.3241,208.8126,158.7933,211.1385,164.66,217.35\" style=\"stroke: #383838; stroke-width: 1.0;\"/><text fill=\"#000000\" font-family=\"sans-serif\" font-size=\"13\" lengthAdjust=\"spacingAndGlyphs\" textLength=\"64\" x=\"151\" y=\"180.0669\">«depend»</text></a><!--MD5=[a8333b001e9a7a79f5d8fd76c2118a69]\n",
       "@startuml\r\n",
       "top to bottom direction\r\n",
       "skinparam monochrome true\r\n",
       "skinparam classbackgroundcolor white\r\n",
       "skinparam shadowing false\r\n",
       "skinparam wrapWidth 300\r\n",
       "hide circle\r\n",
       "\r\n",
       "package \"DependencyTest\" as E1  [[psysml:c069fb4a-0cab-46ce-ae30-79221b6c6030 ]]  {\r\n",
       "package \"System\" as E2  [[psysml:0036a7be-5206-4df9-ab28-301972427778 ]]  {\r\n",
       "package \"Application Layer\" as E3  [[psysml:b9058297-d753-442e-8571-9bee33c166c8 ]]  {\r\n",
       "}\r\n",
       "package \"Service Layer\" as E4  [[psysml:f007974c-308f-4828-8f2c-f39213f4e302 ]]  {\r\n",
       "}\r\n",
       "package \"Data Layer\" as E5  [[psysml:7870e797-441e-4743-978b-6b23dab0b8d1 ]]  {\r\n",
       "}\r\n",
       "}\r\n",
       "comp usage \"x\" as E6  <<(T,blue)attribute>> [[psysml:ca3c2c7b-3718-4538-a84c-29984e19a6f6 ]] {\r\n",
       "}\r\n",
       "comp usage \"y\" as E7  <<(T,blue)attribute>> [[psysml:f187cc38-895f-43c9-b55f-372a79474975 ]] {\r\n",
       "}\r\n",
       "comp usage \"z\" as E8  <<(T,blue)attribute>> [[psysml:c8a5167c-621d-4bfa-8ffa-e3ed6a854bed ]] {\r\n",
       "}\r\n",
       "E3 ..>> E4 [[psysml:af0245ca-a479-404d-840a-c478ec8f55f1 ]] : <<depend>>\r\n",
       "E4 ..>> E5 [[psysml:aeab59fe-e3bd-4e23-96a4-136d0d468de6 ]] : <<depend>>\r\n",
       "E8 ..>> E6 [[psysml:e01a683f-5a6a-44b0-a0de-a423aeb5ad40 ]] : <<depend>>\r\n",
       "E8 ..>> E7 [[psysml:e01a683f-5a6a-44b0-a0de-a423aeb5ad40 ]] : <<depend>>\r\n",
       "}\r\n",
       "@enduml\r\n",
       "\n",
       "PlantUML version 1.2020.13(Sat Jun 13 12:26:38 UTC 2020)\n",
       "(EPL source distribution)\n",
       "Java Runtime: OpenJDK Runtime Environment\n",
       "JVM: OpenJDK 64-Bit Server VM\n",
       "Default Encoding: UTF-8\n",
       "Language: en\n",
       "Country: null\n",
       "--></g></svg>"
      ]
     },
     "execution_count": 49,
     "metadata": {},
     "output_type": "execute_result"
    }
   ],
   "source": [
    "%viz --style=\"TB\" --view=\"Sequence\" \"DependencyTest\""
   ]
  },
  {
   "cell_type": "code",
   "execution_count": 50,
   "id": "recognized-texas",
   "metadata": {
    "execution": {
     "iopub.execute_input": "2021-03-26T13:04:35.717385Z",
     "iopub.status.busy": "2021-03-26T13:04:35.716501Z",
     "iopub.status.idle": "2021-03-26T13:04:35.748760Z",
     "shell.execute_reply": "2021-03-26T13:04:35.747197Z"
    }
   },
   "outputs": [
    {
     "data": {
      "image/svg+xml": [
       "<?xml version=\"1.0\" encoding=\"UTF-8\" standalone=\"no\"?><svg xmlns=\"http://www.w3.org/2000/svg\" xmlns:xlink=\"http://www.w3.org/1999/xlink\" contentScriptType=\"application/ecmascript\" contentStyleType=\"text/css\" height=\"449px\" preserveAspectRatio=\"none\" style=\"width:489px;height:449px;\" version=\"1.1\" viewBox=\"0 0 489 449\" width=\"489px\" zoomAndPan=\"magnify\"><defs/><g><!--MD5=[fbc87193dbaf4d95561dea2c320d4a47]\n",
       "cluster E1--><a href=\"psysml:c069fb4a-0cab-46ce-ae30-79221b6c6030\" target=\"_top\" title=\"psysml:c069fb4a-0cab-46ce-ae30-79221b6c6030\" xlink:actuate=\"onRequest\" xlink:href=\"psysml:c069fb4a-0cab-46ce-ae30-79221b6c6030\" xlink:show=\"new\" xlink:title=\"psysml:c069fb4a-0cab-46ce-ae30-79221b6c6030\" xlink:type=\"simple\"><polygon fill=\"#FFFFFF\" points=\"16,6,156,6,163,28.2969,467,28.2969,467,437,16,437,16,6\" style=\"stroke: #000000; stroke-width: 1.5;\"/><line style=\"stroke: #000000; stroke-width: 1.5;\" x1=\"16\" x2=\"163\" y1=\"28.2969\" y2=\"28.2969\"/><text fill=\"#000000\" font-family=\"sans-serif\" font-size=\"14\" font-weight=\"bold\" lengthAdjust=\"spacingAndGlyphs\" textLength=\"134\" x=\"20\" y=\"20.9951\">DependencyTest</text></a><!--MD5=[e4f7fae6ed58524ba242bb0b0d3be6b7]\n",
       "cluster E2--><a href=\"psysml:0036a7be-5206-4df9-ab28-301972427778\" target=\"_top\" title=\"psysml:0036a7be-5206-4df9-ab28-301972427778\" xlink:actuate=\"onRequest\" xlink:href=\"psysml:0036a7be-5206-4df9-ab28-301972427778\" xlink:show=\"new\" xlink:title=\"psysml:0036a7be-5206-4df9-ab28-301972427778\" xlink:type=\"simple\"><polygon fill=\"#FFFFFF\" points=\"255,49,319,49,326,71.2969,443,71.2969,443,413,255,413,255,49\" style=\"stroke: #000000; stroke-width: 1.5;\"/><line style=\"stroke: #000000; stroke-width: 1.5;\" x1=\"255\" x2=\"326\" y1=\"71.2969\" y2=\"71.2969\"/><text fill=\"#000000\" font-family=\"sans-serif\" font-size=\"14\" font-weight=\"bold\" lengthAdjust=\"spacingAndGlyphs\" textLength=\"58\" x=\"259\" y=\"63.9951\">System</text></a><!--MD5=[60a26617385b1d2d0262a64233df1f8d]\n",
       "class E6--><a href=\"psysml:ca3c2c7b-3718-4538-a84c-29984e19a6f6\" target=\"_top\" title=\"psysml:ca3c2c7b-3718-4538-a84c-29984e19a6f6\" xlink:actuate=\"onRequest\" xlink:href=\"psysml:ca3c2c7b-3718-4538-a84c-29984e19a6f6\" xlink:show=\"new\" xlink:title=\"psysml:ca3c2c7b-3718-4538-a84c-29984e19a6f6\" xlink:type=\"simple\"><rect fill=\"#FFFFFF\" height=\"45.9375\" id=\"E6\" rx=\"10\" ry=\"10\" style=\"stroke: #383838; stroke-width: 1.5;\" width=\"71\" x=\"32.5\" y=\"217.5\"/><text fill=\"#000000\" font-family=\"sans-serif\" font-size=\"12\" font-style=\"italic\" lengthAdjust=\"spacingAndGlyphs\" textLength=\"69\" x=\"33.5\" y=\"233.6387\">«attribute»</text><text fill=\"#000000\" font-family=\"sans-serif\" font-size=\"12\" lengthAdjust=\"spacingAndGlyphs\" textLength=\"6\" x=\"65\" y=\"247.6074\">x</text><line style=\"stroke: #383838; stroke-width: 1.5;\" x1=\"33.5\" x2=\"102.5\" y1=\"255.4375\" y2=\"255.4375\"/></a><!--MD5=[2156ba9850f5573cc1fc38a6a4b2f02b]\n",
       "class E7--><a href=\"psysml:f187cc38-895f-43c9-b55f-372a79474975\" target=\"_top\" title=\"psysml:f187cc38-895f-43c9-b55f-372a79474975\" xlink:actuate=\"onRequest\" xlink:href=\"psysml:f187cc38-895f-43c9-b55f-372a79474975\" xlink:show=\"new\" xlink:title=\"psysml:f187cc38-895f-43c9-b55f-372a79474975\" xlink:type=\"simple\"><rect fill=\"#FFFFFF\" height=\"45.9375\" id=\"E7\" rx=\"10\" ry=\"10\" style=\"stroke: #383838; stroke-width: 1.5;\" width=\"71\" x=\"138.5\" y=\"217.5\"/><text fill=\"#000000\" font-family=\"sans-serif\" font-size=\"12\" font-style=\"italic\" lengthAdjust=\"spacingAndGlyphs\" textLength=\"69\" x=\"139.5\" y=\"233.6387\">«attribute»</text><text fill=\"#000000\" font-family=\"sans-serif\" font-size=\"12\" lengthAdjust=\"spacingAndGlyphs\" textLength=\"6\" x=\"171\" y=\"247.6074\">y</text><line style=\"stroke: #383838; stroke-width: 1.5;\" x1=\"139.5\" x2=\"208.5\" y1=\"255.4375\" y2=\"255.4375\"/></a><!--MD5=[b9389687b975829384b498ac4b7476b2]\n",
       "class E8--><a href=\"psysml:c8a5167c-621d-4bfa-8ffa-e3ed6a854bed\" target=\"_top\" title=\"psysml:c8a5167c-621d-4bfa-8ffa-e3ed6a854bed\" xlink:actuate=\"onRequest\" xlink:href=\"psysml:c8a5167c-621d-4bfa-8ffa-e3ed6a854bed\" xlink:show=\"new\" xlink:title=\"psysml:c8a5167c-621d-4bfa-8ffa-e3ed6a854bed\" xlink:type=\"simple\"><rect fill=\"#FFFFFF\" height=\"45.9375\" id=\"E8\" rx=\"10\" ry=\"10\" style=\"stroke: #383838; stroke-width: 1.5;\" width=\"71\" x=\"84.5\" y=\"87.5\"/><text fill=\"#000000\" font-family=\"sans-serif\" font-size=\"12\" font-style=\"italic\" lengthAdjust=\"spacingAndGlyphs\" textLength=\"69\" x=\"85.5\" y=\"103.6387\">«attribute»</text><text fill=\"#000000\" font-family=\"sans-serif\" font-size=\"12\" lengthAdjust=\"spacingAndGlyphs\" textLength=\"5\" x=\"117.5\" y=\"117.6074\">z</text><line style=\"stroke: #383838; stroke-width: 1.5;\" x1=\"85.5\" x2=\"154.5\" y1=\"125.4375\" y2=\"125.4375\"/></a><a href=\"psysml:b9058297-d753-442e-8571-9bee33c166c8\" target=\"_top\" title=\"psysml:b9058297-d753-442e-8571-9bee33c166c8\" xlink:actuate=\"onRequest\" xlink:href=\"psysml:b9058297-d753-442e-8571-9bee33c166c8\" xlink:show=\"new\" xlink:title=\"psysml:b9058297-d753-442e-8571-9bee33c166c8\" xlink:type=\"simple\"><polygon fill=\"#FFFFFF\" points=\"271,84,413,84,420,106.2969,427,106.2969,427,136.5938,271,136.5938,271,84\" style=\"stroke: #000000; stroke-width: 1.5;\"/><line style=\"stroke: #000000; stroke-width: 1.5;\" x1=\"271\" x2=\"420\" y1=\"106.2969\" y2=\"106.2969\"/><text fill=\"#000000\" font-family=\"sans-serif\" font-size=\"14\" font-weight=\"bold\" lengthAdjust=\"spacingAndGlyphs\" textLength=\"136\" x=\"275\" y=\"98.9951\">Application Layer</text></a><a href=\"psysml:f007974c-308f-4828-8f2c-f39213f4e302\" target=\"_top\" title=\"psysml:f007974c-308f-4828-8f2c-f39213f4e302\" xlink:actuate=\"onRequest\" xlink:href=\"psysml:f007974c-308f-4828-8f2c-f39213f4e302\" xlink:show=\"new\" xlink:title=\"psysml:f007974c-308f-4828-8f2c-f39213f4e302\" xlink:type=\"simple\"><polygon fill=\"#FFFFFF\" points=\"285,214,399,214,406,236.2969,413,236.2969,413,266.5938,285,266.5938,285,214\" style=\"stroke: #000000; stroke-width: 1.5;\"/><line style=\"stroke: #000000; stroke-width: 1.5;\" x1=\"285\" x2=\"406\" y1=\"236.2969\" y2=\"236.2969\"/><text fill=\"#000000\" font-family=\"sans-serif\" font-size=\"14\" font-weight=\"bold\" lengthAdjust=\"spacingAndGlyphs\" textLength=\"108\" x=\"289\" y=\"228.9951\">Service Layer</text></a><a href=\"psysml:7870e797-441e-4743-978b-6b23dab0b8d1\" target=\"_top\" title=\"psysml:7870e797-441e-4743-978b-6b23dab0b8d1\" xlink:actuate=\"onRequest\" xlink:href=\"psysml:7870e797-441e-4743-978b-6b23dab0b8d1\" xlink:show=\"new\" xlink:title=\"psysml:7870e797-441e-4743-978b-6b23dab0b8d1\" xlink:type=\"simple\"><polygon fill=\"#FFFFFF\" points=\"297,344,387,344,394,366.2969,401,366.2969,401,396.5938,297,396.5938,297,344\" style=\"stroke: #000000; stroke-width: 1.5;\"/><line style=\"stroke: #000000; stroke-width: 1.5;\" x1=\"297\" x2=\"394\" y1=\"366.2969\" y2=\"366.2969\"/><text fill=\"#000000\" font-family=\"sans-serif\" font-size=\"14\" font-weight=\"bold\" lengthAdjust=\"spacingAndGlyphs\" textLength=\"84\" x=\"301\" y=\"358.9951\">Data Layer</text></a><!--MD5=[af87c684e3b0d8be13c1a698a818ef1e]\n",
       "link E3 to E4--><a href=\"psysml:af0245ca-a479-404d-840a-c478ec8f55f1\" target=\"_top\" title=\"psysml:af0245ca-a479-404d-840a-c478ec8f55f1\" xlink:actuate=\"onRequest\" xlink:href=\"psysml:af0245ca-a479-404d-840a-c478ec8f55f1\" xlink:show=\"new\" xlink:title=\"psysml:af0245ca-a479-404d-840a-c478ec8f55f1\" xlink:type=\"simple\"><path d=\"M349,137.1 C349,156.8 349,184.22 349,205.73 \" fill=\"none\" id=\"E3-&gt;E4\" style=\"stroke: #383838; stroke-width: 1.0; stroke-dasharray: 7.0,7.0;\"/><polygon fill=\"#383838\" points=\"349,213.95,352,205.95,346,205.95,349,213.95\" style=\"stroke: #383838; stroke-width: 1.0;\"/><text fill=\"#000000\" font-family=\"sans-serif\" font-size=\"13\" lengthAdjust=\"spacingAndGlyphs\" textLength=\"64\" x=\"350\" y=\"180.0669\">«depend»</text></a><!--MD5=[1b7591eae5389033d8d09a9d6721a717]\n",
       "link E4 to E5--><a href=\"psysml:aeab59fe-e3bd-4e23-96a4-136d0d468de6\" target=\"_top\" title=\"psysml:aeab59fe-e3bd-4e23-96a4-136d0d468de6\" xlink:actuate=\"onRequest\" xlink:href=\"psysml:aeab59fe-e3bd-4e23-96a4-136d0d468de6\" xlink:show=\"new\" xlink:title=\"psysml:aeab59fe-e3bd-4e23-96a4-136d0d468de6\" xlink:type=\"simple\"><path d=\"M349,267.1 C349,286.8 349,314.22 349,335.73 \" fill=\"none\" id=\"E4-&gt;E5\" style=\"stroke: #383838; stroke-width: 1.0; stroke-dasharray: 7.0,7.0;\"/><polygon fill=\"#383838\" points=\"349,343.95,352,335.95,346,335.95,349,343.95\" style=\"stroke: #383838; stroke-width: 1.0;\"/><text fill=\"#000000\" font-family=\"sans-serif\" font-size=\"13\" lengthAdjust=\"spacingAndGlyphs\" textLength=\"64\" x=\"350\" y=\"310.0669\">«depend»</text></a><!--MD5=[c5e8897d989ce984f93528998a7150fe]\n",
       "link E8 to E6--><a href=\"psysml:e01a683f-5a6a-44b0-a0de-a423aeb5ad40\" target=\"_top\" title=\"psysml:e01a683f-5a6a-44b0-a0de-a423aeb5ad40\" xlink:actuate=\"onRequest\" xlink:href=\"psysml:e01a683f-5a6a-44b0-a0de-a423aeb5ad40\" xlink:show=\"new\" xlink:title=\"psysml:e01a683f-5a6a-44b0-a0de-a423aeb5ad40\" xlink:type=\"simple\"><path d=\"M89.42,133.6 C79.35,142.68 69.37,154.11 64,167 C58.5,180.2 58.66,195.94 60.54,209.38 \" fill=\"none\" id=\"E8-&gt;E6\" style=\"stroke: #383838; stroke-width: 1.0; stroke-dasharray: 7.0,7.0;\"/><polygon fill=\"#383838\" points=\"61.9,217.4,63.517,209.0104,57.6018,210.0159,61.9,217.4\" style=\"stroke: #383838; stroke-width: 1.0;\"/><text fill=\"#000000\" font-family=\"sans-serif\" font-size=\"13\" lengthAdjust=\"spacingAndGlyphs\" textLength=\"64\" x=\"65\" y=\"180.0669\">«depend»</text></a><!--MD5=[bfa3c8b0d15052fdf50ae9310b491027]\n",
       "link E8 to E7--><a href=\"psysml:e01a683f-5a6a-44b0-a0de-a423aeb5ad40\" target=\"_top\" title=\"psysml:e01a683f-5a6a-44b0-a0de-a423aeb5ad40\" xlink:actuate=\"onRequest\" xlink:href=\"psysml:e01a683f-5a6a-44b0-a0de-a423aeb5ad40\" xlink:show=\"new\" xlink:title=\"psysml:e01a683f-5a6a-44b0-a0de-a423aeb5ad40\" xlink:type=\"simple\"><path d=\"M129.28,133.5 C138.17,154.57 151.64,186.5 161.47,209.81 \" fill=\"none\" id=\"E8-&gt;E7\" style=\"stroke: #383838; stroke-width: 1.0; stroke-dasharray: 7.0,7.0;\"/><polygon fill=\"#383838\" points=\"164.66,217.35,164.3241,208.8126,158.7933,211.1385,164.66,217.35\" style=\"stroke: #383838; stroke-width: 1.0;\"/><text fill=\"#000000\" font-family=\"sans-serif\" font-size=\"13\" lengthAdjust=\"spacingAndGlyphs\" textLength=\"64\" x=\"151\" y=\"180.0669\">«depend»</text></a><!--MD5=[a8333b001e9a7a79f5d8fd76c2118a69]\n",
       "@startuml\r\n",
       "top to bottom direction\r\n",
       "skinparam monochrome true\r\n",
       "skinparam classbackgroundcolor white\r\n",
       "skinparam shadowing false\r\n",
       "skinparam wrapWidth 300\r\n",
       "hide circle\r\n",
       "\r\n",
       "package \"DependencyTest\" as E1  [[psysml:c069fb4a-0cab-46ce-ae30-79221b6c6030 ]]  {\r\n",
       "package \"System\" as E2  [[psysml:0036a7be-5206-4df9-ab28-301972427778 ]]  {\r\n",
       "package \"Application Layer\" as E3  [[psysml:b9058297-d753-442e-8571-9bee33c166c8 ]]  {\r\n",
       "}\r\n",
       "package \"Service Layer\" as E4  [[psysml:f007974c-308f-4828-8f2c-f39213f4e302 ]]  {\r\n",
       "}\r\n",
       "package \"Data Layer\" as E5  [[psysml:7870e797-441e-4743-978b-6b23dab0b8d1 ]]  {\r\n",
       "}\r\n",
       "}\r\n",
       "comp usage \"x\" as E6  <<(T,blue)attribute>> [[psysml:ca3c2c7b-3718-4538-a84c-29984e19a6f6 ]] {\r\n",
       "}\r\n",
       "comp usage \"y\" as E7  <<(T,blue)attribute>> [[psysml:f187cc38-895f-43c9-b55f-372a79474975 ]] {\r\n",
       "}\r\n",
       "comp usage \"z\" as E8  <<(T,blue)attribute>> [[psysml:c8a5167c-621d-4bfa-8ffa-e3ed6a854bed ]] {\r\n",
       "}\r\n",
       "E3 ..>> E4 [[psysml:af0245ca-a479-404d-840a-c478ec8f55f1 ]] : <<depend>>\r\n",
       "E4 ..>> E5 [[psysml:aeab59fe-e3bd-4e23-96a4-136d0d468de6 ]] : <<depend>>\r\n",
       "E8 ..>> E6 [[psysml:e01a683f-5a6a-44b0-a0de-a423aeb5ad40 ]] : <<depend>>\r\n",
       "E8 ..>> E7 [[psysml:e01a683f-5a6a-44b0-a0de-a423aeb5ad40 ]] : <<depend>>\r\n",
       "}\r\n",
       "@enduml\r\n",
       "\n",
       "PlantUML version 1.2020.13(Sat Jun 13 12:26:38 UTC 2020)\n",
       "(EPL source distribution)\n",
       "Java Runtime: OpenJDK Runtime Environment\n",
       "JVM: OpenJDK 64-Bit Server VM\n",
       "Default Encoding: UTF-8\n",
       "Language: en\n",
       "Country: null\n",
       "--></g></svg>"
      ]
     },
     "execution_count": 50,
     "metadata": {},
     "output_type": "execute_result"
    }
   ],
   "source": [
    "%viz --style=\"TB\" --view=\"MIXED\" \"DependencyTest\""
   ]
  },
  {
   "cell_type": "code",
   "execution_count": 51,
   "id": "romantic-petroleum",
   "metadata": {
    "execution": {
     "iopub.execute_input": "2021-03-26T13:04:35.798664Z",
     "iopub.status.busy": "2021-03-26T13:04:35.798253Z",
     "iopub.status.idle": "2021-03-26T13:04:35.825748Z",
     "shell.execute_reply": "2021-03-26T13:04:35.824363Z"
    }
   },
   "outputs": [
    {
     "data": {
      "image/svg+xml": [
       "<?xml version=\"1.0\" encoding=\"UTF-8\" standalone=\"no\"?><svg xmlns=\"http://www.w3.org/2000/svg\" xmlns:xlink=\"http://www.w3.org/1999/xlink\" contentScriptType=\"application/ecmascript\" contentStyleType=\"text/css\" height=\"449px\" preserveAspectRatio=\"none\" style=\"width:489px;height:449px;\" version=\"1.1\" viewBox=\"0 0 489 449\" width=\"489px\" zoomAndPan=\"magnify\"><defs/><g><!--MD5=[fbc87193dbaf4d95561dea2c320d4a47]\n",
       "cluster E1--><a href=\"psysml:c069fb4a-0cab-46ce-ae30-79221b6c6030\" target=\"_top\" title=\"psysml:c069fb4a-0cab-46ce-ae30-79221b6c6030\" xlink:actuate=\"onRequest\" xlink:href=\"psysml:c069fb4a-0cab-46ce-ae30-79221b6c6030\" xlink:show=\"new\" xlink:title=\"psysml:c069fb4a-0cab-46ce-ae30-79221b6c6030\" xlink:type=\"simple\"><polygon fill=\"#FFFFFF\" points=\"16,6,156,6,163,28.2969,467,28.2969,467,437,16,437,16,6\" style=\"stroke: #000000; stroke-width: 1.5;\"/><line style=\"stroke: #000000; stroke-width: 1.5;\" x1=\"16\" x2=\"163\" y1=\"28.2969\" y2=\"28.2969\"/><text fill=\"#000000\" font-family=\"sans-serif\" font-size=\"14\" font-weight=\"bold\" lengthAdjust=\"spacingAndGlyphs\" textLength=\"134\" x=\"20\" y=\"20.9951\">DependencyTest</text></a><!--MD5=[e4f7fae6ed58524ba242bb0b0d3be6b7]\n",
       "cluster E2--><a href=\"psysml:0036a7be-5206-4df9-ab28-301972427778\" target=\"_top\" title=\"psysml:0036a7be-5206-4df9-ab28-301972427778\" xlink:actuate=\"onRequest\" xlink:href=\"psysml:0036a7be-5206-4df9-ab28-301972427778\" xlink:show=\"new\" xlink:title=\"psysml:0036a7be-5206-4df9-ab28-301972427778\" xlink:type=\"simple\"><polygon fill=\"#FFFFFF\" points=\"255,49,319,49,326,71.2969,443,71.2969,443,413,255,413,255,49\" style=\"stroke: #000000; stroke-width: 1.5;\"/><line style=\"stroke: #000000; stroke-width: 1.5;\" x1=\"255\" x2=\"326\" y1=\"71.2969\" y2=\"71.2969\"/><text fill=\"#000000\" font-family=\"sans-serif\" font-size=\"14\" font-weight=\"bold\" lengthAdjust=\"spacingAndGlyphs\" textLength=\"58\" x=\"259\" y=\"63.9951\">System</text></a><!--MD5=[60a26617385b1d2d0262a64233df1f8d]\n",
       "class E6--><a href=\"psysml:ca3c2c7b-3718-4538-a84c-29984e19a6f6\" target=\"_top\" title=\"psysml:ca3c2c7b-3718-4538-a84c-29984e19a6f6\" xlink:actuate=\"onRequest\" xlink:href=\"psysml:ca3c2c7b-3718-4538-a84c-29984e19a6f6\" xlink:show=\"new\" xlink:title=\"psysml:ca3c2c7b-3718-4538-a84c-29984e19a6f6\" xlink:type=\"simple\"><rect fill=\"#FFFFFF\" height=\"45.9375\" id=\"E6\" rx=\"10\" ry=\"10\" style=\"stroke: #383838; stroke-width: 1.5;\" width=\"71\" x=\"32.5\" y=\"217.5\"/><text fill=\"#000000\" font-family=\"sans-serif\" font-size=\"12\" font-style=\"italic\" lengthAdjust=\"spacingAndGlyphs\" textLength=\"69\" x=\"33.5\" y=\"233.6387\">«attribute»</text><text fill=\"#000000\" font-family=\"sans-serif\" font-size=\"12\" lengthAdjust=\"spacingAndGlyphs\" textLength=\"6\" x=\"65\" y=\"247.6074\">x</text><line style=\"stroke: #383838; stroke-width: 1.5;\" x1=\"33.5\" x2=\"102.5\" y1=\"255.4375\" y2=\"255.4375\"/></a><!--MD5=[2156ba9850f5573cc1fc38a6a4b2f02b]\n",
       "class E7--><a href=\"psysml:f187cc38-895f-43c9-b55f-372a79474975\" target=\"_top\" title=\"psysml:f187cc38-895f-43c9-b55f-372a79474975\" xlink:actuate=\"onRequest\" xlink:href=\"psysml:f187cc38-895f-43c9-b55f-372a79474975\" xlink:show=\"new\" xlink:title=\"psysml:f187cc38-895f-43c9-b55f-372a79474975\" xlink:type=\"simple\"><rect fill=\"#FFFFFF\" height=\"45.9375\" id=\"E7\" rx=\"10\" ry=\"10\" style=\"stroke: #383838; stroke-width: 1.5;\" width=\"71\" x=\"138.5\" y=\"217.5\"/><text fill=\"#000000\" font-family=\"sans-serif\" font-size=\"12\" font-style=\"italic\" lengthAdjust=\"spacingAndGlyphs\" textLength=\"69\" x=\"139.5\" y=\"233.6387\">«attribute»</text><text fill=\"#000000\" font-family=\"sans-serif\" font-size=\"12\" lengthAdjust=\"spacingAndGlyphs\" textLength=\"6\" x=\"171\" y=\"247.6074\">y</text><line style=\"stroke: #383838; stroke-width: 1.5;\" x1=\"139.5\" x2=\"208.5\" y1=\"255.4375\" y2=\"255.4375\"/></a><!--MD5=[b9389687b975829384b498ac4b7476b2]\n",
       "class E8--><a href=\"psysml:c8a5167c-621d-4bfa-8ffa-e3ed6a854bed\" target=\"_top\" title=\"psysml:c8a5167c-621d-4bfa-8ffa-e3ed6a854bed\" xlink:actuate=\"onRequest\" xlink:href=\"psysml:c8a5167c-621d-4bfa-8ffa-e3ed6a854bed\" xlink:show=\"new\" xlink:title=\"psysml:c8a5167c-621d-4bfa-8ffa-e3ed6a854bed\" xlink:type=\"simple\"><rect fill=\"#FFFFFF\" height=\"45.9375\" id=\"E8\" rx=\"10\" ry=\"10\" style=\"stroke: #383838; stroke-width: 1.5;\" width=\"71\" x=\"84.5\" y=\"87.5\"/><text fill=\"#000000\" font-family=\"sans-serif\" font-size=\"12\" font-style=\"italic\" lengthAdjust=\"spacingAndGlyphs\" textLength=\"69\" x=\"85.5\" y=\"103.6387\">«attribute»</text><text fill=\"#000000\" font-family=\"sans-serif\" font-size=\"12\" lengthAdjust=\"spacingAndGlyphs\" textLength=\"5\" x=\"117.5\" y=\"117.6074\">z</text><line style=\"stroke: #383838; stroke-width: 1.5;\" x1=\"85.5\" x2=\"154.5\" y1=\"125.4375\" y2=\"125.4375\"/></a><a href=\"psysml:b9058297-d753-442e-8571-9bee33c166c8\" target=\"_top\" title=\"psysml:b9058297-d753-442e-8571-9bee33c166c8\" xlink:actuate=\"onRequest\" xlink:href=\"psysml:b9058297-d753-442e-8571-9bee33c166c8\" xlink:show=\"new\" xlink:title=\"psysml:b9058297-d753-442e-8571-9bee33c166c8\" xlink:type=\"simple\"><polygon fill=\"#FFFFFF\" points=\"271,84,413,84,420,106.2969,427,106.2969,427,136.5938,271,136.5938,271,84\" style=\"stroke: #000000; stroke-width: 1.5;\"/><line style=\"stroke: #000000; stroke-width: 1.5;\" x1=\"271\" x2=\"420\" y1=\"106.2969\" y2=\"106.2969\"/><text fill=\"#000000\" font-family=\"sans-serif\" font-size=\"14\" font-weight=\"bold\" lengthAdjust=\"spacingAndGlyphs\" textLength=\"136\" x=\"275\" y=\"98.9951\">Application Layer</text></a><a href=\"psysml:f007974c-308f-4828-8f2c-f39213f4e302\" target=\"_top\" title=\"psysml:f007974c-308f-4828-8f2c-f39213f4e302\" xlink:actuate=\"onRequest\" xlink:href=\"psysml:f007974c-308f-4828-8f2c-f39213f4e302\" xlink:show=\"new\" xlink:title=\"psysml:f007974c-308f-4828-8f2c-f39213f4e302\" xlink:type=\"simple\"><polygon fill=\"#FFFFFF\" points=\"285,214,399,214,406,236.2969,413,236.2969,413,266.5938,285,266.5938,285,214\" style=\"stroke: #000000; stroke-width: 1.5;\"/><line style=\"stroke: #000000; stroke-width: 1.5;\" x1=\"285\" x2=\"406\" y1=\"236.2969\" y2=\"236.2969\"/><text fill=\"#000000\" font-family=\"sans-serif\" font-size=\"14\" font-weight=\"bold\" lengthAdjust=\"spacingAndGlyphs\" textLength=\"108\" x=\"289\" y=\"228.9951\">Service Layer</text></a><a href=\"psysml:7870e797-441e-4743-978b-6b23dab0b8d1\" target=\"_top\" title=\"psysml:7870e797-441e-4743-978b-6b23dab0b8d1\" xlink:actuate=\"onRequest\" xlink:href=\"psysml:7870e797-441e-4743-978b-6b23dab0b8d1\" xlink:show=\"new\" xlink:title=\"psysml:7870e797-441e-4743-978b-6b23dab0b8d1\" xlink:type=\"simple\"><polygon fill=\"#FFFFFF\" points=\"297,344,387,344,394,366.2969,401,366.2969,401,396.5938,297,396.5938,297,344\" style=\"stroke: #000000; stroke-width: 1.5;\"/><line style=\"stroke: #000000; stroke-width: 1.5;\" x1=\"297\" x2=\"394\" y1=\"366.2969\" y2=\"366.2969\"/><text fill=\"#000000\" font-family=\"sans-serif\" font-size=\"14\" font-weight=\"bold\" lengthAdjust=\"spacingAndGlyphs\" textLength=\"84\" x=\"301\" y=\"358.9951\">Data Layer</text></a><!--MD5=[af87c684e3b0d8be13c1a698a818ef1e]\n",
       "link E3 to E4--><a href=\"psysml:af0245ca-a479-404d-840a-c478ec8f55f1\" target=\"_top\" title=\"psysml:af0245ca-a479-404d-840a-c478ec8f55f1\" xlink:actuate=\"onRequest\" xlink:href=\"psysml:af0245ca-a479-404d-840a-c478ec8f55f1\" xlink:show=\"new\" xlink:title=\"psysml:af0245ca-a479-404d-840a-c478ec8f55f1\" xlink:type=\"simple\"><path d=\"M349,137.12 C349,137.12 349,205.91 349,205.91 \" fill=\"none\" id=\"E3-&gt;E4\" style=\"stroke: #383838; stroke-width: 1.0; stroke-dasharray: 7.0,7.0;\"/><polygon fill=\"#383838\" points=\"349,213.91,352,205.91,346,205.91,349,213.91\" style=\"stroke: #383838; stroke-width: 1.0;\"/><text fill=\"#000000\" font-family=\"sans-serif\" font-size=\"13\" lengthAdjust=\"spacingAndGlyphs\" textLength=\"64\" x=\"350\" y=\"180.0669\">«depend»</text></a><!--MD5=[1b7591eae5389033d8d09a9d6721a717]\n",
       "link E4 to E5--><a href=\"psysml:aeab59fe-e3bd-4e23-96a4-136d0d468de6\" target=\"_top\" title=\"psysml:aeab59fe-e3bd-4e23-96a4-136d0d468de6\" xlink:actuate=\"onRequest\" xlink:href=\"psysml:aeab59fe-e3bd-4e23-96a4-136d0d468de6\" xlink:show=\"new\" xlink:title=\"psysml:aeab59fe-e3bd-4e23-96a4-136d0d468de6\" xlink:type=\"simple\"><path d=\"M349,267.12 C349,267.12 349,335.91 349,335.91 \" fill=\"none\" id=\"E4-&gt;E5\" style=\"stroke: #383838; stroke-width: 1.0; stroke-dasharray: 7.0,7.0;\"/><polygon fill=\"#383838\" points=\"349,343.91,352,335.91,346,335.91,349,343.91\" style=\"stroke: #383838; stroke-width: 1.0;\"/><text fill=\"#000000\" font-family=\"sans-serif\" font-size=\"13\" lengthAdjust=\"spacingAndGlyphs\" textLength=\"64\" x=\"350\" y=\"310.0669\">«depend»</text></a><!--MD5=[c5e8897d989ce984f93528998a7150fe]\n",
       "link E8 to E6--><a href=\"psysml:e01a683f-5a6a-44b0-a0de-a423aeb5ad40\" target=\"_top\" title=\"psysml:e01a683f-5a6a-44b0-a0de-a423aeb5ad40\" xlink:actuate=\"onRequest\" xlink:href=\"psysml:e01a683f-5a6a-44b0-a0de-a423aeb5ad40\" xlink:show=\"new\" xlink:title=\"psysml:e01a683f-5a6a-44b0-a0de-a423aeb5ad40\" xlink:type=\"simple\"><path d=\"M94,133.74 C94,133.74 94,209.46 94,209.46 \" fill=\"none\" id=\"E8-&gt;E6\" style=\"stroke: #383838; stroke-width: 1.0; stroke-dasharray: 7.0,7.0;\"/><polygon fill=\"#383838\" points=\"94,217.46,97,209.46,91,209.46,94,217.46\" style=\"stroke: #383838; stroke-width: 1.0;\"/><text fill=\"#000000\" font-family=\"sans-serif\" font-size=\"13\" lengthAdjust=\"spacingAndGlyphs\" textLength=\"64\" x=\"68\" y=\"180.0669\">«depend»</text></a><!--MD5=[bfa3c8b0d15052fdf50ae9310b491027]\n",
       "link E8 to E7--><a href=\"psysml:e01a683f-5a6a-44b0-a0de-a423aeb5ad40\" target=\"_top\" title=\"psysml:e01a683f-5a6a-44b0-a0de-a423aeb5ad40\" xlink:actuate=\"onRequest\" xlink:href=\"psysml:e01a683f-5a6a-44b0-a0de-a423aeb5ad40\" xlink:show=\"new\" xlink:title=\"psysml:e01a683f-5a6a-44b0-a0de-a423aeb5ad40\" xlink:type=\"simple\"><path d=\"M147,133.74 C147,133.74 147,209.46 147,209.46 \" fill=\"none\" id=\"E8-&gt;E7\" style=\"stroke: #383838; stroke-width: 1.0; stroke-dasharray: 7.0,7.0;\"/><polygon fill=\"#383838\" points=\"147,217.46,150,209.46,144,209.46,147,217.46\" style=\"stroke: #383838; stroke-width: 1.0;\"/><text fill=\"#000000\" font-family=\"sans-serif\" font-size=\"13\" lengthAdjust=\"spacingAndGlyphs\" textLength=\"64\" x=\"174\" y=\"180.0669\">«depend»</text></a><!--MD5=[1b0b85f6148c07bcde807e562fc127d0]\n",
       "@startuml\r\n",
       "skinparam linetype ortho\r\n",
       "skinparam monochrome true\r\n",
       "skinparam classbackgroundcolor white\r\n",
       "skinparam shadowing false\r\n",
       "skinparam wrapWidth 300\r\n",
       "hide circle\r\n",
       "\r\n",
       "package \"DependencyTest\" as E1  [[psysml:c069fb4a-0cab-46ce-ae30-79221b6c6030 ]]  {\r\n",
       "package \"System\" as E2  [[psysml:0036a7be-5206-4df9-ab28-301972427778 ]]  {\r\n",
       "package \"Application Layer\" as E3  [[psysml:b9058297-d753-442e-8571-9bee33c166c8 ]]  {\r\n",
       "}\r\n",
       "package \"Service Layer\" as E4  [[psysml:f007974c-308f-4828-8f2c-f39213f4e302 ]]  {\r\n",
       "}\r\n",
       "package \"Data Layer\" as E5  [[psysml:7870e797-441e-4743-978b-6b23dab0b8d1 ]]  {\r\n",
       "}\r\n",
       "}\r\n",
       "comp usage \"x\" as E6  <<(T,blue)attribute>> [[psysml:ca3c2c7b-3718-4538-a84c-29984e19a6f6 ]] {\r\n",
       "}\r\n",
       "comp usage \"y\" as E7  <<(T,blue)attribute>> [[psysml:f187cc38-895f-43c9-b55f-372a79474975 ]] {\r\n",
       "}\r\n",
       "comp usage \"z\" as E8  <<(T,blue)attribute>> [[psysml:c8a5167c-621d-4bfa-8ffa-e3ed6a854bed ]] {\r\n",
       "}\r\n",
       "E3 ..>> E4 [[psysml:af0245ca-a479-404d-840a-c478ec8f55f1 ]] : <<depend>>\r\n",
       "E4 ..>> E5 [[psysml:aeab59fe-e3bd-4e23-96a4-136d0d468de6 ]] : <<depend>>\r\n",
       "E8 ..>> E6 [[psysml:e01a683f-5a6a-44b0-a0de-a423aeb5ad40 ]] : <<depend>>\r\n",
       "E8 ..>> E7 [[psysml:e01a683f-5a6a-44b0-a0de-a423aeb5ad40 ]] : <<depend>>\r\n",
       "}\r\n",
       "@enduml\r\n",
       "\n",
       "PlantUML version 1.2020.13(Sat Jun 13 12:26:38 UTC 2020)\n",
       "(EPL source distribution)\n",
       "Java Runtime: OpenJDK Runtime Environment\n",
       "JVM: OpenJDK 64-Bit Server VM\n",
       "Default Encoding: UTF-8\n",
       "Language: en\n",
       "Country: null\n",
       "--></g></svg>"
      ]
     },
     "execution_count": 51,
     "metadata": {},
     "output_type": "execute_result"
    }
   ],
   "source": [
    "%viz --style=\"ORTHOLINE\" --view=\"Default\" \"DependencyTest\""
   ]
  },
  {
   "cell_type": "code",
   "execution_count": 52,
   "id": "french-burner",
   "metadata": {
    "execution": {
     "iopub.execute_input": "2021-03-26T13:04:35.875580Z",
     "iopub.status.busy": "2021-03-26T13:04:35.875200Z",
     "iopub.status.idle": "2021-03-26T13:04:35.906383Z",
     "shell.execute_reply": "2021-03-26T13:04:35.904431Z"
    }
   },
   "outputs": [
    {
     "data": {
      "image/svg+xml": [
       "<?xml version=\"1.0\" encoding=\"UTF-8\" standalone=\"no\"?><svg xmlns=\"http://www.w3.org/2000/svg\" xmlns:xlink=\"http://www.w3.org/1999/xlink\" contentScriptType=\"application/ecmascript\" contentStyleType=\"text/css\" height=\"449px\" preserveAspectRatio=\"none\" style=\"width:489px;height:449px;\" version=\"1.1\" viewBox=\"0 0 489 449\" width=\"489px\" zoomAndPan=\"magnify\"><defs/><g><!--MD5=[fbc87193dbaf4d95561dea2c320d4a47]\n",
       "cluster E1--><a href=\"psysml:c069fb4a-0cab-46ce-ae30-79221b6c6030\" target=\"_top\" title=\"psysml:c069fb4a-0cab-46ce-ae30-79221b6c6030\" xlink:actuate=\"onRequest\" xlink:href=\"psysml:c069fb4a-0cab-46ce-ae30-79221b6c6030\" xlink:show=\"new\" xlink:title=\"psysml:c069fb4a-0cab-46ce-ae30-79221b6c6030\" xlink:type=\"simple\"><polygon fill=\"#FFFFFF\" points=\"16,6,156,6,163,28.2969,467,28.2969,467,437,16,437,16,6\" style=\"stroke: #000000; stroke-width: 1.5;\"/><line style=\"stroke: #000000; stroke-width: 1.5;\" x1=\"16\" x2=\"163\" y1=\"28.2969\" y2=\"28.2969\"/><text fill=\"#000000\" font-family=\"sans-serif\" font-size=\"14\" font-weight=\"bold\" lengthAdjust=\"spacingAndGlyphs\" textLength=\"134\" x=\"20\" y=\"20.9951\">DependencyTest</text></a><!--MD5=[e4f7fae6ed58524ba242bb0b0d3be6b7]\n",
       "cluster E2--><a href=\"psysml:0036a7be-5206-4df9-ab28-301972427778\" target=\"_top\" title=\"psysml:0036a7be-5206-4df9-ab28-301972427778\" xlink:actuate=\"onRequest\" xlink:href=\"psysml:0036a7be-5206-4df9-ab28-301972427778\" xlink:show=\"new\" xlink:title=\"psysml:0036a7be-5206-4df9-ab28-301972427778\" xlink:type=\"simple\"><polygon fill=\"#FFFFFF\" points=\"255,49,319,49,326,71.2969,443,71.2969,443,413,255,413,255,49\" style=\"stroke: #000000; stroke-width: 1.5;\"/><line style=\"stroke: #000000; stroke-width: 1.5;\" x1=\"255\" x2=\"326\" y1=\"71.2969\" y2=\"71.2969\"/><text fill=\"#000000\" font-family=\"sans-serif\" font-size=\"14\" font-weight=\"bold\" lengthAdjust=\"spacingAndGlyphs\" textLength=\"58\" x=\"259\" y=\"63.9951\">System</text></a><!--MD5=[60a26617385b1d2d0262a64233df1f8d]\n",
       "class E6--><a href=\"psysml:ca3c2c7b-3718-4538-a84c-29984e19a6f6\" target=\"_top\" title=\"psysml:ca3c2c7b-3718-4538-a84c-29984e19a6f6\" xlink:actuate=\"onRequest\" xlink:href=\"psysml:ca3c2c7b-3718-4538-a84c-29984e19a6f6\" xlink:show=\"new\" xlink:title=\"psysml:ca3c2c7b-3718-4538-a84c-29984e19a6f6\" xlink:type=\"simple\"><rect fill=\"#FFFFFF\" height=\"45.9375\" id=\"E6\" rx=\"10\" ry=\"10\" style=\"stroke: #383838; stroke-width: 1.5;\" width=\"71\" x=\"32.5\" y=\"217.5\"/><text fill=\"#000000\" font-family=\"sans-serif\" font-size=\"12\" font-style=\"italic\" lengthAdjust=\"spacingAndGlyphs\" textLength=\"69\" x=\"33.5\" y=\"233.6387\">«attribute»</text><text fill=\"#000000\" font-family=\"sans-serif\" font-size=\"12\" lengthAdjust=\"spacingAndGlyphs\" textLength=\"6\" x=\"65\" y=\"247.6074\">x</text><line style=\"stroke: #383838; stroke-width: 1.5;\" x1=\"33.5\" x2=\"102.5\" y1=\"255.4375\" y2=\"255.4375\"/></a><!--MD5=[2156ba9850f5573cc1fc38a6a4b2f02b]\n",
       "class E7--><a href=\"psysml:f187cc38-895f-43c9-b55f-372a79474975\" target=\"_top\" title=\"psysml:f187cc38-895f-43c9-b55f-372a79474975\" xlink:actuate=\"onRequest\" xlink:href=\"psysml:f187cc38-895f-43c9-b55f-372a79474975\" xlink:show=\"new\" xlink:title=\"psysml:f187cc38-895f-43c9-b55f-372a79474975\" xlink:type=\"simple\"><rect fill=\"#FFFFFF\" height=\"45.9375\" id=\"E7\" rx=\"10\" ry=\"10\" style=\"stroke: #383838; stroke-width: 1.5;\" width=\"71\" x=\"138.5\" y=\"217.5\"/><text fill=\"#000000\" font-family=\"sans-serif\" font-size=\"12\" font-style=\"italic\" lengthAdjust=\"spacingAndGlyphs\" textLength=\"69\" x=\"139.5\" y=\"233.6387\">«attribute»</text><text fill=\"#000000\" font-family=\"sans-serif\" font-size=\"12\" lengthAdjust=\"spacingAndGlyphs\" textLength=\"6\" x=\"171\" y=\"247.6074\">y</text><line style=\"stroke: #383838; stroke-width: 1.5;\" x1=\"139.5\" x2=\"208.5\" y1=\"255.4375\" y2=\"255.4375\"/></a><!--MD5=[b9389687b975829384b498ac4b7476b2]\n",
       "class E8--><a href=\"psysml:c8a5167c-621d-4bfa-8ffa-e3ed6a854bed\" target=\"_top\" title=\"psysml:c8a5167c-621d-4bfa-8ffa-e3ed6a854bed\" xlink:actuate=\"onRequest\" xlink:href=\"psysml:c8a5167c-621d-4bfa-8ffa-e3ed6a854bed\" xlink:show=\"new\" xlink:title=\"psysml:c8a5167c-621d-4bfa-8ffa-e3ed6a854bed\" xlink:type=\"simple\"><rect fill=\"#FFFFFF\" height=\"45.9375\" id=\"E8\" rx=\"10\" ry=\"10\" style=\"stroke: #383838; stroke-width: 1.5;\" width=\"71\" x=\"84.5\" y=\"87.5\"/><text fill=\"#000000\" font-family=\"sans-serif\" font-size=\"12\" font-style=\"italic\" lengthAdjust=\"spacingAndGlyphs\" textLength=\"69\" x=\"85.5\" y=\"103.6387\">«attribute»</text><text fill=\"#000000\" font-family=\"sans-serif\" font-size=\"12\" lengthAdjust=\"spacingAndGlyphs\" textLength=\"5\" x=\"117.5\" y=\"117.6074\">z</text><line style=\"stroke: #383838; stroke-width: 1.5;\" x1=\"85.5\" x2=\"154.5\" y1=\"125.4375\" y2=\"125.4375\"/></a><a href=\"psysml:b9058297-d753-442e-8571-9bee33c166c8\" target=\"_top\" title=\"psysml:b9058297-d753-442e-8571-9bee33c166c8\" xlink:actuate=\"onRequest\" xlink:href=\"psysml:b9058297-d753-442e-8571-9bee33c166c8\" xlink:show=\"new\" xlink:title=\"psysml:b9058297-d753-442e-8571-9bee33c166c8\" xlink:type=\"simple\"><polygon fill=\"#FFFFFF\" points=\"271,84,413,84,420,106.2969,427,106.2969,427,136.5938,271,136.5938,271,84\" style=\"stroke: #000000; stroke-width: 1.5;\"/><line style=\"stroke: #000000; stroke-width: 1.5;\" x1=\"271\" x2=\"420\" y1=\"106.2969\" y2=\"106.2969\"/><text fill=\"#000000\" font-family=\"sans-serif\" font-size=\"14\" font-weight=\"bold\" lengthAdjust=\"spacingAndGlyphs\" textLength=\"136\" x=\"275\" y=\"98.9951\">Application Layer</text></a><a href=\"psysml:f007974c-308f-4828-8f2c-f39213f4e302\" target=\"_top\" title=\"psysml:f007974c-308f-4828-8f2c-f39213f4e302\" xlink:actuate=\"onRequest\" xlink:href=\"psysml:f007974c-308f-4828-8f2c-f39213f4e302\" xlink:show=\"new\" xlink:title=\"psysml:f007974c-308f-4828-8f2c-f39213f4e302\" xlink:type=\"simple\"><polygon fill=\"#FFFFFF\" points=\"285,214,399,214,406,236.2969,413,236.2969,413,266.5938,285,266.5938,285,214\" style=\"stroke: #000000; stroke-width: 1.5;\"/><line style=\"stroke: #000000; stroke-width: 1.5;\" x1=\"285\" x2=\"406\" y1=\"236.2969\" y2=\"236.2969\"/><text fill=\"#000000\" font-family=\"sans-serif\" font-size=\"14\" font-weight=\"bold\" lengthAdjust=\"spacingAndGlyphs\" textLength=\"108\" x=\"289\" y=\"228.9951\">Service Layer</text></a><a href=\"psysml:7870e797-441e-4743-978b-6b23dab0b8d1\" target=\"_top\" title=\"psysml:7870e797-441e-4743-978b-6b23dab0b8d1\" xlink:actuate=\"onRequest\" xlink:href=\"psysml:7870e797-441e-4743-978b-6b23dab0b8d1\" xlink:show=\"new\" xlink:title=\"psysml:7870e797-441e-4743-978b-6b23dab0b8d1\" xlink:type=\"simple\"><polygon fill=\"#FFFFFF\" points=\"297,344,387,344,394,366.2969,401,366.2969,401,396.5938,297,396.5938,297,344\" style=\"stroke: #000000; stroke-width: 1.5;\"/><line style=\"stroke: #000000; stroke-width: 1.5;\" x1=\"297\" x2=\"394\" y1=\"366.2969\" y2=\"366.2969\"/><text fill=\"#000000\" font-family=\"sans-serif\" font-size=\"14\" font-weight=\"bold\" lengthAdjust=\"spacingAndGlyphs\" textLength=\"84\" x=\"301\" y=\"358.9951\">Data Layer</text></a><!--MD5=[af87c684e3b0d8be13c1a698a818ef1e]\n",
       "link E3 to E4--><a href=\"psysml:af0245ca-a479-404d-840a-c478ec8f55f1\" target=\"_top\" title=\"psysml:af0245ca-a479-404d-840a-c478ec8f55f1\" xlink:actuate=\"onRequest\" xlink:href=\"psysml:af0245ca-a479-404d-840a-c478ec8f55f1\" xlink:show=\"new\" xlink:title=\"psysml:af0245ca-a479-404d-840a-c478ec8f55f1\" xlink:type=\"simple\"><path d=\"M349,137.12 C349,137.12 349,205.91 349,205.91 \" fill=\"none\" id=\"E3-&gt;E4\" style=\"stroke: #383838; stroke-width: 1.0; stroke-dasharray: 7.0,7.0;\"/><polygon fill=\"#383838\" points=\"349,213.91,352,205.91,346,205.91,349,213.91\" style=\"stroke: #383838; stroke-width: 1.0;\"/><text fill=\"#000000\" font-family=\"sans-serif\" font-size=\"13\" lengthAdjust=\"spacingAndGlyphs\" textLength=\"64\" x=\"350\" y=\"180.0669\">«depend»</text></a><!--MD5=[1b7591eae5389033d8d09a9d6721a717]\n",
       "link E4 to E5--><a href=\"psysml:aeab59fe-e3bd-4e23-96a4-136d0d468de6\" target=\"_top\" title=\"psysml:aeab59fe-e3bd-4e23-96a4-136d0d468de6\" xlink:actuate=\"onRequest\" xlink:href=\"psysml:aeab59fe-e3bd-4e23-96a4-136d0d468de6\" xlink:show=\"new\" xlink:title=\"psysml:aeab59fe-e3bd-4e23-96a4-136d0d468de6\" xlink:type=\"simple\"><path d=\"M349,267.12 C349,267.12 349,335.91 349,335.91 \" fill=\"none\" id=\"E4-&gt;E5\" style=\"stroke: #383838; stroke-width: 1.0; stroke-dasharray: 7.0,7.0;\"/><polygon fill=\"#383838\" points=\"349,343.91,352,335.91,346,335.91,349,343.91\" style=\"stroke: #383838; stroke-width: 1.0;\"/><text fill=\"#000000\" font-family=\"sans-serif\" font-size=\"13\" lengthAdjust=\"spacingAndGlyphs\" textLength=\"64\" x=\"350\" y=\"310.0669\">«depend»</text></a><!--MD5=[c5e8897d989ce984f93528998a7150fe]\n",
       "link E8 to E6--><a href=\"psysml:e01a683f-5a6a-44b0-a0de-a423aeb5ad40\" target=\"_top\" title=\"psysml:e01a683f-5a6a-44b0-a0de-a423aeb5ad40\" xlink:actuate=\"onRequest\" xlink:href=\"psysml:e01a683f-5a6a-44b0-a0de-a423aeb5ad40\" xlink:show=\"new\" xlink:title=\"psysml:e01a683f-5a6a-44b0-a0de-a423aeb5ad40\" xlink:type=\"simple\"><path d=\"M94,133.74 C94,133.74 94,209.46 94,209.46 \" fill=\"none\" id=\"E8-&gt;E6\" style=\"stroke: #383838; stroke-width: 1.0; stroke-dasharray: 7.0,7.0;\"/><polygon fill=\"#383838\" points=\"94,217.46,97,209.46,91,209.46,94,217.46\" style=\"stroke: #383838; stroke-width: 1.0;\"/><text fill=\"#000000\" font-family=\"sans-serif\" font-size=\"13\" lengthAdjust=\"spacingAndGlyphs\" textLength=\"64\" x=\"68\" y=\"180.0669\">«depend»</text></a><!--MD5=[bfa3c8b0d15052fdf50ae9310b491027]\n",
       "link E8 to E7--><a href=\"psysml:e01a683f-5a6a-44b0-a0de-a423aeb5ad40\" target=\"_top\" title=\"psysml:e01a683f-5a6a-44b0-a0de-a423aeb5ad40\" xlink:actuate=\"onRequest\" xlink:href=\"psysml:e01a683f-5a6a-44b0-a0de-a423aeb5ad40\" xlink:show=\"new\" xlink:title=\"psysml:e01a683f-5a6a-44b0-a0de-a423aeb5ad40\" xlink:type=\"simple\"><path d=\"M147,133.74 C147,133.74 147,209.46 147,209.46 \" fill=\"none\" id=\"E8-&gt;E7\" style=\"stroke: #383838; stroke-width: 1.0; stroke-dasharray: 7.0,7.0;\"/><polygon fill=\"#383838\" points=\"147,217.46,150,209.46,144,209.46,147,217.46\" style=\"stroke: #383838; stroke-width: 1.0;\"/><text fill=\"#000000\" font-family=\"sans-serif\" font-size=\"13\" lengthAdjust=\"spacingAndGlyphs\" textLength=\"64\" x=\"174\" y=\"180.0669\">«depend»</text></a><!--MD5=[1b0b85f6148c07bcde807e562fc127d0]\n",
       "@startuml\r\n",
       "skinparam linetype ortho\r\n",
       "skinparam monochrome true\r\n",
       "skinparam classbackgroundcolor white\r\n",
       "skinparam shadowing false\r\n",
       "skinparam wrapWidth 300\r\n",
       "hide circle\r\n",
       "\r\n",
       "package \"DependencyTest\" as E1  [[psysml:c069fb4a-0cab-46ce-ae30-79221b6c6030 ]]  {\r\n",
       "package \"System\" as E2  [[psysml:0036a7be-5206-4df9-ab28-301972427778 ]]  {\r\n",
       "package \"Application Layer\" as E3  [[psysml:b9058297-d753-442e-8571-9bee33c166c8 ]]  {\r\n",
       "}\r\n",
       "package \"Service Layer\" as E4  [[psysml:f007974c-308f-4828-8f2c-f39213f4e302 ]]  {\r\n",
       "}\r\n",
       "package \"Data Layer\" as E5  [[psysml:7870e797-441e-4743-978b-6b23dab0b8d1 ]]  {\r\n",
       "}\r\n",
       "}\r\n",
       "comp usage \"x\" as E6  <<(T,blue)attribute>> [[psysml:ca3c2c7b-3718-4538-a84c-29984e19a6f6 ]] {\r\n",
       "}\r\n",
       "comp usage \"y\" as E7  <<(T,blue)attribute>> [[psysml:f187cc38-895f-43c9-b55f-372a79474975 ]] {\r\n",
       "}\r\n",
       "comp usage \"z\" as E8  <<(T,blue)attribute>> [[psysml:c8a5167c-621d-4bfa-8ffa-e3ed6a854bed ]] {\r\n",
       "}\r\n",
       "E3 ..>> E4 [[psysml:af0245ca-a479-404d-840a-c478ec8f55f1 ]] : <<depend>>\r\n",
       "E4 ..>> E5 [[psysml:aeab59fe-e3bd-4e23-96a4-136d0d468de6 ]] : <<depend>>\r\n",
       "E8 ..>> E6 [[psysml:e01a683f-5a6a-44b0-a0de-a423aeb5ad40 ]] : <<depend>>\r\n",
       "E8 ..>> E7 [[psysml:e01a683f-5a6a-44b0-a0de-a423aeb5ad40 ]] : <<depend>>\r\n",
       "}\r\n",
       "@enduml\r\n",
       "\n",
       "PlantUML version 1.2020.13(Sat Jun 13 12:26:38 UTC 2020)\n",
       "(EPL source distribution)\n",
       "Java Runtime: OpenJDK Runtime Environment\n",
       "JVM: OpenJDK 64-Bit Server VM\n",
       "Default Encoding: UTF-8\n",
       "Language: en\n",
       "Country: null\n",
       "--></g></svg>"
      ]
     },
     "execution_count": 52,
     "metadata": {},
     "output_type": "execute_result"
    }
   ],
   "source": [
    "%viz --style=\"ORTHOLINE\" --view=\"Tree\" \"DependencyTest\""
   ]
  },
  {
   "cell_type": "code",
   "execution_count": 53,
   "id": "distinct-administrator",
   "metadata": {
    "execution": {
     "iopub.execute_input": "2021-03-26T13:04:35.960475Z",
     "iopub.status.busy": "2021-03-26T13:04:35.959558Z",
     "iopub.status.idle": "2021-03-26T13:04:35.966252Z",
     "shell.execute_reply": "2021-03-26T13:04:35.965814Z"
    }
   },
   "outputs": [
    {
     "data": {
      "image/svg+xml": [
       "<?xml version=\"1.0\" encoding=\"UTF-8\" standalone=\"no\"?><svg xmlns=\"http://www.w3.org/2000/svg\" xmlns:xlink=\"http://www.w3.org/1999/xlink\" contentScriptType=\"application/ecmascript\" contentStyleType=\"text/css\" height=\"12px\" preserveAspectRatio=\"none\" style=\"width:12px;height:12px;\" version=\"1.1\" viewBox=\"0 0 12 12\" width=\"12px\" zoomAndPan=\"magnify\"><defs/><g><!--MD5=[97d6f38768b311333d388e66b2b27985]\n",
       "@startuml\r\n",
       "skinparam linetype ortho\r\n",
       "skinparam monochrome true\r\n",
       "skinparam classbackgroundcolor white\r\n",
       "skinparam shadowing false\r\n",
       "skinparam wrapWidth 300\r\n",
       "hide circle\r\n",
       "\r\n",
       "@enduml\r\n",
       "\n",
       "PlantUML version 1.2020.13(Sat Jun 13 12:26:38 UTC 2020)\n",
       "(EPL source distribution)\n",
       "Java Runtime: OpenJDK Runtime Environment\n",
       "JVM: OpenJDK 64-Bit Server VM\n",
       "Default Encoding: UTF-8\n",
       "Language: en\n",
       "Country: null\n",
       "--></g></svg>"
      ]
     },
     "execution_count": 53,
     "metadata": {},
     "output_type": "execute_result"
    }
   ],
   "source": [
    "%viz --style=\"ORTHOLINE\" --view=\"State\" \"DependencyTest\""
   ]
  },
  {
   "cell_type": "code",
   "execution_count": 54,
   "id": "sporting-mustang",
   "metadata": {
    "execution": {
     "iopub.execute_input": "2021-03-26T13:04:36.019831Z",
     "iopub.status.busy": "2021-03-26T13:04:36.019050Z",
     "iopub.status.idle": "2021-03-26T13:04:36.049259Z",
     "shell.execute_reply": "2021-03-26T13:04:36.049614Z"
    }
   },
   "outputs": [
    {
     "data": {
      "image/svg+xml": [
       "<?xml version=\"1.0\" encoding=\"UTF-8\" standalone=\"no\"?><svg xmlns=\"http://www.w3.org/2000/svg\" xmlns:xlink=\"http://www.w3.org/1999/xlink\" contentScriptType=\"application/ecmascript\" contentStyleType=\"text/css\" height=\"361px\" preserveAspectRatio=\"none\" style=\"width:489px;height:361px;\" version=\"1.1\" viewBox=\"0 0 489 361\" width=\"489px\" zoomAndPan=\"magnify\"><defs/><g><!--MD5=[fbc87193dbaf4d95561dea2c320d4a47]\n",
       "cluster E1--><a href=\"psysml:c069fb4a-0cab-46ce-ae30-79221b6c6030\" target=\"_top\" title=\"psysml:c069fb4a-0cab-46ce-ae30-79221b6c6030\" xlink:actuate=\"onRequest\" xlink:href=\"psysml:c069fb4a-0cab-46ce-ae30-79221b6c6030\" xlink:show=\"new\" xlink:title=\"psysml:c069fb4a-0cab-46ce-ae30-79221b6c6030\" xlink:type=\"simple\"><polygon fill=\"#FFFFFF\" points=\"16,6,156,6,163,28.2969,467,28.2969,467,349,16,349,16,6\" style=\"stroke: #000000; stroke-width: 1.5;\"/><line style=\"stroke: #000000; stroke-width: 1.5;\" x1=\"16\" x2=\"163\" y1=\"28.2969\" y2=\"28.2969\"/><text fill=\"#000000\" font-family=\"sans-serif\" font-size=\"14\" font-weight=\"bold\" lengthAdjust=\"spacingAndGlyphs\" textLength=\"134\" x=\"20\" y=\"20.9951\">DependencyTest</text></a><!--MD5=[e4f7fae6ed58524ba242bb0b0d3be6b7]\n",
       "cluster E2--><a href=\"psysml:0036a7be-5206-4df9-ab28-301972427778\" target=\"_top\" title=\"psysml:0036a7be-5206-4df9-ab28-301972427778\" xlink:actuate=\"onRequest\" xlink:href=\"psysml:0036a7be-5206-4df9-ab28-301972427778\" xlink:show=\"new\" xlink:title=\"psysml:0036a7be-5206-4df9-ab28-301972427778\" xlink:type=\"simple\"><polygon fill=\"#FFFFFF\" points=\"255,49,319,49,326,71.2969,443,71.2969,443,325,255,325,255,49\" style=\"stroke: #000000; stroke-width: 1.5;\"/><line style=\"stroke: #000000; stroke-width: 1.5;\" x1=\"255\" x2=\"326\" y1=\"71.2969\" y2=\"71.2969\"/><text fill=\"#000000\" font-family=\"sans-serif\" font-size=\"14\" font-weight=\"bold\" lengthAdjust=\"spacingAndGlyphs\" textLength=\"58\" x=\"259\" y=\"63.9951\">System</text></a><a href=\"psysml:b9058297-d753-442e-8571-9bee33c166c8\" target=\"_top\" title=\"psysml:b9058297-d753-442e-8571-9bee33c166c8\" xlink:actuate=\"onRequest\" xlink:href=\"psysml:b9058297-d753-442e-8571-9bee33c166c8\" xlink:show=\"new\" xlink:title=\"psysml:b9058297-d753-442e-8571-9bee33c166c8\" xlink:type=\"simple\"><polygon fill=\"#FFFFFF\" points=\"271,84,413,84,420,106.2969,427,106.2969,427,136.5938,271,136.5938,271,84\" style=\"stroke: #000000; stroke-width: 1.5;\"/><line style=\"stroke: #000000; stroke-width: 1.5;\" x1=\"271\" x2=\"420\" y1=\"106.2969\" y2=\"106.2969\"/><text fill=\"#000000\" font-family=\"sans-serif\" font-size=\"14\" font-weight=\"bold\" lengthAdjust=\"spacingAndGlyphs\" textLength=\"136\" x=\"275\" y=\"98.9951\">Application Layer</text></a><a href=\"psysml:f007974c-308f-4828-8f2c-f39213f4e302\" target=\"_top\" title=\"psysml:f007974c-308f-4828-8f2c-f39213f4e302\" xlink:actuate=\"onRequest\" xlink:href=\"psysml:f007974c-308f-4828-8f2c-f39213f4e302\" xlink:show=\"new\" xlink:title=\"psysml:f007974c-308f-4828-8f2c-f39213f4e302\" xlink:type=\"simple\"><polygon fill=\"#FFFFFF\" points=\"285,170,399,170,406,192.2969,413,192.2969,413,222.5938,285,222.5938,285,170\" style=\"stroke: #000000; stroke-width: 1.5;\"/><line style=\"stroke: #000000; stroke-width: 1.5;\" x1=\"285\" x2=\"406\" y1=\"192.2969\" y2=\"192.2969\"/><text fill=\"#000000\" font-family=\"sans-serif\" font-size=\"14\" font-weight=\"bold\" lengthAdjust=\"spacingAndGlyphs\" textLength=\"108\" x=\"289\" y=\"184.9951\">Service Layer</text></a><a href=\"psysml:7870e797-441e-4743-978b-6b23dab0b8d1\" target=\"_top\" title=\"psysml:7870e797-441e-4743-978b-6b23dab0b8d1\" xlink:actuate=\"onRequest\" xlink:href=\"psysml:7870e797-441e-4743-978b-6b23dab0b8d1\" xlink:show=\"new\" xlink:title=\"psysml:7870e797-441e-4743-978b-6b23dab0b8d1\" xlink:type=\"simple\"><polygon fill=\"#FFFFFF\" points=\"297,256,387,256,394,278.2969,401,278.2969,401,308.5938,297,308.5938,297,256\" style=\"stroke: #000000; stroke-width: 1.5;\"/><line style=\"stroke: #000000; stroke-width: 1.5;\" x1=\"297\" x2=\"394\" y1=\"278.2969\" y2=\"278.2969\"/><text fill=\"#000000\" font-family=\"sans-serif\" font-size=\"14\" font-weight=\"bold\" lengthAdjust=\"spacingAndGlyphs\" textLength=\"84\" x=\"301\" y=\"270.9951\">Data Layer</text></a><g id=\"E1.E6\"><a href=\"psysml:ca3c2c7b-3718-4538-a84c-29984e19a6f6\" target=\"_top\" title=\"psysml:ca3c2c7b-3718-4538-a84c-29984e19a6f6\" xlink:actuate=\"onRequest\" xlink:href=\"psysml:ca3c2c7b-3718-4538-a84c-29984e19a6f6\" xlink:show=\"new\" xlink:title=\"psysml:ca3c2c7b-3718-4538-a84c-29984e19a6f6\" xlink:type=\"simple\"><rect fill=\"#FFFFFF\" height=\"42.9375\" id=\"E6\" rx=\"10\" ry=\"10\" style=\"stroke: #383838; stroke-width: 1.5;\" width=\"76\" x=\"32\" y=\"175\"/><rect fill=\"#F8F8F8\" height=\"37.9375\" rx=\"10\" ry=\"10\" style=\"stroke: #F8F8F8; stroke-width: 1.5;\" width=\"76\" x=\"32\" y=\"175\"/><rect fill=\"#F8F8F8\" height=\"10\" style=\"stroke: #F8F8F8; stroke-width: 1.5;\" width=\"76\" x=\"32\" y=\"202.9375\"/><rect fill=\"none\" height=\"42.9375\" id=\"E6\" rx=\"10\" ry=\"10\" style=\"stroke: #383838; stroke-width: 1.5;\" width=\"76\" x=\"32\" y=\"175\"/><text fill=\"#000000\" font-family=\"sans-serif\" font-size=\"12\" font-style=\"italic\" lengthAdjust=\"spacingAndGlyphs\" textLength=\"69\" x=\"35.5\" y=\"191.1387\">«attribute»</text><text fill=\"#000000\" font-family=\"sans-serif\" font-size=\"12\" lengthAdjust=\"spacingAndGlyphs\" textLength=\"6\" x=\"67\" y=\"205.1074\">x</text></a></g><g id=\"E1.E7\"><a href=\"psysml:f187cc38-895f-43c9-b55f-372a79474975\" target=\"_top\" title=\"psysml:f187cc38-895f-43c9-b55f-372a79474975\" xlink:actuate=\"onRequest\" xlink:href=\"psysml:f187cc38-895f-43c9-b55f-372a79474975\" xlink:show=\"new\" xlink:title=\"psysml:f187cc38-895f-43c9-b55f-372a79474975\" xlink:type=\"simple\"><rect fill=\"#FFFFFF\" height=\"42.9375\" id=\"E7\" rx=\"10\" ry=\"10\" style=\"stroke: #383838; stroke-width: 1.5;\" width=\"76\" x=\"143\" y=\"175\"/><rect fill=\"#F8F8F8\" height=\"37.9375\" rx=\"10\" ry=\"10\" style=\"stroke: #F8F8F8; stroke-width: 1.5;\" width=\"76\" x=\"143\" y=\"175\"/><rect fill=\"#F8F8F8\" height=\"10\" style=\"stroke: #F8F8F8; stroke-width: 1.5;\" width=\"76\" x=\"143\" y=\"202.9375\"/><rect fill=\"none\" height=\"42.9375\" id=\"E7\" rx=\"10\" ry=\"10\" style=\"stroke: #383838; stroke-width: 1.5;\" width=\"76\" x=\"143\" y=\"175\"/><text fill=\"#000000\" font-family=\"sans-serif\" font-size=\"12\" font-style=\"italic\" lengthAdjust=\"spacingAndGlyphs\" textLength=\"69\" x=\"146.5\" y=\"191.1387\">«attribute»</text><text fill=\"#000000\" font-family=\"sans-serif\" font-size=\"12\" lengthAdjust=\"spacingAndGlyphs\" textLength=\"6\" x=\"178\" y=\"205.1074\">y</text></a></g><g id=\"E1.E8\"><a href=\"psysml:c8a5167c-621d-4bfa-8ffa-e3ed6a854bed\" target=\"_top\" title=\"psysml:c8a5167c-621d-4bfa-8ffa-e3ed6a854bed\" xlink:actuate=\"onRequest\" xlink:href=\"psysml:c8a5167c-621d-4bfa-8ffa-e3ed6a854bed\" xlink:show=\"new\" xlink:title=\"psysml:c8a5167c-621d-4bfa-8ffa-e3ed6a854bed\" xlink:type=\"simple\"><rect fill=\"#FFFFFF\" height=\"42.9375\" id=\"E8\" rx=\"10\" ry=\"10\" style=\"stroke: #383838; stroke-width: 1.5;\" width=\"76\" x=\"83\" y=\"89\"/><rect fill=\"#F8F8F8\" height=\"37.9375\" rx=\"10\" ry=\"10\" style=\"stroke: #F8F8F8; stroke-width: 1.5;\" width=\"76\" x=\"83\" y=\"89\"/><rect fill=\"#F8F8F8\" height=\"10\" style=\"stroke: #F8F8F8; stroke-width: 1.5;\" width=\"76\" x=\"83\" y=\"116.9375\"/><rect fill=\"none\" height=\"42.9375\" id=\"E8\" rx=\"10\" ry=\"10\" style=\"stroke: #383838; stroke-width: 1.5;\" width=\"76\" x=\"83\" y=\"89\"/><text fill=\"#000000\" font-family=\"sans-serif\" font-size=\"12\" font-style=\"italic\" lengthAdjust=\"spacingAndGlyphs\" textLength=\"69\" x=\"86.5\" y=\"105.1387\">«attribute»</text><text fill=\"#000000\" font-family=\"sans-serif\" font-size=\"12\" lengthAdjust=\"spacingAndGlyphs\" textLength=\"5\" x=\"118.5\" y=\"119.1074\">z</text></a></g><!--MD5=[af87c684e3b0d8be13c1a698a818ef1e]\n",
       "link E3 to E4--><a href=\"psysml:af0245ca-a479-404d-840a-c478ec8f55f1\" target=\"_top\" title=\"psysml:af0245ca-a479-404d-840a-c478ec8f55f1\" xlink:actuate=\"onRequest\" xlink:href=\"psysml:af0245ca-a479-404d-840a-c478ec8f55f1\" xlink:show=\"new\" xlink:title=\"psysml:af0245ca-a479-404d-840a-c478ec8f55f1\" xlink:type=\"simple\"><path d=\"M349,137.24 C349,137.24 349,161.78 349,161.78 \" fill=\"none\" id=\"E3-&gt;E4\" style=\"stroke: #383838; stroke-width: 1.0; stroke-dasharray: 7.0,7.0;\"/><polygon fill=\"#383838\" points=\"349,169.78,352,161.78,346,161.78,349,169.78\" style=\"stroke: #383838; stroke-width: 1.0;\"/><text fill=\"#000000\" font-family=\"sans-serif\" font-size=\"13\" lengthAdjust=\"spacingAndGlyphs\" textLength=\"64\" x=\"350\" y=\"158.0669\">«depend»</text></a><!--MD5=[1b7591eae5389033d8d09a9d6721a717]\n",
       "link E4 to E5--><a href=\"psysml:aeab59fe-e3bd-4e23-96a4-136d0d468de6\" target=\"_top\" title=\"psysml:aeab59fe-e3bd-4e23-96a4-136d0d468de6\" xlink:actuate=\"onRequest\" xlink:href=\"psysml:aeab59fe-e3bd-4e23-96a4-136d0d468de6\" xlink:show=\"new\" xlink:title=\"psysml:aeab59fe-e3bd-4e23-96a4-136d0d468de6\" xlink:type=\"simple\"><path d=\"M349,223.24 C349,223.24 349,247.78 349,247.78 \" fill=\"none\" id=\"E4-&gt;E5\" style=\"stroke: #383838; stroke-width: 1.0; stroke-dasharray: 7.0,7.0;\"/><polygon fill=\"#383838\" points=\"349,255.78,352,247.78,346,247.78,349,255.78\" style=\"stroke: #383838; stroke-width: 1.0;\"/><text fill=\"#000000\" font-family=\"sans-serif\" font-size=\"13\" lengthAdjust=\"spacingAndGlyphs\" textLength=\"64\" x=\"350\" y=\"244.0669\">«depend»</text></a><!--MD5=[c5e8897d989ce984f93528998a7150fe]\n",
       "link E8 to E6--><a href=\"psysml:e01a683f-5a6a-44b0-a0de-a423aeb5ad40\" target=\"_top\" title=\"psysml:e01a683f-5a6a-44b0-a0de-a423aeb5ad40\" xlink:actuate=\"onRequest\" xlink:href=\"psysml:e01a683f-5a6a-44b0-a0de-a423aeb5ad40\" xlink:show=\"new\" xlink:title=\"psysml:e01a683f-5a6a-44b0-a0de-a423aeb5ad40\" xlink:type=\"simple\"><path d=\"M95.5,132.2 C95.5,132.2 95.5,166.81 95.5,166.81 \" fill=\"none\" id=\"E8-&gt;E6\" style=\"stroke: #383838; stroke-width: 1.0; stroke-dasharray: 7.0,7.0;\"/><polygon fill=\"#383838\" points=\"95.5,174.81,98.5,166.81,92.5,166.81,95.5,174.81\" style=\"stroke: #383838; stroke-width: 1.0;\"/><text fill=\"#000000\" font-family=\"sans-serif\" font-size=\"13\" lengthAdjust=\"spacingAndGlyphs\" textLength=\"64\" x=\"68\" y=\"158.0669\">«depend»</text></a><!--MD5=[bfa3c8b0d15052fdf50ae9310b491027]\n",
       "link E8 to E7--><a href=\"psysml:e01a683f-5a6a-44b0-a0de-a423aeb5ad40\" target=\"_top\" title=\"psysml:e01a683f-5a6a-44b0-a0de-a423aeb5ad40\" xlink:actuate=\"onRequest\" xlink:href=\"psysml:e01a683f-5a6a-44b0-a0de-a423aeb5ad40\" xlink:show=\"new\" xlink:title=\"psysml:e01a683f-5a6a-44b0-a0de-a423aeb5ad40\" xlink:type=\"simple\"><path d=\"M151,132.2 C151,132.2 151,166.81 151,166.81 \" fill=\"none\" id=\"E8-&gt;E7\" style=\"stroke: #383838; stroke-width: 1.0; stroke-dasharray: 7.0,7.0;\"/><polygon fill=\"#383838\" points=\"151,174.81,154,166.81,148,166.81,151,174.81\" style=\"stroke: #383838; stroke-width: 1.0;\"/><text fill=\"#000000\" font-family=\"sans-serif\" font-size=\"13\" lengthAdjust=\"spacingAndGlyphs\" textLength=\"64\" x=\"174\" y=\"158.0669\">«depend»</text></a><!--MD5=[a628be8eedbf2b4149607856821e7b4b]\n",
       "@startuml\r\n",
       "skinparam ranksep 8\r\n",
       "skinparam rectangle {\r\n",
       " backgroundColor<<block>> LightGreen\r\n",
       "}\r\n",
       "skinparam linetype ortho\r\n",
       "skinparam monochrome true\r\n",
       "skinparam classbackgroundcolor white\r\n",
       "skinparam shadowing false\r\n",
       "skinparam wrapWidth 300\r\n",
       "hide circle\r\n",
       "\r\n",
       "package \"DependencyTest\" as E1  [[psysml:c069fb4a-0cab-46ce-ae30-79221b6c6030 ]]  {\r\n",
       "package \"System\" as E2  [[psysml:0036a7be-5206-4df9-ab28-301972427778 ]]  {\r\n",
       "package \"Application Layer\" as E3  [[psysml:b9058297-d753-442e-8571-9bee33c166c8 ]]  {\r\n",
       "}\r\n",
       "package \"Service Layer\" as E4  [[psysml:f007974c-308f-4828-8f2c-f39213f4e302 ]]  {\r\n",
       "}\r\n",
       "package \"Data Layer\" as E5  [[psysml:7870e797-441e-4743-978b-6b23dab0b8d1 ]]  {\r\n",
       "}\r\n",
       "}\r\n",
       "rec usage \"x\" as E6  <<(T,blue)attribute>> [[psysml:ca3c2c7b-3718-4538-a84c-29984e19a6f6 ]] {\r\n",
       "}\r\n",
       "rec usage \"y\" as E7  <<(T,blue)attribute>> [[psysml:f187cc38-895f-43c9-b55f-372a79474975 ]] {\r\n",
       "}\r\n",
       "rec usage \"z\" as E8  <<(T,blue)attribute>> [[psysml:c8a5167c-621d-4bfa-8ffa-e3ed6a854bed ]] {\r\n",
       "}\r\n",
       "E3 ..>> E4 [[psysml:af0245ca-a479-404d-840a-c478ec8f55f1 ]] : <<depend>>\r\n",
       "E4 ..>> E5 [[psysml:aeab59fe-e3bd-4e23-96a4-136d0d468de6 ]] : <<depend>>\r\n",
       "E8 ..>> E6 [[psysml:e01a683f-5a6a-44b0-a0de-a423aeb5ad40 ]] : <<depend>>\r\n",
       "E8 ..>> E7 [[psysml:e01a683f-5a6a-44b0-a0de-a423aeb5ad40 ]] : <<depend>>\r\n",
       "}\r\n",
       "@enduml\r\n",
       "\n",
       "PlantUML version 1.2020.13(Sat Jun 13 12:26:38 UTC 2020)\n",
       "(EPL source distribution)\n",
       "Java Runtime: OpenJDK Runtime Environment\n",
       "JVM: OpenJDK 64-Bit Server VM\n",
       "Default Encoding: UTF-8\n",
       "Language: en\n",
       "Country: null\n",
       "--></g></svg>"
      ]
     },
     "execution_count": 54,
     "metadata": {},
     "output_type": "execute_result"
    }
   ],
   "source": [
    "%viz --style=\"ORTHOLINE\" --view=\"Interconnection\" \"DependencyTest\""
   ]
  },
  {
   "cell_type": "code",
   "execution_count": 55,
   "id": "quarterly-packing",
   "metadata": {
    "execution": {
     "iopub.execute_input": "2021-03-26T13:04:36.099476Z",
     "iopub.status.busy": "2021-03-26T13:04:36.099111Z",
     "iopub.status.idle": "2021-03-26T13:04:36.103145Z",
     "shell.execute_reply": "2021-03-26T13:04:36.102822Z"
    }
   },
   "outputs": [
    {
     "data": {
      "image/svg+xml": [
       "<?xml version=\"1.0\" encoding=\"UTF-8\" standalone=\"no\"?><svg xmlns=\"http://www.w3.org/2000/svg\" xmlns:xlink=\"http://www.w3.org/1999/xlink\" contentScriptType=\"application/ecmascript\" contentStyleType=\"text/css\" height=\"12px\" preserveAspectRatio=\"none\" style=\"width:12px;height:12px;\" version=\"1.1\" viewBox=\"0 0 12 12\" width=\"12px\" zoomAndPan=\"magnify\"><defs/><g><!--MD5=[72934c63077099a26744516a776b4749]\n",
       "@startuml\r\n",
       "skinparam ranksep 8\r\n",
       "skinparam linetype ortho\r\n",
       "skinparam monochrome true\r\n",
       "skinparam classbackgroundcolor white\r\n",
       "skinparam shadowing false\r\n",
       "skinparam wrapWidth 300\r\n",
       "hide circle\r\n",
       "\r\n",
       "@enduml\r\n",
       "\n",
       "PlantUML version 1.2020.13(Sat Jun 13 12:26:38 UTC 2020)\n",
       "(EPL source distribution)\n",
       "Java Runtime: OpenJDK Runtime Environment\n",
       "JVM: OpenJDK 64-Bit Server VM\n",
       "Default Encoding: UTF-8\n",
       "Language: en\n",
       "Country: null\n",
       "--></g></svg>"
      ]
     },
     "execution_count": 55,
     "metadata": {},
     "output_type": "execute_result"
    }
   ],
   "source": [
    "%viz --style=\"ORTHOLINE\" --view=\"Action\" \"DependencyTest\""
   ]
  },
  {
   "cell_type": "code",
   "execution_count": 56,
   "id": "independent-ambassador",
   "metadata": {
    "execution": {
     "iopub.execute_input": "2021-03-26T13:04:36.153200Z",
     "iopub.status.busy": "2021-03-26T13:04:36.152816Z",
     "iopub.status.idle": "2021-03-26T13:04:36.179522Z",
     "shell.execute_reply": "2021-03-26T13:04:36.178386Z"
    }
   },
   "outputs": [
    {
     "data": {
      "image/svg+xml": [
       "<?xml version=\"1.0\" encoding=\"UTF-8\" standalone=\"no\"?><svg xmlns=\"http://www.w3.org/2000/svg\" xmlns:xlink=\"http://www.w3.org/1999/xlink\" contentScriptType=\"application/ecmascript\" contentStyleType=\"text/css\" height=\"449px\" preserveAspectRatio=\"none\" style=\"width:489px;height:449px;\" version=\"1.1\" viewBox=\"0 0 489 449\" width=\"489px\" zoomAndPan=\"magnify\"><defs/><g><!--MD5=[fbc87193dbaf4d95561dea2c320d4a47]\n",
       "cluster E1--><a href=\"psysml:c069fb4a-0cab-46ce-ae30-79221b6c6030\" target=\"_top\" title=\"psysml:c069fb4a-0cab-46ce-ae30-79221b6c6030\" xlink:actuate=\"onRequest\" xlink:href=\"psysml:c069fb4a-0cab-46ce-ae30-79221b6c6030\" xlink:show=\"new\" xlink:title=\"psysml:c069fb4a-0cab-46ce-ae30-79221b6c6030\" xlink:type=\"simple\"><polygon fill=\"#FFFFFF\" points=\"16,6,156,6,163,28.2969,467,28.2969,467,437,16,437,16,6\" style=\"stroke: #000000; stroke-width: 1.5;\"/><line style=\"stroke: #000000; stroke-width: 1.5;\" x1=\"16\" x2=\"163\" y1=\"28.2969\" y2=\"28.2969\"/><text fill=\"#000000\" font-family=\"sans-serif\" font-size=\"14\" font-weight=\"bold\" lengthAdjust=\"spacingAndGlyphs\" textLength=\"134\" x=\"20\" y=\"20.9951\">DependencyTest</text></a><!--MD5=[e4f7fae6ed58524ba242bb0b0d3be6b7]\n",
       "cluster E2--><a href=\"psysml:0036a7be-5206-4df9-ab28-301972427778\" target=\"_top\" title=\"psysml:0036a7be-5206-4df9-ab28-301972427778\" xlink:actuate=\"onRequest\" xlink:href=\"psysml:0036a7be-5206-4df9-ab28-301972427778\" xlink:show=\"new\" xlink:title=\"psysml:0036a7be-5206-4df9-ab28-301972427778\" xlink:type=\"simple\"><polygon fill=\"#FFFFFF\" points=\"255,49,319,49,326,71.2969,443,71.2969,443,413,255,413,255,49\" style=\"stroke: #000000; stroke-width: 1.5;\"/><line style=\"stroke: #000000; stroke-width: 1.5;\" x1=\"255\" x2=\"326\" y1=\"71.2969\" y2=\"71.2969\"/><text fill=\"#000000\" font-family=\"sans-serif\" font-size=\"14\" font-weight=\"bold\" lengthAdjust=\"spacingAndGlyphs\" textLength=\"58\" x=\"259\" y=\"63.9951\">System</text></a><!--MD5=[60a26617385b1d2d0262a64233df1f8d]\n",
       "class E6--><a href=\"psysml:ca3c2c7b-3718-4538-a84c-29984e19a6f6\" target=\"_top\" title=\"psysml:ca3c2c7b-3718-4538-a84c-29984e19a6f6\" xlink:actuate=\"onRequest\" xlink:href=\"psysml:ca3c2c7b-3718-4538-a84c-29984e19a6f6\" xlink:show=\"new\" xlink:title=\"psysml:ca3c2c7b-3718-4538-a84c-29984e19a6f6\" xlink:type=\"simple\"><rect fill=\"#FFFFFF\" height=\"45.9375\" id=\"E6\" rx=\"10\" ry=\"10\" style=\"stroke: #383838; stroke-width: 1.5;\" width=\"71\" x=\"32.5\" y=\"217.5\"/><text fill=\"#000000\" font-family=\"sans-serif\" font-size=\"12\" font-style=\"italic\" lengthAdjust=\"spacingAndGlyphs\" textLength=\"69\" x=\"33.5\" y=\"233.6387\">«attribute»</text><text fill=\"#000000\" font-family=\"sans-serif\" font-size=\"12\" lengthAdjust=\"spacingAndGlyphs\" textLength=\"6\" x=\"65\" y=\"247.6074\">x</text><line style=\"stroke: #383838; stroke-width: 1.5;\" x1=\"33.5\" x2=\"102.5\" y1=\"255.4375\" y2=\"255.4375\"/></a><!--MD5=[2156ba9850f5573cc1fc38a6a4b2f02b]\n",
       "class E7--><a href=\"psysml:f187cc38-895f-43c9-b55f-372a79474975\" target=\"_top\" title=\"psysml:f187cc38-895f-43c9-b55f-372a79474975\" xlink:actuate=\"onRequest\" xlink:href=\"psysml:f187cc38-895f-43c9-b55f-372a79474975\" xlink:show=\"new\" xlink:title=\"psysml:f187cc38-895f-43c9-b55f-372a79474975\" xlink:type=\"simple\"><rect fill=\"#FFFFFF\" height=\"45.9375\" id=\"E7\" rx=\"10\" ry=\"10\" style=\"stroke: #383838; stroke-width: 1.5;\" width=\"71\" x=\"138.5\" y=\"217.5\"/><text fill=\"#000000\" font-family=\"sans-serif\" font-size=\"12\" font-style=\"italic\" lengthAdjust=\"spacingAndGlyphs\" textLength=\"69\" x=\"139.5\" y=\"233.6387\">«attribute»</text><text fill=\"#000000\" font-family=\"sans-serif\" font-size=\"12\" lengthAdjust=\"spacingAndGlyphs\" textLength=\"6\" x=\"171\" y=\"247.6074\">y</text><line style=\"stroke: #383838; stroke-width: 1.5;\" x1=\"139.5\" x2=\"208.5\" y1=\"255.4375\" y2=\"255.4375\"/></a><!--MD5=[b9389687b975829384b498ac4b7476b2]\n",
       "class E8--><a href=\"psysml:c8a5167c-621d-4bfa-8ffa-e3ed6a854bed\" target=\"_top\" title=\"psysml:c8a5167c-621d-4bfa-8ffa-e3ed6a854bed\" xlink:actuate=\"onRequest\" xlink:href=\"psysml:c8a5167c-621d-4bfa-8ffa-e3ed6a854bed\" xlink:show=\"new\" xlink:title=\"psysml:c8a5167c-621d-4bfa-8ffa-e3ed6a854bed\" xlink:type=\"simple\"><rect fill=\"#FFFFFF\" height=\"45.9375\" id=\"E8\" rx=\"10\" ry=\"10\" style=\"stroke: #383838; stroke-width: 1.5;\" width=\"71\" x=\"84.5\" y=\"87.5\"/><text fill=\"#000000\" font-family=\"sans-serif\" font-size=\"12\" font-style=\"italic\" lengthAdjust=\"spacingAndGlyphs\" textLength=\"69\" x=\"85.5\" y=\"103.6387\">«attribute»</text><text fill=\"#000000\" font-family=\"sans-serif\" font-size=\"12\" lengthAdjust=\"spacingAndGlyphs\" textLength=\"5\" x=\"117.5\" y=\"117.6074\">z</text><line style=\"stroke: #383838; stroke-width: 1.5;\" x1=\"85.5\" x2=\"154.5\" y1=\"125.4375\" y2=\"125.4375\"/></a><a href=\"psysml:b9058297-d753-442e-8571-9bee33c166c8\" target=\"_top\" title=\"psysml:b9058297-d753-442e-8571-9bee33c166c8\" xlink:actuate=\"onRequest\" xlink:href=\"psysml:b9058297-d753-442e-8571-9bee33c166c8\" xlink:show=\"new\" xlink:title=\"psysml:b9058297-d753-442e-8571-9bee33c166c8\" xlink:type=\"simple\"><polygon fill=\"#FFFFFF\" points=\"271,84,413,84,420,106.2969,427,106.2969,427,136.5938,271,136.5938,271,84\" style=\"stroke: #000000; stroke-width: 1.5;\"/><line style=\"stroke: #000000; stroke-width: 1.5;\" x1=\"271\" x2=\"420\" y1=\"106.2969\" y2=\"106.2969\"/><text fill=\"#000000\" font-family=\"sans-serif\" font-size=\"14\" font-weight=\"bold\" lengthAdjust=\"spacingAndGlyphs\" textLength=\"136\" x=\"275\" y=\"98.9951\">Application Layer</text></a><a href=\"psysml:f007974c-308f-4828-8f2c-f39213f4e302\" target=\"_top\" title=\"psysml:f007974c-308f-4828-8f2c-f39213f4e302\" xlink:actuate=\"onRequest\" xlink:href=\"psysml:f007974c-308f-4828-8f2c-f39213f4e302\" xlink:show=\"new\" xlink:title=\"psysml:f007974c-308f-4828-8f2c-f39213f4e302\" xlink:type=\"simple\"><polygon fill=\"#FFFFFF\" points=\"285,214,399,214,406,236.2969,413,236.2969,413,266.5938,285,266.5938,285,214\" style=\"stroke: #000000; stroke-width: 1.5;\"/><line style=\"stroke: #000000; stroke-width: 1.5;\" x1=\"285\" x2=\"406\" y1=\"236.2969\" y2=\"236.2969\"/><text fill=\"#000000\" font-family=\"sans-serif\" font-size=\"14\" font-weight=\"bold\" lengthAdjust=\"spacingAndGlyphs\" textLength=\"108\" x=\"289\" y=\"228.9951\">Service Layer</text></a><a href=\"psysml:7870e797-441e-4743-978b-6b23dab0b8d1\" target=\"_top\" title=\"psysml:7870e797-441e-4743-978b-6b23dab0b8d1\" xlink:actuate=\"onRequest\" xlink:href=\"psysml:7870e797-441e-4743-978b-6b23dab0b8d1\" xlink:show=\"new\" xlink:title=\"psysml:7870e797-441e-4743-978b-6b23dab0b8d1\" xlink:type=\"simple\"><polygon fill=\"#FFFFFF\" points=\"297,344,387,344,394,366.2969,401,366.2969,401,396.5938,297,396.5938,297,344\" style=\"stroke: #000000; stroke-width: 1.5;\"/><line style=\"stroke: #000000; stroke-width: 1.5;\" x1=\"297\" x2=\"394\" y1=\"366.2969\" y2=\"366.2969\"/><text fill=\"#000000\" font-family=\"sans-serif\" font-size=\"14\" font-weight=\"bold\" lengthAdjust=\"spacingAndGlyphs\" textLength=\"84\" x=\"301\" y=\"358.9951\">Data Layer</text></a><!--MD5=[af87c684e3b0d8be13c1a698a818ef1e]\n",
       "link E3 to E4--><a href=\"psysml:af0245ca-a479-404d-840a-c478ec8f55f1\" target=\"_top\" title=\"psysml:af0245ca-a479-404d-840a-c478ec8f55f1\" xlink:actuate=\"onRequest\" xlink:href=\"psysml:af0245ca-a479-404d-840a-c478ec8f55f1\" xlink:show=\"new\" xlink:title=\"psysml:af0245ca-a479-404d-840a-c478ec8f55f1\" xlink:type=\"simple\"><path d=\"M349,137.12 C349,137.12 349,205.91 349,205.91 \" fill=\"none\" id=\"E3-&gt;E4\" style=\"stroke: #383838; stroke-width: 1.0; stroke-dasharray: 7.0,7.0;\"/><polygon fill=\"#383838\" points=\"349,213.91,352,205.91,346,205.91,349,213.91\" style=\"stroke: #383838; stroke-width: 1.0;\"/><text fill=\"#000000\" font-family=\"sans-serif\" font-size=\"13\" lengthAdjust=\"spacingAndGlyphs\" textLength=\"64\" x=\"350\" y=\"180.0669\">«depend»</text></a><!--MD5=[1b7591eae5389033d8d09a9d6721a717]\n",
       "link E4 to E5--><a href=\"psysml:aeab59fe-e3bd-4e23-96a4-136d0d468de6\" target=\"_top\" title=\"psysml:aeab59fe-e3bd-4e23-96a4-136d0d468de6\" xlink:actuate=\"onRequest\" xlink:href=\"psysml:aeab59fe-e3bd-4e23-96a4-136d0d468de6\" xlink:show=\"new\" xlink:title=\"psysml:aeab59fe-e3bd-4e23-96a4-136d0d468de6\" xlink:type=\"simple\"><path d=\"M349,267.12 C349,267.12 349,335.91 349,335.91 \" fill=\"none\" id=\"E4-&gt;E5\" style=\"stroke: #383838; stroke-width: 1.0; stroke-dasharray: 7.0,7.0;\"/><polygon fill=\"#383838\" points=\"349,343.91,352,335.91,346,335.91,349,343.91\" style=\"stroke: #383838; stroke-width: 1.0;\"/><text fill=\"#000000\" font-family=\"sans-serif\" font-size=\"13\" lengthAdjust=\"spacingAndGlyphs\" textLength=\"64\" x=\"350\" y=\"310.0669\">«depend»</text></a><!--MD5=[c5e8897d989ce984f93528998a7150fe]\n",
       "link E8 to E6--><a href=\"psysml:e01a683f-5a6a-44b0-a0de-a423aeb5ad40\" target=\"_top\" title=\"psysml:e01a683f-5a6a-44b0-a0de-a423aeb5ad40\" xlink:actuate=\"onRequest\" xlink:href=\"psysml:e01a683f-5a6a-44b0-a0de-a423aeb5ad40\" xlink:show=\"new\" xlink:title=\"psysml:e01a683f-5a6a-44b0-a0de-a423aeb5ad40\" xlink:type=\"simple\"><path d=\"M94,133.74 C94,133.74 94,209.46 94,209.46 \" fill=\"none\" id=\"E8-&gt;E6\" style=\"stroke: #383838; stroke-width: 1.0; stroke-dasharray: 7.0,7.0;\"/><polygon fill=\"#383838\" points=\"94,217.46,97,209.46,91,209.46,94,217.46\" style=\"stroke: #383838; stroke-width: 1.0;\"/><text fill=\"#000000\" font-family=\"sans-serif\" font-size=\"13\" lengthAdjust=\"spacingAndGlyphs\" textLength=\"64\" x=\"68\" y=\"180.0669\">«depend»</text></a><!--MD5=[bfa3c8b0d15052fdf50ae9310b491027]\n",
       "link E8 to E7--><a href=\"psysml:e01a683f-5a6a-44b0-a0de-a423aeb5ad40\" target=\"_top\" title=\"psysml:e01a683f-5a6a-44b0-a0de-a423aeb5ad40\" xlink:actuate=\"onRequest\" xlink:href=\"psysml:e01a683f-5a6a-44b0-a0de-a423aeb5ad40\" xlink:show=\"new\" xlink:title=\"psysml:e01a683f-5a6a-44b0-a0de-a423aeb5ad40\" xlink:type=\"simple\"><path d=\"M147,133.74 C147,133.74 147,209.46 147,209.46 \" fill=\"none\" id=\"E8-&gt;E7\" style=\"stroke: #383838; stroke-width: 1.0; stroke-dasharray: 7.0,7.0;\"/><polygon fill=\"#383838\" points=\"147,217.46,150,209.46,144,209.46,147,217.46\" style=\"stroke: #383838; stroke-width: 1.0;\"/><text fill=\"#000000\" font-family=\"sans-serif\" font-size=\"13\" lengthAdjust=\"spacingAndGlyphs\" textLength=\"64\" x=\"174\" y=\"180.0669\">«depend»</text></a><!--MD5=[1b0b85f6148c07bcde807e562fc127d0]\n",
       "@startuml\r\n",
       "skinparam linetype ortho\r\n",
       "skinparam monochrome true\r\n",
       "skinparam classbackgroundcolor white\r\n",
       "skinparam shadowing false\r\n",
       "skinparam wrapWidth 300\r\n",
       "hide circle\r\n",
       "\r\n",
       "package \"DependencyTest\" as E1  [[psysml:c069fb4a-0cab-46ce-ae30-79221b6c6030 ]]  {\r\n",
       "package \"System\" as E2  [[psysml:0036a7be-5206-4df9-ab28-301972427778 ]]  {\r\n",
       "package \"Application Layer\" as E3  [[psysml:b9058297-d753-442e-8571-9bee33c166c8 ]]  {\r\n",
       "}\r\n",
       "package \"Service Layer\" as E4  [[psysml:f007974c-308f-4828-8f2c-f39213f4e302 ]]  {\r\n",
       "}\r\n",
       "package \"Data Layer\" as E5  [[psysml:7870e797-441e-4743-978b-6b23dab0b8d1 ]]  {\r\n",
       "}\r\n",
       "}\r\n",
       "comp usage \"x\" as E6  <<(T,blue)attribute>> [[psysml:ca3c2c7b-3718-4538-a84c-29984e19a6f6 ]] {\r\n",
       "}\r\n",
       "comp usage \"y\" as E7  <<(T,blue)attribute>> [[psysml:f187cc38-895f-43c9-b55f-372a79474975 ]] {\r\n",
       "}\r\n",
       "comp usage \"z\" as E8  <<(T,blue)attribute>> [[psysml:c8a5167c-621d-4bfa-8ffa-e3ed6a854bed ]] {\r\n",
       "}\r\n",
       "E3 ..>> E4 [[psysml:af0245ca-a479-404d-840a-c478ec8f55f1 ]] : <<depend>>\r\n",
       "E4 ..>> E5 [[psysml:aeab59fe-e3bd-4e23-96a4-136d0d468de6 ]] : <<depend>>\r\n",
       "E8 ..>> E6 [[psysml:e01a683f-5a6a-44b0-a0de-a423aeb5ad40 ]] : <<depend>>\r\n",
       "E8 ..>> E7 [[psysml:e01a683f-5a6a-44b0-a0de-a423aeb5ad40 ]] : <<depend>>\r\n",
       "}\r\n",
       "@enduml\r\n",
       "\n",
       "PlantUML version 1.2020.13(Sat Jun 13 12:26:38 UTC 2020)\n",
       "(EPL source distribution)\n",
       "Java Runtime: OpenJDK Runtime Environment\n",
       "JVM: OpenJDK 64-Bit Server VM\n",
       "Default Encoding: UTF-8\n",
       "Language: en\n",
       "Country: null\n",
       "--></g></svg>"
      ]
     },
     "execution_count": 56,
     "metadata": {},
     "output_type": "execute_result"
    }
   ],
   "source": [
    "%viz --style=\"ORTHOLINE\" --view=\"Sequence\" \"DependencyTest\""
   ]
  },
  {
   "cell_type": "code",
   "execution_count": 57,
   "id": "looking-turkish",
   "metadata": {
    "execution": {
     "iopub.execute_input": "2021-03-26T13:04:36.230964Z",
     "iopub.status.busy": "2021-03-26T13:04:36.230188Z",
     "iopub.status.idle": "2021-03-26T13:04:36.261688Z",
     "shell.execute_reply": "2021-03-26T13:04:36.260379Z"
    }
   },
   "outputs": [
    {
     "data": {
      "image/svg+xml": [
       "<?xml version=\"1.0\" encoding=\"UTF-8\" standalone=\"no\"?><svg xmlns=\"http://www.w3.org/2000/svg\" xmlns:xlink=\"http://www.w3.org/1999/xlink\" contentScriptType=\"application/ecmascript\" contentStyleType=\"text/css\" height=\"449px\" preserveAspectRatio=\"none\" style=\"width:489px;height:449px;\" version=\"1.1\" viewBox=\"0 0 489 449\" width=\"489px\" zoomAndPan=\"magnify\"><defs/><g><!--MD5=[fbc87193dbaf4d95561dea2c320d4a47]\n",
       "cluster E1--><a href=\"psysml:c069fb4a-0cab-46ce-ae30-79221b6c6030\" target=\"_top\" title=\"psysml:c069fb4a-0cab-46ce-ae30-79221b6c6030\" xlink:actuate=\"onRequest\" xlink:href=\"psysml:c069fb4a-0cab-46ce-ae30-79221b6c6030\" xlink:show=\"new\" xlink:title=\"psysml:c069fb4a-0cab-46ce-ae30-79221b6c6030\" xlink:type=\"simple\"><polygon fill=\"#FFFFFF\" points=\"16,6,156,6,163,28.2969,467,28.2969,467,437,16,437,16,6\" style=\"stroke: #000000; stroke-width: 1.5;\"/><line style=\"stroke: #000000; stroke-width: 1.5;\" x1=\"16\" x2=\"163\" y1=\"28.2969\" y2=\"28.2969\"/><text fill=\"#000000\" font-family=\"sans-serif\" font-size=\"14\" font-weight=\"bold\" lengthAdjust=\"spacingAndGlyphs\" textLength=\"134\" x=\"20\" y=\"20.9951\">DependencyTest</text></a><!--MD5=[e4f7fae6ed58524ba242bb0b0d3be6b7]\n",
       "cluster E2--><a href=\"psysml:0036a7be-5206-4df9-ab28-301972427778\" target=\"_top\" title=\"psysml:0036a7be-5206-4df9-ab28-301972427778\" xlink:actuate=\"onRequest\" xlink:href=\"psysml:0036a7be-5206-4df9-ab28-301972427778\" xlink:show=\"new\" xlink:title=\"psysml:0036a7be-5206-4df9-ab28-301972427778\" xlink:type=\"simple\"><polygon fill=\"#FFFFFF\" points=\"255,49,319,49,326,71.2969,443,71.2969,443,413,255,413,255,49\" style=\"stroke: #000000; stroke-width: 1.5;\"/><line style=\"stroke: #000000; stroke-width: 1.5;\" x1=\"255\" x2=\"326\" y1=\"71.2969\" y2=\"71.2969\"/><text fill=\"#000000\" font-family=\"sans-serif\" font-size=\"14\" font-weight=\"bold\" lengthAdjust=\"spacingAndGlyphs\" textLength=\"58\" x=\"259\" y=\"63.9951\">System</text></a><!--MD5=[60a26617385b1d2d0262a64233df1f8d]\n",
       "class E6--><a href=\"psysml:ca3c2c7b-3718-4538-a84c-29984e19a6f6\" target=\"_top\" title=\"psysml:ca3c2c7b-3718-4538-a84c-29984e19a6f6\" xlink:actuate=\"onRequest\" xlink:href=\"psysml:ca3c2c7b-3718-4538-a84c-29984e19a6f6\" xlink:show=\"new\" xlink:title=\"psysml:ca3c2c7b-3718-4538-a84c-29984e19a6f6\" xlink:type=\"simple\"><rect fill=\"#FFFFFF\" height=\"45.9375\" id=\"E6\" rx=\"10\" ry=\"10\" style=\"stroke: #383838; stroke-width: 1.5;\" width=\"71\" x=\"32.5\" y=\"217.5\"/><text fill=\"#000000\" font-family=\"sans-serif\" font-size=\"12\" font-style=\"italic\" lengthAdjust=\"spacingAndGlyphs\" textLength=\"69\" x=\"33.5\" y=\"233.6387\">«attribute»</text><text fill=\"#000000\" font-family=\"sans-serif\" font-size=\"12\" lengthAdjust=\"spacingAndGlyphs\" textLength=\"6\" x=\"65\" y=\"247.6074\">x</text><line style=\"stroke: #383838; stroke-width: 1.5;\" x1=\"33.5\" x2=\"102.5\" y1=\"255.4375\" y2=\"255.4375\"/></a><!--MD5=[2156ba9850f5573cc1fc38a6a4b2f02b]\n",
       "class E7--><a href=\"psysml:f187cc38-895f-43c9-b55f-372a79474975\" target=\"_top\" title=\"psysml:f187cc38-895f-43c9-b55f-372a79474975\" xlink:actuate=\"onRequest\" xlink:href=\"psysml:f187cc38-895f-43c9-b55f-372a79474975\" xlink:show=\"new\" xlink:title=\"psysml:f187cc38-895f-43c9-b55f-372a79474975\" xlink:type=\"simple\"><rect fill=\"#FFFFFF\" height=\"45.9375\" id=\"E7\" rx=\"10\" ry=\"10\" style=\"stroke: #383838; stroke-width: 1.5;\" width=\"71\" x=\"138.5\" y=\"217.5\"/><text fill=\"#000000\" font-family=\"sans-serif\" font-size=\"12\" font-style=\"italic\" lengthAdjust=\"spacingAndGlyphs\" textLength=\"69\" x=\"139.5\" y=\"233.6387\">«attribute»</text><text fill=\"#000000\" font-family=\"sans-serif\" font-size=\"12\" lengthAdjust=\"spacingAndGlyphs\" textLength=\"6\" x=\"171\" y=\"247.6074\">y</text><line style=\"stroke: #383838; stroke-width: 1.5;\" x1=\"139.5\" x2=\"208.5\" y1=\"255.4375\" y2=\"255.4375\"/></a><!--MD5=[b9389687b975829384b498ac4b7476b2]\n",
       "class E8--><a href=\"psysml:c8a5167c-621d-4bfa-8ffa-e3ed6a854bed\" target=\"_top\" title=\"psysml:c8a5167c-621d-4bfa-8ffa-e3ed6a854bed\" xlink:actuate=\"onRequest\" xlink:href=\"psysml:c8a5167c-621d-4bfa-8ffa-e3ed6a854bed\" xlink:show=\"new\" xlink:title=\"psysml:c8a5167c-621d-4bfa-8ffa-e3ed6a854bed\" xlink:type=\"simple\"><rect fill=\"#FFFFFF\" height=\"45.9375\" id=\"E8\" rx=\"10\" ry=\"10\" style=\"stroke: #383838; stroke-width: 1.5;\" width=\"71\" x=\"84.5\" y=\"87.5\"/><text fill=\"#000000\" font-family=\"sans-serif\" font-size=\"12\" font-style=\"italic\" lengthAdjust=\"spacingAndGlyphs\" textLength=\"69\" x=\"85.5\" y=\"103.6387\">«attribute»</text><text fill=\"#000000\" font-family=\"sans-serif\" font-size=\"12\" lengthAdjust=\"spacingAndGlyphs\" textLength=\"5\" x=\"117.5\" y=\"117.6074\">z</text><line style=\"stroke: #383838; stroke-width: 1.5;\" x1=\"85.5\" x2=\"154.5\" y1=\"125.4375\" y2=\"125.4375\"/></a><a href=\"psysml:b9058297-d753-442e-8571-9bee33c166c8\" target=\"_top\" title=\"psysml:b9058297-d753-442e-8571-9bee33c166c8\" xlink:actuate=\"onRequest\" xlink:href=\"psysml:b9058297-d753-442e-8571-9bee33c166c8\" xlink:show=\"new\" xlink:title=\"psysml:b9058297-d753-442e-8571-9bee33c166c8\" xlink:type=\"simple\"><polygon fill=\"#FFFFFF\" points=\"271,84,413,84,420,106.2969,427,106.2969,427,136.5938,271,136.5938,271,84\" style=\"stroke: #000000; stroke-width: 1.5;\"/><line style=\"stroke: #000000; stroke-width: 1.5;\" x1=\"271\" x2=\"420\" y1=\"106.2969\" y2=\"106.2969\"/><text fill=\"#000000\" font-family=\"sans-serif\" font-size=\"14\" font-weight=\"bold\" lengthAdjust=\"spacingAndGlyphs\" textLength=\"136\" x=\"275\" y=\"98.9951\">Application Layer</text></a><a href=\"psysml:f007974c-308f-4828-8f2c-f39213f4e302\" target=\"_top\" title=\"psysml:f007974c-308f-4828-8f2c-f39213f4e302\" xlink:actuate=\"onRequest\" xlink:href=\"psysml:f007974c-308f-4828-8f2c-f39213f4e302\" xlink:show=\"new\" xlink:title=\"psysml:f007974c-308f-4828-8f2c-f39213f4e302\" xlink:type=\"simple\"><polygon fill=\"#FFFFFF\" points=\"285,214,399,214,406,236.2969,413,236.2969,413,266.5938,285,266.5938,285,214\" style=\"stroke: #000000; stroke-width: 1.5;\"/><line style=\"stroke: #000000; stroke-width: 1.5;\" x1=\"285\" x2=\"406\" y1=\"236.2969\" y2=\"236.2969\"/><text fill=\"#000000\" font-family=\"sans-serif\" font-size=\"14\" font-weight=\"bold\" lengthAdjust=\"spacingAndGlyphs\" textLength=\"108\" x=\"289\" y=\"228.9951\">Service Layer</text></a><a href=\"psysml:7870e797-441e-4743-978b-6b23dab0b8d1\" target=\"_top\" title=\"psysml:7870e797-441e-4743-978b-6b23dab0b8d1\" xlink:actuate=\"onRequest\" xlink:href=\"psysml:7870e797-441e-4743-978b-6b23dab0b8d1\" xlink:show=\"new\" xlink:title=\"psysml:7870e797-441e-4743-978b-6b23dab0b8d1\" xlink:type=\"simple\"><polygon fill=\"#FFFFFF\" points=\"297,344,387,344,394,366.2969,401,366.2969,401,396.5938,297,396.5938,297,344\" style=\"stroke: #000000; stroke-width: 1.5;\"/><line style=\"stroke: #000000; stroke-width: 1.5;\" x1=\"297\" x2=\"394\" y1=\"366.2969\" y2=\"366.2969\"/><text fill=\"#000000\" font-family=\"sans-serif\" font-size=\"14\" font-weight=\"bold\" lengthAdjust=\"spacingAndGlyphs\" textLength=\"84\" x=\"301\" y=\"358.9951\">Data Layer</text></a><!--MD5=[af87c684e3b0d8be13c1a698a818ef1e]\n",
       "link E3 to E4--><a href=\"psysml:af0245ca-a479-404d-840a-c478ec8f55f1\" target=\"_top\" title=\"psysml:af0245ca-a479-404d-840a-c478ec8f55f1\" xlink:actuate=\"onRequest\" xlink:href=\"psysml:af0245ca-a479-404d-840a-c478ec8f55f1\" xlink:show=\"new\" xlink:title=\"psysml:af0245ca-a479-404d-840a-c478ec8f55f1\" xlink:type=\"simple\"><path d=\"M349,137.12 C349,137.12 349,205.91 349,205.91 \" fill=\"none\" id=\"E3-&gt;E4\" style=\"stroke: #383838; stroke-width: 1.0; stroke-dasharray: 7.0,7.0;\"/><polygon fill=\"#383838\" points=\"349,213.91,352,205.91,346,205.91,349,213.91\" style=\"stroke: #383838; stroke-width: 1.0;\"/><text fill=\"#000000\" font-family=\"sans-serif\" font-size=\"13\" lengthAdjust=\"spacingAndGlyphs\" textLength=\"64\" x=\"350\" y=\"180.0669\">«depend»</text></a><!--MD5=[1b7591eae5389033d8d09a9d6721a717]\n",
       "link E4 to E5--><a href=\"psysml:aeab59fe-e3bd-4e23-96a4-136d0d468de6\" target=\"_top\" title=\"psysml:aeab59fe-e3bd-4e23-96a4-136d0d468de6\" xlink:actuate=\"onRequest\" xlink:href=\"psysml:aeab59fe-e3bd-4e23-96a4-136d0d468de6\" xlink:show=\"new\" xlink:title=\"psysml:aeab59fe-e3bd-4e23-96a4-136d0d468de6\" xlink:type=\"simple\"><path d=\"M349,267.12 C349,267.12 349,335.91 349,335.91 \" fill=\"none\" id=\"E4-&gt;E5\" style=\"stroke: #383838; stroke-width: 1.0; stroke-dasharray: 7.0,7.0;\"/><polygon fill=\"#383838\" points=\"349,343.91,352,335.91,346,335.91,349,343.91\" style=\"stroke: #383838; stroke-width: 1.0;\"/><text fill=\"#000000\" font-family=\"sans-serif\" font-size=\"13\" lengthAdjust=\"spacingAndGlyphs\" textLength=\"64\" x=\"350\" y=\"310.0669\">«depend»</text></a><!--MD5=[c5e8897d989ce984f93528998a7150fe]\n",
       "link E8 to E6--><a href=\"psysml:e01a683f-5a6a-44b0-a0de-a423aeb5ad40\" target=\"_top\" title=\"psysml:e01a683f-5a6a-44b0-a0de-a423aeb5ad40\" xlink:actuate=\"onRequest\" xlink:href=\"psysml:e01a683f-5a6a-44b0-a0de-a423aeb5ad40\" xlink:show=\"new\" xlink:title=\"psysml:e01a683f-5a6a-44b0-a0de-a423aeb5ad40\" xlink:type=\"simple\"><path d=\"M94,133.74 C94,133.74 94,209.46 94,209.46 \" fill=\"none\" id=\"E8-&gt;E6\" style=\"stroke: #383838; stroke-width: 1.0; stroke-dasharray: 7.0,7.0;\"/><polygon fill=\"#383838\" points=\"94,217.46,97,209.46,91,209.46,94,217.46\" style=\"stroke: #383838; stroke-width: 1.0;\"/><text fill=\"#000000\" font-family=\"sans-serif\" font-size=\"13\" lengthAdjust=\"spacingAndGlyphs\" textLength=\"64\" x=\"68\" y=\"180.0669\">«depend»</text></a><!--MD5=[bfa3c8b0d15052fdf50ae9310b491027]\n",
       "link E8 to E7--><a href=\"psysml:e01a683f-5a6a-44b0-a0de-a423aeb5ad40\" target=\"_top\" title=\"psysml:e01a683f-5a6a-44b0-a0de-a423aeb5ad40\" xlink:actuate=\"onRequest\" xlink:href=\"psysml:e01a683f-5a6a-44b0-a0de-a423aeb5ad40\" xlink:show=\"new\" xlink:title=\"psysml:e01a683f-5a6a-44b0-a0de-a423aeb5ad40\" xlink:type=\"simple\"><path d=\"M147,133.74 C147,133.74 147,209.46 147,209.46 \" fill=\"none\" id=\"E8-&gt;E7\" style=\"stroke: #383838; stroke-width: 1.0; stroke-dasharray: 7.0,7.0;\"/><polygon fill=\"#383838\" points=\"147,217.46,150,209.46,144,209.46,147,217.46\" style=\"stroke: #383838; stroke-width: 1.0;\"/><text fill=\"#000000\" font-family=\"sans-serif\" font-size=\"13\" lengthAdjust=\"spacingAndGlyphs\" textLength=\"64\" x=\"174\" y=\"180.0669\">«depend»</text></a><!--MD5=[1b0b85f6148c07bcde807e562fc127d0]\n",
       "@startuml\r\n",
       "skinparam linetype ortho\r\n",
       "skinparam monochrome true\r\n",
       "skinparam classbackgroundcolor white\r\n",
       "skinparam shadowing false\r\n",
       "skinparam wrapWidth 300\r\n",
       "hide circle\r\n",
       "\r\n",
       "package \"DependencyTest\" as E1  [[psysml:c069fb4a-0cab-46ce-ae30-79221b6c6030 ]]  {\r\n",
       "package \"System\" as E2  [[psysml:0036a7be-5206-4df9-ab28-301972427778 ]]  {\r\n",
       "package \"Application Layer\" as E3  [[psysml:b9058297-d753-442e-8571-9bee33c166c8 ]]  {\r\n",
       "}\r\n",
       "package \"Service Layer\" as E4  [[psysml:f007974c-308f-4828-8f2c-f39213f4e302 ]]  {\r\n",
       "}\r\n",
       "package \"Data Layer\" as E5  [[psysml:7870e797-441e-4743-978b-6b23dab0b8d1 ]]  {\r\n",
       "}\r\n",
       "}\r\n",
       "comp usage \"x\" as E6  <<(T,blue)attribute>> [[psysml:ca3c2c7b-3718-4538-a84c-29984e19a6f6 ]] {\r\n",
       "}\r\n",
       "comp usage \"y\" as E7  <<(T,blue)attribute>> [[psysml:f187cc38-895f-43c9-b55f-372a79474975 ]] {\r\n",
       "}\r\n",
       "comp usage \"z\" as E8  <<(T,blue)attribute>> [[psysml:c8a5167c-621d-4bfa-8ffa-e3ed6a854bed ]] {\r\n",
       "}\r\n",
       "E3 ..>> E4 [[psysml:af0245ca-a479-404d-840a-c478ec8f55f1 ]] : <<depend>>\r\n",
       "E4 ..>> E5 [[psysml:aeab59fe-e3bd-4e23-96a4-136d0d468de6 ]] : <<depend>>\r\n",
       "E8 ..>> E6 [[psysml:e01a683f-5a6a-44b0-a0de-a423aeb5ad40 ]] : <<depend>>\r\n",
       "E8 ..>> E7 [[psysml:e01a683f-5a6a-44b0-a0de-a423aeb5ad40 ]] : <<depend>>\r\n",
       "}\r\n",
       "@enduml\r\n",
       "\n",
       "PlantUML version 1.2020.13(Sat Jun 13 12:26:38 UTC 2020)\n",
       "(EPL source distribution)\n",
       "Java Runtime: OpenJDK Runtime Environment\n",
       "JVM: OpenJDK 64-Bit Server VM\n",
       "Default Encoding: UTF-8\n",
       "Language: en\n",
       "Country: null\n",
       "--></g></svg>"
      ]
     },
     "execution_count": 57,
     "metadata": {},
     "output_type": "execute_result"
    }
   ],
   "source": [
    "%viz --style=\"ORTHOLINE\" --view=\"MIXED\" \"DependencyTest\""
   ]
  }
 ],
 "metadata": {
  "kernelspec": {
   "display_name": "SysML",
   "language": "sysml",
   "name": "sysml"
  },
  "language_info": {
   "codemirror_mode": "sysml",
   "file_extension": ".sysml",
   "mimetype": "text/x-sysml",
   "name": "SysML",
   "pygments_lexer": "java",
   "version": "1.0.0"
  }
 },
 "nbformat": 4,
 "nbformat_minor": 5
}
