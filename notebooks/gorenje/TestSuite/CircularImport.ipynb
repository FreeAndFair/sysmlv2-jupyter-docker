{
 "cells": [
  {
   "cell_type": "markdown",
   "id": "formal-customer",
   "metadata": {},
   "source": [
    "# SysML v2 Test Suite\n",
    "\n",
    "This can notebook can be cleared using menu `Edit --> Clear All Outputs` and then all cells can be\n",
    "run using menu `Run --> Run All Cells`.\n",
    "\n",
    "**WARNING**: This file is generated, all modifications here will be ignored.\n"
   ]
  },
  {
   "cell_type": "markdown",
   "id": "social-cycling",
   "metadata": {},
   "source": [
    "## File: ../../sysml/src/examples/Import Tests/CircularImport.sysml"
   ]
  },
  {
   "cell_type": "code",
   "execution_count": 1,
   "id": "automated-compilation",
   "metadata": {
    "execution": {
     "iopub.execute_input": "2021-03-25T13:13:13.476239Z",
     "iopub.status.busy": "2021-03-25T13:13:13.475599Z",
     "iopub.status.idle": "2021-03-25T13:13:13.614189Z",
     "shell.execute_reply": "2021-03-25T13:13:13.613343Z"
    }
   },
   "outputs": [
    {
     "data": {
      "text/plain": [
       "Package CircularImport (a1e310d4-7d28-492c-8fd4-05f09546a58f)\n"
      ]
     },
     "execution_count": 1,
     "metadata": {},
     "output_type": "execute_result"
    }
   ],
   "source": [
    "package CircularImport {\n",
    "\n",
    "\tpackage P1 {\n",
    "\t\timport P2::*;\n",
    "\t\tpart def A;\n",
    "\t}\n",
    "\tpackage P2 {\n",
    "\t\timport P1::*;\n",
    "\t\tpart def B;\n",
    "\t}\n",
    "\tpackage Test1 {\n",
    "\t\timport P1::*;\n",
    "\t\tpart x: A;\n",
    "\t\tpart y: B;\n",
    "\t}\n",
    "\tpackage Test2 {\n",
    "\t\timport P2::*;\n",
    "\t\tpart x: A;\n",
    "\t\tpart y: B;\n",
    "\t}\n",
    "\t\n",
    "\tpart x: P1::A;\n",
    "\t\n",
    "\t// The following should not fail.\n",
    "\tpart y: P1::B;\n",
    "\t\n",
    "}"
   ]
  },
  {
   "cell_type": "code",
   "execution_count": 2,
   "id": "unsigned-grant",
   "metadata": {
    "execution": {
     "iopub.execute_input": "2021-03-25T13:13:13.667006Z",
     "iopub.status.busy": "2021-03-25T13:13:13.666610Z",
     "iopub.status.idle": "2021-03-25T13:13:14.738880Z",
     "shell.execute_reply": "2021-03-25T13:13:14.736850Z"
    }
   },
   "outputs": [
    {
     "data": {
      "image/svg+xml": [
       "<?xml version=\"1.0\" encoding=\"UTF-8\" standalone=\"no\"?><svg xmlns=\"http://www.w3.org/2000/svg\" xmlns:xlink=\"http://www.w3.org/1999/xlink\" contentScriptType=\"application/ecmascript\" contentStyleType=\"text/css\" height=\"303px\" preserveAspectRatio=\"none\" style=\"width:518px;height:303px;\" version=\"1.1\" viewBox=\"0 0 518 303\" width=\"518px\" zoomAndPan=\"magnify\"><defs/><g><!--MD5=[fbc87193dbaf4d95561dea2c320d4a47]\n",
       "cluster E1--><a href=\"psysml:6a62b0bb-ce07-42d9-b06f-c19bd22a93a2\" target=\"_top\" title=\"psysml:6a62b0bb-ce07-42d9-b06f-c19bd22a93a2\" xlink:actuate=\"onRequest\" xlink:href=\"psysml:6a62b0bb-ce07-42d9-b06f-c19bd22a93a2\" xlink:show=\"new\" xlink:title=\"psysml:6a62b0bb-ce07-42d9-b06f-c19bd22a93a2\" xlink:type=\"simple\"><polygon fill=\"#FFFFFF\" points=\"16,6,134,6,141,28.2969,496,28.2969,496,291,16,291,16,6\" style=\"stroke: #000000; stroke-width: 1.5;\"/><line style=\"stroke: #000000; stroke-width: 1.5;\" x1=\"16\" x2=\"141\" y1=\"28.2969\" y2=\"28.2969\"/><text fill=\"#000000\" font-family=\"sans-serif\" font-size=\"14\" font-weight=\"bold\" lengthAdjust=\"spacingAndGlyphs\" textLength=\"112\" x=\"20\" y=\"20.9951\">CircularImport</text></a><!--MD5=[e4f7fae6ed58524ba242bb0b0d3be6b7]\n",
       "cluster E2--><a href=\"psysml:e5793e48-aebf-4c77-9b1c-634d316c370a\" target=\"_top\" title=\"psysml:e5793e48-aebf-4c77-9b1c-634d316c370a\" xlink:actuate=\"onRequest\" xlink:href=\"psysml:e5793e48-aebf-4c77-9b1c-634d316c370a\" xlink:show=\"new\" xlink:title=\"psysml:e5793e48-aebf-4c77-9b1c-634d316c370a\" xlink:type=\"simple\"><polygon fill=\"#FFFFFF\" points=\"333,170,359,170,366,192.2969,431,192.2969,431,267,333,267,333,170\" style=\"stroke: #000000; stroke-width: 1.5;\"/><line style=\"stroke: #000000; stroke-width: 1.5;\" x1=\"333\" x2=\"366\" y1=\"192.2969\" y2=\"192.2969\"/><text fill=\"#000000\" font-family=\"sans-serif\" font-size=\"14\" font-weight=\"bold\" lengthAdjust=\"spacingAndGlyphs\" textLength=\"20\" x=\"337\" y=\"184.9951\">P1</text></a><!--MD5=[f6df4d0ebaf0b5dfb2ced0ae5af7c670]\n",
       "cluster E4--><a href=\"psysml:9f128572-3fea-4fc4-b18b-c92f97cc0f0b\" target=\"_top\" title=\"psysml:9f128572-3fea-4fc4-b18b-c92f97cc0f0b\" xlink:actuate=\"onRequest\" xlink:href=\"psysml:9f128572-3fea-4fc4-b18b-c92f97cc0f0b\" xlink:show=\"new\" xlink:title=\"psysml:9f128572-3fea-4fc4-b18b-c92f97cc0f0b\" xlink:type=\"simple\"><polygon fill=\"#FFFFFF\" points=\"81,170,107,170,114,192.2969,179,192.2969,179,267,81,267,81,170\" style=\"stroke: #000000; stroke-width: 1.5;\"/><line style=\"stroke: #000000; stroke-width: 1.5;\" x1=\"81\" x2=\"114\" y1=\"192.2969\" y2=\"192.2969\"/><text fill=\"#000000\" font-family=\"sans-serif\" font-size=\"14\" font-weight=\"bold\" lengthAdjust=\"spacingAndGlyphs\" textLength=\"20\" x=\"85\" y=\"184.9951\">P2</text></a><!--MD5=[14e3b0961a2654348d326746436168a1]\n",
       "cluster E6--><a href=\"psysml:6c517ad3-81f8-4503-b234-41386708eb5e\" target=\"_top\" title=\"psysml:6c517ad3-81f8-4503-b234-41386708eb5e\" xlink:actuate=\"onRequest\" xlink:href=\"psysml:6c517ad3-81f8-4503-b234-41386708eb5e\" xlink:show=\"new\" xlink:title=\"psysml:6c517ad3-81f8-4503-b234-41386708eb5e\" xlink:type=\"simple\"><polygon fill=\"#FFFFFF\" points=\"268,49,319,49,326,71.2969,419,71.2969,419,146,268,146,268,49\" style=\"stroke: #000000; stroke-width: 1.5;\"/><line style=\"stroke: #000000; stroke-width: 1.5;\" x1=\"268\" x2=\"326\" y1=\"71.2969\" y2=\"71.2969\"/><text fill=\"#000000\" font-family=\"sans-serif\" font-size=\"14\" font-weight=\"bold\" lengthAdjust=\"spacingAndGlyphs\" textLength=\"45\" x=\"272\" y=\"63.9951\">Test1</text></a><!--MD5=[7f149f147074ac12df2cb0a7728a5fb0]\n",
       "cluster E9--><a href=\"psysml:81951965-8d4b-42c4-ba21-4255f6488007\" target=\"_top\" title=\"psysml:81951965-8d4b-42c4-ba21-4255f6488007\" xlink:actuate=\"onRequest\" xlink:href=\"psysml:81951965-8d4b-42c4-ba21-4255f6488007\" xlink:show=\"new\" xlink:title=\"psysml:81951965-8d4b-42c4-ba21-4255f6488007\" xlink:type=\"simple\"><polygon fill=\"#FFFFFF\" points=\"93,49,144,49,151,71.2969,244,71.2969,244,146,93,146,93,49\" style=\"stroke: #000000; stroke-width: 1.5;\"/><line style=\"stroke: #000000; stroke-width: 1.5;\" x1=\"93\" x2=\"151\" y1=\"71.2969\" y2=\"71.2969\"/><text fill=\"#000000\" font-family=\"sans-serif\" font-size=\"14\" font-weight=\"bold\" lengthAdjust=\"spacingAndGlyphs\" textLength=\"45\" x=\"97\" y=\"63.9951\">Test2</text></a><!--MD5=[49a0ec8f00dab7302a31f22d0f0fe584]\n",
       "class E12--><a href=\"psysml:e16c4bbb-61f3-4b61-a2b5-b03e29e494af\" target=\"_top\" title=\"psysml:e16c4bbb-61f3-4b61-a2b5-b03e29e494af\" xlink:actuate=\"onRequest\" xlink:href=\"psysml:e16c4bbb-61f3-4b61-a2b5-b03e29e494af\" xlink:show=\"new\" xlink:title=\"psysml:e16c4bbb-61f3-4b61-a2b5-b03e29e494af\" xlink:type=\"simple\"><rect fill=\"#FFFFFF\" height=\"45.9375\" id=\"E12\" rx=\"10\" ry=\"10\" style=\"stroke: #383838; stroke-width: 1.5;\" width=\"42\" x=\"438\" y=\"84\"/><text fill=\"#000000\" font-family=\"sans-serif\" font-size=\"12\" font-style=\"italic\" lengthAdjust=\"spacingAndGlyphs\" textLength=\"40\" x=\"439\" y=\"100.1387\">«part»</text><text fill=\"#000000\" font-family=\"sans-serif\" font-size=\"12\" lengthAdjust=\"spacingAndGlyphs\" textLength=\"22\" x=\"448\" y=\"114.1074\">x: A</text><line style=\"stroke: #383838; stroke-width: 1.5;\" x1=\"439\" x2=\"479\" y1=\"121.9375\" y2=\"121.9375\"/></a><!--MD5=[ee3c913d1a06f366521f9ef512b67efe]\n",
       "class E13--><a href=\"psysml:6a814915-eeda-4c4d-8e98-a86878ae1f3d\" target=\"_top\" title=\"psysml:6a814915-eeda-4c4d-8e98-a86878ae1f3d\" xlink:actuate=\"onRequest\" xlink:href=\"psysml:6a814915-eeda-4c4d-8e98-a86878ae1f3d\" xlink:show=\"new\" xlink:title=\"psysml:6a814915-eeda-4c4d-8e98-a86878ae1f3d\" xlink:type=\"simple\"><rect fill=\"#FFFFFF\" height=\"45.9375\" id=\"E13\" rx=\"10\" ry=\"10\" style=\"stroke: #383838; stroke-width: 1.5;\" width=\"42\" x=\"32\" y=\"84\"/><text fill=\"#000000\" font-family=\"sans-serif\" font-size=\"12\" font-style=\"italic\" lengthAdjust=\"spacingAndGlyphs\" textLength=\"40\" x=\"33\" y=\"100.1387\">«part»</text><text fill=\"#000000\" font-family=\"sans-serif\" font-size=\"12\" lengthAdjust=\"spacingAndGlyphs\" textLength=\"22\" x=\"42\" y=\"114.1074\">y: B</text><line style=\"stroke: #383838; stroke-width: 1.5;\" x1=\"33\" x2=\"73\" y1=\"121.9375\" y2=\"121.9375\"/></a><!--MD5=[09b614a08d8cba4a07c9adeb5e0fee81]\n",
       "class E3--><a href=\"psysml:4745677c-bede-4ab8-acdc-4365dad759bc\" target=\"_top\" title=\"psysml:4745677c-bede-4ab8-acdc-4365dad759bc\" xlink:actuate=\"onRequest\" xlink:href=\"psysml:4745677c-bede-4ab8-acdc-4365dad759bc\" xlink:show=\"new\" xlink:title=\"psysml:4745677c-bede-4ab8-acdc-4365dad759bc\" xlink:type=\"simple\"><rect fill=\"#FFFFFF\" height=\"45.9375\" id=\"E3\" style=\"stroke: #383838; stroke-width: 1.5;\" width=\"66\" x=\"349\" y=\"205\"/><text fill=\"#000000\" font-family=\"sans-serif\" font-size=\"12\" font-style=\"italic\" lengthAdjust=\"spacingAndGlyphs\" textLength=\"64\" x=\"350\" y=\"221.1387\">«part def»</text><text fill=\"#000000\" font-family=\"sans-serif\" font-size=\"12\" lengthAdjust=\"spacingAndGlyphs\" textLength=\"8\" x=\"378\" y=\"235.1074\">A</text><line style=\"stroke: #383838; stroke-width: 1.5;\" x1=\"350\" x2=\"414\" y1=\"242.9375\" y2=\"242.9375\"/></a><!--MD5=[270fce915f116d4de14055a7c1d9a0f3]\n",
       "class E5--><a href=\"psysml:a455b6ac-bbc4-40c1-9da4-354e9f8fdc46\" target=\"_top\" title=\"psysml:a455b6ac-bbc4-40c1-9da4-354e9f8fdc46\" xlink:actuate=\"onRequest\" xlink:href=\"psysml:a455b6ac-bbc4-40c1-9da4-354e9f8fdc46\" xlink:show=\"new\" xlink:title=\"psysml:a455b6ac-bbc4-40c1-9da4-354e9f8fdc46\" xlink:type=\"simple\"><rect fill=\"#FFFFFF\" height=\"45.9375\" id=\"E5\" style=\"stroke: #383838; stroke-width: 1.5;\" width=\"66\" x=\"97\" y=\"205\"/><text fill=\"#000000\" font-family=\"sans-serif\" font-size=\"12\" font-style=\"italic\" lengthAdjust=\"spacingAndGlyphs\" textLength=\"64\" x=\"98\" y=\"221.1387\">«part def»</text><text fill=\"#000000\" font-family=\"sans-serif\" font-size=\"12\" lengthAdjust=\"spacingAndGlyphs\" textLength=\"8\" x=\"126\" y=\"235.1074\">B</text><line style=\"stroke: #383838; stroke-width: 1.5;\" x1=\"98\" x2=\"162\" y1=\"242.9375\" y2=\"242.9375\"/></a><!--MD5=[2156ba9850f5573cc1fc38a6a4b2f02b]\n",
       "class E7--><a href=\"psysml:6b7db59d-d003-4043-9508-3fd9ac781eff\" target=\"_top\" title=\"psysml:6b7db59d-d003-4043-9508-3fd9ac781eff\" xlink:actuate=\"onRequest\" xlink:href=\"psysml:6b7db59d-d003-4043-9508-3fd9ac781eff\" xlink:show=\"new\" xlink:title=\"psysml:6b7db59d-d003-4043-9508-3fd9ac781eff\" xlink:type=\"simple\"><rect fill=\"#FFFFFF\" height=\"45.9375\" id=\"E7\" rx=\"10\" ry=\"10\" style=\"stroke: #383838; stroke-width: 1.5;\" width=\"42\" x=\"361\" y=\"84\"/><text fill=\"#000000\" font-family=\"sans-serif\" font-size=\"12\" font-style=\"italic\" lengthAdjust=\"spacingAndGlyphs\" textLength=\"40\" x=\"362\" y=\"100.1387\">«part»</text><text fill=\"#000000\" font-family=\"sans-serif\" font-size=\"12\" lengthAdjust=\"spacingAndGlyphs\" textLength=\"22\" x=\"371\" y=\"114.1074\">x: A</text><line style=\"stroke: #383838; stroke-width: 1.5;\" x1=\"362\" x2=\"402\" y1=\"121.9375\" y2=\"121.9375\"/></a><!--MD5=[b9389687b975829384b498ac4b7476b2]\n",
       "class E8--><a href=\"psysml:6c414e1f-4fb5-42fd-83aa-c158d2fbc464\" target=\"_top\" title=\"psysml:6c414e1f-4fb5-42fd-83aa-c158d2fbc464\" xlink:actuate=\"onRequest\" xlink:href=\"psysml:6c414e1f-4fb5-42fd-83aa-c158d2fbc464\" xlink:show=\"new\" xlink:title=\"psysml:6c414e1f-4fb5-42fd-83aa-c158d2fbc464\" xlink:type=\"simple\"><rect fill=\"#FFFFFF\" height=\"45.9375\" id=\"E8\" rx=\"10\" ry=\"10\" style=\"stroke: #383838; stroke-width: 1.5;\" width=\"42\" x=\"284\" y=\"84\"/><text fill=\"#000000\" font-family=\"sans-serif\" font-size=\"12\" font-style=\"italic\" lengthAdjust=\"spacingAndGlyphs\" textLength=\"40\" x=\"285\" y=\"100.1387\">«part»</text><text fill=\"#000000\" font-family=\"sans-serif\" font-size=\"12\" lengthAdjust=\"spacingAndGlyphs\" textLength=\"22\" x=\"294\" y=\"114.1074\">y: B</text><line style=\"stroke: #383838; stroke-width: 1.5;\" x1=\"285\" x2=\"325\" y1=\"121.9375\" y2=\"121.9375\"/></a><!--MD5=[96f4274e9e20536e775497830990834d]\n",
       "class E10--><a href=\"psysml:797261aa-a958-4475-9de3-b139176b10fb\" target=\"_top\" title=\"psysml:797261aa-a958-4475-9de3-b139176b10fb\" xlink:actuate=\"onRequest\" xlink:href=\"psysml:797261aa-a958-4475-9de3-b139176b10fb\" xlink:show=\"new\" xlink:title=\"psysml:797261aa-a958-4475-9de3-b139176b10fb\" xlink:type=\"simple\"><rect fill=\"#FFFFFF\" height=\"45.9375\" id=\"E10\" rx=\"10\" ry=\"10\" style=\"stroke: #383838; stroke-width: 1.5;\" width=\"42\" x=\"186\" y=\"84\"/><text fill=\"#000000\" font-family=\"sans-serif\" font-size=\"12\" font-style=\"italic\" lengthAdjust=\"spacingAndGlyphs\" textLength=\"40\" x=\"187\" y=\"100.1387\">«part»</text><text fill=\"#000000\" font-family=\"sans-serif\" font-size=\"12\" lengthAdjust=\"spacingAndGlyphs\" textLength=\"22\" x=\"196\" y=\"114.1074\">x: A</text><line style=\"stroke: #383838; stroke-width: 1.5;\" x1=\"187\" x2=\"227\" y1=\"121.9375\" y2=\"121.9375\"/></a><!--MD5=[1dd1bfd58a279cf63c5f349dbc8fc6a1]\n",
       "class E11--><a href=\"psysml:3825b43b-bb71-4033-970e-c8c9e00cfd14\" target=\"_top\" title=\"psysml:3825b43b-bb71-4033-970e-c8c9e00cfd14\" xlink:actuate=\"onRequest\" xlink:href=\"psysml:3825b43b-bb71-4033-970e-c8c9e00cfd14\" xlink:show=\"new\" xlink:title=\"psysml:3825b43b-bb71-4033-970e-c8c9e00cfd14\" xlink:type=\"simple\"><rect fill=\"#FFFFFF\" height=\"45.9375\" id=\"E11\" rx=\"10\" ry=\"10\" style=\"stroke: #383838; stroke-width: 1.5;\" width=\"42\" x=\"109\" y=\"84\"/><text fill=\"#000000\" font-family=\"sans-serif\" font-size=\"12\" font-style=\"italic\" lengthAdjust=\"spacingAndGlyphs\" textLength=\"40\" x=\"110\" y=\"100.1387\">«part»</text><text fill=\"#000000\" font-family=\"sans-serif\" font-size=\"12\" lengthAdjust=\"spacingAndGlyphs\" textLength=\"22\" x=\"119\" y=\"114.1074\">y: B</text><line style=\"stroke: #383838; stroke-width: 1.5;\" x1=\"110\" x2=\"150\" y1=\"121.9375\" y2=\"121.9375\"/></a><!--MD5=[14ccda38c055a5c0da953d572bc50960]\n",
       "link E7 to E3--><a href=\"psysml:85e1ff22-6346-4a23-846d-dc1a236203c0\" target=\"_top\" title=\"psysml:85e1ff22-6346-4a23-846d-dc1a236203c0\" xlink:actuate=\"onRequest\" xlink:href=\"psysml:85e1ff22-6346-4a23-846d-dc1a236203c0\" xlink:show=\"new\" xlink:title=\"psysml:85e1ff22-6346-4a23-846d-dc1a236203c0\" xlink:type=\"simple\"><path d=\"M382,130.1 C382,145.37 382,166.16 382,184.57 \" fill=\"none\" id=\"E7-&gt;E3\" style=\"stroke: #383838; stroke-width: 1.0;\"/><polygon fill=\"#FFFFFF\" points=\"382,204.61,375,185.61,389,185.61,382,204.61\" style=\"stroke: #383838; stroke-width: 1.0;\"/><ellipse cx=\"377\" cy=\"179.91\" fill=\"#383838\" rx=\"2\" ry=\"2\" style=\"stroke: #383838; stroke-width: 1.0;\"/><ellipse cx=\"387\" cy=\"179.91\" fill=\"#383838\" rx=\"2\" ry=\"2\" style=\"stroke: #383838; stroke-width: 1.0;\"/></a><!--MD5=[1ccb2481ffa92f8d51a74ee30c51832a]\n",
       "link E8 to E5--><a href=\"psysml:483adec0-2d55-41ba-876c-1b8fe7d429ab\" target=\"_top\" title=\"psysml:483adec0-2d55-41ba-876c-1b8fe7d429ab\" xlink:actuate=\"onRequest\" xlink:href=\"psysml:483adec0-2d55-41ba-876c-1b8fe7d429ab\" xlink:show=\"new\" xlink:title=\"psysml:483adec0-2d55-41ba-876c-1b8fe7d429ab\" xlink:type=\"simple\"><path d=\"M283.84,124.59 C272.23,133.52 257.5,144.61 244,154 C223.51,168.25 200.41,183.24 180.38,195.91 \" fill=\"none\" id=\"E8-&gt;E5\" style=\"stroke: #383838; stroke-width: 1.0;\"/><polygon fill=\"#FFFFFF\" points=\"163.36,206.57,175.7353,190.5434,183.175,202.403,163.36,206.57\" style=\"stroke: #383838; stroke-width: 1.0;\"/><ellipse cx=\"181.6267\" cy=\"189.2086\" fill=\"#383838\" rx=\"2\" ry=\"2\" style=\"stroke: #383838; stroke-width: 1.0;\"/><ellipse cx=\"186.9408\" cy=\"197.6797\" fill=\"#383838\" rx=\"2\" ry=\"2\" style=\"stroke: #383838; stroke-width: 1.0;\"/></a><!--MD5=[feeac5eb423634930294aa81f2d25a4c]\n",
       "link E10 to E3--><a href=\"psysml:0e238847-8a3c-4f4a-a4c7-c4eca45a31b2\" target=\"_top\" title=\"psysml:0e238847-8a3c-4f4a-a4c7-c4eca45a31b2\" xlink:actuate=\"onRequest\" xlink:href=\"psysml:0e238847-8a3c-4f4a-a4c7-c4eca45a31b2\" xlink:show=\"new\" xlink:title=\"psysml:0e238847-8a3c-4f4a-a4c7-c4eca45a31b2\" xlink:type=\"simple\"><path d=\"M228.16,124.59 C239.77,133.52 254.5,144.61 268,154 C288.49,168.25 311.59,183.24 331.62,195.91 \" fill=\"none\" id=\"E10-&gt;E3\" style=\"stroke: #383838; stroke-width: 1.0;\"/><polygon fill=\"#FFFFFF\" points=\"348.64,206.57,328.825,202.403,336.2647,190.5434,348.64,206.57\" style=\"stroke: #383838; stroke-width: 1.0;\"/><ellipse cx=\"325.0592\" cy=\"197.6797\" fill=\"#383838\" rx=\"2\" ry=\"2\" style=\"stroke: #383838; stroke-width: 1.0;\"/><ellipse cx=\"330.3733\" cy=\"189.2086\" fill=\"#383838\" rx=\"2\" ry=\"2\" style=\"stroke: #383838; stroke-width: 1.0;\"/></a><!--MD5=[07b77f6f309248d16187045709d1c26e]\n",
       "link E11 to E5--><a href=\"psysml:1112046b-9823-4ab2-8a83-96247ffb9742\" target=\"_top\" title=\"psysml:1112046b-9823-4ab2-8a83-96247ffb9742\" xlink:actuate=\"onRequest\" xlink:href=\"psysml:1112046b-9823-4ab2-8a83-96247ffb9742\" xlink:show=\"new\" xlink:title=\"psysml:1112046b-9823-4ab2-8a83-96247ffb9742\" xlink:type=\"simple\"><path d=\"M130,130.1 C130,145.37 130,166.16 130,184.57 \" fill=\"none\" id=\"E11-&gt;E5\" style=\"stroke: #383838; stroke-width: 1.0;\"/><polygon fill=\"#FFFFFF\" points=\"130,204.61,123,185.61,137,185.61,130,204.61\" style=\"stroke: #383838; stroke-width: 1.0;\"/><ellipse cx=\"125\" cy=\"179.91\" fill=\"#383838\" rx=\"2\" ry=\"2\" style=\"stroke: #383838; stroke-width: 1.0;\"/><ellipse cx=\"135\" cy=\"179.91\" fill=\"#383838\" rx=\"2\" ry=\"2\" style=\"stroke: #383838; stroke-width: 1.0;\"/></a><!--MD5=[39f41a0e550fb3d73b4d8135617e30a2]\n",
       "link E12 to E3--><a href=\"psysml:ee0d4e1c-50f8-4d3c-8a56-5035ed7c5f53\" target=\"_top\" title=\"psysml:ee0d4e1c-50f8-4d3c-8a56-5035ed7c5f53\" xlink:actuate=\"onRequest\" xlink:href=\"psysml:ee0d4e1c-50f8-4d3c-8a56-5035ed7c5f53\" xlink:show=\"new\" xlink:title=\"psysml:ee0d4e1c-50f8-4d3c-8a56-5035ed7c5f53\" xlink:type=\"simple\"><path d=\"M444.7,130.1 C434.28,146.2 419.89,168.44 407.53,187.55 \" fill=\"none\" id=\"E12-&gt;E3\" style=\"stroke: #383838; stroke-width: 1.0;\"/><polygon fill=\"#FFFFFF\" points=\"396.49,204.61,400.9313,184.8546,412.6866,192.4581,396.49,204.61\" style=\"stroke: #383838; stroke-width: 1.0;\"/><ellipse cx=\"405.7063\" cy=\"181.1547\" fill=\"#383838\" rx=\"2\" ry=\"2\" style=\"stroke: #383838; stroke-width: 1.0;\"/><ellipse cx=\"414.103\" cy=\"186.5858\" fill=\"#383838\" rx=\"2\" ry=\"2\" style=\"stroke: #383838; stroke-width: 1.0;\"/></a><!--MD5=[066b2d8af59fea80ccdb3d54ad5c1091]\n",
       "link E13 to E5--><a href=\"psysml:1d6f62f5-9885-441d-bead-3e38c1577759\" target=\"_top\" title=\"psysml:1d6f62f5-9885-441d-bead-3e38c1577759\" xlink:actuate=\"onRequest\" xlink:href=\"psysml:1d6f62f5-9885-441d-bead-3e38c1577759\" xlink:show=\"new\" xlink:title=\"psysml:1d6f62f5-9885-441d-bead-3e38c1577759\" xlink:type=\"simple\"><path d=\"M67.3,130.1 C77.72,146.2 92.11,168.44 104.47,187.55 \" fill=\"none\" id=\"E13-&gt;E5\" style=\"stroke: #383838; stroke-width: 1.0;\"/><polygon fill=\"#FFFFFF\" points=\"115.51,204.61,99.3134,192.4581,111.0687,184.8546,115.51,204.61\" style=\"stroke: #383838; stroke-width: 1.0;\"/><ellipse cx=\"97.897\" cy=\"186.5858\" fill=\"#383838\" rx=\"2\" ry=\"2\" style=\"stroke: #383838; stroke-width: 1.0;\"/><ellipse cx=\"106.2937\" cy=\"181.1547\" fill=\"#383838\" rx=\"2\" ry=\"2\" style=\"stroke: #383838; stroke-width: 1.0;\"/></a><!--MD5=[74223b0a14a52d6aeda986f53cb560f5]\n",
       "@startuml\r\n",
       " skinparam monochrome true\r\n",
       "skinparam classbackgroundcolor white\r\n",
       "skinparam shadowing false\r\n",
       "skinparam wrapWidth 300\r\n",
       "hide circle\r\n",
       "\r\n",
       "package \"CircularImport\" as E1  [[psysml:6a62b0bb-ce07-42d9-b06f-c19bd22a93a2 ]]  {\r\n",
       "package \"P1\" as E2  [[psysml:e5793e48-aebf-4c77-9b1c-634d316c370a ]]  {\r\n",
       "comp def \"A\" as E3  <<(T,blue)part def>> [[psysml:4745677c-bede-4ab8-acdc-4365dad759bc ]] {\r\n",
       "}\r\n",
       "}\r\n",
       "package \"P2\" as E4  [[psysml:9f128572-3fea-4fc4-b18b-c92f97cc0f0b ]]  {\r\n",
       "comp def \"B\" as E5  <<(T,blue)part def>> [[psysml:a455b6ac-bbc4-40c1-9da4-354e9f8fdc46 ]] {\r\n",
       "}\r\n",
       "}\r\n",
       "package \"Test1\" as E6  [[psysml:6c517ad3-81f8-4503-b234-41386708eb5e ]]  {\r\n",
       "comp usage \"x: A\" as E7  <<(T,blue)part>> [[psysml:6b7db59d-d003-4043-9508-3fd9ac781eff ]] {\r\n",
       "}\r\n",
       "comp usage \"y: B\" as E8  <<(T,blue)part>> [[psysml:6c414e1f-4fb5-42fd-83aa-c158d2fbc464 ]] {\r\n",
       "}\r\n",
       "E7 - -:|> E3 [[psysml:85e1ff22-6346-4a23-846d-dc1a236203c0 ]] \r\n",
       "E8 - -:|> E5 [[psysml:483adec0-2d55-41ba-876c-1b8fe7d429ab ]] \r\n",
       "}\r\n",
       "package \"Test2\" as E9  [[psysml:81951965-8d4b-42c4-ba21-4255f6488007 ]]  {\r\n",
       "comp usage \"x: A\" as E10  <<(T,blue)part>> [[psysml:797261aa-a958-4475-9de3-b139176b10fb ]] {\r\n",
       "}\r\n",
       "comp usage \"y: B\" as E11  <<(T,blue)part>> [[psysml:3825b43b-bb71-4033-970e-c8c9e00cfd14 ]] {\r\n",
       "}\r\n",
       "E10 - -:|> E3 [[psysml:0e238847-8a3c-4f4a-a4c7-c4eca45a31b2 ]] \r\n",
       "E11 - -:|> E5 [[psysml:1112046b-9823-4ab2-8a83-96247ffb9742 ]] \r\n",
       "}\r\n",
       "comp usage \"x: A\" as E12  <<(T,blue)part>> [[psysml:e16c4bbb-61f3-4b61-a2b5-b03e29e494af ]] {\r\n",
       "}\r\n",
       "comp usage \"y: B\" as E13  <<(T,blue)part>> [[psysml:6a814915-eeda-4c4d-8e98-a86878ae1f3d ]] {\r\n",
       "}\r\n",
       "E12 - -:|> E3 [[psysml:ee0d4e1c-50f8-4d3c-8a56-5035ed7c5f53 ]] \r\n",
       "E13 - -:|> E5 [[psysml:1d6f62f5-9885-441d-bead-3e38c1577759 ]] \r\n",
       "}\r\n",
       "@enduml\r\n",
       "\n",
       "PlantUML version 1.2020.13(Sat Jun 13 12:26:38 UTC 2020)\n",
       "(EPL source distribution)\n",
       "Java Runtime: OpenJDK Runtime Environment\n",
       "JVM: OpenJDK 64-Bit Server VM\n",
       "Default Encoding: UTF-8\n",
       "Language: en\n",
       "Country: null\n",
       "--></g></svg>"
      ]
     },
     "execution_count": 2,
     "metadata": {},
     "output_type": "execute_result"
    }
   ],
   "source": [
    "%viz --style=\"COMPTREE\" --view=\"Default\" \"CircularImport\""
   ]
  },
  {
   "cell_type": "code",
   "execution_count": 3,
   "id": "computational-newcastle",
   "metadata": {
    "execution": {
     "iopub.execute_input": "2021-03-25T13:13:14.797517Z",
     "iopub.status.busy": "2021-03-25T13:13:14.796926Z",
     "iopub.status.idle": "2021-03-25T13:13:15.012853Z",
     "shell.execute_reply": "2021-03-25T13:13:15.009977Z"
    }
   },
   "outputs": [
    {
     "data": {
      "image/svg+xml": [
       "<?xml version=\"1.0\" encoding=\"UTF-8\" standalone=\"no\"?><svg xmlns=\"http://www.w3.org/2000/svg\" xmlns:xlink=\"http://www.w3.org/1999/xlink\" contentScriptType=\"application/ecmascript\" contentStyleType=\"text/css\" height=\"303px\" preserveAspectRatio=\"none\" style=\"width:518px;height:303px;\" version=\"1.1\" viewBox=\"0 0 518 303\" width=\"518px\" zoomAndPan=\"magnify\"><defs/><g><!--MD5=[fbc87193dbaf4d95561dea2c320d4a47]\n",
       "cluster E1--><a href=\"psysml:6a62b0bb-ce07-42d9-b06f-c19bd22a93a2\" target=\"_top\" title=\"psysml:6a62b0bb-ce07-42d9-b06f-c19bd22a93a2\" xlink:actuate=\"onRequest\" xlink:href=\"psysml:6a62b0bb-ce07-42d9-b06f-c19bd22a93a2\" xlink:show=\"new\" xlink:title=\"psysml:6a62b0bb-ce07-42d9-b06f-c19bd22a93a2\" xlink:type=\"simple\"><polygon fill=\"#FFFFFF\" points=\"16,6,134,6,141,28.2969,496,28.2969,496,291,16,291,16,6\" style=\"stroke: #000000; stroke-width: 1.5;\"/><line style=\"stroke: #000000; stroke-width: 1.5;\" x1=\"16\" x2=\"141\" y1=\"28.2969\" y2=\"28.2969\"/><text fill=\"#000000\" font-family=\"sans-serif\" font-size=\"14\" font-weight=\"bold\" lengthAdjust=\"spacingAndGlyphs\" textLength=\"112\" x=\"20\" y=\"20.9951\">CircularImport</text></a><!--MD5=[e4f7fae6ed58524ba242bb0b0d3be6b7]\n",
       "cluster E2--><a href=\"psysml:e5793e48-aebf-4c77-9b1c-634d316c370a\" target=\"_top\" title=\"psysml:e5793e48-aebf-4c77-9b1c-634d316c370a\" xlink:actuate=\"onRequest\" xlink:href=\"psysml:e5793e48-aebf-4c77-9b1c-634d316c370a\" xlink:show=\"new\" xlink:title=\"psysml:e5793e48-aebf-4c77-9b1c-634d316c370a\" xlink:type=\"simple\"><polygon fill=\"#FFFFFF\" points=\"333,170,359,170,366,192.2969,431,192.2969,431,267,333,267,333,170\" style=\"stroke: #000000; stroke-width: 1.5;\"/><line style=\"stroke: #000000; stroke-width: 1.5;\" x1=\"333\" x2=\"366\" y1=\"192.2969\" y2=\"192.2969\"/><text fill=\"#000000\" font-family=\"sans-serif\" font-size=\"14\" font-weight=\"bold\" lengthAdjust=\"spacingAndGlyphs\" textLength=\"20\" x=\"337\" y=\"184.9951\">P1</text></a><!--MD5=[f6df4d0ebaf0b5dfb2ced0ae5af7c670]\n",
       "cluster E4--><a href=\"psysml:9f128572-3fea-4fc4-b18b-c92f97cc0f0b\" target=\"_top\" title=\"psysml:9f128572-3fea-4fc4-b18b-c92f97cc0f0b\" xlink:actuate=\"onRequest\" xlink:href=\"psysml:9f128572-3fea-4fc4-b18b-c92f97cc0f0b\" xlink:show=\"new\" xlink:title=\"psysml:9f128572-3fea-4fc4-b18b-c92f97cc0f0b\" xlink:type=\"simple\"><polygon fill=\"#FFFFFF\" points=\"81,170,107,170,114,192.2969,179,192.2969,179,267,81,267,81,170\" style=\"stroke: #000000; stroke-width: 1.5;\"/><line style=\"stroke: #000000; stroke-width: 1.5;\" x1=\"81\" x2=\"114\" y1=\"192.2969\" y2=\"192.2969\"/><text fill=\"#000000\" font-family=\"sans-serif\" font-size=\"14\" font-weight=\"bold\" lengthAdjust=\"spacingAndGlyphs\" textLength=\"20\" x=\"85\" y=\"184.9951\">P2</text></a><!--MD5=[14e3b0961a2654348d326746436168a1]\n",
       "cluster E6--><a href=\"psysml:6c517ad3-81f8-4503-b234-41386708eb5e\" target=\"_top\" title=\"psysml:6c517ad3-81f8-4503-b234-41386708eb5e\" xlink:actuate=\"onRequest\" xlink:href=\"psysml:6c517ad3-81f8-4503-b234-41386708eb5e\" xlink:show=\"new\" xlink:title=\"psysml:6c517ad3-81f8-4503-b234-41386708eb5e\" xlink:type=\"simple\"><polygon fill=\"#FFFFFF\" points=\"268,49,319,49,326,71.2969,419,71.2969,419,146,268,146,268,49\" style=\"stroke: #000000; stroke-width: 1.5;\"/><line style=\"stroke: #000000; stroke-width: 1.5;\" x1=\"268\" x2=\"326\" y1=\"71.2969\" y2=\"71.2969\"/><text fill=\"#000000\" font-family=\"sans-serif\" font-size=\"14\" font-weight=\"bold\" lengthAdjust=\"spacingAndGlyphs\" textLength=\"45\" x=\"272\" y=\"63.9951\">Test1</text></a><!--MD5=[7f149f147074ac12df2cb0a7728a5fb0]\n",
       "cluster E9--><a href=\"psysml:81951965-8d4b-42c4-ba21-4255f6488007\" target=\"_top\" title=\"psysml:81951965-8d4b-42c4-ba21-4255f6488007\" xlink:actuate=\"onRequest\" xlink:href=\"psysml:81951965-8d4b-42c4-ba21-4255f6488007\" xlink:show=\"new\" xlink:title=\"psysml:81951965-8d4b-42c4-ba21-4255f6488007\" xlink:type=\"simple\"><polygon fill=\"#FFFFFF\" points=\"93,49,144,49,151,71.2969,244,71.2969,244,146,93,146,93,49\" style=\"stroke: #000000; stroke-width: 1.5;\"/><line style=\"stroke: #000000; stroke-width: 1.5;\" x1=\"93\" x2=\"151\" y1=\"71.2969\" y2=\"71.2969\"/><text fill=\"#000000\" font-family=\"sans-serif\" font-size=\"14\" font-weight=\"bold\" lengthAdjust=\"spacingAndGlyphs\" textLength=\"45\" x=\"97\" y=\"63.9951\">Test2</text></a><!--MD5=[49a0ec8f00dab7302a31f22d0f0fe584]\n",
       "class E12--><a href=\"psysml:e16c4bbb-61f3-4b61-a2b5-b03e29e494af\" target=\"_top\" title=\"psysml:e16c4bbb-61f3-4b61-a2b5-b03e29e494af\" xlink:actuate=\"onRequest\" xlink:href=\"psysml:e16c4bbb-61f3-4b61-a2b5-b03e29e494af\" xlink:show=\"new\" xlink:title=\"psysml:e16c4bbb-61f3-4b61-a2b5-b03e29e494af\" xlink:type=\"simple\"><rect fill=\"#FFFFFF\" height=\"45.9375\" id=\"E12\" rx=\"10\" ry=\"10\" style=\"stroke: #383838; stroke-width: 1.5;\" width=\"42\" x=\"438\" y=\"84\"/><text fill=\"#000000\" font-family=\"sans-serif\" font-size=\"12\" font-style=\"italic\" lengthAdjust=\"spacingAndGlyphs\" textLength=\"40\" x=\"439\" y=\"100.1387\">«part»</text><text fill=\"#000000\" font-family=\"sans-serif\" font-size=\"12\" lengthAdjust=\"spacingAndGlyphs\" textLength=\"22\" x=\"448\" y=\"114.1074\">x: A</text><line style=\"stroke: #383838; stroke-width: 1.5;\" x1=\"439\" x2=\"479\" y1=\"121.9375\" y2=\"121.9375\"/></a><!--MD5=[ee3c913d1a06f366521f9ef512b67efe]\n",
       "class E13--><a href=\"psysml:6a814915-eeda-4c4d-8e98-a86878ae1f3d\" target=\"_top\" title=\"psysml:6a814915-eeda-4c4d-8e98-a86878ae1f3d\" xlink:actuate=\"onRequest\" xlink:href=\"psysml:6a814915-eeda-4c4d-8e98-a86878ae1f3d\" xlink:show=\"new\" xlink:title=\"psysml:6a814915-eeda-4c4d-8e98-a86878ae1f3d\" xlink:type=\"simple\"><rect fill=\"#FFFFFF\" height=\"45.9375\" id=\"E13\" rx=\"10\" ry=\"10\" style=\"stroke: #383838; stroke-width: 1.5;\" width=\"42\" x=\"32\" y=\"84\"/><text fill=\"#000000\" font-family=\"sans-serif\" font-size=\"12\" font-style=\"italic\" lengthAdjust=\"spacingAndGlyphs\" textLength=\"40\" x=\"33\" y=\"100.1387\">«part»</text><text fill=\"#000000\" font-family=\"sans-serif\" font-size=\"12\" lengthAdjust=\"spacingAndGlyphs\" textLength=\"22\" x=\"42\" y=\"114.1074\">y: B</text><line style=\"stroke: #383838; stroke-width: 1.5;\" x1=\"33\" x2=\"73\" y1=\"121.9375\" y2=\"121.9375\"/></a><!--MD5=[09b614a08d8cba4a07c9adeb5e0fee81]\n",
       "class E3--><a href=\"psysml:4745677c-bede-4ab8-acdc-4365dad759bc\" target=\"_top\" title=\"psysml:4745677c-bede-4ab8-acdc-4365dad759bc\" xlink:actuate=\"onRequest\" xlink:href=\"psysml:4745677c-bede-4ab8-acdc-4365dad759bc\" xlink:show=\"new\" xlink:title=\"psysml:4745677c-bede-4ab8-acdc-4365dad759bc\" xlink:type=\"simple\"><rect fill=\"#FFFFFF\" height=\"45.9375\" id=\"E3\" style=\"stroke: #383838; stroke-width: 1.5;\" width=\"66\" x=\"349\" y=\"205\"/><text fill=\"#000000\" font-family=\"sans-serif\" font-size=\"12\" font-style=\"italic\" lengthAdjust=\"spacingAndGlyphs\" textLength=\"64\" x=\"350\" y=\"221.1387\">«part def»</text><text fill=\"#000000\" font-family=\"sans-serif\" font-size=\"12\" lengthAdjust=\"spacingAndGlyphs\" textLength=\"8\" x=\"378\" y=\"235.1074\">A</text><line style=\"stroke: #383838; stroke-width: 1.5;\" x1=\"350\" x2=\"414\" y1=\"242.9375\" y2=\"242.9375\"/></a><!--MD5=[270fce915f116d4de14055a7c1d9a0f3]\n",
       "class E5--><a href=\"psysml:a455b6ac-bbc4-40c1-9da4-354e9f8fdc46\" target=\"_top\" title=\"psysml:a455b6ac-bbc4-40c1-9da4-354e9f8fdc46\" xlink:actuate=\"onRequest\" xlink:href=\"psysml:a455b6ac-bbc4-40c1-9da4-354e9f8fdc46\" xlink:show=\"new\" xlink:title=\"psysml:a455b6ac-bbc4-40c1-9da4-354e9f8fdc46\" xlink:type=\"simple\"><rect fill=\"#FFFFFF\" height=\"45.9375\" id=\"E5\" style=\"stroke: #383838; stroke-width: 1.5;\" width=\"66\" x=\"97\" y=\"205\"/><text fill=\"#000000\" font-family=\"sans-serif\" font-size=\"12\" font-style=\"italic\" lengthAdjust=\"spacingAndGlyphs\" textLength=\"64\" x=\"98\" y=\"221.1387\">«part def»</text><text fill=\"#000000\" font-family=\"sans-serif\" font-size=\"12\" lengthAdjust=\"spacingAndGlyphs\" textLength=\"8\" x=\"126\" y=\"235.1074\">B</text><line style=\"stroke: #383838; stroke-width: 1.5;\" x1=\"98\" x2=\"162\" y1=\"242.9375\" y2=\"242.9375\"/></a><!--MD5=[2156ba9850f5573cc1fc38a6a4b2f02b]\n",
       "class E7--><a href=\"psysml:6b7db59d-d003-4043-9508-3fd9ac781eff\" target=\"_top\" title=\"psysml:6b7db59d-d003-4043-9508-3fd9ac781eff\" xlink:actuate=\"onRequest\" xlink:href=\"psysml:6b7db59d-d003-4043-9508-3fd9ac781eff\" xlink:show=\"new\" xlink:title=\"psysml:6b7db59d-d003-4043-9508-3fd9ac781eff\" xlink:type=\"simple\"><rect fill=\"#FFFFFF\" height=\"45.9375\" id=\"E7\" rx=\"10\" ry=\"10\" style=\"stroke: #383838; stroke-width: 1.5;\" width=\"42\" x=\"361\" y=\"84\"/><text fill=\"#000000\" font-family=\"sans-serif\" font-size=\"12\" font-style=\"italic\" lengthAdjust=\"spacingAndGlyphs\" textLength=\"40\" x=\"362\" y=\"100.1387\">«part»</text><text fill=\"#000000\" font-family=\"sans-serif\" font-size=\"12\" lengthAdjust=\"spacingAndGlyphs\" textLength=\"22\" x=\"371\" y=\"114.1074\">x: A</text><line style=\"stroke: #383838; stroke-width: 1.5;\" x1=\"362\" x2=\"402\" y1=\"121.9375\" y2=\"121.9375\"/></a><!--MD5=[b9389687b975829384b498ac4b7476b2]\n",
       "class E8--><a href=\"psysml:6c414e1f-4fb5-42fd-83aa-c158d2fbc464\" target=\"_top\" title=\"psysml:6c414e1f-4fb5-42fd-83aa-c158d2fbc464\" xlink:actuate=\"onRequest\" xlink:href=\"psysml:6c414e1f-4fb5-42fd-83aa-c158d2fbc464\" xlink:show=\"new\" xlink:title=\"psysml:6c414e1f-4fb5-42fd-83aa-c158d2fbc464\" xlink:type=\"simple\"><rect fill=\"#FFFFFF\" height=\"45.9375\" id=\"E8\" rx=\"10\" ry=\"10\" style=\"stroke: #383838; stroke-width: 1.5;\" width=\"42\" x=\"284\" y=\"84\"/><text fill=\"#000000\" font-family=\"sans-serif\" font-size=\"12\" font-style=\"italic\" lengthAdjust=\"spacingAndGlyphs\" textLength=\"40\" x=\"285\" y=\"100.1387\">«part»</text><text fill=\"#000000\" font-family=\"sans-serif\" font-size=\"12\" lengthAdjust=\"spacingAndGlyphs\" textLength=\"22\" x=\"294\" y=\"114.1074\">y: B</text><line style=\"stroke: #383838; stroke-width: 1.5;\" x1=\"285\" x2=\"325\" y1=\"121.9375\" y2=\"121.9375\"/></a><!--MD5=[96f4274e9e20536e775497830990834d]\n",
       "class E10--><a href=\"psysml:797261aa-a958-4475-9de3-b139176b10fb\" target=\"_top\" title=\"psysml:797261aa-a958-4475-9de3-b139176b10fb\" xlink:actuate=\"onRequest\" xlink:href=\"psysml:797261aa-a958-4475-9de3-b139176b10fb\" xlink:show=\"new\" xlink:title=\"psysml:797261aa-a958-4475-9de3-b139176b10fb\" xlink:type=\"simple\"><rect fill=\"#FFFFFF\" height=\"45.9375\" id=\"E10\" rx=\"10\" ry=\"10\" style=\"stroke: #383838; stroke-width: 1.5;\" width=\"42\" x=\"186\" y=\"84\"/><text fill=\"#000000\" font-family=\"sans-serif\" font-size=\"12\" font-style=\"italic\" lengthAdjust=\"spacingAndGlyphs\" textLength=\"40\" x=\"187\" y=\"100.1387\">«part»</text><text fill=\"#000000\" font-family=\"sans-serif\" font-size=\"12\" lengthAdjust=\"spacingAndGlyphs\" textLength=\"22\" x=\"196\" y=\"114.1074\">x: A</text><line style=\"stroke: #383838; stroke-width: 1.5;\" x1=\"187\" x2=\"227\" y1=\"121.9375\" y2=\"121.9375\"/></a><!--MD5=[1dd1bfd58a279cf63c5f349dbc8fc6a1]\n",
       "class E11--><a href=\"psysml:3825b43b-bb71-4033-970e-c8c9e00cfd14\" target=\"_top\" title=\"psysml:3825b43b-bb71-4033-970e-c8c9e00cfd14\" xlink:actuate=\"onRequest\" xlink:href=\"psysml:3825b43b-bb71-4033-970e-c8c9e00cfd14\" xlink:show=\"new\" xlink:title=\"psysml:3825b43b-bb71-4033-970e-c8c9e00cfd14\" xlink:type=\"simple\"><rect fill=\"#FFFFFF\" height=\"45.9375\" id=\"E11\" rx=\"10\" ry=\"10\" style=\"stroke: #383838; stroke-width: 1.5;\" width=\"42\" x=\"109\" y=\"84\"/><text fill=\"#000000\" font-family=\"sans-serif\" font-size=\"12\" font-style=\"italic\" lengthAdjust=\"spacingAndGlyphs\" textLength=\"40\" x=\"110\" y=\"100.1387\">«part»</text><text fill=\"#000000\" font-family=\"sans-serif\" font-size=\"12\" lengthAdjust=\"spacingAndGlyphs\" textLength=\"22\" x=\"119\" y=\"114.1074\">y: B</text><line style=\"stroke: #383838; stroke-width: 1.5;\" x1=\"110\" x2=\"150\" y1=\"121.9375\" y2=\"121.9375\"/></a><!--MD5=[14ccda38c055a5c0da953d572bc50960]\n",
       "link E7 to E3--><a href=\"psysml:85e1ff22-6346-4a23-846d-dc1a236203c0\" target=\"_top\" title=\"psysml:85e1ff22-6346-4a23-846d-dc1a236203c0\" xlink:actuate=\"onRequest\" xlink:href=\"psysml:85e1ff22-6346-4a23-846d-dc1a236203c0\" xlink:show=\"new\" xlink:title=\"psysml:85e1ff22-6346-4a23-846d-dc1a236203c0\" xlink:type=\"simple\"><path d=\"M382,130.1 C382,145.37 382,166.16 382,184.57 \" fill=\"none\" id=\"E7-&gt;E3\" style=\"stroke: #383838; stroke-width: 1.0;\"/><polygon fill=\"#FFFFFF\" points=\"382,204.61,375,185.61,389,185.61,382,204.61\" style=\"stroke: #383838; stroke-width: 1.0;\"/><ellipse cx=\"377\" cy=\"179.91\" fill=\"#383838\" rx=\"2\" ry=\"2\" style=\"stroke: #383838; stroke-width: 1.0;\"/><ellipse cx=\"387\" cy=\"179.91\" fill=\"#383838\" rx=\"2\" ry=\"2\" style=\"stroke: #383838; stroke-width: 1.0;\"/></a><!--MD5=[1ccb2481ffa92f8d51a74ee30c51832a]\n",
       "link E8 to E5--><a href=\"psysml:483adec0-2d55-41ba-876c-1b8fe7d429ab\" target=\"_top\" title=\"psysml:483adec0-2d55-41ba-876c-1b8fe7d429ab\" xlink:actuate=\"onRequest\" xlink:href=\"psysml:483adec0-2d55-41ba-876c-1b8fe7d429ab\" xlink:show=\"new\" xlink:title=\"psysml:483adec0-2d55-41ba-876c-1b8fe7d429ab\" xlink:type=\"simple\"><path d=\"M283.84,124.59 C272.23,133.52 257.5,144.61 244,154 C223.51,168.25 200.41,183.24 180.38,195.91 \" fill=\"none\" id=\"E8-&gt;E5\" style=\"stroke: #383838; stroke-width: 1.0;\"/><polygon fill=\"#FFFFFF\" points=\"163.36,206.57,175.7353,190.5434,183.175,202.403,163.36,206.57\" style=\"stroke: #383838; stroke-width: 1.0;\"/><ellipse cx=\"181.6267\" cy=\"189.2086\" fill=\"#383838\" rx=\"2\" ry=\"2\" style=\"stroke: #383838; stroke-width: 1.0;\"/><ellipse cx=\"186.9408\" cy=\"197.6797\" fill=\"#383838\" rx=\"2\" ry=\"2\" style=\"stroke: #383838; stroke-width: 1.0;\"/></a><!--MD5=[feeac5eb423634930294aa81f2d25a4c]\n",
       "link E10 to E3--><a href=\"psysml:0e238847-8a3c-4f4a-a4c7-c4eca45a31b2\" target=\"_top\" title=\"psysml:0e238847-8a3c-4f4a-a4c7-c4eca45a31b2\" xlink:actuate=\"onRequest\" xlink:href=\"psysml:0e238847-8a3c-4f4a-a4c7-c4eca45a31b2\" xlink:show=\"new\" xlink:title=\"psysml:0e238847-8a3c-4f4a-a4c7-c4eca45a31b2\" xlink:type=\"simple\"><path d=\"M228.16,124.59 C239.77,133.52 254.5,144.61 268,154 C288.49,168.25 311.59,183.24 331.62,195.91 \" fill=\"none\" id=\"E10-&gt;E3\" style=\"stroke: #383838; stroke-width: 1.0;\"/><polygon fill=\"#FFFFFF\" points=\"348.64,206.57,328.825,202.403,336.2647,190.5434,348.64,206.57\" style=\"stroke: #383838; stroke-width: 1.0;\"/><ellipse cx=\"325.0592\" cy=\"197.6797\" fill=\"#383838\" rx=\"2\" ry=\"2\" style=\"stroke: #383838; stroke-width: 1.0;\"/><ellipse cx=\"330.3733\" cy=\"189.2086\" fill=\"#383838\" rx=\"2\" ry=\"2\" style=\"stroke: #383838; stroke-width: 1.0;\"/></a><!--MD5=[07b77f6f309248d16187045709d1c26e]\n",
       "link E11 to E5--><a href=\"psysml:1112046b-9823-4ab2-8a83-96247ffb9742\" target=\"_top\" title=\"psysml:1112046b-9823-4ab2-8a83-96247ffb9742\" xlink:actuate=\"onRequest\" xlink:href=\"psysml:1112046b-9823-4ab2-8a83-96247ffb9742\" xlink:show=\"new\" xlink:title=\"psysml:1112046b-9823-4ab2-8a83-96247ffb9742\" xlink:type=\"simple\"><path d=\"M130,130.1 C130,145.37 130,166.16 130,184.57 \" fill=\"none\" id=\"E11-&gt;E5\" style=\"stroke: #383838; stroke-width: 1.0;\"/><polygon fill=\"#FFFFFF\" points=\"130,204.61,123,185.61,137,185.61,130,204.61\" style=\"stroke: #383838; stroke-width: 1.0;\"/><ellipse cx=\"125\" cy=\"179.91\" fill=\"#383838\" rx=\"2\" ry=\"2\" style=\"stroke: #383838; stroke-width: 1.0;\"/><ellipse cx=\"135\" cy=\"179.91\" fill=\"#383838\" rx=\"2\" ry=\"2\" style=\"stroke: #383838; stroke-width: 1.0;\"/></a><!--MD5=[39f41a0e550fb3d73b4d8135617e30a2]\n",
       "link E12 to E3--><a href=\"psysml:ee0d4e1c-50f8-4d3c-8a56-5035ed7c5f53\" target=\"_top\" title=\"psysml:ee0d4e1c-50f8-4d3c-8a56-5035ed7c5f53\" xlink:actuate=\"onRequest\" xlink:href=\"psysml:ee0d4e1c-50f8-4d3c-8a56-5035ed7c5f53\" xlink:show=\"new\" xlink:title=\"psysml:ee0d4e1c-50f8-4d3c-8a56-5035ed7c5f53\" xlink:type=\"simple\"><path d=\"M444.7,130.1 C434.28,146.2 419.89,168.44 407.53,187.55 \" fill=\"none\" id=\"E12-&gt;E3\" style=\"stroke: #383838; stroke-width: 1.0;\"/><polygon fill=\"#FFFFFF\" points=\"396.49,204.61,400.9313,184.8546,412.6866,192.4581,396.49,204.61\" style=\"stroke: #383838; stroke-width: 1.0;\"/><ellipse cx=\"405.7063\" cy=\"181.1547\" fill=\"#383838\" rx=\"2\" ry=\"2\" style=\"stroke: #383838; stroke-width: 1.0;\"/><ellipse cx=\"414.103\" cy=\"186.5858\" fill=\"#383838\" rx=\"2\" ry=\"2\" style=\"stroke: #383838; stroke-width: 1.0;\"/></a><!--MD5=[066b2d8af59fea80ccdb3d54ad5c1091]\n",
       "link E13 to E5--><a href=\"psysml:1d6f62f5-9885-441d-bead-3e38c1577759\" target=\"_top\" title=\"psysml:1d6f62f5-9885-441d-bead-3e38c1577759\" xlink:actuate=\"onRequest\" xlink:href=\"psysml:1d6f62f5-9885-441d-bead-3e38c1577759\" xlink:show=\"new\" xlink:title=\"psysml:1d6f62f5-9885-441d-bead-3e38c1577759\" xlink:type=\"simple\"><path d=\"M67.3,130.1 C77.72,146.2 92.11,168.44 104.47,187.55 \" fill=\"none\" id=\"E13-&gt;E5\" style=\"stroke: #383838; stroke-width: 1.0;\"/><polygon fill=\"#FFFFFF\" points=\"115.51,204.61,99.3134,192.4581,111.0687,184.8546,115.51,204.61\" style=\"stroke: #383838; stroke-width: 1.0;\"/><ellipse cx=\"97.897\" cy=\"186.5858\" fill=\"#383838\" rx=\"2\" ry=\"2\" style=\"stroke: #383838; stroke-width: 1.0;\"/><ellipse cx=\"106.2937\" cy=\"181.1547\" fill=\"#383838\" rx=\"2\" ry=\"2\" style=\"stroke: #383838; stroke-width: 1.0;\"/></a><!--MD5=[74223b0a14a52d6aeda986f53cb560f5]\n",
       "@startuml\r\n",
       " skinparam monochrome true\r\n",
       "skinparam classbackgroundcolor white\r\n",
       "skinparam shadowing false\r\n",
       "skinparam wrapWidth 300\r\n",
       "hide circle\r\n",
       "\r\n",
       "package \"CircularImport\" as E1  [[psysml:6a62b0bb-ce07-42d9-b06f-c19bd22a93a2 ]]  {\r\n",
       "package \"P1\" as E2  [[psysml:e5793e48-aebf-4c77-9b1c-634d316c370a ]]  {\r\n",
       "comp def \"A\" as E3  <<(T,blue)part def>> [[psysml:4745677c-bede-4ab8-acdc-4365dad759bc ]] {\r\n",
       "}\r\n",
       "}\r\n",
       "package \"P2\" as E4  [[psysml:9f128572-3fea-4fc4-b18b-c92f97cc0f0b ]]  {\r\n",
       "comp def \"B\" as E5  <<(T,blue)part def>> [[psysml:a455b6ac-bbc4-40c1-9da4-354e9f8fdc46 ]] {\r\n",
       "}\r\n",
       "}\r\n",
       "package \"Test1\" as E6  [[psysml:6c517ad3-81f8-4503-b234-41386708eb5e ]]  {\r\n",
       "comp usage \"x: A\" as E7  <<(T,blue)part>> [[psysml:6b7db59d-d003-4043-9508-3fd9ac781eff ]] {\r\n",
       "}\r\n",
       "comp usage \"y: B\" as E8  <<(T,blue)part>> [[psysml:6c414e1f-4fb5-42fd-83aa-c158d2fbc464 ]] {\r\n",
       "}\r\n",
       "E7 - -:|> E3 [[psysml:85e1ff22-6346-4a23-846d-dc1a236203c0 ]] \r\n",
       "E8 - -:|> E5 [[psysml:483adec0-2d55-41ba-876c-1b8fe7d429ab ]] \r\n",
       "}\r\n",
       "package \"Test2\" as E9  [[psysml:81951965-8d4b-42c4-ba21-4255f6488007 ]]  {\r\n",
       "comp usage \"x: A\" as E10  <<(T,blue)part>> [[psysml:797261aa-a958-4475-9de3-b139176b10fb ]] {\r\n",
       "}\r\n",
       "comp usage \"y: B\" as E11  <<(T,blue)part>> [[psysml:3825b43b-bb71-4033-970e-c8c9e00cfd14 ]] {\r\n",
       "}\r\n",
       "E10 - -:|> E3 [[psysml:0e238847-8a3c-4f4a-a4c7-c4eca45a31b2 ]] \r\n",
       "E11 - -:|> E5 [[psysml:1112046b-9823-4ab2-8a83-96247ffb9742 ]] \r\n",
       "}\r\n",
       "comp usage \"x: A\" as E12  <<(T,blue)part>> [[psysml:e16c4bbb-61f3-4b61-a2b5-b03e29e494af ]] {\r\n",
       "}\r\n",
       "comp usage \"y: B\" as E13  <<(T,blue)part>> [[psysml:6a814915-eeda-4c4d-8e98-a86878ae1f3d ]] {\r\n",
       "}\r\n",
       "E12 - -:|> E3 [[psysml:ee0d4e1c-50f8-4d3c-8a56-5035ed7c5f53 ]] \r\n",
       "E13 - -:|> E5 [[psysml:1d6f62f5-9885-441d-bead-3e38c1577759 ]] \r\n",
       "}\r\n",
       "@enduml\r\n",
       "\n",
       "PlantUML version 1.2020.13(Sat Jun 13 12:26:38 UTC 2020)\n",
       "(EPL source distribution)\n",
       "Java Runtime: OpenJDK Runtime Environment\n",
       "JVM: OpenJDK 64-Bit Server VM\n",
       "Default Encoding: UTF-8\n",
       "Language: en\n",
       "Country: null\n",
       "--></g></svg>"
      ]
     },
     "execution_count": 3,
     "metadata": {},
     "output_type": "execute_result"
    }
   ],
   "source": [
    "%viz --style=\"COMPTREE\" --view=\"Tree\" \"CircularImport\""
   ]
  },
  {
   "cell_type": "code",
   "execution_count": 4,
   "id": "considered-skill",
   "metadata": {
    "execution": {
     "iopub.execute_input": "2021-03-25T13:13:15.065512Z",
     "iopub.status.busy": "2021-03-25T13:13:15.064676Z",
     "iopub.status.idle": "2021-03-25T13:13:15.082790Z",
     "shell.execute_reply": "2021-03-25T13:13:15.081716Z"
    }
   },
   "outputs": [
    {
     "data": {
      "image/svg+xml": [
       "<?xml version=\"1.0\" encoding=\"UTF-8\" standalone=\"no\"?><svg xmlns=\"http://www.w3.org/2000/svg\" xmlns:xlink=\"http://www.w3.org/1999/xlink\" contentScriptType=\"application/ecmascript\" contentStyleType=\"text/css\" height=\"12px\" preserveAspectRatio=\"none\" style=\"width:12px;height:12px;\" version=\"1.1\" viewBox=\"0 0 12 12\" width=\"12px\" zoomAndPan=\"magnify\"><defs/><g><!--MD5=[f19188ef49e11757b5c46753f95d9edc]\n",
       "@startuml\r\n",
       " skinparam monochrome true\r\n",
       "skinparam classbackgroundcolor white\r\n",
       "skinparam shadowing false\r\n",
       "skinparam wrapWidth 300\r\n",
       "hide circle\r\n",
       "\r\n",
       "@enduml\r\n",
       "\n",
       "PlantUML version 1.2020.13(Sat Jun 13 12:26:38 UTC 2020)\n",
       "(EPL source distribution)\n",
       "Java Runtime: OpenJDK Runtime Environment\n",
       "JVM: OpenJDK 64-Bit Server VM\n",
       "Default Encoding: UTF-8\n",
       "Language: en\n",
       "Country: null\n",
       "--></g></svg>"
      ]
     },
     "execution_count": 4,
     "metadata": {},
     "output_type": "execute_result"
    }
   ],
   "source": [
    "%viz --style=\"COMPTREE\" --view=\"State\" \"CircularImport\""
   ]
  },
  {
   "cell_type": "code",
   "execution_count": 5,
   "id": "executed-diversity",
   "metadata": {
    "execution": {
     "iopub.execute_input": "2021-03-25T13:13:15.135532Z",
     "iopub.status.busy": "2021-03-25T13:13:15.134799Z",
     "iopub.status.idle": "2021-03-25T13:13:15.340858Z",
     "shell.execute_reply": "2021-03-25T13:13:15.341385Z"
    }
   },
   "outputs": [
    {
     "data": {
      "image/svg+xml": [
       "<?xml version=\"1.0\" encoding=\"UTF-8\" standalone=\"no\"?><svg xmlns=\"http://www.w3.org/2000/svg\" xmlns:xlink=\"http://www.w3.org/1999/xlink\" contentScriptType=\"application/ecmascript\" contentStyleType=\"text/css\" height=\"179px\" preserveAspectRatio=\"none\" style=\"width:846px;height:179px;\" version=\"1.1\" viewBox=\"0 0 846 179\" width=\"846px\" zoomAndPan=\"magnify\"><defs/><g><!--MD5=[fbc87193dbaf4d95561dea2c320d4a47]\n",
       "cluster E1--><a href=\"psysml:6a62b0bb-ce07-42d9-b06f-c19bd22a93a2\" target=\"_top\" title=\"psysml:6a62b0bb-ce07-42d9-b06f-c19bd22a93a2\" xlink:actuate=\"onRequest\" xlink:href=\"psysml:6a62b0bb-ce07-42d9-b06f-c19bd22a93a2\" xlink:show=\"new\" xlink:title=\"psysml:6a62b0bb-ce07-42d9-b06f-c19bd22a93a2\" xlink:type=\"simple\"><polygon fill=\"#FFFFFF\" points=\"16,6,134,6,141,28.2969,824,28.2969,824,167,16,167,16,6\" style=\"stroke: #000000; stroke-width: 1.5;\"/><line style=\"stroke: #000000; stroke-width: 1.5;\" x1=\"16\" x2=\"141\" y1=\"28.2969\" y2=\"28.2969\"/><text fill=\"#000000\" font-family=\"sans-serif\" font-size=\"14\" font-weight=\"bold\" lengthAdjust=\"spacingAndGlyphs\" textLength=\"112\" x=\"20\" y=\"20.9951\">CircularImport</text></a><!--MD5=[e4f7fae6ed58524ba242bb0b0d3be6b7]\n",
       "cluster E2--><a href=\"psysml:e5793e48-aebf-4c77-9b1c-634d316c370a\" target=\"_top\" title=\"psysml:e5793e48-aebf-4c77-9b1c-634d316c370a\" xlink:actuate=\"onRequest\" xlink:href=\"psysml:e5793e48-aebf-4c77-9b1c-634d316c370a\" xlink:show=\"new\" xlink:title=\"psysml:e5793e48-aebf-4c77-9b1c-634d316c370a\" xlink:type=\"simple\"><polygon fill=\"#FFFFFF\" points=\"696,49,722,49,729,71.2969,800,71.2969,800,143,696,143,696,49\" style=\"stroke: #000000; stroke-width: 1.5;\"/><line style=\"stroke: #000000; stroke-width: 1.5;\" x1=\"696\" x2=\"729\" y1=\"71.2969\" y2=\"71.2969\"/><text fill=\"#000000\" font-family=\"sans-serif\" font-size=\"14\" font-weight=\"bold\" lengthAdjust=\"spacingAndGlyphs\" textLength=\"20\" x=\"700\" y=\"63.9951\">P1</text></a><!--MD5=[f6df4d0ebaf0b5dfb2ced0ae5af7c670]\n",
       "cluster E4--><a href=\"psysml:9f128572-3fea-4fc4-b18b-c92f97cc0f0b\" target=\"_top\" title=\"psysml:9f128572-3fea-4fc4-b18b-c92f97cc0f0b\" xlink:actuate=\"onRequest\" xlink:href=\"psysml:9f128572-3fea-4fc4-b18b-c92f97cc0f0b\" xlink:show=\"new\" xlink:title=\"psysml:9f128572-3fea-4fc4-b18b-c92f97cc0f0b\" xlink:type=\"simple\"><polygon fill=\"#FFFFFF\" points=\"568,49,594,49,601,71.2969,672,71.2969,672,143,568,143,568,49\" style=\"stroke: #000000; stroke-width: 1.5;\"/><line style=\"stroke: #000000; stroke-width: 1.5;\" x1=\"568\" x2=\"601\" y1=\"71.2969\" y2=\"71.2969\"/><text fill=\"#000000\" font-family=\"sans-serif\" font-size=\"14\" font-weight=\"bold\" lengthAdjust=\"spacingAndGlyphs\" textLength=\"20\" x=\"572\" y=\"63.9951\">P2</text></a><!--MD5=[14e3b0961a2654348d326746436168a1]\n",
       "cluster E6--><a href=\"psysml:6c517ad3-81f8-4503-b234-41386708eb5e\" target=\"_top\" title=\"psysml:6c517ad3-81f8-4503-b234-41386708eb5e\" xlink:actuate=\"onRequest\" xlink:href=\"psysml:6c517ad3-81f8-4503-b234-41386708eb5e\" xlink:show=\"new\" xlink:title=\"psysml:6c517ad3-81f8-4503-b234-41386708eb5e\" xlink:type=\"simple\"><polygon fill=\"#FFFFFF\" points=\"377,50.5,428,50.5,435,72.7969,544,72.7969,544,141.5,377,141.5,377,50.5\" style=\"stroke: #000000; stroke-width: 1.5;\"/><line style=\"stroke: #000000; stroke-width: 1.5;\" x1=\"377\" x2=\"435\" y1=\"72.7969\" y2=\"72.7969\"/><text fill=\"#000000\" font-family=\"sans-serif\" font-size=\"14\" font-weight=\"bold\" lengthAdjust=\"spacingAndGlyphs\" textLength=\"45\" x=\"381\" y=\"65.4951\">Test1</text></a><!--MD5=[7f149f147074ac12df2cb0a7728a5fb0]\n",
       "cluster E9--><a href=\"psysml:81951965-8d4b-42c4-ba21-4255f6488007\" target=\"_top\" title=\"psysml:81951965-8d4b-42c4-ba21-4255f6488007\" xlink:actuate=\"onRequest\" xlink:href=\"psysml:81951965-8d4b-42c4-ba21-4255f6488007\" xlink:show=\"new\" xlink:title=\"psysml:81951965-8d4b-42c4-ba21-4255f6488007\" xlink:type=\"simple\"><polygon fill=\"#FFFFFF\" points=\"186,50.5,237,50.5,244,72.7969,353,72.7969,353,141.5,186,141.5,186,50.5\" style=\"stroke: #000000; stroke-width: 1.5;\"/><line style=\"stroke: #000000; stroke-width: 1.5;\" x1=\"186\" x2=\"244\" y1=\"72.7969\" y2=\"72.7969\"/><text fill=\"#000000\" font-family=\"sans-serif\" font-size=\"14\" font-weight=\"bold\" lengthAdjust=\"spacingAndGlyphs\" textLength=\"45\" x=\"190\" y=\"65.4951\">Test2</text></a><g id=\"E1.E2.E3\"><a href=\"psysml:4745677c-bede-4ab8-acdc-4365dad759bc\" target=\"_top\" title=\"psysml:4745677c-bede-4ab8-acdc-4365dad759bc\" xlink:actuate=\"onRequest\" xlink:href=\"psysml:4745677c-bede-4ab8-acdc-4365dad759bc\" xlink:show=\"new\" xlink:title=\"psysml:4745677c-bede-4ab8-acdc-4365dad759bc\" xlink:type=\"simple\"><rect fill=\"#FFFFFF\" height=\"42.9375\" id=\"E3\" style=\"stroke: #383838; stroke-width: 1.5;\" width=\"71\" x=\"712.5\" y=\"84\"/><rect fill=\"#F8F8F8\" height=\"37.9375\" style=\"stroke: #383838; stroke-width: 1.5;\" width=\"71\" x=\"712.5\" y=\"84\"/><text fill=\"#000000\" font-family=\"sans-serif\" font-size=\"12\" font-style=\"italic\" lengthAdjust=\"spacingAndGlyphs\" textLength=\"64\" x=\"716\" y=\"100.1387\">«part def»</text><text fill=\"#000000\" font-family=\"sans-serif\" font-size=\"12\" lengthAdjust=\"spacingAndGlyphs\" textLength=\"8\" x=\"744\" y=\"114.1074\">A</text></a></g><g id=\"E1.E4.E5\"><a href=\"psysml:a455b6ac-bbc4-40c1-9da4-354e9f8fdc46\" target=\"_top\" title=\"psysml:a455b6ac-bbc4-40c1-9da4-354e9f8fdc46\" xlink:actuate=\"onRequest\" xlink:href=\"psysml:a455b6ac-bbc4-40c1-9da4-354e9f8fdc46\" xlink:show=\"new\" xlink:title=\"psysml:a455b6ac-bbc4-40c1-9da4-354e9f8fdc46\" xlink:type=\"simple\"><rect fill=\"#FFFFFF\" height=\"42.9375\" id=\"E5\" style=\"stroke: #383838; stroke-width: 1.5;\" width=\"71\" x=\"584.5\" y=\"84\"/><rect fill=\"#F8F8F8\" height=\"37.9375\" style=\"stroke: #383838; stroke-width: 1.5;\" width=\"71\" x=\"584.5\" y=\"84\"/><text fill=\"#000000\" font-family=\"sans-serif\" font-size=\"12\" font-style=\"italic\" lengthAdjust=\"spacingAndGlyphs\" textLength=\"64\" x=\"588\" y=\"100.1387\">«part def»</text><text fill=\"#000000\" font-family=\"sans-serif\" font-size=\"12\" lengthAdjust=\"spacingAndGlyphs\" textLength=\"8\" x=\"616\" y=\"114.1074\">B</text></a></g><g id=\"E1.E6.E7\"><a href=\"psysml:6b7db59d-d003-4043-9508-3fd9ac781eff\" target=\"_top\" title=\"psysml:6b7db59d-d003-4043-9508-3fd9ac781eff\" xlink:actuate=\"onRequest\" xlink:href=\"psysml:6b7db59d-d003-4043-9508-3fd9ac781eff\" xlink:show=\"new\" xlink:title=\"psysml:6b7db59d-d003-4043-9508-3fd9ac781eff\" xlink:type=\"simple\"><rect fill=\"#FFFFFF\" height=\"40\" id=\"E7\" rx=\"10\" ry=\"10\" style=\"stroke: #383838; stroke-width: 1.5;\" width=\"50\" x=\"478\" y=\"85.5\"/><rect fill=\"#F8F8F8\" height=\"23.9688\" rx=\"10\" ry=\"10\" style=\"stroke: #F8F8F8; stroke-width: 1.5;\" width=\"50\" x=\"478\" y=\"85.5\"/><rect fill=\"#F8F8F8\" height=\"10\" style=\"stroke: #F8F8F8; stroke-width: 1.5;\" width=\"50\" x=\"478\" y=\"99.4688\"/><rect fill=\"none\" height=\"40\" id=\"E7\" rx=\"10\" ry=\"10\" style=\"stroke: #383838; stroke-width: 1.5;\" width=\"50\" x=\"478\" y=\"85.5\"/><text fill=\"#000000\" font-family=\"sans-serif\" font-size=\"12\" lengthAdjust=\"spacingAndGlyphs\" textLength=\"22\" x=\"492\" y=\"101.6387\">x: A</text></a></g><g id=\"E1.E6.E8\"><a href=\"psysml:6c414e1f-4fb5-42fd-83aa-c158d2fbc464\" target=\"_top\" title=\"psysml:6c414e1f-4fb5-42fd-83aa-c158d2fbc464\" xlink:actuate=\"onRequest\" xlink:href=\"psysml:6c414e1f-4fb5-42fd-83aa-c158d2fbc464\" xlink:show=\"new\" xlink:title=\"psysml:6c414e1f-4fb5-42fd-83aa-c158d2fbc464\" xlink:type=\"simple\"><rect fill=\"#FFFFFF\" height=\"40\" id=\"E8\" rx=\"10\" ry=\"10\" style=\"stroke: #383838; stroke-width: 1.5;\" width=\"50\" x=\"393\" y=\"85.5\"/><rect fill=\"#F8F8F8\" height=\"23.9688\" rx=\"10\" ry=\"10\" style=\"stroke: #F8F8F8; stroke-width: 1.5;\" width=\"50\" x=\"393\" y=\"85.5\"/><rect fill=\"#F8F8F8\" height=\"10\" style=\"stroke: #F8F8F8; stroke-width: 1.5;\" width=\"50\" x=\"393\" y=\"99.4688\"/><rect fill=\"none\" height=\"40\" id=\"E8\" rx=\"10\" ry=\"10\" style=\"stroke: #383838; stroke-width: 1.5;\" width=\"50\" x=\"393\" y=\"85.5\"/><text fill=\"#000000\" font-family=\"sans-serif\" font-size=\"12\" lengthAdjust=\"spacingAndGlyphs\" textLength=\"22\" x=\"407\" y=\"101.6387\">y: B</text></a></g><g id=\"E1.E9.E10\"><a href=\"psysml:797261aa-a958-4475-9de3-b139176b10fb\" target=\"_top\" title=\"psysml:797261aa-a958-4475-9de3-b139176b10fb\" xlink:actuate=\"onRequest\" xlink:href=\"psysml:797261aa-a958-4475-9de3-b139176b10fb\" xlink:show=\"new\" xlink:title=\"psysml:797261aa-a958-4475-9de3-b139176b10fb\" xlink:type=\"simple\"><rect fill=\"#FFFFFF\" height=\"40\" id=\"E10\" rx=\"10\" ry=\"10\" style=\"stroke: #383838; stroke-width: 1.5;\" width=\"50\" x=\"287\" y=\"85.5\"/><rect fill=\"#F8F8F8\" height=\"23.9688\" rx=\"10\" ry=\"10\" style=\"stroke: #F8F8F8; stroke-width: 1.5;\" width=\"50\" x=\"287\" y=\"85.5\"/><rect fill=\"#F8F8F8\" height=\"10\" style=\"stroke: #F8F8F8; stroke-width: 1.5;\" width=\"50\" x=\"287\" y=\"99.4688\"/><rect fill=\"none\" height=\"40\" id=\"E10\" rx=\"10\" ry=\"10\" style=\"stroke: #383838; stroke-width: 1.5;\" width=\"50\" x=\"287\" y=\"85.5\"/><text fill=\"#000000\" font-family=\"sans-serif\" font-size=\"12\" lengthAdjust=\"spacingAndGlyphs\" textLength=\"22\" x=\"301\" y=\"101.6387\">x: A</text></a></g><g id=\"E1.E9.E11\"><a href=\"psysml:3825b43b-bb71-4033-970e-c8c9e00cfd14\" target=\"_top\" title=\"psysml:3825b43b-bb71-4033-970e-c8c9e00cfd14\" xlink:actuate=\"onRequest\" xlink:href=\"psysml:3825b43b-bb71-4033-970e-c8c9e00cfd14\" xlink:show=\"new\" xlink:title=\"psysml:3825b43b-bb71-4033-970e-c8c9e00cfd14\" xlink:type=\"simple\"><rect fill=\"#FFFFFF\" height=\"40\" id=\"E11\" rx=\"10\" ry=\"10\" style=\"stroke: #383838; stroke-width: 1.5;\" width=\"50\" x=\"202\" y=\"85.5\"/><rect fill=\"#F8F8F8\" height=\"23.9688\" rx=\"10\" ry=\"10\" style=\"stroke: #F8F8F8; stroke-width: 1.5;\" width=\"50\" x=\"202\" y=\"85.5\"/><rect fill=\"#F8F8F8\" height=\"10\" style=\"stroke: #F8F8F8; stroke-width: 1.5;\" width=\"50\" x=\"202\" y=\"99.4688\"/><rect fill=\"none\" height=\"40\" id=\"E11\" rx=\"10\" ry=\"10\" style=\"stroke: #383838; stroke-width: 1.5;\" width=\"50\" x=\"202\" y=\"85.5\"/><text fill=\"#000000\" font-family=\"sans-serif\" font-size=\"12\" lengthAdjust=\"spacingAndGlyphs\" textLength=\"22\" x=\"216\" y=\"101.6387\">y: B</text></a></g><g id=\"E1.E12\"><a href=\"psysml:e16c4bbb-61f3-4b61-a2b5-b03e29e494af\" target=\"_top\" title=\"psysml:e16c4bbb-61f3-4b61-a2b5-b03e29e494af\" xlink:actuate=\"onRequest\" xlink:href=\"psysml:e16c4bbb-61f3-4b61-a2b5-b03e29e494af\" xlink:show=\"new\" xlink:title=\"psysml:e16c4bbb-61f3-4b61-a2b5-b03e29e494af\" xlink:type=\"simple\"><rect fill=\"#FFFFFF\" height=\"40\" id=\"E12\" rx=\"10\" ry=\"10\" style=\"stroke: #383838; stroke-width: 1.5;\" width=\"50\" x=\"117\" y=\"85.5\"/><rect fill=\"#F8F8F8\" height=\"23.9688\" rx=\"10\" ry=\"10\" style=\"stroke: #F8F8F8; stroke-width: 1.5;\" width=\"50\" x=\"117\" y=\"85.5\"/><rect fill=\"#F8F8F8\" height=\"10\" style=\"stroke: #F8F8F8; stroke-width: 1.5;\" width=\"50\" x=\"117\" y=\"99.4688\"/><rect fill=\"none\" height=\"40\" id=\"E12\" rx=\"10\" ry=\"10\" style=\"stroke: #383838; stroke-width: 1.5;\" width=\"50\" x=\"117\" y=\"85.5\"/><text fill=\"#000000\" font-family=\"sans-serif\" font-size=\"12\" lengthAdjust=\"spacingAndGlyphs\" textLength=\"22\" x=\"131\" y=\"101.6387\">x: A</text></a></g><g id=\"E1.E13\"><a href=\"psysml:6a814915-eeda-4c4d-8e98-a86878ae1f3d\" target=\"_top\" title=\"psysml:6a814915-eeda-4c4d-8e98-a86878ae1f3d\" xlink:actuate=\"onRequest\" xlink:href=\"psysml:6a814915-eeda-4c4d-8e98-a86878ae1f3d\" xlink:show=\"new\" xlink:title=\"psysml:6a814915-eeda-4c4d-8e98-a86878ae1f3d\" xlink:type=\"simple\"><rect fill=\"#FFFFFF\" height=\"40\" id=\"E13\" rx=\"10\" ry=\"10\" style=\"stroke: #383838; stroke-width: 1.5;\" width=\"50\" x=\"32\" y=\"85.5\"/><rect fill=\"#F8F8F8\" height=\"23.9688\" rx=\"10\" ry=\"10\" style=\"stroke: #F8F8F8; stroke-width: 1.5;\" width=\"50\" x=\"32\" y=\"85.5\"/><rect fill=\"#F8F8F8\" height=\"10\" style=\"stroke: #F8F8F8; stroke-width: 1.5;\" width=\"50\" x=\"32\" y=\"99.4688\"/><rect fill=\"none\" height=\"40\" id=\"E13\" rx=\"10\" ry=\"10\" style=\"stroke: #383838; stroke-width: 1.5;\" width=\"50\" x=\"32\" y=\"85.5\"/><text fill=\"#000000\" font-family=\"sans-serif\" font-size=\"12\" lengthAdjust=\"spacingAndGlyphs\" textLength=\"22\" x=\"46\" y=\"101.6387\">y: B</text></a></g><!--MD5=[5ffcd59616d6e6443ef1ac5c55c89e57]\n",
       "@startuml\r\n",
       "skinparam ranksep 8\r\n",
       "skinparam rectangle {\r\n",
       " backgroundColor<<block>> LightGreen\r\n",
       "}\r\n",
       " skinparam monochrome true\r\n",
       "skinparam classbackgroundcolor white\r\n",
       "skinparam shadowing false\r\n",
       "skinparam wrapWidth 300\r\n",
       "hide circle\r\n",
       "\r\n",
       "package \"CircularImport\" as E1  [[psysml:6a62b0bb-ce07-42d9-b06f-c19bd22a93a2 ]]  {\r\n",
       "package \"P1\" as E2  [[psysml:e5793e48-aebf-4c77-9b1c-634d316c370a ]]  {\r\n",
       "rec def \"A\" as E3  <<(T,blue)part def>> [[psysml:4745677c-bede-4ab8-acdc-4365dad759bc ]] {\r\n",
       "}\r\n",
       "}\r\n",
       "package \"P2\" as E4  [[psysml:9f128572-3fea-4fc4-b18b-c92f97cc0f0b ]]  {\r\n",
       "rec def \"B\" as E5  <<(T,blue)part def>> [[psysml:a455b6ac-bbc4-40c1-9da4-354e9f8fdc46 ]] {\r\n",
       "}\r\n",
       "}\r\n",
       "package \"Test1\" as E6  [[psysml:6c517ad3-81f8-4503-b234-41386708eb5e ]]  {\r\n",
       "rec usage \"x: A\" as E7  [[psysml:6b7db59d-d003-4043-9508-3fd9ac781eff ]] {\r\n",
       "}\r\n",
       "rec usage \"y: B\" as E8  [[psysml:6c414e1f-4fb5-42fd-83aa-c158d2fbc464 ]] {\r\n",
       "}\r\n",
       "}\r\n",
       "package \"Test2\" as E9  [[psysml:81951965-8d4b-42c4-ba21-4255f6488007 ]]  {\r\n",
       "rec usage \"x: A\" as E10  [[psysml:797261aa-a958-4475-9de3-b139176b10fb ]] {\r\n",
       "}\r\n",
       "rec usage \"y: B\" as E11  [[psysml:3825b43b-bb71-4033-970e-c8c9e00cfd14 ]] {\r\n",
       "}\r\n",
       "}\r\n",
       "rec usage \"x: A\" as E12  [[psysml:e16c4bbb-61f3-4b61-a2b5-b03e29e494af ]] {\r\n",
       "}\r\n",
       "rec usage \"y: B\" as E13  [[psysml:6a814915-eeda-4c4d-8e98-a86878ae1f3d ]] {\r\n",
       "}\r\n",
       "}\r\n",
       "@enduml\r\n",
       "\n",
       "PlantUML version 1.2020.13(Sat Jun 13 12:26:38 UTC 2020)\n",
       "(EPL source distribution)\n",
       "Java Runtime: OpenJDK Runtime Environment\n",
       "JVM: OpenJDK 64-Bit Server VM\n",
       "Default Encoding: UTF-8\n",
       "Language: en\n",
       "Country: null\n",
       "--></g></svg>"
      ]
     },
     "execution_count": 5,
     "metadata": {},
     "output_type": "execute_result"
    }
   ],
   "source": [
    "%viz --style=\"COMPTREE\" --view=\"Interconnection\" \"CircularImport\""
   ]
  },
  {
   "cell_type": "code",
   "execution_count": 6,
   "id": "narrative-boutique",
   "metadata": {
    "execution": {
     "iopub.execute_input": "2021-03-25T13:13:15.392683Z",
     "iopub.status.busy": "2021-03-25T13:13:15.391794Z",
     "iopub.status.idle": "2021-03-25T13:13:15.417311Z",
     "shell.execute_reply": "2021-03-25T13:13:15.416822Z"
    }
   },
   "outputs": [
    {
     "data": {
      "image/svg+xml": [
       "<?xml version=\"1.0\" encoding=\"UTF-8\" standalone=\"no\"?><svg xmlns=\"http://www.w3.org/2000/svg\" xmlns:xlink=\"http://www.w3.org/1999/xlink\" contentScriptType=\"application/ecmascript\" contentStyleType=\"text/css\" height=\"12px\" preserveAspectRatio=\"none\" style=\"width:12px;height:12px;\" version=\"1.1\" viewBox=\"0 0 12 12\" width=\"12px\" zoomAndPan=\"magnify\"><defs/><g><!--MD5=[655b888544ca4751ea36af1068543f84]\n",
       "@startuml\r\n",
       "skinparam ranksep 8\r\n",
       " skinparam monochrome true\r\n",
       "skinparam classbackgroundcolor white\r\n",
       "skinparam shadowing false\r\n",
       "skinparam wrapWidth 300\r\n",
       "hide circle\r\n",
       "\r\n",
       "@enduml\r\n",
       "\n",
       "PlantUML version 1.2020.13(Sat Jun 13 12:26:38 UTC 2020)\n",
       "(EPL source distribution)\n",
       "Java Runtime: OpenJDK Runtime Environment\n",
       "JVM: OpenJDK 64-Bit Server VM\n",
       "Default Encoding: UTF-8\n",
       "Language: en\n",
       "Country: null\n",
       "--></g></svg>"
      ]
     },
     "execution_count": 6,
     "metadata": {},
     "output_type": "execute_result"
    }
   ],
   "source": [
    "%viz --style=\"COMPTREE\" --view=\"Action\" \"CircularImport\""
   ]
  },
  {
   "cell_type": "code",
   "execution_count": 7,
   "id": "focal-order",
   "metadata": {
    "execution": {
     "iopub.execute_input": "2021-03-25T13:13:15.471031Z",
     "iopub.status.busy": "2021-03-25T13:13:15.468154Z",
     "iopub.status.idle": "2021-03-25T13:13:15.739158Z",
     "shell.execute_reply": "2021-03-25T13:13:15.738019Z"
    }
   },
   "outputs": [
    {
     "data": {
      "image/svg+xml": [
       "<?xml version=\"1.0\" encoding=\"UTF-8\" standalone=\"no\"?><svg xmlns=\"http://www.w3.org/2000/svg\" xmlns:xlink=\"http://www.w3.org/1999/xlink\" contentScriptType=\"application/ecmascript\" contentStyleType=\"text/css\" height=\"303px\" preserveAspectRatio=\"none\" style=\"width:518px;height:303px;\" version=\"1.1\" viewBox=\"0 0 518 303\" width=\"518px\" zoomAndPan=\"magnify\"><defs/><g><!--MD5=[fbc87193dbaf4d95561dea2c320d4a47]\n",
       "cluster E1--><a href=\"psysml:6a62b0bb-ce07-42d9-b06f-c19bd22a93a2\" target=\"_top\" title=\"psysml:6a62b0bb-ce07-42d9-b06f-c19bd22a93a2\" xlink:actuate=\"onRequest\" xlink:href=\"psysml:6a62b0bb-ce07-42d9-b06f-c19bd22a93a2\" xlink:show=\"new\" xlink:title=\"psysml:6a62b0bb-ce07-42d9-b06f-c19bd22a93a2\" xlink:type=\"simple\"><polygon fill=\"#FFFFFF\" points=\"16,6,134,6,141,28.2969,496,28.2969,496,291,16,291,16,6\" style=\"stroke: #000000; stroke-width: 1.5;\"/><line style=\"stroke: #000000; stroke-width: 1.5;\" x1=\"16\" x2=\"141\" y1=\"28.2969\" y2=\"28.2969\"/><text fill=\"#000000\" font-family=\"sans-serif\" font-size=\"14\" font-weight=\"bold\" lengthAdjust=\"spacingAndGlyphs\" textLength=\"112\" x=\"20\" y=\"20.9951\">CircularImport</text></a><!--MD5=[e4f7fae6ed58524ba242bb0b0d3be6b7]\n",
       "cluster E2--><a href=\"psysml:e5793e48-aebf-4c77-9b1c-634d316c370a\" target=\"_top\" title=\"psysml:e5793e48-aebf-4c77-9b1c-634d316c370a\" xlink:actuate=\"onRequest\" xlink:href=\"psysml:e5793e48-aebf-4c77-9b1c-634d316c370a\" xlink:show=\"new\" xlink:title=\"psysml:e5793e48-aebf-4c77-9b1c-634d316c370a\" xlink:type=\"simple\"><polygon fill=\"#FFFFFF\" points=\"333,170,359,170,366,192.2969,431,192.2969,431,267,333,267,333,170\" style=\"stroke: #000000; stroke-width: 1.5;\"/><line style=\"stroke: #000000; stroke-width: 1.5;\" x1=\"333\" x2=\"366\" y1=\"192.2969\" y2=\"192.2969\"/><text fill=\"#000000\" font-family=\"sans-serif\" font-size=\"14\" font-weight=\"bold\" lengthAdjust=\"spacingAndGlyphs\" textLength=\"20\" x=\"337\" y=\"184.9951\">P1</text></a><!--MD5=[f6df4d0ebaf0b5dfb2ced0ae5af7c670]\n",
       "cluster E4--><a href=\"psysml:9f128572-3fea-4fc4-b18b-c92f97cc0f0b\" target=\"_top\" title=\"psysml:9f128572-3fea-4fc4-b18b-c92f97cc0f0b\" xlink:actuate=\"onRequest\" xlink:href=\"psysml:9f128572-3fea-4fc4-b18b-c92f97cc0f0b\" xlink:show=\"new\" xlink:title=\"psysml:9f128572-3fea-4fc4-b18b-c92f97cc0f0b\" xlink:type=\"simple\"><polygon fill=\"#FFFFFF\" points=\"81,170,107,170,114,192.2969,179,192.2969,179,267,81,267,81,170\" style=\"stroke: #000000; stroke-width: 1.5;\"/><line style=\"stroke: #000000; stroke-width: 1.5;\" x1=\"81\" x2=\"114\" y1=\"192.2969\" y2=\"192.2969\"/><text fill=\"#000000\" font-family=\"sans-serif\" font-size=\"14\" font-weight=\"bold\" lengthAdjust=\"spacingAndGlyphs\" textLength=\"20\" x=\"85\" y=\"184.9951\">P2</text></a><!--MD5=[14e3b0961a2654348d326746436168a1]\n",
       "cluster E6--><a href=\"psysml:6c517ad3-81f8-4503-b234-41386708eb5e\" target=\"_top\" title=\"psysml:6c517ad3-81f8-4503-b234-41386708eb5e\" xlink:actuate=\"onRequest\" xlink:href=\"psysml:6c517ad3-81f8-4503-b234-41386708eb5e\" xlink:show=\"new\" xlink:title=\"psysml:6c517ad3-81f8-4503-b234-41386708eb5e\" xlink:type=\"simple\"><polygon fill=\"#FFFFFF\" points=\"268,49,319,49,326,71.2969,419,71.2969,419,146,268,146,268,49\" style=\"stroke: #000000; stroke-width: 1.5;\"/><line style=\"stroke: #000000; stroke-width: 1.5;\" x1=\"268\" x2=\"326\" y1=\"71.2969\" y2=\"71.2969\"/><text fill=\"#000000\" font-family=\"sans-serif\" font-size=\"14\" font-weight=\"bold\" lengthAdjust=\"spacingAndGlyphs\" textLength=\"45\" x=\"272\" y=\"63.9951\">Test1</text></a><!--MD5=[7f149f147074ac12df2cb0a7728a5fb0]\n",
       "cluster E9--><a href=\"psysml:81951965-8d4b-42c4-ba21-4255f6488007\" target=\"_top\" title=\"psysml:81951965-8d4b-42c4-ba21-4255f6488007\" xlink:actuate=\"onRequest\" xlink:href=\"psysml:81951965-8d4b-42c4-ba21-4255f6488007\" xlink:show=\"new\" xlink:title=\"psysml:81951965-8d4b-42c4-ba21-4255f6488007\" xlink:type=\"simple\"><polygon fill=\"#FFFFFF\" points=\"93,49,144,49,151,71.2969,244,71.2969,244,146,93,146,93,49\" style=\"stroke: #000000; stroke-width: 1.5;\"/><line style=\"stroke: #000000; stroke-width: 1.5;\" x1=\"93\" x2=\"151\" y1=\"71.2969\" y2=\"71.2969\"/><text fill=\"#000000\" font-family=\"sans-serif\" font-size=\"14\" font-weight=\"bold\" lengthAdjust=\"spacingAndGlyphs\" textLength=\"45\" x=\"97\" y=\"63.9951\">Test2</text></a><!--MD5=[49a0ec8f00dab7302a31f22d0f0fe584]\n",
       "class E12--><a href=\"psysml:e16c4bbb-61f3-4b61-a2b5-b03e29e494af\" target=\"_top\" title=\"psysml:e16c4bbb-61f3-4b61-a2b5-b03e29e494af\" xlink:actuate=\"onRequest\" xlink:href=\"psysml:e16c4bbb-61f3-4b61-a2b5-b03e29e494af\" xlink:show=\"new\" xlink:title=\"psysml:e16c4bbb-61f3-4b61-a2b5-b03e29e494af\" xlink:type=\"simple\"><rect fill=\"#FFFFFF\" height=\"45.9375\" id=\"E12\" rx=\"10\" ry=\"10\" style=\"stroke: #383838; stroke-width: 1.5;\" width=\"42\" x=\"438\" y=\"84\"/><text fill=\"#000000\" font-family=\"sans-serif\" font-size=\"12\" font-style=\"italic\" lengthAdjust=\"spacingAndGlyphs\" textLength=\"40\" x=\"439\" y=\"100.1387\">«part»</text><text fill=\"#000000\" font-family=\"sans-serif\" font-size=\"12\" lengthAdjust=\"spacingAndGlyphs\" textLength=\"22\" x=\"448\" y=\"114.1074\">x: A</text><line style=\"stroke: #383838; stroke-width: 1.5;\" x1=\"439\" x2=\"479\" y1=\"121.9375\" y2=\"121.9375\"/></a><!--MD5=[ee3c913d1a06f366521f9ef512b67efe]\n",
       "class E13--><a href=\"psysml:6a814915-eeda-4c4d-8e98-a86878ae1f3d\" target=\"_top\" title=\"psysml:6a814915-eeda-4c4d-8e98-a86878ae1f3d\" xlink:actuate=\"onRequest\" xlink:href=\"psysml:6a814915-eeda-4c4d-8e98-a86878ae1f3d\" xlink:show=\"new\" xlink:title=\"psysml:6a814915-eeda-4c4d-8e98-a86878ae1f3d\" xlink:type=\"simple\"><rect fill=\"#FFFFFF\" height=\"45.9375\" id=\"E13\" rx=\"10\" ry=\"10\" style=\"stroke: #383838; stroke-width: 1.5;\" width=\"42\" x=\"32\" y=\"84\"/><text fill=\"#000000\" font-family=\"sans-serif\" font-size=\"12\" font-style=\"italic\" lengthAdjust=\"spacingAndGlyphs\" textLength=\"40\" x=\"33\" y=\"100.1387\">«part»</text><text fill=\"#000000\" font-family=\"sans-serif\" font-size=\"12\" lengthAdjust=\"spacingAndGlyphs\" textLength=\"22\" x=\"42\" y=\"114.1074\">y: B</text><line style=\"stroke: #383838; stroke-width: 1.5;\" x1=\"33\" x2=\"73\" y1=\"121.9375\" y2=\"121.9375\"/></a><!--MD5=[09b614a08d8cba4a07c9adeb5e0fee81]\n",
       "class E3--><a href=\"psysml:4745677c-bede-4ab8-acdc-4365dad759bc\" target=\"_top\" title=\"psysml:4745677c-bede-4ab8-acdc-4365dad759bc\" xlink:actuate=\"onRequest\" xlink:href=\"psysml:4745677c-bede-4ab8-acdc-4365dad759bc\" xlink:show=\"new\" xlink:title=\"psysml:4745677c-bede-4ab8-acdc-4365dad759bc\" xlink:type=\"simple\"><rect fill=\"#FFFFFF\" height=\"45.9375\" id=\"E3\" style=\"stroke: #383838; stroke-width: 1.5;\" width=\"66\" x=\"349\" y=\"205\"/><text fill=\"#000000\" font-family=\"sans-serif\" font-size=\"12\" font-style=\"italic\" lengthAdjust=\"spacingAndGlyphs\" textLength=\"64\" x=\"350\" y=\"221.1387\">«part def»</text><text fill=\"#000000\" font-family=\"sans-serif\" font-size=\"12\" lengthAdjust=\"spacingAndGlyphs\" textLength=\"8\" x=\"378\" y=\"235.1074\">A</text><line style=\"stroke: #383838; stroke-width: 1.5;\" x1=\"350\" x2=\"414\" y1=\"242.9375\" y2=\"242.9375\"/></a><!--MD5=[270fce915f116d4de14055a7c1d9a0f3]\n",
       "class E5--><a href=\"psysml:a455b6ac-bbc4-40c1-9da4-354e9f8fdc46\" target=\"_top\" title=\"psysml:a455b6ac-bbc4-40c1-9da4-354e9f8fdc46\" xlink:actuate=\"onRequest\" xlink:href=\"psysml:a455b6ac-bbc4-40c1-9da4-354e9f8fdc46\" xlink:show=\"new\" xlink:title=\"psysml:a455b6ac-bbc4-40c1-9da4-354e9f8fdc46\" xlink:type=\"simple\"><rect fill=\"#FFFFFF\" height=\"45.9375\" id=\"E5\" style=\"stroke: #383838; stroke-width: 1.5;\" width=\"66\" x=\"97\" y=\"205\"/><text fill=\"#000000\" font-family=\"sans-serif\" font-size=\"12\" font-style=\"italic\" lengthAdjust=\"spacingAndGlyphs\" textLength=\"64\" x=\"98\" y=\"221.1387\">«part def»</text><text fill=\"#000000\" font-family=\"sans-serif\" font-size=\"12\" lengthAdjust=\"spacingAndGlyphs\" textLength=\"8\" x=\"126\" y=\"235.1074\">B</text><line style=\"stroke: #383838; stroke-width: 1.5;\" x1=\"98\" x2=\"162\" y1=\"242.9375\" y2=\"242.9375\"/></a><!--MD5=[2156ba9850f5573cc1fc38a6a4b2f02b]\n",
       "class E7--><a href=\"psysml:6b7db59d-d003-4043-9508-3fd9ac781eff\" target=\"_top\" title=\"psysml:6b7db59d-d003-4043-9508-3fd9ac781eff\" xlink:actuate=\"onRequest\" xlink:href=\"psysml:6b7db59d-d003-4043-9508-3fd9ac781eff\" xlink:show=\"new\" xlink:title=\"psysml:6b7db59d-d003-4043-9508-3fd9ac781eff\" xlink:type=\"simple\"><rect fill=\"#FFFFFF\" height=\"45.9375\" id=\"E7\" rx=\"10\" ry=\"10\" style=\"stroke: #383838; stroke-width: 1.5;\" width=\"42\" x=\"361\" y=\"84\"/><text fill=\"#000000\" font-family=\"sans-serif\" font-size=\"12\" font-style=\"italic\" lengthAdjust=\"spacingAndGlyphs\" textLength=\"40\" x=\"362\" y=\"100.1387\">«part»</text><text fill=\"#000000\" font-family=\"sans-serif\" font-size=\"12\" lengthAdjust=\"spacingAndGlyphs\" textLength=\"22\" x=\"371\" y=\"114.1074\">x: A</text><line style=\"stroke: #383838; stroke-width: 1.5;\" x1=\"362\" x2=\"402\" y1=\"121.9375\" y2=\"121.9375\"/></a><!--MD5=[b9389687b975829384b498ac4b7476b2]\n",
       "class E8--><a href=\"psysml:6c414e1f-4fb5-42fd-83aa-c158d2fbc464\" target=\"_top\" title=\"psysml:6c414e1f-4fb5-42fd-83aa-c158d2fbc464\" xlink:actuate=\"onRequest\" xlink:href=\"psysml:6c414e1f-4fb5-42fd-83aa-c158d2fbc464\" xlink:show=\"new\" xlink:title=\"psysml:6c414e1f-4fb5-42fd-83aa-c158d2fbc464\" xlink:type=\"simple\"><rect fill=\"#FFFFFF\" height=\"45.9375\" id=\"E8\" rx=\"10\" ry=\"10\" style=\"stroke: #383838; stroke-width: 1.5;\" width=\"42\" x=\"284\" y=\"84\"/><text fill=\"#000000\" font-family=\"sans-serif\" font-size=\"12\" font-style=\"italic\" lengthAdjust=\"spacingAndGlyphs\" textLength=\"40\" x=\"285\" y=\"100.1387\">«part»</text><text fill=\"#000000\" font-family=\"sans-serif\" font-size=\"12\" lengthAdjust=\"spacingAndGlyphs\" textLength=\"22\" x=\"294\" y=\"114.1074\">y: B</text><line style=\"stroke: #383838; stroke-width: 1.5;\" x1=\"285\" x2=\"325\" y1=\"121.9375\" y2=\"121.9375\"/></a><!--MD5=[96f4274e9e20536e775497830990834d]\n",
       "class E10--><a href=\"psysml:797261aa-a958-4475-9de3-b139176b10fb\" target=\"_top\" title=\"psysml:797261aa-a958-4475-9de3-b139176b10fb\" xlink:actuate=\"onRequest\" xlink:href=\"psysml:797261aa-a958-4475-9de3-b139176b10fb\" xlink:show=\"new\" xlink:title=\"psysml:797261aa-a958-4475-9de3-b139176b10fb\" xlink:type=\"simple\"><rect fill=\"#FFFFFF\" height=\"45.9375\" id=\"E10\" rx=\"10\" ry=\"10\" style=\"stroke: #383838; stroke-width: 1.5;\" width=\"42\" x=\"186\" y=\"84\"/><text fill=\"#000000\" font-family=\"sans-serif\" font-size=\"12\" font-style=\"italic\" lengthAdjust=\"spacingAndGlyphs\" textLength=\"40\" x=\"187\" y=\"100.1387\">«part»</text><text fill=\"#000000\" font-family=\"sans-serif\" font-size=\"12\" lengthAdjust=\"spacingAndGlyphs\" textLength=\"22\" x=\"196\" y=\"114.1074\">x: A</text><line style=\"stroke: #383838; stroke-width: 1.5;\" x1=\"187\" x2=\"227\" y1=\"121.9375\" y2=\"121.9375\"/></a><!--MD5=[1dd1bfd58a279cf63c5f349dbc8fc6a1]\n",
       "class E11--><a href=\"psysml:3825b43b-bb71-4033-970e-c8c9e00cfd14\" target=\"_top\" title=\"psysml:3825b43b-bb71-4033-970e-c8c9e00cfd14\" xlink:actuate=\"onRequest\" xlink:href=\"psysml:3825b43b-bb71-4033-970e-c8c9e00cfd14\" xlink:show=\"new\" xlink:title=\"psysml:3825b43b-bb71-4033-970e-c8c9e00cfd14\" xlink:type=\"simple\"><rect fill=\"#FFFFFF\" height=\"45.9375\" id=\"E11\" rx=\"10\" ry=\"10\" style=\"stroke: #383838; stroke-width: 1.5;\" width=\"42\" x=\"109\" y=\"84\"/><text fill=\"#000000\" font-family=\"sans-serif\" font-size=\"12\" font-style=\"italic\" lengthAdjust=\"spacingAndGlyphs\" textLength=\"40\" x=\"110\" y=\"100.1387\">«part»</text><text fill=\"#000000\" font-family=\"sans-serif\" font-size=\"12\" lengthAdjust=\"spacingAndGlyphs\" textLength=\"22\" x=\"119\" y=\"114.1074\">y: B</text><line style=\"stroke: #383838; stroke-width: 1.5;\" x1=\"110\" x2=\"150\" y1=\"121.9375\" y2=\"121.9375\"/></a><!--MD5=[14ccda38c055a5c0da953d572bc50960]\n",
       "link E7 to E3--><a href=\"psysml:85e1ff22-6346-4a23-846d-dc1a236203c0\" target=\"_top\" title=\"psysml:85e1ff22-6346-4a23-846d-dc1a236203c0\" xlink:actuate=\"onRequest\" xlink:href=\"psysml:85e1ff22-6346-4a23-846d-dc1a236203c0\" xlink:show=\"new\" xlink:title=\"psysml:85e1ff22-6346-4a23-846d-dc1a236203c0\" xlink:type=\"simple\"><path d=\"M382,130.1 C382,145.37 382,166.16 382,184.57 \" fill=\"none\" id=\"E7-&gt;E3\" style=\"stroke: #383838; stroke-width: 1.0;\"/><polygon fill=\"#FFFFFF\" points=\"382,204.61,375,185.61,389,185.61,382,204.61\" style=\"stroke: #383838; stroke-width: 1.0;\"/><ellipse cx=\"377\" cy=\"179.91\" fill=\"#383838\" rx=\"2\" ry=\"2\" style=\"stroke: #383838; stroke-width: 1.0;\"/><ellipse cx=\"387\" cy=\"179.91\" fill=\"#383838\" rx=\"2\" ry=\"2\" style=\"stroke: #383838; stroke-width: 1.0;\"/></a><!--MD5=[1ccb2481ffa92f8d51a74ee30c51832a]\n",
       "link E8 to E5--><a href=\"psysml:483adec0-2d55-41ba-876c-1b8fe7d429ab\" target=\"_top\" title=\"psysml:483adec0-2d55-41ba-876c-1b8fe7d429ab\" xlink:actuate=\"onRequest\" xlink:href=\"psysml:483adec0-2d55-41ba-876c-1b8fe7d429ab\" xlink:show=\"new\" xlink:title=\"psysml:483adec0-2d55-41ba-876c-1b8fe7d429ab\" xlink:type=\"simple\"><path d=\"M283.84,124.59 C272.23,133.52 257.5,144.61 244,154 C223.51,168.25 200.41,183.24 180.38,195.91 \" fill=\"none\" id=\"E8-&gt;E5\" style=\"stroke: #383838; stroke-width: 1.0;\"/><polygon fill=\"#FFFFFF\" points=\"163.36,206.57,175.7353,190.5434,183.175,202.403,163.36,206.57\" style=\"stroke: #383838; stroke-width: 1.0;\"/><ellipse cx=\"181.6267\" cy=\"189.2086\" fill=\"#383838\" rx=\"2\" ry=\"2\" style=\"stroke: #383838; stroke-width: 1.0;\"/><ellipse cx=\"186.9408\" cy=\"197.6797\" fill=\"#383838\" rx=\"2\" ry=\"2\" style=\"stroke: #383838; stroke-width: 1.0;\"/></a><!--MD5=[feeac5eb423634930294aa81f2d25a4c]\n",
       "link E10 to E3--><a href=\"psysml:0e238847-8a3c-4f4a-a4c7-c4eca45a31b2\" target=\"_top\" title=\"psysml:0e238847-8a3c-4f4a-a4c7-c4eca45a31b2\" xlink:actuate=\"onRequest\" xlink:href=\"psysml:0e238847-8a3c-4f4a-a4c7-c4eca45a31b2\" xlink:show=\"new\" xlink:title=\"psysml:0e238847-8a3c-4f4a-a4c7-c4eca45a31b2\" xlink:type=\"simple\"><path d=\"M228.16,124.59 C239.77,133.52 254.5,144.61 268,154 C288.49,168.25 311.59,183.24 331.62,195.91 \" fill=\"none\" id=\"E10-&gt;E3\" style=\"stroke: #383838; stroke-width: 1.0;\"/><polygon fill=\"#FFFFFF\" points=\"348.64,206.57,328.825,202.403,336.2647,190.5434,348.64,206.57\" style=\"stroke: #383838; stroke-width: 1.0;\"/><ellipse cx=\"325.0592\" cy=\"197.6797\" fill=\"#383838\" rx=\"2\" ry=\"2\" style=\"stroke: #383838; stroke-width: 1.0;\"/><ellipse cx=\"330.3733\" cy=\"189.2086\" fill=\"#383838\" rx=\"2\" ry=\"2\" style=\"stroke: #383838; stroke-width: 1.0;\"/></a><!--MD5=[07b77f6f309248d16187045709d1c26e]\n",
       "link E11 to E5--><a href=\"psysml:1112046b-9823-4ab2-8a83-96247ffb9742\" target=\"_top\" title=\"psysml:1112046b-9823-4ab2-8a83-96247ffb9742\" xlink:actuate=\"onRequest\" xlink:href=\"psysml:1112046b-9823-4ab2-8a83-96247ffb9742\" xlink:show=\"new\" xlink:title=\"psysml:1112046b-9823-4ab2-8a83-96247ffb9742\" xlink:type=\"simple\"><path d=\"M130,130.1 C130,145.37 130,166.16 130,184.57 \" fill=\"none\" id=\"E11-&gt;E5\" style=\"stroke: #383838; stroke-width: 1.0;\"/><polygon fill=\"#FFFFFF\" points=\"130,204.61,123,185.61,137,185.61,130,204.61\" style=\"stroke: #383838; stroke-width: 1.0;\"/><ellipse cx=\"125\" cy=\"179.91\" fill=\"#383838\" rx=\"2\" ry=\"2\" style=\"stroke: #383838; stroke-width: 1.0;\"/><ellipse cx=\"135\" cy=\"179.91\" fill=\"#383838\" rx=\"2\" ry=\"2\" style=\"stroke: #383838; stroke-width: 1.0;\"/></a><!--MD5=[39f41a0e550fb3d73b4d8135617e30a2]\n",
       "link E12 to E3--><a href=\"psysml:ee0d4e1c-50f8-4d3c-8a56-5035ed7c5f53\" target=\"_top\" title=\"psysml:ee0d4e1c-50f8-4d3c-8a56-5035ed7c5f53\" xlink:actuate=\"onRequest\" xlink:href=\"psysml:ee0d4e1c-50f8-4d3c-8a56-5035ed7c5f53\" xlink:show=\"new\" xlink:title=\"psysml:ee0d4e1c-50f8-4d3c-8a56-5035ed7c5f53\" xlink:type=\"simple\"><path d=\"M444.7,130.1 C434.28,146.2 419.89,168.44 407.53,187.55 \" fill=\"none\" id=\"E12-&gt;E3\" style=\"stroke: #383838; stroke-width: 1.0;\"/><polygon fill=\"#FFFFFF\" points=\"396.49,204.61,400.9313,184.8546,412.6866,192.4581,396.49,204.61\" style=\"stroke: #383838; stroke-width: 1.0;\"/><ellipse cx=\"405.7063\" cy=\"181.1547\" fill=\"#383838\" rx=\"2\" ry=\"2\" style=\"stroke: #383838; stroke-width: 1.0;\"/><ellipse cx=\"414.103\" cy=\"186.5858\" fill=\"#383838\" rx=\"2\" ry=\"2\" style=\"stroke: #383838; stroke-width: 1.0;\"/></a><!--MD5=[066b2d8af59fea80ccdb3d54ad5c1091]\n",
       "link E13 to E5--><a href=\"psysml:1d6f62f5-9885-441d-bead-3e38c1577759\" target=\"_top\" title=\"psysml:1d6f62f5-9885-441d-bead-3e38c1577759\" xlink:actuate=\"onRequest\" xlink:href=\"psysml:1d6f62f5-9885-441d-bead-3e38c1577759\" xlink:show=\"new\" xlink:title=\"psysml:1d6f62f5-9885-441d-bead-3e38c1577759\" xlink:type=\"simple\"><path d=\"M67.3,130.1 C77.72,146.2 92.11,168.44 104.47,187.55 \" fill=\"none\" id=\"E13-&gt;E5\" style=\"stroke: #383838; stroke-width: 1.0;\"/><polygon fill=\"#FFFFFF\" points=\"115.51,204.61,99.3134,192.4581,111.0687,184.8546,115.51,204.61\" style=\"stroke: #383838; stroke-width: 1.0;\"/><ellipse cx=\"97.897\" cy=\"186.5858\" fill=\"#383838\" rx=\"2\" ry=\"2\" style=\"stroke: #383838; stroke-width: 1.0;\"/><ellipse cx=\"106.2937\" cy=\"181.1547\" fill=\"#383838\" rx=\"2\" ry=\"2\" style=\"stroke: #383838; stroke-width: 1.0;\"/></a><!--MD5=[74223b0a14a52d6aeda986f53cb560f5]\n",
       "@startuml\r\n",
       " skinparam monochrome true\r\n",
       "skinparam classbackgroundcolor white\r\n",
       "skinparam shadowing false\r\n",
       "skinparam wrapWidth 300\r\n",
       "hide circle\r\n",
       "\r\n",
       "package \"CircularImport\" as E1  [[psysml:6a62b0bb-ce07-42d9-b06f-c19bd22a93a2 ]]  {\r\n",
       "package \"P1\" as E2  [[psysml:e5793e48-aebf-4c77-9b1c-634d316c370a ]]  {\r\n",
       "comp def \"A\" as E3  <<(T,blue)part def>> [[psysml:4745677c-bede-4ab8-acdc-4365dad759bc ]] {\r\n",
       "}\r\n",
       "}\r\n",
       "package \"P2\" as E4  [[psysml:9f128572-3fea-4fc4-b18b-c92f97cc0f0b ]]  {\r\n",
       "comp def \"B\" as E5  <<(T,blue)part def>> [[psysml:a455b6ac-bbc4-40c1-9da4-354e9f8fdc46 ]] {\r\n",
       "}\r\n",
       "}\r\n",
       "package \"Test1\" as E6  [[psysml:6c517ad3-81f8-4503-b234-41386708eb5e ]]  {\r\n",
       "comp usage \"x: A\" as E7  <<(T,blue)part>> [[psysml:6b7db59d-d003-4043-9508-3fd9ac781eff ]] {\r\n",
       "}\r\n",
       "comp usage \"y: B\" as E8  <<(T,blue)part>> [[psysml:6c414e1f-4fb5-42fd-83aa-c158d2fbc464 ]] {\r\n",
       "}\r\n",
       "E7 - -:|> E3 [[psysml:85e1ff22-6346-4a23-846d-dc1a236203c0 ]] \r\n",
       "E8 - -:|> E5 [[psysml:483adec0-2d55-41ba-876c-1b8fe7d429ab ]] \r\n",
       "}\r\n",
       "package \"Test2\" as E9  [[psysml:81951965-8d4b-42c4-ba21-4255f6488007 ]]  {\r\n",
       "comp usage \"x: A\" as E10  <<(T,blue)part>> [[psysml:797261aa-a958-4475-9de3-b139176b10fb ]] {\r\n",
       "}\r\n",
       "comp usage \"y: B\" as E11  <<(T,blue)part>> [[psysml:3825b43b-bb71-4033-970e-c8c9e00cfd14 ]] {\r\n",
       "}\r\n",
       "E10 - -:|> E3 [[psysml:0e238847-8a3c-4f4a-a4c7-c4eca45a31b2 ]] \r\n",
       "E11 - -:|> E5 [[psysml:1112046b-9823-4ab2-8a83-96247ffb9742 ]] \r\n",
       "}\r\n",
       "comp usage \"x: A\" as E12  <<(T,blue)part>> [[psysml:e16c4bbb-61f3-4b61-a2b5-b03e29e494af ]] {\r\n",
       "}\r\n",
       "comp usage \"y: B\" as E13  <<(T,blue)part>> [[psysml:6a814915-eeda-4c4d-8e98-a86878ae1f3d ]] {\r\n",
       "}\r\n",
       "E12 - -:|> E3 [[psysml:ee0d4e1c-50f8-4d3c-8a56-5035ed7c5f53 ]] \r\n",
       "E13 - -:|> E5 [[psysml:1d6f62f5-9885-441d-bead-3e38c1577759 ]] \r\n",
       "}\r\n",
       "@enduml\r\n",
       "\n",
       "PlantUML version 1.2020.13(Sat Jun 13 12:26:38 UTC 2020)\n",
       "(EPL source distribution)\n",
       "Java Runtime: OpenJDK Runtime Environment\n",
       "JVM: OpenJDK 64-Bit Server VM\n",
       "Default Encoding: UTF-8\n",
       "Language: en\n",
       "Country: null\n",
       "--></g></svg>"
      ]
     },
     "execution_count": 7,
     "metadata": {},
     "output_type": "execute_result"
    }
   ],
   "source": [
    "%viz --style=\"COMPTREE\" --view=\"Sequence\" \"CircularImport\""
   ]
  },
  {
   "cell_type": "code",
   "execution_count": 8,
   "id": "animated-roman",
   "metadata": {
    "execution": {
     "iopub.execute_input": "2021-03-25T13:13:15.796296Z",
     "iopub.status.busy": "2021-03-25T13:13:15.795383Z",
     "iopub.status.idle": "2021-03-25T13:13:16.023928Z",
     "shell.execute_reply": "2021-03-25T13:13:16.021684Z"
    }
   },
   "outputs": [
    {
     "data": {
      "image/svg+xml": [
       "<?xml version=\"1.0\" encoding=\"UTF-8\" standalone=\"no\"?><svg xmlns=\"http://www.w3.org/2000/svg\" xmlns:xlink=\"http://www.w3.org/1999/xlink\" contentScriptType=\"application/ecmascript\" contentStyleType=\"text/css\" height=\"303px\" preserveAspectRatio=\"none\" style=\"width:518px;height:303px;\" version=\"1.1\" viewBox=\"0 0 518 303\" width=\"518px\" zoomAndPan=\"magnify\"><defs/><g><!--MD5=[fbc87193dbaf4d95561dea2c320d4a47]\n",
       "cluster E1--><a href=\"psysml:6a62b0bb-ce07-42d9-b06f-c19bd22a93a2\" target=\"_top\" title=\"psysml:6a62b0bb-ce07-42d9-b06f-c19bd22a93a2\" xlink:actuate=\"onRequest\" xlink:href=\"psysml:6a62b0bb-ce07-42d9-b06f-c19bd22a93a2\" xlink:show=\"new\" xlink:title=\"psysml:6a62b0bb-ce07-42d9-b06f-c19bd22a93a2\" xlink:type=\"simple\"><polygon fill=\"#FFFFFF\" points=\"16,6,134,6,141,28.2969,496,28.2969,496,291,16,291,16,6\" style=\"stroke: #000000; stroke-width: 1.5;\"/><line style=\"stroke: #000000; stroke-width: 1.5;\" x1=\"16\" x2=\"141\" y1=\"28.2969\" y2=\"28.2969\"/><text fill=\"#000000\" font-family=\"sans-serif\" font-size=\"14\" font-weight=\"bold\" lengthAdjust=\"spacingAndGlyphs\" textLength=\"112\" x=\"20\" y=\"20.9951\">CircularImport</text></a><!--MD5=[e4f7fae6ed58524ba242bb0b0d3be6b7]\n",
       "cluster E2--><a href=\"psysml:e5793e48-aebf-4c77-9b1c-634d316c370a\" target=\"_top\" title=\"psysml:e5793e48-aebf-4c77-9b1c-634d316c370a\" xlink:actuate=\"onRequest\" xlink:href=\"psysml:e5793e48-aebf-4c77-9b1c-634d316c370a\" xlink:show=\"new\" xlink:title=\"psysml:e5793e48-aebf-4c77-9b1c-634d316c370a\" xlink:type=\"simple\"><polygon fill=\"#FFFFFF\" points=\"333,170,359,170,366,192.2969,431,192.2969,431,267,333,267,333,170\" style=\"stroke: #000000; stroke-width: 1.5;\"/><line style=\"stroke: #000000; stroke-width: 1.5;\" x1=\"333\" x2=\"366\" y1=\"192.2969\" y2=\"192.2969\"/><text fill=\"#000000\" font-family=\"sans-serif\" font-size=\"14\" font-weight=\"bold\" lengthAdjust=\"spacingAndGlyphs\" textLength=\"20\" x=\"337\" y=\"184.9951\">P1</text></a><!--MD5=[f6df4d0ebaf0b5dfb2ced0ae5af7c670]\n",
       "cluster E4--><a href=\"psysml:9f128572-3fea-4fc4-b18b-c92f97cc0f0b\" target=\"_top\" title=\"psysml:9f128572-3fea-4fc4-b18b-c92f97cc0f0b\" xlink:actuate=\"onRequest\" xlink:href=\"psysml:9f128572-3fea-4fc4-b18b-c92f97cc0f0b\" xlink:show=\"new\" xlink:title=\"psysml:9f128572-3fea-4fc4-b18b-c92f97cc0f0b\" xlink:type=\"simple\"><polygon fill=\"#FFFFFF\" points=\"81,170,107,170,114,192.2969,179,192.2969,179,267,81,267,81,170\" style=\"stroke: #000000; stroke-width: 1.5;\"/><line style=\"stroke: #000000; stroke-width: 1.5;\" x1=\"81\" x2=\"114\" y1=\"192.2969\" y2=\"192.2969\"/><text fill=\"#000000\" font-family=\"sans-serif\" font-size=\"14\" font-weight=\"bold\" lengthAdjust=\"spacingAndGlyphs\" textLength=\"20\" x=\"85\" y=\"184.9951\">P2</text></a><!--MD5=[14e3b0961a2654348d326746436168a1]\n",
       "cluster E6--><a href=\"psysml:6c517ad3-81f8-4503-b234-41386708eb5e\" target=\"_top\" title=\"psysml:6c517ad3-81f8-4503-b234-41386708eb5e\" xlink:actuate=\"onRequest\" xlink:href=\"psysml:6c517ad3-81f8-4503-b234-41386708eb5e\" xlink:show=\"new\" xlink:title=\"psysml:6c517ad3-81f8-4503-b234-41386708eb5e\" xlink:type=\"simple\"><polygon fill=\"#FFFFFF\" points=\"268,49,319,49,326,71.2969,419,71.2969,419,146,268,146,268,49\" style=\"stroke: #000000; stroke-width: 1.5;\"/><line style=\"stroke: #000000; stroke-width: 1.5;\" x1=\"268\" x2=\"326\" y1=\"71.2969\" y2=\"71.2969\"/><text fill=\"#000000\" font-family=\"sans-serif\" font-size=\"14\" font-weight=\"bold\" lengthAdjust=\"spacingAndGlyphs\" textLength=\"45\" x=\"272\" y=\"63.9951\">Test1</text></a><!--MD5=[7f149f147074ac12df2cb0a7728a5fb0]\n",
       "cluster E9--><a href=\"psysml:81951965-8d4b-42c4-ba21-4255f6488007\" target=\"_top\" title=\"psysml:81951965-8d4b-42c4-ba21-4255f6488007\" xlink:actuate=\"onRequest\" xlink:href=\"psysml:81951965-8d4b-42c4-ba21-4255f6488007\" xlink:show=\"new\" xlink:title=\"psysml:81951965-8d4b-42c4-ba21-4255f6488007\" xlink:type=\"simple\"><polygon fill=\"#FFFFFF\" points=\"93,49,144,49,151,71.2969,244,71.2969,244,146,93,146,93,49\" style=\"stroke: #000000; stroke-width: 1.5;\"/><line style=\"stroke: #000000; stroke-width: 1.5;\" x1=\"93\" x2=\"151\" y1=\"71.2969\" y2=\"71.2969\"/><text fill=\"#000000\" font-family=\"sans-serif\" font-size=\"14\" font-weight=\"bold\" lengthAdjust=\"spacingAndGlyphs\" textLength=\"45\" x=\"97\" y=\"63.9951\">Test2</text></a><!--MD5=[49a0ec8f00dab7302a31f22d0f0fe584]\n",
       "class E12--><a href=\"psysml:e16c4bbb-61f3-4b61-a2b5-b03e29e494af\" target=\"_top\" title=\"psysml:e16c4bbb-61f3-4b61-a2b5-b03e29e494af\" xlink:actuate=\"onRequest\" xlink:href=\"psysml:e16c4bbb-61f3-4b61-a2b5-b03e29e494af\" xlink:show=\"new\" xlink:title=\"psysml:e16c4bbb-61f3-4b61-a2b5-b03e29e494af\" xlink:type=\"simple\"><rect fill=\"#FFFFFF\" height=\"45.9375\" id=\"E12\" rx=\"10\" ry=\"10\" style=\"stroke: #383838; stroke-width: 1.5;\" width=\"42\" x=\"438\" y=\"84\"/><text fill=\"#000000\" font-family=\"sans-serif\" font-size=\"12\" font-style=\"italic\" lengthAdjust=\"spacingAndGlyphs\" textLength=\"40\" x=\"439\" y=\"100.1387\">«part»</text><text fill=\"#000000\" font-family=\"sans-serif\" font-size=\"12\" lengthAdjust=\"spacingAndGlyphs\" textLength=\"22\" x=\"448\" y=\"114.1074\">x: A</text><line style=\"stroke: #383838; stroke-width: 1.5;\" x1=\"439\" x2=\"479\" y1=\"121.9375\" y2=\"121.9375\"/></a><!--MD5=[ee3c913d1a06f366521f9ef512b67efe]\n",
       "class E13--><a href=\"psysml:6a814915-eeda-4c4d-8e98-a86878ae1f3d\" target=\"_top\" title=\"psysml:6a814915-eeda-4c4d-8e98-a86878ae1f3d\" xlink:actuate=\"onRequest\" xlink:href=\"psysml:6a814915-eeda-4c4d-8e98-a86878ae1f3d\" xlink:show=\"new\" xlink:title=\"psysml:6a814915-eeda-4c4d-8e98-a86878ae1f3d\" xlink:type=\"simple\"><rect fill=\"#FFFFFF\" height=\"45.9375\" id=\"E13\" rx=\"10\" ry=\"10\" style=\"stroke: #383838; stroke-width: 1.5;\" width=\"42\" x=\"32\" y=\"84\"/><text fill=\"#000000\" font-family=\"sans-serif\" font-size=\"12\" font-style=\"italic\" lengthAdjust=\"spacingAndGlyphs\" textLength=\"40\" x=\"33\" y=\"100.1387\">«part»</text><text fill=\"#000000\" font-family=\"sans-serif\" font-size=\"12\" lengthAdjust=\"spacingAndGlyphs\" textLength=\"22\" x=\"42\" y=\"114.1074\">y: B</text><line style=\"stroke: #383838; stroke-width: 1.5;\" x1=\"33\" x2=\"73\" y1=\"121.9375\" y2=\"121.9375\"/></a><!--MD5=[09b614a08d8cba4a07c9adeb5e0fee81]\n",
       "class E3--><a href=\"psysml:4745677c-bede-4ab8-acdc-4365dad759bc\" target=\"_top\" title=\"psysml:4745677c-bede-4ab8-acdc-4365dad759bc\" xlink:actuate=\"onRequest\" xlink:href=\"psysml:4745677c-bede-4ab8-acdc-4365dad759bc\" xlink:show=\"new\" xlink:title=\"psysml:4745677c-bede-4ab8-acdc-4365dad759bc\" xlink:type=\"simple\"><rect fill=\"#FFFFFF\" height=\"45.9375\" id=\"E3\" style=\"stroke: #383838; stroke-width: 1.5;\" width=\"66\" x=\"349\" y=\"205\"/><text fill=\"#000000\" font-family=\"sans-serif\" font-size=\"12\" font-style=\"italic\" lengthAdjust=\"spacingAndGlyphs\" textLength=\"64\" x=\"350\" y=\"221.1387\">«part def»</text><text fill=\"#000000\" font-family=\"sans-serif\" font-size=\"12\" lengthAdjust=\"spacingAndGlyphs\" textLength=\"8\" x=\"378\" y=\"235.1074\">A</text><line style=\"stroke: #383838; stroke-width: 1.5;\" x1=\"350\" x2=\"414\" y1=\"242.9375\" y2=\"242.9375\"/></a><!--MD5=[270fce915f116d4de14055a7c1d9a0f3]\n",
       "class E5--><a href=\"psysml:a455b6ac-bbc4-40c1-9da4-354e9f8fdc46\" target=\"_top\" title=\"psysml:a455b6ac-bbc4-40c1-9da4-354e9f8fdc46\" xlink:actuate=\"onRequest\" xlink:href=\"psysml:a455b6ac-bbc4-40c1-9da4-354e9f8fdc46\" xlink:show=\"new\" xlink:title=\"psysml:a455b6ac-bbc4-40c1-9da4-354e9f8fdc46\" xlink:type=\"simple\"><rect fill=\"#FFFFFF\" height=\"45.9375\" id=\"E5\" style=\"stroke: #383838; stroke-width: 1.5;\" width=\"66\" x=\"97\" y=\"205\"/><text fill=\"#000000\" font-family=\"sans-serif\" font-size=\"12\" font-style=\"italic\" lengthAdjust=\"spacingAndGlyphs\" textLength=\"64\" x=\"98\" y=\"221.1387\">«part def»</text><text fill=\"#000000\" font-family=\"sans-serif\" font-size=\"12\" lengthAdjust=\"spacingAndGlyphs\" textLength=\"8\" x=\"126\" y=\"235.1074\">B</text><line style=\"stroke: #383838; stroke-width: 1.5;\" x1=\"98\" x2=\"162\" y1=\"242.9375\" y2=\"242.9375\"/></a><!--MD5=[2156ba9850f5573cc1fc38a6a4b2f02b]\n",
       "class E7--><a href=\"psysml:6b7db59d-d003-4043-9508-3fd9ac781eff\" target=\"_top\" title=\"psysml:6b7db59d-d003-4043-9508-3fd9ac781eff\" xlink:actuate=\"onRequest\" xlink:href=\"psysml:6b7db59d-d003-4043-9508-3fd9ac781eff\" xlink:show=\"new\" xlink:title=\"psysml:6b7db59d-d003-4043-9508-3fd9ac781eff\" xlink:type=\"simple\"><rect fill=\"#FFFFFF\" height=\"45.9375\" id=\"E7\" rx=\"10\" ry=\"10\" style=\"stroke: #383838; stroke-width: 1.5;\" width=\"42\" x=\"361\" y=\"84\"/><text fill=\"#000000\" font-family=\"sans-serif\" font-size=\"12\" font-style=\"italic\" lengthAdjust=\"spacingAndGlyphs\" textLength=\"40\" x=\"362\" y=\"100.1387\">«part»</text><text fill=\"#000000\" font-family=\"sans-serif\" font-size=\"12\" lengthAdjust=\"spacingAndGlyphs\" textLength=\"22\" x=\"371\" y=\"114.1074\">x: A</text><line style=\"stroke: #383838; stroke-width: 1.5;\" x1=\"362\" x2=\"402\" y1=\"121.9375\" y2=\"121.9375\"/></a><!--MD5=[b9389687b975829384b498ac4b7476b2]\n",
       "class E8--><a href=\"psysml:6c414e1f-4fb5-42fd-83aa-c158d2fbc464\" target=\"_top\" title=\"psysml:6c414e1f-4fb5-42fd-83aa-c158d2fbc464\" xlink:actuate=\"onRequest\" xlink:href=\"psysml:6c414e1f-4fb5-42fd-83aa-c158d2fbc464\" xlink:show=\"new\" xlink:title=\"psysml:6c414e1f-4fb5-42fd-83aa-c158d2fbc464\" xlink:type=\"simple\"><rect fill=\"#FFFFFF\" height=\"45.9375\" id=\"E8\" rx=\"10\" ry=\"10\" style=\"stroke: #383838; stroke-width: 1.5;\" width=\"42\" x=\"284\" y=\"84\"/><text fill=\"#000000\" font-family=\"sans-serif\" font-size=\"12\" font-style=\"italic\" lengthAdjust=\"spacingAndGlyphs\" textLength=\"40\" x=\"285\" y=\"100.1387\">«part»</text><text fill=\"#000000\" font-family=\"sans-serif\" font-size=\"12\" lengthAdjust=\"spacingAndGlyphs\" textLength=\"22\" x=\"294\" y=\"114.1074\">y: B</text><line style=\"stroke: #383838; stroke-width: 1.5;\" x1=\"285\" x2=\"325\" y1=\"121.9375\" y2=\"121.9375\"/></a><!--MD5=[96f4274e9e20536e775497830990834d]\n",
       "class E10--><a href=\"psysml:797261aa-a958-4475-9de3-b139176b10fb\" target=\"_top\" title=\"psysml:797261aa-a958-4475-9de3-b139176b10fb\" xlink:actuate=\"onRequest\" xlink:href=\"psysml:797261aa-a958-4475-9de3-b139176b10fb\" xlink:show=\"new\" xlink:title=\"psysml:797261aa-a958-4475-9de3-b139176b10fb\" xlink:type=\"simple\"><rect fill=\"#FFFFFF\" height=\"45.9375\" id=\"E10\" rx=\"10\" ry=\"10\" style=\"stroke: #383838; stroke-width: 1.5;\" width=\"42\" x=\"186\" y=\"84\"/><text fill=\"#000000\" font-family=\"sans-serif\" font-size=\"12\" font-style=\"italic\" lengthAdjust=\"spacingAndGlyphs\" textLength=\"40\" x=\"187\" y=\"100.1387\">«part»</text><text fill=\"#000000\" font-family=\"sans-serif\" font-size=\"12\" lengthAdjust=\"spacingAndGlyphs\" textLength=\"22\" x=\"196\" y=\"114.1074\">x: A</text><line style=\"stroke: #383838; stroke-width: 1.5;\" x1=\"187\" x2=\"227\" y1=\"121.9375\" y2=\"121.9375\"/></a><!--MD5=[1dd1bfd58a279cf63c5f349dbc8fc6a1]\n",
       "class E11--><a href=\"psysml:3825b43b-bb71-4033-970e-c8c9e00cfd14\" target=\"_top\" title=\"psysml:3825b43b-bb71-4033-970e-c8c9e00cfd14\" xlink:actuate=\"onRequest\" xlink:href=\"psysml:3825b43b-bb71-4033-970e-c8c9e00cfd14\" xlink:show=\"new\" xlink:title=\"psysml:3825b43b-bb71-4033-970e-c8c9e00cfd14\" xlink:type=\"simple\"><rect fill=\"#FFFFFF\" height=\"45.9375\" id=\"E11\" rx=\"10\" ry=\"10\" style=\"stroke: #383838; stroke-width: 1.5;\" width=\"42\" x=\"109\" y=\"84\"/><text fill=\"#000000\" font-family=\"sans-serif\" font-size=\"12\" font-style=\"italic\" lengthAdjust=\"spacingAndGlyphs\" textLength=\"40\" x=\"110\" y=\"100.1387\">«part»</text><text fill=\"#000000\" font-family=\"sans-serif\" font-size=\"12\" lengthAdjust=\"spacingAndGlyphs\" textLength=\"22\" x=\"119\" y=\"114.1074\">y: B</text><line style=\"stroke: #383838; stroke-width: 1.5;\" x1=\"110\" x2=\"150\" y1=\"121.9375\" y2=\"121.9375\"/></a><!--MD5=[14ccda38c055a5c0da953d572bc50960]\n",
       "link E7 to E3--><a href=\"psysml:85e1ff22-6346-4a23-846d-dc1a236203c0\" target=\"_top\" title=\"psysml:85e1ff22-6346-4a23-846d-dc1a236203c0\" xlink:actuate=\"onRequest\" xlink:href=\"psysml:85e1ff22-6346-4a23-846d-dc1a236203c0\" xlink:show=\"new\" xlink:title=\"psysml:85e1ff22-6346-4a23-846d-dc1a236203c0\" xlink:type=\"simple\"><path d=\"M382,130.1 C382,145.37 382,166.16 382,184.57 \" fill=\"none\" id=\"E7-&gt;E3\" style=\"stroke: #383838; stroke-width: 1.0;\"/><polygon fill=\"#FFFFFF\" points=\"382,204.61,375,185.61,389,185.61,382,204.61\" style=\"stroke: #383838; stroke-width: 1.0;\"/><ellipse cx=\"377\" cy=\"179.91\" fill=\"#383838\" rx=\"2\" ry=\"2\" style=\"stroke: #383838; stroke-width: 1.0;\"/><ellipse cx=\"387\" cy=\"179.91\" fill=\"#383838\" rx=\"2\" ry=\"2\" style=\"stroke: #383838; stroke-width: 1.0;\"/></a><!--MD5=[1ccb2481ffa92f8d51a74ee30c51832a]\n",
       "link E8 to E5--><a href=\"psysml:483adec0-2d55-41ba-876c-1b8fe7d429ab\" target=\"_top\" title=\"psysml:483adec0-2d55-41ba-876c-1b8fe7d429ab\" xlink:actuate=\"onRequest\" xlink:href=\"psysml:483adec0-2d55-41ba-876c-1b8fe7d429ab\" xlink:show=\"new\" xlink:title=\"psysml:483adec0-2d55-41ba-876c-1b8fe7d429ab\" xlink:type=\"simple\"><path d=\"M283.84,124.59 C272.23,133.52 257.5,144.61 244,154 C223.51,168.25 200.41,183.24 180.38,195.91 \" fill=\"none\" id=\"E8-&gt;E5\" style=\"stroke: #383838; stroke-width: 1.0;\"/><polygon fill=\"#FFFFFF\" points=\"163.36,206.57,175.7353,190.5434,183.175,202.403,163.36,206.57\" style=\"stroke: #383838; stroke-width: 1.0;\"/><ellipse cx=\"181.6267\" cy=\"189.2086\" fill=\"#383838\" rx=\"2\" ry=\"2\" style=\"stroke: #383838; stroke-width: 1.0;\"/><ellipse cx=\"186.9408\" cy=\"197.6797\" fill=\"#383838\" rx=\"2\" ry=\"2\" style=\"stroke: #383838; stroke-width: 1.0;\"/></a><!--MD5=[feeac5eb423634930294aa81f2d25a4c]\n",
       "link E10 to E3--><a href=\"psysml:0e238847-8a3c-4f4a-a4c7-c4eca45a31b2\" target=\"_top\" title=\"psysml:0e238847-8a3c-4f4a-a4c7-c4eca45a31b2\" xlink:actuate=\"onRequest\" xlink:href=\"psysml:0e238847-8a3c-4f4a-a4c7-c4eca45a31b2\" xlink:show=\"new\" xlink:title=\"psysml:0e238847-8a3c-4f4a-a4c7-c4eca45a31b2\" xlink:type=\"simple\"><path d=\"M228.16,124.59 C239.77,133.52 254.5,144.61 268,154 C288.49,168.25 311.59,183.24 331.62,195.91 \" fill=\"none\" id=\"E10-&gt;E3\" style=\"stroke: #383838; stroke-width: 1.0;\"/><polygon fill=\"#FFFFFF\" points=\"348.64,206.57,328.825,202.403,336.2647,190.5434,348.64,206.57\" style=\"stroke: #383838; stroke-width: 1.0;\"/><ellipse cx=\"325.0592\" cy=\"197.6797\" fill=\"#383838\" rx=\"2\" ry=\"2\" style=\"stroke: #383838; stroke-width: 1.0;\"/><ellipse cx=\"330.3733\" cy=\"189.2086\" fill=\"#383838\" rx=\"2\" ry=\"2\" style=\"stroke: #383838; stroke-width: 1.0;\"/></a><!--MD5=[07b77f6f309248d16187045709d1c26e]\n",
       "link E11 to E5--><a href=\"psysml:1112046b-9823-4ab2-8a83-96247ffb9742\" target=\"_top\" title=\"psysml:1112046b-9823-4ab2-8a83-96247ffb9742\" xlink:actuate=\"onRequest\" xlink:href=\"psysml:1112046b-9823-4ab2-8a83-96247ffb9742\" xlink:show=\"new\" xlink:title=\"psysml:1112046b-9823-4ab2-8a83-96247ffb9742\" xlink:type=\"simple\"><path d=\"M130,130.1 C130,145.37 130,166.16 130,184.57 \" fill=\"none\" id=\"E11-&gt;E5\" style=\"stroke: #383838; stroke-width: 1.0;\"/><polygon fill=\"#FFFFFF\" points=\"130,204.61,123,185.61,137,185.61,130,204.61\" style=\"stroke: #383838; stroke-width: 1.0;\"/><ellipse cx=\"125\" cy=\"179.91\" fill=\"#383838\" rx=\"2\" ry=\"2\" style=\"stroke: #383838; stroke-width: 1.0;\"/><ellipse cx=\"135\" cy=\"179.91\" fill=\"#383838\" rx=\"2\" ry=\"2\" style=\"stroke: #383838; stroke-width: 1.0;\"/></a><!--MD5=[39f41a0e550fb3d73b4d8135617e30a2]\n",
       "link E12 to E3--><a href=\"psysml:ee0d4e1c-50f8-4d3c-8a56-5035ed7c5f53\" target=\"_top\" title=\"psysml:ee0d4e1c-50f8-4d3c-8a56-5035ed7c5f53\" xlink:actuate=\"onRequest\" xlink:href=\"psysml:ee0d4e1c-50f8-4d3c-8a56-5035ed7c5f53\" xlink:show=\"new\" xlink:title=\"psysml:ee0d4e1c-50f8-4d3c-8a56-5035ed7c5f53\" xlink:type=\"simple\"><path d=\"M444.7,130.1 C434.28,146.2 419.89,168.44 407.53,187.55 \" fill=\"none\" id=\"E12-&gt;E3\" style=\"stroke: #383838; stroke-width: 1.0;\"/><polygon fill=\"#FFFFFF\" points=\"396.49,204.61,400.9313,184.8546,412.6866,192.4581,396.49,204.61\" style=\"stroke: #383838; stroke-width: 1.0;\"/><ellipse cx=\"405.7063\" cy=\"181.1547\" fill=\"#383838\" rx=\"2\" ry=\"2\" style=\"stroke: #383838; stroke-width: 1.0;\"/><ellipse cx=\"414.103\" cy=\"186.5858\" fill=\"#383838\" rx=\"2\" ry=\"2\" style=\"stroke: #383838; stroke-width: 1.0;\"/></a><!--MD5=[066b2d8af59fea80ccdb3d54ad5c1091]\n",
       "link E13 to E5--><a href=\"psysml:1d6f62f5-9885-441d-bead-3e38c1577759\" target=\"_top\" title=\"psysml:1d6f62f5-9885-441d-bead-3e38c1577759\" xlink:actuate=\"onRequest\" xlink:href=\"psysml:1d6f62f5-9885-441d-bead-3e38c1577759\" xlink:show=\"new\" xlink:title=\"psysml:1d6f62f5-9885-441d-bead-3e38c1577759\" xlink:type=\"simple\"><path d=\"M67.3,130.1 C77.72,146.2 92.11,168.44 104.47,187.55 \" fill=\"none\" id=\"E13-&gt;E5\" style=\"stroke: #383838; stroke-width: 1.0;\"/><polygon fill=\"#FFFFFF\" points=\"115.51,204.61,99.3134,192.4581,111.0687,184.8546,115.51,204.61\" style=\"stroke: #383838; stroke-width: 1.0;\"/><ellipse cx=\"97.897\" cy=\"186.5858\" fill=\"#383838\" rx=\"2\" ry=\"2\" style=\"stroke: #383838; stroke-width: 1.0;\"/><ellipse cx=\"106.2937\" cy=\"181.1547\" fill=\"#383838\" rx=\"2\" ry=\"2\" style=\"stroke: #383838; stroke-width: 1.0;\"/></a><!--MD5=[74223b0a14a52d6aeda986f53cb560f5]\n",
       "@startuml\r\n",
       " skinparam monochrome true\r\n",
       "skinparam classbackgroundcolor white\r\n",
       "skinparam shadowing false\r\n",
       "skinparam wrapWidth 300\r\n",
       "hide circle\r\n",
       "\r\n",
       "package \"CircularImport\" as E1  [[psysml:6a62b0bb-ce07-42d9-b06f-c19bd22a93a2 ]]  {\r\n",
       "package \"P1\" as E2  [[psysml:e5793e48-aebf-4c77-9b1c-634d316c370a ]]  {\r\n",
       "comp def \"A\" as E3  <<(T,blue)part def>> [[psysml:4745677c-bede-4ab8-acdc-4365dad759bc ]] {\r\n",
       "}\r\n",
       "}\r\n",
       "package \"P2\" as E4  [[psysml:9f128572-3fea-4fc4-b18b-c92f97cc0f0b ]]  {\r\n",
       "comp def \"B\" as E5  <<(T,blue)part def>> [[psysml:a455b6ac-bbc4-40c1-9da4-354e9f8fdc46 ]] {\r\n",
       "}\r\n",
       "}\r\n",
       "package \"Test1\" as E6  [[psysml:6c517ad3-81f8-4503-b234-41386708eb5e ]]  {\r\n",
       "comp usage \"x: A\" as E7  <<(T,blue)part>> [[psysml:6b7db59d-d003-4043-9508-3fd9ac781eff ]] {\r\n",
       "}\r\n",
       "comp usage \"y: B\" as E8  <<(T,blue)part>> [[psysml:6c414e1f-4fb5-42fd-83aa-c158d2fbc464 ]] {\r\n",
       "}\r\n",
       "E7 - -:|> E3 [[psysml:85e1ff22-6346-4a23-846d-dc1a236203c0 ]] \r\n",
       "E8 - -:|> E5 [[psysml:483adec0-2d55-41ba-876c-1b8fe7d429ab ]] \r\n",
       "}\r\n",
       "package \"Test2\" as E9  [[psysml:81951965-8d4b-42c4-ba21-4255f6488007 ]]  {\r\n",
       "comp usage \"x: A\" as E10  <<(T,blue)part>> [[psysml:797261aa-a958-4475-9de3-b139176b10fb ]] {\r\n",
       "}\r\n",
       "comp usage \"y: B\" as E11  <<(T,blue)part>> [[psysml:3825b43b-bb71-4033-970e-c8c9e00cfd14 ]] {\r\n",
       "}\r\n",
       "E10 - -:|> E3 [[psysml:0e238847-8a3c-4f4a-a4c7-c4eca45a31b2 ]] \r\n",
       "E11 - -:|> E5 [[psysml:1112046b-9823-4ab2-8a83-96247ffb9742 ]] \r\n",
       "}\r\n",
       "comp usage \"x: A\" as E12  <<(T,blue)part>> [[psysml:e16c4bbb-61f3-4b61-a2b5-b03e29e494af ]] {\r\n",
       "}\r\n",
       "comp usage \"y: B\" as E13  <<(T,blue)part>> [[psysml:6a814915-eeda-4c4d-8e98-a86878ae1f3d ]] {\r\n",
       "}\r\n",
       "E12 - -:|> E3 [[psysml:ee0d4e1c-50f8-4d3c-8a56-5035ed7c5f53 ]] \r\n",
       "E13 - -:|> E5 [[psysml:1d6f62f5-9885-441d-bead-3e38c1577759 ]] \r\n",
       "}\r\n",
       "@enduml\r\n",
       "\n",
       "PlantUML version 1.2020.13(Sat Jun 13 12:26:38 UTC 2020)\n",
       "(EPL source distribution)\n",
       "Java Runtime: OpenJDK Runtime Environment\n",
       "JVM: OpenJDK 64-Bit Server VM\n",
       "Default Encoding: UTF-8\n",
       "Language: en\n",
       "Country: null\n",
       "--></g></svg>"
      ]
     },
     "execution_count": 8,
     "metadata": {},
     "output_type": "execute_result"
    }
   ],
   "source": [
    "%viz --style=\"COMPTREE\" --view=\"MIXED\" \"CircularImport\""
   ]
  },
  {
   "cell_type": "code",
   "execution_count": 9,
   "id": "unique-thousand",
   "metadata": {
    "execution": {
     "iopub.execute_input": "2021-03-25T13:13:16.073527Z",
     "iopub.status.busy": "2021-03-25T13:13:16.072758Z",
     "iopub.status.idle": "2021-03-25T13:13:16.331164Z",
     "shell.execute_reply": "2021-03-25T13:13:16.328512Z"
    }
   },
   "outputs": [
    {
     "data": {
      "image/svg+xml": [
       "<?xml version=\"1.0\" encoding=\"UTF-8\" standalone=\"no\"?><svg xmlns=\"http://www.w3.org/2000/svg\" xmlns:xlink=\"http://www.w3.org/1999/xlink\" contentScriptType=\"application/ecmascript\" contentStyleType=\"text/css\" height=\"303px\" preserveAspectRatio=\"none\" style=\"width:518px;height:303px;\" version=\"1.1\" viewBox=\"0 0 518 303\" width=\"518px\" zoomAndPan=\"magnify\"><defs/><g><!--MD5=[fbc87193dbaf4d95561dea2c320d4a47]\n",
       "cluster E1--><a href=\"psysml:6a62b0bb-ce07-42d9-b06f-c19bd22a93a2\" target=\"_top\" title=\"psysml:6a62b0bb-ce07-42d9-b06f-c19bd22a93a2\" xlink:actuate=\"onRequest\" xlink:href=\"psysml:6a62b0bb-ce07-42d9-b06f-c19bd22a93a2\" xlink:show=\"new\" xlink:title=\"psysml:6a62b0bb-ce07-42d9-b06f-c19bd22a93a2\" xlink:type=\"simple\"><polygon fill=\"#FFFFFF\" points=\"16,6,134,6,141,28.2969,496,28.2969,496,291,16,291,16,6\" style=\"stroke: #000000; stroke-width: 1.5;\"/><line style=\"stroke: #000000; stroke-width: 1.5;\" x1=\"16\" x2=\"141\" y1=\"28.2969\" y2=\"28.2969\"/><text fill=\"#000000\" font-family=\"sans-serif\" font-size=\"14\" font-weight=\"bold\" lengthAdjust=\"spacingAndGlyphs\" textLength=\"112\" x=\"20\" y=\"20.9951\">CircularImport</text></a><!--MD5=[e4f7fae6ed58524ba242bb0b0d3be6b7]\n",
       "cluster E2--><a href=\"psysml:e5793e48-aebf-4c77-9b1c-634d316c370a\" target=\"_top\" title=\"psysml:e5793e48-aebf-4c77-9b1c-634d316c370a\" xlink:actuate=\"onRequest\" xlink:href=\"psysml:e5793e48-aebf-4c77-9b1c-634d316c370a\" xlink:show=\"new\" xlink:title=\"psysml:e5793e48-aebf-4c77-9b1c-634d316c370a\" xlink:type=\"simple\"><polygon fill=\"#FFFFFF\" points=\"333,170,359,170,366,192.2969,431,192.2969,431,267,333,267,333,170\" style=\"stroke: #000000; stroke-width: 1.5;\"/><line style=\"stroke: #000000; stroke-width: 1.5;\" x1=\"333\" x2=\"366\" y1=\"192.2969\" y2=\"192.2969\"/><text fill=\"#000000\" font-family=\"sans-serif\" font-size=\"14\" font-weight=\"bold\" lengthAdjust=\"spacingAndGlyphs\" textLength=\"20\" x=\"337\" y=\"184.9951\">P1</text></a><!--MD5=[f6df4d0ebaf0b5dfb2ced0ae5af7c670]\n",
       "cluster E4--><a href=\"psysml:9f128572-3fea-4fc4-b18b-c92f97cc0f0b\" target=\"_top\" title=\"psysml:9f128572-3fea-4fc4-b18b-c92f97cc0f0b\" xlink:actuate=\"onRequest\" xlink:href=\"psysml:9f128572-3fea-4fc4-b18b-c92f97cc0f0b\" xlink:show=\"new\" xlink:title=\"psysml:9f128572-3fea-4fc4-b18b-c92f97cc0f0b\" xlink:type=\"simple\"><polygon fill=\"#FFFFFF\" points=\"81,170,107,170,114,192.2969,179,192.2969,179,267,81,267,81,170\" style=\"stroke: #000000; stroke-width: 1.5;\"/><line style=\"stroke: #000000; stroke-width: 1.5;\" x1=\"81\" x2=\"114\" y1=\"192.2969\" y2=\"192.2969\"/><text fill=\"#000000\" font-family=\"sans-serif\" font-size=\"14\" font-weight=\"bold\" lengthAdjust=\"spacingAndGlyphs\" textLength=\"20\" x=\"85\" y=\"184.9951\">P2</text></a><!--MD5=[14e3b0961a2654348d326746436168a1]\n",
       "cluster E6--><a href=\"psysml:6c517ad3-81f8-4503-b234-41386708eb5e\" target=\"_top\" title=\"psysml:6c517ad3-81f8-4503-b234-41386708eb5e\" xlink:actuate=\"onRequest\" xlink:href=\"psysml:6c517ad3-81f8-4503-b234-41386708eb5e\" xlink:show=\"new\" xlink:title=\"psysml:6c517ad3-81f8-4503-b234-41386708eb5e\" xlink:type=\"simple\"><polygon fill=\"#FFFFFF\" points=\"268,49,319,49,326,71.2969,419,71.2969,419,146,268,146,268,49\" style=\"stroke: #000000; stroke-width: 1.5;\"/><line style=\"stroke: #000000; stroke-width: 1.5;\" x1=\"268\" x2=\"326\" y1=\"71.2969\" y2=\"71.2969\"/><text fill=\"#000000\" font-family=\"sans-serif\" font-size=\"14\" font-weight=\"bold\" lengthAdjust=\"spacingAndGlyphs\" textLength=\"45\" x=\"272\" y=\"63.9951\">Test1</text></a><!--MD5=[7f149f147074ac12df2cb0a7728a5fb0]\n",
       "cluster E9--><a href=\"psysml:81951965-8d4b-42c4-ba21-4255f6488007\" target=\"_top\" title=\"psysml:81951965-8d4b-42c4-ba21-4255f6488007\" xlink:actuate=\"onRequest\" xlink:href=\"psysml:81951965-8d4b-42c4-ba21-4255f6488007\" xlink:show=\"new\" xlink:title=\"psysml:81951965-8d4b-42c4-ba21-4255f6488007\" xlink:type=\"simple\"><polygon fill=\"#FFFFFF\" points=\"93,49,144,49,151,71.2969,244,71.2969,244,146,93,146,93,49\" style=\"stroke: #000000; stroke-width: 1.5;\"/><line style=\"stroke: #000000; stroke-width: 1.5;\" x1=\"93\" x2=\"151\" y1=\"71.2969\" y2=\"71.2969\"/><text fill=\"#000000\" font-family=\"sans-serif\" font-size=\"14\" font-weight=\"bold\" lengthAdjust=\"spacingAndGlyphs\" textLength=\"45\" x=\"97\" y=\"63.9951\">Test2</text></a><!--MD5=[49a0ec8f00dab7302a31f22d0f0fe584]\n",
       "class E12--><a href=\"psysml:e16c4bbb-61f3-4b61-a2b5-b03e29e494af\" target=\"_top\" title=\"psysml:e16c4bbb-61f3-4b61-a2b5-b03e29e494af\" xlink:actuate=\"onRequest\" xlink:href=\"psysml:e16c4bbb-61f3-4b61-a2b5-b03e29e494af\" xlink:show=\"new\" xlink:title=\"psysml:e16c4bbb-61f3-4b61-a2b5-b03e29e494af\" xlink:type=\"simple\"><rect fill=\"#FFFFFF\" height=\"45.9375\" id=\"E12\" rx=\"10\" ry=\"10\" style=\"stroke: #383838; stroke-width: 1.5;\" width=\"42\" x=\"438\" y=\"84\"/><text fill=\"#000000\" font-family=\"sans-serif\" font-size=\"12\" font-style=\"italic\" lengthAdjust=\"spacingAndGlyphs\" textLength=\"40\" x=\"439\" y=\"100.1387\">«part»</text><text fill=\"#000000\" font-family=\"sans-serif\" font-size=\"12\" lengthAdjust=\"spacingAndGlyphs\" textLength=\"22\" x=\"448\" y=\"114.1074\">x: A</text><line style=\"stroke: #383838; stroke-width: 1.5;\" x1=\"439\" x2=\"479\" y1=\"121.9375\" y2=\"121.9375\"/></a><!--MD5=[ee3c913d1a06f366521f9ef512b67efe]\n",
       "class E13--><a href=\"psysml:6a814915-eeda-4c4d-8e98-a86878ae1f3d\" target=\"_top\" title=\"psysml:6a814915-eeda-4c4d-8e98-a86878ae1f3d\" xlink:actuate=\"onRequest\" xlink:href=\"psysml:6a814915-eeda-4c4d-8e98-a86878ae1f3d\" xlink:show=\"new\" xlink:title=\"psysml:6a814915-eeda-4c4d-8e98-a86878ae1f3d\" xlink:type=\"simple\"><rect fill=\"#FFFFFF\" height=\"45.9375\" id=\"E13\" rx=\"10\" ry=\"10\" style=\"stroke: #383838; stroke-width: 1.5;\" width=\"42\" x=\"32\" y=\"84\"/><text fill=\"#000000\" font-family=\"sans-serif\" font-size=\"12\" font-style=\"italic\" lengthAdjust=\"spacingAndGlyphs\" textLength=\"40\" x=\"33\" y=\"100.1387\">«part»</text><text fill=\"#000000\" font-family=\"sans-serif\" font-size=\"12\" lengthAdjust=\"spacingAndGlyphs\" textLength=\"22\" x=\"42\" y=\"114.1074\">y: B</text><line style=\"stroke: #383838; stroke-width: 1.5;\" x1=\"33\" x2=\"73\" y1=\"121.9375\" y2=\"121.9375\"/></a><!--MD5=[09b614a08d8cba4a07c9adeb5e0fee81]\n",
       "class E3--><a href=\"psysml:4745677c-bede-4ab8-acdc-4365dad759bc\" target=\"_top\" title=\"psysml:4745677c-bede-4ab8-acdc-4365dad759bc\" xlink:actuate=\"onRequest\" xlink:href=\"psysml:4745677c-bede-4ab8-acdc-4365dad759bc\" xlink:show=\"new\" xlink:title=\"psysml:4745677c-bede-4ab8-acdc-4365dad759bc\" xlink:type=\"simple\"><rect fill=\"#FFFFFF\" height=\"45.9375\" id=\"E3\" style=\"stroke: #383838; stroke-width: 1.5;\" width=\"66\" x=\"349\" y=\"205\"/><text fill=\"#000000\" font-family=\"sans-serif\" font-size=\"12\" font-style=\"italic\" lengthAdjust=\"spacingAndGlyphs\" textLength=\"64\" x=\"350\" y=\"221.1387\">«part def»</text><text fill=\"#000000\" font-family=\"sans-serif\" font-size=\"12\" lengthAdjust=\"spacingAndGlyphs\" textLength=\"8\" x=\"378\" y=\"235.1074\">A</text><line style=\"stroke: #383838; stroke-width: 1.5;\" x1=\"350\" x2=\"414\" y1=\"242.9375\" y2=\"242.9375\"/></a><!--MD5=[270fce915f116d4de14055a7c1d9a0f3]\n",
       "class E5--><a href=\"psysml:a455b6ac-bbc4-40c1-9da4-354e9f8fdc46\" target=\"_top\" title=\"psysml:a455b6ac-bbc4-40c1-9da4-354e9f8fdc46\" xlink:actuate=\"onRequest\" xlink:href=\"psysml:a455b6ac-bbc4-40c1-9da4-354e9f8fdc46\" xlink:show=\"new\" xlink:title=\"psysml:a455b6ac-bbc4-40c1-9da4-354e9f8fdc46\" xlink:type=\"simple\"><rect fill=\"#FFFFFF\" height=\"45.9375\" id=\"E5\" style=\"stroke: #383838; stroke-width: 1.5;\" width=\"66\" x=\"97\" y=\"205\"/><text fill=\"#000000\" font-family=\"sans-serif\" font-size=\"12\" font-style=\"italic\" lengthAdjust=\"spacingAndGlyphs\" textLength=\"64\" x=\"98\" y=\"221.1387\">«part def»</text><text fill=\"#000000\" font-family=\"sans-serif\" font-size=\"12\" lengthAdjust=\"spacingAndGlyphs\" textLength=\"8\" x=\"126\" y=\"235.1074\">B</text><line style=\"stroke: #383838; stroke-width: 1.5;\" x1=\"98\" x2=\"162\" y1=\"242.9375\" y2=\"242.9375\"/></a><!--MD5=[2156ba9850f5573cc1fc38a6a4b2f02b]\n",
       "class E7--><a href=\"psysml:6b7db59d-d003-4043-9508-3fd9ac781eff\" target=\"_top\" title=\"psysml:6b7db59d-d003-4043-9508-3fd9ac781eff\" xlink:actuate=\"onRequest\" xlink:href=\"psysml:6b7db59d-d003-4043-9508-3fd9ac781eff\" xlink:show=\"new\" xlink:title=\"psysml:6b7db59d-d003-4043-9508-3fd9ac781eff\" xlink:type=\"simple\"><rect fill=\"#FFFFFF\" height=\"45.9375\" id=\"E7\" rx=\"10\" ry=\"10\" style=\"stroke: #383838; stroke-width: 1.5;\" width=\"42\" x=\"361\" y=\"84\"/><text fill=\"#000000\" font-family=\"sans-serif\" font-size=\"12\" font-style=\"italic\" lengthAdjust=\"spacingAndGlyphs\" textLength=\"40\" x=\"362\" y=\"100.1387\">«part»</text><text fill=\"#000000\" font-family=\"sans-serif\" font-size=\"12\" lengthAdjust=\"spacingAndGlyphs\" textLength=\"22\" x=\"371\" y=\"114.1074\">x: A</text><line style=\"stroke: #383838; stroke-width: 1.5;\" x1=\"362\" x2=\"402\" y1=\"121.9375\" y2=\"121.9375\"/></a><!--MD5=[b9389687b975829384b498ac4b7476b2]\n",
       "class E8--><a href=\"psysml:6c414e1f-4fb5-42fd-83aa-c158d2fbc464\" target=\"_top\" title=\"psysml:6c414e1f-4fb5-42fd-83aa-c158d2fbc464\" xlink:actuate=\"onRequest\" xlink:href=\"psysml:6c414e1f-4fb5-42fd-83aa-c158d2fbc464\" xlink:show=\"new\" xlink:title=\"psysml:6c414e1f-4fb5-42fd-83aa-c158d2fbc464\" xlink:type=\"simple\"><rect fill=\"#FFFFFF\" height=\"45.9375\" id=\"E8\" rx=\"10\" ry=\"10\" style=\"stroke: #383838; stroke-width: 1.5;\" width=\"42\" x=\"284\" y=\"84\"/><text fill=\"#000000\" font-family=\"sans-serif\" font-size=\"12\" font-style=\"italic\" lengthAdjust=\"spacingAndGlyphs\" textLength=\"40\" x=\"285\" y=\"100.1387\">«part»</text><text fill=\"#000000\" font-family=\"sans-serif\" font-size=\"12\" lengthAdjust=\"spacingAndGlyphs\" textLength=\"22\" x=\"294\" y=\"114.1074\">y: B</text><line style=\"stroke: #383838; stroke-width: 1.5;\" x1=\"285\" x2=\"325\" y1=\"121.9375\" y2=\"121.9375\"/></a><!--MD5=[96f4274e9e20536e775497830990834d]\n",
       "class E10--><a href=\"psysml:797261aa-a958-4475-9de3-b139176b10fb\" target=\"_top\" title=\"psysml:797261aa-a958-4475-9de3-b139176b10fb\" xlink:actuate=\"onRequest\" xlink:href=\"psysml:797261aa-a958-4475-9de3-b139176b10fb\" xlink:show=\"new\" xlink:title=\"psysml:797261aa-a958-4475-9de3-b139176b10fb\" xlink:type=\"simple\"><rect fill=\"#FFFFFF\" height=\"45.9375\" id=\"E10\" rx=\"10\" ry=\"10\" style=\"stroke: #383838; stroke-width: 1.5;\" width=\"42\" x=\"186\" y=\"84\"/><text fill=\"#000000\" font-family=\"sans-serif\" font-size=\"12\" font-style=\"italic\" lengthAdjust=\"spacingAndGlyphs\" textLength=\"40\" x=\"187\" y=\"100.1387\">«part»</text><text fill=\"#000000\" font-family=\"sans-serif\" font-size=\"12\" lengthAdjust=\"spacingAndGlyphs\" textLength=\"22\" x=\"196\" y=\"114.1074\">x: A</text><line style=\"stroke: #383838; stroke-width: 1.5;\" x1=\"187\" x2=\"227\" y1=\"121.9375\" y2=\"121.9375\"/></a><!--MD5=[1dd1bfd58a279cf63c5f349dbc8fc6a1]\n",
       "class E11--><a href=\"psysml:3825b43b-bb71-4033-970e-c8c9e00cfd14\" target=\"_top\" title=\"psysml:3825b43b-bb71-4033-970e-c8c9e00cfd14\" xlink:actuate=\"onRequest\" xlink:href=\"psysml:3825b43b-bb71-4033-970e-c8c9e00cfd14\" xlink:show=\"new\" xlink:title=\"psysml:3825b43b-bb71-4033-970e-c8c9e00cfd14\" xlink:type=\"simple\"><rect fill=\"#FFFFFF\" height=\"45.9375\" id=\"E11\" rx=\"10\" ry=\"10\" style=\"stroke: #383838; stroke-width: 1.5;\" width=\"42\" x=\"109\" y=\"84\"/><text fill=\"#000000\" font-family=\"sans-serif\" font-size=\"12\" font-style=\"italic\" lengthAdjust=\"spacingAndGlyphs\" textLength=\"40\" x=\"110\" y=\"100.1387\">«part»</text><text fill=\"#000000\" font-family=\"sans-serif\" font-size=\"12\" lengthAdjust=\"spacingAndGlyphs\" textLength=\"22\" x=\"119\" y=\"114.1074\">y: B</text><line style=\"stroke: #383838; stroke-width: 1.5;\" x1=\"110\" x2=\"150\" y1=\"121.9375\" y2=\"121.9375\"/></a><!--MD5=[14ccda38c055a5c0da953d572bc50960]\n",
       "link E7 to E3--><a href=\"psysml:85e1ff22-6346-4a23-846d-dc1a236203c0\" target=\"_top\" title=\"psysml:85e1ff22-6346-4a23-846d-dc1a236203c0\" xlink:actuate=\"onRequest\" xlink:href=\"psysml:85e1ff22-6346-4a23-846d-dc1a236203c0\" xlink:show=\"new\" xlink:title=\"psysml:85e1ff22-6346-4a23-846d-dc1a236203c0\" xlink:type=\"simple\"><path d=\"M382,130.1 C382,145.37 382,166.16 382,184.57 \" fill=\"none\" id=\"E7-&gt;E3\" style=\"stroke: #383838; stroke-width: 1.0;\"/><polygon fill=\"#FFFFFF\" points=\"382,204.61,375,185.61,389,185.61,382,204.61\" style=\"stroke: #383838; stroke-width: 1.0;\"/><ellipse cx=\"377\" cy=\"179.91\" fill=\"#383838\" rx=\"2\" ry=\"2\" style=\"stroke: #383838; stroke-width: 1.0;\"/><ellipse cx=\"387\" cy=\"179.91\" fill=\"#383838\" rx=\"2\" ry=\"2\" style=\"stroke: #383838; stroke-width: 1.0;\"/></a><!--MD5=[1ccb2481ffa92f8d51a74ee30c51832a]\n",
       "link E8 to E5--><a href=\"psysml:483adec0-2d55-41ba-876c-1b8fe7d429ab\" target=\"_top\" title=\"psysml:483adec0-2d55-41ba-876c-1b8fe7d429ab\" xlink:actuate=\"onRequest\" xlink:href=\"psysml:483adec0-2d55-41ba-876c-1b8fe7d429ab\" xlink:show=\"new\" xlink:title=\"psysml:483adec0-2d55-41ba-876c-1b8fe7d429ab\" xlink:type=\"simple\"><path d=\"M283.67,124.09 C266.07,137.35 244,154 244,154 C244,154 210.8,175.26 180.23,194.83 \" fill=\"none\" id=\"E8-&gt;E5\" style=\"stroke: #383838; stroke-width: 1.0;\"/><polygon fill=\"#FFFFFF\" points=\"163.28,205.69,175.5055,189.5488,183.0554,201.3386,163.28,205.69\" style=\"stroke: #383838; stroke-width: 1.0;\"/><ellipse cx=\"181.3842\" cy=\"188.1592\" fill=\"#383838\" rx=\"2\" ry=\"2\" style=\"stroke: #383838; stroke-width: 1.0;\"/><ellipse cx=\"186.777\" cy=\"196.5805\" fill=\"#383838\" rx=\"2\" ry=\"2\" style=\"stroke: #383838; stroke-width: 1.0;\"/></a><!--MD5=[feeac5eb423634930294aa81f2d25a4c]\n",
       "link E10 to E3--><a href=\"psysml:0e238847-8a3c-4f4a-a4c7-c4eca45a31b2\" target=\"_top\" title=\"psysml:0e238847-8a3c-4f4a-a4c7-c4eca45a31b2\" xlink:actuate=\"onRequest\" xlink:href=\"psysml:0e238847-8a3c-4f4a-a4c7-c4eca45a31b2\" xlink:show=\"new\" xlink:title=\"psysml:0e238847-8a3c-4f4a-a4c7-c4eca45a31b2\" xlink:type=\"simple\"><path d=\"M228.33,124.09 C245.93,137.35 268,154 268,154 C268,154 301.2,175.26 331.77,194.83 \" fill=\"none\" id=\"E10-&gt;E3\" style=\"stroke: #383838; stroke-width: 1.0;\"/><polygon fill=\"#FFFFFF\" points=\"348.72,205.69,328.9446,201.3386,336.4945,189.5488,348.72,205.69\" style=\"stroke: #383838; stroke-width: 1.0;\"/><ellipse cx=\"325.223\" cy=\"196.5805\" fill=\"#383838\" rx=\"2\" ry=\"2\" style=\"stroke: #383838; stroke-width: 1.0;\"/><ellipse cx=\"330.6158\" cy=\"188.1592\" fill=\"#383838\" rx=\"2\" ry=\"2\" style=\"stroke: #383838; stroke-width: 1.0;\"/></a><!--MD5=[07b77f6f309248d16187045709d1c26e]\n",
       "link E11 to E5--><a href=\"psysml:1112046b-9823-4ab2-8a83-96247ffb9742\" target=\"_top\" title=\"psysml:1112046b-9823-4ab2-8a83-96247ffb9742\" xlink:actuate=\"onRequest\" xlink:href=\"psysml:1112046b-9823-4ab2-8a83-96247ffb9742\" xlink:show=\"new\" xlink:title=\"psysml:1112046b-9823-4ab2-8a83-96247ffb9742\" xlink:type=\"simple\"><path d=\"M130,130.1 C130,145.37 130,166.16 130,184.57 \" fill=\"none\" id=\"E11-&gt;E5\" style=\"stroke: #383838; stroke-width: 1.0;\"/><polygon fill=\"#FFFFFF\" points=\"130,204.61,123,185.61,137,185.61,130,204.61\" style=\"stroke: #383838; stroke-width: 1.0;\"/><ellipse cx=\"125\" cy=\"179.91\" fill=\"#383838\" rx=\"2\" ry=\"2\" style=\"stroke: #383838; stroke-width: 1.0;\"/><ellipse cx=\"135\" cy=\"179.91\" fill=\"#383838\" rx=\"2\" ry=\"2\" style=\"stroke: #383838; stroke-width: 1.0;\"/></a><!--MD5=[39f41a0e550fb3d73b4d8135617e30a2]\n",
       "link E12 to E3--><a href=\"psysml:ee0d4e1c-50f8-4d3c-8a56-5035ed7c5f53\" target=\"_top\" title=\"psysml:ee0d4e1c-50f8-4d3c-8a56-5035ed7c5f53\" xlink:actuate=\"onRequest\" xlink:href=\"psysml:ee0d4e1c-50f8-4d3c-8a56-5035ed7c5f53\" xlink:show=\"new\" xlink:title=\"psysml:ee0d4e1c-50f8-4d3c-8a56-5035ed7c5f53\" xlink:type=\"simple\"><path d=\"M444.7,130.1 C434.28,146.2 419.89,168.44 407.53,187.55 \" fill=\"none\" id=\"E12-&gt;E3\" style=\"stroke: #383838; stroke-width: 1.0;\"/><polygon fill=\"#FFFFFF\" points=\"396.49,204.61,400.9313,184.8546,412.6866,192.4581,396.49,204.61\" style=\"stroke: #383838; stroke-width: 1.0;\"/><ellipse cx=\"405.7063\" cy=\"181.1547\" fill=\"#383838\" rx=\"2\" ry=\"2\" style=\"stroke: #383838; stroke-width: 1.0;\"/><ellipse cx=\"414.103\" cy=\"186.5858\" fill=\"#383838\" rx=\"2\" ry=\"2\" style=\"stroke: #383838; stroke-width: 1.0;\"/></a><!--MD5=[066b2d8af59fea80ccdb3d54ad5c1091]\n",
       "link E13 to E5--><a href=\"psysml:1d6f62f5-9885-441d-bead-3e38c1577759\" target=\"_top\" title=\"psysml:1d6f62f5-9885-441d-bead-3e38c1577759\" xlink:actuate=\"onRequest\" xlink:href=\"psysml:1d6f62f5-9885-441d-bead-3e38c1577759\" xlink:show=\"new\" xlink:title=\"psysml:1d6f62f5-9885-441d-bead-3e38c1577759\" xlink:type=\"simple\"><path d=\"M67.3,130.1 C77.72,146.2 92.11,168.44 104.47,187.55 \" fill=\"none\" id=\"E13-&gt;E5\" style=\"stroke: #383838; stroke-width: 1.0;\"/><polygon fill=\"#FFFFFF\" points=\"115.51,204.61,99.3134,192.4581,111.0687,184.8546,115.51,204.61\" style=\"stroke: #383838; stroke-width: 1.0;\"/><ellipse cx=\"97.897\" cy=\"186.5858\" fill=\"#383838\" rx=\"2\" ry=\"2\" style=\"stroke: #383838; stroke-width: 1.0;\"/><ellipse cx=\"106.2937\" cy=\"181.1547\" fill=\"#383838\" rx=\"2\" ry=\"2\" style=\"stroke: #383838; stroke-width: 1.0;\"/></a><!--MD5=[163806b4c47bb6fcb6b3777f3581270e]\n",
       "@startuml\r\n",
       "skinparam linetype polyline\r\n",
       "skinparam monochrome true\r\n",
       "skinparam classbackgroundcolor white\r\n",
       "skinparam shadowing false\r\n",
       "skinparam wrapWidth 300\r\n",
       "hide circle\r\n",
       "\r\n",
       "package \"CircularImport\" as E1  [[psysml:6a62b0bb-ce07-42d9-b06f-c19bd22a93a2 ]]  {\r\n",
       "package \"P1\" as E2  [[psysml:e5793e48-aebf-4c77-9b1c-634d316c370a ]]  {\r\n",
       "comp def \"A\" as E3  <<(T,blue)part def>> [[psysml:4745677c-bede-4ab8-acdc-4365dad759bc ]] {\r\n",
       "}\r\n",
       "}\r\n",
       "package \"P2\" as E4  [[psysml:9f128572-3fea-4fc4-b18b-c92f97cc0f0b ]]  {\r\n",
       "comp def \"B\" as E5  <<(T,blue)part def>> [[psysml:a455b6ac-bbc4-40c1-9da4-354e9f8fdc46 ]] {\r\n",
       "}\r\n",
       "}\r\n",
       "package \"Test1\" as E6  [[psysml:6c517ad3-81f8-4503-b234-41386708eb5e ]]  {\r\n",
       "comp usage \"x: A\" as E7  <<(T,blue)part>> [[psysml:6b7db59d-d003-4043-9508-3fd9ac781eff ]] {\r\n",
       "}\r\n",
       "comp usage \"y: B\" as E8  <<(T,blue)part>> [[psysml:6c414e1f-4fb5-42fd-83aa-c158d2fbc464 ]] {\r\n",
       "}\r\n",
       "E7 - -:|> E3 [[psysml:85e1ff22-6346-4a23-846d-dc1a236203c0 ]] \r\n",
       "E8 - -:|> E5 [[psysml:483adec0-2d55-41ba-876c-1b8fe7d429ab ]] \r\n",
       "}\r\n",
       "package \"Test2\" as E9  [[psysml:81951965-8d4b-42c4-ba21-4255f6488007 ]]  {\r\n",
       "comp usage \"x: A\" as E10  <<(T,blue)part>> [[psysml:797261aa-a958-4475-9de3-b139176b10fb ]] {\r\n",
       "}\r\n",
       "comp usage \"y: B\" as E11  <<(T,blue)part>> [[psysml:3825b43b-bb71-4033-970e-c8c9e00cfd14 ]] {\r\n",
       "}\r\n",
       "E10 - -:|> E3 [[psysml:0e238847-8a3c-4f4a-a4c7-c4eca45a31b2 ]] \r\n",
       "E11 - -:|> E5 [[psysml:1112046b-9823-4ab2-8a83-96247ffb9742 ]] \r\n",
       "}\r\n",
       "comp usage \"x: A\" as E12  <<(T,blue)part>> [[psysml:e16c4bbb-61f3-4b61-a2b5-b03e29e494af ]] {\r\n",
       "}\r\n",
       "comp usage \"y: B\" as E13  <<(T,blue)part>> [[psysml:6a814915-eeda-4c4d-8e98-a86878ae1f3d ]] {\r\n",
       "}\r\n",
       "E12 - -:|> E3 [[psysml:ee0d4e1c-50f8-4d3c-8a56-5035ed7c5f53 ]] \r\n",
       "E13 - -:|> E5 [[psysml:1d6f62f5-9885-441d-bead-3e38c1577759 ]] \r\n",
       "}\r\n",
       "@enduml\r\n",
       "\n",
       "PlantUML version 1.2020.13(Sat Jun 13 12:26:38 UTC 2020)\n",
       "(EPL source distribution)\n",
       "Java Runtime: OpenJDK Runtime Environment\n",
       "JVM: OpenJDK 64-Bit Server VM\n",
       "Default Encoding: UTF-8\n",
       "Language: en\n",
       "Country: null\n",
       "--></g></svg>"
      ]
     },
     "execution_count": 9,
     "metadata": {},
     "output_type": "execute_result"
    }
   ],
   "source": [
    "%viz --style=\"POLYLINE\" --view=\"Default\" \"CircularImport\""
   ]
  },
  {
   "cell_type": "code",
   "execution_count": 10,
   "id": "retired-holocaust",
   "metadata": {
    "execution": {
     "iopub.execute_input": "2021-03-25T13:13:16.385983Z",
     "iopub.status.busy": "2021-03-25T13:13:16.385267Z",
     "iopub.status.idle": "2021-03-25T13:13:16.569590Z",
     "shell.execute_reply": "2021-03-25T13:13:16.570385Z"
    }
   },
   "outputs": [
    {
     "data": {
      "image/svg+xml": [
       "<?xml version=\"1.0\" encoding=\"UTF-8\" standalone=\"no\"?><svg xmlns=\"http://www.w3.org/2000/svg\" xmlns:xlink=\"http://www.w3.org/1999/xlink\" contentScriptType=\"application/ecmascript\" contentStyleType=\"text/css\" height=\"303px\" preserveAspectRatio=\"none\" style=\"width:518px;height:303px;\" version=\"1.1\" viewBox=\"0 0 518 303\" width=\"518px\" zoomAndPan=\"magnify\"><defs/><g><!--MD5=[fbc87193dbaf4d95561dea2c320d4a47]\n",
       "cluster E1--><a href=\"psysml:6a62b0bb-ce07-42d9-b06f-c19bd22a93a2\" target=\"_top\" title=\"psysml:6a62b0bb-ce07-42d9-b06f-c19bd22a93a2\" xlink:actuate=\"onRequest\" xlink:href=\"psysml:6a62b0bb-ce07-42d9-b06f-c19bd22a93a2\" xlink:show=\"new\" xlink:title=\"psysml:6a62b0bb-ce07-42d9-b06f-c19bd22a93a2\" xlink:type=\"simple\"><polygon fill=\"#FFFFFF\" points=\"16,6,134,6,141,28.2969,496,28.2969,496,291,16,291,16,6\" style=\"stroke: #000000; stroke-width: 1.5;\"/><line style=\"stroke: #000000; stroke-width: 1.5;\" x1=\"16\" x2=\"141\" y1=\"28.2969\" y2=\"28.2969\"/><text fill=\"#000000\" font-family=\"sans-serif\" font-size=\"14\" font-weight=\"bold\" lengthAdjust=\"spacingAndGlyphs\" textLength=\"112\" x=\"20\" y=\"20.9951\">CircularImport</text></a><!--MD5=[e4f7fae6ed58524ba242bb0b0d3be6b7]\n",
       "cluster E2--><a href=\"psysml:e5793e48-aebf-4c77-9b1c-634d316c370a\" target=\"_top\" title=\"psysml:e5793e48-aebf-4c77-9b1c-634d316c370a\" xlink:actuate=\"onRequest\" xlink:href=\"psysml:e5793e48-aebf-4c77-9b1c-634d316c370a\" xlink:show=\"new\" xlink:title=\"psysml:e5793e48-aebf-4c77-9b1c-634d316c370a\" xlink:type=\"simple\"><polygon fill=\"#FFFFFF\" points=\"333,170,359,170,366,192.2969,431,192.2969,431,267,333,267,333,170\" style=\"stroke: #000000; stroke-width: 1.5;\"/><line style=\"stroke: #000000; stroke-width: 1.5;\" x1=\"333\" x2=\"366\" y1=\"192.2969\" y2=\"192.2969\"/><text fill=\"#000000\" font-family=\"sans-serif\" font-size=\"14\" font-weight=\"bold\" lengthAdjust=\"spacingAndGlyphs\" textLength=\"20\" x=\"337\" y=\"184.9951\">P1</text></a><!--MD5=[f6df4d0ebaf0b5dfb2ced0ae5af7c670]\n",
       "cluster E4--><a href=\"psysml:9f128572-3fea-4fc4-b18b-c92f97cc0f0b\" target=\"_top\" title=\"psysml:9f128572-3fea-4fc4-b18b-c92f97cc0f0b\" xlink:actuate=\"onRequest\" xlink:href=\"psysml:9f128572-3fea-4fc4-b18b-c92f97cc0f0b\" xlink:show=\"new\" xlink:title=\"psysml:9f128572-3fea-4fc4-b18b-c92f97cc0f0b\" xlink:type=\"simple\"><polygon fill=\"#FFFFFF\" points=\"81,170,107,170,114,192.2969,179,192.2969,179,267,81,267,81,170\" style=\"stroke: #000000; stroke-width: 1.5;\"/><line style=\"stroke: #000000; stroke-width: 1.5;\" x1=\"81\" x2=\"114\" y1=\"192.2969\" y2=\"192.2969\"/><text fill=\"#000000\" font-family=\"sans-serif\" font-size=\"14\" font-weight=\"bold\" lengthAdjust=\"spacingAndGlyphs\" textLength=\"20\" x=\"85\" y=\"184.9951\">P2</text></a><!--MD5=[14e3b0961a2654348d326746436168a1]\n",
       "cluster E6--><a href=\"psysml:6c517ad3-81f8-4503-b234-41386708eb5e\" target=\"_top\" title=\"psysml:6c517ad3-81f8-4503-b234-41386708eb5e\" xlink:actuate=\"onRequest\" xlink:href=\"psysml:6c517ad3-81f8-4503-b234-41386708eb5e\" xlink:show=\"new\" xlink:title=\"psysml:6c517ad3-81f8-4503-b234-41386708eb5e\" xlink:type=\"simple\"><polygon fill=\"#FFFFFF\" points=\"268,49,319,49,326,71.2969,419,71.2969,419,146,268,146,268,49\" style=\"stroke: #000000; stroke-width: 1.5;\"/><line style=\"stroke: #000000; stroke-width: 1.5;\" x1=\"268\" x2=\"326\" y1=\"71.2969\" y2=\"71.2969\"/><text fill=\"#000000\" font-family=\"sans-serif\" font-size=\"14\" font-weight=\"bold\" lengthAdjust=\"spacingAndGlyphs\" textLength=\"45\" x=\"272\" y=\"63.9951\">Test1</text></a><!--MD5=[7f149f147074ac12df2cb0a7728a5fb0]\n",
       "cluster E9--><a href=\"psysml:81951965-8d4b-42c4-ba21-4255f6488007\" target=\"_top\" title=\"psysml:81951965-8d4b-42c4-ba21-4255f6488007\" xlink:actuate=\"onRequest\" xlink:href=\"psysml:81951965-8d4b-42c4-ba21-4255f6488007\" xlink:show=\"new\" xlink:title=\"psysml:81951965-8d4b-42c4-ba21-4255f6488007\" xlink:type=\"simple\"><polygon fill=\"#FFFFFF\" points=\"93,49,144,49,151,71.2969,244,71.2969,244,146,93,146,93,49\" style=\"stroke: #000000; stroke-width: 1.5;\"/><line style=\"stroke: #000000; stroke-width: 1.5;\" x1=\"93\" x2=\"151\" y1=\"71.2969\" y2=\"71.2969\"/><text fill=\"#000000\" font-family=\"sans-serif\" font-size=\"14\" font-weight=\"bold\" lengthAdjust=\"spacingAndGlyphs\" textLength=\"45\" x=\"97\" y=\"63.9951\">Test2</text></a><!--MD5=[49a0ec8f00dab7302a31f22d0f0fe584]\n",
       "class E12--><a href=\"psysml:e16c4bbb-61f3-4b61-a2b5-b03e29e494af\" target=\"_top\" title=\"psysml:e16c4bbb-61f3-4b61-a2b5-b03e29e494af\" xlink:actuate=\"onRequest\" xlink:href=\"psysml:e16c4bbb-61f3-4b61-a2b5-b03e29e494af\" xlink:show=\"new\" xlink:title=\"psysml:e16c4bbb-61f3-4b61-a2b5-b03e29e494af\" xlink:type=\"simple\"><rect fill=\"#FFFFFF\" height=\"45.9375\" id=\"E12\" rx=\"10\" ry=\"10\" style=\"stroke: #383838; stroke-width: 1.5;\" width=\"42\" x=\"438\" y=\"84\"/><text fill=\"#000000\" font-family=\"sans-serif\" font-size=\"12\" font-style=\"italic\" lengthAdjust=\"spacingAndGlyphs\" textLength=\"40\" x=\"439\" y=\"100.1387\">«part»</text><text fill=\"#000000\" font-family=\"sans-serif\" font-size=\"12\" lengthAdjust=\"spacingAndGlyphs\" textLength=\"22\" x=\"448\" y=\"114.1074\">x: A</text><line style=\"stroke: #383838; stroke-width: 1.5;\" x1=\"439\" x2=\"479\" y1=\"121.9375\" y2=\"121.9375\"/></a><!--MD5=[ee3c913d1a06f366521f9ef512b67efe]\n",
       "class E13--><a href=\"psysml:6a814915-eeda-4c4d-8e98-a86878ae1f3d\" target=\"_top\" title=\"psysml:6a814915-eeda-4c4d-8e98-a86878ae1f3d\" xlink:actuate=\"onRequest\" xlink:href=\"psysml:6a814915-eeda-4c4d-8e98-a86878ae1f3d\" xlink:show=\"new\" xlink:title=\"psysml:6a814915-eeda-4c4d-8e98-a86878ae1f3d\" xlink:type=\"simple\"><rect fill=\"#FFFFFF\" height=\"45.9375\" id=\"E13\" rx=\"10\" ry=\"10\" style=\"stroke: #383838; stroke-width: 1.5;\" width=\"42\" x=\"32\" y=\"84\"/><text fill=\"#000000\" font-family=\"sans-serif\" font-size=\"12\" font-style=\"italic\" lengthAdjust=\"spacingAndGlyphs\" textLength=\"40\" x=\"33\" y=\"100.1387\">«part»</text><text fill=\"#000000\" font-family=\"sans-serif\" font-size=\"12\" lengthAdjust=\"spacingAndGlyphs\" textLength=\"22\" x=\"42\" y=\"114.1074\">y: B</text><line style=\"stroke: #383838; stroke-width: 1.5;\" x1=\"33\" x2=\"73\" y1=\"121.9375\" y2=\"121.9375\"/></a><!--MD5=[09b614a08d8cba4a07c9adeb5e0fee81]\n",
       "class E3--><a href=\"psysml:4745677c-bede-4ab8-acdc-4365dad759bc\" target=\"_top\" title=\"psysml:4745677c-bede-4ab8-acdc-4365dad759bc\" xlink:actuate=\"onRequest\" xlink:href=\"psysml:4745677c-bede-4ab8-acdc-4365dad759bc\" xlink:show=\"new\" xlink:title=\"psysml:4745677c-bede-4ab8-acdc-4365dad759bc\" xlink:type=\"simple\"><rect fill=\"#FFFFFF\" height=\"45.9375\" id=\"E3\" style=\"stroke: #383838; stroke-width: 1.5;\" width=\"66\" x=\"349\" y=\"205\"/><text fill=\"#000000\" font-family=\"sans-serif\" font-size=\"12\" font-style=\"italic\" lengthAdjust=\"spacingAndGlyphs\" textLength=\"64\" x=\"350\" y=\"221.1387\">«part def»</text><text fill=\"#000000\" font-family=\"sans-serif\" font-size=\"12\" lengthAdjust=\"spacingAndGlyphs\" textLength=\"8\" x=\"378\" y=\"235.1074\">A</text><line style=\"stroke: #383838; stroke-width: 1.5;\" x1=\"350\" x2=\"414\" y1=\"242.9375\" y2=\"242.9375\"/></a><!--MD5=[270fce915f116d4de14055a7c1d9a0f3]\n",
       "class E5--><a href=\"psysml:a455b6ac-bbc4-40c1-9da4-354e9f8fdc46\" target=\"_top\" title=\"psysml:a455b6ac-bbc4-40c1-9da4-354e9f8fdc46\" xlink:actuate=\"onRequest\" xlink:href=\"psysml:a455b6ac-bbc4-40c1-9da4-354e9f8fdc46\" xlink:show=\"new\" xlink:title=\"psysml:a455b6ac-bbc4-40c1-9da4-354e9f8fdc46\" xlink:type=\"simple\"><rect fill=\"#FFFFFF\" height=\"45.9375\" id=\"E5\" style=\"stroke: #383838; stroke-width: 1.5;\" width=\"66\" x=\"97\" y=\"205\"/><text fill=\"#000000\" font-family=\"sans-serif\" font-size=\"12\" font-style=\"italic\" lengthAdjust=\"spacingAndGlyphs\" textLength=\"64\" x=\"98\" y=\"221.1387\">«part def»</text><text fill=\"#000000\" font-family=\"sans-serif\" font-size=\"12\" lengthAdjust=\"spacingAndGlyphs\" textLength=\"8\" x=\"126\" y=\"235.1074\">B</text><line style=\"stroke: #383838; stroke-width: 1.5;\" x1=\"98\" x2=\"162\" y1=\"242.9375\" y2=\"242.9375\"/></a><!--MD5=[2156ba9850f5573cc1fc38a6a4b2f02b]\n",
       "class E7--><a href=\"psysml:6b7db59d-d003-4043-9508-3fd9ac781eff\" target=\"_top\" title=\"psysml:6b7db59d-d003-4043-9508-3fd9ac781eff\" xlink:actuate=\"onRequest\" xlink:href=\"psysml:6b7db59d-d003-4043-9508-3fd9ac781eff\" xlink:show=\"new\" xlink:title=\"psysml:6b7db59d-d003-4043-9508-3fd9ac781eff\" xlink:type=\"simple\"><rect fill=\"#FFFFFF\" height=\"45.9375\" id=\"E7\" rx=\"10\" ry=\"10\" style=\"stroke: #383838; stroke-width: 1.5;\" width=\"42\" x=\"361\" y=\"84\"/><text fill=\"#000000\" font-family=\"sans-serif\" font-size=\"12\" font-style=\"italic\" lengthAdjust=\"spacingAndGlyphs\" textLength=\"40\" x=\"362\" y=\"100.1387\">«part»</text><text fill=\"#000000\" font-family=\"sans-serif\" font-size=\"12\" lengthAdjust=\"spacingAndGlyphs\" textLength=\"22\" x=\"371\" y=\"114.1074\">x: A</text><line style=\"stroke: #383838; stroke-width: 1.5;\" x1=\"362\" x2=\"402\" y1=\"121.9375\" y2=\"121.9375\"/></a><!--MD5=[b9389687b975829384b498ac4b7476b2]\n",
       "class E8--><a href=\"psysml:6c414e1f-4fb5-42fd-83aa-c158d2fbc464\" target=\"_top\" title=\"psysml:6c414e1f-4fb5-42fd-83aa-c158d2fbc464\" xlink:actuate=\"onRequest\" xlink:href=\"psysml:6c414e1f-4fb5-42fd-83aa-c158d2fbc464\" xlink:show=\"new\" xlink:title=\"psysml:6c414e1f-4fb5-42fd-83aa-c158d2fbc464\" xlink:type=\"simple\"><rect fill=\"#FFFFFF\" height=\"45.9375\" id=\"E8\" rx=\"10\" ry=\"10\" style=\"stroke: #383838; stroke-width: 1.5;\" width=\"42\" x=\"284\" y=\"84\"/><text fill=\"#000000\" font-family=\"sans-serif\" font-size=\"12\" font-style=\"italic\" lengthAdjust=\"spacingAndGlyphs\" textLength=\"40\" x=\"285\" y=\"100.1387\">«part»</text><text fill=\"#000000\" font-family=\"sans-serif\" font-size=\"12\" lengthAdjust=\"spacingAndGlyphs\" textLength=\"22\" x=\"294\" y=\"114.1074\">y: B</text><line style=\"stroke: #383838; stroke-width: 1.5;\" x1=\"285\" x2=\"325\" y1=\"121.9375\" y2=\"121.9375\"/></a><!--MD5=[96f4274e9e20536e775497830990834d]\n",
       "class E10--><a href=\"psysml:797261aa-a958-4475-9de3-b139176b10fb\" target=\"_top\" title=\"psysml:797261aa-a958-4475-9de3-b139176b10fb\" xlink:actuate=\"onRequest\" xlink:href=\"psysml:797261aa-a958-4475-9de3-b139176b10fb\" xlink:show=\"new\" xlink:title=\"psysml:797261aa-a958-4475-9de3-b139176b10fb\" xlink:type=\"simple\"><rect fill=\"#FFFFFF\" height=\"45.9375\" id=\"E10\" rx=\"10\" ry=\"10\" style=\"stroke: #383838; stroke-width: 1.5;\" width=\"42\" x=\"186\" y=\"84\"/><text fill=\"#000000\" font-family=\"sans-serif\" font-size=\"12\" font-style=\"italic\" lengthAdjust=\"spacingAndGlyphs\" textLength=\"40\" x=\"187\" y=\"100.1387\">«part»</text><text fill=\"#000000\" font-family=\"sans-serif\" font-size=\"12\" lengthAdjust=\"spacingAndGlyphs\" textLength=\"22\" x=\"196\" y=\"114.1074\">x: A</text><line style=\"stroke: #383838; stroke-width: 1.5;\" x1=\"187\" x2=\"227\" y1=\"121.9375\" y2=\"121.9375\"/></a><!--MD5=[1dd1bfd58a279cf63c5f349dbc8fc6a1]\n",
       "class E11--><a href=\"psysml:3825b43b-bb71-4033-970e-c8c9e00cfd14\" target=\"_top\" title=\"psysml:3825b43b-bb71-4033-970e-c8c9e00cfd14\" xlink:actuate=\"onRequest\" xlink:href=\"psysml:3825b43b-bb71-4033-970e-c8c9e00cfd14\" xlink:show=\"new\" xlink:title=\"psysml:3825b43b-bb71-4033-970e-c8c9e00cfd14\" xlink:type=\"simple\"><rect fill=\"#FFFFFF\" height=\"45.9375\" id=\"E11\" rx=\"10\" ry=\"10\" style=\"stroke: #383838; stroke-width: 1.5;\" width=\"42\" x=\"109\" y=\"84\"/><text fill=\"#000000\" font-family=\"sans-serif\" font-size=\"12\" font-style=\"italic\" lengthAdjust=\"spacingAndGlyphs\" textLength=\"40\" x=\"110\" y=\"100.1387\">«part»</text><text fill=\"#000000\" font-family=\"sans-serif\" font-size=\"12\" lengthAdjust=\"spacingAndGlyphs\" textLength=\"22\" x=\"119\" y=\"114.1074\">y: B</text><line style=\"stroke: #383838; stroke-width: 1.5;\" x1=\"110\" x2=\"150\" y1=\"121.9375\" y2=\"121.9375\"/></a><!--MD5=[14ccda38c055a5c0da953d572bc50960]\n",
       "link E7 to E3--><a href=\"psysml:85e1ff22-6346-4a23-846d-dc1a236203c0\" target=\"_top\" title=\"psysml:85e1ff22-6346-4a23-846d-dc1a236203c0\" xlink:actuate=\"onRequest\" xlink:href=\"psysml:85e1ff22-6346-4a23-846d-dc1a236203c0\" xlink:show=\"new\" xlink:title=\"psysml:85e1ff22-6346-4a23-846d-dc1a236203c0\" xlink:type=\"simple\"><path d=\"M382,130.1 C382,145.37 382,166.16 382,184.57 \" fill=\"none\" id=\"E7-&gt;E3\" style=\"stroke: #383838; stroke-width: 1.0;\"/><polygon fill=\"#FFFFFF\" points=\"382,204.61,375,185.61,389,185.61,382,204.61\" style=\"stroke: #383838; stroke-width: 1.0;\"/><ellipse cx=\"377\" cy=\"179.91\" fill=\"#383838\" rx=\"2\" ry=\"2\" style=\"stroke: #383838; stroke-width: 1.0;\"/><ellipse cx=\"387\" cy=\"179.91\" fill=\"#383838\" rx=\"2\" ry=\"2\" style=\"stroke: #383838; stroke-width: 1.0;\"/></a><!--MD5=[1ccb2481ffa92f8d51a74ee30c51832a]\n",
       "link E8 to E5--><a href=\"psysml:483adec0-2d55-41ba-876c-1b8fe7d429ab\" target=\"_top\" title=\"psysml:483adec0-2d55-41ba-876c-1b8fe7d429ab\" xlink:actuate=\"onRequest\" xlink:href=\"psysml:483adec0-2d55-41ba-876c-1b8fe7d429ab\" xlink:show=\"new\" xlink:title=\"psysml:483adec0-2d55-41ba-876c-1b8fe7d429ab\" xlink:type=\"simple\"><path d=\"M283.67,124.09 C266.07,137.35 244,154 244,154 C244,154 210.8,175.26 180.23,194.83 \" fill=\"none\" id=\"E8-&gt;E5\" style=\"stroke: #383838; stroke-width: 1.0;\"/><polygon fill=\"#FFFFFF\" points=\"163.28,205.69,175.5055,189.5488,183.0554,201.3386,163.28,205.69\" style=\"stroke: #383838; stroke-width: 1.0;\"/><ellipse cx=\"181.3842\" cy=\"188.1592\" fill=\"#383838\" rx=\"2\" ry=\"2\" style=\"stroke: #383838; stroke-width: 1.0;\"/><ellipse cx=\"186.777\" cy=\"196.5805\" fill=\"#383838\" rx=\"2\" ry=\"2\" style=\"stroke: #383838; stroke-width: 1.0;\"/></a><!--MD5=[feeac5eb423634930294aa81f2d25a4c]\n",
       "link E10 to E3--><a href=\"psysml:0e238847-8a3c-4f4a-a4c7-c4eca45a31b2\" target=\"_top\" title=\"psysml:0e238847-8a3c-4f4a-a4c7-c4eca45a31b2\" xlink:actuate=\"onRequest\" xlink:href=\"psysml:0e238847-8a3c-4f4a-a4c7-c4eca45a31b2\" xlink:show=\"new\" xlink:title=\"psysml:0e238847-8a3c-4f4a-a4c7-c4eca45a31b2\" xlink:type=\"simple\"><path d=\"M228.33,124.09 C245.93,137.35 268,154 268,154 C268,154 301.2,175.26 331.77,194.83 \" fill=\"none\" id=\"E10-&gt;E3\" style=\"stroke: #383838; stroke-width: 1.0;\"/><polygon fill=\"#FFFFFF\" points=\"348.72,205.69,328.9446,201.3386,336.4945,189.5488,348.72,205.69\" style=\"stroke: #383838; stroke-width: 1.0;\"/><ellipse cx=\"325.223\" cy=\"196.5805\" fill=\"#383838\" rx=\"2\" ry=\"2\" style=\"stroke: #383838; stroke-width: 1.0;\"/><ellipse cx=\"330.6158\" cy=\"188.1592\" fill=\"#383838\" rx=\"2\" ry=\"2\" style=\"stroke: #383838; stroke-width: 1.0;\"/></a><!--MD5=[07b77f6f309248d16187045709d1c26e]\n",
       "link E11 to E5--><a href=\"psysml:1112046b-9823-4ab2-8a83-96247ffb9742\" target=\"_top\" title=\"psysml:1112046b-9823-4ab2-8a83-96247ffb9742\" xlink:actuate=\"onRequest\" xlink:href=\"psysml:1112046b-9823-4ab2-8a83-96247ffb9742\" xlink:show=\"new\" xlink:title=\"psysml:1112046b-9823-4ab2-8a83-96247ffb9742\" xlink:type=\"simple\"><path d=\"M130,130.1 C130,145.37 130,166.16 130,184.57 \" fill=\"none\" id=\"E11-&gt;E5\" style=\"stroke: #383838; stroke-width: 1.0;\"/><polygon fill=\"#FFFFFF\" points=\"130,204.61,123,185.61,137,185.61,130,204.61\" style=\"stroke: #383838; stroke-width: 1.0;\"/><ellipse cx=\"125\" cy=\"179.91\" fill=\"#383838\" rx=\"2\" ry=\"2\" style=\"stroke: #383838; stroke-width: 1.0;\"/><ellipse cx=\"135\" cy=\"179.91\" fill=\"#383838\" rx=\"2\" ry=\"2\" style=\"stroke: #383838; stroke-width: 1.0;\"/></a><!--MD5=[39f41a0e550fb3d73b4d8135617e30a2]\n",
       "link E12 to E3--><a href=\"psysml:ee0d4e1c-50f8-4d3c-8a56-5035ed7c5f53\" target=\"_top\" title=\"psysml:ee0d4e1c-50f8-4d3c-8a56-5035ed7c5f53\" xlink:actuate=\"onRequest\" xlink:href=\"psysml:ee0d4e1c-50f8-4d3c-8a56-5035ed7c5f53\" xlink:show=\"new\" xlink:title=\"psysml:ee0d4e1c-50f8-4d3c-8a56-5035ed7c5f53\" xlink:type=\"simple\"><path d=\"M444.7,130.1 C434.28,146.2 419.89,168.44 407.53,187.55 \" fill=\"none\" id=\"E12-&gt;E3\" style=\"stroke: #383838; stroke-width: 1.0;\"/><polygon fill=\"#FFFFFF\" points=\"396.49,204.61,400.9313,184.8546,412.6866,192.4581,396.49,204.61\" style=\"stroke: #383838; stroke-width: 1.0;\"/><ellipse cx=\"405.7063\" cy=\"181.1547\" fill=\"#383838\" rx=\"2\" ry=\"2\" style=\"stroke: #383838; stroke-width: 1.0;\"/><ellipse cx=\"414.103\" cy=\"186.5858\" fill=\"#383838\" rx=\"2\" ry=\"2\" style=\"stroke: #383838; stroke-width: 1.0;\"/></a><!--MD5=[066b2d8af59fea80ccdb3d54ad5c1091]\n",
       "link E13 to E5--><a href=\"psysml:1d6f62f5-9885-441d-bead-3e38c1577759\" target=\"_top\" title=\"psysml:1d6f62f5-9885-441d-bead-3e38c1577759\" xlink:actuate=\"onRequest\" xlink:href=\"psysml:1d6f62f5-9885-441d-bead-3e38c1577759\" xlink:show=\"new\" xlink:title=\"psysml:1d6f62f5-9885-441d-bead-3e38c1577759\" xlink:type=\"simple\"><path d=\"M67.3,130.1 C77.72,146.2 92.11,168.44 104.47,187.55 \" fill=\"none\" id=\"E13-&gt;E5\" style=\"stroke: #383838; stroke-width: 1.0;\"/><polygon fill=\"#FFFFFF\" points=\"115.51,204.61,99.3134,192.4581,111.0687,184.8546,115.51,204.61\" style=\"stroke: #383838; stroke-width: 1.0;\"/><ellipse cx=\"97.897\" cy=\"186.5858\" fill=\"#383838\" rx=\"2\" ry=\"2\" style=\"stroke: #383838; stroke-width: 1.0;\"/><ellipse cx=\"106.2937\" cy=\"181.1547\" fill=\"#383838\" rx=\"2\" ry=\"2\" style=\"stroke: #383838; stroke-width: 1.0;\"/></a><!--MD5=[163806b4c47bb6fcb6b3777f3581270e]\n",
       "@startuml\r\n",
       "skinparam linetype polyline\r\n",
       "skinparam monochrome true\r\n",
       "skinparam classbackgroundcolor white\r\n",
       "skinparam shadowing false\r\n",
       "skinparam wrapWidth 300\r\n",
       "hide circle\r\n",
       "\r\n",
       "package \"CircularImport\" as E1  [[psysml:6a62b0bb-ce07-42d9-b06f-c19bd22a93a2 ]]  {\r\n",
       "package \"P1\" as E2  [[psysml:e5793e48-aebf-4c77-9b1c-634d316c370a ]]  {\r\n",
       "comp def \"A\" as E3  <<(T,blue)part def>> [[psysml:4745677c-bede-4ab8-acdc-4365dad759bc ]] {\r\n",
       "}\r\n",
       "}\r\n",
       "package \"P2\" as E4  [[psysml:9f128572-3fea-4fc4-b18b-c92f97cc0f0b ]]  {\r\n",
       "comp def \"B\" as E5  <<(T,blue)part def>> [[psysml:a455b6ac-bbc4-40c1-9da4-354e9f8fdc46 ]] {\r\n",
       "}\r\n",
       "}\r\n",
       "package \"Test1\" as E6  [[psysml:6c517ad3-81f8-4503-b234-41386708eb5e ]]  {\r\n",
       "comp usage \"x: A\" as E7  <<(T,blue)part>> [[psysml:6b7db59d-d003-4043-9508-3fd9ac781eff ]] {\r\n",
       "}\r\n",
       "comp usage \"y: B\" as E8  <<(T,blue)part>> [[psysml:6c414e1f-4fb5-42fd-83aa-c158d2fbc464 ]] {\r\n",
       "}\r\n",
       "E7 - -:|> E3 [[psysml:85e1ff22-6346-4a23-846d-dc1a236203c0 ]] \r\n",
       "E8 - -:|> E5 [[psysml:483adec0-2d55-41ba-876c-1b8fe7d429ab ]] \r\n",
       "}\r\n",
       "package \"Test2\" as E9  [[psysml:81951965-8d4b-42c4-ba21-4255f6488007 ]]  {\r\n",
       "comp usage \"x: A\" as E10  <<(T,blue)part>> [[psysml:797261aa-a958-4475-9de3-b139176b10fb ]] {\r\n",
       "}\r\n",
       "comp usage \"y: B\" as E11  <<(T,blue)part>> [[psysml:3825b43b-bb71-4033-970e-c8c9e00cfd14 ]] {\r\n",
       "}\r\n",
       "E10 - -:|> E3 [[psysml:0e238847-8a3c-4f4a-a4c7-c4eca45a31b2 ]] \r\n",
       "E11 - -:|> E5 [[psysml:1112046b-9823-4ab2-8a83-96247ffb9742 ]] \r\n",
       "}\r\n",
       "comp usage \"x: A\" as E12  <<(T,blue)part>> [[psysml:e16c4bbb-61f3-4b61-a2b5-b03e29e494af ]] {\r\n",
       "}\r\n",
       "comp usage \"y: B\" as E13  <<(T,blue)part>> [[psysml:6a814915-eeda-4c4d-8e98-a86878ae1f3d ]] {\r\n",
       "}\r\n",
       "E12 - -:|> E3 [[psysml:ee0d4e1c-50f8-4d3c-8a56-5035ed7c5f53 ]] \r\n",
       "E13 - -:|> E5 [[psysml:1d6f62f5-9885-441d-bead-3e38c1577759 ]] \r\n",
       "}\r\n",
       "@enduml\r\n",
       "\n",
       "PlantUML version 1.2020.13(Sat Jun 13 12:26:38 UTC 2020)\n",
       "(EPL source distribution)\n",
       "Java Runtime: OpenJDK Runtime Environment\n",
       "JVM: OpenJDK 64-Bit Server VM\n",
       "Default Encoding: UTF-8\n",
       "Language: en\n",
       "Country: null\n",
       "--></g></svg>"
      ]
     },
     "execution_count": 10,
     "metadata": {},
     "output_type": "execute_result"
    }
   ],
   "source": [
    "%viz --style=\"POLYLINE\" --view=\"Tree\" \"CircularImport\""
   ]
  },
  {
   "cell_type": "code",
   "execution_count": 11,
   "id": "cooperative-canyon",
   "metadata": {
    "execution": {
     "iopub.execute_input": "2021-03-25T13:13:16.620493Z",
     "iopub.status.busy": "2021-03-25T13:13:16.619819Z",
     "iopub.status.idle": "2021-03-25T13:13:16.636617Z",
     "shell.execute_reply": "2021-03-25T13:13:16.637448Z"
    }
   },
   "outputs": [
    {
     "data": {
      "image/svg+xml": [
       "<?xml version=\"1.0\" encoding=\"UTF-8\" standalone=\"no\"?><svg xmlns=\"http://www.w3.org/2000/svg\" xmlns:xlink=\"http://www.w3.org/1999/xlink\" contentScriptType=\"application/ecmascript\" contentStyleType=\"text/css\" height=\"12px\" preserveAspectRatio=\"none\" style=\"width:12px;height:12px;\" version=\"1.1\" viewBox=\"0 0 12 12\" width=\"12px\" zoomAndPan=\"magnify\"><defs/><g><!--MD5=[896ac0e7a515d8dd7765a661cb4ee08b]\n",
       "@startuml\r\n",
       "skinparam linetype polyline\r\n",
       "skinparam monochrome true\r\n",
       "skinparam classbackgroundcolor white\r\n",
       "skinparam shadowing false\r\n",
       "skinparam wrapWidth 300\r\n",
       "hide circle\r\n",
       "\r\n",
       "@enduml\r\n",
       "\n",
       "PlantUML version 1.2020.13(Sat Jun 13 12:26:38 UTC 2020)\n",
       "(EPL source distribution)\n",
       "Java Runtime: OpenJDK Runtime Environment\n",
       "JVM: OpenJDK 64-Bit Server VM\n",
       "Default Encoding: UTF-8\n",
       "Language: en\n",
       "Country: null\n",
       "--></g></svg>"
      ]
     },
     "execution_count": 11,
     "metadata": {},
     "output_type": "execute_result"
    }
   ],
   "source": [
    "%viz --style=\"POLYLINE\" --view=\"State\" \"CircularImport\""
   ]
  },
  {
   "cell_type": "code",
   "execution_count": 12,
   "id": "ruled-willow",
   "metadata": {
    "execution": {
     "iopub.execute_input": "2021-03-25T13:13:16.686663Z",
     "iopub.status.busy": "2021-03-25T13:13:16.686089Z",
     "iopub.status.idle": "2021-03-25T13:13:16.825885Z",
     "shell.execute_reply": "2021-03-25T13:13:16.826572Z"
    }
   },
   "outputs": [
    {
     "data": {
      "image/svg+xml": [
       "<?xml version=\"1.0\" encoding=\"UTF-8\" standalone=\"no\"?><svg xmlns=\"http://www.w3.org/2000/svg\" xmlns:xlink=\"http://www.w3.org/1999/xlink\" contentScriptType=\"application/ecmascript\" contentStyleType=\"text/css\" height=\"179px\" preserveAspectRatio=\"none\" style=\"width:846px;height:179px;\" version=\"1.1\" viewBox=\"0 0 846 179\" width=\"846px\" zoomAndPan=\"magnify\"><defs/><g><!--MD5=[fbc87193dbaf4d95561dea2c320d4a47]\n",
       "cluster E1--><a href=\"psysml:6a62b0bb-ce07-42d9-b06f-c19bd22a93a2\" target=\"_top\" title=\"psysml:6a62b0bb-ce07-42d9-b06f-c19bd22a93a2\" xlink:actuate=\"onRequest\" xlink:href=\"psysml:6a62b0bb-ce07-42d9-b06f-c19bd22a93a2\" xlink:show=\"new\" xlink:title=\"psysml:6a62b0bb-ce07-42d9-b06f-c19bd22a93a2\" xlink:type=\"simple\"><polygon fill=\"#FFFFFF\" points=\"16,6,134,6,141,28.2969,824,28.2969,824,167,16,167,16,6\" style=\"stroke: #000000; stroke-width: 1.5;\"/><line style=\"stroke: #000000; stroke-width: 1.5;\" x1=\"16\" x2=\"141\" y1=\"28.2969\" y2=\"28.2969\"/><text fill=\"#000000\" font-family=\"sans-serif\" font-size=\"14\" font-weight=\"bold\" lengthAdjust=\"spacingAndGlyphs\" textLength=\"112\" x=\"20\" y=\"20.9951\">CircularImport</text></a><!--MD5=[e4f7fae6ed58524ba242bb0b0d3be6b7]\n",
       "cluster E2--><a href=\"psysml:e5793e48-aebf-4c77-9b1c-634d316c370a\" target=\"_top\" title=\"psysml:e5793e48-aebf-4c77-9b1c-634d316c370a\" xlink:actuate=\"onRequest\" xlink:href=\"psysml:e5793e48-aebf-4c77-9b1c-634d316c370a\" xlink:show=\"new\" xlink:title=\"psysml:e5793e48-aebf-4c77-9b1c-634d316c370a\" xlink:type=\"simple\"><polygon fill=\"#FFFFFF\" points=\"696,49,722,49,729,71.2969,800,71.2969,800,143,696,143,696,49\" style=\"stroke: #000000; stroke-width: 1.5;\"/><line style=\"stroke: #000000; stroke-width: 1.5;\" x1=\"696\" x2=\"729\" y1=\"71.2969\" y2=\"71.2969\"/><text fill=\"#000000\" font-family=\"sans-serif\" font-size=\"14\" font-weight=\"bold\" lengthAdjust=\"spacingAndGlyphs\" textLength=\"20\" x=\"700\" y=\"63.9951\">P1</text></a><!--MD5=[f6df4d0ebaf0b5dfb2ced0ae5af7c670]\n",
       "cluster E4--><a href=\"psysml:9f128572-3fea-4fc4-b18b-c92f97cc0f0b\" target=\"_top\" title=\"psysml:9f128572-3fea-4fc4-b18b-c92f97cc0f0b\" xlink:actuate=\"onRequest\" xlink:href=\"psysml:9f128572-3fea-4fc4-b18b-c92f97cc0f0b\" xlink:show=\"new\" xlink:title=\"psysml:9f128572-3fea-4fc4-b18b-c92f97cc0f0b\" xlink:type=\"simple\"><polygon fill=\"#FFFFFF\" points=\"568,49,594,49,601,71.2969,672,71.2969,672,143,568,143,568,49\" style=\"stroke: #000000; stroke-width: 1.5;\"/><line style=\"stroke: #000000; stroke-width: 1.5;\" x1=\"568\" x2=\"601\" y1=\"71.2969\" y2=\"71.2969\"/><text fill=\"#000000\" font-family=\"sans-serif\" font-size=\"14\" font-weight=\"bold\" lengthAdjust=\"spacingAndGlyphs\" textLength=\"20\" x=\"572\" y=\"63.9951\">P2</text></a><!--MD5=[14e3b0961a2654348d326746436168a1]\n",
       "cluster E6--><a href=\"psysml:6c517ad3-81f8-4503-b234-41386708eb5e\" target=\"_top\" title=\"psysml:6c517ad3-81f8-4503-b234-41386708eb5e\" xlink:actuate=\"onRequest\" xlink:href=\"psysml:6c517ad3-81f8-4503-b234-41386708eb5e\" xlink:show=\"new\" xlink:title=\"psysml:6c517ad3-81f8-4503-b234-41386708eb5e\" xlink:type=\"simple\"><polygon fill=\"#FFFFFF\" points=\"377,50.5,428,50.5,435,72.7969,544,72.7969,544,141.5,377,141.5,377,50.5\" style=\"stroke: #000000; stroke-width: 1.5;\"/><line style=\"stroke: #000000; stroke-width: 1.5;\" x1=\"377\" x2=\"435\" y1=\"72.7969\" y2=\"72.7969\"/><text fill=\"#000000\" font-family=\"sans-serif\" font-size=\"14\" font-weight=\"bold\" lengthAdjust=\"spacingAndGlyphs\" textLength=\"45\" x=\"381\" y=\"65.4951\">Test1</text></a><!--MD5=[7f149f147074ac12df2cb0a7728a5fb0]\n",
       "cluster E9--><a href=\"psysml:81951965-8d4b-42c4-ba21-4255f6488007\" target=\"_top\" title=\"psysml:81951965-8d4b-42c4-ba21-4255f6488007\" xlink:actuate=\"onRequest\" xlink:href=\"psysml:81951965-8d4b-42c4-ba21-4255f6488007\" xlink:show=\"new\" xlink:title=\"psysml:81951965-8d4b-42c4-ba21-4255f6488007\" xlink:type=\"simple\"><polygon fill=\"#FFFFFF\" points=\"186,50.5,237,50.5,244,72.7969,353,72.7969,353,141.5,186,141.5,186,50.5\" style=\"stroke: #000000; stroke-width: 1.5;\"/><line style=\"stroke: #000000; stroke-width: 1.5;\" x1=\"186\" x2=\"244\" y1=\"72.7969\" y2=\"72.7969\"/><text fill=\"#000000\" font-family=\"sans-serif\" font-size=\"14\" font-weight=\"bold\" lengthAdjust=\"spacingAndGlyphs\" textLength=\"45\" x=\"190\" y=\"65.4951\">Test2</text></a><g id=\"E1.E2.E3\"><a href=\"psysml:4745677c-bede-4ab8-acdc-4365dad759bc\" target=\"_top\" title=\"psysml:4745677c-bede-4ab8-acdc-4365dad759bc\" xlink:actuate=\"onRequest\" xlink:href=\"psysml:4745677c-bede-4ab8-acdc-4365dad759bc\" xlink:show=\"new\" xlink:title=\"psysml:4745677c-bede-4ab8-acdc-4365dad759bc\" xlink:type=\"simple\"><rect fill=\"#FFFFFF\" height=\"42.9375\" id=\"E3\" style=\"stroke: #383838; stroke-width: 1.5;\" width=\"71\" x=\"712.5\" y=\"84\"/><rect fill=\"#F8F8F8\" height=\"37.9375\" style=\"stroke: #383838; stroke-width: 1.5;\" width=\"71\" x=\"712.5\" y=\"84\"/><text fill=\"#000000\" font-family=\"sans-serif\" font-size=\"12\" font-style=\"italic\" lengthAdjust=\"spacingAndGlyphs\" textLength=\"64\" x=\"716\" y=\"100.1387\">«part def»</text><text fill=\"#000000\" font-family=\"sans-serif\" font-size=\"12\" lengthAdjust=\"spacingAndGlyphs\" textLength=\"8\" x=\"744\" y=\"114.1074\">A</text></a></g><g id=\"E1.E4.E5\"><a href=\"psysml:a455b6ac-bbc4-40c1-9da4-354e9f8fdc46\" target=\"_top\" title=\"psysml:a455b6ac-bbc4-40c1-9da4-354e9f8fdc46\" xlink:actuate=\"onRequest\" xlink:href=\"psysml:a455b6ac-bbc4-40c1-9da4-354e9f8fdc46\" xlink:show=\"new\" xlink:title=\"psysml:a455b6ac-bbc4-40c1-9da4-354e9f8fdc46\" xlink:type=\"simple\"><rect fill=\"#FFFFFF\" height=\"42.9375\" id=\"E5\" style=\"stroke: #383838; stroke-width: 1.5;\" width=\"71\" x=\"584.5\" y=\"84\"/><rect fill=\"#F8F8F8\" height=\"37.9375\" style=\"stroke: #383838; stroke-width: 1.5;\" width=\"71\" x=\"584.5\" y=\"84\"/><text fill=\"#000000\" font-family=\"sans-serif\" font-size=\"12\" font-style=\"italic\" lengthAdjust=\"spacingAndGlyphs\" textLength=\"64\" x=\"588\" y=\"100.1387\">«part def»</text><text fill=\"#000000\" font-family=\"sans-serif\" font-size=\"12\" lengthAdjust=\"spacingAndGlyphs\" textLength=\"8\" x=\"616\" y=\"114.1074\">B</text></a></g><g id=\"E1.E6.E7\"><a href=\"psysml:6b7db59d-d003-4043-9508-3fd9ac781eff\" target=\"_top\" title=\"psysml:6b7db59d-d003-4043-9508-3fd9ac781eff\" xlink:actuate=\"onRequest\" xlink:href=\"psysml:6b7db59d-d003-4043-9508-3fd9ac781eff\" xlink:show=\"new\" xlink:title=\"psysml:6b7db59d-d003-4043-9508-3fd9ac781eff\" xlink:type=\"simple\"><rect fill=\"#FFFFFF\" height=\"40\" id=\"E7\" rx=\"10\" ry=\"10\" style=\"stroke: #383838; stroke-width: 1.5;\" width=\"50\" x=\"478\" y=\"85.5\"/><rect fill=\"#F8F8F8\" height=\"23.9688\" rx=\"10\" ry=\"10\" style=\"stroke: #F8F8F8; stroke-width: 1.5;\" width=\"50\" x=\"478\" y=\"85.5\"/><rect fill=\"#F8F8F8\" height=\"10\" style=\"stroke: #F8F8F8; stroke-width: 1.5;\" width=\"50\" x=\"478\" y=\"99.4688\"/><rect fill=\"none\" height=\"40\" id=\"E7\" rx=\"10\" ry=\"10\" style=\"stroke: #383838; stroke-width: 1.5;\" width=\"50\" x=\"478\" y=\"85.5\"/><text fill=\"#000000\" font-family=\"sans-serif\" font-size=\"12\" lengthAdjust=\"spacingAndGlyphs\" textLength=\"22\" x=\"492\" y=\"101.6387\">x: A</text></a></g><g id=\"E1.E6.E8\"><a href=\"psysml:6c414e1f-4fb5-42fd-83aa-c158d2fbc464\" target=\"_top\" title=\"psysml:6c414e1f-4fb5-42fd-83aa-c158d2fbc464\" xlink:actuate=\"onRequest\" xlink:href=\"psysml:6c414e1f-4fb5-42fd-83aa-c158d2fbc464\" xlink:show=\"new\" xlink:title=\"psysml:6c414e1f-4fb5-42fd-83aa-c158d2fbc464\" xlink:type=\"simple\"><rect fill=\"#FFFFFF\" height=\"40\" id=\"E8\" rx=\"10\" ry=\"10\" style=\"stroke: #383838; stroke-width: 1.5;\" width=\"50\" x=\"393\" y=\"85.5\"/><rect fill=\"#F8F8F8\" height=\"23.9688\" rx=\"10\" ry=\"10\" style=\"stroke: #F8F8F8; stroke-width: 1.5;\" width=\"50\" x=\"393\" y=\"85.5\"/><rect fill=\"#F8F8F8\" height=\"10\" style=\"stroke: #F8F8F8; stroke-width: 1.5;\" width=\"50\" x=\"393\" y=\"99.4688\"/><rect fill=\"none\" height=\"40\" id=\"E8\" rx=\"10\" ry=\"10\" style=\"stroke: #383838; stroke-width: 1.5;\" width=\"50\" x=\"393\" y=\"85.5\"/><text fill=\"#000000\" font-family=\"sans-serif\" font-size=\"12\" lengthAdjust=\"spacingAndGlyphs\" textLength=\"22\" x=\"407\" y=\"101.6387\">y: B</text></a></g><g id=\"E1.E9.E10\"><a href=\"psysml:797261aa-a958-4475-9de3-b139176b10fb\" target=\"_top\" title=\"psysml:797261aa-a958-4475-9de3-b139176b10fb\" xlink:actuate=\"onRequest\" xlink:href=\"psysml:797261aa-a958-4475-9de3-b139176b10fb\" xlink:show=\"new\" xlink:title=\"psysml:797261aa-a958-4475-9de3-b139176b10fb\" xlink:type=\"simple\"><rect fill=\"#FFFFFF\" height=\"40\" id=\"E10\" rx=\"10\" ry=\"10\" style=\"stroke: #383838; stroke-width: 1.5;\" width=\"50\" x=\"287\" y=\"85.5\"/><rect fill=\"#F8F8F8\" height=\"23.9688\" rx=\"10\" ry=\"10\" style=\"stroke: #F8F8F8; stroke-width: 1.5;\" width=\"50\" x=\"287\" y=\"85.5\"/><rect fill=\"#F8F8F8\" height=\"10\" style=\"stroke: #F8F8F8; stroke-width: 1.5;\" width=\"50\" x=\"287\" y=\"99.4688\"/><rect fill=\"none\" height=\"40\" id=\"E10\" rx=\"10\" ry=\"10\" style=\"stroke: #383838; stroke-width: 1.5;\" width=\"50\" x=\"287\" y=\"85.5\"/><text fill=\"#000000\" font-family=\"sans-serif\" font-size=\"12\" lengthAdjust=\"spacingAndGlyphs\" textLength=\"22\" x=\"301\" y=\"101.6387\">x: A</text></a></g><g id=\"E1.E9.E11\"><a href=\"psysml:3825b43b-bb71-4033-970e-c8c9e00cfd14\" target=\"_top\" title=\"psysml:3825b43b-bb71-4033-970e-c8c9e00cfd14\" xlink:actuate=\"onRequest\" xlink:href=\"psysml:3825b43b-bb71-4033-970e-c8c9e00cfd14\" xlink:show=\"new\" xlink:title=\"psysml:3825b43b-bb71-4033-970e-c8c9e00cfd14\" xlink:type=\"simple\"><rect fill=\"#FFFFFF\" height=\"40\" id=\"E11\" rx=\"10\" ry=\"10\" style=\"stroke: #383838; stroke-width: 1.5;\" width=\"50\" x=\"202\" y=\"85.5\"/><rect fill=\"#F8F8F8\" height=\"23.9688\" rx=\"10\" ry=\"10\" style=\"stroke: #F8F8F8; stroke-width: 1.5;\" width=\"50\" x=\"202\" y=\"85.5\"/><rect fill=\"#F8F8F8\" height=\"10\" style=\"stroke: #F8F8F8; stroke-width: 1.5;\" width=\"50\" x=\"202\" y=\"99.4688\"/><rect fill=\"none\" height=\"40\" id=\"E11\" rx=\"10\" ry=\"10\" style=\"stroke: #383838; stroke-width: 1.5;\" width=\"50\" x=\"202\" y=\"85.5\"/><text fill=\"#000000\" font-family=\"sans-serif\" font-size=\"12\" lengthAdjust=\"spacingAndGlyphs\" textLength=\"22\" x=\"216\" y=\"101.6387\">y: B</text></a></g><g id=\"E1.E12\"><a href=\"psysml:e16c4bbb-61f3-4b61-a2b5-b03e29e494af\" target=\"_top\" title=\"psysml:e16c4bbb-61f3-4b61-a2b5-b03e29e494af\" xlink:actuate=\"onRequest\" xlink:href=\"psysml:e16c4bbb-61f3-4b61-a2b5-b03e29e494af\" xlink:show=\"new\" xlink:title=\"psysml:e16c4bbb-61f3-4b61-a2b5-b03e29e494af\" xlink:type=\"simple\"><rect fill=\"#FFFFFF\" height=\"40\" id=\"E12\" rx=\"10\" ry=\"10\" style=\"stroke: #383838; stroke-width: 1.5;\" width=\"50\" x=\"117\" y=\"85.5\"/><rect fill=\"#F8F8F8\" height=\"23.9688\" rx=\"10\" ry=\"10\" style=\"stroke: #F8F8F8; stroke-width: 1.5;\" width=\"50\" x=\"117\" y=\"85.5\"/><rect fill=\"#F8F8F8\" height=\"10\" style=\"stroke: #F8F8F8; stroke-width: 1.5;\" width=\"50\" x=\"117\" y=\"99.4688\"/><rect fill=\"none\" height=\"40\" id=\"E12\" rx=\"10\" ry=\"10\" style=\"stroke: #383838; stroke-width: 1.5;\" width=\"50\" x=\"117\" y=\"85.5\"/><text fill=\"#000000\" font-family=\"sans-serif\" font-size=\"12\" lengthAdjust=\"spacingAndGlyphs\" textLength=\"22\" x=\"131\" y=\"101.6387\">x: A</text></a></g><g id=\"E1.E13\"><a href=\"psysml:6a814915-eeda-4c4d-8e98-a86878ae1f3d\" target=\"_top\" title=\"psysml:6a814915-eeda-4c4d-8e98-a86878ae1f3d\" xlink:actuate=\"onRequest\" xlink:href=\"psysml:6a814915-eeda-4c4d-8e98-a86878ae1f3d\" xlink:show=\"new\" xlink:title=\"psysml:6a814915-eeda-4c4d-8e98-a86878ae1f3d\" xlink:type=\"simple\"><rect fill=\"#FFFFFF\" height=\"40\" id=\"E13\" rx=\"10\" ry=\"10\" style=\"stroke: #383838; stroke-width: 1.5;\" width=\"50\" x=\"32\" y=\"85.5\"/><rect fill=\"#F8F8F8\" height=\"23.9688\" rx=\"10\" ry=\"10\" style=\"stroke: #F8F8F8; stroke-width: 1.5;\" width=\"50\" x=\"32\" y=\"85.5\"/><rect fill=\"#F8F8F8\" height=\"10\" style=\"stroke: #F8F8F8; stroke-width: 1.5;\" width=\"50\" x=\"32\" y=\"99.4688\"/><rect fill=\"none\" height=\"40\" id=\"E13\" rx=\"10\" ry=\"10\" style=\"stroke: #383838; stroke-width: 1.5;\" width=\"50\" x=\"32\" y=\"85.5\"/><text fill=\"#000000\" font-family=\"sans-serif\" font-size=\"12\" lengthAdjust=\"spacingAndGlyphs\" textLength=\"22\" x=\"46\" y=\"101.6387\">y: B</text></a></g><!--MD5=[e95d57b927be5bf308c744e79008f540]\n",
       "@startuml\r\n",
       "skinparam ranksep 8\r\n",
       "skinparam rectangle {\r\n",
       " backgroundColor<<block>> LightGreen\r\n",
       "}\r\n",
       "skinparam linetype polyline\r\n",
       "skinparam monochrome true\r\n",
       "skinparam classbackgroundcolor white\r\n",
       "skinparam shadowing false\r\n",
       "skinparam wrapWidth 300\r\n",
       "hide circle\r\n",
       "\r\n",
       "package \"CircularImport\" as E1  [[psysml:6a62b0bb-ce07-42d9-b06f-c19bd22a93a2 ]]  {\r\n",
       "package \"P1\" as E2  [[psysml:e5793e48-aebf-4c77-9b1c-634d316c370a ]]  {\r\n",
       "rec def \"A\" as E3  <<(T,blue)part def>> [[psysml:4745677c-bede-4ab8-acdc-4365dad759bc ]] {\r\n",
       "}\r\n",
       "}\r\n",
       "package \"P2\" as E4  [[psysml:9f128572-3fea-4fc4-b18b-c92f97cc0f0b ]]  {\r\n",
       "rec def \"B\" as E5  <<(T,blue)part def>> [[psysml:a455b6ac-bbc4-40c1-9da4-354e9f8fdc46 ]] {\r\n",
       "}\r\n",
       "}\r\n",
       "package \"Test1\" as E6  [[psysml:6c517ad3-81f8-4503-b234-41386708eb5e ]]  {\r\n",
       "rec usage \"x: A\" as E7  [[psysml:6b7db59d-d003-4043-9508-3fd9ac781eff ]] {\r\n",
       "}\r\n",
       "rec usage \"y: B\" as E8  [[psysml:6c414e1f-4fb5-42fd-83aa-c158d2fbc464 ]] {\r\n",
       "}\r\n",
       "}\r\n",
       "package \"Test2\" as E9  [[psysml:81951965-8d4b-42c4-ba21-4255f6488007 ]]  {\r\n",
       "rec usage \"x: A\" as E10  [[psysml:797261aa-a958-4475-9de3-b139176b10fb ]] {\r\n",
       "}\r\n",
       "rec usage \"y: B\" as E11  [[psysml:3825b43b-bb71-4033-970e-c8c9e00cfd14 ]] {\r\n",
       "}\r\n",
       "}\r\n",
       "rec usage \"x: A\" as E12  [[psysml:e16c4bbb-61f3-4b61-a2b5-b03e29e494af ]] {\r\n",
       "}\r\n",
       "rec usage \"y: B\" as E13  [[psysml:6a814915-eeda-4c4d-8e98-a86878ae1f3d ]] {\r\n",
       "}\r\n",
       "}\r\n",
       "@enduml\r\n",
       "\n",
       "PlantUML version 1.2020.13(Sat Jun 13 12:26:38 UTC 2020)\n",
       "(EPL source distribution)\n",
       "Java Runtime: OpenJDK Runtime Environment\n",
       "JVM: OpenJDK 64-Bit Server VM\n",
       "Default Encoding: UTF-8\n",
       "Language: en\n",
       "Country: null\n",
       "--></g></svg>"
      ]
     },
     "execution_count": 12,
     "metadata": {},
     "output_type": "execute_result"
    }
   ],
   "source": [
    "%viz --style=\"POLYLINE\" --view=\"Interconnection\" \"CircularImport\""
   ]
  },
  {
   "cell_type": "code",
   "execution_count": 13,
   "id": "ethical-romania",
   "metadata": {
    "execution": {
     "iopub.execute_input": "2021-03-25T13:13:16.879753Z",
     "iopub.status.busy": "2021-03-25T13:13:16.877978Z",
     "iopub.status.idle": "2021-03-25T13:13:16.887754Z",
     "shell.execute_reply": "2021-03-25T13:13:16.888212Z"
    }
   },
   "outputs": [
    {
     "data": {
      "image/svg+xml": [
       "<?xml version=\"1.0\" encoding=\"UTF-8\" standalone=\"no\"?><svg xmlns=\"http://www.w3.org/2000/svg\" xmlns:xlink=\"http://www.w3.org/1999/xlink\" contentScriptType=\"application/ecmascript\" contentStyleType=\"text/css\" height=\"12px\" preserveAspectRatio=\"none\" style=\"width:12px;height:12px;\" version=\"1.1\" viewBox=\"0 0 12 12\" width=\"12px\" zoomAndPan=\"magnify\"><defs/><g><!--MD5=[97bbf32f66ccd50cbc40d92ea8f5a65e]\n",
       "@startuml\r\n",
       "skinparam ranksep 8\r\n",
       "skinparam linetype polyline\r\n",
       "skinparam monochrome true\r\n",
       "skinparam classbackgroundcolor white\r\n",
       "skinparam shadowing false\r\n",
       "skinparam wrapWidth 300\r\n",
       "hide circle\r\n",
       "\r\n",
       "@enduml\r\n",
       "\n",
       "PlantUML version 1.2020.13(Sat Jun 13 12:26:38 UTC 2020)\n",
       "(EPL source distribution)\n",
       "Java Runtime: OpenJDK Runtime Environment\n",
       "JVM: OpenJDK 64-Bit Server VM\n",
       "Default Encoding: UTF-8\n",
       "Language: en\n",
       "Country: null\n",
       "--></g></svg>"
      ]
     },
     "execution_count": 13,
     "metadata": {},
     "output_type": "execute_result"
    }
   ],
   "source": [
    "%viz --style=\"POLYLINE\" --view=\"Action\" \"CircularImport\""
   ]
  },
  {
   "cell_type": "code",
   "execution_count": 14,
   "id": "fundamental-percentage",
   "metadata": {
    "execution": {
     "iopub.execute_input": "2021-03-25T13:13:16.938941Z",
     "iopub.status.busy": "2021-03-25T13:13:16.938439Z",
     "iopub.status.idle": "2021-03-25T13:13:17.080743Z",
     "shell.execute_reply": "2021-03-25T13:13:17.081426Z"
    }
   },
   "outputs": [
    {
     "data": {
      "image/svg+xml": [
       "<?xml version=\"1.0\" encoding=\"UTF-8\" standalone=\"no\"?><svg xmlns=\"http://www.w3.org/2000/svg\" xmlns:xlink=\"http://www.w3.org/1999/xlink\" contentScriptType=\"application/ecmascript\" contentStyleType=\"text/css\" height=\"303px\" preserveAspectRatio=\"none\" style=\"width:518px;height:303px;\" version=\"1.1\" viewBox=\"0 0 518 303\" width=\"518px\" zoomAndPan=\"magnify\"><defs/><g><!--MD5=[fbc87193dbaf4d95561dea2c320d4a47]\n",
       "cluster E1--><a href=\"psysml:6a62b0bb-ce07-42d9-b06f-c19bd22a93a2\" target=\"_top\" title=\"psysml:6a62b0bb-ce07-42d9-b06f-c19bd22a93a2\" xlink:actuate=\"onRequest\" xlink:href=\"psysml:6a62b0bb-ce07-42d9-b06f-c19bd22a93a2\" xlink:show=\"new\" xlink:title=\"psysml:6a62b0bb-ce07-42d9-b06f-c19bd22a93a2\" xlink:type=\"simple\"><polygon fill=\"#FFFFFF\" points=\"16,6,134,6,141,28.2969,496,28.2969,496,291,16,291,16,6\" style=\"stroke: #000000; stroke-width: 1.5;\"/><line style=\"stroke: #000000; stroke-width: 1.5;\" x1=\"16\" x2=\"141\" y1=\"28.2969\" y2=\"28.2969\"/><text fill=\"#000000\" font-family=\"sans-serif\" font-size=\"14\" font-weight=\"bold\" lengthAdjust=\"spacingAndGlyphs\" textLength=\"112\" x=\"20\" y=\"20.9951\">CircularImport</text></a><!--MD5=[e4f7fae6ed58524ba242bb0b0d3be6b7]\n",
       "cluster E2--><a href=\"psysml:e5793e48-aebf-4c77-9b1c-634d316c370a\" target=\"_top\" title=\"psysml:e5793e48-aebf-4c77-9b1c-634d316c370a\" xlink:actuate=\"onRequest\" xlink:href=\"psysml:e5793e48-aebf-4c77-9b1c-634d316c370a\" xlink:show=\"new\" xlink:title=\"psysml:e5793e48-aebf-4c77-9b1c-634d316c370a\" xlink:type=\"simple\"><polygon fill=\"#FFFFFF\" points=\"333,170,359,170,366,192.2969,431,192.2969,431,267,333,267,333,170\" style=\"stroke: #000000; stroke-width: 1.5;\"/><line style=\"stroke: #000000; stroke-width: 1.5;\" x1=\"333\" x2=\"366\" y1=\"192.2969\" y2=\"192.2969\"/><text fill=\"#000000\" font-family=\"sans-serif\" font-size=\"14\" font-weight=\"bold\" lengthAdjust=\"spacingAndGlyphs\" textLength=\"20\" x=\"337\" y=\"184.9951\">P1</text></a><!--MD5=[f6df4d0ebaf0b5dfb2ced0ae5af7c670]\n",
       "cluster E4--><a href=\"psysml:9f128572-3fea-4fc4-b18b-c92f97cc0f0b\" target=\"_top\" title=\"psysml:9f128572-3fea-4fc4-b18b-c92f97cc0f0b\" xlink:actuate=\"onRequest\" xlink:href=\"psysml:9f128572-3fea-4fc4-b18b-c92f97cc0f0b\" xlink:show=\"new\" xlink:title=\"psysml:9f128572-3fea-4fc4-b18b-c92f97cc0f0b\" xlink:type=\"simple\"><polygon fill=\"#FFFFFF\" points=\"81,170,107,170,114,192.2969,179,192.2969,179,267,81,267,81,170\" style=\"stroke: #000000; stroke-width: 1.5;\"/><line style=\"stroke: #000000; stroke-width: 1.5;\" x1=\"81\" x2=\"114\" y1=\"192.2969\" y2=\"192.2969\"/><text fill=\"#000000\" font-family=\"sans-serif\" font-size=\"14\" font-weight=\"bold\" lengthAdjust=\"spacingAndGlyphs\" textLength=\"20\" x=\"85\" y=\"184.9951\">P2</text></a><!--MD5=[14e3b0961a2654348d326746436168a1]\n",
       "cluster E6--><a href=\"psysml:6c517ad3-81f8-4503-b234-41386708eb5e\" target=\"_top\" title=\"psysml:6c517ad3-81f8-4503-b234-41386708eb5e\" xlink:actuate=\"onRequest\" xlink:href=\"psysml:6c517ad3-81f8-4503-b234-41386708eb5e\" xlink:show=\"new\" xlink:title=\"psysml:6c517ad3-81f8-4503-b234-41386708eb5e\" xlink:type=\"simple\"><polygon fill=\"#FFFFFF\" points=\"268,49,319,49,326,71.2969,419,71.2969,419,146,268,146,268,49\" style=\"stroke: #000000; stroke-width: 1.5;\"/><line style=\"stroke: #000000; stroke-width: 1.5;\" x1=\"268\" x2=\"326\" y1=\"71.2969\" y2=\"71.2969\"/><text fill=\"#000000\" font-family=\"sans-serif\" font-size=\"14\" font-weight=\"bold\" lengthAdjust=\"spacingAndGlyphs\" textLength=\"45\" x=\"272\" y=\"63.9951\">Test1</text></a><!--MD5=[7f149f147074ac12df2cb0a7728a5fb0]\n",
       "cluster E9--><a href=\"psysml:81951965-8d4b-42c4-ba21-4255f6488007\" target=\"_top\" title=\"psysml:81951965-8d4b-42c4-ba21-4255f6488007\" xlink:actuate=\"onRequest\" xlink:href=\"psysml:81951965-8d4b-42c4-ba21-4255f6488007\" xlink:show=\"new\" xlink:title=\"psysml:81951965-8d4b-42c4-ba21-4255f6488007\" xlink:type=\"simple\"><polygon fill=\"#FFFFFF\" points=\"93,49,144,49,151,71.2969,244,71.2969,244,146,93,146,93,49\" style=\"stroke: #000000; stroke-width: 1.5;\"/><line style=\"stroke: #000000; stroke-width: 1.5;\" x1=\"93\" x2=\"151\" y1=\"71.2969\" y2=\"71.2969\"/><text fill=\"#000000\" font-family=\"sans-serif\" font-size=\"14\" font-weight=\"bold\" lengthAdjust=\"spacingAndGlyphs\" textLength=\"45\" x=\"97\" y=\"63.9951\">Test2</text></a><!--MD5=[49a0ec8f00dab7302a31f22d0f0fe584]\n",
       "class E12--><a href=\"psysml:e16c4bbb-61f3-4b61-a2b5-b03e29e494af\" target=\"_top\" title=\"psysml:e16c4bbb-61f3-4b61-a2b5-b03e29e494af\" xlink:actuate=\"onRequest\" xlink:href=\"psysml:e16c4bbb-61f3-4b61-a2b5-b03e29e494af\" xlink:show=\"new\" xlink:title=\"psysml:e16c4bbb-61f3-4b61-a2b5-b03e29e494af\" xlink:type=\"simple\"><rect fill=\"#FFFFFF\" height=\"45.9375\" id=\"E12\" rx=\"10\" ry=\"10\" style=\"stroke: #383838; stroke-width: 1.5;\" width=\"42\" x=\"438\" y=\"84\"/><text fill=\"#000000\" font-family=\"sans-serif\" font-size=\"12\" font-style=\"italic\" lengthAdjust=\"spacingAndGlyphs\" textLength=\"40\" x=\"439\" y=\"100.1387\">«part»</text><text fill=\"#000000\" font-family=\"sans-serif\" font-size=\"12\" lengthAdjust=\"spacingAndGlyphs\" textLength=\"22\" x=\"448\" y=\"114.1074\">x: A</text><line style=\"stroke: #383838; stroke-width: 1.5;\" x1=\"439\" x2=\"479\" y1=\"121.9375\" y2=\"121.9375\"/></a><!--MD5=[ee3c913d1a06f366521f9ef512b67efe]\n",
       "class E13--><a href=\"psysml:6a814915-eeda-4c4d-8e98-a86878ae1f3d\" target=\"_top\" title=\"psysml:6a814915-eeda-4c4d-8e98-a86878ae1f3d\" xlink:actuate=\"onRequest\" xlink:href=\"psysml:6a814915-eeda-4c4d-8e98-a86878ae1f3d\" xlink:show=\"new\" xlink:title=\"psysml:6a814915-eeda-4c4d-8e98-a86878ae1f3d\" xlink:type=\"simple\"><rect fill=\"#FFFFFF\" height=\"45.9375\" id=\"E13\" rx=\"10\" ry=\"10\" style=\"stroke: #383838; stroke-width: 1.5;\" width=\"42\" x=\"32\" y=\"84\"/><text fill=\"#000000\" font-family=\"sans-serif\" font-size=\"12\" font-style=\"italic\" lengthAdjust=\"spacingAndGlyphs\" textLength=\"40\" x=\"33\" y=\"100.1387\">«part»</text><text fill=\"#000000\" font-family=\"sans-serif\" font-size=\"12\" lengthAdjust=\"spacingAndGlyphs\" textLength=\"22\" x=\"42\" y=\"114.1074\">y: B</text><line style=\"stroke: #383838; stroke-width: 1.5;\" x1=\"33\" x2=\"73\" y1=\"121.9375\" y2=\"121.9375\"/></a><!--MD5=[09b614a08d8cba4a07c9adeb5e0fee81]\n",
       "class E3--><a href=\"psysml:4745677c-bede-4ab8-acdc-4365dad759bc\" target=\"_top\" title=\"psysml:4745677c-bede-4ab8-acdc-4365dad759bc\" xlink:actuate=\"onRequest\" xlink:href=\"psysml:4745677c-bede-4ab8-acdc-4365dad759bc\" xlink:show=\"new\" xlink:title=\"psysml:4745677c-bede-4ab8-acdc-4365dad759bc\" xlink:type=\"simple\"><rect fill=\"#FFFFFF\" height=\"45.9375\" id=\"E3\" style=\"stroke: #383838; stroke-width: 1.5;\" width=\"66\" x=\"349\" y=\"205\"/><text fill=\"#000000\" font-family=\"sans-serif\" font-size=\"12\" font-style=\"italic\" lengthAdjust=\"spacingAndGlyphs\" textLength=\"64\" x=\"350\" y=\"221.1387\">«part def»</text><text fill=\"#000000\" font-family=\"sans-serif\" font-size=\"12\" lengthAdjust=\"spacingAndGlyphs\" textLength=\"8\" x=\"378\" y=\"235.1074\">A</text><line style=\"stroke: #383838; stroke-width: 1.5;\" x1=\"350\" x2=\"414\" y1=\"242.9375\" y2=\"242.9375\"/></a><!--MD5=[270fce915f116d4de14055a7c1d9a0f3]\n",
       "class E5--><a href=\"psysml:a455b6ac-bbc4-40c1-9da4-354e9f8fdc46\" target=\"_top\" title=\"psysml:a455b6ac-bbc4-40c1-9da4-354e9f8fdc46\" xlink:actuate=\"onRequest\" xlink:href=\"psysml:a455b6ac-bbc4-40c1-9da4-354e9f8fdc46\" xlink:show=\"new\" xlink:title=\"psysml:a455b6ac-bbc4-40c1-9da4-354e9f8fdc46\" xlink:type=\"simple\"><rect fill=\"#FFFFFF\" height=\"45.9375\" id=\"E5\" style=\"stroke: #383838; stroke-width: 1.5;\" width=\"66\" x=\"97\" y=\"205\"/><text fill=\"#000000\" font-family=\"sans-serif\" font-size=\"12\" font-style=\"italic\" lengthAdjust=\"spacingAndGlyphs\" textLength=\"64\" x=\"98\" y=\"221.1387\">«part def»</text><text fill=\"#000000\" font-family=\"sans-serif\" font-size=\"12\" lengthAdjust=\"spacingAndGlyphs\" textLength=\"8\" x=\"126\" y=\"235.1074\">B</text><line style=\"stroke: #383838; stroke-width: 1.5;\" x1=\"98\" x2=\"162\" y1=\"242.9375\" y2=\"242.9375\"/></a><!--MD5=[2156ba9850f5573cc1fc38a6a4b2f02b]\n",
       "class E7--><a href=\"psysml:6b7db59d-d003-4043-9508-3fd9ac781eff\" target=\"_top\" title=\"psysml:6b7db59d-d003-4043-9508-3fd9ac781eff\" xlink:actuate=\"onRequest\" xlink:href=\"psysml:6b7db59d-d003-4043-9508-3fd9ac781eff\" xlink:show=\"new\" xlink:title=\"psysml:6b7db59d-d003-4043-9508-3fd9ac781eff\" xlink:type=\"simple\"><rect fill=\"#FFFFFF\" height=\"45.9375\" id=\"E7\" rx=\"10\" ry=\"10\" style=\"stroke: #383838; stroke-width: 1.5;\" width=\"42\" x=\"361\" y=\"84\"/><text fill=\"#000000\" font-family=\"sans-serif\" font-size=\"12\" font-style=\"italic\" lengthAdjust=\"spacingAndGlyphs\" textLength=\"40\" x=\"362\" y=\"100.1387\">«part»</text><text fill=\"#000000\" font-family=\"sans-serif\" font-size=\"12\" lengthAdjust=\"spacingAndGlyphs\" textLength=\"22\" x=\"371\" y=\"114.1074\">x: A</text><line style=\"stroke: #383838; stroke-width: 1.5;\" x1=\"362\" x2=\"402\" y1=\"121.9375\" y2=\"121.9375\"/></a><!--MD5=[b9389687b975829384b498ac4b7476b2]\n",
       "class E8--><a href=\"psysml:6c414e1f-4fb5-42fd-83aa-c158d2fbc464\" target=\"_top\" title=\"psysml:6c414e1f-4fb5-42fd-83aa-c158d2fbc464\" xlink:actuate=\"onRequest\" xlink:href=\"psysml:6c414e1f-4fb5-42fd-83aa-c158d2fbc464\" xlink:show=\"new\" xlink:title=\"psysml:6c414e1f-4fb5-42fd-83aa-c158d2fbc464\" xlink:type=\"simple\"><rect fill=\"#FFFFFF\" height=\"45.9375\" id=\"E8\" rx=\"10\" ry=\"10\" style=\"stroke: #383838; stroke-width: 1.5;\" width=\"42\" x=\"284\" y=\"84\"/><text fill=\"#000000\" font-family=\"sans-serif\" font-size=\"12\" font-style=\"italic\" lengthAdjust=\"spacingAndGlyphs\" textLength=\"40\" x=\"285\" y=\"100.1387\">«part»</text><text fill=\"#000000\" font-family=\"sans-serif\" font-size=\"12\" lengthAdjust=\"spacingAndGlyphs\" textLength=\"22\" x=\"294\" y=\"114.1074\">y: B</text><line style=\"stroke: #383838; stroke-width: 1.5;\" x1=\"285\" x2=\"325\" y1=\"121.9375\" y2=\"121.9375\"/></a><!--MD5=[96f4274e9e20536e775497830990834d]\n",
       "class E10--><a href=\"psysml:797261aa-a958-4475-9de3-b139176b10fb\" target=\"_top\" title=\"psysml:797261aa-a958-4475-9de3-b139176b10fb\" xlink:actuate=\"onRequest\" xlink:href=\"psysml:797261aa-a958-4475-9de3-b139176b10fb\" xlink:show=\"new\" xlink:title=\"psysml:797261aa-a958-4475-9de3-b139176b10fb\" xlink:type=\"simple\"><rect fill=\"#FFFFFF\" height=\"45.9375\" id=\"E10\" rx=\"10\" ry=\"10\" style=\"stroke: #383838; stroke-width: 1.5;\" width=\"42\" x=\"186\" y=\"84\"/><text fill=\"#000000\" font-family=\"sans-serif\" font-size=\"12\" font-style=\"italic\" lengthAdjust=\"spacingAndGlyphs\" textLength=\"40\" x=\"187\" y=\"100.1387\">«part»</text><text fill=\"#000000\" font-family=\"sans-serif\" font-size=\"12\" lengthAdjust=\"spacingAndGlyphs\" textLength=\"22\" x=\"196\" y=\"114.1074\">x: A</text><line style=\"stroke: #383838; stroke-width: 1.5;\" x1=\"187\" x2=\"227\" y1=\"121.9375\" y2=\"121.9375\"/></a><!--MD5=[1dd1bfd58a279cf63c5f349dbc8fc6a1]\n",
       "class E11--><a href=\"psysml:3825b43b-bb71-4033-970e-c8c9e00cfd14\" target=\"_top\" title=\"psysml:3825b43b-bb71-4033-970e-c8c9e00cfd14\" xlink:actuate=\"onRequest\" xlink:href=\"psysml:3825b43b-bb71-4033-970e-c8c9e00cfd14\" xlink:show=\"new\" xlink:title=\"psysml:3825b43b-bb71-4033-970e-c8c9e00cfd14\" xlink:type=\"simple\"><rect fill=\"#FFFFFF\" height=\"45.9375\" id=\"E11\" rx=\"10\" ry=\"10\" style=\"stroke: #383838; stroke-width: 1.5;\" width=\"42\" x=\"109\" y=\"84\"/><text fill=\"#000000\" font-family=\"sans-serif\" font-size=\"12\" font-style=\"italic\" lengthAdjust=\"spacingAndGlyphs\" textLength=\"40\" x=\"110\" y=\"100.1387\">«part»</text><text fill=\"#000000\" font-family=\"sans-serif\" font-size=\"12\" lengthAdjust=\"spacingAndGlyphs\" textLength=\"22\" x=\"119\" y=\"114.1074\">y: B</text><line style=\"stroke: #383838; stroke-width: 1.5;\" x1=\"110\" x2=\"150\" y1=\"121.9375\" y2=\"121.9375\"/></a><!--MD5=[14ccda38c055a5c0da953d572bc50960]\n",
       "link E7 to E3--><a href=\"psysml:85e1ff22-6346-4a23-846d-dc1a236203c0\" target=\"_top\" title=\"psysml:85e1ff22-6346-4a23-846d-dc1a236203c0\" xlink:actuate=\"onRequest\" xlink:href=\"psysml:85e1ff22-6346-4a23-846d-dc1a236203c0\" xlink:show=\"new\" xlink:title=\"psysml:85e1ff22-6346-4a23-846d-dc1a236203c0\" xlink:type=\"simple\"><path d=\"M382,130.1 C382,145.37 382,166.16 382,184.57 \" fill=\"none\" id=\"E7-&gt;E3\" style=\"stroke: #383838; stroke-width: 1.0;\"/><polygon fill=\"#FFFFFF\" points=\"382,204.61,375,185.61,389,185.61,382,204.61\" style=\"stroke: #383838; stroke-width: 1.0;\"/><ellipse cx=\"377\" cy=\"179.91\" fill=\"#383838\" rx=\"2\" ry=\"2\" style=\"stroke: #383838; stroke-width: 1.0;\"/><ellipse cx=\"387\" cy=\"179.91\" fill=\"#383838\" rx=\"2\" ry=\"2\" style=\"stroke: #383838; stroke-width: 1.0;\"/></a><!--MD5=[1ccb2481ffa92f8d51a74ee30c51832a]\n",
       "link E8 to E5--><a href=\"psysml:483adec0-2d55-41ba-876c-1b8fe7d429ab\" target=\"_top\" title=\"psysml:483adec0-2d55-41ba-876c-1b8fe7d429ab\" xlink:actuate=\"onRequest\" xlink:href=\"psysml:483adec0-2d55-41ba-876c-1b8fe7d429ab\" xlink:show=\"new\" xlink:title=\"psysml:483adec0-2d55-41ba-876c-1b8fe7d429ab\" xlink:type=\"simple\"><path d=\"M283.67,124.09 C266.07,137.35 244,154 244,154 C244,154 210.8,175.26 180.23,194.83 \" fill=\"none\" id=\"E8-&gt;E5\" style=\"stroke: #383838; stroke-width: 1.0;\"/><polygon fill=\"#FFFFFF\" points=\"163.28,205.69,175.5055,189.5488,183.0554,201.3386,163.28,205.69\" style=\"stroke: #383838; stroke-width: 1.0;\"/><ellipse cx=\"181.3842\" cy=\"188.1592\" fill=\"#383838\" rx=\"2\" ry=\"2\" style=\"stroke: #383838; stroke-width: 1.0;\"/><ellipse cx=\"186.777\" cy=\"196.5805\" fill=\"#383838\" rx=\"2\" ry=\"2\" style=\"stroke: #383838; stroke-width: 1.0;\"/></a><!--MD5=[feeac5eb423634930294aa81f2d25a4c]\n",
       "link E10 to E3--><a href=\"psysml:0e238847-8a3c-4f4a-a4c7-c4eca45a31b2\" target=\"_top\" title=\"psysml:0e238847-8a3c-4f4a-a4c7-c4eca45a31b2\" xlink:actuate=\"onRequest\" xlink:href=\"psysml:0e238847-8a3c-4f4a-a4c7-c4eca45a31b2\" xlink:show=\"new\" xlink:title=\"psysml:0e238847-8a3c-4f4a-a4c7-c4eca45a31b2\" xlink:type=\"simple\"><path d=\"M228.33,124.09 C245.93,137.35 268,154 268,154 C268,154 301.2,175.26 331.77,194.83 \" fill=\"none\" id=\"E10-&gt;E3\" style=\"stroke: #383838; stroke-width: 1.0;\"/><polygon fill=\"#FFFFFF\" points=\"348.72,205.69,328.9446,201.3386,336.4945,189.5488,348.72,205.69\" style=\"stroke: #383838; stroke-width: 1.0;\"/><ellipse cx=\"325.223\" cy=\"196.5805\" fill=\"#383838\" rx=\"2\" ry=\"2\" style=\"stroke: #383838; stroke-width: 1.0;\"/><ellipse cx=\"330.6158\" cy=\"188.1592\" fill=\"#383838\" rx=\"2\" ry=\"2\" style=\"stroke: #383838; stroke-width: 1.0;\"/></a><!--MD5=[07b77f6f309248d16187045709d1c26e]\n",
       "link E11 to E5--><a href=\"psysml:1112046b-9823-4ab2-8a83-96247ffb9742\" target=\"_top\" title=\"psysml:1112046b-9823-4ab2-8a83-96247ffb9742\" xlink:actuate=\"onRequest\" xlink:href=\"psysml:1112046b-9823-4ab2-8a83-96247ffb9742\" xlink:show=\"new\" xlink:title=\"psysml:1112046b-9823-4ab2-8a83-96247ffb9742\" xlink:type=\"simple\"><path d=\"M130,130.1 C130,145.37 130,166.16 130,184.57 \" fill=\"none\" id=\"E11-&gt;E5\" style=\"stroke: #383838; stroke-width: 1.0;\"/><polygon fill=\"#FFFFFF\" points=\"130,204.61,123,185.61,137,185.61,130,204.61\" style=\"stroke: #383838; stroke-width: 1.0;\"/><ellipse cx=\"125\" cy=\"179.91\" fill=\"#383838\" rx=\"2\" ry=\"2\" style=\"stroke: #383838; stroke-width: 1.0;\"/><ellipse cx=\"135\" cy=\"179.91\" fill=\"#383838\" rx=\"2\" ry=\"2\" style=\"stroke: #383838; stroke-width: 1.0;\"/></a><!--MD5=[39f41a0e550fb3d73b4d8135617e30a2]\n",
       "link E12 to E3--><a href=\"psysml:ee0d4e1c-50f8-4d3c-8a56-5035ed7c5f53\" target=\"_top\" title=\"psysml:ee0d4e1c-50f8-4d3c-8a56-5035ed7c5f53\" xlink:actuate=\"onRequest\" xlink:href=\"psysml:ee0d4e1c-50f8-4d3c-8a56-5035ed7c5f53\" xlink:show=\"new\" xlink:title=\"psysml:ee0d4e1c-50f8-4d3c-8a56-5035ed7c5f53\" xlink:type=\"simple\"><path d=\"M444.7,130.1 C434.28,146.2 419.89,168.44 407.53,187.55 \" fill=\"none\" id=\"E12-&gt;E3\" style=\"stroke: #383838; stroke-width: 1.0;\"/><polygon fill=\"#FFFFFF\" points=\"396.49,204.61,400.9313,184.8546,412.6866,192.4581,396.49,204.61\" style=\"stroke: #383838; stroke-width: 1.0;\"/><ellipse cx=\"405.7063\" cy=\"181.1547\" fill=\"#383838\" rx=\"2\" ry=\"2\" style=\"stroke: #383838; stroke-width: 1.0;\"/><ellipse cx=\"414.103\" cy=\"186.5858\" fill=\"#383838\" rx=\"2\" ry=\"2\" style=\"stroke: #383838; stroke-width: 1.0;\"/></a><!--MD5=[066b2d8af59fea80ccdb3d54ad5c1091]\n",
       "link E13 to E5--><a href=\"psysml:1d6f62f5-9885-441d-bead-3e38c1577759\" target=\"_top\" title=\"psysml:1d6f62f5-9885-441d-bead-3e38c1577759\" xlink:actuate=\"onRequest\" xlink:href=\"psysml:1d6f62f5-9885-441d-bead-3e38c1577759\" xlink:show=\"new\" xlink:title=\"psysml:1d6f62f5-9885-441d-bead-3e38c1577759\" xlink:type=\"simple\"><path d=\"M67.3,130.1 C77.72,146.2 92.11,168.44 104.47,187.55 \" fill=\"none\" id=\"E13-&gt;E5\" style=\"stroke: #383838; stroke-width: 1.0;\"/><polygon fill=\"#FFFFFF\" points=\"115.51,204.61,99.3134,192.4581,111.0687,184.8546,115.51,204.61\" style=\"stroke: #383838; stroke-width: 1.0;\"/><ellipse cx=\"97.897\" cy=\"186.5858\" fill=\"#383838\" rx=\"2\" ry=\"2\" style=\"stroke: #383838; stroke-width: 1.0;\"/><ellipse cx=\"106.2937\" cy=\"181.1547\" fill=\"#383838\" rx=\"2\" ry=\"2\" style=\"stroke: #383838; stroke-width: 1.0;\"/></a><!--MD5=[163806b4c47bb6fcb6b3777f3581270e]\n",
       "@startuml\r\n",
       "skinparam linetype polyline\r\n",
       "skinparam monochrome true\r\n",
       "skinparam classbackgroundcolor white\r\n",
       "skinparam shadowing false\r\n",
       "skinparam wrapWidth 300\r\n",
       "hide circle\r\n",
       "\r\n",
       "package \"CircularImport\" as E1  [[psysml:6a62b0bb-ce07-42d9-b06f-c19bd22a93a2 ]]  {\r\n",
       "package \"P1\" as E2  [[psysml:e5793e48-aebf-4c77-9b1c-634d316c370a ]]  {\r\n",
       "comp def \"A\" as E3  <<(T,blue)part def>> [[psysml:4745677c-bede-4ab8-acdc-4365dad759bc ]] {\r\n",
       "}\r\n",
       "}\r\n",
       "package \"P2\" as E4  [[psysml:9f128572-3fea-4fc4-b18b-c92f97cc0f0b ]]  {\r\n",
       "comp def \"B\" as E5  <<(T,blue)part def>> [[psysml:a455b6ac-bbc4-40c1-9da4-354e9f8fdc46 ]] {\r\n",
       "}\r\n",
       "}\r\n",
       "package \"Test1\" as E6  [[psysml:6c517ad3-81f8-4503-b234-41386708eb5e ]]  {\r\n",
       "comp usage \"x: A\" as E7  <<(T,blue)part>> [[psysml:6b7db59d-d003-4043-9508-3fd9ac781eff ]] {\r\n",
       "}\r\n",
       "comp usage \"y: B\" as E8  <<(T,blue)part>> [[psysml:6c414e1f-4fb5-42fd-83aa-c158d2fbc464 ]] {\r\n",
       "}\r\n",
       "E7 - -:|> E3 [[psysml:85e1ff22-6346-4a23-846d-dc1a236203c0 ]] \r\n",
       "E8 - -:|> E5 [[psysml:483adec0-2d55-41ba-876c-1b8fe7d429ab ]] \r\n",
       "}\r\n",
       "package \"Test2\" as E9  [[psysml:81951965-8d4b-42c4-ba21-4255f6488007 ]]  {\r\n",
       "comp usage \"x: A\" as E10  <<(T,blue)part>> [[psysml:797261aa-a958-4475-9de3-b139176b10fb ]] {\r\n",
       "}\r\n",
       "comp usage \"y: B\" as E11  <<(T,blue)part>> [[psysml:3825b43b-bb71-4033-970e-c8c9e00cfd14 ]] {\r\n",
       "}\r\n",
       "E10 - -:|> E3 [[psysml:0e238847-8a3c-4f4a-a4c7-c4eca45a31b2 ]] \r\n",
       "E11 - -:|> E5 [[psysml:1112046b-9823-4ab2-8a83-96247ffb9742 ]] \r\n",
       "}\r\n",
       "comp usage \"x: A\" as E12  <<(T,blue)part>> [[psysml:e16c4bbb-61f3-4b61-a2b5-b03e29e494af ]] {\r\n",
       "}\r\n",
       "comp usage \"y: B\" as E13  <<(T,blue)part>> [[psysml:6a814915-eeda-4c4d-8e98-a86878ae1f3d ]] {\r\n",
       "}\r\n",
       "E12 - -:|> E3 [[psysml:ee0d4e1c-50f8-4d3c-8a56-5035ed7c5f53 ]] \r\n",
       "E13 - -:|> E5 [[psysml:1d6f62f5-9885-441d-bead-3e38c1577759 ]] \r\n",
       "}\r\n",
       "@enduml\r\n",
       "\n",
       "PlantUML version 1.2020.13(Sat Jun 13 12:26:38 UTC 2020)\n",
       "(EPL source distribution)\n",
       "Java Runtime: OpenJDK Runtime Environment\n",
       "JVM: OpenJDK 64-Bit Server VM\n",
       "Default Encoding: UTF-8\n",
       "Language: en\n",
       "Country: null\n",
       "--></g></svg>"
      ]
     },
     "execution_count": 14,
     "metadata": {},
     "output_type": "execute_result"
    }
   ],
   "source": [
    "%viz --style=\"POLYLINE\" --view=\"Sequence\" \"CircularImport\""
   ]
  },
  {
   "cell_type": "code",
   "execution_count": 15,
   "id": "broadband-protest",
   "metadata": {
    "execution": {
     "iopub.execute_input": "2021-03-25T13:13:17.130850Z",
     "iopub.status.busy": "2021-03-25T13:13:17.130068Z",
     "iopub.status.idle": "2021-03-25T13:13:17.283248Z",
     "shell.execute_reply": "2021-03-25T13:13:17.284208Z"
    }
   },
   "outputs": [
    {
     "data": {
      "image/svg+xml": [
       "<?xml version=\"1.0\" encoding=\"UTF-8\" standalone=\"no\"?><svg xmlns=\"http://www.w3.org/2000/svg\" xmlns:xlink=\"http://www.w3.org/1999/xlink\" contentScriptType=\"application/ecmascript\" contentStyleType=\"text/css\" height=\"303px\" preserveAspectRatio=\"none\" style=\"width:518px;height:303px;\" version=\"1.1\" viewBox=\"0 0 518 303\" width=\"518px\" zoomAndPan=\"magnify\"><defs/><g><!--MD5=[fbc87193dbaf4d95561dea2c320d4a47]\n",
       "cluster E1--><a href=\"psysml:6a62b0bb-ce07-42d9-b06f-c19bd22a93a2\" target=\"_top\" title=\"psysml:6a62b0bb-ce07-42d9-b06f-c19bd22a93a2\" xlink:actuate=\"onRequest\" xlink:href=\"psysml:6a62b0bb-ce07-42d9-b06f-c19bd22a93a2\" xlink:show=\"new\" xlink:title=\"psysml:6a62b0bb-ce07-42d9-b06f-c19bd22a93a2\" xlink:type=\"simple\"><polygon fill=\"#FFFFFF\" points=\"16,6,134,6,141,28.2969,496,28.2969,496,291,16,291,16,6\" style=\"stroke: #000000; stroke-width: 1.5;\"/><line style=\"stroke: #000000; stroke-width: 1.5;\" x1=\"16\" x2=\"141\" y1=\"28.2969\" y2=\"28.2969\"/><text fill=\"#000000\" font-family=\"sans-serif\" font-size=\"14\" font-weight=\"bold\" lengthAdjust=\"spacingAndGlyphs\" textLength=\"112\" x=\"20\" y=\"20.9951\">CircularImport</text></a><!--MD5=[e4f7fae6ed58524ba242bb0b0d3be6b7]\n",
       "cluster E2--><a href=\"psysml:e5793e48-aebf-4c77-9b1c-634d316c370a\" target=\"_top\" title=\"psysml:e5793e48-aebf-4c77-9b1c-634d316c370a\" xlink:actuate=\"onRequest\" xlink:href=\"psysml:e5793e48-aebf-4c77-9b1c-634d316c370a\" xlink:show=\"new\" xlink:title=\"psysml:e5793e48-aebf-4c77-9b1c-634d316c370a\" xlink:type=\"simple\"><polygon fill=\"#FFFFFF\" points=\"333,170,359,170,366,192.2969,431,192.2969,431,267,333,267,333,170\" style=\"stroke: #000000; stroke-width: 1.5;\"/><line style=\"stroke: #000000; stroke-width: 1.5;\" x1=\"333\" x2=\"366\" y1=\"192.2969\" y2=\"192.2969\"/><text fill=\"#000000\" font-family=\"sans-serif\" font-size=\"14\" font-weight=\"bold\" lengthAdjust=\"spacingAndGlyphs\" textLength=\"20\" x=\"337\" y=\"184.9951\">P1</text></a><!--MD5=[f6df4d0ebaf0b5dfb2ced0ae5af7c670]\n",
       "cluster E4--><a href=\"psysml:9f128572-3fea-4fc4-b18b-c92f97cc0f0b\" target=\"_top\" title=\"psysml:9f128572-3fea-4fc4-b18b-c92f97cc0f0b\" xlink:actuate=\"onRequest\" xlink:href=\"psysml:9f128572-3fea-4fc4-b18b-c92f97cc0f0b\" xlink:show=\"new\" xlink:title=\"psysml:9f128572-3fea-4fc4-b18b-c92f97cc0f0b\" xlink:type=\"simple\"><polygon fill=\"#FFFFFF\" points=\"81,170,107,170,114,192.2969,179,192.2969,179,267,81,267,81,170\" style=\"stroke: #000000; stroke-width: 1.5;\"/><line style=\"stroke: #000000; stroke-width: 1.5;\" x1=\"81\" x2=\"114\" y1=\"192.2969\" y2=\"192.2969\"/><text fill=\"#000000\" font-family=\"sans-serif\" font-size=\"14\" font-weight=\"bold\" lengthAdjust=\"spacingAndGlyphs\" textLength=\"20\" x=\"85\" y=\"184.9951\">P2</text></a><!--MD5=[14e3b0961a2654348d326746436168a1]\n",
       "cluster E6--><a href=\"psysml:6c517ad3-81f8-4503-b234-41386708eb5e\" target=\"_top\" title=\"psysml:6c517ad3-81f8-4503-b234-41386708eb5e\" xlink:actuate=\"onRequest\" xlink:href=\"psysml:6c517ad3-81f8-4503-b234-41386708eb5e\" xlink:show=\"new\" xlink:title=\"psysml:6c517ad3-81f8-4503-b234-41386708eb5e\" xlink:type=\"simple\"><polygon fill=\"#FFFFFF\" points=\"268,49,319,49,326,71.2969,419,71.2969,419,146,268,146,268,49\" style=\"stroke: #000000; stroke-width: 1.5;\"/><line style=\"stroke: #000000; stroke-width: 1.5;\" x1=\"268\" x2=\"326\" y1=\"71.2969\" y2=\"71.2969\"/><text fill=\"#000000\" font-family=\"sans-serif\" font-size=\"14\" font-weight=\"bold\" lengthAdjust=\"spacingAndGlyphs\" textLength=\"45\" x=\"272\" y=\"63.9951\">Test1</text></a><!--MD5=[7f149f147074ac12df2cb0a7728a5fb0]\n",
       "cluster E9--><a href=\"psysml:81951965-8d4b-42c4-ba21-4255f6488007\" target=\"_top\" title=\"psysml:81951965-8d4b-42c4-ba21-4255f6488007\" xlink:actuate=\"onRequest\" xlink:href=\"psysml:81951965-8d4b-42c4-ba21-4255f6488007\" xlink:show=\"new\" xlink:title=\"psysml:81951965-8d4b-42c4-ba21-4255f6488007\" xlink:type=\"simple\"><polygon fill=\"#FFFFFF\" points=\"93,49,144,49,151,71.2969,244,71.2969,244,146,93,146,93,49\" style=\"stroke: #000000; stroke-width: 1.5;\"/><line style=\"stroke: #000000; stroke-width: 1.5;\" x1=\"93\" x2=\"151\" y1=\"71.2969\" y2=\"71.2969\"/><text fill=\"#000000\" font-family=\"sans-serif\" font-size=\"14\" font-weight=\"bold\" lengthAdjust=\"spacingAndGlyphs\" textLength=\"45\" x=\"97\" y=\"63.9951\">Test2</text></a><!--MD5=[49a0ec8f00dab7302a31f22d0f0fe584]\n",
       "class E12--><a href=\"psysml:e16c4bbb-61f3-4b61-a2b5-b03e29e494af\" target=\"_top\" title=\"psysml:e16c4bbb-61f3-4b61-a2b5-b03e29e494af\" xlink:actuate=\"onRequest\" xlink:href=\"psysml:e16c4bbb-61f3-4b61-a2b5-b03e29e494af\" xlink:show=\"new\" xlink:title=\"psysml:e16c4bbb-61f3-4b61-a2b5-b03e29e494af\" xlink:type=\"simple\"><rect fill=\"#FFFFFF\" height=\"45.9375\" id=\"E12\" rx=\"10\" ry=\"10\" style=\"stroke: #383838; stroke-width: 1.5;\" width=\"42\" x=\"438\" y=\"84\"/><text fill=\"#000000\" font-family=\"sans-serif\" font-size=\"12\" font-style=\"italic\" lengthAdjust=\"spacingAndGlyphs\" textLength=\"40\" x=\"439\" y=\"100.1387\">«part»</text><text fill=\"#000000\" font-family=\"sans-serif\" font-size=\"12\" lengthAdjust=\"spacingAndGlyphs\" textLength=\"22\" x=\"448\" y=\"114.1074\">x: A</text><line style=\"stroke: #383838; stroke-width: 1.5;\" x1=\"439\" x2=\"479\" y1=\"121.9375\" y2=\"121.9375\"/></a><!--MD5=[ee3c913d1a06f366521f9ef512b67efe]\n",
       "class E13--><a href=\"psysml:6a814915-eeda-4c4d-8e98-a86878ae1f3d\" target=\"_top\" title=\"psysml:6a814915-eeda-4c4d-8e98-a86878ae1f3d\" xlink:actuate=\"onRequest\" xlink:href=\"psysml:6a814915-eeda-4c4d-8e98-a86878ae1f3d\" xlink:show=\"new\" xlink:title=\"psysml:6a814915-eeda-4c4d-8e98-a86878ae1f3d\" xlink:type=\"simple\"><rect fill=\"#FFFFFF\" height=\"45.9375\" id=\"E13\" rx=\"10\" ry=\"10\" style=\"stroke: #383838; stroke-width: 1.5;\" width=\"42\" x=\"32\" y=\"84\"/><text fill=\"#000000\" font-family=\"sans-serif\" font-size=\"12\" font-style=\"italic\" lengthAdjust=\"spacingAndGlyphs\" textLength=\"40\" x=\"33\" y=\"100.1387\">«part»</text><text fill=\"#000000\" font-family=\"sans-serif\" font-size=\"12\" lengthAdjust=\"spacingAndGlyphs\" textLength=\"22\" x=\"42\" y=\"114.1074\">y: B</text><line style=\"stroke: #383838; stroke-width: 1.5;\" x1=\"33\" x2=\"73\" y1=\"121.9375\" y2=\"121.9375\"/></a><!--MD5=[09b614a08d8cba4a07c9adeb5e0fee81]\n",
       "class E3--><a href=\"psysml:4745677c-bede-4ab8-acdc-4365dad759bc\" target=\"_top\" title=\"psysml:4745677c-bede-4ab8-acdc-4365dad759bc\" xlink:actuate=\"onRequest\" xlink:href=\"psysml:4745677c-bede-4ab8-acdc-4365dad759bc\" xlink:show=\"new\" xlink:title=\"psysml:4745677c-bede-4ab8-acdc-4365dad759bc\" xlink:type=\"simple\"><rect fill=\"#FFFFFF\" height=\"45.9375\" id=\"E3\" style=\"stroke: #383838; stroke-width: 1.5;\" width=\"66\" x=\"349\" y=\"205\"/><text fill=\"#000000\" font-family=\"sans-serif\" font-size=\"12\" font-style=\"italic\" lengthAdjust=\"spacingAndGlyphs\" textLength=\"64\" x=\"350\" y=\"221.1387\">«part def»</text><text fill=\"#000000\" font-family=\"sans-serif\" font-size=\"12\" lengthAdjust=\"spacingAndGlyphs\" textLength=\"8\" x=\"378\" y=\"235.1074\">A</text><line style=\"stroke: #383838; stroke-width: 1.5;\" x1=\"350\" x2=\"414\" y1=\"242.9375\" y2=\"242.9375\"/></a><!--MD5=[270fce915f116d4de14055a7c1d9a0f3]\n",
       "class E5--><a href=\"psysml:a455b6ac-bbc4-40c1-9da4-354e9f8fdc46\" target=\"_top\" title=\"psysml:a455b6ac-bbc4-40c1-9da4-354e9f8fdc46\" xlink:actuate=\"onRequest\" xlink:href=\"psysml:a455b6ac-bbc4-40c1-9da4-354e9f8fdc46\" xlink:show=\"new\" xlink:title=\"psysml:a455b6ac-bbc4-40c1-9da4-354e9f8fdc46\" xlink:type=\"simple\"><rect fill=\"#FFFFFF\" height=\"45.9375\" id=\"E5\" style=\"stroke: #383838; stroke-width: 1.5;\" width=\"66\" x=\"97\" y=\"205\"/><text fill=\"#000000\" font-family=\"sans-serif\" font-size=\"12\" font-style=\"italic\" lengthAdjust=\"spacingAndGlyphs\" textLength=\"64\" x=\"98\" y=\"221.1387\">«part def»</text><text fill=\"#000000\" font-family=\"sans-serif\" font-size=\"12\" lengthAdjust=\"spacingAndGlyphs\" textLength=\"8\" x=\"126\" y=\"235.1074\">B</text><line style=\"stroke: #383838; stroke-width: 1.5;\" x1=\"98\" x2=\"162\" y1=\"242.9375\" y2=\"242.9375\"/></a><!--MD5=[2156ba9850f5573cc1fc38a6a4b2f02b]\n",
       "class E7--><a href=\"psysml:6b7db59d-d003-4043-9508-3fd9ac781eff\" target=\"_top\" title=\"psysml:6b7db59d-d003-4043-9508-3fd9ac781eff\" xlink:actuate=\"onRequest\" xlink:href=\"psysml:6b7db59d-d003-4043-9508-3fd9ac781eff\" xlink:show=\"new\" xlink:title=\"psysml:6b7db59d-d003-4043-9508-3fd9ac781eff\" xlink:type=\"simple\"><rect fill=\"#FFFFFF\" height=\"45.9375\" id=\"E7\" rx=\"10\" ry=\"10\" style=\"stroke: #383838; stroke-width: 1.5;\" width=\"42\" x=\"361\" y=\"84\"/><text fill=\"#000000\" font-family=\"sans-serif\" font-size=\"12\" font-style=\"italic\" lengthAdjust=\"spacingAndGlyphs\" textLength=\"40\" x=\"362\" y=\"100.1387\">«part»</text><text fill=\"#000000\" font-family=\"sans-serif\" font-size=\"12\" lengthAdjust=\"spacingAndGlyphs\" textLength=\"22\" x=\"371\" y=\"114.1074\">x: A</text><line style=\"stroke: #383838; stroke-width: 1.5;\" x1=\"362\" x2=\"402\" y1=\"121.9375\" y2=\"121.9375\"/></a><!--MD5=[b9389687b975829384b498ac4b7476b2]\n",
       "class E8--><a href=\"psysml:6c414e1f-4fb5-42fd-83aa-c158d2fbc464\" target=\"_top\" title=\"psysml:6c414e1f-4fb5-42fd-83aa-c158d2fbc464\" xlink:actuate=\"onRequest\" xlink:href=\"psysml:6c414e1f-4fb5-42fd-83aa-c158d2fbc464\" xlink:show=\"new\" xlink:title=\"psysml:6c414e1f-4fb5-42fd-83aa-c158d2fbc464\" xlink:type=\"simple\"><rect fill=\"#FFFFFF\" height=\"45.9375\" id=\"E8\" rx=\"10\" ry=\"10\" style=\"stroke: #383838; stroke-width: 1.5;\" width=\"42\" x=\"284\" y=\"84\"/><text fill=\"#000000\" font-family=\"sans-serif\" font-size=\"12\" font-style=\"italic\" lengthAdjust=\"spacingAndGlyphs\" textLength=\"40\" x=\"285\" y=\"100.1387\">«part»</text><text fill=\"#000000\" font-family=\"sans-serif\" font-size=\"12\" lengthAdjust=\"spacingAndGlyphs\" textLength=\"22\" x=\"294\" y=\"114.1074\">y: B</text><line style=\"stroke: #383838; stroke-width: 1.5;\" x1=\"285\" x2=\"325\" y1=\"121.9375\" y2=\"121.9375\"/></a><!--MD5=[96f4274e9e20536e775497830990834d]\n",
       "class E10--><a href=\"psysml:797261aa-a958-4475-9de3-b139176b10fb\" target=\"_top\" title=\"psysml:797261aa-a958-4475-9de3-b139176b10fb\" xlink:actuate=\"onRequest\" xlink:href=\"psysml:797261aa-a958-4475-9de3-b139176b10fb\" xlink:show=\"new\" xlink:title=\"psysml:797261aa-a958-4475-9de3-b139176b10fb\" xlink:type=\"simple\"><rect fill=\"#FFFFFF\" height=\"45.9375\" id=\"E10\" rx=\"10\" ry=\"10\" style=\"stroke: #383838; stroke-width: 1.5;\" width=\"42\" x=\"186\" y=\"84\"/><text fill=\"#000000\" font-family=\"sans-serif\" font-size=\"12\" font-style=\"italic\" lengthAdjust=\"spacingAndGlyphs\" textLength=\"40\" x=\"187\" y=\"100.1387\">«part»</text><text fill=\"#000000\" font-family=\"sans-serif\" font-size=\"12\" lengthAdjust=\"spacingAndGlyphs\" textLength=\"22\" x=\"196\" y=\"114.1074\">x: A</text><line style=\"stroke: #383838; stroke-width: 1.5;\" x1=\"187\" x2=\"227\" y1=\"121.9375\" y2=\"121.9375\"/></a><!--MD5=[1dd1bfd58a279cf63c5f349dbc8fc6a1]\n",
       "class E11--><a href=\"psysml:3825b43b-bb71-4033-970e-c8c9e00cfd14\" target=\"_top\" title=\"psysml:3825b43b-bb71-4033-970e-c8c9e00cfd14\" xlink:actuate=\"onRequest\" xlink:href=\"psysml:3825b43b-bb71-4033-970e-c8c9e00cfd14\" xlink:show=\"new\" xlink:title=\"psysml:3825b43b-bb71-4033-970e-c8c9e00cfd14\" xlink:type=\"simple\"><rect fill=\"#FFFFFF\" height=\"45.9375\" id=\"E11\" rx=\"10\" ry=\"10\" style=\"stroke: #383838; stroke-width: 1.5;\" width=\"42\" x=\"109\" y=\"84\"/><text fill=\"#000000\" font-family=\"sans-serif\" font-size=\"12\" font-style=\"italic\" lengthAdjust=\"spacingAndGlyphs\" textLength=\"40\" x=\"110\" y=\"100.1387\">«part»</text><text fill=\"#000000\" font-family=\"sans-serif\" font-size=\"12\" lengthAdjust=\"spacingAndGlyphs\" textLength=\"22\" x=\"119\" y=\"114.1074\">y: B</text><line style=\"stroke: #383838; stroke-width: 1.5;\" x1=\"110\" x2=\"150\" y1=\"121.9375\" y2=\"121.9375\"/></a><!--MD5=[14ccda38c055a5c0da953d572bc50960]\n",
       "link E7 to E3--><a href=\"psysml:85e1ff22-6346-4a23-846d-dc1a236203c0\" target=\"_top\" title=\"psysml:85e1ff22-6346-4a23-846d-dc1a236203c0\" xlink:actuate=\"onRequest\" xlink:href=\"psysml:85e1ff22-6346-4a23-846d-dc1a236203c0\" xlink:show=\"new\" xlink:title=\"psysml:85e1ff22-6346-4a23-846d-dc1a236203c0\" xlink:type=\"simple\"><path d=\"M382,130.1 C382,145.37 382,166.16 382,184.57 \" fill=\"none\" id=\"E7-&gt;E3\" style=\"stroke: #383838; stroke-width: 1.0;\"/><polygon fill=\"#FFFFFF\" points=\"382,204.61,375,185.61,389,185.61,382,204.61\" style=\"stroke: #383838; stroke-width: 1.0;\"/><ellipse cx=\"377\" cy=\"179.91\" fill=\"#383838\" rx=\"2\" ry=\"2\" style=\"stroke: #383838; stroke-width: 1.0;\"/><ellipse cx=\"387\" cy=\"179.91\" fill=\"#383838\" rx=\"2\" ry=\"2\" style=\"stroke: #383838; stroke-width: 1.0;\"/></a><!--MD5=[1ccb2481ffa92f8d51a74ee30c51832a]\n",
       "link E8 to E5--><a href=\"psysml:483adec0-2d55-41ba-876c-1b8fe7d429ab\" target=\"_top\" title=\"psysml:483adec0-2d55-41ba-876c-1b8fe7d429ab\" xlink:actuate=\"onRequest\" xlink:href=\"psysml:483adec0-2d55-41ba-876c-1b8fe7d429ab\" xlink:show=\"new\" xlink:title=\"psysml:483adec0-2d55-41ba-876c-1b8fe7d429ab\" xlink:type=\"simple\"><path d=\"M283.67,124.09 C266.07,137.35 244,154 244,154 C244,154 210.8,175.26 180.23,194.83 \" fill=\"none\" id=\"E8-&gt;E5\" style=\"stroke: #383838; stroke-width: 1.0;\"/><polygon fill=\"#FFFFFF\" points=\"163.28,205.69,175.5055,189.5488,183.0554,201.3386,163.28,205.69\" style=\"stroke: #383838; stroke-width: 1.0;\"/><ellipse cx=\"181.3842\" cy=\"188.1592\" fill=\"#383838\" rx=\"2\" ry=\"2\" style=\"stroke: #383838; stroke-width: 1.0;\"/><ellipse cx=\"186.777\" cy=\"196.5805\" fill=\"#383838\" rx=\"2\" ry=\"2\" style=\"stroke: #383838; stroke-width: 1.0;\"/></a><!--MD5=[feeac5eb423634930294aa81f2d25a4c]\n",
       "link E10 to E3--><a href=\"psysml:0e238847-8a3c-4f4a-a4c7-c4eca45a31b2\" target=\"_top\" title=\"psysml:0e238847-8a3c-4f4a-a4c7-c4eca45a31b2\" xlink:actuate=\"onRequest\" xlink:href=\"psysml:0e238847-8a3c-4f4a-a4c7-c4eca45a31b2\" xlink:show=\"new\" xlink:title=\"psysml:0e238847-8a3c-4f4a-a4c7-c4eca45a31b2\" xlink:type=\"simple\"><path d=\"M228.33,124.09 C245.93,137.35 268,154 268,154 C268,154 301.2,175.26 331.77,194.83 \" fill=\"none\" id=\"E10-&gt;E3\" style=\"stroke: #383838; stroke-width: 1.0;\"/><polygon fill=\"#FFFFFF\" points=\"348.72,205.69,328.9446,201.3386,336.4945,189.5488,348.72,205.69\" style=\"stroke: #383838; stroke-width: 1.0;\"/><ellipse cx=\"325.223\" cy=\"196.5805\" fill=\"#383838\" rx=\"2\" ry=\"2\" style=\"stroke: #383838; stroke-width: 1.0;\"/><ellipse cx=\"330.6158\" cy=\"188.1592\" fill=\"#383838\" rx=\"2\" ry=\"2\" style=\"stroke: #383838; stroke-width: 1.0;\"/></a><!--MD5=[07b77f6f309248d16187045709d1c26e]\n",
       "link E11 to E5--><a href=\"psysml:1112046b-9823-4ab2-8a83-96247ffb9742\" target=\"_top\" title=\"psysml:1112046b-9823-4ab2-8a83-96247ffb9742\" xlink:actuate=\"onRequest\" xlink:href=\"psysml:1112046b-9823-4ab2-8a83-96247ffb9742\" xlink:show=\"new\" xlink:title=\"psysml:1112046b-9823-4ab2-8a83-96247ffb9742\" xlink:type=\"simple\"><path d=\"M130,130.1 C130,145.37 130,166.16 130,184.57 \" fill=\"none\" id=\"E11-&gt;E5\" style=\"stroke: #383838; stroke-width: 1.0;\"/><polygon fill=\"#FFFFFF\" points=\"130,204.61,123,185.61,137,185.61,130,204.61\" style=\"stroke: #383838; stroke-width: 1.0;\"/><ellipse cx=\"125\" cy=\"179.91\" fill=\"#383838\" rx=\"2\" ry=\"2\" style=\"stroke: #383838; stroke-width: 1.0;\"/><ellipse cx=\"135\" cy=\"179.91\" fill=\"#383838\" rx=\"2\" ry=\"2\" style=\"stroke: #383838; stroke-width: 1.0;\"/></a><!--MD5=[39f41a0e550fb3d73b4d8135617e30a2]\n",
       "link E12 to E3--><a href=\"psysml:ee0d4e1c-50f8-4d3c-8a56-5035ed7c5f53\" target=\"_top\" title=\"psysml:ee0d4e1c-50f8-4d3c-8a56-5035ed7c5f53\" xlink:actuate=\"onRequest\" xlink:href=\"psysml:ee0d4e1c-50f8-4d3c-8a56-5035ed7c5f53\" xlink:show=\"new\" xlink:title=\"psysml:ee0d4e1c-50f8-4d3c-8a56-5035ed7c5f53\" xlink:type=\"simple\"><path d=\"M444.7,130.1 C434.28,146.2 419.89,168.44 407.53,187.55 \" fill=\"none\" id=\"E12-&gt;E3\" style=\"stroke: #383838; stroke-width: 1.0;\"/><polygon fill=\"#FFFFFF\" points=\"396.49,204.61,400.9313,184.8546,412.6866,192.4581,396.49,204.61\" style=\"stroke: #383838; stroke-width: 1.0;\"/><ellipse cx=\"405.7063\" cy=\"181.1547\" fill=\"#383838\" rx=\"2\" ry=\"2\" style=\"stroke: #383838; stroke-width: 1.0;\"/><ellipse cx=\"414.103\" cy=\"186.5858\" fill=\"#383838\" rx=\"2\" ry=\"2\" style=\"stroke: #383838; stroke-width: 1.0;\"/></a><!--MD5=[066b2d8af59fea80ccdb3d54ad5c1091]\n",
       "link E13 to E5--><a href=\"psysml:1d6f62f5-9885-441d-bead-3e38c1577759\" target=\"_top\" title=\"psysml:1d6f62f5-9885-441d-bead-3e38c1577759\" xlink:actuate=\"onRequest\" xlink:href=\"psysml:1d6f62f5-9885-441d-bead-3e38c1577759\" xlink:show=\"new\" xlink:title=\"psysml:1d6f62f5-9885-441d-bead-3e38c1577759\" xlink:type=\"simple\"><path d=\"M67.3,130.1 C77.72,146.2 92.11,168.44 104.47,187.55 \" fill=\"none\" id=\"E13-&gt;E5\" style=\"stroke: #383838; stroke-width: 1.0;\"/><polygon fill=\"#FFFFFF\" points=\"115.51,204.61,99.3134,192.4581,111.0687,184.8546,115.51,204.61\" style=\"stroke: #383838; stroke-width: 1.0;\"/><ellipse cx=\"97.897\" cy=\"186.5858\" fill=\"#383838\" rx=\"2\" ry=\"2\" style=\"stroke: #383838; stroke-width: 1.0;\"/><ellipse cx=\"106.2937\" cy=\"181.1547\" fill=\"#383838\" rx=\"2\" ry=\"2\" style=\"stroke: #383838; stroke-width: 1.0;\"/></a><!--MD5=[163806b4c47bb6fcb6b3777f3581270e]\n",
       "@startuml\r\n",
       "skinparam linetype polyline\r\n",
       "skinparam monochrome true\r\n",
       "skinparam classbackgroundcolor white\r\n",
       "skinparam shadowing false\r\n",
       "skinparam wrapWidth 300\r\n",
       "hide circle\r\n",
       "\r\n",
       "package \"CircularImport\" as E1  [[psysml:6a62b0bb-ce07-42d9-b06f-c19bd22a93a2 ]]  {\r\n",
       "package \"P1\" as E2  [[psysml:e5793e48-aebf-4c77-9b1c-634d316c370a ]]  {\r\n",
       "comp def \"A\" as E3  <<(T,blue)part def>> [[psysml:4745677c-bede-4ab8-acdc-4365dad759bc ]] {\r\n",
       "}\r\n",
       "}\r\n",
       "package \"P2\" as E4  [[psysml:9f128572-3fea-4fc4-b18b-c92f97cc0f0b ]]  {\r\n",
       "comp def \"B\" as E5  <<(T,blue)part def>> [[psysml:a455b6ac-bbc4-40c1-9da4-354e9f8fdc46 ]] {\r\n",
       "}\r\n",
       "}\r\n",
       "package \"Test1\" as E6  [[psysml:6c517ad3-81f8-4503-b234-41386708eb5e ]]  {\r\n",
       "comp usage \"x: A\" as E7  <<(T,blue)part>> [[psysml:6b7db59d-d003-4043-9508-3fd9ac781eff ]] {\r\n",
       "}\r\n",
       "comp usage \"y: B\" as E8  <<(T,blue)part>> [[psysml:6c414e1f-4fb5-42fd-83aa-c158d2fbc464 ]] {\r\n",
       "}\r\n",
       "E7 - -:|> E3 [[psysml:85e1ff22-6346-4a23-846d-dc1a236203c0 ]] \r\n",
       "E8 - -:|> E5 [[psysml:483adec0-2d55-41ba-876c-1b8fe7d429ab ]] \r\n",
       "}\r\n",
       "package \"Test2\" as E9  [[psysml:81951965-8d4b-42c4-ba21-4255f6488007 ]]  {\r\n",
       "comp usage \"x: A\" as E10  <<(T,blue)part>> [[psysml:797261aa-a958-4475-9de3-b139176b10fb ]] {\r\n",
       "}\r\n",
       "comp usage \"y: B\" as E11  <<(T,blue)part>> [[psysml:3825b43b-bb71-4033-970e-c8c9e00cfd14 ]] {\r\n",
       "}\r\n",
       "E10 - -:|> E3 [[psysml:0e238847-8a3c-4f4a-a4c7-c4eca45a31b2 ]] \r\n",
       "E11 - -:|> E5 [[psysml:1112046b-9823-4ab2-8a83-96247ffb9742 ]] \r\n",
       "}\r\n",
       "comp usage \"x: A\" as E12  <<(T,blue)part>> [[psysml:e16c4bbb-61f3-4b61-a2b5-b03e29e494af ]] {\r\n",
       "}\r\n",
       "comp usage \"y: B\" as E13  <<(T,blue)part>> [[psysml:6a814915-eeda-4c4d-8e98-a86878ae1f3d ]] {\r\n",
       "}\r\n",
       "E12 - -:|> E3 [[psysml:ee0d4e1c-50f8-4d3c-8a56-5035ed7c5f53 ]] \r\n",
       "E13 - -:|> E5 [[psysml:1d6f62f5-9885-441d-bead-3e38c1577759 ]] \r\n",
       "}\r\n",
       "@enduml\r\n",
       "\n",
       "PlantUML version 1.2020.13(Sat Jun 13 12:26:38 UTC 2020)\n",
       "(EPL source distribution)\n",
       "Java Runtime: OpenJDK Runtime Environment\n",
       "JVM: OpenJDK 64-Bit Server VM\n",
       "Default Encoding: UTF-8\n",
       "Language: en\n",
       "Country: null\n",
       "--></g></svg>"
      ]
     },
     "execution_count": 15,
     "metadata": {},
     "output_type": "execute_result"
    }
   ],
   "source": [
    "%viz --style=\"POLYLINE\" --view=\"MIXED\" \"CircularImport\""
   ]
  },
  {
   "cell_type": "code",
   "execution_count": 16,
   "id": "emotional-response",
   "metadata": {
    "execution": {
     "iopub.execute_input": "2021-03-25T13:13:17.333886Z",
     "iopub.status.busy": "2021-03-25T13:13:17.333016Z",
     "iopub.status.idle": "2021-03-25T13:13:17.481276Z",
     "shell.execute_reply": "2021-03-25T13:13:17.481965Z"
    }
   },
   "outputs": [
    {
     "data": {
      "image/svg+xml": [
       "<?xml version=\"1.0\" encoding=\"UTF-8\" standalone=\"no\"?><svg xmlns=\"http://www.w3.org/2000/svg\" xmlns:xlink=\"http://www.w3.org/1999/xlink\" contentScriptType=\"application/ecmascript\" contentStyleType=\"text/css\" height=\"576px\" preserveAspectRatio=\"none\" style=\"width:286px;height:576px;\" version=\"1.1\" viewBox=\"0 0 286 576\" width=\"286px\" zoomAndPan=\"magnify\"><defs/><g><!--MD5=[fbc87193dbaf4d95561dea2c320d4a47]\n",
       "cluster E1--><a href=\"psysml:6a62b0bb-ce07-42d9-b06f-c19bd22a93a2\" target=\"_top\" title=\"psysml:6a62b0bb-ce07-42d9-b06f-c19bd22a93a2\" xlink:actuate=\"onRequest\" xlink:href=\"psysml:6a62b0bb-ce07-42d9-b06f-c19bd22a93a2\" xlink:show=\"new\" xlink:title=\"psysml:6a62b0bb-ce07-42d9-b06f-c19bd22a93a2\" xlink:type=\"simple\"><polygon fill=\"#FFFFFF\" points=\"16,6,134,6,141,28.2969,264,28.2969,264,564,16,564,16,6\" style=\"stroke: #000000; stroke-width: 1.5;\"/><line style=\"stroke: #000000; stroke-width: 1.5;\" x1=\"16\" x2=\"141\" y1=\"28.2969\" y2=\"28.2969\"/><text fill=\"#000000\" font-family=\"sans-serif\" font-size=\"14\" font-weight=\"bold\" lengthAdjust=\"spacingAndGlyphs\" textLength=\"112\" x=\"20\" y=\"20.9951\">CircularImport</text></a><!--MD5=[e4f7fae6ed58524ba242bb0b0d3be6b7]\n",
       "cluster E2--><a href=\"psysml:e5793e48-aebf-4c77-9b1c-634d316c370a\" target=\"_top\" title=\"psysml:e5793e48-aebf-4c77-9b1c-634d316c370a\" xlink:actuate=\"onRequest\" xlink:href=\"psysml:e5793e48-aebf-4c77-9b1c-634d316c370a\" xlink:show=\"new\" xlink:title=\"psysml:e5793e48-aebf-4c77-9b1c-634d316c370a\" xlink:type=\"simple\"><polygon fill=\"#FFFFFF\" points=\"142,103,168,103,175,125.2969,240,125.2969,240,200,142,200,142,103\" style=\"stroke: #000000; stroke-width: 1.5;\"/><line style=\"stroke: #000000; stroke-width: 1.5;\" x1=\"142\" x2=\"175\" y1=\"125.2969\" y2=\"125.2969\"/><text fill=\"#000000\" font-family=\"sans-serif\" font-size=\"14\" font-weight=\"bold\" lengthAdjust=\"spacingAndGlyphs\" textLength=\"20\" x=\"146\" y=\"117.9951\">P1</text></a><!--MD5=[f6df4d0ebaf0b5dfb2ced0ae5af7c670]\n",
       "cluster E4--><a href=\"psysml:9f128572-3fea-4fc4-b18b-c92f97cc0f0b\" target=\"_top\" title=\"psysml:9f128572-3fea-4fc4-b18b-c92f97cc0f0b\" xlink:actuate=\"onRequest\" xlink:href=\"psysml:9f128572-3fea-4fc4-b18b-c92f97cc0f0b\" xlink:show=\"new\" xlink:title=\"psysml:9f128572-3fea-4fc4-b18b-c92f97cc0f0b\" xlink:type=\"simple\"><polygon fill=\"#FFFFFF\" points=\"142,386,168,386,175,408.2969,240,408.2969,240,483,142,483,142,386\" style=\"stroke: #000000; stroke-width: 1.5;\"/><line style=\"stroke: #000000; stroke-width: 1.5;\" x1=\"142\" x2=\"175\" y1=\"408.2969\" y2=\"408.2969\"/><text fill=\"#000000\" font-family=\"sans-serif\" font-size=\"14\" font-weight=\"bold\" lengthAdjust=\"spacingAndGlyphs\" textLength=\"20\" x=\"146\" y=\"400.9951\">P2</text></a><!--MD5=[14e3b0961a2654348d326746436168a1]\n",
       "cluster E6--><a href=\"psysml:6c517ad3-81f8-4503-b234-41386708eb5e\" target=\"_top\" title=\"psysml:6c517ad3-81f8-4503-b234-41386708eb5e\" xlink:actuate=\"onRequest\" xlink:href=\"psysml:6c517ad3-81f8-4503-b234-41386708eb5e\" xlink:show=\"new\" xlink:title=\"psysml:6c517ad3-81f8-4503-b234-41386708eb5e\" xlink:type=\"simple\"><polygon fill=\"#FFFFFF\" points=\"40,103,91,103,98,125.2969,114,125.2969,114,281,40,281,40,103\" style=\"stroke: #000000; stroke-width: 1.5;\"/><line style=\"stroke: #000000; stroke-width: 1.5;\" x1=\"40\" x2=\"98\" y1=\"125.2969\" y2=\"125.2969\"/><text fill=\"#000000\" font-family=\"sans-serif\" font-size=\"14\" font-weight=\"bold\" lengthAdjust=\"spacingAndGlyphs\" textLength=\"45\" x=\"44\" y=\"117.9951\">Test1</text></a><!--MD5=[7f149f147074ac12df2cb0a7728a5fb0]\n",
       "cluster E9--><a href=\"psysml:81951965-8d4b-42c4-ba21-4255f6488007\" target=\"_top\" title=\"psysml:81951965-8d4b-42c4-ba21-4255f6488007\" xlink:actuate=\"onRequest\" xlink:href=\"psysml:81951965-8d4b-42c4-ba21-4255f6488007\" xlink:show=\"new\" xlink:title=\"psysml:81951965-8d4b-42c4-ba21-4255f6488007\" xlink:type=\"simple\"><polygon fill=\"#FFFFFF\" points=\"40,305,91,305,98,327.2969,114,327.2969,114,483,40,483,40,305\" style=\"stroke: #000000; stroke-width: 1.5;\"/><line style=\"stroke: #000000; stroke-width: 1.5;\" x1=\"40\" x2=\"98\" y1=\"327.2969\" y2=\"327.2969\"/><text fill=\"#000000\" font-family=\"sans-serif\" font-size=\"14\" font-weight=\"bold\" lengthAdjust=\"spacingAndGlyphs\" textLength=\"45\" x=\"44\" y=\"319.9951\">Test2</text></a><!--MD5=[49a0ec8f00dab7302a31f22d0f0fe584]\n",
       "class E12--><a href=\"psysml:e16c4bbb-61f3-4b61-a2b5-b03e29e494af\" target=\"_top\" title=\"psysml:e16c4bbb-61f3-4b61-a2b5-b03e29e494af\" xlink:actuate=\"onRequest\" xlink:href=\"psysml:e16c4bbb-61f3-4b61-a2b5-b03e29e494af\" xlink:show=\"new\" xlink:title=\"psysml:e16c4bbb-61f3-4b61-a2b5-b03e29e494af\" xlink:type=\"simple\"><rect fill=\"#FFFFFF\" height=\"45.9375\" id=\"E12\" rx=\"10\" ry=\"10\" style=\"stroke: #383838; stroke-width: 1.5;\" width=\"42\" x=\"56\" y=\"41\"/><text fill=\"#000000\" font-family=\"sans-serif\" font-size=\"12\" font-style=\"italic\" lengthAdjust=\"spacingAndGlyphs\" textLength=\"40\" x=\"57\" y=\"57.1387\">«part»</text><text fill=\"#000000\" font-family=\"sans-serif\" font-size=\"12\" lengthAdjust=\"spacingAndGlyphs\" textLength=\"22\" x=\"66\" y=\"71.1074\">x: A</text><line style=\"stroke: #383838; stroke-width: 1.5;\" x1=\"57\" x2=\"97\" y1=\"78.9375\" y2=\"78.9375\"/></a><!--MD5=[ee3c913d1a06f366521f9ef512b67efe]\n",
       "class E13--><a href=\"psysml:6a814915-eeda-4c4d-8e98-a86878ae1f3d\" target=\"_top\" title=\"psysml:6a814915-eeda-4c4d-8e98-a86878ae1f3d\" xlink:actuate=\"onRequest\" xlink:href=\"psysml:6a814915-eeda-4c4d-8e98-a86878ae1f3d\" xlink:show=\"new\" xlink:title=\"psysml:6a814915-eeda-4c4d-8e98-a86878ae1f3d\" xlink:type=\"simple\"><rect fill=\"#FFFFFF\" height=\"45.9375\" id=\"E13\" rx=\"10\" ry=\"10\" style=\"stroke: #383838; stroke-width: 1.5;\" width=\"42\" x=\"56\" y=\"502\"/><text fill=\"#000000\" font-family=\"sans-serif\" font-size=\"12\" font-style=\"italic\" lengthAdjust=\"spacingAndGlyphs\" textLength=\"40\" x=\"57\" y=\"518.1387\">«part»</text><text fill=\"#000000\" font-family=\"sans-serif\" font-size=\"12\" lengthAdjust=\"spacingAndGlyphs\" textLength=\"22\" x=\"66\" y=\"532.1074\">y: B</text><line style=\"stroke: #383838; stroke-width: 1.5;\" x1=\"57\" x2=\"97\" y1=\"539.9375\" y2=\"539.9375\"/></a><!--MD5=[09b614a08d8cba4a07c9adeb5e0fee81]\n",
       "class E3--><a href=\"psysml:4745677c-bede-4ab8-acdc-4365dad759bc\" target=\"_top\" title=\"psysml:4745677c-bede-4ab8-acdc-4365dad759bc\" xlink:actuate=\"onRequest\" xlink:href=\"psysml:4745677c-bede-4ab8-acdc-4365dad759bc\" xlink:show=\"new\" xlink:title=\"psysml:4745677c-bede-4ab8-acdc-4365dad759bc\" xlink:type=\"simple\"><rect fill=\"#FFFFFF\" height=\"45.9375\" id=\"E3\" style=\"stroke: #383838; stroke-width: 1.5;\" width=\"66\" x=\"158\" y=\"138\"/><text fill=\"#000000\" font-family=\"sans-serif\" font-size=\"12\" font-style=\"italic\" lengthAdjust=\"spacingAndGlyphs\" textLength=\"64\" x=\"159\" y=\"154.1387\">«part def»</text><text fill=\"#000000\" font-family=\"sans-serif\" font-size=\"12\" lengthAdjust=\"spacingAndGlyphs\" textLength=\"8\" x=\"187\" y=\"168.1074\">A</text><line style=\"stroke: #383838; stroke-width: 1.5;\" x1=\"159\" x2=\"223\" y1=\"175.9375\" y2=\"175.9375\"/></a><!--MD5=[270fce915f116d4de14055a7c1d9a0f3]\n",
       "class E5--><a href=\"psysml:a455b6ac-bbc4-40c1-9da4-354e9f8fdc46\" target=\"_top\" title=\"psysml:a455b6ac-bbc4-40c1-9da4-354e9f8fdc46\" xlink:actuate=\"onRequest\" xlink:href=\"psysml:a455b6ac-bbc4-40c1-9da4-354e9f8fdc46\" xlink:show=\"new\" xlink:title=\"psysml:a455b6ac-bbc4-40c1-9da4-354e9f8fdc46\" xlink:type=\"simple\"><rect fill=\"#FFFFFF\" height=\"45.9375\" id=\"E5\" style=\"stroke: #383838; stroke-width: 1.5;\" width=\"66\" x=\"158\" y=\"421\"/><text fill=\"#000000\" font-family=\"sans-serif\" font-size=\"12\" font-style=\"italic\" lengthAdjust=\"spacingAndGlyphs\" textLength=\"64\" x=\"159\" y=\"437.1387\">«part def»</text><text fill=\"#000000\" font-family=\"sans-serif\" font-size=\"12\" lengthAdjust=\"spacingAndGlyphs\" textLength=\"8\" x=\"187\" y=\"451.1074\">B</text><line style=\"stroke: #383838; stroke-width: 1.5;\" x1=\"159\" x2=\"223\" y1=\"458.9375\" y2=\"458.9375\"/></a><!--MD5=[2156ba9850f5573cc1fc38a6a4b2f02b]\n",
       "class E7--><a href=\"psysml:6b7db59d-d003-4043-9508-3fd9ac781eff\" target=\"_top\" title=\"psysml:6b7db59d-d003-4043-9508-3fd9ac781eff\" xlink:actuate=\"onRequest\" xlink:href=\"psysml:6b7db59d-d003-4043-9508-3fd9ac781eff\" xlink:show=\"new\" xlink:title=\"psysml:6b7db59d-d003-4043-9508-3fd9ac781eff\" xlink:type=\"simple\"><rect fill=\"#FFFFFF\" height=\"45.9375\" id=\"E7\" rx=\"10\" ry=\"10\" style=\"stroke: #383838; stroke-width: 1.5;\" width=\"42\" x=\"56\" y=\"138\"/><text fill=\"#000000\" font-family=\"sans-serif\" font-size=\"12\" font-style=\"italic\" lengthAdjust=\"spacingAndGlyphs\" textLength=\"40\" x=\"57\" y=\"154.1387\">«part»</text><text fill=\"#000000\" font-family=\"sans-serif\" font-size=\"12\" lengthAdjust=\"spacingAndGlyphs\" textLength=\"22\" x=\"66\" y=\"168.1074\">x: A</text><line style=\"stroke: #383838; stroke-width: 1.5;\" x1=\"57\" x2=\"97\" y1=\"175.9375\" y2=\"175.9375\"/></a><!--MD5=[b9389687b975829384b498ac4b7476b2]\n",
       "class E8--><a href=\"psysml:6c414e1f-4fb5-42fd-83aa-c158d2fbc464\" target=\"_top\" title=\"psysml:6c414e1f-4fb5-42fd-83aa-c158d2fbc464\" xlink:actuate=\"onRequest\" xlink:href=\"psysml:6c414e1f-4fb5-42fd-83aa-c158d2fbc464\" xlink:show=\"new\" xlink:title=\"psysml:6c414e1f-4fb5-42fd-83aa-c158d2fbc464\" xlink:type=\"simple\"><rect fill=\"#FFFFFF\" height=\"45.9375\" id=\"E8\" rx=\"10\" ry=\"10\" style=\"stroke: #383838; stroke-width: 1.5;\" width=\"42\" x=\"56\" y=\"219\"/><text fill=\"#000000\" font-family=\"sans-serif\" font-size=\"12\" font-style=\"italic\" lengthAdjust=\"spacingAndGlyphs\" textLength=\"40\" x=\"57\" y=\"235.1387\">«part»</text><text fill=\"#000000\" font-family=\"sans-serif\" font-size=\"12\" lengthAdjust=\"spacingAndGlyphs\" textLength=\"22\" x=\"66\" y=\"249.1074\">y: B</text><line style=\"stroke: #383838; stroke-width: 1.5;\" x1=\"57\" x2=\"97\" y1=\"256.9375\" y2=\"256.9375\"/></a><!--MD5=[96f4274e9e20536e775497830990834d]\n",
       "class E10--><a href=\"psysml:797261aa-a958-4475-9de3-b139176b10fb\" target=\"_top\" title=\"psysml:797261aa-a958-4475-9de3-b139176b10fb\" xlink:actuate=\"onRequest\" xlink:href=\"psysml:797261aa-a958-4475-9de3-b139176b10fb\" xlink:show=\"new\" xlink:title=\"psysml:797261aa-a958-4475-9de3-b139176b10fb\" xlink:type=\"simple\"><rect fill=\"#FFFFFF\" height=\"45.9375\" id=\"E10\" rx=\"10\" ry=\"10\" style=\"stroke: #383838; stroke-width: 1.5;\" width=\"42\" x=\"56\" y=\"340\"/><text fill=\"#000000\" font-family=\"sans-serif\" font-size=\"12\" font-style=\"italic\" lengthAdjust=\"spacingAndGlyphs\" textLength=\"40\" x=\"57\" y=\"356.1387\">«part»</text><text fill=\"#000000\" font-family=\"sans-serif\" font-size=\"12\" lengthAdjust=\"spacingAndGlyphs\" textLength=\"22\" x=\"66\" y=\"370.1074\">x: A</text><line style=\"stroke: #383838; stroke-width: 1.5;\" x1=\"57\" x2=\"97\" y1=\"377.9375\" y2=\"377.9375\"/></a><!--MD5=[1dd1bfd58a279cf63c5f349dbc8fc6a1]\n",
       "class E11--><a href=\"psysml:3825b43b-bb71-4033-970e-c8c9e00cfd14\" target=\"_top\" title=\"psysml:3825b43b-bb71-4033-970e-c8c9e00cfd14\" xlink:actuate=\"onRequest\" xlink:href=\"psysml:3825b43b-bb71-4033-970e-c8c9e00cfd14\" xlink:show=\"new\" xlink:title=\"psysml:3825b43b-bb71-4033-970e-c8c9e00cfd14\" xlink:type=\"simple\"><rect fill=\"#FFFFFF\" height=\"45.9375\" id=\"E11\" rx=\"10\" ry=\"10\" style=\"stroke: #383838; stroke-width: 1.5;\" width=\"42\" x=\"56\" y=\"421\"/><text fill=\"#000000\" font-family=\"sans-serif\" font-size=\"12\" font-style=\"italic\" lengthAdjust=\"spacingAndGlyphs\" textLength=\"40\" x=\"57\" y=\"437.1387\">«part»</text><text fill=\"#000000\" font-family=\"sans-serif\" font-size=\"12\" lengthAdjust=\"spacingAndGlyphs\" textLength=\"22\" x=\"66\" y=\"451.1074\">y: B</text><line style=\"stroke: #383838; stroke-width: 1.5;\" x1=\"57\" x2=\"97\" y1=\"458.9375\" y2=\"458.9375\"/></a><!--MD5=[14ccda38c055a5c0da953d572bc50960]\n",
       "link E7 to E3--><a href=\"psysml:85e1ff22-6346-4a23-846d-dc1a236203c0\" target=\"_top\" title=\"psysml:85e1ff22-6346-4a23-846d-dc1a236203c0\" xlink:actuate=\"onRequest\" xlink:href=\"psysml:85e1ff22-6346-4a23-846d-dc1a236203c0\" xlink:show=\"new\" xlink:title=\"psysml:85e1ff22-6346-4a23-846d-dc1a236203c0\" xlink:type=\"simple\"><path d=\"M98.02,161 C109.18,161 123.65,161 137.79,161 \" fill=\"none\" id=\"E7-&gt;E3\" style=\"stroke: #383838; stroke-width: 1.0;\"/><polygon fill=\"#FFFFFF\" points=\"157.86,161,138.86,168,138.86,154,157.86,161\" style=\"stroke: #383838; stroke-width: 1.0;\"/><ellipse cx=\"133.16\" cy=\"166\" fill=\"#383838\" rx=\"2\" ry=\"2\" style=\"stroke: #383838; stroke-width: 1.0;\"/><ellipse cx=\"133.16\" cy=\"156\" fill=\"#383838\" rx=\"2\" ry=\"2\" style=\"stroke: #383838; stroke-width: 1.0;\"/></a><!--MD5=[1ccb2481ffa92f8d51a74ee30c51832a]\n",
       "link E8 to E5--><a href=\"psysml:483adec0-2d55-41ba-876c-1b8fe7d429ab\" target=\"_top\" title=\"psysml:483adec0-2d55-41ba-876c-1b8fe7d429ab\" xlink:actuate=\"onRequest\" xlink:href=\"psysml:483adec0-2d55-41ba-876c-1b8fe7d429ab\" xlink:show=\"new\" xlink:title=\"psysml:483adec0-2d55-41ba-876c-1b8fe7d429ab\" xlink:type=\"simple\"><path d=\"M90.85,265.17 C109.49,298.8 144.32,361.62 167.34,403.13 \" fill=\"none\" id=\"E8-&gt;E5\" style=\"stroke: #383838; stroke-width: 1.0;\"/><polygon fill=\"#FFFFFF\" points=\"177.13,420.79,161.7919,407.5709,174.0344,400.7796,177.13,420.79\" style=\"stroke: #383838; stroke-width: 1.0;\"/><ellipse cx=\"160.7758\" cy=\"401.6163\" fill=\"#383838\" rx=\"2\" ry=\"2\" style=\"stroke: #383838; stroke-width: 1.0;\"/><ellipse cx=\"169.5204\" cy=\"396.7653\" fill=\"#383838\" rx=\"2\" ry=\"2\" style=\"stroke: #383838; stroke-width: 1.0;\"/></a><!--MD5=[feeac5eb423634930294aa81f2d25a4c]\n",
       "link E10 to E3--><a href=\"psysml:0e238847-8a3c-4f4a-a4c7-c4eca45a31b2\" target=\"_top\" title=\"psysml:0e238847-8a3c-4f4a-a4c7-c4eca45a31b2\" xlink:actuate=\"onRequest\" xlink:href=\"psysml:0e238847-8a3c-4f4a-a4c7-c4eca45a31b2\" xlink:show=\"new\" xlink:title=\"psysml:0e238847-8a3c-4f4a-a4c7-c4eca45a31b2\" xlink:type=\"simple\"><path d=\"M90.85,339.83 C109.49,306.2 144.32,243.38 167.34,201.87 \" fill=\"none\" id=\"E10-&gt;E3\" style=\"stroke: #383838; stroke-width: 1.0;\"/><polygon fill=\"#FFFFFF\" points=\"177.13,184.21,174.0344,204.2204,161.7919,197.4291,177.13,184.21\" style=\"stroke: #383838; stroke-width: 1.0;\"/><ellipse cx=\"169.5204\" cy=\"208.2347\" fill=\"#383838\" rx=\"2\" ry=\"2\" style=\"stroke: #383838; stroke-width: 1.0;\"/><ellipse cx=\"160.7758\" cy=\"203.3837\" fill=\"#383838\" rx=\"2\" ry=\"2\" style=\"stroke: #383838; stroke-width: 1.0;\"/></a><!--MD5=[07b77f6f309248d16187045709d1c26e]\n",
       "link E11 to E5--><a href=\"psysml:1112046b-9823-4ab2-8a83-96247ffb9742\" target=\"_top\" title=\"psysml:1112046b-9823-4ab2-8a83-96247ffb9742\" xlink:actuate=\"onRequest\" xlink:href=\"psysml:1112046b-9823-4ab2-8a83-96247ffb9742\" xlink:show=\"new\" xlink:title=\"psysml:1112046b-9823-4ab2-8a83-96247ffb9742\" xlink:type=\"simple\"><path d=\"M98.02,444 C109.18,444 123.65,444 137.79,444 \" fill=\"none\" id=\"E11-&gt;E5\" style=\"stroke: #383838; stroke-width: 1.0;\"/><polygon fill=\"#FFFFFF\" points=\"157.86,444,138.86,451,138.86,437,157.86,444\" style=\"stroke: #383838; stroke-width: 1.0;\"/><ellipse cx=\"133.16\" cy=\"449\" fill=\"#383838\" rx=\"2\" ry=\"2\" style=\"stroke: #383838; stroke-width: 1.0;\"/><ellipse cx=\"133.16\" cy=\"439\" fill=\"#383838\" rx=\"2\" ry=\"2\" style=\"stroke: #383838; stroke-width: 1.0;\"/></a><!--MD5=[39f41a0e550fb3d73b4d8135617e30a2]\n",
       "link E12 to E3--><a href=\"psysml:ee0d4e1c-50f8-4d3c-8a56-5035ed7c5f53\" target=\"_top\" title=\"psysml:ee0d4e1c-50f8-4d3c-8a56-5035ed7c5f53\" xlink:actuate=\"onRequest\" xlink:href=\"psysml:ee0d4e1c-50f8-4d3c-8a56-5035ed7c5f53\" xlink:show=\"new\" xlink:title=\"psysml:ee0d4e1c-50f8-4d3c-8a56-5035ed7c5f53\" xlink:type=\"simple\"><path d=\"M98.02,81.34 C111.92,93.38 130.95,109.86 148.09,124.7 \" fill=\"none\" id=\"E12-&gt;E3\" style=\"stroke: #383838; stroke-width: 1.0;\"/><polygon fill=\"#FFFFFF\" points=\"163.41,137.97,144.4677,130.8155,153.6371,120.2361,163.41,137.97\" style=\"stroke: #383838; stroke-width: 1.0;\"/><ellipse cx=\"141.4703\" cy=\"125.5709\" fill=\"#383838\" rx=\"2\" ry=\"2\" style=\"stroke: #383838; stroke-width: 1.0;\"/><ellipse cx=\"148.0199\" cy=\"118.0142\" fill=\"#383838\" rx=\"2\" ry=\"2\" style=\"stroke: #383838; stroke-width: 1.0;\"/></a><!--MD5=[066b2d8af59fea80ccdb3d54ad5c1091]\n",
       "link E13 to E5--><a href=\"psysml:1d6f62f5-9885-441d-bead-3e38c1577759\" target=\"_top\" title=\"psysml:1d6f62f5-9885-441d-bead-3e38c1577759\" xlink:actuate=\"onRequest\" xlink:href=\"psysml:1d6f62f5-9885-441d-bead-3e38c1577759\" xlink:show=\"new\" xlink:title=\"psysml:1d6f62f5-9885-441d-bead-3e38c1577759\" xlink:type=\"simple\"><path d=\"M98.02,510.52 C110.09,501.79 126.03,490.27 141.24,479.27 \" fill=\"none\" id=\"E13-&gt;E5\" style=\"stroke: #383838; stroke-width: 1.0;\"/><polygon fill=\"#FFFFFF\" points=\"157.86,467.25,146.5582,484.0509,138.3595,472.7027,157.86,467.25\" style=\"stroke: #383838; stroke-width: 1.0;\"/><ellipse cx=\"140.7667\" cy=\"485.7678\" fill=\"#383838\" rx=\"2\" ry=\"2\" style=\"stroke: #383838; stroke-width: 1.0;\"/><ellipse cx=\"134.9104\" cy=\"477.6619\" fill=\"#383838\" rx=\"2\" ry=\"2\" style=\"stroke: #383838; stroke-width: 1.0;\"/></a><!--MD5=[e7f85d68494a0e8f60f8cffd72259741]\n",
       "@startuml\r\n",
       "left to right direction\r\n",
       "skinparam monochrome true\r\n",
       "skinparam classbackgroundcolor white\r\n",
       "skinparam shadowing false\r\n",
       "skinparam wrapWidth 300\r\n",
       "hide circle\r\n",
       "\r\n",
       "package \"CircularImport\" as E1  [[psysml:6a62b0bb-ce07-42d9-b06f-c19bd22a93a2 ]]  {\r\n",
       "package \"P1\" as E2  [[psysml:e5793e48-aebf-4c77-9b1c-634d316c370a ]]  {\r\n",
       "comp def \"A\" as E3  <<(T,blue)part def>> [[psysml:4745677c-bede-4ab8-acdc-4365dad759bc ]] {\r\n",
       "}\r\n",
       "}\r\n",
       "package \"P2\" as E4  [[psysml:9f128572-3fea-4fc4-b18b-c92f97cc0f0b ]]  {\r\n",
       "comp def \"B\" as E5  <<(T,blue)part def>> [[psysml:a455b6ac-bbc4-40c1-9da4-354e9f8fdc46 ]] {\r\n",
       "}\r\n",
       "}\r\n",
       "package \"Test1\" as E6  [[psysml:6c517ad3-81f8-4503-b234-41386708eb5e ]]  {\r\n",
       "comp usage \"x: A\" as E7  <<(T,blue)part>> [[psysml:6b7db59d-d003-4043-9508-3fd9ac781eff ]] {\r\n",
       "}\r\n",
       "comp usage \"y: B\" as E8  <<(T,blue)part>> [[psysml:6c414e1f-4fb5-42fd-83aa-c158d2fbc464 ]] {\r\n",
       "}\r\n",
       "E7 - -:|> E3 [[psysml:85e1ff22-6346-4a23-846d-dc1a236203c0 ]] \r\n",
       "E8 - -:|> E5 [[psysml:483adec0-2d55-41ba-876c-1b8fe7d429ab ]] \r\n",
       "}\r\n",
       "package \"Test2\" as E9  [[psysml:81951965-8d4b-42c4-ba21-4255f6488007 ]]  {\r\n",
       "comp usage \"x: A\" as E10  <<(T,blue)part>> [[psysml:797261aa-a958-4475-9de3-b139176b10fb ]] {\r\n",
       "}\r\n",
       "comp usage \"y: B\" as E11  <<(T,blue)part>> [[psysml:3825b43b-bb71-4033-970e-c8c9e00cfd14 ]] {\r\n",
       "}\r\n",
       "E10 - -:|> E3 [[psysml:0e238847-8a3c-4f4a-a4c7-c4eca45a31b2 ]] \r\n",
       "E11 - -:|> E5 [[psysml:1112046b-9823-4ab2-8a83-96247ffb9742 ]] \r\n",
       "}\r\n",
       "comp usage \"x: A\" as E12  <<(T,blue)part>> [[psysml:e16c4bbb-61f3-4b61-a2b5-b03e29e494af ]] {\r\n",
       "}\r\n",
       "comp usage \"y: B\" as E13  <<(T,blue)part>> [[psysml:6a814915-eeda-4c4d-8e98-a86878ae1f3d ]] {\r\n",
       "}\r\n",
       "E12 - -:|> E3 [[psysml:ee0d4e1c-50f8-4d3c-8a56-5035ed7c5f53 ]] \r\n",
       "E13 - -:|> E5 [[psysml:1d6f62f5-9885-441d-bead-3e38c1577759 ]] \r\n",
       "}\r\n",
       "@enduml\r\n",
       "\n",
       "PlantUML version 1.2020.13(Sat Jun 13 12:26:38 UTC 2020)\n",
       "(EPL source distribution)\n",
       "Java Runtime: OpenJDK Runtime Environment\n",
       "JVM: OpenJDK 64-Bit Server VM\n",
       "Default Encoding: UTF-8\n",
       "Language: en\n",
       "Country: null\n",
       "--></g></svg>"
      ]
     },
     "execution_count": 16,
     "metadata": {},
     "output_type": "execute_result"
    }
   ],
   "source": [
    "%viz --style=\"LR\" --view=\"Default\" \"CircularImport\""
   ]
  },
  {
   "cell_type": "code",
   "execution_count": 17,
   "id": "adjustable-organizer",
   "metadata": {
    "execution": {
     "iopub.execute_input": "2021-03-25T13:13:17.531652Z",
     "iopub.status.busy": "2021-03-25T13:13:17.531202Z",
     "iopub.status.idle": "2021-03-25T13:13:17.671513Z",
     "shell.execute_reply": "2021-03-25T13:13:17.672155Z"
    }
   },
   "outputs": [
    {
     "data": {
      "image/svg+xml": [
       "<?xml version=\"1.0\" encoding=\"UTF-8\" standalone=\"no\"?><svg xmlns=\"http://www.w3.org/2000/svg\" xmlns:xlink=\"http://www.w3.org/1999/xlink\" contentScriptType=\"application/ecmascript\" contentStyleType=\"text/css\" height=\"576px\" preserveAspectRatio=\"none\" style=\"width:286px;height:576px;\" version=\"1.1\" viewBox=\"0 0 286 576\" width=\"286px\" zoomAndPan=\"magnify\"><defs/><g><!--MD5=[fbc87193dbaf4d95561dea2c320d4a47]\n",
       "cluster E1--><a href=\"psysml:6a62b0bb-ce07-42d9-b06f-c19bd22a93a2\" target=\"_top\" title=\"psysml:6a62b0bb-ce07-42d9-b06f-c19bd22a93a2\" xlink:actuate=\"onRequest\" xlink:href=\"psysml:6a62b0bb-ce07-42d9-b06f-c19bd22a93a2\" xlink:show=\"new\" xlink:title=\"psysml:6a62b0bb-ce07-42d9-b06f-c19bd22a93a2\" xlink:type=\"simple\"><polygon fill=\"#FFFFFF\" points=\"16,6,134,6,141,28.2969,264,28.2969,264,564,16,564,16,6\" style=\"stroke: #000000; stroke-width: 1.5;\"/><line style=\"stroke: #000000; stroke-width: 1.5;\" x1=\"16\" x2=\"141\" y1=\"28.2969\" y2=\"28.2969\"/><text fill=\"#000000\" font-family=\"sans-serif\" font-size=\"14\" font-weight=\"bold\" lengthAdjust=\"spacingAndGlyphs\" textLength=\"112\" x=\"20\" y=\"20.9951\">CircularImport</text></a><!--MD5=[e4f7fae6ed58524ba242bb0b0d3be6b7]\n",
       "cluster E2--><a href=\"psysml:e5793e48-aebf-4c77-9b1c-634d316c370a\" target=\"_top\" title=\"psysml:e5793e48-aebf-4c77-9b1c-634d316c370a\" xlink:actuate=\"onRequest\" xlink:href=\"psysml:e5793e48-aebf-4c77-9b1c-634d316c370a\" xlink:show=\"new\" xlink:title=\"psysml:e5793e48-aebf-4c77-9b1c-634d316c370a\" xlink:type=\"simple\"><polygon fill=\"#FFFFFF\" points=\"142,103,168,103,175,125.2969,240,125.2969,240,200,142,200,142,103\" style=\"stroke: #000000; stroke-width: 1.5;\"/><line style=\"stroke: #000000; stroke-width: 1.5;\" x1=\"142\" x2=\"175\" y1=\"125.2969\" y2=\"125.2969\"/><text fill=\"#000000\" font-family=\"sans-serif\" font-size=\"14\" font-weight=\"bold\" lengthAdjust=\"spacingAndGlyphs\" textLength=\"20\" x=\"146\" y=\"117.9951\">P1</text></a><!--MD5=[f6df4d0ebaf0b5dfb2ced0ae5af7c670]\n",
       "cluster E4--><a href=\"psysml:9f128572-3fea-4fc4-b18b-c92f97cc0f0b\" target=\"_top\" title=\"psysml:9f128572-3fea-4fc4-b18b-c92f97cc0f0b\" xlink:actuate=\"onRequest\" xlink:href=\"psysml:9f128572-3fea-4fc4-b18b-c92f97cc0f0b\" xlink:show=\"new\" xlink:title=\"psysml:9f128572-3fea-4fc4-b18b-c92f97cc0f0b\" xlink:type=\"simple\"><polygon fill=\"#FFFFFF\" points=\"142,386,168,386,175,408.2969,240,408.2969,240,483,142,483,142,386\" style=\"stroke: #000000; stroke-width: 1.5;\"/><line style=\"stroke: #000000; stroke-width: 1.5;\" x1=\"142\" x2=\"175\" y1=\"408.2969\" y2=\"408.2969\"/><text fill=\"#000000\" font-family=\"sans-serif\" font-size=\"14\" font-weight=\"bold\" lengthAdjust=\"spacingAndGlyphs\" textLength=\"20\" x=\"146\" y=\"400.9951\">P2</text></a><!--MD5=[14e3b0961a2654348d326746436168a1]\n",
       "cluster E6--><a href=\"psysml:6c517ad3-81f8-4503-b234-41386708eb5e\" target=\"_top\" title=\"psysml:6c517ad3-81f8-4503-b234-41386708eb5e\" xlink:actuate=\"onRequest\" xlink:href=\"psysml:6c517ad3-81f8-4503-b234-41386708eb5e\" xlink:show=\"new\" xlink:title=\"psysml:6c517ad3-81f8-4503-b234-41386708eb5e\" xlink:type=\"simple\"><polygon fill=\"#FFFFFF\" points=\"40,103,91,103,98,125.2969,114,125.2969,114,281,40,281,40,103\" style=\"stroke: #000000; stroke-width: 1.5;\"/><line style=\"stroke: #000000; stroke-width: 1.5;\" x1=\"40\" x2=\"98\" y1=\"125.2969\" y2=\"125.2969\"/><text fill=\"#000000\" font-family=\"sans-serif\" font-size=\"14\" font-weight=\"bold\" lengthAdjust=\"spacingAndGlyphs\" textLength=\"45\" x=\"44\" y=\"117.9951\">Test1</text></a><!--MD5=[7f149f147074ac12df2cb0a7728a5fb0]\n",
       "cluster E9--><a href=\"psysml:81951965-8d4b-42c4-ba21-4255f6488007\" target=\"_top\" title=\"psysml:81951965-8d4b-42c4-ba21-4255f6488007\" xlink:actuate=\"onRequest\" xlink:href=\"psysml:81951965-8d4b-42c4-ba21-4255f6488007\" xlink:show=\"new\" xlink:title=\"psysml:81951965-8d4b-42c4-ba21-4255f6488007\" xlink:type=\"simple\"><polygon fill=\"#FFFFFF\" points=\"40,305,91,305,98,327.2969,114,327.2969,114,483,40,483,40,305\" style=\"stroke: #000000; stroke-width: 1.5;\"/><line style=\"stroke: #000000; stroke-width: 1.5;\" x1=\"40\" x2=\"98\" y1=\"327.2969\" y2=\"327.2969\"/><text fill=\"#000000\" font-family=\"sans-serif\" font-size=\"14\" font-weight=\"bold\" lengthAdjust=\"spacingAndGlyphs\" textLength=\"45\" x=\"44\" y=\"319.9951\">Test2</text></a><!--MD5=[49a0ec8f00dab7302a31f22d0f0fe584]\n",
       "class E12--><a href=\"psysml:e16c4bbb-61f3-4b61-a2b5-b03e29e494af\" target=\"_top\" title=\"psysml:e16c4bbb-61f3-4b61-a2b5-b03e29e494af\" xlink:actuate=\"onRequest\" xlink:href=\"psysml:e16c4bbb-61f3-4b61-a2b5-b03e29e494af\" xlink:show=\"new\" xlink:title=\"psysml:e16c4bbb-61f3-4b61-a2b5-b03e29e494af\" xlink:type=\"simple\"><rect fill=\"#FFFFFF\" height=\"45.9375\" id=\"E12\" rx=\"10\" ry=\"10\" style=\"stroke: #383838; stroke-width: 1.5;\" width=\"42\" x=\"56\" y=\"41\"/><text fill=\"#000000\" font-family=\"sans-serif\" font-size=\"12\" font-style=\"italic\" lengthAdjust=\"spacingAndGlyphs\" textLength=\"40\" x=\"57\" y=\"57.1387\">«part»</text><text fill=\"#000000\" font-family=\"sans-serif\" font-size=\"12\" lengthAdjust=\"spacingAndGlyphs\" textLength=\"22\" x=\"66\" y=\"71.1074\">x: A</text><line style=\"stroke: #383838; stroke-width: 1.5;\" x1=\"57\" x2=\"97\" y1=\"78.9375\" y2=\"78.9375\"/></a><!--MD5=[ee3c913d1a06f366521f9ef512b67efe]\n",
       "class E13--><a href=\"psysml:6a814915-eeda-4c4d-8e98-a86878ae1f3d\" target=\"_top\" title=\"psysml:6a814915-eeda-4c4d-8e98-a86878ae1f3d\" xlink:actuate=\"onRequest\" xlink:href=\"psysml:6a814915-eeda-4c4d-8e98-a86878ae1f3d\" xlink:show=\"new\" xlink:title=\"psysml:6a814915-eeda-4c4d-8e98-a86878ae1f3d\" xlink:type=\"simple\"><rect fill=\"#FFFFFF\" height=\"45.9375\" id=\"E13\" rx=\"10\" ry=\"10\" style=\"stroke: #383838; stroke-width: 1.5;\" width=\"42\" x=\"56\" y=\"502\"/><text fill=\"#000000\" font-family=\"sans-serif\" font-size=\"12\" font-style=\"italic\" lengthAdjust=\"spacingAndGlyphs\" textLength=\"40\" x=\"57\" y=\"518.1387\">«part»</text><text fill=\"#000000\" font-family=\"sans-serif\" font-size=\"12\" lengthAdjust=\"spacingAndGlyphs\" textLength=\"22\" x=\"66\" y=\"532.1074\">y: B</text><line style=\"stroke: #383838; stroke-width: 1.5;\" x1=\"57\" x2=\"97\" y1=\"539.9375\" y2=\"539.9375\"/></a><!--MD5=[09b614a08d8cba4a07c9adeb5e0fee81]\n",
       "class E3--><a href=\"psysml:4745677c-bede-4ab8-acdc-4365dad759bc\" target=\"_top\" title=\"psysml:4745677c-bede-4ab8-acdc-4365dad759bc\" xlink:actuate=\"onRequest\" xlink:href=\"psysml:4745677c-bede-4ab8-acdc-4365dad759bc\" xlink:show=\"new\" xlink:title=\"psysml:4745677c-bede-4ab8-acdc-4365dad759bc\" xlink:type=\"simple\"><rect fill=\"#FFFFFF\" height=\"45.9375\" id=\"E3\" style=\"stroke: #383838; stroke-width: 1.5;\" width=\"66\" x=\"158\" y=\"138\"/><text fill=\"#000000\" font-family=\"sans-serif\" font-size=\"12\" font-style=\"italic\" lengthAdjust=\"spacingAndGlyphs\" textLength=\"64\" x=\"159\" y=\"154.1387\">«part def»</text><text fill=\"#000000\" font-family=\"sans-serif\" font-size=\"12\" lengthAdjust=\"spacingAndGlyphs\" textLength=\"8\" x=\"187\" y=\"168.1074\">A</text><line style=\"stroke: #383838; stroke-width: 1.5;\" x1=\"159\" x2=\"223\" y1=\"175.9375\" y2=\"175.9375\"/></a><!--MD5=[270fce915f116d4de14055a7c1d9a0f3]\n",
       "class E5--><a href=\"psysml:a455b6ac-bbc4-40c1-9da4-354e9f8fdc46\" target=\"_top\" title=\"psysml:a455b6ac-bbc4-40c1-9da4-354e9f8fdc46\" xlink:actuate=\"onRequest\" xlink:href=\"psysml:a455b6ac-bbc4-40c1-9da4-354e9f8fdc46\" xlink:show=\"new\" xlink:title=\"psysml:a455b6ac-bbc4-40c1-9da4-354e9f8fdc46\" xlink:type=\"simple\"><rect fill=\"#FFFFFF\" height=\"45.9375\" id=\"E5\" style=\"stroke: #383838; stroke-width: 1.5;\" width=\"66\" x=\"158\" y=\"421\"/><text fill=\"#000000\" font-family=\"sans-serif\" font-size=\"12\" font-style=\"italic\" lengthAdjust=\"spacingAndGlyphs\" textLength=\"64\" x=\"159\" y=\"437.1387\">«part def»</text><text fill=\"#000000\" font-family=\"sans-serif\" font-size=\"12\" lengthAdjust=\"spacingAndGlyphs\" textLength=\"8\" x=\"187\" y=\"451.1074\">B</text><line style=\"stroke: #383838; stroke-width: 1.5;\" x1=\"159\" x2=\"223\" y1=\"458.9375\" y2=\"458.9375\"/></a><!--MD5=[2156ba9850f5573cc1fc38a6a4b2f02b]\n",
       "class E7--><a href=\"psysml:6b7db59d-d003-4043-9508-3fd9ac781eff\" target=\"_top\" title=\"psysml:6b7db59d-d003-4043-9508-3fd9ac781eff\" xlink:actuate=\"onRequest\" xlink:href=\"psysml:6b7db59d-d003-4043-9508-3fd9ac781eff\" xlink:show=\"new\" xlink:title=\"psysml:6b7db59d-d003-4043-9508-3fd9ac781eff\" xlink:type=\"simple\"><rect fill=\"#FFFFFF\" height=\"45.9375\" id=\"E7\" rx=\"10\" ry=\"10\" style=\"stroke: #383838; stroke-width: 1.5;\" width=\"42\" x=\"56\" y=\"138\"/><text fill=\"#000000\" font-family=\"sans-serif\" font-size=\"12\" font-style=\"italic\" lengthAdjust=\"spacingAndGlyphs\" textLength=\"40\" x=\"57\" y=\"154.1387\">«part»</text><text fill=\"#000000\" font-family=\"sans-serif\" font-size=\"12\" lengthAdjust=\"spacingAndGlyphs\" textLength=\"22\" x=\"66\" y=\"168.1074\">x: A</text><line style=\"stroke: #383838; stroke-width: 1.5;\" x1=\"57\" x2=\"97\" y1=\"175.9375\" y2=\"175.9375\"/></a><!--MD5=[b9389687b975829384b498ac4b7476b2]\n",
       "class E8--><a href=\"psysml:6c414e1f-4fb5-42fd-83aa-c158d2fbc464\" target=\"_top\" title=\"psysml:6c414e1f-4fb5-42fd-83aa-c158d2fbc464\" xlink:actuate=\"onRequest\" xlink:href=\"psysml:6c414e1f-4fb5-42fd-83aa-c158d2fbc464\" xlink:show=\"new\" xlink:title=\"psysml:6c414e1f-4fb5-42fd-83aa-c158d2fbc464\" xlink:type=\"simple\"><rect fill=\"#FFFFFF\" height=\"45.9375\" id=\"E8\" rx=\"10\" ry=\"10\" style=\"stroke: #383838; stroke-width: 1.5;\" width=\"42\" x=\"56\" y=\"219\"/><text fill=\"#000000\" font-family=\"sans-serif\" font-size=\"12\" font-style=\"italic\" lengthAdjust=\"spacingAndGlyphs\" textLength=\"40\" x=\"57\" y=\"235.1387\">«part»</text><text fill=\"#000000\" font-family=\"sans-serif\" font-size=\"12\" lengthAdjust=\"spacingAndGlyphs\" textLength=\"22\" x=\"66\" y=\"249.1074\">y: B</text><line style=\"stroke: #383838; stroke-width: 1.5;\" x1=\"57\" x2=\"97\" y1=\"256.9375\" y2=\"256.9375\"/></a><!--MD5=[96f4274e9e20536e775497830990834d]\n",
       "class E10--><a href=\"psysml:797261aa-a958-4475-9de3-b139176b10fb\" target=\"_top\" title=\"psysml:797261aa-a958-4475-9de3-b139176b10fb\" xlink:actuate=\"onRequest\" xlink:href=\"psysml:797261aa-a958-4475-9de3-b139176b10fb\" xlink:show=\"new\" xlink:title=\"psysml:797261aa-a958-4475-9de3-b139176b10fb\" xlink:type=\"simple\"><rect fill=\"#FFFFFF\" height=\"45.9375\" id=\"E10\" rx=\"10\" ry=\"10\" style=\"stroke: #383838; stroke-width: 1.5;\" width=\"42\" x=\"56\" y=\"340\"/><text fill=\"#000000\" font-family=\"sans-serif\" font-size=\"12\" font-style=\"italic\" lengthAdjust=\"spacingAndGlyphs\" textLength=\"40\" x=\"57\" y=\"356.1387\">«part»</text><text fill=\"#000000\" font-family=\"sans-serif\" font-size=\"12\" lengthAdjust=\"spacingAndGlyphs\" textLength=\"22\" x=\"66\" y=\"370.1074\">x: A</text><line style=\"stroke: #383838; stroke-width: 1.5;\" x1=\"57\" x2=\"97\" y1=\"377.9375\" y2=\"377.9375\"/></a><!--MD5=[1dd1bfd58a279cf63c5f349dbc8fc6a1]\n",
       "class E11--><a href=\"psysml:3825b43b-bb71-4033-970e-c8c9e00cfd14\" target=\"_top\" title=\"psysml:3825b43b-bb71-4033-970e-c8c9e00cfd14\" xlink:actuate=\"onRequest\" xlink:href=\"psysml:3825b43b-bb71-4033-970e-c8c9e00cfd14\" xlink:show=\"new\" xlink:title=\"psysml:3825b43b-bb71-4033-970e-c8c9e00cfd14\" xlink:type=\"simple\"><rect fill=\"#FFFFFF\" height=\"45.9375\" id=\"E11\" rx=\"10\" ry=\"10\" style=\"stroke: #383838; stroke-width: 1.5;\" width=\"42\" x=\"56\" y=\"421\"/><text fill=\"#000000\" font-family=\"sans-serif\" font-size=\"12\" font-style=\"italic\" lengthAdjust=\"spacingAndGlyphs\" textLength=\"40\" x=\"57\" y=\"437.1387\">«part»</text><text fill=\"#000000\" font-family=\"sans-serif\" font-size=\"12\" lengthAdjust=\"spacingAndGlyphs\" textLength=\"22\" x=\"66\" y=\"451.1074\">y: B</text><line style=\"stroke: #383838; stroke-width: 1.5;\" x1=\"57\" x2=\"97\" y1=\"458.9375\" y2=\"458.9375\"/></a><!--MD5=[14ccda38c055a5c0da953d572bc50960]\n",
       "link E7 to E3--><a href=\"psysml:85e1ff22-6346-4a23-846d-dc1a236203c0\" target=\"_top\" title=\"psysml:85e1ff22-6346-4a23-846d-dc1a236203c0\" xlink:actuate=\"onRequest\" xlink:href=\"psysml:85e1ff22-6346-4a23-846d-dc1a236203c0\" xlink:show=\"new\" xlink:title=\"psysml:85e1ff22-6346-4a23-846d-dc1a236203c0\" xlink:type=\"simple\"><path d=\"M98.02,161 C109.18,161 123.65,161 137.79,161 \" fill=\"none\" id=\"E7-&gt;E3\" style=\"stroke: #383838; stroke-width: 1.0;\"/><polygon fill=\"#FFFFFF\" points=\"157.86,161,138.86,168,138.86,154,157.86,161\" style=\"stroke: #383838; stroke-width: 1.0;\"/><ellipse cx=\"133.16\" cy=\"166\" fill=\"#383838\" rx=\"2\" ry=\"2\" style=\"stroke: #383838; stroke-width: 1.0;\"/><ellipse cx=\"133.16\" cy=\"156\" fill=\"#383838\" rx=\"2\" ry=\"2\" style=\"stroke: #383838; stroke-width: 1.0;\"/></a><!--MD5=[1ccb2481ffa92f8d51a74ee30c51832a]\n",
       "link E8 to E5--><a href=\"psysml:483adec0-2d55-41ba-876c-1b8fe7d429ab\" target=\"_top\" title=\"psysml:483adec0-2d55-41ba-876c-1b8fe7d429ab\" xlink:actuate=\"onRequest\" xlink:href=\"psysml:483adec0-2d55-41ba-876c-1b8fe7d429ab\" xlink:show=\"new\" xlink:title=\"psysml:483adec0-2d55-41ba-876c-1b8fe7d429ab\" xlink:type=\"simple\"><path d=\"M90.85,265.17 C109.49,298.8 144.32,361.62 167.34,403.13 \" fill=\"none\" id=\"E8-&gt;E5\" style=\"stroke: #383838; stroke-width: 1.0;\"/><polygon fill=\"#FFFFFF\" points=\"177.13,420.79,161.7919,407.5709,174.0344,400.7796,177.13,420.79\" style=\"stroke: #383838; stroke-width: 1.0;\"/><ellipse cx=\"160.7758\" cy=\"401.6163\" fill=\"#383838\" rx=\"2\" ry=\"2\" style=\"stroke: #383838; stroke-width: 1.0;\"/><ellipse cx=\"169.5204\" cy=\"396.7653\" fill=\"#383838\" rx=\"2\" ry=\"2\" style=\"stroke: #383838; stroke-width: 1.0;\"/></a><!--MD5=[feeac5eb423634930294aa81f2d25a4c]\n",
       "link E10 to E3--><a href=\"psysml:0e238847-8a3c-4f4a-a4c7-c4eca45a31b2\" target=\"_top\" title=\"psysml:0e238847-8a3c-4f4a-a4c7-c4eca45a31b2\" xlink:actuate=\"onRequest\" xlink:href=\"psysml:0e238847-8a3c-4f4a-a4c7-c4eca45a31b2\" xlink:show=\"new\" xlink:title=\"psysml:0e238847-8a3c-4f4a-a4c7-c4eca45a31b2\" xlink:type=\"simple\"><path d=\"M90.85,339.83 C109.49,306.2 144.32,243.38 167.34,201.87 \" fill=\"none\" id=\"E10-&gt;E3\" style=\"stroke: #383838; stroke-width: 1.0;\"/><polygon fill=\"#FFFFFF\" points=\"177.13,184.21,174.0344,204.2204,161.7919,197.4291,177.13,184.21\" style=\"stroke: #383838; stroke-width: 1.0;\"/><ellipse cx=\"169.5204\" cy=\"208.2347\" fill=\"#383838\" rx=\"2\" ry=\"2\" style=\"stroke: #383838; stroke-width: 1.0;\"/><ellipse cx=\"160.7758\" cy=\"203.3837\" fill=\"#383838\" rx=\"2\" ry=\"2\" style=\"stroke: #383838; stroke-width: 1.0;\"/></a><!--MD5=[07b77f6f309248d16187045709d1c26e]\n",
       "link E11 to E5--><a href=\"psysml:1112046b-9823-4ab2-8a83-96247ffb9742\" target=\"_top\" title=\"psysml:1112046b-9823-4ab2-8a83-96247ffb9742\" xlink:actuate=\"onRequest\" xlink:href=\"psysml:1112046b-9823-4ab2-8a83-96247ffb9742\" xlink:show=\"new\" xlink:title=\"psysml:1112046b-9823-4ab2-8a83-96247ffb9742\" xlink:type=\"simple\"><path d=\"M98.02,444 C109.18,444 123.65,444 137.79,444 \" fill=\"none\" id=\"E11-&gt;E5\" style=\"stroke: #383838; stroke-width: 1.0;\"/><polygon fill=\"#FFFFFF\" points=\"157.86,444,138.86,451,138.86,437,157.86,444\" style=\"stroke: #383838; stroke-width: 1.0;\"/><ellipse cx=\"133.16\" cy=\"449\" fill=\"#383838\" rx=\"2\" ry=\"2\" style=\"stroke: #383838; stroke-width: 1.0;\"/><ellipse cx=\"133.16\" cy=\"439\" fill=\"#383838\" rx=\"2\" ry=\"2\" style=\"stroke: #383838; stroke-width: 1.0;\"/></a><!--MD5=[39f41a0e550fb3d73b4d8135617e30a2]\n",
       "link E12 to E3--><a href=\"psysml:ee0d4e1c-50f8-4d3c-8a56-5035ed7c5f53\" target=\"_top\" title=\"psysml:ee0d4e1c-50f8-4d3c-8a56-5035ed7c5f53\" xlink:actuate=\"onRequest\" xlink:href=\"psysml:ee0d4e1c-50f8-4d3c-8a56-5035ed7c5f53\" xlink:show=\"new\" xlink:title=\"psysml:ee0d4e1c-50f8-4d3c-8a56-5035ed7c5f53\" xlink:type=\"simple\"><path d=\"M98.02,81.34 C111.92,93.38 130.95,109.86 148.09,124.7 \" fill=\"none\" id=\"E12-&gt;E3\" style=\"stroke: #383838; stroke-width: 1.0;\"/><polygon fill=\"#FFFFFF\" points=\"163.41,137.97,144.4677,130.8155,153.6371,120.2361,163.41,137.97\" style=\"stroke: #383838; stroke-width: 1.0;\"/><ellipse cx=\"141.4703\" cy=\"125.5709\" fill=\"#383838\" rx=\"2\" ry=\"2\" style=\"stroke: #383838; stroke-width: 1.0;\"/><ellipse cx=\"148.0199\" cy=\"118.0142\" fill=\"#383838\" rx=\"2\" ry=\"2\" style=\"stroke: #383838; stroke-width: 1.0;\"/></a><!--MD5=[066b2d8af59fea80ccdb3d54ad5c1091]\n",
       "link E13 to E5--><a href=\"psysml:1d6f62f5-9885-441d-bead-3e38c1577759\" target=\"_top\" title=\"psysml:1d6f62f5-9885-441d-bead-3e38c1577759\" xlink:actuate=\"onRequest\" xlink:href=\"psysml:1d6f62f5-9885-441d-bead-3e38c1577759\" xlink:show=\"new\" xlink:title=\"psysml:1d6f62f5-9885-441d-bead-3e38c1577759\" xlink:type=\"simple\"><path d=\"M98.02,510.52 C110.09,501.79 126.03,490.27 141.24,479.27 \" fill=\"none\" id=\"E13-&gt;E5\" style=\"stroke: #383838; stroke-width: 1.0;\"/><polygon fill=\"#FFFFFF\" points=\"157.86,467.25,146.5582,484.0509,138.3595,472.7027,157.86,467.25\" style=\"stroke: #383838; stroke-width: 1.0;\"/><ellipse cx=\"140.7667\" cy=\"485.7678\" fill=\"#383838\" rx=\"2\" ry=\"2\" style=\"stroke: #383838; stroke-width: 1.0;\"/><ellipse cx=\"134.9104\" cy=\"477.6619\" fill=\"#383838\" rx=\"2\" ry=\"2\" style=\"stroke: #383838; stroke-width: 1.0;\"/></a><!--MD5=[e7f85d68494a0e8f60f8cffd72259741]\n",
       "@startuml\r\n",
       "left to right direction\r\n",
       "skinparam monochrome true\r\n",
       "skinparam classbackgroundcolor white\r\n",
       "skinparam shadowing false\r\n",
       "skinparam wrapWidth 300\r\n",
       "hide circle\r\n",
       "\r\n",
       "package \"CircularImport\" as E1  [[psysml:6a62b0bb-ce07-42d9-b06f-c19bd22a93a2 ]]  {\r\n",
       "package \"P1\" as E2  [[psysml:e5793e48-aebf-4c77-9b1c-634d316c370a ]]  {\r\n",
       "comp def \"A\" as E3  <<(T,blue)part def>> [[psysml:4745677c-bede-4ab8-acdc-4365dad759bc ]] {\r\n",
       "}\r\n",
       "}\r\n",
       "package \"P2\" as E4  [[psysml:9f128572-3fea-4fc4-b18b-c92f97cc0f0b ]]  {\r\n",
       "comp def \"B\" as E5  <<(T,blue)part def>> [[psysml:a455b6ac-bbc4-40c1-9da4-354e9f8fdc46 ]] {\r\n",
       "}\r\n",
       "}\r\n",
       "package \"Test1\" as E6  [[psysml:6c517ad3-81f8-4503-b234-41386708eb5e ]]  {\r\n",
       "comp usage \"x: A\" as E7  <<(T,blue)part>> [[psysml:6b7db59d-d003-4043-9508-3fd9ac781eff ]] {\r\n",
       "}\r\n",
       "comp usage \"y: B\" as E8  <<(T,blue)part>> [[psysml:6c414e1f-4fb5-42fd-83aa-c158d2fbc464 ]] {\r\n",
       "}\r\n",
       "E7 - -:|> E3 [[psysml:85e1ff22-6346-4a23-846d-dc1a236203c0 ]] \r\n",
       "E8 - -:|> E5 [[psysml:483adec0-2d55-41ba-876c-1b8fe7d429ab ]] \r\n",
       "}\r\n",
       "package \"Test2\" as E9  [[psysml:81951965-8d4b-42c4-ba21-4255f6488007 ]]  {\r\n",
       "comp usage \"x: A\" as E10  <<(T,blue)part>> [[psysml:797261aa-a958-4475-9de3-b139176b10fb ]] {\r\n",
       "}\r\n",
       "comp usage \"y: B\" as E11  <<(T,blue)part>> [[psysml:3825b43b-bb71-4033-970e-c8c9e00cfd14 ]] {\r\n",
       "}\r\n",
       "E10 - -:|> E3 [[psysml:0e238847-8a3c-4f4a-a4c7-c4eca45a31b2 ]] \r\n",
       "E11 - -:|> E5 [[psysml:1112046b-9823-4ab2-8a83-96247ffb9742 ]] \r\n",
       "}\r\n",
       "comp usage \"x: A\" as E12  <<(T,blue)part>> [[psysml:e16c4bbb-61f3-4b61-a2b5-b03e29e494af ]] {\r\n",
       "}\r\n",
       "comp usage \"y: B\" as E13  <<(T,blue)part>> [[psysml:6a814915-eeda-4c4d-8e98-a86878ae1f3d ]] {\r\n",
       "}\r\n",
       "E12 - -:|> E3 [[psysml:ee0d4e1c-50f8-4d3c-8a56-5035ed7c5f53 ]] \r\n",
       "E13 - -:|> E5 [[psysml:1d6f62f5-9885-441d-bead-3e38c1577759 ]] \r\n",
       "}\r\n",
       "@enduml\r\n",
       "\n",
       "PlantUML version 1.2020.13(Sat Jun 13 12:26:38 UTC 2020)\n",
       "(EPL source distribution)\n",
       "Java Runtime: OpenJDK Runtime Environment\n",
       "JVM: OpenJDK 64-Bit Server VM\n",
       "Default Encoding: UTF-8\n",
       "Language: en\n",
       "Country: null\n",
       "--></g></svg>"
      ]
     },
     "execution_count": 17,
     "metadata": {},
     "output_type": "execute_result"
    }
   ],
   "source": [
    "%viz --style=\"LR\" --view=\"Tree\" \"CircularImport\""
   ]
  },
  {
   "cell_type": "code",
   "execution_count": 18,
   "id": "unique-madness",
   "metadata": {
    "execution": {
     "iopub.execute_input": "2021-03-25T13:13:17.721794Z",
     "iopub.status.busy": "2021-03-25T13:13:17.721061Z",
     "iopub.status.idle": "2021-03-25T13:13:17.729379Z",
     "shell.execute_reply": "2021-03-25T13:13:17.729838Z"
    }
   },
   "outputs": [
    {
     "data": {
      "image/svg+xml": [
       "<?xml version=\"1.0\" encoding=\"UTF-8\" standalone=\"no\"?><svg xmlns=\"http://www.w3.org/2000/svg\" xmlns:xlink=\"http://www.w3.org/1999/xlink\" contentScriptType=\"application/ecmascript\" contentStyleType=\"text/css\" height=\"12px\" preserveAspectRatio=\"none\" style=\"width:12px;height:12px;\" version=\"1.1\" viewBox=\"0 0 12 12\" width=\"12px\" zoomAndPan=\"magnify\"><defs/><g><!--MD5=[19d285c9d72a204eba4e2cd117d745e8]\n",
       "@startuml\r\n",
       "left to right direction\r\n",
       "skinparam monochrome true\r\n",
       "skinparam classbackgroundcolor white\r\n",
       "skinparam shadowing false\r\n",
       "skinparam wrapWidth 300\r\n",
       "hide circle\r\n",
       "\r\n",
       "@enduml\r\n",
       "\n",
       "PlantUML version 1.2020.13(Sat Jun 13 12:26:38 UTC 2020)\n",
       "(EPL source distribution)\n",
       "Java Runtime: OpenJDK Runtime Environment\n",
       "JVM: OpenJDK 64-Bit Server VM\n",
       "Default Encoding: UTF-8\n",
       "Language: en\n",
       "Country: null\n",
       "--></g></svg>"
      ]
     },
     "execution_count": 18,
     "metadata": {},
     "output_type": "execute_result"
    }
   ],
   "source": [
    "%viz --style=\"LR\" --view=\"State\" \"CircularImport\""
   ]
  },
  {
   "cell_type": "code",
   "execution_count": 19,
   "id": "suitable-express",
   "metadata": {
    "execution": {
     "iopub.execute_input": "2021-03-25T13:13:17.781419Z",
     "iopub.status.busy": "2021-03-25T13:13:17.780441Z",
     "iopub.status.idle": "2021-03-25T13:13:17.919975Z",
     "shell.execute_reply": "2021-03-25T13:13:17.918758Z"
    }
   },
   "outputs": [
    {
     "data": {
      "image/svg+xml": [
       "<?xml version=\"1.0\" encoding=\"UTF-8\" standalone=\"no\"?><svg xmlns=\"http://www.w3.org/2000/svg\" xmlns:xlink=\"http://www.w3.org/1999/xlink\" contentScriptType=\"application/ecmascript\" contentStyleType=\"text/css\" height=\"805px\" preserveAspectRatio=\"none\" style=\"width:189px;height:805px;\" version=\"1.1\" viewBox=\"0 0 189 805\" width=\"189px\" zoomAndPan=\"magnify\"><defs/><g><!--MD5=[fbc87193dbaf4d95561dea2c320d4a47]\n",
       "cluster E1--><a href=\"psysml:6a62b0bb-ce07-42d9-b06f-c19bd22a93a2\" target=\"_top\" title=\"psysml:6a62b0bb-ce07-42d9-b06f-c19bd22a93a2\" xlink:actuate=\"onRequest\" xlink:href=\"psysml:6a62b0bb-ce07-42d9-b06f-c19bd22a93a2\" xlink:show=\"new\" xlink:title=\"psysml:6a62b0bb-ce07-42d9-b06f-c19bd22a93a2\" xlink:type=\"simple\"><polygon fill=\"#FFFFFF\" points=\"16,6,134,6,141,28.2969,167,28.2969,167,793,16,793,16,6\" style=\"stroke: #000000; stroke-width: 1.5;\"/><line style=\"stroke: #000000; stroke-width: 1.5;\" x1=\"16\" x2=\"141\" y1=\"28.2969\" y2=\"28.2969\"/><text fill=\"#000000\" font-family=\"sans-serif\" font-size=\"14\" font-weight=\"bold\" lengthAdjust=\"spacingAndGlyphs\" textLength=\"112\" x=\"20\" y=\"20.9951\">CircularImport</text></a><!--MD5=[e4f7fae6ed58524ba242bb0b0d3be6b7]\n",
       "cluster E2--><a href=\"psysml:e5793e48-aebf-4c77-9b1c-634d316c370a\" target=\"_top\" title=\"psysml:e5793e48-aebf-4c77-9b1c-634d316c370a\" xlink:actuate=\"onRequest\" xlink:href=\"psysml:e5793e48-aebf-4c77-9b1c-634d316c370a\" xlink:show=\"new\" xlink:title=\"psysml:e5793e48-aebf-4c77-9b1c-634d316c370a\" xlink:type=\"simple\"><polygon fill=\"#FFFFFF\" points=\"40,49,66,49,73,71.2969,143,71.2969,143,144,40,144,40,49\" style=\"stroke: #000000; stroke-width: 1.5;\"/><line style=\"stroke: #000000; stroke-width: 1.5;\" x1=\"40\" x2=\"73\" y1=\"71.2969\" y2=\"71.2969\"/><text fill=\"#000000\" font-family=\"sans-serif\" font-size=\"14\" font-weight=\"bold\" lengthAdjust=\"spacingAndGlyphs\" textLength=\"20\" x=\"44\" y=\"63.9951\">P1</text></a><!--MD5=[f6df4d0ebaf0b5dfb2ced0ae5af7c670]\n",
       "cluster E4--><a href=\"psysml:9f128572-3fea-4fc4-b18b-c92f97cc0f0b\" target=\"_top\" title=\"psysml:9f128572-3fea-4fc4-b18b-c92f97cc0f0b\" xlink:actuate=\"onRequest\" xlink:href=\"psysml:9f128572-3fea-4fc4-b18b-c92f97cc0f0b\" xlink:show=\"new\" xlink:title=\"psysml:9f128572-3fea-4fc4-b18b-c92f97cc0f0b\" xlink:type=\"simple\"><polygon fill=\"#FFFFFF\" points=\"40,168,66,168,73,190.2969,143,190.2969,143,263,40,263,40,168\" style=\"stroke: #000000; stroke-width: 1.5;\"/><line style=\"stroke: #000000; stroke-width: 1.5;\" x1=\"40\" x2=\"73\" y1=\"190.2969\" y2=\"190.2969\"/><text fill=\"#000000\" font-family=\"sans-serif\" font-size=\"14\" font-weight=\"bold\" lengthAdjust=\"spacingAndGlyphs\" textLength=\"20\" x=\"44\" y=\"182.9951\">P2</text></a><!--MD5=[14e3b0961a2654348d326746436168a1]\n",
       "cluster E6--><a href=\"psysml:6c517ad3-81f8-4503-b234-41386708eb5e\" target=\"_top\" title=\"psysml:6c517ad3-81f8-4503-b234-41386708eb5e\" xlink:actuate=\"onRequest\" xlink:href=\"psysml:6c517ad3-81f8-4503-b234-41386708eb5e\" xlink:show=\"new\" xlink:title=\"psysml:6c517ad3-81f8-4503-b234-41386708eb5e\" xlink:type=\"simple\"><polygon fill=\"#FFFFFF\" points=\"50.5,287,101.5,287,108.5,309.2969,132.5,309.2969,132.5,453,50.5,453,50.5,287\" style=\"stroke: #000000; stroke-width: 1.5;\"/><line style=\"stroke: #000000; stroke-width: 1.5;\" x1=\"50.5\" x2=\"108.5\" y1=\"309.2969\" y2=\"309.2969\"/><text fill=\"#000000\" font-family=\"sans-serif\" font-size=\"14\" font-weight=\"bold\" lengthAdjust=\"spacingAndGlyphs\" textLength=\"45\" x=\"54.5\" y=\"301.9951\">Test1</text></a><!--MD5=[7f149f147074ac12df2cb0a7728a5fb0]\n",
       "cluster E9--><a href=\"psysml:81951965-8d4b-42c4-ba21-4255f6488007\" target=\"_top\" title=\"psysml:81951965-8d4b-42c4-ba21-4255f6488007\" xlink:actuate=\"onRequest\" xlink:href=\"psysml:81951965-8d4b-42c4-ba21-4255f6488007\" xlink:show=\"new\" xlink:title=\"psysml:81951965-8d4b-42c4-ba21-4255f6488007\" xlink:type=\"simple\"><polygon fill=\"#FFFFFF\" points=\"50.5,477,101.5,477,108.5,499.2969,132.5,499.2969,132.5,643,50.5,643,50.5,477\" style=\"stroke: #000000; stroke-width: 1.5;\"/><line style=\"stroke: #000000; stroke-width: 1.5;\" x1=\"50.5\" x2=\"108.5\" y1=\"499.2969\" y2=\"499.2969\"/><text fill=\"#000000\" font-family=\"sans-serif\" font-size=\"14\" font-weight=\"bold\" lengthAdjust=\"spacingAndGlyphs\" textLength=\"45\" x=\"54.5\" y=\"491.9951\">Test2</text></a><g id=\"E1.E2.E3\"><a href=\"psysml:4745677c-bede-4ab8-acdc-4365dad759bc\" target=\"_top\" title=\"psysml:4745677c-bede-4ab8-acdc-4365dad759bc\" xlink:actuate=\"onRequest\" xlink:href=\"psysml:4745677c-bede-4ab8-acdc-4365dad759bc\" xlink:show=\"new\" xlink:title=\"psysml:4745677c-bede-4ab8-acdc-4365dad759bc\" xlink:type=\"simple\"><rect fill=\"#FFFFFF\" height=\"42.9375\" id=\"E3\" style=\"stroke: #383838; stroke-width: 1.5;\" width=\"71\" x=\"56\" y=\"84.5\"/><rect fill=\"#F8F8F8\" height=\"37.9375\" style=\"stroke: #383838; stroke-width: 1.5;\" width=\"71\" x=\"56\" y=\"84.5\"/><text fill=\"#000000\" font-family=\"sans-serif\" font-size=\"12\" font-style=\"italic\" lengthAdjust=\"spacingAndGlyphs\" textLength=\"64\" x=\"59.5\" y=\"100.6387\">«part def»</text><text fill=\"#000000\" font-family=\"sans-serif\" font-size=\"12\" lengthAdjust=\"spacingAndGlyphs\" textLength=\"8\" x=\"87.5\" y=\"114.6074\">A</text></a></g><g id=\"E1.E4.E5\"><a href=\"psysml:a455b6ac-bbc4-40c1-9da4-354e9f8fdc46\" target=\"_top\" title=\"psysml:a455b6ac-bbc4-40c1-9da4-354e9f8fdc46\" xlink:actuate=\"onRequest\" xlink:href=\"psysml:a455b6ac-bbc4-40c1-9da4-354e9f8fdc46\" xlink:show=\"new\" xlink:title=\"psysml:a455b6ac-bbc4-40c1-9da4-354e9f8fdc46\" xlink:type=\"simple\"><rect fill=\"#FFFFFF\" height=\"42.9375\" id=\"E5\" style=\"stroke: #383838; stroke-width: 1.5;\" width=\"71\" x=\"56\" y=\"203.5\"/><rect fill=\"#F8F8F8\" height=\"37.9375\" style=\"stroke: #383838; stroke-width: 1.5;\" width=\"71\" x=\"56\" y=\"203.5\"/><text fill=\"#000000\" font-family=\"sans-serif\" font-size=\"12\" font-style=\"italic\" lengthAdjust=\"spacingAndGlyphs\" textLength=\"64\" x=\"59.5\" y=\"219.6387\">«part def»</text><text fill=\"#000000\" font-family=\"sans-serif\" font-size=\"12\" lengthAdjust=\"spacingAndGlyphs\" textLength=\"8\" x=\"87.5\" y=\"233.6074\">B</text></a></g><g id=\"E1.E6.E7\"><a href=\"psysml:6b7db59d-d003-4043-9508-3fd9ac781eff\" target=\"_top\" title=\"psysml:6b7db59d-d003-4043-9508-3fd9ac781eff\" xlink:actuate=\"onRequest\" xlink:href=\"psysml:6b7db59d-d003-4043-9508-3fd9ac781eff\" xlink:show=\"new\" xlink:title=\"psysml:6b7db59d-d003-4043-9508-3fd9ac781eff\" xlink:type=\"simple\"><rect fill=\"#FFFFFF\" height=\"40\" id=\"E7\" rx=\"10\" ry=\"10\" style=\"stroke: #383838; stroke-width: 1.5;\" width=\"50\" x=\"66.5\" y=\"322\"/><rect fill=\"#F8F8F8\" height=\"23.9688\" rx=\"10\" ry=\"10\" style=\"stroke: #F8F8F8; stroke-width: 1.5;\" width=\"50\" x=\"66.5\" y=\"322\"/><rect fill=\"#F8F8F8\" height=\"10\" style=\"stroke: #F8F8F8; stroke-width: 1.5;\" width=\"50\" x=\"66.5\" y=\"335.9688\"/><rect fill=\"none\" height=\"40\" id=\"E7\" rx=\"10\" ry=\"10\" style=\"stroke: #383838; stroke-width: 1.5;\" width=\"50\" x=\"66.5\" y=\"322\"/><text fill=\"#000000\" font-family=\"sans-serif\" font-size=\"12\" lengthAdjust=\"spacingAndGlyphs\" textLength=\"22\" x=\"80.5\" y=\"338.1387\">x: A</text></a></g><g id=\"E1.E6.E8\"><a href=\"psysml:6c414e1f-4fb5-42fd-83aa-c158d2fbc464\" target=\"_top\" title=\"psysml:6c414e1f-4fb5-42fd-83aa-c158d2fbc464\" xlink:actuate=\"onRequest\" xlink:href=\"psysml:6c414e1f-4fb5-42fd-83aa-c158d2fbc464\" xlink:show=\"new\" xlink:title=\"psysml:6c414e1f-4fb5-42fd-83aa-c158d2fbc464\" xlink:type=\"simple\"><rect fill=\"#FFFFFF\" height=\"40\" id=\"E8\" rx=\"10\" ry=\"10\" style=\"stroke: #383838; stroke-width: 1.5;\" width=\"50\" x=\"66.5\" y=\"397\"/><rect fill=\"#F8F8F8\" height=\"23.9688\" rx=\"10\" ry=\"10\" style=\"stroke: #F8F8F8; stroke-width: 1.5;\" width=\"50\" x=\"66.5\" y=\"397\"/><rect fill=\"#F8F8F8\" height=\"10\" style=\"stroke: #F8F8F8; stroke-width: 1.5;\" width=\"50\" x=\"66.5\" y=\"410.9688\"/><rect fill=\"none\" height=\"40\" id=\"E8\" rx=\"10\" ry=\"10\" style=\"stroke: #383838; stroke-width: 1.5;\" width=\"50\" x=\"66.5\" y=\"397\"/><text fill=\"#000000\" font-family=\"sans-serif\" font-size=\"12\" lengthAdjust=\"spacingAndGlyphs\" textLength=\"22\" x=\"80.5\" y=\"413.1387\">y: B</text></a></g><g id=\"E1.E9.E10\"><a href=\"psysml:797261aa-a958-4475-9de3-b139176b10fb\" target=\"_top\" title=\"psysml:797261aa-a958-4475-9de3-b139176b10fb\" xlink:actuate=\"onRequest\" xlink:href=\"psysml:797261aa-a958-4475-9de3-b139176b10fb\" xlink:show=\"new\" xlink:title=\"psysml:797261aa-a958-4475-9de3-b139176b10fb\" xlink:type=\"simple\"><rect fill=\"#FFFFFF\" height=\"40\" id=\"E10\" rx=\"10\" ry=\"10\" style=\"stroke: #383838; stroke-width: 1.5;\" width=\"50\" x=\"66.5\" y=\"512\"/><rect fill=\"#F8F8F8\" height=\"23.9688\" rx=\"10\" ry=\"10\" style=\"stroke: #F8F8F8; stroke-width: 1.5;\" width=\"50\" x=\"66.5\" y=\"512\"/><rect fill=\"#F8F8F8\" height=\"10\" style=\"stroke: #F8F8F8; stroke-width: 1.5;\" width=\"50\" x=\"66.5\" y=\"525.9688\"/><rect fill=\"none\" height=\"40\" id=\"E10\" rx=\"10\" ry=\"10\" style=\"stroke: #383838; stroke-width: 1.5;\" width=\"50\" x=\"66.5\" y=\"512\"/><text fill=\"#000000\" font-family=\"sans-serif\" font-size=\"12\" lengthAdjust=\"spacingAndGlyphs\" textLength=\"22\" x=\"80.5\" y=\"528.1387\">x: A</text></a></g><g id=\"E1.E9.E11\"><a href=\"psysml:3825b43b-bb71-4033-970e-c8c9e00cfd14\" target=\"_top\" title=\"psysml:3825b43b-bb71-4033-970e-c8c9e00cfd14\" xlink:actuate=\"onRequest\" xlink:href=\"psysml:3825b43b-bb71-4033-970e-c8c9e00cfd14\" xlink:show=\"new\" xlink:title=\"psysml:3825b43b-bb71-4033-970e-c8c9e00cfd14\" xlink:type=\"simple\"><rect fill=\"#FFFFFF\" height=\"40\" id=\"E11\" rx=\"10\" ry=\"10\" style=\"stroke: #383838; stroke-width: 1.5;\" width=\"50\" x=\"66.5\" y=\"587\"/><rect fill=\"#F8F8F8\" height=\"23.9688\" rx=\"10\" ry=\"10\" style=\"stroke: #F8F8F8; stroke-width: 1.5;\" width=\"50\" x=\"66.5\" y=\"587\"/><rect fill=\"#F8F8F8\" height=\"10\" style=\"stroke: #F8F8F8; stroke-width: 1.5;\" width=\"50\" x=\"66.5\" y=\"600.9688\"/><rect fill=\"none\" height=\"40\" id=\"E11\" rx=\"10\" ry=\"10\" style=\"stroke: #383838; stroke-width: 1.5;\" width=\"50\" x=\"66.5\" y=\"587\"/><text fill=\"#000000\" font-family=\"sans-serif\" font-size=\"12\" lengthAdjust=\"spacingAndGlyphs\" textLength=\"22\" x=\"80.5\" y=\"603.1387\">y: B</text></a></g><g id=\"E1.E12\"><a href=\"psysml:e16c4bbb-61f3-4b61-a2b5-b03e29e494af\" target=\"_top\" title=\"psysml:e16c4bbb-61f3-4b61-a2b5-b03e29e494af\" xlink:actuate=\"onRequest\" xlink:href=\"psysml:e16c4bbb-61f3-4b61-a2b5-b03e29e494af\" xlink:show=\"new\" xlink:title=\"psysml:e16c4bbb-61f3-4b61-a2b5-b03e29e494af\" xlink:type=\"simple\"><rect fill=\"#FFFFFF\" height=\"40\" id=\"E12\" rx=\"10\" ry=\"10\" style=\"stroke: #383838; stroke-width: 1.5;\" width=\"50\" x=\"66.5\" y=\"662\"/><rect fill=\"#F8F8F8\" height=\"23.9688\" rx=\"10\" ry=\"10\" style=\"stroke: #F8F8F8; stroke-width: 1.5;\" width=\"50\" x=\"66.5\" y=\"662\"/><rect fill=\"#F8F8F8\" height=\"10\" style=\"stroke: #F8F8F8; stroke-width: 1.5;\" width=\"50\" x=\"66.5\" y=\"675.9688\"/><rect fill=\"none\" height=\"40\" id=\"E12\" rx=\"10\" ry=\"10\" style=\"stroke: #383838; stroke-width: 1.5;\" width=\"50\" x=\"66.5\" y=\"662\"/><text fill=\"#000000\" font-family=\"sans-serif\" font-size=\"12\" lengthAdjust=\"spacingAndGlyphs\" textLength=\"22\" x=\"80.5\" y=\"678.1387\">x: A</text></a></g><g id=\"E1.E13\"><a href=\"psysml:6a814915-eeda-4c4d-8e98-a86878ae1f3d\" target=\"_top\" title=\"psysml:6a814915-eeda-4c4d-8e98-a86878ae1f3d\" xlink:actuate=\"onRequest\" xlink:href=\"psysml:6a814915-eeda-4c4d-8e98-a86878ae1f3d\" xlink:show=\"new\" xlink:title=\"psysml:6a814915-eeda-4c4d-8e98-a86878ae1f3d\" xlink:type=\"simple\"><rect fill=\"#FFFFFF\" height=\"40\" id=\"E13\" rx=\"10\" ry=\"10\" style=\"stroke: #383838; stroke-width: 1.5;\" width=\"50\" x=\"66.5\" y=\"737\"/><rect fill=\"#F8F8F8\" height=\"23.9688\" rx=\"10\" ry=\"10\" style=\"stroke: #F8F8F8; stroke-width: 1.5;\" width=\"50\" x=\"66.5\" y=\"737\"/><rect fill=\"#F8F8F8\" height=\"10\" style=\"stroke: #F8F8F8; stroke-width: 1.5;\" width=\"50\" x=\"66.5\" y=\"750.9688\"/><rect fill=\"none\" height=\"40\" id=\"E13\" rx=\"10\" ry=\"10\" style=\"stroke: #383838; stroke-width: 1.5;\" width=\"50\" x=\"66.5\" y=\"737\"/><text fill=\"#000000\" font-family=\"sans-serif\" font-size=\"12\" lengthAdjust=\"spacingAndGlyphs\" textLength=\"22\" x=\"80.5\" y=\"753.1387\">y: B</text></a></g><!--MD5=[3c60a707c3aa1a91ed5621070656735d]\n",
       "@startuml\r\n",
       "skinparam ranksep 8\r\n",
       "skinparam rectangle {\r\n",
       " backgroundColor<<block>> LightGreen\r\n",
       "}\r\n",
       "left to right direction\r\n",
       "skinparam monochrome true\r\n",
       "skinparam classbackgroundcolor white\r\n",
       "skinparam shadowing false\r\n",
       "skinparam wrapWidth 300\r\n",
       "hide circle\r\n",
       "\r\n",
       "package \"CircularImport\" as E1  [[psysml:6a62b0bb-ce07-42d9-b06f-c19bd22a93a2 ]]  {\r\n",
       "package \"P1\" as E2  [[psysml:e5793e48-aebf-4c77-9b1c-634d316c370a ]]  {\r\n",
       "rec def \"A\" as E3  <<(T,blue)part def>> [[psysml:4745677c-bede-4ab8-acdc-4365dad759bc ]] {\r\n",
       "}\r\n",
       "}\r\n",
       "package \"P2\" as E4  [[psysml:9f128572-3fea-4fc4-b18b-c92f97cc0f0b ]]  {\r\n",
       "rec def \"B\" as E5  <<(T,blue)part def>> [[psysml:a455b6ac-bbc4-40c1-9da4-354e9f8fdc46 ]] {\r\n",
       "}\r\n",
       "}\r\n",
       "package \"Test1\" as E6  [[psysml:6c517ad3-81f8-4503-b234-41386708eb5e ]]  {\r\n",
       "rec usage \"x: A\" as E7  [[psysml:6b7db59d-d003-4043-9508-3fd9ac781eff ]] {\r\n",
       "}\r\n",
       "rec usage \"y: B\" as E8  [[psysml:6c414e1f-4fb5-42fd-83aa-c158d2fbc464 ]] {\r\n",
       "}\r\n",
       "}\r\n",
       "package \"Test2\" as E9  [[psysml:81951965-8d4b-42c4-ba21-4255f6488007 ]]  {\r\n",
       "rec usage \"x: A\" as E10  [[psysml:797261aa-a958-4475-9de3-b139176b10fb ]] {\r\n",
       "}\r\n",
       "rec usage \"y: B\" as E11  [[psysml:3825b43b-bb71-4033-970e-c8c9e00cfd14 ]] {\r\n",
       "}\r\n",
       "}\r\n",
       "rec usage \"x: A\" as E12  [[psysml:e16c4bbb-61f3-4b61-a2b5-b03e29e494af ]] {\r\n",
       "}\r\n",
       "rec usage \"y: B\" as E13  [[psysml:6a814915-eeda-4c4d-8e98-a86878ae1f3d ]] {\r\n",
       "}\r\n",
       "}\r\n",
       "@enduml\r\n",
       "\n",
       "PlantUML version 1.2020.13(Sat Jun 13 12:26:38 UTC 2020)\n",
       "(EPL source distribution)\n",
       "Java Runtime: OpenJDK Runtime Environment\n",
       "JVM: OpenJDK 64-Bit Server VM\n",
       "Default Encoding: UTF-8\n",
       "Language: en\n",
       "Country: null\n",
       "--></g></svg>"
      ]
     },
     "execution_count": 19,
     "metadata": {},
     "output_type": "execute_result"
    }
   ],
   "source": [
    "%viz --style=\"LR\" --view=\"Interconnection\" \"CircularImport\""
   ]
  },
  {
   "cell_type": "code",
   "execution_count": 20,
   "id": "resistant-increase",
   "metadata": {
    "execution": {
     "iopub.execute_input": "2021-03-25T13:13:17.971866Z",
     "iopub.status.busy": "2021-03-25T13:13:17.970784Z",
     "iopub.status.idle": "2021-03-25T13:13:17.983159Z",
     "shell.execute_reply": "2021-03-25T13:13:17.981791Z"
    }
   },
   "outputs": [
    {
     "data": {
      "image/svg+xml": [
       "<?xml version=\"1.0\" encoding=\"UTF-8\" standalone=\"no\"?><svg xmlns=\"http://www.w3.org/2000/svg\" xmlns:xlink=\"http://www.w3.org/1999/xlink\" contentScriptType=\"application/ecmascript\" contentStyleType=\"text/css\" height=\"12px\" preserveAspectRatio=\"none\" style=\"width:12px;height:12px;\" version=\"1.1\" viewBox=\"0 0 12 12\" width=\"12px\" zoomAndPan=\"magnify\"><defs/><g><!--MD5=[7aeb398939421629f6affaa4a1a7b125]\n",
       "@startuml\r\n",
       "skinparam ranksep 8\r\n",
       "left to right direction\r\n",
       "skinparam monochrome true\r\n",
       "skinparam classbackgroundcolor white\r\n",
       "skinparam shadowing false\r\n",
       "skinparam wrapWidth 300\r\n",
       "hide circle\r\n",
       "\r\n",
       "@enduml\r\n",
       "\n",
       "PlantUML version 1.2020.13(Sat Jun 13 12:26:38 UTC 2020)\n",
       "(EPL source distribution)\n",
       "Java Runtime: OpenJDK Runtime Environment\n",
       "JVM: OpenJDK 64-Bit Server VM\n",
       "Default Encoding: UTF-8\n",
       "Language: en\n",
       "Country: null\n",
       "--></g></svg>"
      ]
     },
     "execution_count": 20,
     "metadata": {},
     "output_type": "execute_result"
    }
   ],
   "source": [
    "%viz --style=\"LR\" --view=\"Action\" \"CircularImport\""
   ]
  },
  {
   "cell_type": "code",
   "execution_count": 21,
   "id": "extended-bailey",
   "metadata": {
    "execution": {
     "iopub.execute_input": "2021-03-25T13:13:18.034746Z",
     "iopub.status.busy": "2021-03-25T13:13:18.033761Z",
     "iopub.status.idle": "2021-03-25T13:13:18.159502Z",
     "shell.execute_reply": "2021-03-25T13:13:18.159143Z"
    }
   },
   "outputs": [
    {
     "data": {
      "image/svg+xml": [
       "<?xml version=\"1.0\" encoding=\"UTF-8\" standalone=\"no\"?><svg xmlns=\"http://www.w3.org/2000/svg\" xmlns:xlink=\"http://www.w3.org/1999/xlink\" contentScriptType=\"application/ecmascript\" contentStyleType=\"text/css\" height=\"576px\" preserveAspectRatio=\"none\" style=\"width:286px;height:576px;\" version=\"1.1\" viewBox=\"0 0 286 576\" width=\"286px\" zoomAndPan=\"magnify\"><defs/><g><!--MD5=[fbc87193dbaf4d95561dea2c320d4a47]\n",
       "cluster E1--><a href=\"psysml:6a62b0bb-ce07-42d9-b06f-c19bd22a93a2\" target=\"_top\" title=\"psysml:6a62b0bb-ce07-42d9-b06f-c19bd22a93a2\" xlink:actuate=\"onRequest\" xlink:href=\"psysml:6a62b0bb-ce07-42d9-b06f-c19bd22a93a2\" xlink:show=\"new\" xlink:title=\"psysml:6a62b0bb-ce07-42d9-b06f-c19bd22a93a2\" xlink:type=\"simple\"><polygon fill=\"#FFFFFF\" points=\"16,6,134,6,141,28.2969,264,28.2969,264,564,16,564,16,6\" style=\"stroke: #000000; stroke-width: 1.5;\"/><line style=\"stroke: #000000; stroke-width: 1.5;\" x1=\"16\" x2=\"141\" y1=\"28.2969\" y2=\"28.2969\"/><text fill=\"#000000\" font-family=\"sans-serif\" font-size=\"14\" font-weight=\"bold\" lengthAdjust=\"spacingAndGlyphs\" textLength=\"112\" x=\"20\" y=\"20.9951\">CircularImport</text></a><!--MD5=[e4f7fae6ed58524ba242bb0b0d3be6b7]\n",
       "cluster E2--><a href=\"psysml:e5793e48-aebf-4c77-9b1c-634d316c370a\" target=\"_top\" title=\"psysml:e5793e48-aebf-4c77-9b1c-634d316c370a\" xlink:actuate=\"onRequest\" xlink:href=\"psysml:e5793e48-aebf-4c77-9b1c-634d316c370a\" xlink:show=\"new\" xlink:title=\"psysml:e5793e48-aebf-4c77-9b1c-634d316c370a\" xlink:type=\"simple\"><polygon fill=\"#FFFFFF\" points=\"142,103,168,103,175,125.2969,240,125.2969,240,200,142,200,142,103\" style=\"stroke: #000000; stroke-width: 1.5;\"/><line style=\"stroke: #000000; stroke-width: 1.5;\" x1=\"142\" x2=\"175\" y1=\"125.2969\" y2=\"125.2969\"/><text fill=\"#000000\" font-family=\"sans-serif\" font-size=\"14\" font-weight=\"bold\" lengthAdjust=\"spacingAndGlyphs\" textLength=\"20\" x=\"146\" y=\"117.9951\">P1</text></a><!--MD5=[f6df4d0ebaf0b5dfb2ced0ae5af7c670]\n",
       "cluster E4--><a href=\"psysml:9f128572-3fea-4fc4-b18b-c92f97cc0f0b\" target=\"_top\" title=\"psysml:9f128572-3fea-4fc4-b18b-c92f97cc0f0b\" xlink:actuate=\"onRequest\" xlink:href=\"psysml:9f128572-3fea-4fc4-b18b-c92f97cc0f0b\" xlink:show=\"new\" xlink:title=\"psysml:9f128572-3fea-4fc4-b18b-c92f97cc0f0b\" xlink:type=\"simple\"><polygon fill=\"#FFFFFF\" points=\"142,386,168,386,175,408.2969,240,408.2969,240,483,142,483,142,386\" style=\"stroke: #000000; stroke-width: 1.5;\"/><line style=\"stroke: #000000; stroke-width: 1.5;\" x1=\"142\" x2=\"175\" y1=\"408.2969\" y2=\"408.2969\"/><text fill=\"#000000\" font-family=\"sans-serif\" font-size=\"14\" font-weight=\"bold\" lengthAdjust=\"spacingAndGlyphs\" textLength=\"20\" x=\"146\" y=\"400.9951\">P2</text></a><!--MD5=[14e3b0961a2654348d326746436168a1]\n",
       "cluster E6--><a href=\"psysml:6c517ad3-81f8-4503-b234-41386708eb5e\" target=\"_top\" title=\"psysml:6c517ad3-81f8-4503-b234-41386708eb5e\" xlink:actuate=\"onRequest\" xlink:href=\"psysml:6c517ad3-81f8-4503-b234-41386708eb5e\" xlink:show=\"new\" xlink:title=\"psysml:6c517ad3-81f8-4503-b234-41386708eb5e\" xlink:type=\"simple\"><polygon fill=\"#FFFFFF\" points=\"40,103,91,103,98,125.2969,114,125.2969,114,281,40,281,40,103\" style=\"stroke: #000000; stroke-width: 1.5;\"/><line style=\"stroke: #000000; stroke-width: 1.5;\" x1=\"40\" x2=\"98\" y1=\"125.2969\" y2=\"125.2969\"/><text fill=\"#000000\" font-family=\"sans-serif\" font-size=\"14\" font-weight=\"bold\" lengthAdjust=\"spacingAndGlyphs\" textLength=\"45\" x=\"44\" y=\"117.9951\">Test1</text></a><!--MD5=[7f149f147074ac12df2cb0a7728a5fb0]\n",
       "cluster E9--><a href=\"psysml:81951965-8d4b-42c4-ba21-4255f6488007\" target=\"_top\" title=\"psysml:81951965-8d4b-42c4-ba21-4255f6488007\" xlink:actuate=\"onRequest\" xlink:href=\"psysml:81951965-8d4b-42c4-ba21-4255f6488007\" xlink:show=\"new\" xlink:title=\"psysml:81951965-8d4b-42c4-ba21-4255f6488007\" xlink:type=\"simple\"><polygon fill=\"#FFFFFF\" points=\"40,305,91,305,98,327.2969,114,327.2969,114,483,40,483,40,305\" style=\"stroke: #000000; stroke-width: 1.5;\"/><line style=\"stroke: #000000; stroke-width: 1.5;\" x1=\"40\" x2=\"98\" y1=\"327.2969\" y2=\"327.2969\"/><text fill=\"#000000\" font-family=\"sans-serif\" font-size=\"14\" font-weight=\"bold\" lengthAdjust=\"spacingAndGlyphs\" textLength=\"45\" x=\"44\" y=\"319.9951\">Test2</text></a><!--MD5=[49a0ec8f00dab7302a31f22d0f0fe584]\n",
       "class E12--><a href=\"psysml:e16c4bbb-61f3-4b61-a2b5-b03e29e494af\" target=\"_top\" title=\"psysml:e16c4bbb-61f3-4b61-a2b5-b03e29e494af\" xlink:actuate=\"onRequest\" xlink:href=\"psysml:e16c4bbb-61f3-4b61-a2b5-b03e29e494af\" xlink:show=\"new\" xlink:title=\"psysml:e16c4bbb-61f3-4b61-a2b5-b03e29e494af\" xlink:type=\"simple\"><rect fill=\"#FFFFFF\" height=\"45.9375\" id=\"E12\" rx=\"10\" ry=\"10\" style=\"stroke: #383838; stroke-width: 1.5;\" width=\"42\" x=\"56\" y=\"41\"/><text fill=\"#000000\" font-family=\"sans-serif\" font-size=\"12\" font-style=\"italic\" lengthAdjust=\"spacingAndGlyphs\" textLength=\"40\" x=\"57\" y=\"57.1387\">«part»</text><text fill=\"#000000\" font-family=\"sans-serif\" font-size=\"12\" lengthAdjust=\"spacingAndGlyphs\" textLength=\"22\" x=\"66\" y=\"71.1074\">x: A</text><line style=\"stroke: #383838; stroke-width: 1.5;\" x1=\"57\" x2=\"97\" y1=\"78.9375\" y2=\"78.9375\"/></a><!--MD5=[ee3c913d1a06f366521f9ef512b67efe]\n",
       "class E13--><a href=\"psysml:6a814915-eeda-4c4d-8e98-a86878ae1f3d\" target=\"_top\" title=\"psysml:6a814915-eeda-4c4d-8e98-a86878ae1f3d\" xlink:actuate=\"onRequest\" xlink:href=\"psysml:6a814915-eeda-4c4d-8e98-a86878ae1f3d\" xlink:show=\"new\" xlink:title=\"psysml:6a814915-eeda-4c4d-8e98-a86878ae1f3d\" xlink:type=\"simple\"><rect fill=\"#FFFFFF\" height=\"45.9375\" id=\"E13\" rx=\"10\" ry=\"10\" style=\"stroke: #383838; stroke-width: 1.5;\" width=\"42\" x=\"56\" y=\"502\"/><text fill=\"#000000\" font-family=\"sans-serif\" font-size=\"12\" font-style=\"italic\" lengthAdjust=\"spacingAndGlyphs\" textLength=\"40\" x=\"57\" y=\"518.1387\">«part»</text><text fill=\"#000000\" font-family=\"sans-serif\" font-size=\"12\" lengthAdjust=\"spacingAndGlyphs\" textLength=\"22\" x=\"66\" y=\"532.1074\">y: B</text><line style=\"stroke: #383838; stroke-width: 1.5;\" x1=\"57\" x2=\"97\" y1=\"539.9375\" y2=\"539.9375\"/></a><!--MD5=[09b614a08d8cba4a07c9adeb5e0fee81]\n",
       "class E3--><a href=\"psysml:4745677c-bede-4ab8-acdc-4365dad759bc\" target=\"_top\" title=\"psysml:4745677c-bede-4ab8-acdc-4365dad759bc\" xlink:actuate=\"onRequest\" xlink:href=\"psysml:4745677c-bede-4ab8-acdc-4365dad759bc\" xlink:show=\"new\" xlink:title=\"psysml:4745677c-bede-4ab8-acdc-4365dad759bc\" xlink:type=\"simple\"><rect fill=\"#FFFFFF\" height=\"45.9375\" id=\"E3\" style=\"stroke: #383838; stroke-width: 1.5;\" width=\"66\" x=\"158\" y=\"138\"/><text fill=\"#000000\" font-family=\"sans-serif\" font-size=\"12\" font-style=\"italic\" lengthAdjust=\"spacingAndGlyphs\" textLength=\"64\" x=\"159\" y=\"154.1387\">«part def»</text><text fill=\"#000000\" font-family=\"sans-serif\" font-size=\"12\" lengthAdjust=\"spacingAndGlyphs\" textLength=\"8\" x=\"187\" y=\"168.1074\">A</text><line style=\"stroke: #383838; stroke-width: 1.5;\" x1=\"159\" x2=\"223\" y1=\"175.9375\" y2=\"175.9375\"/></a><!--MD5=[270fce915f116d4de14055a7c1d9a0f3]\n",
       "class E5--><a href=\"psysml:a455b6ac-bbc4-40c1-9da4-354e9f8fdc46\" target=\"_top\" title=\"psysml:a455b6ac-bbc4-40c1-9da4-354e9f8fdc46\" xlink:actuate=\"onRequest\" xlink:href=\"psysml:a455b6ac-bbc4-40c1-9da4-354e9f8fdc46\" xlink:show=\"new\" xlink:title=\"psysml:a455b6ac-bbc4-40c1-9da4-354e9f8fdc46\" xlink:type=\"simple\"><rect fill=\"#FFFFFF\" height=\"45.9375\" id=\"E5\" style=\"stroke: #383838; stroke-width: 1.5;\" width=\"66\" x=\"158\" y=\"421\"/><text fill=\"#000000\" font-family=\"sans-serif\" font-size=\"12\" font-style=\"italic\" lengthAdjust=\"spacingAndGlyphs\" textLength=\"64\" x=\"159\" y=\"437.1387\">«part def»</text><text fill=\"#000000\" font-family=\"sans-serif\" font-size=\"12\" lengthAdjust=\"spacingAndGlyphs\" textLength=\"8\" x=\"187\" y=\"451.1074\">B</text><line style=\"stroke: #383838; stroke-width: 1.5;\" x1=\"159\" x2=\"223\" y1=\"458.9375\" y2=\"458.9375\"/></a><!--MD5=[2156ba9850f5573cc1fc38a6a4b2f02b]\n",
       "class E7--><a href=\"psysml:6b7db59d-d003-4043-9508-3fd9ac781eff\" target=\"_top\" title=\"psysml:6b7db59d-d003-4043-9508-3fd9ac781eff\" xlink:actuate=\"onRequest\" xlink:href=\"psysml:6b7db59d-d003-4043-9508-3fd9ac781eff\" xlink:show=\"new\" xlink:title=\"psysml:6b7db59d-d003-4043-9508-3fd9ac781eff\" xlink:type=\"simple\"><rect fill=\"#FFFFFF\" height=\"45.9375\" id=\"E7\" rx=\"10\" ry=\"10\" style=\"stroke: #383838; stroke-width: 1.5;\" width=\"42\" x=\"56\" y=\"138\"/><text fill=\"#000000\" font-family=\"sans-serif\" font-size=\"12\" font-style=\"italic\" lengthAdjust=\"spacingAndGlyphs\" textLength=\"40\" x=\"57\" y=\"154.1387\">«part»</text><text fill=\"#000000\" font-family=\"sans-serif\" font-size=\"12\" lengthAdjust=\"spacingAndGlyphs\" textLength=\"22\" x=\"66\" y=\"168.1074\">x: A</text><line style=\"stroke: #383838; stroke-width: 1.5;\" x1=\"57\" x2=\"97\" y1=\"175.9375\" y2=\"175.9375\"/></a><!--MD5=[b9389687b975829384b498ac4b7476b2]\n",
       "class E8--><a href=\"psysml:6c414e1f-4fb5-42fd-83aa-c158d2fbc464\" target=\"_top\" title=\"psysml:6c414e1f-4fb5-42fd-83aa-c158d2fbc464\" xlink:actuate=\"onRequest\" xlink:href=\"psysml:6c414e1f-4fb5-42fd-83aa-c158d2fbc464\" xlink:show=\"new\" xlink:title=\"psysml:6c414e1f-4fb5-42fd-83aa-c158d2fbc464\" xlink:type=\"simple\"><rect fill=\"#FFFFFF\" height=\"45.9375\" id=\"E8\" rx=\"10\" ry=\"10\" style=\"stroke: #383838; stroke-width: 1.5;\" width=\"42\" x=\"56\" y=\"219\"/><text fill=\"#000000\" font-family=\"sans-serif\" font-size=\"12\" font-style=\"italic\" lengthAdjust=\"spacingAndGlyphs\" textLength=\"40\" x=\"57\" y=\"235.1387\">«part»</text><text fill=\"#000000\" font-family=\"sans-serif\" font-size=\"12\" lengthAdjust=\"spacingAndGlyphs\" textLength=\"22\" x=\"66\" y=\"249.1074\">y: B</text><line style=\"stroke: #383838; stroke-width: 1.5;\" x1=\"57\" x2=\"97\" y1=\"256.9375\" y2=\"256.9375\"/></a><!--MD5=[96f4274e9e20536e775497830990834d]\n",
       "class E10--><a href=\"psysml:797261aa-a958-4475-9de3-b139176b10fb\" target=\"_top\" title=\"psysml:797261aa-a958-4475-9de3-b139176b10fb\" xlink:actuate=\"onRequest\" xlink:href=\"psysml:797261aa-a958-4475-9de3-b139176b10fb\" xlink:show=\"new\" xlink:title=\"psysml:797261aa-a958-4475-9de3-b139176b10fb\" xlink:type=\"simple\"><rect fill=\"#FFFFFF\" height=\"45.9375\" id=\"E10\" rx=\"10\" ry=\"10\" style=\"stroke: #383838; stroke-width: 1.5;\" width=\"42\" x=\"56\" y=\"340\"/><text fill=\"#000000\" font-family=\"sans-serif\" font-size=\"12\" font-style=\"italic\" lengthAdjust=\"spacingAndGlyphs\" textLength=\"40\" x=\"57\" y=\"356.1387\">«part»</text><text fill=\"#000000\" font-family=\"sans-serif\" font-size=\"12\" lengthAdjust=\"spacingAndGlyphs\" textLength=\"22\" x=\"66\" y=\"370.1074\">x: A</text><line style=\"stroke: #383838; stroke-width: 1.5;\" x1=\"57\" x2=\"97\" y1=\"377.9375\" y2=\"377.9375\"/></a><!--MD5=[1dd1bfd58a279cf63c5f349dbc8fc6a1]\n",
       "class E11--><a href=\"psysml:3825b43b-bb71-4033-970e-c8c9e00cfd14\" target=\"_top\" title=\"psysml:3825b43b-bb71-4033-970e-c8c9e00cfd14\" xlink:actuate=\"onRequest\" xlink:href=\"psysml:3825b43b-bb71-4033-970e-c8c9e00cfd14\" xlink:show=\"new\" xlink:title=\"psysml:3825b43b-bb71-4033-970e-c8c9e00cfd14\" xlink:type=\"simple\"><rect fill=\"#FFFFFF\" height=\"45.9375\" id=\"E11\" rx=\"10\" ry=\"10\" style=\"stroke: #383838; stroke-width: 1.5;\" width=\"42\" x=\"56\" y=\"421\"/><text fill=\"#000000\" font-family=\"sans-serif\" font-size=\"12\" font-style=\"italic\" lengthAdjust=\"spacingAndGlyphs\" textLength=\"40\" x=\"57\" y=\"437.1387\">«part»</text><text fill=\"#000000\" font-family=\"sans-serif\" font-size=\"12\" lengthAdjust=\"spacingAndGlyphs\" textLength=\"22\" x=\"66\" y=\"451.1074\">y: B</text><line style=\"stroke: #383838; stroke-width: 1.5;\" x1=\"57\" x2=\"97\" y1=\"458.9375\" y2=\"458.9375\"/></a><!--MD5=[14ccda38c055a5c0da953d572bc50960]\n",
       "link E7 to E3--><a href=\"psysml:85e1ff22-6346-4a23-846d-dc1a236203c0\" target=\"_top\" title=\"psysml:85e1ff22-6346-4a23-846d-dc1a236203c0\" xlink:actuate=\"onRequest\" xlink:href=\"psysml:85e1ff22-6346-4a23-846d-dc1a236203c0\" xlink:show=\"new\" xlink:title=\"psysml:85e1ff22-6346-4a23-846d-dc1a236203c0\" xlink:type=\"simple\"><path d=\"M98.02,161 C109.18,161 123.65,161 137.79,161 \" fill=\"none\" id=\"E7-&gt;E3\" style=\"stroke: #383838; stroke-width: 1.0;\"/><polygon fill=\"#FFFFFF\" points=\"157.86,161,138.86,168,138.86,154,157.86,161\" style=\"stroke: #383838; stroke-width: 1.0;\"/><ellipse cx=\"133.16\" cy=\"166\" fill=\"#383838\" rx=\"2\" ry=\"2\" style=\"stroke: #383838; stroke-width: 1.0;\"/><ellipse cx=\"133.16\" cy=\"156\" fill=\"#383838\" rx=\"2\" ry=\"2\" style=\"stroke: #383838; stroke-width: 1.0;\"/></a><!--MD5=[1ccb2481ffa92f8d51a74ee30c51832a]\n",
       "link E8 to E5--><a href=\"psysml:483adec0-2d55-41ba-876c-1b8fe7d429ab\" target=\"_top\" title=\"psysml:483adec0-2d55-41ba-876c-1b8fe7d429ab\" xlink:actuate=\"onRequest\" xlink:href=\"psysml:483adec0-2d55-41ba-876c-1b8fe7d429ab\" xlink:show=\"new\" xlink:title=\"psysml:483adec0-2d55-41ba-876c-1b8fe7d429ab\" xlink:type=\"simple\"><path d=\"M90.85,265.17 C109.49,298.8 144.32,361.62 167.34,403.13 \" fill=\"none\" id=\"E8-&gt;E5\" style=\"stroke: #383838; stroke-width: 1.0;\"/><polygon fill=\"#FFFFFF\" points=\"177.13,420.79,161.7919,407.5709,174.0344,400.7796,177.13,420.79\" style=\"stroke: #383838; stroke-width: 1.0;\"/><ellipse cx=\"160.7758\" cy=\"401.6163\" fill=\"#383838\" rx=\"2\" ry=\"2\" style=\"stroke: #383838; stroke-width: 1.0;\"/><ellipse cx=\"169.5204\" cy=\"396.7653\" fill=\"#383838\" rx=\"2\" ry=\"2\" style=\"stroke: #383838; stroke-width: 1.0;\"/></a><!--MD5=[feeac5eb423634930294aa81f2d25a4c]\n",
       "link E10 to E3--><a href=\"psysml:0e238847-8a3c-4f4a-a4c7-c4eca45a31b2\" target=\"_top\" title=\"psysml:0e238847-8a3c-4f4a-a4c7-c4eca45a31b2\" xlink:actuate=\"onRequest\" xlink:href=\"psysml:0e238847-8a3c-4f4a-a4c7-c4eca45a31b2\" xlink:show=\"new\" xlink:title=\"psysml:0e238847-8a3c-4f4a-a4c7-c4eca45a31b2\" xlink:type=\"simple\"><path d=\"M90.85,339.83 C109.49,306.2 144.32,243.38 167.34,201.87 \" fill=\"none\" id=\"E10-&gt;E3\" style=\"stroke: #383838; stroke-width: 1.0;\"/><polygon fill=\"#FFFFFF\" points=\"177.13,184.21,174.0344,204.2204,161.7919,197.4291,177.13,184.21\" style=\"stroke: #383838; stroke-width: 1.0;\"/><ellipse cx=\"169.5204\" cy=\"208.2347\" fill=\"#383838\" rx=\"2\" ry=\"2\" style=\"stroke: #383838; stroke-width: 1.0;\"/><ellipse cx=\"160.7758\" cy=\"203.3837\" fill=\"#383838\" rx=\"2\" ry=\"2\" style=\"stroke: #383838; stroke-width: 1.0;\"/></a><!--MD5=[07b77f6f309248d16187045709d1c26e]\n",
       "link E11 to E5--><a href=\"psysml:1112046b-9823-4ab2-8a83-96247ffb9742\" target=\"_top\" title=\"psysml:1112046b-9823-4ab2-8a83-96247ffb9742\" xlink:actuate=\"onRequest\" xlink:href=\"psysml:1112046b-9823-4ab2-8a83-96247ffb9742\" xlink:show=\"new\" xlink:title=\"psysml:1112046b-9823-4ab2-8a83-96247ffb9742\" xlink:type=\"simple\"><path d=\"M98.02,444 C109.18,444 123.65,444 137.79,444 \" fill=\"none\" id=\"E11-&gt;E5\" style=\"stroke: #383838; stroke-width: 1.0;\"/><polygon fill=\"#FFFFFF\" points=\"157.86,444,138.86,451,138.86,437,157.86,444\" style=\"stroke: #383838; stroke-width: 1.0;\"/><ellipse cx=\"133.16\" cy=\"449\" fill=\"#383838\" rx=\"2\" ry=\"2\" style=\"stroke: #383838; stroke-width: 1.0;\"/><ellipse cx=\"133.16\" cy=\"439\" fill=\"#383838\" rx=\"2\" ry=\"2\" style=\"stroke: #383838; stroke-width: 1.0;\"/></a><!--MD5=[39f41a0e550fb3d73b4d8135617e30a2]\n",
       "link E12 to E3--><a href=\"psysml:ee0d4e1c-50f8-4d3c-8a56-5035ed7c5f53\" target=\"_top\" title=\"psysml:ee0d4e1c-50f8-4d3c-8a56-5035ed7c5f53\" xlink:actuate=\"onRequest\" xlink:href=\"psysml:ee0d4e1c-50f8-4d3c-8a56-5035ed7c5f53\" xlink:show=\"new\" xlink:title=\"psysml:ee0d4e1c-50f8-4d3c-8a56-5035ed7c5f53\" xlink:type=\"simple\"><path d=\"M98.02,81.34 C111.92,93.38 130.95,109.86 148.09,124.7 \" fill=\"none\" id=\"E12-&gt;E3\" style=\"stroke: #383838; stroke-width: 1.0;\"/><polygon fill=\"#FFFFFF\" points=\"163.41,137.97,144.4677,130.8155,153.6371,120.2361,163.41,137.97\" style=\"stroke: #383838; stroke-width: 1.0;\"/><ellipse cx=\"141.4703\" cy=\"125.5709\" fill=\"#383838\" rx=\"2\" ry=\"2\" style=\"stroke: #383838; stroke-width: 1.0;\"/><ellipse cx=\"148.0199\" cy=\"118.0142\" fill=\"#383838\" rx=\"2\" ry=\"2\" style=\"stroke: #383838; stroke-width: 1.0;\"/></a><!--MD5=[066b2d8af59fea80ccdb3d54ad5c1091]\n",
       "link E13 to E5--><a href=\"psysml:1d6f62f5-9885-441d-bead-3e38c1577759\" target=\"_top\" title=\"psysml:1d6f62f5-9885-441d-bead-3e38c1577759\" xlink:actuate=\"onRequest\" xlink:href=\"psysml:1d6f62f5-9885-441d-bead-3e38c1577759\" xlink:show=\"new\" xlink:title=\"psysml:1d6f62f5-9885-441d-bead-3e38c1577759\" xlink:type=\"simple\"><path d=\"M98.02,510.52 C110.09,501.79 126.03,490.27 141.24,479.27 \" fill=\"none\" id=\"E13-&gt;E5\" style=\"stroke: #383838; stroke-width: 1.0;\"/><polygon fill=\"#FFFFFF\" points=\"157.86,467.25,146.5582,484.0509,138.3595,472.7027,157.86,467.25\" style=\"stroke: #383838; stroke-width: 1.0;\"/><ellipse cx=\"140.7667\" cy=\"485.7678\" fill=\"#383838\" rx=\"2\" ry=\"2\" style=\"stroke: #383838; stroke-width: 1.0;\"/><ellipse cx=\"134.9104\" cy=\"477.6619\" fill=\"#383838\" rx=\"2\" ry=\"2\" style=\"stroke: #383838; stroke-width: 1.0;\"/></a><!--MD5=[e7f85d68494a0e8f60f8cffd72259741]\n",
       "@startuml\r\n",
       "left to right direction\r\n",
       "skinparam monochrome true\r\n",
       "skinparam classbackgroundcolor white\r\n",
       "skinparam shadowing false\r\n",
       "skinparam wrapWidth 300\r\n",
       "hide circle\r\n",
       "\r\n",
       "package \"CircularImport\" as E1  [[psysml:6a62b0bb-ce07-42d9-b06f-c19bd22a93a2 ]]  {\r\n",
       "package \"P1\" as E2  [[psysml:e5793e48-aebf-4c77-9b1c-634d316c370a ]]  {\r\n",
       "comp def \"A\" as E3  <<(T,blue)part def>> [[psysml:4745677c-bede-4ab8-acdc-4365dad759bc ]] {\r\n",
       "}\r\n",
       "}\r\n",
       "package \"P2\" as E4  [[psysml:9f128572-3fea-4fc4-b18b-c92f97cc0f0b ]]  {\r\n",
       "comp def \"B\" as E5  <<(T,blue)part def>> [[psysml:a455b6ac-bbc4-40c1-9da4-354e9f8fdc46 ]] {\r\n",
       "}\r\n",
       "}\r\n",
       "package \"Test1\" as E6  [[psysml:6c517ad3-81f8-4503-b234-41386708eb5e ]]  {\r\n",
       "comp usage \"x: A\" as E7  <<(T,blue)part>> [[psysml:6b7db59d-d003-4043-9508-3fd9ac781eff ]] {\r\n",
       "}\r\n",
       "comp usage \"y: B\" as E8  <<(T,blue)part>> [[psysml:6c414e1f-4fb5-42fd-83aa-c158d2fbc464 ]] {\r\n",
       "}\r\n",
       "E7 - -:|> E3 [[psysml:85e1ff22-6346-4a23-846d-dc1a236203c0 ]] \r\n",
       "E8 - -:|> E5 [[psysml:483adec0-2d55-41ba-876c-1b8fe7d429ab ]] \r\n",
       "}\r\n",
       "package \"Test2\" as E9  [[psysml:81951965-8d4b-42c4-ba21-4255f6488007 ]]  {\r\n",
       "comp usage \"x: A\" as E10  <<(T,blue)part>> [[psysml:797261aa-a958-4475-9de3-b139176b10fb ]] {\r\n",
       "}\r\n",
       "comp usage \"y: B\" as E11  <<(T,blue)part>> [[psysml:3825b43b-bb71-4033-970e-c8c9e00cfd14 ]] {\r\n",
       "}\r\n",
       "E10 - -:|> E3 [[psysml:0e238847-8a3c-4f4a-a4c7-c4eca45a31b2 ]] \r\n",
       "E11 - -:|> E5 [[psysml:1112046b-9823-4ab2-8a83-96247ffb9742 ]] \r\n",
       "}\r\n",
       "comp usage \"x: A\" as E12  <<(T,blue)part>> [[psysml:e16c4bbb-61f3-4b61-a2b5-b03e29e494af ]] {\r\n",
       "}\r\n",
       "comp usage \"y: B\" as E13  <<(T,blue)part>> [[psysml:6a814915-eeda-4c4d-8e98-a86878ae1f3d ]] {\r\n",
       "}\r\n",
       "E12 - -:|> E3 [[psysml:ee0d4e1c-50f8-4d3c-8a56-5035ed7c5f53 ]] \r\n",
       "E13 - -:|> E5 [[psysml:1d6f62f5-9885-441d-bead-3e38c1577759 ]] \r\n",
       "}\r\n",
       "@enduml\r\n",
       "\n",
       "PlantUML version 1.2020.13(Sat Jun 13 12:26:38 UTC 2020)\n",
       "(EPL source distribution)\n",
       "Java Runtime: OpenJDK Runtime Environment\n",
       "JVM: OpenJDK 64-Bit Server VM\n",
       "Default Encoding: UTF-8\n",
       "Language: en\n",
       "Country: null\n",
       "--></g></svg>"
      ]
     },
     "execution_count": 21,
     "metadata": {},
     "output_type": "execute_result"
    }
   ],
   "source": [
    "%viz --style=\"LR\" --view=\"Sequence\" \"CircularImport\""
   ]
  },
  {
   "cell_type": "code",
   "execution_count": 22,
   "id": "labeled-design",
   "metadata": {
    "execution": {
     "iopub.execute_input": "2021-03-25T13:13:18.211381Z",
     "iopub.status.busy": "2021-03-25T13:13:18.210450Z",
     "iopub.status.idle": "2021-03-25T13:13:18.319092Z",
     "shell.execute_reply": "2021-03-25T13:13:18.319608Z"
    }
   },
   "outputs": [
    {
     "data": {
      "image/svg+xml": [
       "<?xml version=\"1.0\" encoding=\"UTF-8\" standalone=\"no\"?><svg xmlns=\"http://www.w3.org/2000/svg\" xmlns:xlink=\"http://www.w3.org/1999/xlink\" contentScriptType=\"application/ecmascript\" contentStyleType=\"text/css\" height=\"576px\" preserveAspectRatio=\"none\" style=\"width:286px;height:576px;\" version=\"1.1\" viewBox=\"0 0 286 576\" width=\"286px\" zoomAndPan=\"magnify\"><defs/><g><!--MD5=[fbc87193dbaf4d95561dea2c320d4a47]\n",
       "cluster E1--><a href=\"psysml:6a62b0bb-ce07-42d9-b06f-c19bd22a93a2\" target=\"_top\" title=\"psysml:6a62b0bb-ce07-42d9-b06f-c19bd22a93a2\" xlink:actuate=\"onRequest\" xlink:href=\"psysml:6a62b0bb-ce07-42d9-b06f-c19bd22a93a2\" xlink:show=\"new\" xlink:title=\"psysml:6a62b0bb-ce07-42d9-b06f-c19bd22a93a2\" xlink:type=\"simple\"><polygon fill=\"#FFFFFF\" points=\"16,6,134,6,141,28.2969,264,28.2969,264,564,16,564,16,6\" style=\"stroke: #000000; stroke-width: 1.5;\"/><line style=\"stroke: #000000; stroke-width: 1.5;\" x1=\"16\" x2=\"141\" y1=\"28.2969\" y2=\"28.2969\"/><text fill=\"#000000\" font-family=\"sans-serif\" font-size=\"14\" font-weight=\"bold\" lengthAdjust=\"spacingAndGlyphs\" textLength=\"112\" x=\"20\" y=\"20.9951\">CircularImport</text></a><!--MD5=[e4f7fae6ed58524ba242bb0b0d3be6b7]\n",
       "cluster E2--><a href=\"psysml:e5793e48-aebf-4c77-9b1c-634d316c370a\" target=\"_top\" title=\"psysml:e5793e48-aebf-4c77-9b1c-634d316c370a\" xlink:actuate=\"onRequest\" xlink:href=\"psysml:e5793e48-aebf-4c77-9b1c-634d316c370a\" xlink:show=\"new\" xlink:title=\"psysml:e5793e48-aebf-4c77-9b1c-634d316c370a\" xlink:type=\"simple\"><polygon fill=\"#FFFFFF\" points=\"142,103,168,103,175,125.2969,240,125.2969,240,200,142,200,142,103\" style=\"stroke: #000000; stroke-width: 1.5;\"/><line style=\"stroke: #000000; stroke-width: 1.5;\" x1=\"142\" x2=\"175\" y1=\"125.2969\" y2=\"125.2969\"/><text fill=\"#000000\" font-family=\"sans-serif\" font-size=\"14\" font-weight=\"bold\" lengthAdjust=\"spacingAndGlyphs\" textLength=\"20\" x=\"146\" y=\"117.9951\">P1</text></a><!--MD5=[f6df4d0ebaf0b5dfb2ced0ae5af7c670]\n",
       "cluster E4--><a href=\"psysml:9f128572-3fea-4fc4-b18b-c92f97cc0f0b\" target=\"_top\" title=\"psysml:9f128572-3fea-4fc4-b18b-c92f97cc0f0b\" xlink:actuate=\"onRequest\" xlink:href=\"psysml:9f128572-3fea-4fc4-b18b-c92f97cc0f0b\" xlink:show=\"new\" xlink:title=\"psysml:9f128572-3fea-4fc4-b18b-c92f97cc0f0b\" xlink:type=\"simple\"><polygon fill=\"#FFFFFF\" points=\"142,386,168,386,175,408.2969,240,408.2969,240,483,142,483,142,386\" style=\"stroke: #000000; stroke-width: 1.5;\"/><line style=\"stroke: #000000; stroke-width: 1.5;\" x1=\"142\" x2=\"175\" y1=\"408.2969\" y2=\"408.2969\"/><text fill=\"#000000\" font-family=\"sans-serif\" font-size=\"14\" font-weight=\"bold\" lengthAdjust=\"spacingAndGlyphs\" textLength=\"20\" x=\"146\" y=\"400.9951\">P2</text></a><!--MD5=[14e3b0961a2654348d326746436168a1]\n",
       "cluster E6--><a href=\"psysml:6c517ad3-81f8-4503-b234-41386708eb5e\" target=\"_top\" title=\"psysml:6c517ad3-81f8-4503-b234-41386708eb5e\" xlink:actuate=\"onRequest\" xlink:href=\"psysml:6c517ad3-81f8-4503-b234-41386708eb5e\" xlink:show=\"new\" xlink:title=\"psysml:6c517ad3-81f8-4503-b234-41386708eb5e\" xlink:type=\"simple\"><polygon fill=\"#FFFFFF\" points=\"40,103,91,103,98,125.2969,114,125.2969,114,281,40,281,40,103\" style=\"stroke: #000000; stroke-width: 1.5;\"/><line style=\"stroke: #000000; stroke-width: 1.5;\" x1=\"40\" x2=\"98\" y1=\"125.2969\" y2=\"125.2969\"/><text fill=\"#000000\" font-family=\"sans-serif\" font-size=\"14\" font-weight=\"bold\" lengthAdjust=\"spacingAndGlyphs\" textLength=\"45\" x=\"44\" y=\"117.9951\">Test1</text></a><!--MD5=[7f149f147074ac12df2cb0a7728a5fb0]\n",
       "cluster E9--><a href=\"psysml:81951965-8d4b-42c4-ba21-4255f6488007\" target=\"_top\" title=\"psysml:81951965-8d4b-42c4-ba21-4255f6488007\" xlink:actuate=\"onRequest\" xlink:href=\"psysml:81951965-8d4b-42c4-ba21-4255f6488007\" xlink:show=\"new\" xlink:title=\"psysml:81951965-8d4b-42c4-ba21-4255f6488007\" xlink:type=\"simple\"><polygon fill=\"#FFFFFF\" points=\"40,305,91,305,98,327.2969,114,327.2969,114,483,40,483,40,305\" style=\"stroke: #000000; stroke-width: 1.5;\"/><line style=\"stroke: #000000; stroke-width: 1.5;\" x1=\"40\" x2=\"98\" y1=\"327.2969\" y2=\"327.2969\"/><text fill=\"#000000\" font-family=\"sans-serif\" font-size=\"14\" font-weight=\"bold\" lengthAdjust=\"spacingAndGlyphs\" textLength=\"45\" x=\"44\" y=\"319.9951\">Test2</text></a><!--MD5=[49a0ec8f00dab7302a31f22d0f0fe584]\n",
       "class E12--><a href=\"psysml:e16c4bbb-61f3-4b61-a2b5-b03e29e494af\" target=\"_top\" title=\"psysml:e16c4bbb-61f3-4b61-a2b5-b03e29e494af\" xlink:actuate=\"onRequest\" xlink:href=\"psysml:e16c4bbb-61f3-4b61-a2b5-b03e29e494af\" xlink:show=\"new\" xlink:title=\"psysml:e16c4bbb-61f3-4b61-a2b5-b03e29e494af\" xlink:type=\"simple\"><rect fill=\"#FFFFFF\" height=\"45.9375\" id=\"E12\" rx=\"10\" ry=\"10\" style=\"stroke: #383838; stroke-width: 1.5;\" width=\"42\" x=\"56\" y=\"41\"/><text fill=\"#000000\" font-family=\"sans-serif\" font-size=\"12\" font-style=\"italic\" lengthAdjust=\"spacingAndGlyphs\" textLength=\"40\" x=\"57\" y=\"57.1387\">«part»</text><text fill=\"#000000\" font-family=\"sans-serif\" font-size=\"12\" lengthAdjust=\"spacingAndGlyphs\" textLength=\"22\" x=\"66\" y=\"71.1074\">x: A</text><line style=\"stroke: #383838; stroke-width: 1.5;\" x1=\"57\" x2=\"97\" y1=\"78.9375\" y2=\"78.9375\"/></a><!--MD5=[ee3c913d1a06f366521f9ef512b67efe]\n",
       "class E13--><a href=\"psysml:6a814915-eeda-4c4d-8e98-a86878ae1f3d\" target=\"_top\" title=\"psysml:6a814915-eeda-4c4d-8e98-a86878ae1f3d\" xlink:actuate=\"onRequest\" xlink:href=\"psysml:6a814915-eeda-4c4d-8e98-a86878ae1f3d\" xlink:show=\"new\" xlink:title=\"psysml:6a814915-eeda-4c4d-8e98-a86878ae1f3d\" xlink:type=\"simple\"><rect fill=\"#FFFFFF\" height=\"45.9375\" id=\"E13\" rx=\"10\" ry=\"10\" style=\"stroke: #383838; stroke-width: 1.5;\" width=\"42\" x=\"56\" y=\"502\"/><text fill=\"#000000\" font-family=\"sans-serif\" font-size=\"12\" font-style=\"italic\" lengthAdjust=\"spacingAndGlyphs\" textLength=\"40\" x=\"57\" y=\"518.1387\">«part»</text><text fill=\"#000000\" font-family=\"sans-serif\" font-size=\"12\" lengthAdjust=\"spacingAndGlyphs\" textLength=\"22\" x=\"66\" y=\"532.1074\">y: B</text><line style=\"stroke: #383838; stroke-width: 1.5;\" x1=\"57\" x2=\"97\" y1=\"539.9375\" y2=\"539.9375\"/></a><!--MD5=[09b614a08d8cba4a07c9adeb5e0fee81]\n",
       "class E3--><a href=\"psysml:4745677c-bede-4ab8-acdc-4365dad759bc\" target=\"_top\" title=\"psysml:4745677c-bede-4ab8-acdc-4365dad759bc\" xlink:actuate=\"onRequest\" xlink:href=\"psysml:4745677c-bede-4ab8-acdc-4365dad759bc\" xlink:show=\"new\" xlink:title=\"psysml:4745677c-bede-4ab8-acdc-4365dad759bc\" xlink:type=\"simple\"><rect fill=\"#FFFFFF\" height=\"45.9375\" id=\"E3\" style=\"stroke: #383838; stroke-width: 1.5;\" width=\"66\" x=\"158\" y=\"138\"/><text fill=\"#000000\" font-family=\"sans-serif\" font-size=\"12\" font-style=\"italic\" lengthAdjust=\"spacingAndGlyphs\" textLength=\"64\" x=\"159\" y=\"154.1387\">«part def»</text><text fill=\"#000000\" font-family=\"sans-serif\" font-size=\"12\" lengthAdjust=\"spacingAndGlyphs\" textLength=\"8\" x=\"187\" y=\"168.1074\">A</text><line style=\"stroke: #383838; stroke-width: 1.5;\" x1=\"159\" x2=\"223\" y1=\"175.9375\" y2=\"175.9375\"/></a><!--MD5=[270fce915f116d4de14055a7c1d9a0f3]\n",
       "class E5--><a href=\"psysml:a455b6ac-bbc4-40c1-9da4-354e9f8fdc46\" target=\"_top\" title=\"psysml:a455b6ac-bbc4-40c1-9da4-354e9f8fdc46\" xlink:actuate=\"onRequest\" xlink:href=\"psysml:a455b6ac-bbc4-40c1-9da4-354e9f8fdc46\" xlink:show=\"new\" xlink:title=\"psysml:a455b6ac-bbc4-40c1-9da4-354e9f8fdc46\" xlink:type=\"simple\"><rect fill=\"#FFFFFF\" height=\"45.9375\" id=\"E5\" style=\"stroke: #383838; stroke-width: 1.5;\" width=\"66\" x=\"158\" y=\"421\"/><text fill=\"#000000\" font-family=\"sans-serif\" font-size=\"12\" font-style=\"italic\" lengthAdjust=\"spacingAndGlyphs\" textLength=\"64\" x=\"159\" y=\"437.1387\">«part def»</text><text fill=\"#000000\" font-family=\"sans-serif\" font-size=\"12\" lengthAdjust=\"spacingAndGlyphs\" textLength=\"8\" x=\"187\" y=\"451.1074\">B</text><line style=\"stroke: #383838; stroke-width: 1.5;\" x1=\"159\" x2=\"223\" y1=\"458.9375\" y2=\"458.9375\"/></a><!--MD5=[2156ba9850f5573cc1fc38a6a4b2f02b]\n",
       "class E7--><a href=\"psysml:6b7db59d-d003-4043-9508-3fd9ac781eff\" target=\"_top\" title=\"psysml:6b7db59d-d003-4043-9508-3fd9ac781eff\" xlink:actuate=\"onRequest\" xlink:href=\"psysml:6b7db59d-d003-4043-9508-3fd9ac781eff\" xlink:show=\"new\" xlink:title=\"psysml:6b7db59d-d003-4043-9508-3fd9ac781eff\" xlink:type=\"simple\"><rect fill=\"#FFFFFF\" height=\"45.9375\" id=\"E7\" rx=\"10\" ry=\"10\" style=\"stroke: #383838; stroke-width: 1.5;\" width=\"42\" x=\"56\" y=\"138\"/><text fill=\"#000000\" font-family=\"sans-serif\" font-size=\"12\" font-style=\"italic\" lengthAdjust=\"spacingAndGlyphs\" textLength=\"40\" x=\"57\" y=\"154.1387\">«part»</text><text fill=\"#000000\" font-family=\"sans-serif\" font-size=\"12\" lengthAdjust=\"spacingAndGlyphs\" textLength=\"22\" x=\"66\" y=\"168.1074\">x: A</text><line style=\"stroke: #383838; stroke-width: 1.5;\" x1=\"57\" x2=\"97\" y1=\"175.9375\" y2=\"175.9375\"/></a><!--MD5=[b9389687b975829384b498ac4b7476b2]\n",
       "class E8--><a href=\"psysml:6c414e1f-4fb5-42fd-83aa-c158d2fbc464\" target=\"_top\" title=\"psysml:6c414e1f-4fb5-42fd-83aa-c158d2fbc464\" xlink:actuate=\"onRequest\" xlink:href=\"psysml:6c414e1f-4fb5-42fd-83aa-c158d2fbc464\" xlink:show=\"new\" xlink:title=\"psysml:6c414e1f-4fb5-42fd-83aa-c158d2fbc464\" xlink:type=\"simple\"><rect fill=\"#FFFFFF\" height=\"45.9375\" id=\"E8\" rx=\"10\" ry=\"10\" style=\"stroke: #383838; stroke-width: 1.5;\" width=\"42\" x=\"56\" y=\"219\"/><text fill=\"#000000\" font-family=\"sans-serif\" font-size=\"12\" font-style=\"italic\" lengthAdjust=\"spacingAndGlyphs\" textLength=\"40\" x=\"57\" y=\"235.1387\">«part»</text><text fill=\"#000000\" font-family=\"sans-serif\" font-size=\"12\" lengthAdjust=\"spacingAndGlyphs\" textLength=\"22\" x=\"66\" y=\"249.1074\">y: B</text><line style=\"stroke: #383838; stroke-width: 1.5;\" x1=\"57\" x2=\"97\" y1=\"256.9375\" y2=\"256.9375\"/></a><!--MD5=[96f4274e9e20536e775497830990834d]\n",
       "class E10--><a href=\"psysml:797261aa-a958-4475-9de3-b139176b10fb\" target=\"_top\" title=\"psysml:797261aa-a958-4475-9de3-b139176b10fb\" xlink:actuate=\"onRequest\" xlink:href=\"psysml:797261aa-a958-4475-9de3-b139176b10fb\" xlink:show=\"new\" xlink:title=\"psysml:797261aa-a958-4475-9de3-b139176b10fb\" xlink:type=\"simple\"><rect fill=\"#FFFFFF\" height=\"45.9375\" id=\"E10\" rx=\"10\" ry=\"10\" style=\"stroke: #383838; stroke-width: 1.5;\" width=\"42\" x=\"56\" y=\"340\"/><text fill=\"#000000\" font-family=\"sans-serif\" font-size=\"12\" font-style=\"italic\" lengthAdjust=\"spacingAndGlyphs\" textLength=\"40\" x=\"57\" y=\"356.1387\">«part»</text><text fill=\"#000000\" font-family=\"sans-serif\" font-size=\"12\" lengthAdjust=\"spacingAndGlyphs\" textLength=\"22\" x=\"66\" y=\"370.1074\">x: A</text><line style=\"stroke: #383838; stroke-width: 1.5;\" x1=\"57\" x2=\"97\" y1=\"377.9375\" y2=\"377.9375\"/></a><!--MD5=[1dd1bfd58a279cf63c5f349dbc8fc6a1]\n",
       "class E11--><a href=\"psysml:3825b43b-bb71-4033-970e-c8c9e00cfd14\" target=\"_top\" title=\"psysml:3825b43b-bb71-4033-970e-c8c9e00cfd14\" xlink:actuate=\"onRequest\" xlink:href=\"psysml:3825b43b-bb71-4033-970e-c8c9e00cfd14\" xlink:show=\"new\" xlink:title=\"psysml:3825b43b-bb71-4033-970e-c8c9e00cfd14\" xlink:type=\"simple\"><rect fill=\"#FFFFFF\" height=\"45.9375\" id=\"E11\" rx=\"10\" ry=\"10\" style=\"stroke: #383838; stroke-width: 1.5;\" width=\"42\" x=\"56\" y=\"421\"/><text fill=\"#000000\" font-family=\"sans-serif\" font-size=\"12\" font-style=\"italic\" lengthAdjust=\"spacingAndGlyphs\" textLength=\"40\" x=\"57\" y=\"437.1387\">«part»</text><text fill=\"#000000\" font-family=\"sans-serif\" font-size=\"12\" lengthAdjust=\"spacingAndGlyphs\" textLength=\"22\" x=\"66\" y=\"451.1074\">y: B</text><line style=\"stroke: #383838; stroke-width: 1.5;\" x1=\"57\" x2=\"97\" y1=\"458.9375\" y2=\"458.9375\"/></a><!--MD5=[14ccda38c055a5c0da953d572bc50960]\n",
       "link E7 to E3--><a href=\"psysml:85e1ff22-6346-4a23-846d-dc1a236203c0\" target=\"_top\" title=\"psysml:85e1ff22-6346-4a23-846d-dc1a236203c0\" xlink:actuate=\"onRequest\" xlink:href=\"psysml:85e1ff22-6346-4a23-846d-dc1a236203c0\" xlink:show=\"new\" xlink:title=\"psysml:85e1ff22-6346-4a23-846d-dc1a236203c0\" xlink:type=\"simple\"><path d=\"M98.02,161 C109.18,161 123.65,161 137.79,161 \" fill=\"none\" id=\"E7-&gt;E3\" style=\"stroke: #383838; stroke-width: 1.0;\"/><polygon fill=\"#FFFFFF\" points=\"157.86,161,138.86,168,138.86,154,157.86,161\" style=\"stroke: #383838; stroke-width: 1.0;\"/><ellipse cx=\"133.16\" cy=\"166\" fill=\"#383838\" rx=\"2\" ry=\"2\" style=\"stroke: #383838; stroke-width: 1.0;\"/><ellipse cx=\"133.16\" cy=\"156\" fill=\"#383838\" rx=\"2\" ry=\"2\" style=\"stroke: #383838; stroke-width: 1.0;\"/></a><!--MD5=[1ccb2481ffa92f8d51a74ee30c51832a]\n",
       "link E8 to E5--><a href=\"psysml:483adec0-2d55-41ba-876c-1b8fe7d429ab\" target=\"_top\" title=\"psysml:483adec0-2d55-41ba-876c-1b8fe7d429ab\" xlink:actuate=\"onRequest\" xlink:href=\"psysml:483adec0-2d55-41ba-876c-1b8fe7d429ab\" xlink:show=\"new\" xlink:title=\"psysml:483adec0-2d55-41ba-876c-1b8fe7d429ab\" xlink:type=\"simple\"><path d=\"M90.85,265.17 C109.49,298.8 144.32,361.62 167.34,403.13 \" fill=\"none\" id=\"E8-&gt;E5\" style=\"stroke: #383838; stroke-width: 1.0;\"/><polygon fill=\"#FFFFFF\" points=\"177.13,420.79,161.7919,407.5709,174.0344,400.7796,177.13,420.79\" style=\"stroke: #383838; stroke-width: 1.0;\"/><ellipse cx=\"160.7758\" cy=\"401.6163\" fill=\"#383838\" rx=\"2\" ry=\"2\" style=\"stroke: #383838; stroke-width: 1.0;\"/><ellipse cx=\"169.5204\" cy=\"396.7653\" fill=\"#383838\" rx=\"2\" ry=\"2\" style=\"stroke: #383838; stroke-width: 1.0;\"/></a><!--MD5=[feeac5eb423634930294aa81f2d25a4c]\n",
       "link E10 to E3--><a href=\"psysml:0e238847-8a3c-4f4a-a4c7-c4eca45a31b2\" target=\"_top\" title=\"psysml:0e238847-8a3c-4f4a-a4c7-c4eca45a31b2\" xlink:actuate=\"onRequest\" xlink:href=\"psysml:0e238847-8a3c-4f4a-a4c7-c4eca45a31b2\" xlink:show=\"new\" xlink:title=\"psysml:0e238847-8a3c-4f4a-a4c7-c4eca45a31b2\" xlink:type=\"simple\"><path d=\"M90.85,339.83 C109.49,306.2 144.32,243.38 167.34,201.87 \" fill=\"none\" id=\"E10-&gt;E3\" style=\"stroke: #383838; stroke-width: 1.0;\"/><polygon fill=\"#FFFFFF\" points=\"177.13,184.21,174.0344,204.2204,161.7919,197.4291,177.13,184.21\" style=\"stroke: #383838; stroke-width: 1.0;\"/><ellipse cx=\"169.5204\" cy=\"208.2347\" fill=\"#383838\" rx=\"2\" ry=\"2\" style=\"stroke: #383838; stroke-width: 1.0;\"/><ellipse cx=\"160.7758\" cy=\"203.3837\" fill=\"#383838\" rx=\"2\" ry=\"2\" style=\"stroke: #383838; stroke-width: 1.0;\"/></a><!--MD5=[07b77f6f309248d16187045709d1c26e]\n",
       "link E11 to E5--><a href=\"psysml:1112046b-9823-4ab2-8a83-96247ffb9742\" target=\"_top\" title=\"psysml:1112046b-9823-4ab2-8a83-96247ffb9742\" xlink:actuate=\"onRequest\" xlink:href=\"psysml:1112046b-9823-4ab2-8a83-96247ffb9742\" xlink:show=\"new\" xlink:title=\"psysml:1112046b-9823-4ab2-8a83-96247ffb9742\" xlink:type=\"simple\"><path d=\"M98.02,444 C109.18,444 123.65,444 137.79,444 \" fill=\"none\" id=\"E11-&gt;E5\" style=\"stroke: #383838; stroke-width: 1.0;\"/><polygon fill=\"#FFFFFF\" points=\"157.86,444,138.86,451,138.86,437,157.86,444\" style=\"stroke: #383838; stroke-width: 1.0;\"/><ellipse cx=\"133.16\" cy=\"449\" fill=\"#383838\" rx=\"2\" ry=\"2\" style=\"stroke: #383838; stroke-width: 1.0;\"/><ellipse cx=\"133.16\" cy=\"439\" fill=\"#383838\" rx=\"2\" ry=\"2\" style=\"stroke: #383838; stroke-width: 1.0;\"/></a><!--MD5=[39f41a0e550fb3d73b4d8135617e30a2]\n",
       "link E12 to E3--><a href=\"psysml:ee0d4e1c-50f8-4d3c-8a56-5035ed7c5f53\" target=\"_top\" title=\"psysml:ee0d4e1c-50f8-4d3c-8a56-5035ed7c5f53\" xlink:actuate=\"onRequest\" xlink:href=\"psysml:ee0d4e1c-50f8-4d3c-8a56-5035ed7c5f53\" xlink:show=\"new\" xlink:title=\"psysml:ee0d4e1c-50f8-4d3c-8a56-5035ed7c5f53\" xlink:type=\"simple\"><path d=\"M98.02,81.34 C111.92,93.38 130.95,109.86 148.09,124.7 \" fill=\"none\" id=\"E12-&gt;E3\" style=\"stroke: #383838; stroke-width: 1.0;\"/><polygon fill=\"#FFFFFF\" points=\"163.41,137.97,144.4677,130.8155,153.6371,120.2361,163.41,137.97\" style=\"stroke: #383838; stroke-width: 1.0;\"/><ellipse cx=\"141.4703\" cy=\"125.5709\" fill=\"#383838\" rx=\"2\" ry=\"2\" style=\"stroke: #383838; stroke-width: 1.0;\"/><ellipse cx=\"148.0199\" cy=\"118.0142\" fill=\"#383838\" rx=\"2\" ry=\"2\" style=\"stroke: #383838; stroke-width: 1.0;\"/></a><!--MD5=[066b2d8af59fea80ccdb3d54ad5c1091]\n",
       "link E13 to E5--><a href=\"psysml:1d6f62f5-9885-441d-bead-3e38c1577759\" target=\"_top\" title=\"psysml:1d6f62f5-9885-441d-bead-3e38c1577759\" xlink:actuate=\"onRequest\" xlink:href=\"psysml:1d6f62f5-9885-441d-bead-3e38c1577759\" xlink:show=\"new\" xlink:title=\"psysml:1d6f62f5-9885-441d-bead-3e38c1577759\" xlink:type=\"simple\"><path d=\"M98.02,510.52 C110.09,501.79 126.03,490.27 141.24,479.27 \" fill=\"none\" id=\"E13-&gt;E5\" style=\"stroke: #383838; stroke-width: 1.0;\"/><polygon fill=\"#FFFFFF\" points=\"157.86,467.25,146.5582,484.0509,138.3595,472.7027,157.86,467.25\" style=\"stroke: #383838; stroke-width: 1.0;\"/><ellipse cx=\"140.7667\" cy=\"485.7678\" fill=\"#383838\" rx=\"2\" ry=\"2\" style=\"stroke: #383838; stroke-width: 1.0;\"/><ellipse cx=\"134.9104\" cy=\"477.6619\" fill=\"#383838\" rx=\"2\" ry=\"2\" style=\"stroke: #383838; stroke-width: 1.0;\"/></a><!--MD5=[e7f85d68494a0e8f60f8cffd72259741]\n",
       "@startuml\r\n",
       "left to right direction\r\n",
       "skinparam monochrome true\r\n",
       "skinparam classbackgroundcolor white\r\n",
       "skinparam shadowing false\r\n",
       "skinparam wrapWidth 300\r\n",
       "hide circle\r\n",
       "\r\n",
       "package \"CircularImport\" as E1  [[psysml:6a62b0bb-ce07-42d9-b06f-c19bd22a93a2 ]]  {\r\n",
       "package \"P1\" as E2  [[psysml:e5793e48-aebf-4c77-9b1c-634d316c370a ]]  {\r\n",
       "comp def \"A\" as E3  <<(T,blue)part def>> [[psysml:4745677c-bede-4ab8-acdc-4365dad759bc ]] {\r\n",
       "}\r\n",
       "}\r\n",
       "package \"P2\" as E4  [[psysml:9f128572-3fea-4fc4-b18b-c92f97cc0f0b ]]  {\r\n",
       "comp def \"B\" as E5  <<(T,blue)part def>> [[psysml:a455b6ac-bbc4-40c1-9da4-354e9f8fdc46 ]] {\r\n",
       "}\r\n",
       "}\r\n",
       "package \"Test1\" as E6  [[psysml:6c517ad3-81f8-4503-b234-41386708eb5e ]]  {\r\n",
       "comp usage \"x: A\" as E7  <<(T,blue)part>> [[psysml:6b7db59d-d003-4043-9508-3fd9ac781eff ]] {\r\n",
       "}\r\n",
       "comp usage \"y: B\" as E8  <<(T,blue)part>> [[psysml:6c414e1f-4fb5-42fd-83aa-c158d2fbc464 ]] {\r\n",
       "}\r\n",
       "E7 - -:|> E3 [[psysml:85e1ff22-6346-4a23-846d-dc1a236203c0 ]] \r\n",
       "E8 - -:|> E5 [[psysml:483adec0-2d55-41ba-876c-1b8fe7d429ab ]] \r\n",
       "}\r\n",
       "package \"Test2\" as E9  [[psysml:81951965-8d4b-42c4-ba21-4255f6488007 ]]  {\r\n",
       "comp usage \"x: A\" as E10  <<(T,blue)part>> [[psysml:797261aa-a958-4475-9de3-b139176b10fb ]] {\r\n",
       "}\r\n",
       "comp usage \"y: B\" as E11  <<(T,blue)part>> [[psysml:3825b43b-bb71-4033-970e-c8c9e00cfd14 ]] {\r\n",
       "}\r\n",
       "E10 - -:|> E3 [[psysml:0e238847-8a3c-4f4a-a4c7-c4eca45a31b2 ]] \r\n",
       "E11 - -:|> E5 [[psysml:1112046b-9823-4ab2-8a83-96247ffb9742 ]] \r\n",
       "}\r\n",
       "comp usage \"x: A\" as E12  <<(T,blue)part>> [[psysml:e16c4bbb-61f3-4b61-a2b5-b03e29e494af ]] {\r\n",
       "}\r\n",
       "comp usage \"y: B\" as E13  <<(T,blue)part>> [[psysml:6a814915-eeda-4c4d-8e98-a86878ae1f3d ]] {\r\n",
       "}\r\n",
       "E12 - -:|> E3 [[psysml:ee0d4e1c-50f8-4d3c-8a56-5035ed7c5f53 ]] \r\n",
       "E13 - -:|> E5 [[psysml:1d6f62f5-9885-441d-bead-3e38c1577759 ]] \r\n",
       "}\r\n",
       "@enduml\r\n",
       "\n",
       "PlantUML version 1.2020.13(Sat Jun 13 12:26:38 UTC 2020)\n",
       "(EPL source distribution)\n",
       "Java Runtime: OpenJDK Runtime Environment\n",
       "JVM: OpenJDK 64-Bit Server VM\n",
       "Default Encoding: UTF-8\n",
       "Language: en\n",
       "Country: null\n",
       "--></g></svg>"
      ]
     },
     "execution_count": 22,
     "metadata": {},
     "output_type": "execute_result"
    }
   ],
   "source": [
    "%viz --style=\"LR\" --view=\"MIXED\" \"CircularImport\""
   ]
  },
  {
   "cell_type": "code",
   "execution_count": 23,
   "id": "willing-queensland",
   "metadata": {
    "execution": {
     "iopub.execute_input": "2021-03-25T13:13:18.370303Z",
     "iopub.status.busy": "2021-03-25T13:13:18.369603Z",
     "iopub.status.idle": "2021-03-25T13:13:18.463696Z",
     "shell.execute_reply": "2021-03-25T13:13:18.461792Z"
    }
   },
   "outputs": [
    {
     "data": {
      "image/svg+xml": [
       "<?xml version=\"1.0\" encoding=\"UTF-8\" standalone=\"no\"?><svg xmlns=\"http://www.w3.org/2000/svg\" xmlns:xlink=\"http://www.w3.org/1999/xlink\" contentScriptType=\"application/ecmascript\" contentStyleType=\"text/css\" height=\"303px\" preserveAspectRatio=\"none\" style=\"width:518px;height:303px;\" version=\"1.1\" viewBox=\"0 0 518 303\" width=\"518px\" zoomAndPan=\"magnify\"><defs><filter height=\"300%\" id=\"f10uc6t3lz8lw0\" width=\"300%\" x=\"-1\" y=\"-1\"><feGaussianBlur result=\"blurOut\" stdDeviation=\"2.0\"/><feColorMatrix in=\"blurOut\" result=\"blurOut2\" type=\"matrix\" values=\"0 0 0 0 0 0 0 0 0 0 0 0 0 0 0 0 0 0 .4 0\"/><feOffset dx=\"4.0\" dy=\"4.0\" in=\"blurOut2\" result=\"blurOut3\"/><feBlend in=\"SourceGraphic\" in2=\"blurOut3\" mode=\"normal\"/></filter></defs><g><!--MD5=[fbc87193dbaf4d95561dea2c320d4a47]\n",
       "cluster E1--><a href=\"psysml:6a62b0bb-ce07-42d9-b06f-c19bd22a93a2\" target=\"_top\" title=\"psysml:6a62b0bb-ce07-42d9-b06f-c19bd22a93a2\" xlink:actuate=\"onRequest\" xlink:href=\"psysml:6a62b0bb-ce07-42d9-b06f-c19bd22a93a2\" xlink:show=\"new\" xlink:title=\"psysml:6a62b0bb-ce07-42d9-b06f-c19bd22a93a2\" xlink:type=\"simple\"><polygon fill=\"#FFFFFF\" filter=\"url(#f10uc6t3lz8lw0)\" points=\"16,6,134,6,141,28.2969,496,28.2969,496,291,16,291,16,6\" style=\"stroke: #000000; stroke-width: 1.5;\"/><line style=\"stroke: #000000; stroke-width: 1.5;\" x1=\"16\" x2=\"141\" y1=\"28.2969\" y2=\"28.2969\"/><text fill=\"#000000\" font-family=\"sans-serif\" font-size=\"14\" font-weight=\"bold\" lengthAdjust=\"spacingAndGlyphs\" textLength=\"112\" x=\"20\" y=\"20.9951\">CircularImport</text></a><!--MD5=[e4f7fae6ed58524ba242bb0b0d3be6b7]\n",
       "cluster E2--><a href=\"psysml:e5793e48-aebf-4c77-9b1c-634d316c370a\" target=\"_top\" title=\"psysml:e5793e48-aebf-4c77-9b1c-634d316c370a\" xlink:actuate=\"onRequest\" xlink:href=\"psysml:e5793e48-aebf-4c77-9b1c-634d316c370a\" xlink:show=\"new\" xlink:title=\"psysml:e5793e48-aebf-4c77-9b1c-634d316c370a\" xlink:type=\"simple\"><polygon fill=\"#FFFFFF\" filter=\"url(#f10uc6t3lz8lw0)\" points=\"333,170,359,170,366,192.2969,431,192.2969,431,267,333,267,333,170\" style=\"stroke: #000000; stroke-width: 1.5;\"/><line style=\"stroke: #000000; stroke-width: 1.5;\" x1=\"333\" x2=\"366\" y1=\"192.2969\" y2=\"192.2969\"/><text fill=\"#000000\" font-family=\"sans-serif\" font-size=\"14\" font-weight=\"bold\" lengthAdjust=\"spacingAndGlyphs\" textLength=\"20\" x=\"337\" y=\"184.9951\">P1</text></a><!--MD5=[f6df4d0ebaf0b5dfb2ced0ae5af7c670]\n",
       "cluster E4--><a href=\"psysml:9f128572-3fea-4fc4-b18b-c92f97cc0f0b\" target=\"_top\" title=\"psysml:9f128572-3fea-4fc4-b18b-c92f97cc0f0b\" xlink:actuate=\"onRequest\" xlink:href=\"psysml:9f128572-3fea-4fc4-b18b-c92f97cc0f0b\" xlink:show=\"new\" xlink:title=\"psysml:9f128572-3fea-4fc4-b18b-c92f97cc0f0b\" xlink:type=\"simple\"><polygon fill=\"#FFFFFF\" filter=\"url(#f10uc6t3lz8lw0)\" points=\"81,170,107,170,114,192.2969,179,192.2969,179,267,81,267,81,170\" style=\"stroke: #000000; stroke-width: 1.5;\"/><line style=\"stroke: #000000; stroke-width: 1.5;\" x1=\"81\" x2=\"114\" y1=\"192.2969\" y2=\"192.2969\"/><text fill=\"#000000\" font-family=\"sans-serif\" font-size=\"14\" font-weight=\"bold\" lengthAdjust=\"spacingAndGlyphs\" textLength=\"20\" x=\"85\" y=\"184.9951\">P2</text></a><!--MD5=[14e3b0961a2654348d326746436168a1]\n",
       "cluster E6--><a href=\"psysml:6c517ad3-81f8-4503-b234-41386708eb5e\" target=\"_top\" title=\"psysml:6c517ad3-81f8-4503-b234-41386708eb5e\" xlink:actuate=\"onRequest\" xlink:href=\"psysml:6c517ad3-81f8-4503-b234-41386708eb5e\" xlink:show=\"new\" xlink:title=\"psysml:6c517ad3-81f8-4503-b234-41386708eb5e\" xlink:type=\"simple\"><polygon fill=\"#FFFFFF\" filter=\"url(#f10uc6t3lz8lw0)\" points=\"268,49,319,49,326,71.2969,419,71.2969,419,146,268,146,268,49\" style=\"stroke: #000000; stroke-width: 1.5;\"/><line style=\"stroke: #000000; stroke-width: 1.5;\" x1=\"268\" x2=\"326\" y1=\"71.2969\" y2=\"71.2969\"/><text fill=\"#000000\" font-family=\"sans-serif\" font-size=\"14\" font-weight=\"bold\" lengthAdjust=\"spacingAndGlyphs\" textLength=\"45\" x=\"272\" y=\"63.9951\">Test1</text></a><!--MD5=[7f149f147074ac12df2cb0a7728a5fb0]\n",
       "cluster E9--><a href=\"psysml:81951965-8d4b-42c4-ba21-4255f6488007\" target=\"_top\" title=\"psysml:81951965-8d4b-42c4-ba21-4255f6488007\" xlink:actuate=\"onRequest\" xlink:href=\"psysml:81951965-8d4b-42c4-ba21-4255f6488007\" xlink:show=\"new\" xlink:title=\"psysml:81951965-8d4b-42c4-ba21-4255f6488007\" xlink:type=\"simple\"><polygon fill=\"#FFFFFF\" filter=\"url(#f10uc6t3lz8lw0)\" points=\"93,49,144,49,151,71.2969,244,71.2969,244,146,93,146,93,49\" style=\"stroke: #000000; stroke-width: 1.5;\"/><line style=\"stroke: #000000; stroke-width: 1.5;\" x1=\"93\" x2=\"151\" y1=\"71.2969\" y2=\"71.2969\"/><text fill=\"#000000\" font-family=\"sans-serif\" font-size=\"14\" font-weight=\"bold\" lengthAdjust=\"spacingAndGlyphs\" textLength=\"45\" x=\"97\" y=\"63.9951\">Test2</text></a><!--MD5=[49a0ec8f00dab7302a31f22d0f0fe584]\n",
       "class E12--><a href=\"psysml:e16c4bbb-61f3-4b61-a2b5-b03e29e494af\" target=\"_top\" title=\"psysml:e16c4bbb-61f3-4b61-a2b5-b03e29e494af\" xlink:actuate=\"onRequest\" xlink:href=\"psysml:e16c4bbb-61f3-4b61-a2b5-b03e29e494af\" xlink:show=\"new\" xlink:title=\"psysml:e16c4bbb-61f3-4b61-a2b5-b03e29e494af\" xlink:type=\"simple\"><rect fill=\"#FEFECE\" filter=\"url(#f10uc6t3lz8lw0)\" height=\"45.9375\" id=\"E12\" rx=\"10\" ry=\"10\" style=\"stroke: #A80036; stroke-width: 1.5;\" width=\"42\" x=\"438\" y=\"84\"/><text fill=\"#000000\" font-family=\"sans-serif\" font-size=\"12\" font-style=\"italic\" lengthAdjust=\"spacingAndGlyphs\" textLength=\"40\" x=\"439\" y=\"100.1387\">«part»</text><text fill=\"#000000\" font-family=\"sans-serif\" font-size=\"12\" lengthAdjust=\"spacingAndGlyphs\" textLength=\"22\" x=\"448\" y=\"114.1074\">x: A</text><line style=\"stroke: #A80036; stroke-width: 1.5;\" x1=\"439\" x2=\"479\" y1=\"121.9375\" y2=\"121.9375\"/></a><!--MD5=[ee3c913d1a06f366521f9ef512b67efe]\n",
       "class E13--><a href=\"psysml:6a814915-eeda-4c4d-8e98-a86878ae1f3d\" target=\"_top\" title=\"psysml:6a814915-eeda-4c4d-8e98-a86878ae1f3d\" xlink:actuate=\"onRequest\" xlink:href=\"psysml:6a814915-eeda-4c4d-8e98-a86878ae1f3d\" xlink:show=\"new\" xlink:title=\"psysml:6a814915-eeda-4c4d-8e98-a86878ae1f3d\" xlink:type=\"simple\"><rect fill=\"#FEFECE\" filter=\"url(#f10uc6t3lz8lw0)\" height=\"45.9375\" id=\"E13\" rx=\"10\" ry=\"10\" style=\"stroke: #A80036; stroke-width: 1.5;\" width=\"42\" x=\"32\" y=\"84\"/><text fill=\"#000000\" font-family=\"sans-serif\" font-size=\"12\" font-style=\"italic\" lengthAdjust=\"spacingAndGlyphs\" textLength=\"40\" x=\"33\" y=\"100.1387\">«part»</text><text fill=\"#000000\" font-family=\"sans-serif\" font-size=\"12\" lengthAdjust=\"spacingAndGlyphs\" textLength=\"22\" x=\"42\" y=\"114.1074\">y: B</text><line style=\"stroke: #A80036; stroke-width: 1.5;\" x1=\"33\" x2=\"73\" y1=\"121.9375\" y2=\"121.9375\"/></a><!--MD5=[09b614a08d8cba4a07c9adeb5e0fee81]\n",
       "class E3--><a href=\"psysml:4745677c-bede-4ab8-acdc-4365dad759bc\" target=\"_top\" title=\"psysml:4745677c-bede-4ab8-acdc-4365dad759bc\" xlink:actuate=\"onRequest\" xlink:href=\"psysml:4745677c-bede-4ab8-acdc-4365dad759bc\" xlink:show=\"new\" xlink:title=\"psysml:4745677c-bede-4ab8-acdc-4365dad759bc\" xlink:type=\"simple\"><rect fill=\"#FEFECE\" filter=\"url(#f10uc6t3lz8lw0)\" height=\"45.9375\" id=\"E3\" style=\"stroke: #A80036; stroke-width: 1.5;\" width=\"66\" x=\"349\" y=\"205\"/><text fill=\"#000000\" font-family=\"sans-serif\" font-size=\"12\" font-style=\"italic\" lengthAdjust=\"spacingAndGlyphs\" textLength=\"64\" x=\"350\" y=\"221.1387\">«part def»</text><text fill=\"#000000\" font-family=\"sans-serif\" font-size=\"12\" lengthAdjust=\"spacingAndGlyphs\" textLength=\"8\" x=\"378\" y=\"235.1074\">A</text><line style=\"stroke: #A80036; stroke-width: 1.5;\" x1=\"350\" x2=\"414\" y1=\"242.9375\" y2=\"242.9375\"/></a><!--MD5=[270fce915f116d4de14055a7c1d9a0f3]\n",
       "class E5--><a href=\"psysml:a455b6ac-bbc4-40c1-9da4-354e9f8fdc46\" target=\"_top\" title=\"psysml:a455b6ac-bbc4-40c1-9da4-354e9f8fdc46\" xlink:actuate=\"onRequest\" xlink:href=\"psysml:a455b6ac-bbc4-40c1-9da4-354e9f8fdc46\" xlink:show=\"new\" xlink:title=\"psysml:a455b6ac-bbc4-40c1-9da4-354e9f8fdc46\" xlink:type=\"simple\"><rect fill=\"#FEFECE\" filter=\"url(#f10uc6t3lz8lw0)\" height=\"45.9375\" id=\"E5\" style=\"stroke: #A80036; stroke-width: 1.5;\" width=\"66\" x=\"97\" y=\"205\"/><text fill=\"#000000\" font-family=\"sans-serif\" font-size=\"12\" font-style=\"italic\" lengthAdjust=\"spacingAndGlyphs\" textLength=\"64\" x=\"98\" y=\"221.1387\">«part def»</text><text fill=\"#000000\" font-family=\"sans-serif\" font-size=\"12\" lengthAdjust=\"spacingAndGlyphs\" textLength=\"8\" x=\"126\" y=\"235.1074\">B</text><line style=\"stroke: #A80036; stroke-width: 1.5;\" x1=\"98\" x2=\"162\" y1=\"242.9375\" y2=\"242.9375\"/></a><!--MD5=[2156ba9850f5573cc1fc38a6a4b2f02b]\n",
       "class E7--><a href=\"psysml:6b7db59d-d003-4043-9508-3fd9ac781eff\" target=\"_top\" title=\"psysml:6b7db59d-d003-4043-9508-3fd9ac781eff\" xlink:actuate=\"onRequest\" xlink:href=\"psysml:6b7db59d-d003-4043-9508-3fd9ac781eff\" xlink:show=\"new\" xlink:title=\"psysml:6b7db59d-d003-4043-9508-3fd9ac781eff\" xlink:type=\"simple\"><rect fill=\"#FEFECE\" filter=\"url(#f10uc6t3lz8lw0)\" height=\"45.9375\" id=\"E7\" rx=\"10\" ry=\"10\" style=\"stroke: #A80036; stroke-width: 1.5;\" width=\"42\" x=\"361\" y=\"84\"/><text fill=\"#000000\" font-family=\"sans-serif\" font-size=\"12\" font-style=\"italic\" lengthAdjust=\"spacingAndGlyphs\" textLength=\"40\" x=\"362\" y=\"100.1387\">«part»</text><text fill=\"#000000\" font-family=\"sans-serif\" font-size=\"12\" lengthAdjust=\"spacingAndGlyphs\" textLength=\"22\" x=\"371\" y=\"114.1074\">x: A</text><line style=\"stroke: #A80036; stroke-width: 1.5;\" x1=\"362\" x2=\"402\" y1=\"121.9375\" y2=\"121.9375\"/></a><!--MD5=[b9389687b975829384b498ac4b7476b2]\n",
       "class E8--><a href=\"psysml:6c414e1f-4fb5-42fd-83aa-c158d2fbc464\" target=\"_top\" title=\"psysml:6c414e1f-4fb5-42fd-83aa-c158d2fbc464\" xlink:actuate=\"onRequest\" xlink:href=\"psysml:6c414e1f-4fb5-42fd-83aa-c158d2fbc464\" xlink:show=\"new\" xlink:title=\"psysml:6c414e1f-4fb5-42fd-83aa-c158d2fbc464\" xlink:type=\"simple\"><rect fill=\"#FEFECE\" filter=\"url(#f10uc6t3lz8lw0)\" height=\"45.9375\" id=\"E8\" rx=\"10\" ry=\"10\" style=\"stroke: #A80036; stroke-width: 1.5;\" width=\"42\" x=\"284\" y=\"84\"/><text fill=\"#000000\" font-family=\"sans-serif\" font-size=\"12\" font-style=\"italic\" lengthAdjust=\"spacingAndGlyphs\" textLength=\"40\" x=\"285\" y=\"100.1387\">«part»</text><text fill=\"#000000\" font-family=\"sans-serif\" font-size=\"12\" lengthAdjust=\"spacingAndGlyphs\" textLength=\"22\" x=\"294\" y=\"114.1074\">y: B</text><line style=\"stroke: #A80036; stroke-width: 1.5;\" x1=\"285\" x2=\"325\" y1=\"121.9375\" y2=\"121.9375\"/></a><!--MD5=[96f4274e9e20536e775497830990834d]\n",
       "class E10--><a href=\"psysml:797261aa-a958-4475-9de3-b139176b10fb\" target=\"_top\" title=\"psysml:797261aa-a958-4475-9de3-b139176b10fb\" xlink:actuate=\"onRequest\" xlink:href=\"psysml:797261aa-a958-4475-9de3-b139176b10fb\" xlink:show=\"new\" xlink:title=\"psysml:797261aa-a958-4475-9de3-b139176b10fb\" xlink:type=\"simple\"><rect fill=\"#FEFECE\" filter=\"url(#f10uc6t3lz8lw0)\" height=\"45.9375\" id=\"E10\" rx=\"10\" ry=\"10\" style=\"stroke: #A80036; stroke-width: 1.5;\" width=\"42\" x=\"186\" y=\"84\"/><text fill=\"#000000\" font-family=\"sans-serif\" font-size=\"12\" font-style=\"italic\" lengthAdjust=\"spacingAndGlyphs\" textLength=\"40\" x=\"187\" y=\"100.1387\">«part»</text><text fill=\"#000000\" font-family=\"sans-serif\" font-size=\"12\" lengthAdjust=\"spacingAndGlyphs\" textLength=\"22\" x=\"196\" y=\"114.1074\">x: A</text><line style=\"stroke: #A80036; stroke-width: 1.5;\" x1=\"187\" x2=\"227\" y1=\"121.9375\" y2=\"121.9375\"/></a><!--MD5=[1dd1bfd58a279cf63c5f349dbc8fc6a1]\n",
       "class E11--><a href=\"psysml:3825b43b-bb71-4033-970e-c8c9e00cfd14\" target=\"_top\" title=\"psysml:3825b43b-bb71-4033-970e-c8c9e00cfd14\" xlink:actuate=\"onRequest\" xlink:href=\"psysml:3825b43b-bb71-4033-970e-c8c9e00cfd14\" xlink:show=\"new\" xlink:title=\"psysml:3825b43b-bb71-4033-970e-c8c9e00cfd14\" xlink:type=\"simple\"><rect fill=\"#FEFECE\" filter=\"url(#f10uc6t3lz8lw0)\" height=\"45.9375\" id=\"E11\" rx=\"10\" ry=\"10\" style=\"stroke: #A80036; stroke-width: 1.5;\" width=\"42\" x=\"109\" y=\"84\"/><text fill=\"#000000\" font-family=\"sans-serif\" font-size=\"12\" font-style=\"italic\" lengthAdjust=\"spacingAndGlyphs\" textLength=\"40\" x=\"110\" y=\"100.1387\">«part»</text><text fill=\"#000000\" font-family=\"sans-serif\" font-size=\"12\" lengthAdjust=\"spacingAndGlyphs\" textLength=\"22\" x=\"119\" y=\"114.1074\">y: B</text><line style=\"stroke: #A80036; stroke-width: 1.5;\" x1=\"110\" x2=\"150\" y1=\"121.9375\" y2=\"121.9375\"/></a><!--MD5=[14ccda38c055a5c0da953d572bc50960]\n",
       "link E7 to E3--><a href=\"psysml:85e1ff22-6346-4a23-846d-dc1a236203c0\" target=\"_top\" title=\"psysml:85e1ff22-6346-4a23-846d-dc1a236203c0\" xlink:actuate=\"onRequest\" xlink:href=\"psysml:85e1ff22-6346-4a23-846d-dc1a236203c0\" xlink:show=\"new\" xlink:title=\"psysml:85e1ff22-6346-4a23-846d-dc1a236203c0\" xlink:type=\"simple\"><path d=\"M382,130.1 C382,145.37 382,166.16 382,184.57 \" fill=\"none\" id=\"E7-&gt;E3\" style=\"stroke: #A80036; stroke-width: 1.0;\"/><polygon fill=\"#FFFFFF\" points=\"382,204.61,375,185.61,389,185.61,382,204.61\" style=\"stroke: #A80036; stroke-width: 1.0;\"/><ellipse cx=\"377\" cy=\"179.91\" fill=\"#A80036\" rx=\"2\" ry=\"2\" style=\"stroke: #A80036; stroke-width: 1.0;\"/><ellipse cx=\"387\" cy=\"179.91\" fill=\"#A80036\" rx=\"2\" ry=\"2\" style=\"stroke: #A80036; stroke-width: 1.0;\"/></a><!--MD5=[1ccb2481ffa92f8d51a74ee30c51832a]\n",
       "link E8 to E5--><a href=\"psysml:483adec0-2d55-41ba-876c-1b8fe7d429ab\" target=\"_top\" title=\"psysml:483adec0-2d55-41ba-876c-1b8fe7d429ab\" xlink:actuate=\"onRequest\" xlink:href=\"psysml:483adec0-2d55-41ba-876c-1b8fe7d429ab\" xlink:show=\"new\" xlink:title=\"psysml:483adec0-2d55-41ba-876c-1b8fe7d429ab\" xlink:type=\"simple\"><path d=\"M283.84,124.59 C272.23,133.52 257.5,144.61 244,154 C223.51,168.25 200.41,183.24 180.38,195.91 \" fill=\"none\" id=\"E8-&gt;E5\" style=\"stroke: #A80036; stroke-width: 1.0;\"/><polygon fill=\"#FFFFFF\" points=\"163.36,206.57,175.7353,190.5434,183.175,202.403,163.36,206.57\" style=\"stroke: #A80036; stroke-width: 1.0;\"/><ellipse cx=\"181.6267\" cy=\"189.2086\" fill=\"#A80036\" rx=\"2\" ry=\"2\" style=\"stroke: #A80036; stroke-width: 1.0;\"/><ellipse cx=\"186.9408\" cy=\"197.6797\" fill=\"#A80036\" rx=\"2\" ry=\"2\" style=\"stroke: #A80036; stroke-width: 1.0;\"/></a><!--MD5=[feeac5eb423634930294aa81f2d25a4c]\n",
       "link E10 to E3--><a href=\"psysml:0e238847-8a3c-4f4a-a4c7-c4eca45a31b2\" target=\"_top\" title=\"psysml:0e238847-8a3c-4f4a-a4c7-c4eca45a31b2\" xlink:actuate=\"onRequest\" xlink:href=\"psysml:0e238847-8a3c-4f4a-a4c7-c4eca45a31b2\" xlink:show=\"new\" xlink:title=\"psysml:0e238847-8a3c-4f4a-a4c7-c4eca45a31b2\" xlink:type=\"simple\"><path d=\"M228.16,124.59 C239.77,133.52 254.5,144.61 268,154 C288.49,168.25 311.59,183.24 331.62,195.91 \" fill=\"none\" id=\"E10-&gt;E3\" style=\"stroke: #A80036; stroke-width: 1.0;\"/><polygon fill=\"#FFFFFF\" points=\"348.64,206.57,328.825,202.403,336.2647,190.5434,348.64,206.57\" style=\"stroke: #A80036; stroke-width: 1.0;\"/><ellipse cx=\"325.0592\" cy=\"197.6797\" fill=\"#A80036\" rx=\"2\" ry=\"2\" style=\"stroke: #A80036; stroke-width: 1.0;\"/><ellipse cx=\"330.3733\" cy=\"189.2086\" fill=\"#A80036\" rx=\"2\" ry=\"2\" style=\"stroke: #A80036; stroke-width: 1.0;\"/></a><!--MD5=[07b77f6f309248d16187045709d1c26e]\n",
       "link E11 to E5--><a href=\"psysml:1112046b-9823-4ab2-8a83-96247ffb9742\" target=\"_top\" title=\"psysml:1112046b-9823-4ab2-8a83-96247ffb9742\" xlink:actuate=\"onRequest\" xlink:href=\"psysml:1112046b-9823-4ab2-8a83-96247ffb9742\" xlink:show=\"new\" xlink:title=\"psysml:1112046b-9823-4ab2-8a83-96247ffb9742\" xlink:type=\"simple\"><path d=\"M130,130.1 C130,145.37 130,166.16 130,184.57 \" fill=\"none\" id=\"E11-&gt;E5\" style=\"stroke: #A80036; stroke-width: 1.0;\"/><polygon fill=\"#FFFFFF\" points=\"130,204.61,123,185.61,137,185.61,130,204.61\" style=\"stroke: #A80036; stroke-width: 1.0;\"/><ellipse cx=\"125\" cy=\"179.91\" fill=\"#A80036\" rx=\"2\" ry=\"2\" style=\"stroke: #A80036; stroke-width: 1.0;\"/><ellipse cx=\"135\" cy=\"179.91\" fill=\"#A80036\" rx=\"2\" ry=\"2\" style=\"stroke: #A80036; stroke-width: 1.0;\"/></a><!--MD5=[39f41a0e550fb3d73b4d8135617e30a2]\n",
       "link E12 to E3--><a href=\"psysml:ee0d4e1c-50f8-4d3c-8a56-5035ed7c5f53\" target=\"_top\" title=\"psysml:ee0d4e1c-50f8-4d3c-8a56-5035ed7c5f53\" xlink:actuate=\"onRequest\" xlink:href=\"psysml:ee0d4e1c-50f8-4d3c-8a56-5035ed7c5f53\" xlink:show=\"new\" xlink:title=\"psysml:ee0d4e1c-50f8-4d3c-8a56-5035ed7c5f53\" xlink:type=\"simple\"><path d=\"M444.7,130.1 C434.28,146.2 419.89,168.44 407.53,187.55 \" fill=\"none\" id=\"E12-&gt;E3\" style=\"stroke: #A80036; stroke-width: 1.0;\"/><polygon fill=\"#FFFFFF\" points=\"396.49,204.61,400.9313,184.8546,412.6866,192.4581,396.49,204.61\" style=\"stroke: #A80036; stroke-width: 1.0;\"/><ellipse cx=\"405.7063\" cy=\"181.1547\" fill=\"#A80036\" rx=\"2\" ry=\"2\" style=\"stroke: #A80036; stroke-width: 1.0;\"/><ellipse cx=\"414.103\" cy=\"186.5858\" fill=\"#A80036\" rx=\"2\" ry=\"2\" style=\"stroke: #A80036; stroke-width: 1.0;\"/></a><!--MD5=[066b2d8af59fea80ccdb3d54ad5c1091]\n",
       "link E13 to E5--><a href=\"psysml:1d6f62f5-9885-441d-bead-3e38c1577759\" target=\"_top\" title=\"psysml:1d6f62f5-9885-441d-bead-3e38c1577759\" xlink:actuate=\"onRequest\" xlink:href=\"psysml:1d6f62f5-9885-441d-bead-3e38c1577759\" xlink:show=\"new\" xlink:title=\"psysml:1d6f62f5-9885-441d-bead-3e38c1577759\" xlink:type=\"simple\"><path d=\"M67.3,130.1 C77.72,146.2 92.11,168.44 104.47,187.55 \" fill=\"none\" id=\"E13-&gt;E5\" style=\"stroke: #A80036; stroke-width: 1.0;\"/><polygon fill=\"#FFFFFF\" points=\"115.51,204.61,99.3134,192.4581,111.0687,184.8546,115.51,204.61\" style=\"stroke: #A80036; stroke-width: 1.0;\"/><ellipse cx=\"97.897\" cy=\"186.5858\" fill=\"#A80036\" rx=\"2\" ry=\"2\" style=\"stroke: #A80036; stroke-width: 1.0;\"/><ellipse cx=\"106.2937\" cy=\"181.1547\" fill=\"#A80036\" rx=\"2\" ry=\"2\" style=\"stroke: #A80036; stroke-width: 1.0;\"/></a><!--MD5=[3550145a615b1d8e3bdd80af2ade7676]\n",
       "@startuml\r\n",
       "skinparam wrapWidth 300\r\n",
       "hide circle\r\n",
       "\r\n",
       "package \"CircularImport\" as E1  [[psysml:6a62b0bb-ce07-42d9-b06f-c19bd22a93a2 ]]  {\r\n",
       "package \"P1\" as E2  [[psysml:e5793e48-aebf-4c77-9b1c-634d316c370a ]]  {\r\n",
       "comp def \"A\" as E3  <<(T,blue)part def>> [[psysml:4745677c-bede-4ab8-acdc-4365dad759bc ]] {\r\n",
       "}\r\n",
       "}\r\n",
       "package \"P2\" as E4  [[psysml:9f128572-3fea-4fc4-b18b-c92f97cc0f0b ]]  {\r\n",
       "comp def \"B\" as E5  <<(T,blue)part def>> [[psysml:a455b6ac-bbc4-40c1-9da4-354e9f8fdc46 ]] {\r\n",
       "}\r\n",
       "}\r\n",
       "package \"Test1\" as E6  [[psysml:6c517ad3-81f8-4503-b234-41386708eb5e ]]  {\r\n",
       "comp usage \"x: A\" as E7  <<(T,blue)part>> [[psysml:6b7db59d-d003-4043-9508-3fd9ac781eff ]] {\r\n",
       "}\r\n",
       "comp usage \"y: B\" as E8  <<(T,blue)part>> [[psysml:6c414e1f-4fb5-42fd-83aa-c158d2fbc464 ]] {\r\n",
       "}\r\n",
       "E7 - -:|> E3 [[psysml:85e1ff22-6346-4a23-846d-dc1a236203c0 ]] \r\n",
       "E8 - -:|> E5 [[psysml:483adec0-2d55-41ba-876c-1b8fe7d429ab ]] \r\n",
       "}\r\n",
       "package \"Test2\" as E9  [[psysml:81951965-8d4b-42c4-ba21-4255f6488007 ]]  {\r\n",
       "comp usage \"x: A\" as E10  <<(T,blue)part>> [[psysml:797261aa-a958-4475-9de3-b139176b10fb ]] {\r\n",
       "}\r\n",
       "comp usage \"y: B\" as E11  <<(T,blue)part>> [[psysml:3825b43b-bb71-4033-970e-c8c9e00cfd14 ]] {\r\n",
       "}\r\n",
       "E10 - -:|> E3 [[psysml:0e238847-8a3c-4f4a-a4c7-c4eca45a31b2 ]] \r\n",
       "E11 - -:|> E5 [[psysml:1112046b-9823-4ab2-8a83-96247ffb9742 ]] \r\n",
       "}\r\n",
       "comp usage \"x: A\" as E12  <<(T,blue)part>> [[psysml:e16c4bbb-61f3-4b61-a2b5-b03e29e494af ]] {\r\n",
       "}\r\n",
       "comp usage \"y: B\" as E13  <<(T,blue)part>> [[psysml:6a814915-eeda-4c4d-8e98-a86878ae1f3d ]] {\r\n",
       "}\r\n",
       "E12 - -:|> E3 [[psysml:ee0d4e1c-50f8-4d3c-8a56-5035ed7c5f53 ]] \r\n",
       "E13 - -:|> E5 [[psysml:1d6f62f5-9885-441d-bead-3e38c1577759 ]] \r\n",
       "}\r\n",
       "@enduml\r\n",
       "\n",
       "PlantUML version 1.2020.13(Sat Jun 13 12:26:38 UTC 2020)\n",
       "(EPL source distribution)\n",
       "Java Runtime: OpenJDK Runtime Environment\n",
       "JVM: OpenJDK 64-Bit Server VM\n",
       "Default Encoding: UTF-8\n",
       "Language: en\n",
       "Country: null\n",
       "--></g></svg>"
      ]
     },
     "execution_count": 23,
     "metadata": {},
     "output_type": "execute_result"
    }
   ],
   "source": [
    "%viz --style=\"STDCOLOR\" --view=\"Default\" \"CircularImport\""
   ]
  },
  {
   "cell_type": "code",
   "execution_count": 24,
   "id": "moral-poverty",
   "metadata": {
    "execution": {
     "iopub.execute_input": "2021-03-25T13:13:18.514119Z",
     "iopub.status.busy": "2021-03-25T13:13:18.513275Z",
     "iopub.status.idle": "2021-03-25T13:13:18.601905Z",
     "shell.execute_reply": "2021-03-25T13:13:18.600447Z"
    }
   },
   "outputs": [
    {
     "data": {
      "image/svg+xml": [
       "<?xml version=\"1.0\" encoding=\"UTF-8\" standalone=\"no\"?><svg xmlns=\"http://www.w3.org/2000/svg\" xmlns:xlink=\"http://www.w3.org/1999/xlink\" contentScriptType=\"application/ecmascript\" contentStyleType=\"text/css\" height=\"303px\" preserveAspectRatio=\"none\" style=\"width:518px;height:303px;\" version=\"1.1\" viewBox=\"0 0 518 303\" width=\"518px\" zoomAndPan=\"magnify\"><defs><filter height=\"300%\" id=\"f10uc6t3lz8lw0\" width=\"300%\" x=\"-1\" y=\"-1\"><feGaussianBlur result=\"blurOut\" stdDeviation=\"2.0\"/><feColorMatrix in=\"blurOut\" result=\"blurOut2\" type=\"matrix\" values=\"0 0 0 0 0 0 0 0 0 0 0 0 0 0 0 0 0 0 .4 0\"/><feOffset dx=\"4.0\" dy=\"4.0\" in=\"blurOut2\" result=\"blurOut3\"/><feBlend in=\"SourceGraphic\" in2=\"blurOut3\" mode=\"normal\"/></filter></defs><g><!--MD5=[fbc87193dbaf4d95561dea2c320d4a47]\n",
       "cluster E1--><a href=\"psysml:6a62b0bb-ce07-42d9-b06f-c19bd22a93a2\" target=\"_top\" title=\"psysml:6a62b0bb-ce07-42d9-b06f-c19bd22a93a2\" xlink:actuate=\"onRequest\" xlink:href=\"psysml:6a62b0bb-ce07-42d9-b06f-c19bd22a93a2\" xlink:show=\"new\" xlink:title=\"psysml:6a62b0bb-ce07-42d9-b06f-c19bd22a93a2\" xlink:type=\"simple\"><polygon fill=\"#FFFFFF\" filter=\"url(#f10uc6t3lz8lw0)\" points=\"16,6,134,6,141,28.2969,496,28.2969,496,291,16,291,16,6\" style=\"stroke: #000000; stroke-width: 1.5;\"/><line style=\"stroke: #000000; stroke-width: 1.5;\" x1=\"16\" x2=\"141\" y1=\"28.2969\" y2=\"28.2969\"/><text fill=\"#000000\" font-family=\"sans-serif\" font-size=\"14\" font-weight=\"bold\" lengthAdjust=\"spacingAndGlyphs\" textLength=\"112\" x=\"20\" y=\"20.9951\">CircularImport</text></a><!--MD5=[e4f7fae6ed58524ba242bb0b0d3be6b7]\n",
       "cluster E2--><a href=\"psysml:e5793e48-aebf-4c77-9b1c-634d316c370a\" target=\"_top\" title=\"psysml:e5793e48-aebf-4c77-9b1c-634d316c370a\" xlink:actuate=\"onRequest\" xlink:href=\"psysml:e5793e48-aebf-4c77-9b1c-634d316c370a\" xlink:show=\"new\" xlink:title=\"psysml:e5793e48-aebf-4c77-9b1c-634d316c370a\" xlink:type=\"simple\"><polygon fill=\"#FFFFFF\" filter=\"url(#f10uc6t3lz8lw0)\" points=\"333,170,359,170,366,192.2969,431,192.2969,431,267,333,267,333,170\" style=\"stroke: #000000; stroke-width: 1.5;\"/><line style=\"stroke: #000000; stroke-width: 1.5;\" x1=\"333\" x2=\"366\" y1=\"192.2969\" y2=\"192.2969\"/><text fill=\"#000000\" font-family=\"sans-serif\" font-size=\"14\" font-weight=\"bold\" lengthAdjust=\"spacingAndGlyphs\" textLength=\"20\" x=\"337\" y=\"184.9951\">P1</text></a><!--MD5=[f6df4d0ebaf0b5dfb2ced0ae5af7c670]\n",
       "cluster E4--><a href=\"psysml:9f128572-3fea-4fc4-b18b-c92f97cc0f0b\" target=\"_top\" title=\"psysml:9f128572-3fea-4fc4-b18b-c92f97cc0f0b\" xlink:actuate=\"onRequest\" xlink:href=\"psysml:9f128572-3fea-4fc4-b18b-c92f97cc0f0b\" xlink:show=\"new\" xlink:title=\"psysml:9f128572-3fea-4fc4-b18b-c92f97cc0f0b\" xlink:type=\"simple\"><polygon fill=\"#FFFFFF\" filter=\"url(#f10uc6t3lz8lw0)\" points=\"81,170,107,170,114,192.2969,179,192.2969,179,267,81,267,81,170\" style=\"stroke: #000000; stroke-width: 1.5;\"/><line style=\"stroke: #000000; stroke-width: 1.5;\" x1=\"81\" x2=\"114\" y1=\"192.2969\" y2=\"192.2969\"/><text fill=\"#000000\" font-family=\"sans-serif\" font-size=\"14\" font-weight=\"bold\" lengthAdjust=\"spacingAndGlyphs\" textLength=\"20\" x=\"85\" y=\"184.9951\">P2</text></a><!--MD5=[14e3b0961a2654348d326746436168a1]\n",
       "cluster E6--><a href=\"psysml:6c517ad3-81f8-4503-b234-41386708eb5e\" target=\"_top\" title=\"psysml:6c517ad3-81f8-4503-b234-41386708eb5e\" xlink:actuate=\"onRequest\" xlink:href=\"psysml:6c517ad3-81f8-4503-b234-41386708eb5e\" xlink:show=\"new\" xlink:title=\"psysml:6c517ad3-81f8-4503-b234-41386708eb5e\" xlink:type=\"simple\"><polygon fill=\"#FFFFFF\" filter=\"url(#f10uc6t3lz8lw0)\" points=\"268,49,319,49,326,71.2969,419,71.2969,419,146,268,146,268,49\" style=\"stroke: #000000; stroke-width: 1.5;\"/><line style=\"stroke: #000000; stroke-width: 1.5;\" x1=\"268\" x2=\"326\" y1=\"71.2969\" y2=\"71.2969\"/><text fill=\"#000000\" font-family=\"sans-serif\" font-size=\"14\" font-weight=\"bold\" lengthAdjust=\"spacingAndGlyphs\" textLength=\"45\" x=\"272\" y=\"63.9951\">Test1</text></a><!--MD5=[7f149f147074ac12df2cb0a7728a5fb0]\n",
       "cluster E9--><a href=\"psysml:81951965-8d4b-42c4-ba21-4255f6488007\" target=\"_top\" title=\"psysml:81951965-8d4b-42c4-ba21-4255f6488007\" xlink:actuate=\"onRequest\" xlink:href=\"psysml:81951965-8d4b-42c4-ba21-4255f6488007\" xlink:show=\"new\" xlink:title=\"psysml:81951965-8d4b-42c4-ba21-4255f6488007\" xlink:type=\"simple\"><polygon fill=\"#FFFFFF\" filter=\"url(#f10uc6t3lz8lw0)\" points=\"93,49,144,49,151,71.2969,244,71.2969,244,146,93,146,93,49\" style=\"stroke: #000000; stroke-width: 1.5;\"/><line style=\"stroke: #000000; stroke-width: 1.5;\" x1=\"93\" x2=\"151\" y1=\"71.2969\" y2=\"71.2969\"/><text fill=\"#000000\" font-family=\"sans-serif\" font-size=\"14\" font-weight=\"bold\" lengthAdjust=\"spacingAndGlyphs\" textLength=\"45\" x=\"97\" y=\"63.9951\">Test2</text></a><!--MD5=[49a0ec8f00dab7302a31f22d0f0fe584]\n",
       "class E12--><a href=\"psysml:e16c4bbb-61f3-4b61-a2b5-b03e29e494af\" target=\"_top\" title=\"psysml:e16c4bbb-61f3-4b61-a2b5-b03e29e494af\" xlink:actuate=\"onRequest\" xlink:href=\"psysml:e16c4bbb-61f3-4b61-a2b5-b03e29e494af\" xlink:show=\"new\" xlink:title=\"psysml:e16c4bbb-61f3-4b61-a2b5-b03e29e494af\" xlink:type=\"simple\"><rect fill=\"#FEFECE\" filter=\"url(#f10uc6t3lz8lw0)\" height=\"45.9375\" id=\"E12\" rx=\"10\" ry=\"10\" style=\"stroke: #A80036; stroke-width: 1.5;\" width=\"42\" x=\"438\" y=\"84\"/><text fill=\"#000000\" font-family=\"sans-serif\" font-size=\"12\" font-style=\"italic\" lengthAdjust=\"spacingAndGlyphs\" textLength=\"40\" x=\"439\" y=\"100.1387\">«part»</text><text fill=\"#000000\" font-family=\"sans-serif\" font-size=\"12\" lengthAdjust=\"spacingAndGlyphs\" textLength=\"22\" x=\"448\" y=\"114.1074\">x: A</text><line style=\"stroke: #A80036; stroke-width: 1.5;\" x1=\"439\" x2=\"479\" y1=\"121.9375\" y2=\"121.9375\"/></a><!--MD5=[ee3c913d1a06f366521f9ef512b67efe]\n",
       "class E13--><a href=\"psysml:6a814915-eeda-4c4d-8e98-a86878ae1f3d\" target=\"_top\" title=\"psysml:6a814915-eeda-4c4d-8e98-a86878ae1f3d\" xlink:actuate=\"onRequest\" xlink:href=\"psysml:6a814915-eeda-4c4d-8e98-a86878ae1f3d\" xlink:show=\"new\" xlink:title=\"psysml:6a814915-eeda-4c4d-8e98-a86878ae1f3d\" xlink:type=\"simple\"><rect fill=\"#FEFECE\" filter=\"url(#f10uc6t3lz8lw0)\" height=\"45.9375\" id=\"E13\" rx=\"10\" ry=\"10\" style=\"stroke: #A80036; stroke-width: 1.5;\" width=\"42\" x=\"32\" y=\"84\"/><text fill=\"#000000\" font-family=\"sans-serif\" font-size=\"12\" font-style=\"italic\" lengthAdjust=\"spacingAndGlyphs\" textLength=\"40\" x=\"33\" y=\"100.1387\">«part»</text><text fill=\"#000000\" font-family=\"sans-serif\" font-size=\"12\" lengthAdjust=\"spacingAndGlyphs\" textLength=\"22\" x=\"42\" y=\"114.1074\">y: B</text><line style=\"stroke: #A80036; stroke-width: 1.5;\" x1=\"33\" x2=\"73\" y1=\"121.9375\" y2=\"121.9375\"/></a><!--MD5=[09b614a08d8cba4a07c9adeb5e0fee81]\n",
       "class E3--><a href=\"psysml:4745677c-bede-4ab8-acdc-4365dad759bc\" target=\"_top\" title=\"psysml:4745677c-bede-4ab8-acdc-4365dad759bc\" xlink:actuate=\"onRequest\" xlink:href=\"psysml:4745677c-bede-4ab8-acdc-4365dad759bc\" xlink:show=\"new\" xlink:title=\"psysml:4745677c-bede-4ab8-acdc-4365dad759bc\" xlink:type=\"simple\"><rect fill=\"#FEFECE\" filter=\"url(#f10uc6t3lz8lw0)\" height=\"45.9375\" id=\"E3\" style=\"stroke: #A80036; stroke-width: 1.5;\" width=\"66\" x=\"349\" y=\"205\"/><text fill=\"#000000\" font-family=\"sans-serif\" font-size=\"12\" font-style=\"italic\" lengthAdjust=\"spacingAndGlyphs\" textLength=\"64\" x=\"350\" y=\"221.1387\">«part def»</text><text fill=\"#000000\" font-family=\"sans-serif\" font-size=\"12\" lengthAdjust=\"spacingAndGlyphs\" textLength=\"8\" x=\"378\" y=\"235.1074\">A</text><line style=\"stroke: #A80036; stroke-width: 1.5;\" x1=\"350\" x2=\"414\" y1=\"242.9375\" y2=\"242.9375\"/></a><!--MD5=[270fce915f116d4de14055a7c1d9a0f3]\n",
       "class E5--><a href=\"psysml:a455b6ac-bbc4-40c1-9da4-354e9f8fdc46\" target=\"_top\" title=\"psysml:a455b6ac-bbc4-40c1-9da4-354e9f8fdc46\" xlink:actuate=\"onRequest\" xlink:href=\"psysml:a455b6ac-bbc4-40c1-9da4-354e9f8fdc46\" xlink:show=\"new\" xlink:title=\"psysml:a455b6ac-bbc4-40c1-9da4-354e9f8fdc46\" xlink:type=\"simple\"><rect fill=\"#FEFECE\" filter=\"url(#f10uc6t3lz8lw0)\" height=\"45.9375\" id=\"E5\" style=\"stroke: #A80036; stroke-width: 1.5;\" width=\"66\" x=\"97\" y=\"205\"/><text fill=\"#000000\" font-family=\"sans-serif\" font-size=\"12\" font-style=\"italic\" lengthAdjust=\"spacingAndGlyphs\" textLength=\"64\" x=\"98\" y=\"221.1387\">«part def»</text><text fill=\"#000000\" font-family=\"sans-serif\" font-size=\"12\" lengthAdjust=\"spacingAndGlyphs\" textLength=\"8\" x=\"126\" y=\"235.1074\">B</text><line style=\"stroke: #A80036; stroke-width: 1.5;\" x1=\"98\" x2=\"162\" y1=\"242.9375\" y2=\"242.9375\"/></a><!--MD5=[2156ba9850f5573cc1fc38a6a4b2f02b]\n",
       "class E7--><a href=\"psysml:6b7db59d-d003-4043-9508-3fd9ac781eff\" target=\"_top\" title=\"psysml:6b7db59d-d003-4043-9508-3fd9ac781eff\" xlink:actuate=\"onRequest\" xlink:href=\"psysml:6b7db59d-d003-4043-9508-3fd9ac781eff\" xlink:show=\"new\" xlink:title=\"psysml:6b7db59d-d003-4043-9508-3fd9ac781eff\" xlink:type=\"simple\"><rect fill=\"#FEFECE\" filter=\"url(#f10uc6t3lz8lw0)\" height=\"45.9375\" id=\"E7\" rx=\"10\" ry=\"10\" style=\"stroke: #A80036; stroke-width: 1.5;\" width=\"42\" x=\"361\" y=\"84\"/><text fill=\"#000000\" font-family=\"sans-serif\" font-size=\"12\" font-style=\"italic\" lengthAdjust=\"spacingAndGlyphs\" textLength=\"40\" x=\"362\" y=\"100.1387\">«part»</text><text fill=\"#000000\" font-family=\"sans-serif\" font-size=\"12\" lengthAdjust=\"spacingAndGlyphs\" textLength=\"22\" x=\"371\" y=\"114.1074\">x: A</text><line style=\"stroke: #A80036; stroke-width: 1.5;\" x1=\"362\" x2=\"402\" y1=\"121.9375\" y2=\"121.9375\"/></a><!--MD5=[b9389687b975829384b498ac4b7476b2]\n",
       "class E8--><a href=\"psysml:6c414e1f-4fb5-42fd-83aa-c158d2fbc464\" target=\"_top\" title=\"psysml:6c414e1f-4fb5-42fd-83aa-c158d2fbc464\" xlink:actuate=\"onRequest\" xlink:href=\"psysml:6c414e1f-4fb5-42fd-83aa-c158d2fbc464\" xlink:show=\"new\" xlink:title=\"psysml:6c414e1f-4fb5-42fd-83aa-c158d2fbc464\" xlink:type=\"simple\"><rect fill=\"#FEFECE\" filter=\"url(#f10uc6t3lz8lw0)\" height=\"45.9375\" id=\"E8\" rx=\"10\" ry=\"10\" style=\"stroke: #A80036; stroke-width: 1.5;\" width=\"42\" x=\"284\" y=\"84\"/><text fill=\"#000000\" font-family=\"sans-serif\" font-size=\"12\" font-style=\"italic\" lengthAdjust=\"spacingAndGlyphs\" textLength=\"40\" x=\"285\" y=\"100.1387\">«part»</text><text fill=\"#000000\" font-family=\"sans-serif\" font-size=\"12\" lengthAdjust=\"spacingAndGlyphs\" textLength=\"22\" x=\"294\" y=\"114.1074\">y: B</text><line style=\"stroke: #A80036; stroke-width: 1.5;\" x1=\"285\" x2=\"325\" y1=\"121.9375\" y2=\"121.9375\"/></a><!--MD5=[96f4274e9e20536e775497830990834d]\n",
       "class E10--><a href=\"psysml:797261aa-a958-4475-9de3-b139176b10fb\" target=\"_top\" title=\"psysml:797261aa-a958-4475-9de3-b139176b10fb\" xlink:actuate=\"onRequest\" xlink:href=\"psysml:797261aa-a958-4475-9de3-b139176b10fb\" xlink:show=\"new\" xlink:title=\"psysml:797261aa-a958-4475-9de3-b139176b10fb\" xlink:type=\"simple\"><rect fill=\"#FEFECE\" filter=\"url(#f10uc6t3lz8lw0)\" height=\"45.9375\" id=\"E10\" rx=\"10\" ry=\"10\" style=\"stroke: #A80036; stroke-width: 1.5;\" width=\"42\" x=\"186\" y=\"84\"/><text fill=\"#000000\" font-family=\"sans-serif\" font-size=\"12\" font-style=\"italic\" lengthAdjust=\"spacingAndGlyphs\" textLength=\"40\" x=\"187\" y=\"100.1387\">«part»</text><text fill=\"#000000\" font-family=\"sans-serif\" font-size=\"12\" lengthAdjust=\"spacingAndGlyphs\" textLength=\"22\" x=\"196\" y=\"114.1074\">x: A</text><line style=\"stroke: #A80036; stroke-width: 1.5;\" x1=\"187\" x2=\"227\" y1=\"121.9375\" y2=\"121.9375\"/></a><!--MD5=[1dd1bfd58a279cf63c5f349dbc8fc6a1]\n",
       "class E11--><a href=\"psysml:3825b43b-bb71-4033-970e-c8c9e00cfd14\" target=\"_top\" title=\"psysml:3825b43b-bb71-4033-970e-c8c9e00cfd14\" xlink:actuate=\"onRequest\" xlink:href=\"psysml:3825b43b-bb71-4033-970e-c8c9e00cfd14\" xlink:show=\"new\" xlink:title=\"psysml:3825b43b-bb71-4033-970e-c8c9e00cfd14\" xlink:type=\"simple\"><rect fill=\"#FEFECE\" filter=\"url(#f10uc6t3lz8lw0)\" height=\"45.9375\" id=\"E11\" rx=\"10\" ry=\"10\" style=\"stroke: #A80036; stroke-width: 1.5;\" width=\"42\" x=\"109\" y=\"84\"/><text fill=\"#000000\" font-family=\"sans-serif\" font-size=\"12\" font-style=\"italic\" lengthAdjust=\"spacingAndGlyphs\" textLength=\"40\" x=\"110\" y=\"100.1387\">«part»</text><text fill=\"#000000\" font-family=\"sans-serif\" font-size=\"12\" lengthAdjust=\"spacingAndGlyphs\" textLength=\"22\" x=\"119\" y=\"114.1074\">y: B</text><line style=\"stroke: #A80036; stroke-width: 1.5;\" x1=\"110\" x2=\"150\" y1=\"121.9375\" y2=\"121.9375\"/></a><!--MD5=[14ccda38c055a5c0da953d572bc50960]\n",
       "link E7 to E3--><a href=\"psysml:85e1ff22-6346-4a23-846d-dc1a236203c0\" target=\"_top\" title=\"psysml:85e1ff22-6346-4a23-846d-dc1a236203c0\" xlink:actuate=\"onRequest\" xlink:href=\"psysml:85e1ff22-6346-4a23-846d-dc1a236203c0\" xlink:show=\"new\" xlink:title=\"psysml:85e1ff22-6346-4a23-846d-dc1a236203c0\" xlink:type=\"simple\"><path d=\"M382,130.1 C382,145.37 382,166.16 382,184.57 \" fill=\"none\" id=\"E7-&gt;E3\" style=\"stroke: #A80036; stroke-width: 1.0;\"/><polygon fill=\"#FFFFFF\" points=\"382,204.61,375,185.61,389,185.61,382,204.61\" style=\"stroke: #A80036; stroke-width: 1.0;\"/><ellipse cx=\"377\" cy=\"179.91\" fill=\"#A80036\" rx=\"2\" ry=\"2\" style=\"stroke: #A80036; stroke-width: 1.0;\"/><ellipse cx=\"387\" cy=\"179.91\" fill=\"#A80036\" rx=\"2\" ry=\"2\" style=\"stroke: #A80036; stroke-width: 1.0;\"/></a><!--MD5=[1ccb2481ffa92f8d51a74ee30c51832a]\n",
       "link E8 to E5--><a href=\"psysml:483adec0-2d55-41ba-876c-1b8fe7d429ab\" target=\"_top\" title=\"psysml:483adec0-2d55-41ba-876c-1b8fe7d429ab\" xlink:actuate=\"onRequest\" xlink:href=\"psysml:483adec0-2d55-41ba-876c-1b8fe7d429ab\" xlink:show=\"new\" xlink:title=\"psysml:483adec0-2d55-41ba-876c-1b8fe7d429ab\" xlink:type=\"simple\"><path d=\"M283.84,124.59 C272.23,133.52 257.5,144.61 244,154 C223.51,168.25 200.41,183.24 180.38,195.91 \" fill=\"none\" id=\"E8-&gt;E5\" style=\"stroke: #A80036; stroke-width: 1.0;\"/><polygon fill=\"#FFFFFF\" points=\"163.36,206.57,175.7353,190.5434,183.175,202.403,163.36,206.57\" style=\"stroke: #A80036; stroke-width: 1.0;\"/><ellipse cx=\"181.6267\" cy=\"189.2086\" fill=\"#A80036\" rx=\"2\" ry=\"2\" style=\"stroke: #A80036; stroke-width: 1.0;\"/><ellipse cx=\"186.9408\" cy=\"197.6797\" fill=\"#A80036\" rx=\"2\" ry=\"2\" style=\"stroke: #A80036; stroke-width: 1.0;\"/></a><!--MD5=[feeac5eb423634930294aa81f2d25a4c]\n",
       "link E10 to E3--><a href=\"psysml:0e238847-8a3c-4f4a-a4c7-c4eca45a31b2\" target=\"_top\" title=\"psysml:0e238847-8a3c-4f4a-a4c7-c4eca45a31b2\" xlink:actuate=\"onRequest\" xlink:href=\"psysml:0e238847-8a3c-4f4a-a4c7-c4eca45a31b2\" xlink:show=\"new\" xlink:title=\"psysml:0e238847-8a3c-4f4a-a4c7-c4eca45a31b2\" xlink:type=\"simple\"><path d=\"M228.16,124.59 C239.77,133.52 254.5,144.61 268,154 C288.49,168.25 311.59,183.24 331.62,195.91 \" fill=\"none\" id=\"E10-&gt;E3\" style=\"stroke: #A80036; stroke-width: 1.0;\"/><polygon fill=\"#FFFFFF\" points=\"348.64,206.57,328.825,202.403,336.2647,190.5434,348.64,206.57\" style=\"stroke: #A80036; stroke-width: 1.0;\"/><ellipse cx=\"325.0592\" cy=\"197.6797\" fill=\"#A80036\" rx=\"2\" ry=\"2\" style=\"stroke: #A80036; stroke-width: 1.0;\"/><ellipse cx=\"330.3733\" cy=\"189.2086\" fill=\"#A80036\" rx=\"2\" ry=\"2\" style=\"stroke: #A80036; stroke-width: 1.0;\"/></a><!--MD5=[07b77f6f309248d16187045709d1c26e]\n",
       "link E11 to E5--><a href=\"psysml:1112046b-9823-4ab2-8a83-96247ffb9742\" target=\"_top\" title=\"psysml:1112046b-9823-4ab2-8a83-96247ffb9742\" xlink:actuate=\"onRequest\" xlink:href=\"psysml:1112046b-9823-4ab2-8a83-96247ffb9742\" xlink:show=\"new\" xlink:title=\"psysml:1112046b-9823-4ab2-8a83-96247ffb9742\" xlink:type=\"simple\"><path d=\"M130,130.1 C130,145.37 130,166.16 130,184.57 \" fill=\"none\" id=\"E11-&gt;E5\" style=\"stroke: #A80036; stroke-width: 1.0;\"/><polygon fill=\"#FFFFFF\" points=\"130,204.61,123,185.61,137,185.61,130,204.61\" style=\"stroke: #A80036; stroke-width: 1.0;\"/><ellipse cx=\"125\" cy=\"179.91\" fill=\"#A80036\" rx=\"2\" ry=\"2\" style=\"stroke: #A80036; stroke-width: 1.0;\"/><ellipse cx=\"135\" cy=\"179.91\" fill=\"#A80036\" rx=\"2\" ry=\"2\" style=\"stroke: #A80036; stroke-width: 1.0;\"/></a><!--MD5=[39f41a0e550fb3d73b4d8135617e30a2]\n",
       "link E12 to E3--><a href=\"psysml:ee0d4e1c-50f8-4d3c-8a56-5035ed7c5f53\" target=\"_top\" title=\"psysml:ee0d4e1c-50f8-4d3c-8a56-5035ed7c5f53\" xlink:actuate=\"onRequest\" xlink:href=\"psysml:ee0d4e1c-50f8-4d3c-8a56-5035ed7c5f53\" xlink:show=\"new\" xlink:title=\"psysml:ee0d4e1c-50f8-4d3c-8a56-5035ed7c5f53\" xlink:type=\"simple\"><path d=\"M444.7,130.1 C434.28,146.2 419.89,168.44 407.53,187.55 \" fill=\"none\" id=\"E12-&gt;E3\" style=\"stroke: #A80036; stroke-width: 1.0;\"/><polygon fill=\"#FFFFFF\" points=\"396.49,204.61,400.9313,184.8546,412.6866,192.4581,396.49,204.61\" style=\"stroke: #A80036; stroke-width: 1.0;\"/><ellipse cx=\"405.7063\" cy=\"181.1547\" fill=\"#A80036\" rx=\"2\" ry=\"2\" style=\"stroke: #A80036; stroke-width: 1.0;\"/><ellipse cx=\"414.103\" cy=\"186.5858\" fill=\"#A80036\" rx=\"2\" ry=\"2\" style=\"stroke: #A80036; stroke-width: 1.0;\"/></a><!--MD5=[066b2d8af59fea80ccdb3d54ad5c1091]\n",
       "link E13 to E5--><a href=\"psysml:1d6f62f5-9885-441d-bead-3e38c1577759\" target=\"_top\" title=\"psysml:1d6f62f5-9885-441d-bead-3e38c1577759\" xlink:actuate=\"onRequest\" xlink:href=\"psysml:1d6f62f5-9885-441d-bead-3e38c1577759\" xlink:show=\"new\" xlink:title=\"psysml:1d6f62f5-9885-441d-bead-3e38c1577759\" xlink:type=\"simple\"><path d=\"M67.3,130.1 C77.72,146.2 92.11,168.44 104.47,187.55 \" fill=\"none\" id=\"E13-&gt;E5\" style=\"stroke: #A80036; stroke-width: 1.0;\"/><polygon fill=\"#FFFFFF\" points=\"115.51,204.61,99.3134,192.4581,111.0687,184.8546,115.51,204.61\" style=\"stroke: #A80036; stroke-width: 1.0;\"/><ellipse cx=\"97.897\" cy=\"186.5858\" fill=\"#A80036\" rx=\"2\" ry=\"2\" style=\"stroke: #A80036; stroke-width: 1.0;\"/><ellipse cx=\"106.2937\" cy=\"181.1547\" fill=\"#A80036\" rx=\"2\" ry=\"2\" style=\"stroke: #A80036; stroke-width: 1.0;\"/></a><!--MD5=[3550145a615b1d8e3bdd80af2ade7676]\n",
       "@startuml\r\n",
       "skinparam wrapWidth 300\r\n",
       "hide circle\r\n",
       "\r\n",
       "package \"CircularImport\" as E1  [[psysml:6a62b0bb-ce07-42d9-b06f-c19bd22a93a2 ]]  {\r\n",
       "package \"P1\" as E2  [[psysml:e5793e48-aebf-4c77-9b1c-634d316c370a ]]  {\r\n",
       "comp def \"A\" as E3  <<(T,blue)part def>> [[psysml:4745677c-bede-4ab8-acdc-4365dad759bc ]] {\r\n",
       "}\r\n",
       "}\r\n",
       "package \"P2\" as E4  [[psysml:9f128572-3fea-4fc4-b18b-c92f97cc0f0b ]]  {\r\n",
       "comp def \"B\" as E5  <<(T,blue)part def>> [[psysml:a455b6ac-bbc4-40c1-9da4-354e9f8fdc46 ]] {\r\n",
       "}\r\n",
       "}\r\n",
       "package \"Test1\" as E6  [[psysml:6c517ad3-81f8-4503-b234-41386708eb5e ]]  {\r\n",
       "comp usage \"x: A\" as E7  <<(T,blue)part>> [[psysml:6b7db59d-d003-4043-9508-3fd9ac781eff ]] {\r\n",
       "}\r\n",
       "comp usage \"y: B\" as E8  <<(T,blue)part>> [[psysml:6c414e1f-4fb5-42fd-83aa-c158d2fbc464 ]] {\r\n",
       "}\r\n",
       "E7 - -:|> E3 [[psysml:85e1ff22-6346-4a23-846d-dc1a236203c0 ]] \r\n",
       "E8 - -:|> E5 [[psysml:483adec0-2d55-41ba-876c-1b8fe7d429ab ]] \r\n",
       "}\r\n",
       "package \"Test2\" as E9  [[psysml:81951965-8d4b-42c4-ba21-4255f6488007 ]]  {\r\n",
       "comp usage \"x: A\" as E10  <<(T,blue)part>> [[psysml:797261aa-a958-4475-9de3-b139176b10fb ]] {\r\n",
       "}\r\n",
       "comp usage \"y: B\" as E11  <<(T,blue)part>> [[psysml:3825b43b-bb71-4033-970e-c8c9e00cfd14 ]] {\r\n",
       "}\r\n",
       "E10 - -:|> E3 [[psysml:0e238847-8a3c-4f4a-a4c7-c4eca45a31b2 ]] \r\n",
       "E11 - -:|> E5 [[psysml:1112046b-9823-4ab2-8a83-96247ffb9742 ]] \r\n",
       "}\r\n",
       "comp usage \"x: A\" as E12  <<(T,blue)part>> [[psysml:e16c4bbb-61f3-4b61-a2b5-b03e29e494af ]] {\r\n",
       "}\r\n",
       "comp usage \"y: B\" as E13  <<(T,blue)part>> [[psysml:6a814915-eeda-4c4d-8e98-a86878ae1f3d ]] {\r\n",
       "}\r\n",
       "E12 - -:|> E3 [[psysml:ee0d4e1c-50f8-4d3c-8a56-5035ed7c5f53 ]] \r\n",
       "E13 - -:|> E5 [[psysml:1d6f62f5-9885-441d-bead-3e38c1577759 ]] \r\n",
       "}\r\n",
       "@enduml\r\n",
       "\n",
       "PlantUML version 1.2020.13(Sat Jun 13 12:26:38 UTC 2020)\n",
       "(EPL source distribution)\n",
       "Java Runtime: OpenJDK Runtime Environment\n",
       "JVM: OpenJDK 64-Bit Server VM\n",
       "Default Encoding: UTF-8\n",
       "Language: en\n",
       "Country: null\n",
       "--></g></svg>"
      ]
     },
     "execution_count": 24,
     "metadata": {},
     "output_type": "execute_result"
    }
   ],
   "source": [
    "%viz --style=\"STDCOLOR\" --view=\"Tree\" \"CircularImport\""
   ]
  },
  {
   "cell_type": "code",
   "execution_count": 25,
   "id": "hungry-midnight",
   "metadata": {
    "execution": {
     "iopub.execute_input": "2021-03-25T13:13:18.652923Z",
     "iopub.status.busy": "2021-03-25T13:13:18.652487Z",
     "iopub.status.idle": "2021-03-25T13:13:18.660222Z",
     "shell.execute_reply": "2021-03-25T13:13:18.660568Z"
    }
   },
   "outputs": [
    {
     "data": {
      "image/svg+xml": [
       "<?xml version=\"1.0\" encoding=\"UTF-8\" standalone=\"no\"?><svg xmlns=\"http://www.w3.org/2000/svg\" xmlns:xlink=\"http://www.w3.org/1999/xlink\" contentScriptType=\"application/ecmascript\" contentStyleType=\"text/css\" height=\"12px\" preserveAspectRatio=\"none\" style=\"width:12px;height:12px;\" version=\"1.1\" viewBox=\"0 0 12 12\" width=\"12px\" zoomAndPan=\"magnify\"><defs/><g><!--MD5=[aeeef50f102b80d730deb6443d14f702]\n",
       "@startuml\r\n",
       "skinparam wrapWidth 300\r\n",
       "hide circle\r\n",
       "\r\n",
       "@enduml\r\n",
       "\n",
       "PlantUML version 1.2020.13(Sat Jun 13 12:26:38 UTC 2020)\n",
       "(EPL source distribution)\n",
       "Java Runtime: OpenJDK Runtime Environment\n",
       "JVM: OpenJDK 64-Bit Server VM\n",
       "Default Encoding: UTF-8\n",
       "Language: en\n",
       "Country: null\n",
       "--></g></svg>"
      ]
     },
     "execution_count": 25,
     "metadata": {},
     "output_type": "execute_result"
    }
   ],
   "source": [
    "%viz --style=\"STDCOLOR\" --view=\"State\" \"CircularImport\""
   ]
  },
  {
   "cell_type": "code",
   "execution_count": 26,
   "id": "attractive-antenna",
   "metadata": {
    "execution": {
     "iopub.execute_input": "2021-03-25T13:13:18.713365Z",
     "iopub.status.busy": "2021-03-25T13:13:18.712686Z",
     "iopub.status.idle": "2021-03-25T13:13:18.786650Z",
     "shell.execute_reply": "2021-03-25T13:13:18.786208Z"
    }
   },
   "outputs": [
    {
     "data": {
      "image/svg+xml": [
       "<?xml version=\"1.0\" encoding=\"UTF-8\" standalone=\"no\"?><svg xmlns=\"http://www.w3.org/2000/svg\" xmlns:xlink=\"http://www.w3.org/1999/xlink\" contentScriptType=\"application/ecmascript\" contentStyleType=\"text/css\" height=\"179px\" preserveAspectRatio=\"none\" style=\"width:846px;height:179px;\" version=\"1.1\" viewBox=\"0 0 846 179\" width=\"846px\" zoomAndPan=\"magnify\"><defs><filter height=\"300%\" id=\"f933nucs2ytz1\" width=\"300%\" x=\"-1\" y=\"-1\"><feGaussianBlur result=\"blurOut\" stdDeviation=\"2.0\"/><feColorMatrix in=\"blurOut\" result=\"blurOut2\" type=\"matrix\" values=\"0 0 0 0 0 0 0 0 0 0 0 0 0 0 0 0 0 0 .4 0\"/><feOffset dx=\"4.0\" dy=\"4.0\" in=\"blurOut2\" result=\"blurOut3\"/><feBlend in=\"SourceGraphic\" in2=\"blurOut3\" mode=\"normal\"/></filter></defs><g><!--MD5=[fbc87193dbaf4d95561dea2c320d4a47]\n",
       "cluster E1--><a href=\"psysml:6a62b0bb-ce07-42d9-b06f-c19bd22a93a2\" target=\"_top\" title=\"psysml:6a62b0bb-ce07-42d9-b06f-c19bd22a93a2\" xlink:actuate=\"onRequest\" xlink:href=\"psysml:6a62b0bb-ce07-42d9-b06f-c19bd22a93a2\" xlink:show=\"new\" xlink:title=\"psysml:6a62b0bb-ce07-42d9-b06f-c19bd22a93a2\" xlink:type=\"simple\"><polygon fill=\"#FFFFFF\" filter=\"url(#f933nucs2ytz1)\" points=\"16,6,134,6,141,28.2969,824,28.2969,824,167,16,167,16,6\" style=\"stroke: #000000; stroke-width: 1.5;\"/><line style=\"stroke: #000000; stroke-width: 1.5;\" x1=\"16\" x2=\"141\" y1=\"28.2969\" y2=\"28.2969\"/><text fill=\"#000000\" font-family=\"sans-serif\" font-size=\"14\" font-weight=\"bold\" lengthAdjust=\"spacingAndGlyphs\" textLength=\"112\" x=\"20\" y=\"20.9951\">CircularImport</text></a><!--MD5=[e4f7fae6ed58524ba242bb0b0d3be6b7]\n",
       "cluster E2--><a href=\"psysml:e5793e48-aebf-4c77-9b1c-634d316c370a\" target=\"_top\" title=\"psysml:e5793e48-aebf-4c77-9b1c-634d316c370a\" xlink:actuate=\"onRequest\" xlink:href=\"psysml:e5793e48-aebf-4c77-9b1c-634d316c370a\" xlink:show=\"new\" xlink:title=\"psysml:e5793e48-aebf-4c77-9b1c-634d316c370a\" xlink:type=\"simple\"><polygon fill=\"#FFFFFF\" filter=\"url(#f933nucs2ytz1)\" points=\"696,49,722,49,729,71.2969,800,71.2969,800,143,696,143,696,49\" style=\"stroke: #000000; stroke-width: 1.5;\"/><line style=\"stroke: #000000; stroke-width: 1.5;\" x1=\"696\" x2=\"729\" y1=\"71.2969\" y2=\"71.2969\"/><text fill=\"#000000\" font-family=\"sans-serif\" font-size=\"14\" font-weight=\"bold\" lengthAdjust=\"spacingAndGlyphs\" textLength=\"20\" x=\"700\" y=\"63.9951\">P1</text></a><!--MD5=[f6df4d0ebaf0b5dfb2ced0ae5af7c670]\n",
       "cluster E4--><a href=\"psysml:9f128572-3fea-4fc4-b18b-c92f97cc0f0b\" target=\"_top\" title=\"psysml:9f128572-3fea-4fc4-b18b-c92f97cc0f0b\" xlink:actuate=\"onRequest\" xlink:href=\"psysml:9f128572-3fea-4fc4-b18b-c92f97cc0f0b\" xlink:show=\"new\" xlink:title=\"psysml:9f128572-3fea-4fc4-b18b-c92f97cc0f0b\" xlink:type=\"simple\"><polygon fill=\"#FFFFFF\" filter=\"url(#f933nucs2ytz1)\" points=\"568,49,594,49,601,71.2969,672,71.2969,672,143,568,143,568,49\" style=\"stroke: #000000; stroke-width: 1.5;\"/><line style=\"stroke: #000000; stroke-width: 1.5;\" x1=\"568\" x2=\"601\" y1=\"71.2969\" y2=\"71.2969\"/><text fill=\"#000000\" font-family=\"sans-serif\" font-size=\"14\" font-weight=\"bold\" lengthAdjust=\"spacingAndGlyphs\" textLength=\"20\" x=\"572\" y=\"63.9951\">P2</text></a><!--MD5=[14e3b0961a2654348d326746436168a1]\n",
       "cluster E6--><a href=\"psysml:6c517ad3-81f8-4503-b234-41386708eb5e\" target=\"_top\" title=\"psysml:6c517ad3-81f8-4503-b234-41386708eb5e\" xlink:actuate=\"onRequest\" xlink:href=\"psysml:6c517ad3-81f8-4503-b234-41386708eb5e\" xlink:show=\"new\" xlink:title=\"psysml:6c517ad3-81f8-4503-b234-41386708eb5e\" xlink:type=\"simple\"><polygon fill=\"#FFFFFF\" filter=\"url(#f933nucs2ytz1)\" points=\"377,50.5,428,50.5,435,72.7969,544,72.7969,544,141.5,377,141.5,377,50.5\" style=\"stroke: #000000; stroke-width: 1.5;\"/><line style=\"stroke: #000000; stroke-width: 1.5;\" x1=\"377\" x2=\"435\" y1=\"72.7969\" y2=\"72.7969\"/><text fill=\"#000000\" font-family=\"sans-serif\" font-size=\"14\" font-weight=\"bold\" lengthAdjust=\"spacingAndGlyphs\" textLength=\"45\" x=\"381\" y=\"65.4951\">Test1</text></a><!--MD5=[7f149f147074ac12df2cb0a7728a5fb0]\n",
       "cluster E9--><a href=\"psysml:81951965-8d4b-42c4-ba21-4255f6488007\" target=\"_top\" title=\"psysml:81951965-8d4b-42c4-ba21-4255f6488007\" xlink:actuate=\"onRequest\" xlink:href=\"psysml:81951965-8d4b-42c4-ba21-4255f6488007\" xlink:show=\"new\" xlink:title=\"psysml:81951965-8d4b-42c4-ba21-4255f6488007\" xlink:type=\"simple\"><polygon fill=\"#FFFFFF\" filter=\"url(#f933nucs2ytz1)\" points=\"186,50.5,237,50.5,244,72.7969,353,72.7969,353,141.5,186,141.5,186,50.5\" style=\"stroke: #000000; stroke-width: 1.5;\"/><line style=\"stroke: #000000; stroke-width: 1.5;\" x1=\"186\" x2=\"244\" y1=\"72.7969\" y2=\"72.7969\"/><text fill=\"#000000\" font-family=\"sans-serif\" font-size=\"14\" font-weight=\"bold\" lengthAdjust=\"spacingAndGlyphs\" textLength=\"45\" x=\"190\" y=\"65.4951\">Test2</text></a><g id=\"E1.E2.E3\"><a href=\"psysml:4745677c-bede-4ab8-acdc-4365dad759bc\" target=\"_top\" title=\"psysml:4745677c-bede-4ab8-acdc-4365dad759bc\" xlink:actuate=\"onRequest\" xlink:href=\"psysml:4745677c-bede-4ab8-acdc-4365dad759bc\" xlink:show=\"new\" xlink:title=\"psysml:4745677c-bede-4ab8-acdc-4365dad759bc\" xlink:type=\"simple\"><rect fill=\"#FEFECE\" filter=\"url(#f933nucs2ytz1)\" height=\"42.9375\" id=\"E3\" style=\"stroke: #A80036; stroke-width: 1.5;\" width=\"71\" x=\"712.5\" y=\"84\"/><text fill=\"#000000\" font-family=\"sans-serif\" font-size=\"12\" font-style=\"italic\" lengthAdjust=\"spacingAndGlyphs\" textLength=\"64\" x=\"716\" y=\"100.1387\">«part def»</text><text fill=\"#000000\" font-family=\"sans-serif\" font-size=\"12\" lengthAdjust=\"spacingAndGlyphs\" textLength=\"8\" x=\"744\" y=\"114.1074\">A</text></a></g><g id=\"E1.E4.E5\"><a href=\"psysml:a455b6ac-bbc4-40c1-9da4-354e9f8fdc46\" target=\"_top\" title=\"psysml:a455b6ac-bbc4-40c1-9da4-354e9f8fdc46\" xlink:actuate=\"onRequest\" xlink:href=\"psysml:a455b6ac-bbc4-40c1-9da4-354e9f8fdc46\" xlink:show=\"new\" xlink:title=\"psysml:a455b6ac-bbc4-40c1-9da4-354e9f8fdc46\" xlink:type=\"simple\"><rect fill=\"#FEFECE\" filter=\"url(#f933nucs2ytz1)\" height=\"42.9375\" id=\"E5\" style=\"stroke: #A80036; stroke-width: 1.5;\" width=\"71\" x=\"584.5\" y=\"84\"/><text fill=\"#000000\" font-family=\"sans-serif\" font-size=\"12\" font-style=\"italic\" lengthAdjust=\"spacingAndGlyphs\" textLength=\"64\" x=\"588\" y=\"100.1387\">«part def»</text><text fill=\"#000000\" font-family=\"sans-serif\" font-size=\"12\" lengthAdjust=\"spacingAndGlyphs\" textLength=\"8\" x=\"616\" y=\"114.1074\">B</text></a></g><g id=\"E1.E6.E7\"><a href=\"psysml:6b7db59d-d003-4043-9508-3fd9ac781eff\" target=\"_top\" title=\"psysml:6b7db59d-d003-4043-9508-3fd9ac781eff\" xlink:actuate=\"onRequest\" xlink:href=\"psysml:6b7db59d-d003-4043-9508-3fd9ac781eff\" xlink:show=\"new\" xlink:title=\"psysml:6b7db59d-d003-4043-9508-3fd9ac781eff\" xlink:type=\"simple\"><rect fill=\"#FEFECE\" filter=\"url(#f933nucs2ytz1)\" height=\"40\" id=\"E7\" rx=\"10\" ry=\"10\" style=\"stroke: #A80036; stroke-width: 1.5;\" width=\"50\" x=\"478\" y=\"85.5\"/><text fill=\"#000000\" font-family=\"sans-serif\" font-size=\"12\" lengthAdjust=\"spacingAndGlyphs\" textLength=\"22\" x=\"492\" y=\"101.6387\">x: A</text></a></g><g id=\"E1.E6.E8\"><a href=\"psysml:6c414e1f-4fb5-42fd-83aa-c158d2fbc464\" target=\"_top\" title=\"psysml:6c414e1f-4fb5-42fd-83aa-c158d2fbc464\" xlink:actuate=\"onRequest\" xlink:href=\"psysml:6c414e1f-4fb5-42fd-83aa-c158d2fbc464\" xlink:show=\"new\" xlink:title=\"psysml:6c414e1f-4fb5-42fd-83aa-c158d2fbc464\" xlink:type=\"simple\"><rect fill=\"#FEFECE\" filter=\"url(#f933nucs2ytz1)\" height=\"40\" id=\"E8\" rx=\"10\" ry=\"10\" style=\"stroke: #A80036; stroke-width: 1.5;\" width=\"50\" x=\"393\" y=\"85.5\"/><text fill=\"#000000\" font-family=\"sans-serif\" font-size=\"12\" lengthAdjust=\"spacingAndGlyphs\" textLength=\"22\" x=\"407\" y=\"101.6387\">y: B</text></a></g><g id=\"E1.E9.E10\"><a href=\"psysml:797261aa-a958-4475-9de3-b139176b10fb\" target=\"_top\" title=\"psysml:797261aa-a958-4475-9de3-b139176b10fb\" xlink:actuate=\"onRequest\" xlink:href=\"psysml:797261aa-a958-4475-9de3-b139176b10fb\" xlink:show=\"new\" xlink:title=\"psysml:797261aa-a958-4475-9de3-b139176b10fb\" xlink:type=\"simple\"><rect fill=\"#FEFECE\" filter=\"url(#f933nucs2ytz1)\" height=\"40\" id=\"E10\" rx=\"10\" ry=\"10\" style=\"stroke: #A80036; stroke-width: 1.5;\" width=\"50\" x=\"287\" y=\"85.5\"/><text fill=\"#000000\" font-family=\"sans-serif\" font-size=\"12\" lengthAdjust=\"spacingAndGlyphs\" textLength=\"22\" x=\"301\" y=\"101.6387\">x: A</text></a></g><g id=\"E1.E9.E11\"><a href=\"psysml:3825b43b-bb71-4033-970e-c8c9e00cfd14\" target=\"_top\" title=\"psysml:3825b43b-bb71-4033-970e-c8c9e00cfd14\" xlink:actuate=\"onRequest\" xlink:href=\"psysml:3825b43b-bb71-4033-970e-c8c9e00cfd14\" xlink:show=\"new\" xlink:title=\"psysml:3825b43b-bb71-4033-970e-c8c9e00cfd14\" xlink:type=\"simple\"><rect fill=\"#FEFECE\" filter=\"url(#f933nucs2ytz1)\" height=\"40\" id=\"E11\" rx=\"10\" ry=\"10\" style=\"stroke: #A80036; stroke-width: 1.5;\" width=\"50\" x=\"202\" y=\"85.5\"/><text fill=\"#000000\" font-family=\"sans-serif\" font-size=\"12\" lengthAdjust=\"spacingAndGlyphs\" textLength=\"22\" x=\"216\" y=\"101.6387\">y: B</text></a></g><g id=\"E1.E12\"><a href=\"psysml:e16c4bbb-61f3-4b61-a2b5-b03e29e494af\" target=\"_top\" title=\"psysml:e16c4bbb-61f3-4b61-a2b5-b03e29e494af\" xlink:actuate=\"onRequest\" xlink:href=\"psysml:e16c4bbb-61f3-4b61-a2b5-b03e29e494af\" xlink:show=\"new\" xlink:title=\"psysml:e16c4bbb-61f3-4b61-a2b5-b03e29e494af\" xlink:type=\"simple\"><rect fill=\"#FEFECE\" filter=\"url(#f933nucs2ytz1)\" height=\"40\" id=\"E12\" rx=\"10\" ry=\"10\" style=\"stroke: #A80036; stroke-width: 1.5;\" width=\"50\" x=\"117\" y=\"85.5\"/><text fill=\"#000000\" font-family=\"sans-serif\" font-size=\"12\" lengthAdjust=\"spacingAndGlyphs\" textLength=\"22\" x=\"131\" y=\"101.6387\">x: A</text></a></g><g id=\"E1.E13\"><a href=\"psysml:6a814915-eeda-4c4d-8e98-a86878ae1f3d\" target=\"_top\" title=\"psysml:6a814915-eeda-4c4d-8e98-a86878ae1f3d\" xlink:actuate=\"onRequest\" xlink:href=\"psysml:6a814915-eeda-4c4d-8e98-a86878ae1f3d\" xlink:show=\"new\" xlink:title=\"psysml:6a814915-eeda-4c4d-8e98-a86878ae1f3d\" xlink:type=\"simple\"><rect fill=\"#FEFECE\" filter=\"url(#f933nucs2ytz1)\" height=\"40\" id=\"E13\" rx=\"10\" ry=\"10\" style=\"stroke: #A80036; stroke-width: 1.5;\" width=\"50\" x=\"32\" y=\"85.5\"/><text fill=\"#000000\" font-family=\"sans-serif\" font-size=\"12\" lengthAdjust=\"spacingAndGlyphs\" textLength=\"22\" x=\"46\" y=\"101.6387\">y: B</text></a></g><!--MD5=[92fd2a3f644165be1aba49f7e48f72b9]\n",
       "@startuml\r\n",
       "skinparam ranksep 8\r\n",
       "skinparam rectangle {\r\n",
       " backgroundColor<<block>> LightGreen\r\n",
       "}\r\n",
       "skinparam wrapWidth 300\r\n",
       "hide circle\r\n",
       "\r\n",
       "package \"CircularImport\" as E1  [[psysml:6a62b0bb-ce07-42d9-b06f-c19bd22a93a2 ]]  {\r\n",
       "package \"P1\" as E2  [[psysml:e5793e48-aebf-4c77-9b1c-634d316c370a ]]  {\r\n",
       "rec def \"A\" as E3  <<(T,blue)part def>> [[psysml:4745677c-bede-4ab8-acdc-4365dad759bc ]] {\r\n",
       "}\r\n",
       "}\r\n",
       "package \"P2\" as E4  [[psysml:9f128572-3fea-4fc4-b18b-c92f97cc0f0b ]]  {\r\n",
       "rec def \"B\" as E5  <<(T,blue)part def>> [[psysml:a455b6ac-bbc4-40c1-9da4-354e9f8fdc46 ]] {\r\n",
       "}\r\n",
       "}\r\n",
       "package \"Test1\" as E6  [[psysml:6c517ad3-81f8-4503-b234-41386708eb5e ]]  {\r\n",
       "rec usage \"x: A\" as E7  [[psysml:6b7db59d-d003-4043-9508-3fd9ac781eff ]] {\r\n",
       "}\r\n",
       "rec usage \"y: B\" as E8  [[psysml:6c414e1f-4fb5-42fd-83aa-c158d2fbc464 ]] {\r\n",
       "}\r\n",
       "}\r\n",
       "package \"Test2\" as E9  [[psysml:81951965-8d4b-42c4-ba21-4255f6488007 ]]  {\r\n",
       "rec usage \"x: A\" as E10  [[psysml:797261aa-a958-4475-9de3-b139176b10fb ]] {\r\n",
       "}\r\n",
       "rec usage \"y: B\" as E11  [[psysml:3825b43b-bb71-4033-970e-c8c9e00cfd14 ]] {\r\n",
       "}\r\n",
       "}\r\n",
       "rec usage \"x: A\" as E12  [[psysml:e16c4bbb-61f3-4b61-a2b5-b03e29e494af ]] {\r\n",
       "}\r\n",
       "rec usage \"y: B\" as E13  [[psysml:6a814915-eeda-4c4d-8e98-a86878ae1f3d ]] {\r\n",
       "}\r\n",
       "}\r\n",
       "@enduml\r\n",
       "\n",
       "PlantUML version 1.2020.13(Sat Jun 13 12:26:38 UTC 2020)\n",
       "(EPL source distribution)\n",
       "Java Runtime: OpenJDK Runtime Environment\n",
       "JVM: OpenJDK 64-Bit Server VM\n",
       "Default Encoding: UTF-8\n",
       "Language: en\n",
       "Country: null\n",
       "--></g></svg>"
      ]
     },
     "execution_count": 26,
     "metadata": {},
     "output_type": "execute_result"
    }
   ],
   "source": [
    "%viz --style=\"STDCOLOR\" --view=\"Interconnection\" \"CircularImport\""
   ]
  },
  {
   "cell_type": "code",
   "execution_count": 27,
   "id": "regular-union",
   "metadata": {
    "execution": {
     "iopub.execute_input": "2021-03-25T13:13:18.837862Z",
     "iopub.status.busy": "2021-03-25T13:13:18.837417Z",
     "iopub.status.idle": "2021-03-25T13:13:18.844657Z",
     "shell.execute_reply": "2021-03-25T13:13:18.844276Z"
    }
   },
   "outputs": [
    {
     "data": {
      "image/svg+xml": [
       "<?xml version=\"1.0\" encoding=\"UTF-8\" standalone=\"no\"?><svg xmlns=\"http://www.w3.org/2000/svg\" xmlns:xlink=\"http://www.w3.org/1999/xlink\" contentScriptType=\"application/ecmascript\" contentStyleType=\"text/css\" height=\"12px\" preserveAspectRatio=\"none\" style=\"width:12px;height:12px;\" version=\"1.1\" viewBox=\"0 0 12 12\" width=\"12px\" zoomAndPan=\"magnify\"><defs/><g><!--MD5=[9863325348a96a77dacc89509d8ee65e]\n",
       "@startuml\r\n",
       "skinparam ranksep 8\r\n",
       "skinparam wrapWidth 300\r\n",
       "hide circle\r\n",
       "\r\n",
       "@enduml\r\n",
       "\n",
       "PlantUML version 1.2020.13(Sat Jun 13 12:26:38 UTC 2020)\n",
       "(EPL source distribution)\n",
       "Java Runtime: OpenJDK Runtime Environment\n",
       "JVM: OpenJDK 64-Bit Server VM\n",
       "Default Encoding: UTF-8\n",
       "Language: en\n",
       "Country: null\n",
       "--></g></svg>"
      ]
     },
     "execution_count": 27,
     "metadata": {},
     "output_type": "execute_result"
    }
   ],
   "source": [
    "%viz --style=\"STDCOLOR\" --view=\"Action\" \"CircularImport\""
   ]
  },
  {
   "cell_type": "code",
   "execution_count": 28,
   "id": "completed-proof",
   "metadata": {
    "execution": {
     "iopub.execute_input": "2021-03-25T13:13:18.895322Z",
     "iopub.status.busy": "2021-03-25T13:13:18.894457Z",
     "iopub.status.idle": "2021-03-25T13:13:19.027770Z",
     "shell.execute_reply": "2021-03-25T13:13:19.024856Z"
    }
   },
   "outputs": [
    {
     "data": {
      "image/svg+xml": [
       "<?xml version=\"1.0\" encoding=\"UTF-8\" standalone=\"no\"?><svg xmlns=\"http://www.w3.org/2000/svg\" xmlns:xlink=\"http://www.w3.org/1999/xlink\" contentScriptType=\"application/ecmascript\" contentStyleType=\"text/css\" height=\"303px\" preserveAspectRatio=\"none\" style=\"width:518px;height:303px;\" version=\"1.1\" viewBox=\"0 0 518 303\" width=\"518px\" zoomAndPan=\"magnify\"><defs><filter height=\"300%\" id=\"f10uc6t3lz8lw0\" width=\"300%\" x=\"-1\" y=\"-1\"><feGaussianBlur result=\"blurOut\" stdDeviation=\"2.0\"/><feColorMatrix in=\"blurOut\" result=\"blurOut2\" type=\"matrix\" values=\"0 0 0 0 0 0 0 0 0 0 0 0 0 0 0 0 0 0 .4 0\"/><feOffset dx=\"4.0\" dy=\"4.0\" in=\"blurOut2\" result=\"blurOut3\"/><feBlend in=\"SourceGraphic\" in2=\"blurOut3\" mode=\"normal\"/></filter></defs><g><!--MD5=[fbc87193dbaf4d95561dea2c320d4a47]\n",
       "cluster E1--><a href=\"psysml:6a62b0bb-ce07-42d9-b06f-c19bd22a93a2\" target=\"_top\" title=\"psysml:6a62b0bb-ce07-42d9-b06f-c19bd22a93a2\" xlink:actuate=\"onRequest\" xlink:href=\"psysml:6a62b0bb-ce07-42d9-b06f-c19bd22a93a2\" xlink:show=\"new\" xlink:title=\"psysml:6a62b0bb-ce07-42d9-b06f-c19bd22a93a2\" xlink:type=\"simple\"><polygon fill=\"#FFFFFF\" filter=\"url(#f10uc6t3lz8lw0)\" points=\"16,6,134,6,141,28.2969,496,28.2969,496,291,16,291,16,6\" style=\"stroke: #000000; stroke-width: 1.5;\"/><line style=\"stroke: #000000; stroke-width: 1.5;\" x1=\"16\" x2=\"141\" y1=\"28.2969\" y2=\"28.2969\"/><text fill=\"#000000\" font-family=\"sans-serif\" font-size=\"14\" font-weight=\"bold\" lengthAdjust=\"spacingAndGlyphs\" textLength=\"112\" x=\"20\" y=\"20.9951\">CircularImport</text></a><!--MD5=[e4f7fae6ed58524ba242bb0b0d3be6b7]\n",
       "cluster E2--><a href=\"psysml:e5793e48-aebf-4c77-9b1c-634d316c370a\" target=\"_top\" title=\"psysml:e5793e48-aebf-4c77-9b1c-634d316c370a\" xlink:actuate=\"onRequest\" xlink:href=\"psysml:e5793e48-aebf-4c77-9b1c-634d316c370a\" xlink:show=\"new\" xlink:title=\"psysml:e5793e48-aebf-4c77-9b1c-634d316c370a\" xlink:type=\"simple\"><polygon fill=\"#FFFFFF\" filter=\"url(#f10uc6t3lz8lw0)\" points=\"333,170,359,170,366,192.2969,431,192.2969,431,267,333,267,333,170\" style=\"stroke: #000000; stroke-width: 1.5;\"/><line style=\"stroke: #000000; stroke-width: 1.5;\" x1=\"333\" x2=\"366\" y1=\"192.2969\" y2=\"192.2969\"/><text fill=\"#000000\" font-family=\"sans-serif\" font-size=\"14\" font-weight=\"bold\" lengthAdjust=\"spacingAndGlyphs\" textLength=\"20\" x=\"337\" y=\"184.9951\">P1</text></a><!--MD5=[f6df4d0ebaf0b5dfb2ced0ae5af7c670]\n",
       "cluster E4--><a href=\"psysml:9f128572-3fea-4fc4-b18b-c92f97cc0f0b\" target=\"_top\" title=\"psysml:9f128572-3fea-4fc4-b18b-c92f97cc0f0b\" xlink:actuate=\"onRequest\" xlink:href=\"psysml:9f128572-3fea-4fc4-b18b-c92f97cc0f0b\" xlink:show=\"new\" xlink:title=\"psysml:9f128572-3fea-4fc4-b18b-c92f97cc0f0b\" xlink:type=\"simple\"><polygon fill=\"#FFFFFF\" filter=\"url(#f10uc6t3lz8lw0)\" points=\"81,170,107,170,114,192.2969,179,192.2969,179,267,81,267,81,170\" style=\"stroke: #000000; stroke-width: 1.5;\"/><line style=\"stroke: #000000; stroke-width: 1.5;\" x1=\"81\" x2=\"114\" y1=\"192.2969\" y2=\"192.2969\"/><text fill=\"#000000\" font-family=\"sans-serif\" font-size=\"14\" font-weight=\"bold\" lengthAdjust=\"spacingAndGlyphs\" textLength=\"20\" x=\"85\" y=\"184.9951\">P2</text></a><!--MD5=[14e3b0961a2654348d326746436168a1]\n",
       "cluster E6--><a href=\"psysml:6c517ad3-81f8-4503-b234-41386708eb5e\" target=\"_top\" title=\"psysml:6c517ad3-81f8-4503-b234-41386708eb5e\" xlink:actuate=\"onRequest\" xlink:href=\"psysml:6c517ad3-81f8-4503-b234-41386708eb5e\" xlink:show=\"new\" xlink:title=\"psysml:6c517ad3-81f8-4503-b234-41386708eb5e\" xlink:type=\"simple\"><polygon fill=\"#FFFFFF\" filter=\"url(#f10uc6t3lz8lw0)\" points=\"268,49,319,49,326,71.2969,419,71.2969,419,146,268,146,268,49\" style=\"stroke: #000000; stroke-width: 1.5;\"/><line style=\"stroke: #000000; stroke-width: 1.5;\" x1=\"268\" x2=\"326\" y1=\"71.2969\" y2=\"71.2969\"/><text fill=\"#000000\" font-family=\"sans-serif\" font-size=\"14\" font-weight=\"bold\" lengthAdjust=\"spacingAndGlyphs\" textLength=\"45\" x=\"272\" y=\"63.9951\">Test1</text></a><!--MD5=[7f149f147074ac12df2cb0a7728a5fb0]\n",
       "cluster E9--><a href=\"psysml:81951965-8d4b-42c4-ba21-4255f6488007\" target=\"_top\" title=\"psysml:81951965-8d4b-42c4-ba21-4255f6488007\" xlink:actuate=\"onRequest\" xlink:href=\"psysml:81951965-8d4b-42c4-ba21-4255f6488007\" xlink:show=\"new\" xlink:title=\"psysml:81951965-8d4b-42c4-ba21-4255f6488007\" xlink:type=\"simple\"><polygon fill=\"#FFFFFF\" filter=\"url(#f10uc6t3lz8lw0)\" points=\"93,49,144,49,151,71.2969,244,71.2969,244,146,93,146,93,49\" style=\"stroke: #000000; stroke-width: 1.5;\"/><line style=\"stroke: #000000; stroke-width: 1.5;\" x1=\"93\" x2=\"151\" y1=\"71.2969\" y2=\"71.2969\"/><text fill=\"#000000\" font-family=\"sans-serif\" font-size=\"14\" font-weight=\"bold\" lengthAdjust=\"spacingAndGlyphs\" textLength=\"45\" x=\"97\" y=\"63.9951\">Test2</text></a><!--MD5=[49a0ec8f00dab7302a31f22d0f0fe584]\n",
       "class E12--><a href=\"psysml:e16c4bbb-61f3-4b61-a2b5-b03e29e494af\" target=\"_top\" title=\"psysml:e16c4bbb-61f3-4b61-a2b5-b03e29e494af\" xlink:actuate=\"onRequest\" xlink:href=\"psysml:e16c4bbb-61f3-4b61-a2b5-b03e29e494af\" xlink:show=\"new\" xlink:title=\"psysml:e16c4bbb-61f3-4b61-a2b5-b03e29e494af\" xlink:type=\"simple\"><rect fill=\"#FEFECE\" filter=\"url(#f10uc6t3lz8lw0)\" height=\"45.9375\" id=\"E12\" rx=\"10\" ry=\"10\" style=\"stroke: #A80036; stroke-width: 1.5;\" width=\"42\" x=\"438\" y=\"84\"/><text fill=\"#000000\" font-family=\"sans-serif\" font-size=\"12\" font-style=\"italic\" lengthAdjust=\"spacingAndGlyphs\" textLength=\"40\" x=\"439\" y=\"100.1387\">«part»</text><text fill=\"#000000\" font-family=\"sans-serif\" font-size=\"12\" lengthAdjust=\"spacingAndGlyphs\" textLength=\"22\" x=\"448\" y=\"114.1074\">x: A</text><line style=\"stroke: #A80036; stroke-width: 1.5;\" x1=\"439\" x2=\"479\" y1=\"121.9375\" y2=\"121.9375\"/></a><!--MD5=[ee3c913d1a06f366521f9ef512b67efe]\n",
       "class E13--><a href=\"psysml:6a814915-eeda-4c4d-8e98-a86878ae1f3d\" target=\"_top\" title=\"psysml:6a814915-eeda-4c4d-8e98-a86878ae1f3d\" xlink:actuate=\"onRequest\" xlink:href=\"psysml:6a814915-eeda-4c4d-8e98-a86878ae1f3d\" xlink:show=\"new\" xlink:title=\"psysml:6a814915-eeda-4c4d-8e98-a86878ae1f3d\" xlink:type=\"simple\"><rect fill=\"#FEFECE\" filter=\"url(#f10uc6t3lz8lw0)\" height=\"45.9375\" id=\"E13\" rx=\"10\" ry=\"10\" style=\"stroke: #A80036; stroke-width: 1.5;\" width=\"42\" x=\"32\" y=\"84\"/><text fill=\"#000000\" font-family=\"sans-serif\" font-size=\"12\" font-style=\"italic\" lengthAdjust=\"spacingAndGlyphs\" textLength=\"40\" x=\"33\" y=\"100.1387\">«part»</text><text fill=\"#000000\" font-family=\"sans-serif\" font-size=\"12\" lengthAdjust=\"spacingAndGlyphs\" textLength=\"22\" x=\"42\" y=\"114.1074\">y: B</text><line style=\"stroke: #A80036; stroke-width: 1.5;\" x1=\"33\" x2=\"73\" y1=\"121.9375\" y2=\"121.9375\"/></a><!--MD5=[09b614a08d8cba4a07c9adeb5e0fee81]\n",
       "class E3--><a href=\"psysml:4745677c-bede-4ab8-acdc-4365dad759bc\" target=\"_top\" title=\"psysml:4745677c-bede-4ab8-acdc-4365dad759bc\" xlink:actuate=\"onRequest\" xlink:href=\"psysml:4745677c-bede-4ab8-acdc-4365dad759bc\" xlink:show=\"new\" xlink:title=\"psysml:4745677c-bede-4ab8-acdc-4365dad759bc\" xlink:type=\"simple\"><rect fill=\"#FEFECE\" filter=\"url(#f10uc6t3lz8lw0)\" height=\"45.9375\" id=\"E3\" style=\"stroke: #A80036; stroke-width: 1.5;\" width=\"66\" x=\"349\" y=\"205\"/><text fill=\"#000000\" font-family=\"sans-serif\" font-size=\"12\" font-style=\"italic\" lengthAdjust=\"spacingAndGlyphs\" textLength=\"64\" x=\"350\" y=\"221.1387\">«part def»</text><text fill=\"#000000\" font-family=\"sans-serif\" font-size=\"12\" lengthAdjust=\"spacingAndGlyphs\" textLength=\"8\" x=\"378\" y=\"235.1074\">A</text><line style=\"stroke: #A80036; stroke-width: 1.5;\" x1=\"350\" x2=\"414\" y1=\"242.9375\" y2=\"242.9375\"/></a><!--MD5=[270fce915f116d4de14055a7c1d9a0f3]\n",
       "class E5--><a href=\"psysml:a455b6ac-bbc4-40c1-9da4-354e9f8fdc46\" target=\"_top\" title=\"psysml:a455b6ac-bbc4-40c1-9da4-354e9f8fdc46\" xlink:actuate=\"onRequest\" xlink:href=\"psysml:a455b6ac-bbc4-40c1-9da4-354e9f8fdc46\" xlink:show=\"new\" xlink:title=\"psysml:a455b6ac-bbc4-40c1-9da4-354e9f8fdc46\" xlink:type=\"simple\"><rect fill=\"#FEFECE\" filter=\"url(#f10uc6t3lz8lw0)\" height=\"45.9375\" id=\"E5\" style=\"stroke: #A80036; stroke-width: 1.5;\" width=\"66\" x=\"97\" y=\"205\"/><text fill=\"#000000\" font-family=\"sans-serif\" font-size=\"12\" font-style=\"italic\" lengthAdjust=\"spacingAndGlyphs\" textLength=\"64\" x=\"98\" y=\"221.1387\">«part def»</text><text fill=\"#000000\" font-family=\"sans-serif\" font-size=\"12\" lengthAdjust=\"spacingAndGlyphs\" textLength=\"8\" x=\"126\" y=\"235.1074\">B</text><line style=\"stroke: #A80036; stroke-width: 1.5;\" x1=\"98\" x2=\"162\" y1=\"242.9375\" y2=\"242.9375\"/></a><!--MD5=[2156ba9850f5573cc1fc38a6a4b2f02b]\n",
       "class E7--><a href=\"psysml:6b7db59d-d003-4043-9508-3fd9ac781eff\" target=\"_top\" title=\"psysml:6b7db59d-d003-4043-9508-3fd9ac781eff\" xlink:actuate=\"onRequest\" xlink:href=\"psysml:6b7db59d-d003-4043-9508-3fd9ac781eff\" xlink:show=\"new\" xlink:title=\"psysml:6b7db59d-d003-4043-9508-3fd9ac781eff\" xlink:type=\"simple\"><rect fill=\"#FEFECE\" filter=\"url(#f10uc6t3lz8lw0)\" height=\"45.9375\" id=\"E7\" rx=\"10\" ry=\"10\" style=\"stroke: #A80036; stroke-width: 1.5;\" width=\"42\" x=\"361\" y=\"84\"/><text fill=\"#000000\" font-family=\"sans-serif\" font-size=\"12\" font-style=\"italic\" lengthAdjust=\"spacingAndGlyphs\" textLength=\"40\" x=\"362\" y=\"100.1387\">«part»</text><text fill=\"#000000\" font-family=\"sans-serif\" font-size=\"12\" lengthAdjust=\"spacingAndGlyphs\" textLength=\"22\" x=\"371\" y=\"114.1074\">x: A</text><line style=\"stroke: #A80036; stroke-width: 1.5;\" x1=\"362\" x2=\"402\" y1=\"121.9375\" y2=\"121.9375\"/></a><!--MD5=[b9389687b975829384b498ac4b7476b2]\n",
       "class E8--><a href=\"psysml:6c414e1f-4fb5-42fd-83aa-c158d2fbc464\" target=\"_top\" title=\"psysml:6c414e1f-4fb5-42fd-83aa-c158d2fbc464\" xlink:actuate=\"onRequest\" xlink:href=\"psysml:6c414e1f-4fb5-42fd-83aa-c158d2fbc464\" xlink:show=\"new\" xlink:title=\"psysml:6c414e1f-4fb5-42fd-83aa-c158d2fbc464\" xlink:type=\"simple\"><rect fill=\"#FEFECE\" filter=\"url(#f10uc6t3lz8lw0)\" height=\"45.9375\" id=\"E8\" rx=\"10\" ry=\"10\" style=\"stroke: #A80036; stroke-width: 1.5;\" width=\"42\" x=\"284\" y=\"84\"/><text fill=\"#000000\" font-family=\"sans-serif\" font-size=\"12\" font-style=\"italic\" lengthAdjust=\"spacingAndGlyphs\" textLength=\"40\" x=\"285\" y=\"100.1387\">«part»</text><text fill=\"#000000\" font-family=\"sans-serif\" font-size=\"12\" lengthAdjust=\"spacingAndGlyphs\" textLength=\"22\" x=\"294\" y=\"114.1074\">y: B</text><line style=\"stroke: #A80036; stroke-width: 1.5;\" x1=\"285\" x2=\"325\" y1=\"121.9375\" y2=\"121.9375\"/></a><!--MD5=[96f4274e9e20536e775497830990834d]\n",
       "class E10--><a href=\"psysml:797261aa-a958-4475-9de3-b139176b10fb\" target=\"_top\" title=\"psysml:797261aa-a958-4475-9de3-b139176b10fb\" xlink:actuate=\"onRequest\" xlink:href=\"psysml:797261aa-a958-4475-9de3-b139176b10fb\" xlink:show=\"new\" xlink:title=\"psysml:797261aa-a958-4475-9de3-b139176b10fb\" xlink:type=\"simple\"><rect fill=\"#FEFECE\" filter=\"url(#f10uc6t3lz8lw0)\" height=\"45.9375\" id=\"E10\" rx=\"10\" ry=\"10\" style=\"stroke: #A80036; stroke-width: 1.5;\" width=\"42\" x=\"186\" y=\"84\"/><text fill=\"#000000\" font-family=\"sans-serif\" font-size=\"12\" font-style=\"italic\" lengthAdjust=\"spacingAndGlyphs\" textLength=\"40\" x=\"187\" y=\"100.1387\">«part»</text><text fill=\"#000000\" font-family=\"sans-serif\" font-size=\"12\" lengthAdjust=\"spacingAndGlyphs\" textLength=\"22\" x=\"196\" y=\"114.1074\">x: A</text><line style=\"stroke: #A80036; stroke-width: 1.5;\" x1=\"187\" x2=\"227\" y1=\"121.9375\" y2=\"121.9375\"/></a><!--MD5=[1dd1bfd58a279cf63c5f349dbc8fc6a1]\n",
       "class E11--><a href=\"psysml:3825b43b-bb71-4033-970e-c8c9e00cfd14\" target=\"_top\" title=\"psysml:3825b43b-bb71-4033-970e-c8c9e00cfd14\" xlink:actuate=\"onRequest\" xlink:href=\"psysml:3825b43b-bb71-4033-970e-c8c9e00cfd14\" xlink:show=\"new\" xlink:title=\"psysml:3825b43b-bb71-4033-970e-c8c9e00cfd14\" xlink:type=\"simple\"><rect fill=\"#FEFECE\" filter=\"url(#f10uc6t3lz8lw0)\" height=\"45.9375\" id=\"E11\" rx=\"10\" ry=\"10\" style=\"stroke: #A80036; stroke-width: 1.5;\" width=\"42\" x=\"109\" y=\"84\"/><text fill=\"#000000\" font-family=\"sans-serif\" font-size=\"12\" font-style=\"italic\" lengthAdjust=\"spacingAndGlyphs\" textLength=\"40\" x=\"110\" y=\"100.1387\">«part»</text><text fill=\"#000000\" font-family=\"sans-serif\" font-size=\"12\" lengthAdjust=\"spacingAndGlyphs\" textLength=\"22\" x=\"119\" y=\"114.1074\">y: B</text><line style=\"stroke: #A80036; stroke-width: 1.5;\" x1=\"110\" x2=\"150\" y1=\"121.9375\" y2=\"121.9375\"/></a><!--MD5=[14ccda38c055a5c0da953d572bc50960]\n",
       "link E7 to E3--><a href=\"psysml:85e1ff22-6346-4a23-846d-dc1a236203c0\" target=\"_top\" title=\"psysml:85e1ff22-6346-4a23-846d-dc1a236203c0\" xlink:actuate=\"onRequest\" xlink:href=\"psysml:85e1ff22-6346-4a23-846d-dc1a236203c0\" xlink:show=\"new\" xlink:title=\"psysml:85e1ff22-6346-4a23-846d-dc1a236203c0\" xlink:type=\"simple\"><path d=\"M382,130.1 C382,145.37 382,166.16 382,184.57 \" fill=\"none\" id=\"E7-&gt;E3\" style=\"stroke: #A80036; stroke-width: 1.0;\"/><polygon fill=\"#FFFFFF\" points=\"382,204.61,375,185.61,389,185.61,382,204.61\" style=\"stroke: #A80036; stroke-width: 1.0;\"/><ellipse cx=\"377\" cy=\"179.91\" fill=\"#A80036\" rx=\"2\" ry=\"2\" style=\"stroke: #A80036; stroke-width: 1.0;\"/><ellipse cx=\"387\" cy=\"179.91\" fill=\"#A80036\" rx=\"2\" ry=\"2\" style=\"stroke: #A80036; stroke-width: 1.0;\"/></a><!--MD5=[1ccb2481ffa92f8d51a74ee30c51832a]\n",
       "link E8 to E5--><a href=\"psysml:483adec0-2d55-41ba-876c-1b8fe7d429ab\" target=\"_top\" title=\"psysml:483adec0-2d55-41ba-876c-1b8fe7d429ab\" xlink:actuate=\"onRequest\" xlink:href=\"psysml:483adec0-2d55-41ba-876c-1b8fe7d429ab\" xlink:show=\"new\" xlink:title=\"psysml:483adec0-2d55-41ba-876c-1b8fe7d429ab\" xlink:type=\"simple\"><path d=\"M283.84,124.59 C272.23,133.52 257.5,144.61 244,154 C223.51,168.25 200.41,183.24 180.38,195.91 \" fill=\"none\" id=\"E8-&gt;E5\" style=\"stroke: #A80036; stroke-width: 1.0;\"/><polygon fill=\"#FFFFFF\" points=\"163.36,206.57,175.7353,190.5434,183.175,202.403,163.36,206.57\" style=\"stroke: #A80036; stroke-width: 1.0;\"/><ellipse cx=\"181.6267\" cy=\"189.2086\" fill=\"#A80036\" rx=\"2\" ry=\"2\" style=\"stroke: #A80036; stroke-width: 1.0;\"/><ellipse cx=\"186.9408\" cy=\"197.6797\" fill=\"#A80036\" rx=\"2\" ry=\"2\" style=\"stroke: #A80036; stroke-width: 1.0;\"/></a><!--MD5=[feeac5eb423634930294aa81f2d25a4c]\n",
       "link E10 to E3--><a href=\"psysml:0e238847-8a3c-4f4a-a4c7-c4eca45a31b2\" target=\"_top\" title=\"psysml:0e238847-8a3c-4f4a-a4c7-c4eca45a31b2\" xlink:actuate=\"onRequest\" xlink:href=\"psysml:0e238847-8a3c-4f4a-a4c7-c4eca45a31b2\" xlink:show=\"new\" xlink:title=\"psysml:0e238847-8a3c-4f4a-a4c7-c4eca45a31b2\" xlink:type=\"simple\"><path d=\"M228.16,124.59 C239.77,133.52 254.5,144.61 268,154 C288.49,168.25 311.59,183.24 331.62,195.91 \" fill=\"none\" id=\"E10-&gt;E3\" style=\"stroke: #A80036; stroke-width: 1.0;\"/><polygon fill=\"#FFFFFF\" points=\"348.64,206.57,328.825,202.403,336.2647,190.5434,348.64,206.57\" style=\"stroke: #A80036; stroke-width: 1.0;\"/><ellipse cx=\"325.0592\" cy=\"197.6797\" fill=\"#A80036\" rx=\"2\" ry=\"2\" style=\"stroke: #A80036; stroke-width: 1.0;\"/><ellipse cx=\"330.3733\" cy=\"189.2086\" fill=\"#A80036\" rx=\"2\" ry=\"2\" style=\"stroke: #A80036; stroke-width: 1.0;\"/></a><!--MD5=[07b77f6f309248d16187045709d1c26e]\n",
       "link E11 to E5--><a href=\"psysml:1112046b-9823-4ab2-8a83-96247ffb9742\" target=\"_top\" title=\"psysml:1112046b-9823-4ab2-8a83-96247ffb9742\" xlink:actuate=\"onRequest\" xlink:href=\"psysml:1112046b-9823-4ab2-8a83-96247ffb9742\" xlink:show=\"new\" xlink:title=\"psysml:1112046b-9823-4ab2-8a83-96247ffb9742\" xlink:type=\"simple\"><path d=\"M130,130.1 C130,145.37 130,166.16 130,184.57 \" fill=\"none\" id=\"E11-&gt;E5\" style=\"stroke: #A80036; stroke-width: 1.0;\"/><polygon fill=\"#FFFFFF\" points=\"130,204.61,123,185.61,137,185.61,130,204.61\" style=\"stroke: #A80036; stroke-width: 1.0;\"/><ellipse cx=\"125\" cy=\"179.91\" fill=\"#A80036\" rx=\"2\" ry=\"2\" style=\"stroke: #A80036; stroke-width: 1.0;\"/><ellipse cx=\"135\" cy=\"179.91\" fill=\"#A80036\" rx=\"2\" ry=\"2\" style=\"stroke: #A80036; stroke-width: 1.0;\"/></a><!--MD5=[39f41a0e550fb3d73b4d8135617e30a2]\n",
       "link E12 to E3--><a href=\"psysml:ee0d4e1c-50f8-4d3c-8a56-5035ed7c5f53\" target=\"_top\" title=\"psysml:ee0d4e1c-50f8-4d3c-8a56-5035ed7c5f53\" xlink:actuate=\"onRequest\" xlink:href=\"psysml:ee0d4e1c-50f8-4d3c-8a56-5035ed7c5f53\" xlink:show=\"new\" xlink:title=\"psysml:ee0d4e1c-50f8-4d3c-8a56-5035ed7c5f53\" xlink:type=\"simple\"><path d=\"M444.7,130.1 C434.28,146.2 419.89,168.44 407.53,187.55 \" fill=\"none\" id=\"E12-&gt;E3\" style=\"stroke: #A80036; stroke-width: 1.0;\"/><polygon fill=\"#FFFFFF\" points=\"396.49,204.61,400.9313,184.8546,412.6866,192.4581,396.49,204.61\" style=\"stroke: #A80036; stroke-width: 1.0;\"/><ellipse cx=\"405.7063\" cy=\"181.1547\" fill=\"#A80036\" rx=\"2\" ry=\"2\" style=\"stroke: #A80036; stroke-width: 1.0;\"/><ellipse cx=\"414.103\" cy=\"186.5858\" fill=\"#A80036\" rx=\"2\" ry=\"2\" style=\"stroke: #A80036; stroke-width: 1.0;\"/></a><!--MD5=[066b2d8af59fea80ccdb3d54ad5c1091]\n",
       "link E13 to E5--><a href=\"psysml:1d6f62f5-9885-441d-bead-3e38c1577759\" target=\"_top\" title=\"psysml:1d6f62f5-9885-441d-bead-3e38c1577759\" xlink:actuate=\"onRequest\" xlink:href=\"psysml:1d6f62f5-9885-441d-bead-3e38c1577759\" xlink:show=\"new\" xlink:title=\"psysml:1d6f62f5-9885-441d-bead-3e38c1577759\" xlink:type=\"simple\"><path d=\"M67.3,130.1 C77.72,146.2 92.11,168.44 104.47,187.55 \" fill=\"none\" id=\"E13-&gt;E5\" style=\"stroke: #A80036; stroke-width: 1.0;\"/><polygon fill=\"#FFFFFF\" points=\"115.51,204.61,99.3134,192.4581,111.0687,184.8546,115.51,204.61\" style=\"stroke: #A80036; stroke-width: 1.0;\"/><ellipse cx=\"97.897\" cy=\"186.5858\" fill=\"#A80036\" rx=\"2\" ry=\"2\" style=\"stroke: #A80036; stroke-width: 1.0;\"/><ellipse cx=\"106.2937\" cy=\"181.1547\" fill=\"#A80036\" rx=\"2\" ry=\"2\" style=\"stroke: #A80036; stroke-width: 1.0;\"/></a><!--MD5=[3550145a615b1d8e3bdd80af2ade7676]\n",
       "@startuml\r\n",
       "skinparam wrapWidth 300\r\n",
       "hide circle\r\n",
       "\r\n",
       "package \"CircularImport\" as E1  [[psysml:6a62b0bb-ce07-42d9-b06f-c19bd22a93a2 ]]  {\r\n",
       "package \"P1\" as E2  [[psysml:e5793e48-aebf-4c77-9b1c-634d316c370a ]]  {\r\n",
       "comp def \"A\" as E3  <<(T,blue)part def>> [[psysml:4745677c-bede-4ab8-acdc-4365dad759bc ]] {\r\n",
       "}\r\n",
       "}\r\n",
       "package \"P2\" as E4  [[psysml:9f128572-3fea-4fc4-b18b-c92f97cc0f0b ]]  {\r\n",
       "comp def \"B\" as E5  <<(T,blue)part def>> [[psysml:a455b6ac-bbc4-40c1-9da4-354e9f8fdc46 ]] {\r\n",
       "}\r\n",
       "}\r\n",
       "package \"Test1\" as E6  [[psysml:6c517ad3-81f8-4503-b234-41386708eb5e ]]  {\r\n",
       "comp usage \"x: A\" as E7  <<(T,blue)part>> [[psysml:6b7db59d-d003-4043-9508-3fd9ac781eff ]] {\r\n",
       "}\r\n",
       "comp usage \"y: B\" as E8  <<(T,blue)part>> [[psysml:6c414e1f-4fb5-42fd-83aa-c158d2fbc464 ]] {\r\n",
       "}\r\n",
       "E7 - -:|> E3 [[psysml:85e1ff22-6346-4a23-846d-dc1a236203c0 ]] \r\n",
       "E8 - -:|> E5 [[psysml:483adec0-2d55-41ba-876c-1b8fe7d429ab ]] \r\n",
       "}\r\n",
       "package \"Test2\" as E9  [[psysml:81951965-8d4b-42c4-ba21-4255f6488007 ]]  {\r\n",
       "comp usage \"x: A\" as E10  <<(T,blue)part>> [[psysml:797261aa-a958-4475-9de3-b139176b10fb ]] {\r\n",
       "}\r\n",
       "comp usage \"y: B\" as E11  <<(T,blue)part>> [[psysml:3825b43b-bb71-4033-970e-c8c9e00cfd14 ]] {\r\n",
       "}\r\n",
       "E10 - -:|> E3 [[psysml:0e238847-8a3c-4f4a-a4c7-c4eca45a31b2 ]] \r\n",
       "E11 - -:|> E5 [[psysml:1112046b-9823-4ab2-8a83-96247ffb9742 ]] \r\n",
       "}\r\n",
       "comp usage \"x: A\" as E12  <<(T,blue)part>> [[psysml:e16c4bbb-61f3-4b61-a2b5-b03e29e494af ]] {\r\n",
       "}\r\n",
       "comp usage \"y: B\" as E13  <<(T,blue)part>> [[psysml:6a814915-eeda-4c4d-8e98-a86878ae1f3d ]] {\r\n",
       "}\r\n",
       "E12 - -:|> E3 [[psysml:ee0d4e1c-50f8-4d3c-8a56-5035ed7c5f53 ]] \r\n",
       "E13 - -:|> E5 [[psysml:1d6f62f5-9885-441d-bead-3e38c1577759 ]] \r\n",
       "}\r\n",
       "@enduml\r\n",
       "\n",
       "PlantUML version 1.2020.13(Sat Jun 13 12:26:38 UTC 2020)\n",
       "(EPL source distribution)\n",
       "Java Runtime: OpenJDK Runtime Environment\n",
       "JVM: OpenJDK 64-Bit Server VM\n",
       "Default Encoding: UTF-8\n",
       "Language: en\n",
       "Country: null\n",
       "--></g></svg>"
      ]
     },
     "execution_count": 28,
     "metadata": {},
     "output_type": "execute_result"
    }
   ],
   "source": [
    "%viz --style=\"STDCOLOR\" --view=\"Sequence\" \"CircularImport\""
   ]
  },
  {
   "cell_type": "code",
   "execution_count": 29,
   "id": "optical-lightweight",
   "metadata": {
    "execution": {
     "iopub.execute_input": "2021-03-25T13:13:19.076767Z",
     "iopub.status.busy": "2021-03-25T13:13:19.076042Z",
     "iopub.status.idle": "2021-03-25T13:13:19.183856Z",
     "shell.execute_reply": "2021-03-25T13:13:19.184363Z"
    }
   },
   "outputs": [
    {
     "data": {
      "image/svg+xml": [
       "<?xml version=\"1.0\" encoding=\"UTF-8\" standalone=\"no\"?><svg xmlns=\"http://www.w3.org/2000/svg\" xmlns:xlink=\"http://www.w3.org/1999/xlink\" contentScriptType=\"application/ecmascript\" contentStyleType=\"text/css\" height=\"303px\" preserveAspectRatio=\"none\" style=\"width:518px;height:303px;\" version=\"1.1\" viewBox=\"0 0 518 303\" width=\"518px\" zoomAndPan=\"magnify\"><defs><filter height=\"300%\" id=\"f10uc6t3lz8lw0\" width=\"300%\" x=\"-1\" y=\"-1\"><feGaussianBlur result=\"blurOut\" stdDeviation=\"2.0\"/><feColorMatrix in=\"blurOut\" result=\"blurOut2\" type=\"matrix\" values=\"0 0 0 0 0 0 0 0 0 0 0 0 0 0 0 0 0 0 .4 0\"/><feOffset dx=\"4.0\" dy=\"4.0\" in=\"blurOut2\" result=\"blurOut3\"/><feBlend in=\"SourceGraphic\" in2=\"blurOut3\" mode=\"normal\"/></filter></defs><g><!--MD5=[fbc87193dbaf4d95561dea2c320d4a47]\n",
       "cluster E1--><a href=\"psysml:6a62b0bb-ce07-42d9-b06f-c19bd22a93a2\" target=\"_top\" title=\"psysml:6a62b0bb-ce07-42d9-b06f-c19bd22a93a2\" xlink:actuate=\"onRequest\" xlink:href=\"psysml:6a62b0bb-ce07-42d9-b06f-c19bd22a93a2\" xlink:show=\"new\" xlink:title=\"psysml:6a62b0bb-ce07-42d9-b06f-c19bd22a93a2\" xlink:type=\"simple\"><polygon fill=\"#FFFFFF\" filter=\"url(#f10uc6t3lz8lw0)\" points=\"16,6,134,6,141,28.2969,496,28.2969,496,291,16,291,16,6\" style=\"stroke: #000000; stroke-width: 1.5;\"/><line style=\"stroke: #000000; stroke-width: 1.5;\" x1=\"16\" x2=\"141\" y1=\"28.2969\" y2=\"28.2969\"/><text fill=\"#000000\" font-family=\"sans-serif\" font-size=\"14\" font-weight=\"bold\" lengthAdjust=\"spacingAndGlyphs\" textLength=\"112\" x=\"20\" y=\"20.9951\">CircularImport</text></a><!--MD5=[e4f7fae6ed58524ba242bb0b0d3be6b7]\n",
       "cluster E2--><a href=\"psysml:e5793e48-aebf-4c77-9b1c-634d316c370a\" target=\"_top\" title=\"psysml:e5793e48-aebf-4c77-9b1c-634d316c370a\" xlink:actuate=\"onRequest\" xlink:href=\"psysml:e5793e48-aebf-4c77-9b1c-634d316c370a\" xlink:show=\"new\" xlink:title=\"psysml:e5793e48-aebf-4c77-9b1c-634d316c370a\" xlink:type=\"simple\"><polygon fill=\"#FFFFFF\" filter=\"url(#f10uc6t3lz8lw0)\" points=\"333,170,359,170,366,192.2969,431,192.2969,431,267,333,267,333,170\" style=\"stroke: #000000; stroke-width: 1.5;\"/><line style=\"stroke: #000000; stroke-width: 1.5;\" x1=\"333\" x2=\"366\" y1=\"192.2969\" y2=\"192.2969\"/><text fill=\"#000000\" font-family=\"sans-serif\" font-size=\"14\" font-weight=\"bold\" lengthAdjust=\"spacingAndGlyphs\" textLength=\"20\" x=\"337\" y=\"184.9951\">P1</text></a><!--MD5=[f6df4d0ebaf0b5dfb2ced0ae5af7c670]\n",
       "cluster E4--><a href=\"psysml:9f128572-3fea-4fc4-b18b-c92f97cc0f0b\" target=\"_top\" title=\"psysml:9f128572-3fea-4fc4-b18b-c92f97cc0f0b\" xlink:actuate=\"onRequest\" xlink:href=\"psysml:9f128572-3fea-4fc4-b18b-c92f97cc0f0b\" xlink:show=\"new\" xlink:title=\"psysml:9f128572-3fea-4fc4-b18b-c92f97cc0f0b\" xlink:type=\"simple\"><polygon fill=\"#FFFFFF\" filter=\"url(#f10uc6t3lz8lw0)\" points=\"81,170,107,170,114,192.2969,179,192.2969,179,267,81,267,81,170\" style=\"stroke: #000000; stroke-width: 1.5;\"/><line style=\"stroke: #000000; stroke-width: 1.5;\" x1=\"81\" x2=\"114\" y1=\"192.2969\" y2=\"192.2969\"/><text fill=\"#000000\" font-family=\"sans-serif\" font-size=\"14\" font-weight=\"bold\" lengthAdjust=\"spacingAndGlyphs\" textLength=\"20\" x=\"85\" y=\"184.9951\">P2</text></a><!--MD5=[14e3b0961a2654348d326746436168a1]\n",
       "cluster E6--><a href=\"psysml:6c517ad3-81f8-4503-b234-41386708eb5e\" target=\"_top\" title=\"psysml:6c517ad3-81f8-4503-b234-41386708eb5e\" xlink:actuate=\"onRequest\" xlink:href=\"psysml:6c517ad3-81f8-4503-b234-41386708eb5e\" xlink:show=\"new\" xlink:title=\"psysml:6c517ad3-81f8-4503-b234-41386708eb5e\" xlink:type=\"simple\"><polygon fill=\"#FFFFFF\" filter=\"url(#f10uc6t3lz8lw0)\" points=\"268,49,319,49,326,71.2969,419,71.2969,419,146,268,146,268,49\" style=\"stroke: #000000; stroke-width: 1.5;\"/><line style=\"stroke: #000000; stroke-width: 1.5;\" x1=\"268\" x2=\"326\" y1=\"71.2969\" y2=\"71.2969\"/><text fill=\"#000000\" font-family=\"sans-serif\" font-size=\"14\" font-weight=\"bold\" lengthAdjust=\"spacingAndGlyphs\" textLength=\"45\" x=\"272\" y=\"63.9951\">Test1</text></a><!--MD5=[7f149f147074ac12df2cb0a7728a5fb0]\n",
       "cluster E9--><a href=\"psysml:81951965-8d4b-42c4-ba21-4255f6488007\" target=\"_top\" title=\"psysml:81951965-8d4b-42c4-ba21-4255f6488007\" xlink:actuate=\"onRequest\" xlink:href=\"psysml:81951965-8d4b-42c4-ba21-4255f6488007\" xlink:show=\"new\" xlink:title=\"psysml:81951965-8d4b-42c4-ba21-4255f6488007\" xlink:type=\"simple\"><polygon fill=\"#FFFFFF\" filter=\"url(#f10uc6t3lz8lw0)\" points=\"93,49,144,49,151,71.2969,244,71.2969,244,146,93,146,93,49\" style=\"stroke: #000000; stroke-width: 1.5;\"/><line style=\"stroke: #000000; stroke-width: 1.5;\" x1=\"93\" x2=\"151\" y1=\"71.2969\" y2=\"71.2969\"/><text fill=\"#000000\" font-family=\"sans-serif\" font-size=\"14\" font-weight=\"bold\" lengthAdjust=\"spacingAndGlyphs\" textLength=\"45\" x=\"97\" y=\"63.9951\">Test2</text></a><!--MD5=[49a0ec8f00dab7302a31f22d0f0fe584]\n",
       "class E12--><a href=\"psysml:e16c4bbb-61f3-4b61-a2b5-b03e29e494af\" target=\"_top\" title=\"psysml:e16c4bbb-61f3-4b61-a2b5-b03e29e494af\" xlink:actuate=\"onRequest\" xlink:href=\"psysml:e16c4bbb-61f3-4b61-a2b5-b03e29e494af\" xlink:show=\"new\" xlink:title=\"psysml:e16c4bbb-61f3-4b61-a2b5-b03e29e494af\" xlink:type=\"simple\"><rect fill=\"#FEFECE\" filter=\"url(#f10uc6t3lz8lw0)\" height=\"45.9375\" id=\"E12\" rx=\"10\" ry=\"10\" style=\"stroke: #A80036; stroke-width: 1.5;\" width=\"42\" x=\"438\" y=\"84\"/><text fill=\"#000000\" font-family=\"sans-serif\" font-size=\"12\" font-style=\"italic\" lengthAdjust=\"spacingAndGlyphs\" textLength=\"40\" x=\"439\" y=\"100.1387\">«part»</text><text fill=\"#000000\" font-family=\"sans-serif\" font-size=\"12\" lengthAdjust=\"spacingAndGlyphs\" textLength=\"22\" x=\"448\" y=\"114.1074\">x: A</text><line style=\"stroke: #A80036; stroke-width: 1.5;\" x1=\"439\" x2=\"479\" y1=\"121.9375\" y2=\"121.9375\"/></a><!--MD5=[ee3c913d1a06f366521f9ef512b67efe]\n",
       "class E13--><a href=\"psysml:6a814915-eeda-4c4d-8e98-a86878ae1f3d\" target=\"_top\" title=\"psysml:6a814915-eeda-4c4d-8e98-a86878ae1f3d\" xlink:actuate=\"onRequest\" xlink:href=\"psysml:6a814915-eeda-4c4d-8e98-a86878ae1f3d\" xlink:show=\"new\" xlink:title=\"psysml:6a814915-eeda-4c4d-8e98-a86878ae1f3d\" xlink:type=\"simple\"><rect fill=\"#FEFECE\" filter=\"url(#f10uc6t3lz8lw0)\" height=\"45.9375\" id=\"E13\" rx=\"10\" ry=\"10\" style=\"stroke: #A80036; stroke-width: 1.5;\" width=\"42\" x=\"32\" y=\"84\"/><text fill=\"#000000\" font-family=\"sans-serif\" font-size=\"12\" font-style=\"italic\" lengthAdjust=\"spacingAndGlyphs\" textLength=\"40\" x=\"33\" y=\"100.1387\">«part»</text><text fill=\"#000000\" font-family=\"sans-serif\" font-size=\"12\" lengthAdjust=\"spacingAndGlyphs\" textLength=\"22\" x=\"42\" y=\"114.1074\">y: B</text><line style=\"stroke: #A80036; stroke-width: 1.5;\" x1=\"33\" x2=\"73\" y1=\"121.9375\" y2=\"121.9375\"/></a><!--MD5=[09b614a08d8cba4a07c9adeb5e0fee81]\n",
       "class E3--><a href=\"psysml:4745677c-bede-4ab8-acdc-4365dad759bc\" target=\"_top\" title=\"psysml:4745677c-bede-4ab8-acdc-4365dad759bc\" xlink:actuate=\"onRequest\" xlink:href=\"psysml:4745677c-bede-4ab8-acdc-4365dad759bc\" xlink:show=\"new\" xlink:title=\"psysml:4745677c-bede-4ab8-acdc-4365dad759bc\" xlink:type=\"simple\"><rect fill=\"#FEFECE\" filter=\"url(#f10uc6t3lz8lw0)\" height=\"45.9375\" id=\"E3\" style=\"stroke: #A80036; stroke-width: 1.5;\" width=\"66\" x=\"349\" y=\"205\"/><text fill=\"#000000\" font-family=\"sans-serif\" font-size=\"12\" font-style=\"italic\" lengthAdjust=\"spacingAndGlyphs\" textLength=\"64\" x=\"350\" y=\"221.1387\">«part def»</text><text fill=\"#000000\" font-family=\"sans-serif\" font-size=\"12\" lengthAdjust=\"spacingAndGlyphs\" textLength=\"8\" x=\"378\" y=\"235.1074\">A</text><line style=\"stroke: #A80036; stroke-width: 1.5;\" x1=\"350\" x2=\"414\" y1=\"242.9375\" y2=\"242.9375\"/></a><!--MD5=[270fce915f116d4de14055a7c1d9a0f3]\n",
       "class E5--><a href=\"psysml:a455b6ac-bbc4-40c1-9da4-354e9f8fdc46\" target=\"_top\" title=\"psysml:a455b6ac-bbc4-40c1-9da4-354e9f8fdc46\" xlink:actuate=\"onRequest\" xlink:href=\"psysml:a455b6ac-bbc4-40c1-9da4-354e9f8fdc46\" xlink:show=\"new\" xlink:title=\"psysml:a455b6ac-bbc4-40c1-9da4-354e9f8fdc46\" xlink:type=\"simple\"><rect fill=\"#FEFECE\" filter=\"url(#f10uc6t3lz8lw0)\" height=\"45.9375\" id=\"E5\" style=\"stroke: #A80036; stroke-width: 1.5;\" width=\"66\" x=\"97\" y=\"205\"/><text fill=\"#000000\" font-family=\"sans-serif\" font-size=\"12\" font-style=\"italic\" lengthAdjust=\"spacingAndGlyphs\" textLength=\"64\" x=\"98\" y=\"221.1387\">«part def»</text><text fill=\"#000000\" font-family=\"sans-serif\" font-size=\"12\" lengthAdjust=\"spacingAndGlyphs\" textLength=\"8\" x=\"126\" y=\"235.1074\">B</text><line style=\"stroke: #A80036; stroke-width: 1.5;\" x1=\"98\" x2=\"162\" y1=\"242.9375\" y2=\"242.9375\"/></a><!--MD5=[2156ba9850f5573cc1fc38a6a4b2f02b]\n",
       "class E7--><a href=\"psysml:6b7db59d-d003-4043-9508-3fd9ac781eff\" target=\"_top\" title=\"psysml:6b7db59d-d003-4043-9508-3fd9ac781eff\" xlink:actuate=\"onRequest\" xlink:href=\"psysml:6b7db59d-d003-4043-9508-3fd9ac781eff\" xlink:show=\"new\" xlink:title=\"psysml:6b7db59d-d003-4043-9508-3fd9ac781eff\" xlink:type=\"simple\"><rect fill=\"#FEFECE\" filter=\"url(#f10uc6t3lz8lw0)\" height=\"45.9375\" id=\"E7\" rx=\"10\" ry=\"10\" style=\"stroke: #A80036; stroke-width: 1.5;\" width=\"42\" x=\"361\" y=\"84\"/><text fill=\"#000000\" font-family=\"sans-serif\" font-size=\"12\" font-style=\"italic\" lengthAdjust=\"spacingAndGlyphs\" textLength=\"40\" x=\"362\" y=\"100.1387\">«part»</text><text fill=\"#000000\" font-family=\"sans-serif\" font-size=\"12\" lengthAdjust=\"spacingAndGlyphs\" textLength=\"22\" x=\"371\" y=\"114.1074\">x: A</text><line style=\"stroke: #A80036; stroke-width: 1.5;\" x1=\"362\" x2=\"402\" y1=\"121.9375\" y2=\"121.9375\"/></a><!--MD5=[b9389687b975829384b498ac4b7476b2]\n",
       "class E8--><a href=\"psysml:6c414e1f-4fb5-42fd-83aa-c158d2fbc464\" target=\"_top\" title=\"psysml:6c414e1f-4fb5-42fd-83aa-c158d2fbc464\" xlink:actuate=\"onRequest\" xlink:href=\"psysml:6c414e1f-4fb5-42fd-83aa-c158d2fbc464\" xlink:show=\"new\" xlink:title=\"psysml:6c414e1f-4fb5-42fd-83aa-c158d2fbc464\" xlink:type=\"simple\"><rect fill=\"#FEFECE\" filter=\"url(#f10uc6t3lz8lw0)\" height=\"45.9375\" id=\"E8\" rx=\"10\" ry=\"10\" style=\"stroke: #A80036; stroke-width: 1.5;\" width=\"42\" x=\"284\" y=\"84\"/><text fill=\"#000000\" font-family=\"sans-serif\" font-size=\"12\" font-style=\"italic\" lengthAdjust=\"spacingAndGlyphs\" textLength=\"40\" x=\"285\" y=\"100.1387\">«part»</text><text fill=\"#000000\" font-family=\"sans-serif\" font-size=\"12\" lengthAdjust=\"spacingAndGlyphs\" textLength=\"22\" x=\"294\" y=\"114.1074\">y: B</text><line style=\"stroke: #A80036; stroke-width: 1.5;\" x1=\"285\" x2=\"325\" y1=\"121.9375\" y2=\"121.9375\"/></a><!--MD5=[96f4274e9e20536e775497830990834d]\n",
       "class E10--><a href=\"psysml:797261aa-a958-4475-9de3-b139176b10fb\" target=\"_top\" title=\"psysml:797261aa-a958-4475-9de3-b139176b10fb\" xlink:actuate=\"onRequest\" xlink:href=\"psysml:797261aa-a958-4475-9de3-b139176b10fb\" xlink:show=\"new\" xlink:title=\"psysml:797261aa-a958-4475-9de3-b139176b10fb\" xlink:type=\"simple\"><rect fill=\"#FEFECE\" filter=\"url(#f10uc6t3lz8lw0)\" height=\"45.9375\" id=\"E10\" rx=\"10\" ry=\"10\" style=\"stroke: #A80036; stroke-width: 1.5;\" width=\"42\" x=\"186\" y=\"84\"/><text fill=\"#000000\" font-family=\"sans-serif\" font-size=\"12\" font-style=\"italic\" lengthAdjust=\"spacingAndGlyphs\" textLength=\"40\" x=\"187\" y=\"100.1387\">«part»</text><text fill=\"#000000\" font-family=\"sans-serif\" font-size=\"12\" lengthAdjust=\"spacingAndGlyphs\" textLength=\"22\" x=\"196\" y=\"114.1074\">x: A</text><line style=\"stroke: #A80036; stroke-width: 1.5;\" x1=\"187\" x2=\"227\" y1=\"121.9375\" y2=\"121.9375\"/></a><!--MD5=[1dd1bfd58a279cf63c5f349dbc8fc6a1]\n",
       "class E11--><a href=\"psysml:3825b43b-bb71-4033-970e-c8c9e00cfd14\" target=\"_top\" title=\"psysml:3825b43b-bb71-4033-970e-c8c9e00cfd14\" xlink:actuate=\"onRequest\" xlink:href=\"psysml:3825b43b-bb71-4033-970e-c8c9e00cfd14\" xlink:show=\"new\" xlink:title=\"psysml:3825b43b-bb71-4033-970e-c8c9e00cfd14\" xlink:type=\"simple\"><rect fill=\"#FEFECE\" filter=\"url(#f10uc6t3lz8lw0)\" height=\"45.9375\" id=\"E11\" rx=\"10\" ry=\"10\" style=\"stroke: #A80036; stroke-width: 1.5;\" width=\"42\" x=\"109\" y=\"84\"/><text fill=\"#000000\" font-family=\"sans-serif\" font-size=\"12\" font-style=\"italic\" lengthAdjust=\"spacingAndGlyphs\" textLength=\"40\" x=\"110\" y=\"100.1387\">«part»</text><text fill=\"#000000\" font-family=\"sans-serif\" font-size=\"12\" lengthAdjust=\"spacingAndGlyphs\" textLength=\"22\" x=\"119\" y=\"114.1074\">y: B</text><line style=\"stroke: #A80036; stroke-width: 1.5;\" x1=\"110\" x2=\"150\" y1=\"121.9375\" y2=\"121.9375\"/></a><!--MD5=[14ccda38c055a5c0da953d572bc50960]\n",
       "link E7 to E3--><a href=\"psysml:85e1ff22-6346-4a23-846d-dc1a236203c0\" target=\"_top\" title=\"psysml:85e1ff22-6346-4a23-846d-dc1a236203c0\" xlink:actuate=\"onRequest\" xlink:href=\"psysml:85e1ff22-6346-4a23-846d-dc1a236203c0\" xlink:show=\"new\" xlink:title=\"psysml:85e1ff22-6346-4a23-846d-dc1a236203c0\" xlink:type=\"simple\"><path d=\"M382,130.1 C382,145.37 382,166.16 382,184.57 \" fill=\"none\" id=\"E7-&gt;E3\" style=\"stroke: #A80036; stroke-width: 1.0;\"/><polygon fill=\"#FFFFFF\" points=\"382,204.61,375,185.61,389,185.61,382,204.61\" style=\"stroke: #A80036; stroke-width: 1.0;\"/><ellipse cx=\"377\" cy=\"179.91\" fill=\"#A80036\" rx=\"2\" ry=\"2\" style=\"stroke: #A80036; stroke-width: 1.0;\"/><ellipse cx=\"387\" cy=\"179.91\" fill=\"#A80036\" rx=\"2\" ry=\"2\" style=\"stroke: #A80036; stroke-width: 1.0;\"/></a><!--MD5=[1ccb2481ffa92f8d51a74ee30c51832a]\n",
       "link E8 to E5--><a href=\"psysml:483adec0-2d55-41ba-876c-1b8fe7d429ab\" target=\"_top\" title=\"psysml:483adec0-2d55-41ba-876c-1b8fe7d429ab\" xlink:actuate=\"onRequest\" xlink:href=\"psysml:483adec0-2d55-41ba-876c-1b8fe7d429ab\" xlink:show=\"new\" xlink:title=\"psysml:483adec0-2d55-41ba-876c-1b8fe7d429ab\" xlink:type=\"simple\"><path d=\"M283.84,124.59 C272.23,133.52 257.5,144.61 244,154 C223.51,168.25 200.41,183.24 180.38,195.91 \" fill=\"none\" id=\"E8-&gt;E5\" style=\"stroke: #A80036; stroke-width: 1.0;\"/><polygon fill=\"#FFFFFF\" points=\"163.36,206.57,175.7353,190.5434,183.175,202.403,163.36,206.57\" style=\"stroke: #A80036; stroke-width: 1.0;\"/><ellipse cx=\"181.6267\" cy=\"189.2086\" fill=\"#A80036\" rx=\"2\" ry=\"2\" style=\"stroke: #A80036; stroke-width: 1.0;\"/><ellipse cx=\"186.9408\" cy=\"197.6797\" fill=\"#A80036\" rx=\"2\" ry=\"2\" style=\"stroke: #A80036; stroke-width: 1.0;\"/></a><!--MD5=[feeac5eb423634930294aa81f2d25a4c]\n",
       "link E10 to E3--><a href=\"psysml:0e238847-8a3c-4f4a-a4c7-c4eca45a31b2\" target=\"_top\" title=\"psysml:0e238847-8a3c-4f4a-a4c7-c4eca45a31b2\" xlink:actuate=\"onRequest\" xlink:href=\"psysml:0e238847-8a3c-4f4a-a4c7-c4eca45a31b2\" xlink:show=\"new\" xlink:title=\"psysml:0e238847-8a3c-4f4a-a4c7-c4eca45a31b2\" xlink:type=\"simple\"><path d=\"M228.16,124.59 C239.77,133.52 254.5,144.61 268,154 C288.49,168.25 311.59,183.24 331.62,195.91 \" fill=\"none\" id=\"E10-&gt;E3\" style=\"stroke: #A80036; stroke-width: 1.0;\"/><polygon fill=\"#FFFFFF\" points=\"348.64,206.57,328.825,202.403,336.2647,190.5434,348.64,206.57\" style=\"stroke: #A80036; stroke-width: 1.0;\"/><ellipse cx=\"325.0592\" cy=\"197.6797\" fill=\"#A80036\" rx=\"2\" ry=\"2\" style=\"stroke: #A80036; stroke-width: 1.0;\"/><ellipse cx=\"330.3733\" cy=\"189.2086\" fill=\"#A80036\" rx=\"2\" ry=\"2\" style=\"stroke: #A80036; stroke-width: 1.0;\"/></a><!--MD5=[07b77f6f309248d16187045709d1c26e]\n",
       "link E11 to E5--><a href=\"psysml:1112046b-9823-4ab2-8a83-96247ffb9742\" target=\"_top\" title=\"psysml:1112046b-9823-4ab2-8a83-96247ffb9742\" xlink:actuate=\"onRequest\" xlink:href=\"psysml:1112046b-9823-4ab2-8a83-96247ffb9742\" xlink:show=\"new\" xlink:title=\"psysml:1112046b-9823-4ab2-8a83-96247ffb9742\" xlink:type=\"simple\"><path d=\"M130,130.1 C130,145.37 130,166.16 130,184.57 \" fill=\"none\" id=\"E11-&gt;E5\" style=\"stroke: #A80036; stroke-width: 1.0;\"/><polygon fill=\"#FFFFFF\" points=\"130,204.61,123,185.61,137,185.61,130,204.61\" style=\"stroke: #A80036; stroke-width: 1.0;\"/><ellipse cx=\"125\" cy=\"179.91\" fill=\"#A80036\" rx=\"2\" ry=\"2\" style=\"stroke: #A80036; stroke-width: 1.0;\"/><ellipse cx=\"135\" cy=\"179.91\" fill=\"#A80036\" rx=\"2\" ry=\"2\" style=\"stroke: #A80036; stroke-width: 1.0;\"/></a><!--MD5=[39f41a0e550fb3d73b4d8135617e30a2]\n",
       "link E12 to E3--><a href=\"psysml:ee0d4e1c-50f8-4d3c-8a56-5035ed7c5f53\" target=\"_top\" title=\"psysml:ee0d4e1c-50f8-4d3c-8a56-5035ed7c5f53\" xlink:actuate=\"onRequest\" xlink:href=\"psysml:ee0d4e1c-50f8-4d3c-8a56-5035ed7c5f53\" xlink:show=\"new\" xlink:title=\"psysml:ee0d4e1c-50f8-4d3c-8a56-5035ed7c5f53\" xlink:type=\"simple\"><path d=\"M444.7,130.1 C434.28,146.2 419.89,168.44 407.53,187.55 \" fill=\"none\" id=\"E12-&gt;E3\" style=\"stroke: #A80036; stroke-width: 1.0;\"/><polygon fill=\"#FFFFFF\" points=\"396.49,204.61,400.9313,184.8546,412.6866,192.4581,396.49,204.61\" style=\"stroke: #A80036; stroke-width: 1.0;\"/><ellipse cx=\"405.7063\" cy=\"181.1547\" fill=\"#A80036\" rx=\"2\" ry=\"2\" style=\"stroke: #A80036; stroke-width: 1.0;\"/><ellipse cx=\"414.103\" cy=\"186.5858\" fill=\"#A80036\" rx=\"2\" ry=\"2\" style=\"stroke: #A80036; stroke-width: 1.0;\"/></a><!--MD5=[066b2d8af59fea80ccdb3d54ad5c1091]\n",
       "link E13 to E5--><a href=\"psysml:1d6f62f5-9885-441d-bead-3e38c1577759\" target=\"_top\" title=\"psysml:1d6f62f5-9885-441d-bead-3e38c1577759\" xlink:actuate=\"onRequest\" xlink:href=\"psysml:1d6f62f5-9885-441d-bead-3e38c1577759\" xlink:show=\"new\" xlink:title=\"psysml:1d6f62f5-9885-441d-bead-3e38c1577759\" xlink:type=\"simple\"><path d=\"M67.3,130.1 C77.72,146.2 92.11,168.44 104.47,187.55 \" fill=\"none\" id=\"E13-&gt;E5\" style=\"stroke: #A80036; stroke-width: 1.0;\"/><polygon fill=\"#FFFFFF\" points=\"115.51,204.61,99.3134,192.4581,111.0687,184.8546,115.51,204.61\" style=\"stroke: #A80036; stroke-width: 1.0;\"/><ellipse cx=\"97.897\" cy=\"186.5858\" fill=\"#A80036\" rx=\"2\" ry=\"2\" style=\"stroke: #A80036; stroke-width: 1.0;\"/><ellipse cx=\"106.2937\" cy=\"181.1547\" fill=\"#A80036\" rx=\"2\" ry=\"2\" style=\"stroke: #A80036; stroke-width: 1.0;\"/></a><!--MD5=[3550145a615b1d8e3bdd80af2ade7676]\n",
       "@startuml\r\n",
       "skinparam wrapWidth 300\r\n",
       "hide circle\r\n",
       "\r\n",
       "package \"CircularImport\" as E1  [[psysml:6a62b0bb-ce07-42d9-b06f-c19bd22a93a2 ]]  {\r\n",
       "package \"P1\" as E2  [[psysml:e5793e48-aebf-4c77-9b1c-634d316c370a ]]  {\r\n",
       "comp def \"A\" as E3  <<(T,blue)part def>> [[psysml:4745677c-bede-4ab8-acdc-4365dad759bc ]] {\r\n",
       "}\r\n",
       "}\r\n",
       "package \"P2\" as E4  [[psysml:9f128572-3fea-4fc4-b18b-c92f97cc0f0b ]]  {\r\n",
       "comp def \"B\" as E5  <<(T,blue)part def>> [[psysml:a455b6ac-bbc4-40c1-9da4-354e9f8fdc46 ]] {\r\n",
       "}\r\n",
       "}\r\n",
       "package \"Test1\" as E6  [[psysml:6c517ad3-81f8-4503-b234-41386708eb5e ]]  {\r\n",
       "comp usage \"x: A\" as E7  <<(T,blue)part>> [[psysml:6b7db59d-d003-4043-9508-3fd9ac781eff ]] {\r\n",
       "}\r\n",
       "comp usage \"y: B\" as E8  <<(T,blue)part>> [[psysml:6c414e1f-4fb5-42fd-83aa-c158d2fbc464 ]] {\r\n",
       "}\r\n",
       "E7 - -:|> E3 [[psysml:85e1ff22-6346-4a23-846d-dc1a236203c0 ]] \r\n",
       "E8 - -:|> E5 [[psysml:483adec0-2d55-41ba-876c-1b8fe7d429ab ]] \r\n",
       "}\r\n",
       "package \"Test2\" as E9  [[psysml:81951965-8d4b-42c4-ba21-4255f6488007 ]]  {\r\n",
       "comp usage \"x: A\" as E10  <<(T,blue)part>> [[psysml:797261aa-a958-4475-9de3-b139176b10fb ]] {\r\n",
       "}\r\n",
       "comp usage \"y: B\" as E11  <<(T,blue)part>> [[psysml:3825b43b-bb71-4033-970e-c8c9e00cfd14 ]] {\r\n",
       "}\r\n",
       "E10 - -:|> E3 [[psysml:0e238847-8a3c-4f4a-a4c7-c4eca45a31b2 ]] \r\n",
       "E11 - -:|> E5 [[psysml:1112046b-9823-4ab2-8a83-96247ffb9742 ]] \r\n",
       "}\r\n",
       "comp usage \"x: A\" as E12  <<(T,blue)part>> [[psysml:e16c4bbb-61f3-4b61-a2b5-b03e29e494af ]] {\r\n",
       "}\r\n",
       "comp usage \"y: B\" as E13  <<(T,blue)part>> [[psysml:6a814915-eeda-4c4d-8e98-a86878ae1f3d ]] {\r\n",
       "}\r\n",
       "E12 - -:|> E3 [[psysml:ee0d4e1c-50f8-4d3c-8a56-5035ed7c5f53 ]] \r\n",
       "E13 - -:|> E5 [[psysml:1d6f62f5-9885-441d-bead-3e38c1577759 ]] \r\n",
       "}\r\n",
       "@enduml\r\n",
       "\n",
       "PlantUML version 1.2020.13(Sat Jun 13 12:26:38 UTC 2020)\n",
       "(EPL source distribution)\n",
       "Java Runtime: OpenJDK Runtime Environment\n",
       "JVM: OpenJDK 64-Bit Server VM\n",
       "Default Encoding: UTF-8\n",
       "Language: en\n",
       "Country: null\n",
       "--></g></svg>"
      ]
     },
     "execution_count": 29,
     "metadata": {},
     "output_type": "execute_result"
    }
   ],
   "source": [
    "%viz --style=\"STDCOLOR\" --view=\"MIXED\" \"CircularImport\""
   ]
  },
  {
   "cell_type": "code",
   "execution_count": 30,
   "id": "approximate-patrol",
   "metadata": {
    "execution": {
     "iopub.execute_input": "2021-03-25T13:13:19.235148Z",
     "iopub.status.busy": "2021-03-25T13:13:19.234690Z",
     "iopub.status.idle": "2021-03-25T13:13:19.379020Z",
     "shell.execute_reply": "2021-03-25T13:13:19.376348Z"
    }
   },
   "outputs": [
    {
     "data": {
      "image/svg+xml": [
       "<?xml version=\"1.0\" encoding=\"UTF-8\" standalone=\"no\"?><svg xmlns=\"http://www.w3.org/2000/svg\" xmlns:xlink=\"http://www.w3.org/1999/xlink\" contentScriptType=\"application/ecmascript\" contentStyleType=\"text/css\" height=\"297px\" preserveAspectRatio=\"none\" style=\"width:674px;height:297px;\" version=\"1.1\" viewBox=\"0 0 674 297\" width=\"674px\" zoomAndPan=\"magnify\"><defs><filter height=\"300%\" id=\"fnp6fuk4gpz11\" width=\"300%\" x=\"-1\" y=\"-1\"><feGaussianBlur result=\"blurOut\" stdDeviation=\"2.0\"/><feColorMatrix in=\"blurOut\" result=\"blurOut2\" type=\"matrix\" values=\"0 0 0 0 0 0 0 0 0 0 0 0 0 0 0 0 0 0 .4 0\"/><feOffset dx=\"4.0\" dy=\"4.0\" in=\"blurOut2\" result=\"blurOut3\"/><feBlend in=\"SourceGraphic\" in2=\"blurOut3\" mode=\"normal\"/></filter></defs><g><!--MD5=[fbc87193dbaf4d95561dea2c320d4a47]\n",
       "cluster E1--><a href=\"psysml:6a62b0bb-ce07-42d9-b06f-c19bd22a93a2\" target=\"_top\" title=\"psysml:6a62b0bb-ce07-42d9-b06f-c19bd22a93a2\" xlink:actuate=\"onRequest\" xlink:href=\"psysml:6a62b0bb-ce07-42d9-b06f-c19bd22a93a2\" xlink:show=\"new\" xlink:title=\"psysml:6a62b0bb-ce07-42d9-b06f-c19bd22a93a2\" xlink:type=\"simple\"><polygon fill=\"#FFFFFF\" filter=\"url(#fnp6fuk4gpz11)\" points=\"16,6,134,6,141,28.2969,652,28.2969,652,285,16,285,16,6\" style=\"stroke: #000000; stroke-width: 1.5;\"/><line style=\"stroke: #000000; stroke-width: 1.5;\" x1=\"16\" x2=\"141\" y1=\"28.2969\" y2=\"28.2969\"/><text fill=\"#000000\" font-family=\"sans-serif\" font-size=\"14\" font-weight=\"bold\" lengthAdjust=\"spacingAndGlyphs\" textLength=\"112\" x=\"20\" y=\"20.9951\">CircularImport</text></a><!--MD5=[e4f7fae6ed58524ba242bb0b0d3be6b7]\n",
       "cluster E2--><a href=\"psysml:e5793e48-aebf-4c77-9b1c-634d316c370a\" target=\"_top\" title=\"psysml:e5793e48-aebf-4c77-9b1c-634d316c370a\" xlink:actuate=\"onRequest\" xlink:href=\"psysml:e5793e48-aebf-4c77-9b1c-634d316c370a\" xlink:show=\"new\" xlink:title=\"psysml:e5793e48-aebf-4c77-9b1c-634d316c370a\" xlink:type=\"simple\"><polygon fill=\"#FFFFFF\" filter=\"url(#fnp6fuk4gpz11)\" points=\"463,170,489,170,496,192.2969,535,192.2969,535,261,463,261,463,170\" style=\"stroke: #000000; stroke-width: 1.5;\"/><line style=\"stroke: #000000; stroke-width: 1.5;\" x1=\"463\" x2=\"496\" y1=\"192.2969\" y2=\"192.2969\"/><text fill=\"#000000\" font-family=\"sans-serif\" font-size=\"14\" font-weight=\"bold\" lengthAdjust=\"spacingAndGlyphs\" textLength=\"20\" x=\"467\" y=\"184.9951\">P1</text></a><!--MD5=[f6df4d0ebaf0b5dfb2ced0ae5af7c670]\n",
       "cluster E4--><a href=\"psysml:9f128572-3fea-4fc4-b18b-c92f97cc0f0b\" target=\"_top\" title=\"psysml:9f128572-3fea-4fc4-b18b-c92f97cc0f0b\" xlink:actuate=\"onRequest\" xlink:href=\"psysml:9f128572-3fea-4fc4-b18b-c92f97cc0f0b\" xlink:show=\"new\" xlink:title=\"psysml:9f128572-3fea-4fc4-b18b-c92f97cc0f0b\" xlink:type=\"simple\"><polygon fill=\"#FFFFFF\" filter=\"url(#fnp6fuk4gpz11)\" points=\"133,170,159,170,166,192.2969,205,192.2969,205,261,133,261,133,170\" style=\"stroke: #000000; stroke-width: 1.5;\"/><line style=\"stroke: #000000; stroke-width: 1.5;\" x1=\"133\" x2=\"166\" y1=\"192.2969\" y2=\"192.2969\"/><text fill=\"#000000\" font-family=\"sans-serif\" font-size=\"14\" font-weight=\"bold\" lengthAdjust=\"spacingAndGlyphs\" textLength=\"20\" x=\"137\" y=\"184.9951\">P2</text></a><!--MD5=[14e3b0961a2654348d326746436168a1]\n",
       "cluster E6--><a href=\"psysml:6c517ad3-81f8-4503-b234-41386708eb5e\" target=\"_top\" title=\"psysml:6c517ad3-81f8-4503-b234-41386708eb5e\" xlink:actuate=\"onRequest\" xlink:href=\"psysml:6c517ad3-81f8-4503-b234-41386708eb5e\" xlink:show=\"new\" xlink:title=\"psysml:6c517ad3-81f8-4503-b234-41386708eb5e\" xlink:type=\"simple\"><polygon fill=\"#FFFFFF\" filter=\"url(#fnp6fuk4gpz11)\" points=\"346,49,397,49,404,71.2969,549,71.2969,549,146,346,146,346,49\" style=\"stroke: #000000; stroke-width: 1.5;\"/><line style=\"stroke: #000000; stroke-width: 1.5;\" x1=\"346\" x2=\"404\" y1=\"71.2969\" y2=\"71.2969\"/><text fill=\"#000000\" font-family=\"sans-serif\" font-size=\"14\" font-weight=\"bold\" lengthAdjust=\"spacingAndGlyphs\" textLength=\"45\" x=\"350\" y=\"63.9951\">Test1</text></a><!--MD5=[7f149f147074ac12df2cb0a7728a5fb0]\n",
       "cluster E9--><a href=\"psysml:81951965-8d4b-42c4-ba21-4255f6488007\" target=\"_top\" title=\"psysml:81951965-8d4b-42c4-ba21-4255f6488007\" xlink:actuate=\"onRequest\" xlink:href=\"psysml:81951965-8d4b-42c4-ba21-4255f6488007\" xlink:show=\"new\" xlink:title=\"psysml:81951965-8d4b-42c4-ba21-4255f6488007\" xlink:type=\"simple\"><polygon fill=\"#FFFFFF\" filter=\"url(#fnp6fuk4gpz11)\" points=\"119,49,170,49,177,71.2969,322,71.2969,322,146,119,146,119,49\" style=\"stroke: #000000; stroke-width: 1.5;\"/><line style=\"stroke: #000000; stroke-width: 1.5;\" x1=\"119\" x2=\"177\" y1=\"71.2969\" y2=\"71.2969\"/><text fill=\"#000000\" font-family=\"sans-serif\" font-size=\"14\" font-weight=\"bold\" lengthAdjust=\"spacingAndGlyphs\" textLength=\"45\" x=\"123\" y=\"63.9951\">Test2</text></a><!--MD5=[49a0ec8f00dab7302a31f22d0f0fe584]\n",
       "class E12--><a href=\"psysml:e16c4bbb-61f3-4b61-a2b5-b03e29e494af\" target=\"_top\" title=\"psysml:e16c4bbb-61f3-4b61-a2b5-b03e29e494af\" xlink:actuate=\"onRequest\" xlink:href=\"psysml:e16c4bbb-61f3-4b61-a2b5-b03e29e494af\" xlink:show=\"new\" xlink:title=\"psysml:e16c4bbb-61f3-4b61-a2b5-b03e29e494af\" xlink:type=\"simple\"><rect fill=\"#FEFECE\" filter=\"url(#fnp6fuk4gpz11)\" height=\"45.9375\" id=\"E12\" rx=\"10\" ry=\"10\" style=\"stroke: #A80036; stroke-width: 1.5;\" width=\"68\" x=\"568\" y=\"84\"/><ellipse cx=\"583\" cy=\"102.9688\" fill=\"#32CD32\" rx=\"11\" ry=\"11\" style=\"stroke: #A80036; stroke-width: 1.0;\"/><path d=\"M582.7969,98.6406 L582.7969,102.2656 L583.7969,102.2656 Q585,102.2656 585.4844,101.8594 Q585.9688,101.4531 585.9688,100.4531 Q585.9688,99.4531 585.4844,99.0469 Q585,98.6406 583.7969,98.6406 L582.7969,98.6406 Z M580.3438,96.5781 L583.7031,96.5781 Q586.2656,96.5781 587.3906,97.5 Q588.5156,98.4063 588.5156,100.4531 Q588.5156,102.5 587.3906,103.4219 Q586.2656,104.3281 583.7031,104.3281 L582.7969,104.3281 L582.7969,108.9688 L580.3438,108.9688 L580.3438,96.5781 Z \"/><text fill=\"#000000\" font-family=\"sans-serif\" font-size=\"12\" font-style=\"italic\" lengthAdjust=\"spacingAndGlyphs\" textLength=\"40\" x=\"595\" y=\"100.1387\">«part»</text><text fill=\"#000000\" font-family=\"sans-serif\" font-size=\"12\" lengthAdjust=\"spacingAndGlyphs\" textLength=\"22\" x=\"604\" y=\"114.1074\">x: A</text><line style=\"stroke: #A80036; stroke-width: 1.5;\" x1=\"569\" x2=\"635\" y1=\"121.9375\" y2=\"121.9375\"/></a><!--MD5=[ee3c913d1a06f366521f9ef512b67efe]\n",
       "class E13--><a href=\"psysml:6a814915-eeda-4c4d-8e98-a86878ae1f3d\" target=\"_top\" title=\"psysml:6a814915-eeda-4c4d-8e98-a86878ae1f3d\" xlink:actuate=\"onRequest\" xlink:href=\"psysml:6a814915-eeda-4c4d-8e98-a86878ae1f3d\" xlink:show=\"new\" xlink:title=\"psysml:6a814915-eeda-4c4d-8e98-a86878ae1f3d\" xlink:type=\"simple\"><rect fill=\"#FEFECE\" filter=\"url(#fnp6fuk4gpz11)\" height=\"45.9375\" id=\"E13\" rx=\"10\" ry=\"10\" style=\"stroke: #A80036; stroke-width: 1.5;\" width=\"68\" x=\"32\" y=\"84\"/><ellipse cx=\"47\" cy=\"102.9688\" fill=\"#32CD32\" rx=\"11\" ry=\"11\" style=\"stroke: #A80036; stroke-width: 1.0;\"/><path d=\"M46.7969,98.6406 L46.7969,102.2656 L47.7969,102.2656 Q49,102.2656 49.4844,101.8594 Q49.9688,101.4531 49.9688,100.4531 Q49.9688,99.4531 49.4844,99.0469 Q49,98.6406 47.7969,98.6406 L46.7969,98.6406 Z M44.3438,96.5781 L47.7031,96.5781 Q50.2656,96.5781 51.3906,97.5 Q52.5156,98.4063 52.5156,100.4531 Q52.5156,102.5 51.3906,103.4219 Q50.2656,104.3281 47.7031,104.3281 L46.7969,104.3281 L46.7969,108.9688 L44.3438,108.9688 L44.3438,96.5781 Z \"/><text fill=\"#000000\" font-family=\"sans-serif\" font-size=\"12\" font-style=\"italic\" lengthAdjust=\"spacingAndGlyphs\" textLength=\"40\" x=\"59\" y=\"100.1387\">«part»</text><text fill=\"#000000\" font-family=\"sans-serif\" font-size=\"12\" lengthAdjust=\"spacingAndGlyphs\" textLength=\"22\" x=\"68\" y=\"114.1074\">y: B</text><line style=\"stroke: #A80036; stroke-width: 1.5;\" x1=\"33\" x2=\"99\" y1=\"121.9375\" y2=\"121.9375\"/></a><!--MD5=[09b614a08d8cba4a07c9adeb5e0fee81]\n",
       "class E3--><a href=\"psysml:4745677c-bede-4ab8-acdc-4365dad759bc\" target=\"_top\" title=\"psysml:4745677c-bede-4ab8-acdc-4365dad759bc\" xlink:actuate=\"onRequest\" xlink:href=\"psysml:4745677c-bede-4ab8-acdc-4365dad759bc\" xlink:show=\"new\" xlink:title=\"psysml:4745677c-bede-4ab8-acdc-4365dad759bc\" xlink:type=\"simple\"><rect fill=\"#FEFECE\" filter=\"url(#fnp6fuk4gpz11)\" height=\"40\" id=\"E3\" style=\"stroke: #A80036; stroke-width: 1.5;\" width=\"40\" x=\"479\" y=\"205\"/><ellipse cx=\"494\" cy=\"221\" fill=\"#008000\" rx=\"11\" ry=\"11\" style=\"stroke: #A80036; stroke-width: 1.0;\"/><path d=\"M492.9063,221.375 L492.9063,225.0469 L494.5313,225.0469 Q495.7031,225.0469 496.1719,224.6563 Q496.6406,224.25 496.6406,223.25 Q496.6406,222.25 496.1406,221.8125 Q495.6563,221.375 494.5313,221.375 L492.9063,221.375 Z M492.9063,216.5469 L492.9063,219.4219 L494.5313,219.4219 Q495.4531,219.4219 495.8438,219.0938 Q496.25,218.75 496.25,218 Q496.25,217.2344 495.8438,216.8906 Q495.4375,216.5469 494.5313,216.5469 L492.9063,216.5469 Z M490.5313,214.5938 L494.5313,214.5938 Q496.5938,214.5938 497.6406,215.375 Q498.6875,216.1563 498.6875,217.7188 Q498.6875,218.9219 498.0625,219.5938 Q497.4531,220.2656 496.2656,220.375 Q497.6875,220.5156 498.4063,221.3281 Q499.125,222.1406 499.125,223.5938 Q499.125,225.3906 498.0469,226.2031 Q496.9688,227 494.5313,227 L490.5313,227 L490.5313,214.5938 Z \"/><text fill=\"#000000\" font-family=\"sans-serif\" font-size=\"12\" lengthAdjust=\"spacingAndGlyphs\" textLength=\"8\" x=\"508\" y=\"225.1543\">A</text><line style=\"stroke: #A80036; stroke-width: 1.5;\" x1=\"480\" x2=\"518\" y1=\"237\" y2=\"237\"/></a><!--MD5=[270fce915f116d4de14055a7c1d9a0f3]\n",
       "class E5--><a href=\"psysml:a455b6ac-bbc4-40c1-9da4-354e9f8fdc46\" target=\"_top\" title=\"psysml:a455b6ac-bbc4-40c1-9da4-354e9f8fdc46\" xlink:actuate=\"onRequest\" xlink:href=\"psysml:a455b6ac-bbc4-40c1-9da4-354e9f8fdc46\" xlink:show=\"new\" xlink:title=\"psysml:a455b6ac-bbc4-40c1-9da4-354e9f8fdc46\" xlink:type=\"simple\"><rect fill=\"#FEFECE\" filter=\"url(#fnp6fuk4gpz11)\" height=\"40\" id=\"E5\" style=\"stroke: #A80036; stroke-width: 1.5;\" width=\"40\" x=\"149\" y=\"205\"/><ellipse cx=\"164\" cy=\"221\" fill=\"#008000\" rx=\"11\" ry=\"11\" style=\"stroke: #A80036; stroke-width: 1.0;\"/><path d=\"M162.9063,221.375 L162.9063,225.0469 L164.5313,225.0469 Q165.7031,225.0469 166.1719,224.6563 Q166.6406,224.25 166.6406,223.25 Q166.6406,222.25 166.1406,221.8125 Q165.6563,221.375 164.5313,221.375 L162.9063,221.375 Z M162.9063,216.5469 L162.9063,219.4219 L164.5313,219.4219 Q165.4531,219.4219 165.8438,219.0938 Q166.25,218.75 166.25,218 Q166.25,217.2344 165.8438,216.8906 Q165.4375,216.5469 164.5313,216.5469 L162.9063,216.5469 Z M160.5313,214.5938 L164.5313,214.5938 Q166.5938,214.5938 167.6406,215.375 Q168.6875,216.1563 168.6875,217.7188 Q168.6875,218.9219 168.0625,219.5938 Q167.4531,220.2656 166.2656,220.375 Q167.6875,220.5156 168.4063,221.3281 Q169.125,222.1406 169.125,223.5938 Q169.125,225.3906 168.0469,226.2031 Q166.9688,227 164.5313,227 L160.5313,227 L160.5313,214.5938 Z \"/><text fill=\"#000000\" font-family=\"sans-serif\" font-size=\"12\" lengthAdjust=\"spacingAndGlyphs\" textLength=\"8\" x=\"178\" y=\"225.1543\">B</text><line style=\"stroke: #A80036; stroke-width: 1.5;\" x1=\"150\" x2=\"188\" y1=\"237\" y2=\"237\"/></a><!--MD5=[2156ba9850f5573cc1fc38a6a4b2f02b]\n",
       "class E7--><a href=\"psysml:6b7db59d-d003-4043-9508-3fd9ac781eff\" target=\"_top\" title=\"psysml:6b7db59d-d003-4043-9508-3fd9ac781eff\" xlink:actuate=\"onRequest\" xlink:href=\"psysml:6b7db59d-d003-4043-9508-3fd9ac781eff\" xlink:show=\"new\" xlink:title=\"psysml:6b7db59d-d003-4043-9508-3fd9ac781eff\" xlink:type=\"simple\"><rect fill=\"#FEFECE\" filter=\"url(#fnp6fuk4gpz11)\" height=\"45.9375\" id=\"E7\" rx=\"10\" ry=\"10\" style=\"stroke: #A80036; stroke-width: 1.5;\" width=\"68\" x=\"465\" y=\"84\"/><ellipse cx=\"480\" cy=\"102.9688\" fill=\"#32CD32\" rx=\"11\" ry=\"11\" style=\"stroke: #A80036; stroke-width: 1.0;\"/><path d=\"M479.7969,98.6406 L479.7969,102.2656 L480.7969,102.2656 Q482,102.2656 482.4844,101.8594 Q482.9688,101.4531 482.9688,100.4531 Q482.9688,99.4531 482.4844,99.0469 Q482,98.6406 480.7969,98.6406 L479.7969,98.6406 Z M477.3438,96.5781 L480.7031,96.5781 Q483.2656,96.5781 484.3906,97.5 Q485.5156,98.4063 485.5156,100.4531 Q485.5156,102.5 484.3906,103.4219 Q483.2656,104.3281 480.7031,104.3281 L479.7969,104.3281 L479.7969,108.9688 L477.3438,108.9688 L477.3438,96.5781 Z \"/><text fill=\"#000000\" font-family=\"sans-serif\" font-size=\"12\" font-style=\"italic\" lengthAdjust=\"spacingAndGlyphs\" textLength=\"40\" x=\"492\" y=\"100.1387\">«part»</text><text fill=\"#000000\" font-family=\"sans-serif\" font-size=\"12\" lengthAdjust=\"spacingAndGlyphs\" textLength=\"22\" x=\"501\" y=\"114.1074\">x: A</text><line style=\"stroke: #A80036; stroke-width: 1.5;\" x1=\"466\" x2=\"532\" y1=\"121.9375\" y2=\"121.9375\"/></a><!--MD5=[b9389687b975829384b498ac4b7476b2]\n",
       "class E8--><a href=\"psysml:6c414e1f-4fb5-42fd-83aa-c158d2fbc464\" target=\"_top\" title=\"psysml:6c414e1f-4fb5-42fd-83aa-c158d2fbc464\" xlink:actuate=\"onRequest\" xlink:href=\"psysml:6c414e1f-4fb5-42fd-83aa-c158d2fbc464\" xlink:show=\"new\" xlink:title=\"psysml:6c414e1f-4fb5-42fd-83aa-c158d2fbc464\" xlink:type=\"simple\"><rect fill=\"#FEFECE\" filter=\"url(#fnp6fuk4gpz11)\" height=\"45.9375\" id=\"E8\" rx=\"10\" ry=\"10\" style=\"stroke: #A80036; stroke-width: 1.5;\" width=\"68\" x=\"362\" y=\"84\"/><ellipse cx=\"377\" cy=\"102.9688\" fill=\"#32CD32\" rx=\"11\" ry=\"11\" style=\"stroke: #A80036; stroke-width: 1.0;\"/><path d=\"M376.7969,98.6406 L376.7969,102.2656 L377.7969,102.2656 Q379,102.2656 379.4844,101.8594 Q379.9688,101.4531 379.9688,100.4531 Q379.9688,99.4531 379.4844,99.0469 Q379,98.6406 377.7969,98.6406 L376.7969,98.6406 Z M374.3438,96.5781 L377.7031,96.5781 Q380.2656,96.5781 381.3906,97.5 Q382.5156,98.4063 382.5156,100.4531 Q382.5156,102.5 381.3906,103.4219 Q380.2656,104.3281 377.7031,104.3281 L376.7969,104.3281 L376.7969,108.9688 L374.3438,108.9688 L374.3438,96.5781 Z \"/><text fill=\"#000000\" font-family=\"sans-serif\" font-size=\"12\" font-style=\"italic\" lengthAdjust=\"spacingAndGlyphs\" textLength=\"40\" x=\"389\" y=\"100.1387\">«part»</text><text fill=\"#000000\" font-family=\"sans-serif\" font-size=\"12\" lengthAdjust=\"spacingAndGlyphs\" textLength=\"22\" x=\"398\" y=\"114.1074\">y: B</text><line style=\"stroke: #A80036; stroke-width: 1.5;\" x1=\"363\" x2=\"429\" y1=\"121.9375\" y2=\"121.9375\"/></a><!--MD5=[96f4274e9e20536e775497830990834d]\n",
       "class E10--><a href=\"psysml:797261aa-a958-4475-9de3-b139176b10fb\" target=\"_top\" title=\"psysml:797261aa-a958-4475-9de3-b139176b10fb\" xlink:actuate=\"onRequest\" xlink:href=\"psysml:797261aa-a958-4475-9de3-b139176b10fb\" xlink:show=\"new\" xlink:title=\"psysml:797261aa-a958-4475-9de3-b139176b10fb\" xlink:type=\"simple\"><rect fill=\"#FEFECE\" filter=\"url(#fnp6fuk4gpz11)\" height=\"45.9375\" id=\"E10\" rx=\"10\" ry=\"10\" style=\"stroke: #A80036; stroke-width: 1.5;\" width=\"68\" x=\"238\" y=\"84\"/><ellipse cx=\"253\" cy=\"102.9688\" fill=\"#32CD32\" rx=\"11\" ry=\"11\" style=\"stroke: #A80036; stroke-width: 1.0;\"/><path d=\"M252.7969,98.6406 L252.7969,102.2656 L253.7969,102.2656 Q255,102.2656 255.4844,101.8594 Q255.9688,101.4531 255.9688,100.4531 Q255.9688,99.4531 255.4844,99.0469 Q255,98.6406 253.7969,98.6406 L252.7969,98.6406 Z M250.3438,96.5781 L253.7031,96.5781 Q256.2656,96.5781 257.3906,97.5 Q258.5156,98.4063 258.5156,100.4531 Q258.5156,102.5 257.3906,103.4219 Q256.2656,104.3281 253.7031,104.3281 L252.7969,104.3281 L252.7969,108.9688 L250.3438,108.9688 L250.3438,96.5781 Z \"/><text fill=\"#000000\" font-family=\"sans-serif\" font-size=\"12\" font-style=\"italic\" lengthAdjust=\"spacingAndGlyphs\" textLength=\"40\" x=\"265\" y=\"100.1387\">«part»</text><text fill=\"#000000\" font-family=\"sans-serif\" font-size=\"12\" lengthAdjust=\"spacingAndGlyphs\" textLength=\"22\" x=\"274\" y=\"114.1074\">x: A</text><line style=\"stroke: #A80036; stroke-width: 1.5;\" x1=\"239\" x2=\"305\" y1=\"121.9375\" y2=\"121.9375\"/></a><!--MD5=[1dd1bfd58a279cf63c5f349dbc8fc6a1]\n",
       "class E11--><a href=\"psysml:3825b43b-bb71-4033-970e-c8c9e00cfd14\" target=\"_top\" title=\"psysml:3825b43b-bb71-4033-970e-c8c9e00cfd14\" xlink:actuate=\"onRequest\" xlink:href=\"psysml:3825b43b-bb71-4033-970e-c8c9e00cfd14\" xlink:show=\"new\" xlink:title=\"psysml:3825b43b-bb71-4033-970e-c8c9e00cfd14\" xlink:type=\"simple\"><rect fill=\"#FEFECE\" filter=\"url(#fnp6fuk4gpz11)\" height=\"45.9375\" id=\"E11\" rx=\"10\" ry=\"10\" style=\"stroke: #A80036; stroke-width: 1.5;\" width=\"68\" x=\"135\" y=\"84\"/><ellipse cx=\"150\" cy=\"102.9688\" fill=\"#32CD32\" rx=\"11\" ry=\"11\" style=\"stroke: #A80036; stroke-width: 1.0;\"/><path d=\"M149.7969,98.6406 L149.7969,102.2656 L150.7969,102.2656 Q152,102.2656 152.4844,101.8594 Q152.9688,101.4531 152.9688,100.4531 Q152.9688,99.4531 152.4844,99.0469 Q152,98.6406 150.7969,98.6406 L149.7969,98.6406 Z M147.3438,96.5781 L150.7031,96.5781 Q153.2656,96.5781 154.3906,97.5 Q155.5156,98.4063 155.5156,100.4531 Q155.5156,102.5 154.3906,103.4219 Q153.2656,104.3281 150.7031,104.3281 L149.7969,104.3281 L149.7969,108.9688 L147.3438,108.9688 L147.3438,96.5781 Z \"/><text fill=\"#000000\" font-family=\"sans-serif\" font-size=\"12\" font-style=\"italic\" lengthAdjust=\"spacingAndGlyphs\" textLength=\"40\" x=\"162\" y=\"100.1387\">«part»</text><text fill=\"#000000\" font-family=\"sans-serif\" font-size=\"12\" lengthAdjust=\"spacingAndGlyphs\" textLength=\"22\" x=\"171\" y=\"114.1074\">y: B</text><line style=\"stroke: #A80036; stroke-width: 1.5;\" x1=\"136\" x2=\"202\" y1=\"121.9375\" y2=\"121.9375\"/></a><!--MD5=[14ccda38c055a5c0da953d572bc50960]\n",
       "link E7 to E3--><a href=\"psysml:85e1ff22-6346-4a23-846d-dc1a236203c0\" target=\"_top\" title=\"psysml:85e1ff22-6346-4a23-846d-dc1a236203c0\" xlink:actuate=\"onRequest\" xlink:href=\"psysml:85e1ff22-6346-4a23-846d-dc1a236203c0\" xlink:show=\"new\" xlink:title=\"psysml:85e1ff22-6346-4a23-846d-dc1a236203c0\" xlink:type=\"simple\"><path d=\"M499,130.09 C499,145.42 499,166.27 499,184.42 \" fill=\"none\" id=\"E7-&gt;E3\" style=\"stroke: #A80036; stroke-width: 1.0;\"/><polygon fill=\"#FFFFFF\" points=\"499,204.69,492,185.69,506,185.69,499,204.69\" style=\"stroke: #A80036; stroke-width: 1.0;\"/><ellipse cx=\"494\" cy=\"179.99\" fill=\"#A80036\" rx=\"2\" ry=\"2\" style=\"stroke: #A80036; stroke-width: 1.0;\"/><ellipse cx=\"504\" cy=\"179.99\" fill=\"#A80036\" rx=\"2\" ry=\"2\" style=\"stroke: #A80036; stroke-width: 1.0;\"/></a><!--MD5=[1ccb2481ffa92f8d51a74ee30c51832a]\n",
       "link E8 to E5--><a href=\"psysml:483adec0-2d55-41ba-876c-1b8fe7d429ab\" target=\"_top\" title=\"psysml:483adec0-2d55-41ba-876c-1b8fe7d429ab\" xlink:actuate=\"onRequest\" xlink:href=\"psysml:483adec0-2d55-41ba-876c-1b8fe7d429ab\" xlink:show=\"new\" xlink:title=\"psysml:483adec0-2d55-41ba-876c-1b8fe7d429ab\" xlink:type=\"simple\"><path d=\"M362.27,130.22 C349.82,138.09 335.46,146.77 322,154 C284.18,174.3 239.36,194.36 208.05,207.77 \" fill=\"none\" id=\"E8-&gt;E5\" style=\"stroke: #A80036; stroke-width: 1.0;\"/><polygon fill=\"#FFFFFF\" points=\"189.2,215.73,203.9741,201.8834,209.4261,214.7782,189.2,215.73\" style=\"stroke: #A80036; stroke-width: 1.0;\"/><ellipse cx=\"210.0029\" cy=\"201.5058\" fill=\"#A80036\" rx=\"2\" ry=\"2\" style=\"stroke: #A80036; stroke-width: 1.0;\"/><ellipse cx=\"213.8972\" cy=\"210.7164\" fill=\"#A80036\" rx=\"2\" ry=\"2\" style=\"stroke: #A80036; stroke-width: 1.0;\"/></a><!--MD5=[feeac5eb423634930294aa81f2d25a4c]\n",
       "link E10 to E3--><a href=\"psysml:0e238847-8a3c-4f4a-a4c7-c4eca45a31b2\" target=\"_top\" title=\"psysml:0e238847-8a3c-4f4a-a4c7-c4eca45a31b2\" xlink:actuate=\"onRequest\" xlink:href=\"psysml:0e238847-8a3c-4f4a-a4c7-c4eca45a31b2\" xlink:show=\"new\" xlink:title=\"psysml:0e238847-8a3c-4f4a-a4c7-c4eca45a31b2\" xlink:type=\"simple\"><path d=\"M305.73,130.22 C318.18,138.09 332.54,146.77 346,154 C383.82,174.3 428.64,194.36 459.95,207.77 \" fill=\"none\" id=\"E10-&gt;E3\" style=\"stroke: #A80036; stroke-width: 1.0;\"/><polygon fill=\"#FFFFFF\" points=\"478.8,215.73,458.5739,214.7782,464.0259,201.8834,478.8,215.73\" style=\"stroke: #A80036; stroke-width: 1.0;\"/><ellipse cx=\"454.1028\" cy=\"210.7164\" fill=\"#A80036\" rx=\"2\" ry=\"2\" style=\"stroke: #A80036; stroke-width: 1.0;\"/><ellipse cx=\"457.9971\" cy=\"201.5058\" fill=\"#A80036\" rx=\"2\" ry=\"2\" style=\"stroke: #A80036; stroke-width: 1.0;\"/></a><!--MD5=[07b77f6f309248d16187045709d1c26e]\n",
       "link E11 to E5--><a href=\"psysml:1112046b-9823-4ab2-8a83-96247ffb9742\" target=\"_top\" title=\"psysml:1112046b-9823-4ab2-8a83-96247ffb9742\" xlink:actuate=\"onRequest\" xlink:href=\"psysml:1112046b-9823-4ab2-8a83-96247ffb9742\" xlink:show=\"new\" xlink:title=\"psysml:1112046b-9823-4ab2-8a83-96247ffb9742\" xlink:type=\"simple\"><path d=\"M169,130.09 C169,145.42 169,166.27 169,184.42 \" fill=\"none\" id=\"E11-&gt;E5\" style=\"stroke: #A80036; stroke-width: 1.0;\"/><polygon fill=\"#FFFFFF\" points=\"169,204.69,162,185.69,176,185.69,169,204.69\" style=\"stroke: #A80036; stroke-width: 1.0;\"/><ellipse cx=\"164\" cy=\"179.99\" fill=\"#A80036\" rx=\"2\" ry=\"2\" style=\"stroke: #A80036; stroke-width: 1.0;\"/><ellipse cx=\"174\" cy=\"179.99\" fill=\"#A80036\" rx=\"2\" ry=\"2\" style=\"stroke: #A80036; stroke-width: 1.0;\"/></a><!--MD5=[39f41a0e550fb3d73b4d8135617e30a2]\n",
       "link E12 to E3--><a href=\"psysml:ee0d4e1c-50f8-4d3c-8a56-5035ed7c5f53\" target=\"_top\" title=\"psysml:ee0d4e1c-50f8-4d3c-8a56-5035ed7c5f53\" xlink:actuate=\"onRequest\" xlink:href=\"psysml:ee0d4e1c-50f8-4d3c-8a56-5035ed7c5f53\" xlink:show=\"new\" xlink:title=\"psysml:ee0d4e1c-50f8-4d3c-8a56-5035ed7c5f53\" xlink:type=\"simple\"><path d=\"M582.38,130.09 C567.43,146.94 546.56,170.44 529.44,189.72 \" fill=\"none\" id=\"E12-&gt;E3\" style=\"stroke: #A80036; stroke-width: 1.0;\"/><polygon fill=\"#FFFFFF\" points=\"516.15,204.69,523.5343,185.836,534.0014,195.1334,516.15,204.69\" style=\"stroke: #A80036; stroke-width: 1.0;\"/><ellipse cx=\"528.815\" cy=\"182.9027\" fill=\"#A80036\" rx=\"2\" ry=\"2\" style=\"stroke: #A80036; stroke-width: 1.0;\"/><ellipse cx=\"536.2914\" cy=\"189.5436\" fill=\"#A80036\" rx=\"2\" ry=\"2\" style=\"stroke: #A80036; stroke-width: 1.0;\"/></a><!--MD5=[066b2d8af59fea80ccdb3d54ad5c1091]\n",
       "link E13 to E5--><a href=\"psysml:1d6f62f5-9885-441d-bead-3e38c1577759\" target=\"_top\" title=\"psysml:1d6f62f5-9885-441d-bead-3e38c1577759\" xlink:actuate=\"onRequest\" xlink:href=\"psysml:1d6f62f5-9885-441d-bead-3e38c1577759\" xlink:show=\"new\" xlink:title=\"psysml:1d6f62f5-9885-441d-bead-3e38c1577759\" xlink:type=\"simple\"><path d=\"M85.62,130.09 C100.57,146.94 121.44,170.44 138.56,189.72 \" fill=\"none\" id=\"E13-&gt;E5\" style=\"stroke: #A80036; stroke-width: 1.0;\"/><polygon fill=\"#FFFFFF\" points=\"151.85,204.69,133.9986,195.1334,144.4657,185.836,151.85,204.69\" style=\"stroke: #A80036; stroke-width: 1.0;\"/><ellipse cx=\"131.7086\" cy=\"189.5436\" fill=\"#A80036\" rx=\"2\" ry=\"2\" style=\"stroke: #A80036; stroke-width: 1.0;\"/><ellipse cx=\"139.185\" cy=\"182.9027\" fill=\"#A80036\" rx=\"2\" ry=\"2\" style=\"stroke: #A80036; stroke-width: 1.0;\"/></a><!--MD5=[970b7efcd0a81d569ed523d5dbdbe222]\n",
       "@startuml\r\n",
       " \r\n",
       "package \"CircularImport\" as E1  [[psysml:6a62b0bb-ce07-42d9-b06f-c19bd22a93a2 ]]  {\r\n",
       "package \"P1\" as E2  [[psysml:e5793e48-aebf-4c77-9b1c-634d316c370a ]]  {\r\n",
       "comp def \"A\" as E3  << (B,green) >> [[psysml:4745677c-bede-4ab8-acdc-4365dad759bc ]] {\r\n",
       "}\r\n",
       "}\r\n",
       "package \"P2\" as E4  [[psysml:9f128572-3fea-4fc4-b18b-c92f97cc0f0b ]]  {\r\n",
       "comp def \"B\" as E5  << (B,green) >> [[psysml:a455b6ac-bbc4-40c1-9da4-354e9f8fdc46 ]] {\r\n",
       "}\r\n",
       "}\r\n",
       "package \"Test1\" as E6  [[psysml:6c517ad3-81f8-4503-b234-41386708eb5e ]]  {\r\n",
       "comp usage \"x: A\" as E7  << (P,limegreen) part>> [[psysml:6b7db59d-d003-4043-9508-3fd9ac781eff ]] {\r\n",
       "}\r\n",
       "comp usage \"y: B\" as E8  << (P,limegreen) part>> [[psysml:6c414e1f-4fb5-42fd-83aa-c158d2fbc464 ]] {\r\n",
       "}\r\n",
       "E7 - -:|> E3 [[psysml:85e1ff22-6346-4a23-846d-dc1a236203c0 ]] \r\n",
       "E8 - -:|> E5 [[psysml:483adec0-2d55-41ba-876c-1b8fe7d429ab ]] \r\n",
       "}\r\n",
       "package \"Test2\" as E9  [[psysml:81951965-8d4b-42c4-ba21-4255f6488007 ]]  {\r\n",
       "comp usage \"x: A\" as E10  << (P,limegreen) part>> [[psysml:797261aa-a958-4475-9de3-b139176b10fb ]] {\r\n",
       "}\r\n",
       "comp usage \"y: B\" as E11  << (P,limegreen) part>> [[psysml:3825b43b-bb71-4033-970e-c8c9e00cfd14 ]] {\r\n",
       "}\r\n",
       "E10 - -:|> E3 [[psysml:0e238847-8a3c-4f4a-a4c7-c4eca45a31b2 ]] \r\n",
       "E11 - -:|> E5 [[psysml:1112046b-9823-4ab2-8a83-96247ffb9742 ]] \r\n",
       "}\r\n",
       "comp usage \"x: A\" as E12  << (P,limegreen) part>> [[psysml:e16c4bbb-61f3-4b61-a2b5-b03e29e494af ]] {\r\n",
       "}\r\n",
       "comp usage \"y: B\" as E13  << (P,limegreen) part>> [[psysml:6a814915-eeda-4c4d-8e98-a86878ae1f3d ]] {\r\n",
       "}\r\n",
       "E12 - -:|> E3 [[psysml:ee0d4e1c-50f8-4d3c-8a56-5035ed7c5f53 ]] \r\n",
       "E13 - -:|> E5 [[psysml:1d6f62f5-9885-441d-bead-3e38c1577759 ]] \r\n",
       "}\r\n",
       "@enduml\r\n",
       "\n",
       "PlantUML version 1.2020.13(Sat Jun 13 12:26:38 UTC 2020)\n",
       "(EPL source distribution)\n",
       "Java Runtime: OpenJDK Runtime Environment\n",
       "JVM: OpenJDK 64-Bit Server VM\n",
       "Default Encoding: UTF-8\n",
       "Language: en\n",
       "Country: null\n",
       "--></g></svg>"
      ]
     },
     "execution_count": 30,
     "metadata": {},
     "output_type": "execute_result"
    }
   ],
   "source": [
    "%viz --style=\"PLANTUML\" --view=\"Default\" \"CircularImport\""
   ]
  },
  {
   "cell_type": "code",
   "execution_count": 31,
   "id": "moving-analysis",
   "metadata": {
    "execution": {
     "iopub.execute_input": "2021-03-25T13:13:19.427916Z",
     "iopub.status.busy": "2021-03-25T13:13:19.427442Z",
     "iopub.status.idle": "2021-03-25T13:13:19.541092Z",
     "shell.execute_reply": "2021-03-25T13:13:19.539255Z"
    }
   },
   "outputs": [
    {
     "data": {
      "image/svg+xml": [
       "<?xml version=\"1.0\" encoding=\"UTF-8\" standalone=\"no\"?><svg xmlns=\"http://www.w3.org/2000/svg\" xmlns:xlink=\"http://www.w3.org/1999/xlink\" contentScriptType=\"application/ecmascript\" contentStyleType=\"text/css\" height=\"297px\" preserveAspectRatio=\"none\" style=\"width:674px;height:297px;\" version=\"1.1\" viewBox=\"0 0 674 297\" width=\"674px\" zoomAndPan=\"magnify\"><defs><filter height=\"300%\" id=\"fnp6fuk4gpz11\" width=\"300%\" x=\"-1\" y=\"-1\"><feGaussianBlur result=\"blurOut\" stdDeviation=\"2.0\"/><feColorMatrix in=\"blurOut\" result=\"blurOut2\" type=\"matrix\" values=\"0 0 0 0 0 0 0 0 0 0 0 0 0 0 0 0 0 0 .4 0\"/><feOffset dx=\"4.0\" dy=\"4.0\" in=\"blurOut2\" result=\"blurOut3\"/><feBlend in=\"SourceGraphic\" in2=\"blurOut3\" mode=\"normal\"/></filter></defs><g><!--MD5=[fbc87193dbaf4d95561dea2c320d4a47]\n",
       "cluster E1--><a href=\"psysml:6a62b0bb-ce07-42d9-b06f-c19bd22a93a2\" target=\"_top\" title=\"psysml:6a62b0bb-ce07-42d9-b06f-c19bd22a93a2\" xlink:actuate=\"onRequest\" xlink:href=\"psysml:6a62b0bb-ce07-42d9-b06f-c19bd22a93a2\" xlink:show=\"new\" xlink:title=\"psysml:6a62b0bb-ce07-42d9-b06f-c19bd22a93a2\" xlink:type=\"simple\"><polygon fill=\"#FFFFFF\" filter=\"url(#fnp6fuk4gpz11)\" points=\"16,6,134,6,141,28.2969,652,28.2969,652,285,16,285,16,6\" style=\"stroke: #000000; stroke-width: 1.5;\"/><line style=\"stroke: #000000; stroke-width: 1.5;\" x1=\"16\" x2=\"141\" y1=\"28.2969\" y2=\"28.2969\"/><text fill=\"#000000\" font-family=\"sans-serif\" font-size=\"14\" font-weight=\"bold\" lengthAdjust=\"spacingAndGlyphs\" textLength=\"112\" x=\"20\" y=\"20.9951\">CircularImport</text></a><!--MD5=[e4f7fae6ed58524ba242bb0b0d3be6b7]\n",
       "cluster E2--><a href=\"psysml:e5793e48-aebf-4c77-9b1c-634d316c370a\" target=\"_top\" title=\"psysml:e5793e48-aebf-4c77-9b1c-634d316c370a\" xlink:actuate=\"onRequest\" xlink:href=\"psysml:e5793e48-aebf-4c77-9b1c-634d316c370a\" xlink:show=\"new\" xlink:title=\"psysml:e5793e48-aebf-4c77-9b1c-634d316c370a\" xlink:type=\"simple\"><polygon fill=\"#FFFFFF\" filter=\"url(#fnp6fuk4gpz11)\" points=\"463,170,489,170,496,192.2969,535,192.2969,535,261,463,261,463,170\" style=\"stroke: #000000; stroke-width: 1.5;\"/><line style=\"stroke: #000000; stroke-width: 1.5;\" x1=\"463\" x2=\"496\" y1=\"192.2969\" y2=\"192.2969\"/><text fill=\"#000000\" font-family=\"sans-serif\" font-size=\"14\" font-weight=\"bold\" lengthAdjust=\"spacingAndGlyphs\" textLength=\"20\" x=\"467\" y=\"184.9951\">P1</text></a><!--MD5=[f6df4d0ebaf0b5dfb2ced0ae5af7c670]\n",
       "cluster E4--><a href=\"psysml:9f128572-3fea-4fc4-b18b-c92f97cc0f0b\" target=\"_top\" title=\"psysml:9f128572-3fea-4fc4-b18b-c92f97cc0f0b\" xlink:actuate=\"onRequest\" xlink:href=\"psysml:9f128572-3fea-4fc4-b18b-c92f97cc0f0b\" xlink:show=\"new\" xlink:title=\"psysml:9f128572-3fea-4fc4-b18b-c92f97cc0f0b\" xlink:type=\"simple\"><polygon fill=\"#FFFFFF\" filter=\"url(#fnp6fuk4gpz11)\" points=\"133,170,159,170,166,192.2969,205,192.2969,205,261,133,261,133,170\" style=\"stroke: #000000; stroke-width: 1.5;\"/><line style=\"stroke: #000000; stroke-width: 1.5;\" x1=\"133\" x2=\"166\" y1=\"192.2969\" y2=\"192.2969\"/><text fill=\"#000000\" font-family=\"sans-serif\" font-size=\"14\" font-weight=\"bold\" lengthAdjust=\"spacingAndGlyphs\" textLength=\"20\" x=\"137\" y=\"184.9951\">P2</text></a><!--MD5=[14e3b0961a2654348d326746436168a1]\n",
       "cluster E6--><a href=\"psysml:6c517ad3-81f8-4503-b234-41386708eb5e\" target=\"_top\" title=\"psysml:6c517ad3-81f8-4503-b234-41386708eb5e\" xlink:actuate=\"onRequest\" xlink:href=\"psysml:6c517ad3-81f8-4503-b234-41386708eb5e\" xlink:show=\"new\" xlink:title=\"psysml:6c517ad3-81f8-4503-b234-41386708eb5e\" xlink:type=\"simple\"><polygon fill=\"#FFFFFF\" filter=\"url(#fnp6fuk4gpz11)\" points=\"346,49,397,49,404,71.2969,549,71.2969,549,146,346,146,346,49\" style=\"stroke: #000000; stroke-width: 1.5;\"/><line style=\"stroke: #000000; stroke-width: 1.5;\" x1=\"346\" x2=\"404\" y1=\"71.2969\" y2=\"71.2969\"/><text fill=\"#000000\" font-family=\"sans-serif\" font-size=\"14\" font-weight=\"bold\" lengthAdjust=\"spacingAndGlyphs\" textLength=\"45\" x=\"350\" y=\"63.9951\">Test1</text></a><!--MD5=[7f149f147074ac12df2cb0a7728a5fb0]\n",
       "cluster E9--><a href=\"psysml:81951965-8d4b-42c4-ba21-4255f6488007\" target=\"_top\" title=\"psysml:81951965-8d4b-42c4-ba21-4255f6488007\" xlink:actuate=\"onRequest\" xlink:href=\"psysml:81951965-8d4b-42c4-ba21-4255f6488007\" xlink:show=\"new\" xlink:title=\"psysml:81951965-8d4b-42c4-ba21-4255f6488007\" xlink:type=\"simple\"><polygon fill=\"#FFFFFF\" filter=\"url(#fnp6fuk4gpz11)\" points=\"119,49,170,49,177,71.2969,322,71.2969,322,146,119,146,119,49\" style=\"stroke: #000000; stroke-width: 1.5;\"/><line style=\"stroke: #000000; stroke-width: 1.5;\" x1=\"119\" x2=\"177\" y1=\"71.2969\" y2=\"71.2969\"/><text fill=\"#000000\" font-family=\"sans-serif\" font-size=\"14\" font-weight=\"bold\" lengthAdjust=\"spacingAndGlyphs\" textLength=\"45\" x=\"123\" y=\"63.9951\">Test2</text></a><!--MD5=[49a0ec8f00dab7302a31f22d0f0fe584]\n",
       "class E12--><a href=\"psysml:e16c4bbb-61f3-4b61-a2b5-b03e29e494af\" target=\"_top\" title=\"psysml:e16c4bbb-61f3-4b61-a2b5-b03e29e494af\" xlink:actuate=\"onRequest\" xlink:href=\"psysml:e16c4bbb-61f3-4b61-a2b5-b03e29e494af\" xlink:show=\"new\" xlink:title=\"psysml:e16c4bbb-61f3-4b61-a2b5-b03e29e494af\" xlink:type=\"simple\"><rect fill=\"#FEFECE\" filter=\"url(#fnp6fuk4gpz11)\" height=\"45.9375\" id=\"E12\" rx=\"10\" ry=\"10\" style=\"stroke: #A80036; stroke-width: 1.5;\" width=\"68\" x=\"568\" y=\"84\"/><ellipse cx=\"583\" cy=\"102.9688\" fill=\"#32CD32\" rx=\"11\" ry=\"11\" style=\"stroke: #A80036; stroke-width: 1.0;\"/><path d=\"M582.7969,98.6406 L582.7969,102.2656 L583.7969,102.2656 Q585,102.2656 585.4844,101.8594 Q585.9688,101.4531 585.9688,100.4531 Q585.9688,99.4531 585.4844,99.0469 Q585,98.6406 583.7969,98.6406 L582.7969,98.6406 Z M580.3438,96.5781 L583.7031,96.5781 Q586.2656,96.5781 587.3906,97.5 Q588.5156,98.4063 588.5156,100.4531 Q588.5156,102.5 587.3906,103.4219 Q586.2656,104.3281 583.7031,104.3281 L582.7969,104.3281 L582.7969,108.9688 L580.3438,108.9688 L580.3438,96.5781 Z \"/><text fill=\"#000000\" font-family=\"sans-serif\" font-size=\"12\" font-style=\"italic\" lengthAdjust=\"spacingAndGlyphs\" textLength=\"40\" x=\"595\" y=\"100.1387\">«part»</text><text fill=\"#000000\" font-family=\"sans-serif\" font-size=\"12\" lengthAdjust=\"spacingAndGlyphs\" textLength=\"22\" x=\"604\" y=\"114.1074\">x: A</text><line style=\"stroke: #A80036; stroke-width: 1.5;\" x1=\"569\" x2=\"635\" y1=\"121.9375\" y2=\"121.9375\"/></a><!--MD5=[ee3c913d1a06f366521f9ef512b67efe]\n",
       "class E13--><a href=\"psysml:6a814915-eeda-4c4d-8e98-a86878ae1f3d\" target=\"_top\" title=\"psysml:6a814915-eeda-4c4d-8e98-a86878ae1f3d\" xlink:actuate=\"onRequest\" xlink:href=\"psysml:6a814915-eeda-4c4d-8e98-a86878ae1f3d\" xlink:show=\"new\" xlink:title=\"psysml:6a814915-eeda-4c4d-8e98-a86878ae1f3d\" xlink:type=\"simple\"><rect fill=\"#FEFECE\" filter=\"url(#fnp6fuk4gpz11)\" height=\"45.9375\" id=\"E13\" rx=\"10\" ry=\"10\" style=\"stroke: #A80036; stroke-width: 1.5;\" width=\"68\" x=\"32\" y=\"84\"/><ellipse cx=\"47\" cy=\"102.9688\" fill=\"#32CD32\" rx=\"11\" ry=\"11\" style=\"stroke: #A80036; stroke-width: 1.0;\"/><path d=\"M46.7969,98.6406 L46.7969,102.2656 L47.7969,102.2656 Q49,102.2656 49.4844,101.8594 Q49.9688,101.4531 49.9688,100.4531 Q49.9688,99.4531 49.4844,99.0469 Q49,98.6406 47.7969,98.6406 L46.7969,98.6406 Z M44.3438,96.5781 L47.7031,96.5781 Q50.2656,96.5781 51.3906,97.5 Q52.5156,98.4063 52.5156,100.4531 Q52.5156,102.5 51.3906,103.4219 Q50.2656,104.3281 47.7031,104.3281 L46.7969,104.3281 L46.7969,108.9688 L44.3438,108.9688 L44.3438,96.5781 Z \"/><text fill=\"#000000\" font-family=\"sans-serif\" font-size=\"12\" font-style=\"italic\" lengthAdjust=\"spacingAndGlyphs\" textLength=\"40\" x=\"59\" y=\"100.1387\">«part»</text><text fill=\"#000000\" font-family=\"sans-serif\" font-size=\"12\" lengthAdjust=\"spacingAndGlyphs\" textLength=\"22\" x=\"68\" y=\"114.1074\">y: B</text><line style=\"stroke: #A80036; stroke-width: 1.5;\" x1=\"33\" x2=\"99\" y1=\"121.9375\" y2=\"121.9375\"/></a><!--MD5=[09b614a08d8cba4a07c9adeb5e0fee81]\n",
       "class E3--><a href=\"psysml:4745677c-bede-4ab8-acdc-4365dad759bc\" target=\"_top\" title=\"psysml:4745677c-bede-4ab8-acdc-4365dad759bc\" xlink:actuate=\"onRequest\" xlink:href=\"psysml:4745677c-bede-4ab8-acdc-4365dad759bc\" xlink:show=\"new\" xlink:title=\"psysml:4745677c-bede-4ab8-acdc-4365dad759bc\" xlink:type=\"simple\"><rect fill=\"#FEFECE\" filter=\"url(#fnp6fuk4gpz11)\" height=\"40\" id=\"E3\" style=\"stroke: #A80036; stroke-width: 1.5;\" width=\"40\" x=\"479\" y=\"205\"/><ellipse cx=\"494\" cy=\"221\" fill=\"#008000\" rx=\"11\" ry=\"11\" style=\"stroke: #A80036; stroke-width: 1.0;\"/><path d=\"M492.9063,221.375 L492.9063,225.0469 L494.5313,225.0469 Q495.7031,225.0469 496.1719,224.6563 Q496.6406,224.25 496.6406,223.25 Q496.6406,222.25 496.1406,221.8125 Q495.6563,221.375 494.5313,221.375 L492.9063,221.375 Z M492.9063,216.5469 L492.9063,219.4219 L494.5313,219.4219 Q495.4531,219.4219 495.8438,219.0938 Q496.25,218.75 496.25,218 Q496.25,217.2344 495.8438,216.8906 Q495.4375,216.5469 494.5313,216.5469 L492.9063,216.5469 Z M490.5313,214.5938 L494.5313,214.5938 Q496.5938,214.5938 497.6406,215.375 Q498.6875,216.1563 498.6875,217.7188 Q498.6875,218.9219 498.0625,219.5938 Q497.4531,220.2656 496.2656,220.375 Q497.6875,220.5156 498.4063,221.3281 Q499.125,222.1406 499.125,223.5938 Q499.125,225.3906 498.0469,226.2031 Q496.9688,227 494.5313,227 L490.5313,227 L490.5313,214.5938 Z \"/><text fill=\"#000000\" font-family=\"sans-serif\" font-size=\"12\" lengthAdjust=\"spacingAndGlyphs\" textLength=\"8\" x=\"508\" y=\"225.1543\">A</text><line style=\"stroke: #A80036; stroke-width: 1.5;\" x1=\"480\" x2=\"518\" y1=\"237\" y2=\"237\"/></a><!--MD5=[270fce915f116d4de14055a7c1d9a0f3]\n",
       "class E5--><a href=\"psysml:a455b6ac-bbc4-40c1-9da4-354e9f8fdc46\" target=\"_top\" title=\"psysml:a455b6ac-bbc4-40c1-9da4-354e9f8fdc46\" xlink:actuate=\"onRequest\" xlink:href=\"psysml:a455b6ac-bbc4-40c1-9da4-354e9f8fdc46\" xlink:show=\"new\" xlink:title=\"psysml:a455b6ac-bbc4-40c1-9da4-354e9f8fdc46\" xlink:type=\"simple\"><rect fill=\"#FEFECE\" filter=\"url(#fnp6fuk4gpz11)\" height=\"40\" id=\"E5\" style=\"stroke: #A80036; stroke-width: 1.5;\" width=\"40\" x=\"149\" y=\"205\"/><ellipse cx=\"164\" cy=\"221\" fill=\"#008000\" rx=\"11\" ry=\"11\" style=\"stroke: #A80036; stroke-width: 1.0;\"/><path d=\"M162.9063,221.375 L162.9063,225.0469 L164.5313,225.0469 Q165.7031,225.0469 166.1719,224.6563 Q166.6406,224.25 166.6406,223.25 Q166.6406,222.25 166.1406,221.8125 Q165.6563,221.375 164.5313,221.375 L162.9063,221.375 Z M162.9063,216.5469 L162.9063,219.4219 L164.5313,219.4219 Q165.4531,219.4219 165.8438,219.0938 Q166.25,218.75 166.25,218 Q166.25,217.2344 165.8438,216.8906 Q165.4375,216.5469 164.5313,216.5469 L162.9063,216.5469 Z M160.5313,214.5938 L164.5313,214.5938 Q166.5938,214.5938 167.6406,215.375 Q168.6875,216.1563 168.6875,217.7188 Q168.6875,218.9219 168.0625,219.5938 Q167.4531,220.2656 166.2656,220.375 Q167.6875,220.5156 168.4063,221.3281 Q169.125,222.1406 169.125,223.5938 Q169.125,225.3906 168.0469,226.2031 Q166.9688,227 164.5313,227 L160.5313,227 L160.5313,214.5938 Z \"/><text fill=\"#000000\" font-family=\"sans-serif\" font-size=\"12\" lengthAdjust=\"spacingAndGlyphs\" textLength=\"8\" x=\"178\" y=\"225.1543\">B</text><line style=\"stroke: #A80036; stroke-width: 1.5;\" x1=\"150\" x2=\"188\" y1=\"237\" y2=\"237\"/></a><!--MD5=[2156ba9850f5573cc1fc38a6a4b2f02b]\n",
       "class E7--><a href=\"psysml:6b7db59d-d003-4043-9508-3fd9ac781eff\" target=\"_top\" title=\"psysml:6b7db59d-d003-4043-9508-3fd9ac781eff\" xlink:actuate=\"onRequest\" xlink:href=\"psysml:6b7db59d-d003-4043-9508-3fd9ac781eff\" xlink:show=\"new\" xlink:title=\"psysml:6b7db59d-d003-4043-9508-3fd9ac781eff\" xlink:type=\"simple\"><rect fill=\"#FEFECE\" filter=\"url(#fnp6fuk4gpz11)\" height=\"45.9375\" id=\"E7\" rx=\"10\" ry=\"10\" style=\"stroke: #A80036; stroke-width: 1.5;\" width=\"68\" x=\"465\" y=\"84\"/><ellipse cx=\"480\" cy=\"102.9688\" fill=\"#32CD32\" rx=\"11\" ry=\"11\" style=\"stroke: #A80036; stroke-width: 1.0;\"/><path d=\"M479.7969,98.6406 L479.7969,102.2656 L480.7969,102.2656 Q482,102.2656 482.4844,101.8594 Q482.9688,101.4531 482.9688,100.4531 Q482.9688,99.4531 482.4844,99.0469 Q482,98.6406 480.7969,98.6406 L479.7969,98.6406 Z M477.3438,96.5781 L480.7031,96.5781 Q483.2656,96.5781 484.3906,97.5 Q485.5156,98.4063 485.5156,100.4531 Q485.5156,102.5 484.3906,103.4219 Q483.2656,104.3281 480.7031,104.3281 L479.7969,104.3281 L479.7969,108.9688 L477.3438,108.9688 L477.3438,96.5781 Z \"/><text fill=\"#000000\" font-family=\"sans-serif\" font-size=\"12\" font-style=\"italic\" lengthAdjust=\"spacingAndGlyphs\" textLength=\"40\" x=\"492\" y=\"100.1387\">«part»</text><text fill=\"#000000\" font-family=\"sans-serif\" font-size=\"12\" lengthAdjust=\"spacingAndGlyphs\" textLength=\"22\" x=\"501\" y=\"114.1074\">x: A</text><line style=\"stroke: #A80036; stroke-width: 1.5;\" x1=\"466\" x2=\"532\" y1=\"121.9375\" y2=\"121.9375\"/></a><!--MD5=[b9389687b975829384b498ac4b7476b2]\n",
       "class E8--><a href=\"psysml:6c414e1f-4fb5-42fd-83aa-c158d2fbc464\" target=\"_top\" title=\"psysml:6c414e1f-4fb5-42fd-83aa-c158d2fbc464\" xlink:actuate=\"onRequest\" xlink:href=\"psysml:6c414e1f-4fb5-42fd-83aa-c158d2fbc464\" xlink:show=\"new\" xlink:title=\"psysml:6c414e1f-4fb5-42fd-83aa-c158d2fbc464\" xlink:type=\"simple\"><rect fill=\"#FEFECE\" filter=\"url(#fnp6fuk4gpz11)\" height=\"45.9375\" id=\"E8\" rx=\"10\" ry=\"10\" style=\"stroke: #A80036; stroke-width: 1.5;\" width=\"68\" x=\"362\" y=\"84\"/><ellipse cx=\"377\" cy=\"102.9688\" fill=\"#32CD32\" rx=\"11\" ry=\"11\" style=\"stroke: #A80036; stroke-width: 1.0;\"/><path d=\"M376.7969,98.6406 L376.7969,102.2656 L377.7969,102.2656 Q379,102.2656 379.4844,101.8594 Q379.9688,101.4531 379.9688,100.4531 Q379.9688,99.4531 379.4844,99.0469 Q379,98.6406 377.7969,98.6406 L376.7969,98.6406 Z M374.3438,96.5781 L377.7031,96.5781 Q380.2656,96.5781 381.3906,97.5 Q382.5156,98.4063 382.5156,100.4531 Q382.5156,102.5 381.3906,103.4219 Q380.2656,104.3281 377.7031,104.3281 L376.7969,104.3281 L376.7969,108.9688 L374.3438,108.9688 L374.3438,96.5781 Z \"/><text fill=\"#000000\" font-family=\"sans-serif\" font-size=\"12\" font-style=\"italic\" lengthAdjust=\"spacingAndGlyphs\" textLength=\"40\" x=\"389\" y=\"100.1387\">«part»</text><text fill=\"#000000\" font-family=\"sans-serif\" font-size=\"12\" lengthAdjust=\"spacingAndGlyphs\" textLength=\"22\" x=\"398\" y=\"114.1074\">y: B</text><line style=\"stroke: #A80036; stroke-width: 1.5;\" x1=\"363\" x2=\"429\" y1=\"121.9375\" y2=\"121.9375\"/></a><!--MD5=[96f4274e9e20536e775497830990834d]\n",
       "class E10--><a href=\"psysml:797261aa-a958-4475-9de3-b139176b10fb\" target=\"_top\" title=\"psysml:797261aa-a958-4475-9de3-b139176b10fb\" xlink:actuate=\"onRequest\" xlink:href=\"psysml:797261aa-a958-4475-9de3-b139176b10fb\" xlink:show=\"new\" xlink:title=\"psysml:797261aa-a958-4475-9de3-b139176b10fb\" xlink:type=\"simple\"><rect fill=\"#FEFECE\" filter=\"url(#fnp6fuk4gpz11)\" height=\"45.9375\" id=\"E10\" rx=\"10\" ry=\"10\" style=\"stroke: #A80036; stroke-width: 1.5;\" width=\"68\" x=\"238\" y=\"84\"/><ellipse cx=\"253\" cy=\"102.9688\" fill=\"#32CD32\" rx=\"11\" ry=\"11\" style=\"stroke: #A80036; stroke-width: 1.0;\"/><path d=\"M252.7969,98.6406 L252.7969,102.2656 L253.7969,102.2656 Q255,102.2656 255.4844,101.8594 Q255.9688,101.4531 255.9688,100.4531 Q255.9688,99.4531 255.4844,99.0469 Q255,98.6406 253.7969,98.6406 L252.7969,98.6406 Z M250.3438,96.5781 L253.7031,96.5781 Q256.2656,96.5781 257.3906,97.5 Q258.5156,98.4063 258.5156,100.4531 Q258.5156,102.5 257.3906,103.4219 Q256.2656,104.3281 253.7031,104.3281 L252.7969,104.3281 L252.7969,108.9688 L250.3438,108.9688 L250.3438,96.5781 Z \"/><text fill=\"#000000\" font-family=\"sans-serif\" font-size=\"12\" font-style=\"italic\" lengthAdjust=\"spacingAndGlyphs\" textLength=\"40\" x=\"265\" y=\"100.1387\">«part»</text><text fill=\"#000000\" font-family=\"sans-serif\" font-size=\"12\" lengthAdjust=\"spacingAndGlyphs\" textLength=\"22\" x=\"274\" y=\"114.1074\">x: A</text><line style=\"stroke: #A80036; stroke-width: 1.5;\" x1=\"239\" x2=\"305\" y1=\"121.9375\" y2=\"121.9375\"/></a><!--MD5=[1dd1bfd58a279cf63c5f349dbc8fc6a1]\n",
       "class E11--><a href=\"psysml:3825b43b-bb71-4033-970e-c8c9e00cfd14\" target=\"_top\" title=\"psysml:3825b43b-bb71-4033-970e-c8c9e00cfd14\" xlink:actuate=\"onRequest\" xlink:href=\"psysml:3825b43b-bb71-4033-970e-c8c9e00cfd14\" xlink:show=\"new\" xlink:title=\"psysml:3825b43b-bb71-4033-970e-c8c9e00cfd14\" xlink:type=\"simple\"><rect fill=\"#FEFECE\" filter=\"url(#fnp6fuk4gpz11)\" height=\"45.9375\" id=\"E11\" rx=\"10\" ry=\"10\" style=\"stroke: #A80036; stroke-width: 1.5;\" width=\"68\" x=\"135\" y=\"84\"/><ellipse cx=\"150\" cy=\"102.9688\" fill=\"#32CD32\" rx=\"11\" ry=\"11\" style=\"stroke: #A80036; stroke-width: 1.0;\"/><path d=\"M149.7969,98.6406 L149.7969,102.2656 L150.7969,102.2656 Q152,102.2656 152.4844,101.8594 Q152.9688,101.4531 152.9688,100.4531 Q152.9688,99.4531 152.4844,99.0469 Q152,98.6406 150.7969,98.6406 L149.7969,98.6406 Z M147.3438,96.5781 L150.7031,96.5781 Q153.2656,96.5781 154.3906,97.5 Q155.5156,98.4063 155.5156,100.4531 Q155.5156,102.5 154.3906,103.4219 Q153.2656,104.3281 150.7031,104.3281 L149.7969,104.3281 L149.7969,108.9688 L147.3438,108.9688 L147.3438,96.5781 Z \"/><text fill=\"#000000\" font-family=\"sans-serif\" font-size=\"12\" font-style=\"italic\" lengthAdjust=\"spacingAndGlyphs\" textLength=\"40\" x=\"162\" y=\"100.1387\">«part»</text><text fill=\"#000000\" font-family=\"sans-serif\" font-size=\"12\" lengthAdjust=\"spacingAndGlyphs\" textLength=\"22\" x=\"171\" y=\"114.1074\">y: B</text><line style=\"stroke: #A80036; stroke-width: 1.5;\" x1=\"136\" x2=\"202\" y1=\"121.9375\" y2=\"121.9375\"/></a><!--MD5=[14ccda38c055a5c0da953d572bc50960]\n",
       "link E7 to E3--><a href=\"psysml:85e1ff22-6346-4a23-846d-dc1a236203c0\" target=\"_top\" title=\"psysml:85e1ff22-6346-4a23-846d-dc1a236203c0\" xlink:actuate=\"onRequest\" xlink:href=\"psysml:85e1ff22-6346-4a23-846d-dc1a236203c0\" xlink:show=\"new\" xlink:title=\"psysml:85e1ff22-6346-4a23-846d-dc1a236203c0\" xlink:type=\"simple\"><path d=\"M499,130.09 C499,145.42 499,166.27 499,184.42 \" fill=\"none\" id=\"E7-&gt;E3\" style=\"stroke: #A80036; stroke-width: 1.0;\"/><polygon fill=\"#FFFFFF\" points=\"499,204.69,492,185.69,506,185.69,499,204.69\" style=\"stroke: #A80036; stroke-width: 1.0;\"/><ellipse cx=\"494\" cy=\"179.99\" fill=\"#A80036\" rx=\"2\" ry=\"2\" style=\"stroke: #A80036; stroke-width: 1.0;\"/><ellipse cx=\"504\" cy=\"179.99\" fill=\"#A80036\" rx=\"2\" ry=\"2\" style=\"stroke: #A80036; stroke-width: 1.0;\"/></a><!--MD5=[1ccb2481ffa92f8d51a74ee30c51832a]\n",
       "link E8 to E5--><a href=\"psysml:483adec0-2d55-41ba-876c-1b8fe7d429ab\" target=\"_top\" title=\"psysml:483adec0-2d55-41ba-876c-1b8fe7d429ab\" xlink:actuate=\"onRequest\" xlink:href=\"psysml:483adec0-2d55-41ba-876c-1b8fe7d429ab\" xlink:show=\"new\" xlink:title=\"psysml:483adec0-2d55-41ba-876c-1b8fe7d429ab\" xlink:type=\"simple\"><path d=\"M362.27,130.22 C349.82,138.09 335.46,146.77 322,154 C284.18,174.3 239.36,194.36 208.05,207.77 \" fill=\"none\" id=\"E8-&gt;E5\" style=\"stroke: #A80036; stroke-width: 1.0;\"/><polygon fill=\"#FFFFFF\" points=\"189.2,215.73,203.9741,201.8834,209.4261,214.7782,189.2,215.73\" style=\"stroke: #A80036; stroke-width: 1.0;\"/><ellipse cx=\"210.0029\" cy=\"201.5058\" fill=\"#A80036\" rx=\"2\" ry=\"2\" style=\"stroke: #A80036; stroke-width: 1.0;\"/><ellipse cx=\"213.8972\" cy=\"210.7164\" fill=\"#A80036\" rx=\"2\" ry=\"2\" style=\"stroke: #A80036; stroke-width: 1.0;\"/></a><!--MD5=[feeac5eb423634930294aa81f2d25a4c]\n",
       "link E10 to E3--><a href=\"psysml:0e238847-8a3c-4f4a-a4c7-c4eca45a31b2\" target=\"_top\" title=\"psysml:0e238847-8a3c-4f4a-a4c7-c4eca45a31b2\" xlink:actuate=\"onRequest\" xlink:href=\"psysml:0e238847-8a3c-4f4a-a4c7-c4eca45a31b2\" xlink:show=\"new\" xlink:title=\"psysml:0e238847-8a3c-4f4a-a4c7-c4eca45a31b2\" xlink:type=\"simple\"><path d=\"M305.73,130.22 C318.18,138.09 332.54,146.77 346,154 C383.82,174.3 428.64,194.36 459.95,207.77 \" fill=\"none\" id=\"E10-&gt;E3\" style=\"stroke: #A80036; stroke-width: 1.0;\"/><polygon fill=\"#FFFFFF\" points=\"478.8,215.73,458.5739,214.7782,464.0259,201.8834,478.8,215.73\" style=\"stroke: #A80036; stroke-width: 1.0;\"/><ellipse cx=\"454.1028\" cy=\"210.7164\" fill=\"#A80036\" rx=\"2\" ry=\"2\" style=\"stroke: #A80036; stroke-width: 1.0;\"/><ellipse cx=\"457.9971\" cy=\"201.5058\" fill=\"#A80036\" rx=\"2\" ry=\"2\" style=\"stroke: #A80036; stroke-width: 1.0;\"/></a><!--MD5=[07b77f6f309248d16187045709d1c26e]\n",
       "link E11 to E5--><a href=\"psysml:1112046b-9823-4ab2-8a83-96247ffb9742\" target=\"_top\" title=\"psysml:1112046b-9823-4ab2-8a83-96247ffb9742\" xlink:actuate=\"onRequest\" xlink:href=\"psysml:1112046b-9823-4ab2-8a83-96247ffb9742\" xlink:show=\"new\" xlink:title=\"psysml:1112046b-9823-4ab2-8a83-96247ffb9742\" xlink:type=\"simple\"><path d=\"M169,130.09 C169,145.42 169,166.27 169,184.42 \" fill=\"none\" id=\"E11-&gt;E5\" style=\"stroke: #A80036; stroke-width: 1.0;\"/><polygon fill=\"#FFFFFF\" points=\"169,204.69,162,185.69,176,185.69,169,204.69\" style=\"stroke: #A80036; stroke-width: 1.0;\"/><ellipse cx=\"164\" cy=\"179.99\" fill=\"#A80036\" rx=\"2\" ry=\"2\" style=\"stroke: #A80036; stroke-width: 1.0;\"/><ellipse cx=\"174\" cy=\"179.99\" fill=\"#A80036\" rx=\"2\" ry=\"2\" style=\"stroke: #A80036; stroke-width: 1.0;\"/></a><!--MD5=[39f41a0e550fb3d73b4d8135617e30a2]\n",
       "link E12 to E3--><a href=\"psysml:ee0d4e1c-50f8-4d3c-8a56-5035ed7c5f53\" target=\"_top\" title=\"psysml:ee0d4e1c-50f8-4d3c-8a56-5035ed7c5f53\" xlink:actuate=\"onRequest\" xlink:href=\"psysml:ee0d4e1c-50f8-4d3c-8a56-5035ed7c5f53\" xlink:show=\"new\" xlink:title=\"psysml:ee0d4e1c-50f8-4d3c-8a56-5035ed7c5f53\" xlink:type=\"simple\"><path d=\"M582.38,130.09 C567.43,146.94 546.56,170.44 529.44,189.72 \" fill=\"none\" id=\"E12-&gt;E3\" style=\"stroke: #A80036; stroke-width: 1.0;\"/><polygon fill=\"#FFFFFF\" points=\"516.15,204.69,523.5343,185.836,534.0014,195.1334,516.15,204.69\" style=\"stroke: #A80036; stroke-width: 1.0;\"/><ellipse cx=\"528.815\" cy=\"182.9027\" fill=\"#A80036\" rx=\"2\" ry=\"2\" style=\"stroke: #A80036; stroke-width: 1.0;\"/><ellipse cx=\"536.2914\" cy=\"189.5436\" fill=\"#A80036\" rx=\"2\" ry=\"2\" style=\"stroke: #A80036; stroke-width: 1.0;\"/></a><!--MD5=[066b2d8af59fea80ccdb3d54ad5c1091]\n",
       "link E13 to E5--><a href=\"psysml:1d6f62f5-9885-441d-bead-3e38c1577759\" target=\"_top\" title=\"psysml:1d6f62f5-9885-441d-bead-3e38c1577759\" xlink:actuate=\"onRequest\" xlink:href=\"psysml:1d6f62f5-9885-441d-bead-3e38c1577759\" xlink:show=\"new\" xlink:title=\"psysml:1d6f62f5-9885-441d-bead-3e38c1577759\" xlink:type=\"simple\"><path d=\"M85.62,130.09 C100.57,146.94 121.44,170.44 138.56,189.72 \" fill=\"none\" id=\"E13-&gt;E5\" style=\"stroke: #A80036; stroke-width: 1.0;\"/><polygon fill=\"#FFFFFF\" points=\"151.85,204.69,133.9986,195.1334,144.4657,185.836,151.85,204.69\" style=\"stroke: #A80036; stroke-width: 1.0;\"/><ellipse cx=\"131.7086\" cy=\"189.5436\" fill=\"#A80036\" rx=\"2\" ry=\"2\" style=\"stroke: #A80036; stroke-width: 1.0;\"/><ellipse cx=\"139.185\" cy=\"182.9027\" fill=\"#A80036\" rx=\"2\" ry=\"2\" style=\"stroke: #A80036; stroke-width: 1.0;\"/></a><!--MD5=[970b7efcd0a81d569ed523d5dbdbe222]\n",
       "@startuml\r\n",
       " \r\n",
       "package \"CircularImport\" as E1  [[psysml:6a62b0bb-ce07-42d9-b06f-c19bd22a93a2 ]]  {\r\n",
       "package \"P1\" as E2  [[psysml:e5793e48-aebf-4c77-9b1c-634d316c370a ]]  {\r\n",
       "comp def \"A\" as E3  << (B,green) >> [[psysml:4745677c-bede-4ab8-acdc-4365dad759bc ]] {\r\n",
       "}\r\n",
       "}\r\n",
       "package \"P2\" as E4  [[psysml:9f128572-3fea-4fc4-b18b-c92f97cc0f0b ]]  {\r\n",
       "comp def \"B\" as E5  << (B,green) >> [[psysml:a455b6ac-bbc4-40c1-9da4-354e9f8fdc46 ]] {\r\n",
       "}\r\n",
       "}\r\n",
       "package \"Test1\" as E6  [[psysml:6c517ad3-81f8-4503-b234-41386708eb5e ]]  {\r\n",
       "comp usage \"x: A\" as E7  << (P,limegreen) part>> [[psysml:6b7db59d-d003-4043-9508-3fd9ac781eff ]] {\r\n",
       "}\r\n",
       "comp usage \"y: B\" as E8  << (P,limegreen) part>> [[psysml:6c414e1f-4fb5-42fd-83aa-c158d2fbc464 ]] {\r\n",
       "}\r\n",
       "E7 - -:|> E3 [[psysml:85e1ff22-6346-4a23-846d-dc1a236203c0 ]] \r\n",
       "E8 - -:|> E5 [[psysml:483adec0-2d55-41ba-876c-1b8fe7d429ab ]] \r\n",
       "}\r\n",
       "package \"Test2\" as E9  [[psysml:81951965-8d4b-42c4-ba21-4255f6488007 ]]  {\r\n",
       "comp usage \"x: A\" as E10  << (P,limegreen) part>> [[psysml:797261aa-a958-4475-9de3-b139176b10fb ]] {\r\n",
       "}\r\n",
       "comp usage \"y: B\" as E11  << (P,limegreen) part>> [[psysml:3825b43b-bb71-4033-970e-c8c9e00cfd14 ]] {\r\n",
       "}\r\n",
       "E10 - -:|> E3 [[psysml:0e238847-8a3c-4f4a-a4c7-c4eca45a31b2 ]] \r\n",
       "E11 - -:|> E5 [[psysml:1112046b-9823-4ab2-8a83-96247ffb9742 ]] \r\n",
       "}\r\n",
       "comp usage \"x: A\" as E12  << (P,limegreen) part>> [[psysml:e16c4bbb-61f3-4b61-a2b5-b03e29e494af ]] {\r\n",
       "}\r\n",
       "comp usage \"y: B\" as E13  << (P,limegreen) part>> [[psysml:6a814915-eeda-4c4d-8e98-a86878ae1f3d ]] {\r\n",
       "}\r\n",
       "E12 - -:|> E3 [[psysml:ee0d4e1c-50f8-4d3c-8a56-5035ed7c5f53 ]] \r\n",
       "E13 - -:|> E5 [[psysml:1d6f62f5-9885-441d-bead-3e38c1577759 ]] \r\n",
       "}\r\n",
       "@enduml\r\n",
       "\n",
       "PlantUML version 1.2020.13(Sat Jun 13 12:26:38 UTC 2020)\n",
       "(EPL source distribution)\n",
       "Java Runtime: OpenJDK Runtime Environment\n",
       "JVM: OpenJDK 64-Bit Server VM\n",
       "Default Encoding: UTF-8\n",
       "Language: en\n",
       "Country: null\n",
       "--></g></svg>"
      ]
     },
     "execution_count": 31,
     "metadata": {},
     "output_type": "execute_result"
    }
   ],
   "source": [
    "%viz --style=\"PLANTUML\" --view=\"Tree\" \"CircularImport\""
   ]
  },
  {
   "cell_type": "code",
   "execution_count": 32,
   "id": "judicial-meditation",
   "metadata": {
    "execution": {
     "iopub.execute_input": "2021-03-25T13:13:19.590488Z",
     "iopub.status.busy": "2021-03-25T13:13:19.589723Z",
     "iopub.status.idle": "2021-03-25T13:13:21.581667Z",
     "shell.execute_reply": "2021-03-25T13:13:21.580188Z"
    }
   },
   "outputs": [
    {
     "data": {
      "image/svg+xml": [
       "<?xml version=\"1.0\" encoding=\"UTF-8\" standalone=\"no\"?><svg xmlns=\"http://www.w3.org/2000/svg\" xmlns:xlink=\"http://www.w3.org/1999/xlink\" contentScriptType=\"application/ecmascript\" contentStyleType=\"text/css\" height=\"410px\" preserveAspectRatio=\"none\" style=\"width:603px;height:410px;background:#000000;\" version=\"1.1\" viewBox=\"0 0 603 410\" width=\"603px\" zoomAndPan=\"magnify\"><defs/><g><rect fill=\"#060827\" height=\"1\" style=\"stroke: #060827; stroke-width: 1.0;\" width=\"1\" x=\"0\" y=\"0\"/><rect fill=\"#FFFFFF\" height=\"53\" style=\"stroke: #FFFFFF; stroke-width: 1.0;\" width=\"602\" x=\"0\" y=\"0\"/><image height=\"53\" width=\"450\" x=\"1\" xlink:href=\"data:image/png;base64,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\" y=\"1\"/><rect fill=\"#FFFFFF\" height=\"205.5625\" style=\"stroke: #FFFFFF; stroke-width: 1.0;\" width=\"602\" x=\"0\" y=\"53\"/><text fill=\"#000000\" font-family=\"sans-serif\" font-size=\"12\" font-weight=\"bold\" lengthAdjust=\"spacingAndGlyphs\" textLength=\"159\" x=\"5\" y=\"69.1387\">Welcome to PlantUML!</text><text fill=\"#000000\" font-family=\"sans-serif\" font-size=\"12\" lengthAdjust=\"spacingAndGlyphs\" textLength=\"0\" x=\"9\" y=\"83.1074\"/><text fill=\"#000000\" font-family=\"sans-serif\" font-size=\"12\" lengthAdjust=\"spacingAndGlyphs\" textLength=\"293\" x=\"5\" y=\"97.0762\">If you use this software, you accept its license.</text><text fill=\"#000000\" font-family=\"sans-serif\" font-size=\"12\" lengthAdjust=\"spacingAndGlyphs\" textLength=\"107\" x=\"5\" y=\"111.0449\">(details by typing</text><text fill=\"#000000\" font-family=\"monospace\" font-size=\"12\" lengthAdjust=\"spacingAndGlyphs\" textLength=\"49\" x=\"116\" y=\"111.0449\">license</text><text fill=\"#000000\" font-family=\"sans-serif\" font-size=\"12\" lengthAdjust=\"spacingAndGlyphs\" textLength=\"56\" x=\"169\" y=\"111.0449\">keyword)</text><text fill=\"#000000\" font-family=\"sans-serif\" font-size=\"12\" lengthAdjust=\"spacingAndGlyphs\" textLength=\"0\" x=\"9\" y=\"125.0137\"/><text fill=\"#000000\" font-family=\"sans-serif\" font-size=\"12\" lengthAdjust=\"spacingAndGlyphs\" textLength=\"283\" x=\"5\" y=\"138.9824\">You can start with a simple UML Diagram like:</text><text fill=\"#000000\" font-family=\"sans-serif\" font-size=\"12\" lengthAdjust=\"spacingAndGlyphs\" textLength=\"0\" x=\"9\" y=\"152.9512\"/><text fill=\"#000000\" font-family=\"monospace\" font-size=\"12\" lengthAdjust=\"spacingAndGlyphs\" textLength=\"119\" x=\"5\" y=\"166.9199\">Bob-&gt;Alice: Hello</text><text fill=\"#000000\" font-family=\"sans-serif\" font-size=\"12\" lengthAdjust=\"spacingAndGlyphs\" textLength=\"0\" x=\"9\" y=\"180.8887\"/><text fill=\"#000000\" font-family=\"sans-serif\" font-size=\"12\" lengthAdjust=\"spacingAndGlyphs\" textLength=\"14\" x=\"5\" y=\"194.8574\">Or</text><text fill=\"#000000\" font-family=\"sans-serif\" font-size=\"12\" lengthAdjust=\"spacingAndGlyphs\" textLength=\"0\" x=\"9\" y=\"208.8262\"/><text fill=\"#000000\" font-family=\"monospace\" font-size=\"12\" lengthAdjust=\"spacingAndGlyphs\" textLength=\"91\" x=\"5\" y=\"222.7949\">class Example</text><text fill=\"#000000\" font-family=\"sans-serif\" font-size=\"12\" lengthAdjust=\"spacingAndGlyphs\" textLength=\"0\" x=\"9\" y=\"236.7637\"/><text fill=\"#000000\" font-family=\"sans-serif\" font-size=\"12\" lengthAdjust=\"spacingAndGlyphs\" textLength=\"349\" x=\"5\" y=\"250.7324\">You will find more information about PlantUML syntax on</text><text fill=\"#000000\" font-family=\"sans-serif\" font-size=\"12\" lengthAdjust=\"spacingAndGlyphs\" text-decoration=\"underline\" textLength=\"129\" x=\"358\" y=\"250.7324\">https://plantuml.com</text><image height=\"71\" width=\"80\" x=\"516\" xlink:href=\"data:image/png;base64,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\" y=\"59\"/><rect fill=\"#000000\" height=\"96.4844\" style=\"stroke: #000000; stroke-width: 1.0;\" width=\"602\" x=\"0\" y=\"258.5625\"/><rect fill=\"#33FF02\" height=\"21.2969\" style=\"stroke: #33FF02; stroke-width: 1.0;\" width=\"170\" x=\"5\" y=\"263.5625\"/><text fill=\"#000000\" font-family=\"sans-serif\" font-size=\"14\" font-weight=\"bold\" lengthAdjust=\"spacingAndGlyphs\" textLength=\"168\" x=\"6\" y=\"278.5625\">[From string (line 2) ]</text><text fill=\"#33FF02\" font-family=\"sans-serif\" font-size=\"14\" font-weight=\"bold\" lengthAdjust=\"spacingAndGlyphs\" textLength=\"0\" x=\"10\" y=\"298.8594\"/><text fill=\"#33FF02\" font-family=\"sans-serif\" font-size=\"14\" font-weight=\"bold\" lengthAdjust=\"spacingAndGlyphs\" textLength=\"79\" x=\"5\" y=\"315.1563\">@startuml</text><text fill=\"#33FF02\" font-family=\"sans-serif\" font-size=\"14\" font-weight=\"bold\" lengthAdjust=\"spacingAndGlyphs\" textLength=\"0\" x=\"10\" y=\"331.4531\"/><text fill=\"#FF0000\" font-family=\"sans-serif\" font-size=\"14\" font-weight=\"bold\" lengthAdjust=\"spacingAndGlyphs\" textLength=\"142\" x=\"10\" y=\"347.75\">Empty description</text><rect fill=\"#FFFFFF\" height=\"53\" style=\"stroke: #FFFFFF; stroke-width: 1.0;\" width=\"602\" x=\"0\" y=\"355.0469\"/><image height=\"53\" width=\"450\" x=\"1\" xlink:href=\"data:image/png;base64,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\" y=\"356.0469\"/><!--MD5=[f59edd8218d337f74d0c332fc6737304]\n",
       "@startuml\r\n",
       " \r\n",
       "@enduml\r\n",
       "\n",
       "PlantUML version 1.2020.13(Sat Jun 13 12:26:38 UTC 2020)\n",
       "(EPL source distribution)\n",
       "Java Runtime: OpenJDK Runtime Environment\n",
       "JVM: OpenJDK 64-Bit Server VM\n",
       "Default Encoding: UTF-8\n",
       "Language: en\n",
       "Country: null\n",
       "--></g></svg>"
      ]
     },
     "execution_count": 32,
     "metadata": {},
     "output_type": "execute_result"
    }
   ],
   "source": [
    "%viz --style=\"PLANTUML\" --view=\"State\" \"CircularImport\""
   ]
  },
  {
   "cell_type": "code",
   "execution_count": 33,
   "id": "flying-chaos",
   "metadata": {
    "execution": {
     "iopub.execute_input": "2021-03-25T13:13:21.639778Z",
     "iopub.status.busy": "2021-03-25T13:13:21.638945Z",
     "iopub.status.idle": "2021-03-25T13:13:21.744541Z",
     "shell.execute_reply": "2021-03-25T13:13:21.742538Z"
    }
   },
   "outputs": [
    {
     "data": {
      "image/svg+xml": [
       "<?xml version=\"1.0\" encoding=\"UTF-8\" standalone=\"no\"?><svg xmlns=\"http://www.w3.org/2000/svg\" xmlns:xlink=\"http://www.w3.org/1999/xlink\" contentScriptType=\"application/ecmascript\" contentStyleType=\"text/css\" height=\"176px\" preserveAspectRatio=\"none\" style=\"width:858px;height:176px;\" version=\"1.1\" viewBox=\"0 0 858 176\" width=\"858px\" zoomAndPan=\"magnify\"><defs><filter height=\"300%\" id=\"f1nvvr5bw77as4\" width=\"300%\" x=\"-1\" y=\"-1\"><feGaussianBlur result=\"blurOut\" stdDeviation=\"2.0\"/><feColorMatrix in=\"blurOut\" result=\"blurOut2\" type=\"matrix\" values=\"0 0 0 0 0 0 0 0 0 0 0 0 0 0 0 0 0 0 .4 0\"/><feOffset dx=\"4.0\" dy=\"4.0\" in=\"blurOut2\" result=\"blurOut3\"/><feBlend in=\"SourceGraphic\" in2=\"blurOut3\" mode=\"normal\"/></filter></defs><g><!--MD5=[fbc87193dbaf4d95561dea2c320d4a47]\n",
       "cluster E1--><a href=\"psysml:6a62b0bb-ce07-42d9-b06f-c19bd22a93a2\" target=\"_top\" title=\"psysml:6a62b0bb-ce07-42d9-b06f-c19bd22a93a2\" xlink:actuate=\"onRequest\" xlink:href=\"psysml:6a62b0bb-ce07-42d9-b06f-c19bd22a93a2\" xlink:show=\"new\" xlink:title=\"psysml:6a62b0bb-ce07-42d9-b06f-c19bd22a93a2\" xlink:type=\"simple\"><polygon fill=\"#FFFFFF\" filter=\"url(#f1nvvr5bw77as4)\" points=\"16,6,134,6,141,28.2969,836,28.2969,836,164,16,164,16,6\" style=\"stroke: #000000; stroke-width: 1.5;\"/><line style=\"stroke: #000000; stroke-width: 1.5;\" x1=\"16\" x2=\"141\" y1=\"28.2969\" y2=\"28.2969\"/><text fill=\"#000000\" font-family=\"sans-serif\" font-size=\"14\" font-weight=\"bold\" lengthAdjust=\"spacingAndGlyphs\" textLength=\"112\" x=\"20\" y=\"20.9951\">CircularImport</text></a><!--MD5=[e4f7fae6ed58524ba242bb0b0d3be6b7]\n",
       "cluster E2--><a href=\"psysml:e5793e48-aebf-4c77-9b1c-634d316c370a\" target=\"_top\" title=\"psysml:e5793e48-aebf-4c77-9b1c-634d316c370a\" xlink:actuate=\"onRequest\" xlink:href=\"psysml:e5793e48-aebf-4c77-9b1c-634d316c370a\" xlink:show=\"new\" xlink:title=\"psysml:e5793e48-aebf-4c77-9b1c-634d316c370a\" xlink:type=\"simple\"><polygon fill=\"#FFFFFF\" filter=\"url(#f1nvvr5bw77as4)\" points=\"730,49,756,49,763,71.2969,812,71.2969,812,140,730,140,730,49\" style=\"stroke: #000000; stroke-width: 1.5;\"/><line style=\"stroke: #000000; stroke-width: 1.5;\" x1=\"730\" x2=\"763\" y1=\"71.2969\" y2=\"71.2969\"/><text fill=\"#000000\" font-family=\"sans-serif\" font-size=\"14\" font-weight=\"bold\" lengthAdjust=\"spacingAndGlyphs\" textLength=\"20\" x=\"734\" y=\"63.9951\">P1</text></a><!--MD5=[f6df4d0ebaf0b5dfb2ced0ae5af7c670]\n",
       "cluster E4--><a href=\"psysml:9f128572-3fea-4fc4-b18b-c92f97cc0f0b\" target=\"_top\" title=\"psysml:9f128572-3fea-4fc4-b18b-c92f97cc0f0b\" xlink:actuate=\"onRequest\" xlink:href=\"psysml:9f128572-3fea-4fc4-b18b-c92f97cc0f0b\" xlink:show=\"new\" xlink:title=\"psysml:9f128572-3fea-4fc4-b18b-c92f97cc0f0b\" xlink:type=\"simple\"><polygon fill=\"#FFFFFF\" filter=\"url(#f1nvvr5bw77as4)\" points=\"624,49,650,49,657,71.2969,706,71.2969,706,140,624,140,624,49\" style=\"stroke: #000000; stroke-width: 1.5;\"/><line style=\"stroke: #000000; stroke-width: 1.5;\" x1=\"624\" x2=\"657\" y1=\"71.2969\" y2=\"71.2969\"/><text fill=\"#000000\" font-family=\"sans-serif\" font-size=\"14\" font-weight=\"bold\" lengthAdjust=\"spacingAndGlyphs\" textLength=\"20\" x=\"628\" y=\"63.9951\">P2</text></a><!--MD5=[14e3b0961a2654348d326746436168a1]\n",
       "cluster E6--><a href=\"psysml:6c517ad3-81f8-4503-b234-41386708eb5e\" target=\"_top\" title=\"psysml:6c517ad3-81f8-4503-b234-41386708eb5e\" xlink:actuate=\"onRequest\" xlink:href=\"psysml:6c517ad3-81f8-4503-b234-41386708eb5e\" xlink:show=\"new\" xlink:title=\"psysml:6c517ad3-81f8-4503-b234-41386708eb5e\" xlink:type=\"simple\"><polygon fill=\"#FFFFFF\" filter=\"url(#f1nvvr5bw77as4)\" points=\"414,49,465,49,472,71.2969,600,71.2969,600,140,414,140,414,49\" style=\"stroke: #000000; stroke-width: 1.5;\"/><line style=\"stroke: #000000; stroke-width: 1.5;\" x1=\"414\" x2=\"472\" y1=\"71.2969\" y2=\"71.2969\"/><text fill=\"#000000\" font-family=\"sans-serif\" font-size=\"14\" font-weight=\"bold\" lengthAdjust=\"spacingAndGlyphs\" textLength=\"45\" x=\"418\" y=\"63.9951\">Test1</text></a><!--MD5=[7f149f147074ac12df2cb0a7728a5fb0]\n",
       "cluster E9--><a href=\"psysml:81951965-8d4b-42c4-ba21-4255f6488007\" target=\"_top\" title=\"psysml:81951965-8d4b-42c4-ba21-4255f6488007\" xlink:actuate=\"onRequest\" xlink:href=\"psysml:81951965-8d4b-42c4-ba21-4255f6488007\" xlink:show=\"new\" xlink:title=\"psysml:81951965-8d4b-42c4-ba21-4255f6488007\" xlink:type=\"simple\"><polygon fill=\"#FFFFFF\" filter=\"url(#f1nvvr5bw77as4)\" points=\"204,49,255,49,262,71.2969,390,71.2969,390,140,204,140,204,49\" style=\"stroke: #000000; stroke-width: 1.5;\"/><line style=\"stroke: #000000; stroke-width: 1.5;\" x1=\"204\" x2=\"262\" y1=\"71.2969\" y2=\"71.2969\"/><text fill=\"#000000\" font-family=\"sans-serif\" font-size=\"14\" font-weight=\"bold\" lengthAdjust=\"spacingAndGlyphs\" textLength=\"45\" x=\"208\" y=\"63.9951\">Test2</text></a><g id=\"E1.E2.E3\"><a href=\"psysml:4745677c-bede-4ab8-acdc-4365dad759bc\" target=\"_top\" title=\"psysml:4745677c-bede-4ab8-acdc-4365dad759bc\" xlink:actuate=\"onRequest\" xlink:href=\"psysml:4745677c-bede-4ab8-acdc-4365dad759bc\" xlink:show=\"new\" xlink:title=\"psysml:4745677c-bede-4ab8-acdc-4365dad759bc\" xlink:type=\"simple\"><rect fill=\"#FEFECE\" filter=\"url(#f1nvvr5bw77as4)\" height=\"40\" id=\"E3\" style=\"stroke: #A80036; stroke-width: 1.5;\" width=\"50\" x=\"746\" y=\"84\"/><ellipse cx=\"765.5\" cy=\"100\" fill=\"#008000\" rx=\"11\" ry=\"11\" style=\"stroke: #A80036; stroke-width: 1.0;\"/><path d=\"M764.4063,100.375 L764.4063,104.0469 L766.0313,104.0469 Q767.2031,104.0469 767.6719,103.6563 Q768.1406,103.25 768.1406,102.25 Q768.1406,101.25 767.6406,100.8125 Q767.1563,100.375 766.0313,100.375 L764.4063,100.375 Z M764.4063,95.5469 L764.4063,98.4219 L766.0313,98.4219 Q766.9531,98.4219 767.3438,98.0938 Q767.75,97.75 767.75,97 Q767.75,96.2344 767.3438,95.8906 Q766.9375,95.5469 766.0313,95.5469 L764.4063,95.5469 Z M762.0313,93.5938 L766.0313,93.5938 Q768.0938,93.5938 769.1406,94.375 Q770.1875,95.1563 770.1875,96.7188 Q770.1875,97.9219 769.5625,98.5938 Q768.9531,99.2656 767.7656,99.375 Q769.1875,99.5156 769.9063,100.3281 Q770.625,101.1406 770.625,102.5938 Q770.625,104.3906 769.5469,105.2031 Q768.4688,106 766.0313,106 L762.0313,106 L762.0313,93.5938 Z \"/><text fill=\"#000000\" font-family=\"sans-serif\" font-size=\"12\" lengthAdjust=\"spacingAndGlyphs\" textLength=\"8\" x=\"780.5\" y=\"104.1543\">A</text></a></g><g id=\"E1.E4.E5\"><a href=\"psysml:a455b6ac-bbc4-40c1-9da4-354e9f8fdc46\" target=\"_top\" title=\"psysml:a455b6ac-bbc4-40c1-9da4-354e9f8fdc46\" xlink:actuate=\"onRequest\" xlink:href=\"psysml:a455b6ac-bbc4-40c1-9da4-354e9f8fdc46\" xlink:show=\"new\" xlink:title=\"psysml:a455b6ac-bbc4-40c1-9da4-354e9f8fdc46\" xlink:type=\"simple\"><rect fill=\"#FEFECE\" filter=\"url(#f1nvvr5bw77as4)\" height=\"40\" id=\"E5\" style=\"stroke: #A80036; stroke-width: 1.5;\" width=\"50\" x=\"640\" y=\"84\"/><ellipse cx=\"659.5\" cy=\"100\" fill=\"#008000\" rx=\"11\" ry=\"11\" style=\"stroke: #A80036; stroke-width: 1.0;\"/><path d=\"M658.4063,100.375 L658.4063,104.0469 L660.0313,104.0469 Q661.2031,104.0469 661.6719,103.6563 Q662.1406,103.25 662.1406,102.25 Q662.1406,101.25 661.6406,100.8125 Q661.1563,100.375 660.0313,100.375 L658.4063,100.375 Z M658.4063,95.5469 L658.4063,98.4219 L660.0313,98.4219 Q660.9531,98.4219 661.3438,98.0938 Q661.75,97.75 661.75,97 Q661.75,96.2344 661.3438,95.8906 Q660.9375,95.5469 660.0313,95.5469 L658.4063,95.5469 Z M656.0313,93.5938 L660.0313,93.5938 Q662.0938,93.5938 663.1406,94.375 Q664.1875,95.1563 664.1875,96.7188 Q664.1875,97.9219 663.5625,98.5938 Q662.9531,99.2656 661.7656,99.375 Q663.1875,99.5156 663.9063,100.3281 Q664.625,101.1406 664.625,102.5938 Q664.625,104.3906 663.5469,105.2031 Q662.4688,106 660.0313,106 L656.0313,106 L656.0313,93.5938 Z \"/><text fill=\"#000000\" font-family=\"sans-serif\" font-size=\"12\" lengthAdjust=\"spacingAndGlyphs\" textLength=\"8\" x=\"674.5\" y=\"104.1543\">B</text></a></g><g id=\"E1.E6.E7\"><a href=\"psysml:6b7db59d-d003-4043-9508-3fd9ac781eff\" target=\"_top\" title=\"psysml:6b7db59d-d003-4043-9508-3fd9ac781eff\" xlink:actuate=\"onRequest\" xlink:href=\"psysml:6b7db59d-d003-4043-9508-3fd9ac781eff\" xlink:show=\"new\" xlink:title=\"psysml:6b7db59d-d003-4043-9508-3fd9ac781eff\" xlink:type=\"simple\"><rect fill=\"#FEFECE\" filter=\"url(#f1nvvr5bw77as4)\" height=\"40\" id=\"E7\" rx=\"10\" ry=\"10\" style=\"stroke: #A80036; stroke-width: 1.5;\" width=\"59\" x=\"524.5\" y=\"84\"/><ellipse cx=\"541.75\" cy=\"100\" fill=\"#B6DBBB\" rx=\"11\" ry=\"11\" style=\"stroke: #A80036; stroke-width: 1.0;\"/><path d=\"M537.625,101.9219 L537.625,94.1094 L540.0781,94.1094 L540.0781,102.5469 Q540.0781,103.4688 540.5469,104 Q541.0313,104.5313 541.8594,104.5313 Q542.7031,104.5313 543.1719,104 Q543.6406,103.4688 543.6406,102.5469 L543.6406,94.1094 L546.0938,94.1094 L546.0938,101.9219 Q546.0938,104.4531 545.0938,105.5938 Q544.0938,106.7344 541.8594,106.7344 Q539.6406,106.7344 538.625,105.5938 Q537.625,104.4531 537.625,101.9219 Z \"/><text fill=\"#000000\" font-family=\"sans-serif\" font-size=\"12\" lengthAdjust=\"spacingAndGlyphs\" textLength=\"22\" x=\"556.25\" y=\"104.1543\">x: A</text></a></g><g id=\"E1.E6.E8\"><a href=\"psysml:6c414e1f-4fb5-42fd-83aa-c158d2fbc464\" target=\"_top\" title=\"psysml:6c414e1f-4fb5-42fd-83aa-c158d2fbc464\" xlink:actuate=\"onRequest\" xlink:href=\"psysml:6c414e1f-4fb5-42fd-83aa-c158d2fbc464\" xlink:show=\"new\" xlink:title=\"psysml:6c414e1f-4fb5-42fd-83aa-c158d2fbc464\" xlink:type=\"simple\"><rect fill=\"#FEFECE\" filter=\"url(#f1nvvr5bw77as4)\" height=\"40\" id=\"E8\" rx=\"10\" ry=\"10\" style=\"stroke: #A80036; stroke-width: 1.5;\" width=\"59\" x=\"430.5\" y=\"84\"/><ellipse cx=\"447.75\" cy=\"100\" fill=\"#B6DBBB\" rx=\"11\" ry=\"11\" style=\"stroke: #A80036; stroke-width: 1.0;\"/><path d=\"M443.625,101.9219 L443.625,94.1094 L446.0781,94.1094 L446.0781,102.5469 Q446.0781,103.4688 446.5469,104 Q447.0313,104.5313 447.8594,104.5313 Q448.7031,104.5313 449.1719,104 Q449.6406,103.4688 449.6406,102.5469 L449.6406,94.1094 L452.0938,94.1094 L452.0938,101.9219 Q452.0938,104.4531 451.0938,105.5938 Q450.0938,106.7344 447.8594,106.7344 Q445.6406,106.7344 444.625,105.5938 Q443.625,104.4531 443.625,101.9219 Z \"/><text fill=\"#000000\" font-family=\"sans-serif\" font-size=\"12\" lengthAdjust=\"spacingAndGlyphs\" textLength=\"22\" x=\"462.25\" y=\"104.1543\">y: B</text></a></g><g id=\"E1.E9.E10\"><a href=\"psysml:797261aa-a958-4475-9de3-b139176b10fb\" target=\"_top\" title=\"psysml:797261aa-a958-4475-9de3-b139176b10fb\" xlink:actuate=\"onRequest\" xlink:href=\"psysml:797261aa-a958-4475-9de3-b139176b10fb\" xlink:show=\"new\" xlink:title=\"psysml:797261aa-a958-4475-9de3-b139176b10fb\" xlink:type=\"simple\"><rect fill=\"#FEFECE\" filter=\"url(#f1nvvr5bw77as4)\" height=\"40\" id=\"E10\" rx=\"10\" ry=\"10\" style=\"stroke: #A80036; stroke-width: 1.5;\" width=\"59\" x=\"314.5\" y=\"84\"/><ellipse cx=\"331.75\" cy=\"100\" fill=\"#B6DBBB\" rx=\"11\" ry=\"11\" style=\"stroke: #A80036; stroke-width: 1.0;\"/><path d=\"M327.625,101.9219 L327.625,94.1094 L330.0781,94.1094 L330.0781,102.5469 Q330.0781,103.4688 330.5469,104 Q331.0313,104.5313 331.8594,104.5313 Q332.7031,104.5313 333.1719,104 Q333.6406,103.4688 333.6406,102.5469 L333.6406,94.1094 L336.0938,94.1094 L336.0938,101.9219 Q336.0938,104.4531 335.0938,105.5938 Q334.0938,106.7344 331.8594,106.7344 Q329.6406,106.7344 328.625,105.5938 Q327.625,104.4531 327.625,101.9219 Z \"/><text fill=\"#000000\" font-family=\"sans-serif\" font-size=\"12\" lengthAdjust=\"spacingAndGlyphs\" textLength=\"22\" x=\"346.25\" y=\"104.1543\">x: A</text></a></g><g id=\"E1.E9.E11\"><a href=\"psysml:3825b43b-bb71-4033-970e-c8c9e00cfd14\" target=\"_top\" title=\"psysml:3825b43b-bb71-4033-970e-c8c9e00cfd14\" xlink:actuate=\"onRequest\" xlink:href=\"psysml:3825b43b-bb71-4033-970e-c8c9e00cfd14\" xlink:show=\"new\" xlink:title=\"psysml:3825b43b-bb71-4033-970e-c8c9e00cfd14\" xlink:type=\"simple\"><rect fill=\"#FEFECE\" filter=\"url(#f1nvvr5bw77as4)\" height=\"40\" id=\"E11\" rx=\"10\" ry=\"10\" style=\"stroke: #A80036; stroke-width: 1.5;\" width=\"59\" x=\"220.5\" y=\"84\"/><ellipse cx=\"237.75\" cy=\"100\" fill=\"#B6DBBB\" rx=\"11\" ry=\"11\" style=\"stroke: #A80036; stroke-width: 1.0;\"/><path d=\"M233.625,101.9219 L233.625,94.1094 L236.0781,94.1094 L236.0781,102.5469 Q236.0781,103.4688 236.5469,104 Q237.0313,104.5313 237.8594,104.5313 Q238.7031,104.5313 239.1719,104 Q239.6406,103.4688 239.6406,102.5469 L239.6406,94.1094 L242.0938,94.1094 L242.0938,101.9219 Q242.0938,104.4531 241.0938,105.5938 Q240.0938,106.7344 237.8594,106.7344 Q235.6406,106.7344 234.625,105.5938 Q233.625,104.4531 233.625,101.9219 Z \"/><text fill=\"#000000\" font-family=\"sans-serif\" font-size=\"12\" lengthAdjust=\"spacingAndGlyphs\" textLength=\"22\" x=\"252.25\" y=\"104.1543\">y: B</text></a></g><g id=\"E1.E12\"><a href=\"psysml:e16c4bbb-61f3-4b61-a2b5-b03e29e494af\" target=\"_top\" title=\"psysml:e16c4bbb-61f3-4b61-a2b5-b03e29e494af\" xlink:actuate=\"onRequest\" xlink:href=\"psysml:e16c4bbb-61f3-4b61-a2b5-b03e29e494af\" xlink:show=\"new\" xlink:title=\"psysml:e16c4bbb-61f3-4b61-a2b5-b03e29e494af\" xlink:type=\"simple\"><rect fill=\"#FEFECE\" filter=\"url(#f1nvvr5bw77as4)\" height=\"40\" id=\"E12\" rx=\"10\" ry=\"10\" style=\"stroke: #A80036; stroke-width: 1.5;\" width=\"59\" x=\"126.5\" y=\"84\"/><ellipse cx=\"143.75\" cy=\"100\" fill=\"#B6DBBB\" rx=\"11\" ry=\"11\" style=\"stroke: #A80036; stroke-width: 1.0;\"/><path d=\"M139.625,101.9219 L139.625,94.1094 L142.0781,94.1094 L142.0781,102.5469 Q142.0781,103.4688 142.5469,104 Q143.0313,104.5313 143.8594,104.5313 Q144.7031,104.5313 145.1719,104 Q145.6406,103.4688 145.6406,102.5469 L145.6406,94.1094 L148.0938,94.1094 L148.0938,101.9219 Q148.0938,104.4531 147.0938,105.5938 Q146.0938,106.7344 143.8594,106.7344 Q141.6406,106.7344 140.625,105.5938 Q139.625,104.4531 139.625,101.9219 Z \"/><text fill=\"#000000\" font-family=\"sans-serif\" font-size=\"12\" lengthAdjust=\"spacingAndGlyphs\" textLength=\"22\" x=\"158.25\" y=\"104.1543\">x: A</text></a></g><g id=\"E1.E13\"><a href=\"psysml:6a814915-eeda-4c4d-8e98-a86878ae1f3d\" target=\"_top\" title=\"psysml:6a814915-eeda-4c4d-8e98-a86878ae1f3d\" xlink:actuate=\"onRequest\" xlink:href=\"psysml:6a814915-eeda-4c4d-8e98-a86878ae1f3d\" xlink:show=\"new\" xlink:title=\"psysml:6a814915-eeda-4c4d-8e98-a86878ae1f3d\" xlink:type=\"simple\"><rect fill=\"#FEFECE\" filter=\"url(#f1nvvr5bw77as4)\" height=\"40\" id=\"E13\" rx=\"10\" ry=\"10\" style=\"stroke: #A80036; stroke-width: 1.5;\" width=\"59\" x=\"32.5\" y=\"84\"/><ellipse cx=\"49.75\" cy=\"100\" fill=\"#B6DBBB\" rx=\"11\" ry=\"11\" style=\"stroke: #A80036; stroke-width: 1.0;\"/><path d=\"M45.625,101.9219 L45.625,94.1094 L48.0781,94.1094 L48.0781,102.5469 Q48.0781,103.4688 48.5469,104 Q49.0313,104.5313 49.8594,104.5313 Q50.7031,104.5313 51.1719,104 Q51.6406,103.4688 51.6406,102.5469 L51.6406,94.1094 L54.0938,94.1094 L54.0938,101.9219 Q54.0938,104.4531 53.0938,105.5938 Q52.0938,106.7344 49.8594,106.7344 Q47.6406,106.7344 46.625,105.5938 Q45.625,104.4531 45.625,101.9219 Z \"/><text fill=\"#000000\" font-family=\"sans-serif\" font-size=\"12\" lengthAdjust=\"spacingAndGlyphs\" textLength=\"22\" x=\"64.25\" y=\"104.1543\">y: B</text></a></g><!--MD5=[b6a7fcca34124897206eb221ed25e446]\n",
       "@startuml\r\n",
       "skinparam ranksep 8\r\n",
       "skinparam rectangle {\r\n",
       " backgroundColor<<block>> LightGreen\r\n",
       "}\r\n",
       " \r\n",
       "package \"CircularImport\" as E1  [[psysml:6a62b0bb-ce07-42d9-b06f-c19bd22a93a2 ]]  {\r\n",
       "package \"P1\" as E2  [[psysml:e5793e48-aebf-4c77-9b1c-634d316c370a ]]  {\r\n",
       "rec def \"A\" as E3  << (B,green) >> [[psysml:4745677c-bede-4ab8-acdc-4365dad759bc ]] {\r\n",
       "}\r\n",
       "}\r\n",
       "package \"P2\" as E4  [[psysml:9f128572-3fea-4fc4-b18b-c92f97cc0f0b ]]  {\r\n",
       "rec def \"B\" as E5  << (B,green) >> [[psysml:a455b6ac-bbc4-40c1-9da4-354e9f8fdc46 ]] {\r\n",
       "}\r\n",
       "}\r\n",
       "package \"Test1\" as E6  [[psysml:6c517ad3-81f8-4503-b234-41386708eb5e ]]  {\r\n",
       "rec usage \"x: A\" as E7  [[psysml:6b7db59d-d003-4043-9508-3fd9ac781eff ]] {\r\n",
       "}\r\n",
       "rec usage \"y: B\" as E8  [[psysml:6c414e1f-4fb5-42fd-83aa-c158d2fbc464 ]] {\r\n",
       "}\r\n",
       "}\r\n",
       "package \"Test2\" as E9  [[psysml:81951965-8d4b-42c4-ba21-4255f6488007 ]]  {\r\n",
       "rec usage \"x: A\" as E10  [[psysml:797261aa-a958-4475-9de3-b139176b10fb ]] {\r\n",
       "}\r\n",
       "rec usage \"y: B\" as E11  [[psysml:3825b43b-bb71-4033-970e-c8c9e00cfd14 ]] {\r\n",
       "}\r\n",
       "}\r\n",
       "rec usage \"x: A\" as E12  [[psysml:e16c4bbb-61f3-4b61-a2b5-b03e29e494af ]] {\r\n",
       "}\r\n",
       "rec usage \"y: B\" as E13  [[psysml:6a814915-eeda-4c4d-8e98-a86878ae1f3d ]] {\r\n",
       "}\r\n",
       "}\r\n",
       "@enduml\r\n",
       "\n",
       "PlantUML version 1.2020.13(Sat Jun 13 12:26:38 UTC 2020)\n",
       "(EPL source distribution)\n",
       "Java Runtime: OpenJDK Runtime Environment\n",
       "JVM: OpenJDK 64-Bit Server VM\n",
       "Default Encoding: UTF-8\n",
       "Language: en\n",
       "Country: null\n",
       "--></g></svg>"
      ]
     },
     "execution_count": 33,
     "metadata": {},
     "output_type": "execute_result"
    }
   ],
   "source": [
    "%viz --style=\"PLANTUML\" --view=\"Interconnection\" \"CircularImport\""
   ]
  },
  {
   "cell_type": "code",
   "execution_count": 34,
   "id": "utility-fleet",
   "metadata": {
    "execution": {
     "iopub.execute_input": "2021-03-25T13:13:21.795445Z",
     "iopub.status.busy": "2021-03-25T13:13:21.794629Z",
     "iopub.status.idle": "2021-03-25T13:13:21.799676Z",
     "shell.execute_reply": "2021-03-25T13:13:21.800279Z"
    }
   },
   "outputs": [
    {
     "data": {
      "image/svg+xml": [
       "<?xml version=\"1.0\" encoding=\"UTF-8\" standalone=\"no\"?><svg xmlns=\"http://www.w3.org/2000/svg\" xmlns:xlink=\"http://www.w3.org/1999/xlink\" contentScriptType=\"application/ecmascript\" contentStyleType=\"text/css\" height=\"12px\" preserveAspectRatio=\"none\" style=\"width:12px;height:12px;\" version=\"1.1\" viewBox=\"0 0 12 12\" width=\"12px\" zoomAndPan=\"magnify\"><defs/><g><!--MD5=[6a4cb978cab31700e1ce5529f947a75d]\n",
       "@startuml\r\n",
       "skinparam ranksep 8\r\n",
       " \r\n",
       "@enduml\r\n",
       "\n",
       "PlantUML version 1.2020.13(Sat Jun 13 12:26:38 UTC 2020)\n",
       "(EPL source distribution)\n",
       "Java Runtime: OpenJDK Runtime Environment\n",
       "JVM: OpenJDK 64-Bit Server VM\n",
       "Default Encoding: UTF-8\n",
       "Language: en\n",
       "Country: null\n",
       "--></g></svg>"
      ]
     },
     "execution_count": 34,
     "metadata": {},
     "output_type": "execute_result"
    }
   ],
   "source": [
    "%viz --style=\"PLANTUML\" --view=\"Action\" \"CircularImport\""
   ]
  },
  {
   "cell_type": "code",
   "execution_count": 35,
   "id": "practical-oasis",
   "metadata": {
    "execution": {
     "iopub.execute_input": "2021-03-25T13:13:21.851041Z",
     "iopub.status.busy": "2021-03-25T13:13:21.850536Z",
     "iopub.status.idle": "2021-03-25T13:13:21.941557Z",
     "shell.execute_reply": "2021-03-25T13:13:21.942018Z"
    }
   },
   "outputs": [
    {
     "data": {
      "image/svg+xml": [
       "<?xml version=\"1.0\" encoding=\"UTF-8\" standalone=\"no\"?><svg xmlns=\"http://www.w3.org/2000/svg\" xmlns:xlink=\"http://www.w3.org/1999/xlink\" contentScriptType=\"application/ecmascript\" contentStyleType=\"text/css\" height=\"297px\" preserveAspectRatio=\"none\" style=\"width:674px;height:297px;\" version=\"1.1\" viewBox=\"0 0 674 297\" width=\"674px\" zoomAndPan=\"magnify\"><defs><filter height=\"300%\" id=\"fnp6fuk4gpz11\" width=\"300%\" x=\"-1\" y=\"-1\"><feGaussianBlur result=\"blurOut\" stdDeviation=\"2.0\"/><feColorMatrix in=\"blurOut\" result=\"blurOut2\" type=\"matrix\" values=\"0 0 0 0 0 0 0 0 0 0 0 0 0 0 0 0 0 0 .4 0\"/><feOffset dx=\"4.0\" dy=\"4.0\" in=\"blurOut2\" result=\"blurOut3\"/><feBlend in=\"SourceGraphic\" in2=\"blurOut3\" mode=\"normal\"/></filter></defs><g><!--MD5=[fbc87193dbaf4d95561dea2c320d4a47]\n",
       "cluster E1--><a href=\"psysml:6a62b0bb-ce07-42d9-b06f-c19bd22a93a2\" target=\"_top\" title=\"psysml:6a62b0bb-ce07-42d9-b06f-c19bd22a93a2\" xlink:actuate=\"onRequest\" xlink:href=\"psysml:6a62b0bb-ce07-42d9-b06f-c19bd22a93a2\" xlink:show=\"new\" xlink:title=\"psysml:6a62b0bb-ce07-42d9-b06f-c19bd22a93a2\" xlink:type=\"simple\"><polygon fill=\"#FFFFFF\" filter=\"url(#fnp6fuk4gpz11)\" points=\"16,6,134,6,141,28.2969,652,28.2969,652,285,16,285,16,6\" style=\"stroke: #000000; stroke-width: 1.5;\"/><line style=\"stroke: #000000; stroke-width: 1.5;\" x1=\"16\" x2=\"141\" y1=\"28.2969\" y2=\"28.2969\"/><text fill=\"#000000\" font-family=\"sans-serif\" font-size=\"14\" font-weight=\"bold\" lengthAdjust=\"spacingAndGlyphs\" textLength=\"112\" x=\"20\" y=\"20.9951\">CircularImport</text></a><!--MD5=[e4f7fae6ed58524ba242bb0b0d3be6b7]\n",
       "cluster E2--><a href=\"psysml:e5793e48-aebf-4c77-9b1c-634d316c370a\" target=\"_top\" title=\"psysml:e5793e48-aebf-4c77-9b1c-634d316c370a\" xlink:actuate=\"onRequest\" xlink:href=\"psysml:e5793e48-aebf-4c77-9b1c-634d316c370a\" xlink:show=\"new\" xlink:title=\"psysml:e5793e48-aebf-4c77-9b1c-634d316c370a\" xlink:type=\"simple\"><polygon fill=\"#FFFFFF\" filter=\"url(#fnp6fuk4gpz11)\" points=\"463,170,489,170,496,192.2969,535,192.2969,535,261,463,261,463,170\" style=\"stroke: #000000; stroke-width: 1.5;\"/><line style=\"stroke: #000000; stroke-width: 1.5;\" x1=\"463\" x2=\"496\" y1=\"192.2969\" y2=\"192.2969\"/><text fill=\"#000000\" font-family=\"sans-serif\" font-size=\"14\" font-weight=\"bold\" lengthAdjust=\"spacingAndGlyphs\" textLength=\"20\" x=\"467\" y=\"184.9951\">P1</text></a><!--MD5=[f6df4d0ebaf0b5dfb2ced0ae5af7c670]\n",
       "cluster E4--><a href=\"psysml:9f128572-3fea-4fc4-b18b-c92f97cc0f0b\" target=\"_top\" title=\"psysml:9f128572-3fea-4fc4-b18b-c92f97cc0f0b\" xlink:actuate=\"onRequest\" xlink:href=\"psysml:9f128572-3fea-4fc4-b18b-c92f97cc0f0b\" xlink:show=\"new\" xlink:title=\"psysml:9f128572-3fea-4fc4-b18b-c92f97cc0f0b\" xlink:type=\"simple\"><polygon fill=\"#FFFFFF\" filter=\"url(#fnp6fuk4gpz11)\" points=\"133,170,159,170,166,192.2969,205,192.2969,205,261,133,261,133,170\" style=\"stroke: #000000; stroke-width: 1.5;\"/><line style=\"stroke: #000000; stroke-width: 1.5;\" x1=\"133\" x2=\"166\" y1=\"192.2969\" y2=\"192.2969\"/><text fill=\"#000000\" font-family=\"sans-serif\" font-size=\"14\" font-weight=\"bold\" lengthAdjust=\"spacingAndGlyphs\" textLength=\"20\" x=\"137\" y=\"184.9951\">P2</text></a><!--MD5=[14e3b0961a2654348d326746436168a1]\n",
       "cluster E6--><a href=\"psysml:6c517ad3-81f8-4503-b234-41386708eb5e\" target=\"_top\" title=\"psysml:6c517ad3-81f8-4503-b234-41386708eb5e\" xlink:actuate=\"onRequest\" xlink:href=\"psysml:6c517ad3-81f8-4503-b234-41386708eb5e\" xlink:show=\"new\" xlink:title=\"psysml:6c517ad3-81f8-4503-b234-41386708eb5e\" xlink:type=\"simple\"><polygon fill=\"#FFFFFF\" filter=\"url(#fnp6fuk4gpz11)\" points=\"346,49,397,49,404,71.2969,549,71.2969,549,146,346,146,346,49\" style=\"stroke: #000000; stroke-width: 1.5;\"/><line style=\"stroke: #000000; stroke-width: 1.5;\" x1=\"346\" x2=\"404\" y1=\"71.2969\" y2=\"71.2969\"/><text fill=\"#000000\" font-family=\"sans-serif\" font-size=\"14\" font-weight=\"bold\" lengthAdjust=\"spacingAndGlyphs\" textLength=\"45\" x=\"350\" y=\"63.9951\">Test1</text></a><!--MD5=[7f149f147074ac12df2cb0a7728a5fb0]\n",
       "cluster E9--><a href=\"psysml:81951965-8d4b-42c4-ba21-4255f6488007\" target=\"_top\" title=\"psysml:81951965-8d4b-42c4-ba21-4255f6488007\" xlink:actuate=\"onRequest\" xlink:href=\"psysml:81951965-8d4b-42c4-ba21-4255f6488007\" xlink:show=\"new\" xlink:title=\"psysml:81951965-8d4b-42c4-ba21-4255f6488007\" xlink:type=\"simple\"><polygon fill=\"#FFFFFF\" filter=\"url(#fnp6fuk4gpz11)\" points=\"119,49,170,49,177,71.2969,322,71.2969,322,146,119,146,119,49\" style=\"stroke: #000000; stroke-width: 1.5;\"/><line style=\"stroke: #000000; stroke-width: 1.5;\" x1=\"119\" x2=\"177\" y1=\"71.2969\" y2=\"71.2969\"/><text fill=\"#000000\" font-family=\"sans-serif\" font-size=\"14\" font-weight=\"bold\" lengthAdjust=\"spacingAndGlyphs\" textLength=\"45\" x=\"123\" y=\"63.9951\">Test2</text></a><!--MD5=[49a0ec8f00dab7302a31f22d0f0fe584]\n",
       "class E12--><a href=\"psysml:e16c4bbb-61f3-4b61-a2b5-b03e29e494af\" target=\"_top\" title=\"psysml:e16c4bbb-61f3-4b61-a2b5-b03e29e494af\" xlink:actuate=\"onRequest\" xlink:href=\"psysml:e16c4bbb-61f3-4b61-a2b5-b03e29e494af\" xlink:show=\"new\" xlink:title=\"psysml:e16c4bbb-61f3-4b61-a2b5-b03e29e494af\" xlink:type=\"simple\"><rect fill=\"#FEFECE\" filter=\"url(#fnp6fuk4gpz11)\" height=\"45.9375\" id=\"E12\" rx=\"10\" ry=\"10\" style=\"stroke: #A80036; stroke-width: 1.5;\" width=\"68\" x=\"568\" y=\"84\"/><ellipse cx=\"583\" cy=\"102.9688\" fill=\"#32CD32\" rx=\"11\" ry=\"11\" style=\"stroke: #A80036; stroke-width: 1.0;\"/><path d=\"M582.7969,98.6406 L582.7969,102.2656 L583.7969,102.2656 Q585,102.2656 585.4844,101.8594 Q585.9688,101.4531 585.9688,100.4531 Q585.9688,99.4531 585.4844,99.0469 Q585,98.6406 583.7969,98.6406 L582.7969,98.6406 Z M580.3438,96.5781 L583.7031,96.5781 Q586.2656,96.5781 587.3906,97.5 Q588.5156,98.4063 588.5156,100.4531 Q588.5156,102.5 587.3906,103.4219 Q586.2656,104.3281 583.7031,104.3281 L582.7969,104.3281 L582.7969,108.9688 L580.3438,108.9688 L580.3438,96.5781 Z \"/><text fill=\"#000000\" font-family=\"sans-serif\" font-size=\"12\" font-style=\"italic\" lengthAdjust=\"spacingAndGlyphs\" textLength=\"40\" x=\"595\" y=\"100.1387\">«part»</text><text fill=\"#000000\" font-family=\"sans-serif\" font-size=\"12\" lengthAdjust=\"spacingAndGlyphs\" textLength=\"22\" x=\"604\" y=\"114.1074\">x: A</text><line style=\"stroke: #A80036; stroke-width: 1.5;\" x1=\"569\" x2=\"635\" y1=\"121.9375\" y2=\"121.9375\"/></a><!--MD5=[ee3c913d1a06f366521f9ef512b67efe]\n",
       "class E13--><a href=\"psysml:6a814915-eeda-4c4d-8e98-a86878ae1f3d\" target=\"_top\" title=\"psysml:6a814915-eeda-4c4d-8e98-a86878ae1f3d\" xlink:actuate=\"onRequest\" xlink:href=\"psysml:6a814915-eeda-4c4d-8e98-a86878ae1f3d\" xlink:show=\"new\" xlink:title=\"psysml:6a814915-eeda-4c4d-8e98-a86878ae1f3d\" xlink:type=\"simple\"><rect fill=\"#FEFECE\" filter=\"url(#fnp6fuk4gpz11)\" height=\"45.9375\" id=\"E13\" rx=\"10\" ry=\"10\" style=\"stroke: #A80036; stroke-width: 1.5;\" width=\"68\" x=\"32\" y=\"84\"/><ellipse cx=\"47\" cy=\"102.9688\" fill=\"#32CD32\" rx=\"11\" ry=\"11\" style=\"stroke: #A80036; stroke-width: 1.0;\"/><path d=\"M46.7969,98.6406 L46.7969,102.2656 L47.7969,102.2656 Q49,102.2656 49.4844,101.8594 Q49.9688,101.4531 49.9688,100.4531 Q49.9688,99.4531 49.4844,99.0469 Q49,98.6406 47.7969,98.6406 L46.7969,98.6406 Z M44.3438,96.5781 L47.7031,96.5781 Q50.2656,96.5781 51.3906,97.5 Q52.5156,98.4063 52.5156,100.4531 Q52.5156,102.5 51.3906,103.4219 Q50.2656,104.3281 47.7031,104.3281 L46.7969,104.3281 L46.7969,108.9688 L44.3438,108.9688 L44.3438,96.5781 Z \"/><text fill=\"#000000\" font-family=\"sans-serif\" font-size=\"12\" font-style=\"italic\" lengthAdjust=\"spacingAndGlyphs\" textLength=\"40\" x=\"59\" y=\"100.1387\">«part»</text><text fill=\"#000000\" font-family=\"sans-serif\" font-size=\"12\" lengthAdjust=\"spacingAndGlyphs\" textLength=\"22\" x=\"68\" y=\"114.1074\">y: B</text><line style=\"stroke: #A80036; stroke-width: 1.5;\" x1=\"33\" x2=\"99\" y1=\"121.9375\" y2=\"121.9375\"/></a><!--MD5=[09b614a08d8cba4a07c9adeb5e0fee81]\n",
       "class E3--><a href=\"psysml:4745677c-bede-4ab8-acdc-4365dad759bc\" target=\"_top\" title=\"psysml:4745677c-bede-4ab8-acdc-4365dad759bc\" xlink:actuate=\"onRequest\" xlink:href=\"psysml:4745677c-bede-4ab8-acdc-4365dad759bc\" xlink:show=\"new\" xlink:title=\"psysml:4745677c-bede-4ab8-acdc-4365dad759bc\" xlink:type=\"simple\"><rect fill=\"#FEFECE\" filter=\"url(#fnp6fuk4gpz11)\" height=\"40\" id=\"E3\" style=\"stroke: #A80036; stroke-width: 1.5;\" width=\"40\" x=\"479\" y=\"205\"/><ellipse cx=\"494\" cy=\"221\" fill=\"#008000\" rx=\"11\" ry=\"11\" style=\"stroke: #A80036; stroke-width: 1.0;\"/><path d=\"M492.9063,221.375 L492.9063,225.0469 L494.5313,225.0469 Q495.7031,225.0469 496.1719,224.6563 Q496.6406,224.25 496.6406,223.25 Q496.6406,222.25 496.1406,221.8125 Q495.6563,221.375 494.5313,221.375 L492.9063,221.375 Z M492.9063,216.5469 L492.9063,219.4219 L494.5313,219.4219 Q495.4531,219.4219 495.8438,219.0938 Q496.25,218.75 496.25,218 Q496.25,217.2344 495.8438,216.8906 Q495.4375,216.5469 494.5313,216.5469 L492.9063,216.5469 Z M490.5313,214.5938 L494.5313,214.5938 Q496.5938,214.5938 497.6406,215.375 Q498.6875,216.1563 498.6875,217.7188 Q498.6875,218.9219 498.0625,219.5938 Q497.4531,220.2656 496.2656,220.375 Q497.6875,220.5156 498.4063,221.3281 Q499.125,222.1406 499.125,223.5938 Q499.125,225.3906 498.0469,226.2031 Q496.9688,227 494.5313,227 L490.5313,227 L490.5313,214.5938 Z \"/><text fill=\"#000000\" font-family=\"sans-serif\" font-size=\"12\" lengthAdjust=\"spacingAndGlyphs\" textLength=\"8\" x=\"508\" y=\"225.1543\">A</text><line style=\"stroke: #A80036; stroke-width: 1.5;\" x1=\"480\" x2=\"518\" y1=\"237\" y2=\"237\"/></a><!--MD5=[270fce915f116d4de14055a7c1d9a0f3]\n",
       "class E5--><a href=\"psysml:a455b6ac-bbc4-40c1-9da4-354e9f8fdc46\" target=\"_top\" title=\"psysml:a455b6ac-bbc4-40c1-9da4-354e9f8fdc46\" xlink:actuate=\"onRequest\" xlink:href=\"psysml:a455b6ac-bbc4-40c1-9da4-354e9f8fdc46\" xlink:show=\"new\" xlink:title=\"psysml:a455b6ac-bbc4-40c1-9da4-354e9f8fdc46\" xlink:type=\"simple\"><rect fill=\"#FEFECE\" filter=\"url(#fnp6fuk4gpz11)\" height=\"40\" id=\"E5\" style=\"stroke: #A80036; stroke-width: 1.5;\" width=\"40\" x=\"149\" y=\"205\"/><ellipse cx=\"164\" cy=\"221\" fill=\"#008000\" rx=\"11\" ry=\"11\" style=\"stroke: #A80036; stroke-width: 1.0;\"/><path d=\"M162.9063,221.375 L162.9063,225.0469 L164.5313,225.0469 Q165.7031,225.0469 166.1719,224.6563 Q166.6406,224.25 166.6406,223.25 Q166.6406,222.25 166.1406,221.8125 Q165.6563,221.375 164.5313,221.375 L162.9063,221.375 Z M162.9063,216.5469 L162.9063,219.4219 L164.5313,219.4219 Q165.4531,219.4219 165.8438,219.0938 Q166.25,218.75 166.25,218 Q166.25,217.2344 165.8438,216.8906 Q165.4375,216.5469 164.5313,216.5469 L162.9063,216.5469 Z M160.5313,214.5938 L164.5313,214.5938 Q166.5938,214.5938 167.6406,215.375 Q168.6875,216.1563 168.6875,217.7188 Q168.6875,218.9219 168.0625,219.5938 Q167.4531,220.2656 166.2656,220.375 Q167.6875,220.5156 168.4063,221.3281 Q169.125,222.1406 169.125,223.5938 Q169.125,225.3906 168.0469,226.2031 Q166.9688,227 164.5313,227 L160.5313,227 L160.5313,214.5938 Z \"/><text fill=\"#000000\" font-family=\"sans-serif\" font-size=\"12\" lengthAdjust=\"spacingAndGlyphs\" textLength=\"8\" x=\"178\" y=\"225.1543\">B</text><line style=\"stroke: #A80036; stroke-width: 1.5;\" x1=\"150\" x2=\"188\" y1=\"237\" y2=\"237\"/></a><!--MD5=[2156ba9850f5573cc1fc38a6a4b2f02b]\n",
       "class E7--><a href=\"psysml:6b7db59d-d003-4043-9508-3fd9ac781eff\" target=\"_top\" title=\"psysml:6b7db59d-d003-4043-9508-3fd9ac781eff\" xlink:actuate=\"onRequest\" xlink:href=\"psysml:6b7db59d-d003-4043-9508-3fd9ac781eff\" xlink:show=\"new\" xlink:title=\"psysml:6b7db59d-d003-4043-9508-3fd9ac781eff\" xlink:type=\"simple\"><rect fill=\"#FEFECE\" filter=\"url(#fnp6fuk4gpz11)\" height=\"45.9375\" id=\"E7\" rx=\"10\" ry=\"10\" style=\"stroke: #A80036; stroke-width: 1.5;\" width=\"68\" x=\"465\" y=\"84\"/><ellipse cx=\"480\" cy=\"102.9688\" fill=\"#32CD32\" rx=\"11\" ry=\"11\" style=\"stroke: #A80036; stroke-width: 1.0;\"/><path d=\"M479.7969,98.6406 L479.7969,102.2656 L480.7969,102.2656 Q482,102.2656 482.4844,101.8594 Q482.9688,101.4531 482.9688,100.4531 Q482.9688,99.4531 482.4844,99.0469 Q482,98.6406 480.7969,98.6406 L479.7969,98.6406 Z M477.3438,96.5781 L480.7031,96.5781 Q483.2656,96.5781 484.3906,97.5 Q485.5156,98.4063 485.5156,100.4531 Q485.5156,102.5 484.3906,103.4219 Q483.2656,104.3281 480.7031,104.3281 L479.7969,104.3281 L479.7969,108.9688 L477.3438,108.9688 L477.3438,96.5781 Z \"/><text fill=\"#000000\" font-family=\"sans-serif\" font-size=\"12\" font-style=\"italic\" lengthAdjust=\"spacingAndGlyphs\" textLength=\"40\" x=\"492\" y=\"100.1387\">«part»</text><text fill=\"#000000\" font-family=\"sans-serif\" font-size=\"12\" lengthAdjust=\"spacingAndGlyphs\" textLength=\"22\" x=\"501\" y=\"114.1074\">x: A</text><line style=\"stroke: #A80036; stroke-width: 1.5;\" x1=\"466\" x2=\"532\" y1=\"121.9375\" y2=\"121.9375\"/></a><!--MD5=[b9389687b975829384b498ac4b7476b2]\n",
       "class E8--><a href=\"psysml:6c414e1f-4fb5-42fd-83aa-c158d2fbc464\" target=\"_top\" title=\"psysml:6c414e1f-4fb5-42fd-83aa-c158d2fbc464\" xlink:actuate=\"onRequest\" xlink:href=\"psysml:6c414e1f-4fb5-42fd-83aa-c158d2fbc464\" xlink:show=\"new\" xlink:title=\"psysml:6c414e1f-4fb5-42fd-83aa-c158d2fbc464\" xlink:type=\"simple\"><rect fill=\"#FEFECE\" filter=\"url(#fnp6fuk4gpz11)\" height=\"45.9375\" id=\"E8\" rx=\"10\" ry=\"10\" style=\"stroke: #A80036; stroke-width: 1.5;\" width=\"68\" x=\"362\" y=\"84\"/><ellipse cx=\"377\" cy=\"102.9688\" fill=\"#32CD32\" rx=\"11\" ry=\"11\" style=\"stroke: #A80036; stroke-width: 1.0;\"/><path d=\"M376.7969,98.6406 L376.7969,102.2656 L377.7969,102.2656 Q379,102.2656 379.4844,101.8594 Q379.9688,101.4531 379.9688,100.4531 Q379.9688,99.4531 379.4844,99.0469 Q379,98.6406 377.7969,98.6406 L376.7969,98.6406 Z M374.3438,96.5781 L377.7031,96.5781 Q380.2656,96.5781 381.3906,97.5 Q382.5156,98.4063 382.5156,100.4531 Q382.5156,102.5 381.3906,103.4219 Q380.2656,104.3281 377.7031,104.3281 L376.7969,104.3281 L376.7969,108.9688 L374.3438,108.9688 L374.3438,96.5781 Z \"/><text fill=\"#000000\" font-family=\"sans-serif\" font-size=\"12\" font-style=\"italic\" lengthAdjust=\"spacingAndGlyphs\" textLength=\"40\" x=\"389\" y=\"100.1387\">«part»</text><text fill=\"#000000\" font-family=\"sans-serif\" font-size=\"12\" lengthAdjust=\"spacingAndGlyphs\" textLength=\"22\" x=\"398\" y=\"114.1074\">y: B</text><line style=\"stroke: #A80036; stroke-width: 1.5;\" x1=\"363\" x2=\"429\" y1=\"121.9375\" y2=\"121.9375\"/></a><!--MD5=[96f4274e9e20536e775497830990834d]\n",
       "class E10--><a href=\"psysml:797261aa-a958-4475-9de3-b139176b10fb\" target=\"_top\" title=\"psysml:797261aa-a958-4475-9de3-b139176b10fb\" xlink:actuate=\"onRequest\" xlink:href=\"psysml:797261aa-a958-4475-9de3-b139176b10fb\" xlink:show=\"new\" xlink:title=\"psysml:797261aa-a958-4475-9de3-b139176b10fb\" xlink:type=\"simple\"><rect fill=\"#FEFECE\" filter=\"url(#fnp6fuk4gpz11)\" height=\"45.9375\" id=\"E10\" rx=\"10\" ry=\"10\" style=\"stroke: #A80036; stroke-width: 1.5;\" width=\"68\" x=\"238\" y=\"84\"/><ellipse cx=\"253\" cy=\"102.9688\" fill=\"#32CD32\" rx=\"11\" ry=\"11\" style=\"stroke: #A80036; stroke-width: 1.0;\"/><path d=\"M252.7969,98.6406 L252.7969,102.2656 L253.7969,102.2656 Q255,102.2656 255.4844,101.8594 Q255.9688,101.4531 255.9688,100.4531 Q255.9688,99.4531 255.4844,99.0469 Q255,98.6406 253.7969,98.6406 L252.7969,98.6406 Z M250.3438,96.5781 L253.7031,96.5781 Q256.2656,96.5781 257.3906,97.5 Q258.5156,98.4063 258.5156,100.4531 Q258.5156,102.5 257.3906,103.4219 Q256.2656,104.3281 253.7031,104.3281 L252.7969,104.3281 L252.7969,108.9688 L250.3438,108.9688 L250.3438,96.5781 Z \"/><text fill=\"#000000\" font-family=\"sans-serif\" font-size=\"12\" font-style=\"italic\" lengthAdjust=\"spacingAndGlyphs\" textLength=\"40\" x=\"265\" y=\"100.1387\">«part»</text><text fill=\"#000000\" font-family=\"sans-serif\" font-size=\"12\" lengthAdjust=\"spacingAndGlyphs\" textLength=\"22\" x=\"274\" y=\"114.1074\">x: A</text><line style=\"stroke: #A80036; stroke-width: 1.5;\" x1=\"239\" x2=\"305\" y1=\"121.9375\" y2=\"121.9375\"/></a><!--MD5=[1dd1bfd58a279cf63c5f349dbc8fc6a1]\n",
       "class E11--><a href=\"psysml:3825b43b-bb71-4033-970e-c8c9e00cfd14\" target=\"_top\" title=\"psysml:3825b43b-bb71-4033-970e-c8c9e00cfd14\" xlink:actuate=\"onRequest\" xlink:href=\"psysml:3825b43b-bb71-4033-970e-c8c9e00cfd14\" xlink:show=\"new\" xlink:title=\"psysml:3825b43b-bb71-4033-970e-c8c9e00cfd14\" xlink:type=\"simple\"><rect fill=\"#FEFECE\" filter=\"url(#fnp6fuk4gpz11)\" height=\"45.9375\" id=\"E11\" rx=\"10\" ry=\"10\" style=\"stroke: #A80036; stroke-width: 1.5;\" width=\"68\" x=\"135\" y=\"84\"/><ellipse cx=\"150\" cy=\"102.9688\" fill=\"#32CD32\" rx=\"11\" ry=\"11\" style=\"stroke: #A80036; stroke-width: 1.0;\"/><path d=\"M149.7969,98.6406 L149.7969,102.2656 L150.7969,102.2656 Q152,102.2656 152.4844,101.8594 Q152.9688,101.4531 152.9688,100.4531 Q152.9688,99.4531 152.4844,99.0469 Q152,98.6406 150.7969,98.6406 L149.7969,98.6406 Z M147.3438,96.5781 L150.7031,96.5781 Q153.2656,96.5781 154.3906,97.5 Q155.5156,98.4063 155.5156,100.4531 Q155.5156,102.5 154.3906,103.4219 Q153.2656,104.3281 150.7031,104.3281 L149.7969,104.3281 L149.7969,108.9688 L147.3438,108.9688 L147.3438,96.5781 Z \"/><text fill=\"#000000\" font-family=\"sans-serif\" font-size=\"12\" font-style=\"italic\" lengthAdjust=\"spacingAndGlyphs\" textLength=\"40\" x=\"162\" y=\"100.1387\">«part»</text><text fill=\"#000000\" font-family=\"sans-serif\" font-size=\"12\" lengthAdjust=\"spacingAndGlyphs\" textLength=\"22\" x=\"171\" y=\"114.1074\">y: B</text><line style=\"stroke: #A80036; stroke-width: 1.5;\" x1=\"136\" x2=\"202\" y1=\"121.9375\" y2=\"121.9375\"/></a><!--MD5=[14ccda38c055a5c0da953d572bc50960]\n",
       "link E7 to E3--><a href=\"psysml:85e1ff22-6346-4a23-846d-dc1a236203c0\" target=\"_top\" title=\"psysml:85e1ff22-6346-4a23-846d-dc1a236203c0\" xlink:actuate=\"onRequest\" xlink:href=\"psysml:85e1ff22-6346-4a23-846d-dc1a236203c0\" xlink:show=\"new\" xlink:title=\"psysml:85e1ff22-6346-4a23-846d-dc1a236203c0\" xlink:type=\"simple\"><path d=\"M499,130.09 C499,145.42 499,166.27 499,184.42 \" fill=\"none\" id=\"E7-&gt;E3\" style=\"stroke: #A80036; stroke-width: 1.0;\"/><polygon fill=\"#FFFFFF\" points=\"499,204.69,492,185.69,506,185.69,499,204.69\" style=\"stroke: #A80036; stroke-width: 1.0;\"/><ellipse cx=\"494\" cy=\"179.99\" fill=\"#A80036\" rx=\"2\" ry=\"2\" style=\"stroke: #A80036; stroke-width: 1.0;\"/><ellipse cx=\"504\" cy=\"179.99\" fill=\"#A80036\" rx=\"2\" ry=\"2\" style=\"stroke: #A80036; stroke-width: 1.0;\"/></a><!--MD5=[1ccb2481ffa92f8d51a74ee30c51832a]\n",
       "link E8 to E5--><a href=\"psysml:483adec0-2d55-41ba-876c-1b8fe7d429ab\" target=\"_top\" title=\"psysml:483adec0-2d55-41ba-876c-1b8fe7d429ab\" xlink:actuate=\"onRequest\" xlink:href=\"psysml:483adec0-2d55-41ba-876c-1b8fe7d429ab\" xlink:show=\"new\" xlink:title=\"psysml:483adec0-2d55-41ba-876c-1b8fe7d429ab\" xlink:type=\"simple\"><path d=\"M362.27,130.22 C349.82,138.09 335.46,146.77 322,154 C284.18,174.3 239.36,194.36 208.05,207.77 \" fill=\"none\" id=\"E8-&gt;E5\" style=\"stroke: #A80036; stroke-width: 1.0;\"/><polygon fill=\"#FFFFFF\" points=\"189.2,215.73,203.9741,201.8834,209.4261,214.7782,189.2,215.73\" style=\"stroke: #A80036; stroke-width: 1.0;\"/><ellipse cx=\"210.0029\" cy=\"201.5058\" fill=\"#A80036\" rx=\"2\" ry=\"2\" style=\"stroke: #A80036; stroke-width: 1.0;\"/><ellipse cx=\"213.8972\" cy=\"210.7164\" fill=\"#A80036\" rx=\"2\" ry=\"2\" style=\"stroke: #A80036; stroke-width: 1.0;\"/></a><!--MD5=[feeac5eb423634930294aa81f2d25a4c]\n",
       "link E10 to E3--><a href=\"psysml:0e238847-8a3c-4f4a-a4c7-c4eca45a31b2\" target=\"_top\" title=\"psysml:0e238847-8a3c-4f4a-a4c7-c4eca45a31b2\" xlink:actuate=\"onRequest\" xlink:href=\"psysml:0e238847-8a3c-4f4a-a4c7-c4eca45a31b2\" xlink:show=\"new\" xlink:title=\"psysml:0e238847-8a3c-4f4a-a4c7-c4eca45a31b2\" xlink:type=\"simple\"><path d=\"M305.73,130.22 C318.18,138.09 332.54,146.77 346,154 C383.82,174.3 428.64,194.36 459.95,207.77 \" fill=\"none\" id=\"E10-&gt;E3\" style=\"stroke: #A80036; stroke-width: 1.0;\"/><polygon fill=\"#FFFFFF\" points=\"478.8,215.73,458.5739,214.7782,464.0259,201.8834,478.8,215.73\" style=\"stroke: #A80036; stroke-width: 1.0;\"/><ellipse cx=\"454.1028\" cy=\"210.7164\" fill=\"#A80036\" rx=\"2\" ry=\"2\" style=\"stroke: #A80036; stroke-width: 1.0;\"/><ellipse cx=\"457.9971\" cy=\"201.5058\" fill=\"#A80036\" rx=\"2\" ry=\"2\" style=\"stroke: #A80036; stroke-width: 1.0;\"/></a><!--MD5=[07b77f6f309248d16187045709d1c26e]\n",
       "link E11 to E5--><a href=\"psysml:1112046b-9823-4ab2-8a83-96247ffb9742\" target=\"_top\" title=\"psysml:1112046b-9823-4ab2-8a83-96247ffb9742\" xlink:actuate=\"onRequest\" xlink:href=\"psysml:1112046b-9823-4ab2-8a83-96247ffb9742\" xlink:show=\"new\" xlink:title=\"psysml:1112046b-9823-4ab2-8a83-96247ffb9742\" xlink:type=\"simple\"><path d=\"M169,130.09 C169,145.42 169,166.27 169,184.42 \" fill=\"none\" id=\"E11-&gt;E5\" style=\"stroke: #A80036; stroke-width: 1.0;\"/><polygon fill=\"#FFFFFF\" points=\"169,204.69,162,185.69,176,185.69,169,204.69\" style=\"stroke: #A80036; stroke-width: 1.0;\"/><ellipse cx=\"164\" cy=\"179.99\" fill=\"#A80036\" rx=\"2\" ry=\"2\" style=\"stroke: #A80036; stroke-width: 1.0;\"/><ellipse cx=\"174\" cy=\"179.99\" fill=\"#A80036\" rx=\"2\" ry=\"2\" style=\"stroke: #A80036; stroke-width: 1.0;\"/></a><!--MD5=[39f41a0e550fb3d73b4d8135617e30a2]\n",
       "link E12 to E3--><a href=\"psysml:ee0d4e1c-50f8-4d3c-8a56-5035ed7c5f53\" target=\"_top\" title=\"psysml:ee0d4e1c-50f8-4d3c-8a56-5035ed7c5f53\" xlink:actuate=\"onRequest\" xlink:href=\"psysml:ee0d4e1c-50f8-4d3c-8a56-5035ed7c5f53\" xlink:show=\"new\" xlink:title=\"psysml:ee0d4e1c-50f8-4d3c-8a56-5035ed7c5f53\" xlink:type=\"simple\"><path d=\"M582.38,130.09 C567.43,146.94 546.56,170.44 529.44,189.72 \" fill=\"none\" id=\"E12-&gt;E3\" style=\"stroke: #A80036; stroke-width: 1.0;\"/><polygon fill=\"#FFFFFF\" points=\"516.15,204.69,523.5343,185.836,534.0014,195.1334,516.15,204.69\" style=\"stroke: #A80036; stroke-width: 1.0;\"/><ellipse cx=\"528.815\" cy=\"182.9027\" fill=\"#A80036\" rx=\"2\" ry=\"2\" style=\"stroke: #A80036; stroke-width: 1.0;\"/><ellipse cx=\"536.2914\" cy=\"189.5436\" fill=\"#A80036\" rx=\"2\" ry=\"2\" style=\"stroke: #A80036; stroke-width: 1.0;\"/></a><!--MD5=[066b2d8af59fea80ccdb3d54ad5c1091]\n",
       "link E13 to E5--><a href=\"psysml:1d6f62f5-9885-441d-bead-3e38c1577759\" target=\"_top\" title=\"psysml:1d6f62f5-9885-441d-bead-3e38c1577759\" xlink:actuate=\"onRequest\" xlink:href=\"psysml:1d6f62f5-9885-441d-bead-3e38c1577759\" xlink:show=\"new\" xlink:title=\"psysml:1d6f62f5-9885-441d-bead-3e38c1577759\" xlink:type=\"simple\"><path d=\"M85.62,130.09 C100.57,146.94 121.44,170.44 138.56,189.72 \" fill=\"none\" id=\"E13-&gt;E5\" style=\"stroke: #A80036; stroke-width: 1.0;\"/><polygon fill=\"#FFFFFF\" points=\"151.85,204.69,133.9986,195.1334,144.4657,185.836,151.85,204.69\" style=\"stroke: #A80036; stroke-width: 1.0;\"/><ellipse cx=\"131.7086\" cy=\"189.5436\" fill=\"#A80036\" rx=\"2\" ry=\"2\" style=\"stroke: #A80036; stroke-width: 1.0;\"/><ellipse cx=\"139.185\" cy=\"182.9027\" fill=\"#A80036\" rx=\"2\" ry=\"2\" style=\"stroke: #A80036; stroke-width: 1.0;\"/></a><!--MD5=[970b7efcd0a81d569ed523d5dbdbe222]\n",
       "@startuml\r\n",
       " \r\n",
       "package \"CircularImport\" as E1  [[psysml:6a62b0bb-ce07-42d9-b06f-c19bd22a93a2 ]]  {\r\n",
       "package \"P1\" as E2  [[psysml:e5793e48-aebf-4c77-9b1c-634d316c370a ]]  {\r\n",
       "comp def \"A\" as E3  << (B,green) >> [[psysml:4745677c-bede-4ab8-acdc-4365dad759bc ]] {\r\n",
       "}\r\n",
       "}\r\n",
       "package \"P2\" as E4  [[psysml:9f128572-3fea-4fc4-b18b-c92f97cc0f0b ]]  {\r\n",
       "comp def \"B\" as E5  << (B,green) >> [[psysml:a455b6ac-bbc4-40c1-9da4-354e9f8fdc46 ]] {\r\n",
       "}\r\n",
       "}\r\n",
       "package \"Test1\" as E6  [[psysml:6c517ad3-81f8-4503-b234-41386708eb5e ]]  {\r\n",
       "comp usage \"x: A\" as E7  << (P,limegreen) part>> [[psysml:6b7db59d-d003-4043-9508-3fd9ac781eff ]] {\r\n",
       "}\r\n",
       "comp usage \"y: B\" as E8  << (P,limegreen) part>> [[psysml:6c414e1f-4fb5-42fd-83aa-c158d2fbc464 ]] {\r\n",
       "}\r\n",
       "E7 - -:|> E3 [[psysml:85e1ff22-6346-4a23-846d-dc1a236203c0 ]] \r\n",
       "E8 - -:|> E5 [[psysml:483adec0-2d55-41ba-876c-1b8fe7d429ab ]] \r\n",
       "}\r\n",
       "package \"Test2\" as E9  [[psysml:81951965-8d4b-42c4-ba21-4255f6488007 ]]  {\r\n",
       "comp usage \"x: A\" as E10  << (P,limegreen) part>> [[psysml:797261aa-a958-4475-9de3-b139176b10fb ]] {\r\n",
       "}\r\n",
       "comp usage \"y: B\" as E11  << (P,limegreen) part>> [[psysml:3825b43b-bb71-4033-970e-c8c9e00cfd14 ]] {\r\n",
       "}\r\n",
       "E10 - -:|> E3 [[psysml:0e238847-8a3c-4f4a-a4c7-c4eca45a31b2 ]] \r\n",
       "E11 - -:|> E5 [[psysml:1112046b-9823-4ab2-8a83-96247ffb9742 ]] \r\n",
       "}\r\n",
       "comp usage \"x: A\" as E12  << (P,limegreen) part>> [[psysml:e16c4bbb-61f3-4b61-a2b5-b03e29e494af ]] {\r\n",
       "}\r\n",
       "comp usage \"y: B\" as E13  << (P,limegreen) part>> [[psysml:6a814915-eeda-4c4d-8e98-a86878ae1f3d ]] {\r\n",
       "}\r\n",
       "E12 - -:|> E3 [[psysml:ee0d4e1c-50f8-4d3c-8a56-5035ed7c5f53 ]] \r\n",
       "E13 - -:|> E5 [[psysml:1d6f62f5-9885-441d-bead-3e38c1577759 ]] \r\n",
       "}\r\n",
       "@enduml\r\n",
       "\n",
       "PlantUML version 1.2020.13(Sat Jun 13 12:26:38 UTC 2020)\n",
       "(EPL source distribution)\n",
       "Java Runtime: OpenJDK Runtime Environment\n",
       "JVM: OpenJDK 64-Bit Server VM\n",
       "Default Encoding: UTF-8\n",
       "Language: en\n",
       "Country: null\n",
       "--></g></svg>"
      ]
     },
     "execution_count": 35,
     "metadata": {},
     "output_type": "execute_result"
    }
   ],
   "source": [
    "%viz --style=\"PLANTUML\" --view=\"Sequence\" \"CircularImport\""
   ]
  },
  {
   "cell_type": "code",
   "execution_count": 36,
   "id": "textile-sense",
   "metadata": {
    "execution": {
     "iopub.execute_input": "2021-03-25T13:13:21.992305Z",
     "iopub.status.busy": "2021-03-25T13:13:21.991795Z",
     "iopub.status.idle": "2021-03-25T13:13:22.086238Z",
     "shell.execute_reply": "2021-03-25T13:13:22.085673Z"
    }
   },
   "outputs": [
    {
     "data": {
      "image/svg+xml": [
       "<?xml version=\"1.0\" encoding=\"UTF-8\" standalone=\"no\"?><svg xmlns=\"http://www.w3.org/2000/svg\" xmlns:xlink=\"http://www.w3.org/1999/xlink\" contentScriptType=\"application/ecmascript\" contentStyleType=\"text/css\" height=\"297px\" preserveAspectRatio=\"none\" style=\"width:674px;height:297px;\" version=\"1.1\" viewBox=\"0 0 674 297\" width=\"674px\" zoomAndPan=\"magnify\"><defs><filter height=\"300%\" id=\"fnp6fuk4gpz11\" width=\"300%\" x=\"-1\" y=\"-1\"><feGaussianBlur result=\"blurOut\" stdDeviation=\"2.0\"/><feColorMatrix in=\"blurOut\" result=\"blurOut2\" type=\"matrix\" values=\"0 0 0 0 0 0 0 0 0 0 0 0 0 0 0 0 0 0 .4 0\"/><feOffset dx=\"4.0\" dy=\"4.0\" in=\"blurOut2\" result=\"blurOut3\"/><feBlend in=\"SourceGraphic\" in2=\"blurOut3\" mode=\"normal\"/></filter></defs><g><!--MD5=[fbc87193dbaf4d95561dea2c320d4a47]\n",
       "cluster E1--><a href=\"psysml:6a62b0bb-ce07-42d9-b06f-c19bd22a93a2\" target=\"_top\" title=\"psysml:6a62b0bb-ce07-42d9-b06f-c19bd22a93a2\" xlink:actuate=\"onRequest\" xlink:href=\"psysml:6a62b0bb-ce07-42d9-b06f-c19bd22a93a2\" xlink:show=\"new\" xlink:title=\"psysml:6a62b0bb-ce07-42d9-b06f-c19bd22a93a2\" xlink:type=\"simple\"><polygon fill=\"#FFFFFF\" filter=\"url(#fnp6fuk4gpz11)\" points=\"16,6,134,6,141,28.2969,652,28.2969,652,285,16,285,16,6\" style=\"stroke: #000000; stroke-width: 1.5;\"/><line style=\"stroke: #000000; stroke-width: 1.5;\" x1=\"16\" x2=\"141\" y1=\"28.2969\" y2=\"28.2969\"/><text fill=\"#000000\" font-family=\"sans-serif\" font-size=\"14\" font-weight=\"bold\" lengthAdjust=\"spacingAndGlyphs\" textLength=\"112\" x=\"20\" y=\"20.9951\">CircularImport</text></a><!--MD5=[e4f7fae6ed58524ba242bb0b0d3be6b7]\n",
       "cluster E2--><a href=\"psysml:e5793e48-aebf-4c77-9b1c-634d316c370a\" target=\"_top\" title=\"psysml:e5793e48-aebf-4c77-9b1c-634d316c370a\" xlink:actuate=\"onRequest\" xlink:href=\"psysml:e5793e48-aebf-4c77-9b1c-634d316c370a\" xlink:show=\"new\" xlink:title=\"psysml:e5793e48-aebf-4c77-9b1c-634d316c370a\" xlink:type=\"simple\"><polygon fill=\"#FFFFFF\" filter=\"url(#fnp6fuk4gpz11)\" points=\"463,170,489,170,496,192.2969,535,192.2969,535,261,463,261,463,170\" style=\"stroke: #000000; stroke-width: 1.5;\"/><line style=\"stroke: #000000; stroke-width: 1.5;\" x1=\"463\" x2=\"496\" y1=\"192.2969\" y2=\"192.2969\"/><text fill=\"#000000\" font-family=\"sans-serif\" font-size=\"14\" font-weight=\"bold\" lengthAdjust=\"spacingAndGlyphs\" textLength=\"20\" x=\"467\" y=\"184.9951\">P1</text></a><!--MD5=[f6df4d0ebaf0b5dfb2ced0ae5af7c670]\n",
       "cluster E4--><a href=\"psysml:9f128572-3fea-4fc4-b18b-c92f97cc0f0b\" target=\"_top\" title=\"psysml:9f128572-3fea-4fc4-b18b-c92f97cc0f0b\" xlink:actuate=\"onRequest\" xlink:href=\"psysml:9f128572-3fea-4fc4-b18b-c92f97cc0f0b\" xlink:show=\"new\" xlink:title=\"psysml:9f128572-3fea-4fc4-b18b-c92f97cc0f0b\" xlink:type=\"simple\"><polygon fill=\"#FFFFFF\" filter=\"url(#fnp6fuk4gpz11)\" points=\"133,170,159,170,166,192.2969,205,192.2969,205,261,133,261,133,170\" style=\"stroke: #000000; stroke-width: 1.5;\"/><line style=\"stroke: #000000; stroke-width: 1.5;\" x1=\"133\" x2=\"166\" y1=\"192.2969\" y2=\"192.2969\"/><text fill=\"#000000\" font-family=\"sans-serif\" font-size=\"14\" font-weight=\"bold\" lengthAdjust=\"spacingAndGlyphs\" textLength=\"20\" x=\"137\" y=\"184.9951\">P2</text></a><!--MD5=[14e3b0961a2654348d326746436168a1]\n",
       "cluster E6--><a href=\"psysml:6c517ad3-81f8-4503-b234-41386708eb5e\" target=\"_top\" title=\"psysml:6c517ad3-81f8-4503-b234-41386708eb5e\" xlink:actuate=\"onRequest\" xlink:href=\"psysml:6c517ad3-81f8-4503-b234-41386708eb5e\" xlink:show=\"new\" xlink:title=\"psysml:6c517ad3-81f8-4503-b234-41386708eb5e\" xlink:type=\"simple\"><polygon fill=\"#FFFFFF\" filter=\"url(#fnp6fuk4gpz11)\" points=\"346,49,397,49,404,71.2969,549,71.2969,549,146,346,146,346,49\" style=\"stroke: #000000; stroke-width: 1.5;\"/><line style=\"stroke: #000000; stroke-width: 1.5;\" x1=\"346\" x2=\"404\" y1=\"71.2969\" y2=\"71.2969\"/><text fill=\"#000000\" font-family=\"sans-serif\" font-size=\"14\" font-weight=\"bold\" lengthAdjust=\"spacingAndGlyphs\" textLength=\"45\" x=\"350\" y=\"63.9951\">Test1</text></a><!--MD5=[7f149f147074ac12df2cb0a7728a5fb0]\n",
       "cluster E9--><a href=\"psysml:81951965-8d4b-42c4-ba21-4255f6488007\" target=\"_top\" title=\"psysml:81951965-8d4b-42c4-ba21-4255f6488007\" xlink:actuate=\"onRequest\" xlink:href=\"psysml:81951965-8d4b-42c4-ba21-4255f6488007\" xlink:show=\"new\" xlink:title=\"psysml:81951965-8d4b-42c4-ba21-4255f6488007\" xlink:type=\"simple\"><polygon fill=\"#FFFFFF\" filter=\"url(#fnp6fuk4gpz11)\" points=\"119,49,170,49,177,71.2969,322,71.2969,322,146,119,146,119,49\" style=\"stroke: #000000; stroke-width: 1.5;\"/><line style=\"stroke: #000000; stroke-width: 1.5;\" x1=\"119\" x2=\"177\" y1=\"71.2969\" y2=\"71.2969\"/><text fill=\"#000000\" font-family=\"sans-serif\" font-size=\"14\" font-weight=\"bold\" lengthAdjust=\"spacingAndGlyphs\" textLength=\"45\" x=\"123\" y=\"63.9951\">Test2</text></a><!--MD5=[49a0ec8f00dab7302a31f22d0f0fe584]\n",
       "class E12--><a href=\"psysml:e16c4bbb-61f3-4b61-a2b5-b03e29e494af\" target=\"_top\" title=\"psysml:e16c4bbb-61f3-4b61-a2b5-b03e29e494af\" xlink:actuate=\"onRequest\" xlink:href=\"psysml:e16c4bbb-61f3-4b61-a2b5-b03e29e494af\" xlink:show=\"new\" xlink:title=\"psysml:e16c4bbb-61f3-4b61-a2b5-b03e29e494af\" xlink:type=\"simple\"><rect fill=\"#FEFECE\" filter=\"url(#fnp6fuk4gpz11)\" height=\"45.9375\" id=\"E12\" rx=\"10\" ry=\"10\" style=\"stroke: #A80036; stroke-width: 1.5;\" width=\"68\" x=\"568\" y=\"84\"/><ellipse cx=\"583\" cy=\"102.9688\" fill=\"#32CD32\" rx=\"11\" ry=\"11\" style=\"stroke: #A80036; stroke-width: 1.0;\"/><path d=\"M582.7969,98.6406 L582.7969,102.2656 L583.7969,102.2656 Q585,102.2656 585.4844,101.8594 Q585.9688,101.4531 585.9688,100.4531 Q585.9688,99.4531 585.4844,99.0469 Q585,98.6406 583.7969,98.6406 L582.7969,98.6406 Z M580.3438,96.5781 L583.7031,96.5781 Q586.2656,96.5781 587.3906,97.5 Q588.5156,98.4063 588.5156,100.4531 Q588.5156,102.5 587.3906,103.4219 Q586.2656,104.3281 583.7031,104.3281 L582.7969,104.3281 L582.7969,108.9688 L580.3438,108.9688 L580.3438,96.5781 Z \"/><text fill=\"#000000\" font-family=\"sans-serif\" font-size=\"12\" font-style=\"italic\" lengthAdjust=\"spacingAndGlyphs\" textLength=\"40\" x=\"595\" y=\"100.1387\">«part»</text><text fill=\"#000000\" font-family=\"sans-serif\" font-size=\"12\" lengthAdjust=\"spacingAndGlyphs\" textLength=\"22\" x=\"604\" y=\"114.1074\">x: A</text><line style=\"stroke: #A80036; stroke-width: 1.5;\" x1=\"569\" x2=\"635\" y1=\"121.9375\" y2=\"121.9375\"/></a><!--MD5=[ee3c913d1a06f366521f9ef512b67efe]\n",
       "class E13--><a href=\"psysml:6a814915-eeda-4c4d-8e98-a86878ae1f3d\" target=\"_top\" title=\"psysml:6a814915-eeda-4c4d-8e98-a86878ae1f3d\" xlink:actuate=\"onRequest\" xlink:href=\"psysml:6a814915-eeda-4c4d-8e98-a86878ae1f3d\" xlink:show=\"new\" xlink:title=\"psysml:6a814915-eeda-4c4d-8e98-a86878ae1f3d\" xlink:type=\"simple\"><rect fill=\"#FEFECE\" filter=\"url(#fnp6fuk4gpz11)\" height=\"45.9375\" id=\"E13\" rx=\"10\" ry=\"10\" style=\"stroke: #A80036; stroke-width: 1.5;\" width=\"68\" x=\"32\" y=\"84\"/><ellipse cx=\"47\" cy=\"102.9688\" fill=\"#32CD32\" rx=\"11\" ry=\"11\" style=\"stroke: #A80036; stroke-width: 1.0;\"/><path d=\"M46.7969,98.6406 L46.7969,102.2656 L47.7969,102.2656 Q49,102.2656 49.4844,101.8594 Q49.9688,101.4531 49.9688,100.4531 Q49.9688,99.4531 49.4844,99.0469 Q49,98.6406 47.7969,98.6406 L46.7969,98.6406 Z M44.3438,96.5781 L47.7031,96.5781 Q50.2656,96.5781 51.3906,97.5 Q52.5156,98.4063 52.5156,100.4531 Q52.5156,102.5 51.3906,103.4219 Q50.2656,104.3281 47.7031,104.3281 L46.7969,104.3281 L46.7969,108.9688 L44.3438,108.9688 L44.3438,96.5781 Z \"/><text fill=\"#000000\" font-family=\"sans-serif\" font-size=\"12\" font-style=\"italic\" lengthAdjust=\"spacingAndGlyphs\" textLength=\"40\" x=\"59\" y=\"100.1387\">«part»</text><text fill=\"#000000\" font-family=\"sans-serif\" font-size=\"12\" lengthAdjust=\"spacingAndGlyphs\" textLength=\"22\" x=\"68\" y=\"114.1074\">y: B</text><line style=\"stroke: #A80036; stroke-width: 1.5;\" x1=\"33\" x2=\"99\" y1=\"121.9375\" y2=\"121.9375\"/></a><!--MD5=[09b614a08d8cba4a07c9adeb5e0fee81]\n",
       "class E3--><a href=\"psysml:4745677c-bede-4ab8-acdc-4365dad759bc\" target=\"_top\" title=\"psysml:4745677c-bede-4ab8-acdc-4365dad759bc\" xlink:actuate=\"onRequest\" xlink:href=\"psysml:4745677c-bede-4ab8-acdc-4365dad759bc\" xlink:show=\"new\" xlink:title=\"psysml:4745677c-bede-4ab8-acdc-4365dad759bc\" xlink:type=\"simple\"><rect fill=\"#FEFECE\" filter=\"url(#fnp6fuk4gpz11)\" height=\"40\" id=\"E3\" style=\"stroke: #A80036; stroke-width: 1.5;\" width=\"40\" x=\"479\" y=\"205\"/><ellipse cx=\"494\" cy=\"221\" fill=\"#008000\" rx=\"11\" ry=\"11\" style=\"stroke: #A80036; stroke-width: 1.0;\"/><path d=\"M492.9063,221.375 L492.9063,225.0469 L494.5313,225.0469 Q495.7031,225.0469 496.1719,224.6563 Q496.6406,224.25 496.6406,223.25 Q496.6406,222.25 496.1406,221.8125 Q495.6563,221.375 494.5313,221.375 L492.9063,221.375 Z M492.9063,216.5469 L492.9063,219.4219 L494.5313,219.4219 Q495.4531,219.4219 495.8438,219.0938 Q496.25,218.75 496.25,218 Q496.25,217.2344 495.8438,216.8906 Q495.4375,216.5469 494.5313,216.5469 L492.9063,216.5469 Z M490.5313,214.5938 L494.5313,214.5938 Q496.5938,214.5938 497.6406,215.375 Q498.6875,216.1563 498.6875,217.7188 Q498.6875,218.9219 498.0625,219.5938 Q497.4531,220.2656 496.2656,220.375 Q497.6875,220.5156 498.4063,221.3281 Q499.125,222.1406 499.125,223.5938 Q499.125,225.3906 498.0469,226.2031 Q496.9688,227 494.5313,227 L490.5313,227 L490.5313,214.5938 Z \"/><text fill=\"#000000\" font-family=\"sans-serif\" font-size=\"12\" lengthAdjust=\"spacingAndGlyphs\" textLength=\"8\" x=\"508\" y=\"225.1543\">A</text><line style=\"stroke: #A80036; stroke-width: 1.5;\" x1=\"480\" x2=\"518\" y1=\"237\" y2=\"237\"/></a><!--MD5=[270fce915f116d4de14055a7c1d9a0f3]\n",
       "class E5--><a href=\"psysml:a455b6ac-bbc4-40c1-9da4-354e9f8fdc46\" target=\"_top\" title=\"psysml:a455b6ac-bbc4-40c1-9da4-354e9f8fdc46\" xlink:actuate=\"onRequest\" xlink:href=\"psysml:a455b6ac-bbc4-40c1-9da4-354e9f8fdc46\" xlink:show=\"new\" xlink:title=\"psysml:a455b6ac-bbc4-40c1-9da4-354e9f8fdc46\" xlink:type=\"simple\"><rect fill=\"#FEFECE\" filter=\"url(#fnp6fuk4gpz11)\" height=\"40\" id=\"E5\" style=\"stroke: #A80036; stroke-width: 1.5;\" width=\"40\" x=\"149\" y=\"205\"/><ellipse cx=\"164\" cy=\"221\" fill=\"#008000\" rx=\"11\" ry=\"11\" style=\"stroke: #A80036; stroke-width: 1.0;\"/><path d=\"M162.9063,221.375 L162.9063,225.0469 L164.5313,225.0469 Q165.7031,225.0469 166.1719,224.6563 Q166.6406,224.25 166.6406,223.25 Q166.6406,222.25 166.1406,221.8125 Q165.6563,221.375 164.5313,221.375 L162.9063,221.375 Z M162.9063,216.5469 L162.9063,219.4219 L164.5313,219.4219 Q165.4531,219.4219 165.8438,219.0938 Q166.25,218.75 166.25,218 Q166.25,217.2344 165.8438,216.8906 Q165.4375,216.5469 164.5313,216.5469 L162.9063,216.5469 Z M160.5313,214.5938 L164.5313,214.5938 Q166.5938,214.5938 167.6406,215.375 Q168.6875,216.1563 168.6875,217.7188 Q168.6875,218.9219 168.0625,219.5938 Q167.4531,220.2656 166.2656,220.375 Q167.6875,220.5156 168.4063,221.3281 Q169.125,222.1406 169.125,223.5938 Q169.125,225.3906 168.0469,226.2031 Q166.9688,227 164.5313,227 L160.5313,227 L160.5313,214.5938 Z \"/><text fill=\"#000000\" font-family=\"sans-serif\" font-size=\"12\" lengthAdjust=\"spacingAndGlyphs\" textLength=\"8\" x=\"178\" y=\"225.1543\">B</text><line style=\"stroke: #A80036; stroke-width: 1.5;\" x1=\"150\" x2=\"188\" y1=\"237\" y2=\"237\"/></a><!--MD5=[2156ba9850f5573cc1fc38a6a4b2f02b]\n",
       "class E7--><a href=\"psysml:6b7db59d-d003-4043-9508-3fd9ac781eff\" target=\"_top\" title=\"psysml:6b7db59d-d003-4043-9508-3fd9ac781eff\" xlink:actuate=\"onRequest\" xlink:href=\"psysml:6b7db59d-d003-4043-9508-3fd9ac781eff\" xlink:show=\"new\" xlink:title=\"psysml:6b7db59d-d003-4043-9508-3fd9ac781eff\" xlink:type=\"simple\"><rect fill=\"#FEFECE\" filter=\"url(#fnp6fuk4gpz11)\" height=\"45.9375\" id=\"E7\" rx=\"10\" ry=\"10\" style=\"stroke: #A80036; stroke-width: 1.5;\" width=\"68\" x=\"465\" y=\"84\"/><ellipse cx=\"480\" cy=\"102.9688\" fill=\"#32CD32\" rx=\"11\" ry=\"11\" style=\"stroke: #A80036; stroke-width: 1.0;\"/><path d=\"M479.7969,98.6406 L479.7969,102.2656 L480.7969,102.2656 Q482,102.2656 482.4844,101.8594 Q482.9688,101.4531 482.9688,100.4531 Q482.9688,99.4531 482.4844,99.0469 Q482,98.6406 480.7969,98.6406 L479.7969,98.6406 Z M477.3438,96.5781 L480.7031,96.5781 Q483.2656,96.5781 484.3906,97.5 Q485.5156,98.4063 485.5156,100.4531 Q485.5156,102.5 484.3906,103.4219 Q483.2656,104.3281 480.7031,104.3281 L479.7969,104.3281 L479.7969,108.9688 L477.3438,108.9688 L477.3438,96.5781 Z \"/><text fill=\"#000000\" font-family=\"sans-serif\" font-size=\"12\" font-style=\"italic\" lengthAdjust=\"spacingAndGlyphs\" textLength=\"40\" x=\"492\" y=\"100.1387\">«part»</text><text fill=\"#000000\" font-family=\"sans-serif\" font-size=\"12\" lengthAdjust=\"spacingAndGlyphs\" textLength=\"22\" x=\"501\" y=\"114.1074\">x: A</text><line style=\"stroke: #A80036; stroke-width: 1.5;\" x1=\"466\" x2=\"532\" y1=\"121.9375\" y2=\"121.9375\"/></a><!--MD5=[b9389687b975829384b498ac4b7476b2]\n",
       "class E8--><a href=\"psysml:6c414e1f-4fb5-42fd-83aa-c158d2fbc464\" target=\"_top\" title=\"psysml:6c414e1f-4fb5-42fd-83aa-c158d2fbc464\" xlink:actuate=\"onRequest\" xlink:href=\"psysml:6c414e1f-4fb5-42fd-83aa-c158d2fbc464\" xlink:show=\"new\" xlink:title=\"psysml:6c414e1f-4fb5-42fd-83aa-c158d2fbc464\" xlink:type=\"simple\"><rect fill=\"#FEFECE\" filter=\"url(#fnp6fuk4gpz11)\" height=\"45.9375\" id=\"E8\" rx=\"10\" ry=\"10\" style=\"stroke: #A80036; stroke-width: 1.5;\" width=\"68\" x=\"362\" y=\"84\"/><ellipse cx=\"377\" cy=\"102.9688\" fill=\"#32CD32\" rx=\"11\" ry=\"11\" style=\"stroke: #A80036; stroke-width: 1.0;\"/><path d=\"M376.7969,98.6406 L376.7969,102.2656 L377.7969,102.2656 Q379,102.2656 379.4844,101.8594 Q379.9688,101.4531 379.9688,100.4531 Q379.9688,99.4531 379.4844,99.0469 Q379,98.6406 377.7969,98.6406 L376.7969,98.6406 Z M374.3438,96.5781 L377.7031,96.5781 Q380.2656,96.5781 381.3906,97.5 Q382.5156,98.4063 382.5156,100.4531 Q382.5156,102.5 381.3906,103.4219 Q380.2656,104.3281 377.7031,104.3281 L376.7969,104.3281 L376.7969,108.9688 L374.3438,108.9688 L374.3438,96.5781 Z \"/><text fill=\"#000000\" font-family=\"sans-serif\" font-size=\"12\" font-style=\"italic\" lengthAdjust=\"spacingAndGlyphs\" textLength=\"40\" x=\"389\" y=\"100.1387\">«part»</text><text fill=\"#000000\" font-family=\"sans-serif\" font-size=\"12\" lengthAdjust=\"spacingAndGlyphs\" textLength=\"22\" x=\"398\" y=\"114.1074\">y: B</text><line style=\"stroke: #A80036; stroke-width: 1.5;\" x1=\"363\" x2=\"429\" y1=\"121.9375\" y2=\"121.9375\"/></a><!--MD5=[96f4274e9e20536e775497830990834d]\n",
       "class E10--><a href=\"psysml:797261aa-a958-4475-9de3-b139176b10fb\" target=\"_top\" title=\"psysml:797261aa-a958-4475-9de3-b139176b10fb\" xlink:actuate=\"onRequest\" xlink:href=\"psysml:797261aa-a958-4475-9de3-b139176b10fb\" xlink:show=\"new\" xlink:title=\"psysml:797261aa-a958-4475-9de3-b139176b10fb\" xlink:type=\"simple\"><rect fill=\"#FEFECE\" filter=\"url(#fnp6fuk4gpz11)\" height=\"45.9375\" id=\"E10\" rx=\"10\" ry=\"10\" style=\"stroke: #A80036; stroke-width: 1.5;\" width=\"68\" x=\"238\" y=\"84\"/><ellipse cx=\"253\" cy=\"102.9688\" fill=\"#32CD32\" rx=\"11\" ry=\"11\" style=\"stroke: #A80036; stroke-width: 1.0;\"/><path d=\"M252.7969,98.6406 L252.7969,102.2656 L253.7969,102.2656 Q255,102.2656 255.4844,101.8594 Q255.9688,101.4531 255.9688,100.4531 Q255.9688,99.4531 255.4844,99.0469 Q255,98.6406 253.7969,98.6406 L252.7969,98.6406 Z M250.3438,96.5781 L253.7031,96.5781 Q256.2656,96.5781 257.3906,97.5 Q258.5156,98.4063 258.5156,100.4531 Q258.5156,102.5 257.3906,103.4219 Q256.2656,104.3281 253.7031,104.3281 L252.7969,104.3281 L252.7969,108.9688 L250.3438,108.9688 L250.3438,96.5781 Z \"/><text fill=\"#000000\" font-family=\"sans-serif\" font-size=\"12\" font-style=\"italic\" lengthAdjust=\"spacingAndGlyphs\" textLength=\"40\" x=\"265\" y=\"100.1387\">«part»</text><text fill=\"#000000\" font-family=\"sans-serif\" font-size=\"12\" lengthAdjust=\"spacingAndGlyphs\" textLength=\"22\" x=\"274\" y=\"114.1074\">x: A</text><line style=\"stroke: #A80036; stroke-width: 1.5;\" x1=\"239\" x2=\"305\" y1=\"121.9375\" y2=\"121.9375\"/></a><!--MD5=[1dd1bfd58a279cf63c5f349dbc8fc6a1]\n",
       "class E11--><a href=\"psysml:3825b43b-bb71-4033-970e-c8c9e00cfd14\" target=\"_top\" title=\"psysml:3825b43b-bb71-4033-970e-c8c9e00cfd14\" xlink:actuate=\"onRequest\" xlink:href=\"psysml:3825b43b-bb71-4033-970e-c8c9e00cfd14\" xlink:show=\"new\" xlink:title=\"psysml:3825b43b-bb71-4033-970e-c8c9e00cfd14\" xlink:type=\"simple\"><rect fill=\"#FEFECE\" filter=\"url(#fnp6fuk4gpz11)\" height=\"45.9375\" id=\"E11\" rx=\"10\" ry=\"10\" style=\"stroke: #A80036; stroke-width: 1.5;\" width=\"68\" x=\"135\" y=\"84\"/><ellipse cx=\"150\" cy=\"102.9688\" fill=\"#32CD32\" rx=\"11\" ry=\"11\" style=\"stroke: #A80036; stroke-width: 1.0;\"/><path d=\"M149.7969,98.6406 L149.7969,102.2656 L150.7969,102.2656 Q152,102.2656 152.4844,101.8594 Q152.9688,101.4531 152.9688,100.4531 Q152.9688,99.4531 152.4844,99.0469 Q152,98.6406 150.7969,98.6406 L149.7969,98.6406 Z M147.3438,96.5781 L150.7031,96.5781 Q153.2656,96.5781 154.3906,97.5 Q155.5156,98.4063 155.5156,100.4531 Q155.5156,102.5 154.3906,103.4219 Q153.2656,104.3281 150.7031,104.3281 L149.7969,104.3281 L149.7969,108.9688 L147.3438,108.9688 L147.3438,96.5781 Z \"/><text fill=\"#000000\" font-family=\"sans-serif\" font-size=\"12\" font-style=\"italic\" lengthAdjust=\"spacingAndGlyphs\" textLength=\"40\" x=\"162\" y=\"100.1387\">«part»</text><text fill=\"#000000\" font-family=\"sans-serif\" font-size=\"12\" lengthAdjust=\"spacingAndGlyphs\" textLength=\"22\" x=\"171\" y=\"114.1074\">y: B</text><line style=\"stroke: #A80036; stroke-width: 1.5;\" x1=\"136\" x2=\"202\" y1=\"121.9375\" y2=\"121.9375\"/></a><!--MD5=[14ccda38c055a5c0da953d572bc50960]\n",
       "link E7 to E3--><a href=\"psysml:85e1ff22-6346-4a23-846d-dc1a236203c0\" target=\"_top\" title=\"psysml:85e1ff22-6346-4a23-846d-dc1a236203c0\" xlink:actuate=\"onRequest\" xlink:href=\"psysml:85e1ff22-6346-4a23-846d-dc1a236203c0\" xlink:show=\"new\" xlink:title=\"psysml:85e1ff22-6346-4a23-846d-dc1a236203c0\" xlink:type=\"simple\"><path d=\"M499,130.09 C499,145.42 499,166.27 499,184.42 \" fill=\"none\" id=\"E7-&gt;E3\" style=\"stroke: #A80036; stroke-width: 1.0;\"/><polygon fill=\"#FFFFFF\" points=\"499,204.69,492,185.69,506,185.69,499,204.69\" style=\"stroke: #A80036; stroke-width: 1.0;\"/><ellipse cx=\"494\" cy=\"179.99\" fill=\"#A80036\" rx=\"2\" ry=\"2\" style=\"stroke: #A80036; stroke-width: 1.0;\"/><ellipse cx=\"504\" cy=\"179.99\" fill=\"#A80036\" rx=\"2\" ry=\"2\" style=\"stroke: #A80036; stroke-width: 1.0;\"/></a><!--MD5=[1ccb2481ffa92f8d51a74ee30c51832a]\n",
       "link E8 to E5--><a href=\"psysml:483adec0-2d55-41ba-876c-1b8fe7d429ab\" target=\"_top\" title=\"psysml:483adec0-2d55-41ba-876c-1b8fe7d429ab\" xlink:actuate=\"onRequest\" xlink:href=\"psysml:483adec0-2d55-41ba-876c-1b8fe7d429ab\" xlink:show=\"new\" xlink:title=\"psysml:483adec0-2d55-41ba-876c-1b8fe7d429ab\" xlink:type=\"simple\"><path d=\"M362.27,130.22 C349.82,138.09 335.46,146.77 322,154 C284.18,174.3 239.36,194.36 208.05,207.77 \" fill=\"none\" id=\"E8-&gt;E5\" style=\"stroke: #A80036; stroke-width: 1.0;\"/><polygon fill=\"#FFFFFF\" points=\"189.2,215.73,203.9741,201.8834,209.4261,214.7782,189.2,215.73\" style=\"stroke: #A80036; stroke-width: 1.0;\"/><ellipse cx=\"210.0029\" cy=\"201.5058\" fill=\"#A80036\" rx=\"2\" ry=\"2\" style=\"stroke: #A80036; stroke-width: 1.0;\"/><ellipse cx=\"213.8972\" cy=\"210.7164\" fill=\"#A80036\" rx=\"2\" ry=\"2\" style=\"stroke: #A80036; stroke-width: 1.0;\"/></a><!--MD5=[feeac5eb423634930294aa81f2d25a4c]\n",
       "link E10 to E3--><a href=\"psysml:0e238847-8a3c-4f4a-a4c7-c4eca45a31b2\" target=\"_top\" title=\"psysml:0e238847-8a3c-4f4a-a4c7-c4eca45a31b2\" xlink:actuate=\"onRequest\" xlink:href=\"psysml:0e238847-8a3c-4f4a-a4c7-c4eca45a31b2\" xlink:show=\"new\" xlink:title=\"psysml:0e238847-8a3c-4f4a-a4c7-c4eca45a31b2\" xlink:type=\"simple\"><path d=\"M305.73,130.22 C318.18,138.09 332.54,146.77 346,154 C383.82,174.3 428.64,194.36 459.95,207.77 \" fill=\"none\" id=\"E10-&gt;E3\" style=\"stroke: #A80036; stroke-width: 1.0;\"/><polygon fill=\"#FFFFFF\" points=\"478.8,215.73,458.5739,214.7782,464.0259,201.8834,478.8,215.73\" style=\"stroke: #A80036; stroke-width: 1.0;\"/><ellipse cx=\"454.1028\" cy=\"210.7164\" fill=\"#A80036\" rx=\"2\" ry=\"2\" style=\"stroke: #A80036; stroke-width: 1.0;\"/><ellipse cx=\"457.9971\" cy=\"201.5058\" fill=\"#A80036\" rx=\"2\" ry=\"2\" style=\"stroke: #A80036; stroke-width: 1.0;\"/></a><!--MD5=[07b77f6f309248d16187045709d1c26e]\n",
       "link E11 to E5--><a href=\"psysml:1112046b-9823-4ab2-8a83-96247ffb9742\" target=\"_top\" title=\"psysml:1112046b-9823-4ab2-8a83-96247ffb9742\" xlink:actuate=\"onRequest\" xlink:href=\"psysml:1112046b-9823-4ab2-8a83-96247ffb9742\" xlink:show=\"new\" xlink:title=\"psysml:1112046b-9823-4ab2-8a83-96247ffb9742\" xlink:type=\"simple\"><path d=\"M169,130.09 C169,145.42 169,166.27 169,184.42 \" fill=\"none\" id=\"E11-&gt;E5\" style=\"stroke: #A80036; stroke-width: 1.0;\"/><polygon fill=\"#FFFFFF\" points=\"169,204.69,162,185.69,176,185.69,169,204.69\" style=\"stroke: #A80036; stroke-width: 1.0;\"/><ellipse cx=\"164\" cy=\"179.99\" fill=\"#A80036\" rx=\"2\" ry=\"2\" style=\"stroke: #A80036; stroke-width: 1.0;\"/><ellipse cx=\"174\" cy=\"179.99\" fill=\"#A80036\" rx=\"2\" ry=\"2\" style=\"stroke: #A80036; stroke-width: 1.0;\"/></a><!--MD5=[39f41a0e550fb3d73b4d8135617e30a2]\n",
       "link E12 to E3--><a href=\"psysml:ee0d4e1c-50f8-4d3c-8a56-5035ed7c5f53\" target=\"_top\" title=\"psysml:ee0d4e1c-50f8-4d3c-8a56-5035ed7c5f53\" xlink:actuate=\"onRequest\" xlink:href=\"psysml:ee0d4e1c-50f8-4d3c-8a56-5035ed7c5f53\" xlink:show=\"new\" xlink:title=\"psysml:ee0d4e1c-50f8-4d3c-8a56-5035ed7c5f53\" xlink:type=\"simple\"><path d=\"M582.38,130.09 C567.43,146.94 546.56,170.44 529.44,189.72 \" fill=\"none\" id=\"E12-&gt;E3\" style=\"stroke: #A80036; stroke-width: 1.0;\"/><polygon fill=\"#FFFFFF\" points=\"516.15,204.69,523.5343,185.836,534.0014,195.1334,516.15,204.69\" style=\"stroke: #A80036; stroke-width: 1.0;\"/><ellipse cx=\"528.815\" cy=\"182.9027\" fill=\"#A80036\" rx=\"2\" ry=\"2\" style=\"stroke: #A80036; stroke-width: 1.0;\"/><ellipse cx=\"536.2914\" cy=\"189.5436\" fill=\"#A80036\" rx=\"2\" ry=\"2\" style=\"stroke: #A80036; stroke-width: 1.0;\"/></a><!--MD5=[066b2d8af59fea80ccdb3d54ad5c1091]\n",
       "link E13 to E5--><a href=\"psysml:1d6f62f5-9885-441d-bead-3e38c1577759\" target=\"_top\" title=\"psysml:1d6f62f5-9885-441d-bead-3e38c1577759\" xlink:actuate=\"onRequest\" xlink:href=\"psysml:1d6f62f5-9885-441d-bead-3e38c1577759\" xlink:show=\"new\" xlink:title=\"psysml:1d6f62f5-9885-441d-bead-3e38c1577759\" xlink:type=\"simple\"><path d=\"M85.62,130.09 C100.57,146.94 121.44,170.44 138.56,189.72 \" fill=\"none\" id=\"E13-&gt;E5\" style=\"stroke: #A80036; stroke-width: 1.0;\"/><polygon fill=\"#FFFFFF\" points=\"151.85,204.69,133.9986,195.1334,144.4657,185.836,151.85,204.69\" style=\"stroke: #A80036; stroke-width: 1.0;\"/><ellipse cx=\"131.7086\" cy=\"189.5436\" fill=\"#A80036\" rx=\"2\" ry=\"2\" style=\"stroke: #A80036; stroke-width: 1.0;\"/><ellipse cx=\"139.185\" cy=\"182.9027\" fill=\"#A80036\" rx=\"2\" ry=\"2\" style=\"stroke: #A80036; stroke-width: 1.0;\"/></a><!--MD5=[970b7efcd0a81d569ed523d5dbdbe222]\n",
       "@startuml\r\n",
       " \r\n",
       "package \"CircularImport\" as E1  [[psysml:6a62b0bb-ce07-42d9-b06f-c19bd22a93a2 ]]  {\r\n",
       "package \"P1\" as E2  [[psysml:e5793e48-aebf-4c77-9b1c-634d316c370a ]]  {\r\n",
       "comp def \"A\" as E3  << (B,green) >> [[psysml:4745677c-bede-4ab8-acdc-4365dad759bc ]] {\r\n",
       "}\r\n",
       "}\r\n",
       "package \"P2\" as E4  [[psysml:9f128572-3fea-4fc4-b18b-c92f97cc0f0b ]]  {\r\n",
       "comp def \"B\" as E5  << (B,green) >> [[psysml:a455b6ac-bbc4-40c1-9da4-354e9f8fdc46 ]] {\r\n",
       "}\r\n",
       "}\r\n",
       "package \"Test1\" as E6  [[psysml:6c517ad3-81f8-4503-b234-41386708eb5e ]]  {\r\n",
       "comp usage \"x: A\" as E7  << (P,limegreen) part>> [[psysml:6b7db59d-d003-4043-9508-3fd9ac781eff ]] {\r\n",
       "}\r\n",
       "comp usage \"y: B\" as E8  << (P,limegreen) part>> [[psysml:6c414e1f-4fb5-42fd-83aa-c158d2fbc464 ]] {\r\n",
       "}\r\n",
       "E7 - -:|> E3 [[psysml:85e1ff22-6346-4a23-846d-dc1a236203c0 ]] \r\n",
       "E8 - -:|> E5 [[psysml:483adec0-2d55-41ba-876c-1b8fe7d429ab ]] \r\n",
       "}\r\n",
       "package \"Test2\" as E9  [[psysml:81951965-8d4b-42c4-ba21-4255f6488007 ]]  {\r\n",
       "comp usage \"x: A\" as E10  << (P,limegreen) part>> [[psysml:797261aa-a958-4475-9de3-b139176b10fb ]] {\r\n",
       "}\r\n",
       "comp usage \"y: B\" as E11  << (P,limegreen) part>> [[psysml:3825b43b-bb71-4033-970e-c8c9e00cfd14 ]] {\r\n",
       "}\r\n",
       "E10 - -:|> E3 [[psysml:0e238847-8a3c-4f4a-a4c7-c4eca45a31b2 ]] \r\n",
       "E11 - -:|> E5 [[psysml:1112046b-9823-4ab2-8a83-96247ffb9742 ]] \r\n",
       "}\r\n",
       "comp usage \"x: A\" as E12  << (P,limegreen) part>> [[psysml:e16c4bbb-61f3-4b61-a2b5-b03e29e494af ]] {\r\n",
       "}\r\n",
       "comp usage \"y: B\" as E13  << (P,limegreen) part>> [[psysml:6a814915-eeda-4c4d-8e98-a86878ae1f3d ]] {\r\n",
       "}\r\n",
       "E12 - -:|> E3 [[psysml:ee0d4e1c-50f8-4d3c-8a56-5035ed7c5f53 ]] \r\n",
       "E13 - -:|> E5 [[psysml:1d6f62f5-9885-441d-bead-3e38c1577759 ]] \r\n",
       "}\r\n",
       "@enduml\r\n",
       "\n",
       "PlantUML version 1.2020.13(Sat Jun 13 12:26:38 UTC 2020)\n",
       "(EPL source distribution)\n",
       "Java Runtime: OpenJDK Runtime Environment\n",
       "JVM: OpenJDK 64-Bit Server VM\n",
       "Default Encoding: UTF-8\n",
       "Language: en\n",
       "Country: null\n",
       "--></g></svg>"
      ]
     },
     "execution_count": 36,
     "metadata": {},
     "output_type": "execute_result"
    }
   ],
   "source": [
    "%viz --style=\"PLANTUML\" --view=\"MIXED\" \"CircularImport\""
   ]
  },
  {
   "cell_type": "code",
   "execution_count": 37,
   "id": "durable-audio",
   "metadata": {
    "execution": {
     "iopub.execute_input": "2021-03-25T13:13:22.143251Z",
     "iopub.status.busy": "2021-03-25T13:13:22.142705Z",
     "iopub.status.idle": "2021-03-25T13:13:22.239819Z",
     "shell.execute_reply": "2021-03-25T13:13:22.238065Z"
    }
   },
   "outputs": [
    {
     "data": {
      "image/svg+xml": [
       "<?xml version=\"1.0\" encoding=\"UTF-8\" standalone=\"no\"?><svg xmlns=\"http://www.w3.org/2000/svg\" xmlns:xlink=\"http://www.w3.org/1999/xlink\" contentScriptType=\"application/ecmascript\" contentStyleType=\"text/css\" height=\"303px\" preserveAspectRatio=\"none\" style=\"width:518px;height:303px;\" version=\"1.1\" viewBox=\"0 0 518 303\" width=\"518px\" zoomAndPan=\"magnify\"><defs/><g><!--MD5=[fbc87193dbaf4d95561dea2c320d4a47]\n",
       "cluster E1--><a href=\"psysml:6a62b0bb-ce07-42d9-b06f-c19bd22a93a2\" target=\"_top\" title=\"psysml:6a62b0bb-ce07-42d9-b06f-c19bd22a93a2\" xlink:actuate=\"onRequest\" xlink:href=\"psysml:6a62b0bb-ce07-42d9-b06f-c19bd22a93a2\" xlink:show=\"new\" xlink:title=\"psysml:6a62b0bb-ce07-42d9-b06f-c19bd22a93a2\" xlink:type=\"simple\"><polygon fill=\"#FFFFFF\" points=\"16,6,134,6,141,28.2969,496,28.2969,496,291,16,291,16,6\" style=\"stroke: #000000; stroke-width: 1.5;\"/><line style=\"stroke: #000000; stroke-width: 1.5;\" x1=\"16\" x2=\"141\" y1=\"28.2969\" y2=\"28.2969\"/><text fill=\"#000000\" font-family=\"sans-serif\" font-size=\"14\" font-weight=\"bold\" lengthAdjust=\"spacingAndGlyphs\" textLength=\"112\" x=\"20\" y=\"20.9951\">CircularImport</text></a><!--MD5=[e4f7fae6ed58524ba242bb0b0d3be6b7]\n",
       "cluster E2--><a href=\"psysml:e5793e48-aebf-4c77-9b1c-634d316c370a\" target=\"_top\" title=\"psysml:e5793e48-aebf-4c77-9b1c-634d316c370a\" xlink:actuate=\"onRequest\" xlink:href=\"psysml:e5793e48-aebf-4c77-9b1c-634d316c370a\" xlink:show=\"new\" xlink:title=\"psysml:e5793e48-aebf-4c77-9b1c-634d316c370a\" xlink:type=\"simple\"><polygon fill=\"#FFFFFF\" points=\"333,170,359,170,366,192.2969,431,192.2969,431,267,333,267,333,170\" style=\"stroke: #000000; stroke-width: 1.5;\"/><line style=\"stroke: #000000; stroke-width: 1.5;\" x1=\"333\" x2=\"366\" y1=\"192.2969\" y2=\"192.2969\"/><text fill=\"#000000\" font-family=\"sans-serif\" font-size=\"14\" font-weight=\"bold\" lengthAdjust=\"spacingAndGlyphs\" textLength=\"20\" x=\"337\" y=\"184.9951\">P1</text></a><!--MD5=[f6df4d0ebaf0b5dfb2ced0ae5af7c670]\n",
       "cluster E4--><a href=\"psysml:9f128572-3fea-4fc4-b18b-c92f97cc0f0b\" target=\"_top\" title=\"psysml:9f128572-3fea-4fc4-b18b-c92f97cc0f0b\" xlink:actuate=\"onRequest\" xlink:href=\"psysml:9f128572-3fea-4fc4-b18b-c92f97cc0f0b\" xlink:show=\"new\" xlink:title=\"psysml:9f128572-3fea-4fc4-b18b-c92f97cc0f0b\" xlink:type=\"simple\"><polygon fill=\"#FFFFFF\" points=\"81,170,107,170,114,192.2969,179,192.2969,179,267,81,267,81,170\" style=\"stroke: #000000; stroke-width: 1.5;\"/><line style=\"stroke: #000000; stroke-width: 1.5;\" x1=\"81\" x2=\"114\" y1=\"192.2969\" y2=\"192.2969\"/><text fill=\"#000000\" font-family=\"sans-serif\" font-size=\"14\" font-weight=\"bold\" lengthAdjust=\"spacingAndGlyphs\" textLength=\"20\" x=\"85\" y=\"184.9951\">P2</text></a><!--MD5=[14e3b0961a2654348d326746436168a1]\n",
       "cluster E6--><a href=\"psysml:6c517ad3-81f8-4503-b234-41386708eb5e\" target=\"_top\" title=\"psysml:6c517ad3-81f8-4503-b234-41386708eb5e\" xlink:actuate=\"onRequest\" xlink:href=\"psysml:6c517ad3-81f8-4503-b234-41386708eb5e\" xlink:show=\"new\" xlink:title=\"psysml:6c517ad3-81f8-4503-b234-41386708eb5e\" xlink:type=\"simple\"><polygon fill=\"#FFFFFF\" points=\"268,49,319,49,326,71.2969,419,71.2969,419,146,268,146,268,49\" style=\"stroke: #000000; stroke-width: 1.5;\"/><line style=\"stroke: #000000; stroke-width: 1.5;\" x1=\"268\" x2=\"326\" y1=\"71.2969\" y2=\"71.2969\"/><text fill=\"#000000\" font-family=\"sans-serif\" font-size=\"14\" font-weight=\"bold\" lengthAdjust=\"spacingAndGlyphs\" textLength=\"45\" x=\"272\" y=\"63.9951\">Test1</text></a><!--MD5=[7f149f147074ac12df2cb0a7728a5fb0]\n",
       "cluster E9--><a href=\"psysml:81951965-8d4b-42c4-ba21-4255f6488007\" target=\"_top\" title=\"psysml:81951965-8d4b-42c4-ba21-4255f6488007\" xlink:actuate=\"onRequest\" xlink:href=\"psysml:81951965-8d4b-42c4-ba21-4255f6488007\" xlink:show=\"new\" xlink:title=\"psysml:81951965-8d4b-42c4-ba21-4255f6488007\" xlink:type=\"simple\"><polygon fill=\"#FFFFFF\" points=\"93,49,144,49,151,71.2969,244,71.2969,244,146,93,146,93,49\" style=\"stroke: #000000; stroke-width: 1.5;\"/><line style=\"stroke: #000000; stroke-width: 1.5;\" x1=\"93\" x2=\"151\" y1=\"71.2969\" y2=\"71.2969\"/><text fill=\"#000000\" font-family=\"sans-serif\" font-size=\"14\" font-weight=\"bold\" lengthAdjust=\"spacingAndGlyphs\" textLength=\"45\" x=\"97\" y=\"63.9951\">Test2</text></a><!--MD5=[49a0ec8f00dab7302a31f22d0f0fe584]\n",
       "class E12--><a href=\"psysml:e16c4bbb-61f3-4b61-a2b5-b03e29e494af\" target=\"_top\" title=\"psysml:e16c4bbb-61f3-4b61-a2b5-b03e29e494af\" xlink:actuate=\"onRequest\" xlink:href=\"psysml:e16c4bbb-61f3-4b61-a2b5-b03e29e494af\" xlink:show=\"new\" xlink:title=\"psysml:e16c4bbb-61f3-4b61-a2b5-b03e29e494af\" xlink:type=\"simple\"><rect fill=\"#FFFFFF\" height=\"45.9375\" id=\"E12\" rx=\"10\" ry=\"10\" style=\"stroke: #383838; stroke-width: 1.5;\" width=\"42\" x=\"438\" y=\"84\"/><text fill=\"#000000\" font-family=\"sans-serif\" font-size=\"12\" font-style=\"italic\" lengthAdjust=\"spacingAndGlyphs\" textLength=\"40\" x=\"439\" y=\"100.1387\">«part»</text><text fill=\"#000000\" font-family=\"sans-serif\" font-size=\"12\" lengthAdjust=\"spacingAndGlyphs\" textLength=\"22\" x=\"448\" y=\"114.1074\">x: A</text><line style=\"stroke: #383838; stroke-width: 1.5;\" x1=\"439\" x2=\"479\" y1=\"121.9375\" y2=\"121.9375\"/></a><!--MD5=[ee3c913d1a06f366521f9ef512b67efe]\n",
       "class E13--><a href=\"psysml:6a814915-eeda-4c4d-8e98-a86878ae1f3d\" target=\"_top\" title=\"psysml:6a814915-eeda-4c4d-8e98-a86878ae1f3d\" xlink:actuate=\"onRequest\" xlink:href=\"psysml:6a814915-eeda-4c4d-8e98-a86878ae1f3d\" xlink:show=\"new\" xlink:title=\"psysml:6a814915-eeda-4c4d-8e98-a86878ae1f3d\" xlink:type=\"simple\"><rect fill=\"#FFFFFF\" height=\"45.9375\" id=\"E13\" rx=\"10\" ry=\"10\" style=\"stroke: #383838; stroke-width: 1.5;\" width=\"42\" x=\"32\" y=\"84\"/><text fill=\"#000000\" font-family=\"sans-serif\" font-size=\"12\" font-style=\"italic\" lengthAdjust=\"spacingAndGlyphs\" textLength=\"40\" x=\"33\" y=\"100.1387\">«part»</text><text fill=\"#000000\" font-family=\"sans-serif\" font-size=\"12\" lengthAdjust=\"spacingAndGlyphs\" textLength=\"22\" x=\"42\" y=\"114.1074\">y: B</text><line style=\"stroke: #383838; stroke-width: 1.5;\" x1=\"33\" x2=\"73\" y1=\"121.9375\" y2=\"121.9375\"/></a><!--MD5=[09b614a08d8cba4a07c9adeb5e0fee81]\n",
       "class E3--><a href=\"psysml:4745677c-bede-4ab8-acdc-4365dad759bc\" target=\"_top\" title=\"psysml:4745677c-bede-4ab8-acdc-4365dad759bc\" xlink:actuate=\"onRequest\" xlink:href=\"psysml:4745677c-bede-4ab8-acdc-4365dad759bc\" xlink:show=\"new\" xlink:title=\"psysml:4745677c-bede-4ab8-acdc-4365dad759bc\" xlink:type=\"simple\"><rect fill=\"#FFFFFF\" height=\"45.9375\" id=\"E3\" style=\"stroke: #383838; stroke-width: 1.5;\" width=\"66\" x=\"349\" y=\"205\"/><text fill=\"#000000\" font-family=\"sans-serif\" font-size=\"12\" font-style=\"italic\" lengthAdjust=\"spacingAndGlyphs\" textLength=\"64\" x=\"350\" y=\"221.1387\">«part def»</text><text fill=\"#000000\" font-family=\"sans-serif\" font-size=\"12\" lengthAdjust=\"spacingAndGlyphs\" textLength=\"8\" x=\"378\" y=\"235.1074\">A</text><line style=\"stroke: #383838; stroke-width: 1.5;\" x1=\"350\" x2=\"414\" y1=\"242.9375\" y2=\"242.9375\"/></a><!--MD5=[270fce915f116d4de14055a7c1d9a0f3]\n",
       "class E5--><a href=\"psysml:a455b6ac-bbc4-40c1-9da4-354e9f8fdc46\" target=\"_top\" title=\"psysml:a455b6ac-bbc4-40c1-9da4-354e9f8fdc46\" xlink:actuate=\"onRequest\" xlink:href=\"psysml:a455b6ac-bbc4-40c1-9da4-354e9f8fdc46\" xlink:show=\"new\" xlink:title=\"psysml:a455b6ac-bbc4-40c1-9da4-354e9f8fdc46\" xlink:type=\"simple\"><rect fill=\"#FFFFFF\" height=\"45.9375\" id=\"E5\" style=\"stroke: #383838; stroke-width: 1.5;\" width=\"66\" x=\"97\" y=\"205\"/><text fill=\"#000000\" font-family=\"sans-serif\" font-size=\"12\" font-style=\"italic\" lengthAdjust=\"spacingAndGlyphs\" textLength=\"64\" x=\"98\" y=\"221.1387\">«part def»</text><text fill=\"#000000\" font-family=\"sans-serif\" font-size=\"12\" lengthAdjust=\"spacingAndGlyphs\" textLength=\"8\" x=\"126\" y=\"235.1074\">B</text><line style=\"stroke: #383838; stroke-width: 1.5;\" x1=\"98\" x2=\"162\" y1=\"242.9375\" y2=\"242.9375\"/></a><!--MD5=[2156ba9850f5573cc1fc38a6a4b2f02b]\n",
       "class E7--><a href=\"psysml:6b7db59d-d003-4043-9508-3fd9ac781eff\" target=\"_top\" title=\"psysml:6b7db59d-d003-4043-9508-3fd9ac781eff\" xlink:actuate=\"onRequest\" xlink:href=\"psysml:6b7db59d-d003-4043-9508-3fd9ac781eff\" xlink:show=\"new\" xlink:title=\"psysml:6b7db59d-d003-4043-9508-3fd9ac781eff\" xlink:type=\"simple\"><rect fill=\"#FFFFFF\" height=\"45.9375\" id=\"E7\" rx=\"10\" ry=\"10\" style=\"stroke: #383838; stroke-width: 1.5;\" width=\"42\" x=\"361\" y=\"84\"/><text fill=\"#000000\" font-family=\"sans-serif\" font-size=\"12\" font-style=\"italic\" lengthAdjust=\"spacingAndGlyphs\" textLength=\"40\" x=\"362\" y=\"100.1387\">«part»</text><text fill=\"#000000\" font-family=\"sans-serif\" font-size=\"12\" lengthAdjust=\"spacingAndGlyphs\" textLength=\"22\" x=\"371\" y=\"114.1074\">x: A</text><line style=\"stroke: #383838; stroke-width: 1.5;\" x1=\"362\" x2=\"402\" y1=\"121.9375\" y2=\"121.9375\"/></a><!--MD5=[b9389687b975829384b498ac4b7476b2]\n",
       "class E8--><a href=\"psysml:6c414e1f-4fb5-42fd-83aa-c158d2fbc464\" target=\"_top\" title=\"psysml:6c414e1f-4fb5-42fd-83aa-c158d2fbc464\" xlink:actuate=\"onRequest\" xlink:href=\"psysml:6c414e1f-4fb5-42fd-83aa-c158d2fbc464\" xlink:show=\"new\" xlink:title=\"psysml:6c414e1f-4fb5-42fd-83aa-c158d2fbc464\" xlink:type=\"simple\"><rect fill=\"#FFFFFF\" height=\"45.9375\" id=\"E8\" rx=\"10\" ry=\"10\" style=\"stroke: #383838; stroke-width: 1.5;\" width=\"42\" x=\"284\" y=\"84\"/><text fill=\"#000000\" font-family=\"sans-serif\" font-size=\"12\" font-style=\"italic\" lengthAdjust=\"spacingAndGlyphs\" textLength=\"40\" x=\"285\" y=\"100.1387\">«part»</text><text fill=\"#000000\" font-family=\"sans-serif\" font-size=\"12\" lengthAdjust=\"spacingAndGlyphs\" textLength=\"22\" x=\"294\" y=\"114.1074\">y: B</text><line style=\"stroke: #383838; stroke-width: 1.5;\" x1=\"285\" x2=\"325\" y1=\"121.9375\" y2=\"121.9375\"/></a><!--MD5=[96f4274e9e20536e775497830990834d]\n",
       "class E10--><a href=\"psysml:797261aa-a958-4475-9de3-b139176b10fb\" target=\"_top\" title=\"psysml:797261aa-a958-4475-9de3-b139176b10fb\" xlink:actuate=\"onRequest\" xlink:href=\"psysml:797261aa-a958-4475-9de3-b139176b10fb\" xlink:show=\"new\" xlink:title=\"psysml:797261aa-a958-4475-9de3-b139176b10fb\" xlink:type=\"simple\"><rect fill=\"#FFFFFF\" height=\"45.9375\" id=\"E10\" rx=\"10\" ry=\"10\" style=\"stroke: #383838; stroke-width: 1.5;\" width=\"42\" x=\"186\" y=\"84\"/><text fill=\"#000000\" font-family=\"sans-serif\" font-size=\"12\" font-style=\"italic\" lengthAdjust=\"spacingAndGlyphs\" textLength=\"40\" x=\"187\" y=\"100.1387\">«part»</text><text fill=\"#000000\" font-family=\"sans-serif\" font-size=\"12\" lengthAdjust=\"spacingAndGlyphs\" textLength=\"22\" x=\"196\" y=\"114.1074\">x: A</text><line style=\"stroke: #383838; stroke-width: 1.5;\" x1=\"187\" x2=\"227\" y1=\"121.9375\" y2=\"121.9375\"/></a><!--MD5=[1dd1bfd58a279cf63c5f349dbc8fc6a1]\n",
       "class E11--><a href=\"psysml:3825b43b-bb71-4033-970e-c8c9e00cfd14\" target=\"_top\" title=\"psysml:3825b43b-bb71-4033-970e-c8c9e00cfd14\" xlink:actuate=\"onRequest\" xlink:href=\"psysml:3825b43b-bb71-4033-970e-c8c9e00cfd14\" xlink:show=\"new\" xlink:title=\"psysml:3825b43b-bb71-4033-970e-c8c9e00cfd14\" xlink:type=\"simple\"><rect fill=\"#FFFFFF\" height=\"45.9375\" id=\"E11\" rx=\"10\" ry=\"10\" style=\"stroke: #383838; stroke-width: 1.5;\" width=\"42\" x=\"109\" y=\"84\"/><text fill=\"#000000\" font-family=\"sans-serif\" font-size=\"12\" font-style=\"italic\" lengthAdjust=\"spacingAndGlyphs\" textLength=\"40\" x=\"110\" y=\"100.1387\">«part»</text><text fill=\"#000000\" font-family=\"sans-serif\" font-size=\"12\" lengthAdjust=\"spacingAndGlyphs\" textLength=\"22\" x=\"119\" y=\"114.1074\">y: B</text><line style=\"stroke: #383838; stroke-width: 1.5;\" x1=\"110\" x2=\"150\" y1=\"121.9375\" y2=\"121.9375\"/></a><!--MD5=[14ccda38c055a5c0da953d572bc50960]\n",
       "link E7 to E3--><a href=\"psysml:85e1ff22-6346-4a23-846d-dc1a236203c0\" target=\"_top\" title=\"psysml:85e1ff22-6346-4a23-846d-dc1a236203c0\" xlink:actuate=\"onRequest\" xlink:href=\"psysml:85e1ff22-6346-4a23-846d-dc1a236203c0\" xlink:show=\"new\" xlink:title=\"psysml:85e1ff22-6346-4a23-846d-dc1a236203c0\" xlink:type=\"simple\"><path d=\"M382,130.1 C382,145.37 382,166.16 382,184.57 \" fill=\"none\" id=\"E7-&gt;E3\" style=\"stroke: #383838; stroke-width: 1.0;\"/><polygon fill=\"#FFFFFF\" points=\"382,204.61,375,185.61,389,185.61,382,204.61\" style=\"stroke: #383838; stroke-width: 1.0;\"/><ellipse cx=\"377\" cy=\"179.91\" fill=\"#383838\" rx=\"2\" ry=\"2\" style=\"stroke: #383838; stroke-width: 1.0;\"/><ellipse cx=\"387\" cy=\"179.91\" fill=\"#383838\" rx=\"2\" ry=\"2\" style=\"stroke: #383838; stroke-width: 1.0;\"/></a><!--MD5=[1ccb2481ffa92f8d51a74ee30c51832a]\n",
       "link E8 to E5--><a href=\"psysml:483adec0-2d55-41ba-876c-1b8fe7d429ab\" target=\"_top\" title=\"psysml:483adec0-2d55-41ba-876c-1b8fe7d429ab\" xlink:actuate=\"onRequest\" xlink:href=\"psysml:483adec0-2d55-41ba-876c-1b8fe7d429ab\" xlink:show=\"new\" xlink:title=\"psysml:483adec0-2d55-41ba-876c-1b8fe7d429ab\" xlink:type=\"simple\"><path d=\"M283.84,124.59 C272.23,133.52 257.5,144.61 244,154 C223.51,168.25 200.41,183.24 180.38,195.91 \" fill=\"none\" id=\"E8-&gt;E5\" style=\"stroke: #383838; stroke-width: 1.0;\"/><polygon fill=\"#FFFFFF\" points=\"163.36,206.57,175.7353,190.5434,183.175,202.403,163.36,206.57\" style=\"stroke: #383838; stroke-width: 1.0;\"/><ellipse cx=\"181.6267\" cy=\"189.2086\" fill=\"#383838\" rx=\"2\" ry=\"2\" style=\"stroke: #383838; stroke-width: 1.0;\"/><ellipse cx=\"186.9408\" cy=\"197.6797\" fill=\"#383838\" rx=\"2\" ry=\"2\" style=\"stroke: #383838; stroke-width: 1.0;\"/></a><!--MD5=[feeac5eb423634930294aa81f2d25a4c]\n",
       "link E10 to E3--><a href=\"psysml:0e238847-8a3c-4f4a-a4c7-c4eca45a31b2\" target=\"_top\" title=\"psysml:0e238847-8a3c-4f4a-a4c7-c4eca45a31b2\" xlink:actuate=\"onRequest\" xlink:href=\"psysml:0e238847-8a3c-4f4a-a4c7-c4eca45a31b2\" xlink:show=\"new\" xlink:title=\"psysml:0e238847-8a3c-4f4a-a4c7-c4eca45a31b2\" xlink:type=\"simple\"><path d=\"M228.16,124.59 C239.77,133.52 254.5,144.61 268,154 C288.49,168.25 311.59,183.24 331.62,195.91 \" fill=\"none\" id=\"E10-&gt;E3\" style=\"stroke: #383838; stroke-width: 1.0;\"/><polygon fill=\"#FFFFFF\" points=\"348.64,206.57,328.825,202.403,336.2647,190.5434,348.64,206.57\" style=\"stroke: #383838; stroke-width: 1.0;\"/><ellipse cx=\"325.0592\" cy=\"197.6797\" fill=\"#383838\" rx=\"2\" ry=\"2\" style=\"stroke: #383838; stroke-width: 1.0;\"/><ellipse cx=\"330.3733\" cy=\"189.2086\" fill=\"#383838\" rx=\"2\" ry=\"2\" style=\"stroke: #383838; stroke-width: 1.0;\"/></a><!--MD5=[07b77f6f309248d16187045709d1c26e]\n",
       "link E11 to E5--><a href=\"psysml:1112046b-9823-4ab2-8a83-96247ffb9742\" target=\"_top\" title=\"psysml:1112046b-9823-4ab2-8a83-96247ffb9742\" xlink:actuate=\"onRequest\" xlink:href=\"psysml:1112046b-9823-4ab2-8a83-96247ffb9742\" xlink:show=\"new\" xlink:title=\"psysml:1112046b-9823-4ab2-8a83-96247ffb9742\" xlink:type=\"simple\"><path d=\"M130,130.1 C130,145.37 130,166.16 130,184.57 \" fill=\"none\" id=\"E11-&gt;E5\" style=\"stroke: #383838; stroke-width: 1.0;\"/><polygon fill=\"#FFFFFF\" points=\"130,204.61,123,185.61,137,185.61,130,204.61\" style=\"stroke: #383838; stroke-width: 1.0;\"/><ellipse cx=\"125\" cy=\"179.91\" fill=\"#383838\" rx=\"2\" ry=\"2\" style=\"stroke: #383838; stroke-width: 1.0;\"/><ellipse cx=\"135\" cy=\"179.91\" fill=\"#383838\" rx=\"2\" ry=\"2\" style=\"stroke: #383838; stroke-width: 1.0;\"/></a><!--MD5=[39f41a0e550fb3d73b4d8135617e30a2]\n",
       "link E12 to E3--><a href=\"psysml:ee0d4e1c-50f8-4d3c-8a56-5035ed7c5f53\" target=\"_top\" title=\"psysml:ee0d4e1c-50f8-4d3c-8a56-5035ed7c5f53\" xlink:actuate=\"onRequest\" xlink:href=\"psysml:ee0d4e1c-50f8-4d3c-8a56-5035ed7c5f53\" xlink:show=\"new\" xlink:title=\"psysml:ee0d4e1c-50f8-4d3c-8a56-5035ed7c5f53\" xlink:type=\"simple\"><path d=\"M444.7,130.1 C434.28,146.2 419.89,168.44 407.53,187.55 \" fill=\"none\" id=\"E12-&gt;E3\" style=\"stroke: #383838; stroke-width: 1.0;\"/><polygon fill=\"#FFFFFF\" points=\"396.49,204.61,400.9313,184.8546,412.6866,192.4581,396.49,204.61\" style=\"stroke: #383838; stroke-width: 1.0;\"/><ellipse cx=\"405.7063\" cy=\"181.1547\" fill=\"#383838\" rx=\"2\" ry=\"2\" style=\"stroke: #383838; stroke-width: 1.0;\"/><ellipse cx=\"414.103\" cy=\"186.5858\" fill=\"#383838\" rx=\"2\" ry=\"2\" style=\"stroke: #383838; stroke-width: 1.0;\"/></a><!--MD5=[066b2d8af59fea80ccdb3d54ad5c1091]\n",
       "link E13 to E5--><a href=\"psysml:1d6f62f5-9885-441d-bead-3e38c1577759\" target=\"_top\" title=\"psysml:1d6f62f5-9885-441d-bead-3e38c1577759\" xlink:actuate=\"onRequest\" xlink:href=\"psysml:1d6f62f5-9885-441d-bead-3e38c1577759\" xlink:show=\"new\" xlink:title=\"psysml:1d6f62f5-9885-441d-bead-3e38c1577759\" xlink:type=\"simple\"><path d=\"M67.3,130.1 C77.72,146.2 92.11,168.44 104.47,187.55 \" fill=\"none\" id=\"E13-&gt;E5\" style=\"stroke: #383838; stroke-width: 1.0;\"/><polygon fill=\"#FFFFFF\" points=\"115.51,204.61,99.3134,192.4581,111.0687,184.8546,115.51,204.61\" style=\"stroke: #383838; stroke-width: 1.0;\"/><ellipse cx=\"97.897\" cy=\"186.5858\" fill=\"#383838\" rx=\"2\" ry=\"2\" style=\"stroke: #383838; stroke-width: 1.0;\"/><ellipse cx=\"106.2937\" cy=\"181.1547\" fill=\"#383838\" rx=\"2\" ry=\"2\" style=\"stroke: #383838; stroke-width: 1.0;\"/></a><!--MD5=[e8e3bc6453e18dfcd9eb2bd8d35bce98]\n",
       "@startuml\r\n",
       "skinparam monochrome true\r\n",
       "skinparam classbackgroundcolor white\r\n",
       "skinparam shadowing false\r\n",
       "skinparam wrapWidth 300\r\n",
       "hide circle\r\n",
       "\r\n",
       "package \"CircularImport\" as E1  [[psysml:6a62b0bb-ce07-42d9-b06f-c19bd22a93a2 ]]  {\r\n",
       "package \"P1\" as E2  [[psysml:e5793e48-aebf-4c77-9b1c-634d316c370a ]]  {\r\n",
       "comp def \"A\" as E3  <<(T,blue)part def>> [[psysml:4745677c-bede-4ab8-acdc-4365dad759bc ]] {\r\n",
       "}\r\n",
       "}\r\n",
       "package \"P2\" as E4  [[psysml:9f128572-3fea-4fc4-b18b-c92f97cc0f0b ]]  {\r\n",
       "comp def \"B\" as E5  <<(T,blue)part def>> [[psysml:a455b6ac-bbc4-40c1-9da4-354e9f8fdc46 ]] {\r\n",
       "}\r\n",
       "}\r\n",
       "package \"Test1\" as E6  [[psysml:6c517ad3-81f8-4503-b234-41386708eb5e ]]  {\r\n",
       "comp usage \"x: A\" as E7  <<(T,blue)part>> [[psysml:6b7db59d-d003-4043-9508-3fd9ac781eff ]] {\r\n",
       "}\r\n",
       "comp usage \"y: B\" as E8  <<(T,blue)part>> [[psysml:6c414e1f-4fb5-42fd-83aa-c158d2fbc464 ]] {\r\n",
       "}\r\n",
       "E7 - -:|> E3 [[psysml:85e1ff22-6346-4a23-846d-dc1a236203c0 ]] \r\n",
       "E8 - -:|> E5 [[psysml:483adec0-2d55-41ba-876c-1b8fe7d429ab ]] \r\n",
       "}\r\n",
       "package \"Test2\" as E9  [[psysml:81951965-8d4b-42c4-ba21-4255f6488007 ]]  {\r\n",
       "comp usage \"x: A\" as E10  <<(T,blue)part>> [[psysml:797261aa-a958-4475-9de3-b139176b10fb ]] {\r\n",
       "}\r\n",
       "comp usage \"y: B\" as E11  <<(T,blue)part>> [[psysml:3825b43b-bb71-4033-970e-c8c9e00cfd14 ]] {\r\n",
       "}\r\n",
       "E10 - -:|> E3 [[psysml:0e238847-8a3c-4f4a-a4c7-c4eca45a31b2 ]] \r\n",
       "E11 - -:|> E5 [[psysml:1112046b-9823-4ab2-8a83-96247ffb9742 ]] \r\n",
       "}\r\n",
       "comp usage \"x: A\" as E12  <<(T,blue)part>> [[psysml:e16c4bbb-61f3-4b61-a2b5-b03e29e494af ]] {\r\n",
       "}\r\n",
       "comp usage \"y: B\" as E13  <<(T,blue)part>> [[psysml:6a814915-eeda-4c4d-8e98-a86878ae1f3d ]] {\r\n",
       "}\r\n",
       "E12 - -:|> E3 [[psysml:ee0d4e1c-50f8-4d3c-8a56-5035ed7c5f53 ]] \r\n",
       "E13 - -:|> E5 [[psysml:1d6f62f5-9885-441d-bead-3e38c1577759 ]] \r\n",
       "}\r\n",
       "@enduml\r\n",
       "\n",
       "PlantUML version 1.2020.13(Sat Jun 13 12:26:38 UTC 2020)\n",
       "(EPL source distribution)\n",
       "Java Runtime: OpenJDK Runtime Environment\n",
       "JVM: OpenJDK 64-Bit Server VM\n",
       "Default Encoding: UTF-8\n",
       "Language: en\n",
       "Country: null\n",
       "--></g></svg>"
      ]
     },
     "execution_count": 37,
     "metadata": {},
     "output_type": "execute_result"
    }
   ],
   "source": [
    "%viz --style=\"DEFAULT\" --view=\"Default\" \"CircularImport\""
   ]
  },
  {
   "cell_type": "code",
   "execution_count": 38,
   "id": "animal-abraham",
   "metadata": {
    "execution": {
     "iopub.execute_input": "2021-03-25T13:13:22.298509Z",
     "iopub.status.busy": "2021-03-25T13:13:22.298066Z",
     "iopub.status.idle": "2021-03-25T13:13:22.420482Z",
     "shell.execute_reply": "2021-03-25T13:13:22.418796Z"
    }
   },
   "outputs": [
    {
     "data": {
      "image/svg+xml": [
       "<?xml version=\"1.0\" encoding=\"UTF-8\" standalone=\"no\"?><svg xmlns=\"http://www.w3.org/2000/svg\" xmlns:xlink=\"http://www.w3.org/1999/xlink\" contentScriptType=\"application/ecmascript\" contentStyleType=\"text/css\" height=\"303px\" preserveAspectRatio=\"none\" style=\"width:518px;height:303px;\" version=\"1.1\" viewBox=\"0 0 518 303\" width=\"518px\" zoomAndPan=\"magnify\"><defs/><g><!--MD5=[fbc87193dbaf4d95561dea2c320d4a47]\n",
       "cluster E1--><a href=\"psysml:6a62b0bb-ce07-42d9-b06f-c19bd22a93a2\" target=\"_top\" title=\"psysml:6a62b0bb-ce07-42d9-b06f-c19bd22a93a2\" xlink:actuate=\"onRequest\" xlink:href=\"psysml:6a62b0bb-ce07-42d9-b06f-c19bd22a93a2\" xlink:show=\"new\" xlink:title=\"psysml:6a62b0bb-ce07-42d9-b06f-c19bd22a93a2\" xlink:type=\"simple\"><polygon fill=\"#FFFFFF\" points=\"16,6,134,6,141,28.2969,496,28.2969,496,291,16,291,16,6\" style=\"stroke: #000000; stroke-width: 1.5;\"/><line style=\"stroke: #000000; stroke-width: 1.5;\" x1=\"16\" x2=\"141\" y1=\"28.2969\" y2=\"28.2969\"/><text fill=\"#000000\" font-family=\"sans-serif\" font-size=\"14\" font-weight=\"bold\" lengthAdjust=\"spacingAndGlyphs\" textLength=\"112\" x=\"20\" y=\"20.9951\">CircularImport</text></a><!--MD5=[e4f7fae6ed58524ba242bb0b0d3be6b7]\n",
       "cluster E2--><a href=\"psysml:e5793e48-aebf-4c77-9b1c-634d316c370a\" target=\"_top\" title=\"psysml:e5793e48-aebf-4c77-9b1c-634d316c370a\" xlink:actuate=\"onRequest\" xlink:href=\"psysml:e5793e48-aebf-4c77-9b1c-634d316c370a\" xlink:show=\"new\" xlink:title=\"psysml:e5793e48-aebf-4c77-9b1c-634d316c370a\" xlink:type=\"simple\"><polygon fill=\"#FFFFFF\" points=\"333,170,359,170,366,192.2969,431,192.2969,431,267,333,267,333,170\" style=\"stroke: #000000; stroke-width: 1.5;\"/><line style=\"stroke: #000000; stroke-width: 1.5;\" x1=\"333\" x2=\"366\" y1=\"192.2969\" y2=\"192.2969\"/><text fill=\"#000000\" font-family=\"sans-serif\" font-size=\"14\" font-weight=\"bold\" lengthAdjust=\"spacingAndGlyphs\" textLength=\"20\" x=\"337\" y=\"184.9951\">P1</text></a><!--MD5=[f6df4d0ebaf0b5dfb2ced0ae5af7c670]\n",
       "cluster E4--><a href=\"psysml:9f128572-3fea-4fc4-b18b-c92f97cc0f0b\" target=\"_top\" title=\"psysml:9f128572-3fea-4fc4-b18b-c92f97cc0f0b\" xlink:actuate=\"onRequest\" xlink:href=\"psysml:9f128572-3fea-4fc4-b18b-c92f97cc0f0b\" xlink:show=\"new\" xlink:title=\"psysml:9f128572-3fea-4fc4-b18b-c92f97cc0f0b\" xlink:type=\"simple\"><polygon fill=\"#FFFFFF\" points=\"81,170,107,170,114,192.2969,179,192.2969,179,267,81,267,81,170\" style=\"stroke: #000000; stroke-width: 1.5;\"/><line style=\"stroke: #000000; stroke-width: 1.5;\" x1=\"81\" x2=\"114\" y1=\"192.2969\" y2=\"192.2969\"/><text fill=\"#000000\" font-family=\"sans-serif\" font-size=\"14\" font-weight=\"bold\" lengthAdjust=\"spacingAndGlyphs\" textLength=\"20\" x=\"85\" y=\"184.9951\">P2</text></a><!--MD5=[14e3b0961a2654348d326746436168a1]\n",
       "cluster E6--><a href=\"psysml:6c517ad3-81f8-4503-b234-41386708eb5e\" target=\"_top\" title=\"psysml:6c517ad3-81f8-4503-b234-41386708eb5e\" xlink:actuate=\"onRequest\" xlink:href=\"psysml:6c517ad3-81f8-4503-b234-41386708eb5e\" xlink:show=\"new\" xlink:title=\"psysml:6c517ad3-81f8-4503-b234-41386708eb5e\" xlink:type=\"simple\"><polygon fill=\"#FFFFFF\" points=\"268,49,319,49,326,71.2969,419,71.2969,419,146,268,146,268,49\" style=\"stroke: #000000; stroke-width: 1.5;\"/><line style=\"stroke: #000000; stroke-width: 1.5;\" x1=\"268\" x2=\"326\" y1=\"71.2969\" y2=\"71.2969\"/><text fill=\"#000000\" font-family=\"sans-serif\" font-size=\"14\" font-weight=\"bold\" lengthAdjust=\"spacingAndGlyphs\" textLength=\"45\" x=\"272\" y=\"63.9951\">Test1</text></a><!--MD5=[7f149f147074ac12df2cb0a7728a5fb0]\n",
       "cluster E9--><a href=\"psysml:81951965-8d4b-42c4-ba21-4255f6488007\" target=\"_top\" title=\"psysml:81951965-8d4b-42c4-ba21-4255f6488007\" xlink:actuate=\"onRequest\" xlink:href=\"psysml:81951965-8d4b-42c4-ba21-4255f6488007\" xlink:show=\"new\" xlink:title=\"psysml:81951965-8d4b-42c4-ba21-4255f6488007\" xlink:type=\"simple\"><polygon fill=\"#FFFFFF\" points=\"93,49,144,49,151,71.2969,244,71.2969,244,146,93,146,93,49\" style=\"stroke: #000000; stroke-width: 1.5;\"/><line style=\"stroke: #000000; stroke-width: 1.5;\" x1=\"93\" x2=\"151\" y1=\"71.2969\" y2=\"71.2969\"/><text fill=\"#000000\" font-family=\"sans-serif\" font-size=\"14\" font-weight=\"bold\" lengthAdjust=\"spacingAndGlyphs\" textLength=\"45\" x=\"97\" y=\"63.9951\">Test2</text></a><!--MD5=[49a0ec8f00dab7302a31f22d0f0fe584]\n",
       "class E12--><a href=\"psysml:e16c4bbb-61f3-4b61-a2b5-b03e29e494af\" target=\"_top\" title=\"psysml:e16c4bbb-61f3-4b61-a2b5-b03e29e494af\" xlink:actuate=\"onRequest\" xlink:href=\"psysml:e16c4bbb-61f3-4b61-a2b5-b03e29e494af\" xlink:show=\"new\" xlink:title=\"psysml:e16c4bbb-61f3-4b61-a2b5-b03e29e494af\" xlink:type=\"simple\"><rect fill=\"#FFFFFF\" height=\"45.9375\" id=\"E12\" rx=\"10\" ry=\"10\" style=\"stroke: #383838; stroke-width: 1.5;\" width=\"42\" x=\"438\" y=\"84\"/><text fill=\"#000000\" font-family=\"sans-serif\" font-size=\"12\" font-style=\"italic\" lengthAdjust=\"spacingAndGlyphs\" textLength=\"40\" x=\"439\" y=\"100.1387\">«part»</text><text fill=\"#000000\" font-family=\"sans-serif\" font-size=\"12\" lengthAdjust=\"spacingAndGlyphs\" textLength=\"22\" x=\"448\" y=\"114.1074\">x: A</text><line style=\"stroke: #383838; stroke-width: 1.5;\" x1=\"439\" x2=\"479\" y1=\"121.9375\" y2=\"121.9375\"/></a><!--MD5=[ee3c913d1a06f366521f9ef512b67efe]\n",
       "class E13--><a href=\"psysml:6a814915-eeda-4c4d-8e98-a86878ae1f3d\" target=\"_top\" title=\"psysml:6a814915-eeda-4c4d-8e98-a86878ae1f3d\" xlink:actuate=\"onRequest\" xlink:href=\"psysml:6a814915-eeda-4c4d-8e98-a86878ae1f3d\" xlink:show=\"new\" xlink:title=\"psysml:6a814915-eeda-4c4d-8e98-a86878ae1f3d\" xlink:type=\"simple\"><rect fill=\"#FFFFFF\" height=\"45.9375\" id=\"E13\" rx=\"10\" ry=\"10\" style=\"stroke: #383838; stroke-width: 1.5;\" width=\"42\" x=\"32\" y=\"84\"/><text fill=\"#000000\" font-family=\"sans-serif\" font-size=\"12\" font-style=\"italic\" lengthAdjust=\"spacingAndGlyphs\" textLength=\"40\" x=\"33\" y=\"100.1387\">«part»</text><text fill=\"#000000\" font-family=\"sans-serif\" font-size=\"12\" lengthAdjust=\"spacingAndGlyphs\" textLength=\"22\" x=\"42\" y=\"114.1074\">y: B</text><line style=\"stroke: #383838; stroke-width: 1.5;\" x1=\"33\" x2=\"73\" y1=\"121.9375\" y2=\"121.9375\"/></a><!--MD5=[09b614a08d8cba4a07c9adeb5e0fee81]\n",
       "class E3--><a href=\"psysml:4745677c-bede-4ab8-acdc-4365dad759bc\" target=\"_top\" title=\"psysml:4745677c-bede-4ab8-acdc-4365dad759bc\" xlink:actuate=\"onRequest\" xlink:href=\"psysml:4745677c-bede-4ab8-acdc-4365dad759bc\" xlink:show=\"new\" xlink:title=\"psysml:4745677c-bede-4ab8-acdc-4365dad759bc\" xlink:type=\"simple\"><rect fill=\"#FFFFFF\" height=\"45.9375\" id=\"E3\" style=\"stroke: #383838; stroke-width: 1.5;\" width=\"66\" x=\"349\" y=\"205\"/><text fill=\"#000000\" font-family=\"sans-serif\" font-size=\"12\" font-style=\"italic\" lengthAdjust=\"spacingAndGlyphs\" textLength=\"64\" x=\"350\" y=\"221.1387\">«part def»</text><text fill=\"#000000\" font-family=\"sans-serif\" font-size=\"12\" lengthAdjust=\"spacingAndGlyphs\" textLength=\"8\" x=\"378\" y=\"235.1074\">A</text><line style=\"stroke: #383838; stroke-width: 1.5;\" x1=\"350\" x2=\"414\" y1=\"242.9375\" y2=\"242.9375\"/></a><!--MD5=[270fce915f116d4de14055a7c1d9a0f3]\n",
       "class E5--><a href=\"psysml:a455b6ac-bbc4-40c1-9da4-354e9f8fdc46\" target=\"_top\" title=\"psysml:a455b6ac-bbc4-40c1-9da4-354e9f8fdc46\" xlink:actuate=\"onRequest\" xlink:href=\"psysml:a455b6ac-bbc4-40c1-9da4-354e9f8fdc46\" xlink:show=\"new\" xlink:title=\"psysml:a455b6ac-bbc4-40c1-9da4-354e9f8fdc46\" xlink:type=\"simple\"><rect fill=\"#FFFFFF\" height=\"45.9375\" id=\"E5\" style=\"stroke: #383838; stroke-width: 1.5;\" width=\"66\" x=\"97\" y=\"205\"/><text fill=\"#000000\" font-family=\"sans-serif\" font-size=\"12\" font-style=\"italic\" lengthAdjust=\"spacingAndGlyphs\" textLength=\"64\" x=\"98\" y=\"221.1387\">«part def»</text><text fill=\"#000000\" font-family=\"sans-serif\" font-size=\"12\" lengthAdjust=\"spacingAndGlyphs\" textLength=\"8\" x=\"126\" y=\"235.1074\">B</text><line style=\"stroke: #383838; stroke-width: 1.5;\" x1=\"98\" x2=\"162\" y1=\"242.9375\" y2=\"242.9375\"/></a><!--MD5=[2156ba9850f5573cc1fc38a6a4b2f02b]\n",
       "class E7--><a href=\"psysml:6b7db59d-d003-4043-9508-3fd9ac781eff\" target=\"_top\" title=\"psysml:6b7db59d-d003-4043-9508-3fd9ac781eff\" xlink:actuate=\"onRequest\" xlink:href=\"psysml:6b7db59d-d003-4043-9508-3fd9ac781eff\" xlink:show=\"new\" xlink:title=\"psysml:6b7db59d-d003-4043-9508-3fd9ac781eff\" xlink:type=\"simple\"><rect fill=\"#FFFFFF\" height=\"45.9375\" id=\"E7\" rx=\"10\" ry=\"10\" style=\"stroke: #383838; stroke-width: 1.5;\" width=\"42\" x=\"361\" y=\"84\"/><text fill=\"#000000\" font-family=\"sans-serif\" font-size=\"12\" font-style=\"italic\" lengthAdjust=\"spacingAndGlyphs\" textLength=\"40\" x=\"362\" y=\"100.1387\">«part»</text><text fill=\"#000000\" font-family=\"sans-serif\" font-size=\"12\" lengthAdjust=\"spacingAndGlyphs\" textLength=\"22\" x=\"371\" y=\"114.1074\">x: A</text><line style=\"stroke: #383838; stroke-width: 1.5;\" x1=\"362\" x2=\"402\" y1=\"121.9375\" y2=\"121.9375\"/></a><!--MD5=[b9389687b975829384b498ac4b7476b2]\n",
       "class E8--><a href=\"psysml:6c414e1f-4fb5-42fd-83aa-c158d2fbc464\" target=\"_top\" title=\"psysml:6c414e1f-4fb5-42fd-83aa-c158d2fbc464\" xlink:actuate=\"onRequest\" xlink:href=\"psysml:6c414e1f-4fb5-42fd-83aa-c158d2fbc464\" xlink:show=\"new\" xlink:title=\"psysml:6c414e1f-4fb5-42fd-83aa-c158d2fbc464\" xlink:type=\"simple\"><rect fill=\"#FFFFFF\" height=\"45.9375\" id=\"E8\" rx=\"10\" ry=\"10\" style=\"stroke: #383838; stroke-width: 1.5;\" width=\"42\" x=\"284\" y=\"84\"/><text fill=\"#000000\" font-family=\"sans-serif\" font-size=\"12\" font-style=\"italic\" lengthAdjust=\"spacingAndGlyphs\" textLength=\"40\" x=\"285\" y=\"100.1387\">«part»</text><text fill=\"#000000\" font-family=\"sans-serif\" font-size=\"12\" lengthAdjust=\"spacingAndGlyphs\" textLength=\"22\" x=\"294\" y=\"114.1074\">y: B</text><line style=\"stroke: #383838; stroke-width: 1.5;\" x1=\"285\" x2=\"325\" y1=\"121.9375\" y2=\"121.9375\"/></a><!--MD5=[96f4274e9e20536e775497830990834d]\n",
       "class E10--><a href=\"psysml:797261aa-a958-4475-9de3-b139176b10fb\" target=\"_top\" title=\"psysml:797261aa-a958-4475-9de3-b139176b10fb\" xlink:actuate=\"onRequest\" xlink:href=\"psysml:797261aa-a958-4475-9de3-b139176b10fb\" xlink:show=\"new\" xlink:title=\"psysml:797261aa-a958-4475-9de3-b139176b10fb\" xlink:type=\"simple\"><rect fill=\"#FFFFFF\" height=\"45.9375\" id=\"E10\" rx=\"10\" ry=\"10\" style=\"stroke: #383838; stroke-width: 1.5;\" width=\"42\" x=\"186\" y=\"84\"/><text fill=\"#000000\" font-family=\"sans-serif\" font-size=\"12\" font-style=\"italic\" lengthAdjust=\"spacingAndGlyphs\" textLength=\"40\" x=\"187\" y=\"100.1387\">«part»</text><text fill=\"#000000\" font-family=\"sans-serif\" font-size=\"12\" lengthAdjust=\"spacingAndGlyphs\" textLength=\"22\" x=\"196\" y=\"114.1074\">x: A</text><line style=\"stroke: #383838; stroke-width: 1.5;\" x1=\"187\" x2=\"227\" y1=\"121.9375\" y2=\"121.9375\"/></a><!--MD5=[1dd1bfd58a279cf63c5f349dbc8fc6a1]\n",
       "class E11--><a href=\"psysml:3825b43b-bb71-4033-970e-c8c9e00cfd14\" target=\"_top\" title=\"psysml:3825b43b-bb71-4033-970e-c8c9e00cfd14\" xlink:actuate=\"onRequest\" xlink:href=\"psysml:3825b43b-bb71-4033-970e-c8c9e00cfd14\" xlink:show=\"new\" xlink:title=\"psysml:3825b43b-bb71-4033-970e-c8c9e00cfd14\" xlink:type=\"simple\"><rect fill=\"#FFFFFF\" height=\"45.9375\" id=\"E11\" rx=\"10\" ry=\"10\" style=\"stroke: #383838; stroke-width: 1.5;\" width=\"42\" x=\"109\" y=\"84\"/><text fill=\"#000000\" font-family=\"sans-serif\" font-size=\"12\" font-style=\"italic\" lengthAdjust=\"spacingAndGlyphs\" textLength=\"40\" x=\"110\" y=\"100.1387\">«part»</text><text fill=\"#000000\" font-family=\"sans-serif\" font-size=\"12\" lengthAdjust=\"spacingAndGlyphs\" textLength=\"22\" x=\"119\" y=\"114.1074\">y: B</text><line style=\"stroke: #383838; stroke-width: 1.5;\" x1=\"110\" x2=\"150\" y1=\"121.9375\" y2=\"121.9375\"/></a><!--MD5=[14ccda38c055a5c0da953d572bc50960]\n",
       "link E7 to E3--><a href=\"psysml:85e1ff22-6346-4a23-846d-dc1a236203c0\" target=\"_top\" title=\"psysml:85e1ff22-6346-4a23-846d-dc1a236203c0\" xlink:actuate=\"onRequest\" xlink:href=\"psysml:85e1ff22-6346-4a23-846d-dc1a236203c0\" xlink:show=\"new\" xlink:title=\"psysml:85e1ff22-6346-4a23-846d-dc1a236203c0\" xlink:type=\"simple\"><path d=\"M382,130.1 C382,145.37 382,166.16 382,184.57 \" fill=\"none\" id=\"E7-&gt;E3\" style=\"stroke: #383838; stroke-width: 1.0;\"/><polygon fill=\"#FFFFFF\" points=\"382,204.61,375,185.61,389,185.61,382,204.61\" style=\"stroke: #383838; stroke-width: 1.0;\"/><ellipse cx=\"377\" cy=\"179.91\" fill=\"#383838\" rx=\"2\" ry=\"2\" style=\"stroke: #383838; stroke-width: 1.0;\"/><ellipse cx=\"387\" cy=\"179.91\" fill=\"#383838\" rx=\"2\" ry=\"2\" style=\"stroke: #383838; stroke-width: 1.0;\"/></a><!--MD5=[1ccb2481ffa92f8d51a74ee30c51832a]\n",
       "link E8 to E5--><a href=\"psysml:483adec0-2d55-41ba-876c-1b8fe7d429ab\" target=\"_top\" title=\"psysml:483adec0-2d55-41ba-876c-1b8fe7d429ab\" xlink:actuate=\"onRequest\" xlink:href=\"psysml:483adec0-2d55-41ba-876c-1b8fe7d429ab\" xlink:show=\"new\" xlink:title=\"psysml:483adec0-2d55-41ba-876c-1b8fe7d429ab\" xlink:type=\"simple\"><path d=\"M283.84,124.59 C272.23,133.52 257.5,144.61 244,154 C223.51,168.25 200.41,183.24 180.38,195.91 \" fill=\"none\" id=\"E8-&gt;E5\" style=\"stroke: #383838; stroke-width: 1.0;\"/><polygon fill=\"#FFFFFF\" points=\"163.36,206.57,175.7353,190.5434,183.175,202.403,163.36,206.57\" style=\"stroke: #383838; stroke-width: 1.0;\"/><ellipse cx=\"181.6267\" cy=\"189.2086\" fill=\"#383838\" rx=\"2\" ry=\"2\" style=\"stroke: #383838; stroke-width: 1.0;\"/><ellipse cx=\"186.9408\" cy=\"197.6797\" fill=\"#383838\" rx=\"2\" ry=\"2\" style=\"stroke: #383838; stroke-width: 1.0;\"/></a><!--MD5=[feeac5eb423634930294aa81f2d25a4c]\n",
       "link E10 to E3--><a href=\"psysml:0e238847-8a3c-4f4a-a4c7-c4eca45a31b2\" target=\"_top\" title=\"psysml:0e238847-8a3c-4f4a-a4c7-c4eca45a31b2\" xlink:actuate=\"onRequest\" xlink:href=\"psysml:0e238847-8a3c-4f4a-a4c7-c4eca45a31b2\" xlink:show=\"new\" xlink:title=\"psysml:0e238847-8a3c-4f4a-a4c7-c4eca45a31b2\" xlink:type=\"simple\"><path d=\"M228.16,124.59 C239.77,133.52 254.5,144.61 268,154 C288.49,168.25 311.59,183.24 331.62,195.91 \" fill=\"none\" id=\"E10-&gt;E3\" style=\"stroke: #383838; stroke-width: 1.0;\"/><polygon fill=\"#FFFFFF\" points=\"348.64,206.57,328.825,202.403,336.2647,190.5434,348.64,206.57\" style=\"stroke: #383838; stroke-width: 1.0;\"/><ellipse cx=\"325.0592\" cy=\"197.6797\" fill=\"#383838\" rx=\"2\" ry=\"2\" style=\"stroke: #383838; stroke-width: 1.0;\"/><ellipse cx=\"330.3733\" cy=\"189.2086\" fill=\"#383838\" rx=\"2\" ry=\"2\" style=\"stroke: #383838; stroke-width: 1.0;\"/></a><!--MD5=[07b77f6f309248d16187045709d1c26e]\n",
       "link E11 to E5--><a href=\"psysml:1112046b-9823-4ab2-8a83-96247ffb9742\" target=\"_top\" title=\"psysml:1112046b-9823-4ab2-8a83-96247ffb9742\" xlink:actuate=\"onRequest\" xlink:href=\"psysml:1112046b-9823-4ab2-8a83-96247ffb9742\" xlink:show=\"new\" xlink:title=\"psysml:1112046b-9823-4ab2-8a83-96247ffb9742\" xlink:type=\"simple\"><path d=\"M130,130.1 C130,145.37 130,166.16 130,184.57 \" fill=\"none\" id=\"E11-&gt;E5\" style=\"stroke: #383838; stroke-width: 1.0;\"/><polygon fill=\"#FFFFFF\" points=\"130,204.61,123,185.61,137,185.61,130,204.61\" style=\"stroke: #383838; stroke-width: 1.0;\"/><ellipse cx=\"125\" cy=\"179.91\" fill=\"#383838\" rx=\"2\" ry=\"2\" style=\"stroke: #383838; stroke-width: 1.0;\"/><ellipse cx=\"135\" cy=\"179.91\" fill=\"#383838\" rx=\"2\" ry=\"2\" style=\"stroke: #383838; stroke-width: 1.0;\"/></a><!--MD5=[39f41a0e550fb3d73b4d8135617e30a2]\n",
       "link E12 to E3--><a href=\"psysml:ee0d4e1c-50f8-4d3c-8a56-5035ed7c5f53\" target=\"_top\" title=\"psysml:ee0d4e1c-50f8-4d3c-8a56-5035ed7c5f53\" xlink:actuate=\"onRequest\" xlink:href=\"psysml:ee0d4e1c-50f8-4d3c-8a56-5035ed7c5f53\" xlink:show=\"new\" xlink:title=\"psysml:ee0d4e1c-50f8-4d3c-8a56-5035ed7c5f53\" xlink:type=\"simple\"><path d=\"M444.7,130.1 C434.28,146.2 419.89,168.44 407.53,187.55 \" fill=\"none\" id=\"E12-&gt;E3\" style=\"stroke: #383838; stroke-width: 1.0;\"/><polygon fill=\"#FFFFFF\" points=\"396.49,204.61,400.9313,184.8546,412.6866,192.4581,396.49,204.61\" style=\"stroke: #383838; stroke-width: 1.0;\"/><ellipse cx=\"405.7063\" cy=\"181.1547\" fill=\"#383838\" rx=\"2\" ry=\"2\" style=\"stroke: #383838; stroke-width: 1.0;\"/><ellipse cx=\"414.103\" cy=\"186.5858\" fill=\"#383838\" rx=\"2\" ry=\"2\" style=\"stroke: #383838; stroke-width: 1.0;\"/></a><!--MD5=[066b2d8af59fea80ccdb3d54ad5c1091]\n",
       "link E13 to E5--><a href=\"psysml:1d6f62f5-9885-441d-bead-3e38c1577759\" target=\"_top\" title=\"psysml:1d6f62f5-9885-441d-bead-3e38c1577759\" xlink:actuate=\"onRequest\" xlink:href=\"psysml:1d6f62f5-9885-441d-bead-3e38c1577759\" xlink:show=\"new\" xlink:title=\"psysml:1d6f62f5-9885-441d-bead-3e38c1577759\" xlink:type=\"simple\"><path d=\"M67.3,130.1 C77.72,146.2 92.11,168.44 104.47,187.55 \" fill=\"none\" id=\"E13-&gt;E5\" style=\"stroke: #383838; stroke-width: 1.0;\"/><polygon fill=\"#FFFFFF\" points=\"115.51,204.61,99.3134,192.4581,111.0687,184.8546,115.51,204.61\" style=\"stroke: #383838; stroke-width: 1.0;\"/><ellipse cx=\"97.897\" cy=\"186.5858\" fill=\"#383838\" rx=\"2\" ry=\"2\" style=\"stroke: #383838; stroke-width: 1.0;\"/><ellipse cx=\"106.2937\" cy=\"181.1547\" fill=\"#383838\" rx=\"2\" ry=\"2\" style=\"stroke: #383838; stroke-width: 1.0;\"/></a><!--MD5=[e8e3bc6453e18dfcd9eb2bd8d35bce98]\n",
       "@startuml\r\n",
       "skinparam monochrome true\r\n",
       "skinparam classbackgroundcolor white\r\n",
       "skinparam shadowing false\r\n",
       "skinparam wrapWidth 300\r\n",
       "hide circle\r\n",
       "\r\n",
       "package \"CircularImport\" as E1  [[psysml:6a62b0bb-ce07-42d9-b06f-c19bd22a93a2 ]]  {\r\n",
       "package \"P1\" as E2  [[psysml:e5793e48-aebf-4c77-9b1c-634d316c370a ]]  {\r\n",
       "comp def \"A\" as E3  <<(T,blue)part def>> [[psysml:4745677c-bede-4ab8-acdc-4365dad759bc ]] {\r\n",
       "}\r\n",
       "}\r\n",
       "package \"P2\" as E4  [[psysml:9f128572-3fea-4fc4-b18b-c92f97cc0f0b ]]  {\r\n",
       "comp def \"B\" as E5  <<(T,blue)part def>> [[psysml:a455b6ac-bbc4-40c1-9da4-354e9f8fdc46 ]] {\r\n",
       "}\r\n",
       "}\r\n",
       "package \"Test1\" as E6  [[psysml:6c517ad3-81f8-4503-b234-41386708eb5e ]]  {\r\n",
       "comp usage \"x: A\" as E7  <<(T,blue)part>> [[psysml:6b7db59d-d003-4043-9508-3fd9ac781eff ]] {\r\n",
       "}\r\n",
       "comp usage \"y: B\" as E8  <<(T,blue)part>> [[psysml:6c414e1f-4fb5-42fd-83aa-c158d2fbc464 ]] {\r\n",
       "}\r\n",
       "E7 - -:|> E3 [[psysml:85e1ff22-6346-4a23-846d-dc1a236203c0 ]] \r\n",
       "E8 - -:|> E5 [[psysml:483adec0-2d55-41ba-876c-1b8fe7d429ab ]] \r\n",
       "}\r\n",
       "package \"Test2\" as E9  [[psysml:81951965-8d4b-42c4-ba21-4255f6488007 ]]  {\r\n",
       "comp usage \"x: A\" as E10  <<(T,blue)part>> [[psysml:797261aa-a958-4475-9de3-b139176b10fb ]] {\r\n",
       "}\r\n",
       "comp usage \"y: B\" as E11  <<(T,blue)part>> [[psysml:3825b43b-bb71-4033-970e-c8c9e00cfd14 ]] {\r\n",
       "}\r\n",
       "E10 - -:|> E3 [[psysml:0e238847-8a3c-4f4a-a4c7-c4eca45a31b2 ]] \r\n",
       "E11 - -:|> E5 [[psysml:1112046b-9823-4ab2-8a83-96247ffb9742 ]] \r\n",
       "}\r\n",
       "comp usage \"x: A\" as E12  <<(T,blue)part>> [[psysml:e16c4bbb-61f3-4b61-a2b5-b03e29e494af ]] {\r\n",
       "}\r\n",
       "comp usage \"y: B\" as E13  <<(T,blue)part>> [[psysml:6a814915-eeda-4c4d-8e98-a86878ae1f3d ]] {\r\n",
       "}\r\n",
       "E12 - -:|> E3 [[psysml:ee0d4e1c-50f8-4d3c-8a56-5035ed7c5f53 ]] \r\n",
       "E13 - -:|> E5 [[psysml:1d6f62f5-9885-441d-bead-3e38c1577759 ]] \r\n",
       "}\r\n",
       "@enduml\r\n",
       "\n",
       "PlantUML version 1.2020.13(Sat Jun 13 12:26:38 UTC 2020)\n",
       "(EPL source distribution)\n",
       "Java Runtime: OpenJDK Runtime Environment\n",
       "JVM: OpenJDK 64-Bit Server VM\n",
       "Default Encoding: UTF-8\n",
       "Language: en\n",
       "Country: null\n",
       "--></g></svg>"
      ]
     },
     "execution_count": 38,
     "metadata": {},
     "output_type": "execute_result"
    }
   ],
   "source": [
    "%viz --style=\"DEFAULT\" --view=\"Tree\" \"CircularImport\""
   ]
  },
  {
   "cell_type": "code",
   "execution_count": 39,
   "id": "physical-narrow",
   "metadata": {
    "execution": {
     "iopub.execute_input": "2021-03-25T13:13:22.470849Z",
     "iopub.status.busy": "2021-03-25T13:13:22.470296Z",
     "iopub.status.idle": "2021-03-25T13:13:22.477036Z",
     "shell.execute_reply": "2021-03-25T13:13:22.477511Z"
    }
   },
   "outputs": [
    {
     "data": {
      "image/svg+xml": [
       "<?xml version=\"1.0\" encoding=\"UTF-8\" standalone=\"no\"?><svg xmlns=\"http://www.w3.org/2000/svg\" xmlns:xlink=\"http://www.w3.org/1999/xlink\" contentScriptType=\"application/ecmascript\" contentStyleType=\"text/css\" height=\"12px\" preserveAspectRatio=\"none\" style=\"width:12px;height:12px;\" version=\"1.1\" viewBox=\"0 0 12 12\" width=\"12px\" zoomAndPan=\"magnify\"><defs/><g><!--MD5=[c5f280e076d0d61ccf4b0f27871bda1d]\n",
       "@startuml\r\n",
       "skinparam monochrome true\r\n",
       "skinparam classbackgroundcolor white\r\n",
       "skinparam shadowing false\r\n",
       "skinparam wrapWidth 300\r\n",
       "hide circle\r\n",
       "\r\n",
       "@enduml\r\n",
       "\n",
       "PlantUML version 1.2020.13(Sat Jun 13 12:26:38 UTC 2020)\n",
       "(EPL source distribution)\n",
       "Java Runtime: OpenJDK Runtime Environment\n",
       "JVM: OpenJDK 64-Bit Server VM\n",
       "Default Encoding: UTF-8\n",
       "Language: en\n",
       "Country: null\n",
       "--></g></svg>"
      ]
     },
     "execution_count": 39,
     "metadata": {},
     "output_type": "execute_result"
    }
   ],
   "source": [
    "%viz --style=\"DEFAULT\" --view=\"State\" \"CircularImport\""
   ]
  },
  {
   "cell_type": "code",
   "execution_count": 40,
   "id": "romance-advocacy",
   "metadata": {
    "execution": {
     "iopub.execute_input": "2021-03-25T13:13:22.528434Z",
     "iopub.status.busy": "2021-03-25T13:13:22.527604Z",
     "iopub.status.idle": "2021-03-25T13:13:22.616134Z",
     "shell.execute_reply": "2021-03-25T13:13:22.615662Z"
    }
   },
   "outputs": [
    {
     "data": {
      "image/svg+xml": [
       "<?xml version=\"1.0\" encoding=\"UTF-8\" standalone=\"no\"?><svg xmlns=\"http://www.w3.org/2000/svg\" xmlns:xlink=\"http://www.w3.org/1999/xlink\" contentScriptType=\"application/ecmascript\" contentStyleType=\"text/css\" height=\"179px\" preserveAspectRatio=\"none\" style=\"width:846px;height:179px;\" version=\"1.1\" viewBox=\"0 0 846 179\" width=\"846px\" zoomAndPan=\"magnify\"><defs/><g><!--MD5=[fbc87193dbaf4d95561dea2c320d4a47]\n",
       "cluster E1--><a href=\"psysml:6a62b0bb-ce07-42d9-b06f-c19bd22a93a2\" target=\"_top\" title=\"psysml:6a62b0bb-ce07-42d9-b06f-c19bd22a93a2\" xlink:actuate=\"onRequest\" xlink:href=\"psysml:6a62b0bb-ce07-42d9-b06f-c19bd22a93a2\" xlink:show=\"new\" xlink:title=\"psysml:6a62b0bb-ce07-42d9-b06f-c19bd22a93a2\" xlink:type=\"simple\"><polygon fill=\"#FFFFFF\" points=\"16,6,134,6,141,28.2969,824,28.2969,824,167,16,167,16,6\" style=\"stroke: #000000; stroke-width: 1.5;\"/><line style=\"stroke: #000000; stroke-width: 1.5;\" x1=\"16\" x2=\"141\" y1=\"28.2969\" y2=\"28.2969\"/><text fill=\"#000000\" font-family=\"sans-serif\" font-size=\"14\" font-weight=\"bold\" lengthAdjust=\"spacingAndGlyphs\" textLength=\"112\" x=\"20\" y=\"20.9951\">CircularImport</text></a><!--MD5=[e4f7fae6ed58524ba242bb0b0d3be6b7]\n",
       "cluster E2--><a href=\"psysml:e5793e48-aebf-4c77-9b1c-634d316c370a\" target=\"_top\" title=\"psysml:e5793e48-aebf-4c77-9b1c-634d316c370a\" xlink:actuate=\"onRequest\" xlink:href=\"psysml:e5793e48-aebf-4c77-9b1c-634d316c370a\" xlink:show=\"new\" xlink:title=\"psysml:e5793e48-aebf-4c77-9b1c-634d316c370a\" xlink:type=\"simple\"><polygon fill=\"#FFFFFF\" points=\"696,49,722,49,729,71.2969,800,71.2969,800,143,696,143,696,49\" style=\"stroke: #000000; stroke-width: 1.5;\"/><line style=\"stroke: #000000; stroke-width: 1.5;\" x1=\"696\" x2=\"729\" y1=\"71.2969\" y2=\"71.2969\"/><text fill=\"#000000\" font-family=\"sans-serif\" font-size=\"14\" font-weight=\"bold\" lengthAdjust=\"spacingAndGlyphs\" textLength=\"20\" x=\"700\" y=\"63.9951\">P1</text></a><!--MD5=[f6df4d0ebaf0b5dfb2ced0ae5af7c670]\n",
       "cluster E4--><a href=\"psysml:9f128572-3fea-4fc4-b18b-c92f97cc0f0b\" target=\"_top\" title=\"psysml:9f128572-3fea-4fc4-b18b-c92f97cc0f0b\" xlink:actuate=\"onRequest\" xlink:href=\"psysml:9f128572-3fea-4fc4-b18b-c92f97cc0f0b\" xlink:show=\"new\" xlink:title=\"psysml:9f128572-3fea-4fc4-b18b-c92f97cc0f0b\" xlink:type=\"simple\"><polygon fill=\"#FFFFFF\" points=\"568,49,594,49,601,71.2969,672,71.2969,672,143,568,143,568,49\" style=\"stroke: #000000; stroke-width: 1.5;\"/><line style=\"stroke: #000000; stroke-width: 1.5;\" x1=\"568\" x2=\"601\" y1=\"71.2969\" y2=\"71.2969\"/><text fill=\"#000000\" font-family=\"sans-serif\" font-size=\"14\" font-weight=\"bold\" lengthAdjust=\"spacingAndGlyphs\" textLength=\"20\" x=\"572\" y=\"63.9951\">P2</text></a><!--MD5=[14e3b0961a2654348d326746436168a1]\n",
       "cluster E6--><a href=\"psysml:6c517ad3-81f8-4503-b234-41386708eb5e\" target=\"_top\" title=\"psysml:6c517ad3-81f8-4503-b234-41386708eb5e\" xlink:actuate=\"onRequest\" xlink:href=\"psysml:6c517ad3-81f8-4503-b234-41386708eb5e\" xlink:show=\"new\" xlink:title=\"psysml:6c517ad3-81f8-4503-b234-41386708eb5e\" xlink:type=\"simple\"><polygon fill=\"#FFFFFF\" points=\"377,50.5,428,50.5,435,72.7969,544,72.7969,544,141.5,377,141.5,377,50.5\" style=\"stroke: #000000; stroke-width: 1.5;\"/><line style=\"stroke: #000000; stroke-width: 1.5;\" x1=\"377\" x2=\"435\" y1=\"72.7969\" y2=\"72.7969\"/><text fill=\"#000000\" font-family=\"sans-serif\" font-size=\"14\" font-weight=\"bold\" lengthAdjust=\"spacingAndGlyphs\" textLength=\"45\" x=\"381\" y=\"65.4951\">Test1</text></a><!--MD5=[7f149f147074ac12df2cb0a7728a5fb0]\n",
       "cluster E9--><a href=\"psysml:81951965-8d4b-42c4-ba21-4255f6488007\" target=\"_top\" title=\"psysml:81951965-8d4b-42c4-ba21-4255f6488007\" xlink:actuate=\"onRequest\" xlink:href=\"psysml:81951965-8d4b-42c4-ba21-4255f6488007\" xlink:show=\"new\" xlink:title=\"psysml:81951965-8d4b-42c4-ba21-4255f6488007\" xlink:type=\"simple\"><polygon fill=\"#FFFFFF\" points=\"186,50.5,237,50.5,244,72.7969,353,72.7969,353,141.5,186,141.5,186,50.5\" style=\"stroke: #000000; stroke-width: 1.5;\"/><line style=\"stroke: #000000; stroke-width: 1.5;\" x1=\"186\" x2=\"244\" y1=\"72.7969\" y2=\"72.7969\"/><text fill=\"#000000\" font-family=\"sans-serif\" font-size=\"14\" font-weight=\"bold\" lengthAdjust=\"spacingAndGlyphs\" textLength=\"45\" x=\"190\" y=\"65.4951\">Test2</text></a><g id=\"E1.E2.E3\"><a href=\"psysml:4745677c-bede-4ab8-acdc-4365dad759bc\" target=\"_top\" title=\"psysml:4745677c-bede-4ab8-acdc-4365dad759bc\" xlink:actuate=\"onRequest\" xlink:href=\"psysml:4745677c-bede-4ab8-acdc-4365dad759bc\" xlink:show=\"new\" xlink:title=\"psysml:4745677c-bede-4ab8-acdc-4365dad759bc\" xlink:type=\"simple\"><rect fill=\"#FFFFFF\" height=\"42.9375\" id=\"E3\" style=\"stroke: #383838; stroke-width: 1.5;\" width=\"71\" x=\"712.5\" y=\"84\"/><rect fill=\"#F8F8F8\" height=\"37.9375\" style=\"stroke: #383838; stroke-width: 1.5;\" width=\"71\" x=\"712.5\" y=\"84\"/><text fill=\"#000000\" font-family=\"sans-serif\" font-size=\"12\" font-style=\"italic\" lengthAdjust=\"spacingAndGlyphs\" textLength=\"64\" x=\"716\" y=\"100.1387\">«part def»</text><text fill=\"#000000\" font-family=\"sans-serif\" font-size=\"12\" lengthAdjust=\"spacingAndGlyphs\" textLength=\"8\" x=\"744\" y=\"114.1074\">A</text></a></g><g id=\"E1.E4.E5\"><a href=\"psysml:a455b6ac-bbc4-40c1-9da4-354e9f8fdc46\" target=\"_top\" title=\"psysml:a455b6ac-bbc4-40c1-9da4-354e9f8fdc46\" xlink:actuate=\"onRequest\" xlink:href=\"psysml:a455b6ac-bbc4-40c1-9da4-354e9f8fdc46\" xlink:show=\"new\" xlink:title=\"psysml:a455b6ac-bbc4-40c1-9da4-354e9f8fdc46\" xlink:type=\"simple\"><rect fill=\"#FFFFFF\" height=\"42.9375\" id=\"E5\" style=\"stroke: #383838; stroke-width: 1.5;\" width=\"71\" x=\"584.5\" y=\"84\"/><rect fill=\"#F8F8F8\" height=\"37.9375\" style=\"stroke: #383838; stroke-width: 1.5;\" width=\"71\" x=\"584.5\" y=\"84\"/><text fill=\"#000000\" font-family=\"sans-serif\" font-size=\"12\" font-style=\"italic\" lengthAdjust=\"spacingAndGlyphs\" textLength=\"64\" x=\"588\" y=\"100.1387\">«part def»</text><text fill=\"#000000\" font-family=\"sans-serif\" font-size=\"12\" lengthAdjust=\"spacingAndGlyphs\" textLength=\"8\" x=\"616\" y=\"114.1074\">B</text></a></g><g id=\"E1.E6.E7\"><a href=\"psysml:6b7db59d-d003-4043-9508-3fd9ac781eff\" target=\"_top\" title=\"psysml:6b7db59d-d003-4043-9508-3fd9ac781eff\" xlink:actuate=\"onRequest\" xlink:href=\"psysml:6b7db59d-d003-4043-9508-3fd9ac781eff\" xlink:show=\"new\" xlink:title=\"psysml:6b7db59d-d003-4043-9508-3fd9ac781eff\" xlink:type=\"simple\"><rect fill=\"#FFFFFF\" height=\"40\" id=\"E7\" rx=\"10\" ry=\"10\" style=\"stroke: #383838; stroke-width: 1.5;\" width=\"50\" x=\"478\" y=\"85.5\"/><rect fill=\"#F8F8F8\" height=\"23.9688\" rx=\"10\" ry=\"10\" style=\"stroke: #F8F8F8; stroke-width: 1.5;\" width=\"50\" x=\"478\" y=\"85.5\"/><rect fill=\"#F8F8F8\" height=\"10\" style=\"stroke: #F8F8F8; stroke-width: 1.5;\" width=\"50\" x=\"478\" y=\"99.4688\"/><rect fill=\"none\" height=\"40\" id=\"E7\" rx=\"10\" ry=\"10\" style=\"stroke: #383838; stroke-width: 1.5;\" width=\"50\" x=\"478\" y=\"85.5\"/><text fill=\"#000000\" font-family=\"sans-serif\" font-size=\"12\" lengthAdjust=\"spacingAndGlyphs\" textLength=\"22\" x=\"492\" y=\"101.6387\">x: A</text></a></g><g id=\"E1.E6.E8\"><a href=\"psysml:6c414e1f-4fb5-42fd-83aa-c158d2fbc464\" target=\"_top\" title=\"psysml:6c414e1f-4fb5-42fd-83aa-c158d2fbc464\" xlink:actuate=\"onRequest\" xlink:href=\"psysml:6c414e1f-4fb5-42fd-83aa-c158d2fbc464\" xlink:show=\"new\" xlink:title=\"psysml:6c414e1f-4fb5-42fd-83aa-c158d2fbc464\" xlink:type=\"simple\"><rect fill=\"#FFFFFF\" height=\"40\" id=\"E8\" rx=\"10\" ry=\"10\" style=\"stroke: #383838; stroke-width: 1.5;\" width=\"50\" x=\"393\" y=\"85.5\"/><rect fill=\"#F8F8F8\" height=\"23.9688\" rx=\"10\" ry=\"10\" style=\"stroke: #F8F8F8; stroke-width: 1.5;\" width=\"50\" x=\"393\" y=\"85.5\"/><rect fill=\"#F8F8F8\" height=\"10\" style=\"stroke: #F8F8F8; stroke-width: 1.5;\" width=\"50\" x=\"393\" y=\"99.4688\"/><rect fill=\"none\" height=\"40\" id=\"E8\" rx=\"10\" ry=\"10\" style=\"stroke: #383838; stroke-width: 1.5;\" width=\"50\" x=\"393\" y=\"85.5\"/><text fill=\"#000000\" font-family=\"sans-serif\" font-size=\"12\" lengthAdjust=\"spacingAndGlyphs\" textLength=\"22\" x=\"407\" y=\"101.6387\">y: B</text></a></g><g id=\"E1.E9.E10\"><a href=\"psysml:797261aa-a958-4475-9de3-b139176b10fb\" target=\"_top\" title=\"psysml:797261aa-a958-4475-9de3-b139176b10fb\" xlink:actuate=\"onRequest\" xlink:href=\"psysml:797261aa-a958-4475-9de3-b139176b10fb\" xlink:show=\"new\" xlink:title=\"psysml:797261aa-a958-4475-9de3-b139176b10fb\" xlink:type=\"simple\"><rect fill=\"#FFFFFF\" height=\"40\" id=\"E10\" rx=\"10\" ry=\"10\" style=\"stroke: #383838; stroke-width: 1.5;\" width=\"50\" x=\"287\" y=\"85.5\"/><rect fill=\"#F8F8F8\" height=\"23.9688\" rx=\"10\" ry=\"10\" style=\"stroke: #F8F8F8; stroke-width: 1.5;\" width=\"50\" x=\"287\" y=\"85.5\"/><rect fill=\"#F8F8F8\" height=\"10\" style=\"stroke: #F8F8F8; stroke-width: 1.5;\" width=\"50\" x=\"287\" y=\"99.4688\"/><rect fill=\"none\" height=\"40\" id=\"E10\" rx=\"10\" ry=\"10\" style=\"stroke: #383838; stroke-width: 1.5;\" width=\"50\" x=\"287\" y=\"85.5\"/><text fill=\"#000000\" font-family=\"sans-serif\" font-size=\"12\" lengthAdjust=\"spacingAndGlyphs\" textLength=\"22\" x=\"301\" y=\"101.6387\">x: A</text></a></g><g id=\"E1.E9.E11\"><a href=\"psysml:3825b43b-bb71-4033-970e-c8c9e00cfd14\" target=\"_top\" title=\"psysml:3825b43b-bb71-4033-970e-c8c9e00cfd14\" xlink:actuate=\"onRequest\" xlink:href=\"psysml:3825b43b-bb71-4033-970e-c8c9e00cfd14\" xlink:show=\"new\" xlink:title=\"psysml:3825b43b-bb71-4033-970e-c8c9e00cfd14\" xlink:type=\"simple\"><rect fill=\"#FFFFFF\" height=\"40\" id=\"E11\" rx=\"10\" ry=\"10\" style=\"stroke: #383838; stroke-width: 1.5;\" width=\"50\" x=\"202\" y=\"85.5\"/><rect fill=\"#F8F8F8\" height=\"23.9688\" rx=\"10\" ry=\"10\" style=\"stroke: #F8F8F8; stroke-width: 1.5;\" width=\"50\" x=\"202\" y=\"85.5\"/><rect fill=\"#F8F8F8\" height=\"10\" style=\"stroke: #F8F8F8; stroke-width: 1.5;\" width=\"50\" x=\"202\" y=\"99.4688\"/><rect fill=\"none\" height=\"40\" id=\"E11\" rx=\"10\" ry=\"10\" style=\"stroke: #383838; stroke-width: 1.5;\" width=\"50\" x=\"202\" y=\"85.5\"/><text fill=\"#000000\" font-family=\"sans-serif\" font-size=\"12\" lengthAdjust=\"spacingAndGlyphs\" textLength=\"22\" x=\"216\" y=\"101.6387\">y: B</text></a></g><g id=\"E1.E12\"><a href=\"psysml:e16c4bbb-61f3-4b61-a2b5-b03e29e494af\" target=\"_top\" title=\"psysml:e16c4bbb-61f3-4b61-a2b5-b03e29e494af\" xlink:actuate=\"onRequest\" xlink:href=\"psysml:e16c4bbb-61f3-4b61-a2b5-b03e29e494af\" xlink:show=\"new\" xlink:title=\"psysml:e16c4bbb-61f3-4b61-a2b5-b03e29e494af\" xlink:type=\"simple\"><rect fill=\"#FFFFFF\" height=\"40\" id=\"E12\" rx=\"10\" ry=\"10\" style=\"stroke: #383838; stroke-width: 1.5;\" width=\"50\" x=\"117\" y=\"85.5\"/><rect fill=\"#F8F8F8\" height=\"23.9688\" rx=\"10\" ry=\"10\" style=\"stroke: #F8F8F8; stroke-width: 1.5;\" width=\"50\" x=\"117\" y=\"85.5\"/><rect fill=\"#F8F8F8\" height=\"10\" style=\"stroke: #F8F8F8; stroke-width: 1.5;\" width=\"50\" x=\"117\" y=\"99.4688\"/><rect fill=\"none\" height=\"40\" id=\"E12\" rx=\"10\" ry=\"10\" style=\"stroke: #383838; stroke-width: 1.5;\" width=\"50\" x=\"117\" y=\"85.5\"/><text fill=\"#000000\" font-family=\"sans-serif\" font-size=\"12\" lengthAdjust=\"spacingAndGlyphs\" textLength=\"22\" x=\"131\" y=\"101.6387\">x: A</text></a></g><g id=\"E1.E13\"><a href=\"psysml:6a814915-eeda-4c4d-8e98-a86878ae1f3d\" target=\"_top\" title=\"psysml:6a814915-eeda-4c4d-8e98-a86878ae1f3d\" xlink:actuate=\"onRequest\" xlink:href=\"psysml:6a814915-eeda-4c4d-8e98-a86878ae1f3d\" xlink:show=\"new\" xlink:title=\"psysml:6a814915-eeda-4c4d-8e98-a86878ae1f3d\" xlink:type=\"simple\"><rect fill=\"#FFFFFF\" height=\"40\" id=\"E13\" rx=\"10\" ry=\"10\" style=\"stroke: #383838; stroke-width: 1.5;\" width=\"50\" x=\"32\" y=\"85.5\"/><rect fill=\"#F8F8F8\" height=\"23.9688\" rx=\"10\" ry=\"10\" style=\"stroke: #F8F8F8; stroke-width: 1.5;\" width=\"50\" x=\"32\" y=\"85.5\"/><rect fill=\"#F8F8F8\" height=\"10\" style=\"stroke: #F8F8F8; stroke-width: 1.5;\" width=\"50\" x=\"32\" y=\"99.4688\"/><rect fill=\"none\" height=\"40\" id=\"E13\" rx=\"10\" ry=\"10\" style=\"stroke: #383838; stroke-width: 1.5;\" width=\"50\" x=\"32\" y=\"85.5\"/><text fill=\"#000000\" font-family=\"sans-serif\" font-size=\"12\" lengthAdjust=\"spacingAndGlyphs\" textLength=\"22\" x=\"46\" y=\"101.6387\">y: B</text></a></g><!--MD5=[58244914dfcaac335c92f078607ebcc3]\n",
       "@startuml\r\n",
       "skinparam ranksep 8\r\n",
       "skinparam rectangle {\r\n",
       " backgroundColor<<block>> LightGreen\r\n",
       "}\r\n",
       "skinparam monochrome true\r\n",
       "skinparam classbackgroundcolor white\r\n",
       "skinparam shadowing false\r\n",
       "skinparam wrapWidth 300\r\n",
       "hide circle\r\n",
       "\r\n",
       "package \"CircularImport\" as E1  [[psysml:6a62b0bb-ce07-42d9-b06f-c19bd22a93a2 ]]  {\r\n",
       "package \"P1\" as E2  [[psysml:e5793e48-aebf-4c77-9b1c-634d316c370a ]]  {\r\n",
       "rec def \"A\" as E3  <<(T,blue)part def>> [[psysml:4745677c-bede-4ab8-acdc-4365dad759bc ]] {\r\n",
       "}\r\n",
       "}\r\n",
       "package \"P2\" as E4  [[psysml:9f128572-3fea-4fc4-b18b-c92f97cc0f0b ]]  {\r\n",
       "rec def \"B\" as E5  <<(T,blue)part def>> [[psysml:a455b6ac-bbc4-40c1-9da4-354e9f8fdc46 ]] {\r\n",
       "}\r\n",
       "}\r\n",
       "package \"Test1\" as E6  [[psysml:6c517ad3-81f8-4503-b234-41386708eb5e ]]  {\r\n",
       "rec usage \"x: A\" as E7  [[psysml:6b7db59d-d003-4043-9508-3fd9ac781eff ]] {\r\n",
       "}\r\n",
       "rec usage \"y: B\" as E8  [[psysml:6c414e1f-4fb5-42fd-83aa-c158d2fbc464 ]] {\r\n",
       "}\r\n",
       "}\r\n",
       "package \"Test2\" as E9  [[psysml:81951965-8d4b-42c4-ba21-4255f6488007 ]]  {\r\n",
       "rec usage \"x: A\" as E10  [[psysml:797261aa-a958-4475-9de3-b139176b10fb ]] {\r\n",
       "}\r\n",
       "rec usage \"y: B\" as E11  [[psysml:3825b43b-bb71-4033-970e-c8c9e00cfd14 ]] {\r\n",
       "}\r\n",
       "}\r\n",
       "rec usage \"x: A\" as E12  [[psysml:e16c4bbb-61f3-4b61-a2b5-b03e29e494af ]] {\r\n",
       "}\r\n",
       "rec usage \"y: B\" as E13  [[psysml:6a814915-eeda-4c4d-8e98-a86878ae1f3d ]] {\r\n",
       "}\r\n",
       "}\r\n",
       "@enduml\r\n",
       "\n",
       "PlantUML version 1.2020.13(Sat Jun 13 12:26:38 UTC 2020)\n",
       "(EPL source distribution)\n",
       "Java Runtime: OpenJDK Runtime Environment\n",
       "JVM: OpenJDK 64-Bit Server VM\n",
       "Default Encoding: UTF-8\n",
       "Language: en\n",
       "Country: null\n",
       "--></g></svg>"
      ]
     },
     "execution_count": 40,
     "metadata": {},
     "output_type": "execute_result"
    }
   ],
   "source": [
    "%viz --style=\"DEFAULT\" --view=\"Interconnection\" \"CircularImport\""
   ]
  },
  {
   "cell_type": "code",
   "execution_count": 41,
   "id": "cloudy-dispute",
   "metadata": {
    "execution": {
     "iopub.execute_input": "2021-03-25T13:13:22.665246Z",
     "iopub.status.busy": "2021-03-25T13:13:22.664488Z",
     "iopub.status.idle": "2021-03-25T13:13:22.674747Z",
     "shell.execute_reply": "2021-03-25T13:13:22.674361Z"
    }
   },
   "outputs": [
    {
     "data": {
      "image/svg+xml": [
       "<?xml version=\"1.0\" encoding=\"UTF-8\" standalone=\"no\"?><svg xmlns=\"http://www.w3.org/2000/svg\" xmlns:xlink=\"http://www.w3.org/1999/xlink\" contentScriptType=\"application/ecmascript\" contentStyleType=\"text/css\" height=\"12px\" preserveAspectRatio=\"none\" style=\"width:12px;height:12px;\" version=\"1.1\" viewBox=\"0 0 12 12\" width=\"12px\" zoomAndPan=\"magnify\"><defs/><g><!--MD5=[388f21188e31bfdd97050473b19af356]\n",
       "@startuml\r\n",
       "skinparam ranksep 8\r\n",
       "skinparam monochrome true\r\n",
       "skinparam classbackgroundcolor white\r\n",
       "skinparam shadowing false\r\n",
       "skinparam wrapWidth 300\r\n",
       "hide circle\r\n",
       "\r\n",
       "@enduml\r\n",
       "\n",
       "PlantUML version 1.2020.13(Sat Jun 13 12:26:38 UTC 2020)\n",
       "(EPL source distribution)\n",
       "Java Runtime: OpenJDK Runtime Environment\n",
       "JVM: OpenJDK 64-Bit Server VM\n",
       "Default Encoding: UTF-8\n",
       "Language: en\n",
       "Country: null\n",
       "--></g></svg>"
      ]
     },
     "execution_count": 41,
     "metadata": {},
     "output_type": "execute_result"
    }
   ],
   "source": [
    "%viz --style=\"DEFAULT\" --view=\"Action\" \"CircularImport\""
   ]
  },
  {
   "cell_type": "code",
   "execution_count": 42,
   "id": "caroline-means",
   "metadata": {
    "execution": {
     "iopub.execute_input": "2021-03-25T13:13:22.725491Z",
     "iopub.status.busy": "2021-03-25T13:13:22.724401Z",
     "iopub.status.idle": "2021-03-25T13:13:22.835498Z",
     "shell.execute_reply": "2021-03-25T13:13:22.833517Z"
    }
   },
   "outputs": [
    {
     "data": {
      "image/svg+xml": [
       "<?xml version=\"1.0\" encoding=\"UTF-8\" standalone=\"no\"?><svg xmlns=\"http://www.w3.org/2000/svg\" xmlns:xlink=\"http://www.w3.org/1999/xlink\" contentScriptType=\"application/ecmascript\" contentStyleType=\"text/css\" height=\"303px\" preserveAspectRatio=\"none\" style=\"width:518px;height:303px;\" version=\"1.1\" viewBox=\"0 0 518 303\" width=\"518px\" zoomAndPan=\"magnify\"><defs/><g><!--MD5=[fbc87193dbaf4d95561dea2c320d4a47]\n",
       "cluster E1--><a href=\"psysml:6a62b0bb-ce07-42d9-b06f-c19bd22a93a2\" target=\"_top\" title=\"psysml:6a62b0bb-ce07-42d9-b06f-c19bd22a93a2\" xlink:actuate=\"onRequest\" xlink:href=\"psysml:6a62b0bb-ce07-42d9-b06f-c19bd22a93a2\" xlink:show=\"new\" xlink:title=\"psysml:6a62b0bb-ce07-42d9-b06f-c19bd22a93a2\" xlink:type=\"simple\"><polygon fill=\"#FFFFFF\" points=\"16,6,134,6,141,28.2969,496,28.2969,496,291,16,291,16,6\" style=\"stroke: #000000; stroke-width: 1.5;\"/><line style=\"stroke: #000000; stroke-width: 1.5;\" x1=\"16\" x2=\"141\" y1=\"28.2969\" y2=\"28.2969\"/><text fill=\"#000000\" font-family=\"sans-serif\" font-size=\"14\" font-weight=\"bold\" lengthAdjust=\"spacingAndGlyphs\" textLength=\"112\" x=\"20\" y=\"20.9951\">CircularImport</text></a><!--MD5=[e4f7fae6ed58524ba242bb0b0d3be6b7]\n",
       "cluster E2--><a href=\"psysml:e5793e48-aebf-4c77-9b1c-634d316c370a\" target=\"_top\" title=\"psysml:e5793e48-aebf-4c77-9b1c-634d316c370a\" xlink:actuate=\"onRequest\" xlink:href=\"psysml:e5793e48-aebf-4c77-9b1c-634d316c370a\" xlink:show=\"new\" xlink:title=\"psysml:e5793e48-aebf-4c77-9b1c-634d316c370a\" xlink:type=\"simple\"><polygon fill=\"#FFFFFF\" points=\"333,170,359,170,366,192.2969,431,192.2969,431,267,333,267,333,170\" style=\"stroke: #000000; stroke-width: 1.5;\"/><line style=\"stroke: #000000; stroke-width: 1.5;\" x1=\"333\" x2=\"366\" y1=\"192.2969\" y2=\"192.2969\"/><text fill=\"#000000\" font-family=\"sans-serif\" font-size=\"14\" font-weight=\"bold\" lengthAdjust=\"spacingAndGlyphs\" textLength=\"20\" x=\"337\" y=\"184.9951\">P1</text></a><!--MD5=[f6df4d0ebaf0b5dfb2ced0ae5af7c670]\n",
       "cluster E4--><a href=\"psysml:9f128572-3fea-4fc4-b18b-c92f97cc0f0b\" target=\"_top\" title=\"psysml:9f128572-3fea-4fc4-b18b-c92f97cc0f0b\" xlink:actuate=\"onRequest\" xlink:href=\"psysml:9f128572-3fea-4fc4-b18b-c92f97cc0f0b\" xlink:show=\"new\" xlink:title=\"psysml:9f128572-3fea-4fc4-b18b-c92f97cc0f0b\" xlink:type=\"simple\"><polygon fill=\"#FFFFFF\" points=\"81,170,107,170,114,192.2969,179,192.2969,179,267,81,267,81,170\" style=\"stroke: #000000; stroke-width: 1.5;\"/><line style=\"stroke: #000000; stroke-width: 1.5;\" x1=\"81\" x2=\"114\" y1=\"192.2969\" y2=\"192.2969\"/><text fill=\"#000000\" font-family=\"sans-serif\" font-size=\"14\" font-weight=\"bold\" lengthAdjust=\"spacingAndGlyphs\" textLength=\"20\" x=\"85\" y=\"184.9951\">P2</text></a><!--MD5=[14e3b0961a2654348d326746436168a1]\n",
       "cluster E6--><a href=\"psysml:6c517ad3-81f8-4503-b234-41386708eb5e\" target=\"_top\" title=\"psysml:6c517ad3-81f8-4503-b234-41386708eb5e\" xlink:actuate=\"onRequest\" xlink:href=\"psysml:6c517ad3-81f8-4503-b234-41386708eb5e\" xlink:show=\"new\" xlink:title=\"psysml:6c517ad3-81f8-4503-b234-41386708eb5e\" xlink:type=\"simple\"><polygon fill=\"#FFFFFF\" points=\"268,49,319,49,326,71.2969,419,71.2969,419,146,268,146,268,49\" style=\"stroke: #000000; stroke-width: 1.5;\"/><line style=\"stroke: #000000; stroke-width: 1.5;\" x1=\"268\" x2=\"326\" y1=\"71.2969\" y2=\"71.2969\"/><text fill=\"#000000\" font-family=\"sans-serif\" font-size=\"14\" font-weight=\"bold\" lengthAdjust=\"spacingAndGlyphs\" textLength=\"45\" x=\"272\" y=\"63.9951\">Test1</text></a><!--MD5=[7f149f147074ac12df2cb0a7728a5fb0]\n",
       "cluster E9--><a href=\"psysml:81951965-8d4b-42c4-ba21-4255f6488007\" target=\"_top\" title=\"psysml:81951965-8d4b-42c4-ba21-4255f6488007\" xlink:actuate=\"onRequest\" xlink:href=\"psysml:81951965-8d4b-42c4-ba21-4255f6488007\" xlink:show=\"new\" xlink:title=\"psysml:81951965-8d4b-42c4-ba21-4255f6488007\" xlink:type=\"simple\"><polygon fill=\"#FFFFFF\" points=\"93,49,144,49,151,71.2969,244,71.2969,244,146,93,146,93,49\" style=\"stroke: #000000; stroke-width: 1.5;\"/><line style=\"stroke: #000000; stroke-width: 1.5;\" x1=\"93\" x2=\"151\" y1=\"71.2969\" y2=\"71.2969\"/><text fill=\"#000000\" font-family=\"sans-serif\" font-size=\"14\" font-weight=\"bold\" lengthAdjust=\"spacingAndGlyphs\" textLength=\"45\" x=\"97\" y=\"63.9951\">Test2</text></a><!--MD5=[49a0ec8f00dab7302a31f22d0f0fe584]\n",
       "class E12--><a href=\"psysml:e16c4bbb-61f3-4b61-a2b5-b03e29e494af\" target=\"_top\" title=\"psysml:e16c4bbb-61f3-4b61-a2b5-b03e29e494af\" xlink:actuate=\"onRequest\" xlink:href=\"psysml:e16c4bbb-61f3-4b61-a2b5-b03e29e494af\" xlink:show=\"new\" xlink:title=\"psysml:e16c4bbb-61f3-4b61-a2b5-b03e29e494af\" xlink:type=\"simple\"><rect fill=\"#FFFFFF\" height=\"45.9375\" id=\"E12\" rx=\"10\" ry=\"10\" style=\"stroke: #383838; stroke-width: 1.5;\" width=\"42\" x=\"438\" y=\"84\"/><text fill=\"#000000\" font-family=\"sans-serif\" font-size=\"12\" font-style=\"italic\" lengthAdjust=\"spacingAndGlyphs\" textLength=\"40\" x=\"439\" y=\"100.1387\">«part»</text><text fill=\"#000000\" font-family=\"sans-serif\" font-size=\"12\" lengthAdjust=\"spacingAndGlyphs\" textLength=\"22\" x=\"448\" y=\"114.1074\">x: A</text><line style=\"stroke: #383838; stroke-width: 1.5;\" x1=\"439\" x2=\"479\" y1=\"121.9375\" y2=\"121.9375\"/></a><!--MD5=[ee3c913d1a06f366521f9ef512b67efe]\n",
       "class E13--><a href=\"psysml:6a814915-eeda-4c4d-8e98-a86878ae1f3d\" target=\"_top\" title=\"psysml:6a814915-eeda-4c4d-8e98-a86878ae1f3d\" xlink:actuate=\"onRequest\" xlink:href=\"psysml:6a814915-eeda-4c4d-8e98-a86878ae1f3d\" xlink:show=\"new\" xlink:title=\"psysml:6a814915-eeda-4c4d-8e98-a86878ae1f3d\" xlink:type=\"simple\"><rect fill=\"#FFFFFF\" height=\"45.9375\" id=\"E13\" rx=\"10\" ry=\"10\" style=\"stroke: #383838; stroke-width: 1.5;\" width=\"42\" x=\"32\" y=\"84\"/><text fill=\"#000000\" font-family=\"sans-serif\" font-size=\"12\" font-style=\"italic\" lengthAdjust=\"spacingAndGlyphs\" textLength=\"40\" x=\"33\" y=\"100.1387\">«part»</text><text fill=\"#000000\" font-family=\"sans-serif\" font-size=\"12\" lengthAdjust=\"spacingAndGlyphs\" textLength=\"22\" x=\"42\" y=\"114.1074\">y: B</text><line style=\"stroke: #383838; stroke-width: 1.5;\" x1=\"33\" x2=\"73\" y1=\"121.9375\" y2=\"121.9375\"/></a><!--MD5=[09b614a08d8cba4a07c9adeb5e0fee81]\n",
       "class E3--><a href=\"psysml:4745677c-bede-4ab8-acdc-4365dad759bc\" target=\"_top\" title=\"psysml:4745677c-bede-4ab8-acdc-4365dad759bc\" xlink:actuate=\"onRequest\" xlink:href=\"psysml:4745677c-bede-4ab8-acdc-4365dad759bc\" xlink:show=\"new\" xlink:title=\"psysml:4745677c-bede-4ab8-acdc-4365dad759bc\" xlink:type=\"simple\"><rect fill=\"#FFFFFF\" height=\"45.9375\" id=\"E3\" style=\"stroke: #383838; stroke-width: 1.5;\" width=\"66\" x=\"349\" y=\"205\"/><text fill=\"#000000\" font-family=\"sans-serif\" font-size=\"12\" font-style=\"italic\" lengthAdjust=\"spacingAndGlyphs\" textLength=\"64\" x=\"350\" y=\"221.1387\">«part def»</text><text fill=\"#000000\" font-family=\"sans-serif\" font-size=\"12\" lengthAdjust=\"spacingAndGlyphs\" textLength=\"8\" x=\"378\" y=\"235.1074\">A</text><line style=\"stroke: #383838; stroke-width: 1.5;\" x1=\"350\" x2=\"414\" y1=\"242.9375\" y2=\"242.9375\"/></a><!--MD5=[270fce915f116d4de14055a7c1d9a0f3]\n",
       "class E5--><a href=\"psysml:a455b6ac-bbc4-40c1-9da4-354e9f8fdc46\" target=\"_top\" title=\"psysml:a455b6ac-bbc4-40c1-9da4-354e9f8fdc46\" xlink:actuate=\"onRequest\" xlink:href=\"psysml:a455b6ac-bbc4-40c1-9da4-354e9f8fdc46\" xlink:show=\"new\" xlink:title=\"psysml:a455b6ac-bbc4-40c1-9da4-354e9f8fdc46\" xlink:type=\"simple\"><rect fill=\"#FFFFFF\" height=\"45.9375\" id=\"E5\" style=\"stroke: #383838; stroke-width: 1.5;\" width=\"66\" x=\"97\" y=\"205\"/><text fill=\"#000000\" font-family=\"sans-serif\" font-size=\"12\" font-style=\"italic\" lengthAdjust=\"spacingAndGlyphs\" textLength=\"64\" x=\"98\" y=\"221.1387\">«part def»</text><text fill=\"#000000\" font-family=\"sans-serif\" font-size=\"12\" lengthAdjust=\"spacingAndGlyphs\" textLength=\"8\" x=\"126\" y=\"235.1074\">B</text><line style=\"stroke: #383838; stroke-width: 1.5;\" x1=\"98\" x2=\"162\" y1=\"242.9375\" y2=\"242.9375\"/></a><!--MD5=[2156ba9850f5573cc1fc38a6a4b2f02b]\n",
       "class E7--><a href=\"psysml:6b7db59d-d003-4043-9508-3fd9ac781eff\" target=\"_top\" title=\"psysml:6b7db59d-d003-4043-9508-3fd9ac781eff\" xlink:actuate=\"onRequest\" xlink:href=\"psysml:6b7db59d-d003-4043-9508-3fd9ac781eff\" xlink:show=\"new\" xlink:title=\"psysml:6b7db59d-d003-4043-9508-3fd9ac781eff\" xlink:type=\"simple\"><rect fill=\"#FFFFFF\" height=\"45.9375\" id=\"E7\" rx=\"10\" ry=\"10\" style=\"stroke: #383838; stroke-width: 1.5;\" width=\"42\" x=\"361\" y=\"84\"/><text fill=\"#000000\" font-family=\"sans-serif\" font-size=\"12\" font-style=\"italic\" lengthAdjust=\"spacingAndGlyphs\" textLength=\"40\" x=\"362\" y=\"100.1387\">«part»</text><text fill=\"#000000\" font-family=\"sans-serif\" font-size=\"12\" lengthAdjust=\"spacingAndGlyphs\" textLength=\"22\" x=\"371\" y=\"114.1074\">x: A</text><line style=\"stroke: #383838; stroke-width: 1.5;\" x1=\"362\" x2=\"402\" y1=\"121.9375\" y2=\"121.9375\"/></a><!--MD5=[b9389687b975829384b498ac4b7476b2]\n",
       "class E8--><a href=\"psysml:6c414e1f-4fb5-42fd-83aa-c158d2fbc464\" target=\"_top\" title=\"psysml:6c414e1f-4fb5-42fd-83aa-c158d2fbc464\" xlink:actuate=\"onRequest\" xlink:href=\"psysml:6c414e1f-4fb5-42fd-83aa-c158d2fbc464\" xlink:show=\"new\" xlink:title=\"psysml:6c414e1f-4fb5-42fd-83aa-c158d2fbc464\" xlink:type=\"simple\"><rect fill=\"#FFFFFF\" height=\"45.9375\" id=\"E8\" rx=\"10\" ry=\"10\" style=\"stroke: #383838; stroke-width: 1.5;\" width=\"42\" x=\"284\" y=\"84\"/><text fill=\"#000000\" font-family=\"sans-serif\" font-size=\"12\" font-style=\"italic\" lengthAdjust=\"spacingAndGlyphs\" textLength=\"40\" x=\"285\" y=\"100.1387\">«part»</text><text fill=\"#000000\" font-family=\"sans-serif\" font-size=\"12\" lengthAdjust=\"spacingAndGlyphs\" textLength=\"22\" x=\"294\" y=\"114.1074\">y: B</text><line style=\"stroke: #383838; stroke-width: 1.5;\" x1=\"285\" x2=\"325\" y1=\"121.9375\" y2=\"121.9375\"/></a><!--MD5=[96f4274e9e20536e775497830990834d]\n",
       "class E10--><a href=\"psysml:797261aa-a958-4475-9de3-b139176b10fb\" target=\"_top\" title=\"psysml:797261aa-a958-4475-9de3-b139176b10fb\" xlink:actuate=\"onRequest\" xlink:href=\"psysml:797261aa-a958-4475-9de3-b139176b10fb\" xlink:show=\"new\" xlink:title=\"psysml:797261aa-a958-4475-9de3-b139176b10fb\" xlink:type=\"simple\"><rect fill=\"#FFFFFF\" height=\"45.9375\" id=\"E10\" rx=\"10\" ry=\"10\" style=\"stroke: #383838; stroke-width: 1.5;\" width=\"42\" x=\"186\" y=\"84\"/><text fill=\"#000000\" font-family=\"sans-serif\" font-size=\"12\" font-style=\"italic\" lengthAdjust=\"spacingAndGlyphs\" textLength=\"40\" x=\"187\" y=\"100.1387\">«part»</text><text fill=\"#000000\" font-family=\"sans-serif\" font-size=\"12\" lengthAdjust=\"spacingAndGlyphs\" textLength=\"22\" x=\"196\" y=\"114.1074\">x: A</text><line style=\"stroke: #383838; stroke-width: 1.5;\" x1=\"187\" x2=\"227\" y1=\"121.9375\" y2=\"121.9375\"/></a><!--MD5=[1dd1bfd58a279cf63c5f349dbc8fc6a1]\n",
       "class E11--><a href=\"psysml:3825b43b-bb71-4033-970e-c8c9e00cfd14\" target=\"_top\" title=\"psysml:3825b43b-bb71-4033-970e-c8c9e00cfd14\" xlink:actuate=\"onRequest\" xlink:href=\"psysml:3825b43b-bb71-4033-970e-c8c9e00cfd14\" xlink:show=\"new\" xlink:title=\"psysml:3825b43b-bb71-4033-970e-c8c9e00cfd14\" xlink:type=\"simple\"><rect fill=\"#FFFFFF\" height=\"45.9375\" id=\"E11\" rx=\"10\" ry=\"10\" style=\"stroke: #383838; stroke-width: 1.5;\" width=\"42\" x=\"109\" y=\"84\"/><text fill=\"#000000\" font-family=\"sans-serif\" font-size=\"12\" font-style=\"italic\" lengthAdjust=\"spacingAndGlyphs\" textLength=\"40\" x=\"110\" y=\"100.1387\">«part»</text><text fill=\"#000000\" font-family=\"sans-serif\" font-size=\"12\" lengthAdjust=\"spacingAndGlyphs\" textLength=\"22\" x=\"119\" y=\"114.1074\">y: B</text><line style=\"stroke: #383838; stroke-width: 1.5;\" x1=\"110\" x2=\"150\" y1=\"121.9375\" y2=\"121.9375\"/></a><!--MD5=[14ccda38c055a5c0da953d572bc50960]\n",
       "link E7 to E3--><a href=\"psysml:85e1ff22-6346-4a23-846d-dc1a236203c0\" target=\"_top\" title=\"psysml:85e1ff22-6346-4a23-846d-dc1a236203c0\" xlink:actuate=\"onRequest\" xlink:href=\"psysml:85e1ff22-6346-4a23-846d-dc1a236203c0\" xlink:show=\"new\" xlink:title=\"psysml:85e1ff22-6346-4a23-846d-dc1a236203c0\" xlink:type=\"simple\"><path d=\"M382,130.1 C382,145.37 382,166.16 382,184.57 \" fill=\"none\" id=\"E7-&gt;E3\" style=\"stroke: #383838; stroke-width: 1.0;\"/><polygon fill=\"#FFFFFF\" points=\"382,204.61,375,185.61,389,185.61,382,204.61\" style=\"stroke: #383838; stroke-width: 1.0;\"/><ellipse cx=\"377\" cy=\"179.91\" fill=\"#383838\" rx=\"2\" ry=\"2\" style=\"stroke: #383838; stroke-width: 1.0;\"/><ellipse cx=\"387\" cy=\"179.91\" fill=\"#383838\" rx=\"2\" ry=\"2\" style=\"stroke: #383838; stroke-width: 1.0;\"/></a><!--MD5=[1ccb2481ffa92f8d51a74ee30c51832a]\n",
       "link E8 to E5--><a href=\"psysml:483adec0-2d55-41ba-876c-1b8fe7d429ab\" target=\"_top\" title=\"psysml:483adec0-2d55-41ba-876c-1b8fe7d429ab\" xlink:actuate=\"onRequest\" xlink:href=\"psysml:483adec0-2d55-41ba-876c-1b8fe7d429ab\" xlink:show=\"new\" xlink:title=\"psysml:483adec0-2d55-41ba-876c-1b8fe7d429ab\" xlink:type=\"simple\"><path d=\"M283.84,124.59 C272.23,133.52 257.5,144.61 244,154 C223.51,168.25 200.41,183.24 180.38,195.91 \" fill=\"none\" id=\"E8-&gt;E5\" style=\"stroke: #383838; stroke-width: 1.0;\"/><polygon fill=\"#FFFFFF\" points=\"163.36,206.57,175.7353,190.5434,183.175,202.403,163.36,206.57\" style=\"stroke: #383838; stroke-width: 1.0;\"/><ellipse cx=\"181.6267\" cy=\"189.2086\" fill=\"#383838\" rx=\"2\" ry=\"2\" style=\"stroke: #383838; stroke-width: 1.0;\"/><ellipse cx=\"186.9408\" cy=\"197.6797\" fill=\"#383838\" rx=\"2\" ry=\"2\" style=\"stroke: #383838; stroke-width: 1.0;\"/></a><!--MD5=[feeac5eb423634930294aa81f2d25a4c]\n",
       "link E10 to E3--><a href=\"psysml:0e238847-8a3c-4f4a-a4c7-c4eca45a31b2\" target=\"_top\" title=\"psysml:0e238847-8a3c-4f4a-a4c7-c4eca45a31b2\" xlink:actuate=\"onRequest\" xlink:href=\"psysml:0e238847-8a3c-4f4a-a4c7-c4eca45a31b2\" xlink:show=\"new\" xlink:title=\"psysml:0e238847-8a3c-4f4a-a4c7-c4eca45a31b2\" xlink:type=\"simple\"><path d=\"M228.16,124.59 C239.77,133.52 254.5,144.61 268,154 C288.49,168.25 311.59,183.24 331.62,195.91 \" fill=\"none\" id=\"E10-&gt;E3\" style=\"stroke: #383838; stroke-width: 1.0;\"/><polygon fill=\"#FFFFFF\" points=\"348.64,206.57,328.825,202.403,336.2647,190.5434,348.64,206.57\" style=\"stroke: #383838; stroke-width: 1.0;\"/><ellipse cx=\"325.0592\" cy=\"197.6797\" fill=\"#383838\" rx=\"2\" ry=\"2\" style=\"stroke: #383838; stroke-width: 1.0;\"/><ellipse cx=\"330.3733\" cy=\"189.2086\" fill=\"#383838\" rx=\"2\" ry=\"2\" style=\"stroke: #383838; stroke-width: 1.0;\"/></a><!--MD5=[07b77f6f309248d16187045709d1c26e]\n",
       "link E11 to E5--><a href=\"psysml:1112046b-9823-4ab2-8a83-96247ffb9742\" target=\"_top\" title=\"psysml:1112046b-9823-4ab2-8a83-96247ffb9742\" xlink:actuate=\"onRequest\" xlink:href=\"psysml:1112046b-9823-4ab2-8a83-96247ffb9742\" xlink:show=\"new\" xlink:title=\"psysml:1112046b-9823-4ab2-8a83-96247ffb9742\" xlink:type=\"simple\"><path d=\"M130,130.1 C130,145.37 130,166.16 130,184.57 \" fill=\"none\" id=\"E11-&gt;E5\" style=\"stroke: #383838; stroke-width: 1.0;\"/><polygon fill=\"#FFFFFF\" points=\"130,204.61,123,185.61,137,185.61,130,204.61\" style=\"stroke: #383838; stroke-width: 1.0;\"/><ellipse cx=\"125\" cy=\"179.91\" fill=\"#383838\" rx=\"2\" ry=\"2\" style=\"stroke: #383838; stroke-width: 1.0;\"/><ellipse cx=\"135\" cy=\"179.91\" fill=\"#383838\" rx=\"2\" ry=\"2\" style=\"stroke: #383838; stroke-width: 1.0;\"/></a><!--MD5=[39f41a0e550fb3d73b4d8135617e30a2]\n",
       "link E12 to E3--><a href=\"psysml:ee0d4e1c-50f8-4d3c-8a56-5035ed7c5f53\" target=\"_top\" title=\"psysml:ee0d4e1c-50f8-4d3c-8a56-5035ed7c5f53\" xlink:actuate=\"onRequest\" xlink:href=\"psysml:ee0d4e1c-50f8-4d3c-8a56-5035ed7c5f53\" xlink:show=\"new\" xlink:title=\"psysml:ee0d4e1c-50f8-4d3c-8a56-5035ed7c5f53\" xlink:type=\"simple\"><path d=\"M444.7,130.1 C434.28,146.2 419.89,168.44 407.53,187.55 \" fill=\"none\" id=\"E12-&gt;E3\" style=\"stroke: #383838; stroke-width: 1.0;\"/><polygon fill=\"#FFFFFF\" points=\"396.49,204.61,400.9313,184.8546,412.6866,192.4581,396.49,204.61\" style=\"stroke: #383838; stroke-width: 1.0;\"/><ellipse cx=\"405.7063\" cy=\"181.1547\" fill=\"#383838\" rx=\"2\" ry=\"2\" style=\"stroke: #383838; stroke-width: 1.0;\"/><ellipse cx=\"414.103\" cy=\"186.5858\" fill=\"#383838\" rx=\"2\" ry=\"2\" style=\"stroke: #383838; stroke-width: 1.0;\"/></a><!--MD5=[066b2d8af59fea80ccdb3d54ad5c1091]\n",
       "link E13 to E5--><a href=\"psysml:1d6f62f5-9885-441d-bead-3e38c1577759\" target=\"_top\" title=\"psysml:1d6f62f5-9885-441d-bead-3e38c1577759\" xlink:actuate=\"onRequest\" xlink:href=\"psysml:1d6f62f5-9885-441d-bead-3e38c1577759\" xlink:show=\"new\" xlink:title=\"psysml:1d6f62f5-9885-441d-bead-3e38c1577759\" xlink:type=\"simple\"><path d=\"M67.3,130.1 C77.72,146.2 92.11,168.44 104.47,187.55 \" fill=\"none\" id=\"E13-&gt;E5\" style=\"stroke: #383838; stroke-width: 1.0;\"/><polygon fill=\"#FFFFFF\" points=\"115.51,204.61,99.3134,192.4581,111.0687,184.8546,115.51,204.61\" style=\"stroke: #383838; stroke-width: 1.0;\"/><ellipse cx=\"97.897\" cy=\"186.5858\" fill=\"#383838\" rx=\"2\" ry=\"2\" style=\"stroke: #383838; stroke-width: 1.0;\"/><ellipse cx=\"106.2937\" cy=\"181.1547\" fill=\"#383838\" rx=\"2\" ry=\"2\" style=\"stroke: #383838; stroke-width: 1.0;\"/></a><!--MD5=[e8e3bc6453e18dfcd9eb2bd8d35bce98]\n",
       "@startuml\r\n",
       "skinparam monochrome true\r\n",
       "skinparam classbackgroundcolor white\r\n",
       "skinparam shadowing false\r\n",
       "skinparam wrapWidth 300\r\n",
       "hide circle\r\n",
       "\r\n",
       "package \"CircularImport\" as E1  [[psysml:6a62b0bb-ce07-42d9-b06f-c19bd22a93a2 ]]  {\r\n",
       "package \"P1\" as E2  [[psysml:e5793e48-aebf-4c77-9b1c-634d316c370a ]]  {\r\n",
       "comp def \"A\" as E3  <<(T,blue)part def>> [[psysml:4745677c-bede-4ab8-acdc-4365dad759bc ]] {\r\n",
       "}\r\n",
       "}\r\n",
       "package \"P2\" as E4  [[psysml:9f128572-3fea-4fc4-b18b-c92f97cc0f0b ]]  {\r\n",
       "comp def \"B\" as E5  <<(T,blue)part def>> [[psysml:a455b6ac-bbc4-40c1-9da4-354e9f8fdc46 ]] {\r\n",
       "}\r\n",
       "}\r\n",
       "package \"Test1\" as E6  [[psysml:6c517ad3-81f8-4503-b234-41386708eb5e ]]  {\r\n",
       "comp usage \"x: A\" as E7  <<(T,blue)part>> [[psysml:6b7db59d-d003-4043-9508-3fd9ac781eff ]] {\r\n",
       "}\r\n",
       "comp usage \"y: B\" as E8  <<(T,blue)part>> [[psysml:6c414e1f-4fb5-42fd-83aa-c158d2fbc464 ]] {\r\n",
       "}\r\n",
       "E7 - -:|> E3 [[psysml:85e1ff22-6346-4a23-846d-dc1a236203c0 ]] \r\n",
       "E8 - -:|> E5 [[psysml:483adec0-2d55-41ba-876c-1b8fe7d429ab ]] \r\n",
       "}\r\n",
       "package \"Test2\" as E9  [[psysml:81951965-8d4b-42c4-ba21-4255f6488007 ]]  {\r\n",
       "comp usage \"x: A\" as E10  <<(T,blue)part>> [[psysml:797261aa-a958-4475-9de3-b139176b10fb ]] {\r\n",
       "}\r\n",
       "comp usage \"y: B\" as E11  <<(T,blue)part>> [[psysml:3825b43b-bb71-4033-970e-c8c9e00cfd14 ]] {\r\n",
       "}\r\n",
       "E10 - -:|> E3 [[psysml:0e238847-8a3c-4f4a-a4c7-c4eca45a31b2 ]] \r\n",
       "E11 - -:|> E5 [[psysml:1112046b-9823-4ab2-8a83-96247ffb9742 ]] \r\n",
       "}\r\n",
       "comp usage \"x: A\" as E12  <<(T,blue)part>> [[psysml:e16c4bbb-61f3-4b61-a2b5-b03e29e494af ]] {\r\n",
       "}\r\n",
       "comp usage \"y: B\" as E13  <<(T,blue)part>> [[psysml:6a814915-eeda-4c4d-8e98-a86878ae1f3d ]] {\r\n",
       "}\r\n",
       "E12 - -:|> E3 [[psysml:ee0d4e1c-50f8-4d3c-8a56-5035ed7c5f53 ]] \r\n",
       "E13 - -:|> E5 [[psysml:1d6f62f5-9885-441d-bead-3e38c1577759 ]] \r\n",
       "}\r\n",
       "@enduml\r\n",
       "\n",
       "PlantUML version 1.2020.13(Sat Jun 13 12:26:38 UTC 2020)\n",
       "(EPL source distribution)\n",
       "Java Runtime: OpenJDK Runtime Environment\n",
       "JVM: OpenJDK 64-Bit Server VM\n",
       "Default Encoding: UTF-8\n",
       "Language: en\n",
       "Country: null\n",
       "--></g></svg>"
      ]
     },
     "execution_count": 42,
     "metadata": {},
     "output_type": "execute_result"
    }
   ],
   "source": [
    "%viz --style=\"DEFAULT\" --view=\"Sequence\" \"CircularImport\""
   ]
  },
  {
   "cell_type": "code",
   "execution_count": 43,
   "id": "induced-emission",
   "metadata": {
    "execution": {
     "iopub.execute_input": "2021-03-25T13:13:22.880345Z",
     "iopub.status.busy": "2021-03-25T13:13:22.879826Z",
     "iopub.status.idle": "2021-03-25T13:13:22.989386Z",
     "shell.execute_reply": "2021-03-25T13:13:22.987592Z"
    }
   },
   "outputs": [
    {
     "data": {
      "image/svg+xml": [
       "<?xml version=\"1.0\" encoding=\"UTF-8\" standalone=\"no\"?><svg xmlns=\"http://www.w3.org/2000/svg\" xmlns:xlink=\"http://www.w3.org/1999/xlink\" contentScriptType=\"application/ecmascript\" contentStyleType=\"text/css\" height=\"303px\" preserveAspectRatio=\"none\" style=\"width:518px;height:303px;\" version=\"1.1\" viewBox=\"0 0 518 303\" width=\"518px\" zoomAndPan=\"magnify\"><defs/><g><!--MD5=[fbc87193dbaf4d95561dea2c320d4a47]\n",
       "cluster E1--><a href=\"psysml:6a62b0bb-ce07-42d9-b06f-c19bd22a93a2\" target=\"_top\" title=\"psysml:6a62b0bb-ce07-42d9-b06f-c19bd22a93a2\" xlink:actuate=\"onRequest\" xlink:href=\"psysml:6a62b0bb-ce07-42d9-b06f-c19bd22a93a2\" xlink:show=\"new\" xlink:title=\"psysml:6a62b0bb-ce07-42d9-b06f-c19bd22a93a2\" xlink:type=\"simple\"><polygon fill=\"#FFFFFF\" points=\"16,6,134,6,141,28.2969,496,28.2969,496,291,16,291,16,6\" style=\"stroke: #000000; stroke-width: 1.5;\"/><line style=\"stroke: #000000; stroke-width: 1.5;\" x1=\"16\" x2=\"141\" y1=\"28.2969\" y2=\"28.2969\"/><text fill=\"#000000\" font-family=\"sans-serif\" font-size=\"14\" font-weight=\"bold\" lengthAdjust=\"spacingAndGlyphs\" textLength=\"112\" x=\"20\" y=\"20.9951\">CircularImport</text></a><!--MD5=[e4f7fae6ed58524ba242bb0b0d3be6b7]\n",
       "cluster E2--><a href=\"psysml:e5793e48-aebf-4c77-9b1c-634d316c370a\" target=\"_top\" title=\"psysml:e5793e48-aebf-4c77-9b1c-634d316c370a\" xlink:actuate=\"onRequest\" xlink:href=\"psysml:e5793e48-aebf-4c77-9b1c-634d316c370a\" xlink:show=\"new\" xlink:title=\"psysml:e5793e48-aebf-4c77-9b1c-634d316c370a\" xlink:type=\"simple\"><polygon fill=\"#FFFFFF\" points=\"333,170,359,170,366,192.2969,431,192.2969,431,267,333,267,333,170\" style=\"stroke: #000000; stroke-width: 1.5;\"/><line style=\"stroke: #000000; stroke-width: 1.5;\" x1=\"333\" x2=\"366\" y1=\"192.2969\" y2=\"192.2969\"/><text fill=\"#000000\" font-family=\"sans-serif\" font-size=\"14\" font-weight=\"bold\" lengthAdjust=\"spacingAndGlyphs\" textLength=\"20\" x=\"337\" y=\"184.9951\">P1</text></a><!--MD5=[f6df4d0ebaf0b5dfb2ced0ae5af7c670]\n",
       "cluster E4--><a href=\"psysml:9f128572-3fea-4fc4-b18b-c92f97cc0f0b\" target=\"_top\" title=\"psysml:9f128572-3fea-4fc4-b18b-c92f97cc0f0b\" xlink:actuate=\"onRequest\" xlink:href=\"psysml:9f128572-3fea-4fc4-b18b-c92f97cc0f0b\" xlink:show=\"new\" xlink:title=\"psysml:9f128572-3fea-4fc4-b18b-c92f97cc0f0b\" xlink:type=\"simple\"><polygon fill=\"#FFFFFF\" points=\"81,170,107,170,114,192.2969,179,192.2969,179,267,81,267,81,170\" style=\"stroke: #000000; stroke-width: 1.5;\"/><line style=\"stroke: #000000; stroke-width: 1.5;\" x1=\"81\" x2=\"114\" y1=\"192.2969\" y2=\"192.2969\"/><text fill=\"#000000\" font-family=\"sans-serif\" font-size=\"14\" font-weight=\"bold\" lengthAdjust=\"spacingAndGlyphs\" textLength=\"20\" x=\"85\" y=\"184.9951\">P2</text></a><!--MD5=[14e3b0961a2654348d326746436168a1]\n",
       "cluster E6--><a href=\"psysml:6c517ad3-81f8-4503-b234-41386708eb5e\" target=\"_top\" title=\"psysml:6c517ad3-81f8-4503-b234-41386708eb5e\" xlink:actuate=\"onRequest\" xlink:href=\"psysml:6c517ad3-81f8-4503-b234-41386708eb5e\" xlink:show=\"new\" xlink:title=\"psysml:6c517ad3-81f8-4503-b234-41386708eb5e\" xlink:type=\"simple\"><polygon fill=\"#FFFFFF\" points=\"268,49,319,49,326,71.2969,419,71.2969,419,146,268,146,268,49\" style=\"stroke: #000000; stroke-width: 1.5;\"/><line style=\"stroke: #000000; stroke-width: 1.5;\" x1=\"268\" x2=\"326\" y1=\"71.2969\" y2=\"71.2969\"/><text fill=\"#000000\" font-family=\"sans-serif\" font-size=\"14\" font-weight=\"bold\" lengthAdjust=\"spacingAndGlyphs\" textLength=\"45\" x=\"272\" y=\"63.9951\">Test1</text></a><!--MD5=[7f149f147074ac12df2cb0a7728a5fb0]\n",
       "cluster E9--><a href=\"psysml:81951965-8d4b-42c4-ba21-4255f6488007\" target=\"_top\" title=\"psysml:81951965-8d4b-42c4-ba21-4255f6488007\" xlink:actuate=\"onRequest\" xlink:href=\"psysml:81951965-8d4b-42c4-ba21-4255f6488007\" xlink:show=\"new\" xlink:title=\"psysml:81951965-8d4b-42c4-ba21-4255f6488007\" xlink:type=\"simple\"><polygon fill=\"#FFFFFF\" points=\"93,49,144,49,151,71.2969,244,71.2969,244,146,93,146,93,49\" style=\"stroke: #000000; stroke-width: 1.5;\"/><line style=\"stroke: #000000; stroke-width: 1.5;\" x1=\"93\" x2=\"151\" y1=\"71.2969\" y2=\"71.2969\"/><text fill=\"#000000\" font-family=\"sans-serif\" font-size=\"14\" font-weight=\"bold\" lengthAdjust=\"spacingAndGlyphs\" textLength=\"45\" x=\"97\" y=\"63.9951\">Test2</text></a><!--MD5=[49a0ec8f00dab7302a31f22d0f0fe584]\n",
       "class E12--><a href=\"psysml:e16c4bbb-61f3-4b61-a2b5-b03e29e494af\" target=\"_top\" title=\"psysml:e16c4bbb-61f3-4b61-a2b5-b03e29e494af\" xlink:actuate=\"onRequest\" xlink:href=\"psysml:e16c4bbb-61f3-4b61-a2b5-b03e29e494af\" xlink:show=\"new\" xlink:title=\"psysml:e16c4bbb-61f3-4b61-a2b5-b03e29e494af\" xlink:type=\"simple\"><rect fill=\"#FFFFFF\" height=\"45.9375\" id=\"E12\" rx=\"10\" ry=\"10\" style=\"stroke: #383838; stroke-width: 1.5;\" width=\"42\" x=\"438\" y=\"84\"/><text fill=\"#000000\" font-family=\"sans-serif\" font-size=\"12\" font-style=\"italic\" lengthAdjust=\"spacingAndGlyphs\" textLength=\"40\" x=\"439\" y=\"100.1387\">«part»</text><text fill=\"#000000\" font-family=\"sans-serif\" font-size=\"12\" lengthAdjust=\"spacingAndGlyphs\" textLength=\"22\" x=\"448\" y=\"114.1074\">x: A</text><line style=\"stroke: #383838; stroke-width: 1.5;\" x1=\"439\" x2=\"479\" y1=\"121.9375\" y2=\"121.9375\"/></a><!--MD5=[ee3c913d1a06f366521f9ef512b67efe]\n",
       "class E13--><a href=\"psysml:6a814915-eeda-4c4d-8e98-a86878ae1f3d\" target=\"_top\" title=\"psysml:6a814915-eeda-4c4d-8e98-a86878ae1f3d\" xlink:actuate=\"onRequest\" xlink:href=\"psysml:6a814915-eeda-4c4d-8e98-a86878ae1f3d\" xlink:show=\"new\" xlink:title=\"psysml:6a814915-eeda-4c4d-8e98-a86878ae1f3d\" xlink:type=\"simple\"><rect fill=\"#FFFFFF\" height=\"45.9375\" id=\"E13\" rx=\"10\" ry=\"10\" style=\"stroke: #383838; stroke-width: 1.5;\" width=\"42\" x=\"32\" y=\"84\"/><text fill=\"#000000\" font-family=\"sans-serif\" font-size=\"12\" font-style=\"italic\" lengthAdjust=\"spacingAndGlyphs\" textLength=\"40\" x=\"33\" y=\"100.1387\">«part»</text><text fill=\"#000000\" font-family=\"sans-serif\" font-size=\"12\" lengthAdjust=\"spacingAndGlyphs\" textLength=\"22\" x=\"42\" y=\"114.1074\">y: B</text><line style=\"stroke: #383838; stroke-width: 1.5;\" x1=\"33\" x2=\"73\" y1=\"121.9375\" y2=\"121.9375\"/></a><!--MD5=[09b614a08d8cba4a07c9adeb5e0fee81]\n",
       "class E3--><a href=\"psysml:4745677c-bede-4ab8-acdc-4365dad759bc\" target=\"_top\" title=\"psysml:4745677c-bede-4ab8-acdc-4365dad759bc\" xlink:actuate=\"onRequest\" xlink:href=\"psysml:4745677c-bede-4ab8-acdc-4365dad759bc\" xlink:show=\"new\" xlink:title=\"psysml:4745677c-bede-4ab8-acdc-4365dad759bc\" xlink:type=\"simple\"><rect fill=\"#FFFFFF\" height=\"45.9375\" id=\"E3\" style=\"stroke: #383838; stroke-width: 1.5;\" width=\"66\" x=\"349\" y=\"205\"/><text fill=\"#000000\" font-family=\"sans-serif\" font-size=\"12\" font-style=\"italic\" lengthAdjust=\"spacingAndGlyphs\" textLength=\"64\" x=\"350\" y=\"221.1387\">«part def»</text><text fill=\"#000000\" font-family=\"sans-serif\" font-size=\"12\" lengthAdjust=\"spacingAndGlyphs\" textLength=\"8\" x=\"378\" y=\"235.1074\">A</text><line style=\"stroke: #383838; stroke-width: 1.5;\" x1=\"350\" x2=\"414\" y1=\"242.9375\" y2=\"242.9375\"/></a><!--MD5=[270fce915f116d4de14055a7c1d9a0f3]\n",
       "class E5--><a href=\"psysml:a455b6ac-bbc4-40c1-9da4-354e9f8fdc46\" target=\"_top\" title=\"psysml:a455b6ac-bbc4-40c1-9da4-354e9f8fdc46\" xlink:actuate=\"onRequest\" xlink:href=\"psysml:a455b6ac-bbc4-40c1-9da4-354e9f8fdc46\" xlink:show=\"new\" xlink:title=\"psysml:a455b6ac-bbc4-40c1-9da4-354e9f8fdc46\" xlink:type=\"simple\"><rect fill=\"#FFFFFF\" height=\"45.9375\" id=\"E5\" style=\"stroke: #383838; stroke-width: 1.5;\" width=\"66\" x=\"97\" y=\"205\"/><text fill=\"#000000\" font-family=\"sans-serif\" font-size=\"12\" font-style=\"italic\" lengthAdjust=\"spacingAndGlyphs\" textLength=\"64\" x=\"98\" y=\"221.1387\">«part def»</text><text fill=\"#000000\" font-family=\"sans-serif\" font-size=\"12\" lengthAdjust=\"spacingAndGlyphs\" textLength=\"8\" x=\"126\" y=\"235.1074\">B</text><line style=\"stroke: #383838; stroke-width: 1.5;\" x1=\"98\" x2=\"162\" y1=\"242.9375\" y2=\"242.9375\"/></a><!--MD5=[2156ba9850f5573cc1fc38a6a4b2f02b]\n",
       "class E7--><a href=\"psysml:6b7db59d-d003-4043-9508-3fd9ac781eff\" target=\"_top\" title=\"psysml:6b7db59d-d003-4043-9508-3fd9ac781eff\" xlink:actuate=\"onRequest\" xlink:href=\"psysml:6b7db59d-d003-4043-9508-3fd9ac781eff\" xlink:show=\"new\" xlink:title=\"psysml:6b7db59d-d003-4043-9508-3fd9ac781eff\" xlink:type=\"simple\"><rect fill=\"#FFFFFF\" height=\"45.9375\" id=\"E7\" rx=\"10\" ry=\"10\" style=\"stroke: #383838; stroke-width: 1.5;\" width=\"42\" x=\"361\" y=\"84\"/><text fill=\"#000000\" font-family=\"sans-serif\" font-size=\"12\" font-style=\"italic\" lengthAdjust=\"spacingAndGlyphs\" textLength=\"40\" x=\"362\" y=\"100.1387\">«part»</text><text fill=\"#000000\" font-family=\"sans-serif\" font-size=\"12\" lengthAdjust=\"spacingAndGlyphs\" textLength=\"22\" x=\"371\" y=\"114.1074\">x: A</text><line style=\"stroke: #383838; stroke-width: 1.5;\" x1=\"362\" x2=\"402\" y1=\"121.9375\" y2=\"121.9375\"/></a><!--MD5=[b9389687b975829384b498ac4b7476b2]\n",
       "class E8--><a href=\"psysml:6c414e1f-4fb5-42fd-83aa-c158d2fbc464\" target=\"_top\" title=\"psysml:6c414e1f-4fb5-42fd-83aa-c158d2fbc464\" xlink:actuate=\"onRequest\" xlink:href=\"psysml:6c414e1f-4fb5-42fd-83aa-c158d2fbc464\" xlink:show=\"new\" xlink:title=\"psysml:6c414e1f-4fb5-42fd-83aa-c158d2fbc464\" xlink:type=\"simple\"><rect fill=\"#FFFFFF\" height=\"45.9375\" id=\"E8\" rx=\"10\" ry=\"10\" style=\"stroke: #383838; stroke-width: 1.5;\" width=\"42\" x=\"284\" y=\"84\"/><text fill=\"#000000\" font-family=\"sans-serif\" font-size=\"12\" font-style=\"italic\" lengthAdjust=\"spacingAndGlyphs\" textLength=\"40\" x=\"285\" y=\"100.1387\">«part»</text><text fill=\"#000000\" font-family=\"sans-serif\" font-size=\"12\" lengthAdjust=\"spacingAndGlyphs\" textLength=\"22\" x=\"294\" y=\"114.1074\">y: B</text><line style=\"stroke: #383838; stroke-width: 1.5;\" x1=\"285\" x2=\"325\" y1=\"121.9375\" y2=\"121.9375\"/></a><!--MD5=[96f4274e9e20536e775497830990834d]\n",
       "class E10--><a href=\"psysml:797261aa-a958-4475-9de3-b139176b10fb\" target=\"_top\" title=\"psysml:797261aa-a958-4475-9de3-b139176b10fb\" xlink:actuate=\"onRequest\" xlink:href=\"psysml:797261aa-a958-4475-9de3-b139176b10fb\" xlink:show=\"new\" xlink:title=\"psysml:797261aa-a958-4475-9de3-b139176b10fb\" xlink:type=\"simple\"><rect fill=\"#FFFFFF\" height=\"45.9375\" id=\"E10\" rx=\"10\" ry=\"10\" style=\"stroke: #383838; stroke-width: 1.5;\" width=\"42\" x=\"186\" y=\"84\"/><text fill=\"#000000\" font-family=\"sans-serif\" font-size=\"12\" font-style=\"italic\" lengthAdjust=\"spacingAndGlyphs\" textLength=\"40\" x=\"187\" y=\"100.1387\">«part»</text><text fill=\"#000000\" font-family=\"sans-serif\" font-size=\"12\" lengthAdjust=\"spacingAndGlyphs\" textLength=\"22\" x=\"196\" y=\"114.1074\">x: A</text><line style=\"stroke: #383838; stroke-width: 1.5;\" x1=\"187\" x2=\"227\" y1=\"121.9375\" y2=\"121.9375\"/></a><!--MD5=[1dd1bfd58a279cf63c5f349dbc8fc6a1]\n",
       "class E11--><a href=\"psysml:3825b43b-bb71-4033-970e-c8c9e00cfd14\" target=\"_top\" title=\"psysml:3825b43b-bb71-4033-970e-c8c9e00cfd14\" xlink:actuate=\"onRequest\" xlink:href=\"psysml:3825b43b-bb71-4033-970e-c8c9e00cfd14\" xlink:show=\"new\" xlink:title=\"psysml:3825b43b-bb71-4033-970e-c8c9e00cfd14\" xlink:type=\"simple\"><rect fill=\"#FFFFFF\" height=\"45.9375\" id=\"E11\" rx=\"10\" ry=\"10\" style=\"stroke: #383838; stroke-width: 1.5;\" width=\"42\" x=\"109\" y=\"84\"/><text fill=\"#000000\" font-family=\"sans-serif\" font-size=\"12\" font-style=\"italic\" lengthAdjust=\"spacingAndGlyphs\" textLength=\"40\" x=\"110\" y=\"100.1387\">«part»</text><text fill=\"#000000\" font-family=\"sans-serif\" font-size=\"12\" lengthAdjust=\"spacingAndGlyphs\" textLength=\"22\" x=\"119\" y=\"114.1074\">y: B</text><line style=\"stroke: #383838; stroke-width: 1.5;\" x1=\"110\" x2=\"150\" y1=\"121.9375\" y2=\"121.9375\"/></a><!--MD5=[14ccda38c055a5c0da953d572bc50960]\n",
       "link E7 to E3--><a href=\"psysml:85e1ff22-6346-4a23-846d-dc1a236203c0\" target=\"_top\" title=\"psysml:85e1ff22-6346-4a23-846d-dc1a236203c0\" xlink:actuate=\"onRequest\" xlink:href=\"psysml:85e1ff22-6346-4a23-846d-dc1a236203c0\" xlink:show=\"new\" xlink:title=\"psysml:85e1ff22-6346-4a23-846d-dc1a236203c0\" xlink:type=\"simple\"><path d=\"M382,130.1 C382,145.37 382,166.16 382,184.57 \" fill=\"none\" id=\"E7-&gt;E3\" style=\"stroke: #383838; stroke-width: 1.0;\"/><polygon fill=\"#FFFFFF\" points=\"382,204.61,375,185.61,389,185.61,382,204.61\" style=\"stroke: #383838; stroke-width: 1.0;\"/><ellipse cx=\"377\" cy=\"179.91\" fill=\"#383838\" rx=\"2\" ry=\"2\" style=\"stroke: #383838; stroke-width: 1.0;\"/><ellipse cx=\"387\" cy=\"179.91\" fill=\"#383838\" rx=\"2\" ry=\"2\" style=\"stroke: #383838; stroke-width: 1.0;\"/></a><!--MD5=[1ccb2481ffa92f8d51a74ee30c51832a]\n",
       "link E8 to E5--><a href=\"psysml:483adec0-2d55-41ba-876c-1b8fe7d429ab\" target=\"_top\" title=\"psysml:483adec0-2d55-41ba-876c-1b8fe7d429ab\" xlink:actuate=\"onRequest\" xlink:href=\"psysml:483adec0-2d55-41ba-876c-1b8fe7d429ab\" xlink:show=\"new\" xlink:title=\"psysml:483adec0-2d55-41ba-876c-1b8fe7d429ab\" xlink:type=\"simple\"><path d=\"M283.84,124.59 C272.23,133.52 257.5,144.61 244,154 C223.51,168.25 200.41,183.24 180.38,195.91 \" fill=\"none\" id=\"E8-&gt;E5\" style=\"stroke: #383838; stroke-width: 1.0;\"/><polygon fill=\"#FFFFFF\" points=\"163.36,206.57,175.7353,190.5434,183.175,202.403,163.36,206.57\" style=\"stroke: #383838; stroke-width: 1.0;\"/><ellipse cx=\"181.6267\" cy=\"189.2086\" fill=\"#383838\" rx=\"2\" ry=\"2\" style=\"stroke: #383838; stroke-width: 1.0;\"/><ellipse cx=\"186.9408\" cy=\"197.6797\" fill=\"#383838\" rx=\"2\" ry=\"2\" style=\"stroke: #383838; stroke-width: 1.0;\"/></a><!--MD5=[feeac5eb423634930294aa81f2d25a4c]\n",
       "link E10 to E3--><a href=\"psysml:0e238847-8a3c-4f4a-a4c7-c4eca45a31b2\" target=\"_top\" title=\"psysml:0e238847-8a3c-4f4a-a4c7-c4eca45a31b2\" xlink:actuate=\"onRequest\" xlink:href=\"psysml:0e238847-8a3c-4f4a-a4c7-c4eca45a31b2\" xlink:show=\"new\" xlink:title=\"psysml:0e238847-8a3c-4f4a-a4c7-c4eca45a31b2\" xlink:type=\"simple\"><path d=\"M228.16,124.59 C239.77,133.52 254.5,144.61 268,154 C288.49,168.25 311.59,183.24 331.62,195.91 \" fill=\"none\" id=\"E10-&gt;E3\" style=\"stroke: #383838; stroke-width: 1.0;\"/><polygon fill=\"#FFFFFF\" points=\"348.64,206.57,328.825,202.403,336.2647,190.5434,348.64,206.57\" style=\"stroke: #383838; stroke-width: 1.0;\"/><ellipse cx=\"325.0592\" cy=\"197.6797\" fill=\"#383838\" rx=\"2\" ry=\"2\" style=\"stroke: #383838; stroke-width: 1.0;\"/><ellipse cx=\"330.3733\" cy=\"189.2086\" fill=\"#383838\" rx=\"2\" ry=\"2\" style=\"stroke: #383838; stroke-width: 1.0;\"/></a><!--MD5=[07b77f6f309248d16187045709d1c26e]\n",
       "link E11 to E5--><a href=\"psysml:1112046b-9823-4ab2-8a83-96247ffb9742\" target=\"_top\" title=\"psysml:1112046b-9823-4ab2-8a83-96247ffb9742\" xlink:actuate=\"onRequest\" xlink:href=\"psysml:1112046b-9823-4ab2-8a83-96247ffb9742\" xlink:show=\"new\" xlink:title=\"psysml:1112046b-9823-4ab2-8a83-96247ffb9742\" xlink:type=\"simple\"><path d=\"M130,130.1 C130,145.37 130,166.16 130,184.57 \" fill=\"none\" id=\"E11-&gt;E5\" style=\"stroke: #383838; stroke-width: 1.0;\"/><polygon fill=\"#FFFFFF\" points=\"130,204.61,123,185.61,137,185.61,130,204.61\" style=\"stroke: #383838; stroke-width: 1.0;\"/><ellipse cx=\"125\" cy=\"179.91\" fill=\"#383838\" rx=\"2\" ry=\"2\" style=\"stroke: #383838; stroke-width: 1.0;\"/><ellipse cx=\"135\" cy=\"179.91\" fill=\"#383838\" rx=\"2\" ry=\"2\" style=\"stroke: #383838; stroke-width: 1.0;\"/></a><!--MD5=[39f41a0e550fb3d73b4d8135617e30a2]\n",
       "link E12 to E3--><a href=\"psysml:ee0d4e1c-50f8-4d3c-8a56-5035ed7c5f53\" target=\"_top\" title=\"psysml:ee0d4e1c-50f8-4d3c-8a56-5035ed7c5f53\" xlink:actuate=\"onRequest\" xlink:href=\"psysml:ee0d4e1c-50f8-4d3c-8a56-5035ed7c5f53\" xlink:show=\"new\" xlink:title=\"psysml:ee0d4e1c-50f8-4d3c-8a56-5035ed7c5f53\" xlink:type=\"simple\"><path d=\"M444.7,130.1 C434.28,146.2 419.89,168.44 407.53,187.55 \" fill=\"none\" id=\"E12-&gt;E3\" style=\"stroke: #383838; stroke-width: 1.0;\"/><polygon fill=\"#FFFFFF\" points=\"396.49,204.61,400.9313,184.8546,412.6866,192.4581,396.49,204.61\" style=\"stroke: #383838; stroke-width: 1.0;\"/><ellipse cx=\"405.7063\" cy=\"181.1547\" fill=\"#383838\" rx=\"2\" ry=\"2\" style=\"stroke: #383838; stroke-width: 1.0;\"/><ellipse cx=\"414.103\" cy=\"186.5858\" fill=\"#383838\" rx=\"2\" ry=\"2\" style=\"stroke: #383838; stroke-width: 1.0;\"/></a><!--MD5=[066b2d8af59fea80ccdb3d54ad5c1091]\n",
       "link E13 to E5--><a href=\"psysml:1d6f62f5-9885-441d-bead-3e38c1577759\" target=\"_top\" title=\"psysml:1d6f62f5-9885-441d-bead-3e38c1577759\" xlink:actuate=\"onRequest\" xlink:href=\"psysml:1d6f62f5-9885-441d-bead-3e38c1577759\" xlink:show=\"new\" xlink:title=\"psysml:1d6f62f5-9885-441d-bead-3e38c1577759\" xlink:type=\"simple\"><path d=\"M67.3,130.1 C77.72,146.2 92.11,168.44 104.47,187.55 \" fill=\"none\" id=\"E13-&gt;E5\" style=\"stroke: #383838; stroke-width: 1.0;\"/><polygon fill=\"#FFFFFF\" points=\"115.51,204.61,99.3134,192.4581,111.0687,184.8546,115.51,204.61\" style=\"stroke: #383838; stroke-width: 1.0;\"/><ellipse cx=\"97.897\" cy=\"186.5858\" fill=\"#383838\" rx=\"2\" ry=\"2\" style=\"stroke: #383838; stroke-width: 1.0;\"/><ellipse cx=\"106.2937\" cy=\"181.1547\" fill=\"#383838\" rx=\"2\" ry=\"2\" style=\"stroke: #383838; stroke-width: 1.0;\"/></a><!--MD5=[e8e3bc6453e18dfcd9eb2bd8d35bce98]\n",
       "@startuml\r\n",
       "skinparam monochrome true\r\n",
       "skinparam classbackgroundcolor white\r\n",
       "skinparam shadowing false\r\n",
       "skinparam wrapWidth 300\r\n",
       "hide circle\r\n",
       "\r\n",
       "package \"CircularImport\" as E1  [[psysml:6a62b0bb-ce07-42d9-b06f-c19bd22a93a2 ]]  {\r\n",
       "package \"P1\" as E2  [[psysml:e5793e48-aebf-4c77-9b1c-634d316c370a ]]  {\r\n",
       "comp def \"A\" as E3  <<(T,blue)part def>> [[psysml:4745677c-bede-4ab8-acdc-4365dad759bc ]] {\r\n",
       "}\r\n",
       "}\r\n",
       "package \"P2\" as E4  [[psysml:9f128572-3fea-4fc4-b18b-c92f97cc0f0b ]]  {\r\n",
       "comp def \"B\" as E5  <<(T,blue)part def>> [[psysml:a455b6ac-bbc4-40c1-9da4-354e9f8fdc46 ]] {\r\n",
       "}\r\n",
       "}\r\n",
       "package \"Test1\" as E6  [[psysml:6c517ad3-81f8-4503-b234-41386708eb5e ]]  {\r\n",
       "comp usage \"x: A\" as E7  <<(T,blue)part>> [[psysml:6b7db59d-d003-4043-9508-3fd9ac781eff ]] {\r\n",
       "}\r\n",
       "comp usage \"y: B\" as E8  <<(T,blue)part>> [[psysml:6c414e1f-4fb5-42fd-83aa-c158d2fbc464 ]] {\r\n",
       "}\r\n",
       "E7 - -:|> E3 [[psysml:85e1ff22-6346-4a23-846d-dc1a236203c0 ]] \r\n",
       "E8 - -:|> E5 [[psysml:483adec0-2d55-41ba-876c-1b8fe7d429ab ]] \r\n",
       "}\r\n",
       "package \"Test2\" as E9  [[psysml:81951965-8d4b-42c4-ba21-4255f6488007 ]]  {\r\n",
       "comp usage \"x: A\" as E10  <<(T,blue)part>> [[psysml:797261aa-a958-4475-9de3-b139176b10fb ]] {\r\n",
       "}\r\n",
       "comp usage \"y: B\" as E11  <<(T,blue)part>> [[psysml:3825b43b-bb71-4033-970e-c8c9e00cfd14 ]] {\r\n",
       "}\r\n",
       "E10 - -:|> E3 [[psysml:0e238847-8a3c-4f4a-a4c7-c4eca45a31b2 ]] \r\n",
       "E11 - -:|> E5 [[psysml:1112046b-9823-4ab2-8a83-96247ffb9742 ]] \r\n",
       "}\r\n",
       "comp usage \"x: A\" as E12  <<(T,blue)part>> [[psysml:e16c4bbb-61f3-4b61-a2b5-b03e29e494af ]] {\r\n",
       "}\r\n",
       "comp usage \"y: B\" as E13  <<(T,blue)part>> [[psysml:6a814915-eeda-4c4d-8e98-a86878ae1f3d ]] {\r\n",
       "}\r\n",
       "E12 - -:|> E3 [[psysml:ee0d4e1c-50f8-4d3c-8a56-5035ed7c5f53 ]] \r\n",
       "E13 - -:|> E5 [[psysml:1d6f62f5-9885-441d-bead-3e38c1577759 ]] \r\n",
       "}\r\n",
       "@enduml\r\n",
       "\n",
       "PlantUML version 1.2020.13(Sat Jun 13 12:26:38 UTC 2020)\n",
       "(EPL source distribution)\n",
       "Java Runtime: OpenJDK Runtime Environment\n",
       "JVM: OpenJDK 64-Bit Server VM\n",
       "Default Encoding: UTF-8\n",
       "Language: en\n",
       "Country: null\n",
       "--></g></svg>"
      ]
     },
     "execution_count": 43,
     "metadata": {},
     "output_type": "execute_result"
    }
   ],
   "source": [
    "%viz --style=\"DEFAULT\" --view=\"MIXED\" \"CircularImport\""
   ]
  },
  {
   "cell_type": "code",
   "execution_count": 44,
   "id": "broad-health",
   "metadata": {
    "execution": {
     "iopub.execute_input": "2021-03-25T13:13:23.039217Z",
     "iopub.status.busy": "2021-03-25T13:13:23.038670Z",
     "iopub.status.idle": "2021-03-25T13:13:23.141516Z",
     "shell.execute_reply": "2021-03-25T13:13:23.139765Z"
    }
   },
   "outputs": [
    {
     "data": {
      "image/svg+xml": [
       "<?xml version=\"1.0\" encoding=\"UTF-8\" standalone=\"no\"?><svg xmlns=\"http://www.w3.org/2000/svg\" xmlns:xlink=\"http://www.w3.org/1999/xlink\" contentScriptType=\"application/ecmascript\" contentStyleType=\"text/css\" height=\"303px\" preserveAspectRatio=\"none\" style=\"width:518px;height:303px;\" version=\"1.1\" viewBox=\"0 0 518 303\" width=\"518px\" zoomAndPan=\"magnify\"><defs/><g><!--MD5=[fbc87193dbaf4d95561dea2c320d4a47]\n",
       "cluster E1--><a href=\"psysml:6a62b0bb-ce07-42d9-b06f-c19bd22a93a2\" target=\"_top\" title=\"psysml:6a62b0bb-ce07-42d9-b06f-c19bd22a93a2\" xlink:actuate=\"onRequest\" xlink:href=\"psysml:6a62b0bb-ce07-42d9-b06f-c19bd22a93a2\" xlink:show=\"new\" xlink:title=\"psysml:6a62b0bb-ce07-42d9-b06f-c19bd22a93a2\" xlink:type=\"simple\"><polygon fill=\"#FFFFFF\" points=\"16,6,134,6,141,28.2969,496,28.2969,496,291,16,291,16,6\" style=\"stroke: #000000; stroke-width: 1.5;\"/><line style=\"stroke: #000000; stroke-width: 1.5;\" x1=\"16\" x2=\"141\" y1=\"28.2969\" y2=\"28.2969\"/><text fill=\"#000000\" font-family=\"sans-serif\" font-size=\"14\" font-weight=\"bold\" lengthAdjust=\"spacingAndGlyphs\" textLength=\"112\" x=\"20\" y=\"20.9951\">CircularImport</text></a><!--MD5=[e4f7fae6ed58524ba242bb0b0d3be6b7]\n",
       "cluster E2--><a href=\"psysml:e5793e48-aebf-4c77-9b1c-634d316c370a\" target=\"_top\" title=\"psysml:e5793e48-aebf-4c77-9b1c-634d316c370a\" xlink:actuate=\"onRequest\" xlink:href=\"psysml:e5793e48-aebf-4c77-9b1c-634d316c370a\" xlink:show=\"new\" xlink:title=\"psysml:e5793e48-aebf-4c77-9b1c-634d316c370a\" xlink:type=\"simple\"><polygon fill=\"#FFFFFF\" points=\"333,170,359,170,366,192.2969,431,192.2969,431,267,333,267,333,170\" style=\"stroke: #000000; stroke-width: 1.5;\"/><line style=\"stroke: #000000; stroke-width: 1.5;\" x1=\"333\" x2=\"366\" y1=\"192.2969\" y2=\"192.2969\"/><text fill=\"#000000\" font-family=\"sans-serif\" font-size=\"14\" font-weight=\"bold\" lengthAdjust=\"spacingAndGlyphs\" textLength=\"20\" x=\"337\" y=\"184.9951\">P1</text></a><!--MD5=[f6df4d0ebaf0b5dfb2ced0ae5af7c670]\n",
       "cluster E4--><a href=\"psysml:9f128572-3fea-4fc4-b18b-c92f97cc0f0b\" target=\"_top\" title=\"psysml:9f128572-3fea-4fc4-b18b-c92f97cc0f0b\" xlink:actuate=\"onRequest\" xlink:href=\"psysml:9f128572-3fea-4fc4-b18b-c92f97cc0f0b\" xlink:show=\"new\" xlink:title=\"psysml:9f128572-3fea-4fc4-b18b-c92f97cc0f0b\" xlink:type=\"simple\"><polygon fill=\"#FFFFFF\" points=\"81,170,107,170,114,192.2969,179,192.2969,179,267,81,267,81,170\" style=\"stroke: #000000; stroke-width: 1.5;\"/><line style=\"stroke: #000000; stroke-width: 1.5;\" x1=\"81\" x2=\"114\" y1=\"192.2969\" y2=\"192.2969\"/><text fill=\"#000000\" font-family=\"sans-serif\" font-size=\"14\" font-weight=\"bold\" lengthAdjust=\"spacingAndGlyphs\" textLength=\"20\" x=\"85\" y=\"184.9951\">P2</text></a><!--MD5=[14e3b0961a2654348d326746436168a1]\n",
       "cluster E6--><a href=\"psysml:6c517ad3-81f8-4503-b234-41386708eb5e\" target=\"_top\" title=\"psysml:6c517ad3-81f8-4503-b234-41386708eb5e\" xlink:actuate=\"onRequest\" xlink:href=\"psysml:6c517ad3-81f8-4503-b234-41386708eb5e\" xlink:show=\"new\" xlink:title=\"psysml:6c517ad3-81f8-4503-b234-41386708eb5e\" xlink:type=\"simple\"><polygon fill=\"#FFFFFF\" points=\"268,49,319,49,326,71.2969,419,71.2969,419,146,268,146,268,49\" style=\"stroke: #000000; stroke-width: 1.5;\"/><line style=\"stroke: #000000; stroke-width: 1.5;\" x1=\"268\" x2=\"326\" y1=\"71.2969\" y2=\"71.2969\"/><text fill=\"#000000\" font-family=\"sans-serif\" font-size=\"14\" font-weight=\"bold\" lengthAdjust=\"spacingAndGlyphs\" textLength=\"45\" x=\"272\" y=\"63.9951\">Test1</text></a><!--MD5=[7f149f147074ac12df2cb0a7728a5fb0]\n",
       "cluster E9--><a href=\"psysml:81951965-8d4b-42c4-ba21-4255f6488007\" target=\"_top\" title=\"psysml:81951965-8d4b-42c4-ba21-4255f6488007\" xlink:actuate=\"onRequest\" xlink:href=\"psysml:81951965-8d4b-42c4-ba21-4255f6488007\" xlink:show=\"new\" xlink:title=\"psysml:81951965-8d4b-42c4-ba21-4255f6488007\" xlink:type=\"simple\"><polygon fill=\"#FFFFFF\" points=\"93,49,144,49,151,71.2969,244,71.2969,244,146,93,146,93,49\" style=\"stroke: #000000; stroke-width: 1.5;\"/><line style=\"stroke: #000000; stroke-width: 1.5;\" x1=\"93\" x2=\"151\" y1=\"71.2969\" y2=\"71.2969\"/><text fill=\"#000000\" font-family=\"sans-serif\" font-size=\"14\" font-weight=\"bold\" lengthAdjust=\"spacingAndGlyphs\" textLength=\"45\" x=\"97\" y=\"63.9951\">Test2</text></a><!--MD5=[49a0ec8f00dab7302a31f22d0f0fe584]\n",
       "class E12--><a href=\"psysml:e16c4bbb-61f3-4b61-a2b5-b03e29e494af\" target=\"_top\" title=\"psysml:e16c4bbb-61f3-4b61-a2b5-b03e29e494af\" xlink:actuate=\"onRequest\" xlink:href=\"psysml:e16c4bbb-61f3-4b61-a2b5-b03e29e494af\" xlink:show=\"new\" xlink:title=\"psysml:e16c4bbb-61f3-4b61-a2b5-b03e29e494af\" xlink:type=\"simple\"><rect fill=\"#FFFFFF\" height=\"45.9375\" id=\"E12\" rx=\"10\" ry=\"10\" style=\"stroke: #383838; stroke-width: 1.5;\" width=\"42\" x=\"438\" y=\"84\"/><text fill=\"#000000\" font-family=\"sans-serif\" font-size=\"12\" font-style=\"italic\" lengthAdjust=\"spacingAndGlyphs\" textLength=\"40\" x=\"439\" y=\"100.1387\">«part»</text><text fill=\"#000000\" font-family=\"sans-serif\" font-size=\"12\" lengthAdjust=\"spacingAndGlyphs\" textLength=\"22\" x=\"448\" y=\"114.1074\">x: A</text><line style=\"stroke: #383838; stroke-width: 1.5;\" x1=\"439\" x2=\"479\" y1=\"121.9375\" y2=\"121.9375\"/></a><!--MD5=[ee3c913d1a06f366521f9ef512b67efe]\n",
       "class E13--><a href=\"psysml:6a814915-eeda-4c4d-8e98-a86878ae1f3d\" target=\"_top\" title=\"psysml:6a814915-eeda-4c4d-8e98-a86878ae1f3d\" xlink:actuate=\"onRequest\" xlink:href=\"psysml:6a814915-eeda-4c4d-8e98-a86878ae1f3d\" xlink:show=\"new\" xlink:title=\"psysml:6a814915-eeda-4c4d-8e98-a86878ae1f3d\" xlink:type=\"simple\"><rect fill=\"#FFFFFF\" height=\"45.9375\" id=\"E13\" rx=\"10\" ry=\"10\" style=\"stroke: #383838; stroke-width: 1.5;\" width=\"42\" x=\"32\" y=\"84\"/><text fill=\"#000000\" font-family=\"sans-serif\" font-size=\"12\" font-style=\"italic\" lengthAdjust=\"spacingAndGlyphs\" textLength=\"40\" x=\"33\" y=\"100.1387\">«part»</text><text fill=\"#000000\" font-family=\"sans-serif\" font-size=\"12\" lengthAdjust=\"spacingAndGlyphs\" textLength=\"22\" x=\"42\" y=\"114.1074\">y: B</text><line style=\"stroke: #383838; stroke-width: 1.5;\" x1=\"33\" x2=\"73\" y1=\"121.9375\" y2=\"121.9375\"/></a><!--MD5=[09b614a08d8cba4a07c9adeb5e0fee81]\n",
       "class E3--><a href=\"psysml:4745677c-bede-4ab8-acdc-4365dad759bc\" target=\"_top\" title=\"psysml:4745677c-bede-4ab8-acdc-4365dad759bc\" xlink:actuate=\"onRequest\" xlink:href=\"psysml:4745677c-bede-4ab8-acdc-4365dad759bc\" xlink:show=\"new\" xlink:title=\"psysml:4745677c-bede-4ab8-acdc-4365dad759bc\" xlink:type=\"simple\"><rect fill=\"#FFFFFF\" height=\"45.9375\" id=\"E3\" style=\"stroke: #383838; stroke-width: 1.5;\" width=\"66\" x=\"349\" y=\"205\"/><text fill=\"#000000\" font-family=\"sans-serif\" font-size=\"12\" font-style=\"italic\" lengthAdjust=\"spacingAndGlyphs\" textLength=\"64\" x=\"350\" y=\"221.1387\">«part def»</text><text fill=\"#000000\" font-family=\"sans-serif\" font-size=\"12\" lengthAdjust=\"spacingAndGlyphs\" textLength=\"8\" x=\"378\" y=\"235.1074\">A</text><line style=\"stroke: #383838; stroke-width: 1.5;\" x1=\"350\" x2=\"414\" y1=\"242.9375\" y2=\"242.9375\"/></a><!--MD5=[270fce915f116d4de14055a7c1d9a0f3]\n",
       "class E5--><a href=\"psysml:a455b6ac-bbc4-40c1-9da4-354e9f8fdc46\" target=\"_top\" title=\"psysml:a455b6ac-bbc4-40c1-9da4-354e9f8fdc46\" xlink:actuate=\"onRequest\" xlink:href=\"psysml:a455b6ac-bbc4-40c1-9da4-354e9f8fdc46\" xlink:show=\"new\" xlink:title=\"psysml:a455b6ac-bbc4-40c1-9da4-354e9f8fdc46\" xlink:type=\"simple\"><rect fill=\"#FFFFFF\" height=\"45.9375\" id=\"E5\" style=\"stroke: #383838; stroke-width: 1.5;\" width=\"66\" x=\"97\" y=\"205\"/><text fill=\"#000000\" font-family=\"sans-serif\" font-size=\"12\" font-style=\"italic\" lengthAdjust=\"spacingAndGlyphs\" textLength=\"64\" x=\"98\" y=\"221.1387\">«part def»</text><text fill=\"#000000\" font-family=\"sans-serif\" font-size=\"12\" lengthAdjust=\"spacingAndGlyphs\" textLength=\"8\" x=\"126\" y=\"235.1074\">B</text><line style=\"stroke: #383838; stroke-width: 1.5;\" x1=\"98\" x2=\"162\" y1=\"242.9375\" y2=\"242.9375\"/></a><!--MD5=[2156ba9850f5573cc1fc38a6a4b2f02b]\n",
       "class E7--><a href=\"psysml:6b7db59d-d003-4043-9508-3fd9ac781eff\" target=\"_top\" title=\"psysml:6b7db59d-d003-4043-9508-3fd9ac781eff\" xlink:actuate=\"onRequest\" xlink:href=\"psysml:6b7db59d-d003-4043-9508-3fd9ac781eff\" xlink:show=\"new\" xlink:title=\"psysml:6b7db59d-d003-4043-9508-3fd9ac781eff\" xlink:type=\"simple\"><rect fill=\"#FFFFFF\" height=\"45.9375\" id=\"E7\" rx=\"10\" ry=\"10\" style=\"stroke: #383838; stroke-width: 1.5;\" width=\"42\" x=\"361\" y=\"84\"/><text fill=\"#000000\" font-family=\"sans-serif\" font-size=\"12\" font-style=\"italic\" lengthAdjust=\"spacingAndGlyphs\" textLength=\"40\" x=\"362\" y=\"100.1387\">«part»</text><text fill=\"#000000\" font-family=\"sans-serif\" font-size=\"12\" lengthAdjust=\"spacingAndGlyphs\" textLength=\"22\" x=\"371\" y=\"114.1074\">x: A</text><line style=\"stroke: #383838; stroke-width: 1.5;\" x1=\"362\" x2=\"402\" y1=\"121.9375\" y2=\"121.9375\"/></a><!--MD5=[b9389687b975829384b498ac4b7476b2]\n",
       "class E8--><a href=\"psysml:6c414e1f-4fb5-42fd-83aa-c158d2fbc464\" target=\"_top\" title=\"psysml:6c414e1f-4fb5-42fd-83aa-c158d2fbc464\" xlink:actuate=\"onRequest\" xlink:href=\"psysml:6c414e1f-4fb5-42fd-83aa-c158d2fbc464\" xlink:show=\"new\" xlink:title=\"psysml:6c414e1f-4fb5-42fd-83aa-c158d2fbc464\" xlink:type=\"simple\"><rect fill=\"#FFFFFF\" height=\"45.9375\" id=\"E8\" rx=\"10\" ry=\"10\" style=\"stroke: #383838; stroke-width: 1.5;\" width=\"42\" x=\"284\" y=\"84\"/><text fill=\"#000000\" font-family=\"sans-serif\" font-size=\"12\" font-style=\"italic\" lengthAdjust=\"spacingAndGlyphs\" textLength=\"40\" x=\"285\" y=\"100.1387\">«part»</text><text fill=\"#000000\" font-family=\"sans-serif\" font-size=\"12\" lengthAdjust=\"spacingAndGlyphs\" textLength=\"22\" x=\"294\" y=\"114.1074\">y: B</text><line style=\"stroke: #383838; stroke-width: 1.5;\" x1=\"285\" x2=\"325\" y1=\"121.9375\" y2=\"121.9375\"/></a><!--MD5=[96f4274e9e20536e775497830990834d]\n",
       "class E10--><a href=\"psysml:797261aa-a958-4475-9de3-b139176b10fb\" target=\"_top\" title=\"psysml:797261aa-a958-4475-9de3-b139176b10fb\" xlink:actuate=\"onRequest\" xlink:href=\"psysml:797261aa-a958-4475-9de3-b139176b10fb\" xlink:show=\"new\" xlink:title=\"psysml:797261aa-a958-4475-9de3-b139176b10fb\" xlink:type=\"simple\"><rect fill=\"#FFFFFF\" height=\"45.9375\" id=\"E10\" rx=\"10\" ry=\"10\" style=\"stroke: #383838; stroke-width: 1.5;\" width=\"42\" x=\"186\" y=\"84\"/><text fill=\"#000000\" font-family=\"sans-serif\" font-size=\"12\" font-style=\"italic\" lengthAdjust=\"spacingAndGlyphs\" textLength=\"40\" x=\"187\" y=\"100.1387\">«part»</text><text fill=\"#000000\" font-family=\"sans-serif\" font-size=\"12\" lengthAdjust=\"spacingAndGlyphs\" textLength=\"22\" x=\"196\" y=\"114.1074\">x: A</text><line style=\"stroke: #383838; stroke-width: 1.5;\" x1=\"187\" x2=\"227\" y1=\"121.9375\" y2=\"121.9375\"/></a><!--MD5=[1dd1bfd58a279cf63c5f349dbc8fc6a1]\n",
       "class E11--><a href=\"psysml:3825b43b-bb71-4033-970e-c8c9e00cfd14\" target=\"_top\" title=\"psysml:3825b43b-bb71-4033-970e-c8c9e00cfd14\" xlink:actuate=\"onRequest\" xlink:href=\"psysml:3825b43b-bb71-4033-970e-c8c9e00cfd14\" xlink:show=\"new\" xlink:title=\"psysml:3825b43b-bb71-4033-970e-c8c9e00cfd14\" xlink:type=\"simple\"><rect fill=\"#FFFFFF\" height=\"45.9375\" id=\"E11\" rx=\"10\" ry=\"10\" style=\"stroke: #383838; stroke-width: 1.5;\" width=\"42\" x=\"109\" y=\"84\"/><text fill=\"#000000\" font-family=\"sans-serif\" font-size=\"12\" font-style=\"italic\" lengthAdjust=\"spacingAndGlyphs\" textLength=\"40\" x=\"110\" y=\"100.1387\">«part»</text><text fill=\"#000000\" font-family=\"sans-serif\" font-size=\"12\" lengthAdjust=\"spacingAndGlyphs\" textLength=\"22\" x=\"119\" y=\"114.1074\">y: B</text><line style=\"stroke: #383838; stroke-width: 1.5;\" x1=\"110\" x2=\"150\" y1=\"121.9375\" y2=\"121.9375\"/></a><!--MD5=[14ccda38c055a5c0da953d572bc50960]\n",
       "link E7 to E3--><a href=\"psysml:85e1ff22-6346-4a23-846d-dc1a236203c0\" target=\"_top\" title=\"psysml:85e1ff22-6346-4a23-846d-dc1a236203c0\" xlink:actuate=\"onRequest\" xlink:href=\"psysml:85e1ff22-6346-4a23-846d-dc1a236203c0\" xlink:show=\"new\" xlink:title=\"psysml:85e1ff22-6346-4a23-846d-dc1a236203c0\" xlink:type=\"simple\"><path d=\"M382,130.1 C382,145.37 382,166.16 382,184.57 \" fill=\"none\" id=\"E7-&gt;E3\" style=\"stroke: #383838; stroke-width: 1.0;\"/><polygon fill=\"#FFFFFF\" points=\"382,204.61,375,185.61,389,185.61,382,204.61\" style=\"stroke: #383838; stroke-width: 1.0;\"/><ellipse cx=\"377\" cy=\"179.91\" fill=\"#383838\" rx=\"2\" ry=\"2\" style=\"stroke: #383838; stroke-width: 1.0;\"/><ellipse cx=\"387\" cy=\"179.91\" fill=\"#383838\" rx=\"2\" ry=\"2\" style=\"stroke: #383838; stroke-width: 1.0;\"/></a><!--MD5=[1ccb2481ffa92f8d51a74ee30c51832a]\n",
       "link E8 to E5--><a href=\"psysml:483adec0-2d55-41ba-876c-1b8fe7d429ab\" target=\"_top\" title=\"psysml:483adec0-2d55-41ba-876c-1b8fe7d429ab\" xlink:actuate=\"onRequest\" xlink:href=\"psysml:483adec0-2d55-41ba-876c-1b8fe7d429ab\" xlink:show=\"new\" xlink:title=\"psysml:483adec0-2d55-41ba-876c-1b8fe7d429ab\" xlink:type=\"simple\"><path d=\"M283.84,124.59 C272.23,133.52 257.5,144.61 244,154 C223.51,168.25 200.41,183.24 180.38,195.91 \" fill=\"none\" id=\"E8-&gt;E5\" style=\"stroke: #383838; stroke-width: 1.0;\"/><polygon fill=\"#FFFFFF\" points=\"163.36,206.57,175.7353,190.5434,183.175,202.403,163.36,206.57\" style=\"stroke: #383838; stroke-width: 1.0;\"/><ellipse cx=\"181.6267\" cy=\"189.2086\" fill=\"#383838\" rx=\"2\" ry=\"2\" style=\"stroke: #383838; stroke-width: 1.0;\"/><ellipse cx=\"186.9408\" cy=\"197.6797\" fill=\"#383838\" rx=\"2\" ry=\"2\" style=\"stroke: #383838; stroke-width: 1.0;\"/></a><!--MD5=[feeac5eb423634930294aa81f2d25a4c]\n",
       "link E10 to E3--><a href=\"psysml:0e238847-8a3c-4f4a-a4c7-c4eca45a31b2\" target=\"_top\" title=\"psysml:0e238847-8a3c-4f4a-a4c7-c4eca45a31b2\" xlink:actuate=\"onRequest\" xlink:href=\"psysml:0e238847-8a3c-4f4a-a4c7-c4eca45a31b2\" xlink:show=\"new\" xlink:title=\"psysml:0e238847-8a3c-4f4a-a4c7-c4eca45a31b2\" xlink:type=\"simple\"><path d=\"M228.16,124.59 C239.77,133.52 254.5,144.61 268,154 C288.49,168.25 311.59,183.24 331.62,195.91 \" fill=\"none\" id=\"E10-&gt;E3\" style=\"stroke: #383838; stroke-width: 1.0;\"/><polygon fill=\"#FFFFFF\" points=\"348.64,206.57,328.825,202.403,336.2647,190.5434,348.64,206.57\" style=\"stroke: #383838; stroke-width: 1.0;\"/><ellipse cx=\"325.0592\" cy=\"197.6797\" fill=\"#383838\" rx=\"2\" ry=\"2\" style=\"stroke: #383838; stroke-width: 1.0;\"/><ellipse cx=\"330.3733\" cy=\"189.2086\" fill=\"#383838\" rx=\"2\" ry=\"2\" style=\"stroke: #383838; stroke-width: 1.0;\"/></a><!--MD5=[07b77f6f309248d16187045709d1c26e]\n",
       "link E11 to E5--><a href=\"psysml:1112046b-9823-4ab2-8a83-96247ffb9742\" target=\"_top\" title=\"psysml:1112046b-9823-4ab2-8a83-96247ffb9742\" xlink:actuate=\"onRequest\" xlink:href=\"psysml:1112046b-9823-4ab2-8a83-96247ffb9742\" xlink:show=\"new\" xlink:title=\"psysml:1112046b-9823-4ab2-8a83-96247ffb9742\" xlink:type=\"simple\"><path d=\"M130,130.1 C130,145.37 130,166.16 130,184.57 \" fill=\"none\" id=\"E11-&gt;E5\" style=\"stroke: #383838; stroke-width: 1.0;\"/><polygon fill=\"#FFFFFF\" points=\"130,204.61,123,185.61,137,185.61,130,204.61\" style=\"stroke: #383838; stroke-width: 1.0;\"/><ellipse cx=\"125\" cy=\"179.91\" fill=\"#383838\" rx=\"2\" ry=\"2\" style=\"stroke: #383838; stroke-width: 1.0;\"/><ellipse cx=\"135\" cy=\"179.91\" fill=\"#383838\" rx=\"2\" ry=\"2\" style=\"stroke: #383838; stroke-width: 1.0;\"/></a><!--MD5=[39f41a0e550fb3d73b4d8135617e30a2]\n",
       "link E12 to E3--><a href=\"psysml:ee0d4e1c-50f8-4d3c-8a56-5035ed7c5f53\" target=\"_top\" title=\"psysml:ee0d4e1c-50f8-4d3c-8a56-5035ed7c5f53\" xlink:actuate=\"onRequest\" xlink:href=\"psysml:ee0d4e1c-50f8-4d3c-8a56-5035ed7c5f53\" xlink:show=\"new\" xlink:title=\"psysml:ee0d4e1c-50f8-4d3c-8a56-5035ed7c5f53\" xlink:type=\"simple\"><path d=\"M444.7,130.1 C434.28,146.2 419.89,168.44 407.53,187.55 \" fill=\"none\" id=\"E12-&gt;E3\" style=\"stroke: #383838; stroke-width: 1.0;\"/><polygon fill=\"#FFFFFF\" points=\"396.49,204.61,400.9313,184.8546,412.6866,192.4581,396.49,204.61\" style=\"stroke: #383838; stroke-width: 1.0;\"/><ellipse cx=\"405.7063\" cy=\"181.1547\" fill=\"#383838\" rx=\"2\" ry=\"2\" style=\"stroke: #383838; stroke-width: 1.0;\"/><ellipse cx=\"414.103\" cy=\"186.5858\" fill=\"#383838\" rx=\"2\" ry=\"2\" style=\"stroke: #383838; stroke-width: 1.0;\"/></a><!--MD5=[066b2d8af59fea80ccdb3d54ad5c1091]\n",
       "link E13 to E5--><a href=\"psysml:1d6f62f5-9885-441d-bead-3e38c1577759\" target=\"_top\" title=\"psysml:1d6f62f5-9885-441d-bead-3e38c1577759\" xlink:actuate=\"onRequest\" xlink:href=\"psysml:1d6f62f5-9885-441d-bead-3e38c1577759\" xlink:show=\"new\" xlink:title=\"psysml:1d6f62f5-9885-441d-bead-3e38c1577759\" xlink:type=\"simple\"><path d=\"M67.3,130.1 C77.72,146.2 92.11,168.44 104.47,187.55 \" fill=\"none\" id=\"E13-&gt;E5\" style=\"stroke: #383838; stroke-width: 1.0;\"/><polygon fill=\"#FFFFFF\" points=\"115.51,204.61,99.3134,192.4581,111.0687,184.8546,115.51,204.61\" style=\"stroke: #383838; stroke-width: 1.0;\"/><ellipse cx=\"97.897\" cy=\"186.5858\" fill=\"#383838\" rx=\"2\" ry=\"2\" style=\"stroke: #383838; stroke-width: 1.0;\"/><ellipse cx=\"106.2937\" cy=\"181.1547\" fill=\"#383838\" rx=\"2\" ry=\"2\" style=\"stroke: #383838; stroke-width: 1.0;\"/></a><!--MD5=[f3fe9062fff4e19d28c35299b2233a33]\n",
       "@startuml\r\n",
       "top to bottom direction\r\n",
       "skinparam monochrome true\r\n",
       "skinparam classbackgroundcolor white\r\n",
       "skinparam shadowing false\r\n",
       "skinparam wrapWidth 300\r\n",
       "hide circle\r\n",
       "\r\n",
       "package \"CircularImport\" as E1  [[psysml:6a62b0bb-ce07-42d9-b06f-c19bd22a93a2 ]]  {\r\n",
       "package \"P1\" as E2  [[psysml:e5793e48-aebf-4c77-9b1c-634d316c370a ]]  {\r\n",
       "comp def \"A\" as E3  <<(T,blue)part def>> [[psysml:4745677c-bede-4ab8-acdc-4365dad759bc ]] {\r\n",
       "}\r\n",
       "}\r\n",
       "package \"P2\" as E4  [[psysml:9f128572-3fea-4fc4-b18b-c92f97cc0f0b ]]  {\r\n",
       "comp def \"B\" as E5  <<(T,blue)part def>> [[psysml:a455b6ac-bbc4-40c1-9da4-354e9f8fdc46 ]] {\r\n",
       "}\r\n",
       "}\r\n",
       "package \"Test1\" as E6  [[psysml:6c517ad3-81f8-4503-b234-41386708eb5e ]]  {\r\n",
       "comp usage \"x: A\" as E7  <<(T,blue)part>> [[psysml:6b7db59d-d003-4043-9508-3fd9ac781eff ]] {\r\n",
       "}\r\n",
       "comp usage \"y: B\" as E8  <<(T,blue)part>> [[psysml:6c414e1f-4fb5-42fd-83aa-c158d2fbc464 ]] {\r\n",
       "}\r\n",
       "E7 - -:|> E3 [[psysml:85e1ff22-6346-4a23-846d-dc1a236203c0 ]] \r\n",
       "E8 - -:|> E5 [[psysml:483adec0-2d55-41ba-876c-1b8fe7d429ab ]] \r\n",
       "}\r\n",
       "package \"Test2\" as E9  [[psysml:81951965-8d4b-42c4-ba21-4255f6488007 ]]  {\r\n",
       "comp usage \"x: A\" as E10  <<(T,blue)part>> [[psysml:797261aa-a958-4475-9de3-b139176b10fb ]] {\r\n",
       "}\r\n",
       "comp usage \"y: B\" as E11  <<(T,blue)part>> [[psysml:3825b43b-bb71-4033-970e-c8c9e00cfd14 ]] {\r\n",
       "}\r\n",
       "E10 - -:|> E3 [[psysml:0e238847-8a3c-4f4a-a4c7-c4eca45a31b2 ]] \r\n",
       "E11 - -:|> E5 [[psysml:1112046b-9823-4ab2-8a83-96247ffb9742 ]] \r\n",
       "}\r\n",
       "comp usage \"x: A\" as E12  <<(T,blue)part>> [[psysml:e16c4bbb-61f3-4b61-a2b5-b03e29e494af ]] {\r\n",
       "}\r\n",
       "comp usage \"y: B\" as E13  <<(T,blue)part>> [[psysml:6a814915-eeda-4c4d-8e98-a86878ae1f3d ]] {\r\n",
       "}\r\n",
       "E12 - -:|> E3 [[psysml:ee0d4e1c-50f8-4d3c-8a56-5035ed7c5f53 ]] \r\n",
       "E13 - -:|> E5 [[psysml:1d6f62f5-9885-441d-bead-3e38c1577759 ]] \r\n",
       "}\r\n",
       "@enduml\r\n",
       "\n",
       "PlantUML version 1.2020.13(Sat Jun 13 12:26:38 UTC 2020)\n",
       "(EPL source distribution)\n",
       "Java Runtime: OpenJDK Runtime Environment\n",
       "JVM: OpenJDK 64-Bit Server VM\n",
       "Default Encoding: UTF-8\n",
       "Language: en\n",
       "Country: null\n",
       "--></g></svg>"
      ]
     },
     "execution_count": 44,
     "metadata": {},
     "output_type": "execute_result"
    }
   ],
   "source": [
    "%viz --style=\"TB\" --view=\"Default\" \"CircularImport\""
   ]
  },
  {
   "cell_type": "code",
   "execution_count": 45,
   "id": "combined-survivor",
   "metadata": {
    "execution": {
     "iopub.execute_input": "2021-03-25T13:13:23.191473Z",
     "iopub.status.busy": "2021-03-25T13:13:23.190791Z",
     "iopub.status.idle": "2021-03-25T13:13:23.300489Z",
     "shell.execute_reply": "2021-03-25T13:13:23.300974Z"
    }
   },
   "outputs": [
    {
     "data": {
      "image/svg+xml": [
       "<?xml version=\"1.0\" encoding=\"UTF-8\" standalone=\"no\"?><svg xmlns=\"http://www.w3.org/2000/svg\" xmlns:xlink=\"http://www.w3.org/1999/xlink\" contentScriptType=\"application/ecmascript\" contentStyleType=\"text/css\" height=\"303px\" preserveAspectRatio=\"none\" style=\"width:518px;height:303px;\" version=\"1.1\" viewBox=\"0 0 518 303\" width=\"518px\" zoomAndPan=\"magnify\"><defs/><g><!--MD5=[fbc87193dbaf4d95561dea2c320d4a47]\n",
       "cluster E1--><a href=\"psysml:6a62b0bb-ce07-42d9-b06f-c19bd22a93a2\" target=\"_top\" title=\"psysml:6a62b0bb-ce07-42d9-b06f-c19bd22a93a2\" xlink:actuate=\"onRequest\" xlink:href=\"psysml:6a62b0bb-ce07-42d9-b06f-c19bd22a93a2\" xlink:show=\"new\" xlink:title=\"psysml:6a62b0bb-ce07-42d9-b06f-c19bd22a93a2\" xlink:type=\"simple\"><polygon fill=\"#FFFFFF\" points=\"16,6,134,6,141,28.2969,496,28.2969,496,291,16,291,16,6\" style=\"stroke: #000000; stroke-width: 1.5;\"/><line style=\"stroke: #000000; stroke-width: 1.5;\" x1=\"16\" x2=\"141\" y1=\"28.2969\" y2=\"28.2969\"/><text fill=\"#000000\" font-family=\"sans-serif\" font-size=\"14\" font-weight=\"bold\" lengthAdjust=\"spacingAndGlyphs\" textLength=\"112\" x=\"20\" y=\"20.9951\">CircularImport</text></a><!--MD5=[e4f7fae6ed58524ba242bb0b0d3be6b7]\n",
       "cluster E2--><a href=\"psysml:e5793e48-aebf-4c77-9b1c-634d316c370a\" target=\"_top\" title=\"psysml:e5793e48-aebf-4c77-9b1c-634d316c370a\" xlink:actuate=\"onRequest\" xlink:href=\"psysml:e5793e48-aebf-4c77-9b1c-634d316c370a\" xlink:show=\"new\" xlink:title=\"psysml:e5793e48-aebf-4c77-9b1c-634d316c370a\" xlink:type=\"simple\"><polygon fill=\"#FFFFFF\" points=\"333,170,359,170,366,192.2969,431,192.2969,431,267,333,267,333,170\" style=\"stroke: #000000; stroke-width: 1.5;\"/><line style=\"stroke: #000000; stroke-width: 1.5;\" x1=\"333\" x2=\"366\" y1=\"192.2969\" y2=\"192.2969\"/><text fill=\"#000000\" font-family=\"sans-serif\" font-size=\"14\" font-weight=\"bold\" lengthAdjust=\"spacingAndGlyphs\" textLength=\"20\" x=\"337\" y=\"184.9951\">P1</text></a><!--MD5=[f6df4d0ebaf0b5dfb2ced0ae5af7c670]\n",
       "cluster E4--><a href=\"psysml:9f128572-3fea-4fc4-b18b-c92f97cc0f0b\" target=\"_top\" title=\"psysml:9f128572-3fea-4fc4-b18b-c92f97cc0f0b\" xlink:actuate=\"onRequest\" xlink:href=\"psysml:9f128572-3fea-4fc4-b18b-c92f97cc0f0b\" xlink:show=\"new\" xlink:title=\"psysml:9f128572-3fea-4fc4-b18b-c92f97cc0f0b\" xlink:type=\"simple\"><polygon fill=\"#FFFFFF\" points=\"81,170,107,170,114,192.2969,179,192.2969,179,267,81,267,81,170\" style=\"stroke: #000000; stroke-width: 1.5;\"/><line style=\"stroke: #000000; stroke-width: 1.5;\" x1=\"81\" x2=\"114\" y1=\"192.2969\" y2=\"192.2969\"/><text fill=\"#000000\" font-family=\"sans-serif\" font-size=\"14\" font-weight=\"bold\" lengthAdjust=\"spacingAndGlyphs\" textLength=\"20\" x=\"85\" y=\"184.9951\">P2</text></a><!--MD5=[14e3b0961a2654348d326746436168a1]\n",
       "cluster E6--><a href=\"psysml:6c517ad3-81f8-4503-b234-41386708eb5e\" target=\"_top\" title=\"psysml:6c517ad3-81f8-4503-b234-41386708eb5e\" xlink:actuate=\"onRequest\" xlink:href=\"psysml:6c517ad3-81f8-4503-b234-41386708eb5e\" xlink:show=\"new\" xlink:title=\"psysml:6c517ad3-81f8-4503-b234-41386708eb5e\" xlink:type=\"simple\"><polygon fill=\"#FFFFFF\" points=\"268,49,319,49,326,71.2969,419,71.2969,419,146,268,146,268,49\" style=\"stroke: #000000; stroke-width: 1.5;\"/><line style=\"stroke: #000000; stroke-width: 1.5;\" x1=\"268\" x2=\"326\" y1=\"71.2969\" y2=\"71.2969\"/><text fill=\"#000000\" font-family=\"sans-serif\" font-size=\"14\" font-weight=\"bold\" lengthAdjust=\"spacingAndGlyphs\" textLength=\"45\" x=\"272\" y=\"63.9951\">Test1</text></a><!--MD5=[7f149f147074ac12df2cb0a7728a5fb0]\n",
       "cluster E9--><a href=\"psysml:81951965-8d4b-42c4-ba21-4255f6488007\" target=\"_top\" title=\"psysml:81951965-8d4b-42c4-ba21-4255f6488007\" xlink:actuate=\"onRequest\" xlink:href=\"psysml:81951965-8d4b-42c4-ba21-4255f6488007\" xlink:show=\"new\" xlink:title=\"psysml:81951965-8d4b-42c4-ba21-4255f6488007\" xlink:type=\"simple\"><polygon fill=\"#FFFFFF\" points=\"93,49,144,49,151,71.2969,244,71.2969,244,146,93,146,93,49\" style=\"stroke: #000000; stroke-width: 1.5;\"/><line style=\"stroke: #000000; stroke-width: 1.5;\" x1=\"93\" x2=\"151\" y1=\"71.2969\" y2=\"71.2969\"/><text fill=\"#000000\" font-family=\"sans-serif\" font-size=\"14\" font-weight=\"bold\" lengthAdjust=\"spacingAndGlyphs\" textLength=\"45\" x=\"97\" y=\"63.9951\">Test2</text></a><!--MD5=[49a0ec8f00dab7302a31f22d0f0fe584]\n",
       "class E12--><a href=\"psysml:e16c4bbb-61f3-4b61-a2b5-b03e29e494af\" target=\"_top\" title=\"psysml:e16c4bbb-61f3-4b61-a2b5-b03e29e494af\" xlink:actuate=\"onRequest\" xlink:href=\"psysml:e16c4bbb-61f3-4b61-a2b5-b03e29e494af\" xlink:show=\"new\" xlink:title=\"psysml:e16c4bbb-61f3-4b61-a2b5-b03e29e494af\" xlink:type=\"simple\"><rect fill=\"#FFFFFF\" height=\"45.9375\" id=\"E12\" rx=\"10\" ry=\"10\" style=\"stroke: #383838; stroke-width: 1.5;\" width=\"42\" x=\"438\" y=\"84\"/><text fill=\"#000000\" font-family=\"sans-serif\" font-size=\"12\" font-style=\"italic\" lengthAdjust=\"spacingAndGlyphs\" textLength=\"40\" x=\"439\" y=\"100.1387\">«part»</text><text fill=\"#000000\" font-family=\"sans-serif\" font-size=\"12\" lengthAdjust=\"spacingAndGlyphs\" textLength=\"22\" x=\"448\" y=\"114.1074\">x: A</text><line style=\"stroke: #383838; stroke-width: 1.5;\" x1=\"439\" x2=\"479\" y1=\"121.9375\" y2=\"121.9375\"/></a><!--MD5=[ee3c913d1a06f366521f9ef512b67efe]\n",
       "class E13--><a href=\"psysml:6a814915-eeda-4c4d-8e98-a86878ae1f3d\" target=\"_top\" title=\"psysml:6a814915-eeda-4c4d-8e98-a86878ae1f3d\" xlink:actuate=\"onRequest\" xlink:href=\"psysml:6a814915-eeda-4c4d-8e98-a86878ae1f3d\" xlink:show=\"new\" xlink:title=\"psysml:6a814915-eeda-4c4d-8e98-a86878ae1f3d\" xlink:type=\"simple\"><rect fill=\"#FFFFFF\" height=\"45.9375\" id=\"E13\" rx=\"10\" ry=\"10\" style=\"stroke: #383838; stroke-width: 1.5;\" width=\"42\" x=\"32\" y=\"84\"/><text fill=\"#000000\" font-family=\"sans-serif\" font-size=\"12\" font-style=\"italic\" lengthAdjust=\"spacingAndGlyphs\" textLength=\"40\" x=\"33\" y=\"100.1387\">«part»</text><text fill=\"#000000\" font-family=\"sans-serif\" font-size=\"12\" lengthAdjust=\"spacingAndGlyphs\" textLength=\"22\" x=\"42\" y=\"114.1074\">y: B</text><line style=\"stroke: #383838; stroke-width: 1.5;\" x1=\"33\" x2=\"73\" y1=\"121.9375\" y2=\"121.9375\"/></a><!--MD5=[09b614a08d8cba4a07c9adeb5e0fee81]\n",
       "class E3--><a href=\"psysml:4745677c-bede-4ab8-acdc-4365dad759bc\" target=\"_top\" title=\"psysml:4745677c-bede-4ab8-acdc-4365dad759bc\" xlink:actuate=\"onRequest\" xlink:href=\"psysml:4745677c-bede-4ab8-acdc-4365dad759bc\" xlink:show=\"new\" xlink:title=\"psysml:4745677c-bede-4ab8-acdc-4365dad759bc\" xlink:type=\"simple\"><rect fill=\"#FFFFFF\" height=\"45.9375\" id=\"E3\" style=\"stroke: #383838; stroke-width: 1.5;\" width=\"66\" x=\"349\" y=\"205\"/><text fill=\"#000000\" font-family=\"sans-serif\" font-size=\"12\" font-style=\"italic\" lengthAdjust=\"spacingAndGlyphs\" textLength=\"64\" x=\"350\" y=\"221.1387\">«part def»</text><text fill=\"#000000\" font-family=\"sans-serif\" font-size=\"12\" lengthAdjust=\"spacingAndGlyphs\" textLength=\"8\" x=\"378\" y=\"235.1074\">A</text><line style=\"stroke: #383838; stroke-width: 1.5;\" x1=\"350\" x2=\"414\" y1=\"242.9375\" y2=\"242.9375\"/></a><!--MD5=[270fce915f116d4de14055a7c1d9a0f3]\n",
       "class E5--><a href=\"psysml:a455b6ac-bbc4-40c1-9da4-354e9f8fdc46\" target=\"_top\" title=\"psysml:a455b6ac-bbc4-40c1-9da4-354e9f8fdc46\" xlink:actuate=\"onRequest\" xlink:href=\"psysml:a455b6ac-bbc4-40c1-9da4-354e9f8fdc46\" xlink:show=\"new\" xlink:title=\"psysml:a455b6ac-bbc4-40c1-9da4-354e9f8fdc46\" xlink:type=\"simple\"><rect fill=\"#FFFFFF\" height=\"45.9375\" id=\"E5\" style=\"stroke: #383838; stroke-width: 1.5;\" width=\"66\" x=\"97\" y=\"205\"/><text fill=\"#000000\" font-family=\"sans-serif\" font-size=\"12\" font-style=\"italic\" lengthAdjust=\"spacingAndGlyphs\" textLength=\"64\" x=\"98\" y=\"221.1387\">«part def»</text><text fill=\"#000000\" font-family=\"sans-serif\" font-size=\"12\" lengthAdjust=\"spacingAndGlyphs\" textLength=\"8\" x=\"126\" y=\"235.1074\">B</text><line style=\"stroke: #383838; stroke-width: 1.5;\" x1=\"98\" x2=\"162\" y1=\"242.9375\" y2=\"242.9375\"/></a><!--MD5=[2156ba9850f5573cc1fc38a6a4b2f02b]\n",
       "class E7--><a href=\"psysml:6b7db59d-d003-4043-9508-3fd9ac781eff\" target=\"_top\" title=\"psysml:6b7db59d-d003-4043-9508-3fd9ac781eff\" xlink:actuate=\"onRequest\" xlink:href=\"psysml:6b7db59d-d003-4043-9508-3fd9ac781eff\" xlink:show=\"new\" xlink:title=\"psysml:6b7db59d-d003-4043-9508-3fd9ac781eff\" xlink:type=\"simple\"><rect fill=\"#FFFFFF\" height=\"45.9375\" id=\"E7\" rx=\"10\" ry=\"10\" style=\"stroke: #383838; stroke-width: 1.5;\" width=\"42\" x=\"361\" y=\"84\"/><text fill=\"#000000\" font-family=\"sans-serif\" font-size=\"12\" font-style=\"italic\" lengthAdjust=\"spacingAndGlyphs\" textLength=\"40\" x=\"362\" y=\"100.1387\">«part»</text><text fill=\"#000000\" font-family=\"sans-serif\" font-size=\"12\" lengthAdjust=\"spacingAndGlyphs\" textLength=\"22\" x=\"371\" y=\"114.1074\">x: A</text><line style=\"stroke: #383838; stroke-width: 1.5;\" x1=\"362\" x2=\"402\" y1=\"121.9375\" y2=\"121.9375\"/></a><!--MD5=[b9389687b975829384b498ac4b7476b2]\n",
       "class E8--><a href=\"psysml:6c414e1f-4fb5-42fd-83aa-c158d2fbc464\" target=\"_top\" title=\"psysml:6c414e1f-4fb5-42fd-83aa-c158d2fbc464\" xlink:actuate=\"onRequest\" xlink:href=\"psysml:6c414e1f-4fb5-42fd-83aa-c158d2fbc464\" xlink:show=\"new\" xlink:title=\"psysml:6c414e1f-4fb5-42fd-83aa-c158d2fbc464\" xlink:type=\"simple\"><rect fill=\"#FFFFFF\" height=\"45.9375\" id=\"E8\" rx=\"10\" ry=\"10\" style=\"stroke: #383838; stroke-width: 1.5;\" width=\"42\" x=\"284\" y=\"84\"/><text fill=\"#000000\" font-family=\"sans-serif\" font-size=\"12\" font-style=\"italic\" lengthAdjust=\"spacingAndGlyphs\" textLength=\"40\" x=\"285\" y=\"100.1387\">«part»</text><text fill=\"#000000\" font-family=\"sans-serif\" font-size=\"12\" lengthAdjust=\"spacingAndGlyphs\" textLength=\"22\" x=\"294\" y=\"114.1074\">y: B</text><line style=\"stroke: #383838; stroke-width: 1.5;\" x1=\"285\" x2=\"325\" y1=\"121.9375\" y2=\"121.9375\"/></a><!--MD5=[96f4274e9e20536e775497830990834d]\n",
       "class E10--><a href=\"psysml:797261aa-a958-4475-9de3-b139176b10fb\" target=\"_top\" title=\"psysml:797261aa-a958-4475-9de3-b139176b10fb\" xlink:actuate=\"onRequest\" xlink:href=\"psysml:797261aa-a958-4475-9de3-b139176b10fb\" xlink:show=\"new\" xlink:title=\"psysml:797261aa-a958-4475-9de3-b139176b10fb\" xlink:type=\"simple\"><rect fill=\"#FFFFFF\" height=\"45.9375\" id=\"E10\" rx=\"10\" ry=\"10\" style=\"stroke: #383838; stroke-width: 1.5;\" width=\"42\" x=\"186\" y=\"84\"/><text fill=\"#000000\" font-family=\"sans-serif\" font-size=\"12\" font-style=\"italic\" lengthAdjust=\"spacingAndGlyphs\" textLength=\"40\" x=\"187\" y=\"100.1387\">«part»</text><text fill=\"#000000\" font-family=\"sans-serif\" font-size=\"12\" lengthAdjust=\"spacingAndGlyphs\" textLength=\"22\" x=\"196\" y=\"114.1074\">x: A</text><line style=\"stroke: #383838; stroke-width: 1.5;\" x1=\"187\" x2=\"227\" y1=\"121.9375\" y2=\"121.9375\"/></a><!--MD5=[1dd1bfd58a279cf63c5f349dbc8fc6a1]\n",
       "class E11--><a href=\"psysml:3825b43b-bb71-4033-970e-c8c9e00cfd14\" target=\"_top\" title=\"psysml:3825b43b-bb71-4033-970e-c8c9e00cfd14\" xlink:actuate=\"onRequest\" xlink:href=\"psysml:3825b43b-bb71-4033-970e-c8c9e00cfd14\" xlink:show=\"new\" xlink:title=\"psysml:3825b43b-bb71-4033-970e-c8c9e00cfd14\" xlink:type=\"simple\"><rect fill=\"#FFFFFF\" height=\"45.9375\" id=\"E11\" rx=\"10\" ry=\"10\" style=\"stroke: #383838; stroke-width: 1.5;\" width=\"42\" x=\"109\" y=\"84\"/><text fill=\"#000000\" font-family=\"sans-serif\" font-size=\"12\" font-style=\"italic\" lengthAdjust=\"spacingAndGlyphs\" textLength=\"40\" x=\"110\" y=\"100.1387\">«part»</text><text fill=\"#000000\" font-family=\"sans-serif\" font-size=\"12\" lengthAdjust=\"spacingAndGlyphs\" textLength=\"22\" x=\"119\" y=\"114.1074\">y: B</text><line style=\"stroke: #383838; stroke-width: 1.5;\" x1=\"110\" x2=\"150\" y1=\"121.9375\" y2=\"121.9375\"/></a><!--MD5=[14ccda38c055a5c0da953d572bc50960]\n",
       "link E7 to E3--><a href=\"psysml:85e1ff22-6346-4a23-846d-dc1a236203c0\" target=\"_top\" title=\"psysml:85e1ff22-6346-4a23-846d-dc1a236203c0\" xlink:actuate=\"onRequest\" xlink:href=\"psysml:85e1ff22-6346-4a23-846d-dc1a236203c0\" xlink:show=\"new\" xlink:title=\"psysml:85e1ff22-6346-4a23-846d-dc1a236203c0\" xlink:type=\"simple\"><path d=\"M382,130.1 C382,145.37 382,166.16 382,184.57 \" fill=\"none\" id=\"E7-&gt;E3\" style=\"stroke: #383838; stroke-width: 1.0;\"/><polygon fill=\"#FFFFFF\" points=\"382,204.61,375,185.61,389,185.61,382,204.61\" style=\"stroke: #383838; stroke-width: 1.0;\"/><ellipse cx=\"377\" cy=\"179.91\" fill=\"#383838\" rx=\"2\" ry=\"2\" style=\"stroke: #383838; stroke-width: 1.0;\"/><ellipse cx=\"387\" cy=\"179.91\" fill=\"#383838\" rx=\"2\" ry=\"2\" style=\"stroke: #383838; stroke-width: 1.0;\"/></a><!--MD5=[1ccb2481ffa92f8d51a74ee30c51832a]\n",
       "link E8 to E5--><a href=\"psysml:483adec0-2d55-41ba-876c-1b8fe7d429ab\" target=\"_top\" title=\"psysml:483adec0-2d55-41ba-876c-1b8fe7d429ab\" xlink:actuate=\"onRequest\" xlink:href=\"psysml:483adec0-2d55-41ba-876c-1b8fe7d429ab\" xlink:show=\"new\" xlink:title=\"psysml:483adec0-2d55-41ba-876c-1b8fe7d429ab\" xlink:type=\"simple\"><path d=\"M283.84,124.59 C272.23,133.52 257.5,144.61 244,154 C223.51,168.25 200.41,183.24 180.38,195.91 \" fill=\"none\" id=\"E8-&gt;E5\" style=\"stroke: #383838; stroke-width: 1.0;\"/><polygon fill=\"#FFFFFF\" points=\"163.36,206.57,175.7353,190.5434,183.175,202.403,163.36,206.57\" style=\"stroke: #383838; stroke-width: 1.0;\"/><ellipse cx=\"181.6267\" cy=\"189.2086\" fill=\"#383838\" rx=\"2\" ry=\"2\" style=\"stroke: #383838; stroke-width: 1.0;\"/><ellipse cx=\"186.9408\" cy=\"197.6797\" fill=\"#383838\" rx=\"2\" ry=\"2\" style=\"stroke: #383838; stroke-width: 1.0;\"/></a><!--MD5=[feeac5eb423634930294aa81f2d25a4c]\n",
       "link E10 to E3--><a href=\"psysml:0e238847-8a3c-4f4a-a4c7-c4eca45a31b2\" target=\"_top\" title=\"psysml:0e238847-8a3c-4f4a-a4c7-c4eca45a31b2\" xlink:actuate=\"onRequest\" xlink:href=\"psysml:0e238847-8a3c-4f4a-a4c7-c4eca45a31b2\" xlink:show=\"new\" xlink:title=\"psysml:0e238847-8a3c-4f4a-a4c7-c4eca45a31b2\" xlink:type=\"simple\"><path d=\"M228.16,124.59 C239.77,133.52 254.5,144.61 268,154 C288.49,168.25 311.59,183.24 331.62,195.91 \" fill=\"none\" id=\"E10-&gt;E3\" style=\"stroke: #383838; stroke-width: 1.0;\"/><polygon fill=\"#FFFFFF\" points=\"348.64,206.57,328.825,202.403,336.2647,190.5434,348.64,206.57\" style=\"stroke: #383838; stroke-width: 1.0;\"/><ellipse cx=\"325.0592\" cy=\"197.6797\" fill=\"#383838\" rx=\"2\" ry=\"2\" style=\"stroke: #383838; stroke-width: 1.0;\"/><ellipse cx=\"330.3733\" cy=\"189.2086\" fill=\"#383838\" rx=\"2\" ry=\"2\" style=\"stroke: #383838; stroke-width: 1.0;\"/></a><!--MD5=[07b77f6f309248d16187045709d1c26e]\n",
       "link E11 to E5--><a href=\"psysml:1112046b-9823-4ab2-8a83-96247ffb9742\" target=\"_top\" title=\"psysml:1112046b-9823-4ab2-8a83-96247ffb9742\" xlink:actuate=\"onRequest\" xlink:href=\"psysml:1112046b-9823-4ab2-8a83-96247ffb9742\" xlink:show=\"new\" xlink:title=\"psysml:1112046b-9823-4ab2-8a83-96247ffb9742\" xlink:type=\"simple\"><path d=\"M130,130.1 C130,145.37 130,166.16 130,184.57 \" fill=\"none\" id=\"E11-&gt;E5\" style=\"stroke: #383838; stroke-width: 1.0;\"/><polygon fill=\"#FFFFFF\" points=\"130,204.61,123,185.61,137,185.61,130,204.61\" style=\"stroke: #383838; stroke-width: 1.0;\"/><ellipse cx=\"125\" cy=\"179.91\" fill=\"#383838\" rx=\"2\" ry=\"2\" style=\"stroke: #383838; stroke-width: 1.0;\"/><ellipse cx=\"135\" cy=\"179.91\" fill=\"#383838\" rx=\"2\" ry=\"2\" style=\"stroke: #383838; stroke-width: 1.0;\"/></a><!--MD5=[39f41a0e550fb3d73b4d8135617e30a2]\n",
       "link E12 to E3--><a href=\"psysml:ee0d4e1c-50f8-4d3c-8a56-5035ed7c5f53\" target=\"_top\" title=\"psysml:ee0d4e1c-50f8-4d3c-8a56-5035ed7c5f53\" xlink:actuate=\"onRequest\" xlink:href=\"psysml:ee0d4e1c-50f8-4d3c-8a56-5035ed7c5f53\" xlink:show=\"new\" xlink:title=\"psysml:ee0d4e1c-50f8-4d3c-8a56-5035ed7c5f53\" xlink:type=\"simple\"><path d=\"M444.7,130.1 C434.28,146.2 419.89,168.44 407.53,187.55 \" fill=\"none\" id=\"E12-&gt;E3\" style=\"stroke: #383838; stroke-width: 1.0;\"/><polygon fill=\"#FFFFFF\" points=\"396.49,204.61,400.9313,184.8546,412.6866,192.4581,396.49,204.61\" style=\"stroke: #383838; stroke-width: 1.0;\"/><ellipse cx=\"405.7063\" cy=\"181.1547\" fill=\"#383838\" rx=\"2\" ry=\"2\" style=\"stroke: #383838; stroke-width: 1.0;\"/><ellipse cx=\"414.103\" cy=\"186.5858\" fill=\"#383838\" rx=\"2\" ry=\"2\" style=\"stroke: #383838; stroke-width: 1.0;\"/></a><!--MD5=[066b2d8af59fea80ccdb3d54ad5c1091]\n",
       "link E13 to E5--><a href=\"psysml:1d6f62f5-9885-441d-bead-3e38c1577759\" target=\"_top\" title=\"psysml:1d6f62f5-9885-441d-bead-3e38c1577759\" xlink:actuate=\"onRequest\" xlink:href=\"psysml:1d6f62f5-9885-441d-bead-3e38c1577759\" xlink:show=\"new\" xlink:title=\"psysml:1d6f62f5-9885-441d-bead-3e38c1577759\" xlink:type=\"simple\"><path d=\"M67.3,130.1 C77.72,146.2 92.11,168.44 104.47,187.55 \" fill=\"none\" id=\"E13-&gt;E5\" style=\"stroke: #383838; stroke-width: 1.0;\"/><polygon fill=\"#FFFFFF\" points=\"115.51,204.61,99.3134,192.4581,111.0687,184.8546,115.51,204.61\" style=\"stroke: #383838; stroke-width: 1.0;\"/><ellipse cx=\"97.897\" cy=\"186.5858\" fill=\"#383838\" rx=\"2\" ry=\"2\" style=\"stroke: #383838; stroke-width: 1.0;\"/><ellipse cx=\"106.2937\" cy=\"181.1547\" fill=\"#383838\" rx=\"2\" ry=\"2\" style=\"stroke: #383838; stroke-width: 1.0;\"/></a><!--MD5=[f3fe9062fff4e19d28c35299b2233a33]\n",
       "@startuml\r\n",
       "top to bottom direction\r\n",
       "skinparam monochrome true\r\n",
       "skinparam classbackgroundcolor white\r\n",
       "skinparam shadowing false\r\n",
       "skinparam wrapWidth 300\r\n",
       "hide circle\r\n",
       "\r\n",
       "package \"CircularImport\" as E1  [[psysml:6a62b0bb-ce07-42d9-b06f-c19bd22a93a2 ]]  {\r\n",
       "package \"P1\" as E2  [[psysml:e5793e48-aebf-4c77-9b1c-634d316c370a ]]  {\r\n",
       "comp def \"A\" as E3  <<(T,blue)part def>> [[psysml:4745677c-bede-4ab8-acdc-4365dad759bc ]] {\r\n",
       "}\r\n",
       "}\r\n",
       "package \"P2\" as E4  [[psysml:9f128572-3fea-4fc4-b18b-c92f97cc0f0b ]]  {\r\n",
       "comp def \"B\" as E5  <<(T,blue)part def>> [[psysml:a455b6ac-bbc4-40c1-9da4-354e9f8fdc46 ]] {\r\n",
       "}\r\n",
       "}\r\n",
       "package \"Test1\" as E6  [[psysml:6c517ad3-81f8-4503-b234-41386708eb5e ]]  {\r\n",
       "comp usage \"x: A\" as E7  <<(T,blue)part>> [[psysml:6b7db59d-d003-4043-9508-3fd9ac781eff ]] {\r\n",
       "}\r\n",
       "comp usage \"y: B\" as E8  <<(T,blue)part>> [[psysml:6c414e1f-4fb5-42fd-83aa-c158d2fbc464 ]] {\r\n",
       "}\r\n",
       "E7 - -:|> E3 [[psysml:85e1ff22-6346-4a23-846d-dc1a236203c0 ]] \r\n",
       "E8 - -:|> E5 [[psysml:483adec0-2d55-41ba-876c-1b8fe7d429ab ]] \r\n",
       "}\r\n",
       "package \"Test2\" as E9  [[psysml:81951965-8d4b-42c4-ba21-4255f6488007 ]]  {\r\n",
       "comp usage \"x: A\" as E10  <<(T,blue)part>> [[psysml:797261aa-a958-4475-9de3-b139176b10fb ]] {\r\n",
       "}\r\n",
       "comp usage \"y: B\" as E11  <<(T,blue)part>> [[psysml:3825b43b-bb71-4033-970e-c8c9e00cfd14 ]] {\r\n",
       "}\r\n",
       "E10 - -:|> E3 [[psysml:0e238847-8a3c-4f4a-a4c7-c4eca45a31b2 ]] \r\n",
       "E11 - -:|> E5 [[psysml:1112046b-9823-4ab2-8a83-96247ffb9742 ]] \r\n",
       "}\r\n",
       "comp usage \"x: A\" as E12  <<(T,blue)part>> [[psysml:e16c4bbb-61f3-4b61-a2b5-b03e29e494af ]] {\r\n",
       "}\r\n",
       "comp usage \"y: B\" as E13  <<(T,blue)part>> [[psysml:6a814915-eeda-4c4d-8e98-a86878ae1f3d ]] {\r\n",
       "}\r\n",
       "E12 - -:|> E3 [[psysml:ee0d4e1c-50f8-4d3c-8a56-5035ed7c5f53 ]] \r\n",
       "E13 - -:|> E5 [[psysml:1d6f62f5-9885-441d-bead-3e38c1577759 ]] \r\n",
       "}\r\n",
       "@enduml\r\n",
       "\n",
       "PlantUML version 1.2020.13(Sat Jun 13 12:26:38 UTC 2020)\n",
       "(EPL source distribution)\n",
       "Java Runtime: OpenJDK Runtime Environment\n",
       "JVM: OpenJDK 64-Bit Server VM\n",
       "Default Encoding: UTF-8\n",
       "Language: en\n",
       "Country: null\n",
       "--></g></svg>"
      ]
     },
     "execution_count": 45,
     "metadata": {},
     "output_type": "execute_result"
    }
   ],
   "source": [
    "%viz --style=\"TB\" --view=\"Tree\" \"CircularImport\""
   ]
  },
  {
   "cell_type": "code",
   "execution_count": 46,
   "id": "vanilla-aquarium",
   "metadata": {
    "execution": {
     "iopub.execute_input": "2021-03-25T13:13:23.351746Z",
     "iopub.status.busy": "2021-03-25T13:13:23.351350Z",
     "iopub.status.idle": "2021-03-25T13:13:23.356150Z",
     "shell.execute_reply": "2021-03-25T13:13:23.355784Z"
    }
   },
   "outputs": [
    {
     "data": {
      "image/svg+xml": [
       "<?xml version=\"1.0\" encoding=\"UTF-8\" standalone=\"no\"?><svg xmlns=\"http://www.w3.org/2000/svg\" xmlns:xlink=\"http://www.w3.org/1999/xlink\" contentScriptType=\"application/ecmascript\" contentStyleType=\"text/css\" height=\"12px\" preserveAspectRatio=\"none\" style=\"width:12px;height:12px;\" version=\"1.1\" viewBox=\"0 0 12 12\" width=\"12px\" zoomAndPan=\"magnify\"><defs/><g><!--MD5=[f4ee21bc66e489b5061b7c3e9601fdef]\n",
       "@startuml\r\n",
       "top to bottom direction\r\n",
       "skinparam monochrome true\r\n",
       "skinparam classbackgroundcolor white\r\n",
       "skinparam shadowing false\r\n",
       "skinparam wrapWidth 300\r\n",
       "hide circle\r\n",
       "\r\n",
       "@enduml\r\n",
       "\n",
       "PlantUML version 1.2020.13(Sat Jun 13 12:26:38 UTC 2020)\n",
       "(EPL source distribution)\n",
       "Java Runtime: OpenJDK Runtime Environment\n",
       "JVM: OpenJDK 64-Bit Server VM\n",
       "Default Encoding: UTF-8\n",
       "Language: en\n",
       "Country: null\n",
       "--></g></svg>"
      ]
     },
     "execution_count": 46,
     "metadata": {},
     "output_type": "execute_result"
    }
   ],
   "source": [
    "%viz --style=\"TB\" --view=\"State\" \"CircularImport\""
   ]
  },
  {
   "cell_type": "code",
   "execution_count": 47,
   "id": "deluxe-preservation",
   "metadata": {
    "execution": {
     "iopub.execute_input": "2021-03-25T13:13:23.407512Z",
     "iopub.status.busy": "2021-03-25T13:13:23.406849Z",
     "iopub.status.idle": "2021-03-25T13:13:23.481885Z",
     "shell.execute_reply": "2021-03-25T13:13:23.480377Z"
    }
   },
   "outputs": [
    {
     "data": {
      "image/svg+xml": [
       "<?xml version=\"1.0\" encoding=\"UTF-8\" standalone=\"no\"?><svg xmlns=\"http://www.w3.org/2000/svg\" xmlns:xlink=\"http://www.w3.org/1999/xlink\" contentScriptType=\"application/ecmascript\" contentStyleType=\"text/css\" height=\"179px\" preserveAspectRatio=\"none\" style=\"width:846px;height:179px;\" version=\"1.1\" viewBox=\"0 0 846 179\" width=\"846px\" zoomAndPan=\"magnify\"><defs/><g><!--MD5=[fbc87193dbaf4d95561dea2c320d4a47]\n",
       "cluster E1--><a href=\"psysml:6a62b0bb-ce07-42d9-b06f-c19bd22a93a2\" target=\"_top\" title=\"psysml:6a62b0bb-ce07-42d9-b06f-c19bd22a93a2\" xlink:actuate=\"onRequest\" xlink:href=\"psysml:6a62b0bb-ce07-42d9-b06f-c19bd22a93a2\" xlink:show=\"new\" xlink:title=\"psysml:6a62b0bb-ce07-42d9-b06f-c19bd22a93a2\" xlink:type=\"simple\"><polygon fill=\"#FFFFFF\" points=\"16,6,134,6,141,28.2969,824,28.2969,824,167,16,167,16,6\" style=\"stroke: #000000; stroke-width: 1.5;\"/><line style=\"stroke: #000000; stroke-width: 1.5;\" x1=\"16\" x2=\"141\" y1=\"28.2969\" y2=\"28.2969\"/><text fill=\"#000000\" font-family=\"sans-serif\" font-size=\"14\" font-weight=\"bold\" lengthAdjust=\"spacingAndGlyphs\" textLength=\"112\" x=\"20\" y=\"20.9951\">CircularImport</text></a><!--MD5=[e4f7fae6ed58524ba242bb0b0d3be6b7]\n",
       "cluster E2--><a href=\"psysml:e5793e48-aebf-4c77-9b1c-634d316c370a\" target=\"_top\" title=\"psysml:e5793e48-aebf-4c77-9b1c-634d316c370a\" xlink:actuate=\"onRequest\" xlink:href=\"psysml:e5793e48-aebf-4c77-9b1c-634d316c370a\" xlink:show=\"new\" xlink:title=\"psysml:e5793e48-aebf-4c77-9b1c-634d316c370a\" xlink:type=\"simple\"><polygon fill=\"#FFFFFF\" points=\"696,49,722,49,729,71.2969,800,71.2969,800,143,696,143,696,49\" style=\"stroke: #000000; stroke-width: 1.5;\"/><line style=\"stroke: #000000; stroke-width: 1.5;\" x1=\"696\" x2=\"729\" y1=\"71.2969\" y2=\"71.2969\"/><text fill=\"#000000\" font-family=\"sans-serif\" font-size=\"14\" font-weight=\"bold\" lengthAdjust=\"spacingAndGlyphs\" textLength=\"20\" x=\"700\" y=\"63.9951\">P1</text></a><!--MD5=[f6df4d0ebaf0b5dfb2ced0ae5af7c670]\n",
       "cluster E4--><a href=\"psysml:9f128572-3fea-4fc4-b18b-c92f97cc0f0b\" target=\"_top\" title=\"psysml:9f128572-3fea-4fc4-b18b-c92f97cc0f0b\" xlink:actuate=\"onRequest\" xlink:href=\"psysml:9f128572-3fea-4fc4-b18b-c92f97cc0f0b\" xlink:show=\"new\" xlink:title=\"psysml:9f128572-3fea-4fc4-b18b-c92f97cc0f0b\" xlink:type=\"simple\"><polygon fill=\"#FFFFFF\" points=\"568,49,594,49,601,71.2969,672,71.2969,672,143,568,143,568,49\" style=\"stroke: #000000; stroke-width: 1.5;\"/><line style=\"stroke: #000000; stroke-width: 1.5;\" x1=\"568\" x2=\"601\" y1=\"71.2969\" y2=\"71.2969\"/><text fill=\"#000000\" font-family=\"sans-serif\" font-size=\"14\" font-weight=\"bold\" lengthAdjust=\"spacingAndGlyphs\" textLength=\"20\" x=\"572\" y=\"63.9951\">P2</text></a><!--MD5=[14e3b0961a2654348d326746436168a1]\n",
       "cluster E6--><a href=\"psysml:6c517ad3-81f8-4503-b234-41386708eb5e\" target=\"_top\" title=\"psysml:6c517ad3-81f8-4503-b234-41386708eb5e\" xlink:actuate=\"onRequest\" xlink:href=\"psysml:6c517ad3-81f8-4503-b234-41386708eb5e\" xlink:show=\"new\" xlink:title=\"psysml:6c517ad3-81f8-4503-b234-41386708eb5e\" xlink:type=\"simple\"><polygon fill=\"#FFFFFF\" points=\"377,50.5,428,50.5,435,72.7969,544,72.7969,544,141.5,377,141.5,377,50.5\" style=\"stroke: #000000; stroke-width: 1.5;\"/><line style=\"stroke: #000000; stroke-width: 1.5;\" x1=\"377\" x2=\"435\" y1=\"72.7969\" y2=\"72.7969\"/><text fill=\"#000000\" font-family=\"sans-serif\" font-size=\"14\" font-weight=\"bold\" lengthAdjust=\"spacingAndGlyphs\" textLength=\"45\" x=\"381\" y=\"65.4951\">Test1</text></a><!--MD5=[7f149f147074ac12df2cb0a7728a5fb0]\n",
       "cluster E9--><a href=\"psysml:81951965-8d4b-42c4-ba21-4255f6488007\" target=\"_top\" title=\"psysml:81951965-8d4b-42c4-ba21-4255f6488007\" xlink:actuate=\"onRequest\" xlink:href=\"psysml:81951965-8d4b-42c4-ba21-4255f6488007\" xlink:show=\"new\" xlink:title=\"psysml:81951965-8d4b-42c4-ba21-4255f6488007\" xlink:type=\"simple\"><polygon fill=\"#FFFFFF\" points=\"186,50.5,237,50.5,244,72.7969,353,72.7969,353,141.5,186,141.5,186,50.5\" style=\"stroke: #000000; stroke-width: 1.5;\"/><line style=\"stroke: #000000; stroke-width: 1.5;\" x1=\"186\" x2=\"244\" y1=\"72.7969\" y2=\"72.7969\"/><text fill=\"#000000\" font-family=\"sans-serif\" font-size=\"14\" font-weight=\"bold\" lengthAdjust=\"spacingAndGlyphs\" textLength=\"45\" x=\"190\" y=\"65.4951\">Test2</text></a><g id=\"E1.E2.E3\"><a href=\"psysml:4745677c-bede-4ab8-acdc-4365dad759bc\" target=\"_top\" title=\"psysml:4745677c-bede-4ab8-acdc-4365dad759bc\" xlink:actuate=\"onRequest\" xlink:href=\"psysml:4745677c-bede-4ab8-acdc-4365dad759bc\" xlink:show=\"new\" xlink:title=\"psysml:4745677c-bede-4ab8-acdc-4365dad759bc\" xlink:type=\"simple\"><rect fill=\"#FFFFFF\" height=\"42.9375\" id=\"E3\" style=\"stroke: #383838; stroke-width: 1.5;\" width=\"71\" x=\"712.5\" y=\"84\"/><rect fill=\"#F8F8F8\" height=\"37.9375\" style=\"stroke: #383838; stroke-width: 1.5;\" width=\"71\" x=\"712.5\" y=\"84\"/><text fill=\"#000000\" font-family=\"sans-serif\" font-size=\"12\" font-style=\"italic\" lengthAdjust=\"spacingAndGlyphs\" textLength=\"64\" x=\"716\" y=\"100.1387\">«part def»</text><text fill=\"#000000\" font-family=\"sans-serif\" font-size=\"12\" lengthAdjust=\"spacingAndGlyphs\" textLength=\"8\" x=\"744\" y=\"114.1074\">A</text></a></g><g id=\"E1.E4.E5\"><a href=\"psysml:a455b6ac-bbc4-40c1-9da4-354e9f8fdc46\" target=\"_top\" title=\"psysml:a455b6ac-bbc4-40c1-9da4-354e9f8fdc46\" xlink:actuate=\"onRequest\" xlink:href=\"psysml:a455b6ac-bbc4-40c1-9da4-354e9f8fdc46\" xlink:show=\"new\" xlink:title=\"psysml:a455b6ac-bbc4-40c1-9da4-354e9f8fdc46\" xlink:type=\"simple\"><rect fill=\"#FFFFFF\" height=\"42.9375\" id=\"E5\" style=\"stroke: #383838; stroke-width: 1.5;\" width=\"71\" x=\"584.5\" y=\"84\"/><rect fill=\"#F8F8F8\" height=\"37.9375\" style=\"stroke: #383838; stroke-width: 1.5;\" width=\"71\" x=\"584.5\" y=\"84\"/><text fill=\"#000000\" font-family=\"sans-serif\" font-size=\"12\" font-style=\"italic\" lengthAdjust=\"spacingAndGlyphs\" textLength=\"64\" x=\"588\" y=\"100.1387\">«part def»</text><text fill=\"#000000\" font-family=\"sans-serif\" font-size=\"12\" lengthAdjust=\"spacingAndGlyphs\" textLength=\"8\" x=\"616\" y=\"114.1074\">B</text></a></g><g id=\"E1.E6.E7\"><a href=\"psysml:6b7db59d-d003-4043-9508-3fd9ac781eff\" target=\"_top\" title=\"psysml:6b7db59d-d003-4043-9508-3fd9ac781eff\" xlink:actuate=\"onRequest\" xlink:href=\"psysml:6b7db59d-d003-4043-9508-3fd9ac781eff\" xlink:show=\"new\" xlink:title=\"psysml:6b7db59d-d003-4043-9508-3fd9ac781eff\" xlink:type=\"simple\"><rect fill=\"#FFFFFF\" height=\"40\" id=\"E7\" rx=\"10\" ry=\"10\" style=\"stroke: #383838; stroke-width: 1.5;\" width=\"50\" x=\"478\" y=\"85.5\"/><rect fill=\"#F8F8F8\" height=\"23.9688\" rx=\"10\" ry=\"10\" style=\"stroke: #F8F8F8; stroke-width: 1.5;\" width=\"50\" x=\"478\" y=\"85.5\"/><rect fill=\"#F8F8F8\" height=\"10\" style=\"stroke: #F8F8F8; stroke-width: 1.5;\" width=\"50\" x=\"478\" y=\"99.4688\"/><rect fill=\"none\" height=\"40\" id=\"E7\" rx=\"10\" ry=\"10\" style=\"stroke: #383838; stroke-width: 1.5;\" width=\"50\" x=\"478\" y=\"85.5\"/><text fill=\"#000000\" font-family=\"sans-serif\" font-size=\"12\" lengthAdjust=\"spacingAndGlyphs\" textLength=\"22\" x=\"492\" y=\"101.6387\">x: A</text></a></g><g id=\"E1.E6.E8\"><a href=\"psysml:6c414e1f-4fb5-42fd-83aa-c158d2fbc464\" target=\"_top\" title=\"psysml:6c414e1f-4fb5-42fd-83aa-c158d2fbc464\" xlink:actuate=\"onRequest\" xlink:href=\"psysml:6c414e1f-4fb5-42fd-83aa-c158d2fbc464\" xlink:show=\"new\" xlink:title=\"psysml:6c414e1f-4fb5-42fd-83aa-c158d2fbc464\" xlink:type=\"simple\"><rect fill=\"#FFFFFF\" height=\"40\" id=\"E8\" rx=\"10\" ry=\"10\" style=\"stroke: #383838; stroke-width: 1.5;\" width=\"50\" x=\"393\" y=\"85.5\"/><rect fill=\"#F8F8F8\" height=\"23.9688\" rx=\"10\" ry=\"10\" style=\"stroke: #F8F8F8; stroke-width: 1.5;\" width=\"50\" x=\"393\" y=\"85.5\"/><rect fill=\"#F8F8F8\" height=\"10\" style=\"stroke: #F8F8F8; stroke-width: 1.5;\" width=\"50\" x=\"393\" y=\"99.4688\"/><rect fill=\"none\" height=\"40\" id=\"E8\" rx=\"10\" ry=\"10\" style=\"stroke: #383838; stroke-width: 1.5;\" width=\"50\" x=\"393\" y=\"85.5\"/><text fill=\"#000000\" font-family=\"sans-serif\" font-size=\"12\" lengthAdjust=\"spacingAndGlyphs\" textLength=\"22\" x=\"407\" y=\"101.6387\">y: B</text></a></g><g id=\"E1.E9.E10\"><a href=\"psysml:797261aa-a958-4475-9de3-b139176b10fb\" target=\"_top\" title=\"psysml:797261aa-a958-4475-9de3-b139176b10fb\" xlink:actuate=\"onRequest\" xlink:href=\"psysml:797261aa-a958-4475-9de3-b139176b10fb\" xlink:show=\"new\" xlink:title=\"psysml:797261aa-a958-4475-9de3-b139176b10fb\" xlink:type=\"simple\"><rect fill=\"#FFFFFF\" height=\"40\" id=\"E10\" rx=\"10\" ry=\"10\" style=\"stroke: #383838; stroke-width: 1.5;\" width=\"50\" x=\"287\" y=\"85.5\"/><rect fill=\"#F8F8F8\" height=\"23.9688\" rx=\"10\" ry=\"10\" style=\"stroke: #F8F8F8; stroke-width: 1.5;\" width=\"50\" x=\"287\" y=\"85.5\"/><rect fill=\"#F8F8F8\" height=\"10\" style=\"stroke: #F8F8F8; stroke-width: 1.5;\" width=\"50\" x=\"287\" y=\"99.4688\"/><rect fill=\"none\" height=\"40\" id=\"E10\" rx=\"10\" ry=\"10\" style=\"stroke: #383838; stroke-width: 1.5;\" width=\"50\" x=\"287\" y=\"85.5\"/><text fill=\"#000000\" font-family=\"sans-serif\" font-size=\"12\" lengthAdjust=\"spacingAndGlyphs\" textLength=\"22\" x=\"301\" y=\"101.6387\">x: A</text></a></g><g id=\"E1.E9.E11\"><a href=\"psysml:3825b43b-bb71-4033-970e-c8c9e00cfd14\" target=\"_top\" title=\"psysml:3825b43b-bb71-4033-970e-c8c9e00cfd14\" xlink:actuate=\"onRequest\" xlink:href=\"psysml:3825b43b-bb71-4033-970e-c8c9e00cfd14\" xlink:show=\"new\" xlink:title=\"psysml:3825b43b-bb71-4033-970e-c8c9e00cfd14\" xlink:type=\"simple\"><rect fill=\"#FFFFFF\" height=\"40\" id=\"E11\" rx=\"10\" ry=\"10\" style=\"stroke: #383838; stroke-width: 1.5;\" width=\"50\" x=\"202\" y=\"85.5\"/><rect fill=\"#F8F8F8\" height=\"23.9688\" rx=\"10\" ry=\"10\" style=\"stroke: #F8F8F8; stroke-width: 1.5;\" width=\"50\" x=\"202\" y=\"85.5\"/><rect fill=\"#F8F8F8\" height=\"10\" style=\"stroke: #F8F8F8; stroke-width: 1.5;\" width=\"50\" x=\"202\" y=\"99.4688\"/><rect fill=\"none\" height=\"40\" id=\"E11\" rx=\"10\" ry=\"10\" style=\"stroke: #383838; stroke-width: 1.5;\" width=\"50\" x=\"202\" y=\"85.5\"/><text fill=\"#000000\" font-family=\"sans-serif\" font-size=\"12\" lengthAdjust=\"spacingAndGlyphs\" textLength=\"22\" x=\"216\" y=\"101.6387\">y: B</text></a></g><g id=\"E1.E12\"><a href=\"psysml:e16c4bbb-61f3-4b61-a2b5-b03e29e494af\" target=\"_top\" title=\"psysml:e16c4bbb-61f3-4b61-a2b5-b03e29e494af\" xlink:actuate=\"onRequest\" xlink:href=\"psysml:e16c4bbb-61f3-4b61-a2b5-b03e29e494af\" xlink:show=\"new\" xlink:title=\"psysml:e16c4bbb-61f3-4b61-a2b5-b03e29e494af\" xlink:type=\"simple\"><rect fill=\"#FFFFFF\" height=\"40\" id=\"E12\" rx=\"10\" ry=\"10\" style=\"stroke: #383838; stroke-width: 1.5;\" width=\"50\" x=\"117\" y=\"85.5\"/><rect fill=\"#F8F8F8\" height=\"23.9688\" rx=\"10\" ry=\"10\" style=\"stroke: #F8F8F8; stroke-width: 1.5;\" width=\"50\" x=\"117\" y=\"85.5\"/><rect fill=\"#F8F8F8\" height=\"10\" style=\"stroke: #F8F8F8; stroke-width: 1.5;\" width=\"50\" x=\"117\" y=\"99.4688\"/><rect fill=\"none\" height=\"40\" id=\"E12\" rx=\"10\" ry=\"10\" style=\"stroke: #383838; stroke-width: 1.5;\" width=\"50\" x=\"117\" y=\"85.5\"/><text fill=\"#000000\" font-family=\"sans-serif\" font-size=\"12\" lengthAdjust=\"spacingAndGlyphs\" textLength=\"22\" x=\"131\" y=\"101.6387\">x: A</text></a></g><g id=\"E1.E13\"><a href=\"psysml:6a814915-eeda-4c4d-8e98-a86878ae1f3d\" target=\"_top\" title=\"psysml:6a814915-eeda-4c4d-8e98-a86878ae1f3d\" xlink:actuate=\"onRequest\" xlink:href=\"psysml:6a814915-eeda-4c4d-8e98-a86878ae1f3d\" xlink:show=\"new\" xlink:title=\"psysml:6a814915-eeda-4c4d-8e98-a86878ae1f3d\" xlink:type=\"simple\"><rect fill=\"#FFFFFF\" height=\"40\" id=\"E13\" rx=\"10\" ry=\"10\" style=\"stroke: #383838; stroke-width: 1.5;\" width=\"50\" x=\"32\" y=\"85.5\"/><rect fill=\"#F8F8F8\" height=\"23.9688\" rx=\"10\" ry=\"10\" style=\"stroke: #F8F8F8; stroke-width: 1.5;\" width=\"50\" x=\"32\" y=\"85.5\"/><rect fill=\"#F8F8F8\" height=\"10\" style=\"stroke: #F8F8F8; stroke-width: 1.5;\" width=\"50\" x=\"32\" y=\"99.4688\"/><rect fill=\"none\" height=\"40\" id=\"E13\" rx=\"10\" ry=\"10\" style=\"stroke: #383838; stroke-width: 1.5;\" width=\"50\" x=\"32\" y=\"85.5\"/><text fill=\"#000000\" font-family=\"sans-serif\" font-size=\"12\" lengthAdjust=\"spacingAndGlyphs\" textLength=\"22\" x=\"46\" y=\"101.6387\">y: B</text></a></g><!--MD5=[521381a1f656501b77777f634903bb64]\n",
       "@startuml\r\n",
       "skinparam ranksep 8\r\n",
       "skinparam rectangle {\r\n",
       " backgroundColor<<block>> LightGreen\r\n",
       "}\r\n",
       "top to bottom direction\r\n",
       "skinparam monochrome true\r\n",
       "skinparam classbackgroundcolor white\r\n",
       "skinparam shadowing false\r\n",
       "skinparam wrapWidth 300\r\n",
       "hide circle\r\n",
       "\r\n",
       "package \"CircularImport\" as E1  [[psysml:6a62b0bb-ce07-42d9-b06f-c19bd22a93a2 ]]  {\r\n",
       "package \"P1\" as E2  [[psysml:e5793e48-aebf-4c77-9b1c-634d316c370a ]]  {\r\n",
       "rec def \"A\" as E3  <<(T,blue)part def>> [[psysml:4745677c-bede-4ab8-acdc-4365dad759bc ]] {\r\n",
       "}\r\n",
       "}\r\n",
       "package \"P2\" as E4  [[psysml:9f128572-3fea-4fc4-b18b-c92f97cc0f0b ]]  {\r\n",
       "rec def \"B\" as E5  <<(T,blue)part def>> [[psysml:a455b6ac-bbc4-40c1-9da4-354e9f8fdc46 ]] {\r\n",
       "}\r\n",
       "}\r\n",
       "package \"Test1\" as E6  [[psysml:6c517ad3-81f8-4503-b234-41386708eb5e ]]  {\r\n",
       "rec usage \"x: A\" as E7  [[psysml:6b7db59d-d003-4043-9508-3fd9ac781eff ]] {\r\n",
       "}\r\n",
       "rec usage \"y: B\" as E8  [[psysml:6c414e1f-4fb5-42fd-83aa-c158d2fbc464 ]] {\r\n",
       "}\r\n",
       "}\r\n",
       "package \"Test2\" as E9  [[psysml:81951965-8d4b-42c4-ba21-4255f6488007 ]]  {\r\n",
       "rec usage \"x: A\" as E10  [[psysml:797261aa-a958-4475-9de3-b139176b10fb ]] {\r\n",
       "}\r\n",
       "rec usage \"y: B\" as E11  [[psysml:3825b43b-bb71-4033-970e-c8c9e00cfd14 ]] {\r\n",
       "}\r\n",
       "}\r\n",
       "rec usage \"x: A\" as E12  [[psysml:e16c4bbb-61f3-4b61-a2b5-b03e29e494af ]] {\r\n",
       "}\r\n",
       "rec usage \"y: B\" as E13  [[psysml:6a814915-eeda-4c4d-8e98-a86878ae1f3d ]] {\r\n",
       "}\r\n",
       "}\r\n",
       "@enduml\r\n",
       "\n",
       "PlantUML version 1.2020.13(Sat Jun 13 12:26:38 UTC 2020)\n",
       "(EPL source distribution)\n",
       "Java Runtime: OpenJDK Runtime Environment\n",
       "JVM: OpenJDK 64-Bit Server VM\n",
       "Default Encoding: UTF-8\n",
       "Language: en\n",
       "Country: null\n",
       "--></g></svg>"
      ]
     },
     "execution_count": 47,
     "metadata": {},
     "output_type": "execute_result"
    }
   ],
   "source": [
    "%viz --style=\"TB\" --view=\"Interconnection\" \"CircularImport\""
   ]
  },
  {
   "cell_type": "code",
   "execution_count": 48,
   "id": "broke-hamburg",
   "metadata": {
    "execution": {
     "iopub.execute_input": "2021-03-25T13:13:23.533794Z",
     "iopub.status.busy": "2021-03-25T13:13:23.533424Z",
     "iopub.status.idle": "2021-03-25T13:13:23.538645Z",
     "shell.execute_reply": "2021-03-25T13:13:23.538326Z"
    }
   },
   "outputs": [
    {
     "data": {
      "image/svg+xml": [
       "<?xml version=\"1.0\" encoding=\"UTF-8\" standalone=\"no\"?><svg xmlns=\"http://www.w3.org/2000/svg\" xmlns:xlink=\"http://www.w3.org/1999/xlink\" contentScriptType=\"application/ecmascript\" contentStyleType=\"text/css\" height=\"12px\" preserveAspectRatio=\"none\" style=\"width:12px;height:12px;\" version=\"1.1\" viewBox=\"0 0 12 12\" width=\"12px\" zoomAndPan=\"magnify\"><defs/><g><!--MD5=[06afc254b03ac5e9d9fb7773b07d0800]\n",
       "@startuml\r\n",
       "skinparam ranksep 8\r\n",
       "top to bottom direction\r\n",
       "skinparam monochrome true\r\n",
       "skinparam classbackgroundcolor white\r\n",
       "skinparam shadowing false\r\n",
       "skinparam wrapWidth 300\r\n",
       "hide circle\r\n",
       "\r\n",
       "@enduml\r\n",
       "\n",
       "PlantUML version 1.2020.13(Sat Jun 13 12:26:38 UTC 2020)\n",
       "(EPL source distribution)\n",
       "Java Runtime: OpenJDK Runtime Environment\n",
       "JVM: OpenJDK 64-Bit Server VM\n",
       "Default Encoding: UTF-8\n",
       "Language: en\n",
       "Country: null\n",
       "--></g></svg>"
      ]
     },
     "execution_count": 48,
     "metadata": {},
     "output_type": "execute_result"
    }
   ],
   "source": [
    "%viz --style=\"TB\" --view=\"Action\" \"CircularImport\""
   ]
  },
  {
   "cell_type": "code",
   "execution_count": 49,
   "id": "ordered-compiler",
   "metadata": {
    "execution": {
     "iopub.execute_input": "2021-03-25T13:13:23.589667Z",
     "iopub.status.busy": "2021-03-25T13:13:23.589199Z",
     "iopub.status.idle": "2021-03-25T13:13:23.689121Z",
     "shell.execute_reply": "2021-03-25T13:13:23.686753Z"
    }
   },
   "outputs": [
    {
     "data": {
      "image/svg+xml": [
       "<?xml version=\"1.0\" encoding=\"UTF-8\" standalone=\"no\"?><svg xmlns=\"http://www.w3.org/2000/svg\" xmlns:xlink=\"http://www.w3.org/1999/xlink\" contentScriptType=\"application/ecmascript\" contentStyleType=\"text/css\" height=\"303px\" preserveAspectRatio=\"none\" style=\"width:518px;height:303px;\" version=\"1.1\" viewBox=\"0 0 518 303\" width=\"518px\" zoomAndPan=\"magnify\"><defs/><g><!--MD5=[fbc87193dbaf4d95561dea2c320d4a47]\n",
       "cluster E1--><a href=\"psysml:6a62b0bb-ce07-42d9-b06f-c19bd22a93a2\" target=\"_top\" title=\"psysml:6a62b0bb-ce07-42d9-b06f-c19bd22a93a2\" xlink:actuate=\"onRequest\" xlink:href=\"psysml:6a62b0bb-ce07-42d9-b06f-c19bd22a93a2\" xlink:show=\"new\" xlink:title=\"psysml:6a62b0bb-ce07-42d9-b06f-c19bd22a93a2\" xlink:type=\"simple\"><polygon fill=\"#FFFFFF\" points=\"16,6,134,6,141,28.2969,496,28.2969,496,291,16,291,16,6\" style=\"stroke: #000000; stroke-width: 1.5;\"/><line style=\"stroke: #000000; stroke-width: 1.5;\" x1=\"16\" x2=\"141\" y1=\"28.2969\" y2=\"28.2969\"/><text fill=\"#000000\" font-family=\"sans-serif\" font-size=\"14\" font-weight=\"bold\" lengthAdjust=\"spacingAndGlyphs\" textLength=\"112\" x=\"20\" y=\"20.9951\">CircularImport</text></a><!--MD5=[e4f7fae6ed58524ba242bb0b0d3be6b7]\n",
       "cluster E2--><a href=\"psysml:e5793e48-aebf-4c77-9b1c-634d316c370a\" target=\"_top\" title=\"psysml:e5793e48-aebf-4c77-9b1c-634d316c370a\" xlink:actuate=\"onRequest\" xlink:href=\"psysml:e5793e48-aebf-4c77-9b1c-634d316c370a\" xlink:show=\"new\" xlink:title=\"psysml:e5793e48-aebf-4c77-9b1c-634d316c370a\" xlink:type=\"simple\"><polygon fill=\"#FFFFFF\" points=\"333,170,359,170,366,192.2969,431,192.2969,431,267,333,267,333,170\" style=\"stroke: #000000; stroke-width: 1.5;\"/><line style=\"stroke: #000000; stroke-width: 1.5;\" x1=\"333\" x2=\"366\" y1=\"192.2969\" y2=\"192.2969\"/><text fill=\"#000000\" font-family=\"sans-serif\" font-size=\"14\" font-weight=\"bold\" lengthAdjust=\"spacingAndGlyphs\" textLength=\"20\" x=\"337\" y=\"184.9951\">P1</text></a><!--MD5=[f6df4d0ebaf0b5dfb2ced0ae5af7c670]\n",
       "cluster E4--><a href=\"psysml:9f128572-3fea-4fc4-b18b-c92f97cc0f0b\" target=\"_top\" title=\"psysml:9f128572-3fea-4fc4-b18b-c92f97cc0f0b\" xlink:actuate=\"onRequest\" xlink:href=\"psysml:9f128572-3fea-4fc4-b18b-c92f97cc0f0b\" xlink:show=\"new\" xlink:title=\"psysml:9f128572-3fea-4fc4-b18b-c92f97cc0f0b\" xlink:type=\"simple\"><polygon fill=\"#FFFFFF\" points=\"81,170,107,170,114,192.2969,179,192.2969,179,267,81,267,81,170\" style=\"stroke: #000000; stroke-width: 1.5;\"/><line style=\"stroke: #000000; stroke-width: 1.5;\" x1=\"81\" x2=\"114\" y1=\"192.2969\" y2=\"192.2969\"/><text fill=\"#000000\" font-family=\"sans-serif\" font-size=\"14\" font-weight=\"bold\" lengthAdjust=\"spacingAndGlyphs\" textLength=\"20\" x=\"85\" y=\"184.9951\">P2</text></a><!--MD5=[14e3b0961a2654348d326746436168a1]\n",
       "cluster E6--><a href=\"psysml:6c517ad3-81f8-4503-b234-41386708eb5e\" target=\"_top\" title=\"psysml:6c517ad3-81f8-4503-b234-41386708eb5e\" xlink:actuate=\"onRequest\" xlink:href=\"psysml:6c517ad3-81f8-4503-b234-41386708eb5e\" xlink:show=\"new\" xlink:title=\"psysml:6c517ad3-81f8-4503-b234-41386708eb5e\" xlink:type=\"simple\"><polygon fill=\"#FFFFFF\" points=\"268,49,319,49,326,71.2969,419,71.2969,419,146,268,146,268,49\" style=\"stroke: #000000; stroke-width: 1.5;\"/><line style=\"stroke: #000000; stroke-width: 1.5;\" x1=\"268\" x2=\"326\" y1=\"71.2969\" y2=\"71.2969\"/><text fill=\"#000000\" font-family=\"sans-serif\" font-size=\"14\" font-weight=\"bold\" lengthAdjust=\"spacingAndGlyphs\" textLength=\"45\" x=\"272\" y=\"63.9951\">Test1</text></a><!--MD5=[7f149f147074ac12df2cb0a7728a5fb0]\n",
       "cluster E9--><a href=\"psysml:81951965-8d4b-42c4-ba21-4255f6488007\" target=\"_top\" title=\"psysml:81951965-8d4b-42c4-ba21-4255f6488007\" xlink:actuate=\"onRequest\" xlink:href=\"psysml:81951965-8d4b-42c4-ba21-4255f6488007\" xlink:show=\"new\" xlink:title=\"psysml:81951965-8d4b-42c4-ba21-4255f6488007\" xlink:type=\"simple\"><polygon fill=\"#FFFFFF\" points=\"93,49,144,49,151,71.2969,244,71.2969,244,146,93,146,93,49\" style=\"stroke: #000000; stroke-width: 1.5;\"/><line style=\"stroke: #000000; stroke-width: 1.5;\" x1=\"93\" x2=\"151\" y1=\"71.2969\" y2=\"71.2969\"/><text fill=\"#000000\" font-family=\"sans-serif\" font-size=\"14\" font-weight=\"bold\" lengthAdjust=\"spacingAndGlyphs\" textLength=\"45\" x=\"97\" y=\"63.9951\">Test2</text></a><!--MD5=[49a0ec8f00dab7302a31f22d0f0fe584]\n",
       "class E12--><a href=\"psysml:e16c4bbb-61f3-4b61-a2b5-b03e29e494af\" target=\"_top\" title=\"psysml:e16c4bbb-61f3-4b61-a2b5-b03e29e494af\" xlink:actuate=\"onRequest\" xlink:href=\"psysml:e16c4bbb-61f3-4b61-a2b5-b03e29e494af\" xlink:show=\"new\" xlink:title=\"psysml:e16c4bbb-61f3-4b61-a2b5-b03e29e494af\" xlink:type=\"simple\"><rect fill=\"#FFFFFF\" height=\"45.9375\" id=\"E12\" rx=\"10\" ry=\"10\" style=\"stroke: #383838; stroke-width: 1.5;\" width=\"42\" x=\"438\" y=\"84\"/><text fill=\"#000000\" font-family=\"sans-serif\" font-size=\"12\" font-style=\"italic\" lengthAdjust=\"spacingAndGlyphs\" textLength=\"40\" x=\"439\" y=\"100.1387\">«part»</text><text fill=\"#000000\" font-family=\"sans-serif\" font-size=\"12\" lengthAdjust=\"spacingAndGlyphs\" textLength=\"22\" x=\"448\" y=\"114.1074\">x: A</text><line style=\"stroke: #383838; stroke-width: 1.5;\" x1=\"439\" x2=\"479\" y1=\"121.9375\" y2=\"121.9375\"/></a><!--MD5=[ee3c913d1a06f366521f9ef512b67efe]\n",
       "class E13--><a href=\"psysml:6a814915-eeda-4c4d-8e98-a86878ae1f3d\" target=\"_top\" title=\"psysml:6a814915-eeda-4c4d-8e98-a86878ae1f3d\" xlink:actuate=\"onRequest\" xlink:href=\"psysml:6a814915-eeda-4c4d-8e98-a86878ae1f3d\" xlink:show=\"new\" xlink:title=\"psysml:6a814915-eeda-4c4d-8e98-a86878ae1f3d\" xlink:type=\"simple\"><rect fill=\"#FFFFFF\" height=\"45.9375\" id=\"E13\" rx=\"10\" ry=\"10\" style=\"stroke: #383838; stroke-width: 1.5;\" width=\"42\" x=\"32\" y=\"84\"/><text fill=\"#000000\" font-family=\"sans-serif\" font-size=\"12\" font-style=\"italic\" lengthAdjust=\"spacingAndGlyphs\" textLength=\"40\" x=\"33\" y=\"100.1387\">«part»</text><text fill=\"#000000\" font-family=\"sans-serif\" font-size=\"12\" lengthAdjust=\"spacingAndGlyphs\" textLength=\"22\" x=\"42\" y=\"114.1074\">y: B</text><line style=\"stroke: #383838; stroke-width: 1.5;\" x1=\"33\" x2=\"73\" y1=\"121.9375\" y2=\"121.9375\"/></a><!--MD5=[09b614a08d8cba4a07c9adeb5e0fee81]\n",
       "class E3--><a href=\"psysml:4745677c-bede-4ab8-acdc-4365dad759bc\" target=\"_top\" title=\"psysml:4745677c-bede-4ab8-acdc-4365dad759bc\" xlink:actuate=\"onRequest\" xlink:href=\"psysml:4745677c-bede-4ab8-acdc-4365dad759bc\" xlink:show=\"new\" xlink:title=\"psysml:4745677c-bede-4ab8-acdc-4365dad759bc\" xlink:type=\"simple\"><rect fill=\"#FFFFFF\" height=\"45.9375\" id=\"E3\" style=\"stroke: #383838; stroke-width: 1.5;\" width=\"66\" x=\"349\" y=\"205\"/><text fill=\"#000000\" font-family=\"sans-serif\" font-size=\"12\" font-style=\"italic\" lengthAdjust=\"spacingAndGlyphs\" textLength=\"64\" x=\"350\" y=\"221.1387\">«part def»</text><text fill=\"#000000\" font-family=\"sans-serif\" font-size=\"12\" lengthAdjust=\"spacingAndGlyphs\" textLength=\"8\" x=\"378\" y=\"235.1074\">A</text><line style=\"stroke: #383838; stroke-width: 1.5;\" x1=\"350\" x2=\"414\" y1=\"242.9375\" y2=\"242.9375\"/></a><!--MD5=[270fce915f116d4de14055a7c1d9a0f3]\n",
       "class E5--><a href=\"psysml:a455b6ac-bbc4-40c1-9da4-354e9f8fdc46\" target=\"_top\" title=\"psysml:a455b6ac-bbc4-40c1-9da4-354e9f8fdc46\" xlink:actuate=\"onRequest\" xlink:href=\"psysml:a455b6ac-bbc4-40c1-9da4-354e9f8fdc46\" xlink:show=\"new\" xlink:title=\"psysml:a455b6ac-bbc4-40c1-9da4-354e9f8fdc46\" xlink:type=\"simple\"><rect fill=\"#FFFFFF\" height=\"45.9375\" id=\"E5\" style=\"stroke: #383838; stroke-width: 1.5;\" width=\"66\" x=\"97\" y=\"205\"/><text fill=\"#000000\" font-family=\"sans-serif\" font-size=\"12\" font-style=\"italic\" lengthAdjust=\"spacingAndGlyphs\" textLength=\"64\" x=\"98\" y=\"221.1387\">«part def»</text><text fill=\"#000000\" font-family=\"sans-serif\" font-size=\"12\" lengthAdjust=\"spacingAndGlyphs\" textLength=\"8\" x=\"126\" y=\"235.1074\">B</text><line style=\"stroke: #383838; stroke-width: 1.5;\" x1=\"98\" x2=\"162\" y1=\"242.9375\" y2=\"242.9375\"/></a><!--MD5=[2156ba9850f5573cc1fc38a6a4b2f02b]\n",
       "class E7--><a href=\"psysml:6b7db59d-d003-4043-9508-3fd9ac781eff\" target=\"_top\" title=\"psysml:6b7db59d-d003-4043-9508-3fd9ac781eff\" xlink:actuate=\"onRequest\" xlink:href=\"psysml:6b7db59d-d003-4043-9508-3fd9ac781eff\" xlink:show=\"new\" xlink:title=\"psysml:6b7db59d-d003-4043-9508-3fd9ac781eff\" xlink:type=\"simple\"><rect fill=\"#FFFFFF\" height=\"45.9375\" id=\"E7\" rx=\"10\" ry=\"10\" style=\"stroke: #383838; stroke-width: 1.5;\" width=\"42\" x=\"361\" y=\"84\"/><text fill=\"#000000\" font-family=\"sans-serif\" font-size=\"12\" font-style=\"italic\" lengthAdjust=\"spacingAndGlyphs\" textLength=\"40\" x=\"362\" y=\"100.1387\">«part»</text><text fill=\"#000000\" font-family=\"sans-serif\" font-size=\"12\" lengthAdjust=\"spacingAndGlyphs\" textLength=\"22\" x=\"371\" y=\"114.1074\">x: A</text><line style=\"stroke: #383838; stroke-width: 1.5;\" x1=\"362\" x2=\"402\" y1=\"121.9375\" y2=\"121.9375\"/></a><!--MD5=[b9389687b975829384b498ac4b7476b2]\n",
       "class E8--><a href=\"psysml:6c414e1f-4fb5-42fd-83aa-c158d2fbc464\" target=\"_top\" title=\"psysml:6c414e1f-4fb5-42fd-83aa-c158d2fbc464\" xlink:actuate=\"onRequest\" xlink:href=\"psysml:6c414e1f-4fb5-42fd-83aa-c158d2fbc464\" xlink:show=\"new\" xlink:title=\"psysml:6c414e1f-4fb5-42fd-83aa-c158d2fbc464\" xlink:type=\"simple\"><rect fill=\"#FFFFFF\" height=\"45.9375\" id=\"E8\" rx=\"10\" ry=\"10\" style=\"stroke: #383838; stroke-width: 1.5;\" width=\"42\" x=\"284\" y=\"84\"/><text fill=\"#000000\" font-family=\"sans-serif\" font-size=\"12\" font-style=\"italic\" lengthAdjust=\"spacingAndGlyphs\" textLength=\"40\" x=\"285\" y=\"100.1387\">«part»</text><text fill=\"#000000\" font-family=\"sans-serif\" font-size=\"12\" lengthAdjust=\"spacingAndGlyphs\" textLength=\"22\" x=\"294\" y=\"114.1074\">y: B</text><line style=\"stroke: #383838; stroke-width: 1.5;\" x1=\"285\" x2=\"325\" y1=\"121.9375\" y2=\"121.9375\"/></a><!--MD5=[96f4274e9e20536e775497830990834d]\n",
       "class E10--><a href=\"psysml:797261aa-a958-4475-9de3-b139176b10fb\" target=\"_top\" title=\"psysml:797261aa-a958-4475-9de3-b139176b10fb\" xlink:actuate=\"onRequest\" xlink:href=\"psysml:797261aa-a958-4475-9de3-b139176b10fb\" xlink:show=\"new\" xlink:title=\"psysml:797261aa-a958-4475-9de3-b139176b10fb\" xlink:type=\"simple\"><rect fill=\"#FFFFFF\" height=\"45.9375\" id=\"E10\" rx=\"10\" ry=\"10\" style=\"stroke: #383838; stroke-width: 1.5;\" width=\"42\" x=\"186\" y=\"84\"/><text fill=\"#000000\" font-family=\"sans-serif\" font-size=\"12\" font-style=\"italic\" lengthAdjust=\"spacingAndGlyphs\" textLength=\"40\" x=\"187\" y=\"100.1387\">«part»</text><text fill=\"#000000\" font-family=\"sans-serif\" font-size=\"12\" lengthAdjust=\"spacingAndGlyphs\" textLength=\"22\" x=\"196\" y=\"114.1074\">x: A</text><line style=\"stroke: #383838; stroke-width: 1.5;\" x1=\"187\" x2=\"227\" y1=\"121.9375\" y2=\"121.9375\"/></a><!--MD5=[1dd1bfd58a279cf63c5f349dbc8fc6a1]\n",
       "class E11--><a href=\"psysml:3825b43b-bb71-4033-970e-c8c9e00cfd14\" target=\"_top\" title=\"psysml:3825b43b-bb71-4033-970e-c8c9e00cfd14\" xlink:actuate=\"onRequest\" xlink:href=\"psysml:3825b43b-bb71-4033-970e-c8c9e00cfd14\" xlink:show=\"new\" xlink:title=\"psysml:3825b43b-bb71-4033-970e-c8c9e00cfd14\" xlink:type=\"simple\"><rect fill=\"#FFFFFF\" height=\"45.9375\" id=\"E11\" rx=\"10\" ry=\"10\" style=\"stroke: #383838; stroke-width: 1.5;\" width=\"42\" x=\"109\" y=\"84\"/><text fill=\"#000000\" font-family=\"sans-serif\" font-size=\"12\" font-style=\"italic\" lengthAdjust=\"spacingAndGlyphs\" textLength=\"40\" x=\"110\" y=\"100.1387\">«part»</text><text fill=\"#000000\" font-family=\"sans-serif\" font-size=\"12\" lengthAdjust=\"spacingAndGlyphs\" textLength=\"22\" x=\"119\" y=\"114.1074\">y: B</text><line style=\"stroke: #383838; stroke-width: 1.5;\" x1=\"110\" x2=\"150\" y1=\"121.9375\" y2=\"121.9375\"/></a><!--MD5=[14ccda38c055a5c0da953d572bc50960]\n",
       "link E7 to E3--><a href=\"psysml:85e1ff22-6346-4a23-846d-dc1a236203c0\" target=\"_top\" title=\"psysml:85e1ff22-6346-4a23-846d-dc1a236203c0\" xlink:actuate=\"onRequest\" xlink:href=\"psysml:85e1ff22-6346-4a23-846d-dc1a236203c0\" xlink:show=\"new\" xlink:title=\"psysml:85e1ff22-6346-4a23-846d-dc1a236203c0\" xlink:type=\"simple\"><path d=\"M382,130.1 C382,145.37 382,166.16 382,184.57 \" fill=\"none\" id=\"E7-&gt;E3\" style=\"stroke: #383838; stroke-width: 1.0;\"/><polygon fill=\"#FFFFFF\" points=\"382,204.61,375,185.61,389,185.61,382,204.61\" style=\"stroke: #383838; stroke-width: 1.0;\"/><ellipse cx=\"377\" cy=\"179.91\" fill=\"#383838\" rx=\"2\" ry=\"2\" style=\"stroke: #383838; stroke-width: 1.0;\"/><ellipse cx=\"387\" cy=\"179.91\" fill=\"#383838\" rx=\"2\" ry=\"2\" style=\"stroke: #383838; stroke-width: 1.0;\"/></a><!--MD5=[1ccb2481ffa92f8d51a74ee30c51832a]\n",
       "link E8 to E5--><a href=\"psysml:483adec0-2d55-41ba-876c-1b8fe7d429ab\" target=\"_top\" title=\"psysml:483adec0-2d55-41ba-876c-1b8fe7d429ab\" xlink:actuate=\"onRequest\" xlink:href=\"psysml:483adec0-2d55-41ba-876c-1b8fe7d429ab\" xlink:show=\"new\" xlink:title=\"psysml:483adec0-2d55-41ba-876c-1b8fe7d429ab\" xlink:type=\"simple\"><path d=\"M283.84,124.59 C272.23,133.52 257.5,144.61 244,154 C223.51,168.25 200.41,183.24 180.38,195.91 \" fill=\"none\" id=\"E8-&gt;E5\" style=\"stroke: #383838; stroke-width: 1.0;\"/><polygon fill=\"#FFFFFF\" points=\"163.36,206.57,175.7353,190.5434,183.175,202.403,163.36,206.57\" style=\"stroke: #383838; stroke-width: 1.0;\"/><ellipse cx=\"181.6267\" cy=\"189.2086\" fill=\"#383838\" rx=\"2\" ry=\"2\" style=\"stroke: #383838; stroke-width: 1.0;\"/><ellipse cx=\"186.9408\" cy=\"197.6797\" fill=\"#383838\" rx=\"2\" ry=\"2\" style=\"stroke: #383838; stroke-width: 1.0;\"/></a><!--MD5=[feeac5eb423634930294aa81f2d25a4c]\n",
       "link E10 to E3--><a href=\"psysml:0e238847-8a3c-4f4a-a4c7-c4eca45a31b2\" target=\"_top\" title=\"psysml:0e238847-8a3c-4f4a-a4c7-c4eca45a31b2\" xlink:actuate=\"onRequest\" xlink:href=\"psysml:0e238847-8a3c-4f4a-a4c7-c4eca45a31b2\" xlink:show=\"new\" xlink:title=\"psysml:0e238847-8a3c-4f4a-a4c7-c4eca45a31b2\" xlink:type=\"simple\"><path d=\"M228.16,124.59 C239.77,133.52 254.5,144.61 268,154 C288.49,168.25 311.59,183.24 331.62,195.91 \" fill=\"none\" id=\"E10-&gt;E3\" style=\"stroke: #383838; stroke-width: 1.0;\"/><polygon fill=\"#FFFFFF\" points=\"348.64,206.57,328.825,202.403,336.2647,190.5434,348.64,206.57\" style=\"stroke: #383838; stroke-width: 1.0;\"/><ellipse cx=\"325.0592\" cy=\"197.6797\" fill=\"#383838\" rx=\"2\" ry=\"2\" style=\"stroke: #383838; stroke-width: 1.0;\"/><ellipse cx=\"330.3733\" cy=\"189.2086\" fill=\"#383838\" rx=\"2\" ry=\"2\" style=\"stroke: #383838; stroke-width: 1.0;\"/></a><!--MD5=[07b77f6f309248d16187045709d1c26e]\n",
       "link E11 to E5--><a href=\"psysml:1112046b-9823-4ab2-8a83-96247ffb9742\" target=\"_top\" title=\"psysml:1112046b-9823-4ab2-8a83-96247ffb9742\" xlink:actuate=\"onRequest\" xlink:href=\"psysml:1112046b-9823-4ab2-8a83-96247ffb9742\" xlink:show=\"new\" xlink:title=\"psysml:1112046b-9823-4ab2-8a83-96247ffb9742\" xlink:type=\"simple\"><path d=\"M130,130.1 C130,145.37 130,166.16 130,184.57 \" fill=\"none\" id=\"E11-&gt;E5\" style=\"stroke: #383838; stroke-width: 1.0;\"/><polygon fill=\"#FFFFFF\" points=\"130,204.61,123,185.61,137,185.61,130,204.61\" style=\"stroke: #383838; stroke-width: 1.0;\"/><ellipse cx=\"125\" cy=\"179.91\" fill=\"#383838\" rx=\"2\" ry=\"2\" style=\"stroke: #383838; stroke-width: 1.0;\"/><ellipse cx=\"135\" cy=\"179.91\" fill=\"#383838\" rx=\"2\" ry=\"2\" style=\"stroke: #383838; stroke-width: 1.0;\"/></a><!--MD5=[39f41a0e550fb3d73b4d8135617e30a2]\n",
       "link E12 to E3--><a href=\"psysml:ee0d4e1c-50f8-4d3c-8a56-5035ed7c5f53\" target=\"_top\" title=\"psysml:ee0d4e1c-50f8-4d3c-8a56-5035ed7c5f53\" xlink:actuate=\"onRequest\" xlink:href=\"psysml:ee0d4e1c-50f8-4d3c-8a56-5035ed7c5f53\" xlink:show=\"new\" xlink:title=\"psysml:ee0d4e1c-50f8-4d3c-8a56-5035ed7c5f53\" xlink:type=\"simple\"><path d=\"M444.7,130.1 C434.28,146.2 419.89,168.44 407.53,187.55 \" fill=\"none\" id=\"E12-&gt;E3\" style=\"stroke: #383838; stroke-width: 1.0;\"/><polygon fill=\"#FFFFFF\" points=\"396.49,204.61,400.9313,184.8546,412.6866,192.4581,396.49,204.61\" style=\"stroke: #383838; stroke-width: 1.0;\"/><ellipse cx=\"405.7063\" cy=\"181.1547\" fill=\"#383838\" rx=\"2\" ry=\"2\" style=\"stroke: #383838; stroke-width: 1.0;\"/><ellipse cx=\"414.103\" cy=\"186.5858\" fill=\"#383838\" rx=\"2\" ry=\"2\" style=\"stroke: #383838; stroke-width: 1.0;\"/></a><!--MD5=[066b2d8af59fea80ccdb3d54ad5c1091]\n",
       "link E13 to E5--><a href=\"psysml:1d6f62f5-9885-441d-bead-3e38c1577759\" target=\"_top\" title=\"psysml:1d6f62f5-9885-441d-bead-3e38c1577759\" xlink:actuate=\"onRequest\" xlink:href=\"psysml:1d6f62f5-9885-441d-bead-3e38c1577759\" xlink:show=\"new\" xlink:title=\"psysml:1d6f62f5-9885-441d-bead-3e38c1577759\" xlink:type=\"simple\"><path d=\"M67.3,130.1 C77.72,146.2 92.11,168.44 104.47,187.55 \" fill=\"none\" id=\"E13-&gt;E5\" style=\"stroke: #383838; stroke-width: 1.0;\"/><polygon fill=\"#FFFFFF\" points=\"115.51,204.61,99.3134,192.4581,111.0687,184.8546,115.51,204.61\" style=\"stroke: #383838; stroke-width: 1.0;\"/><ellipse cx=\"97.897\" cy=\"186.5858\" fill=\"#383838\" rx=\"2\" ry=\"2\" style=\"stroke: #383838; stroke-width: 1.0;\"/><ellipse cx=\"106.2937\" cy=\"181.1547\" fill=\"#383838\" rx=\"2\" ry=\"2\" style=\"stroke: #383838; stroke-width: 1.0;\"/></a><!--MD5=[f3fe9062fff4e19d28c35299b2233a33]\n",
       "@startuml\r\n",
       "top to bottom direction\r\n",
       "skinparam monochrome true\r\n",
       "skinparam classbackgroundcolor white\r\n",
       "skinparam shadowing false\r\n",
       "skinparam wrapWidth 300\r\n",
       "hide circle\r\n",
       "\r\n",
       "package \"CircularImport\" as E1  [[psysml:6a62b0bb-ce07-42d9-b06f-c19bd22a93a2 ]]  {\r\n",
       "package \"P1\" as E2  [[psysml:e5793e48-aebf-4c77-9b1c-634d316c370a ]]  {\r\n",
       "comp def \"A\" as E3  <<(T,blue)part def>> [[psysml:4745677c-bede-4ab8-acdc-4365dad759bc ]] {\r\n",
       "}\r\n",
       "}\r\n",
       "package \"P2\" as E4  [[psysml:9f128572-3fea-4fc4-b18b-c92f97cc0f0b ]]  {\r\n",
       "comp def \"B\" as E5  <<(T,blue)part def>> [[psysml:a455b6ac-bbc4-40c1-9da4-354e9f8fdc46 ]] {\r\n",
       "}\r\n",
       "}\r\n",
       "package \"Test1\" as E6  [[psysml:6c517ad3-81f8-4503-b234-41386708eb5e ]]  {\r\n",
       "comp usage \"x: A\" as E7  <<(T,blue)part>> [[psysml:6b7db59d-d003-4043-9508-3fd9ac781eff ]] {\r\n",
       "}\r\n",
       "comp usage \"y: B\" as E8  <<(T,blue)part>> [[psysml:6c414e1f-4fb5-42fd-83aa-c158d2fbc464 ]] {\r\n",
       "}\r\n",
       "E7 - -:|> E3 [[psysml:85e1ff22-6346-4a23-846d-dc1a236203c0 ]] \r\n",
       "E8 - -:|> E5 [[psysml:483adec0-2d55-41ba-876c-1b8fe7d429ab ]] \r\n",
       "}\r\n",
       "package \"Test2\" as E9  [[psysml:81951965-8d4b-42c4-ba21-4255f6488007 ]]  {\r\n",
       "comp usage \"x: A\" as E10  <<(T,blue)part>> [[psysml:797261aa-a958-4475-9de3-b139176b10fb ]] {\r\n",
       "}\r\n",
       "comp usage \"y: B\" as E11  <<(T,blue)part>> [[psysml:3825b43b-bb71-4033-970e-c8c9e00cfd14 ]] {\r\n",
       "}\r\n",
       "E10 - -:|> E3 [[psysml:0e238847-8a3c-4f4a-a4c7-c4eca45a31b2 ]] \r\n",
       "E11 - -:|> E5 [[psysml:1112046b-9823-4ab2-8a83-96247ffb9742 ]] \r\n",
       "}\r\n",
       "comp usage \"x: A\" as E12  <<(T,blue)part>> [[psysml:e16c4bbb-61f3-4b61-a2b5-b03e29e494af ]] {\r\n",
       "}\r\n",
       "comp usage \"y: B\" as E13  <<(T,blue)part>> [[psysml:6a814915-eeda-4c4d-8e98-a86878ae1f3d ]] {\r\n",
       "}\r\n",
       "E12 - -:|> E3 [[psysml:ee0d4e1c-50f8-4d3c-8a56-5035ed7c5f53 ]] \r\n",
       "E13 - -:|> E5 [[psysml:1d6f62f5-9885-441d-bead-3e38c1577759 ]] \r\n",
       "}\r\n",
       "@enduml\r\n",
       "\n",
       "PlantUML version 1.2020.13(Sat Jun 13 12:26:38 UTC 2020)\n",
       "(EPL source distribution)\n",
       "Java Runtime: OpenJDK Runtime Environment\n",
       "JVM: OpenJDK 64-Bit Server VM\n",
       "Default Encoding: UTF-8\n",
       "Language: en\n",
       "Country: null\n",
       "--></g></svg>"
      ]
     },
     "execution_count": 49,
     "metadata": {},
     "output_type": "execute_result"
    }
   ],
   "source": [
    "%viz --style=\"TB\" --view=\"Sequence\" \"CircularImport\""
   ]
  },
  {
   "cell_type": "code",
   "execution_count": 50,
   "id": "statutory-laser",
   "metadata": {
    "execution": {
     "iopub.execute_input": "2021-03-25T13:13:23.738617Z",
     "iopub.status.busy": "2021-03-25T13:13:23.737889Z",
     "iopub.status.idle": "2021-03-25T13:13:23.828534Z",
     "shell.execute_reply": "2021-03-25T13:13:23.826476Z"
    }
   },
   "outputs": [
    {
     "data": {
      "image/svg+xml": [
       "<?xml version=\"1.0\" encoding=\"UTF-8\" standalone=\"no\"?><svg xmlns=\"http://www.w3.org/2000/svg\" xmlns:xlink=\"http://www.w3.org/1999/xlink\" contentScriptType=\"application/ecmascript\" contentStyleType=\"text/css\" height=\"303px\" preserveAspectRatio=\"none\" style=\"width:518px;height:303px;\" version=\"1.1\" viewBox=\"0 0 518 303\" width=\"518px\" zoomAndPan=\"magnify\"><defs/><g><!--MD5=[fbc87193dbaf4d95561dea2c320d4a47]\n",
       "cluster E1--><a href=\"psysml:6a62b0bb-ce07-42d9-b06f-c19bd22a93a2\" target=\"_top\" title=\"psysml:6a62b0bb-ce07-42d9-b06f-c19bd22a93a2\" xlink:actuate=\"onRequest\" xlink:href=\"psysml:6a62b0bb-ce07-42d9-b06f-c19bd22a93a2\" xlink:show=\"new\" xlink:title=\"psysml:6a62b0bb-ce07-42d9-b06f-c19bd22a93a2\" xlink:type=\"simple\"><polygon fill=\"#FFFFFF\" points=\"16,6,134,6,141,28.2969,496,28.2969,496,291,16,291,16,6\" style=\"stroke: #000000; stroke-width: 1.5;\"/><line style=\"stroke: #000000; stroke-width: 1.5;\" x1=\"16\" x2=\"141\" y1=\"28.2969\" y2=\"28.2969\"/><text fill=\"#000000\" font-family=\"sans-serif\" font-size=\"14\" font-weight=\"bold\" lengthAdjust=\"spacingAndGlyphs\" textLength=\"112\" x=\"20\" y=\"20.9951\">CircularImport</text></a><!--MD5=[e4f7fae6ed58524ba242bb0b0d3be6b7]\n",
       "cluster E2--><a href=\"psysml:e5793e48-aebf-4c77-9b1c-634d316c370a\" target=\"_top\" title=\"psysml:e5793e48-aebf-4c77-9b1c-634d316c370a\" xlink:actuate=\"onRequest\" xlink:href=\"psysml:e5793e48-aebf-4c77-9b1c-634d316c370a\" xlink:show=\"new\" xlink:title=\"psysml:e5793e48-aebf-4c77-9b1c-634d316c370a\" xlink:type=\"simple\"><polygon fill=\"#FFFFFF\" points=\"333,170,359,170,366,192.2969,431,192.2969,431,267,333,267,333,170\" style=\"stroke: #000000; stroke-width: 1.5;\"/><line style=\"stroke: #000000; stroke-width: 1.5;\" x1=\"333\" x2=\"366\" y1=\"192.2969\" y2=\"192.2969\"/><text fill=\"#000000\" font-family=\"sans-serif\" font-size=\"14\" font-weight=\"bold\" lengthAdjust=\"spacingAndGlyphs\" textLength=\"20\" x=\"337\" y=\"184.9951\">P1</text></a><!--MD5=[f6df4d0ebaf0b5dfb2ced0ae5af7c670]\n",
       "cluster E4--><a href=\"psysml:9f128572-3fea-4fc4-b18b-c92f97cc0f0b\" target=\"_top\" title=\"psysml:9f128572-3fea-4fc4-b18b-c92f97cc0f0b\" xlink:actuate=\"onRequest\" xlink:href=\"psysml:9f128572-3fea-4fc4-b18b-c92f97cc0f0b\" xlink:show=\"new\" xlink:title=\"psysml:9f128572-3fea-4fc4-b18b-c92f97cc0f0b\" xlink:type=\"simple\"><polygon fill=\"#FFFFFF\" points=\"81,170,107,170,114,192.2969,179,192.2969,179,267,81,267,81,170\" style=\"stroke: #000000; stroke-width: 1.5;\"/><line style=\"stroke: #000000; stroke-width: 1.5;\" x1=\"81\" x2=\"114\" y1=\"192.2969\" y2=\"192.2969\"/><text fill=\"#000000\" font-family=\"sans-serif\" font-size=\"14\" font-weight=\"bold\" lengthAdjust=\"spacingAndGlyphs\" textLength=\"20\" x=\"85\" y=\"184.9951\">P2</text></a><!--MD5=[14e3b0961a2654348d326746436168a1]\n",
       "cluster E6--><a href=\"psysml:6c517ad3-81f8-4503-b234-41386708eb5e\" target=\"_top\" title=\"psysml:6c517ad3-81f8-4503-b234-41386708eb5e\" xlink:actuate=\"onRequest\" xlink:href=\"psysml:6c517ad3-81f8-4503-b234-41386708eb5e\" xlink:show=\"new\" xlink:title=\"psysml:6c517ad3-81f8-4503-b234-41386708eb5e\" xlink:type=\"simple\"><polygon fill=\"#FFFFFF\" points=\"268,49,319,49,326,71.2969,419,71.2969,419,146,268,146,268,49\" style=\"stroke: #000000; stroke-width: 1.5;\"/><line style=\"stroke: #000000; stroke-width: 1.5;\" x1=\"268\" x2=\"326\" y1=\"71.2969\" y2=\"71.2969\"/><text fill=\"#000000\" font-family=\"sans-serif\" font-size=\"14\" font-weight=\"bold\" lengthAdjust=\"spacingAndGlyphs\" textLength=\"45\" x=\"272\" y=\"63.9951\">Test1</text></a><!--MD5=[7f149f147074ac12df2cb0a7728a5fb0]\n",
       "cluster E9--><a href=\"psysml:81951965-8d4b-42c4-ba21-4255f6488007\" target=\"_top\" title=\"psysml:81951965-8d4b-42c4-ba21-4255f6488007\" xlink:actuate=\"onRequest\" xlink:href=\"psysml:81951965-8d4b-42c4-ba21-4255f6488007\" xlink:show=\"new\" xlink:title=\"psysml:81951965-8d4b-42c4-ba21-4255f6488007\" xlink:type=\"simple\"><polygon fill=\"#FFFFFF\" points=\"93,49,144,49,151,71.2969,244,71.2969,244,146,93,146,93,49\" style=\"stroke: #000000; stroke-width: 1.5;\"/><line style=\"stroke: #000000; stroke-width: 1.5;\" x1=\"93\" x2=\"151\" y1=\"71.2969\" y2=\"71.2969\"/><text fill=\"#000000\" font-family=\"sans-serif\" font-size=\"14\" font-weight=\"bold\" lengthAdjust=\"spacingAndGlyphs\" textLength=\"45\" x=\"97\" y=\"63.9951\">Test2</text></a><!--MD5=[49a0ec8f00dab7302a31f22d0f0fe584]\n",
       "class E12--><a href=\"psysml:e16c4bbb-61f3-4b61-a2b5-b03e29e494af\" target=\"_top\" title=\"psysml:e16c4bbb-61f3-4b61-a2b5-b03e29e494af\" xlink:actuate=\"onRequest\" xlink:href=\"psysml:e16c4bbb-61f3-4b61-a2b5-b03e29e494af\" xlink:show=\"new\" xlink:title=\"psysml:e16c4bbb-61f3-4b61-a2b5-b03e29e494af\" xlink:type=\"simple\"><rect fill=\"#FFFFFF\" height=\"45.9375\" id=\"E12\" rx=\"10\" ry=\"10\" style=\"stroke: #383838; stroke-width: 1.5;\" width=\"42\" x=\"438\" y=\"84\"/><text fill=\"#000000\" font-family=\"sans-serif\" font-size=\"12\" font-style=\"italic\" lengthAdjust=\"spacingAndGlyphs\" textLength=\"40\" x=\"439\" y=\"100.1387\">«part»</text><text fill=\"#000000\" font-family=\"sans-serif\" font-size=\"12\" lengthAdjust=\"spacingAndGlyphs\" textLength=\"22\" x=\"448\" y=\"114.1074\">x: A</text><line style=\"stroke: #383838; stroke-width: 1.5;\" x1=\"439\" x2=\"479\" y1=\"121.9375\" y2=\"121.9375\"/></a><!--MD5=[ee3c913d1a06f366521f9ef512b67efe]\n",
       "class E13--><a href=\"psysml:6a814915-eeda-4c4d-8e98-a86878ae1f3d\" target=\"_top\" title=\"psysml:6a814915-eeda-4c4d-8e98-a86878ae1f3d\" xlink:actuate=\"onRequest\" xlink:href=\"psysml:6a814915-eeda-4c4d-8e98-a86878ae1f3d\" xlink:show=\"new\" xlink:title=\"psysml:6a814915-eeda-4c4d-8e98-a86878ae1f3d\" xlink:type=\"simple\"><rect fill=\"#FFFFFF\" height=\"45.9375\" id=\"E13\" rx=\"10\" ry=\"10\" style=\"stroke: #383838; stroke-width: 1.5;\" width=\"42\" x=\"32\" y=\"84\"/><text fill=\"#000000\" font-family=\"sans-serif\" font-size=\"12\" font-style=\"italic\" lengthAdjust=\"spacingAndGlyphs\" textLength=\"40\" x=\"33\" y=\"100.1387\">«part»</text><text fill=\"#000000\" font-family=\"sans-serif\" font-size=\"12\" lengthAdjust=\"spacingAndGlyphs\" textLength=\"22\" x=\"42\" y=\"114.1074\">y: B</text><line style=\"stroke: #383838; stroke-width: 1.5;\" x1=\"33\" x2=\"73\" y1=\"121.9375\" y2=\"121.9375\"/></a><!--MD5=[09b614a08d8cba4a07c9adeb5e0fee81]\n",
       "class E3--><a href=\"psysml:4745677c-bede-4ab8-acdc-4365dad759bc\" target=\"_top\" title=\"psysml:4745677c-bede-4ab8-acdc-4365dad759bc\" xlink:actuate=\"onRequest\" xlink:href=\"psysml:4745677c-bede-4ab8-acdc-4365dad759bc\" xlink:show=\"new\" xlink:title=\"psysml:4745677c-bede-4ab8-acdc-4365dad759bc\" xlink:type=\"simple\"><rect fill=\"#FFFFFF\" height=\"45.9375\" id=\"E3\" style=\"stroke: #383838; stroke-width: 1.5;\" width=\"66\" x=\"349\" y=\"205\"/><text fill=\"#000000\" font-family=\"sans-serif\" font-size=\"12\" font-style=\"italic\" lengthAdjust=\"spacingAndGlyphs\" textLength=\"64\" x=\"350\" y=\"221.1387\">«part def»</text><text fill=\"#000000\" font-family=\"sans-serif\" font-size=\"12\" lengthAdjust=\"spacingAndGlyphs\" textLength=\"8\" x=\"378\" y=\"235.1074\">A</text><line style=\"stroke: #383838; stroke-width: 1.5;\" x1=\"350\" x2=\"414\" y1=\"242.9375\" y2=\"242.9375\"/></a><!--MD5=[270fce915f116d4de14055a7c1d9a0f3]\n",
       "class E5--><a href=\"psysml:a455b6ac-bbc4-40c1-9da4-354e9f8fdc46\" target=\"_top\" title=\"psysml:a455b6ac-bbc4-40c1-9da4-354e9f8fdc46\" xlink:actuate=\"onRequest\" xlink:href=\"psysml:a455b6ac-bbc4-40c1-9da4-354e9f8fdc46\" xlink:show=\"new\" xlink:title=\"psysml:a455b6ac-bbc4-40c1-9da4-354e9f8fdc46\" xlink:type=\"simple\"><rect fill=\"#FFFFFF\" height=\"45.9375\" id=\"E5\" style=\"stroke: #383838; stroke-width: 1.5;\" width=\"66\" x=\"97\" y=\"205\"/><text fill=\"#000000\" font-family=\"sans-serif\" font-size=\"12\" font-style=\"italic\" lengthAdjust=\"spacingAndGlyphs\" textLength=\"64\" x=\"98\" y=\"221.1387\">«part def»</text><text fill=\"#000000\" font-family=\"sans-serif\" font-size=\"12\" lengthAdjust=\"spacingAndGlyphs\" textLength=\"8\" x=\"126\" y=\"235.1074\">B</text><line style=\"stroke: #383838; stroke-width: 1.5;\" x1=\"98\" x2=\"162\" y1=\"242.9375\" y2=\"242.9375\"/></a><!--MD5=[2156ba9850f5573cc1fc38a6a4b2f02b]\n",
       "class E7--><a href=\"psysml:6b7db59d-d003-4043-9508-3fd9ac781eff\" target=\"_top\" title=\"psysml:6b7db59d-d003-4043-9508-3fd9ac781eff\" xlink:actuate=\"onRequest\" xlink:href=\"psysml:6b7db59d-d003-4043-9508-3fd9ac781eff\" xlink:show=\"new\" xlink:title=\"psysml:6b7db59d-d003-4043-9508-3fd9ac781eff\" xlink:type=\"simple\"><rect fill=\"#FFFFFF\" height=\"45.9375\" id=\"E7\" rx=\"10\" ry=\"10\" style=\"stroke: #383838; stroke-width: 1.5;\" width=\"42\" x=\"361\" y=\"84\"/><text fill=\"#000000\" font-family=\"sans-serif\" font-size=\"12\" font-style=\"italic\" lengthAdjust=\"spacingAndGlyphs\" textLength=\"40\" x=\"362\" y=\"100.1387\">«part»</text><text fill=\"#000000\" font-family=\"sans-serif\" font-size=\"12\" lengthAdjust=\"spacingAndGlyphs\" textLength=\"22\" x=\"371\" y=\"114.1074\">x: A</text><line style=\"stroke: #383838; stroke-width: 1.5;\" x1=\"362\" x2=\"402\" y1=\"121.9375\" y2=\"121.9375\"/></a><!--MD5=[b9389687b975829384b498ac4b7476b2]\n",
       "class E8--><a href=\"psysml:6c414e1f-4fb5-42fd-83aa-c158d2fbc464\" target=\"_top\" title=\"psysml:6c414e1f-4fb5-42fd-83aa-c158d2fbc464\" xlink:actuate=\"onRequest\" xlink:href=\"psysml:6c414e1f-4fb5-42fd-83aa-c158d2fbc464\" xlink:show=\"new\" xlink:title=\"psysml:6c414e1f-4fb5-42fd-83aa-c158d2fbc464\" xlink:type=\"simple\"><rect fill=\"#FFFFFF\" height=\"45.9375\" id=\"E8\" rx=\"10\" ry=\"10\" style=\"stroke: #383838; stroke-width: 1.5;\" width=\"42\" x=\"284\" y=\"84\"/><text fill=\"#000000\" font-family=\"sans-serif\" font-size=\"12\" font-style=\"italic\" lengthAdjust=\"spacingAndGlyphs\" textLength=\"40\" x=\"285\" y=\"100.1387\">«part»</text><text fill=\"#000000\" font-family=\"sans-serif\" font-size=\"12\" lengthAdjust=\"spacingAndGlyphs\" textLength=\"22\" x=\"294\" y=\"114.1074\">y: B</text><line style=\"stroke: #383838; stroke-width: 1.5;\" x1=\"285\" x2=\"325\" y1=\"121.9375\" y2=\"121.9375\"/></a><!--MD5=[96f4274e9e20536e775497830990834d]\n",
       "class E10--><a href=\"psysml:797261aa-a958-4475-9de3-b139176b10fb\" target=\"_top\" title=\"psysml:797261aa-a958-4475-9de3-b139176b10fb\" xlink:actuate=\"onRequest\" xlink:href=\"psysml:797261aa-a958-4475-9de3-b139176b10fb\" xlink:show=\"new\" xlink:title=\"psysml:797261aa-a958-4475-9de3-b139176b10fb\" xlink:type=\"simple\"><rect fill=\"#FFFFFF\" height=\"45.9375\" id=\"E10\" rx=\"10\" ry=\"10\" style=\"stroke: #383838; stroke-width: 1.5;\" width=\"42\" x=\"186\" y=\"84\"/><text fill=\"#000000\" font-family=\"sans-serif\" font-size=\"12\" font-style=\"italic\" lengthAdjust=\"spacingAndGlyphs\" textLength=\"40\" x=\"187\" y=\"100.1387\">«part»</text><text fill=\"#000000\" font-family=\"sans-serif\" font-size=\"12\" lengthAdjust=\"spacingAndGlyphs\" textLength=\"22\" x=\"196\" y=\"114.1074\">x: A</text><line style=\"stroke: #383838; stroke-width: 1.5;\" x1=\"187\" x2=\"227\" y1=\"121.9375\" y2=\"121.9375\"/></a><!--MD5=[1dd1bfd58a279cf63c5f349dbc8fc6a1]\n",
       "class E11--><a href=\"psysml:3825b43b-bb71-4033-970e-c8c9e00cfd14\" target=\"_top\" title=\"psysml:3825b43b-bb71-4033-970e-c8c9e00cfd14\" xlink:actuate=\"onRequest\" xlink:href=\"psysml:3825b43b-bb71-4033-970e-c8c9e00cfd14\" xlink:show=\"new\" xlink:title=\"psysml:3825b43b-bb71-4033-970e-c8c9e00cfd14\" xlink:type=\"simple\"><rect fill=\"#FFFFFF\" height=\"45.9375\" id=\"E11\" rx=\"10\" ry=\"10\" style=\"stroke: #383838; stroke-width: 1.5;\" width=\"42\" x=\"109\" y=\"84\"/><text fill=\"#000000\" font-family=\"sans-serif\" font-size=\"12\" font-style=\"italic\" lengthAdjust=\"spacingAndGlyphs\" textLength=\"40\" x=\"110\" y=\"100.1387\">«part»</text><text fill=\"#000000\" font-family=\"sans-serif\" font-size=\"12\" lengthAdjust=\"spacingAndGlyphs\" textLength=\"22\" x=\"119\" y=\"114.1074\">y: B</text><line style=\"stroke: #383838; stroke-width: 1.5;\" x1=\"110\" x2=\"150\" y1=\"121.9375\" y2=\"121.9375\"/></a><!--MD5=[14ccda38c055a5c0da953d572bc50960]\n",
       "link E7 to E3--><a href=\"psysml:85e1ff22-6346-4a23-846d-dc1a236203c0\" target=\"_top\" title=\"psysml:85e1ff22-6346-4a23-846d-dc1a236203c0\" xlink:actuate=\"onRequest\" xlink:href=\"psysml:85e1ff22-6346-4a23-846d-dc1a236203c0\" xlink:show=\"new\" xlink:title=\"psysml:85e1ff22-6346-4a23-846d-dc1a236203c0\" xlink:type=\"simple\"><path d=\"M382,130.1 C382,145.37 382,166.16 382,184.57 \" fill=\"none\" id=\"E7-&gt;E3\" style=\"stroke: #383838; stroke-width: 1.0;\"/><polygon fill=\"#FFFFFF\" points=\"382,204.61,375,185.61,389,185.61,382,204.61\" style=\"stroke: #383838; stroke-width: 1.0;\"/><ellipse cx=\"377\" cy=\"179.91\" fill=\"#383838\" rx=\"2\" ry=\"2\" style=\"stroke: #383838; stroke-width: 1.0;\"/><ellipse cx=\"387\" cy=\"179.91\" fill=\"#383838\" rx=\"2\" ry=\"2\" style=\"stroke: #383838; stroke-width: 1.0;\"/></a><!--MD5=[1ccb2481ffa92f8d51a74ee30c51832a]\n",
       "link E8 to E5--><a href=\"psysml:483adec0-2d55-41ba-876c-1b8fe7d429ab\" target=\"_top\" title=\"psysml:483adec0-2d55-41ba-876c-1b8fe7d429ab\" xlink:actuate=\"onRequest\" xlink:href=\"psysml:483adec0-2d55-41ba-876c-1b8fe7d429ab\" xlink:show=\"new\" xlink:title=\"psysml:483adec0-2d55-41ba-876c-1b8fe7d429ab\" xlink:type=\"simple\"><path d=\"M283.84,124.59 C272.23,133.52 257.5,144.61 244,154 C223.51,168.25 200.41,183.24 180.38,195.91 \" fill=\"none\" id=\"E8-&gt;E5\" style=\"stroke: #383838; stroke-width: 1.0;\"/><polygon fill=\"#FFFFFF\" points=\"163.36,206.57,175.7353,190.5434,183.175,202.403,163.36,206.57\" style=\"stroke: #383838; stroke-width: 1.0;\"/><ellipse cx=\"181.6267\" cy=\"189.2086\" fill=\"#383838\" rx=\"2\" ry=\"2\" style=\"stroke: #383838; stroke-width: 1.0;\"/><ellipse cx=\"186.9408\" cy=\"197.6797\" fill=\"#383838\" rx=\"2\" ry=\"2\" style=\"stroke: #383838; stroke-width: 1.0;\"/></a><!--MD5=[feeac5eb423634930294aa81f2d25a4c]\n",
       "link E10 to E3--><a href=\"psysml:0e238847-8a3c-4f4a-a4c7-c4eca45a31b2\" target=\"_top\" title=\"psysml:0e238847-8a3c-4f4a-a4c7-c4eca45a31b2\" xlink:actuate=\"onRequest\" xlink:href=\"psysml:0e238847-8a3c-4f4a-a4c7-c4eca45a31b2\" xlink:show=\"new\" xlink:title=\"psysml:0e238847-8a3c-4f4a-a4c7-c4eca45a31b2\" xlink:type=\"simple\"><path d=\"M228.16,124.59 C239.77,133.52 254.5,144.61 268,154 C288.49,168.25 311.59,183.24 331.62,195.91 \" fill=\"none\" id=\"E10-&gt;E3\" style=\"stroke: #383838; stroke-width: 1.0;\"/><polygon fill=\"#FFFFFF\" points=\"348.64,206.57,328.825,202.403,336.2647,190.5434,348.64,206.57\" style=\"stroke: #383838; stroke-width: 1.0;\"/><ellipse cx=\"325.0592\" cy=\"197.6797\" fill=\"#383838\" rx=\"2\" ry=\"2\" style=\"stroke: #383838; stroke-width: 1.0;\"/><ellipse cx=\"330.3733\" cy=\"189.2086\" fill=\"#383838\" rx=\"2\" ry=\"2\" style=\"stroke: #383838; stroke-width: 1.0;\"/></a><!--MD5=[07b77f6f309248d16187045709d1c26e]\n",
       "link E11 to E5--><a href=\"psysml:1112046b-9823-4ab2-8a83-96247ffb9742\" target=\"_top\" title=\"psysml:1112046b-9823-4ab2-8a83-96247ffb9742\" xlink:actuate=\"onRequest\" xlink:href=\"psysml:1112046b-9823-4ab2-8a83-96247ffb9742\" xlink:show=\"new\" xlink:title=\"psysml:1112046b-9823-4ab2-8a83-96247ffb9742\" xlink:type=\"simple\"><path d=\"M130,130.1 C130,145.37 130,166.16 130,184.57 \" fill=\"none\" id=\"E11-&gt;E5\" style=\"stroke: #383838; stroke-width: 1.0;\"/><polygon fill=\"#FFFFFF\" points=\"130,204.61,123,185.61,137,185.61,130,204.61\" style=\"stroke: #383838; stroke-width: 1.0;\"/><ellipse cx=\"125\" cy=\"179.91\" fill=\"#383838\" rx=\"2\" ry=\"2\" style=\"stroke: #383838; stroke-width: 1.0;\"/><ellipse cx=\"135\" cy=\"179.91\" fill=\"#383838\" rx=\"2\" ry=\"2\" style=\"stroke: #383838; stroke-width: 1.0;\"/></a><!--MD5=[39f41a0e550fb3d73b4d8135617e30a2]\n",
       "link E12 to E3--><a href=\"psysml:ee0d4e1c-50f8-4d3c-8a56-5035ed7c5f53\" target=\"_top\" title=\"psysml:ee0d4e1c-50f8-4d3c-8a56-5035ed7c5f53\" xlink:actuate=\"onRequest\" xlink:href=\"psysml:ee0d4e1c-50f8-4d3c-8a56-5035ed7c5f53\" xlink:show=\"new\" xlink:title=\"psysml:ee0d4e1c-50f8-4d3c-8a56-5035ed7c5f53\" xlink:type=\"simple\"><path d=\"M444.7,130.1 C434.28,146.2 419.89,168.44 407.53,187.55 \" fill=\"none\" id=\"E12-&gt;E3\" style=\"stroke: #383838; stroke-width: 1.0;\"/><polygon fill=\"#FFFFFF\" points=\"396.49,204.61,400.9313,184.8546,412.6866,192.4581,396.49,204.61\" style=\"stroke: #383838; stroke-width: 1.0;\"/><ellipse cx=\"405.7063\" cy=\"181.1547\" fill=\"#383838\" rx=\"2\" ry=\"2\" style=\"stroke: #383838; stroke-width: 1.0;\"/><ellipse cx=\"414.103\" cy=\"186.5858\" fill=\"#383838\" rx=\"2\" ry=\"2\" style=\"stroke: #383838; stroke-width: 1.0;\"/></a><!--MD5=[066b2d8af59fea80ccdb3d54ad5c1091]\n",
       "link E13 to E5--><a href=\"psysml:1d6f62f5-9885-441d-bead-3e38c1577759\" target=\"_top\" title=\"psysml:1d6f62f5-9885-441d-bead-3e38c1577759\" xlink:actuate=\"onRequest\" xlink:href=\"psysml:1d6f62f5-9885-441d-bead-3e38c1577759\" xlink:show=\"new\" xlink:title=\"psysml:1d6f62f5-9885-441d-bead-3e38c1577759\" xlink:type=\"simple\"><path d=\"M67.3,130.1 C77.72,146.2 92.11,168.44 104.47,187.55 \" fill=\"none\" id=\"E13-&gt;E5\" style=\"stroke: #383838; stroke-width: 1.0;\"/><polygon fill=\"#FFFFFF\" points=\"115.51,204.61,99.3134,192.4581,111.0687,184.8546,115.51,204.61\" style=\"stroke: #383838; stroke-width: 1.0;\"/><ellipse cx=\"97.897\" cy=\"186.5858\" fill=\"#383838\" rx=\"2\" ry=\"2\" style=\"stroke: #383838; stroke-width: 1.0;\"/><ellipse cx=\"106.2937\" cy=\"181.1547\" fill=\"#383838\" rx=\"2\" ry=\"2\" style=\"stroke: #383838; stroke-width: 1.0;\"/></a><!--MD5=[f3fe9062fff4e19d28c35299b2233a33]\n",
       "@startuml\r\n",
       "top to bottom direction\r\n",
       "skinparam monochrome true\r\n",
       "skinparam classbackgroundcolor white\r\n",
       "skinparam shadowing false\r\n",
       "skinparam wrapWidth 300\r\n",
       "hide circle\r\n",
       "\r\n",
       "package \"CircularImport\" as E1  [[psysml:6a62b0bb-ce07-42d9-b06f-c19bd22a93a2 ]]  {\r\n",
       "package \"P1\" as E2  [[psysml:e5793e48-aebf-4c77-9b1c-634d316c370a ]]  {\r\n",
       "comp def \"A\" as E3  <<(T,blue)part def>> [[psysml:4745677c-bede-4ab8-acdc-4365dad759bc ]] {\r\n",
       "}\r\n",
       "}\r\n",
       "package \"P2\" as E4  [[psysml:9f128572-3fea-4fc4-b18b-c92f97cc0f0b ]]  {\r\n",
       "comp def \"B\" as E5  <<(T,blue)part def>> [[psysml:a455b6ac-bbc4-40c1-9da4-354e9f8fdc46 ]] {\r\n",
       "}\r\n",
       "}\r\n",
       "package \"Test1\" as E6  [[psysml:6c517ad3-81f8-4503-b234-41386708eb5e ]]  {\r\n",
       "comp usage \"x: A\" as E7  <<(T,blue)part>> [[psysml:6b7db59d-d003-4043-9508-3fd9ac781eff ]] {\r\n",
       "}\r\n",
       "comp usage \"y: B\" as E8  <<(T,blue)part>> [[psysml:6c414e1f-4fb5-42fd-83aa-c158d2fbc464 ]] {\r\n",
       "}\r\n",
       "E7 - -:|> E3 [[psysml:85e1ff22-6346-4a23-846d-dc1a236203c0 ]] \r\n",
       "E8 - -:|> E5 [[psysml:483adec0-2d55-41ba-876c-1b8fe7d429ab ]] \r\n",
       "}\r\n",
       "package \"Test2\" as E9  [[psysml:81951965-8d4b-42c4-ba21-4255f6488007 ]]  {\r\n",
       "comp usage \"x: A\" as E10  <<(T,blue)part>> [[psysml:797261aa-a958-4475-9de3-b139176b10fb ]] {\r\n",
       "}\r\n",
       "comp usage \"y: B\" as E11  <<(T,blue)part>> [[psysml:3825b43b-bb71-4033-970e-c8c9e00cfd14 ]] {\r\n",
       "}\r\n",
       "E10 - -:|> E3 [[psysml:0e238847-8a3c-4f4a-a4c7-c4eca45a31b2 ]] \r\n",
       "E11 - -:|> E5 [[psysml:1112046b-9823-4ab2-8a83-96247ffb9742 ]] \r\n",
       "}\r\n",
       "comp usage \"x: A\" as E12  <<(T,blue)part>> [[psysml:e16c4bbb-61f3-4b61-a2b5-b03e29e494af ]] {\r\n",
       "}\r\n",
       "comp usage \"y: B\" as E13  <<(T,blue)part>> [[psysml:6a814915-eeda-4c4d-8e98-a86878ae1f3d ]] {\r\n",
       "}\r\n",
       "E12 - -:|> E3 [[psysml:ee0d4e1c-50f8-4d3c-8a56-5035ed7c5f53 ]] \r\n",
       "E13 - -:|> E5 [[psysml:1d6f62f5-9885-441d-bead-3e38c1577759 ]] \r\n",
       "}\r\n",
       "@enduml\r\n",
       "\n",
       "PlantUML version 1.2020.13(Sat Jun 13 12:26:38 UTC 2020)\n",
       "(EPL source distribution)\n",
       "Java Runtime: OpenJDK Runtime Environment\n",
       "JVM: OpenJDK 64-Bit Server VM\n",
       "Default Encoding: UTF-8\n",
       "Language: en\n",
       "Country: null\n",
       "--></g></svg>"
      ]
     },
     "execution_count": 50,
     "metadata": {},
     "output_type": "execute_result"
    }
   ],
   "source": [
    "%viz --style=\"TB\" --view=\"MIXED\" \"CircularImport\""
   ]
  },
  {
   "cell_type": "code",
   "execution_count": 51,
   "id": "entertaining-buffer",
   "metadata": {
    "execution": {
     "iopub.execute_input": "2021-03-25T13:13:23.878268Z",
     "iopub.status.busy": "2021-03-25T13:13:23.877793Z",
     "iopub.status.idle": "2021-03-25T13:13:23.980679Z",
     "shell.execute_reply": "2021-03-25T13:13:23.980251Z"
    }
   },
   "outputs": [
    {
     "data": {
      "image/svg+xml": [
       "<?xml version=\"1.0\" encoding=\"UTF-8\" standalone=\"no\"?><svg xmlns=\"http://www.w3.org/2000/svg\" xmlns:xlink=\"http://www.w3.org/1999/xlink\" contentScriptType=\"application/ecmascript\" contentStyleType=\"text/css\" height=\"303px\" preserveAspectRatio=\"none\" style=\"width:518px;height:303px;\" version=\"1.1\" viewBox=\"0 0 518 303\" width=\"518px\" zoomAndPan=\"magnify\"><defs/><g><!--MD5=[fbc87193dbaf4d95561dea2c320d4a47]\n",
       "cluster E1--><a href=\"psysml:6a62b0bb-ce07-42d9-b06f-c19bd22a93a2\" target=\"_top\" title=\"psysml:6a62b0bb-ce07-42d9-b06f-c19bd22a93a2\" xlink:actuate=\"onRequest\" xlink:href=\"psysml:6a62b0bb-ce07-42d9-b06f-c19bd22a93a2\" xlink:show=\"new\" xlink:title=\"psysml:6a62b0bb-ce07-42d9-b06f-c19bd22a93a2\" xlink:type=\"simple\"><polygon fill=\"#FFFFFF\" points=\"16,6,134,6,141,28.2969,496,28.2969,496,291,16,291,16,6\" style=\"stroke: #000000; stroke-width: 1.5;\"/><line style=\"stroke: #000000; stroke-width: 1.5;\" x1=\"16\" x2=\"141\" y1=\"28.2969\" y2=\"28.2969\"/><text fill=\"#000000\" font-family=\"sans-serif\" font-size=\"14\" font-weight=\"bold\" lengthAdjust=\"spacingAndGlyphs\" textLength=\"112\" x=\"20\" y=\"20.9951\">CircularImport</text></a><!--MD5=[e4f7fae6ed58524ba242bb0b0d3be6b7]\n",
       "cluster E2--><a href=\"psysml:e5793e48-aebf-4c77-9b1c-634d316c370a\" target=\"_top\" title=\"psysml:e5793e48-aebf-4c77-9b1c-634d316c370a\" xlink:actuate=\"onRequest\" xlink:href=\"psysml:e5793e48-aebf-4c77-9b1c-634d316c370a\" xlink:show=\"new\" xlink:title=\"psysml:e5793e48-aebf-4c77-9b1c-634d316c370a\" xlink:type=\"simple\"><polygon fill=\"#FFFFFF\" points=\"333,170,359,170,366,192.2969,431,192.2969,431,267,333,267,333,170\" style=\"stroke: #000000; stroke-width: 1.5;\"/><line style=\"stroke: #000000; stroke-width: 1.5;\" x1=\"333\" x2=\"366\" y1=\"192.2969\" y2=\"192.2969\"/><text fill=\"#000000\" font-family=\"sans-serif\" font-size=\"14\" font-weight=\"bold\" lengthAdjust=\"spacingAndGlyphs\" textLength=\"20\" x=\"337\" y=\"184.9951\">P1</text></a><!--MD5=[f6df4d0ebaf0b5dfb2ced0ae5af7c670]\n",
       "cluster E4--><a href=\"psysml:9f128572-3fea-4fc4-b18b-c92f97cc0f0b\" target=\"_top\" title=\"psysml:9f128572-3fea-4fc4-b18b-c92f97cc0f0b\" xlink:actuate=\"onRequest\" xlink:href=\"psysml:9f128572-3fea-4fc4-b18b-c92f97cc0f0b\" xlink:show=\"new\" xlink:title=\"psysml:9f128572-3fea-4fc4-b18b-c92f97cc0f0b\" xlink:type=\"simple\"><polygon fill=\"#FFFFFF\" points=\"81,170,107,170,114,192.2969,179,192.2969,179,267,81,267,81,170\" style=\"stroke: #000000; stroke-width: 1.5;\"/><line style=\"stroke: #000000; stroke-width: 1.5;\" x1=\"81\" x2=\"114\" y1=\"192.2969\" y2=\"192.2969\"/><text fill=\"#000000\" font-family=\"sans-serif\" font-size=\"14\" font-weight=\"bold\" lengthAdjust=\"spacingAndGlyphs\" textLength=\"20\" x=\"85\" y=\"184.9951\">P2</text></a><!--MD5=[14e3b0961a2654348d326746436168a1]\n",
       "cluster E6--><a href=\"psysml:6c517ad3-81f8-4503-b234-41386708eb5e\" target=\"_top\" title=\"psysml:6c517ad3-81f8-4503-b234-41386708eb5e\" xlink:actuate=\"onRequest\" xlink:href=\"psysml:6c517ad3-81f8-4503-b234-41386708eb5e\" xlink:show=\"new\" xlink:title=\"psysml:6c517ad3-81f8-4503-b234-41386708eb5e\" xlink:type=\"simple\"><polygon fill=\"#FFFFFF\" points=\"268,49,319,49,326,71.2969,419,71.2969,419,146,268,146,268,49\" style=\"stroke: #000000; stroke-width: 1.5;\"/><line style=\"stroke: #000000; stroke-width: 1.5;\" x1=\"268\" x2=\"326\" y1=\"71.2969\" y2=\"71.2969\"/><text fill=\"#000000\" font-family=\"sans-serif\" font-size=\"14\" font-weight=\"bold\" lengthAdjust=\"spacingAndGlyphs\" textLength=\"45\" x=\"272\" y=\"63.9951\">Test1</text></a><!--MD5=[7f149f147074ac12df2cb0a7728a5fb0]\n",
       "cluster E9--><a href=\"psysml:81951965-8d4b-42c4-ba21-4255f6488007\" target=\"_top\" title=\"psysml:81951965-8d4b-42c4-ba21-4255f6488007\" xlink:actuate=\"onRequest\" xlink:href=\"psysml:81951965-8d4b-42c4-ba21-4255f6488007\" xlink:show=\"new\" xlink:title=\"psysml:81951965-8d4b-42c4-ba21-4255f6488007\" xlink:type=\"simple\"><polygon fill=\"#FFFFFF\" points=\"93,49,144,49,151,71.2969,244,71.2969,244,146,93,146,93,49\" style=\"stroke: #000000; stroke-width: 1.5;\"/><line style=\"stroke: #000000; stroke-width: 1.5;\" x1=\"93\" x2=\"151\" y1=\"71.2969\" y2=\"71.2969\"/><text fill=\"#000000\" font-family=\"sans-serif\" font-size=\"14\" font-weight=\"bold\" lengthAdjust=\"spacingAndGlyphs\" textLength=\"45\" x=\"97\" y=\"63.9951\">Test2</text></a><!--MD5=[49a0ec8f00dab7302a31f22d0f0fe584]\n",
       "class E12--><a href=\"psysml:e16c4bbb-61f3-4b61-a2b5-b03e29e494af\" target=\"_top\" title=\"psysml:e16c4bbb-61f3-4b61-a2b5-b03e29e494af\" xlink:actuate=\"onRequest\" xlink:href=\"psysml:e16c4bbb-61f3-4b61-a2b5-b03e29e494af\" xlink:show=\"new\" xlink:title=\"psysml:e16c4bbb-61f3-4b61-a2b5-b03e29e494af\" xlink:type=\"simple\"><rect fill=\"#FFFFFF\" height=\"45.9375\" id=\"E12\" rx=\"10\" ry=\"10\" style=\"stroke: #383838; stroke-width: 1.5;\" width=\"42\" x=\"438\" y=\"84\"/><text fill=\"#000000\" font-family=\"sans-serif\" font-size=\"12\" font-style=\"italic\" lengthAdjust=\"spacingAndGlyphs\" textLength=\"40\" x=\"439\" y=\"100.1387\">«part»</text><text fill=\"#000000\" font-family=\"sans-serif\" font-size=\"12\" lengthAdjust=\"spacingAndGlyphs\" textLength=\"22\" x=\"448\" y=\"114.1074\">x: A</text><line style=\"stroke: #383838; stroke-width: 1.5;\" x1=\"439\" x2=\"479\" y1=\"121.9375\" y2=\"121.9375\"/></a><!--MD5=[ee3c913d1a06f366521f9ef512b67efe]\n",
       "class E13--><a href=\"psysml:6a814915-eeda-4c4d-8e98-a86878ae1f3d\" target=\"_top\" title=\"psysml:6a814915-eeda-4c4d-8e98-a86878ae1f3d\" xlink:actuate=\"onRequest\" xlink:href=\"psysml:6a814915-eeda-4c4d-8e98-a86878ae1f3d\" xlink:show=\"new\" xlink:title=\"psysml:6a814915-eeda-4c4d-8e98-a86878ae1f3d\" xlink:type=\"simple\"><rect fill=\"#FFFFFF\" height=\"45.9375\" id=\"E13\" rx=\"10\" ry=\"10\" style=\"stroke: #383838; stroke-width: 1.5;\" width=\"42\" x=\"32\" y=\"84\"/><text fill=\"#000000\" font-family=\"sans-serif\" font-size=\"12\" font-style=\"italic\" lengthAdjust=\"spacingAndGlyphs\" textLength=\"40\" x=\"33\" y=\"100.1387\">«part»</text><text fill=\"#000000\" font-family=\"sans-serif\" font-size=\"12\" lengthAdjust=\"spacingAndGlyphs\" textLength=\"22\" x=\"42\" y=\"114.1074\">y: B</text><line style=\"stroke: #383838; stroke-width: 1.5;\" x1=\"33\" x2=\"73\" y1=\"121.9375\" y2=\"121.9375\"/></a><!--MD5=[09b614a08d8cba4a07c9adeb5e0fee81]\n",
       "class E3--><a href=\"psysml:4745677c-bede-4ab8-acdc-4365dad759bc\" target=\"_top\" title=\"psysml:4745677c-bede-4ab8-acdc-4365dad759bc\" xlink:actuate=\"onRequest\" xlink:href=\"psysml:4745677c-bede-4ab8-acdc-4365dad759bc\" xlink:show=\"new\" xlink:title=\"psysml:4745677c-bede-4ab8-acdc-4365dad759bc\" xlink:type=\"simple\"><rect fill=\"#FFFFFF\" height=\"45.9375\" id=\"E3\" style=\"stroke: #383838; stroke-width: 1.5;\" width=\"66\" x=\"349\" y=\"205\"/><text fill=\"#000000\" font-family=\"sans-serif\" font-size=\"12\" font-style=\"italic\" lengthAdjust=\"spacingAndGlyphs\" textLength=\"64\" x=\"350\" y=\"221.1387\">«part def»</text><text fill=\"#000000\" font-family=\"sans-serif\" font-size=\"12\" lengthAdjust=\"spacingAndGlyphs\" textLength=\"8\" x=\"378\" y=\"235.1074\">A</text><line style=\"stroke: #383838; stroke-width: 1.5;\" x1=\"350\" x2=\"414\" y1=\"242.9375\" y2=\"242.9375\"/></a><!--MD5=[270fce915f116d4de14055a7c1d9a0f3]\n",
       "class E5--><a href=\"psysml:a455b6ac-bbc4-40c1-9da4-354e9f8fdc46\" target=\"_top\" title=\"psysml:a455b6ac-bbc4-40c1-9da4-354e9f8fdc46\" xlink:actuate=\"onRequest\" xlink:href=\"psysml:a455b6ac-bbc4-40c1-9da4-354e9f8fdc46\" xlink:show=\"new\" xlink:title=\"psysml:a455b6ac-bbc4-40c1-9da4-354e9f8fdc46\" xlink:type=\"simple\"><rect fill=\"#FFFFFF\" height=\"45.9375\" id=\"E5\" style=\"stroke: #383838; stroke-width: 1.5;\" width=\"66\" x=\"97\" y=\"205\"/><text fill=\"#000000\" font-family=\"sans-serif\" font-size=\"12\" font-style=\"italic\" lengthAdjust=\"spacingAndGlyphs\" textLength=\"64\" x=\"98\" y=\"221.1387\">«part def»</text><text fill=\"#000000\" font-family=\"sans-serif\" font-size=\"12\" lengthAdjust=\"spacingAndGlyphs\" textLength=\"8\" x=\"126\" y=\"235.1074\">B</text><line style=\"stroke: #383838; stroke-width: 1.5;\" x1=\"98\" x2=\"162\" y1=\"242.9375\" y2=\"242.9375\"/></a><!--MD5=[2156ba9850f5573cc1fc38a6a4b2f02b]\n",
       "class E7--><a href=\"psysml:6b7db59d-d003-4043-9508-3fd9ac781eff\" target=\"_top\" title=\"psysml:6b7db59d-d003-4043-9508-3fd9ac781eff\" xlink:actuate=\"onRequest\" xlink:href=\"psysml:6b7db59d-d003-4043-9508-3fd9ac781eff\" xlink:show=\"new\" xlink:title=\"psysml:6b7db59d-d003-4043-9508-3fd9ac781eff\" xlink:type=\"simple\"><rect fill=\"#FFFFFF\" height=\"45.9375\" id=\"E7\" rx=\"10\" ry=\"10\" style=\"stroke: #383838; stroke-width: 1.5;\" width=\"42\" x=\"361\" y=\"84\"/><text fill=\"#000000\" font-family=\"sans-serif\" font-size=\"12\" font-style=\"italic\" lengthAdjust=\"spacingAndGlyphs\" textLength=\"40\" x=\"362\" y=\"100.1387\">«part»</text><text fill=\"#000000\" font-family=\"sans-serif\" font-size=\"12\" lengthAdjust=\"spacingAndGlyphs\" textLength=\"22\" x=\"371\" y=\"114.1074\">x: A</text><line style=\"stroke: #383838; stroke-width: 1.5;\" x1=\"362\" x2=\"402\" y1=\"121.9375\" y2=\"121.9375\"/></a><!--MD5=[b9389687b975829384b498ac4b7476b2]\n",
       "class E8--><a href=\"psysml:6c414e1f-4fb5-42fd-83aa-c158d2fbc464\" target=\"_top\" title=\"psysml:6c414e1f-4fb5-42fd-83aa-c158d2fbc464\" xlink:actuate=\"onRequest\" xlink:href=\"psysml:6c414e1f-4fb5-42fd-83aa-c158d2fbc464\" xlink:show=\"new\" xlink:title=\"psysml:6c414e1f-4fb5-42fd-83aa-c158d2fbc464\" xlink:type=\"simple\"><rect fill=\"#FFFFFF\" height=\"45.9375\" id=\"E8\" rx=\"10\" ry=\"10\" style=\"stroke: #383838; stroke-width: 1.5;\" width=\"42\" x=\"284\" y=\"84\"/><text fill=\"#000000\" font-family=\"sans-serif\" font-size=\"12\" font-style=\"italic\" lengthAdjust=\"spacingAndGlyphs\" textLength=\"40\" x=\"285\" y=\"100.1387\">«part»</text><text fill=\"#000000\" font-family=\"sans-serif\" font-size=\"12\" lengthAdjust=\"spacingAndGlyphs\" textLength=\"22\" x=\"294\" y=\"114.1074\">y: B</text><line style=\"stroke: #383838; stroke-width: 1.5;\" x1=\"285\" x2=\"325\" y1=\"121.9375\" y2=\"121.9375\"/></a><!--MD5=[96f4274e9e20536e775497830990834d]\n",
       "class E10--><a href=\"psysml:797261aa-a958-4475-9de3-b139176b10fb\" target=\"_top\" title=\"psysml:797261aa-a958-4475-9de3-b139176b10fb\" xlink:actuate=\"onRequest\" xlink:href=\"psysml:797261aa-a958-4475-9de3-b139176b10fb\" xlink:show=\"new\" xlink:title=\"psysml:797261aa-a958-4475-9de3-b139176b10fb\" xlink:type=\"simple\"><rect fill=\"#FFFFFF\" height=\"45.9375\" id=\"E10\" rx=\"10\" ry=\"10\" style=\"stroke: #383838; stroke-width: 1.5;\" width=\"42\" x=\"186\" y=\"84\"/><text fill=\"#000000\" font-family=\"sans-serif\" font-size=\"12\" font-style=\"italic\" lengthAdjust=\"spacingAndGlyphs\" textLength=\"40\" x=\"187\" y=\"100.1387\">«part»</text><text fill=\"#000000\" font-family=\"sans-serif\" font-size=\"12\" lengthAdjust=\"spacingAndGlyphs\" textLength=\"22\" x=\"196\" y=\"114.1074\">x: A</text><line style=\"stroke: #383838; stroke-width: 1.5;\" x1=\"187\" x2=\"227\" y1=\"121.9375\" y2=\"121.9375\"/></a><!--MD5=[1dd1bfd58a279cf63c5f349dbc8fc6a1]\n",
       "class E11--><a href=\"psysml:3825b43b-bb71-4033-970e-c8c9e00cfd14\" target=\"_top\" title=\"psysml:3825b43b-bb71-4033-970e-c8c9e00cfd14\" xlink:actuate=\"onRequest\" xlink:href=\"psysml:3825b43b-bb71-4033-970e-c8c9e00cfd14\" xlink:show=\"new\" xlink:title=\"psysml:3825b43b-bb71-4033-970e-c8c9e00cfd14\" xlink:type=\"simple\"><rect fill=\"#FFFFFF\" height=\"45.9375\" id=\"E11\" rx=\"10\" ry=\"10\" style=\"stroke: #383838; stroke-width: 1.5;\" width=\"42\" x=\"109\" y=\"84\"/><text fill=\"#000000\" font-family=\"sans-serif\" font-size=\"12\" font-style=\"italic\" lengthAdjust=\"spacingAndGlyphs\" textLength=\"40\" x=\"110\" y=\"100.1387\">«part»</text><text fill=\"#000000\" font-family=\"sans-serif\" font-size=\"12\" lengthAdjust=\"spacingAndGlyphs\" textLength=\"22\" x=\"119\" y=\"114.1074\">y: B</text><line style=\"stroke: #383838; stroke-width: 1.5;\" x1=\"110\" x2=\"150\" y1=\"121.9375\" y2=\"121.9375\"/></a><!--MD5=[14ccda38c055a5c0da953d572bc50960]\n",
       "link E7 to E3--><a href=\"psysml:85e1ff22-6346-4a23-846d-dc1a236203c0\" target=\"_top\" title=\"psysml:85e1ff22-6346-4a23-846d-dc1a236203c0\" xlink:actuate=\"onRequest\" xlink:href=\"psysml:85e1ff22-6346-4a23-846d-dc1a236203c0\" xlink:show=\"new\" xlink:title=\"psysml:85e1ff22-6346-4a23-846d-dc1a236203c0\" xlink:type=\"simple\"><path d=\"M382,130.04 C382,130.04 382,184.63 382,184.63 \" fill=\"none\" id=\"E7-&gt;E3\" style=\"stroke: #383838; stroke-width: 1.0;\"/><polygon fill=\"#FFFFFF\" points=\"382,204.63,375,185.63,389,185.63,382,204.63\" style=\"stroke: #383838; stroke-width: 1.0;\"/><ellipse cx=\"377\" cy=\"179.93\" fill=\"#383838\" rx=\"2\" ry=\"2\" style=\"stroke: #383838; stroke-width: 1.0;\"/><ellipse cx=\"387\" cy=\"179.93\" fill=\"#383838\" rx=\"2\" ry=\"2\" style=\"stroke: #383838; stroke-width: 1.0;\"/></a><!--MD5=[1ccb2481ffa92f8d51a74ee30c51832a]\n",
       "link E8 to E5--><a href=\"psysml:483adec0-2d55-41ba-876c-1b8fe7d429ab\" target=\"_top\" title=\"psysml:483adec0-2d55-41ba-876c-1b8fe7d429ab\" xlink:actuate=\"onRequest\" xlink:href=\"psysml:483adec0-2d55-41ba-876c-1b8fe7d429ab\" xlink:show=\"new\" xlink:title=\"psysml:483adec0-2d55-41ba-876c-1b8fe7d429ab\" xlink:type=\"simple\"><path d=\"M305,130.06 C305,167.17 305,236 305,236 C305,236 183.33,236 183.33,236 \" fill=\"none\" id=\"E8-&gt;E5\" style=\"stroke: #383838; stroke-width: 1.0;\"/><polygon fill=\"#FFFFFF\" points=\"163.33,236,182.33,229,182.33,243,163.33,236\" style=\"stroke: #383838; stroke-width: 1.0;\"/><ellipse cx=\"188.03\" cy=\"231\" fill=\"#383838\" rx=\"2\" ry=\"2\" style=\"stroke: #383838; stroke-width: 1.0;\"/><ellipse cx=\"188.03\" cy=\"241\" fill=\"#383838\" rx=\"2\" ry=\"2\" style=\"stroke: #383838; stroke-width: 1.0;\"/></a><!--MD5=[feeac5eb423634930294aa81f2d25a4c]\n",
       "link E10 to E3--><a href=\"psysml:0e238847-8a3c-4f4a-a4c7-c4eca45a31b2\" target=\"_top\" title=\"psysml:0e238847-8a3c-4f4a-a4c7-c4eca45a31b2\" xlink:actuate=\"onRequest\" xlink:href=\"psysml:0e238847-8a3c-4f4a-a4c7-c4eca45a31b2\" xlink:show=\"new\" xlink:title=\"psysml:0e238847-8a3c-4f4a-a4c7-c4eca45a31b2\" xlink:type=\"simple\"><path d=\"M207,130.07 C207,163.38 207,221 207,221 C207,221 328.67,221 328.67,221 \" fill=\"none\" id=\"E10-&gt;E3\" style=\"stroke: #383838; stroke-width: 1.0;\"/><polygon fill=\"#FFFFFF\" points=\"348.67,221,329.67,228,329.67,214,348.67,221\" style=\"stroke: #383838; stroke-width: 1.0;\"/><ellipse cx=\"323.97\" cy=\"226\" fill=\"#383838\" rx=\"2\" ry=\"2\" style=\"stroke: #383838; stroke-width: 1.0;\"/><ellipse cx=\"323.97\" cy=\"216\" fill=\"#383838\" rx=\"2\" ry=\"2\" style=\"stroke: #383838; stroke-width: 1.0;\"/></a><!--MD5=[07b77f6f309248d16187045709d1c26e]\n",
       "link E11 to E5--><a href=\"psysml:1112046b-9823-4ab2-8a83-96247ffb9742\" target=\"_top\" title=\"psysml:1112046b-9823-4ab2-8a83-96247ffb9742\" xlink:actuate=\"onRequest\" xlink:href=\"psysml:1112046b-9823-4ab2-8a83-96247ffb9742\" xlink:show=\"new\" xlink:title=\"psysml:1112046b-9823-4ab2-8a83-96247ffb9742\" xlink:type=\"simple\"><path d=\"M130,130.04 C130,130.04 130,184.63 130,184.63 \" fill=\"none\" id=\"E11-&gt;E5\" style=\"stroke: #383838; stroke-width: 1.0;\"/><polygon fill=\"#FFFFFF\" points=\"130,204.63,123,185.63,137,185.63,130,204.63\" style=\"stroke: #383838; stroke-width: 1.0;\"/><ellipse cx=\"125\" cy=\"179.93\" fill=\"#383838\" rx=\"2\" ry=\"2\" style=\"stroke: #383838; stroke-width: 1.0;\"/><ellipse cx=\"135\" cy=\"179.93\" fill=\"#383838\" rx=\"2\" ry=\"2\" style=\"stroke: #383838; stroke-width: 1.0;\"/></a><!--MD5=[39f41a0e550fb3d73b4d8135617e30a2]\n",
       "link E12 to E3--><a href=\"psysml:ee0d4e1c-50f8-4d3c-8a56-5035ed7c5f53\" target=\"_top\" title=\"psysml:ee0d4e1c-50f8-4d3c-8a56-5035ed7c5f53\" xlink:actuate=\"onRequest\" xlink:href=\"psysml:ee0d4e1c-50f8-4d3c-8a56-5035ed7c5f53\" xlink:show=\"new\" xlink:title=\"psysml:ee0d4e1c-50f8-4d3c-8a56-5035ed7c5f53\" xlink:type=\"simple\"><path d=\"M437.8,107 C424.17,107 409,107 409,107 C409,107 409,184.96 409,184.96 \" fill=\"none\" id=\"E12-&gt;E3\" style=\"stroke: #383838; stroke-width: 1.0;\"/><polygon fill=\"#FFFFFF\" points=\"409,204.96,402,185.96,416,185.96,409,204.96\" style=\"stroke: #383838; stroke-width: 1.0;\"/><ellipse cx=\"404\" cy=\"180.26\" fill=\"#383838\" rx=\"2\" ry=\"2\" style=\"stroke: #383838; stroke-width: 1.0;\"/><ellipse cx=\"414\" cy=\"180.26\" fill=\"#383838\" rx=\"2\" ry=\"2\" style=\"stroke: #383838; stroke-width: 1.0;\"/></a><!--MD5=[066b2d8af59fea80ccdb3d54ad5c1091]\n",
       "link E13 to E5--><a href=\"psysml:1d6f62f5-9885-441d-bead-3e38c1577759\" target=\"_top\" title=\"psysml:1d6f62f5-9885-441d-bead-3e38c1577759\" xlink:actuate=\"onRequest\" xlink:href=\"psysml:1d6f62f5-9885-441d-bead-3e38c1577759\" xlink:show=\"new\" xlink:title=\"psysml:1d6f62f5-9885-441d-bead-3e38c1577759\" xlink:type=\"simple\"><path d=\"M74.2,107 C87.83,107 103,107 103,107 C103,107 103,184.96 103,184.96 \" fill=\"none\" id=\"E13-&gt;E5\" style=\"stroke: #383838; stroke-width: 1.0;\"/><polygon fill=\"#FFFFFF\" points=\"103,204.96,96,185.96,110,185.96,103,204.96\" style=\"stroke: #383838; stroke-width: 1.0;\"/><ellipse cx=\"98\" cy=\"180.26\" fill=\"#383838\" rx=\"2\" ry=\"2\" style=\"stroke: #383838; stroke-width: 1.0;\"/><ellipse cx=\"108\" cy=\"180.26\" fill=\"#383838\" rx=\"2\" ry=\"2\" style=\"stroke: #383838; stroke-width: 1.0;\"/></a><!--MD5=[62cddbae15d6b24b825588c28ef4ad92]\n",
       "@startuml\r\n",
       "skinparam linetype ortho\r\n",
       "skinparam monochrome true\r\n",
       "skinparam classbackgroundcolor white\r\n",
       "skinparam shadowing false\r\n",
       "skinparam wrapWidth 300\r\n",
       "hide circle\r\n",
       "\r\n",
       "package \"CircularImport\" as E1  [[psysml:6a62b0bb-ce07-42d9-b06f-c19bd22a93a2 ]]  {\r\n",
       "package \"P1\" as E2  [[psysml:e5793e48-aebf-4c77-9b1c-634d316c370a ]]  {\r\n",
       "comp def \"A\" as E3  <<(T,blue)part def>> [[psysml:4745677c-bede-4ab8-acdc-4365dad759bc ]] {\r\n",
       "}\r\n",
       "}\r\n",
       "package \"P2\" as E4  [[psysml:9f128572-3fea-4fc4-b18b-c92f97cc0f0b ]]  {\r\n",
       "comp def \"B\" as E5  <<(T,blue)part def>> [[psysml:a455b6ac-bbc4-40c1-9da4-354e9f8fdc46 ]] {\r\n",
       "}\r\n",
       "}\r\n",
       "package \"Test1\" as E6  [[psysml:6c517ad3-81f8-4503-b234-41386708eb5e ]]  {\r\n",
       "comp usage \"x: A\" as E7  <<(T,blue)part>> [[psysml:6b7db59d-d003-4043-9508-3fd9ac781eff ]] {\r\n",
       "}\r\n",
       "comp usage \"y: B\" as E8  <<(T,blue)part>> [[psysml:6c414e1f-4fb5-42fd-83aa-c158d2fbc464 ]] {\r\n",
       "}\r\n",
       "E7 - -:|> E3 [[psysml:85e1ff22-6346-4a23-846d-dc1a236203c0 ]] \r\n",
       "E8 - -:|> E5 [[psysml:483adec0-2d55-41ba-876c-1b8fe7d429ab ]] \r\n",
       "}\r\n",
       "package \"Test2\" as E9  [[psysml:81951965-8d4b-42c4-ba21-4255f6488007 ]]  {\r\n",
       "comp usage \"x: A\" as E10  <<(T,blue)part>> [[psysml:797261aa-a958-4475-9de3-b139176b10fb ]] {\r\n",
       "}\r\n",
       "comp usage \"y: B\" as E11  <<(T,blue)part>> [[psysml:3825b43b-bb71-4033-970e-c8c9e00cfd14 ]] {\r\n",
       "}\r\n",
       "E10 - -:|> E3 [[psysml:0e238847-8a3c-4f4a-a4c7-c4eca45a31b2 ]] \r\n",
       "E11 - -:|> E5 [[psysml:1112046b-9823-4ab2-8a83-96247ffb9742 ]] \r\n",
       "}\r\n",
       "comp usage \"x: A\" as E12  <<(T,blue)part>> [[psysml:e16c4bbb-61f3-4b61-a2b5-b03e29e494af ]] {\r\n",
       "}\r\n",
       "comp usage \"y: B\" as E13  <<(T,blue)part>> [[psysml:6a814915-eeda-4c4d-8e98-a86878ae1f3d ]] {\r\n",
       "}\r\n",
       "E12 - -:|> E3 [[psysml:ee0d4e1c-50f8-4d3c-8a56-5035ed7c5f53 ]] \r\n",
       "E13 - -:|> E5 [[psysml:1d6f62f5-9885-441d-bead-3e38c1577759 ]] \r\n",
       "}\r\n",
       "@enduml\r\n",
       "\n",
       "PlantUML version 1.2020.13(Sat Jun 13 12:26:38 UTC 2020)\n",
       "(EPL source distribution)\n",
       "Java Runtime: OpenJDK Runtime Environment\n",
       "JVM: OpenJDK 64-Bit Server VM\n",
       "Default Encoding: UTF-8\n",
       "Language: en\n",
       "Country: null\n",
       "--></g></svg>"
      ]
     },
     "execution_count": 51,
     "metadata": {},
     "output_type": "execute_result"
    }
   ],
   "source": [
    "%viz --style=\"ORTHOLINE\" --view=\"Default\" \"CircularImport\""
   ]
  },
  {
   "cell_type": "code",
   "execution_count": 52,
   "id": "selected-roman",
   "metadata": {
    "execution": {
     "iopub.execute_input": "2021-03-25T13:13:24.030020Z",
     "iopub.status.busy": "2021-03-25T13:13:24.029629Z",
     "iopub.status.idle": "2021-03-25T13:13:24.118281Z",
     "shell.execute_reply": "2021-03-25T13:13:24.116614Z"
    }
   },
   "outputs": [
    {
     "data": {
      "image/svg+xml": [
       "<?xml version=\"1.0\" encoding=\"UTF-8\" standalone=\"no\"?><svg xmlns=\"http://www.w3.org/2000/svg\" xmlns:xlink=\"http://www.w3.org/1999/xlink\" contentScriptType=\"application/ecmascript\" contentStyleType=\"text/css\" height=\"303px\" preserveAspectRatio=\"none\" style=\"width:518px;height:303px;\" version=\"1.1\" viewBox=\"0 0 518 303\" width=\"518px\" zoomAndPan=\"magnify\"><defs/><g><!--MD5=[fbc87193dbaf4d95561dea2c320d4a47]\n",
       "cluster E1--><a href=\"psysml:6a62b0bb-ce07-42d9-b06f-c19bd22a93a2\" target=\"_top\" title=\"psysml:6a62b0bb-ce07-42d9-b06f-c19bd22a93a2\" xlink:actuate=\"onRequest\" xlink:href=\"psysml:6a62b0bb-ce07-42d9-b06f-c19bd22a93a2\" xlink:show=\"new\" xlink:title=\"psysml:6a62b0bb-ce07-42d9-b06f-c19bd22a93a2\" xlink:type=\"simple\"><polygon fill=\"#FFFFFF\" points=\"16,6,134,6,141,28.2969,496,28.2969,496,291,16,291,16,6\" style=\"stroke: #000000; stroke-width: 1.5;\"/><line style=\"stroke: #000000; stroke-width: 1.5;\" x1=\"16\" x2=\"141\" y1=\"28.2969\" y2=\"28.2969\"/><text fill=\"#000000\" font-family=\"sans-serif\" font-size=\"14\" font-weight=\"bold\" lengthAdjust=\"spacingAndGlyphs\" textLength=\"112\" x=\"20\" y=\"20.9951\">CircularImport</text></a><!--MD5=[e4f7fae6ed58524ba242bb0b0d3be6b7]\n",
       "cluster E2--><a href=\"psysml:e5793e48-aebf-4c77-9b1c-634d316c370a\" target=\"_top\" title=\"psysml:e5793e48-aebf-4c77-9b1c-634d316c370a\" xlink:actuate=\"onRequest\" xlink:href=\"psysml:e5793e48-aebf-4c77-9b1c-634d316c370a\" xlink:show=\"new\" xlink:title=\"psysml:e5793e48-aebf-4c77-9b1c-634d316c370a\" xlink:type=\"simple\"><polygon fill=\"#FFFFFF\" points=\"333,170,359,170,366,192.2969,431,192.2969,431,267,333,267,333,170\" style=\"stroke: #000000; stroke-width: 1.5;\"/><line style=\"stroke: #000000; stroke-width: 1.5;\" x1=\"333\" x2=\"366\" y1=\"192.2969\" y2=\"192.2969\"/><text fill=\"#000000\" font-family=\"sans-serif\" font-size=\"14\" font-weight=\"bold\" lengthAdjust=\"spacingAndGlyphs\" textLength=\"20\" x=\"337\" y=\"184.9951\">P1</text></a><!--MD5=[f6df4d0ebaf0b5dfb2ced0ae5af7c670]\n",
       "cluster E4--><a href=\"psysml:9f128572-3fea-4fc4-b18b-c92f97cc0f0b\" target=\"_top\" title=\"psysml:9f128572-3fea-4fc4-b18b-c92f97cc0f0b\" xlink:actuate=\"onRequest\" xlink:href=\"psysml:9f128572-3fea-4fc4-b18b-c92f97cc0f0b\" xlink:show=\"new\" xlink:title=\"psysml:9f128572-3fea-4fc4-b18b-c92f97cc0f0b\" xlink:type=\"simple\"><polygon fill=\"#FFFFFF\" points=\"81,170,107,170,114,192.2969,179,192.2969,179,267,81,267,81,170\" style=\"stroke: #000000; stroke-width: 1.5;\"/><line style=\"stroke: #000000; stroke-width: 1.5;\" x1=\"81\" x2=\"114\" y1=\"192.2969\" y2=\"192.2969\"/><text fill=\"#000000\" font-family=\"sans-serif\" font-size=\"14\" font-weight=\"bold\" lengthAdjust=\"spacingAndGlyphs\" textLength=\"20\" x=\"85\" y=\"184.9951\">P2</text></a><!--MD5=[14e3b0961a2654348d326746436168a1]\n",
       "cluster E6--><a href=\"psysml:6c517ad3-81f8-4503-b234-41386708eb5e\" target=\"_top\" title=\"psysml:6c517ad3-81f8-4503-b234-41386708eb5e\" xlink:actuate=\"onRequest\" xlink:href=\"psysml:6c517ad3-81f8-4503-b234-41386708eb5e\" xlink:show=\"new\" xlink:title=\"psysml:6c517ad3-81f8-4503-b234-41386708eb5e\" xlink:type=\"simple\"><polygon fill=\"#FFFFFF\" points=\"268,49,319,49,326,71.2969,419,71.2969,419,146,268,146,268,49\" style=\"stroke: #000000; stroke-width: 1.5;\"/><line style=\"stroke: #000000; stroke-width: 1.5;\" x1=\"268\" x2=\"326\" y1=\"71.2969\" y2=\"71.2969\"/><text fill=\"#000000\" font-family=\"sans-serif\" font-size=\"14\" font-weight=\"bold\" lengthAdjust=\"spacingAndGlyphs\" textLength=\"45\" x=\"272\" y=\"63.9951\">Test1</text></a><!--MD5=[7f149f147074ac12df2cb0a7728a5fb0]\n",
       "cluster E9--><a href=\"psysml:81951965-8d4b-42c4-ba21-4255f6488007\" target=\"_top\" title=\"psysml:81951965-8d4b-42c4-ba21-4255f6488007\" xlink:actuate=\"onRequest\" xlink:href=\"psysml:81951965-8d4b-42c4-ba21-4255f6488007\" xlink:show=\"new\" xlink:title=\"psysml:81951965-8d4b-42c4-ba21-4255f6488007\" xlink:type=\"simple\"><polygon fill=\"#FFFFFF\" points=\"93,49,144,49,151,71.2969,244,71.2969,244,146,93,146,93,49\" style=\"stroke: #000000; stroke-width: 1.5;\"/><line style=\"stroke: #000000; stroke-width: 1.5;\" x1=\"93\" x2=\"151\" y1=\"71.2969\" y2=\"71.2969\"/><text fill=\"#000000\" font-family=\"sans-serif\" font-size=\"14\" font-weight=\"bold\" lengthAdjust=\"spacingAndGlyphs\" textLength=\"45\" x=\"97\" y=\"63.9951\">Test2</text></a><!--MD5=[49a0ec8f00dab7302a31f22d0f0fe584]\n",
       "class E12--><a href=\"psysml:e16c4bbb-61f3-4b61-a2b5-b03e29e494af\" target=\"_top\" title=\"psysml:e16c4bbb-61f3-4b61-a2b5-b03e29e494af\" xlink:actuate=\"onRequest\" xlink:href=\"psysml:e16c4bbb-61f3-4b61-a2b5-b03e29e494af\" xlink:show=\"new\" xlink:title=\"psysml:e16c4bbb-61f3-4b61-a2b5-b03e29e494af\" xlink:type=\"simple\"><rect fill=\"#FFFFFF\" height=\"45.9375\" id=\"E12\" rx=\"10\" ry=\"10\" style=\"stroke: #383838; stroke-width: 1.5;\" width=\"42\" x=\"438\" y=\"84\"/><text fill=\"#000000\" font-family=\"sans-serif\" font-size=\"12\" font-style=\"italic\" lengthAdjust=\"spacingAndGlyphs\" textLength=\"40\" x=\"439\" y=\"100.1387\">«part»</text><text fill=\"#000000\" font-family=\"sans-serif\" font-size=\"12\" lengthAdjust=\"spacingAndGlyphs\" textLength=\"22\" x=\"448\" y=\"114.1074\">x: A</text><line style=\"stroke: #383838; stroke-width: 1.5;\" x1=\"439\" x2=\"479\" y1=\"121.9375\" y2=\"121.9375\"/></a><!--MD5=[ee3c913d1a06f366521f9ef512b67efe]\n",
       "class E13--><a href=\"psysml:6a814915-eeda-4c4d-8e98-a86878ae1f3d\" target=\"_top\" title=\"psysml:6a814915-eeda-4c4d-8e98-a86878ae1f3d\" xlink:actuate=\"onRequest\" xlink:href=\"psysml:6a814915-eeda-4c4d-8e98-a86878ae1f3d\" xlink:show=\"new\" xlink:title=\"psysml:6a814915-eeda-4c4d-8e98-a86878ae1f3d\" xlink:type=\"simple\"><rect fill=\"#FFFFFF\" height=\"45.9375\" id=\"E13\" rx=\"10\" ry=\"10\" style=\"stroke: #383838; stroke-width: 1.5;\" width=\"42\" x=\"32\" y=\"84\"/><text fill=\"#000000\" font-family=\"sans-serif\" font-size=\"12\" font-style=\"italic\" lengthAdjust=\"spacingAndGlyphs\" textLength=\"40\" x=\"33\" y=\"100.1387\">«part»</text><text fill=\"#000000\" font-family=\"sans-serif\" font-size=\"12\" lengthAdjust=\"spacingAndGlyphs\" textLength=\"22\" x=\"42\" y=\"114.1074\">y: B</text><line style=\"stroke: #383838; stroke-width: 1.5;\" x1=\"33\" x2=\"73\" y1=\"121.9375\" y2=\"121.9375\"/></a><!--MD5=[09b614a08d8cba4a07c9adeb5e0fee81]\n",
       "class E3--><a href=\"psysml:4745677c-bede-4ab8-acdc-4365dad759bc\" target=\"_top\" title=\"psysml:4745677c-bede-4ab8-acdc-4365dad759bc\" xlink:actuate=\"onRequest\" xlink:href=\"psysml:4745677c-bede-4ab8-acdc-4365dad759bc\" xlink:show=\"new\" xlink:title=\"psysml:4745677c-bede-4ab8-acdc-4365dad759bc\" xlink:type=\"simple\"><rect fill=\"#FFFFFF\" height=\"45.9375\" id=\"E3\" style=\"stroke: #383838; stroke-width: 1.5;\" width=\"66\" x=\"349\" y=\"205\"/><text fill=\"#000000\" font-family=\"sans-serif\" font-size=\"12\" font-style=\"italic\" lengthAdjust=\"spacingAndGlyphs\" textLength=\"64\" x=\"350\" y=\"221.1387\">«part def»</text><text fill=\"#000000\" font-family=\"sans-serif\" font-size=\"12\" lengthAdjust=\"spacingAndGlyphs\" textLength=\"8\" x=\"378\" y=\"235.1074\">A</text><line style=\"stroke: #383838; stroke-width: 1.5;\" x1=\"350\" x2=\"414\" y1=\"242.9375\" y2=\"242.9375\"/></a><!--MD5=[270fce915f116d4de14055a7c1d9a0f3]\n",
       "class E5--><a href=\"psysml:a455b6ac-bbc4-40c1-9da4-354e9f8fdc46\" target=\"_top\" title=\"psysml:a455b6ac-bbc4-40c1-9da4-354e9f8fdc46\" xlink:actuate=\"onRequest\" xlink:href=\"psysml:a455b6ac-bbc4-40c1-9da4-354e9f8fdc46\" xlink:show=\"new\" xlink:title=\"psysml:a455b6ac-bbc4-40c1-9da4-354e9f8fdc46\" xlink:type=\"simple\"><rect fill=\"#FFFFFF\" height=\"45.9375\" id=\"E5\" style=\"stroke: #383838; stroke-width: 1.5;\" width=\"66\" x=\"97\" y=\"205\"/><text fill=\"#000000\" font-family=\"sans-serif\" font-size=\"12\" font-style=\"italic\" lengthAdjust=\"spacingAndGlyphs\" textLength=\"64\" x=\"98\" y=\"221.1387\">«part def»</text><text fill=\"#000000\" font-family=\"sans-serif\" font-size=\"12\" lengthAdjust=\"spacingAndGlyphs\" textLength=\"8\" x=\"126\" y=\"235.1074\">B</text><line style=\"stroke: #383838; stroke-width: 1.5;\" x1=\"98\" x2=\"162\" y1=\"242.9375\" y2=\"242.9375\"/></a><!--MD5=[2156ba9850f5573cc1fc38a6a4b2f02b]\n",
       "class E7--><a href=\"psysml:6b7db59d-d003-4043-9508-3fd9ac781eff\" target=\"_top\" title=\"psysml:6b7db59d-d003-4043-9508-3fd9ac781eff\" xlink:actuate=\"onRequest\" xlink:href=\"psysml:6b7db59d-d003-4043-9508-3fd9ac781eff\" xlink:show=\"new\" xlink:title=\"psysml:6b7db59d-d003-4043-9508-3fd9ac781eff\" xlink:type=\"simple\"><rect fill=\"#FFFFFF\" height=\"45.9375\" id=\"E7\" rx=\"10\" ry=\"10\" style=\"stroke: #383838; stroke-width: 1.5;\" width=\"42\" x=\"361\" y=\"84\"/><text fill=\"#000000\" font-family=\"sans-serif\" font-size=\"12\" font-style=\"italic\" lengthAdjust=\"spacingAndGlyphs\" textLength=\"40\" x=\"362\" y=\"100.1387\">«part»</text><text fill=\"#000000\" font-family=\"sans-serif\" font-size=\"12\" lengthAdjust=\"spacingAndGlyphs\" textLength=\"22\" x=\"371\" y=\"114.1074\">x: A</text><line style=\"stroke: #383838; stroke-width: 1.5;\" x1=\"362\" x2=\"402\" y1=\"121.9375\" y2=\"121.9375\"/></a><!--MD5=[b9389687b975829384b498ac4b7476b2]\n",
       "class E8--><a href=\"psysml:6c414e1f-4fb5-42fd-83aa-c158d2fbc464\" target=\"_top\" title=\"psysml:6c414e1f-4fb5-42fd-83aa-c158d2fbc464\" xlink:actuate=\"onRequest\" xlink:href=\"psysml:6c414e1f-4fb5-42fd-83aa-c158d2fbc464\" xlink:show=\"new\" xlink:title=\"psysml:6c414e1f-4fb5-42fd-83aa-c158d2fbc464\" xlink:type=\"simple\"><rect fill=\"#FFFFFF\" height=\"45.9375\" id=\"E8\" rx=\"10\" ry=\"10\" style=\"stroke: #383838; stroke-width: 1.5;\" width=\"42\" x=\"284\" y=\"84\"/><text fill=\"#000000\" font-family=\"sans-serif\" font-size=\"12\" font-style=\"italic\" lengthAdjust=\"spacingAndGlyphs\" textLength=\"40\" x=\"285\" y=\"100.1387\">«part»</text><text fill=\"#000000\" font-family=\"sans-serif\" font-size=\"12\" lengthAdjust=\"spacingAndGlyphs\" textLength=\"22\" x=\"294\" y=\"114.1074\">y: B</text><line style=\"stroke: #383838; stroke-width: 1.5;\" x1=\"285\" x2=\"325\" y1=\"121.9375\" y2=\"121.9375\"/></a><!--MD5=[96f4274e9e20536e775497830990834d]\n",
       "class E10--><a href=\"psysml:797261aa-a958-4475-9de3-b139176b10fb\" target=\"_top\" title=\"psysml:797261aa-a958-4475-9de3-b139176b10fb\" xlink:actuate=\"onRequest\" xlink:href=\"psysml:797261aa-a958-4475-9de3-b139176b10fb\" xlink:show=\"new\" xlink:title=\"psysml:797261aa-a958-4475-9de3-b139176b10fb\" xlink:type=\"simple\"><rect fill=\"#FFFFFF\" height=\"45.9375\" id=\"E10\" rx=\"10\" ry=\"10\" style=\"stroke: #383838; stroke-width: 1.5;\" width=\"42\" x=\"186\" y=\"84\"/><text fill=\"#000000\" font-family=\"sans-serif\" font-size=\"12\" font-style=\"italic\" lengthAdjust=\"spacingAndGlyphs\" textLength=\"40\" x=\"187\" y=\"100.1387\">«part»</text><text fill=\"#000000\" font-family=\"sans-serif\" font-size=\"12\" lengthAdjust=\"spacingAndGlyphs\" textLength=\"22\" x=\"196\" y=\"114.1074\">x: A</text><line style=\"stroke: #383838; stroke-width: 1.5;\" x1=\"187\" x2=\"227\" y1=\"121.9375\" y2=\"121.9375\"/></a><!--MD5=[1dd1bfd58a279cf63c5f349dbc8fc6a1]\n",
       "class E11--><a href=\"psysml:3825b43b-bb71-4033-970e-c8c9e00cfd14\" target=\"_top\" title=\"psysml:3825b43b-bb71-4033-970e-c8c9e00cfd14\" xlink:actuate=\"onRequest\" xlink:href=\"psysml:3825b43b-bb71-4033-970e-c8c9e00cfd14\" xlink:show=\"new\" xlink:title=\"psysml:3825b43b-bb71-4033-970e-c8c9e00cfd14\" xlink:type=\"simple\"><rect fill=\"#FFFFFF\" height=\"45.9375\" id=\"E11\" rx=\"10\" ry=\"10\" style=\"stroke: #383838; stroke-width: 1.5;\" width=\"42\" x=\"109\" y=\"84\"/><text fill=\"#000000\" font-family=\"sans-serif\" font-size=\"12\" font-style=\"italic\" lengthAdjust=\"spacingAndGlyphs\" textLength=\"40\" x=\"110\" y=\"100.1387\">«part»</text><text fill=\"#000000\" font-family=\"sans-serif\" font-size=\"12\" lengthAdjust=\"spacingAndGlyphs\" textLength=\"22\" x=\"119\" y=\"114.1074\">y: B</text><line style=\"stroke: #383838; stroke-width: 1.5;\" x1=\"110\" x2=\"150\" y1=\"121.9375\" y2=\"121.9375\"/></a><!--MD5=[14ccda38c055a5c0da953d572bc50960]\n",
       "link E7 to E3--><a href=\"psysml:85e1ff22-6346-4a23-846d-dc1a236203c0\" target=\"_top\" title=\"psysml:85e1ff22-6346-4a23-846d-dc1a236203c0\" xlink:actuate=\"onRequest\" xlink:href=\"psysml:85e1ff22-6346-4a23-846d-dc1a236203c0\" xlink:show=\"new\" xlink:title=\"psysml:85e1ff22-6346-4a23-846d-dc1a236203c0\" xlink:type=\"simple\"><path d=\"M382,130.04 C382,130.04 382,184.63 382,184.63 \" fill=\"none\" id=\"E7-&gt;E3\" style=\"stroke: #383838; stroke-width: 1.0;\"/><polygon fill=\"#FFFFFF\" points=\"382,204.63,375,185.63,389,185.63,382,204.63\" style=\"stroke: #383838; stroke-width: 1.0;\"/><ellipse cx=\"377\" cy=\"179.93\" fill=\"#383838\" rx=\"2\" ry=\"2\" style=\"stroke: #383838; stroke-width: 1.0;\"/><ellipse cx=\"387\" cy=\"179.93\" fill=\"#383838\" rx=\"2\" ry=\"2\" style=\"stroke: #383838; stroke-width: 1.0;\"/></a><!--MD5=[1ccb2481ffa92f8d51a74ee30c51832a]\n",
       "link E8 to E5--><a href=\"psysml:483adec0-2d55-41ba-876c-1b8fe7d429ab\" target=\"_top\" title=\"psysml:483adec0-2d55-41ba-876c-1b8fe7d429ab\" xlink:actuate=\"onRequest\" xlink:href=\"psysml:483adec0-2d55-41ba-876c-1b8fe7d429ab\" xlink:show=\"new\" xlink:title=\"psysml:483adec0-2d55-41ba-876c-1b8fe7d429ab\" xlink:type=\"simple\"><path d=\"M305,130.06 C305,167.17 305,236 305,236 C305,236 183.33,236 183.33,236 \" fill=\"none\" id=\"E8-&gt;E5\" style=\"stroke: #383838; stroke-width: 1.0;\"/><polygon fill=\"#FFFFFF\" points=\"163.33,236,182.33,229,182.33,243,163.33,236\" style=\"stroke: #383838; stroke-width: 1.0;\"/><ellipse cx=\"188.03\" cy=\"231\" fill=\"#383838\" rx=\"2\" ry=\"2\" style=\"stroke: #383838; stroke-width: 1.0;\"/><ellipse cx=\"188.03\" cy=\"241\" fill=\"#383838\" rx=\"2\" ry=\"2\" style=\"stroke: #383838; stroke-width: 1.0;\"/></a><!--MD5=[feeac5eb423634930294aa81f2d25a4c]\n",
       "link E10 to E3--><a href=\"psysml:0e238847-8a3c-4f4a-a4c7-c4eca45a31b2\" target=\"_top\" title=\"psysml:0e238847-8a3c-4f4a-a4c7-c4eca45a31b2\" xlink:actuate=\"onRequest\" xlink:href=\"psysml:0e238847-8a3c-4f4a-a4c7-c4eca45a31b2\" xlink:show=\"new\" xlink:title=\"psysml:0e238847-8a3c-4f4a-a4c7-c4eca45a31b2\" xlink:type=\"simple\"><path d=\"M207,130.07 C207,163.38 207,221 207,221 C207,221 328.67,221 328.67,221 \" fill=\"none\" id=\"E10-&gt;E3\" style=\"stroke: #383838; stroke-width: 1.0;\"/><polygon fill=\"#FFFFFF\" points=\"348.67,221,329.67,228,329.67,214,348.67,221\" style=\"stroke: #383838; stroke-width: 1.0;\"/><ellipse cx=\"323.97\" cy=\"226\" fill=\"#383838\" rx=\"2\" ry=\"2\" style=\"stroke: #383838; stroke-width: 1.0;\"/><ellipse cx=\"323.97\" cy=\"216\" fill=\"#383838\" rx=\"2\" ry=\"2\" style=\"stroke: #383838; stroke-width: 1.0;\"/></a><!--MD5=[07b77f6f309248d16187045709d1c26e]\n",
       "link E11 to E5--><a href=\"psysml:1112046b-9823-4ab2-8a83-96247ffb9742\" target=\"_top\" title=\"psysml:1112046b-9823-4ab2-8a83-96247ffb9742\" xlink:actuate=\"onRequest\" xlink:href=\"psysml:1112046b-9823-4ab2-8a83-96247ffb9742\" xlink:show=\"new\" xlink:title=\"psysml:1112046b-9823-4ab2-8a83-96247ffb9742\" xlink:type=\"simple\"><path d=\"M130,130.04 C130,130.04 130,184.63 130,184.63 \" fill=\"none\" id=\"E11-&gt;E5\" style=\"stroke: #383838; stroke-width: 1.0;\"/><polygon fill=\"#FFFFFF\" points=\"130,204.63,123,185.63,137,185.63,130,204.63\" style=\"stroke: #383838; stroke-width: 1.0;\"/><ellipse cx=\"125\" cy=\"179.93\" fill=\"#383838\" rx=\"2\" ry=\"2\" style=\"stroke: #383838; stroke-width: 1.0;\"/><ellipse cx=\"135\" cy=\"179.93\" fill=\"#383838\" rx=\"2\" ry=\"2\" style=\"stroke: #383838; stroke-width: 1.0;\"/></a><!--MD5=[39f41a0e550fb3d73b4d8135617e30a2]\n",
       "link E12 to E3--><a href=\"psysml:ee0d4e1c-50f8-4d3c-8a56-5035ed7c5f53\" target=\"_top\" title=\"psysml:ee0d4e1c-50f8-4d3c-8a56-5035ed7c5f53\" xlink:actuate=\"onRequest\" xlink:href=\"psysml:ee0d4e1c-50f8-4d3c-8a56-5035ed7c5f53\" xlink:show=\"new\" xlink:title=\"psysml:ee0d4e1c-50f8-4d3c-8a56-5035ed7c5f53\" xlink:type=\"simple\"><path d=\"M437.8,107 C424.17,107 409,107 409,107 C409,107 409,184.96 409,184.96 \" fill=\"none\" id=\"E12-&gt;E3\" style=\"stroke: #383838; stroke-width: 1.0;\"/><polygon fill=\"#FFFFFF\" points=\"409,204.96,402,185.96,416,185.96,409,204.96\" style=\"stroke: #383838; stroke-width: 1.0;\"/><ellipse cx=\"404\" cy=\"180.26\" fill=\"#383838\" rx=\"2\" ry=\"2\" style=\"stroke: #383838; stroke-width: 1.0;\"/><ellipse cx=\"414\" cy=\"180.26\" fill=\"#383838\" rx=\"2\" ry=\"2\" style=\"stroke: #383838; stroke-width: 1.0;\"/></a><!--MD5=[066b2d8af59fea80ccdb3d54ad5c1091]\n",
       "link E13 to E5--><a href=\"psysml:1d6f62f5-9885-441d-bead-3e38c1577759\" target=\"_top\" title=\"psysml:1d6f62f5-9885-441d-bead-3e38c1577759\" xlink:actuate=\"onRequest\" xlink:href=\"psysml:1d6f62f5-9885-441d-bead-3e38c1577759\" xlink:show=\"new\" xlink:title=\"psysml:1d6f62f5-9885-441d-bead-3e38c1577759\" xlink:type=\"simple\"><path d=\"M74.2,107 C87.83,107 103,107 103,107 C103,107 103,184.96 103,184.96 \" fill=\"none\" id=\"E13-&gt;E5\" style=\"stroke: #383838; stroke-width: 1.0;\"/><polygon fill=\"#FFFFFF\" points=\"103,204.96,96,185.96,110,185.96,103,204.96\" style=\"stroke: #383838; stroke-width: 1.0;\"/><ellipse cx=\"98\" cy=\"180.26\" fill=\"#383838\" rx=\"2\" ry=\"2\" style=\"stroke: #383838; stroke-width: 1.0;\"/><ellipse cx=\"108\" cy=\"180.26\" fill=\"#383838\" rx=\"2\" ry=\"2\" style=\"stroke: #383838; stroke-width: 1.0;\"/></a><!--MD5=[62cddbae15d6b24b825588c28ef4ad92]\n",
       "@startuml\r\n",
       "skinparam linetype ortho\r\n",
       "skinparam monochrome true\r\n",
       "skinparam classbackgroundcolor white\r\n",
       "skinparam shadowing false\r\n",
       "skinparam wrapWidth 300\r\n",
       "hide circle\r\n",
       "\r\n",
       "package \"CircularImport\" as E1  [[psysml:6a62b0bb-ce07-42d9-b06f-c19bd22a93a2 ]]  {\r\n",
       "package \"P1\" as E2  [[psysml:e5793e48-aebf-4c77-9b1c-634d316c370a ]]  {\r\n",
       "comp def \"A\" as E3  <<(T,blue)part def>> [[psysml:4745677c-bede-4ab8-acdc-4365dad759bc ]] {\r\n",
       "}\r\n",
       "}\r\n",
       "package \"P2\" as E4  [[psysml:9f128572-3fea-4fc4-b18b-c92f97cc0f0b ]]  {\r\n",
       "comp def \"B\" as E5  <<(T,blue)part def>> [[psysml:a455b6ac-bbc4-40c1-9da4-354e9f8fdc46 ]] {\r\n",
       "}\r\n",
       "}\r\n",
       "package \"Test1\" as E6  [[psysml:6c517ad3-81f8-4503-b234-41386708eb5e ]]  {\r\n",
       "comp usage \"x: A\" as E7  <<(T,blue)part>> [[psysml:6b7db59d-d003-4043-9508-3fd9ac781eff ]] {\r\n",
       "}\r\n",
       "comp usage \"y: B\" as E8  <<(T,blue)part>> [[psysml:6c414e1f-4fb5-42fd-83aa-c158d2fbc464 ]] {\r\n",
       "}\r\n",
       "E7 - -:|> E3 [[psysml:85e1ff22-6346-4a23-846d-dc1a236203c0 ]] \r\n",
       "E8 - -:|> E5 [[psysml:483adec0-2d55-41ba-876c-1b8fe7d429ab ]] \r\n",
       "}\r\n",
       "package \"Test2\" as E9  [[psysml:81951965-8d4b-42c4-ba21-4255f6488007 ]]  {\r\n",
       "comp usage \"x: A\" as E10  <<(T,blue)part>> [[psysml:797261aa-a958-4475-9de3-b139176b10fb ]] {\r\n",
       "}\r\n",
       "comp usage \"y: B\" as E11  <<(T,blue)part>> [[psysml:3825b43b-bb71-4033-970e-c8c9e00cfd14 ]] {\r\n",
       "}\r\n",
       "E10 - -:|> E3 [[psysml:0e238847-8a3c-4f4a-a4c7-c4eca45a31b2 ]] \r\n",
       "E11 - -:|> E5 [[psysml:1112046b-9823-4ab2-8a83-96247ffb9742 ]] \r\n",
       "}\r\n",
       "comp usage \"x: A\" as E12  <<(T,blue)part>> [[psysml:e16c4bbb-61f3-4b61-a2b5-b03e29e494af ]] {\r\n",
       "}\r\n",
       "comp usage \"y: B\" as E13  <<(T,blue)part>> [[psysml:6a814915-eeda-4c4d-8e98-a86878ae1f3d ]] {\r\n",
       "}\r\n",
       "E12 - -:|> E3 [[psysml:ee0d4e1c-50f8-4d3c-8a56-5035ed7c5f53 ]] \r\n",
       "E13 - -:|> E5 [[psysml:1d6f62f5-9885-441d-bead-3e38c1577759 ]] \r\n",
       "}\r\n",
       "@enduml\r\n",
       "\n",
       "PlantUML version 1.2020.13(Sat Jun 13 12:26:38 UTC 2020)\n",
       "(EPL source distribution)\n",
       "Java Runtime: OpenJDK Runtime Environment\n",
       "JVM: OpenJDK 64-Bit Server VM\n",
       "Default Encoding: UTF-8\n",
       "Language: en\n",
       "Country: null\n",
       "--></g></svg>"
      ]
     },
     "execution_count": 52,
     "metadata": {},
     "output_type": "execute_result"
    }
   ],
   "source": [
    "%viz --style=\"ORTHOLINE\" --view=\"Tree\" \"CircularImport\""
   ]
  },
  {
   "cell_type": "code",
   "execution_count": 53,
   "id": "understood-liberty",
   "metadata": {
    "execution": {
     "iopub.execute_input": "2021-03-25T13:13:24.170070Z",
     "iopub.status.busy": "2021-03-25T13:13:24.169531Z",
     "iopub.status.idle": "2021-03-25T13:13:24.176219Z",
     "shell.execute_reply": "2021-03-25T13:13:24.175817Z"
    }
   },
   "outputs": [
    {
     "data": {
      "image/svg+xml": [
       "<?xml version=\"1.0\" encoding=\"UTF-8\" standalone=\"no\"?><svg xmlns=\"http://www.w3.org/2000/svg\" xmlns:xlink=\"http://www.w3.org/1999/xlink\" contentScriptType=\"application/ecmascript\" contentStyleType=\"text/css\" height=\"12px\" preserveAspectRatio=\"none\" style=\"width:12px;height:12px;\" version=\"1.1\" viewBox=\"0 0 12 12\" width=\"12px\" zoomAndPan=\"magnify\"><defs/><g><!--MD5=[97d6f38768b311333d388e66b2b27985]\n",
       "@startuml\r\n",
       "skinparam linetype ortho\r\n",
       "skinparam monochrome true\r\n",
       "skinparam classbackgroundcolor white\r\n",
       "skinparam shadowing false\r\n",
       "skinparam wrapWidth 300\r\n",
       "hide circle\r\n",
       "\r\n",
       "@enduml\r\n",
       "\n",
       "PlantUML version 1.2020.13(Sat Jun 13 12:26:38 UTC 2020)\n",
       "(EPL source distribution)\n",
       "Java Runtime: OpenJDK Runtime Environment\n",
       "JVM: OpenJDK 64-Bit Server VM\n",
       "Default Encoding: UTF-8\n",
       "Language: en\n",
       "Country: null\n",
       "--></g></svg>"
      ]
     },
     "execution_count": 53,
     "metadata": {},
     "output_type": "execute_result"
    }
   ],
   "source": [
    "%viz --style=\"ORTHOLINE\" --view=\"State\" \"CircularImport\""
   ]
  },
  {
   "cell_type": "code",
   "execution_count": 54,
   "id": "greek-sitting",
   "metadata": {
    "execution": {
     "iopub.execute_input": "2021-03-25T13:13:24.226572Z",
     "iopub.status.busy": "2021-03-25T13:13:24.226112Z",
     "iopub.status.idle": "2021-03-25T13:13:24.294790Z",
     "shell.execute_reply": "2021-03-25T13:13:24.293352Z"
    }
   },
   "outputs": [
    {
     "data": {
      "image/svg+xml": [
       "<?xml version=\"1.0\" encoding=\"UTF-8\" standalone=\"no\"?><svg xmlns=\"http://www.w3.org/2000/svg\" xmlns:xlink=\"http://www.w3.org/1999/xlink\" contentScriptType=\"application/ecmascript\" contentStyleType=\"text/css\" height=\"179px\" preserveAspectRatio=\"none\" style=\"width:846px;height:179px;\" version=\"1.1\" viewBox=\"0 0 846 179\" width=\"846px\" zoomAndPan=\"magnify\"><defs/><g><!--MD5=[fbc87193dbaf4d95561dea2c320d4a47]\n",
       "cluster E1--><a href=\"psysml:6a62b0bb-ce07-42d9-b06f-c19bd22a93a2\" target=\"_top\" title=\"psysml:6a62b0bb-ce07-42d9-b06f-c19bd22a93a2\" xlink:actuate=\"onRequest\" xlink:href=\"psysml:6a62b0bb-ce07-42d9-b06f-c19bd22a93a2\" xlink:show=\"new\" xlink:title=\"psysml:6a62b0bb-ce07-42d9-b06f-c19bd22a93a2\" xlink:type=\"simple\"><polygon fill=\"#FFFFFF\" points=\"16,6,134,6,141,28.2969,824,28.2969,824,167,16,167,16,6\" style=\"stroke: #000000; stroke-width: 1.5;\"/><line style=\"stroke: #000000; stroke-width: 1.5;\" x1=\"16\" x2=\"141\" y1=\"28.2969\" y2=\"28.2969\"/><text fill=\"#000000\" font-family=\"sans-serif\" font-size=\"14\" font-weight=\"bold\" lengthAdjust=\"spacingAndGlyphs\" textLength=\"112\" x=\"20\" y=\"20.9951\">CircularImport</text></a><!--MD5=[e4f7fae6ed58524ba242bb0b0d3be6b7]\n",
       "cluster E2--><a href=\"psysml:e5793e48-aebf-4c77-9b1c-634d316c370a\" target=\"_top\" title=\"psysml:e5793e48-aebf-4c77-9b1c-634d316c370a\" xlink:actuate=\"onRequest\" xlink:href=\"psysml:e5793e48-aebf-4c77-9b1c-634d316c370a\" xlink:show=\"new\" xlink:title=\"psysml:e5793e48-aebf-4c77-9b1c-634d316c370a\" xlink:type=\"simple\"><polygon fill=\"#FFFFFF\" points=\"696,49,722,49,729,71.2969,800,71.2969,800,143,696,143,696,49\" style=\"stroke: #000000; stroke-width: 1.5;\"/><line style=\"stroke: #000000; stroke-width: 1.5;\" x1=\"696\" x2=\"729\" y1=\"71.2969\" y2=\"71.2969\"/><text fill=\"#000000\" font-family=\"sans-serif\" font-size=\"14\" font-weight=\"bold\" lengthAdjust=\"spacingAndGlyphs\" textLength=\"20\" x=\"700\" y=\"63.9951\">P1</text></a><!--MD5=[f6df4d0ebaf0b5dfb2ced0ae5af7c670]\n",
       "cluster E4--><a href=\"psysml:9f128572-3fea-4fc4-b18b-c92f97cc0f0b\" target=\"_top\" title=\"psysml:9f128572-3fea-4fc4-b18b-c92f97cc0f0b\" xlink:actuate=\"onRequest\" xlink:href=\"psysml:9f128572-3fea-4fc4-b18b-c92f97cc0f0b\" xlink:show=\"new\" xlink:title=\"psysml:9f128572-3fea-4fc4-b18b-c92f97cc0f0b\" xlink:type=\"simple\"><polygon fill=\"#FFFFFF\" points=\"568,49,594,49,601,71.2969,672,71.2969,672,143,568,143,568,49\" style=\"stroke: #000000; stroke-width: 1.5;\"/><line style=\"stroke: #000000; stroke-width: 1.5;\" x1=\"568\" x2=\"601\" y1=\"71.2969\" y2=\"71.2969\"/><text fill=\"#000000\" font-family=\"sans-serif\" font-size=\"14\" font-weight=\"bold\" lengthAdjust=\"spacingAndGlyphs\" textLength=\"20\" x=\"572\" y=\"63.9951\">P2</text></a><!--MD5=[14e3b0961a2654348d326746436168a1]\n",
       "cluster E6--><a href=\"psysml:6c517ad3-81f8-4503-b234-41386708eb5e\" target=\"_top\" title=\"psysml:6c517ad3-81f8-4503-b234-41386708eb5e\" xlink:actuate=\"onRequest\" xlink:href=\"psysml:6c517ad3-81f8-4503-b234-41386708eb5e\" xlink:show=\"new\" xlink:title=\"psysml:6c517ad3-81f8-4503-b234-41386708eb5e\" xlink:type=\"simple\"><polygon fill=\"#FFFFFF\" points=\"377,50.5,428,50.5,435,72.7969,544,72.7969,544,141.5,377,141.5,377,50.5\" style=\"stroke: #000000; stroke-width: 1.5;\"/><line style=\"stroke: #000000; stroke-width: 1.5;\" x1=\"377\" x2=\"435\" y1=\"72.7969\" y2=\"72.7969\"/><text fill=\"#000000\" font-family=\"sans-serif\" font-size=\"14\" font-weight=\"bold\" lengthAdjust=\"spacingAndGlyphs\" textLength=\"45\" x=\"381\" y=\"65.4951\">Test1</text></a><!--MD5=[7f149f147074ac12df2cb0a7728a5fb0]\n",
       "cluster E9--><a href=\"psysml:81951965-8d4b-42c4-ba21-4255f6488007\" target=\"_top\" title=\"psysml:81951965-8d4b-42c4-ba21-4255f6488007\" xlink:actuate=\"onRequest\" xlink:href=\"psysml:81951965-8d4b-42c4-ba21-4255f6488007\" xlink:show=\"new\" xlink:title=\"psysml:81951965-8d4b-42c4-ba21-4255f6488007\" xlink:type=\"simple\"><polygon fill=\"#FFFFFF\" points=\"186,50.5,237,50.5,244,72.7969,353,72.7969,353,141.5,186,141.5,186,50.5\" style=\"stroke: #000000; stroke-width: 1.5;\"/><line style=\"stroke: #000000; stroke-width: 1.5;\" x1=\"186\" x2=\"244\" y1=\"72.7969\" y2=\"72.7969\"/><text fill=\"#000000\" font-family=\"sans-serif\" font-size=\"14\" font-weight=\"bold\" lengthAdjust=\"spacingAndGlyphs\" textLength=\"45\" x=\"190\" y=\"65.4951\">Test2</text></a><g id=\"E1.E2.E3\"><a href=\"psysml:4745677c-bede-4ab8-acdc-4365dad759bc\" target=\"_top\" title=\"psysml:4745677c-bede-4ab8-acdc-4365dad759bc\" xlink:actuate=\"onRequest\" xlink:href=\"psysml:4745677c-bede-4ab8-acdc-4365dad759bc\" xlink:show=\"new\" xlink:title=\"psysml:4745677c-bede-4ab8-acdc-4365dad759bc\" xlink:type=\"simple\"><rect fill=\"#FFFFFF\" height=\"42.9375\" id=\"E3\" style=\"stroke: #383838; stroke-width: 1.5;\" width=\"71\" x=\"712.5\" y=\"84\"/><rect fill=\"#F8F8F8\" height=\"37.9375\" style=\"stroke: #383838; stroke-width: 1.5;\" width=\"71\" x=\"712.5\" y=\"84\"/><text fill=\"#000000\" font-family=\"sans-serif\" font-size=\"12\" font-style=\"italic\" lengthAdjust=\"spacingAndGlyphs\" textLength=\"64\" x=\"716\" y=\"100.1387\">«part def»</text><text fill=\"#000000\" font-family=\"sans-serif\" font-size=\"12\" lengthAdjust=\"spacingAndGlyphs\" textLength=\"8\" x=\"744\" y=\"114.1074\">A</text></a></g><g id=\"E1.E4.E5\"><a href=\"psysml:a455b6ac-bbc4-40c1-9da4-354e9f8fdc46\" target=\"_top\" title=\"psysml:a455b6ac-bbc4-40c1-9da4-354e9f8fdc46\" xlink:actuate=\"onRequest\" xlink:href=\"psysml:a455b6ac-bbc4-40c1-9da4-354e9f8fdc46\" xlink:show=\"new\" xlink:title=\"psysml:a455b6ac-bbc4-40c1-9da4-354e9f8fdc46\" xlink:type=\"simple\"><rect fill=\"#FFFFFF\" height=\"42.9375\" id=\"E5\" style=\"stroke: #383838; stroke-width: 1.5;\" width=\"71\" x=\"584.5\" y=\"84\"/><rect fill=\"#F8F8F8\" height=\"37.9375\" style=\"stroke: #383838; stroke-width: 1.5;\" width=\"71\" x=\"584.5\" y=\"84\"/><text fill=\"#000000\" font-family=\"sans-serif\" font-size=\"12\" font-style=\"italic\" lengthAdjust=\"spacingAndGlyphs\" textLength=\"64\" x=\"588\" y=\"100.1387\">«part def»</text><text fill=\"#000000\" font-family=\"sans-serif\" font-size=\"12\" lengthAdjust=\"spacingAndGlyphs\" textLength=\"8\" x=\"616\" y=\"114.1074\">B</text></a></g><g id=\"E1.E6.E7\"><a href=\"psysml:6b7db59d-d003-4043-9508-3fd9ac781eff\" target=\"_top\" title=\"psysml:6b7db59d-d003-4043-9508-3fd9ac781eff\" xlink:actuate=\"onRequest\" xlink:href=\"psysml:6b7db59d-d003-4043-9508-3fd9ac781eff\" xlink:show=\"new\" xlink:title=\"psysml:6b7db59d-d003-4043-9508-3fd9ac781eff\" xlink:type=\"simple\"><rect fill=\"#FFFFFF\" height=\"40\" id=\"E7\" rx=\"10\" ry=\"10\" style=\"stroke: #383838; stroke-width: 1.5;\" width=\"50\" x=\"478\" y=\"85.5\"/><rect fill=\"#F8F8F8\" height=\"23.9688\" rx=\"10\" ry=\"10\" style=\"stroke: #F8F8F8; stroke-width: 1.5;\" width=\"50\" x=\"478\" y=\"85.5\"/><rect fill=\"#F8F8F8\" height=\"10\" style=\"stroke: #F8F8F8; stroke-width: 1.5;\" width=\"50\" x=\"478\" y=\"99.4688\"/><rect fill=\"none\" height=\"40\" id=\"E7\" rx=\"10\" ry=\"10\" style=\"stroke: #383838; stroke-width: 1.5;\" width=\"50\" x=\"478\" y=\"85.5\"/><text fill=\"#000000\" font-family=\"sans-serif\" font-size=\"12\" lengthAdjust=\"spacingAndGlyphs\" textLength=\"22\" x=\"492\" y=\"101.6387\">x: A</text></a></g><g id=\"E1.E6.E8\"><a href=\"psysml:6c414e1f-4fb5-42fd-83aa-c158d2fbc464\" target=\"_top\" title=\"psysml:6c414e1f-4fb5-42fd-83aa-c158d2fbc464\" xlink:actuate=\"onRequest\" xlink:href=\"psysml:6c414e1f-4fb5-42fd-83aa-c158d2fbc464\" xlink:show=\"new\" xlink:title=\"psysml:6c414e1f-4fb5-42fd-83aa-c158d2fbc464\" xlink:type=\"simple\"><rect fill=\"#FFFFFF\" height=\"40\" id=\"E8\" rx=\"10\" ry=\"10\" style=\"stroke: #383838; stroke-width: 1.5;\" width=\"50\" x=\"393\" y=\"85.5\"/><rect fill=\"#F8F8F8\" height=\"23.9688\" rx=\"10\" ry=\"10\" style=\"stroke: #F8F8F8; stroke-width: 1.5;\" width=\"50\" x=\"393\" y=\"85.5\"/><rect fill=\"#F8F8F8\" height=\"10\" style=\"stroke: #F8F8F8; stroke-width: 1.5;\" width=\"50\" x=\"393\" y=\"99.4688\"/><rect fill=\"none\" height=\"40\" id=\"E8\" rx=\"10\" ry=\"10\" style=\"stroke: #383838; stroke-width: 1.5;\" width=\"50\" x=\"393\" y=\"85.5\"/><text fill=\"#000000\" font-family=\"sans-serif\" font-size=\"12\" lengthAdjust=\"spacingAndGlyphs\" textLength=\"22\" x=\"407\" y=\"101.6387\">y: B</text></a></g><g id=\"E1.E9.E10\"><a href=\"psysml:797261aa-a958-4475-9de3-b139176b10fb\" target=\"_top\" title=\"psysml:797261aa-a958-4475-9de3-b139176b10fb\" xlink:actuate=\"onRequest\" xlink:href=\"psysml:797261aa-a958-4475-9de3-b139176b10fb\" xlink:show=\"new\" xlink:title=\"psysml:797261aa-a958-4475-9de3-b139176b10fb\" xlink:type=\"simple\"><rect fill=\"#FFFFFF\" height=\"40\" id=\"E10\" rx=\"10\" ry=\"10\" style=\"stroke: #383838; stroke-width: 1.5;\" width=\"50\" x=\"287\" y=\"85.5\"/><rect fill=\"#F8F8F8\" height=\"23.9688\" rx=\"10\" ry=\"10\" style=\"stroke: #F8F8F8; stroke-width: 1.5;\" width=\"50\" x=\"287\" y=\"85.5\"/><rect fill=\"#F8F8F8\" height=\"10\" style=\"stroke: #F8F8F8; stroke-width: 1.5;\" width=\"50\" x=\"287\" y=\"99.4688\"/><rect fill=\"none\" height=\"40\" id=\"E10\" rx=\"10\" ry=\"10\" style=\"stroke: #383838; stroke-width: 1.5;\" width=\"50\" x=\"287\" y=\"85.5\"/><text fill=\"#000000\" font-family=\"sans-serif\" font-size=\"12\" lengthAdjust=\"spacingAndGlyphs\" textLength=\"22\" x=\"301\" y=\"101.6387\">x: A</text></a></g><g id=\"E1.E9.E11\"><a href=\"psysml:3825b43b-bb71-4033-970e-c8c9e00cfd14\" target=\"_top\" title=\"psysml:3825b43b-bb71-4033-970e-c8c9e00cfd14\" xlink:actuate=\"onRequest\" xlink:href=\"psysml:3825b43b-bb71-4033-970e-c8c9e00cfd14\" xlink:show=\"new\" xlink:title=\"psysml:3825b43b-bb71-4033-970e-c8c9e00cfd14\" xlink:type=\"simple\"><rect fill=\"#FFFFFF\" height=\"40\" id=\"E11\" rx=\"10\" ry=\"10\" style=\"stroke: #383838; stroke-width: 1.5;\" width=\"50\" x=\"202\" y=\"85.5\"/><rect fill=\"#F8F8F8\" height=\"23.9688\" rx=\"10\" ry=\"10\" style=\"stroke: #F8F8F8; stroke-width: 1.5;\" width=\"50\" x=\"202\" y=\"85.5\"/><rect fill=\"#F8F8F8\" height=\"10\" style=\"stroke: #F8F8F8; stroke-width: 1.5;\" width=\"50\" x=\"202\" y=\"99.4688\"/><rect fill=\"none\" height=\"40\" id=\"E11\" rx=\"10\" ry=\"10\" style=\"stroke: #383838; stroke-width: 1.5;\" width=\"50\" x=\"202\" y=\"85.5\"/><text fill=\"#000000\" font-family=\"sans-serif\" font-size=\"12\" lengthAdjust=\"spacingAndGlyphs\" textLength=\"22\" x=\"216\" y=\"101.6387\">y: B</text></a></g><g id=\"E1.E12\"><a href=\"psysml:e16c4bbb-61f3-4b61-a2b5-b03e29e494af\" target=\"_top\" title=\"psysml:e16c4bbb-61f3-4b61-a2b5-b03e29e494af\" xlink:actuate=\"onRequest\" xlink:href=\"psysml:e16c4bbb-61f3-4b61-a2b5-b03e29e494af\" xlink:show=\"new\" xlink:title=\"psysml:e16c4bbb-61f3-4b61-a2b5-b03e29e494af\" xlink:type=\"simple\"><rect fill=\"#FFFFFF\" height=\"40\" id=\"E12\" rx=\"10\" ry=\"10\" style=\"stroke: #383838; stroke-width: 1.5;\" width=\"50\" x=\"117\" y=\"85.5\"/><rect fill=\"#F8F8F8\" height=\"23.9688\" rx=\"10\" ry=\"10\" style=\"stroke: #F8F8F8; stroke-width: 1.5;\" width=\"50\" x=\"117\" y=\"85.5\"/><rect fill=\"#F8F8F8\" height=\"10\" style=\"stroke: #F8F8F8; stroke-width: 1.5;\" width=\"50\" x=\"117\" y=\"99.4688\"/><rect fill=\"none\" height=\"40\" id=\"E12\" rx=\"10\" ry=\"10\" style=\"stroke: #383838; stroke-width: 1.5;\" width=\"50\" x=\"117\" y=\"85.5\"/><text fill=\"#000000\" font-family=\"sans-serif\" font-size=\"12\" lengthAdjust=\"spacingAndGlyphs\" textLength=\"22\" x=\"131\" y=\"101.6387\">x: A</text></a></g><g id=\"E1.E13\"><a href=\"psysml:6a814915-eeda-4c4d-8e98-a86878ae1f3d\" target=\"_top\" title=\"psysml:6a814915-eeda-4c4d-8e98-a86878ae1f3d\" xlink:actuate=\"onRequest\" xlink:href=\"psysml:6a814915-eeda-4c4d-8e98-a86878ae1f3d\" xlink:show=\"new\" xlink:title=\"psysml:6a814915-eeda-4c4d-8e98-a86878ae1f3d\" xlink:type=\"simple\"><rect fill=\"#FFFFFF\" height=\"40\" id=\"E13\" rx=\"10\" ry=\"10\" style=\"stroke: #383838; stroke-width: 1.5;\" width=\"50\" x=\"32\" y=\"85.5\"/><rect fill=\"#F8F8F8\" height=\"23.9688\" rx=\"10\" ry=\"10\" style=\"stroke: #F8F8F8; stroke-width: 1.5;\" width=\"50\" x=\"32\" y=\"85.5\"/><rect fill=\"#F8F8F8\" height=\"10\" style=\"stroke: #F8F8F8; stroke-width: 1.5;\" width=\"50\" x=\"32\" y=\"99.4688\"/><rect fill=\"none\" height=\"40\" id=\"E13\" rx=\"10\" ry=\"10\" style=\"stroke: #383838; stroke-width: 1.5;\" width=\"50\" x=\"32\" y=\"85.5\"/><text fill=\"#000000\" font-family=\"sans-serif\" font-size=\"12\" lengthAdjust=\"spacingAndGlyphs\" textLength=\"22\" x=\"46\" y=\"101.6387\">y: B</text></a></g><!--MD5=[5c5a486796ad91a4c3182e3381e80ccf]\n",
       "@startuml\r\n",
       "skinparam ranksep 8\r\n",
       "skinparam rectangle {\r\n",
       " backgroundColor<<block>> LightGreen\r\n",
       "}\r\n",
       "skinparam linetype ortho\r\n",
       "skinparam monochrome true\r\n",
       "skinparam classbackgroundcolor white\r\n",
       "skinparam shadowing false\r\n",
       "skinparam wrapWidth 300\r\n",
       "hide circle\r\n",
       "\r\n",
       "package \"CircularImport\" as E1  [[psysml:6a62b0bb-ce07-42d9-b06f-c19bd22a93a2 ]]  {\r\n",
       "package \"P1\" as E2  [[psysml:e5793e48-aebf-4c77-9b1c-634d316c370a ]]  {\r\n",
       "rec def \"A\" as E3  <<(T,blue)part def>> [[psysml:4745677c-bede-4ab8-acdc-4365dad759bc ]] {\r\n",
       "}\r\n",
       "}\r\n",
       "package \"P2\" as E4  [[psysml:9f128572-3fea-4fc4-b18b-c92f97cc0f0b ]]  {\r\n",
       "rec def \"B\" as E5  <<(T,blue)part def>> [[psysml:a455b6ac-bbc4-40c1-9da4-354e9f8fdc46 ]] {\r\n",
       "}\r\n",
       "}\r\n",
       "package \"Test1\" as E6  [[psysml:6c517ad3-81f8-4503-b234-41386708eb5e ]]  {\r\n",
       "rec usage \"x: A\" as E7  [[psysml:6b7db59d-d003-4043-9508-3fd9ac781eff ]] {\r\n",
       "}\r\n",
       "rec usage \"y: B\" as E8  [[psysml:6c414e1f-4fb5-42fd-83aa-c158d2fbc464 ]] {\r\n",
       "}\r\n",
       "}\r\n",
       "package \"Test2\" as E9  [[psysml:81951965-8d4b-42c4-ba21-4255f6488007 ]]  {\r\n",
       "rec usage \"x: A\" as E10  [[psysml:797261aa-a958-4475-9de3-b139176b10fb ]] {\r\n",
       "}\r\n",
       "rec usage \"y: B\" as E11  [[psysml:3825b43b-bb71-4033-970e-c8c9e00cfd14 ]] {\r\n",
       "}\r\n",
       "}\r\n",
       "rec usage \"x: A\" as E12  [[psysml:e16c4bbb-61f3-4b61-a2b5-b03e29e494af ]] {\r\n",
       "}\r\n",
       "rec usage \"y: B\" as E13  [[psysml:6a814915-eeda-4c4d-8e98-a86878ae1f3d ]] {\r\n",
       "}\r\n",
       "}\r\n",
       "@enduml\r\n",
       "\n",
       "PlantUML version 1.2020.13(Sat Jun 13 12:26:38 UTC 2020)\n",
       "(EPL source distribution)\n",
       "Java Runtime: OpenJDK Runtime Environment\n",
       "JVM: OpenJDK 64-Bit Server VM\n",
       "Default Encoding: UTF-8\n",
       "Language: en\n",
       "Country: null\n",
       "--></g></svg>"
      ]
     },
     "execution_count": 54,
     "metadata": {},
     "output_type": "execute_result"
    }
   ],
   "source": [
    "%viz --style=\"ORTHOLINE\" --view=\"Interconnection\" \"CircularImport\""
   ]
  },
  {
   "cell_type": "code",
   "execution_count": 55,
   "id": "commercial-samuel",
   "metadata": {
    "execution": {
     "iopub.execute_input": "2021-03-25T13:13:24.345287Z",
     "iopub.status.busy": "2021-03-25T13:13:24.344645Z",
     "iopub.status.idle": "2021-03-25T13:13:24.352668Z",
     "shell.execute_reply": "2021-03-25T13:13:24.352329Z"
    }
   },
   "outputs": [
    {
     "data": {
      "image/svg+xml": [
       "<?xml version=\"1.0\" encoding=\"UTF-8\" standalone=\"no\"?><svg xmlns=\"http://www.w3.org/2000/svg\" xmlns:xlink=\"http://www.w3.org/1999/xlink\" contentScriptType=\"application/ecmascript\" contentStyleType=\"text/css\" height=\"12px\" preserveAspectRatio=\"none\" style=\"width:12px;height:12px;\" version=\"1.1\" viewBox=\"0 0 12 12\" width=\"12px\" zoomAndPan=\"magnify\"><defs/><g><!--MD5=[72934c63077099a26744516a776b4749]\n",
       "@startuml\r\n",
       "skinparam ranksep 8\r\n",
       "skinparam linetype ortho\r\n",
       "skinparam monochrome true\r\n",
       "skinparam classbackgroundcolor white\r\n",
       "skinparam shadowing false\r\n",
       "skinparam wrapWidth 300\r\n",
       "hide circle\r\n",
       "\r\n",
       "@enduml\r\n",
       "\n",
       "PlantUML version 1.2020.13(Sat Jun 13 12:26:38 UTC 2020)\n",
       "(EPL source distribution)\n",
       "Java Runtime: OpenJDK Runtime Environment\n",
       "JVM: OpenJDK 64-Bit Server VM\n",
       "Default Encoding: UTF-8\n",
       "Language: en\n",
       "Country: null\n",
       "--></g></svg>"
      ]
     },
     "execution_count": 55,
     "metadata": {},
     "output_type": "execute_result"
    }
   ],
   "source": [
    "%viz --style=\"ORTHOLINE\" --view=\"Action\" \"CircularImport\""
   ]
  },
  {
   "cell_type": "code",
   "execution_count": 56,
   "id": "residential-alias",
   "metadata": {
    "execution": {
     "iopub.execute_input": "2021-03-25T13:13:24.404553Z",
     "iopub.status.busy": "2021-03-25T13:13:24.403998Z",
     "iopub.status.idle": "2021-03-25T13:13:24.493844Z",
     "shell.execute_reply": "2021-03-25T13:13:24.493423Z"
    }
   },
   "outputs": [
    {
     "data": {
      "image/svg+xml": [
       "<?xml version=\"1.0\" encoding=\"UTF-8\" standalone=\"no\"?><svg xmlns=\"http://www.w3.org/2000/svg\" xmlns:xlink=\"http://www.w3.org/1999/xlink\" contentScriptType=\"application/ecmascript\" contentStyleType=\"text/css\" height=\"303px\" preserveAspectRatio=\"none\" style=\"width:518px;height:303px;\" version=\"1.1\" viewBox=\"0 0 518 303\" width=\"518px\" zoomAndPan=\"magnify\"><defs/><g><!--MD5=[fbc87193dbaf4d95561dea2c320d4a47]\n",
       "cluster E1--><a href=\"psysml:6a62b0bb-ce07-42d9-b06f-c19bd22a93a2\" target=\"_top\" title=\"psysml:6a62b0bb-ce07-42d9-b06f-c19bd22a93a2\" xlink:actuate=\"onRequest\" xlink:href=\"psysml:6a62b0bb-ce07-42d9-b06f-c19bd22a93a2\" xlink:show=\"new\" xlink:title=\"psysml:6a62b0bb-ce07-42d9-b06f-c19bd22a93a2\" xlink:type=\"simple\"><polygon fill=\"#FFFFFF\" points=\"16,6,134,6,141,28.2969,496,28.2969,496,291,16,291,16,6\" style=\"stroke: #000000; stroke-width: 1.5;\"/><line style=\"stroke: #000000; stroke-width: 1.5;\" x1=\"16\" x2=\"141\" y1=\"28.2969\" y2=\"28.2969\"/><text fill=\"#000000\" font-family=\"sans-serif\" font-size=\"14\" font-weight=\"bold\" lengthAdjust=\"spacingAndGlyphs\" textLength=\"112\" x=\"20\" y=\"20.9951\">CircularImport</text></a><!--MD5=[e4f7fae6ed58524ba242bb0b0d3be6b7]\n",
       "cluster E2--><a href=\"psysml:e5793e48-aebf-4c77-9b1c-634d316c370a\" target=\"_top\" title=\"psysml:e5793e48-aebf-4c77-9b1c-634d316c370a\" xlink:actuate=\"onRequest\" xlink:href=\"psysml:e5793e48-aebf-4c77-9b1c-634d316c370a\" xlink:show=\"new\" xlink:title=\"psysml:e5793e48-aebf-4c77-9b1c-634d316c370a\" xlink:type=\"simple\"><polygon fill=\"#FFFFFF\" points=\"333,170,359,170,366,192.2969,431,192.2969,431,267,333,267,333,170\" style=\"stroke: #000000; stroke-width: 1.5;\"/><line style=\"stroke: #000000; stroke-width: 1.5;\" x1=\"333\" x2=\"366\" y1=\"192.2969\" y2=\"192.2969\"/><text fill=\"#000000\" font-family=\"sans-serif\" font-size=\"14\" font-weight=\"bold\" lengthAdjust=\"spacingAndGlyphs\" textLength=\"20\" x=\"337\" y=\"184.9951\">P1</text></a><!--MD5=[f6df4d0ebaf0b5dfb2ced0ae5af7c670]\n",
       "cluster E4--><a href=\"psysml:9f128572-3fea-4fc4-b18b-c92f97cc0f0b\" target=\"_top\" title=\"psysml:9f128572-3fea-4fc4-b18b-c92f97cc0f0b\" xlink:actuate=\"onRequest\" xlink:href=\"psysml:9f128572-3fea-4fc4-b18b-c92f97cc0f0b\" xlink:show=\"new\" xlink:title=\"psysml:9f128572-3fea-4fc4-b18b-c92f97cc0f0b\" xlink:type=\"simple\"><polygon fill=\"#FFFFFF\" points=\"81,170,107,170,114,192.2969,179,192.2969,179,267,81,267,81,170\" style=\"stroke: #000000; stroke-width: 1.5;\"/><line style=\"stroke: #000000; stroke-width: 1.5;\" x1=\"81\" x2=\"114\" y1=\"192.2969\" y2=\"192.2969\"/><text fill=\"#000000\" font-family=\"sans-serif\" font-size=\"14\" font-weight=\"bold\" lengthAdjust=\"spacingAndGlyphs\" textLength=\"20\" x=\"85\" y=\"184.9951\">P2</text></a><!--MD5=[14e3b0961a2654348d326746436168a1]\n",
       "cluster E6--><a href=\"psysml:6c517ad3-81f8-4503-b234-41386708eb5e\" target=\"_top\" title=\"psysml:6c517ad3-81f8-4503-b234-41386708eb5e\" xlink:actuate=\"onRequest\" xlink:href=\"psysml:6c517ad3-81f8-4503-b234-41386708eb5e\" xlink:show=\"new\" xlink:title=\"psysml:6c517ad3-81f8-4503-b234-41386708eb5e\" xlink:type=\"simple\"><polygon fill=\"#FFFFFF\" points=\"268,49,319,49,326,71.2969,419,71.2969,419,146,268,146,268,49\" style=\"stroke: #000000; stroke-width: 1.5;\"/><line style=\"stroke: #000000; stroke-width: 1.5;\" x1=\"268\" x2=\"326\" y1=\"71.2969\" y2=\"71.2969\"/><text fill=\"#000000\" font-family=\"sans-serif\" font-size=\"14\" font-weight=\"bold\" lengthAdjust=\"spacingAndGlyphs\" textLength=\"45\" x=\"272\" y=\"63.9951\">Test1</text></a><!--MD5=[7f149f147074ac12df2cb0a7728a5fb0]\n",
       "cluster E9--><a href=\"psysml:81951965-8d4b-42c4-ba21-4255f6488007\" target=\"_top\" title=\"psysml:81951965-8d4b-42c4-ba21-4255f6488007\" xlink:actuate=\"onRequest\" xlink:href=\"psysml:81951965-8d4b-42c4-ba21-4255f6488007\" xlink:show=\"new\" xlink:title=\"psysml:81951965-8d4b-42c4-ba21-4255f6488007\" xlink:type=\"simple\"><polygon fill=\"#FFFFFF\" points=\"93,49,144,49,151,71.2969,244,71.2969,244,146,93,146,93,49\" style=\"stroke: #000000; stroke-width: 1.5;\"/><line style=\"stroke: #000000; stroke-width: 1.5;\" x1=\"93\" x2=\"151\" y1=\"71.2969\" y2=\"71.2969\"/><text fill=\"#000000\" font-family=\"sans-serif\" font-size=\"14\" font-weight=\"bold\" lengthAdjust=\"spacingAndGlyphs\" textLength=\"45\" x=\"97\" y=\"63.9951\">Test2</text></a><!--MD5=[49a0ec8f00dab7302a31f22d0f0fe584]\n",
       "class E12--><a href=\"psysml:e16c4bbb-61f3-4b61-a2b5-b03e29e494af\" target=\"_top\" title=\"psysml:e16c4bbb-61f3-4b61-a2b5-b03e29e494af\" xlink:actuate=\"onRequest\" xlink:href=\"psysml:e16c4bbb-61f3-4b61-a2b5-b03e29e494af\" xlink:show=\"new\" xlink:title=\"psysml:e16c4bbb-61f3-4b61-a2b5-b03e29e494af\" xlink:type=\"simple\"><rect fill=\"#FFFFFF\" height=\"45.9375\" id=\"E12\" rx=\"10\" ry=\"10\" style=\"stroke: #383838; stroke-width: 1.5;\" width=\"42\" x=\"438\" y=\"84\"/><text fill=\"#000000\" font-family=\"sans-serif\" font-size=\"12\" font-style=\"italic\" lengthAdjust=\"spacingAndGlyphs\" textLength=\"40\" x=\"439\" y=\"100.1387\">«part»</text><text fill=\"#000000\" font-family=\"sans-serif\" font-size=\"12\" lengthAdjust=\"spacingAndGlyphs\" textLength=\"22\" x=\"448\" y=\"114.1074\">x: A</text><line style=\"stroke: #383838; stroke-width: 1.5;\" x1=\"439\" x2=\"479\" y1=\"121.9375\" y2=\"121.9375\"/></a><!--MD5=[ee3c913d1a06f366521f9ef512b67efe]\n",
       "class E13--><a href=\"psysml:6a814915-eeda-4c4d-8e98-a86878ae1f3d\" target=\"_top\" title=\"psysml:6a814915-eeda-4c4d-8e98-a86878ae1f3d\" xlink:actuate=\"onRequest\" xlink:href=\"psysml:6a814915-eeda-4c4d-8e98-a86878ae1f3d\" xlink:show=\"new\" xlink:title=\"psysml:6a814915-eeda-4c4d-8e98-a86878ae1f3d\" xlink:type=\"simple\"><rect fill=\"#FFFFFF\" height=\"45.9375\" id=\"E13\" rx=\"10\" ry=\"10\" style=\"stroke: #383838; stroke-width: 1.5;\" width=\"42\" x=\"32\" y=\"84\"/><text fill=\"#000000\" font-family=\"sans-serif\" font-size=\"12\" font-style=\"italic\" lengthAdjust=\"spacingAndGlyphs\" textLength=\"40\" x=\"33\" y=\"100.1387\">«part»</text><text fill=\"#000000\" font-family=\"sans-serif\" font-size=\"12\" lengthAdjust=\"spacingAndGlyphs\" textLength=\"22\" x=\"42\" y=\"114.1074\">y: B</text><line style=\"stroke: #383838; stroke-width: 1.5;\" x1=\"33\" x2=\"73\" y1=\"121.9375\" y2=\"121.9375\"/></a><!--MD5=[09b614a08d8cba4a07c9adeb5e0fee81]\n",
       "class E3--><a href=\"psysml:4745677c-bede-4ab8-acdc-4365dad759bc\" target=\"_top\" title=\"psysml:4745677c-bede-4ab8-acdc-4365dad759bc\" xlink:actuate=\"onRequest\" xlink:href=\"psysml:4745677c-bede-4ab8-acdc-4365dad759bc\" xlink:show=\"new\" xlink:title=\"psysml:4745677c-bede-4ab8-acdc-4365dad759bc\" xlink:type=\"simple\"><rect fill=\"#FFFFFF\" height=\"45.9375\" id=\"E3\" style=\"stroke: #383838; stroke-width: 1.5;\" width=\"66\" x=\"349\" y=\"205\"/><text fill=\"#000000\" font-family=\"sans-serif\" font-size=\"12\" font-style=\"italic\" lengthAdjust=\"spacingAndGlyphs\" textLength=\"64\" x=\"350\" y=\"221.1387\">«part def»</text><text fill=\"#000000\" font-family=\"sans-serif\" font-size=\"12\" lengthAdjust=\"spacingAndGlyphs\" textLength=\"8\" x=\"378\" y=\"235.1074\">A</text><line style=\"stroke: #383838; stroke-width: 1.5;\" x1=\"350\" x2=\"414\" y1=\"242.9375\" y2=\"242.9375\"/></a><!--MD5=[270fce915f116d4de14055a7c1d9a0f3]\n",
       "class E5--><a href=\"psysml:a455b6ac-bbc4-40c1-9da4-354e9f8fdc46\" target=\"_top\" title=\"psysml:a455b6ac-bbc4-40c1-9da4-354e9f8fdc46\" xlink:actuate=\"onRequest\" xlink:href=\"psysml:a455b6ac-bbc4-40c1-9da4-354e9f8fdc46\" xlink:show=\"new\" xlink:title=\"psysml:a455b6ac-bbc4-40c1-9da4-354e9f8fdc46\" xlink:type=\"simple\"><rect fill=\"#FFFFFF\" height=\"45.9375\" id=\"E5\" style=\"stroke: #383838; stroke-width: 1.5;\" width=\"66\" x=\"97\" y=\"205\"/><text fill=\"#000000\" font-family=\"sans-serif\" font-size=\"12\" font-style=\"italic\" lengthAdjust=\"spacingAndGlyphs\" textLength=\"64\" x=\"98\" y=\"221.1387\">«part def»</text><text fill=\"#000000\" font-family=\"sans-serif\" font-size=\"12\" lengthAdjust=\"spacingAndGlyphs\" textLength=\"8\" x=\"126\" y=\"235.1074\">B</text><line style=\"stroke: #383838; stroke-width: 1.5;\" x1=\"98\" x2=\"162\" y1=\"242.9375\" y2=\"242.9375\"/></a><!--MD5=[2156ba9850f5573cc1fc38a6a4b2f02b]\n",
       "class E7--><a href=\"psysml:6b7db59d-d003-4043-9508-3fd9ac781eff\" target=\"_top\" title=\"psysml:6b7db59d-d003-4043-9508-3fd9ac781eff\" xlink:actuate=\"onRequest\" xlink:href=\"psysml:6b7db59d-d003-4043-9508-3fd9ac781eff\" xlink:show=\"new\" xlink:title=\"psysml:6b7db59d-d003-4043-9508-3fd9ac781eff\" xlink:type=\"simple\"><rect fill=\"#FFFFFF\" height=\"45.9375\" id=\"E7\" rx=\"10\" ry=\"10\" style=\"stroke: #383838; stroke-width: 1.5;\" width=\"42\" x=\"361\" y=\"84\"/><text fill=\"#000000\" font-family=\"sans-serif\" font-size=\"12\" font-style=\"italic\" lengthAdjust=\"spacingAndGlyphs\" textLength=\"40\" x=\"362\" y=\"100.1387\">«part»</text><text fill=\"#000000\" font-family=\"sans-serif\" font-size=\"12\" lengthAdjust=\"spacingAndGlyphs\" textLength=\"22\" x=\"371\" y=\"114.1074\">x: A</text><line style=\"stroke: #383838; stroke-width: 1.5;\" x1=\"362\" x2=\"402\" y1=\"121.9375\" y2=\"121.9375\"/></a><!--MD5=[b9389687b975829384b498ac4b7476b2]\n",
       "class E8--><a href=\"psysml:6c414e1f-4fb5-42fd-83aa-c158d2fbc464\" target=\"_top\" title=\"psysml:6c414e1f-4fb5-42fd-83aa-c158d2fbc464\" xlink:actuate=\"onRequest\" xlink:href=\"psysml:6c414e1f-4fb5-42fd-83aa-c158d2fbc464\" xlink:show=\"new\" xlink:title=\"psysml:6c414e1f-4fb5-42fd-83aa-c158d2fbc464\" xlink:type=\"simple\"><rect fill=\"#FFFFFF\" height=\"45.9375\" id=\"E8\" rx=\"10\" ry=\"10\" style=\"stroke: #383838; stroke-width: 1.5;\" width=\"42\" x=\"284\" y=\"84\"/><text fill=\"#000000\" font-family=\"sans-serif\" font-size=\"12\" font-style=\"italic\" lengthAdjust=\"spacingAndGlyphs\" textLength=\"40\" x=\"285\" y=\"100.1387\">«part»</text><text fill=\"#000000\" font-family=\"sans-serif\" font-size=\"12\" lengthAdjust=\"spacingAndGlyphs\" textLength=\"22\" x=\"294\" y=\"114.1074\">y: B</text><line style=\"stroke: #383838; stroke-width: 1.5;\" x1=\"285\" x2=\"325\" y1=\"121.9375\" y2=\"121.9375\"/></a><!--MD5=[96f4274e9e20536e775497830990834d]\n",
       "class E10--><a href=\"psysml:797261aa-a958-4475-9de3-b139176b10fb\" target=\"_top\" title=\"psysml:797261aa-a958-4475-9de3-b139176b10fb\" xlink:actuate=\"onRequest\" xlink:href=\"psysml:797261aa-a958-4475-9de3-b139176b10fb\" xlink:show=\"new\" xlink:title=\"psysml:797261aa-a958-4475-9de3-b139176b10fb\" xlink:type=\"simple\"><rect fill=\"#FFFFFF\" height=\"45.9375\" id=\"E10\" rx=\"10\" ry=\"10\" style=\"stroke: #383838; stroke-width: 1.5;\" width=\"42\" x=\"186\" y=\"84\"/><text fill=\"#000000\" font-family=\"sans-serif\" font-size=\"12\" font-style=\"italic\" lengthAdjust=\"spacingAndGlyphs\" textLength=\"40\" x=\"187\" y=\"100.1387\">«part»</text><text fill=\"#000000\" font-family=\"sans-serif\" font-size=\"12\" lengthAdjust=\"spacingAndGlyphs\" textLength=\"22\" x=\"196\" y=\"114.1074\">x: A</text><line style=\"stroke: #383838; stroke-width: 1.5;\" x1=\"187\" x2=\"227\" y1=\"121.9375\" y2=\"121.9375\"/></a><!--MD5=[1dd1bfd58a279cf63c5f349dbc8fc6a1]\n",
       "class E11--><a href=\"psysml:3825b43b-bb71-4033-970e-c8c9e00cfd14\" target=\"_top\" title=\"psysml:3825b43b-bb71-4033-970e-c8c9e00cfd14\" xlink:actuate=\"onRequest\" xlink:href=\"psysml:3825b43b-bb71-4033-970e-c8c9e00cfd14\" xlink:show=\"new\" xlink:title=\"psysml:3825b43b-bb71-4033-970e-c8c9e00cfd14\" xlink:type=\"simple\"><rect fill=\"#FFFFFF\" height=\"45.9375\" id=\"E11\" rx=\"10\" ry=\"10\" style=\"stroke: #383838; stroke-width: 1.5;\" width=\"42\" x=\"109\" y=\"84\"/><text fill=\"#000000\" font-family=\"sans-serif\" font-size=\"12\" font-style=\"italic\" lengthAdjust=\"spacingAndGlyphs\" textLength=\"40\" x=\"110\" y=\"100.1387\">«part»</text><text fill=\"#000000\" font-family=\"sans-serif\" font-size=\"12\" lengthAdjust=\"spacingAndGlyphs\" textLength=\"22\" x=\"119\" y=\"114.1074\">y: B</text><line style=\"stroke: #383838; stroke-width: 1.5;\" x1=\"110\" x2=\"150\" y1=\"121.9375\" y2=\"121.9375\"/></a><!--MD5=[14ccda38c055a5c0da953d572bc50960]\n",
       "link E7 to E3--><a href=\"psysml:85e1ff22-6346-4a23-846d-dc1a236203c0\" target=\"_top\" title=\"psysml:85e1ff22-6346-4a23-846d-dc1a236203c0\" xlink:actuate=\"onRequest\" xlink:href=\"psysml:85e1ff22-6346-4a23-846d-dc1a236203c0\" xlink:show=\"new\" xlink:title=\"psysml:85e1ff22-6346-4a23-846d-dc1a236203c0\" xlink:type=\"simple\"><path d=\"M382,130.04 C382,130.04 382,184.63 382,184.63 \" fill=\"none\" id=\"E7-&gt;E3\" style=\"stroke: #383838; stroke-width: 1.0;\"/><polygon fill=\"#FFFFFF\" points=\"382,204.63,375,185.63,389,185.63,382,204.63\" style=\"stroke: #383838; stroke-width: 1.0;\"/><ellipse cx=\"377\" cy=\"179.93\" fill=\"#383838\" rx=\"2\" ry=\"2\" style=\"stroke: #383838; stroke-width: 1.0;\"/><ellipse cx=\"387\" cy=\"179.93\" fill=\"#383838\" rx=\"2\" ry=\"2\" style=\"stroke: #383838; stroke-width: 1.0;\"/></a><!--MD5=[1ccb2481ffa92f8d51a74ee30c51832a]\n",
       "link E8 to E5--><a href=\"psysml:483adec0-2d55-41ba-876c-1b8fe7d429ab\" target=\"_top\" title=\"psysml:483adec0-2d55-41ba-876c-1b8fe7d429ab\" xlink:actuate=\"onRequest\" xlink:href=\"psysml:483adec0-2d55-41ba-876c-1b8fe7d429ab\" xlink:show=\"new\" xlink:title=\"psysml:483adec0-2d55-41ba-876c-1b8fe7d429ab\" xlink:type=\"simple\"><path d=\"M305,130.06 C305,167.17 305,236 305,236 C305,236 183.33,236 183.33,236 \" fill=\"none\" id=\"E8-&gt;E5\" style=\"stroke: #383838; stroke-width: 1.0;\"/><polygon fill=\"#FFFFFF\" points=\"163.33,236,182.33,229,182.33,243,163.33,236\" style=\"stroke: #383838; stroke-width: 1.0;\"/><ellipse cx=\"188.03\" cy=\"231\" fill=\"#383838\" rx=\"2\" ry=\"2\" style=\"stroke: #383838; stroke-width: 1.0;\"/><ellipse cx=\"188.03\" cy=\"241\" fill=\"#383838\" rx=\"2\" ry=\"2\" style=\"stroke: #383838; stroke-width: 1.0;\"/></a><!--MD5=[feeac5eb423634930294aa81f2d25a4c]\n",
       "link E10 to E3--><a href=\"psysml:0e238847-8a3c-4f4a-a4c7-c4eca45a31b2\" target=\"_top\" title=\"psysml:0e238847-8a3c-4f4a-a4c7-c4eca45a31b2\" xlink:actuate=\"onRequest\" xlink:href=\"psysml:0e238847-8a3c-4f4a-a4c7-c4eca45a31b2\" xlink:show=\"new\" xlink:title=\"psysml:0e238847-8a3c-4f4a-a4c7-c4eca45a31b2\" xlink:type=\"simple\"><path d=\"M207,130.07 C207,163.38 207,221 207,221 C207,221 328.67,221 328.67,221 \" fill=\"none\" id=\"E10-&gt;E3\" style=\"stroke: #383838; stroke-width: 1.0;\"/><polygon fill=\"#FFFFFF\" points=\"348.67,221,329.67,228,329.67,214,348.67,221\" style=\"stroke: #383838; stroke-width: 1.0;\"/><ellipse cx=\"323.97\" cy=\"226\" fill=\"#383838\" rx=\"2\" ry=\"2\" style=\"stroke: #383838; stroke-width: 1.0;\"/><ellipse cx=\"323.97\" cy=\"216\" fill=\"#383838\" rx=\"2\" ry=\"2\" style=\"stroke: #383838; stroke-width: 1.0;\"/></a><!--MD5=[07b77f6f309248d16187045709d1c26e]\n",
       "link E11 to E5--><a href=\"psysml:1112046b-9823-4ab2-8a83-96247ffb9742\" target=\"_top\" title=\"psysml:1112046b-9823-4ab2-8a83-96247ffb9742\" xlink:actuate=\"onRequest\" xlink:href=\"psysml:1112046b-9823-4ab2-8a83-96247ffb9742\" xlink:show=\"new\" xlink:title=\"psysml:1112046b-9823-4ab2-8a83-96247ffb9742\" xlink:type=\"simple\"><path d=\"M130,130.04 C130,130.04 130,184.63 130,184.63 \" fill=\"none\" id=\"E11-&gt;E5\" style=\"stroke: #383838; stroke-width: 1.0;\"/><polygon fill=\"#FFFFFF\" points=\"130,204.63,123,185.63,137,185.63,130,204.63\" style=\"stroke: #383838; stroke-width: 1.0;\"/><ellipse cx=\"125\" cy=\"179.93\" fill=\"#383838\" rx=\"2\" ry=\"2\" style=\"stroke: #383838; stroke-width: 1.0;\"/><ellipse cx=\"135\" cy=\"179.93\" fill=\"#383838\" rx=\"2\" ry=\"2\" style=\"stroke: #383838; stroke-width: 1.0;\"/></a><!--MD5=[39f41a0e550fb3d73b4d8135617e30a2]\n",
       "link E12 to E3--><a href=\"psysml:ee0d4e1c-50f8-4d3c-8a56-5035ed7c5f53\" target=\"_top\" title=\"psysml:ee0d4e1c-50f8-4d3c-8a56-5035ed7c5f53\" xlink:actuate=\"onRequest\" xlink:href=\"psysml:ee0d4e1c-50f8-4d3c-8a56-5035ed7c5f53\" xlink:show=\"new\" xlink:title=\"psysml:ee0d4e1c-50f8-4d3c-8a56-5035ed7c5f53\" xlink:type=\"simple\"><path d=\"M437.8,107 C424.17,107 409,107 409,107 C409,107 409,184.96 409,184.96 \" fill=\"none\" id=\"E12-&gt;E3\" style=\"stroke: #383838; stroke-width: 1.0;\"/><polygon fill=\"#FFFFFF\" points=\"409,204.96,402,185.96,416,185.96,409,204.96\" style=\"stroke: #383838; stroke-width: 1.0;\"/><ellipse cx=\"404\" cy=\"180.26\" fill=\"#383838\" rx=\"2\" ry=\"2\" style=\"stroke: #383838; stroke-width: 1.0;\"/><ellipse cx=\"414\" cy=\"180.26\" fill=\"#383838\" rx=\"2\" ry=\"2\" style=\"stroke: #383838; stroke-width: 1.0;\"/></a><!--MD5=[066b2d8af59fea80ccdb3d54ad5c1091]\n",
       "link E13 to E5--><a href=\"psysml:1d6f62f5-9885-441d-bead-3e38c1577759\" target=\"_top\" title=\"psysml:1d6f62f5-9885-441d-bead-3e38c1577759\" xlink:actuate=\"onRequest\" xlink:href=\"psysml:1d6f62f5-9885-441d-bead-3e38c1577759\" xlink:show=\"new\" xlink:title=\"psysml:1d6f62f5-9885-441d-bead-3e38c1577759\" xlink:type=\"simple\"><path d=\"M74.2,107 C87.83,107 103,107 103,107 C103,107 103,184.96 103,184.96 \" fill=\"none\" id=\"E13-&gt;E5\" style=\"stroke: #383838; stroke-width: 1.0;\"/><polygon fill=\"#FFFFFF\" points=\"103,204.96,96,185.96,110,185.96,103,204.96\" style=\"stroke: #383838; stroke-width: 1.0;\"/><ellipse cx=\"98\" cy=\"180.26\" fill=\"#383838\" rx=\"2\" ry=\"2\" style=\"stroke: #383838; stroke-width: 1.0;\"/><ellipse cx=\"108\" cy=\"180.26\" fill=\"#383838\" rx=\"2\" ry=\"2\" style=\"stroke: #383838; stroke-width: 1.0;\"/></a><!--MD5=[62cddbae15d6b24b825588c28ef4ad92]\n",
       "@startuml\r\n",
       "skinparam linetype ortho\r\n",
       "skinparam monochrome true\r\n",
       "skinparam classbackgroundcolor white\r\n",
       "skinparam shadowing false\r\n",
       "skinparam wrapWidth 300\r\n",
       "hide circle\r\n",
       "\r\n",
       "package \"CircularImport\" as E1  [[psysml:6a62b0bb-ce07-42d9-b06f-c19bd22a93a2 ]]  {\r\n",
       "package \"P1\" as E2  [[psysml:e5793e48-aebf-4c77-9b1c-634d316c370a ]]  {\r\n",
       "comp def \"A\" as E3  <<(T,blue)part def>> [[psysml:4745677c-bede-4ab8-acdc-4365dad759bc ]] {\r\n",
       "}\r\n",
       "}\r\n",
       "package \"P2\" as E4  [[psysml:9f128572-3fea-4fc4-b18b-c92f97cc0f0b ]]  {\r\n",
       "comp def \"B\" as E5  <<(T,blue)part def>> [[psysml:a455b6ac-bbc4-40c1-9da4-354e9f8fdc46 ]] {\r\n",
       "}\r\n",
       "}\r\n",
       "package \"Test1\" as E6  [[psysml:6c517ad3-81f8-4503-b234-41386708eb5e ]]  {\r\n",
       "comp usage \"x: A\" as E7  <<(T,blue)part>> [[psysml:6b7db59d-d003-4043-9508-3fd9ac781eff ]] {\r\n",
       "}\r\n",
       "comp usage \"y: B\" as E8  <<(T,blue)part>> [[psysml:6c414e1f-4fb5-42fd-83aa-c158d2fbc464 ]] {\r\n",
       "}\r\n",
       "E7 - -:|> E3 [[psysml:85e1ff22-6346-4a23-846d-dc1a236203c0 ]] \r\n",
       "E8 - -:|> E5 [[psysml:483adec0-2d55-41ba-876c-1b8fe7d429ab ]] \r\n",
       "}\r\n",
       "package \"Test2\" as E9  [[psysml:81951965-8d4b-42c4-ba21-4255f6488007 ]]  {\r\n",
       "comp usage \"x: A\" as E10  <<(T,blue)part>> [[psysml:797261aa-a958-4475-9de3-b139176b10fb ]] {\r\n",
       "}\r\n",
       "comp usage \"y: B\" as E11  <<(T,blue)part>> [[psysml:3825b43b-bb71-4033-970e-c8c9e00cfd14 ]] {\r\n",
       "}\r\n",
       "E10 - -:|> E3 [[psysml:0e238847-8a3c-4f4a-a4c7-c4eca45a31b2 ]] \r\n",
       "E11 - -:|> E5 [[psysml:1112046b-9823-4ab2-8a83-96247ffb9742 ]] \r\n",
       "}\r\n",
       "comp usage \"x: A\" as E12  <<(T,blue)part>> [[psysml:e16c4bbb-61f3-4b61-a2b5-b03e29e494af ]] {\r\n",
       "}\r\n",
       "comp usage \"y: B\" as E13  <<(T,blue)part>> [[psysml:6a814915-eeda-4c4d-8e98-a86878ae1f3d ]] {\r\n",
       "}\r\n",
       "E12 - -:|> E3 [[psysml:ee0d4e1c-50f8-4d3c-8a56-5035ed7c5f53 ]] \r\n",
       "E13 - -:|> E5 [[psysml:1d6f62f5-9885-441d-bead-3e38c1577759 ]] \r\n",
       "}\r\n",
       "@enduml\r\n",
       "\n",
       "PlantUML version 1.2020.13(Sat Jun 13 12:26:38 UTC 2020)\n",
       "(EPL source distribution)\n",
       "Java Runtime: OpenJDK Runtime Environment\n",
       "JVM: OpenJDK 64-Bit Server VM\n",
       "Default Encoding: UTF-8\n",
       "Language: en\n",
       "Country: null\n",
       "--></g></svg>"
      ]
     },
     "execution_count": 56,
     "metadata": {},
     "output_type": "execute_result"
    }
   ],
   "source": [
    "%viz --style=\"ORTHOLINE\" --view=\"Sequence\" \"CircularImport\""
   ]
  },
  {
   "cell_type": "code",
   "execution_count": 57,
   "id": "opposed-shark",
   "metadata": {
    "execution": {
     "iopub.execute_input": "2021-03-25T13:13:24.544663Z",
     "iopub.status.busy": "2021-03-25T13:13:24.543745Z",
     "iopub.status.idle": "2021-03-25T13:13:24.646695Z",
     "shell.execute_reply": "2021-03-25T13:13:24.643493Z"
    }
   },
   "outputs": [
    {
     "data": {
      "image/svg+xml": [
       "<?xml version=\"1.0\" encoding=\"UTF-8\" standalone=\"no\"?><svg xmlns=\"http://www.w3.org/2000/svg\" xmlns:xlink=\"http://www.w3.org/1999/xlink\" contentScriptType=\"application/ecmascript\" contentStyleType=\"text/css\" height=\"303px\" preserveAspectRatio=\"none\" style=\"width:518px;height:303px;\" version=\"1.1\" viewBox=\"0 0 518 303\" width=\"518px\" zoomAndPan=\"magnify\"><defs/><g><!--MD5=[fbc87193dbaf4d95561dea2c320d4a47]\n",
       "cluster E1--><a href=\"psysml:6a62b0bb-ce07-42d9-b06f-c19bd22a93a2\" target=\"_top\" title=\"psysml:6a62b0bb-ce07-42d9-b06f-c19bd22a93a2\" xlink:actuate=\"onRequest\" xlink:href=\"psysml:6a62b0bb-ce07-42d9-b06f-c19bd22a93a2\" xlink:show=\"new\" xlink:title=\"psysml:6a62b0bb-ce07-42d9-b06f-c19bd22a93a2\" xlink:type=\"simple\"><polygon fill=\"#FFFFFF\" points=\"16,6,134,6,141,28.2969,496,28.2969,496,291,16,291,16,6\" style=\"stroke: #000000; stroke-width: 1.5;\"/><line style=\"stroke: #000000; stroke-width: 1.5;\" x1=\"16\" x2=\"141\" y1=\"28.2969\" y2=\"28.2969\"/><text fill=\"#000000\" font-family=\"sans-serif\" font-size=\"14\" font-weight=\"bold\" lengthAdjust=\"spacingAndGlyphs\" textLength=\"112\" x=\"20\" y=\"20.9951\">CircularImport</text></a><!--MD5=[e4f7fae6ed58524ba242bb0b0d3be6b7]\n",
       "cluster E2--><a href=\"psysml:e5793e48-aebf-4c77-9b1c-634d316c370a\" target=\"_top\" title=\"psysml:e5793e48-aebf-4c77-9b1c-634d316c370a\" xlink:actuate=\"onRequest\" xlink:href=\"psysml:e5793e48-aebf-4c77-9b1c-634d316c370a\" xlink:show=\"new\" xlink:title=\"psysml:e5793e48-aebf-4c77-9b1c-634d316c370a\" xlink:type=\"simple\"><polygon fill=\"#FFFFFF\" points=\"333,170,359,170,366,192.2969,431,192.2969,431,267,333,267,333,170\" style=\"stroke: #000000; stroke-width: 1.5;\"/><line style=\"stroke: #000000; stroke-width: 1.5;\" x1=\"333\" x2=\"366\" y1=\"192.2969\" y2=\"192.2969\"/><text fill=\"#000000\" font-family=\"sans-serif\" font-size=\"14\" font-weight=\"bold\" lengthAdjust=\"spacingAndGlyphs\" textLength=\"20\" x=\"337\" y=\"184.9951\">P1</text></a><!--MD5=[f6df4d0ebaf0b5dfb2ced0ae5af7c670]\n",
       "cluster E4--><a href=\"psysml:9f128572-3fea-4fc4-b18b-c92f97cc0f0b\" target=\"_top\" title=\"psysml:9f128572-3fea-4fc4-b18b-c92f97cc0f0b\" xlink:actuate=\"onRequest\" xlink:href=\"psysml:9f128572-3fea-4fc4-b18b-c92f97cc0f0b\" xlink:show=\"new\" xlink:title=\"psysml:9f128572-3fea-4fc4-b18b-c92f97cc0f0b\" xlink:type=\"simple\"><polygon fill=\"#FFFFFF\" points=\"81,170,107,170,114,192.2969,179,192.2969,179,267,81,267,81,170\" style=\"stroke: #000000; stroke-width: 1.5;\"/><line style=\"stroke: #000000; stroke-width: 1.5;\" x1=\"81\" x2=\"114\" y1=\"192.2969\" y2=\"192.2969\"/><text fill=\"#000000\" font-family=\"sans-serif\" font-size=\"14\" font-weight=\"bold\" lengthAdjust=\"spacingAndGlyphs\" textLength=\"20\" x=\"85\" y=\"184.9951\">P2</text></a><!--MD5=[14e3b0961a2654348d326746436168a1]\n",
       "cluster E6--><a href=\"psysml:6c517ad3-81f8-4503-b234-41386708eb5e\" target=\"_top\" title=\"psysml:6c517ad3-81f8-4503-b234-41386708eb5e\" xlink:actuate=\"onRequest\" xlink:href=\"psysml:6c517ad3-81f8-4503-b234-41386708eb5e\" xlink:show=\"new\" xlink:title=\"psysml:6c517ad3-81f8-4503-b234-41386708eb5e\" xlink:type=\"simple\"><polygon fill=\"#FFFFFF\" points=\"268,49,319,49,326,71.2969,419,71.2969,419,146,268,146,268,49\" style=\"stroke: #000000; stroke-width: 1.5;\"/><line style=\"stroke: #000000; stroke-width: 1.5;\" x1=\"268\" x2=\"326\" y1=\"71.2969\" y2=\"71.2969\"/><text fill=\"#000000\" font-family=\"sans-serif\" font-size=\"14\" font-weight=\"bold\" lengthAdjust=\"spacingAndGlyphs\" textLength=\"45\" x=\"272\" y=\"63.9951\">Test1</text></a><!--MD5=[7f149f147074ac12df2cb0a7728a5fb0]\n",
       "cluster E9--><a href=\"psysml:81951965-8d4b-42c4-ba21-4255f6488007\" target=\"_top\" title=\"psysml:81951965-8d4b-42c4-ba21-4255f6488007\" xlink:actuate=\"onRequest\" xlink:href=\"psysml:81951965-8d4b-42c4-ba21-4255f6488007\" xlink:show=\"new\" xlink:title=\"psysml:81951965-8d4b-42c4-ba21-4255f6488007\" xlink:type=\"simple\"><polygon fill=\"#FFFFFF\" points=\"93,49,144,49,151,71.2969,244,71.2969,244,146,93,146,93,49\" style=\"stroke: #000000; stroke-width: 1.5;\"/><line style=\"stroke: #000000; stroke-width: 1.5;\" x1=\"93\" x2=\"151\" y1=\"71.2969\" y2=\"71.2969\"/><text fill=\"#000000\" font-family=\"sans-serif\" font-size=\"14\" font-weight=\"bold\" lengthAdjust=\"spacingAndGlyphs\" textLength=\"45\" x=\"97\" y=\"63.9951\">Test2</text></a><!--MD5=[49a0ec8f00dab7302a31f22d0f0fe584]\n",
       "class E12--><a href=\"psysml:e16c4bbb-61f3-4b61-a2b5-b03e29e494af\" target=\"_top\" title=\"psysml:e16c4bbb-61f3-4b61-a2b5-b03e29e494af\" xlink:actuate=\"onRequest\" xlink:href=\"psysml:e16c4bbb-61f3-4b61-a2b5-b03e29e494af\" xlink:show=\"new\" xlink:title=\"psysml:e16c4bbb-61f3-4b61-a2b5-b03e29e494af\" xlink:type=\"simple\"><rect fill=\"#FFFFFF\" height=\"45.9375\" id=\"E12\" rx=\"10\" ry=\"10\" style=\"stroke: #383838; stroke-width: 1.5;\" width=\"42\" x=\"438\" y=\"84\"/><text fill=\"#000000\" font-family=\"sans-serif\" font-size=\"12\" font-style=\"italic\" lengthAdjust=\"spacingAndGlyphs\" textLength=\"40\" x=\"439\" y=\"100.1387\">«part»</text><text fill=\"#000000\" font-family=\"sans-serif\" font-size=\"12\" lengthAdjust=\"spacingAndGlyphs\" textLength=\"22\" x=\"448\" y=\"114.1074\">x: A</text><line style=\"stroke: #383838; stroke-width: 1.5;\" x1=\"439\" x2=\"479\" y1=\"121.9375\" y2=\"121.9375\"/></a><!--MD5=[ee3c913d1a06f366521f9ef512b67efe]\n",
       "class E13--><a href=\"psysml:6a814915-eeda-4c4d-8e98-a86878ae1f3d\" target=\"_top\" title=\"psysml:6a814915-eeda-4c4d-8e98-a86878ae1f3d\" xlink:actuate=\"onRequest\" xlink:href=\"psysml:6a814915-eeda-4c4d-8e98-a86878ae1f3d\" xlink:show=\"new\" xlink:title=\"psysml:6a814915-eeda-4c4d-8e98-a86878ae1f3d\" xlink:type=\"simple\"><rect fill=\"#FFFFFF\" height=\"45.9375\" id=\"E13\" rx=\"10\" ry=\"10\" style=\"stroke: #383838; stroke-width: 1.5;\" width=\"42\" x=\"32\" y=\"84\"/><text fill=\"#000000\" font-family=\"sans-serif\" font-size=\"12\" font-style=\"italic\" lengthAdjust=\"spacingAndGlyphs\" textLength=\"40\" x=\"33\" y=\"100.1387\">«part»</text><text fill=\"#000000\" font-family=\"sans-serif\" font-size=\"12\" lengthAdjust=\"spacingAndGlyphs\" textLength=\"22\" x=\"42\" y=\"114.1074\">y: B</text><line style=\"stroke: #383838; stroke-width: 1.5;\" x1=\"33\" x2=\"73\" y1=\"121.9375\" y2=\"121.9375\"/></a><!--MD5=[09b614a08d8cba4a07c9adeb5e0fee81]\n",
       "class E3--><a href=\"psysml:4745677c-bede-4ab8-acdc-4365dad759bc\" target=\"_top\" title=\"psysml:4745677c-bede-4ab8-acdc-4365dad759bc\" xlink:actuate=\"onRequest\" xlink:href=\"psysml:4745677c-bede-4ab8-acdc-4365dad759bc\" xlink:show=\"new\" xlink:title=\"psysml:4745677c-bede-4ab8-acdc-4365dad759bc\" xlink:type=\"simple\"><rect fill=\"#FFFFFF\" height=\"45.9375\" id=\"E3\" style=\"stroke: #383838; stroke-width: 1.5;\" width=\"66\" x=\"349\" y=\"205\"/><text fill=\"#000000\" font-family=\"sans-serif\" font-size=\"12\" font-style=\"italic\" lengthAdjust=\"spacingAndGlyphs\" textLength=\"64\" x=\"350\" y=\"221.1387\">«part def»</text><text fill=\"#000000\" font-family=\"sans-serif\" font-size=\"12\" lengthAdjust=\"spacingAndGlyphs\" textLength=\"8\" x=\"378\" y=\"235.1074\">A</text><line style=\"stroke: #383838; stroke-width: 1.5;\" x1=\"350\" x2=\"414\" y1=\"242.9375\" y2=\"242.9375\"/></a><!--MD5=[270fce915f116d4de14055a7c1d9a0f3]\n",
       "class E5--><a href=\"psysml:a455b6ac-bbc4-40c1-9da4-354e9f8fdc46\" target=\"_top\" title=\"psysml:a455b6ac-bbc4-40c1-9da4-354e9f8fdc46\" xlink:actuate=\"onRequest\" xlink:href=\"psysml:a455b6ac-bbc4-40c1-9da4-354e9f8fdc46\" xlink:show=\"new\" xlink:title=\"psysml:a455b6ac-bbc4-40c1-9da4-354e9f8fdc46\" xlink:type=\"simple\"><rect fill=\"#FFFFFF\" height=\"45.9375\" id=\"E5\" style=\"stroke: #383838; stroke-width: 1.5;\" width=\"66\" x=\"97\" y=\"205\"/><text fill=\"#000000\" font-family=\"sans-serif\" font-size=\"12\" font-style=\"italic\" lengthAdjust=\"spacingAndGlyphs\" textLength=\"64\" x=\"98\" y=\"221.1387\">«part def»</text><text fill=\"#000000\" font-family=\"sans-serif\" font-size=\"12\" lengthAdjust=\"spacingAndGlyphs\" textLength=\"8\" x=\"126\" y=\"235.1074\">B</text><line style=\"stroke: #383838; stroke-width: 1.5;\" x1=\"98\" x2=\"162\" y1=\"242.9375\" y2=\"242.9375\"/></a><!--MD5=[2156ba9850f5573cc1fc38a6a4b2f02b]\n",
       "class E7--><a href=\"psysml:6b7db59d-d003-4043-9508-3fd9ac781eff\" target=\"_top\" title=\"psysml:6b7db59d-d003-4043-9508-3fd9ac781eff\" xlink:actuate=\"onRequest\" xlink:href=\"psysml:6b7db59d-d003-4043-9508-3fd9ac781eff\" xlink:show=\"new\" xlink:title=\"psysml:6b7db59d-d003-4043-9508-3fd9ac781eff\" xlink:type=\"simple\"><rect fill=\"#FFFFFF\" height=\"45.9375\" id=\"E7\" rx=\"10\" ry=\"10\" style=\"stroke: #383838; stroke-width: 1.5;\" width=\"42\" x=\"361\" y=\"84\"/><text fill=\"#000000\" font-family=\"sans-serif\" font-size=\"12\" font-style=\"italic\" lengthAdjust=\"spacingAndGlyphs\" textLength=\"40\" x=\"362\" y=\"100.1387\">«part»</text><text fill=\"#000000\" font-family=\"sans-serif\" font-size=\"12\" lengthAdjust=\"spacingAndGlyphs\" textLength=\"22\" x=\"371\" y=\"114.1074\">x: A</text><line style=\"stroke: #383838; stroke-width: 1.5;\" x1=\"362\" x2=\"402\" y1=\"121.9375\" y2=\"121.9375\"/></a><!--MD5=[b9389687b975829384b498ac4b7476b2]\n",
       "class E8--><a href=\"psysml:6c414e1f-4fb5-42fd-83aa-c158d2fbc464\" target=\"_top\" title=\"psysml:6c414e1f-4fb5-42fd-83aa-c158d2fbc464\" xlink:actuate=\"onRequest\" xlink:href=\"psysml:6c414e1f-4fb5-42fd-83aa-c158d2fbc464\" xlink:show=\"new\" xlink:title=\"psysml:6c414e1f-4fb5-42fd-83aa-c158d2fbc464\" xlink:type=\"simple\"><rect fill=\"#FFFFFF\" height=\"45.9375\" id=\"E8\" rx=\"10\" ry=\"10\" style=\"stroke: #383838; stroke-width: 1.5;\" width=\"42\" x=\"284\" y=\"84\"/><text fill=\"#000000\" font-family=\"sans-serif\" font-size=\"12\" font-style=\"italic\" lengthAdjust=\"spacingAndGlyphs\" textLength=\"40\" x=\"285\" y=\"100.1387\">«part»</text><text fill=\"#000000\" font-family=\"sans-serif\" font-size=\"12\" lengthAdjust=\"spacingAndGlyphs\" textLength=\"22\" x=\"294\" y=\"114.1074\">y: B</text><line style=\"stroke: #383838; stroke-width: 1.5;\" x1=\"285\" x2=\"325\" y1=\"121.9375\" y2=\"121.9375\"/></a><!--MD5=[96f4274e9e20536e775497830990834d]\n",
       "class E10--><a href=\"psysml:797261aa-a958-4475-9de3-b139176b10fb\" target=\"_top\" title=\"psysml:797261aa-a958-4475-9de3-b139176b10fb\" xlink:actuate=\"onRequest\" xlink:href=\"psysml:797261aa-a958-4475-9de3-b139176b10fb\" xlink:show=\"new\" xlink:title=\"psysml:797261aa-a958-4475-9de3-b139176b10fb\" xlink:type=\"simple\"><rect fill=\"#FFFFFF\" height=\"45.9375\" id=\"E10\" rx=\"10\" ry=\"10\" style=\"stroke: #383838; stroke-width: 1.5;\" width=\"42\" x=\"186\" y=\"84\"/><text fill=\"#000000\" font-family=\"sans-serif\" font-size=\"12\" font-style=\"italic\" lengthAdjust=\"spacingAndGlyphs\" textLength=\"40\" x=\"187\" y=\"100.1387\">«part»</text><text fill=\"#000000\" font-family=\"sans-serif\" font-size=\"12\" lengthAdjust=\"spacingAndGlyphs\" textLength=\"22\" x=\"196\" y=\"114.1074\">x: A</text><line style=\"stroke: #383838; stroke-width: 1.5;\" x1=\"187\" x2=\"227\" y1=\"121.9375\" y2=\"121.9375\"/></a><!--MD5=[1dd1bfd58a279cf63c5f349dbc8fc6a1]\n",
       "class E11--><a href=\"psysml:3825b43b-bb71-4033-970e-c8c9e00cfd14\" target=\"_top\" title=\"psysml:3825b43b-bb71-4033-970e-c8c9e00cfd14\" xlink:actuate=\"onRequest\" xlink:href=\"psysml:3825b43b-bb71-4033-970e-c8c9e00cfd14\" xlink:show=\"new\" xlink:title=\"psysml:3825b43b-bb71-4033-970e-c8c9e00cfd14\" xlink:type=\"simple\"><rect fill=\"#FFFFFF\" height=\"45.9375\" id=\"E11\" rx=\"10\" ry=\"10\" style=\"stroke: #383838; stroke-width: 1.5;\" width=\"42\" x=\"109\" y=\"84\"/><text fill=\"#000000\" font-family=\"sans-serif\" font-size=\"12\" font-style=\"italic\" lengthAdjust=\"spacingAndGlyphs\" textLength=\"40\" x=\"110\" y=\"100.1387\">«part»</text><text fill=\"#000000\" font-family=\"sans-serif\" font-size=\"12\" lengthAdjust=\"spacingAndGlyphs\" textLength=\"22\" x=\"119\" y=\"114.1074\">y: B</text><line style=\"stroke: #383838; stroke-width: 1.5;\" x1=\"110\" x2=\"150\" y1=\"121.9375\" y2=\"121.9375\"/></a><!--MD5=[14ccda38c055a5c0da953d572bc50960]\n",
       "link E7 to E3--><a href=\"psysml:85e1ff22-6346-4a23-846d-dc1a236203c0\" target=\"_top\" title=\"psysml:85e1ff22-6346-4a23-846d-dc1a236203c0\" xlink:actuate=\"onRequest\" xlink:href=\"psysml:85e1ff22-6346-4a23-846d-dc1a236203c0\" xlink:show=\"new\" xlink:title=\"psysml:85e1ff22-6346-4a23-846d-dc1a236203c0\" xlink:type=\"simple\"><path d=\"M382,130.04 C382,130.04 382,184.63 382,184.63 \" fill=\"none\" id=\"E7-&gt;E3\" style=\"stroke: #383838; stroke-width: 1.0;\"/><polygon fill=\"#FFFFFF\" points=\"382,204.63,375,185.63,389,185.63,382,204.63\" style=\"stroke: #383838; stroke-width: 1.0;\"/><ellipse cx=\"377\" cy=\"179.93\" fill=\"#383838\" rx=\"2\" ry=\"2\" style=\"stroke: #383838; stroke-width: 1.0;\"/><ellipse cx=\"387\" cy=\"179.93\" fill=\"#383838\" rx=\"2\" ry=\"2\" style=\"stroke: #383838; stroke-width: 1.0;\"/></a><!--MD5=[1ccb2481ffa92f8d51a74ee30c51832a]\n",
       "link E8 to E5--><a href=\"psysml:483adec0-2d55-41ba-876c-1b8fe7d429ab\" target=\"_top\" title=\"psysml:483adec0-2d55-41ba-876c-1b8fe7d429ab\" xlink:actuate=\"onRequest\" xlink:href=\"psysml:483adec0-2d55-41ba-876c-1b8fe7d429ab\" xlink:show=\"new\" xlink:title=\"psysml:483adec0-2d55-41ba-876c-1b8fe7d429ab\" xlink:type=\"simple\"><path d=\"M305,130.06 C305,167.17 305,236 305,236 C305,236 183.33,236 183.33,236 \" fill=\"none\" id=\"E8-&gt;E5\" style=\"stroke: #383838; stroke-width: 1.0;\"/><polygon fill=\"#FFFFFF\" points=\"163.33,236,182.33,229,182.33,243,163.33,236\" style=\"stroke: #383838; stroke-width: 1.0;\"/><ellipse cx=\"188.03\" cy=\"231\" fill=\"#383838\" rx=\"2\" ry=\"2\" style=\"stroke: #383838; stroke-width: 1.0;\"/><ellipse cx=\"188.03\" cy=\"241\" fill=\"#383838\" rx=\"2\" ry=\"2\" style=\"stroke: #383838; stroke-width: 1.0;\"/></a><!--MD5=[feeac5eb423634930294aa81f2d25a4c]\n",
       "link E10 to E3--><a href=\"psysml:0e238847-8a3c-4f4a-a4c7-c4eca45a31b2\" target=\"_top\" title=\"psysml:0e238847-8a3c-4f4a-a4c7-c4eca45a31b2\" xlink:actuate=\"onRequest\" xlink:href=\"psysml:0e238847-8a3c-4f4a-a4c7-c4eca45a31b2\" xlink:show=\"new\" xlink:title=\"psysml:0e238847-8a3c-4f4a-a4c7-c4eca45a31b2\" xlink:type=\"simple\"><path d=\"M207,130.07 C207,163.38 207,221 207,221 C207,221 328.67,221 328.67,221 \" fill=\"none\" id=\"E10-&gt;E3\" style=\"stroke: #383838; stroke-width: 1.0;\"/><polygon fill=\"#FFFFFF\" points=\"348.67,221,329.67,228,329.67,214,348.67,221\" style=\"stroke: #383838; stroke-width: 1.0;\"/><ellipse cx=\"323.97\" cy=\"226\" fill=\"#383838\" rx=\"2\" ry=\"2\" style=\"stroke: #383838; stroke-width: 1.0;\"/><ellipse cx=\"323.97\" cy=\"216\" fill=\"#383838\" rx=\"2\" ry=\"2\" style=\"stroke: #383838; stroke-width: 1.0;\"/></a><!--MD5=[07b77f6f309248d16187045709d1c26e]\n",
       "link E11 to E5--><a href=\"psysml:1112046b-9823-4ab2-8a83-96247ffb9742\" target=\"_top\" title=\"psysml:1112046b-9823-4ab2-8a83-96247ffb9742\" xlink:actuate=\"onRequest\" xlink:href=\"psysml:1112046b-9823-4ab2-8a83-96247ffb9742\" xlink:show=\"new\" xlink:title=\"psysml:1112046b-9823-4ab2-8a83-96247ffb9742\" xlink:type=\"simple\"><path d=\"M130,130.04 C130,130.04 130,184.63 130,184.63 \" fill=\"none\" id=\"E11-&gt;E5\" style=\"stroke: #383838; stroke-width: 1.0;\"/><polygon fill=\"#FFFFFF\" points=\"130,204.63,123,185.63,137,185.63,130,204.63\" style=\"stroke: #383838; stroke-width: 1.0;\"/><ellipse cx=\"125\" cy=\"179.93\" fill=\"#383838\" rx=\"2\" ry=\"2\" style=\"stroke: #383838; stroke-width: 1.0;\"/><ellipse cx=\"135\" cy=\"179.93\" fill=\"#383838\" rx=\"2\" ry=\"2\" style=\"stroke: #383838; stroke-width: 1.0;\"/></a><!--MD5=[39f41a0e550fb3d73b4d8135617e30a2]\n",
       "link E12 to E3--><a href=\"psysml:ee0d4e1c-50f8-4d3c-8a56-5035ed7c5f53\" target=\"_top\" title=\"psysml:ee0d4e1c-50f8-4d3c-8a56-5035ed7c5f53\" xlink:actuate=\"onRequest\" xlink:href=\"psysml:ee0d4e1c-50f8-4d3c-8a56-5035ed7c5f53\" xlink:show=\"new\" xlink:title=\"psysml:ee0d4e1c-50f8-4d3c-8a56-5035ed7c5f53\" xlink:type=\"simple\"><path d=\"M437.8,107 C424.17,107 409,107 409,107 C409,107 409,184.96 409,184.96 \" fill=\"none\" id=\"E12-&gt;E3\" style=\"stroke: #383838; stroke-width: 1.0;\"/><polygon fill=\"#FFFFFF\" points=\"409,204.96,402,185.96,416,185.96,409,204.96\" style=\"stroke: #383838; stroke-width: 1.0;\"/><ellipse cx=\"404\" cy=\"180.26\" fill=\"#383838\" rx=\"2\" ry=\"2\" style=\"stroke: #383838; stroke-width: 1.0;\"/><ellipse cx=\"414\" cy=\"180.26\" fill=\"#383838\" rx=\"2\" ry=\"2\" style=\"stroke: #383838; stroke-width: 1.0;\"/></a><!--MD5=[066b2d8af59fea80ccdb3d54ad5c1091]\n",
       "link E13 to E5--><a href=\"psysml:1d6f62f5-9885-441d-bead-3e38c1577759\" target=\"_top\" title=\"psysml:1d6f62f5-9885-441d-bead-3e38c1577759\" xlink:actuate=\"onRequest\" xlink:href=\"psysml:1d6f62f5-9885-441d-bead-3e38c1577759\" xlink:show=\"new\" xlink:title=\"psysml:1d6f62f5-9885-441d-bead-3e38c1577759\" xlink:type=\"simple\"><path d=\"M74.2,107 C87.83,107 103,107 103,107 C103,107 103,184.96 103,184.96 \" fill=\"none\" id=\"E13-&gt;E5\" style=\"stroke: #383838; stroke-width: 1.0;\"/><polygon fill=\"#FFFFFF\" points=\"103,204.96,96,185.96,110,185.96,103,204.96\" style=\"stroke: #383838; stroke-width: 1.0;\"/><ellipse cx=\"98\" cy=\"180.26\" fill=\"#383838\" rx=\"2\" ry=\"2\" style=\"stroke: #383838; stroke-width: 1.0;\"/><ellipse cx=\"108\" cy=\"180.26\" fill=\"#383838\" rx=\"2\" ry=\"2\" style=\"stroke: #383838; stroke-width: 1.0;\"/></a><!--MD5=[62cddbae15d6b24b825588c28ef4ad92]\n",
       "@startuml\r\n",
       "skinparam linetype ortho\r\n",
       "skinparam monochrome true\r\n",
       "skinparam classbackgroundcolor white\r\n",
       "skinparam shadowing false\r\n",
       "skinparam wrapWidth 300\r\n",
       "hide circle\r\n",
       "\r\n",
       "package \"CircularImport\" as E1  [[psysml:6a62b0bb-ce07-42d9-b06f-c19bd22a93a2 ]]  {\r\n",
       "package \"P1\" as E2  [[psysml:e5793e48-aebf-4c77-9b1c-634d316c370a ]]  {\r\n",
       "comp def \"A\" as E3  <<(T,blue)part def>> [[psysml:4745677c-bede-4ab8-acdc-4365dad759bc ]] {\r\n",
       "}\r\n",
       "}\r\n",
       "package \"P2\" as E4  [[psysml:9f128572-3fea-4fc4-b18b-c92f97cc0f0b ]]  {\r\n",
       "comp def \"B\" as E5  <<(T,blue)part def>> [[psysml:a455b6ac-bbc4-40c1-9da4-354e9f8fdc46 ]] {\r\n",
       "}\r\n",
       "}\r\n",
       "package \"Test1\" as E6  [[psysml:6c517ad3-81f8-4503-b234-41386708eb5e ]]  {\r\n",
       "comp usage \"x: A\" as E7  <<(T,blue)part>> [[psysml:6b7db59d-d003-4043-9508-3fd9ac781eff ]] {\r\n",
       "}\r\n",
       "comp usage \"y: B\" as E8  <<(T,blue)part>> [[psysml:6c414e1f-4fb5-42fd-83aa-c158d2fbc464 ]] {\r\n",
       "}\r\n",
       "E7 - -:|> E3 [[psysml:85e1ff22-6346-4a23-846d-dc1a236203c0 ]] \r\n",
       "E8 - -:|> E5 [[psysml:483adec0-2d55-41ba-876c-1b8fe7d429ab ]] \r\n",
       "}\r\n",
       "package \"Test2\" as E9  [[psysml:81951965-8d4b-42c4-ba21-4255f6488007 ]]  {\r\n",
       "comp usage \"x: A\" as E10  <<(T,blue)part>> [[psysml:797261aa-a958-4475-9de3-b139176b10fb ]] {\r\n",
       "}\r\n",
       "comp usage \"y: B\" as E11  <<(T,blue)part>> [[psysml:3825b43b-bb71-4033-970e-c8c9e00cfd14 ]] {\r\n",
       "}\r\n",
       "E10 - -:|> E3 [[psysml:0e238847-8a3c-4f4a-a4c7-c4eca45a31b2 ]] \r\n",
       "E11 - -:|> E5 [[psysml:1112046b-9823-4ab2-8a83-96247ffb9742 ]] \r\n",
       "}\r\n",
       "comp usage \"x: A\" as E12  <<(T,blue)part>> [[psysml:e16c4bbb-61f3-4b61-a2b5-b03e29e494af ]] {\r\n",
       "}\r\n",
       "comp usage \"y: B\" as E13  <<(T,blue)part>> [[psysml:6a814915-eeda-4c4d-8e98-a86878ae1f3d ]] {\r\n",
       "}\r\n",
       "E12 - -:|> E3 [[psysml:ee0d4e1c-50f8-4d3c-8a56-5035ed7c5f53 ]] \r\n",
       "E13 - -:|> E5 [[psysml:1d6f62f5-9885-441d-bead-3e38c1577759 ]] \r\n",
       "}\r\n",
       "@enduml\r\n",
       "\n",
       "PlantUML version 1.2020.13(Sat Jun 13 12:26:38 UTC 2020)\n",
       "(EPL source distribution)\n",
       "Java Runtime: OpenJDK Runtime Environment\n",
       "JVM: OpenJDK 64-Bit Server VM\n",
       "Default Encoding: UTF-8\n",
       "Language: en\n",
       "Country: null\n",
       "--></g></svg>"
      ]
     },
     "execution_count": 57,
     "metadata": {},
     "output_type": "execute_result"
    }
   ],
   "source": [
    "%viz --style=\"ORTHOLINE\" --view=\"MIXED\" \"CircularImport\""
   ]
  }
 ],
 "metadata": {
  "kernelspec": {
   "display_name": "SysML",
   "language": "sysml",
   "name": "sysml"
  },
  "language_info": {
   "codemirror_mode": "sysml",
   "file_extension": ".sysml",
   "mimetype": "text/x-sysml",
   "name": "SysML",
   "pygments_lexer": "java",
   "version": "1.0.0"
  }
 },
 "nbformat": 4,
 "nbformat_minor": 5
}
