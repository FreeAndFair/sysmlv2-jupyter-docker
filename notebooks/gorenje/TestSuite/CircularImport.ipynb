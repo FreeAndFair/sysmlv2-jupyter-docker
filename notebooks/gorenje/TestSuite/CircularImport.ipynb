{
 "cells": [
  {
   "cell_type": "markdown",
   "id": "raised-helmet",
   "metadata": {},
   "source": [
    "# SysML v2 Test Suite\n",
    "\n",
    "This can notebook can be cleared using menu `Edit --> Clear All Outputs` and then all cells can be\n",
    "run using menu `Run --> Run All Cells`.\n",
    "\n",
    "**WARNING**: This file is generated, all modifications here will be ignored.\n"
   ]
  },
  {
   "cell_type": "markdown",
   "id": "thorough-orleans",
   "metadata": {},
   "source": [
    "## File: ../../sysml/src/examples/Import Tests/CircularImport.sysml"
   ]
  },
  {
   "cell_type": "code",
   "execution_count": 1,
   "id": "demonstrated-lightning",
   "metadata": {
    "execution": {
     "iopub.execute_input": "2021-03-26T09:40:15.051289Z",
     "iopub.status.busy": "2021-03-26T09:40:15.048689Z",
     "iopub.status.idle": "2021-03-26T09:40:15.191918Z",
     "shell.execute_reply": "2021-03-26T09:40:15.191590Z"
    }
   },
   "outputs": [
    {
     "data": {
      "text/plain": [
       "Package CircularImport (7bf42fd1-320d-4c53-bc79-ce116347580a)\n"
      ]
     },
     "execution_count": 1,
     "metadata": {},
     "output_type": "execute_result"
    }
   ],
   "source": [
    "package CircularImport {\n",
    "\n",
    "\tpackage P1 {\n",
    "\t\timport P2::*;\n",
    "\t\tpart def A;\n",
    "\t}\n",
    "\tpackage P2 {\n",
    "\t\timport P1::*;\n",
    "\t\tpart def B;\n",
    "\t}\n",
    "\tpackage Test1 {\n",
    "\t\timport P1::*;\n",
    "\t\tpart x: A;\n",
    "\t\tpart y: B;\n",
    "\t}\n",
    "\tpackage Test2 {\n",
    "\t\timport P2::*;\n",
    "\t\tpart x: A;\n",
    "\t\tpart y: B;\n",
    "\t}\n",
    "\t\n",
    "\tpart x: P1::A;\n",
    "\t\n",
    "\t// The following should not fail.\n",
    "\tpart y: P1::B;\n",
    "\t\n",
    "}"
   ]
  },
  {
   "cell_type": "code",
   "execution_count": 2,
   "id": "adopted-asian",
   "metadata": {
    "execution": {
     "iopub.execute_input": "2021-03-26T09:40:15.246145Z",
     "iopub.status.busy": "2021-03-26T09:40:15.245493Z",
     "iopub.status.idle": "2021-03-26T09:40:15.257590Z",
     "shell.execute_reply": "2021-03-26T09:40:15.257251Z"
    }
   },
   "outputs": [
    {
     "data": {
      "text/plain": [
       "java.lang.IllegalArgumentException: Invalid Style: COMPTREE Possible styles: POLYLINE, LR, STDCOLOR, PLANTUML, DEFAULT, TB, ORTHOLINE\n",
       "\tat org.omg.sysml.plantuml.SysML2PlantUMLStyle.get(SysML2PlantUMLStyle.java:258)\n",
       "\tat org.omg.sysml.plantuml.SysML2PlantUMLSvc.applyStyle(SysML2PlantUMLSvc.java:73)\n",
       "\tat org.omg.sysml.plantuml.SysML2PlantUMLSvc.getPlantUMLCode(SysML2PlantUMLSvc.java:88)\n",
       "\tat org.omg.sysml.plantuml.SysML2PlantUMLSvc.getSVG(SysML2PlantUMLSvc.java:99)\n",
       "\tat org.omg.sysml.interactive.SysMLInteractive.viz(SysMLInteractive.java:294)\n",
       "\tat org.omg.sysml.jupyter.kernel.magic.Viz.viz(Viz.java:47)\n",
       "\tat java.base/jdk.internal.reflect.NativeMethodAccessorImpl.invoke0(Native Method)\n",
       "\tat java.base/jdk.internal.reflect.NativeMethodAccessorImpl.invoke(NativeMethodAccessorImpl.java:78)\n",
       "\tat java.base/jdk.internal.reflect.DelegatingMethodAccessorImpl.invoke(DelegatingMethodAccessorImpl.java:43)\n",
       "\tat java.base/java.lang.reflect.Method.invoke(Method.java:568)\n",
       "\tat io.github.spencerpark.jupyter.kernel.magic.registry.Magics.invoke(Magics.java:89)\n",
       "\tat io.github.spencerpark.jupyter.kernel.magic.registry.Magics.access$000(Magics.java:8)\n",
       "\tat io.github.spencerpark.jupyter.kernel.magic.registry.Magics$LineReflectionMagicFunction.execute(Magics.java:149)\n",
       "\tat io.github.spencerpark.jupyter.kernel.magic.registry.Magics.applyLineMagic(Magics.java:26)\n",
       "\tat org.omg.sysml.jupyter.kernel.SysMLKernel.eval(SysMLKernel.java:76)\n",
       "\tat io.github.spencerpark.jupyter.kernel.BaseKernel.handleExecuteRequest(BaseKernel.java:334)\n",
       "\tat io.github.spencerpark.jupyter.channels.ShellChannel.lambda$bind$0(ShellChannel.java:64)\n",
       "\tat io.github.spencerpark.jupyter.channels.Loop.lambda$new$0(Loop.java:21)\n",
       "\tat io.github.spencerpark.jupyter.channels.Loop.run(Loop.java:78)\n"
      ]
     },
     "execution_count": 2,
     "metadata": {},
     "output_type": "execute_result"
    }
   ],
   "source": [
    "%viz --style=\"COMPTREE\" --view=\"Default\" \"CircularImport\""
   ]
  },
  {
   "cell_type": "code",
   "execution_count": 3,
   "id": "planned-amendment",
   "metadata": {
    "execution": {
     "iopub.execute_input": "2021-03-26T09:40:15.310321Z",
     "iopub.status.busy": "2021-03-26T09:40:15.309685Z",
     "iopub.status.idle": "2021-03-26T09:40:15.313564Z",
     "shell.execute_reply": "2021-03-26T09:40:15.313199Z"
    }
   },
   "outputs": [
    {
     "data": {
      "text/plain": [
       "java.lang.IllegalArgumentException: Invalid Style: COMPTREE Possible styles: POLYLINE, LR, STDCOLOR, PLANTUML, DEFAULT, TB, ORTHOLINE\n",
       "\tat org.omg.sysml.plantuml.SysML2PlantUMLStyle.get(SysML2PlantUMLStyle.java:258)\n",
       "\tat org.omg.sysml.plantuml.SysML2PlantUMLSvc.applyStyle(SysML2PlantUMLSvc.java:73)\n",
       "\tat org.omg.sysml.plantuml.SysML2PlantUMLSvc.getPlantUMLCode(SysML2PlantUMLSvc.java:88)\n",
       "\tat org.omg.sysml.plantuml.SysML2PlantUMLSvc.getSVG(SysML2PlantUMLSvc.java:99)\n",
       "\tat org.omg.sysml.interactive.SysMLInteractive.viz(SysMLInteractive.java:294)\n",
       "\tat org.omg.sysml.jupyter.kernel.magic.Viz.viz(Viz.java:47)\n",
       "\tat java.base/jdk.internal.reflect.NativeMethodAccessorImpl.invoke0(Native Method)\n",
       "\tat java.base/jdk.internal.reflect.NativeMethodAccessorImpl.invoke(NativeMethodAccessorImpl.java:78)\n",
       "\tat java.base/jdk.internal.reflect.DelegatingMethodAccessorImpl.invoke(DelegatingMethodAccessorImpl.java:43)\n",
       "\tat java.base/java.lang.reflect.Method.invoke(Method.java:568)\n",
       "\tat io.github.spencerpark.jupyter.kernel.magic.registry.Magics.invoke(Magics.java:89)\n",
       "\tat io.github.spencerpark.jupyter.kernel.magic.registry.Magics.access$000(Magics.java:8)\n",
       "\tat io.github.spencerpark.jupyter.kernel.magic.registry.Magics$LineReflectionMagicFunction.execute(Magics.java:149)\n",
       "\tat io.github.spencerpark.jupyter.kernel.magic.registry.Magics.applyLineMagic(Magics.java:26)\n",
       "\tat org.omg.sysml.jupyter.kernel.SysMLKernel.eval(SysMLKernel.java:76)\n",
       "\tat io.github.spencerpark.jupyter.kernel.BaseKernel.handleExecuteRequest(BaseKernel.java:334)\n",
       "\tat io.github.spencerpark.jupyter.channels.ShellChannel.lambda$bind$0(ShellChannel.java:64)\n",
       "\tat io.github.spencerpark.jupyter.channels.Loop.lambda$new$0(Loop.java:21)\n",
       "\tat io.github.spencerpark.jupyter.channels.Loop.run(Loop.java:78)\n"
      ]
     },
     "execution_count": 3,
     "metadata": {},
     "output_type": "execute_result"
    }
   ],
   "source": [
    "%viz --style=\"COMPTREE\" --view=\"Tree\" \"CircularImport\""
   ]
  },
  {
   "cell_type": "code",
   "execution_count": 4,
   "id": "negative-source",
   "metadata": {
    "execution": {
     "iopub.execute_input": "2021-03-26T09:40:15.366188Z",
     "iopub.status.busy": "2021-03-26T09:40:15.365519Z",
     "iopub.status.idle": "2021-03-26T09:40:15.369650Z",
     "shell.execute_reply": "2021-03-26T09:40:15.369252Z"
    }
   },
   "outputs": [
    {
     "data": {
      "text/plain": [
       "java.lang.IllegalArgumentException: Invalid View: State View candidates are: Default Tree StateMachine Interconnection Activity Sequence MIXED \n",
       "\tat org.omg.sysml.plantuml.SysML2PlantUMLSvc.setView(SysML2PlantUMLSvc.java:63)\n",
       "\tat org.omg.sysml.interactive.SysMLInteractive.viz(SysMLInteractive.java:286)\n",
       "\tat org.omg.sysml.jupyter.kernel.magic.Viz.viz(Viz.java:47)\n",
       "\tat java.base/jdk.internal.reflect.NativeMethodAccessorImpl.invoke0(Native Method)\n",
       "\tat java.base/jdk.internal.reflect.NativeMethodAccessorImpl.invoke(NativeMethodAccessorImpl.java:78)\n",
       "\tat java.base/jdk.internal.reflect.DelegatingMethodAccessorImpl.invoke(DelegatingMethodAccessorImpl.java:43)\n",
       "\tat java.base/java.lang.reflect.Method.invoke(Method.java:568)\n",
       "\tat io.github.spencerpark.jupyter.kernel.magic.registry.Magics.invoke(Magics.java:89)\n",
       "\tat io.github.spencerpark.jupyter.kernel.magic.registry.Magics.access$000(Magics.java:8)\n",
       "\tat io.github.spencerpark.jupyter.kernel.magic.registry.Magics$LineReflectionMagicFunction.execute(Magics.java:149)\n",
       "\tat io.github.spencerpark.jupyter.kernel.magic.registry.Magics.applyLineMagic(Magics.java:26)\n",
       "\tat org.omg.sysml.jupyter.kernel.SysMLKernel.eval(SysMLKernel.java:76)\n",
       "\tat io.github.spencerpark.jupyter.kernel.BaseKernel.handleExecuteRequest(BaseKernel.java:334)\n",
       "\tat io.github.spencerpark.jupyter.channels.ShellChannel.lambda$bind$0(ShellChannel.java:64)\n",
       "\tat io.github.spencerpark.jupyter.channels.Loop.lambda$new$0(Loop.java:21)\n",
       "\tat io.github.spencerpark.jupyter.channels.Loop.run(Loop.java:78)\n"
      ]
     },
     "execution_count": 4,
     "metadata": {},
     "output_type": "execute_result"
    }
   ],
   "source": [
    "%viz --style=\"COMPTREE\" --view=\"State\" \"CircularImport\""
   ]
  },
  {
   "cell_type": "code",
   "execution_count": 5,
   "id": "fresh-facial",
   "metadata": {
    "execution": {
     "iopub.execute_input": "2021-03-26T09:40:15.423363Z",
     "iopub.status.busy": "2021-03-26T09:40:15.421896Z",
     "iopub.status.idle": "2021-03-26T09:40:15.424712Z",
     "shell.execute_reply": "2021-03-26T09:40:15.425154Z"
    }
   },
   "outputs": [
    {
     "data": {
      "text/plain": [
       "java.lang.IllegalArgumentException: Invalid Style: COMPTREE Possible styles: POLYLINE, LR, STDCOLOR, PLANTUML, DEFAULT, TB, ORTHOLINE\n",
       "\tat org.omg.sysml.plantuml.SysML2PlantUMLStyle.get(SysML2PlantUMLStyle.java:258)\n",
       "\tat org.omg.sysml.plantuml.SysML2PlantUMLSvc.applyStyle(SysML2PlantUMLSvc.java:73)\n",
       "\tat org.omg.sysml.plantuml.SysML2PlantUMLSvc.getPlantUMLCode(SysML2PlantUMLSvc.java:88)\n",
       "\tat org.omg.sysml.plantuml.SysML2PlantUMLSvc.getSVG(SysML2PlantUMLSvc.java:99)\n",
       "\tat org.omg.sysml.interactive.SysMLInteractive.viz(SysMLInteractive.java:294)\n",
       "\tat org.omg.sysml.jupyter.kernel.magic.Viz.viz(Viz.java:47)\n",
       "\tat java.base/jdk.internal.reflect.NativeMethodAccessorImpl.invoke0(Native Method)\n",
       "\tat java.base/jdk.internal.reflect.NativeMethodAccessorImpl.invoke(NativeMethodAccessorImpl.java:78)\n",
       "\tat java.base/jdk.internal.reflect.DelegatingMethodAccessorImpl.invoke(DelegatingMethodAccessorImpl.java:43)\n",
       "\tat java.base/java.lang.reflect.Method.invoke(Method.java:568)\n",
       "\tat io.github.spencerpark.jupyter.kernel.magic.registry.Magics.invoke(Magics.java:89)\n",
       "\tat io.github.spencerpark.jupyter.kernel.magic.registry.Magics.access$000(Magics.java:8)\n",
       "\tat io.github.spencerpark.jupyter.kernel.magic.registry.Magics$LineReflectionMagicFunction.execute(Magics.java:149)\n",
       "\tat io.github.spencerpark.jupyter.kernel.magic.registry.Magics.applyLineMagic(Magics.java:26)\n",
       "\tat org.omg.sysml.jupyter.kernel.SysMLKernel.eval(SysMLKernel.java:76)\n",
       "\tat io.github.spencerpark.jupyter.kernel.BaseKernel.handleExecuteRequest(BaseKernel.java:334)\n",
       "\tat io.github.spencerpark.jupyter.channels.ShellChannel.lambda$bind$0(ShellChannel.java:64)\n",
       "\tat io.github.spencerpark.jupyter.channels.Loop.lambda$new$0(Loop.java:21)\n",
       "\tat io.github.spencerpark.jupyter.channels.Loop.run(Loop.java:78)\n"
      ]
     },
     "execution_count": 5,
     "metadata": {},
     "output_type": "execute_result"
    }
   ],
   "source": [
    "%viz --style=\"COMPTREE\" --view=\"Interconnection\" \"CircularImport\""
   ]
  },
  {
   "cell_type": "code",
   "execution_count": 6,
   "id": "laden-argument",
   "metadata": {
    "execution": {
     "iopub.execute_input": "2021-03-26T09:40:15.478695Z",
     "iopub.status.busy": "2021-03-26T09:40:15.476994Z",
     "iopub.status.idle": "2021-03-26T09:40:15.480303Z",
     "shell.execute_reply": "2021-03-26T09:40:15.480761Z"
    }
   },
   "outputs": [
    {
     "data": {
      "text/plain": [
       "java.lang.IllegalArgumentException: Invalid View: Action View candidates are: Default Tree StateMachine Interconnection Activity Sequence MIXED \n",
       "\tat org.omg.sysml.plantuml.SysML2PlantUMLSvc.setView(SysML2PlantUMLSvc.java:63)\n",
       "\tat org.omg.sysml.interactive.SysMLInteractive.viz(SysMLInteractive.java:286)\n",
       "\tat org.omg.sysml.jupyter.kernel.magic.Viz.viz(Viz.java:47)\n",
       "\tat java.base/jdk.internal.reflect.NativeMethodAccessorImpl.invoke0(Native Method)\n",
       "\tat java.base/jdk.internal.reflect.NativeMethodAccessorImpl.invoke(NativeMethodAccessorImpl.java:78)\n",
       "\tat java.base/jdk.internal.reflect.DelegatingMethodAccessorImpl.invoke(DelegatingMethodAccessorImpl.java:43)\n",
       "\tat java.base/java.lang.reflect.Method.invoke(Method.java:568)\n",
       "\tat io.github.spencerpark.jupyter.kernel.magic.registry.Magics.invoke(Magics.java:89)\n",
       "\tat io.github.spencerpark.jupyter.kernel.magic.registry.Magics.access$000(Magics.java:8)\n",
       "\tat io.github.spencerpark.jupyter.kernel.magic.registry.Magics$LineReflectionMagicFunction.execute(Magics.java:149)\n",
       "\tat io.github.spencerpark.jupyter.kernel.magic.registry.Magics.applyLineMagic(Magics.java:26)\n",
       "\tat org.omg.sysml.jupyter.kernel.SysMLKernel.eval(SysMLKernel.java:76)\n",
       "\tat io.github.spencerpark.jupyter.kernel.BaseKernel.handleExecuteRequest(BaseKernel.java:334)\n",
       "\tat io.github.spencerpark.jupyter.channels.ShellChannel.lambda$bind$0(ShellChannel.java:64)\n",
       "\tat io.github.spencerpark.jupyter.channels.Loop.lambda$new$0(Loop.java:21)\n",
       "\tat io.github.spencerpark.jupyter.channels.Loop.run(Loop.java:78)\n"
      ]
     },
     "execution_count": 6,
     "metadata": {},
     "output_type": "execute_result"
    }
   ],
   "source": [
    "%viz --style=\"COMPTREE\" --view=\"Action\" \"CircularImport\""
   ]
  },
  {
   "cell_type": "code",
   "execution_count": 7,
   "id": "material-butter",
   "metadata": {
    "execution": {
     "iopub.execute_input": "2021-03-26T09:40:15.534479Z",
     "iopub.status.busy": "2021-03-26T09:40:15.532649Z",
     "iopub.status.idle": "2021-03-26T09:40:15.536341Z",
     "shell.execute_reply": "2021-03-26T09:40:15.536761Z"
    }
   },
   "outputs": [
    {
     "data": {
      "text/plain": [
       "java.lang.IllegalArgumentException: Invalid Style: COMPTREE Possible styles: POLYLINE, LR, STDCOLOR, PLANTUML, DEFAULT, TB, ORTHOLINE\n",
       "\tat org.omg.sysml.plantuml.SysML2PlantUMLStyle.get(SysML2PlantUMLStyle.java:258)\n",
       "\tat org.omg.sysml.plantuml.SysML2PlantUMLSvc.applyStyle(SysML2PlantUMLSvc.java:73)\n",
       "\tat org.omg.sysml.plantuml.SysML2PlantUMLSvc.getPlantUMLCode(SysML2PlantUMLSvc.java:88)\n",
       "\tat org.omg.sysml.plantuml.SysML2PlantUMLSvc.getSVG(SysML2PlantUMLSvc.java:99)\n",
       "\tat org.omg.sysml.interactive.SysMLInteractive.viz(SysMLInteractive.java:294)\n",
       "\tat org.omg.sysml.jupyter.kernel.magic.Viz.viz(Viz.java:47)\n",
       "\tat java.base/jdk.internal.reflect.NativeMethodAccessorImpl.invoke0(Native Method)\n",
       "\tat java.base/jdk.internal.reflect.NativeMethodAccessorImpl.invoke(NativeMethodAccessorImpl.java:78)\n",
       "\tat java.base/jdk.internal.reflect.DelegatingMethodAccessorImpl.invoke(DelegatingMethodAccessorImpl.java:43)\n",
       "\tat java.base/java.lang.reflect.Method.invoke(Method.java:568)\n",
       "\tat io.github.spencerpark.jupyter.kernel.magic.registry.Magics.invoke(Magics.java:89)\n",
       "\tat io.github.spencerpark.jupyter.kernel.magic.registry.Magics.access$000(Magics.java:8)\n",
       "\tat io.github.spencerpark.jupyter.kernel.magic.registry.Magics$LineReflectionMagicFunction.execute(Magics.java:149)\n",
       "\tat io.github.spencerpark.jupyter.kernel.magic.registry.Magics.applyLineMagic(Magics.java:26)\n",
       "\tat org.omg.sysml.jupyter.kernel.SysMLKernel.eval(SysMLKernel.java:76)\n",
       "\tat io.github.spencerpark.jupyter.kernel.BaseKernel.handleExecuteRequest(BaseKernel.java:334)\n",
       "\tat io.github.spencerpark.jupyter.channels.ShellChannel.lambda$bind$0(ShellChannel.java:64)\n",
       "\tat io.github.spencerpark.jupyter.channels.Loop.lambda$new$0(Loop.java:21)\n",
       "\tat io.github.spencerpark.jupyter.channels.Loop.run(Loop.java:78)\n"
      ]
     },
     "execution_count": 7,
     "metadata": {},
     "output_type": "execute_result"
    }
   ],
   "source": [
    "%viz --style=\"COMPTREE\" --view=\"Sequence\" \"CircularImport\""
   ]
  },
  {
   "cell_type": "code",
   "execution_count": 8,
   "id": "compatible-postcard",
   "metadata": {
    "execution": {
     "iopub.execute_input": "2021-03-26T09:40:15.588383Z",
     "iopub.status.busy": "2021-03-26T09:40:15.587858Z",
     "iopub.status.idle": "2021-03-26T09:40:15.590840Z",
     "shell.execute_reply": "2021-03-26T09:40:15.591307Z"
    }
   },
   "outputs": [
    {
     "data": {
      "text/plain": [
       "java.lang.IllegalArgumentException: Invalid Style: COMPTREE Possible styles: POLYLINE, LR, STDCOLOR, PLANTUML, DEFAULT, TB, ORTHOLINE\n",
       "\tat org.omg.sysml.plantuml.SysML2PlantUMLStyle.get(SysML2PlantUMLStyle.java:258)\n",
       "\tat org.omg.sysml.plantuml.SysML2PlantUMLSvc.applyStyle(SysML2PlantUMLSvc.java:73)\n",
       "\tat org.omg.sysml.plantuml.SysML2PlantUMLSvc.getPlantUMLCode(SysML2PlantUMLSvc.java:88)\n",
       "\tat org.omg.sysml.plantuml.SysML2PlantUMLSvc.getSVG(SysML2PlantUMLSvc.java:99)\n",
       "\tat org.omg.sysml.interactive.SysMLInteractive.viz(SysMLInteractive.java:294)\n",
       "\tat org.omg.sysml.jupyter.kernel.magic.Viz.viz(Viz.java:47)\n",
       "\tat java.base/jdk.internal.reflect.NativeMethodAccessorImpl.invoke0(Native Method)\n",
       "\tat java.base/jdk.internal.reflect.NativeMethodAccessorImpl.invoke(NativeMethodAccessorImpl.java:78)\n",
       "\tat java.base/jdk.internal.reflect.DelegatingMethodAccessorImpl.invoke(DelegatingMethodAccessorImpl.java:43)\n",
       "\tat java.base/java.lang.reflect.Method.invoke(Method.java:568)\n",
       "\tat io.github.spencerpark.jupyter.kernel.magic.registry.Magics.invoke(Magics.java:89)\n",
       "\tat io.github.spencerpark.jupyter.kernel.magic.registry.Magics.access$000(Magics.java:8)\n",
       "\tat io.github.spencerpark.jupyter.kernel.magic.registry.Magics$LineReflectionMagicFunction.execute(Magics.java:149)\n",
       "\tat io.github.spencerpark.jupyter.kernel.magic.registry.Magics.applyLineMagic(Magics.java:26)\n",
       "\tat org.omg.sysml.jupyter.kernel.SysMLKernel.eval(SysMLKernel.java:76)\n",
       "\tat io.github.spencerpark.jupyter.kernel.BaseKernel.handleExecuteRequest(BaseKernel.java:334)\n",
       "\tat io.github.spencerpark.jupyter.channels.ShellChannel.lambda$bind$0(ShellChannel.java:64)\n",
       "\tat io.github.spencerpark.jupyter.channels.Loop.lambda$new$0(Loop.java:21)\n",
       "\tat io.github.spencerpark.jupyter.channels.Loop.run(Loop.java:78)\n"
      ]
     },
     "execution_count": 8,
     "metadata": {},
     "output_type": "execute_result"
    }
   ],
   "source": [
    "%viz --style=\"COMPTREE\" --view=\"MIXED\" \"CircularImport\""
   ]
  },
  {
   "cell_type": "code",
   "execution_count": 9,
   "id": "aging-messaging",
   "metadata": {
    "execution": {
     "iopub.execute_input": "2021-03-26T09:40:15.643822Z",
     "iopub.status.busy": "2021-03-26T09:40:15.643200Z",
     "iopub.status.idle": "2021-03-26T09:40:16.193242Z",
     "shell.execute_reply": "2021-03-26T09:40:16.190869Z"
    }
   },
   "outputs": [
    {
     "data": {
      "image/svg+xml": [
       "<?xml version=\"1.0\" encoding=\"UTF-8\" standalone=\"no\"?><svg xmlns=\"http://www.w3.org/2000/svg\" xmlns:xlink=\"http://www.w3.org/1999/xlink\" contentScriptType=\"application/ecmascript\" contentStyleType=\"text/css\" height=\"303px\" preserveAspectRatio=\"none\" style=\"width:518px;height:303px;\" version=\"1.1\" viewBox=\"0 0 518 303\" width=\"518px\" zoomAndPan=\"magnify\"><defs/><g><!--MD5=[fbc87193dbaf4d95561dea2c320d4a47]\n",
       "cluster E1--><polygon fill=\"#FFFFFF\" points=\"16,6,134,6,141,28.2969,496,28.2969,496,291,16,291,16,6\" style=\"stroke: #000000; stroke-width: 1.5;\"/><line style=\"stroke: #000000; stroke-width: 1.5;\" x1=\"16\" x2=\"141\" y1=\"28.2969\" y2=\"28.2969\"/><text fill=\"#000000\" font-family=\"sans-serif\" font-size=\"14\" font-weight=\"bold\" lengthAdjust=\"spacingAndGlyphs\" textLength=\"112\" x=\"20\" y=\"20.9951\">CircularImport</text><!--MD5=[e4f7fae6ed58524ba242bb0b0d3be6b7]\n",
       "cluster E2--><polygon fill=\"#FFFFFF\" points=\"333,170,359,170,366,192.2969,431,192.2969,431,267,333,267,333,170\" style=\"stroke: #000000; stroke-width: 1.5;\"/><line style=\"stroke: #000000; stroke-width: 1.5;\" x1=\"333\" x2=\"366\" y1=\"192.2969\" y2=\"192.2969\"/><text fill=\"#000000\" font-family=\"sans-serif\" font-size=\"14\" font-weight=\"bold\" lengthAdjust=\"spacingAndGlyphs\" textLength=\"20\" x=\"337\" y=\"184.9951\">P1</text><!--MD5=[f6df4d0ebaf0b5dfb2ced0ae5af7c670]\n",
       "cluster E4--><polygon fill=\"#FFFFFF\" points=\"81,170,107,170,114,192.2969,179,192.2969,179,267,81,267,81,170\" style=\"stroke: #000000; stroke-width: 1.5;\"/><line style=\"stroke: #000000; stroke-width: 1.5;\" x1=\"81\" x2=\"114\" y1=\"192.2969\" y2=\"192.2969\"/><text fill=\"#000000\" font-family=\"sans-serif\" font-size=\"14\" font-weight=\"bold\" lengthAdjust=\"spacingAndGlyphs\" textLength=\"20\" x=\"85\" y=\"184.9951\">P2</text><!--MD5=[14e3b0961a2654348d326746436168a1]\n",
       "cluster E6--><polygon fill=\"#FFFFFF\" points=\"268,49,319,49,326,71.2969,419,71.2969,419,146,268,146,268,49\" style=\"stroke: #000000; stroke-width: 1.5;\"/><line style=\"stroke: #000000; stroke-width: 1.5;\" x1=\"268\" x2=\"326\" y1=\"71.2969\" y2=\"71.2969\"/><text fill=\"#000000\" font-family=\"sans-serif\" font-size=\"14\" font-weight=\"bold\" lengthAdjust=\"spacingAndGlyphs\" textLength=\"45\" x=\"272\" y=\"63.9951\">Test1</text><!--MD5=[7f149f147074ac12df2cb0a7728a5fb0]\n",
       "cluster E9--><polygon fill=\"#FFFFFF\" points=\"93,49,144,49,151,71.2969,244,71.2969,244,146,93,146,93,49\" style=\"stroke: #000000; stroke-width: 1.5;\"/><line style=\"stroke: #000000; stroke-width: 1.5;\" x1=\"93\" x2=\"151\" y1=\"71.2969\" y2=\"71.2969\"/><text fill=\"#000000\" font-family=\"sans-serif\" font-size=\"14\" font-weight=\"bold\" lengthAdjust=\"spacingAndGlyphs\" textLength=\"45\" x=\"97\" y=\"63.9951\">Test2</text><!--MD5=[49a0ec8f00dab7302a31f22d0f0fe584]\n",
       "class E12--><rect fill=\"#FFFFFF\" height=\"45.9375\" id=\"E12\" rx=\"10\" ry=\"10\" style=\"stroke: #383838; stroke-width: 1.5;\" width=\"42\" x=\"438\" y=\"84\"/><text fill=\"#000000\" font-family=\"sans-serif\" font-size=\"12\" font-style=\"italic\" lengthAdjust=\"spacingAndGlyphs\" textLength=\"40\" x=\"439\" y=\"100.1387\">«part»</text><text fill=\"#000000\" font-family=\"sans-serif\" font-size=\"12\" lengthAdjust=\"spacingAndGlyphs\" textLength=\"22\" x=\"448\" y=\"114.1074\">x: A</text><line style=\"stroke: #383838; stroke-width: 1.5;\" x1=\"439\" x2=\"479\" y1=\"121.9375\" y2=\"121.9375\"/><!--MD5=[ee3c913d1a06f366521f9ef512b67efe]\n",
       "class E13--><rect fill=\"#FFFFFF\" height=\"45.9375\" id=\"E13\" rx=\"10\" ry=\"10\" style=\"stroke: #383838; stroke-width: 1.5;\" width=\"42\" x=\"32\" y=\"84\"/><text fill=\"#000000\" font-family=\"sans-serif\" font-size=\"12\" font-style=\"italic\" lengthAdjust=\"spacingAndGlyphs\" textLength=\"40\" x=\"33\" y=\"100.1387\">«part»</text><text fill=\"#000000\" font-family=\"sans-serif\" font-size=\"12\" lengthAdjust=\"spacingAndGlyphs\" textLength=\"22\" x=\"42\" y=\"114.1074\">y: B</text><line style=\"stroke: #383838; stroke-width: 1.5;\" x1=\"33\" x2=\"73\" y1=\"121.9375\" y2=\"121.9375\"/><!--MD5=[09b614a08d8cba4a07c9adeb5e0fee81]\n",
       "class E3--><rect fill=\"#FFFFFF\" height=\"45.9375\" id=\"E3\" style=\"stroke: #383838; stroke-width: 1.5;\" width=\"66\" x=\"349\" y=\"205\"/><text fill=\"#000000\" font-family=\"sans-serif\" font-size=\"12\" font-style=\"italic\" lengthAdjust=\"spacingAndGlyphs\" textLength=\"64\" x=\"350\" y=\"221.1387\">«part def»</text><text fill=\"#000000\" font-family=\"sans-serif\" font-size=\"12\" lengthAdjust=\"spacingAndGlyphs\" textLength=\"8\" x=\"378\" y=\"235.1074\">A</text><line style=\"stroke: #383838; stroke-width: 1.5;\" x1=\"350\" x2=\"414\" y1=\"242.9375\" y2=\"242.9375\"/><!--MD5=[270fce915f116d4de14055a7c1d9a0f3]\n",
       "class E5--><rect fill=\"#FFFFFF\" height=\"45.9375\" id=\"E5\" style=\"stroke: #383838; stroke-width: 1.5;\" width=\"66\" x=\"97\" y=\"205\"/><text fill=\"#000000\" font-family=\"sans-serif\" font-size=\"12\" font-style=\"italic\" lengthAdjust=\"spacingAndGlyphs\" textLength=\"64\" x=\"98\" y=\"221.1387\">«part def»</text><text fill=\"#000000\" font-family=\"sans-serif\" font-size=\"12\" lengthAdjust=\"spacingAndGlyphs\" textLength=\"8\" x=\"126\" y=\"235.1074\">B</text><line style=\"stroke: #383838; stroke-width: 1.5;\" x1=\"98\" x2=\"162\" y1=\"242.9375\" y2=\"242.9375\"/><!--MD5=[2156ba9850f5573cc1fc38a6a4b2f02b]\n",
       "class E7--><rect fill=\"#FFFFFF\" height=\"45.9375\" id=\"E7\" rx=\"10\" ry=\"10\" style=\"stroke: #383838; stroke-width: 1.5;\" width=\"42\" x=\"361\" y=\"84\"/><text fill=\"#000000\" font-family=\"sans-serif\" font-size=\"12\" font-style=\"italic\" lengthAdjust=\"spacingAndGlyphs\" textLength=\"40\" x=\"362\" y=\"100.1387\">«part»</text><text fill=\"#000000\" font-family=\"sans-serif\" font-size=\"12\" lengthAdjust=\"spacingAndGlyphs\" textLength=\"22\" x=\"371\" y=\"114.1074\">x: A</text><line style=\"stroke: #383838; stroke-width: 1.5;\" x1=\"362\" x2=\"402\" y1=\"121.9375\" y2=\"121.9375\"/><!--MD5=[b9389687b975829384b498ac4b7476b2]\n",
       "class E8--><rect fill=\"#FFFFFF\" height=\"45.9375\" id=\"E8\" rx=\"10\" ry=\"10\" style=\"stroke: #383838; stroke-width: 1.5;\" width=\"42\" x=\"284\" y=\"84\"/><text fill=\"#000000\" font-family=\"sans-serif\" font-size=\"12\" font-style=\"italic\" lengthAdjust=\"spacingAndGlyphs\" textLength=\"40\" x=\"285\" y=\"100.1387\">«part»</text><text fill=\"#000000\" font-family=\"sans-serif\" font-size=\"12\" lengthAdjust=\"spacingAndGlyphs\" textLength=\"22\" x=\"294\" y=\"114.1074\">y: B</text><line style=\"stroke: #383838; stroke-width: 1.5;\" x1=\"285\" x2=\"325\" y1=\"121.9375\" y2=\"121.9375\"/><!--MD5=[96f4274e9e20536e775497830990834d]\n",
       "class E10--><rect fill=\"#FFFFFF\" height=\"45.9375\" id=\"E10\" rx=\"10\" ry=\"10\" style=\"stroke: #383838; stroke-width: 1.5;\" width=\"42\" x=\"186\" y=\"84\"/><text fill=\"#000000\" font-family=\"sans-serif\" font-size=\"12\" font-style=\"italic\" lengthAdjust=\"spacingAndGlyphs\" textLength=\"40\" x=\"187\" y=\"100.1387\">«part»</text><text fill=\"#000000\" font-family=\"sans-serif\" font-size=\"12\" lengthAdjust=\"spacingAndGlyphs\" textLength=\"22\" x=\"196\" y=\"114.1074\">x: A</text><line style=\"stroke: #383838; stroke-width: 1.5;\" x1=\"187\" x2=\"227\" y1=\"121.9375\" y2=\"121.9375\"/><!--MD5=[1dd1bfd58a279cf63c5f349dbc8fc6a1]\n",
       "class E11--><rect fill=\"#FFFFFF\" height=\"45.9375\" id=\"E11\" rx=\"10\" ry=\"10\" style=\"stroke: #383838; stroke-width: 1.5;\" width=\"42\" x=\"109\" y=\"84\"/><text fill=\"#000000\" font-family=\"sans-serif\" font-size=\"12\" font-style=\"italic\" lengthAdjust=\"spacingAndGlyphs\" textLength=\"40\" x=\"110\" y=\"100.1387\">«part»</text><text fill=\"#000000\" font-family=\"sans-serif\" font-size=\"12\" lengthAdjust=\"spacingAndGlyphs\" textLength=\"22\" x=\"119\" y=\"114.1074\">y: B</text><line style=\"stroke: #383838; stroke-width: 1.5;\" x1=\"110\" x2=\"150\" y1=\"121.9375\" y2=\"121.9375\"/><!--MD5=[14ccda38c055a5c0da953d572bc50960]\n",
       "link E7 to E3--><path d=\"M382,130.1 C382,145.37 382,166.16 382,184.57 \" fill=\"none\" id=\"E7-&gt;E3\" style=\"stroke: #383838; stroke-width: 1.0;\"/><polygon fill=\"#FFFFFF\" points=\"382,204.61,375,185.61,389,185.61,382,204.61\" style=\"stroke: #383838; stroke-width: 1.0;\"/><ellipse cx=\"377\" cy=\"179.91\" fill=\"#383838\" rx=\"2\" ry=\"2\" style=\"stroke: #383838; stroke-width: 1.0;\"/><ellipse cx=\"387\" cy=\"179.91\" fill=\"#383838\" rx=\"2\" ry=\"2\" style=\"stroke: #383838; stroke-width: 1.0;\"/><!--MD5=[1ccb2481ffa92f8d51a74ee30c51832a]\n",
       "link E8 to E5--><path d=\"M283.67,124.09 C266.07,137.35 244,154 244,154 C244,154 210.8,175.26 180.23,194.83 \" fill=\"none\" id=\"E8-&gt;E5\" style=\"stroke: #383838; stroke-width: 1.0;\"/><polygon fill=\"#FFFFFF\" points=\"163.28,205.69,175.5055,189.5488,183.0554,201.3386,163.28,205.69\" style=\"stroke: #383838; stroke-width: 1.0;\"/><ellipse cx=\"181.3842\" cy=\"188.1592\" fill=\"#383838\" rx=\"2\" ry=\"2\" style=\"stroke: #383838; stroke-width: 1.0;\"/><ellipse cx=\"186.777\" cy=\"196.5805\" fill=\"#383838\" rx=\"2\" ry=\"2\" style=\"stroke: #383838; stroke-width: 1.0;\"/><!--MD5=[feeac5eb423634930294aa81f2d25a4c]\n",
       "link E10 to E3--><path d=\"M228.33,124.09 C245.93,137.35 268,154 268,154 C268,154 301.2,175.26 331.77,194.83 \" fill=\"none\" id=\"E10-&gt;E3\" style=\"stroke: #383838; stroke-width: 1.0;\"/><polygon fill=\"#FFFFFF\" points=\"348.72,205.69,328.9446,201.3386,336.4945,189.5488,348.72,205.69\" style=\"stroke: #383838; stroke-width: 1.0;\"/><ellipse cx=\"325.223\" cy=\"196.5805\" fill=\"#383838\" rx=\"2\" ry=\"2\" style=\"stroke: #383838; stroke-width: 1.0;\"/><ellipse cx=\"330.6158\" cy=\"188.1592\" fill=\"#383838\" rx=\"2\" ry=\"2\" style=\"stroke: #383838; stroke-width: 1.0;\"/><!--MD5=[07b77f6f309248d16187045709d1c26e]\n",
       "link E11 to E5--><path d=\"M130,130.1 C130,145.37 130,166.16 130,184.57 \" fill=\"none\" id=\"E11-&gt;E5\" style=\"stroke: #383838; stroke-width: 1.0;\"/><polygon fill=\"#FFFFFF\" points=\"130,204.61,123,185.61,137,185.61,130,204.61\" style=\"stroke: #383838; stroke-width: 1.0;\"/><ellipse cx=\"125\" cy=\"179.91\" fill=\"#383838\" rx=\"2\" ry=\"2\" style=\"stroke: #383838; stroke-width: 1.0;\"/><ellipse cx=\"135\" cy=\"179.91\" fill=\"#383838\" rx=\"2\" ry=\"2\" style=\"stroke: #383838; stroke-width: 1.0;\"/><!--MD5=[39f41a0e550fb3d73b4d8135617e30a2]\n",
       "link E12 to E3--><path d=\"M444.7,130.1 C434.28,146.2 419.89,168.44 407.53,187.55 \" fill=\"none\" id=\"E12-&gt;E3\" style=\"stroke: #383838; stroke-width: 1.0;\"/><polygon fill=\"#FFFFFF\" points=\"396.49,204.61,400.9313,184.8546,412.6866,192.4581,396.49,204.61\" style=\"stroke: #383838; stroke-width: 1.0;\"/><ellipse cx=\"405.7063\" cy=\"181.1547\" fill=\"#383838\" rx=\"2\" ry=\"2\" style=\"stroke: #383838; stroke-width: 1.0;\"/><ellipse cx=\"414.103\" cy=\"186.5858\" fill=\"#383838\" rx=\"2\" ry=\"2\" style=\"stroke: #383838; stroke-width: 1.0;\"/><!--MD5=[066b2d8af59fea80ccdb3d54ad5c1091]\n",
       "link E13 to E5--><path d=\"M67.3,130.1 C77.72,146.2 92.11,168.44 104.47,187.55 \" fill=\"none\" id=\"E13-&gt;E5\" style=\"stroke: #383838; stroke-width: 1.0;\"/><polygon fill=\"#FFFFFF\" points=\"115.51,204.61,99.3134,192.4581,111.0687,184.8546,115.51,204.61\" style=\"stroke: #383838; stroke-width: 1.0;\"/><ellipse cx=\"97.897\" cy=\"186.5858\" fill=\"#383838\" rx=\"2\" ry=\"2\" style=\"stroke: #383838; stroke-width: 1.0;\"/><ellipse cx=\"106.2937\" cy=\"181.1547\" fill=\"#383838\" rx=\"2\" ry=\"2\" style=\"stroke: #383838; stroke-width: 1.0;\"/><!--MD5=[696f37bb4dd5d67ed0103291607195a6]\n",
       "@startuml\r\n",
       "skinparam linetype polyline\r\n",
       "skinparam monochrome true\r\n",
       "skinparam classbackgroundcolor white\r\n",
       "skinparam shadowing false\r\n",
       "skinparam wrapWidth 300\r\n",
       "hide circle\r\n",
       "\r\n",
       "package \"CircularImport\" as E1   {\r\n",
       "package \"P1\" as E2   {\r\n",
       "comp def \"A\" as E3  <<(T,blue)part def>> {\r\n",
       "}\r\n",
       "}\r\n",
       "package \"P2\" as E4   {\r\n",
       "comp def \"B\" as E5  <<(T,blue)part def>> {\r\n",
       "}\r\n",
       "}\r\n",
       "package \"Test1\" as E6   {\r\n",
       "comp usage \"x: A\" as E7  <<(T,blue)part>> {\r\n",
       "}\r\n",
       "comp usage \"y: B\" as E8  <<(T,blue)part>> {\r\n",
       "}\r\n",
       "E7 - -:|> E3\r\n",
       "E8 - -:|> E5\r\n",
       "}\r\n",
       "package \"Test2\" as E9   {\r\n",
       "comp usage \"x: A\" as E10  <<(T,blue)part>> {\r\n",
       "}\r\n",
       "comp usage \"y: B\" as E11  <<(T,blue)part>> {\r\n",
       "}\r\n",
       "E10 - -:|> E3\r\n",
       "E11 - -:|> E5\r\n",
       "}\r\n",
       "comp usage \"x: A\" as E12  <<(T,blue)part>> {\r\n",
       "}\r\n",
       "comp usage \"y: B\" as E13  <<(T,blue)part>> {\r\n",
       "}\r\n",
       "E12 - -:|> E3\r\n",
       "E13 - -:|> E5\r\n",
       "}\r\n",
       "@enduml\r\n",
       "\n",
       "PlantUML version 1.2020.13(Sat Jun 13 12:26:38 UTC 2020)\n",
       "(EPL source distribution)\n",
       "Java Runtime: OpenJDK Runtime Environment\n",
       "JVM: OpenJDK 64-Bit Server VM\n",
       "Default Encoding: UTF-8\n",
       "Language: en\n",
       "Country: null\n",
       "--></g></svg>"
      ]
     },
     "execution_count": 9,
     "metadata": {},
     "output_type": "execute_result"
    }
   ],
   "source": [
    "%viz --style=\"POLYLINE\" --view=\"Default\" \"CircularImport\""
   ]
  },
  {
   "cell_type": "code",
   "execution_count": 10,
   "id": "falling-roberts",
   "metadata": {
    "execution": {
     "iopub.execute_input": "2021-03-26T09:40:16.245233Z",
     "iopub.status.busy": "2021-03-26T09:40:16.244549Z",
     "iopub.status.idle": "2021-03-26T09:40:16.347549Z",
     "shell.execute_reply": "2021-03-26T09:40:16.348042Z"
    }
   },
   "outputs": [
    {
     "data": {
      "image/svg+xml": [
       "<?xml version=\"1.0\" encoding=\"UTF-8\" standalone=\"no\"?><svg xmlns=\"http://www.w3.org/2000/svg\" xmlns:xlink=\"http://www.w3.org/1999/xlink\" contentScriptType=\"application/ecmascript\" contentStyleType=\"text/css\" height=\"303px\" preserveAspectRatio=\"none\" style=\"width:518px;height:303px;\" version=\"1.1\" viewBox=\"0 0 518 303\" width=\"518px\" zoomAndPan=\"magnify\"><defs/><g><!--MD5=[fbc87193dbaf4d95561dea2c320d4a47]\n",
       "cluster E1--><polygon fill=\"#FFFFFF\" points=\"16,6,134,6,141,28.2969,496,28.2969,496,291,16,291,16,6\" style=\"stroke: #000000; stroke-width: 1.5;\"/><line style=\"stroke: #000000; stroke-width: 1.5;\" x1=\"16\" x2=\"141\" y1=\"28.2969\" y2=\"28.2969\"/><text fill=\"#000000\" font-family=\"sans-serif\" font-size=\"14\" font-weight=\"bold\" lengthAdjust=\"spacingAndGlyphs\" textLength=\"112\" x=\"20\" y=\"20.9951\">CircularImport</text><!--MD5=[e4f7fae6ed58524ba242bb0b0d3be6b7]\n",
       "cluster E2--><polygon fill=\"#FFFFFF\" points=\"333,170,359,170,366,192.2969,431,192.2969,431,267,333,267,333,170\" style=\"stroke: #000000; stroke-width: 1.5;\"/><line style=\"stroke: #000000; stroke-width: 1.5;\" x1=\"333\" x2=\"366\" y1=\"192.2969\" y2=\"192.2969\"/><text fill=\"#000000\" font-family=\"sans-serif\" font-size=\"14\" font-weight=\"bold\" lengthAdjust=\"spacingAndGlyphs\" textLength=\"20\" x=\"337\" y=\"184.9951\">P1</text><!--MD5=[f6df4d0ebaf0b5dfb2ced0ae5af7c670]\n",
       "cluster E4--><polygon fill=\"#FFFFFF\" points=\"81,170,107,170,114,192.2969,179,192.2969,179,267,81,267,81,170\" style=\"stroke: #000000; stroke-width: 1.5;\"/><line style=\"stroke: #000000; stroke-width: 1.5;\" x1=\"81\" x2=\"114\" y1=\"192.2969\" y2=\"192.2969\"/><text fill=\"#000000\" font-family=\"sans-serif\" font-size=\"14\" font-weight=\"bold\" lengthAdjust=\"spacingAndGlyphs\" textLength=\"20\" x=\"85\" y=\"184.9951\">P2</text><!--MD5=[14e3b0961a2654348d326746436168a1]\n",
       "cluster E6--><polygon fill=\"#FFFFFF\" points=\"268,49,319,49,326,71.2969,419,71.2969,419,146,268,146,268,49\" style=\"stroke: #000000; stroke-width: 1.5;\"/><line style=\"stroke: #000000; stroke-width: 1.5;\" x1=\"268\" x2=\"326\" y1=\"71.2969\" y2=\"71.2969\"/><text fill=\"#000000\" font-family=\"sans-serif\" font-size=\"14\" font-weight=\"bold\" lengthAdjust=\"spacingAndGlyphs\" textLength=\"45\" x=\"272\" y=\"63.9951\">Test1</text><!--MD5=[7f149f147074ac12df2cb0a7728a5fb0]\n",
       "cluster E9--><polygon fill=\"#FFFFFF\" points=\"93,49,144,49,151,71.2969,244,71.2969,244,146,93,146,93,49\" style=\"stroke: #000000; stroke-width: 1.5;\"/><line style=\"stroke: #000000; stroke-width: 1.5;\" x1=\"93\" x2=\"151\" y1=\"71.2969\" y2=\"71.2969\"/><text fill=\"#000000\" font-family=\"sans-serif\" font-size=\"14\" font-weight=\"bold\" lengthAdjust=\"spacingAndGlyphs\" textLength=\"45\" x=\"97\" y=\"63.9951\">Test2</text><!--MD5=[49a0ec8f00dab7302a31f22d0f0fe584]\n",
       "class E12--><rect fill=\"#FFFFFF\" height=\"45.9375\" id=\"E12\" rx=\"10\" ry=\"10\" style=\"stroke: #383838; stroke-width: 1.5;\" width=\"42\" x=\"438\" y=\"84\"/><text fill=\"#000000\" font-family=\"sans-serif\" font-size=\"12\" font-style=\"italic\" lengthAdjust=\"spacingAndGlyphs\" textLength=\"40\" x=\"439\" y=\"100.1387\">«part»</text><text fill=\"#000000\" font-family=\"sans-serif\" font-size=\"12\" lengthAdjust=\"spacingAndGlyphs\" textLength=\"22\" x=\"448\" y=\"114.1074\">x: A</text><line style=\"stroke: #383838; stroke-width: 1.5;\" x1=\"439\" x2=\"479\" y1=\"121.9375\" y2=\"121.9375\"/><!--MD5=[ee3c913d1a06f366521f9ef512b67efe]\n",
       "class E13--><rect fill=\"#FFFFFF\" height=\"45.9375\" id=\"E13\" rx=\"10\" ry=\"10\" style=\"stroke: #383838; stroke-width: 1.5;\" width=\"42\" x=\"32\" y=\"84\"/><text fill=\"#000000\" font-family=\"sans-serif\" font-size=\"12\" font-style=\"italic\" lengthAdjust=\"spacingAndGlyphs\" textLength=\"40\" x=\"33\" y=\"100.1387\">«part»</text><text fill=\"#000000\" font-family=\"sans-serif\" font-size=\"12\" lengthAdjust=\"spacingAndGlyphs\" textLength=\"22\" x=\"42\" y=\"114.1074\">y: B</text><line style=\"stroke: #383838; stroke-width: 1.5;\" x1=\"33\" x2=\"73\" y1=\"121.9375\" y2=\"121.9375\"/><!--MD5=[09b614a08d8cba4a07c9adeb5e0fee81]\n",
       "class E3--><rect fill=\"#FFFFFF\" height=\"45.9375\" id=\"E3\" style=\"stroke: #383838; stroke-width: 1.5;\" width=\"66\" x=\"349\" y=\"205\"/><text fill=\"#000000\" font-family=\"sans-serif\" font-size=\"12\" font-style=\"italic\" lengthAdjust=\"spacingAndGlyphs\" textLength=\"64\" x=\"350\" y=\"221.1387\">«part def»</text><text fill=\"#000000\" font-family=\"sans-serif\" font-size=\"12\" lengthAdjust=\"spacingAndGlyphs\" textLength=\"8\" x=\"378\" y=\"235.1074\">A</text><line style=\"stroke: #383838; stroke-width: 1.5;\" x1=\"350\" x2=\"414\" y1=\"242.9375\" y2=\"242.9375\"/><!--MD5=[270fce915f116d4de14055a7c1d9a0f3]\n",
       "class E5--><rect fill=\"#FFFFFF\" height=\"45.9375\" id=\"E5\" style=\"stroke: #383838; stroke-width: 1.5;\" width=\"66\" x=\"97\" y=\"205\"/><text fill=\"#000000\" font-family=\"sans-serif\" font-size=\"12\" font-style=\"italic\" lengthAdjust=\"spacingAndGlyphs\" textLength=\"64\" x=\"98\" y=\"221.1387\">«part def»</text><text fill=\"#000000\" font-family=\"sans-serif\" font-size=\"12\" lengthAdjust=\"spacingAndGlyphs\" textLength=\"8\" x=\"126\" y=\"235.1074\">B</text><line style=\"stroke: #383838; stroke-width: 1.5;\" x1=\"98\" x2=\"162\" y1=\"242.9375\" y2=\"242.9375\"/><!--MD5=[2156ba9850f5573cc1fc38a6a4b2f02b]\n",
       "class E7--><rect fill=\"#FFFFFF\" height=\"45.9375\" id=\"E7\" rx=\"10\" ry=\"10\" style=\"stroke: #383838; stroke-width: 1.5;\" width=\"42\" x=\"361\" y=\"84\"/><text fill=\"#000000\" font-family=\"sans-serif\" font-size=\"12\" font-style=\"italic\" lengthAdjust=\"spacingAndGlyphs\" textLength=\"40\" x=\"362\" y=\"100.1387\">«part»</text><text fill=\"#000000\" font-family=\"sans-serif\" font-size=\"12\" lengthAdjust=\"spacingAndGlyphs\" textLength=\"22\" x=\"371\" y=\"114.1074\">x: A</text><line style=\"stroke: #383838; stroke-width: 1.5;\" x1=\"362\" x2=\"402\" y1=\"121.9375\" y2=\"121.9375\"/><!--MD5=[b9389687b975829384b498ac4b7476b2]\n",
       "class E8--><rect fill=\"#FFFFFF\" height=\"45.9375\" id=\"E8\" rx=\"10\" ry=\"10\" style=\"stroke: #383838; stroke-width: 1.5;\" width=\"42\" x=\"284\" y=\"84\"/><text fill=\"#000000\" font-family=\"sans-serif\" font-size=\"12\" font-style=\"italic\" lengthAdjust=\"spacingAndGlyphs\" textLength=\"40\" x=\"285\" y=\"100.1387\">«part»</text><text fill=\"#000000\" font-family=\"sans-serif\" font-size=\"12\" lengthAdjust=\"spacingAndGlyphs\" textLength=\"22\" x=\"294\" y=\"114.1074\">y: B</text><line style=\"stroke: #383838; stroke-width: 1.5;\" x1=\"285\" x2=\"325\" y1=\"121.9375\" y2=\"121.9375\"/><!--MD5=[96f4274e9e20536e775497830990834d]\n",
       "class E10--><rect fill=\"#FFFFFF\" height=\"45.9375\" id=\"E10\" rx=\"10\" ry=\"10\" style=\"stroke: #383838; stroke-width: 1.5;\" width=\"42\" x=\"186\" y=\"84\"/><text fill=\"#000000\" font-family=\"sans-serif\" font-size=\"12\" font-style=\"italic\" lengthAdjust=\"spacingAndGlyphs\" textLength=\"40\" x=\"187\" y=\"100.1387\">«part»</text><text fill=\"#000000\" font-family=\"sans-serif\" font-size=\"12\" lengthAdjust=\"spacingAndGlyphs\" textLength=\"22\" x=\"196\" y=\"114.1074\">x: A</text><line style=\"stroke: #383838; stroke-width: 1.5;\" x1=\"187\" x2=\"227\" y1=\"121.9375\" y2=\"121.9375\"/><!--MD5=[1dd1bfd58a279cf63c5f349dbc8fc6a1]\n",
       "class E11--><rect fill=\"#FFFFFF\" height=\"45.9375\" id=\"E11\" rx=\"10\" ry=\"10\" style=\"stroke: #383838; stroke-width: 1.5;\" width=\"42\" x=\"109\" y=\"84\"/><text fill=\"#000000\" font-family=\"sans-serif\" font-size=\"12\" font-style=\"italic\" lengthAdjust=\"spacingAndGlyphs\" textLength=\"40\" x=\"110\" y=\"100.1387\">«part»</text><text fill=\"#000000\" font-family=\"sans-serif\" font-size=\"12\" lengthAdjust=\"spacingAndGlyphs\" textLength=\"22\" x=\"119\" y=\"114.1074\">y: B</text><line style=\"stroke: #383838; stroke-width: 1.5;\" x1=\"110\" x2=\"150\" y1=\"121.9375\" y2=\"121.9375\"/><!--MD5=[14ccda38c055a5c0da953d572bc50960]\n",
       "link E7 to E3--><path d=\"M382,130.1 C382,145.37 382,166.16 382,184.57 \" fill=\"none\" id=\"E7-&gt;E3\" style=\"stroke: #383838; stroke-width: 1.0;\"/><polygon fill=\"#FFFFFF\" points=\"382,204.61,375,185.61,389,185.61,382,204.61\" style=\"stroke: #383838; stroke-width: 1.0;\"/><ellipse cx=\"377\" cy=\"179.91\" fill=\"#383838\" rx=\"2\" ry=\"2\" style=\"stroke: #383838; stroke-width: 1.0;\"/><ellipse cx=\"387\" cy=\"179.91\" fill=\"#383838\" rx=\"2\" ry=\"2\" style=\"stroke: #383838; stroke-width: 1.0;\"/><!--MD5=[1ccb2481ffa92f8d51a74ee30c51832a]\n",
       "link E8 to E5--><path d=\"M283.67,124.09 C266.07,137.35 244,154 244,154 C244,154 210.8,175.26 180.23,194.83 \" fill=\"none\" id=\"E8-&gt;E5\" style=\"stroke: #383838; stroke-width: 1.0;\"/><polygon fill=\"#FFFFFF\" points=\"163.28,205.69,175.5055,189.5488,183.0554,201.3386,163.28,205.69\" style=\"stroke: #383838; stroke-width: 1.0;\"/><ellipse cx=\"181.3842\" cy=\"188.1592\" fill=\"#383838\" rx=\"2\" ry=\"2\" style=\"stroke: #383838; stroke-width: 1.0;\"/><ellipse cx=\"186.777\" cy=\"196.5805\" fill=\"#383838\" rx=\"2\" ry=\"2\" style=\"stroke: #383838; stroke-width: 1.0;\"/><!--MD5=[feeac5eb423634930294aa81f2d25a4c]\n",
       "link E10 to E3--><path d=\"M228.33,124.09 C245.93,137.35 268,154 268,154 C268,154 301.2,175.26 331.77,194.83 \" fill=\"none\" id=\"E10-&gt;E3\" style=\"stroke: #383838; stroke-width: 1.0;\"/><polygon fill=\"#FFFFFF\" points=\"348.72,205.69,328.9446,201.3386,336.4945,189.5488,348.72,205.69\" style=\"stroke: #383838; stroke-width: 1.0;\"/><ellipse cx=\"325.223\" cy=\"196.5805\" fill=\"#383838\" rx=\"2\" ry=\"2\" style=\"stroke: #383838; stroke-width: 1.0;\"/><ellipse cx=\"330.6158\" cy=\"188.1592\" fill=\"#383838\" rx=\"2\" ry=\"2\" style=\"stroke: #383838; stroke-width: 1.0;\"/><!--MD5=[07b77f6f309248d16187045709d1c26e]\n",
       "link E11 to E5--><path d=\"M130,130.1 C130,145.37 130,166.16 130,184.57 \" fill=\"none\" id=\"E11-&gt;E5\" style=\"stroke: #383838; stroke-width: 1.0;\"/><polygon fill=\"#FFFFFF\" points=\"130,204.61,123,185.61,137,185.61,130,204.61\" style=\"stroke: #383838; stroke-width: 1.0;\"/><ellipse cx=\"125\" cy=\"179.91\" fill=\"#383838\" rx=\"2\" ry=\"2\" style=\"stroke: #383838; stroke-width: 1.0;\"/><ellipse cx=\"135\" cy=\"179.91\" fill=\"#383838\" rx=\"2\" ry=\"2\" style=\"stroke: #383838; stroke-width: 1.0;\"/><!--MD5=[39f41a0e550fb3d73b4d8135617e30a2]\n",
       "link E12 to E3--><path d=\"M444.7,130.1 C434.28,146.2 419.89,168.44 407.53,187.55 \" fill=\"none\" id=\"E12-&gt;E3\" style=\"stroke: #383838; stroke-width: 1.0;\"/><polygon fill=\"#FFFFFF\" points=\"396.49,204.61,400.9313,184.8546,412.6866,192.4581,396.49,204.61\" style=\"stroke: #383838; stroke-width: 1.0;\"/><ellipse cx=\"405.7063\" cy=\"181.1547\" fill=\"#383838\" rx=\"2\" ry=\"2\" style=\"stroke: #383838; stroke-width: 1.0;\"/><ellipse cx=\"414.103\" cy=\"186.5858\" fill=\"#383838\" rx=\"2\" ry=\"2\" style=\"stroke: #383838; stroke-width: 1.0;\"/><!--MD5=[066b2d8af59fea80ccdb3d54ad5c1091]\n",
       "link E13 to E5--><path d=\"M67.3,130.1 C77.72,146.2 92.11,168.44 104.47,187.55 \" fill=\"none\" id=\"E13-&gt;E5\" style=\"stroke: #383838; stroke-width: 1.0;\"/><polygon fill=\"#FFFFFF\" points=\"115.51,204.61,99.3134,192.4581,111.0687,184.8546,115.51,204.61\" style=\"stroke: #383838; stroke-width: 1.0;\"/><ellipse cx=\"97.897\" cy=\"186.5858\" fill=\"#383838\" rx=\"2\" ry=\"2\" style=\"stroke: #383838; stroke-width: 1.0;\"/><ellipse cx=\"106.2937\" cy=\"181.1547\" fill=\"#383838\" rx=\"2\" ry=\"2\" style=\"stroke: #383838; stroke-width: 1.0;\"/><!--MD5=[696f37bb4dd5d67ed0103291607195a6]\n",
       "@startuml\r\n",
       "skinparam linetype polyline\r\n",
       "skinparam monochrome true\r\n",
       "skinparam classbackgroundcolor white\r\n",
       "skinparam shadowing false\r\n",
       "skinparam wrapWidth 300\r\n",
       "hide circle\r\n",
       "\r\n",
       "package \"CircularImport\" as E1   {\r\n",
       "package \"P1\" as E2   {\r\n",
       "comp def \"A\" as E3  <<(T,blue)part def>> {\r\n",
       "}\r\n",
       "}\r\n",
       "package \"P2\" as E4   {\r\n",
       "comp def \"B\" as E5  <<(T,blue)part def>> {\r\n",
       "}\r\n",
       "}\r\n",
       "package \"Test1\" as E6   {\r\n",
       "comp usage \"x: A\" as E7  <<(T,blue)part>> {\r\n",
       "}\r\n",
       "comp usage \"y: B\" as E8  <<(T,blue)part>> {\r\n",
       "}\r\n",
       "E7 - -:|> E3\r\n",
       "E8 - -:|> E5\r\n",
       "}\r\n",
       "package \"Test2\" as E9   {\r\n",
       "comp usage \"x: A\" as E10  <<(T,blue)part>> {\r\n",
       "}\r\n",
       "comp usage \"y: B\" as E11  <<(T,blue)part>> {\r\n",
       "}\r\n",
       "E10 - -:|> E3\r\n",
       "E11 - -:|> E5\r\n",
       "}\r\n",
       "comp usage \"x: A\" as E12  <<(T,blue)part>> {\r\n",
       "}\r\n",
       "comp usage \"y: B\" as E13  <<(T,blue)part>> {\r\n",
       "}\r\n",
       "E12 - -:|> E3\r\n",
       "E13 - -:|> E5\r\n",
       "}\r\n",
       "@enduml\r\n",
       "\n",
       "PlantUML version 1.2020.13(Sat Jun 13 12:26:38 UTC 2020)\n",
       "(EPL source distribution)\n",
       "Java Runtime: OpenJDK Runtime Environment\n",
       "JVM: OpenJDK 64-Bit Server VM\n",
       "Default Encoding: UTF-8\n",
       "Language: en\n",
       "Country: null\n",
       "--></g></svg>"
      ]
     },
     "execution_count": 10,
     "metadata": {},
     "output_type": "execute_result"
    }
   ],
   "source": [
    "%viz --style=\"POLYLINE\" --view=\"Tree\" \"CircularImport\""
   ]
  },
  {
   "cell_type": "code",
   "execution_count": 11,
   "id": "starting-fifth",
   "metadata": {
    "execution": {
     "iopub.execute_input": "2021-03-26T09:40:16.398636Z",
     "iopub.status.busy": "2021-03-26T09:40:16.398237Z",
     "iopub.status.idle": "2021-03-26T09:40:16.399640Z",
     "shell.execute_reply": "2021-03-26T09:40:16.400002Z"
    }
   },
   "outputs": [
    {
     "data": {
      "text/plain": [
       "java.lang.IllegalArgumentException: Invalid View: State View candidates are: Default Tree StateMachine Interconnection Activity Sequence MIXED \n",
       "\tat org.omg.sysml.plantuml.SysML2PlantUMLSvc.setView(SysML2PlantUMLSvc.java:63)\n",
       "\tat org.omg.sysml.interactive.SysMLInteractive.viz(SysMLInteractive.java:286)\n",
       "\tat org.omg.sysml.jupyter.kernel.magic.Viz.viz(Viz.java:47)\n",
       "\tat java.base/jdk.internal.reflect.NativeMethodAccessorImpl.invoke0(Native Method)\n",
       "\tat java.base/jdk.internal.reflect.NativeMethodAccessorImpl.invoke(NativeMethodAccessorImpl.java:78)\n",
       "\tat java.base/jdk.internal.reflect.DelegatingMethodAccessorImpl.invoke(DelegatingMethodAccessorImpl.java:43)\n",
       "\tat java.base/java.lang.reflect.Method.invoke(Method.java:568)\n",
       "\tat io.github.spencerpark.jupyter.kernel.magic.registry.Magics.invoke(Magics.java:89)\n",
       "\tat io.github.spencerpark.jupyter.kernel.magic.registry.Magics.access$000(Magics.java:8)\n",
       "\tat io.github.spencerpark.jupyter.kernel.magic.registry.Magics$LineReflectionMagicFunction.execute(Magics.java:149)\n",
       "\tat io.github.spencerpark.jupyter.kernel.magic.registry.Magics.applyLineMagic(Magics.java:26)\n",
       "\tat org.omg.sysml.jupyter.kernel.SysMLKernel.eval(SysMLKernel.java:76)\n",
       "\tat io.github.spencerpark.jupyter.kernel.BaseKernel.handleExecuteRequest(BaseKernel.java:334)\n",
       "\tat io.github.spencerpark.jupyter.channels.ShellChannel.lambda$bind$0(ShellChannel.java:64)\n",
       "\tat io.github.spencerpark.jupyter.channels.Loop.lambda$new$0(Loop.java:21)\n",
       "\tat io.github.spencerpark.jupyter.channels.Loop.run(Loop.java:78)\n"
      ]
     },
     "execution_count": 11,
     "metadata": {},
     "output_type": "execute_result"
    }
   ],
   "source": [
    "%viz --style=\"POLYLINE\" --view=\"State\" \"CircularImport\""
   ]
  },
  {
   "cell_type": "code",
   "execution_count": 12,
   "id": "closed-cement",
   "metadata": {
    "execution": {
     "iopub.execute_input": "2021-03-26T09:40:16.453127Z",
     "iopub.status.busy": "2021-03-26T09:40:16.451904Z",
     "iopub.status.idle": "2021-03-26T09:40:16.554882Z",
     "shell.execute_reply": "2021-03-26T09:40:16.554483Z"
    }
   },
   "outputs": [
    {
     "data": {
      "image/svg+xml": [
       "<?xml version=\"1.0\" encoding=\"UTF-8\" standalone=\"no\"?><svg xmlns=\"http://www.w3.org/2000/svg\" xmlns:xlink=\"http://www.w3.org/1999/xlink\" contentScriptType=\"application/ecmascript\" contentStyleType=\"text/css\" height=\"189px\" preserveAspectRatio=\"none\" style=\"width:886px;height:189px;\" version=\"1.1\" viewBox=\"0 0 886 189\" width=\"886px\" zoomAndPan=\"magnify\"><defs/><g><!--MD5=[fbc87193dbaf4d95561dea2c320d4a47]\n",
       "cluster E1--><polygon fill=\"#FFFFFF\" points=\"16,6,134,6,141,28.2969,864,28.2969,864,177,16,177,16,6\" style=\"stroke: #000000; stroke-width: 1.5;\"/><line style=\"stroke: #000000; stroke-width: 1.5;\" x1=\"16\" x2=\"141\" y1=\"28.2969\" y2=\"28.2969\"/><text fill=\"#000000\" font-family=\"sans-serif\" font-size=\"14\" font-weight=\"bold\" lengthAdjust=\"spacingAndGlyphs\" textLength=\"112\" x=\"20\" y=\"20.9951\">CircularImport</text><!--MD5=[e4f7fae6ed58524ba242bb0b0d3be6b7]\n",
       "cluster E2--><polygon fill=\"#FFFFFF\" points=\"716,49,742,49,749,71.2969,840,71.2969,840,153,716,153,716,49\" style=\"stroke: #000000; stroke-width: 1.5;\"/><line style=\"stroke: #000000; stroke-width: 1.5;\" x1=\"716\" x2=\"749\" y1=\"71.2969\" y2=\"71.2969\"/><text fill=\"#000000\" font-family=\"sans-serif\" font-size=\"14\" font-weight=\"bold\" lengthAdjust=\"spacingAndGlyphs\" textLength=\"20\" x=\"720\" y=\"63.9951\">P1</text><!--MD5=[f6df4d0ebaf0b5dfb2ced0ae5af7c670]\n",
       "cluster E4--><polygon fill=\"#FFFFFF\" points=\"568,49,594,49,601,71.2969,692,71.2969,692,153,568,153,568,49\" style=\"stroke: #000000; stroke-width: 1.5;\"/><line style=\"stroke: #000000; stroke-width: 1.5;\" x1=\"568\" x2=\"601\" y1=\"71.2969\" y2=\"71.2969\"/><text fill=\"#000000\" font-family=\"sans-serif\" font-size=\"14\" font-weight=\"bold\" lengthAdjust=\"spacingAndGlyphs\" textLength=\"20\" x=\"572\" y=\"63.9951\">P2</text><!--MD5=[14e3b0961a2654348d326746436168a1]\n",
       "cluster E6--><polygon fill=\"#FFFFFF\" points=\"377,50.5,428,50.5,435,72.7969,544,72.7969,544,151.5,377,151.5,377,50.5\" style=\"stroke: #000000; stroke-width: 1.5;\"/><line style=\"stroke: #000000; stroke-width: 1.5;\" x1=\"377\" x2=\"435\" y1=\"72.7969\" y2=\"72.7969\"/><text fill=\"#000000\" font-family=\"sans-serif\" font-size=\"14\" font-weight=\"bold\" lengthAdjust=\"spacingAndGlyphs\" textLength=\"45\" x=\"381\" y=\"65.4951\">Test1</text><!--MD5=[7f149f147074ac12df2cb0a7728a5fb0]\n",
       "cluster E9--><polygon fill=\"#FFFFFF\" points=\"186,50.5,237,50.5,244,72.7969,353,72.7969,353,151.5,186,151.5,186,50.5\" style=\"stroke: #000000; stroke-width: 1.5;\"/><line style=\"stroke: #000000; stroke-width: 1.5;\" x1=\"186\" x2=\"244\" y1=\"72.7969\" y2=\"72.7969\"/><text fill=\"#000000\" font-family=\"sans-serif\" font-size=\"14\" font-weight=\"bold\" lengthAdjust=\"spacingAndGlyphs\" textLength=\"45\" x=\"190\" y=\"65.4951\">Test2</text><!--MD5=[a60fb756f580feb9fd8e2cf1329b5c91]\n",
       "entity E3--><rect fill=\"#FFFFFF\" height=\"52.5938\" style=\"stroke: #000000; stroke-width: 1.5;\" width=\"91\" x=\"732.5\" y=\"84\"/><text fill=\"#000000\" font-family=\"sans-serif\" font-size=\"14\" font-style=\"italic\" lengthAdjust=\"spacingAndGlyphs\" textLength=\"71\" x=\"742.5\" y=\"106.9951\">«part def»</text><text fill=\"#000000\" font-family=\"sans-serif\" font-size=\"14\" lengthAdjust=\"spacingAndGlyphs\" textLength=\"9\" x=\"773.5\" y=\"123.292\">A</text><!--MD5=[21dd76c19d33815960c0e92fef8f0eef]\n",
       "entity E5--><rect fill=\"#FFFFFF\" height=\"52.5938\" style=\"stroke: #000000; stroke-width: 1.5;\" width=\"91\" x=\"584.5\" y=\"84\"/><text fill=\"#000000\" font-family=\"sans-serif\" font-size=\"14\" font-style=\"italic\" lengthAdjust=\"spacingAndGlyphs\" textLength=\"71\" x=\"594.5\" y=\"106.9951\">«part def»</text><text fill=\"#000000\" font-family=\"sans-serif\" font-size=\"14\" lengthAdjust=\"spacingAndGlyphs\" textLength=\"10\" x=\"625\" y=\"123.292\">B</text><g id=\"E1.E6.E7\"><rect fill=\"#FFFFFF\" height=\"50\" rx=\"12.5\" ry=\"12.5\" style=\"stroke: #383838; stroke-width: 1.5;\" width=\"50\" x=\"478\" y=\"85.5\"/><line style=\"stroke: #383838; stroke-width: 1.5;\" x1=\"478\" x2=\"528\" y1=\"111.7969\" y2=\"111.7969\"/><text fill=\"#000000\" font-family=\"sans-serif\" font-size=\"14\" lengthAdjust=\"spacingAndGlyphs\" textLength=\"25\" x=\"490.5\" y=\"103.4951\">x: A</text></g><g id=\"E1.E6.E8\"><rect fill=\"#FFFFFF\" height=\"50\" rx=\"12.5\" ry=\"12.5\" style=\"stroke: #383838; stroke-width: 1.5;\" width=\"50\" x=\"393\" y=\"85.5\"/><line style=\"stroke: #383838; stroke-width: 1.5;\" x1=\"393\" x2=\"443\" y1=\"111.7969\" y2=\"111.7969\"/><text fill=\"#000000\" font-family=\"sans-serif\" font-size=\"14\" lengthAdjust=\"spacingAndGlyphs\" textLength=\"26\" x=\"405\" y=\"103.4951\">y: B</text></g><g id=\"E1.E9.E10\"><rect fill=\"#FFFFFF\" height=\"50\" rx=\"12.5\" ry=\"12.5\" style=\"stroke: #383838; stroke-width: 1.5;\" width=\"50\" x=\"287\" y=\"85.5\"/><line style=\"stroke: #383838; stroke-width: 1.5;\" x1=\"287\" x2=\"337\" y1=\"111.7969\" y2=\"111.7969\"/><text fill=\"#000000\" font-family=\"sans-serif\" font-size=\"14\" lengthAdjust=\"spacingAndGlyphs\" textLength=\"25\" x=\"299.5\" y=\"103.4951\">x: A</text></g><g id=\"E1.E9.E11\"><rect fill=\"#FFFFFF\" height=\"50\" rx=\"12.5\" ry=\"12.5\" style=\"stroke: #383838; stroke-width: 1.5;\" width=\"50\" x=\"202\" y=\"85.5\"/><line style=\"stroke: #383838; stroke-width: 1.5;\" x1=\"202\" x2=\"252\" y1=\"111.7969\" y2=\"111.7969\"/><text fill=\"#000000\" font-family=\"sans-serif\" font-size=\"14\" lengthAdjust=\"spacingAndGlyphs\" textLength=\"26\" x=\"214\" y=\"103.4951\">y: B</text></g><g id=\"E1.E12\"><rect fill=\"#FFFFFF\" height=\"50\" rx=\"12.5\" ry=\"12.5\" style=\"stroke: #383838; stroke-width: 1.5;\" width=\"50\" x=\"117\" y=\"85.5\"/><line style=\"stroke: #383838; stroke-width: 1.5;\" x1=\"117\" x2=\"167\" y1=\"111.7969\" y2=\"111.7969\"/><text fill=\"#000000\" font-family=\"sans-serif\" font-size=\"14\" lengthAdjust=\"spacingAndGlyphs\" textLength=\"25\" x=\"129.5\" y=\"103.4951\">x: A</text></g><g id=\"E1.E13\"><rect fill=\"#FFFFFF\" height=\"50\" rx=\"12.5\" ry=\"12.5\" style=\"stroke: #383838; stroke-width: 1.5;\" width=\"50\" x=\"32\" y=\"85.5\"/><line style=\"stroke: #383838; stroke-width: 1.5;\" x1=\"32\" x2=\"82\" y1=\"111.7969\" y2=\"111.7969\"/><text fill=\"#000000\" font-family=\"sans-serif\" font-size=\"14\" lengthAdjust=\"spacingAndGlyphs\" textLength=\"26\" x=\"44\" y=\"103.4951\">y: B</text></g><!--MD5=[93f962add884ccff93e968501fab12c5]\n",
       "@startuml\r\n",
       "skinparam ranksep 8\r\n",
       "skinparam rectangle {\r\n",
       " backgroundColor<<block>> LightGreen\r\n",
       "}\r\n",
       "skinparam linetype polyline\r\n",
       "skinparam monochrome true\r\n",
       "skinparam classbackgroundcolor white\r\n",
       "skinparam shadowing false\r\n",
       "skinparam wrapWidth 300\r\n",
       "hide circle\r\n",
       "\r\n",
       "package \"CircularImport\" as E1   {\r\n",
       "package \"P1\" as E2   {\r\n",
       "rec def \"A\" as E3  <<part def>> {\r\n",
       "}\r\n",
       "}\r\n",
       "package \"P2\" as E4   {\r\n",
       "rec def \"B\" as E5  <<part def>> {\r\n",
       "}\r\n",
       "}\r\n",
       "package \"Test1\" as E6   {\r\n",
       "rec usage \"x: A\" as E7  {\r\n",
       "}\r\n",
       "rec usage \"y: B\" as E8  {\r\n",
       "}\r\n",
       "}\r\n",
       "package \"Test2\" as E9   {\r\n",
       "rec usage \"x: A\" as E10  {\r\n",
       "}\r\n",
       "rec usage \"y: B\" as E11  {\r\n",
       "}\r\n",
       "}\r\n",
       "rec usage \"x: A\" as E12  {\r\n",
       "}\r\n",
       "rec usage \"y: B\" as E13  {\r\n",
       "}\r\n",
       "}\r\n",
       "@enduml\r\n",
       "\n",
       "PlantUML version 1.2020.13(Sat Jun 13 12:26:38 UTC 2020)\n",
       "(EPL source distribution)\n",
       "Java Runtime: OpenJDK Runtime Environment\n",
       "JVM: OpenJDK 64-Bit Server VM\n",
       "Default Encoding: UTF-8\n",
       "Language: en\n",
       "Country: null\n",
       "--></g></svg>"
      ]
     },
     "execution_count": 12,
     "metadata": {},
     "output_type": "execute_result"
    }
   ],
   "source": [
    "%viz --style=\"POLYLINE\" --view=\"Interconnection\" \"CircularImport\""
   ]
  },
  {
   "cell_type": "code",
   "execution_count": 13,
   "id": "forward-angle",
   "metadata": {
    "execution": {
     "iopub.execute_input": "2021-03-26T09:40:16.607662Z",
     "iopub.status.busy": "2021-03-26T09:40:16.606861Z",
     "iopub.status.idle": "2021-03-26T09:40:16.610435Z",
     "shell.execute_reply": "2021-03-26T09:40:16.609797Z"
    }
   },
   "outputs": [
    {
     "data": {
      "text/plain": [
       "java.lang.IllegalArgumentException: Invalid View: Action View candidates are: Default Tree StateMachine Interconnection Activity Sequence MIXED \n",
       "\tat org.omg.sysml.plantuml.SysML2PlantUMLSvc.setView(SysML2PlantUMLSvc.java:63)\n",
       "\tat org.omg.sysml.interactive.SysMLInteractive.viz(SysMLInteractive.java:286)\n",
       "\tat org.omg.sysml.jupyter.kernel.magic.Viz.viz(Viz.java:47)\n",
       "\tat java.base/jdk.internal.reflect.NativeMethodAccessorImpl.invoke0(Native Method)\n",
       "\tat java.base/jdk.internal.reflect.NativeMethodAccessorImpl.invoke(NativeMethodAccessorImpl.java:78)\n",
       "\tat java.base/jdk.internal.reflect.DelegatingMethodAccessorImpl.invoke(DelegatingMethodAccessorImpl.java:43)\n",
       "\tat java.base/java.lang.reflect.Method.invoke(Method.java:568)\n",
       "\tat io.github.spencerpark.jupyter.kernel.magic.registry.Magics.invoke(Magics.java:89)\n",
       "\tat io.github.spencerpark.jupyter.kernel.magic.registry.Magics.access$000(Magics.java:8)\n",
       "\tat io.github.spencerpark.jupyter.kernel.magic.registry.Magics$LineReflectionMagicFunction.execute(Magics.java:149)\n",
       "\tat io.github.spencerpark.jupyter.kernel.magic.registry.Magics.applyLineMagic(Magics.java:26)\n",
       "\tat org.omg.sysml.jupyter.kernel.SysMLKernel.eval(SysMLKernel.java:76)\n",
       "\tat io.github.spencerpark.jupyter.kernel.BaseKernel.handleExecuteRequest(BaseKernel.java:334)\n",
       "\tat io.github.spencerpark.jupyter.channels.ShellChannel.lambda$bind$0(ShellChannel.java:64)\n",
       "\tat io.github.spencerpark.jupyter.channels.Loop.lambda$new$0(Loop.java:21)\n",
       "\tat io.github.spencerpark.jupyter.channels.Loop.run(Loop.java:78)\n"
      ]
     },
     "execution_count": 13,
     "metadata": {},
     "output_type": "execute_result"
    }
   ],
   "source": [
    "%viz --style=\"POLYLINE\" --view=\"Action\" \"CircularImport\""
   ]
  },
  {
   "cell_type": "code",
   "execution_count": 14,
   "id": "incorporate-trigger",
   "metadata": {
    "execution": {
     "iopub.execute_input": "2021-03-26T09:40:16.666114Z",
     "iopub.status.busy": "2021-03-26T09:40:16.664963Z",
     "iopub.status.idle": "2021-03-26T09:40:16.730780Z",
     "shell.execute_reply": "2021-03-26T09:40:16.731165Z"
    }
   },
   "outputs": [
    {
     "data": {
      "image/svg+xml": [
       "<?xml version=\"1.0\" encoding=\"UTF-8\" standalone=\"no\"?><svg xmlns=\"http://www.w3.org/2000/svg\" xmlns:xlink=\"http://www.w3.org/1999/xlink\" contentScriptType=\"application/ecmascript\" contentStyleType=\"text/css\" height=\"303px\" preserveAspectRatio=\"none\" style=\"width:518px;height:303px;\" version=\"1.1\" viewBox=\"0 0 518 303\" width=\"518px\" zoomAndPan=\"magnify\"><defs/><g><!--MD5=[fbc87193dbaf4d95561dea2c320d4a47]\n",
       "cluster E1--><polygon fill=\"#FFFFFF\" points=\"16,6,134,6,141,28.2969,496,28.2969,496,291,16,291,16,6\" style=\"stroke: #000000; stroke-width: 1.5;\"/><line style=\"stroke: #000000; stroke-width: 1.5;\" x1=\"16\" x2=\"141\" y1=\"28.2969\" y2=\"28.2969\"/><text fill=\"#000000\" font-family=\"sans-serif\" font-size=\"14\" font-weight=\"bold\" lengthAdjust=\"spacingAndGlyphs\" textLength=\"112\" x=\"20\" y=\"20.9951\">CircularImport</text><!--MD5=[e4f7fae6ed58524ba242bb0b0d3be6b7]\n",
       "cluster E2--><polygon fill=\"#FFFFFF\" points=\"333,170,359,170,366,192.2969,431,192.2969,431,267,333,267,333,170\" style=\"stroke: #000000; stroke-width: 1.5;\"/><line style=\"stroke: #000000; stroke-width: 1.5;\" x1=\"333\" x2=\"366\" y1=\"192.2969\" y2=\"192.2969\"/><text fill=\"#000000\" font-family=\"sans-serif\" font-size=\"14\" font-weight=\"bold\" lengthAdjust=\"spacingAndGlyphs\" textLength=\"20\" x=\"337\" y=\"184.9951\">P1</text><!--MD5=[f6df4d0ebaf0b5dfb2ced0ae5af7c670]\n",
       "cluster E4--><polygon fill=\"#FFFFFF\" points=\"81,170,107,170,114,192.2969,179,192.2969,179,267,81,267,81,170\" style=\"stroke: #000000; stroke-width: 1.5;\"/><line style=\"stroke: #000000; stroke-width: 1.5;\" x1=\"81\" x2=\"114\" y1=\"192.2969\" y2=\"192.2969\"/><text fill=\"#000000\" font-family=\"sans-serif\" font-size=\"14\" font-weight=\"bold\" lengthAdjust=\"spacingAndGlyphs\" textLength=\"20\" x=\"85\" y=\"184.9951\">P2</text><!--MD5=[14e3b0961a2654348d326746436168a1]\n",
       "cluster E6--><polygon fill=\"#FFFFFF\" points=\"268,49,319,49,326,71.2969,419,71.2969,419,146,268,146,268,49\" style=\"stroke: #000000; stroke-width: 1.5;\"/><line style=\"stroke: #000000; stroke-width: 1.5;\" x1=\"268\" x2=\"326\" y1=\"71.2969\" y2=\"71.2969\"/><text fill=\"#000000\" font-family=\"sans-serif\" font-size=\"14\" font-weight=\"bold\" lengthAdjust=\"spacingAndGlyphs\" textLength=\"45\" x=\"272\" y=\"63.9951\">Test1</text><!--MD5=[7f149f147074ac12df2cb0a7728a5fb0]\n",
       "cluster E9--><polygon fill=\"#FFFFFF\" points=\"93,49,144,49,151,71.2969,244,71.2969,244,146,93,146,93,49\" style=\"stroke: #000000; stroke-width: 1.5;\"/><line style=\"stroke: #000000; stroke-width: 1.5;\" x1=\"93\" x2=\"151\" y1=\"71.2969\" y2=\"71.2969\"/><text fill=\"#000000\" font-family=\"sans-serif\" font-size=\"14\" font-weight=\"bold\" lengthAdjust=\"spacingAndGlyphs\" textLength=\"45\" x=\"97\" y=\"63.9951\">Test2</text><!--MD5=[49a0ec8f00dab7302a31f22d0f0fe584]\n",
       "class E12--><rect fill=\"#FFFFFF\" height=\"45.9375\" id=\"E12\" rx=\"10\" ry=\"10\" style=\"stroke: #383838; stroke-width: 1.5;\" width=\"42\" x=\"438\" y=\"84\"/><text fill=\"#000000\" font-family=\"sans-serif\" font-size=\"12\" font-style=\"italic\" lengthAdjust=\"spacingAndGlyphs\" textLength=\"40\" x=\"439\" y=\"100.1387\">«part»</text><text fill=\"#000000\" font-family=\"sans-serif\" font-size=\"12\" lengthAdjust=\"spacingAndGlyphs\" textLength=\"22\" x=\"448\" y=\"114.1074\">x: A</text><line style=\"stroke: #383838; stroke-width: 1.5;\" x1=\"439\" x2=\"479\" y1=\"121.9375\" y2=\"121.9375\"/><!--MD5=[ee3c913d1a06f366521f9ef512b67efe]\n",
       "class E13--><rect fill=\"#FFFFFF\" height=\"45.9375\" id=\"E13\" rx=\"10\" ry=\"10\" style=\"stroke: #383838; stroke-width: 1.5;\" width=\"42\" x=\"32\" y=\"84\"/><text fill=\"#000000\" font-family=\"sans-serif\" font-size=\"12\" font-style=\"italic\" lengthAdjust=\"spacingAndGlyphs\" textLength=\"40\" x=\"33\" y=\"100.1387\">«part»</text><text fill=\"#000000\" font-family=\"sans-serif\" font-size=\"12\" lengthAdjust=\"spacingAndGlyphs\" textLength=\"22\" x=\"42\" y=\"114.1074\">y: B</text><line style=\"stroke: #383838; stroke-width: 1.5;\" x1=\"33\" x2=\"73\" y1=\"121.9375\" y2=\"121.9375\"/><!--MD5=[09b614a08d8cba4a07c9adeb5e0fee81]\n",
       "class E3--><rect fill=\"#FFFFFF\" height=\"45.9375\" id=\"E3\" style=\"stroke: #383838; stroke-width: 1.5;\" width=\"66\" x=\"349\" y=\"205\"/><text fill=\"#000000\" font-family=\"sans-serif\" font-size=\"12\" font-style=\"italic\" lengthAdjust=\"spacingAndGlyphs\" textLength=\"64\" x=\"350\" y=\"221.1387\">«part def»</text><text fill=\"#000000\" font-family=\"sans-serif\" font-size=\"12\" lengthAdjust=\"spacingAndGlyphs\" textLength=\"8\" x=\"378\" y=\"235.1074\">A</text><line style=\"stroke: #383838; stroke-width: 1.5;\" x1=\"350\" x2=\"414\" y1=\"242.9375\" y2=\"242.9375\"/><!--MD5=[270fce915f116d4de14055a7c1d9a0f3]\n",
       "class E5--><rect fill=\"#FFFFFF\" height=\"45.9375\" id=\"E5\" style=\"stroke: #383838; stroke-width: 1.5;\" width=\"66\" x=\"97\" y=\"205\"/><text fill=\"#000000\" font-family=\"sans-serif\" font-size=\"12\" font-style=\"italic\" lengthAdjust=\"spacingAndGlyphs\" textLength=\"64\" x=\"98\" y=\"221.1387\">«part def»</text><text fill=\"#000000\" font-family=\"sans-serif\" font-size=\"12\" lengthAdjust=\"spacingAndGlyphs\" textLength=\"8\" x=\"126\" y=\"235.1074\">B</text><line style=\"stroke: #383838; stroke-width: 1.5;\" x1=\"98\" x2=\"162\" y1=\"242.9375\" y2=\"242.9375\"/><!--MD5=[2156ba9850f5573cc1fc38a6a4b2f02b]\n",
       "class E7--><rect fill=\"#FFFFFF\" height=\"45.9375\" id=\"E7\" rx=\"10\" ry=\"10\" style=\"stroke: #383838; stroke-width: 1.5;\" width=\"42\" x=\"361\" y=\"84\"/><text fill=\"#000000\" font-family=\"sans-serif\" font-size=\"12\" font-style=\"italic\" lengthAdjust=\"spacingAndGlyphs\" textLength=\"40\" x=\"362\" y=\"100.1387\">«part»</text><text fill=\"#000000\" font-family=\"sans-serif\" font-size=\"12\" lengthAdjust=\"spacingAndGlyphs\" textLength=\"22\" x=\"371\" y=\"114.1074\">x: A</text><line style=\"stroke: #383838; stroke-width: 1.5;\" x1=\"362\" x2=\"402\" y1=\"121.9375\" y2=\"121.9375\"/><!--MD5=[b9389687b975829384b498ac4b7476b2]\n",
       "class E8--><rect fill=\"#FFFFFF\" height=\"45.9375\" id=\"E8\" rx=\"10\" ry=\"10\" style=\"stroke: #383838; stroke-width: 1.5;\" width=\"42\" x=\"284\" y=\"84\"/><text fill=\"#000000\" font-family=\"sans-serif\" font-size=\"12\" font-style=\"italic\" lengthAdjust=\"spacingAndGlyphs\" textLength=\"40\" x=\"285\" y=\"100.1387\">«part»</text><text fill=\"#000000\" font-family=\"sans-serif\" font-size=\"12\" lengthAdjust=\"spacingAndGlyphs\" textLength=\"22\" x=\"294\" y=\"114.1074\">y: B</text><line style=\"stroke: #383838; stroke-width: 1.5;\" x1=\"285\" x2=\"325\" y1=\"121.9375\" y2=\"121.9375\"/><!--MD5=[96f4274e9e20536e775497830990834d]\n",
       "class E10--><rect fill=\"#FFFFFF\" height=\"45.9375\" id=\"E10\" rx=\"10\" ry=\"10\" style=\"stroke: #383838; stroke-width: 1.5;\" width=\"42\" x=\"186\" y=\"84\"/><text fill=\"#000000\" font-family=\"sans-serif\" font-size=\"12\" font-style=\"italic\" lengthAdjust=\"spacingAndGlyphs\" textLength=\"40\" x=\"187\" y=\"100.1387\">«part»</text><text fill=\"#000000\" font-family=\"sans-serif\" font-size=\"12\" lengthAdjust=\"spacingAndGlyphs\" textLength=\"22\" x=\"196\" y=\"114.1074\">x: A</text><line style=\"stroke: #383838; stroke-width: 1.5;\" x1=\"187\" x2=\"227\" y1=\"121.9375\" y2=\"121.9375\"/><!--MD5=[1dd1bfd58a279cf63c5f349dbc8fc6a1]\n",
       "class E11--><rect fill=\"#FFFFFF\" height=\"45.9375\" id=\"E11\" rx=\"10\" ry=\"10\" style=\"stroke: #383838; stroke-width: 1.5;\" width=\"42\" x=\"109\" y=\"84\"/><text fill=\"#000000\" font-family=\"sans-serif\" font-size=\"12\" font-style=\"italic\" lengthAdjust=\"spacingAndGlyphs\" textLength=\"40\" x=\"110\" y=\"100.1387\">«part»</text><text fill=\"#000000\" font-family=\"sans-serif\" font-size=\"12\" lengthAdjust=\"spacingAndGlyphs\" textLength=\"22\" x=\"119\" y=\"114.1074\">y: B</text><line style=\"stroke: #383838; stroke-width: 1.5;\" x1=\"110\" x2=\"150\" y1=\"121.9375\" y2=\"121.9375\"/><!--MD5=[14ccda38c055a5c0da953d572bc50960]\n",
       "link E7 to E3--><path d=\"M382,130.1 C382,145.37 382,166.16 382,184.57 \" fill=\"none\" id=\"E7-&gt;E3\" style=\"stroke: #383838; stroke-width: 1.0;\"/><polygon fill=\"#FFFFFF\" points=\"382,204.61,375,185.61,389,185.61,382,204.61\" style=\"stroke: #383838; stroke-width: 1.0;\"/><ellipse cx=\"377\" cy=\"179.91\" fill=\"#383838\" rx=\"2\" ry=\"2\" style=\"stroke: #383838; stroke-width: 1.0;\"/><ellipse cx=\"387\" cy=\"179.91\" fill=\"#383838\" rx=\"2\" ry=\"2\" style=\"stroke: #383838; stroke-width: 1.0;\"/><!--MD5=[1ccb2481ffa92f8d51a74ee30c51832a]\n",
       "link E8 to E5--><path d=\"M283.67,124.09 C266.07,137.35 244,154 244,154 C244,154 210.8,175.26 180.23,194.83 \" fill=\"none\" id=\"E8-&gt;E5\" style=\"stroke: #383838; stroke-width: 1.0;\"/><polygon fill=\"#FFFFFF\" points=\"163.28,205.69,175.5055,189.5488,183.0554,201.3386,163.28,205.69\" style=\"stroke: #383838; stroke-width: 1.0;\"/><ellipse cx=\"181.3842\" cy=\"188.1592\" fill=\"#383838\" rx=\"2\" ry=\"2\" style=\"stroke: #383838; stroke-width: 1.0;\"/><ellipse cx=\"186.777\" cy=\"196.5805\" fill=\"#383838\" rx=\"2\" ry=\"2\" style=\"stroke: #383838; stroke-width: 1.0;\"/><!--MD5=[feeac5eb423634930294aa81f2d25a4c]\n",
       "link E10 to E3--><path d=\"M228.33,124.09 C245.93,137.35 268,154 268,154 C268,154 301.2,175.26 331.77,194.83 \" fill=\"none\" id=\"E10-&gt;E3\" style=\"stroke: #383838; stroke-width: 1.0;\"/><polygon fill=\"#FFFFFF\" points=\"348.72,205.69,328.9446,201.3386,336.4945,189.5488,348.72,205.69\" style=\"stroke: #383838; stroke-width: 1.0;\"/><ellipse cx=\"325.223\" cy=\"196.5805\" fill=\"#383838\" rx=\"2\" ry=\"2\" style=\"stroke: #383838; stroke-width: 1.0;\"/><ellipse cx=\"330.6158\" cy=\"188.1592\" fill=\"#383838\" rx=\"2\" ry=\"2\" style=\"stroke: #383838; stroke-width: 1.0;\"/><!--MD5=[07b77f6f309248d16187045709d1c26e]\n",
       "link E11 to E5--><path d=\"M130,130.1 C130,145.37 130,166.16 130,184.57 \" fill=\"none\" id=\"E11-&gt;E5\" style=\"stroke: #383838; stroke-width: 1.0;\"/><polygon fill=\"#FFFFFF\" points=\"130,204.61,123,185.61,137,185.61,130,204.61\" style=\"stroke: #383838; stroke-width: 1.0;\"/><ellipse cx=\"125\" cy=\"179.91\" fill=\"#383838\" rx=\"2\" ry=\"2\" style=\"stroke: #383838; stroke-width: 1.0;\"/><ellipse cx=\"135\" cy=\"179.91\" fill=\"#383838\" rx=\"2\" ry=\"2\" style=\"stroke: #383838; stroke-width: 1.0;\"/><!--MD5=[39f41a0e550fb3d73b4d8135617e30a2]\n",
       "link E12 to E3--><path d=\"M444.7,130.1 C434.28,146.2 419.89,168.44 407.53,187.55 \" fill=\"none\" id=\"E12-&gt;E3\" style=\"stroke: #383838; stroke-width: 1.0;\"/><polygon fill=\"#FFFFFF\" points=\"396.49,204.61,400.9313,184.8546,412.6866,192.4581,396.49,204.61\" style=\"stroke: #383838; stroke-width: 1.0;\"/><ellipse cx=\"405.7063\" cy=\"181.1547\" fill=\"#383838\" rx=\"2\" ry=\"2\" style=\"stroke: #383838; stroke-width: 1.0;\"/><ellipse cx=\"414.103\" cy=\"186.5858\" fill=\"#383838\" rx=\"2\" ry=\"2\" style=\"stroke: #383838; stroke-width: 1.0;\"/><!--MD5=[066b2d8af59fea80ccdb3d54ad5c1091]\n",
       "link E13 to E5--><path d=\"M67.3,130.1 C77.72,146.2 92.11,168.44 104.47,187.55 \" fill=\"none\" id=\"E13-&gt;E5\" style=\"stroke: #383838; stroke-width: 1.0;\"/><polygon fill=\"#FFFFFF\" points=\"115.51,204.61,99.3134,192.4581,111.0687,184.8546,115.51,204.61\" style=\"stroke: #383838; stroke-width: 1.0;\"/><ellipse cx=\"97.897\" cy=\"186.5858\" fill=\"#383838\" rx=\"2\" ry=\"2\" style=\"stroke: #383838; stroke-width: 1.0;\"/><ellipse cx=\"106.2937\" cy=\"181.1547\" fill=\"#383838\" rx=\"2\" ry=\"2\" style=\"stroke: #383838; stroke-width: 1.0;\"/><!--MD5=[696f37bb4dd5d67ed0103291607195a6]\n",
       "@startuml\r\n",
       "skinparam linetype polyline\r\n",
       "skinparam monochrome true\r\n",
       "skinparam classbackgroundcolor white\r\n",
       "skinparam shadowing false\r\n",
       "skinparam wrapWidth 300\r\n",
       "hide circle\r\n",
       "\r\n",
       "package \"CircularImport\" as E1   {\r\n",
       "package \"P1\" as E2   {\r\n",
       "comp def \"A\" as E3  <<(T,blue)part def>> {\r\n",
       "}\r\n",
       "}\r\n",
       "package \"P2\" as E4   {\r\n",
       "comp def \"B\" as E5  <<(T,blue)part def>> {\r\n",
       "}\r\n",
       "}\r\n",
       "package \"Test1\" as E6   {\r\n",
       "comp usage \"x: A\" as E7  <<(T,blue)part>> {\r\n",
       "}\r\n",
       "comp usage \"y: B\" as E8  <<(T,blue)part>> {\r\n",
       "}\r\n",
       "E7 - -:|> E3\r\n",
       "E8 - -:|> E5\r\n",
       "}\r\n",
       "package \"Test2\" as E9   {\r\n",
       "comp usage \"x: A\" as E10  <<(T,blue)part>> {\r\n",
       "}\r\n",
       "comp usage \"y: B\" as E11  <<(T,blue)part>> {\r\n",
       "}\r\n",
       "E10 - -:|> E3\r\n",
       "E11 - -:|> E5\r\n",
       "}\r\n",
       "comp usage \"x: A\" as E12  <<(T,blue)part>> {\r\n",
       "}\r\n",
       "comp usage \"y: B\" as E13  <<(T,blue)part>> {\r\n",
       "}\r\n",
       "E12 - -:|> E3\r\n",
       "E13 - -:|> E5\r\n",
       "}\r\n",
       "@enduml\r\n",
       "\n",
       "PlantUML version 1.2020.13(Sat Jun 13 12:26:38 UTC 2020)\n",
       "(EPL source distribution)\n",
       "Java Runtime: OpenJDK Runtime Environment\n",
       "JVM: OpenJDK 64-Bit Server VM\n",
       "Default Encoding: UTF-8\n",
       "Language: en\n",
       "Country: null\n",
       "--></g></svg>"
      ]
     },
     "execution_count": 14,
     "metadata": {},
     "output_type": "execute_result"
    }
   ],
   "source": [
    "%viz --style=\"POLYLINE\" --view=\"Sequence\" \"CircularImport\""
   ]
  },
  {
   "cell_type": "code",
   "execution_count": 15,
   "id": "continuing-burden",
   "metadata": {
    "execution": {
     "iopub.execute_input": "2021-03-26T09:40:16.782719Z",
     "iopub.status.busy": "2021-03-26T09:40:16.782162Z",
     "iopub.status.idle": "2021-03-26T09:40:16.835734Z",
     "shell.execute_reply": "2021-03-26T09:40:16.836151Z"
    }
   },
   "outputs": [
    {
     "data": {
      "image/svg+xml": [
       "<?xml version=\"1.0\" encoding=\"UTF-8\" standalone=\"no\"?><svg xmlns=\"http://www.w3.org/2000/svg\" xmlns:xlink=\"http://www.w3.org/1999/xlink\" contentScriptType=\"application/ecmascript\" contentStyleType=\"text/css\" height=\"303px\" preserveAspectRatio=\"none\" style=\"width:518px;height:303px;\" version=\"1.1\" viewBox=\"0 0 518 303\" width=\"518px\" zoomAndPan=\"magnify\"><defs/><g><!--MD5=[fbc87193dbaf4d95561dea2c320d4a47]\n",
       "cluster E1--><polygon fill=\"#FFFFFF\" points=\"16,6,134,6,141,28.2969,496,28.2969,496,291,16,291,16,6\" style=\"stroke: #000000; stroke-width: 1.5;\"/><line style=\"stroke: #000000; stroke-width: 1.5;\" x1=\"16\" x2=\"141\" y1=\"28.2969\" y2=\"28.2969\"/><text fill=\"#000000\" font-family=\"sans-serif\" font-size=\"14\" font-weight=\"bold\" lengthAdjust=\"spacingAndGlyphs\" textLength=\"112\" x=\"20\" y=\"20.9951\">CircularImport</text><!--MD5=[e4f7fae6ed58524ba242bb0b0d3be6b7]\n",
       "cluster E2--><polygon fill=\"#FFFFFF\" points=\"333,170,359,170,366,192.2969,431,192.2969,431,267,333,267,333,170\" style=\"stroke: #000000; stroke-width: 1.5;\"/><line style=\"stroke: #000000; stroke-width: 1.5;\" x1=\"333\" x2=\"366\" y1=\"192.2969\" y2=\"192.2969\"/><text fill=\"#000000\" font-family=\"sans-serif\" font-size=\"14\" font-weight=\"bold\" lengthAdjust=\"spacingAndGlyphs\" textLength=\"20\" x=\"337\" y=\"184.9951\">P1</text><!--MD5=[f6df4d0ebaf0b5dfb2ced0ae5af7c670]\n",
       "cluster E4--><polygon fill=\"#FFFFFF\" points=\"81,170,107,170,114,192.2969,179,192.2969,179,267,81,267,81,170\" style=\"stroke: #000000; stroke-width: 1.5;\"/><line style=\"stroke: #000000; stroke-width: 1.5;\" x1=\"81\" x2=\"114\" y1=\"192.2969\" y2=\"192.2969\"/><text fill=\"#000000\" font-family=\"sans-serif\" font-size=\"14\" font-weight=\"bold\" lengthAdjust=\"spacingAndGlyphs\" textLength=\"20\" x=\"85\" y=\"184.9951\">P2</text><!--MD5=[14e3b0961a2654348d326746436168a1]\n",
       "cluster E6--><polygon fill=\"#FFFFFF\" points=\"268,49,319,49,326,71.2969,419,71.2969,419,146,268,146,268,49\" style=\"stroke: #000000; stroke-width: 1.5;\"/><line style=\"stroke: #000000; stroke-width: 1.5;\" x1=\"268\" x2=\"326\" y1=\"71.2969\" y2=\"71.2969\"/><text fill=\"#000000\" font-family=\"sans-serif\" font-size=\"14\" font-weight=\"bold\" lengthAdjust=\"spacingAndGlyphs\" textLength=\"45\" x=\"272\" y=\"63.9951\">Test1</text><!--MD5=[7f149f147074ac12df2cb0a7728a5fb0]\n",
       "cluster E9--><polygon fill=\"#FFFFFF\" points=\"93,49,144,49,151,71.2969,244,71.2969,244,146,93,146,93,49\" style=\"stroke: #000000; stroke-width: 1.5;\"/><line style=\"stroke: #000000; stroke-width: 1.5;\" x1=\"93\" x2=\"151\" y1=\"71.2969\" y2=\"71.2969\"/><text fill=\"#000000\" font-family=\"sans-serif\" font-size=\"14\" font-weight=\"bold\" lengthAdjust=\"spacingAndGlyphs\" textLength=\"45\" x=\"97\" y=\"63.9951\">Test2</text><!--MD5=[49a0ec8f00dab7302a31f22d0f0fe584]\n",
       "class E12--><rect fill=\"#FFFFFF\" height=\"45.9375\" id=\"E12\" rx=\"10\" ry=\"10\" style=\"stroke: #383838; stroke-width: 1.5;\" width=\"42\" x=\"438\" y=\"84\"/><text fill=\"#000000\" font-family=\"sans-serif\" font-size=\"12\" font-style=\"italic\" lengthAdjust=\"spacingAndGlyphs\" textLength=\"40\" x=\"439\" y=\"100.1387\">«part»</text><text fill=\"#000000\" font-family=\"sans-serif\" font-size=\"12\" lengthAdjust=\"spacingAndGlyphs\" textLength=\"22\" x=\"448\" y=\"114.1074\">x: A</text><line style=\"stroke: #383838; stroke-width: 1.5;\" x1=\"439\" x2=\"479\" y1=\"121.9375\" y2=\"121.9375\"/><!--MD5=[ee3c913d1a06f366521f9ef512b67efe]\n",
       "class E13--><rect fill=\"#FFFFFF\" height=\"45.9375\" id=\"E13\" rx=\"10\" ry=\"10\" style=\"stroke: #383838; stroke-width: 1.5;\" width=\"42\" x=\"32\" y=\"84\"/><text fill=\"#000000\" font-family=\"sans-serif\" font-size=\"12\" font-style=\"italic\" lengthAdjust=\"spacingAndGlyphs\" textLength=\"40\" x=\"33\" y=\"100.1387\">«part»</text><text fill=\"#000000\" font-family=\"sans-serif\" font-size=\"12\" lengthAdjust=\"spacingAndGlyphs\" textLength=\"22\" x=\"42\" y=\"114.1074\">y: B</text><line style=\"stroke: #383838; stroke-width: 1.5;\" x1=\"33\" x2=\"73\" y1=\"121.9375\" y2=\"121.9375\"/><!--MD5=[09b614a08d8cba4a07c9adeb5e0fee81]\n",
       "class E3--><rect fill=\"#FFFFFF\" height=\"45.9375\" id=\"E3\" style=\"stroke: #383838; stroke-width: 1.5;\" width=\"66\" x=\"349\" y=\"205\"/><text fill=\"#000000\" font-family=\"sans-serif\" font-size=\"12\" font-style=\"italic\" lengthAdjust=\"spacingAndGlyphs\" textLength=\"64\" x=\"350\" y=\"221.1387\">«part def»</text><text fill=\"#000000\" font-family=\"sans-serif\" font-size=\"12\" lengthAdjust=\"spacingAndGlyphs\" textLength=\"8\" x=\"378\" y=\"235.1074\">A</text><line style=\"stroke: #383838; stroke-width: 1.5;\" x1=\"350\" x2=\"414\" y1=\"242.9375\" y2=\"242.9375\"/><!--MD5=[270fce915f116d4de14055a7c1d9a0f3]\n",
       "class E5--><rect fill=\"#FFFFFF\" height=\"45.9375\" id=\"E5\" style=\"stroke: #383838; stroke-width: 1.5;\" width=\"66\" x=\"97\" y=\"205\"/><text fill=\"#000000\" font-family=\"sans-serif\" font-size=\"12\" font-style=\"italic\" lengthAdjust=\"spacingAndGlyphs\" textLength=\"64\" x=\"98\" y=\"221.1387\">«part def»</text><text fill=\"#000000\" font-family=\"sans-serif\" font-size=\"12\" lengthAdjust=\"spacingAndGlyphs\" textLength=\"8\" x=\"126\" y=\"235.1074\">B</text><line style=\"stroke: #383838; stroke-width: 1.5;\" x1=\"98\" x2=\"162\" y1=\"242.9375\" y2=\"242.9375\"/><!--MD5=[2156ba9850f5573cc1fc38a6a4b2f02b]\n",
       "class E7--><rect fill=\"#FFFFFF\" height=\"45.9375\" id=\"E7\" rx=\"10\" ry=\"10\" style=\"stroke: #383838; stroke-width: 1.5;\" width=\"42\" x=\"361\" y=\"84\"/><text fill=\"#000000\" font-family=\"sans-serif\" font-size=\"12\" font-style=\"italic\" lengthAdjust=\"spacingAndGlyphs\" textLength=\"40\" x=\"362\" y=\"100.1387\">«part»</text><text fill=\"#000000\" font-family=\"sans-serif\" font-size=\"12\" lengthAdjust=\"spacingAndGlyphs\" textLength=\"22\" x=\"371\" y=\"114.1074\">x: A</text><line style=\"stroke: #383838; stroke-width: 1.5;\" x1=\"362\" x2=\"402\" y1=\"121.9375\" y2=\"121.9375\"/><!--MD5=[b9389687b975829384b498ac4b7476b2]\n",
       "class E8--><rect fill=\"#FFFFFF\" height=\"45.9375\" id=\"E8\" rx=\"10\" ry=\"10\" style=\"stroke: #383838; stroke-width: 1.5;\" width=\"42\" x=\"284\" y=\"84\"/><text fill=\"#000000\" font-family=\"sans-serif\" font-size=\"12\" font-style=\"italic\" lengthAdjust=\"spacingAndGlyphs\" textLength=\"40\" x=\"285\" y=\"100.1387\">«part»</text><text fill=\"#000000\" font-family=\"sans-serif\" font-size=\"12\" lengthAdjust=\"spacingAndGlyphs\" textLength=\"22\" x=\"294\" y=\"114.1074\">y: B</text><line style=\"stroke: #383838; stroke-width: 1.5;\" x1=\"285\" x2=\"325\" y1=\"121.9375\" y2=\"121.9375\"/><!--MD5=[96f4274e9e20536e775497830990834d]\n",
       "class E10--><rect fill=\"#FFFFFF\" height=\"45.9375\" id=\"E10\" rx=\"10\" ry=\"10\" style=\"stroke: #383838; stroke-width: 1.5;\" width=\"42\" x=\"186\" y=\"84\"/><text fill=\"#000000\" font-family=\"sans-serif\" font-size=\"12\" font-style=\"italic\" lengthAdjust=\"spacingAndGlyphs\" textLength=\"40\" x=\"187\" y=\"100.1387\">«part»</text><text fill=\"#000000\" font-family=\"sans-serif\" font-size=\"12\" lengthAdjust=\"spacingAndGlyphs\" textLength=\"22\" x=\"196\" y=\"114.1074\">x: A</text><line style=\"stroke: #383838; stroke-width: 1.5;\" x1=\"187\" x2=\"227\" y1=\"121.9375\" y2=\"121.9375\"/><!--MD5=[1dd1bfd58a279cf63c5f349dbc8fc6a1]\n",
       "class E11--><rect fill=\"#FFFFFF\" height=\"45.9375\" id=\"E11\" rx=\"10\" ry=\"10\" style=\"stroke: #383838; stroke-width: 1.5;\" width=\"42\" x=\"109\" y=\"84\"/><text fill=\"#000000\" font-family=\"sans-serif\" font-size=\"12\" font-style=\"italic\" lengthAdjust=\"spacingAndGlyphs\" textLength=\"40\" x=\"110\" y=\"100.1387\">«part»</text><text fill=\"#000000\" font-family=\"sans-serif\" font-size=\"12\" lengthAdjust=\"spacingAndGlyphs\" textLength=\"22\" x=\"119\" y=\"114.1074\">y: B</text><line style=\"stroke: #383838; stroke-width: 1.5;\" x1=\"110\" x2=\"150\" y1=\"121.9375\" y2=\"121.9375\"/><!--MD5=[14ccda38c055a5c0da953d572bc50960]\n",
       "link E7 to E3--><path d=\"M382,130.1 C382,145.37 382,166.16 382,184.57 \" fill=\"none\" id=\"E7-&gt;E3\" style=\"stroke: #383838; stroke-width: 1.0;\"/><polygon fill=\"#FFFFFF\" points=\"382,204.61,375,185.61,389,185.61,382,204.61\" style=\"stroke: #383838; stroke-width: 1.0;\"/><ellipse cx=\"377\" cy=\"179.91\" fill=\"#383838\" rx=\"2\" ry=\"2\" style=\"stroke: #383838; stroke-width: 1.0;\"/><ellipse cx=\"387\" cy=\"179.91\" fill=\"#383838\" rx=\"2\" ry=\"2\" style=\"stroke: #383838; stroke-width: 1.0;\"/><!--MD5=[1ccb2481ffa92f8d51a74ee30c51832a]\n",
       "link E8 to E5--><path d=\"M283.67,124.09 C266.07,137.35 244,154 244,154 C244,154 210.8,175.26 180.23,194.83 \" fill=\"none\" id=\"E8-&gt;E5\" style=\"stroke: #383838; stroke-width: 1.0;\"/><polygon fill=\"#FFFFFF\" points=\"163.28,205.69,175.5055,189.5488,183.0554,201.3386,163.28,205.69\" style=\"stroke: #383838; stroke-width: 1.0;\"/><ellipse cx=\"181.3842\" cy=\"188.1592\" fill=\"#383838\" rx=\"2\" ry=\"2\" style=\"stroke: #383838; stroke-width: 1.0;\"/><ellipse cx=\"186.777\" cy=\"196.5805\" fill=\"#383838\" rx=\"2\" ry=\"2\" style=\"stroke: #383838; stroke-width: 1.0;\"/><!--MD5=[feeac5eb423634930294aa81f2d25a4c]\n",
       "link E10 to E3--><path d=\"M228.33,124.09 C245.93,137.35 268,154 268,154 C268,154 301.2,175.26 331.77,194.83 \" fill=\"none\" id=\"E10-&gt;E3\" style=\"stroke: #383838; stroke-width: 1.0;\"/><polygon fill=\"#FFFFFF\" points=\"348.72,205.69,328.9446,201.3386,336.4945,189.5488,348.72,205.69\" style=\"stroke: #383838; stroke-width: 1.0;\"/><ellipse cx=\"325.223\" cy=\"196.5805\" fill=\"#383838\" rx=\"2\" ry=\"2\" style=\"stroke: #383838; stroke-width: 1.0;\"/><ellipse cx=\"330.6158\" cy=\"188.1592\" fill=\"#383838\" rx=\"2\" ry=\"2\" style=\"stroke: #383838; stroke-width: 1.0;\"/><!--MD5=[07b77f6f309248d16187045709d1c26e]\n",
       "link E11 to E5--><path d=\"M130,130.1 C130,145.37 130,166.16 130,184.57 \" fill=\"none\" id=\"E11-&gt;E5\" style=\"stroke: #383838; stroke-width: 1.0;\"/><polygon fill=\"#FFFFFF\" points=\"130,204.61,123,185.61,137,185.61,130,204.61\" style=\"stroke: #383838; stroke-width: 1.0;\"/><ellipse cx=\"125\" cy=\"179.91\" fill=\"#383838\" rx=\"2\" ry=\"2\" style=\"stroke: #383838; stroke-width: 1.0;\"/><ellipse cx=\"135\" cy=\"179.91\" fill=\"#383838\" rx=\"2\" ry=\"2\" style=\"stroke: #383838; stroke-width: 1.0;\"/><!--MD5=[39f41a0e550fb3d73b4d8135617e30a2]\n",
       "link E12 to E3--><path d=\"M444.7,130.1 C434.28,146.2 419.89,168.44 407.53,187.55 \" fill=\"none\" id=\"E12-&gt;E3\" style=\"stroke: #383838; stroke-width: 1.0;\"/><polygon fill=\"#FFFFFF\" points=\"396.49,204.61,400.9313,184.8546,412.6866,192.4581,396.49,204.61\" style=\"stroke: #383838; stroke-width: 1.0;\"/><ellipse cx=\"405.7063\" cy=\"181.1547\" fill=\"#383838\" rx=\"2\" ry=\"2\" style=\"stroke: #383838; stroke-width: 1.0;\"/><ellipse cx=\"414.103\" cy=\"186.5858\" fill=\"#383838\" rx=\"2\" ry=\"2\" style=\"stroke: #383838; stroke-width: 1.0;\"/><!--MD5=[066b2d8af59fea80ccdb3d54ad5c1091]\n",
       "link E13 to E5--><path d=\"M67.3,130.1 C77.72,146.2 92.11,168.44 104.47,187.55 \" fill=\"none\" id=\"E13-&gt;E5\" style=\"stroke: #383838; stroke-width: 1.0;\"/><polygon fill=\"#FFFFFF\" points=\"115.51,204.61,99.3134,192.4581,111.0687,184.8546,115.51,204.61\" style=\"stroke: #383838; stroke-width: 1.0;\"/><ellipse cx=\"97.897\" cy=\"186.5858\" fill=\"#383838\" rx=\"2\" ry=\"2\" style=\"stroke: #383838; stroke-width: 1.0;\"/><ellipse cx=\"106.2937\" cy=\"181.1547\" fill=\"#383838\" rx=\"2\" ry=\"2\" style=\"stroke: #383838; stroke-width: 1.0;\"/><!--MD5=[696f37bb4dd5d67ed0103291607195a6]\n",
       "@startuml\r\n",
       "skinparam linetype polyline\r\n",
       "skinparam monochrome true\r\n",
       "skinparam classbackgroundcolor white\r\n",
       "skinparam shadowing false\r\n",
       "skinparam wrapWidth 300\r\n",
       "hide circle\r\n",
       "\r\n",
       "package \"CircularImport\" as E1   {\r\n",
       "package \"P1\" as E2   {\r\n",
       "comp def \"A\" as E3  <<(T,blue)part def>> {\r\n",
       "}\r\n",
       "}\r\n",
       "package \"P2\" as E4   {\r\n",
       "comp def \"B\" as E5  <<(T,blue)part def>> {\r\n",
       "}\r\n",
       "}\r\n",
       "package \"Test1\" as E6   {\r\n",
       "comp usage \"x: A\" as E7  <<(T,blue)part>> {\r\n",
       "}\r\n",
       "comp usage \"y: B\" as E8  <<(T,blue)part>> {\r\n",
       "}\r\n",
       "E7 - -:|> E3\r\n",
       "E8 - -:|> E5\r\n",
       "}\r\n",
       "package \"Test2\" as E9   {\r\n",
       "comp usage \"x: A\" as E10  <<(T,blue)part>> {\r\n",
       "}\r\n",
       "comp usage \"y: B\" as E11  <<(T,blue)part>> {\r\n",
       "}\r\n",
       "E10 - -:|> E3\r\n",
       "E11 - -:|> E5\r\n",
       "}\r\n",
       "comp usage \"x: A\" as E12  <<(T,blue)part>> {\r\n",
       "}\r\n",
       "comp usage \"y: B\" as E13  <<(T,blue)part>> {\r\n",
       "}\r\n",
       "E12 - -:|> E3\r\n",
       "E13 - -:|> E5\r\n",
       "}\r\n",
       "@enduml\r\n",
       "\n",
       "PlantUML version 1.2020.13(Sat Jun 13 12:26:38 UTC 2020)\n",
       "(EPL source distribution)\n",
       "Java Runtime: OpenJDK Runtime Environment\n",
       "JVM: OpenJDK 64-Bit Server VM\n",
       "Default Encoding: UTF-8\n",
       "Language: en\n",
       "Country: null\n",
       "--></g></svg>"
      ]
     },
     "execution_count": 15,
     "metadata": {},
     "output_type": "execute_result"
    }
   ],
   "source": [
    "%viz --style=\"POLYLINE\" --view=\"MIXED\" \"CircularImport\""
   ]
  },
  {
   "cell_type": "code",
   "execution_count": 16,
   "id": "selective-switch",
   "metadata": {
    "execution": {
     "iopub.execute_input": "2021-03-26T09:40:16.888750Z",
     "iopub.status.busy": "2021-03-26T09:40:16.888275Z",
     "iopub.status.idle": "2021-03-26T09:40:16.938995Z",
     "shell.execute_reply": "2021-03-26T09:40:16.939389Z"
    }
   },
   "outputs": [
    {
     "data": {
      "image/svg+xml": [
       "<?xml version=\"1.0\" encoding=\"UTF-8\" standalone=\"no\"?><svg xmlns=\"http://www.w3.org/2000/svg\" xmlns:xlink=\"http://www.w3.org/1999/xlink\" contentScriptType=\"application/ecmascript\" contentStyleType=\"text/css\" height=\"576px\" preserveAspectRatio=\"none\" style=\"width:286px;height:576px;\" version=\"1.1\" viewBox=\"0 0 286 576\" width=\"286px\" zoomAndPan=\"magnify\"><defs/><g><!--MD5=[fbc87193dbaf4d95561dea2c320d4a47]\n",
       "cluster E1--><polygon fill=\"#FFFFFF\" points=\"16,6,134,6,141,28.2969,264,28.2969,264,564,16,564,16,6\" style=\"stroke: #000000; stroke-width: 1.5;\"/><line style=\"stroke: #000000; stroke-width: 1.5;\" x1=\"16\" x2=\"141\" y1=\"28.2969\" y2=\"28.2969\"/><text fill=\"#000000\" font-family=\"sans-serif\" font-size=\"14\" font-weight=\"bold\" lengthAdjust=\"spacingAndGlyphs\" textLength=\"112\" x=\"20\" y=\"20.9951\">CircularImport</text><!--MD5=[e4f7fae6ed58524ba242bb0b0d3be6b7]\n",
       "cluster E2--><polygon fill=\"#FFFFFF\" points=\"142,103,168,103,175,125.2969,240,125.2969,240,200,142,200,142,103\" style=\"stroke: #000000; stroke-width: 1.5;\"/><line style=\"stroke: #000000; stroke-width: 1.5;\" x1=\"142\" x2=\"175\" y1=\"125.2969\" y2=\"125.2969\"/><text fill=\"#000000\" font-family=\"sans-serif\" font-size=\"14\" font-weight=\"bold\" lengthAdjust=\"spacingAndGlyphs\" textLength=\"20\" x=\"146\" y=\"117.9951\">P1</text><!--MD5=[f6df4d0ebaf0b5dfb2ced0ae5af7c670]\n",
       "cluster E4--><polygon fill=\"#FFFFFF\" points=\"142,386,168,386,175,408.2969,240,408.2969,240,483,142,483,142,386\" style=\"stroke: #000000; stroke-width: 1.5;\"/><line style=\"stroke: #000000; stroke-width: 1.5;\" x1=\"142\" x2=\"175\" y1=\"408.2969\" y2=\"408.2969\"/><text fill=\"#000000\" font-family=\"sans-serif\" font-size=\"14\" font-weight=\"bold\" lengthAdjust=\"spacingAndGlyphs\" textLength=\"20\" x=\"146\" y=\"400.9951\">P2</text><!--MD5=[14e3b0961a2654348d326746436168a1]\n",
       "cluster E6--><polygon fill=\"#FFFFFF\" points=\"40,103,91,103,98,125.2969,114,125.2969,114,281,40,281,40,103\" style=\"stroke: #000000; stroke-width: 1.5;\"/><line style=\"stroke: #000000; stroke-width: 1.5;\" x1=\"40\" x2=\"98\" y1=\"125.2969\" y2=\"125.2969\"/><text fill=\"#000000\" font-family=\"sans-serif\" font-size=\"14\" font-weight=\"bold\" lengthAdjust=\"spacingAndGlyphs\" textLength=\"45\" x=\"44\" y=\"117.9951\">Test1</text><!--MD5=[7f149f147074ac12df2cb0a7728a5fb0]\n",
       "cluster E9--><polygon fill=\"#FFFFFF\" points=\"40,305,91,305,98,327.2969,114,327.2969,114,483,40,483,40,305\" style=\"stroke: #000000; stroke-width: 1.5;\"/><line style=\"stroke: #000000; stroke-width: 1.5;\" x1=\"40\" x2=\"98\" y1=\"327.2969\" y2=\"327.2969\"/><text fill=\"#000000\" font-family=\"sans-serif\" font-size=\"14\" font-weight=\"bold\" lengthAdjust=\"spacingAndGlyphs\" textLength=\"45\" x=\"44\" y=\"319.9951\">Test2</text><!--MD5=[49a0ec8f00dab7302a31f22d0f0fe584]\n",
       "class E12--><rect fill=\"#FFFFFF\" height=\"45.9375\" id=\"E12\" rx=\"10\" ry=\"10\" style=\"stroke: #383838; stroke-width: 1.5;\" width=\"42\" x=\"56\" y=\"41\"/><text fill=\"#000000\" font-family=\"sans-serif\" font-size=\"12\" font-style=\"italic\" lengthAdjust=\"spacingAndGlyphs\" textLength=\"40\" x=\"57\" y=\"57.1387\">«part»</text><text fill=\"#000000\" font-family=\"sans-serif\" font-size=\"12\" lengthAdjust=\"spacingAndGlyphs\" textLength=\"22\" x=\"66\" y=\"71.1074\">x: A</text><line style=\"stroke: #383838; stroke-width: 1.5;\" x1=\"57\" x2=\"97\" y1=\"78.9375\" y2=\"78.9375\"/><!--MD5=[ee3c913d1a06f366521f9ef512b67efe]\n",
       "class E13--><rect fill=\"#FFFFFF\" height=\"45.9375\" id=\"E13\" rx=\"10\" ry=\"10\" style=\"stroke: #383838; stroke-width: 1.5;\" width=\"42\" x=\"56\" y=\"502\"/><text fill=\"#000000\" font-family=\"sans-serif\" font-size=\"12\" font-style=\"italic\" lengthAdjust=\"spacingAndGlyphs\" textLength=\"40\" x=\"57\" y=\"518.1387\">«part»</text><text fill=\"#000000\" font-family=\"sans-serif\" font-size=\"12\" lengthAdjust=\"spacingAndGlyphs\" textLength=\"22\" x=\"66\" y=\"532.1074\">y: B</text><line style=\"stroke: #383838; stroke-width: 1.5;\" x1=\"57\" x2=\"97\" y1=\"539.9375\" y2=\"539.9375\"/><!--MD5=[09b614a08d8cba4a07c9adeb5e0fee81]\n",
       "class E3--><rect fill=\"#FFFFFF\" height=\"45.9375\" id=\"E3\" style=\"stroke: #383838; stroke-width: 1.5;\" width=\"66\" x=\"158\" y=\"138\"/><text fill=\"#000000\" font-family=\"sans-serif\" font-size=\"12\" font-style=\"italic\" lengthAdjust=\"spacingAndGlyphs\" textLength=\"64\" x=\"159\" y=\"154.1387\">«part def»</text><text fill=\"#000000\" font-family=\"sans-serif\" font-size=\"12\" lengthAdjust=\"spacingAndGlyphs\" textLength=\"8\" x=\"187\" y=\"168.1074\">A</text><line style=\"stroke: #383838; stroke-width: 1.5;\" x1=\"159\" x2=\"223\" y1=\"175.9375\" y2=\"175.9375\"/><!--MD5=[270fce915f116d4de14055a7c1d9a0f3]\n",
       "class E5--><rect fill=\"#FFFFFF\" height=\"45.9375\" id=\"E5\" style=\"stroke: #383838; stroke-width: 1.5;\" width=\"66\" x=\"158\" y=\"421\"/><text fill=\"#000000\" font-family=\"sans-serif\" font-size=\"12\" font-style=\"italic\" lengthAdjust=\"spacingAndGlyphs\" textLength=\"64\" x=\"159\" y=\"437.1387\">«part def»</text><text fill=\"#000000\" font-family=\"sans-serif\" font-size=\"12\" lengthAdjust=\"spacingAndGlyphs\" textLength=\"8\" x=\"187\" y=\"451.1074\">B</text><line style=\"stroke: #383838; stroke-width: 1.5;\" x1=\"159\" x2=\"223\" y1=\"458.9375\" y2=\"458.9375\"/><!--MD5=[2156ba9850f5573cc1fc38a6a4b2f02b]\n",
       "class E7--><rect fill=\"#FFFFFF\" height=\"45.9375\" id=\"E7\" rx=\"10\" ry=\"10\" style=\"stroke: #383838; stroke-width: 1.5;\" width=\"42\" x=\"56\" y=\"138\"/><text fill=\"#000000\" font-family=\"sans-serif\" font-size=\"12\" font-style=\"italic\" lengthAdjust=\"spacingAndGlyphs\" textLength=\"40\" x=\"57\" y=\"154.1387\">«part»</text><text fill=\"#000000\" font-family=\"sans-serif\" font-size=\"12\" lengthAdjust=\"spacingAndGlyphs\" textLength=\"22\" x=\"66\" y=\"168.1074\">x: A</text><line style=\"stroke: #383838; stroke-width: 1.5;\" x1=\"57\" x2=\"97\" y1=\"175.9375\" y2=\"175.9375\"/><!--MD5=[b9389687b975829384b498ac4b7476b2]\n",
       "class E8--><rect fill=\"#FFFFFF\" height=\"45.9375\" id=\"E8\" rx=\"10\" ry=\"10\" style=\"stroke: #383838; stroke-width: 1.5;\" width=\"42\" x=\"56\" y=\"219\"/><text fill=\"#000000\" font-family=\"sans-serif\" font-size=\"12\" font-style=\"italic\" lengthAdjust=\"spacingAndGlyphs\" textLength=\"40\" x=\"57\" y=\"235.1387\">«part»</text><text fill=\"#000000\" font-family=\"sans-serif\" font-size=\"12\" lengthAdjust=\"spacingAndGlyphs\" textLength=\"22\" x=\"66\" y=\"249.1074\">y: B</text><line style=\"stroke: #383838; stroke-width: 1.5;\" x1=\"57\" x2=\"97\" y1=\"256.9375\" y2=\"256.9375\"/><!--MD5=[96f4274e9e20536e775497830990834d]\n",
       "class E10--><rect fill=\"#FFFFFF\" height=\"45.9375\" id=\"E10\" rx=\"10\" ry=\"10\" style=\"stroke: #383838; stroke-width: 1.5;\" width=\"42\" x=\"56\" y=\"340\"/><text fill=\"#000000\" font-family=\"sans-serif\" font-size=\"12\" font-style=\"italic\" lengthAdjust=\"spacingAndGlyphs\" textLength=\"40\" x=\"57\" y=\"356.1387\">«part»</text><text fill=\"#000000\" font-family=\"sans-serif\" font-size=\"12\" lengthAdjust=\"spacingAndGlyphs\" textLength=\"22\" x=\"66\" y=\"370.1074\">x: A</text><line style=\"stroke: #383838; stroke-width: 1.5;\" x1=\"57\" x2=\"97\" y1=\"377.9375\" y2=\"377.9375\"/><!--MD5=[1dd1bfd58a279cf63c5f349dbc8fc6a1]\n",
       "class E11--><rect fill=\"#FFFFFF\" height=\"45.9375\" id=\"E11\" rx=\"10\" ry=\"10\" style=\"stroke: #383838; stroke-width: 1.5;\" width=\"42\" x=\"56\" y=\"421\"/><text fill=\"#000000\" font-family=\"sans-serif\" font-size=\"12\" font-style=\"italic\" lengthAdjust=\"spacingAndGlyphs\" textLength=\"40\" x=\"57\" y=\"437.1387\">«part»</text><text fill=\"#000000\" font-family=\"sans-serif\" font-size=\"12\" lengthAdjust=\"spacingAndGlyphs\" textLength=\"22\" x=\"66\" y=\"451.1074\">y: B</text><line style=\"stroke: #383838; stroke-width: 1.5;\" x1=\"57\" x2=\"97\" y1=\"458.9375\" y2=\"458.9375\"/><!--MD5=[14ccda38c055a5c0da953d572bc50960]\n",
       "link E7 to E3--><path d=\"M98.02,161 C109.18,161 123.65,161 137.79,161 \" fill=\"none\" id=\"E7-&gt;E3\" style=\"stroke: #383838; stroke-width: 1.0;\"/><polygon fill=\"#FFFFFF\" points=\"157.86,161,138.86,168,138.86,154,157.86,161\" style=\"stroke: #383838; stroke-width: 1.0;\"/><ellipse cx=\"133.16\" cy=\"166\" fill=\"#383838\" rx=\"2\" ry=\"2\" style=\"stroke: #383838; stroke-width: 1.0;\"/><ellipse cx=\"133.16\" cy=\"156\" fill=\"#383838\" rx=\"2\" ry=\"2\" style=\"stroke: #383838; stroke-width: 1.0;\"/><!--MD5=[1ccb2481ffa92f8d51a74ee30c51832a]\n",
       "link E8 to E5--><path d=\"M90.85,265.17 C109.49,298.8 144.32,361.62 167.34,403.13 \" fill=\"none\" id=\"E8-&gt;E5\" style=\"stroke: #383838; stroke-width: 1.0;\"/><polygon fill=\"#FFFFFF\" points=\"177.13,420.79,161.7919,407.5709,174.0344,400.7796,177.13,420.79\" style=\"stroke: #383838; stroke-width: 1.0;\"/><ellipse cx=\"160.7758\" cy=\"401.6163\" fill=\"#383838\" rx=\"2\" ry=\"2\" style=\"stroke: #383838; stroke-width: 1.0;\"/><ellipse cx=\"169.5204\" cy=\"396.7653\" fill=\"#383838\" rx=\"2\" ry=\"2\" style=\"stroke: #383838; stroke-width: 1.0;\"/><!--MD5=[feeac5eb423634930294aa81f2d25a4c]\n",
       "link E10 to E3--><path d=\"M90.85,339.83 C109.49,306.2 144.32,243.38 167.34,201.87 \" fill=\"none\" id=\"E10-&gt;E3\" style=\"stroke: #383838; stroke-width: 1.0;\"/><polygon fill=\"#FFFFFF\" points=\"177.13,184.21,174.0344,204.2204,161.7919,197.4291,177.13,184.21\" style=\"stroke: #383838; stroke-width: 1.0;\"/><ellipse cx=\"169.5204\" cy=\"208.2347\" fill=\"#383838\" rx=\"2\" ry=\"2\" style=\"stroke: #383838; stroke-width: 1.0;\"/><ellipse cx=\"160.7758\" cy=\"203.3837\" fill=\"#383838\" rx=\"2\" ry=\"2\" style=\"stroke: #383838; stroke-width: 1.0;\"/><!--MD5=[07b77f6f309248d16187045709d1c26e]\n",
       "link E11 to E5--><path d=\"M98.02,444 C109.18,444 123.65,444 137.79,444 \" fill=\"none\" id=\"E11-&gt;E5\" style=\"stroke: #383838; stroke-width: 1.0;\"/><polygon fill=\"#FFFFFF\" points=\"157.86,444,138.86,451,138.86,437,157.86,444\" style=\"stroke: #383838; stroke-width: 1.0;\"/><ellipse cx=\"133.16\" cy=\"449\" fill=\"#383838\" rx=\"2\" ry=\"2\" style=\"stroke: #383838; stroke-width: 1.0;\"/><ellipse cx=\"133.16\" cy=\"439\" fill=\"#383838\" rx=\"2\" ry=\"2\" style=\"stroke: #383838; stroke-width: 1.0;\"/><!--MD5=[39f41a0e550fb3d73b4d8135617e30a2]\n",
       "link E12 to E3--><path d=\"M98.02,81.34 C111.92,93.38 130.95,109.86 148.09,124.7 \" fill=\"none\" id=\"E12-&gt;E3\" style=\"stroke: #383838; stroke-width: 1.0;\"/><polygon fill=\"#FFFFFF\" points=\"163.41,137.97,144.4677,130.8155,153.6371,120.2361,163.41,137.97\" style=\"stroke: #383838; stroke-width: 1.0;\"/><ellipse cx=\"141.4703\" cy=\"125.5709\" fill=\"#383838\" rx=\"2\" ry=\"2\" style=\"stroke: #383838; stroke-width: 1.0;\"/><ellipse cx=\"148.0199\" cy=\"118.0142\" fill=\"#383838\" rx=\"2\" ry=\"2\" style=\"stroke: #383838; stroke-width: 1.0;\"/><!--MD5=[066b2d8af59fea80ccdb3d54ad5c1091]\n",
       "link E13 to E5--><path d=\"M98.02,510.52 C110.09,501.79 126.03,490.27 141.24,479.27 \" fill=\"none\" id=\"E13-&gt;E5\" style=\"stroke: #383838; stroke-width: 1.0;\"/><polygon fill=\"#FFFFFF\" points=\"157.86,467.25,146.5582,484.0509,138.3595,472.7027,157.86,467.25\" style=\"stroke: #383838; stroke-width: 1.0;\"/><ellipse cx=\"140.7667\" cy=\"485.7678\" fill=\"#383838\" rx=\"2\" ry=\"2\" style=\"stroke: #383838; stroke-width: 1.0;\"/><ellipse cx=\"134.9104\" cy=\"477.6619\" fill=\"#383838\" rx=\"2\" ry=\"2\" style=\"stroke: #383838; stroke-width: 1.0;\"/><!--MD5=[ac1ba8b75c45e68e1aba2da577c8b331]\n",
       "@startuml\r\n",
       "left to right direction\r\n",
       "skinparam monochrome true\r\n",
       "skinparam classbackgroundcolor white\r\n",
       "skinparam shadowing false\r\n",
       "skinparam wrapWidth 300\r\n",
       "hide circle\r\n",
       "\r\n",
       "package \"CircularImport\" as E1   {\r\n",
       "package \"P1\" as E2   {\r\n",
       "comp def \"A\" as E3  <<(T,blue)part def>> {\r\n",
       "}\r\n",
       "}\r\n",
       "package \"P2\" as E4   {\r\n",
       "comp def \"B\" as E5  <<(T,blue)part def>> {\r\n",
       "}\r\n",
       "}\r\n",
       "package \"Test1\" as E6   {\r\n",
       "comp usage \"x: A\" as E7  <<(T,blue)part>> {\r\n",
       "}\r\n",
       "comp usage \"y: B\" as E8  <<(T,blue)part>> {\r\n",
       "}\r\n",
       "E7 - -:|> E3\r\n",
       "E8 - -:|> E5\r\n",
       "}\r\n",
       "package \"Test2\" as E9   {\r\n",
       "comp usage \"x: A\" as E10  <<(T,blue)part>> {\r\n",
       "}\r\n",
       "comp usage \"y: B\" as E11  <<(T,blue)part>> {\r\n",
       "}\r\n",
       "E10 - -:|> E3\r\n",
       "E11 - -:|> E5\r\n",
       "}\r\n",
       "comp usage \"x: A\" as E12  <<(T,blue)part>> {\r\n",
       "}\r\n",
       "comp usage \"y: B\" as E13  <<(T,blue)part>> {\r\n",
       "}\r\n",
       "E12 - -:|> E3\r\n",
       "E13 - -:|> E5\r\n",
       "}\r\n",
       "@enduml\r\n",
       "\n",
       "PlantUML version 1.2020.13(Sat Jun 13 12:26:38 UTC 2020)\n",
       "(EPL source distribution)\n",
       "Java Runtime: OpenJDK Runtime Environment\n",
       "JVM: OpenJDK 64-Bit Server VM\n",
       "Default Encoding: UTF-8\n",
       "Language: en\n",
       "Country: null\n",
       "--></g></svg>"
      ]
     },
     "execution_count": 16,
     "metadata": {},
     "output_type": "execute_result"
    }
   ],
   "source": [
    "%viz --style=\"LR\" --view=\"Default\" \"CircularImport\""
   ]
  },
  {
   "cell_type": "code",
   "execution_count": 17,
   "id": "current-montana",
   "metadata": {
    "execution": {
     "iopub.execute_input": "2021-03-26T09:40:16.990007Z",
     "iopub.status.busy": "2021-03-26T09:40:16.989621Z",
     "iopub.status.idle": "2021-03-26T09:40:17.033644Z",
     "shell.execute_reply": "2021-03-26T09:40:17.034023Z"
    }
   },
   "outputs": [
    {
     "data": {
      "image/svg+xml": [
       "<?xml version=\"1.0\" encoding=\"UTF-8\" standalone=\"no\"?><svg xmlns=\"http://www.w3.org/2000/svg\" xmlns:xlink=\"http://www.w3.org/1999/xlink\" contentScriptType=\"application/ecmascript\" contentStyleType=\"text/css\" height=\"576px\" preserveAspectRatio=\"none\" style=\"width:286px;height:576px;\" version=\"1.1\" viewBox=\"0 0 286 576\" width=\"286px\" zoomAndPan=\"magnify\"><defs/><g><!--MD5=[fbc87193dbaf4d95561dea2c320d4a47]\n",
       "cluster E1--><polygon fill=\"#FFFFFF\" points=\"16,6,134,6,141,28.2969,264,28.2969,264,564,16,564,16,6\" style=\"stroke: #000000; stroke-width: 1.5;\"/><line style=\"stroke: #000000; stroke-width: 1.5;\" x1=\"16\" x2=\"141\" y1=\"28.2969\" y2=\"28.2969\"/><text fill=\"#000000\" font-family=\"sans-serif\" font-size=\"14\" font-weight=\"bold\" lengthAdjust=\"spacingAndGlyphs\" textLength=\"112\" x=\"20\" y=\"20.9951\">CircularImport</text><!--MD5=[e4f7fae6ed58524ba242bb0b0d3be6b7]\n",
       "cluster E2--><polygon fill=\"#FFFFFF\" points=\"142,103,168,103,175,125.2969,240,125.2969,240,200,142,200,142,103\" style=\"stroke: #000000; stroke-width: 1.5;\"/><line style=\"stroke: #000000; stroke-width: 1.5;\" x1=\"142\" x2=\"175\" y1=\"125.2969\" y2=\"125.2969\"/><text fill=\"#000000\" font-family=\"sans-serif\" font-size=\"14\" font-weight=\"bold\" lengthAdjust=\"spacingAndGlyphs\" textLength=\"20\" x=\"146\" y=\"117.9951\">P1</text><!--MD5=[f6df4d0ebaf0b5dfb2ced0ae5af7c670]\n",
       "cluster E4--><polygon fill=\"#FFFFFF\" points=\"142,386,168,386,175,408.2969,240,408.2969,240,483,142,483,142,386\" style=\"stroke: #000000; stroke-width: 1.5;\"/><line style=\"stroke: #000000; stroke-width: 1.5;\" x1=\"142\" x2=\"175\" y1=\"408.2969\" y2=\"408.2969\"/><text fill=\"#000000\" font-family=\"sans-serif\" font-size=\"14\" font-weight=\"bold\" lengthAdjust=\"spacingAndGlyphs\" textLength=\"20\" x=\"146\" y=\"400.9951\">P2</text><!--MD5=[14e3b0961a2654348d326746436168a1]\n",
       "cluster E6--><polygon fill=\"#FFFFFF\" points=\"40,103,91,103,98,125.2969,114,125.2969,114,281,40,281,40,103\" style=\"stroke: #000000; stroke-width: 1.5;\"/><line style=\"stroke: #000000; stroke-width: 1.5;\" x1=\"40\" x2=\"98\" y1=\"125.2969\" y2=\"125.2969\"/><text fill=\"#000000\" font-family=\"sans-serif\" font-size=\"14\" font-weight=\"bold\" lengthAdjust=\"spacingAndGlyphs\" textLength=\"45\" x=\"44\" y=\"117.9951\">Test1</text><!--MD5=[7f149f147074ac12df2cb0a7728a5fb0]\n",
       "cluster E9--><polygon fill=\"#FFFFFF\" points=\"40,305,91,305,98,327.2969,114,327.2969,114,483,40,483,40,305\" style=\"stroke: #000000; stroke-width: 1.5;\"/><line style=\"stroke: #000000; stroke-width: 1.5;\" x1=\"40\" x2=\"98\" y1=\"327.2969\" y2=\"327.2969\"/><text fill=\"#000000\" font-family=\"sans-serif\" font-size=\"14\" font-weight=\"bold\" lengthAdjust=\"spacingAndGlyphs\" textLength=\"45\" x=\"44\" y=\"319.9951\">Test2</text><!--MD5=[49a0ec8f00dab7302a31f22d0f0fe584]\n",
       "class E12--><rect fill=\"#FFFFFF\" height=\"45.9375\" id=\"E12\" rx=\"10\" ry=\"10\" style=\"stroke: #383838; stroke-width: 1.5;\" width=\"42\" x=\"56\" y=\"41\"/><text fill=\"#000000\" font-family=\"sans-serif\" font-size=\"12\" font-style=\"italic\" lengthAdjust=\"spacingAndGlyphs\" textLength=\"40\" x=\"57\" y=\"57.1387\">«part»</text><text fill=\"#000000\" font-family=\"sans-serif\" font-size=\"12\" lengthAdjust=\"spacingAndGlyphs\" textLength=\"22\" x=\"66\" y=\"71.1074\">x: A</text><line style=\"stroke: #383838; stroke-width: 1.5;\" x1=\"57\" x2=\"97\" y1=\"78.9375\" y2=\"78.9375\"/><!--MD5=[ee3c913d1a06f366521f9ef512b67efe]\n",
       "class E13--><rect fill=\"#FFFFFF\" height=\"45.9375\" id=\"E13\" rx=\"10\" ry=\"10\" style=\"stroke: #383838; stroke-width: 1.5;\" width=\"42\" x=\"56\" y=\"502\"/><text fill=\"#000000\" font-family=\"sans-serif\" font-size=\"12\" font-style=\"italic\" lengthAdjust=\"spacingAndGlyphs\" textLength=\"40\" x=\"57\" y=\"518.1387\">«part»</text><text fill=\"#000000\" font-family=\"sans-serif\" font-size=\"12\" lengthAdjust=\"spacingAndGlyphs\" textLength=\"22\" x=\"66\" y=\"532.1074\">y: B</text><line style=\"stroke: #383838; stroke-width: 1.5;\" x1=\"57\" x2=\"97\" y1=\"539.9375\" y2=\"539.9375\"/><!--MD5=[09b614a08d8cba4a07c9adeb5e0fee81]\n",
       "class E3--><rect fill=\"#FFFFFF\" height=\"45.9375\" id=\"E3\" style=\"stroke: #383838; stroke-width: 1.5;\" width=\"66\" x=\"158\" y=\"138\"/><text fill=\"#000000\" font-family=\"sans-serif\" font-size=\"12\" font-style=\"italic\" lengthAdjust=\"spacingAndGlyphs\" textLength=\"64\" x=\"159\" y=\"154.1387\">«part def»</text><text fill=\"#000000\" font-family=\"sans-serif\" font-size=\"12\" lengthAdjust=\"spacingAndGlyphs\" textLength=\"8\" x=\"187\" y=\"168.1074\">A</text><line style=\"stroke: #383838; stroke-width: 1.5;\" x1=\"159\" x2=\"223\" y1=\"175.9375\" y2=\"175.9375\"/><!--MD5=[270fce915f116d4de14055a7c1d9a0f3]\n",
       "class E5--><rect fill=\"#FFFFFF\" height=\"45.9375\" id=\"E5\" style=\"stroke: #383838; stroke-width: 1.5;\" width=\"66\" x=\"158\" y=\"421\"/><text fill=\"#000000\" font-family=\"sans-serif\" font-size=\"12\" font-style=\"italic\" lengthAdjust=\"spacingAndGlyphs\" textLength=\"64\" x=\"159\" y=\"437.1387\">«part def»</text><text fill=\"#000000\" font-family=\"sans-serif\" font-size=\"12\" lengthAdjust=\"spacingAndGlyphs\" textLength=\"8\" x=\"187\" y=\"451.1074\">B</text><line style=\"stroke: #383838; stroke-width: 1.5;\" x1=\"159\" x2=\"223\" y1=\"458.9375\" y2=\"458.9375\"/><!--MD5=[2156ba9850f5573cc1fc38a6a4b2f02b]\n",
       "class E7--><rect fill=\"#FFFFFF\" height=\"45.9375\" id=\"E7\" rx=\"10\" ry=\"10\" style=\"stroke: #383838; stroke-width: 1.5;\" width=\"42\" x=\"56\" y=\"138\"/><text fill=\"#000000\" font-family=\"sans-serif\" font-size=\"12\" font-style=\"italic\" lengthAdjust=\"spacingAndGlyphs\" textLength=\"40\" x=\"57\" y=\"154.1387\">«part»</text><text fill=\"#000000\" font-family=\"sans-serif\" font-size=\"12\" lengthAdjust=\"spacingAndGlyphs\" textLength=\"22\" x=\"66\" y=\"168.1074\">x: A</text><line style=\"stroke: #383838; stroke-width: 1.5;\" x1=\"57\" x2=\"97\" y1=\"175.9375\" y2=\"175.9375\"/><!--MD5=[b9389687b975829384b498ac4b7476b2]\n",
       "class E8--><rect fill=\"#FFFFFF\" height=\"45.9375\" id=\"E8\" rx=\"10\" ry=\"10\" style=\"stroke: #383838; stroke-width: 1.5;\" width=\"42\" x=\"56\" y=\"219\"/><text fill=\"#000000\" font-family=\"sans-serif\" font-size=\"12\" font-style=\"italic\" lengthAdjust=\"spacingAndGlyphs\" textLength=\"40\" x=\"57\" y=\"235.1387\">«part»</text><text fill=\"#000000\" font-family=\"sans-serif\" font-size=\"12\" lengthAdjust=\"spacingAndGlyphs\" textLength=\"22\" x=\"66\" y=\"249.1074\">y: B</text><line style=\"stroke: #383838; stroke-width: 1.5;\" x1=\"57\" x2=\"97\" y1=\"256.9375\" y2=\"256.9375\"/><!--MD5=[96f4274e9e20536e775497830990834d]\n",
       "class E10--><rect fill=\"#FFFFFF\" height=\"45.9375\" id=\"E10\" rx=\"10\" ry=\"10\" style=\"stroke: #383838; stroke-width: 1.5;\" width=\"42\" x=\"56\" y=\"340\"/><text fill=\"#000000\" font-family=\"sans-serif\" font-size=\"12\" font-style=\"italic\" lengthAdjust=\"spacingAndGlyphs\" textLength=\"40\" x=\"57\" y=\"356.1387\">«part»</text><text fill=\"#000000\" font-family=\"sans-serif\" font-size=\"12\" lengthAdjust=\"spacingAndGlyphs\" textLength=\"22\" x=\"66\" y=\"370.1074\">x: A</text><line style=\"stroke: #383838; stroke-width: 1.5;\" x1=\"57\" x2=\"97\" y1=\"377.9375\" y2=\"377.9375\"/><!--MD5=[1dd1bfd58a279cf63c5f349dbc8fc6a1]\n",
       "class E11--><rect fill=\"#FFFFFF\" height=\"45.9375\" id=\"E11\" rx=\"10\" ry=\"10\" style=\"stroke: #383838; stroke-width: 1.5;\" width=\"42\" x=\"56\" y=\"421\"/><text fill=\"#000000\" font-family=\"sans-serif\" font-size=\"12\" font-style=\"italic\" lengthAdjust=\"spacingAndGlyphs\" textLength=\"40\" x=\"57\" y=\"437.1387\">«part»</text><text fill=\"#000000\" font-family=\"sans-serif\" font-size=\"12\" lengthAdjust=\"spacingAndGlyphs\" textLength=\"22\" x=\"66\" y=\"451.1074\">y: B</text><line style=\"stroke: #383838; stroke-width: 1.5;\" x1=\"57\" x2=\"97\" y1=\"458.9375\" y2=\"458.9375\"/><!--MD5=[14ccda38c055a5c0da953d572bc50960]\n",
       "link E7 to E3--><path d=\"M98.02,161 C109.18,161 123.65,161 137.79,161 \" fill=\"none\" id=\"E7-&gt;E3\" style=\"stroke: #383838; stroke-width: 1.0;\"/><polygon fill=\"#FFFFFF\" points=\"157.86,161,138.86,168,138.86,154,157.86,161\" style=\"stroke: #383838; stroke-width: 1.0;\"/><ellipse cx=\"133.16\" cy=\"166\" fill=\"#383838\" rx=\"2\" ry=\"2\" style=\"stroke: #383838; stroke-width: 1.0;\"/><ellipse cx=\"133.16\" cy=\"156\" fill=\"#383838\" rx=\"2\" ry=\"2\" style=\"stroke: #383838; stroke-width: 1.0;\"/><!--MD5=[1ccb2481ffa92f8d51a74ee30c51832a]\n",
       "link E8 to E5--><path d=\"M90.85,265.17 C109.49,298.8 144.32,361.62 167.34,403.13 \" fill=\"none\" id=\"E8-&gt;E5\" style=\"stroke: #383838; stroke-width: 1.0;\"/><polygon fill=\"#FFFFFF\" points=\"177.13,420.79,161.7919,407.5709,174.0344,400.7796,177.13,420.79\" style=\"stroke: #383838; stroke-width: 1.0;\"/><ellipse cx=\"160.7758\" cy=\"401.6163\" fill=\"#383838\" rx=\"2\" ry=\"2\" style=\"stroke: #383838; stroke-width: 1.0;\"/><ellipse cx=\"169.5204\" cy=\"396.7653\" fill=\"#383838\" rx=\"2\" ry=\"2\" style=\"stroke: #383838; stroke-width: 1.0;\"/><!--MD5=[feeac5eb423634930294aa81f2d25a4c]\n",
       "link E10 to E3--><path d=\"M90.85,339.83 C109.49,306.2 144.32,243.38 167.34,201.87 \" fill=\"none\" id=\"E10-&gt;E3\" style=\"stroke: #383838; stroke-width: 1.0;\"/><polygon fill=\"#FFFFFF\" points=\"177.13,184.21,174.0344,204.2204,161.7919,197.4291,177.13,184.21\" style=\"stroke: #383838; stroke-width: 1.0;\"/><ellipse cx=\"169.5204\" cy=\"208.2347\" fill=\"#383838\" rx=\"2\" ry=\"2\" style=\"stroke: #383838; stroke-width: 1.0;\"/><ellipse cx=\"160.7758\" cy=\"203.3837\" fill=\"#383838\" rx=\"2\" ry=\"2\" style=\"stroke: #383838; stroke-width: 1.0;\"/><!--MD5=[07b77f6f309248d16187045709d1c26e]\n",
       "link E11 to E5--><path d=\"M98.02,444 C109.18,444 123.65,444 137.79,444 \" fill=\"none\" id=\"E11-&gt;E5\" style=\"stroke: #383838; stroke-width: 1.0;\"/><polygon fill=\"#FFFFFF\" points=\"157.86,444,138.86,451,138.86,437,157.86,444\" style=\"stroke: #383838; stroke-width: 1.0;\"/><ellipse cx=\"133.16\" cy=\"449\" fill=\"#383838\" rx=\"2\" ry=\"2\" style=\"stroke: #383838; stroke-width: 1.0;\"/><ellipse cx=\"133.16\" cy=\"439\" fill=\"#383838\" rx=\"2\" ry=\"2\" style=\"stroke: #383838; stroke-width: 1.0;\"/><!--MD5=[39f41a0e550fb3d73b4d8135617e30a2]\n",
       "link E12 to E3--><path d=\"M98.02,81.34 C111.92,93.38 130.95,109.86 148.09,124.7 \" fill=\"none\" id=\"E12-&gt;E3\" style=\"stroke: #383838; stroke-width: 1.0;\"/><polygon fill=\"#FFFFFF\" points=\"163.41,137.97,144.4677,130.8155,153.6371,120.2361,163.41,137.97\" style=\"stroke: #383838; stroke-width: 1.0;\"/><ellipse cx=\"141.4703\" cy=\"125.5709\" fill=\"#383838\" rx=\"2\" ry=\"2\" style=\"stroke: #383838; stroke-width: 1.0;\"/><ellipse cx=\"148.0199\" cy=\"118.0142\" fill=\"#383838\" rx=\"2\" ry=\"2\" style=\"stroke: #383838; stroke-width: 1.0;\"/><!--MD5=[066b2d8af59fea80ccdb3d54ad5c1091]\n",
       "link E13 to E5--><path d=\"M98.02,510.52 C110.09,501.79 126.03,490.27 141.24,479.27 \" fill=\"none\" id=\"E13-&gt;E5\" style=\"stroke: #383838; stroke-width: 1.0;\"/><polygon fill=\"#FFFFFF\" points=\"157.86,467.25,146.5582,484.0509,138.3595,472.7027,157.86,467.25\" style=\"stroke: #383838; stroke-width: 1.0;\"/><ellipse cx=\"140.7667\" cy=\"485.7678\" fill=\"#383838\" rx=\"2\" ry=\"2\" style=\"stroke: #383838; stroke-width: 1.0;\"/><ellipse cx=\"134.9104\" cy=\"477.6619\" fill=\"#383838\" rx=\"2\" ry=\"2\" style=\"stroke: #383838; stroke-width: 1.0;\"/><!--MD5=[ac1ba8b75c45e68e1aba2da577c8b331]\n",
       "@startuml\r\n",
       "left to right direction\r\n",
       "skinparam monochrome true\r\n",
       "skinparam classbackgroundcolor white\r\n",
       "skinparam shadowing false\r\n",
       "skinparam wrapWidth 300\r\n",
       "hide circle\r\n",
       "\r\n",
       "package \"CircularImport\" as E1   {\r\n",
       "package \"P1\" as E2   {\r\n",
       "comp def \"A\" as E3  <<(T,blue)part def>> {\r\n",
       "}\r\n",
       "}\r\n",
       "package \"P2\" as E4   {\r\n",
       "comp def \"B\" as E5  <<(T,blue)part def>> {\r\n",
       "}\r\n",
       "}\r\n",
       "package \"Test1\" as E6   {\r\n",
       "comp usage \"x: A\" as E7  <<(T,blue)part>> {\r\n",
       "}\r\n",
       "comp usage \"y: B\" as E8  <<(T,blue)part>> {\r\n",
       "}\r\n",
       "E7 - -:|> E3\r\n",
       "E8 - -:|> E5\r\n",
       "}\r\n",
       "package \"Test2\" as E9   {\r\n",
       "comp usage \"x: A\" as E10  <<(T,blue)part>> {\r\n",
       "}\r\n",
       "comp usage \"y: B\" as E11  <<(T,blue)part>> {\r\n",
       "}\r\n",
       "E10 - -:|> E3\r\n",
       "E11 - -:|> E5\r\n",
       "}\r\n",
       "comp usage \"x: A\" as E12  <<(T,blue)part>> {\r\n",
       "}\r\n",
       "comp usage \"y: B\" as E13  <<(T,blue)part>> {\r\n",
       "}\r\n",
       "E12 - -:|> E3\r\n",
       "E13 - -:|> E5\r\n",
       "}\r\n",
       "@enduml\r\n",
       "\n",
       "PlantUML version 1.2020.13(Sat Jun 13 12:26:38 UTC 2020)\n",
       "(EPL source distribution)\n",
       "Java Runtime: OpenJDK Runtime Environment\n",
       "JVM: OpenJDK 64-Bit Server VM\n",
       "Default Encoding: UTF-8\n",
       "Language: en\n",
       "Country: null\n",
       "--></g></svg>"
      ]
     },
     "execution_count": 17,
     "metadata": {},
     "output_type": "execute_result"
    }
   ],
   "source": [
    "%viz --style=\"LR\" --view=\"Tree\" \"CircularImport\""
   ]
  },
  {
   "cell_type": "code",
   "execution_count": 18,
   "id": "electronic-contemporary",
   "metadata": {
    "execution": {
     "iopub.execute_input": "2021-03-26T09:40:17.084363Z",
     "iopub.status.busy": "2021-03-26T09:40:17.083939Z",
     "iopub.status.idle": "2021-03-26T09:40:17.085665Z",
     "shell.execute_reply": "2021-03-26T09:40:17.085992Z"
    }
   },
   "outputs": [
    {
     "data": {
      "text/plain": [
       "java.lang.IllegalArgumentException: Invalid View: State View candidates are: Default Tree StateMachine Interconnection Activity Sequence MIXED \n",
       "\tat org.omg.sysml.plantuml.SysML2PlantUMLSvc.setView(SysML2PlantUMLSvc.java:63)\n",
       "\tat org.omg.sysml.interactive.SysMLInteractive.viz(SysMLInteractive.java:286)\n",
       "\tat org.omg.sysml.jupyter.kernel.magic.Viz.viz(Viz.java:47)\n",
       "\tat jdk.internal.reflect.GeneratedMethodAccessor9.invoke(Unknown Source)\n",
       "\tat java.base/jdk.internal.reflect.DelegatingMethodAccessorImpl.invoke(DelegatingMethodAccessorImpl.java:43)\n",
       "\tat java.base/java.lang.reflect.Method.invoke(Method.java:568)\n",
       "\tat io.github.spencerpark.jupyter.kernel.magic.registry.Magics.invoke(Magics.java:89)\n",
       "\tat io.github.spencerpark.jupyter.kernel.magic.registry.Magics.access$000(Magics.java:8)\n",
       "\tat io.github.spencerpark.jupyter.kernel.magic.registry.Magics$LineReflectionMagicFunction.execute(Magics.java:149)\n",
       "\tat io.github.spencerpark.jupyter.kernel.magic.registry.Magics.applyLineMagic(Magics.java:26)\n",
       "\tat org.omg.sysml.jupyter.kernel.SysMLKernel.eval(SysMLKernel.java:76)\n",
       "\tat io.github.spencerpark.jupyter.kernel.BaseKernel.handleExecuteRequest(BaseKernel.java:334)\n",
       "\tat io.github.spencerpark.jupyter.channels.ShellChannel.lambda$bind$0(ShellChannel.java:64)\n",
       "\tat io.github.spencerpark.jupyter.channels.Loop.lambda$new$0(Loop.java:21)\n",
       "\tat io.github.spencerpark.jupyter.channels.Loop.run(Loop.java:78)\n"
      ]
     },
     "execution_count": 18,
     "metadata": {},
     "output_type": "execute_result"
    }
   ],
   "source": [
    "%viz --style=\"LR\" --view=\"State\" \"CircularImport\""
   ]
  },
  {
   "cell_type": "code",
   "execution_count": 19,
   "id": "increased-mandate",
   "metadata": {
    "execution": {
     "iopub.execute_input": "2021-03-26T09:40:17.137143Z",
     "iopub.status.busy": "2021-03-26T09:40:17.136695Z",
     "iopub.status.idle": "2021-03-26T09:40:17.186778Z",
     "shell.execute_reply": "2021-03-26T09:40:17.186465Z"
    }
   },
   "outputs": [
    {
     "data": {
      "image/svg+xml": [
       "<?xml version=\"1.0\" encoding=\"UTF-8\" standalone=\"no\"?><svg xmlns=\"http://www.w3.org/2000/svg\" xmlns:xlink=\"http://www.w3.org/1999/xlink\" contentScriptType=\"application/ecmascript\" contentStyleType=\"text/css\" height=\"885px\" preserveAspectRatio=\"none\" style=\"width:209px;height:885px;\" version=\"1.1\" viewBox=\"0 0 209 885\" width=\"209px\" zoomAndPan=\"magnify\"><defs/><g><!--MD5=[fbc87193dbaf4d95561dea2c320d4a47]\n",
       "cluster E1--><polygon fill=\"#FFFFFF\" points=\"16,6,134,6,141,28.2969,187,28.2969,187,873,16,873,16,6\" style=\"stroke: #000000; stroke-width: 1.5;\"/><line style=\"stroke: #000000; stroke-width: 1.5;\" x1=\"16\" x2=\"141\" y1=\"28.2969\" y2=\"28.2969\"/><text fill=\"#000000\" font-family=\"sans-serif\" font-size=\"14\" font-weight=\"bold\" lengthAdjust=\"spacingAndGlyphs\" textLength=\"112\" x=\"20\" y=\"20.9951\">CircularImport</text><!--MD5=[e4f7fae6ed58524ba242bb0b0d3be6b7]\n",
       "cluster E2--><polygon fill=\"#FFFFFF\" points=\"40,49,66,49,73,71.2969,163,71.2969,163,154,40,154,40,49\" style=\"stroke: #000000; stroke-width: 1.5;\"/><line style=\"stroke: #000000; stroke-width: 1.5;\" x1=\"40\" x2=\"73\" y1=\"71.2969\" y2=\"71.2969\"/><text fill=\"#000000\" font-family=\"sans-serif\" font-size=\"14\" font-weight=\"bold\" lengthAdjust=\"spacingAndGlyphs\" textLength=\"20\" x=\"44\" y=\"63.9951\">P1</text><!--MD5=[f6df4d0ebaf0b5dfb2ced0ae5af7c670]\n",
       "cluster E4--><polygon fill=\"#FFFFFF\" points=\"40,178,66,178,73,200.2969,163,200.2969,163,283,40,283,40,178\" style=\"stroke: #000000; stroke-width: 1.5;\"/><line style=\"stroke: #000000; stroke-width: 1.5;\" x1=\"40\" x2=\"73\" y1=\"200.2969\" y2=\"200.2969\"/><text fill=\"#000000\" font-family=\"sans-serif\" font-size=\"14\" font-weight=\"bold\" lengthAdjust=\"spacingAndGlyphs\" textLength=\"20\" x=\"44\" y=\"192.9951\">P2</text><!--MD5=[14e3b0961a2654348d326746436168a1]\n",
       "cluster E6--><polygon fill=\"#FFFFFF\" points=\"60.5,307,111.5,307,118.5,329.2969,142.5,329.2969,142.5,493,60.5,493,60.5,307\" style=\"stroke: #000000; stroke-width: 1.5;\"/><line style=\"stroke: #000000; stroke-width: 1.5;\" x1=\"60.5\" x2=\"118.5\" y1=\"329.2969\" y2=\"329.2969\"/><text fill=\"#000000\" font-family=\"sans-serif\" font-size=\"14\" font-weight=\"bold\" lengthAdjust=\"spacingAndGlyphs\" textLength=\"45\" x=\"64.5\" y=\"321.9951\">Test1</text><!--MD5=[7f149f147074ac12df2cb0a7728a5fb0]\n",
       "cluster E9--><polygon fill=\"#FFFFFF\" points=\"60.5,517,111.5,517,118.5,539.2969,142.5,539.2969,142.5,703,60.5,703,60.5,517\" style=\"stroke: #000000; stroke-width: 1.5;\"/><line style=\"stroke: #000000; stroke-width: 1.5;\" x1=\"60.5\" x2=\"118.5\" y1=\"539.2969\" y2=\"539.2969\"/><text fill=\"#000000\" font-family=\"sans-serif\" font-size=\"14\" font-weight=\"bold\" lengthAdjust=\"spacingAndGlyphs\" textLength=\"45\" x=\"64.5\" y=\"531.9951\">Test2</text><!--MD5=[a60fb756f580feb9fd8e2cf1329b5c91]\n",
       "entity E3--><rect fill=\"#FFFFFF\" height=\"52.5938\" style=\"stroke: #000000; stroke-width: 1.5;\" width=\"91\" x=\"56\" y=\"84.5\"/><text fill=\"#000000\" font-family=\"sans-serif\" font-size=\"14\" font-style=\"italic\" lengthAdjust=\"spacingAndGlyphs\" textLength=\"71\" x=\"66\" y=\"107.4951\">«part def»</text><text fill=\"#000000\" font-family=\"sans-serif\" font-size=\"14\" lengthAdjust=\"spacingAndGlyphs\" textLength=\"9\" x=\"97\" y=\"123.792\">A</text><!--MD5=[21dd76c19d33815960c0e92fef8f0eef]\n",
       "entity E5--><rect fill=\"#FFFFFF\" height=\"52.5938\" style=\"stroke: #000000; stroke-width: 1.5;\" width=\"91\" x=\"56\" y=\"213.5\"/><text fill=\"#000000\" font-family=\"sans-serif\" font-size=\"14\" font-style=\"italic\" lengthAdjust=\"spacingAndGlyphs\" textLength=\"71\" x=\"66\" y=\"236.4951\">«part def»</text><text fill=\"#000000\" font-family=\"sans-serif\" font-size=\"14\" lengthAdjust=\"spacingAndGlyphs\" textLength=\"10\" x=\"96.5\" y=\"252.792\">B</text><g id=\"E1.E6.E7\"><rect fill=\"#FFFFFF\" height=\"50\" rx=\"12.5\" ry=\"12.5\" style=\"stroke: #383838; stroke-width: 1.5;\" width=\"50\" x=\"76.5\" y=\"342\"/><line style=\"stroke: #383838; stroke-width: 1.5;\" x1=\"76.5\" x2=\"126.5\" y1=\"368.2969\" y2=\"368.2969\"/><text fill=\"#000000\" font-family=\"sans-serif\" font-size=\"14\" lengthAdjust=\"spacingAndGlyphs\" textLength=\"25\" x=\"89\" y=\"359.9951\">x: A</text></g><g id=\"E1.E6.E8\"><rect fill=\"#FFFFFF\" height=\"50\" rx=\"12.5\" ry=\"12.5\" style=\"stroke: #383838; stroke-width: 1.5;\" width=\"50\" x=\"76.5\" y=\"427\"/><line style=\"stroke: #383838; stroke-width: 1.5;\" x1=\"76.5\" x2=\"126.5\" y1=\"453.2969\" y2=\"453.2969\"/><text fill=\"#000000\" font-family=\"sans-serif\" font-size=\"14\" lengthAdjust=\"spacingAndGlyphs\" textLength=\"26\" x=\"88.5\" y=\"444.9951\">y: B</text></g><g id=\"E1.E9.E10\"><rect fill=\"#FFFFFF\" height=\"50\" rx=\"12.5\" ry=\"12.5\" style=\"stroke: #383838; stroke-width: 1.5;\" width=\"50\" x=\"76.5\" y=\"552\"/><line style=\"stroke: #383838; stroke-width: 1.5;\" x1=\"76.5\" x2=\"126.5\" y1=\"578.2969\" y2=\"578.2969\"/><text fill=\"#000000\" font-family=\"sans-serif\" font-size=\"14\" lengthAdjust=\"spacingAndGlyphs\" textLength=\"25\" x=\"89\" y=\"569.9951\">x: A</text></g><g id=\"E1.E9.E11\"><rect fill=\"#FFFFFF\" height=\"50\" rx=\"12.5\" ry=\"12.5\" style=\"stroke: #383838; stroke-width: 1.5;\" width=\"50\" x=\"76.5\" y=\"637\"/><line style=\"stroke: #383838; stroke-width: 1.5;\" x1=\"76.5\" x2=\"126.5\" y1=\"663.2969\" y2=\"663.2969\"/><text fill=\"#000000\" font-family=\"sans-serif\" font-size=\"14\" lengthAdjust=\"spacingAndGlyphs\" textLength=\"26\" x=\"88.5\" y=\"654.9951\">y: B</text></g><g id=\"E1.E12\"><rect fill=\"#FFFFFF\" height=\"50\" rx=\"12.5\" ry=\"12.5\" style=\"stroke: #383838; stroke-width: 1.5;\" width=\"50\" x=\"76.5\" y=\"722\"/><line style=\"stroke: #383838; stroke-width: 1.5;\" x1=\"76.5\" x2=\"126.5\" y1=\"748.2969\" y2=\"748.2969\"/><text fill=\"#000000\" font-family=\"sans-serif\" font-size=\"14\" lengthAdjust=\"spacingAndGlyphs\" textLength=\"25\" x=\"89\" y=\"739.9951\">x: A</text></g><g id=\"E1.E13\"><rect fill=\"#FFFFFF\" height=\"50\" rx=\"12.5\" ry=\"12.5\" style=\"stroke: #383838; stroke-width: 1.5;\" width=\"50\" x=\"76.5\" y=\"807\"/><line style=\"stroke: #383838; stroke-width: 1.5;\" x1=\"76.5\" x2=\"126.5\" y1=\"833.2969\" y2=\"833.2969\"/><text fill=\"#000000\" font-family=\"sans-serif\" font-size=\"14\" lengthAdjust=\"spacingAndGlyphs\" textLength=\"26\" x=\"88.5\" y=\"824.9951\">y: B</text></g><!--MD5=[010452af5c6165bc0d8b83e094346528]\n",
       "@startuml\r\n",
       "skinparam ranksep 8\r\n",
       "skinparam rectangle {\r\n",
       " backgroundColor<<block>> LightGreen\r\n",
       "}\r\n",
       "left to right direction\r\n",
       "skinparam monochrome true\r\n",
       "skinparam classbackgroundcolor white\r\n",
       "skinparam shadowing false\r\n",
       "skinparam wrapWidth 300\r\n",
       "hide circle\r\n",
       "\r\n",
       "package \"CircularImport\" as E1   {\r\n",
       "package \"P1\" as E2   {\r\n",
       "rec def \"A\" as E3  <<part def>> {\r\n",
       "}\r\n",
       "}\r\n",
       "package \"P2\" as E4   {\r\n",
       "rec def \"B\" as E5  <<part def>> {\r\n",
       "}\r\n",
       "}\r\n",
       "package \"Test1\" as E6   {\r\n",
       "rec usage \"x: A\" as E7  {\r\n",
       "}\r\n",
       "rec usage \"y: B\" as E8  {\r\n",
       "}\r\n",
       "}\r\n",
       "package \"Test2\" as E9   {\r\n",
       "rec usage \"x: A\" as E10  {\r\n",
       "}\r\n",
       "rec usage \"y: B\" as E11  {\r\n",
       "}\r\n",
       "}\r\n",
       "rec usage \"x: A\" as E12  {\r\n",
       "}\r\n",
       "rec usage \"y: B\" as E13  {\r\n",
       "}\r\n",
       "}\r\n",
       "@enduml\r\n",
       "\n",
       "PlantUML version 1.2020.13(Sat Jun 13 12:26:38 UTC 2020)\n",
       "(EPL source distribution)\n",
       "Java Runtime: OpenJDK Runtime Environment\n",
       "JVM: OpenJDK 64-Bit Server VM\n",
       "Default Encoding: UTF-8\n",
       "Language: en\n",
       "Country: null\n",
       "--></g></svg>"
      ]
     },
     "execution_count": 19,
     "metadata": {},
     "output_type": "execute_result"
    }
   ],
   "source": [
    "%viz --style=\"LR\" --view=\"Interconnection\" \"CircularImport\""
   ]
  },
  {
   "cell_type": "code",
   "execution_count": 20,
   "id": "handy-concentrate",
   "metadata": {
    "execution": {
     "iopub.execute_input": "2021-03-26T09:40:17.236824Z",
     "iopub.status.busy": "2021-03-26T09:40:17.236493Z",
     "iopub.status.idle": "2021-03-26T09:40:17.238146Z",
     "shell.execute_reply": "2021-03-26T09:40:17.238469Z"
    }
   },
   "outputs": [
    {
     "data": {
      "text/plain": [
       "java.lang.IllegalArgumentException: Invalid View: Action View candidates are: Default Tree StateMachine Interconnection Activity Sequence MIXED \n",
       "\tat org.omg.sysml.plantuml.SysML2PlantUMLSvc.setView(SysML2PlantUMLSvc.java:63)\n",
       "\tat org.omg.sysml.interactive.SysMLInteractive.viz(SysMLInteractive.java:286)\n",
       "\tat org.omg.sysml.jupyter.kernel.magic.Viz.viz(Viz.java:47)\n",
       "\tat jdk.internal.reflect.GeneratedMethodAccessor9.invoke(Unknown Source)\n",
       "\tat java.base/jdk.internal.reflect.DelegatingMethodAccessorImpl.invoke(DelegatingMethodAccessorImpl.java:43)\n",
       "\tat java.base/java.lang.reflect.Method.invoke(Method.java:568)\n",
       "\tat io.github.spencerpark.jupyter.kernel.magic.registry.Magics.invoke(Magics.java:89)\n",
       "\tat io.github.spencerpark.jupyter.kernel.magic.registry.Magics.access$000(Magics.java:8)\n",
       "\tat io.github.spencerpark.jupyter.kernel.magic.registry.Magics$LineReflectionMagicFunction.execute(Magics.java:149)\n",
       "\tat io.github.spencerpark.jupyter.kernel.magic.registry.Magics.applyLineMagic(Magics.java:26)\n",
       "\tat org.omg.sysml.jupyter.kernel.SysMLKernel.eval(SysMLKernel.java:76)\n",
       "\tat io.github.spencerpark.jupyter.kernel.BaseKernel.handleExecuteRequest(BaseKernel.java:334)\n",
       "\tat io.github.spencerpark.jupyter.channels.ShellChannel.lambda$bind$0(ShellChannel.java:64)\n",
       "\tat io.github.spencerpark.jupyter.channels.Loop.lambda$new$0(Loop.java:21)\n",
       "\tat io.github.spencerpark.jupyter.channels.Loop.run(Loop.java:78)\n"
      ]
     },
     "execution_count": 20,
     "metadata": {},
     "output_type": "execute_result"
    }
   ],
   "source": [
    "%viz --style=\"LR\" --view=\"Action\" \"CircularImport\""
   ]
  },
  {
   "cell_type": "code",
   "execution_count": 21,
   "id": "minus-faculty",
   "metadata": {
    "execution": {
     "iopub.execute_input": "2021-03-26T09:40:17.291120Z",
     "iopub.status.busy": "2021-03-26T09:40:17.290525Z",
     "iopub.status.idle": "2021-03-26T09:40:17.331167Z",
     "shell.execute_reply": "2021-03-26T09:40:17.329768Z"
    }
   },
   "outputs": [
    {
     "data": {
      "image/svg+xml": [
       "<?xml version=\"1.0\" encoding=\"UTF-8\" standalone=\"no\"?><svg xmlns=\"http://www.w3.org/2000/svg\" xmlns:xlink=\"http://www.w3.org/1999/xlink\" contentScriptType=\"application/ecmascript\" contentStyleType=\"text/css\" height=\"576px\" preserveAspectRatio=\"none\" style=\"width:286px;height:576px;\" version=\"1.1\" viewBox=\"0 0 286 576\" width=\"286px\" zoomAndPan=\"magnify\"><defs/><g><!--MD5=[fbc87193dbaf4d95561dea2c320d4a47]\n",
       "cluster E1--><polygon fill=\"#FFFFFF\" points=\"16,6,134,6,141,28.2969,264,28.2969,264,564,16,564,16,6\" style=\"stroke: #000000; stroke-width: 1.5;\"/><line style=\"stroke: #000000; stroke-width: 1.5;\" x1=\"16\" x2=\"141\" y1=\"28.2969\" y2=\"28.2969\"/><text fill=\"#000000\" font-family=\"sans-serif\" font-size=\"14\" font-weight=\"bold\" lengthAdjust=\"spacingAndGlyphs\" textLength=\"112\" x=\"20\" y=\"20.9951\">CircularImport</text><!--MD5=[e4f7fae6ed58524ba242bb0b0d3be6b7]\n",
       "cluster E2--><polygon fill=\"#FFFFFF\" points=\"142,103,168,103,175,125.2969,240,125.2969,240,200,142,200,142,103\" style=\"stroke: #000000; stroke-width: 1.5;\"/><line style=\"stroke: #000000; stroke-width: 1.5;\" x1=\"142\" x2=\"175\" y1=\"125.2969\" y2=\"125.2969\"/><text fill=\"#000000\" font-family=\"sans-serif\" font-size=\"14\" font-weight=\"bold\" lengthAdjust=\"spacingAndGlyphs\" textLength=\"20\" x=\"146\" y=\"117.9951\">P1</text><!--MD5=[f6df4d0ebaf0b5dfb2ced0ae5af7c670]\n",
       "cluster E4--><polygon fill=\"#FFFFFF\" points=\"142,386,168,386,175,408.2969,240,408.2969,240,483,142,483,142,386\" style=\"stroke: #000000; stroke-width: 1.5;\"/><line style=\"stroke: #000000; stroke-width: 1.5;\" x1=\"142\" x2=\"175\" y1=\"408.2969\" y2=\"408.2969\"/><text fill=\"#000000\" font-family=\"sans-serif\" font-size=\"14\" font-weight=\"bold\" lengthAdjust=\"spacingAndGlyphs\" textLength=\"20\" x=\"146\" y=\"400.9951\">P2</text><!--MD5=[14e3b0961a2654348d326746436168a1]\n",
       "cluster E6--><polygon fill=\"#FFFFFF\" points=\"40,103,91,103,98,125.2969,114,125.2969,114,281,40,281,40,103\" style=\"stroke: #000000; stroke-width: 1.5;\"/><line style=\"stroke: #000000; stroke-width: 1.5;\" x1=\"40\" x2=\"98\" y1=\"125.2969\" y2=\"125.2969\"/><text fill=\"#000000\" font-family=\"sans-serif\" font-size=\"14\" font-weight=\"bold\" lengthAdjust=\"spacingAndGlyphs\" textLength=\"45\" x=\"44\" y=\"117.9951\">Test1</text><!--MD5=[7f149f147074ac12df2cb0a7728a5fb0]\n",
       "cluster E9--><polygon fill=\"#FFFFFF\" points=\"40,305,91,305,98,327.2969,114,327.2969,114,483,40,483,40,305\" style=\"stroke: #000000; stroke-width: 1.5;\"/><line style=\"stroke: #000000; stroke-width: 1.5;\" x1=\"40\" x2=\"98\" y1=\"327.2969\" y2=\"327.2969\"/><text fill=\"#000000\" font-family=\"sans-serif\" font-size=\"14\" font-weight=\"bold\" lengthAdjust=\"spacingAndGlyphs\" textLength=\"45\" x=\"44\" y=\"319.9951\">Test2</text><!--MD5=[49a0ec8f00dab7302a31f22d0f0fe584]\n",
       "class E12--><rect fill=\"#FFFFFF\" height=\"45.9375\" id=\"E12\" rx=\"10\" ry=\"10\" style=\"stroke: #383838; stroke-width: 1.5;\" width=\"42\" x=\"56\" y=\"41\"/><text fill=\"#000000\" font-family=\"sans-serif\" font-size=\"12\" font-style=\"italic\" lengthAdjust=\"spacingAndGlyphs\" textLength=\"40\" x=\"57\" y=\"57.1387\">«part»</text><text fill=\"#000000\" font-family=\"sans-serif\" font-size=\"12\" lengthAdjust=\"spacingAndGlyphs\" textLength=\"22\" x=\"66\" y=\"71.1074\">x: A</text><line style=\"stroke: #383838; stroke-width: 1.5;\" x1=\"57\" x2=\"97\" y1=\"78.9375\" y2=\"78.9375\"/><!--MD5=[ee3c913d1a06f366521f9ef512b67efe]\n",
       "class E13--><rect fill=\"#FFFFFF\" height=\"45.9375\" id=\"E13\" rx=\"10\" ry=\"10\" style=\"stroke: #383838; stroke-width: 1.5;\" width=\"42\" x=\"56\" y=\"502\"/><text fill=\"#000000\" font-family=\"sans-serif\" font-size=\"12\" font-style=\"italic\" lengthAdjust=\"spacingAndGlyphs\" textLength=\"40\" x=\"57\" y=\"518.1387\">«part»</text><text fill=\"#000000\" font-family=\"sans-serif\" font-size=\"12\" lengthAdjust=\"spacingAndGlyphs\" textLength=\"22\" x=\"66\" y=\"532.1074\">y: B</text><line style=\"stroke: #383838; stroke-width: 1.5;\" x1=\"57\" x2=\"97\" y1=\"539.9375\" y2=\"539.9375\"/><!--MD5=[09b614a08d8cba4a07c9adeb5e0fee81]\n",
       "class E3--><rect fill=\"#FFFFFF\" height=\"45.9375\" id=\"E3\" style=\"stroke: #383838; stroke-width: 1.5;\" width=\"66\" x=\"158\" y=\"138\"/><text fill=\"#000000\" font-family=\"sans-serif\" font-size=\"12\" font-style=\"italic\" lengthAdjust=\"spacingAndGlyphs\" textLength=\"64\" x=\"159\" y=\"154.1387\">«part def»</text><text fill=\"#000000\" font-family=\"sans-serif\" font-size=\"12\" lengthAdjust=\"spacingAndGlyphs\" textLength=\"8\" x=\"187\" y=\"168.1074\">A</text><line style=\"stroke: #383838; stroke-width: 1.5;\" x1=\"159\" x2=\"223\" y1=\"175.9375\" y2=\"175.9375\"/><!--MD5=[270fce915f116d4de14055a7c1d9a0f3]\n",
       "class E5--><rect fill=\"#FFFFFF\" height=\"45.9375\" id=\"E5\" style=\"stroke: #383838; stroke-width: 1.5;\" width=\"66\" x=\"158\" y=\"421\"/><text fill=\"#000000\" font-family=\"sans-serif\" font-size=\"12\" font-style=\"italic\" lengthAdjust=\"spacingAndGlyphs\" textLength=\"64\" x=\"159\" y=\"437.1387\">«part def»</text><text fill=\"#000000\" font-family=\"sans-serif\" font-size=\"12\" lengthAdjust=\"spacingAndGlyphs\" textLength=\"8\" x=\"187\" y=\"451.1074\">B</text><line style=\"stroke: #383838; stroke-width: 1.5;\" x1=\"159\" x2=\"223\" y1=\"458.9375\" y2=\"458.9375\"/><!--MD5=[2156ba9850f5573cc1fc38a6a4b2f02b]\n",
       "class E7--><rect fill=\"#FFFFFF\" height=\"45.9375\" id=\"E7\" rx=\"10\" ry=\"10\" style=\"stroke: #383838; stroke-width: 1.5;\" width=\"42\" x=\"56\" y=\"138\"/><text fill=\"#000000\" font-family=\"sans-serif\" font-size=\"12\" font-style=\"italic\" lengthAdjust=\"spacingAndGlyphs\" textLength=\"40\" x=\"57\" y=\"154.1387\">«part»</text><text fill=\"#000000\" font-family=\"sans-serif\" font-size=\"12\" lengthAdjust=\"spacingAndGlyphs\" textLength=\"22\" x=\"66\" y=\"168.1074\">x: A</text><line style=\"stroke: #383838; stroke-width: 1.5;\" x1=\"57\" x2=\"97\" y1=\"175.9375\" y2=\"175.9375\"/><!--MD5=[b9389687b975829384b498ac4b7476b2]\n",
       "class E8--><rect fill=\"#FFFFFF\" height=\"45.9375\" id=\"E8\" rx=\"10\" ry=\"10\" style=\"stroke: #383838; stroke-width: 1.5;\" width=\"42\" x=\"56\" y=\"219\"/><text fill=\"#000000\" font-family=\"sans-serif\" font-size=\"12\" font-style=\"italic\" lengthAdjust=\"spacingAndGlyphs\" textLength=\"40\" x=\"57\" y=\"235.1387\">«part»</text><text fill=\"#000000\" font-family=\"sans-serif\" font-size=\"12\" lengthAdjust=\"spacingAndGlyphs\" textLength=\"22\" x=\"66\" y=\"249.1074\">y: B</text><line style=\"stroke: #383838; stroke-width: 1.5;\" x1=\"57\" x2=\"97\" y1=\"256.9375\" y2=\"256.9375\"/><!--MD5=[96f4274e9e20536e775497830990834d]\n",
       "class E10--><rect fill=\"#FFFFFF\" height=\"45.9375\" id=\"E10\" rx=\"10\" ry=\"10\" style=\"stroke: #383838; stroke-width: 1.5;\" width=\"42\" x=\"56\" y=\"340\"/><text fill=\"#000000\" font-family=\"sans-serif\" font-size=\"12\" font-style=\"italic\" lengthAdjust=\"spacingAndGlyphs\" textLength=\"40\" x=\"57\" y=\"356.1387\">«part»</text><text fill=\"#000000\" font-family=\"sans-serif\" font-size=\"12\" lengthAdjust=\"spacingAndGlyphs\" textLength=\"22\" x=\"66\" y=\"370.1074\">x: A</text><line style=\"stroke: #383838; stroke-width: 1.5;\" x1=\"57\" x2=\"97\" y1=\"377.9375\" y2=\"377.9375\"/><!--MD5=[1dd1bfd58a279cf63c5f349dbc8fc6a1]\n",
       "class E11--><rect fill=\"#FFFFFF\" height=\"45.9375\" id=\"E11\" rx=\"10\" ry=\"10\" style=\"stroke: #383838; stroke-width: 1.5;\" width=\"42\" x=\"56\" y=\"421\"/><text fill=\"#000000\" font-family=\"sans-serif\" font-size=\"12\" font-style=\"italic\" lengthAdjust=\"spacingAndGlyphs\" textLength=\"40\" x=\"57\" y=\"437.1387\">«part»</text><text fill=\"#000000\" font-family=\"sans-serif\" font-size=\"12\" lengthAdjust=\"spacingAndGlyphs\" textLength=\"22\" x=\"66\" y=\"451.1074\">y: B</text><line style=\"stroke: #383838; stroke-width: 1.5;\" x1=\"57\" x2=\"97\" y1=\"458.9375\" y2=\"458.9375\"/><!--MD5=[14ccda38c055a5c0da953d572bc50960]\n",
       "link E7 to E3--><path d=\"M98.02,161 C109.18,161 123.65,161 137.79,161 \" fill=\"none\" id=\"E7-&gt;E3\" style=\"stroke: #383838; stroke-width: 1.0;\"/><polygon fill=\"#FFFFFF\" points=\"157.86,161,138.86,168,138.86,154,157.86,161\" style=\"stroke: #383838; stroke-width: 1.0;\"/><ellipse cx=\"133.16\" cy=\"166\" fill=\"#383838\" rx=\"2\" ry=\"2\" style=\"stroke: #383838; stroke-width: 1.0;\"/><ellipse cx=\"133.16\" cy=\"156\" fill=\"#383838\" rx=\"2\" ry=\"2\" style=\"stroke: #383838; stroke-width: 1.0;\"/><!--MD5=[1ccb2481ffa92f8d51a74ee30c51832a]\n",
       "link E8 to E5--><path d=\"M90.85,265.17 C109.49,298.8 144.32,361.62 167.34,403.13 \" fill=\"none\" id=\"E8-&gt;E5\" style=\"stroke: #383838; stroke-width: 1.0;\"/><polygon fill=\"#FFFFFF\" points=\"177.13,420.79,161.7919,407.5709,174.0344,400.7796,177.13,420.79\" style=\"stroke: #383838; stroke-width: 1.0;\"/><ellipse cx=\"160.7758\" cy=\"401.6163\" fill=\"#383838\" rx=\"2\" ry=\"2\" style=\"stroke: #383838; stroke-width: 1.0;\"/><ellipse cx=\"169.5204\" cy=\"396.7653\" fill=\"#383838\" rx=\"2\" ry=\"2\" style=\"stroke: #383838; stroke-width: 1.0;\"/><!--MD5=[feeac5eb423634930294aa81f2d25a4c]\n",
       "link E10 to E3--><path d=\"M90.85,339.83 C109.49,306.2 144.32,243.38 167.34,201.87 \" fill=\"none\" id=\"E10-&gt;E3\" style=\"stroke: #383838; stroke-width: 1.0;\"/><polygon fill=\"#FFFFFF\" points=\"177.13,184.21,174.0344,204.2204,161.7919,197.4291,177.13,184.21\" style=\"stroke: #383838; stroke-width: 1.0;\"/><ellipse cx=\"169.5204\" cy=\"208.2347\" fill=\"#383838\" rx=\"2\" ry=\"2\" style=\"stroke: #383838; stroke-width: 1.0;\"/><ellipse cx=\"160.7758\" cy=\"203.3837\" fill=\"#383838\" rx=\"2\" ry=\"2\" style=\"stroke: #383838; stroke-width: 1.0;\"/><!--MD5=[07b77f6f309248d16187045709d1c26e]\n",
       "link E11 to E5--><path d=\"M98.02,444 C109.18,444 123.65,444 137.79,444 \" fill=\"none\" id=\"E11-&gt;E5\" style=\"stroke: #383838; stroke-width: 1.0;\"/><polygon fill=\"#FFFFFF\" points=\"157.86,444,138.86,451,138.86,437,157.86,444\" style=\"stroke: #383838; stroke-width: 1.0;\"/><ellipse cx=\"133.16\" cy=\"449\" fill=\"#383838\" rx=\"2\" ry=\"2\" style=\"stroke: #383838; stroke-width: 1.0;\"/><ellipse cx=\"133.16\" cy=\"439\" fill=\"#383838\" rx=\"2\" ry=\"2\" style=\"stroke: #383838; stroke-width: 1.0;\"/><!--MD5=[39f41a0e550fb3d73b4d8135617e30a2]\n",
       "link E12 to E3--><path d=\"M98.02,81.34 C111.92,93.38 130.95,109.86 148.09,124.7 \" fill=\"none\" id=\"E12-&gt;E3\" style=\"stroke: #383838; stroke-width: 1.0;\"/><polygon fill=\"#FFFFFF\" points=\"163.41,137.97,144.4677,130.8155,153.6371,120.2361,163.41,137.97\" style=\"stroke: #383838; stroke-width: 1.0;\"/><ellipse cx=\"141.4703\" cy=\"125.5709\" fill=\"#383838\" rx=\"2\" ry=\"2\" style=\"stroke: #383838; stroke-width: 1.0;\"/><ellipse cx=\"148.0199\" cy=\"118.0142\" fill=\"#383838\" rx=\"2\" ry=\"2\" style=\"stroke: #383838; stroke-width: 1.0;\"/><!--MD5=[066b2d8af59fea80ccdb3d54ad5c1091]\n",
       "link E13 to E5--><path d=\"M98.02,510.52 C110.09,501.79 126.03,490.27 141.24,479.27 \" fill=\"none\" id=\"E13-&gt;E5\" style=\"stroke: #383838; stroke-width: 1.0;\"/><polygon fill=\"#FFFFFF\" points=\"157.86,467.25,146.5582,484.0509,138.3595,472.7027,157.86,467.25\" style=\"stroke: #383838; stroke-width: 1.0;\"/><ellipse cx=\"140.7667\" cy=\"485.7678\" fill=\"#383838\" rx=\"2\" ry=\"2\" style=\"stroke: #383838; stroke-width: 1.0;\"/><ellipse cx=\"134.9104\" cy=\"477.6619\" fill=\"#383838\" rx=\"2\" ry=\"2\" style=\"stroke: #383838; stroke-width: 1.0;\"/><!--MD5=[ac1ba8b75c45e68e1aba2da577c8b331]\n",
       "@startuml\r\n",
       "left to right direction\r\n",
       "skinparam monochrome true\r\n",
       "skinparam classbackgroundcolor white\r\n",
       "skinparam shadowing false\r\n",
       "skinparam wrapWidth 300\r\n",
       "hide circle\r\n",
       "\r\n",
       "package \"CircularImport\" as E1   {\r\n",
       "package \"P1\" as E2   {\r\n",
       "comp def \"A\" as E3  <<(T,blue)part def>> {\r\n",
       "}\r\n",
       "}\r\n",
       "package \"P2\" as E4   {\r\n",
       "comp def \"B\" as E5  <<(T,blue)part def>> {\r\n",
       "}\r\n",
       "}\r\n",
       "package \"Test1\" as E6   {\r\n",
       "comp usage \"x: A\" as E7  <<(T,blue)part>> {\r\n",
       "}\r\n",
       "comp usage \"y: B\" as E8  <<(T,blue)part>> {\r\n",
       "}\r\n",
       "E7 - -:|> E3\r\n",
       "E8 - -:|> E5\r\n",
       "}\r\n",
       "package \"Test2\" as E9   {\r\n",
       "comp usage \"x: A\" as E10  <<(T,blue)part>> {\r\n",
       "}\r\n",
       "comp usage \"y: B\" as E11  <<(T,blue)part>> {\r\n",
       "}\r\n",
       "E10 - -:|> E3\r\n",
       "E11 - -:|> E5\r\n",
       "}\r\n",
       "comp usage \"x: A\" as E12  <<(T,blue)part>> {\r\n",
       "}\r\n",
       "comp usage \"y: B\" as E13  <<(T,blue)part>> {\r\n",
       "}\r\n",
       "E12 - -:|> E3\r\n",
       "E13 - -:|> E5\r\n",
       "}\r\n",
       "@enduml\r\n",
       "\n",
       "PlantUML version 1.2020.13(Sat Jun 13 12:26:38 UTC 2020)\n",
       "(EPL source distribution)\n",
       "Java Runtime: OpenJDK Runtime Environment\n",
       "JVM: OpenJDK 64-Bit Server VM\n",
       "Default Encoding: UTF-8\n",
       "Language: en\n",
       "Country: null\n",
       "--></g></svg>"
      ]
     },
     "execution_count": 21,
     "metadata": {},
     "output_type": "execute_result"
    }
   ],
   "source": [
    "%viz --style=\"LR\" --view=\"Sequence\" \"CircularImport\""
   ]
  },
  {
   "cell_type": "code",
   "execution_count": 22,
   "id": "fantastic-working",
   "metadata": {
    "execution": {
     "iopub.execute_input": "2021-03-26T09:40:17.381038Z",
     "iopub.status.busy": "2021-03-26T09:40:17.380625Z",
     "iopub.status.idle": "2021-03-26T09:40:17.418103Z",
     "shell.execute_reply": "2021-03-26T09:40:17.418491Z"
    }
   },
   "outputs": [
    {
     "data": {
      "image/svg+xml": [
       "<?xml version=\"1.0\" encoding=\"UTF-8\" standalone=\"no\"?><svg xmlns=\"http://www.w3.org/2000/svg\" xmlns:xlink=\"http://www.w3.org/1999/xlink\" contentScriptType=\"application/ecmascript\" contentStyleType=\"text/css\" height=\"576px\" preserveAspectRatio=\"none\" style=\"width:286px;height:576px;\" version=\"1.1\" viewBox=\"0 0 286 576\" width=\"286px\" zoomAndPan=\"magnify\"><defs/><g><!--MD5=[fbc87193dbaf4d95561dea2c320d4a47]\n",
       "cluster E1--><polygon fill=\"#FFFFFF\" points=\"16,6,134,6,141,28.2969,264,28.2969,264,564,16,564,16,6\" style=\"stroke: #000000; stroke-width: 1.5;\"/><line style=\"stroke: #000000; stroke-width: 1.5;\" x1=\"16\" x2=\"141\" y1=\"28.2969\" y2=\"28.2969\"/><text fill=\"#000000\" font-family=\"sans-serif\" font-size=\"14\" font-weight=\"bold\" lengthAdjust=\"spacingAndGlyphs\" textLength=\"112\" x=\"20\" y=\"20.9951\">CircularImport</text><!--MD5=[e4f7fae6ed58524ba242bb0b0d3be6b7]\n",
       "cluster E2--><polygon fill=\"#FFFFFF\" points=\"142,103,168,103,175,125.2969,240,125.2969,240,200,142,200,142,103\" style=\"stroke: #000000; stroke-width: 1.5;\"/><line style=\"stroke: #000000; stroke-width: 1.5;\" x1=\"142\" x2=\"175\" y1=\"125.2969\" y2=\"125.2969\"/><text fill=\"#000000\" font-family=\"sans-serif\" font-size=\"14\" font-weight=\"bold\" lengthAdjust=\"spacingAndGlyphs\" textLength=\"20\" x=\"146\" y=\"117.9951\">P1</text><!--MD5=[f6df4d0ebaf0b5dfb2ced0ae5af7c670]\n",
       "cluster E4--><polygon fill=\"#FFFFFF\" points=\"142,386,168,386,175,408.2969,240,408.2969,240,483,142,483,142,386\" style=\"stroke: #000000; stroke-width: 1.5;\"/><line style=\"stroke: #000000; stroke-width: 1.5;\" x1=\"142\" x2=\"175\" y1=\"408.2969\" y2=\"408.2969\"/><text fill=\"#000000\" font-family=\"sans-serif\" font-size=\"14\" font-weight=\"bold\" lengthAdjust=\"spacingAndGlyphs\" textLength=\"20\" x=\"146\" y=\"400.9951\">P2</text><!--MD5=[14e3b0961a2654348d326746436168a1]\n",
       "cluster E6--><polygon fill=\"#FFFFFF\" points=\"40,103,91,103,98,125.2969,114,125.2969,114,281,40,281,40,103\" style=\"stroke: #000000; stroke-width: 1.5;\"/><line style=\"stroke: #000000; stroke-width: 1.5;\" x1=\"40\" x2=\"98\" y1=\"125.2969\" y2=\"125.2969\"/><text fill=\"#000000\" font-family=\"sans-serif\" font-size=\"14\" font-weight=\"bold\" lengthAdjust=\"spacingAndGlyphs\" textLength=\"45\" x=\"44\" y=\"117.9951\">Test1</text><!--MD5=[7f149f147074ac12df2cb0a7728a5fb0]\n",
       "cluster E9--><polygon fill=\"#FFFFFF\" points=\"40,305,91,305,98,327.2969,114,327.2969,114,483,40,483,40,305\" style=\"stroke: #000000; stroke-width: 1.5;\"/><line style=\"stroke: #000000; stroke-width: 1.5;\" x1=\"40\" x2=\"98\" y1=\"327.2969\" y2=\"327.2969\"/><text fill=\"#000000\" font-family=\"sans-serif\" font-size=\"14\" font-weight=\"bold\" lengthAdjust=\"spacingAndGlyphs\" textLength=\"45\" x=\"44\" y=\"319.9951\">Test2</text><!--MD5=[49a0ec8f00dab7302a31f22d0f0fe584]\n",
       "class E12--><rect fill=\"#FFFFFF\" height=\"45.9375\" id=\"E12\" rx=\"10\" ry=\"10\" style=\"stroke: #383838; stroke-width: 1.5;\" width=\"42\" x=\"56\" y=\"41\"/><text fill=\"#000000\" font-family=\"sans-serif\" font-size=\"12\" font-style=\"italic\" lengthAdjust=\"spacingAndGlyphs\" textLength=\"40\" x=\"57\" y=\"57.1387\">«part»</text><text fill=\"#000000\" font-family=\"sans-serif\" font-size=\"12\" lengthAdjust=\"spacingAndGlyphs\" textLength=\"22\" x=\"66\" y=\"71.1074\">x: A</text><line style=\"stroke: #383838; stroke-width: 1.5;\" x1=\"57\" x2=\"97\" y1=\"78.9375\" y2=\"78.9375\"/><!--MD5=[ee3c913d1a06f366521f9ef512b67efe]\n",
       "class E13--><rect fill=\"#FFFFFF\" height=\"45.9375\" id=\"E13\" rx=\"10\" ry=\"10\" style=\"stroke: #383838; stroke-width: 1.5;\" width=\"42\" x=\"56\" y=\"502\"/><text fill=\"#000000\" font-family=\"sans-serif\" font-size=\"12\" font-style=\"italic\" lengthAdjust=\"spacingAndGlyphs\" textLength=\"40\" x=\"57\" y=\"518.1387\">«part»</text><text fill=\"#000000\" font-family=\"sans-serif\" font-size=\"12\" lengthAdjust=\"spacingAndGlyphs\" textLength=\"22\" x=\"66\" y=\"532.1074\">y: B</text><line style=\"stroke: #383838; stroke-width: 1.5;\" x1=\"57\" x2=\"97\" y1=\"539.9375\" y2=\"539.9375\"/><!--MD5=[09b614a08d8cba4a07c9adeb5e0fee81]\n",
       "class E3--><rect fill=\"#FFFFFF\" height=\"45.9375\" id=\"E3\" style=\"stroke: #383838; stroke-width: 1.5;\" width=\"66\" x=\"158\" y=\"138\"/><text fill=\"#000000\" font-family=\"sans-serif\" font-size=\"12\" font-style=\"italic\" lengthAdjust=\"spacingAndGlyphs\" textLength=\"64\" x=\"159\" y=\"154.1387\">«part def»</text><text fill=\"#000000\" font-family=\"sans-serif\" font-size=\"12\" lengthAdjust=\"spacingAndGlyphs\" textLength=\"8\" x=\"187\" y=\"168.1074\">A</text><line style=\"stroke: #383838; stroke-width: 1.5;\" x1=\"159\" x2=\"223\" y1=\"175.9375\" y2=\"175.9375\"/><!--MD5=[270fce915f116d4de14055a7c1d9a0f3]\n",
       "class E5--><rect fill=\"#FFFFFF\" height=\"45.9375\" id=\"E5\" style=\"stroke: #383838; stroke-width: 1.5;\" width=\"66\" x=\"158\" y=\"421\"/><text fill=\"#000000\" font-family=\"sans-serif\" font-size=\"12\" font-style=\"italic\" lengthAdjust=\"spacingAndGlyphs\" textLength=\"64\" x=\"159\" y=\"437.1387\">«part def»</text><text fill=\"#000000\" font-family=\"sans-serif\" font-size=\"12\" lengthAdjust=\"spacingAndGlyphs\" textLength=\"8\" x=\"187\" y=\"451.1074\">B</text><line style=\"stroke: #383838; stroke-width: 1.5;\" x1=\"159\" x2=\"223\" y1=\"458.9375\" y2=\"458.9375\"/><!--MD5=[2156ba9850f5573cc1fc38a6a4b2f02b]\n",
       "class E7--><rect fill=\"#FFFFFF\" height=\"45.9375\" id=\"E7\" rx=\"10\" ry=\"10\" style=\"stroke: #383838; stroke-width: 1.5;\" width=\"42\" x=\"56\" y=\"138\"/><text fill=\"#000000\" font-family=\"sans-serif\" font-size=\"12\" font-style=\"italic\" lengthAdjust=\"spacingAndGlyphs\" textLength=\"40\" x=\"57\" y=\"154.1387\">«part»</text><text fill=\"#000000\" font-family=\"sans-serif\" font-size=\"12\" lengthAdjust=\"spacingAndGlyphs\" textLength=\"22\" x=\"66\" y=\"168.1074\">x: A</text><line style=\"stroke: #383838; stroke-width: 1.5;\" x1=\"57\" x2=\"97\" y1=\"175.9375\" y2=\"175.9375\"/><!--MD5=[b9389687b975829384b498ac4b7476b2]\n",
       "class E8--><rect fill=\"#FFFFFF\" height=\"45.9375\" id=\"E8\" rx=\"10\" ry=\"10\" style=\"stroke: #383838; stroke-width: 1.5;\" width=\"42\" x=\"56\" y=\"219\"/><text fill=\"#000000\" font-family=\"sans-serif\" font-size=\"12\" font-style=\"italic\" lengthAdjust=\"spacingAndGlyphs\" textLength=\"40\" x=\"57\" y=\"235.1387\">«part»</text><text fill=\"#000000\" font-family=\"sans-serif\" font-size=\"12\" lengthAdjust=\"spacingAndGlyphs\" textLength=\"22\" x=\"66\" y=\"249.1074\">y: B</text><line style=\"stroke: #383838; stroke-width: 1.5;\" x1=\"57\" x2=\"97\" y1=\"256.9375\" y2=\"256.9375\"/><!--MD5=[96f4274e9e20536e775497830990834d]\n",
       "class E10--><rect fill=\"#FFFFFF\" height=\"45.9375\" id=\"E10\" rx=\"10\" ry=\"10\" style=\"stroke: #383838; stroke-width: 1.5;\" width=\"42\" x=\"56\" y=\"340\"/><text fill=\"#000000\" font-family=\"sans-serif\" font-size=\"12\" font-style=\"italic\" lengthAdjust=\"spacingAndGlyphs\" textLength=\"40\" x=\"57\" y=\"356.1387\">«part»</text><text fill=\"#000000\" font-family=\"sans-serif\" font-size=\"12\" lengthAdjust=\"spacingAndGlyphs\" textLength=\"22\" x=\"66\" y=\"370.1074\">x: A</text><line style=\"stroke: #383838; stroke-width: 1.5;\" x1=\"57\" x2=\"97\" y1=\"377.9375\" y2=\"377.9375\"/><!--MD5=[1dd1bfd58a279cf63c5f349dbc8fc6a1]\n",
       "class E11--><rect fill=\"#FFFFFF\" height=\"45.9375\" id=\"E11\" rx=\"10\" ry=\"10\" style=\"stroke: #383838; stroke-width: 1.5;\" width=\"42\" x=\"56\" y=\"421\"/><text fill=\"#000000\" font-family=\"sans-serif\" font-size=\"12\" font-style=\"italic\" lengthAdjust=\"spacingAndGlyphs\" textLength=\"40\" x=\"57\" y=\"437.1387\">«part»</text><text fill=\"#000000\" font-family=\"sans-serif\" font-size=\"12\" lengthAdjust=\"spacingAndGlyphs\" textLength=\"22\" x=\"66\" y=\"451.1074\">y: B</text><line style=\"stroke: #383838; stroke-width: 1.5;\" x1=\"57\" x2=\"97\" y1=\"458.9375\" y2=\"458.9375\"/><!--MD5=[14ccda38c055a5c0da953d572bc50960]\n",
       "link E7 to E3--><path d=\"M98.02,161 C109.18,161 123.65,161 137.79,161 \" fill=\"none\" id=\"E7-&gt;E3\" style=\"stroke: #383838; stroke-width: 1.0;\"/><polygon fill=\"#FFFFFF\" points=\"157.86,161,138.86,168,138.86,154,157.86,161\" style=\"stroke: #383838; stroke-width: 1.0;\"/><ellipse cx=\"133.16\" cy=\"166\" fill=\"#383838\" rx=\"2\" ry=\"2\" style=\"stroke: #383838; stroke-width: 1.0;\"/><ellipse cx=\"133.16\" cy=\"156\" fill=\"#383838\" rx=\"2\" ry=\"2\" style=\"stroke: #383838; stroke-width: 1.0;\"/><!--MD5=[1ccb2481ffa92f8d51a74ee30c51832a]\n",
       "link E8 to E5--><path d=\"M90.85,265.17 C109.49,298.8 144.32,361.62 167.34,403.13 \" fill=\"none\" id=\"E8-&gt;E5\" style=\"stroke: #383838; stroke-width: 1.0;\"/><polygon fill=\"#FFFFFF\" points=\"177.13,420.79,161.7919,407.5709,174.0344,400.7796,177.13,420.79\" style=\"stroke: #383838; stroke-width: 1.0;\"/><ellipse cx=\"160.7758\" cy=\"401.6163\" fill=\"#383838\" rx=\"2\" ry=\"2\" style=\"stroke: #383838; stroke-width: 1.0;\"/><ellipse cx=\"169.5204\" cy=\"396.7653\" fill=\"#383838\" rx=\"2\" ry=\"2\" style=\"stroke: #383838; stroke-width: 1.0;\"/><!--MD5=[feeac5eb423634930294aa81f2d25a4c]\n",
       "link E10 to E3--><path d=\"M90.85,339.83 C109.49,306.2 144.32,243.38 167.34,201.87 \" fill=\"none\" id=\"E10-&gt;E3\" style=\"stroke: #383838; stroke-width: 1.0;\"/><polygon fill=\"#FFFFFF\" points=\"177.13,184.21,174.0344,204.2204,161.7919,197.4291,177.13,184.21\" style=\"stroke: #383838; stroke-width: 1.0;\"/><ellipse cx=\"169.5204\" cy=\"208.2347\" fill=\"#383838\" rx=\"2\" ry=\"2\" style=\"stroke: #383838; stroke-width: 1.0;\"/><ellipse cx=\"160.7758\" cy=\"203.3837\" fill=\"#383838\" rx=\"2\" ry=\"2\" style=\"stroke: #383838; stroke-width: 1.0;\"/><!--MD5=[07b77f6f309248d16187045709d1c26e]\n",
       "link E11 to E5--><path d=\"M98.02,444 C109.18,444 123.65,444 137.79,444 \" fill=\"none\" id=\"E11-&gt;E5\" style=\"stroke: #383838; stroke-width: 1.0;\"/><polygon fill=\"#FFFFFF\" points=\"157.86,444,138.86,451,138.86,437,157.86,444\" style=\"stroke: #383838; stroke-width: 1.0;\"/><ellipse cx=\"133.16\" cy=\"449\" fill=\"#383838\" rx=\"2\" ry=\"2\" style=\"stroke: #383838; stroke-width: 1.0;\"/><ellipse cx=\"133.16\" cy=\"439\" fill=\"#383838\" rx=\"2\" ry=\"2\" style=\"stroke: #383838; stroke-width: 1.0;\"/><!--MD5=[39f41a0e550fb3d73b4d8135617e30a2]\n",
       "link E12 to E3--><path d=\"M98.02,81.34 C111.92,93.38 130.95,109.86 148.09,124.7 \" fill=\"none\" id=\"E12-&gt;E3\" style=\"stroke: #383838; stroke-width: 1.0;\"/><polygon fill=\"#FFFFFF\" points=\"163.41,137.97,144.4677,130.8155,153.6371,120.2361,163.41,137.97\" style=\"stroke: #383838; stroke-width: 1.0;\"/><ellipse cx=\"141.4703\" cy=\"125.5709\" fill=\"#383838\" rx=\"2\" ry=\"2\" style=\"stroke: #383838; stroke-width: 1.0;\"/><ellipse cx=\"148.0199\" cy=\"118.0142\" fill=\"#383838\" rx=\"2\" ry=\"2\" style=\"stroke: #383838; stroke-width: 1.0;\"/><!--MD5=[066b2d8af59fea80ccdb3d54ad5c1091]\n",
       "link E13 to E5--><path d=\"M98.02,510.52 C110.09,501.79 126.03,490.27 141.24,479.27 \" fill=\"none\" id=\"E13-&gt;E5\" style=\"stroke: #383838; stroke-width: 1.0;\"/><polygon fill=\"#FFFFFF\" points=\"157.86,467.25,146.5582,484.0509,138.3595,472.7027,157.86,467.25\" style=\"stroke: #383838; stroke-width: 1.0;\"/><ellipse cx=\"140.7667\" cy=\"485.7678\" fill=\"#383838\" rx=\"2\" ry=\"2\" style=\"stroke: #383838; stroke-width: 1.0;\"/><ellipse cx=\"134.9104\" cy=\"477.6619\" fill=\"#383838\" rx=\"2\" ry=\"2\" style=\"stroke: #383838; stroke-width: 1.0;\"/><!--MD5=[ac1ba8b75c45e68e1aba2da577c8b331]\n",
       "@startuml\r\n",
       "left to right direction\r\n",
       "skinparam monochrome true\r\n",
       "skinparam classbackgroundcolor white\r\n",
       "skinparam shadowing false\r\n",
       "skinparam wrapWidth 300\r\n",
       "hide circle\r\n",
       "\r\n",
       "package \"CircularImport\" as E1   {\r\n",
       "package \"P1\" as E2   {\r\n",
       "comp def \"A\" as E3  <<(T,blue)part def>> {\r\n",
       "}\r\n",
       "}\r\n",
       "package \"P2\" as E4   {\r\n",
       "comp def \"B\" as E5  <<(T,blue)part def>> {\r\n",
       "}\r\n",
       "}\r\n",
       "package \"Test1\" as E6   {\r\n",
       "comp usage \"x: A\" as E7  <<(T,blue)part>> {\r\n",
       "}\r\n",
       "comp usage \"y: B\" as E8  <<(T,blue)part>> {\r\n",
       "}\r\n",
       "E7 - -:|> E3\r\n",
       "E8 - -:|> E5\r\n",
       "}\r\n",
       "package \"Test2\" as E9   {\r\n",
       "comp usage \"x: A\" as E10  <<(T,blue)part>> {\r\n",
       "}\r\n",
       "comp usage \"y: B\" as E11  <<(T,blue)part>> {\r\n",
       "}\r\n",
       "E10 - -:|> E3\r\n",
       "E11 - -:|> E5\r\n",
       "}\r\n",
       "comp usage \"x: A\" as E12  <<(T,blue)part>> {\r\n",
       "}\r\n",
       "comp usage \"y: B\" as E13  <<(T,blue)part>> {\r\n",
       "}\r\n",
       "E12 - -:|> E3\r\n",
       "E13 - -:|> E5\r\n",
       "}\r\n",
       "@enduml\r\n",
       "\n",
       "PlantUML version 1.2020.13(Sat Jun 13 12:26:38 UTC 2020)\n",
       "(EPL source distribution)\n",
       "Java Runtime: OpenJDK Runtime Environment\n",
       "JVM: OpenJDK 64-Bit Server VM\n",
       "Default Encoding: UTF-8\n",
       "Language: en\n",
       "Country: null\n",
       "--></g></svg>"
      ]
     },
     "execution_count": 22,
     "metadata": {},
     "output_type": "execute_result"
    }
   ],
   "source": [
    "%viz --style=\"LR\" --view=\"MIXED\" \"CircularImport\""
   ]
  },
  {
   "cell_type": "code",
   "execution_count": 23,
   "id": "introductory-secretary",
   "metadata": {
    "execution": {
     "iopub.execute_input": "2021-03-26T09:40:17.485174Z",
     "iopub.status.busy": "2021-03-26T09:40:17.484818Z",
     "iopub.status.idle": "2021-03-26T09:40:17.532489Z",
     "shell.execute_reply": "2021-03-26T09:40:17.532096Z"
    }
   },
   "outputs": [
    {
     "data": {
      "image/svg+xml": [
       "<?xml version=\"1.0\" encoding=\"UTF-8\" standalone=\"no\"?><svg xmlns=\"http://www.w3.org/2000/svg\" xmlns:xlink=\"http://www.w3.org/1999/xlink\" contentScriptType=\"application/ecmascript\" contentStyleType=\"text/css\" height=\"303px\" preserveAspectRatio=\"none\" style=\"width:518px;height:303px;\" version=\"1.1\" viewBox=\"0 0 518 303\" width=\"518px\" zoomAndPan=\"magnify\"><defs><filter height=\"300%\" id=\"f1ewjd51tuhmws\" width=\"300%\" x=\"-1\" y=\"-1\"><feGaussianBlur result=\"blurOut\" stdDeviation=\"2.0\"/><feColorMatrix in=\"blurOut\" result=\"blurOut2\" type=\"matrix\" values=\"0 0 0 0 0 0 0 0 0 0 0 0 0 0 0 0 0 0 .4 0\"/><feOffset dx=\"4.0\" dy=\"4.0\" in=\"blurOut2\" result=\"blurOut3\"/><feBlend in=\"SourceGraphic\" in2=\"blurOut3\" mode=\"normal\"/></filter></defs><g><!--MD5=[fbc87193dbaf4d95561dea2c320d4a47]\n",
       "cluster E1--><polygon fill=\"#FFFFFF\" filter=\"url(#f1ewjd51tuhmws)\" points=\"16,6,134,6,141,28.2969,496,28.2969,496,291,16,291,16,6\" style=\"stroke: #000000; stroke-width: 1.5;\"/><line style=\"stroke: #000000; stroke-width: 1.5;\" x1=\"16\" x2=\"141\" y1=\"28.2969\" y2=\"28.2969\"/><text fill=\"#000000\" font-family=\"sans-serif\" font-size=\"14\" font-weight=\"bold\" lengthAdjust=\"spacingAndGlyphs\" textLength=\"112\" x=\"20\" y=\"20.9951\">CircularImport</text><!--MD5=[e4f7fae6ed58524ba242bb0b0d3be6b7]\n",
       "cluster E2--><polygon fill=\"#FFFFFF\" filter=\"url(#f1ewjd51tuhmws)\" points=\"333,170,359,170,366,192.2969,431,192.2969,431,267,333,267,333,170\" style=\"stroke: #000000; stroke-width: 1.5;\"/><line style=\"stroke: #000000; stroke-width: 1.5;\" x1=\"333\" x2=\"366\" y1=\"192.2969\" y2=\"192.2969\"/><text fill=\"#000000\" font-family=\"sans-serif\" font-size=\"14\" font-weight=\"bold\" lengthAdjust=\"spacingAndGlyphs\" textLength=\"20\" x=\"337\" y=\"184.9951\">P1</text><!--MD5=[f6df4d0ebaf0b5dfb2ced0ae5af7c670]\n",
       "cluster E4--><polygon fill=\"#FFFFFF\" filter=\"url(#f1ewjd51tuhmws)\" points=\"81,170,107,170,114,192.2969,179,192.2969,179,267,81,267,81,170\" style=\"stroke: #000000; stroke-width: 1.5;\"/><line style=\"stroke: #000000; stroke-width: 1.5;\" x1=\"81\" x2=\"114\" y1=\"192.2969\" y2=\"192.2969\"/><text fill=\"#000000\" font-family=\"sans-serif\" font-size=\"14\" font-weight=\"bold\" lengthAdjust=\"spacingAndGlyphs\" textLength=\"20\" x=\"85\" y=\"184.9951\">P2</text><!--MD5=[14e3b0961a2654348d326746436168a1]\n",
       "cluster E6--><polygon fill=\"#FFFFFF\" filter=\"url(#f1ewjd51tuhmws)\" points=\"268,49,319,49,326,71.2969,419,71.2969,419,146,268,146,268,49\" style=\"stroke: #000000; stroke-width: 1.5;\"/><line style=\"stroke: #000000; stroke-width: 1.5;\" x1=\"268\" x2=\"326\" y1=\"71.2969\" y2=\"71.2969\"/><text fill=\"#000000\" font-family=\"sans-serif\" font-size=\"14\" font-weight=\"bold\" lengthAdjust=\"spacingAndGlyphs\" textLength=\"45\" x=\"272\" y=\"63.9951\">Test1</text><!--MD5=[7f149f147074ac12df2cb0a7728a5fb0]\n",
       "cluster E9--><polygon fill=\"#FFFFFF\" filter=\"url(#f1ewjd51tuhmws)\" points=\"93,49,144,49,151,71.2969,244,71.2969,244,146,93,146,93,49\" style=\"stroke: #000000; stroke-width: 1.5;\"/><line style=\"stroke: #000000; stroke-width: 1.5;\" x1=\"93\" x2=\"151\" y1=\"71.2969\" y2=\"71.2969\"/><text fill=\"#000000\" font-family=\"sans-serif\" font-size=\"14\" font-weight=\"bold\" lengthAdjust=\"spacingAndGlyphs\" textLength=\"45\" x=\"97\" y=\"63.9951\">Test2</text><!--MD5=[49a0ec8f00dab7302a31f22d0f0fe584]\n",
       "class E12--><rect fill=\"#FEFECE\" filter=\"url(#f1ewjd51tuhmws)\" height=\"45.9375\" id=\"E12\" rx=\"10\" ry=\"10\" style=\"stroke: #A80036; stroke-width: 1.5;\" width=\"42\" x=\"438\" y=\"84\"/><text fill=\"#000000\" font-family=\"sans-serif\" font-size=\"12\" font-style=\"italic\" lengthAdjust=\"spacingAndGlyphs\" textLength=\"40\" x=\"439\" y=\"100.1387\">«part»</text><text fill=\"#000000\" font-family=\"sans-serif\" font-size=\"12\" lengthAdjust=\"spacingAndGlyphs\" textLength=\"22\" x=\"448\" y=\"114.1074\">x: A</text><line style=\"stroke: #A80036; stroke-width: 1.5;\" x1=\"439\" x2=\"479\" y1=\"121.9375\" y2=\"121.9375\"/><!--MD5=[ee3c913d1a06f366521f9ef512b67efe]\n",
       "class E13--><rect fill=\"#FEFECE\" filter=\"url(#f1ewjd51tuhmws)\" height=\"45.9375\" id=\"E13\" rx=\"10\" ry=\"10\" style=\"stroke: #A80036; stroke-width: 1.5;\" width=\"42\" x=\"32\" y=\"84\"/><text fill=\"#000000\" font-family=\"sans-serif\" font-size=\"12\" font-style=\"italic\" lengthAdjust=\"spacingAndGlyphs\" textLength=\"40\" x=\"33\" y=\"100.1387\">«part»</text><text fill=\"#000000\" font-family=\"sans-serif\" font-size=\"12\" lengthAdjust=\"spacingAndGlyphs\" textLength=\"22\" x=\"42\" y=\"114.1074\">y: B</text><line style=\"stroke: #A80036; stroke-width: 1.5;\" x1=\"33\" x2=\"73\" y1=\"121.9375\" y2=\"121.9375\"/><!--MD5=[09b614a08d8cba4a07c9adeb5e0fee81]\n",
       "class E3--><rect fill=\"#FEFECE\" filter=\"url(#f1ewjd51tuhmws)\" height=\"45.9375\" id=\"E3\" style=\"stroke: #A80036; stroke-width: 1.5;\" width=\"66\" x=\"349\" y=\"205\"/><text fill=\"#000000\" font-family=\"sans-serif\" font-size=\"12\" font-style=\"italic\" lengthAdjust=\"spacingAndGlyphs\" textLength=\"64\" x=\"350\" y=\"221.1387\">«part def»</text><text fill=\"#000000\" font-family=\"sans-serif\" font-size=\"12\" lengthAdjust=\"spacingAndGlyphs\" textLength=\"8\" x=\"378\" y=\"235.1074\">A</text><line style=\"stroke: #A80036; stroke-width: 1.5;\" x1=\"350\" x2=\"414\" y1=\"242.9375\" y2=\"242.9375\"/><!--MD5=[270fce915f116d4de14055a7c1d9a0f3]\n",
       "class E5--><rect fill=\"#FEFECE\" filter=\"url(#f1ewjd51tuhmws)\" height=\"45.9375\" id=\"E5\" style=\"stroke: #A80036; stroke-width: 1.5;\" width=\"66\" x=\"97\" y=\"205\"/><text fill=\"#000000\" font-family=\"sans-serif\" font-size=\"12\" font-style=\"italic\" lengthAdjust=\"spacingAndGlyphs\" textLength=\"64\" x=\"98\" y=\"221.1387\">«part def»</text><text fill=\"#000000\" font-family=\"sans-serif\" font-size=\"12\" lengthAdjust=\"spacingAndGlyphs\" textLength=\"8\" x=\"126\" y=\"235.1074\">B</text><line style=\"stroke: #A80036; stroke-width: 1.5;\" x1=\"98\" x2=\"162\" y1=\"242.9375\" y2=\"242.9375\"/><!--MD5=[2156ba9850f5573cc1fc38a6a4b2f02b]\n",
       "class E7--><rect fill=\"#FEFECE\" filter=\"url(#f1ewjd51tuhmws)\" height=\"45.9375\" id=\"E7\" rx=\"10\" ry=\"10\" style=\"stroke: #A80036; stroke-width: 1.5;\" width=\"42\" x=\"361\" y=\"84\"/><text fill=\"#000000\" font-family=\"sans-serif\" font-size=\"12\" font-style=\"italic\" lengthAdjust=\"spacingAndGlyphs\" textLength=\"40\" x=\"362\" y=\"100.1387\">«part»</text><text fill=\"#000000\" font-family=\"sans-serif\" font-size=\"12\" lengthAdjust=\"spacingAndGlyphs\" textLength=\"22\" x=\"371\" y=\"114.1074\">x: A</text><line style=\"stroke: #A80036; stroke-width: 1.5;\" x1=\"362\" x2=\"402\" y1=\"121.9375\" y2=\"121.9375\"/><!--MD5=[b9389687b975829384b498ac4b7476b2]\n",
       "class E8--><rect fill=\"#FEFECE\" filter=\"url(#f1ewjd51tuhmws)\" height=\"45.9375\" id=\"E8\" rx=\"10\" ry=\"10\" style=\"stroke: #A80036; stroke-width: 1.5;\" width=\"42\" x=\"284\" y=\"84\"/><text fill=\"#000000\" font-family=\"sans-serif\" font-size=\"12\" font-style=\"italic\" lengthAdjust=\"spacingAndGlyphs\" textLength=\"40\" x=\"285\" y=\"100.1387\">«part»</text><text fill=\"#000000\" font-family=\"sans-serif\" font-size=\"12\" lengthAdjust=\"spacingAndGlyphs\" textLength=\"22\" x=\"294\" y=\"114.1074\">y: B</text><line style=\"stroke: #A80036; stroke-width: 1.5;\" x1=\"285\" x2=\"325\" y1=\"121.9375\" y2=\"121.9375\"/><!--MD5=[96f4274e9e20536e775497830990834d]\n",
       "class E10--><rect fill=\"#FEFECE\" filter=\"url(#f1ewjd51tuhmws)\" height=\"45.9375\" id=\"E10\" rx=\"10\" ry=\"10\" style=\"stroke: #A80036; stroke-width: 1.5;\" width=\"42\" x=\"186\" y=\"84\"/><text fill=\"#000000\" font-family=\"sans-serif\" font-size=\"12\" font-style=\"italic\" lengthAdjust=\"spacingAndGlyphs\" textLength=\"40\" x=\"187\" y=\"100.1387\">«part»</text><text fill=\"#000000\" font-family=\"sans-serif\" font-size=\"12\" lengthAdjust=\"spacingAndGlyphs\" textLength=\"22\" x=\"196\" y=\"114.1074\">x: A</text><line style=\"stroke: #A80036; stroke-width: 1.5;\" x1=\"187\" x2=\"227\" y1=\"121.9375\" y2=\"121.9375\"/><!--MD5=[1dd1bfd58a279cf63c5f349dbc8fc6a1]\n",
       "class E11--><rect fill=\"#FEFECE\" filter=\"url(#f1ewjd51tuhmws)\" height=\"45.9375\" id=\"E11\" rx=\"10\" ry=\"10\" style=\"stroke: #A80036; stroke-width: 1.5;\" width=\"42\" x=\"109\" y=\"84\"/><text fill=\"#000000\" font-family=\"sans-serif\" font-size=\"12\" font-style=\"italic\" lengthAdjust=\"spacingAndGlyphs\" textLength=\"40\" x=\"110\" y=\"100.1387\">«part»</text><text fill=\"#000000\" font-family=\"sans-serif\" font-size=\"12\" lengthAdjust=\"spacingAndGlyphs\" textLength=\"22\" x=\"119\" y=\"114.1074\">y: B</text><line style=\"stroke: #A80036; stroke-width: 1.5;\" x1=\"110\" x2=\"150\" y1=\"121.9375\" y2=\"121.9375\"/><!--MD5=[14ccda38c055a5c0da953d572bc50960]\n",
       "link E7 to E3--><path d=\"M382,130.1 C382,145.37 382,166.16 382,184.57 \" fill=\"none\" id=\"E7-&gt;E3\" style=\"stroke: #A80036; stroke-width: 1.0;\"/><polygon fill=\"#FFFFFF\" points=\"382,204.61,375,185.61,389,185.61,382,204.61\" style=\"stroke: #A80036; stroke-width: 1.0;\"/><ellipse cx=\"377\" cy=\"179.91\" fill=\"#A80036\" rx=\"2\" ry=\"2\" style=\"stroke: #A80036; stroke-width: 1.0;\"/><ellipse cx=\"387\" cy=\"179.91\" fill=\"#A80036\" rx=\"2\" ry=\"2\" style=\"stroke: #A80036; stroke-width: 1.0;\"/><!--MD5=[1ccb2481ffa92f8d51a74ee30c51832a]\n",
       "link E8 to E5--><path d=\"M283.84,124.59 C272.23,133.52 257.5,144.61 244,154 C223.51,168.25 200.41,183.24 180.38,195.91 \" fill=\"none\" id=\"E8-&gt;E5\" style=\"stroke: #A80036; stroke-width: 1.0;\"/><polygon fill=\"#FFFFFF\" points=\"163.36,206.57,175.7353,190.5434,183.175,202.403,163.36,206.57\" style=\"stroke: #A80036; stroke-width: 1.0;\"/><ellipse cx=\"181.6267\" cy=\"189.2086\" fill=\"#A80036\" rx=\"2\" ry=\"2\" style=\"stroke: #A80036; stroke-width: 1.0;\"/><ellipse cx=\"186.9408\" cy=\"197.6797\" fill=\"#A80036\" rx=\"2\" ry=\"2\" style=\"stroke: #A80036; stroke-width: 1.0;\"/><!--MD5=[feeac5eb423634930294aa81f2d25a4c]\n",
       "link E10 to E3--><path d=\"M228.16,124.59 C239.77,133.52 254.5,144.61 268,154 C288.49,168.25 311.59,183.24 331.62,195.91 \" fill=\"none\" id=\"E10-&gt;E3\" style=\"stroke: #A80036; stroke-width: 1.0;\"/><polygon fill=\"#FFFFFF\" points=\"348.64,206.57,328.825,202.403,336.2647,190.5434,348.64,206.57\" style=\"stroke: #A80036; stroke-width: 1.0;\"/><ellipse cx=\"325.0592\" cy=\"197.6797\" fill=\"#A80036\" rx=\"2\" ry=\"2\" style=\"stroke: #A80036; stroke-width: 1.0;\"/><ellipse cx=\"330.3733\" cy=\"189.2086\" fill=\"#A80036\" rx=\"2\" ry=\"2\" style=\"stroke: #A80036; stroke-width: 1.0;\"/><!--MD5=[07b77f6f309248d16187045709d1c26e]\n",
       "link E11 to E5--><path d=\"M130,130.1 C130,145.37 130,166.16 130,184.57 \" fill=\"none\" id=\"E11-&gt;E5\" style=\"stroke: #A80036; stroke-width: 1.0;\"/><polygon fill=\"#FFFFFF\" points=\"130,204.61,123,185.61,137,185.61,130,204.61\" style=\"stroke: #A80036; stroke-width: 1.0;\"/><ellipse cx=\"125\" cy=\"179.91\" fill=\"#A80036\" rx=\"2\" ry=\"2\" style=\"stroke: #A80036; stroke-width: 1.0;\"/><ellipse cx=\"135\" cy=\"179.91\" fill=\"#A80036\" rx=\"2\" ry=\"2\" style=\"stroke: #A80036; stroke-width: 1.0;\"/><!--MD5=[39f41a0e550fb3d73b4d8135617e30a2]\n",
       "link E12 to E3--><path d=\"M444.7,130.1 C434.28,146.2 419.89,168.44 407.53,187.55 \" fill=\"none\" id=\"E12-&gt;E3\" style=\"stroke: #A80036; stroke-width: 1.0;\"/><polygon fill=\"#FFFFFF\" points=\"396.49,204.61,400.9313,184.8546,412.6866,192.4581,396.49,204.61\" style=\"stroke: #A80036; stroke-width: 1.0;\"/><ellipse cx=\"405.7063\" cy=\"181.1547\" fill=\"#A80036\" rx=\"2\" ry=\"2\" style=\"stroke: #A80036; stroke-width: 1.0;\"/><ellipse cx=\"414.103\" cy=\"186.5858\" fill=\"#A80036\" rx=\"2\" ry=\"2\" style=\"stroke: #A80036; stroke-width: 1.0;\"/><!--MD5=[066b2d8af59fea80ccdb3d54ad5c1091]\n",
       "link E13 to E5--><path d=\"M67.3,130.1 C77.72,146.2 92.11,168.44 104.47,187.55 \" fill=\"none\" id=\"E13-&gt;E5\" style=\"stroke: #A80036; stroke-width: 1.0;\"/><polygon fill=\"#FFFFFF\" points=\"115.51,204.61,99.3134,192.4581,111.0687,184.8546,115.51,204.61\" style=\"stroke: #A80036; stroke-width: 1.0;\"/><ellipse cx=\"97.897\" cy=\"186.5858\" fill=\"#A80036\" rx=\"2\" ry=\"2\" style=\"stroke: #A80036; stroke-width: 1.0;\"/><ellipse cx=\"106.2937\" cy=\"181.1547\" fill=\"#A80036\" rx=\"2\" ry=\"2\" style=\"stroke: #A80036; stroke-width: 1.0;\"/><!--MD5=[7fe19a738dae7c8e059b2498f6265c29]\n",
       "@startuml\r\n",
       "skinparam wrapWidth 300\r\n",
       "hide circle\r\n",
       "\r\n",
       "package \"CircularImport\" as E1   {\r\n",
       "package \"P1\" as E2   {\r\n",
       "comp def \"A\" as E3  <<(T,blue)part def>> {\r\n",
       "}\r\n",
       "}\r\n",
       "package \"P2\" as E4   {\r\n",
       "comp def \"B\" as E5  <<(T,blue)part def>> {\r\n",
       "}\r\n",
       "}\r\n",
       "package \"Test1\" as E6   {\r\n",
       "comp usage \"x: A\" as E7  <<(T,blue)part>> {\r\n",
       "}\r\n",
       "comp usage \"y: B\" as E8  <<(T,blue)part>> {\r\n",
       "}\r\n",
       "E7 - -:|> E3\r\n",
       "E8 - -:|> E5\r\n",
       "}\r\n",
       "package \"Test2\" as E9   {\r\n",
       "comp usage \"x: A\" as E10  <<(T,blue)part>> {\r\n",
       "}\r\n",
       "comp usage \"y: B\" as E11  <<(T,blue)part>> {\r\n",
       "}\r\n",
       "E10 - -:|> E3\r\n",
       "E11 - -:|> E5\r\n",
       "}\r\n",
       "comp usage \"x: A\" as E12  <<(T,blue)part>> {\r\n",
       "}\r\n",
       "comp usage \"y: B\" as E13  <<(T,blue)part>> {\r\n",
       "}\r\n",
       "E12 - -:|> E3\r\n",
       "E13 - -:|> E5\r\n",
       "}\r\n",
       "@enduml\r\n",
       "\n",
       "PlantUML version 1.2020.13(Sat Jun 13 12:26:38 UTC 2020)\n",
       "(EPL source distribution)\n",
       "Java Runtime: OpenJDK Runtime Environment\n",
       "JVM: OpenJDK 64-Bit Server VM\n",
       "Default Encoding: UTF-8\n",
       "Language: en\n",
       "Country: null\n",
       "--></g></svg>"
      ]
     },
     "execution_count": 23,
     "metadata": {},
     "output_type": "execute_result"
    }
   ],
   "source": [
    "%viz --style=\"STDCOLOR\" --view=\"Default\" \"CircularImport\""
   ]
  },
  {
   "cell_type": "code",
   "execution_count": 24,
   "id": "bottom-trainer",
   "metadata": {
    "execution": {
     "iopub.execute_input": "2021-03-26T09:40:17.587136Z",
     "iopub.status.busy": "2021-03-26T09:40:17.584546Z",
     "iopub.status.idle": "2021-03-26T09:40:17.624195Z",
     "shell.execute_reply": "2021-03-26T09:40:17.622795Z"
    }
   },
   "outputs": [
    {
     "data": {
      "image/svg+xml": [
       "<?xml version=\"1.0\" encoding=\"UTF-8\" standalone=\"no\"?><svg xmlns=\"http://www.w3.org/2000/svg\" xmlns:xlink=\"http://www.w3.org/1999/xlink\" contentScriptType=\"application/ecmascript\" contentStyleType=\"text/css\" height=\"303px\" preserveAspectRatio=\"none\" style=\"width:518px;height:303px;\" version=\"1.1\" viewBox=\"0 0 518 303\" width=\"518px\" zoomAndPan=\"magnify\"><defs><filter height=\"300%\" id=\"f1ewjd51tuhmws\" width=\"300%\" x=\"-1\" y=\"-1\"><feGaussianBlur result=\"blurOut\" stdDeviation=\"2.0\"/><feColorMatrix in=\"blurOut\" result=\"blurOut2\" type=\"matrix\" values=\"0 0 0 0 0 0 0 0 0 0 0 0 0 0 0 0 0 0 .4 0\"/><feOffset dx=\"4.0\" dy=\"4.0\" in=\"blurOut2\" result=\"blurOut3\"/><feBlend in=\"SourceGraphic\" in2=\"blurOut3\" mode=\"normal\"/></filter></defs><g><!--MD5=[fbc87193dbaf4d95561dea2c320d4a47]\n",
       "cluster E1--><polygon fill=\"#FFFFFF\" filter=\"url(#f1ewjd51tuhmws)\" points=\"16,6,134,6,141,28.2969,496,28.2969,496,291,16,291,16,6\" style=\"stroke: #000000; stroke-width: 1.5;\"/><line style=\"stroke: #000000; stroke-width: 1.5;\" x1=\"16\" x2=\"141\" y1=\"28.2969\" y2=\"28.2969\"/><text fill=\"#000000\" font-family=\"sans-serif\" font-size=\"14\" font-weight=\"bold\" lengthAdjust=\"spacingAndGlyphs\" textLength=\"112\" x=\"20\" y=\"20.9951\">CircularImport</text><!--MD5=[e4f7fae6ed58524ba242bb0b0d3be6b7]\n",
       "cluster E2--><polygon fill=\"#FFFFFF\" filter=\"url(#f1ewjd51tuhmws)\" points=\"333,170,359,170,366,192.2969,431,192.2969,431,267,333,267,333,170\" style=\"stroke: #000000; stroke-width: 1.5;\"/><line style=\"stroke: #000000; stroke-width: 1.5;\" x1=\"333\" x2=\"366\" y1=\"192.2969\" y2=\"192.2969\"/><text fill=\"#000000\" font-family=\"sans-serif\" font-size=\"14\" font-weight=\"bold\" lengthAdjust=\"spacingAndGlyphs\" textLength=\"20\" x=\"337\" y=\"184.9951\">P1</text><!--MD5=[f6df4d0ebaf0b5dfb2ced0ae5af7c670]\n",
       "cluster E4--><polygon fill=\"#FFFFFF\" filter=\"url(#f1ewjd51tuhmws)\" points=\"81,170,107,170,114,192.2969,179,192.2969,179,267,81,267,81,170\" style=\"stroke: #000000; stroke-width: 1.5;\"/><line style=\"stroke: #000000; stroke-width: 1.5;\" x1=\"81\" x2=\"114\" y1=\"192.2969\" y2=\"192.2969\"/><text fill=\"#000000\" font-family=\"sans-serif\" font-size=\"14\" font-weight=\"bold\" lengthAdjust=\"spacingAndGlyphs\" textLength=\"20\" x=\"85\" y=\"184.9951\">P2</text><!--MD5=[14e3b0961a2654348d326746436168a1]\n",
       "cluster E6--><polygon fill=\"#FFFFFF\" filter=\"url(#f1ewjd51tuhmws)\" points=\"268,49,319,49,326,71.2969,419,71.2969,419,146,268,146,268,49\" style=\"stroke: #000000; stroke-width: 1.5;\"/><line style=\"stroke: #000000; stroke-width: 1.5;\" x1=\"268\" x2=\"326\" y1=\"71.2969\" y2=\"71.2969\"/><text fill=\"#000000\" font-family=\"sans-serif\" font-size=\"14\" font-weight=\"bold\" lengthAdjust=\"spacingAndGlyphs\" textLength=\"45\" x=\"272\" y=\"63.9951\">Test1</text><!--MD5=[7f149f147074ac12df2cb0a7728a5fb0]\n",
       "cluster E9--><polygon fill=\"#FFFFFF\" filter=\"url(#f1ewjd51tuhmws)\" points=\"93,49,144,49,151,71.2969,244,71.2969,244,146,93,146,93,49\" style=\"stroke: #000000; stroke-width: 1.5;\"/><line style=\"stroke: #000000; stroke-width: 1.5;\" x1=\"93\" x2=\"151\" y1=\"71.2969\" y2=\"71.2969\"/><text fill=\"#000000\" font-family=\"sans-serif\" font-size=\"14\" font-weight=\"bold\" lengthAdjust=\"spacingAndGlyphs\" textLength=\"45\" x=\"97\" y=\"63.9951\">Test2</text><!--MD5=[49a0ec8f00dab7302a31f22d0f0fe584]\n",
       "class E12--><rect fill=\"#FEFECE\" filter=\"url(#f1ewjd51tuhmws)\" height=\"45.9375\" id=\"E12\" rx=\"10\" ry=\"10\" style=\"stroke: #A80036; stroke-width: 1.5;\" width=\"42\" x=\"438\" y=\"84\"/><text fill=\"#000000\" font-family=\"sans-serif\" font-size=\"12\" font-style=\"italic\" lengthAdjust=\"spacingAndGlyphs\" textLength=\"40\" x=\"439\" y=\"100.1387\">«part»</text><text fill=\"#000000\" font-family=\"sans-serif\" font-size=\"12\" lengthAdjust=\"spacingAndGlyphs\" textLength=\"22\" x=\"448\" y=\"114.1074\">x: A</text><line style=\"stroke: #A80036; stroke-width: 1.5;\" x1=\"439\" x2=\"479\" y1=\"121.9375\" y2=\"121.9375\"/><!--MD5=[ee3c913d1a06f366521f9ef512b67efe]\n",
       "class E13--><rect fill=\"#FEFECE\" filter=\"url(#f1ewjd51tuhmws)\" height=\"45.9375\" id=\"E13\" rx=\"10\" ry=\"10\" style=\"stroke: #A80036; stroke-width: 1.5;\" width=\"42\" x=\"32\" y=\"84\"/><text fill=\"#000000\" font-family=\"sans-serif\" font-size=\"12\" font-style=\"italic\" lengthAdjust=\"spacingAndGlyphs\" textLength=\"40\" x=\"33\" y=\"100.1387\">«part»</text><text fill=\"#000000\" font-family=\"sans-serif\" font-size=\"12\" lengthAdjust=\"spacingAndGlyphs\" textLength=\"22\" x=\"42\" y=\"114.1074\">y: B</text><line style=\"stroke: #A80036; stroke-width: 1.5;\" x1=\"33\" x2=\"73\" y1=\"121.9375\" y2=\"121.9375\"/><!--MD5=[09b614a08d8cba4a07c9adeb5e0fee81]\n",
       "class E3--><rect fill=\"#FEFECE\" filter=\"url(#f1ewjd51tuhmws)\" height=\"45.9375\" id=\"E3\" style=\"stroke: #A80036; stroke-width: 1.5;\" width=\"66\" x=\"349\" y=\"205\"/><text fill=\"#000000\" font-family=\"sans-serif\" font-size=\"12\" font-style=\"italic\" lengthAdjust=\"spacingAndGlyphs\" textLength=\"64\" x=\"350\" y=\"221.1387\">«part def»</text><text fill=\"#000000\" font-family=\"sans-serif\" font-size=\"12\" lengthAdjust=\"spacingAndGlyphs\" textLength=\"8\" x=\"378\" y=\"235.1074\">A</text><line style=\"stroke: #A80036; stroke-width: 1.5;\" x1=\"350\" x2=\"414\" y1=\"242.9375\" y2=\"242.9375\"/><!--MD5=[270fce915f116d4de14055a7c1d9a0f3]\n",
       "class E5--><rect fill=\"#FEFECE\" filter=\"url(#f1ewjd51tuhmws)\" height=\"45.9375\" id=\"E5\" style=\"stroke: #A80036; stroke-width: 1.5;\" width=\"66\" x=\"97\" y=\"205\"/><text fill=\"#000000\" font-family=\"sans-serif\" font-size=\"12\" font-style=\"italic\" lengthAdjust=\"spacingAndGlyphs\" textLength=\"64\" x=\"98\" y=\"221.1387\">«part def»</text><text fill=\"#000000\" font-family=\"sans-serif\" font-size=\"12\" lengthAdjust=\"spacingAndGlyphs\" textLength=\"8\" x=\"126\" y=\"235.1074\">B</text><line style=\"stroke: #A80036; stroke-width: 1.5;\" x1=\"98\" x2=\"162\" y1=\"242.9375\" y2=\"242.9375\"/><!--MD5=[2156ba9850f5573cc1fc38a6a4b2f02b]\n",
       "class E7--><rect fill=\"#FEFECE\" filter=\"url(#f1ewjd51tuhmws)\" height=\"45.9375\" id=\"E7\" rx=\"10\" ry=\"10\" style=\"stroke: #A80036; stroke-width: 1.5;\" width=\"42\" x=\"361\" y=\"84\"/><text fill=\"#000000\" font-family=\"sans-serif\" font-size=\"12\" font-style=\"italic\" lengthAdjust=\"spacingAndGlyphs\" textLength=\"40\" x=\"362\" y=\"100.1387\">«part»</text><text fill=\"#000000\" font-family=\"sans-serif\" font-size=\"12\" lengthAdjust=\"spacingAndGlyphs\" textLength=\"22\" x=\"371\" y=\"114.1074\">x: A</text><line style=\"stroke: #A80036; stroke-width: 1.5;\" x1=\"362\" x2=\"402\" y1=\"121.9375\" y2=\"121.9375\"/><!--MD5=[b9389687b975829384b498ac4b7476b2]\n",
       "class E8--><rect fill=\"#FEFECE\" filter=\"url(#f1ewjd51tuhmws)\" height=\"45.9375\" id=\"E8\" rx=\"10\" ry=\"10\" style=\"stroke: #A80036; stroke-width: 1.5;\" width=\"42\" x=\"284\" y=\"84\"/><text fill=\"#000000\" font-family=\"sans-serif\" font-size=\"12\" font-style=\"italic\" lengthAdjust=\"spacingAndGlyphs\" textLength=\"40\" x=\"285\" y=\"100.1387\">«part»</text><text fill=\"#000000\" font-family=\"sans-serif\" font-size=\"12\" lengthAdjust=\"spacingAndGlyphs\" textLength=\"22\" x=\"294\" y=\"114.1074\">y: B</text><line style=\"stroke: #A80036; stroke-width: 1.5;\" x1=\"285\" x2=\"325\" y1=\"121.9375\" y2=\"121.9375\"/><!--MD5=[96f4274e9e20536e775497830990834d]\n",
       "class E10--><rect fill=\"#FEFECE\" filter=\"url(#f1ewjd51tuhmws)\" height=\"45.9375\" id=\"E10\" rx=\"10\" ry=\"10\" style=\"stroke: #A80036; stroke-width: 1.5;\" width=\"42\" x=\"186\" y=\"84\"/><text fill=\"#000000\" font-family=\"sans-serif\" font-size=\"12\" font-style=\"italic\" lengthAdjust=\"spacingAndGlyphs\" textLength=\"40\" x=\"187\" y=\"100.1387\">«part»</text><text fill=\"#000000\" font-family=\"sans-serif\" font-size=\"12\" lengthAdjust=\"spacingAndGlyphs\" textLength=\"22\" x=\"196\" y=\"114.1074\">x: A</text><line style=\"stroke: #A80036; stroke-width: 1.5;\" x1=\"187\" x2=\"227\" y1=\"121.9375\" y2=\"121.9375\"/><!--MD5=[1dd1bfd58a279cf63c5f349dbc8fc6a1]\n",
       "class E11--><rect fill=\"#FEFECE\" filter=\"url(#f1ewjd51tuhmws)\" height=\"45.9375\" id=\"E11\" rx=\"10\" ry=\"10\" style=\"stroke: #A80036; stroke-width: 1.5;\" width=\"42\" x=\"109\" y=\"84\"/><text fill=\"#000000\" font-family=\"sans-serif\" font-size=\"12\" font-style=\"italic\" lengthAdjust=\"spacingAndGlyphs\" textLength=\"40\" x=\"110\" y=\"100.1387\">«part»</text><text fill=\"#000000\" font-family=\"sans-serif\" font-size=\"12\" lengthAdjust=\"spacingAndGlyphs\" textLength=\"22\" x=\"119\" y=\"114.1074\">y: B</text><line style=\"stroke: #A80036; stroke-width: 1.5;\" x1=\"110\" x2=\"150\" y1=\"121.9375\" y2=\"121.9375\"/><!--MD5=[14ccda38c055a5c0da953d572bc50960]\n",
       "link E7 to E3--><path d=\"M382,130.1 C382,145.37 382,166.16 382,184.57 \" fill=\"none\" id=\"E7-&gt;E3\" style=\"stroke: #A80036; stroke-width: 1.0;\"/><polygon fill=\"#FFFFFF\" points=\"382,204.61,375,185.61,389,185.61,382,204.61\" style=\"stroke: #A80036; stroke-width: 1.0;\"/><ellipse cx=\"377\" cy=\"179.91\" fill=\"#A80036\" rx=\"2\" ry=\"2\" style=\"stroke: #A80036; stroke-width: 1.0;\"/><ellipse cx=\"387\" cy=\"179.91\" fill=\"#A80036\" rx=\"2\" ry=\"2\" style=\"stroke: #A80036; stroke-width: 1.0;\"/><!--MD5=[1ccb2481ffa92f8d51a74ee30c51832a]\n",
       "link E8 to E5--><path d=\"M283.84,124.59 C272.23,133.52 257.5,144.61 244,154 C223.51,168.25 200.41,183.24 180.38,195.91 \" fill=\"none\" id=\"E8-&gt;E5\" style=\"stroke: #A80036; stroke-width: 1.0;\"/><polygon fill=\"#FFFFFF\" points=\"163.36,206.57,175.7353,190.5434,183.175,202.403,163.36,206.57\" style=\"stroke: #A80036; stroke-width: 1.0;\"/><ellipse cx=\"181.6267\" cy=\"189.2086\" fill=\"#A80036\" rx=\"2\" ry=\"2\" style=\"stroke: #A80036; stroke-width: 1.0;\"/><ellipse cx=\"186.9408\" cy=\"197.6797\" fill=\"#A80036\" rx=\"2\" ry=\"2\" style=\"stroke: #A80036; stroke-width: 1.0;\"/><!--MD5=[feeac5eb423634930294aa81f2d25a4c]\n",
       "link E10 to E3--><path d=\"M228.16,124.59 C239.77,133.52 254.5,144.61 268,154 C288.49,168.25 311.59,183.24 331.62,195.91 \" fill=\"none\" id=\"E10-&gt;E3\" style=\"stroke: #A80036; stroke-width: 1.0;\"/><polygon fill=\"#FFFFFF\" points=\"348.64,206.57,328.825,202.403,336.2647,190.5434,348.64,206.57\" style=\"stroke: #A80036; stroke-width: 1.0;\"/><ellipse cx=\"325.0592\" cy=\"197.6797\" fill=\"#A80036\" rx=\"2\" ry=\"2\" style=\"stroke: #A80036; stroke-width: 1.0;\"/><ellipse cx=\"330.3733\" cy=\"189.2086\" fill=\"#A80036\" rx=\"2\" ry=\"2\" style=\"stroke: #A80036; stroke-width: 1.0;\"/><!--MD5=[07b77f6f309248d16187045709d1c26e]\n",
       "link E11 to E5--><path d=\"M130,130.1 C130,145.37 130,166.16 130,184.57 \" fill=\"none\" id=\"E11-&gt;E5\" style=\"stroke: #A80036; stroke-width: 1.0;\"/><polygon fill=\"#FFFFFF\" points=\"130,204.61,123,185.61,137,185.61,130,204.61\" style=\"stroke: #A80036; stroke-width: 1.0;\"/><ellipse cx=\"125\" cy=\"179.91\" fill=\"#A80036\" rx=\"2\" ry=\"2\" style=\"stroke: #A80036; stroke-width: 1.0;\"/><ellipse cx=\"135\" cy=\"179.91\" fill=\"#A80036\" rx=\"2\" ry=\"2\" style=\"stroke: #A80036; stroke-width: 1.0;\"/><!--MD5=[39f41a0e550fb3d73b4d8135617e30a2]\n",
       "link E12 to E3--><path d=\"M444.7,130.1 C434.28,146.2 419.89,168.44 407.53,187.55 \" fill=\"none\" id=\"E12-&gt;E3\" style=\"stroke: #A80036; stroke-width: 1.0;\"/><polygon fill=\"#FFFFFF\" points=\"396.49,204.61,400.9313,184.8546,412.6866,192.4581,396.49,204.61\" style=\"stroke: #A80036; stroke-width: 1.0;\"/><ellipse cx=\"405.7063\" cy=\"181.1547\" fill=\"#A80036\" rx=\"2\" ry=\"2\" style=\"stroke: #A80036; stroke-width: 1.0;\"/><ellipse cx=\"414.103\" cy=\"186.5858\" fill=\"#A80036\" rx=\"2\" ry=\"2\" style=\"stroke: #A80036; stroke-width: 1.0;\"/><!--MD5=[066b2d8af59fea80ccdb3d54ad5c1091]\n",
       "link E13 to E5--><path d=\"M67.3,130.1 C77.72,146.2 92.11,168.44 104.47,187.55 \" fill=\"none\" id=\"E13-&gt;E5\" style=\"stroke: #A80036; stroke-width: 1.0;\"/><polygon fill=\"#FFFFFF\" points=\"115.51,204.61,99.3134,192.4581,111.0687,184.8546,115.51,204.61\" style=\"stroke: #A80036; stroke-width: 1.0;\"/><ellipse cx=\"97.897\" cy=\"186.5858\" fill=\"#A80036\" rx=\"2\" ry=\"2\" style=\"stroke: #A80036; stroke-width: 1.0;\"/><ellipse cx=\"106.2937\" cy=\"181.1547\" fill=\"#A80036\" rx=\"2\" ry=\"2\" style=\"stroke: #A80036; stroke-width: 1.0;\"/><!--MD5=[7fe19a738dae7c8e059b2498f6265c29]\n",
       "@startuml\r\n",
       "skinparam wrapWidth 300\r\n",
       "hide circle\r\n",
       "\r\n",
       "package \"CircularImport\" as E1   {\r\n",
       "package \"P1\" as E2   {\r\n",
       "comp def \"A\" as E3  <<(T,blue)part def>> {\r\n",
       "}\r\n",
       "}\r\n",
       "package \"P2\" as E4   {\r\n",
       "comp def \"B\" as E5  <<(T,blue)part def>> {\r\n",
       "}\r\n",
       "}\r\n",
       "package \"Test1\" as E6   {\r\n",
       "comp usage \"x: A\" as E7  <<(T,blue)part>> {\r\n",
       "}\r\n",
       "comp usage \"y: B\" as E8  <<(T,blue)part>> {\r\n",
       "}\r\n",
       "E7 - -:|> E3\r\n",
       "E8 - -:|> E5\r\n",
       "}\r\n",
       "package \"Test2\" as E9   {\r\n",
       "comp usage \"x: A\" as E10  <<(T,blue)part>> {\r\n",
       "}\r\n",
       "comp usage \"y: B\" as E11  <<(T,blue)part>> {\r\n",
       "}\r\n",
       "E10 - -:|> E3\r\n",
       "E11 - -:|> E5\r\n",
       "}\r\n",
       "comp usage \"x: A\" as E12  <<(T,blue)part>> {\r\n",
       "}\r\n",
       "comp usage \"y: B\" as E13  <<(T,blue)part>> {\r\n",
       "}\r\n",
       "E12 - -:|> E3\r\n",
       "E13 - -:|> E5\r\n",
       "}\r\n",
       "@enduml\r\n",
       "\n",
       "PlantUML version 1.2020.13(Sat Jun 13 12:26:38 UTC 2020)\n",
       "(EPL source distribution)\n",
       "Java Runtime: OpenJDK Runtime Environment\n",
       "JVM: OpenJDK 64-Bit Server VM\n",
       "Default Encoding: UTF-8\n",
       "Language: en\n",
       "Country: null\n",
       "--></g></svg>"
      ]
     },
     "execution_count": 24,
     "metadata": {},
     "output_type": "execute_result"
    }
   ],
   "source": [
    "%viz --style=\"STDCOLOR\" --view=\"Tree\" \"CircularImport\""
   ]
  },
  {
   "cell_type": "code",
   "execution_count": 25,
   "id": "spiritual-construction",
   "metadata": {
    "execution": {
     "iopub.execute_input": "2021-03-26T09:40:17.675897Z",
     "iopub.status.busy": "2021-03-26T09:40:17.675349Z",
     "iopub.status.idle": "2021-03-26T09:40:17.677730Z",
     "shell.execute_reply": "2021-03-26T09:40:17.678292Z"
    }
   },
   "outputs": [
    {
     "data": {
      "text/plain": [
       "java.lang.IllegalArgumentException: Invalid View: State View candidates are: Default Tree StateMachine Interconnection Activity Sequence MIXED \n",
       "\tat org.omg.sysml.plantuml.SysML2PlantUMLSvc.setView(SysML2PlantUMLSvc.java:63)\n",
       "\tat org.omg.sysml.interactive.SysMLInteractive.viz(SysMLInteractive.java:286)\n",
       "\tat org.omg.sysml.jupyter.kernel.magic.Viz.viz(Viz.java:47)\n",
       "\tat jdk.internal.reflect.GeneratedMethodAccessor9.invoke(Unknown Source)\n",
       "\tat java.base/jdk.internal.reflect.DelegatingMethodAccessorImpl.invoke(DelegatingMethodAccessorImpl.java:43)\n",
       "\tat java.base/java.lang.reflect.Method.invoke(Method.java:568)\n",
       "\tat io.github.spencerpark.jupyter.kernel.magic.registry.Magics.invoke(Magics.java:89)\n",
       "\tat io.github.spencerpark.jupyter.kernel.magic.registry.Magics.access$000(Magics.java:8)\n",
       "\tat io.github.spencerpark.jupyter.kernel.magic.registry.Magics$LineReflectionMagicFunction.execute(Magics.java:149)\n",
       "\tat io.github.spencerpark.jupyter.kernel.magic.registry.Magics.applyLineMagic(Magics.java:26)\n",
       "\tat org.omg.sysml.jupyter.kernel.SysMLKernel.eval(SysMLKernel.java:76)\n",
       "\tat io.github.spencerpark.jupyter.kernel.BaseKernel.handleExecuteRequest(BaseKernel.java:334)\n",
       "\tat io.github.spencerpark.jupyter.channels.ShellChannel.lambda$bind$0(ShellChannel.java:64)\n",
       "\tat io.github.spencerpark.jupyter.channels.Loop.lambda$new$0(Loop.java:21)\n",
       "\tat io.github.spencerpark.jupyter.channels.Loop.run(Loop.java:78)\n"
      ]
     },
     "execution_count": 25,
     "metadata": {},
     "output_type": "execute_result"
    }
   ],
   "source": [
    "%viz --style=\"STDCOLOR\" --view=\"State\" \"CircularImport\""
   ]
  },
  {
   "cell_type": "code",
   "execution_count": 26,
   "id": "liberal-gamma",
   "metadata": {
    "execution": {
     "iopub.execute_input": "2021-03-26T09:40:17.730051Z",
     "iopub.status.busy": "2021-03-26T09:40:17.729454Z",
     "iopub.status.idle": "2021-03-26T09:40:17.773539Z",
     "shell.execute_reply": "2021-03-26T09:40:17.772277Z"
    }
   },
   "outputs": [
    {
     "data": {
      "image/svg+xml": [
       "<?xml version=\"1.0\" encoding=\"UTF-8\" standalone=\"no\"?><svg xmlns=\"http://www.w3.org/2000/svg\" xmlns:xlink=\"http://www.w3.org/1999/xlink\" contentScriptType=\"application/ecmascript\" contentStyleType=\"text/css\" height=\"189px\" preserveAspectRatio=\"none\" style=\"width:886px;height:189px;\" version=\"1.1\" viewBox=\"0 0 886 189\" width=\"886px\" zoomAndPan=\"magnify\"><defs><filter height=\"300%\" id=\"f8lunxizvxry9\" width=\"300%\" x=\"-1\" y=\"-1\"><feGaussianBlur result=\"blurOut\" stdDeviation=\"2.0\"/><feColorMatrix in=\"blurOut\" result=\"blurOut2\" type=\"matrix\" values=\"0 0 0 0 0 0 0 0 0 0 0 0 0 0 0 0 0 0 .4 0\"/><feOffset dx=\"4.0\" dy=\"4.0\" in=\"blurOut2\" result=\"blurOut3\"/><feBlend in=\"SourceGraphic\" in2=\"blurOut3\" mode=\"normal\"/></filter></defs><g><!--MD5=[fbc87193dbaf4d95561dea2c320d4a47]\n",
       "cluster E1--><polygon fill=\"#FFFFFF\" filter=\"url(#f8lunxizvxry9)\" points=\"16,6,134,6,141,28.2969,864,28.2969,864,177,16,177,16,6\" style=\"stroke: #000000; stroke-width: 1.5;\"/><line style=\"stroke: #000000; stroke-width: 1.5;\" x1=\"16\" x2=\"141\" y1=\"28.2969\" y2=\"28.2969\"/><text fill=\"#000000\" font-family=\"sans-serif\" font-size=\"14\" font-weight=\"bold\" lengthAdjust=\"spacingAndGlyphs\" textLength=\"112\" x=\"20\" y=\"20.9951\">CircularImport</text><!--MD5=[e4f7fae6ed58524ba242bb0b0d3be6b7]\n",
       "cluster E2--><polygon fill=\"#FFFFFF\" filter=\"url(#f8lunxizvxry9)\" points=\"716,49,742,49,749,71.2969,840,71.2969,840,153,716,153,716,49\" style=\"stroke: #000000; stroke-width: 1.5;\"/><line style=\"stroke: #000000; stroke-width: 1.5;\" x1=\"716\" x2=\"749\" y1=\"71.2969\" y2=\"71.2969\"/><text fill=\"#000000\" font-family=\"sans-serif\" font-size=\"14\" font-weight=\"bold\" lengthAdjust=\"spacingAndGlyphs\" textLength=\"20\" x=\"720\" y=\"63.9951\">P1</text><!--MD5=[f6df4d0ebaf0b5dfb2ced0ae5af7c670]\n",
       "cluster E4--><polygon fill=\"#FFFFFF\" filter=\"url(#f8lunxizvxry9)\" points=\"568,49,594,49,601,71.2969,692,71.2969,692,153,568,153,568,49\" style=\"stroke: #000000; stroke-width: 1.5;\"/><line style=\"stroke: #000000; stroke-width: 1.5;\" x1=\"568\" x2=\"601\" y1=\"71.2969\" y2=\"71.2969\"/><text fill=\"#000000\" font-family=\"sans-serif\" font-size=\"14\" font-weight=\"bold\" lengthAdjust=\"spacingAndGlyphs\" textLength=\"20\" x=\"572\" y=\"63.9951\">P2</text><!--MD5=[14e3b0961a2654348d326746436168a1]\n",
       "cluster E6--><polygon fill=\"#FFFFFF\" filter=\"url(#f8lunxizvxry9)\" points=\"377,50.5,428,50.5,435,72.7969,544,72.7969,544,151.5,377,151.5,377,50.5\" style=\"stroke: #000000; stroke-width: 1.5;\"/><line style=\"stroke: #000000; stroke-width: 1.5;\" x1=\"377\" x2=\"435\" y1=\"72.7969\" y2=\"72.7969\"/><text fill=\"#000000\" font-family=\"sans-serif\" font-size=\"14\" font-weight=\"bold\" lengthAdjust=\"spacingAndGlyphs\" textLength=\"45\" x=\"381\" y=\"65.4951\">Test1</text><!--MD5=[7f149f147074ac12df2cb0a7728a5fb0]\n",
       "cluster E9--><polygon fill=\"#FFFFFF\" filter=\"url(#f8lunxizvxry9)\" points=\"186,50.5,237,50.5,244,72.7969,353,72.7969,353,151.5,186,151.5,186,50.5\" style=\"stroke: #000000; stroke-width: 1.5;\"/><line style=\"stroke: #000000; stroke-width: 1.5;\" x1=\"186\" x2=\"244\" y1=\"72.7969\" y2=\"72.7969\"/><text fill=\"#000000\" font-family=\"sans-serif\" font-size=\"14\" font-weight=\"bold\" lengthAdjust=\"spacingAndGlyphs\" textLength=\"45\" x=\"190\" y=\"65.4951\">Test2</text><!--MD5=[a60fb756f580feb9fd8e2cf1329b5c91]\n",
       "entity E3--><rect fill=\"#FFFFFF\" filter=\"url(#f8lunxizvxry9)\" height=\"52.5938\" style=\"stroke: #000000; stroke-width: 1.5;\" width=\"91\" x=\"732.5\" y=\"84\"/><text fill=\"#000000\" font-family=\"sans-serif\" font-size=\"14\" font-style=\"italic\" lengthAdjust=\"spacingAndGlyphs\" textLength=\"71\" x=\"742.5\" y=\"106.9951\">«part def»</text><text fill=\"#000000\" font-family=\"sans-serif\" font-size=\"14\" lengthAdjust=\"spacingAndGlyphs\" textLength=\"9\" x=\"773.5\" y=\"123.292\">A</text><!--MD5=[21dd76c19d33815960c0e92fef8f0eef]\n",
       "entity E5--><rect fill=\"#FFFFFF\" filter=\"url(#f8lunxizvxry9)\" height=\"52.5938\" style=\"stroke: #000000; stroke-width: 1.5;\" width=\"91\" x=\"584.5\" y=\"84\"/><text fill=\"#000000\" font-family=\"sans-serif\" font-size=\"14\" font-style=\"italic\" lengthAdjust=\"spacingAndGlyphs\" textLength=\"71\" x=\"594.5\" y=\"106.9951\">«part def»</text><text fill=\"#000000\" font-family=\"sans-serif\" font-size=\"14\" lengthAdjust=\"spacingAndGlyphs\" textLength=\"10\" x=\"625\" y=\"123.292\">B</text><g id=\"E1.E6.E7\"><rect fill=\"#FFFFFF\" filter=\"url(#f8lunxizvxry9)\" height=\"50\" rx=\"12.5\" ry=\"12.5\" style=\"stroke: #A80036; stroke-width: 1.5;\" width=\"50\" x=\"478\" y=\"85.5\"/><line style=\"stroke: #A80036; stroke-width: 1.5;\" x1=\"478\" x2=\"528\" y1=\"111.7969\" y2=\"111.7969\"/><text fill=\"#000000\" font-family=\"sans-serif\" font-size=\"14\" lengthAdjust=\"spacingAndGlyphs\" textLength=\"25\" x=\"490.5\" y=\"103.4951\">x: A</text></g><g id=\"E1.E6.E8\"><rect fill=\"#FFFFFF\" filter=\"url(#f8lunxizvxry9)\" height=\"50\" rx=\"12.5\" ry=\"12.5\" style=\"stroke: #A80036; stroke-width: 1.5;\" width=\"50\" x=\"393\" y=\"85.5\"/><line style=\"stroke: #A80036; stroke-width: 1.5;\" x1=\"393\" x2=\"443\" y1=\"111.7969\" y2=\"111.7969\"/><text fill=\"#000000\" font-family=\"sans-serif\" font-size=\"14\" lengthAdjust=\"spacingAndGlyphs\" textLength=\"26\" x=\"405\" y=\"103.4951\">y: B</text></g><g id=\"E1.E9.E10\"><rect fill=\"#FFFFFF\" filter=\"url(#f8lunxizvxry9)\" height=\"50\" rx=\"12.5\" ry=\"12.5\" style=\"stroke: #A80036; stroke-width: 1.5;\" width=\"50\" x=\"287\" y=\"85.5\"/><line style=\"stroke: #A80036; stroke-width: 1.5;\" x1=\"287\" x2=\"337\" y1=\"111.7969\" y2=\"111.7969\"/><text fill=\"#000000\" font-family=\"sans-serif\" font-size=\"14\" lengthAdjust=\"spacingAndGlyphs\" textLength=\"25\" x=\"299.5\" y=\"103.4951\">x: A</text></g><g id=\"E1.E9.E11\"><rect fill=\"#FFFFFF\" filter=\"url(#f8lunxizvxry9)\" height=\"50\" rx=\"12.5\" ry=\"12.5\" style=\"stroke: #A80036; stroke-width: 1.5;\" width=\"50\" x=\"202\" y=\"85.5\"/><line style=\"stroke: #A80036; stroke-width: 1.5;\" x1=\"202\" x2=\"252\" y1=\"111.7969\" y2=\"111.7969\"/><text fill=\"#000000\" font-family=\"sans-serif\" font-size=\"14\" lengthAdjust=\"spacingAndGlyphs\" textLength=\"26\" x=\"214\" y=\"103.4951\">y: B</text></g><g id=\"E1.E12\"><rect fill=\"#FFFFFF\" filter=\"url(#f8lunxizvxry9)\" height=\"50\" rx=\"12.5\" ry=\"12.5\" style=\"stroke: #A80036; stroke-width: 1.5;\" width=\"50\" x=\"117\" y=\"85.5\"/><line style=\"stroke: #A80036; stroke-width: 1.5;\" x1=\"117\" x2=\"167\" y1=\"111.7969\" y2=\"111.7969\"/><text fill=\"#000000\" font-family=\"sans-serif\" font-size=\"14\" lengthAdjust=\"spacingAndGlyphs\" textLength=\"25\" x=\"129.5\" y=\"103.4951\">x: A</text></g><g id=\"E1.E13\"><rect fill=\"#FFFFFF\" filter=\"url(#f8lunxizvxry9)\" height=\"50\" rx=\"12.5\" ry=\"12.5\" style=\"stroke: #A80036; stroke-width: 1.5;\" width=\"50\" x=\"32\" y=\"85.5\"/><line style=\"stroke: #A80036; stroke-width: 1.5;\" x1=\"32\" x2=\"82\" y1=\"111.7969\" y2=\"111.7969\"/><text fill=\"#000000\" font-family=\"sans-serif\" font-size=\"14\" lengthAdjust=\"spacingAndGlyphs\" textLength=\"26\" x=\"44\" y=\"103.4951\">y: B</text></g><!--MD5=[9faa4113cf6407a223d28ca04c1353a0]\n",
       "@startuml\r\n",
       "skinparam ranksep 8\r\n",
       "skinparam rectangle {\r\n",
       " backgroundColor<<block>> LightGreen\r\n",
       "}\r\n",
       "skinparam wrapWidth 300\r\n",
       "hide circle\r\n",
       "\r\n",
       "package \"CircularImport\" as E1   {\r\n",
       "package \"P1\" as E2   {\r\n",
       "rec def \"A\" as E3  <<part def>> {\r\n",
       "}\r\n",
       "}\r\n",
       "package \"P2\" as E4   {\r\n",
       "rec def \"B\" as E5  <<part def>> {\r\n",
       "}\r\n",
       "}\r\n",
       "package \"Test1\" as E6   {\r\n",
       "rec usage \"x: A\" as E7  {\r\n",
       "}\r\n",
       "rec usage \"y: B\" as E8  {\r\n",
       "}\r\n",
       "}\r\n",
       "package \"Test2\" as E9   {\r\n",
       "rec usage \"x: A\" as E10  {\r\n",
       "}\r\n",
       "rec usage \"y: B\" as E11  {\r\n",
       "}\r\n",
       "}\r\n",
       "rec usage \"x: A\" as E12  {\r\n",
       "}\r\n",
       "rec usage \"y: B\" as E13  {\r\n",
       "}\r\n",
       "}\r\n",
       "@enduml\r\n",
       "\n",
       "PlantUML version 1.2020.13(Sat Jun 13 12:26:38 UTC 2020)\n",
       "(EPL source distribution)\n",
       "Java Runtime: OpenJDK Runtime Environment\n",
       "JVM: OpenJDK 64-Bit Server VM\n",
       "Default Encoding: UTF-8\n",
       "Language: en\n",
       "Country: null\n",
       "--></g></svg>"
      ]
     },
     "execution_count": 26,
     "metadata": {},
     "output_type": "execute_result"
    }
   ],
   "source": [
    "%viz --style=\"STDCOLOR\" --view=\"Interconnection\" \"CircularImport\""
   ]
  },
  {
   "cell_type": "code",
   "execution_count": 27,
   "id": "wired-class",
   "metadata": {
    "execution": {
     "iopub.execute_input": "2021-03-26T09:40:17.827569Z",
     "iopub.status.busy": "2021-03-26T09:40:17.826873Z",
     "iopub.status.idle": "2021-03-26T09:40:17.829531Z",
     "shell.execute_reply": "2021-03-26T09:40:17.829116Z"
    }
   },
   "outputs": [
    {
     "data": {
      "text/plain": [
       "java.lang.IllegalArgumentException: Invalid View: Action View candidates are: Default Tree StateMachine Interconnection Activity Sequence MIXED \n",
       "\tat org.omg.sysml.plantuml.SysML2PlantUMLSvc.setView(SysML2PlantUMLSvc.java:63)\n",
       "\tat org.omg.sysml.interactive.SysMLInteractive.viz(SysMLInteractive.java:286)\n",
       "\tat org.omg.sysml.jupyter.kernel.magic.Viz.viz(Viz.java:47)\n",
       "\tat jdk.internal.reflect.GeneratedMethodAccessor9.invoke(Unknown Source)\n",
       "\tat java.base/jdk.internal.reflect.DelegatingMethodAccessorImpl.invoke(DelegatingMethodAccessorImpl.java:43)\n",
       "\tat java.base/java.lang.reflect.Method.invoke(Method.java:568)\n",
       "\tat io.github.spencerpark.jupyter.kernel.magic.registry.Magics.invoke(Magics.java:89)\n",
       "\tat io.github.spencerpark.jupyter.kernel.magic.registry.Magics.access$000(Magics.java:8)\n",
       "\tat io.github.spencerpark.jupyter.kernel.magic.registry.Magics$LineReflectionMagicFunction.execute(Magics.java:149)\n",
       "\tat io.github.spencerpark.jupyter.kernel.magic.registry.Magics.applyLineMagic(Magics.java:26)\n",
       "\tat org.omg.sysml.jupyter.kernel.SysMLKernel.eval(SysMLKernel.java:76)\n",
       "\tat io.github.spencerpark.jupyter.kernel.BaseKernel.handleExecuteRequest(BaseKernel.java:334)\n",
       "\tat io.github.spencerpark.jupyter.channels.ShellChannel.lambda$bind$0(ShellChannel.java:64)\n",
       "\tat io.github.spencerpark.jupyter.channels.Loop.lambda$new$0(Loop.java:21)\n",
       "\tat io.github.spencerpark.jupyter.channels.Loop.run(Loop.java:78)\n"
      ]
     },
     "execution_count": 27,
     "metadata": {},
     "output_type": "execute_result"
    }
   ],
   "source": [
    "%viz --style=\"STDCOLOR\" --view=\"Action\" \"CircularImport\""
   ]
  },
  {
   "cell_type": "code",
   "execution_count": 28,
   "id": "experienced-governor",
   "metadata": {
    "execution": {
     "iopub.execute_input": "2021-03-26T09:40:17.881796Z",
     "iopub.status.busy": "2021-03-26T09:40:17.880676Z",
     "iopub.status.idle": "2021-03-26T09:40:17.920823Z",
     "shell.execute_reply": "2021-03-26T09:40:17.919413Z"
    }
   },
   "outputs": [
    {
     "data": {
      "image/svg+xml": [
       "<?xml version=\"1.0\" encoding=\"UTF-8\" standalone=\"no\"?><svg xmlns=\"http://www.w3.org/2000/svg\" xmlns:xlink=\"http://www.w3.org/1999/xlink\" contentScriptType=\"application/ecmascript\" contentStyleType=\"text/css\" height=\"303px\" preserveAspectRatio=\"none\" style=\"width:518px;height:303px;\" version=\"1.1\" viewBox=\"0 0 518 303\" width=\"518px\" zoomAndPan=\"magnify\"><defs><filter height=\"300%\" id=\"f1ewjd51tuhmws\" width=\"300%\" x=\"-1\" y=\"-1\"><feGaussianBlur result=\"blurOut\" stdDeviation=\"2.0\"/><feColorMatrix in=\"blurOut\" result=\"blurOut2\" type=\"matrix\" values=\"0 0 0 0 0 0 0 0 0 0 0 0 0 0 0 0 0 0 .4 0\"/><feOffset dx=\"4.0\" dy=\"4.0\" in=\"blurOut2\" result=\"blurOut3\"/><feBlend in=\"SourceGraphic\" in2=\"blurOut3\" mode=\"normal\"/></filter></defs><g><!--MD5=[fbc87193dbaf4d95561dea2c320d4a47]\n",
       "cluster E1--><polygon fill=\"#FFFFFF\" filter=\"url(#f1ewjd51tuhmws)\" points=\"16,6,134,6,141,28.2969,496,28.2969,496,291,16,291,16,6\" style=\"stroke: #000000; stroke-width: 1.5;\"/><line style=\"stroke: #000000; stroke-width: 1.5;\" x1=\"16\" x2=\"141\" y1=\"28.2969\" y2=\"28.2969\"/><text fill=\"#000000\" font-family=\"sans-serif\" font-size=\"14\" font-weight=\"bold\" lengthAdjust=\"spacingAndGlyphs\" textLength=\"112\" x=\"20\" y=\"20.9951\">CircularImport</text><!--MD5=[e4f7fae6ed58524ba242bb0b0d3be6b7]\n",
       "cluster E2--><polygon fill=\"#FFFFFF\" filter=\"url(#f1ewjd51tuhmws)\" points=\"333,170,359,170,366,192.2969,431,192.2969,431,267,333,267,333,170\" style=\"stroke: #000000; stroke-width: 1.5;\"/><line style=\"stroke: #000000; stroke-width: 1.5;\" x1=\"333\" x2=\"366\" y1=\"192.2969\" y2=\"192.2969\"/><text fill=\"#000000\" font-family=\"sans-serif\" font-size=\"14\" font-weight=\"bold\" lengthAdjust=\"spacingAndGlyphs\" textLength=\"20\" x=\"337\" y=\"184.9951\">P1</text><!--MD5=[f6df4d0ebaf0b5dfb2ced0ae5af7c670]\n",
       "cluster E4--><polygon fill=\"#FFFFFF\" filter=\"url(#f1ewjd51tuhmws)\" points=\"81,170,107,170,114,192.2969,179,192.2969,179,267,81,267,81,170\" style=\"stroke: #000000; stroke-width: 1.5;\"/><line style=\"stroke: #000000; stroke-width: 1.5;\" x1=\"81\" x2=\"114\" y1=\"192.2969\" y2=\"192.2969\"/><text fill=\"#000000\" font-family=\"sans-serif\" font-size=\"14\" font-weight=\"bold\" lengthAdjust=\"spacingAndGlyphs\" textLength=\"20\" x=\"85\" y=\"184.9951\">P2</text><!--MD5=[14e3b0961a2654348d326746436168a1]\n",
       "cluster E6--><polygon fill=\"#FFFFFF\" filter=\"url(#f1ewjd51tuhmws)\" points=\"268,49,319,49,326,71.2969,419,71.2969,419,146,268,146,268,49\" style=\"stroke: #000000; stroke-width: 1.5;\"/><line style=\"stroke: #000000; stroke-width: 1.5;\" x1=\"268\" x2=\"326\" y1=\"71.2969\" y2=\"71.2969\"/><text fill=\"#000000\" font-family=\"sans-serif\" font-size=\"14\" font-weight=\"bold\" lengthAdjust=\"spacingAndGlyphs\" textLength=\"45\" x=\"272\" y=\"63.9951\">Test1</text><!--MD5=[7f149f147074ac12df2cb0a7728a5fb0]\n",
       "cluster E9--><polygon fill=\"#FFFFFF\" filter=\"url(#f1ewjd51tuhmws)\" points=\"93,49,144,49,151,71.2969,244,71.2969,244,146,93,146,93,49\" style=\"stroke: #000000; stroke-width: 1.5;\"/><line style=\"stroke: #000000; stroke-width: 1.5;\" x1=\"93\" x2=\"151\" y1=\"71.2969\" y2=\"71.2969\"/><text fill=\"#000000\" font-family=\"sans-serif\" font-size=\"14\" font-weight=\"bold\" lengthAdjust=\"spacingAndGlyphs\" textLength=\"45\" x=\"97\" y=\"63.9951\">Test2</text><!--MD5=[49a0ec8f00dab7302a31f22d0f0fe584]\n",
       "class E12--><rect fill=\"#FEFECE\" filter=\"url(#f1ewjd51tuhmws)\" height=\"45.9375\" id=\"E12\" rx=\"10\" ry=\"10\" style=\"stroke: #A80036; stroke-width: 1.5;\" width=\"42\" x=\"438\" y=\"84\"/><text fill=\"#000000\" font-family=\"sans-serif\" font-size=\"12\" font-style=\"italic\" lengthAdjust=\"spacingAndGlyphs\" textLength=\"40\" x=\"439\" y=\"100.1387\">«part»</text><text fill=\"#000000\" font-family=\"sans-serif\" font-size=\"12\" lengthAdjust=\"spacingAndGlyphs\" textLength=\"22\" x=\"448\" y=\"114.1074\">x: A</text><line style=\"stroke: #A80036; stroke-width: 1.5;\" x1=\"439\" x2=\"479\" y1=\"121.9375\" y2=\"121.9375\"/><!--MD5=[ee3c913d1a06f366521f9ef512b67efe]\n",
       "class E13--><rect fill=\"#FEFECE\" filter=\"url(#f1ewjd51tuhmws)\" height=\"45.9375\" id=\"E13\" rx=\"10\" ry=\"10\" style=\"stroke: #A80036; stroke-width: 1.5;\" width=\"42\" x=\"32\" y=\"84\"/><text fill=\"#000000\" font-family=\"sans-serif\" font-size=\"12\" font-style=\"italic\" lengthAdjust=\"spacingAndGlyphs\" textLength=\"40\" x=\"33\" y=\"100.1387\">«part»</text><text fill=\"#000000\" font-family=\"sans-serif\" font-size=\"12\" lengthAdjust=\"spacingAndGlyphs\" textLength=\"22\" x=\"42\" y=\"114.1074\">y: B</text><line style=\"stroke: #A80036; stroke-width: 1.5;\" x1=\"33\" x2=\"73\" y1=\"121.9375\" y2=\"121.9375\"/><!--MD5=[09b614a08d8cba4a07c9adeb5e0fee81]\n",
       "class E3--><rect fill=\"#FEFECE\" filter=\"url(#f1ewjd51tuhmws)\" height=\"45.9375\" id=\"E3\" style=\"stroke: #A80036; stroke-width: 1.5;\" width=\"66\" x=\"349\" y=\"205\"/><text fill=\"#000000\" font-family=\"sans-serif\" font-size=\"12\" font-style=\"italic\" lengthAdjust=\"spacingAndGlyphs\" textLength=\"64\" x=\"350\" y=\"221.1387\">«part def»</text><text fill=\"#000000\" font-family=\"sans-serif\" font-size=\"12\" lengthAdjust=\"spacingAndGlyphs\" textLength=\"8\" x=\"378\" y=\"235.1074\">A</text><line style=\"stroke: #A80036; stroke-width: 1.5;\" x1=\"350\" x2=\"414\" y1=\"242.9375\" y2=\"242.9375\"/><!--MD5=[270fce915f116d4de14055a7c1d9a0f3]\n",
       "class E5--><rect fill=\"#FEFECE\" filter=\"url(#f1ewjd51tuhmws)\" height=\"45.9375\" id=\"E5\" style=\"stroke: #A80036; stroke-width: 1.5;\" width=\"66\" x=\"97\" y=\"205\"/><text fill=\"#000000\" font-family=\"sans-serif\" font-size=\"12\" font-style=\"italic\" lengthAdjust=\"spacingAndGlyphs\" textLength=\"64\" x=\"98\" y=\"221.1387\">«part def»</text><text fill=\"#000000\" font-family=\"sans-serif\" font-size=\"12\" lengthAdjust=\"spacingAndGlyphs\" textLength=\"8\" x=\"126\" y=\"235.1074\">B</text><line style=\"stroke: #A80036; stroke-width: 1.5;\" x1=\"98\" x2=\"162\" y1=\"242.9375\" y2=\"242.9375\"/><!--MD5=[2156ba9850f5573cc1fc38a6a4b2f02b]\n",
       "class E7--><rect fill=\"#FEFECE\" filter=\"url(#f1ewjd51tuhmws)\" height=\"45.9375\" id=\"E7\" rx=\"10\" ry=\"10\" style=\"stroke: #A80036; stroke-width: 1.5;\" width=\"42\" x=\"361\" y=\"84\"/><text fill=\"#000000\" font-family=\"sans-serif\" font-size=\"12\" font-style=\"italic\" lengthAdjust=\"spacingAndGlyphs\" textLength=\"40\" x=\"362\" y=\"100.1387\">«part»</text><text fill=\"#000000\" font-family=\"sans-serif\" font-size=\"12\" lengthAdjust=\"spacingAndGlyphs\" textLength=\"22\" x=\"371\" y=\"114.1074\">x: A</text><line style=\"stroke: #A80036; stroke-width: 1.5;\" x1=\"362\" x2=\"402\" y1=\"121.9375\" y2=\"121.9375\"/><!--MD5=[b9389687b975829384b498ac4b7476b2]\n",
       "class E8--><rect fill=\"#FEFECE\" filter=\"url(#f1ewjd51tuhmws)\" height=\"45.9375\" id=\"E8\" rx=\"10\" ry=\"10\" style=\"stroke: #A80036; stroke-width: 1.5;\" width=\"42\" x=\"284\" y=\"84\"/><text fill=\"#000000\" font-family=\"sans-serif\" font-size=\"12\" font-style=\"italic\" lengthAdjust=\"spacingAndGlyphs\" textLength=\"40\" x=\"285\" y=\"100.1387\">«part»</text><text fill=\"#000000\" font-family=\"sans-serif\" font-size=\"12\" lengthAdjust=\"spacingAndGlyphs\" textLength=\"22\" x=\"294\" y=\"114.1074\">y: B</text><line style=\"stroke: #A80036; stroke-width: 1.5;\" x1=\"285\" x2=\"325\" y1=\"121.9375\" y2=\"121.9375\"/><!--MD5=[96f4274e9e20536e775497830990834d]\n",
       "class E10--><rect fill=\"#FEFECE\" filter=\"url(#f1ewjd51tuhmws)\" height=\"45.9375\" id=\"E10\" rx=\"10\" ry=\"10\" style=\"stroke: #A80036; stroke-width: 1.5;\" width=\"42\" x=\"186\" y=\"84\"/><text fill=\"#000000\" font-family=\"sans-serif\" font-size=\"12\" font-style=\"italic\" lengthAdjust=\"spacingAndGlyphs\" textLength=\"40\" x=\"187\" y=\"100.1387\">«part»</text><text fill=\"#000000\" font-family=\"sans-serif\" font-size=\"12\" lengthAdjust=\"spacingAndGlyphs\" textLength=\"22\" x=\"196\" y=\"114.1074\">x: A</text><line style=\"stroke: #A80036; stroke-width: 1.5;\" x1=\"187\" x2=\"227\" y1=\"121.9375\" y2=\"121.9375\"/><!--MD5=[1dd1bfd58a279cf63c5f349dbc8fc6a1]\n",
       "class E11--><rect fill=\"#FEFECE\" filter=\"url(#f1ewjd51tuhmws)\" height=\"45.9375\" id=\"E11\" rx=\"10\" ry=\"10\" style=\"stroke: #A80036; stroke-width: 1.5;\" width=\"42\" x=\"109\" y=\"84\"/><text fill=\"#000000\" font-family=\"sans-serif\" font-size=\"12\" font-style=\"italic\" lengthAdjust=\"spacingAndGlyphs\" textLength=\"40\" x=\"110\" y=\"100.1387\">«part»</text><text fill=\"#000000\" font-family=\"sans-serif\" font-size=\"12\" lengthAdjust=\"spacingAndGlyphs\" textLength=\"22\" x=\"119\" y=\"114.1074\">y: B</text><line style=\"stroke: #A80036; stroke-width: 1.5;\" x1=\"110\" x2=\"150\" y1=\"121.9375\" y2=\"121.9375\"/><!--MD5=[14ccda38c055a5c0da953d572bc50960]\n",
       "link E7 to E3--><path d=\"M382,130.1 C382,145.37 382,166.16 382,184.57 \" fill=\"none\" id=\"E7-&gt;E3\" style=\"stroke: #A80036; stroke-width: 1.0;\"/><polygon fill=\"#FFFFFF\" points=\"382,204.61,375,185.61,389,185.61,382,204.61\" style=\"stroke: #A80036; stroke-width: 1.0;\"/><ellipse cx=\"377\" cy=\"179.91\" fill=\"#A80036\" rx=\"2\" ry=\"2\" style=\"stroke: #A80036; stroke-width: 1.0;\"/><ellipse cx=\"387\" cy=\"179.91\" fill=\"#A80036\" rx=\"2\" ry=\"2\" style=\"stroke: #A80036; stroke-width: 1.0;\"/><!--MD5=[1ccb2481ffa92f8d51a74ee30c51832a]\n",
       "link E8 to E5--><path d=\"M283.84,124.59 C272.23,133.52 257.5,144.61 244,154 C223.51,168.25 200.41,183.24 180.38,195.91 \" fill=\"none\" id=\"E8-&gt;E5\" style=\"stroke: #A80036; stroke-width: 1.0;\"/><polygon fill=\"#FFFFFF\" points=\"163.36,206.57,175.7353,190.5434,183.175,202.403,163.36,206.57\" style=\"stroke: #A80036; stroke-width: 1.0;\"/><ellipse cx=\"181.6267\" cy=\"189.2086\" fill=\"#A80036\" rx=\"2\" ry=\"2\" style=\"stroke: #A80036; stroke-width: 1.0;\"/><ellipse cx=\"186.9408\" cy=\"197.6797\" fill=\"#A80036\" rx=\"2\" ry=\"2\" style=\"stroke: #A80036; stroke-width: 1.0;\"/><!--MD5=[feeac5eb423634930294aa81f2d25a4c]\n",
       "link E10 to E3--><path d=\"M228.16,124.59 C239.77,133.52 254.5,144.61 268,154 C288.49,168.25 311.59,183.24 331.62,195.91 \" fill=\"none\" id=\"E10-&gt;E3\" style=\"stroke: #A80036; stroke-width: 1.0;\"/><polygon fill=\"#FFFFFF\" points=\"348.64,206.57,328.825,202.403,336.2647,190.5434,348.64,206.57\" style=\"stroke: #A80036; stroke-width: 1.0;\"/><ellipse cx=\"325.0592\" cy=\"197.6797\" fill=\"#A80036\" rx=\"2\" ry=\"2\" style=\"stroke: #A80036; stroke-width: 1.0;\"/><ellipse cx=\"330.3733\" cy=\"189.2086\" fill=\"#A80036\" rx=\"2\" ry=\"2\" style=\"stroke: #A80036; stroke-width: 1.0;\"/><!--MD5=[07b77f6f309248d16187045709d1c26e]\n",
       "link E11 to E5--><path d=\"M130,130.1 C130,145.37 130,166.16 130,184.57 \" fill=\"none\" id=\"E11-&gt;E5\" style=\"stroke: #A80036; stroke-width: 1.0;\"/><polygon fill=\"#FFFFFF\" points=\"130,204.61,123,185.61,137,185.61,130,204.61\" style=\"stroke: #A80036; stroke-width: 1.0;\"/><ellipse cx=\"125\" cy=\"179.91\" fill=\"#A80036\" rx=\"2\" ry=\"2\" style=\"stroke: #A80036; stroke-width: 1.0;\"/><ellipse cx=\"135\" cy=\"179.91\" fill=\"#A80036\" rx=\"2\" ry=\"2\" style=\"stroke: #A80036; stroke-width: 1.0;\"/><!--MD5=[39f41a0e550fb3d73b4d8135617e30a2]\n",
       "link E12 to E3--><path d=\"M444.7,130.1 C434.28,146.2 419.89,168.44 407.53,187.55 \" fill=\"none\" id=\"E12-&gt;E3\" style=\"stroke: #A80036; stroke-width: 1.0;\"/><polygon fill=\"#FFFFFF\" points=\"396.49,204.61,400.9313,184.8546,412.6866,192.4581,396.49,204.61\" style=\"stroke: #A80036; stroke-width: 1.0;\"/><ellipse cx=\"405.7063\" cy=\"181.1547\" fill=\"#A80036\" rx=\"2\" ry=\"2\" style=\"stroke: #A80036; stroke-width: 1.0;\"/><ellipse cx=\"414.103\" cy=\"186.5858\" fill=\"#A80036\" rx=\"2\" ry=\"2\" style=\"stroke: #A80036; stroke-width: 1.0;\"/><!--MD5=[066b2d8af59fea80ccdb3d54ad5c1091]\n",
       "link E13 to E5--><path d=\"M67.3,130.1 C77.72,146.2 92.11,168.44 104.47,187.55 \" fill=\"none\" id=\"E13-&gt;E5\" style=\"stroke: #A80036; stroke-width: 1.0;\"/><polygon fill=\"#FFFFFF\" points=\"115.51,204.61,99.3134,192.4581,111.0687,184.8546,115.51,204.61\" style=\"stroke: #A80036; stroke-width: 1.0;\"/><ellipse cx=\"97.897\" cy=\"186.5858\" fill=\"#A80036\" rx=\"2\" ry=\"2\" style=\"stroke: #A80036; stroke-width: 1.0;\"/><ellipse cx=\"106.2937\" cy=\"181.1547\" fill=\"#A80036\" rx=\"2\" ry=\"2\" style=\"stroke: #A80036; stroke-width: 1.0;\"/><!--MD5=[7fe19a738dae7c8e059b2498f6265c29]\n",
       "@startuml\r\n",
       "skinparam wrapWidth 300\r\n",
       "hide circle\r\n",
       "\r\n",
       "package \"CircularImport\" as E1   {\r\n",
       "package \"P1\" as E2   {\r\n",
       "comp def \"A\" as E3  <<(T,blue)part def>> {\r\n",
       "}\r\n",
       "}\r\n",
       "package \"P2\" as E4   {\r\n",
       "comp def \"B\" as E5  <<(T,blue)part def>> {\r\n",
       "}\r\n",
       "}\r\n",
       "package \"Test1\" as E6   {\r\n",
       "comp usage \"x: A\" as E7  <<(T,blue)part>> {\r\n",
       "}\r\n",
       "comp usage \"y: B\" as E8  <<(T,blue)part>> {\r\n",
       "}\r\n",
       "E7 - -:|> E3\r\n",
       "E8 - -:|> E5\r\n",
       "}\r\n",
       "package \"Test2\" as E9   {\r\n",
       "comp usage \"x: A\" as E10  <<(T,blue)part>> {\r\n",
       "}\r\n",
       "comp usage \"y: B\" as E11  <<(T,blue)part>> {\r\n",
       "}\r\n",
       "E10 - -:|> E3\r\n",
       "E11 - -:|> E5\r\n",
       "}\r\n",
       "comp usage \"x: A\" as E12  <<(T,blue)part>> {\r\n",
       "}\r\n",
       "comp usage \"y: B\" as E13  <<(T,blue)part>> {\r\n",
       "}\r\n",
       "E12 - -:|> E3\r\n",
       "E13 - -:|> E5\r\n",
       "}\r\n",
       "@enduml\r\n",
       "\n",
       "PlantUML version 1.2020.13(Sat Jun 13 12:26:38 UTC 2020)\n",
       "(EPL source distribution)\n",
       "Java Runtime: OpenJDK Runtime Environment\n",
       "JVM: OpenJDK 64-Bit Server VM\n",
       "Default Encoding: UTF-8\n",
       "Language: en\n",
       "Country: null\n",
       "--></g></svg>"
      ]
     },
     "execution_count": 28,
     "metadata": {},
     "output_type": "execute_result"
    }
   ],
   "source": [
    "%viz --style=\"STDCOLOR\" --view=\"Sequence\" \"CircularImport\""
   ]
  },
  {
   "cell_type": "code",
   "execution_count": 29,
   "id": "equipped-surface",
   "metadata": {
    "execution": {
     "iopub.execute_input": "2021-03-26T09:40:17.973756Z",
     "iopub.status.busy": "2021-03-26T09:40:17.972686Z",
     "iopub.status.idle": "2021-03-26T09:40:18.013268Z",
     "shell.execute_reply": "2021-03-26T09:40:18.013680Z"
    }
   },
   "outputs": [
    {
     "data": {
      "image/svg+xml": [
       "<?xml version=\"1.0\" encoding=\"UTF-8\" standalone=\"no\"?><svg xmlns=\"http://www.w3.org/2000/svg\" xmlns:xlink=\"http://www.w3.org/1999/xlink\" contentScriptType=\"application/ecmascript\" contentStyleType=\"text/css\" height=\"303px\" preserveAspectRatio=\"none\" style=\"width:518px;height:303px;\" version=\"1.1\" viewBox=\"0 0 518 303\" width=\"518px\" zoomAndPan=\"magnify\"><defs><filter height=\"300%\" id=\"f1ewjd51tuhmws\" width=\"300%\" x=\"-1\" y=\"-1\"><feGaussianBlur result=\"blurOut\" stdDeviation=\"2.0\"/><feColorMatrix in=\"blurOut\" result=\"blurOut2\" type=\"matrix\" values=\"0 0 0 0 0 0 0 0 0 0 0 0 0 0 0 0 0 0 .4 0\"/><feOffset dx=\"4.0\" dy=\"4.0\" in=\"blurOut2\" result=\"blurOut3\"/><feBlend in=\"SourceGraphic\" in2=\"blurOut3\" mode=\"normal\"/></filter></defs><g><!--MD5=[fbc87193dbaf4d95561dea2c320d4a47]\n",
       "cluster E1--><polygon fill=\"#FFFFFF\" filter=\"url(#f1ewjd51tuhmws)\" points=\"16,6,134,6,141,28.2969,496,28.2969,496,291,16,291,16,6\" style=\"stroke: #000000; stroke-width: 1.5;\"/><line style=\"stroke: #000000; stroke-width: 1.5;\" x1=\"16\" x2=\"141\" y1=\"28.2969\" y2=\"28.2969\"/><text fill=\"#000000\" font-family=\"sans-serif\" font-size=\"14\" font-weight=\"bold\" lengthAdjust=\"spacingAndGlyphs\" textLength=\"112\" x=\"20\" y=\"20.9951\">CircularImport</text><!--MD5=[e4f7fae6ed58524ba242bb0b0d3be6b7]\n",
       "cluster E2--><polygon fill=\"#FFFFFF\" filter=\"url(#f1ewjd51tuhmws)\" points=\"333,170,359,170,366,192.2969,431,192.2969,431,267,333,267,333,170\" style=\"stroke: #000000; stroke-width: 1.5;\"/><line style=\"stroke: #000000; stroke-width: 1.5;\" x1=\"333\" x2=\"366\" y1=\"192.2969\" y2=\"192.2969\"/><text fill=\"#000000\" font-family=\"sans-serif\" font-size=\"14\" font-weight=\"bold\" lengthAdjust=\"spacingAndGlyphs\" textLength=\"20\" x=\"337\" y=\"184.9951\">P1</text><!--MD5=[f6df4d0ebaf0b5dfb2ced0ae5af7c670]\n",
       "cluster E4--><polygon fill=\"#FFFFFF\" filter=\"url(#f1ewjd51tuhmws)\" points=\"81,170,107,170,114,192.2969,179,192.2969,179,267,81,267,81,170\" style=\"stroke: #000000; stroke-width: 1.5;\"/><line style=\"stroke: #000000; stroke-width: 1.5;\" x1=\"81\" x2=\"114\" y1=\"192.2969\" y2=\"192.2969\"/><text fill=\"#000000\" font-family=\"sans-serif\" font-size=\"14\" font-weight=\"bold\" lengthAdjust=\"spacingAndGlyphs\" textLength=\"20\" x=\"85\" y=\"184.9951\">P2</text><!--MD5=[14e3b0961a2654348d326746436168a1]\n",
       "cluster E6--><polygon fill=\"#FFFFFF\" filter=\"url(#f1ewjd51tuhmws)\" points=\"268,49,319,49,326,71.2969,419,71.2969,419,146,268,146,268,49\" style=\"stroke: #000000; stroke-width: 1.5;\"/><line style=\"stroke: #000000; stroke-width: 1.5;\" x1=\"268\" x2=\"326\" y1=\"71.2969\" y2=\"71.2969\"/><text fill=\"#000000\" font-family=\"sans-serif\" font-size=\"14\" font-weight=\"bold\" lengthAdjust=\"spacingAndGlyphs\" textLength=\"45\" x=\"272\" y=\"63.9951\">Test1</text><!--MD5=[7f149f147074ac12df2cb0a7728a5fb0]\n",
       "cluster E9--><polygon fill=\"#FFFFFF\" filter=\"url(#f1ewjd51tuhmws)\" points=\"93,49,144,49,151,71.2969,244,71.2969,244,146,93,146,93,49\" style=\"stroke: #000000; stroke-width: 1.5;\"/><line style=\"stroke: #000000; stroke-width: 1.5;\" x1=\"93\" x2=\"151\" y1=\"71.2969\" y2=\"71.2969\"/><text fill=\"#000000\" font-family=\"sans-serif\" font-size=\"14\" font-weight=\"bold\" lengthAdjust=\"spacingAndGlyphs\" textLength=\"45\" x=\"97\" y=\"63.9951\">Test2</text><!--MD5=[49a0ec8f00dab7302a31f22d0f0fe584]\n",
       "class E12--><rect fill=\"#FEFECE\" filter=\"url(#f1ewjd51tuhmws)\" height=\"45.9375\" id=\"E12\" rx=\"10\" ry=\"10\" style=\"stroke: #A80036; stroke-width: 1.5;\" width=\"42\" x=\"438\" y=\"84\"/><text fill=\"#000000\" font-family=\"sans-serif\" font-size=\"12\" font-style=\"italic\" lengthAdjust=\"spacingAndGlyphs\" textLength=\"40\" x=\"439\" y=\"100.1387\">«part»</text><text fill=\"#000000\" font-family=\"sans-serif\" font-size=\"12\" lengthAdjust=\"spacingAndGlyphs\" textLength=\"22\" x=\"448\" y=\"114.1074\">x: A</text><line style=\"stroke: #A80036; stroke-width: 1.5;\" x1=\"439\" x2=\"479\" y1=\"121.9375\" y2=\"121.9375\"/><!--MD5=[ee3c913d1a06f366521f9ef512b67efe]\n",
       "class E13--><rect fill=\"#FEFECE\" filter=\"url(#f1ewjd51tuhmws)\" height=\"45.9375\" id=\"E13\" rx=\"10\" ry=\"10\" style=\"stroke: #A80036; stroke-width: 1.5;\" width=\"42\" x=\"32\" y=\"84\"/><text fill=\"#000000\" font-family=\"sans-serif\" font-size=\"12\" font-style=\"italic\" lengthAdjust=\"spacingAndGlyphs\" textLength=\"40\" x=\"33\" y=\"100.1387\">«part»</text><text fill=\"#000000\" font-family=\"sans-serif\" font-size=\"12\" lengthAdjust=\"spacingAndGlyphs\" textLength=\"22\" x=\"42\" y=\"114.1074\">y: B</text><line style=\"stroke: #A80036; stroke-width: 1.5;\" x1=\"33\" x2=\"73\" y1=\"121.9375\" y2=\"121.9375\"/><!--MD5=[09b614a08d8cba4a07c9adeb5e0fee81]\n",
       "class E3--><rect fill=\"#FEFECE\" filter=\"url(#f1ewjd51tuhmws)\" height=\"45.9375\" id=\"E3\" style=\"stroke: #A80036; stroke-width: 1.5;\" width=\"66\" x=\"349\" y=\"205\"/><text fill=\"#000000\" font-family=\"sans-serif\" font-size=\"12\" font-style=\"italic\" lengthAdjust=\"spacingAndGlyphs\" textLength=\"64\" x=\"350\" y=\"221.1387\">«part def»</text><text fill=\"#000000\" font-family=\"sans-serif\" font-size=\"12\" lengthAdjust=\"spacingAndGlyphs\" textLength=\"8\" x=\"378\" y=\"235.1074\">A</text><line style=\"stroke: #A80036; stroke-width: 1.5;\" x1=\"350\" x2=\"414\" y1=\"242.9375\" y2=\"242.9375\"/><!--MD5=[270fce915f116d4de14055a7c1d9a0f3]\n",
       "class E5--><rect fill=\"#FEFECE\" filter=\"url(#f1ewjd51tuhmws)\" height=\"45.9375\" id=\"E5\" style=\"stroke: #A80036; stroke-width: 1.5;\" width=\"66\" x=\"97\" y=\"205\"/><text fill=\"#000000\" font-family=\"sans-serif\" font-size=\"12\" font-style=\"italic\" lengthAdjust=\"spacingAndGlyphs\" textLength=\"64\" x=\"98\" y=\"221.1387\">«part def»</text><text fill=\"#000000\" font-family=\"sans-serif\" font-size=\"12\" lengthAdjust=\"spacingAndGlyphs\" textLength=\"8\" x=\"126\" y=\"235.1074\">B</text><line style=\"stroke: #A80036; stroke-width: 1.5;\" x1=\"98\" x2=\"162\" y1=\"242.9375\" y2=\"242.9375\"/><!--MD5=[2156ba9850f5573cc1fc38a6a4b2f02b]\n",
       "class E7--><rect fill=\"#FEFECE\" filter=\"url(#f1ewjd51tuhmws)\" height=\"45.9375\" id=\"E7\" rx=\"10\" ry=\"10\" style=\"stroke: #A80036; stroke-width: 1.5;\" width=\"42\" x=\"361\" y=\"84\"/><text fill=\"#000000\" font-family=\"sans-serif\" font-size=\"12\" font-style=\"italic\" lengthAdjust=\"spacingAndGlyphs\" textLength=\"40\" x=\"362\" y=\"100.1387\">«part»</text><text fill=\"#000000\" font-family=\"sans-serif\" font-size=\"12\" lengthAdjust=\"spacingAndGlyphs\" textLength=\"22\" x=\"371\" y=\"114.1074\">x: A</text><line style=\"stroke: #A80036; stroke-width: 1.5;\" x1=\"362\" x2=\"402\" y1=\"121.9375\" y2=\"121.9375\"/><!--MD5=[b9389687b975829384b498ac4b7476b2]\n",
       "class E8--><rect fill=\"#FEFECE\" filter=\"url(#f1ewjd51tuhmws)\" height=\"45.9375\" id=\"E8\" rx=\"10\" ry=\"10\" style=\"stroke: #A80036; stroke-width: 1.5;\" width=\"42\" x=\"284\" y=\"84\"/><text fill=\"#000000\" font-family=\"sans-serif\" font-size=\"12\" font-style=\"italic\" lengthAdjust=\"spacingAndGlyphs\" textLength=\"40\" x=\"285\" y=\"100.1387\">«part»</text><text fill=\"#000000\" font-family=\"sans-serif\" font-size=\"12\" lengthAdjust=\"spacingAndGlyphs\" textLength=\"22\" x=\"294\" y=\"114.1074\">y: B</text><line style=\"stroke: #A80036; stroke-width: 1.5;\" x1=\"285\" x2=\"325\" y1=\"121.9375\" y2=\"121.9375\"/><!--MD5=[96f4274e9e20536e775497830990834d]\n",
       "class E10--><rect fill=\"#FEFECE\" filter=\"url(#f1ewjd51tuhmws)\" height=\"45.9375\" id=\"E10\" rx=\"10\" ry=\"10\" style=\"stroke: #A80036; stroke-width: 1.5;\" width=\"42\" x=\"186\" y=\"84\"/><text fill=\"#000000\" font-family=\"sans-serif\" font-size=\"12\" font-style=\"italic\" lengthAdjust=\"spacingAndGlyphs\" textLength=\"40\" x=\"187\" y=\"100.1387\">«part»</text><text fill=\"#000000\" font-family=\"sans-serif\" font-size=\"12\" lengthAdjust=\"spacingAndGlyphs\" textLength=\"22\" x=\"196\" y=\"114.1074\">x: A</text><line style=\"stroke: #A80036; stroke-width: 1.5;\" x1=\"187\" x2=\"227\" y1=\"121.9375\" y2=\"121.9375\"/><!--MD5=[1dd1bfd58a279cf63c5f349dbc8fc6a1]\n",
       "class E11--><rect fill=\"#FEFECE\" filter=\"url(#f1ewjd51tuhmws)\" height=\"45.9375\" id=\"E11\" rx=\"10\" ry=\"10\" style=\"stroke: #A80036; stroke-width: 1.5;\" width=\"42\" x=\"109\" y=\"84\"/><text fill=\"#000000\" font-family=\"sans-serif\" font-size=\"12\" font-style=\"italic\" lengthAdjust=\"spacingAndGlyphs\" textLength=\"40\" x=\"110\" y=\"100.1387\">«part»</text><text fill=\"#000000\" font-family=\"sans-serif\" font-size=\"12\" lengthAdjust=\"spacingAndGlyphs\" textLength=\"22\" x=\"119\" y=\"114.1074\">y: B</text><line style=\"stroke: #A80036; stroke-width: 1.5;\" x1=\"110\" x2=\"150\" y1=\"121.9375\" y2=\"121.9375\"/><!--MD5=[14ccda38c055a5c0da953d572bc50960]\n",
       "link E7 to E3--><path d=\"M382,130.1 C382,145.37 382,166.16 382,184.57 \" fill=\"none\" id=\"E7-&gt;E3\" style=\"stroke: #A80036; stroke-width: 1.0;\"/><polygon fill=\"#FFFFFF\" points=\"382,204.61,375,185.61,389,185.61,382,204.61\" style=\"stroke: #A80036; stroke-width: 1.0;\"/><ellipse cx=\"377\" cy=\"179.91\" fill=\"#A80036\" rx=\"2\" ry=\"2\" style=\"stroke: #A80036; stroke-width: 1.0;\"/><ellipse cx=\"387\" cy=\"179.91\" fill=\"#A80036\" rx=\"2\" ry=\"2\" style=\"stroke: #A80036; stroke-width: 1.0;\"/><!--MD5=[1ccb2481ffa92f8d51a74ee30c51832a]\n",
       "link E8 to E5--><path d=\"M283.84,124.59 C272.23,133.52 257.5,144.61 244,154 C223.51,168.25 200.41,183.24 180.38,195.91 \" fill=\"none\" id=\"E8-&gt;E5\" style=\"stroke: #A80036; stroke-width: 1.0;\"/><polygon fill=\"#FFFFFF\" points=\"163.36,206.57,175.7353,190.5434,183.175,202.403,163.36,206.57\" style=\"stroke: #A80036; stroke-width: 1.0;\"/><ellipse cx=\"181.6267\" cy=\"189.2086\" fill=\"#A80036\" rx=\"2\" ry=\"2\" style=\"stroke: #A80036; stroke-width: 1.0;\"/><ellipse cx=\"186.9408\" cy=\"197.6797\" fill=\"#A80036\" rx=\"2\" ry=\"2\" style=\"stroke: #A80036; stroke-width: 1.0;\"/><!--MD5=[feeac5eb423634930294aa81f2d25a4c]\n",
       "link E10 to E3--><path d=\"M228.16,124.59 C239.77,133.52 254.5,144.61 268,154 C288.49,168.25 311.59,183.24 331.62,195.91 \" fill=\"none\" id=\"E10-&gt;E3\" style=\"stroke: #A80036; stroke-width: 1.0;\"/><polygon fill=\"#FFFFFF\" points=\"348.64,206.57,328.825,202.403,336.2647,190.5434,348.64,206.57\" style=\"stroke: #A80036; stroke-width: 1.0;\"/><ellipse cx=\"325.0592\" cy=\"197.6797\" fill=\"#A80036\" rx=\"2\" ry=\"2\" style=\"stroke: #A80036; stroke-width: 1.0;\"/><ellipse cx=\"330.3733\" cy=\"189.2086\" fill=\"#A80036\" rx=\"2\" ry=\"2\" style=\"stroke: #A80036; stroke-width: 1.0;\"/><!--MD5=[07b77f6f309248d16187045709d1c26e]\n",
       "link E11 to E5--><path d=\"M130,130.1 C130,145.37 130,166.16 130,184.57 \" fill=\"none\" id=\"E11-&gt;E5\" style=\"stroke: #A80036; stroke-width: 1.0;\"/><polygon fill=\"#FFFFFF\" points=\"130,204.61,123,185.61,137,185.61,130,204.61\" style=\"stroke: #A80036; stroke-width: 1.0;\"/><ellipse cx=\"125\" cy=\"179.91\" fill=\"#A80036\" rx=\"2\" ry=\"2\" style=\"stroke: #A80036; stroke-width: 1.0;\"/><ellipse cx=\"135\" cy=\"179.91\" fill=\"#A80036\" rx=\"2\" ry=\"2\" style=\"stroke: #A80036; stroke-width: 1.0;\"/><!--MD5=[39f41a0e550fb3d73b4d8135617e30a2]\n",
       "link E12 to E3--><path d=\"M444.7,130.1 C434.28,146.2 419.89,168.44 407.53,187.55 \" fill=\"none\" id=\"E12-&gt;E3\" style=\"stroke: #A80036; stroke-width: 1.0;\"/><polygon fill=\"#FFFFFF\" points=\"396.49,204.61,400.9313,184.8546,412.6866,192.4581,396.49,204.61\" style=\"stroke: #A80036; stroke-width: 1.0;\"/><ellipse cx=\"405.7063\" cy=\"181.1547\" fill=\"#A80036\" rx=\"2\" ry=\"2\" style=\"stroke: #A80036; stroke-width: 1.0;\"/><ellipse cx=\"414.103\" cy=\"186.5858\" fill=\"#A80036\" rx=\"2\" ry=\"2\" style=\"stroke: #A80036; stroke-width: 1.0;\"/><!--MD5=[066b2d8af59fea80ccdb3d54ad5c1091]\n",
       "link E13 to E5--><path d=\"M67.3,130.1 C77.72,146.2 92.11,168.44 104.47,187.55 \" fill=\"none\" id=\"E13-&gt;E5\" style=\"stroke: #A80036; stroke-width: 1.0;\"/><polygon fill=\"#FFFFFF\" points=\"115.51,204.61,99.3134,192.4581,111.0687,184.8546,115.51,204.61\" style=\"stroke: #A80036; stroke-width: 1.0;\"/><ellipse cx=\"97.897\" cy=\"186.5858\" fill=\"#A80036\" rx=\"2\" ry=\"2\" style=\"stroke: #A80036; stroke-width: 1.0;\"/><ellipse cx=\"106.2937\" cy=\"181.1547\" fill=\"#A80036\" rx=\"2\" ry=\"2\" style=\"stroke: #A80036; stroke-width: 1.0;\"/><!--MD5=[7fe19a738dae7c8e059b2498f6265c29]\n",
       "@startuml\r\n",
       "skinparam wrapWidth 300\r\n",
       "hide circle\r\n",
       "\r\n",
       "package \"CircularImport\" as E1   {\r\n",
       "package \"P1\" as E2   {\r\n",
       "comp def \"A\" as E3  <<(T,blue)part def>> {\r\n",
       "}\r\n",
       "}\r\n",
       "package \"P2\" as E4   {\r\n",
       "comp def \"B\" as E5  <<(T,blue)part def>> {\r\n",
       "}\r\n",
       "}\r\n",
       "package \"Test1\" as E6   {\r\n",
       "comp usage \"x: A\" as E7  <<(T,blue)part>> {\r\n",
       "}\r\n",
       "comp usage \"y: B\" as E8  <<(T,blue)part>> {\r\n",
       "}\r\n",
       "E7 - -:|> E3\r\n",
       "E8 - -:|> E5\r\n",
       "}\r\n",
       "package \"Test2\" as E9   {\r\n",
       "comp usage \"x: A\" as E10  <<(T,blue)part>> {\r\n",
       "}\r\n",
       "comp usage \"y: B\" as E11  <<(T,blue)part>> {\r\n",
       "}\r\n",
       "E10 - -:|> E3\r\n",
       "E11 - -:|> E5\r\n",
       "}\r\n",
       "comp usage \"x: A\" as E12  <<(T,blue)part>> {\r\n",
       "}\r\n",
       "comp usage \"y: B\" as E13  <<(T,blue)part>> {\r\n",
       "}\r\n",
       "E12 - -:|> E3\r\n",
       "E13 - -:|> E5\r\n",
       "}\r\n",
       "@enduml\r\n",
       "\n",
       "PlantUML version 1.2020.13(Sat Jun 13 12:26:38 UTC 2020)\n",
       "(EPL source distribution)\n",
       "Java Runtime: OpenJDK Runtime Environment\n",
       "JVM: OpenJDK 64-Bit Server VM\n",
       "Default Encoding: UTF-8\n",
       "Language: en\n",
       "Country: null\n",
       "--></g></svg>"
      ]
     },
     "execution_count": 29,
     "metadata": {},
     "output_type": "execute_result"
    }
   ],
   "source": [
    "%viz --style=\"STDCOLOR\" --view=\"MIXED\" \"CircularImport\""
   ]
  },
  {
   "cell_type": "code",
   "execution_count": 30,
   "id": "extensive-malta",
   "metadata": {
    "execution": {
     "iopub.execute_input": "2021-03-26T09:40:18.065055Z",
     "iopub.status.busy": "2021-03-26T09:40:18.064405Z",
     "iopub.status.idle": "2021-03-26T09:40:18.128714Z",
     "shell.execute_reply": "2021-03-26T09:40:18.128115Z"
    }
   },
   "outputs": [
    {
     "data": {
      "image/svg+xml": [
       "<?xml version=\"1.0\" encoding=\"UTF-8\" standalone=\"no\"?><svg xmlns=\"http://www.w3.org/2000/svg\" xmlns:xlink=\"http://www.w3.org/1999/xlink\" contentScriptType=\"application/ecmascript\" contentStyleType=\"text/css\" height=\"297px\" preserveAspectRatio=\"none\" style=\"width:674px;height:297px;\" version=\"1.1\" viewBox=\"0 0 674 297\" width=\"674px\" zoomAndPan=\"magnify\"><defs><filter height=\"300%\" id=\"f108cuno25t7bz\" width=\"300%\" x=\"-1\" y=\"-1\"><feGaussianBlur result=\"blurOut\" stdDeviation=\"2.0\"/><feColorMatrix in=\"blurOut\" result=\"blurOut2\" type=\"matrix\" values=\"0 0 0 0 0 0 0 0 0 0 0 0 0 0 0 0 0 0 .4 0\"/><feOffset dx=\"4.0\" dy=\"4.0\" in=\"blurOut2\" result=\"blurOut3\"/><feBlend in=\"SourceGraphic\" in2=\"blurOut3\" mode=\"normal\"/></filter></defs><g><!--MD5=[fbc87193dbaf4d95561dea2c320d4a47]\n",
       "cluster E1--><polygon fill=\"#FFFFFF\" filter=\"url(#f108cuno25t7bz)\" points=\"16,6,134,6,141,28.2969,652,28.2969,652,285,16,285,16,6\" style=\"stroke: #000000; stroke-width: 1.5;\"/><line style=\"stroke: #000000; stroke-width: 1.5;\" x1=\"16\" x2=\"141\" y1=\"28.2969\" y2=\"28.2969\"/><text fill=\"#000000\" font-family=\"sans-serif\" font-size=\"14\" font-weight=\"bold\" lengthAdjust=\"spacingAndGlyphs\" textLength=\"112\" x=\"20\" y=\"20.9951\">CircularImport</text><!--MD5=[e4f7fae6ed58524ba242bb0b0d3be6b7]\n",
       "cluster E2--><polygon fill=\"#FFFFFF\" filter=\"url(#f108cuno25t7bz)\" points=\"463,170,489,170,496,192.2969,535,192.2969,535,261,463,261,463,170\" style=\"stroke: #000000; stroke-width: 1.5;\"/><line style=\"stroke: #000000; stroke-width: 1.5;\" x1=\"463\" x2=\"496\" y1=\"192.2969\" y2=\"192.2969\"/><text fill=\"#000000\" font-family=\"sans-serif\" font-size=\"14\" font-weight=\"bold\" lengthAdjust=\"spacingAndGlyphs\" textLength=\"20\" x=\"467\" y=\"184.9951\">P1</text><!--MD5=[f6df4d0ebaf0b5dfb2ced0ae5af7c670]\n",
       "cluster E4--><polygon fill=\"#FFFFFF\" filter=\"url(#f108cuno25t7bz)\" points=\"133,170,159,170,166,192.2969,205,192.2969,205,261,133,261,133,170\" style=\"stroke: #000000; stroke-width: 1.5;\"/><line style=\"stroke: #000000; stroke-width: 1.5;\" x1=\"133\" x2=\"166\" y1=\"192.2969\" y2=\"192.2969\"/><text fill=\"#000000\" font-family=\"sans-serif\" font-size=\"14\" font-weight=\"bold\" lengthAdjust=\"spacingAndGlyphs\" textLength=\"20\" x=\"137\" y=\"184.9951\">P2</text><!--MD5=[14e3b0961a2654348d326746436168a1]\n",
       "cluster E6--><polygon fill=\"#FFFFFF\" filter=\"url(#f108cuno25t7bz)\" points=\"346,49,397,49,404,71.2969,549,71.2969,549,146,346,146,346,49\" style=\"stroke: #000000; stroke-width: 1.5;\"/><line style=\"stroke: #000000; stroke-width: 1.5;\" x1=\"346\" x2=\"404\" y1=\"71.2969\" y2=\"71.2969\"/><text fill=\"#000000\" font-family=\"sans-serif\" font-size=\"14\" font-weight=\"bold\" lengthAdjust=\"spacingAndGlyphs\" textLength=\"45\" x=\"350\" y=\"63.9951\">Test1</text><!--MD5=[7f149f147074ac12df2cb0a7728a5fb0]\n",
       "cluster E9--><polygon fill=\"#FFFFFF\" filter=\"url(#f108cuno25t7bz)\" points=\"119,49,170,49,177,71.2969,322,71.2969,322,146,119,146,119,49\" style=\"stroke: #000000; stroke-width: 1.5;\"/><line style=\"stroke: #000000; stroke-width: 1.5;\" x1=\"119\" x2=\"177\" y1=\"71.2969\" y2=\"71.2969\"/><text fill=\"#000000\" font-family=\"sans-serif\" font-size=\"14\" font-weight=\"bold\" lengthAdjust=\"spacingAndGlyphs\" textLength=\"45\" x=\"123\" y=\"63.9951\">Test2</text><!--MD5=[49a0ec8f00dab7302a31f22d0f0fe584]\n",
       "class E12--><rect fill=\"#FEFECE\" filter=\"url(#f108cuno25t7bz)\" height=\"45.9375\" id=\"E12\" rx=\"10\" ry=\"10\" style=\"stroke: #A80036; stroke-width: 1.5;\" width=\"68\" x=\"568\" y=\"84\"/><ellipse cx=\"583\" cy=\"102.9688\" fill=\"#32CD32\" rx=\"11\" ry=\"11\" style=\"stroke: #A80036; stroke-width: 1.0;\"/><path d=\"M582.7969,98.6406 L582.7969,102.2656 L583.7969,102.2656 Q585,102.2656 585.4844,101.8594 Q585.9688,101.4531 585.9688,100.4531 Q585.9688,99.4531 585.4844,99.0469 Q585,98.6406 583.7969,98.6406 L582.7969,98.6406 Z M580.3438,96.5781 L583.7031,96.5781 Q586.2656,96.5781 587.3906,97.5 Q588.5156,98.4063 588.5156,100.4531 Q588.5156,102.5 587.3906,103.4219 Q586.2656,104.3281 583.7031,104.3281 L582.7969,104.3281 L582.7969,108.9688 L580.3438,108.9688 L580.3438,96.5781 Z \"/><text fill=\"#000000\" font-family=\"sans-serif\" font-size=\"12\" font-style=\"italic\" lengthAdjust=\"spacingAndGlyphs\" textLength=\"40\" x=\"595\" y=\"100.1387\">«part»</text><text fill=\"#000000\" font-family=\"sans-serif\" font-size=\"12\" lengthAdjust=\"spacingAndGlyphs\" textLength=\"22\" x=\"604\" y=\"114.1074\">x: A</text><line style=\"stroke: #A80036; stroke-width: 1.5;\" x1=\"569\" x2=\"635\" y1=\"121.9375\" y2=\"121.9375\"/><!--MD5=[ee3c913d1a06f366521f9ef512b67efe]\n",
       "class E13--><rect fill=\"#FEFECE\" filter=\"url(#f108cuno25t7bz)\" height=\"45.9375\" id=\"E13\" rx=\"10\" ry=\"10\" style=\"stroke: #A80036; stroke-width: 1.5;\" width=\"68\" x=\"32\" y=\"84\"/><ellipse cx=\"47\" cy=\"102.9688\" fill=\"#32CD32\" rx=\"11\" ry=\"11\" style=\"stroke: #A80036; stroke-width: 1.0;\"/><path d=\"M46.7969,98.6406 L46.7969,102.2656 L47.7969,102.2656 Q49,102.2656 49.4844,101.8594 Q49.9688,101.4531 49.9688,100.4531 Q49.9688,99.4531 49.4844,99.0469 Q49,98.6406 47.7969,98.6406 L46.7969,98.6406 Z M44.3438,96.5781 L47.7031,96.5781 Q50.2656,96.5781 51.3906,97.5 Q52.5156,98.4063 52.5156,100.4531 Q52.5156,102.5 51.3906,103.4219 Q50.2656,104.3281 47.7031,104.3281 L46.7969,104.3281 L46.7969,108.9688 L44.3438,108.9688 L44.3438,96.5781 Z \"/><text fill=\"#000000\" font-family=\"sans-serif\" font-size=\"12\" font-style=\"italic\" lengthAdjust=\"spacingAndGlyphs\" textLength=\"40\" x=\"59\" y=\"100.1387\">«part»</text><text fill=\"#000000\" font-family=\"sans-serif\" font-size=\"12\" lengthAdjust=\"spacingAndGlyphs\" textLength=\"22\" x=\"68\" y=\"114.1074\">y: B</text><line style=\"stroke: #A80036; stroke-width: 1.5;\" x1=\"33\" x2=\"99\" y1=\"121.9375\" y2=\"121.9375\"/><!--MD5=[09b614a08d8cba4a07c9adeb5e0fee81]\n",
       "class E3--><rect fill=\"#FEFECE\" filter=\"url(#f108cuno25t7bz)\" height=\"40\" id=\"E3\" style=\"stroke: #A80036; stroke-width: 1.5;\" width=\"40\" x=\"479\" y=\"205\"/><ellipse cx=\"494\" cy=\"221\" fill=\"#008000\" rx=\"11\" ry=\"11\" style=\"stroke: #A80036; stroke-width: 1.0;\"/><path d=\"M492.9063,221.375 L492.9063,225.0469 L494.5313,225.0469 Q495.7031,225.0469 496.1719,224.6563 Q496.6406,224.25 496.6406,223.25 Q496.6406,222.25 496.1406,221.8125 Q495.6563,221.375 494.5313,221.375 L492.9063,221.375 Z M492.9063,216.5469 L492.9063,219.4219 L494.5313,219.4219 Q495.4531,219.4219 495.8438,219.0938 Q496.25,218.75 496.25,218 Q496.25,217.2344 495.8438,216.8906 Q495.4375,216.5469 494.5313,216.5469 L492.9063,216.5469 Z M490.5313,214.5938 L494.5313,214.5938 Q496.5938,214.5938 497.6406,215.375 Q498.6875,216.1563 498.6875,217.7188 Q498.6875,218.9219 498.0625,219.5938 Q497.4531,220.2656 496.2656,220.375 Q497.6875,220.5156 498.4063,221.3281 Q499.125,222.1406 499.125,223.5938 Q499.125,225.3906 498.0469,226.2031 Q496.9688,227 494.5313,227 L490.5313,227 L490.5313,214.5938 Z \"/><text fill=\"#000000\" font-family=\"sans-serif\" font-size=\"12\" lengthAdjust=\"spacingAndGlyphs\" textLength=\"8\" x=\"508\" y=\"225.1543\">A</text><line style=\"stroke: #A80036; stroke-width: 1.5;\" x1=\"480\" x2=\"518\" y1=\"237\" y2=\"237\"/><!--MD5=[270fce915f116d4de14055a7c1d9a0f3]\n",
       "class E5--><rect fill=\"#FEFECE\" filter=\"url(#f108cuno25t7bz)\" height=\"40\" id=\"E5\" style=\"stroke: #A80036; stroke-width: 1.5;\" width=\"40\" x=\"149\" y=\"205\"/><ellipse cx=\"164\" cy=\"221\" fill=\"#008000\" rx=\"11\" ry=\"11\" style=\"stroke: #A80036; stroke-width: 1.0;\"/><path d=\"M162.9063,221.375 L162.9063,225.0469 L164.5313,225.0469 Q165.7031,225.0469 166.1719,224.6563 Q166.6406,224.25 166.6406,223.25 Q166.6406,222.25 166.1406,221.8125 Q165.6563,221.375 164.5313,221.375 L162.9063,221.375 Z M162.9063,216.5469 L162.9063,219.4219 L164.5313,219.4219 Q165.4531,219.4219 165.8438,219.0938 Q166.25,218.75 166.25,218 Q166.25,217.2344 165.8438,216.8906 Q165.4375,216.5469 164.5313,216.5469 L162.9063,216.5469 Z M160.5313,214.5938 L164.5313,214.5938 Q166.5938,214.5938 167.6406,215.375 Q168.6875,216.1563 168.6875,217.7188 Q168.6875,218.9219 168.0625,219.5938 Q167.4531,220.2656 166.2656,220.375 Q167.6875,220.5156 168.4063,221.3281 Q169.125,222.1406 169.125,223.5938 Q169.125,225.3906 168.0469,226.2031 Q166.9688,227 164.5313,227 L160.5313,227 L160.5313,214.5938 Z \"/><text fill=\"#000000\" font-family=\"sans-serif\" font-size=\"12\" lengthAdjust=\"spacingAndGlyphs\" textLength=\"8\" x=\"178\" y=\"225.1543\">B</text><line style=\"stroke: #A80036; stroke-width: 1.5;\" x1=\"150\" x2=\"188\" y1=\"237\" y2=\"237\"/><!--MD5=[2156ba9850f5573cc1fc38a6a4b2f02b]\n",
       "class E7--><rect fill=\"#FEFECE\" filter=\"url(#f108cuno25t7bz)\" height=\"45.9375\" id=\"E7\" rx=\"10\" ry=\"10\" style=\"stroke: #A80036; stroke-width: 1.5;\" width=\"68\" x=\"465\" y=\"84\"/><ellipse cx=\"480\" cy=\"102.9688\" fill=\"#32CD32\" rx=\"11\" ry=\"11\" style=\"stroke: #A80036; stroke-width: 1.0;\"/><path d=\"M479.7969,98.6406 L479.7969,102.2656 L480.7969,102.2656 Q482,102.2656 482.4844,101.8594 Q482.9688,101.4531 482.9688,100.4531 Q482.9688,99.4531 482.4844,99.0469 Q482,98.6406 480.7969,98.6406 L479.7969,98.6406 Z M477.3438,96.5781 L480.7031,96.5781 Q483.2656,96.5781 484.3906,97.5 Q485.5156,98.4063 485.5156,100.4531 Q485.5156,102.5 484.3906,103.4219 Q483.2656,104.3281 480.7031,104.3281 L479.7969,104.3281 L479.7969,108.9688 L477.3438,108.9688 L477.3438,96.5781 Z \"/><text fill=\"#000000\" font-family=\"sans-serif\" font-size=\"12\" font-style=\"italic\" lengthAdjust=\"spacingAndGlyphs\" textLength=\"40\" x=\"492\" y=\"100.1387\">«part»</text><text fill=\"#000000\" font-family=\"sans-serif\" font-size=\"12\" lengthAdjust=\"spacingAndGlyphs\" textLength=\"22\" x=\"501\" y=\"114.1074\">x: A</text><line style=\"stroke: #A80036; stroke-width: 1.5;\" x1=\"466\" x2=\"532\" y1=\"121.9375\" y2=\"121.9375\"/><!--MD5=[b9389687b975829384b498ac4b7476b2]\n",
       "class E8--><rect fill=\"#FEFECE\" filter=\"url(#f108cuno25t7bz)\" height=\"45.9375\" id=\"E8\" rx=\"10\" ry=\"10\" style=\"stroke: #A80036; stroke-width: 1.5;\" width=\"68\" x=\"362\" y=\"84\"/><ellipse cx=\"377\" cy=\"102.9688\" fill=\"#32CD32\" rx=\"11\" ry=\"11\" style=\"stroke: #A80036; stroke-width: 1.0;\"/><path d=\"M376.7969,98.6406 L376.7969,102.2656 L377.7969,102.2656 Q379,102.2656 379.4844,101.8594 Q379.9688,101.4531 379.9688,100.4531 Q379.9688,99.4531 379.4844,99.0469 Q379,98.6406 377.7969,98.6406 L376.7969,98.6406 Z M374.3438,96.5781 L377.7031,96.5781 Q380.2656,96.5781 381.3906,97.5 Q382.5156,98.4063 382.5156,100.4531 Q382.5156,102.5 381.3906,103.4219 Q380.2656,104.3281 377.7031,104.3281 L376.7969,104.3281 L376.7969,108.9688 L374.3438,108.9688 L374.3438,96.5781 Z \"/><text fill=\"#000000\" font-family=\"sans-serif\" font-size=\"12\" font-style=\"italic\" lengthAdjust=\"spacingAndGlyphs\" textLength=\"40\" x=\"389\" y=\"100.1387\">«part»</text><text fill=\"#000000\" font-family=\"sans-serif\" font-size=\"12\" lengthAdjust=\"spacingAndGlyphs\" textLength=\"22\" x=\"398\" y=\"114.1074\">y: B</text><line style=\"stroke: #A80036; stroke-width: 1.5;\" x1=\"363\" x2=\"429\" y1=\"121.9375\" y2=\"121.9375\"/><!--MD5=[96f4274e9e20536e775497830990834d]\n",
       "class E10--><rect fill=\"#FEFECE\" filter=\"url(#f108cuno25t7bz)\" height=\"45.9375\" id=\"E10\" rx=\"10\" ry=\"10\" style=\"stroke: #A80036; stroke-width: 1.5;\" width=\"68\" x=\"238\" y=\"84\"/><ellipse cx=\"253\" cy=\"102.9688\" fill=\"#32CD32\" rx=\"11\" ry=\"11\" style=\"stroke: #A80036; stroke-width: 1.0;\"/><path d=\"M252.7969,98.6406 L252.7969,102.2656 L253.7969,102.2656 Q255,102.2656 255.4844,101.8594 Q255.9688,101.4531 255.9688,100.4531 Q255.9688,99.4531 255.4844,99.0469 Q255,98.6406 253.7969,98.6406 L252.7969,98.6406 Z M250.3438,96.5781 L253.7031,96.5781 Q256.2656,96.5781 257.3906,97.5 Q258.5156,98.4063 258.5156,100.4531 Q258.5156,102.5 257.3906,103.4219 Q256.2656,104.3281 253.7031,104.3281 L252.7969,104.3281 L252.7969,108.9688 L250.3438,108.9688 L250.3438,96.5781 Z \"/><text fill=\"#000000\" font-family=\"sans-serif\" font-size=\"12\" font-style=\"italic\" lengthAdjust=\"spacingAndGlyphs\" textLength=\"40\" x=\"265\" y=\"100.1387\">«part»</text><text fill=\"#000000\" font-family=\"sans-serif\" font-size=\"12\" lengthAdjust=\"spacingAndGlyphs\" textLength=\"22\" x=\"274\" y=\"114.1074\">x: A</text><line style=\"stroke: #A80036; stroke-width: 1.5;\" x1=\"239\" x2=\"305\" y1=\"121.9375\" y2=\"121.9375\"/><!--MD5=[1dd1bfd58a279cf63c5f349dbc8fc6a1]\n",
       "class E11--><rect fill=\"#FEFECE\" filter=\"url(#f108cuno25t7bz)\" height=\"45.9375\" id=\"E11\" rx=\"10\" ry=\"10\" style=\"stroke: #A80036; stroke-width: 1.5;\" width=\"68\" x=\"135\" y=\"84\"/><ellipse cx=\"150\" cy=\"102.9688\" fill=\"#32CD32\" rx=\"11\" ry=\"11\" style=\"stroke: #A80036; stroke-width: 1.0;\"/><path d=\"M149.7969,98.6406 L149.7969,102.2656 L150.7969,102.2656 Q152,102.2656 152.4844,101.8594 Q152.9688,101.4531 152.9688,100.4531 Q152.9688,99.4531 152.4844,99.0469 Q152,98.6406 150.7969,98.6406 L149.7969,98.6406 Z M147.3438,96.5781 L150.7031,96.5781 Q153.2656,96.5781 154.3906,97.5 Q155.5156,98.4063 155.5156,100.4531 Q155.5156,102.5 154.3906,103.4219 Q153.2656,104.3281 150.7031,104.3281 L149.7969,104.3281 L149.7969,108.9688 L147.3438,108.9688 L147.3438,96.5781 Z \"/><text fill=\"#000000\" font-family=\"sans-serif\" font-size=\"12\" font-style=\"italic\" lengthAdjust=\"spacingAndGlyphs\" textLength=\"40\" x=\"162\" y=\"100.1387\">«part»</text><text fill=\"#000000\" font-family=\"sans-serif\" font-size=\"12\" lengthAdjust=\"spacingAndGlyphs\" textLength=\"22\" x=\"171\" y=\"114.1074\">y: B</text><line style=\"stroke: #A80036; stroke-width: 1.5;\" x1=\"136\" x2=\"202\" y1=\"121.9375\" y2=\"121.9375\"/><!--MD5=[14ccda38c055a5c0da953d572bc50960]\n",
       "link E7 to E3--><path d=\"M499,130.09 C499,145.42 499,166.27 499,184.42 \" fill=\"none\" id=\"E7-&gt;E3\" style=\"stroke: #A80036; stroke-width: 1.0;\"/><polygon fill=\"#FFFFFF\" points=\"499,204.69,492,185.69,506,185.69,499,204.69\" style=\"stroke: #A80036; stroke-width: 1.0;\"/><ellipse cx=\"494\" cy=\"179.99\" fill=\"#A80036\" rx=\"2\" ry=\"2\" style=\"stroke: #A80036; stroke-width: 1.0;\"/><ellipse cx=\"504\" cy=\"179.99\" fill=\"#A80036\" rx=\"2\" ry=\"2\" style=\"stroke: #A80036; stroke-width: 1.0;\"/><!--MD5=[1ccb2481ffa92f8d51a74ee30c51832a]\n",
       "link E8 to E5--><path d=\"M362.27,130.22 C349.82,138.09 335.46,146.77 322,154 C284.18,174.3 239.36,194.36 208.05,207.77 \" fill=\"none\" id=\"E8-&gt;E5\" style=\"stroke: #A80036; stroke-width: 1.0;\"/><polygon fill=\"#FFFFFF\" points=\"189.2,215.73,203.9741,201.8834,209.4261,214.7782,189.2,215.73\" style=\"stroke: #A80036; stroke-width: 1.0;\"/><ellipse cx=\"210.0029\" cy=\"201.5058\" fill=\"#A80036\" rx=\"2\" ry=\"2\" style=\"stroke: #A80036; stroke-width: 1.0;\"/><ellipse cx=\"213.8972\" cy=\"210.7164\" fill=\"#A80036\" rx=\"2\" ry=\"2\" style=\"stroke: #A80036; stroke-width: 1.0;\"/><!--MD5=[feeac5eb423634930294aa81f2d25a4c]\n",
       "link E10 to E3--><path d=\"M305.73,130.22 C318.18,138.09 332.54,146.77 346,154 C383.82,174.3 428.64,194.36 459.95,207.77 \" fill=\"none\" id=\"E10-&gt;E3\" style=\"stroke: #A80036; stroke-width: 1.0;\"/><polygon fill=\"#FFFFFF\" points=\"478.8,215.73,458.5739,214.7782,464.0259,201.8834,478.8,215.73\" style=\"stroke: #A80036; stroke-width: 1.0;\"/><ellipse cx=\"454.1028\" cy=\"210.7164\" fill=\"#A80036\" rx=\"2\" ry=\"2\" style=\"stroke: #A80036; stroke-width: 1.0;\"/><ellipse cx=\"457.9971\" cy=\"201.5058\" fill=\"#A80036\" rx=\"2\" ry=\"2\" style=\"stroke: #A80036; stroke-width: 1.0;\"/><!--MD5=[07b77f6f309248d16187045709d1c26e]\n",
       "link E11 to E5--><path d=\"M169,130.09 C169,145.42 169,166.27 169,184.42 \" fill=\"none\" id=\"E11-&gt;E5\" style=\"stroke: #A80036; stroke-width: 1.0;\"/><polygon fill=\"#FFFFFF\" points=\"169,204.69,162,185.69,176,185.69,169,204.69\" style=\"stroke: #A80036; stroke-width: 1.0;\"/><ellipse cx=\"164\" cy=\"179.99\" fill=\"#A80036\" rx=\"2\" ry=\"2\" style=\"stroke: #A80036; stroke-width: 1.0;\"/><ellipse cx=\"174\" cy=\"179.99\" fill=\"#A80036\" rx=\"2\" ry=\"2\" style=\"stroke: #A80036; stroke-width: 1.0;\"/><!--MD5=[39f41a0e550fb3d73b4d8135617e30a2]\n",
       "link E12 to E3--><path d=\"M582.38,130.09 C567.43,146.94 546.56,170.44 529.44,189.72 \" fill=\"none\" id=\"E12-&gt;E3\" style=\"stroke: #A80036; stroke-width: 1.0;\"/><polygon fill=\"#FFFFFF\" points=\"516.15,204.69,523.5343,185.836,534.0014,195.1334,516.15,204.69\" style=\"stroke: #A80036; stroke-width: 1.0;\"/><ellipse cx=\"528.815\" cy=\"182.9027\" fill=\"#A80036\" rx=\"2\" ry=\"2\" style=\"stroke: #A80036; stroke-width: 1.0;\"/><ellipse cx=\"536.2914\" cy=\"189.5436\" fill=\"#A80036\" rx=\"2\" ry=\"2\" style=\"stroke: #A80036; stroke-width: 1.0;\"/><!--MD5=[066b2d8af59fea80ccdb3d54ad5c1091]\n",
       "link E13 to E5--><path d=\"M85.62,130.09 C100.57,146.94 121.44,170.44 138.56,189.72 \" fill=\"none\" id=\"E13-&gt;E5\" style=\"stroke: #A80036; stroke-width: 1.0;\"/><polygon fill=\"#FFFFFF\" points=\"151.85,204.69,133.9986,195.1334,144.4657,185.836,151.85,204.69\" style=\"stroke: #A80036; stroke-width: 1.0;\"/><ellipse cx=\"131.7086\" cy=\"189.5436\" fill=\"#A80036\" rx=\"2\" ry=\"2\" style=\"stroke: #A80036; stroke-width: 1.0;\"/><ellipse cx=\"139.185\" cy=\"182.9027\" fill=\"#A80036\" rx=\"2\" ry=\"2\" style=\"stroke: #A80036; stroke-width: 1.0;\"/><!--MD5=[d3cd1f005b0ffd1108378db6e51a5ec7]\n",
       "@startuml\r\n",
       " \r\n",
       "package \"CircularImport\" as E1   {\r\n",
       "package \"P1\" as E2   {\r\n",
       "comp def \"A\" as E3  << (B,green) >> {\r\n",
       "}\r\n",
       "}\r\n",
       "package \"P2\" as E4   {\r\n",
       "comp def \"B\" as E5  << (B,green) >> {\r\n",
       "}\r\n",
       "}\r\n",
       "package \"Test1\" as E6   {\r\n",
       "comp usage \"x: A\" as E7  << (P,limegreen) part>> {\r\n",
       "}\r\n",
       "comp usage \"y: B\" as E8  << (P,limegreen) part>> {\r\n",
       "}\r\n",
       "E7 - -:|> E3\r\n",
       "E8 - -:|> E5\r\n",
       "}\r\n",
       "package \"Test2\" as E9   {\r\n",
       "comp usage \"x: A\" as E10  << (P,limegreen) part>> {\r\n",
       "}\r\n",
       "comp usage \"y: B\" as E11  << (P,limegreen) part>> {\r\n",
       "}\r\n",
       "E10 - -:|> E3\r\n",
       "E11 - -:|> E5\r\n",
       "}\r\n",
       "comp usage \"x: A\" as E12  << (P,limegreen) part>> {\r\n",
       "}\r\n",
       "comp usage \"y: B\" as E13  << (P,limegreen) part>> {\r\n",
       "}\r\n",
       "E12 - -:|> E3\r\n",
       "E13 - -:|> E5\r\n",
       "}\r\n",
       "@enduml\r\n",
       "\n",
       "PlantUML version 1.2020.13(Sat Jun 13 12:26:38 UTC 2020)\n",
       "(EPL source distribution)\n",
       "Java Runtime: OpenJDK Runtime Environment\n",
       "JVM: OpenJDK 64-Bit Server VM\n",
       "Default Encoding: UTF-8\n",
       "Language: en\n",
       "Country: null\n",
       "--></g></svg>"
      ]
     },
     "execution_count": 30,
     "metadata": {},
     "output_type": "execute_result"
    }
   ],
   "source": [
    "%viz --style=\"PLANTUML\" --view=\"Default\" \"CircularImport\""
   ]
  },
  {
   "cell_type": "code",
   "execution_count": 31,
   "id": "progressive-lease",
   "metadata": {
    "execution": {
     "iopub.execute_input": "2021-03-26T09:40:18.183450Z",
     "iopub.status.busy": "2021-03-26T09:40:18.182967Z",
     "iopub.status.idle": "2021-03-26T09:40:18.226789Z",
     "shell.execute_reply": "2021-03-26T09:40:18.225432Z"
    }
   },
   "outputs": [
    {
     "data": {
      "image/svg+xml": [
       "<?xml version=\"1.0\" encoding=\"UTF-8\" standalone=\"no\"?><svg xmlns=\"http://www.w3.org/2000/svg\" xmlns:xlink=\"http://www.w3.org/1999/xlink\" contentScriptType=\"application/ecmascript\" contentStyleType=\"text/css\" height=\"297px\" preserveAspectRatio=\"none\" style=\"width:674px;height:297px;\" version=\"1.1\" viewBox=\"0 0 674 297\" width=\"674px\" zoomAndPan=\"magnify\"><defs><filter height=\"300%\" id=\"f108cuno25t7bz\" width=\"300%\" x=\"-1\" y=\"-1\"><feGaussianBlur result=\"blurOut\" stdDeviation=\"2.0\"/><feColorMatrix in=\"blurOut\" result=\"blurOut2\" type=\"matrix\" values=\"0 0 0 0 0 0 0 0 0 0 0 0 0 0 0 0 0 0 .4 0\"/><feOffset dx=\"4.0\" dy=\"4.0\" in=\"blurOut2\" result=\"blurOut3\"/><feBlend in=\"SourceGraphic\" in2=\"blurOut3\" mode=\"normal\"/></filter></defs><g><!--MD5=[fbc87193dbaf4d95561dea2c320d4a47]\n",
       "cluster E1--><polygon fill=\"#FFFFFF\" filter=\"url(#f108cuno25t7bz)\" points=\"16,6,134,6,141,28.2969,652,28.2969,652,285,16,285,16,6\" style=\"stroke: #000000; stroke-width: 1.5;\"/><line style=\"stroke: #000000; stroke-width: 1.5;\" x1=\"16\" x2=\"141\" y1=\"28.2969\" y2=\"28.2969\"/><text fill=\"#000000\" font-family=\"sans-serif\" font-size=\"14\" font-weight=\"bold\" lengthAdjust=\"spacingAndGlyphs\" textLength=\"112\" x=\"20\" y=\"20.9951\">CircularImport</text><!--MD5=[e4f7fae6ed58524ba242bb0b0d3be6b7]\n",
       "cluster E2--><polygon fill=\"#FFFFFF\" filter=\"url(#f108cuno25t7bz)\" points=\"463,170,489,170,496,192.2969,535,192.2969,535,261,463,261,463,170\" style=\"stroke: #000000; stroke-width: 1.5;\"/><line style=\"stroke: #000000; stroke-width: 1.5;\" x1=\"463\" x2=\"496\" y1=\"192.2969\" y2=\"192.2969\"/><text fill=\"#000000\" font-family=\"sans-serif\" font-size=\"14\" font-weight=\"bold\" lengthAdjust=\"spacingAndGlyphs\" textLength=\"20\" x=\"467\" y=\"184.9951\">P1</text><!--MD5=[f6df4d0ebaf0b5dfb2ced0ae5af7c670]\n",
       "cluster E4--><polygon fill=\"#FFFFFF\" filter=\"url(#f108cuno25t7bz)\" points=\"133,170,159,170,166,192.2969,205,192.2969,205,261,133,261,133,170\" style=\"stroke: #000000; stroke-width: 1.5;\"/><line style=\"stroke: #000000; stroke-width: 1.5;\" x1=\"133\" x2=\"166\" y1=\"192.2969\" y2=\"192.2969\"/><text fill=\"#000000\" font-family=\"sans-serif\" font-size=\"14\" font-weight=\"bold\" lengthAdjust=\"spacingAndGlyphs\" textLength=\"20\" x=\"137\" y=\"184.9951\">P2</text><!--MD5=[14e3b0961a2654348d326746436168a1]\n",
       "cluster E6--><polygon fill=\"#FFFFFF\" filter=\"url(#f108cuno25t7bz)\" points=\"346,49,397,49,404,71.2969,549,71.2969,549,146,346,146,346,49\" style=\"stroke: #000000; stroke-width: 1.5;\"/><line style=\"stroke: #000000; stroke-width: 1.5;\" x1=\"346\" x2=\"404\" y1=\"71.2969\" y2=\"71.2969\"/><text fill=\"#000000\" font-family=\"sans-serif\" font-size=\"14\" font-weight=\"bold\" lengthAdjust=\"spacingAndGlyphs\" textLength=\"45\" x=\"350\" y=\"63.9951\">Test1</text><!--MD5=[7f149f147074ac12df2cb0a7728a5fb0]\n",
       "cluster E9--><polygon fill=\"#FFFFFF\" filter=\"url(#f108cuno25t7bz)\" points=\"119,49,170,49,177,71.2969,322,71.2969,322,146,119,146,119,49\" style=\"stroke: #000000; stroke-width: 1.5;\"/><line style=\"stroke: #000000; stroke-width: 1.5;\" x1=\"119\" x2=\"177\" y1=\"71.2969\" y2=\"71.2969\"/><text fill=\"#000000\" font-family=\"sans-serif\" font-size=\"14\" font-weight=\"bold\" lengthAdjust=\"spacingAndGlyphs\" textLength=\"45\" x=\"123\" y=\"63.9951\">Test2</text><!--MD5=[49a0ec8f00dab7302a31f22d0f0fe584]\n",
       "class E12--><rect fill=\"#FEFECE\" filter=\"url(#f108cuno25t7bz)\" height=\"45.9375\" id=\"E12\" rx=\"10\" ry=\"10\" style=\"stroke: #A80036; stroke-width: 1.5;\" width=\"68\" x=\"568\" y=\"84\"/><ellipse cx=\"583\" cy=\"102.9688\" fill=\"#32CD32\" rx=\"11\" ry=\"11\" style=\"stroke: #A80036; stroke-width: 1.0;\"/><path d=\"M582.7969,98.6406 L582.7969,102.2656 L583.7969,102.2656 Q585,102.2656 585.4844,101.8594 Q585.9688,101.4531 585.9688,100.4531 Q585.9688,99.4531 585.4844,99.0469 Q585,98.6406 583.7969,98.6406 L582.7969,98.6406 Z M580.3438,96.5781 L583.7031,96.5781 Q586.2656,96.5781 587.3906,97.5 Q588.5156,98.4063 588.5156,100.4531 Q588.5156,102.5 587.3906,103.4219 Q586.2656,104.3281 583.7031,104.3281 L582.7969,104.3281 L582.7969,108.9688 L580.3438,108.9688 L580.3438,96.5781 Z \"/><text fill=\"#000000\" font-family=\"sans-serif\" font-size=\"12\" font-style=\"italic\" lengthAdjust=\"spacingAndGlyphs\" textLength=\"40\" x=\"595\" y=\"100.1387\">«part»</text><text fill=\"#000000\" font-family=\"sans-serif\" font-size=\"12\" lengthAdjust=\"spacingAndGlyphs\" textLength=\"22\" x=\"604\" y=\"114.1074\">x: A</text><line style=\"stroke: #A80036; stroke-width: 1.5;\" x1=\"569\" x2=\"635\" y1=\"121.9375\" y2=\"121.9375\"/><!--MD5=[ee3c913d1a06f366521f9ef512b67efe]\n",
       "class E13--><rect fill=\"#FEFECE\" filter=\"url(#f108cuno25t7bz)\" height=\"45.9375\" id=\"E13\" rx=\"10\" ry=\"10\" style=\"stroke: #A80036; stroke-width: 1.5;\" width=\"68\" x=\"32\" y=\"84\"/><ellipse cx=\"47\" cy=\"102.9688\" fill=\"#32CD32\" rx=\"11\" ry=\"11\" style=\"stroke: #A80036; stroke-width: 1.0;\"/><path d=\"M46.7969,98.6406 L46.7969,102.2656 L47.7969,102.2656 Q49,102.2656 49.4844,101.8594 Q49.9688,101.4531 49.9688,100.4531 Q49.9688,99.4531 49.4844,99.0469 Q49,98.6406 47.7969,98.6406 L46.7969,98.6406 Z M44.3438,96.5781 L47.7031,96.5781 Q50.2656,96.5781 51.3906,97.5 Q52.5156,98.4063 52.5156,100.4531 Q52.5156,102.5 51.3906,103.4219 Q50.2656,104.3281 47.7031,104.3281 L46.7969,104.3281 L46.7969,108.9688 L44.3438,108.9688 L44.3438,96.5781 Z \"/><text fill=\"#000000\" font-family=\"sans-serif\" font-size=\"12\" font-style=\"italic\" lengthAdjust=\"spacingAndGlyphs\" textLength=\"40\" x=\"59\" y=\"100.1387\">«part»</text><text fill=\"#000000\" font-family=\"sans-serif\" font-size=\"12\" lengthAdjust=\"spacingAndGlyphs\" textLength=\"22\" x=\"68\" y=\"114.1074\">y: B</text><line style=\"stroke: #A80036; stroke-width: 1.5;\" x1=\"33\" x2=\"99\" y1=\"121.9375\" y2=\"121.9375\"/><!--MD5=[09b614a08d8cba4a07c9adeb5e0fee81]\n",
       "class E3--><rect fill=\"#FEFECE\" filter=\"url(#f108cuno25t7bz)\" height=\"40\" id=\"E3\" style=\"stroke: #A80036; stroke-width: 1.5;\" width=\"40\" x=\"479\" y=\"205\"/><ellipse cx=\"494\" cy=\"221\" fill=\"#008000\" rx=\"11\" ry=\"11\" style=\"stroke: #A80036; stroke-width: 1.0;\"/><path d=\"M492.9063,221.375 L492.9063,225.0469 L494.5313,225.0469 Q495.7031,225.0469 496.1719,224.6563 Q496.6406,224.25 496.6406,223.25 Q496.6406,222.25 496.1406,221.8125 Q495.6563,221.375 494.5313,221.375 L492.9063,221.375 Z M492.9063,216.5469 L492.9063,219.4219 L494.5313,219.4219 Q495.4531,219.4219 495.8438,219.0938 Q496.25,218.75 496.25,218 Q496.25,217.2344 495.8438,216.8906 Q495.4375,216.5469 494.5313,216.5469 L492.9063,216.5469 Z M490.5313,214.5938 L494.5313,214.5938 Q496.5938,214.5938 497.6406,215.375 Q498.6875,216.1563 498.6875,217.7188 Q498.6875,218.9219 498.0625,219.5938 Q497.4531,220.2656 496.2656,220.375 Q497.6875,220.5156 498.4063,221.3281 Q499.125,222.1406 499.125,223.5938 Q499.125,225.3906 498.0469,226.2031 Q496.9688,227 494.5313,227 L490.5313,227 L490.5313,214.5938 Z \"/><text fill=\"#000000\" font-family=\"sans-serif\" font-size=\"12\" lengthAdjust=\"spacingAndGlyphs\" textLength=\"8\" x=\"508\" y=\"225.1543\">A</text><line style=\"stroke: #A80036; stroke-width: 1.5;\" x1=\"480\" x2=\"518\" y1=\"237\" y2=\"237\"/><!--MD5=[270fce915f116d4de14055a7c1d9a0f3]\n",
       "class E5--><rect fill=\"#FEFECE\" filter=\"url(#f108cuno25t7bz)\" height=\"40\" id=\"E5\" style=\"stroke: #A80036; stroke-width: 1.5;\" width=\"40\" x=\"149\" y=\"205\"/><ellipse cx=\"164\" cy=\"221\" fill=\"#008000\" rx=\"11\" ry=\"11\" style=\"stroke: #A80036; stroke-width: 1.0;\"/><path d=\"M162.9063,221.375 L162.9063,225.0469 L164.5313,225.0469 Q165.7031,225.0469 166.1719,224.6563 Q166.6406,224.25 166.6406,223.25 Q166.6406,222.25 166.1406,221.8125 Q165.6563,221.375 164.5313,221.375 L162.9063,221.375 Z M162.9063,216.5469 L162.9063,219.4219 L164.5313,219.4219 Q165.4531,219.4219 165.8438,219.0938 Q166.25,218.75 166.25,218 Q166.25,217.2344 165.8438,216.8906 Q165.4375,216.5469 164.5313,216.5469 L162.9063,216.5469 Z M160.5313,214.5938 L164.5313,214.5938 Q166.5938,214.5938 167.6406,215.375 Q168.6875,216.1563 168.6875,217.7188 Q168.6875,218.9219 168.0625,219.5938 Q167.4531,220.2656 166.2656,220.375 Q167.6875,220.5156 168.4063,221.3281 Q169.125,222.1406 169.125,223.5938 Q169.125,225.3906 168.0469,226.2031 Q166.9688,227 164.5313,227 L160.5313,227 L160.5313,214.5938 Z \"/><text fill=\"#000000\" font-family=\"sans-serif\" font-size=\"12\" lengthAdjust=\"spacingAndGlyphs\" textLength=\"8\" x=\"178\" y=\"225.1543\">B</text><line style=\"stroke: #A80036; stroke-width: 1.5;\" x1=\"150\" x2=\"188\" y1=\"237\" y2=\"237\"/><!--MD5=[2156ba9850f5573cc1fc38a6a4b2f02b]\n",
       "class E7--><rect fill=\"#FEFECE\" filter=\"url(#f108cuno25t7bz)\" height=\"45.9375\" id=\"E7\" rx=\"10\" ry=\"10\" style=\"stroke: #A80036; stroke-width: 1.5;\" width=\"68\" x=\"465\" y=\"84\"/><ellipse cx=\"480\" cy=\"102.9688\" fill=\"#32CD32\" rx=\"11\" ry=\"11\" style=\"stroke: #A80036; stroke-width: 1.0;\"/><path d=\"M479.7969,98.6406 L479.7969,102.2656 L480.7969,102.2656 Q482,102.2656 482.4844,101.8594 Q482.9688,101.4531 482.9688,100.4531 Q482.9688,99.4531 482.4844,99.0469 Q482,98.6406 480.7969,98.6406 L479.7969,98.6406 Z M477.3438,96.5781 L480.7031,96.5781 Q483.2656,96.5781 484.3906,97.5 Q485.5156,98.4063 485.5156,100.4531 Q485.5156,102.5 484.3906,103.4219 Q483.2656,104.3281 480.7031,104.3281 L479.7969,104.3281 L479.7969,108.9688 L477.3438,108.9688 L477.3438,96.5781 Z \"/><text fill=\"#000000\" font-family=\"sans-serif\" font-size=\"12\" font-style=\"italic\" lengthAdjust=\"spacingAndGlyphs\" textLength=\"40\" x=\"492\" y=\"100.1387\">«part»</text><text fill=\"#000000\" font-family=\"sans-serif\" font-size=\"12\" lengthAdjust=\"spacingAndGlyphs\" textLength=\"22\" x=\"501\" y=\"114.1074\">x: A</text><line style=\"stroke: #A80036; stroke-width: 1.5;\" x1=\"466\" x2=\"532\" y1=\"121.9375\" y2=\"121.9375\"/><!--MD5=[b9389687b975829384b498ac4b7476b2]\n",
       "class E8--><rect fill=\"#FEFECE\" filter=\"url(#f108cuno25t7bz)\" height=\"45.9375\" id=\"E8\" rx=\"10\" ry=\"10\" style=\"stroke: #A80036; stroke-width: 1.5;\" width=\"68\" x=\"362\" y=\"84\"/><ellipse cx=\"377\" cy=\"102.9688\" fill=\"#32CD32\" rx=\"11\" ry=\"11\" style=\"stroke: #A80036; stroke-width: 1.0;\"/><path d=\"M376.7969,98.6406 L376.7969,102.2656 L377.7969,102.2656 Q379,102.2656 379.4844,101.8594 Q379.9688,101.4531 379.9688,100.4531 Q379.9688,99.4531 379.4844,99.0469 Q379,98.6406 377.7969,98.6406 L376.7969,98.6406 Z M374.3438,96.5781 L377.7031,96.5781 Q380.2656,96.5781 381.3906,97.5 Q382.5156,98.4063 382.5156,100.4531 Q382.5156,102.5 381.3906,103.4219 Q380.2656,104.3281 377.7031,104.3281 L376.7969,104.3281 L376.7969,108.9688 L374.3438,108.9688 L374.3438,96.5781 Z \"/><text fill=\"#000000\" font-family=\"sans-serif\" font-size=\"12\" font-style=\"italic\" lengthAdjust=\"spacingAndGlyphs\" textLength=\"40\" x=\"389\" y=\"100.1387\">«part»</text><text fill=\"#000000\" font-family=\"sans-serif\" font-size=\"12\" lengthAdjust=\"spacingAndGlyphs\" textLength=\"22\" x=\"398\" y=\"114.1074\">y: B</text><line style=\"stroke: #A80036; stroke-width: 1.5;\" x1=\"363\" x2=\"429\" y1=\"121.9375\" y2=\"121.9375\"/><!--MD5=[96f4274e9e20536e775497830990834d]\n",
       "class E10--><rect fill=\"#FEFECE\" filter=\"url(#f108cuno25t7bz)\" height=\"45.9375\" id=\"E10\" rx=\"10\" ry=\"10\" style=\"stroke: #A80036; stroke-width: 1.5;\" width=\"68\" x=\"238\" y=\"84\"/><ellipse cx=\"253\" cy=\"102.9688\" fill=\"#32CD32\" rx=\"11\" ry=\"11\" style=\"stroke: #A80036; stroke-width: 1.0;\"/><path d=\"M252.7969,98.6406 L252.7969,102.2656 L253.7969,102.2656 Q255,102.2656 255.4844,101.8594 Q255.9688,101.4531 255.9688,100.4531 Q255.9688,99.4531 255.4844,99.0469 Q255,98.6406 253.7969,98.6406 L252.7969,98.6406 Z M250.3438,96.5781 L253.7031,96.5781 Q256.2656,96.5781 257.3906,97.5 Q258.5156,98.4063 258.5156,100.4531 Q258.5156,102.5 257.3906,103.4219 Q256.2656,104.3281 253.7031,104.3281 L252.7969,104.3281 L252.7969,108.9688 L250.3438,108.9688 L250.3438,96.5781 Z \"/><text fill=\"#000000\" font-family=\"sans-serif\" font-size=\"12\" font-style=\"italic\" lengthAdjust=\"spacingAndGlyphs\" textLength=\"40\" x=\"265\" y=\"100.1387\">«part»</text><text fill=\"#000000\" font-family=\"sans-serif\" font-size=\"12\" lengthAdjust=\"spacingAndGlyphs\" textLength=\"22\" x=\"274\" y=\"114.1074\">x: A</text><line style=\"stroke: #A80036; stroke-width: 1.5;\" x1=\"239\" x2=\"305\" y1=\"121.9375\" y2=\"121.9375\"/><!--MD5=[1dd1bfd58a279cf63c5f349dbc8fc6a1]\n",
       "class E11--><rect fill=\"#FEFECE\" filter=\"url(#f108cuno25t7bz)\" height=\"45.9375\" id=\"E11\" rx=\"10\" ry=\"10\" style=\"stroke: #A80036; stroke-width: 1.5;\" width=\"68\" x=\"135\" y=\"84\"/><ellipse cx=\"150\" cy=\"102.9688\" fill=\"#32CD32\" rx=\"11\" ry=\"11\" style=\"stroke: #A80036; stroke-width: 1.0;\"/><path d=\"M149.7969,98.6406 L149.7969,102.2656 L150.7969,102.2656 Q152,102.2656 152.4844,101.8594 Q152.9688,101.4531 152.9688,100.4531 Q152.9688,99.4531 152.4844,99.0469 Q152,98.6406 150.7969,98.6406 L149.7969,98.6406 Z M147.3438,96.5781 L150.7031,96.5781 Q153.2656,96.5781 154.3906,97.5 Q155.5156,98.4063 155.5156,100.4531 Q155.5156,102.5 154.3906,103.4219 Q153.2656,104.3281 150.7031,104.3281 L149.7969,104.3281 L149.7969,108.9688 L147.3438,108.9688 L147.3438,96.5781 Z \"/><text fill=\"#000000\" font-family=\"sans-serif\" font-size=\"12\" font-style=\"italic\" lengthAdjust=\"spacingAndGlyphs\" textLength=\"40\" x=\"162\" y=\"100.1387\">«part»</text><text fill=\"#000000\" font-family=\"sans-serif\" font-size=\"12\" lengthAdjust=\"spacingAndGlyphs\" textLength=\"22\" x=\"171\" y=\"114.1074\">y: B</text><line style=\"stroke: #A80036; stroke-width: 1.5;\" x1=\"136\" x2=\"202\" y1=\"121.9375\" y2=\"121.9375\"/><!--MD5=[14ccda38c055a5c0da953d572bc50960]\n",
       "link E7 to E3--><path d=\"M499,130.09 C499,145.42 499,166.27 499,184.42 \" fill=\"none\" id=\"E7-&gt;E3\" style=\"stroke: #A80036; stroke-width: 1.0;\"/><polygon fill=\"#FFFFFF\" points=\"499,204.69,492,185.69,506,185.69,499,204.69\" style=\"stroke: #A80036; stroke-width: 1.0;\"/><ellipse cx=\"494\" cy=\"179.99\" fill=\"#A80036\" rx=\"2\" ry=\"2\" style=\"stroke: #A80036; stroke-width: 1.0;\"/><ellipse cx=\"504\" cy=\"179.99\" fill=\"#A80036\" rx=\"2\" ry=\"2\" style=\"stroke: #A80036; stroke-width: 1.0;\"/><!--MD5=[1ccb2481ffa92f8d51a74ee30c51832a]\n",
       "link E8 to E5--><path d=\"M362.27,130.22 C349.82,138.09 335.46,146.77 322,154 C284.18,174.3 239.36,194.36 208.05,207.77 \" fill=\"none\" id=\"E8-&gt;E5\" style=\"stroke: #A80036; stroke-width: 1.0;\"/><polygon fill=\"#FFFFFF\" points=\"189.2,215.73,203.9741,201.8834,209.4261,214.7782,189.2,215.73\" style=\"stroke: #A80036; stroke-width: 1.0;\"/><ellipse cx=\"210.0029\" cy=\"201.5058\" fill=\"#A80036\" rx=\"2\" ry=\"2\" style=\"stroke: #A80036; stroke-width: 1.0;\"/><ellipse cx=\"213.8972\" cy=\"210.7164\" fill=\"#A80036\" rx=\"2\" ry=\"2\" style=\"stroke: #A80036; stroke-width: 1.0;\"/><!--MD5=[feeac5eb423634930294aa81f2d25a4c]\n",
       "link E10 to E3--><path d=\"M305.73,130.22 C318.18,138.09 332.54,146.77 346,154 C383.82,174.3 428.64,194.36 459.95,207.77 \" fill=\"none\" id=\"E10-&gt;E3\" style=\"stroke: #A80036; stroke-width: 1.0;\"/><polygon fill=\"#FFFFFF\" points=\"478.8,215.73,458.5739,214.7782,464.0259,201.8834,478.8,215.73\" style=\"stroke: #A80036; stroke-width: 1.0;\"/><ellipse cx=\"454.1028\" cy=\"210.7164\" fill=\"#A80036\" rx=\"2\" ry=\"2\" style=\"stroke: #A80036; stroke-width: 1.0;\"/><ellipse cx=\"457.9971\" cy=\"201.5058\" fill=\"#A80036\" rx=\"2\" ry=\"2\" style=\"stroke: #A80036; stroke-width: 1.0;\"/><!--MD5=[07b77f6f309248d16187045709d1c26e]\n",
       "link E11 to E5--><path d=\"M169,130.09 C169,145.42 169,166.27 169,184.42 \" fill=\"none\" id=\"E11-&gt;E5\" style=\"stroke: #A80036; stroke-width: 1.0;\"/><polygon fill=\"#FFFFFF\" points=\"169,204.69,162,185.69,176,185.69,169,204.69\" style=\"stroke: #A80036; stroke-width: 1.0;\"/><ellipse cx=\"164\" cy=\"179.99\" fill=\"#A80036\" rx=\"2\" ry=\"2\" style=\"stroke: #A80036; stroke-width: 1.0;\"/><ellipse cx=\"174\" cy=\"179.99\" fill=\"#A80036\" rx=\"2\" ry=\"2\" style=\"stroke: #A80036; stroke-width: 1.0;\"/><!--MD5=[39f41a0e550fb3d73b4d8135617e30a2]\n",
       "link E12 to E3--><path d=\"M582.38,130.09 C567.43,146.94 546.56,170.44 529.44,189.72 \" fill=\"none\" id=\"E12-&gt;E3\" style=\"stroke: #A80036; stroke-width: 1.0;\"/><polygon fill=\"#FFFFFF\" points=\"516.15,204.69,523.5343,185.836,534.0014,195.1334,516.15,204.69\" style=\"stroke: #A80036; stroke-width: 1.0;\"/><ellipse cx=\"528.815\" cy=\"182.9027\" fill=\"#A80036\" rx=\"2\" ry=\"2\" style=\"stroke: #A80036; stroke-width: 1.0;\"/><ellipse cx=\"536.2914\" cy=\"189.5436\" fill=\"#A80036\" rx=\"2\" ry=\"2\" style=\"stroke: #A80036; stroke-width: 1.0;\"/><!--MD5=[066b2d8af59fea80ccdb3d54ad5c1091]\n",
       "link E13 to E5--><path d=\"M85.62,130.09 C100.57,146.94 121.44,170.44 138.56,189.72 \" fill=\"none\" id=\"E13-&gt;E5\" style=\"stroke: #A80036; stroke-width: 1.0;\"/><polygon fill=\"#FFFFFF\" points=\"151.85,204.69,133.9986,195.1334,144.4657,185.836,151.85,204.69\" style=\"stroke: #A80036; stroke-width: 1.0;\"/><ellipse cx=\"131.7086\" cy=\"189.5436\" fill=\"#A80036\" rx=\"2\" ry=\"2\" style=\"stroke: #A80036; stroke-width: 1.0;\"/><ellipse cx=\"139.185\" cy=\"182.9027\" fill=\"#A80036\" rx=\"2\" ry=\"2\" style=\"stroke: #A80036; stroke-width: 1.0;\"/><!--MD5=[d3cd1f005b0ffd1108378db6e51a5ec7]\n",
       "@startuml\r\n",
       " \r\n",
       "package \"CircularImport\" as E1   {\r\n",
       "package \"P1\" as E2   {\r\n",
       "comp def \"A\" as E3  << (B,green) >> {\r\n",
       "}\r\n",
       "}\r\n",
       "package \"P2\" as E4   {\r\n",
       "comp def \"B\" as E5  << (B,green) >> {\r\n",
       "}\r\n",
       "}\r\n",
       "package \"Test1\" as E6   {\r\n",
       "comp usage \"x: A\" as E7  << (P,limegreen) part>> {\r\n",
       "}\r\n",
       "comp usage \"y: B\" as E8  << (P,limegreen) part>> {\r\n",
       "}\r\n",
       "E7 - -:|> E3\r\n",
       "E8 - -:|> E5\r\n",
       "}\r\n",
       "package \"Test2\" as E9   {\r\n",
       "comp usage \"x: A\" as E10  << (P,limegreen) part>> {\r\n",
       "}\r\n",
       "comp usage \"y: B\" as E11  << (P,limegreen) part>> {\r\n",
       "}\r\n",
       "E10 - -:|> E3\r\n",
       "E11 - -:|> E5\r\n",
       "}\r\n",
       "comp usage \"x: A\" as E12  << (P,limegreen) part>> {\r\n",
       "}\r\n",
       "comp usage \"y: B\" as E13  << (P,limegreen) part>> {\r\n",
       "}\r\n",
       "E12 - -:|> E3\r\n",
       "E13 - -:|> E5\r\n",
       "}\r\n",
       "@enduml\r\n",
       "\n",
       "PlantUML version 1.2020.13(Sat Jun 13 12:26:38 UTC 2020)\n",
       "(EPL source distribution)\n",
       "Java Runtime: OpenJDK Runtime Environment\n",
       "JVM: OpenJDK 64-Bit Server VM\n",
       "Default Encoding: UTF-8\n",
       "Language: en\n",
       "Country: null\n",
       "--></g></svg>"
      ]
     },
     "execution_count": 31,
     "metadata": {},
     "output_type": "execute_result"
    }
   ],
   "source": [
    "%viz --style=\"PLANTUML\" --view=\"Tree\" \"CircularImport\""
   ]
  },
  {
   "cell_type": "code",
   "execution_count": 32,
   "id": "confirmed-india",
   "metadata": {
    "execution": {
     "iopub.execute_input": "2021-03-26T09:40:18.281127Z",
     "iopub.status.busy": "2021-03-26T09:40:18.279974Z",
     "iopub.status.idle": "2021-03-26T09:40:18.285693Z",
     "shell.execute_reply": "2021-03-26T09:40:18.284179Z"
    }
   },
   "outputs": [
    {
     "data": {
      "text/plain": [
       "java.lang.IllegalArgumentException: Invalid View: State View candidates are: Default Tree StateMachine Interconnection Activity Sequence MIXED \n",
       "\tat org.omg.sysml.plantuml.SysML2PlantUMLSvc.setView(SysML2PlantUMLSvc.java:63)\n",
       "\tat org.omg.sysml.interactive.SysMLInteractive.viz(SysMLInteractive.java:286)\n",
       "\tat org.omg.sysml.jupyter.kernel.magic.Viz.viz(Viz.java:47)\n",
       "\tat jdk.internal.reflect.GeneratedMethodAccessor9.invoke(Unknown Source)\n",
       "\tat java.base/jdk.internal.reflect.DelegatingMethodAccessorImpl.invoke(DelegatingMethodAccessorImpl.java:43)\n",
       "\tat java.base/java.lang.reflect.Method.invoke(Method.java:568)\n",
       "\tat io.github.spencerpark.jupyter.kernel.magic.registry.Magics.invoke(Magics.java:89)\n",
       "\tat io.github.spencerpark.jupyter.kernel.magic.registry.Magics.access$000(Magics.java:8)\n",
       "\tat io.github.spencerpark.jupyter.kernel.magic.registry.Magics$LineReflectionMagicFunction.execute(Magics.java:149)\n",
       "\tat io.github.spencerpark.jupyter.kernel.magic.registry.Magics.applyLineMagic(Magics.java:26)\n",
       "\tat org.omg.sysml.jupyter.kernel.SysMLKernel.eval(SysMLKernel.java:76)\n",
       "\tat io.github.spencerpark.jupyter.kernel.BaseKernel.handleExecuteRequest(BaseKernel.java:334)\n",
       "\tat io.github.spencerpark.jupyter.channels.ShellChannel.lambda$bind$0(ShellChannel.java:64)\n",
       "\tat io.github.spencerpark.jupyter.channels.Loop.lambda$new$0(Loop.java:21)\n",
       "\tat io.github.spencerpark.jupyter.channels.Loop.run(Loop.java:78)\n"
      ]
     },
     "execution_count": 32,
     "metadata": {},
     "output_type": "execute_result"
    }
   ],
   "source": [
    "%viz --style=\"PLANTUML\" --view=\"State\" \"CircularImport\""
   ]
  },
  {
   "cell_type": "code",
   "execution_count": 33,
   "id": "heard-arthritis",
   "metadata": {
    "execution": {
     "iopub.execute_input": "2021-03-26T09:40:18.339384Z",
     "iopub.status.busy": "2021-03-26T09:40:18.338823Z",
     "iopub.status.idle": "2021-03-26T09:40:18.375751Z",
     "shell.execute_reply": "2021-03-26T09:40:18.374592Z"
    }
   },
   "outputs": [
    {
     "data": {
      "image/svg+xml": [
       "<?xml version=\"1.0\" encoding=\"UTF-8\" standalone=\"no\"?><svg xmlns=\"http://www.w3.org/2000/svg\" xmlns:xlink=\"http://www.w3.org/1999/xlink\" contentScriptType=\"application/ecmascript\" contentStyleType=\"text/css\" height=\"189px\" preserveAspectRatio=\"none\" style=\"width:886px;height:189px;\" version=\"1.1\" viewBox=\"0 0 886 189\" width=\"886px\" zoomAndPan=\"magnify\"><defs><filter height=\"300%\" id=\"f1akuuxdb7ev3o\" width=\"300%\" x=\"-1\" y=\"-1\"><feGaussianBlur result=\"blurOut\" stdDeviation=\"2.0\"/><feColorMatrix in=\"blurOut\" result=\"blurOut2\" type=\"matrix\" values=\"0 0 0 0 0 0 0 0 0 0 0 0 0 0 0 0 0 0 .4 0\"/><feOffset dx=\"4.0\" dy=\"4.0\" in=\"blurOut2\" result=\"blurOut3\"/><feBlend in=\"SourceGraphic\" in2=\"blurOut3\" mode=\"normal\"/></filter></defs><g><!--MD5=[fbc87193dbaf4d95561dea2c320d4a47]\n",
       "cluster E1--><polygon fill=\"#FFFFFF\" filter=\"url(#f1akuuxdb7ev3o)\" points=\"16,6,134,6,141,28.2969,864,28.2969,864,177,16,177,16,6\" style=\"stroke: #000000; stroke-width: 1.5;\"/><line style=\"stroke: #000000; stroke-width: 1.5;\" x1=\"16\" x2=\"141\" y1=\"28.2969\" y2=\"28.2969\"/><text fill=\"#000000\" font-family=\"sans-serif\" font-size=\"14\" font-weight=\"bold\" lengthAdjust=\"spacingAndGlyphs\" textLength=\"112\" x=\"20\" y=\"20.9951\">CircularImport</text><!--MD5=[e4f7fae6ed58524ba242bb0b0d3be6b7]\n",
       "cluster E2--><polygon fill=\"#FFFFFF\" filter=\"url(#f1akuuxdb7ev3o)\" points=\"716,49,742,49,749,71.2969,840,71.2969,840,153,716,153,716,49\" style=\"stroke: #000000; stroke-width: 1.5;\"/><line style=\"stroke: #000000; stroke-width: 1.5;\" x1=\"716\" x2=\"749\" y1=\"71.2969\" y2=\"71.2969\"/><text fill=\"#000000\" font-family=\"sans-serif\" font-size=\"14\" font-weight=\"bold\" lengthAdjust=\"spacingAndGlyphs\" textLength=\"20\" x=\"720\" y=\"63.9951\">P1</text><!--MD5=[f6df4d0ebaf0b5dfb2ced0ae5af7c670]\n",
       "cluster E4--><polygon fill=\"#FFFFFF\" filter=\"url(#f1akuuxdb7ev3o)\" points=\"568,49,594,49,601,71.2969,692,71.2969,692,153,568,153,568,49\" style=\"stroke: #000000; stroke-width: 1.5;\"/><line style=\"stroke: #000000; stroke-width: 1.5;\" x1=\"568\" x2=\"601\" y1=\"71.2969\" y2=\"71.2969\"/><text fill=\"#000000\" font-family=\"sans-serif\" font-size=\"14\" font-weight=\"bold\" lengthAdjust=\"spacingAndGlyphs\" textLength=\"20\" x=\"572\" y=\"63.9951\">P2</text><!--MD5=[14e3b0961a2654348d326746436168a1]\n",
       "cluster E6--><polygon fill=\"#FFFFFF\" filter=\"url(#f1akuuxdb7ev3o)\" points=\"377,50.5,428,50.5,435,72.7969,544,72.7969,544,151.5,377,151.5,377,50.5\" style=\"stroke: #000000; stroke-width: 1.5;\"/><line style=\"stroke: #000000; stroke-width: 1.5;\" x1=\"377\" x2=\"435\" y1=\"72.7969\" y2=\"72.7969\"/><text fill=\"#000000\" font-family=\"sans-serif\" font-size=\"14\" font-weight=\"bold\" lengthAdjust=\"spacingAndGlyphs\" textLength=\"45\" x=\"381\" y=\"65.4951\">Test1</text><!--MD5=[7f149f147074ac12df2cb0a7728a5fb0]\n",
       "cluster E9--><polygon fill=\"#FFFFFF\" filter=\"url(#f1akuuxdb7ev3o)\" points=\"186,50.5,237,50.5,244,72.7969,353,72.7969,353,151.5,186,151.5,186,50.5\" style=\"stroke: #000000; stroke-width: 1.5;\"/><line style=\"stroke: #000000; stroke-width: 1.5;\" x1=\"186\" x2=\"244\" y1=\"72.7969\" y2=\"72.7969\"/><text fill=\"#000000\" font-family=\"sans-serif\" font-size=\"14\" font-weight=\"bold\" lengthAdjust=\"spacingAndGlyphs\" textLength=\"45\" x=\"190\" y=\"65.4951\">Test2</text><!--MD5=[a60fb756f580feb9fd8e2cf1329b5c91]\n",
       "entity E3--><rect fill=\"#FFFFFF\" filter=\"url(#f1akuuxdb7ev3o)\" height=\"52.5938\" style=\"stroke: #000000; stroke-width: 1.5;\" width=\"91\" x=\"732.5\" y=\"84\"/><text fill=\"#000000\" font-family=\"sans-serif\" font-size=\"14\" font-style=\"italic\" lengthAdjust=\"spacingAndGlyphs\" textLength=\"71\" x=\"742.5\" y=\"106.9951\">«part def»</text><text fill=\"#000000\" font-family=\"sans-serif\" font-size=\"14\" lengthAdjust=\"spacingAndGlyphs\" textLength=\"9\" x=\"773.5\" y=\"123.292\">A</text><!--MD5=[21dd76c19d33815960c0e92fef8f0eef]\n",
       "entity E5--><rect fill=\"#FFFFFF\" filter=\"url(#f1akuuxdb7ev3o)\" height=\"52.5938\" style=\"stroke: #000000; stroke-width: 1.5;\" width=\"91\" x=\"584.5\" y=\"84\"/><text fill=\"#000000\" font-family=\"sans-serif\" font-size=\"14\" font-style=\"italic\" lengthAdjust=\"spacingAndGlyphs\" textLength=\"71\" x=\"594.5\" y=\"106.9951\">«part def»</text><text fill=\"#000000\" font-family=\"sans-serif\" font-size=\"14\" lengthAdjust=\"spacingAndGlyphs\" textLength=\"10\" x=\"625\" y=\"123.292\">B</text><g id=\"E1.E6.E7\"><rect fill=\"#FFFFFF\" filter=\"url(#f1akuuxdb7ev3o)\" height=\"50\" rx=\"12.5\" ry=\"12.5\" style=\"stroke: #A80036; stroke-width: 1.5;\" width=\"50\" x=\"478\" y=\"85.5\"/><line style=\"stroke: #A80036; stroke-width: 1.5;\" x1=\"478\" x2=\"528\" y1=\"111.7969\" y2=\"111.7969\"/><text fill=\"#000000\" font-family=\"sans-serif\" font-size=\"14\" lengthAdjust=\"spacingAndGlyphs\" textLength=\"25\" x=\"490.5\" y=\"103.4951\">x: A</text></g><g id=\"E1.E6.E8\"><rect fill=\"#FFFFFF\" filter=\"url(#f1akuuxdb7ev3o)\" height=\"50\" rx=\"12.5\" ry=\"12.5\" style=\"stroke: #A80036; stroke-width: 1.5;\" width=\"50\" x=\"393\" y=\"85.5\"/><line style=\"stroke: #A80036; stroke-width: 1.5;\" x1=\"393\" x2=\"443\" y1=\"111.7969\" y2=\"111.7969\"/><text fill=\"#000000\" font-family=\"sans-serif\" font-size=\"14\" lengthAdjust=\"spacingAndGlyphs\" textLength=\"26\" x=\"405\" y=\"103.4951\">y: B</text></g><g id=\"E1.E9.E10\"><rect fill=\"#FFFFFF\" filter=\"url(#f1akuuxdb7ev3o)\" height=\"50\" rx=\"12.5\" ry=\"12.5\" style=\"stroke: #A80036; stroke-width: 1.5;\" width=\"50\" x=\"287\" y=\"85.5\"/><line style=\"stroke: #A80036; stroke-width: 1.5;\" x1=\"287\" x2=\"337\" y1=\"111.7969\" y2=\"111.7969\"/><text fill=\"#000000\" font-family=\"sans-serif\" font-size=\"14\" lengthAdjust=\"spacingAndGlyphs\" textLength=\"25\" x=\"299.5\" y=\"103.4951\">x: A</text></g><g id=\"E1.E9.E11\"><rect fill=\"#FFFFFF\" filter=\"url(#f1akuuxdb7ev3o)\" height=\"50\" rx=\"12.5\" ry=\"12.5\" style=\"stroke: #A80036; stroke-width: 1.5;\" width=\"50\" x=\"202\" y=\"85.5\"/><line style=\"stroke: #A80036; stroke-width: 1.5;\" x1=\"202\" x2=\"252\" y1=\"111.7969\" y2=\"111.7969\"/><text fill=\"#000000\" font-family=\"sans-serif\" font-size=\"14\" lengthAdjust=\"spacingAndGlyphs\" textLength=\"26\" x=\"214\" y=\"103.4951\">y: B</text></g><g id=\"E1.E12\"><rect fill=\"#FFFFFF\" filter=\"url(#f1akuuxdb7ev3o)\" height=\"50\" rx=\"12.5\" ry=\"12.5\" style=\"stroke: #A80036; stroke-width: 1.5;\" width=\"50\" x=\"117\" y=\"85.5\"/><line style=\"stroke: #A80036; stroke-width: 1.5;\" x1=\"117\" x2=\"167\" y1=\"111.7969\" y2=\"111.7969\"/><text fill=\"#000000\" font-family=\"sans-serif\" font-size=\"14\" lengthAdjust=\"spacingAndGlyphs\" textLength=\"25\" x=\"129.5\" y=\"103.4951\">x: A</text></g><g id=\"E1.E13\"><rect fill=\"#FFFFFF\" filter=\"url(#f1akuuxdb7ev3o)\" height=\"50\" rx=\"12.5\" ry=\"12.5\" style=\"stroke: #A80036; stroke-width: 1.5;\" width=\"50\" x=\"32\" y=\"85.5\"/><line style=\"stroke: #A80036; stroke-width: 1.5;\" x1=\"32\" x2=\"82\" y1=\"111.7969\" y2=\"111.7969\"/><text fill=\"#000000\" font-family=\"sans-serif\" font-size=\"14\" lengthAdjust=\"spacingAndGlyphs\" textLength=\"26\" x=\"44\" y=\"103.4951\">y: B</text></g><!--MD5=[4b68ea3a6a230b5000f0df4f2f485f17]\n",
       "@startuml\r\n",
       "skinparam ranksep 8\r\n",
       "skinparam rectangle {\r\n",
       " backgroundColor<<block>> LightGreen\r\n",
       "}\r\n",
       " \r\n",
       "package \"CircularImport\" as E1   {\r\n",
       "package \"P1\" as E2   {\r\n",
       "rec def \"A\" as E3  <<part def>> {\r\n",
       "}\r\n",
       "}\r\n",
       "package \"P2\" as E4   {\r\n",
       "rec def \"B\" as E5  <<part def>> {\r\n",
       "}\r\n",
       "}\r\n",
       "package \"Test1\" as E6   {\r\n",
       "rec usage \"x: A\" as E7  {\r\n",
       "}\r\n",
       "rec usage \"y: B\" as E8  {\r\n",
       "}\r\n",
       "}\r\n",
       "package \"Test2\" as E9   {\r\n",
       "rec usage \"x: A\" as E10  {\r\n",
       "}\r\n",
       "rec usage \"y: B\" as E11  {\r\n",
       "}\r\n",
       "}\r\n",
       "rec usage \"x: A\" as E12  {\r\n",
       "}\r\n",
       "rec usage \"y: B\" as E13  {\r\n",
       "}\r\n",
       "}\r\n",
       "@enduml\r\n",
       "\n",
       "PlantUML version 1.2020.13(Sat Jun 13 12:26:38 UTC 2020)\n",
       "(EPL source distribution)\n",
       "Java Runtime: OpenJDK Runtime Environment\n",
       "JVM: OpenJDK 64-Bit Server VM\n",
       "Default Encoding: UTF-8\n",
       "Language: en\n",
       "Country: null\n",
       "--></g></svg>"
      ]
     },
     "execution_count": 33,
     "metadata": {},
     "output_type": "execute_result"
    }
   ],
   "source": [
    "%viz --style=\"PLANTUML\" --view=\"Interconnection\" \"CircularImport\""
   ]
  },
  {
   "cell_type": "code",
   "execution_count": 34,
   "id": "proper-thought",
   "metadata": {
    "execution": {
     "iopub.execute_input": "2021-03-26T09:40:18.427505Z",
     "iopub.status.busy": "2021-03-26T09:40:18.426780Z",
     "iopub.status.idle": "2021-03-26T09:40:18.428838Z",
     "shell.execute_reply": "2021-03-26T09:40:18.429316Z"
    }
   },
   "outputs": [
    {
     "data": {
      "text/plain": [
       "java.lang.IllegalArgumentException: Invalid View: Action View candidates are: Default Tree StateMachine Interconnection Activity Sequence MIXED \n",
       "\tat org.omg.sysml.plantuml.SysML2PlantUMLSvc.setView(SysML2PlantUMLSvc.java:63)\n",
       "\tat org.omg.sysml.interactive.SysMLInteractive.viz(SysMLInteractive.java:286)\n",
       "\tat org.omg.sysml.jupyter.kernel.magic.Viz.viz(Viz.java:47)\n",
       "\tat jdk.internal.reflect.GeneratedMethodAccessor9.invoke(Unknown Source)\n",
       "\tat java.base/jdk.internal.reflect.DelegatingMethodAccessorImpl.invoke(DelegatingMethodAccessorImpl.java:43)\n",
       "\tat java.base/java.lang.reflect.Method.invoke(Method.java:568)\n",
       "\tat io.github.spencerpark.jupyter.kernel.magic.registry.Magics.invoke(Magics.java:89)\n",
       "\tat io.github.spencerpark.jupyter.kernel.magic.registry.Magics.access$000(Magics.java:8)\n",
       "\tat io.github.spencerpark.jupyter.kernel.magic.registry.Magics$LineReflectionMagicFunction.execute(Magics.java:149)\n",
       "\tat io.github.spencerpark.jupyter.kernel.magic.registry.Magics.applyLineMagic(Magics.java:26)\n",
       "\tat org.omg.sysml.jupyter.kernel.SysMLKernel.eval(SysMLKernel.java:76)\n",
       "\tat io.github.spencerpark.jupyter.kernel.BaseKernel.handleExecuteRequest(BaseKernel.java:334)\n",
       "\tat io.github.spencerpark.jupyter.channels.ShellChannel.lambda$bind$0(ShellChannel.java:64)\n",
       "\tat io.github.spencerpark.jupyter.channels.Loop.lambda$new$0(Loop.java:21)\n",
       "\tat io.github.spencerpark.jupyter.channels.Loop.run(Loop.java:78)\n"
      ]
     },
     "execution_count": 34,
     "metadata": {},
     "output_type": "execute_result"
    }
   ],
   "source": [
    "%viz --style=\"PLANTUML\" --view=\"Action\" \"CircularImport\""
   ]
  },
  {
   "cell_type": "code",
   "execution_count": 35,
   "id": "finite-advisory",
   "metadata": {
    "execution": {
     "iopub.execute_input": "2021-03-26T09:40:18.480756Z",
     "iopub.status.busy": "2021-03-26T09:40:18.480221Z",
     "iopub.status.idle": "2021-03-26T09:40:18.522034Z",
     "shell.execute_reply": "2021-03-26T09:40:18.520473Z"
    }
   },
   "outputs": [
    {
     "data": {
      "image/svg+xml": [
       "<?xml version=\"1.0\" encoding=\"UTF-8\" standalone=\"no\"?><svg xmlns=\"http://www.w3.org/2000/svg\" xmlns:xlink=\"http://www.w3.org/1999/xlink\" contentScriptType=\"application/ecmascript\" contentStyleType=\"text/css\" height=\"297px\" preserveAspectRatio=\"none\" style=\"width:674px;height:297px;\" version=\"1.1\" viewBox=\"0 0 674 297\" width=\"674px\" zoomAndPan=\"magnify\"><defs><filter height=\"300%\" id=\"f108cuno25t7bz\" width=\"300%\" x=\"-1\" y=\"-1\"><feGaussianBlur result=\"blurOut\" stdDeviation=\"2.0\"/><feColorMatrix in=\"blurOut\" result=\"blurOut2\" type=\"matrix\" values=\"0 0 0 0 0 0 0 0 0 0 0 0 0 0 0 0 0 0 .4 0\"/><feOffset dx=\"4.0\" dy=\"4.0\" in=\"blurOut2\" result=\"blurOut3\"/><feBlend in=\"SourceGraphic\" in2=\"blurOut3\" mode=\"normal\"/></filter></defs><g><!--MD5=[fbc87193dbaf4d95561dea2c320d4a47]\n",
       "cluster E1--><polygon fill=\"#FFFFFF\" filter=\"url(#f108cuno25t7bz)\" points=\"16,6,134,6,141,28.2969,652,28.2969,652,285,16,285,16,6\" style=\"stroke: #000000; stroke-width: 1.5;\"/><line style=\"stroke: #000000; stroke-width: 1.5;\" x1=\"16\" x2=\"141\" y1=\"28.2969\" y2=\"28.2969\"/><text fill=\"#000000\" font-family=\"sans-serif\" font-size=\"14\" font-weight=\"bold\" lengthAdjust=\"spacingAndGlyphs\" textLength=\"112\" x=\"20\" y=\"20.9951\">CircularImport</text><!--MD5=[e4f7fae6ed58524ba242bb0b0d3be6b7]\n",
       "cluster E2--><polygon fill=\"#FFFFFF\" filter=\"url(#f108cuno25t7bz)\" points=\"463,170,489,170,496,192.2969,535,192.2969,535,261,463,261,463,170\" style=\"stroke: #000000; stroke-width: 1.5;\"/><line style=\"stroke: #000000; stroke-width: 1.5;\" x1=\"463\" x2=\"496\" y1=\"192.2969\" y2=\"192.2969\"/><text fill=\"#000000\" font-family=\"sans-serif\" font-size=\"14\" font-weight=\"bold\" lengthAdjust=\"spacingAndGlyphs\" textLength=\"20\" x=\"467\" y=\"184.9951\">P1</text><!--MD5=[f6df4d0ebaf0b5dfb2ced0ae5af7c670]\n",
       "cluster E4--><polygon fill=\"#FFFFFF\" filter=\"url(#f108cuno25t7bz)\" points=\"133,170,159,170,166,192.2969,205,192.2969,205,261,133,261,133,170\" style=\"stroke: #000000; stroke-width: 1.5;\"/><line style=\"stroke: #000000; stroke-width: 1.5;\" x1=\"133\" x2=\"166\" y1=\"192.2969\" y2=\"192.2969\"/><text fill=\"#000000\" font-family=\"sans-serif\" font-size=\"14\" font-weight=\"bold\" lengthAdjust=\"spacingAndGlyphs\" textLength=\"20\" x=\"137\" y=\"184.9951\">P2</text><!--MD5=[14e3b0961a2654348d326746436168a1]\n",
       "cluster E6--><polygon fill=\"#FFFFFF\" filter=\"url(#f108cuno25t7bz)\" points=\"346,49,397,49,404,71.2969,549,71.2969,549,146,346,146,346,49\" style=\"stroke: #000000; stroke-width: 1.5;\"/><line style=\"stroke: #000000; stroke-width: 1.5;\" x1=\"346\" x2=\"404\" y1=\"71.2969\" y2=\"71.2969\"/><text fill=\"#000000\" font-family=\"sans-serif\" font-size=\"14\" font-weight=\"bold\" lengthAdjust=\"spacingAndGlyphs\" textLength=\"45\" x=\"350\" y=\"63.9951\">Test1</text><!--MD5=[7f149f147074ac12df2cb0a7728a5fb0]\n",
       "cluster E9--><polygon fill=\"#FFFFFF\" filter=\"url(#f108cuno25t7bz)\" points=\"119,49,170,49,177,71.2969,322,71.2969,322,146,119,146,119,49\" style=\"stroke: #000000; stroke-width: 1.5;\"/><line style=\"stroke: #000000; stroke-width: 1.5;\" x1=\"119\" x2=\"177\" y1=\"71.2969\" y2=\"71.2969\"/><text fill=\"#000000\" font-family=\"sans-serif\" font-size=\"14\" font-weight=\"bold\" lengthAdjust=\"spacingAndGlyphs\" textLength=\"45\" x=\"123\" y=\"63.9951\">Test2</text><!--MD5=[49a0ec8f00dab7302a31f22d0f0fe584]\n",
       "class E12--><rect fill=\"#FEFECE\" filter=\"url(#f108cuno25t7bz)\" height=\"45.9375\" id=\"E12\" rx=\"10\" ry=\"10\" style=\"stroke: #A80036; stroke-width: 1.5;\" width=\"68\" x=\"568\" y=\"84\"/><ellipse cx=\"583\" cy=\"102.9688\" fill=\"#32CD32\" rx=\"11\" ry=\"11\" style=\"stroke: #A80036; stroke-width: 1.0;\"/><path d=\"M582.7969,98.6406 L582.7969,102.2656 L583.7969,102.2656 Q585,102.2656 585.4844,101.8594 Q585.9688,101.4531 585.9688,100.4531 Q585.9688,99.4531 585.4844,99.0469 Q585,98.6406 583.7969,98.6406 L582.7969,98.6406 Z M580.3438,96.5781 L583.7031,96.5781 Q586.2656,96.5781 587.3906,97.5 Q588.5156,98.4063 588.5156,100.4531 Q588.5156,102.5 587.3906,103.4219 Q586.2656,104.3281 583.7031,104.3281 L582.7969,104.3281 L582.7969,108.9688 L580.3438,108.9688 L580.3438,96.5781 Z \"/><text fill=\"#000000\" font-family=\"sans-serif\" font-size=\"12\" font-style=\"italic\" lengthAdjust=\"spacingAndGlyphs\" textLength=\"40\" x=\"595\" y=\"100.1387\">«part»</text><text fill=\"#000000\" font-family=\"sans-serif\" font-size=\"12\" lengthAdjust=\"spacingAndGlyphs\" textLength=\"22\" x=\"604\" y=\"114.1074\">x: A</text><line style=\"stroke: #A80036; stroke-width: 1.5;\" x1=\"569\" x2=\"635\" y1=\"121.9375\" y2=\"121.9375\"/><!--MD5=[ee3c913d1a06f366521f9ef512b67efe]\n",
       "class E13--><rect fill=\"#FEFECE\" filter=\"url(#f108cuno25t7bz)\" height=\"45.9375\" id=\"E13\" rx=\"10\" ry=\"10\" style=\"stroke: #A80036; stroke-width: 1.5;\" width=\"68\" x=\"32\" y=\"84\"/><ellipse cx=\"47\" cy=\"102.9688\" fill=\"#32CD32\" rx=\"11\" ry=\"11\" style=\"stroke: #A80036; stroke-width: 1.0;\"/><path d=\"M46.7969,98.6406 L46.7969,102.2656 L47.7969,102.2656 Q49,102.2656 49.4844,101.8594 Q49.9688,101.4531 49.9688,100.4531 Q49.9688,99.4531 49.4844,99.0469 Q49,98.6406 47.7969,98.6406 L46.7969,98.6406 Z M44.3438,96.5781 L47.7031,96.5781 Q50.2656,96.5781 51.3906,97.5 Q52.5156,98.4063 52.5156,100.4531 Q52.5156,102.5 51.3906,103.4219 Q50.2656,104.3281 47.7031,104.3281 L46.7969,104.3281 L46.7969,108.9688 L44.3438,108.9688 L44.3438,96.5781 Z \"/><text fill=\"#000000\" font-family=\"sans-serif\" font-size=\"12\" font-style=\"italic\" lengthAdjust=\"spacingAndGlyphs\" textLength=\"40\" x=\"59\" y=\"100.1387\">«part»</text><text fill=\"#000000\" font-family=\"sans-serif\" font-size=\"12\" lengthAdjust=\"spacingAndGlyphs\" textLength=\"22\" x=\"68\" y=\"114.1074\">y: B</text><line style=\"stroke: #A80036; stroke-width: 1.5;\" x1=\"33\" x2=\"99\" y1=\"121.9375\" y2=\"121.9375\"/><!--MD5=[09b614a08d8cba4a07c9adeb5e0fee81]\n",
       "class E3--><rect fill=\"#FEFECE\" filter=\"url(#f108cuno25t7bz)\" height=\"40\" id=\"E3\" style=\"stroke: #A80036; stroke-width: 1.5;\" width=\"40\" x=\"479\" y=\"205\"/><ellipse cx=\"494\" cy=\"221\" fill=\"#008000\" rx=\"11\" ry=\"11\" style=\"stroke: #A80036; stroke-width: 1.0;\"/><path d=\"M492.9063,221.375 L492.9063,225.0469 L494.5313,225.0469 Q495.7031,225.0469 496.1719,224.6563 Q496.6406,224.25 496.6406,223.25 Q496.6406,222.25 496.1406,221.8125 Q495.6563,221.375 494.5313,221.375 L492.9063,221.375 Z M492.9063,216.5469 L492.9063,219.4219 L494.5313,219.4219 Q495.4531,219.4219 495.8438,219.0938 Q496.25,218.75 496.25,218 Q496.25,217.2344 495.8438,216.8906 Q495.4375,216.5469 494.5313,216.5469 L492.9063,216.5469 Z M490.5313,214.5938 L494.5313,214.5938 Q496.5938,214.5938 497.6406,215.375 Q498.6875,216.1563 498.6875,217.7188 Q498.6875,218.9219 498.0625,219.5938 Q497.4531,220.2656 496.2656,220.375 Q497.6875,220.5156 498.4063,221.3281 Q499.125,222.1406 499.125,223.5938 Q499.125,225.3906 498.0469,226.2031 Q496.9688,227 494.5313,227 L490.5313,227 L490.5313,214.5938 Z \"/><text fill=\"#000000\" font-family=\"sans-serif\" font-size=\"12\" lengthAdjust=\"spacingAndGlyphs\" textLength=\"8\" x=\"508\" y=\"225.1543\">A</text><line style=\"stroke: #A80036; stroke-width: 1.5;\" x1=\"480\" x2=\"518\" y1=\"237\" y2=\"237\"/><!--MD5=[270fce915f116d4de14055a7c1d9a0f3]\n",
       "class E5--><rect fill=\"#FEFECE\" filter=\"url(#f108cuno25t7bz)\" height=\"40\" id=\"E5\" style=\"stroke: #A80036; stroke-width: 1.5;\" width=\"40\" x=\"149\" y=\"205\"/><ellipse cx=\"164\" cy=\"221\" fill=\"#008000\" rx=\"11\" ry=\"11\" style=\"stroke: #A80036; stroke-width: 1.0;\"/><path d=\"M162.9063,221.375 L162.9063,225.0469 L164.5313,225.0469 Q165.7031,225.0469 166.1719,224.6563 Q166.6406,224.25 166.6406,223.25 Q166.6406,222.25 166.1406,221.8125 Q165.6563,221.375 164.5313,221.375 L162.9063,221.375 Z M162.9063,216.5469 L162.9063,219.4219 L164.5313,219.4219 Q165.4531,219.4219 165.8438,219.0938 Q166.25,218.75 166.25,218 Q166.25,217.2344 165.8438,216.8906 Q165.4375,216.5469 164.5313,216.5469 L162.9063,216.5469 Z M160.5313,214.5938 L164.5313,214.5938 Q166.5938,214.5938 167.6406,215.375 Q168.6875,216.1563 168.6875,217.7188 Q168.6875,218.9219 168.0625,219.5938 Q167.4531,220.2656 166.2656,220.375 Q167.6875,220.5156 168.4063,221.3281 Q169.125,222.1406 169.125,223.5938 Q169.125,225.3906 168.0469,226.2031 Q166.9688,227 164.5313,227 L160.5313,227 L160.5313,214.5938 Z \"/><text fill=\"#000000\" font-family=\"sans-serif\" font-size=\"12\" lengthAdjust=\"spacingAndGlyphs\" textLength=\"8\" x=\"178\" y=\"225.1543\">B</text><line style=\"stroke: #A80036; stroke-width: 1.5;\" x1=\"150\" x2=\"188\" y1=\"237\" y2=\"237\"/><!--MD5=[2156ba9850f5573cc1fc38a6a4b2f02b]\n",
       "class E7--><rect fill=\"#FEFECE\" filter=\"url(#f108cuno25t7bz)\" height=\"45.9375\" id=\"E7\" rx=\"10\" ry=\"10\" style=\"stroke: #A80036; stroke-width: 1.5;\" width=\"68\" x=\"465\" y=\"84\"/><ellipse cx=\"480\" cy=\"102.9688\" fill=\"#32CD32\" rx=\"11\" ry=\"11\" style=\"stroke: #A80036; stroke-width: 1.0;\"/><path d=\"M479.7969,98.6406 L479.7969,102.2656 L480.7969,102.2656 Q482,102.2656 482.4844,101.8594 Q482.9688,101.4531 482.9688,100.4531 Q482.9688,99.4531 482.4844,99.0469 Q482,98.6406 480.7969,98.6406 L479.7969,98.6406 Z M477.3438,96.5781 L480.7031,96.5781 Q483.2656,96.5781 484.3906,97.5 Q485.5156,98.4063 485.5156,100.4531 Q485.5156,102.5 484.3906,103.4219 Q483.2656,104.3281 480.7031,104.3281 L479.7969,104.3281 L479.7969,108.9688 L477.3438,108.9688 L477.3438,96.5781 Z \"/><text fill=\"#000000\" font-family=\"sans-serif\" font-size=\"12\" font-style=\"italic\" lengthAdjust=\"spacingAndGlyphs\" textLength=\"40\" x=\"492\" y=\"100.1387\">«part»</text><text fill=\"#000000\" font-family=\"sans-serif\" font-size=\"12\" lengthAdjust=\"spacingAndGlyphs\" textLength=\"22\" x=\"501\" y=\"114.1074\">x: A</text><line style=\"stroke: #A80036; stroke-width: 1.5;\" x1=\"466\" x2=\"532\" y1=\"121.9375\" y2=\"121.9375\"/><!--MD5=[b9389687b975829384b498ac4b7476b2]\n",
       "class E8--><rect fill=\"#FEFECE\" filter=\"url(#f108cuno25t7bz)\" height=\"45.9375\" id=\"E8\" rx=\"10\" ry=\"10\" style=\"stroke: #A80036; stroke-width: 1.5;\" width=\"68\" x=\"362\" y=\"84\"/><ellipse cx=\"377\" cy=\"102.9688\" fill=\"#32CD32\" rx=\"11\" ry=\"11\" style=\"stroke: #A80036; stroke-width: 1.0;\"/><path d=\"M376.7969,98.6406 L376.7969,102.2656 L377.7969,102.2656 Q379,102.2656 379.4844,101.8594 Q379.9688,101.4531 379.9688,100.4531 Q379.9688,99.4531 379.4844,99.0469 Q379,98.6406 377.7969,98.6406 L376.7969,98.6406 Z M374.3438,96.5781 L377.7031,96.5781 Q380.2656,96.5781 381.3906,97.5 Q382.5156,98.4063 382.5156,100.4531 Q382.5156,102.5 381.3906,103.4219 Q380.2656,104.3281 377.7031,104.3281 L376.7969,104.3281 L376.7969,108.9688 L374.3438,108.9688 L374.3438,96.5781 Z \"/><text fill=\"#000000\" font-family=\"sans-serif\" font-size=\"12\" font-style=\"italic\" lengthAdjust=\"spacingAndGlyphs\" textLength=\"40\" x=\"389\" y=\"100.1387\">«part»</text><text fill=\"#000000\" font-family=\"sans-serif\" font-size=\"12\" lengthAdjust=\"spacingAndGlyphs\" textLength=\"22\" x=\"398\" y=\"114.1074\">y: B</text><line style=\"stroke: #A80036; stroke-width: 1.5;\" x1=\"363\" x2=\"429\" y1=\"121.9375\" y2=\"121.9375\"/><!--MD5=[96f4274e9e20536e775497830990834d]\n",
       "class E10--><rect fill=\"#FEFECE\" filter=\"url(#f108cuno25t7bz)\" height=\"45.9375\" id=\"E10\" rx=\"10\" ry=\"10\" style=\"stroke: #A80036; stroke-width: 1.5;\" width=\"68\" x=\"238\" y=\"84\"/><ellipse cx=\"253\" cy=\"102.9688\" fill=\"#32CD32\" rx=\"11\" ry=\"11\" style=\"stroke: #A80036; stroke-width: 1.0;\"/><path d=\"M252.7969,98.6406 L252.7969,102.2656 L253.7969,102.2656 Q255,102.2656 255.4844,101.8594 Q255.9688,101.4531 255.9688,100.4531 Q255.9688,99.4531 255.4844,99.0469 Q255,98.6406 253.7969,98.6406 L252.7969,98.6406 Z M250.3438,96.5781 L253.7031,96.5781 Q256.2656,96.5781 257.3906,97.5 Q258.5156,98.4063 258.5156,100.4531 Q258.5156,102.5 257.3906,103.4219 Q256.2656,104.3281 253.7031,104.3281 L252.7969,104.3281 L252.7969,108.9688 L250.3438,108.9688 L250.3438,96.5781 Z \"/><text fill=\"#000000\" font-family=\"sans-serif\" font-size=\"12\" font-style=\"italic\" lengthAdjust=\"spacingAndGlyphs\" textLength=\"40\" x=\"265\" y=\"100.1387\">«part»</text><text fill=\"#000000\" font-family=\"sans-serif\" font-size=\"12\" lengthAdjust=\"spacingAndGlyphs\" textLength=\"22\" x=\"274\" y=\"114.1074\">x: A</text><line style=\"stroke: #A80036; stroke-width: 1.5;\" x1=\"239\" x2=\"305\" y1=\"121.9375\" y2=\"121.9375\"/><!--MD5=[1dd1bfd58a279cf63c5f349dbc8fc6a1]\n",
       "class E11--><rect fill=\"#FEFECE\" filter=\"url(#f108cuno25t7bz)\" height=\"45.9375\" id=\"E11\" rx=\"10\" ry=\"10\" style=\"stroke: #A80036; stroke-width: 1.5;\" width=\"68\" x=\"135\" y=\"84\"/><ellipse cx=\"150\" cy=\"102.9688\" fill=\"#32CD32\" rx=\"11\" ry=\"11\" style=\"stroke: #A80036; stroke-width: 1.0;\"/><path d=\"M149.7969,98.6406 L149.7969,102.2656 L150.7969,102.2656 Q152,102.2656 152.4844,101.8594 Q152.9688,101.4531 152.9688,100.4531 Q152.9688,99.4531 152.4844,99.0469 Q152,98.6406 150.7969,98.6406 L149.7969,98.6406 Z M147.3438,96.5781 L150.7031,96.5781 Q153.2656,96.5781 154.3906,97.5 Q155.5156,98.4063 155.5156,100.4531 Q155.5156,102.5 154.3906,103.4219 Q153.2656,104.3281 150.7031,104.3281 L149.7969,104.3281 L149.7969,108.9688 L147.3438,108.9688 L147.3438,96.5781 Z \"/><text fill=\"#000000\" font-family=\"sans-serif\" font-size=\"12\" font-style=\"italic\" lengthAdjust=\"spacingAndGlyphs\" textLength=\"40\" x=\"162\" y=\"100.1387\">«part»</text><text fill=\"#000000\" font-family=\"sans-serif\" font-size=\"12\" lengthAdjust=\"spacingAndGlyphs\" textLength=\"22\" x=\"171\" y=\"114.1074\">y: B</text><line style=\"stroke: #A80036; stroke-width: 1.5;\" x1=\"136\" x2=\"202\" y1=\"121.9375\" y2=\"121.9375\"/><!--MD5=[14ccda38c055a5c0da953d572bc50960]\n",
       "link E7 to E3--><path d=\"M499,130.09 C499,145.42 499,166.27 499,184.42 \" fill=\"none\" id=\"E7-&gt;E3\" style=\"stroke: #A80036; stroke-width: 1.0;\"/><polygon fill=\"#FFFFFF\" points=\"499,204.69,492,185.69,506,185.69,499,204.69\" style=\"stroke: #A80036; stroke-width: 1.0;\"/><ellipse cx=\"494\" cy=\"179.99\" fill=\"#A80036\" rx=\"2\" ry=\"2\" style=\"stroke: #A80036; stroke-width: 1.0;\"/><ellipse cx=\"504\" cy=\"179.99\" fill=\"#A80036\" rx=\"2\" ry=\"2\" style=\"stroke: #A80036; stroke-width: 1.0;\"/><!--MD5=[1ccb2481ffa92f8d51a74ee30c51832a]\n",
       "link E8 to E5--><path d=\"M362.27,130.22 C349.82,138.09 335.46,146.77 322,154 C284.18,174.3 239.36,194.36 208.05,207.77 \" fill=\"none\" id=\"E8-&gt;E5\" style=\"stroke: #A80036; stroke-width: 1.0;\"/><polygon fill=\"#FFFFFF\" points=\"189.2,215.73,203.9741,201.8834,209.4261,214.7782,189.2,215.73\" style=\"stroke: #A80036; stroke-width: 1.0;\"/><ellipse cx=\"210.0029\" cy=\"201.5058\" fill=\"#A80036\" rx=\"2\" ry=\"2\" style=\"stroke: #A80036; stroke-width: 1.0;\"/><ellipse cx=\"213.8972\" cy=\"210.7164\" fill=\"#A80036\" rx=\"2\" ry=\"2\" style=\"stroke: #A80036; stroke-width: 1.0;\"/><!--MD5=[feeac5eb423634930294aa81f2d25a4c]\n",
       "link E10 to E3--><path d=\"M305.73,130.22 C318.18,138.09 332.54,146.77 346,154 C383.82,174.3 428.64,194.36 459.95,207.77 \" fill=\"none\" id=\"E10-&gt;E3\" style=\"stroke: #A80036; stroke-width: 1.0;\"/><polygon fill=\"#FFFFFF\" points=\"478.8,215.73,458.5739,214.7782,464.0259,201.8834,478.8,215.73\" style=\"stroke: #A80036; stroke-width: 1.0;\"/><ellipse cx=\"454.1028\" cy=\"210.7164\" fill=\"#A80036\" rx=\"2\" ry=\"2\" style=\"stroke: #A80036; stroke-width: 1.0;\"/><ellipse cx=\"457.9971\" cy=\"201.5058\" fill=\"#A80036\" rx=\"2\" ry=\"2\" style=\"stroke: #A80036; stroke-width: 1.0;\"/><!--MD5=[07b77f6f309248d16187045709d1c26e]\n",
       "link E11 to E5--><path d=\"M169,130.09 C169,145.42 169,166.27 169,184.42 \" fill=\"none\" id=\"E11-&gt;E5\" style=\"stroke: #A80036; stroke-width: 1.0;\"/><polygon fill=\"#FFFFFF\" points=\"169,204.69,162,185.69,176,185.69,169,204.69\" style=\"stroke: #A80036; stroke-width: 1.0;\"/><ellipse cx=\"164\" cy=\"179.99\" fill=\"#A80036\" rx=\"2\" ry=\"2\" style=\"stroke: #A80036; stroke-width: 1.0;\"/><ellipse cx=\"174\" cy=\"179.99\" fill=\"#A80036\" rx=\"2\" ry=\"2\" style=\"stroke: #A80036; stroke-width: 1.0;\"/><!--MD5=[39f41a0e550fb3d73b4d8135617e30a2]\n",
       "link E12 to E3--><path d=\"M582.38,130.09 C567.43,146.94 546.56,170.44 529.44,189.72 \" fill=\"none\" id=\"E12-&gt;E3\" style=\"stroke: #A80036; stroke-width: 1.0;\"/><polygon fill=\"#FFFFFF\" points=\"516.15,204.69,523.5343,185.836,534.0014,195.1334,516.15,204.69\" style=\"stroke: #A80036; stroke-width: 1.0;\"/><ellipse cx=\"528.815\" cy=\"182.9027\" fill=\"#A80036\" rx=\"2\" ry=\"2\" style=\"stroke: #A80036; stroke-width: 1.0;\"/><ellipse cx=\"536.2914\" cy=\"189.5436\" fill=\"#A80036\" rx=\"2\" ry=\"2\" style=\"stroke: #A80036; stroke-width: 1.0;\"/><!--MD5=[066b2d8af59fea80ccdb3d54ad5c1091]\n",
       "link E13 to E5--><path d=\"M85.62,130.09 C100.57,146.94 121.44,170.44 138.56,189.72 \" fill=\"none\" id=\"E13-&gt;E5\" style=\"stroke: #A80036; stroke-width: 1.0;\"/><polygon fill=\"#FFFFFF\" points=\"151.85,204.69,133.9986,195.1334,144.4657,185.836,151.85,204.69\" style=\"stroke: #A80036; stroke-width: 1.0;\"/><ellipse cx=\"131.7086\" cy=\"189.5436\" fill=\"#A80036\" rx=\"2\" ry=\"2\" style=\"stroke: #A80036; stroke-width: 1.0;\"/><ellipse cx=\"139.185\" cy=\"182.9027\" fill=\"#A80036\" rx=\"2\" ry=\"2\" style=\"stroke: #A80036; stroke-width: 1.0;\"/><!--MD5=[d3cd1f005b0ffd1108378db6e51a5ec7]\n",
       "@startuml\r\n",
       " \r\n",
       "package \"CircularImport\" as E1   {\r\n",
       "package \"P1\" as E2   {\r\n",
       "comp def \"A\" as E3  << (B,green) >> {\r\n",
       "}\r\n",
       "}\r\n",
       "package \"P2\" as E4   {\r\n",
       "comp def \"B\" as E5  << (B,green) >> {\r\n",
       "}\r\n",
       "}\r\n",
       "package \"Test1\" as E6   {\r\n",
       "comp usage \"x: A\" as E7  << (P,limegreen) part>> {\r\n",
       "}\r\n",
       "comp usage \"y: B\" as E8  << (P,limegreen) part>> {\r\n",
       "}\r\n",
       "E7 - -:|> E3\r\n",
       "E8 - -:|> E5\r\n",
       "}\r\n",
       "package \"Test2\" as E9   {\r\n",
       "comp usage \"x: A\" as E10  << (P,limegreen) part>> {\r\n",
       "}\r\n",
       "comp usage \"y: B\" as E11  << (P,limegreen) part>> {\r\n",
       "}\r\n",
       "E10 - -:|> E3\r\n",
       "E11 - -:|> E5\r\n",
       "}\r\n",
       "comp usage \"x: A\" as E12  << (P,limegreen) part>> {\r\n",
       "}\r\n",
       "comp usage \"y: B\" as E13  << (P,limegreen) part>> {\r\n",
       "}\r\n",
       "E12 - -:|> E3\r\n",
       "E13 - -:|> E5\r\n",
       "}\r\n",
       "@enduml\r\n",
       "\n",
       "PlantUML version 1.2020.13(Sat Jun 13 12:26:38 UTC 2020)\n",
       "(EPL source distribution)\n",
       "Java Runtime: OpenJDK Runtime Environment\n",
       "JVM: OpenJDK 64-Bit Server VM\n",
       "Default Encoding: UTF-8\n",
       "Language: en\n",
       "Country: null\n",
       "--></g></svg>"
      ]
     },
     "execution_count": 35,
     "metadata": {},
     "output_type": "execute_result"
    }
   ],
   "source": [
    "%viz --style=\"PLANTUML\" --view=\"Sequence\" \"CircularImport\""
   ]
  },
  {
   "cell_type": "code",
   "execution_count": 36,
   "id": "infrared-rocket",
   "metadata": {
    "execution": {
     "iopub.execute_input": "2021-03-26T09:40:18.572886Z",
     "iopub.status.busy": "2021-03-26T09:40:18.572405Z",
     "iopub.status.idle": "2021-03-26T09:40:18.612402Z",
     "shell.execute_reply": "2021-03-26T09:40:18.611028Z"
    }
   },
   "outputs": [
    {
     "data": {
      "image/svg+xml": [
       "<?xml version=\"1.0\" encoding=\"UTF-8\" standalone=\"no\"?><svg xmlns=\"http://www.w3.org/2000/svg\" xmlns:xlink=\"http://www.w3.org/1999/xlink\" contentScriptType=\"application/ecmascript\" contentStyleType=\"text/css\" height=\"297px\" preserveAspectRatio=\"none\" style=\"width:674px;height:297px;\" version=\"1.1\" viewBox=\"0 0 674 297\" width=\"674px\" zoomAndPan=\"magnify\"><defs><filter height=\"300%\" id=\"f108cuno25t7bz\" width=\"300%\" x=\"-1\" y=\"-1\"><feGaussianBlur result=\"blurOut\" stdDeviation=\"2.0\"/><feColorMatrix in=\"blurOut\" result=\"blurOut2\" type=\"matrix\" values=\"0 0 0 0 0 0 0 0 0 0 0 0 0 0 0 0 0 0 .4 0\"/><feOffset dx=\"4.0\" dy=\"4.0\" in=\"blurOut2\" result=\"blurOut3\"/><feBlend in=\"SourceGraphic\" in2=\"blurOut3\" mode=\"normal\"/></filter></defs><g><!--MD5=[fbc87193dbaf4d95561dea2c320d4a47]\n",
       "cluster E1--><polygon fill=\"#FFFFFF\" filter=\"url(#f108cuno25t7bz)\" points=\"16,6,134,6,141,28.2969,652,28.2969,652,285,16,285,16,6\" style=\"stroke: #000000; stroke-width: 1.5;\"/><line style=\"stroke: #000000; stroke-width: 1.5;\" x1=\"16\" x2=\"141\" y1=\"28.2969\" y2=\"28.2969\"/><text fill=\"#000000\" font-family=\"sans-serif\" font-size=\"14\" font-weight=\"bold\" lengthAdjust=\"spacingAndGlyphs\" textLength=\"112\" x=\"20\" y=\"20.9951\">CircularImport</text><!--MD5=[e4f7fae6ed58524ba242bb0b0d3be6b7]\n",
       "cluster E2--><polygon fill=\"#FFFFFF\" filter=\"url(#f108cuno25t7bz)\" points=\"463,170,489,170,496,192.2969,535,192.2969,535,261,463,261,463,170\" style=\"stroke: #000000; stroke-width: 1.5;\"/><line style=\"stroke: #000000; stroke-width: 1.5;\" x1=\"463\" x2=\"496\" y1=\"192.2969\" y2=\"192.2969\"/><text fill=\"#000000\" font-family=\"sans-serif\" font-size=\"14\" font-weight=\"bold\" lengthAdjust=\"spacingAndGlyphs\" textLength=\"20\" x=\"467\" y=\"184.9951\">P1</text><!--MD5=[f6df4d0ebaf0b5dfb2ced0ae5af7c670]\n",
       "cluster E4--><polygon fill=\"#FFFFFF\" filter=\"url(#f108cuno25t7bz)\" points=\"133,170,159,170,166,192.2969,205,192.2969,205,261,133,261,133,170\" style=\"stroke: #000000; stroke-width: 1.5;\"/><line style=\"stroke: #000000; stroke-width: 1.5;\" x1=\"133\" x2=\"166\" y1=\"192.2969\" y2=\"192.2969\"/><text fill=\"#000000\" font-family=\"sans-serif\" font-size=\"14\" font-weight=\"bold\" lengthAdjust=\"spacingAndGlyphs\" textLength=\"20\" x=\"137\" y=\"184.9951\">P2</text><!--MD5=[14e3b0961a2654348d326746436168a1]\n",
       "cluster E6--><polygon fill=\"#FFFFFF\" filter=\"url(#f108cuno25t7bz)\" points=\"346,49,397,49,404,71.2969,549,71.2969,549,146,346,146,346,49\" style=\"stroke: #000000; stroke-width: 1.5;\"/><line style=\"stroke: #000000; stroke-width: 1.5;\" x1=\"346\" x2=\"404\" y1=\"71.2969\" y2=\"71.2969\"/><text fill=\"#000000\" font-family=\"sans-serif\" font-size=\"14\" font-weight=\"bold\" lengthAdjust=\"spacingAndGlyphs\" textLength=\"45\" x=\"350\" y=\"63.9951\">Test1</text><!--MD5=[7f149f147074ac12df2cb0a7728a5fb0]\n",
       "cluster E9--><polygon fill=\"#FFFFFF\" filter=\"url(#f108cuno25t7bz)\" points=\"119,49,170,49,177,71.2969,322,71.2969,322,146,119,146,119,49\" style=\"stroke: #000000; stroke-width: 1.5;\"/><line style=\"stroke: #000000; stroke-width: 1.5;\" x1=\"119\" x2=\"177\" y1=\"71.2969\" y2=\"71.2969\"/><text fill=\"#000000\" font-family=\"sans-serif\" font-size=\"14\" font-weight=\"bold\" lengthAdjust=\"spacingAndGlyphs\" textLength=\"45\" x=\"123\" y=\"63.9951\">Test2</text><!--MD5=[49a0ec8f00dab7302a31f22d0f0fe584]\n",
       "class E12--><rect fill=\"#FEFECE\" filter=\"url(#f108cuno25t7bz)\" height=\"45.9375\" id=\"E12\" rx=\"10\" ry=\"10\" style=\"stroke: #A80036; stroke-width: 1.5;\" width=\"68\" x=\"568\" y=\"84\"/><ellipse cx=\"583\" cy=\"102.9688\" fill=\"#32CD32\" rx=\"11\" ry=\"11\" style=\"stroke: #A80036; stroke-width: 1.0;\"/><path d=\"M582.7969,98.6406 L582.7969,102.2656 L583.7969,102.2656 Q585,102.2656 585.4844,101.8594 Q585.9688,101.4531 585.9688,100.4531 Q585.9688,99.4531 585.4844,99.0469 Q585,98.6406 583.7969,98.6406 L582.7969,98.6406 Z M580.3438,96.5781 L583.7031,96.5781 Q586.2656,96.5781 587.3906,97.5 Q588.5156,98.4063 588.5156,100.4531 Q588.5156,102.5 587.3906,103.4219 Q586.2656,104.3281 583.7031,104.3281 L582.7969,104.3281 L582.7969,108.9688 L580.3438,108.9688 L580.3438,96.5781 Z \"/><text fill=\"#000000\" font-family=\"sans-serif\" font-size=\"12\" font-style=\"italic\" lengthAdjust=\"spacingAndGlyphs\" textLength=\"40\" x=\"595\" y=\"100.1387\">«part»</text><text fill=\"#000000\" font-family=\"sans-serif\" font-size=\"12\" lengthAdjust=\"spacingAndGlyphs\" textLength=\"22\" x=\"604\" y=\"114.1074\">x: A</text><line style=\"stroke: #A80036; stroke-width: 1.5;\" x1=\"569\" x2=\"635\" y1=\"121.9375\" y2=\"121.9375\"/><!--MD5=[ee3c913d1a06f366521f9ef512b67efe]\n",
       "class E13--><rect fill=\"#FEFECE\" filter=\"url(#f108cuno25t7bz)\" height=\"45.9375\" id=\"E13\" rx=\"10\" ry=\"10\" style=\"stroke: #A80036; stroke-width: 1.5;\" width=\"68\" x=\"32\" y=\"84\"/><ellipse cx=\"47\" cy=\"102.9688\" fill=\"#32CD32\" rx=\"11\" ry=\"11\" style=\"stroke: #A80036; stroke-width: 1.0;\"/><path d=\"M46.7969,98.6406 L46.7969,102.2656 L47.7969,102.2656 Q49,102.2656 49.4844,101.8594 Q49.9688,101.4531 49.9688,100.4531 Q49.9688,99.4531 49.4844,99.0469 Q49,98.6406 47.7969,98.6406 L46.7969,98.6406 Z M44.3438,96.5781 L47.7031,96.5781 Q50.2656,96.5781 51.3906,97.5 Q52.5156,98.4063 52.5156,100.4531 Q52.5156,102.5 51.3906,103.4219 Q50.2656,104.3281 47.7031,104.3281 L46.7969,104.3281 L46.7969,108.9688 L44.3438,108.9688 L44.3438,96.5781 Z \"/><text fill=\"#000000\" font-family=\"sans-serif\" font-size=\"12\" font-style=\"italic\" lengthAdjust=\"spacingAndGlyphs\" textLength=\"40\" x=\"59\" y=\"100.1387\">«part»</text><text fill=\"#000000\" font-family=\"sans-serif\" font-size=\"12\" lengthAdjust=\"spacingAndGlyphs\" textLength=\"22\" x=\"68\" y=\"114.1074\">y: B</text><line style=\"stroke: #A80036; stroke-width: 1.5;\" x1=\"33\" x2=\"99\" y1=\"121.9375\" y2=\"121.9375\"/><!--MD5=[09b614a08d8cba4a07c9adeb5e0fee81]\n",
       "class E3--><rect fill=\"#FEFECE\" filter=\"url(#f108cuno25t7bz)\" height=\"40\" id=\"E3\" style=\"stroke: #A80036; stroke-width: 1.5;\" width=\"40\" x=\"479\" y=\"205\"/><ellipse cx=\"494\" cy=\"221\" fill=\"#008000\" rx=\"11\" ry=\"11\" style=\"stroke: #A80036; stroke-width: 1.0;\"/><path d=\"M492.9063,221.375 L492.9063,225.0469 L494.5313,225.0469 Q495.7031,225.0469 496.1719,224.6563 Q496.6406,224.25 496.6406,223.25 Q496.6406,222.25 496.1406,221.8125 Q495.6563,221.375 494.5313,221.375 L492.9063,221.375 Z M492.9063,216.5469 L492.9063,219.4219 L494.5313,219.4219 Q495.4531,219.4219 495.8438,219.0938 Q496.25,218.75 496.25,218 Q496.25,217.2344 495.8438,216.8906 Q495.4375,216.5469 494.5313,216.5469 L492.9063,216.5469 Z M490.5313,214.5938 L494.5313,214.5938 Q496.5938,214.5938 497.6406,215.375 Q498.6875,216.1563 498.6875,217.7188 Q498.6875,218.9219 498.0625,219.5938 Q497.4531,220.2656 496.2656,220.375 Q497.6875,220.5156 498.4063,221.3281 Q499.125,222.1406 499.125,223.5938 Q499.125,225.3906 498.0469,226.2031 Q496.9688,227 494.5313,227 L490.5313,227 L490.5313,214.5938 Z \"/><text fill=\"#000000\" font-family=\"sans-serif\" font-size=\"12\" lengthAdjust=\"spacingAndGlyphs\" textLength=\"8\" x=\"508\" y=\"225.1543\">A</text><line style=\"stroke: #A80036; stroke-width: 1.5;\" x1=\"480\" x2=\"518\" y1=\"237\" y2=\"237\"/><!--MD5=[270fce915f116d4de14055a7c1d9a0f3]\n",
       "class E5--><rect fill=\"#FEFECE\" filter=\"url(#f108cuno25t7bz)\" height=\"40\" id=\"E5\" style=\"stroke: #A80036; stroke-width: 1.5;\" width=\"40\" x=\"149\" y=\"205\"/><ellipse cx=\"164\" cy=\"221\" fill=\"#008000\" rx=\"11\" ry=\"11\" style=\"stroke: #A80036; stroke-width: 1.0;\"/><path d=\"M162.9063,221.375 L162.9063,225.0469 L164.5313,225.0469 Q165.7031,225.0469 166.1719,224.6563 Q166.6406,224.25 166.6406,223.25 Q166.6406,222.25 166.1406,221.8125 Q165.6563,221.375 164.5313,221.375 L162.9063,221.375 Z M162.9063,216.5469 L162.9063,219.4219 L164.5313,219.4219 Q165.4531,219.4219 165.8438,219.0938 Q166.25,218.75 166.25,218 Q166.25,217.2344 165.8438,216.8906 Q165.4375,216.5469 164.5313,216.5469 L162.9063,216.5469 Z M160.5313,214.5938 L164.5313,214.5938 Q166.5938,214.5938 167.6406,215.375 Q168.6875,216.1563 168.6875,217.7188 Q168.6875,218.9219 168.0625,219.5938 Q167.4531,220.2656 166.2656,220.375 Q167.6875,220.5156 168.4063,221.3281 Q169.125,222.1406 169.125,223.5938 Q169.125,225.3906 168.0469,226.2031 Q166.9688,227 164.5313,227 L160.5313,227 L160.5313,214.5938 Z \"/><text fill=\"#000000\" font-family=\"sans-serif\" font-size=\"12\" lengthAdjust=\"spacingAndGlyphs\" textLength=\"8\" x=\"178\" y=\"225.1543\">B</text><line style=\"stroke: #A80036; stroke-width: 1.5;\" x1=\"150\" x2=\"188\" y1=\"237\" y2=\"237\"/><!--MD5=[2156ba9850f5573cc1fc38a6a4b2f02b]\n",
       "class E7--><rect fill=\"#FEFECE\" filter=\"url(#f108cuno25t7bz)\" height=\"45.9375\" id=\"E7\" rx=\"10\" ry=\"10\" style=\"stroke: #A80036; stroke-width: 1.5;\" width=\"68\" x=\"465\" y=\"84\"/><ellipse cx=\"480\" cy=\"102.9688\" fill=\"#32CD32\" rx=\"11\" ry=\"11\" style=\"stroke: #A80036; stroke-width: 1.0;\"/><path d=\"M479.7969,98.6406 L479.7969,102.2656 L480.7969,102.2656 Q482,102.2656 482.4844,101.8594 Q482.9688,101.4531 482.9688,100.4531 Q482.9688,99.4531 482.4844,99.0469 Q482,98.6406 480.7969,98.6406 L479.7969,98.6406 Z M477.3438,96.5781 L480.7031,96.5781 Q483.2656,96.5781 484.3906,97.5 Q485.5156,98.4063 485.5156,100.4531 Q485.5156,102.5 484.3906,103.4219 Q483.2656,104.3281 480.7031,104.3281 L479.7969,104.3281 L479.7969,108.9688 L477.3438,108.9688 L477.3438,96.5781 Z \"/><text fill=\"#000000\" font-family=\"sans-serif\" font-size=\"12\" font-style=\"italic\" lengthAdjust=\"spacingAndGlyphs\" textLength=\"40\" x=\"492\" y=\"100.1387\">«part»</text><text fill=\"#000000\" font-family=\"sans-serif\" font-size=\"12\" lengthAdjust=\"spacingAndGlyphs\" textLength=\"22\" x=\"501\" y=\"114.1074\">x: A</text><line style=\"stroke: #A80036; stroke-width: 1.5;\" x1=\"466\" x2=\"532\" y1=\"121.9375\" y2=\"121.9375\"/><!--MD5=[b9389687b975829384b498ac4b7476b2]\n",
       "class E8--><rect fill=\"#FEFECE\" filter=\"url(#f108cuno25t7bz)\" height=\"45.9375\" id=\"E8\" rx=\"10\" ry=\"10\" style=\"stroke: #A80036; stroke-width: 1.5;\" width=\"68\" x=\"362\" y=\"84\"/><ellipse cx=\"377\" cy=\"102.9688\" fill=\"#32CD32\" rx=\"11\" ry=\"11\" style=\"stroke: #A80036; stroke-width: 1.0;\"/><path d=\"M376.7969,98.6406 L376.7969,102.2656 L377.7969,102.2656 Q379,102.2656 379.4844,101.8594 Q379.9688,101.4531 379.9688,100.4531 Q379.9688,99.4531 379.4844,99.0469 Q379,98.6406 377.7969,98.6406 L376.7969,98.6406 Z M374.3438,96.5781 L377.7031,96.5781 Q380.2656,96.5781 381.3906,97.5 Q382.5156,98.4063 382.5156,100.4531 Q382.5156,102.5 381.3906,103.4219 Q380.2656,104.3281 377.7031,104.3281 L376.7969,104.3281 L376.7969,108.9688 L374.3438,108.9688 L374.3438,96.5781 Z \"/><text fill=\"#000000\" font-family=\"sans-serif\" font-size=\"12\" font-style=\"italic\" lengthAdjust=\"spacingAndGlyphs\" textLength=\"40\" x=\"389\" y=\"100.1387\">«part»</text><text fill=\"#000000\" font-family=\"sans-serif\" font-size=\"12\" lengthAdjust=\"spacingAndGlyphs\" textLength=\"22\" x=\"398\" y=\"114.1074\">y: B</text><line style=\"stroke: #A80036; stroke-width: 1.5;\" x1=\"363\" x2=\"429\" y1=\"121.9375\" y2=\"121.9375\"/><!--MD5=[96f4274e9e20536e775497830990834d]\n",
       "class E10--><rect fill=\"#FEFECE\" filter=\"url(#f108cuno25t7bz)\" height=\"45.9375\" id=\"E10\" rx=\"10\" ry=\"10\" style=\"stroke: #A80036; stroke-width: 1.5;\" width=\"68\" x=\"238\" y=\"84\"/><ellipse cx=\"253\" cy=\"102.9688\" fill=\"#32CD32\" rx=\"11\" ry=\"11\" style=\"stroke: #A80036; stroke-width: 1.0;\"/><path d=\"M252.7969,98.6406 L252.7969,102.2656 L253.7969,102.2656 Q255,102.2656 255.4844,101.8594 Q255.9688,101.4531 255.9688,100.4531 Q255.9688,99.4531 255.4844,99.0469 Q255,98.6406 253.7969,98.6406 L252.7969,98.6406 Z M250.3438,96.5781 L253.7031,96.5781 Q256.2656,96.5781 257.3906,97.5 Q258.5156,98.4063 258.5156,100.4531 Q258.5156,102.5 257.3906,103.4219 Q256.2656,104.3281 253.7031,104.3281 L252.7969,104.3281 L252.7969,108.9688 L250.3438,108.9688 L250.3438,96.5781 Z \"/><text fill=\"#000000\" font-family=\"sans-serif\" font-size=\"12\" font-style=\"italic\" lengthAdjust=\"spacingAndGlyphs\" textLength=\"40\" x=\"265\" y=\"100.1387\">«part»</text><text fill=\"#000000\" font-family=\"sans-serif\" font-size=\"12\" lengthAdjust=\"spacingAndGlyphs\" textLength=\"22\" x=\"274\" y=\"114.1074\">x: A</text><line style=\"stroke: #A80036; stroke-width: 1.5;\" x1=\"239\" x2=\"305\" y1=\"121.9375\" y2=\"121.9375\"/><!--MD5=[1dd1bfd58a279cf63c5f349dbc8fc6a1]\n",
       "class E11--><rect fill=\"#FEFECE\" filter=\"url(#f108cuno25t7bz)\" height=\"45.9375\" id=\"E11\" rx=\"10\" ry=\"10\" style=\"stroke: #A80036; stroke-width: 1.5;\" width=\"68\" x=\"135\" y=\"84\"/><ellipse cx=\"150\" cy=\"102.9688\" fill=\"#32CD32\" rx=\"11\" ry=\"11\" style=\"stroke: #A80036; stroke-width: 1.0;\"/><path d=\"M149.7969,98.6406 L149.7969,102.2656 L150.7969,102.2656 Q152,102.2656 152.4844,101.8594 Q152.9688,101.4531 152.9688,100.4531 Q152.9688,99.4531 152.4844,99.0469 Q152,98.6406 150.7969,98.6406 L149.7969,98.6406 Z M147.3438,96.5781 L150.7031,96.5781 Q153.2656,96.5781 154.3906,97.5 Q155.5156,98.4063 155.5156,100.4531 Q155.5156,102.5 154.3906,103.4219 Q153.2656,104.3281 150.7031,104.3281 L149.7969,104.3281 L149.7969,108.9688 L147.3438,108.9688 L147.3438,96.5781 Z \"/><text fill=\"#000000\" font-family=\"sans-serif\" font-size=\"12\" font-style=\"italic\" lengthAdjust=\"spacingAndGlyphs\" textLength=\"40\" x=\"162\" y=\"100.1387\">«part»</text><text fill=\"#000000\" font-family=\"sans-serif\" font-size=\"12\" lengthAdjust=\"spacingAndGlyphs\" textLength=\"22\" x=\"171\" y=\"114.1074\">y: B</text><line style=\"stroke: #A80036; stroke-width: 1.5;\" x1=\"136\" x2=\"202\" y1=\"121.9375\" y2=\"121.9375\"/><!--MD5=[14ccda38c055a5c0da953d572bc50960]\n",
       "link E7 to E3--><path d=\"M499,130.09 C499,145.42 499,166.27 499,184.42 \" fill=\"none\" id=\"E7-&gt;E3\" style=\"stroke: #A80036; stroke-width: 1.0;\"/><polygon fill=\"#FFFFFF\" points=\"499,204.69,492,185.69,506,185.69,499,204.69\" style=\"stroke: #A80036; stroke-width: 1.0;\"/><ellipse cx=\"494\" cy=\"179.99\" fill=\"#A80036\" rx=\"2\" ry=\"2\" style=\"stroke: #A80036; stroke-width: 1.0;\"/><ellipse cx=\"504\" cy=\"179.99\" fill=\"#A80036\" rx=\"2\" ry=\"2\" style=\"stroke: #A80036; stroke-width: 1.0;\"/><!--MD5=[1ccb2481ffa92f8d51a74ee30c51832a]\n",
       "link E8 to E5--><path d=\"M362.27,130.22 C349.82,138.09 335.46,146.77 322,154 C284.18,174.3 239.36,194.36 208.05,207.77 \" fill=\"none\" id=\"E8-&gt;E5\" style=\"stroke: #A80036; stroke-width: 1.0;\"/><polygon fill=\"#FFFFFF\" points=\"189.2,215.73,203.9741,201.8834,209.4261,214.7782,189.2,215.73\" style=\"stroke: #A80036; stroke-width: 1.0;\"/><ellipse cx=\"210.0029\" cy=\"201.5058\" fill=\"#A80036\" rx=\"2\" ry=\"2\" style=\"stroke: #A80036; stroke-width: 1.0;\"/><ellipse cx=\"213.8972\" cy=\"210.7164\" fill=\"#A80036\" rx=\"2\" ry=\"2\" style=\"stroke: #A80036; stroke-width: 1.0;\"/><!--MD5=[feeac5eb423634930294aa81f2d25a4c]\n",
       "link E10 to E3--><path d=\"M305.73,130.22 C318.18,138.09 332.54,146.77 346,154 C383.82,174.3 428.64,194.36 459.95,207.77 \" fill=\"none\" id=\"E10-&gt;E3\" style=\"stroke: #A80036; stroke-width: 1.0;\"/><polygon fill=\"#FFFFFF\" points=\"478.8,215.73,458.5739,214.7782,464.0259,201.8834,478.8,215.73\" style=\"stroke: #A80036; stroke-width: 1.0;\"/><ellipse cx=\"454.1028\" cy=\"210.7164\" fill=\"#A80036\" rx=\"2\" ry=\"2\" style=\"stroke: #A80036; stroke-width: 1.0;\"/><ellipse cx=\"457.9971\" cy=\"201.5058\" fill=\"#A80036\" rx=\"2\" ry=\"2\" style=\"stroke: #A80036; stroke-width: 1.0;\"/><!--MD5=[07b77f6f309248d16187045709d1c26e]\n",
       "link E11 to E5--><path d=\"M169,130.09 C169,145.42 169,166.27 169,184.42 \" fill=\"none\" id=\"E11-&gt;E5\" style=\"stroke: #A80036; stroke-width: 1.0;\"/><polygon fill=\"#FFFFFF\" points=\"169,204.69,162,185.69,176,185.69,169,204.69\" style=\"stroke: #A80036; stroke-width: 1.0;\"/><ellipse cx=\"164\" cy=\"179.99\" fill=\"#A80036\" rx=\"2\" ry=\"2\" style=\"stroke: #A80036; stroke-width: 1.0;\"/><ellipse cx=\"174\" cy=\"179.99\" fill=\"#A80036\" rx=\"2\" ry=\"2\" style=\"stroke: #A80036; stroke-width: 1.0;\"/><!--MD5=[39f41a0e550fb3d73b4d8135617e30a2]\n",
       "link E12 to E3--><path d=\"M582.38,130.09 C567.43,146.94 546.56,170.44 529.44,189.72 \" fill=\"none\" id=\"E12-&gt;E3\" style=\"stroke: #A80036; stroke-width: 1.0;\"/><polygon fill=\"#FFFFFF\" points=\"516.15,204.69,523.5343,185.836,534.0014,195.1334,516.15,204.69\" style=\"stroke: #A80036; stroke-width: 1.0;\"/><ellipse cx=\"528.815\" cy=\"182.9027\" fill=\"#A80036\" rx=\"2\" ry=\"2\" style=\"stroke: #A80036; stroke-width: 1.0;\"/><ellipse cx=\"536.2914\" cy=\"189.5436\" fill=\"#A80036\" rx=\"2\" ry=\"2\" style=\"stroke: #A80036; stroke-width: 1.0;\"/><!--MD5=[066b2d8af59fea80ccdb3d54ad5c1091]\n",
       "link E13 to E5--><path d=\"M85.62,130.09 C100.57,146.94 121.44,170.44 138.56,189.72 \" fill=\"none\" id=\"E13-&gt;E5\" style=\"stroke: #A80036; stroke-width: 1.0;\"/><polygon fill=\"#FFFFFF\" points=\"151.85,204.69,133.9986,195.1334,144.4657,185.836,151.85,204.69\" style=\"stroke: #A80036; stroke-width: 1.0;\"/><ellipse cx=\"131.7086\" cy=\"189.5436\" fill=\"#A80036\" rx=\"2\" ry=\"2\" style=\"stroke: #A80036; stroke-width: 1.0;\"/><ellipse cx=\"139.185\" cy=\"182.9027\" fill=\"#A80036\" rx=\"2\" ry=\"2\" style=\"stroke: #A80036; stroke-width: 1.0;\"/><!--MD5=[d3cd1f005b0ffd1108378db6e51a5ec7]\n",
       "@startuml\r\n",
       " \r\n",
       "package \"CircularImport\" as E1   {\r\n",
       "package \"P1\" as E2   {\r\n",
       "comp def \"A\" as E3  << (B,green) >> {\r\n",
       "}\r\n",
       "}\r\n",
       "package \"P2\" as E4   {\r\n",
       "comp def \"B\" as E5  << (B,green) >> {\r\n",
       "}\r\n",
       "}\r\n",
       "package \"Test1\" as E6   {\r\n",
       "comp usage \"x: A\" as E7  << (P,limegreen) part>> {\r\n",
       "}\r\n",
       "comp usage \"y: B\" as E8  << (P,limegreen) part>> {\r\n",
       "}\r\n",
       "E7 - -:|> E3\r\n",
       "E8 - -:|> E5\r\n",
       "}\r\n",
       "package \"Test2\" as E9   {\r\n",
       "comp usage \"x: A\" as E10  << (P,limegreen) part>> {\r\n",
       "}\r\n",
       "comp usage \"y: B\" as E11  << (P,limegreen) part>> {\r\n",
       "}\r\n",
       "E10 - -:|> E3\r\n",
       "E11 - -:|> E5\r\n",
       "}\r\n",
       "comp usage \"x: A\" as E12  << (P,limegreen) part>> {\r\n",
       "}\r\n",
       "comp usage \"y: B\" as E13  << (P,limegreen) part>> {\r\n",
       "}\r\n",
       "E12 - -:|> E3\r\n",
       "E13 - -:|> E5\r\n",
       "}\r\n",
       "@enduml\r\n",
       "\n",
       "PlantUML version 1.2020.13(Sat Jun 13 12:26:38 UTC 2020)\n",
       "(EPL source distribution)\n",
       "Java Runtime: OpenJDK Runtime Environment\n",
       "JVM: OpenJDK 64-Bit Server VM\n",
       "Default Encoding: UTF-8\n",
       "Language: en\n",
       "Country: null\n",
       "--></g></svg>"
      ]
     },
     "execution_count": 36,
     "metadata": {},
     "output_type": "execute_result"
    }
   ],
   "source": [
    "%viz --style=\"PLANTUML\" --view=\"MIXED\" \"CircularImport\""
   ]
  },
  {
   "cell_type": "code",
   "execution_count": 37,
   "id": "herbal-testimony",
   "metadata": {
    "execution": {
     "iopub.execute_input": "2021-03-26T09:40:18.664570Z",
     "iopub.status.busy": "2021-03-26T09:40:18.663661Z",
     "iopub.status.idle": "2021-03-26T09:40:18.697685Z",
     "shell.execute_reply": "2021-03-26T09:40:18.696459Z"
    }
   },
   "outputs": [
    {
     "data": {
      "image/svg+xml": [
       "<?xml version=\"1.0\" encoding=\"UTF-8\" standalone=\"no\"?><svg xmlns=\"http://www.w3.org/2000/svg\" xmlns:xlink=\"http://www.w3.org/1999/xlink\" contentScriptType=\"application/ecmascript\" contentStyleType=\"text/css\" height=\"303px\" preserveAspectRatio=\"none\" style=\"width:518px;height:303px;\" version=\"1.1\" viewBox=\"0 0 518 303\" width=\"518px\" zoomAndPan=\"magnify\"><defs/><g><!--MD5=[fbc87193dbaf4d95561dea2c320d4a47]\n",
       "cluster E1--><polygon fill=\"#FFFFFF\" points=\"16,6,134,6,141,28.2969,496,28.2969,496,291,16,291,16,6\" style=\"stroke: #000000; stroke-width: 1.5;\"/><line style=\"stroke: #000000; stroke-width: 1.5;\" x1=\"16\" x2=\"141\" y1=\"28.2969\" y2=\"28.2969\"/><text fill=\"#000000\" font-family=\"sans-serif\" font-size=\"14\" font-weight=\"bold\" lengthAdjust=\"spacingAndGlyphs\" textLength=\"112\" x=\"20\" y=\"20.9951\">CircularImport</text><!--MD5=[e4f7fae6ed58524ba242bb0b0d3be6b7]\n",
       "cluster E2--><polygon fill=\"#FFFFFF\" points=\"333,170,359,170,366,192.2969,431,192.2969,431,267,333,267,333,170\" style=\"stroke: #000000; stroke-width: 1.5;\"/><line style=\"stroke: #000000; stroke-width: 1.5;\" x1=\"333\" x2=\"366\" y1=\"192.2969\" y2=\"192.2969\"/><text fill=\"#000000\" font-family=\"sans-serif\" font-size=\"14\" font-weight=\"bold\" lengthAdjust=\"spacingAndGlyphs\" textLength=\"20\" x=\"337\" y=\"184.9951\">P1</text><!--MD5=[f6df4d0ebaf0b5dfb2ced0ae5af7c670]\n",
       "cluster E4--><polygon fill=\"#FFFFFF\" points=\"81,170,107,170,114,192.2969,179,192.2969,179,267,81,267,81,170\" style=\"stroke: #000000; stroke-width: 1.5;\"/><line style=\"stroke: #000000; stroke-width: 1.5;\" x1=\"81\" x2=\"114\" y1=\"192.2969\" y2=\"192.2969\"/><text fill=\"#000000\" font-family=\"sans-serif\" font-size=\"14\" font-weight=\"bold\" lengthAdjust=\"spacingAndGlyphs\" textLength=\"20\" x=\"85\" y=\"184.9951\">P2</text><!--MD5=[14e3b0961a2654348d326746436168a1]\n",
       "cluster E6--><polygon fill=\"#FFFFFF\" points=\"268,49,319,49,326,71.2969,419,71.2969,419,146,268,146,268,49\" style=\"stroke: #000000; stroke-width: 1.5;\"/><line style=\"stroke: #000000; stroke-width: 1.5;\" x1=\"268\" x2=\"326\" y1=\"71.2969\" y2=\"71.2969\"/><text fill=\"#000000\" font-family=\"sans-serif\" font-size=\"14\" font-weight=\"bold\" lengthAdjust=\"spacingAndGlyphs\" textLength=\"45\" x=\"272\" y=\"63.9951\">Test1</text><!--MD5=[7f149f147074ac12df2cb0a7728a5fb0]\n",
       "cluster E9--><polygon fill=\"#FFFFFF\" points=\"93,49,144,49,151,71.2969,244,71.2969,244,146,93,146,93,49\" style=\"stroke: #000000; stroke-width: 1.5;\"/><line style=\"stroke: #000000; stroke-width: 1.5;\" x1=\"93\" x2=\"151\" y1=\"71.2969\" y2=\"71.2969\"/><text fill=\"#000000\" font-family=\"sans-serif\" font-size=\"14\" font-weight=\"bold\" lengthAdjust=\"spacingAndGlyphs\" textLength=\"45\" x=\"97\" y=\"63.9951\">Test2</text><!--MD5=[49a0ec8f00dab7302a31f22d0f0fe584]\n",
       "class E12--><rect fill=\"#FFFFFF\" height=\"45.9375\" id=\"E12\" rx=\"10\" ry=\"10\" style=\"stroke: #383838; stroke-width: 1.5;\" width=\"42\" x=\"438\" y=\"84\"/><text fill=\"#000000\" font-family=\"sans-serif\" font-size=\"12\" font-style=\"italic\" lengthAdjust=\"spacingAndGlyphs\" textLength=\"40\" x=\"439\" y=\"100.1387\">«part»</text><text fill=\"#000000\" font-family=\"sans-serif\" font-size=\"12\" lengthAdjust=\"spacingAndGlyphs\" textLength=\"22\" x=\"448\" y=\"114.1074\">x: A</text><line style=\"stroke: #383838; stroke-width: 1.5;\" x1=\"439\" x2=\"479\" y1=\"121.9375\" y2=\"121.9375\"/><!--MD5=[ee3c913d1a06f366521f9ef512b67efe]\n",
       "class E13--><rect fill=\"#FFFFFF\" height=\"45.9375\" id=\"E13\" rx=\"10\" ry=\"10\" style=\"stroke: #383838; stroke-width: 1.5;\" width=\"42\" x=\"32\" y=\"84\"/><text fill=\"#000000\" font-family=\"sans-serif\" font-size=\"12\" font-style=\"italic\" lengthAdjust=\"spacingAndGlyphs\" textLength=\"40\" x=\"33\" y=\"100.1387\">«part»</text><text fill=\"#000000\" font-family=\"sans-serif\" font-size=\"12\" lengthAdjust=\"spacingAndGlyphs\" textLength=\"22\" x=\"42\" y=\"114.1074\">y: B</text><line style=\"stroke: #383838; stroke-width: 1.5;\" x1=\"33\" x2=\"73\" y1=\"121.9375\" y2=\"121.9375\"/><!--MD5=[09b614a08d8cba4a07c9adeb5e0fee81]\n",
       "class E3--><rect fill=\"#FFFFFF\" height=\"45.9375\" id=\"E3\" style=\"stroke: #383838; stroke-width: 1.5;\" width=\"66\" x=\"349\" y=\"205\"/><text fill=\"#000000\" font-family=\"sans-serif\" font-size=\"12\" font-style=\"italic\" lengthAdjust=\"spacingAndGlyphs\" textLength=\"64\" x=\"350\" y=\"221.1387\">«part def»</text><text fill=\"#000000\" font-family=\"sans-serif\" font-size=\"12\" lengthAdjust=\"spacingAndGlyphs\" textLength=\"8\" x=\"378\" y=\"235.1074\">A</text><line style=\"stroke: #383838; stroke-width: 1.5;\" x1=\"350\" x2=\"414\" y1=\"242.9375\" y2=\"242.9375\"/><!--MD5=[270fce915f116d4de14055a7c1d9a0f3]\n",
       "class E5--><rect fill=\"#FFFFFF\" height=\"45.9375\" id=\"E5\" style=\"stroke: #383838; stroke-width: 1.5;\" width=\"66\" x=\"97\" y=\"205\"/><text fill=\"#000000\" font-family=\"sans-serif\" font-size=\"12\" font-style=\"italic\" lengthAdjust=\"spacingAndGlyphs\" textLength=\"64\" x=\"98\" y=\"221.1387\">«part def»</text><text fill=\"#000000\" font-family=\"sans-serif\" font-size=\"12\" lengthAdjust=\"spacingAndGlyphs\" textLength=\"8\" x=\"126\" y=\"235.1074\">B</text><line style=\"stroke: #383838; stroke-width: 1.5;\" x1=\"98\" x2=\"162\" y1=\"242.9375\" y2=\"242.9375\"/><!--MD5=[2156ba9850f5573cc1fc38a6a4b2f02b]\n",
       "class E7--><rect fill=\"#FFFFFF\" height=\"45.9375\" id=\"E7\" rx=\"10\" ry=\"10\" style=\"stroke: #383838; stroke-width: 1.5;\" width=\"42\" x=\"361\" y=\"84\"/><text fill=\"#000000\" font-family=\"sans-serif\" font-size=\"12\" font-style=\"italic\" lengthAdjust=\"spacingAndGlyphs\" textLength=\"40\" x=\"362\" y=\"100.1387\">«part»</text><text fill=\"#000000\" font-family=\"sans-serif\" font-size=\"12\" lengthAdjust=\"spacingAndGlyphs\" textLength=\"22\" x=\"371\" y=\"114.1074\">x: A</text><line style=\"stroke: #383838; stroke-width: 1.5;\" x1=\"362\" x2=\"402\" y1=\"121.9375\" y2=\"121.9375\"/><!--MD5=[b9389687b975829384b498ac4b7476b2]\n",
       "class E8--><rect fill=\"#FFFFFF\" height=\"45.9375\" id=\"E8\" rx=\"10\" ry=\"10\" style=\"stroke: #383838; stroke-width: 1.5;\" width=\"42\" x=\"284\" y=\"84\"/><text fill=\"#000000\" font-family=\"sans-serif\" font-size=\"12\" font-style=\"italic\" lengthAdjust=\"spacingAndGlyphs\" textLength=\"40\" x=\"285\" y=\"100.1387\">«part»</text><text fill=\"#000000\" font-family=\"sans-serif\" font-size=\"12\" lengthAdjust=\"spacingAndGlyphs\" textLength=\"22\" x=\"294\" y=\"114.1074\">y: B</text><line style=\"stroke: #383838; stroke-width: 1.5;\" x1=\"285\" x2=\"325\" y1=\"121.9375\" y2=\"121.9375\"/><!--MD5=[96f4274e9e20536e775497830990834d]\n",
       "class E10--><rect fill=\"#FFFFFF\" height=\"45.9375\" id=\"E10\" rx=\"10\" ry=\"10\" style=\"stroke: #383838; stroke-width: 1.5;\" width=\"42\" x=\"186\" y=\"84\"/><text fill=\"#000000\" font-family=\"sans-serif\" font-size=\"12\" font-style=\"italic\" lengthAdjust=\"spacingAndGlyphs\" textLength=\"40\" x=\"187\" y=\"100.1387\">«part»</text><text fill=\"#000000\" font-family=\"sans-serif\" font-size=\"12\" lengthAdjust=\"spacingAndGlyphs\" textLength=\"22\" x=\"196\" y=\"114.1074\">x: A</text><line style=\"stroke: #383838; stroke-width: 1.5;\" x1=\"187\" x2=\"227\" y1=\"121.9375\" y2=\"121.9375\"/><!--MD5=[1dd1bfd58a279cf63c5f349dbc8fc6a1]\n",
       "class E11--><rect fill=\"#FFFFFF\" height=\"45.9375\" id=\"E11\" rx=\"10\" ry=\"10\" style=\"stroke: #383838; stroke-width: 1.5;\" width=\"42\" x=\"109\" y=\"84\"/><text fill=\"#000000\" font-family=\"sans-serif\" font-size=\"12\" font-style=\"italic\" lengthAdjust=\"spacingAndGlyphs\" textLength=\"40\" x=\"110\" y=\"100.1387\">«part»</text><text fill=\"#000000\" font-family=\"sans-serif\" font-size=\"12\" lengthAdjust=\"spacingAndGlyphs\" textLength=\"22\" x=\"119\" y=\"114.1074\">y: B</text><line style=\"stroke: #383838; stroke-width: 1.5;\" x1=\"110\" x2=\"150\" y1=\"121.9375\" y2=\"121.9375\"/><!--MD5=[14ccda38c055a5c0da953d572bc50960]\n",
       "link E7 to E3--><path d=\"M382,130.1 C382,145.37 382,166.16 382,184.57 \" fill=\"none\" id=\"E7-&gt;E3\" style=\"stroke: #383838; stroke-width: 1.0;\"/><polygon fill=\"#FFFFFF\" points=\"382,204.61,375,185.61,389,185.61,382,204.61\" style=\"stroke: #383838; stroke-width: 1.0;\"/><ellipse cx=\"377\" cy=\"179.91\" fill=\"#383838\" rx=\"2\" ry=\"2\" style=\"stroke: #383838; stroke-width: 1.0;\"/><ellipse cx=\"387\" cy=\"179.91\" fill=\"#383838\" rx=\"2\" ry=\"2\" style=\"stroke: #383838; stroke-width: 1.0;\"/><!--MD5=[1ccb2481ffa92f8d51a74ee30c51832a]\n",
       "link E8 to E5--><path d=\"M283.84,124.59 C272.23,133.52 257.5,144.61 244,154 C223.51,168.25 200.41,183.24 180.38,195.91 \" fill=\"none\" id=\"E8-&gt;E5\" style=\"stroke: #383838; stroke-width: 1.0;\"/><polygon fill=\"#FFFFFF\" points=\"163.36,206.57,175.7353,190.5434,183.175,202.403,163.36,206.57\" style=\"stroke: #383838; stroke-width: 1.0;\"/><ellipse cx=\"181.6267\" cy=\"189.2086\" fill=\"#383838\" rx=\"2\" ry=\"2\" style=\"stroke: #383838; stroke-width: 1.0;\"/><ellipse cx=\"186.9408\" cy=\"197.6797\" fill=\"#383838\" rx=\"2\" ry=\"2\" style=\"stroke: #383838; stroke-width: 1.0;\"/><!--MD5=[feeac5eb423634930294aa81f2d25a4c]\n",
       "link E10 to E3--><path d=\"M228.16,124.59 C239.77,133.52 254.5,144.61 268,154 C288.49,168.25 311.59,183.24 331.62,195.91 \" fill=\"none\" id=\"E10-&gt;E3\" style=\"stroke: #383838; stroke-width: 1.0;\"/><polygon fill=\"#FFFFFF\" points=\"348.64,206.57,328.825,202.403,336.2647,190.5434,348.64,206.57\" style=\"stroke: #383838; stroke-width: 1.0;\"/><ellipse cx=\"325.0592\" cy=\"197.6797\" fill=\"#383838\" rx=\"2\" ry=\"2\" style=\"stroke: #383838; stroke-width: 1.0;\"/><ellipse cx=\"330.3733\" cy=\"189.2086\" fill=\"#383838\" rx=\"2\" ry=\"2\" style=\"stroke: #383838; stroke-width: 1.0;\"/><!--MD5=[07b77f6f309248d16187045709d1c26e]\n",
       "link E11 to E5--><path d=\"M130,130.1 C130,145.37 130,166.16 130,184.57 \" fill=\"none\" id=\"E11-&gt;E5\" style=\"stroke: #383838; stroke-width: 1.0;\"/><polygon fill=\"#FFFFFF\" points=\"130,204.61,123,185.61,137,185.61,130,204.61\" style=\"stroke: #383838; stroke-width: 1.0;\"/><ellipse cx=\"125\" cy=\"179.91\" fill=\"#383838\" rx=\"2\" ry=\"2\" style=\"stroke: #383838; stroke-width: 1.0;\"/><ellipse cx=\"135\" cy=\"179.91\" fill=\"#383838\" rx=\"2\" ry=\"2\" style=\"stroke: #383838; stroke-width: 1.0;\"/><!--MD5=[39f41a0e550fb3d73b4d8135617e30a2]\n",
       "link E12 to E3--><path d=\"M444.7,130.1 C434.28,146.2 419.89,168.44 407.53,187.55 \" fill=\"none\" id=\"E12-&gt;E3\" style=\"stroke: #383838; stroke-width: 1.0;\"/><polygon fill=\"#FFFFFF\" points=\"396.49,204.61,400.9313,184.8546,412.6866,192.4581,396.49,204.61\" style=\"stroke: #383838; stroke-width: 1.0;\"/><ellipse cx=\"405.7063\" cy=\"181.1547\" fill=\"#383838\" rx=\"2\" ry=\"2\" style=\"stroke: #383838; stroke-width: 1.0;\"/><ellipse cx=\"414.103\" cy=\"186.5858\" fill=\"#383838\" rx=\"2\" ry=\"2\" style=\"stroke: #383838; stroke-width: 1.0;\"/><!--MD5=[066b2d8af59fea80ccdb3d54ad5c1091]\n",
       "link E13 to E5--><path d=\"M67.3,130.1 C77.72,146.2 92.11,168.44 104.47,187.55 \" fill=\"none\" id=\"E13-&gt;E5\" style=\"stroke: #383838; stroke-width: 1.0;\"/><polygon fill=\"#FFFFFF\" points=\"115.51,204.61,99.3134,192.4581,111.0687,184.8546,115.51,204.61\" style=\"stroke: #383838; stroke-width: 1.0;\"/><ellipse cx=\"97.897\" cy=\"186.5858\" fill=\"#383838\" rx=\"2\" ry=\"2\" style=\"stroke: #383838; stroke-width: 1.0;\"/><ellipse cx=\"106.2937\" cy=\"181.1547\" fill=\"#383838\" rx=\"2\" ry=\"2\" style=\"stroke: #383838; stroke-width: 1.0;\"/><!--MD5=[b9d8ef816e12bca3bc5ae33576e6fd52]\n",
       "@startuml\r\n",
       "skinparam monochrome true\r\n",
       "skinparam classbackgroundcolor white\r\n",
       "skinparam shadowing false\r\n",
       "skinparam wrapWidth 300\r\n",
       "hide circle\r\n",
       "\r\n",
       "package \"CircularImport\" as E1   {\r\n",
       "package \"P1\" as E2   {\r\n",
       "comp def \"A\" as E3  <<(T,blue)part def>> {\r\n",
       "}\r\n",
       "}\r\n",
       "package \"P2\" as E4   {\r\n",
       "comp def \"B\" as E5  <<(T,blue)part def>> {\r\n",
       "}\r\n",
       "}\r\n",
       "package \"Test1\" as E6   {\r\n",
       "comp usage \"x: A\" as E7  <<(T,blue)part>> {\r\n",
       "}\r\n",
       "comp usage \"y: B\" as E8  <<(T,blue)part>> {\r\n",
       "}\r\n",
       "E7 - -:|> E3\r\n",
       "E8 - -:|> E5\r\n",
       "}\r\n",
       "package \"Test2\" as E9   {\r\n",
       "comp usage \"x: A\" as E10  <<(T,blue)part>> {\r\n",
       "}\r\n",
       "comp usage \"y: B\" as E11  <<(T,blue)part>> {\r\n",
       "}\r\n",
       "E10 - -:|> E3\r\n",
       "E11 - -:|> E5\r\n",
       "}\r\n",
       "comp usage \"x: A\" as E12  <<(T,blue)part>> {\r\n",
       "}\r\n",
       "comp usage \"y: B\" as E13  <<(T,blue)part>> {\r\n",
       "}\r\n",
       "E12 - -:|> E3\r\n",
       "E13 - -:|> E5\r\n",
       "}\r\n",
       "@enduml\r\n",
       "\n",
       "PlantUML version 1.2020.13(Sat Jun 13 12:26:38 UTC 2020)\n",
       "(EPL source distribution)\n",
       "Java Runtime: OpenJDK Runtime Environment\n",
       "JVM: OpenJDK 64-Bit Server VM\n",
       "Default Encoding: UTF-8\n",
       "Language: en\n",
       "Country: null\n",
       "--></g></svg>"
      ]
     },
     "execution_count": 37,
     "metadata": {},
     "output_type": "execute_result"
    }
   ],
   "source": [
    "%viz --style=\"DEFAULT\" --view=\"Default\" \"CircularImport\""
   ]
  },
  {
   "cell_type": "code",
   "execution_count": 38,
   "id": "double-healing",
   "metadata": {
    "execution": {
     "iopub.execute_input": "2021-03-26T09:40:18.747788Z",
     "iopub.status.busy": "2021-03-26T09:40:18.747431Z",
     "iopub.status.idle": "2021-03-26T09:40:18.780025Z",
     "shell.execute_reply": "2021-03-26T09:40:18.778670Z"
    }
   },
   "outputs": [
    {
     "data": {
      "image/svg+xml": [
       "<?xml version=\"1.0\" encoding=\"UTF-8\" standalone=\"no\"?><svg xmlns=\"http://www.w3.org/2000/svg\" xmlns:xlink=\"http://www.w3.org/1999/xlink\" contentScriptType=\"application/ecmascript\" contentStyleType=\"text/css\" height=\"303px\" preserveAspectRatio=\"none\" style=\"width:518px;height:303px;\" version=\"1.1\" viewBox=\"0 0 518 303\" width=\"518px\" zoomAndPan=\"magnify\"><defs/><g><!--MD5=[fbc87193dbaf4d95561dea2c320d4a47]\n",
       "cluster E1--><polygon fill=\"#FFFFFF\" points=\"16,6,134,6,141,28.2969,496,28.2969,496,291,16,291,16,6\" style=\"stroke: #000000; stroke-width: 1.5;\"/><line style=\"stroke: #000000; stroke-width: 1.5;\" x1=\"16\" x2=\"141\" y1=\"28.2969\" y2=\"28.2969\"/><text fill=\"#000000\" font-family=\"sans-serif\" font-size=\"14\" font-weight=\"bold\" lengthAdjust=\"spacingAndGlyphs\" textLength=\"112\" x=\"20\" y=\"20.9951\">CircularImport</text><!--MD5=[e4f7fae6ed58524ba242bb0b0d3be6b7]\n",
       "cluster E2--><polygon fill=\"#FFFFFF\" points=\"333,170,359,170,366,192.2969,431,192.2969,431,267,333,267,333,170\" style=\"stroke: #000000; stroke-width: 1.5;\"/><line style=\"stroke: #000000; stroke-width: 1.5;\" x1=\"333\" x2=\"366\" y1=\"192.2969\" y2=\"192.2969\"/><text fill=\"#000000\" font-family=\"sans-serif\" font-size=\"14\" font-weight=\"bold\" lengthAdjust=\"spacingAndGlyphs\" textLength=\"20\" x=\"337\" y=\"184.9951\">P1</text><!--MD5=[f6df4d0ebaf0b5dfb2ced0ae5af7c670]\n",
       "cluster E4--><polygon fill=\"#FFFFFF\" points=\"81,170,107,170,114,192.2969,179,192.2969,179,267,81,267,81,170\" style=\"stroke: #000000; stroke-width: 1.5;\"/><line style=\"stroke: #000000; stroke-width: 1.5;\" x1=\"81\" x2=\"114\" y1=\"192.2969\" y2=\"192.2969\"/><text fill=\"#000000\" font-family=\"sans-serif\" font-size=\"14\" font-weight=\"bold\" lengthAdjust=\"spacingAndGlyphs\" textLength=\"20\" x=\"85\" y=\"184.9951\">P2</text><!--MD5=[14e3b0961a2654348d326746436168a1]\n",
       "cluster E6--><polygon fill=\"#FFFFFF\" points=\"268,49,319,49,326,71.2969,419,71.2969,419,146,268,146,268,49\" style=\"stroke: #000000; stroke-width: 1.5;\"/><line style=\"stroke: #000000; stroke-width: 1.5;\" x1=\"268\" x2=\"326\" y1=\"71.2969\" y2=\"71.2969\"/><text fill=\"#000000\" font-family=\"sans-serif\" font-size=\"14\" font-weight=\"bold\" lengthAdjust=\"spacingAndGlyphs\" textLength=\"45\" x=\"272\" y=\"63.9951\">Test1</text><!--MD5=[7f149f147074ac12df2cb0a7728a5fb0]\n",
       "cluster E9--><polygon fill=\"#FFFFFF\" points=\"93,49,144,49,151,71.2969,244,71.2969,244,146,93,146,93,49\" style=\"stroke: #000000; stroke-width: 1.5;\"/><line style=\"stroke: #000000; stroke-width: 1.5;\" x1=\"93\" x2=\"151\" y1=\"71.2969\" y2=\"71.2969\"/><text fill=\"#000000\" font-family=\"sans-serif\" font-size=\"14\" font-weight=\"bold\" lengthAdjust=\"spacingAndGlyphs\" textLength=\"45\" x=\"97\" y=\"63.9951\">Test2</text><!--MD5=[49a0ec8f00dab7302a31f22d0f0fe584]\n",
       "class E12--><rect fill=\"#FFFFFF\" height=\"45.9375\" id=\"E12\" rx=\"10\" ry=\"10\" style=\"stroke: #383838; stroke-width: 1.5;\" width=\"42\" x=\"438\" y=\"84\"/><text fill=\"#000000\" font-family=\"sans-serif\" font-size=\"12\" font-style=\"italic\" lengthAdjust=\"spacingAndGlyphs\" textLength=\"40\" x=\"439\" y=\"100.1387\">«part»</text><text fill=\"#000000\" font-family=\"sans-serif\" font-size=\"12\" lengthAdjust=\"spacingAndGlyphs\" textLength=\"22\" x=\"448\" y=\"114.1074\">x: A</text><line style=\"stroke: #383838; stroke-width: 1.5;\" x1=\"439\" x2=\"479\" y1=\"121.9375\" y2=\"121.9375\"/><!--MD5=[ee3c913d1a06f366521f9ef512b67efe]\n",
       "class E13--><rect fill=\"#FFFFFF\" height=\"45.9375\" id=\"E13\" rx=\"10\" ry=\"10\" style=\"stroke: #383838; stroke-width: 1.5;\" width=\"42\" x=\"32\" y=\"84\"/><text fill=\"#000000\" font-family=\"sans-serif\" font-size=\"12\" font-style=\"italic\" lengthAdjust=\"spacingAndGlyphs\" textLength=\"40\" x=\"33\" y=\"100.1387\">«part»</text><text fill=\"#000000\" font-family=\"sans-serif\" font-size=\"12\" lengthAdjust=\"spacingAndGlyphs\" textLength=\"22\" x=\"42\" y=\"114.1074\">y: B</text><line style=\"stroke: #383838; stroke-width: 1.5;\" x1=\"33\" x2=\"73\" y1=\"121.9375\" y2=\"121.9375\"/><!--MD5=[09b614a08d8cba4a07c9adeb5e0fee81]\n",
       "class E3--><rect fill=\"#FFFFFF\" height=\"45.9375\" id=\"E3\" style=\"stroke: #383838; stroke-width: 1.5;\" width=\"66\" x=\"349\" y=\"205\"/><text fill=\"#000000\" font-family=\"sans-serif\" font-size=\"12\" font-style=\"italic\" lengthAdjust=\"spacingAndGlyphs\" textLength=\"64\" x=\"350\" y=\"221.1387\">«part def»</text><text fill=\"#000000\" font-family=\"sans-serif\" font-size=\"12\" lengthAdjust=\"spacingAndGlyphs\" textLength=\"8\" x=\"378\" y=\"235.1074\">A</text><line style=\"stroke: #383838; stroke-width: 1.5;\" x1=\"350\" x2=\"414\" y1=\"242.9375\" y2=\"242.9375\"/><!--MD5=[270fce915f116d4de14055a7c1d9a0f3]\n",
       "class E5--><rect fill=\"#FFFFFF\" height=\"45.9375\" id=\"E5\" style=\"stroke: #383838; stroke-width: 1.5;\" width=\"66\" x=\"97\" y=\"205\"/><text fill=\"#000000\" font-family=\"sans-serif\" font-size=\"12\" font-style=\"italic\" lengthAdjust=\"spacingAndGlyphs\" textLength=\"64\" x=\"98\" y=\"221.1387\">«part def»</text><text fill=\"#000000\" font-family=\"sans-serif\" font-size=\"12\" lengthAdjust=\"spacingAndGlyphs\" textLength=\"8\" x=\"126\" y=\"235.1074\">B</text><line style=\"stroke: #383838; stroke-width: 1.5;\" x1=\"98\" x2=\"162\" y1=\"242.9375\" y2=\"242.9375\"/><!--MD5=[2156ba9850f5573cc1fc38a6a4b2f02b]\n",
       "class E7--><rect fill=\"#FFFFFF\" height=\"45.9375\" id=\"E7\" rx=\"10\" ry=\"10\" style=\"stroke: #383838; stroke-width: 1.5;\" width=\"42\" x=\"361\" y=\"84\"/><text fill=\"#000000\" font-family=\"sans-serif\" font-size=\"12\" font-style=\"italic\" lengthAdjust=\"spacingAndGlyphs\" textLength=\"40\" x=\"362\" y=\"100.1387\">«part»</text><text fill=\"#000000\" font-family=\"sans-serif\" font-size=\"12\" lengthAdjust=\"spacingAndGlyphs\" textLength=\"22\" x=\"371\" y=\"114.1074\">x: A</text><line style=\"stroke: #383838; stroke-width: 1.5;\" x1=\"362\" x2=\"402\" y1=\"121.9375\" y2=\"121.9375\"/><!--MD5=[b9389687b975829384b498ac4b7476b2]\n",
       "class E8--><rect fill=\"#FFFFFF\" height=\"45.9375\" id=\"E8\" rx=\"10\" ry=\"10\" style=\"stroke: #383838; stroke-width: 1.5;\" width=\"42\" x=\"284\" y=\"84\"/><text fill=\"#000000\" font-family=\"sans-serif\" font-size=\"12\" font-style=\"italic\" lengthAdjust=\"spacingAndGlyphs\" textLength=\"40\" x=\"285\" y=\"100.1387\">«part»</text><text fill=\"#000000\" font-family=\"sans-serif\" font-size=\"12\" lengthAdjust=\"spacingAndGlyphs\" textLength=\"22\" x=\"294\" y=\"114.1074\">y: B</text><line style=\"stroke: #383838; stroke-width: 1.5;\" x1=\"285\" x2=\"325\" y1=\"121.9375\" y2=\"121.9375\"/><!--MD5=[96f4274e9e20536e775497830990834d]\n",
       "class E10--><rect fill=\"#FFFFFF\" height=\"45.9375\" id=\"E10\" rx=\"10\" ry=\"10\" style=\"stroke: #383838; stroke-width: 1.5;\" width=\"42\" x=\"186\" y=\"84\"/><text fill=\"#000000\" font-family=\"sans-serif\" font-size=\"12\" font-style=\"italic\" lengthAdjust=\"spacingAndGlyphs\" textLength=\"40\" x=\"187\" y=\"100.1387\">«part»</text><text fill=\"#000000\" font-family=\"sans-serif\" font-size=\"12\" lengthAdjust=\"spacingAndGlyphs\" textLength=\"22\" x=\"196\" y=\"114.1074\">x: A</text><line style=\"stroke: #383838; stroke-width: 1.5;\" x1=\"187\" x2=\"227\" y1=\"121.9375\" y2=\"121.9375\"/><!--MD5=[1dd1bfd58a279cf63c5f349dbc8fc6a1]\n",
       "class E11--><rect fill=\"#FFFFFF\" height=\"45.9375\" id=\"E11\" rx=\"10\" ry=\"10\" style=\"stroke: #383838; stroke-width: 1.5;\" width=\"42\" x=\"109\" y=\"84\"/><text fill=\"#000000\" font-family=\"sans-serif\" font-size=\"12\" font-style=\"italic\" lengthAdjust=\"spacingAndGlyphs\" textLength=\"40\" x=\"110\" y=\"100.1387\">«part»</text><text fill=\"#000000\" font-family=\"sans-serif\" font-size=\"12\" lengthAdjust=\"spacingAndGlyphs\" textLength=\"22\" x=\"119\" y=\"114.1074\">y: B</text><line style=\"stroke: #383838; stroke-width: 1.5;\" x1=\"110\" x2=\"150\" y1=\"121.9375\" y2=\"121.9375\"/><!--MD5=[14ccda38c055a5c0da953d572bc50960]\n",
       "link E7 to E3--><path d=\"M382,130.1 C382,145.37 382,166.16 382,184.57 \" fill=\"none\" id=\"E7-&gt;E3\" style=\"stroke: #383838; stroke-width: 1.0;\"/><polygon fill=\"#FFFFFF\" points=\"382,204.61,375,185.61,389,185.61,382,204.61\" style=\"stroke: #383838; stroke-width: 1.0;\"/><ellipse cx=\"377\" cy=\"179.91\" fill=\"#383838\" rx=\"2\" ry=\"2\" style=\"stroke: #383838; stroke-width: 1.0;\"/><ellipse cx=\"387\" cy=\"179.91\" fill=\"#383838\" rx=\"2\" ry=\"2\" style=\"stroke: #383838; stroke-width: 1.0;\"/><!--MD5=[1ccb2481ffa92f8d51a74ee30c51832a]\n",
       "link E8 to E5--><path d=\"M283.84,124.59 C272.23,133.52 257.5,144.61 244,154 C223.51,168.25 200.41,183.24 180.38,195.91 \" fill=\"none\" id=\"E8-&gt;E5\" style=\"stroke: #383838; stroke-width: 1.0;\"/><polygon fill=\"#FFFFFF\" points=\"163.36,206.57,175.7353,190.5434,183.175,202.403,163.36,206.57\" style=\"stroke: #383838; stroke-width: 1.0;\"/><ellipse cx=\"181.6267\" cy=\"189.2086\" fill=\"#383838\" rx=\"2\" ry=\"2\" style=\"stroke: #383838; stroke-width: 1.0;\"/><ellipse cx=\"186.9408\" cy=\"197.6797\" fill=\"#383838\" rx=\"2\" ry=\"2\" style=\"stroke: #383838; stroke-width: 1.0;\"/><!--MD5=[feeac5eb423634930294aa81f2d25a4c]\n",
       "link E10 to E3--><path d=\"M228.16,124.59 C239.77,133.52 254.5,144.61 268,154 C288.49,168.25 311.59,183.24 331.62,195.91 \" fill=\"none\" id=\"E10-&gt;E3\" style=\"stroke: #383838; stroke-width: 1.0;\"/><polygon fill=\"#FFFFFF\" points=\"348.64,206.57,328.825,202.403,336.2647,190.5434,348.64,206.57\" style=\"stroke: #383838; stroke-width: 1.0;\"/><ellipse cx=\"325.0592\" cy=\"197.6797\" fill=\"#383838\" rx=\"2\" ry=\"2\" style=\"stroke: #383838; stroke-width: 1.0;\"/><ellipse cx=\"330.3733\" cy=\"189.2086\" fill=\"#383838\" rx=\"2\" ry=\"2\" style=\"stroke: #383838; stroke-width: 1.0;\"/><!--MD5=[07b77f6f309248d16187045709d1c26e]\n",
       "link E11 to E5--><path d=\"M130,130.1 C130,145.37 130,166.16 130,184.57 \" fill=\"none\" id=\"E11-&gt;E5\" style=\"stroke: #383838; stroke-width: 1.0;\"/><polygon fill=\"#FFFFFF\" points=\"130,204.61,123,185.61,137,185.61,130,204.61\" style=\"stroke: #383838; stroke-width: 1.0;\"/><ellipse cx=\"125\" cy=\"179.91\" fill=\"#383838\" rx=\"2\" ry=\"2\" style=\"stroke: #383838; stroke-width: 1.0;\"/><ellipse cx=\"135\" cy=\"179.91\" fill=\"#383838\" rx=\"2\" ry=\"2\" style=\"stroke: #383838; stroke-width: 1.0;\"/><!--MD5=[39f41a0e550fb3d73b4d8135617e30a2]\n",
       "link E12 to E3--><path d=\"M444.7,130.1 C434.28,146.2 419.89,168.44 407.53,187.55 \" fill=\"none\" id=\"E12-&gt;E3\" style=\"stroke: #383838; stroke-width: 1.0;\"/><polygon fill=\"#FFFFFF\" points=\"396.49,204.61,400.9313,184.8546,412.6866,192.4581,396.49,204.61\" style=\"stroke: #383838; stroke-width: 1.0;\"/><ellipse cx=\"405.7063\" cy=\"181.1547\" fill=\"#383838\" rx=\"2\" ry=\"2\" style=\"stroke: #383838; stroke-width: 1.0;\"/><ellipse cx=\"414.103\" cy=\"186.5858\" fill=\"#383838\" rx=\"2\" ry=\"2\" style=\"stroke: #383838; stroke-width: 1.0;\"/><!--MD5=[066b2d8af59fea80ccdb3d54ad5c1091]\n",
       "link E13 to E5--><path d=\"M67.3,130.1 C77.72,146.2 92.11,168.44 104.47,187.55 \" fill=\"none\" id=\"E13-&gt;E5\" style=\"stroke: #383838; stroke-width: 1.0;\"/><polygon fill=\"#FFFFFF\" points=\"115.51,204.61,99.3134,192.4581,111.0687,184.8546,115.51,204.61\" style=\"stroke: #383838; stroke-width: 1.0;\"/><ellipse cx=\"97.897\" cy=\"186.5858\" fill=\"#383838\" rx=\"2\" ry=\"2\" style=\"stroke: #383838; stroke-width: 1.0;\"/><ellipse cx=\"106.2937\" cy=\"181.1547\" fill=\"#383838\" rx=\"2\" ry=\"2\" style=\"stroke: #383838; stroke-width: 1.0;\"/><!--MD5=[b9d8ef816e12bca3bc5ae33576e6fd52]\n",
       "@startuml\r\n",
       "skinparam monochrome true\r\n",
       "skinparam classbackgroundcolor white\r\n",
       "skinparam shadowing false\r\n",
       "skinparam wrapWidth 300\r\n",
       "hide circle\r\n",
       "\r\n",
       "package \"CircularImport\" as E1   {\r\n",
       "package \"P1\" as E2   {\r\n",
       "comp def \"A\" as E3  <<(T,blue)part def>> {\r\n",
       "}\r\n",
       "}\r\n",
       "package \"P2\" as E4   {\r\n",
       "comp def \"B\" as E5  <<(T,blue)part def>> {\r\n",
       "}\r\n",
       "}\r\n",
       "package \"Test1\" as E6   {\r\n",
       "comp usage \"x: A\" as E7  <<(T,blue)part>> {\r\n",
       "}\r\n",
       "comp usage \"y: B\" as E8  <<(T,blue)part>> {\r\n",
       "}\r\n",
       "E7 - -:|> E3\r\n",
       "E8 - -:|> E5\r\n",
       "}\r\n",
       "package \"Test2\" as E9   {\r\n",
       "comp usage \"x: A\" as E10  <<(T,blue)part>> {\r\n",
       "}\r\n",
       "comp usage \"y: B\" as E11  <<(T,blue)part>> {\r\n",
       "}\r\n",
       "E10 - -:|> E3\r\n",
       "E11 - -:|> E5\r\n",
       "}\r\n",
       "comp usage \"x: A\" as E12  <<(T,blue)part>> {\r\n",
       "}\r\n",
       "comp usage \"y: B\" as E13  <<(T,blue)part>> {\r\n",
       "}\r\n",
       "E12 - -:|> E3\r\n",
       "E13 - -:|> E5\r\n",
       "}\r\n",
       "@enduml\r\n",
       "\n",
       "PlantUML version 1.2020.13(Sat Jun 13 12:26:38 UTC 2020)\n",
       "(EPL source distribution)\n",
       "Java Runtime: OpenJDK Runtime Environment\n",
       "JVM: OpenJDK 64-Bit Server VM\n",
       "Default Encoding: UTF-8\n",
       "Language: en\n",
       "Country: null\n",
       "--></g></svg>"
      ]
     },
     "execution_count": 38,
     "metadata": {},
     "output_type": "execute_result"
    }
   ],
   "source": [
    "%viz --style=\"DEFAULT\" --view=\"Tree\" \"CircularImport\""
   ]
  },
  {
   "cell_type": "code",
   "execution_count": 39,
   "id": "demonstrated-calculator",
   "metadata": {
    "execution": {
     "iopub.execute_input": "2021-03-26T09:40:18.807319Z",
     "iopub.status.busy": "2021-03-26T09:40:18.806977Z",
     "iopub.status.idle": "2021-03-26T09:40:18.808535Z",
     "shell.execute_reply": "2021-03-26T09:40:18.808851Z"
    }
   },
   "outputs": [
    {
     "data": {
      "text/plain": [
       "java.lang.IllegalArgumentException: Invalid View: State View candidates are: Default Tree StateMachine Interconnection Activity Sequence MIXED \n",
       "\tat org.omg.sysml.plantuml.SysML2PlantUMLSvc.setView(SysML2PlantUMLSvc.java:63)\n",
       "\tat org.omg.sysml.interactive.SysMLInteractive.viz(SysMLInteractive.java:286)\n",
       "\tat org.omg.sysml.jupyter.kernel.magic.Viz.viz(Viz.java:47)\n",
       "\tat jdk.internal.reflect.GeneratedMethodAccessor9.invoke(Unknown Source)\n",
       "\tat java.base/jdk.internal.reflect.DelegatingMethodAccessorImpl.invoke(DelegatingMethodAccessorImpl.java:43)\n",
       "\tat java.base/java.lang.reflect.Method.invoke(Method.java:568)\n",
       "\tat io.github.spencerpark.jupyter.kernel.magic.registry.Magics.invoke(Magics.java:89)\n",
       "\tat io.github.spencerpark.jupyter.kernel.magic.registry.Magics.access$000(Magics.java:8)\n",
       "\tat io.github.spencerpark.jupyter.kernel.magic.registry.Magics$LineReflectionMagicFunction.execute(Magics.java:149)\n",
       "\tat io.github.spencerpark.jupyter.kernel.magic.registry.Magics.applyLineMagic(Magics.java:26)\n",
       "\tat org.omg.sysml.jupyter.kernel.SysMLKernel.eval(SysMLKernel.java:76)\n",
       "\tat io.github.spencerpark.jupyter.kernel.BaseKernel.handleExecuteRequest(BaseKernel.java:334)\n",
       "\tat io.github.spencerpark.jupyter.channels.ShellChannel.lambda$bind$0(ShellChannel.java:64)\n",
       "\tat io.github.spencerpark.jupyter.channels.Loop.lambda$new$0(Loop.java:21)\n",
       "\tat io.github.spencerpark.jupyter.channels.Loop.run(Loop.java:78)\n"
      ]
     },
     "execution_count": 39,
     "metadata": {},
     "output_type": "execute_result"
    }
   ],
   "source": [
    "%viz --style=\"DEFAULT\" --view=\"State\" \"CircularImport\""
   ]
  },
  {
   "cell_type": "code",
   "execution_count": 40,
   "id": "provincial-brand",
   "metadata": {
    "execution": {
     "iopub.execute_input": "2021-03-26T09:40:18.859636Z",
     "iopub.status.busy": "2021-03-26T09:40:18.859250Z",
     "iopub.status.idle": "2021-03-26T09:40:18.903769Z",
     "shell.execute_reply": "2021-03-26T09:40:18.902750Z"
    }
   },
   "outputs": [
    {
     "data": {
      "image/svg+xml": [
       "<?xml version=\"1.0\" encoding=\"UTF-8\" standalone=\"no\"?><svg xmlns=\"http://www.w3.org/2000/svg\" xmlns:xlink=\"http://www.w3.org/1999/xlink\" contentScriptType=\"application/ecmascript\" contentStyleType=\"text/css\" height=\"189px\" preserveAspectRatio=\"none\" style=\"width:886px;height:189px;\" version=\"1.1\" viewBox=\"0 0 886 189\" width=\"886px\" zoomAndPan=\"magnify\"><defs/><g><!--MD5=[fbc87193dbaf4d95561dea2c320d4a47]\n",
       "cluster E1--><polygon fill=\"#FFFFFF\" points=\"16,6,134,6,141,28.2969,864,28.2969,864,177,16,177,16,6\" style=\"stroke: #000000; stroke-width: 1.5;\"/><line style=\"stroke: #000000; stroke-width: 1.5;\" x1=\"16\" x2=\"141\" y1=\"28.2969\" y2=\"28.2969\"/><text fill=\"#000000\" font-family=\"sans-serif\" font-size=\"14\" font-weight=\"bold\" lengthAdjust=\"spacingAndGlyphs\" textLength=\"112\" x=\"20\" y=\"20.9951\">CircularImport</text><!--MD5=[e4f7fae6ed58524ba242bb0b0d3be6b7]\n",
       "cluster E2--><polygon fill=\"#FFFFFF\" points=\"716,49,742,49,749,71.2969,840,71.2969,840,153,716,153,716,49\" style=\"stroke: #000000; stroke-width: 1.5;\"/><line style=\"stroke: #000000; stroke-width: 1.5;\" x1=\"716\" x2=\"749\" y1=\"71.2969\" y2=\"71.2969\"/><text fill=\"#000000\" font-family=\"sans-serif\" font-size=\"14\" font-weight=\"bold\" lengthAdjust=\"spacingAndGlyphs\" textLength=\"20\" x=\"720\" y=\"63.9951\">P1</text><!--MD5=[f6df4d0ebaf0b5dfb2ced0ae5af7c670]\n",
       "cluster E4--><polygon fill=\"#FFFFFF\" points=\"568,49,594,49,601,71.2969,692,71.2969,692,153,568,153,568,49\" style=\"stroke: #000000; stroke-width: 1.5;\"/><line style=\"stroke: #000000; stroke-width: 1.5;\" x1=\"568\" x2=\"601\" y1=\"71.2969\" y2=\"71.2969\"/><text fill=\"#000000\" font-family=\"sans-serif\" font-size=\"14\" font-weight=\"bold\" lengthAdjust=\"spacingAndGlyphs\" textLength=\"20\" x=\"572\" y=\"63.9951\">P2</text><!--MD5=[14e3b0961a2654348d326746436168a1]\n",
       "cluster E6--><polygon fill=\"#FFFFFF\" points=\"377,50.5,428,50.5,435,72.7969,544,72.7969,544,151.5,377,151.5,377,50.5\" style=\"stroke: #000000; stroke-width: 1.5;\"/><line style=\"stroke: #000000; stroke-width: 1.5;\" x1=\"377\" x2=\"435\" y1=\"72.7969\" y2=\"72.7969\"/><text fill=\"#000000\" font-family=\"sans-serif\" font-size=\"14\" font-weight=\"bold\" lengthAdjust=\"spacingAndGlyphs\" textLength=\"45\" x=\"381\" y=\"65.4951\">Test1</text><!--MD5=[7f149f147074ac12df2cb0a7728a5fb0]\n",
       "cluster E9--><polygon fill=\"#FFFFFF\" points=\"186,50.5,237,50.5,244,72.7969,353,72.7969,353,151.5,186,151.5,186,50.5\" style=\"stroke: #000000; stroke-width: 1.5;\"/><line style=\"stroke: #000000; stroke-width: 1.5;\" x1=\"186\" x2=\"244\" y1=\"72.7969\" y2=\"72.7969\"/><text fill=\"#000000\" font-family=\"sans-serif\" font-size=\"14\" font-weight=\"bold\" lengthAdjust=\"spacingAndGlyphs\" textLength=\"45\" x=\"190\" y=\"65.4951\">Test2</text><!--MD5=[a60fb756f580feb9fd8e2cf1329b5c91]\n",
       "entity E3--><rect fill=\"#FFFFFF\" height=\"52.5938\" style=\"stroke: #000000; stroke-width: 1.5;\" width=\"91\" x=\"732.5\" y=\"84\"/><text fill=\"#000000\" font-family=\"sans-serif\" font-size=\"14\" font-style=\"italic\" lengthAdjust=\"spacingAndGlyphs\" textLength=\"71\" x=\"742.5\" y=\"106.9951\">«part def»</text><text fill=\"#000000\" font-family=\"sans-serif\" font-size=\"14\" lengthAdjust=\"spacingAndGlyphs\" textLength=\"9\" x=\"773.5\" y=\"123.292\">A</text><!--MD5=[21dd76c19d33815960c0e92fef8f0eef]\n",
       "entity E5--><rect fill=\"#FFFFFF\" height=\"52.5938\" style=\"stroke: #000000; stroke-width: 1.5;\" width=\"91\" x=\"584.5\" y=\"84\"/><text fill=\"#000000\" font-family=\"sans-serif\" font-size=\"14\" font-style=\"italic\" lengthAdjust=\"spacingAndGlyphs\" textLength=\"71\" x=\"594.5\" y=\"106.9951\">«part def»</text><text fill=\"#000000\" font-family=\"sans-serif\" font-size=\"14\" lengthAdjust=\"spacingAndGlyphs\" textLength=\"10\" x=\"625\" y=\"123.292\">B</text><g id=\"E1.E6.E7\"><rect fill=\"#FFFFFF\" height=\"50\" rx=\"12.5\" ry=\"12.5\" style=\"stroke: #383838; stroke-width: 1.5;\" width=\"50\" x=\"478\" y=\"85.5\"/><line style=\"stroke: #383838; stroke-width: 1.5;\" x1=\"478\" x2=\"528\" y1=\"111.7969\" y2=\"111.7969\"/><text fill=\"#000000\" font-family=\"sans-serif\" font-size=\"14\" lengthAdjust=\"spacingAndGlyphs\" textLength=\"25\" x=\"490.5\" y=\"103.4951\">x: A</text></g><g id=\"E1.E6.E8\"><rect fill=\"#FFFFFF\" height=\"50\" rx=\"12.5\" ry=\"12.5\" style=\"stroke: #383838; stroke-width: 1.5;\" width=\"50\" x=\"393\" y=\"85.5\"/><line style=\"stroke: #383838; stroke-width: 1.5;\" x1=\"393\" x2=\"443\" y1=\"111.7969\" y2=\"111.7969\"/><text fill=\"#000000\" font-family=\"sans-serif\" font-size=\"14\" lengthAdjust=\"spacingAndGlyphs\" textLength=\"26\" x=\"405\" y=\"103.4951\">y: B</text></g><g id=\"E1.E9.E10\"><rect fill=\"#FFFFFF\" height=\"50\" rx=\"12.5\" ry=\"12.5\" style=\"stroke: #383838; stroke-width: 1.5;\" width=\"50\" x=\"287\" y=\"85.5\"/><line style=\"stroke: #383838; stroke-width: 1.5;\" x1=\"287\" x2=\"337\" y1=\"111.7969\" y2=\"111.7969\"/><text fill=\"#000000\" font-family=\"sans-serif\" font-size=\"14\" lengthAdjust=\"spacingAndGlyphs\" textLength=\"25\" x=\"299.5\" y=\"103.4951\">x: A</text></g><g id=\"E1.E9.E11\"><rect fill=\"#FFFFFF\" height=\"50\" rx=\"12.5\" ry=\"12.5\" style=\"stroke: #383838; stroke-width: 1.5;\" width=\"50\" x=\"202\" y=\"85.5\"/><line style=\"stroke: #383838; stroke-width: 1.5;\" x1=\"202\" x2=\"252\" y1=\"111.7969\" y2=\"111.7969\"/><text fill=\"#000000\" font-family=\"sans-serif\" font-size=\"14\" lengthAdjust=\"spacingAndGlyphs\" textLength=\"26\" x=\"214\" y=\"103.4951\">y: B</text></g><g id=\"E1.E12\"><rect fill=\"#FFFFFF\" height=\"50\" rx=\"12.5\" ry=\"12.5\" style=\"stroke: #383838; stroke-width: 1.5;\" width=\"50\" x=\"117\" y=\"85.5\"/><line style=\"stroke: #383838; stroke-width: 1.5;\" x1=\"117\" x2=\"167\" y1=\"111.7969\" y2=\"111.7969\"/><text fill=\"#000000\" font-family=\"sans-serif\" font-size=\"14\" lengthAdjust=\"spacingAndGlyphs\" textLength=\"25\" x=\"129.5\" y=\"103.4951\">x: A</text></g><g id=\"E1.E13\"><rect fill=\"#FFFFFF\" height=\"50\" rx=\"12.5\" ry=\"12.5\" style=\"stroke: #383838; stroke-width: 1.5;\" width=\"50\" x=\"32\" y=\"85.5\"/><line style=\"stroke: #383838; stroke-width: 1.5;\" x1=\"32\" x2=\"82\" y1=\"111.7969\" y2=\"111.7969\"/><text fill=\"#000000\" font-family=\"sans-serif\" font-size=\"14\" lengthAdjust=\"spacingAndGlyphs\" textLength=\"26\" x=\"44\" y=\"103.4951\">y: B</text></g><!--MD5=[45113b272876d2f5e6f9c8581417db83]\n",
       "@startuml\r\n",
       "skinparam ranksep 8\r\n",
       "skinparam rectangle {\r\n",
       " backgroundColor<<block>> LightGreen\r\n",
       "}\r\n",
       "skinparam monochrome true\r\n",
       "skinparam classbackgroundcolor white\r\n",
       "skinparam shadowing false\r\n",
       "skinparam wrapWidth 300\r\n",
       "hide circle\r\n",
       "\r\n",
       "package \"CircularImport\" as E1   {\r\n",
       "package \"P1\" as E2   {\r\n",
       "rec def \"A\" as E3  <<part def>> {\r\n",
       "}\r\n",
       "}\r\n",
       "package \"P2\" as E4   {\r\n",
       "rec def \"B\" as E5  <<part def>> {\r\n",
       "}\r\n",
       "}\r\n",
       "package \"Test1\" as E6   {\r\n",
       "rec usage \"x: A\" as E7  {\r\n",
       "}\r\n",
       "rec usage \"y: B\" as E8  {\r\n",
       "}\r\n",
       "}\r\n",
       "package \"Test2\" as E9   {\r\n",
       "rec usage \"x: A\" as E10  {\r\n",
       "}\r\n",
       "rec usage \"y: B\" as E11  {\r\n",
       "}\r\n",
       "}\r\n",
       "rec usage \"x: A\" as E12  {\r\n",
       "}\r\n",
       "rec usage \"y: B\" as E13  {\r\n",
       "}\r\n",
       "}\r\n",
       "@enduml\r\n",
       "\n",
       "PlantUML version 1.2020.13(Sat Jun 13 12:26:38 UTC 2020)\n",
       "(EPL source distribution)\n",
       "Java Runtime: OpenJDK Runtime Environment\n",
       "JVM: OpenJDK 64-Bit Server VM\n",
       "Default Encoding: UTF-8\n",
       "Language: en\n",
       "Country: null\n",
       "--></g></svg>"
      ]
     },
     "execution_count": 40,
     "metadata": {},
     "output_type": "execute_result"
    }
   ],
   "source": [
    "%viz --style=\"DEFAULT\" --view=\"Interconnection\" \"CircularImport\""
   ]
  },
  {
   "cell_type": "code",
   "execution_count": 41,
   "id": "applicable-rings",
   "metadata": {
    "execution": {
     "iopub.execute_input": "2021-03-26T09:40:18.953133Z",
     "iopub.status.busy": "2021-03-26T09:40:18.952728Z",
     "iopub.status.idle": "2021-03-26T09:40:18.955837Z",
     "shell.execute_reply": "2021-03-26T09:40:18.955484Z"
    }
   },
   "outputs": [
    {
     "data": {
      "text/plain": [
       "java.lang.IllegalArgumentException: Invalid View: Action View candidates are: Default Tree StateMachine Interconnection Activity Sequence MIXED \n",
       "\tat org.omg.sysml.plantuml.SysML2PlantUMLSvc.setView(SysML2PlantUMLSvc.java:63)\n",
       "\tat org.omg.sysml.interactive.SysMLInteractive.viz(SysMLInteractive.java:286)\n",
       "\tat org.omg.sysml.jupyter.kernel.magic.Viz.viz(Viz.java:47)\n",
       "\tat jdk.internal.reflect.GeneratedMethodAccessor9.invoke(Unknown Source)\n",
       "\tat java.base/jdk.internal.reflect.DelegatingMethodAccessorImpl.invoke(DelegatingMethodAccessorImpl.java:43)\n",
       "\tat java.base/java.lang.reflect.Method.invoke(Method.java:568)\n",
       "\tat io.github.spencerpark.jupyter.kernel.magic.registry.Magics.invoke(Magics.java:89)\n",
       "\tat io.github.spencerpark.jupyter.kernel.magic.registry.Magics.access$000(Magics.java:8)\n",
       "\tat io.github.spencerpark.jupyter.kernel.magic.registry.Magics$LineReflectionMagicFunction.execute(Magics.java:149)\n",
       "\tat io.github.spencerpark.jupyter.kernel.magic.registry.Magics.applyLineMagic(Magics.java:26)\n",
       "\tat org.omg.sysml.jupyter.kernel.SysMLKernel.eval(SysMLKernel.java:76)\n",
       "\tat io.github.spencerpark.jupyter.kernel.BaseKernel.handleExecuteRequest(BaseKernel.java:334)\n",
       "\tat io.github.spencerpark.jupyter.channels.ShellChannel.lambda$bind$0(ShellChannel.java:64)\n",
       "\tat io.github.spencerpark.jupyter.channels.Loop.lambda$new$0(Loop.java:21)\n",
       "\tat io.github.spencerpark.jupyter.channels.Loop.run(Loop.java:78)\n"
      ]
     },
     "execution_count": 41,
     "metadata": {},
     "output_type": "execute_result"
    }
   ],
   "source": [
    "%viz --style=\"DEFAULT\" --view=\"Action\" \"CircularImport\""
   ]
  },
  {
   "cell_type": "code",
   "execution_count": 42,
   "id": "classical-conclusion",
   "metadata": {
    "execution": {
     "iopub.execute_input": "2021-03-26T09:40:19.006586Z",
     "iopub.status.busy": "2021-03-26T09:40:19.006141Z",
     "iopub.status.idle": "2021-03-26T09:40:19.039142Z",
     "shell.execute_reply": "2021-03-26T09:40:19.037846Z"
    }
   },
   "outputs": [
    {
     "data": {
      "image/svg+xml": [
       "<?xml version=\"1.0\" encoding=\"UTF-8\" standalone=\"no\"?><svg xmlns=\"http://www.w3.org/2000/svg\" xmlns:xlink=\"http://www.w3.org/1999/xlink\" contentScriptType=\"application/ecmascript\" contentStyleType=\"text/css\" height=\"303px\" preserveAspectRatio=\"none\" style=\"width:518px;height:303px;\" version=\"1.1\" viewBox=\"0 0 518 303\" width=\"518px\" zoomAndPan=\"magnify\"><defs/><g><!--MD5=[fbc87193dbaf4d95561dea2c320d4a47]\n",
       "cluster E1--><polygon fill=\"#FFFFFF\" points=\"16,6,134,6,141,28.2969,496,28.2969,496,291,16,291,16,6\" style=\"stroke: #000000; stroke-width: 1.5;\"/><line style=\"stroke: #000000; stroke-width: 1.5;\" x1=\"16\" x2=\"141\" y1=\"28.2969\" y2=\"28.2969\"/><text fill=\"#000000\" font-family=\"sans-serif\" font-size=\"14\" font-weight=\"bold\" lengthAdjust=\"spacingAndGlyphs\" textLength=\"112\" x=\"20\" y=\"20.9951\">CircularImport</text><!--MD5=[e4f7fae6ed58524ba242bb0b0d3be6b7]\n",
       "cluster E2--><polygon fill=\"#FFFFFF\" points=\"333,170,359,170,366,192.2969,431,192.2969,431,267,333,267,333,170\" style=\"stroke: #000000; stroke-width: 1.5;\"/><line style=\"stroke: #000000; stroke-width: 1.5;\" x1=\"333\" x2=\"366\" y1=\"192.2969\" y2=\"192.2969\"/><text fill=\"#000000\" font-family=\"sans-serif\" font-size=\"14\" font-weight=\"bold\" lengthAdjust=\"spacingAndGlyphs\" textLength=\"20\" x=\"337\" y=\"184.9951\">P1</text><!--MD5=[f6df4d0ebaf0b5dfb2ced0ae5af7c670]\n",
       "cluster E4--><polygon fill=\"#FFFFFF\" points=\"81,170,107,170,114,192.2969,179,192.2969,179,267,81,267,81,170\" style=\"stroke: #000000; stroke-width: 1.5;\"/><line style=\"stroke: #000000; stroke-width: 1.5;\" x1=\"81\" x2=\"114\" y1=\"192.2969\" y2=\"192.2969\"/><text fill=\"#000000\" font-family=\"sans-serif\" font-size=\"14\" font-weight=\"bold\" lengthAdjust=\"spacingAndGlyphs\" textLength=\"20\" x=\"85\" y=\"184.9951\">P2</text><!--MD5=[14e3b0961a2654348d326746436168a1]\n",
       "cluster E6--><polygon fill=\"#FFFFFF\" points=\"268,49,319,49,326,71.2969,419,71.2969,419,146,268,146,268,49\" style=\"stroke: #000000; stroke-width: 1.5;\"/><line style=\"stroke: #000000; stroke-width: 1.5;\" x1=\"268\" x2=\"326\" y1=\"71.2969\" y2=\"71.2969\"/><text fill=\"#000000\" font-family=\"sans-serif\" font-size=\"14\" font-weight=\"bold\" lengthAdjust=\"spacingAndGlyphs\" textLength=\"45\" x=\"272\" y=\"63.9951\">Test1</text><!--MD5=[7f149f147074ac12df2cb0a7728a5fb0]\n",
       "cluster E9--><polygon fill=\"#FFFFFF\" points=\"93,49,144,49,151,71.2969,244,71.2969,244,146,93,146,93,49\" style=\"stroke: #000000; stroke-width: 1.5;\"/><line style=\"stroke: #000000; stroke-width: 1.5;\" x1=\"93\" x2=\"151\" y1=\"71.2969\" y2=\"71.2969\"/><text fill=\"#000000\" font-family=\"sans-serif\" font-size=\"14\" font-weight=\"bold\" lengthAdjust=\"spacingAndGlyphs\" textLength=\"45\" x=\"97\" y=\"63.9951\">Test2</text><!--MD5=[49a0ec8f00dab7302a31f22d0f0fe584]\n",
       "class E12--><rect fill=\"#FFFFFF\" height=\"45.9375\" id=\"E12\" rx=\"10\" ry=\"10\" style=\"stroke: #383838; stroke-width: 1.5;\" width=\"42\" x=\"438\" y=\"84\"/><text fill=\"#000000\" font-family=\"sans-serif\" font-size=\"12\" font-style=\"italic\" lengthAdjust=\"spacingAndGlyphs\" textLength=\"40\" x=\"439\" y=\"100.1387\">«part»</text><text fill=\"#000000\" font-family=\"sans-serif\" font-size=\"12\" lengthAdjust=\"spacingAndGlyphs\" textLength=\"22\" x=\"448\" y=\"114.1074\">x: A</text><line style=\"stroke: #383838; stroke-width: 1.5;\" x1=\"439\" x2=\"479\" y1=\"121.9375\" y2=\"121.9375\"/><!--MD5=[ee3c913d1a06f366521f9ef512b67efe]\n",
       "class E13--><rect fill=\"#FFFFFF\" height=\"45.9375\" id=\"E13\" rx=\"10\" ry=\"10\" style=\"stroke: #383838; stroke-width: 1.5;\" width=\"42\" x=\"32\" y=\"84\"/><text fill=\"#000000\" font-family=\"sans-serif\" font-size=\"12\" font-style=\"italic\" lengthAdjust=\"spacingAndGlyphs\" textLength=\"40\" x=\"33\" y=\"100.1387\">«part»</text><text fill=\"#000000\" font-family=\"sans-serif\" font-size=\"12\" lengthAdjust=\"spacingAndGlyphs\" textLength=\"22\" x=\"42\" y=\"114.1074\">y: B</text><line style=\"stroke: #383838; stroke-width: 1.5;\" x1=\"33\" x2=\"73\" y1=\"121.9375\" y2=\"121.9375\"/><!--MD5=[09b614a08d8cba4a07c9adeb5e0fee81]\n",
       "class E3--><rect fill=\"#FFFFFF\" height=\"45.9375\" id=\"E3\" style=\"stroke: #383838; stroke-width: 1.5;\" width=\"66\" x=\"349\" y=\"205\"/><text fill=\"#000000\" font-family=\"sans-serif\" font-size=\"12\" font-style=\"italic\" lengthAdjust=\"spacingAndGlyphs\" textLength=\"64\" x=\"350\" y=\"221.1387\">«part def»</text><text fill=\"#000000\" font-family=\"sans-serif\" font-size=\"12\" lengthAdjust=\"spacingAndGlyphs\" textLength=\"8\" x=\"378\" y=\"235.1074\">A</text><line style=\"stroke: #383838; stroke-width: 1.5;\" x1=\"350\" x2=\"414\" y1=\"242.9375\" y2=\"242.9375\"/><!--MD5=[270fce915f116d4de14055a7c1d9a0f3]\n",
       "class E5--><rect fill=\"#FFFFFF\" height=\"45.9375\" id=\"E5\" style=\"stroke: #383838; stroke-width: 1.5;\" width=\"66\" x=\"97\" y=\"205\"/><text fill=\"#000000\" font-family=\"sans-serif\" font-size=\"12\" font-style=\"italic\" lengthAdjust=\"spacingAndGlyphs\" textLength=\"64\" x=\"98\" y=\"221.1387\">«part def»</text><text fill=\"#000000\" font-family=\"sans-serif\" font-size=\"12\" lengthAdjust=\"spacingAndGlyphs\" textLength=\"8\" x=\"126\" y=\"235.1074\">B</text><line style=\"stroke: #383838; stroke-width: 1.5;\" x1=\"98\" x2=\"162\" y1=\"242.9375\" y2=\"242.9375\"/><!--MD5=[2156ba9850f5573cc1fc38a6a4b2f02b]\n",
       "class E7--><rect fill=\"#FFFFFF\" height=\"45.9375\" id=\"E7\" rx=\"10\" ry=\"10\" style=\"stroke: #383838; stroke-width: 1.5;\" width=\"42\" x=\"361\" y=\"84\"/><text fill=\"#000000\" font-family=\"sans-serif\" font-size=\"12\" font-style=\"italic\" lengthAdjust=\"spacingAndGlyphs\" textLength=\"40\" x=\"362\" y=\"100.1387\">«part»</text><text fill=\"#000000\" font-family=\"sans-serif\" font-size=\"12\" lengthAdjust=\"spacingAndGlyphs\" textLength=\"22\" x=\"371\" y=\"114.1074\">x: A</text><line style=\"stroke: #383838; stroke-width: 1.5;\" x1=\"362\" x2=\"402\" y1=\"121.9375\" y2=\"121.9375\"/><!--MD5=[b9389687b975829384b498ac4b7476b2]\n",
       "class E8--><rect fill=\"#FFFFFF\" height=\"45.9375\" id=\"E8\" rx=\"10\" ry=\"10\" style=\"stroke: #383838; stroke-width: 1.5;\" width=\"42\" x=\"284\" y=\"84\"/><text fill=\"#000000\" font-family=\"sans-serif\" font-size=\"12\" font-style=\"italic\" lengthAdjust=\"spacingAndGlyphs\" textLength=\"40\" x=\"285\" y=\"100.1387\">«part»</text><text fill=\"#000000\" font-family=\"sans-serif\" font-size=\"12\" lengthAdjust=\"spacingAndGlyphs\" textLength=\"22\" x=\"294\" y=\"114.1074\">y: B</text><line style=\"stroke: #383838; stroke-width: 1.5;\" x1=\"285\" x2=\"325\" y1=\"121.9375\" y2=\"121.9375\"/><!--MD5=[96f4274e9e20536e775497830990834d]\n",
       "class E10--><rect fill=\"#FFFFFF\" height=\"45.9375\" id=\"E10\" rx=\"10\" ry=\"10\" style=\"stroke: #383838; stroke-width: 1.5;\" width=\"42\" x=\"186\" y=\"84\"/><text fill=\"#000000\" font-family=\"sans-serif\" font-size=\"12\" font-style=\"italic\" lengthAdjust=\"spacingAndGlyphs\" textLength=\"40\" x=\"187\" y=\"100.1387\">«part»</text><text fill=\"#000000\" font-family=\"sans-serif\" font-size=\"12\" lengthAdjust=\"spacingAndGlyphs\" textLength=\"22\" x=\"196\" y=\"114.1074\">x: A</text><line style=\"stroke: #383838; stroke-width: 1.5;\" x1=\"187\" x2=\"227\" y1=\"121.9375\" y2=\"121.9375\"/><!--MD5=[1dd1bfd58a279cf63c5f349dbc8fc6a1]\n",
       "class E11--><rect fill=\"#FFFFFF\" height=\"45.9375\" id=\"E11\" rx=\"10\" ry=\"10\" style=\"stroke: #383838; stroke-width: 1.5;\" width=\"42\" x=\"109\" y=\"84\"/><text fill=\"#000000\" font-family=\"sans-serif\" font-size=\"12\" font-style=\"italic\" lengthAdjust=\"spacingAndGlyphs\" textLength=\"40\" x=\"110\" y=\"100.1387\">«part»</text><text fill=\"#000000\" font-family=\"sans-serif\" font-size=\"12\" lengthAdjust=\"spacingAndGlyphs\" textLength=\"22\" x=\"119\" y=\"114.1074\">y: B</text><line style=\"stroke: #383838; stroke-width: 1.5;\" x1=\"110\" x2=\"150\" y1=\"121.9375\" y2=\"121.9375\"/><!--MD5=[14ccda38c055a5c0da953d572bc50960]\n",
       "link E7 to E3--><path d=\"M382,130.1 C382,145.37 382,166.16 382,184.57 \" fill=\"none\" id=\"E7-&gt;E3\" style=\"stroke: #383838; stroke-width: 1.0;\"/><polygon fill=\"#FFFFFF\" points=\"382,204.61,375,185.61,389,185.61,382,204.61\" style=\"stroke: #383838; stroke-width: 1.0;\"/><ellipse cx=\"377\" cy=\"179.91\" fill=\"#383838\" rx=\"2\" ry=\"2\" style=\"stroke: #383838; stroke-width: 1.0;\"/><ellipse cx=\"387\" cy=\"179.91\" fill=\"#383838\" rx=\"2\" ry=\"2\" style=\"stroke: #383838; stroke-width: 1.0;\"/><!--MD5=[1ccb2481ffa92f8d51a74ee30c51832a]\n",
       "link E8 to E5--><path d=\"M283.84,124.59 C272.23,133.52 257.5,144.61 244,154 C223.51,168.25 200.41,183.24 180.38,195.91 \" fill=\"none\" id=\"E8-&gt;E5\" style=\"stroke: #383838; stroke-width: 1.0;\"/><polygon fill=\"#FFFFFF\" points=\"163.36,206.57,175.7353,190.5434,183.175,202.403,163.36,206.57\" style=\"stroke: #383838; stroke-width: 1.0;\"/><ellipse cx=\"181.6267\" cy=\"189.2086\" fill=\"#383838\" rx=\"2\" ry=\"2\" style=\"stroke: #383838; stroke-width: 1.0;\"/><ellipse cx=\"186.9408\" cy=\"197.6797\" fill=\"#383838\" rx=\"2\" ry=\"2\" style=\"stroke: #383838; stroke-width: 1.0;\"/><!--MD5=[feeac5eb423634930294aa81f2d25a4c]\n",
       "link E10 to E3--><path d=\"M228.16,124.59 C239.77,133.52 254.5,144.61 268,154 C288.49,168.25 311.59,183.24 331.62,195.91 \" fill=\"none\" id=\"E10-&gt;E3\" style=\"stroke: #383838; stroke-width: 1.0;\"/><polygon fill=\"#FFFFFF\" points=\"348.64,206.57,328.825,202.403,336.2647,190.5434,348.64,206.57\" style=\"stroke: #383838; stroke-width: 1.0;\"/><ellipse cx=\"325.0592\" cy=\"197.6797\" fill=\"#383838\" rx=\"2\" ry=\"2\" style=\"stroke: #383838; stroke-width: 1.0;\"/><ellipse cx=\"330.3733\" cy=\"189.2086\" fill=\"#383838\" rx=\"2\" ry=\"2\" style=\"stroke: #383838; stroke-width: 1.0;\"/><!--MD5=[07b77f6f309248d16187045709d1c26e]\n",
       "link E11 to E5--><path d=\"M130,130.1 C130,145.37 130,166.16 130,184.57 \" fill=\"none\" id=\"E11-&gt;E5\" style=\"stroke: #383838; stroke-width: 1.0;\"/><polygon fill=\"#FFFFFF\" points=\"130,204.61,123,185.61,137,185.61,130,204.61\" style=\"stroke: #383838; stroke-width: 1.0;\"/><ellipse cx=\"125\" cy=\"179.91\" fill=\"#383838\" rx=\"2\" ry=\"2\" style=\"stroke: #383838; stroke-width: 1.0;\"/><ellipse cx=\"135\" cy=\"179.91\" fill=\"#383838\" rx=\"2\" ry=\"2\" style=\"stroke: #383838; stroke-width: 1.0;\"/><!--MD5=[39f41a0e550fb3d73b4d8135617e30a2]\n",
       "link E12 to E3--><path d=\"M444.7,130.1 C434.28,146.2 419.89,168.44 407.53,187.55 \" fill=\"none\" id=\"E12-&gt;E3\" style=\"stroke: #383838; stroke-width: 1.0;\"/><polygon fill=\"#FFFFFF\" points=\"396.49,204.61,400.9313,184.8546,412.6866,192.4581,396.49,204.61\" style=\"stroke: #383838; stroke-width: 1.0;\"/><ellipse cx=\"405.7063\" cy=\"181.1547\" fill=\"#383838\" rx=\"2\" ry=\"2\" style=\"stroke: #383838; stroke-width: 1.0;\"/><ellipse cx=\"414.103\" cy=\"186.5858\" fill=\"#383838\" rx=\"2\" ry=\"2\" style=\"stroke: #383838; stroke-width: 1.0;\"/><!--MD5=[066b2d8af59fea80ccdb3d54ad5c1091]\n",
       "link E13 to E5--><path d=\"M67.3,130.1 C77.72,146.2 92.11,168.44 104.47,187.55 \" fill=\"none\" id=\"E13-&gt;E5\" style=\"stroke: #383838; stroke-width: 1.0;\"/><polygon fill=\"#FFFFFF\" points=\"115.51,204.61,99.3134,192.4581,111.0687,184.8546,115.51,204.61\" style=\"stroke: #383838; stroke-width: 1.0;\"/><ellipse cx=\"97.897\" cy=\"186.5858\" fill=\"#383838\" rx=\"2\" ry=\"2\" style=\"stroke: #383838; stroke-width: 1.0;\"/><ellipse cx=\"106.2937\" cy=\"181.1547\" fill=\"#383838\" rx=\"2\" ry=\"2\" style=\"stroke: #383838; stroke-width: 1.0;\"/><!--MD5=[b9d8ef816e12bca3bc5ae33576e6fd52]\n",
       "@startuml\r\n",
       "skinparam monochrome true\r\n",
       "skinparam classbackgroundcolor white\r\n",
       "skinparam shadowing false\r\n",
       "skinparam wrapWidth 300\r\n",
       "hide circle\r\n",
       "\r\n",
       "package \"CircularImport\" as E1   {\r\n",
       "package \"P1\" as E2   {\r\n",
       "comp def \"A\" as E3  <<(T,blue)part def>> {\r\n",
       "}\r\n",
       "}\r\n",
       "package \"P2\" as E4   {\r\n",
       "comp def \"B\" as E5  <<(T,blue)part def>> {\r\n",
       "}\r\n",
       "}\r\n",
       "package \"Test1\" as E6   {\r\n",
       "comp usage \"x: A\" as E7  <<(T,blue)part>> {\r\n",
       "}\r\n",
       "comp usage \"y: B\" as E8  <<(T,blue)part>> {\r\n",
       "}\r\n",
       "E7 - -:|> E3\r\n",
       "E8 - -:|> E5\r\n",
       "}\r\n",
       "package \"Test2\" as E9   {\r\n",
       "comp usage \"x: A\" as E10  <<(T,blue)part>> {\r\n",
       "}\r\n",
       "comp usage \"y: B\" as E11  <<(T,blue)part>> {\r\n",
       "}\r\n",
       "E10 - -:|> E3\r\n",
       "E11 - -:|> E5\r\n",
       "}\r\n",
       "comp usage \"x: A\" as E12  <<(T,blue)part>> {\r\n",
       "}\r\n",
       "comp usage \"y: B\" as E13  <<(T,blue)part>> {\r\n",
       "}\r\n",
       "E12 - -:|> E3\r\n",
       "E13 - -:|> E5\r\n",
       "}\r\n",
       "@enduml\r\n",
       "\n",
       "PlantUML version 1.2020.13(Sat Jun 13 12:26:38 UTC 2020)\n",
       "(EPL source distribution)\n",
       "Java Runtime: OpenJDK Runtime Environment\n",
       "JVM: OpenJDK 64-Bit Server VM\n",
       "Default Encoding: UTF-8\n",
       "Language: en\n",
       "Country: null\n",
       "--></g></svg>"
      ]
     },
     "execution_count": 42,
     "metadata": {},
     "output_type": "execute_result"
    }
   ],
   "source": [
    "%viz --style=\"DEFAULT\" --view=\"Sequence\" \"CircularImport\""
   ]
  },
  {
   "cell_type": "code",
   "execution_count": 43,
   "id": "deadly-swaziland",
   "metadata": {
    "execution": {
     "iopub.execute_input": "2021-03-26T09:40:19.090859Z",
     "iopub.status.busy": "2021-03-26T09:40:19.090406Z",
     "iopub.status.idle": "2021-03-26T09:40:19.127665Z",
     "shell.execute_reply": "2021-03-26T09:40:19.126794Z"
    }
   },
   "outputs": [
    {
     "data": {
      "image/svg+xml": [
       "<?xml version=\"1.0\" encoding=\"UTF-8\" standalone=\"no\"?><svg xmlns=\"http://www.w3.org/2000/svg\" xmlns:xlink=\"http://www.w3.org/1999/xlink\" contentScriptType=\"application/ecmascript\" contentStyleType=\"text/css\" height=\"303px\" preserveAspectRatio=\"none\" style=\"width:518px;height:303px;\" version=\"1.1\" viewBox=\"0 0 518 303\" width=\"518px\" zoomAndPan=\"magnify\"><defs/><g><!--MD5=[fbc87193dbaf4d95561dea2c320d4a47]\n",
       "cluster E1--><polygon fill=\"#FFFFFF\" points=\"16,6,134,6,141,28.2969,496,28.2969,496,291,16,291,16,6\" style=\"stroke: #000000; stroke-width: 1.5;\"/><line style=\"stroke: #000000; stroke-width: 1.5;\" x1=\"16\" x2=\"141\" y1=\"28.2969\" y2=\"28.2969\"/><text fill=\"#000000\" font-family=\"sans-serif\" font-size=\"14\" font-weight=\"bold\" lengthAdjust=\"spacingAndGlyphs\" textLength=\"112\" x=\"20\" y=\"20.9951\">CircularImport</text><!--MD5=[e4f7fae6ed58524ba242bb0b0d3be6b7]\n",
       "cluster E2--><polygon fill=\"#FFFFFF\" points=\"333,170,359,170,366,192.2969,431,192.2969,431,267,333,267,333,170\" style=\"stroke: #000000; stroke-width: 1.5;\"/><line style=\"stroke: #000000; stroke-width: 1.5;\" x1=\"333\" x2=\"366\" y1=\"192.2969\" y2=\"192.2969\"/><text fill=\"#000000\" font-family=\"sans-serif\" font-size=\"14\" font-weight=\"bold\" lengthAdjust=\"spacingAndGlyphs\" textLength=\"20\" x=\"337\" y=\"184.9951\">P1</text><!--MD5=[f6df4d0ebaf0b5dfb2ced0ae5af7c670]\n",
       "cluster E4--><polygon fill=\"#FFFFFF\" points=\"81,170,107,170,114,192.2969,179,192.2969,179,267,81,267,81,170\" style=\"stroke: #000000; stroke-width: 1.5;\"/><line style=\"stroke: #000000; stroke-width: 1.5;\" x1=\"81\" x2=\"114\" y1=\"192.2969\" y2=\"192.2969\"/><text fill=\"#000000\" font-family=\"sans-serif\" font-size=\"14\" font-weight=\"bold\" lengthAdjust=\"spacingAndGlyphs\" textLength=\"20\" x=\"85\" y=\"184.9951\">P2</text><!--MD5=[14e3b0961a2654348d326746436168a1]\n",
       "cluster E6--><polygon fill=\"#FFFFFF\" points=\"268,49,319,49,326,71.2969,419,71.2969,419,146,268,146,268,49\" style=\"stroke: #000000; stroke-width: 1.5;\"/><line style=\"stroke: #000000; stroke-width: 1.5;\" x1=\"268\" x2=\"326\" y1=\"71.2969\" y2=\"71.2969\"/><text fill=\"#000000\" font-family=\"sans-serif\" font-size=\"14\" font-weight=\"bold\" lengthAdjust=\"spacingAndGlyphs\" textLength=\"45\" x=\"272\" y=\"63.9951\">Test1</text><!--MD5=[7f149f147074ac12df2cb0a7728a5fb0]\n",
       "cluster E9--><polygon fill=\"#FFFFFF\" points=\"93,49,144,49,151,71.2969,244,71.2969,244,146,93,146,93,49\" style=\"stroke: #000000; stroke-width: 1.5;\"/><line style=\"stroke: #000000; stroke-width: 1.5;\" x1=\"93\" x2=\"151\" y1=\"71.2969\" y2=\"71.2969\"/><text fill=\"#000000\" font-family=\"sans-serif\" font-size=\"14\" font-weight=\"bold\" lengthAdjust=\"spacingAndGlyphs\" textLength=\"45\" x=\"97\" y=\"63.9951\">Test2</text><!--MD5=[49a0ec8f00dab7302a31f22d0f0fe584]\n",
       "class E12--><rect fill=\"#FFFFFF\" height=\"45.9375\" id=\"E12\" rx=\"10\" ry=\"10\" style=\"stroke: #383838; stroke-width: 1.5;\" width=\"42\" x=\"438\" y=\"84\"/><text fill=\"#000000\" font-family=\"sans-serif\" font-size=\"12\" font-style=\"italic\" lengthAdjust=\"spacingAndGlyphs\" textLength=\"40\" x=\"439\" y=\"100.1387\">«part»</text><text fill=\"#000000\" font-family=\"sans-serif\" font-size=\"12\" lengthAdjust=\"spacingAndGlyphs\" textLength=\"22\" x=\"448\" y=\"114.1074\">x: A</text><line style=\"stroke: #383838; stroke-width: 1.5;\" x1=\"439\" x2=\"479\" y1=\"121.9375\" y2=\"121.9375\"/><!--MD5=[ee3c913d1a06f366521f9ef512b67efe]\n",
       "class E13--><rect fill=\"#FFFFFF\" height=\"45.9375\" id=\"E13\" rx=\"10\" ry=\"10\" style=\"stroke: #383838; stroke-width: 1.5;\" width=\"42\" x=\"32\" y=\"84\"/><text fill=\"#000000\" font-family=\"sans-serif\" font-size=\"12\" font-style=\"italic\" lengthAdjust=\"spacingAndGlyphs\" textLength=\"40\" x=\"33\" y=\"100.1387\">«part»</text><text fill=\"#000000\" font-family=\"sans-serif\" font-size=\"12\" lengthAdjust=\"spacingAndGlyphs\" textLength=\"22\" x=\"42\" y=\"114.1074\">y: B</text><line style=\"stroke: #383838; stroke-width: 1.5;\" x1=\"33\" x2=\"73\" y1=\"121.9375\" y2=\"121.9375\"/><!--MD5=[09b614a08d8cba4a07c9adeb5e0fee81]\n",
       "class E3--><rect fill=\"#FFFFFF\" height=\"45.9375\" id=\"E3\" style=\"stroke: #383838; stroke-width: 1.5;\" width=\"66\" x=\"349\" y=\"205\"/><text fill=\"#000000\" font-family=\"sans-serif\" font-size=\"12\" font-style=\"italic\" lengthAdjust=\"spacingAndGlyphs\" textLength=\"64\" x=\"350\" y=\"221.1387\">«part def»</text><text fill=\"#000000\" font-family=\"sans-serif\" font-size=\"12\" lengthAdjust=\"spacingAndGlyphs\" textLength=\"8\" x=\"378\" y=\"235.1074\">A</text><line style=\"stroke: #383838; stroke-width: 1.5;\" x1=\"350\" x2=\"414\" y1=\"242.9375\" y2=\"242.9375\"/><!--MD5=[270fce915f116d4de14055a7c1d9a0f3]\n",
       "class E5--><rect fill=\"#FFFFFF\" height=\"45.9375\" id=\"E5\" style=\"stroke: #383838; stroke-width: 1.5;\" width=\"66\" x=\"97\" y=\"205\"/><text fill=\"#000000\" font-family=\"sans-serif\" font-size=\"12\" font-style=\"italic\" lengthAdjust=\"spacingAndGlyphs\" textLength=\"64\" x=\"98\" y=\"221.1387\">«part def»</text><text fill=\"#000000\" font-family=\"sans-serif\" font-size=\"12\" lengthAdjust=\"spacingAndGlyphs\" textLength=\"8\" x=\"126\" y=\"235.1074\">B</text><line style=\"stroke: #383838; stroke-width: 1.5;\" x1=\"98\" x2=\"162\" y1=\"242.9375\" y2=\"242.9375\"/><!--MD5=[2156ba9850f5573cc1fc38a6a4b2f02b]\n",
       "class E7--><rect fill=\"#FFFFFF\" height=\"45.9375\" id=\"E7\" rx=\"10\" ry=\"10\" style=\"stroke: #383838; stroke-width: 1.5;\" width=\"42\" x=\"361\" y=\"84\"/><text fill=\"#000000\" font-family=\"sans-serif\" font-size=\"12\" font-style=\"italic\" lengthAdjust=\"spacingAndGlyphs\" textLength=\"40\" x=\"362\" y=\"100.1387\">«part»</text><text fill=\"#000000\" font-family=\"sans-serif\" font-size=\"12\" lengthAdjust=\"spacingAndGlyphs\" textLength=\"22\" x=\"371\" y=\"114.1074\">x: A</text><line style=\"stroke: #383838; stroke-width: 1.5;\" x1=\"362\" x2=\"402\" y1=\"121.9375\" y2=\"121.9375\"/><!--MD5=[b9389687b975829384b498ac4b7476b2]\n",
       "class E8--><rect fill=\"#FFFFFF\" height=\"45.9375\" id=\"E8\" rx=\"10\" ry=\"10\" style=\"stroke: #383838; stroke-width: 1.5;\" width=\"42\" x=\"284\" y=\"84\"/><text fill=\"#000000\" font-family=\"sans-serif\" font-size=\"12\" font-style=\"italic\" lengthAdjust=\"spacingAndGlyphs\" textLength=\"40\" x=\"285\" y=\"100.1387\">«part»</text><text fill=\"#000000\" font-family=\"sans-serif\" font-size=\"12\" lengthAdjust=\"spacingAndGlyphs\" textLength=\"22\" x=\"294\" y=\"114.1074\">y: B</text><line style=\"stroke: #383838; stroke-width: 1.5;\" x1=\"285\" x2=\"325\" y1=\"121.9375\" y2=\"121.9375\"/><!--MD5=[96f4274e9e20536e775497830990834d]\n",
       "class E10--><rect fill=\"#FFFFFF\" height=\"45.9375\" id=\"E10\" rx=\"10\" ry=\"10\" style=\"stroke: #383838; stroke-width: 1.5;\" width=\"42\" x=\"186\" y=\"84\"/><text fill=\"#000000\" font-family=\"sans-serif\" font-size=\"12\" font-style=\"italic\" lengthAdjust=\"spacingAndGlyphs\" textLength=\"40\" x=\"187\" y=\"100.1387\">«part»</text><text fill=\"#000000\" font-family=\"sans-serif\" font-size=\"12\" lengthAdjust=\"spacingAndGlyphs\" textLength=\"22\" x=\"196\" y=\"114.1074\">x: A</text><line style=\"stroke: #383838; stroke-width: 1.5;\" x1=\"187\" x2=\"227\" y1=\"121.9375\" y2=\"121.9375\"/><!--MD5=[1dd1bfd58a279cf63c5f349dbc8fc6a1]\n",
       "class E11--><rect fill=\"#FFFFFF\" height=\"45.9375\" id=\"E11\" rx=\"10\" ry=\"10\" style=\"stroke: #383838; stroke-width: 1.5;\" width=\"42\" x=\"109\" y=\"84\"/><text fill=\"#000000\" font-family=\"sans-serif\" font-size=\"12\" font-style=\"italic\" lengthAdjust=\"spacingAndGlyphs\" textLength=\"40\" x=\"110\" y=\"100.1387\">«part»</text><text fill=\"#000000\" font-family=\"sans-serif\" font-size=\"12\" lengthAdjust=\"spacingAndGlyphs\" textLength=\"22\" x=\"119\" y=\"114.1074\">y: B</text><line style=\"stroke: #383838; stroke-width: 1.5;\" x1=\"110\" x2=\"150\" y1=\"121.9375\" y2=\"121.9375\"/><!--MD5=[14ccda38c055a5c0da953d572bc50960]\n",
       "link E7 to E3--><path d=\"M382,130.1 C382,145.37 382,166.16 382,184.57 \" fill=\"none\" id=\"E7-&gt;E3\" style=\"stroke: #383838; stroke-width: 1.0;\"/><polygon fill=\"#FFFFFF\" points=\"382,204.61,375,185.61,389,185.61,382,204.61\" style=\"stroke: #383838; stroke-width: 1.0;\"/><ellipse cx=\"377\" cy=\"179.91\" fill=\"#383838\" rx=\"2\" ry=\"2\" style=\"stroke: #383838; stroke-width: 1.0;\"/><ellipse cx=\"387\" cy=\"179.91\" fill=\"#383838\" rx=\"2\" ry=\"2\" style=\"stroke: #383838; stroke-width: 1.0;\"/><!--MD5=[1ccb2481ffa92f8d51a74ee30c51832a]\n",
       "link E8 to E5--><path d=\"M283.84,124.59 C272.23,133.52 257.5,144.61 244,154 C223.51,168.25 200.41,183.24 180.38,195.91 \" fill=\"none\" id=\"E8-&gt;E5\" style=\"stroke: #383838; stroke-width: 1.0;\"/><polygon fill=\"#FFFFFF\" points=\"163.36,206.57,175.7353,190.5434,183.175,202.403,163.36,206.57\" style=\"stroke: #383838; stroke-width: 1.0;\"/><ellipse cx=\"181.6267\" cy=\"189.2086\" fill=\"#383838\" rx=\"2\" ry=\"2\" style=\"stroke: #383838; stroke-width: 1.0;\"/><ellipse cx=\"186.9408\" cy=\"197.6797\" fill=\"#383838\" rx=\"2\" ry=\"2\" style=\"stroke: #383838; stroke-width: 1.0;\"/><!--MD5=[feeac5eb423634930294aa81f2d25a4c]\n",
       "link E10 to E3--><path d=\"M228.16,124.59 C239.77,133.52 254.5,144.61 268,154 C288.49,168.25 311.59,183.24 331.62,195.91 \" fill=\"none\" id=\"E10-&gt;E3\" style=\"stroke: #383838; stroke-width: 1.0;\"/><polygon fill=\"#FFFFFF\" points=\"348.64,206.57,328.825,202.403,336.2647,190.5434,348.64,206.57\" style=\"stroke: #383838; stroke-width: 1.0;\"/><ellipse cx=\"325.0592\" cy=\"197.6797\" fill=\"#383838\" rx=\"2\" ry=\"2\" style=\"stroke: #383838; stroke-width: 1.0;\"/><ellipse cx=\"330.3733\" cy=\"189.2086\" fill=\"#383838\" rx=\"2\" ry=\"2\" style=\"stroke: #383838; stroke-width: 1.0;\"/><!--MD5=[07b77f6f309248d16187045709d1c26e]\n",
       "link E11 to E5--><path d=\"M130,130.1 C130,145.37 130,166.16 130,184.57 \" fill=\"none\" id=\"E11-&gt;E5\" style=\"stroke: #383838; stroke-width: 1.0;\"/><polygon fill=\"#FFFFFF\" points=\"130,204.61,123,185.61,137,185.61,130,204.61\" style=\"stroke: #383838; stroke-width: 1.0;\"/><ellipse cx=\"125\" cy=\"179.91\" fill=\"#383838\" rx=\"2\" ry=\"2\" style=\"stroke: #383838; stroke-width: 1.0;\"/><ellipse cx=\"135\" cy=\"179.91\" fill=\"#383838\" rx=\"2\" ry=\"2\" style=\"stroke: #383838; stroke-width: 1.0;\"/><!--MD5=[39f41a0e550fb3d73b4d8135617e30a2]\n",
       "link E12 to E3--><path d=\"M444.7,130.1 C434.28,146.2 419.89,168.44 407.53,187.55 \" fill=\"none\" id=\"E12-&gt;E3\" style=\"stroke: #383838; stroke-width: 1.0;\"/><polygon fill=\"#FFFFFF\" points=\"396.49,204.61,400.9313,184.8546,412.6866,192.4581,396.49,204.61\" style=\"stroke: #383838; stroke-width: 1.0;\"/><ellipse cx=\"405.7063\" cy=\"181.1547\" fill=\"#383838\" rx=\"2\" ry=\"2\" style=\"stroke: #383838; stroke-width: 1.0;\"/><ellipse cx=\"414.103\" cy=\"186.5858\" fill=\"#383838\" rx=\"2\" ry=\"2\" style=\"stroke: #383838; stroke-width: 1.0;\"/><!--MD5=[066b2d8af59fea80ccdb3d54ad5c1091]\n",
       "link E13 to E5--><path d=\"M67.3,130.1 C77.72,146.2 92.11,168.44 104.47,187.55 \" fill=\"none\" id=\"E13-&gt;E5\" style=\"stroke: #383838; stroke-width: 1.0;\"/><polygon fill=\"#FFFFFF\" points=\"115.51,204.61,99.3134,192.4581,111.0687,184.8546,115.51,204.61\" style=\"stroke: #383838; stroke-width: 1.0;\"/><ellipse cx=\"97.897\" cy=\"186.5858\" fill=\"#383838\" rx=\"2\" ry=\"2\" style=\"stroke: #383838; stroke-width: 1.0;\"/><ellipse cx=\"106.2937\" cy=\"181.1547\" fill=\"#383838\" rx=\"2\" ry=\"2\" style=\"stroke: #383838; stroke-width: 1.0;\"/><!--MD5=[b9d8ef816e12bca3bc5ae33576e6fd52]\n",
       "@startuml\r\n",
       "skinparam monochrome true\r\n",
       "skinparam classbackgroundcolor white\r\n",
       "skinparam shadowing false\r\n",
       "skinparam wrapWidth 300\r\n",
       "hide circle\r\n",
       "\r\n",
       "package \"CircularImport\" as E1   {\r\n",
       "package \"P1\" as E2   {\r\n",
       "comp def \"A\" as E3  <<(T,blue)part def>> {\r\n",
       "}\r\n",
       "}\r\n",
       "package \"P2\" as E4   {\r\n",
       "comp def \"B\" as E5  <<(T,blue)part def>> {\r\n",
       "}\r\n",
       "}\r\n",
       "package \"Test1\" as E6   {\r\n",
       "comp usage \"x: A\" as E7  <<(T,blue)part>> {\r\n",
       "}\r\n",
       "comp usage \"y: B\" as E8  <<(T,blue)part>> {\r\n",
       "}\r\n",
       "E7 - -:|> E3\r\n",
       "E8 - -:|> E5\r\n",
       "}\r\n",
       "package \"Test2\" as E9   {\r\n",
       "comp usage \"x: A\" as E10  <<(T,blue)part>> {\r\n",
       "}\r\n",
       "comp usage \"y: B\" as E11  <<(T,blue)part>> {\r\n",
       "}\r\n",
       "E10 - -:|> E3\r\n",
       "E11 - -:|> E5\r\n",
       "}\r\n",
       "comp usage \"x: A\" as E12  <<(T,blue)part>> {\r\n",
       "}\r\n",
       "comp usage \"y: B\" as E13  <<(T,blue)part>> {\r\n",
       "}\r\n",
       "E12 - -:|> E3\r\n",
       "E13 - -:|> E5\r\n",
       "}\r\n",
       "@enduml\r\n",
       "\n",
       "PlantUML version 1.2020.13(Sat Jun 13 12:26:38 UTC 2020)\n",
       "(EPL source distribution)\n",
       "Java Runtime: OpenJDK Runtime Environment\n",
       "JVM: OpenJDK 64-Bit Server VM\n",
       "Default Encoding: UTF-8\n",
       "Language: en\n",
       "Country: null\n",
       "--></g></svg>"
      ]
     },
     "execution_count": 43,
     "metadata": {},
     "output_type": "execute_result"
    }
   ],
   "source": [
    "%viz --style=\"DEFAULT\" --view=\"MIXED\" \"CircularImport\""
   ]
  },
  {
   "cell_type": "code",
   "execution_count": 44,
   "id": "alive-active",
   "metadata": {
    "execution": {
     "iopub.execute_input": "2021-03-26T09:40:19.185403Z",
     "iopub.status.busy": "2021-03-26T09:40:19.184927Z",
     "iopub.status.idle": "2021-03-26T09:40:19.215497Z",
     "shell.execute_reply": "2021-03-26T09:40:19.214024Z"
    }
   },
   "outputs": [
    {
     "data": {
      "image/svg+xml": [
       "<?xml version=\"1.0\" encoding=\"UTF-8\" standalone=\"no\"?><svg xmlns=\"http://www.w3.org/2000/svg\" xmlns:xlink=\"http://www.w3.org/1999/xlink\" contentScriptType=\"application/ecmascript\" contentStyleType=\"text/css\" height=\"303px\" preserveAspectRatio=\"none\" style=\"width:518px;height:303px;\" version=\"1.1\" viewBox=\"0 0 518 303\" width=\"518px\" zoomAndPan=\"magnify\"><defs/><g><!--MD5=[fbc87193dbaf4d95561dea2c320d4a47]\n",
       "cluster E1--><polygon fill=\"#FFFFFF\" points=\"16,6,134,6,141,28.2969,496,28.2969,496,291,16,291,16,6\" style=\"stroke: #000000; stroke-width: 1.5;\"/><line style=\"stroke: #000000; stroke-width: 1.5;\" x1=\"16\" x2=\"141\" y1=\"28.2969\" y2=\"28.2969\"/><text fill=\"#000000\" font-family=\"sans-serif\" font-size=\"14\" font-weight=\"bold\" lengthAdjust=\"spacingAndGlyphs\" textLength=\"112\" x=\"20\" y=\"20.9951\">CircularImport</text><!--MD5=[e4f7fae6ed58524ba242bb0b0d3be6b7]\n",
       "cluster E2--><polygon fill=\"#FFFFFF\" points=\"333,170,359,170,366,192.2969,431,192.2969,431,267,333,267,333,170\" style=\"stroke: #000000; stroke-width: 1.5;\"/><line style=\"stroke: #000000; stroke-width: 1.5;\" x1=\"333\" x2=\"366\" y1=\"192.2969\" y2=\"192.2969\"/><text fill=\"#000000\" font-family=\"sans-serif\" font-size=\"14\" font-weight=\"bold\" lengthAdjust=\"spacingAndGlyphs\" textLength=\"20\" x=\"337\" y=\"184.9951\">P1</text><!--MD5=[f6df4d0ebaf0b5dfb2ced0ae5af7c670]\n",
       "cluster E4--><polygon fill=\"#FFFFFF\" points=\"81,170,107,170,114,192.2969,179,192.2969,179,267,81,267,81,170\" style=\"stroke: #000000; stroke-width: 1.5;\"/><line style=\"stroke: #000000; stroke-width: 1.5;\" x1=\"81\" x2=\"114\" y1=\"192.2969\" y2=\"192.2969\"/><text fill=\"#000000\" font-family=\"sans-serif\" font-size=\"14\" font-weight=\"bold\" lengthAdjust=\"spacingAndGlyphs\" textLength=\"20\" x=\"85\" y=\"184.9951\">P2</text><!--MD5=[14e3b0961a2654348d326746436168a1]\n",
       "cluster E6--><polygon fill=\"#FFFFFF\" points=\"268,49,319,49,326,71.2969,419,71.2969,419,146,268,146,268,49\" style=\"stroke: #000000; stroke-width: 1.5;\"/><line style=\"stroke: #000000; stroke-width: 1.5;\" x1=\"268\" x2=\"326\" y1=\"71.2969\" y2=\"71.2969\"/><text fill=\"#000000\" font-family=\"sans-serif\" font-size=\"14\" font-weight=\"bold\" lengthAdjust=\"spacingAndGlyphs\" textLength=\"45\" x=\"272\" y=\"63.9951\">Test1</text><!--MD5=[7f149f147074ac12df2cb0a7728a5fb0]\n",
       "cluster E9--><polygon fill=\"#FFFFFF\" points=\"93,49,144,49,151,71.2969,244,71.2969,244,146,93,146,93,49\" style=\"stroke: #000000; stroke-width: 1.5;\"/><line style=\"stroke: #000000; stroke-width: 1.5;\" x1=\"93\" x2=\"151\" y1=\"71.2969\" y2=\"71.2969\"/><text fill=\"#000000\" font-family=\"sans-serif\" font-size=\"14\" font-weight=\"bold\" lengthAdjust=\"spacingAndGlyphs\" textLength=\"45\" x=\"97\" y=\"63.9951\">Test2</text><!--MD5=[49a0ec8f00dab7302a31f22d0f0fe584]\n",
       "class E12--><rect fill=\"#FFFFFF\" height=\"45.9375\" id=\"E12\" rx=\"10\" ry=\"10\" style=\"stroke: #383838; stroke-width: 1.5;\" width=\"42\" x=\"438\" y=\"84\"/><text fill=\"#000000\" font-family=\"sans-serif\" font-size=\"12\" font-style=\"italic\" lengthAdjust=\"spacingAndGlyphs\" textLength=\"40\" x=\"439\" y=\"100.1387\">«part»</text><text fill=\"#000000\" font-family=\"sans-serif\" font-size=\"12\" lengthAdjust=\"spacingAndGlyphs\" textLength=\"22\" x=\"448\" y=\"114.1074\">x: A</text><line style=\"stroke: #383838; stroke-width: 1.5;\" x1=\"439\" x2=\"479\" y1=\"121.9375\" y2=\"121.9375\"/><!--MD5=[ee3c913d1a06f366521f9ef512b67efe]\n",
       "class E13--><rect fill=\"#FFFFFF\" height=\"45.9375\" id=\"E13\" rx=\"10\" ry=\"10\" style=\"stroke: #383838; stroke-width: 1.5;\" width=\"42\" x=\"32\" y=\"84\"/><text fill=\"#000000\" font-family=\"sans-serif\" font-size=\"12\" font-style=\"italic\" lengthAdjust=\"spacingAndGlyphs\" textLength=\"40\" x=\"33\" y=\"100.1387\">«part»</text><text fill=\"#000000\" font-family=\"sans-serif\" font-size=\"12\" lengthAdjust=\"spacingAndGlyphs\" textLength=\"22\" x=\"42\" y=\"114.1074\">y: B</text><line style=\"stroke: #383838; stroke-width: 1.5;\" x1=\"33\" x2=\"73\" y1=\"121.9375\" y2=\"121.9375\"/><!--MD5=[09b614a08d8cba4a07c9adeb5e0fee81]\n",
       "class E3--><rect fill=\"#FFFFFF\" height=\"45.9375\" id=\"E3\" style=\"stroke: #383838; stroke-width: 1.5;\" width=\"66\" x=\"349\" y=\"205\"/><text fill=\"#000000\" font-family=\"sans-serif\" font-size=\"12\" font-style=\"italic\" lengthAdjust=\"spacingAndGlyphs\" textLength=\"64\" x=\"350\" y=\"221.1387\">«part def»</text><text fill=\"#000000\" font-family=\"sans-serif\" font-size=\"12\" lengthAdjust=\"spacingAndGlyphs\" textLength=\"8\" x=\"378\" y=\"235.1074\">A</text><line style=\"stroke: #383838; stroke-width: 1.5;\" x1=\"350\" x2=\"414\" y1=\"242.9375\" y2=\"242.9375\"/><!--MD5=[270fce915f116d4de14055a7c1d9a0f3]\n",
       "class E5--><rect fill=\"#FFFFFF\" height=\"45.9375\" id=\"E5\" style=\"stroke: #383838; stroke-width: 1.5;\" width=\"66\" x=\"97\" y=\"205\"/><text fill=\"#000000\" font-family=\"sans-serif\" font-size=\"12\" font-style=\"italic\" lengthAdjust=\"spacingAndGlyphs\" textLength=\"64\" x=\"98\" y=\"221.1387\">«part def»</text><text fill=\"#000000\" font-family=\"sans-serif\" font-size=\"12\" lengthAdjust=\"spacingAndGlyphs\" textLength=\"8\" x=\"126\" y=\"235.1074\">B</text><line style=\"stroke: #383838; stroke-width: 1.5;\" x1=\"98\" x2=\"162\" y1=\"242.9375\" y2=\"242.9375\"/><!--MD5=[2156ba9850f5573cc1fc38a6a4b2f02b]\n",
       "class E7--><rect fill=\"#FFFFFF\" height=\"45.9375\" id=\"E7\" rx=\"10\" ry=\"10\" style=\"stroke: #383838; stroke-width: 1.5;\" width=\"42\" x=\"361\" y=\"84\"/><text fill=\"#000000\" font-family=\"sans-serif\" font-size=\"12\" font-style=\"italic\" lengthAdjust=\"spacingAndGlyphs\" textLength=\"40\" x=\"362\" y=\"100.1387\">«part»</text><text fill=\"#000000\" font-family=\"sans-serif\" font-size=\"12\" lengthAdjust=\"spacingAndGlyphs\" textLength=\"22\" x=\"371\" y=\"114.1074\">x: A</text><line style=\"stroke: #383838; stroke-width: 1.5;\" x1=\"362\" x2=\"402\" y1=\"121.9375\" y2=\"121.9375\"/><!--MD5=[b9389687b975829384b498ac4b7476b2]\n",
       "class E8--><rect fill=\"#FFFFFF\" height=\"45.9375\" id=\"E8\" rx=\"10\" ry=\"10\" style=\"stroke: #383838; stroke-width: 1.5;\" width=\"42\" x=\"284\" y=\"84\"/><text fill=\"#000000\" font-family=\"sans-serif\" font-size=\"12\" font-style=\"italic\" lengthAdjust=\"spacingAndGlyphs\" textLength=\"40\" x=\"285\" y=\"100.1387\">«part»</text><text fill=\"#000000\" font-family=\"sans-serif\" font-size=\"12\" lengthAdjust=\"spacingAndGlyphs\" textLength=\"22\" x=\"294\" y=\"114.1074\">y: B</text><line style=\"stroke: #383838; stroke-width: 1.5;\" x1=\"285\" x2=\"325\" y1=\"121.9375\" y2=\"121.9375\"/><!--MD5=[96f4274e9e20536e775497830990834d]\n",
       "class E10--><rect fill=\"#FFFFFF\" height=\"45.9375\" id=\"E10\" rx=\"10\" ry=\"10\" style=\"stroke: #383838; stroke-width: 1.5;\" width=\"42\" x=\"186\" y=\"84\"/><text fill=\"#000000\" font-family=\"sans-serif\" font-size=\"12\" font-style=\"italic\" lengthAdjust=\"spacingAndGlyphs\" textLength=\"40\" x=\"187\" y=\"100.1387\">«part»</text><text fill=\"#000000\" font-family=\"sans-serif\" font-size=\"12\" lengthAdjust=\"spacingAndGlyphs\" textLength=\"22\" x=\"196\" y=\"114.1074\">x: A</text><line style=\"stroke: #383838; stroke-width: 1.5;\" x1=\"187\" x2=\"227\" y1=\"121.9375\" y2=\"121.9375\"/><!--MD5=[1dd1bfd58a279cf63c5f349dbc8fc6a1]\n",
       "class E11--><rect fill=\"#FFFFFF\" height=\"45.9375\" id=\"E11\" rx=\"10\" ry=\"10\" style=\"stroke: #383838; stroke-width: 1.5;\" width=\"42\" x=\"109\" y=\"84\"/><text fill=\"#000000\" font-family=\"sans-serif\" font-size=\"12\" font-style=\"italic\" lengthAdjust=\"spacingAndGlyphs\" textLength=\"40\" x=\"110\" y=\"100.1387\">«part»</text><text fill=\"#000000\" font-family=\"sans-serif\" font-size=\"12\" lengthAdjust=\"spacingAndGlyphs\" textLength=\"22\" x=\"119\" y=\"114.1074\">y: B</text><line style=\"stroke: #383838; stroke-width: 1.5;\" x1=\"110\" x2=\"150\" y1=\"121.9375\" y2=\"121.9375\"/><!--MD5=[14ccda38c055a5c0da953d572bc50960]\n",
       "link E7 to E3--><path d=\"M382,130.1 C382,145.37 382,166.16 382,184.57 \" fill=\"none\" id=\"E7-&gt;E3\" style=\"stroke: #383838; stroke-width: 1.0;\"/><polygon fill=\"#FFFFFF\" points=\"382,204.61,375,185.61,389,185.61,382,204.61\" style=\"stroke: #383838; stroke-width: 1.0;\"/><ellipse cx=\"377\" cy=\"179.91\" fill=\"#383838\" rx=\"2\" ry=\"2\" style=\"stroke: #383838; stroke-width: 1.0;\"/><ellipse cx=\"387\" cy=\"179.91\" fill=\"#383838\" rx=\"2\" ry=\"2\" style=\"stroke: #383838; stroke-width: 1.0;\"/><!--MD5=[1ccb2481ffa92f8d51a74ee30c51832a]\n",
       "link E8 to E5--><path d=\"M283.84,124.59 C272.23,133.52 257.5,144.61 244,154 C223.51,168.25 200.41,183.24 180.38,195.91 \" fill=\"none\" id=\"E8-&gt;E5\" style=\"stroke: #383838; stroke-width: 1.0;\"/><polygon fill=\"#FFFFFF\" points=\"163.36,206.57,175.7353,190.5434,183.175,202.403,163.36,206.57\" style=\"stroke: #383838; stroke-width: 1.0;\"/><ellipse cx=\"181.6267\" cy=\"189.2086\" fill=\"#383838\" rx=\"2\" ry=\"2\" style=\"stroke: #383838; stroke-width: 1.0;\"/><ellipse cx=\"186.9408\" cy=\"197.6797\" fill=\"#383838\" rx=\"2\" ry=\"2\" style=\"stroke: #383838; stroke-width: 1.0;\"/><!--MD5=[feeac5eb423634930294aa81f2d25a4c]\n",
       "link E10 to E3--><path d=\"M228.16,124.59 C239.77,133.52 254.5,144.61 268,154 C288.49,168.25 311.59,183.24 331.62,195.91 \" fill=\"none\" id=\"E10-&gt;E3\" style=\"stroke: #383838; stroke-width: 1.0;\"/><polygon fill=\"#FFFFFF\" points=\"348.64,206.57,328.825,202.403,336.2647,190.5434,348.64,206.57\" style=\"stroke: #383838; stroke-width: 1.0;\"/><ellipse cx=\"325.0592\" cy=\"197.6797\" fill=\"#383838\" rx=\"2\" ry=\"2\" style=\"stroke: #383838; stroke-width: 1.0;\"/><ellipse cx=\"330.3733\" cy=\"189.2086\" fill=\"#383838\" rx=\"2\" ry=\"2\" style=\"stroke: #383838; stroke-width: 1.0;\"/><!--MD5=[07b77f6f309248d16187045709d1c26e]\n",
       "link E11 to E5--><path d=\"M130,130.1 C130,145.37 130,166.16 130,184.57 \" fill=\"none\" id=\"E11-&gt;E5\" style=\"stroke: #383838; stroke-width: 1.0;\"/><polygon fill=\"#FFFFFF\" points=\"130,204.61,123,185.61,137,185.61,130,204.61\" style=\"stroke: #383838; stroke-width: 1.0;\"/><ellipse cx=\"125\" cy=\"179.91\" fill=\"#383838\" rx=\"2\" ry=\"2\" style=\"stroke: #383838; stroke-width: 1.0;\"/><ellipse cx=\"135\" cy=\"179.91\" fill=\"#383838\" rx=\"2\" ry=\"2\" style=\"stroke: #383838; stroke-width: 1.0;\"/><!--MD5=[39f41a0e550fb3d73b4d8135617e30a2]\n",
       "link E12 to E3--><path d=\"M444.7,130.1 C434.28,146.2 419.89,168.44 407.53,187.55 \" fill=\"none\" id=\"E12-&gt;E3\" style=\"stroke: #383838; stroke-width: 1.0;\"/><polygon fill=\"#FFFFFF\" points=\"396.49,204.61,400.9313,184.8546,412.6866,192.4581,396.49,204.61\" style=\"stroke: #383838; stroke-width: 1.0;\"/><ellipse cx=\"405.7063\" cy=\"181.1547\" fill=\"#383838\" rx=\"2\" ry=\"2\" style=\"stroke: #383838; stroke-width: 1.0;\"/><ellipse cx=\"414.103\" cy=\"186.5858\" fill=\"#383838\" rx=\"2\" ry=\"2\" style=\"stroke: #383838; stroke-width: 1.0;\"/><!--MD5=[066b2d8af59fea80ccdb3d54ad5c1091]\n",
       "link E13 to E5--><path d=\"M67.3,130.1 C77.72,146.2 92.11,168.44 104.47,187.55 \" fill=\"none\" id=\"E13-&gt;E5\" style=\"stroke: #383838; stroke-width: 1.0;\"/><polygon fill=\"#FFFFFF\" points=\"115.51,204.61,99.3134,192.4581,111.0687,184.8546,115.51,204.61\" style=\"stroke: #383838; stroke-width: 1.0;\"/><ellipse cx=\"97.897\" cy=\"186.5858\" fill=\"#383838\" rx=\"2\" ry=\"2\" style=\"stroke: #383838; stroke-width: 1.0;\"/><ellipse cx=\"106.2937\" cy=\"181.1547\" fill=\"#383838\" rx=\"2\" ry=\"2\" style=\"stroke: #383838; stroke-width: 1.0;\"/><!--MD5=[89e3465349983411bdee7f3343ec3be8]\n",
       "@startuml\r\n",
       "top to bottom direction\r\n",
       "skinparam monochrome true\r\n",
       "skinparam classbackgroundcolor white\r\n",
       "skinparam shadowing false\r\n",
       "skinparam wrapWidth 300\r\n",
       "hide circle\r\n",
       "\r\n",
       "package \"CircularImport\" as E1   {\r\n",
       "package \"P1\" as E2   {\r\n",
       "comp def \"A\" as E3  <<(T,blue)part def>> {\r\n",
       "}\r\n",
       "}\r\n",
       "package \"P2\" as E4   {\r\n",
       "comp def \"B\" as E5  <<(T,blue)part def>> {\r\n",
       "}\r\n",
       "}\r\n",
       "package \"Test1\" as E6   {\r\n",
       "comp usage \"x: A\" as E7  <<(T,blue)part>> {\r\n",
       "}\r\n",
       "comp usage \"y: B\" as E8  <<(T,blue)part>> {\r\n",
       "}\r\n",
       "E7 - -:|> E3\r\n",
       "E8 - -:|> E5\r\n",
       "}\r\n",
       "package \"Test2\" as E9   {\r\n",
       "comp usage \"x: A\" as E10  <<(T,blue)part>> {\r\n",
       "}\r\n",
       "comp usage \"y: B\" as E11  <<(T,blue)part>> {\r\n",
       "}\r\n",
       "E10 - -:|> E3\r\n",
       "E11 - -:|> E5\r\n",
       "}\r\n",
       "comp usage \"x: A\" as E12  <<(T,blue)part>> {\r\n",
       "}\r\n",
       "comp usage \"y: B\" as E13  <<(T,blue)part>> {\r\n",
       "}\r\n",
       "E12 - -:|> E3\r\n",
       "E13 - -:|> E5\r\n",
       "}\r\n",
       "@enduml\r\n",
       "\n",
       "PlantUML version 1.2020.13(Sat Jun 13 12:26:38 UTC 2020)\n",
       "(EPL source distribution)\n",
       "Java Runtime: OpenJDK Runtime Environment\n",
       "JVM: OpenJDK 64-Bit Server VM\n",
       "Default Encoding: UTF-8\n",
       "Language: en\n",
       "Country: null\n",
       "--></g></svg>"
      ]
     },
     "execution_count": 44,
     "metadata": {},
     "output_type": "execute_result"
    }
   ],
   "source": [
    "%viz --style=\"TB\" --view=\"Default\" \"CircularImport\""
   ]
  },
  {
   "cell_type": "code",
   "execution_count": 45,
   "id": "special-cologne",
   "metadata": {
    "execution": {
     "iopub.execute_input": "2021-03-26T09:40:19.269062Z",
     "iopub.status.busy": "2021-03-26T09:40:19.268565Z",
     "iopub.status.idle": "2021-03-26T09:40:19.301336Z",
     "shell.execute_reply": "2021-03-26T09:40:19.299873Z"
    }
   },
   "outputs": [
    {
     "data": {
      "image/svg+xml": [
       "<?xml version=\"1.0\" encoding=\"UTF-8\" standalone=\"no\"?><svg xmlns=\"http://www.w3.org/2000/svg\" xmlns:xlink=\"http://www.w3.org/1999/xlink\" contentScriptType=\"application/ecmascript\" contentStyleType=\"text/css\" height=\"303px\" preserveAspectRatio=\"none\" style=\"width:518px;height:303px;\" version=\"1.1\" viewBox=\"0 0 518 303\" width=\"518px\" zoomAndPan=\"magnify\"><defs/><g><!--MD5=[fbc87193dbaf4d95561dea2c320d4a47]\n",
       "cluster E1--><polygon fill=\"#FFFFFF\" points=\"16,6,134,6,141,28.2969,496,28.2969,496,291,16,291,16,6\" style=\"stroke: #000000; stroke-width: 1.5;\"/><line style=\"stroke: #000000; stroke-width: 1.5;\" x1=\"16\" x2=\"141\" y1=\"28.2969\" y2=\"28.2969\"/><text fill=\"#000000\" font-family=\"sans-serif\" font-size=\"14\" font-weight=\"bold\" lengthAdjust=\"spacingAndGlyphs\" textLength=\"112\" x=\"20\" y=\"20.9951\">CircularImport</text><!--MD5=[e4f7fae6ed58524ba242bb0b0d3be6b7]\n",
       "cluster E2--><polygon fill=\"#FFFFFF\" points=\"333,170,359,170,366,192.2969,431,192.2969,431,267,333,267,333,170\" style=\"stroke: #000000; stroke-width: 1.5;\"/><line style=\"stroke: #000000; stroke-width: 1.5;\" x1=\"333\" x2=\"366\" y1=\"192.2969\" y2=\"192.2969\"/><text fill=\"#000000\" font-family=\"sans-serif\" font-size=\"14\" font-weight=\"bold\" lengthAdjust=\"spacingAndGlyphs\" textLength=\"20\" x=\"337\" y=\"184.9951\">P1</text><!--MD5=[f6df4d0ebaf0b5dfb2ced0ae5af7c670]\n",
       "cluster E4--><polygon fill=\"#FFFFFF\" points=\"81,170,107,170,114,192.2969,179,192.2969,179,267,81,267,81,170\" style=\"stroke: #000000; stroke-width: 1.5;\"/><line style=\"stroke: #000000; stroke-width: 1.5;\" x1=\"81\" x2=\"114\" y1=\"192.2969\" y2=\"192.2969\"/><text fill=\"#000000\" font-family=\"sans-serif\" font-size=\"14\" font-weight=\"bold\" lengthAdjust=\"spacingAndGlyphs\" textLength=\"20\" x=\"85\" y=\"184.9951\">P2</text><!--MD5=[14e3b0961a2654348d326746436168a1]\n",
       "cluster E6--><polygon fill=\"#FFFFFF\" points=\"268,49,319,49,326,71.2969,419,71.2969,419,146,268,146,268,49\" style=\"stroke: #000000; stroke-width: 1.5;\"/><line style=\"stroke: #000000; stroke-width: 1.5;\" x1=\"268\" x2=\"326\" y1=\"71.2969\" y2=\"71.2969\"/><text fill=\"#000000\" font-family=\"sans-serif\" font-size=\"14\" font-weight=\"bold\" lengthAdjust=\"spacingAndGlyphs\" textLength=\"45\" x=\"272\" y=\"63.9951\">Test1</text><!--MD5=[7f149f147074ac12df2cb0a7728a5fb0]\n",
       "cluster E9--><polygon fill=\"#FFFFFF\" points=\"93,49,144,49,151,71.2969,244,71.2969,244,146,93,146,93,49\" style=\"stroke: #000000; stroke-width: 1.5;\"/><line style=\"stroke: #000000; stroke-width: 1.5;\" x1=\"93\" x2=\"151\" y1=\"71.2969\" y2=\"71.2969\"/><text fill=\"#000000\" font-family=\"sans-serif\" font-size=\"14\" font-weight=\"bold\" lengthAdjust=\"spacingAndGlyphs\" textLength=\"45\" x=\"97\" y=\"63.9951\">Test2</text><!--MD5=[49a0ec8f00dab7302a31f22d0f0fe584]\n",
       "class E12--><rect fill=\"#FFFFFF\" height=\"45.9375\" id=\"E12\" rx=\"10\" ry=\"10\" style=\"stroke: #383838; stroke-width: 1.5;\" width=\"42\" x=\"438\" y=\"84\"/><text fill=\"#000000\" font-family=\"sans-serif\" font-size=\"12\" font-style=\"italic\" lengthAdjust=\"spacingAndGlyphs\" textLength=\"40\" x=\"439\" y=\"100.1387\">«part»</text><text fill=\"#000000\" font-family=\"sans-serif\" font-size=\"12\" lengthAdjust=\"spacingAndGlyphs\" textLength=\"22\" x=\"448\" y=\"114.1074\">x: A</text><line style=\"stroke: #383838; stroke-width: 1.5;\" x1=\"439\" x2=\"479\" y1=\"121.9375\" y2=\"121.9375\"/><!--MD5=[ee3c913d1a06f366521f9ef512b67efe]\n",
       "class E13--><rect fill=\"#FFFFFF\" height=\"45.9375\" id=\"E13\" rx=\"10\" ry=\"10\" style=\"stroke: #383838; stroke-width: 1.5;\" width=\"42\" x=\"32\" y=\"84\"/><text fill=\"#000000\" font-family=\"sans-serif\" font-size=\"12\" font-style=\"italic\" lengthAdjust=\"spacingAndGlyphs\" textLength=\"40\" x=\"33\" y=\"100.1387\">«part»</text><text fill=\"#000000\" font-family=\"sans-serif\" font-size=\"12\" lengthAdjust=\"spacingAndGlyphs\" textLength=\"22\" x=\"42\" y=\"114.1074\">y: B</text><line style=\"stroke: #383838; stroke-width: 1.5;\" x1=\"33\" x2=\"73\" y1=\"121.9375\" y2=\"121.9375\"/><!--MD5=[09b614a08d8cba4a07c9adeb5e0fee81]\n",
       "class E3--><rect fill=\"#FFFFFF\" height=\"45.9375\" id=\"E3\" style=\"stroke: #383838; stroke-width: 1.5;\" width=\"66\" x=\"349\" y=\"205\"/><text fill=\"#000000\" font-family=\"sans-serif\" font-size=\"12\" font-style=\"italic\" lengthAdjust=\"spacingAndGlyphs\" textLength=\"64\" x=\"350\" y=\"221.1387\">«part def»</text><text fill=\"#000000\" font-family=\"sans-serif\" font-size=\"12\" lengthAdjust=\"spacingAndGlyphs\" textLength=\"8\" x=\"378\" y=\"235.1074\">A</text><line style=\"stroke: #383838; stroke-width: 1.5;\" x1=\"350\" x2=\"414\" y1=\"242.9375\" y2=\"242.9375\"/><!--MD5=[270fce915f116d4de14055a7c1d9a0f3]\n",
       "class E5--><rect fill=\"#FFFFFF\" height=\"45.9375\" id=\"E5\" style=\"stroke: #383838; stroke-width: 1.5;\" width=\"66\" x=\"97\" y=\"205\"/><text fill=\"#000000\" font-family=\"sans-serif\" font-size=\"12\" font-style=\"italic\" lengthAdjust=\"spacingAndGlyphs\" textLength=\"64\" x=\"98\" y=\"221.1387\">«part def»</text><text fill=\"#000000\" font-family=\"sans-serif\" font-size=\"12\" lengthAdjust=\"spacingAndGlyphs\" textLength=\"8\" x=\"126\" y=\"235.1074\">B</text><line style=\"stroke: #383838; stroke-width: 1.5;\" x1=\"98\" x2=\"162\" y1=\"242.9375\" y2=\"242.9375\"/><!--MD5=[2156ba9850f5573cc1fc38a6a4b2f02b]\n",
       "class E7--><rect fill=\"#FFFFFF\" height=\"45.9375\" id=\"E7\" rx=\"10\" ry=\"10\" style=\"stroke: #383838; stroke-width: 1.5;\" width=\"42\" x=\"361\" y=\"84\"/><text fill=\"#000000\" font-family=\"sans-serif\" font-size=\"12\" font-style=\"italic\" lengthAdjust=\"spacingAndGlyphs\" textLength=\"40\" x=\"362\" y=\"100.1387\">«part»</text><text fill=\"#000000\" font-family=\"sans-serif\" font-size=\"12\" lengthAdjust=\"spacingAndGlyphs\" textLength=\"22\" x=\"371\" y=\"114.1074\">x: A</text><line style=\"stroke: #383838; stroke-width: 1.5;\" x1=\"362\" x2=\"402\" y1=\"121.9375\" y2=\"121.9375\"/><!--MD5=[b9389687b975829384b498ac4b7476b2]\n",
       "class E8--><rect fill=\"#FFFFFF\" height=\"45.9375\" id=\"E8\" rx=\"10\" ry=\"10\" style=\"stroke: #383838; stroke-width: 1.5;\" width=\"42\" x=\"284\" y=\"84\"/><text fill=\"#000000\" font-family=\"sans-serif\" font-size=\"12\" font-style=\"italic\" lengthAdjust=\"spacingAndGlyphs\" textLength=\"40\" x=\"285\" y=\"100.1387\">«part»</text><text fill=\"#000000\" font-family=\"sans-serif\" font-size=\"12\" lengthAdjust=\"spacingAndGlyphs\" textLength=\"22\" x=\"294\" y=\"114.1074\">y: B</text><line style=\"stroke: #383838; stroke-width: 1.5;\" x1=\"285\" x2=\"325\" y1=\"121.9375\" y2=\"121.9375\"/><!--MD5=[96f4274e9e20536e775497830990834d]\n",
       "class E10--><rect fill=\"#FFFFFF\" height=\"45.9375\" id=\"E10\" rx=\"10\" ry=\"10\" style=\"stroke: #383838; stroke-width: 1.5;\" width=\"42\" x=\"186\" y=\"84\"/><text fill=\"#000000\" font-family=\"sans-serif\" font-size=\"12\" font-style=\"italic\" lengthAdjust=\"spacingAndGlyphs\" textLength=\"40\" x=\"187\" y=\"100.1387\">«part»</text><text fill=\"#000000\" font-family=\"sans-serif\" font-size=\"12\" lengthAdjust=\"spacingAndGlyphs\" textLength=\"22\" x=\"196\" y=\"114.1074\">x: A</text><line style=\"stroke: #383838; stroke-width: 1.5;\" x1=\"187\" x2=\"227\" y1=\"121.9375\" y2=\"121.9375\"/><!--MD5=[1dd1bfd58a279cf63c5f349dbc8fc6a1]\n",
       "class E11--><rect fill=\"#FFFFFF\" height=\"45.9375\" id=\"E11\" rx=\"10\" ry=\"10\" style=\"stroke: #383838; stroke-width: 1.5;\" width=\"42\" x=\"109\" y=\"84\"/><text fill=\"#000000\" font-family=\"sans-serif\" font-size=\"12\" font-style=\"italic\" lengthAdjust=\"spacingAndGlyphs\" textLength=\"40\" x=\"110\" y=\"100.1387\">«part»</text><text fill=\"#000000\" font-family=\"sans-serif\" font-size=\"12\" lengthAdjust=\"spacingAndGlyphs\" textLength=\"22\" x=\"119\" y=\"114.1074\">y: B</text><line style=\"stroke: #383838; stroke-width: 1.5;\" x1=\"110\" x2=\"150\" y1=\"121.9375\" y2=\"121.9375\"/><!--MD5=[14ccda38c055a5c0da953d572bc50960]\n",
       "link E7 to E3--><path d=\"M382,130.1 C382,145.37 382,166.16 382,184.57 \" fill=\"none\" id=\"E7-&gt;E3\" style=\"stroke: #383838; stroke-width: 1.0;\"/><polygon fill=\"#FFFFFF\" points=\"382,204.61,375,185.61,389,185.61,382,204.61\" style=\"stroke: #383838; stroke-width: 1.0;\"/><ellipse cx=\"377\" cy=\"179.91\" fill=\"#383838\" rx=\"2\" ry=\"2\" style=\"stroke: #383838; stroke-width: 1.0;\"/><ellipse cx=\"387\" cy=\"179.91\" fill=\"#383838\" rx=\"2\" ry=\"2\" style=\"stroke: #383838; stroke-width: 1.0;\"/><!--MD5=[1ccb2481ffa92f8d51a74ee30c51832a]\n",
       "link E8 to E5--><path d=\"M283.84,124.59 C272.23,133.52 257.5,144.61 244,154 C223.51,168.25 200.41,183.24 180.38,195.91 \" fill=\"none\" id=\"E8-&gt;E5\" style=\"stroke: #383838; stroke-width: 1.0;\"/><polygon fill=\"#FFFFFF\" points=\"163.36,206.57,175.7353,190.5434,183.175,202.403,163.36,206.57\" style=\"stroke: #383838; stroke-width: 1.0;\"/><ellipse cx=\"181.6267\" cy=\"189.2086\" fill=\"#383838\" rx=\"2\" ry=\"2\" style=\"stroke: #383838; stroke-width: 1.0;\"/><ellipse cx=\"186.9408\" cy=\"197.6797\" fill=\"#383838\" rx=\"2\" ry=\"2\" style=\"stroke: #383838; stroke-width: 1.0;\"/><!--MD5=[feeac5eb423634930294aa81f2d25a4c]\n",
       "link E10 to E3--><path d=\"M228.16,124.59 C239.77,133.52 254.5,144.61 268,154 C288.49,168.25 311.59,183.24 331.62,195.91 \" fill=\"none\" id=\"E10-&gt;E3\" style=\"stroke: #383838; stroke-width: 1.0;\"/><polygon fill=\"#FFFFFF\" points=\"348.64,206.57,328.825,202.403,336.2647,190.5434,348.64,206.57\" style=\"stroke: #383838; stroke-width: 1.0;\"/><ellipse cx=\"325.0592\" cy=\"197.6797\" fill=\"#383838\" rx=\"2\" ry=\"2\" style=\"stroke: #383838; stroke-width: 1.0;\"/><ellipse cx=\"330.3733\" cy=\"189.2086\" fill=\"#383838\" rx=\"2\" ry=\"2\" style=\"stroke: #383838; stroke-width: 1.0;\"/><!--MD5=[07b77f6f309248d16187045709d1c26e]\n",
       "link E11 to E5--><path d=\"M130,130.1 C130,145.37 130,166.16 130,184.57 \" fill=\"none\" id=\"E11-&gt;E5\" style=\"stroke: #383838; stroke-width: 1.0;\"/><polygon fill=\"#FFFFFF\" points=\"130,204.61,123,185.61,137,185.61,130,204.61\" style=\"stroke: #383838; stroke-width: 1.0;\"/><ellipse cx=\"125\" cy=\"179.91\" fill=\"#383838\" rx=\"2\" ry=\"2\" style=\"stroke: #383838; stroke-width: 1.0;\"/><ellipse cx=\"135\" cy=\"179.91\" fill=\"#383838\" rx=\"2\" ry=\"2\" style=\"stroke: #383838; stroke-width: 1.0;\"/><!--MD5=[39f41a0e550fb3d73b4d8135617e30a2]\n",
       "link E12 to E3--><path d=\"M444.7,130.1 C434.28,146.2 419.89,168.44 407.53,187.55 \" fill=\"none\" id=\"E12-&gt;E3\" style=\"stroke: #383838; stroke-width: 1.0;\"/><polygon fill=\"#FFFFFF\" points=\"396.49,204.61,400.9313,184.8546,412.6866,192.4581,396.49,204.61\" style=\"stroke: #383838; stroke-width: 1.0;\"/><ellipse cx=\"405.7063\" cy=\"181.1547\" fill=\"#383838\" rx=\"2\" ry=\"2\" style=\"stroke: #383838; stroke-width: 1.0;\"/><ellipse cx=\"414.103\" cy=\"186.5858\" fill=\"#383838\" rx=\"2\" ry=\"2\" style=\"stroke: #383838; stroke-width: 1.0;\"/><!--MD5=[066b2d8af59fea80ccdb3d54ad5c1091]\n",
       "link E13 to E5--><path d=\"M67.3,130.1 C77.72,146.2 92.11,168.44 104.47,187.55 \" fill=\"none\" id=\"E13-&gt;E5\" style=\"stroke: #383838; stroke-width: 1.0;\"/><polygon fill=\"#FFFFFF\" points=\"115.51,204.61,99.3134,192.4581,111.0687,184.8546,115.51,204.61\" style=\"stroke: #383838; stroke-width: 1.0;\"/><ellipse cx=\"97.897\" cy=\"186.5858\" fill=\"#383838\" rx=\"2\" ry=\"2\" style=\"stroke: #383838; stroke-width: 1.0;\"/><ellipse cx=\"106.2937\" cy=\"181.1547\" fill=\"#383838\" rx=\"2\" ry=\"2\" style=\"stroke: #383838; stroke-width: 1.0;\"/><!--MD5=[89e3465349983411bdee7f3343ec3be8]\n",
       "@startuml\r\n",
       "top to bottom direction\r\n",
       "skinparam monochrome true\r\n",
       "skinparam classbackgroundcolor white\r\n",
       "skinparam shadowing false\r\n",
       "skinparam wrapWidth 300\r\n",
       "hide circle\r\n",
       "\r\n",
       "package \"CircularImport\" as E1   {\r\n",
       "package \"P1\" as E2   {\r\n",
       "comp def \"A\" as E3  <<(T,blue)part def>> {\r\n",
       "}\r\n",
       "}\r\n",
       "package \"P2\" as E4   {\r\n",
       "comp def \"B\" as E5  <<(T,blue)part def>> {\r\n",
       "}\r\n",
       "}\r\n",
       "package \"Test1\" as E6   {\r\n",
       "comp usage \"x: A\" as E7  <<(T,blue)part>> {\r\n",
       "}\r\n",
       "comp usage \"y: B\" as E8  <<(T,blue)part>> {\r\n",
       "}\r\n",
       "E7 - -:|> E3\r\n",
       "E8 - -:|> E5\r\n",
       "}\r\n",
       "package \"Test2\" as E9   {\r\n",
       "comp usage \"x: A\" as E10  <<(T,blue)part>> {\r\n",
       "}\r\n",
       "comp usage \"y: B\" as E11  <<(T,blue)part>> {\r\n",
       "}\r\n",
       "E10 - -:|> E3\r\n",
       "E11 - -:|> E5\r\n",
       "}\r\n",
       "comp usage \"x: A\" as E12  <<(T,blue)part>> {\r\n",
       "}\r\n",
       "comp usage \"y: B\" as E13  <<(T,blue)part>> {\r\n",
       "}\r\n",
       "E12 - -:|> E3\r\n",
       "E13 - -:|> E5\r\n",
       "}\r\n",
       "@enduml\r\n",
       "\n",
       "PlantUML version 1.2020.13(Sat Jun 13 12:26:38 UTC 2020)\n",
       "(EPL source distribution)\n",
       "Java Runtime: OpenJDK Runtime Environment\n",
       "JVM: OpenJDK 64-Bit Server VM\n",
       "Default Encoding: UTF-8\n",
       "Language: en\n",
       "Country: null\n",
       "--></g></svg>"
      ]
     },
     "execution_count": 45,
     "metadata": {},
     "output_type": "execute_result"
    }
   ],
   "source": [
    "%viz --style=\"TB\" --view=\"Tree\" \"CircularImport\""
   ]
  },
  {
   "cell_type": "code",
   "execution_count": 46,
   "id": "supposed-habitat",
   "metadata": {
    "execution": {
     "iopub.execute_input": "2021-03-26T09:40:19.356451Z",
     "iopub.status.busy": "2021-03-26T09:40:19.355480Z",
     "iopub.status.idle": "2021-03-26T09:40:19.360289Z",
     "shell.execute_reply": "2021-03-26T09:40:19.359451Z"
    }
   },
   "outputs": [
    {
     "data": {
      "text/plain": [
       "java.lang.IllegalArgumentException: Invalid View: State View candidates are: Default Tree StateMachine Interconnection Activity Sequence MIXED \n",
       "\tat org.omg.sysml.plantuml.SysML2PlantUMLSvc.setView(SysML2PlantUMLSvc.java:63)\n",
       "\tat org.omg.sysml.interactive.SysMLInteractive.viz(SysMLInteractive.java:286)\n",
       "\tat org.omg.sysml.jupyter.kernel.magic.Viz.viz(Viz.java:47)\n",
       "\tat jdk.internal.reflect.GeneratedMethodAccessor9.invoke(Unknown Source)\n",
       "\tat java.base/jdk.internal.reflect.DelegatingMethodAccessorImpl.invoke(DelegatingMethodAccessorImpl.java:43)\n",
       "\tat java.base/java.lang.reflect.Method.invoke(Method.java:568)\n",
       "\tat io.github.spencerpark.jupyter.kernel.magic.registry.Magics.invoke(Magics.java:89)\n",
       "\tat io.github.spencerpark.jupyter.kernel.magic.registry.Magics.access$000(Magics.java:8)\n",
       "\tat io.github.spencerpark.jupyter.kernel.magic.registry.Magics$LineReflectionMagicFunction.execute(Magics.java:149)\n",
       "\tat io.github.spencerpark.jupyter.kernel.magic.registry.Magics.applyLineMagic(Magics.java:26)\n",
       "\tat org.omg.sysml.jupyter.kernel.SysMLKernel.eval(SysMLKernel.java:76)\n",
       "\tat io.github.spencerpark.jupyter.kernel.BaseKernel.handleExecuteRequest(BaseKernel.java:334)\n",
       "\tat io.github.spencerpark.jupyter.channels.ShellChannel.lambda$bind$0(ShellChannel.java:64)\n",
       "\tat io.github.spencerpark.jupyter.channels.Loop.lambda$new$0(Loop.java:21)\n",
       "\tat io.github.spencerpark.jupyter.channels.Loop.run(Loop.java:78)\n"
      ]
     },
     "execution_count": 46,
     "metadata": {},
     "output_type": "execute_result"
    }
   ],
   "source": [
    "%viz --style=\"TB\" --view=\"State\" \"CircularImport\""
   ]
  },
  {
   "cell_type": "code",
   "execution_count": 47,
   "id": "forward-swiss",
   "metadata": {
    "execution": {
     "iopub.execute_input": "2021-03-26T09:40:19.413431Z",
     "iopub.status.busy": "2021-03-26T09:40:19.412647Z",
     "iopub.status.idle": "2021-03-26T09:40:19.446575Z",
     "shell.execute_reply": "2021-03-26T09:40:19.445367Z"
    }
   },
   "outputs": [
    {
     "data": {
      "image/svg+xml": [
       "<?xml version=\"1.0\" encoding=\"UTF-8\" standalone=\"no\"?><svg xmlns=\"http://www.w3.org/2000/svg\" xmlns:xlink=\"http://www.w3.org/1999/xlink\" contentScriptType=\"application/ecmascript\" contentStyleType=\"text/css\" height=\"189px\" preserveAspectRatio=\"none\" style=\"width:886px;height:189px;\" version=\"1.1\" viewBox=\"0 0 886 189\" width=\"886px\" zoomAndPan=\"magnify\"><defs/><g><!--MD5=[fbc87193dbaf4d95561dea2c320d4a47]\n",
       "cluster E1--><polygon fill=\"#FFFFFF\" points=\"16,6,134,6,141,28.2969,864,28.2969,864,177,16,177,16,6\" style=\"stroke: #000000; stroke-width: 1.5;\"/><line style=\"stroke: #000000; stroke-width: 1.5;\" x1=\"16\" x2=\"141\" y1=\"28.2969\" y2=\"28.2969\"/><text fill=\"#000000\" font-family=\"sans-serif\" font-size=\"14\" font-weight=\"bold\" lengthAdjust=\"spacingAndGlyphs\" textLength=\"112\" x=\"20\" y=\"20.9951\">CircularImport</text><!--MD5=[e4f7fae6ed58524ba242bb0b0d3be6b7]\n",
       "cluster E2--><polygon fill=\"#FFFFFF\" points=\"716,49,742,49,749,71.2969,840,71.2969,840,153,716,153,716,49\" style=\"stroke: #000000; stroke-width: 1.5;\"/><line style=\"stroke: #000000; stroke-width: 1.5;\" x1=\"716\" x2=\"749\" y1=\"71.2969\" y2=\"71.2969\"/><text fill=\"#000000\" font-family=\"sans-serif\" font-size=\"14\" font-weight=\"bold\" lengthAdjust=\"spacingAndGlyphs\" textLength=\"20\" x=\"720\" y=\"63.9951\">P1</text><!--MD5=[f6df4d0ebaf0b5dfb2ced0ae5af7c670]\n",
       "cluster E4--><polygon fill=\"#FFFFFF\" points=\"568,49,594,49,601,71.2969,692,71.2969,692,153,568,153,568,49\" style=\"stroke: #000000; stroke-width: 1.5;\"/><line style=\"stroke: #000000; stroke-width: 1.5;\" x1=\"568\" x2=\"601\" y1=\"71.2969\" y2=\"71.2969\"/><text fill=\"#000000\" font-family=\"sans-serif\" font-size=\"14\" font-weight=\"bold\" lengthAdjust=\"spacingAndGlyphs\" textLength=\"20\" x=\"572\" y=\"63.9951\">P2</text><!--MD5=[14e3b0961a2654348d326746436168a1]\n",
       "cluster E6--><polygon fill=\"#FFFFFF\" points=\"377,50.5,428,50.5,435,72.7969,544,72.7969,544,151.5,377,151.5,377,50.5\" style=\"stroke: #000000; stroke-width: 1.5;\"/><line style=\"stroke: #000000; stroke-width: 1.5;\" x1=\"377\" x2=\"435\" y1=\"72.7969\" y2=\"72.7969\"/><text fill=\"#000000\" font-family=\"sans-serif\" font-size=\"14\" font-weight=\"bold\" lengthAdjust=\"spacingAndGlyphs\" textLength=\"45\" x=\"381\" y=\"65.4951\">Test1</text><!--MD5=[7f149f147074ac12df2cb0a7728a5fb0]\n",
       "cluster E9--><polygon fill=\"#FFFFFF\" points=\"186,50.5,237,50.5,244,72.7969,353,72.7969,353,151.5,186,151.5,186,50.5\" style=\"stroke: #000000; stroke-width: 1.5;\"/><line style=\"stroke: #000000; stroke-width: 1.5;\" x1=\"186\" x2=\"244\" y1=\"72.7969\" y2=\"72.7969\"/><text fill=\"#000000\" font-family=\"sans-serif\" font-size=\"14\" font-weight=\"bold\" lengthAdjust=\"spacingAndGlyphs\" textLength=\"45\" x=\"190\" y=\"65.4951\">Test2</text><!--MD5=[a60fb756f580feb9fd8e2cf1329b5c91]\n",
       "entity E3--><rect fill=\"#FFFFFF\" height=\"52.5938\" style=\"stroke: #000000; stroke-width: 1.5;\" width=\"91\" x=\"732.5\" y=\"84\"/><text fill=\"#000000\" font-family=\"sans-serif\" font-size=\"14\" font-style=\"italic\" lengthAdjust=\"spacingAndGlyphs\" textLength=\"71\" x=\"742.5\" y=\"106.9951\">«part def»</text><text fill=\"#000000\" font-family=\"sans-serif\" font-size=\"14\" lengthAdjust=\"spacingAndGlyphs\" textLength=\"9\" x=\"773.5\" y=\"123.292\">A</text><!--MD5=[21dd76c19d33815960c0e92fef8f0eef]\n",
       "entity E5--><rect fill=\"#FFFFFF\" height=\"52.5938\" style=\"stroke: #000000; stroke-width: 1.5;\" width=\"91\" x=\"584.5\" y=\"84\"/><text fill=\"#000000\" font-family=\"sans-serif\" font-size=\"14\" font-style=\"italic\" lengthAdjust=\"spacingAndGlyphs\" textLength=\"71\" x=\"594.5\" y=\"106.9951\">«part def»</text><text fill=\"#000000\" font-family=\"sans-serif\" font-size=\"14\" lengthAdjust=\"spacingAndGlyphs\" textLength=\"10\" x=\"625\" y=\"123.292\">B</text><g id=\"E1.E6.E7\"><rect fill=\"#FFFFFF\" height=\"50\" rx=\"12.5\" ry=\"12.5\" style=\"stroke: #383838; stroke-width: 1.5;\" width=\"50\" x=\"478\" y=\"85.5\"/><line style=\"stroke: #383838; stroke-width: 1.5;\" x1=\"478\" x2=\"528\" y1=\"111.7969\" y2=\"111.7969\"/><text fill=\"#000000\" font-family=\"sans-serif\" font-size=\"14\" lengthAdjust=\"spacingAndGlyphs\" textLength=\"25\" x=\"490.5\" y=\"103.4951\">x: A</text></g><g id=\"E1.E6.E8\"><rect fill=\"#FFFFFF\" height=\"50\" rx=\"12.5\" ry=\"12.5\" style=\"stroke: #383838; stroke-width: 1.5;\" width=\"50\" x=\"393\" y=\"85.5\"/><line style=\"stroke: #383838; stroke-width: 1.5;\" x1=\"393\" x2=\"443\" y1=\"111.7969\" y2=\"111.7969\"/><text fill=\"#000000\" font-family=\"sans-serif\" font-size=\"14\" lengthAdjust=\"spacingAndGlyphs\" textLength=\"26\" x=\"405\" y=\"103.4951\">y: B</text></g><g id=\"E1.E9.E10\"><rect fill=\"#FFFFFF\" height=\"50\" rx=\"12.5\" ry=\"12.5\" style=\"stroke: #383838; stroke-width: 1.5;\" width=\"50\" x=\"287\" y=\"85.5\"/><line style=\"stroke: #383838; stroke-width: 1.5;\" x1=\"287\" x2=\"337\" y1=\"111.7969\" y2=\"111.7969\"/><text fill=\"#000000\" font-family=\"sans-serif\" font-size=\"14\" lengthAdjust=\"spacingAndGlyphs\" textLength=\"25\" x=\"299.5\" y=\"103.4951\">x: A</text></g><g id=\"E1.E9.E11\"><rect fill=\"#FFFFFF\" height=\"50\" rx=\"12.5\" ry=\"12.5\" style=\"stroke: #383838; stroke-width: 1.5;\" width=\"50\" x=\"202\" y=\"85.5\"/><line style=\"stroke: #383838; stroke-width: 1.5;\" x1=\"202\" x2=\"252\" y1=\"111.7969\" y2=\"111.7969\"/><text fill=\"#000000\" font-family=\"sans-serif\" font-size=\"14\" lengthAdjust=\"spacingAndGlyphs\" textLength=\"26\" x=\"214\" y=\"103.4951\">y: B</text></g><g id=\"E1.E12\"><rect fill=\"#FFFFFF\" height=\"50\" rx=\"12.5\" ry=\"12.5\" style=\"stroke: #383838; stroke-width: 1.5;\" width=\"50\" x=\"117\" y=\"85.5\"/><line style=\"stroke: #383838; stroke-width: 1.5;\" x1=\"117\" x2=\"167\" y1=\"111.7969\" y2=\"111.7969\"/><text fill=\"#000000\" font-family=\"sans-serif\" font-size=\"14\" lengthAdjust=\"spacingAndGlyphs\" textLength=\"25\" x=\"129.5\" y=\"103.4951\">x: A</text></g><g id=\"E1.E13\"><rect fill=\"#FFFFFF\" height=\"50\" rx=\"12.5\" ry=\"12.5\" style=\"stroke: #383838; stroke-width: 1.5;\" width=\"50\" x=\"32\" y=\"85.5\"/><line style=\"stroke: #383838; stroke-width: 1.5;\" x1=\"32\" x2=\"82\" y1=\"111.7969\" y2=\"111.7969\"/><text fill=\"#000000\" font-family=\"sans-serif\" font-size=\"14\" lengthAdjust=\"spacingAndGlyphs\" textLength=\"26\" x=\"44\" y=\"103.4951\">y: B</text></g><!--MD5=[596a931c56884ad385d8a10ea8a0f524]\n",
       "@startuml\r\n",
       "skinparam ranksep 8\r\n",
       "skinparam rectangle {\r\n",
       " backgroundColor<<block>> LightGreen\r\n",
       "}\r\n",
       "top to bottom direction\r\n",
       "skinparam monochrome true\r\n",
       "skinparam classbackgroundcolor white\r\n",
       "skinparam shadowing false\r\n",
       "skinparam wrapWidth 300\r\n",
       "hide circle\r\n",
       "\r\n",
       "package \"CircularImport\" as E1   {\r\n",
       "package \"P1\" as E2   {\r\n",
       "rec def \"A\" as E3  <<part def>> {\r\n",
       "}\r\n",
       "}\r\n",
       "package \"P2\" as E4   {\r\n",
       "rec def \"B\" as E5  <<part def>> {\r\n",
       "}\r\n",
       "}\r\n",
       "package \"Test1\" as E6   {\r\n",
       "rec usage \"x: A\" as E7  {\r\n",
       "}\r\n",
       "rec usage \"y: B\" as E8  {\r\n",
       "}\r\n",
       "}\r\n",
       "package \"Test2\" as E9   {\r\n",
       "rec usage \"x: A\" as E10  {\r\n",
       "}\r\n",
       "rec usage \"y: B\" as E11  {\r\n",
       "}\r\n",
       "}\r\n",
       "rec usage \"x: A\" as E12  {\r\n",
       "}\r\n",
       "rec usage \"y: B\" as E13  {\r\n",
       "}\r\n",
       "}\r\n",
       "@enduml\r\n",
       "\n",
       "PlantUML version 1.2020.13(Sat Jun 13 12:26:38 UTC 2020)\n",
       "(EPL source distribution)\n",
       "Java Runtime: OpenJDK Runtime Environment\n",
       "JVM: OpenJDK 64-Bit Server VM\n",
       "Default Encoding: UTF-8\n",
       "Language: en\n",
       "Country: null\n",
       "--></g></svg>"
      ]
     },
     "execution_count": 47,
     "metadata": {},
     "output_type": "execute_result"
    }
   ],
   "source": [
    "%viz --style=\"TB\" --view=\"Interconnection\" \"CircularImport\""
   ]
  },
  {
   "cell_type": "code",
   "execution_count": 48,
   "id": "welcome-alias",
   "metadata": {
    "execution": {
     "iopub.execute_input": "2021-03-26T09:40:19.497619Z",
     "iopub.status.busy": "2021-03-26T09:40:19.497202Z",
     "iopub.status.idle": "2021-03-26T09:40:19.498728Z",
     "shell.execute_reply": "2021-03-26T09:40:19.499112Z"
    }
   },
   "outputs": [
    {
     "data": {
      "text/plain": [
       "java.lang.IllegalArgumentException: Invalid View: Action View candidates are: Default Tree StateMachine Interconnection Activity Sequence MIXED \n",
       "\tat org.omg.sysml.plantuml.SysML2PlantUMLSvc.setView(SysML2PlantUMLSvc.java:63)\n",
       "\tat org.omg.sysml.interactive.SysMLInteractive.viz(SysMLInteractive.java:286)\n",
       "\tat org.omg.sysml.jupyter.kernel.magic.Viz.viz(Viz.java:47)\n",
       "\tat jdk.internal.reflect.GeneratedMethodAccessor9.invoke(Unknown Source)\n",
       "\tat java.base/jdk.internal.reflect.DelegatingMethodAccessorImpl.invoke(DelegatingMethodAccessorImpl.java:43)\n",
       "\tat java.base/java.lang.reflect.Method.invoke(Method.java:568)\n",
       "\tat io.github.spencerpark.jupyter.kernel.magic.registry.Magics.invoke(Magics.java:89)\n",
       "\tat io.github.spencerpark.jupyter.kernel.magic.registry.Magics.access$000(Magics.java:8)\n",
       "\tat io.github.spencerpark.jupyter.kernel.magic.registry.Magics$LineReflectionMagicFunction.execute(Magics.java:149)\n",
       "\tat io.github.spencerpark.jupyter.kernel.magic.registry.Magics.applyLineMagic(Magics.java:26)\n",
       "\tat org.omg.sysml.jupyter.kernel.SysMLKernel.eval(SysMLKernel.java:76)\n",
       "\tat io.github.spencerpark.jupyter.kernel.BaseKernel.handleExecuteRequest(BaseKernel.java:334)\n",
       "\tat io.github.spencerpark.jupyter.channels.ShellChannel.lambda$bind$0(ShellChannel.java:64)\n",
       "\tat io.github.spencerpark.jupyter.channels.Loop.lambda$new$0(Loop.java:21)\n",
       "\tat io.github.spencerpark.jupyter.channels.Loop.run(Loop.java:78)\n"
      ]
     },
     "execution_count": 48,
     "metadata": {},
     "output_type": "execute_result"
    }
   ],
   "source": [
    "%viz --style=\"TB\" --view=\"Action\" \"CircularImport\""
   ]
  },
  {
   "cell_type": "code",
   "execution_count": 49,
   "id": "legal-solomon",
   "metadata": {
    "execution": {
     "iopub.execute_input": "2021-03-26T09:40:19.549899Z",
     "iopub.status.busy": "2021-03-26T09:40:19.549507Z",
     "iopub.status.idle": "2021-03-26T09:40:19.577499Z",
     "shell.execute_reply": "2021-03-26T09:40:19.576371Z"
    }
   },
   "outputs": [
    {
     "data": {
      "image/svg+xml": [
       "<?xml version=\"1.0\" encoding=\"UTF-8\" standalone=\"no\"?><svg xmlns=\"http://www.w3.org/2000/svg\" xmlns:xlink=\"http://www.w3.org/1999/xlink\" contentScriptType=\"application/ecmascript\" contentStyleType=\"text/css\" height=\"303px\" preserveAspectRatio=\"none\" style=\"width:518px;height:303px;\" version=\"1.1\" viewBox=\"0 0 518 303\" width=\"518px\" zoomAndPan=\"magnify\"><defs/><g><!--MD5=[fbc87193dbaf4d95561dea2c320d4a47]\n",
       "cluster E1--><polygon fill=\"#FFFFFF\" points=\"16,6,134,6,141,28.2969,496,28.2969,496,291,16,291,16,6\" style=\"stroke: #000000; stroke-width: 1.5;\"/><line style=\"stroke: #000000; stroke-width: 1.5;\" x1=\"16\" x2=\"141\" y1=\"28.2969\" y2=\"28.2969\"/><text fill=\"#000000\" font-family=\"sans-serif\" font-size=\"14\" font-weight=\"bold\" lengthAdjust=\"spacingAndGlyphs\" textLength=\"112\" x=\"20\" y=\"20.9951\">CircularImport</text><!--MD5=[e4f7fae6ed58524ba242bb0b0d3be6b7]\n",
       "cluster E2--><polygon fill=\"#FFFFFF\" points=\"333,170,359,170,366,192.2969,431,192.2969,431,267,333,267,333,170\" style=\"stroke: #000000; stroke-width: 1.5;\"/><line style=\"stroke: #000000; stroke-width: 1.5;\" x1=\"333\" x2=\"366\" y1=\"192.2969\" y2=\"192.2969\"/><text fill=\"#000000\" font-family=\"sans-serif\" font-size=\"14\" font-weight=\"bold\" lengthAdjust=\"spacingAndGlyphs\" textLength=\"20\" x=\"337\" y=\"184.9951\">P1</text><!--MD5=[f6df4d0ebaf0b5dfb2ced0ae5af7c670]\n",
       "cluster E4--><polygon fill=\"#FFFFFF\" points=\"81,170,107,170,114,192.2969,179,192.2969,179,267,81,267,81,170\" style=\"stroke: #000000; stroke-width: 1.5;\"/><line style=\"stroke: #000000; stroke-width: 1.5;\" x1=\"81\" x2=\"114\" y1=\"192.2969\" y2=\"192.2969\"/><text fill=\"#000000\" font-family=\"sans-serif\" font-size=\"14\" font-weight=\"bold\" lengthAdjust=\"spacingAndGlyphs\" textLength=\"20\" x=\"85\" y=\"184.9951\">P2</text><!--MD5=[14e3b0961a2654348d326746436168a1]\n",
       "cluster E6--><polygon fill=\"#FFFFFF\" points=\"268,49,319,49,326,71.2969,419,71.2969,419,146,268,146,268,49\" style=\"stroke: #000000; stroke-width: 1.5;\"/><line style=\"stroke: #000000; stroke-width: 1.5;\" x1=\"268\" x2=\"326\" y1=\"71.2969\" y2=\"71.2969\"/><text fill=\"#000000\" font-family=\"sans-serif\" font-size=\"14\" font-weight=\"bold\" lengthAdjust=\"spacingAndGlyphs\" textLength=\"45\" x=\"272\" y=\"63.9951\">Test1</text><!--MD5=[7f149f147074ac12df2cb0a7728a5fb0]\n",
       "cluster E9--><polygon fill=\"#FFFFFF\" points=\"93,49,144,49,151,71.2969,244,71.2969,244,146,93,146,93,49\" style=\"stroke: #000000; stroke-width: 1.5;\"/><line style=\"stroke: #000000; stroke-width: 1.5;\" x1=\"93\" x2=\"151\" y1=\"71.2969\" y2=\"71.2969\"/><text fill=\"#000000\" font-family=\"sans-serif\" font-size=\"14\" font-weight=\"bold\" lengthAdjust=\"spacingAndGlyphs\" textLength=\"45\" x=\"97\" y=\"63.9951\">Test2</text><!--MD5=[49a0ec8f00dab7302a31f22d0f0fe584]\n",
       "class E12--><rect fill=\"#FFFFFF\" height=\"45.9375\" id=\"E12\" rx=\"10\" ry=\"10\" style=\"stroke: #383838; stroke-width: 1.5;\" width=\"42\" x=\"438\" y=\"84\"/><text fill=\"#000000\" font-family=\"sans-serif\" font-size=\"12\" font-style=\"italic\" lengthAdjust=\"spacingAndGlyphs\" textLength=\"40\" x=\"439\" y=\"100.1387\">«part»</text><text fill=\"#000000\" font-family=\"sans-serif\" font-size=\"12\" lengthAdjust=\"spacingAndGlyphs\" textLength=\"22\" x=\"448\" y=\"114.1074\">x: A</text><line style=\"stroke: #383838; stroke-width: 1.5;\" x1=\"439\" x2=\"479\" y1=\"121.9375\" y2=\"121.9375\"/><!--MD5=[ee3c913d1a06f366521f9ef512b67efe]\n",
       "class E13--><rect fill=\"#FFFFFF\" height=\"45.9375\" id=\"E13\" rx=\"10\" ry=\"10\" style=\"stroke: #383838; stroke-width: 1.5;\" width=\"42\" x=\"32\" y=\"84\"/><text fill=\"#000000\" font-family=\"sans-serif\" font-size=\"12\" font-style=\"italic\" lengthAdjust=\"spacingAndGlyphs\" textLength=\"40\" x=\"33\" y=\"100.1387\">«part»</text><text fill=\"#000000\" font-family=\"sans-serif\" font-size=\"12\" lengthAdjust=\"spacingAndGlyphs\" textLength=\"22\" x=\"42\" y=\"114.1074\">y: B</text><line style=\"stroke: #383838; stroke-width: 1.5;\" x1=\"33\" x2=\"73\" y1=\"121.9375\" y2=\"121.9375\"/><!--MD5=[09b614a08d8cba4a07c9adeb5e0fee81]\n",
       "class E3--><rect fill=\"#FFFFFF\" height=\"45.9375\" id=\"E3\" style=\"stroke: #383838; stroke-width: 1.5;\" width=\"66\" x=\"349\" y=\"205\"/><text fill=\"#000000\" font-family=\"sans-serif\" font-size=\"12\" font-style=\"italic\" lengthAdjust=\"spacingAndGlyphs\" textLength=\"64\" x=\"350\" y=\"221.1387\">«part def»</text><text fill=\"#000000\" font-family=\"sans-serif\" font-size=\"12\" lengthAdjust=\"spacingAndGlyphs\" textLength=\"8\" x=\"378\" y=\"235.1074\">A</text><line style=\"stroke: #383838; stroke-width: 1.5;\" x1=\"350\" x2=\"414\" y1=\"242.9375\" y2=\"242.9375\"/><!--MD5=[270fce915f116d4de14055a7c1d9a0f3]\n",
       "class E5--><rect fill=\"#FFFFFF\" height=\"45.9375\" id=\"E5\" style=\"stroke: #383838; stroke-width: 1.5;\" width=\"66\" x=\"97\" y=\"205\"/><text fill=\"#000000\" font-family=\"sans-serif\" font-size=\"12\" font-style=\"italic\" lengthAdjust=\"spacingAndGlyphs\" textLength=\"64\" x=\"98\" y=\"221.1387\">«part def»</text><text fill=\"#000000\" font-family=\"sans-serif\" font-size=\"12\" lengthAdjust=\"spacingAndGlyphs\" textLength=\"8\" x=\"126\" y=\"235.1074\">B</text><line style=\"stroke: #383838; stroke-width: 1.5;\" x1=\"98\" x2=\"162\" y1=\"242.9375\" y2=\"242.9375\"/><!--MD5=[2156ba9850f5573cc1fc38a6a4b2f02b]\n",
       "class E7--><rect fill=\"#FFFFFF\" height=\"45.9375\" id=\"E7\" rx=\"10\" ry=\"10\" style=\"stroke: #383838; stroke-width: 1.5;\" width=\"42\" x=\"361\" y=\"84\"/><text fill=\"#000000\" font-family=\"sans-serif\" font-size=\"12\" font-style=\"italic\" lengthAdjust=\"spacingAndGlyphs\" textLength=\"40\" x=\"362\" y=\"100.1387\">«part»</text><text fill=\"#000000\" font-family=\"sans-serif\" font-size=\"12\" lengthAdjust=\"spacingAndGlyphs\" textLength=\"22\" x=\"371\" y=\"114.1074\">x: A</text><line style=\"stroke: #383838; stroke-width: 1.5;\" x1=\"362\" x2=\"402\" y1=\"121.9375\" y2=\"121.9375\"/><!--MD5=[b9389687b975829384b498ac4b7476b2]\n",
       "class E8--><rect fill=\"#FFFFFF\" height=\"45.9375\" id=\"E8\" rx=\"10\" ry=\"10\" style=\"stroke: #383838; stroke-width: 1.5;\" width=\"42\" x=\"284\" y=\"84\"/><text fill=\"#000000\" font-family=\"sans-serif\" font-size=\"12\" font-style=\"italic\" lengthAdjust=\"spacingAndGlyphs\" textLength=\"40\" x=\"285\" y=\"100.1387\">«part»</text><text fill=\"#000000\" font-family=\"sans-serif\" font-size=\"12\" lengthAdjust=\"spacingAndGlyphs\" textLength=\"22\" x=\"294\" y=\"114.1074\">y: B</text><line style=\"stroke: #383838; stroke-width: 1.5;\" x1=\"285\" x2=\"325\" y1=\"121.9375\" y2=\"121.9375\"/><!--MD5=[96f4274e9e20536e775497830990834d]\n",
       "class E10--><rect fill=\"#FFFFFF\" height=\"45.9375\" id=\"E10\" rx=\"10\" ry=\"10\" style=\"stroke: #383838; stroke-width: 1.5;\" width=\"42\" x=\"186\" y=\"84\"/><text fill=\"#000000\" font-family=\"sans-serif\" font-size=\"12\" font-style=\"italic\" lengthAdjust=\"spacingAndGlyphs\" textLength=\"40\" x=\"187\" y=\"100.1387\">«part»</text><text fill=\"#000000\" font-family=\"sans-serif\" font-size=\"12\" lengthAdjust=\"spacingAndGlyphs\" textLength=\"22\" x=\"196\" y=\"114.1074\">x: A</text><line style=\"stroke: #383838; stroke-width: 1.5;\" x1=\"187\" x2=\"227\" y1=\"121.9375\" y2=\"121.9375\"/><!--MD5=[1dd1bfd58a279cf63c5f349dbc8fc6a1]\n",
       "class E11--><rect fill=\"#FFFFFF\" height=\"45.9375\" id=\"E11\" rx=\"10\" ry=\"10\" style=\"stroke: #383838; stroke-width: 1.5;\" width=\"42\" x=\"109\" y=\"84\"/><text fill=\"#000000\" font-family=\"sans-serif\" font-size=\"12\" font-style=\"italic\" lengthAdjust=\"spacingAndGlyphs\" textLength=\"40\" x=\"110\" y=\"100.1387\">«part»</text><text fill=\"#000000\" font-family=\"sans-serif\" font-size=\"12\" lengthAdjust=\"spacingAndGlyphs\" textLength=\"22\" x=\"119\" y=\"114.1074\">y: B</text><line style=\"stroke: #383838; stroke-width: 1.5;\" x1=\"110\" x2=\"150\" y1=\"121.9375\" y2=\"121.9375\"/><!--MD5=[14ccda38c055a5c0da953d572bc50960]\n",
       "link E7 to E3--><path d=\"M382,130.1 C382,145.37 382,166.16 382,184.57 \" fill=\"none\" id=\"E7-&gt;E3\" style=\"stroke: #383838; stroke-width: 1.0;\"/><polygon fill=\"#FFFFFF\" points=\"382,204.61,375,185.61,389,185.61,382,204.61\" style=\"stroke: #383838; stroke-width: 1.0;\"/><ellipse cx=\"377\" cy=\"179.91\" fill=\"#383838\" rx=\"2\" ry=\"2\" style=\"stroke: #383838; stroke-width: 1.0;\"/><ellipse cx=\"387\" cy=\"179.91\" fill=\"#383838\" rx=\"2\" ry=\"2\" style=\"stroke: #383838; stroke-width: 1.0;\"/><!--MD5=[1ccb2481ffa92f8d51a74ee30c51832a]\n",
       "link E8 to E5--><path d=\"M283.84,124.59 C272.23,133.52 257.5,144.61 244,154 C223.51,168.25 200.41,183.24 180.38,195.91 \" fill=\"none\" id=\"E8-&gt;E5\" style=\"stroke: #383838; stroke-width: 1.0;\"/><polygon fill=\"#FFFFFF\" points=\"163.36,206.57,175.7353,190.5434,183.175,202.403,163.36,206.57\" style=\"stroke: #383838; stroke-width: 1.0;\"/><ellipse cx=\"181.6267\" cy=\"189.2086\" fill=\"#383838\" rx=\"2\" ry=\"2\" style=\"stroke: #383838; stroke-width: 1.0;\"/><ellipse cx=\"186.9408\" cy=\"197.6797\" fill=\"#383838\" rx=\"2\" ry=\"2\" style=\"stroke: #383838; stroke-width: 1.0;\"/><!--MD5=[feeac5eb423634930294aa81f2d25a4c]\n",
       "link E10 to E3--><path d=\"M228.16,124.59 C239.77,133.52 254.5,144.61 268,154 C288.49,168.25 311.59,183.24 331.62,195.91 \" fill=\"none\" id=\"E10-&gt;E3\" style=\"stroke: #383838; stroke-width: 1.0;\"/><polygon fill=\"#FFFFFF\" points=\"348.64,206.57,328.825,202.403,336.2647,190.5434,348.64,206.57\" style=\"stroke: #383838; stroke-width: 1.0;\"/><ellipse cx=\"325.0592\" cy=\"197.6797\" fill=\"#383838\" rx=\"2\" ry=\"2\" style=\"stroke: #383838; stroke-width: 1.0;\"/><ellipse cx=\"330.3733\" cy=\"189.2086\" fill=\"#383838\" rx=\"2\" ry=\"2\" style=\"stroke: #383838; stroke-width: 1.0;\"/><!--MD5=[07b77f6f309248d16187045709d1c26e]\n",
       "link E11 to E5--><path d=\"M130,130.1 C130,145.37 130,166.16 130,184.57 \" fill=\"none\" id=\"E11-&gt;E5\" style=\"stroke: #383838; stroke-width: 1.0;\"/><polygon fill=\"#FFFFFF\" points=\"130,204.61,123,185.61,137,185.61,130,204.61\" style=\"stroke: #383838; stroke-width: 1.0;\"/><ellipse cx=\"125\" cy=\"179.91\" fill=\"#383838\" rx=\"2\" ry=\"2\" style=\"stroke: #383838; stroke-width: 1.0;\"/><ellipse cx=\"135\" cy=\"179.91\" fill=\"#383838\" rx=\"2\" ry=\"2\" style=\"stroke: #383838; stroke-width: 1.0;\"/><!--MD5=[39f41a0e550fb3d73b4d8135617e30a2]\n",
       "link E12 to E3--><path d=\"M444.7,130.1 C434.28,146.2 419.89,168.44 407.53,187.55 \" fill=\"none\" id=\"E12-&gt;E3\" style=\"stroke: #383838; stroke-width: 1.0;\"/><polygon fill=\"#FFFFFF\" points=\"396.49,204.61,400.9313,184.8546,412.6866,192.4581,396.49,204.61\" style=\"stroke: #383838; stroke-width: 1.0;\"/><ellipse cx=\"405.7063\" cy=\"181.1547\" fill=\"#383838\" rx=\"2\" ry=\"2\" style=\"stroke: #383838; stroke-width: 1.0;\"/><ellipse cx=\"414.103\" cy=\"186.5858\" fill=\"#383838\" rx=\"2\" ry=\"2\" style=\"stroke: #383838; stroke-width: 1.0;\"/><!--MD5=[066b2d8af59fea80ccdb3d54ad5c1091]\n",
       "link E13 to E5--><path d=\"M67.3,130.1 C77.72,146.2 92.11,168.44 104.47,187.55 \" fill=\"none\" id=\"E13-&gt;E5\" style=\"stroke: #383838; stroke-width: 1.0;\"/><polygon fill=\"#FFFFFF\" points=\"115.51,204.61,99.3134,192.4581,111.0687,184.8546,115.51,204.61\" style=\"stroke: #383838; stroke-width: 1.0;\"/><ellipse cx=\"97.897\" cy=\"186.5858\" fill=\"#383838\" rx=\"2\" ry=\"2\" style=\"stroke: #383838; stroke-width: 1.0;\"/><ellipse cx=\"106.2937\" cy=\"181.1547\" fill=\"#383838\" rx=\"2\" ry=\"2\" style=\"stroke: #383838; stroke-width: 1.0;\"/><!--MD5=[89e3465349983411bdee7f3343ec3be8]\n",
       "@startuml\r\n",
       "top to bottom direction\r\n",
       "skinparam monochrome true\r\n",
       "skinparam classbackgroundcolor white\r\n",
       "skinparam shadowing false\r\n",
       "skinparam wrapWidth 300\r\n",
       "hide circle\r\n",
       "\r\n",
       "package \"CircularImport\" as E1   {\r\n",
       "package \"P1\" as E2   {\r\n",
       "comp def \"A\" as E3  <<(T,blue)part def>> {\r\n",
       "}\r\n",
       "}\r\n",
       "package \"P2\" as E4   {\r\n",
       "comp def \"B\" as E5  <<(T,blue)part def>> {\r\n",
       "}\r\n",
       "}\r\n",
       "package \"Test1\" as E6   {\r\n",
       "comp usage \"x: A\" as E7  <<(T,blue)part>> {\r\n",
       "}\r\n",
       "comp usage \"y: B\" as E8  <<(T,blue)part>> {\r\n",
       "}\r\n",
       "E7 - -:|> E3\r\n",
       "E8 - -:|> E5\r\n",
       "}\r\n",
       "package \"Test2\" as E9   {\r\n",
       "comp usage \"x: A\" as E10  <<(T,blue)part>> {\r\n",
       "}\r\n",
       "comp usage \"y: B\" as E11  <<(T,blue)part>> {\r\n",
       "}\r\n",
       "E10 - -:|> E3\r\n",
       "E11 - -:|> E5\r\n",
       "}\r\n",
       "comp usage \"x: A\" as E12  <<(T,blue)part>> {\r\n",
       "}\r\n",
       "comp usage \"y: B\" as E13  <<(T,blue)part>> {\r\n",
       "}\r\n",
       "E12 - -:|> E3\r\n",
       "E13 - -:|> E5\r\n",
       "}\r\n",
       "@enduml\r\n",
       "\n",
       "PlantUML version 1.2020.13(Sat Jun 13 12:26:38 UTC 2020)\n",
       "(EPL source distribution)\n",
       "Java Runtime: OpenJDK Runtime Environment\n",
       "JVM: OpenJDK 64-Bit Server VM\n",
       "Default Encoding: UTF-8\n",
       "Language: en\n",
       "Country: null\n",
       "--></g></svg>"
      ]
     },
     "execution_count": 49,
     "metadata": {},
     "output_type": "execute_result"
    }
   ],
   "source": [
    "%viz --style=\"TB\" --view=\"Sequence\" \"CircularImport\""
   ]
  },
  {
   "cell_type": "code",
   "execution_count": 50,
   "id": "amber-facility",
   "metadata": {
    "execution": {
     "iopub.execute_input": "2021-03-26T09:40:19.630313Z",
     "iopub.status.busy": "2021-03-26T09:40:19.629475Z",
     "iopub.status.idle": "2021-03-26T09:40:19.665216Z",
     "shell.execute_reply": "2021-03-26T09:40:19.665556Z"
    }
   },
   "outputs": [
    {
     "data": {
      "image/svg+xml": [
       "<?xml version=\"1.0\" encoding=\"UTF-8\" standalone=\"no\"?><svg xmlns=\"http://www.w3.org/2000/svg\" xmlns:xlink=\"http://www.w3.org/1999/xlink\" contentScriptType=\"application/ecmascript\" contentStyleType=\"text/css\" height=\"303px\" preserveAspectRatio=\"none\" style=\"width:518px;height:303px;\" version=\"1.1\" viewBox=\"0 0 518 303\" width=\"518px\" zoomAndPan=\"magnify\"><defs/><g><!--MD5=[fbc87193dbaf4d95561dea2c320d4a47]\n",
       "cluster E1--><polygon fill=\"#FFFFFF\" points=\"16,6,134,6,141,28.2969,496,28.2969,496,291,16,291,16,6\" style=\"stroke: #000000; stroke-width: 1.5;\"/><line style=\"stroke: #000000; stroke-width: 1.5;\" x1=\"16\" x2=\"141\" y1=\"28.2969\" y2=\"28.2969\"/><text fill=\"#000000\" font-family=\"sans-serif\" font-size=\"14\" font-weight=\"bold\" lengthAdjust=\"spacingAndGlyphs\" textLength=\"112\" x=\"20\" y=\"20.9951\">CircularImport</text><!--MD5=[e4f7fae6ed58524ba242bb0b0d3be6b7]\n",
       "cluster E2--><polygon fill=\"#FFFFFF\" points=\"333,170,359,170,366,192.2969,431,192.2969,431,267,333,267,333,170\" style=\"stroke: #000000; stroke-width: 1.5;\"/><line style=\"stroke: #000000; stroke-width: 1.5;\" x1=\"333\" x2=\"366\" y1=\"192.2969\" y2=\"192.2969\"/><text fill=\"#000000\" font-family=\"sans-serif\" font-size=\"14\" font-weight=\"bold\" lengthAdjust=\"spacingAndGlyphs\" textLength=\"20\" x=\"337\" y=\"184.9951\">P1</text><!--MD5=[f6df4d0ebaf0b5dfb2ced0ae5af7c670]\n",
       "cluster E4--><polygon fill=\"#FFFFFF\" points=\"81,170,107,170,114,192.2969,179,192.2969,179,267,81,267,81,170\" style=\"stroke: #000000; stroke-width: 1.5;\"/><line style=\"stroke: #000000; stroke-width: 1.5;\" x1=\"81\" x2=\"114\" y1=\"192.2969\" y2=\"192.2969\"/><text fill=\"#000000\" font-family=\"sans-serif\" font-size=\"14\" font-weight=\"bold\" lengthAdjust=\"spacingAndGlyphs\" textLength=\"20\" x=\"85\" y=\"184.9951\">P2</text><!--MD5=[14e3b0961a2654348d326746436168a1]\n",
       "cluster E6--><polygon fill=\"#FFFFFF\" points=\"268,49,319,49,326,71.2969,419,71.2969,419,146,268,146,268,49\" style=\"stroke: #000000; stroke-width: 1.5;\"/><line style=\"stroke: #000000; stroke-width: 1.5;\" x1=\"268\" x2=\"326\" y1=\"71.2969\" y2=\"71.2969\"/><text fill=\"#000000\" font-family=\"sans-serif\" font-size=\"14\" font-weight=\"bold\" lengthAdjust=\"spacingAndGlyphs\" textLength=\"45\" x=\"272\" y=\"63.9951\">Test1</text><!--MD5=[7f149f147074ac12df2cb0a7728a5fb0]\n",
       "cluster E9--><polygon fill=\"#FFFFFF\" points=\"93,49,144,49,151,71.2969,244,71.2969,244,146,93,146,93,49\" style=\"stroke: #000000; stroke-width: 1.5;\"/><line style=\"stroke: #000000; stroke-width: 1.5;\" x1=\"93\" x2=\"151\" y1=\"71.2969\" y2=\"71.2969\"/><text fill=\"#000000\" font-family=\"sans-serif\" font-size=\"14\" font-weight=\"bold\" lengthAdjust=\"spacingAndGlyphs\" textLength=\"45\" x=\"97\" y=\"63.9951\">Test2</text><!--MD5=[49a0ec8f00dab7302a31f22d0f0fe584]\n",
       "class E12--><rect fill=\"#FFFFFF\" height=\"45.9375\" id=\"E12\" rx=\"10\" ry=\"10\" style=\"stroke: #383838; stroke-width: 1.5;\" width=\"42\" x=\"438\" y=\"84\"/><text fill=\"#000000\" font-family=\"sans-serif\" font-size=\"12\" font-style=\"italic\" lengthAdjust=\"spacingAndGlyphs\" textLength=\"40\" x=\"439\" y=\"100.1387\">«part»</text><text fill=\"#000000\" font-family=\"sans-serif\" font-size=\"12\" lengthAdjust=\"spacingAndGlyphs\" textLength=\"22\" x=\"448\" y=\"114.1074\">x: A</text><line style=\"stroke: #383838; stroke-width: 1.5;\" x1=\"439\" x2=\"479\" y1=\"121.9375\" y2=\"121.9375\"/><!--MD5=[ee3c913d1a06f366521f9ef512b67efe]\n",
       "class E13--><rect fill=\"#FFFFFF\" height=\"45.9375\" id=\"E13\" rx=\"10\" ry=\"10\" style=\"stroke: #383838; stroke-width: 1.5;\" width=\"42\" x=\"32\" y=\"84\"/><text fill=\"#000000\" font-family=\"sans-serif\" font-size=\"12\" font-style=\"italic\" lengthAdjust=\"spacingAndGlyphs\" textLength=\"40\" x=\"33\" y=\"100.1387\">«part»</text><text fill=\"#000000\" font-family=\"sans-serif\" font-size=\"12\" lengthAdjust=\"spacingAndGlyphs\" textLength=\"22\" x=\"42\" y=\"114.1074\">y: B</text><line style=\"stroke: #383838; stroke-width: 1.5;\" x1=\"33\" x2=\"73\" y1=\"121.9375\" y2=\"121.9375\"/><!--MD5=[09b614a08d8cba4a07c9adeb5e0fee81]\n",
       "class E3--><rect fill=\"#FFFFFF\" height=\"45.9375\" id=\"E3\" style=\"stroke: #383838; stroke-width: 1.5;\" width=\"66\" x=\"349\" y=\"205\"/><text fill=\"#000000\" font-family=\"sans-serif\" font-size=\"12\" font-style=\"italic\" lengthAdjust=\"spacingAndGlyphs\" textLength=\"64\" x=\"350\" y=\"221.1387\">«part def»</text><text fill=\"#000000\" font-family=\"sans-serif\" font-size=\"12\" lengthAdjust=\"spacingAndGlyphs\" textLength=\"8\" x=\"378\" y=\"235.1074\">A</text><line style=\"stroke: #383838; stroke-width: 1.5;\" x1=\"350\" x2=\"414\" y1=\"242.9375\" y2=\"242.9375\"/><!--MD5=[270fce915f116d4de14055a7c1d9a0f3]\n",
       "class E5--><rect fill=\"#FFFFFF\" height=\"45.9375\" id=\"E5\" style=\"stroke: #383838; stroke-width: 1.5;\" width=\"66\" x=\"97\" y=\"205\"/><text fill=\"#000000\" font-family=\"sans-serif\" font-size=\"12\" font-style=\"italic\" lengthAdjust=\"spacingAndGlyphs\" textLength=\"64\" x=\"98\" y=\"221.1387\">«part def»</text><text fill=\"#000000\" font-family=\"sans-serif\" font-size=\"12\" lengthAdjust=\"spacingAndGlyphs\" textLength=\"8\" x=\"126\" y=\"235.1074\">B</text><line style=\"stroke: #383838; stroke-width: 1.5;\" x1=\"98\" x2=\"162\" y1=\"242.9375\" y2=\"242.9375\"/><!--MD5=[2156ba9850f5573cc1fc38a6a4b2f02b]\n",
       "class E7--><rect fill=\"#FFFFFF\" height=\"45.9375\" id=\"E7\" rx=\"10\" ry=\"10\" style=\"stroke: #383838; stroke-width: 1.5;\" width=\"42\" x=\"361\" y=\"84\"/><text fill=\"#000000\" font-family=\"sans-serif\" font-size=\"12\" font-style=\"italic\" lengthAdjust=\"spacingAndGlyphs\" textLength=\"40\" x=\"362\" y=\"100.1387\">«part»</text><text fill=\"#000000\" font-family=\"sans-serif\" font-size=\"12\" lengthAdjust=\"spacingAndGlyphs\" textLength=\"22\" x=\"371\" y=\"114.1074\">x: A</text><line style=\"stroke: #383838; stroke-width: 1.5;\" x1=\"362\" x2=\"402\" y1=\"121.9375\" y2=\"121.9375\"/><!--MD5=[b9389687b975829384b498ac4b7476b2]\n",
       "class E8--><rect fill=\"#FFFFFF\" height=\"45.9375\" id=\"E8\" rx=\"10\" ry=\"10\" style=\"stroke: #383838; stroke-width: 1.5;\" width=\"42\" x=\"284\" y=\"84\"/><text fill=\"#000000\" font-family=\"sans-serif\" font-size=\"12\" font-style=\"italic\" lengthAdjust=\"spacingAndGlyphs\" textLength=\"40\" x=\"285\" y=\"100.1387\">«part»</text><text fill=\"#000000\" font-family=\"sans-serif\" font-size=\"12\" lengthAdjust=\"spacingAndGlyphs\" textLength=\"22\" x=\"294\" y=\"114.1074\">y: B</text><line style=\"stroke: #383838; stroke-width: 1.5;\" x1=\"285\" x2=\"325\" y1=\"121.9375\" y2=\"121.9375\"/><!--MD5=[96f4274e9e20536e775497830990834d]\n",
       "class E10--><rect fill=\"#FFFFFF\" height=\"45.9375\" id=\"E10\" rx=\"10\" ry=\"10\" style=\"stroke: #383838; stroke-width: 1.5;\" width=\"42\" x=\"186\" y=\"84\"/><text fill=\"#000000\" font-family=\"sans-serif\" font-size=\"12\" font-style=\"italic\" lengthAdjust=\"spacingAndGlyphs\" textLength=\"40\" x=\"187\" y=\"100.1387\">«part»</text><text fill=\"#000000\" font-family=\"sans-serif\" font-size=\"12\" lengthAdjust=\"spacingAndGlyphs\" textLength=\"22\" x=\"196\" y=\"114.1074\">x: A</text><line style=\"stroke: #383838; stroke-width: 1.5;\" x1=\"187\" x2=\"227\" y1=\"121.9375\" y2=\"121.9375\"/><!--MD5=[1dd1bfd58a279cf63c5f349dbc8fc6a1]\n",
       "class E11--><rect fill=\"#FFFFFF\" height=\"45.9375\" id=\"E11\" rx=\"10\" ry=\"10\" style=\"stroke: #383838; stroke-width: 1.5;\" width=\"42\" x=\"109\" y=\"84\"/><text fill=\"#000000\" font-family=\"sans-serif\" font-size=\"12\" font-style=\"italic\" lengthAdjust=\"spacingAndGlyphs\" textLength=\"40\" x=\"110\" y=\"100.1387\">«part»</text><text fill=\"#000000\" font-family=\"sans-serif\" font-size=\"12\" lengthAdjust=\"spacingAndGlyphs\" textLength=\"22\" x=\"119\" y=\"114.1074\">y: B</text><line style=\"stroke: #383838; stroke-width: 1.5;\" x1=\"110\" x2=\"150\" y1=\"121.9375\" y2=\"121.9375\"/><!--MD5=[14ccda38c055a5c0da953d572bc50960]\n",
       "link E7 to E3--><path d=\"M382,130.1 C382,145.37 382,166.16 382,184.57 \" fill=\"none\" id=\"E7-&gt;E3\" style=\"stroke: #383838; stroke-width: 1.0;\"/><polygon fill=\"#FFFFFF\" points=\"382,204.61,375,185.61,389,185.61,382,204.61\" style=\"stroke: #383838; stroke-width: 1.0;\"/><ellipse cx=\"377\" cy=\"179.91\" fill=\"#383838\" rx=\"2\" ry=\"2\" style=\"stroke: #383838; stroke-width: 1.0;\"/><ellipse cx=\"387\" cy=\"179.91\" fill=\"#383838\" rx=\"2\" ry=\"2\" style=\"stroke: #383838; stroke-width: 1.0;\"/><!--MD5=[1ccb2481ffa92f8d51a74ee30c51832a]\n",
       "link E8 to E5--><path d=\"M283.84,124.59 C272.23,133.52 257.5,144.61 244,154 C223.51,168.25 200.41,183.24 180.38,195.91 \" fill=\"none\" id=\"E8-&gt;E5\" style=\"stroke: #383838; stroke-width: 1.0;\"/><polygon fill=\"#FFFFFF\" points=\"163.36,206.57,175.7353,190.5434,183.175,202.403,163.36,206.57\" style=\"stroke: #383838; stroke-width: 1.0;\"/><ellipse cx=\"181.6267\" cy=\"189.2086\" fill=\"#383838\" rx=\"2\" ry=\"2\" style=\"stroke: #383838; stroke-width: 1.0;\"/><ellipse cx=\"186.9408\" cy=\"197.6797\" fill=\"#383838\" rx=\"2\" ry=\"2\" style=\"stroke: #383838; stroke-width: 1.0;\"/><!--MD5=[feeac5eb423634930294aa81f2d25a4c]\n",
       "link E10 to E3--><path d=\"M228.16,124.59 C239.77,133.52 254.5,144.61 268,154 C288.49,168.25 311.59,183.24 331.62,195.91 \" fill=\"none\" id=\"E10-&gt;E3\" style=\"stroke: #383838; stroke-width: 1.0;\"/><polygon fill=\"#FFFFFF\" points=\"348.64,206.57,328.825,202.403,336.2647,190.5434,348.64,206.57\" style=\"stroke: #383838; stroke-width: 1.0;\"/><ellipse cx=\"325.0592\" cy=\"197.6797\" fill=\"#383838\" rx=\"2\" ry=\"2\" style=\"stroke: #383838; stroke-width: 1.0;\"/><ellipse cx=\"330.3733\" cy=\"189.2086\" fill=\"#383838\" rx=\"2\" ry=\"2\" style=\"stroke: #383838; stroke-width: 1.0;\"/><!--MD5=[07b77f6f309248d16187045709d1c26e]\n",
       "link E11 to E5--><path d=\"M130,130.1 C130,145.37 130,166.16 130,184.57 \" fill=\"none\" id=\"E11-&gt;E5\" style=\"stroke: #383838; stroke-width: 1.0;\"/><polygon fill=\"#FFFFFF\" points=\"130,204.61,123,185.61,137,185.61,130,204.61\" style=\"stroke: #383838; stroke-width: 1.0;\"/><ellipse cx=\"125\" cy=\"179.91\" fill=\"#383838\" rx=\"2\" ry=\"2\" style=\"stroke: #383838; stroke-width: 1.0;\"/><ellipse cx=\"135\" cy=\"179.91\" fill=\"#383838\" rx=\"2\" ry=\"2\" style=\"stroke: #383838; stroke-width: 1.0;\"/><!--MD5=[39f41a0e550fb3d73b4d8135617e30a2]\n",
       "link E12 to E3--><path d=\"M444.7,130.1 C434.28,146.2 419.89,168.44 407.53,187.55 \" fill=\"none\" id=\"E12-&gt;E3\" style=\"stroke: #383838; stroke-width: 1.0;\"/><polygon fill=\"#FFFFFF\" points=\"396.49,204.61,400.9313,184.8546,412.6866,192.4581,396.49,204.61\" style=\"stroke: #383838; stroke-width: 1.0;\"/><ellipse cx=\"405.7063\" cy=\"181.1547\" fill=\"#383838\" rx=\"2\" ry=\"2\" style=\"stroke: #383838; stroke-width: 1.0;\"/><ellipse cx=\"414.103\" cy=\"186.5858\" fill=\"#383838\" rx=\"2\" ry=\"2\" style=\"stroke: #383838; stroke-width: 1.0;\"/><!--MD5=[066b2d8af59fea80ccdb3d54ad5c1091]\n",
       "link E13 to E5--><path d=\"M67.3,130.1 C77.72,146.2 92.11,168.44 104.47,187.55 \" fill=\"none\" id=\"E13-&gt;E5\" style=\"stroke: #383838; stroke-width: 1.0;\"/><polygon fill=\"#FFFFFF\" points=\"115.51,204.61,99.3134,192.4581,111.0687,184.8546,115.51,204.61\" style=\"stroke: #383838; stroke-width: 1.0;\"/><ellipse cx=\"97.897\" cy=\"186.5858\" fill=\"#383838\" rx=\"2\" ry=\"2\" style=\"stroke: #383838; stroke-width: 1.0;\"/><ellipse cx=\"106.2937\" cy=\"181.1547\" fill=\"#383838\" rx=\"2\" ry=\"2\" style=\"stroke: #383838; stroke-width: 1.0;\"/><!--MD5=[89e3465349983411bdee7f3343ec3be8]\n",
       "@startuml\r\n",
       "top to bottom direction\r\n",
       "skinparam monochrome true\r\n",
       "skinparam classbackgroundcolor white\r\n",
       "skinparam shadowing false\r\n",
       "skinparam wrapWidth 300\r\n",
       "hide circle\r\n",
       "\r\n",
       "package \"CircularImport\" as E1   {\r\n",
       "package \"P1\" as E2   {\r\n",
       "comp def \"A\" as E3  <<(T,blue)part def>> {\r\n",
       "}\r\n",
       "}\r\n",
       "package \"P2\" as E4   {\r\n",
       "comp def \"B\" as E5  <<(T,blue)part def>> {\r\n",
       "}\r\n",
       "}\r\n",
       "package \"Test1\" as E6   {\r\n",
       "comp usage \"x: A\" as E7  <<(T,blue)part>> {\r\n",
       "}\r\n",
       "comp usage \"y: B\" as E8  <<(T,blue)part>> {\r\n",
       "}\r\n",
       "E7 - -:|> E3\r\n",
       "E8 - -:|> E5\r\n",
       "}\r\n",
       "package \"Test2\" as E9   {\r\n",
       "comp usage \"x: A\" as E10  <<(T,blue)part>> {\r\n",
       "}\r\n",
       "comp usage \"y: B\" as E11  <<(T,blue)part>> {\r\n",
       "}\r\n",
       "E10 - -:|> E3\r\n",
       "E11 - -:|> E5\r\n",
       "}\r\n",
       "comp usage \"x: A\" as E12  <<(T,blue)part>> {\r\n",
       "}\r\n",
       "comp usage \"y: B\" as E13  <<(T,blue)part>> {\r\n",
       "}\r\n",
       "E12 - -:|> E3\r\n",
       "E13 - -:|> E5\r\n",
       "}\r\n",
       "@enduml\r\n",
       "\n",
       "PlantUML version 1.2020.13(Sat Jun 13 12:26:38 UTC 2020)\n",
       "(EPL source distribution)\n",
       "Java Runtime: OpenJDK Runtime Environment\n",
       "JVM: OpenJDK 64-Bit Server VM\n",
       "Default Encoding: UTF-8\n",
       "Language: en\n",
       "Country: null\n",
       "--></g></svg>"
      ]
     },
     "execution_count": 50,
     "metadata": {},
     "output_type": "execute_result"
    }
   ],
   "source": [
    "%viz --style=\"TB\" --view=\"MIXED\" \"CircularImport\""
   ]
  },
  {
   "cell_type": "code",
   "execution_count": 51,
   "id": "twenty-obligation",
   "metadata": {
    "execution": {
     "iopub.execute_input": "2021-03-26T09:40:19.716111Z",
     "iopub.status.busy": "2021-03-26T09:40:19.715705Z",
     "iopub.status.idle": "2021-03-26T09:40:19.748758Z",
     "shell.execute_reply": "2021-03-26T09:40:19.747484Z"
    }
   },
   "outputs": [
    {
     "data": {
      "image/svg+xml": [
       "<?xml version=\"1.0\" encoding=\"UTF-8\" standalone=\"no\"?><svg xmlns=\"http://www.w3.org/2000/svg\" xmlns:xlink=\"http://www.w3.org/1999/xlink\" contentScriptType=\"application/ecmascript\" contentStyleType=\"text/css\" height=\"303px\" preserveAspectRatio=\"none\" style=\"width:518px;height:303px;\" version=\"1.1\" viewBox=\"0 0 518 303\" width=\"518px\" zoomAndPan=\"magnify\"><defs/><g><!--MD5=[fbc87193dbaf4d95561dea2c320d4a47]\n",
       "cluster E1--><polygon fill=\"#FFFFFF\" points=\"16,6,134,6,141,28.2969,496,28.2969,496,291,16,291,16,6\" style=\"stroke: #000000; stroke-width: 1.5;\"/><line style=\"stroke: #000000; stroke-width: 1.5;\" x1=\"16\" x2=\"141\" y1=\"28.2969\" y2=\"28.2969\"/><text fill=\"#000000\" font-family=\"sans-serif\" font-size=\"14\" font-weight=\"bold\" lengthAdjust=\"spacingAndGlyphs\" textLength=\"112\" x=\"20\" y=\"20.9951\">CircularImport</text><!--MD5=[e4f7fae6ed58524ba242bb0b0d3be6b7]\n",
       "cluster E2--><polygon fill=\"#FFFFFF\" points=\"333,170,359,170,366,192.2969,431,192.2969,431,267,333,267,333,170\" style=\"stroke: #000000; stroke-width: 1.5;\"/><line style=\"stroke: #000000; stroke-width: 1.5;\" x1=\"333\" x2=\"366\" y1=\"192.2969\" y2=\"192.2969\"/><text fill=\"#000000\" font-family=\"sans-serif\" font-size=\"14\" font-weight=\"bold\" lengthAdjust=\"spacingAndGlyphs\" textLength=\"20\" x=\"337\" y=\"184.9951\">P1</text><!--MD5=[f6df4d0ebaf0b5dfb2ced0ae5af7c670]\n",
       "cluster E4--><polygon fill=\"#FFFFFF\" points=\"81,170,107,170,114,192.2969,179,192.2969,179,267,81,267,81,170\" style=\"stroke: #000000; stroke-width: 1.5;\"/><line style=\"stroke: #000000; stroke-width: 1.5;\" x1=\"81\" x2=\"114\" y1=\"192.2969\" y2=\"192.2969\"/><text fill=\"#000000\" font-family=\"sans-serif\" font-size=\"14\" font-weight=\"bold\" lengthAdjust=\"spacingAndGlyphs\" textLength=\"20\" x=\"85\" y=\"184.9951\">P2</text><!--MD5=[14e3b0961a2654348d326746436168a1]\n",
       "cluster E6--><polygon fill=\"#FFFFFF\" points=\"268,49,319,49,326,71.2969,419,71.2969,419,146,268,146,268,49\" style=\"stroke: #000000; stroke-width: 1.5;\"/><line style=\"stroke: #000000; stroke-width: 1.5;\" x1=\"268\" x2=\"326\" y1=\"71.2969\" y2=\"71.2969\"/><text fill=\"#000000\" font-family=\"sans-serif\" font-size=\"14\" font-weight=\"bold\" lengthAdjust=\"spacingAndGlyphs\" textLength=\"45\" x=\"272\" y=\"63.9951\">Test1</text><!--MD5=[7f149f147074ac12df2cb0a7728a5fb0]\n",
       "cluster E9--><polygon fill=\"#FFFFFF\" points=\"93,49,144,49,151,71.2969,244,71.2969,244,146,93,146,93,49\" style=\"stroke: #000000; stroke-width: 1.5;\"/><line style=\"stroke: #000000; stroke-width: 1.5;\" x1=\"93\" x2=\"151\" y1=\"71.2969\" y2=\"71.2969\"/><text fill=\"#000000\" font-family=\"sans-serif\" font-size=\"14\" font-weight=\"bold\" lengthAdjust=\"spacingAndGlyphs\" textLength=\"45\" x=\"97\" y=\"63.9951\">Test2</text><!--MD5=[49a0ec8f00dab7302a31f22d0f0fe584]\n",
       "class E12--><rect fill=\"#FFFFFF\" height=\"45.9375\" id=\"E12\" rx=\"10\" ry=\"10\" style=\"stroke: #383838; stroke-width: 1.5;\" width=\"42\" x=\"438\" y=\"84\"/><text fill=\"#000000\" font-family=\"sans-serif\" font-size=\"12\" font-style=\"italic\" lengthAdjust=\"spacingAndGlyphs\" textLength=\"40\" x=\"439\" y=\"100.1387\">«part»</text><text fill=\"#000000\" font-family=\"sans-serif\" font-size=\"12\" lengthAdjust=\"spacingAndGlyphs\" textLength=\"22\" x=\"448\" y=\"114.1074\">x: A</text><line style=\"stroke: #383838; stroke-width: 1.5;\" x1=\"439\" x2=\"479\" y1=\"121.9375\" y2=\"121.9375\"/><!--MD5=[ee3c913d1a06f366521f9ef512b67efe]\n",
       "class E13--><rect fill=\"#FFFFFF\" height=\"45.9375\" id=\"E13\" rx=\"10\" ry=\"10\" style=\"stroke: #383838; stroke-width: 1.5;\" width=\"42\" x=\"32\" y=\"84\"/><text fill=\"#000000\" font-family=\"sans-serif\" font-size=\"12\" font-style=\"italic\" lengthAdjust=\"spacingAndGlyphs\" textLength=\"40\" x=\"33\" y=\"100.1387\">«part»</text><text fill=\"#000000\" font-family=\"sans-serif\" font-size=\"12\" lengthAdjust=\"spacingAndGlyphs\" textLength=\"22\" x=\"42\" y=\"114.1074\">y: B</text><line style=\"stroke: #383838; stroke-width: 1.5;\" x1=\"33\" x2=\"73\" y1=\"121.9375\" y2=\"121.9375\"/><!--MD5=[09b614a08d8cba4a07c9adeb5e0fee81]\n",
       "class E3--><rect fill=\"#FFFFFF\" height=\"45.9375\" id=\"E3\" style=\"stroke: #383838; stroke-width: 1.5;\" width=\"66\" x=\"349\" y=\"205\"/><text fill=\"#000000\" font-family=\"sans-serif\" font-size=\"12\" font-style=\"italic\" lengthAdjust=\"spacingAndGlyphs\" textLength=\"64\" x=\"350\" y=\"221.1387\">«part def»</text><text fill=\"#000000\" font-family=\"sans-serif\" font-size=\"12\" lengthAdjust=\"spacingAndGlyphs\" textLength=\"8\" x=\"378\" y=\"235.1074\">A</text><line style=\"stroke: #383838; stroke-width: 1.5;\" x1=\"350\" x2=\"414\" y1=\"242.9375\" y2=\"242.9375\"/><!--MD5=[270fce915f116d4de14055a7c1d9a0f3]\n",
       "class E5--><rect fill=\"#FFFFFF\" height=\"45.9375\" id=\"E5\" style=\"stroke: #383838; stroke-width: 1.5;\" width=\"66\" x=\"97\" y=\"205\"/><text fill=\"#000000\" font-family=\"sans-serif\" font-size=\"12\" font-style=\"italic\" lengthAdjust=\"spacingAndGlyphs\" textLength=\"64\" x=\"98\" y=\"221.1387\">«part def»</text><text fill=\"#000000\" font-family=\"sans-serif\" font-size=\"12\" lengthAdjust=\"spacingAndGlyphs\" textLength=\"8\" x=\"126\" y=\"235.1074\">B</text><line style=\"stroke: #383838; stroke-width: 1.5;\" x1=\"98\" x2=\"162\" y1=\"242.9375\" y2=\"242.9375\"/><!--MD5=[2156ba9850f5573cc1fc38a6a4b2f02b]\n",
       "class E7--><rect fill=\"#FFFFFF\" height=\"45.9375\" id=\"E7\" rx=\"10\" ry=\"10\" style=\"stroke: #383838; stroke-width: 1.5;\" width=\"42\" x=\"361\" y=\"84\"/><text fill=\"#000000\" font-family=\"sans-serif\" font-size=\"12\" font-style=\"italic\" lengthAdjust=\"spacingAndGlyphs\" textLength=\"40\" x=\"362\" y=\"100.1387\">«part»</text><text fill=\"#000000\" font-family=\"sans-serif\" font-size=\"12\" lengthAdjust=\"spacingAndGlyphs\" textLength=\"22\" x=\"371\" y=\"114.1074\">x: A</text><line style=\"stroke: #383838; stroke-width: 1.5;\" x1=\"362\" x2=\"402\" y1=\"121.9375\" y2=\"121.9375\"/><!--MD5=[b9389687b975829384b498ac4b7476b2]\n",
       "class E8--><rect fill=\"#FFFFFF\" height=\"45.9375\" id=\"E8\" rx=\"10\" ry=\"10\" style=\"stroke: #383838; stroke-width: 1.5;\" width=\"42\" x=\"284\" y=\"84\"/><text fill=\"#000000\" font-family=\"sans-serif\" font-size=\"12\" font-style=\"italic\" lengthAdjust=\"spacingAndGlyphs\" textLength=\"40\" x=\"285\" y=\"100.1387\">«part»</text><text fill=\"#000000\" font-family=\"sans-serif\" font-size=\"12\" lengthAdjust=\"spacingAndGlyphs\" textLength=\"22\" x=\"294\" y=\"114.1074\">y: B</text><line style=\"stroke: #383838; stroke-width: 1.5;\" x1=\"285\" x2=\"325\" y1=\"121.9375\" y2=\"121.9375\"/><!--MD5=[96f4274e9e20536e775497830990834d]\n",
       "class E10--><rect fill=\"#FFFFFF\" height=\"45.9375\" id=\"E10\" rx=\"10\" ry=\"10\" style=\"stroke: #383838; stroke-width: 1.5;\" width=\"42\" x=\"186\" y=\"84\"/><text fill=\"#000000\" font-family=\"sans-serif\" font-size=\"12\" font-style=\"italic\" lengthAdjust=\"spacingAndGlyphs\" textLength=\"40\" x=\"187\" y=\"100.1387\">«part»</text><text fill=\"#000000\" font-family=\"sans-serif\" font-size=\"12\" lengthAdjust=\"spacingAndGlyphs\" textLength=\"22\" x=\"196\" y=\"114.1074\">x: A</text><line style=\"stroke: #383838; stroke-width: 1.5;\" x1=\"187\" x2=\"227\" y1=\"121.9375\" y2=\"121.9375\"/><!--MD5=[1dd1bfd58a279cf63c5f349dbc8fc6a1]\n",
       "class E11--><rect fill=\"#FFFFFF\" height=\"45.9375\" id=\"E11\" rx=\"10\" ry=\"10\" style=\"stroke: #383838; stroke-width: 1.5;\" width=\"42\" x=\"109\" y=\"84\"/><text fill=\"#000000\" font-family=\"sans-serif\" font-size=\"12\" font-style=\"italic\" lengthAdjust=\"spacingAndGlyphs\" textLength=\"40\" x=\"110\" y=\"100.1387\">«part»</text><text fill=\"#000000\" font-family=\"sans-serif\" font-size=\"12\" lengthAdjust=\"spacingAndGlyphs\" textLength=\"22\" x=\"119\" y=\"114.1074\">y: B</text><line style=\"stroke: #383838; stroke-width: 1.5;\" x1=\"110\" x2=\"150\" y1=\"121.9375\" y2=\"121.9375\"/><!--MD5=[14ccda38c055a5c0da953d572bc50960]\n",
       "link E7 to E3--><path d=\"M382,130.04 C382,130.04 382,184.63 382,184.63 \" fill=\"none\" id=\"E7-&gt;E3\" style=\"stroke: #383838; stroke-width: 1.0;\"/><polygon fill=\"#FFFFFF\" points=\"382,204.63,375,185.63,389,185.63,382,204.63\" style=\"stroke: #383838; stroke-width: 1.0;\"/><ellipse cx=\"377\" cy=\"179.93\" fill=\"#383838\" rx=\"2\" ry=\"2\" style=\"stroke: #383838; stroke-width: 1.0;\"/><ellipse cx=\"387\" cy=\"179.93\" fill=\"#383838\" rx=\"2\" ry=\"2\" style=\"stroke: #383838; stroke-width: 1.0;\"/><!--MD5=[1ccb2481ffa92f8d51a74ee30c51832a]\n",
       "link E8 to E5--><path d=\"M305,130.06 C305,167.17 305,236 305,236 C305,236 183.33,236 183.33,236 \" fill=\"none\" id=\"E8-&gt;E5\" style=\"stroke: #383838; stroke-width: 1.0;\"/><polygon fill=\"#FFFFFF\" points=\"163.33,236,182.33,229,182.33,243,163.33,236\" style=\"stroke: #383838; stroke-width: 1.0;\"/><ellipse cx=\"188.03\" cy=\"231\" fill=\"#383838\" rx=\"2\" ry=\"2\" style=\"stroke: #383838; stroke-width: 1.0;\"/><ellipse cx=\"188.03\" cy=\"241\" fill=\"#383838\" rx=\"2\" ry=\"2\" style=\"stroke: #383838; stroke-width: 1.0;\"/><!--MD5=[feeac5eb423634930294aa81f2d25a4c]\n",
       "link E10 to E3--><path d=\"M207,130.07 C207,163.38 207,221 207,221 C207,221 328.67,221 328.67,221 \" fill=\"none\" id=\"E10-&gt;E3\" style=\"stroke: #383838; stroke-width: 1.0;\"/><polygon fill=\"#FFFFFF\" points=\"348.67,221,329.67,228,329.67,214,348.67,221\" style=\"stroke: #383838; stroke-width: 1.0;\"/><ellipse cx=\"323.97\" cy=\"226\" fill=\"#383838\" rx=\"2\" ry=\"2\" style=\"stroke: #383838; stroke-width: 1.0;\"/><ellipse cx=\"323.97\" cy=\"216\" fill=\"#383838\" rx=\"2\" ry=\"2\" style=\"stroke: #383838; stroke-width: 1.0;\"/><!--MD5=[07b77f6f309248d16187045709d1c26e]\n",
       "link E11 to E5--><path d=\"M130,130.04 C130,130.04 130,184.63 130,184.63 \" fill=\"none\" id=\"E11-&gt;E5\" style=\"stroke: #383838; stroke-width: 1.0;\"/><polygon fill=\"#FFFFFF\" points=\"130,204.63,123,185.63,137,185.63,130,204.63\" style=\"stroke: #383838; stroke-width: 1.0;\"/><ellipse cx=\"125\" cy=\"179.93\" fill=\"#383838\" rx=\"2\" ry=\"2\" style=\"stroke: #383838; stroke-width: 1.0;\"/><ellipse cx=\"135\" cy=\"179.93\" fill=\"#383838\" rx=\"2\" ry=\"2\" style=\"stroke: #383838; stroke-width: 1.0;\"/><!--MD5=[39f41a0e550fb3d73b4d8135617e30a2]\n",
       "link E12 to E3--><path d=\"M437.8,107 C424.17,107 409,107 409,107 C409,107 409,184.96 409,184.96 \" fill=\"none\" id=\"E12-&gt;E3\" style=\"stroke: #383838; stroke-width: 1.0;\"/><polygon fill=\"#FFFFFF\" points=\"409,204.96,402,185.96,416,185.96,409,204.96\" style=\"stroke: #383838; stroke-width: 1.0;\"/><ellipse cx=\"404\" cy=\"180.26\" fill=\"#383838\" rx=\"2\" ry=\"2\" style=\"stroke: #383838; stroke-width: 1.0;\"/><ellipse cx=\"414\" cy=\"180.26\" fill=\"#383838\" rx=\"2\" ry=\"2\" style=\"stroke: #383838; stroke-width: 1.0;\"/><!--MD5=[066b2d8af59fea80ccdb3d54ad5c1091]\n",
       "link E13 to E5--><path d=\"M74.2,107 C87.83,107 103,107 103,107 C103,107 103,184.96 103,184.96 \" fill=\"none\" id=\"E13-&gt;E5\" style=\"stroke: #383838; stroke-width: 1.0;\"/><polygon fill=\"#FFFFFF\" points=\"103,204.96,96,185.96,110,185.96,103,204.96\" style=\"stroke: #383838; stroke-width: 1.0;\"/><ellipse cx=\"98\" cy=\"180.26\" fill=\"#383838\" rx=\"2\" ry=\"2\" style=\"stroke: #383838; stroke-width: 1.0;\"/><ellipse cx=\"108\" cy=\"180.26\" fill=\"#383838\" rx=\"2\" ry=\"2\" style=\"stroke: #383838; stroke-width: 1.0;\"/><!--MD5=[22806fa19e1720748ac394aedba881c8]\n",
       "@startuml\r\n",
       "skinparam linetype ortho\r\n",
       "skinparam monochrome true\r\n",
       "skinparam classbackgroundcolor white\r\n",
       "skinparam shadowing false\r\n",
       "skinparam wrapWidth 300\r\n",
       "hide circle\r\n",
       "\r\n",
       "package \"CircularImport\" as E1   {\r\n",
       "package \"P1\" as E2   {\r\n",
       "comp def \"A\" as E3  <<(T,blue)part def>> {\r\n",
       "}\r\n",
       "}\r\n",
       "package \"P2\" as E4   {\r\n",
       "comp def \"B\" as E5  <<(T,blue)part def>> {\r\n",
       "}\r\n",
       "}\r\n",
       "package \"Test1\" as E6   {\r\n",
       "comp usage \"x: A\" as E7  <<(T,blue)part>> {\r\n",
       "}\r\n",
       "comp usage \"y: B\" as E8  <<(T,blue)part>> {\r\n",
       "}\r\n",
       "E7 - -:|> E3\r\n",
       "E8 - -:|> E5\r\n",
       "}\r\n",
       "package \"Test2\" as E9   {\r\n",
       "comp usage \"x: A\" as E10  <<(T,blue)part>> {\r\n",
       "}\r\n",
       "comp usage \"y: B\" as E11  <<(T,blue)part>> {\r\n",
       "}\r\n",
       "E10 - -:|> E3\r\n",
       "E11 - -:|> E5\r\n",
       "}\r\n",
       "comp usage \"x: A\" as E12  <<(T,blue)part>> {\r\n",
       "}\r\n",
       "comp usage \"y: B\" as E13  <<(T,blue)part>> {\r\n",
       "}\r\n",
       "E12 - -:|> E3\r\n",
       "E13 - -:|> E5\r\n",
       "}\r\n",
       "@enduml\r\n",
       "\n",
       "PlantUML version 1.2020.13(Sat Jun 13 12:26:38 UTC 2020)\n",
       "(EPL source distribution)\n",
       "Java Runtime: OpenJDK Runtime Environment\n",
       "JVM: OpenJDK 64-Bit Server VM\n",
       "Default Encoding: UTF-8\n",
       "Language: en\n",
       "Country: null\n",
       "--></g></svg>"
      ]
     },
     "execution_count": 51,
     "metadata": {},
     "output_type": "execute_result"
    }
   ],
   "source": [
    "%viz --style=\"ORTHOLINE\" --view=\"Default\" \"CircularImport\""
   ]
  },
  {
   "cell_type": "code",
   "execution_count": 52,
   "id": "competitive-christopher",
   "metadata": {
    "execution": {
     "iopub.execute_input": "2021-03-26T09:40:19.798711Z",
     "iopub.status.busy": "2021-03-26T09:40:19.798334Z",
     "iopub.status.idle": "2021-03-26T09:40:19.841361Z",
     "shell.execute_reply": "2021-03-26T09:40:19.840879Z"
    }
   },
   "outputs": [
    {
     "data": {
      "image/svg+xml": [
       "<?xml version=\"1.0\" encoding=\"UTF-8\" standalone=\"no\"?><svg xmlns=\"http://www.w3.org/2000/svg\" xmlns:xlink=\"http://www.w3.org/1999/xlink\" contentScriptType=\"application/ecmascript\" contentStyleType=\"text/css\" height=\"303px\" preserveAspectRatio=\"none\" style=\"width:518px;height:303px;\" version=\"1.1\" viewBox=\"0 0 518 303\" width=\"518px\" zoomAndPan=\"magnify\"><defs/><g><!--MD5=[fbc87193dbaf4d95561dea2c320d4a47]\n",
       "cluster E1--><polygon fill=\"#FFFFFF\" points=\"16,6,134,6,141,28.2969,496,28.2969,496,291,16,291,16,6\" style=\"stroke: #000000; stroke-width: 1.5;\"/><line style=\"stroke: #000000; stroke-width: 1.5;\" x1=\"16\" x2=\"141\" y1=\"28.2969\" y2=\"28.2969\"/><text fill=\"#000000\" font-family=\"sans-serif\" font-size=\"14\" font-weight=\"bold\" lengthAdjust=\"spacingAndGlyphs\" textLength=\"112\" x=\"20\" y=\"20.9951\">CircularImport</text><!--MD5=[e4f7fae6ed58524ba242bb0b0d3be6b7]\n",
       "cluster E2--><polygon fill=\"#FFFFFF\" points=\"333,170,359,170,366,192.2969,431,192.2969,431,267,333,267,333,170\" style=\"stroke: #000000; stroke-width: 1.5;\"/><line style=\"stroke: #000000; stroke-width: 1.5;\" x1=\"333\" x2=\"366\" y1=\"192.2969\" y2=\"192.2969\"/><text fill=\"#000000\" font-family=\"sans-serif\" font-size=\"14\" font-weight=\"bold\" lengthAdjust=\"spacingAndGlyphs\" textLength=\"20\" x=\"337\" y=\"184.9951\">P1</text><!--MD5=[f6df4d0ebaf0b5dfb2ced0ae5af7c670]\n",
       "cluster E4--><polygon fill=\"#FFFFFF\" points=\"81,170,107,170,114,192.2969,179,192.2969,179,267,81,267,81,170\" style=\"stroke: #000000; stroke-width: 1.5;\"/><line style=\"stroke: #000000; stroke-width: 1.5;\" x1=\"81\" x2=\"114\" y1=\"192.2969\" y2=\"192.2969\"/><text fill=\"#000000\" font-family=\"sans-serif\" font-size=\"14\" font-weight=\"bold\" lengthAdjust=\"spacingAndGlyphs\" textLength=\"20\" x=\"85\" y=\"184.9951\">P2</text><!--MD5=[14e3b0961a2654348d326746436168a1]\n",
       "cluster E6--><polygon fill=\"#FFFFFF\" points=\"268,49,319,49,326,71.2969,419,71.2969,419,146,268,146,268,49\" style=\"stroke: #000000; stroke-width: 1.5;\"/><line style=\"stroke: #000000; stroke-width: 1.5;\" x1=\"268\" x2=\"326\" y1=\"71.2969\" y2=\"71.2969\"/><text fill=\"#000000\" font-family=\"sans-serif\" font-size=\"14\" font-weight=\"bold\" lengthAdjust=\"spacingAndGlyphs\" textLength=\"45\" x=\"272\" y=\"63.9951\">Test1</text><!--MD5=[7f149f147074ac12df2cb0a7728a5fb0]\n",
       "cluster E9--><polygon fill=\"#FFFFFF\" points=\"93,49,144,49,151,71.2969,244,71.2969,244,146,93,146,93,49\" style=\"stroke: #000000; stroke-width: 1.5;\"/><line style=\"stroke: #000000; stroke-width: 1.5;\" x1=\"93\" x2=\"151\" y1=\"71.2969\" y2=\"71.2969\"/><text fill=\"#000000\" font-family=\"sans-serif\" font-size=\"14\" font-weight=\"bold\" lengthAdjust=\"spacingAndGlyphs\" textLength=\"45\" x=\"97\" y=\"63.9951\">Test2</text><!--MD5=[49a0ec8f00dab7302a31f22d0f0fe584]\n",
       "class E12--><rect fill=\"#FFFFFF\" height=\"45.9375\" id=\"E12\" rx=\"10\" ry=\"10\" style=\"stroke: #383838; stroke-width: 1.5;\" width=\"42\" x=\"438\" y=\"84\"/><text fill=\"#000000\" font-family=\"sans-serif\" font-size=\"12\" font-style=\"italic\" lengthAdjust=\"spacingAndGlyphs\" textLength=\"40\" x=\"439\" y=\"100.1387\">«part»</text><text fill=\"#000000\" font-family=\"sans-serif\" font-size=\"12\" lengthAdjust=\"spacingAndGlyphs\" textLength=\"22\" x=\"448\" y=\"114.1074\">x: A</text><line style=\"stroke: #383838; stroke-width: 1.5;\" x1=\"439\" x2=\"479\" y1=\"121.9375\" y2=\"121.9375\"/><!--MD5=[ee3c913d1a06f366521f9ef512b67efe]\n",
       "class E13--><rect fill=\"#FFFFFF\" height=\"45.9375\" id=\"E13\" rx=\"10\" ry=\"10\" style=\"stroke: #383838; stroke-width: 1.5;\" width=\"42\" x=\"32\" y=\"84\"/><text fill=\"#000000\" font-family=\"sans-serif\" font-size=\"12\" font-style=\"italic\" lengthAdjust=\"spacingAndGlyphs\" textLength=\"40\" x=\"33\" y=\"100.1387\">«part»</text><text fill=\"#000000\" font-family=\"sans-serif\" font-size=\"12\" lengthAdjust=\"spacingAndGlyphs\" textLength=\"22\" x=\"42\" y=\"114.1074\">y: B</text><line style=\"stroke: #383838; stroke-width: 1.5;\" x1=\"33\" x2=\"73\" y1=\"121.9375\" y2=\"121.9375\"/><!--MD5=[09b614a08d8cba4a07c9adeb5e0fee81]\n",
       "class E3--><rect fill=\"#FFFFFF\" height=\"45.9375\" id=\"E3\" style=\"stroke: #383838; stroke-width: 1.5;\" width=\"66\" x=\"349\" y=\"205\"/><text fill=\"#000000\" font-family=\"sans-serif\" font-size=\"12\" font-style=\"italic\" lengthAdjust=\"spacingAndGlyphs\" textLength=\"64\" x=\"350\" y=\"221.1387\">«part def»</text><text fill=\"#000000\" font-family=\"sans-serif\" font-size=\"12\" lengthAdjust=\"spacingAndGlyphs\" textLength=\"8\" x=\"378\" y=\"235.1074\">A</text><line style=\"stroke: #383838; stroke-width: 1.5;\" x1=\"350\" x2=\"414\" y1=\"242.9375\" y2=\"242.9375\"/><!--MD5=[270fce915f116d4de14055a7c1d9a0f3]\n",
       "class E5--><rect fill=\"#FFFFFF\" height=\"45.9375\" id=\"E5\" style=\"stroke: #383838; stroke-width: 1.5;\" width=\"66\" x=\"97\" y=\"205\"/><text fill=\"#000000\" font-family=\"sans-serif\" font-size=\"12\" font-style=\"italic\" lengthAdjust=\"spacingAndGlyphs\" textLength=\"64\" x=\"98\" y=\"221.1387\">«part def»</text><text fill=\"#000000\" font-family=\"sans-serif\" font-size=\"12\" lengthAdjust=\"spacingAndGlyphs\" textLength=\"8\" x=\"126\" y=\"235.1074\">B</text><line style=\"stroke: #383838; stroke-width: 1.5;\" x1=\"98\" x2=\"162\" y1=\"242.9375\" y2=\"242.9375\"/><!--MD5=[2156ba9850f5573cc1fc38a6a4b2f02b]\n",
       "class E7--><rect fill=\"#FFFFFF\" height=\"45.9375\" id=\"E7\" rx=\"10\" ry=\"10\" style=\"stroke: #383838; stroke-width: 1.5;\" width=\"42\" x=\"361\" y=\"84\"/><text fill=\"#000000\" font-family=\"sans-serif\" font-size=\"12\" font-style=\"italic\" lengthAdjust=\"spacingAndGlyphs\" textLength=\"40\" x=\"362\" y=\"100.1387\">«part»</text><text fill=\"#000000\" font-family=\"sans-serif\" font-size=\"12\" lengthAdjust=\"spacingAndGlyphs\" textLength=\"22\" x=\"371\" y=\"114.1074\">x: A</text><line style=\"stroke: #383838; stroke-width: 1.5;\" x1=\"362\" x2=\"402\" y1=\"121.9375\" y2=\"121.9375\"/><!--MD5=[b9389687b975829384b498ac4b7476b2]\n",
       "class E8--><rect fill=\"#FFFFFF\" height=\"45.9375\" id=\"E8\" rx=\"10\" ry=\"10\" style=\"stroke: #383838; stroke-width: 1.5;\" width=\"42\" x=\"284\" y=\"84\"/><text fill=\"#000000\" font-family=\"sans-serif\" font-size=\"12\" font-style=\"italic\" lengthAdjust=\"spacingAndGlyphs\" textLength=\"40\" x=\"285\" y=\"100.1387\">«part»</text><text fill=\"#000000\" font-family=\"sans-serif\" font-size=\"12\" lengthAdjust=\"spacingAndGlyphs\" textLength=\"22\" x=\"294\" y=\"114.1074\">y: B</text><line style=\"stroke: #383838; stroke-width: 1.5;\" x1=\"285\" x2=\"325\" y1=\"121.9375\" y2=\"121.9375\"/><!--MD5=[96f4274e9e20536e775497830990834d]\n",
       "class E10--><rect fill=\"#FFFFFF\" height=\"45.9375\" id=\"E10\" rx=\"10\" ry=\"10\" style=\"stroke: #383838; stroke-width: 1.5;\" width=\"42\" x=\"186\" y=\"84\"/><text fill=\"#000000\" font-family=\"sans-serif\" font-size=\"12\" font-style=\"italic\" lengthAdjust=\"spacingAndGlyphs\" textLength=\"40\" x=\"187\" y=\"100.1387\">«part»</text><text fill=\"#000000\" font-family=\"sans-serif\" font-size=\"12\" lengthAdjust=\"spacingAndGlyphs\" textLength=\"22\" x=\"196\" y=\"114.1074\">x: A</text><line style=\"stroke: #383838; stroke-width: 1.5;\" x1=\"187\" x2=\"227\" y1=\"121.9375\" y2=\"121.9375\"/><!--MD5=[1dd1bfd58a279cf63c5f349dbc8fc6a1]\n",
       "class E11--><rect fill=\"#FFFFFF\" height=\"45.9375\" id=\"E11\" rx=\"10\" ry=\"10\" style=\"stroke: #383838; stroke-width: 1.5;\" width=\"42\" x=\"109\" y=\"84\"/><text fill=\"#000000\" font-family=\"sans-serif\" font-size=\"12\" font-style=\"italic\" lengthAdjust=\"spacingAndGlyphs\" textLength=\"40\" x=\"110\" y=\"100.1387\">«part»</text><text fill=\"#000000\" font-family=\"sans-serif\" font-size=\"12\" lengthAdjust=\"spacingAndGlyphs\" textLength=\"22\" x=\"119\" y=\"114.1074\">y: B</text><line style=\"stroke: #383838; stroke-width: 1.5;\" x1=\"110\" x2=\"150\" y1=\"121.9375\" y2=\"121.9375\"/><!--MD5=[14ccda38c055a5c0da953d572bc50960]\n",
       "link E7 to E3--><path d=\"M382,130.04 C382,130.04 382,184.63 382,184.63 \" fill=\"none\" id=\"E7-&gt;E3\" style=\"stroke: #383838; stroke-width: 1.0;\"/><polygon fill=\"#FFFFFF\" points=\"382,204.63,375,185.63,389,185.63,382,204.63\" style=\"stroke: #383838; stroke-width: 1.0;\"/><ellipse cx=\"377\" cy=\"179.93\" fill=\"#383838\" rx=\"2\" ry=\"2\" style=\"stroke: #383838; stroke-width: 1.0;\"/><ellipse cx=\"387\" cy=\"179.93\" fill=\"#383838\" rx=\"2\" ry=\"2\" style=\"stroke: #383838; stroke-width: 1.0;\"/><!--MD5=[1ccb2481ffa92f8d51a74ee30c51832a]\n",
       "link E8 to E5--><path d=\"M305,130.06 C305,167.17 305,236 305,236 C305,236 183.33,236 183.33,236 \" fill=\"none\" id=\"E8-&gt;E5\" style=\"stroke: #383838; stroke-width: 1.0;\"/><polygon fill=\"#FFFFFF\" points=\"163.33,236,182.33,229,182.33,243,163.33,236\" style=\"stroke: #383838; stroke-width: 1.0;\"/><ellipse cx=\"188.03\" cy=\"231\" fill=\"#383838\" rx=\"2\" ry=\"2\" style=\"stroke: #383838; stroke-width: 1.0;\"/><ellipse cx=\"188.03\" cy=\"241\" fill=\"#383838\" rx=\"2\" ry=\"2\" style=\"stroke: #383838; stroke-width: 1.0;\"/><!--MD5=[feeac5eb423634930294aa81f2d25a4c]\n",
       "link E10 to E3--><path d=\"M207,130.07 C207,163.38 207,221 207,221 C207,221 328.67,221 328.67,221 \" fill=\"none\" id=\"E10-&gt;E3\" style=\"stroke: #383838; stroke-width: 1.0;\"/><polygon fill=\"#FFFFFF\" points=\"348.67,221,329.67,228,329.67,214,348.67,221\" style=\"stroke: #383838; stroke-width: 1.0;\"/><ellipse cx=\"323.97\" cy=\"226\" fill=\"#383838\" rx=\"2\" ry=\"2\" style=\"stroke: #383838; stroke-width: 1.0;\"/><ellipse cx=\"323.97\" cy=\"216\" fill=\"#383838\" rx=\"2\" ry=\"2\" style=\"stroke: #383838; stroke-width: 1.0;\"/><!--MD5=[07b77f6f309248d16187045709d1c26e]\n",
       "link E11 to E5--><path d=\"M130,130.04 C130,130.04 130,184.63 130,184.63 \" fill=\"none\" id=\"E11-&gt;E5\" style=\"stroke: #383838; stroke-width: 1.0;\"/><polygon fill=\"#FFFFFF\" points=\"130,204.63,123,185.63,137,185.63,130,204.63\" style=\"stroke: #383838; stroke-width: 1.0;\"/><ellipse cx=\"125\" cy=\"179.93\" fill=\"#383838\" rx=\"2\" ry=\"2\" style=\"stroke: #383838; stroke-width: 1.0;\"/><ellipse cx=\"135\" cy=\"179.93\" fill=\"#383838\" rx=\"2\" ry=\"2\" style=\"stroke: #383838; stroke-width: 1.0;\"/><!--MD5=[39f41a0e550fb3d73b4d8135617e30a2]\n",
       "link E12 to E3--><path d=\"M437.8,107 C424.17,107 409,107 409,107 C409,107 409,184.96 409,184.96 \" fill=\"none\" id=\"E12-&gt;E3\" style=\"stroke: #383838; stroke-width: 1.0;\"/><polygon fill=\"#FFFFFF\" points=\"409,204.96,402,185.96,416,185.96,409,204.96\" style=\"stroke: #383838; stroke-width: 1.0;\"/><ellipse cx=\"404\" cy=\"180.26\" fill=\"#383838\" rx=\"2\" ry=\"2\" style=\"stroke: #383838; stroke-width: 1.0;\"/><ellipse cx=\"414\" cy=\"180.26\" fill=\"#383838\" rx=\"2\" ry=\"2\" style=\"stroke: #383838; stroke-width: 1.0;\"/><!--MD5=[066b2d8af59fea80ccdb3d54ad5c1091]\n",
       "link E13 to E5--><path d=\"M74.2,107 C87.83,107 103,107 103,107 C103,107 103,184.96 103,184.96 \" fill=\"none\" id=\"E13-&gt;E5\" style=\"stroke: #383838; stroke-width: 1.0;\"/><polygon fill=\"#FFFFFF\" points=\"103,204.96,96,185.96,110,185.96,103,204.96\" style=\"stroke: #383838; stroke-width: 1.0;\"/><ellipse cx=\"98\" cy=\"180.26\" fill=\"#383838\" rx=\"2\" ry=\"2\" style=\"stroke: #383838; stroke-width: 1.0;\"/><ellipse cx=\"108\" cy=\"180.26\" fill=\"#383838\" rx=\"2\" ry=\"2\" style=\"stroke: #383838; stroke-width: 1.0;\"/><!--MD5=[22806fa19e1720748ac394aedba881c8]\n",
       "@startuml\r\n",
       "skinparam linetype ortho\r\n",
       "skinparam monochrome true\r\n",
       "skinparam classbackgroundcolor white\r\n",
       "skinparam shadowing false\r\n",
       "skinparam wrapWidth 300\r\n",
       "hide circle\r\n",
       "\r\n",
       "package \"CircularImport\" as E1   {\r\n",
       "package \"P1\" as E2   {\r\n",
       "comp def \"A\" as E3  <<(T,blue)part def>> {\r\n",
       "}\r\n",
       "}\r\n",
       "package \"P2\" as E4   {\r\n",
       "comp def \"B\" as E5  <<(T,blue)part def>> {\r\n",
       "}\r\n",
       "}\r\n",
       "package \"Test1\" as E6   {\r\n",
       "comp usage \"x: A\" as E7  <<(T,blue)part>> {\r\n",
       "}\r\n",
       "comp usage \"y: B\" as E8  <<(T,blue)part>> {\r\n",
       "}\r\n",
       "E7 - -:|> E3\r\n",
       "E8 - -:|> E5\r\n",
       "}\r\n",
       "package \"Test2\" as E9   {\r\n",
       "comp usage \"x: A\" as E10  <<(T,blue)part>> {\r\n",
       "}\r\n",
       "comp usage \"y: B\" as E11  <<(T,blue)part>> {\r\n",
       "}\r\n",
       "E10 - -:|> E3\r\n",
       "E11 - -:|> E5\r\n",
       "}\r\n",
       "comp usage \"x: A\" as E12  <<(T,blue)part>> {\r\n",
       "}\r\n",
       "comp usage \"y: B\" as E13  <<(T,blue)part>> {\r\n",
       "}\r\n",
       "E12 - -:|> E3\r\n",
       "E13 - -:|> E5\r\n",
       "}\r\n",
       "@enduml\r\n",
       "\n",
       "PlantUML version 1.2020.13(Sat Jun 13 12:26:38 UTC 2020)\n",
       "(EPL source distribution)\n",
       "Java Runtime: OpenJDK Runtime Environment\n",
       "JVM: OpenJDK 64-Bit Server VM\n",
       "Default Encoding: UTF-8\n",
       "Language: en\n",
       "Country: null\n",
       "--></g></svg>"
      ]
     },
     "execution_count": 52,
     "metadata": {},
     "output_type": "execute_result"
    }
   ],
   "source": [
    "%viz --style=\"ORTHOLINE\" --view=\"Tree\" \"CircularImport\""
   ]
  },
  {
   "cell_type": "code",
   "execution_count": 53,
   "id": "configured-constraint",
   "metadata": {
    "execution": {
     "iopub.execute_input": "2021-03-26T09:40:19.892641Z",
     "iopub.status.busy": "2021-03-26T09:40:19.892242Z",
     "iopub.status.idle": "2021-03-26T09:40:19.894400Z",
     "shell.execute_reply": "2021-03-26T09:40:19.894875Z"
    }
   },
   "outputs": [
    {
     "data": {
      "text/plain": [
       "java.lang.IllegalArgumentException: Invalid View: State View candidates are: Default Tree StateMachine Interconnection Activity Sequence MIXED \n",
       "\tat org.omg.sysml.plantuml.SysML2PlantUMLSvc.setView(SysML2PlantUMLSvc.java:63)\n",
       "\tat org.omg.sysml.interactive.SysMLInteractive.viz(SysMLInteractive.java:286)\n",
       "\tat org.omg.sysml.jupyter.kernel.magic.Viz.viz(Viz.java:47)\n",
       "\tat jdk.internal.reflect.GeneratedMethodAccessor9.invoke(Unknown Source)\n",
       "\tat java.base/jdk.internal.reflect.DelegatingMethodAccessorImpl.invoke(DelegatingMethodAccessorImpl.java:43)\n",
       "\tat java.base/java.lang.reflect.Method.invoke(Method.java:568)\n",
       "\tat io.github.spencerpark.jupyter.kernel.magic.registry.Magics.invoke(Magics.java:89)\n",
       "\tat io.github.spencerpark.jupyter.kernel.magic.registry.Magics.access$000(Magics.java:8)\n",
       "\tat io.github.spencerpark.jupyter.kernel.magic.registry.Magics$LineReflectionMagicFunction.execute(Magics.java:149)\n",
       "\tat io.github.spencerpark.jupyter.kernel.magic.registry.Magics.applyLineMagic(Magics.java:26)\n",
       "\tat org.omg.sysml.jupyter.kernel.SysMLKernel.eval(SysMLKernel.java:76)\n",
       "\tat io.github.spencerpark.jupyter.kernel.BaseKernel.handleExecuteRequest(BaseKernel.java:334)\n",
       "\tat io.github.spencerpark.jupyter.channels.ShellChannel.lambda$bind$0(ShellChannel.java:64)\n",
       "\tat io.github.spencerpark.jupyter.channels.Loop.lambda$new$0(Loop.java:21)\n",
       "\tat io.github.spencerpark.jupyter.channels.Loop.run(Loop.java:78)\n"
      ]
     },
     "execution_count": 53,
     "metadata": {},
     "output_type": "execute_result"
    }
   ],
   "source": [
    "%viz --style=\"ORTHOLINE\" --view=\"State\" \"CircularImport\""
   ]
  },
  {
   "cell_type": "code",
   "execution_count": 54,
   "id": "furnished-myanmar",
   "metadata": {
    "execution": {
     "iopub.execute_input": "2021-03-26T09:40:19.944451Z",
     "iopub.status.busy": "2021-03-26T09:40:19.944098Z",
     "iopub.status.idle": "2021-03-26T09:40:19.976936Z",
     "shell.execute_reply": "2021-03-26T09:40:19.975767Z"
    }
   },
   "outputs": [
    {
     "data": {
      "image/svg+xml": [
       "<?xml version=\"1.0\" encoding=\"UTF-8\" standalone=\"no\"?><svg xmlns=\"http://www.w3.org/2000/svg\" xmlns:xlink=\"http://www.w3.org/1999/xlink\" contentScriptType=\"application/ecmascript\" contentStyleType=\"text/css\" height=\"189px\" preserveAspectRatio=\"none\" style=\"width:886px;height:189px;\" version=\"1.1\" viewBox=\"0 0 886 189\" width=\"886px\" zoomAndPan=\"magnify\"><defs/><g><!--MD5=[fbc87193dbaf4d95561dea2c320d4a47]\n",
       "cluster E1--><polygon fill=\"#FFFFFF\" points=\"16,6,134,6,141,28.2969,864,28.2969,864,177,16,177,16,6\" style=\"stroke: #000000; stroke-width: 1.5;\"/><line style=\"stroke: #000000; stroke-width: 1.5;\" x1=\"16\" x2=\"141\" y1=\"28.2969\" y2=\"28.2969\"/><text fill=\"#000000\" font-family=\"sans-serif\" font-size=\"14\" font-weight=\"bold\" lengthAdjust=\"spacingAndGlyphs\" textLength=\"112\" x=\"20\" y=\"20.9951\">CircularImport</text><!--MD5=[e4f7fae6ed58524ba242bb0b0d3be6b7]\n",
       "cluster E2--><polygon fill=\"#FFFFFF\" points=\"716,49,742,49,749,71.2969,840,71.2969,840,153,716,153,716,49\" style=\"stroke: #000000; stroke-width: 1.5;\"/><line style=\"stroke: #000000; stroke-width: 1.5;\" x1=\"716\" x2=\"749\" y1=\"71.2969\" y2=\"71.2969\"/><text fill=\"#000000\" font-family=\"sans-serif\" font-size=\"14\" font-weight=\"bold\" lengthAdjust=\"spacingAndGlyphs\" textLength=\"20\" x=\"720\" y=\"63.9951\">P1</text><!--MD5=[f6df4d0ebaf0b5dfb2ced0ae5af7c670]\n",
       "cluster E4--><polygon fill=\"#FFFFFF\" points=\"568,49,594,49,601,71.2969,692,71.2969,692,153,568,153,568,49\" style=\"stroke: #000000; stroke-width: 1.5;\"/><line style=\"stroke: #000000; stroke-width: 1.5;\" x1=\"568\" x2=\"601\" y1=\"71.2969\" y2=\"71.2969\"/><text fill=\"#000000\" font-family=\"sans-serif\" font-size=\"14\" font-weight=\"bold\" lengthAdjust=\"spacingAndGlyphs\" textLength=\"20\" x=\"572\" y=\"63.9951\">P2</text><!--MD5=[14e3b0961a2654348d326746436168a1]\n",
       "cluster E6--><polygon fill=\"#FFFFFF\" points=\"377,50.5,428,50.5,435,72.7969,544,72.7969,544,151.5,377,151.5,377,50.5\" style=\"stroke: #000000; stroke-width: 1.5;\"/><line style=\"stroke: #000000; stroke-width: 1.5;\" x1=\"377\" x2=\"435\" y1=\"72.7969\" y2=\"72.7969\"/><text fill=\"#000000\" font-family=\"sans-serif\" font-size=\"14\" font-weight=\"bold\" lengthAdjust=\"spacingAndGlyphs\" textLength=\"45\" x=\"381\" y=\"65.4951\">Test1</text><!--MD5=[7f149f147074ac12df2cb0a7728a5fb0]\n",
       "cluster E9--><polygon fill=\"#FFFFFF\" points=\"186,50.5,237,50.5,244,72.7969,353,72.7969,353,151.5,186,151.5,186,50.5\" style=\"stroke: #000000; stroke-width: 1.5;\"/><line style=\"stroke: #000000; stroke-width: 1.5;\" x1=\"186\" x2=\"244\" y1=\"72.7969\" y2=\"72.7969\"/><text fill=\"#000000\" font-family=\"sans-serif\" font-size=\"14\" font-weight=\"bold\" lengthAdjust=\"spacingAndGlyphs\" textLength=\"45\" x=\"190\" y=\"65.4951\">Test2</text><!--MD5=[a60fb756f580feb9fd8e2cf1329b5c91]\n",
       "entity E3--><rect fill=\"#FFFFFF\" height=\"52.5938\" style=\"stroke: #000000; stroke-width: 1.5;\" width=\"91\" x=\"732.5\" y=\"84\"/><text fill=\"#000000\" font-family=\"sans-serif\" font-size=\"14\" font-style=\"italic\" lengthAdjust=\"spacingAndGlyphs\" textLength=\"71\" x=\"742.5\" y=\"106.9951\">«part def»</text><text fill=\"#000000\" font-family=\"sans-serif\" font-size=\"14\" lengthAdjust=\"spacingAndGlyphs\" textLength=\"9\" x=\"773.5\" y=\"123.292\">A</text><!--MD5=[21dd76c19d33815960c0e92fef8f0eef]\n",
       "entity E5--><rect fill=\"#FFFFFF\" height=\"52.5938\" style=\"stroke: #000000; stroke-width: 1.5;\" width=\"91\" x=\"584.5\" y=\"84\"/><text fill=\"#000000\" font-family=\"sans-serif\" font-size=\"14\" font-style=\"italic\" lengthAdjust=\"spacingAndGlyphs\" textLength=\"71\" x=\"594.5\" y=\"106.9951\">«part def»</text><text fill=\"#000000\" font-family=\"sans-serif\" font-size=\"14\" lengthAdjust=\"spacingAndGlyphs\" textLength=\"10\" x=\"625\" y=\"123.292\">B</text><g id=\"E1.E6.E7\"><rect fill=\"#FFFFFF\" height=\"50\" rx=\"12.5\" ry=\"12.5\" style=\"stroke: #383838; stroke-width: 1.5;\" width=\"50\" x=\"478\" y=\"85.5\"/><line style=\"stroke: #383838; stroke-width: 1.5;\" x1=\"478\" x2=\"528\" y1=\"111.7969\" y2=\"111.7969\"/><text fill=\"#000000\" font-family=\"sans-serif\" font-size=\"14\" lengthAdjust=\"spacingAndGlyphs\" textLength=\"25\" x=\"490.5\" y=\"103.4951\">x: A</text></g><g id=\"E1.E6.E8\"><rect fill=\"#FFFFFF\" height=\"50\" rx=\"12.5\" ry=\"12.5\" style=\"stroke: #383838; stroke-width: 1.5;\" width=\"50\" x=\"393\" y=\"85.5\"/><line style=\"stroke: #383838; stroke-width: 1.5;\" x1=\"393\" x2=\"443\" y1=\"111.7969\" y2=\"111.7969\"/><text fill=\"#000000\" font-family=\"sans-serif\" font-size=\"14\" lengthAdjust=\"spacingAndGlyphs\" textLength=\"26\" x=\"405\" y=\"103.4951\">y: B</text></g><g id=\"E1.E9.E10\"><rect fill=\"#FFFFFF\" height=\"50\" rx=\"12.5\" ry=\"12.5\" style=\"stroke: #383838; stroke-width: 1.5;\" width=\"50\" x=\"287\" y=\"85.5\"/><line style=\"stroke: #383838; stroke-width: 1.5;\" x1=\"287\" x2=\"337\" y1=\"111.7969\" y2=\"111.7969\"/><text fill=\"#000000\" font-family=\"sans-serif\" font-size=\"14\" lengthAdjust=\"spacingAndGlyphs\" textLength=\"25\" x=\"299.5\" y=\"103.4951\">x: A</text></g><g id=\"E1.E9.E11\"><rect fill=\"#FFFFFF\" height=\"50\" rx=\"12.5\" ry=\"12.5\" style=\"stroke: #383838; stroke-width: 1.5;\" width=\"50\" x=\"202\" y=\"85.5\"/><line style=\"stroke: #383838; stroke-width: 1.5;\" x1=\"202\" x2=\"252\" y1=\"111.7969\" y2=\"111.7969\"/><text fill=\"#000000\" font-family=\"sans-serif\" font-size=\"14\" lengthAdjust=\"spacingAndGlyphs\" textLength=\"26\" x=\"214\" y=\"103.4951\">y: B</text></g><g id=\"E1.E12\"><rect fill=\"#FFFFFF\" height=\"50\" rx=\"12.5\" ry=\"12.5\" style=\"stroke: #383838; stroke-width: 1.5;\" width=\"50\" x=\"117\" y=\"85.5\"/><line style=\"stroke: #383838; stroke-width: 1.5;\" x1=\"117\" x2=\"167\" y1=\"111.7969\" y2=\"111.7969\"/><text fill=\"#000000\" font-family=\"sans-serif\" font-size=\"14\" lengthAdjust=\"spacingAndGlyphs\" textLength=\"25\" x=\"129.5\" y=\"103.4951\">x: A</text></g><g id=\"E1.E13\"><rect fill=\"#FFFFFF\" height=\"50\" rx=\"12.5\" ry=\"12.5\" style=\"stroke: #383838; stroke-width: 1.5;\" width=\"50\" x=\"32\" y=\"85.5\"/><line style=\"stroke: #383838; stroke-width: 1.5;\" x1=\"32\" x2=\"82\" y1=\"111.7969\" y2=\"111.7969\"/><text fill=\"#000000\" font-family=\"sans-serif\" font-size=\"14\" lengthAdjust=\"spacingAndGlyphs\" textLength=\"26\" x=\"44\" y=\"103.4951\">y: B</text></g><!--MD5=[27c8f032d93abf7e23c705ff523c22ac]\n",
       "@startuml\r\n",
       "skinparam ranksep 8\r\n",
       "skinparam rectangle {\r\n",
       " backgroundColor<<block>> LightGreen\r\n",
       "}\r\n",
       "skinparam linetype ortho\r\n",
       "skinparam monochrome true\r\n",
       "skinparam classbackgroundcolor white\r\n",
       "skinparam shadowing false\r\n",
       "skinparam wrapWidth 300\r\n",
       "hide circle\r\n",
       "\r\n",
       "package \"CircularImport\" as E1   {\r\n",
       "package \"P1\" as E2   {\r\n",
       "rec def \"A\" as E3  <<part def>> {\r\n",
       "}\r\n",
       "}\r\n",
       "package \"P2\" as E4   {\r\n",
       "rec def \"B\" as E5  <<part def>> {\r\n",
       "}\r\n",
       "}\r\n",
       "package \"Test1\" as E6   {\r\n",
       "rec usage \"x: A\" as E7  {\r\n",
       "}\r\n",
       "rec usage \"y: B\" as E8  {\r\n",
       "}\r\n",
       "}\r\n",
       "package \"Test2\" as E9   {\r\n",
       "rec usage \"x: A\" as E10  {\r\n",
       "}\r\n",
       "rec usage \"y: B\" as E11  {\r\n",
       "}\r\n",
       "}\r\n",
       "rec usage \"x: A\" as E12  {\r\n",
       "}\r\n",
       "rec usage \"y: B\" as E13  {\r\n",
       "}\r\n",
       "}\r\n",
       "@enduml\r\n",
       "\n",
       "PlantUML version 1.2020.13(Sat Jun 13 12:26:38 UTC 2020)\n",
       "(EPL source distribution)\n",
       "Java Runtime: OpenJDK Runtime Environment\n",
       "JVM: OpenJDK 64-Bit Server VM\n",
       "Default Encoding: UTF-8\n",
       "Language: en\n",
       "Country: null\n",
       "--></g></svg>"
      ]
     },
     "execution_count": 54,
     "metadata": {},
     "output_type": "execute_result"
    }
   ],
   "source": [
    "%viz --style=\"ORTHOLINE\" --view=\"Interconnection\" \"CircularImport\""
   ]
  },
  {
   "cell_type": "code",
   "execution_count": 55,
   "id": "british-private",
   "metadata": {
    "execution": {
     "iopub.execute_input": "2021-03-26T09:40:20.026752Z",
     "iopub.status.busy": "2021-03-26T09:40:20.026414Z",
     "iopub.status.idle": "2021-03-26T09:40:20.028771Z",
     "shell.execute_reply": "2021-03-26T09:40:20.028358Z"
    }
   },
   "outputs": [
    {
     "data": {
      "text/plain": [
       "java.lang.IllegalArgumentException: Invalid View: Action View candidates are: Default Tree StateMachine Interconnection Activity Sequence MIXED \n",
       "\tat org.omg.sysml.plantuml.SysML2PlantUMLSvc.setView(SysML2PlantUMLSvc.java:63)\n",
       "\tat org.omg.sysml.interactive.SysMLInteractive.viz(SysMLInteractive.java:286)\n",
       "\tat org.omg.sysml.jupyter.kernel.magic.Viz.viz(Viz.java:47)\n",
       "\tat jdk.internal.reflect.GeneratedMethodAccessor9.invoke(Unknown Source)\n",
       "\tat java.base/jdk.internal.reflect.DelegatingMethodAccessorImpl.invoke(DelegatingMethodAccessorImpl.java:43)\n",
       "\tat java.base/java.lang.reflect.Method.invoke(Method.java:568)\n",
       "\tat io.github.spencerpark.jupyter.kernel.magic.registry.Magics.invoke(Magics.java:89)\n",
       "\tat io.github.spencerpark.jupyter.kernel.magic.registry.Magics.access$000(Magics.java:8)\n",
       "\tat io.github.spencerpark.jupyter.kernel.magic.registry.Magics$LineReflectionMagicFunction.execute(Magics.java:149)\n",
       "\tat io.github.spencerpark.jupyter.kernel.magic.registry.Magics.applyLineMagic(Magics.java:26)\n",
       "\tat org.omg.sysml.jupyter.kernel.SysMLKernel.eval(SysMLKernel.java:76)\n",
       "\tat io.github.spencerpark.jupyter.kernel.BaseKernel.handleExecuteRequest(BaseKernel.java:334)\n",
       "\tat io.github.spencerpark.jupyter.channels.ShellChannel.lambda$bind$0(ShellChannel.java:64)\n",
       "\tat io.github.spencerpark.jupyter.channels.Loop.lambda$new$0(Loop.java:21)\n",
       "\tat io.github.spencerpark.jupyter.channels.Loop.run(Loop.java:78)\n"
      ]
     },
     "execution_count": 55,
     "metadata": {},
     "output_type": "execute_result"
    }
   ],
   "source": [
    "%viz --style=\"ORTHOLINE\" --view=\"Action\" \"CircularImport\""
   ]
  },
  {
   "cell_type": "code",
   "execution_count": 56,
   "id": "subtle-startup",
   "metadata": {
    "execution": {
     "iopub.execute_input": "2021-03-26T09:40:20.080218Z",
     "iopub.status.busy": "2021-03-26T09:40:20.079748Z",
     "iopub.status.idle": "2021-03-26T09:40:20.111401Z",
     "shell.execute_reply": "2021-03-26T09:40:20.109933Z"
    }
   },
   "outputs": [
    {
     "data": {
      "image/svg+xml": [
       "<?xml version=\"1.0\" encoding=\"UTF-8\" standalone=\"no\"?><svg xmlns=\"http://www.w3.org/2000/svg\" xmlns:xlink=\"http://www.w3.org/1999/xlink\" contentScriptType=\"application/ecmascript\" contentStyleType=\"text/css\" height=\"303px\" preserveAspectRatio=\"none\" style=\"width:518px;height:303px;\" version=\"1.1\" viewBox=\"0 0 518 303\" width=\"518px\" zoomAndPan=\"magnify\"><defs/><g><!--MD5=[fbc87193dbaf4d95561dea2c320d4a47]\n",
       "cluster E1--><polygon fill=\"#FFFFFF\" points=\"16,6,134,6,141,28.2969,496,28.2969,496,291,16,291,16,6\" style=\"stroke: #000000; stroke-width: 1.5;\"/><line style=\"stroke: #000000; stroke-width: 1.5;\" x1=\"16\" x2=\"141\" y1=\"28.2969\" y2=\"28.2969\"/><text fill=\"#000000\" font-family=\"sans-serif\" font-size=\"14\" font-weight=\"bold\" lengthAdjust=\"spacingAndGlyphs\" textLength=\"112\" x=\"20\" y=\"20.9951\">CircularImport</text><!--MD5=[e4f7fae6ed58524ba242bb0b0d3be6b7]\n",
       "cluster E2--><polygon fill=\"#FFFFFF\" points=\"333,170,359,170,366,192.2969,431,192.2969,431,267,333,267,333,170\" style=\"stroke: #000000; stroke-width: 1.5;\"/><line style=\"stroke: #000000; stroke-width: 1.5;\" x1=\"333\" x2=\"366\" y1=\"192.2969\" y2=\"192.2969\"/><text fill=\"#000000\" font-family=\"sans-serif\" font-size=\"14\" font-weight=\"bold\" lengthAdjust=\"spacingAndGlyphs\" textLength=\"20\" x=\"337\" y=\"184.9951\">P1</text><!--MD5=[f6df4d0ebaf0b5dfb2ced0ae5af7c670]\n",
       "cluster E4--><polygon fill=\"#FFFFFF\" points=\"81,170,107,170,114,192.2969,179,192.2969,179,267,81,267,81,170\" style=\"stroke: #000000; stroke-width: 1.5;\"/><line style=\"stroke: #000000; stroke-width: 1.5;\" x1=\"81\" x2=\"114\" y1=\"192.2969\" y2=\"192.2969\"/><text fill=\"#000000\" font-family=\"sans-serif\" font-size=\"14\" font-weight=\"bold\" lengthAdjust=\"spacingAndGlyphs\" textLength=\"20\" x=\"85\" y=\"184.9951\">P2</text><!--MD5=[14e3b0961a2654348d326746436168a1]\n",
       "cluster E6--><polygon fill=\"#FFFFFF\" points=\"268,49,319,49,326,71.2969,419,71.2969,419,146,268,146,268,49\" style=\"stroke: #000000; stroke-width: 1.5;\"/><line style=\"stroke: #000000; stroke-width: 1.5;\" x1=\"268\" x2=\"326\" y1=\"71.2969\" y2=\"71.2969\"/><text fill=\"#000000\" font-family=\"sans-serif\" font-size=\"14\" font-weight=\"bold\" lengthAdjust=\"spacingAndGlyphs\" textLength=\"45\" x=\"272\" y=\"63.9951\">Test1</text><!--MD5=[7f149f147074ac12df2cb0a7728a5fb0]\n",
       "cluster E9--><polygon fill=\"#FFFFFF\" points=\"93,49,144,49,151,71.2969,244,71.2969,244,146,93,146,93,49\" style=\"stroke: #000000; stroke-width: 1.5;\"/><line style=\"stroke: #000000; stroke-width: 1.5;\" x1=\"93\" x2=\"151\" y1=\"71.2969\" y2=\"71.2969\"/><text fill=\"#000000\" font-family=\"sans-serif\" font-size=\"14\" font-weight=\"bold\" lengthAdjust=\"spacingAndGlyphs\" textLength=\"45\" x=\"97\" y=\"63.9951\">Test2</text><!--MD5=[49a0ec8f00dab7302a31f22d0f0fe584]\n",
       "class E12--><rect fill=\"#FFFFFF\" height=\"45.9375\" id=\"E12\" rx=\"10\" ry=\"10\" style=\"stroke: #383838; stroke-width: 1.5;\" width=\"42\" x=\"438\" y=\"84\"/><text fill=\"#000000\" font-family=\"sans-serif\" font-size=\"12\" font-style=\"italic\" lengthAdjust=\"spacingAndGlyphs\" textLength=\"40\" x=\"439\" y=\"100.1387\">«part»</text><text fill=\"#000000\" font-family=\"sans-serif\" font-size=\"12\" lengthAdjust=\"spacingAndGlyphs\" textLength=\"22\" x=\"448\" y=\"114.1074\">x: A</text><line style=\"stroke: #383838; stroke-width: 1.5;\" x1=\"439\" x2=\"479\" y1=\"121.9375\" y2=\"121.9375\"/><!--MD5=[ee3c913d1a06f366521f9ef512b67efe]\n",
       "class E13--><rect fill=\"#FFFFFF\" height=\"45.9375\" id=\"E13\" rx=\"10\" ry=\"10\" style=\"stroke: #383838; stroke-width: 1.5;\" width=\"42\" x=\"32\" y=\"84\"/><text fill=\"#000000\" font-family=\"sans-serif\" font-size=\"12\" font-style=\"italic\" lengthAdjust=\"spacingAndGlyphs\" textLength=\"40\" x=\"33\" y=\"100.1387\">«part»</text><text fill=\"#000000\" font-family=\"sans-serif\" font-size=\"12\" lengthAdjust=\"spacingAndGlyphs\" textLength=\"22\" x=\"42\" y=\"114.1074\">y: B</text><line style=\"stroke: #383838; stroke-width: 1.5;\" x1=\"33\" x2=\"73\" y1=\"121.9375\" y2=\"121.9375\"/><!--MD5=[09b614a08d8cba4a07c9adeb5e0fee81]\n",
       "class E3--><rect fill=\"#FFFFFF\" height=\"45.9375\" id=\"E3\" style=\"stroke: #383838; stroke-width: 1.5;\" width=\"66\" x=\"349\" y=\"205\"/><text fill=\"#000000\" font-family=\"sans-serif\" font-size=\"12\" font-style=\"italic\" lengthAdjust=\"spacingAndGlyphs\" textLength=\"64\" x=\"350\" y=\"221.1387\">«part def»</text><text fill=\"#000000\" font-family=\"sans-serif\" font-size=\"12\" lengthAdjust=\"spacingAndGlyphs\" textLength=\"8\" x=\"378\" y=\"235.1074\">A</text><line style=\"stroke: #383838; stroke-width: 1.5;\" x1=\"350\" x2=\"414\" y1=\"242.9375\" y2=\"242.9375\"/><!--MD5=[270fce915f116d4de14055a7c1d9a0f3]\n",
       "class E5--><rect fill=\"#FFFFFF\" height=\"45.9375\" id=\"E5\" style=\"stroke: #383838; stroke-width: 1.5;\" width=\"66\" x=\"97\" y=\"205\"/><text fill=\"#000000\" font-family=\"sans-serif\" font-size=\"12\" font-style=\"italic\" lengthAdjust=\"spacingAndGlyphs\" textLength=\"64\" x=\"98\" y=\"221.1387\">«part def»</text><text fill=\"#000000\" font-family=\"sans-serif\" font-size=\"12\" lengthAdjust=\"spacingAndGlyphs\" textLength=\"8\" x=\"126\" y=\"235.1074\">B</text><line style=\"stroke: #383838; stroke-width: 1.5;\" x1=\"98\" x2=\"162\" y1=\"242.9375\" y2=\"242.9375\"/><!--MD5=[2156ba9850f5573cc1fc38a6a4b2f02b]\n",
       "class E7--><rect fill=\"#FFFFFF\" height=\"45.9375\" id=\"E7\" rx=\"10\" ry=\"10\" style=\"stroke: #383838; stroke-width: 1.5;\" width=\"42\" x=\"361\" y=\"84\"/><text fill=\"#000000\" font-family=\"sans-serif\" font-size=\"12\" font-style=\"italic\" lengthAdjust=\"spacingAndGlyphs\" textLength=\"40\" x=\"362\" y=\"100.1387\">«part»</text><text fill=\"#000000\" font-family=\"sans-serif\" font-size=\"12\" lengthAdjust=\"spacingAndGlyphs\" textLength=\"22\" x=\"371\" y=\"114.1074\">x: A</text><line style=\"stroke: #383838; stroke-width: 1.5;\" x1=\"362\" x2=\"402\" y1=\"121.9375\" y2=\"121.9375\"/><!--MD5=[b9389687b975829384b498ac4b7476b2]\n",
       "class E8--><rect fill=\"#FFFFFF\" height=\"45.9375\" id=\"E8\" rx=\"10\" ry=\"10\" style=\"stroke: #383838; stroke-width: 1.5;\" width=\"42\" x=\"284\" y=\"84\"/><text fill=\"#000000\" font-family=\"sans-serif\" font-size=\"12\" font-style=\"italic\" lengthAdjust=\"spacingAndGlyphs\" textLength=\"40\" x=\"285\" y=\"100.1387\">«part»</text><text fill=\"#000000\" font-family=\"sans-serif\" font-size=\"12\" lengthAdjust=\"spacingAndGlyphs\" textLength=\"22\" x=\"294\" y=\"114.1074\">y: B</text><line style=\"stroke: #383838; stroke-width: 1.5;\" x1=\"285\" x2=\"325\" y1=\"121.9375\" y2=\"121.9375\"/><!--MD5=[96f4274e9e20536e775497830990834d]\n",
       "class E10--><rect fill=\"#FFFFFF\" height=\"45.9375\" id=\"E10\" rx=\"10\" ry=\"10\" style=\"stroke: #383838; stroke-width: 1.5;\" width=\"42\" x=\"186\" y=\"84\"/><text fill=\"#000000\" font-family=\"sans-serif\" font-size=\"12\" font-style=\"italic\" lengthAdjust=\"spacingAndGlyphs\" textLength=\"40\" x=\"187\" y=\"100.1387\">«part»</text><text fill=\"#000000\" font-family=\"sans-serif\" font-size=\"12\" lengthAdjust=\"spacingAndGlyphs\" textLength=\"22\" x=\"196\" y=\"114.1074\">x: A</text><line style=\"stroke: #383838; stroke-width: 1.5;\" x1=\"187\" x2=\"227\" y1=\"121.9375\" y2=\"121.9375\"/><!--MD5=[1dd1bfd58a279cf63c5f349dbc8fc6a1]\n",
       "class E11--><rect fill=\"#FFFFFF\" height=\"45.9375\" id=\"E11\" rx=\"10\" ry=\"10\" style=\"stroke: #383838; stroke-width: 1.5;\" width=\"42\" x=\"109\" y=\"84\"/><text fill=\"#000000\" font-family=\"sans-serif\" font-size=\"12\" font-style=\"italic\" lengthAdjust=\"spacingAndGlyphs\" textLength=\"40\" x=\"110\" y=\"100.1387\">«part»</text><text fill=\"#000000\" font-family=\"sans-serif\" font-size=\"12\" lengthAdjust=\"spacingAndGlyphs\" textLength=\"22\" x=\"119\" y=\"114.1074\">y: B</text><line style=\"stroke: #383838; stroke-width: 1.5;\" x1=\"110\" x2=\"150\" y1=\"121.9375\" y2=\"121.9375\"/><!--MD5=[14ccda38c055a5c0da953d572bc50960]\n",
       "link E7 to E3--><path d=\"M382,130.04 C382,130.04 382,184.63 382,184.63 \" fill=\"none\" id=\"E7-&gt;E3\" style=\"stroke: #383838; stroke-width: 1.0;\"/><polygon fill=\"#FFFFFF\" points=\"382,204.63,375,185.63,389,185.63,382,204.63\" style=\"stroke: #383838; stroke-width: 1.0;\"/><ellipse cx=\"377\" cy=\"179.93\" fill=\"#383838\" rx=\"2\" ry=\"2\" style=\"stroke: #383838; stroke-width: 1.0;\"/><ellipse cx=\"387\" cy=\"179.93\" fill=\"#383838\" rx=\"2\" ry=\"2\" style=\"stroke: #383838; stroke-width: 1.0;\"/><!--MD5=[1ccb2481ffa92f8d51a74ee30c51832a]\n",
       "link E8 to E5--><path d=\"M305,130.06 C305,167.17 305,236 305,236 C305,236 183.33,236 183.33,236 \" fill=\"none\" id=\"E8-&gt;E5\" style=\"stroke: #383838; stroke-width: 1.0;\"/><polygon fill=\"#FFFFFF\" points=\"163.33,236,182.33,229,182.33,243,163.33,236\" style=\"stroke: #383838; stroke-width: 1.0;\"/><ellipse cx=\"188.03\" cy=\"231\" fill=\"#383838\" rx=\"2\" ry=\"2\" style=\"stroke: #383838; stroke-width: 1.0;\"/><ellipse cx=\"188.03\" cy=\"241\" fill=\"#383838\" rx=\"2\" ry=\"2\" style=\"stroke: #383838; stroke-width: 1.0;\"/><!--MD5=[feeac5eb423634930294aa81f2d25a4c]\n",
       "link E10 to E3--><path d=\"M207,130.07 C207,163.38 207,221 207,221 C207,221 328.67,221 328.67,221 \" fill=\"none\" id=\"E10-&gt;E3\" style=\"stroke: #383838; stroke-width: 1.0;\"/><polygon fill=\"#FFFFFF\" points=\"348.67,221,329.67,228,329.67,214,348.67,221\" style=\"stroke: #383838; stroke-width: 1.0;\"/><ellipse cx=\"323.97\" cy=\"226\" fill=\"#383838\" rx=\"2\" ry=\"2\" style=\"stroke: #383838; stroke-width: 1.0;\"/><ellipse cx=\"323.97\" cy=\"216\" fill=\"#383838\" rx=\"2\" ry=\"2\" style=\"stroke: #383838; stroke-width: 1.0;\"/><!--MD5=[07b77f6f309248d16187045709d1c26e]\n",
       "link E11 to E5--><path d=\"M130,130.04 C130,130.04 130,184.63 130,184.63 \" fill=\"none\" id=\"E11-&gt;E5\" style=\"stroke: #383838; stroke-width: 1.0;\"/><polygon fill=\"#FFFFFF\" points=\"130,204.63,123,185.63,137,185.63,130,204.63\" style=\"stroke: #383838; stroke-width: 1.0;\"/><ellipse cx=\"125\" cy=\"179.93\" fill=\"#383838\" rx=\"2\" ry=\"2\" style=\"stroke: #383838; stroke-width: 1.0;\"/><ellipse cx=\"135\" cy=\"179.93\" fill=\"#383838\" rx=\"2\" ry=\"2\" style=\"stroke: #383838; stroke-width: 1.0;\"/><!--MD5=[39f41a0e550fb3d73b4d8135617e30a2]\n",
       "link E12 to E3--><path d=\"M437.8,107 C424.17,107 409,107 409,107 C409,107 409,184.96 409,184.96 \" fill=\"none\" id=\"E12-&gt;E3\" style=\"stroke: #383838; stroke-width: 1.0;\"/><polygon fill=\"#FFFFFF\" points=\"409,204.96,402,185.96,416,185.96,409,204.96\" style=\"stroke: #383838; stroke-width: 1.0;\"/><ellipse cx=\"404\" cy=\"180.26\" fill=\"#383838\" rx=\"2\" ry=\"2\" style=\"stroke: #383838; stroke-width: 1.0;\"/><ellipse cx=\"414\" cy=\"180.26\" fill=\"#383838\" rx=\"2\" ry=\"2\" style=\"stroke: #383838; stroke-width: 1.0;\"/><!--MD5=[066b2d8af59fea80ccdb3d54ad5c1091]\n",
       "link E13 to E5--><path d=\"M74.2,107 C87.83,107 103,107 103,107 C103,107 103,184.96 103,184.96 \" fill=\"none\" id=\"E13-&gt;E5\" style=\"stroke: #383838; stroke-width: 1.0;\"/><polygon fill=\"#FFFFFF\" points=\"103,204.96,96,185.96,110,185.96,103,204.96\" style=\"stroke: #383838; stroke-width: 1.0;\"/><ellipse cx=\"98\" cy=\"180.26\" fill=\"#383838\" rx=\"2\" ry=\"2\" style=\"stroke: #383838; stroke-width: 1.0;\"/><ellipse cx=\"108\" cy=\"180.26\" fill=\"#383838\" rx=\"2\" ry=\"2\" style=\"stroke: #383838; stroke-width: 1.0;\"/><!--MD5=[22806fa19e1720748ac394aedba881c8]\n",
       "@startuml\r\n",
       "skinparam linetype ortho\r\n",
       "skinparam monochrome true\r\n",
       "skinparam classbackgroundcolor white\r\n",
       "skinparam shadowing false\r\n",
       "skinparam wrapWidth 300\r\n",
       "hide circle\r\n",
       "\r\n",
       "package \"CircularImport\" as E1   {\r\n",
       "package \"P1\" as E2   {\r\n",
       "comp def \"A\" as E3  <<(T,blue)part def>> {\r\n",
       "}\r\n",
       "}\r\n",
       "package \"P2\" as E4   {\r\n",
       "comp def \"B\" as E5  <<(T,blue)part def>> {\r\n",
       "}\r\n",
       "}\r\n",
       "package \"Test1\" as E6   {\r\n",
       "comp usage \"x: A\" as E7  <<(T,blue)part>> {\r\n",
       "}\r\n",
       "comp usage \"y: B\" as E8  <<(T,blue)part>> {\r\n",
       "}\r\n",
       "E7 - -:|> E3\r\n",
       "E8 - -:|> E5\r\n",
       "}\r\n",
       "package \"Test2\" as E9   {\r\n",
       "comp usage \"x: A\" as E10  <<(T,blue)part>> {\r\n",
       "}\r\n",
       "comp usage \"y: B\" as E11  <<(T,blue)part>> {\r\n",
       "}\r\n",
       "E10 - -:|> E3\r\n",
       "E11 - -:|> E5\r\n",
       "}\r\n",
       "comp usage \"x: A\" as E12  <<(T,blue)part>> {\r\n",
       "}\r\n",
       "comp usage \"y: B\" as E13  <<(T,blue)part>> {\r\n",
       "}\r\n",
       "E12 - -:|> E3\r\n",
       "E13 - -:|> E5\r\n",
       "}\r\n",
       "@enduml\r\n",
       "\n",
       "PlantUML version 1.2020.13(Sat Jun 13 12:26:38 UTC 2020)\n",
       "(EPL source distribution)\n",
       "Java Runtime: OpenJDK Runtime Environment\n",
       "JVM: OpenJDK 64-Bit Server VM\n",
       "Default Encoding: UTF-8\n",
       "Language: en\n",
       "Country: null\n",
       "--></g></svg>"
      ]
     },
     "execution_count": 56,
     "metadata": {},
     "output_type": "execute_result"
    }
   ],
   "source": [
    "%viz --style=\"ORTHOLINE\" --view=\"Sequence\" \"CircularImport\""
   ]
  },
  {
   "cell_type": "code",
   "execution_count": 57,
   "id": "popular-proof",
   "metadata": {
    "execution": {
     "iopub.execute_input": "2021-03-26T09:40:20.163414Z",
     "iopub.status.busy": "2021-03-26T09:40:20.162628Z",
     "iopub.status.idle": "2021-03-26T09:40:20.195216Z",
     "shell.execute_reply": "2021-03-26T09:40:20.193805Z"
    }
   },
   "outputs": [
    {
     "data": {
      "image/svg+xml": [
       "<?xml version=\"1.0\" encoding=\"UTF-8\" standalone=\"no\"?><svg xmlns=\"http://www.w3.org/2000/svg\" xmlns:xlink=\"http://www.w3.org/1999/xlink\" contentScriptType=\"application/ecmascript\" contentStyleType=\"text/css\" height=\"303px\" preserveAspectRatio=\"none\" style=\"width:518px;height:303px;\" version=\"1.1\" viewBox=\"0 0 518 303\" width=\"518px\" zoomAndPan=\"magnify\"><defs/><g><!--MD5=[fbc87193dbaf4d95561dea2c320d4a47]\n",
       "cluster E1--><polygon fill=\"#FFFFFF\" points=\"16,6,134,6,141,28.2969,496,28.2969,496,291,16,291,16,6\" style=\"stroke: #000000; stroke-width: 1.5;\"/><line style=\"stroke: #000000; stroke-width: 1.5;\" x1=\"16\" x2=\"141\" y1=\"28.2969\" y2=\"28.2969\"/><text fill=\"#000000\" font-family=\"sans-serif\" font-size=\"14\" font-weight=\"bold\" lengthAdjust=\"spacingAndGlyphs\" textLength=\"112\" x=\"20\" y=\"20.9951\">CircularImport</text><!--MD5=[e4f7fae6ed58524ba242bb0b0d3be6b7]\n",
       "cluster E2--><polygon fill=\"#FFFFFF\" points=\"333,170,359,170,366,192.2969,431,192.2969,431,267,333,267,333,170\" style=\"stroke: #000000; stroke-width: 1.5;\"/><line style=\"stroke: #000000; stroke-width: 1.5;\" x1=\"333\" x2=\"366\" y1=\"192.2969\" y2=\"192.2969\"/><text fill=\"#000000\" font-family=\"sans-serif\" font-size=\"14\" font-weight=\"bold\" lengthAdjust=\"spacingAndGlyphs\" textLength=\"20\" x=\"337\" y=\"184.9951\">P1</text><!--MD5=[f6df4d0ebaf0b5dfb2ced0ae5af7c670]\n",
       "cluster E4--><polygon fill=\"#FFFFFF\" points=\"81,170,107,170,114,192.2969,179,192.2969,179,267,81,267,81,170\" style=\"stroke: #000000; stroke-width: 1.5;\"/><line style=\"stroke: #000000; stroke-width: 1.5;\" x1=\"81\" x2=\"114\" y1=\"192.2969\" y2=\"192.2969\"/><text fill=\"#000000\" font-family=\"sans-serif\" font-size=\"14\" font-weight=\"bold\" lengthAdjust=\"spacingAndGlyphs\" textLength=\"20\" x=\"85\" y=\"184.9951\">P2</text><!--MD5=[14e3b0961a2654348d326746436168a1]\n",
       "cluster E6--><polygon fill=\"#FFFFFF\" points=\"268,49,319,49,326,71.2969,419,71.2969,419,146,268,146,268,49\" style=\"stroke: #000000; stroke-width: 1.5;\"/><line style=\"stroke: #000000; stroke-width: 1.5;\" x1=\"268\" x2=\"326\" y1=\"71.2969\" y2=\"71.2969\"/><text fill=\"#000000\" font-family=\"sans-serif\" font-size=\"14\" font-weight=\"bold\" lengthAdjust=\"spacingAndGlyphs\" textLength=\"45\" x=\"272\" y=\"63.9951\">Test1</text><!--MD5=[7f149f147074ac12df2cb0a7728a5fb0]\n",
       "cluster E9--><polygon fill=\"#FFFFFF\" points=\"93,49,144,49,151,71.2969,244,71.2969,244,146,93,146,93,49\" style=\"stroke: #000000; stroke-width: 1.5;\"/><line style=\"stroke: #000000; stroke-width: 1.5;\" x1=\"93\" x2=\"151\" y1=\"71.2969\" y2=\"71.2969\"/><text fill=\"#000000\" font-family=\"sans-serif\" font-size=\"14\" font-weight=\"bold\" lengthAdjust=\"spacingAndGlyphs\" textLength=\"45\" x=\"97\" y=\"63.9951\">Test2</text><!--MD5=[49a0ec8f00dab7302a31f22d0f0fe584]\n",
       "class E12--><rect fill=\"#FFFFFF\" height=\"45.9375\" id=\"E12\" rx=\"10\" ry=\"10\" style=\"stroke: #383838; stroke-width: 1.5;\" width=\"42\" x=\"438\" y=\"84\"/><text fill=\"#000000\" font-family=\"sans-serif\" font-size=\"12\" font-style=\"italic\" lengthAdjust=\"spacingAndGlyphs\" textLength=\"40\" x=\"439\" y=\"100.1387\">«part»</text><text fill=\"#000000\" font-family=\"sans-serif\" font-size=\"12\" lengthAdjust=\"spacingAndGlyphs\" textLength=\"22\" x=\"448\" y=\"114.1074\">x: A</text><line style=\"stroke: #383838; stroke-width: 1.5;\" x1=\"439\" x2=\"479\" y1=\"121.9375\" y2=\"121.9375\"/><!--MD5=[ee3c913d1a06f366521f9ef512b67efe]\n",
       "class E13--><rect fill=\"#FFFFFF\" height=\"45.9375\" id=\"E13\" rx=\"10\" ry=\"10\" style=\"stroke: #383838; stroke-width: 1.5;\" width=\"42\" x=\"32\" y=\"84\"/><text fill=\"#000000\" font-family=\"sans-serif\" font-size=\"12\" font-style=\"italic\" lengthAdjust=\"spacingAndGlyphs\" textLength=\"40\" x=\"33\" y=\"100.1387\">«part»</text><text fill=\"#000000\" font-family=\"sans-serif\" font-size=\"12\" lengthAdjust=\"spacingAndGlyphs\" textLength=\"22\" x=\"42\" y=\"114.1074\">y: B</text><line style=\"stroke: #383838; stroke-width: 1.5;\" x1=\"33\" x2=\"73\" y1=\"121.9375\" y2=\"121.9375\"/><!--MD5=[09b614a08d8cba4a07c9adeb5e0fee81]\n",
       "class E3--><rect fill=\"#FFFFFF\" height=\"45.9375\" id=\"E3\" style=\"stroke: #383838; stroke-width: 1.5;\" width=\"66\" x=\"349\" y=\"205\"/><text fill=\"#000000\" font-family=\"sans-serif\" font-size=\"12\" font-style=\"italic\" lengthAdjust=\"spacingAndGlyphs\" textLength=\"64\" x=\"350\" y=\"221.1387\">«part def»</text><text fill=\"#000000\" font-family=\"sans-serif\" font-size=\"12\" lengthAdjust=\"spacingAndGlyphs\" textLength=\"8\" x=\"378\" y=\"235.1074\">A</text><line style=\"stroke: #383838; stroke-width: 1.5;\" x1=\"350\" x2=\"414\" y1=\"242.9375\" y2=\"242.9375\"/><!--MD5=[270fce915f116d4de14055a7c1d9a0f3]\n",
       "class E5--><rect fill=\"#FFFFFF\" height=\"45.9375\" id=\"E5\" style=\"stroke: #383838; stroke-width: 1.5;\" width=\"66\" x=\"97\" y=\"205\"/><text fill=\"#000000\" font-family=\"sans-serif\" font-size=\"12\" font-style=\"italic\" lengthAdjust=\"spacingAndGlyphs\" textLength=\"64\" x=\"98\" y=\"221.1387\">«part def»</text><text fill=\"#000000\" font-family=\"sans-serif\" font-size=\"12\" lengthAdjust=\"spacingAndGlyphs\" textLength=\"8\" x=\"126\" y=\"235.1074\">B</text><line style=\"stroke: #383838; stroke-width: 1.5;\" x1=\"98\" x2=\"162\" y1=\"242.9375\" y2=\"242.9375\"/><!--MD5=[2156ba9850f5573cc1fc38a6a4b2f02b]\n",
       "class E7--><rect fill=\"#FFFFFF\" height=\"45.9375\" id=\"E7\" rx=\"10\" ry=\"10\" style=\"stroke: #383838; stroke-width: 1.5;\" width=\"42\" x=\"361\" y=\"84\"/><text fill=\"#000000\" font-family=\"sans-serif\" font-size=\"12\" font-style=\"italic\" lengthAdjust=\"spacingAndGlyphs\" textLength=\"40\" x=\"362\" y=\"100.1387\">«part»</text><text fill=\"#000000\" font-family=\"sans-serif\" font-size=\"12\" lengthAdjust=\"spacingAndGlyphs\" textLength=\"22\" x=\"371\" y=\"114.1074\">x: A</text><line style=\"stroke: #383838; stroke-width: 1.5;\" x1=\"362\" x2=\"402\" y1=\"121.9375\" y2=\"121.9375\"/><!--MD5=[b9389687b975829384b498ac4b7476b2]\n",
       "class E8--><rect fill=\"#FFFFFF\" height=\"45.9375\" id=\"E8\" rx=\"10\" ry=\"10\" style=\"stroke: #383838; stroke-width: 1.5;\" width=\"42\" x=\"284\" y=\"84\"/><text fill=\"#000000\" font-family=\"sans-serif\" font-size=\"12\" font-style=\"italic\" lengthAdjust=\"spacingAndGlyphs\" textLength=\"40\" x=\"285\" y=\"100.1387\">«part»</text><text fill=\"#000000\" font-family=\"sans-serif\" font-size=\"12\" lengthAdjust=\"spacingAndGlyphs\" textLength=\"22\" x=\"294\" y=\"114.1074\">y: B</text><line style=\"stroke: #383838; stroke-width: 1.5;\" x1=\"285\" x2=\"325\" y1=\"121.9375\" y2=\"121.9375\"/><!--MD5=[96f4274e9e20536e775497830990834d]\n",
       "class E10--><rect fill=\"#FFFFFF\" height=\"45.9375\" id=\"E10\" rx=\"10\" ry=\"10\" style=\"stroke: #383838; stroke-width: 1.5;\" width=\"42\" x=\"186\" y=\"84\"/><text fill=\"#000000\" font-family=\"sans-serif\" font-size=\"12\" font-style=\"italic\" lengthAdjust=\"spacingAndGlyphs\" textLength=\"40\" x=\"187\" y=\"100.1387\">«part»</text><text fill=\"#000000\" font-family=\"sans-serif\" font-size=\"12\" lengthAdjust=\"spacingAndGlyphs\" textLength=\"22\" x=\"196\" y=\"114.1074\">x: A</text><line style=\"stroke: #383838; stroke-width: 1.5;\" x1=\"187\" x2=\"227\" y1=\"121.9375\" y2=\"121.9375\"/><!--MD5=[1dd1bfd58a279cf63c5f349dbc8fc6a1]\n",
       "class E11--><rect fill=\"#FFFFFF\" height=\"45.9375\" id=\"E11\" rx=\"10\" ry=\"10\" style=\"stroke: #383838; stroke-width: 1.5;\" width=\"42\" x=\"109\" y=\"84\"/><text fill=\"#000000\" font-family=\"sans-serif\" font-size=\"12\" font-style=\"italic\" lengthAdjust=\"spacingAndGlyphs\" textLength=\"40\" x=\"110\" y=\"100.1387\">«part»</text><text fill=\"#000000\" font-family=\"sans-serif\" font-size=\"12\" lengthAdjust=\"spacingAndGlyphs\" textLength=\"22\" x=\"119\" y=\"114.1074\">y: B</text><line style=\"stroke: #383838; stroke-width: 1.5;\" x1=\"110\" x2=\"150\" y1=\"121.9375\" y2=\"121.9375\"/><!--MD5=[14ccda38c055a5c0da953d572bc50960]\n",
       "link E7 to E3--><path d=\"M382,130.04 C382,130.04 382,184.63 382,184.63 \" fill=\"none\" id=\"E7-&gt;E3\" style=\"stroke: #383838; stroke-width: 1.0;\"/><polygon fill=\"#FFFFFF\" points=\"382,204.63,375,185.63,389,185.63,382,204.63\" style=\"stroke: #383838; stroke-width: 1.0;\"/><ellipse cx=\"377\" cy=\"179.93\" fill=\"#383838\" rx=\"2\" ry=\"2\" style=\"stroke: #383838; stroke-width: 1.0;\"/><ellipse cx=\"387\" cy=\"179.93\" fill=\"#383838\" rx=\"2\" ry=\"2\" style=\"stroke: #383838; stroke-width: 1.0;\"/><!--MD5=[1ccb2481ffa92f8d51a74ee30c51832a]\n",
       "link E8 to E5--><path d=\"M305,130.06 C305,167.17 305,236 305,236 C305,236 183.33,236 183.33,236 \" fill=\"none\" id=\"E8-&gt;E5\" style=\"stroke: #383838; stroke-width: 1.0;\"/><polygon fill=\"#FFFFFF\" points=\"163.33,236,182.33,229,182.33,243,163.33,236\" style=\"stroke: #383838; stroke-width: 1.0;\"/><ellipse cx=\"188.03\" cy=\"231\" fill=\"#383838\" rx=\"2\" ry=\"2\" style=\"stroke: #383838; stroke-width: 1.0;\"/><ellipse cx=\"188.03\" cy=\"241\" fill=\"#383838\" rx=\"2\" ry=\"2\" style=\"stroke: #383838; stroke-width: 1.0;\"/><!--MD5=[feeac5eb423634930294aa81f2d25a4c]\n",
       "link E10 to E3--><path d=\"M207,130.07 C207,163.38 207,221 207,221 C207,221 328.67,221 328.67,221 \" fill=\"none\" id=\"E10-&gt;E3\" style=\"stroke: #383838; stroke-width: 1.0;\"/><polygon fill=\"#FFFFFF\" points=\"348.67,221,329.67,228,329.67,214,348.67,221\" style=\"stroke: #383838; stroke-width: 1.0;\"/><ellipse cx=\"323.97\" cy=\"226\" fill=\"#383838\" rx=\"2\" ry=\"2\" style=\"stroke: #383838; stroke-width: 1.0;\"/><ellipse cx=\"323.97\" cy=\"216\" fill=\"#383838\" rx=\"2\" ry=\"2\" style=\"stroke: #383838; stroke-width: 1.0;\"/><!--MD5=[07b77f6f309248d16187045709d1c26e]\n",
       "link E11 to E5--><path d=\"M130,130.04 C130,130.04 130,184.63 130,184.63 \" fill=\"none\" id=\"E11-&gt;E5\" style=\"stroke: #383838; stroke-width: 1.0;\"/><polygon fill=\"#FFFFFF\" points=\"130,204.63,123,185.63,137,185.63,130,204.63\" style=\"stroke: #383838; stroke-width: 1.0;\"/><ellipse cx=\"125\" cy=\"179.93\" fill=\"#383838\" rx=\"2\" ry=\"2\" style=\"stroke: #383838; stroke-width: 1.0;\"/><ellipse cx=\"135\" cy=\"179.93\" fill=\"#383838\" rx=\"2\" ry=\"2\" style=\"stroke: #383838; stroke-width: 1.0;\"/><!--MD5=[39f41a0e550fb3d73b4d8135617e30a2]\n",
       "link E12 to E3--><path d=\"M437.8,107 C424.17,107 409,107 409,107 C409,107 409,184.96 409,184.96 \" fill=\"none\" id=\"E12-&gt;E3\" style=\"stroke: #383838; stroke-width: 1.0;\"/><polygon fill=\"#FFFFFF\" points=\"409,204.96,402,185.96,416,185.96,409,204.96\" style=\"stroke: #383838; stroke-width: 1.0;\"/><ellipse cx=\"404\" cy=\"180.26\" fill=\"#383838\" rx=\"2\" ry=\"2\" style=\"stroke: #383838; stroke-width: 1.0;\"/><ellipse cx=\"414\" cy=\"180.26\" fill=\"#383838\" rx=\"2\" ry=\"2\" style=\"stroke: #383838; stroke-width: 1.0;\"/><!--MD5=[066b2d8af59fea80ccdb3d54ad5c1091]\n",
       "link E13 to E5--><path d=\"M74.2,107 C87.83,107 103,107 103,107 C103,107 103,184.96 103,184.96 \" fill=\"none\" id=\"E13-&gt;E5\" style=\"stroke: #383838; stroke-width: 1.0;\"/><polygon fill=\"#FFFFFF\" points=\"103,204.96,96,185.96,110,185.96,103,204.96\" style=\"stroke: #383838; stroke-width: 1.0;\"/><ellipse cx=\"98\" cy=\"180.26\" fill=\"#383838\" rx=\"2\" ry=\"2\" style=\"stroke: #383838; stroke-width: 1.0;\"/><ellipse cx=\"108\" cy=\"180.26\" fill=\"#383838\" rx=\"2\" ry=\"2\" style=\"stroke: #383838; stroke-width: 1.0;\"/><!--MD5=[22806fa19e1720748ac394aedba881c8]\n",
       "@startuml\r\n",
       "skinparam linetype ortho\r\n",
       "skinparam monochrome true\r\n",
       "skinparam classbackgroundcolor white\r\n",
       "skinparam shadowing false\r\n",
       "skinparam wrapWidth 300\r\n",
       "hide circle\r\n",
       "\r\n",
       "package \"CircularImport\" as E1   {\r\n",
       "package \"P1\" as E2   {\r\n",
       "comp def \"A\" as E3  <<(T,blue)part def>> {\r\n",
       "}\r\n",
       "}\r\n",
       "package \"P2\" as E4   {\r\n",
       "comp def \"B\" as E5  <<(T,blue)part def>> {\r\n",
       "}\r\n",
       "}\r\n",
       "package \"Test1\" as E6   {\r\n",
       "comp usage \"x: A\" as E7  <<(T,blue)part>> {\r\n",
       "}\r\n",
       "comp usage \"y: B\" as E8  <<(T,blue)part>> {\r\n",
       "}\r\n",
       "E7 - -:|> E3\r\n",
       "E8 - -:|> E5\r\n",
       "}\r\n",
       "package \"Test2\" as E9   {\r\n",
       "comp usage \"x: A\" as E10  <<(T,blue)part>> {\r\n",
       "}\r\n",
       "comp usage \"y: B\" as E11  <<(T,blue)part>> {\r\n",
       "}\r\n",
       "E10 - -:|> E3\r\n",
       "E11 - -:|> E5\r\n",
       "}\r\n",
       "comp usage \"x: A\" as E12  <<(T,blue)part>> {\r\n",
       "}\r\n",
       "comp usage \"y: B\" as E13  <<(T,blue)part>> {\r\n",
       "}\r\n",
       "E12 - -:|> E3\r\n",
       "E13 - -:|> E5\r\n",
       "}\r\n",
       "@enduml\r\n",
       "\n",
       "PlantUML version 1.2020.13(Sat Jun 13 12:26:38 UTC 2020)\n",
       "(EPL source distribution)\n",
       "Java Runtime: OpenJDK Runtime Environment\n",
       "JVM: OpenJDK 64-Bit Server VM\n",
       "Default Encoding: UTF-8\n",
       "Language: en\n",
       "Country: null\n",
       "--></g></svg>"
      ]
     },
     "execution_count": 57,
     "metadata": {},
     "output_type": "execute_result"
    }
   ],
   "source": [
    "%viz --style=\"ORTHOLINE\" --view=\"MIXED\" \"CircularImport\""
   ]
  }
 ],
 "metadata": {
  "kernelspec": {
   "display_name": "SysML",
   "language": "sysml",
   "name": "sysml"
  },
  "language_info": {
   "codemirror_mode": "sysml",
   "file_extension": ".sysml",
   "mimetype": "text/x-sysml",
   "name": "SysML",
   "pygments_lexer": "java",
   "version": "1.0.0"
  }
 },
 "nbformat": 4,
 "nbformat_minor": 5
}
